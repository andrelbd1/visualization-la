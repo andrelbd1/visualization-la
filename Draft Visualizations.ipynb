{
 "cells": [
  {
   "cell_type": "markdown",
   "metadata": {},
   "source": [
    "### View 001"
   ]
  },
  {
   "cell_type": "code",
   "execution_count": 7,
   "metadata": {
    "scrolled": true
   },
   "outputs": [
    {
     "data": {
      "text/html": [
       "<script>requirejs.config({paths: { 'plotly': ['https://cdn.plot.ly/plotly-latest.min']},});if(!window.Plotly) {{require(['plotly'],function(plotly) {window.Plotly=plotly;});}}</script>"
      ],
      "text/vnd.plotly.v1+html": [
       "<script>requirejs.config({paths: { 'plotly': ['https://cdn.plot.ly/plotly-latest.min']},});if(!window.Plotly) {{require(['plotly'],function(plotly) {window.Plotly=plotly;});}}</script>"
      ]
     },
     "metadata": {},
     "output_type": "display_data"
    },
    {
     "data": {
      "application/vnd.plotly.v1+json": {
       "data": [
        {
         "cells": {
          "align": [
           "left",
           "center"
          ],
          "fill": {
           "color": "#F5F8FF"
          },
          "values": [
           [
            "Student_1",
            "Student_2",
            "Student_3",
            "Student_4",
            "Student_5",
            "Student_6",
            "Student_7",
            "Student_8",
            "Student_9",
            "Student_10",
            "Student_11",
            "Student_12",
            "Student_13",
            "Student_14",
            "Student_15",
            "Student_16",
            "Student_17",
            "Student_18",
            "Student_19",
            "Student_20"
           ],
           [
            0,
            0,
            0,
            0,
            1,
            1,
            0,
            0,
            0,
            1,
            1,
            1,
            1,
            1,
            1,
            0,
            0,
            0,
            1,
            1
           ],
           [
            1,
            1,
            1,
            0,
            1,
            0,
            1,
            0,
            1,
            1,
            0,
            0,
            0,
            0,
            0,
            0,
            1,
            1,
            0,
            0
           ],
           [
            0,
            0,
            1,
            0,
            0,
            1,
            1,
            0,
            1,
            1,
            1,
            0,
            0,
            0,
            0,
            1,
            1,
            1,
            0,
            0
           ],
           [
            1,
            0,
            1,
            1,
            0,
            0,
            1,
            0,
            1,
            0,
            1,
            0,
            0,
            0,
            1,
            0,
            1,
            1,
            0,
            1
           ]
          ]
         },
         "header": {
          "align": "center",
          "fill": {
           "color": "#C2D4FF"
          },
          "values": [
           "Students",
           "Assign1",
           "Assign2",
           "Assign3",
           "Assign4"
          ]
         },
         "type": "table",
         "uid": "1c809f44-e2e9-11e8-96ad-27ad55f30ab3"
        }
       ],
       "layout": {}
      },
      "text/html": [
       "<div id=\"3b0a80ef-20ff-4e90-b091-994323873a8c\" style=\"height: 525px; width: 100%;\" class=\"plotly-graph-div\"></div><script type=\"text/javascript\">require([\"plotly\"], function(Plotly) { window.PLOTLYENV=window.PLOTLYENV || {};window.PLOTLYENV.BASE_URL=\"https://plot.ly\";Plotly.newPlot(\"3b0a80ef-20ff-4e90-b091-994323873a8c\", [{\"cells\": {\"align\": [\"left\", \"center\"], \"fill\": {\"color\": \"#F5F8FF\"}, \"values\": [[\"Student_1\", \"Student_2\", \"Student_3\", \"Student_4\", \"Student_5\", \"Student_6\", \"Student_7\", \"Student_8\", \"Student_9\", \"Student_10\", \"Student_11\", \"Student_12\", \"Student_13\", \"Student_14\", \"Student_15\", \"Student_16\", \"Student_17\", \"Student_18\", \"Student_19\", \"Student_20\"], [0, 0, 0, 0, 1, 1, 0, 0, 0, 1, 1, 1, 1, 1, 1, 0, 0, 0, 1, 1], [1, 1, 1, 0, 1, 0, 1, 0, 1, 1, 0, 0, 0, 0, 0, 0, 1, 1, 0, 0], [0, 0, 1, 0, 0, 1, 1, 0, 1, 1, 1, 0, 0, 0, 0, 1, 1, 1, 0, 0], [1, 0, 1, 1, 0, 0, 1, 0, 1, 0, 1, 0, 0, 0, 1, 0, 1, 1, 0, 1]]}, \"header\": {\"align\": \"center\", \"fill\": {\"color\": \"#C2D4FF\"}, \"values\": [\"Students\", \"Assign1\", \"Assign2\", \"Assign3\", \"Assign4\"]}, \"type\": \"table\", \"uid\": \"1c83214c-e2e9-11e8-96ad-27ad55f30ab3\"}], {}, {\"showLink\": true, \"linkText\": \"Export to plot.ly\"})});</script>"
      ],
      "text/vnd.plotly.v1+html": [
       "<div id=\"3b0a80ef-20ff-4e90-b091-994323873a8c\" style=\"height: 525px; width: 100%;\" class=\"plotly-graph-div\"></div><script type=\"text/javascript\">require([\"plotly\"], function(Plotly) { window.PLOTLYENV=window.PLOTLYENV || {};window.PLOTLYENV.BASE_URL=\"https://plot.ly\";Plotly.newPlot(\"3b0a80ef-20ff-4e90-b091-994323873a8c\", [{\"cells\": {\"align\": [\"left\", \"center\"], \"fill\": {\"color\": \"#F5F8FF\"}, \"values\": [[\"Student_1\", \"Student_2\", \"Student_3\", \"Student_4\", \"Student_5\", \"Student_6\", \"Student_7\", \"Student_8\", \"Student_9\", \"Student_10\", \"Student_11\", \"Student_12\", \"Student_13\", \"Student_14\", \"Student_15\", \"Student_16\", \"Student_17\", \"Student_18\", \"Student_19\", \"Student_20\"], [0, 0, 0, 0, 1, 1, 0, 0, 0, 1, 1, 1, 1, 1, 1, 0, 0, 0, 1, 1], [1, 1, 1, 0, 1, 0, 1, 0, 1, 1, 0, 0, 0, 0, 0, 0, 1, 1, 0, 0], [0, 0, 1, 0, 0, 1, 1, 0, 1, 1, 1, 0, 0, 0, 0, 1, 1, 1, 0, 0], [1, 0, 1, 1, 0, 0, 1, 0, 1, 0, 1, 0, 0, 0, 1, 0, 1, 1, 0, 1]]}, \"header\": {\"align\": \"center\", \"fill\": {\"color\": \"#C2D4FF\"}, \"values\": [\"Students\", \"Assign1\", \"Assign2\", \"Assign3\", \"Assign4\"]}, \"type\": \"table\", \"uid\": \"1c83214c-e2e9-11e8-96ad-27ad55f30ab3\"}], {}, {\"showLink\": true, \"linkText\": \"Export to plot.ly\"})});</script>"
      ]
     },
     "metadata": {},
     "output_type": "display_data"
    },
    {
     "data": {
      "application/vnd.plotly.v1+json": {
       "data": [
        {
         "type": "bar",
         "uid": "1c883876-e2e9-11e8-96ad-27ad55f30ab3",
         "x": [
          "Student_1",
          "Student_2",
          "Student_3",
          "Student_4",
          "Student_5",
          "Student_6",
          "Student_7",
          "Student_8",
          "Student_9",
          "Student_10",
          "Student_11",
          "Student_12",
          "Student_13",
          "Student_14",
          "Student_15",
          "Student_16",
          "Student_17",
          "Student_18",
          "Student_19",
          "Student_20"
         ],
         "y": [
          2,
          1,
          3,
          1,
          2,
          2,
          3,
          0,
          3,
          3,
          3,
          1,
          1,
          1,
          2,
          1,
          3,
          3,
          1,
          2
         ]
        }
       ],
       "layout": {
        "title": "Quantidade de tarefas feitas por alunos",
        "yaxis": {
         "dtick": 1,
         "exponentformat": "e",
         "gridcolor": "#bdbdbd",
         "showexponent": "all",
         "showticklabels": true,
         "tick0": 0,
         "titlefont": {
          "color": "lightgrey",
          "family": "Arial, sans-serif"
         }
        }
       }
      },
      "text/html": [
       "<div id=\"f0fa5a74-6c7a-4f8a-922c-1abd75f5d22e\" style=\"height: 525px; width: 100%;\" class=\"plotly-graph-div\"></div><script type=\"text/javascript\">require([\"plotly\"], function(Plotly) { window.PLOTLYENV=window.PLOTLYENV || {};window.PLOTLYENV.BASE_URL=\"https://plot.ly\";Plotly.newPlot(\"f0fa5a74-6c7a-4f8a-922c-1abd75f5d22e\", [{\"x\": [\"Student_1\", \"Student_2\", \"Student_3\", \"Student_4\", \"Student_5\", \"Student_6\", \"Student_7\", \"Student_8\", \"Student_9\", \"Student_10\", \"Student_11\", \"Student_12\", \"Student_13\", \"Student_14\", \"Student_15\", \"Student_16\", \"Student_17\", \"Student_18\", \"Student_19\", \"Student_20\"], \"y\": [2, 1, 3, 1, 2, 2, 3, 0, 3, 3, 3, 1, 1, 1, 2, 1, 3, 3, 1, 2], \"type\": \"bar\", \"uid\": \"1c883876-e2e9-11e8-96ad-27ad55f30ab3\"}], {\"title\": \"Quantidade de tarefas feitas por alunos\", \"yaxis\": {\"dtick\": 1, \"exponentformat\": \"e\", \"gridcolor\": \"#bdbdbd\", \"showexponent\": \"all\", \"showticklabels\": true, \"tick0\": 0, \"titlefont\": {\"color\": \"lightgrey\", \"family\": \"Arial, sans-serif\"}}}, {\"showLink\": true, \"linkText\": \"Export to plot.ly\"})});</script>"
      ],
      "text/vnd.plotly.v1+html": [
       "<div id=\"f0fa5a74-6c7a-4f8a-922c-1abd75f5d22e\" style=\"height: 525px; width: 100%;\" class=\"plotly-graph-div\"></div><script type=\"text/javascript\">require([\"plotly\"], function(Plotly) { window.PLOTLYENV=window.PLOTLYENV || {};window.PLOTLYENV.BASE_URL=\"https://plot.ly\";Plotly.newPlot(\"f0fa5a74-6c7a-4f8a-922c-1abd75f5d22e\", [{\"x\": [\"Student_1\", \"Student_2\", \"Student_3\", \"Student_4\", \"Student_5\", \"Student_6\", \"Student_7\", \"Student_8\", \"Student_9\", \"Student_10\", \"Student_11\", \"Student_12\", \"Student_13\", \"Student_14\", \"Student_15\", \"Student_16\", \"Student_17\", \"Student_18\", \"Student_19\", \"Student_20\"], \"y\": [2, 1, 3, 1, 2, 2, 3, 0, 3, 3, 3, 1, 1, 1, 2, 1, 3, 3, 1, 2], \"type\": \"bar\", \"uid\": \"1c883876-e2e9-11e8-96ad-27ad55f30ab3\"}], {\"title\": \"Quantidade de tarefas feitas por alunos\", \"yaxis\": {\"dtick\": 1, \"exponentformat\": \"e\", \"gridcolor\": \"#bdbdbd\", \"showexponent\": \"all\", \"showticklabels\": true, \"tick0\": 0, \"titlefont\": {\"color\": \"lightgrey\", \"family\": \"Arial, sans-serif\"}}}, {\"showLink\": true, \"linkText\": \"Export to plot.ly\"})});</script>"
      ]
     },
     "metadata": {},
     "output_type": "display_data"
    },
    {
     "data": {
      "application/vnd.plotly.v1+json": {
       "data": [
        {
         "orientation": "h",
         "type": "bar",
         "uid": "1c8cc3a0-e2e9-11e8-96ad-27ad55f30ab3",
         "x": [
          2,
          1,
          3,
          1,
          2,
          2,
          3,
          0,
          3,
          3,
          3,
          1,
          1,
          1,
          2,
          1,
          3,
          3,
          1,
          2
         ],
         "y": [
          "Student_1",
          "Student_2",
          "Student_3",
          "Student_4",
          "Student_5",
          "Student_6",
          "Student_7",
          "Student_8",
          "Student_9",
          "Student_10",
          "Student_11",
          "Student_12",
          "Student_13",
          "Student_14",
          "Student_15",
          "Student_16",
          "Student_17",
          "Student_18",
          "Student_19",
          "Student_20"
         ]
        }
       ],
       "layout": {
        "title": "Quantidade de tarefas feitas por alunos",
        "xaxis": {
         "dtick": 1,
         "tick0": 0
        },
        "yaxis": {
         "dtick": 1,
         "exponentformat": "e",
         "gridcolor": "#bdbdbd",
         "showexponent": "all",
         "showticklabels": true,
         "tick0": 0,
         "titlefont": {
          "color": "lightgrey",
          "family": "Arial, sans-serif"
         }
        }
       }
      },
      "text/html": [
       "<div id=\"74a9db43-c3ca-4424-ad15-3859fbf580d7\" style=\"height: 525px; width: 100%;\" class=\"plotly-graph-div\"></div><script type=\"text/javascript\">require([\"plotly\"], function(Plotly) { window.PLOTLYENV=window.PLOTLYENV || {};window.PLOTLYENV.BASE_URL=\"https://plot.ly\";Plotly.newPlot(\"74a9db43-c3ca-4424-ad15-3859fbf580d7\", [{\"orientation\": \"h\", \"x\": [2, 1, 3, 1, 2, 2, 3, 0, 3, 3, 3, 1, 1, 1, 2, 1, 3, 3, 1, 2], \"y\": [\"Student_1\", \"Student_2\", \"Student_3\", \"Student_4\", \"Student_5\", \"Student_6\", \"Student_7\", \"Student_8\", \"Student_9\", \"Student_10\", \"Student_11\", \"Student_12\", \"Student_13\", \"Student_14\", \"Student_15\", \"Student_16\", \"Student_17\", \"Student_18\", \"Student_19\", \"Student_20\"], \"type\": \"bar\", \"uid\": \"1c8cc3a0-e2e9-11e8-96ad-27ad55f30ab3\"}], {\"title\": \"Quantidade de tarefas feitas por alunos\", \"xaxis\": {\"dtick\": 1, \"tick0\": 0}, \"yaxis\": {\"dtick\": 1, \"exponentformat\": \"e\", \"gridcolor\": \"#bdbdbd\", \"showexponent\": \"all\", \"showticklabels\": true, \"tick0\": 0, \"titlefont\": {\"color\": \"lightgrey\", \"family\": \"Arial, sans-serif\"}}}, {\"showLink\": true, \"linkText\": \"Export to plot.ly\"})});</script>"
      ],
      "text/vnd.plotly.v1+html": [
       "<div id=\"74a9db43-c3ca-4424-ad15-3859fbf580d7\" style=\"height: 525px; width: 100%;\" class=\"plotly-graph-div\"></div><script type=\"text/javascript\">require([\"plotly\"], function(Plotly) { window.PLOTLYENV=window.PLOTLYENV || {};window.PLOTLYENV.BASE_URL=\"https://plot.ly\";Plotly.newPlot(\"74a9db43-c3ca-4424-ad15-3859fbf580d7\", [{\"orientation\": \"h\", \"x\": [2, 1, 3, 1, 2, 2, 3, 0, 3, 3, 3, 1, 1, 1, 2, 1, 3, 3, 1, 2], \"y\": [\"Student_1\", \"Student_2\", \"Student_3\", \"Student_4\", \"Student_5\", \"Student_6\", \"Student_7\", \"Student_8\", \"Student_9\", \"Student_10\", \"Student_11\", \"Student_12\", \"Student_13\", \"Student_14\", \"Student_15\", \"Student_16\", \"Student_17\", \"Student_18\", \"Student_19\", \"Student_20\"], \"type\": \"bar\", \"uid\": \"1c8cc3a0-e2e9-11e8-96ad-27ad55f30ab3\"}], {\"title\": \"Quantidade de tarefas feitas por alunos\", \"xaxis\": {\"dtick\": 1, \"tick0\": 0}, \"yaxis\": {\"dtick\": 1, \"exponentformat\": \"e\", \"gridcolor\": \"#bdbdbd\", \"showexponent\": \"all\", \"showticklabels\": true, \"tick0\": 0, \"titlefont\": {\"color\": \"lightgrey\", \"family\": \"Arial, sans-serif\"}}}, {\"showLink\": true, \"linkText\": \"Export to plot.ly\"})});</script>"
      ]
     },
     "metadata": {},
     "output_type": "display_data"
    },
    {
     "data": {
      "application/vnd.plotly.v1+json": {
       "data": [
        {
         "type": "bar",
         "uid": "1c91dcbe-e2e9-11e8-96ad-27ad55f30ab3",
         "x": [
          "Assign1",
          "Assign2",
          "Assign3",
          "Assign4"
         ],
         "y": [
          10,
          9,
          9,
          10
         ]
        }
       ],
       "layout": {
        "title": "Quantidade de alunos que fizeram as tarefas",
        "yaxis": {
         "dtick": 1,
         "exponentformat": "e",
         "gridcolor": "#bdbdbd",
         "showexponent": "all",
         "showticklabels": true,
         "tick0": 0,
         "titlefont": {
          "color": "lightgrey",
          "family": "Arial, sans-serif"
         }
        }
       }
      },
      "text/html": [
       "<div id=\"37a4c3c0-bb84-4722-9d05-e6d267b6a408\" style=\"height: 525px; width: 100%;\" class=\"plotly-graph-div\"></div><script type=\"text/javascript\">require([\"plotly\"], function(Plotly) { window.PLOTLYENV=window.PLOTLYENV || {};window.PLOTLYENV.BASE_URL=\"https://plot.ly\";Plotly.newPlot(\"37a4c3c0-bb84-4722-9d05-e6d267b6a408\", [{\"x\": [\"Assign1\", \"Assign2\", \"Assign3\", \"Assign4\"], \"y\": [10, 9, 9, 10], \"type\": \"bar\", \"uid\": \"1c91dcbe-e2e9-11e8-96ad-27ad55f30ab3\"}], {\"title\": \"Quantidade de alunos que fizeram as tarefas\", \"yaxis\": {\"dtick\": 1, \"exponentformat\": \"e\", \"gridcolor\": \"#bdbdbd\", \"showexponent\": \"all\", \"showticklabels\": true, \"tick0\": 0, \"titlefont\": {\"color\": \"lightgrey\", \"family\": \"Arial, sans-serif\"}}}, {\"showLink\": true, \"linkText\": \"Export to plot.ly\"})});</script>"
      ],
      "text/vnd.plotly.v1+html": [
       "<div id=\"37a4c3c0-bb84-4722-9d05-e6d267b6a408\" style=\"height: 525px; width: 100%;\" class=\"plotly-graph-div\"></div><script type=\"text/javascript\">require([\"plotly\"], function(Plotly) { window.PLOTLYENV=window.PLOTLYENV || {};window.PLOTLYENV.BASE_URL=\"https://plot.ly\";Plotly.newPlot(\"37a4c3c0-bb84-4722-9d05-e6d267b6a408\", [{\"x\": [\"Assign1\", \"Assign2\", \"Assign3\", \"Assign4\"], \"y\": [10, 9, 9, 10], \"type\": \"bar\", \"uid\": \"1c91dcbe-e2e9-11e8-96ad-27ad55f30ab3\"}], {\"title\": \"Quantidade de alunos que fizeram as tarefas\", \"yaxis\": {\"dtick\": 1, \"exponentformat\": \"e\", \"gridcolor\": \"#bdbdbd\", \"showexponent\": \"all\", \"showticklabels\": true, \"tick0\": 0, \"titlefont\": {\"color\": \"lightgrey\", \"family\": \"Arial, sans-serif\"}}}, {\"showLink\": true, \"linkText\": \"Export to plot.ly\"})});</script>"
      ]
     },
     "metadata": {},
     "output_type": "display_data"
    },
    {
     "data": {
      "application/vnd.plotly.v1+json": {
       "data": [
        {
         "marker": {
          "line": {
           "width": 2
          },
          "size": [
           0,
           1,
           0,
           1
          ],
          "sizemode": "area",
          "sizeref": 0.01,
          "symbol": "circle"
         },
         "mode": "markers",
         "name": "Student_1",
         "text": [
          "0",
          "1",
          "0",
          "1"
         ],
         "type": "scatter",
         "uid": "1ca6fb1c-e2e9-11e8-96ad-27ad55f30ab3",
         "x": [
          "Student_1",
          "Student_1",
          "Student_1",
          "Student_1",
          "Student_1"
         ],
         "y": [
          "Assign1",
          "Assign2",
          "Assign3",
          "Assign4"
         ]
        },
        {
         "marker": {
          "line": {
           "width": 2
          },
          "size": [
           0,
           1,
           0,
           0
          ],
          "sizemode": "area",
          "sizeref": 0.01,
          "symbol": "circle"
         },
         "mode": "markers",
         "name": "Student_2",
         "text": [
          "0",
          "1",
          "0",
          "0"
         ],
         "type": "scatter",
         "uid": "1ca6fcd4-e2e9-11e8-96ad-27ad55f30ab3",
         "x": [
          "Student_2",
          "Student_2",
          "Student_2",
          "Student_2",
          "Student_2"
         ],
         "y": [
          "Assign1",
          "Assign2",
          "Assign3",
          "Assign4"
         ]
        },
        {
         "marker": {
          "line": {
           "width": 2
          },
          "size": [
           0,
           1,
           1,
           1
          ],
          "sizemode": "area",
          "sizeref": 0.01,
          "symbol": "circle"
         },
         "mode": "markers",
         "name": "Student_3",
         "text": [
          "0",
          "1",
          "1",
          "1"
         ],
         "type": "scatter",
         "uid": "1ca6fd9c-e2e9-11e8-96ad-27ad55f30ab3",
         "x": [
          "Student_3",
          "Student_3",
          "Student_3",
          "Student_3",
          "Student_3"
         ],
         "y": [
          "Assign1",
          "Assign2",
          "Assign3",
          "Assign4"
         ]
        },
        {
         "marker": {
          "line": {
           "width": 2
          },
          "size": [
           0,
           0,
           0,
           1
          ],
          "sizemode": "area",
          "sizeref": 0.01,
          "symbol": "circle"
         },
         "mode": "markers",
         "name": "Student_4",
         "text": [
          "0",
          "0",
          "0",
          "1"
         ],
         "type": "scatter",
         "uid": "1ca6fe46-e2e9-11e8-96ad-27ad55f30ab3",
         "x": [
          "Student_4",
          "Student_4",
          "Student_4",
          "Student_4",
          "Student_4"
         ],
         "y": [
          "Assign1",
          "Assign2",
          "Assign3",
          "Assign4"
         ]
        },
        {
         "marker": {
          "line": {
           "width": 2
          },
          "size": [
           1,
           1,
           0,
           0
          ],
          "sizemode": "area",
          "sizeref": 0.01,
          "symbol": "circle"
         },
         "mode": "markers",
         "name": "Student_5",
         "text": [
          "1",
          "1",
          "0",
          "0"
         ],
         "type": "scatter",
         "uid": "1ca6fedc-e2e9-11e8-96ad-27ad55f30ab3",
         "x": [
          "Student_5",
          "Student_5",
          "Student_5",
          "Student_5",
          "Student_5"
         ],
         "y": [
          "Assign1",
          "Assign2",
          "Assign3",
          "Assign4"
         ]
        },
        {
         "marker": {
          "line": {
           "width": 2
          },
          "size": [
           1,
           0,
           1,
           0
          ],
          "sizemode": "area",
          "sizeref": 0.01,
          "symbol": "circle"
         },
         "mode": "markers",
         "name": "Student_6",
         "text": [
          "1",
          "0",
          "1",
          "0"
         ],
         "type": "scatter",
         "uid": "1ca6ff72-e2e9-11e8-96ad-27ad55f30ab3",
         "x": [
          "Student_6",
          "Student_6",
          "Student_6",
          "Student_6",
          "Student_6"
         ],
         "y": [
          "Assign1",
          "Assign2",
          "Assign3",
          "Assign4"
         ]
        },
        {
         "marker": {
          "line": {
           "width": 2
          },
          "size": [
           0,
           1,
           1,
           1
          ],
          "sizemode": "area",
          "sizeref": 0.01,
          "symbol": "circle"
         },
         "mode": "markers",
         "name": "Student_7",
         "text": [
          "0",
          "1",
          "1",
          "1"
         ],
         "type": "scatter",
         "uid": "1ca6fffe-e2e9-11e8-96ad-27ad55f30ab3",
         "x": [
          "Student_7",
          "Student_7",
          "Student_7",
          "Student_7",
          "Student_7"
         ],
         "y": [
          "Assign1",
          "Assign2",
          "Assign3",
          "Assign4"
         ]
        },
        {
         "marker": {
          "line": {
           "width": 2
          },
          "size": [
           0,
           0,
           0,
           0
          ],
          "sizemode": "area",
          "sizeref": 0.01,
          "symbol": "circle"
         },
         "mode": "markers",
         "name": "Student_8",
         "text": [
          "0",
          "0",
          "0",
          "0"
         ],
         "type": "scatter",
         "uid": "1ca7008a-e2e9-11e8-96ad-27ad55f30ab3",
         "x": [
          "Student_8",
          "Student_8",
          "Student_8",
          "Student_8",
          "Student_8"
         ],
         "y": [
          "Assign1",
          "Assign2",
          "Assign3",
          "Assign4"
         ]
        },
        {
         "marker": {
          "line": {
           "width": 2
          },
          "size": [
           0,
           1,
           1,
           1
          ],
          "sizemode": "area",
          "sizeref": 0.01,
          "symbol": "circle"
         },
         "mode": "markers",
         "name": "Student_9",
         "text": [
          "0",
          "1",
          "1",
          "1"
         ],
         "type": "scatter",
         "uid": "1ca7010c-e2e9-11e8-96ad-27ad55f30ab3",
         "x": [
          "Student_9",
          "Student_9",
          "Student_9",
          "Student_9",
          "Student_9"
         ],
         "y": [
          "Assign1",
          "Assign2",
          "Assign3",
          "Assign4"
         ]
        },
        {
         "marker": {
          "line": {
           "width": 2
          },
          "size": [
           1,
           1,
           1,
           0
          ],
          "sizemode": "area",
          "sizeref": 0.01,
          "symbol": "circle"
         },
         "mode": "markers",
         "name": "Student_10",
         "text": [
          "1",
          "1",
          "1",
          "0"
         ],
         "type": "scatter",
         "uid": "1ca70198-e2e9-11e8-96ad-27ad55f30ab3",
         "x": [
          "Student_10",
          "Student_10",
          "Student_10",
          "Student_10",
          "Student_10"
         ],
         "y": [
          "Assign1",
          "Assign2",
          "Assign3",
          "Assign4"
         ]
        },
        {
         "marker": {
          "line": {
           "width": 2
          },
          "size": [
           1,
           0,
           1,
           1
          ],
          "sizemode": "area",
          "sizeref": 0.01,
          "symbol": "circle"
         },
         "mode": "markers",
         "name": "Student_11",
         "text": [
          "1",
          "0",
          "1",
          "1"
         ],
         "type": "scatter",
         "uid": "1ca7022e-e2e9-11e8-96ad-27ad55f30ab3",
         "x": [
          "Student_11",
          "Student_11",
          "Student_11",
          "Student_11",
          "Student_11"
         ],
         "y": [
          "Assign1",
          "Assign2",
          "Assign3",
          "Assign4"
         ]
        },
        {
         "marker": {
          "line": {
           "width": 2
          },
          "size": [
           1,
           0,
           0,
           0
          ],
          "sizemode": "area",
          "sizeref": 0.01,
          "symbol": "circle"
         },
         "mode": "markers",
         "name": "Student_12",
         "text": [
          "1",
          "0",
          "0",
          "0"
         ],
         "type": "scatter",
         "uid": "1ca702b0-e2e9-11e8-96ad-27ad55f30ab3",
         "x": [
          "Student_12",
          "Student_12",
          "Student_12",
          "Student_12",
          "Student_12"
         ],
         "y": [
          "Assign1",
          "Assign2",
          "Assign3",
          "Assign4"
         ]
        },
        {
         "marker": {
          "line": {
           "width": 2
          },
          "size": [
           1,
           0,
           0,
           0
          ],
          "sizemode": "area",
          "sizeref": 0.01,
          "symbol": "circle"
         },
         "mode": "markers",
         "name": "Student_13",
         "text": [
          "1",
          "0",
          "0",
          "0"
         ],
         "type": "scatter",
         "uid": "1ca7033c-e2e9-11e8-96ad-27ad55f30ab3",
         "x": [
          "Student_13",
          "Student_13",
          "Student_13",
          "Student_13",
          "Student_13"
         ],
         "y": [
          "Assign1",
          "Assign2",
          "Assign3",
          "Assign4"
         ]
        },
        {
         "marker": {
          "line": {
           "width": 2
          },
          "size": [
           1,
           0,
           0,
           0
          ],
          "sizemode": "area",
          "sizeref": 0.01,
          "symbol": "circle"
         },
         "mode": "markers",
         "name": "Student_14",
         "text": [
          "1",
          "0",
          "0",
          "0"
         ],
         "type": "scatter",
         "uid": "1ca703be-e2e9-11e8-96ad-27ad55f30ab3",
         "x": [
          "Student_14",
          "Student_14",
          "Student_14",
          "Student_14",
          "Student_14"
         ],
         "y": [
          "Assign1",
          "Assign2",
          "Assign3",
          "Assign4"
         ]
        },
        {
         "marker": {
          "line": {
           "width": 2
          },
          "size": [
           1,
           0,
           0,
           1
          ],
          "sizemode": "area",
          "sizeref": 0.01,
          "symbol": "circle"
         },
         "mode": "markers",
         "name": "Student_15",
         "text": [
          "1",
          "0",
          "0",
          "1"
         ],
         "type": "scatter",
         "uid": "1ca7044a-e2e9-11e8-96ad-27ad55f30ab3",
         "x": [
          "Student_15",
          "Student_15",
          "Student_15",
          "Student_15",
          "Student_15"
         ],
         "y": [
          "Assign1",
          "Assign2",
          "Assign3",
          "Assign4"
         ]
        },
        {
         "marker": {
          "line": {
           "width": 2
          },
          "size": [
           0,
           0,
           1,
           0
          ],
          "sizemode": "area",
          "sizeref": 0.01,
          "symbol": "circle"
         },
         "mode": "markers",
         "name": "Student_16",
         "text": [
          "0",
          "0",
          "1",
          "0"
         ],
         "type": "scatter",
         "uid": "1ca704cc-e2e9-11e8-96ad-27ad55f30ab3",
         "x": [
          "Student_16",
          "Student_16",
          "Student_16",
          "Student_16",
          "Student_16"
         ],
         "y": [
          "Assign1",
          "Assign2",
          "Assign3",
          "Assign4"
         ]
        },
        {
         "marker": {
          "line": {
           "width": 2
          },
          "size": [
           0,
           1,
           1,
           1
          ],
          "sizemode": "area",
          "sizeref": 0.01,
          "symbol": "circle"
         },
         "mode": "markers",
         "name": "Student_17",
         "text": [
          "0",
          "1",
          "1",
          "1"
         ],
         "type": "scatter",
         "uid": "1ca7054e-e2e9-11e8-96ad-27ad55f30ab3",
         "x": [
          "Student_17",
          "Student_17",
          "Student_17",
          "Student_17",
          "Student_17"
         ],
         "y": [
          "Assign1",
          "Assign2",
          "Assign3",
          "Assign4"
         ]
        },
        {
         "marker": {
          "line": {
           "width": 2
          },
          "size": [
           0,
           1,
           1,
           1
          ],
          "sizemode": "area",
          "sizeref": 0.01,
          "symbol": "circle"
         },
         "mode": "markers",
         "name": "Student_18",
         "text": [
          "0",
          "1",
          "1",
          "1"
         ],
         "type": "scatter",
         "uid": "1ca705d0-e2e9-11e8-96ad-27ad55f30ab3",
         "x": [
          "Student_18",
          "Student_18",
          "Student_18",
          "Student_18",
          "Student_18"
         ],
         "y": [
          "Assign1",
          "Assign2",
          "Assign3",
          "Assign4"
         ]
        },
        {
         "marker": {
          "line": {
           "width": 2
          },
          "size": [
           1,
           0,
           0,
           0
          ],
          "sizemode": "area",
          "sizeref": 0.01,
          "symbol": "circle"
         },
         "mode": "markers",
         "name": "Student_19",
         "text": [
          "1",
          "0",
          "0",
          "0"
         ],
         "type": "scatter",
         "uid": "1ca70648-e2e9-11e8-96ad-27ad55f30ab3",
         "x": [
          "Student_19",
          "Student_19",
          "Student_19",
          "Student_19",
          "Student_19"
         ],
         "y": [
          "Assign1",
          "Assign2",
          "Assign3",
          "Assign4"
         ]
        },
        {
         "marker": {
          "line": {
           "width": 2
          },
          "size": [
           1,
           0,
           0,
           1
          ],
          "sizemode": "area",
          "sizeref": 0.01,
          "symbol": "circle"
         },
         "mode": "markers",
         "name": "Student_20",
         "text": [
          "1",
          "0",
          "0",
          "1"
         ],
         "type": "scatter",
         "uid": "1ca706c0-e2e9-11e8-96ad-27ad55f30ab3",
         "x": [
          "Student_20",
          "Student_20",
          "Student_20",
          "Student_20",
          "Student_20"
         ],
         "y": [
          "Assign1",
          "Assign2",
          "Assign3",
          "Assign4"
         ]
        }
       ],
       "layout": {
        "hovermode": "closest",
        "showlegend": true,
        "title": "Atividades feitas por estudante",
        "xaxis": {
         "autorange": false,
         "fixedrange": false,
         "range": [
          -1,
          20
         ],
         "rangemode": "normal",
         "showline": true,
         "title": "Estudantes",
         "type": "category"
        },
        "yaxis": {
         "autorange": false,
         "categoryorder": "category ascending",
         "fixedrange": false,
         "range": [
          -1,
          4
         ],
         "rangemode": "normal",
         "showline": true,
         "title": "Atividades",
         "type": "category"
        }
       }
      },
      "text/html": [
       "<div id=\"1eadd6e8-0307-4f19-bcb7-a624536e230c\" style=\"height: 525px; width: 100%;\" class=\"plotly-graph-div\"></div><script type=\"text/javascript\">require([\"plotly\"], function(Plotly) { window.PLOTLYENV=window.PLOTLYENV || {};window.PLOTLYENV.BASE_URL=\"https://plot.ly\";Plotly.newPlot(\"1eadd6e8-0307-4f19-bcb7-a624536e230c\", [{\"marker\": {\"line\": {\"width\": 2}, \"size\": [0, 1, 0, 1], \"sizemode\": \"area\", \"sizeref\": 0.01, \"symbol\": \"circle\"}, \"mode\": \"markers\", \"name\": \"Student_1\", \"text\": [\"0\", \"1\", \"0\", \"1\"], \"x\": [\"Student_1\", \"Student_1\", \"Student_1\", \"Student_1\", \"Student_1\"], \"y\": [\"Assign1\", \"Assign2\", \"Assign3\", \"Assign4\"], \"type\": \"scatter\", \"uid\": \"1ca6fb1c-e2e9-11e8-96ad-27ad55f30ab3\"}, {\"marker\": {\"line\": {\"width\": 2}, \"size\": [0, 1, 0, 0], \"sizemode\": \"area\", \"sizeref\": 0.01, \"symbol\": \"circle\"}, \"mode\": \"markers\", \"name\": \"Student_2\", \"text\": [\"0\", \"1\", \"0\", \"0\"], \"x\": [\"Student_2\", \"Student_2\", \"Student_2\", \"Student_2\", \"Student_2\"], \"y\": [\"Assign1\", \"Assign2\", \"Assign3\", \"Assign4\"], \"type\": \"scatter\", \"uid\": \"1ca6fcd4-e2e9-11e8-96ad-27ad55f30ab3\"}, {\"marker\": {\"line\": {\"width\": 2}, \"size\": [0, 1, 1, 1], \"sizemode\": \"area\", \"sizeref\": 0.01, \"symbol\": \"circle\"}, \"mode\": \"markers\", \"name\": \"Student_3\", \"text\": [\"0\", \"1\", \"1\", \"1\"], \"x\": [\"Student_3\", \"Student_3\", \"Student_3\", \"Student_3\", \"Student_3\"], \"y\": [\"Assign1\", \"Assign2\", \"Assign3\", \"Assign4\"], \"type\": \"scatter\", \"uid\": \"1ca6fd9c-e2e9-11e8-96ad-27ad55f30ab3\"}, {\"marker\": {\"line\": {\"width\": 2}, \"size\": [0, 0, 0, 1], \"sizemode\": \"area\", \"sizeref\": 0.01, \"symbol\": \"circle\"}, \"mode\": \"markers\", \"name\": \"Student_4\", \"text\": [\"0\", \"0\", \"0\", \"1\"], \"x\": [\"Student_4\", \"Student_4\", \"Student_4\", \"Student_4\", \"Student_4\"], \"y\": [\"Assign1\", \"Assign2\", \"Assign3\", \"Assign4\"], \"type\": \"scatter\", \"uid\": \"1ca6fe46-e2e9-11e8-96ad-27ad55f30ab3\"}, {\"marker\": {\"line\": {\"width\": 2}, \"size\": [1, 1, 0, 0], \"sizemode\": \"area\", \"sizeref\": 0.01, \"symbol\": \"circle\"}, \"mode\": \"markers\", \"name\": \"Student_5\", \"text\": [\"1\", \"1\", \"0\", \"0\"], \"x\": [\"Student_5\", \"Student_5\", \"Student_5\", \"Student_5\", \"Student_5\"], \"y\": [\"Assign1\", \"Assign2\", \"Assign3\", \"Assign4\"], \"type\": \"scatter\", \"uid\": \"1ca6fedc-e2e9-11e8-96ad-27ad55f30ab3\"}, {\"marker\": {\"line\": {\"width\": 2}, \"size\": [1, 0, 1, 0], \"sizemode\": \"area\", \"sizeref\": 0.01, \"symbol\": \"circle\"}, \"mode\": \"markers\", \"name\": \"Student_6\", \"text\": [\"1\", \"0\", \"1\", \"0\"], \"x\": [\"Student_6\", \"Student_6\", \"Student_6\", \"Student_6\", \"Student_6\"], \"y\": [\"Assign1\", \"Assign2\", \"Assign3\", \"Assign4\"], \"type\": \"scatter\", \"uid\": \"1ca6ff72-e2e9-11e8-96ad-27ad55f30ab3\"}, {\"marker\": {\"line\": {\"width\": 2}, \"size\": [0, 1, 1, 1], \"sizemode\": \"area\", \"sizeref\": 0.01, \"symbol\": \"circle\"}, \"mode\": \"markers\", \"name\": \"Student_7\", \"text\": [\"0\", \"1\", \"1\", \"1\"], \"x\": [\"Student_7\", \"Student_7\", \"Student_7\", \"Student_7\", \"Student_7\"], \"y\": [\"Assign1\", \"Assign2\", \"Assign3\", \"Assign4\"], \"type\": \"scatter\", \"uid\": \"1ca6fffe-e2e9-11e8-96ad-27ad55f30ab3\"}, {\"marker\": {\"line\": {\"width\": 2}, \"size\": [0, 0, 0, 0], \"sizemode\": \"area\", \"sizeref\": 0.01, \"symbol\": \"circle\"}, \"mode\": \"markers\", \"name\": \"Student_8\", \"text\": [\"0\", \"0\", \"0\", \"0\"], \"x\": [\"Student_8\", \"Student_8\", \"Student_8\", \"Student_8\", \"Student_8\"], \"y\": [\"Assign1\", \"Assign2\", \"Assign3\", \"Assign4\"], \"type\": \"scatter\", \"uid\": \"1ca7008a-e2e9-11e8-96ad-27ad55f30ab3\"}, {\"marker\": {\"line\": {\"width\": 2}, \"size\": [0, 1, 1, 1], \"sizemode\": \"area\", \"sizeref\": 0.01, \"symbol\": \"circle\"}, \"mode\": \"markers\", \"name\": \"Student_9\", \"text\": [\"0\", \"1\", \"1\", \"1\"], \"x\": [\"Student_9\", \"Student_9\", \"Student_9\", \"Student_9\", \"Student_9\"], \"y\": [\"Assign1\", \"Assign2\", \"Assign3\", \"Assign4\"], \"type\": \"scatter\", \"uid\": \"1ca7010c-e2e9-11e8-96ad-27ad55f30ab3\"}, {\"marker\": {\"line\": {\"width\": 2}, \"size\": [1, 1, 1, 0], \"sizemode\": \"area\", \"sizeref\": 0.01, \"symbol\": \"circle\"}, \"mode\": \"markers\", \"name\": \"Student_10\", \"text\": [\"1\", \"1\", \"1\", \"0\"], \"x\": [\"Student_10\", \"Student_10\", \"Student_10\", \"Student_10\", \"Student_10\"], \"y\": [\"Assign1\", \"Assign2\", \"Assign3\", \"Assign4\"], \"type\": \"scatter\", \"uid\": \"1ca70198-e2e9-11e8-96ad-27ad55f30ab3\"}, {\"marker\": {\"line\": {\"width\": 2}, \"size\": [1, 0, 1, 1], \"sizemode\": \"area\", \"sizeref\": 0.01, \"symbol\": \"circle\"}, \"mode\": \"markers\", \"name\": \"Student_11\", \"text\": [\"1\", \"0\", \"1\", \"1\"], \"x\": [\"Student_11\", \"Student_11\", \"Student_11\", \"Student_11\", \"Student_11\"], \"y\": [\"Assign1\", \"Assign2\", \"Assign3\", \"Assign4\"], \"type\": \"scatter\", \"uid\": \"1ca7022e-e2e9-11e8-96ad-27ad55f30ab3\"}, {\"marker\": {\"line\": {\"width\": 2}, \"size\": [1, 0, 0, 0], \"sizemode\": \"area\", \"sizeref\": 0.01, \"symbol\": \"circle\"}, \"mode\": \"markers\", \"name\": \"Student_12\", \"text\": [\"1\", \"0\", \"0\", \"0\"], \"x\": [\"Student_12\", \"Student_12\", \"Student_12\", \"Student_12\", \"Student_12\"], \"y\": [\"Assign1\", \"Assign2\", \"Assign3\", \"Assign4\"], \"type\": \"scatter\", \"uid\": \"1ca702b0-e2e9-11e8-96ad-27ad55f30ab3\"}, {\"marker\": {\"line\": {\"width\": 2}, \"size\": [1, 0, 0, 0], \"sizemode\": \"area\", \"sizeref\": 0.01, \"symbol\": \"circle\"}, \"mode\": \"markers\", \"name\": \"Student_13\", \"text\": [\"1\", \"0\", \"0\", \"0\"], \"x\": [\"Student_13\", \"Student_13\", \"Student_13\", \"Student_13\", \"Student_13\"], \"y\": [\"Assign1\", \"Assign2\", \"Assign3\", \"Assign4\"], \"type\": \"scatter\", \"uid\": \"1ca7033c-e2e9-11e8-96ad-27ad55f30ab3\"}, {\"marker\": {\"line\": {\"width\": 2}, \"size\": [1, 0, 0, 0], \"sizemode\": \"area\", \"sizeref\": 0.01, \"symbol\": \"circle\"}, \"mode\": \"markers\", \"name\": \"Student_14\", \"text\": [\"1\", \"0\", \"0\", \"0\"], \"x\": [\"Student_14\", \"Student_14\", \"Student_14\", \"Student_14\", \"Student_14\"], \"y\": [\"Assign1\", \"Assign2\", \"Assign3\", \"Assign4\"], \"type\": \"scatter\", \"uid\": \"1ca703be-e2e9-11e8-96ad-27ad55f30ab3\"}, {\"marker\": {\"line\": {\"width\": 2}, \"size\": [1, 0, 0, 1], \"sizemode\": \"area\", \"sizeref\": 0.01, \"symbol\": \"circle\"}, \"mode\": \"markers\", \"name\": \"Student_15\", \"text\": [\"1\", \"0\", \"0\", \"1\"], \"x\": [\"Student_15\", \"Student_15\", \"Student_15\", \"Student_15\", \"Student_15\"], \"y\": [\"Assign1\", \"Assign2\", \"Assign3\", \"Assign4\"], \"type\": \"scatter\", \"uid\": \"1ca7044a-e2e9-11e8-96ad-27ad55f30ab3\"}, {\"marker\": {\"line\": {\"width\": 2}, \"size\": [0, 0, 1, 0], \"sizemode\": \"area\", \"sizeref\": 0.01, \"symbol\": \"circle\"}, \"mode\": \"markers\", \"name\": \"Student_16\", \"text\": [\"0\", \"0\", \"1\", \"0\"], \"x\": [\"Student_16\", \"Student_16\", \"Student_16\", \"Student_16\", \"Student_16\"], \"y\": [\"Assign1\", \"Assign2\", \"Assign3\", \"Assign4\"], \"type\": \"scatter\", \"uid\": \"1ca704cc-e2e9-11e8-96ad-27ad55f30ab3\"}, {\"marker\": {\"line\": {\"width\": 2}, \"size\": [0, 1, 1, 1], \"sizemode\": \"area\", \"sizeref\": 0.01, \"symbol\": \"circle\"}, \"mode\": \"markers\", \"name\": \"Student_17\", \"text\": [\"0\", \"1\", \"1\", \"1\"], \"x\": [\"Student_17\", \"Student_17\", \"Student_17\", \"Student_17\", \"Student_17\"], \"y\": [\"Assign1\", \"Assign2\", \"Assign3\", \"Assign4\"], \"type\": \"scatter\", \"uid\": \"1ca7054e-e2e9-11e8-96ad-27ad55f30ab3\"}, {\"marker\": {\"line\": {\"width\": 2}, \"size\": [0, 1, 1, 1], \"sizemode\": \"area\", \"sizeref\": 0.01, \"symbol\": \"circle\"}, \"mode\": \"markers\", \"name\": \"Student_18\", \"text\": [\"0\", \"1\", \"1\", \"1\"], \"x\": [\"Student_18\", \"Student_18\", \"Student_18\", \"Student_18\", \"Student_18\"], \"y\": [\"Assign1\", \"Assign2\", \"Assign3\", \"Assign4\"], \"type\": \"scatter\", \"uid\": \"1ca705d0-e2e9-11e8-96ad-27ad55f30ab3\"}, {\"marker\": {\"line\": {\"width\": 2}, \"size\": [1, 0, 0, 0], \"sizemode\": \"area\", \"sizeref\": 0.01, \"symbol\": \"circle\"}, \"mode\": \"markers\", \"name\": \"Student_19\", \"text\": [\"1\", \"0\", \"0\", \"0\"], \"x\": [\"Student_19\", \"Student_19\", \"Student_19\", \"Student_19\", \"Student_19\"], \"y\": [\"Assign1\", \"Assign2\", \"Assign3\", \"Assign4\"], \"type\": \"scatter\", \"uid\": \"1ca70648-e2e9-11e8-96ad-27ad55f30ab3\"}, {\"marker\": {\"line\": {\"width\": 2}, \"size\": [1, 0, 0, 1], \"sizemode\": \"area\", \"sizeref\": 0.01, \"symbol\": \"circle\"}, \"mode\": \"markers\", \"name\": \"Student_20\", \"text\": [\"1\", \"0\", \"0\", \"1\"], \"x\": [\"Student_20\", \"Student_20\", \"Student_20\", \"Student_20\", \"Student_20\"], \"y\": [\"Assign1\", \"Assign2\", \"Assign3\", \"Assign4\"], \"type\": \"scatter\", \"uid\": \"1ca706c0-e2e9-11e8-96ad-27ad55f30ab3\"}], {\"hovermode\": \"closest\", \"showlegend\": true, \"title\": \"Atividades feitas por estudante\", \"xaxis\": {\"autorange\": false, \"fixedrange\": false, \"range\": [-1, 20], \"rangemode\": \"normal\", \"showline\": true, \"title\": \"Estudantes\", \"type\": \"category\"}, \"yaxis\": {\"autorange\": false, \"categoryorder\": \"category ascending\", \"fixedrange\": false, \"range\": [-1, 4], \"rangemode\": \"normal\", \"showline\": true, \"title\": \"Atividades\", \"type\": \"category\"}}, {\"showLink\": true, \"linkText\": \"Export to plot.ly\"})});</script>"
      ],
      "text/vnd.plotly.v1+html": [
       "<div id=\"1eadd6e8-0307-4f19-bcb7-a624536e230c\" style=\"height: 525px; width: 100%;\" class=\"plotly-graph-div\"></div><script type=\"text/javascript\">require([\"plotly\"], function(Plotly) { window.PLOTLYENV=window.PLOTLYENV || {};window.PLOTLYENV.BASE_URL=\"https://plot.ly\";Plotly.newPlot(\"1eadd6e8-0307-4f19-bcb7-a624536e230c\", [{\"marker\": {\"line\": {\"width\": 2}, \"size\": [0, 1, 0, 1], \"sizemode\": \"area\", \"sizeref\": 0.01, \"symbol\": \"circle\"}, \"mode\": \"markers\", \"name\": \"Student_1\", \"text\": [\"0\", \"1\", \"0\", \"1\"], \"x\": [\"Student_1\", \"Student_1\", \"Student_1\", \"Student_1\", \"Student_1\"], \"y\": [\"Assign1\", \"Assign2\", \"Assign3\", \"Assign4\"], \"type\": \"scatter\", \"uid\": \"1ca6fb1c-e2e9-11e8-96ad-27ad55f30ab3\"}, {\"marker\": {\"line\": {\"width\": 2}, \"size\": [0, 1, 0, 0], \"sizemode\": \"area\", \"sizeref\": 0.01, \"symbol\": \"circle\"}, \"mode\": \"markers\", \"name\": \"Student_2\", \"text\": [\"0\", \"1\", \"0\", \"0\"], \"x\": [\"Student_2\", \"Student_2\", \"Student_2\", \"Student_2\", \"Student_2\"], \"y\": [\"Assign1\", \"Assign2\", \"Assign3\", \"Assign4\"], \"type\": \"scatter\", \"uid\": \"1ca6fcd4-e2e9-11e8-96ad-27ad55f30ab3\"}, {\"marker\": {\"line\": {\"width\": 2}, \"size\": [0, 1, 1, 1], \"sizemode\": \"area\", \"sizeref\": 0.01, \"symbol\": \"circle\"}, \"mode\": \"markers\", \"name\": \"Student_3\", \"text\": [\"0\", \"1\", \"1\", \"1\"], \"x\": [\"Student_3\", \"Student_3\", \"Student_3\", \"Student_3\", \"Student_3\"], \"y\": [\"Assign1\", \"Assign2\", \"Assign3\", \"Assign4\"], \"type\": \"scatter\", \"uid\": \"1ca6fd9c-e2e9-11e8-96ad-27ad55f30ab3\"}, {\"marker\": {\"line\": {\"width\": 2}, \"size\": [0, 0, 0, 1], \"sizemode\": \"area\", \"sizeref\": 0.01, \"symbol\": \"circle\"}, \"mode\": \"markers\", \"name\": \"Student_4\", \"text\": [\"0\", \"0\", \"0\", \"1\"], \"x\": [\"Student_4\", \"Student_4\", \"Student_4\", \"Student_4\", \"Student_4\"], \"y\": [\"Assign1\", \"Assign2\", \"Assign3\", \"Assign4\"], \"type\": \"scatter\", \"uid\": \"1ca6fe46-e2e9-11e8-96ad-27ad55f30ab3\"}, {\"marker\": {\"line\": {\"width\": 2}, \"size\": [1, 1, 0, 0], \"sizemode\": \"area\", \"sizeref\": 0.01, \"symbol\": \"circle\"}, \"mode\": \"markers\", \"name\": \"Student_5\", \"text\": [\"1\", \"1\", \"0\", \"0\"], \"x\": [\"Student_5\", \"Student_5\", \"Student_5\", \"Student_5\", \"Student_5\"], \"y\": [\"Assign1\", \"Assign2\", \"Assign3\", \"Assign4\"], \"type\": \"scatter\", \"uid\": \"1ca6fedc-e2e9-11e8-96ad-27ad55f30ab3\"}, {\"marker\": {\"line\": {\"width\": 2}, \"size\": [1, 0, 1, 0], \"sizemode\": \"area\", \"sizeref\": 0.01, \"symbol\": \"circle\"}, \"mode\": \"markers\", \"name\": \"Student_6\", \"text\": [\"1\", \"0\", \"1\", \"0\"], \"x\": [\"Student_6\", \"Student_6\", \"Student_6\", \"Student_6\", \"Student_6\"], \"y\": [\"Assign1\", \"Assign2\", \"Assign3\", \"Assign4\"], \"type\": \"scatter\", \"uid\": \"1ca6ff72-e2e9-11e8-96ad-27ad55f30ab3\"}, {\"marker\": {\"line\": {\"width\": 2}, \"size\": [0, 1, 1, 1], \"sizemode\": \"area\", \"sizeref\": 0.01, \"symbol\": \"circle\"}, \"mode\": \"markers\", \"name\": \"Student_7\", \"text\": [\"0\", \"1\", \"1\", \"1\"], \"x\": [\"Student_7\", \"Student_7\", \"Student_7\", \"Student_7\", \"Student_7\"], \"y\": [\"Assign1\", \"Assign2\", \"Assign3\", \"Assign4\"], \"type\": \"scatter\", \"uid\": \"1ca6fffe-e2e9-11e8-96ad-27ad55f30ab3\"}, {\"marker\": {\"line\": {\"width\": 2}, \"size\": [0, 0, 0, 0], \"sizemode\": \"area\", \"sizeref\": 0.01, \"symbol\": \"circle\"}, \"mode\": \"markers\", \"name\": \"Student_8\", \"text\": [\"0\", \"0\", \"0\", \"0\"], \"x\": [\"Student_8\", \"Student_8\", \"Student_8\", \"Student_8\", \"Student_8\"], \"y\": [\"Assign1\", \"Assign2\", \"Assign3\", \"Assign4\"], \"type\": \"scatter\", \"uid\": \"1ca7008a-e2e9-11e8-96ad-27ad55f30ab3\"}, {\"marker\": {\"line\": {\"width\": 2}, \"size\": [0, 1, 1, 1], \"sizemode\": \"area\", \"sizeref\": 0.01, \"symbol\": \"circle\"}, \"mode\": \"markers\", \"name\": \"Student_9\", \"text\": [\"0\", \"1\", \"1\", \"1\"], \"x\": [\"Student_9\", \"Student_9\", \"Student_9\", \"Student_9\", \"Student_9\"], \"y\": [\"Assign1\", \"Assign2\", \"Assign3\", \"Assign4\"], \"type\": \"scatter\", \"uid\": \"1ca7010c-e2e9-11e8-96ad-27ad55f30ab3\"}, {\"marker\": {\"line\": {\"width\": 2}, \"size\": [1, 1, 1, 0], \"sizemode\": \"area\", \"sizeref\": 0.01, \"symbol\": \"circle\"}, \"mode\": \"markers\", \"name\": \"Student_10\", \"text\": [\"1\", \"1\", \"1\", \"0\"], \"x\": [\"Student_10\", \"Student_10\", \"Student_10\", \"Student_10\", \"Student_10\"], \"y\": [\"Assign1\", \"Assign2\", \"Assign3\", \"Assign4\"], \"type\": \"scatter\", \"uid\": \"1ca70198-e2e9-11e8-96ad-27ad55f30ab3\"}, {\"marker\": {\"line\": {\"width\": 2}, \"size\": [1, 0, 1, 1], \"sizemode\": \"area\", \"sizeref\": 0.01, \"symbol\": \"circle\"}, \"mode\": \"markers\", \"name\": \"Student_11\", \"text\": [\"1\", \"0\", \"1\", \"1\"], \"x\": [\"Student_11\", \"Student_11\", \"Student_11\", \"Student_11\", \"Student_11\"], \"y\": [\"Assign1\", \"Assign2\", \"Assign3\", \"Assign4\"], \"type\": \"scatter\", \"uid\": \"1ca7022e-e2e9-11e8-96ad-27ad55f30ab3\"}, {\"marker\": {\"line\": {\"width\": 2}, \"size\": [1, 0, 0, 0], \"sizemode\": \"area\", \"sizeref\": 0.01, \"symbol\": \"circle\"}, \"mode\": \"markers\", \"name\": \"Student_12\", \"text\": [\"1\", \"0\", \"0\", \"0\"], \"x\": [\"Student_12\", \"Student_12\", \"Student_12\", \"Student_12\", \"Student_12\"], \"y\": [\"Assign1\", \"Assign2\", \"Assign3\", \"Assign4\"], \"type\": \"scatter\", \"uid\": \"1ca702b0-e2e9-11e8-96ad-27ad55f30ab3\"}, {\"marker\": {\"line\": {\"width\": 2}, \"size\": [1, 0, 0, 0], \"sizemode\": \"area\", \"sizeref\": 0.01, \"symbol\": \"circle\"}, \"mode\": \"markers\", \"name\": \"Student_13\", \"text\": [\"1\", \"0\", \"0\", \"0\"], \"x\": [\"Student_13\", \"Student_13\", \"Student_13\", \"Student_13\", \"Student_13\"], \"y\": [\"Assign1\", \"Assign2\", \"Assign3\", \"Assign4\"], \"type\": \"scatter\", \"uid\": \"1ca7033c-e2e9-11e8-96ad-27ad55f30ab3\"}, {\"marker\": {\"line\": {\"width\": 2}, \"size\": [1, 0, 0, 0], \"sizemode\": \"area\", \"sizeref\": 0.01, \"symbol\": \"circle\"}, \"mode\": \"markers\", \"name\": \"Student_14\", \"text\": [\"1\", \"0\", \"0\", \"0\"], \"x\": [\"Student_14\", \"Student_14\", \"Student_14\", \"Student_14\", \"Student_14\"], \"y\": [\"Assign1\", \"Assign2\", \"Assign3\", \"Assign4\"], \"type\": \"scatter\", \"uid\": \"1ca703be-e2e9-11e8-96ad-27ad55f30ab3\"}, {\"marker\": {\"line\": {\"width\": 2}, \"size\": [1, 0, 0, 1], \"sizemode\": \"area\", \"sizeref\": 0.01, \"symbol\": \"circle\"}, \"mode\": \"markers\", \"name\": \"Student_15\", \"text\": [\"1\", \"0\", \"0\", \"1\"], \"x\": [\"Student_15\", \"Student_15\", \"Student_15\", \"Student_15\", \"Student_15\"], \"y\": [\"Assign1\", \"Assign2\", \"Assign3\", \"Assign4\"], \"type\": \"scatter\", \"uid\": \"1ca7044a-e2e9-11e8-96ad-27ad55f30ab3\"}, {\"marker\": {\"line\": {\"width\": 2}, \"size\": [0, 0, 1, 0], \"sizemode\": \"area\", \"sizeref\": 0.01, \"symbol\": \"circle\"}, \"mode\": \"markers\", \"name\": \"Student_16\", \"text\": [\"0\", \"0\", \"1\", \"0\"], \"x\": [\"Student_16\", \"Student_16\", \"Student_16\", \"Student_16\", \"Student_16\"], \"y\": [\"Assign1\", \"Assign2\", \"Assign3\", \"Assign4\"], \"type\": \"scatter\", \"uid\": \"1ca704cc-e2e9-11e8-96ad-27ad55f30ab3\"}, {\"marker\": {\"line\": {\"width\": 2}, \"size\": [0, 1, 1, 1], \"sizemode\": \"area\", \"sizeref\": 0.01, \"symbol\": \"circle\"}, \"mode\": \"markers\", \"name\": \"Student_17\", \"text\": [\"0\", \"1\", \"1\", \"1\"], \"x\": [\"Student_17\", \"Student_17\", \"Student_17\", \"Student_17\", \"Student_17\"], \"y\": [\"Assign1\", \"Assign2\", \"Assign3\", \"Assign4\"], \"type\": \"scatter\", \"uid\": \"1ca7054e-e2e9-11e8-96ad-27ad55f30ab3\"}, {\"marker\": {\"line\": {\"width\": 2}, \"size\": [0, 1, 1, 1], \"sizemode\": \"area\", \"sizeref\": 0.01, \"symbol\": \"circle\"}, \"mode\": \"markers\", \"name\": \"Student_18\", \"text\": [\"0\", \"1\", \"1\", \"1\"], \"x\": [\"Student_18\", \"Student_18\", \"Student_18\", \"Student_18\", \"Student_18\"], \"y\": [\"Assign1\", \"Assign2\", \"Assign3\", \"Assign4\"], \"type\": \"scatter\", \"uid\": \"1ca705d0-e2e9-11e8-96ad-27ad55f30ab3\"}, {\"marker\": {\"line\": {\"width\": 2}, \"size\": [1, 0, 0, 0], \"sizemode\": \"area\", \"sizeref\": 0.01, \"symbol\": \"circle\"}, \"mode\": \"markers\", \"name\": \"Student_19\", \"text\": [\"1\", \"0\", \"0\", \"0\"], \"x\": [\"Student_19\", \"Student_19\", \"Student_19\", \"Student_19\", \"Student_19\"], \"y\": [\"Assign1\", \"Assign2\", \"Assign3\", \"Assign4\"], \"type\": \"scatter\", \"uid\": \"1ca70648-e2e9-11e8-96ad-27ad55f30ab3\"}, {\"marker\": {\"line\": {\"width\": 2}, \"size\": [1, 0, 0, 1], \"sizemode\": \"area\", \"sizeref\": 0.01, \"symbol\": \"circle\"}, \"mode\": \"markers\", \"name\": \"Student_20\", \"text\": [\"1\", \"0\", \"0\", \"1\"], \"x\": [\"Student_20\", \"Student_20\", \"Student_20\", \"Student_20\", \"Student_20\"], \"y\": [\"Assign1\", \"Assign2\", \"Assign3\", \"Assign4\"], \"type\": \"scatter\", \"uid\": \"1ca706c0-e2e9-11e8-96ad-27ad55f30ab3\"}], {\"hovermode\": \"closest\", \"showlegend\": true, \"title\": \"Atividades feitas por estudante\", \"xaxis\": {\"autorange\": false, \"fixedrange\": false, \"range\": [-1, 20], \"rangemode\": \"normal\", \"showline\": true, \"title\": \"Estudantes\", \"type\": \"category\"}, \"yaxis\": {\"autorange\": false, \"categoryorder\": \"category ascending\", \"fixedrange\": false, \"range\": [-1, 4], \"rangemode\": \"normal\", \"showline\": true, \"title\": \"Atividades\", \"type\": \"category\"}}, {\"showLink\": true, \"linkText\": \"Export to plot.ly\"})});</script>"
      ]
     },
     "metadata": {},
     "output_type": "display_data"
    },
    {
     "data": {
      "application/vnd.plotly.v1+json": {
       "data": [
        {
         "colorscale": [
          [
           0,
           "rgb(255,255,255)"
          ],
          [
           1,
           "rgb(0,0,255)"
          ]
         ],
         "type": "heatmap",
         "uid": "1cb4bfb8-e2e9-11e8-96ad-27ad55f30ab3",
         "x": [
          "Assign1",
          "Assign2",
          "Assign3",
          "Assign4"
         ],
         "y": [
          "Student_1",
          "Student_2",
          "Student_3",
          "Student_4",
          "Student_5",
          "Student_6",
          "Student_7",
          "Student_8",
          "Student_9",
          "Student_10",
          "Student_11",
          "Student_12",
          "Student_13",
          "Student_14",
          "Student_15",
          "Student_16",
          "Student_17",
          "Student_18",
          "Student_19",
          "Student_20"
         ],
         "z": [
          [
           0,
           1,
           0,
           1
          ],
          [
           0,
           1,
           0,
           0
          ],
          [
           0,
           1,
           1,
           1
          ],
          [
           0,
           0,
           0,
           1
          ],
          [
           1,
           1,
           0,
           0
          ],
          [
           1,
           0,
           1,
           0
          ],
          [
           0,
           1,
           1,
           1
          ],
          [
           0,
           0,
           0,
           0
          ],
          [
           0,
           1,
           1,
           1
          ],
          [
           1,
           1,
           1,
           0
          ],
          [
           1,
           0,
           1,
           1
          ],
          [
           1,
           0,
           0,
           0
          ],
          [
           1,
           0,
           0,
           0
          ],
          [
           1,
           0,
           0,
           0
          ],
          [
           1,
           0,
           0,
           1
          ],
          [
           0,
           0,
           1,
           0
          ],
          [
           0,
           1,
           1,
           1
          ],
          [
           0,
           1,
           1,
           1
          ],
          [
           1,
           0,
           0,
           0
          ],
          [
           1,
           0,
           0,
           1
          ]
         ]
        }
       ],
       "layout": {
        "title": "Atividades feitas por estudante",
        "yaxis": {
         "dtick": 1,
         "exponentformat": "e",
         "gridcolor": "#bdbdbd",
         "showexponent": "all",
         "showticklabels": true,
         "tick0": 0,
         "titlefont": {
          "color": "lightgrey",
          "family": "Arial, sans-serif"
         }
        }
       }
      },
      "text/html": [
       "<div id=\"67074c87-4405-4740-9912-b81a1c709573\" style=\"height: 525px; width: 100%;\" class=\"plotly-graph-div\"></div><script type=\"text/javascript\">require([\"plotly\"], function(Plotly) { window.PLOTLYENV=window.PLOTLYENV || {};window.PLOTLYENV.BASE_URL=\"https://plot.ly\";Plotly.newPlot(\"67074c87-4405-4740-9912-b81a1c709573\", [{\"colorscale\": [[0, \"rgb(255,255,255)\"], [1, \"rgb(0,0,255)\"]], \"x\": [\"Assign1\", \"Assign2\", \"Assign3\", \"Assign4\"], \"y\": [\"Student_1\", \"Student_2\", \"Student_3\", \"Student_4\", \"Student_5\", \"Student_6\", \"Student_7\", \"Student_8\", \"Student_9\", \"Student_10\", \"Student_11\", \"Student_12\", \"Student_13\", \"Student_14\", \"Student_15\", \"Student_16\", \"Student_17\", \"Student_18\", \"Student_19\", \"Student_20\"], \"z\": [[0, 1, 0, 1], [0, 1, 0, 0], [0, 1, 1, 1], [0, 0, 0, 1], [1, 1, 0, 0], [1, 0, 1, 0], [0, 1, 1, 1], [0, 0, 0, 0], [0, 1, 1, 1], [1, 1, 1, 0], [1, 0, 1, 1], [1, 0, 0, 0], [1, 0, 0, 0], [1, 0, 0, 0], [1, 0, 0, 1], [0, 0, 1, 0], [0, 1, 1, 1], [0, 1, 1, 1], [1, 0, 0, 0], [1, 0, 0, 1]], \"type\": \"heatmap\", \"uid\": \"1cb4bfb8-e2e9-11e8-96ad-27ad55f30ab3\"}], {\"title\": \"Atividades feitas por estudante\", \"yaxis\": {\"dtick\": 1, \"exponentformat\": \"e\", \"gridcolor\": \"#bdbdbd\", \"showexponent\": \"all\", \"showticklabels\": true, \"tick0\": 0, \"titlefont\": {\"color\": \"lightgrey\", \"family\": \"Arial, sans-serif\"}}}, {\"showLink\": true, \"linkText\": \"Export to plot.ly\"})});</script>"
      ],
      "text/vnd.plotly.v1+html": [
       "<div id=\"67074c87-4405-4740-9912-b81a1c709573\" style=\"height: 525px; width: 100%;\" class=\"plotly-graph-div\"></div><script type=\"text/javascript\">require([\"plotly\"], function(Plotly) { window.PLOTLYENV=window.PLOTLYENV || {};window.PLOTLYENV.BASE_URL=\"https://plot.ly\";Plotly.newPlot(\"67074c87-4405-4740-9912-b81a1c709573\", [{\"colorscale\": [[0, \"rgb(255,255,255)\"], [1, \"rgb(0,0,255)\"]], \"x\": [\"Assign1\", \"Assign2\", \"Assign3\", \"Assign4\"], \"y\": [\"Student_1\", \"Student_2\", \"Student_3\", \"Student_4\", \"Student_5\", \"Student_6\", \"Student_7\", \"Student_8\", \"Student_9\", \"Student_10\", \"Student_11\", \"Student_12\", \"Student_13\", \"Student_14\", \"Student_15\", \"Student_16\", \"Student_17\", \"Student_18\", \"Student_19\", \"Student_20\"], \"z\": [[0, 1, 0, 1], [0, 1, 0, 0], [0, 1, 1, 1], [0, 0, 0, 1], [1, 1, 0, 0], [1, 0, 1, 0], [0, 1, 1, 1], [0, 0, 0, 0], [0, 1, 1, 1], [1, 1, 1, 0], [1, 0, 1, 1], [1, 0, 0, 0], [1, 0, 0, 0], [1, 0, 0, 0], [1, 0, 0, 1], [0, 0, 1, 0], [0, 1, 1, 1], [0, 1, 1, 1], [1, 0, 0, 0], [1, 0, 0, 1]], \"type\": \"heatmap\", \"uid\": \"1cb4bfb8-e2e9-11e8-96ad-27ad55f30ab3\"}], {\"title\": \"Atividades feitas por estudante\", \"yaxis\": {\"dtick\": 1, \"exponentformat\": \"e\", \"gridcolor\": \"#bdbdbd\", \"showexponent\": \"all\", \"showticklabels\": true, \"tick0\": 0, \"titlefont\": {\"color\": \"lightgrey\", \"family\": \"Arial, sans-serif\"}}}, {\"showLink\": true, \"linkText\": \"Export to plot.ly\"})});</script>"
      ]
     },
     "metadata": {},
     "output_type": "display_data"
    }
   ],
   "source": [
    "run scripts/V001.py"
   ]
  },
  {
   "cell_type": "markdown",
   "metadata": {},
   "source": [
    "### View 002"
   ]
  },
  {
   "cell_type": "code",
   "execution_count": 3,
   "metadata": {
    "scrolled": true
   },
   "outputs": [
    {
     "data": {
      "text/html": [
       "<script>requirejs.config({paths: { 'plotly': ['https://cdn.plot.ly/plotly-latest.min']},});if(!window.Plotly) {{require(['plotly'],function(plotly) {window.Plotly=plotly;});}}</script>"
      ],
      "text/vnd.plotly.v1+html": [
       "<script>requirejs.config({paths: { 'plotly': ['https://cdn.plot.ly/plotly-latest.min']},});if(!window.Plotly) {{require(['plotly'],function(plotly) {window.Plotly=plotly;});}}</script>"
      ]
     },
     "metadata": {},
     "output_type": "display_data"
    },
    {
     "data": {
      "application/vnd.plotly.v1+json": {
       "data": [
        {
         "cells": {
          "align": [
           "left",
           "center"
          ],
          "fill": {
           "color": "#F5F8FF"
          },
          "values": [
           [
            "Student_1",
            "Student_2",
            "Student_3",
            "Student_4",
            "Student_5",
            "Student_6",
            "Student_7",
            "Student_8",
            "Student_9",
            "Student_10",
            "Student_11",
            "Student_12",
            "Student_13",
            "Student_14",
            "Student_15",
            "Student_16",
            "Student_17",
            "Student_18",
            "Student_19",
            "Student_20"
           ],
           [
            17,
            12,
            14,
            27,
            9,
            15,
            13,
            24,
            4,
            26,
            19,
            19,
            23,
            29,
            11,
            12,
            21,
            28,
            4,
            20
           ],
           [
            1,
            21,
            5,
            23,
            15,
            10,
            9,
            12,
            16,
            6,
            25,
            15,
            27,
            28,
            23,
            29,
            2,
            11,
            13,
            22
           ],
           [
            14,
            23,
            17,
            25,
            6,
            16,
            27,
            9,
            22,
            13,
            21,
            13,
            9,
            23,
            19,
            11,
            23,
            9,
            0,
            23
           ],
           [
            3,
            21,
            3,
            13,
            10,
            8,
            18,
            1,
            28,
            13,
            7,
            11,
            6,
            28,
            4,
            7,
            22,
            11,
            2,
            20
           ],
           [
            16,
            8,
            10,
            16,
            6,
            28,
            3,
            0,
            8,
            10,
            5,
            28,
            19,
            27,
            26,
            29,
            13,
            11,
            1,
            29
           ],
           [
            28,
            27,
            3,
            22,
            4,
            6,
            20,
            8,
            9,
            12,
            19,
            6,
            2,
            13,
            18,
            29,
            11,
            17,
            18,
            20
           ],
           [
            18,
            25,
            13,
            22,
            7,
            24,
            0,
            2,
            22,
            27,
            25,
            12,
            25,
            21,
            29,
            7,
            26,
            24,
            20,
            21
           ],
           [
            10,
            13,
            19,
            10,
            24,
            4,
            4,
            10,
            9,
            19,
            6,
            3,
            10,
            0,
            16,
            11,
            6,
            13,
            21,
            9
           ]
          ]
         },
         "header": {
          "align": "center",
          "fill": {
           "color": "#C2D4FF"
          },
          "values": [
           "Students",
           "Video1",
           "Video2",
           "Quiz1",
           "Quiz2",
           "Pdf1",
           "Pdf2",
           "Ebook1",
           "Ebook2"
          ]
         },
         "type": "table",
         "uid": "1a675fbe-e2e8-11e8-96ad-27ad55f30ab3"
        }
       ],
       "layout": {}
      },
      "text/html": [
       "<div id=\"0b004b46-d27a-42bb-9544-bbf08262d704\" style=\"height: 525px; width: 100%;\" class=\"plotly-graph-div\"></div><script type=\"text/javascript\">require([\"plotly\"], function(Plotly) { window.PLOTLYENV=window.PLOTLYENV || {};window.PLOTLYENV.BASE_URL=\"https://plot.ly\";Plotly.newPlot(\"0b004b46-d27a-42bb-9544-bbf08262d704\", [{\"cells\": {\"align\": [\"left\", \"center\"], \"fill\": {\"color\": \"#F5F8FF\"}, \"values\": [[\"Student_1\", \"Student_2\", \"Student_3\", \"Student_4\", \"Student_5\", \"Student_6\", \"Student_7\", \"Student_8\", \"Student_9\", \"Student_10\", \"Student_11\", \"Student_12\", \"Student_13\", \"Student_14\", \"Student_15\", \"Student_16\", \"Student_17\", \"Student_18\", \"Student_19\", \"Student_20\"], [17, 12, 14, 27, 9, 15, 13, 24, 4, 26, 19, 19, 23, 29, 11, 12, 21, 28, 4, 20], [1, 21, 5, 23, 15, 10, 9, 12, 16, 6, 25, 15, 27, 28, 23, 29, 2, 11, 13, 22], [14, 23, 17, 25, 6, 16, 27, 9, 22, 13, 21, 13, 9, 23, 19, 11, 23, 9, 0, 23], [3, 21, 3, 13, 10, 8, 18, 1, 28, 13, 7, 11, 6, 28, 4, 7, 22, 11, 2, 20], [16, 8, 10, 16, 6, 28, 3, 0, 8, 10, 5, 28, 19, 27, 26, 29, 13, 11, 1, 29], [28, 27, 3, 22, 4, 6, 20, 8, 9, 12, 19, 6, 2, 13, 18, 29, 11, 17, 18, 20], [18, 25, 13, 22, 7, 24, 0, 2, 22, 27, 25, 12, 25, 21, 29, 7, 26, 24, 20, 21], [10, 13, 19, 10, 24, 4, 4, 10, 9, 19, 6, 3, 10, 0, 16, 11, 6, 13, 21, 9]]}, \"header\": {\"align\": \"center\", \"fill\": {\"color\": \"#C2D4FF\"}, \"values\": [\"Students\", \"Video1\", \"Video2\", \"Quiz1\", \"Quiz2\", \"Pdf1\", \"Pdf2\", \"Ebook1\", \"Ebook2\"]}, \"type\": \"table\", \"uid\": \"1a697402-e2e8-11e8-96ad-27ad55f30ab3\"}], {}, {\"showLink\": true, \"linkText\": \"Export to plot.ly\"})});</script>"
      ],
      "text/vnd.plotly.v1+html": [
       "<div id=\"0b004b46-d27a-42bb-9544-bbf08262d704\" style=\"height: 525px; width: 100%;\" class=\"plotly-graph-div\"></div><script type=\"text/javascript\">require([\"plotly\"], function(Plotly) { window.PLOTLYENV=window.PLOTLYENV || {};window.PLOTLYENV.BASE_URL=\"https://plot.ly\";Plotly.newPlot(\"0b004b46-d27a-42bb-9544-bbf08262d704\", [{\"cells\": {\"align\": [\"left\", \"center\"], \"fill\": {\"color\": \"#F5F8FF\"}, \"values\": [[\"Student_1\", \"Student_2\", \"Student_3\", \"Student_4\", \"Student_5\", \"Student_6\", \"Student_7\", \"Student_8\", \"Student_9\", \"Student_10\", \"Student_11\", \"Student_12\", \"Student_13\", \"Student_14\", \"Student_15\", \"Student_16\", \"Student_17\", \"Student_18\", \"Student_19\", \"Student_20\"], [17, 12, 14, 27, 9, 15, 13, 24, 4, 26, 19, 19, 23, 29, 11, 12, 21, 28, 4, 20], [1, 21, 5, 23, 15, 10, 9, 12, 16, 6, 25, 15, 27, 28, 23, 29, 2, 11, 13, 22], [14, 23, 17, 25, 6, 16, 27, 9, 22, 13, 21, 13, 9, 23, 19, 11, 23, 9, 0, 23], [3, 21, 3, 13, 10, 8, 18, 1, 28, 13, 7, 11, 6, 28, 4, 7, 22, 11, 2, 20], [16, 8, 10, 16, 6, 28, 3, 0, 8, 10, 5, 28, 19, 27, 26, 29, 13, 11, 1, 29], [28, 27, 3, 22, 4, 6, 20, 8, 9, 12, 19, 6, 2, 13, 18, 29, 11, 17, 18, 20], [18, 25, 13, 22, 7, 24, 0, 2, 22, 27, 25, 12, 25, 21, 29, 7, 26, 24, 20, 21], [10, 13, 19, 10, 24, 4, 4, 10, 9, 19, 6, 3, 10, 0, 16, 11, 6, 13, 21, 9]]}, \"header\": {\"align\": \"center\", \"fill\": {\"color\": \"#C2D4FF\"}, \"values\": [\"Students\", \"Video1\", \"Video2\", \"Quiz1\", \"Quiz2\", \"Pdf1\", \"Pdf2\", \"Ebook1\", \"Ebook2\"]}, \"type\": \"table\", \"uid\": \"1a697402-e2e8-11e8-96ad-27ad55f30ab3\"}], {}, {\"showLink\": true, \"linkText\": \"Export to plot.ly\"})});</script>"
      ]
     },
     "metadata": {},
     "output_type": "display_data"
    },
    {
     "data": {
      "application/vnd.plotly.v1+json": {
       "data": [
        {
         "name": "Video1",
         "type": "bar",
         "uid": "1a7389ec-e2e8-11e8-96ad-27ad55f30ab3",
         "x": [
          "Student_1",
          "Student_2",
          "Student_3",
          "Student_4",
          "Student_5",
          "Student_6",
          "Student_7",
          "Student_8",
          "Student_9",
          "Student_10",
          "Student_11",
          "Student_12",
          "Student_13",
          "Student_14",
          "Student_15",
          "Student_16",
          "Student_17",
          "Student_18",
          "Student_19",
          "Student_20"
         ],
         "y": [
          17,
          12,
          14,
          27,
          9,
          15,
          13,
          24,
          4,
          26,
          19,
          19,
          23,
          29,
          11,
          12,
          21,
          28,
          4,
          20
         ]
        },
        {
         "name": "Video2",
         "type": "bar",
         "uid": "1a738bcc-e2e8-11e8-96ad-27ad55f30ab3",
         "x": [
          "Student_1",
          "Student_2",
          "Student_3",
          "Student_4",
          "Student_5",
          "Student_6",
          "Student_7",
          "Student_8",
          "Student_9",
          "Student_10",
          "Student_11",
          "Student_12",
          "Student_13",
          "Student_14",
          "Student_15",
          "Student_16",
          "Student_17",
          "Student_18",
          "Student_19",
          "Student_20"
         ],
         "y": [
          1,
          21,
          5,
          23,
          15,
          10,
          9,
          12,
          16,
          6,
          25,
          15,
          27,
          28,
          23,
          29,
          2,
          11,
          13,
          22
         ]
        },
        {
         "name": "Quiz1",
         "type": "bar",
         "uid": "1a738cda-e2e8-11e8-96ad-27ad55f30ab3",
         "x": [
          "Student_1",
          "Student_2",
          "Student_3",
          "Student_4",
          "Student_5",
          "Student_6",
          "Student_7",
          "Student_8",
          "Student_9",
          "Student_10",
          "Student_11",
          "Student_12",
          "Student_13",
          "Student_14",
          "Student_15",
          "Student_16",
          "Student_17",
          "Student_18",
          "Student_19",
          "Student_20"
         ],
         "y": [
          14,
          23,
          17,
          25,
          6,
          16,
          27,
          9,
          22,
          13,
          21,
          13,
          9,
          23,
          19,
          11,
          23,
          9,
          0,
          23
         ]
        },
        {
         "name": "Quiz2",
         "type": "bar",
         "uid": "1a738dc0-e2e8-11e8-96ad-27ad55f30ab3",
         "x": [
          "Student_1",
          "Student_2",
          "Student_3",
          "Student_4",
          "Student_5",
          "Student_6",
          "Student_7",
          "Student_8",
          "Student_9",
          "Student_10",
          "Student_11",
          "Student_12",
          "Student_13",
          "Student_14",
          "Student_15",
          "Student_16",
          "Student_17",
          "Student_18",
          "Student_19",
          "Student_20"
         ],
         "y": [
          3,
          21,
          3,
          13,
          10,
          8,
          18,
          1,
          28,
          13,
          7,
          11,
          6,
          28,
          4,
          7,
          22,
          11,
          2,
          20
         ]
        },
        {
         "name": "Pdf1",
         "type": "bar",
         "uid": "1a738e92-e2e8-11e8-96ad-27ad55f30ab3",
         "x": [
          "Student_1",
          "Student_2",
          "Student_3",
          "Student_4",
          "Student_5",
          "Student_6",
          "Student_7",
          "Student_8",
          "Student_9",
          "Student_10",
          "Student_11",
          "Student_12",
          "Student_13",
          "Student_14",
          "Student_15",
          "Student_16",
          "Student_17",
          "Student_18",
          "Student_19",
          "Student_20"
         ],
         "y": [
          16,
          8,
          10,
          16,
          6,
          28,
          3,
          0,
          8,
          10,
          5,
          28,
          19,
          27,
          26,
          29,
          13,
          11,
          1,
          29
         ]
        },
        {
         "name": "Pdf2",
         "type": "bar",
         "uid": "1a738f64-e2e8-11e8-96ad-27ad55f30ab3",
         "x": [
          "Student_1",
          "Student_2",
          "Student_3",
          "Student_4",
          "Student_5",
          "Student_6",
          "Student_7",
          "Student_8",
          "Student_9",
          "Student_10",
          "Student_11",
          "Student_12",
          "Student_13",
          "Student_14",
          "Student_15",
          "Student_16",
          "Student_17",
          "Student_18",
          "Student_19",
          "Student_20"
         ],
         "y": [
          28,
          27,
          3,
          22,
          4,
          6,
          20,
          8,
          9,
          12,
          19,
          6,
          2,
          13,
          18,
          29,
          11,
          17,
          18,
          20
         ]
        },
        {
         "name": "Ebook1",
         "type": "bar",
         "uid": "1a73902c-e2e8-11e8-96ad-27ad55f30ab3",
         "x": [
          "Student_1",
          "Student_2",
          "Student_3",
          "Student_4",
          "Student_5",
          "Student_6",
          "Student_7",
          "Student_8",
          "Student_9",
          "Student_10",
          "Student_11",
          "Student_12",
          "Student_13",
          "Student_14",
          "Student_15",
          "Student_16",
          "Student_17",
          "Student_18",
          "Student_19",
          "Student_20"
         ],
         "y": [
          18,
          25,
          13,
          22,
          7,
          24,
          0,
          2,
          22,
          27,
          25,
          12,
          25,
          21,
          29,
          7,
          26,
          24,
          20,
          21
         ]
        },
        {
         "name": "Ebook2",
         "type": "bar",
         "uid": "1a7390e0-e2e8-11e8-96ad-27ad55f30ab3",
         "x": [
          "Student_1",
          "Student_2",
          "Student_3",
          "Student_4",
          "Student_5",
          "Student_6",
          "Student_7",
          "Student_8",
          "Student_9",
          "Student_10",
          "Student_11",
          "Student_12",
          "Student_13",
          "Student_14",
          "Student_15",
          "Student_16",
          "Student_17",
          "Student_18",
          "Student_19",
          "Student_20"
         ],
         "y": [
          10,
          13,
          19,
          10,
          24,
          4,
          4,
          10,
          9,
          19,
          6,
          3,
          10,
          0,
          16,
          11,
          6,
          13,
          21,
          9
         ]
        }
       ],
       "layout": {
        "title": "Número de acessos nos materiais agrupados por estudante",
        "yaxis": {
         "dtick": 5,
         "exponentformat": "e",
         "gridcolor": "#bdbdbd",
         "showexponent": "all",
         "showticklabels": true,
         "tick0": 0,
         "titlefont": {
          "color": "lightgrey",
          "family": "Arial, sans-serif"
         }
        }
       }
      },
      "text/html": [
       "<div id=\"5b50dedf-7e06-46d0-b5e3-bb68c19baae6\" style=\"height: 525px; width: 100%;\" class=\"plotly-graph-div\"></div><script type=\"text/javascript\">require([\"plotly\"], function(Plotly) { window.PLOTLYENV=window.PLOTLYENV || {};window.PLOTLYENV.BASE_URL=\"https://plot.ly\";Plotly.newPlot(\"5b50dedf-7e06-46d0-b5e3-bb68c19baae6\", [{\"name\": \"Video1\", \"x\": [\"Student_1\", \"Student_2\", \"Student_3\", \"Student_4\", \"Student_5\", \"Student_6\", \"Student_7\", \"Student_8\", \"Student_9\", \"Student_10\", \"Student_11\", \"Student_12\", \"Student_13\", \"Student_14\", \"Student_15\", \"Student_16\", \"Student_17\", \"Student_18\", \"Student_19\", \"Student_20\"], \"y\": [17, 12, 14, 27, 9, 15, 13, 24, 4, 26, 19, 19, 23, 29, 11, 12, 21, 28, 4, 20], \"type\": \"bar\", \"uid\": \"1a7389ec-e2e8-11e8-96ad-27ad55f30ab3\"}, {\"name\": \"Video2\", \"x\": [\"Student_1\", \"Student_2\", \"Student_3\", \"Student_4\", \"Student_5\", \"Student_6\", \"Student_7\", \"Student_8\", \"Student_9\", \"Student_10\", \"Student_11\", \"Student_12\", \"Student_13\", \"Student_14\", \"Student_15\", \"Student_16\", \"Student_17\", \"Student_18\", \"Student_19\", \"Student_20\"], \"y\": [1, 21, 5, 23, 15, 10, 9, 12, 16, 6, 25, 15, 27, 28, 23, 29, 2, 11, 13, 22], \"type\": \"bar\", \"uid\": \"1a738bcc-e2e8-11e8-96ad-27ad55f30ab3\"}, {\"name\": \"Quiz1\", \"x\": [\"Student_1\", \"Student_2\", \"Student_3\", \"Student_4\", \"Student_5\", \"Student_6\", \"Student_7\", \"Student_8\", \"Student_9\", \"Student_10\", \"Student_11\", \"Student_12\", \"Student_13\", \"Student_14\", \"Student_15\", \"Student_16\", \"Student_17\", \"Student_18\", \"Student_19\", \"Student_20\"], \"y\": [14, 23, 17, 25, 6, 16, 27, 9, 22, 13, 21, 13, 9, 23, 19, 11, 23, 9, 0, 23], \"type\": \"bar\", \"uid\": \"1a738cda-e2e8-11e8-96ad-27ad55f30ab3\"}, {\"name\": \"Quiz2\", \"x\": [\"Student_1\", \"Student_2\", \"Student_3\", \"Student_4\", \"Student_5\", \"Student_6\", \"Student_7\", \"Student_8\", \"Student_9\", \"Student_10\", \"Student_11\", \"Student_12\", \"Student_13\", \"Student_14\", \"Student_15\", \"Student_16\", \"Student_17\", \"Student_18\", \"Student_19\", \"Student_20\"], \"y\": [3, 21, 3, 13, 10, 8, 18, 1, 28, 13, 7, 11, 6, 28, 4, 7, 22, 11, 2, 20], \"type\": \"bar\", \"uid\": \"1a738dc0-e2e8-11e8-96ad-27ad55f30ab3\"}, {\"name\": \"Pdf1\", \"x\": [\"Student_1\", \"Student_2\", \"Student_3\", \"Student_4\", \"Student_5\", \"Student_6\", \"Student_7\", \"Student_8\", \"Student_9\", \"Student_10\", \"Student_11\", \"Student_12\", \"Student_13\", \"Student_14\", \"Student_15\", \"Student_16\", \"Student_17\", \"Student_18\", \"Student_19\", \"Student_20\"], \"y\": [16, 8, 10, 16, 6, 28, 3, 0, 8, 10, 5, 28, 19, 27, 26, 29, 13, 11, 1, 29], \"type\": \"bar\", \"uid\": \"1a738e92-e2e8-11e8-96ad-27ad55f30ab3\"}, {\"name\": \"Pdf2\", \"x\": [\"Student_1\", \"Student_2\", \"Student_3\", \"Student_4\", \"Student_5\", \"Student_6\", \"Student_7\", \"Student_8\", \"Student_9\", \"Student_10\", \"Student_11\", \"Student_12\", \"Student_13\", \"Student_14\", \"Student_15\", \"Student_16\", \"Student_17\", \"Student_18\", \"Student_19\", \"Student_20\"], \"y\": [28, 27, 3, 22, 4, 6, 20, 8, 9, 12, 19, 6, 2, 13, 18, 29, 11, 17, 18, 20], \"type\": \"bar\", \"uid\": \"1a738f64-e2e8-11e8-96ad-27ad55f30ab3\"}, {\"name\": \"Ebook1\", \"x\": [\"Student_1\", \"Student_2\", \"Student_3\", \"Student_4\", \"Student_5\", \"Student_6\", \"Student_7\", \"Student_8\", \"Student_9\", \"Student_10\", \"Student_11\", \"Student_12\", \"Student_13\", \"Student_14\", \"Student_15\", \"Student_16\", \"Student_17\", \"Student_18\", \"Student_19\", \"Student_20\"], \"y\": [18, 25, 13, 22, 7, 24, 0, 2, 22, 27, 25, 12, 25, 21, 29, 7, 26, 24, 20, 21], \"type\": \"bar\", \"uid\": \"1a73902c-e2e8-11e8-96ad-27ad55f30ab3\"}, {\"name\": \"Ebook2\", \"x\": [\"Student_1\", \"Student_2\", \"Student_3\", \"Student_4\", \"Student_5\", \"Student_6\", \"Student_7\", \"Student_8\", \"Student_9\", \"Student_10\", \"Student_11\", \"Student_12\", \"Student_13\", \"Student_14\", \"Student_15\", \"Student_16\", \"Student_17\", \"Student_18\", \"Student_19\", \"Student_20\"], \"y\": [10, 13, 19, 10, 24, 4, 4, 10, 9, 19, 6, 3, 10, 0, 16, 11, 6, 13, 21, 9], \"type\": \"bar\", \"uid\": \"1a7390e0-e2e8-11e8-96ad-27ad55f30ab3\"}], {\"title\": \"N\\u00famero de acessos nos materiais agrupados por estudante\", \"yaxis\": {\"dtick\": 5, \"exponentformat\": \"e\", \"gridcolor\": \"#bdbdbd\", \"showexponent\": \"all\", \"showticklabels\": true, \"tick0\": 0, \"titlefont\": {\"color\": \"lightgrey\", \"family\": \"Arial, sans-serif\"}}}, {\"showLink\": true, \"linkText\": \"Export to plot.ly\"})});</script>"
      ],
      "text/vnd.plotly.v1+html": [
       "<div id=\"5b50dedf-7e06-46d0-b5e3-bb68c19baae6\" style=\"height: 525px; width: 100%;\" class=\"plotly-graph-div\"></div><script type=\"text/javascript\">require([\"plotly\"], function(Plotly) { window.PLOTLYENV=window.PLOTLYENV || {};window.PLOTLYENV.BASE_URL=\"https://plot.ly\";Plotly.newPlot(\"5b50dedf-7e06-46d0-b5e3-bb68c19baae6\", [{\"name\": \"Video1\", \"x\": [\"Student_1\", \"Student_2\", \"Student_3\", \"Student_4\", \"Student_5\", \"Student_6\", \"Student_7\", \"Student_8\", \"Student_9\", \"Student_10\", \"Student_11\", \"Student_12\", \"Student_13\", \"Student_14\", \"Student_15\", \"Student_16\", \"Student_17\", \"Student_18\", \"Student_19\", \"Student_20\"], \"y\": [17, 12, 14, 27, 9, 15, 13, 24, 4, 26, 19, 19, 23, 29, 11, 12, 21, 28, 4, 20], \"type\": \"bar\", \"uid\": \"1a7389ec-e2e8-11e8-96ad-27ad55f30ab3\"}, {\"name\": \"Video2\", \"x\": [\"Student_1\", \"Student_2\", \"Student_3\", \"Student_4\", \"Student_5\", \"Student_6\", \"Student_7\", \"Student_8\", \"Student_9\", \"Student_10\", \"Student_11\", \"Student_12\", \"Student_13\", \"Student_14\", \"Student_15\", \"Student_16\", \"Student_17\", \"Student_18\", \"Student_19\", \"Student_20\"], \"y\": [1, 21, 5, 23, 15, 10, 9, 12, 16, 6, 25, 15, 27, 28, 23, 29, 2, 11, 13, 22], \"type\": \"bar\", \"uid\": \"1a738bcc-e2e8-11e8-96ad-27ad55f30ab3\"}, {\"name\": \"Quiz1\", \"x\": [\"Student_1\", \"Student_2\", \"Student_3\", \"Student_4\", \"Student_5\", \"Student_6\", \"Student_7\", \"Student_8\", \"Student_9\", \"Student_10\", \"Student_11\", \"Student_12\", \"Student_13\", \"Student_14\", \"Student_15\", \"Student_16\", \"Student_17\", \"Student_18\", \"Student_19\", \"Student_20\"], \"y\": [14, 23, 17, 25, 6, 16, 27, 9, 22, 13, 21, 13, 9, 23, 19, 11, 23, 9, 0, 23], \"type\": \"bar\", \"uid\": \"1a738cda-e2e8-11e8-96ad-27ad55f30ab3\"}, {\"name\": \"Quiz2\", \"x\": [\"Student_1\", \"Student_2\", \"Student_3\", \"Student_4\", \"Student_5\", \"Student_6\", \"Student_7\", \"Student_8\", \"Student_9\", \"Student_10\", \"Student_11\", \"Student_12\", \"Student_13\", \"Student_14\", \"Student_15\", \"Student_16\", \"Student_17\", \"Student_18\", \"Student_19\", \"Student_20\"], \"y\": [3, 21, 3, 13, 10, 8, 18, 1, 28, 13, 7, 11, 6, 28, 4, 7, 22, 11, 2, 20], \"type\": \"bar\", \"uid\": \"1a738dc0-e2e8-11e8-96ad-27ad55f30ab3\"}, {\"name\": \"Pdf1\", \"x\": [\"Student_1\", \"Student_2\", \"Student_3\", \"Student_4\", \"Student_5\", \"Student_6\", \"Student_7\", \"Student_8\", \"Student_9\", \"Student_10\", \"Student_11\", \"Student_12\", \"Student_13\", \"Student_14\", \"Student_15\", \"Student_16\", \"Student_17\", \"Student_18\", \"Student_19\", \"Student_20\"], \"y\": [16, 8, 10, 16, 6, 28, 3, 0, 8, 10, 5, 28, 19, 27, 26, 29, 13, 11, 1, 29], \"type\": \"bar\", \"uid\": \"1a738e92-e2e8-11e8-96ad-27ad55f30ab3\"}, {\"name\": \"Pdf2\", \"x\": [\"Student_1\", \"Student_2\", \"Student_3\", \"Student_4\", \"Student_5\", \"Student_6\", \"Student_7\", \"Student_8\", \"Student_9\", \"Student_10\", \"Student_11\", \"Student_12\", \"Student_13\", \"Student_14\", \"Student_15\", \"Student_16\", \"Student_17\", \"Student_18\", \"Student_19\", \"Student_20\"], \"y\": [28, 27, 3, 22, 4, 6, 20, 8, 9, 12, 19, 6, 2, 13, 18, 29, 11, 17, 18, 20], \"type\": \"bar\", \"uid\": \"1a738f64-e2e8-11e8-96ad-27ad55f30ab3\"}, {\"name\": \"Ebook1\", \"x\": [\"Student_1\", \"Student_2\", \"Student_3\", \"Student_4\", \"Student_5\", \"Student_6\", \"Student_7\", \"Student_8\", \"Student_9\", \"Student_10\", \"Student_11\", \"Student_12\", \"Student_13\", \"Student_14\", \"Student_15\", \"Student_16\", \"Student_17\", \"Student_18\", \"Student_19\", \"Student_20\"], \"y\": [18, 25, 13, 22, 7, 24, 0, 2, 22, 27, 25, 12, 25, 21, 29, 7, 26, 24, 20, 21], \"type\": \"bar\", \"uid\": \"1a73902c-e2e8-11e8-96ad-27ad55f30ab3\"}, {\"name\": \"Ebook2\", \"x\": [\"Student_1\", \"Student_2\", \"Student_3\", \"Student_4\", \"Student_5\", \"Student_6\", \"Student_7\", \"Student_8\", \"Student_9\", \"Student_10\", \"Student_11\", \"Student_12\", \"Student_13\", \"Student_14\", \"Student_15\", \"Student_16\", \"Student_17\", \"Student_18\", \"Student_19\", \"Student_20\"], \"y\": [10, 13, 19, 10, 24, 4, 4, 10, 9, 19, 6, 3, 10, 0, 16, 11, 6, 13, 21, 9], \"type\": \"bar\", \"uid\": \"1a7390e0-e2e8-11e8-96ad-27ad55f30ab3\"}], {\"title\": \"N\\u00famero de acessos nos materiais agrupados por estudante\", \"yaxis\": {\"dtick\": 5, \"exponentformat\": \"e\", \"gridcolor\": \"#bdbdbd\", \"showexponent\": \"all\", \"showticklabels\": true, \"tick0\": 0, \"titlefont\": {\"color\": \"lightgrey\", \"family\": \"Arial, sans-serif\"}}}, {\"showLink\": true, \"linkText\": \"Export to plot.ly\"})});</script>"
      ]
     },
     "metadata": {},
     "output_type": "display_data"
    },
    {
     "data": {
      "application/vnd.plotly.v1+json": {
       "data": [
        {
         "name": "Video1",
         "type": "bar",
         "uid": "1a7ced98-e2e8-11e8-96ad-27ad55f30ab3",
         "x": [
          "Student_1",
          "Student_2",
          "Student_3",
          "Student_4",
          "Student_5",
          "Student_6",
          "Student_7",
          "Student_8",
          "Student_9",
          "Student_10",
          "Student_11",
          "Student_12",
          "Student_13",
          "Student_14",
          "Student_15",
          "Student_16",
          "Student_17",
          "Student_18",
          "Student_19",
          "Student_20"
         ],
         "y": [
          17,
          12,
          14,
          27,
          9,
          15,
          13,
          24,
          4,
          26,
          19,
          19,
          23,
          29,
          11,
          12,
          21,
          28,
          4,
          20
         ]
        },
        {
         "name": "Video2",
         "type": "bar",
         "uid": "1a7cef5a-e2e8-11e8-96ad-27ad55f30ab3",
         "x": [
          "Student_1",
          "Student_2",
          "Student_3",
          "Student_4",
          "Student_5",
          "Student_6",
          "Student_7",
          "Student_8",
          "Student_9",
          "Student_10",
          "Student_11",
          "Student_12",
          "Student_13",
          "Student_14",
          "Student_15",
          "Student_16",
          "Student_17",
          "Student_18",
          "Student_19",
          "Student_20"
         ],
         "y": [
          1,
          21,
          5,
          23,
          15,
          10,
          9,
          12,
          16,
          6,
          25,
          15,
          27,
          28,
          23,
          29,
          2,
          11,
          13,
          22
         ]
        },
        {
         "name": "Quiz1",
         "type": "bar",
         "uid": "1a7cf022-e2e8-11e8-96ad-27ad55f30ab3",
         "x": [
          "Student_1",
          "Student_2",
          "Student_3",
          "Student_4",
          "Student_5",
          "Student_6",
          "Student_7",
          "Student_8",
          "Student_9",
          "Student_10",
          "Student_11",
          "Student_12",
          "Student_13",
          "Student_14",
          "Student_15",
          "Student_16",
          "Student_17",
          "Student_18",
          "Student_19",
          "Student_20"
         ],
         "y": [
          14,
          23,
          17,
          25,
          6,
          16,
          27,
          9,
          22,
          13,
          21,
          13,
          9,
          23,
          19,
          11,
          23,
          9,
          0,
          23
         ]
        },
        {
         "name": "Quiz2",
         "type": "bar",
         "uid": "1a7cf0cc-e2e8-11e8-96ad-27ad55f30ab3",
         "x": [
          "Student_1",
          "Student_2",
          "Student_3",
          "Student_4",
          "Student_5",
          "Student_6",
          "Student_7",
          "Student_8",
          "Student_9",
          "Student_10",
          "Student_11",
          "Student_12",
          "Student_13",
          "Student_14",
          "Student_15",
          "Student_16",
          "Student_17",
          "Student_18",
          "Student_19",
          "Student_20"
         ],
         "y": [
          3,
          21,
          3,
          13,
          10,
          8,
          18,
          1,
          28,
          13,
          7,
          11,
          6,
          28,
          4,
          7,
          22,
          11,
          2,
          20
         ]
        },
        {
         "name": "Pdf1",
         "type": "bar",
         "uid": "1a7cf162-e2e8-11e8-96ad-27ad55f30ab3",
         "x": [
          "Student_1",
          "Student_2",
          "Student_3",
          "Student_4",
          "Student_5",
          "Student_6",
          "Student_7",
          "Student_8",
          "Student_9",
          "Student_10",
          "Student_11",
          "Student_12",
          "Student_13",
          "Student_14",
          "Student_15",
          "Student_16",
          "Student_17",
          "Student_18",
          "Student_19",
          "Student_20"
         ],
         "y": [
          16,
          8,
          10,
          16,
          6,
          28,
          3,
          0,
          8,
          10,
          5,
          28,
          19,
          27,
          26,
          29,
          13,
          11,
          1,
          29
         ]
        },
        {
         "name": "Pdf2",
         "type": "bar",
         "uid": "1a7cf1e4-e2e8-11e8-96ad-27ad55f30ab3",
         "x": [
          "Student_1",
          "Student_2",
          "Student_3",
          "Student_4",
          "Student_5",
          "Student_6",
          "Student_7",
          "Student_8",
          "Student_9",
          "Student_10",
          "Student_11",
          "Student_12",
          "Student_13",
          "Student_14",
          "Student_15",
          "Student_16",
          "Student_17",
          "Student_18",
          "Student_19",
          "Student_20"
         ],
         "y": [
          28,
          27,
          3,
          22,
          4,
          6,
          20,
          8,
          9,
          12,
          19,
          6,
          2,
          13,
          18,
          29,
          11,
          17,
          18,
          20
         ]
        },
        {
         "name": "Ebook1",
         "type": "bar",
         "uid": "1a7cf266-e2e8-11e8-96ad-27ad55f30ab3",
         "x": [
          "Student_1",
          "Student_2",
          "Student_3",
          "Student_4",
          "Student_5",
          "Student_6",
          "Student_7",
          "Student_8",
          "Student_9",
          "Student_10",
          "Student_11",
          "Student_12",
          "Student_13",
          "Student_14",
          "Student_15",
          "Student_16",
          "Student_17",
          "Student_18",
          "Student_19",
          "Student_20"
         ],
         "y": [
          18,
          25,
          13,
          22,
          7,
          24,
          0,
          2,
          22,
          27,
          25,
          12,
          25,
          21,
          29,
          7,
          26,
          24,
          20,
          21
         ]
        },
        {
         "name": "Ebook2",
         "type": "bar",
         "uid": "1a7cf2de-e2e8-11e8-96ad-27ad55f30ab3",
         "x": [
          "Student_1",
          "Student_2",
          "Student_3",
          "Student_4",
          "Student_5",
          "Student_6",
          "Student_7",
          "Student_8",
          "Student_9",
          "Student_10",
          "Student_11",
          "Student_12",
          "Student_13",
          "Student_14",
          "Student_15",
          "Student_16",
          "Student_17",
          "Student_18",
          "Student_19",
          "Student_20"
         ],
         "y": [
          10,
          13,
          19,
          10,
          24,
          4,
          4,
          10,
          9,
          19,
          6,
          3,
          10,
          0,
          16,
          11,
          6,
          13,
          21,
          9
         ]
        }
       ],
       "layout": {
        "barmode": "stack",
        "title": "Número de acessos nos materiais agrupados por estudante",
        "yaxis": {
         "dtick": 15,
         "exponentformat": "e",
         "gridcolor": "#bdbdbd",
         "showexponent": "all",
         "showticklabels": true,
         "tick0": 0,
         "titlefont": {
          "color": "lightgrey",
          "family": "Arial, sans-serif"
         }
        }
       }
      },
      "text/html": [
       "<div id=\"0c7dea1e-e7a2-4aad-ab6c-1d7c5ba12e34\" style=\"height: 525px; width: 100%;\" class=\"plotly-graph-div\"></div><script type=\"text/javascript\">require([\"plotly\"], function(Plotly) { window.PLOTLYENV=window.PLOTLYENV || {};window.PLOTLYENV.BASE_URL=\"https://plot.ly\";Plotly.newPlot(\"0c7dea1e-e7a2-4aad-ab6c-1d7c5ba12e34\", [{\"name\": \"Video1\", \"x\": [\"Student_1\", \"Student_2\", \"Student_3\", \"Student_4\", \"Student_5\", \"Student_6\", \"Student_7\", \"Student_8\", \"Student_9\", \"Student_10\", \"Student_11\", \"Student_12\", \"Student_13\", \"Student_14\", \"Student_15\", \"Student_16\", \"Student_17\", \"Student_18\", \"Student_19\", \"Student_20\"], \"y\": [17, 12, 14, 27, 9, 15, 13, 24, 4, 26, 19, 19, 23, 29, 11, 12, 21, 28, 4, 20], \"type\": \"bar\", \"uid\": \"1a7ced98-e2e8-11e8-96ad-27ad55f30ab3\"}, {\"name\": \"Video2\", \"x\": [\"Student_1\", \"Student_2\", \"Student_3\", \"Student_4\", \"Student_5\", \"Student_6\", \"Student_7\", \"Student_8\", \"Student_9\", \"Student_10\", \"Student_11\", \"Student_12\", \"Student_13\", \"Student_14\", \"Student_15\", \"Student_16\", \"Student_17\", \"Student_18\", \"Student_19\", \"Student_20\"], \"y\": [1, 21, 5, 23, 15, 10, 9, 12, 16, 6, 25, 15, 27, 28, 23, 29, 2, 11, 13, 22], \"type\": \"bar\", \"uid\": \"1a7cef5a-e2e8-11e8-96ad-27ad55f30ab3\"}, {\"name\": \"Quiz1\", \"x\": [\"Student_1\", \"Student_2\", \"Student_3\", \"Student_4\", \"Student_5\", \"Student_6\", \"Student_7\", \"Student_8\", \"Student_9\", \"Student_10\", \"Student_11\", \"Student_12\", \"Student_13\", \"Student_14\", \"Student_15\", \"Student_16\", \"Student_17\", \"Student_18\", \"Student_19\", \"Student_20\"], \"y\": [14, 23, 17, 25, 6, 16, 27, 9, 22, 13, 21, 13, 9, 23, 19, 11, 23, 9, 0, 23], \"type\": \"bar\", \"uid\": \"1a7cf022-e2e8-11e8-96ad-27ad55f30ab3\"}, {\"name\": \"Quiz2\", \"x\": [\"Student_1\", \"Student_2\", \"Student_3\", \"Student_4\", \"Student_5\", \"Student_6\", \"Student_7\", \"Student_8\", \"Student_9\", \"Student_10\", \"Student_11\", \"Student_12\", \"Student_13\", \"Student_14\", \"Student_15\", \"Student_16\", \"Student_17\", \"Student_18\", \"Student_19\", \"Student_20\"], \"y\": [3, 21, 3, 13, 10, 8, 18, 1, 28, 13, 7, 11, 6, 28, 4, 7, 22, 11, 2, 20], \"type\": \"bar\", \"uid\": \"1a7cf0cc-e2e8-11e8-96ad-27ad55f30ab3\"}, {\"name\": \"Pdf1\", \"x\": [\"Student_1\", \"Student_2\", \"Student_3\", \"Student_4\", \"Student_5\", \"Student_6\", \"Student_7\", \"Student_8\", \"Student_9\", \"Student_10\", \"Student_11\", \"Student_12\", \"Student_13\", \"Student_14\", \"Student_15\", \"Student_16\", \"Student_17\", \"Student_18\", \"Student_19\", \"Student_20\"], \"y\": [16, 8, 10, 16, 6, 28, 3, 0, 8, 10, 5, 28, 19, 27, 26, 29, 13, 11, 1, 29], \"type\": \"bar\", \"uid\": \"1a7cf162-e2e8-11e8-96ad-27ad55f30ab3\"}, {\"name\": \"Pdf2\", \"x\": [\"Student_1\", \"Student_2\", \"Student_3\", \"Student_4\", \"Student_5\", \"Student_6\", \"Student_7\", \"Student_8\", \"Student_9\", \"Student_10\", \"Student_11\", \"Student_12\", \"Student_13\", \"Student_14\", \"Student_15\", \"Student_16\", \"Student_17\", \"Student_18\", \"Student_19\", \"Student_20\"], \"y\": [28, 27, 3, 22, 4, 6, 20, 8, 9, 12, 19, 6, 2, 13, 18, 29, 11, 17, 18, 20], \"type\": \"bar\", \"uid\": \"1a7cf1e4-e2e8-11e8-96ad-27ad55f30ab3\"}, {\"name\": \"Ebook1\", \"x\": [\"Student_1\", \"Student_2\", \"Student_3\", \"Student_4\", \"Student_5\", \"Student_6\", \"Student_7\", \"Student_8\", \"Student_9\", \"Student_10\", \"Student_11\", \"Student_12\", \"Student_13\", \"Student_14\", \"Student_15\", \"Student_16\", \"Student_17\", \"Student_18\", \"Student_19\", \"Student_20\"], \"y\": [18, 25, 13, 22, 7, 24, 0, 2, 22, 27, 25, 12, 25, 21, 29, 7, 26, 24, 20, 21], \"type\": \"bar\", \"uid\": \"1a7cf266-e2e8-11e8-96ad-27ad55f30ab3\"}, {\"name\": \"Ebook2\", \"x\": [\"Student_1\", \"Student_2\", \"Student_3\", \"Student_4\", \"Student_5\", \"Student_6\", \"Student_7\", \"Student_8\", \"Student_9\", \"Student_10\", \"Student_11\", \"Student_12\", \"Student_13\", \"Student_14\", \"Student_15\", \"Student_16\", \"Student_17\", \"Student_18\", \"Student_19\", \"Student_20\"], \"y\": [10, 13, 19, 10, 24, 4, 4, 10, 9, 19, 6, 3, 10, 0, 16, 11, 6, 13, 21, 9], \"type\": \"bar\", \"uid\": \"1a7cf2de-e2e8-11e8-96ad-27ad55f30ab3\"}], {\"barmode\": \"stack\", \"title\": \"N\\u00famero de acessos nos materiais agrupados por estudante\", \"yaxis\": {\"dtick\": 15, \"exponentformat\": \"e\", \"gridcolor\": \"#bdbdbd\", \"showexponent\": \"all\", \"showticklabels\": true, \"tick0\": 0, \"titlefont\": {\"color\": \"lightgrey\", \"family\": \"Arial, sans-serif\"}}}, {\"showLink\": true, \"linkText\": \"Export to plot.ly\"})});</script>"
      ],
      "text/vnd.plotly.v1+html": [
       "<div id=\"0c7dea1e-e7a2-4aad-ab6c-1d7c5ba12e34\" style=\"height: 525px; width: 100%;\" class=\"plotly-graph-div\"></div><script type=\"text/javascript\">require([\"plotly\"], function(Plotly) { window.PLOTLYENV=window.PLOTLYENV || {};window.PLOTLYENV.BASE_URL=\"https://plot.ly\";Plotly.newPlot(\"0c7dea1e-e7a2-4aad-ab6c-1d7c5ba12e34\", [{\"name\": \"Video1\", \"x\": [\"Student_1\", \"Student_2\", \"Student_3\", \"Student_4\", \"Student_5\", \"Student_6\", \"Student_7\", \"Student_8\", \"Student_9\", \"Student_10\", \"Student_11\", \"Student_12\", \"Student_13\", \"Student_14\", \"Student_15\", \"Student_16\", \"Student_17\", \"Student_18\", \"Student_19\", \"Student_20\"], \"y\": [17, 12, 14, 27, 9, 15, 13, 24, 4, 26, 19, 19, 23, 29, 11, 12, 21, 28, 4, 20], \"type\": \"bar\", \"uid\": \"1a7ced98-e2e8-11e8-96ad-27ad55f30ab3\"}, {\"name\": \"Video2\", \"x\": [\"Student_1\", \"Student_2\", \"Student_3\", \"Student_4\", \"Student_5\", \"Student_6\", \"Student_7\", \"Student_8\", \"Student_9\", \"Student_10\", \"Student_11\", \"Student_12\", \"Student_13\", \"Student_14\", \"Student_15\", \"Student_16\", \"Student_17\", \"Student_18\", \"Student_19\", \"Student_20\"], \"y\": [1, 21, 5, 23, 15, 10, 9, 12, 16, 6, 25, 15, 27, 28, 23, 29, 2, 11, 13, 22], \"type\": \"bar\", \"uid\": \"1a7cef5a-e2e8-11e8-96ad-27ad55f30ab3\"}, {\"name\": \"Quiz1\", \"x\": [\"Student_1\", \"Student_2\", \"Student_3\", \"Student_4\", \"Student_5\", \"Student_6\", \"Student_7\", \"Student_8\", \"Student_9\", \"Student_10\", \"Student_11\", \"Student_12\", \"Student_13\", \"Student_14\", \"Student_15\", \"Student_16\", \"Student_17\", \"Student_18\", \"Student_19\", \"Student_20\"], \"y\": [14, 23, 17, 25, 6, 16, 27, 9, 22, 13, 21, 13, 9, 23, 19, 11, 23, 9, 0, 23], \"type\": \"bar\", \"uid\": \"1a7cf022-e2e8-11e8-96ad-27ad55f30ab3\"}, {\"name\": \"Quiz2\", \"x\": [\"Student_1\", \"Student_2\", \"Student_3\", \"Student_4\", \"Student_5\", \"Student_6\", \"Student_7\", \"Student_8\", \"Student_9\", \"Student_10\", \"Student_11\", \"Student_12\", \"Student_13\", \"Student_14\", \"Student_15\", \"Student_16\", \"Student_17\", \"Student_18\", \"Student_19\", \"Student_20\"], \"y\": [3, 21, 3, 13, 10, 8, 18, 1, 28, 13, 7, 11, 6, 28, 4, 7, 22, 11, 2, 20], \"type\": \"bar\", \"uid\": \"1a7cf0cc-e2e8-11e8-96ad-27ad55f30ab3\"}, {\"name\": \"Pdf1\", \"x\": [\"Student_1\", \"Student_2\", \"Student_3\", \"Student_4\", \"Student_5\", \"Student_6\", \"Student_7\", \"Student_8\", \"Student_9\", \"Student_10\", \"Student_11\", \"Student_12\", \"Student_13\", \"Student_14\", \"Student_15\", \"Student_16\", \"Student_17\", \"Student_18\", \"Student_19\", \"Student_20\"], \"y\": [16, 8, 10, 16, 6, 28, 3, 0, 8, 10, 5, 28, 19, 27, 26, 29, 13, 11, 1, 29], \"type\": \"bar\", \"uid\": \"1a7cf162-e2e8-11e8-96ad-27ad55f30ab3\"}, {\"name\": \"Pdf2\", \"x\": [\"Student_1\", \"Student_2\", \"Student_3\", \"Student_4\", \"Student_5\", \"Student_6\", \"Student_7\", \"Student_8\", \"Student_9\", \"Student_10\", \"Student_11\", \"Student_12\", \"Student_13\", \"Student_14\", \"Student_15\", \"Student_16\", \"Student_17\", \"Student_18\", \"Student_19\", \"Student_20\"], \"y\": [28, 27, 3, 22, 4, 6, 20, 8, 9, 12, 19, 6, 2, 13, 18, 29, 11, 17, 18, 20], \"type\": \"bar\", \"uid\": \"1a7cf1e4-e2e8-11e8-96ad-27ad55f30ab3\"}, {\"name\": \"Ebook1\", \"x\": [\"Student_1\", \"Student_2\", \"Student_3\", \"Student_4\", \"Student_5\", \"Student_6\", \"Student_7\", \"Student_8\", \"Student_9\", \"Student_10\", \"Student_11\", \"Student_12\", \"Student_13\", \"Student_14\", \"Student_15\", \"Student_16\", \"Student_17\", \"Student_18\", \"Student_19\", \"Student_20\"], \"y\": [18, 25, 13, 22, 7, 24, 0, 2, 22, 27, 25, 12, 25, 21, 29, 7, 26, 24, 20, 21], \"type\": \"bar\", \"uid\": \"1a7cf266-e2e8-11e8-96ad-27ad55f30ab3\"}, {\"name\": \"Ebook2\", \"x\": [\"Student_1\", \"Student_2\", \"Student_3\", \"Student_4\", \"Student_5\", \"Student_6\", \"Student_7\", \"Student_8\", \"Student_9\", \"Student_10\", \"Student_11\", \"Student_12\", \"Student_13\", \"Student_14\", \"Student_15\", \"Student_16\", \"Student_17\", \"Student_18\", \"Student_19\", \"Student_20\"], \"y\": [10, 13, 19, 10, 24, 4, 4, 10, 9, 19, 6, 3, 10, 0, 16, 11, 6, 13, 21, 9], \"type\": \"bar\", \"uid\": \"1a7cf2de-e2e8-11e8-96ad-27ad55f30ab3\"}], {\"barmode\": \"stack\", \"title\": \"N\\u00famero de acessos nos materiais agrupados por estudante\", \"yaxis\": {\"dtick\": 15, \"exponentformat\": \"e\", \"gridcolor\": \"#bdbdbd\", \"showexponent\": \"all\", \"showticklabels\": true, \"tick0\": 0, \"titlefont\": {\"color\": \"lightgrey\", \"family\": \"Arial, sans-serif\"}}}, {\"showLink\": true, \"linkText\": \"Export to plot.ly\"})});</script>"
      ]
     },
     "metadata": {},
     "output_type": "display_data"
    },
    {
     "data": {
      "application/vnd.plotly.v1+json": {
       "data": [
        {
         "name": "Video1",
         "orientation": "h",
         "type": "bar",
         "uid": "1a8640c8-e2e8-11e8-96ad-27ad55f30ab3",
         "x": [
          17,
          12,
          14,
          27,
          9,
          15,
          13,
          24,
          4,
          26,
          19,
          19,
          23,
          29,
          11,
          12,
          21,
          28,
          4,
          20
         ],
         "y": [
          "Student_1",
          "Student_2",
          "Student_3",
          "Student_4",
          "Student_5",
          "Student_6",
          "Student_7",
          "Student_8",
          "Student_9",
          "Student_10",
          "Student_11",
          "Student_12",
          "Student_13",
          "Student_14",
          "Student_15",
          "Student_16",
          "Student_17",
          "Student_18",
          "Student_19",
          "Student_20"
         ]
        },
        {
         "name": "Video2",
         "orientation": "h",
         "type": "bar",
         "uid": "1a864294-e2e8-11e8-96ad-27ad55f30ab3",
         "x": [
          1,
          21,
          5,
          23,
          15,
          10,
          9,
          12,
          16,
          6,
          25,
          15,
          27,
          28,
          23,
          29,
          2,
          11,
          13,
          22
         ],
         "y": [
          "Student_1",
          "Student_2",
          "Student_3",
          "Student_4",
          "Student_5",
          "Student_6",
          "Student_7",
          "Student_8",
          "Student_9",
          "Student_10",
          "Student_11",
          "Student_12",
          "Student_13",
          "Student_14",
          "Student_15",
          "Student_16",
          "Student_17",
          "Student_18",
          "Student_19",
          "Student_20"
         ]
        },
        {
         "name": "Quiz1",
         "orientation": "h",
         "type": "bar",
         "uid": "1a864370-e2e8-11e8-96ad-27ad55f30ab3",
         "x": [
          14,
          23,
          17,
          25,
          6,
          16,
          27,
          9,
          22,
          13,
          21,
          13,
          9,
          23,
          19,
          11,
          23,
          9,
          0,
          23
         ],
         "y": [
          "Student_1",
          "Student_2",
          "Student_3",
          "Student_4",
          "Student_5",
          "Student_6",
          "Student_7",
          "Student_8",
          "Student_9",
          "Student_10",
          "Student_11",
          "Student_12",
          "Student_13",
          "Student_14",
          "Student_15",
          "Student_16",
          "Student_17",
          "Student_18",
          "Student_19",
          "Student_20"
         ]
        },
        {
         "name": "Quiz2",
         "orientation": "h",
         "type": "bar",
         "uid": "1a864424-e2e8-11e8-96ad-27ad55f30ab3",
         "x": [
          3,
          21,
          3,
          13,
          10,
          8,
          18,
          1,
          28,
          13,
          7,
          11,
          6,
          28,
          4,
          7,
          22,
          11,
          2,
          20
         ],
         "y": [
          "Student_1",
          "Student_2",
          "Student_3",
          "Student_4",
          "Student_5",
          "Student_6",
          "Student_7",
          "Student_8",
          "Student_9",
          "Student_10",
          "Student_11",
          "Student_12",
          "Student_13",
          "Student_14",
          "Student_15",
          "Student_16",
          "Student_17",
          "Student_18",
          "Student_19",
          "Student_20"
         ]
        },
        {
         "name": "Pdf1",
         "orientation": "h",
         "type": "bar",
         "uid": "1a8644ba-e2e8-11e8-96ad-27ad55f30ab3",
         "x": [
          16,
          8,
          10,
          16,
          6,
          28,
          3,
          0,
          8,
          10,
          5,
          28,
          19,
          27,
          26,
          29,
          13,
          11,
          1,
          29
         ],
         "y": [
          "Student_1",
          "Student_2",
          "Student_3",
          "Student_4",
          "Student_5",
          "Student_6",
          "Student_7",
          "Student_8",
          "Student_9",
          "Student_10",
          "Student_11",
          "Student_12",
          "Student_13",
          "Student_14",
          "Student_15",
          "Student_16",
          "Student_17",
          "Student_18",
          "Student_19",
          "Student_20"
         ]
        },
        {
         "name": "Pdf2",
         "orientation": "h",
         "type": "bar",
         "uid": "1a86455a-e2e8-11e8-96ad-27ad55f30ab3",
         "x": [
          28,
          27,
          3,
          22,
          4,
          6,
          20,
          8,
          9,
          12,
          19,
          6,
          2,
          13,
          18,
          29,
          11,
          17,
          18,
          20
         ],
         "y": [
          "Student_1",
          "Student_2",
          "Student_3",
          "Student_4",
          "Student_5",
          "Student_6",
          "Student_7",
          "Student_8",
          "Student_9",
          "Student_10",
          "Student_11",
          "Student_12",
          "Student_13",
          "Student_14",
          "Student_15",
          "Student_16",
          "Student_17",
          "Student_18",
          "Student_19",
          "Student_20"
         ]
        },
        {
         "name": "Ebook1",
         "orientation": "h",
         "type": "bar",
         "uid": "1a8645e6-e2e8-11e8-96ad-27ad55f30ab3",
         "x": [
          18,
          25,
          13,
          22,
          7,
          24,
          0,
          2,
          22,
          27,
          25,
          12,
          25,
          21,
          29,
          7,
          26,
          24,
          20,
          21
         ],
         "y": [
          "Student_1",
          "Student_2",
          "Student_3",
          "Student_4",
          "Student_5",
          "Student_6",
          "Student_7",
          "Student_8",
          "Student_9",
          "Student_10",
          "Student_11",
          "Student_12",
          "Student_13",
          "Student_14",
          "Student_15",
          "Student_16",
          "Student_17",
          "Student_18",
          "Student_19",
          "Student_20"
         ]
        },
        {
         "name": "Ebook2",
         "orientation": "h",
         "type": "bar",
         "uid": "1a864668-e2e8-11e8-96ad-27ad55f30ab3",
         "x": [
          10,
          13,
          19,
          10,
          24,
          4,
          4,
          10,
          9,
          19,
          6,
          3,
          10,
          0,
          16,
          11,
          6,
          13,
          21,
          9
         ],
         "y": [
          "Student_1",
          "Student_2",
          "Student_3",
          "Student_4",
          "Student_5",
          "Student_6",
          "Student_7",
          "Student_8",
          "Student_9",
          "Student_10",
          "Student_11",
          "Student_12",
          "Student_13",
          "Student_14",
          "Student_15",
          "Student_16",
          "Student_17",
          "Student_18",
          "Student_19",
          "Student_20"
         ]
        }
       ],
       "layout": {
        "barmode": "stack",
        "title": "Número de acessos nos materiais agrupados por estudante",
        "yaxis": {
         "dtick": 1,
         "exponentformat": "e",
         "gridcolor": "#bdbdbd",
         "showexponent": "all",
         "showticklabels": true,
         "tick0": 0,
         "titlefont": {
          "color": "lightgrey",
          "family": "Arial, sans-serif"
         }
        }
       }
      },
      "text/html": [
       "<div id=\"59271669-4e33-4e60-8fef-b7563a7dca34\" style=\"height: 525px; width: 100%;\" class=\"plotly-graph-div\"></div><script type=\"text/javascript\">require([\"plotly\"], function(Plotly) { window.PLOTLYENV=window.PLOTLYENV || {};window.PLOTLYENV.BASE_URL=\"https://plot.ly\";Plotly.newPlot(\"59271669-4e33-4e60-8fef-b7563a7dca34\", [{\"name\": \"Video1\", \"orientation\": \"h\", \"x\": [17, 12, 14, 27, 9, 15, 13, 24, 4, 26, 19, 19, 23, 29, 11, 12, 21, 28, 4, 20], \"y\": [\"Student_1\", \"Student_2\", \"Student_3\", \"Student_4\", \"Student_5\", \"Student_6\", \"Student_7\", \"Student_8\", \"Student_9\", \"Student_10\", \"Student_11\", \"Student_12\", \"Student_13\", \"Student_14\", \"Student_15\", \"Student_16\", \"Student_17\", \"Student_18\", \"Student_19\", \"Student_20\"], \"type\": \"bar\", \"uid\": \"1a8640c8-e2e8-11e8-96ad-27ad55f30ab3\"}, {\"name\": \"Video2\", \"orientation\": \"h\", \"x\": [1, 21, 5, 23, 15, 10, 9, 12, 16, 6, 25, 15, 27, 28, 23, 29, 2, 11, 13, 22], \"y\": [\"Student_1\", \"Student_2\", \"Student_3\", \"Student_4\", \"Student_5\", \"Student_6\", \"Student_7\", \"Student_8\", \"Student_9\", \"Student_10\", \"Student_11\", \"Student_12\", \"Student_13\", \"Student_14\", \"Student_15\", \"Student_16\", \"Student_17\", \"Student_18\", \"Student_19\", \"Student_20\"], \"type\": \"bar\", \"uid\": \"1a864294-e2e8-11e8-96ad-27ad55f30ab3\"}, {\"name\": \"Quiz1\", \"orientation\": \"h\", \"x\": [14, 23, 17, 25, 6, 16, 27, 9, 22, 13, 21, 13, 9, 23, 19, 11, 23, 9, 0, 23], \"y\": [\"Student_1\", \"Student_2\", \"Student_3\", \"Student_4\", \"Student_5\", \"Student_6\", \"Student_7\", \"Student_8\", \"Student_9\", \"Student_10\", \"Student_11\", \"Student_12\", \"Student_13\", \"Student_14\", \"Student_15\", \"Student_16\", \"Student_17\", \"Student_18\", \"Student_19\", \"Student_20\"], \"type\": \"bar\", \"uid\": \"1a864370-e2e8-11e8-96ad-27ad55f30ab3\"}, {\"name\": \"Quiz2\", \"orientation\": \"h\", \"x\": [3, 21, 3, 13, 10, 8, 18, 1, 28, 13, 7, 11, 6, 28, 4, 7, 22, 11, 2, 20], \"y\": [\"Student_1\", \"Student_2\", \"Student_3\", \"Student_4\", \"Student_5\", \"Student_6\", \"Student_7\", \"Student_8\", \"Student_9\", \"Student_10\", \"Student_11\", \"Student_12\", \"Student_13\", \"Student_14\", \"Student_15\", \"Student_16\", \"Student_17\", \"Student_18\", \"Student_19\", \"Student_20\"], \"type\": \"bar\", \"uid\": \"1a864424-e2e8-11e8-96ad-27ad55f30ab3\"}, {\"name\": \"Pdf1\", \"orientation\": \"h\", \"x\": [16, 8, 10, 16, 6, 28, 3, 0, 8, 10, 5, 28, 19, 27, 26, 29, 13, 11, 1, 29], \"y\": [\"Student_1\", \"Student_2\", \"Student_3\", \"Student_4\", \"Student_5\", \"Student_6\", \"Student_7\", \"Student_8\", \"Student_9\", \"Student_10\", \"Student_11\", \"Student_12\", \"Student_13\", \"Student_14\", \"Student_15\", \"Student_16\", \"Student_17\", \"Student_18\", \"Student_19\", \"Student_20\"], \"type\": \"bar\", \"uid\": \"1a8644ba-e2e8-11e8-96ad-27ad55f30ab3\"}, {\"name\": \"Pdf2\", \"orientation\": \"h\", \"x\": [28, 27, 3, 22, 4, 6, 20, 8, 9, 12, 19, 6, 2, 13, 18, 29, 11, 17, 18, 20], \"y\": [\"Student_1\", \"Student_2\", \"Student_3\", \"Student_4\", \"Student_5\", \"Student_6\", \"Student_7\", \"Student_8\", \"Student_9\", \"Student_10\", \"Student_11\", \"Student_12\", \"Student_13\", \"Student_14\", \"Student_15\", \"Student_16\", \"Student_17\", \"Student_18\", \"Student_19\", \"Student_20\"], \"type\": \"bar\", \"uid\": \"1a86455a-e2e8-11e8-96ad-27ad55f30ab3\"}, {\"name\": \"Ebook1\", \"orientation\": \"h\", \"x\": [18, 25, 13, 22, 7, 24, 0, 2, 22, 27, 25, 12, 25, 21, 29, 7, 26, 24, 20, 21], \"y\": [\"Student_1\", \"Student_2\", \"Student_3\", \"Student_4\", \"Student_5\", \"Student_6\", \"Student_7\", \"Student_8\", \"Student_9\", \"Student_10\", \"Student_11\", \"Student_12\", \"Student_13\", \"Student_14\", \"Student_15\", \"Student_16\", \"Student_17\", \"Student_18\", \"Student_19\", \"Student_20\"], \"type\": \"bar\", \"uid\": \"1a8645e6-e2e8-11e8-96ad-27ad55f30ab3\"}, {\"name\": \"Ebook2\", \"orientation\": \"h\", \"x\": [10, 13, 19, 10, 24, 4, 4, 10, 9, 19, 6, 3, 10, 0, 16, 11, 6, 13, 21, 9], \"y\": [\"Student_1\", \"Student_2\", \"Student_3\", \"Student_4\", \"Student_5\", \"Student_6\", \"Student_7\", \"Student_8\", \"Student_9\", \"Student_10\", \"Student_11\", \"Student_12\", \"Student_13\", \"Student_14\", \"Student_15\", \"Student_16\", \"Student_17\", \"Student_18\", \"Student_19\", \"Student_20\"], \"type\": \"bar\", \"uid\": \"1a864668-e2e8-11e8-96ad-27ad55f30ab3\"}], {\"barmode\": \"stack\", \"title\": \"N\\u00famero de acessos nos materiais agrupados por estudante\", \"yaxis\": {\"dtick\": 1, \"exponentformat\": \"e\", \"gridcolor\": \"#bdbdbd\", \"showexponent\": \"all\", \"showticklabels\": true, \"tick0\": 0, \"titlefont\": {\"color\": \"lightgrey\", \"family\": \"Arial, sans-serif\"}}}, {\"showLink\": true, \"linkText\": \"Export to plot.ly\"})});</script>"
      ],
      "text/vnd.plotly.v1+html": [
       "<div id=\"59271669-4e33-4e60-8fef-b7563a7dca34\" style=\"height: 525px; width: 100%;\" class=\"plotly-graph-div\"></div><script type=\"text/javascript\">require([\"plotly\"], function(Plotly) { window.PLOTLYENV=window.PLOTLYENV || {};window.PLOTLYENV.BASE_URL=\"https://plot.ly\";Plotly.newPlot(\"59271669-4e33-4e60-8fef-b7563a7dca34\", [{\"name\": \"Video1\", \"orientation\": \"h\", \"x\": [17, 12, 14, 27, 9, 15, 13, 24, 4, 26, 19, 19, 23, 29, 11, 12, 21, 28, 4, 20], \"y\": [\"Student_1\", \"Student_2\", \"Student_3\", \"Student_4\", \"Student_5\", \"Student_6\", \"Student_7\", \"Student_8\", \"Student_9\", \"Student_10\", \"Student_11\", \"Student_12\", \"Student_13\", \"Student_14\", \"Student_15\", \"Student_16\", \"Student_17\", \"Student_18\", \"Student_19\", \"Student_20\"], \"type\": \"bar\", \"uid\": \"1a8640c8-e2e8-11e8-96ad-27ad55f30ab3\"}, {\"name\": \"Video2\", \"orientation\": \"h\", \"x\": [1, 21, 5, 23, 15, 10, 9, 12, 16, 6, 25, 15, 27, 28, 23, 29, 2, 11, 13, 22], \"y\": [\"Student_1\", \"Student_2\", \"Student_3\", \"Student_4\", \"Student_5\", \"Student_6\", \"Student_7\", \"Student_8\", \"Student_9\", \"Student_10\", \"Student_11\", \"Student_12\", \"Student_13\", \"Student_14\", \"Student_15\", \"Student_16\", \"Student_17\", \"Student_18\", \"Student_19\", \"Student_20\"], \"type\": \"bar\", \"uid\": \"1a864294-e2e8-11e8-96ad-27ad55f30ab3\"}, {\"name\": \"Quiz1\", \"orientation\": \"h\", \"x\": [14, 23, 17, 25, 6, 16, 27, 9, 22, 13, 21, 13, 9, 23, 19, 11, 23, 9, 0, 23], \"y\": [\"Student_1\", \"Student_2\", \"Student_3\", \"Student_4\", \"Student_5\", \"Student_6\", \"Student_7\", \"Student_8\", \"Student_9\", \"Student_10\", \"Student_11\", \"Student_12\", \"Student_13\", \"Student_14\", \"Student_15\", \"Student_16\", \"Student_17\", \"Student_18\", \"Student_19\", \"Student_20\"], \"type\": \"bar\", \"uid\": \"1a864370-e2e8-11e8-96ad-27ad55f30ab3\"}, {\"name\": \"Quiz2\", \"orientation\": \"h\", \"x\": [3, 21, 3, 13, 10, 8, 18, 1, 28, 13, 7, 11, 6, 28, 4, 7, 22, 11, 2, 20], \"y\": [\"Student_1\", \"Student_2\", \"Student_3\", \"Student_4\", \"Student_5\", \"Student_6\", \"Student_7\", \"Student_8\", \"Student_9\", \"Student_10\", \"Student_11\", \"Student_12\", \"Student_13\", \"Student_14\", \"Student_15\", \"Student_16\", \"Student_17\", \"Student_18\", \"Student_19\", \"Student_20\"], \"type\": \"bar\", \"uid\": \"1a864424-e2e8-11e8-96ad-27ad55f30ab3\"}, {\"name\": \"Pdf1\", \"orientation\": \"h\", \"x\": [16, 8, 10, 16, 6, 28, 3, 0, 8, 10, 5, 28, 19, 27, 26, 29, 13, 11, 1, 29], \"y\": [\"Student_1\", \"Student_2\", \"Student_3\", \"Student_4\", \"Student_5\", \"Student_6\", \"Student_7\", \"Student_8\", \"Student_9\", \"Student_10\", \"Student_11\", \"Student_12\", \"Student_13\", \"Student_14\", \"Student_15\", \"Student_16\", \"Student_17\", \"Student_18\", \"Student_19\", \"Student_20\"], \"type\": \"bar\", \"uid\": \"1a8644ba-e2e8-11e8-96ad-27ad55f30ab3\"}, {\"name\": \"Pdf2\", \"orientation\": \"h\", \"x\": [28, 27, 3, 22, 4, 6, 20, 8, 9, 12, 19, 6, 2, 13, 18, 29, 11, 17, 18, 20], \"y\": [\"Student_1\", \"Student_2\", \"Student_3\", \"Student_4\", \"Student_5\", \"Student_6\", \"Student_7\", \"Student_8\", \"Student_9\", \"Student_10\", \"Student_11\", \"Student_12\", \"Student_13\", \"Student_14\", \"Student_15\", \"Student_16\", \"Student_17\", \"Student_18\", \"Student_19\", \"Student_20\"], \"type\": \"bar\", \"uid\": \"1a86455a-e2e8-11e8-96ad-27ad55f30ab3\"}, {\"name\": \"Ebook1\", \"orientation\": \"h\", \"x\": [18, 25, 13, 22, 7, 24, 0, 2, 22, 27, 25, 12, 25, 21, 29, 7, 26, 24, 20, 21], \"y\": [\"Student_1\", \"Student_2\", \"Student_3\", \"Student_4\", \"Student_5\", \"Student_6\", \"Student_7\", \"Student_8\", \"Student_9\", \"Student_10\", \"Student_11\", \"Student_12\", \"Student_13\", \"Student_14\", \"Student_15\", \"Student_16\", \"Student_17\", \"Student_18\", \"Student_19\", \"Student_20\"], \"type\": \"bar\", \"uid\": \"1a8645e6-e2e8-11e8-96ad-27ad55f30ab3\"}, {\"name\": \"Ebook2\", \"orientation\": \"h\", \"x\": [10, 13, 19, 10, 24, 4, 4, 10, 9, 19, 6, 3, 10, 0, 16, 11, 6, 13, 21, 9], \"y\": [\"Student_1\", \"Student_2\", \"Student_3\", \"Student_4\", \"Student_5\", \"Student_6\", \"Student_7\", \"Student_8\", \"Student_9\", \"Student_10\", \"Student_11\", \"Student_12\", \"Student_13\", \"Student_14\", \"Student_15\", \"Student_16\", \"Student_17\", \"Student_18\", \"Student_19\", \"Student_20\"], \"type\": \"bar\", \"uid\": \"1a864668-e2e8-11e8-96ad-27ad55f30ab3\"}], {\"barmode\": \"stack\", \"title\": \"N\\u00famero de acessos nos materiais agrupados por estudante\", \"yaxis\": {\"dtick\": 1, \"exponentformat\": \"e\", \"gridcolor\": \"#bdbdbd\", \"showexponent\": \"all\", \"showticklabels\": true, \"tick0\": 0, \"titlefont\": {\"color\": \"lightgrey\", \"family\": \"Arial, sans-serif\"}}}, {\"showLink\": true, \"linkText\": \"Export to plot.ly\"})});</script>"
      ]
     },
     "metadata": {},
     "output_type": "display_data"
    },
    {
     "data": {
      "application/vnd.plotly.v1+json": {
       "data": [
        {
         "colorscale": [
          [
           0,
           "rgb(255,255,255)"
          ],
          [
           1,
           "rgb(0,0,255)"
          ]
         ],
         "type": "heatmap",
         "uid": "1a8cb0fc-e2e8-11e8-96ad-27ad55f30ab3",
         "x": [
          "Video1",
          "Video2",
          "Quiz1",
          "Quiz2",
          "Pdf1",
          "Pdf2",
          "Ebook1",
          "Ebook2"
         ],
         "y": [
          "Student_1",
          "Student_2",
          "Student_3",
          "Student_4",
          "Student_5",
          "Student_6",
          "Student_7",
          "Student_8",
          "Student_9",
          "Student_10",
          "Student_11",
          "Student_12",
          "Student_13",
          "Student_14",
          "Student_15",
          "Student_16",
          "Student_17",
          "Student_18",
          "Student_19",
          "Student_20"
         ],
         "z": [
          [
           17,
           1,
           14,
           3,
           16,
           28,
           18,
           10
          ],
          [
           12,
           21,
           23,
           21,
           8,
           27,
           25,
           13
          ],
          [
           14,
           5,
           17,
           3,
           10,
           3,
           13,
           19
          ],
          [
           27,
           23,
           25,
           13,
           16,
           22,
           22,
           10
          ],
          [
           9,
           15,
           6,
           10,
           6,
           4,
           7,
           24
          ],
          [
           15,
           10,
           16,
           8,
           28,
           6,
           24,
           4
          ],
          [
           13,
           9,
           27,
           18,
           3,
           20,
           0,
           4
          ],
          [
           24,
           12,
           9,
           1,
           0,
           8,
           2,
           10
          ],
          [
           4,
           16,
           22,
           28,
           8,
           9,
           22,
           9
          ],
          [
           26,
           6,
           13,
           13,
           10,
           12,
           27,
           19
          ],
          [
           19,
           25,
           21,
           7,
           5,
           19,
           25,
           6
          ],
          [
           19,
           15,
           13,
           11,
           28,
           6,
           12,
           3
          ],
          [
           23,
           27,
           9,
           6,
           19,
           2,
           25,
           10
          ],
          [
           29,
           28,
           23,
           28,
           27,
           13,
           21,
           0
          ],
          [
           11,
           23,
           19,
           4,
           26,
           18,
           29,
           16
          ],
          [
           12,
           29,
           11,
           7,
           29,
           29,
           7,
           11
          ],
          [
           21,
           2,
           23,
           22,
           13,
           11,
           26,
           6
          ],
          [
           28,
           11,
           9,
           11,
           11,
           17,
           24,
           13
          ],
          [
           4,
           13,
           0,
           2,
           1,
           18,
           20,
           21
          ],
          [
           20,
           22,
           23,
           20,
           29,
           20,
           21,
           9
          ]
         ]
        }
       ],
       "layout": {
        "title": "Número de acessos nos materiais por estudante",
        "yaxis": {
         "dtick": 1,
         "exponentformat": "e",
         "gridcolor": "#bdbdbd",
         "showexponent": "all",
         "showticklabels": true,
         "tick0": 0,
         "titlefont": {
          "color": "lightgrey",
          "family": "Arial, sans-serif"
         }
        }
       }
      },
      "text/html": [
       "<div id=\"f937f87a-8161-4333-b1ee-adc26b56d6f4\" style=\"height: 525px; width: 100%;\" class=\"plotly-graph-div\"></div><script type=\"text/javascript\">require([\"plotly\"], function(Plotly) { window.PLOTLYENV=window.PLOTLYENV || {};window.PLOTLYENV.BASE_URL=\"https://plot.ly\";Plotly.newPlot(\"f937f87a-8161-4333-b1ee-adc26b56d6f4\", [{\"colorscale\": [[0, \"rgb(255,255,255)\"], [1, \"rgb(0,0,255)\"]], \"x\": [\"Video1\", \"Video2\", \"Quiz1\", \"Quiz2\", \"Pdf1\", \"Pdf2\", \"Ebook1\", \"Ebook2\"], \"y\": [\"Student_1\", \"Student_2\", \"Student_3\", \"Student_4\", \"Student_5\", \"Student_6\", \"Student_7\", \"Student_8\", \"Student_9\", \"Student_10\", \"Student_11\", \"Student_12\", \"Student_13\", \"Student_14\", \"Student_15\", \"Student_16\", \"Student_17\", \"Student_18\", \"Student_19\", \"Student_20\"], \"z\": [[17, 1, 14, 3, 16, 28, 18, 10], [12, 21, 23, 21, 8, 27, 25, 13], [14, 5, 17, 3, 10, 3, 13, 19], [27, 23, 25, 13, 16, 22, 22, 10], [9, 15, 6, 10, 6, 4, 7, 24], [15, 10, 16, 8, 28, 6, 24, 4], [13, 9, 27, 18, 3, 20, 0, 4], [24, 12, 9, 1, 0, 8, 2, 10], [4, 16, 22, 28, 8, 9, 22, 9], [26, 6, 13, 13, 10, 12, 27, 19], [19, 25, 21, 7, 5, 19, 25, 6], [19, 15, 13, 11, 28, 6, 12, 3], [23, 27, 9, 6, 19, 2, 25, 10], [29, 28, 23, 28, 27, 13, 21, 0], [11, 23, 19, 4, 26, 18, 29, 16], [12, 29, 11, 7, 29, 29, 7, 11], [21, 2, 23, 22, 13, 11, 26, 6], [28, 11, 9, 11, 11, 17, 24, 13], [4, 13, 0, 2, 1, 18, 20, 21], [20, 22, 23, 20, 29, 20, 21, 9]], \"type\": \"heatmap\", \"uid\": \"1a8cb0fc-e2e8-11e8-96ad-27ad55f30ab3\"}], {\"title\": \"N\\u00famero de acessos nos materiais por estudante\", \"yaxis\": {\"dtick\": 1, \"exponentformat\": \"e\", \"gridcolor\": \"#bdbdbd\", \"showexponent\": \"all\", \"showticklabels\": true, \"tick0\": 0, \"titlefont\": {\"color\": \"lightgrey\", \"family\": \"Arial, sans-serif\"}}}, {\"showLink\": true, \"linkText\": \"Export to plot.ly\"})});</script>"
      ],
      "text/vnd.plotly.v1+html": [
       "<div id=\"f937f87a-8161-4333-b1ee-adc26b56d6f4\" style=\"height: 525px; width: 100%;\" class=\"plotly-graph-div\"></div><script type=\"text/javascript\">require([\"plotly\"], function(Plotly) { window.PLOTLYENV=window.PLOTLYENV || {};window.PLOTLYENV.BASE_URL=\"https://plot.ly\";Plotly.newPlot(\"f937f87a-8161-4333-b1ee-adc26b56d6f4\", [{\"colorscale\": [[0, \"rgb(255,255,255)\"], [1, \"rgb(0,0,255)\"]], \"x\": [\"Video1\", \"Video2\", \"Quiz1\", \"Quiz2\", \"Pdf1\", \"Pdf2\", \"Ebook1\", \"Ebook2\"], \"y\": [\"Student_1\", \"Student_2\", \"Student_3\", \"Student_4\", \"Student_5\", \"Student_6\", \"Student_7\", \"Student_8\", \"Student_9\", \"Student_10\", \"Student_11\", \"Student_12\", \"Student_13\", \"Student_14\", \"Student_15\", \"Student_16\", \"Student_17\", \"Student_18\", \"Student_19\", \"Student_20\"], \"z\": [[17, 1, 14, 3, 16, 28, 18, 10], [12, 21, 23, 21, 8, 27, 25, 13], [14, 5, 17, 3, 10, 3, 13, 19], [27, 23, 25, 13, 16, 22, 22, 10], [9, 15, 6, 10, 6, 4, 7, 24], [15, 10, 16, 8, 28, 6, 24, 4], [13, 9, 27, 18, 3, 20, 0, 4], [24, 12, 9, 1, 0, 8, 2, 10], [4, 16, 22, 28, 8, 9, 22, 9], [26, 6, 13, 13, 10, 12, 27, 19], [19, 25, 21, 7, 5, 19, 25, 6], [19, 15, 13, 11, 28, 6, 12, 3], [23, 27, 9, 6, 19, 2, 25, 10], [29, 28, 23, 28, 27, 13, 21, 0], [11, 23, 19, 4, 26, 18, 29, 16], [12, 29, 11, 7, 29, 29, 7, 11], [21, 2, 23, 22, 13, 11, 26, 6], [28, 11, 9, 11, 11, 17, 24, 13], [4, 13, 0, 2, 1, 18, 20, 21], [20, 22, 23, 20, 29, 20, 21, 9]], \"type\": \"heatmap\", \"uid\": \"1a8cb0fc-e2e8-11e8-96ad-27ad55f30ab3\"}], {\"title\": \"N\\u00famero de acessos nos materiais por estudante\", \"yaxis\": {\"dtick\": 1, \"exponentformat\": \"e\", \"gridcolor\": \"#bdbdbd\", \"showexponent\": \"all\", \"showticklabels\": true, \"tick0\": 0, \"titlefont\": {\"color\": \"lightgrey\", \"family\": \"Arial, sans-serif\"}}}, {\"showLink\": true, \"linkText\": \"Export to plot.ly\"})});</script>"
      ]
     },
     "metadata": {},
     "output_type": "display_data"
    },
    {
     "data": {
      "application/vnd.plotly.v1+json": {
       "data": [
        {
         "marker": {
          "line": {
           "width": 2
          },
          "size": [
           17,
           1,
           14,
           3,
           16,
           28,
           18,
           10
          ],
          "sizemode": "area",
          "sizeref": 0.06896551724137931,
          "symbol": "circle"
         },
         "mode": "markers",
         "name": "Student_1",
         "text": [
          "17",
          "1",
          "14",
          "3",
          "16",
          "28",
          "18",
          "10"
         ],
         "type": "scatter",
         "uid": "1aabe7ec-e2e8-11e8-96ad-27ad55f30ab3",
         "x": [
          "Student_1",
          "Student_1",
          "Student_1",
          "Student_1",
          "Student_1",
          "Student_1",
          "Student_1",
          "Student_1",
          "Student_1"
         ],
         "y": [
          "Video1",
          "Video2",
          "Quiz1",
          "Quiz2",
          "Pdf1",
          "Pdf2",
          "Ebook1",
          "Ebook2"
         ]
        },
        {
         "marker": {
          "line": {
           "width": 2
          },
          "size": [
           12,
           21,
           23,
           21,
           8,
           27,
           25,
           13
          ],
          "sizemode": "area",
          "sizeref": 0.06896551724137931,
          "symbol": "circle"
         },
         "mode": "markers",
         "name": "Student_2",
         "text": [
          "12",
          "21",
          "23",
          "21",
          "8",
          "27",
          "25",
          "13"
         ],
         "type": "scatter",
         "uid": "1aabe9a4-e2e8-11e8-96ad-27ad55f30ab3",
         "x": [
          "Student_2",
          "Student_2",
          "Student_2",
          "Student_2",
          "Student_2",
          "Student_2",
          "Student_2",
          "Student_2",
          "Student_2"
         ],
         "y": [
          "Video1",
          "Video2",
          "Quiz1",
          "Quiz2",
          "Pdf1",
          "Pdf2",
          "Ebook1",
          "Ebook2"
         ]
        },
        {
         "marker": {
          "line": {
           "width": 2
          },
          "size": [
           14,
           5,
           17,
           3,
           10,
           3,
           13,
           19
          ],
          "sizemode": "area",
          "sizeref": 0.06896551724137931,
          "symbol": "circle"
         },
         "mode": "markers",
         "name": "Student_3",
         "text": [
          "14",
          "5",
          "17",
          "3",
          "10",
          "3",
          "13",
          "19"
         ],
         "type": "scatter",
         "uid": "1aabea8a-e2e8-11e8-96ad-27ad55f30ab3",
         "x": [
          "Student_3",
          "Student_3",
          "Student_3",
          "Student_3",
          "Student_3",
          "Student_3",
          "Student_3",
          "Student_3",
          "Student_3"
         ],
         "y": [
          "Video1",
          "Video2",
          "Quiz1",
          "Quiz2",
          "Pdf1",
          "Pdf2",
          "Ebook1",
          "Ebook2"
         ]
        },
        {
         "marker": {
          "line": {
           "width": 2
          },
          "size": [
           27,
           23,
           25,
           13,
           16,
           22,
           22,
           10
          ],
          "sizemode": "area",
          "sizeref": 0.06896551724137931,
          "symbol": "circle"
         },
         "mode": "markers",
         "name": "Student_4",
         "text": [
          "27",
          "23",
          "25",
          "13",
          "16",
          "22",
          "22",
          "10"
         ],
         "type": "scatter",
         "uid": "1aabeb52-e2e8-11e8-96ad-27ad55f30ab3",
         "x": [
          "Student_4",
          "Student_4",
          "Student_4",
          "Student_4",
          "Student_4",
          "Student_4",
          "Student_4",
          "Student_4",
          "Student_4"
         ],
         "y": [
          "Video1",
          "Video2",
          "Quiz1",
          "Quiz2",
          "Pdf1",
          "Pdf2",
          "Ebook1",
          "Ebook2"
         ]
        },
        {
         "marker": {
          "line": {
           "width": 2
          },
          "size": [
           9,
           15,
           6,
           10,
           6,
           4,
           7,
           24
          ],
          "sizemode": "area",
          "sizeref": 0.06896551724137931,
          "symbol": "circle"
         },
         "mode": "markers",
         "name": "Student_5",
         "text": [
          "9",
          "15",
          "6",
          "10",
          "6",
          "4",
          "7",
          "24"
         ],
         "type": "scatter",
         "uid": "1aabebf2-e2e8-11e8-96ad-27ad55f30ab3",
         "x": [
          "Student_5",
          "Student_5",
          "Student_5",
          "Student_5",
          "Student_5",
          "Student_5",
          "Student_5",
          "Student_5",
          "Student_5"
         ],
         "y": [
          "Video1",
          "Video2",
          "Quiz1",
          "Quiz2",
          "Pdf1",
          "Pdf2",
          "Ebook1",
          "Ebook2"
         ]
        },
        {
         "marker": {
          "line": {
           "width": 2
          },
          "size": [
           15,
           10,
           16,
           8,
           28,
           6,
           24,
           4
          ],
          "sizemode": "area",
          "sizeref": 0.06896551724137931,
          "symbol": "circle"
         },
         "mode": "markers",
         "name": "Student_6",
         "text": [
          "15",
          "10",
          "16",
          "8",
          "28",
          "6",
          "24",
          "4"
         ],
         "type": "scatter",
         "uid": "1aabec92-e2e8-11e8-96ad-27ad55f30ab3",
         "x": [
          "Student_6",
          "Student_6",
          "Student_6",
          "Student_6",
          "Student_6",
          "Student_6",
          "Student_6",
          "Student_6",
          "Student_6"
         ],
         "y": [
          "Video1",
          "Video2",
          "Quiz1",
          "Quiz2",
          "Pdf1",
          "Pdf2",
          "Ebook1",
          "Ebook2"
         ]
        },
        {
         "marker": {
          "line": {
           "width": 2
          },
          "size": [
           13,
           9,
           27,
           18,
           3,
           20,
           0,
           4
          ],
          "sizemode": "area",
          "sizeref": 0.06896551724137931,
          "symbol": "circle"
         },
         "mode": "markers",
         "name": "Student_7",
         "text": [
          "13",
          "9",
          "27",
          "18",
          "3",
          "20",
          "0",
          "4"
         ],
         "type": "scatter",
         "uid": "1aabed32-e2e8-11e8-96ad-27ad55f30ab3",
         "x": [
          "Student_7",
          "Student_7",
          "Student_7",
          "Student_7",
          "Student_7",
          "Student_7",
          "Student_7",
          "Student_7",
          "Student_7"
         ],
         "y": [
          "Video1",
          "Video2",
          "Quiz1",
          "Quiz2",
          "Pdf1",
          "Pdf2",
          "Ebook1",
          "Ebook2"
         ]
        },
        {
         "marker": {
          "line": {
           "width": 2
          },
          "size": [
           24,
           12,
           9,
           1,
           0,
           8,
           2,
           10
          ],
          "sizemode": "area",
          "sizeref": 0.06896551724137931,
          "symbol": "circle"
         },
         "mode": "markers",
         "name": "Student_8",
         "text": [
          "24",
          "12",
          "9",
          "1",
          "0",
          "8",
          "2",
          "10"
         ],
         "type": "scatter",
         "uid": "1aabedc8-e2e8-11e8-96ad-27ad55f30ab3",
         "x": [
          "Student_8",
          "Student_8",
          "Student_8",
          "Student_8",
          "Student_8",
          "Student_8",
          "Student_8",
          "Student_8",
          "Student_8"
         ],
         "y": [
          "Video1",
          "Video2",
          "Quiz1",
          "Quiz2",
          "Pdf1",
          "Pdf2",
          "Ebook1",
          "Ebook2"
         ]
        },
        {
         "marker": {
          "line": {
           "width": 2
          },
          "size": [
           4,
           16,
           22,
           28,
           8,
           9,
           22,
           9
          ],
          "sizemode": "area",
          "sizeref": 0.06896551724137931,
          "symbol": "circle"
         },
         "mode": "markers",
         "name": "Student_9",
         "text": [
          "4",
          "16",
          "22",
          "28",
          "8",
          "9",
          "22",
          "9"
         ],
         "type": "scatter",
         "uid": "1aabee68-e2e8-11e8-96ad-27ad55f30ab3",
         "x": [
          "Student_9",
          "Student_9",
          "Student_9",
          "Student_9",
          "Student_9",
          "Student_9",
          "Student_9",
          "Student_9",
          "Student_9"
         ],
         "y": [
          "Video1",
          "Video2",
          "Quiz1",
          "Quiz2",
          "Pdf1",
          "Pdf2",
          "Ebook1",
          "Ebook2"
         ]
        },
        {
         "marker": {
          "line": {
           "width": 2
          },
          "size": [
           26,
           6,
           13,
           13,
           10,
           12,
           27,
           19
          ],
          "sizemode": "area",
          "sizeref": 0.06896551724137931,
          "symbol": "circle"
         },
         "mode": "markers",
         "name": "Student_10",
         "text": [
          "26",
          "6",
          "13",
          "13",
          "10",
          "12",
          "27",
          "19"
         ],
         "type": "scatter",
         "uid": "1aabeefe-e2e8-11e8-96ad-27ad55f30ab3",
         "x": [
          "Student_10",
          "Student_10",
          "Student_10",
          "Student_10",
          "Student_10",
          "Student_10",
          "Student_10",
          "Student_10",
          "Student_10"
         ],
         "y": [
          "Video1",
          "Video2",
          "Quiz1",
          "Quiz2",
          "Pdf1",
          "Pdf2",
          "Ebook1",
          "Ebook2"
         ]
        },
        {
         "marker": {
          "line": {
           "width": 2
          },
          "size": [
           19,
           25,
           21,
           7,
           5,
           19,
           25,
           6
          ],
          "sizemode": "area",
          "sizeref": 0.06896551724137931,
          "symbol": "circle"
         },
         "mode": "markers",
         "name": "Student_11",
         "text": [
          "19",
          "25",
          "21",
          "7",
          "5",
          "19",
          "25",
          "6"
         ],
         "type": "scatter",
         "uid": "1aabef94-e2e8-11e8-96ad-27ad55f30ab3",
         "x": [
          "Student_11",
          "Student_11",
          "Student_11",
          "Student_11",
          "Student_11",
          "Student_11",
          "Student_11",
          "Student_11",
          "Student_11"
         ],
         "y": [
          "Video1",
          "Video2",
          "Quiz1",
          "Quiz2",
          "Pdf1",
          "Pdf2",
          "Ebook1",
          "Ebook2"
         ]
        },
        {
         "marker": {
          "line": {
           "width": 2
          },
          "size": [
           19,
           15,
           13,
           11,
           28,
           6,
           12,
           3
          ],
          "sizemode": "area",
          "sizeref": 0.06896551724137931,
          "symbol": "circle"
         },
         "mode": "markers",
         "name": "Student_12",
         "text": [
          "19",
          "15",
          "13",
          "11",
          "28",
          "6",
          "12",
          "3"
         ],
         "type": "scatter",
         "uid": "1aabf02a-e2e8-11e8-96ad-27ad55f30ab3",
         "x": [
          "Student_12",
          "Student_12",
          "Student_12",
          "Student_12",
          "Student_12",
          "Student_12",
          "Student_12",
          "Student_12",
          "Student_12"
         ],
         "y": [
          "Video1",
          "Video2",
          "Quiz1",
          "Quiz2",
          "Pdf1",
          "Pdf2",
          "Ebook1",
          "Ebook2"
         ]
        },
        {
         "marker": {
          "line": {
           "width": 2
          },
          "size": [
           23,
           27,
           9,
           6,
           19,
           2,
           25,
           10
          ],
          "sizemode": "area",
          "sizeref": 0.06896551724137931,
          "symbol": "circle"
         },
         "mode": "markers",
         "name": "Student_13",
         "text": [
          "23",
          "27",
          "9",
          "6",
          "19",
          "2",
          "25",
          "10"
         ],
         "type": "scatter",
         "uid": "1aabf0c0-e2e8-11e8-96ad-27ad55f30ab3",
         "x": [
          "Student_13",
          "Student_13",
          "Student_13",
          "Student_13",
          "Student_13",
          "Student_13",
          "Student_13",
          "Student_13",
          "Student_13"
         ],
         "y": [
          "Video1",
          "Video2",
          "Quiz1",
          "Quiz2",
          "Pdf1",
          "Pdf2",
          "Ebook1",
          "Ebook2"
         ]
        },
        {
         "marker": {
          "line": {
           "width": 2
          },
          "size": [
           29,
           28,
           23,
           28,
           27,
           13,
           21,
           0
          ],
          "sizemode": "area",
          "sizeref": 0.06896551724137931,
          "symbol": "circle"
         },
         "mode": "markers",
         "name": "Student_14",
         "text": [
          "29",
          "28",
          "23",
          "28",
          "27",
          "13",
          "21",
          "0"
         ],
         "type": "scatter",
         "uid": "1aabf156-e2e8-11e8-96ad-27ad55f30ab3",
         "x": [
          "Student_14",
          "Student_14",
          "Student_14",
          "Student_14",
          "Student_14",
          "Student_14",
          "Student_14",
          "Student_14",
          "Student_14"
         ],
         "y": [
          "Video1",
          "Video2",
          "Quiz1",
          "Quiz2",
          "Pdf1",
          "Pdf2",
          "Ebook1",
          "Ebook2"
         ]
        },
        {
         "marker": {
          "line": {
           "width": 2
          },
          "size": [
           11,
           23,
           19,
           4,
           26,
           18,
           29,
           16
          ],
          "sizemode": "area",
          "sizeref": 0.06896551724137931,
          "symbol": "circle"
         },
         "mode": "markers",
         "name": "Student_15",
         "text": [
          "11",
          "23",
          "19",
          "4",
          "26",
          "18",
          "29",
          "16"
         ],
         "type": "scatter",
         "uid": "1aabf1ec-e2e8-11e8-96ad-27ad55f30ab3",
         "x": [
          "Student_15",
          "Student_15",
          "Student_15",
          "Student_15",
          "Student_15",
          "Student_15",
          "Student_15",
          "Student_15",
          "Student_15"
         ],
         "y": [
          "Video1",
          "Video2",
          "Quiz1",
          "Quiz2",
          "Pdf1",
          "Pdf2",
          "Ebook1",
          "Ebook2"
         ]
        },
        {
         "marker": {
          "line": {
           "width": 2
          },
          "size": [
           12,
           29,
           11,
           7,
           29,
           29,
           7,
           11
          ],
          "sizemode": "area",
          "sizeref": 0.06896551724137931,
          "symbol": "circle"
         },
         "mode": "markers",
         "name": "Student_16",
         "text": [
          "12",
          "29",
          "11",
          "7",
          "29",
          "29",
          "7",
          "11"
         ],
         "type": "scatter",
         "uid": "1aabf282-e2e8-11e8-96ad-27ad55f30ab3",
         "x": [
          "Student_16",
          "Student_16",
          "Student_16",
          "Student_16",
          "Student_16",
          "Student_16",
          "Student_16",
          "Student_16",
          "Student_16"
         ],
         "y": [
          "Video1",
          "Video2",
          "Quiz1",
          "Quiz2",
          "Pdf1",
          "Pdf2",
          "Ebook1",
          "Ebook2"
         ]
        },
        {
         "marker": {
          "line": {
           "width": 2
          },
          "size": [
           21,
           2,
           23,
           22,
           13,
           11,
           26,
           6
          ],
          "sizemode": "area",
          "sizeref": 0.06896551724137931,
          "symbol": "circle"
         },
         "mode": "markers",
         "name": "Student_17",
         "text": [
          "21",
          "2",
          "23",
          "22",
          "13",
          "11",
          "26",
          "6"
         ],
         "type": "scatter",
         "uid": "1aabf318-e2e8-11e8-96ad-27ad55f30ab3",
         "x": [
          "Student_17",
          "Student_17",
          "Student_17",
          "Student_17",
          "Student_17",
          "Student_17",
          "Student_17",
          "Student_17",
          "Student_17"
         ],
         "y": [
          "Video1",
          "Video2",
          "Quiz1",
          "Quiz2",
          "Pdf1",
          "Pdf2",
          "Ebook1",
          "Ebook2"
         ]
        },
        {
         "marker": {
          "line": {
           "width": 2
          },
          "size": [
           28,
           11,
           9,
           11,
           11,
           17,
           24,
           13
          ],
          "sizemode": "area",
          "sizeref": 0.06896551724137931,
          "symbol": "circle"
         },
         "mode": "markers",
         "name": "Student_18",
         "text": [
          "28",
          "11",
          "9",
          "11",
          "11",
          "17",
          "24",
          "13"
         ],
         "type": "scatter",
         "uid": "1aabf3a4-e2e8-11e8-96ad-27ad55f30ab3",
         "x": [
          "Student_18",
          "Student_18",
          "Student_18",
          "Student_18",
          "Student_18",
          "Student_18",
          "Student_18",
          "Student_18",
          "Student_18"
         ],
         "y": [
          "Video1",
          "Video2",
          "Quiz1",
          "Quiz2",
          "Pdf1",
          "Pdf2",
          "Ebook1",
          "Ebook2"
         ]
        },
        {
         "marker": {
          "line": {
           "width": 2
          },
          "size": [
           4,
           13,
           0,
           2,
           1,
           18,
           20,
           21
          ],
          "sizemode": "area",
          "sizeref": 0.06896551724137931,
          "symbol": "circle"
         },
         "mode": "markers",
         "name": "Student_19",
         "text": [
          "4",
          "13",
          "0",
          "2",
          "1",
          "18",
          "20",
          "21"
         ],
         "type": "scatter",
         "uid": "1aabf43a-e2e8-11e8-96ad-27ad55f30ab3",
         "x": [
          "Student_19",
          "Student_19",
          "Student_19",
          "Student_19",
          "Student_19",
          "Student_19",
          "Student_19",
          "Student_19",
          "Student_19"
         ],
         "y": [
          "Video1",
          "Video2",
          "Quiz1",
          "Quiz2",
          "Pdf1",
          "Pdf2",
          "Ebook1",
          "Ebook2"
         ]
        },
        {
         "marker": {
          "line": {
           "width": 2
          },
          "size": [
           20,
           22,
           23,
           20,
           29,
           20,
           21,
           9
          ],
          "sizemode": "area",
          "sizeref": 0.06896551724137931,
          "symbol": "circle"
         },
         "mode": "markers",
         "name": "Student_20",
         "text": [
          "20",
          "22",
          "23",
          "20",
          "29",
          "20",
          "21",
          "9"
         ],
         "type": "scatter",
         "uid": "1aabf4d0-e2e8-11e8-96ad-27ad55f30ab3",
         "x": [
          "Student_20",
          "Student_20",
          "Student_20",
          "Student_20",
          "Student_20",
          "Student_20",
          "Student_20",
          "Student_20",
          "Student_20"
         ],
         "y": [
          "Video1",
          "Video2",
          "Quiz1",
          "Quiz2",
          "Pdf1",
          "Pdf2",
          "Ebook1",
          "Ebook2"
         ]
        }
       ],
       "layout": {
        "hovermode": "closest",
        "showlegend": true,
        "title": "Número de acessos nos materiais por estudante",
        "xaxis": {
         "autorange": false,
         "fixedrange": false,
         "range": [
          -1,
          20
         ],
         "rangemode": "normal",
         "showline": true,
         "title": "Estudantes",
         "type": "category"
        },
        "yaxis": {
         "autorange": false,
         "categoryorder": "category ascending",
         "fixedrange": false,
         "range": [
          -1,
          8
         ],
         "rangemode": "normal",
         "showline": true,
         "title": "Materiais",
         "type": "category"
        }
       }
      },
      "text/html": [
       "<div id=\"ee725d95-a90a-4855-bc45-fc44a1f7b7b9\" style=\"height: 525px; width: 100%;\" class=\"plotly-graph-div\"></div><script type=\"text/javascript\">require([\"plotly\"], function(Plotly) { window.PLOTLYENV=window.PLOTLYENV || {};window.PLOTLYENV.BASE_URL=\"https://plot.ly\";Plotly.newPlot(\"ee725d95-a90a-4855-bc45-fc44a1f7b7b9\", [{\"marker\": {\"line\": {\"width\": 2}, \"size\": [17, 1, 14, 3, 16, 28, 18, 10], \"sizemode\": \"area\", \"sizeref\": 0.06896551724137931, \"symbol\": \"circle\"}, \"mode\": \"markers\", \"name\": \"Student_1\", \"text\": [\"17\", \"1\", \"14\", \"3\", \"16\", \"28\", \"18\", \"10\"], \"x\": [\"Student_1\", \"Student_1\", \"Student_1\", \"Student_1\", \"Student_1\", \"Student_1\", \"Student_1\", \"Student_1\", \"Student_1\"], \"y\": [\"Video1\", \"Video2\", \"Quiz1\", \"Quiz2\", \"Pdf1\", \"Pdf2\", \"Ebook1\", \"Ebook2\"], \"type\": \"scatter\", \"uid\": \"1aabe7ec-e2e8-11e8-96ad-27ad55f30ab3\"}, {\"marker\": {\"line\": {\"width\": 2}, \"size\": [12, 21, 23, 21, 8, 27, 25, 13], \"sizemode\": \"area\", \"sizeref\": 0.06896551724137931, \"symbol\": \"circle\"}, \"mode\": \"markers\", \"name\": \"Student_2\", \"text\": [\"12\", \"21\", \"23\", \"21\", \"8\", \"27\", \"25\", \"13\"], \"x\": [\"Student_2\", \"Student_2\", \"Student_2\", \"Student_2\", \"Student_2\", \"Student_2\", \"Student_2\", \"Student_2\", \"Student_2\"], \"y\": [\"Video1\", \"Video2\", \"Quiz1\", \"Quiz2\", \"Pdf1\", \"Pdf2\", \"Ebook1\", \"Ebook2\"], \"type\": \"scatter\", \"uid\": \"1aabe9a4-e2e8-11e8-96ad-27ad55f30ab3\"}, {\"marker\": {\"line\": {\"width\": 2}, \"size\": [14, 5, 17, 3, 10, 3, 13, 19], \"sizemode\": \"area\", \"sizeref\": 0.06896551724137931, \"symbol\": \"circle\"}, \"mode\": \"markers\", \"name\": \"Student_3\", \"text\": [\"14\", \"5\", \"17\", \"3\", \"10\", \"3\", \"13\", \"19\"], \"x\": [\"Student_3\", \"Student_3\", \"Student_3\", \"Student_3\", \"Student_3\", \"Student_3\", \"Student_3\", \"Student_3\", \"Student_3\"], \"y\": [\"Video1\", \"Video2\", \"Quiz1\", \"Quiz2\", \"Pdf1\", \"Pdf2\", \"Ebook1\", \"Ebook2\"], \"type\": \"scatter\", \"uid\": \"1aabea8a-e2e8-11e8-96ad-27ad55f30ab3\"}, {\"marker\": {\"line\": {\"width\": 2}, \"size\": [27, 23, 25, 13, 16, 22, 22, 10], \"sizemode\": \"area\", \"sizeref\": 0.06896551724137931, \"symbol\": \"circle\"}, \"mode\": \"markers\", \"name\": \"Student_4\", \"text\": [\"27\", \"23\", \"25\", \"13\", \"16\", \"22\", \"22\", \"10\"], \"x\": [\"Student_4\", \"Student_4\", \"Student_4\", \"Student_4\", \"Student_4\", \"Student_4\", \"Student_4\", \"Student_4\", \"Student_4\"], \"y\": [\"Video1\", \"Video2\", \"Quiz1\", \"Quiz2\", \"Pdf1\", \"Pdf2\", \"Ebook1\", \"Ebook2\"], \"type\": \"scatter\", \"uid\": \"1aabeb52-e2e8-11e8-96ad-27ad55f30ab3\"}, {\"marker\": {\"line\": {\"width\": 2}, \"size\": [9, 15, 6, 10, 6, 4, 7, 24], \"sizemode\": \"area\", \"sizeref\": 0.06896551724137931, \"symbol\": \"circle\"}, \"mode\": \"markers\", \"name\": \"Student_5\", \"text\": [\"9\", \"15\", \"6\", \"10\", \"6\", \"4\", \"7\", \"24\"], \"x\": [\"Student_5\", \"Student_5\", \"Student_5\", \"Student_5\", \"Student_5\", \"Student_5\", \"Student_5\", \"Student_5\", \"Student_5\"], \"y\": [\"Video1\", \"Video2\", \"Quiz1\", \"Quiz2\", \"Pdf1\", \"Pdf2\", \"Ebook1\", \"Ebook2\"], \"type\": \"scatter\", \"uid\": \"1aabebf2-e2e8-11e8-96ad-27ad55f30ab3\"}, {\"marker\": {\"line\": {\"width\": 2}, \"size\": [15, 10, 16, 8, 28, 6, 24, 4], \"sizemode\": \"area\", \"sizeref\": 0.06896551724137931, \"symbol\": \"circle\"}, \"mode\": \"markers\", \"name\": \"Student_6\", \"text\": [\"15\", \"10\", \"16\", \"8\", \"28\", \"6\", \"24\", \"4\"], \"x\": [\"Student_6\", \"Student_6\", \"Student_6\", \"Student_6\", \"Student_6\", \"Student_6\", \"Student_6\", \"Student_6\", \"Student_6\"], \"y\": [\"Video1\", \"Video2\", \"Quiz1\", \"Quiz2\", \"Pdf1\", \"Pdf2\", \"Ebook1\", \"Ebook2\"], \"type\": \"scatter\", \"uid\": \"1aabec92-e2e8-11e8-96ad-27ad55f30ab3\"}, {\"marker\": {\"line\": {\"width\": 2}, \"size\": [13, 9, 27, 18, 3, 20, 0, 4], \"sizemode\": \"area\", \"sizeref\": 0.06896551724137931, \"symbol\": \"circle\"}, \"mode\": \"markers\", \"name\": \"Student_7\", \"text\": [\"13\", \"9\", \"27\", \"18\", \"3\", \"20\", \"0\", \"4\"], \"x\": [\"Student_7\", \"Student_7\", \"Student_7\", \"Student_7\", \"Student_7\", \"Student_7\", \"Student_7\", \"Student_7\", \"Student_7\"], \"y\": [\"Video1\", \"Video2\", \"Quiz1\", \"Quiz2\", \"Pdf1\", \"Pdf2\", \"Ebook1\", \"Ebook2\"], \"type\": \"scatter\", \"uid\": \"1aabed32-e2e8-11e8-96ad-27ad55f30ab3\"}, {\"marker\": {\"line\": {\"width\": 2}, \"size\": [24, 12, 9, 1, 0, 8, 2, 10], \"sizemode\": \"area\", \"sizeref\": 0.06896551724137931, \"symbol\": \"circle\"}, \"mode\": \"markers\", \"name\": \"Student_8\", \"text\": [\"24\", \"12\", \"9\", \"1\", \"0\", \"8\", \"2\", \"10\"], \"x\": [\"Student_8\", \"Student_8\", \"Student_8\", \"Student_8\", \"Student_8\", \"Student_8\", \"Student_8\", \"Student_8\", \"Student_8\"], \"y\": [\"Video1\", \"Video2\", \"Quiz1\", \"Quiz2\", \"Pdf1\", \"Pdf2\", \"Ebook1\", \"Ebook2\"], \"type\": \"scatter\", \"uid\": \"1aabedc8-e2e8-11e8-96ad-27ad55f30ab3\"}, {\"marker\": {\"line\": {\"width\": 2}, \"size\": [4, 16, 22, 28, 8, 9, 22, 9], \"sizemode\": \"area\", \"sizeref\": 0.06896551724137931, \"symbol\": \"circle\"}, \"mode\": \"markers\", \"name\": \"Student_9\", \"text\": [\"4\", \"16\", \"22\", \"28\", \"8\", \"9\", \"22\", \"9\"], \"x\": [\"Student_9\", \"Student_9\", \"Student_9\", \"Student_9\", \"Student_9\", \"Student_9\", \"Student_9\", \"Student_9\", \"Student_9\"], \"y\": [\"Video1\", \"Video2\", \"Quiz1\", \"Quiz2\", \"Pdf1\", \"Pdf2\", \"Ebook1\", \"Ebook2\"], \"type\": \"scatter\", \"uid\": \"1aabee68-e2e8-11e8-96ad-27ad55f30ab3\"}, {\"marker\": {\"line\": {\"width\": 2}, \"size\": [26, 6, 13, 13, 10, 12, 27, 19], \"sizemode\": \"area\", \"sizeref\": 0.06896551724137931, \"symbol\": \"circle\"}, \"mode\": \"markers\", \"name\": \"Student_10\", \"text\": [\"26\", \"6\", \"13\", \"13\", \"10\", \"12\", \"27\", \"19\"], \"x\": [\"Student_10\", \"Student_10\", \"Student_10\", \"Student_10\", \"Student_10\", \"Student_10\", \"Student_10\", \"Student_10\", \"Student_10\"], \"y\": [\"Video1\", \"Video2\", \"Quiz1\", \"Quiz2\", \"Pdf1\", \"Pdf2\", \"Ebook1\", \"Ebook2\"], \"type\": \"scatter\", \"uid\": \"1aabeefe-e2e8-11e8-96ad-27ad55f30ab3\"}, {\"marker\": {\"line\": {\"width\": 2}, \"size\": [19, 25, 21, 7, 5, 19, 25, 6], \"sizemode\": \"area\", \"sizeref\": 0.06896551724137931, \"symbol\": \"circle\"}, \"mode\": \"markers\", \"name\": \"Student_11\", \"text\": [\"19\", \"25\", \"21\", \"7\", \"5\", \"19\", \"25\", \"6\"], \"x\": [\"Student_11\", \"Student_11\", \"Student_11\", \"Student_11\", \"Student_11\", \"Student_11\", \"Student_11\", \"Student_11\", \"Student_11\"], \"y\": [\"Video1\", \"Video2\", \"Quiz1\", \"Quiz2\", \"Pdf1\", \"Pdf2\", \"Ebook1\", \"Ebook2\"], \"type\": \"scatter\", \"uid\": \"1aabef94-e2e8-11e8-96ad-27ad55f30ab3\"}, {\"marker\": {\"line\": {\"width\": 2}, \"size\": [19, 15, 13, 11, 28, 6, 12, 3], \"sizemode\": \"area\", \"sizeref\": 0.06896551724137931, \"symbol\": \"circle\"}, \"mode\": \"markers\", \"name\": \"Student_12\", \"text\": [\"19\", \"15\", \"13\", \"11\", \"28\", \"6\", \"12\", \"3\"], \"x\": [\"Student_12\", \"Student_12\", \"Student_12\", \"Student_12\", \"Student_12\", \"Student_12\", \"Student_12\", \"Student_12\", \"Student_12\"], \"y\": [\"Video1\", \"Video2\", \"Quiz1\", \"Quiz2\", \"Pdf1\", \"Pdf2\", \"Ebook1\", \"Ebook2\"], \"type\": \"scatter\", \"uid\": \"1aabf02a-e2e8-11e8-96ad-27ad55f30ab3\"}, {\"marker\": {\"line\": {\"width\": 2}, \"size\": [23, 27, 9, 6, 19, 2, 25, 10], \"sizemode\": \"area\", \"sizeref\": 0.06896551724137931, \"symbol\": \"circle\"}, \"mode\": \"markers\", \"name\": \"Student_13\", \"text\": [\"23\", \"27\", \"9\", \"6\", \"19\", \"2\", \"25\", \"10\"], \"x\": [\"Student_13\", \"Student_13\", \"Student_13\", \"Student_13\", \"Student_13\", \"Student_13\", \"Student_13\", \"Student_13\", \"Student_13\"], \"y\": [\"Video1\", \"Video2\", \"Quiz1\", \"Quiz2\", \"Pdf1\", \"Pdf2\", \"Ebook1\", \"Ebook2\"], \"type\": \"scatter\", \"uid\": \"1aabf0c0-e2e8-11e8-96ad-27ad55f30ab3\"}, {\"marker\": {\"line\": {\"width\": 2}, \"size\": [29, 28, 23, 28, 27, 13, 21, 0], \"sizemode\": \"area\", \"sizeref\": 0.06896551724137931, \"symbol\": \"circle\"}, \"mode\": \"markers\", \"name\": \"Student_14\", \"text\": [\"29\", \"28\", \"23\", \"28\", \"27\", \"13\", \"21\", \"0\"], \"x\": [\"Student_14\", \"Student_14\", \"Student_14\", \"Student_14\", \"Student_14\", \"Student_14\", \"Student_14\", \"Student_14\", \"Student_14\"], \"y\": [\"Video1\", \"Video2\", \"Quiz1\", \"Quiz2\", \"Pdf1\", \"Pdf2\", \"Ebook1\", \"Ebook2\"], \"type\": \"scatter\", \"uid\": \"1aabf156-e2e8-11e8-96ad-27ad55f30ab3\"}, {\"marker\": {\"line\": {\"width\": 2}, \"size\": [11, 23, 19, 4, 26, 18, 29, 16], \"sizemode\": \"area\", \"sizeref\": 0.06896551724137931, \"symbol\": \"circle\"}, \"mode\": \"markers\", \"name\": \"Student_15\", \"text\": [\"11\", \"23\", \"19\", \"4\", \"26\", \"18\", \"29\", \"16\"], \"x\": [\"Student_15\", \"Student_15\", \"Student_15\", \"Student_15\", \"Student_15\", \"Student_15\", \"Student_15\", \"Student_15\", \"Student_15\"], \"y\": [\"Video1\", \"Video2\", \"Quiz1\", \"Quiz2\", \"Pdf1\", \"Pdf2\", \"Ebook1\", \"Ebook2\"], \"type\": \"scatter\", \"uid\": \"1aabf1ec-e2e8-11e8-96ad-27ad55f30ab3\"}, {\"marker\": {\"line\": {\"width\": 2}, \"size\": [12, 29, 11, 7, 29, 29, 7, 11], \"sizemode\": \"area\", \"sizeref\": 0.06896551724137931, \"symbol\": \"circle\"}, \"mode\": \"markers\", \"name\": \"Student_16\", \"text\": [\"12\", \"29\", \"11\", \"7\", \"29\", \"29\", \"7\", \"11\"], \"x\": [\"Student_16\", \"Student_16\", \"Student_16\", \"Student_16\", \"Student_16\", \"Student_16\", \"Student_16\", \"Student_16\", \"Student_16\"], \"y\": [\"Video1\", \"Video2\", \"Quiz1\", \"Quiz2\", \"Pdf1\", \"Pdf2\", \"Ebook1\", \"Ebook2\"], \"type\": \"scatter\", \"uid\": \"1aabf282-e2e8-11e8-96ad-27ad55f30ab3\"}, {\"marker\": {\"line\": {\"width\": 2}, \"size\": [21, 2, 23, 22, 13, 11, 26, 6], \"sizemode\": \"area\", \"sizeref\": 0.06896551724137931, \"symbol\": \"circle\"}, \"mode\": \"markers\", \"name\": \"Student_17\", \"text\": [\"21\", \"2\", \"23\", \"22\", \"13\", \"11\", \"26\", \"6\"], \"x\": [\"Student_17\", \"Student_17\", \"Student_17\", \"Student_17\", \"Student_17\", \"Student_17\", \"Student_17\", \"Student_17\", \"Student_17\"], \"y\": [\"Video1\", \"Video2\", \"Quiz1\", \"Quiz2\", \"Pdf1\", \"Pdf2\", \"Ebook1\", \"Ebook2\"], \"type\": \"scatter\", \"uid\": \"1aabf318-e2e8-11e8-96ad-27ad55f30ab3\"}, {\"marker\": {\"line\": {\"width\": 2}, \"size\": [28, 11, 9, 11, 11, 17, 24, 13], \"sizemode\": \"area\", \"sizeref\": 0.06896551724137931, \"symbol\": \"circle\"}, \"mode\": \"markers\", \"name\": \"Student_18\", \"text\": [\"28\", \"11\", \"9\", \"11\", \"11\", \"17\", \"24\", \"13\"], \"x\": [\"Student_18\", \"Student_18\", \"Student_18\", \"Student_18\", \"Student_18\", \"Student_18\", \"Student_18\", \"Student_18\", \"Student_18\"], \"y\": [\"Video1\", \"Video2\", \"Quiz1\", \"Quiz2\", \"Pdf1\", \"Pdf2\", \"Ebook1\", \"Ebook2\"], \"type\": \"scatter\", \"uid\": \"1aabf3a4-e2e8-11e8-96ad-27ad55f30ab3\"}, {\"marker\": {\"line\": {\"width\": 2}, \"size\": [4, 13, 0, 2, 1, 18, 20, 21], \"sizemode\": \"area\", \"sizeref\": 0.06896551724137931, \"symbol\": \"circle\"}, \"mode\": \"markers\", \"name\": \"Student_19\", \"text\": [\"4\", \"13\", \"0\", \"2\", \"1\", \"18\", \"20\", \"21\"], \"x\": [\"Student_19\", \"Student_19\", \"Student_19\", \"Student_19\", \"Student_19\", \"Student_19\", \"Student_19\", \"Student_19\", \"Student_19\"], \"y\": [\"Video1\", \"Video2\", \"Quiz1\", \"Quiz2\", \"Pdf1\", \"Pdf2\", \"Ebook1\", \"Ebook2\"], \"type\": \"scatter\", \"uid\": \"1aabf43a-e2e8-11e8-96ad-27ad55f30ab3\"}, {\"marker\": {\"line\": {\"width\": 2}, \"size\": [20, 22, 23, 20, 29, 20, 21, 9], \"sizemode\": \"area\", \"sizeref\": 0.06896551724137931, \"symbol\": \"circle\"}, \"mode\": \"markers\", \"name\": \"Student_20\", \"text\": [\"20\", \"22\", \"23\", \"20\", \"29\", \"20\", \"21\", \"9\"], \"x\": [\"Student_20\", \"Student_20\", \"Student_20\", \"Student_20\", \"Student_20\", \"Student_20\", \"Student_20\", \"Student_20\", \"Student_20\"], \"y\": [\"Video1\", \"Video2\", \"Quiz1\", \"Quiz2\", \"Pdf1\", \"Pdf2\", \"Ebook1\", \"Ebook2\"], \"type\": \"scatter\", \"uid\": \"1aabf4d0-e2e8-11e8-96ad-27ad55f30ab3\"}], {\"hovermode\": \"closest\", \"showlegend\": true, \"title\": \"N\\u00famero de acessos nos materiais por estudante\", \"xaxis\": {\"autorange\": false, \"fixedrange\": false, \"range\": [-1, 20], \"rangemode\": \"normal\", \"showline\": true, \"title\": \"Estudantes\", \"type\": \"category\"}, \"yaxis\": {\"autorange\": false, \"categoryorder\": \"category ascending\", \"fixedrange\": false, \"range\": [-1, 8], \"rangemode\": \"normal\", \"showline\": true, \"title\": \"Materiais\", \"type\": \"category\"}}, {\"showLink\": true, \"linkText\": \"Export to plot.ly\"})});</script>"
      ],
      "text/vnd.plotly.v1+html": [
       "<div id=\"ee725d95-a90a-4855-bc45-fc44a1f7b7b9\" style=\"height: 525px; width: 100%;\" class=\"plotly-graph-div\"></div><script type=\"text/javascript\">require([\"plotly\"], function(Plotly) { window.PLOTLYENV=window.PLOTLYENV || {};window.PLOTLYENV.BASE_URL=\"https://plot.ly\";Plotly.newPlot(\"ee725d95-a90a-4855-bc45-fc44a1f7b7b9\", [{\"marker\": {\"line\": {\"width\": 2}, \"size\": [17, 1, 14, 3, 16, 28, 18, 10], \"sizemode\": \"area\", \"sizeref\": 0.06896551724137931, \"symbol\": \"circle\"}, \"mode\": \"markers\", \"name\": \"Student_1\", \"text\": [\"17\", \"1\", \"14\", \"3\", \"16\", \"28\", \"18\", \"10\"], \"x\": [\"Student_1\", \"Student_1\", \"Student_1\", \"Student_1\", \"Student_1\", \"Student_1\", \"Student_1\", \"Student_1\", \"Student_1\"], \"y\": [\"Video1\", \"Video2\", \"Quiz1\", \"Quiz2\", \"Pdf1\", \"Pdf2\", \"Ebook1\", \"Ebook2\"], \"type\": \"scatter\", \"uid\": \"1aabe7ec-e2e8-11e8-96ad-27ad55f30ab3\"}, {\"marker\": {\"line\": {\"width\": 2}, \"size\": [12, 21, 23, 21, 8, 27, 25, 13], \"sizemode\": \"area\", \"sizeref\": 0.06896551724137931, \"symbol\": \"circle\"}, \"mode\": \"markers\", \"name\": \"Student_2\", \"text\": [\"12\", \"21\", \"23\", \"21\", \"8\", \"27\", \"25\", \"13\"], \"x\": [\"Student_2\", \"Student_2\", \"Student_2\", \"Student_2\", \"Student_2\", \"Student_2\", \"Student_2\", \"Student_2\", \"Student_2\"], \"y\": [\"Video1\", \"Video2\", \"Quiz1\", \"Quiz2\", \"Pdf1\", \"Pdf2\", \"Ebook1\", \"Ebook2\"], \"type\": \"scatter\", \"uid\": \"1aabe9a4-e2e8-11e8-96ad-27ad55f30ab3\"}, {\"marker\": {\"line\": {\"width\": 2}, \"size\": [14, 5, 17, 3, 10, 3, 13, 19], \"sizemode\": \"area\", \"sizeref\": 0.06896551724137931, \"symbol\": \"circle\"}, \"mode\": \"markers\", \"name\": \"Student_3\", \"text\": [\"14\", \"5\", \"17\", \"3\", \"10\", \"3\", \"13\", \"19\"], \"x\": [\"Student_3\", \"Student_3\", \"Student_3\", \"Student_3\", \"Student_3\", \"Student_3\", \"Student_3\", \"Student_3\", \"Student_3\"], \"y\": [\"Video1\", \"Video2\", \"Quiz1\", \"Quiz2\", \"Pdf1\", \"Pdf2\", \"Ebook1\", \"Ebook2\"], \"type\": \"scatter\", \"uid\": \"1aabea8a-e2e8-11e8-96ad-27ad55f30ab3\"}, {\"marker\": {\"line\": {\"width\": 2}, \"size\": [27, 23, 25, 13, 16, 22, 22, 10], \"sizemode\": \"area\", \"sizeref\": 0.06896551724137931, \"symbol\": \"circle\"}, \"mode\": \"markers\", \"name\": \"Student_4\", \"text\": [\"27\", \"23\", \"25\", \"13\", \"16\", \"22\", \"22\", \"10\"], \"x\": [\"Student_4\", \"Student_4\", \"Student_4\", \"Student_4\", \"Student_4\", \"Student_4\", \"Student_4\", \"Student_4\", \"Student_4\"], \"y\": [\"Video1\", \"Video2\", \"Quiz1\", \"Quiz2\", \"Pdf1\", \"Pdf2\", \"Ebook1\", \"Ebook2\"], \"type\": \"scatter\", \"uid\": \"1aabeb52-e2e8-11e8-96ad-27ad55f30ab3\"}, {\"marker\": {\"line\": {\"width\": 2}, \"size\": [9, 15, 6, 10, 6, 4, 7, 24], \"sizemode\": \"area\", \"sizeref\": 0.06896551724137931, \"symbol\": \"circle\"}, \"mode\": \"markers\", \"name\": \"Student_5\", \"text\": [\"9\", \"15\", \"6\", \"10\", \"6\", \"4\", \"7\", \"24\"], \"x\": [\"Student_5\", \"Student_5\", \"Student_5\", \"Student_5\", \"Student_5\", \"Student_5\", \"Student_5\", \"Student_5\", \"Student_5\"], \"y\": [\"Video1\", \"Video2\", \"Quiz1\", \"Quiz2\", \"Pdf1\", \"Pdf2\", \"Ebook1\", \"Ebook2\"], \"type\": \"scatter\", \"uid\": \"1aabebf2-e2e8-11e8-96ad-27ad55f30ab3\"}, {\"marker\": {\"line\": {\"width\": 2}, \"size\": [15, 10, 16, 8, 28, 6, 24, 4], \"sizemode\": \"area\", \"sizeref\": 0.06896551724137931, \"symbol\": \"circle\"}, \"mode\": \"markers\", \"name\": \"Student_6\", \"text\": [\"15\", \"10\", \"16\", \"8\", \"28\", \"6\", \"24\", \"4\"], \"x\": [\"Student_6\", \"Student_6\", \"Student_6\", \"Student_6\", \"Student_6\", \"Student_6\", \"Student_6\", \"Student_6\", \"Student_6\"], \"y\": [\"Video1\", \"Video2\", \"Quiz1\", \"Quiz2\", \"Pdf1\", \"Pdf2\", \"Ebook1\", \"Ebook2\"], \"type\": \"scatter\", \"uid\": \"1aabec92-e2e8-11e8-96ad-27ad55f30ab3\"}, {\"marker\": {\"line\": {\"width\": 2}, \"size\": [13, 9, 27, 18, 3, 20, 0, 4], \"sizemode\": \"area\", \"sizeref\": 0.06896551724137931, \"symbol\": \"circle\"}, \"mode\": \"markers\", \"name\": \"Student_7\", \"text\": [\"13\", \"9\", \"27\", \"18\", \"3\", \"20\", \"0\", \"4\"], \"x\": [\"Student_7\", \"Student_7\", \"Student_7\", \"Student_7\", \"Student_7\", \"Student_7\", \"Student_7\", \"Student_7\", \"Student_7\"], \"y\": [\"Video1\", \"Video2\", \"Quiz1\", \"Quiz2\", \"Pdf1\", \"Pdf2\", \"Ebook1\", \"Ebook2\"], \"type\": \"scatter\", \"uid\": \"1aabed32-e2e8-11e8-96ad-27ad55f30ab3\"}, {\"marker\": {\"line\": {\"width\": 2}, \"size\": [24, 12, 9, 1, 0, 8, 2, 10], \"sizemode\": \"area\", \"sizeref\": 0.06896551724137931, \"symbol\": \"circle\"}, \"mode\": \"markers\", \"name\": \"Student_8\", \"text\": [\"24\", \"12\", \"9\", \"1\", \"0\", \"8\", \"2\", \"10\"], \"x\": [\"Student_8\", \"Student_8\", \"Student_8\", \"Student_8\", \"Student_8\", \"Student_8\", \"Student_8\", \"Student_8\", \"Student_8\"], \"y\": [\"Video1\", \"Video2\", \"Quiz1\", \"Quiz2\", \"Pdf1\", \"Pdf2\", \"Ebook1\", \"Ebook2\"], \"type\": \"scatter\", \"uid\": \"1aabedc8-e2e8-11e8-96ad-27ad55f30ab3\"}, {\"marker\": {\"line\": {\"width\": 2}, \"size\": [4, 16, 22, 28, 8, 9, 22, 9], \"sizemode\": \"area\", \"sizeref\": 0.06896551724137931, \"symbol\": \"circle\"}, \"mode\": \"markers\", \"name\": \"Student_9\", \"text\": [\"4\", \"16\", \"22\", \"28\", \"8\", \"9\", \"22\", \"9\"], \"x\": [\"Student_9\", \"Student_9\", \"Student_9\", \"Student_9\", \"Student_9\", \"Student_9\", \"Student_9\", \"Student_9\", \"Student_9\"], \"y\": [\"Video1\", \"Video2\", \"Quiz1\", \"Quiz2\", \"Pdf1\", \"Pdf2\", \"Ebook1\", \"Ebook2\"], \"type\": \"scatter\", \"uid\": \"1aabee68-e2e8-11e8-96ad-27ad55f30ab3\"}, {\"marker\": {\"line\": {\"width\": 2}, \"size\": [26, 6, 13, 13, 10, 12, 27, 19], \"sizemode\": \"area\", \"sizeref\": 0.06896551724137931, \"symbol\": \"circle\"}, \"mode\": \"markers\", \"name\": \"Student_10\", \"text\": [\"26\", \"6\", \"13\", \"13\", \"10\", \"12\", \"27\", \"19\"], \"x\": [\"Student_10\", \"Student_10\", \"Student_10\", \"Student_10\", \"Student_10\", \"Student_10\", \"Student_10\", \"Student_10\", \"Student_10\"], \"y\": [\"Video1\", \"Video2\", \"Quiz1\", \"Quiz2\", \"Pdf1\", \"Pdf2\", \"Ebook1\", \"Ebook2\"], \"type\": \"scatter\", \"uid\": \"1aabeefe-e2e8-11e8-96ad-27ad55f30ab3\"}, {\"marker\": {\"line\": {\"width\": 2}, \"size\": [19, 25, 21, 7, 5, 19, 25, 6], \"sizemode\": \"area\", \"sizeref\": 0.06896551724137931, \"symbol\": \"circle\"}, \"mode\": \"markers\", \"name\": \"Student_11\", \"text\": [\"19\", \"25\", \"21\", \"7\", \"5\", \"19\", \"25\", \"6\"], \"x\": [\"Student_11\", \"Student_11\", \"Student_11\", \"Student_11\", \"Student_11\", \"Student_11\", \"Student_11\", \"Student_11\", \"Student_11\"], \"y\": [\"Video1\", \"Video2\", \"Quiz1\", \"Quiz2\", \"Pdf1\", \"Pdf2\", \"Ebook1\", \"Ebook2\"], \"type\": \"scatter\", \"uid\": \"1aabef94-e2e8-11e8-96ad-27ad55f30ab3\"}, {\"marker\": {\"line\": {\"width\": 2}, \"size\": [19, 15, 13, 11, 28, 6, 12, 3], \"sizemode\": \"area\", \"sizeref\": 0.06896551724137931, \"symbol\": \"circle\"}, \"mode\": \"markers\", \"name\": \"Student_12\", \"text\": [\"19\", \"15\", \"13\", \"11\", \"28\", \"6\", \"12\", \"3\"], \"x\": [\"Student_12\", \"Student_12\", \"Student_12\", \"Student_12\", \"Student_12\", \"Student_12\", \"Student_12\", \"Student_12\", \"Student_12\"], \"y\": [\"Video1\", \"Video2\", \"Quiz1\", \"Quiz2\", \"Pdf1\", \"Pdf2\", \"Ebook1\", \"Ebook2\"], \"type\": \"scatter\", \"uid\": \"1aabf02a-e2e8-11e8-96ad-27ad55f30ab3\"}, {\"marker\": {\"line\": {\"width\": 2}, \"size\": [23, 27, 9, 6, 19, 2, 25, 10], \"sizemode\": \"area\", \"sizeref\": 0.06896551724137931, \"symbol\": \"circle\"}, \"mode\": \"markers\", \"name\": \"Student_13\", \"text\": [\"23\", \"27\", \"9\", \"6\", \"19\", \"2\", \"25\", \"10\"], \"x\": [\"Student_13\", \"Student_13\", \"Student_13\", \"Student_13\", \"Student_13\", \"Student_13\", \"Student_13\", \"Student_13\", \"Student_13\"], \"y\": [\"Video1\", \"Video2\", \"Quiz1\", \"Quiz2\", \"Pdf1\", \"Pdf2\", \"Ebook1\", \"Ebook2\"], \"type\": \"scatter\", \"uid\": \"1aabf0c0-e2e8-11e8-96ad-27ad55f30ab3\"}, {\"marker\": {\"line\": {\"width\": 2}, \"size\": [29, 28, 23, 28, 27, 13, 21, 0], \"sizemode\": \"area\", \"sizeref\": 0.06896551724137931, \"symbol\": \"circle\"}, \"mode\": \"markers\", \"name\": \"Student_14\", \"text\": [\"29\", \"28\", \"23\", \"28\", \"27\", \"13\", \"21\", \"0\"], \"x\": [\"Student_14\", \"Student_14\", \"Student_14\", \"Student_14\", \"Student_14\", \"Student_14\", \"Student_14\", \"Student_14\", \"Student_14\"], \"y\": [\"Video1\", \"Video2\", \"Quiz1\", \"Quiz2\", \"Pdf1\", \"Pdf2\", \"Ebook1\", \"Ebook2\"], \"type\": \"scatter\", \"uid\": \"1aabf156-e2e8-11e8-96ad-27ad55f30ab3\"}, {\"marker\": {\"line\": {\"width\": 2}, \"size\": [11, 23, 19, 4, 26, 18, 29, 16], \"sizemode\": \"area\", \"sizeref\": 0.06896551724137931, \"symbol\": \"circle\"}, \"mode\": \"markers\", \"name\": \"Student_15\", \"text\": [\"11\", \"23\", \"19\", \"4\", \"26\", \"18\", \"29\", \"16\"], \"x\": [\"Student_15\", \"Student_15\", \"Student_15\", \"Student_15\", \"Student_15\", \"Student_15\", \"Student_15\", \"Student_15\", \"Student_15\"], \"y\": [\"Video1\", \"Video2\", \"Quiz1\", \"Quiz2\", \"Pdf1\", \"Pdf2\", \"Ebook1\", \"Ebook2\"], \"type\": \"scatter\", \"uid\": \"1aabf1ec-e2e8-11e8-96ad-27ad55f30ab3\"}, {\"marker\": {\"line\": {\"width\": 2}, \"size\": [12, 29, 11, 7, 29, 29, 7, 11], \"sizemode\": \"area\", \"sizeref\": 0.06896551724137931, \"symbol\": \"circle\"}, \"mode\": \"markers\", \"name\": \"Student_16\", \"text\": [\"12\", \"29\", \"11\", \"7\", \"29\", \"29\", \"7\", \"11\"], \"x\": [\"Student_16\", \"Student_16\", \"Student_16\", \"Student_16\", \"Student_16\", \"Student_16\", \"Student_16\", \"Student_16\", \"Student_16\"], \"y\": [\"Video1\", \"Video2\", \"Quiz1\", \"Quiz2\", \"Pdf1\", \"Pdf2\", \"Ebook1\", \"Ebook2\"], \"type\": \"scatter\", \"uid\": \"1aabf282-e2e8-11e8-96ad-27ad55f30ab3\"}, {\"marker\": {\"line\": {\"width\": 2}, \"size\": [21, 2, 23, 22, 13, 11, 26, 6], \"sizemode\": \"area\", \"sizeref\": 0.06896551724137931, \"symbol\": \"circle\"}, \"mode\": \"markers\", \"name\": \"Student_17\", \"text\": [\"21\", \"2\", \"23\", \"22\", \"13\", \"11\", \"26\", \"6\"], \"x\": [\"Student_17\", \"Student_17\", \"Student_17\", \"Student_17\", \"Student_17\", \"Student_17\", \"Student_17\", \"Student_17\", \"Student_17\"], \"y\": [\"Video1\", \"Video2\", \"Quiz1\", \"Quiz2\", \"Pdf1\", \"Pdf2\", \"Ebook1\", \"Ebook2\"], \"type\": \"scatter\", \"uid\": \"1aabf318-e2e8-11e8-96ad-27ad55f30ab3\"}, {\"marker\": {\"line\": {\"width\": 2}, \"size\": [28, 11, 9, 11, 11, 17, 24, 13], \"sizemode\": \"area\", \"sizeref\": 0.06896551724137931, \"symbol\": \"circle\"}, \"mode\": \"markers\", \"name\": \"Student_18\", \"text\": [\"28\", \"11\", \"9\", \"11\", \"11\", \"17\", \"24\", \"13\"], \"x\": [\"Student_18\", \"Student_18\", \"Student_18\", \"Student_18\", \"Student_18\", \"Student_18\", \"Student_18\", \"Student_18\", \"Student_18\"], \"y\": [\"Video1\", \"Video2\", \"Quiz1\", \"Quiz2\", \"Pdf1\", \"Pdf2\", \"Ebook1\", \"Ebook2\"], \"type\": \"scatter\", \"uid\": \"1aabf3a4-e2e8-11e8-96ad-27ad55f30ab3\"}, {\"marker\": {\"line\": {\"width\": 2}, \"size\": [4, 13, 0, 2, 1, 18, 20, 21], \"sizemode\": \"area\", \"sizeref\": 0.06896551724137931, \"symbol\": \"circle\"}, \"mode\": \"markers\", \"name\": \"Student_19\", \"text\": [\"4\", \"13\", \"0\", \"2\", \"1\", \"18\", \"20\", \"21\"], \"x\": [\"Student_19\", \"Student_19\", \"Student_19\", \"Student_19\", \"Student_19\", \"Student_19\", \"Student_19\", \"Student_19\", \"Student_19\"], \"y\": [\"Video1\", \"Video2\", \"Quiz1\", \"Quiz2\", \"Pdf1\", \"Pdf2\", \"Ebook1\", \"Ebook2\"], \"type\": \"scatter\", \"uid\": \"1aabf43a-e2e8-11e8-96ad-27ad55f30ab3\"}, {\"marker\": {\"line\": {\"width\": 2}, \"size\": [20, 22, 23, 20, 29, 20, 21, 9], \"sizemode\": \"area\", \"sizeref\": 0.06896551724137931, \"symbol\": \"circle\"}, \"mode\": \"markers\", \"name\": \"Student_20\", \"text\": [\"20\", \"22\", \"23\", \"20\", \"29\", \"20\", \"21\", \"9\"], \"x\": [\"Student_20\", \"Student_20\", \"Student_20\", \"Student_20\", \"Student_20\", \"Student_20\", \"Student_20\", \"Student_20\", \"Student_20\"], \"y\": [\"Video1\", \"Video2\", \"Quiz1\", \"Quiz2\", \"Pdf1\", \"Pdf2\", \"Ebook1\", \"Ebook2\"], \"type\": \"scatter\", \"uid\": \"1aabf4d0-e2e8-11e8-96ad-27ad55f30ab3\"}], {\"hovermode\": \"closest\", \"showlegend\": true, \"title\": \"N\\u00famero de acessos nos materiais por estudante\", \"xaxis\": {\"autorange\": false, \"fixedrange\": false, \"range\": [-1, 20], \"rangemode\": \"normal\", \"showline\": true, \"title\": \"Estudantes\", \"type\": \"category\"}, \"yaxis\": {\"autorange\": false, \"categoryorder\": \"category ascending\", \"fixedrange\": false, \"range\": [-1, 8], \"rangemode\": \"normal\", \"showline\": true, \"title\": \"Materiais\", \"type\": \"category\"}}, {\"showLink\": true, \"linkText\": \"Export to plot.ly\"})});</script>"
      ]
     },
     "metadata": {},
     "output_type": "display_data"
    }
   ],
   "source": [
    "run scripts/V002.py"
   ]
  },
  {
   "cell_type": "markdown",
   "metadata": {},
   "source": [
    "### View 003"
   ]
  },
  {
   "cell_type": "code",
   "execution_count": 243,
   "metadata": {
    "scrolled": true
   },
   "outputs": [
    {
     "data": {
      "text/html": [
       "<script>requirejs.config({paths: { 'plotly': ['https://cdn.plot.ly/plotly-latest.min']},});if(!window.Plotly) {{require(['plotly'],function(plotly) {window.Plotly=plotly;});}}</script>"
      ],
      "text/vnd.plotly.v1+html": [
       "<script>requirejs.config({paths: { 'plotly': ['https://cdn.plot.ly/plotly-latest.min']},});if(!window.Plotly) {{require(['plotly'],function(plotly) {window.Plotly=plotly;});}}</script>"
      ]
     },
     "metadata": {},
     "output_type": "display_data"
    },
    {
     "data": {
      "application/vnd.plotly.v1+json": {
       "data": [
        {
         "cells": {
          "align": [
           "left",
           "center"
          ],
          "fill": {
           "color": "#F5F8FF"
          },
          "values": [
           [
            "Student_1",
            "Student_2",
            "Student_3",
            "Student_4",
            "Student_5",
            "Student_6",
            "Student_7",
            "Student_8",
            "Student_9",
            "Student_10",
            "Student_11",
            "Student_12",
            "Student_13",
            "Student_14",
            "Student_15",
            "Student_16",
            "Student_17",
            "Student_18",
            "Student_19",
            "Student_20"
           ],
           [
            8,
            3,
            1,
            14,
            17,
            8,
            9,
            12,
            0,
            16,
            3,
            11,
            4,
            6,
            6,
            7,
            3,
            7,
            16,
            11
           ],
           [
            5,
            8,
            6,
            4,
            0,
            1,
            10,
            15,
            5,
            19,
            4,
            15,
            5,
            19,
            17,
            1,
            5,
            19,
            1,
            4
           ],
           [
            5,
            7,
            4,
            1,
            12,
            17,
            18,
            10,
            9,
            17,
            4,
            2,
            9,
            17,
            1,
            5,
            16,
            0,
            5,
            18
           ]
          ]
         },
         "header": {
          "align": "center",
          "fill": {
           "color": "#C2D4FF"
          },
          "values": [
           "Students",
           "Hits",
           "Readings",
           "Posts"
          ]
         },
         "type": "table",
         "uid": "4cef1204-e29a-11e8-9490-d5f4ba98b039"
        }
       ],
       "layout": {}
      },
      "text/html": [
       "<div id=\"cf7b654f-43bc-45db-b051-bc4866fd57f5\" style=\"height: 525px; width: 100%;\" class=\"plotly-graph-div\"></div><script type=\"text/javascript\">require([\"plotly\"], function(Plotly) { window.PLOTLYENV=window.PLOTLYENV || {};window.PLOTLYENV.BASE_URL=\"https://plot.ly\";Plotly.newPlot(\"cf7b654f-43bc-45db-b051-bc4866fd57f5\", [{\"cells\": {\"align\": [\"left\", \"center\"], \"fill\": {\"color\": \"#F5F8FF\"}, \"values\": [[\"Student_1\", \"Student_2\", \"Student_3\", \"Student_4\", \"Student_5\", \"Student_6\", \"Student_7\", \"Student_8\", \"Student_9\", \"Student_10\", \"Student_11\", \"Student_12\", \"Student_13\", \"Student_14\", \"Student_15\", \"Student_16\", \"Student_17\", \"Student_18\", \"Student_19\", \"Student_20\"], [8, 3, 1, 14, 17, 8, 9, 12, 0, 16, 3, 11, 4, 6, 6, 7, 3, 7, 16, 11], [5, 8, 6, 4, 0, 1, 10, 15, 5, 19, 4, 15, 5, 19, 17, 1, 5, 19, 1, 4], [5, 7, 4, 1, 12, 17, 18, 10, 9, 17, 4, 2, 9, 17, 1, 5, 16, 0, 5, 18]]}, \"header\": {\"align\": \"center\", \"fill\": {\"color\": \"#C2D4FF\"}, \"values\": [\"Students\", \"Hits\", \"Readings\", \"Posts\"]}, \"type\": \"table\", \"uid\": \"4cf167ac-e29a-11e8-9490-d5f4ba98b039\"}], {}, {\"showLink\": true, \"linkText\": \"Export to plot.ly\"})});</script>"
      ],
      "text/vnd.plotly.v1+html": [
       "<div id=\"cf7b654f-43bc-45db-b051-bc4866fd57f5\" style=\"height: 525px; width: 100%;\" class=\"plotly-graph-div\"></div><script type=\"text/javascript\">require([\"plotly\"], function(Plotly) { window.PLOTLYENV=window.PLOTLYENV || {};window.PLOTLYENV.BASE_URL=\"https://plot.ly\";Plotly.newPlot(\"cf7b654f-43bc-45db-b051-bc4866fd57f5\", [{\"cells\": {\"align\": [\"left\", \"center\"], \"fill\": {\"color\": \"#F5F8FF\"}, \"values\": [[\"Student_1\", \"Student_2\", \"Student_3\", \"Student_4\", \"Student_5\", \"Student_6\", \"Student_7\", \"Student_8\", \"Student_9\", \"Student_10\", \"Student_11\", \"Student_12\", \"Student_13\", \"Student_14\", \"Student_15\", \"Student_16\", \"Student_17\", \"Student_18\", \"Student_19\", \"Student_20\"], [8, 3, 1, 14, 17, 8, 9, 12, 0, 16, 3, 11, 4, 6, 6, 7, 3, 7, 16, 11], [5, 8, 6, 4, 0, 1, 10, 15, 5, 19, 4, 15, 5, 19, 17, 1, 5, 19, 1, 4], [5, 7, 4, 1, 12, 17, 18, 10, 9, 17, 4, 2, 9, 17, 1, 5, 16, 0, 5, 18]]}, \"header\": {\"align\": \"center\", \"fill\": {\"color\": \"#C2D4FF\"}, \"values\": [\"Students\", \"Hits\", \"Readings\", \"Posts\"]}, \"type\": \"table\", \"uid\": \"4cf167ac-e29a-11e8-9490-d5f4ba98b039\"}], {}, {\"showLink\": true, \"linkText\": \"Export to plot.ly\"})});</script>"
      ]
     },
     "metadata": {},
     "output_type": "display_data"
    },
    {
     "data": {
      "application/vnd.plotly.v1+json": {
       "data": [
        {
         "name": "Hits",
         "type": "bar",
         "uid": "4cf7ecf8-e29a-11e8-9490-d5f4ba98b039",
         "x": [
          "Student_1",
          "Student_2",
          "Student_3",
          "Student_4",
          "Student_5",
          "Student_6",
          "Student_7",
          "Student_8",
          "Student_9",
          "Student_10",
          "Student_11",
          "Student_12",
          "Student_13",
          "Student_14",
          "Student_15",
          "Student_16",
          "Student_17",
          "Student_18",
          "Student_19",
          "Student_20"
         ],
         "y": [
          8,
          3,
          1,
          14,
          17,
          8,
          9,
          12,
          0,
          16,
          3,
          11,
          4,
          6,
          6,
          7,
          3,
          7,
          16,
          11
         ]
        },
        {
         "name": "Readings",
         "type": "bar",
         "uid": "4cf7eeb0-e29a-11e8-9490-d5f4ba98b039",
         "x": [
          "Student_1",
          "Student_2",
          "Student_3",
          "Student_4",
          "Student_5",
          "Student_6",
          "Student_7",
          "Student_8",
          "Student_9",
          "Student_10",
          "Student_11",
          "Student_12",
          "Student_13",
          "Student_14",
          "Student_15",
          "Student_16",
          "Student_17",
          "Student_18",
          "Student_19",
          "Student_20"
         ],
         "y": [
          5,
          8,
          6,
          4,
          0,
          1,
          10,
          15,
          5,
          19,
          4,
          15,
          5,
          19,
          17,
          1,
          5,
          19,
          1,
          4
         ]
        },
        {
         "name": "Posts",
         "type": "bar",
         "uid": "4cf7ef96-e29a-11e8-9490-d5f4ba98b039",
         "x": [
          "Student_1",
          "Student_2",
          "Student_3",
          "Student_4",
          "Student_5",
          "Student_6",
          "Student_7",
          "Student_8",
          "Student_9",
          "Student_10",
          "Student_11",
          "Student_12",
          "Student_13",
          "Student_14",
          "Student_15",
          "Student_16",
          "Student_17",
          "Student_18",
          "Student_19",
          "Student_20"
         ],
         "y": [
          5,
          7,
          4,
          1,
          12,
          17,
          18,
          10,
          9,
          17,
          4,
          2,
          9,
          17,
          1,
          5,
          16,
          0,
          5,
          18
         ]
        }
       ],
       "layout": {
        "title": "Número de acessos a Posts, Leituras e Likes agrupados por estudante",
        "yaxis": {
         "dtick": 1,
         "exponentformat": "e",
         "gridcolor": "#bdbdbd",
         "showexponent": "all",
         "showticklabels": true,
         "tick0": 0,
         "titlefont": {
          "color": "lightgrey",
          "family": "Arial, sans-serif"
         }
        }
       }
      },
      "text/html": [
       "<div id=\"2505eb14-1dd0-492a-a835-f6eadbcf1fe3\" style=\"height: 525px; width: 100%;\" class=\"plotly-graph-div\"></div><script type=\"text/javascript\">require([\"plotly\"], function(Plotly) { window.PLOTLYENV=window.PLOTLYENV || {};window.PLOTLYENV.BASE_URL=\"https://plot.ly\";Plotly.newPlot(\"2505eb14-1dd0-492a-a835-f6eadbcf1fe3\", [{\"name\": \"Hits\", \"x\": [\"Student_1\", \"Student_2\", \"Student_3\", \"Student_4\", \"Student_5\", \"Student_6\", \"Student_7\", \"Student_8\", \"Student_9\", \"Student_10\", \"Student_11\", \"Student_12\", \"Student_13\", \"Student_14\", \"Student_15\", \"Student_16\", \"Student_17\", \"Student_18\", \"Student_19\", \"Student_20\"], \"y\": [8, 3, 1, 14, 17, 8, 9, 12, 0, 16, 3, 11, 4, 6, 6, 7, 3, 7, 16, 11], \"type\": \"bar\", \"uid\": \"4cf7ecf8-e29a-11e8-9490-d5f4ba98b039\"}, {\"name\": \"Readings\", \"x\": [\"Student_1\", \"Student_2\", \"Student_3\", \"Student_4\", \"Student_5\", \"Student_6\", \"Student_7\", \"Student_8\", \"Student_9\", \"Student_10\", \"Student_11\", \"Student_12\", \"Student_13\", \"Student_14\", \"Student_15\", \"Student_16\", \"Student_17\", \"Student_18\", \"Student_19\", \"Student_20\"], \"y\": [5, 8, 6, 4, 0, 1, 10, 15, 5, 19, 4, 15, 5, 19, 17, 1, 5, 19, 1, 4], \"type\": \"bar\", \"uid\": \"4cf7eeb0-e29a-11e8-9490-d5f4ba98b039\"}, {\"name\": \"Posts\", \"x\": [\"Student_1\", \"Student_2\", \"Student_3\", \"Student_4\", \"Student_5\", \"Student_6\", \"Student_7\", \"Student_8\", \"Student_9\", \"Student_10\", \"Student_11\", \"Student_12\", \"Student_13\", \"Student_14\", \"Student_15\", \"Student_16\", \"Student_17\", \"Student_18\", \"Student_19\", \"Student_20\"], \"y\": [5, 7, 4, 1, 12, 17, 18, 10, 9, 17, 4, 2, 9, 17, 1, 5, 16, 0, 5, 18], \"type\": \"bar\", \"uid\": \"4cf7ef96-e29a-11e8-9490-d5f4ba98b039\"}], {\"title\": \"N\\u00famero de acessos a Posts, Leituras e Likes agrupados por estudante\", \"yaxis\": {\"dtick\": 1, \"exponentformat\": \"e\", \"gridcolor\": \"#bdbdbd\", \"showexponent\": \"all\", \"showticklabels\": true, \"tick0\": 0, \"titlefont\": {\"color\": \"lightgrey\", \"family\": \"Arial, sans-serif\"}}}, {\"showLink\": true, \"linkText\": \"Export to plot.ly\"})});</script>"
      ],
      "text/vnd.plotly.v1+html": [
       "<div id=\"2505eb14-1dd0-492a-a835-f6eadbcf1fe3\" style=\"height: 525px; width: 100%;\" class=\"plotly-graph-div\"></div><script type=\"text/javascript\">require([\"plotly\"], function(Plotly) { window.PLOTLYENV=window.PLOTLYENV || {};window.PLOTLYENV.BASE_URL=\"https://plot.ly\";Plotly.newPlot(\"2505eb14-1dd0-492a-a835-f6eadbcf1fe3\", [{\"name\": \"Hits\", \"x\": [\"Student_1\", \"Student_2\", \"Student_3\", \"Student_4\", \"Student_5\", \"Student_6\", \"Student_7\", \"Student_8\", \"Student_9\", \"Student_10\", \"Student_11\", \"Student_12\", \"Student_13\", \"Student_14\", \"Student_15\", \"Student_16\", \"Student_17\", \"Student_18\", \"Student_19\", \"Student_20\"], \"y\": [8, 3, 1, 14, 17, 8, 9, 12, 0, 16, 3, 11, 4, 6, 6, 7, 3, 7, 16, 11], \"type\": \"bar\", \"uid\": \"4cf7ecf8-e29a-11e8-9490-d5f4ba98b039\"}, {\"name\": \"Readings\", \"x\": [\"Student_1\", \"Student_2\", \"Student_3\", \"Student_4\", \"Student_5\", \"Student_6\", \"Student_7\", \"Student_8\", \"Student_9\", \"Student_10\", \"Student_11\", \"Student_12\", \"Student_13\", \"Student_14\", \"Student_15\", \"Student_16\", \"Student_17\", \"Student_18\", \"Student_19\", \"Student_20\"], \"y\": [5, 8, 6, 4, 0, 1, 10, 15, 5, 19, 4, 15, 5, 19, 17, 1, 5, 19, 1, 4], \"type\": \"bar\", \"uid\": \"4cf7eeb0-e29a-11e8-9490-d5f4ba98b039\"}, {\"name\": \"Posts\", \"x\": [\"Student_1\", \"Student_2\", \"Student_3\", \"Student_4\", \"Student_5\", \"Student_6\", \"Student_7\", \"Student_8\", \"Student_9\", \"Student_10\", \"Student_11\", \"Student_12\", \"Student_13\", \"Student_14\", \"Student_15\", \"Student_16\", \"Student_17\", \"Student_18\", \"Student_19\", \"Student_20\"], \"y\": [5, 7, 4, 1, 12, 17, 18, 10, 9, 17, 4, 2, 9, 17, 1, 5, 16, 0, 5, 18], \"type\": \"bar\", \"uid\": \"4cf7ef96-e29a-11e8-9490-d5f4ba98b039\"}], {\"title\": \"N\\u00famero de acessos a Posts, Leituras e Likes agrupados por estudante\", \"yaxis\": {\"dtick\": 1, \"exponentformat\": \"e\", \"gridcolor\": \"#bdbdbd\", \"showexponent\": \"all\", \"showticklabels\": true, \"tick0\": 0, \"titlefont\": {\"color\": \"lightgrey\", \"family\": \"Arial, sans-serif\"}}}, {\"showLink\": true, \"linkText\": \"Export to plot.ly\"})});</script>"
      ]
     },
     "metadata": {},
     "output_type": "display_data"
    },
    {
     "data": {
      "application/vnd.plotly.v1+json": {
       "data": [
        {
         "name": "Hits",
         "type": "bar",
         "uid": "4cfe2aaa-e29a-11e8-9490-d5f4ba98b039",
         "x": [
          "Student_1",
          "Student_2",
          "Student_3",
          "Student_4",
          "Student_5",
          "Student_6",
          "Student_7",
          "Student_8",
          "Student_9",
          "Student_10",
          "Student_11",
          "Student_12",
          "Student_13",
          "Student_14",
          "Student_15",
          "Student_16",
          "Student_17",
          "Student_18",
          "Student_19",
          "Student_20"
         ],
         "y": [
          8,
          3,
          1,
          14,
          17,
          8,
          9,
          12,
          0,
          16,
          3,
          11,
          4,
          6,
          6,
          7,
          3,
          7,
          16,
          11
         ]
        },
        {
         "name": "Readings",
         "type": "bar",
         "uid": "4cfe2c9e-e29a-11e8-9490-d5f4ba98b039",
         "x": [
          "Student_1",
          "Student_2",
          "Student_3",
          "Student_4",
          "Student_5",
          "Student_6",
          "Student_7",
          "Student_8",
          "Student_9",
          "Student_10",
          "Student_11",
          "Student_12",
          "Student_13",
          "Student_14",
          "Student_15",
          "Student_16",
          "Student_17",
          "Student_18",
          "Student_19",
          "Student_20"
         ],
         "y": [
          5,
          8,
          6,
          4,
          0,
          1,
          10,
          15,
          5,
          19,
          4,
          15,
          5,
          19,
          17,
          1,
          5,
          19,
          1,
          4
         ]
        },
        {
         "name": "Posts",
         "type": "bar",
         "uid": "4cfe2d84-e29a-11e8-9490-d5f4ba98b039",
         "x": [
          "Student_1",
          "Student_2",
          "Student_3",
          "Student_4",
          "Student_5",
          "Student_6",
          "Student_7",
          "Student_8",
          "Student_9",
          "Student_10",
          "Student_11",
          "Student_12",
          "Student_13",
          "Student_14",
          "Student_15",
          "Student_16",
          "Student_17",
          "Student_18",
          "Student_19",
          "Student_20"
         ],
         "y": [
          5,
          7,
          4,
          1,
          12,
          17,
          18,
          10,
          9,
          17,
          4,
          2,
          9,
          17,
          1,
          5,
          16,
          0,
          5,
          18
         ]
        }
       ],
       "layout": {
        "barmode": "stack",
        "title": "Número de acessos a Posts, Leituras e Likes agrupados por estudante",
        "yaxis": {
         "dtick": 5,
         "exponentformat": "e",
         "gridcolor": "#bdbdbd",
         "showexponent": "all",
         "showticklabels": true,
         "tick0": 0,
         "titlefont": {
          "color": "lightgrey",
          "family": "Arial, sans-serif"
         }
        }
       }
      },
      "text/html": [
       "<div id=\"c36bad66-06e3-4e83-bc40-fb2380853d5d\" style=\"height: 525px; width: 100%;\" class=\"plotly-graph-div\"></div><script type=\"text/javascript\">require([\"plotly\"], function(Plotly) { window.PLOTLYENV=window.PLOTLYENV || {};window.PLOTLYENV.BASE_URL=\"https://plot.ly\";Plotly.newPlot(\"c36bad66-06e3-4e83-bc40-fb2380853d5d\", [{\"name\": \"Hits\", \"x\": [\"Student_1\", \"Student_2\", \"Student_3\", \"Student_4\", \"Student_5\", \"Student_6\", \"Student_7\", \"Student_8\", \"Student_9\", \"Student_10\", \"Student_11\", \"Student_12\", \"Student_13\", \"Student_14\", \"Student_15\", \"Student_16\", \"Student_17\", \"Student_18\", \"Student_19\", \"Student_20\"], \"y\": [8, 3, 1, 14, 17, 8, 9, 12, 0, 16, 3, 11, 4, 6, 6, 7, 3, 7, 16, 11], \"type\": \"bar\", \"uid\": \"4cfe2aaa-e29a-11e8-9490-d5f4ba98b039\"}, {\"name\": \"Readings\", \"x\": [\"Student_1\", \"Student_2\", \"Student_3\", \"Student_4\", \"Student_5\", \"Student_6\", \"Student_7\", \"Student_8\", \"Student_9\", \"Student_10\", \"Student_11\", \"Student_12\", \"Student_13\", \"Student_14\", \"Student_15\", \"Student_16\", \"Student_17\", \"Student_18\", \"Student_19\", \"Student_20\"], \"y\": [5, 8, 6, 4, 0, 1, 10, 15, 5, 19, 4, 15, 5, 19, 17, 1, 5, 19, 1, 4], \"type\": \"bar\", \"uid\": \"4cfe2c9e-e29a-11e8-9490-d5f4ba98b039\"}, {\"name\": \"Posts\", \"x\": [\"Student_1\", \"Student_2\", \"Student_3\", \"Student_4\", \"Student_5\", \"Student_6\", \"Student_7\", \"Student_8\", \"Student_9\", \"Student_10\", \"Student_11\", \"Student_12\", \"Student_13\", \"Student_14\", \"Student_15\", \"Student_16\", \"Student_17\", \"Student_18\", \"Student_19\", \"Student_20\"], \"y\": [5, 7, 4, 1, 12, 17, 18, 10, 9, 17, 4, 2, 9, 17, 1, 5, 16, 0, 5, 18], \"type\": \"bar\", \"uid\": \"4cfe2d84-e29a-11e8-9490-d5f4ba98b039\"}], {\"barmode\": \"stack\", \"title\": \"N\\u00famero de acessos a Posts, Leituras e Likes agrupados por estudante\", \"yaxis\": {\"dtick\": 5, \"exponentformat\": \"e\", \"gridcolor\": \"#bdbdbd\", \"showexponent\": \"all\", \"showticklabels\": true, \"tick0\": 0, \"titlefont\": {\"color\": \"lightgrey\", \"family\": \"Arial, sans-serif\"}}}, {\"showLink\": true, \"linkText\": \"Export to plot.ly\"})});</script>"
      ],
      "text/vnd.plotly.v1+html": [
       "<div id=\"c36bad66-06e3-4e83-bc40-fb2380853d5d\" style=\"height: 525px; width: 100%;\" class=\"plotly-graph-div\"></div><script type=\"text/javascript\">require([\"plotly\"], function(Plotly) { window.PLOTLYENV=window.PLOTLYENV || {};window.PLOTLYENV.BASE_URL=\"https://plot.ly\";Plotly.newPlot(\"c36bad66-06e3-4e83-bc40-fb2380853d5d\", [{\"name\": \"Hits\", \"x\": [\"Student_1\", \"Student_2\", \"Student_3\", \"Student_4\", \"Student_5\", \"Student_6\", \"Student_7\", \"Student_8\", \"Student_9\", \"Student_10\", \"Student_11\", \"Student_12\", \"Student_13\", \"Student_14\", \"Student_15\", \"Student_16\", \"Student_17\", \"Student_18\", \"Student_19\", \"Student_20\"], \"y\": [8, 3, 1, 14, 17, 8, 9, 12, 0, 16, 3, 11, 4, 6, 6, 7, 3, 7, 16, 11], \"type\": \"bar\", \"uid\": \"4cfe2aaa-e29a-11e8-9490-d5f4ba98b039\"}, {\"name\": \"Readings\", \"x\": [\"Student_1\", \"Student_2\", \"Student_3\", \"Student_4\", \"Student_5\", \"Student_6\", \"Student_7\", \"Student_8\", \"Student_9\", \"Student_10\", \"Student_11\", \"Student_12\", \"Student_13\", \"Student_14\", \"Student_15\", \"Student_16\", \"Student_17\", \"Student_18\", \"Student_19\", \"Student_20\"], \"y\": [5, 8, 6, 4, 0, 1, 10, 15, 5, 19, 4, 15, 5, 19, 17, 1, 5, 19, 1, 4], \"type\": \"bar\", \"uid\": \"4cfe2c9e-e29a-11e8-9490-d5f4ba98b039\"}, {\"name\": \"Posts\", \"x\": [\"Student_1\", \"Student_2\", \"Student_3\", \"Student_4\", \"Student_5\", \"Student_6\", \"Student_7\", \"Student_8\", \"Student_9\", \"Student_10\", \"Student_11\", \"Student_12\", \"Student_13\", \"Student_14\", \"Student_15\", \"Student_16\", \"Student_17\", \"Student_18\", \"Student_19\", \"Student_20\"], \"y\": [5, 7, 4, 1, 12, 17, 18, 10, 9, 17, 4, 2, 9, 17, 1, 5, 16, 0, 5, 18], \"type\": \"bar\", \"uid\": \"4cfe2d84-e29a-11e8-9490-d5f4ba98b039\"}], {\"barmode\": \"stack\", \"title\": \"N\\u00famero de acessos a Posts, Leituras e Likes agrupados por estudante\", \"yaxis\": {\"dtick\": 5, \"exponentformat\": \"e\", \"gridcolor\": \"#bdbdbd\", \"showexponent\": \"all\", \"showticklabels\": true, \"tick0\": 0, \"titlefont\": {\"color\": \"lightgrey\", \"family\": \"Arial, sans-serif\"}}}, {\"showLink\": true, \"linkText\": \"Export to plot.ly\"})});</script>"
      ]
     },
     "metadata": {},
     "output_type": "display_data"
    },
    {
     "data": {
      "application/vnd.plotly.v1+json": {
       "data": [
        {
         "name": "Hits",
         "orientation": "h",
         "type": "bar",
         "uid": "4d03f62e-e29a-11e8-9490-d5f4ba98b039",
         "x": [
          8,
          3,
          1,
          14,
          17,
          8,
          9,
          12,
          0,
          16,
          3,
          11,
          4,
          6,
          6,
          7,
          3,
          7,
          16,
          11
         ],
         "y": [
          "Student_1",
          "Student_2",
          "Student_3",
          "Student_4",
          "Student_5",
          "Student_6",
          "Student_7",
          "Student_8",
          "Student_9",
          "Student_10",
          "Student_11",
          "Student_12",
          "Student_13",
          "Student_14",
          "Student_15",
          "Student_16",
          "Student_17",
          "Student_18",
          "Student_19",
          "Student_20"
         ]
        },
        {
         "name": "Readings",
         "orientation": "h",
         "type": "bar",
         "uid": "4d03f7e6-e29a-11e8-9490-d5f4ba98b039",
         "x": [
          5,
          8,
          6,
          4,
          0,
          1,
          10,
          15,
          5,
          19,
          4,
          15,
          5,
          19,
          17,
          1,
          5,
          19,
          1,
          4
         ],
         "y": [
          "Student_1",
          "Student_2",
          "Student_3",
          "Student_4",
          "Student_5",
          "Student_6",
          "Student_7",
          "Student_8",
          "Student_9",
          "Student_10",
          "Student_11",
          "Student_12",
          "Student_13",
          "Student_14",
          "Student_15",
          "Student_16",
          "Student_17",
          "Student_18",
          "Student_19",
          "Student_20"
         ]
        },
        {
         "name": "Posts",
         "orientation": "h",
         "type": "bar",
         "uid": "4d03f8e0-e29a-11e8-9490-d5f4ba98b039",
         "x": [
          5,
          7,
          4,
          1,
          12,
          17,
          18,
          10,
          9,
          17,
          4,
          2,
          9,
          17,
          1,
          5,
          16,
          0,
          5,
          18
         ],
         "y": [
          "Student_1",
          "Student_2",
          "Student_3",
          "Student_4",
          "Student_5",
          "Student_6",
          "Student_7",
          "Student_8",
          "Student_9",
          "Student_10",
          "Student_11",
          "Student_12",
          "Student_13",
          "Student_14",
          "Student_15",
          "Student_16",
          "Student_17",
          "Student_18",
          "Student_19",
          "Student_20"
         ]
        }
       ],
       "layout": {
        "barmode": "stack",
        "title": "Número de acessos a Posts, Leituras e Likes agrupados por estudante",
        "yaxis": {
         "dtick": 1,
         "exponentformat": "e",
         "gridcolor": "#bdbdbd",
         "showexponent": "all",
         "showticklabels": true,
         "tick0": 0,
         "titlefont": {
          "color": "lightgrey",
          "family": "Arial, sans-serif"
         }
        }
       }
      },
      "text/html": [
       "<div id=\"c8b92be6-1d3f-498b-b109-7fe970876da3\" style=\"height: 525px; width: 100%;\" class=\"plotly-graph-div\"></div><script type=\"text/javascript\">require([\"plotly\"], function(Plotly) { window.PLOTLYENV=window.PLOTLYENV || {};window.PLOTLYENV.BASE_URL=\"https://plot.ly\";Plotly.newPlot(\"c8b92be6-1d3f-498b-b109-7fe970876da3\", [{\"name\": \"Hits\", \"orientation\": \"h\", \"x\": [8, 3, 1, 14, 17, 8, 9, 12, 0, 16, 3, 11, 4, 6, 6, 7, 3, 7, 16, 11], \"y\": [\"Student_1\", \"Student_2\", \"Student_3\", \"Student_4\", \"Student_5\", \"Student_6\", \"Student_7\", \"Student_8\", \"Student_9\", \"Student_10\", \"Student_11\", \"Student_12\", \"Student_13\", \"Student_14\", \"Student_15\", \"Student_16\", \"Student_17\", \"Student_18\", \"Student_19\", \"Student_20\"], \"type\": \"bar\", \"uid\": \"4d03f62e-e29a-11e8-9490-d5f4ba98b039\"}, {\"name\": \"Readings\", \"orientation\": \"h\", \"x\": [5, 8, 6, 4, 0, 1, 10, 15, 5, 19, 4, 15, 5, 19, 17, 1, 5, 19, 1, 4], \"y\": [\"Student_1\", \"Student_2\", \"Student_3\", \"Student_4\", \"Student_5\", \"Student_6\", \"Student_7\", \"Student_8\", \"Student_9\", \"Student_10\", \"Student_11\", \"Student_12\", \"Student_13\", \"Student_14\", \"Student_15\", \"Student_16\", \"Student_17\", \"Student_18\", \"Student_19\", \"Student_20\"], \"type\": \"bar\", \"uid\": \"4d03f7e6-e29a-11e8-9490-d5f4ba98b039\"}, {\"name\": \"Posts\", \"orientation\": \"h\", \"x\": [5, 7, 4, 1, 12, 17, 18, 10, 9, 17, 4, 2, 9, 17, 1, 5, 16, 0, 5, 18], \"y\": [\"Student_1\", \"Student_2\", \"Student_3\", \"Student_4\", \"Student_5\", \"Student_6\", \"Student_7\", \"Student_8\", \"Student_9\", \"Student_10\", \"Student_11\", \"Student_12\", \"Student_13\", \"Student_14\", \"Student_15\", \"Student_16\", \"Student_17\", \"Student_18\", \"Student_19\", \"Student_20\"], \"type\": \"bar\", \"uid\": \"4d03f8e0-e29a-11e8-9490-d5f4ba98b039\"}], {\"barmode\": \"stack\", \"title\": \"N\\u00famero de acessos a Posts, Leituras e Likes agrupados por estudante\", \"yaxis\": {\"dtick\": 1, \"exponentformat\": \"e\", \"gridcolor\": \"#bdbdbd\", \"showexponent\": \"all\", \"showticklabels\": true, \"tick0\": 0, \"titlefont\": {\"color\": \"lightgrey\", \"family\": \"Arial, sans-serif\"}}}, {\"showLink\": true, \"linkText\": \"Export to plot.ly\"})});</script>"
      ],
      "text/vnd.plotly.v1+html": [
       "<div id=\"c8b92be6-1d3f-498b-b109-7fe970876da3\" style=\"height: 525px; width: 100%;\" class=\"plotly-graph-div\"></div><script type=\"text/javascript\">require([\"plotly\"], function(Plotly) { window.PLOTLYENV=window.PLOTLYENV || {};window.PLOTLYENV.BASE_URL=\"https://plot.ly\";Plotly.newPlot(\"c8b92be6-1d3f-498b-b109-7fe970876da3\", [{\"name\": \"Hits\", \"orientation\": \"h\", \"x\": [8, 3, 1, 14, 17, 8, 9, 12, 0, 16, 3, 11, 4, 6, 6, 7, 3, 7, 16, 11], \"y\": [\"Student_1\", \"Student_2\", \"Student_3\", \"Student_4\", \"Student_5\", \"Student_6\", \"Student_7\", \"Student_8\", \"Student_9\", \"Student_10\", \"Student_11\", \"Student_12\", \"Student_13\", \"Student_14\", \"Student_15\", \"Student_16\", \"Student_17\", \"Student_18\", \"Student_19\", \"Student_20\"], \"type\": \"bar\", \"uid\": \"4d03f62e-e29a-11e8-9490-d5f4ba98b039\"}, {\"name\": \"Readings\", \"orientation\": \"h\", \"x\": [5, 8, 6, 4, 0, 1, 10, 15, 5, 19, 4, 15, 5, 19, 17, 1, 5, 19, 1, 4], \"y\": [\"Student_1\", \"Student_2\", \"Student_3\", \"Student_4\", \"Student_5\", \"Student_6\", \"Student_7\", \"Student_8\", \"Student_9\", \"Student_10\", \"Student_11\", \"Student_12\", \"Student_13\", \"Student_14\", \"Student_15\", \"Student_16\", \"Student_17\", \"Student_18\", \"Student_19\", \"Student_20\"], \"type\": \"bar\", \"uid\": \"4d03f7e6-e29a-11e8-9490-d5f4ba98b039\"}, {\"name\": \"Posts\", \"orientation\": \"h\", \"x\": [5, 7, 4, 1, 12, 17, 18, 10, 9, 17, 4, 2, 9, 17, 1, 5, 16, 0, 5, 18], \"y\": [\"Student_1\", \"Student_2\", \"Student_3\", \"Student_4\", \"Student_5\", \"Student_6\", \"Student_7\", \"Student_8\", \"Student_9\", \"Student_10\", \"Student_11\", \"Student_12\", \"Student_13\", \"Student_14\", \"Student_15\", \"Student_16\", \"Student_17\", \"Student_18\", \"Student_19\", \"Student_20\"], \"type\": \"bar\", \"uid\": \"4d03f8e0-e29a-11e8-9490-d5f4ba98b039\"}], {\"barmode\": \"stack\", \"title\": \"N\\u00famero de acessos a Posts, Leituras e Likes agrupados por estudante\", \"yaxis\": {\"dtick\": 1, \"exponentformat\": \"e\", \"gridcolor\": \"#bdbdbd\", \"showexponent\": \"all\", \"showticklabels\": true, \"tick0\": 0, \"titlefont\": {\"color\": \"lightgrey\", \"family\": \"Arial, sans-serif\"}}}, {\"showLink\": true, \"linkText\": \"Export to plot.ly\"})});</script>"
      ]
     },
     "metadata": {},
     "output_type": "display_data"
    },
    {
     "data": {
      "application/vnd.plotly.v1+json": {
       "data": [
        {
         "marker": {
          "line": {
           "width": 2
          },
          "size": [
           8,
           5,
           5
          ],
          "sizemode": "area",
          "sizeref": 0.10526315789473684,
          "symbol": "circle"
         },
         "mode": "markers",
         "name": "Student_1",
         "text": [
          "8",
          "5",
          "5"
         ],
         "type": "scatter",
         "uid": "4d180042-e29a-11e8-9490-d5f4ba98b039",
         "x": [
          "Student_1",
          "Student_1",
          "Student_1",
          "Student_1"
         ],
         "y": [
          "Hits",
          "Readings",
          "Posts"
         ]
        },
        {
         "marker": {
          "line": {
           "width": 2
          },
          "size": [
           3,
           8,
           7
          ],
          "sizemode": "area",
          "sizeref": 0.10526315789473684,
          "symbol": "circle"
         },
         "mode": "markers",
         "name": "Student_2",
         "text": [
          "3",
          "8",
          "7"
         ],
         "type": "scatter",
         "uid": "4d1801f0-e29a-11e8-9490-d5f4ba98b039",
         "x": [
          "Student_2",
          "Student_2",
          "Student_2",
          "Student_2"
         ],
         "y": [
          "Hits",
          "Readings",
          "Posts"
         ]
        },
        {
         "marker": {
          "line": {
           "width": 2
          },
          "size": [
           1,
           6,
           4
          ],
          "sizemode": "area",
          "sizeref": 0.10526315789473684,
          "symbol": "circle"
         },
         "mode": "markers",
         "name": "Student_3",
         "text": [
          "1",
          "6",
          "4"
         ],
         "type": "scatter",
         "uid": "4d1802b8-e29a-11e8-9490-d5f4ba98b039",
         "x": [
          "Student_3",
          "Student_3",
          "Student_3",
          "Student_3"
         ],
         "y": [
          "Hits",
          "Readings",
          "Posts"
         ]
        },
        {
         "marker": {
          "line": {
           "width": 2
          },
          "size": [
           14,
           4,
           1
          ],
          "sizemode": "area",
          "sizeref": 0.10526315789473684,
          "symbol": "circle"
         },
         "mode": "markers",
         "name": "Student_4",
         "text": [
          "14",
          "4",
          "1"
         ],
         "type": "scatter",
         "uid": "4d180362-e29a-11e8-9490-d5f4ba98b039",
         "x": [
          "Student_4",
          "Student_4",
          "Student_4",
          "Student_4"
         ],
         "y": [
          "Hits",
          "Readings",
          "Posts"
         ]
        },
        {
         "marker": {
          "line": {
           "width": 2
          },
          "size": [
           17,
           0,
           12
          ],
          "sizemode": "area",
          "sizeref": 0.10526315789473684,
          "symbol": "circle"
         },
         "mode": "markers",
         "name": "Student_5",
         "text": [
          "17",
          "0",
          "12"
         ],
         "type": "scatter",
         "uid": "4d1803f8-e29a-11e8-9490-d5f4ba98b039",
         "x": [
          "Student_5",
          "Student_5",
          "Student_5",
          "Student_5"
         ],
         "y": [
          "Hits",
          "Readings",
          "Posts"
         ]
        },
        {
         "marker": {
          "line": {
           "width": 2
          },
          "size": [
           8,
           1,
           17
          ],
          "sizemode": "area",
          "sizeref": 0.10526315789473684,
          "symbol": "circle"
         },
         "mode": "markers",
         "name": "Student_6",
         "text": [
          "8",
          "1",
          "17"
         ],
         "type": "scatter",
         "uid": "4d180484-e29a-11e8-9490-d5f4ba98b039",
         "x": [
          "Student_6",
          "Student_6",
          "Student_6",
          "Student_6"
         ],
         "y": [
          "Hits",
          "Readings",
          "Posts"
         ]
        },
        {
         "marker": {
          "line": {
           "width": 2
          },
          "size": [
           9,
           10,
           18
          ],
          "sizemode": "area",
          "sizeref": 0.10526315789473684,
          "symbol": "circle"
         },
         "mode": "markers",
         "name": "Student_7",
         "text": [
          "9",
          "10",
          "18"
         ],
         "type": "scatter",
         "uid": "4d180510-e29a-11e8-9490-d5f4ba98b039",
         "x": [
          "Student_7",
          "Student_7",
          "Student_7",
          "Student_7"
         ],
         "y": [
          "Hits",
          "Readings",
          "Posts"
         ]
        },
        {
         "marker": {
          "line": {
           "width": 2
          },
          "size": [
           12,
           15,
           10
          ],
          "sizemode": "area",
          "sizeref": 0.10526315789473684,
          "symbol": "circle"
         },
         "mode": "markers",
         "name": "Student_8",
         "text": [
          "12",
          "15",
          "10"
         ],
         "type": "scatter",
         "uid": "4d180592-e29a-11e8-9490-d5f4ba98b039",
         "x": [
          "Student_8",
          "Student_8",
          "Student_8",
          "Student_8"
         ],
         "y": [
          "Hits",
          "Readings",
          "Posts"
         ]
        },
        {
         "marker": {
          "line": {
           "width": 2
          },
          "size": [
           0,
           5,
           9
          ],
          "sizemode": "area",
          "sizeref": 0.10526315789473684,
          "symbol": "circle"
         },
         "mode": "markers",
         "name": "Student_9",
         "text": [
          "0",
          "5",
          "9"
         ],
         "type": "scatter",
         "uid": "4d18061e-e29a-11e8-9490-d5f4ba98b039",
         "x": [
          "Student_9",
          "Student_9",
          "Student_9",
          "Student_9"
         ],
         "y": [
          "Hits",
          "Readings",
          "Posts"
         ]
        },
        {
         "marker": {
          "line": {
           "width": 2
          },
          "size": [
           16,
           19,
           17
          ],
          "sizemode": "area",
          "sizeref": 0.10526315789473684,
          "symbol": "circle"
         },
         "mode": "markers",
         "name": "Student_10",
         "text": [
          "16",
          "19",
          "17"
         ],
         "type": "scatter",
         "uid": "4d1806a0-e29a-11e8-9490-d5f4ba98b039",
         "x": [
          "Student_10",
          "Student_10",
          "Student_10",
          "Student_10"
         ],
         "y": [
          "Hits",
          "Readings",
          "Posts"
         ]
        },
        {
         "marker": {
          "line": {
           "width": 2
          },
          "size": [
           3,
           4,
           4
          ],
          "sizemode": "area",
          "sizeref": 0.10526315789473684,
          "symbol": "circle"
         },
         "mode": "markers",
         "name": "Student_11",
         "text": [
          "3",
          "4",
          "4"
         ],
         "type": "scatter",
         "uid": "4d18072c-e29a-11e8-9490-d5f4ba98b039",
         "x": [
          "Student_11",
          "Student_11",
          "Student_11",
          "Student_11"
         ],
         "y": [
          "Hits",
          "Readings",
          "Posts"
         ]
        },
        {
         "marker": {
          "line": {
           "width": 2
          },
          "size": [
           11,
           15,
           2
          ],
          "sizemode": "area",
          "sizeref": 0.10526315789473684,
          "symbol": "circle"
         },
         "mode": "markers",
         "name": "Student_12",
         "text": [
          "11",
          "15",
          "2"
         ],
         "type": "scatter",
         "uid": "4d1807ae-e29a-11e8-9490-d5f4ba98b039",
         "x": [
          "Student_12",
          "Student_12",
          "Student_12",
          "Student_12"
         ],
         "y": [
          "Hits",
          "Readings",
          "Posts"
         ]
        },
        {
         "marker": {
          "line": {
           "width": 2
          },
          "size": [
           4,
           5,
           9
          ],
          "sizemode": "area",
          "sizeref": 0.10526315789473684,
          "symbol": "circle"
         },
         "mode": "markers",
         "name": "Student_13",
         "text": [
          "4",
          "5",
          "9"
         ],
         "type": "scatter",
         "uid": "4d18083a-e29a-11e8-9490-d5f4ba98b039",
         "x": [
          "Student_13",
          "Student_13",
          "Student_13",
          "Student_13"
         ],
         "y": [
          "Hits",
          "Readings",
          "Posts"
         ]
        },
        {
         "marker": {
          "line": {
           "width": 2
          },
          "size": [
           6,
           19,
           17
          ],
          "sizemode": "area",
          "sizeref": 0.10526315789473684,
          "symbol": "circle"
         },
         "mode": "markers",
         "name": "Student_14",
         "text": [
          "6",
          "19",
          "17"
         ],
         "type": "scatter",
         "uid": "4d1808c6-e29a-11e8-9490-d5f4ba98b039",
         "x": [
          "Student_14",
          "Student_14",
          "Student_14",
          "Student_14"
         ],
         "y": [
          "Hits",
          "Readings",
          "Posts"
         ]
        },
        {
         "marker": {
          "line": {
           "width": 2
          },
          "size": [
           6,
           17,
           1
          ],
          "sizemode": "area",
          "sizeref": 0.10526315789473684,
          "symbol": "circle"
         },
         "mode": "markers",
         "name": "Student_15",
         "text": [
          "6",
          "17",
          "1"
         ],
         "type": "scatter",
         "uid": "4d180948-e29a-11e8-9490-d5f4ba98b039",
         "x": [
          "Student_15",
          "Student_15",
          "Student_15",
          "Student_15"
         ],
         "y": [
          "Hits",
          "Readings",
          "Posts"
         ]
        },
        {
         "marker": {
          "line": {
           "width": 2
          },
          "size": [
           7,
           1,
           5
          ],
          "sizemode": "area",
          "sizeref": 0.10526315789473684,
          "symbol": "circle"
         },
         "mode": "markers",
         "name": "Student_16",
         "text": [
          "7",
          "1",
          "5"
         ],
         "type": "scatter",
         "uid": "4d1809ca-e29a-11e8-9490-d5f4ba98b039",
         "x": [
          "Student_16",
          "Student_16",
          "Student_16",
          "Student_16"
         ],
         "y": [
          "Hits",
          "Readings",
          "Posts"
         ]
        },
        {
         "marker": {
          "line": {
           "width": 2
          },
          "size": [
           3,
           5,
           16
          ],
          "sizemode": "area",
          "sizeref": 0.10526315789473684,
          "symbol": "circle"
         },
         "mode": "markers",
         "name": "Student_17",
         "text": [
          "3",
          "5",
          "16"
         ],
         "type": "scatter",
         "uid": "4d180a4c-e29a-11e8-9490-d5f4ba98b039",
         "x": [
          "Student_17",
          "Student_17",
          "Student_17",
          "Student_17"
         ],
         "y": [
          "Hits",
          "Readings",
          "Posts"
         ]
        },
        {
         "marker": {
          "line": {
           "width": 2
          },
          "size": [
           7,
           19,
           0
          ],
          "sizemode": "area",
          "sizeref": 0.10526315789473684,
          "symbol": "circle"
         },
         "mode": "markers",
         "name": "Student_18",
         "text": [
          "7",
          "19",
          "0"
         ],
         "type": "scatter",
         "uid": "4d180ace-e29a-11e8-9490-d5f4ba98b039",
         "x": [
          "Student_18",
          "Student_18",
          "Student_18",
          "Student_18"
         ],
         "y": [
          "Hits",
          "Readings",
          "Posts"
         ]
        },
        {
         "marker": {
          "line": {
           "width": 2
          },
          "size": [
           16,
           1,
           5
          ],
          "sizemode": "area",
          "sizeref": 0.10526315789473684,
          "symbol": "circle"
         },
         "mode": "markers",
         "name": "Student_19",
         "text": [
          "16",
          "1",
          "5"
         ],
         "type": "scatter",
         "uid": "4d180b46-e29a-11e8-9490-d5f4ba98b039",
         "x": [
          "Student_19",
          "Student_19",
          "Student_19",
          "Student_19"
         ],
         "y": [
          "Hits",
          "Readings",
          "Posts"
         ]
        },
        {
         "marker": {
          "line": {
           "width": 2
          },
          "size": [
           11,
           4,
           18
          ],
          "sizemode": "area",
          "sizeref": 0.10526315789473684,
          "symbol": "circle"
         },
         "mode": "markers",
         "name": "Student_20",
         "text": [
          "11",
          "4",
          "18"
         ],
         "type": "scatter",
         "uid": "4d180bbe-e29a-11e8-9490-d5f4ba98b039",
         "x": [
          "Student_20",
          "Student_20",
          "Student_20",
          "Student_20"
         ],
         "y": [
          "Hits",
          "Readings",
          "Posts"
         ]
        }
       ],
       "layout": {
        "hovermode": "closest",
        "showlegend": true,
        "title": "Número de acessos a Posts, Leituras e Likes por estudante",
        "xaxis": {
         "autorange": false,
         "fixedrange": false,
         "range": [
          -1,
          20
         ],
         "rangemode": "normal",
         "showline": true,
         "title": "Estudantes",
         "type": "category"
        },
        "yaxis": {
         "autorange": false,
         "categoryorder": "category ascending",
         "fixedrange": false,
         "range": [
          -1,
          3
         ],
         "rangemode": "normal",
         "showline": true,
         "type": "category"
        }
       }
      },
      "text/html": [
       "<div id=\"f6573b09-9d1d-4f11-9ad2-250fa2d83bbf\" style=\"height: 525px; width: 100%;\" class=\"plotly-graph-div\"></div><script type=\"text/javascript\">require([\"plotly\"], function(Plotly) { window.PLOTLYENV=window.PLOTLYENV || {};window.PLOTLYENV.BASE_URL=\"https://plot.ly\";Plotly.newPlot(\"f6573b09-9d1d-4f11-9ad2-250fa2d83bbf\", [{\"marker\": {\"line\": {\"width\": 2}, \"size\": [8, 5, 5], \"sizemode\": \"area\", \"sizeref\": 0.10526315789473684, \"symbol\": \"circle\"}, \"mode\": \"markers\", \"name\": \"Student_1\", \"text\": [\"8\", \"5\", \"5\"], \"x\": [\"Student_1\", \"Student_1\", \"Student_1\", \"Student_1\"], \"y\": [\"Hits\", \"Readings\", \"Posts\"], \"type\": \"scatter\", \"uid\": \"4d180042-e29a-11e8-9490-d5f4ba98b039\"}, {\"marker\": {\"line\": {\"width\": 2}, \"size\": [3, 8, 7], \"sizemode\": \"area\", \"sizeref\": 0.10526315789473684, \"symbol\": \"circle\"}, \"mode\": \"markers\", \"name\": \"Student_2\", \"text\": [\"3\", \"8\", \"7\"], \"x\": [\"Student_2\", \"Student_2\", \"Student_2\", \"Student_2\"], \"y\": [\"Hits\", \"Readings\", \"Posts\"], \"type\": \"scatter\", \"uid\": \"4d1801f0-e29a-11e8-9490-d5f4ba98b039\"}, {\"marker\": {\"line\": {\"width\": 2}, \"size\": [1, 6, 4], \"sizemode\": \"area\", \"sizeref\": 0.10526315789473684, \"symbol\": \"circle\"}, \"mode\": \"markers\", \"name\": \"Student_3\", \"text\": [\"1\", \"6\", \"4\"], \"x\": [\"Student_3\", \"Student_3\", \"Student_3\", \"Student_3\"], \"y\": [\"Hits\", \"Readings\", \"Posts\"], \"type\": \"scatter\", \"uid\": \"4d1802b8-e29a-11e8-9490-d5f4ba98b039\"}, {\"marker\": {\"line\": {\"width\": 2}, \"size\": [14, 4, 1], \"sizemode\": \"area\", \"sizeref\": 0.10526315789473684, \"symbol\": \"circle\"}, \"mode\": \"markers\", \"name\": \"Student_4\", \"text\": [\"14\", \"4\", \"1\"], \"x\": [\"Student_4\", \"Student_4\", \"Student_4\", \"Student_4\"], \"y\": [\"Hits\", \"Readings\", \"Posts\"], \"type\": \"scatter\", \"uid\": \"4d180362-e29a-11e8-9490-d5f4ba98b039\"}, {\"marker\": {\"line\": {\"width\": 2}, \"size\": [17, 0, 12], \"sizemode\": \"area\", \"sizeref\": 0.10526315789473684, \"symbol\": \"circle\"}, \"mode\": \"markers\", \"name\": \"Student_5\", \"text\": [\"17\", \"0\", \"12\"], \"x\": [\"Student_5\", \"Student_5\", \"Student_5\", \"Student_5\"], \"y\": [\"Hits\", \"Readings\", \"Posts\"], \"type\": \"scatter\", \"uid\": \"4d1803f8-e29a-11e8-9490-d5f4ba98b039\"}, {\"marker\": {\"line\": {\"width\": 2}, \"size\": [8, 1, 17], \"sizemode\": \"area\", \"sizeref\": 0.10526315789473684, \"symbol\": \"circle\"}, \"mode\": \"markers\", \"name\": \"Student_6\", \"text\": [\"8\", \"1\", \"17\"], \"x\": [\"Student_6\", \"Student_6\", \"Student_6\", \"Student_6\"], \"y\": [\"Hits\", \"Readings\", \"Posts\"], \"type\": \"scatter\", \"uid\": \"4d180484-e29a-11e8-9490-d5f4ba98b039\"}, {\"marker\": {\"line\": {\"width\": 2}, \"size\": [9, 10, 18], \"sizemode\": \"area\", \"sizeref\": 0.10526315789473684, \"symbol\": \"circle\"}, \"mode\": \"markers\", \"name\": \"Student_7\", \"text\": [\"9\", \"10\", \"18\"], \"x\": [\"Student_7\", \"Student_7\", \"Student_7\", \"Student_7\"], \"y\": [\"Hits\", \"Readings\", \"Posts\"], \"type\": \"scatter\", \"uid\": \"4d180510-e29a-11e8-9490-d5f4ba98b039\"}, {\"marker\": {\"line\": {\"width\": 2}, \"size\": [12, 15, 10], \"sizemode\": \"area\", \"sizeref\": 0.10526315789473684, \"symbol\": \"circle\"}, \"mode\": \"markers\", \"name\": \"Student_8\", \"text\": [\"12\", \"15\", \"10\"], \"x\": [\"Student_8\", \"Student_8\", \"Student_8\", \"Student_8\"], \"y\": [\"Hits\", \"Readings\", \"Posts\"], \"type\": \"scatter\", \"uid\": \"4d180592-e29a-11e8-9490-d5f4ba98b039\"}, {\"marker\": {\"line\": {\"width\": 2}, \"size\": [0, 5, 9], \"sizemode\": \"area\", \"sizeref\": 0.10526315789473684, \"symbol\": \"circle\"}, \"mode\": \"markers\", \"name\": \"Student_9\", \"text\": [\"0\", \"5\", \"9\"], \"x\": [\"Student_9\", \"Student_9\", \"Student_9\", \"Student_9\"], \"y\": [\"Hits\", \"Readings\", \"Posts\"], \"type\": \"scatter\", \"uid\": \"4d18061e-e29a-11e8-9490-d5f4ba98b039\"}, {\"marker\": {\"line\": {\"width\": 2}, \"size\": [16, 19, 17], \"sizemode\": \"area\", \"sizeref\": 0.10526315789473684, \"symbol\": \"circle\"}, \"mode\": \"markers\", \"name\": \"Student_10\", \"text\": [\"16\", \"19\", \"17\"], \"x\": [\"Student_10\", \"Student_10\", \"Student_10\", \"Student_10\"], \"y\": [\"Hits\", \"Readings\", \"Posts\"], \"type\": \"scatter\", \"uid\": \"4d1806a0-e29a-11e8-9490-d5f4ba98b039\"}, {\"marker\": {\"line\": {\"width\": 2}, \"size\": [3, 4, 4], \"sizemode\": \"area\", \"sizeref\": 0.10526315789473684, \"symbol\": \"circle\"}, \"mode\": \"markers\", \"name\": \"Student_11\", \"text\": [\"3\", \"4\", \"4\"], \"x\": [\"Student_11\", \"Student_11\", \"Student_11\", \"Student_11\"], \"y\": [\"Hits\", \"Readings\", \"Posts\"], \"type\": \"scatter\", \"uid\": \"4d18072c-e29a-11e8-9490-d5f4ba98b039\"}, {\"marker\": {\"line\": {\"width\": 2}, \"size\": [11, 15, 2], \"sizemode\": \"area\", \"sizeref\": 0.10526315789473684, \"symbol\": \"circle\"}, \"mode\": \"markers\", \"name\": \"Student_12\", \"text\": [\"11\", \"15\", \"2\"], \"x\": [\"Student_12\", \"Student_12\", \"Student_12\", \"Student_12\"], \"y\": [\"Hits\", \"Readings\", \"Posts\"], \"type\": \"scatter\", \"uid\": \"4d1807ae-e29a-11e8-9490-d5f4ba98b039\"}, {\"marker\": {\"line\": {\"width\": 2}, \"size\": [4, 5, 9], \"sizemode\": \"area\", \"sizeref\": 0.10526315789473684, \"symbol\": \"circle\"}, \"mode\": \"markers\", \"name\": \"Student_13\", \"text\": [\"4\", \"5\", \"9\"], \"x\": [\"Student_13\", \"Student_13\", \"Student_13\", \"Student_13\"], \"y\": [\"Hits\", \"Readings\", \"Posts\"], \"type\": \"scatter\", \"uid\": \"4d18083a-e29a-11e8-9490-d5f4ba98b039\"}, {\"marker\": {\"line\": {\"width\": 2}, \"size\": [6, 19, 17], \"sizemode\": \"area\", \"sizeref\": 0.10526315789473684, \"symbol\": \"circle\"}, \"mode\": \"markers\", \"name\": \"Student_14\", \"text\": [\"6\", \"19\", \"17\"], \"x\": [\"Student_14\", \"Student_14\", \"Student_14\", \"Student_14\"], \"y\": [\"Hits\", \"Readings\", \"Posts\"], \"type\": \"scatter\", \"uid\": \"4d1808c6-e29a-11e8-9490-d5f4ba98b039\"}, {\"marker\": {\"line\": {\"width\": 2}, \"size\": [6, 17, 1], \"sizemode\": \"area\", \"sizeref\": 0.10526315789473684, \"symbol\": \"circle\"}, \"mode\": \"markers\", \"name\": \"Student_15\", \"text\": [\"6\", \"17\", \"1\"], \"x\": [\"Student_15\", \"Student_15\", \"Student_15\", \"Student_15\"], \"y\": [\"Hits\", \"Readings\", \"Posts\"], \"type\": \"scatter\", \"uid\": \"4d180948-e29a-11e8-9490-d5f4ba98b039\"}, {\"marker\": {\"line\": {\"width\": 2}, \"size\": [7, 1, 5], \"sizemode\": \"area\", \"sizeref\": 0.10526315789473684, \"symbol\": \"circle\"}, \"mode\": \"markers\", \"name\": \"Student_16\", \"text\": [\"7\", \"1\", \"5\"], \"x\": [\"Student_16\", \"Student_16\", \"Student_16\", \"Student_16\"], \"y\": [\"Hits\", \"Readings\", \"Posts\"], \"type\": \"scatter\", \"uid\": \"4d1809ca-e29a-11e8-9490-d5f4ba98b039\"}, {\"marker\": {\"line\": {\"width\": 2}, \"size\": [3, 5, 16], \"sizemode\": \"area\", \"sizeref\": 0.10526315789473684, \"symbol\": \"circle\"}, \"mode\": \"markers\", \"name\": \"Student_17\", \"text\": [\"3\", \"5\", \"16\"], \"x\": [\"Student_17\", \"Student_17\", \"Student_17\", \"Student_17\"], \"y\": [\"Hits\", \"Readings\", \"Posts\"], \"type\": \"scatter\", \"uid\": \"4d180a4c-e29a-11e8-9490-d5f4ba98b039\"}, {\"marker\": {\"line\": {\"width\": 2}, \"size\": [7, 19, 0], \"sizemode\": \"area\", \"sizeref\": 0.10526315789473684, \"symbol\": \"circle\"}, \"mode\": \"markers\", \"name\": \"Student_18\", \"text\": [\"7\", \"19\", \"0\"], \"x\": [\"Student_18\", \"Student_18\", \"Student_18\", \"Student_18\"], \"y\": [\"Hits\", \"Readings\", \"Posts\"], \"type\": \"scatter\", \"uid\": \"4d180ace-e29a-11e8-9490-d5f4ba98b039\"}, {\"marker\": {\"line\": {\"width\": 2}, \"size\": [16, 1, 5], \"sizemode\": \"area\", \"sizeref\": 0.10526315789473684, \"symbol\": \"circle\"}, \"mode\": \"markers\", \"name\": \"Student_19\", \"text\": [\"16\", \"1\", \"5\"], \"x\": [\"Student_19\", \"Student_19\", \"Student_19\", \"Student_19\"], \"y\": [\"Hits\", \"Readings\", \"Posts\"], \"type\": \"scatter\", \"uid\": \"4d180b46-e29a-11e8-9490-d5f4ba98b039\"}, {\"marker\": {\"line\": {\"width\": 2}, \"size\": [11, 4, 18], \"sizemode\": \"area\", \"sizeref\": 0.10526315789473684, \"symbol\": \"circle\"}, \"mode\": \"markers\", \"name\": \"Student_20\", \"text\": [\"11\", \"4\", \"18\"], \"x\": [\"Student_20\", \"Student_20\", \"Student_20\", \"Student_20\"], \"y\": [\"Hits\", \"Readings\", \"Posts\"], \"type\": \"scatter\", \"uid\": \"4d180bbe-e29a-11e8-9490-d5f4ba98b039\"}], {\"hovermode\": \"closest\", \"showlegend\": true, \"title\": \"N\\u00famero de acessos a Posts, Leituras e Likes por estudante\", \"xaxis\": {\"autorange\": false, \"fixedrange\": false, \"range\": [-1, 20], \"rangemode\": \"normal\", \"showline\": true, \"title\": \"Estudantes\", \"type\": \"category\"}, \"yaxis\": {\"autorange\": false, \"categoryorder\": \"category ascending\", \"fixedrange\": false, \"range\": [-1, 3], \"rangemode\": \"normal\", \"showline\": true, \"type\": \"category\"}}, {\"showLink\": true, \"linkText\": \"Export to plot.ly\"})});</script>"
      ],
      "text/vnd.plotly.v1+html": [
       "<div id=\"f6573b09-9d1d-4f11-9ad2-250fa2d83bbf\" style=\"height: 525px; width: 100%;\" class=\"plotly-graph-div\"></div><script type=\"text/javascript\">require([\"plotly\"], function(Plotly) { window.PLOTLYENV=window.PLOTLYENV || {};window.PLOTLYENV.BASE_URL=\"https://plot.ly\";Plotly.newPlot(\"f6573b09-9d1d-4f11-9ad2-250fa2d83bbf\", [{\"marker\": {\"line\": {\"width\": 2}, \"size\": [8, 5, 5], \"sizemode\": \"area\", \"sizeref\": 0.10526315789473684, \"symbol\": \"circle\"}, \"mode\": \"markers\", \"name\": \"Student_1\", \"text\": [\"8\", \"5\", \"5\"], \"x\": [\"Student_1\", \"Student_1\", \"Student_1\", \"Student_1\"], \"y\": [\"Hits\", \"Readings\", \"Posts\"], \"type\": \"scatter\", \"uid\": \"4d180042-e29a-11e8-9490-d5f4ba98b039\"}, {\"marker\": {\"line\": {\"width\": 2}, \"size\": [3, 8, 7], \"sizemode\": \"area\", \"sizeref\": 0.10526315789473684, \"symbol\": \"circle\"}, \"mode\": \"markers\", \"name\": \"Student_2\", \"text\": [\"3\", \"8\", \"7\"], \"x\": [\"Student_2\", \"Student_2\", \"Student_2\", \"Student_2\"], \"y\": [\"Hits\", \"Readings\", \"Posts\"], \"type\": \"scatter\", \"uid\": \"4d1801f0-e29a-11e8-9490-d5f4ba98b039\"}, {\"marker\": {\"line\": {\"width\": 2}, \"size\": [1, 6, 4], \"sizemode\": \"area\", \"sizeref\": 0.10526315789473684, \"symbol\": \"circle\"}, \"mode\": \"markers\", \"name\": \"Student_3\", \"text\": [\"1\", \"6\", \"4\"], \"x\": [\"Student_3\", \"Student_3\", \"Student_3\", \"Student_3\"], \"y\": [\"Hits\", \"Readings\", \"Posts\"], \"type\": \"scatter\", \"uid\": \"4d1802b8-e29a-11e8-9490-d5f4ba98b039\"}, {\"marker\": {\"line\": {\"width\": 2}, \"size\": [14, 4, 1], \"sizemode\": \"area\", \"sizeref\": 0.10526315789473684, \"symbol\": \"circle\"}, \"mode\": \"markers\", \"name\": \"Student_4\", \"text\": [\"14\", \"4\", \"1\"], \"x\": [\"Student_4\", \"Student_4\", \"Student_4\", \"Student_4\"], \"y\": [\"Hits\", \"Readings\", \"Posts\"], \"type\": \"scatter\", \"uid\": \"4d180362-e29a-11e8-9490-d5f4ba98b039\"}, {\"marker\": {\"line\": {\"width\": 2}, \"size\": [17, 0, 12], \"sizemode\": \"area\", \"sizeref\": 0.10526315789473684, \"symbol\": \"circle\"}, \"mode\": \"markers\", \"name\": \"Student_5\", \"text\": [\"17\", \"0\", \"12\"], \"x\": [\"Student_5\", \"Student_5\", \"Student_5\", \"Student_5\"], \"y\": [\"Hits\", \"Readings\", \"Posts\"], \"type\": \"scatter\", \"uid\": \"4d1803f8-e29a-11e8-9490-d5f4ba98b039\"}, {\"marker\": {\"line\": {\"width\": 2}, \"size\": [8, 1, 17], \"sizemode\": \"area\", \"sizeref\": 0.10526315789473684, \"symbol\": \"circle\"}, \"mode\": \"markers\", \"name\": \"Student_6\", \"text\": [\"8\", \"1\", \"17\"], \"x\": [\"Student_6\", \"Student_6\", \"Student_6\", \"Student_6\"], \"y\": [\"Hits\", \"Readings\", \"Posts\"], \"type\": \"scatter\", \"uid\": \"4d180484-e29a-11e8-9490-d5f4ba98b039\"}, {\"marker\": {\"line\": {\"width\": 2}, \"size\": [9, 10, 18], \"sizemode\": \"area\", \"sizeref\": 0.10526315789473684, \"symbol\": \"circle\"}, \"mode\": \"markers\", \"name\": \"Student_7\", \"text\": [\"9\", \"10\", \"18\"], \"x\": [\"Student_7\", \"Student_7\", \"Student_7\", \"Student_7\"], \"y\": [\"Hits\", \"Readings\", \"Posts\"], \"type\": \"scatter\", \"uid\": \"4d180510-e29a-11e8-9490-d5f4ba98b039\"}, {\"marker\": {\"line\": {\"width\": 2}, \"size\": [12, 15, 10], \"sizemode\": \"area\", \"sizeref\": 0.10526315789473684, \"symbol\": \"circle\"}, \"mode\": \"markers\", \"name\": \"Student_8\", \"text\": [\"12\", \"15\", \"10\"], \"x\": [\"Student_8\", \"Student_8\", \"Student_8\", \"Student_8\"], \"y\": [\"Hits\", \"Readings\", \"Posts\"], \"type\": \"scatter\", \"uid\": \"4d180592-e29a-11e8-9490-d5f4ba98b039\"}, {\"marker\": {\"line\": {\"width\": 2}, \"size\": [0, 5, 9], \"sizemode\": \"area\", \"sizeref\": 0.10526315789473684, \"symbol\": \"circle\"}, \"mode\": \"markers\", \"name\": \"Student_9\", \"text\": [\"0\", \"5\", \"9\"], \"x\": [\"Student_9\", \"Student_9\", \"Student_9\", \"Student_9\"], \"y\": [\"Hits\", \"Readings\", \"Posts\"], \"type\": \"scatter\", \"uid\": \"4d18061e-e29a-11e8-9490-d5f4ba98b039\"}, {\"marker\": {\"line\": {\"width\": 2}, \"size\": [16, 19, 17], \"sizemode\": \"area\", \"sizeref\": 0.10526315789473684, \"symbol\": \"circle\"}, \"mode\": \"markers\", \"name\": \"Student_10\", \"text\": [\"16\", \"19\", \"17\"], \"x\": [\"Student_10\", \"Student_10\", \"Student_10\", \"Student_10\"], \"y\": [\"Hits\", \"Readings\", \"Posts\"], \"type\": \"scatter\", \"uid\": \"4d1806a0-e29a-11e8-9490-d5f4ba98b039\"}, {\"marker\": {\"line\": {\"width\": 2}, \"size\": [3, 4, 4], \"sizemode\": \"area\", \"sizeref\": 0.10526315789473684, \"symbol\": \"circle\"}, \"mode\": \"markers\", \"name\": \"Student_11\", \"text\": [\"3\", \"4\", \"4\"], \"x\": [\"Student_11\", \"Student_11\", \"Student_11\", \"Student_11\"], \"y\": [\"Hits\", \"Readings\", \"Posts\"], \"type\": \"scatter\", \"uid\": \"4d18072c-e29a-11e8-9490-d5f4ba98b039\"}, {\"marker\": {\"line\": {\"width\": 2}, \"size\": [11, 15, 2], \"sizemode\": \"area\", \"sizeref\": 0.10526315789473684, \"symbol\": \"circle\"}, \"mode\": \"markers\", \"name\": \"Student_12\", \"text\": [\"11\", \"15\", \"2\"], \"x\": [\"Student_12\", \"Student_12\", \"Student_12\", \"Student_12\"], \"y\": [\"Hits\", \"Readings\", \"Posts\"], \"type\": \"scatter\", \"uid\": \"4d1807ae-e29a-11e8-9490-d5f4ba98b039\"}, {\"marker\": {\"line\": {\"width\": 2}, \"size\": [4, 5, 9], \"sizemode\": \"area\", \"sizeref\": 0.10526315789473684, \"symbol\": \"circle\"}, \"mode\": \"markers\", \"name\": \"Student_13\", \"text\": [\"4\", \"5\", \"9\"], \"x\": [\"Student_13\", \"Student_13\", \"Student_13\", \"Student_13\"], \"y\": [\"Hits\", \"Readings\", \"Posts\"], \"type\": \"scatter\", \"uid\": \"4d18083a-e29a-11e8-9490-d5f4ba98b039\"}, {\"marker\": {\"line\": {\"width\": 2}, \"size\": [6, 19, 17], \"sizemode\": \"area\", \"sizeref\": 0.10526315789473684, \"symbol\": \"circle\"}, \"mode\": \"markers\", \"name\": \"Student_14\", \"text\": [\"6\", \"19\", \"17\"], \"x\": [\"Student_14\", \"Student_14\", \"Student_14\", \"Student_14\"], \"y\": [\"Hits\", \"Readings\", \"Posts\"], \"type\": \"scatter\", \"uid\": \"4d1808c6-e29a-11e8-9490-d5f4ba98b039\"}, {\"marker\": {\"line\": {\"width\": 2}, \"size\": [6, 17, 1], \"sizemode\": \"area\", \"sizeref\": 0.10526315789473684, \"symbol\": \"circle\"}, \"mode\": \"markers\", \"name\": \"Student_15\", \"text\": [\"6\", \"17\", \"1\"], \"x\": [\"Student_15\", \"Student_15\", \"Student_15\", \"Student_15\"], \"y\": [\"Hits\", \"Readings\", \"Posts\"], \"type\": \"scatter\", \"uid\": \"4d180948-e29a-11e8-9490-d5f4ba98b039\"}, {\"marker\": {\"line\": {\"width\": 2}, \"size\": [7, 1, 5], \"sizemode\": \"area\", \"sizeref\": 0.10526315789473684, \"symbol\": \"circle\"}, \"mode\": \"markers\", \"name\": \"Student_16\", \"text\": [\"7\", \"1\", \"5\"], \"x\": [\"Student_16\", \"Student_16\", \"Student_16\", \"Student_16\"], \"y\": [\"Hits\", \"Readings\", \"Posts\"], \"type\": \"scatter\", \"uid\": \"4d1809ca-e29a-11e8-9490-d5f4ba98b039\"}, {\"marker\": {\"line\": {\"width\": 2}, \"size\": [3, 5, 16], \"sizemode\": \"area\", \"sizeref\": 0.10526315789473684, \"symbol\": \"circle\"}, \"mode\": \"markers\", \"name\": \"Student_17\", \"text\": [\"3\", \"5\", \"16\"], \"x\": [\"Student_17\", \"Student_17\", \"Student_17\", \"Student_17\"], \"y\": [\"Hits\", \"Readings\", \"Posts\"], \"type\": \"scatter\", \"uid\": \"4d180a4c-e29a-11e8-9490-d5f4ba98b039\"}, {\"marker\": {\"line\": {\"width\": 2}, \"size\": [7, 19, 0], \"sizemode\": \"area\", \"sizeref\": 0.10526315789473684, \"symbol\": \"circle\"}, \"mode\": \"markers\", \"name\": \"Student_18\", \"text\": [\"7\", \"19\", \"0\"], \"x\": [\"Student_18\", \"Student_18\", \"Student_18\", \"Student_18\"], \"y\": [\"Hits\", \"Readings\", \"Posts\"], \"type\": \"scatter\", \"uid\": \"4d180ace-e29a-11e8-9490-d5f4ba98b039\"}, {\"marker\": {\"line\": {\"width\": 2}, \"size\": [16, 1, 5], \"sizemode\": \"area\", \"sizeref\": 0.10526315789473684, \"symbol\": \"circle\"}, \"mode\": \"markers\", \"name\": \"Student_19\", \"text\": [\"16\", \"1\", \"5\"], \"x\": [\"Student_19\", \"Student_19\", \"Student_19\", \"Student_19\"], \"y\": [\"Hits\", \"Readings\", \"Posts\"], \"type\": \"scatter\", \"uid\": \"4d180b46-e29a-11e8-9490-d5f4ba98b039\"}, {\"marker\": {\"line\": {\"width\": 2}, \"size\": [11, 4, 18], \"sizemode\": \"area\", \"sizeref\": 0.10526315789473684, \"symbol\": \"circle\"}, \"mode\": \"markers\", \"name\": \"Student_20\", \"text\": [\"11\", \"4\", \"18\"], \"x\": [\"Student_20\", \"Student_20\", \"Student_20\", \"Student_20\"], \"y\": [\"Hits\", \"Readings\", \"Posts\"], \"type\": \"scatter\", \"uid\": \"4d180bbe-e29a-11e8-9490-d5f4ba98b039\"}], {\"hovermode\": \"closest\", \"showlegend\": true, \"title\": \"N\\u00famero de acessos a Posts, Leituras e Likes por estudante\", \"xaxis\": {\"autorange\": false, \"fixedrange\": false, \"range\": [-1, 20], \"rangemode\": \"normal\", \"showline\": true, \"title\": \"Estudantes\", \"type\": \"category\"}, \"yaxis\": {\"autorange\": false, \"categoryorder\": \"category ascending\", \"fixedrange\": false, \"range\": [-1, 3], \"rangemode\": \"normal\", \"showline\": true, \"type\": \"category\"}}, {\"showLink\": true, \"linkText\": \"Export to plot.ly\"})});</script>"
      ]
     },
     "metadata": {},
     "output_type": "display_data"
    },
    {
     "data": {
      "application/vnd.plotly.v1+json": {
       "data": [
        {
         "colorscale": [
          [
           0,
           "rgb(255,255,255)"
          ],
          [
           1,
           "rgb(0,0,255)"
          ]
         ],
         "type": "heatmap",
         "uid": "4d1c71e0-e29a-11e8-9490-d5f4ba98b039",
         "x": [
          "Hits",
          "Readings",
          "Posts"
         ],
         "y": [
          "Student_1",
          "Student_2",
          "Student_3",
          "Student_4",
          "Student_5",
          "Student_6",
          "Student_7",
          "Student_8",
          "Student_9",
          "Student_10",
          "Student_11",
          "Student_12",
          "Student_13",
          "Student_14",
          "Student_15",
          "Student_16",
          "Student_17",
          "Student_18",
          "Student_19",
          "Student_20"
         ],
         "z": [
          [
           8,
           5,
           5
          ],
          [
           3,
           8,
           7
          ],
          [
           1,
           6,
           4
          ],
          [
           14,
           4,
           1
          ],
          [
           17,
           0,
           12
          ],
          [
           8,
           1,
           17
          ],
          [
           9,
           10,
           18
          ],
          [
           12,
           15,
           10
          ],
          [
           0,
           5,
           9
          ],
          [
           16,
           19,
           17
          ],
          [
           3,
           4,
           4
          ],
          [
           11,
           15,
           2
          ],
          [
           4,
           5,
           9
          ],
          [
           6,
           19,
           17
          ],
          [
           6,
           17,
           1
          ],
          [
           7,
           1,
           5
          ],
          [
           3,
           5,
           16
          ],
          [
           7,
           19,
           0
          ],
          [
           16,
           1,
           5
          ],
          [
           11,
           4,
           18
          ]
         ]
        }
       ],
       "layout": {
        "title": "Número de acessos a Posts, Leituras e Likes por estudante",
        "yaxis": {
         "dtick": 1,
         "exponentformat": "e",
         "gridcolor": "#bdbdbd",
         "showexponent": "all",
         "showticklabels": true,
         "tick0": 0,
         "titlefont": {
          "color": "lightgrey",
          "family": "Arial, sans-serif"
         }
        }
       }
      },
      "text/html": [
       "<div id=\"eacf9352-49d4-48a3-b952-efcfa419cd5d\" style=\"height: 525px; width: 100%;\" class=\"plotly-graph-div\"></div><script type=\"text/javascript\">require([\"plotly\"], function(Plotly) { window.PLOTLYENV=window.PLOTLYENV || {};window.PLOTLYENV.BASE_URL=\"https://plot.ly\";Plotly.newPlot(\"eacf9352-49d4-48a3-b952-efcfa419cd5d\", [{\"colorscale\": [[0, \"rgb(255,255,255)\"], [1, \"rgb(0,0,255)\"]], \"x\": [\"Hits\", \"Readings\", \"Posts\"], \"y\": [\"Student_1\", \"Student_2\", \"Student_3\", \"Student_4\", \"Student_5\", \"Student_6\", \"Student_7\", \"Student_8\", \"Student_9\", \"Student_10\", \"Student_11\", \"Student_12\", \"Student_13\", \"Student_14\", \"Student_15\", \"Student_16\", \"Student_17\", \"Student_18\", \"Student_19\", \"Student_20\"], \"z\": [[8, 5, 5], [3, 8, 7], [1, 6, 4], [14, 4, 1], [17, 0, 12], [8, 1, 17], [9, 10, 18], [12, 15, 10], [0, 5, 9], [16, 19, 17], [3, 4, 4], [11, 15, 2], [4, 5, 9], [6, 19, 17], [6, 17, 1], [7, 1, 5], [3, 5, 16], [7, 19, 0], [16, 1, 5], [11, 4, 18]], \"type\": \"heatmap\", \"uid\": \"4d1c71e0-e29a-11e8-9490-d5f4ba98b039\"}], {\"title\": \"N\\u00famero de acessos a Posts, Leituras e Likes por estudante\", \"yaxis\": {\"dtick\": 1, \"exponentformat\": \"e\", \"gridcolor\": \"#bdbdbd\", \"showexponent\": \"all\", \"showticklabels\": true, \"tick0\": 0, \"titlefont\": {\"color\": \"lightgrey\", \"family\": \"Arial, sans-serif\"}}}, {\"showLink\": true, \"linkText\": \"Export to plot.ly\"})});</script>"
      ],
      "text/vnd.plotly.v1+html": [
       "<div id=\"eacf9352-49d4-48a3-b952-efcfa419cd5d\" style=\"height: 525px; width: 100%;\" class=\"plotly-graph-div\"></div><script type=\"text/javascript\">require([\"plotly\"], function(Plotly) { window.PLOTLYENV=window.PLOTLYENV || {};window.PLOTLYENV.BASE_URL=\"https://plot.ly\";Plotly.newPlot(\"eacf9352-49d4-48a3-b952-efcfa419cd5d\", [{\"colorscale\": [[0, \"rgb(255,255,255)\"], [1, \"rgb(0,0,255)\"]], \"x\": [\"Hits\", \"Readings\", \"Posts\"], \"y\": [\"Student_1\", \"Student_2\", \"Student_3\", \"Student_4\", \"Student_5\", \"Student_6\", \"Student_7\", \"Student_8\", \"Student_9\", \"Student_10\", \"Student_11\", \"Student_12\", \"Student_13\", \"Student_14\", \"Student_15\", \"Student_16\", \"Student_17\", \"Student_18\", \"Student_19\", \"Student_20\"], \"z\": [[8, 5, 5], [3, 8, 7], [1, 6, 4], [14, 4, 1], [17, 0, 12], [8, 1, 17], [9, 10, 18], [12, 15, 10], [0, 5, 9], [16, 19, 17], [3, 4, 4], [11, 15, 2], [4, 5, 9], [6, 19, 17], [6, 17, 1], [7, 1, 5], [3, 5, 16], [7, 19, 0], [16, 1, 5], [11, 4, 18]], \"type\": \"heatmap\", \"uid\": \"4d1c71e0-e29a-11e8-9490-d5f4ba98b039\"}], {\"title\": \"N\\u00famero de acessos a Posts, Leituras e Likes por estudante\", \"yaxis\": {\"dtick\": 1, \"exponentformat\": \"e\", \"gridcolor\": \"#bdbdbd\", \"showexponent\": \"all\", \"showticklabels\": true, \"tick0\": 0, \"titlefont\": {\"color\": \"lightgrey\", \"family\": \"Arial, sans-serif\"}}}, {\"showLink\": true, \"linkText\": \"Export to plot.ly\"})});</script>"
      ]
     },
     "metadata": {},
     "output_type": "display_data"
    }
   ],
   "source": [
    "run scripts/V003.py"
   ]
  },
  {
   "cell_type": "markdown",
   "metadata": {},
   "source": [
    "### View 004"
   ]
  },
  {
   "cell_type": "code",
   "execution_count": 105,
   "metadata": {
    "scrolled": true
   },
   "outputs": [
    {
     "data": {
      "text/html": [
       "<script>requirejs.config({paths: { 'plotly': ['https://cdn.plot.ly/plotly-latest.min']},});if(!window.Plotly) {{require(['plotly'],function(plotly) {window.Plotly=plotly;});}}</script>"
      ],
      "text/vnd.plotly.v1+html": [
       "<script>requirejs.config({paths: { 'plotly': ['https://cdn.plot.ly/plotly-latest.min']},});if(!window.Plotly) {{require(['plotly'],function(plotly) {window.Plotly=plotly;});}}</script>"
      ]
     },
     "metadata": {},
     "output_type": "display_data"
    },
    {
     "data": {
      "application/vnd.plotly.v1+json": {
       "data": [
        {
         "cells": {
          "align": [
           "left",
           "center"
          ],
          "fill": {
           "color": "#F5F8FF"
          },
          "values": [
           [
            "Student_1",
            "Student_2",
            "Student_3",
            "Student_4",
            "Student_5",
            "Student_6",
            "Student_7",
            "Student_8",
            "Student_9",
            "Student_10",
            "Student_11",
            "Student_12",
            "Student_13",
            "Student_14",
            "Student_15",
            "Student_16",
            "Student_17",
            "Student_18",
            "Student_19",
            "Student_20"
           ],
           [
            [
             219,
             48,
             139
            ],
            [
             185
            ],
            [
             42
            ],
            [
             18
            ],
            [],
            [
             198,
             86,
             113,
             108
            ],
            [],
            [
             11,
             42,
             91
            ],
            [
             167,
             92
            ],
            [
             47,
             200
            ],
            [
             245,
             113
            ],
            [],
            [],
            [
             25,
             140
            ],
            [
             164,
             190
            ],
            [
             28,
             42,
             25
            ],
            [],
            [
             163,
             80,
             48
            ],
            [
             128,
             56
            ],
            [
             52
            ]
           ],
           [
            [
             263,
             229
            ],
            [
             59,
             347
            ],
            [
             236,
             233
            ],
            [
             152
            ],
            [
             273,
             160,
             231,
             128
            ],
            [],
            [],
            [
             35,
             51
            ],
            [
             86,
             67,
             288,
             92
            ],
            [
             137,
             157,
             79,
             292
            ],
            [
             241,
             311
            ],
            [
             96,
             245,
             17,
             305
            ],
            [
             259,
             5,
             65
            ],
            [],
            [
             196,
             170,
             187
            ],
            [
             275,
             257,
             247
            ],
            [
             260
            ],
            [
             244,
             137,
             338
            ],
            [],
            [
             218,
             199,
             290
            ]
           ],
           [
            [
             232,
             171,
             407
            ],
            [
             86,
             284
            ],
            [
             242
            ],
            [
             346,
             459
            ],
            [
             588,
             365
            ],
            [],
            [
             277,
             550,
             71
            ],
            [
             333,
             115,
             223
            ],
            [
             206,
             202
            ],
            [],
            [
             521,
             298,
             543,
             460
            ],
            [
             258,
             283
            ],
            [
             238,
             403
            ],
            [
             372,
             473,
             226
            ],
            [
             38,
             154,
             199
            ],
            [
             342
            ],
            [
             51,
             384,
             333,
             559
            ],
            [
             242,
             583
            ],
            [],
            [
             520
            ]
           ],
           [
            [
             158,
             287,
             248,
             29
            ],
            [],
            [
             8,
             311
            ],
            [],
            [
             196,
             170,
             247,
             135
            ],
            [
             276,
             89,
             240
            ],
            [],
            [
             22,
             90
            ],
            [
             259,
             54
            ],
            [
             33,
             207
            ],
            [],
            [],
            [
             102,
             288
            ],
            [
             102
            ],
            [
             63
            ],
            [
             232,
             164,
             95,
             35
            ],
            [
             311
            ],
            [
             241,
             74,
             128
            ],
            [
             22,
             11
            ],
            []
           ],
           [
            [
             203
            ],
            [
             312
            ],
            [],
            [],
            [],
            [
             310,
             75,
             54
            ],
            [
             163,
             263
            ],
            [
             151,
             153
            ],
            [
             22,
             172
            ],
            [
             333,
             42
            ],
            [],
            [
             368
            ],
            [
             43,
             257
            ],
            [
             108,
             271,
             97,
             49
            ],
            [
             362,
             176,
             298
            ],
            [
             282,
             285
            ],
            [
             356,
             337,
             68
            ],
            [
             77
            ],
            [
             52
            ],
            [
             148
            ]
           ],
           [
            2633,
            1273,
            1072,
            975,
            2493,
            1549,
            1324,
            1317,
            1707,
            1527,
            2732,
            1572,
            1660,
            1863,
            2197,
            2309,
            2659,
            2355,
            269,
            1427
           ]
          ]
         },
         "header": {
          "align": "center",
          "fill": {
           "color": "#C2D4FF"
          },
          "values": [
           "Students",
           "Video1 (457s)",
           "Video2 (255s)",
           "Video3 (349s)",
           "Video4 (596s)",
           "Video5 (312s)",
           "Total"
          ]
         },
         "type": "table",
         "uid": "9a140dd0-e364-11e8-9d8c-a1b30045967f"
        }
       ],
       "layout": {}
      },
      "text/html": [
       "<div id=\"01e60890-886b-4ebd-81d3-7f5e7812f1b5\" style=\"height: 525px; width: 100%;\" class=\"plotly-graph-div\"></div><script type=\"text/javascript\">require([\"plotly\"], function(Plotly) { window.PLOTLYENV=window.PLOTLYENV || {};window.PLOTLYENV.BASE_URL=\"https://plot.ly\";Plotly.newPlot(\"01e60890-886b-4ebd-81d3-7f5e7812f1b5\", [{\"cells\": {\"align\": [\"left\", \"center\"], \"fill\": {\"color\": \"#F5F8FF\"}, \"values\": [[\"Student_1\", \"Student_2\", \"Student_3\", \"Student_4\", \"Student_5\", \"Student_6\", \"Student_7\", \"Student_8\", \"Student_9\", \"Student_10\", \"Student_11\", \"Student_12\", \"Student_13\", \"Student_14\", \"Student_15\", \"Student_16\", \"Student_17\", \"Student_18\", \"Student_19\", \"Student_20\"], [[219, 48, 139], [185], [42], [18], [], [198, 86, 113, 108], [], [11, 42, 91], [167, 92], [47, 200], [245, 113], [], [], [25, 140], [164, 190], [28, 42, 25], [], [163, 80, 48], [128, 56], [52]], [[263, 229], [59, 347], [236, 233], [152], [273, 160, 231, 128], [], [], [35, 51], [86, 67, 288, 92], [137, 157, 79, 292], [241, 311], [96, 245, 17, 305], [259, 5, 65], [], [196, 170, 187], [275, 257, 247], [260], [244, 137, 338], [], [218, 199, 290]], [[232, 171, 407], [86, 284], [242], [346, 459], [588, 365], [], [277, 550, 71], [333, 115, 223], [206, 202], [], [521, 298, 543, 460], [258, 283], [238, 403], [372, 473, 226], [38, 154, 199], [342], [51, 384, 333, 559], [242, 583], [], [520]], [[158, 287, 248, 29], [], [8, 311], [], [196, 170, 247, 135], [276, 89, 240], [], [22, 90], [259, 54], [33, 207], [], [], [102, 288], [102], [63], [232, 164, 95, 35], [311], [241, 74, 128], [22, 11], []], [[203], [312], [], [], [], [310, 75, 54], [163, 263], [151, 153], [22, 172], [333, 42], [], [368], [43, 257], [108, 271, 97, 49], [362, 176, 298], [282, 285], [356, 337, 68], [77], [52], [148]], [2633, 1273, 1072, 975, 2493, 1549, 1324, 1317, 1707, 1527, 2732, 1572, 1660, 1863, 2197, 2309, 2659, 2355, 269, 1427]]}, \"header\": {\"align\": \"center\", \"fill\": {\"color\": \"#C2D4FF\"}, \"values\": [\"Students\", \"Video1 (457s)\", \"Video2 (255s)\", \"Video3 (349s)\", \"Video4 (596s)\", \"Video5 (312s)\", \"Total\"]}, \"type\": \"table\", \"uid\": \"9a1635d8-e364-11e8-9d8c-a1b30045967f\"}], {}, {\"showLink\": true, \"linkText\": \"Export to plot.ly\"})});</script>"
      ],
      "text/vnd.plotly.v1+html": [
       "<div id=\"01e60890-886b-4ebd-81d3-7f5e7812f1b5\" style=\"height: 525px; width: 100%;\" class=\"plotly-graph-div\"></div><script type=\"text/javascript\">require([\"plotly\"], function(Plotly) { window.PLOTLYENV=window.PLOTLYENV || {};window.PLOTLYENV.BASE_URL=\"https://plot.ly\";Plotly.newPlot(\"01e60890-886b-4ebd-81d3-7f5e7812f1b5\", [{\"cells\": {\"align\": [\"left\", \"center\"], \"fill\": {\"color\": \"#F5F8FF\"}, \"values\": [[\"Student_1\", \"Student_2\", \"Student_3\", \"Student_4\", \"Student_5\", \"Student_6\", \"Student_7\", \"Student_8\", \"Student_9\", \"Student_10\", \"Student_11\", \"Student_12\", \"Student_13\", \"Student_14\", \"Student_15\", \"Student_16\", \"Student_17\", \"Student_18\", \"Student_19\", \"Student_20\"], [[219, 48, 139], [185], [42], [18], [], [198, 86, 113, 108], [], [11, 42, 91], [167, 92], [47, 200], [245, 113], [], [], [25, 140], [164, 190], [28, 42, 25], [], [163, 80, 48], [128, 56], [52]], [[263, 229], [59, 347], [236, 233], [152], [273, 160, 231, 128], [], [], [35, 51], [86, 67, 288, 92], [137, 157, 79, 292], [241, 311], [96, 245, 17, 305], [259, 5, 65], [], [196, 170, 187], [275, 257, 247], [260], [244, 137, 338], [], [218, 199, 290]], [[232, 171, 407], [86, 284], [242], [346, 459], [588, 365], [], [277, 550, 71], [333, 115, 223], [206, 202], [], [521, 298, 543, 460], [258, 283], [238, 403], [372, 473, 226], [38, 154, 199], [342], [51, 384, 333, 559], [242, 583], [], [520]], [[158, 287, 248, 29], [], [8, 311], [], [196, 170, 247, 135], [276, 89, 240], [], [22, 90], [259, 54], [33, 207], [], [], [102, 288], [102], [63], [232, 164, 95, 35], [311], [241, 74, 128], [22, 11], []], [[203], [312], [], [], [], [310, 75, 54], [163, 263], [151, 153], [22, 172], [333, 42], [], [368], [43, 257], [108, 271, 97, 49], [362, 176, 298], [282, 285], [356, 337, 68], [77], [52], [148]], [2633, 1273, 1072, 975, 2493, 1549, 1324, 1317, 1707, 1527, 2732, 1572, 1660, 1863, 2197, 2309, 2659, 2355, 269, 1427]]}, \"header\": {\"align\": \"center\", \"fill\": {\"color\": \"#C2D4FF\"}, \"values\": [\"Students\", \"Video1 (457s)\", \"Video2 (255s)\", \"Video3 (349s)\", \"Video4 (596s)\", \"Video5 (312s)\", \"Total\"]}, \"type\": \"table\", \"uid\": \"9a1635d8-e364-11e8-9d8c-a1b30045967f\"}], {}, {\"showLink\": true, \"linkText\": \"Export to plot.ly\"})});</script>"
      ]
     },
     "metadata": {},
     "output_type": "display_data"
    },
    {
     "data": {
      "application/vnd.plotly.v1+json": {
       "data": [
        {
         "marker": {
          "line": {
           "width": 2
          },
          "size": [
           406,
           492,
           810,
           722,
           203,
           2633
          ],
          "sizemode": "area",
          "sizeref": 4.5,
          "symbol": "circle"
         },
         "mode": "markers",
         "name": "Student_1",
         "text": [
          "406",
          "492",
          "810",
          "722",
          "203",
          "2633"
         ],
         "type": "scatter",
         "uid": "9a3866d0-e364-11e8-9d8c-a1b30045967f",
         "x": [
          "Student_1",
          "Student_1",
          "Student_1",
          "Student_1",
          "Student_1",
          "Student_1"
         ],
         "y": [
          "Video1",
          "Video2",
          "Video3",
          "Video4",
          "Video5",
          "Total"
         ]
        },
        {
         "marker": {
          "line": {
           "width": 2
          },
          "size": [
           185,
           406,
           370,
           0,
           312,
           1273
          ],
          "sizemode": "area",
          "sizeref": 4.5,
          "symbol": "circle"
         },
         "mode": "markers",
         "name": "Student_2",
         "text": [
          "185",
          "406",
          "370",
          "0",
          "312",
          "1273"
         ],
         "type": "scatter",
         "uid": "9a38687e-e364-11e8-9d8c-a1b30045967f",
         "x": [
          "Student_2",
          "Student_2",
          "Student_2",
          "Student_2",
          "Student_2",
          "Student_2"
         ],
         "y": [
          "Video1",
          "Video2",
          "Video3",
          "Video4",
          "Video5",
          "Total"
         ]
        },
        {
         "marker": {
          "line": {
           "width": 2
          },
          "size": [
           42,
           469,
           242,
           319,
           0,
           1072
          ],
          "sizemode": "area",
          "sizeref": 4.5,
          "symbol": "circle"
         },
         "mode": "markers",
         "name": "Student_3",
         "text": [
          "42",
          "469",
          "242",
          "319",
          "0",
          "1072"
         ],
         "type": "scatter",
         "uid": "9a386946-e364-11e8-9d8c-a1b30045967f",
         "x": [
          "Student_3",
          "Student_3",
          "Student_3",
          "Student_3",
          "Student_3",
          "Student_3"
         ],
         "y": [
          "Video1",
          "Video2",
          "Video3",
          "Video4",
          "Video5",
          "Total"
         ]
        },
        {
         "marker": {
          "line": {
           "width": 2
          },
          "size": [
           18,
           152,
           805,
           0,
           0,
           975
          ],
          "sizemode": "area",
          "sizeref": 4.5,
          "symbol": "circle"
         },
         "mode": "markers",
         "name": "Student_4",
         "text": [
          "18",
          "152",
          "805",
          "0",
          "0",
          "975"
         ],
         "type": "scatter",
         "uid": "9a3869e6-e364-11e8-9d8c-a1b30045967f",
         "x": [
          "Student_4",
          "Student_4",
          "Student_4",
          "Student_4",
          "Student_4",
          "Student_4"
         ],
         "y": [
          "Video1",
          "Video2",
          "Video3",
          "Video4",
          "Video5",
          "Total"
         ]
        },
        {
         "marker": {
          "line": {
           "width": 2
          },
          "size": [
           0,
           792,
           953,
           748,
           0,
           2493
          ],
          "sizemode": "area",
          "sizeref": 4.5,
          "symbol": "circle"
         },
         "mode": "markers",
         "name": "Student_5",
         "text": [
          "0",
          "792",
          "953",
          "748",
          "0",
          "2493"
         ],
         "type": "scatter",
         "uid": "9a386a7c-e364-11e8-9d8c-a1b30045967f",
         "x": [
          "Student_5",
          "Student_5",
          "Student_5",
          "Student_5",
          "Student_5",
          "Student_5"
         ],
         "y": [
          "Video1",
          "Video2",
          "Video3",
          "Video4",
          "Video5",
          "Total"
         ]
        },
        {
         "marker": {
          "line": {
           "width": 2
          },
          "size": [
           505,
           0,
           0,
           605,
           439,
           1549
          ],
          "sizemode": "area",
          "sizeref": 4.5,
          "symbol": "circle"
         },
         "mode": "markers",
         "name": "Student_6",
         "text": [
          "505",
          "0",
          "0",
          "605",
          "439",
          "1549"
         ],
         "type": "scatter",
         "uid": "9a386b08-e364-11e8-9d8c-a1b30045967f",
         "x": [
          "Student_6",
          "Student_6",
          "Student_6",
          "Student_6",
          "Student_6",
          "Student_6"
         ],
         "y": [
          "Video1",
          "Video2",
          "Video3",
          "Video4",
          "Video5",
          "Total"
         ]
        },
        {
         "marker": {
          "line": {
           "width": 2
          },
          "size": [
           0,
           0,
           898,
           0,
           426,
           1324
          ],
          "sizemode": "area",
          "sizeref": 4.5,
          "symbol": "circle"
         },
         "mode": "markers",
         "name": "Student_7",
         "text": [
          "0",
          "0",
          "898",
          "0",
          "426",
          "1324"
         ],
         "type": "scatter",
         "uid": "9a386b9e-e364-11e8-9d8c-a1b30045967f",
         "x": [
          "Student_7",
          "Student_7",
          "Student_7",
          "Student_7",
          "Student_7",
          "Student_7"
         ],
         "y": [
          "Video1",
          "Video2",
          "Video3",
          "Video4",
          "Video5",
          "Total"
         ]
        },
        {
         "marker": {
          "line": {
           "width": 2
          },
          "size": [
           144,
           86,
           671,
           112,
           304,
           1317
          ],
          "sizemode": "area",
          "sizeref": 4.5,
          "symbol": "circle"
         },
         "mode": "markers",
         "name": "Student_8",
         "text": [
          "144",
          "86",
          "671",
          "112",
          "304",
          "1317"
         ],
         "type": "scatter",
         "uid": "9a386c2a-e364-11e8-9d8c-a1b30045967f",
         "x": [
          "Student_8",
          "Student_8",
          "Student_8",
          "Student_8",
          "Student_8",
          "Student_8"
         ],
         "y": [
          "Video1",
          "Video2",
          "Video3",
          "Video4",
          "Video5",
          "Total"
         ]
        },
        {
         "marker": {
          "line": {
           "width": 2
          },
          "size": [
           259,
           533,
           408,
           313,
           194,
           1707
          ],
          "sizemode": "area",
          "sizeref": 4.5,
          "symbol": "circle"
         },
         "mode": "markers",
         "name": "Student_9",
         "text": [
          "259",
          "533",
          "408",
          "313",
          "194",
          "1707"
         ],
         "type": "scatter",
         "uid": "9a386cb6-e364-11e8-9d8c-a1b30045967f",
         "x": [
          "Student_9",
          "Student_9",
          "Student_9",
          "Student_9",
          "Student_9",
          "Student_9"
         ],
         "y": [
          "Video1",
          "Video2",
          "Video3",
          "Video4",
          "Video5",
          "Total"
         ]
        },
        {
         "marker": {
          "line": {
           "width": 2
          },
          "size": [
           247,
           665,
           0,
           240,
           375,
           1527
          ],
          "sizemode": "area",
          "sizeref": 4.5,
          "symbol": "circle"
         },
         "mode": "markers",
         "name": "Student_10",
         "text": [
          "247",
          "665",
          "0",
          "240",
          "375",
          "1527"
         ],
         "type": "scatter",
         "uid": "9a386d38-e364-11e8-9d8c-a1b30045967f",
         "x": [
          "Student_10",
          "Student_10",
          "Student_10",
          "Student_10",
          "Student_10",
          "Student_10"
         ],
         "y": [
          "Video1",
          "Video2",
          "Video3",
          "Video4",
          "Video5",
          "Total"
         ]
        },
        {
         "marker": {
          "line": {
           "width": 2
          },
          "size": [
           358,
           552,
           1822,
           0,
           0,
           2732
          ],
          "sizemode": "area",
          "sizeref": 4.5,
          "symbol": "circle"
         },
         "mode": "markers",
         "name": "Student_11",
         "text": [
          "358",
          "552",
          "1822",
          "0",
          "0",
          "2732"
         ],
         "type": "scatter",
         "uid": "9a386dba-e364-11e8-9d8c-a1b30045967f",
         "x": [
          "Student_11",
          "Student_11",
          "Student_11",
          "Student_11",
          "Student_11",
          "Student_11"
         ],
         "y": [
          "Video1",
          "Video2",
          "Video3",
          "Video4",
          "Video5",
          "Total"
         ]
        },
        {
         "marker": {
          "line": {
           "width": 2
          },
          "size": [
           0,
           663,
           541,
           0,
           368,
           1572
          ],
          "sizemode": "area",
          "sizeref": 4.5,
          "symbol": "circle"
         },
         "mode": "markers",
         "name": "Student_12",
         "text": [
          "0",
          "663",
          "541",
          "0",
          "368",
          "1572"
         ],
         "type": "scatter",
         "uid": "9a386e46-e364-11e8-9d8c-a1b30045967f",
         "x": [
          "Student_12",
          "Student_12",
          "Student_12",
          "Student_12",
          "Student_12",
          "Student_12"
         ],
         "y": [
          "Video1",
          "Video2",
          "Video3",
          "Video4",
          "Video5",
          "Total"
         ]
        },
        {
         "marker": {
          "line": {
           "width": 2
          },
          "size": [
           0,
           329,
           641,
           390,
           300,
           1660
          ],
          "sizemode": "area",
          "sizeref": 4.5,
          "symbol": "circle"
         },
         "mode": "markers",
         "name": "Student_13",
         "text": [
          "0",
          "329",
          "641",
          "390",
          "300",
          "1660"
         ],
         "type": "scatter",
         "uid": "9a386ec8-e364-11e8-9d8c-a1b30045967f",
         "x": [
          "Student_13",
          "Student_13",
          "Student_13",
          "Student_13",
          "Student_13",
          "Student_13"
         ],
         "y": [
          "Video1",
          "Video2",
          "Video3",
          "Video4",
          "Video5",
          "Total"
         ]
        },
        {
         "marker": {
          "line": {
           "width": 2
          },
          "size": [
           165,
           0,
           1071,
           102,
           525,
           1863
          ],
          "sizemode": "area",
          "sizeref": 4.5,
          "symbol": "circle"
         },
         "mode": "markers",
         "name": "Student_14",
         "text": [
          "165",
          "0",
          "1071",
          "102",
          "525",
          "1863"
         ],
         "type": "scatter",
         "uid": "9a386f54-e364-11e8-9d8c-a1b30045967f",
         "x": [
          "Student_14",
          "Student_14",
          "Student_14",
          "Student_14",
          "Student_14",
          "Student_14"
         ],
         "y": [
          "Video1",
          "Video2",
          "Video3",
          "Video4",
          "Video5",
          "Total"
         ]
        },
        {
         "marker": {
          "line": {
           "width": 2
          },
          "size": [
           354,
           553,
           391,
           63,
           836,
           2197
          ],
          "sizemode": "area",
          "sizeref": 4.5,
          "symbol": "circle"
         },
         "mode": "markers",
         "name": "Student_15",
         "text": [
          "354",
          "553",
          "391",
          "63",
          "836",
          "2197"
         ],
         "type": "scatter",
         "uid": "9a386fe0-e364-11e8-9d8c-a1b30045967f",
         "x": [
          "Student_15",
          "Student_15",
          "Student_15",
          "Student_15",
          "Student_15",
          "Student_15"
         ],
         "y": [
          "Video1",
          "Video2",
          "Video3",
          "Video4",
          "Video5",
          "Total"
         ]
        },
        {
         "marker": {
          "line": {
           "width": 2
          },
          "size": [
           95,
           779,
           342,
           526,
           567,
           2309
          ],
          "sizemode": "area",
          "sizeref": 4.5,
          "symbol": "circle"
         },
         "mode": "markers",
         "name": "Student_16",
         "text": [
          "95",
          "779",
          "342",
          "526",
          "567",
          "2309"
         ],
         "type": "scatter",
         "uid": "9a387062-e364-11e8-9d8c-a1b30045967f",
         "x": [
          "Student_16",
          "Student_16",
          "Student_16",
          "Student_16",
          "Student_16",
          "Student_16"
         ],
         "y": [
          "Video1",
          "Video2",
          "Video3",
          "Video4",
          "Video5",
          "Total"
         ]
        },
        {
         "marker": {
          "line": {
           "width": 2
          },
          "size": [
           0,
           260,
           1327,
           311,
           761,
           2659
          ],
          "sizemode": "area",
          "sizeref": 4.5,
          "symbol": "circle"
         },
         "mode": "markers",
         "name": "Student_17",
         "text": [
          "0",
          "260",
          "1327",
          "311",
          "761",
          "2659"
         ],
         "type": "scatter",
         "uid": "9a3870da-e364-11e8-9d8c-a1b30045967f",
         "x": [
          "Student_17",
          "Student_17",
          "Student_17",
          "Student_17",
          "Student_17",
          "Student_17"
         ],
         "y": [
          "Video1",
          "Video2",
          "Video3",
          "Video4",
          "Video5",
          "Total"
         ]
        },
        {
         "marker": {
          "line": {
           "width": 2
          },
          "size": [
           291,
           719,
           825,
           443,
           77,
           2355
          ],
          "sizemode": "area",
          "sizeref": 4.5,
          "symbol": "circle"
         },
         "mode": "markers",
         "name": "Student_18",
         "text": [
          "291",
          "719",
          "825",
          "443",
          "77",
          "2355"
         ],
         "type": "scatter",
         "uid": "9a387152-e364-11e8-9d8c-a1b30045967f",
         "x": [
          "Student_18",
          "Student_18",
          "Student_18",
          "Student_18",
          "Student_18",
          "Student_18"
         ],
         "y": [
          "Video1",
          "Video2",
          "Video3",
          "Video4",
          "Video5",
          "Total"
         ]
        },
        {
         "marker": {
          "line": {
           "width": 2
          },
          "size": [
           184,
           0,
           0,
           33,
           52,
           269
          ],
          "sizemode": "area",
          "sizeref": 4.5,
          "symbol": "circle"
         },
         "mode": "markers",
         "name": "Student_19",
         "text": [
          "184",
          "0",
          "0",
          "33",
          "52",
          "269"
         ],
         "type": "scatter",
         "uid": "9a3871d4-e364-11e8-9d8c-a1b30045967f",
         "x": [
          "Student_19",
          "Student_19",
          "Student_19",
          "Student_19",
          "Student_19",
          "Student_19"
         ],
         "y": [
          "Video1",
          "Video2",
          "Video3",
          "Video4",
          "Video5",
          "Total"
         ]
        },
        {
         "marker": {
          "line": {
           "width": 2
          },
          "size": [
           52,
           707,
           520,
           0,
           148,
           1427
          ],
          "sizemode": "area",
          "sizeref": 4.5,
          "symbol": "circle"
         },
         "mode": "markers",
         "name": "Student_20",
         "text": [
          "52",
          "707",
          "520",
          "0",
          "148",
          "1427"
         ],
         "type": "scatter",
         "uid": "9a38724c-e364-11e8-9d8c-a1b30045967f",
         "x": [
          "Student_20",
          "Student_20",
          "Student_20",
          "Student_20",
          "Student_20",
          "Student_20"
         ],
         "y": [
          "Video1",
          "Video2",
          "Video3",
          "Video4",
          "Video5",
          "Total"
         ]
        }
       ],
       "layout": {
        "hovermode": "closest",
        "showlegend": true,
        "title": "Tempo de acesso aos vídeos por estudante",
        "xaxis": {
         "autorange": false,
         "fixedrange": false,
         "range": [
          -1,
          20
         ],
         "rangemode": "normal",
         "showline": true,
         "title": "Estudantes",
         "type": "category"
        },
        "yaxis": {
         "autorange": false,
         "fixedrange": false,
         "range": [
          -1,
          6
         ],
         "rangemode": "normal",
         "showline": true,
         "title": "Videos",
         "type": "category"
        }
       }
      },
      "text/html": [
       "<div id=\"6121c857-7b7d-44f1-bd5c-d6605c1715e9\" style=\"height: 525px; width: 100%;\" class=\"plotly-graph-div\"></div><script type=\"text/javascript\">require([\"plotly\"], function(Plotly) { window.PLOTLYENV=window.PLOTLYENV || {};window.PLOTLYENV.BASE_URL=\"https://plot.ly\";Plotly.newPlot(\"6121c857-7b7d-44f1-bd5c-d6605c1715e9\", [{\"marker\": {\"line\": {\"width\": 2}, \"size\": [406, 492, 810, 722, 203, 2633], \"sizemode\": \"area\", \"sizeref\": 4.5, \"symbol\": \"circle\"}, \"mode\": \"markers\", \"name\": \"Student_1\", \"text\": [\"406\", \"492\", \"810\", \"722\", \"203\", \"2633\"], \"x\": [\"Student_1\", \"Student_1\", \"Student_1\", \"Student_1\", \"Student_1\", \"Student_1\"], \"y\": [\"Video1\", \"Video2\", \"Video3\", \"Video4\", \"Video5\", \"Total\"], \"type\": \"scatter\", \"uid\": \"9a3866d0-e364-11e8-9d8c-a1b30045967f\"}, {\"marker\": {\"line\": {\"width\": 2}, \"size\": [185, 406, 370, 0, 312, 1273], \"sizemode\": \"area\", \"sizeref\": 4.5, \"symbol\": \"circle\"}, \"mode\": \"markers\", \"name\": \"Student_2\", \"text\": [\"185\", \"406\", \"370\", \"0\", \"312\", \"1273\"], \"x\": [\"Student_2\", \"Student_2\", \"Student_2\", \"Student_2\", \"Student_2\", \"Student_2\"], \"y\": [\"Video1\", \"Video2\", \"Video3\", \"Video4\", \"Video5\", \"Total\"], \"type\": \"scatter\", \"uid\": \"9a38687e-e364-11e8-9d8c-a1b30045967f\"}, {\"marker\": {\"line\": {\"width\": 2}, \"size\": [42, 469, 242, 319, 0, 1072], \"sizemode\": \"area\", \"sizeref\": 4.5, \"symbol\": \"circle\"}, \"mode\": \"markers\", \"name\": \"Student_3\", \"text\": [\"42\", \"469\", \"242\", \"319\", \"0\", \"1072\"], \"x\": [\"Student_3\", \"Student_3\", \"Student_3\", \"Student_3\", \"Student_3\", \"Student_3\"], \"y\": [\"Video1\", \"Video2\", \"Video3\", \"Video4\", \"Video5\", \"Total\"], \"type\": \"scatter\", \"uid\": \"9a386946-e364-11e8-9d8c-a1b30045967f\"}, {\"marker\": {\"line\": {\"width\": 2}, \"size\": [18, 152, 805, 0, 0, 975], \"sizemode\": \"area\", \"sizeref\": 4.5, \"symbol\": \"circle\"}, \"mode\": \"markers\", \"name\": \"Student_4\", \"text\": [\"18\", \"152\", \"805\", \"0\", \"0\", \"975\"], \"x\": [\"Student_4\", \"Student_4\", \"Student_4\", \"Student_4\", \"Student_4\", \"Student_4\"], \"y\": [\"Video1\", \"Video2\", \"Video3\", \"Video4\", \"Video5\", \"Total\"], \"type\": \"scatter\", \"uid\": \"9a3869e6-e364-11e8-9d8c-a1b30045967f\"}, {\"marker\": {\"line\": {\"width\": 2}, \"size\": [0, 792, 953, 748, 0, 2493], \"sizemode\": \"area\", \"sizeref\": 4.5, \"symbol\": \"circle\"}, \"mode\": \"markers\", \"name\": \"Student_5\", \"text\": [\"0\", \"792\", \"953\", \"748\", \"0\", \"2493\"], \"x\": [\"Student_5\", \"Student_5\", \"Student_5\", \"Student_5\", \"Student_5\", \"Student_5\"], \"y\": [\"Video1\", \"Video2\", \"Video3\", \"Video4\", \"Video5\", \"Total\"], \"type\": \"scatter\", \"uid\": \"9a386a7c-e364-11e8-9d8c-a1b30045967f\"}, {\"marker\": {\"line\": {\"width\": 2}, \"size\": [505, 0, 0, 605, 439, 1549], \"sizemode\": \"area\", \"sizeref\": 4.5, \"symbol\": \"circle\"}, \"mode\": \"markers\", \"name\": \"Student_6\", \"text\": [\"505\", \"0\", \"0\", \"605\", \"439\", \"1549\"], \"x\": [\"Student_6\", \"Student_6\", \"Student_6\", \"Student_6\", \"Student_6\", \"Student_6\"], \"y\": [\"Video1\", \"Video2\", \"Video3\", \"Video4\", \"Video5\", \"Total\"], \"type\": \"scatter\", \"uid\": \"9a386b08-e364-11e8-9d8c-a1b30045967f\"}, {\"marker\": {\"line\": {\"width\": 2}, \"size\": [0, 0, 898, 0, 426, 1324], \"sizemode\": \"area\", \"sizeref\": 4.5, \"symbol\": \"circle\"}, \"mode\": \"markers\", \"name\": \"Student_7\", \"text\": [\"0\", \"0\", \"898\", \"0\", \"426\", \"1324\"], \"x\": [\"Student_7\", \"Student_7\", \"Student_7\", \"Student_7\", \"Student_7\", \"Student_7\"], \"y\": [\"Video1\", \"Video2\", \"Video3\", \"Video4\", \"Video5\", \"Total\"], \"type\": \"scatter\", \"uid\": \"9a386b9e-e364-11e8-9d8c-a1b30045967f\"}, {\"marker\": {\"line\": {\"width\": 2}, \"size\": [144, 86, 671, 112, 304, 1317], \"sizemode\": \"area\", \"sizeref\": 4.5, \"symbol\": \"circle\"}, \"mode\": \"markers\", \"name\": \"Student_8\", \"text\": [\"144\", \"86\", \"671\", \"112\", \"304\", \"1317\"], \"x\": [\"Student_8\", \"Student_8\", \"Student_8\", \"Student_8\", \"Student_8\", \"Student_8\"], \"y\": [\"Video1\", \"Video2\", \"Video3\", \"Video4\", \"Video5\", \"Total\"], \"type\": \"scatter\", \"uid\": \"9a386c2a-e364-11e8-9d8c-a1b30045967f\"}, {\"marker\": {\"line\": {\"width\": 2}, \"size\": [259, 533, 408, 313, 194, 1707], \"sizemode\": \"area\", \"sizeref\": 4.5, \"symbol\": \"circle\"}, \"mode\": \"markers\", \"name\": \"Student_9\", \"text\": [\"259\", \"533\", \"408\", \"313\", \"194\", \"1707\"], \"x\": [\"Student_9\", \"Student_9\", \"Student_9\", \"Student_9\", \"Student_9\", \"Student_9\"], \"y\": [\"Video1\", \"Video2\", \"Video3\", \"Video4\", \"Video5\", \"Total\"], \"type\": \"scatter\", \"uid\": \"9a386cb6-e364-11e8-9d8c-a1b30045967f\"}, {\"marker\": {\"line\": {\"width\": 2}, \"size\": [247, 665, 0, 240, 375, 1527], \"sizemode\": \"area\", \"sizeref\": 4.5, \"symbol\": \"circle\"}, \"mode\": \"markers\", \"name\": \"Student_10\", \"text\": [\"247\", \"665\", \"0\", \"240\", \"375\", \"1527\"], \"x\": [\"Student_10\", \"Student_10\", \"Student_10\", \"Student_10\", \"Student_10\", \"Student_10\"], \"y\": [\"Video1\", \"Video2\", \"Video3\", \"Video4\", \"Video5\", \"Total\"], \"type\": \"scatter\", \"uid\": \"9a386d38-e364-11e8-9d8c-a1b30045967f\"}, {\"marker\": {\"line\": {\"width\": 2}, \"size\": [358, 552, 1822, 0, 0, 2732], \"sizemode\": \"area\", \"sizeref\": 4.5, \"symbol\": \"circle\"}, \"mode\": \"markers\", \"name\": \"Student_11\", \"text\": [\"358\", \"552\", \"1822\", \"0\", \"0\", \"2732\"], \"x\": [\"Student_11\", \"Student_11\", \"Student_11\", \"Student_11\", \"Student_11\", \"Student_11\"], \"y\": [\"Video1\", \"Video2\", \"Video3\", \"Video4\", \"Video5\", \"Total\"], \"type\": \"scatter\", \"uid\": \"9a386dba-e364-11e8-9d8c-a1b30045967f\"}, {\"marker\": {\"line\": {\"width\": 2}, \"size\": [0, 663, 541, 0, 368, 1572], \"sizemode\": \"area\", \"sizeref\": 4.5, \"symbol\": \"circle\"}, \"mode\": \"markers\", \"name\": \"Student_12\", \"text\": [\"0\", \"663\", \"541\", \"0\", \"368\", \"1572\"], \"x\": [\"Student_12\", \"Student_12\", \"Student_12\", \"Student_12\", \"Student_12\", \"Student_12\"], \"y\": [\"Video1\", \"Video2\", \"Video3\", \"Video4\", \"Video5\", \"Total\"], \"type\": \"scatter\", \"uid\": \"9a386e46-e364-11e8-9d8c-a1b30045967f\"}, {\"marker\": {\"line\": {\"width\": 2}, \"size\": [0, 329, 641, 390, 300, 1660], \"sizemode\": \"area\", \"sizeref\": 4.5, \"symbol\": \"circle\"}, \"mode\": \"markers\", \"name\": \"Student_13\", \"text\": [\"0\", \"329\", \"641\", \"390\", \"300\", \"1660\"], \"x\": [\"Student_13\", \"Student_13\", \"Student_13\", \"Student_13\", \"Student_13\", \"Student_13\"], \"y\": [\"Video1\", \"Video2\", \"Video3\", \"Video4\", \"Video5\", \"Total\"], \"type\": \"scatter\", \"uid\": \"9a386ec8-e364-11e8-9d8c-a1b30045967f\"}, {\"marker\": {\"line\": {\"width\": 2}, \"size\": [165, 0, 1071, 102, 525, 1863], \"sizemode\": \"area\", \"sizeref\": 4.5, \"symbol\": \"circle\"}, \"mode\": \"markers\", \"name\": \"Student_14\", \"text\": [\"165\", \"0\", \"1071\", \"102\", \"525\", \"1863\"], \"x\": [\"Student_14\", \"Student_14\", \"Student_14\", \"Student_14\", \"Student_14\", \"Student_14\"], \"y\": [\"Video1\", \"Video2\", \"Video3\", \"Video4\", \"Video5\", \"Total\"], \"type\": \"scatter\", \"uid\": \"9a386f54-e364-11e8-9d8c-a1b30045967f\"}, {\"marker\": {\"line\": {\"width\": 2}, \"size\": [354, 553, 391, 63, 836, 2197], \"sizemode\": \"area\", \"sizeref\": 4.5, \"symbol\": \"circle\"}, \"mode\": \"markers\", \"name\": \"Student_15\", \"text\": [\"354\", \"553\", \"391\", \"63\", \"836\", \"2197\"], \"x\": [\"Student_15\", \"Student_15\", \"Student_15\", \"Student_15\", \"Student_15\", \"Student_15\"], \"y\": [\"Video1\", \"Video2\", \"Video3\", \"Video4\", \"Video5\", \"Total\"], \"type\": \"scatter\", \"uid\": \"9a386fe0-e364-11e8-9d8c-a1b30045967f\"}, {\"marker\": {\"line\": {\"width\": 2}, \"size\": [95, 779, 342, 526, 567, 2309], \"sizemode\": \"area\", \"sizeref\": 4.5, \"symbol\": \"circle\"}, \"mode\": \"markers\", \"name\": \"Student_16\", \"text\": [\"95\", \"779\", \"342\", \"526\", \"567\", \"2309\"], \"x\": [\"Student_16\", \"Student_16\", \"Student_16\", \"Student_16\", \"Student_16\", \"Student_16\"], \"y\": [\"Video1\", \"Video2\", \"Video3\", \"Video4\", \"Video5\", \"Total\"], \"type\": \"scatter\", \"uid\": \"9a387062-e364-11e8-9d8c-a1b30045967f\"}, {\"marker\": {\"line\": {\"width\": 2}, \"size\": [0, 260, 1327, 311, 761, 2659], \"sizemode\": \"area\", \"sizeref\": 4.5, \"symbol\": \"circle\"}, \"mode\": \"markers\", \"name\": \"Student_17\", \"text\": [\"0\", \"260\", \"1327\", \"311\", \"761\", \"2659\"], \"x\": [\"Student_17\", \"Student_17\", \"Student_17\", \"Student_17\", \"Student_17\", \"Student_17\"], \"y\": [\"Video1\", \"Video2\", \"Video3\", \"Video4\", \"Video5\", \"Total\"], \"type\": \"scatter\", \"uid\": \"9a3870da-e364-11e8-9d8c-a1b30045967f\"}, {\"marker\": {\"line\": {\"width\": 2}, \"size\": [291, 719, 825, 443, 77, 2355], \"sizemode\": \"area\", \"sizeref\": 4.5, \"symbol\": \"circle\"}, \"mode\": \"markers\", \"name\": \"Student_18\", \"text\": [\"291\", \"719\", \"825\", \"443\", \"77\", \"2355\"], \"x\": [\"Student_18\", \"Student_18\", \"Student_18\", \"Student_18\", \"Student_18\", \"Student_18\"], \"y\": [\"Video1\", \"Video2\", \"Video3\", \"Video4\", \"Video5\", \"Total\"], \"type\": \"scatter\", \"uid\": \"9a387152-e364-11e8-9d8c-a1b30045967f\"}, {\"marker\": {\"line\": {\"width\": 2}, \"size\": [184, 0, 0, 33, 52, 269], \"sizemode\": \"area\", \"sizeref\": 4.5, \"symbol\": \"circle\"}, \"mode\": \"markers\", \"name\": \"Student_19\", \"text\": [\"184\", \"0\", \"0\", \"33\", \"52\", \"269\"], \"x\": [\"Student_19\", \"Student_19\", \"Student_19\", \"Student_19\", \"Student_19\", \"Student_19\"], \"y\": [\"Video1\", \"Video2\", \"Video3\", \"Video4\", \"Video5\", \"Total\"], \"type\": \"scatter\", \"uid\": \"9a3871d4-e364-11e8-9d8c-a1b30045967f\"}, {\"marker\": {\"line\": {\"width\": 2}, \"size\": [52, 707, 520, 0, 148, 1427], \"sizemode\": \"area\", \"sizeref\": 4.5, \"symbol\": \"circle\"}, \"mode\": \"markers\", \"name\": \"Student_20\", \"text\": [\"52\", \"707\", \"520\", \"0\", \"148\", \"1427\"], \"x\": [\"Student_20\", \"Student_20\", \"Student_20\", \"Student_20\", \"Student_20\", \"Student_20\"], \"y\": [\"Video1\", \"Video2\", \"Video3\", \"Video4\", \"Video5\", \"Total\"], \"type\": \"scatter\", \"uid\": \"9a38724c-e364-11e8-9d8c-a1b30045967f\"}], {\"hovermode\": \"closest\", \"showlegend\": true, \"title\": \"Tempo de acesso aos v\\u00eddeos por estudante\", \"xaxis\": {\"autorange\": false, \"fixedrange\": false, \"range\": [-1, 20], \"rangemode\": \"normal\", \"showline\": true, \"title\": \"Estudantes\", \"type\": \"category\"}, \"yaxis\": {\"autorange\": false, \"fixedrange\": false, \"range\": [-1, 6], \"rangemode\": \"normal\", \"showline\": true, \"title\": \"Videos\", \"type\": \"category\"}}, {\"showLink\": true, \"linkText\": \"Export to plot.ly\"})});</script>"
      ],
      "text/vnd.plotly.v1+html": [
       "<div id=\"6121c857-7b7d-44f1-bd5c-d6605c1715e9\" style=\"height: 525px; width: 100%;\" class=\"plotly-graph-div\"></div><script type=\"text/javascript\">require([\"plotly\"], function(Plotly) { window.PLOTLYENV=window.PLOTLYENV || {};window.PLOTLYENV.BASE_URL=\"https://plot.ly\";Plotly.newPlot(\"6121c857-7b7d-44f1-bd5c-d6605c1715e9\", [{\"marker\": {\"line\": {\"width\": 2}, \"size\": [406, 492, 810, 722, 203, 2633], \"sizemode\": \"area\", \"sizeref\": 4.5, \"symbol\": \"circle\"}, \"mode\": \"markers\", \"name\": \"Student_1\", \"text\": [\"406\", \"492\", \"810\", \"722\", \"203\", \"2633\"], \"x\": [\"Student_1\", \"Student_1\", \"Student_1\", \"Student_1\", \"Student_1\", \"Student_1\"], \"y\": [\"Video1\", \"Video2\", \"Video3\", \"Video4\", \"Video5\", \"Total\"], \"type\": \"scatter\", \"uid\": \"9a3866d0-e364-11e8-9d8c-a1b30045967f\"}, {\"marker\": {\"line\": {\"width\": 2}, \"size\": [185, 406, 370, 0, 312, 1273], \"sizemode\": \"area\", \"sizeref\": 4.5, \"symbol\": \"circle\"}, \"mode\": \"markers\", \"name\": \"Student_2\", \"text\": [\"185\", \"406\", \"370\", \"0\", \"312\", \"1273\"], \"x\": [\"Student_2\", \"Student_2\", \"Student_2\", \"Student_2\", \"Student_2\", \"Student_2\"], \"y\": [\"Video1\", \"Video2\", \"Video3\", \"Video4\", \"Video5\", \"Total\"], \"type\": \"scatter\", \"uid\": \"9a38687e-e364-11e8-9d8c-a1b30045967f\"}, {\"marker\": {\"line\": {\"width\": 2}, \"size\": [42, 469, 242, 319, 0, 1072], \"sizemode\": \"area\", \"sizeref\": 4.5, \"symbol\": \"circle\"}, \"mode\": \"markers\", \"name\": \"Student_3\", \"text\": [\"42\", \"469\", \"242\", \"319\", \"0\", \"1072\"], \"x\": [\"Student_3\", \"Student_3\", \"Student_3\", \"Student_3\", \"Student_3\", \"Student_3\"], \"y\": [\"Video1\", \"Video2\", \"Video3\", \"Video4\", \"Video5\", \"Total\"], \"type\": \"scatter\", \"uid\": \"9a386946-e364-11e8-9d8c-a1b30045967f\"}, {\"marker\": {\"line\": {\"width\": 2}, \"size\": [18, 152, 805, 0, 0, 975], \"sizemode\": \"area\", \"sizeref\": 4.5, \"symbol\": \"circle\"}, \"mode\": \"markers\", \"name\": \"Student_4\", \"text\": [\"18\", \"152\", \"805\", \"0\", \"0\", \"975\"], \"x\": [\"Student_4\", \"Student_4\", \"Student_4\", \"Student_4\", \"Student_4\", \"Student_4\"], \"y\": [\"Video1\", \"Video2\", \"Video3\", \"Video4\", \"Video5\", \"Total\"], \"type\": \"scatter\", \"uid\": \"9a3869e6-e364-11e8-9d8c-a1b30045967f\"}, {\"marker\": {\"line\": {\"width\": 2}, \"size\": [0, 792, 953, 748, 0, 2493], \"sizemode\": \"area\", \"sizeref\": 4.5, \"symbol\": \"circle\"}, \"mode\": \"markers\", \"name\": \"Student_5\", \"text\": [\"0\", \"792\", \"953\", \"748\", \"0\", \"2493\"], \"x\": [\"Student_5\", \"Student_5\", \"Student_5\", \"Student_5\", \"Student_5\", \"Student_5\"], \"y\": [\"Video1\", \"Video2\", \"Video3\", \"Video4\", \"Video5\", \"Total\"], \"type\": \"scatter\", \"uid\": \"9a386a7c-e364-11e8-9d8c-a1b30045967f\"}, {\"marker\": {\"line\": {\"width\": 2}, \"size\": [505, 0, 0, 605, 439, 1549], \"sizemode\": \"area\", \"sizeref\": 4.5, \"symbol\": \"circle\"}, \"mode\": \"markers\", \"name\": \"Student_6\", \"text\": [\"505\", \"0\", \"0\", \"605\", \"439\", \"1549\"], \"x\": [\"Student_6\", \"Student_6\", \"Student_6\", \"Student_6\", \"Student_6\", \"Student_6\"], \"y\": [\"Video1\", \"Video2\", \"Video3\", \"Video4\", \"Video5\", \"Total\"], \"type\": \"scatter\", \"uid\": \"9a386b08-e364-11e8-9d8c-a1b30045967f\"}, {\"marker\": {\"line\": {\"width\": 2}, \"size\": [0, 0, 898, 0, 426, 1324], \"sizemode\": \"area\", \"sizeref\": 4.5, \"symbol\": \"circle\"}, \"mode\": \"markers\", \"name\": \"Student_7\", \"text\": [\"0\", \"0\", \"898\", \"0\", \"426\", \"1324\"], \"x\": [\"Student_7\", \"Student_7\", \"Student_7\", \"Student_7\", \"Student_7\", \"Student_7\"], \"y\": [\"Video1\", \"Video2\", \"Video3\", \"Video4\", \"Video5\", \"Total\"], \"type\": \"scatter\", \"uid\": \"9a386b9e-e364-11e8-9d8c-a1b30045967f\"}, {\"marker\": {\"line\": {\"width\": 2}, \"size\": [144, 86, 671, 112, 304, 1317], \"sizemode\": \"area\", \"sizeref\": 4.5, \"symbol\": \"circle\"}, \"mode\": \"markers\", \"name\": \"Student_8\", \"text\": [\"144\", \"86\", \"671\", \"112\", \"304\", \"1317\"], \"x\": [\"Student_8\", \"Student_8\", \"Student_8\", \"Student_8\", \"Student_8\", \"Student_8\"], \"y\": [\"Video1\", \"Video2\", \"Video3\", \"Video4\", \"Video5\", \"Total\"], \"type\": \"scatter\", \"uid\": \"9a386c2a-e364-11e8-9d8c-a1b30045967f\"}, {\"marker\": {\"line\": {\"width\": 2}, \"size\": [259, 533, 408, 313, 194, 1707], \"sizemode\": \"area\", \"sizeref\": 4.5, \"symbol\": \"circle\"}, \"mode\": \"markers\", \"name\": \"Student_9\", \"text\": [\"259\", \"533\", \"408\", \"313\", \"194\", \"1707\"], \"x\": [\"Student_9\", \"Student_9\", \"Student_9\", \"Student_9\", \"Student_9\", \"Student_9\"], \"y\": [\"Video1\", \"Video2\", \"Video3\", \"Video4\", \"Video5\", \"Total\"], \"type\": \"scatter\", \"uid\": \"9a386cb6-e364-11e8-9d8c-a1b30045967f\"}, {\"marker\": {\"line\": {\"width\": 2}, \"size\": [247, 665, 0, 240, 375, 1527], \"sizemode\": \"area\", \"sizeref\": 4.5, \"symbol\": \"circle\"}, \"mode\": \"markers\", \"name\": \"Student_10\", \"text\": [\"247\", \"665\", \"0\", \"240\", \"375\", \"1527\"], \"x\": [\"Student_10\", \"Student_10\", \"Student_10\", \"Student_10\", \"Student_10\", \"Student_10\"], \"y\": [\"Video1\", \"Video2\", \"Video3\", \"Video4\", \"Video5\", \"Total\"], \"type\": \"scatter\", \"uid\": \"9a386d38-e364-11e8-9d8c-a1b30045967f\"}, {\"marker\": {\"line\": {\"width\": 2}, \"size\": [358, 552, 1822, 0, 0, 2732], \"sizemode\": \"area\", \"sizeref\": 4.5, \"symbol\": \"circle\"}, \"mode\": \"markers\", \"name\": \"Student_11\", \"text\": [\"358\", \"552\", \"1822\", \"0\", \"0\", \"2732\"], \"x\": [\"Student_11\", \"Student_11\", \"Student_11\", \"Student_11\", \"Student_11\", \"Student_11\"], \"y\": [\"Video1\", \"Video2\", \"Video3\", \"Video4\", \"Video5\", \"Total\"], \"type\": \"scatter\", \"uid\": \"9a386dba-e364-11e8-9d8c-a1b30045967f\"}, {\"marker\": {\"line\": {\"width\": 2}, \"size\": [0, 663, 541, 0, 368, 1572], \"sizemode\": \"area\", \"sizeref\": 4.5, \"symbol\": \"circle\"}, \"mode\": \"markers\", \"name\": \"Student_12\", \"text\": [\"0\", \"663\", \"541\", \"0\", \"368\", \"1572\"], \"x\": [\"Student_12\", \"Student_12\", \"Student_12\", \"Student_12\", \"Student_12\", \"Student_12\"], \"y\": [\"Video1\", \"Video2\", \"Video3\", \"Video4\", \"Video5\", \"Total\"], \"type\": \"scatter\", \"uid\": \"9a386e46-e364-11e8-9d8c-a1b30045967f\"}, {\"marker\": {\"line\": {\"width\": 2}, \"size\": [0, 329, 641, 390, 300, 1660], \"sizemode\": \"area\", \"sizeref\": 4.5, \"symbol\": \"circle\"}, \"mode\": \"markers\", \"name\": \"Student_13\", \"text\": [\"0\", \"329\", \"641\", \"390\", \"300\", \"1660\"], \"x\": [\"Student_13\", \"Student_13\", \"Student_13\", \"Student_13\", \"Student_13\", \"Student_13\"], \"y\": [\"Video1\", \"Video2\", \"Video3\", \"Video4\", \"Video5\", \"Total\"], \"type\": \"scatter\", \"uid\": \"9a386ec8-e364-11e8-9d8c-a1b30045967f\"}, {\"marker\": {\"line\": {\"width\": 2}, \"size\": [165, 0, 1071, 102, 525, 1863], \"sizemode\": \"area\", \"sizeref\": 4.5, \"symbol\": \"circle\"}, \"mode\": \"markers\", \"name\": \"Student_14\", \"text\": [\"165\", \"0\", \"1071\", \"102\", \"525\", \"1863\"], \"x\": [\"Student_14\", \"Student_14\", \"Student_14\", \"Student_14\", \"Student_14\", \"Student_14\"], \"y\": [\"Video1\", \"Video2\", \"Video3\", \"Video4\", \"Video5\", \"Total\"], \"type\": \"scatter\", \"uid\": \"9a386f54-e364-11e8-9d8c-a1b30045967f\"}, {\"marker\": {\"line\": {\"width\": 2}, \"size\": [354, 553, 391, 63, 836, 2197], \"sizemode\": \"area\", \"sizeref\": 4.5, \"symbol\": \"circle\"}, \"mode\": \"markers\", \"name\": \"Student_15\", \"text\": [\"354\", \"553\", \"391\", \"63\", \"836\", \"2197\"], \"x\": [\"Student_15\", \"Student_15\", \"Student_15\", \"Student_15\", \"Student_15\", \"Student_15\"], \"y\": [\"Video1\", \"Video2\", \"Video3\", \"Video4\", \"Video5\", \"Total\"], \"type\": \"scatter\", \"uid\": \"9a386fe0-e364-11e8-9d8c-a1b30045967f\"}, {\"marker\": {\"line\": {\"width\": 2}, \"size\": [95, 779, 342, 526, 567, 2309], \"sizemode\": \"area\", \"sizeref\": 4.5, \"symbol\": \"circle\"}, \"mode\": \"markers\", \"name\": \"Student_16\", \"text\": [\"95\", \"779\", \"342\", \"526\", \"567\", \"2309\"], \"x\": [\"Student_16\", \"Student_16\", \"Student_16\", \"Student_16\", \"Student_16\", \"Student_16\"], \"y\": [\"Video1\", \"Video2\", \"Video3\", \"Video4\", \"Video5\", \"Total\"], \"type\": \"scatter\", \"uid\": \"9a387062-e364-11e8-9d8c-a1b30045967f\"}, {\"marker\": {\"line\": {\"width\": 2}, \"size\": [0, 260, 1327, 311, 761, 2659], \"sizemode\": \"area\", \"sizeref\": 4.5, \"symbol\": \"circle\"}, \"mode\": \"markers\", \"name\": \"Student_17\", \"text\": [\"0\", \"260\", \"1327\", \"311\", \"761\", \"2659\"], \"x\": [\"Student_17\", \"Student_17\", \"Student_17\", \"Student_17\", \"Student_17\", \"Student_17\"], \"y\": [\"Video1\", \"Video2\", \"Video3\", \"Video4\", \"Video5\", \"Total\"], \"type\": \"scatter\", \"uid\": \"9a3870da-e364-11e8-9d8c-a1b30045967f\"}, {\"marker\": {\"line\": {\"width\": 2}, \"size\": [291, 719, 825, 443, 77, 2355], \"sizemode\": \"area\", \"sizeref\": 4.5, \"symbol\": \"circle\"}, \"mode\": \"markers\", \"name\": \"Student_18\", \"text\": [\"291\", \"719\", \"825\", \"443\", \"77\", \"2355\"], \"x\": [\"Student_18\", \"Student_18\", \"Student_18\", \"Student_18\", \"Student_18\", \"Student_18\"], \"y\": [\"Video1\", \"Video2\", \"Video3\", \"Video4\", \"Video5\", \"Total\"], \"type\": \"scatter\", \"uid\": \"9a387152-e364-11e8-9d8c-a1b30045967f\"}, {\"marker\": {\"line\": {\"width\": 2}, \"size\": [184, 0, 0, 33, 52, 269], \"sizemode\": \"area\", \"sizeref\": 4.5, \"symbol\": \"circle\"}, \"mode\": \"markers\", \"name\": \"Student_19\", \"text\": [\"184\", \"0\", \"0\", \"33\", \"52\", \"269\"], \"x\": [\"Student_19\", \"Student_19\", \"Student_19\", \"Student_19\", \"Student_19\", \"Student_19\"], \"y\": [\"Video1\", \"Video2\", \"Video3\", \"Video4\", \"Video5\", \"Total\"], \"type\": \"scatter\", \"uid\": \"9a3871d4-e364-11e8-9d8c-a1b30045967f\"}, {\"marker\": {\"line\": {\"width\": 2}, \"size\": [52, 707, 520, 0, 148, 1427], \"sizemode\": \"area\", \"sizeref\": 4.5, \"symbol\": \"circle\"}, \"mode\": \"markers\", \"name\": \"Student_20\", \"text\": [\"52\", \"707\", \"520\", \"0\", \"148\", \"1427\"], \"x\": [\"Student_20\", \"Student_20\", \"Student_20\", \"Student_20\", \"Student_20\", \"Student_20\"], \"y\": [\"Video1\", \"Video2\", \"Video3\", \"Video4\", \"Video5\", \"Total\"], \"type\": \"scatter\", \"uid\": \"9a38724c-e364-11e8-9d8c-a1b30045967f\"}], {\"hovermode\": \"closest\", \"showlegend\": true, \"title\": \"Tempo de acesso aos v\\u00eddeos por estudante\", \"xaxis\": {\"autorange\": false, \"fixedrange\": false, \"range\": [-1, 20], \"rangemode\": \"normal\", \"showline\": true, \"title\": \"Estudantes\", \"type\": \"category\"}, \"yaxis\": {\"autorange\": false, \"fixedrange\": false, \"range\": [-1, 6], \"rangemode\": \"normal\", \"showline\": true, \"title\": \"Videos\", \"type\": \"category\"}}, {\"showLink\": true, \"linkText\": \"Export to plot.ly\"})});</script>"
      ]
     },
     "metadata": {},
     "output_type": "display_data"
    },
    {
     "data": {
      "application/vnd.plotly.v1+json": {
       "data": [
        {
         "name": "Video1",
         "type": "bar",
         "uid": "9a4aed3c-e364-11e8-9d8c-a1b30045967f",
         "x": [
          "Student_1",
          "Student_2",
          "Student_3",
          "Student_4",
          "Student_5",
          "Student_6",
          "Student_7",
          "Student_8",
          "Student_9",
          "Student_10",
          "Student_11",
          "Student_12",
          "Student_13",
          "Student_14",
          "Student_15",
          "Student_16",
          "Student_17",
          "Student_18",
          "Student_19",
          "Student_20"
         ],
         "y": [
          406,
          185,
          42,
          18,
          0,
          505,
          0,
          144,
          259,
          247,
          358,
          0,
          0,
          165,
          354,
          95,
          0,
          291,
          184,
          52
         ]
        },
        {
         "name": "Video2",
         "type": "bar",
         "uid": "9a4aef1c-e364-11e8-9d8c-a1b30045967f",
         "x": [
          "Student_1",
          "Student_2",
          "Student_3",
          "Student_4",
          "Student_5",
          "Student_6",
          "Student_7",
          "Student_8",
          "Student_9",
          "Student_10",
          "Student_11",
          "Student_12",
          "Student_13",
          "Student_14",
          "Student_15",
          "Student_16",
          "Student_17",
          "Student_18",
          "Student_19",
          "Student_20"
         ],
         "y": [
          492,
          406,
          469,
          152,
          792,
          0,
          0,
          86,
          533,
          665,
          552,
          663,
          329,
          0,
          553,
          779,
          260,
          719,
          0,
          707
         ]
        },
        {
         "name": "Video3",
         "type": "bar",
         "uid": "9a4aefe4-e364-11e8-9d8c-a1b30045967f",
         "x": [
          "Student_1",
          "Student_2",
          "Student_3",
          "Student_4",
          "Student_5",
          "Student_6",
          "Student_7",
          "Student_8",
          "Student_9",
          "Student_10",
          "Student_11",
          "Student_12",
          "Student_13",
          "Student_14",
          "Student_15",
          "Student_16",
          "Student_17",
          "Student_18",
          "Student_19",
          "Student_20"
         ],
         "y": [
          810,
          370,
          242,
          805,
          953,
          0,
          898,
          671,
          408,
          0,
          1822,
          541,
          641,
          1071,
          391,
          342,
          1327,
          825,
          0,
          520
         ]
        },
        {
         "name": "Video4",
         "type": "bar",
         "uid": "9a4af084-e364-11e8-9d8c-a1b30045967f",
         "x": [
          "Student_1",
          "Student_2",
          "Student_3",
          "Student_4",
          "Student_5",
          "Student_6",
          "Student_7",
          "Student_8",
          "Student_9",
          "Student_10",
          "Student_11",
          "Student_12",
          "Student_13",
          "Student_14",
          "Student_15",
          "Student_16",
          "Student_17",
          "Student_18",
          "Student_19",
          "Student_20"
         ],
         "y": [
          722,
          0,
          319,
          0,
          748,
          605,
          0,
          112,
          313,
          240,
          0,
          0,
          390,
          102,
          63,
          526,
          311,
          443,
          33,
          0
         ]
        },
        {
         "name": "Video5",
         "type": "bar",
         "uid": "9a4af110-e364-11e8-9d8c-a1b30045967f",
         "x": [
          "Student_1",
          "Student_2",
          "Student_3",
          "Student_4",
          "Student_5",
          "Student_6",
          "Student_7",
          "Student_8",
          "Student_9",
          "Student_10",
          "Student_11",
          "Student_12",
          "Student_13",
          "Student_14",
          "Student_15",
          "Student_16",
          "Student_17",
          "Student_18",
          "Student_19",
          "Student_20"
         ],
         "y": [
          203,
          312,
          0,
          0,
          0,
          439,
          426,
          304,
          194,
          375,
          0,
          368,
          300,
          525,
          836,
          567,
          761,
          77,
          52,
          148
         ]
        }
       ],
       "layout": {
        "title": "Número de acessos aos vídeos agrupados por estudante",
        "yaxis": {
         "dtick": 100,
         "exponentformat": "e",
         "gridcolor": "#bdbdbd",
         "showexponent": "all",
         "showticklabels": true,
         "tick0": 0,
         "titlefont": {
          "color": "lightgrey",
          "family": "Arial, sans-serif"
         }
        }
       }
      },
      "text/html": [
       "<div id=\"6913d22c-4463-483e-80d4-33ad20a49a2e\" style=\"height: 525px; width: 100%;\" class=\"plotly-graph-div\"></div><script type=\"text/javascript\">require([\"plotly\"], function(Plotly) { window.PLOTLYENV=window.PLOTLYENV || {};window.PLOTLYENV.BASE_URL=\"https://plot.ly\";Plotly.newPlot(\"6913d22c-4463-483e-80d4-33ad20a49a2e\", [{\"name\": \"Video1\", \"x\": [\"Student_1\", \"Student_2\", \"Student_3\", \"Student_4\", \"Student_5\", \"Student_6\", \"Student_7\", \"Student_8\", \"Student_9\", \"Student_10\", \"Student_11\", \"Student_12\", \"Student_13\", \"Student_14\", \"Student_15\", \"Student_16\", \"Student_17\", \"Student_18\", \"Student_19\", \"Student_20\"], \"y\": [406, 185, 42, 18, 0, 505, 0, 144, 259, 247, 358, 0, 0, 165, 354, 95, 0, 291, 184, 52], \"type\": \"bar\", \"uid\": \"9a4aed3c-e364-11e8-9d8c-a1b30045967f\"}, {\"name\": \"Video2\", \"x\": [\"Student_1\", \"Student_2\", \"Student_3\", \"Student_4\", \"Student_5\", \"Student_6\", \"Student_7\", \"Student_8\", \"Student_9\", \"Student_10\", \"Student_11\", \"Student_12\", \"Student_13\", \"Student_14\", \"Student_15\", \"Student_16\", \"Student_17\", \"Student_18\", \"Student_19\", \"Student_20\"], \"y\": [492, 406, 469, 152, 792, 0, 0, 86, 533, 665, 552, 663, 329, 0, 553, 779, 260, 719, 0, 707], \"type\": \"bar\", \"uid\": \"9a4aef1c-e364-11e8-9d8c-a1b30045967f\"}, {\"name\": \"Video3\", \"x\": [\"Student_1\", \"Student_2\", \"Student_3\", \"Student_4\", \"Student_5\", \"Student_6\", \"Student_7\", \"Student_8\", \"Student_9\", \"Student_10\", \"Student_11\", \"Student_12\", \"Student_13\", \"Student_14\", \"Student_15\", \"Student_16\", \"Student_17\", \"Student_18\", \"Student_19\", \"Student_20\"], \"y\": [810, 370, 242, 805, 953, 0, 898, 671, 408, 0, 1822, 541, 641, 1071, 391, 342, 1327, 825, 0, 520], \"type\": \"bar\", \"uid\": \"9a4aefe4-e364-11e8-9d8c-a1b30045967f\"}, {\"name\": \"Video4\", \"x\": [\"Student_1\", \"Student_2\", \"Student_3\", \"Student_4\", \"Student_5\", \"Student_6\", \"Student_7\", \"Student_8\", \"Student_9\", \"Student_10\", \"Student_11\", \"Student_12\", \"Student_13\", \"Student_14\", \"Student_15\", \"Student_16\", \"Student_17\", \"Student_18\", \"Student_19\", \"Student_20\"], \"y\": [722, 0, 319, 0, 748, 605, 0, 112, 313, 240, 0, 0, 390, 102, 63, 526, 311, 443, 33, 0], \"type\": \"bar\", \"uid\": \"9a4af084-e364-11e8-9d8c-a1b30045967f\"}, {\"name\": \"Video5\", \"x\": [\"Student_1\", \"Student_2\", \"Student_3\", \"Student_4\", \"Student_5\", \"Student_6\", \"Student_7\", \"Student_8\", \"Student_9\", \"Student_10\", \"Student_11\", \"Student_12\", \"Student_13\", \"Student_14\", \"Student_15\", \"Student_16\", \"Student_17\", \"Student_18\", \"Student_19\", \"Student_20\"], \"y\": [203, 312, 0, 0, 0, 439, 426, 304, 194, 375, 0, 368, 300, 525, 836, 567, 761, 77, 52, 148], \"type\": \"bar\", \"uid\": \"9a4af110-e364-11e8-9d8c-a1b30045967f\"}], {\"title\": \"N\\u00famero de acessos aos v\\u00eddeos agrupados por estudante\", \"yaxis\": {\"dtick\": 100, \"exponentformat\": \"e\", \"gridcolor\": \"#bdbdbd\", \"showexponent\": \"all\", \"showticklabels\": true, \"tick0\": 0, \"titlefont\": {\"color\": \"lightgrey\", \"family\": \"Arial, sans-serif\"}}}, {\"showLink\": true, \"linkText\": \"Export to plot.ly\"})});</script>"
      ],
      "text/vnd.plotly.v1+html": [
       "<div id=\"6913d22c-4463-483e-80d4-33ad20a49a2e\" style=\"height: 525px; width: 100%;\" class=\"plotly-graph-div\"></div><script type=\"text/javascript\">require([\"plotly\"], function(Plotly) { window.PLOTLYENV=window.PLOTLYENV || {};window.PLOTLYENV.BASE_URL=\"https://plot.ly\";Plotly.newPlot(\"6913d22c-4463-483e-80d4-33ad20a49a2e\", [{\"name\": \"Video1\", \"x\": [\"Student_1\", \"Student_2\", \"Student_3\", \"Student_4\", \"Student_5\", \"Student_6\", \"Student_7\", \"Student_8\", \"Student_9\", \"Student_10\", \"Student_11\", \"Student_12\", \"Student_13\", \"Student_14\", \"Student_15\", \"Student_16\", \"Student_17\", \"Student_18\", \"Student_19\", \"Student_20\"], \"y\": [406, 185, 42, 18, 0, 505, 0, 144, 259, 247, 358, 0, 0, 165, 354, 95, 0, 291, 184, 52], \"type\": \"bar\", \"uid\": \"9a4aed3c-e364-11e8-9d8c-a1b30045967f\"}, {\"name\": \"Video2\", \"x\": [\"Student_1\", \"Student_2\", \"Student_3\", \"Student_4\", \"Student_5\", \"Student_6\", \"Student_7\", \"Student_8\", \"Student_9\", \"Student_10\", \"Student_11\", \"Student_12\", \"Student_13\", \"Student_14\", \"Student_15\", \"Student_16\", \"Student_17\", \"Student_18\", \"Student_19\", \"Student_20\"], \"y\": [492, 406, 469, 152, 792, 0, 0, 86, 533, 665, 552, 663, 329, 0, 553, 779, 260, 719, 0, 707], \"type\": \"bar\", \"uid\": \"9a4aef1c-e364-11e8-9d8c-a1b30045967f\"}, {\"name\": \"Video3\", \"x\": [\"Student_1\", \"Student_2\", \"Student_3\", \"Student_4\", \"Student_5\", \"Student_6\", \"Student_7\", \"Student_8\", \"Student_9\", \"Student_10\", \"Student_11\", \"Student_12\", \"Student_13\", \"Student_14\", \"Student_15\", \"Student_16\", \"Student_17\", \"Student_18\", \"Student_19\", \"Student_20\"], \"y\": [810, 370, 242, 805, 953, 0, 898, 671, 408, 0, 1822, 541, 641, 1071, 391, 342, 1327, 825, 0, 520], \"type\": \"bar\", \"uid\": \"9a4aefe4-e364-11e8-9d8c-a1b30045967f\"}, {\"name\": \"Video4\", \"x\": [\"Student_1\", \"Student_2\", \"Student_3\", \"Student_4\", \"Student_5\", \"Student_6\", \"Student_7\", \"Student_8\", \"Student_9\", \"Student_10\", \"Student_11\", \"Student_12\", \"Student_13\", \"Student_14\", \"Student_15\", \"Student_16\", \"Student_17\", \"Student_18\", \"Student_19\", \"Student_20\"], \"y\": [722, 0, 319, 0, 748, 605, 0, 112, 313, 240, 0, 0, 390, 102, 63, 526, 311, 443, 33, 0], \"type\": \"bar\", \"uid\": \"9a4af084-e364-11e8-9d8c-a1b30045967f\"}, {\"name\": \"Video5\", \"x\": [\"Student_1\", \"Student_2\", \"Student_3\", \"Student_4\", \"Student_5\", \"Student_6\", \"Student_7\", \"Student_8\", \"Student_9\", \"Student_10\", \"Student_11\", \"Student_12\", \"Student_13\", \"Student_14\", \"Student_15\", \"Student_16\", \"Student_17\", \"Student_18\", \"Student_19\", \"Student_20\"], \"y\": [203, 312, 0, 0, 0, 439, 426, 304, 194, 375, 0, 368, 300, 525, 836, 567, 761, 77, 52, 148], \"type\": \"bar\", \"uid\": \"9a4af110-e364-11e8-9d8c-a1b30045967f\"}], {\"title\": \"N\\u00famero de acessos aos v\\u00eddeos agrupados por estudante\", \"yaxis\": {\"dtick\": 100, \"exponentformat\": \"e\", \"gridcolor\": \"#bdbdbd\", \"showexponent\": \"all\", \"showticklabels\": true, \"tick0\": 0, \"titlefont\": {\"color\": \"lightgrey\", \"family\": \"Arial, sans-serif\"}}}, {\"showLink\": true, \"linkText\": \"Export to plot.ly\"})});</script>"
      ]
     },
     "metadata": {},
     "output_type": "display_data"
    },
    {
     "data": {
      "application/vnd.plotly.v1+json": {
       "data": [
        {
         "name": "Video1",
         "type": "bar",
         "uid": "9a51dd0e-e364-11e8-9d8c-a1b30045967f",
         "x": [
          "Student_1",
          "Student_2",
          "Student_3",
          "Student_4",
          "Student_5",
          "Student_6",
          "Student_7",
          "Student_8",
          "Student_9",
          "Student_10",
          "Student_11",
          "Student_12",
          "Student_13",
          "Student_14",
          "Student_15",
          "Student_16",
          "Student_17",
          "Student_18",
          "Student_19",
          "Student_20"
         ],
         "y": [
          406,
          185,
          42,
          18,
          0,
          505,
          0,
          144,
          259,
          247,
          358,
          0,
          0,
          165,
          354,
          95,
          0,
          291,
          184,
          52
         ]
        },
        {
         "name": "Video2",
         "type": "bar",
         "uid": "9a51def8-e364-11e8-9d8c-a1b30045967f",
         "x": [
          "Student_1",
          "Student_2",
          "Student_3",
          "Student_4",
          "Student_5",
          "Student_6",
          "Student_7",
          "Student_8",
          "Student_9",
          "Student_10",
          "Student_11",
          "Student_12",
          "Student_13",
          "Student_14",
          "Student_15",
          "Student_16",
          "Student_17",
          "Student_18",
          "Student_19",
          "Student_20"
         ],
         "y": [
          492,
          406,
          469,
          152,
          792,
          0,
          0,
          86,
          533,
          665,
          552,
          663,
          329,
          0,
          553,
          779,
          260,
          719,
          0,
          707
         ]
        },
        {
         "name": "Video3",
         "type": "bar",
         "uid": "9a51dfc0-e364-11e8-9d8c-a1b30045967f",
         "x": [
          "Student_1",
          "Student_2",
          "Student_3",
          "Student_4",
          "Student_5",
          "Student_6",
          "Student_7",
          "Student_8",
          "Student_9",
          "Student_10",
          "Student_11",
          "Student_12",
          "Student_13",
          "Student_14",
          "Student_15",
          "Student_16",
          "Student_17",
          "Student_18",
          "Student_19",
          "Student_20"
         ],
         "y": [
          810,
          370,
          242,
          805,
          953,
          0,
          898,
          671,
          408,
          0,
          1822,
          541,
          641,
          1071,
          391,
          342,
          1327,
          825,
          0,
          520
         ]
        },
        {
         "name": "Video4",
         "type": "bar",
         "uid": "9a51e060-e364-11e8-9d8c-a1b30045967f",
         "x": [
          "Student_1",
          "Student_2",
          "Student_3",
          "Student_4",
          "Student_5",
          "Student_6",
          "Student_7",
          "Student_8",
          "Student_9",
          "Student_10",
          "Student_11",
          "Student_12",
          "Student_13",
          "Student_14",
          "Student_15",
          "Student_16",
          "Student_17",
          "Student_18",
          "Student_19",
          "Student_20"
         ],
         "y": [
          722,
          0,
          319,
          0,
          748,
          605,
          0,
          112,
          313,
          240,
          0,
          0,
          390,
          102,
          63,
          526,
          311,
          443,
          33,
          0
         ]
        },
        {
         "name": "Video5",
         "type": "bar",
         "uid": "9a51e0ec-e364-11e8-9d8c-a1b30045967f",
         "x": [
          "Student_1",
          "Student_2",
          "Student_3",
          "Student_4",
          "Student_5",
          "Student_6",
          "Student_7",
          "Student_8",
          "Student_9",
          "Student_10",
          "Student_11",
          "Student_12",
          "Student_13",
          "Student_14",
          "Student_15",
          "Student_16",
          "Student_17",
          "Student_18",
          "Student_19",
          "Student_20"
         ],
         "y": [
          203,
          312,
          0,
          0,
          0,
          439,
          426,
          304,
          194,
          375,
          0,
          368,
          300,
          525,
          836,
          567,
          761,
          77,
          52,
          148
         ]
        }
       ],
       "layout": {
        "barmode": "stack",
        "title": "Número de acessos aos vídeos agrupados por estudante",
        "yaxis": {
         "dtick": 300,
         "exponentformat": "e",
         "gridcolor": "#bdbdbd",
         "showexponent": "all",
         "showticklabels": true,
         "tick0": 0,
         "titlefont": {
          "color": "lightgrey",
          "family": "Arial, sans-serif"
         }
        }
       }
      },
      "text/html": [
       "<div id=\"ce989a6a-419c-4bd8-9fd5-feebd5d64425\" style=\"height: 525px; width: 100%;\" class=\"plotly-graph-div\"></div><script type=\"text/javascript\">require([\"plotly\"], function(Plotly) { window.PLOTLYENV=window.PLOTLYENV || {};window.PLOTLYENV.BASE_URL=\"https://plot.ly\";Plotly.newPlot(\"ce989a6a-419c-4bd8-9fd5-feebd5d64425\", [{\"name\": \"Video1\", \"x\": [\"Student_1\", \"Student_2\", \"Student_3\", \"Student_4\", \"Student_5\", \"Student_6\", \"Student_7\", \"Student_8\", \"Student_9\", \"Student_10\", \"Student_11\", \"Student_12\", \"Student_13\", \"Student_14\", \"Student_15\", \"Student_16\", \"Student_17\", \"Student_18\", \"Student_19\", \"Student_20\"], \"y\": [406, 185, 42, 18, 0, 505, 0, 144, 259, 247, 358, 0, 0, 165, 354, 95, 0, 291, 184, 52], \"type\": \"bar\", \"uid\": \"9a51dd0e-e364-11e8-9d8c-a1b30045967f\"}, {\"name\": \"Video2\", \"x\": [\"Student_1\", \"Student_2\", \"Student_3\", \"Student_4\", \"Student_5\", \"Student_6\", \"Student_7\", \"Student_8\", \"Student_9\", \"Student_10\", \"Student_11\", \"Student_12\", \"Student_13\", \"Student_14\", \"Student_15\", \"Student_16\", \"Student_17\", \"Student_18\", \"Student_19\", \"Student_20\"], \"y\": [492, 406, 469, 152, 792, 0, 0, 86, 533, 665, 552, 663, 329, 0, 553, 779, 260, 719, 0, 707], \"type\": \"bar\", \"uid\": \"9a51def8-e364-11e8-9d8c-a1b30045967f\"}, {\"name\": \"Video3\", \"x\": [\"Student_1\", \"Student_2\", \"Student_3\", \"Student_4\", \"Student_5\", \"Student_6\", \"Student_7\", \"Student_8\", \"Student_9\", \"Student_10\", \"Student_11\", \"Student_12\", \"Student_13\", \"Student_14\", \"Student_15\", \"Student_16\", \"Student_17\", \"Student_18\", \"Student_19\", \"Student_20\"], \"y\": [810, 370, 242, 805, 953, 0, 898, 671, 408, 0, 1822, 541, 641, 1071, 391, 342, 1327, 825, 0, 520], \"type\": \"bar\", \"uid\": \"9a51dfc0-e364-11e8-9d8c-a1b30045967f\"}, {\"name\": \"Video4\", \"x\": [\"Student_1\", \"Student_2\", \"Student_3\", \"Student_4\", \"Student_5\", \"Student_6\", \"Student_7\", \"Student_8\", \"Student_9\", \"Student_10\", \"Student_11\", \"Student_12\", \"Student_13\", \"Student_14\", \"Student_15\", \"Student_16\", \"Student_17\", \"Student_18\", \"Student_19\", \"Student_20\"], \"y\": [722, 0, 319, 0, 748, 605, 0, 112, 313, 240, 0, 0, 390, 102, 63, 526, 311, 443, 33, 0], \"type\": \"bar\", \"uid\": \"9a51e060-e364-11e8-9d8c-a1b30045967f\"}, {\"name\": \"Video5\", \"x\": [\"Student_1\", \"Student_2\", \"Student_3\", \"Student_4\", \"Student_5\", \"Student_6\", \"Student_7\", \"Student_8\", \"Student_9\", \"Student_10\", \"Student_11\", \"Student_12\", \"Student_13\", \"Student_14\", \"Student_15\", \"Student_16\", \"Student_17\", \"Student_18\", \"Student_19\", \"Student_20\"], \"y\": [203, 312, 0, 0, 0, 439, 426, 304, 194, 375, 0, 368, 300, 525, 836, 567, 761, 77, 52, 148], \"type\": \"bar\", \"uid\": \"9a51e0ec-e364-11e8-9d8c-a1b30045967f\"}], {\"barmode\": \"stack\", \"title\": \"N\\u00famero de acessos aos v\\u00eddeos agrupados por estudante\", \"yaxis\": {\"dtick\": 300, \"exponentformat\": \"e\", \"gridcolor\": \"#bdbdbd\", \"showexponent\": \"all\", \"showticklabels\": true, \"tick0\": 0, \"titlefont\": {\"color\": \"lightgrey\", \"family\": \"Arial, sans-serif\"}}}, {\"showLink\": true, \"linkText\": \"Export to plot.ly\"})});</script>"
      ],
      "text/vnd.plotly.v1+html": [
       "<div id=\"ce989a6a-419c-4bd8-9fd5-feebd5d64425\" style=\"height: 525px; width: 100%;\" class=\"plotly-graph-div\"></div><script type=\"text/javascript\">require([\"plotly\"], function(Plotly) { window.PLOTLYENV=window.PLOTLYENV || {};window.PLOTLYENV.BASE_URL=\"https://plot.ly\";Plotly.newPlot(\"ce989a6a-419c-4bd8-9fd5-feebd5d64425\", [{\"name\": \"Video1\", \"x\": [\"Student_1\", \"Student_2\", \"Student_3\", \"Student_4\", \"Student_5\", \"Student_6\", \"Student_7\", \"Student_8\", \"Student_9\", \"Student_10\", \"Student_11\", \"Student_12\", \"Student_13\", \"Student_14\", \"Student_15\", \"Student_16\", \"Student_17\", \"Student_18\", \"Student_19\", \"Student_20\"], \"y\": [406, 185, 42, 18, 0, 505, 0, 144, 259, 247, 358, 0, 0, 165, 354, 95, 0, 291, 184, 52], \"type\": \"bar\", \"uid\": \"9a51dd0e-e364-11e8-9d8c-a1b30045967f\"}, {\"name\": \"Video2\", \"x\": [\"Student_1\", \"Student_2\", \"Student_3\", \"Student_4\", \"Student_5\", \"Student_6\", \"Student_7\", \"Student_8\", \"Student_9\", \"Student_10\", \"Student_11\", \"Student_12\", \"Student_13\", \"Student_14\", \"Student_15\", \"Student_16\", \"Student_17\", \"Student_18\", \"Student_19\", \"Student_20\"], \"y\": [492, 406, 469, 152, 792, 0, 0, 86, 533, 665, 552, 663, 329, 0, 553, 779, 260, 719, 0, 707], \"type\": \"bar\", \"uid\": \"9a51def8-e364-11e8-9d8c-a1b30045967f\"}, {\"name\": \"Video3\", \"x\": [\"Student_1\", \"Student_2\", \"Student_3\", \"Student_4\", \"Student_5\", \"Student_6\", \"Student_7\", \"Student_8\", \"Student_9\", \"Student_10\", \"Student_11\", \"Student_12\", \"Student_13\", \"Student_14\", \"Student_15\", \"Student_16\", \"Student_17\", \"Student_18\", \"Student_19\", \"Student_20\"], \"y\": [810, 370, 242, 805, 953, 0, 898, 671, 408, 0, 1822, 541, 641, 1071, 391, 342, 1327, 825, 0, 520], \"type\": \"bar\", \"uid\": \"9a51dfc0-e364-11e8-9d8c-a1b30045967f\"}, {\"name\": \"Video4\", \"x\": [\"Student_1\", \"Student_2\", \"Student_3\", \"Student_4\", \"Student_5\", \"Student_6\", \"Student_7\", \"Student_8\", \"Student_9\", \"Student_10\", \"Student_11\", \"Student_12\", \"Student_13\", \"Student_14\", \"Student_15\", \"Student_16\", \"Student_17\", \"Student_18\", \"Student_19\", \"Student_20\"], \"y\": [722, 0, 319, 0, 748, 605, 0, 112, 313, 240, 0, 0, 390, 102, 63, 526, 311, 443, 33, 0], \"type\": \"bar\", \"uid\": \"9a51e060-e364-11e8-9d8c-a1b30045967f\"}, {\"name\": \"Video5\", \"x\": [\"Student_1\", \"Student_2\", \"Student_3\", \"Student_4\", \"Student_5\", \"Student_6\", \"Student_7\", \"Student_8\", \"Student_9\", \"Student_10\", \"Student_11\", \"Student_12\", \"Student_13\", \"Student_14\", \"Student_15\", \"Student_16\", \"Student_17\", \"Student_18\", \"Student_19\", \"Student_20\"], \"y\": [203, 312, 0, 0, 0, 439, 426, 304, 194, 375, 0, 368, 300, 525, 836, 567, 761, 77, 52, 148], \"type\": \"bar\", \"uid\": \"9a51e0ec-e364-11e8-9d8c-a1b30045967f\"}], {\"barmode\": \"stack\", \"title\": \"N\\u00famero de acessos aos v\\u00eddeos agrupados por estudante\", \"yaxis\": {\"dtick\": 300, \"exponentformat\": \"e\", \"gridcolor\": \"#bdbdbd\", \"showexponent\": \"all\", \"showticklabels\": true, \"tick0\": 0, \"titlefont\": {\"color\": \"lightgrey\", \"family\": \"Arial, sans-serif\"}}}, {\"showLink\": true, \"linkText\": \"Export to plot.ly\"})});</script>"
      ]
     },
     "metadata": {},
     "output_type": "display_data"
    },
    {
     "data": {
      "application/vnd.plotly.v1+json": {
       "data": [
        {
         "name": "Video1",
         "orientation": "h",
         "type": "bar",
         "uid": "9a58ae0e-e364-11e8-9d8c-a1b30045967f",
         "x": [
          406,
          185,
          42,
          18,
          0,
          505,
          0,
          144,
          259,
          247,
          358,
          0,
          0,
          165,
          354,
          95,
          0,
          291,
          184,
          52
         ],
         "y": [
          "Student_1",
          "Student_2",
          "Student_3",
          "Student_4",
          "Student_5",
          "Student_6",
          "Student_7",
          "Student_8",
          "Student_9",
          "Student_10",
          "Student_11",
          "Student_12",
          "Student_13",
          "Student_14",
          "Student_15",
          "Student_16",
          "Student_17",
          "Student_18",
          "Student_19",
          "Student_20"
         ]
        },
        {
         "name": "Video2",
         "orientation": "h",
         "type": "bar",
         "uid": "9a58af8a-e364-11e8-9d8c-a1b30045967f",
         "x": [
          492,
          406,
          469,
          152,
          792,
          0,
          0,
          86,
          533,
          665,
          552,
          663,
          329,
          0,
          553,
          779,
          260,
          719,
          0,
          707
         ],
         "y": [
          "Student_1",
          "Student_2",
          "Student_3",
          "Student_4",
          "Student_5",
          "Student_6",
          "Student_7",
          "Student_8",
          "Student_9",
          "Student_10",
          "Student_11",
          "Student_12",
          "Student_13",
          "Student_14",
          "Student_15",
          "Student_16",
          "Student_17",
          "Student_18",
          "Student_19",
          "Student_20"
         ]
        },
        {
         "name": "Video3",
         "orientation": "h",
         "type": "bar",
         "uid": "9a58b052-e364-11e8-9d8c-a1b30045967f",
         "x": [
          810,
          370,
          242,
          805,
          953,
          0,
          898,
          671,
          408,
          0,
          1822,
          541,
          641,
          1071,
          391,
          342,
          1327,
          825,
          0,
          520
         ],
         "y": [
          "Student_1",
          "Student_2",
          "Student_3",
          "Student_4",
          "Student_5",
          "Student_6",
          "Student_7",
          "Student_8",
          "Student_9",
          "Student_10",
          "Student_11",
          "Student_12",
          "Student_13",
          "Student_14",
          "Student_15",
          "Student_16",
          "Student_17",
          "Student_18",
          "Student_19",
          "Student_20"
         ]
        },
        {
         "name": "Video4",
         "orientation": "h",
         "type": "bar",
         "uid": "9a58b0e8-e364-11e8-9d8c-a1b30045967f",
         "x": [
          722,
          0,
          319,
          0,
          748,
          605,
          0,
          112,
          313,
          240,
          0,
          0,
          390,
          102,
          63,
          526,
          311,
          443,
          33,
          0
         ],
         "y": [
          "Student_1",
          "Student_2",
          "Student_3",
          "Student_4",
          "Student_5",
          "Student_6",
          "Student_7",
          "Student_8",
          "Student_9",
          "Student_10",
          "Student_11",
          "Student_12",
          "Student_13",
          "Student_14",
          "Student_15",
          "Student_16",
          "Student_17",
          "Student_18",
          "Student_19",
          "Student_20"
         ]
        },
        {
         "name": "Video5",
         "orientation": "h",
         "type": "bar",
         "uid": "9a58b16a-e364-11e8-9d8c-a1b30045967f",
         "x": [
          203,
          312,
          0,
          0,
          0,
          439,
          426,
          304,
          194,
          375,
          0,
          368,
          300,
          525,
          836,
          567,
          761,
          77,
          52,
          148
         ],
         "y": [
          "Student_1",
          "Student_2",
          "Student_3",
          "Student_4",
          "Student_5",
          "Student_6",
          "Student_7",
          "Student_8",
          "Student_9",
          "Student_10",
          "Student_11",
          "Student_12",
          "Student_13",
          "Student_14",
          "Student_15",
          "Student_16",
          "Student_17",
          "Student_18",
          "Student_19",
          "Student_20"
         ]
        }
       ],
       "layout": {
        "barmode": "stack",
        "title": "Número de acessos aos vídeos agrupados por estudante",
        "yaxis": {
         "dtick": 1,
         "exponentformat": "e",
         "gridcolor": "#bdbdbd",
         "showexponent": "all",
         "showticklabels": true,
         "tick0": 0,
         "titlefont": {
          "color": "lightgrey",
          "family": "Arial, sans-serif"
         }
        }
       }
      },
      "text/html": [
       "<div id=\"53db79b2-7d50-4cb0-985b-4a4d06f634ed\" style=\"height: 525px; width: 100%;\" class=\"plotly-graph-div\"></div><script type=\"text/javascript\">require([\"plotly\"], function(Plotly) { window.PLOTLYENV=window.PLOTLYENV || {};window.PLOTLYENV.BASE_URL=\"https://plot.ly\";Plotly.newPlot(\"53db79b2-7d50-4cb0-985b-4a4d06f634ed\", [{\"name\": \"Video1\", \"orientation\": \"h\", \"x\": [406, 185, 42, 18, 0, 505, 0, 144, 259, 247, 358, 0, 0, 165, 354, 95, 0, 291, 184, 52], \"y\": [\"Student_1\", \"Student_2\", \"Student_3\", \"Student_4\", \"Student_5\", \"Student_6\", \"Student_7\", \"Student_8\", \"Student_9\", \"Student_10\", \"Student_11\", \"Student_12\", \"Student_13\", \"Student_14\", \"Student_15\", \"Student_16\", \"Student_17\", \"Student_18\", \"Student_19\", \"Student_20\"], \"type\": \"bar\", \"uid\": \"9a58ae0e-e364-11e8-9d8c-a1b30045967f\"}, {\"name\": \"Video2\", \"orientation\": \"h\", \"x\": [492, 406, 469, 152, 792, 0, 0, 86, 533, 665, 552, 663, 329, 0, 553, 779, 260, 719, 0, 707], \"y\": [\"Student_1\", \"Student_2\", \"Student_3\", \"Student_4\", \"Student_5\", \"Student_6\", \"Student_7\", \"Student_8\", \"Student_9\", \"Student_10\", \"Student_11\", \"Student_12\", \"Student_13\", \"Student_14\", \"Student_15\", \"Student_16\", \"Student_17\", \"Student_18\", \"Student_19\", \"Student_20\"], \"type\": \"bar\", \"uid\": \"9a58af8a-e364-11e8-9d8c-a1b30045967f\"}, {\"name\": \"Video3\", \"orientation\": \"h\", \"x\": [810, 370, 242, 805, 953, 0, 898, 671, 408, 0, 1822, 541, 641, 1071, 391, 342, 1327, 825, 0, 520], \"y\": [\"Student_1\", \"Student_2\", \"Student_3\", \"Student_4\", \"Student_5\", \"Student_6\", \"Student_7\", \"Student_8\", \"Student_9\", \"Student_10\", \"Student_11\", \"Student_12\", \"Student_13\", \"Student_14\", \"Student_15\", \"Student_16\", \"Student_17\", \"Student_18\", \"Student_19\", \"Student_20\"], \"type\": \"bar\", \"uid\": \"9a58b052-e364-11e8-9d8c-a1b30045967f\"}, {\"name\": \"Video4\", \"orientation\": \"h\", \"x\": [722, 0, 319, 0, 748, 605, 0, 112, 313, 240, 0, 0, 390, 102, 63, 526, 311, 443, 33, 0], \"y\": [\"Student_1\", \"Student_2\", \"Student_3\", \"Student_4\", \"Student_5\", \"Student_6\", \"Student_7\", \"Student_8\", \"Student_9\", \"Student_10\", \"Student_11\", \"Student_12\", \"Student_13\", \"Student_14\", \"Student_15\", \"Student_16\", \"Student_17\", \"Student_18\", \"Student_19\", \"Student_20\"], \"type\": \"bar\", \"uid\": \"9a58b0e8-e364-11e8-9d8c-a1b30045967f\"}, {\"name\": \"Video5\", \"orientation\": \"h\", \"x\": [203, 312, 0, 0, 0, 439, 426, 304, 194, 375, 0, 368, 300, 525, 836, 567, 761, 77, 52, 148], \"y\": [\"Student_1\", \"Student_2\", \"Student_3\", \"Student_4\", \"Student_5\", \"Student_6\", \"Student_7\", \"Student_8\", \"Student_9\", \"Student_10\", \"Student_11\", \"Student_12\", \"Student_13\", \"Student_14\", \"Student_15\", \"Student_16\", \"Student_17\", \"Student_18\", \"Student_19\", \"Student_20\"], \"type\": \"bar\", \"uid\": \"9a58b16a-e364-11e8-9d8c-a1b30045967f\"}], {\"barmode\": \"stack\", \"title\": \"N\\u00famero de acessos aos v\\u00eddeos agrupados por estudante\", \"yaxis\": {\"dtick\": 1, \"exponentformat\": \"e\", \"gridcolor\": \"#bdbdbd\", \"showexponent\": \"all\", \"showticklabels\": true, \"tick0\": 0, \"titlefont\": {\"color\": \"lightgrey\", \"family\": \"Arial, sans-serif\"}}}, {\"showLink\": true, \"linkText\": \"Export to plot.ly\"})});</script>"
      ],
      "text/vnd.plotly.v1+html": [
       "<div id=\"53db79b2-7d50-4cb0-985b-4a4d06f634ed\" style=\"height: 525px; width: 100%;\" class=\"plotly-graph-div\"></div><script type=\"text/javascript\">require([\"plotly\"], function(Plotly) { window.PLOTLYENV=window.PLOTLYENV || {};window.PLOTLYENV.BASE_URL=\"https://plot.ly\";Plotly.newPlot(\"53db79b2-7d50-4cb0-985b-4a4d06f634ed\", [{\"name\": \"Video1\", \"orientation\": \"h\", \"x\": [406, 185, 42, 18, 0, 505, 0, 144, 259, 247, 358, 0, 0, 165, 354, 95, 0, 291, 184, 52], \"y\": [\"Student_1\", \"Student_2\", \"Student_3\", \"Student_4\", \"Student_5\", \"Student_6\", \"Student_7\", \"Student_8\", \"Student_9\", \"Student_10\", \"Student_11\", \"Student_12\", \"Student_13\", \"Student_14\", \"Student_15\", \"Student_16\", \"Student_17\", \"Student_18\", \"Student_19\", \"Student_20\"], \"type\": \"bar\", \"uid\": \"9a58ae0e-e364-11e8-9d8c-a1b30045967f\"}, {\"name\": \"Video2\", \"orientation\": \"h\", \"x\": [492, 406, 469, 152, 792, 0, 0, 86, 533, 665, 552, 663, 329, 0, 553, 779, 260, 719, 0, 707], \"y\": [\"Student_1\", \"Student_2\", \"Student_3\", \"Student_4\", \"Student_5\", \"Student_6\", \"Student_7\", \"Student_8\", \"Student_9\", \"Student_10\", \"Student_11\", \"Student_12\", \"Student_13\", \"Student_14\", \"Student_15\", \"Student_16\", \"Student_17\", \"Student_18\", \"Student_19\", \"Student_20\"], \"type\": \"bar\", \"uid\": \"9a58af8a-e364-11e8-9d8c-a1b30045967f\"}, {\"name\": \"Video3\", \"orientation\": \"h\", \"x\": [810, 370, 242, 805, 953, 0, 898, 671, 408, 0, 1822, 541, 641, 1071, 391, 342, 1327, 825, 0, 520], \"y\": [\"Student_1\", \"Student_2\", \"Student_3\", \"Student_4\", \"Student_5\", \"Student_6\", \"Student_7\", \"Student_8\", \"Student_9\", \"Student_10\", \"Student_11\", \"Student_12\", \"Student_13\", \"Student_14\", \"Student_15\", \"Student_16\", \"Student_17\", \"Student_18\", \"Student_19\", \"Student_20\"], \"type\": \"bar\", \"uid\": \"9a58b052-e364-11e8-9d8c-a1b30045967f\"}, {\"name\": \"Video4\", \"orientation\": \"h\", \"x\": [722, 0, 319, 0, 748, 605, 0, 112, 313, 240, 0, 0, 390, 102, 63, 526, 311, 443, 33, 0], \"y\": [\"Student_1\", \"Student_2\", \"Student_3\", \"Student_4\", \"Student_5\", \"Student_6\", \"Student_7\", \"Student_8\", \"Student_9\", \"Student_10\", \"Student_11\", \"Student_12\", \"Student_13\", \"Student_14\", \"Student_15\", \"Student_16\", \"Student_17\", \"Student_18\", \"Student_19\", \"Student_20\"], \"type\": \"bar\", \"uid\": \"9a58b0e8-e364-11e8-9d8c-a1b30045967f\"}, {\"name\": \"Video5\", \"orientation\": \"h\", \"x\": [203, 312, 0, 0, 0, 439, 426, 304, 194, 375, 0, 368, 300, 525, 836, 567, 761, 77, 52, 148], \"y\": [\"Student_1\", \"Student_2\", \"Student_3\", \"Student_4\", \"Student_5\", \"Student_6\", \"Student_7\", \"Student_8\", \"Student_9\", \"Student_10\", \"Student_11\", \"Student_12\", \"Student_13\", \"Student_14\", \"Student_15\", \"Student_16\", \"Student_17\", \"Student_18\", \"Student_19\", \"Student_20\"], \"type\": \"bar\", \"uid\": \"9a58b16a-e364-11e8-9d8c-a1b30045967f\"}], {\"barmode\": \"stack\", \"title\": \"N\\u00famero de acessos aos v\\u00eddeos agrupados por estudante\", \"yaxis\": {\"dtick\": 1, \"exponentformat\": \"e\", \"gridcolor\": \"#bdbdbd\", \"showexponent\": \"all\", \"showticklabels\": true, \"tick0\": 0, \"titlefont\": {\"color\": \"lightgrey\", \"family\": \"Arial, sans-serif\"}}}, {\"showLink\": true, \"linkText\": \"Export to plot.ly\"})});</script>"
      ]
     },
     "metadata": {},
     "output_type": "display_data"
    }
   ],
   "source": [
    "run scripts/V004.py"
   ]
  },
  {
   "cell_type": "markdown",
   "metadata": {},
   "source": [
    "### View 005"
   ]
  },
  {
   "cell_type": "code",
   "execution_count": 2,
   "metadata": {
    "scrolled": false
   },
   "outputs": [
    {
     "data": {
      "text/html": [
       "<script>requirejs.config({paths: { 'plotly': ['https://cdn.plot.ly/plotly-latest.min']},});if(!window.Plotly) {{require(['plotly'],function(plotly) {window.Plotly=plotly;});}}</script>"
      ],
      "text/vnd.plotly.v1+html": [
       "<script>requirejs.config({paths: { 'plotly': ['https://cdn.plot.ly/plotly-latest.min']},});if(!window.Plotly) {{require(['plotly'],function(plotly) {window.Plotly=plotly;});}}</script>"
      ]
     },
     "metadata": {},
     "output_type": "display_data"
    },
    {
     "data": {
      "application/vnd.plotly.v1+json": {
       "data": [
        {
         "cells": {
          "align": [
           "left",
           "center"
          ],
          "fill": {
           "color": "#F5F8FF"
          },
          "values": [
           [
            "Student_1",
            "Student_2",
            "Student_3",
            "Student_4",
            "Student_5",
            "Student_6",
            "Student_7",
            "Student_8",
            "Student_9",
            "Student_10",
            "Student_11",
            "Student_12",
            "Student_13",
            "Student_14",
            "Student_15",
            "Student_16",
            "Student_17",
            "Student_18",
            "Student_19",
            "Student_20",
            "Student_21",
            "Student_22",
            "Student_23",
            "Student_24",
            "Student_25",
            "Student_26",
            "Student_27",
            "Student_28",
            "Student_29",
            "Student_30",
            "Student_31",
            "Student_32",
            "Student_33",
            "Student_34",
            "Student_35",
            "Student_36",
            "Student_37",
            "Student_38",
            "Student_39",
            "Student_40",
            "Student_41",
            "Student_42",
            "Student_43",
            "Student_44",
            "Student_45",
            "Student_46",
            "Student_47",
            "Student_48",
            "Student_49",
            "Student_50",
            "Student_51",
            "Student_52",
            "Student_53",
            "Student_54",
            "Student_55",
            "Student_56",
            "Student_57",
            "Student_58",
            "Student_59",
            "Student_60"
           ],
           [
            43,
            92,
            82,
            48,
            76,
            62,
            72,
            92,
            40,
            83,
            74,
            79,
            79,
            32,
            89,
            61,
            71,
            71,
            62,
            39,
            69,
            84,
            63,
            57,
            74,
            59,
            93,
            29,
            22,
            53,
            48,
            75,
            27,
            73,
            38,
            36,
            81,
            84,
            45,
            70,
            99,
            89,
            69,
            72,
            33,
            36,
            94,
            41,
            37,
            26,
            53,
            11,
            72,
            21,
            74,
            82,
            64,
            67,
            72,
            67
           ],
           [
            12,
            81,
            68,
            17,
            59,
            45,
            66,
            88,
            24,
            68,
            57,
            67,
            59,
            23,
            78,
            35,
            56,
            66,
            52,
            19,
            46,
            77,
            47,
            26,
            57,
            27,
            89,
            16,
            8,
            22,
            22,
            51,
            22,
            52,
            16,
            15,
            71,
            79,
            13,
            53,
            98,
            82,
            45,
            52,
            10,
            18,
            87,
            25,
            17,
            19,
            38,
            23,
            66,
            11,
            58,
            84,
            50,
            50,
            59,
            35
           ],
           [
            11,
            87,
            56,
            5,
            26,
            40,
            58,
            96,
            7,
            79,
            34,
            39,
            53,
            10,
            99,
            20,
            36,
            26,
            28,
            9,
            32,
            60,
            30,
            32,
            65,
            22,
            95,
            5,
            8,
            14,
            8,
            19,
            4,
            44,
            12,
            5,
            45,
            60,
            7,
            46,
            93,
            56,
            37,
            64,
            7,
            6,
            90,
            6,
            10,
            8,
            19,
            2,
            31,
            12,
            37,
            41,
            32,
            35,
            45,
            22
           ],
           [
            3,
            29,
            11,
            1,
            12,
            9,
            9,
            37,
            0,
            15,
            2,
            19,
            6,
            3,
            32,
            4,
            8,
            7,
            4,
            2,
            3,
            21,
            2,
            7,
            18,
            2,
            32,
            0,
            2,
            7,
            0,
            9,
            1,
            15,
            2,
            2,
            9,
            9,
            2,
            11,
            15,
            12,
            10,
            20,
            1,
            2,
            21,
            0,
            2,
            1,
            0,
            0,
            12,
            3,
            6,
            8,
            7,
            6,
            15,
            2
           ],
           [
            1,
            25,
            5,
            1,
            3,
            7,
            19,
            36,
            2,
            35,
            4,
            4,
            18,
            2,
            33,
            7,
            6,
            4,
            6,
            1,
            2,
            19,
            11,
            4,
            17,
            3,
            18,
            2,
            0,
            5,
            3,
            3,
            0,
            3,
            1,
            0,
            14,
            8,
            0,
            4,
            39,
            14,
            11,
            18,
            3,
            2,
            34,
            1,
            3,
            0,
            0,
            0,
            8,
            2,
            13,
            15,
            0,
            9,
            11,
            10
           ],
           [
            3,
            7,
            9,
            0,
            0,
            1,
            4,
            4,
            1,
            6,
            3,
            6,
            2,
            2,
            7,
            3,
            3,
            6,
            6,
            1,
            4,
            8,
            1,
            1,
            5,
            3,
            13,
            2,
            1,
            0,
            2,
            3,
            2,
            0,
            3,
            3,
            4,
            10,
            0,
            7,
            7,
            1,
            1,
            3,
            3,
            1,
            8,
            0,
            0,
            2,
            3,
            2,
            3,
            1,
            3,
            6,
            5,
            7,
            2,
            0
           ],
           [
            0,
            1,
            1,
            0,
            1,
            1,
            1,
            1,
            0,
            1,
            1,
            1,
            1,
            0,
            1,
            1,
            1,
            1,
            1,
            0,
            1,
            1,
            1,
            1,
            1,
            1,
            1,
            0,
            0,
            1,
            0,
            1,
            0,
            1,
            0,
            0,
            1,
            1,
            0,
            1,
            1,
            1,
            1,
            1,
            0,
            0,
            1,
            0,
            0,
            0,
            1,
            0,
            1,
            0,
            1,
            1,
            1,
            1,
            1,
            1
           ],
           [
            0,
            1,
            1,
            0,
            0,
            1,
            1,
            1,
            0,
            1,
            1,
            1,
            0,
            0,
            1,
            1,
            0,
            0,
            0,
            0,
            1,
            1,
            1,
            0,
            1,
            1,
            1,
            0,
            0,
            0,
            0,
            1,
            0,
            0,
            0,
            0,
            1,
            1,
            0,
            1,
            1,
            1,
            0,
            1,
            0,
            0,
            1,
            0,
            0,
            0,
            0,
            0,
            0,
            0,
            1,
            1,
            0,
            1,
            0,
            1
           ],
           [
            0,
            1,
            0,
            0,
            0,
            1,
            0,
            1,
            0,
            0,
            0,
            0,
            0,
            0,
            0,
            1,
            1,
            1,
            1,
            0,
            1,
            0,
            0,
            0,
            1,
            1,
            1,
            0,
            0,
            0,
            0,
            1,
            0,
            0,
            0,
            0,
            1,
            1,
            0,
            1,
            1,
            0,
            0,
            0,
            0,
            0,
            1,
            0,
            0,
            0,
            1,
            0,
            0,
            0,
            1,
            1,
            1,
            1,
            0,
            1
           ],
           [
            0,
            1,
            1,
            0,
            1,
            1,
            1,
            1,
            0,
            1,
            1,
            1,
            1,
            0,
            1,
            1,
            1,
            1,
            1,
            0,
            1,
            1,
            1,
            0,
            1,
            1,
            1,
            0,
            0,
            1,
            0,
            1,
            0,
            1,
            0,
            0,
            1,
            1,
            0,
            1,
            1,
            1,
            1,
            1,
            0,
            0,
            1,
            0,
            0,
            0,
            1,
            0,
            1,
            0,
            1,
            1,
            1,
            1,
            1,
            1
           ],
           [
            0,
            12,
            4,
            1,
            8,
            1,
            2,
            12,
            0,
            7,
            8,
            9,
            7,
            1,
            6,
            4,
            8,
            4,
            3,
            1,
            3,
            8,
            4,
            4,
            2,
            0,
            4,
            1,
            1,
            2,
            0,
            1,
            0,
            8,
            0,
            0,
            9,
            9,
            1,
            1,
            2,
            5,
            5,
            1,
            0,
            1,
            2,
            1,
            1,
            1,
            1,
            0,
            1,
            0,
            0,
            6,
            1,
            1,
            10,
            2
           ],
           [
            0,
            14,
            13,
            0,
            3,
            1,
            10,
            9,
            1,
            6,
            6,
            10,
            4,
            0,
            7,
            1,
            5,
            2,
            0,
            0,
            0,
            7,
            3,
            3,
            9,
            4,
            12,
            1,
            0,
            2,
            1,
            9,
            1,
            5,
            1,
            0,
            3,
            5,
            1,
            3,
            14,
            6,
            4,
            7,
            1,
            0,
            14,
            0,
            0,
            0,
            0,
            1,
            7,
            0,
            2,
            11,
            2,
            1,
            7,
            0
           ],
           [
            1,
            8,
            3,
            0,
            5,
            0,
            8,
            12,
            1,
            8,
            4,
            4,
            0,
            0,
            6,
            3,
            10,
            7,
            3,
            1,
            0,
            2,
            1,
            3,
            7,
            4,
            9,
            1,
            1,
            3,
            1,
            9,
            0,
            0,
            0,
            1,
            5,
            8,
            0,
            0,
            12,
            9,
            3,
            0,
            0,
            0,
            8,
            1,
            1,
            0,
            4,
            1,
            4,
            1,
            1,
            9,
            4,
            4,
            10,
            2
           ],
           [
            0,
            12,
            9,
            1,
            9,
            1,
            5,
            9,
            0,
            8,
            2,
            1,
            4,
            0,
            10,
            2,
            5,
            3,
            1,
            1,
            4,
            8,
            5,
            1,
            7,
            3,
            9,
            1,
            1,
            1,
            0,
            6,
            1,
            7,
            0,
            1,
            5,
            6,
            1,
            1,
            14,
            11,
            1,
            8,
            0,
            1,
            14,
            0,
            1,
            1,
            2,
            1,
            6,
            1,
            8,
            10,
            2,
            1,
            3,
            1
           ],
           [
            0,
            2,
            7,
            1,
            0,
            1,
            2,
            2,
            0,
            9,
            10,
            3,
            8,
            1,
            1,
            5,
            3,
            9,
            4,
            0,
            5,
            3,
            4,
            0,
            8,
            2,
            3,
            0,
            1,
            3,
            1,
            2,
            0,
            6,
            0,
            1,
            9,
            2,
            1,
            4,
            8,
            9,
            4,
            8,
            0,
            0,
            4,
            0,
            0,
            0,
            4,
            1,
            4,
            1,
            4,
            8,
            2,
            1,
            9,
            1
           ],
           [
            0,
            12,
            10,
            0,
            8,
            0,
            1,
            8,
            1,
            4,
            8,
            6,
            9,
            1,
            5,
            2,
            3,
            3,
            4,
            1,
            3,
            8,
            1,
            0,
            4,
            4,
            9,
            1,
            0,
            1,
            0,
            1,
            0,
            3,
            1,
            0,
            6,
            3,
            1,
            2,
            11,
            8,
            0,
            4,
            1,
            0,
            8,
            1,
            1,
            0,
            1,
            1,
            1,
            1,
            5,
            8,
            5,
            0,
            8,
            2
           ],
           [
            1,
            11,
            2,
            1,
            2,
            2,
            5,
            8,
            1,
            7,
            0,
            7,
            0,
            0,
            4,
            5,
            5,
            1,
            3,
            1,
            2,
            1,
            1,
            1,
            7,
            3,
            12,
            1,
            0,
            1,
            1,
            5,
            0,
            2,
            0,
            1,
            1,
            5,
            1,
            5,
            3,
            5,
            5,
            3,
            0,
            1,
            5,
            1,
            0,
            0,
            4,
            1,
            7,
            1,
            8,
            6,
            0,
            2,
            0,
            3
           ],
           [
            0,
            7,
            8,
            0,
            6,
            1,
            5,
            12,
            0,
            11,
            4,
            2,
            7,
            1,
            12,
            1,
            4,
            2,
            4,
            0,
            5,
            12,
            5,
            0,
            5,
            0,
            4,
            1,
            1,
            0,
            0,
            7,
            1,
            3,
            0,
            0,
            9,
            12,
            1,
            4,
            4,
            7,
            3,
            4,
            1,
            0,
            12,
            0,
            1,
            1,
            2,
            0,
            2,
            0,
            10,
            5,
            5,
            2,
            5,
            5
           ]
          ]
         },
         "header": {
          "align": "center",
          "fill": {
           "color": "#C2D4FF"
          },
          "values": [
           "Students",
           "Grade",
           "Access",
           "Forum Access",
           "Forum Post",
           "Forum Replies",
           "Forum Add Thread",
           "Assign1",
           "Assign2",
           "Assign3",
           "Assign4",
           "Video1",
           "Video2",
           "Quiz1",
           "Quiz2",
           "Pdf1",
           "Pdf2",
           "Ebook1",
           "Ebook2"
          ]
         },
         "type": "table",
         "uid": "27f29bb0-e40c-11e8-a1d0-d7b4c6107baf"
        }
       ],
       "layout": {}
      },
      "text/html": [
       "<div id=\"22a4c856-b460-4b14-a3ec-25058c2da676\" style=\"height: 525px; width: 100%;\" class=\"plotly-graph-div\"></div><script type=\"text/javascript\">require([\"plotly\"], function(Plotly) { window.PLOTLYENV=window.PLOTLYENV || {};window.PLOTLYENV.BASE_URL=\"https://plot.ly\";Plotly.newPlot(\"22a4c856-b460-4b14-a3ec-25058c2da676\", [{\"cells\": {\"align\": [\"left\", \"center\"], \"fill\": {\"color\": \"#F5F8FF\"}, \"values\": [[\"Student_1\", \"Student_2\", \"Student_3\", \"Student_4\", \"Student_5\", \"Student_6\", \"Student_7\", \"Student_8\", \"Student_9\", \"Student_10\", \"Student_11\", \"Student_12\", \"Student_13\", \"Student_14\", \"Student_15\", \"Student_16\", \"Student_17\", \"Student_18\", \"Student_19\", \"Student_20\", \"Student_21\", \"Student_22\", \"Student_23\", \"Student_24\", \"Student_25\", \"Student_26\", \"Student_27\", \"Student_28\", \"Student_29\", \"Student_30\", \"Student_31\", \"Student_32\", \"Student_33\", \"Student_34\", \"Student_35\", \"Student_36\", \"Student_37\", \"Student_38\", \"Student_39\", \"Student_40\", \"Student_41\", \"Student_42\", \"Student_43\", \"Student_44\", \"Student_45\", \"Student_46\", \"Student_47\", \"Student_48\", \"Student_49\", \"Student_50\", \"Student_51\", \"Student_52\", \"Student_53\", \"Student_54\", \"Student_55\", \"Student_56\", \"Student_57\", \"Student_58\", \"Student_59\", \"Student_60\"], [43, 92, 82, 48, 76, 62, 72, 92, 40, 83, 74, 79, 79, 32, 89, 61, 71, 71, 62, 39, 69, 84, 63, 57, 74, 59, 93, 29, 22, 53, 48, 75, 27, 73, 38, 36, 81, 84, 45, 70, 99, 89, 69, 72, 33, 36, 94, 41, 37, 26, 53, 11, 72, 21, 74, 82, 64, 67, 72, 67], [12, 81, 68, 17, 59, 45, 66, 88, 24, 68, 57, 67, 59, 23, 78, 35, 56, 66, 52, 19, 46, 77, 47, 26, 57, 27, 89, 16, 8, 22, 22, 51, 22, 52, 16, 15, 71, 79, 13, 53, 98, 82, 45, 52, 10, 18, 87, 25, 17, 19, 38, 23, 66, 11, 58, 84, 50, 50, 59, 35], [11, 87, 56, 5, 26, 40, 58, 96, 7, 79, 34, 39, 53, 10, 99, 20, 36, 26, 28, 9, 32, 60, 30, 32, 65, 22, 95, 5, 8, 14, 8, 19, 4, 44, 12, 5, 45, 60, 7, 46, 93, 56, 37, 64, 7, 6, 90, 6, 10, 8, 19, 2, 31, 12, 37, 41, 32, 35, 45, 22], [3, 29, 11, 1, 12, 9, 9, 37, 0, 15, 2, 19, 6, 3, 32, 4, 8, 7, 4, 2, 3, 21, 2, 7, 18, 2, 32, 0, 2, 7, 0, 9, 1, 15, 2, 2, 9, 9, 2, 11, 15, 12, 10, 20, 1, 2, 21, 0, 2, 1, 0, 0, 12, 3, 6, 8, 7, 6, 15, 2], [1, 25, 5, 1, 3, 7, 19, 36, 2, 35, 4, 4, 18, 2, 33, 7, 6, 4, 6, 1, 2, 19, 11, 4, 17, 3, 18, 2, 0, 5, 3, 3, 0, 3, 1, 0, 14, 8, 0, 4, 39, 14, 11, 18, 3, 2, 34, 1, 3, 0, 0, 0, 8, 2, 13, 15, 0, 9, 11, 10], [3, 7, 9, 0, 0, 1, 4, 4, 1, 6, 3, 6, 2, 2, 7, 3, 3, 6, 6, 1, 4, 8, 1, 1, 5, 3, 13, 2, 1, 0, 2, 3, 2, 0, 3, 3, 4, 10, 0, 7, 7, 1, 1, 3, 3, 1, 8, 0, 0, 2, 3, 2, 3, 1, 3, 6, 5, 7, 2, 0], [0, 1, 1, 0, 1, 1, 1, 1, 0, 1, 1, 1, 1, 0, 1, 1, 1, 1, 1, 0, 1, 1, 1, 1, 1, 1, 1, 0, 0, 1, 0, 1, 0, 1, 0, 0, 1, 1, 0, 1, 1, 1, 1, 1, 0, 0, 1, 0, 0, 0, 1, 0, 1, 0, 1, 1, 1, 1, 1, 1], [0, 1, 1, 0, 0, 1, 1, 1, 0, 1, 1, 1, 0, 0, 1, 1, 0, 0, 0, 0, 1, 1, 1, 0, 1, 1, 1, 0, 0, 0, 0, 1, 0, 0, 0, 0, 1, 1, 0, 1, 1, 1, 0, 1, 0, 0, 1, 0, 0, 0, 0, 0, 0, 0, 1, 1, 0, 1, 0, 1], [0, 1, 0, 0, 0, 1, 0, 1, 0, 0, 0, 0, 0, 0, 0, 1, 1, 1, 1, 0, 1, 0, 0, 0, 1, 1, 1, 0, 0, 0, 0, 1, 0, 0, 0, 0, 1, 1, 0, 1, 1, 0, 0, 0, 0, 0, 1, 0, 0, 0, 1, 0, 0, 0, 1, 1, 1, 1, 0, 1], [0, 1, 1, 0, 1, 1, 1, 1, 0, 1, 1, 1, 1, 0, 1, 1, 1, 1, 1, 0, 1, 1, 1, 0, 1, 1, 1, 0, 0, 1, 0, 1, 0, 1, 0, 0, 1, 1, 0, 1, 1, 1, 1, 1, 0, 0, 1, 0, 0, 0, 1, 0, 1, 0, 1, 1, 1, 1, 1, 1], [0, 12, 4, 1, 8, 1, 2, 12, 0, 7, 8, 9, 7, 1, 6, 4, 8, 4, 3, 1, 3, 8, 4, 4, 2, 0, 4, 1, 1, 2, 0, 1, 0, 8, 0, 0, 9, 9, 1, 1, 2, 5, 5, 1, 0, 1, 2, 1, 1, 1, 1, 0, 1, 0, 0, 6, 1, 1, 10, 2], [0, 14, 13, 0, 3, 1, 10, 9, 1, 6, 6, 10, 4, 0, 7, 1, 5, 2, 0, 0, 0, 7, 3, 3, 9, 4, 12, 1, 0, 2, 1, 9, 1, 5, 1, 0, 3, 5, 1, 3, 14, 6, 4, 7, 1, 0, 14, 0, 0, 0, 0, 1, 7, 0, 2, 11, 2, 1, 7, 0], [1, 8, 3, 0, 5, 0, 8, 12, 1, 8, 4, 4, 0, 0, 6, 3, 10, 7, 3, 1, 0, 2, 1, 3, 7, 4, 9, 1, 1, 3, 1, 9, 0, 0, 0, 1, 5, 8, 0, 0, 12, 9, 3, 0, 0, 0, 8, 1, 1, 0, 4, 1, 4, 1, 1, 9, 4, 4, 10, 2], [0, 12, 9, 1, 9, 1, 5, 9, 0, 8, 2, 1, 4, 0, 10, 2, 5, 3, 1, 1, 4, 8, 5, 1, 7, 3, 9, 1, 1, 1, 0, 6, 1, 7, 0, 1, 5, 6, 1, 1, 14, 11, 1, 8, 0, 1, 14, 0, 1, 1, 2, 1, 6, 1, 8, 10, 2, 1, 3, 1], [0, 2, 7, 1, 0, 1, 2, 2, 0, 9, 10, 3, 8, 1, 1, 5, 3, 9, 4, 0, 5, 3, 4, 0, 8, 2, 3, 0, 1, 3, 1, 2, 0, 6, 0, 1, 9, 2, 1, 4, 8, 9, 4, 8, 0, 0, 4, 0, 0, 0, 4, 1, 4, 1, 4, 8, 2, 1, 9, 1], [0, 12, 10, 0, 8, 0, 1, 8, 1, 4, 8, 6, 9, 1, 5, 2, 3, 3, 4, 1, 3, 8, 1, 0, 4, 4, 9, 1, 0, 1, 0, 1, 0, 3, 1, 0, 6, 3, 1, 2, 11, 8, 0, 4, 1, 0, 8, 1, 1, 0, 1, 1, 1, 1, 5, 8, 5, 0, 8, 2], [1, 11, 2, 1, 2, 2, 5, 8, 1, 7, 0, 7, 0, 0, 4, 5, 5, 1, 3, 1, 2, 1, 1, 1, 7, 3, 12, 1, 0, 1, 1, 5, 0, 2, 0, 1, 1, 5, 1, 5, 3, 5, 5, 3, 0, 1, 5, 1, 0, 0, 4, 1, 7, 1, 8, 6, 0, 2, 0, 3], [0, 7, 8, 0, 6, 1, 5, 12, 0, 11, 4, 2, 7, 1, 12, 1, 4, 2, 4, 0, 5, 12, 5, 0, 5, 0, 4, 1, 1, 0, 0, 7, 1, 3, 0, 0, 9, 12, 1, 4, 4, 7, 3, 4, 1, 0, 12, 0, 1, 1, 2, 0, 2, 0, 10, 5, 5, 2, 5, 5]]}, \"header\": {\"align\": \"center\", \"fill\": {\"color\": \"#C2D4FF\"}, \"values\": [\"Students\", \"Grade\", \"Access\", \"Forum Access\", \"Forum Post\", \"Forum Replies\", \"Forum Add Thread\", \"Assign1\", \"Assign2\", \"Assign3\", \"Assign4\", \"Video1\", \"Video2\", \"Quiz1\", \"Quiz2\", \"Pdf1\", \"Pdf2\", \"Ebook1\", \"Ebook2\"]}, \"type\": \"table\", \"uid\": \"27f49ff0-e40c-11e8-a1d0-d7b4c6107baf\"}], {}, {\"showLink\": true, \"linkText\": \"Export to plot.ly\"})});</script>"
      ],
      "text/vnd.plotly.v1+html": [
       "<div id=\"22a4c856-b460-4b14-a3ec-25058c2da676\" style=\"height: 525px; width: 100%;\" class=\"plotly-graph-div\"></div><script type=\"text/javascript\">require([\"plotly\"], function(Plotly) { window.PLOTLYENV=window.PLOTLYENV || {};window.PLOTLYENV.BASE_URL=\"https://plot.ly\";Plotly.newPlot(\"22a4c856-b460-4b14-a3ec-25058c2da676\", [{\"cells\": {\"align\": [\"left\", \"center\"], \"fill\": {\"color\": \"#F5F8FF\"}, \"values\": [[\"Student_1\", \"Student_2\", \"Student_3\", \"Student_4\", \"Student_5\", \"Student_6\", \"Student_7\", \"Student_8\", \"Student_9\", \"Student_10\", \"Student_11\", \"Student_12\", \"Student_13\", \"Student_14\", \"Student_15\", \"Student_16\", \"Student_17\", \"Student_18\", \"Student_19\", \"Student_20\", \"Student_21\", \"Student_22\", \"Student_23\", \"Student_24\", \"Student_25\", \"Student_26\", \"Student_27\", \"Student_28\", \"Student_29\", \"Student_30\", \"Student_31\", \"Student_32\", \"Student_33\", \"Student_34\", \"Student_35\", \"Student_36\", \"Student_37\", \"Student_38\", \"Student_39\", \"Student_40\", \"Student_41\", \"Student_42\", \"Student_43\", \"Student_44\", \"Student_45\", \"Student_46\", \"Student_47\", \"Student_48\", \"Student_49\", \"Student_50\", \"Student_51\", \"Student_52\", \"Student_53\", \"Student_54\", \"Student_55\", \"Student_56\", \"Student_57\", \"Student_58\", \"Student_59\", \"Student_60\"], [43, 92, 82, 48, 76, 62, 72, 92, 40, 83, 74, 79, 79, 32, 89, 61, 71, 71, 62, 39, 69, 84, 63, 57, 74, 59, 93, 29, 22, 53, 48, 75, 27, 73, 38, 36, 81, 84, 45, 70, 99, 89, 69, 72, 33, 36, 94, 41, 37, 26, 53, 11, 72, 21, 74, 82, 64, 67, 72, 67], [12, 81, 68, 17, 59, 45, 66, 88, 24, 68, 57, 67, 59, 23, 78, 35, 56, 66, 52, 19, 46, 77, 47, 26, 57, 27, 89, 16, 8, 22, 22, 51, 22, 52, 16, 15, 71, 79, 13, 53, 98, 82, 45, 52, 10, 18, 87, 25, 17, 19, 38, 23, 66, 11, 58, 84, 50, 50, 59, 35], [11, 87, 56, 5, 26, 40, 58, 96, 7, 79, 34, 39, 53, 10, 99, 20, 36, 26, 28, 9, 32, 60, 30, 32, 65, 22, 95, 5, 8, 14, 8, 19, 4, 44, 12, 5, 45, 60, 7, 46, 93, 56, 37, 64, 7, 6, 90, 6, 10, 8, 19, 2, 31, 12, 37, 41, 32, 35, 45, 22], [3, 29, 11, 1, 12, 9, 9, 37, 0, 15, 2, 19, 6, 3, 32, 4, 8, 7, 4, 2, 3, 21, 2, 7, 18, 2, 32, 0, 2, 7, 0, 9, 1, 15, 2, 2, 9, 9, 2, 11, 15, 12, 10, 20, 1, 2, 21, 0, 2, 1, 0, 0, 12, 3, 6, 8, 7, 6, 15, 2], [1, 25, 5, 1, 3, 7, 19, 36, 2, 35, 4, 4, 18, 2, 33, 7, 6, 4, 6, 1, 2, 19, 11, 4, 17, 3, 18, 2, 0, 5, 3, 3, 0, 3, 1, 0, 14, 8, 0, 4, 39, 14, 11, 18, 3, 2, 34, 1, 3, 0, 0, 0, 8, 2, 13, 15, 0, 9, 11, 10], [3, 7, 9, 0, 0, 1, 4, 4, 1, 6, 3, 6, 2, 2, 7, 3, 3, 6, 6, 1, 4, 8, 1, 1, 5, 3, 13, 2, 1, 0, 2, 3, 2, 0, 3, 3, 4, 10, 0, 7, 7, 1, 1, 3, 3, 1, 8, 0, 0, 2, 3, 2, 3, 1, 3, 6, 5, 7, 2, 0], [0, 1, 1, 0, 1, 1, 1, 1, 0, 1, 1, 1, 1, 0, 1, 1, 1, 1, 1, 0, 1, 1, 1, 1, 1, 1, 1, 0, 0, 1, 0, 1, 0, 1, 0, 0, 1, 1, 0, 1, 1, 1, 1, 1, 0, 0, 1, 0, 0, 0, 1, 0, 1, 0, 1, 1, 1, 1, 1, 1], [0, 1, 1, 0, 0, 1, 1, 1, 0, 1, 1, 1, 0, 0, 1, 1, 0, 0, 0, 0, 1, 1, 1, 0, 1, 1, 1, 0, 0, 0, 0, 1, 0, 0, 0, 0, 1, 1, 0, 1, 1, 1, 0, 1, 0, 0, 1, 0, 0, 0, 0, 0, 0, 0, 1, 1, 0, 1, 0, 1], [0, 1, 0, 0, 0, 1, 0, 1, 0, 0, 0, 0, 0, 0, 0, 1, 1, 1, 1, 0, 1, 0, 0, 0, 1, 1, 1, 0, 0, 0, 0, 1, 0, 0, 0, 0, 1, 1, 0, 1, 1, 0, 0, 0, 0, 0, 1, 0, 0, 0, 1, 0, 0, 0, 1, 1, 1, 1, 0, 1], [0, 1, 1, 0, 1, 1, 1, 1, 0, 1, 1, 1, 1, 0, 1, 1, 1, 1, 1, 0, 1, 1, 1, 0, 1, 1, 1, 0, 0, 1, 0, 1, 0, 1, 0, 0, 1, 1, 0, 1, 1, 1, 1, 1, 0, 0, 1, 0, 0, 0, 1, 0, 1, 0, 1, 1, 1, 1, 1, 1], [0, 12, 4, 1, 8, 1, 2, 12, 0, 7, 8, 9, 7, 1, 6, 4, 8, 4, 3, 1, 3, 8, 4, 4, 2, 0, 4, 1, 1, 2, 0, 1, 0, 8, 0, 0, 9, 9, 1, 1, 2, 5, 5, 1, 0, 1, 2, 1, 1, 1, 1, 0, 1, 0, 0, 6, 1, 1, 10, 2], [0, 14, 13, 0, 3, 1, 10, 9, 1, 6, 6, 10, 4, 0, 7, 1, 5, 2, 0, 0, 0, 7, 3, 3, 9, 4, 12, 1, 0, 2, 1, 9, 1, 5, 1, 0, 3, 5, 1, 3, 14, 6, 4, 7, 1, 0, 14, 0, 0, 0, 0, 1, 7, 0, 2, 11, 2, 1, 7, 0], [1, 8, 3, 0, 5, 0, 8, 12, 1, 8, 4, 4, 0, 0, 6, 3, 10, 7, 3, 1, 0, 2, 1, 3, 7, 4, 9, 1, 1, 3, 1, 9, 0, 0, 0, 1, 5, 8, 0, 0, 12, 9, 3, 0, 0, 0, 8, 1, 1, 0, 4, 1, 4, 1, 1, 9, 4, 4, 10, 2], [0, 12, 9, 1, 9, 1, 5, 9, 0, 8, 2, 1, 4, 0, 10, 2, 5, 3, 1, 1, 4, 8, 5, 1, 7, 3, 9, 1, 1, 1, 0, 6, 1, 7, 0, 1, 5, 6, 1, 1, 14, 11, 1, 8, 0, 1, 14, 0, 1, 1, 2, 1, 6, 1, 8, 10, 2, 1, 3, 1], [0, 2, 7, 1, 0, 1, 2, 2, 0, 9, 10, 3, 8, 1, 1, 5, 3, 9, 4, 0, 5, 3, 4, 0, 8, 2, 3, 0, 1, 3, 1, 2, 0, 6, 0, 1, 9, 2, 1, 4, 8, 9, 4, 8, 0, 0, 4, 0, 0, 0, 4, 1, 4, 1, 4, 8, 2, 1, 9, 1], [0, 12, 10, 0, 8, 0, 1, 8, 1, 4, 8, 6, 9, 1, 5, 2, 3, 3, 4, 1, 3, 8, 1, 0, 4, 4, 9, 1, 0, 1, 0, 1, 0, 3, 1, 0, 6, 3, 1, 2, 11, 8, 0, 4, 1, 0, 8, 1, 1, 0, 1, 1, 1, 1, 5, 8, 5, 0, 8, 2], [1, 11, 2, 1, 2, 2, 5, 8, 1, 7, 0, 7, 0, 0, 4, 5, 5, 1, 3, 1, 2, 1, 1, 1, 7, 3, 12, 1, 0, 1, 1, 5, 0, 2, 0, 1, 1, 5, 1, 5, 3, 5, 5, 3, 0, 1, 5, 1, 0, 0, 4, 1, 7, 1, 8, 6, 0, 2, 0, 3], [0, 7, 8, 0, 6, 1, 5, 12, 0, 11, 4, 2, 7, 1, 12, 1, 4, 2, 4, 0, 5, 12, 5, 0, 5, 0, 4, 1, 1, 0, 0, 7, 1, 3, 0, 0, 9, 12, 1, 4, 4, 7, 3, 4, 1, 0, 12, 0, 1, 1, 2, 0, 2, 0, 10, 5, 5, 2, 5, 5]]}, \"header\": {\"align\": \"center\", \"fill\": {\"color\": \"#C2D4FF\"}, \"values\": [\"Students\", \"Grade\", \"Access\", \"Forum Access\", \"Forum Post\", \"Forum Replies\", \"Forum Add Thread\", \"Assign1\", \"Assign2\", \"Assign3\", \"Assign4\", \"Video1\", \"Video2\", \"Quiz1\", \"Quiz2\", \"Pdf1\", \"Pdf2\", \"Ebook1\", \"Ebook2\"]}, \"type\": \"table\", \"uid\": \"27f49ff0-e40c-11e8-a1d0-d7b4c6107baf\"}], {}, {\"showLink\": true, \"linkText\": \"Export to plot.ly\"})});</script>"
      ]
     },
     "metadata": {},
     "output_type": "display_data"
    },
    {
     "data": {
      "application/vnd.plotly.v1+json": {
       "data": [
        {
         "marker": {
          "color": "rgb(255,0,0)",
          "colorscale": "Viridis",
          "line": {
           "width": 2
          },
          "size": 12,
          "symbol": 0
         },
         "mode": "markers",
         "name": "Student_1",
         "text": [
          "Student_1"
         ],
         "type": "scatter",
         "uid": "282b5770-e40c-11e8-a1d0-d7b4c6107baf",
         "x": [
          12
         ],
         "y": [
          43
         ]
        },
        {
         "marker": {
          "color": "rgb(0,255,0)",
          "colorscale": "Viridis",
          "line": {
           "width": 2
          },
          "size": 12,
          "symbol": 2
         },
         "mode": "markers",
         "name": "Student_2",
         "text": [
          "Student_2"
         ],
         "type": "scatter",
         "uid": "282b58ec-e40c-11e8-a1d0-d7b4c6107baf",
         "x": [
          81
         ],
         "y": [
          92
         ]
        },
        {
         "marker": {
          "color": "rgb(0,0,255)",
          "colorscale": "Viridis",
          "line": {
           "width": 2
          },
          "size": 12,
          "symbol": 1
         },
         "mode": "markers",
         "name": "Student_3",
         "text": [
          "Student_3"
         ],
         "type": "scatter",
         "uid": "282b59be-e40c-11e8-a1d0-d7b4c6107baf",
         "x": [
          68
         ],
         "y": [
          82
         ]
        },
        {
         "marker": {
          "color": "rgb(255,0,0)",
          "colorscale": "Viridis",
          "line": {
           "width": 2
          },
          "size": 12,
          "symbol": 0
         },
         "mode": "markers",
         "name": "Student_4",
         "text": [
          "Student_4"
         ],
         "type": "scatter",
         "uid": "282b5a68-e40c-11e8-a1d0-d7b4c6107baf",
         "x": [
          17
         ],
         "y": [
          48
         ]
        },
        {
         "marker": {
          "color": "rgb(127,0,127)",
          "colorscale": "Viridis",
          "line": {
           "width": 2
          },
          "size": 12,
          "symbol": 3
         },
         "mode": "markers",
         "name": "Student_5",
         "text": [
          "Student_5"
         ],
         "type": "scatter",
         "uid": "282b5af4-e40c-11e8-a1d0-d7b4c6107baf",
         "x": [
          59
         ],
         "y": [
          76
         ]
        },
        {
         "marker": {
          "color": "rgb(127,0,127)",
          "colorscale": "Viridis",
          "line": {
           "width": 2
          },
          "size": 12,
          "symbol": 3
         },
         "mode": "markers",
         "name": "Student_6",
         "text": [
          "Student_6"
         ],
         "type": "scatter",
         "uid": "282b5b80-e40c-11e8-a1d0-d7b4c6107baf",
         "x": [
          45
         ],
         "y": [
          62
         ]
        },
        {
         "marker": {
          "color": "rgb(0,0,255)",
          "colorscale": "Viridis",
          "line": {
           "width": 2
          },
          "size": 12,
          "symbol": 1
         },
         "mode": "markers",
         "name": "Student_7",
         "text": [
          "Student_7"
         ],
         "type": "scatter",
         "uid": "282b5c0c-e40c-11e8-a1d0-d7b4c6107baf",
         "x": [
          66
         ],
         "y": [
          72
         ]
        },
        {
         "marker": {
          "color": "rgb(0,255,0)",
          "colorscale": "Viridis",
          "line": {
           "width": 2
          },
          "size": 12,
          "symbol": 2
         },
         "mode": "markers",
         "name": "Student_8",
         "text": [
          "Student_8"
         ],
         "type": "scatter",
         "uid": "282b5c8e-e40c-11e8-a1d0-d7b4c6107baf",
         "x": [
          88
         ],
         "y": [
          92
         ]
        },
        {
         "marker": {
          "color": "rgb(255,0,0)",
          "colorscale": "Viridis",
          "line": {
           "width": 2
          },
          "size": 12,
          "symbol": 0
         },
         "mode": "markers",
         "name": "Student_9",
         "text": [
          "Student_9"
         ],
         "type": "scatter",
         "uid": "282b5d10-e40c-11e8-a1d0-d7b4c6107baf",
         "x": [
          24
         ],
         "y": [
          40
         ]
        },
        {
         "marker": {
          "color": "rgb(0,255,0)",
          "colorscale": "Viridis",
          "line": {
           "width": 2
          },
          "size": 12,
          "symbol": 2
         },
         "mode": "markers",
         "name": "Student_10",
         "text": [
          "Student_10"
         ],
         "type": "scatter",
         "uid": "282b5d9c-e40c-11e8-a1d0-d7b4c6107baf",
         "x": [
          68
         ],
         "y": [
          83
         ]
        },
        {
         "marker": {
          "color": "rgb(127,0,127)",
          "colorscale": "Viridis",
          "line": {
           "width": 2
          },
          "size": 12,
          "symbol": 3
         },
         "mode": "markers",
         "name": "Student_11",
         "text": [
          "Student_11"
         ],
         "type": "scatter",
         "uid": "282b5e1e-e40c-11e8-a1d0-d7b4c6107baf",
         "x": [
          57
         ],
         "y": [
          74
         ]
        },
        {
         "marker": {
          "color": "rgb(0,0,255)",
          "colorscale": "Viridis",
          "line": {
           "width": 2
          },
          "size": 12,
          "symbol": 1
         },
         "mode": "markers",
         "name": "Student_12",
         "text": [
          "Student_12"
         ],
         "type": "scatter",
         "uid": "282b5ea0-e40c-11e8-a1d0-d7b4c6107baf",
         "x": [
          67
         ],
         "y": [
          79
         ]
        },
        {
         "marker": {
          "color": "rgb(0,0,255)",
          "colorscale": "Viridis",
          "line": {
           "width": 2
          },
          "size": 12,
          "symbol": 1
         },
         "mode": "markers",
         "name": "Student_13",
         "text": [
          "Student_13"
         ],
         "type": "scatter",
         "uid": "282b5f22-e40c-11e8-a1d0-d7b4c6107baf",
         "x": [
          59
         ],
         "y": [
          79
         ]
        },
        {
         "marker": {
          "color": "rgb(255,0,0)",
          "colorscale": "Viridis",
          "line": {
           "width": 2
          },
          "size": 12,
          "symbol": 0
         },
         "mode": "markers",
         "name": "Student_14",
         "text": [
          "Student_14"
         ],
         "type": "scatter",
         "uid": "282b5fa4-e40c-11e8-a1d0-d7b4c6107baf",
         "x": [
          23
         ],
         "y": [
          32
         ]
        },
        {
         "marker": {
          "color": "rgb(0,255,0)",
          "colorscale": "Viridis",
          "line": {
           "width": 2
          },
          "size": 12,
          "symbol": 2
         },
         "mode": "markers",
         "name": "Student_15",
         "text": [
          "Student_15"
         ],
         "type": "scatter",
         "uid": "282b6030-e40c-11e8-a1d0-d7b4c6107baf",
         "x": [
          78
         ],
         "y": [
          89
         ]
        },
        {
         "marker": {
          "color": "rgb(127,0,127)",
          "colorscale": "Viridis",
          "line": {
           "width": 2
          },
          "size": 12,
          "symbol": 3
         },
         "mode": "markers",
         "name": "Student_16",
         "text": [
          "Student_16"
         ],
         "type": "scatter",
         "uid": "282b60b2-e40c-11e8-a1d0-d7b4c6107baf",
         "x": [
          35
         ],
         "y": [
          61
         ]
        },
        {
         "marker": {
          "color": "rgb(127,0,127)",
          "colorscale": "Viridis",
          "line": {
           "width": 2
          },
          "size": 12,
          "symbol": 3
         },
         "mode": "markers",
         "name": "Student_17",
         "text": [
          "Student_17"
         ],
         "type": "scatter",
         "uid": "282b613e-e40c-11e8-a1d0-d7b4c6107baf",
         "x": [
          56
         ],
         "y": [
          71
         ]
        },
        {
         "marker": {
          "color": "rgb(127,0,127)",
          "colorscale": "Viridis",
          "line": {
           "width": 2
          },
          "size": 12,
          "symbol": 3
         },
         "mode": "markers",
         "name": "Student_18",
         "text": [
          "Student_18"
         ],
         "type": "scatter",
         "uid": "282b61c0-e40c-11e8-a1d0-d7b4c6107baf",
         "x": [
          66
         ],
         "y": [
          71
         ]
        },
        {
         "marker": {
          "color": "rgb(127,0,127)",
          "colorscale": "Viridis",
          "line": {
           "width": 2
          },
          "size": 12,
          "symbol": 3
         },
         "mode": "markers",
         "name": "Student_19",
         "text": [
          "Student_19"
         ],
         "type": "scatter",
         "uid": "282b6242-e40c-11e8-a1d0-d7b4c6107baf",
         "x": [
          52
         ],
         "y": [
          62
         ]
        },
        {
         "marker": {
          "color": "rgb(255,0,0)",
          "colorscale": "Viridis",
          "line": {
           "width": 2
          },
          "size": 12,
          "symbol": 0
         },
         "mode": "markers",
         "name": "Student_20",
         "text": [
          "Student_20"
         ],
         "type": "scatter",
         "uid": "282b62c4-e40c-11e8-a1d0-d7b4c6107baf",
         "x": [
          19
         ],
         "y": [
          39
         ]
        },
        {
         "marker": {
          "color": "rgb(127,0,127)",
          "colorscale": "Viridis",
          "line": {
           "width": 2
          },
          "size": 12,
          "symbol": 3
         },
         "mode": "markers",
         "name": "Student_21",
         "text": [
          "Student_21"
         ],
         "type": "scatter",
         "uid": "282b6346-e40c-11e8-a1d0-d7b4c6107baf",
         "x": [
          46
         ],
         "y": [
          69
         ]
        },
        {
         "marker": {
          "color": "rgb(0,0,255)",
          "colorscale": "Viridis",
          "line": {
           "width": 2
          },
          "size": 12,
          "symbol": 1
         },
         "mode": "markers",
         "name": "Student_22",
         "text": [
          "Student_22"
         ],
         "type": "scatter",
         "uid": "282b63c8-e40c-11e8-a1d0-d7b4c6107baf",
         "x": [
          77
         ],
         "y": [
          84
         ]
        },
        {
         "marker": {
          "color": "rgb(127,0,127)",
          "colorscale": "Viridis",
          "line": {
           "width": 2
          },
          "size": 12,
          "symbol": 3
         },
         "mode": "markers",
         "name": "Student_23",
         "text": [
          "Student_23"
         ],
         "type": "scatter",
         "uid": "282b644a-e40c-11e8-a1d0-d7b4c6107baf",
         "x": [
          47
         ],
         "y": [
          63
         ]
        },
        {
         "marker": {
          "color": "rgb(127,0,127)",
          "colorscale": "Viridis",
          "line": {
           "width": 2
          },
          "size": 12,
          "symbol": 3
         },
         "mode": "markers",
         "name": "Student_24",
         "text": [
          "Student_24"
         ],
         "type": "scatter",
         "uid": "282b64cc-e40c-11e8-a1d0-d7b4c6107baf",
         "x": [
          26
         ],
         "y": [
          57
         ]
        },
        {
         "marker": {
          "color": "rgb(0,0,255)",
          "colorscale": "Viridis",
          "line": {
           "width": 2
          },
          "size": 12,
          "symbol": 1
         },
         "mode": "markers",
         "name": "Student_25",
         "text": [
          "Student_25"
         ],
         "type": "scatter",
         "uid": "282b654e-e40c-11e8-a1d0-d7b4c6107baf",
         "x": [
          57
         ],
         "y": [
          74
         ]
        },
        {
         "marker": {
          "color": "rgb(127,0,127)",
          "colorscale": "Viridis",
          "line": {
           "width": 2
          },
          "size": 12,
          "symbol": 3
         },
         "mode": "markers",
         "name": "Student_26",
         "text": [
          "Student_26"
         ],
         "type": "scatter",
         "uid": "282b65d0-e40c-11e8-a1d0-d7b4c6107baf",
         "x": [
          27
         ],
         "y": [
          59
         ]
        },
        {
         "marker": {
          "color": "rgb(0,255,0)",
          "colorscale": "Viridis",
          "line": {
           "width": 2
          },
          "size": 12,
          "symbol": 2
         },
         "mode": "markers",
         "name": "Student_27",
         "text": [
          "Student_27"
         ],
         "type": "scatter",
         "uid": "282b6652-e40c-11e8-a1d0-d7b4c6107baf",
         "x": [
          89
         ],
         "y": [
          93
         ]
        },
        {
         "marker": {
          "color": "rgb(255,0,0)",
          "colorscale": "Viridis",
          "line": {
           "width": 2
          },
          "size": 12,
          "symbol": 0
         },
         "mode": "markers",
         "name": "Student_28",
         "text": [
          "Student_28"
         ],
         "type": "scatter",
         "uid": "282b66d4-e40c-11e8-a1d0-d7b4c6107baf",
         "x": [
          16
         ],
         "y": [
          29
         ]
        },
        {
         "marker": {
          "color": "rgb(255,0,0)",
          "colorscale": "Viridis",
          "line": {
           "width": 2
          },
          "size": 12,
          "symbol": 0
         },
         "mode": "markers",
         "name": "Student_29",
         "text": [
          "Student_29"
         ],
         "type": "scatter",
         "uid": "282b6756-e40c-11e8-a1d0-d7b4c6107baf",
         "x": [
          8
         ],
         "y": [
          22
         ]
        },
        {
         "marker": {
          "color": "rgb(255,0,0)",
          "colorscale": "Viridis",
          "line": {
           "width": 2
          },
          "size": 12,
          "symbol": 0
         },
         "mode": "markers",
         "name": "Student_30",
         "text": [
          "Student_30"
         ],
         "type": "scatter",
         "uid": "282b67d8-e40c-11e8-a1d0-d7b4c6107baf",
         "x": [
          22
         ],
         "y": [
          53
         ]
        },
        {
         "marker": {
          "color": "rgb(255,0,0)",
          "colorscale": "Viridis",
          "line": {
           "width": 2
          },
          "size": 12,
          "symbol": 0
         },
         "mode": "markers",
         "name": "Student_31",
         "text": [
          "Student_31"
         ],
         "type": "scatter",
         "uid": "282b69a4-e40c-11e8-a1d0-d7b4c6107baf",
         "x": [
          22
         ],
         "y": [
          48
         ]
        },
        {
         "marker": {
          "color": "rgb(127,0,127)",
          "colorscale": "Viridis",
          "line": {
           "width": 2
          },
          "size": 12,
          "symbol": 3
         },
         "mode": "markers",
         "name": "Student_32",
         "text": [
          "Student_32"
         ],
         "type": "scatter",
         "uid": "282b6a26-e40c-11e8-a1d0-d7b4c6107baf",
         "x": [
          51
         ],
         "y": [
          75
         ]
        },
        {
         "marker": {
          "color": "rgb(255,0,0)",
          "colorscale": "Viridis",
          "line": {
           "width": 2
          },
          "size": 12,
          "symbol": 0
         },
         "mode": "markers",
         "name": "Student_33",
         "text": [
          "Student_33"
         ],
         "type": "scatter",
         "uid": "282b6aa8-e40c-11e8-a1d0-d7b4c6107baf",
         "x": [
          22
         ],
         "y": [
          27
         ]
        },
        {
         "marker": {
          "color": "rgb(127,0,127)",
          "colorscale": "Viridis",
          "line": {
           "width": 2
          },
          "size": 12,
          "symbol": 3
         },
         "mode": "markers",
         "name": "Student_34",
         "text": [
          "Student_34"
         ],
         "type": "scatter",
         "uid": "282b6b2a-e40c-11e8-a1d0-d7b4c6107baf",
         "x": [
          52
         ],
         "y": [
          73
         ]
        },
        {
         "marker": {
          "color": "rgb(255,0,0)",
          "colorscale": "Viridis",
          "line": {
           "width": 2
          },
          "size": 12,
          "symbol": 0
         },
         "mode": "markers",
         "name": "Student_35",
         "text": [
          "Student_35"
         ],
         "type": "scatter",
         "uid": "282b6bb6-e40c-11e8-a1d0-d7b4c6107baf",
         "x": [
          16
         ],
         "y": [
          38
         ]
        },
        {
         "marker": {
          "color": "rgb(255,0,0)",
          "colorscale": "Viridis",
          "line": {
           "width": 2
          },
          "size": 12,
          "symbol": 0
         },
         "mode": "markers",
         "name": "Student_36",
         "text": [
          "Student_36"
         ],
         "type": "scatter",
         "uid": "282b6c38-e40c-11e8-a1d0-d7b4c6107baf",
         "x": [
          15
         ],
         "y": [
          36
         ]
        },
        {
         "marker": {
          "color": "rgb(0,0,255)",
          "colorscale": "Viridis",
          "line": {
           "width": 2
          },
          "size": 12,
          "symbol": 1
         },
         "mode": "markers",
         "name": "Student_37",
         "text": [
          "Student_37"
         ],
         "type": "scatter",
         "uid": "282b6cc4-e40c-11e8-a1d0-d7b4c6107baf",
         "x": [
          71
         ],
         "y": [
          81
         ]
        },
        {
         "marker": {
          "color": "rgb(0,0,255)",
          "colorscale": "Viridis",
          "line": {
           "width": 2
          },
          "size": 12,
          "symbol": 1
         },
         "mode": "markers",
         "name": "Student_38",
         "text": [
          "Student_38"
         ],
         "type": "scatter",
         "uid": "282b6d46-e40c-11e8-a1d0-d7b4c6107baf",
         "x": [
          79
         ],
         "y": [
          84
         ]
        },
        {
         "marker": {
          "color": "rgb(255,0,0)",
          "colorscale": "Viridis",
          "line": {
           "width": 2
          },
          "size": 12,
          "symbol": 0
         },
         "mode": "markers",
         "name": "Student_39",
         "text": [
          "Student_39"
         ],
         "type": "scatter",
         "uid": "282b6dc8-e40c-11e8-a1d0-d7b4c6107baf",
         "x": [
          13
         ],
         "y": [
          45
         ]
        },
        {
         "marker": {
          "color": "rgb(127,0,127)",
          "colorscale": "Viridis",
          "line": {
           "width": 2
          },
          "size": 12,
          "symbol": 3
         },
         "mode": "markers",
         "name": "Student_40",
         "text": [
          "Student_40"
         ],
         "type": "scatter",
         "uid": "282b6e4a-e40c-11e8-a1d0-d7b4c6107baf",
         "x": [
          53
         ],
         "y": [
          70
         ]
        },
        {
         "marker": {
          "color": "rgb(0,255,0)",
          "colorscale": "Viridis",
          "line": {
           "width": 2
          },
          "size": 12,
          "symbol": 2
         },
         "mode": "markers",
         "name": "Student_41",
         "text": [
          "Student_41"
         ],
         "type": "scatter",
         "uid": "282b6ecc-e40c-11e8-a1d0-d7b4c6107baf",
         "x": [
          98
         ],
         "y": [
          99
         ]
        },
        {
         "marker": {
          "color": "rgb(0,0,255)",
          "colorscale": "Viridis",
          "line": {
           "width": 2
          },
          "size": 12,
          "symbol": 1
         },
         "mode": "markers",
         "name": "Student_42",
         "text": [
          "Student_42"
         ],
         "type": "scatter",
         "uid": "282b6f4e-e40c-11e8-a1d0-d7b4c6107baf",
         "x": [
          82
         ],
         "y": [
          89
         ]
        },
        {
         "marker": {
          "color": "rgb(127,0,127)",
          "colorscale": "Viridis",
          "line": {
           "width": 2
          },
          "size": 12,
          "symbol": 3
         },
         "mode": "markers",
         "name": "Student_43",
         "text": [
          "Student_43"
         ],
         "type": "scatter",
         "uid": "282b6fd0-e40c-11e8-a1d0-d7b4c6107baf",
         "x": [
          45
         ],
         "y": [
          69
         ]
        },
        {
         "marker": {
          "color": "rgb(0,0,255)",
          "colorscale": "Viridis",
          "line": {
           "width": 2
          },
          "size": 12,
          "symbol": 1
         },
         "mode": "markers",
         "name": "Student_44",
         "text": [
          "Student_44"
         ],
         "type": "scatter",
         "uid": "282b705c-e40c-11e8-a1d0-d7b4c6107baf",
         "x": [
          52
         ],
         "y": [
          72
         ]
        },
        {
         "marker": {
          "color": "rgb(255,0,0)",
          "colorscale": "Viridis",
          "line": {
           "width": 2
          },
          "size": 12,
          "symbol": 0
         },
         "mode": "markers",
         "name": "Student_45",
         "text": [
          "Student_45"
         ],
         "type": "scatter",
         "uid": "282b70de-e40c-11e8-a1d0-d7b4c6107baf",
         "x": [
          10
         ],
         "y": [
          33
         ]
        },
        {
         "marker": {
          "color": "rgb(255,0,0)",
          "colorscale": "Viridis",
          "line": {
           "width": 2
          },
          "size": 12,
          "symbol": 0
         },
         "mode": "markers",
         "name": "Student_46",
         "text": [
          "Student_46"
         ],
         "type": "scatter",
         "uid": "282b7160-e40c-11e8-a1d0-d7b4c6107baf",
         "x": [
          18
         ],
         "y": [
          36
         ]
        },
        {
         "marker": {
          "color": "rgb(0,255,0)",
          "colorscale": "Viridis",
          "line": {
           "width": 2
          },
          "size": 12,
          "symbol": 2
         },
         "mode": "markers",
         "name": "Student_47",
         "text": [
          "Student_47"
         ],
         "type": "scatter",
         "uid": "282b71e2-e40c-11e8-a1d0-d7b4c6107baf",
         "x": [
          87
         ],
         "y": [
          94
         ]
        },
        {
         "marker": {
          "color": "rgb(255,0,0)",
          "colorscale": "Viridis",
          "line": {
           "width": 2
          },
          "size": 12,
          "symbol": 0
         },
         "mode": "markers",
         "name": "Student_48",
         "text": [
          "Student_48"
         ],
         "type": "scatter",
         "uid": "282b7264-e40c-11e8-a1d0-d7b4c6107baf",
         "x": [
          25
         ],
         "y": [
          41
         ]
        },
        {
         "marker": {
          "color": "rgb(255,0,0)",
          "colorscale": "Viridis",
          "line": {
           "width": 2
          },
          "size": 12,
          "symbol": 0
         },
         "mode": "markers",
         "name": "Student_49",
         "text": [
          "Student_49"
         ],
         "type": "scatter",
         "uid": "282b72f0-e40c-11e8-a1d0-d7b4c6107baf",
         "x": [
          17
         ],
         "y": [
          37
         ]
        },
        {
         "marker": {
          "color": "rgb(255,0,0)",
          "colorscale": "Viridis",
          "line": {
           "width": 2
          },
          "size": 12,
          "symbol": 0
         },
         "mode": "markers",
         "name": "Student_50",
         "text": [
          "Student_50"
         ],
         "type": "scatter",
         "uid": "282b7372-e40c-11e8-a1d0-d7b4c6107baf",
         "x": [
          19
         ],
         "y": [
          26
         ]
        },
        {
         "marker": {
          "color": "rgb(127,0,127)",
          "colorscale": "Viridis",
          "line": {
           "width": 2
          },
          "size": 12,
          "symbol": 3
         },
         "mode": "markers",
         "name": "Student_51",
         "text": [
          "Student_51"
         ],
         "type": "scatter",
         "uid": "282b73f4-e40c-11e8-a1d0-d7b4c6107baf",
         "x": [
          38
         ],
         "y": [
          53
         ]
        },
        {
         "marker": {
          "color": "rgb(255,0,0)",
          "colorscale": "Viridis",
          "line": {
           "width": 2
          },
          "size": 12,
          "symbol": 0
         },
         "mode": "markers",
         "name": "Student_52",
         "text": [
          "Student_52"
         ],
         "type": "scatter",
         "uid": "282b7476-e40c-11e8-a1d0-d7b4c6107baf",
         "x": [
          23
         ],
         "y": [
          11
         ]
        },
        {
         "marker": {
          "color": "rgb(127,0,127)",
          "colorscale": "Viridis",
          "line": {
           "width": 2
          },
          "size": 12,
          "symbol": 3
         },
         "mode": "markers",
         "name": "Student_53",
         "text": [
          "Student_53"
         ],
         "type": "scatter",
         "uid": "282b74f8-e40c-11e8-a1d0-d7b4c6107baf",
         "x": [
          66
         ],
         "y": [
          72
         ]
        },
        {
         "marker": {
          "color": "rgb(255,0,0)",
          "colorscale": "Viridis",
          "line": {
           "width": 2
          },
          "size": 12,
          "symbol": 0
         },
         "mode": "markers",
         "name": "Student_54",
         "text": [
          "Student_54"
         ],
         "type": "scatter",
         "uid": "282b757a-e40c-11e8-a1d0-d7b4c6107baf",
         "x": [
          11
         ],
         "y": [
          21
         ]
        },
        {
         "marker": {
          "color": "rgb(127,0,127)",
          "colorscale": "Viridis",
          "line": {
           "width": 2
          },
          "size": 12,
          "symbol": 3
         },
         "mode": "markers",
         "name": "Student_55",
         "text": [
          "Student_55"
         ],
         "type": "scatter",
         "uid": "282b75fc-e40c-11e8-a1d0-d7b4c6107baf",
         "x": [
          58
         ],
         "y": [
          74
         ]
        },
        {
         "marker": {
          "color": "rgb(0,0,255)",
          "colorscale": "Viridis",
          "line": {
           "width": 2
          },
          "size": 12,
          "symbol": 1
         },
         "mode": "markers",
         "name": "Student_56",
         "text": [
          "Student_56"
         ],
         "type": "scatter",
         "uid": "282b7674-e40c-11e8-a1d0-d7b4c6107baf",
         "x": [
          84
         ],
         "y": [
          82
         ]
        },
        {
         "marker": {
          "color": "rgb(127,0,127)",
          "colorscale": "Viridis",
          "line": {
           "width": 2
          },
          "size": 12,
          "symbol": 3
         },
         "mode": "markers",
         "name": "Student_57",
         "text": [
          "Student_57"
         ],
         "type": "scatter",
         "uid": "282b76f6-e40c-11e8-a1d0-d7b4c6107baf",
         "x": [
          50
         ],
         "y": [
          64
         ]
        },
        {
         "marker": {
          "color": "rgb(127,0,127)",
          "colorscale": "Viridis",
          "line": {
           "width": 2
          },
          "size": 12,
          "symbol": 3
         },
         "mode": "markers",
         "name": "Student_58",
         "text": [
          "Student_58"
         ],
         "type": "scatter",
         "uid": "282b776e-e40c-11e8-a1d0-d7b4c6107baf",
         "x": [
          50
         ],
         "y": [
          67
         ]
        },
        {
         "marker": {
          "color": "rgb(0,0,255)",
          "colorscale": "Viridis",
          "line": {
           "width": 2
          },
          "size": 12,
          "symbol": 1
         },
         "mode": "markers",
         "name": "Student_59",
         "text": [
          "Student_59"
         ],
         "type": "scatter",
         "uid": "282b77f0-e40c-11e8-a1d0-d7b4c6107baf",
         "x": [
          59
         ],
         "y": [
          72
         ]
        },
        {
         "marker": {
          "color": "rgb(127,0,127)",
          "colorscale": "Viridis",
          "line": {
           "width": 2
          },
          "size": 12,
          "symbol": 3
         },
         "mode": "markers",
         "name": "Student_60",
         "text": [
          "Student_60"
         ],
         "type": "scatter",
         "uid": "282b7868-e40c-11e8-a1d0-d7b4c6107baf",
         "x": [
          35
         ],
         "y": [
          67
         ]
        }
       ],
       "layout": {
        "hovermode": "closest",
        "showlegend": true,
        "title": "Notas dos estudantes vs acesso ao AVA",
        "xaxis": {
         "autorange": false,
         "fixedrange": false,
         "range": [
          0,
          108
         ],
         "rangemode": "normal",
         "showline": true,
         "title": "Acessos ao AVA",
         "zeroline": false
        },
        "yaxis": {
         "autorange": false,
         "fixedrange": false,
         "range": [
          0,
          109
         ],
         "rangemode": "normal",
         "showline": true,
         "title": "Notas"
        }
       }
      },
      "text/html": [
       "<div id=\"cd21750e-59f0-42f7-b0e3-069594e8c9aa\" style=\"height: 525px; width: 100%;\" class=\"plotly-graph-div\"></div><script type=\"text/javascript\">require([\"plotly\"], function(Plotly) { window.PLOTLYENV=window.PLOTLYENV || {};window.PLOTLYENV.BASE_URL=\"https://plot.ly\";Plotly.newPlot(\"cd21750e-59f0-42f7-b0e3-069594e8c9aa\", [{\"marker\": {\"color\": \"rgb(255,0,0)\", \"colorscale\": \"Viridis\", \"line\": {\"width\": 2}, \"size\": 12, \"symbol\": 0}, \"mode\": \"markers\", \"name\": \"Student_1\", \"text\": [\"Student_1\"], \"x\": [12], \"y\": [43], \"type\": \"scatter\", \"uid\": \"282b5770-e40c-11e8-a1d0-d7b4c6107baf\"}, {\"marker\": {\"color\": \"rgb(0,255,0)\", \"colorscale\": \"Viridis\", \"line\": {\"width\": 2}, \"size\": 12, \"symbol\": 2}, \"mode\": \"markers\", \"name\": \"Student_2\", \"text\": [\"Student_2\"], \"x\": [81], \"y\": [92], \"type\": \"scatter\", \"uid\": \"282b58ec-e40c-11e8-a1d0-d7b4c6107baf\"}, {\"marker\": {\"color\": \"rgb(0,0,255)\", \"colorscale\": \"Viridis\", \"line\": {\"width\": 2}, \"size\": 12, \"symbol\": 1}, \"mode\": \"markers\", \"name\": \"Student_3\", \"text\": [\"Student_3\"], \"x\": [68], \"y\": [82], \"type\": \"scatter\", \"uid\": \"282b59be-e40c-11e8-a1d0-d7b4c6107baf\"}, {\"marker\": {\"color\": \"rgb(255,0,0)\", \"colorscale\": \"Viridis\", \"line\": {\"width\": 2}, \"size\": 12, \"symbol\": 0}, \"mode\": \"markers\", \"name\": \"Student_4\", \"text\": [\"Student_4\"], \"x\": [17], \"y\": [48], \"type\": \"scatter\", \"uid\": \"282b5a68-e40c-11e8-a1d0-d7b4c6107baf\"}, {\"marker\": {\"color\": \"rgb(127,0,127)\", \"colorscale\": \"Viridis\", \"line\": {\"width\": 2}, \"size\": 12, \"symbol\": 3}, \"mode\": \"markers\", \"name\": \"Student_5\", \"text\": [\"Student_5\"], \"x\": [59], \"y\": [76], \"type\": \"scatter\", \"uid\": \"282b5af4-e40c-11e8-a1d0-d7b4c6107baf\"}, {\"marker\": {\"color\": \"rgb(127,0,127)\", \"colorscale\": \"Viridis\", \"line\": {\"width\": 2}, \"size\": 12, \"symbol\": 3}, \"mode\": \"markers\", \"name\": \"Student_6\", \"text\": [\"Student_6\"], \"x\": [45], \"y\": [62], \"type\": \"scatter\", \"uid\": \"282b5b80-e40c-11e8-a1d0-d7b4c6107baf\"}, {\"marker\": {\"color\": \"rgb(0,0,255)\", \"colorscale\": \"Viridis\", \"line\": {\"width\": 2}, \"size\": 12, \"symbol\": 1}, \"mode\": \"markers\", \"name\": \"Student_7\", \"text\": [\"Student_7\"], \"x\": [66], \"y\": [72], \"type\": \"scatter\", \"uid\": \"282b5c0c-e40c-11e8-a1d0-d7b4c6107baf\"}, {\"marker\": {\"color\": \"rgb(0,255,0)\", \"colorscale\": \"Viridis\", \"line\": {\"width\": 2}, \"size\": 12, \"symbol\": 2}, \"mode\": \"markers\", \"name\": \"Student_8\", \"text\": [\"Student_8\"], \"x\": [88], \"y\": [92], \"type\": \"scatter\", \"uid\": \"282b5c8e-e40c-11e8-a1d0-d7b4c6107baf\"}, {\"marker\": {\"color\": \"rgb(255,0,0)\", \"colorscale\": \"Viridis\", \"line\": {\"width\": 2}, \"size\": 12, \"symbol\": 0}, \"mode\": \"markers\", \"name\": \"Student_9\", \"text\": [\"Student_9\"], \"x\": [24], \"y\": [40], \"type\": \"scatter\", \"uid\": \"282b5d10-e40c-11e8-a1d0-d7b4c6107baf\"}, {\"marker\": {\"color\": \"rgb(0,255,0)\", \"colorscale\": \"Viridis\", \"line\": {\"width\": 2}, \"size\": 12, \"symbol\": 2}, \"mode\": \"markers\", \"name\": \"Student_10\", \"text\": [\"Student_10\"], \"x\": [68], \"y\": [83], \"type\": \"scatter\", \"uid\": \"282b5d9c-e40c-11e8-a1d0-d7b4c6107baf\"}, {\"marker\": {\"color\": \"rgb(127,0,127)\", \"colorscale\": \"Viridis\", \"line\": {\"width\": 2}, \"size\": 12, \"symbol\": 3}, \"mode\": \"markers\", \"name\": \"Student_11\", \"text\": [\"Student_11\"], \"x\": [57], \"y\": [74], \"type\": \"scatter\", \"uid\": \"282b5e1e-e40c-11e8-a1d0-d7b4c6107baf\"}, {\"marker\": {\"color\": \"rgb(0,0,255)\", \"colorscale\": \"Viridis\", \"line\": {\"width\": 2}, \"size\": 12, \"symbol\": 1}, \"mode\": \"markers\", \"name\": \"Student_12\", \"text\": [\"Student_12\"], \"x\": [67], \"y\": [79], \"type\": \"scatter\", \"uid\": \"282b5ea0-e40c-11e8-a1d0-d7b4c6107baf\"}, {\"marker\": {\"color\": \"rgb(0,0,255)\", \"colorscale\": \"Viridis\", \"line\": {\"width\": 2}, \"size\": 12, \"symbol\": 1}, \"mode\": \"markers\", \"name\": \"Student_13\", \"text\": [\"Student_13\"], \"x\": [59], \"y\": [79], \"type\": \"scatter\", \"uid\": \"282b5f22-e40c-11e8-a1d0-d7b4c6107baf\"}, {\"marker\": {\"color\": \"rgb(255,0,0)\", \"colorscale\": \"Viridis\", \"line\": {\"width\": 2}, \"size\": 12, \"symbol\": 0}, \"mode\": \"markers\", \"name\": \"Student_14\", \"text\": [\"Student_14\"], \"x\": [23], \"y\": [32], \"type\": \"scatter\", \"uid\": \"282b5fa4-e40c-11e8-a1d0-d7b4c6107baf\"}, {\"marker\": {\"color\": \"rgb(0,255,0)\", \"colorscale\": \"Viridis\", \"line\": {\"width\": 2}, \"size\": 12, \"symbol\": 2}, \"mode\": \"markers\", \"name\": \"Student_15\", \"text\": [\"Student_15\"], \"x\": [78], \"y\": [89], \"type\": \"scatter\", \"uid\": \"282b6030-e40c-11e8-a1d0-d7b4c6107baf\"}, {\"marker\": {\"color\": \"rgb(127,0,127)\", \"colorscale\": \"Viridis\", \"line\": {\"width\": 2}, \"size\": 12, \"symbol\": 3}, \"mode\": \"markers\", \"name\": \"Student_16\", \"text\": [\"Student_16\"], \"x\": [35], \"y\": [61], \"type\": \"scatter\", \"uid\": \"282b60b2-e40c-11e8-a1d0-d7b4c6107baf\"}, {\"marker\": {\"color\": \"rgb(127,0,127)\", \"colorscale\": \"Viridis\", \"line\": {\"width\": 2}, \"size\": 12, \"symbol\": 3}, \"mode\": \"markers\", \"name\": \"Student_17\", \"text\": [\"Student_17\"], \"x\": [56], \"y\": [71], \"type\": \"scatter\", \"uid\": \"282b613e-e40c-11e8-a1d0-d7b4c6107baf\"}, {\"marker\": {\"color\": \"rgb(127,0,127)\", \"colorscale\": \"Viridis\", \"line\": {\"width\": 2}, \"size\": 12, \"symbol\": 3}, \"mode\": \"markers\", \"name\": \"Student_18\", \"text\": [\"Student_18\"], \"x\": [66], \"y\": [71], \"type\": \"scatter\", \"uid\": \"282b61c0-e40c-11e8-a1d0-d7b4c6107baf\"}, {\"marker\": {\"color\": \"rgb(127,0,127)\", \"colorscale\": \"Viridis\", \"line\": {\"width\": 2}, \"size\": 12, \"symbol\": 3}, \"mode\": \"markers\", \"name\": \"Student_19\", \"text\": [\"Student_19\"], \"x\": [52], \"y\": [62], \"type\": \"scatter\", \"uid\": \"282b6242-e40c-11e8-a1d0-d7b4c6107baf\"}, {\"marker\": {\"color\": \"rgb(255,0,0)\", \"colorscale\": \"Viridis\", \"line\": {\"width\": 2}, \"size\": 12, \"symbol\": 0}, \"mode\": \"markers\", \"name\": \"Student_20\", \"text\": [\"Student_20\"], \"x\": [19], \"y\": [39], \"type\": \"scatter\", \"uid\": \"282b62c4-e40c-11e8-a1d0-d7b4c6107baf\"}, {\"marker\": {\"color\": \"rgb(127,0,127)\", \"colorscale\": \"Viridis\", \"line\": {\"width\": 2}, \"size\": 12, \"symbol\": 3}, \"mode\": \"markers\", \"name\": \"Student_21\", \"text\": [\"Student_21\"], \"x\": [46], \"y\": [69], \"type\": \"scatter\", \"uid\": \"282b6346-e40c-11e8-a1d0-d7b4c6107baf\"}, {\"marker\": {\"color\": \"rgb(0,0,255)\", \"colorscale\": \"Viridis\", \"line\": {\"width\": 2}, \"size\": 12, \"symbol\": 1}, \"mode\": \"markers\", \"name\": \"Student_22\", \"text\": [\"Student_22\"], \"x\": [77], \"y\": [84], \"type\": \"scatter\", \"uid\": \"282b63c8-e40c-11e8-a1d0-d7b4c6107baf\"}, {\"marker\": {\"color\": \"rgb(127,0,127)\", \"colorscale\": \"Viridis\", \"line\": {\"width\": 2}, \"size\": 12, \"symbol\": 3}, \"mode\": \"markers\", \"name\": \"Student_23\", \"text\": [\"Student_23\"], \"x\": [47], \"y\": [63], \"type\": \"scatter\", \"uid\": \"282b644a-e40c-11e8-a1d0-d7b4c6107baf\"}, {\"marker\": {\"color\": \"rgb(127,0,127)\", \"colorscale\": \"Viridis\", \"line\": {\"width\": 2}, \"size\": 12, \"symbol\": 3}, \"mode\": \"markers\", \"name\": \"Student_24\", \"text\": [\"Student_24\"], \"x\": [26], \"y\": [57], \"type\": \"scatter\", \"uid\": \"282b64cc-e40c-11e8-a1d0-d7b4c6107baf\"}, {\"marker\": {\"color\": \"rgb(0,0,255)\", \"colorscale\": \"Viridis\", \"line\": {\"width\": 2}, \"size\": 12, \"symbol\": 1}, \"mode\": \"markers\", \"name\": \"Student_25\", \"text\": [\"Student_25\"], \"x\": [57], \"y\": [74], \"type\": \"scatter\", \"uid\": \"282b654e-e40c-11e8-a1d0-d7b4c6107baf\"}, {\"marker\": {\"color\": \"rgb(127,0,127)\", \"colorscale\": \"Viridis\", \"line\": {\"width\": 2}, \"size\": 12, \"symbol\": 3}, \"mode\": \"markers\", \"name\": \"Student_26\", \"text\": [\"Student_26\"], \"x\": [27], \"y\": [59], \"type\": \"scatter\", \"uid\": \"282b65d0-e40c-11e8-a1d0-d7b4c6107baf\"}, {\"marker\": {\"color\": \"rgb(0,255,0)\", \"colorscale\": \"Viridis\", \"line\": {\"width\": 2}, \"size\": 12, \"symbol\": 2}, \"mode\": \"markers\", \"name\": \"Student_27\", \"text\": [\"Student_27\"], \"x\": [89], \"y\": [93], \"type\": \"scatter\", \"uid\": \"282b6652-e40c-11e8-a1d0-d7b4c6107baf\"}, {\"marker\": {\"color\": \"rgb(255,0,0)\", \"colorscale\": \"Viridis\", \"line\": {\"width\": 2}, \"size\": 12, \"symbol\": 0}, \"mode\": \"markers\", \"name\": \"Student_28\", \"text\": [\"Student_28\"], \"x\": [16], \"y\": [29], \"type\": \"scatter\", \"uid\": \"282b66d4-e40c-11e8-a1d0-d7b4c6107baf\"}, {\"marker\": {\"color\": \"rgb(255,0,0)\", \"colorscale\": \"Viridis\", \"line\": {\"width\": 2}, \"size\": 12, \"symbol\": 0}, \"mode\": \"markers\", \"name\": \"Student_29\", \"text\": [\"Student_29\"], \"x\": [8], \"y\": [22], \"type\": \"scatter\", \"uid\": \"282b6756-e40c-11e8-a1d0-d7b4c6107baf\"}, {\"marker\": {\"color\": \"rgb(255,0,0)\", \"colorscale\": \"Viridis\", \"line\": {\"width\": 2}, \"size\": 12, \"symbol\": 0}, \"mode\": \"markers\", \"name\": \"Student_30\", \"text\": [\"Student_30\"], \"x\": [22], \"y\": [53], \"type\": \"scatter\", \"uid\": \"282b67d8-e40c-11e8-a1d0-d7b4c6107baf\"}, {\"marker\": {\"color\": \"rgb(255,0,0)\", \"colorscale\": \"Viridis\", \"line\": {\"width\": 2}, \"size\": 12, \"symbol\": 0}, \"mode\": \"markers\", \"name\": \"Student_31\", \"text\": [\"Student_31\"], \"x\": [22], \"y\": [48], \"type\": \"scatter\", \"uid\": \"282b69a4-e40c-11e8-a1d0-d7b4c6107baf\"}, {\"marker\": {\"color\": \"rgb(127,0,127)\", \"colorscale\": \"Viridis\", \"line\": {\"width\": 2}, \"size\": 12, \"symbol\": 3}, \"mode\": \"markers\", \"name\": \"Student_32\", \"text\": [\"Student_32\"], \"x\": [51], \"y\": [75], \"type\": \"scatter\", \"uid\": \"282b6a26-e40c-11e8-a1d0-d7b4c6107baf\"}, {\"marker\": {\"color\": \"rgb(255,0,0)\", \"colorscale\": \"Viridis\", \"line\": {\"width\": 2}, \"size\": 12, \"symbol\": 0}, \"mode\": \"markers\", \"name\": \"Student_33\", \"text\": [\"Student_33\"], \"x\": [22], \"y\": [27], \"type\": \"scatter\", \"uid\": \"282b6aa8-e40c-11e8-a1d0-d7b4c6107baf\"}, {\"marker\": {\"color\": \"rgb(127,0,127)\", \"colorscale\": \"Viridis\", \"line\": {\"width\": 2}, \"size\": 12, \"symbol\": 3}, \"mode\": \"markers\", \"name\": \"Student_34\", \"text\": [\"Student_34\"], \"x\": [52], \"y\": [73], \"type\": \"scatter\", \"uid\": \"282b6b2a-e40c-11e8-a1d0-d7b4c6107baf\"}, {\"marker\": {\"color\": \"rgb(255,0,0)\", \"colorscale\": \"Viridis\", \"line\": {\"width\": 2}, \"size\": 12, \"symbol\": 0}, \"mode\": \"markers\", \"name\": \"Student_35\", \"text\": [\"Student_35\"], \"x\": [16], \"y\": [38], \"type\": \"scatter\", \"uid\": \"282b6bb6-e40c-11e8-a1d0-d7b4c6107baf\"}, {\"marker\": {\"color\": \"rgb(255,0,0)\", \"colorscale\": \"Viridis\", \"line\": {\"width\": 2}, \"size\": 12, \"symbol\": 0}, \"mode\": \"markers\", \"name\": \"Student_36\", \"text\": [\"Student_36\"], \"x\": [15], \"y\": [36], \"type\": \"scatter\", \"uid\": \"282b6c38-e40c-11e8-a1d0-d7b4c6107baf\"}, {\"marker\": {\"color\": \"rgb(0,0,255)\", \"colorscale\": \"Viridis\", \"line\": {\"width\": 2}, \"size\": 12, \"symbol\": 1}, \"mode\": \"markers\", \"name\": \"Student_37\", \"text\": [\"Student_37\"], \"x\": [71], \"y\": [81], \"type\": \"scatter\", \"uid\": \"282b6cc4-e40c-11e8-a1d0-d7b4c6107baf\"}, {\"marker\": {\"color\": \"rgb(0,0,255)\", \"colorscale\": \"Viridis\", \"line\": {\"width\": 2}, \"size\": 12, \"symbol\": 1}, \"mode\": \"markers\", \"name\": \"Student_38\", \"text\": [\"Student_38\"], \"x\": [79], \"y\": [84], \"type\": \"scatter\", \"uid\": \"282b6d46-e40c-11e8-a1d0-d7b4c6107baf\"}, {\"marker\": {\"color\": \"rgb(255,0,0)\", \"colorscale\": \"Viridis\", \"line\": {\"width\": 2}, \"size\": 12, \"symbol\": 0}, \"mode\": \"markers\", \"name\": \"Student_39\", \"text\": [\"Student_39\"], \"x\": [13], \"y\": [45], \"type\": \"scatter\", \"uid\": \"282b6dc8-e40c-11e8-a1d0-d7b4c6107baf\"}, {\"marker\": {\"color\": \"rgb(127,0,127)\", \"colorscale\": \"Viridis\", \"line\": {\"width\": 2}, \"size\": 12, \"symbol\": 3}, \"mode\": \"markers\", \"name\": \"Student_40\", \"text\": [\"Student_40\"], \"x\": [53], \"y\": [70], \"type\": \"scatter\", \"uid\": \"282b6e4a-e40c-11e8-a1d0-d7b4c6107baf\"}, {\"marker\": {\"color\": \"rgb(0,255,0)\", \"colorscale\": \"Viridis\", \"line\": {\"width\": 2}, \"size\": 12, \"symbol\": 2}, \"mode\": \"markers\", \"name\": \"Student_41\", \"text\": [\"Student_41\"], \"x\": [98], \"y\": [99], \"type\": \"scatter\", \"uid\": \"282b6ecc-e40c-11e8-a1d0-d7b4c6107baf\"}, {\"marker\": {\"color\": \"rgb(0,0,255)\", \"colorscale\": \"Viridis\", \"line\": {\"width\": 2}, \"size\": 12, \"symbol\": 1}, \"mode\": \"markers\", \"name\": \"Student_42\", \"text\": [\"Student_42\"], \"x\": [82], \"y\": [89], \"type\": \"scatter\", \"uid\": \"282b6f4e-e40c-11e8-a1d0-d7b4c6107baf\"}, {\"marker\": {\"color\": \"rgb(127,0,127)\", \"colorscale\": \"Viridis\", \"line\": {\"width\": 2}, \"size\": 12, \"symbol\": 3}, \"mode\": \"markers\", \"name\": \"Student_43\", \"text\": [\"Student_43\"], \"x\": [45], \"y\": [69], \"type\": \"scatter\", \"uid\": \"282b6fd0-e40c-11e8-a1d0-d7b4c6107baf\"}, {\"marker\": {\"color\": \"rgb(0,0,255)\", \"colorscale\": \"Viridis\", \"line\": {\"width\": 2}, \"size\": 12, \"symbol\": 1}, \"mode\": \"markers\", \"name\": \"Student_44\", \"text\": [\"Student_44\"], \"x\": [52], \"y\": [72], \"type\": \"scatter\", \"uid\": \"282b705c-e40c-11e8-a1d0-d7b4c6107baf\"}, {\"marker\": {\"color\": \"rgb(255,0,0)\", \"colorscale\": \"Viridis\", \"line\": {\"width\": 2}, \"size\": 12, \"symbol\": 0}, \"mode\": \"markers\", \"name\": \"Student_45\", \"text\": [\"Student_45\"], \"x\": [10], \"y\": [33], \"type\": \"scatter\", \"uid\": \"282b70de-e40c-11e8-a1d0-d7b4c6107baf\"}, {\"marker\": {\"color\": \"rgb(255,0,0)\", \"colorscale\": \"Viridis\", \"line\": {\"width\": 2}, \"size\": 12, \"symbol\": 0}, \"mode\": \"markers\", \"name\": \"Student_46\", \"text\": [\"Student_46\"], \"x\": [18], \"y\": [36], \"type\": \"scatter\", \"uid\": \"282b7160-e40c-11e8-a1d0-d7b4c6107baf\"}, {\"marker\": {\"color\": \"rgb(0,255,0)\", \"colorscale\": \"Viridis\", \"line\": {\"width\": 2}, \"size\": 12, \"symbol\": 2}, \"mode\": \"markers\", \"name\": \"Student_47\", \"text\": [\"Student_47\"], \"x\": [87], \"y\": [94], \"type\": \"scatter\", \"uid\": \"282b71e2-e40c-11e8-a1d0-d7b4c6107baf\"}, {\"marker\": {\"color\": \"rgb(255,0,0)\", \"colorscale\": \"Viridis\", \"line\": {\"width\": 2}, \"size\": 12, \"symbol\": 0}, \"mode\": \"markers\", \"name\": \"Student_48\", \"text\": [\"Student_48\"], \"x\": [25], \"y\": [41], \"type\": \"scatter\", \"uid\": \"282b7264-e40c-11e8-a1d0-d7b4c6107baf\"}, {\"marker\": {\"color\": \"rgb(255,0,0)\", \"colorscale\": \"Viridis\", \"line\": {\"width\": 2}, \"size\": 12, \"symbol\": 0}, \"mode\": \"markers\", \"name\": \"Student_49\", \"text\": [\"Student_49\"], \"x\": [17], \"y\": [37], \"type\": \"scatter\", \"uid\": \"282b72f0-e40c-11e8-a1d0-d7b4c6107baf\"}, {\"marker\": {\"color\": \"rgb(255,0,0)\", \"colorscale\": \"Viridis\", \"line\": {\"width\": 2}, \"size\": 12, \"symbol\": 0}, \"mode\": \"markers\", \"name\": \"Student_50\", \"text\": [\"Student_50\"], \"x\": [19], \"y\": [26], \"type\": \"scatter\", \"uid\": \"282b7372-e40c-11e8-a1d0-d7b4c6107baf\"}, {\"marker\": {\"color\": \"rgb(127,0,127)\", \"colorscale\": \"Viridis\", \"line\": {\"width\": 2}, \"size\": 12, \"symbol\": 3}, \"mode\": \"markers\", \"name\": \"Student_51\", \"text\": [\"Student_51\"], \"x\": [38], \"y\": [53], \"type\": \"scatter\", \"uid\": \"282b73f4-e40c-11e8-a1d0-d7b4c6107baf\"}, {\"marker\": {\"color\": \"rgb(255,0,0)\", \"colorscale\": \"Viridis\", \"line\": {\"width\": 2}, \"size\": 12, \"symbol\": 0}, \"mode\": \"markers\", \"name\": \"Student_52\", \"text\": [\"Student_52\"], \"x\": [23], \"y\": [11], \"type\": \"scatter\", \"uid\": \"282b7476-e40c-11e8-a1d0-d7b4c6107baf\"}, {\"marker\": {\"color\": \"rgb(127,0,127)\", \"colorscale\": \"Viridis\", \"line\": {\"width\": 2}, \"size\": 12, \"symbol\": 3}, \"mode\": \"markers\", \"name\": \"Student_53\", \"text\": [\"Student_53\"], \"x\": [66], \"y\": [72], \"type\": \"scatter\", \"uid\": \"282b74f8-e40c-11e8-a1d0-d7b4c6107baf\"}, {\"marker\": {\"color\": \"rgb(255,0,0)\", \"colorscale\": \"Viridis\", \"line\": {\"width\": 2}, \"size\": 12, \"symbol\": 0}, \"mode\": \"markers\", \"name\": \"Student_54\", \"text\": [\"Student_54\"], \"x\": [11], \"y\": [21], \"type\": \"scatter\", \"uid\": \"282b757a-e40c-11e8-a1d0-d7b4c6107baf\"}, {\"marker\": {\"color\": \"rgb(127,0,127)\", \"colorscale\": \"Viridis\", \"line\": {\"width\": 2}, \"size\": 12, \"symbol\": 3}, \"mode\": \"markers\", \"name\": \"Student_55\", \"text\": [\"Student_55\"], \"x\": [58], \"y\": [74], \"type\": \"scatter\", \"uid\": \"282b75fc-e40c-11e8-a1d0-d7b4c6107baf\"}, {\"marker\": {\"color\": \"rgb(0,0,255)\", \"colorscale\": \"Viridis\", \"line\": {\"width\": 2}, \"size\": 12, \"symbol\": 1}, \"mode\": \"markers\", \"name\": \"Student_56\", \"text\": [\"Student_56\"], \"x\": [84], \"y\": [82], \"type\": \"scatter\", \"uid\": \"282b7674-e40c-11e8-a1d0-d7b4c6107baf\"}, {\"marker\": {\"color\": \"rgb(127,0,127)\", \"colorscale\": \"Viridis\", \"line\": {\"width\": 2}, \"size\": 12, \"symbol\": 3}, \"mode\": \"markers\", \"name\": \"Student_57\", \"text\": [\"Student_57\"], \"x\": [50], \"y\": [64], \"type\": \"scatter\", \"uid\": \"282b76f6-e40c-11e8-a1d0-d7b4c6107baf\"}, {\"marker\": {\"color\": \"rgb(127,0,127)\", \"colorscale\": \"Viridis\", \"line\": {\"width\": 2}, \"size\": 12, \"symbol\": 3}, \"mode\": \"markers\", \"name\": \"Student_58\", \"text\": [\"Student_58\"], \"x\": [50], \"y\": [67], \"type\": \"scatter\", \"uid\": \"282b776e-e40c-11e8-a1d0-d7b4c6107baf\"}, {\"marker\": {\"color\": \"rgb(0,0,255)\", \"colorscale\": \"Viridis\", \"line\": {\"width\": 2}, \"size\": 12, \"symbol\": 1}, \"mode\": \"markers\", \"name\": \"Student_59\", \"text\": [\"Student_59\"], \"x\": [59], \"y\": [72], \"type\": \"scatter\", \"uid\": \"282b77f0-e40c-11e8-a1d0-d7b4c6107baf\"}, {\"marker\": {\"color\": \"rgb(127,0,127)\", \"colorscale\": \"Viridis\", \"line\": {\"width\": 2}, \"size\": 12, \"symbol\": 3}, \"mode\": \"markers\", \"name\": \"Student_60\", \"text\": [\"Student_60\"], \"x\": [35], \"y\": [67], \"type\": \"scatter\", \"uid\": \"282b7868-e40c-11e8-a1d0-d7b4c6107baf\"}], {\"hovermode\": \"closest\", \"showlegend\": true, \"title\": \"Notas dos estudantes vs acesso ao AVA\", \"xaxis\": {\"autorange\": false, \"fixedrange\": false, \"range\": [0, 108], \"rangemode\": \"normal\", \"showline\": true, \"title\": \"Acessos ao AVA\", \"zeroline\": false}, \"yaxis\": {\"autorange\": false, \"fixedrange\": false, \"range\": [0, 109], \"rangemode\": \"normal\", \"showline\": true, \"title\": \"Notas\"}}, {\"showLink\": true, \"linkText\": \"Export to plot.ly\"})});</script>"
      ],
      "text/vnd.plotly.v1+html": [
       "<div id=\"cd21750e-59f0-42f7-b0e3-069594e8c9aa\" style=\"height: 525px; width: 100%;\" class=\"plotly-graph-div\"></div><script type=\"text/javascript\">require([\"plotly\"], function(Plotly) { window.PLOTLYENV=window.PLOTLYENV || {};window.PLOTLYENV.BASE_URL=\"https://plot.ly\";Plotly.newPlot(\"cd21750e-59f0-42f7-b0e3-069594e8c9aa\", [{\"marker\": {\"color\": \"rgb(255,0,0)\", \"colorscale\": \"Viridis\", \"line\": {\"width\": 2}, \"size\": 12, \"symbol\": 0}, \"mode\": \"markers\", \"name\": \"Student_1\", \"text\": [\"Student_1\"], \"x\": [12], \"y\": [43], \"type\": \"scatter\", \"uid\": \"282b5770-e40c-11e8-a1d0-d7b4c6107baf\"}, {\"marker\": {\"color\": \"rgb(0,255,0)\", \"colorscale\": \"Viridis\", \"line\": {\"width\": 2}, \"size\": 12, \"symbol\": 2}, \"mode\": \"markers\", \"name\": \"Student_2\", \"text\": [\"Student_2\"], \"x\": [81], \"y\": [92], \"type\": \"scatter\", \"uid\": \"282b58ec-e40c-11e8-a1d0-d7b4c6107baf\"}, {\"marker\": {\"color\": \"rgb(0,0,255)\", \"colorscale\": \"Viridis\", \"line\": {\"width\": 2}, \"size\": 12, \"symbol\": 1}, \"mode\": \"markers\", \"name\": \"Student_3\", \"text\": [\"Student_3\"], \"x\": [68], \"y\": [82], \"type\": \"scatter\", \"uid\": \"282b59be-e40c-11e8-a1d0-d7b4c6107baf\"}, {\"marker\": {\"color\": \"rgb(255,0,0)\", \"colorscale\": \"Viridis\", \"line\": {\"width\": 2}, \"size\": 12, \"symbol\": 0}, \"mode\": \"markers\", \"name\": \"Student_4\", \"text\": [\"Student_4\"], \"x\": [17], \"y\": [48], \"type\": \"scatter\", \"uid\": \"282b5a68-e40c-11e8-a1d0-d7b4c6107baf\"}, {\"marker\": {\"color\": \"rgb(127,0,127)\", \"colorscale\": \"Viridis\", \"line\": {\"width\": 2}, \"size\": 12, \"symbol\": 3}, \"mode\": \"markers\", \"name\": \"Student_5\", \"text\": [\"Student_5\"], \"x\": [59], \"y\": [76], \"type\": \"scatter\", \"uid\": \"282b5af4-e40c-11e8-a1d0-d7b4c6107baf\"}, {\"marker\": {\"color\": \"rgb(127,0,127)\", \"colorscale\": \"Viridis\", \"line\": {\"width\": 2}, \"size\": 12, \"symbol\": 3}, \"mode\": \"markers\", \"name\": \"Student_6\", \"text\": [\"Student_6\"], \"x\": [45], \"y\": [62], \"type\": \"scatter\", \"uid\": \"282b5b80-e40c-11e8-a1d0-d7b4c6107baf\"}, {\"marker\": {\"color\": \"rgb(0,0,255)\", \"colorscale\": \"Viridis\", \"line\": {\"width\": 2}, \"size\": 12, \"symbol\": 1}, \"mode\": \"markers\", \"name\": \"Student_7\", \"text\": [\"Student_7\"], \"x\": [66], \"y\": [72], \"type\": \"scatter\", \"uid\": \"282b5c0c-e40c-11e8-a1d0-d7b4c6107baf\"}, {\"marker\": {\"color\": \"rgb(0,255,0)\", \"colorscale\": \"Viridis\", \"line\": {\"width\": 2}, \"size\": 12, \"symbol\": 2}, \"mode\": \"markers\", \"name\": \"Student_8\", \"text\": [\"Student_8\"], \"x\": [88], \"y\": [92], \"type\": \"scatter\", \"uid\": \"282b5c8e-e40c-11e8-a1d0-d7b4c6107baf\"}, {\"marker\": {\"color\": \"rgb(255,0,0)\", \"colorscale\": \"Viridis\", \"line\": {\"width\": 2}, \"size\": 12, \"symbol\": 0}, \"mode\": \"markers\", \"name\": \"Student_9\", \"text\": [\"Student_9\"], \"x\": [24], \"y\": [40], \"type\": \"scatter\", \"uid\": \"282b5d10-e40c-11e8-a1d0-d7b4c6107baf\"}, {\"marker\": {\"color\": \"rgb(0,255,0)\", \"colorscale\": \"Viridis\", \"line\": {\"width\": 2}, \"size\": 12, \"symbol\": 2}, \"mode\": \"markers\", \"name\": \"Student_10\", \"text\": [\"Student_10\"], \"x\": [68], \"y\": [83], \"type\": \"scatter\", \"uid\": \"282b5d9c-e40c-11e8-a1d0-d7b4c6107baf\"}, {\"marker\": {\"color\": \"rgb(127,0,127)\", \"colorscale\": \"Viridis\", \"line\": {\"width\": 2}, \"size\": 12, \"symbol\": 3}, \"mode\": \"markers\", \"name\": \"Student_11\", \"text\": [\"Student_11\"], \"x\": [57], \"y\": [74], \"type\": \"scatter\", \"uid\": \"282b5e1e-e40c-11e8-a1d0-d7b4c6107baf\"}, {\"marker\": {\"color\": \"rgb(0,0,255)\", \"colorscale\": \"Viridis\", \"line\": {\"width\": 2}, \"size\": 12, \"symbol\": 1}, \"mode\": \"markers\", \"name\": \"Student_12\", \"text\": [\"Student_12\"], \"x\": [67], \"y\": [79], \"type\": \"scatter\", \"uid\": \"282b5ea0-e40c-11e8-a1d0-d7b4c6107baf\"}, {\"marker\": {\"color\": \"rgb(0,0,255)\", \"colorscale\": \"Viridis\", \"line\": {\"width\": 2}, \"size\": 12, \"symbol\": 1}, \"mode\": \"markers\", \"name\": \"Student_13\", \"text\": [\"Student_13\"], \"x\": [59], \"y\": [79], \"type\": \"scatter\", \"uid\": \"282b5f22-e40c-11e8-a1d0-d7b4c6107baf\"}, {\"marker\": {\"color\": \"rgb(255,0,0)\", \"colorscale\": \"Viridis\", \"line\": {\"width\": 2}, \"size\": 12, \"symbol\": 0}, \"mode\": \"markers\", \"name\": \"Student_14\", \"text\": [\"Student_14\"], \"x\": [23], \"y\": [32], \"type\": \"scatter\", \"uid\": \"282b5fa4-e40c-11e8-a1d0-d7b4c6107baf\"}, {\"marker\": {\"color\": \"rgb(0,255,0)\", \"colorscale\": \"Viridis\", \"line\": {\"width\": 2}, \"size\": 12, \"symbol\": 2}, \"mode\": \"markers\", \"name\": \"Student_15\", \"text\": [\"Student_15\"], \"x\": [78], \"y\": [89], \"type\": \"scatter\", \"uid\": \"282b6030-e40c-11e8-a1d0-d7b4c6107baf\"}, {\"marker\": {\"color\": \"rgb(127,0,127)\", \"colorscale\": \"Viridis\", \"line\": {\"width\": 2}, \"size\": 12, \"symbol\": 3}, \"mode\": \"markers\", \"name\": \"Student_16\", \"text\": [\"Student_16\"], \"x\": [35], \"y\": [61], \"type\": \"scatter\", \"uid\": \"282b60b2-e40c-11e8-a1d0-d7b4c6107baf\"}, {\"marker\": {\"color\": \"rgb(127,0,127)\", \"colorscale\": \"Viridis\", \"line\": {\"width\": 2}, \"size\": 12, \"symbol\": 3}, \"mode\": \"markers\", \"name\": \"Student_17\", \"text\": [\"Student_17\"], \"x\": [56], \"y\": [71], \"type\": \"scatter\", \"uid\": \"282b613e-e40c-11e8-a1d0-d7b4c6107baf\"}, {\"marker\": {\"color\": \"rgb(127,0,127)\", \"colorscale\": \"Viridis\", \"line\": {\"width\": 2}, \"size\": 12, \"symbol\": 3}, \"mode\": \"markers\", \"name\": \"Student_18\", \"text\": [\"Student_18\"], \"x\": [66], \"y\": [71], \"type\": \"scatter\", \"uid\": \"282b61c0-e40c-11e8-a1d0-d7b4c6107baf\"}, {\"marker\": {\"color\": \"rgb(127,0,127)\", \"colorscale\": \"Viridis\", \"line\": {\"width\": 2}, \"size\": 12, \"symbol\": 3}, \"mode\": \"markers\", \"name\": \"Student_19\", \"text\": [\"Student_19\"], \"x\": [52], \"y\": [62], \"type\": \"scatter\", \"uid\": \"282b6242-e40c-11e8-a1d0-d7b4c6107baf\"}, {\"marker\": {\"color\": \"rgb(255,0,0)\", \"colorscale\": \"Viridis\", \"line\": {\"width\": 2}, \"size\": 12, \"symbol\": 0}, \"mode\": \"markers\", \"name\": \"Student_20\", \"text\": [\"Student_20\"], \"x\": [19], \"y\": [39], \"type\": \"scatter\", \"uid\": \"282b62c4-e40c-11e8-a1d0-d7b4c6107baf\"}, {\"marker\": {\"color\": \"rgb(127,0,127)\", \"colorscale\": \"Viridis\", \"line\": {\"width\": 2}, \"size\": 12, \"symbol\": 3}, \"mode\": \"markers\", \"name\": \"Student_21\", \"text\": [\"Student_21\"], \"x\": [46], \"y\": [69], \"type\": \"scatter\", \"uid\": \"282b6346-e40c-11e8-a1d0-d7b4c6107baf\"}, {\"marker\": {\"color\": \"rgb(0,0,255)\", \"colorscale\": \"Viridis\", \"line\": {\"width\": 2}, \"size\": 12, \"symbol\": 1}, \"mode\": \"markers\", \"name\": \"Student_22\", \"text\": [\"Student_22\"], \"x\": [77], \"y\": [84], \"type\": \"scatter\", \"uid\": \"282b63c8-e40c-11e8-a1d0-d7b4c6107baf\"}, {\"marker\": {\"color\": \"rgb(127,0,127)\", \"colorscale\": \"Viridis\", \"line\": {\"width\": 2}, \"size\": 12, \"symbol\": 3}, \"mode\": \"markers\", \"name\": \"Student_23\", \"text\": [\"Student_23\"], \"x\": [47], \"y\": [63], \"type\": \"scatter\", \"uid\": \"282b644a-e40c-11e8-a1d0-d7b4c6107baf\"}, {\"marker\": {\"color\": \"rgb(127,0,127)\", \"colorscale\": \"Viridis\", \"line\": {\"width\": 2}, \"size\": 12, \"symbol\": 3}, \"mode\": \"markers\", \"name\": \"Student_24\", \"text\": [\"Student_24\"], \"x\": [26], \"y\": [57], \"type\": \"scatter\", \"uid\": \"282b64cc-e40c-11e8-a1d0-d7b4c6107baf\"}, {\"marker\": {\"color\": \"rgb(0,0,255)\", \"colorscale\": \"Viridis\", \"line\": {\"width\": 2}, \"size\": 12, \"symbol\": 1}, \"mode\": \"markers\", \"name\": \"Student_25\", \"text\": [\"Student_25\"], \"x\": [57], \"y\": [74], \"type\": \"scatter\", \"uid\": \"282b654e-e40c-11e8-a1d0-d7b4c6107baf\"}, {\"marker\": {\"color\": \"rgb(127,0,127)\", \"colorscale\": \"Viridis\", \"line\": {\"width\": 2}, \"size\": 12, \"symbol\": 3}, \"mode\": \"markers\", \"name\": \"Student_26\", \"text\": [\"Student_26\"], \"x\": [27], \"y\": [59], \"type\": \"scatter\", \"uid\": \"282b65d0-e40c-11e8-a1d0-d7b4c6107baf\"}, {\"marker\": {\"color\": \"rgb(0,255,0)\", \"colorscale\": \"Viridis\", \"line\": {\"width\": 2}, \"size\": 12, \"symbol\": 2}, \"mode\": \"markers\", \"name\": \"Student_27\", \"text\": [\"Student_27\"], \"x\": [89], \"y\": [93], \"type\": \"scatter\", \"uid\": \"282b6652-e40c-11e8-a1d0-d7b4c6107baf\"}, {\"marker\": {\"color\": \"rgb(255,0,0)\", \"colorscale\": \"Viridis\", \"line\": {\"width\": 2}, \"size\": 12, \"symbol\": 0}, \"mode\": \"markers\", \"name\": \"Student_28\", \"text\": [\"Student_28\"], \"x\": [16], \"y\": [29], \"type\": \"scatter\", \"uid\": \"282b66d4-e40c-11e8-a1d0-d7b4c6107baf\"}, {\"marker\": {\"color\": \"rgb(255,0,0)\", \"colorscale\": \"Viridis\", \"line\": {\"width\": 2}, \"size\": 12, \"symbol\": 0}, \"mode\": \"markers\", \"name\": \"Student_29\", \"text\": [\"Student_29\"], \"x\": [8], \"y\": [22], \"type\": \"scatter\", \"uid\": \"282b6756-e40c-11e8-a1d0-d7b4c6107baf\"}, {\"marker\": {\"color\": \"rgb(255,0,0)\", \"colorscale\": \"Viridis\", \"line\": {\"width\": 2}, \"size\": 12, \"symbol\": 0}, \"mode\": \"markers\", \"name\": \"Student_30\", \"text\": [\"Student_30\"], \"x\": [22], \"y\": [53], \"type\": \"scatter\", \"uid\": \"282b67d8-e40c-11e8-a1d0-d7b4c6107baf\"}, {\"marker\": {\"color\": \"rgb(255,0,0)\", \"colorscale\": \"Viridis\", \"line\": {\"width\": 2}, \"size\": 12, \"symbol\": 0}, \"mode\": \"markers\", \"name\": \"Student_31\", \"text\": [\"Student_31\"], \"x\": [22], \"y\": [48], \"type\": \"scatter\", \"uid\": \"282b69a4-e40c-11e8-a1d0-d7b4c6107baf\"}, {\"marker\": {\"color\": \"rgb(127,0,127)\", \"colorscale\": \"Viridis\", \"line\": {\"width\": 2}, \"size\": 12, \"symbol\": 3}, \"mode\": \"markers\", \"name\": \"Student_32\", \"text\": [\"Student_32\"], \"x\": [51], \"y\": [75], \"type\": \"scatter\", \"uid\": \"282b6a26-e40c-11e8-a1d0-d7b4c6107baf\"}, {\"marker\": {\"color\": \"rgb(255,0,0)\", \"colorscale\": \"Viridis\", \"line\": {\"width\": 2}, \"size\": 12, \"symbol\": 0}, \"mode\": \"markers\", \"name\": \"Student_33\", \"text\": [\"Student_33\"], \"x\": [22], \"y\": [27], \"type\": \"scatter\", \"uid\": \"282b6aa8-e40c-11e8-a1d0-d7b4c6107baf\"}, {\"marker\": {\"color\": \"rgb(127,0,127)\", \"colorscale\": \"Viridis\", \"line\": {\"width\": 2}, \"size\": 12, \"symbol\": 3}, \"mode\": \"markers\", \"name\": \"Student_34\", \"text\": [\"Student_34\"], \"x\": [52], \"y\": [73], \"type\": \"scatter\", \"uid\": \"282b6b2a-e40c-11e8-a1d0-d7b4c6107baf\"}, {\"marker\": {\"color\": \"rgb(255,0,0)\", \"colorscale\": \"Viridis\", \"line\": {\"width\": 2}, \"size\": 12, \"symbol\": 0}, \"mode\": \"markers\", \"name\": \"Student_35\", \"text\": [\"Student_35\"], \"x\": [16], \"y\": [38], \"type\": \"scatter\", \"uid\": \"282b6bb6-e40c-11e8-a1d0-d7b4c6107baf\"}, {\"marker\": {\"color\": \"rgb(255,0,0)\", \"colorscale\": \"Viridis\", \"line\": {\"width\": 2}, \"size\": 12, \"symbol\": 0}, \"mode\": \"markers\", \"name\": \"Student_36\", \"text\": [\"Student_36\"], \"x\": [15], \"y\": [36], \"type\": \"scatter\", \"uid\": \"282b6c38-e40c-11e8-a1d0-d7b4c6107baf\"}, {\"marker\": {\"color\": \"rgb(0,0,255)\", \"colorscale\": \"Viridis\", \"line\": {\"width\": 2}, \"size\": 12, \"symbol\": 1}, \"mode\": \"markers\", \"name\": \"Student_37\", \"text\": [\"Student_37\"], \"x\": [71], \"y\": [81], \"type\": \"scatter\", \"uid\": \"282b6cc4-e40c-11e8-a1d0-d7b4c6107baf\"}, {\"marker\": {\"color\": \"rgb(0,0,255)\", \"colorscale\": \"Viridis\", \"line\": {\"width\": 2}, \"size\": 12, \"symbol\": 1}, \"mode\": \"markers\", \"name\": \"Student_38\", \"text\": [\"Student_38\"], \"x\": [79], \"y\": [84], \"type\": \"scatter\", \"uid\": \"282b6d46-e40c-11e8-a1d0-d7b4c6107baf\"}, {\"marker\": {\"color\": \"rgb(255,0,0)\", \"colorscale\": \"Viridis\", \"line\": {\"width\": 2}, \"size\": 12, \"symbol\": 0}, \"mode\": \"markers\", \"name\": \"Student_39\", \"text\": [\"Student_39\"], \"x\": [13], \"y\": [45], \"type\": \"scatter\", \"uid\": \"282b6dc8-e40c-11e8-a1d0-d7b4c6107baf\"}, {\"marker\": {\"color\": \"rgb(127,0,127)\", \"colorscale\": \"Viridis\", \"line\": {\"width\": 2}, \"size\": 12, \"symbol\": 3}, \"mode\": \"markers\", \"name\": \"Student_40\", \"text\": [\"Student_40\"], \"x\": [53], \"y\": [70], \"type\": \"scatter\", \"uid\": \"282b6e4a-e40c-11e8-a1d0-d7b4c6107baf\"}, {\"marker\": {\"color\": \"rgb(0,255,0)\", \"colorscale\": \"Viridis\", \"line\": {\"width\": 2}, \"size\": 12, \"symbol\": 2}, \"mode\": \"markers\", \"name\": \"Student_41\", \"text\": [\"Student_41\"], \"x\": [98], \"y\": [99], \"type\": \"scatter\", \"uid\": \"282b6ecc-e40c-11e8-a1d0-d7b4c6107baf\"}, {\"marker\": {\"color\": \"rgb(0,0,255)\", \"colorscale\": \"Viridis\", \"line\": {\"width\": 2}, \"size\": 12, \"symbol\": 1}, \"mode\": \"markers\", \"name\": \"Student_42\", \"text\": [\"Student_42\"], \"x\": [82], \"y\": [89], \"type\": \"scatter\", \"uid\": \"282b6f4e-e40c-11e8-a1d0-d7b4c6107baf\"}, {\"marker\": {\"color\": \"rgb(127,0,127)\", \"colorscale\": \"Viridis\", \"line\": {\"width\": 2}, \"size\": 12, \"symbol\": 3}, \"mode\": \"markers\", \"name\": \"Student_43\", \"text\": [\"Student_43\"], \"x\": [45], \"y\": [69], \"type\": \"scatter\", \"uid\": \"282b6fd0-e40c-11e8-a1d0-d7b4c6107baf\"}, {\"marker\": {\"color\": \"rgb(0,0,255)\", \"colorscale\": \"Viridis\", \"line\": {\"width\": 2}, \"size\": 12, \"symbol\": 1}, \"mode\": \"markers\", \"name\": \"Student_44\", \"text\": [\"Student_44\"], \"x\": [52], \"y\": [72], \"type\": \"scatter\", \"uid\": \"282b705c-e40c-11e8-a1d0-d7b4c6107baf\"}, {\"marker\": {\"color\": \"rgb(255,0,0)\", \"colorscale\": \"Viridis\", \"line\": {\"width\": 2}, \"size\": 12, \"symbol\": 0}, \"mode\": \"markers\", \"name\": \"Student_45\", \"text\": [\"Student_45\"], \"x\": [10], \"y\": [33], \"type\": \"scatter\", \"uid\": \"282b70de-e40c-11e8-a1d0-d7b4c6107baf\"}, {\"marker\": {\"color\": \"rgb(255,0,0)\", \"colorscale\": \"Viridis\", \"line\": {\"width\": 2}, \"size\": 12, \"symbol\": 0}, \"mode\": \"markers\", \"name\": \"Student_46\", \"text\": [\"Student_46\"], \"x\": [18], \"y\": [36], \"type\": \"scatter\", \"uid\": \"282b7160-e40c-11e8-a1d0-d7b4c6107baf\"}, {\"marker\": {\"color\": \"rgb(0,255,0)\", \"colorscale\": \"Viridis\", \"line\": {\"width\": 2}, \"size\": 12, \"symbol\": 2}, \"mode\": \"markers\", \"name\": \"Student_47\", \"text\": [\"Student_47\"], \"x\": [87], \"y\": [94], \"type\": \"scatter\", \"uid\": \"282b71e2-e40c-11e8-a1d0-d7b4c6107baf\"}, {\"marker\": {\"color\": \"rgb(255,0,0)\", \"colorscale\": \"Viridis\", \"line\": {\"width\": 2}, \"size\": 12, \"symbol\": 0}, \"mode\": \"markers\", \"name\": \"Student_48\", \"text\": [\"Student_48\"], \"x\": [25], \"y\": [41], \"type\": \"scatter\", \"uid\": \"282b7264-e40c-11e8-a1d0-d7b4c6107baf\"}, {\"marker\": {\"color\": \"rgb(255,0,0)\", \"colorscale\": \"Viridis\", \"line\": {\"width\": 2}, \"size\": 12, \"symbol\": 0}, \"mode\": \"markers\", \"name\": \"Student_49\", \"text\": [\"Student_49\"], \"x\": [17], \"y\": [37], \"type\": \"scatter\", \"uid\": \"282b72f0-e40c-11e8-a1d0-d7b4c6107baf\"}, {\"marker\": {\"color\": \"rgb(255,0,0)\", \"colorscale\": \"Viridis\", \"line\": {\"width\": 2}, \"size\": 12, \"symbol\": 0}, \"mode\": \"markers\", \"name\": \"Student_50\", \"text\": [\"Student_50\"], \"x\": [19], \"y\": [26], \"type\": \"scatter\", \"uid\": \"282b7372-e40c-11e8-a1d0-d7b4c6107baf\"}, {\"marker\": {\"color\": \"rgb(127,0,127)\", \"colorscale\": \"Viridis\", \"line\": {\"width\": 2}, \"size\": 12, \"symbol\": 3}, \"mode\": \"markers\", \"name\": \"Student_51\", \"text\": [\"Student_51\"], \"x\": [38], \"y\": [53], \"type\": \"scatter\", \"uid\": \"282b73f4-e40c-11e8-a1d0-d7b4c6107baf\"}, {\"marker\": {\"color\": \"rgb(255,0,0)\", \"colorscale\": \"Viridis\", \"line\": {\"width\": 2}, \"size\": 12, \"symbol\": 0}, \"mode\": \"markers\", \"name\": \"Student_52\", \"text\": [\"Student_52\"], \"x\": [23], \"y\": [11], \"type\": \"scatter\", \"uid\": \"282b7476-e40c-11e8-a1d0-d7b4c6107baf\"}, {\"marker\": {\"color\": \"rgb(127,0,127)\", \"colorscale\": \"Viridis\", \"line\": {\"width\": 2}, \"size\": 12, \"symbol\": 3}, \"mode\": \"markers\", \"name\": \"Student_53\", \"text\": [\"Student_53\"], \"x\": [66], \"y\": [72], \"type\": \"scatter\", \"uid\": \"282b74f8-e40c-11e8-a1d0-d7b4c6107baf\"}, {\"marker\": {\"color\": \"rgb(255,0,0)\", \"colorscale\": \"Viridis\", \"line\": {\"width\": 2}, \"size\": 12, \"symbol\": 0}, \"mode\": \"markers\", \"name\": \"Student_54\", \"text\": [\"Student_54\"], \"x\": [11], \"y\": [21], \"type\": \"scatter\", \"uid\": \"282b757a-e40c-11e8-a1d0-d7b4c6107baf\"}, {\"marker\": {\"color\": \"rgb(127,0,127)\", \"colorscale\": \"Viridis\", \"line\": {\"width\": 2}, \"size\": 12, \"symbol\": 3}, \"mode\": \"markers\", \"name\": \"Student_55\", \"text\": [\"Student_55\"], \"x\": [58], \"y\": [74], \"type\": \"scatter\", \"uid\": \"282b75fc-e40c-11e8-a1d0-d7b4c6107baf\"}, {\"marker\": {\"color\": \"rgb(0,0,255)\", \"colorscale\": \"Viridis\", \"line\": {\"width\": 2}, \"size\": 12, \"symbol\": 1}, \"mode\": \"markers\", \"name\": \"Student_56\", \"text\": [\"Student_56\"], \"x\": [84], \"y\": [82], \"type\": \"scatter\", \"uid\": \"282b7674-e40c-11e8-a1d0-d7b4c6107baf\"}, {\"marker\": {\"color\": \"rgb(127,0,127)\", \"colorscale\": \"Viridis\", \"line\": {\"width\": 2}, \"size\": 12, \"symbol\": 3}, \"mode\": \"markers\", \"name\": \"Student_57\", \"text\": [\"Student_57\"], \"x\": [50], \"y\": [64], \"type\": \"scatter\", \"uid\": \"282b76f6-e40c-11e8-a1d0-d7b4c6107baf\"}, {\"marker\": {\"color\": \"rgb(127,0,127)\", \"colorscale\": \"Viridis\", \"line\": {\"width\": 2}, \"size\": 12, \"symbol\": 3}, \"mode\": \"markers\", \"name\": \"Student_58\", \"text\": [\"Student_58\"], \"x\": [50], \"y\": [67], \"type\": \"scatter\", \"uid\": \"282b776e-e40c-11e8-a1d0-d7b4c6107baf\"}, {\"marker\": {\"color\": \"rgb(0,0,255)\", \"colorscale\": \"Viridis\", \"line\": {\"width\": 2}, \"size\": 12, \"symbol\": 1}, \"mode\": \"markers\", \"name\": \"Student_59\", \"text\": [\"Student_59\"], \"x\": [59], \"y\": [72], \"type\": \"scatter\", \"uid\": \"282b77f0-e40c-11e8-a1d0-d7b4c6107baf\"}, {\"marker\": {\"color\": \"rgb(127,0,127)\", \"colorscale\": \"Viridis\", \"line\": {\"width\": 2}, \"size\": 12, \"symbol\": 3}, \"mode\": \"markers\", \"name\": \"Student_60\", \"text\": [\"Student_60\"], \"x\": [35], \"y\": [67], \"type\": \"scatter\", \"uid\": \"282b7868-e40c-11e8-a1d0-d7b4c6107baf\"}], {\"hovermode\": \"closest\", \"showlegend\": true, \"title\": \"Notas dos estudantes vs acesso ao AVA\", \"xaxis\": {\"autorange\": false, \"fixedrange\": false, \"range\": [0, 108], \"rangemode\": \"normal\", \"showline\": true, \"title\": \"Acessos ao AVA\", \"zeroline\": false}, \"yaxis\": {\"autorange\": false, \"fixedrange\": false, \"range\": [0, 109], \"rangemode\": \"normal\", \"showline\": true, \"title\": \"Notas\"}}, {\"showLink\": true, \"linkText\": \"Export to plot.ly\"})});</script>"
      ]
     },
     "metadata": {},
     "output_type": "display_data"
    },
    {
     "data": {
      "application/vnd.plotly.v1+json": {
       "data": [
        {
         "marker": {
          "color": "rgb(255,0,0)",
          "colorscale": "Viridis",
          "line": {
           "width": 2
          },
          "size": 12,
          "symbol": 0
         },
         "mode": "markers",
         "name": "Student_1",
         "text": [
          "Student_1"
         ],
         "type": "scatter",
         "uid": "286c6c56-e40c-11e8-a1d0-d7b4c6107baf",
         "x": [
          2
         ],
         "y": [
          43
         ]
        },
        {
         "marker": {
          "color": "rgb(0,255,0)",
          "colorscale": "Viridis",
          "line": {
           "width": 2
          },
          "size": 12,
          "symbol": 2
         },
         "mode": "markers",
         "name": "Student_2",
         "text": [
          "Student_2"
         ],
         "type": "scatter",
         "uid": "286c6df0-e40c-11e8-a1d0-d7b4c6107baf",
         "x": [
          78
         ],
         "y": [
          92
         ]
        },
        {
         "marker": {
          "color": "rgb(0,0,255)",
          "colorscale": "Viridis",
          "line": {
           "width": 2
          },
          "size": 12,
          "symbol": 1
         },
         "mode": "markers",
         "name": "Student_3",
         "text": [
          "Student_3"
         ],
         "type": "scatter",
         "uid": "286c6ec2-e40c-11e8-a1d0-d7b4c6107baf",
         "x": [
          56
         ],
         "y": [
          82
         ]
        },
        {
         "marker": {
          "color": "rgb(255,0,0)",
          "colorscale": "Viridis",
          "line": {
           "width": 2
          },
          "size": 12,
          "symbol": 0
         },
         "mode": "markers",
         "name": "Student_4",
         "text": [
          "Student_4"
         ],
         "type": "scatter",
         "uid": "286c6f6c-e40c-11e8-a1d0-d7b4c6107baf",
         "x": [
          4
         ],
         "y": [
          48
         ]
        },
        {
         "marker": {
          "color": "rgb(127,0,127)",
          "colorscale": "Viridis",
          "line": {
           "width": 2
          },
          "size": 12,
          "symbol": 3
         },
         "mode": "markers",
         "name": "Student_5",
         "text": [
          "Student_5"
         ],
         "type": "scatter",
         "uid": "286c700c-e40c-11e8-a1d0-d7b4c6107baf",
         "x": [
          41
         ],
         "y": [
          76
         ]
        },
        {
         "marker": {
          "color": "rgb(127,0,127)",
          "colorscale": "Viridis",
          "line": {
           "width": 2
          },
          "size": 12,
          "symbol": 3
         },
         "mode": "markers",
         "name": "Student_6",
         "text": [
          "Student_6"
         ],
         "type": "scatter",
         "uid": "286c7098-e40c-11e8-a1d0-d7b4c6107baf",
         "x": [
          7
         ],
         "y": [
          62
         ]
        },
        {
         "marker": {
          "color": "rgb(0,0,255)",
          "colorscale": "Viridis",
          "line": {
           "width": 2
          },
          "size": 12,
          "symbol": 1
         },
         "mode": "markers",
         "name": "Student_7",
         "text": [
          "Student_7"
         ],
         "type": "scatter",
         "uid": "286c7124-e40c-11e8-a1d0-d7b4c6107baf",
         "x": [
          38
         ],
         "y": [
          72
         ]
        },
        {
         "marker": {
          "color": "rgb(0,255,0)",
          "colorscale": "Viridis",
          "line": {
           "width": 2
          },
          "size": 12,
          "symbol": 2
         },
         "mode": "markers",
         "name": "Student_8",
         "text": [
          "Student_8"
         ],
         "type": "scatter",
         "uid": "286c71b0-e40c-11e8-a1d0-d7b4c6107baf",
         "x": [
          72
         ],
         "y": [
          92
         ]
        },
        {
         "marker": {
          "color": "rgb(255,0,0)",
          "colorscale": "Viridis",
          "line": {
           "width": 2
          },
          "size": 12,
          "symbol": 0
         },
         "mode": "markers",
         "name": "Student_9",
         "text": [
          "Student_9"
         ],
         "type": "scatter",
         "uid": "286c723c-e40c-11e8-a1d0-d7b4c6107baf",
         "x": [
          4
         ],
         "y": [
          40
         ]
        },
        {
         "marker": {
          "color": "rgb(0,255,0)",
          "colorscale": "Viridis",
          "line": {
           "width": 2
          },
          "size": 12,
          "symbol": 2
         },
         "mode": "markers",
         "name": "Student_10",
         "text": [
          "Student_10"
         ],
         "type": "scatter",
         "uid": "286c72c8-e40c-11e8-a1d0-d7b4c6107baf",
         "x": [
          60
         ],
         "y": [
          83
         ]
        },
        {
         "marker": {
          "color": "rgb(127,0,127)",
          "colorscale": "Viridis",
          "line": {
           "width": 2
          },
          "size": 12,
          "symbol": 3
         },
         "mode": "markers",
         "name": "Student_11",
         "text": [
          "Student_11"
         ],
         "type": "scatter",
         "uid": "286c7354-e40c-11e8-a1d0-d7b4c6107baf",
         "x": [
          42
         ],
         "y": [
          74
         ]
        },
        {
         "marker": {
          "color": "rgb(0,0,255)",
          "colorscale": "Viridis",
          "line": {
           "width": 2
          },
          "size": 12,
          "symbol": 1
         },
         "mode": "markers",
         "name": "Student_12",
         "text": [
          "Student_12"
         ],
         "type": "scatter",
         "uid": "286c73ea-e40c-11e8-a1d0-d7b4c6107baf",
         "x": [
          42
         ],
         "y": [
          79
         ]
        },
        {
         "marker": {
          "color": "rgb(0,0,255)",
          "colorscale": "Viridis",
          "line": {
           "width": 2
          },
          "size": 12,
          "symbol": 1
         },
         "mode": "markers",
         "name": "Student_13",
         "text": [
          "Student_13"
         ],
         "type": "scatter",
         "uid": "286c7516-e40c-11e8-a1d0-d7b4c6107baf",
         "x": [
          39
         ],
         "y": [
          79
         ]
        },
        {
         "marker": {
          "color": "rgb(255,0,0)",
          "colorscale": "Viridis",
          "line": {
           "width": 2
          },
          "size": 12,
          "symbol": 0
         },
         "mode": "markers",
         "name": "Student_14",
         "text": [
          "Student_14"
         ],
         "type": "scatter",
         "uid": "286c75ac-e40c-11e8-a1d0-d7b4c6107baf",
         "x": [
          4
         ],
         "y": [
          32
         ]
        },
        {
         "marker": {
          "color": "rgb(0,255,0)",
          "colorscale": "Viridis",
          "line": {
           "width": 2
          },
          "size": 12,
          "symbol": 2
         },
         "mode": "markers",
         "name": "Student_15",
         "text": [
          "Student_15"
         ],
         "type": "scatter",
         "uid": "286c7638-e40c-11e8-a1d0-d7b4c6107baf",
         "x": [
          51
         ],
         "y": [
          89
         ]
        },
        {
         "marker": {
          "color": "rgb(127,0,127)",
          "colorscale": "Viridis",
          "line": {
           "width": 2
          },
          "size": 12,
          "symbol": 3
         },
         "mode": "markers",
         "name": "Student_16",
         "text": [
          "Student_16"
         ],
         "type": "scatter",
         "uid": "286c76c4-e40c-11e8-a1d0-d7b4c6107baf",
         "x": [
          23
         ],
         "y": [
          61
         ]
        },
        {
         "marker": {
          "color": "rgb(127,0,127)",
          "colorscale": "Viridis",
          "line": {
           "width": 2
          },
          "size": 12,
          "symbol": 3
         },
         "mode": "markers",
         "name": "Student_17",
         "text": [
          "Student_17"
         ],
         "type": "scatter",
         "uid": "286c7750-e40c-11e8-a1d0-d7b4c6107baf",
         "x": [
          43
         ],
         "y": [
          71
         ]
        },
        {
         "marker": {
          "color": "rgb(127,0,127)",
          "colorscale": "Viridis",
          "line": {
           "width": 2
          },
          "size": 12,
          "symbol": 3
         },
         "mode": "markers",
         "name": "Student_18",
         "text": [
          "Student_18"
         ],
         "type": "scatter",
         "uid": "286c77d2-e40c-11e8-a1d0-d7b4c6107baf",
         "x": [
          31
         ],
         "y": [
          71
         ]
        },
        {
         "marker": {
          "color": "rgb(127,0,127)",
          "colorscale": "Viridis",
          "line": {
           "width": 2
          },
          "size": 12,
          "symbol": 3
         },
         "mode": "markers",
         "name": "Student_19",
         "text": [
          "Student_19"
         ],
         "type": "scatter",
         "uid": "286c7872-e40c-11e8-a1d0-d7b4c6107baf",
         "x": [
          22
         ],
         "y": [
          62
         ]
        },
        {
         "marker": {
          "color": "rgb(255,0,0)",
          "colorscale": "Viridis",
          "line": {
           "width": 2
          },
          "size": 12,
          "symbol": 0
         },
         "mode": "markers",
         "name": "Student_20",
         "text": [
          "Student_20"
         ],
         "type": "scatter",
         "uid": "286c7944-e40c-11e8-a1d0-d7b4c6107baf",
         "x": [
          5
         ],
         "y": [
          39
         ]
        },
        {
         "marker": {
          "color": "rgb(127,0,127)",
          "colorscale": "Viridis",
          "line": {
           "width": 2
          },
          "size": 12,
          "symbol": 3
         },
         "mode": "markers",
         "name": "Student_21",
         "text": [
          "Student_21"
         ],
         "type": "scatter",
         "uid": "286c7a16-e40c-11e8-a1d0-d7b4c6107baf",
         "x": [
          22
         ],
         "y": [
          69
         ]
        },
        {
         "marker": {
          "color": "rgb(0,0,255)",
          "colorscale": "Viridis",
          "line": {
           "width": 2
          },
          "size": 12,
          "symbol": 1
         },
         "mode": "markers",
         "name": "Student_22",
         "text": [
          "Student_22"
         ],
         "type": "scatter",
         "uid": "286c7ae8-e40c-11e8-a1d0-d7b4c6107baf",
         "x": [
          49
         ],
         "y": [
          84
         ]
        },
        {
         "marker": {
          "color": "rgb(127,0,127)",
          "colorscale": "Viridis",
          "line": {
           "width": 2
          },
          "size": 12,
          "symbol": 3
         },
         "mode": "markers",
         "name": "Student_23",
         "text": [
          "Student_23"
         ],
         "type": "scatter",
         "uid": "286c7bc4-e40c-11e8-a1d0-d7b4c6107baf",
         "x": [
          24
         ],
         "y": [
          63
         ]
        },
        {
         "marker": {
          "color": "rgb(127,0,127)",
          "colorscale": "Viridis",
          "line": {
           "width": 2
          },
          "size": 12,
          "symbol": 3
         },
         "mode": "markers",
         "name": "Student_24",
         "text": [
          "Student_24"
         ],
         "type": "scatter",
         "uid": "286c7caa-e40c-11e8-a1d0-d7b4c6107baf",
         "x": [
          12
         ],
         "y": [
          57
         ]
        },
        {
         "marker": {
          "color": "rgb(0,0,255)",
          "colorscale": "Viridis",
          "line": {
           "width": 2
          },
          "size": 12,
          "symbol": 1
         },
         "mode": "markers",
         "name": "Student_25",
         "text": [
          "Student_25"
         ],
         "type": "scatter",
         "uid": "286c7d7c-e40c-11e8-a1d0-d7b4c6107baf",
         "x": [
          49
         ],
         "y": [
          74
         ]
        },
        {
         "marker": {
          "color": "rgb(127,0,127)",
          "colorscale": "Viridis",
          "line": {
           "width": 2
          },
          "size": 12,
          "symbol": 3
         },
         "mode": "markers",
         "name": "Student_26",
         "text": [
          "Student_26"
         ],
         "type": "scatter",
         "uid": "286c7e08-e40c-11e8-a1d0-d7b4c6107baf",
         "x": [
          20
         ],
         "y": [
          59
         ]
        },
        {
         "marker": {
          "color": "rgb(0,255,0)",
          "colorscale": "Viridis",
          "line": {
           "width": 2
          },
          "size": 12,
          "symbol": 2
         },
         "mode": "markers",
         "name": "Student_27",
         "text": [
          "Student_27"
         ],
         "type": "scatter",
         "uid": "286c7e94-e40c-11e8-a1d0-d7b4c6107baf",
         "x": [
          62
         ],
         "y": [
          93
         ]
        },
        {
         "marker": {
          "color": "rgb(255,0,0)",
          "colorscale": "Viridis",
          "line": {
           "width": 2
          },
          "size": 12,
          "symbol": 0
         },
         "mode": "markers",
         "name": "Student_28",
         "text": [
          "Student_28"
         ],
         "type": "scatter",
         "uid": "286c7f16-e40c-11e8-a1d0-d7b4c6107baf",
         "x": [
          7
         ],
         "y": [
          29
         ]
        },
        {
         "marker": {
          "color": "rgb(255,0,0)",
          "colorscale": "Viridis",
          "line": {
           "width": 2
          },
          "size": 12,
          "symbol": 0
         },
         "mode": "markers",
         "name": "Student_29",
         "text": [
          "Student_29"
         ],
         "type": "scatter",
         "uid": "286c7fc0-e40c-11e8-a1d0-d7b4c6107baf",
         "x": [
          5
         ],
         "y": [
          22
         ]
        },
        {
         "marker": {
          "color": "rgb(255,0,0)",
          "colorscale": "Viridis",
          "line": {
           "width": 2
          },
          "size": 12,
          "symbol": 0
         },
         "mode": "markers",
         "name": "Student_30",
         "text": [
          "Student_30"
         ],
         "type": "scatter",
         "uid": "286c80a6-e40c-11e8-a1d0-d7b4c6107baf",
         "x": [
          13
         ],
         "y": [
          53
         ]
        },
        {
         "marker": {
          "color": "rgb(255,0,0)",
          "colorscale": "Viridis",
          "line": {
           "width": 2
          },
          "size": 12,
          "symbol": 0
         },
         "mode": "markers",
         "name": "Student_31",
         "text": [
          "Student_31"
         ],
         "type": "scatter",
         "uid": "286c8196-e40c-11e8-a1d0-d7b4c6107baf",
         "x": [
          4
         ],
         "y": [
          48
         ]
        },
        {
         "marker": {
          "color": "rgb(127,0,127)",
          "colorscale": "Viridis",
          "line": {
           "width": 2
          },
          "size": 12,
          "symbol": 3
         },
         "mode": "markers",
         "name": "Student_32",
         "text": [
          "Student_32"
         ],
         "type": "scatter",
         "uid": "286c8286-e40c-11e8-a1d0-d7b4c6107baf",
         "x": [
          40
         ],
         "y": [
          75
         ]
        },
        {
         "marker": {
          "color": "rgb(255,0,0)",
          "colorscale": "Viridis",
          "line": {
           "width": 2
          },
          "size": 12,
          "symbol": 0
         },
         "mode": "markers",
         "name": "Student_33",
         "text": [
          "Student_33"
         ],
         "type": "scatter",
         "uid": "286c8330-e40c-11e8-a1d0-d7b4c6107baf",
         "x": [
          3
         ],
         "y": [
          27
         ]
        },
        {
         "marker": {
          "color": "rgb(127,0,127)",
          "colorscale": "Viridis",
          "line": {
           "width": 2
          },
          "size": 12,
          "symbol": 3
         },
         "mode": "markers",
         "name": "Student_34",
         "text": [
          "Student_34"
         ],
         "type": "scatter",
         "uid": "286c83bc-e40c-11e8-a1d0-d7b4c6107baf",
         "x": [
          34
         ],
         "y": [
          73
         ]
        },
        {
         "marker": {
          "color": "rgb(255,0,0)",
          "colorscale": "Viridis",
          "line": {
           "width": 2
          },
          "size": 12,
          "symbol": 0
         },
         "mode": "markers",
         "name": "Student_35",
         "text": [
          "Student_35"
         ],
         "type": "scatter",
         "uid": "286c8452-e40c-11e8-a1d0-d7b4c6107baf",
         "x": [
          2
         ],
         "y": [
          38
         ]
        },
        {
         "marker": {
          "color": "rgb(255,0,0)",
          "colorscale": "Viridis",
          "line": {
           "width": 2
          },
          "size": 12,
          "symbol": 0
         },
         "mode": "markers",
         "name": "Student_36",
         "text": [
          "Student_36"
         ],
         "type": "scatter",
         "uid": "286c84e8-e40c-11e8-a1d0-d7b4c6107baf",
         "x": [
          4
         ],
         "y": [
          36
         ]
        },
        {
         "marker": {
          "color": "rgb(0,0,255)",
          "colorscale": "Viridis",
          "line": {
           "width": 2
          },
          "size": 12,
          "symbol": 1
         },
         "mode": "markers",
         "name": "Student_37",
         "text": [
          "Student_37"
         ],
         "type": "scatter",
         "uid": "286c8574-e40c-11e8-a1d0-d7b4c6107baf",
         "x": [
          47
         ],
         "y": [
          81
         ]
        },
        {
         "marker": {
          "color": "rgb(0,0,255)",
          "colorscale": "Viridis",
          "line": {
           "width": 2
          },
          "size": 12,
          "symbol": 1
         },
         "mode": "markers",
         "name": "Student_38",
         "text": [
          "Student_38"
         ],
         "type": "scatter",
         "uid": "286c860a-e40c-11e8-a1d0-d7b4c6107baf",
         "x": [
          50
         ],
         "y": [
          84
         ]
        },
        {
         "marker": {
          "color": "rgb(255,0,0)",
          "colorscale": "Viridis",
          "line": {
           "width": 2
          },
          "size": 12,
          "symbol": 0
         },
         "mode": "markers",
         "name": "Student_39",
         "text": [
          "Student_39"
         ],
         "type": "scatter",
         "uid": "286c8696-e40c-11e8-a1d0-d7b4c6107baf",
         "x": [
          7
         ],
         "y": [
          45
         ]
        },
        {
         "marker": {
          "color": "rgb(127,0,127)",
          "colorscale": "Viridis",
          "line": {
           "width": 2
          },
          "size": 12,
          "symbol": 3
         },
         "mode": "markers",
         "name": "Student_40",
         "text": [
          "Student_40"
         ],
         "type": "scatter",
         "uid": "286c8722-e40c-11e8-a1d0-d7b4c6107baf",
         "x": [
          20
         ],
         "y": [
          70
         ]
        },
        {
         "marker": {
          "color": "rgb(0,255,0)",
          "colorscale": "Viridis",
          "line": {
           "width": 2
          },
          "size": 12,
          "symbol": 2
         },
         "mode": "markers",
         "name": "Student_41",
         "text": [
          "Student_41"
         ],
         "type": "scatter",
         "uid": "286c87ae-e40c-11e8-a1d0-d7b4c6107baf",
         "x": [
          68
         ],
         "y": [
          99
         ]
        },
        {
         "marker": {
          "color": "rgb(0,0,255)",
          "colorscale": "Viridis",
          "line": {
           "width": 2
          },
          "size": 12,
          "symbol": 1
         },
         "mode": "markers",
         "name": "Student_42",
         "text": [
          "Student_42"
         ],
         "type": "scatter",
         "uid": "286c883a-e40c-11e8-a1d0-d7b4c6107baf",
         "x": [
          60
         ],
         "y": [
          89
         ]
        },
        {
         "marker": {
          "color": "rgb(127,0,127)",
          "colorscale": "Viridis",
          "line": {
           "width": 2
          },
          "size": 12,
          "symbol": 3
         },
         "mode": "markers",
         "name": "Student_43",
         "text": [
          "Student_43"
         ],
         "type": "scatter",
         "uid": "286c88c6-e40c-11e8-a1d0-d7b4c6107baf",
         "x": [
          25
         ],
         "y": [
          69
         ]
        },
        {
         "marker": {
          "color": "rgb(0,0,255)",
          "colorscale": "Viridis",
          "line": {
           "width": 2
          },
          "size": 12,
          "symbol": 1
         },
         "mode": "markers",
         "name": "Student_44",
         "text": [
          "Student_44"
         ],
         "type": "scatter",
         "uid": "286c8952-e40c-11e8-a1d0-d7b4c6107baf",
         "x": [
          35
         ],
         "y": [
          72
         ]
        },
        {
         "marker": {
          "color": "rgb(255,0,0)",
          "colorscale": "Viridis",
          "line": {
           "width": 2
          },
          "size": 12,
          "symbol": 0
         },
         "mode": "markers",
         "name": "Student_45",
         "text": [
          "Student_45"
         ],
         "type": "scatter",
         "uid": "286c89de-e40c-11e8-a1d0-d7b4c6107baf",
         "x": [
          3
         ],
         "y": [
          33
         ]
        },
        {
         "marker": {
          "color": "rgb(255,0,0)",
          "colorscale": "Viridis",
          "line": {
           "width": 2
          },
          "size": 12,
          "symbol": 0
         },
         "mode": "markers",
         "name": "Student_46",
         "text": [
          "Student_46"
         ],
         "type": "scatter",
         "uid": "286c8a74-e40c-11e8-a1d0-d7b4c6107baf",
         "x": [
          3
         ],
         "y": [
          36
         ]
        },
        {
         "marker": {
          "color": "rgb(0,255,0)",
          "colorscale": "Viridis",
          "line": {
           "width": 2
          },
          "size": 12,
          "symbol": 2
         },
         "mode": "markers",
         "name": "Student_47",
         "text": [
          "Student_47"
         ],
         "type": "scatter",
         "uid": "286c8af6-e40c-11e8-a1d0-d7b4c6107baf",
         "x": [
          67
         ],
         "y": [
          94
         ]
        },
        {
         "marker": {
          "color": "rgb(255,0,0)",
          "colorscale": "Viridis",
          "line": {
           "width": 2
          },
          "size": 12,
          "symbol": 0
         },
         "mode": "markers",
         "name": "Student_48",
         "text": [
          "Student_48"
         ],
         "type": "scatter",
         "uid": "286c8b8c-e40c-11e8-a1d0-d7b4c6107baf",
         "x": [
          4
         ],
         "y": [
          41
         ]
        },
        {
         "marker": {
          "color": "rgb(255,0,0)",
          "colorscale": "Viridis",
          "line": {
           "width": 2
          },
          "size": 12,
          "symbol": 0
         },
         "mode": "markers",
         "name": "Student_49",
         "text": [
          "Student_49"
         ],
         "type": "scatter",
         "uid": "286c8c22-e40c-11e8-a1d0-d7b4c6107baf",
         "x": [
          5
         ],
         "y": [
          37
         ]
        },
        {
         "marker": {
          "color": "rgb(255,0,0)",
          "colorscale": "Viridis",
          "line": {
           "width": 2
          },
          "size": 12,
          "symbol": 0
         },
         "mode": "markers",
         "name": "Student_50",
         "text": [
          "Student_50"
         ],
         "type": "scatter",
         "uid": "286c8cb8-e40c-11e8-a1d0-d7b4c6107baf",
         "x": [
          3
         ],
         "y": [
          26
         ]
        },
        {
         "marker": {
          "color": "rgb(127,0,127)",
          "colorscale": "Viridis",
          "line": {
           "width": 2
          },
          "size": 12,
          "symbol": 3
         },
         "mode": "markers",
         "name": "Student_51",
         "text": [
          "Student_51"
         ],
         "type": "scatter",
         "uid": "286c8d58-e40c-11e8-a1d0-d7b4c6107baf",
         "x": [
          18
         ],
         "y": [
          53
         ]
        },
        {
         "marker": {
          "color": "rgb(255,0,0)",
          "colorscale": "Viridis",
          "line": {
           "width": 2
          },
          "size": 12,
          "symbol": 0
         },
         "mode": "markers",
         "name": "Student_52",
         "text": [
          "Student_52"
         ],
         "type": "scatter",
         "uid": "286c8dee-e40c-11e8-a1d0-d7b4c6107baf",
         "x": [
          6
         ],
         "y": [
          11
         ]
        },
        {
         "marker": {
          "color": "rgb(127,0,127)",
          "colorscale": "Viridis",
          "line": {
           "width": 2
          },
          "size": 12,
          "symbol": 3
         },
         "mode": "markers",
         "name": "Student_53",
         "text": [
          "Student_53"
         ],
         "type": "scatter",
         "uid": "286c8e8e-e40c-11e8-a1d0-d7b4c6107baf",
         "x": [
          32
         ],
         "y": [
          72
         ]
        },
        {
         "marker": {
          "color": "rgb(255,0,0)",
          "colorscale": "Viridis",
          "line": {
           "width": 2
          },
          "size": 12,
          "symbol": 0
         },
         "mode": "markers",
         "name": "Student_54",
         "text": [
          "Student_54"
         ],
         "type": "scatter",
         "uid": "286c8f2e-e40c-11e8-a1d0-d7b4c6107baf",
         "x": [
          5
         ],
         "y": [
          21
         ]
        },
        {
         "marker": {
          "color": "rgb(127,0,127)",
          "colorscale": "Viridis",
          "line": {
           "width": 2
          },
          "size": 12,
          "symbol": 3
         },
         "mode": "markers",
         "name": "Student_55",
         "text": [
          "Student_55"
         ],
         "type": "scatter",
         "uid": "286c8fc4-e40c-11e8-a1d0-d7b4c6107baf",
         "x": [
          38
         ],
         "y": [
          74
         ]
        },
        {
         "marker": {
          "color": "rgb(0,0,255)",
          "colorscale": "Viridis",
          "line": {
           "width": 2
          },
          "size": 12,
          "symbol": 1
         },
         "mode": "markers",
         "name": "Student_56",
         "text": [
          "Student_56"
         ],
         "type": "scatter",
         "uid": "286c906e-e40c-11e8-a1d0-d7b4c6107baf",
         "x": [
          63
         ],
         "y": [
          82
         ]
        },
        {
         "marker": {
          "color": "rgb(127,0,127)",
          "colorscale": "Viridis",
          "line": {
           "width": 2
          },
          "size": 12,
          "symbol": 3
         },
         "mode": "markers",
         "name": "Student_57",
         "text": [
          "Student_57"
         ],
         "type": "scatter",
         "uid": "286c9118-e40c-11e8-a1d0-d7b4c6107baf",
         "x": [
          21
         ],
         "y": [
          64
         ]
        },
        {
         "marker": {
          "color": "rgb(127,0,127)",
          "colorscale": "Viridis",
          "line": {
           "width": 2
          },
          "size": 12,
          "symbol": 3
         },
         "mode": "markers",
         "name": "Student_58",
         "text": [
          "Student_58"
         ],
         "type": "scatter",
         "uid": "286c91ae-e40c-11e8-a1d0-d7b4c6107baf",
         "x": [
          12
         ],
         "y": [
          67
         ]
        },
        {
         "marker": {
          "color": "rgb(0,0,255)",
          "colorscale": "Viridis",
          "line": {
           "width": 2
          },
          "size": 12,
          "symbol": 1
         },
         "mode": "markers",
         "name": "Student_59",
         "text": [
          "Student_59"
         ],
         "type": "scatter",
         "uid": "286c924e-e40c-11e8-a1d0-d7b4c6107baf",
         "x": [
          52
         ],
         "y": [
          72
         ]
        },
        {
         "marker": {
          "color": "rgb(127,0,127)",
          "colorscale": "Viridis",
          "line": {
           "width": 2
          },
          "size": 12,
          "symbol": 3
         },
         "mode": "markers",
         "name": "Student_60",
         "text": [
          "Student_60"
         ],
         "type": "scatter",
         "uid": "286c92ee-e40c-11e8-a1d0-d7b4c6107baf",
         "x": [
          16
         ],
         "y": [
          67
         ]
        }
       ],
       "layout": {
        "hovermode": "closest",
        "showlegend": true,
        "title": "Notas dos estudantes vs acesso aos materiais",
        "xaxis": {
         "autorange": false,
         "fixedrange": false,
         "range": [
          0,
          88
         ],
         "rangemode": "normal",
         "showline": true,
         "title": "Acesso aos materiais",
         "zeroline": false
        },
        "yaxis": {
         "autorange": false,
         "fixedrange": false,
         "range": [
          0,
          109
         ],
         "rangemode": "normal",
         "showline": true,
         "title": "Notas"
        }
       }
      },
      "text/html": [
       "<div id=\"e076cf66-e6df-482f-8479-136b423ad60e\" style=\"height: 525px; width: 100%;\" class=\"plotly-graph-div\"></div><script type=\"text/javascript\">require([\"plotly\"], function(Plotly) { window.PLOTLYENV=window.PLOTLYENV || {};window.PLOTLYENV.BASE_URL=\"https://plot.ly\";Plotly.newPlot(\"e076cf66-e6df-482f-8479-136b423ad60e\", [{\"marker\": {\"color\": \"rgb(255,0,0)\", \"colorscale\": \"Viridis\", \"line\": {\"width\": 2}, \"size\": 12, \"symbol\": 0}, \"mode\": \"markers\", \"name\": \"Student_1\", \"text\": [\"Student_1\"], \"x\": [2], \"y\": [43], \"type\": \"scatter\", \"uid\": \"286c6c56-e40c-11e8-a1d0-d7b4c6107baf\"}, {\"marker\": {\"color\": \"rgb(0,255,0)\", \"colorscale\": \"Viridis\", \"line\": {\"width\": 2}, \"size\": 12, \"symbol\": 2}, \"mode\": \"markers\", \"name\": \"Student_2\", \"text\": [\"Student_2\"], \"x\": [78], \"y\": [92], \"type\": \"scatter\", \"uid\": \"286c6df0-e40c-11e8-a1d0-d7b4c6107baf\"}, {\"marker\": {\"color\": \"rgb(0,0,255)\", \"colorscale\": \"Viridis\", \"line\": {\"width\": 2}, \"size\": 12, \"symbol\": 1}, \"mode\": \"markers\", \"name\": \"Student_3\", \"text\": [\"Student_3\"], \"x\": [56], \"y\": [82], \"type\": \"scatter\", \"uid\": \"286c6ec2-e40c-11e8-a1d0-d7b4c6107baf\"}, {\"marker\": {\"color\": \"rgb(255,0,0)\", \"colorscale\": \"Viridis\", \"line\": {\"width\": 2}, \"size\": 12, \"symbol\": 0}, \"mode\": \"markers\", \"name\": \"Student_4\", \"text\": [\"Student_4\"], \"x\": [4], \"y\": [48], \"type\": \"scatter\", \"uid\": \"286c6f6c-e40c-11e8-a1d0-d7b4c6107baf\"}, {\"marker\": {\"color\": \"rgb(127,0,127)\", \"colorscale\": \"Viridis\", \"line\": {\"width\": 2}, \"size\": 12, \"symbol\": 3}, \"mode\": \"markers\", \"name\": \"Student_5\", \"text\": [\"Student_5\"], \"x\": [41], \"y\": [76], \"type\": \"scatter\", \"uid\": \"286c700c-e40c-11e8-a1d0-d7b4c6107baf\"}, {\"marker\": {\"color\": \"rgb(127,0,127)\", \"colorscale\": \"Viridis\", \"line\": {\"width\": 2}, \"size\": 12, \"symbol\": 3}, \"mode\": \"markers\", \"name\": \"Student_6\", \"text\": [\"Student_6\"], \"x\": [7], \"y\": [62], \"type\": \"scatter\", \"uid\": \"286c7098-e40c-11e8-a1d0-d7b4c6107baf\"}, {\"marker\": {\"color\": \"rgb(0,0,255)\", \"colorscale\": \"Viridis\", \"line\": {\"width\": 2}, \"size\": 12, \"symbol\": 1}, \"mode\": \"markers\", \"name\": \"Student_7\", \"text\": [\"Student_7\"], \"x\": [38], \"y\": [72], \"type\": \"scatter\", \"uid\": \"286c7124-e40c-11e8-a1d0-d7b4c6107baf\"}, {\"marker\": {\"color\": \"rgb(0,255,0)\", \"colorscale\": \"Viridis\", \"line\": {\"width\": 2}, \"size\": 12, \"symbol\": 2}, \"mode\": \"markers\", \"name\": \"Student_8\", \"text\": [\"Student_8\"], \"x\": [72], \"y\": [92], \"type\": \"scatter\", \"uid\": \"286c71b0-e40c-11e8-a1d0-d7b4c6107baf\"}, {\"marker\": {\"color\": \"rgb(255,0,0)\", \"colorscale\": \"Viridis\", \"line\": {\"width\": 2}, \"size\": 12, \"symbol\": 0}, \"mode\": \"markers\", \"name\": \"Student_9\", \"text\": [\"Student_9\"], \"x\": [4], \"y\": [40], \"type\": \"scatter\", \"uid\": \"286c723c-e40c-11e8-a1d0-d7b4c6107baf\"}, {\"marker\": {\"color\": \"rgb(0,255,0)\", \"colorscale\": \"Viridis\", \"line\": {\"width\": 2}, \"size\": 12, \"symbol\": 2}, \"mode\": \"markers\", \"name\": \"Student_10\", \"text\": [\"Student_10\"], \"x\": [60], \"y\": [83], \"type\": \"scatter\", \"uid\": \"286c72c8-e40c-11e8-a1d0-d7b4c6107baf\"}, {\"marker\": {\"color\": \"rgb(127,0,127)\", \"colorscale\": \"Viridis\", \"line\": {\"width\": 2}, \"size\": 12, \"symbol\": 3}, \"mode\": \"markers\", \"name\": \"Student_11\", \"text\": [\"Student_11\"], \"x\": [42], \"y\": [74], \"type\": \"scatter\", \"uid\": \"286c7354-e40c-11e8-a1d0-d7b4c6107baf\"}, {\"marker\": {\"color\": \"rgb(0,0,255)\", \"colorscale\": \"Viridis\", \"line\": {\"width\": 2}, \"size\": 12, \"symbol\": 1}, \"mode\": \"markers\", \"name\": \"Student_12\", \"text\": [\"Student_12\"], \"x\": [42], \"y\": [79], \"type\": \"scatter\", \"uid\": \"286c73ea-e40c-11e8-a1d0-d7b4c6107baf\"}, {\"marker\": {\"color\": \"rgb(0,0,255)\", \"colorscale\": \"Viridis\", \"line\": {\"width\": 2}, \"size\": 12, \"symbol\": 1}, \"mode\": \"markers\", \"name\": \"Student_13\", \"text\": [\"Student_13\"], \"x\": [39], \"y\": [79], \"type\": \"scatter\", \"uid\": \"286c7516-e40c-11e8-a1d0-d7b4c6107baf\"}, {\"marker\": {\"color\": \"rgb(255,0,0)\", \"colorscale\": \"Viridis\", \"line\": {\"width\": 2}, \"size\": 12, \"symbol\": 0}, \"mode\": \"markers\", \"name\": \"Student_14\", \"text\": [\"Student_14\"], \"x\": [4], \"y\": [32], \"type\": \"scatter\", \"uid\": \"286c75ac-e40c-11e8-a1d0-d7b4c6107baf\"}, {\"marker\": {\"color\": \"rgb(0,255,0)\", \"colorscale\": \"Viridis\", \"line\": {\"width\": 2}, \"size\": 12, \"symbol\": 2}, \"mode\": \"markers\", \"name\": \"Student_15\", \"text\": [\"Student_15\"], \"x\": [51], \"y\": [89], \"type\": \"scatter\", \"uid\": \"286c7638-e40c-11e8-a1d0-d7b4c6107baf\"}, {\"marker\": {\"color\": \"rgb(127,0,127)\", \"colorscale\": \"Viridis\", \"line\": {\"width\": 2}, \"size\": 12, \"symbol\": 3}, \"mode\": \"markers\", \"name\": \"Student_16\", \"text\": [\"Student_16\"], \"x\": [23], \"y\": [61], \"type\": \"scatter\", \"uid\": \"286c76c4-e40c-11e8-a1d0-d7b4c6107baf\"}, {\"marker\": {\"color\": \"rgb(127,0,127)\", \"colorscale\": \"Viridis\", \"line\": {\"width\": 2}, \"size\": 12, \"symbol\": 3}, \"mode\": \"markers\", \"name\": \"Student_17\", \"text\": [\"Student_17\"], \"x\": [43], \"y\": [71], \"type\": \"scatter\", \"uid\": \"286c7750-e40c-11e8-a1d0-d7b4c6107baf\"}, {\"marker\": {\"color\": \"rgb(127,0,127)\", \"colorscale\": \"Viridis\", \"line\": {\"width\": 2}, \"size\": 12, \"symbol\": 3}, \"mode\": \"markers\", \"name\": \"Student_18\", \"text\": [\"Student_18\"], \"x\": [31], \"y\": [71], \"type\": \"scatter\", \"uid\": \"286c77d2-e40c-11e8-a1d0-d7b4c6107baf\"}, {\"marker\": {\"color\": \"rgb(127,0,127)\", \"colorscale\": \"Viridis\", \"line\": {\"width\": 2}, \"size\": 12, \"symbol\": 3}, \"mode\": \"markers\", \"name\": \"Student_19\", \"text\": [\"Student_19\"], \"x\": [22], \"y\": [62], \"type\": \"scatter\", \"uid\": \"286c7872-e40c-11e8-a1d0-d7b4c6107baf\"}, {\"marker\": {\"color\": \"rgb(255,0,0)\", \"colorscale\": \"Viridis\", \"line\": {\"width\": 2}, \"size\": 12, \"symbol\": 0}, \"mode\": \"markers\", \"name\": \"Student_20\", \"text\": [\"Student_20\"], \"x\": [5], \"y\": [39], \"type\": \"scatter\", \"uid\": \"286c7944-e40c-11e8-a1d0-d7b4c6107baf\"}, {\"marker\": {\"color\": \"rgb(127,0,127)\", \"colorscale\": \"Viridis\", \"line\": {\"width\": 2}, \"size\": 12, \"symbol\": 3}, \"mode\": \"markers\", \"name\": \"Student_21\", \"text\": [\"Student_21\"], \"x\": [22], \"y\": [69], \"type\": \"scatter\", \"uid\": \"286c7a16-e40c-11e8-a1d0-d7b4c6107baf\"}, {\"marker\": {\"color\": \"rgb(0,0,255)\", \"colorscale\": \"Viridis\", \"line\": {\"width\": 2}, \"size\": 12, \"symbol\": 1}, \"mode\": \"markers\", \"name\": \"Student_22\", \"text\": [\"Student_22\"], \"x\": [49], \"y\": [84], \"type\": \"scatter\", \"uid\": \"286c7ae8-e40c-11e8-a1d0-d7b4c6107baf\"}, {\"marker\": {\"color\": \"rgb(127,0,127)\", \"colorscale\": \"Viridis\", \"line\": {\"width\": 2}, \"size\": 12, \"symbol\": 3}, \"mode\": \"markers\", \"name\": \"Student_23\", \"text\": [\"Student_23\"], \"x\": [24], \"y\": [63], \"type\": \"scatter\", \"uid\": \"286c7bc4-e40c-11e8-a1d0-d7b4c6107baf\"}, {\"marker\": {\"color\": \"rgb(127,0,127)\", \"colorscale\": \"Viridis\", \"line\": {\"width\": 2}, \"size\": 12, \"symbol\": 3}, \"mode\": \"markers\", \"name\": \"Student_24\", \"text\": [\"Student_24\"], \"x\": [12], \"y\": [57], \"type\": \"scatter\", \"uid\": \"286c7caa-e40c-11e8-a1d0-d7b4c6107baf\"}, {\"marker\": {\"color\": \"rgb(0,0,255)\", \"colorscale\": \"Viridis\", \"line\": {\"width\": 2}, \"size\": 12, \"symbol\": 1}, \"mode\": \"markers\", \"name\": \"Student_25\", \"text\": [\"Student_25\"], \"x\": [49], \"y\": [74], \"type\": \"scatter\", \"uid\": \"286c7d7c-e40c-11e8-a1d0-d7b4c6107baf\"}, {\"marker\": {\"color\": \"rgb(127,0,127)\", \"colorscale\": \"Viridis\", \"line\": {\"width\": 2}, \"size\": 12, \"symbol\": 3}, \"mode\": \"markers\", \"name\": \"Student_26\", \"text\": [\"Student_26\"], \"x\": [20], \"y\": [59], \"type\": \"scatter\", \"uid\": \"286c7e08-e40c-11e8-a1d0-d7b4c6107baf\"}, {\"marker\": {\"color\": \"rgb(0,255,0)\", \"colorscale\": \"Viridis\", \"line\": {\"width\": 2}, \"size\": 12, \"symbol\": 2}, \"mode\": \"markers\", \"name\": \"Student_27\", \"text\": [\"Student_27\"], \"x\": [62], \"y\": [93], \"type\": \"scatter\", \"uid\": \"286c7e94-e40c-11e8-a1d0-d7b4c6107baf\"}, {\"marker\": {\"color\": \"rgb(255,0,0)\", \"colorscale\": \"Viridis\", \"line\": {\"width\": 2}, \"size\": 12, \"symbol\": 0}, \"mode\": \"markers\", \"name\": \"Student_28\", \"text\": [\"Student_28\"], \"x\": [7], \"y\": [29], \"type\": \"scatter\", \"uid\": \"286c7f16-e40c-11e8-a1d0-d7b4c6107baf\"}, {\"marker\": {\"color\": \"rgb(255,0,0)\", \"colorscale\": \"Viridis\", \"line\": {\"width\": 2}, \"size\": 12, \"symbol\": 0}, \"mode\": \"markers\", \"name\": \"Student_29\", \"text\": [\"Student_29\"], \"x\": [5], \"y\": [22], \"type\": \"scatter\", \"uid\": \"286c7fc0-e40c-11e8-a1d0-d7b4c6107baf\"}, {\"marker\": {\"color\": \"rgb(255,0,0)\", \"colorscale\": \"Viridis\", \"line\": {\"width\": 2}, \"size\": 12, \"symbol\": 0}, \"mode\": \"markers\", \"name\": \"Student_30\", \"text\": [\"Student_30\"], \"x\": [13], \"y\": [53], \"type\": \"scatter\", \"uid\": \"286c80a6-e40c-11e8-a1d0-d7b4c6107baf\"}, {\"marker\": {\"color\": \"rgb(255,0,0)\", \"colorscale\": \"Viridis\", \"line\": {\"width\": 2}, \"size\": 12, \"symbol\": 0}, \"mode\": \"markers\", \"name\": \"Student_31\", \"text\": [\"Student_31\"], \"x\": [4], \"y\": [48], \"type\": \"scatter\", \"uid\": \"286c8196-e40c-11e8-a1d0-d7b4c6107baf\"}, {\"marker\": {\"color\": \"rgb(127,0,127)\", \"colorscale\": \"Viridis\", \"line\": {\"width\": 2}, \"size\": 12, \"symbol\": 3}, \"mode\": \"markers\", \"name\": \"Student_32\", \"text\": [\"Student_32\"], \"x\": [40], \"y\": [75], \"type\": \"scatter\", \"uid\": \"286c8286-e40c-11e8-a1d0-d7b4c6107baf\"}, {\"marker\": {\"color\": \"rgb(255,0,0)\", \"colorscale\": \"Viridis\", \"line\": {\"width\": 2}, \"size\": 12, \"symbol\": 0}, \"mode\": \"markers\", \"name\": \"Student_33\", \"text\": [\"Student_33\"], \"x\": [3], \"y\": [27], \"type\": \"scatter\", \"uid\": \"286c8330-e40c-11e8-a1d0-d7b4c6107baf\"}, {\"marker\": {\"color\": \"rgb(127,0,127)\", \"colorscale\": \"Viridis\", \"line\": {\"width\": 2}, \"size\": 12, \"symbol\": 3}, \"mode\": \"markers\", \"name\": \"Student_34\", \"text\": [\"Student_34\"], \"x\": [34], \"y\": [73], \"type\": \"scatter\", \"uid\": \"286c83bc-e40c-11e8-a1d0-d7b4c6107baf\"}, {\"marker\": {\"color\": \"rgb(255,0,0)\", \"colorscale\": \"Viridis\", \"line\": {\"width\": 2}, \"size\": 12, \"symbol\": 0}, \"mode\": \"markers\", \"name\": \"Student_35\", \"text\": [\"Student_35\"], \"x\": [2], \"y\": [38], \"type\": \"scatter\", \"uid\": \"286c8452-e40c-11e8-a1d0-d7b4c6107baf\"}, {\"marker\": {\"color\": \"rgb(255,0,0)\", \"colorscale\": \"Viridis\", \"line\": {\"width\": 2}, \"size\": 12, \"symbol\": 0}, \"mode\": \"markers\", \"name\": \"Student_36\", \"text\": [\"Student_36\"], \"x\": [4], \"y\": [36], \"type\": \"scatter\", \"uid\": \"286c84e8-e40c-11e8-a1d0-d7b4c6107baf\"}, {\"marker\": {\"color\": \"rgb(0,0,255)\", \"colorscale\": \"Viridis\", \"line\": {\"width\": 2}, \"size\": 12, \"symbol\": 1}, \"mode\": \"markers\", \"name\": \"Student_37\", \"text\": [\"Student_37\"], \"x\": [47], \"y\": [81], \"type\": \"scatter\", \"uid\": \"286c8574-e40c-11e8-a1d0-d7b4c6107baf\"}, {\"marker\": {\"color\": \"rgb(0,0,255)\", \"colorscale\": \"Viridis\", \"line\": {\"width\": 2}, \"size\": 12, \"symbol\": 1}, \"mode\": \"markers\", \"name\": \"Student_38\", \"text\": [\"Student_38\"], \"x\": [50], \"y\": [84], \"type\": \"scatter\", \"uid\": \"286c860a-e40c-11e8-a1d0-d7b4c6107baf\"}, {\"marker\": {\"color\": \"rgb(255,0,0)\", \"colorscale\": \"Viridis\", \"line\": {\"width\": 2}, \"size\": 12, \"symbol\": 0}, \"mode\": \"markers\", \"name\": \"Student_39\", \"text\": [\"Student_39\"], \"x\": [7], \"y\": [45], \"type\": \"scatter\", \"uid\": \"286c8696-e40c-11e8-a1d0-d7b4c6107baf\"}, {\"marker\": {\"color\": \"rgb(127,0,127)\", \"colorscale\": \"Viridis\", \"line\": {\"width\": 2}, \"size\": 12, \"symbol\": 3}, \"mode\": \"markers\", \"name\": \"Student_40\", \"text\": [\"Student_40\"], \"x\": [20], \"y\": [70], \"type\": \"scatter\", \"uid\": \"286c8722-e40c-11e8-a1d0-d7b4c6107baf\"}, {\"marker\": {\"color\": \"rgb(0,255,0)\", \"colorscale\": \"Viridis\", \"line\": {\"width\": 2}, \"size\": 12, \"symbol\": 2}, \"mode\": \"markers\", \"name\": \"Student_41\", \"text\": [\"Student_41\"], \"x\": [68], \"y\": [99], \"type\": \"scatter\", \"uid\": \"286c87ae-e40c-11e8-a1d0-d7b4c6107baf\"}, {\"marker\": {\"color\": \"rgb(0,0,255)\", \"colorscale\": \"Viridis\", \"line\": {\"width\": 2}, \"size\": 12, \"symbol\": 1}, \"mode\": \"markers\", \"name\": \"Student_42\", \"text\": [\"Student_42\"], \"x\": [60], \"y\": [89], \"type\": \"scatter\", \"uid\": \"286c883a-e40c-11e8-a1d0-d7b4c6107baf\"}, {\"marker\": {\"color\": \"rgb(127,0,127)\", \"colorscale\": \"Viridis\", \"line\": {\"width\": 2}, \"size\": 12, \"symbol\": 3}, \"mode\": \"markers\", \"name\": \"Student_43\", \"text\": [\"Student_43\"], \"x\": [25], \"y\": [69], \"type\": \"scatter\", \"uid\": \"286c88c6-e40c-11e8-a1d0-d7b4c6107baf\"}, {\"marker\": {\"color\": \"rgb(0,0,255)\", \"colorscale\": \"Viridis\", \"line\": {\"width\": 2}, \"size\": 12, \"symbol\": 1}, \"mode\": \"markers\", \"name\": \"Student_44\", \"text\": [\"Student_44\"], \"x\": [35], \"y\": [72], \"type\": \"scatter\", \"uid\": \"286c8952-e40c-11e8-a1d0-d7b4c6107baf\"}, {\"marker\": {\"color\": \"rgb(255,0,0)\", \"colorscale\": \"Viridis\", \"line\": {\"width\": 2}, \"size\": 12, \"symbol\": 0}, \"mode\": \"markers\", \"name\": \"Student_45\", \"text\": [\"Student_45\"], \"x\": [3], \"y\": [33], \"type\": \"scatter\", \"uid\": \"286c89de-e40c-11e8-a1d0-d7b4c6107baf\"}, {\"marker\": {\"color\": \"rgb(255,0,0)\", \"colorscale\": \"Viridis\", \"line\": {\"width\": 2}, \"size\": 12, \"symbol\": 0}, \"mode\": \"markers\", \"name\": \"Student_46\", \"text\": [\"Student_46\"], \"x\": [3], \"y\": [36], \"type\": \"scatter\", \"uid\": \"286c8a74-e40c-11e8-a1d0-d7b4c6107baf\"}, {\"marker\": {\"color\": \"rgb(0,255,0)\", \"colorscale\": \"Viridis\", \"line\": {\"width\": 2}, \"size\": 12, \"symbol\": 2}, \"mode\": \"markers\", \"name\": \"Student_47\", \"text\": [\"Student_47\"], \"x\": [67], \"y\": [94], \"type\": \"scatter\", \"uid\": \"286c8af6-e40c-11e8-a1d0-d7b4c6107baf\"}, {\"marker\": {\"color\": \"rgb(255,0,0)\", \"colorscale\": \"Viridis\", \"line\": {\"width\": 2}, \"size\": 12, \"symbol\": 0}, \"mode\": \"markers\", \"name\": \"Student_48\", \"text\": [\"Student_48\"], \"x\": [4], \"y\": [41], \"type\": \"scatter\", \"uid\": \"286c8b8c-e40c-11e8-a1d0-d7b4c6107baf\"}, {\"marker\": {\"color\": \"rgb(255,0,0)\", \"colorscale\": \"Viridis\", \"line\": {\"width\": 2}, \"size\": 12, \"symbol\": 0}, \"mode\": \"markers\", \"name\": \"Student_49\", \"text\": [\"Student_49\"], \"x\": [5], \"y\": [37], \"type\": \"scatter\", \"uid\": \"286c8c22-e40c-11e8-a1d0-d7b4c6107baf\"}, {\"marker\": {\"color\": \"rgb(255,0,0)\", \"colorscale\": \"Viridis\", \"line\": {\"width\": 2}, \"size\": 12, \"symbol\": 0}, \"mode\": \"markers\", \"name\": \"Student_50\", \"text\": [\"Student_50\"], \"x\": [3], \"y\": [26], \"type\": \"scatter\", \"uid\": \"286c8cb8-e40c-11e8-a1d0-d7b4c6107baf\"}, {\"marker\": {\"color\": \"rgb(127,0,127)\", \"colorscale\": \"Viridis\", \"line\": {\"width\": 2}, \"size\": 12, \"symbol\": 3}, \"mode\": \"markers\", \"name\": \"Student_51\", \"text\": [\"Student_51\"], \"x\": [18], \"y\": [53], \"type\": \"scatter\", \"uid\": \"286c8d58-e40c-11e8-a1d0-d7b4c6107baf\"}, {\"marker\": {\"color\": \"rgb(255,0,0)\", \"colorscale\": \"Viridis\", \"line\": {\"width\": 2}, \"size\": 12, \"symbol\": 0}, \"mode\": \"markers\", \"name\": \"Student_52\", \"text\": [\"Student_52\"], \"x\": [6], \"y\": [11], \"type\": \"scatter\", \"uid\": \"286c8dee-e40c-11e8-a1d0-d7b4c6107baf\"}, {\"marker\": {\"color\": \"rgb(127,0,127)\", \"colorscale\": \"Viridis\", \"line\": {\"width\": 2}, \"size\": 12, \"symbol\": 3}, \"mode\": \"markers\", \"name\": \"Student_53\", \"text\": [\"Student_53\"], \"x\": [32], \"y\": [72], \"type\": \"scatter\", \"uid\": \"286c8e8e-e40c-11e8-a1d0-d7b4c6107baf\"}, {\"marker\": {\"color\": \"rgb(255,0,0)\", \"colorscale\": \"Viridis\", \"line\": {\"width\": 2}, \"size\": 12, \"symbol\": 0}, \"mode\": \"markers\", \"name\": \"Student_54\", \"text\": [\"Student_54\"], \"x\": [5], \"y\": [21], \"type\": \"scatter\", \"uid\": \"286c8f2e-e40c-11e8-a1d0-d7b4c6107baf\"}, {\"marker\": {\"color\": \"rgb(127,0,127)\", \"colorscale\": \"Viridis\", \"line\": {\"width\": 2}, \"size\": 12, \"symbol\": 3}, \"mode\": \"markers\", \"name\": \"Student_55\", \"text\": [\"Student_55\"], \"x\": [38], \"y\": [74], \"type\": \"scatter\", \"uid\": \"286c8fc4-e40c-11e8-a1d0-d7b4c6107baf\"}, {\"marker\": {\"color\": \"rgb(0,0,255)\", \"colorscale\": \"Viridis\", \"line\": {\"width\": 2}, \"size\": 12, \"symbol\": 1}, \"mode\": \"markers\", \"name\": \"Student_56\", \"text\": [\"Student_56\"], \"x\": [63], \"y\": [82], \"type\": \"scatter\", \"uid\": \"286c906e-e40c-11e8-a1d0-d7b4c6107baf\"}, {\"marker\": {\"color\": \"rgb(127,0,127)\", \"colorscale\": \"Viridis\", \"line\": {\"width\": 2}, \"size\": 12, \"symbol\": 3}, \"mode\": \"markers\", \"name\": \"Student_57\", \"text\": [\"Student_57\"], \"x\": [21], \"y\": [64], \"type\": \"scatter\", \"uid\": \"286c9118-e40c-11e8-a1d0-d7b4c6107baf\"}, {\"marker\": {\"color\": \"rgb(127,0,127)\", \"colorscale\": \"Viridis\", \"line\": {\"width\": 2}, \"size\": 12, \"symbol\": 3}, \"mode\": \"markers\", \"name\": \"Student_58\", \"text\": [\"Student_58\"], \"x\": [12], \"y\": [67], \"type\": \"scatter\", \"uid\": \"286c91ae-e40c-11e8-a1d0-d7b4c6107baf\"}, {\"marker\": {\"color\": \"rgb(0,0,255)\", \"colorscale\": \"Viridis\", \"line\": {\"width\": 2}, \"size\": 12, \"symbol\": 1}, \"mode\": \"markers\", \"name\": \"Student_59\", \"text\": [\"Student_59\"], \"x\": [52], \"y\": [72], \"type\": \"scatter\", \"uid\": \"286c924e-e40c-11e8-a1d0-d7b4c6107baf\"}, {\"marker\": {\"color\": \"rgb(127,0,127)\", \"colorscale\": \"Viridis\", \"line\": {\"width\": 2}, \"size\": 12, \"symbol\": 3}, \"mode\": \"markers\", \"name\": \"Student_60\", \"text\": [\"Student_60\"], \"x\": [16], \"y\": [67], \"type\": \"scatter\", \"uid\": \"286c92ee-e40c-11e8-a1d0-d7b4c6107baf\"}], {\"hovermode\": \"closest\", \"showlegend\": true, \"title\": \"Notas dos estudantes vs acesso aos materiais\", \"xaxis\": {\"autorange\": false, \"fixedrange\": false, \"range\": [0, 88], \"rangemode\": \"normal\", \"showline\": true, \"title\": \"Acesso aos materiais\", \"zeroline\": false}, \"yaxis\": {\"autorange\": false, \"fixedrange\": false, \"range\": [0, 109], \"rangemode\": \"normal\", \"showline\": true, \"title\": \"Notas\"}}, {\"showLink\": true, \"linkText\": \"Export to plot.ly\"})});</script>"
      ],
      "text/vnd.plotly.v1+html": [
       "<div id=\"e076cf66-e6df-482f-8479-136b423ad60e\" style=\"height: 525px; width: 100%;\" class=\"plotly-graph-div\"></div><script type=\"text/javascript\">require([\"plotly\"], function(Plotly) { window.PLOTLYENV=window.PLOTLYENV || {};window.PLOTLYENV.BASE_URL=\"https://plot.ly\";Plotly.newPlot(\"e076cf66-e6df-482f-8479-136b423ad60e\", [{\"marker\": {\"color\": \"rgb(255,0,0)\", \"colorscale\": \"Viridis\", \"line\": {\"width\": 2}, \"size\": 12, \"symbol\": 0}, \"mode\": \"markers\", \"name\": \"Student_1\", \"text\": [\"Student_1\"], \"x\": [2], \"y\": [43], \"type\": \"scatter\", \"uid\": \"286c6c56-e40c-11e8-a1d0-d7b4c6107baf\"}, {\"marker\": {\"color\": \"rgb(0,255,0)\", \"colorscale\": \"Viridis\", \"line\": {\"width\": 2}, \"size\": 12, \"symbol\": 2}, \"mode\": \"markers\", \"name\": \"Student_2\", \"text\": [\"Student_2\"], \"x\": [78], \"y\": [92], \"type\": \"scatter\", \"uid\": \"286c6df0-e40c-11e8-a1d0-d7b4c6107baf\"}, {\"marker\": {\"color\": \"rgb(0,0,255)\", \"colorscale\": \"Viridis\", \"line\": {\"width\": 2}, \"size\": 12, \"symbol\": 1}, \"mode\": \"markers\", \"name\": \"Student_3\", \"text\": [\"Student_3\"], \"x\": [56], \"y\": [82], \"type\": \"scatter\", \"uid\": \"286c6ec2-e40c-11e8-a1d0-d7b4c6107baf\"}, {\"marker\": {\"color\": \"rgb(255,0,0)\", \"colorscale\": \"Viridis\", \"line\": {\"width\": 2}, \"size\": 12, \"symbol\": 0}, \"mode\": \"markers\", \"name\": \"Student_4\", \"text\": [\"Student_4\"], \"x\": [4], \"y\": [48], \"type\": \"scatter\", \"uid\": \"286c6f6c-e40c-11e8-a1d0-d7b4c6107baf\"}, {\"marker\": {\"color\": \"rgb(127,0,127)\", \"colorscale\": \"Viridis\", \"line\": {\"width\": 2}, \"size\": 12, \"symbol\": 3}, \"mode\": \"markers\", \"name\": \"Student_5\", \"text\": [\"Student_5\"], \"x\": [41], \"y\": [76], \"type\": \"scatter\", \"uid\": \"286c700c-e40c-11e8-a1d0-d7b4c6107baf\"}, {\"marker\": {\"color\": \"rgb(127,0,127)\", \"colorscale\": \"Viridis\", \"line\": {\"width\": 2}, \"size\": 12, \"symbol\": 3}, \"mode\": \"markers\", \"name\": \"Student_6\", \"text\": [\"Student_6\"], \"x\": [7], \"y\": [62], \"type\": \"scatter\", \"uid\": \"286c7098-e40c-11e8-a1d0-d7b4c6107baf\"}, {\"marker\": {\"color\": \"rgb(0,0,255)\", \"colorscale\": \"Viridis\", \"line\": {\"width\": 2}, \"size\": 12, \"symbol\": 1}, \"mode\": \"markers\", \"name\": \"Student_7\", \"text\": [\"Student_7\"], \"x\": [38], \"y\": [72], \"type\": \"scatter\", \"uid\": \"286c7124-e40c-11e8-a1d0-d7b4c6107baf\"}, {\"marker\": {\"color\": \"rgb(0,255,0)\", \"colorscale\": \"Viridis\", \"line\": {\"width\": 2}, \"size\": 12, \"symbol\": 2}, \"mode\": \"markers\", \"name\": \"Student_8\", \"text\": [\"Student_8\"], \"x\": [72], \"y\": [92], \"type\": \"scatter\", \"uid\": \"286c71b0-e40c-11e8-a1d0-d7b4c6107baf\"}, {\"marker\": {\"color\": \"rgb(255,0,0)\", \"colorscale\": \"Viridis\", \"line\": {\"width\": 2}, \"size\": 12, \"symbol\": 0}, \"mode\": \"markers\", \"name\": \"Student_9\", \"text\": [\"Student_9\"], \"x\": [4], \"y\": [40], \"type\": \"scatter\", \"uid\": \"286c723c-e40c-11e8-a1d0-d7b4c6107baf\"}, {\"marker\": {\"color\": \"rgb(0,255,0)\", \"colorscale\": \"Viridis\", \"line\": {\"width\": 2}, \"size\": 12, \"symbol\": 2}, \"mode\": \"markers\", \"name\": \"Student_10\", \"text\": [\"Student_10\"], \"x\": [60], \"y\": [83], \"type\": \"scatter\", \"uid\": \"286c72c8-e40c-11e8-a1d0-d7b4c6107baf\"}, {\"marker\": {\"color\": \"rgb(127,0,127)\", \"colorscale\": \"Viridis\", \"line\": {\"width\": 2}, \"size\": 12, \"symbol\": 3}, \"mode\": \"markers\", \"name\": \"Student_11\", \"text\": [\"Student_11\"], \"x\": [42], \"y\": [74], \"type\": \"scatter\", \"uid\": \"286c7354-e40c-11e8-a1d0-d7b4c6107baf\"}, {\"marker\": {\"color\": \"rgb(0,0,255)\", \"colorscale\": \"Viridis\", \"line\": {\"width\": 2}, \"size\": 12, \"symbol\": 1}, \"mode\": \"markers\", \"name\": \"Student_12\", \"text\": [\"Student_12\"], \"x\": [42], \"y\": [79], \"type\": \"scatter\", \"uid\": \"286c73ea-e40c-11e8-a1d0-d7b4c6107baf\"}, {\"marker\": {\"color\": \"rgb(0,0,255)\", \"colorscale\": \"Viridis\", \"line\": {\"width\": 2}, \"size\": 12, \"symbol\": 1}, \"mode\": \"markers\", \"name\": \"Student_13\", \"text\": [\"Student_13\"], \"x\": [39], \"y\": [79], \"type\": \"scatter\", \"uid\": \"286c7516-e40c-11e8-a1d0-d7b4c6107baf\"}, {\"marker\": {\"color\": \"rgb(255,0,0)\", \"colorscale\": \"Viridis\", \"line\": {\"width\": 2}, \"size\": 12, \"symbol\": 0}, \"mode\": \"markers\", \"name\": \"Student_14\", \"text\": [\"Student_14\"], \"x\": [4], \"y\": [32], \"type\": \"scatter\", \"uid\": \"286c75ac-e40c-11e8-a1d0-d7b4c6107baf\"}, {\"marker\": {\"color\": \"rgb(0,255,0)\", \"colorscale\": \"Viridis\", \"line\": {\"width\": 2}, \"size\": 12, \"symbol\": 2}, \"mode\": \"markers\", \"name\": \"Student_15\", \"text\": [\"Student_15\"], \"x\": [51], \"y\": [89], \"type\": \"scatter\", \"uid\": \"286c7638-e40c-11e8-a1d0-d7b4c6107baf\"}, {\"marker\": {\"color\": \"rgb(127,0,127)\", \"colorscale\": \"Viridis\", \"line\": {\"width\": 2}, \"size\": 12, \"symbol\": 3}, \"mode\": \"markers\", \"name\": \"Student_16\", \"text\": [\"Student_16\"], \"x\": [23], \"y\": [61], \"type\": \"scatter\", \"uid\": \"286c76c4-e40c-11e8-a1d0-d7b4c6107baf\"}, {\"marker\": {\"color\": \"rgb(127,0,127)\", \"colorscale\": \"Viridis\", \"line\": {\"width\": 2}, \"size\": 12, \"symbol\": 3}, \"mode\": \"markers\", \"name\": \"Student_17\", \"text\": [\"Student_17\"], \"x\": [43], \"y\": [71], \"type\": \"scatter\", \"uid\": \"286c7750-e40c-11e8-a1d0-d7b4c6107baf\"}, {\"marker\": {\"color\": \"rgb(127,0,127)\", \"colorscale\": \"Viridis\", \"line\": {\"width\": 2}, \"size\": 12, \"symbol\": 3}, \"mode\": \"markers\", \"name\": \"Student_18\", \"text\": [\"Student_18\"], \"x\": [31], \"y\": [71], \"type\": \"scatter\", \"uid\": \"286c77d2-e40c-11e8-a1d0-d7b4c6107baf\"}, {\"marker\": {\"color\": \"rgb(127,0,127)\", \"colorscale\": \"Viridis\", \"line\": {\"width\": 2}, \"size\": 12, \"symbol\": 3}, \"mode\": \"markers\", \"name\": \"Student_19\", \"text\": [\"Student_19\"], \"x\": [22], \"y\": [62], \"type\": \"scatter\", \"uid\": \"286c7872-e40c-11e8-a1d0-d7b4c6107baf\"}, {\"marker\": {\"color\": \"rgb(255,0,0)\", \"colorscale\": \"Viridis\", \"line\": {\"width\": 2}, \"size\": 12, \"symbol\": 0}, \"mode\": \"markers\", \"name\": \"Student_20\", \"text\": [\"Student_20\"], \"x\": [5], \"y\": [39], \"type\": \"scatter\", \"uid\": \"286c7944-e40c-11e8-a1d0-d7b4c6107baf\"}, {\"marker\": {\"color\": \"rgb(127,0,127)\", \"colorscale\": \"Viridis\", \"line\": {\"width\": 2}, \"size\": 12, \"symbol\": 3}, \"mode\": \"markers\", \"name\": \"Student_21\", \"text\": [\"Student_21\"], \"x\": [22], \"y\": [69], \"type\": \"scatter\", \"uid\": \"286c7a16-e40c-11e8-a1d0-d7b4c6107baf\"}, {\"marker\": {\"color\": \"rgb(0,0,255)\", \"colorscale\": \"Viridis\", \"line\": {\"width\": 2}, \"size\": 12, \"symbol\": 1}, \"mode\": \"markers\", \"name\": \"Student_22\", \"text\": [\"Student_22\"], \"x\": [49], \"y\": [84], \"type\": \"scatter\", \"uid\": \"286c7ae8-e40c-11e8-a1d0-d7b4c6107baf\"}, {\"marker\": {\"color\": \"rgb(127,0,127)\", \"colorscale\": \"Viridis\", \"line\": {\"width\": 2}, \"size\": 12, \"symbol\": 3}, \"mode\": \"markers\", \"name\": \"Student_23\", \"text\": [\"Student_23\"], \"x\": [24], \"y\": [63], \"type\": \"scatter\", \"uid\": \"286c7bc4-e40c-11e8-a1d0-d7b4c6107baf\"}, {\"marker\": {\"color\": \"rgb(127,0,127)\", \"colorscale\": \"Viridis\", \"line\": {\"width\": 2}, \"size\": 12, \"symbol\": 3}, \"mode\": \"markers\", \"name\": \"Student_24\", \"text\": [\"Student_24\"], \"x\": [12], \"y\": [57], \"type\": \"scatter\", \"uid\": \"286c7caa-e40c-11e8-a1d0-d7b4c6107baf\"}, {\"marker\": {\"color\": \"rgb(0,0,255)\", \"colorscale\": \"Viridis\", \"line\": {\"width\": 2}, \"size\": 12, \"symbol\": 1}, \"mode\": \"markers\", \"name\": \"Student_25\", \"text\": [\"Student_25\"], \"x\": [49], \"y\": [74], \"type\": \"scatter\", \"uid\": \"286c7d7c-e40c-11e8-a1d0-d7b4c6107baf\"}, {\"marker\": {\"color\": \"rgb(127,0,127)\", \"colorscale\": \"Viridis\", \"line\": {\"width\": 2}, \"size\": 12, \"symbol\": 3}, \"mode\": \"markers\", \"name\": \"Student_26\", \"text\": [\"Student_26\"], \"x\": [20], \"y\": [59], \"type\": \"scatter\", \"uid\": \"286c7e08-e40c-11e8-a1d0-d7b4c6107baf\"}, {\"marker\": {\"color\": \"rgb(0,255,0)\", \"colorscale\": \"Viridis\", \"line\": {\"width\": 2}, \"size\": 12, \"symbol\": 2}, \"mode\": \"markers\", \"name\": \"Student_27\", \"text\": [\"Student_27\"], \"x\": [62], \"y\": [93], \"type\": \"scatter\", \"uid\": \"286c7e94-e40c-11e8-a1d0-d7b4c6107baf\"}, {\"marker\": {\"color\": \"rgb(255,0,0)\", \"colorscale\": \"Viridis\", \"line\": {\"width\": 2}, \"size\": 12, \"symbol\": 0}, \"mode\": \"markers\", \"name\": \"Student_28\", \"text\": [\"Student_28\"], \"x\": [7], \"y\": [29], \"type\": \"scatter\", \"uid\": \"286c7f16-e40c-11e8-a1d0-d7b4c6107baf\"}, {\"marker\": {\"color\": \"rgb(255,0,0)\", \"colorscale\": \"Viridis\", \"line\": {\"width\": 2}, \"size\": 12, \"symbol\": 0}, \"mode\": \"markers\", \"name\": \"Student_29\", \"text\": [\"Student_29\"], \"x\": [5], \"y\": [22], \"type\": \"scatter\", \"uid\": \"286c7fc0-e40c-11e8-a1d0-d7b4c6107baf\"}, {\"marker\": {\"color\": \"rgb(255,0,0)\", \"colorscale\": \"Viridis\", \"line\": {\"width\": 2}, \"size\": 12, \"symbol\": 0}, \"mode\": \"markers\", \"name\": \"Student_30\", \"text\": [\"Student_30\"], \"x\": [13], \"y\": [53], \"type\": \"scatter\", \"uid\": \"286c80a6-e40c-11e8-a1d0-d7b4c6107baf\"}, {\"marker\": {\"color\": \"rgb(255,0,0)\", \"colorscale\": \"Viridis\", \"line\": {\"width\": 2}, \"size\": 12, \"symbol\": 0}, \"mode\": \"markers\", \"name\": \"Student_31\", \"text\": [\"Student_31\"], \"x\": [4], \"y\": [48], \"type\": \"scatter\", \"uid\": \"286c8196-e40c-11e8-a1d0-d7b4c6107baf\"}, {\"marker\": {\"color\": \"rgb(127,0,127)\", \"colorscale\": \"Viridis\", \"line\": {\"width\": 2}, \"size\": 12, \"symbol\": 3}, \"mode\": \"markers\", \"name\": \"Student_32\", \"text\": [\"Student_32\"], \"x\": [40], \"y\": [75], \"type\": \"scatter\", \"uid\": \"286c8286-e40c-11e8-a1d0-d7b4c6107baf\"}, {\"marker\": {\"color\": \"rgb(255,0,0)\", \"colorscale\": \"Viridis\", \"line\": {\"width\": 2}, \"size\": 12, \"symbol\": 0}, \"mode\": \"markers\", \"name\": \"Student_33\", \"text\": [\"Student_33\"], \"x\": [3], \"y\": [27], \"type\": \"scatter\", \"uid\": \"286c8330-e40c-11e8-a1d0-d7b4c6107baf\"}, {\"marker\": {\"color\": \"rgb(127,0,127)\", \"colorscale\": \"Viridis\", \"line\": {\"width\": 2}, \"size\": 12, \"symbol\": 3}, \"mode\": \"markers\", \"name\": \"Student_34\", \"text\": [\"Student_34\"], \"x\": [34], \"y\": [73], \"type\": \"scatter\", \"uid\": \"286c83bc-e40c-11e8-a1d0-d7b4c6107baf\"}, {\"marker\": {\"color\": \"rgb(255,0,0)\", \"colorscale\": \"Viridis\", \"line\": {\"width\": 2}, \"size\": 12, \"symbol\": 0}, \"mode\": \"markers\", \"name\": \"Student_35\", \"text\": [\"Student_35\"], \"x\": [2], \"y\": [38], \"type\": \"scatter\", \"uid\": \"286c8452-e40c-11e8-a1d0-d7b4c6107baf\"}, {\"marker\": {\"color\": \"rgb(255,0,0)\", \"colorscale\": \"Viridis\", \"line\": {\"width\": 2}, \"size\": 12, \"symbol\": 0}, \"mode\": \"markers\", \"name\": \"Student_36\", \"text\": [\"Student_36\"], \"x\": [4], \"y\": [36], \"type\": \"scatter\", \"uid\": \"286c84e8-e40c-11e8-a1d0-d7b4c6107baf\"}, {\"marker\": {\"color\": \"rgb(0,0,255)\", \"colorscale\": \"Viridis\", \"line\": {\"width\": 2}, \"size\": 12, \"symbol\": 1}, \"mode\": \"markers\", \"name\": \"Student_37\", \"text\": [\"Student_37\"], \"x\": [47], \"y\": [81], \"type\": \"scatter\", \"uid\": \"286c8574-e40c-11e8-a1d0-d7b4c6107baf\"}, {\"marker\": {\"color\": \"rgb(0,0,255)\", \"colorscale\": \"Viridis\", \"line\": {\"width\": 2}, \"size\": 12, \"symbol\": 1}, \"mode\": \"markers\", \"name\": \"Student_38\", \"text\": [\"Student_38\"], \"x\": [50], \"y\": [84], \"type\": \"scatter\", \"uid\": \"286c860a-e40c-11e8-a1d0-d7b4c6107baf\"}, {\"marker\": {\"color\": \"rgb(255,0,0)\", \"colorscale\": \"Viridis\", \"line\": {\"width\": 2}, \"size\": 12, \"symbol\": 0}, \"mode\": \"markers\", \"name\": \"Student_39\", \"text\": [\"Student_39\"], \"x\": [7], \"y\": [45], \"type\": \"scatter\", \"uid\": \"286c8696-e40c-11e8-a1d0-d7b4c6107baf\"}, {\"marker\": {\"color\": \"rgb(127,0,127)\", \"colorscale\": \"Viridis\", \"line\": {\"width\": 2}, \"size\": 12, \"symbol\": 3}, \"mode\": \"markers\", \"name\": \"Student_40\", \"text\": [\"Student_40\"], \"x\": [20], \"y\": [70], \"type\": \"scatter\", \"uid\": \"286c8722-e40c-11e8-a1d0-d7b4c6107baf\"}, {\"marker\": {\"color\": \"rgb(0,255,0)\", \"colorscale\": \"Viridis\", \"line\": {\"width\": 2}, \"size\": 12, \"symbol\": 2}, \"mode\": \"markers\", \"name\": \"Student_41\", \"text\": [\"Student_41\"], \"x\": [68], \"y\": [99], \"type\": \"scatter\", \"uid\": \"286c87ae-e40c-11e8-a1d0-d7b4c6107baf\"}, {\"marker\": {\"color\": \"rgb(0,0,255)\", \"colorscale\": \"Viridis\", \"line\": {\"width\": 2}, \"size\": 12, \"symbol\": 1}, \"mode\": \"markers\", \"name\": \"Student_42\", \"text\": [\"Student_42\"], \"x\": [60], \"y\": [89], \"type\": \"scatter\", \"uid\": \"286c883a-e40c-11e8-a1d0-d7b4c6107baf\"}, {\"marker\": {\"color\": \"rgb(127,0,127)\", \"colorscale\": \"Viridis\", \"line\": {\"width\": 2}, \"size\": 12, \"symbol\": 3}, \"mode\": \"markers\", \"name\": \"Student_43\", \"text\": [\"Student_43\"], \"x\": [25], \"y\": [69], \"type\": \"scatter\", \"uid\": \"286c88c6-e40c-11e8-a1d0-d7b4c6107baf\"}, {\"marker\": {\"color\": \"rgb(0,0,255)\", \"colorscale\": \"Viridis\", \"line\": {\"width\": 2}, \"size\": 12, \"symbol\": 1}, \"mode\": \"markers\", \"name\": \"Student_44\", \"text\": [\"Student_44\"], \"x\": [35], \"y\": [72], \"type\": \"scatter\", \"uid\": \"286c8952-e40c-11e8-a1d0-d7b4c6107baf\"}, {\"marker\": {\"color\": \"rgb(255,0,0)\", \"colorscale\": \"Viridis\", \"line\": {\"width\": 2}, \"size\": 12, \"symbol\": 0}, \"mode\": \"markers\", \"name\": \"Student_45\", \"text\": [\"Student_45\"], \"x\": [3], \"y\": [33], \"type\": \"scatter\", \"uid\": \"286c89de-e40c-11e8-a1d0-d7b4c6107baf\"}, {\"marker\": {\"color\": \"rgb(255,0,0)\", \"colorscale\": \"Viridis\", \"line\": {\"width\": 2}, \"size\": 12, \"symbol\": 0}, \"mode\": \"markers\", \"name\": \"Student_46\", \"text\": [\"Student_46\"], \"x\": [3], \"y\": [36], \"type\": \"scatter\", \"uid\": \"286c8a74-e40c-11e8-a1d0-d7b4c6107baf\"}, {\"marker\": {\"color\": \"rgb(0,255,0)\", \"colorscale\": \"Viridis\", \"line\": {\"width\": 2}, \"size\": 12, \"symbol\": 2}, \"mode\": \"markers\", \"name\": \"Student_47\", \"text\": [\"Student_47\"], \"x\": [67], \"y\": [94], \"type\": \"scatter\", \"uid\": \"286c8af6-e40c-11e8-a1d0-d7b4c6107baf\"}, {\"marker\": {\"color\": \"rgb(255,0,0)\", \"colorscale\": \"Viridis\", \"line\": {\"width\": 2}, \"size\": 12, \"symbol\": 0}, \"mode\": \"markers\", \"name\": \"Student_48\", \"text\": [\"Student_48\"], \"x\": [4], \"y\": [41], \"type\": \"scatter\", \"uid\": \"286c8b8c-e40c-11e8-a1d0-d7b4c6107baf\"}, {\"marker\": {\"color\": \"rgb(255,0,0)\", \"colorscale\": \"Viridis\", \"line\": {\"width\": 2}, \"size\": 12, \"symbol\": 0}, \"mode\": \"markers\", \"name\": \"Student_49\", \"text\": [\"Student_49\"], \"x\": [5], \"y\": [37], \"type\": \"scatter\", \"uid\": \"286c8c22-e40c-11e8-a1d0-d7b4c6107baf\"}, {\"marker\": {\"color\": \"rgb(255,0,0)\", \"colorscale\": \"Viridis\", \"line\": {\"width\": 2}, \"size\": 12, \"symbol\": 0}, \"mode\": \"markers\", \"name\": \"Student_50\", \"text\": [\"Student_50\"], \"x\": [3], \"y\": [26], \"type\": \"scatter\", \"uid\": \"286c8cb8-e40c-11e8-a1d0-d7b4c6107baf\"}, {\"marker\": {\"color\": \"rgb(127,0,127)\", \"colorscale\": \"Viridis\", \"line\": {\"width\": 2}, \"size\": 12, \"symbol\": 3}, \"mode\": \"markers\", \"name\": \"Student_51\", \"text\": [\"Student_51\"], \"x\": [18], \"y\": [53], \"type\": \"scatter\", \"uid\": \"286c8d58-e40c-11e8-a1d0-d7b4c6107baf\"}, {\"marker\": {\"color\": \"rgb(255,0,0)\", \"colorscale\": \"Viridis\", \"line\": {\"width\": 2}, \"size\": 12, \"symbol\": 0}, \"mode\": \"markers\", \"name\": \"Student_52\", \"text\": [\"Student_52\"], \"x\": [6], \"y\": [11], \"type\": \"scatter\", \"uid\": \"286c8dee-e40c-11e8-a1d0-d7b4c6107baf\"}, {\"marker\": {\"color\": \"rgb(127,0,127)\", \"colorscale\": \"Viridis\", \"line\": {\"width\": 2}, \"size\": 12, \"symbol\": 3}, \"mode\": \"markers\", \"name\": \"Student_53\", \"text\": [\"Student_53\"], \"x\": [32], \"y\": [72], \"type\": \"scatter\", \"uid\": \"286c8e8e-e40c-11e8-a1d0-d7b4c6107baf\"}, {\"marker\": {\"color\": \"rgb(255,0,0)\", \"colorscale\": \"Viridis\", \"line\": {\"width\": 2}, \"size\": 12, \"symbol\": 0}, \"mode\": \"markers\", \"name\": \"Student_54\", \"text\": [\"Student_54\"], \"x\": [5], \"y\": [21], \"type\": \"scatter\", \"uid\": \"286c8f2e-e40c-11e8-a1d0-d7b4c6107baf\"}, {\"marker\": {\"color\": \"rgb(127,0,127)\", \"colorscale\": \"Viridis\", \"line\": {\"width\": 2}, \"size\": 12, \"symbol\": 3}, \"mode\": \"markers\", \"name\": \"Student_55\", \"text\": [\"Student_55\"], \"x\": [38], \"y\": [74], \"type\": \"scatter\", \"uid\": \"286c8fc4-e40c-11e8-a1d0-d7b4c6107baf\"}, {\"marker\": {\"color\": \"rgb(0,0,255)\", \"colorscale\": \"Viridis\", \"line\": {\"width\": 2}, \"size\": 12, \"symbol\": 1}, \"mode\": \"markers\", \"name\": \"Student_56\", \"text\": [\"Student_56\"], \"x\": [63], \"y\": [82], \"type\": \"scatter\", \"uid\": \"286c906e-e40c-11e8-a1d0-d7b4c6107baf\"}, {\"marker\": {\"color\": \"rgb(127,0,127)\", \"colorscale\": \"Viridis\", \"line\": {\"width\": 2}, \"size\": 12, \"symbol\": 3}, \"mode\": \"markers\", \"name\": \"Student_57\", \"text\": [\"Student_57\"], \"x\": [21], \"y\": [64], \"type\": \"scatter\", \"uid\": \"286c9118-e40c-11e8-a1d0-d7b4c6107baf\"}, {\"marker\": {\"color\": \"rgb(127,0,127)\", \"colorscale\": \"Viridis\", \"line\": {\"width\": 2}, \"size\": 12, \"symbol\": 3}, \"mode\": \"markers\", \"name\": \"Student_58\", \"text\": [\"Student_58\"], \"x\": [12], \"y\": [67], \"type\": \"scatter\", \"uid\": \"286c91ae-e40c-11e8-a1d0-d7b4c6107baf\"}, {\"marker\": {\"color\": \"rgb(0,0,255)\", \"colorscale\": \"Viridis\", \"line\": {\"width\": 2}, \"size\": 12, \"symbol\": 1}, \"mode\": \"markers\", \"name\": \"Student_59\", \"text\": [\"Student_59\"], \"x\": [52], \"y\": [72], \"type\": \"scatter\", \"uid\": \"286c924e-e40c-11e8-a1d0-d7b4c6107baf\"}, {\"marker\": {\"color\": \"rgb(127,0,127)\", \"colorscale\": \"Viridis\", \"line\": {\"width\": 2}, \"size\": 12, \"symbol\": 3}, \"mode\": \"markers\", \"name\": \"Student_60\", \"text\": [\"Student_60\"], \"x\": [16], \"y\": [67], \"type\": \"scatter\", \"uid\": \"286c92ee-e40c-11e8-a1d0-d7b4c6107baf\"}], {\"hovermode\": \"closest\", \"showlegend\": true, \"title\": \"Notas dos estudantes vs acesso aos materiais\", \"xaxis\": {\"autorange\": false, \"fixedrange\": false, \"range\": [0, 88], \"rangemode\": \"normal\", \"showline\": true, \"title\": \"Acesso aos materiais\", \"zeroline\": false}, \"yaxis\": {\"autorange\": false, \"fixedrange\": false, \"range\": [0, 109], \"rangemode\": \"normal\", \"showline\": true, \"title\": \"Notas\"}}, {\"showLink\": true, \"linkText\": \"Export to plot.ly\"})});</script>"
      ]
     },
     "metadata": {},
     "output_type": "display_data"
    },
    {
     "data": {
      "application/vnd.plotly.v1+json": {
       "data": [
        {
         "marker": {
          "color": "rgb(255,0,0)",
          "colorscale": "Viridis",
          "line": {
           "width": 2
          },
          "size": 12,
          "symbol": 0
         },
         "mode": "markers",
         "name": "Student_1",
         "text": [
          "Student_1"
         ],
         "type": "scatter",
         "uid": "28b06000-e40c-11e8-a1d0-d7b4c6107baf",
         "x": [
          0
         ],
         "y": [
          43
         ]
        },
        {
         "marker": {
          "color": "rgb(0,255,0)",
          "colorscale": "Viridis",
          "line": {
           "width": 2
          },
          "size": 12,
          "symbol": 2
         },
         "mode": "markers",
         "name": "Student_2",
         "text": [
          "Student_2"
         ],
         "type": "scatter",
         "uid": "28b06186-e40c-11e8-a1d0-d7b4c6107baf",
         "x": [
          4
         ],
         "y": [
          92
         ]
        },
        {
         "marker": {
          "color": "rgb(0,0,255)",
          "colorscale": "Viridis",
          "line": {
           "width": 2
          },
          "size": 12,
          "symbol": 1
         },
         "mode": "markers",
         "name": "Student_3",
         "text": [
          "Student_3"
         ],
         "type": "scatter",
         "uid": "28b0624e-e40c-11e8-a1d0-d7b4c6107baf",
         "x": [
          3
         ],
         "y": [
          82
         ]
        },
        {
         "marker": {
          "color": "rgb(255,0,0)",
          "colorscale": "Viridis",
          "line": {
           "width": 2
          },
          "size": 12,
          "symbol": 0
         },
         "mode": "markers",
         "name": "Student_4",
         "text": [
          "Student_4"
         ],
         "type": "scatter",
         "uid": "28b062ee-e40c-11e8-a1d0-d7b4c6107baf",
         "x": [
          0
         ],
         "y": [
          48
         ]
        },
        {
         "marker": {
          "color": "rgb(127,0,127)",
          "colorscale": "Viridis",
          "line": {
           "width": 2
          },
          "size": 12,
          "symbol": 3
         },
         "mode": "markers",
         "name": "Student_5",
         "text": [
          "Student_5"
         ],
         "type": "scatter",
         "uid": "28b0637a-e40c-11e8-a1d0-d7b4c6107baf",
         "x": [
          2
         ],
         "y": [
          76
         ]
        },
        {
         "marker": {
          "color": "rgb(127,0,127)",
          "colorscale": "Viridis",
          "line": {
           "width": 2
          },
          "size": 12,
          "symbol": 3
         },
         "mode": "markers",
         "name": "Student_6",
         "text": [
          "Student_6"
         ],
         "type": "scatter",
         "uid": "28b06406-e40c-11e8-a1d0-d7b4c6107baf",
         "x": [
          4
         ],
         "y": [
          62
         ]
        },
        {
         "marker": {
          "color": "rgb(0,0,255)",
          "colorscale": "Viridis",
          "line": {
           "width": 2
          },
          "size": 12,
          "symbol": 1
         },
         "mode": "markers",
         "name": "Student_7",
         "text": [
          "Student_7"
         ],
         "type": "scatter",
         "uid": "28b06488-e40c-11e8-a1d0-d7b4c6107baf",
         "x": [
          3
         ],
         "y": [
          72
         ]
        },
        {
         "marker": {
          "color": "rgb(0,255,0)",
          "colorscale": "Viridis",
          "line": {
           "width": 2
          },
          "size": 12,
          "symbol": 2
         },
         "mode": "markers",
         "name": "Student_8",
         "text": [
          "Student_8"
         ],
         "type": "scatter",
         "uid": "28b0650a-e40c-11e8-a1d0-d7b4c6107baf",
         "x": [
          4
         ],
         "y": [
          92
         ]
        },
        {
         "marker": {
          "color": "rgb(255,0,0)",
          "colorscale": "Viridis",
          "line": {
           "width": 2
          },
          "size": 12,
          "symbol": 0
         },
         "mode": "markers",
         "name": "Student_9",
         "text": [
          "Student_9"
         ],
         "type": "scatter",
         "uid": "28b0658c-e40c-11e8-a1d0-d7b4c6107baf",
         "x": [
          0
         ],
         "y": [
          40
         ]
        },
        {
         "marker": {
          "color": "rgb(0,255,0)",
          "colorscale": "Viridis",
          "line": {
           "width": 2
          },
          "size": 12,
          "symbol": 2
         },
         "mode": "markers",
         "name": "Student_10",
         "text": [
          "Student_10"
         ],
         "type": "scatter",
         "uid": "28b0660e-e40c-11e8-a1d0-d7b4c6107baf",
         "x": [
          3
         ],
         "y": [
          83
         ]
        },
        {
         "marker": {
          "color": "rgb(127,0,127)",
          "colorscale": "Viridis",
          "line": {
           "width": 2
          },
          "size": 12,
          "symbol": 3
         },
         "mode": "markers",
         "name": "Student_11",
         "text": [
          "Student_11"
         ],
         "type": "scatter",
         "uid": "28b06686-e40c-11e8-a1d0-d7b4c6107baf",
         "x": [
          3
         ],
         "y": [
          74
         ]
        },
        {
         "marker": {
          "color": "rgb(0,0,255)",
          "colorscale": "Viridis",
          "line": {
           "width": 2
          },
          "size": 12,
          "symbol": 1
         },
         "mode": "markers",
         "name": "Student_12",
         "text": [
          "Student_12"
         ],
         "type": "scatter",
         "uid": "28b06708-e40c-11e8-a1d0-d7b4c6107baf",
         "x": [
          3
         ],
         "y": [
          79
         ]
        },
        {
         "marker": {
          "color": "rgb(0,0,255)",
          "colorscale": "Viridis",
          "line": {
           "width": 2
          },
          "size": 12,
          "symbol": 1
         },
         "mode": "markers",
         "name": "Student_13",
         "text": [
          "Student_13"
         ],
         "type": "scatter",
         "uid": "28b0678a-e40c-11e8-a1d0-d7b4c6107baf",
         "x": [
          2
         ],
         "y": [
          79
         ]
        },
        {
         "marker": {
          "color": "rgb(255,0,0)",
          "colorscale": "Viridis",
          "line": {
           "width": 2
          },
          "size": 12,
          "symbol": 0
         },
         "mode": "markers",
         "name": "Student_14",
         "text": [
          "Student_14"
         ],
         "type": "scatter",
         "uid": "28b06802-e40c-11e8-a1d0-d7b4c6107baf",
         "x": [
          0
         ],
         "y": [
          32
         ]
        },
        {
         "marker": {
          "color": "rgb(0,255,0)",
          "colorscale": "Viridis",
          "line": {
           "width": 2
          },
          "size": 12,
          "symbol": 2
         },
         "mode": "markers",
         "name": "Student_15",
         "text": [
          "Student_15"
         ],
         "type": "scatter",
         "uid": "28b0688e-e40c-11e8-a1d0-d7b4c6107baf",
         "x": [
          3
         ],
         "y": [
          89
         ]
        },
        {
         "marker": {
          "color": "rgb(127,0,127)",
          "colorscale": "Viridis",
          "line": {
           "width": 2
          },
          "size": 12,
          "symbol": 3
         },
         "mode": "markers",
         "name": "Student_16",
         "text": [
          "Student_16"
         ],
         "type": "scatter",
         "uid": "28b06906-e40c-11e8-a1d0-d7b4c6107baf",
         "x": [
          4
         ],
         "y": [
          61
         ]
        },
        {
         "marker": {
          "color": "rgb(127,0,127)",
          "colorscale": "Viridis",
          "line": {
           "width": 2
          },
          "size": 12,
          "symbol": 3
         },
         "mode": "markers",
         "name": "Student_17",
         "text": [
          "Student_17"
         ],
         "type": "scatter",
         "uid": "28b06988-e40c-11e8-a1d0-d7b4c6107baf",
         "x": [
          3
         ],
         "y": [
          71
         ]
        },
        {
         "marker": {
          "color": "rgb(127,0,127)",
          "colorscale": "Viridis",
          "line": {
           "width": 2
          },
          "size": 12,
          "symbol": 3
         },
         "mode": "markers",
         "name": "Student_18",
         "text": [
          "Student_18"
         ],
         "type": "scatter",
         "uid": "28b06a00-e40c-11e8-a1d0-d7b4c6107baf",
         "x": [
          3
         ],
         "y": [
          71
         ]
        },
        {
         "marker": {
          "color": "rgb(127,0,127)",
          "colorscale": "Viridis",
          "line": {
           "width": 2
          },
          "size": 12,
          "symbol": 3
         },
         "mode": "markers",
         "name": "Student_19",
         "text": [
          "Student_19"
         ],
         "type": "scatter",
         "uid": "28b06a82-e40c-11e8-a1d0-d7b4c6107baf",
         "x": [
          3
         ],
         "y": [
          62
         ]
        },
        {
         "marker": {
          "color": "rgb(255,0,0)",
          "colorscale": "Viridis",
          "line": {
           "width": 2
          },
          "size": 12,
          "symbol": 0
         },
         "mode": "markers",
         "name": "Student_20",
         "text": [
          "Student_20"
         ],
         "type": "scatter",
         "uid": "28b06b04-e40c-11e8-a1d0-d7b4c6107baf",
         "x": [
          0
         ],
         "y": [
          39
         ]
        },
        {
         "marker": {
          "color": "rgb(127,0,127)",
          "colorscale": "Viridis",
          "line": {
           "width": 2
          },
          "size": 12,
          "symbol": 3
         },
         "mode": "markers",
         "name": "Student_21",
         "text": [
          "Student_21"
         ],
         "type": "scatter",
         "uid": "28b06b7c-e40c-11e8-a1d0-d7b4c6107baf",
         "x": [
          4
         ],
         "y": [
          69
         ]
        },
        {
         "marker": {
          "color": "rgb(0,0,255)",
          "colorscale": "Viridis",
          "line": {
           "width": 2
          },
          "size": 12,
          "symbol": 1
         },
         "mode": "markers",
         "name": "Student_22",
         "text": [
          "Student_22"
         ],
         "type": "scatter",
         "uid": "28b06bf4-e40c-11e8-a1d0-d7b4c6107baf",
         "x": [
          3
         ],
         "y": [
          84
         ]
        },
        {
         "marker": {
          "color": "rgb(127,0,127)",
          "colorscale": "Viridis",
          "line": {
           "width": 2
          },
          "size": 12,
          "symbol": 3
         },
         "mode": "markers",
         "name": "Student_23",
         "text": [
          "Student_23"
         ],
         "type": "scatter",
         "uid": "28b06c76-e40c-11e8-a1d0-d7b4c6107baf",
         "x": [
          3
         ],
         "y": [
          63
         ]
        },
        {
         "marker": {
          "color": "rgb(127,0,127)",
          "colorscale": "Viridis",
          "line": {
           "width": 2
          },
          "size": 12,
          "symbol": 3
         },
         "mode": "markers",
         "name": "Student_24",
         "text": [
          "Student_24"
         ],
         "type": "scatter",
         "uid": "28b06cee-e40c-11e8-a1d0-d7b4c6107baf",
         "x": [
          1
         ],
         "y": [
          57
         ]
        },
        {
         "marker": {
          "color": "rgb(0,0,255)",
          "colorscale": "Viridis",
          "line": {
           "width": 2
          },
          "size": 12,
          "symbol": 1
         },
         "mode": "markers",
         "name": "Student_25",
         "text": [
          "Student_25"
         ],
         "type": "scatter",
         "uid": "28b06d70-e40c-11e8-a1d0-d7b4c6107baf",
         "x": [
          4
         ],
         "y": [
          74
         ]
        },
        {
         "marker": {
          "color": "rgb(127,0,127)",
          "colorscale": "Viridis",
          "line": {
           "width": 2
          },
          "size": 12,
          "symbol": 3
         },
         "mode": "markers",
         "name": "Student_26",
         "text": [
          "Student_26"
         ],
         "type": "scatter",
         "uid": "28b06de8-e40c-11e8-a1d0-d7b4c6107baf",
         "x": [
          4
         ],
         "y": [
          59
         ]
        },
        {
         "marker": {
          "color": "rgb(0,255,0)",
          "colorscale": "Viridis",
          "line": {
           "width": 2
          },
          "size": 12,
          "symbol": 2
         },
         "mode": "markers",
         "name": "Student_27",
         "text": [
          "Student_27"
         ],
         "type": "scatter",
         "uid": "28b06e6a-e40c-11e8-a1d0-d7b4c6107baf",
         "x": [
          4
         ],
         "y": [
          93
         ]
        },
        {
         "marker": {
          "color": "rgb(255,0,0)",
          "colorscale": "Viridis",
          "line": {
           "width": 2
          },
          "size": 12,
          "symbol": 0
         },
         "mode": "markers",
         "name": "Student_28",
         "text": [
          "Student_28"
         ],
         "type": "scatter",
         "uid": "28b06ee2-e40c-11e8-a1d0-d7b4c6107baf",
         "x": [
          0
         ],
         "y": [
          29
         ]
        },
        {
         "marker": {
          "color": "rgb(255,0,0)",
          "colorscale": "Viridis",
          "line": {
           "width": 2
          },
          "size": 12,
          "symbol": 0
         },
         "mode": "markers",
         "name": "Student_29",
         "text": [
          "Student_29"
         ],
         "type": "scatter",
         "uid": "28b06f64-e40c-11e8-a1d0-d7b4c6107baf",
         "x": [
          0
         ],
         "y": [
          22
         ]
        },
        {
         "marker": {
          "color": "rgb(255,0,0)",
          "colorscale": "Viridis",
          "line": {
           "width": 2
          },
          "size": 12,
          "symbol": 0
         },
         "mode": "markers",
         "name": "Student_30",
         "text": [
          "Student_30"
         ],
         "type": "scatter",
         "uid": "28b06fdc-e40c-11e8-a1d0-d7b4c6107baf",
         "x": [
          2
         ],
         "y": [
          53
         ]
        },
        {
         "marker": {
          "color": "rgb(255,0,0)",
          "colorscale": "Viridis",
          "line": {
           "width": 2
          },
          "size": 12,
          "symbol": 0
         },
         "mode": "markers",
         "name": "Student_31",
         "text": [
          "Student_31"
         ],
         "type": "scatter",
         "uid": "28b07054-e40c-11e8-a1d0-d7b4c6107baf",
         "x": [
          0
         ],
         "y": [
          48
         ]
        },
        {
         "marker": {
          "color": "rgb(127,0,127)",
          "colorscale": "Viridis",
          "line": {
           "width": 2
          },
          "size": 12,
          "symbol": 3
         },
         "mode": "markers",
         "name": "Student_32",
         "text": [
          "Student_32"
         ],
         "type": "scatter",
         "uid": "28b070cc-e40c-11e8-a1d0-d7b4c6107baf",
         "x": [
          4
         ],
         "y": [
          75
         ]
        },
        {
         "marker": {
          "color": "rgb(255,0,0)",
          "colorscale": "Viridis",
          "line": {
           "width": 2
          },
          "size": 12,
          "symbol": 0
         },
         "mode": "markers",
         "name": "Student_33",
         "text": [
          "Student_33"
         ],
         "type": "scatter",
         "uid": "28b0714e-e40c-11e8-a1d0-d7b4c6107baf",
         "x": [
          0
         ],
         "y": [
          27
         ]
        },
        {
         "marker": {
          "color": "rgb(127,0,127)",
          "colorscale": "Viridis",
          "line": {
           "width": 2
          },
          "size": 12,
          "symbol": 3
         },
         "mode": "markers",
         "name": "Student_34",
         "text": [
          "Student_34"
         ],
         "type": "scatter",
         "uid": "28b071d0-e40c-11e8-a1d0-d7b4c6107baf",
         "x": [
          2
         ],
         "y": [
          73
         ]
        },
        {
         "marker": {
          "color": "rgb(255,0,0)",
          "colorscale": "Viridis",
          "line": {
           "width": 2
          },
          "size": 12,
          "symbol": 0
         },
         "mode": "markers",
         "name": "Student_35",
         "text": [
          "Student_35"
         ],
         "type": "scatter",
         "uid": "28b07248-e40c-11e8-a1d0-d7b4c6107baf",
         "x": [
          0
         ],
         "y": [
          38
         ]
        },
        {
         "marker": {
          "color": "rgb(255,0,0)",
          "colorscale": "Viridis",
          "line": {
           "width": 2
          },
          "size": 12,
          "symbol": 0
         },
         "mode": "markers",
         "name": "Student_36",
         "text": [
          "Student_36"
         ],
         "type": "scatter",
         "uid": "28b072ca-e40c-11e8-a1d0-d7b4c6107baf",
         "x": [
          0
         ],
         "y": [
          36
         ]
        },
        {
         "marker": {
          "color": "rgb(0,0,255)",
          "colorscale": "Viridis",
          "line": {
           "width": 2
          },
          "size": 12,
          "symbol": 1
         },
         "mode": "markers",
         "name": "Student_37",
         "text": [
          "Student_37"
         ],
         "type": "scatter",
         "uid": "28b07342-e40c-11e8-a1d0-d7b4c6107baf",
         "x": [
          4
         ],
         "y": [
          81
         ]
        },
        {
         "marker": {
          "color": "rgb(0,0,255)",
          "colorscale": "Viridis",
          "line": {
           "width": 2
          },
          "size": 12,
          "symbol": 1
         },
         "mode": "markers",
         "name": "Student_38",
         "text": [
          "Student_38"
         ],
         "type": "scatter",
         "uid": "28b073c4-e40c-11e8-a1d0-d7b4c6107baf",
         "x": [
          4
         ],
         "y": [
          84
         ]
        },
        {
         "marker": {
          "color": "rgb(255,0,0)",
          "colorscale": "Viridis",
          "line": {
           "width": 2
          },
          "size": 12,
          "symbol": 0
         },
         "mode": "markers",
         "name": "Student_39",
         "text": [
          "Student_39"
         ],
         "type": "scatter",
         "uid": "28b0743c-e40c-11e8-a1d0-d7b4c6107baf",
         "x": [
          0
         ],
         "y": [
          45
         ]
        },
        {
         "marker": {
          "color": "rgb(127,0,127)",
          "colorscale": "Viridis",
          "line": {
           "width": 2
          },
          "size": 12,
          "symbol": 3
         },
         "mode": "markers",
         "name": "Student_40",
         "text": [
          "Student_40"
         ],
         "type": "scatter",
         "uid": "28b074b4-e40c-11e8-a1d0-d7b4c6107baf",
         "x": [
          4
         ],
         "y": [
          70
         ]
        },
        {
         "marker": {
          "color": "rgb(0,255,0)",
          "colorscale": "Viridis",
          "line": {
           "width": 2
          },
          "size": 12,
          "symbol": 2
         },
         "mode": "markers",
         "name": "Student_41",
         "text": [
          "Student_41"
         ],
         "type": "scatter",
         "uid": "28b07536-e40c-11e8-a1d0-d7b4c6107baf",
         "x": [
          4
         ],
         "y": [
          99
         ]
        },
        {
         "marker": {
          "color": "rgb(0,0,255)",
          "colorscale": "Viridis",
          "line": {
           "width": 2
          },
          "size": 12,
          "symbol": 1
         },
         "mode": "markers",
         "name": "Student_42",
         "text": [
          "Student_42"
         ],
         "type": "scatter",
         "uid": "28b075ae-e40c-11e8-a1d0-d7b4c6107baf",
         "x": [
          3
         ],
         "y": [
          89
         ]
        },
        {
         "marker": {
          "color": "rgb(127,0,127)",
          "colorscale": "Viridis",
          "line": {
           "width": 2
          },
          "size": 12,
          "symbol": 3
         },
         "mode": "markers",
         "name": "Student_43",
         "text": [
          "Student_43"
         ],
         "type": "scatter",
         "uid": "28b07630-e40c-11e8-a1d0-d7b4c6107baf",
         "x": [
          2
         ],
         "y": [
          69
         ]
        },
        {
         "marker": {
          "color": "rgb(0,0,255)",
          "colorscale": "Viridis",
          "line": {
           "width": 2
          },
          "size": 12,
          "symbol": 1
         },
         "mode": "markers",
         "name": "Student_44",
         "text": [
          "Student_44"
         ],
         "type": "scatter",
         "uid": "28b076a8-e40c-11e8-a1d0-d7b4c6107baf",
         "x": [
          3
         ],
         "y": [
          72
         ]
        },
        {
         "marker": {
          "color": "rgb(255,0,0)",
          "colorscale": "Viridis",
          "line": {
           "width": 2
          },
          "size": 12,
          "symbol": 0
         },
         "mode": "markers",
         "name": "Student_45",
         "text": [
          "Student_45"
         ],
         "type": "scatter",
         "uid": "28b07720-e40c-11e8-a1d0-d7b4c6107baf",
         "x": [
          0
         ],
         "y": [
          33
         ]
        },
        {
         "marker": {
          "color": "rgb(255,0,0)",
          "colorscale": "Viridis",
          "line": {
           "width": 2
          },
          "size": 12,
          "symbol": 0
         },
         "mode": "markers",
         "name": "Student_46",
         "text": [
          "Student_46"
         ],
         "type": "scatter",
         "uid": "28b077a2-e40c-11e8-a1d0-d7b4c6107baf",
         "x": [
          0
         ],
         "y": [
          36
         ]
        },
        {
         "marker": {
          "color": "rgb(0,255,0)",
          "colorscale": "Viridis",
          "line": {
           "width": 2
          },
          "size": 12,
          "symbol": 2
         },
         "mode": "markers",
         "name": "Student_47",
         "text": [
          "Student_47"
         ],
         "type": "scatter",
         "uid": "28b0781a-e40c-11e8-a1d0-d7b4c6107baf",
         "x": [
          4
         ],
         "y": [
          94
         ]
        },
        {
         "marker": {
          "color": "rgb(255,0,0)",
          "colorscale": "Viridis",
          "line": {
           "width": 2
          },
          "size": 12,
          "symbol": 0
         },
         "mode": "markers",
         "name": "Student_48",
         "text": [
          "Student_48"
         ],
         "type": "scatter",
         "uid": "28b07892-e40c-11e8-a1d0-d7b4c6107baf",
         "x": [
          0
         ],
         "y": [
          41
         ]
        },
        {
         "marker": {
          "color": "rgb(255,0,0)",
          "colorscale": "Viridis",
          "line": {
           "width": 2
          },
          "size": 12,
          "symbol": 0
         },
         "mode": "markers",
         "name": "Student_49",
         "text": [
          "Student_49"
         ],
         "type": "scatter",
         "uid": "28b0790a-e40c-11e8-a1d0-d7b4c6107baf",
         "x": [
          0
         ],
         "y": [
          37
         ]
        },
        {
         "marker": {
          "color": "rgb(255,0,0)",
          "colorscale": "Viridis",
          "line": {
           "width": 2
          },
          "size": 12,
          "symbol": 0
         },
         "mode": "markers",
         "name": "Student_50",
         "text": [
          "Student_50"
         ],
         "type": "scatter",
         "uid": "28b07982-e40c-11e8-a1d0-d7b4c6107baf",
         "x": [
          0
         ],
         "y": [
          26
         ]
        },
        {
         "marker": {
          "color": "rgb(127,0,127)",
          "colorscale": "Viridis",
          "line": {
           "width": 2
          },
          "size": 12,
          "symbol": 3
         },
         "mode": "markers",
         "name": "Student_51",
         "text": [
          "Student_51"
         ],
         "type": "scatter",
         "uid": "28b07a04-e40c-11e8-a1d0-d7b4c6107baf",
         "x": [
          3
         ],
         "y": [
          53
         ]
        },
        {
         "marker": {
          "color": "rgb(255,0,0)",
          "colorscale": "Viridis",
          "line": {
           "width": 2
          },
          "size": 12,
          "symbol": 0
         },
         "mode": "markers",
         "name": "Student_52",
         "text": [
          "Student_52"
         ],
         "type": "scatter",
         "uid": "28b07a7c-e40c-11e8-a1d0-d7b4c6107baf",
         "x": [
          0
         ],
         "y": [
          11
         ]
        },
        {
         "marker": {
          "color": "rgb(127,0,127)",
          "colorscale": "Viridis",
          "line": {
           "width": 2
          },
          "size": 12,
          "symbol": 3
         },
         "mode": "markers",
         "name": "Student_53",
         "text": [
          "Student_53"
         ],
         "type": "scatter",
         "uid": "28b07afe-e40c-11e8-a1d0-d7b4c6107baf",
         "x": [
          2
         ],
         "y": [
          72
         ]
        },
        {
         "marker": {
          "color": "rgb(255,0,0)",
          "colorscale": "Viridis",
          "line": {
           "width": 2
          },
          "size": 12,
          "symbol": 0
         },
         "mode": "markers",
         "name": "Student_54",
         "text": [
          "Student_54"
         ],
         "type": "scatter",
         "uid": "28b07b76-e40c-11e8-a1d0-d7b4c6107baf",
         "x": [
          0
         ],
         "y": [
          21
         ]
        },
        {
         "marker": {
          "color": "rgb(127,0,127)",
          "colorscale": "Viridis",
          "line": {
           "width": 2
          },
          "size": 12,
          "symbol": 3
         },
         "mode": "markers",
         "name": "Student_55",
         "text": [
          "Student_55"
         ],
         "type": "scatter",
         "uid": "28b07bee-e40c-11e8-a1d0-d7b4c6107baf",
         "x": [
          4
         ],
         "y": [
          74
         ]
        },
        {
         "marker": {
          "color": "rgb(0,0,255)",
          "colorscale": "Viridis",
          "line": {
           "width": 2
          },
          "size": 12,
          "symbol": 1
         },
         "mode": "markers",
         "name": "Student_56",
         "text": [
          "Student_56"
         ],
         "type": "scatter",
         "uid": "28b07c70-e40c-11e8-a1d0-d7b4c6107baf",
         "x": [
          4
         ],
         "y": [
          82
         ]
        },
        {
         "marker": {
          "color": "rgb(127,0,127)",
          "colorscale": "Viridis",
          "line": {
           "width": 2
          },
          "size": 12,
          "symbol": 3
         },
         "mode": "markers",
         "name": "Student_57",
         "text": [
          "Student_57"
         ],
         "type": "scatter",
         "uid": "28b07ce8-e40c-11e8-a1d0-d7b4c6107baf",
         "x": [
          3
         ],
         "y": [
          64
         ]
        },
        {
         "marker": {
          "color": "rgb(127,0,127)",
          "colorscale": "Viridis",
          "line": {
           "width": 2
          },
          "size": 12,
          "symbol": 3
         },
         "mode": "markers",
         "name": "Student_58",
         "text": [
          "Student_58"
         ],
         "type": "scatter",
         "uid": "28b07d60-e40c-11e8-a1d0-d7b4c6107baf",
         "x": [
          4
         ],
         "y": [
          67
         ]
        },
        {
         "marker": {
          "color": "rgb(0,0,255)",
          "colorscale": "Viridis",
          "line": {
           "width": 2
          },
          "size": 12,
          "symbol": 1
         },
         "mode": "markers",
         "name": "Student_59",
         "text": [
          "Student_59"
         ],
         "type": "scatter",
         "uid": "28b07dce-e40c-11e8-a1d0-d7b4c6107baf",
         "x": [
          2
         ],
         "y": [
          72
         ]
        },
        {
         "marker": {
          "color": "rgb(127,0,127)",
          "colorscale": "Viridis",
          "line": {
           "width": 2
          },
          "size": 12,
          "symbol": 3
         },
         "mode": "markers",
         "name": "Student_60",
         "text": [
          "Student_60"
         ],
         "type": "scatter",
         "uid": "28b07e46-e40c-11e8-a1d0-d7b4c6107baf",
         "x": [
          4
         ],
         "y": [
          67
         ]
        }
       ],
       "layout": {
        "hovermode": "closest",
        "showlegend": true,
        "title": "Notas dos estudantes vs atividades respondidas",
        "xaxis": {
         "autorange": false,
         "fixedrange": false,
         "range": [
          0,
          14
         ],
         "rangemode": "normal",
         "showline": true,
         "title": "Atividades respondidas",
         "zeroline": false
        },
        "yaxis": {
         "autorange": false,
         "fixedrange": false,
         "range": [
          0,
          109
         ],
         "rangemode": "normal",
         "showline": true,
         "title": "Notas"
        }
       }
      },
      "text/html": [
       "<div id=\"26ecb938-1bb5-4466-a72f-16bf519a9c58\" style=\"height: 525px; width: 100%;\" class=\"plotly-graph-div\"></div><script type=\"text/javascript\">require([\"plotly\"], function(Plotly) { window.PLOTLYENV=window.PLOTLYENV || {};window.PLOTLYENV.BASE_URL=\"https://plot.ly\";Plotly.newPlot(\"26ecb938-1bb5-4466-a72f-16bf519a9c58\", [{\"marker\": {\"color\": \"rgb(255,0,0)\", \"colorscale\": \"Viridis\", \"line\": {\"width\": 2}, \"size\": 12, \"symbol\": 0}, \"mode\": \"markers\", \"name\": \"Student_1\", \"text\": [\"Student_1\"], \"x\": [0], \"y\": [43], \"type\": \"scatter\", \"uid\": \"28b06000-e40c-11e8-a1d0-d7b4c6107baf\"}, {\"marker\": {\"color\": \"rgb(0,255,0)\", \"colorscale\": \"Viridis\", \"line\": {\"width\": 2}, \"size\": 12, \"symbol\": 2}, \"mode\": \"markers\", \"name\": \"Student_2\", \"text\": [\"Student_2\"], \"x\": [4], \"y\": [92], \"type\": \"scatter\", \"uid\": \"28b06186-e40c-11e8-a1d0-d7b4c6107baf\"}, {\"marker\": {\"color\": \"rgb(0,0,255)\", \"colorscale\": \"Viridis\", \"line\": {\"width\": 2}, \"size\": 12, \"symbol\": 1}, \"mode\": \"markers\", \"name\": \"Student_3\", \"text\": [\"Student_3\"], \"x\": [3], \"y\": [82], \"type\": \"scatter\", \"uid\": \"28b0624e-e40c-11e8-a1d0-d7b4c6107baf\"}, {\"marker\": {\"color\": \"rgb(255,0,0)\", \"colorscale\": \"Viridis\", \"line\": {\"width\": 2}, \"size\": 12, \"symbol\": 0}, \"mode\": \"markers\", \"name\": \"Student_4\", \"text\": [\"Student_4\"], \"x\": [0], \"y\": [48], \"type\": \"scatter\", \"uid\": \"28b062ee-e40c-11e8-a1d0-d7b4c6107baf\"}, {\"marker\": {\"color\": \"rgb(127,0,127)\", \"colorscale\": \"Viridis\", \"line\": {\"width\": 2}, \"size\": 12, \"symbol\": 3}, \"mode\": \"markers\", \"name\": \"Student_5\", \"text\": [\"Student_5\"], \"x\": [2], \"y\": [76], \"type\": \"scatter\", \"uid\": \"28b0637a-e40c-11e8-a1d0-d7b4c6107baf\"}, {\"marker\": {\"color\": \"rgb(127,0,127)\", \"colorscale\": \"Viridis\", \"line\": {\"width\": 2}, \"size\": 12, \"symbol\": 3}, \"mode\": \"markers\", \"name\": \"Student_6\", \"text\": [\"Student_6\"], \"x\": [4], \"y\": [62], \"type\": \"scatter\", \"uid\": \"28b06406-e40c-11e8-a1d0-d7b4c6107baf\"}, {\"marker\": {\"color\": \"rgb(0,0,255)\", \"colorscale\": \"Viridis\", \"line\": {\"width\": 2}, \"size\": 12, \"symbol\": 1}, \"mode\": \"markers\", \"name\": \"Student_7\", \"text\": [\"Student_7\"], \"x\": [3], \"y\": [72], \"type\": \"scatter\", \"uid\": \"28b06488-e40c-11e8-a1d0-d7b4c6107baf\"}, {\"marker\": {\"color\": \"rgb(0,255,0)\", \"colorscale\": \"Viridis\", \"line\": {\"width\": 2}, \"size\": 12, \"symbol\": 2}, \"mode\": \"markers\", \"name\": \"Student_8\", \"text\": [\"Student_8\"], \"x\": [4], \"y\": [92], \"type\": \"scatter\", \"uid\": \"28b0650a-e40c-11e8-a1d0-d7b4c6107baf\"}, {\"marker\": {\"color\": \"rgb(255,0,0)\", \"colorscale\": \"Viridis\", \"line\": {\"width\": 2}, \"size\": 12, \"symbol\": 0}, \"mode\": \"markers\", \"name\": \"Student_9\", \"text\": [\"Student_9\"], \"x\": [0], \"y\": [40], \"type\": \"scatter\", \"uid\": \"28b0658c-e40c-11e8-a1d0-d7b4c6107baf\"}, {\"marker\": {\"color\": \"rgb(0,255,0)\", \"colorscale\": \"Viridis\", \"line\": {\"width\": 2}, \"size\": 12, \"symbol\": 2}, \"mode\": \"markers\", \"name\": \"Student_10\", \"text\": [\"Student_10\"], \"x\": [3], \"y\": [83], \"type\": \"scatter\", \"uid\": \"28b0660e-e40c-11e8-a1d0-d7b4c6107baf\"}, {\"marker\": {\"color\": \"rgb(127,0,127)\", \"colorscale\": \"Viridis\", \"line\": {\"width\": 2}, \"size\": 12, \"symbol\": 3}, \"mode\": \"markers\", \"name\": \"Student_11\", \"text\": [\"Student_11\"], \"x\": [3], \"y\": [74], \"type\": \"scatter\", \"uid\": \"28b06686-e40c-11e8-a1d0-d7b4c6107baf\"}, {\"marker\": {\"color\": \"rgb(0,0,255)\", \"colorscale\": \"Viridis\", \"line\": {\"width\": 2}, \"size\": 12, \"symbol\": 1}, \"mode\": \"markers\", \"name\": \"Student_12\", \"text\": [\"Student_12\"], \"x\": [3], \"y\": [79], \"type\": \"scatter\", \"uid\": \"28b06708-e40c-11e8-a1d0-d7b4c6107baf\"}, {\"marker\": {\"color\": \"rgb(0,0,255)\", \"colorscale\": \"Viridis\", \"line\": {\"width\": 2}, \"size\": 12, \"symbol\": 1}, \"mode\": \"markers\", \"name\": \"Student_13\", \"text\": [\"Student_13\"], \"x\": [2], \"y\": [79], \"type\": \"scatter\", \"uid\": \"28b0678a-e40c-11e8-a1d0-d7b4c6107baf\"}, {\"marker\": {\"color\": \"rgb(255,0,0)\", \"colorscale\": \"Viridis\", \"line\": {\"width\": 2}, \"size\": 12, \"symbol\": 0}, \"mode\": \"markers\", \"name\": \"Student_14\", \"text\": [\"Student_14\"], \"x\": [0], \"y\": [32], \"type\": \"scatter\", \"uid\": \"28b06802-e40c-11e8-a1d0-d7b4c6107baf\"}, {\"marker\": {\"color\": \"rgb(0,255,0)\", \"colorscale\": \"Viridis\", \"line\": {\"width\": 2}, \"size\": 12, \"symbol\": 2}, \"mode\": \"markers\", \"name\": \"Student_15\", \"text\": [\"Student_15\"], \"x\": [3], \"y\": [89], \"type\": \"scatter\", \"uid\": \"28b0688e-e40c-11e8-a1d0-d7b4c6107baf\"}, {\"marker\": {\"color\": \"rgb(127,0,127)\", \"colorscale\": \"Viridis\", \"line\": {\"width\": 2}, \"size\": 12, \"symbol\": 3}, \"mode\": \"markers\", \"name\": \"Student_16\", \"text\": [\"Student_16\"], \"x\": [4], \"y\": [61], \"type\": \"scatter\", \"uid\": \"28b06906-e40c-11e8-a1d0-d7b4c6107baf\"}, {\"marker\": {\"color\": \"rgb(127,0,127)\", \"colorscale\": \"Viridis\", \"line\": {\"width\": 2}, \"size\": 12, \"symbol\": 3}, \"mode\": \"markers\", \"name\": \"Student_17\", \"text\": [\"Student_17\"], \"x\": [3], \"y\": [71], \"type\": \"scatter\", \"uid\": \"28b06988-e40c-11e8-a1d0-d7b4c6107baf\"}, {\"marker\": {\"color\": \"rgb(127,0,127)\", \"colorscale\": \"Viridis\", \"line\": {\"width\": 2}, \"size\": 12, \"symbol\": 3}, \"mode\": \"markers\", \"name\": \"Student_18\", \"text\": [\"Student_18\"], \"x\": [3], \"y\": [71], \"type\": \"scatter\", \"uid\": \"28b06a00-e40c-11e8-a1d0-d7b4c6107baf\"}, {\"marker\": {\"color\": \"rgb(127,0,127)\", \"colorscale\": \"Viridis\", \"line\": {\"width\": 2}, \"size\": 12, \"symbol\": 3}, \"mode\": \"markers\", \"name\": \"Student_19\", \"text\": [\"Student_19\"], \"x\": [3], \"y\": [62], \"type\": \"scatter\", \"uid\": \"28b06a82-e40c-11e8-a1d0-d7b4c6107baf\"}, {\"marker\": {\"color\": \"rgb(255,0,0)\", \"colorscale\": \"Viridis\", \"line\": {\"width\": 2}, \"size\": 12, \"symbol\": 0}, \"mode\": \"markers\", \"name\": \"Student_20\", \"text\": [\"Student_20\"], \"x\": [0], \"y\": [39], \"type\": \"scatter\", \"uid\": \"28b06b04-e40c-11e8-a1d0-d7b4c6107baf\"}, {\"marker\": {\"color\": \"rgb(127,0,127)\", \"colorscale\": \"Viridis\", \"line\": {\"width\": 2}, \"size\": 12, \"symbol\": 3}, \"mode\": \"markers\", \"name\": \"Student_21\", \"text\": [\"Student_21\"], \"x\": [4], \"y\": [69], \"type\": \"scatter\", \"uid\": \"28b06b7c-e40c-11e8-a1d0-d7b4c6107baf\"}, {\"marker\": {\"color\": \"rgb(0,0,255)\", \"colorscale\": \"Viridis\", \"line\": {\"width\": 2}, \"size\": 12, \"symbol\": 1}, \"mode\": \"markers\", \"name\": \"Student_22\", \"text\": [\"Student_22\"], \"x\": [3], \"y\": [84], \"type\": \"scatter\", \"uid\": \"28b06bf4-e40c-11e8-a1d0-d7b4c6107baf\"}, {\"marker\": {\"color\": \"rgb(127,0,127)\", \"colorscale\": \"Viridis\", \"line\": {\"width\": 2}, \"size\": 12, \"symbol\": 3}, \"mode\": \"markers\", \"name\": \"Student_23\", \"text\": [\"Student_23\"], \"x\": [3], \"y\": [63], \"type\": \"scatter\", \"uid\": \"28b06c76-e40c-11e8-a1d0-d7b4c6107baf\"}, {\"marker\": {\"color\": \"rgb(127,0,127)\", \"colorscale\": \"Viridis\", \"line\": {\"width\": 2}, \"size\": 12, \"symbol\": 3}, \"mode\": \"markers\", \"name\": \"Student_24\", \"text\": [\"Student_24\"], \"x\": [1], \"y\": [57], \"type\": \"scatter\", \"uid\": \"28b06cee-e40c-11e8-a1d0-d7b4c6107baf\"}, {\"marker\": {\"color\": \"rgb(0,0,255)\", \"colorscale\": \"Viridis\", \"line\": {\"width\": 2}, \"size\": 12, \"symbol\": 1}, \"mode\": \"markers\", \"name\": \"Student_25\", \"text\": [\"Student_25\"], \"x\": [4], \"y\": [74], \"type\": \"scatter\", \"uid\": \"28b06d70-e40c-11e8-a1d0-d7b4c6107baf\"}, {\"marker\": {\"color\": \"rgb(127,0,127)\", \"colorscale\": \"Viridis\", \"line\": {\"width\": 2}, \"size\": 12, \"symbol\": 3}, \"mode\": \"markers\", \"name\": \"Student_26\", \"text\": [\"Student_26\"], \"x\": [4], \"y\": [59], \"type\": \"scatter\", \"uid\": \"28b06de8-e40c-11e8-a1d0-d7b4c6107baf\"}, {\"marker\": {\"color\": \"rgb(0,255,0)\", \"colorscale\": \"Viridis\", \"line\": {\"width\": 2}, \"size\": 12, \"symbol\": 2}, \"mode\": \"markers\", \"name\": \"Student_27\", \"text\": [\"Student_27\"], \"x\": [4], \"y\": [93], \"type\": \"scatter\", \"uid\": \"28b06e6a-e40c-11e8-a1d0-d7b4c6107baf\"}, {\"marker\": {\"color\": \"rgb(255,0,0)\", \"colorscale\": \"Viridis\", \"line\": {\"width\": 2}, \"size\": 12, \"symbol\": 0}, \"mode\": \"markers\", \"name\": \"Student_28\", \"text\": [\"Student_28\"], \"x\": [0], \"y\": [29], \"type\": \"scatter\", \"uid\": \"28b06ee2-e40c-11e8-a1d0-d7b4c6107baf\"}, {\"marker\": {\"color\": \"rgb(255,0,0)\", \"colorscale\": \"Viridis\", \"line\": {\"width\": 2}, \"size\": 12, \"symbol\": 0}, \"mode\": \"markers\", \"name\": \"Student_29\", \"text\": [\"Student_29\"], \"x\": [0], \"y\": [22], \"type\": \"scatter\", \"uid\": \"28b06f64-e40c-11e8-a1d0-d7b4c6107baf\"}, {\"marker\": {\"color\": \"rgb(255,0,0)\", \"colorscale\": \"Viridis\", \"line\": {\"width\": 2}, \"size\": 12, \"symbol\": 0}, \"mode\": \"markers\", \"name\": \"Student_30\", \"text\": [\"Student_30\"], \"x\": [2], \"y\": [53], \"type\": \"scatter\", \"uid\": \"28b06fdc-e40c-11e8-a1d0-d7b4c6107baf\"}, {\"marker\": {\"color\": \"rgb(255,0,0)\", \"colorscale\": \"Viridis\", \"line\": {\"width\": 2}, \"size\": 12, \"symbol\": 0}, \"mode\": \"markers\", \"name\": \"Student_31\", \"text\": [\"Student_31\"], \"x\": [0], \"y\": [48], \"type\": \"scatter\", \"uid\": \"28b07054-e40c-11e8-a1d0-d7b4c6107baf\"}, {\"marker\": {\"color\": \"rgb(127,0,127)\", \"colorscale\": \"Viridis\", \"line\": {\"width\": 2}, \"size\": 12, \"symbol\": 3}, \"mode\": \"markers\", \"name\": \"Student_32\", \"text\": [\"Student_32\"], \"x\": [4], \"y\": [75], \"type\": \"scatter\", \"uid\": \"28b070cc-e40c-11e8-a1d0-d7b4c6107baf\"}, {\"marker\": {\"color\": \"rgb(255,0,0)\", \"colorscale\": \"Viridis\", \"line\": {\"width\": 2}, \"size\": 12, \"symbol\": 0}, \"mode\": \"markers\", \"name\": \"Student_33\", \"text\": [\"Student_33\"], \"x\": [0], \"y\": [27], \"type\": \"scatter\", \"uid\": \"28b0714e-e40c-11e8-a1d0-d7b4c6107baf\"}, {\"marker\": {\"color\": \"rgb(127,0,127)\", \"colorscale\": \"Viridis\", \"line\": {\"width\": 2}, \"size\": 12, \"symbol\": 3}, \"mode\": \"markers\", \"name\": \"Student_34\", \"text\": [\"Student_34\"], \"x\": [2], \"y\": [73], \"type\": \"scatter\", \"uid\": \"28b071d0-e40c-11e8-a1d0-d7b4c6107baf\"}, {\"marker\": {\"color\": \"rgb(255,0,0)\", \"colorscale\": \"Viridis\", \"line\": {\"width\": 2}, \"size\": 12, \"symbol\": 0}, \"mode\": \"markers\", \"name\": \"Student_35\", \"text\": [\"Student_35\"], \"x\": [0], \"y\": [38], \"type\": \"scatter\", \"uid\": \"28b07248-e40c-11e8-a1d0-d7b4c6107baf\"}, {\"marker\": {\"color\": \"rgb(255,0,0)\", \"colorscale\": \"Viridis\", \"line\": {\"width\": 2}, \"size\": 12, \"symbol\": 0}, \"mode\": \"markers\", \"name\": \"Student_36\", \"text\": [\"Student_36\"], \"x\": [0], \"y\": [36], \"type\": \"scatter\", \"uid\": \"28b072ca-e40c-11e8-a1d0-d7b4c6107baf\"}, {\"marker\": {\"color\": \"rgb(0,0,255)\", \"colorscale\": \"Viridis\", \"line\": {\"width\": 2}, \"size\": 12, \"symbol\": 1}, \"mode\": \"markers\", \"name\": \"Student_37\", \"text\": [\"Student_37\"], \"x\": [4], \"y\": [81], \"type\": \"scatter\", \"uid\": \"28b07342-e40c-11e8-a1d0-d7b4c6107baf\"}, {\"marker\": {\"color\": \"rgb(0,0,255)\", \"colorscale\": \"Viridis\", \"line\": {\"width\": 2}, \"size\": 12, \"symbol\": 1}, \"mode\": \"markers\", \"name\": \"Student_38\", \"text\": [\"Student_38\"], \"x\": [4], \"y\": [84], \"type\": \"scatter\", \"uid\": \"28b073c4-e40c-11e8-a1d0-d7b4c6107baf\"}, {\"marker\": {\"color\": \"rgb(255,0,0)\", \"colorscale\": \"Viridis\", \"line\": {\"width\": 2}, \"size\": 12, \"symbol\": 0}, \"mode\": \"markers\", \"name\": \"Student_39\", \"text\": [\"Student_39\"], \"x\": [0], \"y\": [45], \"type\": \"scatter\", \"uid\": \"28b0743c-e40c-11e8-a1d0-d7b4c6107baf\"}, {\"marker\": {\"color\": \"rgb(127,0,127)\", \"colorscale\": \"Viridis\", \"line\": {\"width\": 2}, \"size\": 12, \"symbol\": 3}, \"mode\": \"markers\", \"name\": \"Student_40\", \"text\": [\"Student_40\"], \"x\": [4], \"y\": [70], \"type\": \"scatter\", \"uid\": \"28b074b4-e40c-11e8-a1d0-d7b4c6107baf\"}, {\"marker\": {\"color\": \"rgb(0,255,0)\", \"colorscale\": \"Viridis\", \"line\": {\"width\": 2}, \"size\": 12, \"symbol\": 2}, \"mode\": \"markers\", \"name\": \"Student_41\", \"text\": [\"Student_41\"], \"x\": [4], \"y\": [99], \"type\": \"scatter\", \"uid\": \"28b07536-e40c-11e8-a1d0-d7b4c6107baf\"}, {\"marker\": {\"color\": \"rgb(0,0,255)\", \"colorscale\": \"Viridis\", \"line\": {\"width\": 2}, \"size\": 12, \"symbol\": 1}, \"mode\": \"markers\", \"name\": \"Student_42\", \"text\": [\"Student_42\"], \"x\": [3], \"y\": [89], \"type\": \"scatter\", \"uid\": \"28b075ae-e40c-11e8-a1d0-d7b4c6107baf\"}, {\"marker\": {\"color\": \"rgb(127,0,127)\", \"colorscale\": \"Viridis\", \"line\": {\"width\": 2}, \"size\": 12, \"symbol\": 3}, \"mode\": \"markers\", \"name\": \"Student_43\", \"text\": [\"Student_43\"], \"x\": [2], \"y\": [69], \"type\": \"scatter\", \"uid\": \"28b07630-e40c-11e8-a1d0-d7b4c6107baf\"}, {\"marker\": {\"color\": \"rgb(0,0,255)\", \"colorscale\": \"Viridis\", \"line\": {\"width\": 2}, \"size\": 12, \"symbol\": 1}, \"mode\": \"markers\", \"name\": \"Student_44\", \"text\": [\"Student_44\"], \"x\": [3], \"y\": [72], \"type\": \"scatter\", \"uid\": \"28b076a8-e40c-11e8-a1d0-d7b4c6107baf\"}, {\"marker\": {\"color\": \"rgb(255,0,0)\", \"colorscale\": \"Viridis\", \"line\": {\"width\": 2}, \"size\": 12, \"symbol\": 0}, \"mode\": \"markers\", \"name\": \"Student_45\", \"text\": [\"Student_45\"], \"x\": [0], \"y\": [33], \"type\": \"scatter\", \"uid\": \"28b07720-e40c-11e8-a1d0-d7b4c6107baf\"}, {\"marker\": {\"color\": \"rgb(255,0,0)\", \"colorscale\": \"Viridis\", \"line\": {\"width\": 2}, \"size\": 12, \"symbol\": 0}, \"mode\": \"markers\", \"name\": \"Student_46\", \"text\": [\"Student_46\"], \"x\": [0], \"y\": [36], \"type\": \"scatter\", \"uid\": \"28b077a2-e40c-11e8-a1d0-d7b4c6107baf\"}, {\"marker\": {\"color\": \"rgb(0,255,0)\", \"colorscale\": \"Viridis\", \"line\": {\"width\": 2}, \"size\": 12, \"symbol\": 2}, \"mode\": \"markers\", \"name\": \"Student_47\", \"text\": [\"Student_47\"], \"x\": [4], \"y\": [94], \"type\": \"scatter\", \"uid\": \"28b0781a-e40c-11e8-a1d0-d7b4c6107baf\"}, {\"marker\": {\"color\": \"rgb(255,0,0)\", \"colorscale\": \"Viridis\", \"line\": {\"width\": 2}, \"size\": 12, \"symbol\": 0}, \"mode\": \"markers\", \"name\": \"Student_48\", \"text\": [\"Student_48\"], \"x\": [0], \"y\": [41], \"type\": \"scatter\", \"uid\": \"28b07892-e40c-11e8-a1d0-d7b4c6107baf\"}, {\"marker\": {\"color\": \"rgb(255,0,0)\", \"colorscale\": \"Viridis\", \"line\": {\"width\": 2}, \"size\": 12, \"symbol\": 0}, \"mode\": \"markers\", \"name\": \"Student_49\", \"text\": [\"Student_49\"], \"x\": [0], \"y\": [37], \"type\": \"scatter\", \"uid\": \"28b0790a-e40c-11e8-a1d0-d7b4c6107baf\"}, {\"marker\": {\"color\": \"rgb(255,0,0)\", \"colorscale\": \"Viridis\", \"line\": {\"width\": 2}, \"size\": 12, \"symbol\": 0}, \"mode\": \"markers\", \"name\": \"Student_50\", \"text\": [\"Student_50\"], \"x\": [0], \"y\": [26], \"type\": \"scatter\", \"uid\": \"28b07982-e40c-11e8-a1d0-d7b4c6107baf\"}, {\"marker\": {\"color\": \"rgb(127,0,127)\", \"colorscale\": \"Viridis\", \"line\": {\"width\": 2}, \"size\": 12, \"symbol\": 3}, \"mode\": \"markers\", \"name\": \"Student_51\", \"text\": [\"Student_51\"], \"x\": [3], \"y\": [53], \"type\": \"scatter\", \"uid\": \"28b07a04-e40c-11e8-a1d0-d7b4c6107baf\"}, {\"marker\": {\"color\": \"rgb(255,0,0)\", \"colorscale\": \"Viridis\", \"line\": {\"width\": 2}, \"size\": 12, \"symbol\": 0}, \"mode\": \"markers\", \"name\": \"Student_52\", \"text\": [\"Student_52\"], \"x\": [0], \"y\": [11], \"type\": \"scatter\", \"uid\": \"28b07a7c-e40c-11e8-a1d0-d7b4c6107baf\"}, {\"marker\": {\"color\": \"rgb(127,0,127)\", \"colorscale\": \"Viridis\", \"line\": {\"width\": 2}, \"size\": 12, \"symbol\": 3}, \"mode\": \"markers\", \"name\": \"Student_53\", \"text\": [\"Student_53\"], \"x\": [2], \"y\": [72], \"type\": \"scatter\", \"uid\": \"28b07afe-e40c-11e8-a1d0-d7b4c6107baf\"}, {\"marker\": {\"color\": \"rgb(255,0,0)\", \"colorscale\": \"Viridis\", \"line\": {\"width\": 2}, \"size\": 12, \"symbol\": 0}, \"mode\": \"markers\", \"name\": \"Student_54\", \"text\": [\"Student_54\"], \"x\": [0], \"y\": [21], \"type\": \"scatter\", \"uid\": \"28b07b76-e40c-11e8-a1d0-d7b4c6107baf\"}, {\"marker\": {\"color\": \"rgb(127,0,127)\", \"colorscale\": \"Viridis\", \"line\": {\"width\": 2}, \"size\": 12, \"symbol\": 3}, \"mode\": \"markers\", \"name\": \"Student_55\", \"text\": [\"Student_55\"], \"x\": [4], \"y\": [74], \"type\": \"scatter\", \"uid\": \"28b07bee-e40c-11e8-a1d0-d7b4c6107baf\"}, {\"marker\": {\"color\": \"rgb(0,0,255)\", \"colorscale\": \"Viridis\", \"line\": {\"width\": 2}, \"size\": 12, \"symbol\": 1}, \"mode\": \"markers\", \"name\": \"Student_56\", \"text\": [\"Student_56\"], \"x\": [4], \"y\": [82], \"type\": \"scatter\", \"uid\": \"28b07c70-e40c-11e8-a1d0-d7b4c6107baf\"}, {\"marker\": {\"color\": \"rgb(127,0,127)\", \"colorscale\": \"Viridis\", \"line\": {\"width\": 2}, \"size\": 12, \"symbol\": 3}, \"mode\": \"markers\", \"name\": \"Student_57\", \"text\": [\"Student_57\"], \"x\": [3], \"y\": [64], \"type\": \"scatter\", \"uid\": \"28b07ce8-e40c-11e8-a1d0-d7b4c6107baf\"}, {\"marker\": {\"color\": \"rgb(127,0,127)\", \"colorscale\": \"Viridis\", \"line\": {\"width\": 2}, \"size\": 12, \"symbol\": 3}, \"mode\": \"markers\", \"name\": \"Student_58\", \"text\": [\"Student_58\"], \"x\": [4], \"y\": [67], \"type\": \"scatter\", \"uid\": \"28b07d60-e40c-11e8-a1d0-d7b4c6107baf\"}, {\"marker\": {\"color\": \"rgb(0,0,255)\", \"colorscale\": \"Viridis\", \"line\": {\"width\": 2}, \"size\": 12, \"symbol\": 1}, \"mode\": \"markers\", \"name\": \"Student_59\", \"text\": [\"Student_59\"], \"x\": [2], \"y\": [72], \"type\": \"scatter\", \"uid\": \"28b07dce-e40c-11e8-a1d0-d7b4c6107baf\"}, {\"marker\": {\"color\": \"rgb(127,0,127)\", \"colorscale\": \"Viridis\", \"line\": {\"width\": 2}, \"size\": 12, \"symbol\": 3}, \"mode\": \"markers\", \"name\": \"Student_60\", \"text\": [\"Student_60\"], \"x\": [4], \"y\": [67], \"type\": \"scatter\", \"uid\": \"28b07e46-e40c-11e8-a1d0-d7b4c6107baf\"}], {\"hovermode\": \"closest\", \"showlegend\": true, \"title\": \"Notas dos estudantes vs atividades respondidas\", \"xaxis\": {\"autorange\": false, \"fixedrange\": false, \"range\": [0, 14], \"rangemode\": \"normal\", \"showline\": true, \"title\": \"Atividades respondidas\", \"zeroline\": false}, \"yaxis\": {\"autorange\": false, \"fixedrange\": false, \"range\": [0, 109], \"rangemode\": \"normal\", \"showline\": true, \"title\": \"Notas\"}}, {\"showLink\": true, \"linkText\": \"Export to plot.ly\"})});</script>"
      ],
      "text/vnd.plotly.v1+html": [
       "<div id=\"26ecb938-1bb5-4466-a72f-16bf519a9c58\" style=\"height: 525px; width: 100%;\" class=\"plotly-graph-div\"></div><script type=\"text/javascript\">require([\"plotly\"], function(Plotly) { window.PLOTLYENV=window.PLOTLYENV || {};window.PLOTLYENV.BASE_URL=\"https://plot.ly\";Plotly.newPlot(\"26ecb938-1bb5-4466-a72f-16bf519a9c58\", [{\"marker\": {\"color\": \"rgb(255,0,0)\", \"colorscale\": \"Viridis\", \"line\": {\"width\": 2}, \"size\": 12, \"symbol\": 0}, \"mode\": \"markers\", \"name\": \"Student_1\", \"text\": [\"Student_1\"], \"x\": [0], \"y\": [43], \"type\": \"scatter\", \"uid\": \"28b06000-e40c-11e8-a1d0-d7b4c6107baf\"}, {\"marker\": {\"color\": \"rgb(0,255,0)\", \"colorscale\": \"Viridis\", \"line\": {\"width\": 2}, \"size\": 12, \"symbol\": 2}, \"mode\": \"markers\", \"name\": \"Student_2\", \"text\": [\"Student_2\"], \"x\": [4], \"y\": [92], \"type\": \"scatter\", \"uid\": \"28b06186-e40c-11e8-a1d0-d7b4c6107baf\"}, {\"marker\": {\"color\": \"rgb(0,0,255)\", \"colorscale\": \"Viridis\", \"line\": {\"width\": 2}, \"size\": 12, \"symbol\": 1}, \"mode\": \"markers\", \"name\": \"Student_3\", \"text\": [\"Student_3\"], \"x\": [3], \"y\": [82], \"type\": \"scatter\", \"uid\": \"28b0624e-e40c-11e8-a1d0-d7b4c6107baf\"}, {\"marker\": {\"color\": \"rgb(255,0,0)\", \"colorscale\": \"Viridis\", \"line\": {\"width\": 2}, \"size\": 12, \"symbol\": 0}, \"mode\": \"markers\", \"name\": \"Student_4\", \"text\": [\"Student_4\"], \"x\": [0], \"y\": [48], \"type\": \"scatter\", \"uid\": \"28b062ee-e40c-11e8-a1d0-d7b4c6107baf\"}, {\"marker\": {\"color\": \"rgb(127,0,127)\", \"colorscale\": \"Viridis\", \"line\": {\"width\": 2}, \"size\": 12, \"symbol\": 3}, \"mode\": \"markers\", \"name\": \"Student_5\", \"text\": [\"Student_5\"], \"x\": [2], \"y\": [76], \"type\": \"scatter\", \"uid\": \"28b0637a-e40c-11e8-a1d0-d7b4c6107baf\"}, {\"marker\": {\"color\": \"rgb(127,0,127)\", \"colorscale\": \"Viridis\", \"line\": {\"width\": 2}, \"size\": 12, \"symbol\": 3}, \"mode\": \"markers\", \"name\": \"Student_6\", \"text\": [\"Student_6\"], \"x\": [4], \"y\": [62], \"type\": \"scatter\", \"uid\": \"28b06406-e40c-11e8-a1d0-d7b4c6107baf\"}, {\"marker\": {\"color\": \"rgb(0,0,255)\", \"colorscale\": \"Viridis\", \"line\": {\"width\": 2}, \"size\": 12, \"symbol\": 1}, \"mode\": \"markers\", \"name\": \"Student_7\", \"text\": [\"Student_7\"], \"x\": [3], \"y\": [72], \"type\": \"scatter\", \"uid\": \"28b06488-e40c-11e8-a1d0-d7b4c6107baf\"}, {\"marker\": {\"color\": \"rgb(0,255,0)\", \"colorscale\": \"Viridis\", \"line\": {\"width\": 2}, \"size\": 12, \"symbol\": 2}, \"mode\": \"markers\", \"name\": \"Student_8\", \"text\": [\"Student_8\"], \"x\": [4], \"y\": [92], \"type\": \"scatter\", \"uid\": \"28b0650a-e40c-11e8-a1d0-d7b4c6107baf\"}, {\"marker\": {\"color\": \"rgb(255,0,0)\", \"colorscale\": \"Viridis\", \"line\": {\"width\": 2}, \"size\": 12, \"symbol\": 0}, \"mode\": \"markers\", \"name\": \"Student_9\", \"text\": [\"Student_9\"], \"x\": [0], \"y\": [40], \"type\": \"scatter\", \"uid\": \"28b0658c-e40c-11e8-a1d0-d7b4c6107baf\"}, {\"marker\": {\"color\": \"rgb(0,255,0)\", \"colorscale\": \"Viridis\", \"line\": {\"width\": 2}, \"size\": 12, \"symbol\": 2}, \"mode\": \"markers\", \"name\": \"Student_10\", \"text\": [\"Student_10\"], \"x\": [3], \"y\": [83], \"type\": \"scatter\", \"uid\": \"28b0660e-e40c-11e8-a1d0-d7b4c6107baf\"}, {\"marker\": {\"color\": \"rgb(127,0,127)\", \"colorscale\": \"Viridis\", \"line\": {\"width\": 2}, \"size\": 12, \"symbol\": 3}, \"mode\": \"markers\", \"name\": \"Student_11\", \"text\": [\"Student_11\"], \"x\": [3], \"y\": [74], \"type\": \"scatter\", \"uid\": \"28b06686-e40c-11e8-a1d0-d7b4c6107baf\"}, {\"marker\": {\"color\": \"rgb(0,0,255)\", \"colorscale\": \"Viridis\", \"line\": {\"width\": 2}, \"size\": 12, \"symbol\": 1}, \"mode\": \"markers\", \"name\": \"Student_12\", \"text\": [\"Student_12\"], \"x\": [3], \"y\": [79], \"type\": \"scatter\", \"uid\": \"28b06708-e40c-11e8-a1d0-d7b4c6107baf\"}, {\"marker\": {\"color\": \"rgb(0,0,255)\", \"colorscale\": \"Viridis\", \"line\": {\"width\": 2}, \"size\": 12, \"symbol\": 1}, \"mode\": \"markers\", \"name\": \"Student_13\", \"text\": [\"Student_13\"], \"x\": [2], \"y\": [79], \"type\": \"scatter\", \"uid\": \"28b0678a-e40c-11e8-a1d0-d7b4c6107baf\"}, {\"marker\": {\"color\": \"rgb(255,0,0)\", \"colorscale\": \"Viridis\", \"line\": {\"width\": 2}, \"size\": 12, \"symbol\": 0}, \"mode\": \"markers\", \"name\": \"Student_14\", \"text\": [\"Student_14\"], \"x\": [0], \"y\": [32], \"type\": \"scatter\", \"uid\": \"28b06802-e40c-11e8-a1d0-d7b4c6107baf\"}, {\"marker\": {\"color\": \"rgb(0,255,0)\", \"colorscale\": \"Viridis\", \"line\": {\"width\": 2}, \"size\": 12, \"symbol\": 2}, \"mode\": \"markers\", \"name\": \"Student_15\", \"text\": [\"Student_15\"], \"x\": [3], \"y\": [89], \"type\": \"scatter\", \"uid\": \"28b0688e-e40c-11e8-a1d0-d7b4c6107baf\"}, {\"marker\": {\"color\": \"rgb(127,0,127)\", \"colorscale\": \"Viridis\", \"line\": {\"width\": 2}, \"size\": 12, \"symbol\": 3}, \"mode\": \"markers\", \"name\": \"Student_16\", \"text\": [\"Student_16\"], \"x\": [4], \"y\": [61], \"type\": \"scatter\", \"uid\": \"28b06906-e40c-11e8-a1d0-d7b4c6107baf\"}, {\"marker\": {\"color\": \"rgb(127,0,127)\", \"colorscale\": \"Viridis\", \"line\": {\"width\": 2}, \"size\": 12, \"symbol\": 3}, \"mode\": \"markers\", \"name\": \"Student_17\", \"text\": [\"Student_17\"], \"x\": [3], \"y\": [71], \"type\": \"scatter\", \"uid\": \"28b06988-e40c-11e8-a1d0-d7b4c6107baf\"}, {\"marker\": {\"color\": \"rgb(127,0,127)\", \"colorscale\": \"Viridis\", \"line\": {\"width\": 2}, \"size\": 12, \"symbol\": 3}, \"mode\": \"markers\", \"name\": \"Student_18\", \"text\": [\"Student_18\"], \"x\": [3], \"y\": [71], \"type\": \"scatter\", \"uid\": \"28b06a00-e40c-11e8-a1d0-d7b4c6107baf\"}, {\"marker\": {\"color\": \"rgb(127,0,127)\", \"colorscale\": \"Viridis\", \"line\": {\"width\": 2}, \"size\": 12, \"symbol\": 3}, \"mode\": \"markers\", \"name\": \"Student_19\", \"text\": [\"Student_19\"], \"x\": [3], \"y\": [62], \"type\": \"scatter\", \"uid\": \"28b06a82-e40c-11e8-a1d0-d7b4c6107baf\"}, {\"marker\": {\"color\": \"rgb(255,0,0)\", \"colorscale\": \"Viridis\", \"line\": {\"width\": 2}, \"size\": 12, \"symbol\": 0}, \"mode\": \"markers\", \"name\": \"Student_20\", \"text\": [\"Student_20\"], \"x\": [0], \"y\": [39], \"type\": \"scatter\", \"uid\": \"28b06b04-e40c-11e8-a1d0-d7b4c6107baf\"}, {\"marker\": {\"color\": \"rgb(127,0,127)\", \"colorscale\": \"Viridis\", \"line\": {\"width\": 2}, \"size\": 12, \"symbol\": 3}, \"mode\": \"markers\", \"name\": \"Student_21\", \"text\": [\"Student_21\"], \"x\": [4], \"y\": [69], \"type\": \"scatter\", \"uid\": \"28b06b7c-e40c-11e8-a1d0-d7b4c6107baf\"}, {\"marker\": {\"color\": \"rgb(0,0,255)\", \"colorscale\": \"Viridis\", \"line\": {\"width\": 2}, \"size\": 12, \"symbol\": 1}, \"mode\": \"markers\", \"name\": \"Student_22\", \"text\": [\"Student_22\"], \"x\": [3], \"y\": [84], \"type\": \"scatter\", \"uid\": \"28b06bf4-e40c-11e8-a1d0-d7b4c6107baf\"}, {\"marker\": {\"color\": \"rgb(127,0,127)\", \"colorscale\": \"Viridis\", \"line\": {\"width\": 2}, \"size\": 12, \"symbol\": 3}, \"mode\": \"markers\", \"name\": \"Student_23\", \"text\": [\"Student_23\"], \"x\": [3], \"y\": [63], \"type\": \"scatter\", \"uid\": \"28b06c76-e40c-11e8-a1d0-d7b4c6107baf\"}, {\"marker\": {\"color\": \"rgb(127,0,127)\", \"colorscale\": \"Viridis\", \"line\": {\"width\": 2}, \"size\": 12, \"symbol\": 3}, \"mode\": \"markers\", \"name\": \"Student_24\", \"text\": [\"Student_24\"], \"x\": [1], \"y\": [57], \"type\": \"scatter\", \"uid\": \"28b06cee-e40c-11e8-a1d0-d7b4c6107baf\"}, {\"marker\": {\"color\": \"rgb(0,0,255)\", \"colorscale\": \"Viridis\", \"line\": {\"width\": 2}, \"size\": 12, \"symbol\": 1}, \"mode\": \"markers\", \"name\": \"Student_25\", \"text\": [\"Student_25\"], \"x\": [4], \"y\": [74], \"type\": \"scatter\", \"uid\": \"28b06d70-e40c-11e8-a1d0-d7b4c6107baf\"}, {\"marker\": {\"color\": \"rgb(127,0,127)\", \"colorscale\": \"Viridis\", \"line\": {\"width\": 2}, \"size\": 12, \"symbol\": 3}, \"mode\": \"markers\", \"name\": \"Student_26\", \"text\": [\"Student_26\"], \"x\": [4], \"y\": [59], \"type\": \"scatter\", \"uid\": \"28b06de8-e40c-11e8-a1d0-d7b4c6107baf\"}, {\"marker\": {\"color\": \"rgb(0,255,0)\", \"colorscale\": \"Viridis\", \"line\": {\"width\": 2}, \"size\": 12, \"symbol\": 2}, \"mode\": \"markers\", \"name\": \"Student_27\", \"text\": [\"Student_27\"], \"x\": [4], \"y\": [93], \"type\": \"scatter\", \"uid\": \"28b06e6a-e40c-11e8-a1d0-d7b4c6107baf\"}, {\"marker\": {\"color\": \"rgb(255,0,0)\", \"colorscale\": \"Viridis\", \"line\": {\"width\": 2}, \"size\": 12, \"symbol\": 0}, \"mode\": \"markers\", \"name\": \"Student_28\", \"text\": [\"Student_28\"], \"x\": [0], \"y\": [29], \"type\": \"scatter\", \"uid\": \"28b06ee2-e40c-11e8-a1d0-d7b4c6107baf\"}, {\"marker\": {\"color\": \"rgb(255,0,0)\", \"colorscale\": \"Viridis\", \"line\": {\"width\": 2}, \"size\": 12, \"symbol\": 0}, \"mode\": \"markers\", \"name\": \"Student_29\", \"text\": [\"Student_29\"], \"x\": [0], \"y\": [22], \"type\": \"scatter\", \"uid\": \"28b06f64-e40c-11e8-a1d0-d7b4c6107baf\"}, {\"marker\": {\"color\": \"rgb(255,0,0)\", \"colorscale\": \"Viridis\", \"line\": {\"width\": 2}, \"size\": 12, \"symbol\": 0}, \"mode\": \"markers\", \"name\": \"Student_30\", \"text\": [\"Student_30\"], \"x\": [2], \"y\": [53], \"type\": \"scatter\", \"uid\": \"28b06fdc-e40c-11e8-a1d0-d7b4c6107baf\"}, {\"marker\": {\"color\": \"rgb(255,0,0)\", \"colorscale\": \"Viridis\", \"line\": {\"width\": 2}, \"size\": 12, \"symbol\": 0}, \"mode\": \"markers\", \"name\": \"Student_31\", \"text\": [\"Student_31\"], \"x\": [0], \"y\": [48], \"type\": \"scatter\", \"uid\": \"28b07054-e40c-11e8-a1d0-d7b4c6107baf\"}, {\"marker\": {\"color\": \"rgb(127,0,127)\", \"colorscale\": \"Viridis\", \"line\": {\"width\": 2}, \"size\": 12, \"symbol\": 3}, \"mode\": \"markers\", \"name\": \"Student_32\", \"text\": [\"Student_32\"], \"x\": [4], \"y\": [75], \"type\": \"scatter\", \"uid\": \"28b070cc-e40c-11e8-a1d0-d7b4c6107baf\"}, {\"marker\": {\"color\": \"rgb(255,0,0)\", \"colorscale\": \"Viridis\", \"line\": {\"width\": 2}, \"size\": 12, \"symbol\": 0}, \"mode\": \"markers\", \"name\": \"Student_33\", \"text\": [\"Student_33\"], \"x\": [0], \"y\": [27], \"type\": \"scatter\", \"uid\": \"28b0714e-e40c-11e8-a1d0-d7b4c6107baf\"}, {\"marker\": {\"color\": \"rgb(127,0,127)\", \"colorscale\": \"Viridis\", \"line\": {\"width\": 2}, \"size\": 12, \"symbol\": 3}, \"mode\": \"markers\", \"name\": \"Student_34\", \"text\": [\"Student_34\"], \"x\": [2], \"y\": [73], \"type\": \"scatter\", \"uid\": \"28b071d0-e40c-11e8-a1d0-d7b4c6107baf\"}, {\"marker\": {\"color\": \"rgb(255,0,0)\", \"colorscale\": \"Viridis\", \"line\": {\"width\": 2}, \"size\": 12, \"symbol\": 0}, \"mode\": \"markers\", \"name\": \"Student_35\", \"text\": [\"Student_35\"], \"x\": [0], \"y\": [38], \"type\": \"scatter\", \"uid\": \"28b07248-e40c-11e8-a1d0-d7b4c6107baf\"}, {\"marker\": {\"color\": \"rgb(255,0,0)\", \"colorscale\": \"Viridis\", \"line\": {\"width\": 2}, \"size\": 12, \"symbol\": 0}, \"mode\": \"markers\", \"name\": \"Student_36\", \"text\": [\"Student_36\"], \"x\": [0], \"y\": [36], \"type\": \"scatter\", \"uid\": \"28b072ca-e40c-11e8-a1d0-d7b4c6107baf\"}, {\"marker\": {\"color\": \"rgb(0,0,255)\", \"colorscale\": \"Viridis\", \"line\": {\"width\": 2}, \"size\": 12, \"symbol\": 1}, \"mode\": \"markers\", \"name\": \"Student_37\", \"text\": [\"Student_37\"], \"x\": [4], \"y\": [81], \"type\": \"scatter\", \"uid\": \"28b07342-e40c-11e8-a1d0-d7b4c6107baf\"}, {\"marker\": {\"color\": \"rgb(0,0,255)\", \"colorscale\": \"Viridis\", \"line\": {\"width\": 2}, \"size\": 12, \"symbol\": 1}, \"mode\": \"markers\", \"name\": \"Student_38\", \"text\": [\"Student_38\"], \"x\": [4], \"y\": [84], \"type\": \"scatter\", \"uid\": \"28b073c4-e40c-11e8-a1d0-d7b4c6107baf\"}, {\"marker\": {\"color\": \"rgb(255,0,0)\", \"colorscale\": \"Viridis\", \"line\": {\"width\": 2}, \"size\": 12, \"symbol\": 0}, \"mode\": \"markers\", \"name\": \"Student_39\", \"text\": [\"Student_39\"], \"x\": [0], \"y\": [45], \"type\": \"scatter\", \"uid\": \"28b0743c-e40c-11e8-a1d0-d7b4c6107baf\"}, {\"marker\": {\"color\": \"rgb(127,0,127)\", \"colorscale\": \"Viridis\", \"line\": {\"width\": 2}, \"size\": 12, \"symbol\": 3}, \"mode\": \"markers\", \"name\": \"Student_40\", \"text\": [\"Student_40\"], \"x\": [4], \"y\": [70], \"type\": \"scatter\", \"uid\": \"28b074b4-e40c-11e8-a1d0-d7b4c6107baf\"}, {\"marker\": {\"color\": \"rgb(0,255,0)\", \"colorscale\": \"Viridis\", \"line\": {\"width\": 2}, \"size\": 12, \"symbol\": 2}, \"mode\": \"markers\", \"name\": \"Student_41\", \"text\": [\"Student_41\"], \"x\": [4], \"y\": [99], \"type\": \"scatter\", \"uid\": \"28b07536-e40c-11e8-a1d0-d7b4c6107baf\"}, {\"marker\": {\"color\": \"rgb(0,0,255)\", \"colorscale\": \"Viridis\", \"line\": {\"width\": 2}, \"size\": 12, \"symbol\": 1}, \"mode\": \"markers\", \"name\": \"Student_42\", \"text\": [\"Student_42\"], \"x\": [3], \"y\": [89], \"type\": \"scatter\", \"uid\": \"28b075ae-e40c-11e8-a1d0-d7b4c6107baf\"}, {\"marker\": {\"color\": \"rgb(127,0,127)\", \"colorscale\": \"Viridis\", \"line\": {\"width\": 2}, \"size\": 12, \"symbol\": 3}, \"mode\": \"markers\", \"name\": \"Student_43\", \"text\": [\"Student_43\"], \"x\": [2], \"y\": [69], \"type\": \"scatter\", \"uid\": \"28b07630-e40c-11e8-a1d0-d7b4c6107baf\"}, {\"marker\": {\"color\": \"rgb(0,0,255)\", \"colorscale\": \"Viridis\", \"line\": {\"width\": 2}, \"size\": 12, \"symbol\": 1}, \"mode\": \"markers\", \"name\": \"Student_44\", \"text\": [\"Student_44\"], \"x\": [3], \"y\": [72], \"type\": \"scatter\", \"uid\": \"28b076a8-e40c-11e8-a1d0-d7b4c6107baf\"}, {\"marker\": {\"color\": \"rgb(255,0,0)\", \"colorscale\": \"Viridis\", \"line\": {\"width\": 2}, \"size\": 12, \"symbol\": 0}, \"mode\": \"markers\", \"name\": \"Student_45\", \"text\": [\"Student_45\"], \"x\": [0], \"y\": [33], \"type\": \"scatter\", \"uid\": \"28b07720-e40c-11e8-a1d0-d7b4c6107baf\"}, {\"marker\": {\"color\": \"rgb(255,0,0)\", \"colorscale\": \"Viridis\", \"line\": {\"width\": 2}, \"size\": 12, \"symbol\": 0}, \"mode\": \"markers\", \"name\": \"Student_46\", \"text\": [\"Student_46\"], \"x\": [0], \"y\": [36], \"type\": \"scatter\", \"uid\": \"28b077a2-e40c-11e8-a1d0-d7b4c6107baf\"}, {\"marker\": {\"color\": \"rgb(0,255,0)\", \"colorscale\": \"Viridis\", \"line\": {\"width\": 2}, \"size\": 12, \"symbol\": 2}, \"mode\": \"markers\", \"name\": \"Student_47\", \"text\": [\"Student_47\"], \"x\": [4], \"y\": [94], \"type\": \"scatter\", \"uid\": \"28b0781a-e40c-11e8-a1d0-d7b4c6107baf\"}, {\"marker\": {\"color\": \"rgb(255,0,0)\", \"colorscale\": \"Viridis\", \"line\": {\"width\": 2}, \"size\": 12, \"symbol\": 0}, \"mode\": \"markers\", \"name\": \"Student_48\", \"text\": [\"Student_48\"], \"x\": [0], \"y\": [41], \"type\": \"scatter\", \"uid\": \"28b07892-e40c-11e8-a1d0-d7b4c6107baf\"}, {\"marker\": {\"color\": \"rgb(255,0,0)\", \"colorscale\": \"Viridis\", \"line\": {\"width\": 2}, \"size\": 12, \"symbol\": 0}, \"mode\": \"markers\", \"name\": \"Student_49\", \"text\": [\"Student_49\"], \"x\": [0], \"y\": [37], \"type\": \"scatter\", \"uid\": \"28b0790a-e40c-11e8-a1d0-d7b4c6107baf\"}, {\"marker\": {\"color\": \"rgb(255,0,0)\", \"colorscale\": \"Viridis\", \"line\": {\"width\": 2}, \"size\": 12, \"symbol\": 0}, \"mode\": \"markers\", \"name\": \"Student_50\", \"text\": [\"Student_50\"], \"x\": [0], \"y\": [26], \"type\": \"scatter\", \"uid\": \"28b07982-e40c-11e8-a1d0-d7b4c6107baf\"}, {\"marker\": {\"color\": \"rgb(127,0,127)\", \"colorscale\": \"Viridis\", \"line\": {\"width\": 2}, \"size\": 12, \"symbol\": 3}, \"mode\": \"markers\", \"name\": \"Student_51\", \"text\": [\"Student_51\"], \"x\": [3], \"y\": [53], \"type\": \"scatter\", \"uid\": \"28b07a04-e40c-11e8-a1d0-d7b4c6107baf\"}, {\"marker\": {\"color\": \"rgb(255,0,0)\", \"colorscale\": \"Viridis\", \"line\": {\"width\": 2}, \"size\": 12, \"symbol\": 0}, \"mode\": \"markers\", \"name\": \"Student_52\", \"text\": [\"Student_52\"], \"x\": [0], \"y\": [11], \"type\": \"scatter\", \"uid\": \"28b07a7c-e40c-11e8-a1d0-d7b4c6107baf\"}, {\"marker\": {\"color\": \"rgb(127,0,127)\", \"colorscale\": \"Viridis\", \"line\": {\"width\": 2}, \"size\": 12, \"symbol\": 3}, \"mode\": \"markers\", \"name\": \"Student_53\", \"text\": [\"Student_53\"], \"x\": [2], \"y\": [72], \"type\": \"scatter\", \"uid\": \"28b07afe-e40c-11e8-a1d0-d7b4c6107baf\"}, {\"marker\": {\"color\": \"rgb(255,0,0)\", \"colorscale\": \"Viridis\", \"line\": {\"width\": 2}, \"size\": 12, \"symbol\": 0}, \"mode\": \"markers\", \"name\": \"Student_54\", \"text\": [\"Student_54\"], \"x\": [0], \"y\": [21], \"type\": \"scatter\", \"uid\": \"28b07b76-e40c-11e8-a1d0-d7b4c6107baf\"}, {\"marker\": {\"color\": \"rgb(127,0,127)\", \"colorscale\": \"Viridis\", \"line\": {\"width\": 2}, \"size\": 12, \"symbol\": 3}, \"mode\": \"markers\", \"name\": \"Student_55\", \"text\": [\"Student_55\"], \"x\": [4], \"y\": [74], \"type\": \"scatter\", \"uid\": \"28b07bee-e40c-11e8-a1d0-d7b4c6107baf\"}, {\"marker\": {\"color\": \"rgb(0,0,255)\", \"colorscale\": \"Viridis\", \"line\": {\"width\": 2}, \"size\": 12, \"symbol\": 1}, \"mode\": \"markers\", \"name\": \"Student_56\", \"text\": [\"Student_56\"], \"x\": [4], \"y\": [82], \"type\": \"scatter\", \"uid\": \"28b07c70-e40c-11e8-a1d0-d7b4c6107baf\"}, {\"marker\": {\"color\": \"rgb(127,0,127)\", \"colorscale\": \"Viridis\", \"line\": {\"width\": 2}, \"size\": 12, \"symbol\": 3}, \"mode\": \"markers\", \"name\": \"Student_57\", \"text\": [\"Student_57\"], \"x\": [3], \"y\": [64], \"type\": \"scatter\", \"uid\": \"28b07ce8-e40c-11e8-a1d0-d7b4c6107baf\"}, {\"marker\": {\"color\": \"rgb(127,0,127)\", \"colorscale\": \"Viridis\", \"line\": {\"width\": 2}, \"size\": 12, \"symbol\": 3}, \"mode\": \"markers\", \"name\": \"Student_58\", \"text\": [\"Student_58\"], \"x\": [4], \"y\": [67], \"type\": \"scatter\", \"uid\": \"28b07d60-e40c-11e8-a1d0-d7b4c6107baf\"}, {\"marker\": {\"color\": \"rgb(0,0,255)\", \"colorscale\": \"Viridis\", \"line\": {\"width\": 2}, \"size\": 12, \"symbol\": 1}, \"mode\": \"markers\", \"name\": \"Student_59\", \"text\": [\"Student_59\"], \"x\": [2], \"y\": [72], \"type\": \"scatter\", \"uid\": \"28b07dce-e40c-11e8-a1d0-d7b4c6107baf\"}, {\"marker\": {\"color\": \"rgb(127,0,127)\", \"colorscale\": \"Viridis\", \"line\": {\"width\": 2}, \"size\": 12, \"symbol\": 3}, \"mode\": \"markers\", \"name\": \"Student_60\", \"text\": [\"Student_60\"], \"x\": [4], \"y\": [67], \"type\": \"scatter\", \"uid\": \"28b07e46-e40c-11e8-a1d0-d7b4c6107baf\"}], {\"hovermode\": \"closest\", \"showlegend\": true, \"title\": \"Notas dos estudantes vs atividades respondidas\", \"xaxis\": {\"autorange\": false, \"fixedrange\": false, \"range\": [0, 14], \"rangemode\": \"normal\", \"showline\": true, \"title\": \"Atividades respondidas\", \"zeroline\": false}, \"yaxis\": {\"autorange\": false, \"fixedrange\": false, \"range\": [0, 109], \"rangemode\": \"normal\", \"showline\": true, \"title\": \"Notas\"}}, {\"showLink\": true, \"linkText\": \"Export to plot.ly\"})});</script>"
      ]
     },
     "metadata": {},
     "output_type": "display_data"
    },
    {
     "data": {
      "application/vnd.plotly.v1+json": {
       "data": [
        {
         "marker": {
          "color": "rgb(255,0,0)",
          "colorscale": "Viridis",
          "line": {
           "width": 2
          },
          "size": 12,
          "symbol": 0
         },
         "mode": "markers",
         "name": "Student_1",
         "text": [
          "Student_1"
         ],
         "type": "scatter",
         "uid": "28f0fe8a-e40c-11e8-a1d0-d7b4c6107baf",
         "x": [
          11
         ],
         "y": [
          43
         ]
        },
        {
         "marker": {
          "color": "rgb(0,255,0)",
          "colorscale": "Viridis",
          "line": {
           "width": 2
          },
          "size": 12,
          "symbol": 2
         },
         "mode": "markers",
         "name": "Student_2",
         "text": [
          "Student_2"
         ],
         "type": "scatter",
         "uid": "28f1007e-e40c-11e8-a1d0-d7b4c6107baf",
         "x": [
          87
         ],
         "y": [
          92
         ]
        },
        {
         "marker": {
          "color": "rgb(0,0,255)",
          "colorscale": "Viridis",
          "line": {
           "width": 2
          },
          "size": 12,
          "symbol": 1
         },
         "mode": "markers",
         "name": "Student_3",
         "text": [
          "Student_3"
         ],
         "type": "scatter",
         "uid": "28f1015a-e40c-11e8-a1d0-d7b4c6107baf",
         "x": [
          56
         ],
         "y": [
          82
         ]
        },
        {
         "marker": {
          "color": "rgb(255,0,0)",
          "colorscale": "Viridis",
          "line": {
           "width": 2
          },
          "size": 12,
          "symbol": 0
         },
         "mode": "markers",
         "name": "Student_4",
         "text": [
          "Student_4"
         ],
         "type": "scatter",
         "uid": "28f10204-e40c-11e8-a1d0-d7b4c6107baf",
         "x": [
          5
         ],
         "y": [
          48
         ]
        },
        {
         "marker": {
          "color": "rgb(127,0,127)",
          "colorscale": "Viridis",
          "line": {
           "width": 2
          },
          "size": 12,
          "symbol": 3
         },
         "mode": "markers",
         "name": "Student_5",
         "text": [
          "Student_5"
         ],
         "type": "scatter",
         "uid": "28f10290-e40c-11e8-a1d0-d7b4c6107baf",
         "x": [
          26
         ],
         "y": [
          76
         ]
        },
        {
         "marker": {
          "color": "rgb(127,0,127)",
          "colorscale": "Viridis",
          "line": {
           "width": 2
          },
          "size": 12,
          "symbol": 3
         },
         "mode": "markers",
         "name": "Student_6",
         "text": [
          "Student_6"
         ],
         "type": "scatter",
         "uid": "28f10326-e40c-11e8-a1d0-d7b4c6107baf",
         "x": [
          40
         ],
         "y": [
          62
         ]
        },
        {
         "marker": {
          "color": "rgb(0,0,255)",
          "colorscale": "Viridis",
          "line": {
           "width": 2
          },
          "size": 12,
          "symbol": 1
         },
         "mode": "markers",
         "name": "Student_7",
         "text": [
          "Student_7"
         ],
         "type": "scatter",
         "uid": "28f103b2-e40c-11e8-a1d0-d7b4c6107baf",
         "x": [
          58
         ],
         "y": [
          72
         ]
        },
        {
         "marker": {
          "color": "rgb(0,255,0)",
          "colorscale": "Viridis",
          "line": {
           "width": 2
          },
          "size": 12,
          "symbol": 2
         },
         "mode": "markers",
         "name": "Student_8",
         "text": [
          "Student_8"
         ],
         "type": "scatter",
         "uid": "28f10448-e40c-11e8-a1d0-d7b4c6107baf",
         "x": [
          96
         ],
         "y": [
          92
         ]
        },
        {
         "marker": {
          "color": "rgb(255,0,0)",
          "colorscale": "Viridis",
          "line": {
           "width": 2
          },
          "size": 12,
          "symbol": 0
         },
         "mode": "markers",
         "name": "Student_9",
         "text": [
          "Student_9"
         ],
         "type": "scatter",
         "uid": "28f104d4-e40c-11e8-a1d0-d7b4c6107baf",
         "x": [
          7
         ],
         "y": [
          40
         ]
        },
        {
         "marker": {
          "color": "rgb(0,255,0)",
          "colorscale": "Viridis",
          "line": {
           "width": 2
          },
          "size": 12,
          "symbol": 2
         },
         "mode": "markers",
         "name": "Student_10",
         "text": [
          "Student_10"
         ],
         "type": "scatter",
         "uid": "28f10574-e40c-11e8-a1d0-d7b4c6107baf",
         "x": [
          79
         ],
         "y": [
          83
         ]
        },
        {
         "marker": {
          "color": "rgb(127,0,127)",
          "colorscale": "Viridis",
          "line": {
           "width": 2
          },
          "size": 12,
          "symbol": 3
         },
         "mode": "markers",
         "name": "Student_11",
         "text": [
          "Student_11"
         ],
         "type": "scatter",
         "uid": "28f10600-e40c-11e8-a1d0-d7b4c6107baf",
         "x": [
          34
         ],
         "y": [
          74
         ]
        },
        {
         "marker": {
          "color": "rgb(0,0,255)",
          "colorscale": "Viridis",
          "line": {
           "width": 2
          },
          "size": 12,
          "symbol": 1
         },
         "mode": "markers",
         "name": "Student_12",
         "text": [
          "Student_12"
         ],
         "type": "scatter",
         "uid": "28f10696-e40c-11e8-a1d0-d7b4c6107baf",
         "x": [
          39
         ],
         "y": [
          79
         ]
        },
        {
         "marker": {
          "color": "rgb(0,0,255)",
          "colorscale": "Viridis",
          "line": {
           "width": 2
          },
          "size": 12,
          "symbol": 1
         },
         "mode": "markers",
         "name": "Student_13",
         "text": [
          "Student_13"
         ],
         "type": "scatter",
         "uid": "28f1072c-e40c-11e8-a1d0-d7b4c6107baf",
         "x": [
          53
         ],
         "y": [
          79
         ]
        },
        {
         "marker": {
          "color": "rgb(255,0,0)",
          "colorscale": "Viridis",
          "line": {
           "width": 2
          },
          "size": 12,
          "symbol": 0
         },
         "mode": "markers",
         "name": "Student_14",
         "text": [
          "Student_14"
         ],
         "type": "scatter",
         "uid": "28f107cc-e40c-11e8-a1d0-d7b4c6107baf",
         "x": [
          10
         ],
         "y": [
          32
         ]
        },
        {
         "marker": {
          "color": "rgb(0,255,0)",
          "colorscale": "Viridis",
          "line": {
           "width": 2
          },
          "size": 12,
          "symbol": 2
         },
         "mode": "markers",
         "name": "Student_15",
         "text": [
          "Student_15"
         ],
         "type": "scatter",
         "uid": "28f10862-e40c-11e8-a1d0-d7b4c6107baf",
         "x": [
          99
         ],
         "y": [
          89
         ]
        },
        {
         "marker": {
          "color": "rgb(127,0,127)",
          "colorscale": "Viridis",
          "line": {
           "width": 2
          },
          "size": 12,
          "symbol": 3
         },
         "mode": "markers",
         "name": "Student_16",
         "text": [
          "Student_16"
         ],
         "type": "scatter",
         "uid": "28f108f8-e40c-11e8-a1d0-d7b4c6107baf",
         "x": [
          20
         ],
         "y": [
          61
         ]
        },
        {
         "marker": {
          "color": "rgb(127,0,127)",
          "colorscale": "Viridis",
          "line": {
           "width": 2
          },
          "size": 12,
          "symbol": 3
         },
         "mode": "markers",
         "name": "Student_17",
         "text": [
          "Student_17"
         ],
         "type": "scatter",
         "uid": "28f1098e-e40c-11e8-a1d0-d7b4c6107baf",
         "x": [
          36
         ],
         "y": [
          71
         ]
        },
        {
         "marker": {
          "color": "rgb(127,0,127)",
          "colorscale": "Viridis",
          "line": {
           "width": 2
          },
          "size": 12,
          "symbol": 3
         },
         "mode": "markers",
         "name": "Student_18",
         "text": [
          "Student_18"
         ],
         "type": "scatter",
         "uid": "28f10a1a-e40c-11e8-a1d0-d7b4c6107baf",
         "x": [
          26
         ],
         "y": [
          71
         ]
        },
        {
         "marker": {
          "color": "rgb(127,0,127)",
          "colorscale": "Viridis",
          "line": {
           "width": 2
          },
          "size": 12,
          "symbol": 3
         },
         "mode": "markers",
         "name": "Student_19",
         "text": [
          "Student_19"
         ],
         "type": "scatter",
         "uid": "28f10ac4-e40c-11e8-a1d0-d7b4c6107baf",
         "x": [
          28
         ],
         "y": [
          62
         ]
        },
        {
         "marker": {
          "color": "rgb(255,0,0)",
          "colorscale": "Viridis",
          "line": {
           "width": 2
          },
          "size": 12,
          "symbol": 0
         },
         "mode": "markers",
         "name": "Student_20",
         "text": [
          "Student_20"
         ],
         "type": "scatter",
         "uid": "28f10b50-e40c-11e8-a1d0-d7b4c6107baf",
         "x": [
          9
         ],
         "y": [
          39
         ]
        },
        {
         "marker": {
          "color": "rgb(127,0,127)",
          "colorscale": "Viridis",
          "line": {
           "width": 2
          },
          "size": 12,
          "symbol": 3
         },
         "mode": "markers",
         "name": "Student_21",
         "text": [
          "Student_21"
         ],
         "type": "scatter",
         "uid": "28f10bdc-e40c-11e8-a1d0-d7b4c6107baf",
         "x": [
          32
         ],
         "y": [
          69
         ]
        },
        {
         "marker": {
          "color": "rgb(0,0,255)",
          "colorscale": "Viridis",
          "line": {
           "width": 2
          },
          "size": 12,
          "symbol": 1
         },
         "mode": "markers",
         "name": "Student_22",
         "text": [
          "Student_22"
         ],
         "type": "scatter",
         "uid": "28f10c72-e40c-11e8-a1d0-d7b4c6107baf",
         "x": [
          60
         ],
         "y": [
          84
         ]
        },
        {
         "marker": {
          "color": "rgb(127,0,127)",
          "colorscale": "Viridis",
          "line": {
           "width": 2
          },
          "size": 12,
          "symbol": 3
         },
         "mode": "markers",
         "name": "Student_23",
         "text": [
          "Student_23"
         ],
         "type": "scatter",
         "uid": "28f10cfe-e40c-11e8-a1d0-d7b4c6107baf",
         "x": [
          30
         ],
         "y": [
          63
         ]
        },
        {
         "marker": {
          "color": "rgb(127,0,127)",
          "colorscale": "Viridis",
          "line": {
           "width": 2
          },
          "size": 12,
          "symbol": 3
         },
         "mode": "markers",
         "name": "Student_24",
         "text": [
          "Student_24"
         ],
         "type": "scatter",
         "uid": "28f10d94-e40c-11e8-a1d0-d7b4c6107baf",
         "x": [
          32
         ],
         "y": [
          57
         ]
        },
        {
         "marker": {
          "color": "rgb(0,0,255)",
          "colorscale": "Viridis",
          "line": {
           "width": 2
          },
          "size": 12,
          "symbol": 1
         },
         "mode": "markers",
         "name": "Student_25",
         "text": [
          "Student_25"
         ],
         "type": "scatter",
         "uid": "28f10e2a-e40c-11e8-a1d0-d7b4c6107baf",
         "x": [
          65
         ],
         "y": [
          74
         ]
        },
        {
         "marker": {
          "color": "rgb(127,0,127)",
          "colorscale": "Viridis",
          "line": {
           "width": 2
          },
          "size": 12,
          "symbol": 3
         },
         "mode": "markers",
         "name": "Student_26",
         "text": [
          "Student_26"
         ],
         "type": "scatter",
         "uid": "28f10eb6-e40c-11e8-a1d0-d7b4c6107baf",
         "x": [
          22
         ],
         "y": [
          59
         ]
        },
        {
         "marker": {
          "color": "rgb(0,255,0)",
          "colorscale": "Viridis",
          "line": {
           "width": 2
          },
          "size": 12,
          "symbol": 2
         },
         "mode": "markers",
         "name": "Student_27",
         "text": [
          "Student_27"
         ],
         "type": "scatter",
         "uid": "28f10f42-e40c-11e8-a1d0-d7b4c6107baf",
         "x": [
          95
         ],
         "y": [
          93
         ]
        },
        {
         "marker": {
          "color": "rgb(255,0,0)",
          "colorscale": "Viridis",
          "line": {
           "width": 2
          },
          "size": 12,
          "symbol": 0
         },
         "mode": "markers",
         "name": "Student_28",
         "text": [
          "Student_28"
         ],
         "type": "scatter",
         "uid": "28f10fc4-e40c-11e8-a1d0-d7b4c6107baf",
         "x": [
          5
         ],
         "y": [
          29
         ]
        },
        {
         "marker": {
          "color": "rgb(255,0,0)",
          "colorscale": "Viridis",
          "line": {
           "width": 2
          },
          "size": 12,
          "symbol": 0
         },
         "mode": "markers",
         "name": "Student_29",
         "text": [
          "Student_29"
         ],
         "type": "scatter",
         "uid": "28f11050-e40c-11e8-a1d0-d7b4c6107baf",
         "x": [
          8
         ],
         "y": [
          22
         ]
        },
        {
         "marker": {
          "color": "rgb(255,0,0)",
          "colorscale": "Viridis",
          "line": {
           "width": 2
          },
          "size": 12,
          "symbol": 0
         },
         "mode": "markers",
         "name": "Student_30",
         "text": [
          "Student_30"
         ],
         "type": "scatter",
         "uid": "28f110dc-e40c-11e8-a1d0-d7b4c6107baf",
         "x": [
          14
         ],
         "y": [
          53
         ]
        },
        {
         "marker": {
          "color": "rgb(255,0,0)",
          "colorscale": "Viridis",
          "line": {
           "width": 2
          },
          "size": 12,
          "symbol": 0
         },
         "mode": "markers",
         "name": "Student_31",
         "text": [
          "Student_31"
         ],
         "type": "scatter",
         "uid": "28f1115e-e40c-11e8-a1d0-d7b4c6107baf",
         "x": [
          8
         ],
         "y": [
          48
         ]
        },
        {
         "marker": {
          "color": "rgb(127,0,127)",
          "colorscale": "Viridis",
          "line": {
           "width": 2
          },
          "size": 12,
          "symbol": 3
         },
         "mode": "markers",
         "name": "Student_32",
         "text": [
          "Student_32"
         ],
         "type": "scatter",
         "uid": "28f111ea-e40c-11e8-a1d0-d7b4c6107baf",
         "x": [
          19
         ],
         "y": [
          75
         ]
        },
        {
         "marker": {
          "color": "rgb(255,0,0)",
          "colorscale": "Viridis",
          "line": {
           "width": 2
          },
          "size": 12,
          "symbol": 0
         },
         "mode": "markers",
         "name": "Student_33",
         "text": [
          "Student_33"
         ],
         "type": "scatter",
         "uid": "28f11276-e40c-11e8-a1d0-d7b4c6107baf",
         "x": [
          4
         ],
         "y": [
          27
         ]
        },
        {
         "marker": {
          "color": "rgb(127,0,127)",
          "colorscale": "Viridis",
          "line": {
           "width": 2
          },
          "size": 12,
          "symbol": 3
         },
         "mode": "markers",
         "name": "Student_34",
         "text": [
          "Student_34"
         ],
         "type": "scatter",
         "uid": "28f11302-e40c-11e8-a1d0-d7b4c6107baf",
         "x": [
          44
         ],
         "y": [
          73
         ]
        },
        {
         "marker": {
          "color": "rgb(255,0,0)",
          "colorscale": "Viridis",
          "line": {
           "width": 2
          },
          "size": 12,
          "symbol": 0
         },
         "mode": "markers",
         "name": "Student_35",
         "text": [
          "Student_35"
         ],
         "type": "scatter",
         "uid": "28f1138e-e40c-11e8-a1d0-d7b4c6107baf",
         "x": [
          12
         ],
         "y": [
          38
         ]
        },
        {
         "marker": {
          "color": "rgb(255,0,0)",
          "colorscale": "Viridis",
          "line": {
           "width": 2
          },
          "size": 12,
          "symbol": 0
         },
         "mode": "markers",
         "name": "Student_36",
         "text": [
          "Student_36"
         ],
         "type": "scatter",
         "uid": "28f1141a-e40c-11e8-a1d0-d7b4c6107baf",
         "x": [
          5
         ],
         "y": [
          36
         ]
        },
        {
         "marker": {
          "color": "rgb(0,0,255)",
          "colorscale": "Viridis",
          "line": {
           "width": 2
          },
          "size": 12,
          "symbol": 1
         },
         "mode": "markers",
         "name": "Student_37",
         "text": [
          "Student_37"
         ],
         "type": "scatter",
         "uid": "28f1149c-e40c-11e8-a1d0-d7b4c6107baf",
         "x": [
          45
         ],
         "y": [
          81
         ]
        },
        {
         "marker": {
          "color": "rgb(0,0,255)",
          "colorscale": "Viridis",
          "line": {
           "width": 2
          },
          "size": 12,
          "symbol": 1
         },
         "mode": "markers",
         "name": "Student_38",
         "text": [
          "Student_38"
         ],
         "type": "scatter",
         "uid": "28f1151e-e40c-11e8-a1d0-d7b4c6107baf",
         "x": [
          60
         ],
         "y": [
          84
         ]
        },
        {
         "marker": {
          "color": "rgb(255,0,0)",
          "colorscale": "Viridis",
          "line": {
           "width": 2
          },
          "size": 12,
          "symbol": 0
         },
         "mode": "markers",
         "name": "Student_39",
         "text": [
          "Student_39"
         ],
         "type": "scatter",
         "uid": "28f115a0-e40c-11e8-a1d0-d7b4c6107baf",
         "x": [
          7
         ],
         "y": [
          45
         ]
        },
        {
         "marker": {
          "color": "rgb(127,0,127)",
          "colorscale": "Viridis",
          "line": {
           "width": 2
          },
          "size": 12,
          "symbol": 3
         },
         "mode": "markers",
         "name": "Student_40",
         "text": [
          "Student_40"
         ],
         "type": "scatter",
         "uid": "28f11622-e40c-11e8-a1d0-d7b4c6107baf",
         "x": [
          46
         ],
         "y": [
          70
         ]
        },
        {
         "marker": {
          "color": "rgb(0,255,0)",
          "colorscale": "Viridis",
          "line": {
           "width": 2
          },
          "size": 12,
          "symbol": 2
         },
         "mode": "markers",
         "name": "Student_41",
         "text": [
          "Student_41"
         ],
         "type": "scatter",
         "uid": "28f116ae-e40c-11e8-a1d0-d7b4c6107baf",
         "x": [
          93
         ],
         "y": [
          99
         ]
        },
        {
         "marker": {
          "color": "rgb(0,0,255)",
          "colorscale": "Viridis",
          "line": {
           "width": 2
          },
          "size": 12,
          "symbol": 1
         },
         "mode": "markers",
         "name": "Student_42",
         "text": [
          "Student_42"
         ],
         "type": "scatter",
         "uid": "28f11730-e40c-11e8-a1d0-d7b4c6107baf",
         "x": [
          56
         ],
         "y": [
          89
         ]
        },
        {
         "marker": {
          "color": "rgb(127,0,127)",
          "colorscale": "Viridis",
          "line": {
           "width": 2
          },
          "size": 12,
          "symbol": 3
         },
         "mode": "markers",
         "name": "Student_43",
         "text": [
          "Student_43"
         ],
         "type": "scatter",
         "uid": "28f117bc-e40c-11e8-a1d0-d7b4c6107baf",
         "x": [
          37
         ],
         "y": [
          69
         ]
        },
        {
         "marker": {
          "color": "rgb(0,0,255)",
          "colorscale": "Viridis",
          "line": {
           "width": 2
          },
          "size": 12,
          "symbol": 1
         },
         "mode": "markers",
         "name": "Student_44",
         "text": [
          "Student_44"
         ],
         "type": "scatter",
         "uid": "28f1183e-e40c-11e8-a1d0-d7b4c6107baf",
         "x": [
          64
         ],
         "y": [
          72
         ]
        },
        {
         "marker": {
          "color": "rgb(255,0,0)",
          "colorscale": "Viridis",
          "line": {
           "width": 2
          },
          "size": 12,
          "symbol": 0
         },
         "mode": "markers",
         "name": "Student_45",
         "text": [
          "Student_45"
         ],
         "type": "scatter",
         "uid": "28f118c0-e40c-11e8-a1d0-d7b4c6107baf",
         "x": [
          7
         ],
         "y": [
          33
         ]
        },
        {
         "marker": {
          "color": "rgb(255,0,0)",
          "colorscale": "Viridis",
          "line": {
           "width": 2
          },
          "size": 12,
          "symbol": 0
         },
         "mode": "markers",
         "name": "Student_46",
         "text": [
          "Student_46"
         ],
         "type": "scatter",
         "uid": "28f11942-e40c-11e8-a1d0-d7b4c6107baf",
         "x": [
          6
         ],
         "y": [
          36
         ]
        },
        {
         "marker": {
          "color": "rgb(0,255,0)",
          "colorscale": "Viridis",
          "line": {
           "width": 2
          },
          "size": 12,
          "symbol": 2
         },
         "mode": "markers",
         "name": "Student_47",
         "text": [
          "Student_47"
         ],
         "type": "scatter",
         "uid": "28f119c4-e40c-11e8-a1d0-d7b4c6107baf",
         "x": [
          90
         ],
         "y": [
          94
         ]
        },
        {
         "marker": {
          "color": "rgb(255,0,0)",
          "colorscale": "Viridis",
          "line": {
           "width": 2
          },
          "size": 12,
          "symbol": 0
         },
         "mode": "markers",
         "name": "Student_48",
         "text": [
          "Student_48"
         ],
         "type": "scatter",
         "uid": "28f11a46-e40c-11e8-a1d0-d7b4c6107baf",
         "x": [
          6
         ],
         "y": [
          41
         ]
        },
        {
         "marker": {
          "color": "rgb(255,0,0)",
          "colorscale": "Viridis",
          "line": {
           "width": 2
          },
          "size": 12,
          "symbol": 0
         },
         "mode": "markers",
         "name": "Student_49",
         "text": [
          "Student_49"
         ],
         "type": "scatter",
         "uid": "28f11ac8-e40c-11e8-a1d0-d7b4c6107baf",
         "x": [
          10
         ],
         "y": [
          37
         ]
        },
        {
         "marker": {
          "color": "rgb(255,0,0)",
          "colorscale": "Viridis",
          "line": {
           "width": 2
          },
          "size": 12,
          "symbol": 0
         },
         "mode": "markers",
         "name": "Student_50",
         "text": [
          "Student_50"
         ],
         "type": "scatter",
         "uid": "28f11b4a-e40c-11e8-a1d0-d7b4c6107baf",
         "x": [
          8
         ],
         "y": [
          26
         ]
        },
        {
         "marker": {
          "color": "rgb(127,0,127)",
          "colorscale": "Viridis",
          "line": {
           "width": 2
          },
          "size": 12,
          "symbol": 3
         },
         "mode": "markers",
         "name": "Student_51",
         "text": [
          "Student_51"
         ],
         "type": "scatter",
         "uid": "28f11bcc-e40c-11e8-a1d0-d7b4c6107baf",
         "x": [
          19
         ],
         "y": [
          53
         ]
        },
        {
         "marker": {
          "color": "rgb(255,0,0)",
          "colorscale": "Viridis",
          "line": {
           "width": 2
          },
          "size": 12,
          "symbol": 0
         },
         "mode": "markers",
         "name": "Student_52",
         "text": [
          "Student_52"
         ],
         "type": "scatter",
         "uid": "28f11c4e-e40c-11e8-a1d0-d7b4c6107baf",
         "x": [
          2
         ],
         "y": [
          11
         ]
        },
        {
         "marker": {
          "color": "rgb(127,0,127)",
          "colorscale": "Viridis",
          "line": {
           "width": 2
          },
          "size": 12,
          "symbol": 3
         },
         "mode": "markers",
         "name": "Student_53",
         "text": [
          "Student_53"
         ],
         "type": "scatter",
         "uid": "28f11cd0-e40c-11e8-a1d0-d7b4c6107baf",
         "x": [
          31
         ],
         "y": [
          72
         ]
        },
        {
         "marker": {
          "color": "rgb(255,0,0)",
          "colorscale": "Viridis",
          "line": {
           "width": 2
          },
          "size": 12,
          "symbol": 0
         },
         "mode": "markers",
         "name": "Student_54",
         "text": [
          "Student_54"
         ],
         "type": "scatter",
         "uid": "28f11d48-e40c-11e8-a1d0-d7b4c6107baf",
         "x": [
          12
         ],
         "y": [
          21
         ]
        },
        {
         "marker": {
          "color": "rgb(127,0,127)",
          "colorscale": "Viridis",
          "line": {
           "width": 2
          },
          "size": 12,
          "symbol": 3
         },
         "mode": "markers",
         "name": "Student_55",
         "text": [
          "Student_55"
         ],
         "type": "scatter",
         "uid": "28f11dca-e40c-11e8-a1d0-d7b4c6107baf",
         "x": [
          37
         ],
         "y": [
          74
         ]
        },
        {
         "marker": {
          "color": "rgb(0,0,255)",
          "colorscale": "Viridis",
          "line": {
           "width": 2
          },
          "size": 12,
          "symbol": 1
         },
         "mode": "markers",
         "name": "Student_56",
         "text": [
          "Student_56"
         ],
         "type": "scatter",
         "uid": "28f11e4c-e40c-11e8-a1d0-d7b4c6107baf",
         "x": [
          41
         ],
         "y": [
          82
         ]
        },
        {
         "marker": {
          "color": "rgb(127,0,127)",
          "colorscale": "Viridis",
          "line": {
           "width": 2
          },
          "size": 12,
          "symbol": 3
         },
         "mode": "markers",
         "name": "Student_57",
         "text": [
          "Student_57"
         ],
         "type": "scatter",
         "uid": "28f11ece-e40c-11e8-a1d0-d7b4c6107baf",
         "x": [
          32
         ],
         "y": [
          64
         ]
        },
        {
         "marker": {
          "color": "rgb(127,0,127)",
          "colorscale": "Viridis",
          "line": {
           "width": 2
          },
          "size": 12,
          "symbol": 3
         },
         "mode": "markers",
         "name": "Student_58",
         "text": [
          "Student_58"
         ],
         "type": "scatter",
         "uid": "28f11f50-e40c-11e8-a1d0-d7b4c6107baf",
         "x": [
          35
         ],
         "y": [
          67
         ]
        },
        {
         "marker": {
          "color": "rgb(0,0,255)",
          "colorscale": "Viridis",
          "line": {
           "width": 2
          },
          "size": 12,
          "symbol": 1
         },
         "mode": "markers",
         "name": "Student_59",
         "text": [
          "Student_59"
         ],
         "type": "scatter",
         "uid": "28f11fd2-e40c-11e8-a1d0-d7b4c6107baf",
         "x": [
          45
         ],
         "y": [
          72
         ]
        },
        {
         "marker": {
          "color": "rgb(127,0,127)",
          "colorscale": "Viridis",
          "line": {
           "width": 2
          },
          "size": 12,
          "symbol": 3
         },
         "mode": "markers",
         "name": "Student_60",
         "text": [
          "Student_60"
         ],
         "type": "scatter",
         "uid": "28f12054-e40c-11e8-a1d0-d7b4c6107baf",
         "x": [
          22
         ],
         "y": [
          67
         ]
        }
       ],
       "layout": {
        "hovermode": "closest",
        "showlegend": true,
        "title": "Notas dos estudantes vs acesso ao fórum",
        "xaxis": {
         "autorange": false,
         "fixedrange": false,
         "range": [
          0,
          109
         ],
         "rangemode": "normal",
         "showline": true,
         "title": "Acesso ao fórum",
         "zeroline": false
        },
        "yaxis": {
         "autorange": false,
         "fixedrange": false,
         "range": [
          0,
          109
         ],
         "rangemode": "normal",
         "showline": true,
         "title": "Notas"
        }
       }
      },
      "text/html": [
       "<div id=\"74f8b8ad-cdb6-48ee-95d0-ea5050b2f086\" style=\"height: 525px; width: 100%;\" class=\"plotly-graph-div\"></div><script type=\"text/javascript\">require([\"plotly\"], function(Plotly) { window.PLOTLYENV=window.PLOTLYENV || {};window.PLOTLYENV.BASE_URL=\"https://plot.ly\";Plotly.newPlot(\"74f8b8ad-cdb6-48ee-95d0-ea5050b2f086\", [{\"marker\": {\"color\": \"rgb(255,0,0)\", \"colorscale\": \"Viridis\", \"line\": {\"width\": 2}, \"size\": 12, \"symbol\": 0}, \"mode\": \"markers\", \"name\": \"Student_1\", \"text\": [\"Student_1\"], \"x\": [11], \"y\": [43], \"type\": \"scatter\", \"uid\": \"28f0fe8a-e40c-11e8-a1d0-d7b4c6107baf\"}, {\"marker\": {\"color\": \"rgb(0,255,0)\", \"colorscale\": \"Viridis\", \"line\": {\"width\": 2}, \"size\": 12, \"symbol\": 2}, \"mode\": \"markers\", \"name\": \"Student_2\", \"text\": [\"Student_2\"], \"x\": [87], \"y\": [92], \"type\": \"scatter\", \"uid\": \"28f1007e-e40c-11e8-a1d0-d7b4c6107baf\"}, {\"marker\": {\"color\": \"rgb(0,0,255)\", \"colorscale\": \"Viridis\", \"line\": {\"width\": 2}, \"size\": 12, \"symbol\": 1}, \"mode\": \"markers\", \"name\": \"Student_3\", \"text\": [\"Student_3\"], \"x\": [56], \"y\": [82], \"type\": \"scatter\", \"uid\": \"28f1015a-e40c-11e8-a1d0-d7b4c6107baf\"}, {\"marker\": {\"color\": \"rgb(255,0,0)\", \"colorscale\": \"Viridis\", \"line\": {\"width\": 2}, \"size\": 12, \"symbol\": 0}, \"mode\": \"markers\", \"name\": \"Student_4\", \"text\": [\"Student_4\"], \"x\": [5], \"y\": [48], \"type\": \"scatter\", \"uid\": \"28f10204-e40c-11e8-a1d0-d7b4c6107baf\"}, {\"marker\": {\"color\": \"rgb(127,0,127)\", \"colorscale\": \"Viridis\", \"line\": {\"width\": 2}, \"size\": 12, \"symbol\": 3}, \"mode\": \"markers\", \"name\": \"Student_5\", \"text\": [\"Student_5\"], \"x\": [26], \"y\": [76], \"type\": \"scatter\", \"uid\": \"28f10290-e40c-11e8-a1d0-d7b4c6107baf\"}, {\"marker\": {\"color\": \"rgb(127,0,127)\", \"colorscale\": \"Viridis\", \"line\": {\"width\": 2}, \"size\": 12, \"symbol\": 3}, \"mode\": \"markers\", \"name\": \"Student_6\", \"text\": [\"Student_6\"], \"x\": [40], \"y\": [62], \"type\": \"scatter\", \"uid\": \"28f10326-e40c-11e8-a1d0-d7b4c6107baf\"}, {\"marker\": {\"color\": \"rgb(0,0,255)\", \"colorscale\": \"Viridis\", \"line\": {\"width\": 2}, \"size\": 12, \"symbol\": 1}, \"mode\": \"markers\", \"name\": \"Student_7\", \"text\": [\"Student_7\"], \"x\": [58], \"y\": [72], \"type\": \"scatter\", \"uid\": \"28f103b2-e40c-11e8-a1d0-d7b4c6107baf\"}, {\"marker\": {\"color\": \"rgb(0,255,0)\", \"colorscale\": \"Viridis\", \"line\": {\"width\": 2}, \"size\": 12, \"symbol\": 2}, \"mode\": \"markers\", \"name\": \"Student_8\", \"text\": [\"Student_8\"], \"x\": [96], \"y\": [92], \"type\": \"scatter\", \"uid\": \"28f10448-e40c-11e8-a1d0-d7b4c6107baf\"}, {\"marker\": {\"color\": \"rgb(255,0,0)\", \"colorscale\": \"Viridis\", \"line\": {\"width\": 2}, \"size\": 12, \"symbol\": 0}, \"mode\": \"markers\", \"name\": \"Student_9\", \"text\": [\"Student_9\"], \"x\": [7], \"y\": [40], \"type\": \"scatter\", \"uid\": \"28f104d4-e40c-11e8-a1d0-d7b4c6107baf\"}, {\"marker\": {\"color\": \"rgb(0,255,0)\", \"colorscale\": \"Viridis\", \"line\": {\"width\": 2}, \"size\": 12, \"symbol\": 2}, \"mode\": \"markers\", \"name\": \"Student_10\", \"text\": [\"Student_10\"], \"x\": [79], \"y\": [83], \"type\": \"scatter\", \"uid\": \"28f10574-e40c-11e8-a1d0-d7b4c6107baf\"}, {\"marker\": {\"color\": \"rgb(127,0,127)\", \"colorscale\": \"Viridis\", \"line\": {\"width\": 2}, \"size\": 12, \"symbol\": 3}, \"mode\": \"markers\", \"name\": \"Student_11\", \"text\": [\"Student_11\"], \"x\": [34], \"y\": [74], \"type\": \"scatter\", \"uid\": \"28f10600-e40c-11e8-a1d0-d7b4c6107baf\"}, {\"marker\": {\"color\": \"rgb(0,0,255)\", \"colorscale\": \"Viridis\", \"line\": {\"width\": 2}, \"size\": 12, \"symbol\": 1}, \"mode\": \"markers\", \"name\": \"Student_12\", \"text\": [\"Student_12\"], \"x\": [39], \"y\": [79], \"type\": \"scatter\", \"uid\": \"28f10696-e40c-11e8-a1d0-d7b4c6107baf\"}, {\"marker\": {\"color\": \"rgb(0,0,255)\", \"colorscale\": \"Viridis\", \"line\": {\"width\": 2}, \"size\": 12, \"symbol\": 1}, \"mode\": \"markers\", \"name\": \"Student_13\", \"text\": [\"Student_13\"], \"x\": [53], \"y\": [79], \"type\": \"scatter\", \"uid\": \"28f1072c-e40c-11e8-a1d0-d7b4c6107baf\"}, {\"marker\": {\"color\": \"rgb(255,0,0)\", \"colorscale\": \"Viridis\", \"line\": {\"width\": 2}, \"size\": 12, \"symbol\": 0}, \"mode\": \"markers\", \"name\": \"Student_14\", \"text\": [\"Student_14\"], \"x\": [10], \"y\": [32], \"type\": \"scatter\", \"uid\": \"28f107cc-e40c-11e8-a1d0-d7b4c6107baf\"}, {\"marker\": {\"color\": \"rgb(0,255,0)\", \"colorscale\": \"Viridis\", \"line\": {\"width\": 2}, \"size\": 12, \"symbol\": 2}, \"mode\": \"markers\", \"name\": \"Student_15\", \"text\": [\"Student_15\"], \"x\": [99], \"y\": [89], \"type\": \"scatter\", \"uid\": \"28f10862-e40c-11e8-a1d0-d7b4c6107baf\"}, {\"marker\": {\"color\": \"rgb(127,0,127)\", \"colorscale\": \"Viridis\", \"line\": {\"width\": 2}, \"size\": 12, \"symbol\": 3}, \"mode\": \"markers\", \"name\": \"Student_16\", \"text\": [\"Student_16\"], \"x\": [20], \"y\": [61], \"type\": \"scatter\", \"uid\": \"28f108f8-e40c-11e8-a1d0-d7b4c6107baf\"}, {\"marker\": {\"color\": \"rgb(127,0,127)\", \"colorscale\": \"Viridis\", \"line\": {\"width\": 2}, \"size\": 12, \"symbol\": 3}, \"mode\": \"markers\", \"name\": \"Student_17\", \"text\": [\"Student_17\"], \"x\": [36], \"y\": [71], \"type\": \"scatter\", \"uid\": \"28f1098e-e40c-11e8-a1d0-d7b4c6107baf\"}, {\"marker\": {\"color\": \"rgb(127,0,127)\", \"colorscale\": \"Viridis\", \"line\": {\"width\": 2}, \"size\": 12, \"symbol\": 3}, \"mode\": \"markers\", \"name\": \"Student_18\", \"text\": [\"Student_18\"], \"x\": [26], \"y\": [71], \"type\": \"scatter\", \"uid\": \"28f10a1a-e40c-11e8-a1d0-d7b4c6107baf\"}, {\"marker\": {\"color\": \"rgb(127,0,127)\", \"colorscale\": \"Viridis\", \"line\": {\"width\": 2}, \"size\": 12, \"symbol\": 3}, \"mode\": \"markers\", \"name\": \"Student_19\", \"text\": [\"Student_19\"], \"x\": [28], \"y\": [62], \"type\": \"scatter\", \"uid\": \"28f10ac4-e40c-11e8-a1d0-d7b4c6107baf\"}, {\"marker\": {\"color\": \"rgb(255,0,0)\", \"colorscale\": \"Viridis\", \"line\": {\"width\": 2}, \"size\": 12, \"symbol\": 0}, \"mode\": \"markers\", \"name\": \"Student_20\", \"text\": [\"Student_20\"], \"x\": [9], \"y\": [39], \"type\": \"scatter\", \"uid\": \"28f10b50-e40c-11e8-a1d0-d7b4c6107baf\"}, {\"marker\": {\"color\": \"rgb(127,0,127)\", \"colorscale\": \"Viridis\", \"line\": {\"width\": 2}, \"size\": 12, \"symbol\": 3}, \"mode\": \"markers\", \"name\": \"Student_21\", \"text\": [\"Student_21\"], \"x\": [32], \"y\": [69], \"type\": \"scatter\", \"uid\": \"28f10bdc-e40c-11e8-a1d0-d7b4c6107baf\"}, {\"marker\": {\"color\": \"rgb(0,0,255)\", \"colorscale\": \"Viridis\", \"line\": {\"width\": 2}, \"size\": 12, \"symbol\": 1}, \"mode\": \"markers\", \"name\": \"Student_22\", \"text\": [\"Student_22\"], \"x\": [60], \"y\": [84], \"type\": \"scatter\", \"uid\": \"28f10c72-e40c-11e8-a1d0-d7b4c6107baf\"}, {\"marker\": {\"color\": \"rgb(127,0,127)\", \"colorscale\": \"Viridis\", \"line\": {\"width\": 2}, \"size\": 12, \"symbol\": 3}, \"mode\": \"markers\", \"name\": \"Student_23\", \"text\": [\"Student_23\"], \"x\": [30], \"y\": [63], \"type\": \"scatter\", \"uid\": \"28f10cfe-e40c-11e8-a1d0-d7b4c6107baf\"}, {\"marker\": {\"color\": \"rgb(127,0,127)\", \"colorscale\": \"Viridis\", \"line\": {\"width\": 2}, \"size\": 12, \"symbol\": 3}, \"mode\": \"markers\", \"name\": \"Student_24\", \"text\": [\"Student_24\"], \"x\": [32], \"y\": [57], \"type\": \"scatter\", \"uid\": \"28f10d94-e40c-11e8-a1d0-d7b4c6107baf\"}, {\"marker\": {\"color\": \"rgb(0,0,255)\", \"colorscale\": \"Viridis\", \"line\": {\"width\": 2}, \"size\": 12, \"symbol\": 1}, \"mode\": \"markers\", \"name\": \"Student_25\", \"text\": [\"Student_25\"], \"x\": [65], \"y\": [74], \"type\": \"scatter\", \"uid\": \"28f10e2a-e40c-11e8-a1d0-d7b4c6107baf\"}, {\"marker\": {\"color\": \"rgb(127,0,127)\", \"colorscale\": \"Viridis\", \"line\": {\"width\": 2}, \"size\": 12, \"symbol\": 3}, \"mode\": \"markers\", \"name\": \"Student_26\", \"text\": [\"Student_26\"], \"x\": [22], \"y\": [59], \"type\": \"scatter\", \"uid\": \"28f10eb6-e40c-11e8-a1d0-d7b4c6107baf\"}, {\"marker\": {\"color\": \"rgb(0,255,0)\", \"colorscale\": \"Viridis\", \"line\": {\"width\": 2}, \"size\": 12, \"symbol\": 2}, \"mode\": \"markers\", \"name\": \"Student_27\", \"text\": [\"Student_27\"], \"x\": [95], \"y\": [93], \"type\": \"scatter\", \"uid\": \"28f10f42-e40c-11e8-a1d0-d7b4c6107baf\"}, {\"marker\": {\"color\": \"rgb(255,0,0)\", \"colorscale\": \"Viridis\", \"line\": {\"width\": 2}, \"size\": 12, \"symbol\": 0}, \"mode\": \"markers\", \"name\": \"Student_28\", \"text\": [\"Student_28\"], \"x\": [5], \"y\": [29], \"type\": \"scatter\", \"uid\": \"28f10fc4-e40c-11e8-a1d0-d7b4c6107baf\"}, {\"marker\": {\"color\": \"rgb(255,0,0)\", \"colorscale\": \"Viridis\", \"line\": {\"width\": 2}, \"size\": 12, \"symbol\": 0}, \"mode\": \"markers\", \"name\": \"Student_29\", \"text\": [\"Student_29\"], \"x\": [8], \"y\": [22], \"type\": \"scatter\", \"uid\": \"28f11050-e40c-11e8-a1d0-d7b4c6107baf\"}, {\"marker\": {\"color\": \"rgb(255,0,0)\", \"colorscale\": \"Viridis\", \"line\": {\"width\": 2}, \"size\": 12, \"symbol\": 0}, \"mode\": \"markers\", \"name\": \"Student_30\", \"text\": [\"Student_30\"], \"x\": [14], \"y\": [53], \"type\": \"scatter\", \"uid\": \"28f110dc-e40c-11e8-a1d0-d7b4c6107baf\"}, {\"marker\": {\"color\": \"rgb(255,0,0)\", \"colorscale\": \"Viridis\", \"line\": {\"width\": 2}, \"size\": 12, \"symbol\": 0}, \"mode\": \"markers\", \"name\": \"Student_31\", \"text\": [\"Student_31\"], \"x\": [8], \"y\": [48], \"type\": \"scatter\", \"uid\": \"28f1115e-e40c-11e8-a1d0-d7b4c6107baf\"}, {\"marker\": {\"color\": \"rgb(127,0,127)\", \"colorscale\": \"Viridis\", \"line\": {\"width\": 2}, \"size\": 12, \"symbol\": 3}, \"mode\": \"markers\", \"name\": \"Student_32\", \"text\": [\"Student_32\"], \"x\": [19], \"y\": [75], \"type\": \"scatter\", \"uid\": \"28f111ea-e40c-11e8-a1d0-d7b4c6107baf\"}, {\"marker\": {\"color\": \"rgb(255,0,0)\", \"colorscale\": \"Viridis\", \"line\": {\"width\": 2}, \"size\": 12, \"symbol\": 0}, \"mode\": \"markers\", \"name\": \"Student_33\", \"text\": [\"Student_33\"], \"x\": [4], \"y\": [27], \"type\": \"scatter\", \"uid\": \"28f11276-e40c-11e8-a1d0-d7b4c6107baf\"}, {\"marker\": {\"color\": \"rgb(127,0,127)\", \"colorscale\": \"Viridis\", \"line\": {\"width\": 2}, \"size\": 12, \"symbol\": 3}, \"mode\": \"markers\", \"name\": \"Student_34\", \"text\": [\"Student_34\"], \"x\": [44], \"y\": [73], \"type\": \"scatter\", \"uid\": \"28f11302-e40c-11e8-a1d0-d7b4c6107baf\"}, {\"marker\": {\"color\": \"rgb(255,0,0)\", \"colorscale\": \"Viridis\", \"line\": {\"width\": 2}, \"size\": 12, \"symbol\": 0}, \"mode\": \"markers\", \"name\": \"Student_35\", \"text\": [\"Student_35\"], \"x\": [12], \"y\": [38], \"type\": \"scatter\", \"uid\": \"28f1138e-e40c-11e8-a1d0-d7b4c6107baf\"}, {\"marker\": {\"color\": \"rgb(255,0,0)\", \"colorscale\": \"Viridis\", \"line\": {\"width\": 2}, \"size\": 12, \"symbol\": 0}, \"mode\": \"markers\", \"name\": \"Student_36\", \"text\": [\"Student_36\"], \"x\": [5], \"y\": [36], \"type\": \"scatter\", \"uid\": \"28f1141a-e40c-11e8-a1d0-d7b4c6107baf\"}, {\"marker\": {\"color\": \"rgb(0,0,255)\", \"colorscale\": \"Viridis\", \"line\": {\"width\": 2}, \"size\": 12, \"symbol\": 1}, \"mode\": \"markers\", \"name\": \"Student_37\", \"text\": [\"Student_37\"], \"x\": [45], \"y\": [81], \"type\": \"scatter\", \"uid\": \"28f1149c-e40c-11e8-a1d0-d7b4c6107baf\"}, {\"marker\": {\"color\": \"rgb(0,0,255)\", \"colorscale\": \"Viridis\", \"line\": {\"width\": 2}, \"size\": 12, \"symbol\": 1}, \"mode\": \"markers\", \"name\": \"Student_38\", \"text\": [\"Student_38\"], \"x\": [60], \"y\": [84], \"type\": \"scatter\", \"uid\": \"28f1151e-e40c-11e8-a1d0-d7b4c6107baf\"}, {\"marker\": {\"color\": \"rgb(255,0,0)\", \"colorscale\": \"Viridis\", \"line\": {\"width\": 2}, \"size\": 12, \"symbol\": 0}, \"mode\": \"markers\", \"name\": \"Student_39\", \"text\": [\"Student_39\"], \"x\": [7], \"y\": [45], \"type\": \"scatter\", \"uid\": \"28f115a0-e40c-11e8-a1d0-d7b4c6107baf\"}, {\"marker\": {\"color\": \"rgb(127,0,127)\", \"colorscale\": \"Viridis\", \"line\": {\"width\": 2}, \"size\": 12, \"symbol\": 3}, \"mode\": \"markers\", \"name\": \"Student_40\", \"text\": [\"Student_40\"], \"x\": [46], \"y\": [70], \"type\": \"scatter\", \"uid\": \"28f11622-e40c-11e8-a1d0-d7b4c6107baf\"}, {\"marker\": {\"color\": \"rgb(0,255,0)\", \"colorscale\": \"Viridis\", \"line\": {\"width\": 2}, \"size\": 12, \"symbol\": 2}, \"mode\": \"markers\", \"name\": \"Student_41\", \"text\": [\"Student_41\"], \"x\": [93], \"y\": [99], \"type\": \"scatter\", \"uid\": \"28f116ae-e40c-11e8-a1d0-d7b4c6107baf\"}, {\"marker\": {\"color\": \"rgb(0,0,255)\", \"colorscale\": \"Viridis\", \"line\": {\"width\": 2}, \"size\": 12, \"symbol\": 1}, \"mode\": \"markers\", \"name\": \"Student_42\", \"text\": [\"Student_42\"], \"x\": [56], \"y\": [89], \"type\": \"scatter\", \"uid\": \"28f11730-e40c-11e8-a1d0-d7b4c6107baf\"}, {\"marker\": {\"color\": \"rgb(127,0,127)\", \"colorscale\": \"Viridis\", \"line\": {\"width\": 2}, \"size\": 12, \"symbol\": 3}, \"mode\": \"markers\", \"name\": \"Student_43\", \"text\": [\"Student_43\"], \"x\": [37], \"y\": [69], \"type\": \"scatter\", \"uid\": \"28f117bc-e40c-11e8-a1d0-d7b4c6107baf\"}, {\"marker\": {\"color\": \"rgb(0,0,255)\", \"colorscale\": \"Viridis\", \"line\": {\"width\": 2}, \"size\": 12, \"symbol\": 1}, \"mode\": \"markers\", \"name\": \"Student_44\", \"text\": [\"Student_44\"], \"x\": [64], \"y\": [72], \"type\": \"scatter\", \"uid\": \"28f1183e-e40c-11e8-a1d0-d7b4c6107baf\"}, {\"marker\": {\"color\": \"rgb(255,0,0)\", \"colorscale\": \"Viridis\", \"line\": {\"width\": 2}, \"size\": 12, \"symbol\": 0}, \"mode\": \"markers\", \"name\": \"Student_45\", \"text\": [\"Student_45\"], \"x\": [7], \"y\": [33], \"type\": \"scatter\", \"uid\": \"28f118c0-e40c-11e8-a1d0-d7b4c6107baf\"}, {\"marker\": {\"color\": \"rgb(255,0,0)\", \"colorscale\": \"Viridis\", \"line\": {\"width\": 2}, \"size\": 12, \"symbol\": 0}, \"mode\": \"markers\", \"name\": \"Student_46\", \"text\": [\"Student_46\"], \"x\": [6], \"y\": [36], \"type\": \"scatter\", \"uid\": \"28f11942-e40c-11e8-a1d0-d7b4c6107baf\"}, {\"marker\": {\"color\": \"rgb(0,255,0)\", \"colorscale\": \"Viridis\", \"line\": {\"width\": 2}, \"size\": 12, \"symbol\": 2}, \"mode\": \"markers\", \"name\": \"Student_47\", \"text\": [\"Student_47\"], \"x\": [90], \"y\": [94], \"type\": \"scatter\", \"uid\": \"28f119c4-e40c-11e8-a1d0-d7b4c6107baf\"}, {\"marker\": {\"color\": \"rgb(255,0,0)\", \"colorscale\": \"Viridis\", \"line\": {\"width\": 2}, \"size\": 12, \"symbol\": 0}, \"mode\": \"markers\", \"name\": \"Student_48\", \"text\": [\"Student_48\"], \"x\": [6], \"y\": [41], \"type\": \"scatter\", \"uid\": \"28f11a46-e40c-11e8-a1d0-d7b4c6107baf\"}, {\"marker\": {\"color\": \"rgb(255,0,0)\", \"colorscale\": \"Viridis\", \"line\": {\"width\": 2}, \"size\": 12, \"symbol\": 0}, \"mode\": \"markers\", \"name\": \"Student_49\", \"text\": [\"Student_49\"], \"x\": [10], \"y\": [37], \"type\": \"scatter\", \"uid\": \"28f11ac8-e40c-11e8-a1d0-d7b4c6107baf\"}, {\"marker\": {\"color\": \"rgb(255,0,0)\", \"colorscale\": \"Viridis\", \"line\": {\"width\": 2}, \"size\": 12, \"symbol\": 0}, \"mode\": \"markers\", \"name\": \"Student_50\", \"text\": [\"Student_50\"], \"x\": [8], \"y\": [26], \"type\": \"scatter\", \"uid\": \"28f11b4a-e40c-11e8-a1d0-d7b4c6107baf\"}, {\"marker\": {\"color\": \"rgb(127,0,127)\", \"colorscale\": \"Viridis\", \"line\": {\"width\": 2}, \"size\": 12, \"symbol\": 3}, \"mode\": \"markers\", \"name\": \"Student_51\", \"text\": [\"Student_51\"], \"x\": [19], \"y\": [53], \"type\": \"scatter\", \"uid\": \"28f11bcc-e40c-11e8-a1d0-d7b4c6107baf\"}, {\"marker\": {\"color\": \"rgb(255,0,0)\", \"colorscale\": \"Viridis\", \"line\": {\"width\": 2}, \"size\": 12, \"symbol\": 0}, \"mode\": \"markers\", \"name\": \"Student_52\", \"text\": [\"Student_52\"], \"x\": [2], \"y\": [11], \"type\": \"scatter\", \"uid\": \"28f11c4e-e40c-11e8-a1d0-d7b4c6107baf\"}, {\"marker\": {\"color\": \"rgb(127,0,127)\", \"colorscale\": \"Viridis\", \"line\": {\"width\": 2}, \"size\": 12, \"symbol\": 3}, \"mode\": \"markers\", \"name\": \"Student_53\", \"text\": [\"Student_53\"], \"x\": [31], \"y\": [72], \"type\": \"scatter\", \"uid\": \"28f11cd0-e40c-11e8-a1d0-d7b4c6107baf\"}, {\"marker\": {\"color\": \"rgb(255,0,0)\", \"colorscale\": \"Viridis\", \"line\": {\"width\": 2}, \"size\": 12, \"symbol\": 0}, \"mode\": \"markers\", \"name\": \"Student_54\", \"text\": [\"Student_54\"], \"x\": [12], \"y\": [21], \"type\": \"scatter\", \"uid\": \"28f11d48-e40c-11e8-a1d0-d7b4c6107baf\"}, {\"marker\": {\"color\": \"rgb(127,0,127)\", \"colorscale\": \"Viridis\", \"line\": {\"width\": 2}, \"size\": 12, \"symbol\": 3}, \"mode\": \"markers\", \"name\": \"Student_55\", \"text\": [\"Student_55\"], \"x\": [37], \"y\": [74], \"type\": \"scatter\", \"uid\": \"28f11dca-e40c-11e8-a1d0-d7b4c6107baf\"}, {\"marker\": {\"color\": \"rgb(0,0,255)\", \"colorscale\": \"Viridis\", \"line\": {\"width\": 2}, \"size\": 12, \"symbol\": 1}, \"mode\": \"markers\", \"name\": \"Student_56\", \"text\": [\"Student_56\"], \"x\": [41], \"y\": [82], \"type\": \"scatter\", \"uid\": \"28f11e4c-e40c-11e8-a1d0-d7b4c6107baf\"}, {\"marker\": {\"color\": \"rgb(127,0,127)\", \"colorscale\": \"Viridis\", \"line\": {\"width\": 2}, \"size\": 12, \"symbol\": 3}, \"mode\": \"markers\", \"name\": \"Student_57\", \"text\": [\"Student_57\"], \"x\": [32], \"y\": [64], \"type\": \"scatter\", \"uid\": \"28f11ece-e40c-11e8-a1d0-d7b4c6107baf\"}, {\"marker\": {\"color\": \"rgb(127,0,127)\", \"colorscale\": \"Viridis\", \"line\": {\"width\": 2}, \"size\": 12, \"symbol\": 3}, \"mode\": \"markers\", \"name\": \"Student_58\", \"text\": [\"Student_58\"], \"x\": [35], \"y\": [67], \"type\": \"scatter\", \"uid\": \"28f11f50-e40c-11e8-a1d0-d7b4c6107baf\"}, {\"marker\": {\"color\": \"rgb(0,0,255)\", \"colorscale\": \"Viridis\", \"line\": {\"width\": 2}, \"size\": 12, \"symbol\": 1}, \"mode\": \"markers\", \"name\": \"Student_59\", \"text\": [\"Student_59\"], \"x\": [45], \"y\": [72], \"type\": \"scatter\", \"uid\": \"28f11fd2-e40c-11e8-a1d0-d7b4c6107baf\"}, {\"marker\": {\"color\": \"rgb(127,0,127)\", \"colorscale\": \"Viridis\", \"line\": {\"width\": 2}, \"size\": 12, \"symbol\": 3}, \"mode\": \"markers\", \"name\": \"Student_60\", \"text\": [\"Student_60\"], \"x\": [22], \"y\": [67], \"type\": \"scatter\", \"uid\": \"28f12054-e40c-11e8-a1d0-d7b4c6107baf\"}], {\"hovermode\": \"closest\", \"showlegend\": true, \"title\": \"Notas dos estudantes vs acesso ao f\\u00f3rum\", \"xaxis\": {\"autorange\": false, \"fixedrange\": false, \"range\": [0, 109], \"rangemode\": \"normal\", \"showline\": true, \"title\": \"Acesso ao f\\u00f3rum\", \"zeroline\": false}, \"yaxis\": {\"autorange\": false, \"fixedrange\": false, \"range\": [0, 109], \"rangemode\": \"normal\", \"showline\": true, \"title\": \"Notas\"}}, {\"showLink\": true, \"linkText\": \"Export to plot.ly\"})});</script>"
      ],
      "text/vnd.plotly.v1+html": [
       "<div id=\"74f8b8ad-cdb6-48ee-95d0-ea5050b2f086\" style=\"height: 525px; width: 100%;\" class=\"plotly-graph-div\"></div><script type=\"text/javascript\">require([\"plotly\"], function(Plotly) { window.PLOTLYENV=window.PLOTLYENV || {};window.PLOTLYENV.BASE_URL=\"https://plot.ly\";Plotly.newPlot(\"74f8b8ad-cdb6-48ee-95d0-ea5050b2f086\", [{\"marker\": {\"color\": \"rgb(255,0,0)\", \"colorscale\": \"Viridis\", \"line\": {\"width\": 2}, \"size\": 12, \"symbol\": 0}, \"mode\": \"markers\", \"name\": \"Student_1\", \"text\": [\"Student_1\"], \"x\": [11], \"y\": [43], \"type\": \"scatter\", \"uid\": \"28f0fe8a-e40c-11e8-a1d0-d7b4c6107baf\"}, {\"marker\": {\"color\": \"rgb(0,255,0)\", \"colorscale\": \"Viridis\", \"line\": {\"width\": 2}, \"size\": 12, \"symbol\": 2}, \"mode\": \"markers\", \"name\": \"Student_2\", \"text\": [\"Student_2\"], \"x\": [87], \"y\": [92], \"type\": \"scatter\", \"uid\": \"28f1007e-e40c-11e8-a1d0-d7b4c6107baf\"}, {\"marker\": {\"color\": \"rgb(0,0,255)\", \"colorscale\": \"Viridis\", \"line\": {\"width\": 2}, \"size\": 12, \"symbol\": 1}, \"mode\": \"markers\", \"name\": \"Student_3\", \"text\": [\"Student_3\"], \"x\": [56], \"y\": [82], \"type\": \"scatter\", \"uid\": \"28f1015a-e40c-11e8-a1d0-d7b4c6107baf\"}, {\"marker\": {\"color\": \"rgb(255,0,0)\", \"colorscale\": \"Viridis\", \"line\": {\"width\": 2}, \"size\": 12, \"symbol\": 0}, \"mode\": \"markers\", \"name\": \"Student_4\", \"text\": [\"Student_4\"], \"x\": [5], \"y\": [48], \"type\": \"scatter\", \"uid\": \"28f10204-e40c-11e8-a1d0-d7b4c6107baf\"}, {\"marker\": {\"color\": \"rgb(127,0,127)\", \"colorscale\": \"Viridis\", \"line\": {\"width\": 2}, \"size\": 12, \"symbol\": 3}, \"mode\": \"markers\", \"name\": \"Student_5\", \"text\": [\"Student_5\"], \"x\": [26], \"y\": [76], \"type\": \"scatter\", \"uid\": \"28f10290-e40c-11e8-a1d0-d7b4c6107baf\"}, {\"marker\": {\"color\": \"rgb(127,0,127)\", \"colorscale\": \"Viridis\", \"line\": {\"width\": 2}, \"size\": 12, \"symbol\": 3}, \"mode\": \"markers\", \"name\": \"Student_6\", \"text\": [\"Student_6\"], \"x\": [40], \"y\": [62], \"type\": \"scatter\", \"uid\": \"28f10326-e40c-11e8-a1d0-d7b4c6107baf\"}, {\"marker\": {\"color\": \"rgb(0,0,255)\", \"colorscale\": \"Viridis\", \"line\": {\"width\": 2}, \"size\": 12, \"symbol\": 1}, \"mode\": \"markers\", \"name\": \"Student_7\", \"text\": [\"Student_7\"], \"x\": [58], \"y\": [72], \"type\": \"scatter\", \"uid\": \"28f103b2-e40c-11e8-a1d0-d7b4c6107baf\"}, {\"marker\": {\"color\": \"rgb(0,255,0)\", \"colorscale\": \"Viridis\", \"line\": {\"width\": 2}, \"size\": 12, \"symbol\": 2}, \"mode\": \"markers\", \"name\": \"Student_8\", \"text\": [\"Student_8\"], \"x\": [96], \"y\": [92], \"type\": \"scatter\", \"uid\": \"28f10448-e40c-11e8-a1d0-d7b4c6107baf\"}, {\"marker\": {\"color\": \"rgb(255,0,0)\", \"colorscale\": \"Viridis\", \"line\": {\"width\": 2}, \"size\": 12, \"symbol\": 0}, \"mode\": \"markers\", \"name\": \"Student_9\", \"text\": [\"Student_9\"], \"x\": [7], \"y\": [40], \"type\": \"scatter\", \"uid\": \"28f104d4-e40c-11e8-a1d0-d7b4c6107baf\"}, {\"marker\": {\"color\": \"rgb(0,255,0)\", \"colorscale\": \"Viridis\", \"line\": {\"width\": 2}, \"size\": 12, \"symbol\": 2}, \"mode\": \"markers\", \"name\": \"Student_10\", \"text\": [\"Student_10\"], \"x\": [79], \"y\": [83], \"type\": \"scatter\", \"uid\": \"28f10574-e40c-11e8-a1d0-d7b4c6107baf\"}, {\"marker\": {\"color\": \"rgb(127,0,127)\", \"colorscale\": \"Viridis\", \"line\": {\"width\": 2}, \"size\": 12, \"symbol\": 3}, \"mode\": \"markers\", \"name\": \"Student_11\", \"text\": [\"Student_11\"], \"x\": [34], \"y\": [74], \"type\": \"scatter\", \"uid\": \"28f10600-e40c-11e8-a1d0-d7b4c6107baf\"}, {\"marker\": {\"color\": \"rgb(0,0,255)\", \"colorscale\": \"Viridis\", \"line\": {\"width\": 2}, \"size\": 12, \"symbol\": 1}, \"mode\": \"markers\", \"name\": \"Student_12\", \"text\": [\"Student_12\"], \"x\": [39], \"y\": [79], \"type\": \"scatter\", \"uid\": \"28f10696-e40c-11e8-a1d0-d7b4c6107baf\"}, {\"marker\": {\"color\": \"rgb(0,0,255)\", \"colorscale\": \"Viridis\", \"line\": {\"width\": 2}, \"size\": 12, \"symbol\": 1}, \"mode\": \"markers\", \"name\": \"Student_13\", \"text\": [\"Student_13\"], \"x\": [53], \"y\": [79], \"type\": \"scatter\", \"uid\": \"28f1072c-e40c-11e8-a1d0-d7b4c6107baf\"}, {\"marker\": {\"color\": \"rgb(255,0,0)\", \"colorscale\": \"Viridis\", \"line\": {\"width\": 2}, \"size\": 12, \"symbol\": 0}, \"mode\": \"markers\", \"name\": \"Student_14\", \"text\": [\"Student_14\"], \"x\": [10], \"y\": [32], \"type\": \"scatter\", \"uid\": \"28f107cc-e40c-11e8-a1d0-d7b4c6107baf\"}, {\"marker\": {\"color\": \"rgb(0,255,0)\", \"colorscale\": \"Viridis\", \"line\": {\"width\": 2}, \"size\": 12, \"symbol\": 2}, \"mode\": \"markers\", \"name\": \"Student_15\", \"text\": [\"Student_15\"], \"x\": [99], \"y\": [89], \"type\": \"scatter\", \"uid\": \"28f10862-e40c-11e8-a1d0-d7b4c6107baf\"}, {\"marker\": {\"color\": \"rgb(127,0,127)\", \"colorscale\": \"Viridis\", \"line\": {\"width\": 2}, \"size\": 12, \"symbol\": 3}, \"mode\": \"markers\", \"name\": \"Student_16\", \"text\": [\"Student_16\"], \"x\": [20], \"y\": [61], \"type\": \"scatter\", \"uid\": \"28f108f8-e40c-11e8-a1d0-d7b4c6107baf\"}, {\"marker\": {\"color\": \"rgb(127,0,127)\", \"colorscale\": \"Viridis\", \"line\": {\"width\": 2}, \"size\": 12, \"symbol\": 3}, \"mode\": \"markers\", \"name\": \"Student_17\", \"text\": [\"Student_17\"], \"x\": [36], \"y\": [71], \"type\": \"scatter\", \"uid\": \"28f1098e-e40c-11e8-a1d0-d7b4c6107baf\"}, {\"marker\": {\"color\": \"rgb(127,0,127)\", \"colorscale\": \"Viridis\", \"line\": {\"width\": 2}, \"size\": 12, \"symbol\": 3}, \"mode\": \"markers\", \"name\": \"Student_18\", \"text\": [\"Student_18\"], \"x\": [26], \"y\": [71], \"type\": \"scatter\", \"uid\": \"28f10a1a-e40c-11e8-a1d0-d7b4c6107baf\"}, {\"marker\": {\"color\": \"rgb(127,0,127)\", \"colorscale\": \"Viridis\", \"line\": {\"width\": 2}, \"size\": 12, \"symbol\": 3}, \"mode\": \"markers\", \"name\": \"Student_19\", \"text\": [\"Student_19\"], \"x\": [28], \"y\": [62], \"type\": \"scatter\", \"uid\": \"28f10ac4-e40c-11e8-a1d0-d7b4c6107baf\"}, {\"marker\": {\"color\": \"rgb(255,0,0)\", \"colorscale\": \"Viridis\", \"line\": {\"width\": 2}, \"size\": 12, \"symbol\": 0}, \"mode\": \"markers\", \"name\": \"Student_20\", \"text\": [\"Student_20\"], \"x\": [9], \"y\": [39], \"type\": \"scatter\", \"uid\": \"28f10b50-e40c-11e8-a1d0-d7b4c6107baf\"}, {\"marker\": {\"color\": \"rgb(127,0,127)\", \"colorscale\": \"Viridis\", \"line\": {\"width\": 2}, \"size\": 12, \"symbol\": 3}, \"mode\": \"markers\", \"name\": \"Student_21\", \"text\": [\"Student_21\"], \"x\": [32], \"y\": [69], \"type\": \"scatter\", \"uid\": \"28f10bdc-e40c-11e8-a1d0-d7b4c6107baf\"}, {\"marker\": {\"color\": \"rgb(0,0,255)\", \"colorscale\": \"Viridis\", \"line\": {\"width\": 2}, \"size\": 12, \"symbol\": 1}, \"mode\": \"markers\", \"name\": \"Student_22\", \"text\": [\"Student_22\"], \"x\": [60], \"y\": [84], \"type\": \"scatter\", \"uid\": \"28f10c72-e40c-11e8-a1d0-d7b4c6107baf\"}, {\"marker\": {\"color\": \"rgb(127,0,127)\", \"colorscale\": \"Viridis\", \"line\": {\"width\": 2}, \"size\": 12, \"symbol\": 3}, \"mode\": \"markers\", \"name\": \"Student_23\", \"text\": [\"Student_23\"], \"x\": [30], \"y\": [63], \"type\": \"scatter\", \"uid\": \"28f10cfe-e40c-11e8-a1d0-d7b4c6107baf\"}, {\"marker\": {\"color\": \"rgb(127,0,127)\", \"colorscale\": \"Viridis\", \"line\": {\"width\": 2}, \"size\": 12, \"symbol\": 3}, \"mode\": \"markers\", \"name\": \"Student_24\", \"text\": [\"Student_24\"], \"x\": [32], \"y\": [57], \"type\": \"scatter\", \"uid\": \"28f10d94-e40c-11e8-a1d0-d7b4c6107baf\"}, {\"marker\": {\"color\": \"rgb(0,0,255)\", \"colorscale\": \"Viridis\", \"line\": {\"width\": 2}, \"size\": 12, \"symbol\": 1}, \"mode\": \"markers\", \"name\": \"Student_25\", \"text\": [\"Student_25\"], \"x\": [65], \"y\": [74], \"type\": \"scatter\", \"uid\": \"28f10e2a-e40c-11e8-a1d0-d7b4c6107baf\"}, {\"marker\": {\"color\": \"rgb(127,0,127)\", \"colorscale\": \"Viridis\", \"line\": {\"width\": 2}, \"size\": 12, \"symbol\": 3}, \"mode\": \"markers\", \"name\": \"Student_26\", \"text\": [\"Student_26\"], \"x\": [22], \"y\": [59], \"type\": \"scatter\", \"uid\": \"28f10eb6-e40c-11e8-a1d0-d7b4c6107baf\"}, {\"marker\": {\"color\": \"rgb(0,255,0)\", \"colorscale\": \"Viridis\", \"line\": {\"width\": 2}, \"size\": 12, \"symbol\": 2}, \"mode\": \"markers\", \"name\": \"Student_27\", \"text\": [\"Student_27\"], \"x\": [95], \"y\": [93], \"type\": \"scatter\", \"uid\": \"28f10f42-e40c-11e8-a1d0-d7b4c6107baf\"}, {\"marker\": {\"color\": \"rgb(255,0,0)\", \"colorscale\": \"Viridis\", \"line\": {\"width\": 2}, \"size\": 12, \"symbol\": 0}, \"mode\": \"markers\", \"name\": \"Student_28\", \"text\": [\"Student_28\"], \"x\": [5], \"y\": [29], \"type\": \"scatter\", \"uid\": \"28f10fc4-e40c-11e8-a1d0-d7b4c6107baf\"}, {\"marker\": {\"color\": \"rgb(255,0,0)\", \"colorscale\": \"Viridis\", \"line\": {\"width\": 2}, \"size\": 12, \"symbol\": 0}, \"mode\": \"markers\", \"name\": \"Student_29\", \"text\": [\"Student_29\"], \"x\": [8], \"y\": [22], \"type\": \"scatter\", \"uid\": \"28f11050-e40c-11e8-a1d0-d7b4c6107baf\"}, {\"marker\": {\"color\": \"rgb(255,0,0)\", \"colorscale\": \"Viridis\", \"line\": {\"width\": 2}, \"size\": 12, \"symbol\": 0}, \"mode\": \"markers\", \"name\": \"Student_30\", \"text\": [\"Student_30\"], \"x\": [14], \"y\": [53], \"type\": \"scatter\", \"uid\": \"28f110dc-e40c-11e8-a1d0-d7b4c6107baf\"}, {\"marker\": {\"color\": \"rgb(255,0,0)\", \"colorscale\": \"Viridis\", \"line\": {\"width\": 2}, \"size\": 12, \"symbol\": 0}, \"mode\": \"markers\", \"name\": \"Student_31\", \"text\": [\"Student_31\"], \"x\": [8], \"y\": [48], \"type\": \"scatter\", \"uid\": \"28f1115e-e40c-11e8-a1d0-d7b4c6107baf\"}, {\"marker\": {\"color\": \"rgb(127,0,127)\", \"colorscale\": \"Viridis\", \"line\": {\"width\": 2}, \"size\": 12, \"symbol\": 3}, \"mode\": \"markers\", \"name\": \"Student_32\", \"text\": [\"Student_32\"], \"x\": [19], \"y\": [75], \"type\": \"scatter\", \"uid\": \"28f111ea-e40c-11e8-a1d0-d7b4c6107baf\"}, {\"marker\": {\"color\": \"rgb(255,0,0)\", \"colorscale\": \"Viridis\", \"line\": {\"width\": 2}, \"size\": 12, \"symbol\": 0}, \"mode\": \"markers\", \"name\": \"Student_33\", \"text\": [\"Student_33\"], \"x\": [4], \"y\": [27], \"type\": \"scatter\", \"uid\": \"28f11276-e40c-11e8-a1d0-d7b4c6107baf\"}, {\"marker\": {\"color\": \"rgb(127,0,127)\", \"colorscale\": \"Viridis\", \"line\": {\"width\": 2}, \"size\": 12, \"symbol\": 3}, \"mode\": \"markers\", \"name\": \"Student_34\", \"text\": [\"Student_34\"], \"x\": [44], \"y\": [73], \"type\": \"scatter\", \"uid\": \"28f11302-e40c-11e8-a1d0-d7b4c6107baf\"}, {\"marker\": {\"color\": \"rgb(255,0,0)\", \"colorscale\": \"Viridis\", \"line\": {\"width\": 2}, \"size\": 12, \"symbol\": 0}, \"mode\": \"markers\", \"name\": \"Student_35\", \"text\": [\"Student_35\"], \"x\": [12], \"y\": [38], \"type\": \"scatter\", \"uid\": \"28f1138e-e40c-11e8-a1d0-d7b4c6107baf\"}, {\"marker\": {\"color\": \"rgb(255,0,0)\", \"colorscale\": \"Viridis\", \"line\": {\"width\": 2}, \"size\": 12, \"symbol\": 0}, \"mode\": \"markers\", \"name\": \"Student_36\", \"text\": [\"Student_36\"], \"x\": [5], \"y\": [36], \"type\": \"scatter\", \"uid\": \"28f1141a-e40c-11e8-a1d0-d7b4c6107baf\"}, {\"marker\": {\"color\": \"rgb(0,0,255)\", \"colorscale\": \"Viridis\", \"line\": {\"width\": 2}, \"size\": 12, \"symbol\": 1}, \"mode\": \"markers\", \"name\": \"Student_37\", \"text\": [\"Student_37\"], \"x\": [45], \"y\": [81], \"type\": \"scatter\", \"uid\": \"28f1149c-e40c-11e8-a1d0-d7b4c6107baf\"}, {\"marker\": {\"color\": \"rgb(0,0,255)\", \"colorscale\": \"Viridis\", \"line\": {\"width\": 2}, \"size\": 12, \"symbol\": 1}, \"mode\": \"markers\", \"name\": \"Student_38\", \"text\": [\"Student_38\"], \"x\": [60], \"y\": [84], \"type\": \"scatter\", \"uid\": \"28f1151e-e40c-11e8-a1d0-d7b4c6107baf\"}, {\"marker\": {\"color\": \"rgb(255,0,0)\", \"colorscale\": \"Viridis\", \"line\": {\"width\": 2}, \"size\": 12, \"symbol\": 0}, \"mode\": \"markers\", \"name\": \"Student_39\", \"text\": [\"Student_39\"], \"x\": [7], \"y\": [45], \"type\": \"scatter\", \"uid\": \"28f115a0-e40c-11e8-a1d0-d7b4c6107baf\"}, {\"marker\": {\"color\": \"rgb(127,0,127)\", \"colorscale\": \"Viridis\", \"line\": {\"width\": 2}, \"size\": 12, \"symbol\": 3}, \"mode\": \"markers\", \"name\": \"Student_40\", \"text\": [\"Student_40\"], \"x\": [46], \"y\": [70], \"type\": \"scatter\", \"uid\": \"28f11622-e40c-11e8-a1d0-d7b4c6107baf\"}, {\"marker\": {\"color\": \"rgb(0,255,0)\", \"colorscale\": \"Viridis\", \"line\": {\"width\": 2}, \"size\": 12, \"symbol\": 2}, \"mode\": \"markers\", \"name\": \"Student_41\", \"text\": [\"Student_41\"], \"x\": [93], \"y\": [99], \"type\": \"scatter\", \"uid\": \"28f116ae-e40c-11e8-a1d0-d7b4c6107baf\"}, {\"marker\": {\"color\": \"rgb(0,0,255)\", \"colorscale\": \"Viridis\", \"line\": {\"width\": 2}, \"size\": 12, \"symbol\": 1}, \"mode\": \"markers\", \"name\": \"Student_42\", \"text\": [\"Student_42\"], \"x\": [56], \"y\": [89], \"type\": \"scatter\", \"uid\": \"28f11730-e40c-11e8-a1d0-d7b4c6107baf\"}, {\"marker\": {\"color\": \"rgb(127,0,127)\", \"colorscale\": \"Viridis\", \"line\": {\"width\": 2}, \"size\": 12, \"symbol\": 3}, \"mode\": \"markers\", \"name\": \"Student_43\", \"text\": [\"Student_43\"], \"x\": [37], \"y\": [69], \"type\": \"scatter\", \"uid\": \"28f117bc-e40c-11e8-a1d0-d7b4c6107baf\"}, {\"marker\": {\"color\": \"rgb(0,0,255)\", \"colorscale\": \"Viridis\", \"line\": {\"width\": 2}, \"size\": 12, \"symbol\": 1}, \"mode\": \"markers\", \"name\": \"Student_44\", \"text\": [\"Student_44\"], \"x\": [64], \"y\": [72], \"type\": \"scatter\", \"uid\": \"28f1183e-e40c-11e8-a1d0-d7b4c6107baf\"}, {\"marker\": {\"color\": \"rgb(255,0,0)\", \"colorscale\": \"Viridis\", \"line\": {\"width\": 2}, \"size\": 12, \"symbol\": 0}, \"mode\": \"markers\", \"name\": \"Student_45\", \"text\": [\"Student_45\"], \"x\": [7], \"y\": [33], \"type\": \"scatter\", \"uid\": \"28f118c0-e40c-11e8-a1d0-d7b4c6107baf\"}, {\"marker\": {\"color\": \"rgb(255,0,0)\", \"colorscale\": \"Viridis\", \"line\": {\"width\": 2}, \"size\": 12, \"symbol\": 0}, \"mode\": \"markers\", \"name\": \"Student_46\", \"text\": [\"Student_46\"], \"x\": [6], \"y\": [36], \"type\": \"scatter\", \"uid\": \"28f11942-e40c-11e8-a1d0-d7b4c6107baf\"}, {\"marker\": {\"color\": \"rgb(0,255,0)\", \"colorscale\": \"Viridis\", \"line\": {\"width\": 2}, \"size\": 12, \"symbol\": 2}, \"mode\": \"markers\", \"name\": \"Student_47\", \"text\": [\"Student_47\"], \"x\": [90], \"y\": [94], \"type\": \"scatter\", \"uid\": \"28f119c4-e40c-11e8-a1d0-d7b4c6107baf\"}, {\"marker\": {\"color\": \"rgb(255,0,0)\", \"colorscale\": \"Viridis\", \"line\": {\"width\": 2}, \"size\": 12, \"symbol\": 0}, \"mode\": \"markers\", \"name\": \"Student_48\", \"text\": [\"Student_48\"], \"x\": [6], \"y\": [41], \"type\": \"scatter\", \"uid\": \"28f11a46-e40c-11e8-a1d0-d7b4c6107baf\"}, {\"marker\": {\"color\": \"rgb(255,0,0)\", \"colorscale\": \"Viridis\", \"line\": {\"width\": 2}, \"size\": 12, \"symbol\": 0}, \"mode\": \"markers\", \"name\": \"Student_49\", \"text\": [\"Student_49\"], \"x\": [10], \"y\": [37], \"type\": \"scatter\", \"uid\": \"28f11ac8-e40c-11e8-a1d0-d7b4c6107baf\"}, {\"marker\": {\"color\": \"rgb(255,0,0)\", \"colorscale\": \"Viridis\", \"line\": {\"width\": 2}, \"size\": 12, \"symbol\": 0}, \"mode\": \"markers\", \"name\": \"Student_50\", \"text\": [\"Student_50\"], \"x\": [8], \"y\": [26], \"type\": \"scatter\", \"uid\": \"28f11b4a-e40c-11e8-a1d0-d7b4c6107baf\"}, {\"marker\": {\"color\": \"rgb(127,0,127)\", \"colorscale\": \"Viridis\", \"line\": {\"width\": 2}, \"size\": 12, \"symbol\": 3}, \"mode\": \"markers\", \"name\": \"Student_51\", \"text\": [\"Student_51\"], \"x\": [19], \"y\": [53], \"type\": \"scatter\", \"uid\": \"28f11bcc-e40c-11e8-a1d0-d7b4c6107baf\"}, {\"marker\": {\"color\": \"rgb(255,0,0)\", \"colorscale\": \"Viridis\", \"line\": {\"width\": 2}, \"size\": 12, \"symbol\": 0}, \"mode\": \"markers\", \"name\": \"Student_52\", \"text\": [\"Student_52\"], \"x\": [2], \"y\": [11], \"type\": \"scatter\", \"uid\": \"28f11c4e-e40c-11e8-a1d0-d7b4c6107baf\"}, {\"marker\": {\"color\": \"rgb(127,0,127)\", \"colorscale\": \"Viridis\", \"line\": {\"width\": 2}, \"size\": 12, \"symbol\": 3}, \"mode\": \"markers\", \"name\": \"Student_53\", \"text\": [\"Student_53\"], \"x\": [31], \"y\": [72], \"type\": \"scatter\", \"uid\": \"28f11cd0-e40c-11e8-a1d0-d7b4c6107baf\"}, {\"marker\": {\"color\": \"rgb(255,0,0)\", \"colorscale\": \"Viridis\", \"line\": {\"width\": 2}, \"size\": 12, \"symbol\": 0}, \"mode\": \"markers\", \"name\": \"Student_54\", \"text\": [\"Student_54\"], \"x\": [12], \"y\": [21], \"type\": \"scatter\", \"uid\": \"28f11d48-e40c-11e8-a1d0-d7b4c6107baf\"}, {\"marker\": {\"color\": \"rgb(127,0,127)\", \"colorscale\": \"Viridis\", \"line\": {\"width\": 2}, \"size\": 12, \"symbol\": 3}, \"mode\": \"markers\", \"name\": \"Student_55\", \"text\": [\"Student_55\"], \"x\": [37], \"y\": [74], \"type\": \"scatter\", \"uid\": \"28f11dca-e40c-11e8-a1d0-d7b4c6107baf\"}, {\"marker\": {\"color\": \"rgb(0,0,255)\", \"colorscale\": \"Viridis\", \"line\": {\"width\": 2}, \"size\": 12, \"symbol\": 1}, \"mode\": \"markers\", \"name\": \"Student_56\", \"text\": [\"Student_56\"], \"x\": [41], \"y\": [82], \"type\": \"scatter\", \"uid\": \"28f11e4c-e40c-11e8-a1d0-d7b4c6107baf\"}, {\"marker\": {\"color\": \"rgb(127,0,127)\", \"colorscale\": \"Viridis\", \"line\": {\"width\": 2}, \"size\": 12, \"symbol\": 3}, \"mode\": \"markers\", \"name\": \"Student_57\", \"text\": [\"Student_57\"], \"x\": [32], \"y\": [64], \"type\": \"scatter\", \"uid\": \"28f11ece-e40c-11e8-a1d0-d7b4c6107baf\"}, {\"marker\": {\"color\": \"rgb(127,0,127)\", \"colorscale\": \"Viridis\", \"line\": {\"width\": 2}, \"size\": 12, \"symbol\": 3}, \"mode\": \"markers\", \"name\": \"Student_58\", \"text\": [\"Student_58\"], \"x\": [35], \"y\": [67], \"type\": \"scatter\", \"uid\": \"28f11f50-e40c-11e8-a1d0-d7b4c6107baf\"}, {\"marker\": {\"color\": \"rgb(0,0,255)\", \"colorscale\": \"Viridis\", \"line\": {\"width\": 2}, \"size\": 12, \"symbol\": 1}, \"mode\": \"markers\", \"name\": \"Student_59\", \"text\": [\"Student_59\"], \"x\": [45], \"y\": [72], \"type\": \"scatter\", \"uid\": \"28f11fd2-e40c-11e8-a1d0-d7b4c6107baf\"}, {\"marker\": {\"color\": \"rgb(127,0,127)\", \"colorscale\": \"Viridis\", \"line\": {\"width\": 2}, \"size\": 12, \"symbol\": 3}, \"mode\": \"markers\", \"name\": \"Student_60\", \"text\": [\"Student_60\"], \"x\": [22], \"y\": [67], \"type\": \"scatter\", \"uid\": \"28f12054-e40c-11e8-a1d0-d7b4c6107baf\"}], {\"hovermode\": \"closest\", \"showlegend\": true, \"title\": \"Notas dos estudantes vs acesso ao f\\u00f3rum\", \"xaxis\": {\"autorange\": false, \"fixedrange\": false, \"range\": [0, 109], \"rangemode\": \"normal\", \"showline\": true, \"title\": \"Acesso ao f\\u00f3rum\", \"zeroline\": false}, \"yaxis\": {\"autorange\": false, \"fixedrange\": false, \"range\": [0, 109], \"rangemode\": \"normal\", \"showline\": true, \"title\": \"Notas\"}}, {\"showLink\": true, \"linkText\": \"Export to plot.ly\"})});</script>"
      ]
     },
     "metadata": {},
     "output_type": "display_data"
    },
    {
     "data": {
      "application/vnd.plotly.v1+json": {
       "data": [
        {
         "marker": {
          "color": "rgb(255,0,0)",
          "colorscale": "Viridis",
          "line": {
           "width": 2
          },
          "size": 12,
          "symbol": 0
         },
         "mode": "markers",
         "name": "Student_1",
         "text": [
          "Student_1"
         ],
         "type": "scatter",
         "uid": "2930d410-e40c-11e8-a1d0-d7b4c6107baf",
         "x": [
          3
         ],
         "y": [
          43
         ]
        },
        {
         "marker": {
          "color": "rgb(0,255,0)",
          "colorscale": "Viridis",
          "line": {
           "width": 2
          },
          "size": 12,
          "symbol": 2
         },
         "mode": "markers",
         "name": "Student_2",
         "text": [
          "Student_2"
         ],
         "type": "scatter",
         "uid": "2930d5b4-e40c-11e8-a1d0-d7b4c6107baf",
         "x": [
          29
         ],
         "y": [
          92
         ]
        },
        {
         "marker": {
          "color": "rgb(0,0,255)",
          "colorscale": "Viridis",
          "line": {
           "width": 2
          },
          "size": 12,
          "symbol": 1
         },
         "mode": "markers",
         "name": "Student_3",
         "text": [
          "Student_3"
         ],
         "type": "scatter",
         "uid": "2930d672-e40c-11e8-a1d0-d7b4c6107baf",
         "x": [
          11
         ],
         "y": [
          82
         ]
        },
        {
         "marker": {
          "color": "rgb(255,0,0)",
          "colorscale": "Viridis",
          "line": {
           "width": 2
          },
          "size": 12,
          "symbol": 0
         },
         "mode": "markers",
         "name": "Student_4",
         "text": [
          "Student_4"
         ],
         "type": "scatter",
         "uid": "2930d712-e40c-11e8-a1d0-d7b4c6107baf",
         "x": [
          1
         ],
         "y": [
          48
         ]
        },
        {
         "marker": {
          "color": "rgb(127,0,127)",
          "colorscale": "Viridis",
          "line": {
           "width": 2
          },
          "size": 12,
          "symbol": 3
         },
         "mode": "markers",
         "name": "Student_5",
         "text": [
          "Student_5"
         ],
         "type": "scatter",
         "uid": "2930d79e-e40c-11e8-a1d0-d7b4c6107baf",
         "x": [
          12
         ],
         "y": [
          76
         ]
        },
        {
         "marker": {
          "color": "rgb(127,0,127)",
          "colorscale": "Viridis",
          "line": {
           "width": 2
          },
          "size": 12,
          "symbol": 3
         },
         "mode": "markers",
         "name": "Student_6",
         "text": [
          "Student_6"
         ],
         "type": "scatter",
         "uid": "2930d820-e40c-11e8-a1d0-d7b4c6107baf",
         "x": [
          9
         ],
         "y": [
          62
         ]
        },
        {
         "marker": {
          "color": "rgb(0,0,255)",
          "colorscale": "Viridis",
          "line": {
           "width": 2
          },
          "size": 12,
          "symbol": 1
         },
         "mode": "markers",
         "name": "Student_7",
         "text": [
          "Student_7"
         ],
         "type": "scatter",
         "uid": "2930d8a2-e40c-11e8-a1d0-d7b4c6107baf",
         "x": [
          9
         ],
         "y": [
          72
         ]
        },
        {
         "marker": {
          "color": "rgb(0,255,0)",
          "colorscale": "Viridis",
          "line": {
           "width": 2
          },
          "size": 12,
          "symbol": 2
         },
         "mode": "markers",
         "name": "Student_8",
         "text": [
          "Student_8"
         ],
         "type": "scatter",
         "uid": "2930d92e-e40c-11e8-a1d0-d7b4c6107baf",
         "x": [
          37
         ],
         "y": [
          92
         ]
        },
        {
         "marker": {
          "color": "rgb(255,0,0)",
          "colorscale": "Viridis",
          "line": {
           "width": 2
          },
          "size": 12,
          "symbol": 0
         },
         "mode": "markers",
         "name": "Student_9",
         "text": [
          "Student_9"
         ],
         "type": "scatter",
         "uid": "2930d9b0-e40c-11e8-a1d0-d7b4c6107baf",
         "x": [
          0
         ],
         "y": [
          40
         ]
        },
        {
         "marker": {
          "color": "rgb(0,255,0)",
          "colorscale": "Viridis",
          "line": {
           "width": 2
          },
          "size": 12,
          "symbol": 2
         },
         "mode": "markers",
         "name": "Student_10",
         "text": [
          "Student_10"
         ],
         "type": "scatter",
         "uid": "2930da32-e40c-11e8-a1d0-d7b4c6107baf",
         "x": [
          15
         ],
         "y": [
          83
         ]
        },
        {
         "marker": {
          "color": "rgb(127,0,127)",
          "colorscale": "Viridis",
          "line": {
           "width": 2
          },
          "size": 12,
          "symbol": 3
         },
         "mode": "markers",
         "name": "Student_11",
         "text": [
          "Student_11"
         ],
         "type": "scatter",
         "uid": "2930dabe-e40c-11e8-a1d0-d7b4c6107baf",
         "x": [
          2
         ],
         "y": [
          74
         ]
        },
        {
         "marker": {
          "color": "rgb(0,0,255)",
          "colorscale": "Viridis",
          "line": {
           "width": 2
          },
          "size": 12,
          "symbol": 1
         },
         "mode": "markers",
         "name": "Student_12",
         "text": [
          "Student_12"
         ],
         "type": "scatter",
         "uid": "2930db40-e40c-11e8-a1d0-d7b4c6107baf",
         "x": [
          19
         ],
         "y": [
          79
         ]
        },
        {
         "marker": {
          "color": "rgb(0,0,255)",
          "colorscale": "Viridis",
          "line": {
           "width": 2
          },
          "size": 12,
          "symbol": 1
         },
         "mode": "markers",
         "name": "Student_13",
         "text": [
          "Student_13"
         ],
         "type": "scatter",
         "uid": "2930dbc2-e40c-11e8-a1d0-d7b4c6107baf",
         "x": [
          6
         ],
         "y": [
          79
         ]
        },
        {
         "marker": {
          "color": "rgb(255,0,0)",
          "colorscale": "Viridis",
          "line": {
           "width": 2
          },
          "size": 12,
          "symbol": 0
         },
         "mode": "markers",
         "name": "Student_14",
         "text": [
          "Student_14"
         ],
         "type": "scatter",
         "uid": "2930dc44-e40c-11e8-a1d0-d7b4c6107baf",
         "x": [
          3
         ],
         "y": [
          32
         ]
        },
        {
         "marker": {
          "color": "rgb(0,255,0)",
          "colorscale": "Viridis",
          "line": {
           "width": 2
          },
          "size": 12,
          "symbol": 2
         },
         "mode": "markers",
         "name": "Student_15",
         "text": [
          "Student_15"
         ],
         "type": "scatter",
         "uid": "2930dcc6-e40c-11e8-a1d0-d7b4c6107baf",
         "x": [
          32
         ],
         "y": [
          89
         ]
        },
        {
         "marker": {
          "color": "rgb(127,0,127)",
          "colorscale": "Viridis",
          "line": {
           "width": 2
          },
          "size": 12,
          "symbol": 3
         },
         "mode": "markers",
         "name": "Student_16",
         "text": [
          "Student_16"
         ],
         "type": "scatter",
         "uid": "2930dd48-e40c-11e8-a1d0-d7b4c6107baf",
         "x": [
          4
         ],
         "y": [
          61
         ]
        },
        {
         "marker": {
          "color": "rgb(127,0,127)",
          "colorscale": "Viridis",
          "line": {
           "width": 2
          },
          "size": 12,
          "symbol": 3
         },
         "mode": "markers",
         "name": "Student_17",
         "text": [
          "Student_17"
         ],
         "type": "scatter",
         "uid": "2930ddca-e40c-11e8-a1d0-d7b4c6107baf",
         "x": [
          8
         ],
         "y": [
          71
         ]
        },
        {
         "marker": {
          "color": "rgb(127,0,127)",
          "colorscale": "Viridis",
          "line": {
           "width": 2
          },
          "size": 12,
          "symbol": 3
         },
         "mode": "markers",
         "name": "Student_18",
         "text": [
          "Student_18"
         ],
         "type": "scatter",
         "uid": "2930de4c-e40c-11e8-a1d0-d7b4c6107baf",
         "x": [
          7
         ],
         "y": [
          71
         ]
        },
        {
         "marker": {
          "color": "rgb(127,0,127)",
          "colorscale": "Viridis",
          "line": {
           "width": 2
          },
          "size": 12,
          "symbol": 3
         },
         "mode": "markers",
         "name": "Student_19",
         "text": [
          "Student_19"
         ],
         "type": "scatter",
         "uid": "2930dece-e40c-11e8-a1d0-d7b4c6107baf",
         "x": [
          4
         ],
         "y": [
          62
         ]
        },
        {
         "marker": {
          "color": "rgb(255,0,0)",
          "colorscale": "Viridis",
          "line": {
           "width": 2
          },
          "size": 12,
          "symbol": 0
         },
         "mode": "markers",
         "name": "Student_20",
         "text": [
          "Student_20"
         ],
         "type": "scatter",
         "uid": "2930df5a-e40c-11e8-a1d0-d7b4c6107baf",
         "x": [
          2
         ],
         "y": [
          39
         ]
        },
        {
         "marker": {
          "color": "rgb(127,0,127)",
          "colorscale": "Viridis",
          "line": {
           "width": 2
          },
          "size": 12,
          "symbol": 3
         },
         "mode": "markers",
         "name": "Student_21",
         "text": [
          "Student_21"
         ],
         "type": "scatter",
         "uid": "2930dfdc-e40c-11e8-a1d0-d7b4c6107baf",
         "x": [
          3
         ],
         "y": [
          69
         ]
        },
        {
         "marker": {
          "color": "rgb(0,0,255)",
          "colorscale": "Viridis",
          "line": {
           "width": 2
          },
          "size": 12,
          "symbol": 1
         },
         "mode": "markers",
         "name": "Student_22",
         "text": [
          "Student_22"
         ],
         "type": "scatter",
         "uid": "2930e05e-e40c-11e8-a1d0-d7b4c6107baf",
         "x": [
          21
         ],
         "y": [
          84
         ]
        },
        {
         "marker": {
          "color": "rgb(127,0,127)",
          "colorscale": "Viridis",
          "line": {
           "width": 2
          },
          "size": 12,
          "symbol": 3
         },
         "mode": "markers",
         "name": "Student_23",
         "text": [
          "Student_23"
         ],
         "type": "scatter",
         "uid": "2930e0ea-e40c-11e8-a1d0-d7b4c6107baf",
         "x": [
          2
         ],
         "y": [
          63
         ]
        },
        {
         "marker": {
          "color": "rgb(127,0,127)",
          "colorscale": "Viridis",
          "line": {
           "width": 2
          },
          "size": 12,
          "symbol": 3
         },
         "mode": "markers",
         "name": "Student_24",
         "text": [
          "Student_24"
         ],
         "type": "scatter",
         "uid": "2930e16c-e40c-11e8-a1d0-d7b4c6107baf",
         "x": [
          7
         ],
         "y": [
          57
         ]
        },
        {
         "marker": {
          "color": "rgb(0,0,255)",
          "colorscale": "Viridis",
          "line": {
           "width": 2
          },
          "size": 12,
          "symbol": 1
         },
         "mode": "markers",
         "name": "Student_25",
         "text": [
          "Student_25"
         ],
         "type": "scatter",
         "uid": "2930e1ee-e40c-11e8-a1d0-d7b4c6107baf",
         "x": [
          18
         ],
         "y": [
          74
         ]
        },
        {
         "marker": {
          "color": "rgb(127,0,127)",
          "colorscale": "Viridis",
          "line": {
           "width": 2
          },
          "size": 12,
          "symbol": 3
         },
         "mode": "markers",
         "name": "Student_26",
         "text": [
          "Student_26"
         ],
         "type": "scatter",
         "uid": "2930e270-e40c-11e8-a1d0-d7b4c6107baf",
         "x": [
          2
         ],
         "y": [
          59
         ]
        },
        {
         "marker": {
          "color": "rgb(0,255,0)",
          "colorscale": "Viridis",
          "line": {
           "width": 2
          },
          "size": 12,
          "symbol": 2
         },
         "mode": "markers",
         "name": "Student_27",
         "text": [
          "Student_27"
         ],
         "type": "scatter",
         "uid": "2930e2f2-e40c-11e8-a1d0-d7b4c6107baf",
         "x": [
          32
         ],
         "y": [
          93
         ]
        },
        {
         "marker": {
          "color": "rgb(255,0,0)",
          "colorscale": "Viridis",
          "line": {
           "width": 2
          },
          "size": 12,
          "symbol": 0
         },
         "mode": "markers",
         "name": "Student_28",
         "text": [
          "Student_28"
         ],
         "type": "scatter",
         "uid": "2930e374-e40c-11e8-a1d0-d7b4c6107baf",
         "x": [
          0
         ],
         "y": [
          29
         ]
        },
        {
         "marker": {
          "color": "rgb(255,0,0)",
          "colorscale": "Viridis",
          "line": {
           "width": 2
          },
          "size": 12,
          "symbol": 0
         },
         "mode": "markers",
         "name": "Student_29",
         "text": [
          "Student_29"
         ],
         "type": "scatter",
         "uid": "2930e3f6-e40c-11e8-a1d0-d7b4c6107baf",
         "x": [
          2
         ],
         "y": [
          22
         ]
        },
        {
         "marker": {
          "color": "rgb(255,0,0)",
          "colorscale": "Viridis",
          "line": {
           "width": 2
          },
          "size": 12,
          "symbol": 0
         },
         "mode": "markers",
         "name": "Student_30",
         "text": [
          "Student_30"
         ],
         "type": "scatter",
         "uid": "2930e478-e40c-11e8-a1d0-d7b4c6107baf",
         "x": [
          7
         ],
         "y": [
          53
         ]
        },
        {
         "marker": {
          "color": "rgb(255,0,0)",
          "colorscale": "Viridis",
          "line": {
           "width": 2
          },
          "size": 12,
          "symbol": 0
         },
         "mode": "markers",
         "name": "Student_31",
         "text": [
          "Student_31"
         ],
         "type": "scatter",
         "uid": "2930e4fa-e40c-11e8-a1d0-d7b4c6107baf",
         "x": [
          0
         ],
         "y": [
          48
         ]
        },
        {
         "marker": {
          "color": "rgb(127,0,127)",
          "colorscale": "Viridis",
          "line": {
           "width": 2
          },
          "size": 12,
          "symbol": 3
         },
         "mode": "markers",
         "name": "Student_32",
         "text": [
          "Student_32"
         ],
         "type": "scatter",
         "uid": "2930e57c-e40c-11e8-a1d0-d7b4c6107baf",
         "x": [
          9
         ],
         "y": [
          75
         ]
        },
        {
         "marker": {
          "color": "rgb(255,0,0)",
          "colorscale": "Viridis",
          "line": {
           "width": 2
          },
          "size": 12,
          "symbol": 0
         },
         "mode": "markers",
         "name": "Student_33",
         "text": [
          "Student_33"
         ],
         "type": "scatter",
         "uid": "2930e5fe-e40c-11e8-a1d0-d7b4c6107baf",
         "x": [
          1
         ],
         "y": [
          27
         ]
        },
        {
         "marker": {
          "color": "rgb(127,0,127)",
          "colorscale": "Viridis",
          "line": {
           "width": 2
          },
          "size": 12,
          "symbol": 3
         },
         "mode": "markers",
         "name": "Student_34",
         "text": [
          "Student_34"
         ],
         "type": "scatter",
         "uid": "2930e680-e40c-11e8-a1d0-d7b4c6107baf",
         "x": [
          15
         ],
         "y": [
          73
         ]
        },
        {
         "marker": {
          "color": "rgb(255,0,0)",
          "colorscale": "Viridis",
          "line": {
           "width": 2
          },
          "size": 12,
          "symbol": 0
         },
         "mode": "markers",
         "name": "Student_35",
         "text": [
          "Student_35"
         ],
         "type": "scatter",
         "uid": "2930e70c-e40c-11e8-a1d0-d7b4c6107baf",
         "x": [
          2
         ],
         "y": [
          38
         ]
        },
        {
         "marker": {
          "color": "rgb(255,0,0)",
          "colorscale": "Viridis",
          "line": {
           "width": 2
          },
          "size": 12,
          "symbol": 0
         },
         "mode": "markers",
         "name": "Student_36",
         "text": [
          "Student_36"
         ],
         "type": "scatter",
         "uid": "2930e78e-e40c-11e8-a1d0-d7b4c6107baf",
         "x": [
          2
         ],
         "y": [
          36
         ]
        },
        {
         "marker": {
          "color": "rgb(0,0,255)",
          "colorscale": "Viridis",
          "line": {
           "width": 2
          },
          "size": 12,
          "symbol": 1
         },
         "mode": "markers",
         "name": "Student_37",
         "text": [
          "Student_37"
         ],
         "type": "scatter",
         "uid": "2930e806-e40c-11e8-a1d0-d7b4c6107baf",
         "x": [
          9
         ],
         "y": [
          81
         ]
        },
        {
         "marker": {
          "color": "rgb(0,0,255)",
          "colorscale": "Viridis",
          "line": {
           "width": 2
          },
          "size": 12,
          "symbol": 1
         },
         "mode": "markers",
         "name": "Student_38",
         "text": [
          "Student_38"
         ],
         "type": "scatter",
         "uid": "2930e888-e40c-11e8-a1d0-d7b4c6107baf",
         "x": [
          9
         ],
         "y": [
          84
         ]
        },
        {
         "marker": {
          "color": "rgb(255,0,0)",
          "colorscale": "Viridis",
          "line": {
           "width": 2
          },
          "size": 12,
          "symbol": 0
         },
         "mode": "markers",
         "name": "Student_39",
         "text": [
          "Student_39"
         ],
         "type": "scatter",
         "uid": "2930e90a-e40c-11e8-a1d0-d7b4c6107baf",
         "x": [
          2
         ],
         "y": [
          45
         ]
        },
        {
         "marker": {
          "color": "rgb(127,0,127)",
          "colorscale": "Viridis",
          "line": {
           "width": 2
          },
          "size": 12,
          "symbol": 3
         },
         "mode": "markers",
         "name": "Student_40",
         "text": [
          "Student_40"
         ],
         "type": "scatter",
         "uid": "2930e996-e40c-11e8-a1d0-d7b4c6107baf",
         "x": [
          11
         ],
         "y": [
          70
         ]
        },
        {
         "marker": {
          "color": "rgb(0,255,0)",
          "colorscale": "Viridis",
          "line": {
           "width": 2
          },
          "size": 12,
          "symbol": 2
         },
         "mode": "markers",
         "name": "Student_41",
         "text": [
          "Student_41"
         ],
         "type": "scatter",
         "uid": "2930ea0e-e40c-11e8-a1d0-d7b4c6107baf",
         "x": [
          15
         ],
         "y": [
          99
         ]
        },
        {
         "marker": {
          "color": "rgb(0,0,255)",
          "colorscale": "Viridis",
          "line": {
           "width": 2
          },
          "size": 12,
          "symbol": 1
         },
         "mode": "markers",
         "name": "Student_42",
         "text": [
          "Student_42"
         ],
         "type": "scatter",
         "uid": "2930ea90-e40c-11e8-a1d0-d7b4c6107baf",
         "x": [
          12
         ],
         "y": [
          89
         ]
        },
        {
         "marker": {
          "color": "rgb(127,0,127)",
          "colorscale": "Viridis",
          "line": {
           "width": 2
          },
          "size": 12,
          "symbol": 3
         },
         "mode": "markers",
         "name": "Student_43",
         "text": [
          "Student_43"
         ],
         "type": "scatter",
         "uid": "2930eb12-e40c-11e8-a1d0-d7b4c6107baf",
         "x": [
          10
         ],
         "y": [
          69
         ]
        },
        {
         "marker": {
          "color": "rgb(0,0,255)",
          "colorscale": "Viridis",
          "line": {
           "width": 2
          },
          "size": 12,
          "symbol": 1
         },
         "mode": "markers",
         "name": "Student_44",
         "text": [
          "Student_44"
         ],
         "type": "scatter",
         "uid": "2930eb8a-e40c-11e8-a1d0-d7b4c6107baf",
         "x": [
          20
         ],
         "y": [
          72
         ]
        },
        {
         "marker": {
          "color": "rgb(255,0,0)",
          "colorscale": "Viridis",
          "line": {
           "width": 2
          },
          "size": 12,
          "symbol": 0
         },
         "mode": "markers",
         "name": "Student_45",
         "text": [
          "Student_45"
         ],
         "type": "scatter",
         "uid": "2930ec0c-e40c-11e8-a1d0-d7b4c6107baf",
         "x": [
          1
         ],
         "y": [
          33
         ]
        },
        {
         "marker": {
          "color": "rgb(255,0,0)",
          "colorscale": "Viridis",
          "line": {
           "width": 2
          },
          "size": 12,
          "symbol": 0
         },
         "mode": "markers",
         "name": "Student_46",
         "text": [
          "Student_46"
         ],
         "type": "scatter",
         "uid": "2930ec84-e40c-11e8-a1d0-d7b4c6107baf",
         "x": [
          2
         ],
         "y": [
          36
         ]
        },
        {
         "marker": {
          "color": "rgb(0,255,0)",
          "colorscale": "Viridis",
          "line": {
           "width": 2
          },
          "size": 12,
          "symbol": 2
         },
         "mode": "markers",
         "name": "Student_47",
         "text": [
          "Student_47"
         ],
         "type": "scatter",
         "uid": "2930ed10-e40c-11e8-a1d0-d7b4c6107baf",
         "x": [
          21
         ],
         "y": [
          94
         ]
        },
        {
         "marker": {
          "color": "rgb(255,0,0)",
          "colorscale": "Viridis",
          "line": {
           "width": 2
          },
          "size": 12,
          "symbol": 0
         },
         "mode": "markers",
         "name": "Student_48",
         "text": [
          "Student_48"
         ],
         "type": "scatter",
         "uid": "2930ed88-e40c-11e8-a1d0-d7b4c6107baf",
         "x": [
          0
         ],
         "y": [
          41
         ]
        },
        {
         "marker": {
          "color": "rgb(255,0,0)",
          "colorscale": "Viridis",
          "line": {
           "width": 2
          },
          "size": 12,
          "symbol": 0
         },
         "mode": "markers",
         "name": "Student_49",
         "text": [
          "Student_49"
         ],
         "type": "scatter",
         "uid": "2930ee0a-e40c-11e8-a1d0-d7b4c6107baf",
         "x": [
          2
         ],
         "y": [
          37
         ]
        },
        {
         "marker": {
          "color": "rgb(255,0,0)",
          "colorscale": "Viridis",
          "line": {
           "width": 2
          },
          "size": 12,
          "symbol": 0
         },
         "mode": "markers",
         "name": "Student_50",
         "text": [
          "Student_50"
         ],
         "type": "scatter",
         "uid": "2930ee82-e40c-11e8-a1d0-d7b4c6107baf",
         "x": [
          1
         ],
         "y": [
          26
         ]
        },
        {
         "marker": {
          "color": "rgb(127,0,127)",
          "colorscale": "Viridis",
          "line": {
           "width": 2
          },
          "size": 12,
          "symbol": 3
         },
         "mode": "markers",
         "name": "Student_51",
         "text": [
          "Student_51"
         ],
         "type": "scatter",
         "uid": "2930ef04-e40c-11e8-a1d0-d7b4c6107baf",
         "x": [
          0
         ],
         "y": [
          53
         ]
        },
        {
         "marker": {
          "color": "rgb(255,0,0)",
          "colorscale": "Viridis",
          "line": {
           "width": 2
          },
          "size": 12,
          "symbol": 0
         },
         "mode": "markers",
         "name": "Student_52",
         "text": [
          "Student_52"
         ],
         "type": "scatter",
         "uid": "2930ef7c-e40c-11e8-a1d0-d7b4c6107baf",
         "x": [
          0
         ],
         "y": [
          11
         ]
        },
        {
         "marker": {
          "color": "rgb(127,0,127)",
          "colorscale": "Viridis",
          "line": {
           "width": 2
          },
          "size": 12,
          "symbol": 3
         },
         "mode": "markers",
         "name": "Student_53",
         "text": [
          "Student_53"
         ],
         "type": "scatter",
         "uid": "2930eff4-e40c-11e8-a1d0-d7b4c6107baf",
         "x": [
          12
         ],
         "y": [
          72
         ]
        },
        {
         "marker": {
          "color": "rgb(255,0,0)",
          "colorscale": "Viridis",
          "line": {
           "width": 2
          },
          "size": 12,
          "symbol": 0
         },
         "mode": "markers",
         "name": "Student_54",
         "text": [
          "Student_54"
         ],
         "type": "scatter",
         "uid": "2930f076-e40c-11e8-a1d0-d7b4c6107baf",
         "x": [
          3
         ],
         "y": [
          21
         ]
        },
        {
         "marker": {
          "color": "rgb(127,0,127)",
          "colorscale": "Viridis",
          "line": {
           "width": 2
          },
          "size": 12,
          "symbol": 3
         },
         "mode": "markers",
         "name": "Student_55",
         "text": [
          "Student_55"
         ],
         "type": "scatter",
         "uid": "2930f0ee-e40c-11e8-a1d0-d7b4c6107baf",
         "x": [
          6
         ],
         "y": [
          74
         ]
        },
        {
         "marker": {
          "color": "rgb(0,0,255)",
          "colorscale": "Viridis",
          "line": {
           "width": 2
          },
          "size": 12,
          "symbol": 1
         },
         "mode": "markers",
         "name": "Student_56",
         "text": [
          "Student_56"
         ],
         "type": "scatter",
         "uid": "2930f15c-e40c-11e8-a1d0-d7b4c6107baf",
         "x": [
          8
         ],
         "y": [
          82
         ]
        },
        {
         "marker": {
          "color": "rgb(127,0,127)",
          "colorscale": "Viridis",
          "line": {
           "width": 2
          },
          "size": 12,
          "symbol": 3
         },
         "mode": "markers",
         "name": "Student_57",
         "text": [
          "Student_57"
         ],
         "type": "scatter",
         "uid": "2930f1d4-e40c-11e8-a1d0-d7b4c6107baf",
         "x": [
          7
         ],
         "y": [
          64
         ]
        },
        {
         "marker": {
          "color": "rgb(127,0,127)",
          "colorscale": "Viridis",
          "line": {
           "width": 2
          },
          "size": 12,
          "symbol": 3
         },
         "mode": "markers",
         "name": "Student_58",
         "text": [
          "Student_58"
         ],
         "type": "scatter",
         "uid": "2930f24c-e40c-11e8-a1d0-d7b4c6107baf",
         "x": [
          6
         ],
         "y": [
          67
         ]
        },
        {
         "marker": {
          "color": "rgb(0,0,255)",
          "colorscale": "Viridis",
          "line": {
           "width": 2
          },
          "size": 12,
          "symbol": 1
         },
         "mode": "markers",
         "name": "Student_59",
         "text": [
          "Student_59"
         ],
         "type": "scatter",
         "uid": "2930f2c4-e40c-11e8-a1d0-d7b4c6107baf",
         "x": [
          15
         ],
         "y": [
          72
         ]
        },
        {
         "marker": {
          "color": "rgb(127,0,127)",
          "colorscale": "Viridis",
          "line": {
           "width": 2
          },
          "size": 12,
          "symbol": 3
         },
         "mode": "markers",
         "name": "Student_60",
         "text": [
          "Student_60"
         ],
         "type": "scatter",
         "uid": "2930f332-e40c-11e8-a1d0-d7b4c6107baf",
         "x": [
          2
         ],
         "y": [
          67
         ]
        }
       ],
       "layout": {
        "hovermode": "closest",
        "showlegend": true,
        "title": "Notas dos estudantes vs postagens no fórum",
        "xaxis": {
         "autorange": false,
         "fixedrange": false,
         "range": [
          0,
          47
         ],
         "rangemode": "normal",
         "showline": true,
         "title": "Postagem no fórum",
         "zeroline": false
        },
        "yaxis": {
         "autorange": false,
         "fixedrange": false,
         "range": [
          0,
          109
         ],
         "rangemode": "normal",
         "showline": true,
         "title": "Notas"
        }
       }
      },
      "text/html": [
       "<div id=\"0316b99e-929e-4359-aef9-3d94045cbb13\" style=\"height: 525px; width: 100%;\" class=\"plotly-graph-div\"></div><script type=\"text/javascript\">require([\"plotly\"], function(Plotly) { window.PLOTLYENV=window.PLOTLYENV || {};window.PLOTLYENV.BASE_URL=\"https://plot.ly\";Plotly.newPlot(\"0316b99e-929e-4359-aef9-3d94045cbb13\", [{\"marker\": {\"color\": \"rgb(255,0,0)\", \"colorscale\": \"Viridis\", \"line\": {\"width\": 2}, \"size\": 12, \"symbol\": 0}, \"mode\": \"markers\", \"name\": \"Student_1\", \"text\": [\"Student_1\"], \"x\": [3], \"y\": [43], \"type\": \"scatter\", \"uid\": \"2930d410-e40c-11e8-a1d0-d7b4c6107baf\"}, {\"marker\": {\"color\": \"rgb(0,255,0)\", \"colorscale\": \"Viridis\", \"line\": {\"width\": 2}, \"size\": 12, \"symbol\": 2}, \"mode\": \"markers\", \"name\": \"Student_2\", \"text\": [\"Student_2\"], \"x\": [29], \"y\": [92], \"type\": \"scatter\", \"uid\": \"2930d5b4-e40c-11e8-a1d0-d7b4c6107baf\"}, {\"marker\": {\"color\": \"rgb(0,0,255)\", \"colorscale\": \"Viridis\", \"line\": {\"width\": 2}, \"size\": 12, \"symbol\": 1}, \"mode\": \"markers\", \"name\": \"Student_3\", \"text\": [\"Student_3\"], \"x\": [11], \"y\": [82], \"type\": \"scatter\", \"uid\": \"2930d672-e40c-11e8-a1d0-d7b4c6107baf\"}, {\"marker\": {\"color\": \"rgb(255,0,0)\", \"colorscale\": \"Viridis\", \"line\": {\"width\": 2}, \"size\": 12, \"symbol\": 0}, \"mode\": \"markers\", \"name\": \"Student_4\", \"text\": [\"Student_4\"], \"x\": [1], \"y\": [48], \"type\": \"scatter\", \"uid\": \"2930d712-e40c-11e8-a1d0-d7b4c6107baf\"}, {\"marker\": {\"color\": \"rgb(127,0,127)\", \"colorscale\": \"Viridis\", \"line\": {\"width\": 2}, \"size\": 12, \"symbol\": 3}, \"mode\": \"markers\", \"name\": \"Student_5\", \"text\": [\"Student_5\"], \"x\": [12], \"y\": [76], \"type\": \"scatter\", \"uid\": \"2930d79e-e40c-11e8-a1d0-d7b4c6107baf\"}, {\"marker\": {\"color\": \"rgb(127,0,127)\", \"colorscale\": \"Viridis\", \"line\": {\"width\": 2}, \"size\": 12, \"symbol\": 3}, \"mode\": \"markers\", \"name\": \"Student_6\", \"text\": [\"Student_6\"], \"x\": [9], \"y\": [62], \"type\": \"scatter\", \"uid\": \"2930d820-e40c-11e8-a1d0-d7b4c6107baf\"}, {\"marker\": {\"color\": \"rgb(0,0,255)\", \"colorscale\": \"Viridis\", \"line\": {\"width\": 2}, \"size\": 12, \"symbol\": 1}, \"mode\": \"markers\", \"name\": \"Student_7\", \"text\": [\"Student_7\"], \"x\": [9], \"y\": [72], \"type\": \"scatter\", \"uid\": \"2930d8a2-e40c-11e8-a1d0-d7b4c6107baf\"}, {\"marker\": {\"color\": \"rgb(0,255,0)\", \"colorscale\": \"Viridis\", \"line\": {\"width\": 2}, \"size\": 12, \"symbol\": 2}, \"mode\": \"markers\", \"name\": \"Student_8\", \"text\": [\"Student_8\"], \"x\": [37], \"y\": [92], \"type\": \"scatter\", \"uid\": \"2930d92e-e40c-11e8-a1d0-d7b4c6107baf\"}, {\"marker\": {\"color\": \"rgb(255,0,0)\", \"colorscale\": \"Viridis\", \"line\": {\"width\": 2}, \"size\": 12, \"symbol\": 0}, \"mode\": \"markers\", \"name\": \"Student_9\", \"text\": [\"Student_9\"], \"x\": [0], \"y\": [40], \"type\": \"scatter\", \"uid\": \"2930d9b0-e40c-11e8-a1d0-d7b4c6107baf\"}, {\"marker\": {\"color\": \"rgb(0,255,0)\", \"colorscale\": \"Viridis\", \"line\": {\"width\": 2}, \"size\": 12, \"symbol\": 2}, \"mode\": \"markers\", \"name\": \"Student_10\", \"text\": [\"Student_10\"], \"x\": [15], \"y\": [83], \"type\": \"scatter\", \"uid\": \"2930da32-e40c-11e8-a1d0-d7b4c6107baf\"}, {\"marker\": {\"color\": \"rgb(127,0,127)\", \"colorscale\": \"Viridis\", \"line\": {\"width\": 2}, \"size\": 12, \"symbol\": 3}, \"mode\": \"markers\", \"name\": \"Student_11\", \"text\": [\"Student_11\"], \"x\": [2], \"y\": [74], \"type\": \"scatter\", \"uid\": \"2930dabe-e40c-11e8-a1d0-d7b4c6107baf\"}, {\"marker\": {\"color\": \"rgb(0,0,255)\", \"colorscale\": \"Viridis\", \"line\": {\"width\": 2}, \"size\": 12, \"symbol\": 1}, \"mode\": \"markers\", \"name\": \"Student_12\", \"text\": [\"Student_12\"], \"x\": [19], \"y\": [79], \"type\": \"scatter\", \"uid\": \"2930db40-e40c-11e8-a1d0-d7b4c6107baf\"}, {\"marker\": {\"color\": \"rgb(0,0,255)\", \"colorscale\": \"Viridis\", \"line\": {\"width\": 2}, \"size\": 12, \"symbol\": 1}, \"mode\": \"markers\", \"name\": \"Student_13\", \"text\": [\"Student_13\"], \"x\": [6], \"y\": [79], \"type\": \"scatter\", \"uid\": \"2930dbc2-e40c-11e8-a1d0-d7b4c6107baf\"}, {\"marker\": {\"color\": \"rgb(255,0,0)\", \"colorscale\": \"Viridis\", \"line\": {\"width\": 2}, \"size\": 12, \"symbol\": 0}, \"mode\": \"markers\", \"name\": \"Student_14\", \"text\": [\"Student_14\"], \"x\": [3], \"y\": [32], \"type\": \"scatter\", \"uid\": \"2930dc44-e40c-11e8-a1d0-d7b4c6107baf\"}, {\"marker\": {\"color\": \"rgb(0,255,0)\", \"colorscale\": \"Viridis\", \"line\": {\"width\": 2}, \"size\": 12, \"symbol\": 2}, \"mode\": \"markers\", \"name\": \"Student_15\", \"text\": [\"Student_15\"], \"x\": [32], \"y\": [89], \"type\": \"scatter\", \"uid\": \"2930dcc6-e40c-11e8-a1d0-d7b4c6107baf\"}, {\"marker\": {\"color\": \"rgb(127,0,127)\", \"colorscale\": \"Viridis\", \"line\": {\"width\": 2}, \"size\": 12, \"symbol\": 3}, \"mode\": \"markers\", \"name\": \"Student_16\", \"text\": [\"Student_16\"], \"x\": [4], \"y\": [61], \"type\": \"scatter\", \"uid\": \"2930dd48-e40c-11e8-a1d0-d7b4c6107baf\"}, {\"marker\": {\"color\": \"rgb(127,0,127)\", \"colorscale\": \"Viridis\", \"line\": {\"width\": 2}, \"size\": 12, \"symbol\": 3}, \"mode\": \"markers\", \"name\": \"Student_17\", \"text\": [\"Student_17\"], \"x\": [8], \"y\": [71], \"type\": \"scatter\", \"uid\": \"2930ddca-e40c-11e8-a1d0-d7b4c6107baf\"}, {\"marker\": {\"color\": \"rgb(127,0,127)\", \"colorscale\": \"Viridis\", \"line\": {\"width\": 2}, \"size\": 12, \"symbol\": 3}, \"mode\": \"markers\", \"name\": \"Student_18\", \"text\": [\"Student_18\"], \"x\": [7], \"y\": [71], \"type\": \"scatter\", \"uid\": \"2930de4c-e40c-11e8-a1d0-d7b4c6107baf\"}, {\"marker\": {\"color\": \"rgb(127,0,127)\", \"colorscale\": \"Viridis\", \"line\": {\"width\": 2}, \"size\": 12, \"symbol\": 3}, \"mode\": \"markers\", \"name\": \"Student_19\", \"text\": [\"Student_19\"], \"x\": [4], \"y\": [62], \"type\": \"scatter\", \"uid\": \"2930dece-e40c-11e8-a1d0-d7b4c6107baf\"}, {\"marker\": {\"color\": \"rgb(255,0,0)\", \"colorscale\": \"Viridis\", \"line\": {\"width\": 2}, \"size\": 12, \"symbol\": 0}, \"mode\": \"markers\", \"name\": \"Student_20\", \"text\": [\"Student_20\"], \"x\": [2], \"y\": [39], \"type\": \"scatter\", \"uid\": \"2930df5a-e40c-11e8-a1d0-d7b4c6107baf\"}, {\"marker\": {\"color\": \"rgb(127,0,127)\", \"colorscale\": \"Viridis\", \"line\": {\"width\": 2}, \"size\": 12, \"symbol\": 3}, \"mode\": \"markers\", \"name\": \"Student_21\", \"text\": [\"Student_21\"], \"x\": [3], \"y\": [69], \"type\": \"scatter\", \"uid\": \"2930dfdc-e40c-11e8-a1d0-d7b4c6107baf\"}, {\"marker\": {\"color\": \"rgb(0,0,255)\", \"colorscale\": \"Viridis\", \"line\": {\"width\": 2}, \"size\": 12, \"symbol\": 1}, \"mode\": \"markers\", \"name\": \"Student_22\", \"text\": [\"Student_22\"], \"x\": [21], \"y\": [84], \"type\": \"scatter\", \"uid\": \"2930e05e-e40c-11e8-a1d0-d7b4c6107baf\"}, {\"marker\": {\"color\": \"rgb(127,0,127)\", \"colorscale\": \"Viridis\", \"line\": {\"width\": 2}, \"size\": 12, \"symbol\": 3}, \"mode\": \"markers\", \"name\": \"Student_23\", \"text\": [\"Student_23\"], \"x\": [2], \"y\": [63], \"type\": \"scatter\", \"uid\": \"2930e0ea-e40c-11e8-a1d0-d7b4c6107baf\"}, {\"marker\": {\"color\": \"rgb(127,0,127)\", \"colorscale\": \"Viridis\", \"line\": {\"width\": 2}, \"size\": 12, \"symbol\": 3}, \"mode\": \"markers\", \"name\": \"Student_24\", \"text\": [\"Student_24\"], \"x\": [7], \"y\": [57], \"type\": \"scatter\", \"uid\": \"2930e16c-e40c-11e8-a1d0-d7b4c6107baf\"}, {\"marker\": {\"color\": \"rgb(0,0,255)\", \"colorscale\": \"Viridis\", \"line\": {\"width\": 2}, \"size\": 12, \"symbol\": 1}, \"mode\": \"markers\", \"name\": \"Student_25\", \"text\": [\"Student_25\"], \"x\": [18], \"y\": [74], \"type\": \"scatter\", \"uid\": \"2930e1ee-e40c-11e8-a1d0-d7b4c6107baf\"}, {\"marker\": {\"color\": \"rgb(127,0,127)\", \"colorscale\": \"Viridis\", \"line\": {\"width\": 2}, \"size\": 12, \"symbol\": 3}, \"mode\": \"markers\", \"name\": \"Student_26\", \"text\": [\"Student_26\"], \"x\": [2], \"y\": [59], \"type\": \"scatter\", \"uid\": \"2930e270-e40c-11e8-a1d0-d7b4c6107baf\"}, {\"marker\": {\"color\": \"rgb(0,255,0)\", \"colorscale\": \"Viridis\", \"line\": {\"width\": 2}, \"size\": 12, \"symbol\": 2}, \"mode\": \"markers\", \"name\": \"Student_27\", \"text\": [\"Student_27\"], \"x\": [32], \"y\": [93], \"type\": \"scatter\", \"uid\": \"2930e2f2-e40c-11e8-a1d0-d7b4c6107baf\"}, {\"marker\": {\"color\": \"rgb(255,0,0)\", \"colorscale\": \"Viridis\", \"line\": {\"width\": 2}, \"size\": 12, \"symbol\": 0}, \"mode\": \"markers\", \"name\": \"Student_28\", \"text\": [\"Student_28\"], \"x\": [0], \"y\": [29], \"type\": \"scatter\", \"uid\": \"2930e374-e40c-11e8-a1d0-d7b4c6107baf\"}, {\"marker\": {\"color\": \"rgb(255,0,0)\", \"colorscale\": \"Viridis\", \"line\": {\"width\": 2}, \"size\": 12, \"symbol\": 0}, \"mode\": \"markers\", \"name\": \"Student_29\", \"text\": [\"Student_29\"], \"x\": [2], \"y\": [22], \"type\": \"scatter\", \"uid\": \"2930e3f6-e40c-11e8-a1d0-d7b4c6107baf\"}, {\"marker\": {\"color\": \"rgb(255,0,0)\", \"colorscale\": \"Viridis\", \"line\": {\"width\": 2}, \"size\": 12, \"symbol\": 0}, \"mode\": \"markers\", \"name\": \"Student_30\", \"text\": [\"Student_30\"], \"x\": [7], \"y\": [53], \"type\": \"scatter\", \"uid\": \"2930e478-e40c-11e8-a1d0-d7b4c6107baf\"}, {\"marker\": {\"color\": \"rgb(255,0,0)\", \"colorscale\": \"Viridis\", \"line\": {\"width\": 2}, \"size\": 12, \"symbol\": 0}, \"mode\": \"markers\", \"name\": \"Student_31\", \"text\": [\"Student_31\"], \"x\": [0], \"y\": [48], \"type\": \"scatter\", \"uid\": \"2930e4fa-e40c-11e8-a1d0-d7b4c6107baf\"}, {\"marker\": {\"color\": \"rgb(127,0,127)\", \"colorscale\": \"Viridis\", \"line\": {\"width\": 2}, \"size\": 12, \"symbol\": 3}, \"mode\": \"markers\", \"name\": \"Student_32\", \"text\": [\"Student_32\"], \"x\": [9], \"y\": [75], \"type\": \"scatter\", \"uid\": \"2930e57c-e40c-11e8-a1d0-d7b4c6107baf\"}, {\"marker\": {\"color\": \"rgb(255,0,0)\", \"colorscale\": \"Viridis\", \"line\": {\"width\": 2}, \"size\": 12, \"symbol\": 0}, \"mode\": \"markers\", \"name\": \"Student_33\", \"text\": [\"Student_33\"], \"x\": [1], \"y\": [27], \"type\": \"scatter\", \"uid\": \"2930e5fe-e40c-11e8-a1d0-d7b4c6107baf\"}, {\"marker\": {\"color\": \"rgb(127,0,127)\", \"colorscale\": \"Viridis\", \"line\": {\"width\": 2}, \"size\": 12, \"symbol\": 3}, \"mode\": \"markers\", \"name\": \"Student_34\", \"text\": [\"Student_34\"], \"x\": [15], \"y\": [73], \"type\": \"scatter\", \"uid\": \"2930e680-e40c-11e8-a1d0-d7b4c6107baf\"}, {\"marker\": {\"color\": \"rgb(255,0,0)\", \"colorscale\": \"Viridis\", \"line\": {\"width\": 2}, \"size\": 12, \"symbol\": 0}, \"mode\": \"markers\", \"name\": \"Student_35\", \"text\": [\"Student_35\"], \"x\": [2], \"y\": [38], \"type\": \"scatter\", \"uid\": \"2930e70c-e40c-11e8-a1d0-d7b4c6107baf\"}, {\"marker\": {\"color\": \"rgb(255,0,0)\", \"colorscale\": \"Viridis\", \"line\": {\"width\": 2}, \"size\": 12, \"symbol\": 0}, \"mode\": \"markers\", \"name\": \"Student_36\", \"text\": [\"Student_36\"], \"x\": [2], \"y\": [36], \"type\": \"scatter\", \"uid\": \"2930e78e-e40c-11e8-a1d0-d7b4c6107baf\"}, {\"marker\": {\"color\": \"rgb(0,0,255)\", \"colorscale\": \"Viridis\", \"line\": {\"width\": 2}, \"size\": 12, \"symbol\": 1}, \"mode\": \"markers\", \"name\": \"Student_37\", \"text\": [\"Student_37\"], \"x\": [9], \"y\": [81], \"type\": \"scatter\", \"uid\": \"2930e806-e40c-11e8-a1d0-d7b4c6107baf\"}, {\"marker\": {\"color\": \"rgb(0,0,255)\", \"colorscale\": \"Viridis\", \"line\": {\"width\": 2}, \"size\": 12, \"symbol\": 1}, \"mode\": \"markers\", \"name\": \"Student_38\", \"text\": [\"Student_38\"], \"x\": [9], \"y\": [84], \"type\": \"scatter\", \"uid\": \"2930e888-e40c-11e8-a1d0-d7b4c6107baf\"}, {\"marker\": {\"color\": \"rgb(255,0,0)\", \"colorscale\": \"Viridis\", \"line\": {\"width\": 2}, \"size\": 12, \"symbol\": 0}, \"mode\": \"markers\", \"name\": \"Student_39\", \"text\": [\"Student_39\"], \"x\": [2], \"y\": [45], \"type\": \"scatter\", \"uid\": \"2930e90a-e40c-11e8-a1d0-d7b4c6107baf\"}, {\"marker\": {\"color\": \"rgb(127,0,127)\", \"colorscale\": \"Viridis\", \"line\": {\"width\": 2}, \"size\": 12, \"symbol\": 3}, \"mode\": \"markers\", \"name\": \"Student_40\", \"text\": [\"Student_40\"], \"x\": [11], \"y\": [70], \"type\": \"scatter\", \"uid\": \"2930e996-e40c-11e8-a1d0-d7b4c6107baf\"}, {\"marker\": {\"color\": \"rgb(0,255,0)\", \"colorscale\": \"Viridis\", \"line\": {\"width\": 2}, \"size\": 12, \"symbol\": 2}, \"mode\": \"markers\", \"name\": \"Student_41\", \"text\": [\"Student_41\"], \"x\": [15], \"y\": [99], \"type\": \"scatter\", \"uid\": \"2930ea0e-e40c-11e8-a1d0-d7b4c6107baf\"}, {\"marker\": {\"color\": \"rgb(0,0,255)\", \"colorscale\": \"Viridis\", \"line\": {\"width\": 2}, \"size\": 12, \"symbol\": 1}, \"mode\": \"markers\", \"name\": \"Student_42\", \"text\": [\"Student_42\"], \"x\": [12], \"y\": [89], \"type\": \"scatter\", \"uid\": \"2930ea90-e40c-11e8-a1d0-d7b4c6107baf\"}, {\"marker\": {\"color\": \"rgb(127,0,127)\", \"colorscale\": \"Viridis\", \"line\": {\"width\": 2}, \"size\": 12, \"symbol\": 3}, \"mode\": \"markers\", \"name\": \"Student_43\", \"text\": [\"Student_43\"], \"x\": [10], \"y\": [69], \"type\": \"scatter\", \"uid\": \"2930eb12-e40c-11e8-a1d0-d7b4c6107baf\"}, {\"marker\": {\"color\": \"rgb(0,0,255)\", \"colorscale\": \"Viridis\", \"line\": {\"width\": 2}, \"size\": 12, \"symbol\": 1}, \"mode\": \"markers\", \"name\": \"Student_44\", \"text\": [\"Student_44\"], \"x\": [20], \"y\": [72], \"type\": \"scatter\", \"uid\": \"2930eb8a-e40c-11e8-a1d0-d7b4c6107baf\"}, {\"marker\": {\"color\": \"rgb(255,0,0)\", \"colorscale\": \"Viridis\", \"line\": {\"width\": 2}, \"size\": 12, \"symbol\": 0}, \"mode\": \"markers\", \"name\": \"Student_45\", \"text\": [\"Student_45\"], \"x\": [1], \"y\": [33], \"type\": \"scatter\", \"uid\": \"2930ec0c-e40c-11e8-a1d0-d7b4c6107baf\"}, {\"marker\": {\"color\": \"rgb(255,0,0)\", \"colorscale\": \"Viridis\", \"line\": {\"width\": 2}, \"size\": 12, \"symbol\": 0}, \"mode\": \"markers\", \"name\": \"Student_46\", \"text\": [\"Student_46\"], \"x\": [2], \"y\": [36], \"type\": \"scatter\", \"uid\": \"2930ec84-e40c-11e8-a1d0-d7b4c6107baf\"}, {\"marker\": {\"color\": \"rgb(0,255,0)\", \"colorscale\": \"Viridis\", \"line\": {\"width\": 2}, \"size\": 12, \"symbol\": 2}, \"mode\": \"markers\", \"name\": \"Student_47\", \"text\": [\"Student_47\"], \"x\": [21], \"y\": [94], \"type\": \"scatter\", \"uid\": \"2930ed10-e40c-11e8-a1d0-d7b4c6107baf\"}, {\"marker\": {\"color\": \"rgb(255,0,0)\", \"colorscale\": \"Viridis\", \"line\": {\"width\": 2}, \"size\": 12, \"symbol\": 0}, \"mode\": \"markers\", \"name\": \"Student_48\", \"text\": [\"Student_48\"], \"x\": [0], \"y\": [41], \"type\": \"scatter\", \"uid\": \"2930ed88-e40c-11e8-a1d0-d7b4c6107baf\"}, {\"marker\": {\"color\": \"rgb(255,0,0)\", \"colorscale\": \"Viridis\", \"line\": {\"width\": 2}, \"size\": 12, \"symbol\": 0}, \"mode\": \"markers\", \"name\": \"Student_49\", \"text\": [\"Student_49\"], \"x\": [2], \"y\": [37], \"type\": \"scatter\", \"uid\": \"2930ee0a-e40c-11e8-a1d0-d7b4c6107baf\"}, {\"marker\": {\"color\": \"rgb(255,0,0)\", \"colorscale\": \"Viridis\", \"line\": {\"width\": 2}, \"size\": 12, \"symbol\": 0}, \"mode\": \"markers\", \"name\": \"Student_50\", \"text\": [\"Student_50\"], \"x\": [1], \"y\": [26], \"type\": \"scatter\", \"uid\": \"2930ee82-e40c-11e8-a1d0-d7b4c6107baf\"}, {\"marker\": {\"color\": \"rgb(127,0,127)\", \"colorscale\": \"Viridis\", \"line\": {\"width\": 2}, \"size\": 12, \"symbol\": 3}, \"mode\": \"markers\", \"name\": \"Student_51\", \"text\": [\"Student_51\"], \"x\": [0], \"y\": [53], \"type\": \"scatter\", \"uid\": \"2930ef04-e40c-11e8-a1d0-d7b4c6107baf\"}, {\"marker\": {\"color\": \"rgb(255,0,0)\", \"colorscale\": \"Viridis\", \"line\": {\"width\": 2}, \"size\": 12, \"symbol\": 0}, \"mode\": \"markers\", \"name\": \"Student_52\", \"text\": [\"Student_52\"], \"x\": [0], \"y\": [11], \"type\": \"scatter\", \"uid\": \"2930ef7c-e40c-11e8-a1d0-d7b4c6107baf\"}, {\"marker\": {\"color\": \"rgb(127,0,127)\", \"colorscale\": \"Viridis\", \"line\": {\"width\": 2}, \"size\": 12, \"symbol\": 3}, \"mode\": \"markers\", \"name\": \"Student_53\", \"text\": [\"Student_53\"], \"x\": [12], \"y\": [72], \"type\": \"scatter\", \"uid\": \"2930eff4-e40c-11e8-a1d0-d7b4c6107baf\"}, {\"marker\": {\"color\": \"rgb(255,0,0)\", \"colorscale\": \"Viridis\", \"line\": {\"width\": 2}, \"size\": 12, \"symbol\": 0}, \"mode\": \"markers\", \"name\": \"Student_54\", \"text\": [\"Student_54\"], \"x\": [3], \"y\": [21], \"type\": \"scatter\", \"uid\": \"2930f076-e40c-11e8-a1d0-d7b4c6107baf\"}, {\"marker\": {\"color\": \"rgb(127,0,127)\", \"colorscale\": \"Viridis\", \"line\": {\"width\": 2}, \"size\": 12, \"symbol\": 3}, \"mode\": \"markers\", \"name\": \"Student_55\", \"text\": [\"Student_55\"], \"x\": [6], \"y\": [74], \"type\": \"scatter\", \"uid\": \"2930f0ee-e40c-11e8-a1d0-d7b4c6107baf\"}, {\"marker\": {\"color\": \"rgb(0,0,255)\", \"colorscale\": \"Viridis\", \"line\": {\"width\": 2}, \"size\": 12, \"symbol\": 1}, \"mode\": \"markers\", \"name\": \"Student_56\", \"text\": [\"Student_56\"], \"x\": [8], \"y\": [82], \"type\": \"scatter\", \"uid\": \"2930f15c-e40c-11e8-a1d0-d7b4c6107baf\"}, {\"marker\": {\"color\": \"rgb(127,0,127)\", \"colorscale\": \"Viridis\", \"line\": {\"width\": 2}, \"size\": 12, \"symbol\": 3}, \"mode\": \"markers\", \"name\": \"Student_57\", \"text\": [\"Student_57\"], \"x\": [7], \"y\": [64], \"type\": \"scatter\", \"uid\": \"2930f1d4-e40c-11e8-a1d0-d7b4c6107baf\"}, {\"marker\": {\"color\": \"rgb(127,0,127)\", \"colorscale\": \"Viridis\", \"line\": {\"width\": 2}, \"size\": 12, \"symbol\": 3}, \"mode\": \"markers\", \"name\": \"Student_58\", \"text\": [\"Student_58\"], \"x\": [6], \"y\": [67], \"type\": \"scatter\", \"uid\": \"2930f24c-e40c-11e8-a1d0-d7b4c6107baf\"}, {\"marker\": {\"color\": \"rgb(0,0,255)\", \"colorscale\": \"Viridis\", \"line\": {\"width\": 2}, \"size\": 12, \"symbol\": 1}, \"mode\": \"markers\", \"name\": \"Student_59\", \"text\": [\"Student_59\"], \"x\": [15], \"y\": [72], \"type\": \"scatter\", \"uid\": \"2930f2c4-e40c-11e8-a1d0-d7b4c6107baf\"}, {\"marker\": {\"color\": \"rgb(127,0,127)\", \"colorscale\": \"Viridis\", \"line\": {\"width\": 2}, \"size\": 12, \"symbol\": 3}, \"mode\": \"markers\", \"name\": \"Student_60\", \"text\": [\"Student_60\"], \"x\": [2], \"y\": [67], \"type\": \"scatter\", \"uid\": \"2930f332-e40c-11e8-a1d0-d7b4c6107baf\"}], {\"hovermode\": \"closest\", \"showlegend\": true, \"title\": \"Notas dos estudantes vs postagens no f\\u00f3rum\", \"xaxis\": {\"autorange\": false, \"fixedrange\": false, \"range\": [0, 47], \"rangemode\": \"normal\", \"showline\": true, \"title\": \"Postagem no f\\u00f3rum\", \"zeroline\": false}, \"yaxis\": {\"autorange\": false, \"fixedrange\": false, \"range\": [0, 109], \"rangemode\": \"normal\", \"showline\": true, \"title\": \"Notas\"}}, {\"showLink\": true, \"linkText\": \"Export to plot.ly\"})});</script>"
      ],
      "text/vnd.plotly.v1+html": [
       "<div id=\"0316b99e-929e-4359-aef9-3d94045cbb13\" style=\"height: 525px; width: 100%;\" class=\"plotly-graph-div\"></div><script type=\"text/javascript\">require([\"plotly\"], function(Plotly) { window.PLOTLYENV=window.PLOTLYENV || {};window.PLOTLYENV.BASE_URL=\"https://plot.ly\";Plotly.newPlot(\"0316b99e-929e-4359-aef9-3d94045cbb13\", [{\"marker\": {\"color\": \"rgb(255,0,0)\", \"colorscale\": \"Viridis\", \"line\": {\"width\": 2}, \"size\": 12, \"symbol\": 0}, \"mode\": \"markers\", \"name\": \"Student_1\", \"text\": [\"Student_1\"], \"x\": [3], \"y\": [43], \"type\": \"scatter\", \"uid\": \"2930d410-e40c-11e8-a1d0-d7b4c6107baf\"}, {\"marker\": {\"color\": \"rgb(0,255,0)\", \"colorscale\": \"Viridis\", \"line\": {\"width\": 2}, \"size\": 12, \"symbol\": 2}, \"mode\": \"markers\", \"name\": \"Student_2\", \"text\": [\"Student_2\"], \"x\": [29], \"y\": [92], \"type\": \"scatter\", \"uid\": \"2930d5b4-e40c-11e8-a1d0-d7b4c6107baf\"}, {\"marker\": {\"color\": \"rgb(0,0,255)\", \"colorscale\": \"Viridis\", \"line\": {\"width\": 2}, \"size\": 12, \"symbol\": 1}, \"mode\": \"markers\", \"name\": \"Student_3\", \"text\": [\"Student_3\"], \"x\": [11], \"y\": [82], \"type\": \"scatter\", \"uid\": \"2930d672-e40c-11e8-a1d0-d7b4c6107baf\"}, {\"marker\": {\"color\": \"rgb(255,0,0)\", \"colorscale\": \"Viridis\", \"line\": {\"width\": 2}, \"size\": 12, \"symbol\": 0}, \"mode\": \"markers\", \"name\": \"Student_4\", \"text\": [\"Student_4\"], \"x\": [1], \"y\": [48], \"type\": \"scatter\", \"uid\": \"2930d712-e40c-11e8-a1d0-d7b4c6107baf\"}, {\"marker\": {\"color\": \"rgb(127,0,127)\", \"colorscale\": \"Viridis\", \"line\": {\"width\": 2}, \"size\": 12, \"symbol\": 3}, \"mode\": \"markers\", \"name\": \"Student_5\", \"text\": [\"Student_5\"], \"x\": [12], \"y\": [76], \"type\": \"scatter\", \"uid\": \"2930d79e-e40c-11e8-a1d0-d7b4c6107baf\"}, {\"marker\": {\"color\": \"rgb(127,0,127)\", \"colorscale\": \"Viridis\", \"line\": {\"width\": 2}, \"size\": 12, \"symbol\": 3}, \"mode\": \"markers\", \"name\": \"Student_6\", \"text\": [\"Student_6\"], \"x\": [9], \"y\": [62], \"type\": \"scatter\", \"uid\": \"2930d820-e40c-11e8-a1d0-d7b4c6107baf\"}, {\"marker\": {\"color\": \"rgb(0,0,255)\", \"colorscale\": \"Viridis\", \"line\": {\"width\": 2}, \"size\": 12, \"symbol\": 1}, \"mode\": \"markers\", \"name\": \"Student_7\", \"text\": [\"Student_7\"], \"x\": [9], \"y\": [72], \"type\": \"scatter\", \"uid\": \"2930d8a2-e40c-11e8-a1d0-d7b4c6107baf\"}, {\"marker\": {\"color\": \"rgb(0,255,0)\", \"colorscale\": \"Viridis\", \"line\": {\"width\": 2}, \"size\": 12, \"symbol\": 2}, \"mode\": \"markers\", \"name\": \"Student_8\", \"text\": [\"Student_8\"], \"x\": [37], \"y\": [92], \"type\": \"scatter\", \"uid\": \"2930d92e-e40c-11e8-a1d0-d7b4c6107baf\"}, {\"marker\": {\"color\": \"rgb(255,0,0)\", \"colorscale\": \"Viridis\", \"line\": {\"width\": 2}, \"size\": 12, \"symbol\": 0}, \"mode\": \"markers\", \"name\": \"Student_9\", \"text\": [\"Student_9\"], \"x\": [0], \"y\": [40], \"type\": \"scatter\", \"uid\": \"2930d9b0-e40c-11e8-a1d0-d7b4c6107baf\"}, {\"marker\": {\"color\": \"rgb(0,255,0)\", \"colorscale\": \"Viridis\", \"line\": {\"width\": 2}, \"size\": 12, \"symbol\": 2}, \"mode\": \"markers\", \"name\": \"Student_10\", \"text\": [\"Student_10\"], \"x\": [15], \"y\": [83], \"type\": \"scatter\", \"uid\": \"2930da32-e40c-11e8-a1d0-d7b4c6107baf\"}, {\"marker\": {\"color\": \"rgb(127,0,127)\", \"colorscale\": \"Viridis\", \"line\": {\"width\": 2}, \"size\": 12, \"symbol\": 3}, \"mode\": \"markers\", \"name\": \"Student_11\", \"text\": [\"Student_11\"], \"x\": [2], \"y\": [74], \"type\": \"scatter\", \"uid\": \"2930dabe-e40c-11e8-a1d0-d7b4c6107baf\"}, {\"marker\": {\"color\": \"rgb(0,0,255)\", \"colorscale\": \"Viridis\", \"line\": {\"width\": 2}, \"size\": 12, \"symbol\": 1}, \"mode\": \"markers\", \"name\": \"Student_12\", \"text\": [\"Student_12\"], \"x\": [19], \"y\": [79], \"type\": \"scatter\", \"uid\": \"2930db40-e40c-11e8-a1d0-d7b4c6107baf\"}, {\"marker\": {\"color\": \"rgb(0,0,255)\", \"colorscale\": \"Viridis\", \"line\": {\"width\": 2}, \"size\": 12, \"symbol\": 1}, \"mode\": \"markers\", \"name\": \"Student_13\", \"text\": [\"Student_13\"], \"x\": [6], \"y\": [79], \"type\": \"scatter\", \"uid\": \"2930dbc2-e40c-11e8-a1d0-d7b4c6107baf\"}, {\"marker\": {\"color\": \"rgb(255,0,0)\", \"colorscale\": \"Viridis\", \"line\": {\"width\": 2}, \"size\": 12, \"symbol\": 0}, \"mode\": \"markers\", \"name\": \"Student_14\", \"text\": [\"Student_14\"], \"x\": [3], \"y\": [32], \"type\": \"scatter\", \"uid\": \"2930dc44-e40c-11e8-a1d0-d7b4c6107baf\"}, {\"marker\": {\"color\": \"rgb(0,255,0)\", \"colorscale\": \"Viridis\", \"line\": {\"width\": 2}, \"size\": 12, \"symbol\": 2}, \"mode\": \"markers\", \"name\": \"Student_15\", \"text\": [\"Student_15\"], \"x\": [32], \"y\": [89], \"type\": \"scatter\", \"uid\": \"2930dcc6-e40c-11e8-a1d0-d7b4c6107baf\"}, {\"marker\": {\"color\": \"rgb(127,0,127)\", \"colorscale\": \"Viridis\", \"line\": {\"width\": 2}, \"size\": 12, \"symbol\": 3}, \"mode\": \"markers\", \"name\": \"Student_16\", \"text\": [\"Student_16\"], \"x\": [4], \"y\": [61], \"type\": \"scatter\", \"uid\": \"2930dd48-e40c-11e8-a1d0-d7b4c6107baf\"}, {\"marker\": {\"color\": \"rgb(127,0,127)\", \"colorscale\": \"Viridis\", \"line\": {\"width\": 2}, \"size\": 12, \"symbol\": 3}, \"mode\": \"markers\", \"name\": \"Student_17\", \"text\": [\"Student_17\"], \"x\": [8], \"y\": [71], \"type\": \"scatter\", \"uid\": \"2930ddca-e40c-11e8-a1d0-d7b4c6107baf\"}, {\"marker\": {\"color\": \"rgb(127,0,127)\", \"colorscale\": \"Viridis\", \"line\": {\"width\": 2}, \"size\": 12, \"symbol\": 3}, \"mode\": \"markers\", \"name\": \"Student_18\", \"text\": [\"Student_18\"], \"x\": [7], \"y\": [71], \"type\": \"scatter\", \"uid\": \"2930de4c-e40c-11e8-a1d0-d7b4c6107baf\"}, {\"marker\": {\"color\": \"rgb(127,0,127)\", \"colorscale\": \"Viridis\", \"line\": {\"width\": 2}, \"size\": 12, \"symbol\": 3}, \"mode\": \"markers\", \"name\": \"Student_19\", \"text\": [\"Student_19\"], \"x\": [4], \"y\": [62], \"type\": \"scatter\", \"uid\": \"2930dece-e40c-11e8-a1d0-d7b4c6107baf\"}, {\"marker\": {\"color\": \"rgb(255,0,0)\", \"colorscale\": \"Viridis\", \"line\": {\"width\": 2}, \"size\": 12, \"symbol\": 0}, \"mode\": \"markers\", \"name\": \"Student_20\", \"text\": [\"Student_20\"], \"x\": [2], \"y\": [39], \"type\": \"scatter\", \"uid\": \"2930df5a-e40c-11e8-a1d0-d7b4c6107baf\"}, {\"marker\": {\"color\": \"rgb(127,0,127)\", \"colorscale\": \"Viridis\", \"line\": {\"width\": 2}, \"size\": 12, \"symbol\": 3}, \"mode\": \"markers\", \"name\": \"Student_21\", \"text\": [\"Student_21\"], \"x\": [3], \"y\": [69], \"type\": \"scatter\", \"uid\": \"2930dfdc-e40c-11e8-a1d0-d7b4c6107baf\"}, {\"marker\": {\"color\": \"rgb(0,0,255)\", \"colorscale\": \"Viridis\", \"line\": {\"width\": 2}, \"size\": 12, \"symbol\": 1}, \"mode\": \"markers\", \"name\": \"Student_22\", \"text\": [\"Student_22\"], \"x\": [21], \"y\": [84], \"type\": \"scatter\", \"uid\": \"2930e05e-e40c-11e8-a1d0-d7b4c6107baf\"}, {\"marker\": {\"color\": \"rgb(127,0,127)\", \"colorscale\": \"Viridis\", \"line\": {\"width\": 2}, \"size\": 12, \"symbol\": 3}, \"mode\": \"markers\", \"name\": \"Student_23\", \"text\": [\"Student_23\"], \"x\": [2], \"y\": [63], \"type\": \"scatter\", \"uid\": \"2930e0ea-e40c-11e8-a1d0-d7b4c6107baf\"}, {\"marker\": {\"color\": \"rgb(127,0,127)\", \"colorscale\": \"Viridis\", \"line\": {\"width\": 2}, \"size\": 12, \"symbol\": 3}, \"mode\": \"markers\", \"name\": \"Student_24\", \"text\": [\"Student_24\"], \"x\": [7], \"y\": [57], \"type\": \"scatter\", \"uid\": \"2930e16c-e40c-11e8-a1d0-d7b4c6107baf\"}, {\"marker\": {\"color\": \"rgb(0,0,255)\", \"colorscale\": \"Viridis\", \"line\": {\"width\": 2}, \"size\": 12, \"symbol\": 1}, \"mode\": \"markers\", \"name\": \"Student_25\", \"text\": [\"Student_25\"], \"x\": [18], \"y\": [74], \"type\": \"scatter\", \"uid\": \"2930e1ee-e40c-11e8-a1d0-d7b4c6107baf\"}, {\"marker\": {\"color\": \"rgb(127,0,127)\", \"colorscale\": \"Viridis\", \"line\": {\"width\": 2}, \"size\": 12, \"symbol\": 3}, \"mode\": \"markers\", \"name\": \"Student_26\", \"text\": [\"Student_26\"], \"x\": [2], \"y\": [59], \"type\": \"scatter\", \"uid\": \"2930e270-e40c-11e8-a1d0-d7b4c6107baf\"}, {\"marker\": {\"color\": \"rgb(0,255,0)\", \"colorscale\": \"Viridis\", \"line\": {\"width\": 2}, \"size\": 12, \"symbol\": 2}, \"mode\": \"markers\", \"name\": \"Student_27\", \"text\": [\"Student_27\"], \"x\": [32], \"y\": [93], \"type\": \"scatter\", \"uid\": \"2930e2f2-e40c-11e8-a1d0-d7b4c6107baf\"}, {\"marker\": {\"color\": \"rgb(255,0,0)\", \"colorscale\": \"Viridis\", \"line\": {\"width\": 2}, \"size\": 12, \"symbol\": 0}, \"mode\": \"markers\", \"name\": \"Student_28\", \"text\": [\"Student_28\"], \"x\": [0], \"y\": [29], \"type\": \"scatter\", \"uid\": \"2930e374-e40c-11e8-a1d0-d7b4c6107baf\"}, {\"marker\": {\"color\": \"rgb(255,0,0)\", \"colorscale\": \"Viridis\", \"line\": {\"width\": 2}, \"size\": 12, \"symbol\": 0}, \"mode\": \"markers\", \"name\": \"Student_29\", \"text\": [\"Student_29\"], \"x\": [2], \"y\": [22], \"type\": \"scatter\", \"uid\": \"2930e3f6-e40c-11e8-a1d0-d7b4c6107baf\"}, {\"marker\": {\"color\": \"rgb(255,0,0)\", \"colorscale\": \"Viridis\", \"line\": {\"width\": 2}, \"size\": 12, \"symbol\": 0}, \"mode\": \"markers\", \"name\": \"Student_30\", \"text\": [\"Student_30\"], \"x\": [7], \"y\": [53], \"type\": \"scatter\", \"uid\": \"2930e478-e40c-11e8-a1d0-d7b4c6107baf\"}, {\"marker\": {\"color\": \"rgb(255,0,0)\", \"colorscale\": \"Viridis\", \"line\": {\"width\": 2}, \"size\": 12, \"symbol\": 0}, \"mode\": \"markers\", \"name\": \"Student_31\", \"text\": [\"Student_31\"], \"x\": [0], \"y\": [48], \"type\": \"scatter\", \"uid\": \"2930e4fa-e40c-11e8-a1d0-d7b4c6107baf\"}, {\"marker\": {\"color\": \"rgb(127,0,127)\", \"colorscale\": \"Viridis\", \"line\": {\"width\": 2}, \"size\": 12, \"symbol\": 3}, \"mode\": \"markers\", \"name\": \"Student_32\", \"text\": [\"Student_32\"], \"x\": [9], \"y\": [75], \"type\": \"scatter\", \"uid\": \"2930e57c-e40c-11e8-a1d0-d7b4c6107baf\"}, {\"marker\": {\"color\": \"rgb(255,0,0)\", \"colorscale\": \"Viridis\", \"line\": {\"width\": 2}, \"size\": 12, \"symbol\": 0}, \"mode\": \"markers\", \"name\": \"Student_33\", \"text\": [\"Student_33\"], \"x\": [1], \"y\": [27], \"type\": \"scatter\", \"uid\": \"2930e5fe-e40c-11e8-a1d0-d7b4c6107baf\"}, {\"marker\": {\"color\": \"rgb(127,0,127)\", \"colorscale\": \"Viridis\", \"line\": {\"width\": 2}, \"size\": 12, \"symbol\": 3}, \"mode\": \"markers\", \"name\": \"Student_34\", \"text\": [\"Student_34\"], \"x\": [15], \"y\": [73], \"type\": \"scatter\", \"uid\": \"2930e680-e40c-11e8-a1d0-d7b4c6107baf\"}, {\"marker\": {\"color\": \"rgb(255,0,0)\", \"colorscale\": \"Viridis\", \"line\": {\"width\": 2}, \"size\": 12, \"symbol\": 0}, \"mode\": \"markers\", \"name\": \"Student_35\", \"text\": [\"Student_35\"], \"x\": [2], \"y\": [38], \"type\": \"scatter\", \"uid\": \"2930e70c-e40c-11e8-a1d0-d7b4c6107baf\"}, {\"marker\": {\"color\": \"rgb(255,0,0)\", \"colorscale\": \"Viridis\", \"line\": {\"width\": 2}, \"size\": 12, \"symbol\": 0}, \"mode\": \"markers\", \"name\": \"Student_36\", \"text\": [\"Student_36\"], \"x\": [2], \"y\": [36], \"type\": \"scatter\", \"uid\": \"2930e78e-e40c-11e8-a1d0-d7b4c6107baf\"}, {\"marker\": {\"color\": \"rgb(0,0,255)\", \"colorscale\": \"Viridis\", \"line\": {\"width\": 2}, \"size\": 12, \"symbol\": 1}, \"mode\": \"markers\", \"name\": \"Student_37\", \"text\": [\"Student_37\"], \"x\": [9], \"y\": [81], \"type\": \"scatter\", \"uid\": \"2930e806-e40c-11e8-a1d0-d7b4c6107baf\"}, {\"marker\": {\"color\": \"rgb(0,0,255)\", \"colorscale\": \"Viridis\", \"line\": {\"width\": 2}, \"size\": 12, \"symbol\": 1}, \"mode\": \"markers\", \"name\": \"Student_38\", \"text\": [\"Student_38\"], \"x\": [9], \"y\": [84], \"type\": \"scatter\", \"uid\": \"2930e888-e40c-11e8-a1d0-d7b4c6107baf\"}, {\"marker\": {\"color\": \"rgb(255,0,0)\", \"colorscale\": \"Viridis\", \"line\": {\"width\": 2}, \"size\": 12, \"symbol\": 0}, \"mode\": \"markers\", \"name\": \"Student_39\", \"text\": [\"Student_39\"], \"x\": [2], \"y\": [45], \"type\": \"scatter\", \"uid\": \"2930e90a-e40c-11e8-a1d0-d7b4c6107baf\"}, {\"marker\": {\"color\": \"rgb(127,0,127)\", \"colorscale\": \"Viridis\", \"line\": {\"width\": 2}, \"size\": 12, \"symbol\": 3}, \"mode\": \"markers\", \"name\": \"Student_40\", \"text\": [\"Student_40\"], \"x\": [11], \"y\": [70], \"type\": \"scatter\", \"uid\": \"2930e996-e40c-11e8-a1d0-d7b4c6107baf\"}, {\"marker\": {\"color\": \"rgb(0,255,0)\", \"colorscale\": \"Viridis\", \"line\": {\"width\": 2}, \"size\": 12, \"symbol\": 2}, \"mode\": \"markers\", \"name\": \"Student_41\", \"text\": [\"Student_41\"], \"x\": [15], \"y\": [99], \"type\": \"scatter\", \"uid\": \"2930ea0e-e40c-11e8-a1d0-d7b4c6107baf\"}, {\"marker\": {\"color\": \"rgb(0,0,255)\", \"colorscale\": \"Viridis\", \"line\": {\"width\": 2}, \"size\": 12, \"symbol\": 1}, \"mode\": \"markers\", \"name\": \"Student_42\", \"text\": [\"Student_42\"], \"x\": [12], \"y\": [89], \"type\": \"scatter\", \"uid\": \"2930ea90-e40c-11e8-a1d0-d7b4c6107baf\"}, {\"marker\": {\"color\": \"rgb(127,0,127)\", \"colorscale\": \"Viridis\", \"line\": {\"width\": 2}, \"size\": 12, \"symbol\": 3}, \"mode\": \"markers\", \"name\": \"Student_43\", \"text\": [\"Student_43\"], \"x\": [10], \"y\": [69], \"type\": \"scatter\", \"uid\": \"2930eb12-e40c-11e8-a1d0-d7b4c6107baf\"}, {\"marker\": {\"color\": \"rgb(0,0,255)\", \"colorscale\": \"Viridis\", \"line\": {\"width\": 2}, \"size\": 12, \"symbol\": 1}, \"mode\": \"markers\", \"name\": \"Student_44\", \"text\": [\"Student_44\"], \"x\": [20], \"y\": [72], \"type\": \"scatter\", \"uid\": \"2930eb8a-e40c-11e8-a1d0-d7b4c6107baf\"}, {\"marker\": {\"color\": \"rgb(255,0,0)\", \"colorscale\": \"Viridis\", \"line\": {\"width\": 2}, \"size\": 12, \"symbol\": 0}, \"mode\": \"markers\", \"name\": \"Student_45\", \"text\": [\"Student_45\"], \"x\": [1], \"y\": [33], \"type\": \"scatter\", \"uid\": \"2930ec0c-e40c-11e8-a1d0-d7b4c6107baf\"}, {\"marker\": {\"color\": \"rgb(255,0,0)\", \"colorscale\": \"Viridis\", \"line\": {\"width\": 2}, \"size\": 12, \"symbol\": 0}, \"mode\": \"markers\", \"name\": \"Student_46\", \"text\": [\"Student_46\"], \"x\": [2], \"y\": [36], \"type\": \"scatter\", \"uid\": \"2930ec84-e40c-11e8-a1d0-d7b4c6107baf\"}, {\"marker\": {\"color\": \"rgb(0,255,0)\", \"colorscale\": \"Viridis\", \"line\": {\"width\": 2}, \"size\": 12, \"symbol\": 2}, \"mode\": \"markers\", \"name\": \"Student_47\", \"text\": [\"Student_47\"], \"x\": [21], \"y\": [94], \"type\": \"scatter\", \"uid\": \"2930ed10-e40c-11e8-a1d0-d7b4c6107baf\"}, {\"marker\": {\"color\": \"rgb(255,0,0)\", \"colorscale\": \"Viridis\", \"line\": {\"width\": 2}, \"size\": 12, \"symbol\": 0}, \"mode\": \"markers\", \"name\": \"Student_48\", \"text\": [\"Student_48\"], \"x\": [0], \"y\": [41], \"type\": \"scatter\", \"uid\": \"2930ed88-e40c-11e8-a1d0-d7b4c6107baf\"}, {\"marker\": {\"color\": \"rgb(255,0,0)\", \"colorscale\": \"Viridis\", \"line\": {\"width\": 2}, \"size\": 12, \"symbol\": 0}, \"mode\": \"markers\", \"name\": \"Student_49\", \"text\": [\"Student_49\"], \"x\": [2], \"y\": [37], \"type\": \"scatter\", \"uid\": \"2930ee0a-e40c-11e8-a1d0-d7b4c6107baf\"}, {\"marker\": {\"color\": \"rgb(255,0,0)\", \"colorscale\": \"Viridis\", \"line\": {\"width\": 2}, \"size\": 12, \"symbol\": 0}, \"mode\": \"markers\", \"name\": \"Student_50\", \"text\": [\"Student_50\"], \"x\": [1], \"y\": [26], \"type\": \"scatter\", \"uid\": \"2930ee82-e40c-11e8-a1d0-d7b4c6107baf\"}, {\"marker\": {\"color\": \"rgb(127,0,127)\", \"colorscale\": \"Viridis\", \"line\": {\"width\": 2}, \"size\": 12, \"symbol\": 3}, \"mode\": \"markers\", \"name\": \"Student_51\", \"text\": [\"Student_51\"], \"x\": [0], \"y\": [53], \"type\": \"scatter\", \"uid\": \"2930ef04-e40c-11e8-a1d0-d7b4c6107baf\"}, {\"marker\": {\"color\": \"rgb(255,0,0)\", \"colorscale\": \"Viridis\", \"line\": {\"width\": 2}, \"size\": 12, \"symbol\": 0}, \"mode\": \"markers\", \"name\": \"Student_52\", \"text\": [\"Student_52\"], \"x\": [0], \"y\": [11], \"type\": \"scatter\", \"uid\": \"2930ef7c-e40c-11e8-a1d0-d7b4c6107baf\"}, {\"marker\": {\"color\": \"rgb(127,0,127)\", \"colorscale\": \"Viridis\", \"line\": {\"width\": 2}, \"size\": 12, \"symbol\": 3}, \"mode\": \"markers\", \"name\": \"Student_53\", \"text\": [\"Student_53\"], \"x\": [12], \"y\": [72], \"type\": \"scatter\", \"uid\": \"2930eff4-e40c-11e8-a1d0-d7b4c6107baf\"}, {\"marker\": {\"color\": \"rgb(255,0,0)\", \"colorscale\": \"Viridis\", \"line\": {\"width\": 2}, \"size\": 12, \"symbol\": 0}, \"mode\": \"markers\", \"name\": \"Student_54\", \"text\": [\"Student_54\"], \"x\": [3], \"y\": [21], \"type\": \"scatter\", \"uid\": \"2930f076-e40c-11e8-a1d0-d7b4c6107baf\"}, {\"marker\": {\"color\": \"rgb(127,0,127)\", \"colorscale\": \"Viridis\", \"line\": {\"width\": 2}, \"size\": 12, \"symbol\": 3}, \"mode\": \"markers\", \"name\": \"Student_55\", \"text\": [\"Student_55\"], \"x\": [6], \"y\": [74], \"type\": \"scatter\", \"uid\": \"2930f0ee-e40c-11e8-a1d0-d7b4c6107baf\"}, {\"marker\": {\"color\": \"rgb(0,0,255)\", \"colorscale\": \"Viridis\", \"line\": {\"width\": 2}, \"size\": 12, \"symbol\": 1}, \"mode\": \"markers\", \"name\": \"Student_56\", \"text\": [\"Student_56\"], \"x\": [8], \"y\": [82], \"type\": \"scatter\", \"uid\": \"2930f15c-e40c-11e8-a1d0-d7b4c6107baf\"}, {\"marker\": {\"color\": \"rgb(127,0,127)\", \"colorscale\": \"Viridis\", \"line\": {\"width\": 2}, \"size\": 12, \"symbol\": 3}, \"mode\": \"markers\", \"name\": \"Student_57\", \"text\": [\"Student_57\"], \"x\": [7], \"y\": [64], \"type\": \"scatter\", \"uid\": \"2930f1d4-e40c-11e8-a1d0-d7b4c6107baf\"}, {\"marker\": {\"color\": \"rgb(127,0,127)\", \"colorscale\": \"Viridis\", \"line\": {\"width\": 2}, \"size\": 12, \"symbol\": 3}, \"mode\": \"markers\", \"name\": \"Student_58\", \"text\": [\"Student_58\"], \"x\": [6], \"y\": [67], \"type\": \"scatter\", \"uid\": \"2930f24c-e40c-11e8-a1d0-d7b4c6107baf\"}, {\"marker\": {\"color\": \"rgb(0,0,255)\", \"colorscale\": \"Viridis\", \"line\": {\"width\": 2}, \"size\": 12, \"symbol\": 1}, \"mode\": \"markers\", \"name\": \"Student_59\", \"text\": [\"Student_59\"], \"x\": [15], \"y\": [72], \"type\": \"scatter\", \"uid\": \"2930f2c4-e40c-11e8-a1d0-d7b4c6107baf\"}, {\"marker\": {\"color\": \"rgb(127,0,127)\", \"colorscale\": \"Viridis\", \"line\": {\"width\": 2}, \"size\": 12, \"symbol\": 3}, \"mode\": \"markers\", \"name\": \"Student_60\", \"text\": [\"Student_60\"], \"x\": [2], \"y\": [67], \"type\": \"scatter\", \"uid\": \"2930f332-e40c-11e8-a1d0-d7b4c6107baf\"}], {\"hovermode\": \"closest\", \"showlegend\": true, \"title\": \"Notas dos estudantes vs postagens no f\\u00f3rum\", \"xaxis\": {\"autorange\": false, \"fixedrange\": false, \"range\": [0, 47], \"rangemode\": \"normal\", \"showline\": true, \"title\": \"Postagem no f\\u00f3rum\", \"zeroline\": false}, \"yaxis\": {\"autorange\": false, \"fixedrange\": false, \"range\": [0, 109], \"rangemode\": \"normal\", \"showline\": true, \"title\": \"Notas\"}}, {\"showLink\": true, \"linkText\": \"Export to plot.ly\"})});</script>"
      ]
     },
     "metadata": {},
     "output_type": "display_data"
    },
    {
     "data": {
      "application/vnd.plotly.v1+json": {
       "data": [
        {
         "marker": {
          "color": "rgb(255,0,0)",
          "colorscale": "Viridis",
          "line": {
           "width": 2
          },
          "size": 12,
          "symbol": 0
         },
         "mode": "markers",
         "name": "Student_1",
         "text": [
          "Student_1"
         ],
         "type": "scatter",
         "uid": "2970115c-e40c-11e8-a1d0-d7b4c6107baf",
         "x": [
          1
         ],
         "y": [
          43
         ]
        },
        {
         "marker": {
          "color": "rgb(0,255,0)",
          "colorscale": "Viridis",
          "line": {
           "width": 2
          },
          "size": 12,
          "symbol": 2
         },
         "mode": "markers",
         "name": "Student_2",
         "text": [
          "Student_2"
         ],
         "type": "scatter",
         "uid": "29701300-e40c-11e8-a1d0-d7b4c6107baf",
         "x": [
          25
         ],
         "y": [
          92
         ]
        },
        {
         "marker": {
          "color": "rgb(0,0,255)",
          "colorscale": "Viridis",
          "line": {
           "width": 2
          },
          "size": 12,
          "symbol": 1
         },
         "mode": "markers",
         "name": "Student_3",
         "text": [
          "Student_3"
         ],
         "type": "scatter",
         "uid": "297013be-e40c-11e8-a1d0-d7b4c6107baf",
         "x": [
          5
         ],
         "y": [
          82
         ]
        },
        {
         "marker": {
          "color": "rgb(255,0,0)",
          "colorscale": "Viridis",
          "line": {
           "width": 2
          },
          "size": 12,
          "symbol": 0
         },
         "mode": "markers",
         "name": "Student_4",
         "text": [
          "Student_4"
         ],
         "type": "scatter",
         "uid": "2970145e-e40c-11e8-a1d0-d7b4c6107baf",
         "x": [
          1
         ],
         "y": [
          48
         ]
        },
        {
         "marker": {
          "color": "rgb(127,0,127)",
          "colorscale": "Viridis",
          "line": {
           "width": 2
          },
          "size": 12,
          "symbol": 3
         },
         "mode": "markers",
         "name": "Student_5",
         "text": [
          "Student_5"
         ],
         "type": "scatter",
         "uid": "297014ea-e40c-11e8-a1d0-d7b4c6107baf",
         "x": [
          3
         ],
         "y": [
          76
         ]
        },
        {
         "marker": {
          "color": "rgb(127,0,127)",
          "colorscale": "Viridis",
          "line": {
           "width": 2
          },
          "size": 12,
          "symbol": 3
         },
         "mode": "markers",
         "name": "Student_6",
         "text": [
          "Student_6"
         ],
         "type": "scatter",
         "uid": "29701576-e40c-11e8-a1d0-d7b4c6107baf",
         "x": [
          7
         ],
         "y": [
          62
         ]
        },
        {
         "marker": {
          "color": "rgb(0,0,255)",
          "colorscale": "Viridis",
          "line": {
           "width": 2
          },
          "size": 12,
          "symbol": 1
         },
         "mode": "markers",
         "name": "Student_7",
         "text": [
          "Student_7"
         ],
         "type": "scatter",
         "uid": "297015f8-e40c-11e8-a1d0-d7b4c6107baf",
         "x": [
          19
         ],
         "y": [
          72
         ]
        },
        {
         "marker": {
          "color": "rgb(0,255,0)",
          "colorscale": "Viridis",
          "line": {
           "width": 2
          },
          "size": 12,
          "symbol": 2
         },
         "mode": "markers",
         "name": "Student_8",
         "text": [
          "Student_8"
         ],
         "type": "scatter",
         "uid": "2970167a-e40c-11e8-a1d0-d7b4c6107baf",
         "x": [
          36
         ],
         "y": [
          92
         ]
        },
        {
         "marker": {
          "color": "rgb(255,0,0)",
          "colorscale": "Viridis",
          "line": {
           "width": 2
          },
          "size": 12,
          "symbol": 0
         },
         "mode": "markers",
         "name": "Student_9",
         "text": [
          "Student_9"
         ],
         "type": "scatter",
         "uid": "297016fc-e40c-11e8-a1d0-d7b4c6107baf",
         "x": [
          2
         ],
         "y": [
          40
         ]
        },
        {
         "marker": {
          "color": "rgb(0,255,0)",
          "colorscale": "Viridis",
          "line": {
           "width": 2
          },
          "size": 12,
          "symbol": 2
         },
         "mode": "markers",
         "name": "Student_10",
         "text": [
          "Student_10"
         ],
         "type": "scatter",
         "uid": "29701788-e40c-11e8-a1d0-d7b4c6107baf",
         "x": [
          35
         ],
         "y": [
          83
         ]
        },
        {
         "marker": {
          "color": "rgb(127,0,127)",
          "colorscale": "Viridis",
          "line": {
           "width": 2
          },
          "size": 12,
          "symbol": 3
         },
         "mode": "markers",
         "name": "Student_11",
         "text": [
          "Student_11"
         ],
         "type": "scatter",
         "uid": "2970180a-e40c-11e8-a1d0-d7b4c6107baf",
         "x": [
          4
         ],
         "y": [
          74
         ]
        },
        {
         "marker": {
          "color": "rgb(0,0,255)",
          "colorscale": "Viridis",
          "line": {
           "width": 2
          },
          "size": 12,
          "symbol": 1
         },
         "mode": "markers",
         "name": "Student_12",
         "text": [
          "Student_12"
         ],
         "type": "scatter",
         "uid": "2970188c-e40c-11e8-a1d0-d7b4c6107baf",
         "x": [
          4
         ],
         "y": [
          79
         ]
        },
        {
         "marker": {
          "color": "rgb(0,0,255)",
          "colorscale": "Viridis",
          "line": {
           "width": 2
          },
          "size": 12,
          "symbol": 1
         },
         "mode": "markers",
         "name": "Student_13",
         "text": [
          "Student_13"
         ],
         "type": "scatter",
         "uid": "29701918-e40c-11e8-a1d0-d7b4c6107baf",
         "x": [
          18
         ],
         "y": [
          79
         ]
        },
        {
         "marker": {
          "color": "rgb(255,0,0)",
          "colorscale": "Viridis",
          "line": {
           "width": 2
          },
          "size": 12,
          "symbol": 0
         },
         "mode": "markers",
         "name": "Student_14",
         "text": [
          "Student_14"
         ],
         "type": "scatter",
         "uid": "2970199a-e40c-11e8-a1d0-d7b4c6107baf",
         "x": [
          2
         ],
         "y": [
          32
         ]
        },
        {
         "marker": {
          "color": "rgb(0,255,0)",
          "colorscale": "Viridis",
          "line": {
           "width": 2
          },
          "size": 12,
          "symbol": 2
         },
         "mode": "markers",
         "name": "Student_15",
         "text": [
          "Student_15"
         ],
         "type": "scatter",
         "uid": "29701a1c-e40c-11e8-a1d0-d7b4c6107baf",
         "x": [
          33
         ],
         "y": [
          89
         ]
        },
        {
         "marker": {
          "color": "rgb(127,0,127)",
          "colorscale": "Viridis",
          "line": {
           "width": 2
          },
          "size": 12,
          "symbol": 3
         },
         "mode": "markers",
         "name": "Student_16",
         "text": [
          "Student_16"
         ],
         "type": "scatter",
         "uid": "29701a9e-e40c-11e8-a1d0-d7b4c6107baf",
         "x": [
          7
         ],
         "y": [
          61
         ]
        },
        {
         "marker": {
          "color": "rgb(127,0,127)",
          "colorscale": "Viridis",
          "line": {
           "width": 2
          },
          "size": 12,
          "symbol": 3
         },
         "mode": "markers",
         "name": "Student_17",
         "text": [
          "Student_17"
         ],
         "type": "scatter",
         "uid": "29701b20-e40c-11e8-a1d0-d7b4c6107baf",
         "x": [
          6
         ],
         "y": [
          71
         ]
        },
        {
         "marker": {
          "color": "rgb(127,0,127)",
          "colorscale": "Viridis",
          "line": {
           "width": 2
          },
          "size": 12,
          "symbol": 3
         },
         "mode": "markers",
         "name": "Student_18",
         "text": [
          "Student_18"
         ],
         "type": "scatter",
         "uid": "29701ba2-e40c-11e8-a1d0-d7b4c6107baf",
         "x": [
          4
         ],
         "y": [
          71
         ]
        },
        {
         "marker": {
          "color": "rgb(127,0,127)",
          "colorscale": "Viridis",
          "line": {
           "width": 2
          },
          "size": 12,
          "symbol": 3
         },
         "mode": "markers",
         "name": "Student_19",
         "text": [
          "Student_19"
         ],
         "type": "scatter",
         "uid": "29701c2e-e40c-11e8-a1d0-d7b4c6107baf",
         "x": [
          6
         ],
         "y": [
          62
         ]
        },
        {
         "marker": {
          "color": "rgb(255,0,0)",
          "colorscale": "Viridis",
          "line": {
           "width": 2
          },
          "size": 12,
          "symbol": 0
         },
         "mode": "markers",
         "name": "Student_20",
         "text": [
          "Student_20"
         ],
         "type": "scatter",
         "uid": "29701ca6-e40c-11e8-a1d0-d7b4c6107baf",
         "x": [
          1
         ],
         "y": [
          39
         ]
        },
        {
         "marker": {
          "color": "rgb(127,0,127)",
          "colorscale": "Viridis",
          "line": {
           "width": 2
          },
          "size": 12,
          "symbol": 3
         },
         "mode": "markers",
         "name": "Student_21",
         "text": [
          "Student_21"
         ],
         "type": "scatter",
         "uid": "29701d28-e40c-11e8-a1d0-d7b4c6107baf",
         "x": [
          2
         ],
         "y": [
          69
         ]
        },
        {
         "marker": {
          "color": "rgb(0,0,255)",
          "colorscale": "Viridis",
          "line": {
           "width": 2
          },
          "size": 12,
          "symbol": 1
         },
         "mode": "markers",
         "name": "Student_22",
         "text": [
          "Student_22"
         ],
         "type": "scatter",
         "uid": "29701daa-e40c-11e8-a1d0-d7b4c6107baf",
         "x": [
          19
         ],
         "y": [
          84
         ]
        },
        {
         "marker": {
          "color": "rgb(127,0,127)",
          "colorscale": "Viridis",
          "line": {
           "width": 2
          },
          "size": 12,
          "symbol": 3
         },
         "mode": "markers",
         "name": "Student_23",
         "text": [
          "Student_23"
         ],
         "type": "scatter",
         "uid": "29701e2c-e40c-11e8-a1d0-d7b4c6107baf",
         "x": [
          11
         ],
         "y": [
          63
         ]
        },
        {
         "marker": {
          "color": "rgb(127,0,127)",
          "colorscale": "Viridis",
          "line": {
           "width": 2
          },
          "size": 12,
          "symbol": 3
         },
         "mode": "markers",
         "name": "Student_24",
         "text": [
          "Student_24"
         ],
         "type": "scatter",
         "uid": "29701eae-e40c-11e8-a1d0-d7b4c6107baf",
         "x": [
          4
         ],
         "y": [
          57
         ]
        },
        {
         "marker": {
          "color": "rgb(0,0,255)",
          "colorscale": "Viridis",
          "line": {
           "width": 2
          },
          "size": 12,
          "symbol": 1
         },
         "mode": "markers",
         "name": "Student_25",
         "text": [
          "Student_25"
         ],
         "type": "scatter",
         "uid": "29701f30-e40c-11e8-a1d0-d7b4c6107baf",
         "x": [
          17
         ],
         "y": [
          74
         ]
        },
        {
         "marker": {
          "color": "rgb(127,0,127)",
          "colorscale": "Viridis",
          "line": {
           "width": 2
          },
          "size": 12,
          "symbol": 3
         },
         "mode": "markers",
         "name": "Student_26",
         "text": [
          "Student_26"
         ],
         "type": "scatter",
         "uid": "29701fbc-e40c-11e8-a1d0-d7b4c6107baf",
         "x": [
          3
         ],
         "y": [
          59
         ]
        },
        {
         "marker": {
          "color": "rgb(0,255,0)",
          "colorscale": "Viridis",
          "line": {
           "width": 2
          },
          "size": 12,
          "symbol": 2
         },
         "mode": "markers",
         "name": "Student_27",
         "text": [
          "Student_27"
         ],
         "type": "scatter",
         "uid": "2970203e-e40c-11e8-a1d0-d7b4c6107baf",
         "x": [
          18
         ],
         "y": [
          93
         ]
        },
        {
         "marker": {
          "color": "rgb(255,0,0)",
          "colorscale": "Viridis",
          "line": {
           "width": 2
          },
          "size": 12,
          "symbol": 0
         },
         "mode": "markers",
         "name": "Student_28",
         "text": [
          "Student_28"
         ],
         "type": "scatter",
         "uid": "297020c0-e40c-11e8-a1d0-d7b4c6107baf",
         "x": [
          2
         ],
         "y": [
          29
         ]
        },
        {
         "marker": {
          "color": "rgb(255,0,0)",
          "colorscale": "Viridis",
          "line": {
           "width": 2
          },
          "size": 12,
          "symbol": 0
         },
         "mode": "markers",
         "name": "Student_29",
         "text": [
          "Student_29"
         ],
         "type": "scatter",
         "uid": "29702142-e40c-11e8-a1d0-d7b4c6107baf",
         "x": [
          0
         ],
         "y": [
          22
         ]
        },
        {
         "marker": {
          "color": "rgb(255,0,0)",
          "colorscale": "Viridis",
          "line": {
           "width": 2
          },
          "size": 12,
          "symbol": 0
         },
         "mode": "markers",
         "name": "Student_30",
         "text": [
          "Student_30"
         ],
         "type": "scatter",
         "uid": "297021c4-e40c-11e8-a1d0-d7b4c6107baf",
         "x": [
          5
         ],
         "y": [
          53
         ]
        },
        {
         "marker": {
          "color": "rgb(255,0,0)",
          "colorscale": "Viridis",
          "line": {
           "width": 2
          },
          "size": 12,
          "symbol": 0
         },
         "mode": "markers",
         "name": "Student_31",
         "text": [
          "Student_31"
         ],
         "type": "scatter",
         "uid": "29702246-e40c-11e8-a1d0-d7b4c6107baf",
         "x": [
          3
         ],
         "y": [
          48
         ]
        },
        {
         "marker": {
          "color": "rgb(127,0,127)",
          "colorscale": "Viridis",
          "line": {
           "width": 2
          },
          "size": 12,
          "symbol": 3
         },
         "mode": "markers",
         "name": "Student_32",
         "text": [
          "Student_32"
         ],
         "type": "scatter",
         "uid": "297022c8-e40c-11e8-a1d0-d7b4c6107baf",
         "x": [
          3
         ],
         "y": [
          75
         ]
        },
        {
         "marker": {
          "color": "rgb(255,0,0)",
          "colorscale": "Viridis",
          "line": {
           "width": 2
          },
          "size": 12,
          "symbol": 0
         },
         "mode": "markers",
         "name": "Student_33",
         "text": [
          "Student_33"
         ],
         "type": "scatter",
         "uid": "2970234a-e40c-11e8-a1d0-d7b4c6107baf",
         "x": [
          0
         ],
         "y": [
          27
         ]
        },
        {
         "marker": {
          "color": "rgb(127,0,127)",
          "colorscale": "Viridis",
          "line": {
           "width": 2
          },
          "size": 12,
          "symbol": 3
         },
         "mode": "markers",
         "name": "Student_34",
         "text": [
          "Student_34"
         ],
         "type": "scatter",
         "uid": "29702462-e40c-11e8-a1d0-d7b4c6107baf",
         "x": [
          3
         ],
         "y": [
          73
         ]
        },
        {
         "marker": {
          "color": "rgb(255,0,0)",
          "colorscale": "Viridis",
          "line": {
           "width": 2
          },
          "size": 12,
          "symbol": 0
         },
         "mode": "markers",
         "name": "Student_35",
         "text": [
          "Student_35"
         ],
         "type": "scatter",
         "uid": "297024ee-e40c-11e8-a1d0-d7b4c6107baf",
         "x": [
          1
         ],
         "y": [
          38
         ]
        },
        {
         "marker": {
          "color": "rgb(255,0,0)",
          "colorscale": "Viridis",
          "line": {
           "width": 2
          },
          "size": 12,
          "symbol": 0
         },
         "mode": "markers",
         "name": "Student_36",
         "text": [
          "Student_36"
         ],
         "type": "scatter",
         "uid": "29702570-e40c-11e8-a1d0-d7b4c6107baf",
         "x": [
          0
         ],
         "y": [
          36
         ]
        },
        {
         "marker": {
          "color": "rgb(0,0,255)",
          "colorscale": "Viridis",
          "line": {
           "width": 2
          },
          "size": 12,
          "symbol": 1
         },
         "mode": "markers",
         "name": "Student_37",
         "text": [
          "Student_37"
         ],
         "type": "scatter",
         "uid": "297025fc-e40c-11e8-a1d0-d7b4c6107baf",
         "x": [
          14
         ],
         "y": [
          81
         ]
        },
        {
         "marker": {
          "color": "rgb(0,0,255)",
          "colorscale": "Viridis",
          "line": {
           "width": 2
          },
          "size": 12,
          "symbol": 1
         },
         "mode": "markers",
         "name": "Student_38",
         "text": [
          "Student_38"
         ],
         "type": "scatter",
         "uid": "2970267e-e40c-11e8-a1d0-d7b4c6107baf",
         "x": [
          8
         ],
         "y": [
          84
         ]
        },
        {
         "marker": {
          "color": "rgb(255,0,0)",
          "colorscale": "Viridis",
          "line": {
           "width": 2
          },
          "size": 12,
          "symbol": 0
         },
         "mode": "markers",
         "name": "Student_39",
         "text": [
          "Student_39"
         ],
         "type": "scatter",
         "uid": "29702700-e40c-11e8-a1d0-d7b4c6107baf",
         "x": [
          0
         ],
         "y": [
          45
         ]
        },
        {
         "marker": {
          "color": "rgb(127,0,127)",
          "colorscale": "Viridis",
          "line": {
           "width": 2
          },
          "size": 12,
          "symbol": 3
         },
         "mode": "markers",
         "name": "Student_40",
         "text": [
          "Student_40"
         ],
         "type": "scatter",
         "uid": "29702782-e40c-11e8-a1d0-d7b4c6107baf",
         "x": [
          4
         ],
         "y": [
          70
         ]
        },
        {
         "marker": {
          "color": "rgb(0,255,0)",
          "colorscale": "Viridis",
          "line": {
           "width": 2
          },
          "size": 12,
          "symbol": 2
         },
         "mode": "markers",
         "name": "Student_41",
         "text": [
          "Student_41"
         ],
         "type": "scatter",
         "uid": "29702804-e40c-11e8-a1d0-d7b4c6107baf",
         "x": [
          39
         ],
         "y": [
          99
         ]
        },
        {
         "marker": {
          "color": "rgb(0,0,255)",
          "colorscale": "Viridis",
          "line": {
           "width": 2
          },
          "size": 12,
          "symbol": 1
         },
         "mode": "markers",
         "name": "Student_42",
         "text": [
          "Student_42"
         ],
         "type": "scatter",
         "uid": "29702886-e40c-11e8-a1d0-d7b4c6107baf",
         "x": [
          14
         ],
         "y": [
          89
         ]
        },
        {
         "marker": {
          "color": "rgb(127,0,127)",
          "colorscale": "Viridis",
          "line": {
           "width": 2
          },
          "size": 12,
          "symbol": 3
         },
         "mode": "markers",
         "name": "Student_43",
         "text": [
          "Student_43"
         ],
         "type": "scatter",
         "uid": "29702912-e40c-11e8-a1d0-d7b4c6107baf",
         "x": [
          11
         ],
         "y": [
          69
         ]
        },
        {
         "marker": {
          "color": "rgb(0,0,255)",
          "colorscale": "Viridis",
          "line": {
           "width": 2
          },
          "size": 12,
          "symbol": 1
         },
         "mode": "markers",
         "name": "Student_44",
         "text": [
          "Student_44"
         ],
         "type": "scatter",
         "uid": "29702994-e40c-11e8-a1d0-d7b4c6107baf",
         "x": [
          18
         ],
         "y": [
          72
         ]
        },
        {
         "marker": {
          "color": "rgb(255,0,0)",
          "colorscale": "Viridis",
          "line": {
           "width": 2
          },
          "size": 12,
          "symbol": 0
         },
         "mode": "markers",
         "name": "Student_45",
         "text": [
          "Student_45"
         ],
         "type": "scatter",
         "uid": "29702a16-e40c-11e8-a1d0-d7b4c6107baf",
         "x": [
          3
         ],
         "y": [
          33
         ]
        },
        {
         "marker": {
          "color": "rgb(255,0,0)",
          "colorscale": "Viridis",
          "line": {
           "width": 2
          },
          "size": 12,
          "symbol": 0
         },
         "mode": "markers",
         "name": "Student_46",
         "text": [
          "Student_46"
         ],
         "type": "scatter",
         "uid": "29702a98-e40c-11e8-a1d0-d7b4c6107baf",
         "x": [
          2
         ],
         "y": [
          36
         ]
        },
        {
         "marker": {
          "color": "rgb(0,255,0)",
          "colorscale": "Viridis",
          "line": {
           "width": 2
          },
          "size": 12,
          "symbol": 2
         },
         "mode": "markers",
         "name": "Student_47",
         "text": [
          "Student_47"
         ],
         "type": "scatter",
         "uid": "29702b1a-e40c-11e8-a1d0-d7b4c6107baf",
         "x": [
          34
         ],
         "y": [
          94
         ]
        },
        {
         "marker": {
          "color": "rgb(255,0,0)",
          "colorscale": "Viridis",
          "line": {
           "width": 2
          },
          "size": 12,
          "symbol": 0
         },
         "mode": "markers",
         "name": "Student_48",
         "text": [
          "Student_48"
         ],
         "type": "scatter",
         "uid": "29702b9c-e40c-11e8-a1d0-d7b4c6107baf",
         "x": [
          1
         ],
         "y": [
          41
         ]
        },
        {
         "marker": {
          "color": "rgb(255,0,0)",
          "colorscale": "Viridis",
          "line": {
           "width": 2
          },
          "size": 12,
          "symbol": 0
         },
         "mode": "markers",
         "name": "Student_49",
         "text": [
          "Student_49"
         ],
         "type": "scatter",
         "uid": "29702c14-e40c-11e8-a1d0-d7b4c6107baf",
         "x": [
          3
         ],
         "y": [
          37
         ]
        },
        {
         "marker": {
          "color": "rgb(255,0,0)",
          "colorscale": "Viridis",
          "line": {
           "width": 2
          },
          "size": 12,
          "symbol": 0
         },
         "mode": "markers",
         "name": "Student_50",
         "text": [
          "Student_50"
         ],
         "type": "scatter",
         "uid": "29702c8c-e40c-11e8-a1d0-d7b4c6107baf",
         "x": [
          0
         ],
         "y": [
          26
         ]
        },
        {
         "marker": {
          "color": "rgb(127,0,127)",
          "colorscale": "Viridis",
          "line": {
           "width": 2
          },
          "size": 12,
          "symbol": 3
         },
         "mode": "markers",
         "name": "Student_51",
         "text": [
          "Student_51"
         ],
         "type": "scatter",
         "uid": "29702d0e-e40c-11e8-a1d0-d7b4c6107baf",
         "x": [
          0
         ],
         "y": [
          53
         ]
        },
        {
         "marker": {
          "color": "rgb(255,0,0)",
          "colorscale": "Viridis",
          "line": {
           "width": 2
          },
          "size": 12,
          "symbol": 0
         },
         "mode": "markers",
         "name": "Student_52",
         "text": [
          "Student_52"
         ],
         "type": "scatter",
         "uid": "29702d86-e40c-11e8-a1d0-d7b4c6107baf",
         "x": [
          0
         ],
         "y": [
          11
         ]
        },
        {
         "marker": {
          "color": "rgb(127,0,127)",
          "colorscale": "Viridis",
          "line": {
           "width": 2
          },
          "size": 12,
          "symbol": 3
         },
         "mode": "markers",
         "name": "Student_53",
         "text": [
          "Student_53"
         ],
         "type": "scatter",
         "uid": "29702dfe-e40c-11e8-a1d0-d7b4c6107baf",
         "x": [
          8
         ],
         "y": [
          72
         ]
        },
        {
         "marker": {
          "color": "rgb(255,0,0)",
          "colorscale": "Viridis",
          "line": {
           "width": 2
          },
          "size": 12,
          "symbol": 0
         },
         "mode": "markers",
         "name": "Student_54",
         "text": [
          "Student_54"
         ],
         "type": "scatter",
         "uid": "29702e76-e40c-11e8-a1d0-d7b4c6107baf",
         "x": [
          2
         ],
         "y": [
          21
         ]
        },
        {
         "marker": {
          "color": "rgb(127,0,127)",
          "colorscale": "Viridis",
          "line": {
           "width": 2
          },
          "size": 12,
          "symbol": 3
         },
         "mode": "markers",
         "name": "Student_55",
         "text": [
          "Student_55"
         ],
         "type": "scatter",
         "uid": "29702eee-e40c-11e8-a1d0-d7b4c6107baf",
         "x": [
          13
         ],
         "y": [
          74
         ]
        },
        {
         "marker": {
          "color": "rgb(0,0,255)",
          "colorscale": "Viridis",
          "line": {
           "width": 2
          },
          "size": 12,
          "symbol": 1
         },
         "mode": "markers",
         "name": "Student_56",
         "text": [
          "Student_56"
         ],
         "type": "scatter",
         "uid": "29702f70-e40c-11e8-a1d0-d7b4c6107baf",
         "x": [
          15
         ],
         "y": [
          82
         ]
        },
        {
         "marker": {
          "color": "rgb(127,0,127)",
          "colorscale": "Viridis",
          "line": {
           "width": 2
          },
          "size": 12,
          "symbol": 3
         },
         "mode": "markers",
         "name": "Student_57",
         "text": [
          "Student_57"
         ],
         "type": "scatter",
         "uid": "29702fe8-e40c-11e8-a1d0-d7b4c6107baf",
         "x": [
          0
         ],
         "y": [
          64
         ]
        },
        {
         "marker": {
          "color": "rgb(127,0,127)",
          "colorscale": "Viridis",
          "line": {
           "width": 2
          },
          "size": 12,
          "symbol": 3
         },
         "mode": "markers",
         "name": "Student_58",
         "text": [
          "Student_58"
         ],
         "type": "scatter",
         "uid": "29703060-e40c-11e8-a1d0-d7b4c6107baf",
         "x": [
          9
         ],
         "y": [
          67
         ]
        },
        {
         "marker": {
          "color": "rgb(0,0,255)",
          "colorscale": "Viridis",
          "line": {
           "width": 2
          },
          "size": 12,
          "symbol": 1
         },
         "mode": "markers",
         "name": "Student_59",
         "text": [
          "Student_59"
         ],
         "type": "scatter",
         "uid": "297030e2-e40c-11e8-a1d0-d7b4c6107baf",
         "x": [
          11
         ],
         "y": [
          72
         ]
        },
        {
         "marker": {
          "color": "rgb(127,0,127)",
          "colorscale": "Viridis",
          "line": {
           "width": 2
          },
          "size": 12,
          "symbol": 3
         },
         "mode": "markers",
         "name": "Student_60",
         "text": [
          "Student_60"
         ],
         "type": "scatter",
         "uid": "29703150-e40c-11e8-a1d0-d7b4c6107baf",
         "x": [
          10
         ],
         "y": [
          67
         ]
        }
       ],
       "layout": {
        "hovermode": "closest",
        "showlegend": true,
        "title": "Notas dos estudantes vs postagens respondidas no fórum",
        "xaxis": {
         "autorange": false,
         "fixedrange": false,
         "range": [
          0,
          49
         ],
         "rangemode": "normal",
         "showline": true,
         "title": "Postagens respondidas no fórum",
         "zeroline": false
        },
        "yaxis": {
         "autorange": false,
         "fixedrange": false,
         "range": [
          0,
          109
         ],
         "rangemode": "normal",
         "showline": true,
         "title": "Notas"
        }
       }
      },
      "text/html": [
       "<div id=\"69c81019-b1fc-4e2f-baad-1dd35a088f26\" style=\"height: 525px; width: 100%;\" class=\"plotly-graph-div\"></div><script type=\"text/javascript\">require([\"plotly\"], function(Plotly) { window.PLOTLYENV=window.PLOTLYENV || {};window.PLOTLYENV.BASE_URL=\"https://plot.ly\";Plotly.newPlot(\"69c81019-b1fc-4e2f-baad-1dd35a088f26\", [{\"marker\": {\"color\": \"rgb(255,0,0)\", \"colorscale\": \"Viridis\", \"line\": {\"width\": 2}, \"size\": 12, \"symbol\": 0}, \"mode\": \"markers\", \"name\": \"Student_1\", \"text\": [\"Student_1\"], \"x\": [1], \"y\": [43], \"type\": \"scatter\", \"uid\": \"2970115c-e40c-11e8-a1d0-d7b4c6107baf\"}, {\"marker\": {\"color\": \"rgb(0,255,0)\", \"colorscale\": \"Viridis\", \"line\": {\"width\": 2}, \"size\": 12, \"symbol\": 2}, \"mode\": \"markers\", \"name\": \"Student_2\", \"text\": [\"Student_2\"], \"x\": [25], \"y\": [92], \"type\": \"scatter\", \"uid\": \"29701300-e40c-11e8-a1d0-d7b4c6107baf\"}, {\"marker\": {\"color\": \"rgb(0,0,255)\", \"colorscale\": \"Viridis\", \"line\": {\"width\": 2}, \"size\": 12, \"symbol\": 1}, \"mode\": \"markers\", \"name\": \"Student_3\", \"text\": [\"Student_3\"], \"x\": [5], \"y\": [82], \"type\": \"scatter\", \"uid\": \"297013be-e40c-11e8-a1d0-d7b4c6107baf\"}, {\"marker\": {\"color\": \"rgb(255,0,0)\", \"colorscale\": \"Viridis\", \"line\": {\"width\": 2}, \"size\": 12, \"symbol\": 0}, \"mode\": \"markers\", \"name\": \"Student_4\", \"text\": [\"Student_4\"], \"x\": [1], \"y\": [48], \"type\": \"scatter\", \"uid\": \"2970145e-e40c-11e8-a1d0-d7b4c6107baf\"}, {\"marker\": {\"color\": \"rgb(127,0,127)\", \"colorscale\": \"Viridis\", \"line\": {\"width\": 2}, \"size\": 12, \"symbol\": 3}, \"mode\": \"markers\", \"name\": \"Student_5\", \"text\": [\"Student_5\"], \"x\": [3], \"y\": [76], \"type\": \"scatter\", \"uid\": \"297014ea-e40c-11e8-a1d0-d7b4c6107baf\"}, {\"marker\": {\"color\": \"rgb(127,0,127)\", \"colorscale\": \"Viridis\", \"line\": {\"width\": 2}, \"size\": 12, \"symbol\": 3}, \"mode\": \"markers\", \"name\": \"Student_6\", \"text\": [\"Student_6\"], \"x\": [7], \"y\": [62], \"type\": \"scatter\", \"uid\": \"29701576-e40c-11e8-a1d0-d7b4c6107baf\"}, {\"marker\": {\"color\": \"rgb(0,0,255)\", \"colorscale\": \"Viridis\", \"line\": {\"width\": 2}, \"size\": 12, \"symbol\": 1}, \"mode\": \"markers\", \"name\": \"Student_7\", \"text\": [\"Student_7\"], \"x\": [19], \"y\": [72], \"type\": \"scatter\", \"uid\": \"297015f8-e40c-11e8-a1d0-d7b4c6107baf\"}, {\"marker\": {\"color\": \"rgb(0,255,0)\", \"colorscale\": \"Viridis\", \"line\": {\"width\": 2}, \"size\": 12, \"symbol\": 2}, \"mode\": \"markers\", \"name\": \"Student_8\", \"text\": [\"Student_8\"], \"x\": [36], \"y\": [92], \"type\": \"scatter\", \"uid\": \"2970167a-e40c-11e8-a1d0-d7b4c6107baf\"}, {\"marker\": {\"color\": \"rgb(255,0,0)\", \"colorscale\": \"Viridis\", \"line\": {\"width\": 2}, \"size\": 12, \"symbol\": 0}, \"mode\": \"markers\", \"name\": \"Student_9\", \"text\": [\"Student_9\"], \"x\": [2], \"y\": [40], \"type\": \"scatter\", \"uid\": \"297016fc-e40c-11e8-a1d0-d7b4c6107baf\"}, {\"marker\": {\"color\": \"rgb(0,255,0)\", \"colorscale\": \"Viridis\", \"line\": {\"width\": 2}, \"size\": 12, \"symbol\": 2}, \"mode\": \"markers\", \"name\": \"Student_10\", \"text\": [\"Student_10\"], \"x\": [35], \"y\": [83], \"type\": \"scatter\", \"uid\": \"29701788-e40c-11e8-a1d0-d7b4c6107baf\"}, {\"marker\": {\"color\": \"rgb(127,0,127)\", \"colorscale\": \"Viridis\", \"line\": {\"width\": 2}, \"size\": 12, \"symbol\": 3}, \"mode\": \"markers\", \"name\": \"Student_11\", \"text\": [\"Student_11\"], \"x\": [4], \"y\": [74], \"type\": \"scatter\", \"uid\": \"2970180a-e40c-11e8-a1d0-d7b4c6107baf\"}, {\"marker\": {\"color\": \"rgb(0,0,255)\", \"colorscale\": \"Viridis\", \"line\": {\"width\": 2}, \"size\": 12, \"symbol\": 1}, \"mode\": \"markers\", \"name\": \"Student_12\", \"text\": [\"Student_12\"], \"x\": [4], \"y\": [79], \"type\": \"scatter\", \"uid\": \"2970188c-e40c-11e8-a1d0-d7b4c6107baf\"}, {\"marker\": {\"color\": \"rgb(0,0,255)\", \"colorscale\": \"Viridis\", \"line\": {\"width\": 2}, \"size\": 12, \"symbol\": 1}, \"mode\": \"markers\", \"name\": \"Student_13\", \"text\": [\"Student_13\"], \"x\": [18], \"y\": [79], \"type\": \"scatter\", \"uid\": \"29701918-e40c-11e8-a1d0-d7b4c6107baf\"}, {\"marker\": {\"color\": \"rgb(255,0,0)\", \"colorscale\": \"Viridis\", \"line\": {\"width\": 2}, \"size\": 12, \"symbol\": 0}, \"mode\": \"markers\", \"name\": \"Student_14\", \"text\": [\"Student_14\"], \"x\": [2], \"y\": [32], \"type\": \"scatter\", \"uid\": \"2970199a-e40c-11e8-a1d0-d7b4c6107baf\"}, {\"marker\": {\"color\": \"rgb(0,255,0)\", \"colorscale\": \"Viridis\", \"line\": {\"width\": 2}, \"size\": 12, \"symbol\": 2}, \"mode\": \"markers\", \"name\": \"Student_15\", \"text\": [\"Student_15\"], \"x\": [33], \"y\": [89], \"type\": \"scatter\", \"uid\": \"29701a1c-e40c-11e8-a1d0-d7b4c6107baf\"}, {\"marker\": {\"color\": \"rgb(127,0,127)\", \"colorscale\": \"Viridis\", \"line\": {\"width\": 2}, \"size\": 12, \"symbol\": 3}, \"mode\": \"markers\", \"name\": \"Student_16\", \"text\": [\"Student_16\"], \"x\": [7], \"y\": [61], \"type\": \"scatter\", \"uid\": \"29701a9e-e40c-11e8-a1d0-d7b4c6107baf\"}, {\"marker\": {\"color\": \"rgb(127,0,127)\", \"colorscale\": \"Viridis\", \"line\": {\"width\": 2}, \"size\": 12, \"symbol\": 3}, \"mode\": \"markers\", \"name\": \"Student_17\", \"text\": [\"Student_17\"], \"x\": [6], \"y\": [71], \"type\": \"scatter\", \"uid\": \"29701b20-e40c-11e8-a1d0-d7b4c6107baf\"}, {\"marker\": {\"color\": \"rgb(127,0,127)\", \"colorscale\": \"Viridis\", \"line\": {\"width\": 2}, \"size\": 12, \"symbol\": 3}, \"mode\": \"markers\", \"name\": \"Student_18\", \"text\": [\"Student_18\"], \"x\": [4], \"y\": [71], \"type\": \"scatter\", \"uid\": \"29701ba2-e40c-11e8-a1d0-d7b4c6107baf\"}, {\"marker\": {\"color\": \"rgb(127,0,127)\", \"colorscale\": \"Viridis\", \"line\": {\"width\": 2}, \"size\": 12, \"symbol\": 3}, \"mode\": \"markers\", \"name\": \"Student_19\", \"text\": [\"Student_19\"], \"x\": [6], \"y\": [62], \"type\": \"scatter\", \"uid\": \"29701c2e-e40c-11e8-a1d0-d7b4c6107baf\"}, {\"marker\": {\"color\": \"rgb(255,0,0)\", \"colorscale\": \"Viridis\", \"line\": {\"width\": 2}, \"size\": 12, \"symbol\": 0}, \"mode\": \"markers\", \"name\": \"Student_20\", \"text\": [\"Student_20\"], \"x\": [1], \"y\": [39], \"type\": \"scatter\", \"uid\": \"29701ca6-e40c-11e8-a1d0-d7b4c6107baf\"}, {\"marker\": {\"color\": \"rgb(127,0,127)\", \"colorscale\": \"Viridis\", \"line\": {\"width\": 2}, \"size\": 12, \"symbol\": 3}, \"mode\": \"markers\", \"name\": \"Student_21\", \"text\": [\"Student_21\"], \"x\": [2], \"y\": [69], \"type\": \"scatter\", \"uid\": \"29701d28-e40c-11e8-a1d0-d7b4c6107baf\"}, {\"marker\": {\"color\": \"rgb(0,0,255)\", \"colorscale\": \"Viridis\", \"line\": {\"width\": 2}, \"size\": 12, \"symbol\": 1}, \"mode\": \"markers\", \"name\": \"Student_22\", \"text\": [\"Student_22\"], \"x\": [19], \"y\": [84], \"type\": \"scatter\", \"uid\": \"29701daa-e40c-11e8-a1d0-d7b4c6107baf\"}, {\"marker\": {\"color\": \"rgb(127,0,127)\", \"colorscale\": \"Viridis\", \"line\": {\"width\": 2}, \"size\": 12, \"symbol\": 3}, \"mode\": \"markers\", \"name\": \"Student_23\", \"text\": [\"Student_23\"], \"x\": [11], \"y\": [63], \"type\": \"scatter\", \"uid\": \"29701e2c-e40c-11e8-a1d0-d7b4c6107baf\"}, {\"marker\": {\"color\": \"rgb(127,0,127)\", \"colorscale\": \"Viridis\", \"line\": {\"width\": 2}, \"size\": 12, \"symbol\": 3}, \"mode\": \"markers\", \"name\": \"Student_24\", \"text\": [\"Student_24\"], \"x\": [4], \"y\": [57], \"type\": \"scatter\", \"uid\": \"29701eae-e40c-11e8-a1d0-d7b4c6107baf\"}, {\"marker\": {\"color\": \"rgb(0,0,255)\", \"colorscale\": \"Viridis\", \"line\": {\"width\": 2}, \"size\": 12, \"symbol\": 1}, \"mode\": \"markers\", \"name\": \"Student_25\", \"text\": [\"Student_25\"], \"x\": [17], \"y\": [74], \"type\": \"scatter\", \"uid\": \"29701f30-e40c-11e8-a1d0-d7b4c6107baf\"}, {\"marker\": {\"color\": \"rgb(127,0,127)\", \"colorscale\": \"Viridis\", \"line\": {\"width\": 2}, \"size\": 12, \"symbol\": 3}, \"mode\": \"markers\", \"name\": \"Student_26\", \"text\": [\"Student_26\"], \"x\": [3], \"y\": [59], \"type\": \"scatter\", \"uid\": \"29701fbc-e40c-11e8-a1d0-d7b4c6107baf\"}, {\"marker\": {\"color\": \"rgb(0,255,0)\", \"colorscale\": \"Viridis\", \"line\": {\"width\": 2}, \"size\": 12, \"symbol\": 2}, \"mode\": \"markers\", \"name\": \"Student_27\", \"text\": [\"Student_27\"], \"x\": [18], \"y\": [93], \"type\": \"scatter\", \"uid\": \"2970203e-e40c-11e8-a1d0-d7b4c6107baf\"}, {\"marker\": {\"color\": \"rgb(255,0,0)\", \"colorscale\": \"Viridis\", \"line\": {\"width\": 2}, \"size\": 12, \"symbol\": 0}, \"mode\": \"markers\", \"name\": \"Student_28\", \"text\": [\"Student_28\"], \"x\": [2], \"y\": [29], \"type\": \"scatter\", \"uid\": \"297020c0-e40c-11e8-a1d0-d7b4c6107baf\"}, {\"marker\": {\"color\": \"rgb(255,0,0)\", \"colorscale\": \"Viridis\", \"line\": {\"width\": 2}, \"size\": 12, \"symbol\": 0}, \"mode\": \"markers\", \"name\": \"Student_29\", \"text\": [\"Student_29\"], \"x\": [0], \"y\": [22], \"type\": \"scatter\", \"uid\": \"29702142-e40c-11e8-a1d0-d7b4c6107baf\"}, {\"marker\": {\"color\": \"rgb(255,0,0)\", \"colorscale\": \"Viridis\", \"line\": {\"width\": 2}, \"size\": 12, \"symbol\": 0}, \"mode\": \"markers\", \"name\": \"Student_30\", \"text\": [\"Student_30\"], \"x\": [5], \"y\": [53], \"type\": \"scatter\", \"uid\": \"297021c4-e40c-11e8-a1d0-d7b4c6107baf\"}, {\"marker\": {\"color\": \"rgb(255,0,0)\", \"colorscale\": \"Viridis\", \"line\": {\"width\": 2}, \"size\": 12, \"symbol\": 0}, \"mode\": \"markers\", \"name\": \"Student_31\", \"text\": [\"Student_31\"], \"x\": [3], \"y\": [48], \"type\": \"scatter\", \"uid\": \"29702246-e40c-11e8-a1d0-d7b4c6107baf\"}, {\"marker\": {\"color\": \"rgb(127,0,127)\", \"colorscale\": \"Viridis\", \"line\": {\"width\": 2}, \"size\": 12, \"symbol\": 3}, \"mode\": \"markers\", \"name\": \"Student_32\", \"text\": [\"Student_32\"], \"x\": [3], \"y\": [75], \"type\": \"scatter\", \"uid\": \"297022c8-e40c-11e8-a1d0-d7b4c6107baf\"}, {\"marker\": {\"color\": \"rgb(255,0,0)\", \"colorscale\": \"Viridis\", \"line\": {\"width\": 2}, \"size\": 12, \"symbol\": 0}, \"mode\": \"markers\", \"name\": \"Student_33\", \"text\": [\"Student_33\"], \"x\": [0], \"y\": [27], \"type\": \"scatter\", \"uid\": \"2970234a-e40c-11e8-a1d0-d7b4c6107baf\"}, {\"marker\": {\"color\": \"rgb(127,0,127)\", \"colorscale\": \"Viridis\", \"line\": {\"width\": 2}, \"size\": 12, \"symbol\": 3}, \"mode\": \"markers\", \"name\": \"Student_34\", \"text\": [\"Student_34\"], \"x\": [3], \"y\": [73], \"type\": \"scatter\", \"uid\": \"29702462-e40c-11e8-a1d0-d7b4c6107baf\"}, {\"marker\": {\"color\": \"rgb(255,0,0)\", \"colorscale\": \"Viridis\", \"line\": {\"width\": 2}, \"size\": 12, \"symbol\": 0}, \"mode\": \"markers\", \"name\": \"Student_35\", \"text\": [\"Student_35\"], \"x\": [1], \"y\": [38], \"type\": \"scatter\", \"uid\": \"297024ee-e40c-11e8-a1d0-d7b4c6107baf\"}, {\"marker\": {\"color\": \"rgb(255,0,0)\", \"colorscale\": \"Viridis\", \"line\": {\"width\": 2}, \"size\": 12, \"symbol\": 0}, \"mode\": \"markers\", \"name\": \"Student_36\", \"text\": [\"Student_36\"], \"x\": [0], \"y\": [36], \"type\": \"scatter\", \"uid\": \"29702570-e40c-11e8-a1d0-d7b4c6107baf\"}, {\"marker\": {\"color\": \"rgb(0,0,255)\", \"colorscale\": \"Viridis\", \"line\": {\"width\": 2}, \"size\": 12, \"symbol\": 1}, \"mode\": \"markers\", \"name\": \"Student_37\", \"text\": [\"Student_37\"], \"x\": [14], \"y\": [81], \"type\": \"scatter\", \"uid\": \"297025fc-e40c-11e8-a1d0-d7b4c6107baf\"}, {\"marker\": {\"color\": \"rgb(0,0,255)\", \"colorscale\": \"Viridis\", \"line\": {\"width\": 2}, \"size\": 12, \"symbol\": 1}, \"mode\": \"markers\", \"name\": \"Student_38\", \"text\": [\"Student_38\"], \"x\": [8], \"y\": [84], \"type\": \"scatter\", \"uid\": \"2970267e-e40c-11e8-a1d0-d7b4c6107baf\"}, {\"marker\": {\"color\": \"rgb(255,0,0)\", \"colorscale\": \"Viridis\", \"line\": {\"width\": 2}, \"size\": 12, \"symbol\": 0}, \"mode\": \"markers\", \"name\": \"Student_39\", \"text\": [\"Student_39\"], \"x\": [0], \"y\": [45], \"type\": \"scatter\", \"uid\": \"29702700-e40c-11e8-a1d0-d7b4c6107baf\"}, {\"marker\": {\"color\": \"rgb(127,0,127)\", \"colorscale\": \"Viridis\", \"line\": {\"width\": 2}, \"size\": 12, \"symbol\": 3}, \"mode\": \"markers\", \"name\": \"Student_40\", \"text\": [\"Student_40\"], \"x\": [4], \"y\": [70], \"type\": \"scatter\", \"uid\": \"29702782-e40c-11e8-a1d0-d7b4c6107baf\"}, {\"marker\": {\"color\": \"rgb(0,255,0)\", \"colorscale\": \"Viridis\", \"line\": {\"width\": 2}, \"size\": 12, \"symbol\": 2}, \"mode\": \"markers\", \"name\": \"Student_41\", \"text\": [\"Student_41\"], \"x\": [39], \"y\": [99], \"type\": \"scatter\", \"uid\": \"29702804-e40c-11e8-a1d0-d7b4c6107baf\"}, {\"marker\": {\"color\": \"rgb(0,0,255)\", \"colorscale\": \"Viridis\", \"line\": {\"width\": 2}, \"size\": 12, \"symbol\": 1}, \"mode\": \"markers\", \"name\": \"Student_42\", \"text\": [\"Student_42\"], \"x\": [14], \"y\": [89], \"type\": \"scatter\", \"uid\": \"29702886-e40c-11e8-a1d0-d7b4c6107baf\"}, {\"marker\": {\"color\": \"rgb(127,0,127)\", \"colorscale\": \"Viridis\", \"line\": {\"width\": 2}, \"size\": 12, \"symbol\": 3}, \"mode\": \"markers\", \"name\": \"Student_43\", \"text\": [\"Student_43\"], \"x\": [11], \"y\": [69], \"type\": \"scatter\", \"uid\": \"29702912-e40c-11e8-a1d0-d7b4c6107baf\"}, {\"marker\": {\"color\": \"rgb(0,0,255)\", \"colorscale\": \"Viridis\", \"line\": {\"width\": 2}, \"size\": 12, \"symbol\": 1}, \"mode\": \"markers\", \"name\": \"Student_44\", \"text\": [\"Student_44\"], \"x\": [18], \"y\": [72], \"type\": \"scatter\", \"uid\": \"29702994-e40c-11e8-a1d0-d7b4c6107baf\"}, {\"marker\": {\"color\": \"rgb(255,0,0)\", \"colorscale\": \"Viridis\", \"line\": {\"width\": 2}, \"size\": 12, \"symbol\": 0}, \"mode\": \"markers\", \"name\": \"Student_45\", \"text\": [\"Student_45\"], \"x\": [3], \"y\": [33], \"type\": \"scatter\", \"uid\": \"29702a16-e40c-11e8-a1d0-d7b4c6107baf\"}, {\"marker\": {\"color\": \"rgb(255,0,0)\", \"colorscale\": \"Viridis\", \"line\": {\"width\": 2}, \"size\": 12, \"symbol\": 0}, \"mode\": \"markers\", \"name\": \"Student_46\", \"text\": [\"Student_46\"], \"x\": [2], \"y\": [36], \"type\": \"scatter\", \"uid\": \"29702a98-e40c-11e8-a1d0-d7b4c6107baf\"}, {\"marker\": {\"color\": \"rgb(0,255,0)\", \"colorscale\": \"Viridis\", \"line\": {\"width\": 2}, \"size\": 12, \"symbol\": 2}, \"mode\": \"markers\", \"name\": \"Student_47\", \"text\": [\"Student_47\"], \"x\": [34], \"y\": [94], \"type\": \"scatter\", \"uid\": \"29702b1a-e40c-11e8-a1d0-d7b4c6107baf\"}, {\"marker\": {\"color\": \"rgb(255,0,0)\", \"colorscale\": \"Viridis\", \"line\": {\"width\": 2}, \"size\": 12, \"symbol\": 0}, \"mode\": \"markers\", \"name\": \"Student_48\", \"text\": [\"Student_48\"], \"x\": [1], \"y\": [41], \"type\": \"scatter\", \"uid\": \"29702b9c-e40c-11e8-a1d0-d7b4c6107baf\"}, {\"marker\": {\"color\": \"rgb(255,0,0)\", \"colorscale\": \"Viridis\", \"line\": {\"width\": 2}, \"size\": 12, \"symbol\": 0}, \"mode\": \"markers\", \"name\": \"Student_49\", \"text\": [\"Student_49\"], \"x\": [3], \"y\": [37], \"type\": \"scatter\", \"uid\": \"29702c14-e40c-11e8-a1d0-d7b4c6107baf\"}, {\"marker\": {\"color\": \"rgb(255,0,0)\", \"colorscale\": \"Viridis\", \"line\": {\"width\": 2}, \"size\": 12, \"symbol\": 0}, \"mode\": \"markers\", \"name\": \"Student_50\", \"text\": [\"Student_50\"], \"x\": [0], \"y\": [26], \"type\": \"scatter\", \"uid\": \"29702c8c-e40c-11e8-a1d0-d7b4c6107baf\"}, {\"marker\": {\"color\": \"rgb(127,0,127)\", \"colorscale\": \"Viridis\", \"line\": {\"width\": 2}, \"size\": 12, \"symbol\": 3}, \"mode\": \"markers\", \"name\": \"Student_51\", \"text\": [\"Student_51\"], \"x\": [0], \"y\": [53], \"type\": \"scatter\", \"uid\": \"29702d0e-e40c-11e8-a1d0-d7b4c6107baf\"}, {\"marker\": {\"color\": \"rgb(255,0,0)\", \"colorscale\": \"Viridis\", \"line\": {\"width\": 2}, \"size\": 12, \"symbol\": 0}, \"mode\": \"markers\", \"name\": \"Student_52\", \"text\": [\"Student_52\"], \"x\": [0], \"y\": [11], \"type\": \"scatter\", \"uid\": \"29702d86-e40c-11e8-a1d0-d7b4c6107baf\"}, {\"marker\": {\"color\": \"rgb(127,0,127)\", \"colorscale\": \"Viridis\", \"line\": {\"width\": 2}, \"size\": 12, \"symbol\": 3}, \"mode\": \"markers\", \"name\": \"Student_53\", \"text\": [\"Student_53\"], \"x\": [8], \"y\": [72], \"type\": \"scatter\", \"uid\": \"29702dfe-e40c-11e8-a1d0-d7b4c6107baf\"}, {\"marker\": {\"color\": \"rgb(255,0,0)\", \"colorscale\": \"Viridis\", \"line\": {\"width\": 2}, \"size\": 12, \"symbol\": 0}, \"mode\": \"markers\", \"name\": \"Student_54\", \"text\": [\"Student_54\"], \"x\": [2], \"y\": [21], \"type\": \"scatter\", \"uid\": \"29702e76-e40c-11e8-a1d0-d7b4c6107baf\"}, {\"marker\": {\"color\": \"rgb(127,0,127)\", \"colorscale\": \"Viridis\", \"line\": {\"width\": 2}, \"size\": 12, \"symbol\": 3}, \"mode\": \"markers\", \"name\": \"Student_55\", \"text\": [\"Student_55\"], \"x\": [13], \"y\": [74], \"type\": \"scatter\", \"uid\": \"29702eee-e40c-11e8-a1d0-d7b4c6107baf\"}, {\"marker\": {\"color\": \"rgb(0,0,255)\", \"colorscale\": \"Viridis\", \"line\": {\"width\": 2}, \"size\": 12, \"symbol\": 1}, \"mode\": \"markers\", \"name\": \"Student_56\", \"text\": [\"Student_56\"], \"x\": [15], \"y\": [82], \"type\": \"scatter\", \"uid\": \"29702f70-e40c-11e8-a1d0-d7b4c6107baf\"}, {\"marker\": {\"color\": \"rgb(127,0,127)\", \"colorscale\": \"Viridis\", \"line\": {\"width\": 2}, \"size\": 12, \"symbol\": 3}, \"mode\": \"markers\", \"name\": \"Student_57\", \"text\": [\"Student_57\"], \"x\": [0], \"y\": [64], \"type\": \"scatter\", \"uid\": \"29702fe8-e40c-11e8-a1d0-d7b4c6107baf\"}, {\"marker\": {\"color\": \"rgb(127,0,127)\", \"colorscale\": \"Viridis\", \"line\": {\"width\": 2}, \"size\": 12, \"symbol\": 3}, \"mode\": \"markers\", \"name\": \"Student_58\", \"text\": [\"Student_58\"], \"x\": [9], \"y\": [67], \"type\": \"scatter\", \"uid\": \"29703060-e40c-11e8-a1d0-d7b4c6107baf\"}, {\"marker\": {\"color\": \"rgb(0,0,255)\", \"colorscale\": \"Viridis\", \"line\": {\"width\": 2}, \"size\": 12, \"symbol\": 1}, \"mode\": \"markers\", \"name\": \"Student_59\", \"text\": [\"Student_59\"], \"x\": [11], \"y\": [72], \"type\": \"scatter\", \"uid\": \"297030e2-e40c-11e8-a1d0-d7b4c6107baf\"}, {\"marker\": {\"color\": \"rgb(127,0,127)\", \"colorscale\": \"Viridis\", \"line\": {\"width\": 2}, \"size\": 12, \"symbol\": 3}, \"mode\": \"markers\", \"name\": \"Student_60\", \"text\": [\"Student_60\"], \"x\": [10], \"y\": [67], \"type\": \"scatter\", \"uid\": \"29703150-e40c-11e8-a1d0-d7b4c6107baf\"}], {\"hovermode\": \"closest\", \"showlegend\": true, \"title\": \"Notas dos estudantes vs postagens respondidas no f\\u00f3rum\", \"xaxis\": {\"autorange\": false, \"fixedrange\": false, \"range\": [0, 49], \"rangemode\": \"normal\", \"showline\": true, \"title\": \"Postagens respondidas no f\\u00f3rum\", \"zeroline\": false}, \"yaxis\": {\"autorange\": false, \"fixedrange\": false, \"range\": [0, 109], \"rangemode\": \"normal\", \"showline\": true, \"title\": \"Notas\"}}, {\"showLink\": true, \"linkText\": \"Export to plot.ly\"})});</script>"
      ],
      "text/vnd.plotly.v1+html": [
       "<div id=\"69c81019-b1fc-4e2f-baad-1dd35a088f26\" style=\"height: 525px; width: 100%;\" class=\"plotly-graph-div\"></div><script type=\"text/javascript\">require([\"plotly\"], function(Plotly) { window.PLOTLYENV=window.PLOTLYENV || {};window.PLOTLYENV.BASE_URL=\"https://plot.ly\";Plotly.newPlot(\"69c81019-b1fc-4e2f-baad-1dd35a088f26\", [{\"marker\": {\"color\": \"rgb(255,0,0)\", \"colorscale\": \"Viridis\", \"line\": {\"width\": 2}, \"size\": 12, \"symbol\": 0}, \"mode\": \"markers\", \"name\": \"Student_1\", \"text\": [\"Student_1\"], \"x\": [1], \"y\": [43], \"type\": \"scatter\", \"uid\": \"2970115c-e40c-11e8-a1d0-d7b4c6107baf\"}, {\"marker\": {\"color\": \"rgb(0,255,0)\", \"colorscale\": \"Viridis\", \"line\": {\"width\": 2}, \"size\": 12, \"symbol\": 2}, \"mode\": \"markers\", \"name\": \"Student_2\", \"text\": [\"Student_2\"], \"x\": [25], \"y\": [92], \"type\": \"scatter\", \"uid\": \"29701300-e40c-11e8-a1d0-d7b4c6107baf\"}, {\"marker\": {\"color\": \"rgb(0,0,255)\", \"colorscale\": \"Viridis\", \"line\": {\"width\": 2}, \"size\": 12, \"symbol\": 1}, \"mode\": \"markers\", \"name\": \"Student_3\", \"text\": [\"Student_3\"], \"x\": [5], \"y\": [82], \"type\": \"scatter\", \"uid\": \"297013be-e40c-11e8-a1d0-d7b4c6107baf\"}, {\"marker\": {\"color\": \"rgb(255,0,0)\", \"colorscale\": \"Viridis\", \"line\": {\"width\": 2}, \"size\": 12, \"symbol\": 0}, \"mode\": \"markers\", \"name\": \"Student_4\", \"text\": [\"Student_4\"], \"x\": [1], \"y\": [48], \"type\": \"scatter\", \"uid\": \"2970145e-e40c-11e8-a1d0-d7b4c6107baf\"}, {\"marker\": {\"color\": \"rgb(127,0,127)\", \"colorscale\": \"Viridis\", \"line\": {\"width\": 2}, \"size\": 12, \"symbol\": 3}, \"mode\": \"markers\", \"name\": \"Student_5\", \"text\": [\"Student_5\"], \"x\": [3], \"y\": [76], \"type\": \"scatter\", \"uid\": \"297014ea-e40c-11e8-a1d0-d7b4c6107baf\"}, {\"marker\": {\"color\": \"rgb(127,0,127)\", \"colorscale\": \"Viridis\", \"line\": {\"width\": 2}, \"size\": 12, \"symbol\": 3}, \"mode\": \"markers\", \"name\": \"Student_6\", \"text\": [\"Student_6\"], \"x\": [7], \"y\": [62], \"type\": \"scatter\", \"uid\": \"29701576-e40c-11e8-a1d0-d7b4c6107baf\"}, {\"marker\": {\"color\": \"rgb(0,0,255)\", \"colorscale\": \"Viridis\", \"line\": {\"width\": 2}, \"size\": 12, \"symbol\": 1}, \"mode\": \"markers\", \"name\": \"Student_7\", \"text\": [\"Student_7\"], \"x\": [19], \"y\": [72], \"type\": \"scatter\", \"uid\": \"297015f8-e40c-11e8-a1d0-d7b4c6107baf\"}, {\"marker\": {\"color\": \"rgb(0,255,0)\", \"colorscale\": \"Viridis\", \"line\": {\"width\": 2}, \"size\": 12, \"symbol\": 2}, \"mode\": \"markers\", \"name\": \"Student_8\", \"text\": [\"Student_8\"], \"x\": [36], \"y\": [92], \"type\": \"scatter\", \"uid\": \"2970167a-e40c-11e8-a1d0-d7b4c6107baf\"}, {\"marker\": {\"color\": \"rgb(255,0,0)\", \"colorscale\": \"Viridis\", \"line\": {\"width\": 2}, \"size\": 12, \"symbol\": 0}, \"mode\": \"markers\", \"name\": \"Student_9\", \"text\": [\"Student_9\"], \"x\": [2], \"y\": [40], \"type\": \"scatter\", \"uid\": \"297016fc-e40c-11e8-a1d0-d7b4c6107baf\"}, {\"marker\": {\"color\": \"rgb(0,255,0)\", \"colorscale\": \"Viridis\", \"line\": {\"width\": 2}, \"size\": 12, \"symbol\": 2}, \"mode\": \"markers\", \"name\": \"Student_10\", \"text\": [\"Student_10\"], \"x\": [35], \"y\": [83], \"type\": \"scatter\", \"uid\": \"29701788-e40c-11e8-a1d0-d7b4c6107baf\"}, {\"marker\": {\"color\": \"rgb(127,0,127)\", \"colorscale\": \"Viridis\", \"line\": {\"width\": 2}, \"size\": 12, \"symbol\": 3}, \"mode\": \"markers\", \"name\": \"Student_11\", \"text\": [\"Student_11\"], \"x\": [4], \"y\": [74], \"type\": \"scatter\", \"uid\": \"2970180a-e40c-11e8-a1d0-d7b4c6107baf\"}, {\"marker\": {\"color\": \"rgb(0,0,255)\", \"colorscale\": \"Viridis\", \"line\": {\"width\": 2}, \"size\": 12, \"symbol\": 1}, \"mode\": \"markers\", \"name\": \"Student_12\", \"text\": [\"Student_12\"], \"x\": [4], \"y\": [79], \"type\": \"scatter\", \"uid\": \"2970188c-e40c-11e8-a1d0-d7b4c6107baf\"}, {\"marker\": {\"color\": \"rgb(0,0,255)\", \"colorscale\": \"Viridis\", \"line\": {\"width\": 2}, \"size\": 12, \"symbol\": 1}, \"mode\": \"markers\", \"name\": \"Student_13\", \"text\": [\"Student_13\"], \"x\": [18], \"y\": [79], \"type\": \"scatter\", \"uid\": \"29701918-e40c-11e8-a1d0-d7b4c6107baf\"}, {\"marker\": {\"color\": \"rgb(255,0,0)\", \"colorscale\": \"Viridis\", \"line\": {\"width\": 2}, \"size\": 12, \"symbol\": 0}, \"mode\": \"markers\", \"name\": \"Student_14\", \"text\": [\"Student_14\"], \"x\": [2], \"y\": [32], \"type\": \"scatter\", \"uid\": \"2970199a-e40c-11e8-a1d0-d7b4c6107baf\"}, {\"marker\": {\"color\": \"rgb(0,255,0)\", \"colorscale\": \"Viridis\", \"line\": {\"width\": 2}, \"size\": 12, \"symbol\": 2}, \"mode\": \"markers\", \"name\": \"Student_15\", \"text\": [\"Student_15\"], \"x\": [33], \"y\": [89], \"type\": \"scatter\", \"uid\": \"29701a1c-e40c-11e8-a1d0-d7b4c6107baf\"}, {\"marker\": {\"color\": \"rgb(127,0,127)\", \"colorscale\": \"Viridis\", \"line\": {\"width\": 2}, \"size\": 12, \"symbol\": 3}, \"mode\": \"markers\", \"name\": \"Student_16\", \"text\": [\"Student_16\"], \"x\": [7], \"y\": [61], \"type\": \"scatter\", \"uid\": \"29701a9e-e40c-11e8-a1d0-d7b4c6107baf\"}, {\"marker\": {\"color\": \"rgb(127,0,127)\", \"colorscale\": \"Viridis\", \"line\": {\"width\": 2}, \"size\": 12, \"symbol\": 3}, \"mode\": \"markers\", \"name\": \"Student_17\", \"text\": [\"Student_17\"], \"x\": [6], \"y\": [71], \"type\": \"scatter\", \"uid\": \"29701b20-e40c-11e8-a1d0-d7b4c6107baf\"}, {\"marker\": {\"color\": \"rgb(127,0,127)\", \"colorscale\": \"Viridis\", \"line\": {\"width\": 2}, \"size\": 12, \"symbol\": 3}, \"mode\": \"markers\", \"name\": \"Student_18\", \"text\": [\"Student_18\"], \"x\": [4], \"y\": [71], \"type\": \"scatter\", \"uid\": \"29701ba2-e40c-11e8-a1d0-d7b4c6107baf\"}, {\"marker\": {\"color\": \"rgb(127,0,127)\", \"colorscale\": \"Viridis\", \"line\": {\"width\": 2}, \"size\": 12, \"symbol\": 3}, \"mode\": \"markers\", \"name\": \"Student_19\", \"text\": [\"Student_19\"], \"x\": [6], \"y\": [62], \"type\": \"scatter\", \"uid\": \"29701c2e-e40c-11e8-a1d0-d7b4c6107baf\"}, {\"marker\": {\"color\": \"rgb(255,0,0)\", \"colorscale\": \"Viridis\", \"line\": {\"width\": 2}, \"size\": 12, \"symbol\": 0}, \"mode\": \"markers\", \"name\": \"Student_20\", \"text\": [\"Student_20\"], \"x\": [1], \"y\": [39], \"type\": \"scatter\", \"uid\": \"29701ca6-e40c-11e8-a1d0-d7b4c6107baf\"}, {\"marker\": {\"color\": \"rgb(127,0,127)\", \"colorscale\": \"Viridis\", \"line\": {\"width\": 2}, \"size\": 12, \"symbol\": 3}, \"mode\": \"markers\", \"name\": \"Student_21\", \"text\": [\"Student_21\"], \"x\": [2], \"y\": [69], \"type\": \"scatter\", \"uid\": \"29701d28-e40c-11e8-a1d0-d7b4c6107baf\"}, {\"marker\": {\"color\": \"rgb(0,0,255)\", \"colorscale\": \"Viridis\", \"line\": {\"width\": 2}, \"size\": 12, \"symbol\": 1}, \"mode\": \"markers\", \"name\": \"Student_22\", \"text\": [\"Student_22\"], \"x\": [19], \"y\": [84], \"type\": \"scatter\", \"uid\": \"29701daa-e40c-11e8-a1d0-d7b4c6107baf\"}, {\"marker\": {\"color\": \"rgb(127,0,127)\", \"colorscale\": \"Viridis\", \"line\": {\"width\": 2}, \"size\": 12, \"symbol\": 3}, \"mode\": \"markers\", \"name\": \"Student_23\", \"text\": [\"Student_23\"], \"x\": [11], \"y\": [63], \"type\": \"scatter\", \"uid\": \"29701e2c-e40c-11e8-a1d0-d7b4c6107baf\"}, {\"marker\": {\"color\": \"rgb(127,0,127)\", \"colorscale\": \"Viridis\", \"line\": {\"width\": 2}, \"size\": 12, \"symbol\": 3}, \"mode\": \"markers\", \"name\": \"Student_24\", \"text\": [\"Student_24\"], \"x\": [4], \"y\": [57], \"type\": \"scatter\", \"uid\": \"29701eae-e40c-11e8-a1d0-d7b4c6107baf\"}, {\"marker\": {\"color\": \"rgb(0,0,255)\", \"colorscale\": \"Viridis\", \"line\": {\"width\": 2}, \"size\": 12, \"symbol\": 1}, \"mode\": \"markers\", \"name\": \"Student_25\", \"text\": [\"Student_25\"], \"x\": [17], \"y\": [74], \"type\": \"scatter\", \"uid\": \"29701f30-e40c-11e8-a1d0-d7b4c6107baf\"}, {\"marker\": {\"color\": \"rgb(127,0,127)\", \"colorscale\": \"Viridis\", \"line\": {\"width\": 2}, \"size\": 12, \"symbol\": 3}, \"mode\": \"markers\", \"name\": \"Student_26\", \"text\": [\"Student_26\"], \"x\": [3], \"y\": [59], \"type\": \"scatter\", \"uid\": \"29701fbc-e40c-11e8-a1d0-d7b4c6107baf\"}, {\"marker\": {\"color\": \"rgb(0,255,0)\", \"colorscale\": \"Viridis\", \"line\": {\"width\": 2}, \"size\": 12, \"symbol\": 2}, \"mode\": \"markers\", \"name\": \"Student_27\", \"text\": [\"Student_27\"], \"x\": [18], \"y\": [93], \"type\": \"scatter\", \"uid\": \"2970203e-e40c-11e8-a1d0-d7b4c6107baf\"}, {\"marker\": {\"color\": \"rgb(255,0,0)\", \"colorscale\": \"Viridis\", \"line\": {\"width\": 2}, \"size\": 12, \"symbol\": 0}, \"mode\": \"markers\", \"name\": \"Student_28\", \"text\": [\"Student_28\"], \"x\": [2], \"y\": [29], \"type\": \"scatter\", \"uid\": \"297020c0-e40c-11e8-a1d0-d7b4c6107baf\"}, {\"marker\": {\"color\": \"rgb(255,0,0)\", \"colorscale\": \"Viridis\", \"line\": {\"width\": 2}, \"size\": 12, \"symbol\": 0}, \"mode\": \"markers\", \"name\": \"Student_29\", \"text\": [\"Student_29\"], \"x\": [0], \"y\": [22], \"type\": \"scatter\", \"uid\": \"29702142-e40c-11e8-a1d0-d7b4c6107baf\"}, {\"marker\": {\"color\": \"rgb(255,0,0)\", \"colorscale\": \"Viridis\", \"line\": {\"width\": 2}, \"size\": 12, \"symbol\": 0}, \"mode\": \"markers\", \"name\": \"Student_30\", \"text\": [\"Student_30\"], \"x\": [5], \"y\": [53], \"type\": \"scatter\", \"uid\": \"297021c4-e40c-11e8-a1d0-d7b4c6107baf\"}, {\"marker\": {\"color\": \"rgb(255,0,0)\", \"colorscale\": \"Viridis\", \"line\": {\"width\": 2}, \"size\": 12, \"symbol\": 0}, \"mode\": \"markers\", \"name\": \"Student_31\", \"text\": [\"Student_31\"], \"x\": [3], \"y\": [48], \"type\": \"scatter\", \"uid\": \"29702246-e40c-11e8-a1d0-d7b4c6107baf\"}, {\"marker\": {\"color\": \"rgb(127,0,127)\", \"colorscale\": \"Viridis\", \"line\": {\"width\": 2}, \"size\": 12, \"symbol\": 3}, \"mode\": \"markers\", \"name\": \"Student_32\", \"text\": [\"Student_32\"], \"x\": [3], \"y\": [75], \"type\": \"scatter\", \"uid\": \"297022c8-e40c-11e8-a1d0-d7b4c6107baf\"}, {\"marker\": {\"color\": \"rgb(255,0,0)\", \"colorscale\": \"Viridis\", \"line\": {\"width\": 2}, \"size\": 12, \"symbol\": 0}, \"mode\": \"markers\", \"name\": \"Student_33\", \"text\": [\"Student_33\"], \"x\": [0], \"y\": [27], \"type\": \"scatter\", \"uid\": \"2970234a-e40c-11e8-a1d0-d7b4c6107baf\"}, {\"marker\": {\"color\": \"rgb(127,0,127)\", \"colorscale\": \"Viridis\", \"line\": {\"width\": 2}, \"size\": 12, \"symbol\": 3}, \"mode\": \"markers\", \"name\": \"Student_34\", \"text\": [\"Student_34\"], \"x\": [3], \"y\": [73], \"type\": \"scatter\", \"uid\": \"29702462-e40c-11e8-a1d0-d7b4c6107baf\"}, {\"marker\": {\"color\": \"rgb(255,0,0)\", \"colorscale\": \"Viridis\", \"line\": {\"width\": 2}, \"size\": 12, \"symbol\": 0}, \"mode\": \"markers\", \"name\": \"Student_35\", \"text\": [\"Student_35\"], \"x\": [1], \"y\": [38], \"type\": \"scatter\", \"uid\": \"297024ee-e40c-11e8-a1d0-d7b4c6107baf\"}, {\"marker\": {\"color\": \"rgb(255,0,0)\", \"colorscale\": \"Viridis\", \"line\": {\"width\": 2}, \"size\": 12, \"symbol\": 0}, \"mode\": \"markers\", \"name\": \"Student_36\", \"text\": [\"Student_36\"], \"x\": [0], \"y\": [36], \"type\": \"scatter\", \"uid\": \"29702570-e40c-11e8-a1d0-d7b4c6107baf\"}, {\"marker\": {\"color\": \"rgb(0,0,255)\", \"colorscale\": \"Viridis\", \"line\": {\"width\": 2}, \"size\": 12, \"symbol\": 1}, \"mode\": \"markers\", \"name\": \"Student_37\", \"text\": [\"Student_37\"], \"x\": [14], \"y\": [81], \"type\": \"scatter\", \"uid\": \"297025fc-e40c-11e8-a1d0-d7b4c6107baf\"}, {\"marker\": {\"color\": \"rgb(0,0,255)\", \"colorscale\": \"Viridis\", \"line\": {\"width\": 2}, \"size\": 12, \"symbol\": 1}, \"mode\": \"markers\", \"name\": \"Student_38\", \"text\": [\"Student_38\"], \"x\": [8], \"y\": [84], \"type\": \"scatter\", \"uid\": \"2970267e-e40c-11e8-a1d0-d7b4c6107baf\"}, {\"marker\": {\"color\": \"rgb(255,0,0)\", \"colorscale\": \"Viridis\", \"line\": {\"width\": 2}, \"size\": 12, \"symbol\": 0}, \"mode\": \"markers\", \"name\": \"Student_39\", \"text\": [\"Student_39\"], \"x\": [0], \"y\": [45], \"type\": \"scatter\", \"uid\": \"29702700-e40c-11e8-a1d0-d7b4c6107baf\"}, {\"marker\": {\"color\": \"rgb(127,0,127)\", \"colorscale\": \"Viridis\", \"line\": {\"width\": 2}, \"size\": 12, \"symbol\": 3}, \"mode\": \"markers\", \"name\": \"Student_40\", \"text\": [\"Student_40\"], \"x\": [4], \"y\": [70], \"type\": \"scatter\", \"uid\": \"29702782-e40c-11e8-a1d0-d7b4c6107baf\"}, {\"marker\": {\"color\": \"rgb(0,255,0)\", \"colorscale\": \"Viridis\", \"line\": {\"width\": 2}, \"size\": 12, \"symbol\": 2}, \"mode\": \"markers\", \"name\": \"Student_41\", \"text\": [\"Student_41\"], \"x\": [39], \"y\": [99], \"type\": \"scatter\", \"uid\": \"29702804-e40c-11e8-a1d0-d7b4c6107baf\"}, {\"marker\": {\"color\": \"rgb(0,0,255)\", \"colorscale\": \"Viridis\", \"line\": {\"width\": 2}, \"size\": 12, \"symbol\": 1}, \"mode\": \"markers\", \"name\": \"Student_42\", \"text\": [\"Student_42\"], \"x\": [14], \"y\": [89], \"type\": \"scatter\", \"uid\": \"29702886-e40c-11e8-a1d0-d7b4c6107baf\"}, {\"marker\": {\"color\": \"rgb(127,0,127)\", \"colorscale\": \"Viridis\", \"line\": {\"width\": 2}, \"size\": 12, \"symbol\": 3}, \"mode\": \"markers\", \"name\": \"Student_43\", \"text\": [\"Student_43\"], \"x\": [11], \"y\": [69], \"type\": \"scatter\", \"uid\": \"29702912-e40c-11e8-a1d0-d7b4c6107baf\"}, {\"marker\": {\"color\": \"rgb(0,0,255)\", \"colorscale\": \"Viridis\", \"line\": {\"width\": 2}, \"size\": 12, \"symbol\": 1}, \"mode\": \"markers\", \"name\": \"Student_44\", \"text\": [\"Student_44\"], \"x\": [18], \"y\": [72], \"type\": \"scatter\", \"uid\": \"29702994-e40c-11e8-a1d0-d7b4c6107baf\"}, {\"marker\": {\"color\": \"rgb(255,0,0)\", \"colorscale\": \"Viridis\", \"line\": {\"width\": 2}, \"size\": 12, \"symbol\": 0}, \"mode\": \"markers\", \"name\": \"Student_45\", \"text\": [\"Student_45\"], \"x\": [3], \"y\": [33], \"type\": \"scatter\", \"uid\": \"29702a16-e40c-11e8-a1d0-d7b4c6107baf\"}, {\"marker\": {\"color\": \"rgb(255,0,0)\", \"colorscale\": \"Viridis\", \"line\": {\"width\": 2}, \"size\": 12, \"symbol\": 0}, \"mode\": \"markers\", \"name\": \"Student_46\", \"text\": [\"Student_46\"], \"x\": [2], \"y\": [36], \"type\": \"scatter\", \"uid\": \"29702a98-e40c-11e8-a1d0-d7b4c6107baf\"}, {\"marker\": {\"color\": \"rgb(0,255,0)\", \"colorscale\": \"Viridis\", \"line\": {\"width\": 2}, \"size\": 12, \"symbol\": 2}, \"mode\": \"markers\", \"name\": \"Student_47\", \"text\": [\"Student_47\"], \"x\": [34], \"y\": [94], \"type\": \"scatter\", \"uid\": \"29702b1a-e40c-11e8-a1d0-d7b4c6107baf\"}, {\"marker\": {\"color\": \"rgb(255,0,0)\", \"colorscale\": \"Viridis\", \"line\": {\"width\": 2}, \"size\": 12, \"symbol\": 0}, \"mode\": \"markers\", \"name\": \"Student_48\", \"text\": [\"Student_48\"], \"x\": [1], \"y\": [41], \"type\": \"scatter\", \"uid\": \"29702b9c-e40c-11e8-a1d0-d7b4c6107baf\"}, {\"marker\": {\"color\": \"rgb(255,0,0)\", \"colorscale\": \"Viridis\", \"line\": {\"width\": 2}, \"size\": 12, \"symbol\": 0}, \"mode\": \"markers\", \"name\": \"Student_49\", \"text\": [\"Student_49\"], \"x\": [3], \"y\": [37], \"type\": \"scatter\", \"uid\": \"29702c14-e40c-11e8-a1d0-d7b4c6107baf\"}, {\"marker\": {\"color\": \"rgb(255,0,0)\", \"colorscale\": \"Viridis\", \"line\": {\"width\": 2}, \"size\": 12, \"symbol\": 0}, \"mode\": \"markers\", \"name\": \"Student_50\", \"text\": [\"Student_50\"], \"x\": [0], \"y\": [26], \"type\": \"scatter\", \"uid\": \"29702c8c-e40c-11e8-a1d0-d7b4c6107baf\"}, {\"marker\": {\"color\": \"rgb(127,0,127)\", \"colorscale\": \"Viridis\", \"line\": {\"width\": 2}, \"size\": 12, \"symbol\": 3}, \"mode\": \"markers\", \"name\": \"Student_51\", \"text\": [\"Student_51\"], \"x\": [0], \"y\": [53], \"type\": \"scatter\", \"uid\": \"29702d0e-e40c-11e8-a1d0-d7b4c6107baf\"}, {\"marker\": {\"color\": \"rgb(255,0,0)\", \"colorscale\": \"Viridis\", \"line\": {\"width\": 2}, \"size\": 12, \"symbol\": 0}, \"mode\": \"markers\", \"name\": \"Student_52\", \"text\": [\"Student_52\"], \"x\": [0], \"y\": [11], \"type\": \"scatter\", \"uid\": \"29702d86-e40c-11e8-a1d0-d7b4c6107baf\"}, {\"marker\": {\"color\": \"rgb(127,0,127)\", \"colorscale\": \"Viridis\", \"line\": {\"width\": 2}, \"size\": 12, \"symbol\": 3}, \"mode\": \"markers\", \"name\": \"Student_53\", \"text\": [\"Student_53\"], \"x\": [8], \"y\": [72], \"type\": \"scatter\", \"uid\": \"29702dfe-e40c-11e8-a1d0-d7b4c6107baf\"}, {\"marker\": {\"color\": \"rgb(255,0,0)\", \"colorscale\": \"Viridis\", \"line\": {\"width\": 2}, \"size\": 12, \"symbol\": 0}, \"mode\": \"markers\", \"name\": \"Student_54\", \"text\": [\"Student_54\"], \"x\": [2], \"y\": [21], \"type\": \"scatter\", \"uid\": \"29702e76-e40c-11e8-a1d0-d7b4c6107baf\"}, {\"marker\": {\"color\": \"rgb(127,0,127)\", \"colorscale\": \"Viridis\", \"line\": {\"width\": 2}, \"size\": 12, \"symbol\": 3}, \"mode\": \"markers\", \"name\": \"Student_55\", \"text\": [\"Student_55\"], \"x\": [13], \"y\": [74], \"type\": \"scatter\", \"uid\": \"29702eee-e40c-11e8-a1d0-d7b4c6107baf\"}, {\"marker\": {\"color\": \"rgb(0,0,255)\", \"colorscale\": \"Viridis\", \"line\": {\"width\": 2}, \"size\": 12, \"symbol\": 1}, \"mode\": \"markers\", \"name\": \"Student_56\", \"text\": [\"Student_56\"], \"x\": [15], \"y\": [82], \"type\": \"scatter\", \"uid\": \"29702f70-e40c-11e8-a1d0-d7b4c6107baf\"}, {\"marker\": {\"color\": \"rgb(127,0,127)\", \"colorscale\": \"Viridis\", \"line\": {\"width\": 2}, \"size\": 12, \"symbol\": 3}, \"mode\": \"markers\", \"name\": \"Student_57\", \"text\": [\"Student_57\"], \"x\": [0], \"y\": [64], \"type\": \"scatter\", \"uid\": \"29702fe8-e40c-11e8-a1d0-d7b4c6107baf\"}, {\"marker\": {\"color\": \"rgb(127,0,127)\", \"colorscale\": \"Viridis\", \"line\": {\"width\": 2}, \"size\": 12, \"symbol\": 3}, \"mode\": \"markers\", \"name\": \"Student_58\", \"text\": [\"Student_58\"], \"x\": [9], \"y\": [67], \"type\": \"scatter\", \"uid\": \"29703060-e40c-11e8-a1d0-d7b4c6107baf\"}, {\"marker\": {\"color\": \"rgb(0,0,255)\", \"colorscale\": \"Viridis\", \"line\": {\"width\": 2}, \"size\": 12, \"symbol\": 1}, \"mode\": \"markers\", \"name\": \"Student_59\", \"text\": [\"Student_59\"], \"x\": [11], \"y\": [72], \"type\": \"scatter\", \"uid\": \"297030e2-e40c-11e8-a1d0-d7b4c6107baf\"}, {\"marker\": {\"color\": \"rgb(127,0,127)\", \"colorscale\": \"Viridis\", \"line\": {\"width\": 2}, \"size\": 12, \"symbol\": 3}, \"mode\": \"markers\", \"name\": \"Student_60\", \"text\": [\"Student_60\"], \"x\": [10], \"y\": [67], \"type\": \"scatter\", \"uid\": \"29703150-e40c-11e8-a1d0-d7b4c6107baf\"}], {\"hovermode\": \"closest\", \"showlegend\": true, \"title\": \"Notas dos estudantes vs postagens respondidas no f\\u00f3rum\", \"xaxis\": {\"autorange\": false, \"fixedrange\": false, \"range\": [0, 49], \"rangemode\": \"normal\", \"showline\": true, \"title\": \"Postagens respondidas no f\\u00f3rum\", \"zeroline\": false}, \"yaxis\": {\"autorange\": false, \"fixedrange\": false, \"range\": [0, 109], \"rangemode\": \"normal\", \"showline\": true, \"title\": \"Notas\"}}, {\"showLink\": true, \"linkText\": \"Export to plot.ly\"})});</script>"
      ]
     },
     "metadata": {},
     "output_type": "display_data"
    },
    {
     "data": {
      "application/vnd.plotly.v1+json": {
       "data": [
        {
         "marker": {
          "color": "rgb(255,0,0)",
          "colorscale": "Viridis",
          "line": {
           "width": 2
          },
          "size": 12,
          "symbol": 0
         },
         "mode": "markers",
         "name": "Student_1",
         "text": [
          "Student_1"
         ],
         "type": "scatter",
         "uid": "29b0b81a-e40c-11e8-a1d0-d7b4c6107baf",
         "x": [
          3
         ],
         "y": [
          43
         ]
        },
        {
         "marker": {
          "color": "rgb(0,255,0)",
          "colorscale": "Viridis",
          "line": {
           "width": 2
          },
          "size": 12,
          "symbol": 2
         },
         "mode": "markers",
         "name": "Student_2",
         "text": [
          "Student_2"
         ],
         "type": "scatter",
         "uid": "29b0ba18-e40c-11e8-a1d0-d7b4c6107baf",
         "x": [
          7
         ],
         "y": [
          92
         ]
        },
        {
         "marker": {
          "color": "rgb(0,0,255)",
          "colorscale": "Viridis",
          "line": {
           "width": 2
          },
          "size": 12,
          "symbol": 1
         },
         "mode": "markers",
         "name": "Student_3",
         "text": [
          "Student_3"
         ],
         "type": "scatter",
         "uid": "29b0bb12-e40c-11e8-a1d0-d7b4c6107baf",
         "x": [
          9
         ],
         "y": [
          82
         ]
        },
        {
         "marker": {
          "color": "rgb(255,0,0)",
          "colorscale": "Viridis",
          "line": {
           "width": 2
          },
          "size": 12,
          "symbol": 0
         },
         "mode": "markers",
         "name": "Student_4",
         "text": [
          "Student_4"
         ],
         "type": "scatter",
         "uid": "29b0bbda-e40c-11e8-a1d0-d7b4c6107baf",
         "x": [
          0
         ],
         "y": [
          48
         ]
        },
        {
         "marker": {
          "color": "rgb(127,0,127)",
          "colorscale": "Viridis",
          "line": {
           "width": 2
          },
          "size": 12,
          "symbol": 3
         },
         "mode": "markers",
         "name": "Student_5",
         "text": [
          "Student_5"
         ],
         "type": "scatter",
         "uid": "29b0bc8e-e40c-11e8-a1d0-d7b4c6107baf",
         "x": [
          0
         ],
         "y": [
          76
         ]
        },
        {
         "marker": {
          "color": "rgb(127,0,127)",
          "colorscale": "Viridis",
          "line": {
           "width": 2
          },
          "size": 12,
          "symbol": 3
         },
         "mode": "markers",
         "name": "Student_6",
         "text": [
          "Student_6"
         ],
         "type": "scatter",
         "uid": "29b0bd38-e40c-11e8-a1d0-d7b4c6107baf",
         "x": [
          1
         ],
         "y": [
          62
         ]
        },
        {
         "marker": {
          "color": "rgb(0,0,255)",
          "colorscale": "Viridis",
          "line": {
           "width": 2
          },
          "size": 12,
          "symbol": 1
         },
         "mode": "markers",
         "name": "Student_7",
         "text": [
          "Student_7"
         ],
         "type": "scatter",
         "uid": "29b0bde2-e40c-11e8-a1d0-d7b4c6107baf",
         "x": [
          4
         ],
         "y": [
          72
         ]
        },
        {
         "marker": {
          "color": "rgb(0,255,0)",
          "colorscale": "Viridis",
          "line": {
           "width": 2
          },
          "size": 12,
          "symbol": 2
         },
         "mode": "markers",
         "name": "Student_8",
         "text": [
          "Student_8"
         ],
         "type": "scatter",
         "uid": "29b0be96-e40c-11e8-a1d0-d7b4c6107baf",
         "x": [
          4
         ],
         "y": [
          92
         ]
        },
        {
         "marker": {
          "color": "rgb(255,0,0)",
          "colorscale": "Viridis",
          "line": {
           "width": 2
          },
          "size": 12,
          "symbol": 0
         },
         "mode": "markers",
         "name": "Student_9",
         "text": [
          "Student_9"
         ],
         "type": "scatter",
         "uid": "29b0bf36-e40c-11e8-a1d0-d7b4c6107baf",
         "x": [
          1
         ],
         "y": [
          40
         ]
        },
        {
         "marker": {
          "color": "rgb(0,255,0)",
          "colorscale": "Viridis",
          "line": {
           "width": 2
          },
          "size": 12,
          "symbol": 2
         },
         "mode": "markers",
         "name": "Student_10",
         "text": [
          "Student_10"
         ],
         "type": "scatter",
         "uid": "29b0bfea-e40c-11e8-a1d0-d7b4c6107baf",
         "x": [
          6
         ],
         "y": [
          83
         ]
        },
        {
         "marker": {
          "color": "rgb(127,0,127)",
          "colorscale": "Viridis",
          "line": {
           "width": 2
          },
          "size": 12,
          "symbol": 3
         },
         "mode": "markers",
         "name": "Student_11",
         "text": [
          "Student_11"
         ],
         "type": "scatter",
         "uid": "29b0c08a-e40c-11e8-a1d0-d7b4c6107baf",
         "x": [
          3
         ],
         "y": [
          74
         ]
        },
        {
         "marker": {
          "color": "rgb(0,0,255)",
          "colorscale": "Viridis",
          "line": {
           "width": 2
          },
          "size": 12,
          "symbol": 1
         },
         "mode": "markers",
         "name": "Student_12",
         "text": [
          "Student_12"
         ],
         "type": "scatter",
         "uid": "29b0c134-e40c-11e8-a1d0-d7b4c6107baf",
         "x": [
          6
         ],
         "y": [
          79
         ]
        },
        {
         "marker": {
          "color": "rgb(0,0,255)",
          "colorscale": "Viridis",
          "line": {
           "width": 2
          },
          "size": 12,
          "symbol": 1
         },
         "mode": "markers",
         "name": "Student_13",
         "text": [
          "Student_13"
         ],
         "type": "scatter",
         "uid": "29b0c1de-e40c-11e8-a1d0-d7b4c6107baf",
         "x": [
          2
         ],
         "y": [
          79
         ]
        },
        {
         "marker": {
          "color": "rgb(255,0,0)",
          "colorscale": "Viridis",
          "line": {
           "width": 2
          },
          "size": 12,
          "symbol": 0
         },
         "mode": "markers",
         "name": "Student_14",
         "text": [
          "Student_14"
         ],
         "type": "scatter",
         "uid": "29b0c27e-e40c-11e8-a1d0-d7b4c6107baf",
         "x": [
          2
         ],
         "y": [
          32
         ]
        },
        {
         "marker": {
          "color": "rgb(0,255,0)",
          "colorscale": "Viridis",
          "line": {
           "width": 2
          },
          "size": 12,
          "symbol": 2
         },
         "mode": "markers",
         "name": "Student_15",
         "text": [
          "Student_15"
         ],
         "type": "scatter",
         "uid": "29b0c328-e40c-11e8-a1d0-d7b4c6107baf",
         "x": [
          7
         ],
         "y": [
          89
         ]
        },
        {
         "marker": {
          "color": "rgb(127,0,127)",
          "colorscale": "Viridis",
          "line": {
           "width": 2
          },
          "size": 12,
          "symbol": 3
         },
         "mode": "markers",
         "name": "Student_16",
         "text": [
          "Student_16"
         ],
         "type": "scatter",
         "uid": "29b0c3d2-e40c-11e8-a1d0-d7b4c6107baf",
         "x": [
          3
         ],
         "y": [
          61
         ]
        },
        {
         "marker": {
          "color": "rgb(127,0,127)",
          "colorscale": "Viridis",
          "line": {
           "width": 2
          },
          "size": 12,
          "symbol": 3
         },
         "mode": "markers",
         "name": "Student_17",
         "text": [
          "Student_17"
         ],
         "type": "scatter",
         "uid": "29b0c47c-e40c-11e8-a1d0-d7b4c6107baf",
         "x": [
          3
         ],
         "y": [
          71
         ]
        },
        {
         "marker": {
          "color": "rgb(127,0,127)",
          "colorscale": "Viridis",
          "line": {
           "width": 2
          },
          "size": 12,
          "symbol": 3
         },
         "mode": "markers",
         "name": "Student_18",
         "text": [
          "Student_18"
         ],
         "type": "scatter",
         "uid": "29b0c51c-e40c-11e8-a1d0-d7b4c6107baf",
         "x": [
          6
         ],
         "y": [
          71
         ]
        },
        {
         "marker": {
          "color": "rgb(127,0,127)",
          "colorscale": "Viridis",
          "line": {
           "width": 2
          },
          "size": 12,
          "symbol": 3
         },
         "mode": "markers",
         "name": "Student_19",
         "text": [
          "Student_19"
         ],
         "type": "scatter",
         "uid": "29b0c5c6-e40c-11e8-a1d0-d7b4c6107baf",
         "x": [
          6
         ],
         "y": [
          62
         ]
        },
        {
         "marker": {
          "color": "rgb(255,0,0)",
          "colorscale": "Viridis",
          "line": {
           "width": 2
          },
          "size": 12,
          "symbol": 0
         },
         "mode": "markers",
         "name": "Student_20",
         "text": [
          "Student_20"
         ],
         "type": "scatter",
         "uid": "29b0c670-e40c-11e8-a1d0-d7b4c6107baf",
         "x": [
          1
         ],
         "y": [
          39
         ]
        },
        {
         "marker": {
          "color": "rgb(127,0,127)",
          "colorscale": "Viridis",
          "line": {
           "width": 2
          },
          "size": 12,
          "symbol": 3
         },
         "mode": "markers",
         "name": "Student_21",
         "text": [
          "Student_21"
         ],
         "type": "scatter",
         "uid": "29b0c710-e40c-11e8-a1d0-d7b4c6107baf",
         "x": [
          4
         ],
         "y": [
          69
         ]
        },
        {
         "marker": {
          "color": "rgb(0,0,255)",
          "colorscale": "Viridis",
          "line": {
           "width": 2
          },
          "size": 12,
          "symbol": 1
         },
         "mode": "markers",
         "name": "Student_22",
         "text": [
          "Student_22"
         ],
         "type": "scatter",
         "uid": "29b0c7c4-e40c-11e8-a1d0-d7b4c6107baf",
         "x": [
          8
         ],
         "y": [
          84
         ]
        },
        {
         "marker": {
          "color": "rgb(127,0,127)",
          "colorscale": "Viridis",
          "line": {
           "width": 2
          },
          "size": 12,
          "symbol": 3
         },
         "mode": "markers",
         "name": "Student_23",
         "text": [
          "Student_23"
         ],
         "type": "scatter",
         "uid": "29b0c864-e40c-11e8-a1d0-d7b4c6107baf",
         "x": [
          1
         ],
         "y": [
          63
         ]
        },
        {
         "marker": {
          "color": "rgb(127,0,127)",
          "colorscale": "Viridis",
          "line": {
           "width": 2
          },
          "size": 12,
          "symbol": 3
         },
         "mode": "markers",
         "name": "Student_24",
         "text": [
          "Student_24"
         ],
         "type": "scatter",
         "uid": "29b0c90e-e40c-11e8-a1d0-d7b4c6107baf",
         "x": [
          1
         ],
         "y": [
          57
         ]
        },
        {
         "marker": {
          "color": "rgb(0,0,255)",
          "colorscale": "Viridis",
          "line": {
           "width": 2
          },
          "size": 12,
          "symbol": 1
         },
         "mode": "markers",
         "name": "Student_25",
         "text": [
          "Student_25"
         ],
         "type": "scatter",
         "uid": "29b0c9b8-e40c-11e8-a1d0-d7b4c6107baf",
         "x": [
          5
         ],
         "y": [
          74
         ]
        },
        {
         "marker": {
          "color": "rgb(127,0,127)",
          "colorscale": "Viridis",
          "line": {
           "width": 2
          },
          "size": 12,
          "symbol": 3
         },
         "mode": "markers",
         "name": "Student_26",
         "text": [
          "Student_26"
         ],
         "type": "scatter",
         "uid": "29b0ca62-e40c-11e8-a1d0-d7b4c6107baf",
         "x": [
          3
         ],
         "y": [
          59
         ]
        },
        {
         "marker": {
          "color": "rgb(0,255,0)",
          "colorscale": "Viridis",
          "line": {
           "width": 2
          },
          "size": 12,
          "symbol": 2
         },
         "mode": "markers",
         "name": "Student_27",
         "text": [
          "Student_27"
         ],
         "type": "scatter",
         "uid": "29b0cb0c-e40c-11e8-a1d0-d7b4c6107baf",
         "x": [
          13
         ],
         "y": [
          93
         ]
        },
        {
         "marker": {
          "color": "rgb(255,0,0)",
          "colorscale": "Viridis",
          "line": {
           "width": 2
          },
          "size": 12,
          "symbol": 0
         },
         "mode": "markers",
         "name": "Student_28",
         "text": [
          "Student_28"
         ],
         "type": "scatter",
         "uid": "29b0cbac-e40c-11e8-a1d0-d7b4c6107baf",
         "x": [
          2
         ],
         "y": [
          29
         ]
        },
        {
         "marker": {
          "color": "rgb(255,0,0)",
          "colorscale": "Viridis",
          "line": {
           "width": 2
          },
          "size": 12,
          "symbol": 0
         },
         "mode": "markers",
         "name": "Student_29",
         "text": [
          "Student_29"
         ],
         "type": "scatter",
         "uid": "29b0cc56-e40c-11e8-a1d0-d7b4c6107baf",
         "x": [
          1
         ],
         "y": [
          22
         ]
        },
        {
         "marker": {
          "color": "rgb(255,0,0)",
          "colorscale": "Viridis",
          "line": {
           "width": 2
          },
          "size": 12,
          "symbol": 0
         },
         "mode": "markers",
         "name": "Student_30",
         "text": [
          "Student_30"
         ],
         "type": "scatter",
         "uid": "29b0ccf6-e40c-11e8-a1d0-d7b4c6107baf",
         "x": [
          0
         ],
         "y": [
          53
         ]
        },
        {
         "marker": {
          "color": "rgb(255,0,0)",
          "colorscale": "Viridis",
          "line": {
           "width": 2
          },
          "size": 12,
          "symbol": 0
         },
         "mode": "markers",
         "name": "Student_31",
         "text": [
          "Student_31"
         ],
         "type": "scatter",
         "uid": "29b0cda0-e40c-11e8-a1d0-d7b4c6107baf",
         "x": [
          2
         ],
         "y": [
          48
         ]
        },
        {
         "marker": {
          "color": "rgb(127,0,127)",
          "colorscale": "Viridis",
          "line": {
           "width": 2
          },
          "size": 12,
          "symbol": 3
         },
         "mode": "markers",
         "name": "Student_32",
         "text": [
          "Student_32"
         ],
         "type": "scatter",
         "uid": "29b0ce4a-e40c-11e8-a1d0-d7b4c6107baf",
         "x": [
          3
         ],
         "y": [
          75
         ]
        },
        {
         "marker": {
          "color": "rgb(255,0,0)",
          "colorscale": "Viridis",
          "line": {
           "width": 2
          },
          "size": 12,
          "symbol": 0
         },
         "mode": "markers",
         "name": "Student_33",
         "text": [
          "Student_33"
         ],
         "type": "scatter",
         "uid": "29b0cefe-e40c-11e8-a1d0-d7b4c6107baf",
         "x": [
          2
         ],
         "y": [
          27
         ]
        },
        {
         "marker": {
          "color": "rgb(127,0,127)",
          "colorscale": "Viridis",
          "line": {
           "width": 2
          },
          "size": 12,
          "symbol": 3
         },
         "mode": "markers",
         "name": "Student_34",
         "text": [
          "Student_34"
         ],
         "type": "scatter",
         "uid": "29b0cfa8-e40c-11e8-a1d0-d7b4c6107baf",
         "x": [
          0
         ],
         "y": [
          73
         ]
        },
        {
         "marker": {
          "color": "rgb(255,0,0)",
          "colorscale": "Viridis",
          "line": {
           "width": 2
          },
          "size": 12,
          "symbol": 0
         },
         "mode": "markers",
         "name": "Student_35",
         "text": [
          "Student_35"
         ],
         "type": "scatter",
         "uid": "29b0d052-e40c-11e8-a1d0-d7b4c6107baf",
         "x": [
          3
         ],
         "y": [
          38
         ]
        },
        {
         "marker": {
          "color": "rgb(255,0,0)",
          "colorscale": "Viridis",
          "line": {
           "width": 2
          },
          "size": 12,
          "symbol": 0
         },
         "mode": "markers",
         "name": "Student_36",
         "text": [
          "Student_36"
         ],
         "type": "scatter",
         "uid": "29b0d0fc-e40c-11e8-a1d0-d7b4c6107baf",
         "x": [
          3
         ],
         "y": [
          36
         ]
        },
        {
         "marker": {
          "color": "rgb(0,0,255)",
          "colorscale": "Viridis",
          "line": {
           "width": 2
          },
          "size": 12,
          "symbol": 1
         },
         "mode": "markers",
         "name": "Student_37",
         "text": [
          "Student_37"
         ],
         "type": "scatter",
         "uid": "29b0d1a6-e40c-11e8-a1d0-d7b4c6107baf",
         "x": [
          4
         ],
         "y": [
          81
         ]
        },
        {
         "marker": {
          "color": "rgb(0,0,255)",
          "colorscale": "Viridis",
          "line": {
           "width": 2
          },
          "size": 12,
          "symbol": 1
         },
         "mode": "markers",
         "name": "Student_38",
         "text": [
          "Student_38"
         ],
         "type": "scatter",
         "uid": "29b0d246-e40c-11e8-a1d0-d7b4c6107baf",
         "x": [
          10
         ],
         "y": [
          84
         ]
        },
        {
         "marker": {
          "color": "rgb(255,0,0)",
          "colorscale": "Viridis",
          "line": {
           "width": 2
          },
          "size": 12,
          "symbol": 0
         },
         "mode": "markers",
         "name": "Student_39",
         "text": [
          "Student_39"
         ],
         "type": "scatter",
         "uid": "29b0d2f0-e40c-11e8-a1d0-d7b4c6107baf",
         "x": [
          0
         ],
         "y": [
          45
         ]
        },
        {
         "marker": {
          "color": "rgb(127,0,127)",
          "colorscale": "Viridis",
          "line": {
           "width": 2
          },
          "size": 12,
          "symbol": 3
         },
         "mode": "markers",
         "name": "Student_40",
         "text": [
          "Student_40"
         ],
         "type": "scatter",
         "uid": "29b0d39a-e40c-11e8-a1d0-d7b4c6107baf",
         "x": [
          7
         ],
         "y": [
          70
         ]
        },
        {
         "marker": {
          "color": "rgb(0,255,0)",
          "colorscale": "Viridis",
          "line": {
           "width": 2
          },
          "size": 12,
          "symbol": 2
         },
         "mode": "markers",
         "name": "Student_41",
         "text": [
          "Student_41"
         ],
         "type": "scatter",
         "uid": "29b0d444-e40c-11e8-a1d0-d7b4c6107baf",
         "x": [
          7
         ],
         "y": [
          99
         ]
        },
        {
         "marker": {
          "color": "rgb(0,0,255)",
          "colorscale": "Viridis",
          "line": {
           "width": 2
          },
          "size": 12,
          "symbol": 1
         },
         "mode": "markers",
         "name": "Student_42",
         "text": [
          "Student_42"
         ],
         "type": "scatter",
         "uid": "29b0d4ee-e40c-11e8-a1d0-d7b4c6107baf",
         "x": [
          1
         ],
         "y": [
          89
         ]
        },
        {
         "marker": {
          "color": "rgb(127,0,127)",
          "colorscale": "Viridis",
          "line": {
           "width": 2
          },
          "size": 12,
          "symbol": 3
         },
         "mode": "markers",
         "name": "Student_43",
         "text": [
          "Student_43"
         ],
         "type": "scatter",
         "uid": "29b0d598-e40c-11e8-a1d0-d7b4c6107baf",
         "x": [
          1
         ],
         "y": [
          69
         ]
        },
        {
         "marker": {
          "color": "rgb(0,0,255)",
          "colorscale": "Viridis",
          "line": {
           "width": 2
          },
          "size": 12,
          "symbol": 1
         },
         "mode": "markers",
         "name": "Student_44",
         "text": [
          "Student_44"
         ],
         "type": "scatter",
         "uid": "29b0d642-e40c-11e8-a1d0-d7b4c6107baf",
         "x": [
          3
         ],
         "y": [
          72
         ]
        },
        {
         "marker": {
          "color": "rgb(255,0,0)",
          "colorscale": "Viridis",
          "line": {
           "width": 2
          },
          "size": 12,
          "symbol": 0
         },
         "mode": "markers",
         "name": "Student_45",
         "text": [
          "Student_45"
         ],
         "type": "scatter",
         "uid": "29b0d6e2-e40c-11e8-a1d0-d7b4c6107baf",
         "x": [
          3
         ],
         "y": [
          33
         ]
        },
        {
         "marker": {
          "color": "rgb(255,0,0)",
          "colorscale": "Viridis",
          "line": {
           "width": 2
          },
          "size": 12,
          "symbol": 0
         },
         "mode": "markers",
         "name": "Student_46",
         "text": [
          "Student_46"
         ],
         "type": "scatter",
         "uid": "29b0d78c-e40c-11e8-a1d0-d7b4c6107baf",
         "x": [
          1
         ],
         "y": [
          36
         ]
        },
        {
         "marker": {
          "color": "rgb(0,255,0)",
          "colorscale": "Viridis",
          "line": {
           "width": 2
          },
          "size": 12,
          "symbol": 2
         },
         "mode": "markers",
         "name": "Student_47",
         "text": [
          "Student_47"
         ],
         "type": "scatter",
         "uid": "29b0d82c-e40c-11e8-a1d0-d7b4c6107baf",
         "x": [
          8
         ],
         "y": [
          94
         ]
        },
        {
         "marker": {
          "color": "rgb(255,0,0)",
          "colorscale": "Viridis",
          "line": {
           "width": 2
          },
          "size": 12,
          "symbol": 0
         },
         "mode": "markers",
         "name": "Student_48",
         "text": [
          "Student_48"
         ],
         "type": "scatter",
         "uid": "29b0d8cc-e40c-11e8-a1d0-d7b4c6107baf",
         "x": [
          0
         ],
         "y": [
          41
         ]
        },
        {
         "marker": {
          "color": "rgb(255,0,0)",
          "colorscale": "Viridis",
          "line": {
           "width": 2
          },
          "size": 12,
          "symbol": 0
         },
         "mode": "markers",
         "name": "Student_49",
         "text": [
          "Student_49"
         ],
         "type": "scatter",
         "uid": "29b0d976-e40c-11e8-a1d0-d7b4c6107baf",
         "x": [
          0
         ],
         "y": [
          37
         ]
        },
        {
         "marker": {
          "color": "rgb(255,0,0)",
          "colorscale": "Viridis",
          "line": {
           "width": 2
          },
          "size": 12,
          "symbol": 0
         },
         "mode": "markers",
         "name": "Student_50",
         "text": [
          "Student_50"
         ],
         "type": "scatter",
         "uid": "29b0da16-e40c-11e8-a1d0-d7b4c6107baf",
         "x": [
          2
         ],
         "y": [
          26
         ]
        },
        {
         "marker": {
          "color": "rgb(127,0,127)",
          "colorscale": "Viridis",
          "line": {
           "width": 2
          },
          "size": 12,
          "symbol": 3
         },
         "mode": "markers",
         "name": "Student_51",
         "text": [
          "Student_51"
         ],
         "type": "scatter",
         "uid": "29b0dac0-e40c-11e8-a1d0-d7b4c6107baf",
         "x": [
          3
         ],
         "y": [
          53
         ]
        },
        {
         "marker": {
          "color": "rgb(255,0,0)",
          "colorscale": "Viridis",
          "line": {
           "width": 2
          },
          "size": 12,
          "symbol": 0
         },
         "mode": "markers",
         "name": "Student_52",
         "text": [
          "Student_52"
         ],
         "type": "scatter",
         "uid": "29b0db60-e40c-11e8-a1d0-d7b4c6107baf",
         "x": [
          2
         ],
         "y": [
          11
         ]
        },
        {
         "marker": {
          "color": "rgb(127,0,127)",
          "colorscale": "Viridis",
          "line": {
           "width": 2
          },
          "size": 12,
          "symbol": 3
         },
         "mode": "markers",
         "name": "Student_53",
         "text": [
          "Student_53"
         ],
         "type": "scatter",
         "uid": "29b0dc0a-e40c-11e8-a1d0-d7b4c6107baf",
         "x": [
          3
         ],
         "y": [
          72
         ]
        },
        {
         "marker": {
          "color": "rgb(255,0,0)",
          "colorscale": "Viridis",
          "line": {
           "width": 2
          },
          "size": 12,
          "symbol": 0
         },
         "mode": "markers",
         "name": "Student_54",
         "text": [
          "Student_54"
         ],
         "type": "scatter",
         "uid": "29b0dcaa-e40c-11e8-a1d0-d7b4c6107baf",
         "x": [
          1
         ],
         "y": [
          21
         ]
        },
        {
         "marker": {
          "color": "rgb(127,0,127)",
          "colorscale": "Viridis",
          "line": {
           "width": 2
          },
          "size": 12,
          "symbol": 3
         },
         "mode": "markers",
         "name": "Student_55",
         "text": [
          "Student_55"
         ],
         "type": "scatter",
         "uid": "29b0dd4a-e40c-11e8-a1d0-d7b4c6107baf",
         "x": [
          3
         ],
         "y": [
          74
         ]
        },
        {
         "marker": {
          "color": "rgb(0,0,255)",
          "colorscale": "Viridis",
          "line": {
           "width": 2
          },
          "size": 12,
          "symbol": 1
         },
         "mode": "markers",
         "name": "Student_56",
         "text": [
          "Student_56"
         ],
         "type": "scatter",
         "uid": "29b0ddea-e40c-11e8-a1d0-d7b4c6107baf",
         "x": [
          6
         ],
         "y": [
          82
         ]
        },
        {
         "marker": {
          "color": "rgb(127,0,127)",
          "colorscale": "Viridis",
          "line": {
           "width": 2
          },
          "size": 12,
          "symbol": 3
         },
         "mode": "markers",
         "name": "Student_57",
         "text": [
          "Student_57"
         ],
         "type": "scatter",
         "uid": "29b0de94-e40c-11e8-a1d0-d7b4c6107baf",
         "x": [
          5
         ],
         "y": [
          64
         ]
        },
        {
         "marker": {
          "color": "rgb(127,0,127)",
          "colorscale": "Viridis",
          "line": {
           "width": 2
          },
          "size": 12,
          "symbol": 3
         },
         "mode": "markers",
         "name": "Student_58",
         "text": [
          "Student_58"
         ],
         "type": "scatter",
         "uid": "29b0df34-e40c-11e8-a1d0-d7b4c6107baf",
         "x": [
          7
         ],
         "y": [
          67
         ]
        },
        {
         "marker": {
          "color": "rgb(0,0,255)",
          "colorscale": "Viridis",
          "line": {
           "width": 2
          },
          "size": 12,
          "symbol": 1
         },
         "mode": "markers",
         "name": "Student_59",
         "text": [
          "Student_59"
         ],
         "type": "scatter",
         "uid": "29b0dfd4-e40c-11e8-a1d0-d7b4c6107baf",
         "x": [
          2
         ],
         "y": [
          72
         ]
        },
        {
         "marker": {
          "color": "rgb(127,0,127)",
          "colorscale": "Viridis",
          "line": {
           "width": 2
          },
          "size": 12,
          "symbol": 3
         },
         "mode": "markers",
         "name": "Student_60",
         "text": [
          "Student_60"
         ],
         "type": "scatter",
         "uid": "29b0e074-e40c-11e8-a1d0-d7b4c6107baf",
         "x": [
          0
         ],
         "y": [
          67
         ]
        }
       ],
       "layout": {
        "hovermode": "closest",
        "showlegend": true,
        "title": "Notas dos estudantes vs threads iniciadas no fórum",
        "xaxis": {
         "autorange": false,
         "fixedrange": false,
         "range": [
          0,
          23
         ],
         "rangemode": "normal",
         "showline": true,
         "title": "Threads iniciadas no fórum",
         "zeroline": false
        },
        "yaxis": {
         "autorange": false,
         "fixedrange": false,
         "range": [
          0,
          109
         ],
         "rangemode": "normal",
         "showline": true,
         "title": "Notas"
        }
       }
      },
      "text/html": [
       "<div id=\"b5a14dc0-a692-4015-a116-c336f29825f5\" style=\"height: 525px; width: 100%;\" class=\"plotly-graph-div\"></div><script type=\"text/javascript\">require([\"plotly\"], function(Plotly) { window.PLOTLYENV=window.PLOTLYENV || {};window.PLOTLYENV.BASE_URL=\"https://plot.ly\";Plotly.newPlot(\"b5a14dc0-a692-4015-a116-c336f29825f5\", [{\"marker\": {\"color\": \"rgb(255,0,0)\", \"colorscale\": \"Viridis\", \"line\": {\"width\": 2}, \"size\": 12, \"symbol\": 0}, \"mode\": \"markers\", \"name\": \"Student_1\", \"text\": [\"Student_1\"], \"x\": [3], \"y\": [43], \"type\": \"scatter\", \"uid\": \"29b0b81a-e40c-11e8-a1d0-d7b4c6107baf\"}, {\"marker\": {\"color\": \"rgb(0,255,0)\", \"colorscale\": \"Viridis\", \"line\": {\"width\": 2}, \"size\": 12, \"symbol\": 2}, \"mode\": \"markers\", \"name\": \"Student_2\", \"text\": [\"Student_2\"], \"x\": [7], \"y\": [92], \"type\": \"scatter\", \"uid\": \"29b0ba18-e40c-11e8-a1d0-d7b4c6107baf\"}, {\"marker\": {\"color\": \"rgb(0,0,255)\", \"colorscale\": \"Viridis\", \"line\": {\"width\": 2}, \"size\": 12, \"symbol\": 1}, \"mode\": \"markers\", \"name\": \"Student_3\", \"text\": [\"Student_3\"], \"x\": [9], \"y\": [82], \"type\": \"scatter\", \"uid\": \"29b0bb12-e40c-11e8-a1d0-d7b4c6107baf\"}, {\"marker\": {\"color\": \"rgb(255,0,0)\", \"colorscale\": \"Viridis\", \"line\": {\"width\": 2}, \"size\": 12, \"symbol\": 0}, \"mode\": \"markers\", \"name\": \"Student_4\", \"text\": [\"Student_4\"], \"x\": [0], \"y\": [48], \"type\": \"scatter\", \"uid\": \"29b0bbda-e40c-11e8-a1d0-d7b4c6107baf\"}, {\"marker\": {\"color\": \"rgb(127,0,127)\", \"colorscale\": \"Viridis\", \"line\": {\"width\": 2}, \"size\": 12, \"symbol\": 3}, \"mode\": \"markers\", \"name\": \"Student_5\", \"text\": [\"Student_5\"], \"x\": [0], \"y\": [76], \"type\": \"scatter\", \"uid\": \"29b0bc8e-e40c-11e8-a1d0-d7b4c6107baf\"}, {\"marker\": {\"color\": \"rgb(127,0,127)\", \"colorscale\": \"Viridis\", \"line\": {\"width\": 2}, \"size\": 12, \"symbol\": 3}, \"mode\": \"markers\", \"name\": \"Student_6\", \"text\": [\"Student_6\"], \"x\": [1], \"y\": [62], \"type\": \"scatter\", \"uid\": \"29b0bd38-e40c-11e8-a1d0-d7b4c6107baf\"}, {\"marker\": {\"color\": \"rgb(0,0,255)\", \"colorscale\": \"Viridis\", \"line\": {\"width\": 2}, \"size\": 12, \"symbol\": 1}, \"mode\": \"markers\", \"name\": \"Student_7\", \"text\": [\"Student_7\"], \"x\": [4], \"y\": [72], \"type\": \"scatter\", \"uid\": \"29b0bde2-e40c-11e8-a1d0-d7b4c6107baf\"}, {\"marker\": {\"color\": \"rgb(0,255,0)\", \"colorscale\": \"Viridis\", \"line\": {\"width\": 2}, \"size\": 12, \"symbol\": 2}, \"mode\": \"markers\", \"name\": \"Student_8\", \"text\": [\"Student_8\"], \"x\": [4], \"y\": [92], \"type\": \"scatter\", \"uid\": \"29b0be96-e40c-11e8-a1d0-d7b4c6107baf\"}, {\"marker\": {\"color\": \"rgb(255,0,0)\", \"colorscale\": \"Viridis\", \"line\": {\"width\": 2}, \"size\": 12, \"symbol\": 0}, \"mode\": \"markers\", \"name\": \"Student_9\", \"text\": [\"Student_9\"], \"x\": [1], \"y\": [40], \"type\": \"scatter\", \"uid\": \"29b0bf36-e40c-11e8-a1d0-d7b4c6107baf\"}, {\"marker\": {\"color\": \"rgb(0,255,0)\", \"colorscale\": \"Viridis\", \"line\": {\"width\": 2}, \"size\": 12, \"symbol\": 2}, \"mode\": \"markers\", \"name\": \"Student_10\", \"text\": [\"Student_10\"], \"x\": [6], \"y\": [83], \"type\": \"scatter\", \"uid\": \"29b0bfea-e40c-11e8-a1d0-d7b4c6107baf\"}, {\"marker\": {\"color\": \"rgb(127,0,127)\", \"colorscale\": \"Viridis\", \"line\": {\"width\": 2}, \"size\": 12, \"symbol\": 3}, \"mode\": \"markers\", \"name\": \"Student_11\", \"text\": [\"Student_11\"], \"x\": [3], \"y\": [74], \"type\": \"scatter\", \"uid\": \"29b0c08a-e40c-11e8-a1d0-d7b4c6107baf\"}, {\"marker\": {\"color\": \"rgb(0,0,255)\", \"colorscale\": \"Viridis\", \"line\": {\"width\": 2}, \"size\": 12, \"symbol\": 1}, \"mode\": \"markers\", \"name\": \"Student_12\", \"text\": [\"Student_12\"], \"x\": [6], \"y\": [79], \"type\": \"scatter\", \"uid\": \"29b0c134-e40c-11e8-a1d0-d7b4c6107baf\"}, {\"marker\": {\"color\": \"rgb(0,0,255)\", \"colorscale\": \"Viridis\", \"line\": {\"width\": 2}, \"size\": 12, \"symbol\": 1}, \"mode\": \"markers\", \"name\": \"Student_13\", \"text\": [\"Student_13\"], \"x\": [2], \"y\": [79], \"type\": \"scatter\", \"uid\": \"29b0c1de-e40c-11e8-a1d0-d7b4c6107baf\"}, {\"marker\": {\"color\": \"rgb(255,0,0)\", \"colorscale\": \"Viridis\", \"line\": {\"width\": 2}, \"size\": 12, \"symbol\": 0}, \"mode\": \"markers\", \"name\": \"Student_14\", \"text\": [\"Student_14\"], \"x\": [2], \"y\": [32], \"type\": \"scatter\", \"uid\": \"29b0c27e-e40c-11e8-a1d0-d7b4c6107baf\"}, {\"marker\": {\"color\": \"rgb(0,255,0)\", \"colorscale\": \"Viridis\", \"line\": {\"width\": 2}, \"size\": 12, \"symbol\": 2}, \"mode\": \"markers\", \"name\": \"Student_15\", \"text\": [\"Student_15\"], \"x\": [7], \"y\": [89], \"type\": \"scatter\", \"uid\": \"29b0c328-e40c-11e8-a1d0-d7b4c6107baf\"}, {\"marker\": {\"color\": \"rgb(127,0,127)\", \"colorscale\": \"Viridis\", \"line\": {\"width\": 2}, \"size\": 12, \"symbol\": 3}, \"mode\": \"markers\", \"name\": \"Student_16\", \"text\": [\"Student_16\"], \"x\": [3], \"y\": [61], \"type\": \"scatter\", \"uid\": \"29b0c3d2-e40c-11e8-a1d0-d7b4c6107baf\"}, {\"marker\": {\"color\": \"rgb(127,0,127)\", \"colorscale\": \"Viridis\", \"line\": {\"width\": 2}, \"size\": 12, \"symbol\": 3}, \"mode\": \"markers\", \"name\": \"Student_17\", \"text\": [\"Student_17\"], \"x\": [3], \"y\": [71], \"type\": \"scatter\", \"uid\": \"29b0c47c-e40c-11e8-a1d0-d7b4c6107baf\"}, {\"marker\": {\"color\": \"rgb(127,0,127)\", \"colorscale\": \"Viridis\", \"line\": {\"width\": 2}, \"size\": 12, \"symbol\": 3}, \"mode\": \"markers\", \"name\": \"Student_18\", \"text\": [\"Student_18\"], \"x\": [6], \"y\": [71], \"type\": \"scatter\", \"uid\": \"29b0c51c-e40c-11e8-a1d0-d7b4c6107baf\"}, {\"marker\": {\"color\": \"rgb(127,0,127)\", \"colorscale\": \"Viridis\", \"line\": {\"width\": 2}, \"size\": 12, \"symbol\": 3}, \"mode\": \"markers\", \"name\": \"Student_19\", \"text\": [\"Student_19\"], \"x\": [6], \"y\": [62], \"type\": \"scatter\", \"uid\": \"29b0c5c6-e40c-11e8-a1d0-d7b4c6107baf\"}, {\"marker\": {\"color\": \"rgb(255,0,0)\", \"colorscale\": \"Viridis\", \"line\": {\"width\": 2}, \"size\": 12, \"symbol\": 0}, \"mode\": \"markers\", \"name\": \"Student_20\", \"text\": [\"Student_20\"], \"x\": [1], \"y\": [39], \"type\": \"scatter\", \"uid\": \"29b0c670-e40c-11e8-a1d0-d7b4c6107baf\"}, {\"marker\": {\"color\": \"rgb(127,0,127)\", \"colorscale\": \"Viridis\", \"line\": {\"width\": 2}, \"size\": 12, \"symbol\": 3}, \"mode\": \"markers\", \"name\": \"Student_21\", \"text\": [\"Student_21\"], \"x\": [4], \"y\": [69], \"type\": \"scatter\", \"uid\": \"29b0c710-e40c-11e8-a1d0-d7b4c6107baf\"}, {\"marker\": {\"color\": \"rgb(0,0,255)\", \"colorscale\": \"Viridis\", \"line\": {\"width\": 2}, \"size\": 12, \"symbol\": 1}, \"mode\": \"markers\", \"name\": \"Student_22\", \"text\": [\"Student_22\"], \"x\": [8], \"y\": [84], \"type\": \"scatter\", \"uid\": \"29b0c7c4-e40c-11e8-a1d0-d7b4c6107baf\"}, {\"marker\": {\"color\": \"rgb(127,0,127)\", \"colorscale\": \"Viridis\", \"line\": {\"width\": 2}, \"size\": 12, \"symbol\": 3}, \"mode\": \"markers\", \"name\": \"Student_23\", \"text\": [\"Student_23\"], \"x\": [1], \"y\": [63], \"type\": \"scatter\", \"uid\": \"29b0c864-e40c-11e8-a1d0-d7b4c6107baf\"}, {\"marker\": {\"color\": \"rgb(127,0,127)\", \"colorscale\": \"Viridis\", \"line\": {\"width\": 2}, \"size\": 12, \"symbol\": 3}, \"mode\": \"markers\", \"name\": \"Student_24\", \"text\": [\"Student_24\"], \"x\": [1], \"y\": [57], \"type\": \"scatter\", \"uid\": \"29b0c90e-e40c-11e8-a1d0-d7b4c6107baf\"}, {\"marker\": {\"color\": \"rgb(0,0,255)\", \"colorscale\": \"Viridis\", \"line\": {\"width\": 2}, \"size\": 12, \"symbol\": 1}, \"mode\": \"markers\", \"name\": \"Student_25\", \"text\": [\"Student_25\"], \"x\": [5], \"y\": [74], \"type\": \"scatter\", \"uid\": \"29b0c9b8-e40c-11e8-a1d0-d7b4c6107baf\"}, {\"marker\": {\"color\": \"rgb(127,0,127)\", \"colorscale\": \"Viridis\", \"line\": {\"width\": 2}, \"size\": 12, \"symbol\": 3}, \"mode\": \"markers\", \"name\": \"Student_26\", \"text\": [\"Student_26\"], \"x\": [3], \"y\": [59], \"type\": \"scatter\", \"uid\": \"29b0ca62-e40c-11e8-a1d0-d7b4c6107baf\"}, {\"marker\": {\"color\": \"rgb(0,255,0)\", \"colorscale\": \"Viridis\", \"line\": {\"width\": 2}, \"size\": 12, \"symbol\": 2}, \"mode\": \"markers\", \"name\": \"Student_27\", \"text\": [\"Student_27\"], \"x\": [13], \"y\": [93], \"type\": \"scatter\", \"uid\": \"29b0cb0c-e40c-11e8-a1d0-d7b4c6107baf\"}, {\"marker\": {\"color\": \"rgb(255,0,0)\", \"colorscale\": \"Viridis\", \"line\": {\"width\": 2}, \"size\": 12, \"symbol\": 0}, \"mode\": \"markers\", \"name\": \"Student_28\", \"text\": [\"Student_28\"], \"x\": [2], \"y\": [29], \"type\": \"scatter\", \"uid\": \"29b0cbac-e40c-11e8-a1d0-d7b4c6107baf\"}, {\"marker\": {\"color\": \"rgb(255,0,0)\", \"colorscale\": \"Viridis\", \"line\": {\"width\": 2}, \"size\": 12, \"symbol\": 0}, \"mode\": \"markers\", \"name\": \"Student_29\", \"text\": [\"Student_29\"], \"x\": [1], \"y\": [22], \"type\": \"scatter\", \"uid\": \"29b0cc56-e40c-11e8-a1d0-d7b4c6107baf\"}, {\"marker\": {\"color\": \"rgb(255,0,0)\", \"colorscale\": \"Viridis\", \"line\": {\"width\": 2}, \"size\": 12, \"symbol\": 0}, \"mode\": \"markers\", \"name\": \"Student_30\", \"text\": [\"Student_30\"], \"x\": [0], \"y\": [53], \"type\": \"scatter\", \"uid\": \"29b0ccf6-e40c-11e8-a1d0-d7b4c6107baf\"}, {\"marker\": {\"color\": \"rgb(255,0,0)\", \"colorscale\": \"Viridis\", \"line\": {\"width\": 2}, \"size\": 12, \"symbol\": 0}, \"mode\": \"markers\", \"name\": \"Student_31\", \"text\": [\"Student_31\"], \"x\": [2], \"y\": [48], \"type\": \"scatter\", \"uid\": \"29b0cda0-e40c-11e8-a1d0-d7b4c6107baf\"}, {\"marker\": {\"color\": \"rgb(127,0,127)\", \"colorscale\": \"Viridis\", \"line\": {\"width\": 2}, \"size\": 12, \"symbol\": 3}, \"mode\": \"markers\", \"name\": \"Student_32\", \"text\": [\"Student_32\"], \"x\": [3], \"y\": [75], \"type\": \"scatter\", \"uid\": \"29b0ce4a-e40c-11e8-a1d0-d7b4c6107baf\"}, {\"marker\": {\"color\": \"rgb(255,0,0)\", \"colorscale\": \"Viridis\", \"line\": {\"width\": 2}, \"size\": 12, \"symbol\": 0}, \"mode\": \"markers\", \"name\": \"Student_33\", \"text\": [\"Student_33\"], \"x\": [2], \"y\": [27], \"type\": \"scatter\", \"uid\": \"29b0cefe-e40c-11e8-a1d0-d7b4c6107baf\"}, {\"marker\": {\"color\": \"rgb(127,0,127)\", \"colorscale\": \"Viridis\", \"line\": {\"width\": 2}, \"size\": 12, \"symbol\": 3}, \"mode\": \"markers\", \"name\": \"Student_34\", \"text\": [\"Student_34\"], \"x\": [0], \"y\": [73], \"type\": \"scatter\", \"uid\": \"29b0cfa8-e40c-11e8-a1d0-d7b4c6107baf\"}, {\"marker\": {\"color\": \"rgb(255,0,0)\", \"colorscale\": \"Viridis\", \"line\": {\"width\": 2}, \"size\": 12, \"symbol\": 0}, \"mode\": \"markers\", \"name\": \"Student_35\", \"text\": [\"Student_35\"], \"x\": [3], \"y\": [38], \"type\": \"scatter\", \"uid\": \"29b0d052-e40c-11e8-a1d0-d7b4c6107baf\"}, {\"marker\": {\"color\": \"rgb(255,0,0)\", \"colorscale\": \"Viridis\", \"line\": {\"width\": 2}, \"size\": 12, \"symbol\": 0}, \"mode\": \"markers\", \"name\": \"Student_36\", \"text\": [\"Student_36\"], \"x\": [3], \"y\": [36], \"type\": \"scatter\", \"uid\": \"29b0d0fc-e40c-11e8-a1d0-d7b4c6107baf\"}, {\"marker\": {\"color\": \"rgb(0,0,255)\", \"colorscale\": \"Viridis\", \"line\": {\"width\": 2}, \"size\": 12, \"symbol\": 1}, \"mode\": \"markers\", \"name\": \"Student_37\", \"text\": [\"Student_37\"], \"x\": [4], \"y\": [81], \"type\": \"scatter\", \"uid\": \"29b0d1a6-e40c-11e8-a1d0-d7b4c6107baf\"}, {\"marker\": {\"color\": \"rgb(0,0,255)\", \"colorscale\": \"Viridis\", \"line\": {\"width\": 2}, \"size\": 12, \"symbol\": 1}, \"mode\": \"markers\", \"name\": \"Student_38\", \"text\": [\"Student_38\"], \"x\": [10], \"y\": [84], \"type\": \"scatter\", \"uid\": \"29b0d246-e40c-11e8-a1d0-d7b4c6107baf\"}, {\"marker\": {\"color\": \"rgb(255,0,0)\", \"colorscale\": \"Viridis\", \"line\": {\"width\": 2}, \"size\": 12, \"symbol\": 0}, \"mode\": \"markers\", \"name\": \"Student_39\", \"text\": [\"Student_39\"], \"x\": [0], \"y\": [45], \"type\": \"scatter\", \"uid\": \"29b0d2f0-e40c-11e8-a1d0-d7b4c6107baf\"}, {\"marker\": {\"color\": \"rgb(127,0,127)\", \"colorscale\": \"Viridis\", \"line\": {\"width\": 2}, \"size\": 12, \"symbol\": 3}, \"mode\": \"markers\", \"name\": \"Student_40\", \"text\": [\"Student_40\"], \"x\": [7], \"y\": [70], \"type\": \"scatter\", \"uid\": \"29b0d39a-e40c-11e8-a1d0-d7b4c6107baf\"}, {\"marker\": {\"color\": \"rgb(0,255,0)\", \"colorscale\": \"Viridis\", \"line\": {\"width\": 2}, \"size\": 12, \"symbol\": 2}, \"mode\": \"markers\", \"name\": \"Student_41\", \"text\": [\"Student_41\"], \"x\": [7], \"y\": [99], \"type\": \"scatter\", \"uid\": \"29b0d444-e40c-11e8-a1d0-d7b4c6107baf\"}, {\"marker\": {\"color\": \"rgb(0,0,255)\", \"colorscale\": \"Viridis\", \"line\": {\"width\": 2}, \"size\": 12, \"symbol\": 1}, \"mode\": \"markers\", \"name\": \"Student_42\", \"text\": [\"Student_42\"], \"x\": [1], \"y\": [89], \"type\": \"scatter\", \"uid\": \"29b0d4ee-e40c-11e8-a1d0-d7b4c6107baf\"}, {\"marker\": {\"color\": \"rgb(127,0,127)\", \"colorscale\": \"Viridis\", \"line\": {\"width\": 2}, \"size\": 12, \"symbol\": 3}, \"mode\": \"markers\", \"name\": \"Student_43\", \"text\": [\"Student_43\"], \"x\": [1], \"y\": [69], \"type\": \"scatter\", \"uid\": \"29b0d598-e40c-11e8-a1d0-d7b4c6107baf\"}, {\"marker\": {\"color\": \"rgb(0,0,255)\", \"colorscale\": \"Viridis\", \"line\": {\"width\": 2}, \"size\": 12, \"symbol\": 1}, \"mode\": \"markers\", \"name\": \"Student_44\", \"text\": [\"Student_44\"], \"x\": [3], \"y\": [72], \"type\": \"scatter\", \"uid\": \"29b0d642-e40c-11e8-a1d0-d7b4c6107baf\"}, {\"marker\": {\"color\": \"rgb(255,0,0)\", \"colorscale\": \"Viridis\", \"line\": {\"width\": 2}, \"size\": 12, \"symbol\": 0}, \"mode\": \"markers\", \"name\": \"Student_45\", \"text\": [\"Student_45\"], \"x\": [3], \"y\": [33], \"type\": \"scatter\", \"uid\": \"29b0d6e2-e40c-11e8-a1d0-d7b4c6107baf\"}, {\"marker\": {\"color\": \"rgb(255,0,0)\", \"colorscale\": \"Viridis\", \"line\": {\"width\": 2}, \"size\": 12, \"symbol\": 0}, \"mode\": \"markers\", \"name\": \"Student_46\", \"text\": [\"Student_46\"], \"x\": [1], \"y\": [36], \"type\": \"scatter\", \"uid\": \"29b0d78c-e40c-11e8-a1d0-d7b4c6107baf\"}, {\"marker\": {\"color\": \"rgb(0,255,0)\", \"colorscale\": \"Viridis\", \"line\": {\"width\": 2}, \"size\": 12, \"symbol\": 2}, \"mode\": \"markers\", \"name\": \"Student_47\", \"text\": [\"Student_47\"], \"x\": [8], \"y\": [94], \"type\": \"scatter\", \"uid\": \"29b0d82c-e40c-11e8-a1d0-d7b4c6107baf\"}, {\"marker\": {\"color\": \"rgb(255,0,0)\", \"colorscale\": \"Viridis\", \"line\": {\"width\": 2}, \"size\": 12, \"symbol\": 0}, \"mode\": \"markers\", \"name\": \"Student_48\", \"text\": [\"Student_48\"], \"x\": [0], \"y\": [41], \"type\": \"scatter\", \"uid\": \"29b0d8cc-e40c-11e8-a1d0-d7b4c6107baf\"}, {\"marker\": {\"color\": \"rgb(255,0,0)\", \"colorscale\": \"Viridis\", \"line\": {\"width\": 2}, \"size\": 12, \"symbol\": 0}, \"mode\": \"markers\", \"name\": \"Student_49\", \"text\": [\"Student_49\"], \"x\": [0], \"y\": [37], \"type\": \"scatter\", \"uid\": \"29b0d976-e40c-11e8-a1d0-d7b4c6107baf\"}, {\"marker\": {\"color\": \"rgb(255,0,0)\", \"colorscale\": \"Viridis\", \"line\": {\"width\": 2}, \"size\": 12, \"symbol\": 0}, \"mode\": \"markers\", \"name\": \"Student_50\", \"text\": [\"Student_50\"], \"x\": [2], \"y\": [26], \"type\": \"scatter\", \"uid\": \"29b0da16-e40c-11e8-a1d0-d7b4c6107baf\"}, {\"marker\": {\"color\": \"rgb(127,0,127)\", \"colorscale\": \"Viridis\", \"line\": {\"width\": 2}, \"size\": 12, \"symbol\": 3}, \"mode\": \"markers\", \"name\": \"Student_51\", \"text\": [\"Student_51\"], \"x\": [3], \"y\": [53], \"type\": \"scatter\", \"uid\": \"29b0dac0-e40c-11e8-a1d0-d7b4c6107baf\"}, {\"marker\": {\"color\": \"rgb(255,0,0)\", \"colorscale\": \"Viridis\", \"line\": {\"width\": 2}, \"size\": 12, \"symbol\": 0}, \"mode\": \"markers\", \"name\": \"Student_52\", \"text\": [\"Student_52\"], \"x\": [2], \"y\": [11], \"type\": \"scatter\", \"uid\": \"29b0db60-e40c-11e8-a1d0-d7b4c6107baf\"}, {\"marker\": {\"color\": \"rgb(127,0,127)\", \"colorscale\": \"Viridis\", \"line\": {\"width\": 2}, \"size\": 12, \"symbol\": 3}, \"mode\": \"markers\", \"name\": \"Student_53\", \"text\": [\"Student_53\"], \"x\": [3], \"y\": [72], \"type\": \"scatter\", \"uid\": \"29b0dc0a-e40c-11e8-a1d0-d7b4c6107baf\"}, {\"marker\": {\"color\": \"rgb(255,0,0)\", \"colorscale\": \"Viridis\", \"line\": {\"width\": 2}, \"size\": 12, \"symbol\": 0}, \"mode\": \"markers\", \"name\": \"Student_54\", \"text\": [\"Student_54\"], \"x\": [1], \"y\": [21], \"type\": \"scatter\", \"uid\": \"29b0dcaa-e40c-11e8-a1d0-d7b4c6107baf\"}, {\"marker\": {\"color\": \"rgb(127,0,127)\", \"colorscale\": \"Viridis\", \"line\": {\"width\": 2}, \"size\": 12, \"symbol\": 3}, \"mode\": \"markers\", \"name\": \"Student_55\", \"text\": [\"Student_55\"], \"x\": [3], \"y\": [74], \"type\": \"scatter\", \"uid\": \"29b0dd4a-e40c-11e8-a1d0-d7b4c6107baf\"}, {\"marker\": {\"color\": \"rgb(0,0,255)\", \"colorscale\": \"Viridis\", \"line\": {\"width\": 2}, \"size\": 12, \"symbol\": 1}, \"mode\": \"markers\", \"name\": \"Student_56\", \"text\": [\"Student_56\"], \"x\": [6], \"y\": [82], \"type\": \"scatter\", \"uid\": \"29b0ddea-e40c-11e8-a1d0-d7b4c6107baf\"}, {\"marker\": {\"color\": \"rgb(127,0,127)\", \"colorscale\": \"Viridis\", \"line\": {\"width\": 2}, \"size\": 12, \"symbol\": 3}, \"mode\": \"markers\", \"name\": \"Student_57\", \"text\": [\"Student_57\"], \"x\": [5], \"y\": [64], \"type\": \"scatter\", \"uid\": \"29b0de94-e40c-11e8-a1d0-d7b4c6107baf\"}, {\"marker\": {\"color\": \"rgb(127,0,127)\", \"colorscale\": \"Viridis\", \"line\": {\"width\": 2}, \"size\": 12, \"symbol\": 3}, \"mode\": \"markers\", \"name\": \"Student_58\", \"text\": [\"Student_58\"], \"x\": [7], \"y\": [67], \"type\": \"scatter\", \"uid\": \"29b0df34-e40c-11e8-a1d0-d7b4c6107baf\"}, {\"marker\": {\"color\": \"rgb(0,0,255)\", \"colorscale\": \"Viridis\", \"line\": {\"width\": 2}, \"size\": 12, \"symbol\": 1}, \"mode\": \"markers\", \"name\": \"Student_59\", \"text\": [\"Student_59\"], \"x\": [2], \"y\": [72], \"type\": \"scatter\", \"uid\": \"29b0dfd4-e40c-11e8-a1d0-d7b4c6107baf\"}, {\"marker\": {\"color\": \"rgb(127,0,127)\", \"colorscale\": \"Viridis\", \"line\": {\"width\": 2}, \"size\": 12, \"symbol\": 3}, \"mode\": \"markers\", \"name\": \"Student_60\", \"text\": [\"Student_60\"], \"x\": [0], \"y\": [67], \"type\": \"scatter\", \"uid\": \"29b0e074-e40c-11e8-a1d0-d7b4c6107baf\"}], {\"hovermode\": \"closest\", \"showlegend\": true, \"title\": \"Notas dos estudantes vs threads iniciadas no f\\u00f3rum\", \"xaxis\": {\"autorange\": false, \"fixedrange\": false, \"range\": [0, 23], \"rangemode\": \"normal\", \"showline\": true, \"title\": \"Threads iniciadas no f\\u00f3rum\", \"zeroline\": false}, \"yaxis\": {\"autorange\": false, \"fixedrange\": false, \"range\": [0, 109], \"rangemode\": \"normal\", \"showline\": true, \"title\": \"Notas\"}}, {\"showLink\": true, \"linkText\": \"Export to plot.ly\"})});</script>"
      ],
      "text/vnd.plotly.v1+html": [
       "<div id=\"b5a14dc0-a692-4015-a116-c336f29825f5\" style=\"height: 525px; width: 100%;\" class=\"plotly-graph-div\"></div><script type=\"text/javascript\">require([\"plotly\"], function(Plotly) { window.PLOTLYENV=window.PLOTLYENV || {};window.PLOTLYENV.BASE_URL=\"https://plot.ly\";Plotly.newPlot(\"b5a14dc0-a692-4015-a116-c336f29825f5\", [{\"marker\": {\"color\": \"rgb(255,0,0)\", \"colorscale\": \"Viridis\", \"line\": {\"width\": 2}, \"size\": 12, \"symbol\": 0}, \"mode\": \"markers\", \"name\": \"Student_1\", \"text\": [\"Student_1\"], \"x\": [3], \"y\": [43], \"type\": \"scatter\", \"uid\": \"29b0b81a-e40c-11e8-a1d0-d7b4c6107baf\"}, {\"marker\": {\"color\": \"rgb(0,255,0)\", \"colorscale\": \"Viridis\", \"line\": {\"width\": 2}, \"size\": 12, \"symbol\": 2}, \"mode\": \"markers\", \"name\": \"Student_2\", \"text\": [\"Student_2\"], \"x\": [7], \"y\": [92], \"type\": \"scatter\", \"uid\": \"29b0ba18-e40c-11e8-a1d0-d7b4c6107baf\"}, {\"marker\": {\"color\": \"rgb(0,0,255)\", \"colorscale\": \"Viridis\", \"line\": {\"width\": 2}, \"size\": 12, \"symbol\": 1}, \"mode\": \"markers\", \"name\": \"Student_3\", \"text\": [\"Student_3\"], \"x\": [9], \"y\": [82], \"type\": \"scatter\", \"uid\": \"29b0bb12-e40c-11e8-a1d0-d7b4c6107baf\"}, {\"marker\": {\"color\": \"rgb(255,0,0)\", \"colorscale\": \"Viridis\", \"line\": {\"width\": 2}, \"size\": 12, \"symbol\": 0}, \"mode\": \"markers\", \"name\": \"Student_4\", \"text\": [\"Student_4\"], \"x\": [0], \"y\": [48], \"type\": \"scatter\", \"uid\": \"29b0bbda-e40c-11e8-a1d0-d7b4c6107baf\"}, {\"marker\": {\"color\": \"rgb(127,0,127)\", \"colorscale\": \"Viridis\", \"line\": {\"width\": 2}, \"size\": 12, \"symbol\": 3}, \"mode\": \"markers\", \"name\": \"Student_5\", \"text\": [\"Student_5\"], \"x\": [0], \"y\": [76], \"type\": \"scatter\", \"uid\": \"29b0bc8e-e40c-11e8-a1d0-d7b4c6107baf\"}, {\"marker\": {\"color\": \"rgb(127,0,127)\", \"colorscale\": \"Viridis\", \"line\": {\"width\": 2}, \"size\": 12, \"symbol\": 3}, \"mode\": \"markers\", \"name\": \"Student_6\", \"text\": [\"Student_6\"], \"x\": [1], \"y\": [62], \"type\": \"scatter\", \"uid\": \"29b0bd38-e40c-11e8-a1d0-d7b4c6107baf\"}, {\"marker\": {\"color\": \"rgb(0,0,255)\", \"colorscale\": \"Viridis\", \"line\": {\"width\": 2}, \"size\": 12, \"symbol\": 1}, \"mode\": \"markers\", \"name\": \"Student_7\", \"text\": [\"Student_7\"], \"x\": [4], \"y\": [72], \"type\": \"scatter\", \"uid\": \"29b0bde2-e40c-11e8-a1d0-d7b4c6107baf\"}, {\"marker\": {\"color\": \"rgb(0,255,0)\", \"colorscale\": \"Viridis\", \"line\": {\"width\": 2}, \"size\": 12, \"symbol\": 2}, \"mode\": \"markers\", \"name\": \"Student_8\", \"text\": [\"Student_8\"], \"x\": [4], \"y\": [92], \"type\": \"scatter\", \"uid\": \"29b0be96-e40c-11e8-a1d0-d7b4c6107baf\"}, {\"marker\": {\"color\": \"rgb(255,0,0)\", \"colorscale\": \"Viridis\", \"line\": {\"width\": 2}, \"size\": 12, \"symbol\": 0}, \"mode\": \"markers\", \"name\": \"Student_9\", \"text\": [\"Student_9\"], \"x\": [1], \"y\": [40], \"type\": \"scatter\", \"uid\": \"29b0bf36-e40c-11e8-a1d0-d7b4c6107baf\"}, {\"marker\": {\"color\": \"rgb(0,255,0)\", \"colorscale\": \"Viridis\", \"line\": {\"width\": 2}, \"size\": 12, \"symbol\": 2}, \"mode\": \"markers\", \"name\": \"Student_10\", \"text\": [\"Student_10\"], \"x\": [6], \"y\": [83], \"type\": \"scatter\", \"uid\": \"29b0bfea-e40c-11e8-a1d0-d7b4c6107baf\"}, {\"marker\": {\"color\": \"rgb(127,0,127)\", \"colorscale\": \"Viridis\", \"line\": {\"width\": 2}, \"size\": 12, \"symbol\": 3}, \"mode\": \"markers\", \"name\": \"Student_11\", \"text\": [\"Student_11\"], \"x\": [3], \"y\": [74], \"type\": \"scatter\", \"uid\": \"29b0c08a-e40c-11e8-a1d0-d7b4c6107baf\"}, {\"marker\": {\"color\": \"rgb(0,0,255)\", \"colorscale\": \"Viridis\", \"line\": {\"width\": 2}, \"size\": 12, \"symbol\": 1}, \"mode\": \"markers\", \"name\": \"Student_12\", \"text\": [\"Student_12\"], \"x\": [6], \"y\": [79], \"type\": \"scatter\", \"uid\": \"29b0c134-e40c-11e8-a1d0-d7b4c6107baf\"}, {\"marker\": {\"color\": \"rgb(0,0,255)\", \"colorscale\": \"Viridis\", \"line\": {\"width\": 2}, \"size\": 12, \"symbol\": 1}, \"mode\": \"markers\", \"name\": \"Student_13\", \"text\": [\"Student_13\"], \"x\": [2], \"y\": [79], \"type\": \"scatter\", \"uid\": \"29b0c1de-e40c-11e8-a1d0-d7b4c6107baf\"}, {\"marker\": {\"color\": \"rgb(255,0,0)\", \"colorscale\": \"Viridis\", \"line\": {\"width\": 2}, \"size\": 12, \"symbol\": 0}, \"mode\": \"markers\", \"name\": \"Student_14\", \"text\": [\"Student_14\"], \"x\": [2], \"y\": [32], \"type\": \"scatter\", \"uid\": \"29b0c27e-e40c-11e8-a1d0-d7b4c6107baf\"}, {\"marker\": {\"color\": \"rgb(0,255,0)\", \"colorscale\": \"Viridis\", \"line\": {\"width\": 2}, \"size\": 12, \"symbol\": 2}, \"mode\": \"markers\", \"name\": \"Student_15\", \"text\": [\"Student_15\"], \"x\": [7], \"y\": [89], \"type\": \"scatter\", \"uid\": \"29b0c328-e40c-11e8-a1d0-d7b4c6107baf\"}, {\"marker\": {\"color\": \"rgb(127,0,127)\", \"colorscale\": \"Viridis\", \"line\": {\"width\": 2}, \"size\": 12, \"symbol\": 3}, \"mode\": \"markers\", \"name\": \"Student_16\", \"text\": [\"Student_16\"], \"x\": [3], \"y\": [61], \"type\": \"scatter\", \"uid\": \"29b0c3d2-e40c-11e8-a1d0-d7b4c6107baf\"}, {\"marker\": {\"color\": \"rgb(127,0,127)\", \"colorscale\": \"Viridis\", \"line\": {\"width\": 2}, \"size\": 12, \"symbol\": 3}, \"mode\": \"markers\", \"name\": \"Student_17\", \"text\": [\"Student_17\"], \"x\": [3], \"y\": [71], \"type\": \"scatter\", \"uid\": \"29b0c47c-e40c-11e8-a1d0-d7b4c6107baf\"}, {\"marker\": {\"color\": \"rgb(127,0,127)\", \"colorscale\": \"Viridis\", \"line\": {\"width\": 2}, \"size\": 12, \"symbol\": 3}, \"mode\": \"markers\", \"name\": \"Student_18\", \"text\": [\"Student_18\"], \"x\": [6], \"y\": [71], \"type\": \"scatter\", \"uid\": \"29b0c51c-e40c-11e8-a1d0-d7b4c6107baf\"}, {\"marker\": {\"color\": \"rgb(127,0,127)\", \"colorscale\": \"Viridis\", \"line\": {\"width\": 2}, \"size\": 12, \"symbol\": 3}, \"mode\": \"markers\", \"name\": \"Student_19\", \"text\": [\"Student_19\"], \"x\": [6], \"y\": [62], \"type\": \"scatter\", \"uid\": \"29b0c5c6-e40c-11e8-a1d0-d7b4c6107baf\"}, {\"marker\": {\"color\": \"rgb(255,0,0)\", \"colorscale\": \"Viridis\", \"line\": {\"width\": 2}, \"size\": 12, \"symbol\": 0}, \"mode\": \"markers\", \"name\": \"Student_20\", \"text\": [\"Student_20\"], \"x\": [1], \"y\": [39], \"type\": \"scatter\", \"uid\": \"29b0c670-e40c-11e8-a1d0-d7b4c6107baf\"}, {\"marker\": {\"color\": \"rgb(127,0,127)\", \"colorscale\": \"Viridis\", \"line\": {\"width\": 2}, \"size\": 12, \"symbol\": 3}, \"mode\": \"markers\", \"name\": \"Student_21\", \"text\": [\"Student_21\"], \"x\": [4], \"y\": [69], \"type\": \"scatter\", \"uid\": \"29b0c710-e40c-11e8-a1d0-d7b4c6107baf\"}, {\"marker\": {\"color\": \"rgb(0,0,255)\", \"colorscale\": \"Viridis\", \"line\": {\"width\": 2}, \"size\": 12, \"symbol\": 1}, \"mode\": \"markers\", \"name\": \"Student_22\", \"text\": [\"Student_22\"], \"x\": [8], \"y\": [84], \"type\": \"scatter\", \"uid\": \"29b0c7c4-e40c-11e8-a1d0-d7b4c6107baf\"}, {\"marker\": {\"color\": \"rgb(127,0,127)\", \"colorscale\": \"Viridis\", \"line\": {\"width\": 2}, \"size\": 12, \"symbol\": 3}, \"mode\": \"markers\", \"name\": \"Student_23\", \"text\": [\"Student_23\"], \"x\": [1], \"y\": [63], \"type\": \"scatter\", \"uid\": \"29b0c864-e40c-11e8-a1d0-d7b4c6107baf\"}, {\"marker\": {\"color\": \"rgb(127,0,127)\", \"colorscale\": \"Viridis\", \"line\": {\"width\": 2}, \"size\": 12, \"symbol\": 3}, \"mode\": \"markers\", \"name\": \"Student_24\", \"text\": [\"Student_24\"], \"x\": [1], \"y\": [57], \"type\": \"scatter\", \"uid\": \"29b0c90e-e40c-11e8-a1d0-d7b4c6107baf\"}, {\"marker\": {\"color\": \"rgb(0,0,255)\", \"colorscale\": \"Viridis\", \"line\": {\"width\": 2}, \"size\": 12, \"symbol\": 1}, \"mode\": \"markers\", \"name\": \"Student_25\", \"text\": [\"Student_25\"], \"x\": [5], \"y\": [74], \"type\": \"scatter\", \"uid\": \"29b0c9b8-e40c-11e8-a1d0-d7b4c6107baf\"}, {\"marker\": {\"color\": \"rgb(127,0,127)\", \"colorscale\": \"Viridis\", \"line\": {\"width\": 2}, \"size\": 12, \"symbol\": 3}, \"mode\": \"markers\", \"name\": \"Student_26\", \"text\": [\"Student_26\"], \"x\": [3], \"y\": [59], \"type\": \"scatter\", \"uid\": \"29b0ca62-e40c-11e8-a1d0-d7b4c6107baf\"}, {\"marker\": {\"color\": \"rgb(0,255,0)\", \"colorscale\": \"Viridis\", \"line\": {\"width\": 2}, \"size\": 12, \"symbol\": 2}, \"mode\": \"markers\", \"name\": \"Student_27\", \"text\": [\"Student_27\"], \"x\": [13], \"y\": [93], \"type\": \"scatter\", \"uid\": \"29b0cb0c-e40c-11e8-a1d0-d7b4c6107baf\"}, {\"marker\": {\"color\": \"rgb(255,0,0)\", \"colorscale\": \"Viridis\", \"line\": {\"width\": 2}, \"size\": 12, \"symbol\": 0}, \"mode\": \"markers\", \"name\": \"Student_28\", \"text\": [\"Student_28\"], \"x\": [2], \"y\": [29], \"type\": \"scatter\", \"uid\": \"29b0cbac-e40c-11e8-a1d0-d7b4c6107baf\"}, {\"marker\": {\"color\": \"rgb(255,0,0)\", \"colorscale\": \"Viridis\", \"line\": {\"width\": 2}, \"size\": 12, \"symbol\": 0}, \"mode\": \"markers\", \"name\": \"Student_29\", \"text\": [\"Student_29\"], \"x\": [1], \"y\": [22], \"type\": \"scatter\", \"uid\": \"29b0cc56-e40c-11e8-a1d0-d7b4c6107baf\"}, {\"marker\": {\"color\": \"rgb(255,0,0)\", \"colorscale\": \"Viridis\", \"line\": {\"width\": 2}, \"size\": 12, \"symbol\": 0}, \"mode\": \"markers\", \"name\": \"Student_30\", \"text\": [\"Student_30\"], \"x\": [0], \"y\": [53], \"type\": \"scatter\", \"uid\": \"29b0ccf6-e40c-11e8-a1d0-d7b4c6107baf\"}, {\"marker\": {\"color\": \"rgb(255,0,0)\", \"colorscale\": \"Viridis\", \"line\": {\"width\": 2}, \"size\": 12, \"symbol\": 0}, \"mode\": \"markers\", \"name\": \"Student_31\", \"text\": [\"Student_31\"], \"x\": [2], \"y\": [48], \"type\": \"scatter\", \"uid\": \"29b0cda0-e40c-11e8-a1d0-d7b4c6107baf\"}, {\"marker\": {\"color\": \"rgb(127,0,127)\", \"colorscale\": \"Viridis\", \"line\": {\"width\": 2}, \"size\": 12, \"symbol\": 3}, \"mode\": \"markers\", \"name\": \"Student_32\", \"text\": [\"Student_32\"], \"x\": [3], \"y\": [75], \"type\": \"scatter\", \"uid\": \"29b0ce4a-e40c-11e8-a1d0-d7b4c6107baf\"}, {\"marker\": {\"color\": \"rgb(255,0,0)\", \"colorscale\": \"Viridis\", \"line\": {\"width\": 2}, \"size\": 12, \"symbol\": 0}, \"mode\": \"markers\", \"name\": \"Student_33\", \"text\": [\"Student_33\"], \"x\": [2], \"y\": [27], \"type\": \"scatter\", \"uid\": \"29b0cefe-e40c-11e8-a1d0-d7b4c6107baf\"}, {\"marker\": {\"color\": \"rgb(127,0,127)\", \"colorscale\": \"Viridis\", \"line\": {\"width\": 2}, \"size\": 12, \"symbol\": 3}, \"mode\": \"markers\", \"name\": \"Student_34\", \"text\": [\"Student_34\"], \"x\": [0], \"y\": [73], \"type\": \"scatter\", \"uid\": \"29b0cfa8-e40c-11e8-a1d0-d7b4c6107baf\"}, {\"marker\": {\"color\": \"rgb(255,0,0)\", \"colorscale\": \"Viridis\", \"line\": {\"width\": 2}, \"size\": 12, \"symbol\": 0}, \"mode\": \"markers\", \"name\": \"Student_35\", \"text\": [\"Student_35\"], \"x\": [3], \"y\": [38], \"type\": \"scatter\", \"uid\": \"29b0d052-e40c-11e8-a1d0-d7b4c6107baf\"}, {\"marker\": {\"color\": \"rgb(255,0,0)\", \"colorscale\": \"Viridis\", \"line\": {\"width\": 2}, \"size\": 12, \"symbol\": 0}, \"mode\": \"markers\", \"name\": \"Student_36\", \"text\": [\"Student_36\"], \"x\": [3], \"y\": [36], \"type\": \"scatter\", \"uid\": \"29b0d0fc-e40c-11e8-a1d0-d7b4c6107baf\"}, {\"marker\": {\"color\": \"rgb(0,0,255)\", \"colorscale\": \"Viridis\", \"line\": {\"width\": 2}, \"size\": 12, \"symbol\": 1}, \"mode\": \"markers\", \"name\": \"Student_37\", \"text\": [\"Student_37\"], \"x\": [4], \"y\": [81], \"type\": \"scatter\", \"uid\": \"29b0d1a6-e40c-11e8-a1d0-d7b4c6107baf\"}, {\"marker\": {\"color\": \"rgb(0,0,255)\", \"colorscale\": \"Viridis\", \"line\": {\"width\": 2}, \"size\": 12, \"symbol\": 1}, \"mode\": \"markers\", \"name\": \"Student_38\", \"text\": [\"Student_38\"], \"x\": [10], \"y\": [84], \"type\": \"scatter\", \"uid\": \"29b0d246-e40c-11e8-a1d0-d7b4c6107baf\"}, {\"marker\": {\"color\": \"rgb(255,0,0)\", \"colorscale\": \"Viridis\", \"line\": {\"width\": 2}, \"size\": 12, \"symbol\": 0}, \"mode\": \"markers\", \"name\": \"Student_39\", \"text\": [\"Student_39\"], \"x\": [0], \"y\": [45], \"type\": \"scatter\", \"uid\": \"29b0d2f0-e40c-11e8-a1d0-d7b4c6107baf\"}, {\"marker\": {\"color\": \"rgb(127,0,127)\", \"colorscale\": \"Viridis\", \"line\": {\"width\": 2}, \"size\": 12, \"symbol\": 3}, \"mode\": \"markers\", \"name\": \"Student_40\", \"text\": [\"Student_40\"], \"x\": [7], \"y\": [70], \"type\": \"scatter\", \"uid\": \"29b0d39a-e40c-11e8-a1d0-d7b4c6107baf\"}, {\"marker\": {\"color\": \"rgb(0,255,0)\", \"colorscale\": \"Viridis\", \"line\": {\"width\": 2}, \"size\": 12, \"symbol\": 2}, \"mode\": \"markers\", \"name\": \"Student_41\", \"text\": [\"Student_41\"], \"x\": [7], \"y\": [99], \"type\": \"scatter\", \"uid\": \"29b0d444-e40c-11e8-a1d0-d7b4c6107baf\"}, {\"marker\": {\"color\": \"rgb(0,0,255)\", \"colorscale\": \"Viridis\", \"line\": {\"width\": 2}, \"size\": 12, \"symbol\": 1}, \"mode\": \"markers\", \"name\": \"Student_42\", \"text\": [\"Student_42\"], \"x\": [1], \"y\": [89], \"type\": \"scatter\", \"uid\": \"29b0d4ee-e40c-11e8-a1d0-d7b4c6107baf\"}, {\"marker\": {\"color\": \"rgb(127,0,127)\", \"colorscale\": \"Viridis\", \"line\": {\"width\": 2}, \"size\": 12, \"symbol\": 3}, \"mode\": \"markers\", \"name\": \"Student_43\", \"text\": [\"Student_43\"], \"x\": [1], \"y\": [69], \"type\": \"scatter\", \"uid\": \"29b0d598-e40c-11e8-a1d0-d7b4c6107baf\"}, {\"marker\": {\"color\": \"rgb(0,0,255)\", \"colorscale\": \"Viridis\", \"line\": {\"width\": 2}, \"size\": 12, \"symbol\": 1}, \"mode\": \"markers\", \"name\": \"Student_44\", \"text\": [\"Student_44\"], \"x\": [3], \"y\": [72], \"type\": \"scatter\", \"uid\": \"29b0d642-e40c-11e8-a1d0-d7b4c6107baf\"}, {\"marker\": {\"color\": \"rgb(255,0,0)\", \"colorscale\": \"Viridis\", \"line\": {\"width\": 2}, \"size\": 12, \"symbol\": 0}, \"mode\": \"markers\", \"name\": \"Student_45\", \"text\": [\"Student_45\"], \"x\": [3], \"y\": [33], \"type\": \"scatter\", \"uid\": \"29b0d6e2-e40c-11e8-a1d0-d7b4c6107baf\"}, {\"marker\": {\"color\": \"rgb(255,0,0)\", \"colorscale\": \"Viridis\", \"line\": {\"width\": 2}, \"size\": 12, \"symbol\": 0}, \"mode\": \"markers\", \"name\": \"Student_46\", \"text\": [\"Student_46\"], \"x\": [1], \"y\": [36], \"type\": \"scatter\", \"uid\": \"29b0d78c-e40c-11e8-a1d0-d7b4c6107baf\"}, {\"marker\": {\"color\": \"rgb(0,255,0)\", \"colorscale\": \"Viridis\", \"line\": {\"width\": 2}, \"size\": 12, \"symbol\": 2}, \"mode\": \"markers\", \"name\": \"Student_47\", \"text\": [\"Student_47\"], \"x\": [8], \"y\": [94], \"type\": \"scatter\", \"uid\": \"29b0d82c-e40c-11e8-a1d0-d7b4c6107baf\"}, {\"marker\": {\"color\": \"rgb(255,0,0)\", \"colorscale\": \"Viridis\", \"line\": {\"width\": 2}, \"size\": 12, \"symbol\": 0}, \"mode\": \"markers\", \"name\": \"Student_48\", \"text\": [\"Student_48\"], \"x\": [0], \"y\": [41], \"type\": \"scatter\", \"uid\": \"29b0d8cc-e40c-11e8-a1d0-d7b4c6107baf\"}, {\"marker\": {\"color\": \"rgb(255,0,0)\", \"colorscale\": \"Viridis\", \"line\": {\"width\": 2}, \"size\": 12, \"symbol\": 0}, \"mode\": \"markers\", \"name\": \"Student_49\", \"text\": [\"Student_49\"], \"x\": [0], \"y\": [37], \"type\": \"scatter\", \"uid\": \"29b0d976-e40c-11e8-a1d0-d7b4c6107baf\"}, {\"marker\": {\"color\": \"rgb(255,0,0)\", \"colorscale\": \"Viridis\", \"line\": {\"width\": 2}, \"size\": 12, \"symbol\": 0}, \"mode\": \"markers\", \"name\": \"Student_50\", \"text\": [\"Student_50\"], \"x\": [2], \"y\": [26], \"type\": \"scatter\", \"uid\": \"29b0da16-e40c-11e8-a1d0-d7b4c6107baf\"}, {\"marker\": {\"color\": \"rgb(127,0,127)\", \"colorscale\": \"Viridis\", \"line\": {\"width\": 2}, \"size\": 12, \"symbol\": 3}, \"mode\": \"markers\", \"name\": \"Student_51\", \"text\": [\"Student_51\"], \"x\": [3], \"y\": [53], \"type\": \"scatter\", \"uid\": \"29b0dac0-e40c-11e8-a1d0-d7b4c6107baf\"}, {\"marker\": {\"color\": \"rgb(255,0,0)\", \"colorscale\": \"Viridis\", \"line\": {\"width\": 2}, \"size\": 12, \"symbol\": 0}, \"mode\": \"markers\", \"name\": \"Student_52\", \"text\": [\"Student_52\"], \"x\": [2], \"y\": [11], \"type\": \"scatter\", \"uid\": \"29b0db60-e40c-11e8-a1d0-d7b4c6107baf\"}, {\"marker\": {\"color\": \"rgb(127,0,127)\", \"colorscale\": \"Viridis\", \"line\": {\"width\": 2}, \"size\": 12, \"symbol\": 3}, \"mode\": \"markers\", \"name\": \"Student_53\", \"text\": [\"Student_53\"], \"x\": [3], \"y\": [72], \"type\": \"scatter\", \"uid\": \"29b0dc0a-e40c-11e8-a1d0-d7b4c6107baf\"}, {\"marker\": {\"color\": \"rgb(255,0,0)\", \"colorscale\": \"Viridis\", \"line\": {\"width\": 2}, \"size\": 12, \"symbol\": 0}, \"mode\": \"markers\", \"name\": \"Student_54\", \"text\": [\"Student_54\"], \"x\": [1], \"y\": [21], \"type\": \"scatter\", \"uid\": \"29b0dcaa-e40c-11e8-a1d0-d7b4c6107baf\"}, {\"marker\": {\"color\": \"rgb(127,0,127)\", \"colorscale\": \"Viridis\", \"line\": {\"width\": 2}, \"size\": 12, \"symbol\": 3}, \"mode\": \"markers\", \"name\": \"Student_55\", \"text\": [\"Student_55\"], \"x\": [3], \"y\": [74], \"type\": \"scatter\", \"uid\": \"29b0dd4a-e40c-11e8-a1d0-d7b4c6107baf\"}, {\"marker\": {\"color\": \"rgb(0,0,255)\", \"colorscale\": \"Viridis\", \"line\": {\"width\": 2}, \"size\": 12, \"symbol\": 1}, \"mode\": \"markers\", \"name\": \"Student_56\", \"text\": [\"Student_56\"], \"x\": [6], \"y\": [82], \"type\": \"scatter\", \"uid\": \"29b0ddea-e40c-11e8-a1d0-d7b4c6107baf\"}, {\"marker\": {\"color\": \"rgb(127,0,127)\", \"colorscale\": \"Viridis\", \"line\": {\"width\": 2}, \"size\": 12, \"symbol\": 3}, \"mode\": \"markers\", \"name\": \"Student_57\", \"text\": [\"Student_57\"], \"x\": [5], \"y\": [64], \"type\": \"scatter\", \"uid\": \"29b0de94-e40c-11e8-a1d0-d7b4c6107baf\"}, {\"marker\": {\"color\": \"rgb(127,0,127)\", \"colorscale\": \"Viridis\", \"line\": {\"width\": 2}, \"size\": 12, \"symbol\": 3}, \"mode\": \"markers\", \"name\": \"Student_58\", \"text\": [\"Student_58\"], \"x\": [7], \"y\": [67], \"type\": \"scatter\", \"uid\": \"29b0df34-e40c-11e8-a1d0-d7b4c6107baf\"}, {\"marker\": {\"color\": \"rgb(0,0,255)\", \"colorscale\": \"Viridis\", \"line\": {\"width\": 2}, \"size\": 12, \"symbol\": 1}, \"mode\": \"markers\", \"name\": \"Student_59\", \"text\": [\"Student_59\"], \"x\": [2], \"y\": [72], \"type\": \"scatter\", \"uid\": \"29b0dfd4-e40c-11e8-a1d0-d7b4c6107baf\"}, {\"marker\": {\"color\": \"rgb(127,0,127)\", \"colorscale\": \"Viridis\", \"line\": {\"width\": 2}, \"size\": 12, \"symbol\": 3}, \"mode\": \"markers\", \"name\": \"Student_60\", \"text\": [\"Student_60\"], \"x\": [0], \"y\": [67], \"type\": \"scatter\", \"uid\": \"29b0e074-e40c-11e8-a1d0-d7b4c6107baf\"}], {\"hovermode\": \"closest\", \"showlegend\": true, \"title\": \"Notas dos estudantes vs threads iniciadas no f\\u00f3rum\", \"xaxis\": {\"autorange\": false, \"fixedrange\": false, \"range\": [0, 23], \"rangemode\": \"normal\", \"showline\": true, \"title\": \"Threads iniciadas no f\\u00f3rum\", \"zeroline\": false}, \"yaxis\": {\"autorange\": false, \"fixedrange\": false, \"range\": [0, 109], \"rangemode\": \"normal\", \"showline\": true, \"title\": \"Notas\"}}, {\"showLink\": true, \"linkText\": \"Export to plot.ly\"})});</script>"
      ]
     },
     "metadata": {},
     "output_type": "display_data"
    },
    {
     "data": {
      "application/vnd.plotly.v1+json": {
       "data": [
        {
         "boxmean": true,
         "boxpoints": "all",
         "marker": {
          "color": "rgb(255,0,0)",
          "line": {
           "width": 1
          }
         },
         "name": "Cluster 1",
         "text": [
          "Student_52",
          "Student_54",
          "Student_29",
          "Student_50",
          "Student_33",
          "Student_28",
          "Student_14",
          "Student_45",
          "Student_46",
          "Student_36",
          "Student_49",
          "Student_35",
          "Student_20",
          "Student_9",
          "Student_48",
          "Student_1",
          "Student_39",
          "Student_31",
          "Student_4",
          "Student_30"
         ],
         "type": "box",
         "uid": "29b955a6-e40c-11e8-a1d0-d7b4c6107baf",
         "y": [
          11,
          21,
          22,
          26,
          27,
          29,
          32,
          33,
          36,
          36,
          37,
          38,
          39,
          40,
          41,
          43,
          45,
          48,
          48,
          53
         ]
        },
        {
         "boxmean": true,
         "boxpoints": "all",
         "marker": {
          "color": "rgb(127,0,127)",
          "line": {
           "width": 1
          }
         },
         "name": "Cluster 2",
         "text": [
          "Student_51",
          "Student_24",
          "Student_26",
          "Student_16",
          "Student_6",
          "Student_19",
          "Student_23",
          "Student_57",
          "Student_60",
          "Student_58",
          "Student_43",
          "Student_21",
          "Student_40",
          "Student_17",
          "Student_18",
          "Student_53",
          "Student_34",
          "Student_11",
          "Student_55",
          "Student_32",
          "Student_5"
         ],
         "type": "box",
         "uid": "29b95844-e40c-11e8-a1d0-d7b4c6107baf",
         "y": [
          53,
          57,
          59,
          61,
          62,
          62,
          63,
          64,
          67,
          67,
          69,
          69,
          70,
          71,
          71,
          72,
          73,
          74,
          74,
          75,
          76
         ]
        },
        {
         "boxmean": true,
         "boxpoints": "all",
         "marker": {
          "color": "rgb(0,0,255)",
          "line": {
           "width": 1
          }
         },
         "name": "Cluster 3",
         "text": [
          "Student_59",
          "Student_7",
          "Student_44",
          "Student_25",
          "Student_12",
          "Student_13",
          "Student_37",
          "Student_56",
          "Student_3",
          "Student_22",
          "Student_38",
          "Student_42"
         ],
         "type": "box",
         "uid": "29b959fc-e40c-11e8-a1d0-d7b4c6107baf",
         "y": [
          72,
          72,
          72,
          74,
          79,
          79,
          81,
          82,
          82,
          84,
          84,
          89
         ]
        },
        {
         "boxmean": true,
         "boxpoints": "all",
         "marker": {
          "color": "rgb(0,255,0)",
          "line": {
           "width": 1
          }
         },
         "name": "Cluster 4",
         "text": [
          "Student_10",
          "Student_15",
          "Student_2",
          "Student_8",
          "Student_27",
          "Student_47",
          "Student_41"
         ],
         "type": "box",
         "uid": "29b95b64-e40c-11e8-a1d0-d7b4c6107baf",
         "y": [
          83,
          89,
          92,
          92,
          93,
          94,
          99
         ]
        }
       ],
       "layout": {
        "showlegend": true,
        "title": "Variação de notas por cluster",
        "yaxis": {
         "fixedrange": false,
         "range": [
          -1,
          109
         ],
         "rangemode": "normal",
         "title": "Notas",
         "zeroline": false
        }
       }
      },
      "text/html": [
       "<div id=\"d2e24d83-d2c5-45bc-a9f0-972a21f4ed70\" style=\"height: 525px; width: 100%;\" class=\"plotly-graph-div\"></div><script type=\"text/javascript\">require([\"plotly\"], function(Plotly) { window.PLOTLYENV=window.PLOTLYENV || {};window.PLOTLYENV.BASE_URL=\"https://plot.ly\";Plotly.newPlot(\"d2e24d83-d2c5-45bc-a9f0-972a21f4ed70\", [{\"boxmean\": true, \"boxpoints\": \"all\", \"marker\": {\"color\": \"rgb(255,0,0)\", \"line\": {\"width\": 1}}, \"name\": \"Cluster 1\", \"text\": [\"Student_52\", \"Student_54\", \"Student_29\", \"Student_50\", \"Student_33\", \"Student_28\", \"Student_14\", \"Student_45\", \"Student_46\", \"Student_36\", \"Student_49\", \"Student_35\", \"Student_20\", \"Student_9\", \"Student_48\", \"Student_1\", \"Student_39\", \"Student_31\", \"Student_4\", \"Student_30\"], \"y\": [11, 21, 22, 26, 27, 29, 32, 33, 36, 36, 37, 38, 39, 40, 41, 43, 45, 48, 48, 53], \"type\": \"box\", \"uid\": \"29b955a6-e40c-11e8-a1d0-d7b4c6107baf\"}, {\"boxmean\": true, \"boxpoints\": \"all\", \"marker\": {\"color\": \"rgb(127,0,127)\", \"line\": {\"width\": 1}}, \"name\": \"Cluster 2\", \"text\": [\"Student_51\", \"Student_24\", \"Student_26\", \"Student_16\", \"Student_6\", \"Student_19\", \"Student_23\", \"Student_57\", \"Student_60\", \"Student_58\", \"Student_43\", \"Student_21\", \"Student_40\", \"Student_17\", \"Student_18\", \"Student_53\", \"Student_34\", \"Student_11\", \"Student_55\", \"Student_32\", \"Student_5\"], \"y\": [53, 57, 59, 61, 62, 62, 63, 64, 67, 67, 69, 69, 70, 71, 71, 72, 73, 74, 74, 75, 76], \"type\": \"box\", \"uid\": \"29b95844-e40c-11e8-a1d0-d7b4c6107baf\"}, {\"boxmean\": true, \"boxpoints\": \"all\", \"marker\": {\"color\": \"rgb(0,0,255)\", \"line\": {\"width\": 1}}, \"name\": \"Cluster 3\", \"text\": [\"Student_59\", \"Student_7\", \"Student_44\", \"Student_25\", \"Student_12\", \"Student_13\", \"Student_37\", \"Student_56\", \"Student_3\", \"Student_22\", \"Student_38\", \"Student_42\"], \"y\": [72, 72, 72, 74, 79, 79, 81, 82, 82, 84, 84, 89], \"type\": \"box\", \"uid\": \"29b959fc-e40c-11e8-a1d0-d7b4c6107baf\"}, {\"boxmean\": true, \"boxpoints\": \"all\", \"marker\": {\"color\": \"rgb(0,255,0)\", \"line\": {\"width\": 1}}, \"name\": \"Cluster 4\", \"text\": [\"Student_10\", \"Student_15\", \"Student_2\", \"Student_8\", \"Student_27\", \"Student_47\", \"Student_41\"], \"y\": [83, 89, 92, 92, 93, 94, 99], \"type\": \"box\", \"uid\": \"29b95b64-e40c-11e8-a1d0-d7b4c6107baf\"}], {\"showlegend\": true, \"title\": \"Varia\\u00e7\\u00e3o de notas por cluster\", \"yaxis\": {\"fixedrange\": false, \"range\": [-1, 109], \"rangemode\": \"normal\", \"title\": \"Notas\", \"zeroline\": false}}, {\"showLink\": true, \"linkText\": \"Export to plot.ly\"})});</script>"
      ],
      "text/vnd.plotly.v1+html": [
       "<div id=\"d2e24d83-d2c5-45bc-a9f0-972a21f4ed70\" style=\"height: 525px; width: 100%;\" class=\"plotly-graph-div\"></div><script type=\"text/javascript\">require([\"plotly\"], function(Plotly) { window.PLOTLYENV=window.PLOTLYENV || {};window.PLOTLYENV.BASE_URL=\"https://plot.ly\";Plotly.newPlot(\"d2e24d83-d2c5-45bc-a9f0-972a21f4ed70\", [{\"boxmean\": true, \"boxpoints\": \"all\", \"marker\": {\"color\": \"rgb(255,0,0)\", \"line\": {\"width\": 1}}, \"name\": \"Cluster 1\", \"text\": [\"Student_52\", \"Student_54\", \"Student_29\", \"Student_50\", \"Student_33\", \"Student_28\", \"Student_14\", \"Student_45\", \"Student_46\", \"Student_36\", \"Student_49\", \"Student_35\", \"Student_20\", \"Student_9\", \"Student_48\", \"Student_1\", \"Student_39\", \"Student_31\", \"Student_4\", \"Student_30\"], \"y\": [11, 21, 22, 26, 27, 29, 32, 33, 36, 36, 37, 38, 39, 40, 41, 43, 45, 48, 48, 53], \"type\": \"box\", \"uid\": \"29b955a6-e40c-11e8-a1d0-d7b4c6107baf\"}, {\"boxmean\": true, \"boxpoints\": \"all\", \"marker\": {\"color\": \"rgb(127,0,127)\", \"line\": {\"width\": 1}}, \"name\": \"Cluster 2\", \"text\": [\"Student_51\", \"Student_24\", \"Student_26\", \"Student_16\", \"Student_6\", \"Student_19\", \"Student_23\", \"Student_57\", \"Student_60\", \"Student_58\", \"Student_43\", \"Student_21\", \"Student_40\", \"Student_17\", \"Student_18\", \"Student_53\", \"Student_34\", \"Student_11\", \"Student_55\", \"Student_32\", \"Student_5\"], \"y\": [53, 57, 59, 61, 62, 62, 63, 64, 67, 67, 69, 69, 70, 71, 71, 72, 73, 74, 74, 75, 76], \"type\": \"box\", \"uid\": \"29b95844-e40c-11e8-a1d0-d7b4c6107baf\"}, {\"boxmean\": true, \"boxpoints\": \"all\", \"marker\": {\"color\": \"rgb(0,0,255)\", \"line\": {\"width\": 1}}, \"name\": \"Cluster 3\", \"text\": [\"Student_59\", \"Student_7\", \"Student_44\", \"Student_25\", \"Student_12\", \"Student_13\", \"Student_37\", \"Student_56\", \"Student_3\", \"Student_22\", \"Student_38\", \"Student_42\"], \"y\": [72, 72, 72, 74, 79, 79, 81, 82, 82, 84, 84, 89], \"type\": \"box\", \"uid\": \"29b959fc-e40c-11e8-a1d0-d7b4c6107baf\"}, {\"boxmean\": true, \"boxpoints\": \"all\", \"marker\": {\"color\": \"rgb(0,255,0)\", \"line\": {\"width\": 1}}, \"name\": \"Cluster 4\", \"text\": [\"Student_10\", \"Student_15\", \"Student_2\", \"Student_8\", \"Student_27\", \"Student_47\", \"Student_41\"], \"y\": [83, 89, 92, 92, 93, 94, 99], \"type\": \"box\", \"uid\": \"29b95b64-e40c-11e8-a1d0-d7b4c6107baf\"}], {\"showlegend\": true, \"title\": \"Varia\\u00e7\\u00e3o de notas por cluster\", \"yaxis\": {\"fixedrange\": false, \"range\": [-1, 109], \"rangemode\": \"normal\", \"title\": \"Notas\", \"zeroline\": false}}, {\"showLink\": true, \"linkText\": \"Export to plot.ly\"})});</script>"
      ]
     },
     "metadata": {},
     "output_type": "display_data"
    },
    {
     "data": {
      "application/vnd.plotly.v1+json": {
       "data": [
        {
         "boxmean": true,
         "boxpoints": "all",
         "marker": {
          "color": "rgb(255,0,0)",
          "line": {
           "width": 1
          }
         },
         "name": "Cluster 1",
         "text": [
          "Student_52",
          "Student_54",
          "Student_29",
          "Student_50",
          "Student_33",
          "Student_28",
          "Student_14",
          "Student_45",
          "Student_46",
          "Student_36",
          "Student_49",
          "Student_35",
          "Student_20",
          "Student_9",
          "Student_48",
          "Student_1",
          "Student_39",
          "Student_31",
          "Student_4",
          "Student_30"
         ],
         "type": "box",
         "uid": "29c0bef4-e40c-11e8-a1d0-d7b4c6107baf",
         "y": [
          23,
          11,
          8,
          19,
          22,
          16,
          23,
          10,
          18,
          15,
          17,
          16,
          19,
          24,
          25,
          12,
          13,
          22,
          17,
          22
         ]
        },
        {
         "boxmean": true,
         "boxpoints": "all",
         "marker": {
          "color": "rgb(127,0,127)",
          "line": {
           "width": 1
          }
         },
         "name": "Cluster 2",
         "text": [
          "Student_51",
          "Student_24",
          "Student_26",
          "Student_16",
          "Student_6",
          "Student_19",
          "Student_23",
          "Student_57",
          "Student_60",
          "Student_58",
          "Student_43",
          "Student_21",
          "Student_40",
          "Student_17",
          "Student_18",
          "Student_53",
          "Student_34",
          "Student_11",
          "Student_55",
          "Student_32",
          "Student_5"
         ],
         "type": "box",
         "uid": "29c0c0b6-e40c-11e8-a1d0-d7b4c6107baf",
         "y": [
          38,
          26,
          27,
          35,
          45,
          52,
          47,
          50,
          35,
          50,
          45,
          46,
          53,
          56,
          66,
          66,
          52,
          57,
          58,
          51,
          59
         ]
        },
        {
         "boxmean": true,
         "boxpoints": "all",
         "marker": {
          "color": "rgb(0,0,255)",
          "line": {
           "width": 1
          }
         },
         "name": "Cluster 3",
         "text": [
          "Student_59",
          "Student_7",
          "Student_44",
          "Student_25",
          "Student_12",
          "Student_13",
          "Student_37",
          "Student_56",
          "Student_3",
          "Student_22",
          "Student_38",
          "Student_42"
         ],
         "type": "box",
         "uid": "29c0c1a6-e40c-11e8-a1d0-d7b4c6107baf",
         "y": [
          59,
          66,
          52,
          57,
          67,
          59,
          71,
          84,
          68,
          77,
          79,
          82
         ]
        },
        {
         "boxmean": true,
         "boxpoints": "all",
         "marker": {
          "color": "rgb(0,255,0)",
          "line": {
           "width": 1
          }
         },
         "name": "Cluster 4",
         "text": [
          "Student_10",
          "Student_15",
          "Student_2",
          "Student_8",
          "Student_27",
          "Student_47",
          "Student_41"
         ],
         "type": "box",
         "uid": "29c0c282-e40c-11e8-a1d0-d7b4c6107baf",
         "y": [
          68,
          78,
          81,
          88,
          89,
          87,
          98
         ]
        }
       ],
       "layout": {
        "showlegend": true,
        "title": "Variação de acessos por cluster",
        "yaxis": {
         "fixedrange": false,
         "range": [
          -1,
          108
         ],
         "rangemode": "normal",
         "title": "Acessos",
         "zeroline": false
        }
       }
      },
      "text/html": [
       "<div id=\"fdcc19f7-1a6b-451d-9d66-187e0bc15a52\" style=\"height: 525px; width: 100%;\" class=\"plotly-graph-div\"></div><script type=\"text/javascript\">require([\"plotly\"], function(Plotly) { window.PLOTLYENV=window.PLOTLYENV || {};window.PLOTLYENV.BASE_URL=\"https://plot.ly\";Plotly.newPlot(\"fdcc19f7-1a6b-451d-9d66-187e0bc15a52\", [{\"boxmean\": true, \"boxpoints\": \"all\", \"marker\": {\"color\": \"rgb(255,0,0)\", \"line\": {\"width\": 1}}, \"name\": \"Cluster 1\", \"text\": [\"Student_52\", \"Student_54\", \"Student_29\", \"Student_50\", \"Student_33\", \"Student_28\", \"Student_14\", \"Student_45\", \"Student_46\", \"Student_36\", \"Student_49\", \"Student_35\", \"Student_20\", \"Student_9\", \"Student_48\", \"Student_1\", \"Student_39\", \"Student_31\", \"Student_4\", \"Student_30\"], \"y\": [23, 11, 8, 19, 22, 16, 23, 10, 18, 15, 17, 16, 19, 24, 25, 12, 13, 22, 17, 22], \"type\": \"box\", \"uid\": \"29c0bef4-e40c-11e8-a1d0-d7b4c6107baf\"}, {\"boxmean\": true, \"boxpoints\": \"all\", \"marker\": {\"color\": \"rgb(127,0,127)\", \"line\": {\"width\": 1}}, \"name\": \"Cluster 2\", \"text\": [\"Student_51\", \"Student_24\", \"Student_26\", \"Student_16\", \"Student_6\", \"Student_19\", \"Student_23\", \"Student_57\", \"Student_60\", \"Student_58\", \"Student_43\", \"Student_21\", \"Student_40\", \"Student_17\", \"Student_18\", \"Student_53\", \"Student_34\", \"Student_11\", \"Student_55\", \"Student_32\", \"Student_5\"], \"y\": [38, 26, 27, 35, 45, 52, 47, 50, 35, 50, 45, 46, 53, 56, 66, 66, 52, 57, 58, 51, 59], \"type\": \"box\", \"uid\": \"29c0c0b6-e40c-11e8-a1d0-d7b4c6107baf\"}, {\"boxmean\": true, \"boxpoints\": \"all\", \"marker\": {\"color\": \"rgb(0,0,255)\", \"line\": {\"width\": 1}}, \"name\": \"Cluster 3\", \"text\": [\"Student_59\", \"Student_7\", \"Student_44\", \"Student_25\", \"Student_12\", \"Student_13\", \"Student_37\", \"Student_56\", \"Student_3\", \"Student_22\", \"Student_38\", \"Student_42\"], \"y\": [59, 66, 52, 57, 67, 59, 71, 84, 68, 77, 79, 82], \"type\": \"box\", \"uid\": \"29c0c1a6-e40c-11e8-a1d0-d7b4c6107baf\"}, {\"boxmean\": true, \"boxpoints\": \"all\", \"marker\": {\"color\": \"rgb(0,255,0)\", \"line\": {\"width\": 1}}, \"name\": \"Cluster 4\", \"text\": [\"Student_10\", \"Student_15\", \"Student_2\", \"Student_8\", \"Student_27\", \"Student_47\", \"Student_41\"], \"y\": [68, 78, 81, 88, 89, 87, 98], \"type\": \"box\", \"uid\": \"29c0c282-e40c-11e8-a1d0-d7b4c6107baf\"}], {\"showlegend\": true, \"title\": \"Varia\\u00e7\\u00e3o de acessos por cluster\", \"yaxis\": {\"fixedrange\": false, \"range\": [-1, 108], \"rangemode\": \"normal\", \"title\": \"Acessos\", \"zeroline\": false}}, {\"showLink\": true, \"linkText\": \"Export to plot.ly\"})});</script>"
      ],
      "text/vnd.plotly.v1+html": [
       "<div id=\"fdcc19f7-1a6b-451d-9d66-187e0bc15a52\" style=\"height: 525px; width: 100%;\" class=\"plotly-graph-div\"></div><script type=\"text/javascript\">require([\"plotly\"], function(Plotly) { window.PLOTLYENV=window.PLOTLYENV || {};window.PLOTLYENV.BASE_URL=\"https://plot.ly\";Plotly.newPlot(\"fdcc19f7-1a6b-451d-9d66-187e0bc15a52\", [{\"boxmean\": true, \"boxpoints\": \"all\", \"marker\": {\"color\": \"rgb(255,0,0)\", \"line\": {\"width\": 1}}, \"name\": \"Cluster 1\", \"text\": [\"Student_52\", \"Student_54\", \"Student_29\", \"Student_50\", \"Student_33\", \"Student_28\", \"Student_14\", \"Student_45\", \"Student_46\", \"Student_36\", \"Student_49\", \"Student_35\", \"Student_20\", \"Student_9\", \"Student_48\", \"Student_1\", \"Student_39\", \"Student_31\", \"Student_4\", \"Student_30\"], \"y\": [23, 11, 8, 19, 22, 16, 23, 10, 18, 15, 17, 16, 19, 24, 25, 12, 13, 22, 17, 22], \"type\": \"box\", \"uid\": \"29c0bef4-e40c-11e8-a1d0-d7b4c6107baf\"}, {\"boxmean\": true, \"boxpoints\": \"all\", \"marker\": {\"color\": \"rgb(127,0,127)\", \"line\": {\"width\": 1}}, \"name\": \"Cluster 2\", \"text\": [\"Student_51\", \"Student_24\", \"Student_26\", \"Student_16\", \"Student_6\", \"Student_19\", \"Student_23\", \"Student_57\", \"Student_60\", \"Student_58\", \"Student_43\", \"Student_21\", \"Student_40\", \"Student_17\", \"Student_18\", \"Student_53\", \"Student_34\", \"Student_11\", \"Student_55\", \"Student_32\", \"Student_5\"], \"y\": [38, 26, 27, 35, 45, 52, 47, 50, 35, 50, 45, 46, 53, 56, 66, 66, 52, 57, 58, 51, 59], \"type\": \"box\", \"uid\": \"29c0c0b6-e40c-11e8-a1d0-d7b4c6107baf\"}, {\"boxmean\": true, \"boxpoints\": \"all\", \"marker\": {\"color\": \"rgb(0,0,255)\", \"line\": {\"width\": 1}}, \"name\": \"Cluster 3\", \"text\": [\"Student_59\", \"Student_7\", \"Student_44\", \"Student_25\", \"Student_12\", \"Student_13\", \"Student_37\", \"Student_56\", \"Student_3\", \"Student_22\", \"Student_38\", \"Student_42\"], \"y\": [59, 66, 52, 57, 67, 59, 71, 84, 68, 77, 79, 82], \"type\": \"box\", \"uid\": \"29c0c1a6-e40c-11e8-a1d0-d7b4c6107baf\"}, {\"boxmean\": true, \"boxpoints\": \"all\", \"marker\": {\"color\": \"rgb(0,255,0)\", \"line\": {\"width\": 1}}, \"name\": \"Cluster 4\", \"text\": [\"Student_10\", \"Student_15\", \"Student_2\", \"Student_8\", \"Student_27\", \"Student_47\", \"Student_41\"], \"y\": [68, 78, 81, 88, 89, 87, 98], \"type\": \"box\", \"uid\": \"29c0c282-e40c-11e8-a1d0-d7b4c6107baf\"}], {\"showlegend\": true, \"title\": \"Varia\\u00e7\\u00e3o de acessos por cluster\", \"yaxis\": {\"fixedrange\": false, \"range\": [-1, 108], \"rangemode\": \"normal\", \"title\": \"Acessos\", \"zeroline\": false}}, {\"showLink\": true, \"linkText\": \"Export to plot.ly\"})});</script>"
      ]
     },
     "metadata": {},
     "output_type": "display_data"
    },
    {
     "data": {
      "application/vnd.plotly.v1+json": {
       "data": [
        {
         "boxmean": true,
         "boxpoints": "all",
         "marker": {
          "color": "rgb(255,0,0)",
          "line": {
           "width": 1
          }
         },
         "name": "Cluster 1",
         "text": [
          "Student_52",
          "Student_54",
          "Student_29",
          "Student_50",
          "Student_33",
          "Student_28",
          "Student_14",
          "Student_45",
          "Student_46",
          "Student_36",
          "Student_49",
          "Student_35",
          "Student_20",
          "Student_9",
          "Student_48",
          "Student_1",
          "Student_39",
          "Student_31",
          "Student_4",
          "Student_30"
         ],
         "type": "box",
         "uid": "29c6dbcc-e40c-11e8-a1d0-d7b4c6107baf",
         "y": [
          0,
          0,
          0,
          0,
          0,
          0,
          0,
          0,
          0,
          0,
          0,
          0,
          0,
          0,
          0,
          0,
          0,
          0,
          0,
          2
         ]
        },
        {
         "boxmean": true,
         "boxpoints": "all",
         "marker": {
          "color": "rgb(127,0,127)",
          "line": {
           "width": 1
          }
         },
         "name": "Cluster 2",
         "text": [
          "Student_51",
          "Student_24",
          "Student_26",
          "Student_16",
          "Student_6",
          "Student_19",
          "Student_23",
          "Student_57",
          "Student_60",
          "Student_58",
          "Student_43",
          "Student_21",
          "Student_40",
          "Student_17",
          "Student_18",
          "Student_53",
          "Student_34",
          "Student_11",
          "Student_55",
          "Student_32",
          "Student_5"
         ],
         "type": "box",
         "uid": "29c6ddac-e40c-11e8-a1d0-d7b4c6107baf",
         "y": [
          3,
          1,
          4,
          4,
          4,
          3,
          3,
          3,
          4,
          4,
          2,
          4,
          4,
          3,
          3,
          2,
          2,
          3,
          4,
          4,
          2
         ]
        },
        {
         "boxmean": true,
         "boxpoints": "all",
         "marker": {
          "color": "rgb(0,0,255)",
          "line": {
           "width": 1
          }
         },
         "name": "Cluster 3",
         "text": [
          "Student_59",
          "Student_7",
          "Student_44",
          "Student_25",
          "Student_12",
          "Student_13",
          "Student_37",
          "Student_56",
          "Student_3",
          "Student_22",
          "Student_38",
          "Student_42"
         ],
         "type": "box",
         "uid": "29c6deb0-e40c-11e8-a1d0-d7b4c6107baf",
         "y": [
          2,
          3,
          3,
          4,
          3,
          2,
          4,
          4,
          3,
          3,
          4,
          3
         ]
        },
        {
         "boxmean": true,
         "boxpoints": "all",
         "marker": {
          "color": "rgb(0,255,0)",
          "line": {
           "width": 1
          }
         },
         "name": "Cluster 4",
         "text": [
          "Student_10",
          "Student_15",
          "Student_2",
          "Student_8",
          "Student_27",
          "Student_47",
          "Student_41"
         ],
         "type": "box",
         "uid": "29c6df82-e40c-11e8-a1d0-d7b4c6107baf",
         "y": [
          3,
          3,
          4,
          4,
          4,
          4,
          4
         ]
        }
       ],
       "layout": {
        "showlegend": true,
        "title": "Variação de atividades respondidas por cluster",
        "yaxis": {
         "fixedrange": false,
         "range": [
          -1,
          14
         ],
         "rangemode": "normal",
         "title": "Atividades respondidas",
         "zeroline": false
        }
       }
      },
      "text/html": [
       "<div id=\"dcccaebf-3eb5-434c-95c4-75caaf9535c6\" style=\"height: 525px; width: 100%;\" class=\"plotly-graph-div\"></div><script type=\"text/javascript\">require([\"plotly\"], function(Plotly) { window.PLOTLYENV=window.PLOTLYENV || {};window.PLOTLYENV.BASE_URL=\"https://plot.ly\";Plotly.newPlot(\"dcccaebf-3eb5-434c-95c4-75caaf9535c6\", [{\"boxmean\": true, \"boxpoints\": \"all\", \"marker\": {\"color\": \"rgb(255,0,0)\", \"line\": {\"width\": 1}}, \"name\": \"Cluster 1\", \"text\": [\"Student_52\", \"Student_54\", \"Student_29\", \"Student_50\", \"Student_33\", \"Student_28\", \"Student_14\", \"Student_45\", \"Student_46\", \"Student_36\", \"Student_49\", \"Student_35\", \"Student_20\", \"Student_9\", \"Student_48\", \"Student_1\", \"Student_39\", \"Student_31\", \"Student_4\", \"Student_30\"], \"y\": [0, 0, 0, 0, 0, 0, 0, 0, 0, 0, 0, 0, 0, 0, 0, 0, 0, 0, 0, 2], \"type\": \"box\", \"uid\": \"29c6dbcc-e40c-11e8-a1d0-d7b4c6107baf\"}, {\"boxmean\": true, \"boxpoints\": \"all\", \"marker\": {\"color\": \"rgb(127,0,127)\", \"line\": {\"width\": 1}}, \"name\": \"Cluster 2\", \"text\": [\"Student_51\", \"Student_24\", \"Student_26\", \"Student_16\", \"Student_6\", \"Student_19\", \"Student_23\", \"Student_57\", \"Student_60\", \"Student_58\", \"Student_43\", \"Student_21\", \"Student_40\", \"Student_17\", \"Student_18\", \"Student_53\", \"Student_34\", \"Student_11\", \"Student_55\", \"Student_32\", \"Student_5\"], \"y\": [3, 1, 4, 4, 4, 3, 3, 3, 4, 4, 2, 4, 4, 3, 3, 2, 2, 3, 4, 4, 2], \"type\": \"box\", \"uid\": \"29c6ddac-e40c-11e8-a1d0-d7b4c6107baf\"}, {\"boxmean\": true, \"boxpoints\": \"all\", \"marker\": {\"color\": \"rgb(0,0,255)\", \"line\": {\"width\": 1}}, \"name\": \"Cluster 3\", \"text\": [\"Student_59\", \"Student_7\", \"Student_44\", \"Student_25\", \"Student_12\", \"Student_13\", \"Student_37\", \"Student_56\", \"Student_3\", \"Student_22\", \"Student_38\", \"Student_42\"], \"y\": [2, 3, 3, 4, 3, 2, 4, 4, 3, 3, 4, 3], \"type\": \"box\", \"uid\": \"29c6deb0-e40c-11e8-a1d0-d7b4c6107baf\"}, {\"boxmean\": true, \"boxpoints\": \"all\", \"marker\": {\"color\": \"rgb(0,255,0)\", \"line\": {\"width\": 1}}, \"name\": \"Cluster 4\", \"text\": [\"Student_10\", \"Student_15\", \"Student_2\", \"Student_8\", \"Student_27\", \"Student_47\", \"Student_41\"], \"y\": [3, 3, 4, 4, 4, 4, 4], \"type\": \"box\", \"uid\": \"29c6df82-e40c-11e8-a1d0-d7b4c6107baf\"}], {\"showlegend\": true, \"title\": \"Varia\\u00e7\\u00e3o de atividades respondidas por cluster\", \"yaxis\": {\"fixedrange\": false, \"range\": [-1, 14], \"rangemode\": \"normal\", \"title\": \"Atividades respondidas\", \"zeroline\": false}}, {\"showLink\": true, \"linkText\": \"Export to plot.ly\"})});</script>"
      ],
      "text/vnd.plotly.v1+html": [
       "<div id=\"dcccaebf-3eb5-434c-95c4-75caaf9535c6\" style=\"height: 525px; width: 100%;\" class=\"plotly-graph-div\"></div><script type=\"text/javascript\">require([\"plotly\"], function(Plotly) { window.PLOTLYENV=window.PLOTLYENV || {};window.PLOTLYENV.BASE_URL=\"https://plot.ly\";Plotly.newPlot(\"dcccaebf-3eb5-434c-95c4-75caaf9535c6\", [{\"boxmean\": true, \"boxpoints\": \"all\", \"marker\": {\"color\": \"rgb(255,0,0)\", \"line\": {\"width\": 1}}, \"name\": \"Cluster 1\", \"text\": [\"Student_52\", \"Student_54\", \"Student_29\", \"Student_50\", \"Student_33\", \"Student_28\", \"Student_14\", \"Student_45\", \"Student_46\", \"Student_36\", \"Student_49\", \"Student_35\", \"Student_20\", \"Student_9\", \"Student_48\", \"Student_1\", \"Student_39\", \"Student_31\", \"Student_4\", \"Student_30\"], \"y\": [0, 0, 0, 0, 0, 0, 0, 0, 0, 0, 0, 0, 0, 0, 0, 0, 0, 0, 0, 2], \"type\": \"box\", \"uid\": \"29c6dbcc-e40c-11e8-a1d0-d7b4c6107baf\"}, {\"boxmean\": true, \"boxpoints\": \"all\", \"marker\": {\"color\": \"rgb(127,0,127)\", \"line\": {\"width\": 1}}, \"name\": \"Cluster 2\", \"text\": [\"Student_51\", \"Student_24\", \"Student_26\", \"Student_16\", \"Student_6\", \"Student_19\", \"Student_23\", \"Student_57\", \"Student_60\", \"Student_58\", \"Student_43\", \"Student_21\", \"Student_40\", \"Student_17\", \"Student_18\", \"Student_53\", \"Student_34\", \"Student_11\", \"Student_55\", \"Student_32\", \"Student_5\"], \"y\": [3, 1, 4, 4, 4, 3, 3, 3, 4, 4, 2, 4, 4, 3, 3, 2, 2, 3, 4, 4, 2], \"type\": \"box\", \"uid\": \"29c6ddac-e40c-11e8-a1d0-d7b4c6107baf\"}, {\"boxmean\": true, \"boxpoints\": \"all\", \"marker\": {\"color\": \"rgb(0,0,255)\", \"line\": {\"width\": 1}}, \"name\": \"Cluster 3\", \"text\": [\"Student_59\", \"Student_7\", \"Student_44\", \"Student_25\", \"Student_12\", \"Student_13\", \"Student_37\", \"Student_56\", \"Student_3\", \"Student_22\", \"Student_38\", \"Student_42\"], \"y\": [2, 3, 3, 4, 3, 2, 4, 4, 3, 3, 4, 3], \"type\": \"box\", \"uid\": \"29c6deb0-e40c-11e8-a1d0-d7b4c6107baf\"}, {\"boxmean\": true, \"boxpoints\": \"all\", \"marker\": {\"color\": \"rgb(0,255,0)\", \"line\": {\"width\": 1}}, \"name\": \"Cluster 4\", \"text\": [\"Student_10\", \"Student_15\", \"Student_2\", \"Student_8\", \"Student_27\", \"Student_47\", \"Student_41\"], \"y\": [3, 3, 4, 4, 4, 4, 4], \"type\": \"box\", \"uid\": \"29c6df82-e40c-11e8-a1d0-d7b4c6107baf\"}], {\"showlegend\": true, \"title\": \"Varia\\u00e7\\u00e3o de atividades respondidas por cluster\", \"yaxis\": {\"fixedrange\": false, \"range\": [-1, 14], \"rangemode\": \"normal\", \"title\": \"Atividades respondidas\", \"zeroline\": false}}, {\"showLink\": true, \"linkText\": \"Export to plot.ly\"})});</script>"
      ]
     },
     "metadata": {},
     "output_type": "display_data"
    },
    {
     "data": {
      "application/vnd.plotly.v1+json": {
       "data": [
        {
         "boxmean": true,
         "boxpoints": "all",
         "marker": {
          "color": "rgb(255,0,0)",
          "line": {
           "width": 1
          }
         },
         "name": "Cluster 1",
         "text": [
          "Student_52",
          "Student_54",
          "Student_29",
          "Student_50",
          "Student_33",
          "Student_28",
          "Student_14",
          "Student_45",
          "Student_46",
          "Student_36",
          "Student_49",
          "Student_35",
          "Student_20",
          "Student_9",
          "Student_48",
          "Student_1",
          "Student_39",
          "Student_31",
          "Student_4",
          "Student_30"
         ],
         "type": "box",
         "uid": "29ccc974-e40c-11e8-a1d0-d7b4c6107baf",
         "y": [
          2,
          12,
          8,
          8,
          4,
          5,
          10,
          7,
          6,
          5,
          10,
          12,
          9,
          7,
          6,
          11,
          7,
          8,
          5,
          14
         ]
        },
        {
         "boxmean": true,
         "boxpoints": "all",
         "marker": {
          "color": "rgb(127,0,127)",
          "line": {
           "width": 1
          }
         },
         "name": "Cluster 2",
         "text": [
          "Student_51",
          "Student_24",
          "Student_26",
          "Student_16",
          "Student_6",
          "Student_19",
          "Student_23",
          "Student_57",
          "Student_60",
          "Student_58",
          "Student_43",
          "Student_21",
          "Student_40",
          "Student_17",
          "Student_18",
          "Student_53",
          "Student_34",
          "Student_11",
          "Student_55",
          "Student_32",
          "Student_5"
         ],
         "type": "box",
         "uid": "29cccb04-e40c-11e8-a1d0-d7b4c6107baf",
         "y": [
          19,
          32,
          22,
          20,
          40,
          28,
          30,
          32,
          22,
          35,
          37,
          32,
          46,
          36,
          26,
          31,
          44,
          34,
          37,
          19,
          26
         ]
        },
        {
         "boxmean": true,
         "boxpoints": "all",
         "marker": {
          "color": "rgb(0,0,255)",
          "line": {
           "width": 1
          }
         },
         "name": "Cluster 3",
         "text": [
          "Student_59",
          "Student_7",
          "Student_44",
          "Student_25",
          "Student_12",
          "Student_13",
          "Student_37",
          "Student_56",
          "Student_3",
          "Student_22",
          "Student_38",
          "Student_42"
         ],
         "type": "box",
         "uid": "29cccbd6-e40c-11e8-a1d0-d7b4c6107baf",
         "y": [
          45,
          58,
          64,
          65,
          39,
          53,
          45,
          41,
          56,
          60,
          60,
          56
         ]
        },
        {
         "boxmean": true,
         "boxpoints": "all",
         "marker": {
          "color": "rgb(0,255,0)",
          "line": {
           "width": 1
          }
         },
         "name": "Cluster 4",
         "text": [
          "Student_10",
          "Student_15",
          "Student_2",
          "Student_8",
          "Student_27",
          "Student_47",
          "Student_41"
         ],
         "type": "box",
         "uid": "29cccc76-e40c-11e8-a1d0-d7b4c6107baf",
         "y": [
          79,
          99,
          87,
          96,
          95,
          90,
          93
         ]
        }
       ],
       "layout": {
        "showlegend": true,
        "title": "Variação de acesso ao fórum por cluster",
        "yaxis": {
         "fixedrange": false,
         "range": [
          -1,
          109
         ],
         "rangemode": "normal",
         "title": "Acesso ao fórum",
         "zeroline": false
        }
       }
      },
      "text/html": [
       "<div id=\"980893d7-c41d-4825-9e14-449d01c91e0e\" style=\"height: 525px; width: 100%;\" class=\"plotly-graph-div\"></div><script type=\"text/javascript\">require([\"plotly\"], function(Plotly) { window.PLOTLYENV=window.PLOTLYENV || {};window.PLOTLYENV.BASE_URL=\"https://plot.ly\";Plotly.newPlot(\"980893d7-c41d-4825-9e14-449d01c91e0e\", [{\"boxmean\": true, \"boxpoints\": \"all\", \"marker\": {\"color\": \"rgb(255,0,0)\", \"line\": {\"width\": 1}}, \"name\": \"Cluster 1\", \"text\": [\"Student_52\", \"Student_54\", \"Student_29\", \"Student_50\", \"Student_33\", \"Student_28\", \"Student_14\", \"Student_45\", \"Student_46\", \"Student_36\", \"Student_49\", \"Student_35\", \"Student_20\", \"Student_9\", \"Student_48\", \"Student_1\", \"Student_39\", \"Student_31\", \"Student_4\", \"Student_30\"], \"y\": [2, 12, 8, 8, 4, 5, 10, 7, 6, 5, 10, 12, 9, 7, 6, 11, 7, 8, 5, 14], \"type\": \"box\", \"uid\": \"29ccc974-e40c-11e8-a1d0-d7b4c6107baf\"}, {\"boxmean\": true, \"boxpoints\": \"all\", \"marker\": {\"color\": \"rgb(127,0,127)\", \"line\": {\"width\": 1}}, \"name\": \"Cluster 2\", \"text\": [\"Student_51\", \"Student_24\", \"Student_26\", \"Student_16\", \"Student_6\", \"Student_19\", \"Student_23\", \"Student_57\", \"Student_60\", \"Student_58\", \"Student_43\", \"Student_21\", \"Student_40\", \"Student_17\", \"Student_18\", \"Student_53\", \"Student_34\", \"Student_11\", \"Student_55\", \"Student_32\", \"Student_5\"], \"y\": [19, 32, 22, 20, 40, 28, 30, 32, 22, 35, 37, 32, 46, 36, 26, 31, 44, 34, 37, 19, 26], \"type\": \"box\", \"uid\": \"29cccb04-e40c-11e8-a1d0-d7b4c6107baf\"}, {\"boxmean\": true, \"boxpoints\": \"all\", \"marker\": {\"color\": \"rgb(0,0,255)\", \"line\": {\"width\": 1}}, \"name\": \"Cluster 3\", \"text\": [\"Student_59\", \"Student_7\", \"Student_44\", \"Student_25\", \"Student_12\", \"Student_13\", \"Student_37\", \"Student_56\", \"Student_3\", \"Student_22\", \"Student_38\", \"Student_42\"], \"y\": [45, 58, 64, 65, 39, 53, 45, 41, 56, 60, 60, 56], \"type\": \"box\", \"uid\": \"29cccbd6-e40c-11e8-a1d0-d7b4c6107baf\"}, {\"boxmean\": true, \"boxpoints\": \"all\", \"marker\": {\"color\": \"rgb(0,255,0)\", \"line\": {\"width\": 1}}, \"name\": \"Cluster 4\", \"text\": [\"Student_10\", \"Student_15\", \"Student_2\", \"Student_8\", \"Student_27\", \"Student_47\", \"Student_41\"], \"y\": [79, 99, 87, 96, 95, 90, 93], \"type\": \"box\", \"uid\": \"29cccc76-e40c-11e8-a1d0-d7b4c6107baf\"}], {\"showlegend\": true, \"title\": \"Varia\\u00e7\\u00e3o de acesso ao f\\u00f3rum por cluster\", \"yaxis\": {\"fixedrange\": false, \"range\": [-1, 109], \"rangemode\": \"normal\", \"title\": \"Acesso ao f\\u00f3rum\", \"zeroline\": false}}, {\"showLink\": true, \"linkText\": \"Export to plot.ly\"})});</script>"
      ],
      "text/vnd.plotly.v1+html": [
       "<div id=\"980893d7-c41d-4825-9e14-449d01c91e0e\" style=\"height: 525px; width: 100%;\" class=\"plotly-graph-div\"></div><script type=\"text/javascript\">require([\"plotly\"], function(Plotly) { window.PLOTLYENV=window.PLOTLYENV || {};window.PLOTLYENV.BASE_URL=\"https://plot.ly\";Plotly.newPlot(\"980893d7-c41d-4825-9e14-449d01c91e0e\", [{\"boxmean\": true, \"boxpoints\": \"all\", \"marker\": {\"color\": \"rgb(255,0,0)\", \"line\": {\"width\": 1}}, \"name\": \"Cluster 1\", \"text\": [\"Student_52\", \"Student_54\", \"Student_29\", \"Student_50\", \"Student_33\", \"Student_28\", \"Student_14\", \"Student_45\", \"Student_46\", \"Student_36\", \"Student_49\", \"Student_35\", \"Student_20\", \"Student_9\", \"Student_48\", \"Student_1\", \"Student_39\", \"Student_31\", \"Student_4\", \"Student_30\"], \"y\": [2, 12, 8, 8, 4, 5, 10, 7, 6, 5, 10, 12, 9, 7, 6, 11, 7, 8, 5, 14], \"type\": \"box\", \"uid\": \"29ccc974-e40c-11e8-a1d0-d7b4c6107baf\"}, {\"boxmean\": true, \"boxpoints\": \"all\", \"marker\": {\"color\": \"rgb(127,0,127)\", \"line\": {\"width\": 1}}, \"name\": \"Cluster 2\", \"text\": [\"Student_51\", \"Student_24\", \"Student_26\", \"Student_16\", \"Student_6\", \"Student_19\", \"Student_23\", \"Student_57\", \"Student_60\", \"Student_58\", \"Student_43\", \"Student_21\", \"Student_40\", \"Student_17\", \"Student_18\", \"Student_53\", \"Student_34\", \"Student_11\", \"Student_55\", \"Student_32\", \"Student_5\"], \"y\": [19, 32, 22, 20, 40, 28, 30, 32, 22, 35, 37, 32, 46, 36, 26, 31, 44, 34, 37, 19, 26], \"type\": \"box\", \"uid\": \"29cccb04-e40c-11e8-a1d0-d7b4c6107baf\"}, {\"boxmean\": true, \"boxpoints\": \"all\", \"marker\": {\"color\": \"rgb(0,0,255)\", \"line\": {\"width\": 1}}, \"name\": \"Cluster 3\", \"text\": [\"Student_59\", \"Student_7\", \"Student_44\", \"Student_25\", \"Student_12\", \"Student_13\", \"Student_37\", \"Student_56\", \"Student_3\", \"Student_22\", \"Student_38\", \"Student_42\"], \"y\": [45, 58, 64, 65, 39, 53, 45, 41, 56, 60, 60, 56], \"type\": \"box\", \"uid\": \"29cccbd6-e40c-11e8-a1d0-d7b4c6107baf\"}, {\"boxmean\": true, \"boxpoints\": \"all\", \"marker\": {\"color\": \"rgb(0,255,0)\", \"line\": {\"width\": 1}}, \"name\": \"Cluster 4\", \"text\": [\"Student_10\", \"Student_15\", \"Student_2\", \"Student_8\", \"Student_27\", \"Student_47\", \"Student_41\"], \"y\": [79, 99, 87, 96, 95, 90, 93], \"type\": \"box\", \"uid\": \"29cccc76-e40c-11e8-a1d0-d7b4c6107baf\"}], {\"showlegend\": true, \"title\": \"Varia\\u00e7\\u00e3o de acesso ao f\\u00f3rum por cluster\", \"yaxis\": {\"fixedrange\": false, \"range\": [-1, 109], \"rangemode\": \"normal\", \"title\": \"Acesso ao f\\u00f3rum\", \"zeroline\": false}}, {\"showLink\": true, \"linkText\": \"Export to plot.ly\"})});</script>"
      ]
     },
     "metadata": {},
     "output_type": "display_data"
    },
    {
     "data": {
      "application/vnd.plotly.v1+json": {
       "data": [
        {
         "boxmean": true,
         "boxpoints": "all",
         "marker": {
          "color": "rgb(255,0,0)",
          "line": {
           "width": 1
          }
         },
         "name": "Cluster 1",
         "text": [
          "Student_52",
          "Student_54",
          "Student_29",
          "Student_50",
          "Student_33",
          "Student_28",
          "Student_14",
          "Student_45",
          "Student_46",
          "Student_36",
          "Student_49",
          "Student_35",
          "Student_20",
          "Student_9",
          "Student_48",
          "Student_1",
          "Student_39",
          "Student_31",
          "Student_4",
          "Student_30"
         ],
         "type": "box",
         "uid": "29d275fe-e40c-11e8-a1d0-d7b4c6107baf",
         "y": [
          0,
          3,
          2,
          1,
          1,
          0,
          3,
          1,
          2,
          2,
          2,
          2,
          2,
          0,
          0,
          3,
          2,
          0,
          1,
          7
         ]
        },
        {
         "boxmean": true,
         "boxpoints": "all",
         "marker": {
          "color": "rgb(127,0,127)",
          "line": {
           "width": 1
          }
         },
         "name": "Cluster 2",
         "text": [
          "Student_51",
          "Student_24",
          "Student_26",
          "Student_16",
          "Student_6",
          "Student_19",
          "Student_23",
          "Student_57",
          "Student_60",
          "Student_58",
          "Student_43",
          "Student_21",
          "Student_40",
          "Student_17",
          "Student_18",
          "Student_53",
          "Student_34",
          "Student_11",
          "Student_55",
          "Student_32",
          "Student_5"
         ],
         "type": "box",
         "uid": "29d27784-e40c-11e8-a1d0-d7b4c6107baf",
         "y": [
          0,
          7,
          2,
          4,
          9,
          4,
          2,
          7,
          2,
          6,
          10,
          3,
          11,
          8,
          7,
          12,
          15,
          2,
          6,
          9,
          12
         ]
        },
        {
         "boxmean": true,
         "boxpoints": "all",
         "marker": {
          "color": "rgb(0,0,255)",
          "line": {
           "width": 1
          }
         },
         "name": "Cluster 3",
         "text": [
          "Student_59",
          "Student_7",
          "Student_44",
          "Student_25",
          "Student_12",
          "Student_13",
          "Student_37",
          "Student_56",
          "Student_3",
          "Student_22",
          "Student_38",
          "Student_42"
         ],
         "type": "box",
         "uid": "29d2795a-e40c-11e8-a1d0-d7b4c6107baf",
         "y": [
          15,
          9,
          20,
          18,
          19,
          6,
          9,
          8,
          11,
          21,
          9,
          12
         ]
        },
        {
         "boxmean": true,
         "boxpoints": "all",
         "marker": {
          "color": "rgb(0,255,0)",
          "line": {
           "width": 1
          }
         },
         "name": "Cluster 4",
         "text": [
          "Student_10",
          "Student_15",
          "Student_2",
          "Student_8",
          "Student_27",
          "Student_47",
          "Student_41"
         ],
         "type": "box",
         "uid": "29d27a04-e40c-11e8-a1d0-d7b4c6107baf",
         "y": [
          15,
          32,
          29,
          37,
          32,
          21,
          15
         ]
        }
       ],
       "layout": {
        "showlegend": true,
        "title": "Variação de postagem no fórum por cluster",
        "yaxis": {
         "fixedrange": false,
         "range": [
          -1,
          47
         ],
         "rangemode": "normal",
         "title": "Postagem no fórum",
         "zeroline": false
        }
       }
      },
      "text/html": [
       "<div id=\"c9c653e2-f1e0-4f66-ac0a-f35dc1376fb6\" style=\"height: 525px; width: 100%;\" class=\"plotly-graph-div\"></div><script type=\"text/javascript\">require([\"plotly\"], function(Plotly) { window.PLOTLYENV=window.PLOTLYENV || {};window.PLOTLYENV.BASE_URL=\"https://plot.ly\";Plotly.newPlot(\"c9c653e2-f1e0-4f66-ac0a-f35dc1376fb6\", [{\"boxmean\": true, \"boxpoints\": \"all\", \"marker\": {\"color\": \"rgb(255,0,0)\", \"line\": {\"width\": 1}}, \"name\": \"Cluster 1\", \"text\": [\"Student_52\", \"Student_54\", \"Student_29\", \"Student_50\", \"Student_33\", \"Student_28\", \"Student_14\", \"Student_45\", \"Student_46\", \"Student_36\", \"Student_49\", \"Student_35\", \"Student_20\", \"Student_9\", \"Student_48\", \"Student_1\", \"Student_39\", \"Student_31\", \"Student_4\", \"Student_30\"], \"y\": [0, 3, 2, 1, 1, 0, 3, 1, 2, 2, 2, 2, 2, 0, 0, 3, 2, 0, 1, 7], \"type\": \"box\", \"uid\": \"29d275fe-e40c-11e8-a1d0-d7b4c6107baf\"}, {\"boxmean\": true, \"boxpoints\": \"all\", \"marker\": {\"color\": \"rgb(127,0,127)\", \"line\": {\"width\": 1}}, \"name\": \"Cluster 2\", \"text\": [\"Student_51\", \"Student_24\", \"Student_26\", \"Student_16\", \"Student_6\", \"Student_19\", \"Student_23\", \"Student_57\", \"Student_60\", \"Student_58\", \"Student_43\", \"Student_21\", \"Student_40\", \"Student_17\", \"Student_18\", \"Student_53\", \"Student_34\", \"Student_11\", \"Student_55\", \"Student_32\", \"Student_5\"], \"y\": [0, 7, 2, 4, 9, 4, 2, 7, 2, 6, 10, 3, 11, 8, 7, 12, 15, 2, 6, 9, 12], \"type\": \"box\", \"uid\": \"29d27784-e40c-11e8-a1d0-d7b4c6107baf\"}, {\"boxmean\": true, \"boxpoints\": \"all\", \"marker\": {\"color\": \"rgb(0,0,255)\", \"line\": {\"width\": 1}}, \"name\": \"Cluster 3\", \"text\": [\"Student_59\", \"Student_7\", \"Student_44\", \"Student_25\", \"Student_12\", \"Student_13\", \"Student_37\", \"Student_56\", \"Student_3\", \"Student_22\", \"Student_38\", \"Student_42\"], \"y\": [15, 9, 20, 18, 19, 6, 9, 8, 11, 21, 9, 12], \"type\": \"box\", \"uid\": \"29d2795a-e40c-11e8-a1d0-d7b4c6107baf\"}, {\"boxmean\": true, \"boxpoints\": \"all\", \"marker\": {\"color\": \"rgb(0,255,0)\", \"line\": {\"width\": 1}}, \"name\": \"Cluster 4\", \"text\": [\"Student_10\", \"Student_15\", \"Student_2\", \"Student_8\", \"Student_27\", \"Student_47\", \"Student_41\"], \"y\": [15, 32, 29, 37, 32, 21, 15], \"type\": \"box\", \"uid\": \"29d27a04-e40c-11e8-a1d0-d7b4c6107baf\"}], {\"showlegend\": true, \"title\": \"Varia\\u00e7\\u00e3o de postagem no f\\u00f3rum por cluster\", \"yaxis\": {\"fixedrange\": false, \"range\": [-1, 47], \"rangemode\": \"normal\", \"title\": \"Postagem no f\\u00f3rum\", \"zeroline\": false}}, {\"showLink\": true, \"linkText\": \"Export to plot.ly\"})});</script>"
      ],
      "text/vnd.plotly.v1+html": [
       "<div id=\"c9c653e2-f1e0-4f66-ac0a-f35dc1376fb6\" style=\"height: 525px; width: 100%;\" class=\"plotly-graph-div\"></div><script type=\"text/javascript\">require([\"plotly\"], function(Plotly) { window.PLOTLYENV=window.PLOTLYENV || {};window.PLOTLYENV.BASE_URL=\"https://plot.ly\";Plotly.newPlot(\"c9c653e2-f1e0-4f66-ac0a-f35dc1376fb6\", [{\"boxmean\": true, \"boxpoints\": \"all\", \"marker\": {\"color\": \"rgb(255,0,0)\", \"line\": {\"width\": 1}}, \"name\": \"Cluster 1\", \"text\": [\"Student_52\", \"Student_54\", \"Student_29\", \"Student_50\", \"Student_33\", \"Student_28\", \"Student_14\", \"Student_45\", \"Student_46\", \"Student_36\", \"Student_49\", \"Student_35\", \"Student_20\", \"Student_9\", \"Student_48\", \"Student_1\", \"Student_39\", \"Student_31\", \"Student_4\", \"Student_30\"], \"y\": [0, 3, 2, 1, 1, 0, 3, 1, 2, 2, 2, 2, 2, 0, 0, 3, 2, 0, 1, 7], \"type\": \"box\", \"uid\": \"29d275fe-e40c-11e8-a1d0-d7b4c6107baf\"}, {\"boxmean\": true, \"boxpoints\": \"all\", \"marker\": {\"color\": \"rgb(127,0,127)\", \"line\": {\"width\": 1}}, \"name\": \"Cluster 2\", \"text\": [\"Student_51\", \"Student_24\", \"Student_26\", \"Student_16\", \"Student_6\", \"Student_19\", \"Student_23\", \"Student_57\", \"Student_60\", \"Student_58\", \"Student_43\", \"Student_21\", \"Student_40\", \"Student_17\", \"Student_18\", \"Student_53\", \"Student_34\", \"Student_11\", \"Student_55\", \"Student_32\", \"Student_5\"], \"y\": [0, 7, 2, 4, 9, 4, 2, 7, 2, 6, 10, 3, 11, 8, 7, 12, 15, 2, 6, 9, 12], \"type\": \"box\", \"uid\": \"29d27784-e40c-11e8-a1d0-d7b4c6107baf\"}, {\"boxmean\": true, \"boxpoints\": \"all\", \"marker\": {\"color\": \"rgb(0,0,255)\", \"line\": {\"width\": 1}}, \"name\": \"Cluster 3\", \"text\": [\"Student_59\", \"Student_7\", \"Student_44\", \"Student_25\", \"Student_12\", \"Student_13\", \"Student_37\", \"Student_56\", \"Student_3\", \"Student_22\", \"Student_38\", \"Student_42\"], \"y\": [15, 9, 20, 18, 19, 6, 9, 8, 11, 21, 9, 12], \"type\": \"box\", \"uid\": \"29d2795a-e40c-11e8-a1d0-d7b4c6107baf\"}, {\"boxmean\": true, \"boxpoints\": \"all\", \"marker\": {\"color\": \"rgb(0,255,0)\", \"line\": {\"width\": 1}}, \"name\": \"Cluster 4\", \"text\": [\"Student_10\", \"Student_15\", \"Student_2\", \"Student_8\", \"Student_27\", \"Student_47\", \"Student_41\"], \"y\": [15, 32, 29, 37, 32, 21, 15], \"type\": \"box\", \"uid\": \"29d27a04-e40c-11e8-a1d0-d7b4c6107baf\"}], {\"showlegend\": true, \"title\": \"Varia\\u00e7\\u00e3o de postagem no f\\u00f3rum por cluster\", \"yaxis\": {\"fixedrange\": false, \"range\": [-1, 47], \"rangemode\": \"normal\", \"title\": \"Postagem no f\\u00f3rum\", \"zeroline\": false}}, {\"showLink\": true, \"linkText\": \"Export to plot.ly\"})});</script>"
      ]
     },
     "metadata": {},
     "output_type": "display_data"
    },
    {
     "data": {
      "application/vnd.plotly.v1+json": {
       "data": [
        {
         "boxmean": true,
         "boxpoints": "all",
         "marker": {
          "color": "rgb(255,0,0)",
          "line": {
           "width": 1
          }
         },
         "name": "Cluster 1",
         "text": [
          "Student_52",
          "Student_54",
          "Student_29",
          "Student_50",
          "Student_33",
          "Student_28",
          "Student_14",
          "Student_45",
          "Student_46",
          "Student_36",
          "Student_49",
          "Student_35",
          "Student_20",
          "Student_9",
          "Student_48",
          "Student_1",
          "Student_39",
          "Student_31",
          "Student_4",
          "Student_30"
         ],
         "type": "box",
         "uid": "29d95a9a-e40c-11e8-a1d0-d7b4c6107baf",
         "y": [
          0,
          2,
          0,
          0,
          0,
          2,
          2,
          3,
          2,
          0,
          3,
          1,
          1,
          2,
          1,
          1,
          0,
          3,
          1,
          5
         ]
        },
        {
         "boxmean": true,
         "boxpoints": "all",
         "marker": {
          "color": "rgb(127,0,127)",
          "line": {
           "width": 1
          }
         },
         "name": "Cluster 2",
         "text": [
          "Student_51",
          "Student_24",
          "Student_26",
          "Student_16",
          "Student_6",
          "Student_19",
          "Student_23",
          "Student_57",
          "Student_60",
          "Student_58",
          "Student_43",
          "Student_21",
          "Student_40",
          "Student_17",
          "Student_18",
          "Student_53",
          "Student_34",
          "Student_11",
          "Student_55",
          "Student_32",
          "Student_5"
         ],
         "type": "box",
         "uid": "29d95c48-e40c-11e8-a1d0-d7b4c6107baf",
         "y": [
          0,
          4,
          3,
          7,
          7,
          6,
          11,
          0,
          10,
          9,
          11,
          2,
          4,
          6,
          4,
          8,
          3,
          4,
          13,
          3,
          3
         ]
        },
        {
         "boxmean": true,
         "boxpoints": "all",
         "marker": {
          "color": "rgb(0,0,255)",
          "line": {
           "width": 1
          }
         },
         "name": "Cluster 3",
         "text": [
          "Student_59",
          "Student_7",
          "Student_44",
          "Student_25",
          "Student_12",
          "Student_13",
          "Student_37",
          "Student_56",
          "Student_3",
          "Student_22",
          "Student_38",
          "Student_42"
         ],
         "type": "box",
         "uid": "29d95d1a-e40c-11e8-a1d0-d7b4c6107baf",
         "y": [
          11,
          19,
          18,
          17,
          4,
          18,
          14,
          15,
          5,
          19,
          8,
          14
         ]
        },
        {
         "boxmean": true,
         "boxpoints": "all",
         "marker": {
          "color": "rgb(0,255,0)",
          "line": {
           "width": 1
          }
         },
         "name": "Cluster 4",
         "text": [
          "Student_10",
          "Student_15",
          "Student_2",
          "Student_8",
          "Student_27",
          "Student_47",
          "Student_41"
         ],
         "type": "box",
         "uid": "29d95dba-e40c-11e8-a1d0-d7b4c6107baf",
         "y": [
          35,
          33,
          25,
          36,
          18,
          34,
          39
         ]
        }
       ],
       "layout": {
        "showlegend": true,
        "title": "Variação de postagem respondidas no fórum por cluster",
        "yaxis": {
         "fixedrange": false,
         "range": [
          -1,
          49
         ],
         "rangemode": "normal",
         "title": "Postagens respondidas no fórum",
         "zeroline": false
        }
       }
      },
      "text/html": [
       "<div id=\"2b350b8d-abf1-4853-afd8-0c75c0d4d615\" style=\"height: 525px; width: 100%;\" class=\"plotly-graph-div\"></div><script type=\"text/javascript\">require([\"plotly\"], function(Plotly) { window.PLOTLYENV=window.PLOTLYENV || {};window.PLOTLYENV.BASE_URL=\"https://plot.ly\";Plotly.newPlot(\"2b350b8d-abf1-4853-afd8-0c75c0d4d615\", [{\"boxmean\": true, \"boxpoints\": \"all\", \"marker\": {\"color\": \"rgb(255,0,0)\", \"line\": {\"width\": 1}}, \"name\": \"Cluster 1\", \"text\": [\"Student_52\", \"Student_54\", \"Student_29\", \"Student_50\", \"Student_33\", \"Student_28\", \"Student_14\", \"Student_45\", \"Student_46\", \"Student_36\", \"Student_49\", \"Student_35\", \"Student_20\", \"Student_9\", \"Student_48\", \"Student_1\", \"Student_39\", \"Student_31\", \"Student_4\", \"Student_30\"], \"y\": [0, 2, 0, 0, 0, 2, 2, 3, 2, 0, 3, 1, 1, 2, 1, 1, 0, 3, 1, 5], \"type\": \"box\", \"uid\": \"29d95a9a-e40c-11e8-a1d0-d7b4c6107baf\"}, {\"boxmean\": true, \"boxpoints\": \"all\", \"marker\": {\"color\": \"rgb(127,0,127)\", \"line\": {\"width\": 1}}, \"name\": \"Cluster 2\", \"text\": [\"Student_51\", \"Student_24\", \"Student_26\", \"Student_16\", \"Student_6\", \"Student_19\", \"Student_23\", \"Student_57\", \"Student_60\", \"Student_58\", \"Student_43\", \"Student_21\", \"Student_40\", \"Student_17\", \"Student_18\", \"Student_53\", \"Student_34\", \"Student_11\", \"Student_55\", \"Student_32\", \"Student_5\"], \"y\": [0, 4, 3, 7, 7, 6, 11, 0, 10, 9, 11, 2, 4, 6, 4, 8, 3, 4, 13, 3, 3], \"type\": \"box\", \"uid\": \"29d95c48-e40c-11e8-a1d0-d7b4c6107baf\"}, {\"boxmean\": true, \"boxpoints\": \"all\", \"marker\": {\"color\": \"rgb(0,0,255)\", \"line\": {\"width\": 1}}, \"name\": \"Cluster 3\", \"text\": [\"Student_59\", \"Student_7\", \"Student_44\", \"Student_25\", \"Student_12\", \"Student_13\", \"Student_37\", \"Student_56\", \"Student_3\", \"Student_22\", \"Student_38\", \"Student_42\"], \"y\": [11, 19, 18, 17, 4, 18, 14, 15, 5, 19, 8, 14], \"type\": \"box\", \"uid\": \"29d95d1a-e40c-11e8-a1d0-d7b4c6107baf\"}, {\"boxmean\": true, \"boxpoints\": \"all\", \"marker\": {\"color\": \"rgb(0,255,0)\", \"line\": {\"width\": 1}}, \"name\": \"Cluster 4\", \"text\": [\"Student_10\", \"Student_15\", \"Student_2\", \"Student_8\", \"Student_27\", \"Student_47\", \"Student_41\"], \"y\": [35, 33, 25, 36, 18, 34, 39], \"type\": \"box\", \"uid\": \"29d95dba-e40c-11e8-a1d0-d7b4c6107baf\"}], {\"showlegend\": true, \"title\": \"Varia\\u00e7\\u00e3o de postagem respondidas no f\\u00f3rum por cluster\", \"yaxis\": {\"fixedrange\": false, \"range\": [-1, 49], \"rangemode\": \"normal\", \"title\": \"Postagens respondidas no f\\u00f3rum\", \"zeroline\": false}}, {\"showLink\": true, \"linkText\": \"Export to plot.ly\"})});</script>"
      ],
      "text/vnd.plotly.v1+html": [
       "<div id=\"2b350b8d-abf1-4853-afd8-0c75c0d4d615\" style=\"height: 525px; width: 100%;\" class=\"plotly-graph-div\"></div><script type=\"text/javascript\">require([\"plotly\"], function(Plotly) { window.PLOTLYENV=window.PLOTLYENV || {};window.PLOTLYENV.BASE_URL=\"https://plot.ly\";Plotly.newPlot(\"2b350b8d-abf1-4853-afd8-0c75c0d4d615\", [{\"boxmean\": true, \"boxpoints\": \"all\", \"marker\": {\"color\": \"rgb(255,0,0)\", \"line\": {\"width\": 1}}, \"name\": \"Cluster 1\", \"text\": [\"Student_52\", \"Student_54\", \"Student_29\", \"Student_50\", \"Student_33\", \"Student_28\", \"Student_14\", \"Student_45\", \"Student_46\", \"Student_36\", \"Student_49\", \"Student_35\", \"Student_20\", \"Student_9\", \"Student_48\", \"Student_1\", \"Student_39\", \"Student_31\", \"Student_4\", \"Student_30\"], \"y\": [0, 2, 0, 0, 0, 2, 2, 3, 2, 0, 3, 1, 1, 2, 1, 1, 0, 3, 1, 5], \"type\": \"box\", \"uid\": \"29d95a9a-e40c-11e8-a1d0-d7b4c6107baf\"}, {\"boxmean\": true, \"boxpoints\": \"all\", \"marker\": {\"color\": \"rgb(127,0,127)\", \"line\": {\"width\": 1}}, \"name\": \"Cluster 2\", \"text\": [\"Student_51\", \"Student_24\", \"Student_26\", \"Student_16\", \"Student_6\", \"Student_19\", \"Student_23\", \"Student_57\", \"Student_60\", \"Student_58\", \"Student_43\", \"Student_21\", \"Student_40\", \"Student_17\", \"Student_18\", \"Student_53\", \"Student_34\", \"Student_11\", \"Student_55\", \"Student_32\", \"Student_5\"], \"y\": [0, 4, 3, 7, 7, 6, 11, 0, 10, 9, 11, 2, 4, 6, 4, 8, 3, 4, 13, 3, 3], \"type\": \"box\", \"uid\": \"29d95c48-e40c-11e8-a1d0-d7b4c6107baf\"}, {\"boxmean\": true, \"boxpoints\": \"all\", \"marker\": {\"color\": \"rgb(0,0,255)\", \"line\": {\"width\": 1}}, \"name\": \"Cluster 3\", \"text\": [\"Student_59\", \"Student_7\", \"Student_44\", \"Student_25\", \"Student_12\", \"Student_13\", \"Student_37\", \"Student_56\", \"Student_3\", \"Student_22\", \"Student_38\", \"Student_42\"], \"y\": [11, 19, 18, 17, 4, 18, 14, 15, 5, 19, 8, 14], \"type\": \"box\", \"uid\": \"29d95d1a-e40c-11e8-a1d0-d7b4c6107baf\"}, {\"boxmean\": true, \"boxpoints\": \"all\", \"marker\": {\"color\": \"rgb(0,255,0)\", \"line\": {\"width\": 1}}, \"name\": \"Cluster 4\", \"text\": [\"Student_10\", \"Student_15\", \"Student_2\", \"Student_8\", \"Student_27\", \"Student_47\", \"Student_41\"], \"y\": [35, 33, 25, 36, 18, 34, 39], \"type\": \"box\", \"uid\": \"29d95dba-e40c-11e8-a1d0-d7b4c6107baf\"}], {\"showlegend\": true, \"title\": \"Varia\\u00e7\\u00e3o de postagem respondidas no f\\u00f3rum por cluster\", \"yaxis\": {\"fixedrange\": false, \"range\": [-1, 49], \"rangemode\": \"normal\", \"title\": \"Postagens respondidas no f\\u00f3rum\", \"zeroline\": false}}, {\"showLink\": true, \"linkText\": \"Export to plot.ly\"})});</script>"
      ]
     },
     "metadata": {},
     "output_type": "display_data"
    },
    {
     "data": {
      "application/vnd.plotly.v1+json": {
       "data": [
        {
         "boxmean": true,
         "boxpoints": "all",
         "marker": {
          "color": "rgb(255,0,0)",
          "line": {
           "width": 1
          }
         },
         "name": "Cluster 1",
         "text": [
          "Student_52",
          "Student_54",
          "Student_29",
          "Student_50",
          "Student_33",
          "Student_28",
          "Student_14",
          "Student_45",
          "Student_46",
          "Student_36",
          "Student_49",
          "Student_35",
          "Student_20",
          "Student_9",
          "Student_48",
          "Student_1",
          "Student_39",
          "Student_31",
          "Student_4",
          "Student_30"
         ],
         "type": "box",
         "uid": "29df0c1a-e40c-11e8-a1d0-d7b4c6107baf",
         "y": [
          2,
          1,
          1,
          2,
          2,
          2,
          2,
          3,
          1,
          3,
          0,
          3,
          1,
          1,
          0,
          3,
          0,
          2,
          0,
          0
         ]
        },
        {
         "boxmean": true,
         "boxpoints": "all",
         "marker": {
          "color": "rgb(127,0,127)",
          "line": {
           "width": 1
          }
         },
         "name": "Cluster 2",
         "text": [
          "Student_51",
          "Student_24",
          "Student_26",
          "Student_16",
          "Student_6",
          "Student_19",
          "Student_23",
          "Student_57",
          "Student_60",
          "Student_58",
          "Student_43",
          "Student_21",
          "Student_40",
          "Student_17",
          "Student_18",
          "Student_53",
          "Student_34",
          "Student_11",
          "Student_55",
          "Student_32",
          "Student_5"
         ],
         "type": "box",
         "uid": "29df0db4-e40c-11e8-a1d0-d7b4c6107baf",
         "y": [
          3,
          1,
          3,
          3,
          1,
          6,
          1,
          5,
          0,
          7,
          1,
          4,
          7,
          3,
          6,
          3,
          0,
          3,
          3,
          3,
          0
         ]
        },
        {
         "boxmean": true,
         "boxpoints": "all",
         "marker": {
          "color": "rgb(0,0,255)",
          "line": {
           "width": 1
          }
         },
         "name": "Cluster 3",
         "text": [
          "Student_59",
          "Student_7",
          "Student_44",
          "Student_25",
          "Student_12",
          "Student_13",
          "Student_37",
          "Student_56",
          "Student_3",
          "Student_22",
          "Student_38",
          "Student_42"
         ],
         "type": "box",
         "uid": "29df0e7c-e40c-11e8-a1d0-d7b4c6107baf",
         "y": [
          2,
          4,
          3,
          5,
          6,
          2,
          4,
          6,
          9,
          8,
          10,
          1
         ]
        },
        {
         "boxmean": true,
         "boxpoints": "all",
         "marker": {
          "color": "rgb(0,255,0)",
          "line": {
           "width": 1
          }
         },
         "name": "Cluster 4",
         "text": [
          "Student_10",
          "Student_15",
          "Student_2",
          "Student_8",
          "Student_27",
          "Student_47",
          "Student_41"
         ],
         "type": "box",
         "uid": "29df0f30-e40c-11e8-a1d0-d7b4c6107baf",
         "y": [
          6,
          7,
          7,
          4,
          13,
          8,
          7
         ]
        }
       ],
       "layout": {
        "showlegend": true,
        "title": "Variação de threads iniciadas no fórum por cluster",
        "yaxis": {
         "fixedrange": false,
         "range": [
          -1,
          23
         ],
         "rangemode": "normal",
         "title": "Threads iniciadas no fórum",
         "zeroline": false
        }
       }
      },
      "text/html": [
       "<div id=\"b934286c-2088-4809-a979-2684c87ba133\" style=\"height: 525px; width: 100%;\" class=\"plotly-graph-div\"></div><script type=\"text/javascript\">require([\"plotly\"], function(Plotly) { window.PLOTLYENV=window.PLOTLYENV || {};window.PLOTLYENV.BASE_URL=\"https://plot.ly\";Plotly.newPlot(\"b934286c-2088-4809-a979-2684c87ba133\", [{\"boxmean\": true, \"boxpoints\": \"all\", \"marker\": {\"color\": \"rgb(255,0,0)\", \"line\": {\"width\": 1}}, \"name\": \"Cluster 1\", \"text\": [\"Student_52\", \"Student_54\", \"Student_29\", \"Student_50\", \"Student_33\", \"Student_28\", \"Student_14\", \"Student_45\", \"Student_46\", \"Student_36\", \"Student_49\", \"Student_35\", \"Student_20\", \"Student_9\", \"Student_48\", \"Student_1\", \"Student_39\", \"Student_31\", \"Student_4\", \"Student_30\"], \"y\": [2, 1, 1, 2, 2, 2, 2, 3, 1, 3, 0, 3, 1, 1, 0, 3, 0, 2, 0, 0], \"type\": \"box\", \"uid\": \"29df0c1a-e40c-11e8-a1d0-d7b4c6107baf\"}, {\"boxmean\": true, \"boxpoints\": \"all\", \"marker\": {\"color\": \"rgb(127,0,127)\", \"line\": {\"width\": 1}}, \"name\": \"Cluster 2\", \"text\": [\"Student_51\", \"Student_24\", \"Student_26\", \"Student_16\", \"Student_6\", \"Student_19\", \"Student_23\", \"Student_57\", \"Student_60\", \"Student_58\", \"Student_43\", \"Student_21\", \"Student_40\", \"Student_17\", \"Student_18\", \"Student_53\", \"Student_34\", \"Student_11\", \"Student_55\", \"Student_32\", \"Student_5\"], \"y\": [3, 1, 3, 3, 1, 6, 1, 5, 0, 7, 1, 4, 7, 3, 6, 3, 0, 3, 3, 3, 0], \"type\": \"box\", \"uid\": \"29df0db4-e40c-11e8-a1d0-d7b4c6107baf\"}, {\"boxmean\": true, \"boxpoints\": \"all\", \"marker\": {\"color\": \"rgb(0,0,255)\", \"line\": {\"width\": 1}}, \"name\": \"Cluster 3\", \"text\": [\"Student_59\", \"Student_7\", \"Student_44\", \"Student_25\", \"Student_12\", \"Student_13\", \"Student_37\", \"Student_56\", \"Student_3\", \"Student_22\", \"Student_38\", \"Student_42\"], \"y\": [2, 4, 3, 5, 6, 2, 4, 6, 9, 8, 10, 1], \"type\": \"box\", \"uid\": \"29df0e7c-e40c-11e8-a1d0-d7b4c6107baf\"}, {\"boxmean\": true, \"boxpoints\": \"all\", \"marker\": {\"color\": \"rgb(0,255,0)\", \"line\": {\"width\": 1}}, \"name\": \"Cluster 4\", \"text\": [\"Student_10\", \"Student_15\", \"Student_2\", \"Student_8\", \"Student_27\", \"Student_47\", \"Student_41\"], \"y\": [6, 7, 7, 4, 13, 8, 7], \"type\": \"box\", \"uid\": \"29df0f30-e40c-11e8-a1d0-d7b4c6107baf\"}], {\"showlegend\": true, \"title\": \"Varia\\u00e7\\u00e3o de threads iniciadas no f\\u00f3rum por cluster\", \"yaxis\": {\"fixedrange\": false, \"range\": [-1, 23], \"rangemode\": \"normal\", \"title\": \"Threads iniciadas no f\\u00f3rum\", \"zeroline\": false}}, {\"showLink\": true, \"linkText\": \"Export to plot.ly\"})});</script>"
      ],
      "text/vnd.plotly.v1+html": [
       "<div id=\"b934286c-2088-4809-a979-2684c87ba133\" style=\"height: 525px; width: 100%;\" class=\"plotly-graph-div\"></div><script type=\"text/javascript\">require([\"plotly\"], function(Plotly) { window.PLOTLYENV=window.PLOTLYENV || {};window.PLOTLYENV.BASE_URL=\"https://plot.ly\";Plotly.newPlot(\"b934286c-2088-4809-a979-2684c87ba133\", [{\"boxmean\": true, \"boxpoints\": \"all\", \"marker\": {\"color\": \"rgb(255,0,0)\", \"line\": {\"width\": 1}}, \"name\": \"Cluster 1\", \"text\": [\"Student_52\", \"Student_54\", \"Student_29\", \"Student_50\", \"Student_33\", \"Student_28\", \"Student_14\", \"Student_45\", \"Student_46\", \"Student_36\", \"Student_49\", \"Student_35\", \"Student_20\", \"Student_9\", \"Student_48\", \"Student_1\", \"Student_39\", \"Student_31\", \"Student_4\", \"Student_30\"], \"y\": [2, 1, 1, 2, 2, 2, 2, 3, 1, 3, 0, 3, 1, 1, 0, 3, 0, 2, 0, 0], \"type\": \"box\", \"uid\": \"29df0c1a-e40c-11e8-a1d0-d7b4c6107baf\"}, {\"boxmean\": true, \"boxpoints\": \"all\", \"marker\": {\"color\": \"rgb(127,0,127)\", \"line\": {\"width\": 1}}, \"name\": \"Cluster 2\", \"text\": [\"Student_51\", \"Student_24\", \"Student_26\", \"Student_16\", \"Student_6\", \"Student_19\", \"Student_23\", \"Student_57\", \"Student_60\", \"Student_58\", \"Student_43\", \"Student_21\", \"Student_40\", \"Student_17\", \"Student_18\", \"Student_53\", \"Student_34\", \"Student_11\", \"Student_55\", \"Student_32\", \"Student_5\"], \"y\": [3, 1, 3, 3, 1, 6, 1, 5, 0, 7, 1, 4, 7, 3, 6, 3, 0, 3, 3, 3, 0], \"type\": \"box\", \"uid\": \"29df0db4-e40c-11e8-a1d0-d7b4c6107baf\"}, {\"boxmean\": true, \"boxpoints\": \"all\", \"marker\": {\"color\": \"rgb(0,0,255)\", \"line\": {\"width\": 1}}, \"name\": \"Cluster 3\", \"text\": [\"Student_59\", \"Student_7\", \"Student_44\", \"Student_25\", \"Student_12\", \"Student_13\", \"Student_37\", \"Student_56\", \"Student_3\", \"Student_22\", \"Student_38\", \"Student_42\"], \"y\": [2, 4, 3, 5, 6, 2, 4, 6, 9, 8, 10, 1], \"type\": \"box\", \"uid\": \"29df0e7c-e40c-11e8-a1d0-d7b4c6107baf\"}, {\"boxmean\": true, \"boxpoints\": \"all\", \"marker\": {\"color\": \"rgb(0,255,0)\", \"line\": {\"width\": 1}}, \"name\": \"Cluster 4\", \"text\": [\"Student_10\", \"Student_15\", \"Student_2\", \"Student_8\", \"Student_27\", \"Student_47\", \"Student_41\"], \"y\": [6, 7, 7, 4, 13, 8, 7], \"type\": \"box\", \"uid\": \"29df0f30-e40c-11e8-a1d0-d7b4c6107baf\"}], {\"showlegend\": true, \"title\": \"Varia\\u00e7\\u00e3o de threads iniciadas no f\\u00f3rum por cluster\", \"yaxis\": {\"fixedrange\": false, \"range\": [-1, 23], \"rangemode\": \"normal\", \"title\": \"Threads iniciadas no f\\u00f3rum\", \"zeroline\": false}}, {\"showLink\": true, \"linkText\": \"Export to plot.ly\"})});</script>"
      ]
     },
     "metadata": {},
     "output_type": "display_data"
    }
   ],
   "source": [
    "run scripts/V005.py"
   ]
  },
  {
   "cell_type": "markdown",
   "metadata": {},
   "source": [
    "### View 006"
   ]
  },
  {
   "cell_type": "code",
   "execution_count": null,
   "metadata": {},
   "outputs": [],
   "source": [
    "run scripts/V006.py"
   ]
  },
  {
   "cell_type": "markdown",
   "metadata": {},
   "source": [
    "### View 007"
   ]
  },
  {
   "cell_type": "code",
   "execution_count": null,
   "metadata": {},
   "outputs": [],
   "source": [
    "run scripts/V007.py"
   ]
  },
  {
   "cell_type": "markdown",
   "metadata": {},
   "source": [
    "### View 008"
   ]
  },
  {
   "cell_type": "code",
   "execution_count": null,
   "metadata": {},
   "outputs": [],
   "source": [
    "run scripts/V008.py"
   ]
  },
  {
   "cell_type": "markdown",
   "metadata": {},
   "source": [
    "### View 009"
   ]
  },
  {
   "cell_type": "code",
   "execution_count": null,
   "metadata": {},
   "outputs": [],
   "source": [
    "run scripts/V009.py"
   ]
  },
  {
   "cell_type": "markdown",
   "metadata": {},
   "source": [
    "### View 010"
   ]
  },
  {
   "cell_type": "code",
   "execution_count": 46,
   "metadata": {},
   "outputs": [],
   "source": [
    "run scripts/V010.py"
   ]
  },
  {
   "cell_type": "markdown",
   "metadata": {},
   "source": [
    "### View 011"
   ]
  },
  {
   "cell_type": "code",
   "execution_count": null,
   "metadata": {},
   "outputs": [],
   "source": [
    "run scripts/V011.py"
   ]
  }
 ],
 "metadata": {
  "kernelspec": {
   "display_name": "Python 3",
   "language": "python",
   "name": "python3"
  },
  "language_info": {
   "codemirror_mode": {
    "name": "ipython",
    "version": 3
   },
   "file_extension": ".py",
   "mimetype": "text/x-python",
   "name": "python",
   "nbconvert_exporter": "python",
   "pygments_lexer": "ipython3",
   "version": "3.7.0"
  }
 },
 "nbformat": 4,
 "nbformat_minor": 2
}
