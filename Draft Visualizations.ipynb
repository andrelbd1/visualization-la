{
 "cells": [
  {
   "cell_type": "markdown",
   "metadata": {},
   "source": [
    "### View 001"
   ]
  },
  {
   "cell_type": "code",
   "execution_count": 7,
   "metadata": {
    "scrolled": true
   },
   "outputs": [
    {
     "data": {
      "text/html": [
       "<script>requirejs.config({paths: { 'plotly': ['https://cdn.plot.ly/plotly-latest.min']},});if(!window.Plotly) {{require(['plotly'],function(plotly) {window.Plotly=plotly;});}}</script>"
      ],
      "text/vnd.plotly.v1+html": [
       "<script>requirejs.config({paths: { 'plotly': ['https://cdn.plot.ly/plotly-latest.min']},});if(!window.Plotly) {{require(['plotly'],function(plotly) {window.Plotly=plotly;});}}</script>"
      ]
     },
     "metadata": {},
     "output_type": "display_data"
    },
    {
     "data": {
      "application/vnd.plotly.v1+json": {
       "data": [
        {
         "cells": {
          "align": [
           "left",
           "center"
          ],
          "fill": {
           "color": "#F5F8FF"
          },
          "values": [
           [
            "Student_1",
            "Student_2",
            "Student_3",
            "Student_4",
            "Student_5",
            "Student_6",
            "Student_7",
            "Student_8",
            "Student_9",
            "Student_10",
            "Student_11",
            "Student_12",
            "Student_13",
            "Student_14",
            "Student_15",
            "Student_16",
            "Student_17",
            "Student_18",
            "Student_19",
            "Student_20"
           ],
           [
            0,
            0,
            0,
            0,
            1,
            1,
            0,
            0,
            0,
            1,
            1,
            1,
            1,
            1,
            1,
            0,
            0,
            0,
            1,
            1
           ],
           [
            1,
            1,
            1,
            0,
            1,
            0,
            1,
            0,
            1,
            1,
            0,
            0,
            0,
            0,
            0,
            0,
            1,
            1,
            0,
            0
           ],
           [
            0,
            0,
            1,
            0,
            0,
            1,
            1,
            0,
            1,
            1,
            1,
            0,
            0,
            0,
            0,
            1,
            1,
            1,
            0,
            0
           ],
           [
            1,
            0,
            1,
            1,
            0,
            0,
            1,
            0,
            1,
            0,
            1,
            0,
            0,
            0,
            1,
            0,
            1,
            1,
            0,
            1
           ]
          ]
         },
         "header": {
          "align": "center",
          "fill": {
           "color": "#C2D4FF"
          },
          "values": [
           "Students",
           "Assign1",
           "Assign2",
           "Assign3",
           "Assign4"
          ]
         },
         "type": "table",
         "uid": "1c809f44-e2e9-11e8-96ad-27ad55f30ab3"
        }
       ],
       "layout": {}
      },
      "text/html": [
       "<div id=\"3b0a80ef-20ff-4e90-b091-994323873a8c\" style=\"height: 525px; width: 100%;\" class=\"plotly-graph-div\"></div><script type=\"text/javascript\">require([\"plotly\"], function(Plotly) { window.PLOTLYENV=window.PLOTLYENV || {};window.PLOTLYENV.BASE_URL=\"https://plot.ly\";Plotly.newPlot(\"3b0a80ef-20ff-4e90-b091-994323873a8c\", [{\"cells\": {\"align\": [\"left\", \"center\"], \"fill\": {\"color\": \"#F5F8FF\"}, \"values\": [[\"Student_1\", \"Student_2\", \"Student_3\", \"Student_4\", \"Student_5\", \"Student_6\", \"Student_7\", \"Student_8\", \"Student_9\", \"Student_10\", \"Student_11\", \"Student_12\", \"Student_13\", \"Student_14\", \"Student_15\", \"Student_16\", \"Student_17\", \"Student_18\", \"Student_19\", \"Student_20\"], [0, 0, 0, 0, 1, 1, 0, 0, 0, 1, 1, 1, 1, 1, 1, 0, 0, 0, 1, 1], [1, 1, 1, 0, 1, 0, 1, 0, 1, 1, 0, 0, 0, 0, 0, 0, 1, 1, 0, 0], [0, 0, 1, 0, 0, 1, 1, 0, 1, 1, 1, 0, 0, 0, 0, 1, 1, 1, 0, 0], [1, 0, 1, 1, 0, 0, 1, 0, 1, 0, 1, 0, 0, 0, 1, 0, 1, 1, 0, 1]]}, \"header\": {\"align\": \"center\", \"fill\": {\"color\": \"#C2D4FF\"}, \"values\": [\"Students\", \"Assign1\", \"Assign2\", \"Assign3\", \"Assign4\"]}, \"type\": \"table\", \"uid\": \"1c83214c-e2e9-11e8-96ad-27ad55f30ab3\"}], {}, {\"showLink\": true, \"linkText\": \"Export to plot.ly\"})});</script>"
      ],
      "text/vnd.plotly.v1+html": [
       "<div id=\"3b0a80ef-20ff-4e90-b091-994323873a8c\" style=\"height: 525px; width: 100%;\" class=\"plotly-graph-div\"></div><script type=\"text/javascript\">require([\"plotly\"], function(Plotly) { window.PLOTLYENV=window.PLOTLYENV || {};window.PLOTLYENV.BASE_URL=\"https://plot.ly\";Plotly.newPlot(\"3b0a80ef-20ff-4e90-b091-994323873a8c\", [{\"cells\": {\"align\": [\"left\", \"center\"], \"fill\": {\"color\": \"#F5F8FF\"}, \"values\": [[\"Student_1\", \"Student_2\", \"Student_3\", \"Student_4\", \"Student_5\", \"Student_6\", \"Student_7\", \"Student_8\", \"Student_9\", \"Student_10\", \"Student_11\", \"Student_12\", \"Student_13\", \"Student_14\", \"Student_15\", \"Student_16\", \"Student_17\", \"Student_18\", \"Student_19\", \"Student_20\"], [0, 0, 0, 0, 1, 1, 0, 0, 0, 1, 1, 1, 1, 1, 1, 0, 0, 0, 1, 1], [1, 1, 1, 0, 1, 0, 1, 0, 1, 1, 0, 0, 0, 0, 0, 0, 1, 1, 0, 0], [0, 0, 1, 0, 0, 1, 1, 0, 1, 1, 1, 0, 0, 0, 0, 1, 1, 1, 0, 0], [1, 0, 1, 1, 0, 0, 1, 0, 1, 0, 1, 0, 0, 0, 1, 0, 1, 1, 0, 1]]}, \"header\": {\"align\": \"center\", \"fill\": {\"color\": \"#C2D4FF\"}, \"values\": [\"Students\", \"Assign1\", \"Assign2\", \"Assign3\", \"Assign4\"]}, \"type\": \"table\", \"uid\": \"1c83214c-e2e9-11e8-96ad-27ad55f30ab3\"}], {}, {\"showLink\": true, \"linkText\": \"Export to plot.ly\"})});</script>"
      ]
     },
     "metadata": {},
     "output_type": "display_data"
    },
    {
     "data": {
      "application/vnd.plotly.v1+json": {
       "data": [
        {
         "type": "bar",
         "uid": "1c883876-e2e9-11e8-96ad-27ad55f30ab3",
         "x": [
          "Student_1",
          "Student_2",
          "Student_3",
          "Student_4",
          "Student_5",
          "Student_6",
          "Student_7",
          "Student_8",
          "Student_9",
          "Student_10",
          "Student_11",
          "Student_12",
          "Student_13",
          "Student_14",
          "Student_15",
          "Student_16",
          "Student_17",
          "Student_18",
          "Student_19",
          "Student_20"
         ],
         "y": [
          2,
          1,
          3,
          1,
          2,
          2,
          3,
          0,
          3,
          3,
          3,
          1,
          1,
          1,
          2,
          1,
          3,
          3,
          1,
          2
         ]
        }
       ],
       "layout": {
        "title": "Quantidade de tarefas feitas por alunos",
        "yaxis": {
         "dtick": 1,
         "exponentformat": "e",
         "gridcolor": "#bdbdbd",
         "showexponent": "all",
         "showticklabels": true,
         "tick0": 0,
         "titlefont": {
          "color": "lightgrey",
          "family": "Arial, sans-serif"
         }
        }
       }
      },
      "text/html": [
       "<div id=\"f0fa5a74-6c7a-4f8a-922c-1abd75f5d22e\" style=\"height: 525px; width: 100%;\" class=\"plotly-graph-div\"></div><script type=\"text/javascript\">require([\"plotly\"], function(Plotly) { window.PLOTLYENV=window.PLOTLYENV || {};window.PLOTLYENV.BASE_URL=\"https://plot.ly\";Plotly.newPlot(\"f0fa5a74-6c7a-4f8a-922c-1abd75f5d22e\", [{\"x\": [\"Student_1\", \"Student_2\", \"Student_3\", \"Student_4\", \"Student_5\", \"Student_6\", \"Student_7\", \"Student_8\", \"Student_9\", \"Student_10\", \"Student_11\", \"Student_12\", \"Student_13\", \"Student_14\", \"Student_15\", \"Student_16\", \"Student_17\", \"Student_18\", \"Student_19\", \"Student_20\"], \"y\": [2, 1, 3, 1, 2, 2, 3, 0, 3, 3, 3, 1, 1, 1, 2, 1, 3, 3, 1, 2], \"type\": \"bar\", \"uid\": \"1c883876-e2e9-11e8-96ad-27ad55f30ab3\"}], {\"title\": \"Quantidade de tarefas feitas por alunos\", \"yaxis\": {\"dtick\": 1, \"exponentformat\": \"e\", \"gridcolor\": \"#bdbdbd\", \"showexponent\": \"all\", \"showticklabels\": true, \"tick0\": 0, \"titlefont\": {\"color\": \"lightgrey\", \"family\": \"Arial, sans-serif\"}}}, {\"showLink\": true, \"linkText\": \"Export to plot.ly\"})});</script>"
      ],
      "text/vnd.plotly.v1+html": [
       "<div id=\"f0fa5a74-6c7a-4f8a-922c-1abd75f5d22e\" style=\"height: 525px; width: 100%;\" class=\"plotly-graph-div\"></div><script type=\"text/javascript\">require([\"plotly\"], function(Plotly) { window.PLOTLYENV=window.PLOTLYENV || {};window.PLOTLYENV.BASE_URL=\"https://plot.ly\";Plotly.newPlot(\"f0fa5a74-6c7a-4f8a-922c-1abd75f5d22e\", [{\"x\": [\"Student_1\", \"Student_2\", \"Student_3\", \"Student_4\", \"Student_5\", \"Student_6\", \"Student_7\", \"Student_8\", \"Student_9\", \"Student_10\", \"Student_11\", \"Student_12\", \"Student_13\", \"Student_14\", \"Student_15\", \"Student_16\", \"Student_17\", \"Student_18\", \"Student_19\", \"Student_20\"], \"y\": [2, 1, 3, 1, 2, 2, 3, 0, 3, 3, 3, 1, 1, 1, 2, 1, 3, 3, 1, 2], \"type\": \"bar\", \"uid\": \"1c883876-e2e9-11e8-96ad-27ad55f30ab3\"}], {\"title\": \"Quantidade de tarefas feitas por alunos\", \"yaxis\": {\"dtick\": 1, \"exponentformat\": \"e\", \"gridcolor\": \"#bdbdbd\", \"showexponent\": \"all\", \"showticklabels\": true, \"tick0\": 0, \"titlefont\": {\"color\": \"lightgrey\", \"family\": \"Arial, sans-serif\"}}}, {\"showLink\": true, \"linkText\": \"Export to plot.ly\"})});</script>"
      ]
     },
     "metadata": {},
     "output_type": "display_data"
    },
    {
     "data": {
      "application/vnd.plotly.v1+json": {
       "data": [
        {
         "orientation": "h",
         "type": "bar",
         "uid": "1c8cc3a0-e2e9-11e8-96ad-27ad55f30ab3",
         "x": [
          2,
          1,
          3,
          1,
          2,
          2,
          3,
          0,
          3,
          3,
          3,
          1,
          1,
          1,
          2,
          1,
          3,
          3,
          1,
          2
         ],
         "y": [
          "Student_1",
          "Student_2",
          "Student_3",
          "Student_4",
          "Student_5",
          "Student_6",
          "Student_7",
          "Student_8",
          "Student_9",
          "Student_10",
          "Student_11",
          "Student_12",
          "Student_13",
          "Student_14",
          "Student_15",
          "Student_16",
          "Student_17",
          "Student_18",
          "Student_19",
          "Student_20"
         ]
        }
       ],
       "layout": {
        "title": "Quantidade de tarefas feitas por alunos",
        "xaxis": {
         "dtick": 1,
         "tick0": 0
        },
        "yaxis": {
         "dtick": 1,
         "exponentformat": "e",
         "gridcolor": "#bdbdbd",
         "showexponent": "all",
         "showticklabels": true,
         "tick0": 0,
         "titlefont": {
          "color": "lightgrey",
          "family": "Arial, sans-serif"
         }
        }
       }
      },
      "text/html": [
       "<div id=\"74a9db43-c3ca-4424-ad15-3859fbf580d7\" style=\"height: 525px; width: 100%;\" class=\"plotly-graph-div\"></div><script type=\"text/javascript\">require([\"plotly\"], function(Plotly) { window.PLOTLYENV=window.PLOTLYENV || {};window.PLOTLYENV.BASE_URL=\"https://plot.ly\";Plotly.newPlot(\"74a9db43-c3ca-4424-ad15-3859fbf580d7\", [{\"orientation\": \"h\", \"x\": [2, 1, 3, 1, 2, 2, 3, 0, 3, 3, 3, 1, 1, 1, 2, 1, 3, 3, 1, 2], \"y\": [\"Student_1\", \"Student_2\", \"Student_3\", \"Student_4\", \"Student_5\", \"Student_6\", \"Student_7\", \"Student_8\", \"Student_9\", \"Student_10\", \"Student_11\", \"Student_12\", \"Student_13\", \"Student_14\", \"Student_15\", \"Student_16\", \"Student_17\", \"Student_18\", \"Student_19\", \"Student_20\"], \"type\": \"bar\", \"uid\": \"1c8cc3a0-e2e9-11e8-96ad-27ad55f30ab3\"}], {\"title\": \"Quantidade de tarefas feitas por alunos\", \"xaxis\": {\"dtick\": 1, \"tick0\": 0}, \"yaxis\": {\"dtick\": 1, \"exponentformat\": \"e\", \"gridcolor\": \"#bdbdbd\", \"showexponent\": \"all\", \"showticklabels\": true, \"tick0\": 0, \"titlefont\": {\"color\": \"lightgrey\", \"family\": \"Arial, sans-serif\"}}}, {\"showLink\": true, \"linkText\": \"Export to plot.ly\"})});</script>"
      ],
      "text/vnd.plotly.v1+html": [
       "<div id=\"74a9db43-c3ca-4424-ad15-3859fbf580d7\" style=\"height: 525px; width: 100%;\" class=\"plotly-graph-div\"></div><script type=\"text/javascript\">require([\"plotly\"], function(Plotly) { window.PLOTLYENV=window.PLOTLYENV || {};window.PLOTLYENV.BASE_URL=\"https://plot.ly\";Plotly.newPlot(\"74a9db43-c3ca-4424-ad15-3859fbf580d7\", [{\"orientation\": \"h\", \"x\": [2, 1, 3, 1, 2, 2, 3, 0, 3, 3, 3, 1, 1, 1, 2, 1, 3, 3, 1, 2], \"y\": [\"Student_1\", \"Student_2\", \"Student_3\", \"Student_4\", \"Student_5\", \"Student_6\", \"Student_7\", \"Student_8\", \"Student_9\", \"Student_10\", \"Student_11\", \"Student_12\", \"Student_13\", \"Student_14\", \"Student_15\", \"Student_16\", \"Student_17\", \"Student_18\", \"Student_19\", \"Student_20\"], \"type\": \"bar\", \"uid\": \"1c8cc3a0-e2e9-11e8-96ad-27ad55f30ab3\"}], {\"title\": \"Quantidade de tarefas feitas por alunos\", \"xaxis\": {\"dtick\": 1, \"tick0\": 0}, \"yaxis\": {\"dtick\": 1, \"exponentformat\": \"e\", \"gridcolor\": \"#bdbdbd\", \"showexponent\": \"all\", \"showticklabels\": true, \"tick0\": 0, \"titlefont\": {\"color\": \"lightgrey\", \"family\": \"Arial, sans-serif\"}}}, {\"showLink\": true, \"linkText\": \"Export to plot.ly\"})});</script>"
      ]
     },
     "metadata": {},
     "output_type": "display_data"
    },
    {
     "data": {
      "application/vnd.plotly.v1+json": {
       "data": [
        {
         "type": "bar",
         "uid": "1c91dcbe-e2e9-11e8-96ad-27ad55f30ab3",
         "x": [
          "Assign1",
          "Assign2",
          "Assign3",
          "Assign4"
         ],
         "y": [
          10,
          9,
          9,
          10
         ]
        }
       ],
       "layout": {
        "title": "Quantidade de alunos que fizeram as tarefas",
        "yaxis": {
         "dtick": 1,
         "exponentformat": "e",
         "gridcolor": "#bdbdbd",
         "showexponent": "all",
         "showticklabels": true,
         "tick0": 0,
         "titlefont": {
          "color": "lightgrey",
          "family": "Arial, sans-serif"
         }
        }
       }
      },
      "text/html": [
       "<div id=\"37a4c3c0-bb84-4722-9d05-e6d267b6a408\" style=\"height: 525px; width: 100%;\" class=\"plotly-graph-div\"></div><script type=\"text/javascript\">require([\"plotly\"], function(Plotly) { window.PLOTLYENV=window.PLOTLYENV || {};window.PLOTLYENV.BASE_URL=\"https://plot.ly\";Plotly.newPlot(\"37a4c3c0-bb84-4722-9d05-e6d267b6a408\", [{\"x\": [\"Assign1\", \"Assign2\", \"Assign3\", \"Assign4\"], \"y\": [10, 9, 9, 10], \"type\": \"bar\", \"uid\": \"1c91dcbe-e2e9-11e8-96ad-27ad55f30ab3\"}], {\"title\": \"Quantidade de alunos que fizeram as tarefas\", \"yaxis\": {\"dtick\": 1, \"exponentformat\": \"e\", \"gridcolor\": \"#bdbdbd\", \"showexponent\": \"all\", \"showticklabels\": true, \"tick0\": 0, \"titlefont\": {\"color\": \"lightgrey\", \"family\": \"Arial, sans-serif\"}}}, {\"showLink\": true, \"linkText\": \"Export to plot.ly\"})});</script>"
      ],
      "text/vnd.plotly.v1+html": [
       "<div id=\"37a4c3c0-bb84-4722-9d05-e6d267b6a408\" style=\"height: 525px; width: 100%;\" class=\"plotly-graph-div\"></div><script type=\"text/javascript\">require([\"plotly\"], function(Plotly) { window.PLOTLYENV=window.PLOTLYENV || {};window.PLOTLYENV.BASE_URL=\"https://plot.ly\";Plotly.newPlot(\"37a4c3c0-bb84-4722-9d05-e6d267b6a408\", [{\"x\": [\"Assign1\", \"Assign2\", \"Assign3\", \"Assign4\"], \"y\": [10, 9, 9, 10], \"type\": \"bar\", \"uid\": \"1c91dcbe-e2e9-11e8-96ad-27ad55f30ab3\"}], {\"title\": \"Quantidade de alunos que fizeram as tarefas\", \"yaxis\": {\"dtick\": 1, \"exponentformat\": \"e\", \"gridcolor\": \"#bdbdbd\", \"showexponent\": \"all\", \"showticklabels\": true, \"tick0\": 0, \"titlefont\": {\"color\": \"lightgrey\", \"family\": \"Arial, sans-serif\"}}}, {\"showLink\": true, \"linkText\": \"Export to plot.ly\"})});</script>"
      ]
     },
     "metadata": {},
     "output_type": "display_data"
    },
    {
     "data": {
      "application/vnd.plotly.v1+json": {
       "data": [
        {
         "marker": {
          "line": {
           "width": 2
          },
          "size": [
           0,
           1,
           0,
           1
          ],
          "sizemode": "area",
          "sizeref": 0.01,
          "symbol": "circle"
         },
         "mode": "markers",
         "name": "Student_1",
         "text": [
          "0",
          "1",
          "0",
          "1"
         ],
         "type": "scatter",
         "uid": "1ca6fb1c-e2e9-11e8-96ad-27ad55f30ab3",
         "x": [
          "Student_1",
          "Student_1",
          "Student_1",
          "Student_1",
          "Student_1"
         ],
         "y": [
          "Assign1",
          "Assign2",
          "Assign3",
          "Assign4"
         ]
        },
        {
         "marker": {
          "line": {
           "width": 2
          },
          "size": [
           0,
           1,
           0,
           0
          ],
          "sizemode": "area",
          "sizeref": 0.01,
          "symbol": "circle"
         },
         "mode": "markers",
         "name": "Student_2",
         "text": [
          "0",
          "1",
          "0",
          "0"
         ],
         "type": "scatter",
         "uid": "1ca6fcd4-e2e9-11e8-96ad-27ad55f30ab3",
         "x": [
          "Student_2",
          "Student_2",
          "Student_2",
          "Student_2",
          "Student_2"
         ],
         "y": [
          "Assign1",
          "Assign2",
          "Assign3",
          "Assign4"
         ]
        },
        {
         "marker": {
          "line": {
           "width": 2
          },
          "size": [
           0,
           1,
           1,
           1
          ],
          "sizemode": "area",
          "sizeref": 0.01,
          "symbol": "circle"
         },
         "mode": "markers",
         "name": "Student_3",
         "text": [
          "0",
          "1",
          "1",
          "1"
         ],
         "type": "scatter",
         "uid": "1ca6fd9c-e2e9-11e8-96ad-27ad55f30ab3",
         "x": [
          "Student_3",
          "Student_3",
          "Student_3",
          "Student_3",
          "Student_3"
         ],
         "y": [
          "Assign1",
          "Assign2",
          "Assign3",
          "Assign4"
         ]
        },
        {
         "marker": {
          "line": {
           "width": 2
          },
          "size": [
           0,
           0,
           0,
           1
          ],
          "sizemode": "area",
          "sizeref": 0.01,
          "symbol": "circle"
         },
         "mode": "markers",
         "name": "Student_4",
         "text": [
          "0",
          "0",
          "0",
          "1"
         ],
         "type": "scatter",
         "uid": "1ca6fe46-e2e9-11e8-96ad-27ad55f30ab3",
         "x": [
          "Student_4",
          "Student_4",
          "Student_4",
          "Student_4",
          "Student_4"
         ],
         "y": [
          "Assign1",
          "Assign2",
          "Assign3",
          "Assign4"
         ]
        },
        {
         "marker": {
          "line": {
           "width": 2
          },
          "size": [
           1,
           1,
           0,
           0
          ],
          "sizemode": "area",
          "sizeref": 0.01,
          "symbol": "circle"
         },
         "mode": "markers",
         "name": "Student_5",
         "text": [
          "1",
          "1",
          "0",
          "0"
         ],
         "type": "scatter",
         "uid": "1ca6fedc-e2e9-11e8-96ad-27ad55f30ab3",
         "x": [
          "Student_5",
          "Student_5",
          "Student_5",
          "Student_5",
          "Student_5"
         ],
         "y": [
          "Assign1",
          "Assign2",
          "Assign3",
          "Assign4"
         ]
        },
        {
         "marker": {
          "line": {
           "width": 2
          },
          "size": [
           1,
           0,
           1,
           0
          ],
          "sizemode": "area",
          "sizeref": 0.01,
          "symbol": "circle"
         },
         "mode": "markers",
         "name": "Student_6",
         "text": [
          "1",
          "0",
          "1",
          "0"
         ],
         "type": "scatter",
         "uid": "1ca6ff72-e2e9-11e8-96ad-27ad55f30ab3",
         "x": [
          "Student_6",
          "Student_6",
          "Student_6",
          "Student_6",
          "Student_6"
         ],
         "y": [
          "Assign1",
          "Assign2",
          "Assign3",
          "Assign4"
         ]
        },
        {
         "marker": {
          "line": {
           "width": 2
          },
          "size": [
           0,
           1,
           1,
           1
          ],
          "sizemode": "area",
          "sizeref": 0.01,
          "symbol": "circle"
         },
         "mode": "markers",
         "name": "Student_7",
         "text": [
          "0",
          "1",
          "1",
          "1"
         ],
         "type": "scatter",
         "uid": "1ca6fffe-e2e9-11e8-96ad-27ad55f30ab3",
         "x": [
          "Student_7",
          "Student_7",
          "Student_7",
          "Student_7",
          "Student_7"
         ],
         "y": [
          "Assign1",
          "Assign2",
          "Assign3",
          "Assign4"
         ]
        },
        {
         "marker": {
          "line": {
           "width": 2
          },
          "size": [
           0,
           0,
           0,
           0
          ],
          "sizemode": "area",
          "sizeref": 0.01,
          "symbol": "circle"
         },
         "mode": "markers",
         "name": "Student_8",
         "text": [
          "0",
          "0",
          "0",
          "0"
         ],
         "type": "scatter",
         "uid": "1ca7008a-e2e9-11e8-96ad-27ad55f30ab3",
         "x": [
          "Student_8",
          "Student_8",
          "Student_8",
          "Student_8",
          "Student_8"
         ],
         "y": [
          "Assign1",
          "Assign2",
          "Assign3",
          "Assign4"
         ]
        },
        {
         "marker": {
          "line": {
           "width": 2
          },
          "size": [
           0,
           1,
           1,
           1
          ],
          "sizemode": "area",
          "sizeref": 0.01,
          "symbol": "circle"
         },
         "mode": "markers",
         "name": "Student_9",
         "text": [
          "0",
          "1",
          "1",
          "1"
         ],
         "type": "scatter",
         "uid": "1ca7010c-e2e9-11e8-96ad-27ad55f30ab3",
         "x": [
          "Student_9",
          "Student_9",
          "Student_9",
          "Student_9",
          "Student_9"
         ],
         "y": [
          "Assign1",
          "Assign2",
          "Assign3",
          "Assign4"
         ]
        },
        {
         "marker": {
          "line": {
           "width": 2
          },
          "size": [
           1,
           1,
           1,
           0
          ],
          "sizemode": "area",
          "sizeref": 0.01,
          "symbol": "circle"
         },
         "mode": "markers",
         "name": "Student_10",
         "text": [
          "1",
          "1",
          "1",
          "0"
         ],
         "type": "scatter",
         "uid": "1ca70198-e2e9-11e8-96ad-27ad55f30ab3",
         "x": [
          "Student_10",
          "Student_10",
          "Student_10",
          "Student_10",
          "Student_10"
         ],
         "y": [
          "Assign1",
          "Assign2",
          "Assign3",
          "Assign4"
         ]
        },
        {
         "marker": {
          "line": {
           "width": 2
          },
          "size": [
           1,
           0,
           1,
           1
          ],
          "sizemode": "area",
          "sizeref": 0.01,
          "symbol": "circle"
         },
         "mode": "markers",
         "name": "Student_11",
         "text": [
          "1",
          "0",
          "1",
          "1"
         ],
         "type": "scatter",
         "uid": "1ca7022e-e2e9-11e8-96ad-27ad55f30ab3",
         "x": [
          "Student_11",
          "Student_11",
          "Student_11",
          "Student_11",
          "Student_11"
         ],
         "y": [
          "Assign1",
          "Assign2",
          "Assign3",
          "Assign4"
         ]
        },
        {
         "marker": {
          "line": {
           "width": 2
          },
          "size": [
           1,
           0,
           0,
           0
          ],
          "sizemode": "area",
          "sizeref": 0.01,
          "symbol": "circle"
         },
         "mode": "markers",
         "name": "Student_12",
         "text": [
          "1",
          "0",
          "0",
          "0"
         ],
         "type": "scatter",
         "uid": "1ca702b0-e2e9-11e8-96ad-27ad55f30ab3",
         "x": [
          "Student_12",
          "Student_12",
          "Student_12",
          "Student_12",
          "Student_12"
         ],
         "y": [
          "Assign1",
          "Assign2",
          "Assign3",
          "Assign4"
         ]
        },
        {
         "marker": {
          "line": {
           "width": 2
          },
          "size": [
           1,
           0,
           0,
           0
          ],
          "sizemode": "area",
          "sizeref": 0.01,
          "symbol": "circle"
         },
         "mode": "markers",
         "name": "Student_13",
         "text": [
          "1",
          "0",
          "0",
          "0"
         ],
         "type": "scatter",
         "uid": "1ca7033c-e2e9-11e8-96ad-27ad55f30ab3",
         "x": [
          "Student_13",
          "Student_13",
          "Student_13",
          "Student_13",
          "Student_13"
         ],
         "y": [
          "Assign1",
          "Assign2",
          "Assign3",
          "Assign4"
         ]
        },
        {
         "marker": {
          "line": {
           "width": 2
          },
          "size": [
           1,
           0,
           0,
           0
          ],
          "sizemode": "area",
          "sizeref": 0.01,
          "symbol": "circle"
         },
         "mode": "markers",
         "name": "Student_14",
         "text": [
          "1",
          "0",
          "0",
          "0"
         ],
         "type": "scatter",
         "uid": "1ca703be-e2e9-11e8-96ad-27ad55f30ab3",
         "x": [
          "Student_14",
          "Student_14",
          "Student_14",
          "Student_14",
          "Student_14"
         ],
         "y": [
          "Assign1",
          "Assign2",
          "Assign3",
          "Assign4"
         ]
        },
        {
         "marker": {
          "line": {
           "width": 2
          },
          "size": [
           1,
           0,
           0,
           1
          ],
          "sizemode": "area",
          "sizeref": 0.01,
          "symbol": "circle"
         },
         "mode": "markers",
         "name": "Student_15",
         "text": [
          "1",
          "0",
          "0",
          "1"
         ],
         "type": "scatter",
         "uid": "1ca7044a-e2e9-11e8-96ad-27ad55f30ab3",
         "x": [
          "Student_15",
          "Student_15",
          "Student_15",
          "Student_15",
          "Student_15"
         ],
         "y": [
          "Assign1",
          "Assign2",
          "Assign3",
          "Assign4"
         ]
        },
        {
         "marker": {
          "line": {
           "width": 2
          },
          "size": [
           0,
           0,
           1,
           0
          ],
          "sizemode": "area",
          "sizeref": 0.01,
          "symbol": "circle"
         },
         "mode": "markers",
         "name": "Student_16",
         "text": [
          "0",
          "0",
          "1",
          "0"
         ],
         "type": "scatter",
         "uid": "1ca704cc-e2e9-11e8-96ad-27ad55f30ab3",
         "x": [
          "Student_16",
          "Student_16",
          "Student_16",
          "Student_16",
          "Student_16"
         ],
         "y": [
          "Assign1",
          "Assign2",
          "Assign3",
          "Assign4"
         ]
        },
        {
         "marker": {
          "line": {
           "width": 2
          },
          "size": [
           0,
           1,
           1,
           1
          ],
          "sizemode": "area",
          "sizeref": 0.01,
          "symbol": "circle"
         },
         "mode": "markers",
         "name": "Student_17",
         "text": [
          "0",
          "1",
          "1",
          "1"
         ],
         "type": "scatter",
         "uid": "1ca7054e-e2e9-11e8-96ad-27ad55f30ab3",
         "x": [
          "Student_17",
          "Student_17",
          "Student_17",
          "Student_17",
          "Student_17"
         ],
         "y": [
          "Assign1",
          "Assign2",
          "Assign3",
          "Assign4"
         ]
        },
        {
         "marker": {
          "line": {
           "width": 2
          },
          "size": [
           0,
           1,
           1,
           1
          ],
          "sizemode": "area",
          "sizeref": 0.01,
          "symbol": "circle"
         },
         "mode": "markers",
         "name": "Student_18",
         "text": [
          "0",
          "1",
          "1",
          "1"
         ],
         "type": "scatter",
         "uid": "1ca705d0-e2e9-11e8-96ad-27ad55f30ab3",
         "x": [
          "Student_18",
          "Student_18",
          "Student_18",
          "Student_18",
          "Student_18"
         ],
         "y": [
          "Assign1",
          "Assign2",
          "Assign3",
          "Assign4"
         ]
        },
        {
         "marker": {
          "line": {
           "width": 2
          },
          "size": [
           1,
           0,
           0,
           0
          ],
          "sizemode": "area",
          "sizeref": 0.01,
          "symbol": "circle"
         },
         "mode": "markers",
         "name": "Student_19",
         "text": [
          "1",
          "0",
          "0",
          "0"
         ],
         "type": "scatter",
         "uid": "1ca70648-e2e9-11e8-96ad-27ad55f30ab3",
         "x": [
          "Student_19",
          "Student_19",
          "Student_19",
          "Student_19",
          "Student_19"
         ],
         "y": [
          "Assign1",
          "Assign2",
          "Assign3",
          "Assign4"
         ]
        },
        {
         "marker": {
          "line": {
           "width": 2
          },
          "size": [
           1,
           0,
           0,
           1
          ],
          "sizemode": "area",
          "sizeref": 0.01,
          "symbol": "circle"
         },
         "mode": "markers",
         "name": "Student_20",
         "text": [
          "1",
          "0",
          "0",
          "1"
         ],
         "type": "scatter",
         "uid": "1ca706c0-e2e9-11e8-96ad-27ad55f30ab3",
         "x": [
          "Student_20",
          "Student_20",
          "Student_20",
          "Student_20",
          "Student_20"
         ],
         "y": [
          "Assign1",
          "Assign2",
          "Assign3",
          "Assign4"
         ]
        }
       ],
       "layout": {
        "hovermode": "closest",
        "showlegend": true,
        "title": "Atividades feitas por estudante",
        "xaxis": {
         "autorange": false,
         "fixedrange": false,
         "range": [
          -1,
          20
         ],
         "rangemode": "normal",
         "showline": true,
         "title": "Estudantes",
         "type": "category"
        },
        "yaxis": {
         "autorange": false,
         "categoryorder": "category ascending",
         "fixedrange": false,
         "range": [
          -1,
          4
         ],
         "rangemode": "normal",
         "showline": true,
         "title": "Atividades",
         "type": "category"
        }
       }
      },
      "text/html": [
       "<div id=\"1eadd6e8-0307-4f19-bcb7-a624536e230c\" style=\"height: 525px; width: 100%;\" class=\"plotly-graph-div\"></div><script type=\"text/javascript\">require([\"plotly\"], function(Plotly) { window.PLOTLYENV=window.PLOTLYENV || {};window.PLOTLYENV.BASE_URL=\"https://plot.ly\";Plotly.newPlot(\"1eadd6e8-0307-4f19-bcb7-a624536e230c\", [{\"marker\": {\"line\": {\"width\": 2}, \"size\": [0, 1, 0, 1], \"sizemode\": \"area\", \"sizeref\": 0.01, \"symbol\": \"circle\"}, \"mode\": \"markers\", \"name\": \"Student_1\", \"text\": [\"0\", \"1\", \"0\", \"1\"], \"x\": [\"Student_1\", \"Student_1\", \"Student_1\", \"Student_1\", \"Student_1\"], \"y\": [\"Assign1\", \"Assign2\", \"Assign3\", \"Assign4\"], \"type\": \"scatter\", \"uid\": \"1ca6fb1c-e2e9-11e8-96ad-27ad55f30ab3\"}, {\"marker\": {\"line\": {\"width\": 2}, \"size\": [0, 1, 0, 0], \"sizemode\": \"area\", \"sizeref\": 0.01, \"symbol\": \"circle\"}, \"mode\": \"markers\", \"name\": \"Student_2\", \"text\": [\"0\", \"1\", \"0\", \"0\"], \"x\": [\"Student_2\", \"Student_2\", \"Student_2\", \"Student_2\", \"Student_2\"], \"y\": [\"Assign1\", \"Assign2\", \"Assign3\", \"Assign4\"], \"type\": \"scatter\", \"uid\": \"1ca6fcd4-e2e9-11e8-96ad-27ad55f30ab3\"}, {\"marker\": {\"line\": {\"width\": 2}, \"size\": [0, 1, 1, 1], \"sizemode\": \"area\", \"sizeref\": 0.01, \"symbol\": \"circle\"}, \"mode\": \"markers\", \"name\": \"Student_3\", \"text\": [\"0\", \"1\", \"1\", \"1\"], \"x\": [\"Student_3\", \"Student_3\", \"Student_3\", \"Student_3\", \"Student_3\"], \"y\": [\"Assign1\", \"Assign2\", \"Assign3\", \"Assign4\"], \"type\": \"scatter\", \"uid\": \"1ca6fd9c-e2e9-11e8-96ad-27ad55f30ab3\"}, {\"marker\": {\"line\": {\"width\": 2}, \"size\": [0, 0, 0, 1], \"sizemode\": \"area\", \"sizeref\": 0.01, \"symbol\": \"circle\"}, \"mode\": \"markers\", \"name\": \"Student_4\", \"text\": [\"0\", \"0\", \"0\", \"1\"], \"x\": [\"Student_4\", \"Student_4\", \"Student_4\", \"Student_4\", \"Student_4\"], \"y\": [\"Assign1\", \"Assign2\", \"Assign3\", \"Assign4\"], \"type\": \"scatter\", \"uid\": \"1ca6fe46-e2e9-11e8-96ad-27ad55f30ab3\"}, {\"marker\": {\"line\": {\"width\": 2}, \"size\": [1, 1, 0, 0], \"sizemode\": \"area\", \"sizeref\": 0.01, \"symbol\": \"circle\"}, \"mode\": \"markers\", \"name\": \"Student_5\", \"text\": [\"1\", \"1\", \"0\", \"0\"], \"x\": [\"Student_5\", \"Student_5\", \"Student_5\", \"Student_5\", \"Student_5\"], \"y\": [\"Assign1\", \"Assign2\", \"Assign3\", \"Assign4\"], \"type\": \"scatter\", \"uid\": \"1ca6fedc-e2e9-11e8-96ad-27ad55f30ab3\"}, {\"marker\": {\"line\": {\"width\": 2}, \"size\": [1, 0, 1, 0], \"sizemode\": \"area\", \"sizeref\": 0.01, \"symbol\": \"circle\"}, \"mode\": \"markers\", \"name\": \"Student_6\", \"text\": [\"1\", \"0\", \"1\", \"0\"], \"x\": [\"Student_6\", \"Student_6\", \"Student_6\", \"Student_6\", \"Student_6\"], \"y\": [\"Assign1\", \"Assign2\", \"Assign3\", \"Assign4\"], \"type\": \"scatter\", \"uid\": \"1ca6ff72-e2e9-11e8-96ad-27ad55f30ab3\"}, {\"marker\": {\"line\": {\"width\": 2}, \"size\": [0, 1, 1, 1], \"sizemode\": \"area\", \"sizeref\": 0.01, \"symbol\": \"circle\"}, \"mode\": \"markers\", \"name\": \"Student_7\", \"text\": [\"0\", \"1\", \"1\", \"1\"], \"x\": [\"Student_7\", \"Student_7\", \"Student_7\", \"Student_7\", \"Student_7\"], \"y\": [\"Assign1\", \"Assign2\", \"Assign3\", \"Assign4\"], \"type\": \"scatter\", \"uid\": \"1ca6fffe-e2e9-11e8-96ad-27ad55f30ab3\"}, {\"marker\": {\"line\": {\"width\": 2}, \"size\": [0, 0, 0, 0], \"sizemode\": \"area\", \"sizeref\": 0.01, \"symbol\": \"circle\"}, \"mode\": \"markers\", \"name\": \"Student_8\", \"text\": [\"0\", \"0\", \"0\", \"0\"], \"x\": [\"Student_8\", \"Student_8\", \"Student_8\", \"Student_8\", \"Student_8\"], \"y\": [\"Assign1\", \"Assign2\", \"Assign3\", \"Assign4\"], \"type\": \"scatter\", \"uid\": \"1ca7008a-e2e9-11e8-96ad-27ad55f30ab3\"}, {\"marker\": {\"line\": {\"width\": 2}, \"size\": [0, 1, 1, 1], \"sizemode\": \"area\", \"sizeref\": 0.01, \"symbol\": \"circle\"}, \"mode\": \"markers\", \"name\": \"Student_9\", \"text\": [\"0\", \"1\", \"1\", \"1\"], \"x\": [\"Student_9\", \"Student_9\", \"Student_9\", \"Student_9\", \"Student_9\"], \"y\": [\"Assign1\", \"Assign2\", \"Assign3\", \"Assign4\"], \"type\": \"scatter\", \"uid\": \"1ca7010c-e2e9-11e8-96ad-27ad55f30ab3\"}, {\"marker\": {\"line\": {\"width\": 2}, \"size\": [1, 1, 1, 0], \"sizemode\": \"area\", \"sizeref\": 0.01, \"symbol\": \"circle\"}, \"mode\": \"markers\", \"name\": \"Student_10\", \"text\": [\"1\", \"1\", \"1\", \"0\"], \"x\": [\"Student_10\", \"Student_10\", \"Student_10\", \"Student_10\", \"Student_10\"], \"y\": [\"Assign1\", \"Assign2\", \"Assign3\", \"Assign4\"], \"type\": \"scatter\", \"uid\": \"1ca70198-e2e9-11e8-96ad-27ad55f30ab3\"}, {\"marker\": {\"line\": {\"width\": 2}, \"size\": [1, 0, 1, 1], \"sizemode\": \"area\", \"sizeref\": 0.01, \"symbol\": \"circle\"}, \"mode\": \"markers\", \"name\": \"Student_11\", \"text\": [\"1\", \"0\", \"1\", \"1\"], \"x\": [\"Student_11\", \"Student_11\", \"Student_11\", \"Student_11\", \"Student_11\"], \"y\": [\"Assign1\", \"Assign2\", \"Assign3\", \"Assign4\"], \"type\": \"scatter\", \"uid\": \"1ca7022e-e2e9-11e8-96ad-27ad55f30ab3\"}, {\"marker\": {\"line\": {\"width\": 2}, \"size\": [1, 0, 0, 0], \"sizemode\": \"area\", \"sizeref\": 0.01, \"symbol\": \"circle\"}, \"mode\": \"markers\", \"name\": \"Student_12\", \"text\": [\"1\", \"0\", \"0\", \"0\"], \"x\": [\"Student_12\", \"Student_12\", \"Student_12\", \"Student_12\", \"Student_12\"], \"y\": [\"Assign1\", \"Assign2\", \"Assign3\", \"Assign4\"], \"type\": \"scatter\", \"uid\": \"1ca702b0-e2e9-11e8-96ad-27ad55f30ab3\"}, {\"marker\": {\"line\": {\"width\": 2}, \"size\": [1, 0, 0, 0], \"sizemode\": \"area\", \"sizeref\": 0.01, \"symbol\": \"circle\"}, \"mode\": \"markers\", \"name\": \"Student_13\", \"text\": [\"1\", \"0\", \"0\", \"0\"], \"x\": [\"Student_13\", \"Student_13\", \"Student_13\", \"Student_13\", \"Student_13\"], \"y\": [\"Assign1\", \"Assign2\", \"Assign3\", \"Assign4\"], \"type\": \"scatter\", \"uid\": \"1ca7033c-e2e9-11e8-96ad-27ad55f30ab3\"}, {\"marker\": {\"line\": {\"width\": 2}, \"size\": [1, 0, 0, 0], \"sizemode\": \"area\", \"sizeref\": 0.01, \"symbol\": \"circle\"}, \"mode\": \"markers\", \"name\": \"Student_14\", \"text\": [\"1\", \"0\", \"0\", \"0\"], \"x\": [\"Student_14\", \"Student_14\", \"Student_14\", \"Student_14\", \"Student_14\"], \"y\": [\"Assign1\", \"Assign2\", \"Assign3\", \"Assign4\"], \"type\": \"scatter\", \"uid\": \"1ca703be-e2e9-11e8-96ad-27ad55f30ab3\"}, {\"marker\": {\"line\": {\"width\": 2}, \"size\": [1, 0, 0, 1], \"sizemode\": \"area\", \"sizeref\": 0.01, \"symbol\": \"circle\"}, \"mode\": \"markers\", \"name\": \"Student_15\", \"text\": [\"1\", \"0\", \"0\", \"1\"], \"x\": [\"Student_15\", \"Student_15\", \"Student_15\", \"Student_15\", \"Student_15\"], \"y\": [\"Assign1\", \"Assign2\", \"Assign3\", \"Assign4\"], \"type\": \"scatter\", \"uid\": \"1ca7044a-e2e9-11e8-96ad-27ad55f30ab3\"}, {\"marker\": {\"line\": {\"width\": 2}, \"size\": [0, 0, 1, 0], \"sizemode\": \"area\", \"sizeref\": 0.01, \"symbol\": \"circle\"}, \"mode\": \"markers\", \"name\": \"Student_16\", \"text\": [\"0\", \"0\", \"1\", \"0\"], \"x\": [\"Student_16\", \"Student_16\", \"Student_16\", \"Student_16\", \"Student_16\"], \"y\": [\"Assign1\", \"Assign2\", \"Assign3\", \"Assign4\"], \"type\": \"scatter\", \"uid\": \"1ca704cc-e2e9-11e8-96ad-27ad55f30ab3\"}, {\"marker\": {\"line\": {\"width\": 2}, \"size\": [0, 1, 1, 1], \"sizemode\": \"area\", \"sizeref\": 0.01, \"symbol\": \"circle\"}, \"mode\": \"markers\", \"name\": \"Student_17\", \"text\": [\"0\", \"1\", \"1\", \"1\"], \"x\": [\"Student_17\", \"Student_17\", \"Student_17\", \"Student_17\", \"Student_17\"], \"y\": [\"Assign1\", \"Assign2\", \"Assign3\", \"Assign4\"], \"type\": \"scatter\", \"uid\": \"1ca7054e-e2e9-11e8-96ad-27ad55f30ab3\"}, {\"marker\": {\"line\": {\"width\": 2}, \"size\": [0, 1, 1, 1], \"sizemode\": \"area\", \"sizeref\": 0.01, \"symbol\": \"circle\"}, \"mode\": \"markers\", \"name\": \"Student_18\", \"text\": [\"0\", \"1\", \"1\", \"1\"], \"x\": [\"Student_18\", \"Student_18\", \"Student_18\", \"Student_18\", \"Student_18\"], \"y\": [\"Assign1\", \"Assign2\", \"Assign3\", \"Assign4\"], \"type\": \"scatter\", \"uid\": \"1ca705d0-e2e9-11e8-96ad-27ad55f30ab3\"}, {\"marker\": {\"line\": {\"width\": 2}, \"size\": [1, 0, 0, 0], \"sizemode\": \"area\", \"sizeref\": 0.01, \"symbol\": \"circle\"}, \"mode\": \"markers\", \"name\": \"Student_19\", \"text\": [\"1\", \"0\", \"0\", \"0\"], \"x\": [\"Student_19\", \"Student_19\", \"Student_19\", \"Student_19\", \"Student_19\"], \"y\": [\"Assign1\", \"Assign2\", \"Assign3\", \"Assign4\"], \"type\": \"scatter\", \"uid\": \"1ca70648-e2e9-11e8-96ad-27ad55f30ab3\"}, {\"marker\": {\"line\": {\"width\": 2}, \"size\": [1, 0, 0, 1], \"sizemode\": \"area\", \"sizeref\": 0.01, \"symbol\": \"circle\"}, \"mode\": \"markers\", \"name\": \"Student_20\", \"text\": [\"1\", \"0\", \"0\", \"1\"], \"x\": [\"Student_20\", \"Student_20\", \"Student_20\", \"Student_20\", \"Student_20\"], \"y\": [\"Assign1\", \"Assign2\", \"Assign3\", \"Assign4\"], \"type\": \"scatter\", \"uid\": \"1ca706c0-e2e9-11e8-96ad-27ad55f30ab3\"}], {\"hovermode\": \"closest\", \"showlegend\": true, \"title\": \"Atividades feitas por estudante\", \"xaxis\": {\"autorange\": false, \"fixedrange\": false, \"range\": [-1, 20], \"rangemode\": \"normal\", \"showline\": true, \"title\": \"Estudantes\", \"type\": \"category\"}, \"yaxis\": {\"autorange\": false, \"categoryorder\": \"category ascending\", \"fixedrange\": false, \"range\": [-1, 4], \"rangemode\": \"normal\", \"showline\": true, \"title\": \"Atividades\", \"type\": \"category\"}}, {\"showLink\": true, \"linkText\": \"Export to plot.ly\"})});</script>"
      ],
      "text/vnd.plotly.v1+html": [
       "<div id=\"1eadd6e8-0307-4f19-bcb7-a624536e230c\" style=\"height: 525px; width: 100%;\" class=\"plotly-graph-div\"></div><script type=\"text/javascript\">require([\"plotly\"], function(Plotly) { window.PLOTLYENV=window.PLOTLYENV || {};window.PLOTLYENV.BASE_URL=\"https://plot.ly\";Plotly.newPlot(\"1eadd6e8-0307-4f19-bcb7-a624536e230c\", [{\"marker\": {\"line\": {\"width\": 2}, \"size\": [0, 1, 0, 1], \"sizemode\": \"area\", \"sizeref\": 0.01, \"symbol\": \"circle\"}, \"mode\": \"markers\", \"name\": \"Student_1\", \"text\": [\"0\", \"1\", \"0\", \"1\"], \"x\": [\"Student_1\", \"Student_1\", \"Student_1\", \"Student_1\", \"Student_1\"], \"y\": [\"Assign1\", \"Assign2\", \"Assign3\", \"Assign4\"], \"type\": \"scatter\", \"uid\": \"1ca6fb1c-e2e9-11e8-96ad-27ad55f30ab3\"}, {\"marker\": {\"line\": {\"width\": 2}, \"size\": [0, 1, 0, 0], \"sizemode\": \"area\", \"sizeref\": 0.01, \"symbol\": \"circle\"}, \"mode\": \"markers\", \"name\": \"Student_2\", \"text\": [\"0\", \"1\", \"0\", \"0\"], \"x\": [\"Student_2\", \"Student_2\", \"Student_2\", \"Student_2\", \"Student_2\"], \"y\": [\"Assign1\", \"Assign2\", \"Assign3\", \"Assign4\"], \"type\": \"scatter\", \"uid\": \"1ca6fcd4-e2e9-11e8-96ad-27ad55f30ab3\"}, {\"marker\": {\"line\": {\"width\": 2}, \"size\": [0, 1, 1, 1], \"sizemode\": \"area\", \"sizeref\": 0.01, \"symbol\": \"circle\"}, \"mode\": \"markers\", \"name\": \"Student_3\", \"text\": [\"0\", \"1\", \"1\", \"1\"], \"x\": [\"Student_3\", \"Student_3\", \"Student_3\", \"Student_3\", \"Student_3\"], \"y\": [\"Assign1\", \"Assign2\", \"Assign3\", \"Assign4\"], \"type\": \"scatter\", \"uid\": \"1ca6fd9c-e2e9-11e8-96ad-27ad55f30ab3\"}, {\"marker\": {\"line\": {\"width\": 2}, \"size\": [0, 0, 0, 1], \"sizemode\": \"area\", \"sizeref\": 0.01, \"symbol\": \"circle\"}, \"mode\": \"markers\", \"name\": \"Student_4\", \"text\": [\"0\", \"0\", \"0\", \"1\"], \"x\": [\"Student_4\", \"Student_4\", \"Student_4\", \"Student_4\", \"Student_4\"], \"y\": [\"Assign1\", \"Assign2\", \"Assign3\", \"Assign4\"], \"type\": \"scatter\", \"uid\": \"1ca6fe46-e2e9-11e8-96ad-27ad55f30ab3\"}, {\"marker\": {\"line\": {\"width\": 2}, \"size\": [1, 1, 0, 0], \"sizemode\": \"area\", \"sizeref\": 0.01, \"symbol\": \"circle\"}, \"mode\": \"markers\", \"name\": \"Student_5\", \"text\": [\"1\", \"1\", \"0\", \"0\"], \"x\": [\"Student_5\", \"Student_5\", \"Student_5\", \"Student_5\", \"Student_5\"], \"y\": [\"Assign1\", \"Assign2\", \"Assign3\", \"Assign4\"], \"type\": \"scatter\", \"uid\": \"1ca6fedc-e2e9-11e8-96ad-27ad55f30ab3\"}, {\"marker\": {\"line\": {\"width\": 2}, \"size\": [1, 0, 1, 0], \"sizemode\": \"area\", \"sizeref\": 0.01, \"symbol\": \"circle\"}, \"mode\": \"markers\", \"name\": \"Student_6\", \"text\": [\"1\", \"0\", \"1\", \"0\"], \"x\": [\"Student_6\", \"Student_6\", \"Student_6\", \"Student_6\", \"Student_6\"], \"y\": [\"Assign1\", \"Assign2\", \"Assign3\", \"Assign4\"], \"type\": \"scatter\", \"uid\": \"1ca6ff72-e2e9-11e8-96ad-27ad55f30ab3\"}, {\"marker\": {\"line\": {\"width\": 2}, \"size\": [0, 1, 1, 1], \"sizemode\": \"area\", \"sizeref\": 0.01, \"symbol\": \"circle\"}, \"mode\": \"markers\", \"name\": \"Student_7\", \"text\": [\"0\", \"1\", \"1\", \"1\"], \"x\": [\"Student_7\", \"Student_7\", \"Student_7\", \"Student_7\", \"Student_7\"], \"y\": [\"Assign1\", \"Assign2\", \"Assign3\", \"Assign4\"], \"type\": \"scatter\", \"uid\": \"1ca6fffe-e2e9-11e8-96ad-27ad55f30ab3\"}, {\"marker\": {\"line\": {\"width\": 2}, \"size\": [0, 0, 0, 0], \"sizemode\": \"area\", \"sizeref\": 0.01, \"symbol\": \"circle\"}, \"mode\": \"markers\", \"name\": \"Student_8\", \"text\": [\"0\", \"0\", \"0\", \"0\"], \"x\": [\"Student_8\", \"Student_8\", \"Student_8\", \"Student_8\", \"Student_8\"], \"y\": [\"Assign1\", \"Assign2\", \"Assign3\", \"Assign4\"], \"type\": \"scatter\", \"uid\": \"1ca7008a-e2e9-11e8-96ad-27ad55f30ab3\"}, {\"marker\": {\"line\": {\"width\": 2}, \"size\": [0, 1, 1, 1], \"sizemode\": \"area\", \"sizeref\": 0.01, \"symbol\": \"circle\"}, \"mode\": \"markers\", \"name\": \"Student_9\", \"text\": [\"0\", \"1\", \"1\", \"1\"], \"x\": [\"Student_9\", \"Student_9\", \"Student_9\", \"Student_9\", \"Student_9\"], \"y\": [\"Assign1\", \"Assign2\", \"Assign3\", \"Assign4\"], \"type\": \"scatter\", \"uid\": \"1ca7010c-e2e9-11e8-96ad-27ad55f30ab3\"}, {\"marker\": {\"line\": {\"width\": 2}, \"size\": [1, 1, 1, 0], \"sizemode\": \"area\", \"sizeref\": 0.01, \"symbol\": \"circle\"}, \"mode\": \"markers\", \"name\": \"Student_10\", \"text\": [\"1\", \"1\", \"1\", \"0\"], \"x\": [\"Student_10\", \"Student_10\", \"Student_10\", \"Student_10\", \"Student_10\"], \"y\": [\"Assign1\", \"Assign2\", \"Assign3\", \"Assign4\"], \"type\": \"scatter\", \"uid\": \"1ca70198-e2e9-11e8-96ad-27ad55f30ab3\"}, {\"marker\": {\"line\": {\"width\": 2}, \"size\": [1, 0, 1, 1], \"sizemode\": \"area\", \"sizeref\": 0.01, \"symbol\": \"circle\"}, \"mode\": \"markers\", \"name\": \"Student_11\", \"text\": [\"1\", \"0\", \"1\", \"1\"], \"x\": [\"Student_11\", \"Student_11\", \"Student_11\", \"Student_11\", \"Student_11\"], \"y\": [\"Assign1\", \"Assign2\", \"Assign3\", \"Assign4\"], \"type\": \"scatter\", \"uid\": \"1ca7022e-e2e9-11e8-96ad-27ad55f30ab3\"}, {\"marker\": {\"line\": {\"width\": 2}, \"size\": [1, 0, 0, 0], \"sizemode\": \"area\", \"sizeref\": 0.01, \"symbol\": \"circle\"}, \"mode\": \"markers\", \"name\": \"Student_12\", \"text\": [\"1\", \"0\", \"0\", \"0\"], \"x\": [\"Student_12\", \"Student_12\", \"Student_12\", \"Student_12\", \"Student_12\"], \"y\": [\"Assign1\", \"Assign2\", \"Assign3\", \"Assign4\"], \"type\": \"scatter\", \"uid\": \"1ca702b0-e2e9-11e8-96ad-27ad55f30ab3\"}, {\"marker\": {\"line\": {\"width\": 2}, \"size\": [1, 0, 0, 0], \"sizemode\": \"area\", \"sizeref\": 0.01, \"symbol\": \"circle\"}, \"mode\": \"markers\", \"name\": \"Student_13\", \"text\": [\"1\", \"0\", \"0\", \"0\"], \"x\": [\"Student_13\", \"Student_13\", \"Student_13\", \"Student_13\", \"Student_13\"], \"y\": [\"Assign1\", \"Assign2\", \"Assign3\", \"Assign4\"], \"type\": \"scatter\", \"uid\": \"1ca7033c-e2e9-11e8-96ad-27ad55f30ab3\"}, {\"marker\": {\"line\": {\"width\": 2}, \"size\": [1, 0, 0, 0], \"sizemode\": \"area\", \"sizeref\": 0.01, \"symbol\": \"circle\"}, \"mode\": \"markers\", \"name\": \"Student_14\", \"text\": [\"1\", \"0\", \"0\", \"0\"], \"x\": [\"Student_14\", \"Student_14\", \"Student_14\", \"Student_14\", \"Student_14\"], \"y\": [\"Assign1\", \"Assign2\", \"Assign3\", \"Assign4\"], \"type\": \"scatter\", \"uid\": \"1ca703be-e2e9-11e8-96ad-27ad55f30ab3\"}, {\"marker\": {\"line\": {\"width\": 2}, \"size\": [1, 0, 0, 1], \"sizemode\": \"area\", \"sizeref\": 0.01, \"symbol\": \"circle\"}, \"mode\": \"markers\", \"name\": \"Student_15\", \"text\": [\"1\", \"0\", \"0\", \"1\"], \"x\": [\"Student_15\", \"Student_15\", \"Student_15\", \"Student_15\", \"Student_15\"], \"y\": [\"Assign1\", \"Assign2\", \"Assign3\", \"Assign4\"], \"type\": \"scatter\", \"uid\": \"1ca7044a-e2e9-11e8-96ad-27ad55f30ab3\"}, {\"marker\": {\"line\": {\"width\": 2}, \"size\": [0, 0, 1, 0], \"sizemode\": \"area\", \"sizeref\": 0.01, \"symbol\": \"circle\"}, \"mode\": \"markers\", \"name\": \"Student_16\", \"text\": [\"0\", \"0\", \"1\", \"0\"], \"x\": [\"Student_16\", \"Student_16\", \"Student_16\", \"Student_16\", \"Student_16\"], \"y\": [\"Assign1\", \"Assign2\", \"Assign3\", \"Assign4\"], \"type\": \"scatter\", \"uid\": \"1ca704cc-e2e9-11e8-96ad-27ad55f30ab3\"}, {\"marker\": {\"line\": {\"width\": 2}, \"size\": [0, 1, 1, 1], \"sizemode\": \"area\", \"sizeref\": 0.01, \"symbol\": \"circle\"}, \"mode\": \"markers\", \"name\": \"Student_17\", \"text\": [\"0\", \"1\", \"1\", \"1\"], \"x\": [\"Student_17\", \"Student_17\", \"Student_17\", \"Student_17\", \"Student_17\"], \"y\": [\"Assign1\", \"Assign2\", \"Assign3\", \"Assign4\"], \"type\": \"scatter\", \"uid\": \"1ca7054e-e2e9-11e8-96ad-27ad55f30ab3\"}, {\"marker\": {\"line\": {\"width\": 2}, \"size\": [0, 1, 1, 1], \"sizemode\": \"area\", \"sizeref\": 0.01, \"symbol\": \"circle\"}, \"mode\": \"markers\", \"name\": \"Student_18\", \"text\": [\"0\", \"1\", \"1\", \"1\"], \"x\": [\"Student_18\", \"Student_18\", \"Student_18\", \"Student_18\", \"Student_18\"], \"y\": [\"Assign1\", \"Assign2\", \"Assign3\", \"Assign4\"], \"type\": \"scatter\", \"uid\": \"1ca705d0-e2e9-11e8-96ad-27ad55f30ab3\"}, {\"marker\": {\"line\": {\"width\": 2}, \"size\": [1, 0, 0, 0], \"sizemode\": \"area\", \"sizeref\": 0.01, \"symbol\": \"circle\"}, \"mode\": \"markers\", \"name\": \"Student_19\", \"text\": [\"1\", \"0\", \"0\", \"0\"], \"x\": [\"Student_19\", \"Student_19\", \"Student_19\", \"Student_19\", \"Student_19\"], \"y\": [\"Assign1\", \"Assign2\", \"Assign3\", \"Assign4\"], \"type\": \"scatter\", \"uid\": \"1ca70648-e2e9-11e8-96ad-27ad55f30ab3\"}, {\"marker\": {\"line\": {\"width\": 2}, \"size\": [1, 0, 0, 1], \"sizemode\": \"area\", \"sizeref\": 0.01, \"symbol\": \"circle\"}, \"mode\": \"markers\", \"name\": \"Student_20\", \"text\": [\"1\", \"0\", \"0\", \"1\"], \"x\": [\"Student_20\", \"Student_20\", \"Student_20\", \"Student_20\", \"Student_20\"], \"y\": [\"Assign1\", \"Assign2\", \"Assign3\", \"Assign4\"], \"type\": \"scatter\", \"uid\": \"1ca706c0-e2e9-11e8-96ad-27ad55f30ab3\"}], {\"hovermode\": \"closest\", \"showlegend\": true, \"title\": \"Atividades feitas por estudante\", \"xaxis\": {\"autorange\": false, \"fixedrange\": false, \"range\": [-1, 20], \"rangemode\": \"normal\", \"showline\": true, \"title\": \"Estudantes\", \"type\": \"category\"}, \"yaxis\": {\"autorange\": false, \"categoryorder\": \"category ascending\", \"fixedrange\": false, \"range\": [-1, 4], \"rangemode\": \"normal\", \"showline\": true, \"title\": \"Atividades\", \"type\": \"category\"}}, {\"showLink\": true, \"linkText\": \"Export to plot.ly\"})});</script>"
      ]
     },
     "metadata": {},
     "output_type": "display_data"
    },
    {
     "data": {
      "application/vnd.plotly.v1+json": {
       "data": [
        {
         "colorscale": [
          [
           0,
           "rgb(255,255,255)"
          ],
          [
           1,
           "rgb(0,0,255)"
          ]
         ],
         "type": "heatmap",
         "uid": "1cb4bfb8-e2e9-11e8-96ad-27ad55f30ab3",
         "x": [
          "Assign1",
          "Assign2",
          "Assign3",
          "Assign4"
         ],
         "y": [
          "Student_1",
          "Student_2",
          "Student_3",
          "Student_4",
          "Student_5",
          "Student_6",
          "Student_7",
          "Student_8",
          "Student_9",
          "Student_10",
          "Student_11",
          "Student_12",
          "Student_13",
          "Student_14",
          "Student_15",
          "Student_16",
          "Student_17",
          "Student_18",
          "Student_19",
          "Student_20"
         ],
         "z": [
          [
           0,
           1,
           0,
           1
          ],
          [
           0,
           1,
           0,
           0
          ],
          [
           0,
           1,
           1,
           1
          ],
          [
           0,
           0,
           0,
           1
          ],
          [
           1,
           1,
           0,
           0
          ],
          [
           1,
           0,
           1,
           0
          ],
          [
           0,
           1,
           1,
           1
          ],
          [
           0,
           0,
           0,
           0
          ],
          [
           0,
           1,
           1,
           1
          ],
          [
           1,
           1,
           1,
           0
          ],
          [
           1,
           0,
           1,
           1
          ],
          [
           1,
           0,
           0,
           0
          ],
          [
           1,
           0,
           0,
           0
          ],
          [
           1,
           0,
           0,
           0
          ],
          [
           1,
           0,
           0,
           1
          ],
          [
           0,
           0,
           1,
           0
          ],
          [
           0,
           1,
           1,
           1
          ],
          [
           0,
           1,
           1,
           1
          ],
          [
           1,
           0,
           0,
           0
          ],
          [
           1,
           0,
           0,
           1
          ]
         ]
        }
       ],
       "layout": {
        "title": "Atividades feitas por estudante",
        "yaxis": {
         "dtick": 1,
         "exponentformat": "e",
         "gridcolor": "#bdbdbd",
         "showexponent": "all",
         "showticklabels": true,
         "tick0": 0,
         "titlefont": {
          "color": "lightgrey",
          "family": "Arial, sans-serif"
         }
        }
       }
      },
      "text/html": [
       "<div id=\"67074c87-4405-4740-9912-b81a1c709573\" style=\"height: 525px; width: 100%;\" class=\"plotly-graph-div\"></div><script type=\"text/javascript\">require([\"plotly\"], function(Plotly) { window.PLOTLYENV=window.PLOTLYENV || {};window.PLOTLYENV.BASE_URL=\"https://plot.ly\";Plotly.newPlot(\"67074c87-4405-4740-9912-b81a1c709573\", [{\"colorscale\": [[0, \"rgb(255,255,255)\"], [1, \"rgb(0,0,255)\"]], \"x\": [\"Assign1\", \"Assign2\", \"Assign3\", \"Assign4\"], \"y\": [\"Student_1\", \"Student_2\", \"Student_3\", \"Student_4\", \"Student_5\", \"Student_6\", \"Student_7\", \"Student_8\", \"Student_9\", \"Student_10\", \"Student_11\", \"Student_12\", \"Student_13\", \"Student_14\", \"Student_15\", \"Student_16\", \"Student_17\", \"Student_18\", \"Student_19\", \"Student_20\"], \"z\": [[0, 1, 0, 1], [0, 1, 0, 0], [0, 1, 1, 1], [0, 0, 0, 1], [1, 1, 0, 0], [1, 0, 1, 0], [0, 1, 1, 1], [0, 0, 0, 0], [0, 1, 1, 1], [1, 1, 1, 0], [1, 0, 1, 1], [1, 0, 0, 0], [1, 0, 0, 0], [1, 0, 0, 0], [1, 0, 0, 1], [0, 0, 1, 0], [0, 1, 1, 1], [0, 1, 1, 1], [1, 0, 0, 0], [1, 0, 0, 1]], \"type\": \"heatmap\", \"uid\": \"1cb4bfb8-e2e9-11e8-96ad-27ad55f30ab3\"}], {\"title\": \"Atividades feitas por estudante\", \"yaxis\": {\"dtick\": 1, \"exponentformat\": \"e\", \"gridcolor\": \"#bdbdbd\", \"showexponent\": \"all\", \"showticklabels\": true, \"tick0\": 0, \"titlefont\": {\"color\": \"lightgrey\", \"family\": \"Arial, sans-serif\"}}}, {\"showLink\": true, \"linkText\": \"Export to plot.ly\"})});</script>"
      ],
      "text/vnd.plotly.v1+html": [
       "<div id=\"67074c87-4405-4740-9912-b81a1c709573\" style=\"height: 525px; width: 100%;\" class=\"plotly-graph-div\"></div><script type=\"text/javascript\">require([\"plotly\"], function(Plotly) { window.PLOTLYENV=window.PLOTLYENV || {};window.PLOTLYENV.BASE_URL=\"https://plot.ly\";Plotly.newPlot(\"67074c87-4405-4740-9912-b81a1c709573\", [{\"colorscale\": [[0, \"rgb(255,255,255)\"], [1, \"rgb(0,0,255)\"]], \"x\": [\"Assign1\", \"Assign2\", \"Assign3\", \"Assign4\"], \"y\": [\"Student_1\", \"Student_2\", \"Student_3\", \"Student_4\", \"Student_5\", \"Student_6\", \"Student_7\", \"Student_8\", \"Student_9\", \"Student_10\", \"Student_11\", \"Student_12\", \"Student_13\", \"Student_14\", \"Student_15\", \"Student_16\", \"Student_17\", \"Student_18\", \"Student_19\", \"Student_20\"], \"z\": [[0, 1, 0, 1], [0, 1, 0, 0], [0, 1, 1, 1], [0, 0, 0, 1], [1, 1, 0, 0], [1, 0, 1, 0], [0, 1, 1, 1], [0, 0, 0, 0], [0, 1, 1, 1], [1, 1, 1, 0], [1, 0, 1, 1], [1, 0, 0, 0], [1, 0, 0, 0], [1, 0, 0, 0], [1, 0, 0, 1], [0, 0, 1, 0], [0, 1, 1, 1], [0, 1, 1, 1], [1, 0, 0, 0], [1, 0, 0, 1]], \"type\": \"heatmap\", \"uid\": \"1cb4bfb8-e2e9-11e8-96ad-27ad55f30ab3\"}], {\"title\": \"Atividades feitas por estudante\", \"yaxis\": {\"dtick\": 1, \"exponentformat\": \"e\", \"gridcolor\": \"#bdbdbd\", \"showexponent\": \"all\", \"showticklabels\": true, \"tick0\": 0, \"titlefont\": {\"color\": \"lightgrey\", \"family\": \"Arial, sans-serif\"}}}, {\"showLink\": true, \"linkText\": \"Export to plot.ly\"})});</script>"
      ]
     },
     "metadata": {},
     "output_type": "display_data"
    }
   ],
   "source": [
    "run scripts/V001.py"
   ]
  },
  {
   "cell_type": "markdown",
   "metadata": {},
   "source": [
    "### View 002"
   ]
  },
  {
   "cell_type": "code",
   "execution_count": 3,
   "metadata": {
    "scrolled": true
   },
   "outputs": [
    {
     "data": {
      "text/html": [
       "<script>requirejs.config({paths: { 'plotly': ['https://cdn.plot.ly/plotly-latest.min']},});if(!window.Plotly) {{require(['plotly'],function(plotly) {window.Plotly=plotly;});}}</script>"
      ],
      "text/vnd.plotly.v1+html": [
       "<script>requirejs.config({paths: { 'plotly': ['https://cdn.plot.ly/plotly-latest.min']},});if(!window.Plotly) {{require(['plotly'],function(plotly) {window.Plotly=plotly;});}}</script>"
      ]
     },
     "metadata": {},
     "output_type": "display_data"
    },
    {
     "data": {
      "application/vnd.plotly.v1+json": {
       "data": [
        {
         "cells": {
          "align": [
           "left",
           "center"
          ],
          "fill": {
           "color": "#F5F8FF"
          },
          "values": [
           [
            "Student_1",
            "Student_2",
            "Student_3",
            "Student_4",
            "Student_5",
            "Student_6",
            "Student_7",
            "Student_8",
            "Student_9",
            "Student_10",
            "Student_11",
            "Student_12",
            "Student_13",
            "Student_14",
            "Student_15",
            "Student_16",
            "Student_17",
            "Student_18",
            "Student_19",
            "Student_20"
           ],
           [
            17,
            12,
            14,
            27,
            9,
            15,
            13,
            24,
            4,
            26,
            19,
            19,
            23,
            29,
            11,
            12,
            21,
            28,
            4,
            20
           ],
           [
            1,
            21,
            5,
            23,
            15,
            10,
            9,
            12,
            16,
            6,
            25,
            15,
            27,
            28,
            23,
            29,
            2,
            11,
            13,
            22
           ],
           [
            14,
            23,
            17,
            25,
            6,
            16,
            27,
            9,
            22,
            13,
            21,
            13,
            9,
            23,
            19,
            11,
            23,
            9,
            0,
            23
           ],
           [
            3,
            21,
            3,
            13,
            10,
            8,
            18,
            1,
            28,
            13,
            7,
            11,
            6,
            28,
            4,
            7,
            22,
            11,
            2,
            20
           ],
           [
            16,
            8,
            10,
            16,
            6,
            28,
            3,
            0,
            8,
            10,
            5,
            28,
            19,
            27,
            26,
            29,
            13,
            11,
            1,
            29
           ],
           [
            28,
            27,
            3,
            22,
            4,
            6,
            20,
            8,
            9,
            12,
            19,
            6,
            2,
            13,
            18,
            29,
            11,
            17,
            18,
            20
           ],
           [
            18,
            25,
            13,
            22,
            7,
            24,
            0,
            2,
            22,
            27,
            25,
            12,
            25,
            21,
            29,
            7,
            26,
            24,
            20,
            21
           ],
           [
            10,
            13,
            19,
            10,
            24,
            4,
            4,
            10,
            9,
            19,
            6,
            3,
            10,
            0,
            16,
            11,
            6,
            13,
            21,
            9
           ]
          ]
         },
         "header": {
          "align": "center",
          "fill": {
           "color": "#C2D4FF"
          },
          "values": [
           "Students",
           "Video1",
           "Video2",
           "Quiz1",
           "Quiz2",
           "Pdf1",
           "Pdf2",
           "Ebook1",
           "Ebook2"
          ]
         },
         "type": "table",
         "uid": "1a675fbe-e2e8-11e8-96ad-27ad55f30ab3"
        }
       ],
       "layout": {}
      },
      "text/html": [
       "<div id=\"0b004b46-d27a-42bb-9544-bbf08262d704\" style=\"height: 525px; width: 100%;\" class=\"plotly-graph-div\"></div><script type=\"text/javascript\">require([\"plotly\"], function(Plotly) { window.PLOTLYENV=window.PLOTLYENV || {};window.PLOTLYENV.BASE_URL=\"https://plot.ly\";Plotly.newPlot(\"0b004b46-d27a-42bb-9544-bbf08262d704\", [{\"cells\": {\"align\": [\"left\", \"center\"], \"fill\": {\"color\": \"#F5F8FF\"}, \"values\": [[\"Student_1\", \"Student_2\", \"Student_3\", \"Student_4\", \"Student_5\", \"Student_6\", \"Student_7\", \"Student_8\", \"Student_9\", \"Student_10\", \"Student_11\", \"Student_12\", \"Student_13\", \"Student_14\", \"Student_15\", \"Student_16\", \"Student_17\", \"Student_18\", \"Student_19\", \"Student_20\"], [17, 12, 14, 27, 9, 15, 13, 24, 4, 26, 19, 19, 23, 29, 11, 12, 21, 28, 4, 20], [1, 21, 5, 23, 15, 10, 9, 12, 16, 6, 25, 15, 27, 28, 23, 29, 2, 11, 13, 22], [14, 23, 17, 25, 6, 16, 27, 9, 22, 13, 21, 13, 9, 23, 19, 11, 23, 9, 0, 23], [3, 21, 3, 13, 10, 8, 18, 1, 28, 13, 7, 11, 6, 28, 4, 7, 22, 11, 2, 20], [16, 8, 10, 16, 6, 28, 3, 0, 8, 10, 5, 28, 19, 27, 26, 29, 13, 11, 1, 29], [28, 27, 3, 22, 4, 6, 20, 8, 9, 12, 19, 6, 2, 13, 18, 29, 11, 17, 18, 20], [18, 25, 13, 22, 7, 24, 0, 2, 22, 27, 25, 12, 25, 21, 29, 7, 26, 24, 20, 21], [10, 13, 19, 10, 24, 4, 4, 10, 9, 19, 6, 3, 10, 0, 16, 11, 6, 13, 21, 9]]}, \"header\": {\"align\": \"center\", \"fill\": {\"color\": \"#C2D4FF\"}, \"values\": [\"Students\", \"Video1\", \"Video2\", \"Quiz1\", \"Quiz2\", \"Pdf1\", \"Pdf2\", \"Ebook1\", \"Ebook2\"]}, \"type\": \"table\", \"uid\": \"1a697402-e2e8-11e8-96ad-27ad55f30ab3\"}], {}, {\"showLink\": true, \"linkText\": \"Export to plot.ly\"})});</script>"
      ],
      "text/vnd.plotly.v1+html": [
       "<div id=\"0b004b46-d27a-42bb-9544-bbf08262d704\" style=\"height: 525px; width: 100%;\" class=\"plotly-graph-div\"></div><script type=\"text/javascript\">require([\"plotly\"], function(Plotly) { window.PLOTLYENV=window.PLOTLYENV || {};window.PLOTLYENV.BASE_URL=\"https://plot.ly\";Plotly.newPlot(\"0b004b46-d27a-42bb-9544-bbf08262d704\", [{\"cells\": {\"align\": [\"left\", \"center\"], \"fill\": {\"color\": \"#F5F8FF\"}, \"values\": [[\"Student_1\", \"Student_2\", \"Student_3\", \"Student_4\", \"Student_5\", \"Student_6\", \"Student_7\", \"Student_8\", \"Student_9\", \"Student_10\", \"Student_11\", \"Student_12\", \"Student_13\", \"Student_14\", \"Student_15\", \"Student_16\", \"Student_17\", \"Student_18\", \"Student_19\", \"Student_20\"], [17, 12, 14, 27, 9, 15, 13, 24, 4, 26, 19, 19, 23, 29, 11, 12, 21, 28, 4, 20], [1, 21, 5, 23, 15, 10, 9, 12, 16, 6, 25, 15, 27, 28, 23, 29, 2, 11, 13, 22], [14, 23, 17, 25, 6, 16, 27, 9, 22, 13, 21, 13, 9, 23, 19, 11, 23, 9, 0, 23], [3, 21, 3, 13, 10, 8, 18, 1, 28, 13, 7, 11, 6, 28, 4, 7, 22, 11, 2, 20], [16, 8, 10, 16, 6, 28, 3, 0, 8, 10, 5, 28, 19, 27, 26, 29, 13, 11, 1, 29], [28, 27, 3, 22, 4, 6, 20, 8, 9, 12, 19, 6, 2, 13, 18, 29, 11, 17, 18, 20], [18, 25, 13, 22, 7, 24, 0, 2, 22, 27, 25, 12, 25, 21, 29, 7, 26, 24, 20, 21], [10, 13, 19, 10, 24, 4, 4, 10, 9, 19, 6, 3, 10, 0, 16, 11, 6, 13, 21, 9]]}, \"header\": {\"align\": \"center\", \"fill\": {\"color\": \"#C2D4FF\"}, \"values\": [\"Students\", \"Video1\", \"Video2\", \"Quiz1\", \"Quiz2\", \"Pdf1\", \"Pdf2\", \"Ebook1\", \"Ebook2\"]}, \"type\": \"table\", \"uid\": \"1a697402-e2e8-11e8-96ad-27ad55f30ab3\"}], {}, {\"showLink\": true, \"linkText\": \"Export to plot.ly\"})});</script>"
      ]
     },
     "metadata": {},
     "output_type": "display_data"
    },
    {
     "data": {
      "application/vnd.plotly.v1+json": {
       "data": [
        {
         "name": "Video1",
         "type": "bar",
         "uid": "1a7389ec-e2e8-11e8-96ad-27ad55f30ab3",
         "x": [
          "Student_1",
          "Student_2",
          "Student_3",
          "Student_4",
          "Student_5",
          "Student_6",
          "Student_7",
          "Student_8",
          "Student_9",
          "Student_10",
          "Student_11",
          "Student_12",
          "Student_13",
          "Student_14",
          "Student_15",
          "Student_16",
          "Student_17",
          "Student_18",
          "Student_19",
          "Student_20"
         ],
         "y": [
          17,
          12,
          14,
          27,
          9,
          15,
          13,
          24,
          4,
          26,
          19,
          19,
          23,
          29,
          11,
          12,
          21,
          28,
          4,
          20
         ]
        },
        {
         "name": "Video2",
         "type": "bar",
         "uid": "1a738bcc-e2e8-11e8-96ad-27ad55f30ab3",
         "x": [
          "Student_1",
          "Student_2",
          "Student_3",
          "Student_4",
          "Student_5",
          "Student_6",
          "Student_7",
          "Student_8",
          "Student_9",
          "Student_10",
          "Student_11",
          "Student_12",
          "Student_13",
          "Student_14",
          "Student_15",
          "Student_16",
          "Student_17",
          "Student_18",
          "Student_19",
          "Student_20"
         ],
         "y": [
          1,
          21,
          5,
          23,
          15,
          10,
          9,
          12,
          16,
          6,
          25,
          15,
          27,
          28,
          23,
          29,
          2,
          11,
          13,
          22
         ]
        },
        {
         "name": "Quiz1",
         "type": "bar",
         "uid": "1a738cda-e2e8-11e8-96ad-27ad55f30ab3",
         "x": [
          "Student_1",
          "Student_2",
          "Student_3",
          "Student_4",
          "Student_5",
          "Student_6",
          "Student_7",
          "Student_8",
          "Student_9",
          "Student_10",
          "Student_11",
          "Student_12",
          "Student_13",
          "Student_14",
          "Student_15",
          "Student_16",
          "Student_17",
          "Student_18",
          "Student_19",
          "Student_20"
         ],
         "y": [
          14,
          23,
          17,
          25,
          6,
          16,
          27,
          9,
          22,
          13,
          21,
          13,
          9,
          23,
          19,
          11,
          23,
          9,
          0,
          23
         ]
        },
        {
         "name": "Quiz2",
         "type": "bar",
         "uid": "1a738dc0-e2e8-11e8-96ad-27ad55f30ab3",
         "x": [
          "Student_1",
          "Student_2",
          "Student_3",
          "Student_4",
          "Student_5",
          "Student_6",
          "Student_7",
          "Student_8",
          "Student_9",
          "Student_10",
          "Student_11",
          "Student_12",
          "Student_13",
          "Student_14",
          "Student_15",
          "Student_16",
          "Student_17",
          "Student_18",
          "Student_19",
          "Student_20"
         ],
         "y": [
          3,
          21,
          3,
          13,
          10,
          8,
          18,
          1,
          28,
          13,
          7,
          11,
          6,
          28,
          4,
          7,
          22,
          11,
          2,
          20
         ]
        },
        {
         "name": "Pdf1",
         "type": "bar",
         "uid": "1a738e92-e2e8-11e8-96ad-27ad55f30ab3",
         "x": [
          "Student_1",
          "Student_2",
          "Student_3",
          "Student_4",
          "Student_5",
          "Student_6",
          "Student_7",
          "Student_8",
          "Student_9",
          "Student_10",
          "Student_11",
          "Student_12",
          "Student_13",
          "Student_14",
          "Student_15",
          "Student_16",
          "Student_17",
          "Student_18",
          "Student_19",
          "Student_20"
         ],
         "y": [
          16,
          8,
          10,
          16,
          6,
          28,
          3,
          0,
          8,
          10,
          5,
          28,
          19,
          27,
          26,
          29,
          13,
          11,
          1,
          29
         ]
        },
        {
         "name": "Pdf2",
         "type": "bar",
         "uid": "1a738f64-e2e8-11e8-96ad-27ad55f30ab3",
         "x": [
          "Student_1",
          "Student_2",
          "Student_3",
          "Student_4",
          "Student_5",
          "Student_6",
          "Student_7",
          "Student_8",
          "Student_9",
          "Student_10",
          "Student_11",
          "Student_12",
          "Student_13",
          "Student_14",
          "Student_15",
          "Student_16",
          "Student_17",
          "Student_18",
          "Student_19",
          "Student_20"
         ],
         "y": [
          28,
          27,
          3,
          22,
          4,
          6,
          20,
          8,
          9,
          12,
          19,
          6,
          2,
          13,
          18,
          29,
          11,
          17,
          18,
          20
         ]
        },
        {
         "name": "Ebook1",
         "type": "bar",
         "uid": "1a73902c-e2e8-11e8-96ad-27ad55f30ab3",
         "x": [
          "Student_1",
          "Student_2",
          "Student_3",
          "Student_4",
          "Student_5",
          "Student_6",
          "Student_7",
          "Student_8",
          "Student_9",
          "Student_10",
          "Student_11",
          "Student_12",
          "Student_13",
          "Student_14",
          "Student_15",
          "Student_16",
          "Student_17",
          "Student_18",
          "Student_19",
          "Student_20"
         ],
         "y": [
          18,
          25,
          13,
          22,
          7,
          24,
          0,
          2,
          22,
          27,
          25,
          12,
          25,
          21,
          29,
          7,
          26,
          24,
          20,
          21
         ]
        },
        {
         "name": "Ebook2",
         "type": "bar",
         "uid": "1a7390e0-e2e8-11e8-96ad-27ad55f30ab3",
         "x": [
          "Student_1",
          "Student_2",
          "Student_3",
          "Student_4",
          "Student_5",
          "Student_6",
          "Student_7",
          "Student_8",
          "Student_9",
          "Student_10",
          "Student_11",
          "Student_12",
          "Student_13",
          "Student_14",
          "Student_15",
          "Student_16",
          "Student_17",
          "Student_18",
          "Student_19",
          "Student_20"
         ],
         "y": [
          10,
          13,
          19,
          10,
          24,
          4,
          4,
          10,
          9,
          19,
          6,
          3,
          10,
          0,
          16,
          11,
          6,
          13,
          21,
          9
         ]
        }
       ],
       "layout": {
        "title": "Número de acessos nos materiais agrupados por estudante",
        "yaxis": {
         "dtick": 5,
         "exponentformat": "e",
         "gridcolor": "#bdbdbd",
         "showexponent": "all",
         "showticklabels": true,
         "tick0": 0,
         "titlefont": {
          "color": "lightgrey",
          "family": "Arial, sans-serif"
         }
        }
       }
      },
      "text/html": [
       "<div id=\"5b50dedf-7e06-46d0-b5e3-bb68c19baae6\" style=\"height: 525px; width: 100%;\" class=\"plotly-graph-div\"></div><script type=\"text/javascript\">require([\"plotly\"], function(Plotly) { window.PLOTLYENV=window.PLOTLYENV || {};window.PLOTLYENV.BASE_URL=\"https://plot.ly\";Plotly.newPlot(\"5b50dedf-7e06-46d0-b5e3-bb68c19baae6\", [{\"name\": \"Video1\", \"x\": [\"Student_1\", \"Student_2\", \"Student_3\", \"Student_4\", \"Student_5\", \"Student_6\", \"Student_7\", \"Student_8\", \"Student_9\", \"Student_10\", \"Student_11\", \"Student_12\", \"Student_13\", \"Student_14\", \"Student_15\", \"Student_16\", \"Student_17\", \"Student_18\", \"Student_19\", \"Student_20\"], \"y\": [17, 12, 14, 27, 9, 15, 13, 24, 4, 26, 19, 19, 23, 29, 11, 12, 21, 28, 4, 20], \"type\": \"bar\", \"uid\": \"1a7389ec-e2e8-11e8-96ad-27ad55f30ab3\"}, {\"name\": \"Video2\", \"x\": [\"Student_1\", \"Student_2\", \"Student_3\", \"Student_4\", \"Student_5\", \"Student_6\", \"Student_7\", \"Student_8\", \"Student_9\", \"Student_10\", \"Student_11\", \"Student_12\", \"Student_13\", \"Student_14\", \"Student_15\", \"Student_16\", \"Student_17\", \"Student_18\", \"Student_19\", \"Student_20\"], \"y\": [1, 21, 5, 23, 15, 10, 9, 12, 16, 6, 25, 15, 27, 28, 23, 29, 2, 11, 13, 22], \"type\": \"bar\", \"uid\": \"1a738bcc-e2e8-11e8-96ad-27ad55f30ab3\"}, {\"name\": \"Quiz1\", \"x\": [\"Student_1\", \"Student_2\", \"Student_3\", \"Student_4\", \"Student_5\", \"Student_6\", \"Student_7\", \"Student_8\", \"Student_9\", \"Student_10\", \"Student_11\", \"Student_12\", \"Student_13\", \"Student_14\", \"Student_15\", \"Student_16\", \"Student_17\", \"Student_18\", \"Student_19\", \"Student_20\"], \"y\": [14, 23, 17, 25, 6, 16, 27, 9, 22, 13, 21, 13, 9, 23, 19, 11, 23, 9, 0, 23], \"type\": \"bar\", \"uid\": \"1a738cda-e2e8-11e8-96ad-27ad55f30ab3\"}, {\"name\": \"Quiz2\", \"x\": [\"Student_1\", \"Student_2\", \"Student_3\", \"Student_4\", \"Student_5\", \"Student_6\", \"Student_7\", \"Student_8\", \"Student_9\", \"Student_10\", \"Student_11\", \"Student_12\", \"Student_13\", \"Student_14\", \"Student_15\", \"Student_16\", \"Student_17\", \"Student_18\", \"Student_19\", \"Student_20\"], \"y\": [3, 21, 3, 13, 10, 8, 18, 1, 28, 13, 7, 11, 6, 28, 4, 7, 22, 11, 2, 20], \"type\": \"bar\", \"uid\": \"1a738dc0-e2e8-11e8-96ad-27ad55f30ab3\"}, {\"name\": \"Pdf1\", \"x\": [\"Student_1\", \"Student_2\", \"Student_3\", \"Student_4\", \"Student_5\", \"Student_6\", \"Student_7\", \"Student_8\", \"Student_9\", \"Student_10\", \"Student_11\", \"Student_12\", \"Student_13\", \"Student_14\", \"Student_15\", \"Student_16\", \"Student_17\", \"Student_18\", \"Student_19\", \"Student_20\"], \"y\": [16, 8, 10, 16, 6, 28, 3, 0, 8, 10, 5, 28, 19, 27, 26, 29, 13, 11, 1, 29], \"type\": \"bar\", \"uid\": \"1a738e92-e2e8-11e8-96ad-27ad55f30ab3\"}, {\"name\": \"Pdf2\", \"x\": [\"Student_1\", \"Student_2\", \"Student_3\", \"Student_4\", \"Student_5\", \"Student_6\", \"Student_7\", \"Student_8\", \"Student_9\", \"Student_10\", \"Student_11\", \"Student_12\", \"Student_13\", \"Student_14\", \"Student_15\", \"Student_16\", \"Student_17\", \"Student_18\", \"Student_19\", \"Student_20\"], \"y\": [28, 27, 3, 22, 4, 6, 20, 8, 9, 12, 19, 6, 2, 13, 18, 29, 11, 17, 18, 20], \"type\": \"bar\", \"uid\": \"1a738f64-e2e8-11e8-96ad-27ad55f30ab3\"}, {\"name\": \"Ebook1\", \"x\": [\"Student_1\", \"Student_2\", \"Student_3\", \"Student_4\", \"Student_5\", \"Student_6\", \"Student_7\", \"Student_8\", \"Student_9\", \"Student_10\", \"Student_11\", \"Student_12\", \"Student_13\", \"Student_14\", \"Student_15\", \"Student_16\", \"Student_17\", \"Student_18\", \"Student_19\", \"Student_20\"], \"y\": [18, 25, 13, 22, 7, 24, 0, 2, 22, 27, 25, 12, 25, 21, 29, 7, 26, 24, 20, 21], \"type\": \"bar\", \"uid\": \"1a73902c-e2e8-11e8-96ad-27ad55f30ab3\"}, {\"name\": \"Ebook2\", \"x\": [\"Student_1\", \"Student_2\", \"Student_3\", \"Student_4\", \"Student_5\", \"Student_6\", \"Student_7\", \"Student_8\", \"Student_9\", \"Student_10\", \"Student_11\", \"Student_12\", \"Student_13\", \"Student_14\", \"Student_15\", \"Student_16\", \"Student_17\", \"Student_18\", \"Student_19\", \"Student_20\"], \"y\": [10, 13, 19, 10, 24, 4, 4, 10, 9, 19, 6, 3, 10, 0, 16, 11, 6, 13, 21, 9], \"type\": \"bar\", \"uid\": \"1a7390e0-e2e8-11e8-96ad-27ad55f30ab3\"}], {\"title\": \"N\\u00famero de acessos nos materiais agrupados por estudante\", \"yaxis\": {\"dtick\": 5, \"exponentformat\": \"e\", \"gridcolor\": \"#bdbdbd\", \"showexponent\": \"all\", \"showticklabels\": true, \"tick0\": 0, \"titlefont\": {\"color\": \"lightgrey\", \"family\": \"Arial, sans-serif\"}}}, {\"showLink\": true, \"linkText\": \"Export to plot.ly\"})});</script>"
      ],
      "text/vnd.plotly.v1+html": [
       "<div id=\"5b50dedf-7e06-46d0-b5e3-bb68c19baae6\" style=\"height: 525px; width: 100%;\" class=\"plotly-graph-div\"></div><script type=\"text/javascript\">require([\"plotly\"], function(Plotly) { window.PLOTLYENV=window.PLOTLYENV || {};window.PLOTLYENV.BASE_URL=\"https://plot.ly\";Plotly.newPlot(\"5b50dedf-7e06-46d0-b5e3-bb68c19baae6\", [{\"name\": \"Video1\", \"x\": [\"Student_1\", \"Student_2\", \"Student_3\", \"Student_4\", \"Student_5\", \"Student_6\", \"Student_7\", \"Student_8\", \"Student_9\", \"Student_10\", \"Student_11\", \"Student_12\", \"Student_13\", \"Student_14\", \"Student_15\", \"Student_16\", \"Student_17\", \"Student_18\", \"Student_19\", \"Student_20\"], \"y\": [17, 12, 14, 27, 9, 15, 13, 24, 4, 26, 19, 19, 23, 29, 11, 12, 21, 28, 4, 20], \"type\": \"bar\", \"uid\": \"1a7389ec-e2e8-11e8-96ad-27ad55f30ab3\"}, {\"name\": \"Video2\", \"x\": [\"Student_1\", \"Student_2\", \"Student_3\", \"Student_4\", \"Student_5\", \"Student_6\", \"Student_7\", \"Student_8\", \"Student_9\", \"Student_10\", \"Student_11\", \"Student_12\", \"Student_13\", \"Student_14\", \"Student_15\", \"Student_16\", \"Student_17\", \"Student_18\", \"Student_19\", \"Student_20\"], \"y\": [1, 21, 5, 23, 15, 10, 9, 12, 16, 6, 25, 15, 27, 28, 23, 29, 2, 11, 13, 22], \"type\": \"bar\", \"uid\": \"1a738bcc-e2e8-11e8-96ad-27ad55f30ab3\"}, {\"name\": \"Quiz1\", \"x\": [\"Student_1\", \"Student_2\", \"Student_3\", \"Student_4\", \"Student_5\", \"Student_6\", \"Student_7\", \"Student_8\", \"Student_9\", \"Student_10\", \"Student_11\", \"Student_12\", \"Student_13\", \"Student_14\", \"Student_15\", \"Student_16\", \"Student_17\", \"Student_18\", \"Student_19\", \"Student_20\"], \"y\": [14, 23, 17, 25, 6, 16, 27, 9, 22, 13, 21, 13, 9, 23, 19, 11, 23, 9, 0, 23], \"type\": \"bar\", \"uid\": \"1a738cda-e2e8-11e8-96ad-27ad55f30ab3\"}, {\"name\": \"Quiz2\", \"x\": [\"Student_1\", \"Student_2\", \"Student_3\", \"Student_4\", \"Student_5\", \"Student_6\", \"Student_7\", \"Student_8\", \"Student_9\", \"Student_10\", \"Student_11\", \"Student_12\", \"Student_13\", \"Student_14\", \"Student_15\", \"Student_16\", \"Student_17\", \"Student_18\", \"Student_19\", \"Student_20\"], \"y\": [3, 21, 3, 13, 10, 8, 18, 1, 28, 13, 7, 11, 6, 28, 4, 7, 22, 11, 2, 20], \"type\": \"bar\", \"uid\": \"1a738dc0-e2e8-11e8-96ad-27ad55f30ab3\"}, {\"name\": \"Pdf1\", \"x\": [\"Student_1\", \"Student_2\", \"Student_3\", \"Student_4\", \"Student_5\", \"Student_6\", \"Student_7\", \"Student_8\", \"Student_9\", \"Student_10\", \"Student_11\", \"Student_12\", \"Student_13\", \"Student_14\", \"Student_15\", \"Student_16\", \"Student_17\", \"Student_18\", \"Student_19\", \"Student_20\"], \"y\": [16, 8, 10, 16, 6, 28, 3, 0, 8, 10, 5, 28, 19, 27, 26, 29, 13, 11, 1, 29], \"type\": \"bar\", \"uid\": \"1a738e92-e2e8-11e8-96ad-27ad55f30ab3\"}, {\"name\": \"Pdf2\", \"x\": [\"Student_1\", \"Student_2\", \"Student_3\", \"Student_4\", \"Student_5\", \"Student_6\", \"Student_7\", \"Student_8\", \"Student_9\", \"Student_10\", \"Student_11\", \"Student_12\", \"Student_13\", \"Student_14\", \"Student_15\", \"Student_16\", \"Student_17\", \"Student_18\", \"Student_19\", \"Student_20\"], \"y\": [28, 27, 3, 22, 4, 6, 20, 8, 9, 12, 19, 6, 2, 13, 18, 29, 11, 17, 18, 20], \"type\": \"bar\", \"uid\": \"1a738f64-e2e8-11e8-96ad-27ad55f30ab3\"}, {\"name\": \"Ebook1\", \"x\": [\"Student_1\", \"Student_2\", \"Student_3\", \"Student_4\", \"Student_5\", \"Student_6\", \"Student_7\", \"Student_8\", \"Student_9\", \"Student_10\", \"Student_11\", \"Student_12\", \"Student_13\", \"Student_14\", \"Student_15\", \"Student_16\", \"Student_17\", \"Student_18\", \"Student_19\", \"Student_20\"], \"y\": [18, 25, 13, 22, 7, 24, 0, 2, 22, 27, 25, 12, 25, 21, 29, 7, 26, 24, 20, 21], \"type\": \"bar\", \"uid\": \"1a73902c-e2e8-11e8-96ad-27ad55f30ab3\"}, {\"name\": \"Ebook2\", \"x\": [\"Student_1\", \"Student_2\", \"Student_3\", \"Student_4\", \"Student_5\", \"Student_6\", \"Student_7\", \"Student_8\", \"Student_9\", \"Student_10\", \"Student_11\", \"Student_12\", \"Student_13\", \"Student_14\", \"Student_15\", \"Student_16\", \"Student_17\", \"Student_18\", \"Student_19\", \"Student_20\"], \"y\": [10, 13, 19, 10, 24, 4, 4, 10, 9, 19, 6, 3, 10, 0, 16, 11, 6, 13, 21, 9], \"type\": \"bar\", \"uid\": \"1a7390e0-e2e8-11e8-96ad-27ad55f30ab3\"}], {\"title\": \"N\\u00famero de acessos nos materiais agrupados por estudante\", \"yaxis\": {\"dtick\": 5, \"exponentformat\": \"e\", \"gridcolor\": \"#bdbdbd\", \"showexponent\": \"all\", \"showticklabels\": true, \"tick0\": 0, \"titlefont\": {\"color\": \"lightgrey\", \"family\": \"Arial, sans-serif\"}}}, {\"showLink\": true, \"linkText\": \"Export to plot.ly\"})});</script>"
      ]
     },
     "metadata": {},
     "output_type": "display_data"
    },
    {
     "data": {
      "application/vnd.plotly.v1+json": {
       "data": [
        {
         "name": "Video1",
         "type": "bar",
         "uid": "1a7ced98-e2e8-11e8-96ad-27ad55f30ab3",
         "x": [
          "Student_1",
          "Student_2",
          "Student_3",
          "Student_4",
          "Student_5",
          "Student_6",
          "Student_7",
          "Student_8",
          "Student_9",
          "Student_10",
          "Student_11",
          "Student_12",
          "Student_13",
          "Student_14",
          "Student_15",
          "Student_16",
          "Student_17",
          "Student_18",
          "Student_19",
          "Student_20"
         ],
         "y": [
          17,
          12,
          14,
          27,
          9,
          15,
          13,
          24,
          4,
          26,
          19,
          19,
          23,
          29,
          11,
          12,
          21,
          28,
          4,
          20
         ]
        },
        {
         "name": "Video2",
         "type": "bar",
         "uid": "1a7cef5a-e2e8-11e8-96ad-27ad55f30ab3",
         "x": [
          "Student_1",
          "Student_2",
          "Student_3",
          "Student_4",
          "Student_5",
          "Student_6",
          "Student_7",
          "Student_8",
          "Student_9",
          "Student_10",
          "Student_11",
          "Student_12",
          "Student_13",
          "Student_14",
          "Student_15",
          "Student_16",
          "Student_17",
          "Student_18",
          "Student_19",
          "Student_20"
         ],
         "y": [
          1,
          21,
          5,
          23,
          15,
          10,
          9,
          12,
          16,
          6,
          25,
          15,
          27,
          28,
          23,
          29,
          2,
          11,
          13,
          22
         ]
        },
        {
         "name": "Quiz1",
         "type": "bar",
         "uid": "1a7cf022-e2e8-11e8-96ad-27ad55f30ab3",
         "x": [
          "Student_1",
          "Student_2",
          "Student_3",
          "Student_4",
          "Student_5",
          "Student_6",
          "Student_7",
          "Student_8",
          "Student_9",
          "Student_10",
          "Student_11",
          "Student_12",
          "Student_13",
          "Student_14",
          "Student_15",
          "Student_16",
          "Student_17",
          "Student_18",
          "Student_19",
          "Student_20"
         ],
         "y": [
          14,
          23,
          17,
          25,
          6,
          16,
          27,
          9,
          22,
          13,
          21,
          13,
          9,
          23,
          19,
          11,
          23,
          9,
          0,
          23
         ]
        },
        {
         "name": "Quiz2",
         "type": "bar",
         "uid": "1a7cf0cc-e2e8-11e8-96ad-27ad55f30ab3",
         "x": [
          "Student_1",
          "Student_2",
          "Student_3",
          "Student_4",
          "Student_5",
          "Student_6",
          "Student_7",
          "Student_8",
          "Student_9",
          "Student_10",
          "Student_11",
          "Student_12",
          "Student_13",
          "Student_14",
          "Student_15",
          "Student_16",
          "Student_17",
          "Student_18",
          "Student_19",
          "Student_20"
         ],
         "y": [
          3,
          21,
          3,
          13,
          10,
          8,
          18,
          1,
          28,
          13,
          7,
          11,
          6,
          28,
          4,
          7,
          22,
          11,
          2,
          20
         ]
        },
        {
         "name": "Pdf1",
         "type": "bar",
         "uid": "1a7cf162-e2e8-11e8-96ad-27ad55f30ab3",
         "x": [
          "Student_1",
          "Student_2",
          "Student_3",
          "Student_4",
          "Student_5",
          "Student_6",
          "Student_7",
          "Student_8",
          "Student_9",
          "Student_10",
          "Student_11",
          "Student_12",
          "Student_13",
          "Student_14",
          "Student_15",
          "Student_16",
          "Student_17",
          "Student_18",
          "Student_19",
          "Student_20"
         ],
         "y": [
          16,
          8,
          10,
          16,
          6,
          28,
          3,
          0,
          8,
          10,
          5,
          28,
          19,
          27,
          26,
          29,
          13,
          11,
          1,
          29
         ]
        },
        {
         "name": "Pdf2",
         "type": "bar",
         "uid": "1a7cf1e4-e2e8-11e8-96ad-27ad55f30ab3",
         "x": [
          "Student_1",
          "Student_2",
          "Student_3",
          "Student_4",
          "Student_5",
          "Student_6",
          "Student_7",
          "Student_8",
          "Student_9",
          "Student_10",
          "Student_11",
          "Student_12",
          "Student_13",
          "Student_14",
          "Student_15",
          "Student_16",
          "Student_17",
          "Student_18",
          "Student_19",
          "Student_20"
         ],
         "y": [
          28,
          27,
          3,
          22,
          4,
          6,
          20,
          8,
          9,
          12,
          19,
          6,
          2,
          13,
          18,
          29,
          11,
          17,
          18,
          20
         ]
        },
        {
         "name": "Ebook1",
         "type": "bar",
         "uid": "1a7cf266-e2e8-11e8-96ad-27ad55f30ab3",
         "x": [
          "Student_1",
          "Student_2",
          "Student_3",
          "Student_4",
          "Student_5",
          "Student_6",
          "Student_7",
          "Student_8",
          "Student_9",
          "Student_10",
          "Student_11",
          "Student_12",
          "Student_13",
          "Student_14",
          "Student_15",
          "Student_16",
          "Student_17",
          "Student_18",
          "Student_19",
          "Student_20"
         ],
         "y": [
          18,
          25,
          13,
          22,
          7,
          24,
          0,
          2,
          22,
          27,
          25,
          12,
          25,
          21,
          29,
          7,
          26,
          24,
          20,
          21
         ]
        },
        {
         "name": "Ebook2",
         "type": "bar",
         "uid": "1a7cf2de-e2e8-11e8-96ad-27ad55f30ab3",
         "x": [
          "Student_1",
          "Student_2",
          "Student_3",
          "Student_4",
          "Student_5",
          "Student_6",
          "Student_7",
          "Student_8",
          "Student_9",
          "Student_10",
          "Student_11",
          "Student_12",
          "Student_13",
          "Student_14",
          "Student_15",
          "Student_16",
          "Student_17",
          "Student_18",
          "Student_19",
          "Student_20"
         ],
         "y": [
          10,
          13,
          19,
          10,
          24,
          4,
          4,
          10,
          9,
          19,
          6,
          3,
          10,
          0,
          16,
          11,
          6,
          13,
          21,
          9
         ]
        }
       ],
       "layout": {
        "barmode": "stack",
        "title": "Número de acessos nos materiais agrupados por estudante",
        "yaxis": {
         "dtick": 15,
         "exponentformat": "e",
         "gridcolor": "#bdbdbd",
         "showexponent": "all",
         "showticklabels": true,
         "tick0": 0,
         "titlefont": {
          "color": "lightgrey",
          "family": "Arial, sans-serif"
         }
        }
       }
      },
      "text/html": [
       "<div id=\"0c7dea1e-e7a2-4aad-ab6c-1d7c5ba12e34\" style=\"height: 525px; width: 100%;\" class=\"plotly-graph-div\"></div><script type=\"text/javascript\">require([\"plotly\"], function(Plotly) { window.PLOTLYENV=window.PLOTLYENV || {};window.PLOTLYENV.BASE_URL=\"https://plot.ly\";Plotly.newPlot(\"0c7dea1e-e7a2-4aad-ab6c-1d7c5ba12e34\", [{\"name\": \"Video1\", \"x\": [\"Student_1\", \"Student_2\", \"Student_3\", \"Student_4\", \"Student_5\", \"Student_6\", \"Student_7\", \"Student_8\", \"Student_9\", \"Student_10\", \"Student_11\", \"Student_12\", \"Student_13\", \"Student_14\", \"Student_15\", \"Student_16\", \"Student_17\", \"Student_18\", \"Student_19\", \"Student_20\"], \"y\": [17, 12, 14, 27, 9, 15, 13, 24, 4, 26, 19, 19, 23, 29, 11, 12, 21, 28, 4, 20], \"type\": \"bar\", \"uid\": \"1a7ced98-e2e8-11e8-96ad-27ad55f30ab3\"}, {\"name\": \"Video2\", \"x\": [\"Student_1\", \"Student_2\", \"Student_3\", \"Student_4\", \"Student_5\", \"Student_6\", \"Student_7\", \"Student_8\", \"Student_9\", \"Student_10\", \"Student_11\", \"Student_12\", \"Student_13\", \"Student_14\", \"Student_15\", \"Student_16\", \"Student_17\", \"Student_18\", \"Student_19\", \"Student_20\"], \"y\": [1, 21, 5, 23, 15, 10, 9, 12, 16, 6, 25, 15, 27, 28, 23, 29, 2, 11, 13, 22], \"type\": \"bar\", \"uid\": \"1a7cef5a-e2e8-11e8-96ad-27ad55f30ab3\"}, {\"name\": \"Quiz1\", \"x\": [\"Student_1\", \"Student_2\", \"Student_3\", \"Student_4\", \"Student_5\", \"Student_6\", \"Student_7\", \"Student_8\", \"Student_9\", \"Student_10\", \"Student_11\", \"Student_12\", \"Student_13\", \"Student_14\", \"Student_15\", \"Student_16\", \"Student_17\", \"Student_18\", \"Student_19\", \"Student_20\"], \"y\": [14, 23, 17, 25, 6, 16, 27, 9, 22, 13, 21, 13, 9, 23, 19, 11, 23, 9, 0, 23], \"type\": \"bar\", \"uid\": \"1a7cf022-e2e8-11e8-96ad-27ad55f30ab3\"}, {\"name\": \"Quiz2\", \"x\": [\"Student_1\", \"Student_2\", \"Student_3\", \"Student_4\", \"Student_5\", \"Student_6\", \"Student_7\", \"Student_8\", \"Student_9\", \"Student_10\", \"Student_11\", \"Student_12\", \"Student_13\", \"Student_14\", \"Student_15\", \"Student_16\", \"Student_17\", \"Student_18\", \"Student_19\", \"Student_20\"], \"y\": [3, 21, 3, 13, 10, 8, 18, 1, 28, 13, 7, 11, 6, 28, 4, 7, 22, 11, 2, 20], \"type\": \"bar\", \"uid\": \"1a7cf0cc-e2e8-11e8-96ad-27ad55f30ab3\"}, {\"name\": \"Pdf1\", \"x\": [\"Student_1\", \"Student_2\", \"Student_3\", \"Student_4\", \"Student_5\", \"Student_6\", \"Student_7\", \"Student_8\", \"Student_9\", \"Student_10\", \"Student_11\", \"Student_12\", \"Student_13\", \"Student_14\", \"Student_15\", \"Student_16\", \"Student_17\", \"Student_18\", \"Student_19\", \"Student_20\"], \"y\": [16, 8, 10, 16, 6, 28, 3, 0, 8, 10, 5, 28, 19, 27, 26, 29, 13, 11, 1, 29], \"type\": \"bar\", \"uid\": \"1a7cf162-e2e8-11e8-96ad-27ad55f30ab3\"}, {\"name\": \"Pdf2\", \"x\": [\"Student_1\", \"Student_2\", \"Student_3\", \"Student_4\", \"Student_5\", \"Student_6\", \"Student_7\", \"Student_8\", \"Student_9\", \"Student_10\", \"Student_11\", \"Student_12\", \"Student_13\", \"Student_14\", \"Student_15\", \"Student_16\", \"Student_17\", \"Student_18\", \"Student_19\", \"Student_20\"], \"y\": [28, 27, 3, 22, 4, 6, 20, 8, 9, 12, 19, 6, 2, 13, 18, 29, 11, 17, 18, 20], \"type\": \"bar\", \"uid\": \"1a7cf1e4-e2e8-11e8-96ad-27ad55f30ab3\"}, {\"name\": \"Ebook1\", \"x\": [\"Student_1\", \"Student_2\", \"Student_3\", \"Student_4\", \"Student_5\", \"Student_6\", \"Student_7\", \"Student_8\", \"Student_9\", \"Student_10\", \"Student_11\", \"Student_12\", \"Student_13\", \"Student_14\", \"Student_15\", \"Student_16\", \"Student_17\", \"Student_18\", \"Student_19\", \"Student_20\"], \"y\": [18, 25, 13, 22, 7, 24, 0, 2, 22, 27, 25, 12, 25, 21, 29, 7, 26, 24, 20, 21], \"type\": \"bar\", \"uid\": \"1a7cf266-e2e8-11e8-96ad-27ad55f30ab3\"}, {\"name\": \"Ebook2\", \"x\": [\"Student_1\", \"Student_2\", \"Student_3\", \"Student_4\", \"Student_5\", \"Student_6\", \"Student_7\", \"Student_8\", \"Student_9\", \"Student_10\", \"Student_11\", \"Student_12\", \"Student_13\", \"Student_14\", \"Student_15\", \"Student_16\", \"Student_17\", \"Student_18\", \"Student_19\", \"Student_20\"], \"y\": [10, 13, 19, 10, 24, 4, 4, 10, 9, 19, 6, 3, 10, 0, 16, 11, 6, 13, 21, 9], \"type\": \"bar\", \"uid\": \"1a7cf2de-e2e8-11e8-96ad-27ad55f30ab3\"}], {\"barmode\": \"stack\", \"title\": \"N\\u00famero de acessos nos materiais agrupados por estudante\", \"yaxis\": {\"dtick\": 15, \"exponentformat\": \"e\", \"gridcolor\": \"#bdbdbd\", \"showexponent\": \"all\", \"showticklabels\": true, \"tick0\": 0, \"titlefont\": {\"color\": \"lightgrey\", \"family\": \"Arial, sans-serif\"}}}, {\"showLink\": true, \"linkText\": \"Export to plot.ly\"})});</script>"
      ],
      "text/vnd.plotly.v1+html": [
       "<div id=\"0c7dea1e-e7a2-4aad-ab6c-1d7c5ba12e34\" style=\"height: 525px; width: 100%;\" class=\"plotly-graph-div\"></div><script type=\"text/javascript\">require([\"plotly\"], function(Plotly) { window.PLOTLYENV=window.PLOTLYENV || {};window.PLOTLYENV.BASE_URL=\"https://plot.ly\";Plotly.newPlot(\"0c7dea1e-e7a2-4aad-ab6c-1d7c5ba12e34\", [{\"name\": \"Video1\", \"x\": [\"Student_1\", \"Student_2\", \"Student_3\", \"Student_4\", \"Student_5\", \"Student_6\", \"Student_7\", \"Student_8\", \"Student_9\", \"Student_10\", \"Student_11\", \"Student_12\", \"Student_13\", \"Student_14\", \"Student_15\", \"Student_16\", \"Student_17\", \"Student_18\", \"Student_19\", \"Student_20\"], \"y\": [17, 12, 14, 27, 9, 15, 13, 24, 4, 26, 19, 19, 23, 29, 11, 12, 21, 28, 4, 20], \"type\": \"bar\", \"uid\": \"1a7ced98-e2e8-11e8-96ad-27ad55f30ab3\"}, {\"name\": \"Video2\", \"x\": [\"Student_1\", \"Student_2\", \"Student_3\", \"Student_4\", \"Student_5\", \"Student_6\", \"Student_7\", \"Student_8\", \"Student_9\", \"Student_10\", \"Student_11\", \"Student_12\", \"Student_13\", \"Student_14\", \"Student_15\", \"Student_16\", \"Student_17\", \"Student_18\", \"Student_19\", \"Student_20\"], \"y\": [1, 21, 5, 23, 15, 10, 9, 12, 16, 6, 25, 15, 27, 28, 23, 29, 2, 11, 13, 22], \"type\": \"bar\", \"uid\": \"1a7cef5a-e2e8-11e8-96ad-27ad55f30ab3\"}, {\"name\": \"Quiz1\", \"x\": [\"Student_1\", \"Student_2\", \"Student_3\", \"Student_4\", \"Student_5\", \"Student_6\", \"Student_7\", \"Student_8\", \"Student_9\", \"Student_10\", \"Student_11\", \"Student_12\", \"Student_13\", \"Student_14\", \"Student_15\", \"Student_16\", \"Student_17\", \"Student_18\", \"Student_19\", \"Student_20\"], \"y\": [14, 23, 17, 25, 6, 16, 27, 9, 22, 13, 21, 13, 9, 23, 19, 11, 23, 9, 0, 23], \"type\": \"bar\", \"uid\": \"1a7cf022-e2e8-11e8-96ad-27ad55f30ab3\"}, {\"name\": \"Quiz2\", \"x\": [\"Student_1\", \"Student_2\", \"Student_3\", \"Student_4\", \"Student_5\", \"Student_6\", \"Student_7\", \"Student_8\", \"Student_9\", \"Student_10\", \"Student_11\", \"Student_12\", \"Student_13\", \"Student_14\", \"Student_15\", \"Student_16\", \"Student_17\", \"Student_18\", \"Student_19\", \"Student_20\"], \"y\": [3, 21, 3, 13, 10, 8, 18, 1, 28, 13, 7, 11, 6, 28, 4, 7, 22, 11, 2, 20], \"type\": \"bar\", \"uid\": \"1a7cf0cc-e2e8-11e8-96ad-27ad55f30ab3\"}, {\"name\": \"Pdf1\", \"x\": [\"Student_1\", \"Student_2\", \"Student_3\", \"Student_4\", \"Student_5\", \"Student_6\", \"Student_7\", \"Student_8\", \"Student_9\", \"Student_10\", \"Student_11\", \"Student_12\", \"Student_13\", \"Student_14\", \"Student_15\", \"Student_16\", \"Student_17\", \"Student_18\", \"Student_19\", \"Student_20\"], \"y\": [16, 8, 10, 16, 6, 28, 3, 0, 8, 10, 5, 28, 19, 27, 26, 29, 13, 11, 1, 29], \"type\": \"bar\", \"uid\": \"1a7cf162-e2e8-11e8-96ad-27ad55f30ab3\"}, {\"name\": \"Pdf2\", \"x\": [\"Student_1\", \"Student_2\", \"Student_3\", \"Student_4\", \"Student_5\", \"Student_6\", \"Student_7\", \"Student_8\", \"Student_9\", \"Student_10\", \"Student_11\", \"Student_12\", \"Student_13\", \"Student_14\", \"Student_15\", \"Student_16\", \"Student_17\", \"Student_18\", \"Student_19\", \"Student_20\"], \"y\": [28, 27, 3, 22, 4, 6, 20, 8, 9, 12, 19, 6, 2, 13, 18, 29, 11, 17, 18, 20], \"type\": \"bar\", \"uid\": \"1a7cf1e4-e2e8-11e8-96ad-27ad55f30ab3\"}, {\"name\": \"Ebook1\", \"x\": [\"Student_1\", \"Student_2\", \"Student_3\", \"Student_4\", \"Student_5\", \"Student_6\", \"Student_7\", \"Student_8\", \"Student_9\", \"Student_10\", \"Student_11\", \"Student_12\", \"Student_13\", \"Student_14\", \"Student_15\", \"Student_16\", \"Student_17\", \"Student_18\", \"Student_19\", \"Student_20\"], \"y\": [18, 25, 13, 22, 7, 24, 0, 2, 22, 27, 25, 12, 25, 21, 29, 7, 26, 24, 20, 21], \"type\": \"bar\", \"uid\": \"1a7cf266-e2e8-11e8-96ad-27ad55f30ab3\"}, {\"name\": \"Ebook2\", \"x\": [\"Student_1\", \"Student_2\", \"Student_3\", \"Student_4\", \"Student_5\", \"Student_6\", \"Student_7\", \"Student_8\", \"Student_9\", \"Student_10\", \"Student_11\", \"Student_12\", \"Student_13\", \"Student_14\", \"Student_15\", \"Student_16\", \"Student_17\", \"Student_18\", \"Student_19\", \"Student_20\"], \"y\": [10, 13, 19, 10, 24, 4, 4, 10, 9, 19, 6, 3, 10, 0, 16, 11, 6, 13, 21, 9], \"type\": \"bar\", \"uid\": \"1a7cf2de-e2e8-11e8-96ad-27ad55f30ab3\"}], {\"barmode\": \"stack\", \"title\": \"N\\u00famero de acessos nos materiais agrupados por estudante\", \"yaxis\": {\"dtick\": 15, \"exponentformat\": \"e\", \"gridcolor\": \"#bdbdbd\", \"showexponent\": \"all\", \"showticklabels\": true, \"tick0\": 0, \"titlefont\": {\"color\": \"lightgrey\", \"family\": \"Arial, sans-serif\"}}}, {\"showLink\": true, \"linkText\": \"Export to plot.ly\"})});</script>"
      ]
     },
     "metadata": {},
     "output_type": "display_data"
    },
    {
     "data": {
      "application/vnd.plotly.v1+json": {
       "data": [
        {
         "name": "Video1",
         "orientation": "h",
         "type": "bar",
         "uid": "1a8640c8-e2e8-11e8-96ad-27ad55f30ab3",
         "x": [
          17,
          12,
          14,
          27,
          9,
          15,
          13,
          24,
          4,
          26,
          19,
          19,
          23,
          29,
          11,
          12,
          21,
          28,
          4,
          20
         ],
         "y": [
          "Student_1",
          "Student_2",
          "Student_3",
          "Student_4",
          "Student_5",
          "Student_6",
          "Student_7",
          "Student_8",
          "Student_9",
          "Student_10",
          "Student_11",
          "Student_12",
          "Student_13",
          "Student_14",
          "Student_15",
          "Student_16",
          "Student_17",
          "Student_18",
          "Student_19",
          "Student_20"
         ]
        },
        {
         "name": "Video2",
         "orientation": "h",
         "type": "bar",
         "uid": "1a864294-e2e8-11e8-96ad-27ad55f30ab3",
         "x": [
          1,
          21,
          5,
          23,
          15,
          10,
          9,
          12,
          16,
          6,
          25,
          15,
          27,
          28,
          23,
          29,
          2,
          11,
          13,
          22
         ],
         "y": [
          "Student_1",
          "Student_2",
          "Student_3",
          "Student_4",
          "Student_5",
          "Student_6",
          "Student_7",
          "Student_8",
          "Student_9",
          "Student_10",
          "Student_11",
          "Student_12",
          "Student_13",
          "Student_14",
          "Student_15",
          "Student_16",
          "Student_17",
          "Student_18",
          "Student_19",
          "Student_20"
         ]
        },
        {
         "name": "Quiz1",
         "orientation": "h",
         "type": "bar",
         "uid": "1a864370-e2e8-11e8-96ad-27ad55f30ab3",
         "x": [
          14,
          23,
          17,
          25,
          6,
          16,
          27,
          9,
          22,
          13,
          21,
          13,
          9,
          23,
          19,
          11,
          23,
          9,
          0,
          23
         ],
         "y": [
          "Student_1",
          "Student_2",
          "Student_3",
          "Student_4",
          "Student_5",
          "Student_6",
          "Student_7",
          "Student_8",
          "Student_9",
          "Student_10",
          "Student_11",
          "Student_12",
          "Student_13",
          "Student_14",
          "Student_15",
          "Student_16",
          "Student_17",
          "Student_18",
          "Student_19",
          "Student_20"
         ]
        },
        {
         "name": "Quiz2",
         "orientation": "h",
         "type": "bar",
         "uid": "1a864424-e2e8-11e8-96ad-27ad55f30ab3",
         "x": [
          3,
          21,
          3,
          13,
          10,
          8,
          18,
          1,
          28,
          13,
          7,
          11,
          6,
          28,
          4,
          7,
          22,
          11,
          2,
          20
         ],
         "y": [
          "Student_1",
          "Student_2",
          "Student_3",
          "Student_4",
          "Student_5",
          "Student_6",
          "Student_7",
          "Student_8",
          "Student_9",
          "Student_10",
          "Student_11",
          "Student_12",
          "Student_13",
          "Student_14",
          "Student_15",
          "Student_16",
          "Student_17",
          "Student_18",
          "Student_19",
          "Student_20"
         ]
        },
        {
         "name": "Pdf1",
         "orientation": "h",
         "type": "bar",
         "uid": "1a8644ba-e2e8-11e8-96ad-27ad55f30ab3",
         "x": [
          16,
          8,
          10,
          16,
          6,
          28,
          3,
          0,
          8,
          10,
          5,
          28,
          19,
          27,
          26,
          29,
          13,
          11,
          1,
          29
         ],
         "y": [
          "Student_1",
          "Student_2",
          "Student_3",
          "Student_4",
          "Student_5",
          "Student_6",
          "Student_7",
          "Student_8",
          "Student_9",
          "Student_10",
          "Student_11",
          "Student_12",
          "Student_13",
          "Student_14",
          "Student_15",
          "Student_16",
          "Student_17",
          "Student_18",
          "Student_19",
          "Student_20"
         ]
        },
        {
         "name": "Pdf2",
         "orientation": "h",
         "type": "bar",
         "uid": "1a86455a-e2e8-11e8-96ad-27ad55f30ab3",
         "x": [
          28,
          27,
          3,
          22,
          4,
          6,
          20,
          8,
          9,
          12,
          19,
          6,
          2,
          13,
          18,
          29,
          11,
          17,
          18,
          20
         ],
         "y": [
          "Student_1",
          "Student_2",
          "Student_3",
          "Student_4",
          "Student_5",
          "Student_6",
          "Student_7",
          "Student_8",
          "Student_9",
          "Student_10",
          "Student_11",
          "Student_12",
          "Student_13",
          "Student_14",
          "Student_15",
          "Student_16",
          "Student_17",
          "Student_18",
          "Student_19",
          "Student_20"
         ]
        },
        {
         "name": "Ebook1",
         "orientation": "h",
         "type": "bar",
         "uid": "1a8645e6-e2e8-11e8-96ad-27ad55f30ab3",
         "x": [
          18,
          25,
          13,
          22,
          7,
          24,
          0,
          2,
          22,
          27,
          25,
          12,
          25,
          21,
          29,
          7,
          26,
          24,
          20,
          21
         ],
         "y": [
          "Student_1",
          "Student_2",
          "Student_3",
          "Student_4",
          "Student_5",
          "Student_6",
          "Student_7",
          "Student_8",
          "Student_9",
          "Student_10",
          "Student_11",
          "Student_12",
          "Student_13",
          "Student_14",
          "Student_15",
          "Student_16",
          "Student_17",
          "Student_18",
          "Student_19",
          "Student_20"
         ]
        },
        {
         "name": "Ebook2",
         "orientation": "h",
         "type": "bar",
         "uid": "1a864668-e2e8-11e8-96ad-27ad55f30ab3",
         "x": [
          10,
          13,
          19,
          10,
          24,
          4,
          4,
          10,
          9,
          19,
          6,
          3,
          10,
          0,
          16,
          11,
          6,
          13,
          21,
          9
         ],
         "y": [
          "Student_1",
          "Student_2",
          "Student_3",
          "Student_4",
          "Student_5",
          "Student_6",
          "Student_7",
          "Student_8",
          "Student_9",
          "Student_10",
          "Student_11",
          "Student_12",
          "Student_13",
          "Student_14",
          "Student_15",
          "Student_16",
          "Student_17",
          "Student_18",
          "Student_19",
          "Student_20"
         ]
        }
       ],
       "layout": {
        "barmode": "stack",
        "title": "Número de acessos nos materiais agrupados por estudante",
        "yaxis": {
         "dtick": 1,
         "exponentformat": "e",
         "gridcolor": "#bdbdbd",
         "showexponent": "all",
         "showticklabels": true,
         "tick0": 0,
         "titlefont": {
          "color": "lightgrey",
          "family": "Arial, sans-serif"
         }
        }
       }
      },
      "text/html": [
       "<div id=\"59271669-4e33-4e60-8fef-b7563a7dca34\" style=\"height: 525px; width: 100%;\" class=\"plotly-graph-div\"></div><script type=\"text/javascript\">require([\"plotly\"], function(Plotly) { window.PLOTLYENV=window.PLOTLYENV || {};window.PLOTLYENV.BASE_URL=\"https://plot.ly\";Plotly.newPlot(\"59271669-4e33-4e60-8fef-b7563a7dca34\", [{\"name\": \"Video1\", \"orientation\": \"h\", \"x\": [17, 12, 14, 27, 9, 15, 13, 24, 4, 26, 19, 19, 23, 29, 11, 12, 21, 28, 4, 20], \"y\": [\"Student_1\", \"Student_2\", \"Student_3\", \"Student_4\", \"Student_5\", \"Student_6\", \"Student_7\", \"Student_8\", \"Student_9\", \"Student_10\", \"Student_11\", \"Student_12\", \"Student_13\", \"Student_14\", \"Student_15\", \"Student_16\", \"Student_17\", \"Student_18\", \"Student_19\", \"Student_20\"], \"type\": \"bar\", \"uid\": \"1a8640c8-e2e8-11e8-96ad-27ad55f30ab3\"}, {\"name\": \"Video2\", \"orientation\": \"h\", \"x\": [1, 21, 5, 23, 15, 10, 9, 12, 16, 6, 25, 15, 27, 28, 23, 29, 2, 11, 13, 22], \"y\": [\"Student_1\", \"Student_2\", \"Student_3\", \"Student_4\", \"Student_5\", \"Student_6\", \"Student_7\", \"Student_8\", \"Student_9\", \"Student_10\", \"Student_11\", \"Student_12\", \"Student_13\", \"Student_14\", \"Student_15\", \"Student_16\", \"Student_17\", \"Student_18\", \"Student_19\", \"Student_20\"], \"type\": \"bar\", \"uid\": \"1a864294-e2e8-11e8-96ad-27ad55f30ab3\"}, {\"name\": \"Quiz1\", \"orientation\": \"h\", \"x\": [14, 23, 17, 25, 6, 16, 27, 9, 22, 13, 21, 13, 9, 23, 19, 11, 23, 9, 0, 23], \"y\": [\"Student_1\", \"Student_2\", \"Student_3\", \"Student_4\", \"Student_5\", \"Student_6\", \"Student_7\", \"Student_8\", \"Student_9\", \"Student_10\", \"Student_11\", \"Student_12\", \"Student_13\", \"Student_14\", \"Student_15\", \"Student_16\", \"Student_17\", \"Student_18\", \"Student_19\", \"Student_20\"], \"type\": \"bar\", \"uid\": \"1a864370-e2e8-11e8-96ad-27ad55f30ab3\"}, {\"name\": \"Quiz2\", \"orientation\": \"h\", \"x\": [3, 21, 3, 13, 10, 8, 18, 1, 28, 13, 7, 11, 6, 28, 4, 7, 22, 11, 2, 20], \"y\": [\"Student_1\", \"Student_2\", \"Student_3\", \"Student_4\", \"Student_5\", \"Student_6\", \"Student_7\", \"Student_8\", \"Student_9\", \"Student_10\", \"Student_11\", \"Student_12\", \"Student_13\", \"Student_14\", \"Student_15\", \"Student_16\", \"Student_17\", \"Student_18\", \"Student_19\", \"Student_20\"], \"type\": \"bar\", \"uid\": \"1a864424-e2e8-11e8-96ad-27ad55f30ab3\"}, {\"name\": \"Pdf1\", \"orientation\": \"h\", \"x\": [16, 8, 10, 16, 6, 28, 3, 0, 8, 10, 5, 28, 19, 27, 26, 29, 13, 11, 1, 29], \"y\": [\"Student_1\", \"Student_2\", \"Student_3\", \"Student_4\", \"Student_5\", \"Student_6\", \"Student_7\", \"Student_8\", \"Student_9\", \"Student_10\", \"Student_11\", \"Student_12\", \"Student_13\", \"Student_14\", \"Student_15\", \"Student_16\", \"Student_17\", \"Student_18\", \"Student_19\", \"Student_20\"], \"type\": \"bar\", \"uid\": \"1a8644ba-e2e8-11e8-96ad-27ad55f30ab3\"}, {\"name\": \"Pdf2\", \"orientation\": \"h\", \"x\": [28, 27, 3, 22, 4, 6, 20, 8, 9, 12, 19, 6, 2, 13, 18, 29, 11, 17, 18, 20], \"y\": [\"Student_1\", \"Student_2\", \"Student_3\", \"Student_4\", \"Student_5\", \"Student_6\", \"Student_7\", \"Student_8\", \"Student_9\", \"Student_10\", \"Student_11\", \"Student_12\", \"Student_13\", \"Student_14\", \"Student_15\", \"Student_16\", \"Student_17\", \"Student_18\", \"Student_19\", \"Student_20\"], \"type\": \"bar\", \"uid\": \"1a86455a-e2e8-11e8-96ad-27ad55f30ab3\"}, {\"name\": \"Ebook1\", \"orientation\": \"h\", \"x\": [18, 25, 13, 22, 7, 24, 0, 2, 22, 27, 25, 12, 25, 21, 29, 7, 26, 24, 20, 21], \"y\": [\"Student_1\", \"Student_2\", \"Student_3\", \"Student_4\", \"Student_5\", \"Student_6\", \"Student_7\", \"Student_8\", \"Student_9\", \"Student_10\", \"Student_11\", \"Student_12\", \"Student_13\", \"Student_14\", \"Student_15\", \"Student_16\", \"Student_17\", \"Student_18\", \"Student_19\", \"Student_20\"], \"type\": \"bar\", \"uid\": \"1a8645e6-e2e8-11e8-96ad-27ad55f30ab3\"}, {\"name\": \"Ebook2\", \"orientation\": \"h\", \"x\": [10, 13, 19, 10, 24, 4, 4, 10, 9, 19, 6, 3, 10, 0, 16, 11, 6, 13, 21, 9], \"y\": [\"Student_1\", \"Student_2\", \"Student_3\", \"Student_4\", \"Student_5\", \"Student_6\", \"Student_7\", \"Student_8\", \"Student_9\", \"Student_10\", \"Student_11\", \"Student_12\", \"Student_13\", \"Student_14\", \"Student_15\", \"Student_16\", \"Student_17\", \"Student_18\", \"Student_19\", \"Student_20\"], \"type\": \"bar\", \"uid\": \"1a864668-e2e8-11e8-96ad-27ad55f30ab3\"}], {\"barmode\": \"stack\", \"title\": \"N\\u00famero de acessos nos materiais agrupados por estudante\", \"yaxis\": {\"dtick\": 1, \"exponentformat\": \"e\", \"gridcolor\": \"#bdbdbd\", \"showexponent\": \"all\", \"showticklabels\": true, \"tick0\": 0, \"titlefont\": {\"color\": \"lightgrey\", \"family\": \"Arial, sans-serif\"}}}, {\"showLink\": true, \"linkText\": \"Export to plot.ly\"})});</script>"
      ],
      "text/vnd.plotly.v1+html": [
       "<div id=\"59271669-4e33-4e60-8fef-b7563a7dca34\" style=\"height: 525px; width: 100%;\" class=\"plotly-graph-div\"></div><script type=\"text/javascript\">require([\"plotly\"], function(Plotly) { window.PLOTLYENV=window.PLOTLYENV || {};window.PLOTLYENV.BASE_URL=\"https://plot.ly\";Plotly.newPlot(\"59271669-4e33-4e60-8fef-b7563a7dca34\", [{\"name\": \"Video1\", \"orientation\": \"h\", \"x\": [17, 12, 14, 27, 9, 15, 13, 24, 4, 26, 19, 19, 23, 29, 11, 12, 21, 28, 4, 20], \"y\": [\"Student_1\", \"Student_2\", \"Student_3\", \"Student_4\", \"Student_5\", \"Student_6\", \"Student_7\", \"Student_8\", \"Student_9\", \"Student_10\", \"Student_11\", \"Student_12\", \"Student_13\", \"Student_14\", \"Student_15\", \"Student_16\", \"Student_17\", \"Student_18\", \"Student_19\", \"Student_20\"], \"type\": \"bar\", \"uid\": \"1a8640c8-e2e8-11e8-96ad-27ad55f30ab3\"}, {\"name\": \"Video2\", \"orientation\": \"h\", \"x\": [1, 21, 5, 23, 15, 10, 9, 12, 16, 6, 25, 15, 27, 28, 23, 29, 2, 11, 13, 22], \"y\": [\"Student_1\", \"Student_2\", \"Student_3\", \"Student_4\", \"Student_5\", \"Student_6\", \"Student_7\", \"Student_8\", \"Student_9\", \"Student_10\", \"Student_11\", \"Student_12\", \"Student_13\", \"Student_14\", \"Student_15\", \"Student_16\", \"Student_17\", \"Student_18\", \"Student_19\", \"Student_20\"], \"type\": \"bar\", \"uid\": \"1a864294-e2e8-11e8-96ad-27ad55f30ab3\"}, {\"name\": \"Quiz1\", \"orientation\": \"h\", \"x\": [14, 23, 17, 25, 6, 16, 27, 9, 22, 13, 21, 13, 9, 23, 19, 11, 23, 9, 0, 23], \"y\": [\"Student_1\", \"Student_2\", \"Student_3\", \"Student_4\", \"Student_5\", \"Student_6\", \"Student_7\", \"Student_8\", \"Student_9\", \"Student_10\", \"Student_11\", \"Student_12\", \"Student_13\", \"Student_14\", \"Student_15\", \"Student_16\", \"Student_17\", \"Student_18\", \"Student_19\", \"Student_20\"], \"type\": \"bar\", \"uid\": \"1a864370-e2e8-11e8-96ad-27ad55f30ab3\"}, {\"name\": \"Quiz2\", \"orientation\": \"h\", \"x\": [3, 21, 3, 13, 10, 8, 18, 1, 28, 13, 7, 11, 6, 28, 4, 7, 22, 11, 2, 20], \"y\": [\"Student_1\", \"Student_2\", \"Student_3\", \"Student_4\", \"Student_5\", \"Student_6\", \"Student_7\", \"Student_8\", \"Student_9\", \"Student_10\", \"Student_11\", \"Student_12\", \"Student_13\", \"Student_14\", \"Student_15\", \"Student_16\", \"Student_17\", \"Student_18\", \"Student_19\", \"Student_20\"], \"type\": \"bar\", \"uid\": \"1a864424-e2e8-11e8-96ad-27ad55f30ab3\"}, {\"name\": \"Pdf1\", \"orientation\": \"h\", \"x\": [16, 8, 10, 16, 6, 28, 3, 0, 8, 10, 5, 28, 19, 27, 26, 29, 13, 11, 1, 29], \"y\": [\"Student_1\", \"Student_2\", \"Student_3\", \"Student_4\", \"Student_5\", \"Student_6\", \"Student_7\", \"Student_8\", \"Student_9\", \"Student_10\", \"Student_11\", \"Student_12\", \"Student_13\", \"Student_14\", \"Student_15\", \"Student_16\", \"Student_17\", \"Student_18\", \"Student_19\", \"Student_20\"], \"type\": \"bar\", \"uid\": \"1a8644ba-e2e8-11e8-96ad-27ad55f30ab3\"}, {\"name\": \"Pdf2\", \"orientation\": \"h\", \"x\": [28, 27, 3, 22, 4, 6, 20, 8, 9, 12, 19, 6, 2, 13, 18, 29, 11, 17, 18, 20], \"y\": [\"Student_1\", \"Student_2\", \"Student_3\", \"Student_4\", \"Student_5\", \"Student_6\", \"Student_7\", \"Student_8\", \"Student_9\", \"Student_10\", \"Student_11\", \"Student_12\", \"Student_13\", \"Student_14\", \"Student_15\", \"Student_16\", \"Student_17\", \"Student_18\", \"Student_19\", \"Student_20\"], \"type\": \"bar\", \"uid\": \"1a86455a-e2e8-11e8-96ad-27ad55f30ab3\"}, {\"name\": \"Ebook1\", \"orientation\": \"h\", \"x\": [18, 25, 13, 22, 7, 24, 0, 2, 22, 27, 25, 12, 25, 21, 29, 7, 26, 24, 20, 21], \"y\": [\"Student_1\", \"Student_2\", \"Student_3\", \"Student_4\", \"Student_5\", \"Student_6\", \"Student_7\", \"Student_8\", \"Student_9\", \"Student_10\", \"Student_11\", \"Student_12\", \"Student_13\", \"Student_14\", \"Student_15\", \"Student_16\", \"Student_17\", \"Student_18\", \"Student_19\", \"Student_20\"], \"type\": \"bar\", \"uid\": \"1a8645e6-e2e8-11e8-96ad-27ad55f30ab3\"}, {\"name\": \"Ebook2\", \"orientation\": \"h\", \"x\": [10, 13, 19, 10, 24, 4, 4, 10, 9, 19, 6, 3, 10, 0, 16, 11, 6, 13, 21, 9], \"y\": [\"Student_1\", \"Student_2\", \"Student_3\", \"Student_4\", \"Student_5\", \"Student_6\", \"Student_7\", \"Student_8\", \"Student_9\", \"Student_10\", \"Student_11\", \"Student_12\", \"Student_13\", \"Student_14\", \"Student_15\", \"Student_16\", \"Student_17\", \"Student_18\", \"Student_19\", \"Student_20\"], \"type\": \"bar\", \"uid\": \"1a864668-e2e8-11e8-96ad-27ad55f30ab3\"}], {\"barmode\": \"stack\", \"title\": \"N\\u00famero de acessos nos materiais agrupados por estudante\", \"yaxis\": {\"dtick\": 1, \"exponentformat\": \"e\", \"gridcolor\": \"#bdbdbd\", \"showexponent\": \"all\", \"showticklabels\": true, \"tick0\": 0, \"titlefont\": {\"color\": \"lightgrey\", \"family\": \"Arial, sans-serif\"}}}, {\"showLink\": true, \"linkText\": \"Export to plot.ly\"})});</script>"
      ]
     },
     "metadata": {},
     "output_type": "display_data"
    },
    {
     "data": {
      "application/vnd.plotly.v1+json": {
       "data": [
        {
         "colorscale": [
          [
           0,
           "rgb(255,255,255)"
          ],
          [
           1,
           "rgb(0,0,255)"
          ]
         ],
         "type": "heatmap",
         "uid": "1a8cb0fc-e2e8-11e8-96ad-27ad55f30ab3",
         "x": [
          "Video1",
          "Video2",
          "Quiz1",
          "Quiz2",
          "Pdf1",
          "Pdf2",
          "Ebook1",
          "Ebook2"
         ],
         "y": [
          "Student_1",
          "Student_2",
          "Student_3",
          "Student_4",
          "Student_5",
          "Student_6",
          "Student_7",
          "Student_8",
          "Student_9",
          "Student_10",
          "Student_11",
          "Student_12",
          "Student_13",
          "Student_14",
          "Student_15",
          "Student_16",
          "Student_17",
          "Student_18",
          "Student_19",
          "Student_20"
         ],
         "z": [
          [
           17,
           1,
           14,
           3,
           16,
           28,
           18,
           10
          ],
          [
           12,
           21,
           23,
           21,
           8,
           27,
           25,
           13
          ],
          [
           14,
           5,
           17,
           3,
           10,
           3,
           13,
           19
          ],
          [
           27,
           23,
           25,
           13,
           16,
           22,
           22,
           10
          ],
          [
           9,
           15,
           6,
           10,
           6,
           4,
           7,
           24
          ],
          [
           15,
           10,
           16,
           8,
           28,
           6,
           24,
           4
          ],
          [
           13,
           9,
           27,
           18,
           3,
           20,
           0,
           4
          ],
          [
           24,
           12,
           9,
           1,
           0,
           8,
           2,
           10
          ],
          [
           4,
           16,
           22,
           28,
           8,
           9,
           22,
           9
          ],
          [
           26,
           6,
           13,
           13,
           10,
           12,
           27,
           19
          ],
          [
           19,
           25,
           21,
           7,
           5,
           19,
           25,
           6
          ],
          [
           19,
           15,
           13,
           11,
           28,
           6,
           12,
           3
          ],
          [
           23,
           27,
           9,
           6,
           19,
           2,
           25,
           10
          ],
          [
           29,
           28,
           23,
           28,
           27,
           13,
           21,
           0
          ],
          [
           11,
           23,
           19,
           4,
           26,
           18,
           29,
           16
          ],
          [
           12,
           29,
           11,
           7,
           29,
           29,
           7,
           11
          ],
          [
           21,
           2,
           23,
           22,
           13,
           11,
           26,
           6
          ],
          [
           28,
           11,
           9,
           11,
           11,
           17,
           24,
           13
          ],
          [
           4,
           13,
           0,
           2,
           1,
           18,
           20,
           21
          ],
          [
           20,
           22,
           23,
           20,
           29,
           20,
           21,
           9
          ]
         ]
        }
       ],
       "layout": {
        "title": "Número de acessos nos materiais por estudante",
        "yaxis": {
         "dtick": 1,
         "exponentformat": "e",
         "gridcolor": "#bdbdbd",
         "showexponent": "all",
         "showticklabels": true,
         "tick0": 0,
         "titlefont": {
          "color": "lightgrey",
          "family": "Arial, sans-serif"
         }
        }
       }
      },
      "text/html": [
       "<div id=\"f937f87a-8161-4333-b1ee-adc26b56d6f4\" style=\"height: 525px; width: 100%;\" class=\"plotly-graph-div\"></div><script type=\"text/javascript\">require([\"plotly\"], function(Plotly) { window.PLOTLYENV=window.PLOTLYENV || {};window.PLOTLYENV.BASE_URL=\"https://plot.ly\";Plotly.newPlot(\"f937f87a-8161-4333-b1ee-adc26b56d6f4\", [{\"colorscale\": [[0, \"rgb(255,255,255)\"], [1, \"rgb(0,0,255)\"]], \"x\": [\"Video1\", \"Video2\", \"Quiz1\", \"Quiz2\", \"Pdf1\", \"Pdf2\", \"Ebook1\", \"Ebook2\"], \"y\": [\"Student_1\", \"Student_2\", \"Student_3\", \"Student_4\", \"Student_5\", \"Student_6\", \"Student_7\", \"Student_8\", \"Student_9\", \"Student_10\", \"Student_11\", \"Student_12\", \"Student_13\", \"Student_14\", \"Student_15\", \"Student_16\", \"Student_17\", \"Student_18\", \"Student_19\", \"Student_20\"], \"z\": [[17, 1, 14, 3, 16, 28, 18, 10], [12, 21, 23, 21, 8, 27, 25, 13], [14, 5, 17, 3, 10, 3, 13, 19], [27, 23, 25, 13, 16, 22, 22, 10], [9, 15, 6, 10, 6, 4, 7, 24], [15, 10, 16, 8, 28, 6, 24, 4], [13, 9, 27, 18, 3, 20, 0, 4], [24, 12, 9, 1, 0, 8, 2, 10], [4, 16, 22, 28, 8, 9, 22, 9], [26, 6, 13, 13, 10, 12, 27, 19], [19, 25, 21, 7, 5, 19, 25, 6], [19, 15, 13, 11, 28, 6, 12, 3], [23, 27, 9, 6, 19, 2, 25, 10], [29, 28, 23, 28, 27, 13, 21, 0], [11, 23, 19, 4, 26, 18, 29, 16], [12, 29, 11, 7, 29, 29, 7, 11], [21, 2, 23, 22, 13, 11, 26, 6], [28, 11, 9, 11, 11, 17, 24, 13], [4, 13, 0, 2, 1, 18, 20, 21], [20, 22, 23, 20, 29, 20, 21, 9]], \"type\": \"heatmap\", \"uid\": \"1a8cb0fc-e2e8-11e8-96ad-27ad55f30ab3\"}], {\"title\": \"N\\u00famero de acessos nos materiais por estudante\", \"yaxis\": {\"dtick\": 1, \"exponentformat\": \"e\", \"gridcolor\": \"#bdbdbd\", \"showexponent\": \"all\", \"showticklabels\": true, \"tick0\": 0, \"titlefont\": {\"color\": \"lightgrey\", \"family\": \"Arial, sans-serif\"}}}, {\"showLink\": true, \"linkText\": \"Export to plot.ly\"})});</script>"
      ],
      "text/vnd.plotly.v1+html": [
       "<div id=\"f937f87a-8161-4333-b1ee-adc26b56d6f4\" style=\"height: 525px; width: 100%;\" class=\"plotly-graph-div\"></div><script type=\"text/javascript\">require([\"plotly\"], function(Plotly) { window.PLOTLYENV=window.PLOTLYENV || {};window.PLOTLYENV.BASE_URL=\"https://plot.ly\";Plotly.newPlot(\"f937f87a-8161-4333-b1ee-adc26b56d6f4\", [{\"colorscale\": [[0, \"rgb(255,255,255)\"], [1, \"rgb(0,0,255)\"]], \"x\": [\"Video1\", \"Video2\", \"Quiz1\", \"Quiz2\", \"Pdf1\", \"Pdf2\", \"Ebook1\", \"Ebook2\"], \"y\": [\"Student_1\", \"Student_2\", \"Student_3\", \"Student_4\", \"Student_5\", \"Student_6\", \"Student_7\", \"Student_8\", \"Student_9\", \"Student_10\", \"Student_11\", \"Student_12\", \"Student_13\", \"Student_14\", \"Student_15\", \"Student_16\", \"Student_17\", \"Student_18\", \"Student_19\", \"Student_20\"], \"z\": [[17, 1, 14, 3, 16, 28, 18, 10], [12, 21, 23, 21, 8, 27, 25, 13], [14, 5, 17, 3, 10, 3, 13, 19], [27, 23, 25, 13, 16, 22, 22, 10], [9, 15, 6, 10, 6, 4, 7, 24], [15, 10, 16, 8, 28, 6, 24, 4], [13, 9, 27, 18, 3, 20, 0, 4], [24, 12, 9, 1, 0, 8, 2, 10], [4, 16, 22, 28, 8, 9, 22, 9], [26, 6, 13, 13, 10, 12, 27, 19], [19, 25, 21, 7, 5, 19, 25, 6], [19, 15, 13, 11, 28, 6, 12, 3], [23, 27, 9, 6, 19, 2, 25, 10], [29, 28, 23, 28, 27, 13, 21, 0], [11, 23, 19, 4, 26, 18, 29, 16], [12, 29, 11, 7, 29, 29, 7, 11], [21, 2, 23, 22, 13, 11, 26, 6], [28, 11, 9, 11, 11, 17, 24, 13], [4, 13, 0, 2, 1, 18, 20, 21], [20, 22, 23, 20, 29, 20, 21, 9]], \"type\": \"heatmap\", \"uid\": \"1a8cb0fc-e2e8-11e8-96ad-27ad55f30ab3\"}], {\"title\": \"N\\u00famero de acessos nos materiais por estudante\", \"yaxis\": {\"dtick\": 1, \"exponentformat\": \"e\", \"gridcolor\": \"#bdbdbd\", \"showexponent\": \"all\", \"showticklabels\": true, \"tick0\": 0, \"titlefont\": {\"color\": \"lightgrey\", \"family\": \"Arial, sans-serif\"}}}, {\"showLink\": true, \"linkText\": \"Export to plot.ly\"})});</script>"
      ]
     },
     "metadata": {},
     "output_type": "display_data"
    },
    {
     "data": {
      "application/vnd.plotly.v1+json": {
       "data": [
        {
         "marker": {
          "line": {
           "width": 2
          },
          "size": [
           17,
           1,
           14,
           3,
           16,
           28,
           18,
           10
          ],
          "sizemode": "area",
          "sizeref": 0.06896551724137931,
          "symbol": "circle"
         },
         "mode": "markers",
         "name": "Student_1",
         "text": [
          "17",
          "1",
          "14",
          "3",
          "16",
          "28",
          "18",
          "10"
         ],
         "type": "scatter",
         "uid": "1aabe7ec-e2e8-11e8-96ad-27ad55f30ab3",
         "x": [
          "Student_1",
          "Student_1",
          "Student_1",
          "Student_1",
          "Student_1",
          "Student_1",
          "Student_1",
          "Student_1",
          "Student_1"
         ],
         "y": [
          "Video1",
          "Video2",
          "Quiz1",
          "Quiz2",
          "Pdf1",
          "Pdf2",
          "Ebook1",
          "Ebook2"
         ]
        },
        {
         "marker": {
          "line": {
           "width": 2
          },
          "size": [
           12,
           21,
           23,
           21,
           8,
           27,
           25,
           13
          ],
          "sizemode": "area",
          "sizeref": 0.06896551724137931,
          "symbol": "circle"
         },
         "mode": "markers",
         "name": "Student_2",
         "text": [
          "12",
          "21",
          "23",
          "21",
          "8",
          "27",
          "25",
          "13"
         ],
         "type": "scatter",
         "uid": "1aabe9a4-e2e8-11e8-96ad-27ad55f30ab3",
         "x": [
          "Student_2",
          "Student_2",
          "Student_2",
          "Student_2",
          "Student_2",
          "Student_2",
          "Student_2",
          "Student_2",
          "Student_2"
         ],
         "y": [
          "Video1",
          "Video2",
          "Quiz1",
          "Quiz2",
          "Pdf1",
          "Pdf2",
          "Ebook1",
          "Ebook2"
         ]
        },
        {
         "marker": {
          "line": {
           "width": 2
          },
          "size": [
           14,
           5,
           17,
           3,
           10,
           3,
           13,
           19
          ],
          "sizemode": "area",
          "sizeref": 0.06896551724137931,
          "symbol": "circle"
         },
         "mode": "markers",
         "name": "Student_3",
         "text": [
          "14",
          "5",
          "17",
          "3",
          "10",
          "3",
          "13",
          "19"
         ],
         "type": "scatter",
         "uid": "1aabea8a-e2e8-11e8-96ad-27ad55f30ab3",
         "x": [
          "Student_3",
          "Student_3",
          "Student_3",
          "Student_3",
          "Student_3",
          "Student_3",
          "Student_3",
          "Student_3",
          "Student_3"
         ],
         "y": [
          "Video1",
          "Video2",
          "Quiz1",
          "Quiz2",
          "Pdf1",
          "Pdf2",
          "Ebook1",
          "Ebook2"
         ]
        },
        {
         "marker": {
          "line": {
           "width": 2
          },
          "size": [
           27,
           23,
           25,
           13,
           16,
           22,
           22,
           10
          ],
          "sizemode": "area",
          "sizeref": 0.06896551724137931,
          "symbol": "circle"
         },
         "mode": "markers",
         "name": "Student_4",
         "text": [
          "27",
          "23",
          "25",
          "13",
          "16",
          "22",
          "22",
          "10"
         ],
         "type": "scatter",
         "uid": "1aabeb52-e2e8-11e8-96ad-27ad55f30ab3",
         "x": [
          "Student_4",
          "Student_4",
          "Student_4",
          "Student_4",
          "Student_4",
          "Student_4",
          "Student_4",
          "Student_4",
          "Student_4"
         ],
         "y": [
          "Video1",
          "Video2",
          "Quiz1",
          "Quiz2",
          "Pdf1",
          "Pdf2",
          "Ebook1",
          "Ebook2"
         ]
        },
        {
         "marker": {
          "line": {
           "width": 2
          },
          "size": [
           9,
           15,
           6,
           10,
           6,
           4,
           7,
           24
          ],
          "sizemode": "area",
          "sizeref": 0.06896551724137931,
          "symbol": "circle"
         },
         "mode": "markers",
         "name": "Student_5",
         "text": [
          "9",
          "15",
          "6",
          "10",
          "6",
          "4",
          "7",
          "24"
         ],
         "type": "scatter",
         "uid": "1aabebf2-e2e8-11e8-96ad-27ad55f30ab3",
         "x": [
          "Student_5",
          "Student_5",
          "Student_5",
          "Student_5",
          "Student_5",
          "Student_5",
          "Student_5",
          "Student_5",
          "Student_5"
         ],
         "y": [
          "Video1",
          "Video2",
          "Quiz1",
          "Quiz2",
          "Pdf1",
          "Pdf2",
          "Ebook1",
          "Ebook2"
         ]
        },
        {
         "marker": {
          "line": {
           "width": 2
          },
          "size": [
           15,
           10,
           16,
           8,
           28,
           6,
           24,
           4
          ],
          "sizemode": "area",
          "sizeref": 0.06896551724137931,
          "symbol": "circle"
         },
         "mode": "markers",
         "name": "Student_6",
         "text": [
          "15",
          "10",
          "16",
          "8",
          "28",
          "6",
          "24",
          "4"
         ],
         "type": "scatter",
         "uid": "1aabec92-e2e8-11e8-96ad-27ad55f30ab3",
         "x": [
          "Student_6",
          "Student_6",
          "Student_6",
          "Student_6",
          "Student_6",
          "Student_6",
          "Student_6",
          "Student_6",
          "Student_6"
         ],
         "y": [
          "Video1",
          "Video2",
          "Quiz1",
          "Quiz2",
          "Pdf1",
          "Pdf2",
          "Ebook1",
          "Ebook2"
         ]
        },
        {
         "marker": {
          "line": {
           "width": 2
          },
          "size": [
           13,
           9,
           27,
           18,
           3,
           20,
           0,
           4
          ],
          "sizemode": "area",
          "sizeref": 0.06896551724137931,
          "symbol": "circle"
         },
         "mode": "markers",
         "name": "Student_7",
         "text": [
          "13",
          "9",
          "27",
          "18",
          "3",
          "20",
          "0",
          "4"
         ],
         "type": "scatter",
         "uid": "1aabed32-e2e8-11e8-96ad-27ad55f30ab3",
         "x": [
          "Student_7",
          "Student_7",
          "Student_7",
          "Student_7",
          "Student_7",
          "Student_7",
          "Student_7",
          "Student_7",
          "Student_7"
         ],
         "y": [
          "Video1",
          "Video2",
          "Quiz1",
          "Quiz2",
          "Pdf1",
          "Pdf2",
          "Ebook1",
          "Ebook2"
         ]
        },
        {
         "marker": {
          "line": {
           "width": 2
          },
          "size": [
           24,
           12,
           9,
           1,
           0,
           8,
           2,
           10
          ],
          "sizemode": "area",
          "sizeref": 0.06896551724137931,
          "symbol": "circle"
         },
         "mode": "markers",
         "name": "Student_8",
         "text": [
          "24",
          "12",
          "9",
          "1",
          "0",
          "8",
          "2",
          "10"
         ],
         "type": "scatter",
         "uid": "1aabedc8-e2e8-11e8-96ad-27ad55f30ab3",
         "x": [
          "Student_8",
          "Student_8",
          "Student_8",
          "Student_8",
          "Student_8",
          "Student_8",
          "Student_8",
          "Student_8",
          "Student_8"
         ],
         "y": [
          "Video1",
          "Video2",
          "Quiz1",
          "Quiz2",
          "Pdf1",
          "Pdf2",
          "Ebook1",
          "Ebook2"
         ]
        },
        {
         "marker": {
          "line": {
           "width": 2
          },
          "size": [
           4,
           16,
           22,
           28,
           8,
           9,
           22,
           9
          ],
          "sizemode": "area",
          "sizeref": 0.06896551724137931,
          "symbol": "circle"
         },
         "mode": "markers",
         "name": "Student_9",
         "text": [
          "4",
          "16",
          "22",
          "28",
          "8",
          "9",
          "22",
          "9"
         ],
         "type": "scatter",
         "uid": "1aabee68-e2e8-11e8-96ad-27ad55f30ab3",
         "x": [
          "Student_9",
          "Student_9",
          "Student_9",
          "Student_9",
          "Student_9",
          "Student_9",
          "Student_9",
          "Student_9",
          "Student_9"
         ],
         "y": [
          "Video1",
          "Video2",
          "Quiz1",
          "Quiz2",
          "Pdf1",
          "Pdf2",
          "Ebook1",
          "Ebook2"
         ]
        },
        {
         "marker": {
          "line": {
           "width": 2
          },
          "size": [
           26,
           6,
           13,
           13,
           10,
           12,
           27,
           19
          ],
          "sizemode": "area",
          "sizeref": 0.06896551724137931,
          "symbol": "circle"
         },
         "mode": "markers",
         "name": "Student_10",
         "text": [
          "26",
          "6",
          "13",
          "13",
          "10",
          "12",
          "27",
          "19"
         ],
         "type": "scatter",
         "uid": "1aabeefe-e2e8-11e8-96ad-27ad55f30ab3",
         "x": [
          "Student_10",
          "Student_10",
          "Student_10",
          "Student_10",
          "Student_10",
          "Student_10",
          "Student_10",
          "Student_10",
          "Student_10"
         ],
         "y": [
          "Video1",
          "Video2",
          "Quiz1",
          "Quiz2",
          "Pdf1",
          "Pdf2",
          "Ebook1",
          "Ebook2"
         ]
        },
        {
         "marker": {
          "line": {
           "width": 2
          },
          "size": [
           19,
           25,
           21,
           7,
           5,
           19,
           25,
           6
          ],
          "sizemode": "area",
          "sizeref": 0.06896551724137931,
          "symbol": "circle"
         },
         "mode": "markers",
         "name": "Student_11",
         "text": [
          "19",
          "25",
          "21",
          "7",
          "5",
          "19",
          "25",
          "6"
         ],
         "type": "scatter",
         "uid": "1aabef94-e2e8-11e8-96ad-27ad55f30ab3",
         "x": [
          "Student_11",
          "Student_11",
          "Student_11",
          "Student_11",
          "Student_11",
          "Student_11",
          "Student_11",
          "Student_11",
          "Student_11"
         ],
         "y": [
          "Video1",
          "Video2",
          "Quiz1",
          "Quiz2",
          "Pdf1",
          "Pdf2",
          "Ebook1",
          "Ebook2"
         ]
        },
        {
         "marker": {
          "line": {
           "width": 2
          },
          "size": [
           19,
           15,
           13,
           11,
           28,
           6,
           12,
           3
          ],
          "sizemode": "area",
          "sizeref": 0.06896551724137931,
          "symbol": "circle"
         },
         "mode": "markers",
         "name": "Student_12",
         "text": [
          "19",
          "15",
          "13",
          "11",
          "28",
          "6",
          "12",
          "3"
         ],
         "type": "scatter",
         "uid": "1aabf02a-e2e8-11e8-96ad-27ad55f30ab3",
         "x": [
          "Student_12",
          "Student_12",
          "Student_12",
          "Student_12",
          "Student_12",
          "Student_12",
          "Student_12",
          "Student_12",
          "Student_12"
         ],
         "y": [
          "Video1",
          "Video2",
          "Quiz1",
          "Quiz2",
          "Pdf1",
          "Pdf2",
          "Ebook1",
          "Ebook2"
         ]
        },
        {
         "marker": {
          "line": {
           "width": 2
          },
          "size": [
           23,
           27,
           9,
           6,
           19,
           2,
           25,
           10
          ],
          "sizemode": "area",
          "sizeref": 0.06896551724137931,
          "symbol": "circle"
         },
         "mode": "markers",
         "name": "Student_13",
         "text": [
          "23",
          "27",
          "9",
          "6",
          "19",
          "2",
          "25",
          "10"
         ],
         "type": "scatter",
         "uid": "1aabf0c0-e2e8-11e8-96ad-27ad55f30ab3",
         "x": [
          "Student_13",
          "Student_13",
          "Student_13",
          "Student_13",
          "Student_13",
          "Student_13",
          "Student_13",
          "Student_13",
          "Student_13"
         ],
         "y": [
          "Video1",
          "Video2",
          "Quiz1",
          "Quiz2",
          "Pdf1",
          "Pdf2",
          "Ebook1",
          "Ebook2"
         ]
        },
        {
         "marker": {
          "line": {
           "width": 2
          },
          "size": [
           29,
           28,
           23,
           28,
           27,
           13,
           21,
           0
          ],
          "sizemode": "area",
          "sizeref": 0.06896551724137931,
          "symbol": "circle"
         },
         "mode": "markers",
         "name": "Student_14",
         "text": [
          "29",
          "28",
          "23",
          "28",
          "27",
          "13",
          "21",
          "0"
         ],
         "type": "scatter",
         "uid": "1aabf156-e2e8-11e8-96ad-27ad55f30ab3",
         "x": [
          "Student_14",
          "Student_14",
          "Student_14",
          "Student_14",
          "Student_14",
          "Student_14",
          "Student_14",
          "Student_14",
          "Student_14"
         ],
         "y": [
          "Video1",
          "Video2",
          "Quiz1",
          "Quiz2",
          "Pdf1",
          "Pdf2",
          "Ebook1",
          "Ebook2"
         ]
        },
        {
         "marker": {
          "line": {
           "width": 2
          },
          "size": [
           11,
           23,
           19,
           4,
           26,
           18,
           29,
           16
          ],
          "sizemode": "area",
          "sizeref": 0.06896551724137931,
          "symbol": "circle"
         },
         "mode": "markers",
         "name": "Student_15",
         "text": [
          "11",
          "23",
          "19",
          "4",
          "26",
          "18",
          "29",
          "16"
         ],
         "type": "scatter",
         "uid": "1aabf1ec-e2e8-11e8-96ad-27ad55f30ab3",
         "x": [
          "Student_15",
          "Student_15",
          "Student_15",
          "Student_15",
          "Student_15",
          "Student_15",
          "Student_15",
          "Student_15",
          "Student_15"
         ],
         "y": [
          "Video1",
          "Video2",
          "Quiz1",
          "Quiz2",
          "Pdf1",
          "Pdf2",
          "Ebook1",
          "Ebook2"
         ]
        },
        {
         "marker": {
          "line": {
           "width": 2
          },
          "size": [
           12,
           29,
           11,
           7,
           29,
           29,
           7,
           11
          ],
          "sizemode": "area",
          "sizeref": 0.06896551724137931,
          "symbol": "circle"
         },
         "mode": "markers",
         "name": "Student_16",
         "text": [
          "12",
          "29",
          "11",
          "7",
          "29",
          "29",
          "7",
          "11"
         ],
         "type": "scatter",
         "uid": "1aabf282-e2e8-11e8-96ad-27ad55f30ab3",
         "x": [
          "Student_16",
          "Student_16",
          "Student_16",
          "Student_16",
          "Student_16",
          "Student_16",
          "Student_16",
          "Student_16",
          "Student_16"
         ],
         "y": [
          "Video1",
          "Video2",
          "Quiz1",
          "Quiz2",
          "Pdf1",
          "Pdf2",
          "Ebook1",
          "Ebook2"
         ]
        },
        {
         "marker": {
          "line": {
           "width": 2
          },
          "size": [
           21,
           2,
           23,
           22,
           13,
           11,
           26,
           6
          ],
          "sizemode": "area",
          "sizeref": 0.06896551724137931,
          "symbol": "circle"
         },
         "mode": "markers",
         "name": "Student_17",
         "text": [
          "21",
          "2",
          "23",
          "22",
          "13",
          "11",
          "26",
          "6"
         ],
         "type": "scatter",
         "uid": "1aabf318-e2e8-11e8-96ad-27ad55f30ab3",
         "x": [
          "Student_17",
          "Student_17",
          "Student_17",
          "Student_17",
          "Student_17",
          "Student_17",
          "Student_17",
          "Student_17",
          "Student_17"
         ],
         "y": [
          "Video1",
          "Video2",
          "Quiz1",
          "Quiz2",
          "Pdf1",
          "Pdf2",
          "Ebook1",
          "Ebook2"
         ]
        },
        {
         "marker": {
          "line": {
           "width": 2
          },
          "size": [
           28,
           11,
           9,
           11,
           11,
           17,
           24,
           13
          ],
          "sizemode": "area",
          "sizeref": 0.06896551724137931,
          "symbol": "circle"
         },
         "mode": "markers",
         "name": "Student_18",
         "text": [
          "28",
          "11",
          "9",
          "11",
          "11",
          "17",
          "24",
          "13"
         ],
         "type": "scatter",
         "uid": "1aabf3a4-e2e8-11e8-96ad-27ad55f30ab3",
         "x": [
          "Student_18",
          "Student_18",
          "Student_18",
          "Student_18",
          "Student_18",
          "Student_18",
          "Student_18",
          "Student_18",
          "Student_18"
         ],
         "y": [
          "Video1",
          "Video2",
          "Quiz1",
          "Quiz2",
          "Pdf1",
          "Pdf2",
          "Ebook1",
          "Ebook2"
         ]
        },
        {
         "marker": {
          "line": {
           "width": 2
          },
          "size": [
           4,
           13,
           0,
           2,
           1,
           18,
           20,
           21
          ],
          "sizemode": "area",
          "sizeref": 0.06896551724137931,
          "symbol": "circle"
         },
         "mode": "markers",
         "name": "Student_19",
         "text": [
          "4",
          "13",
          "0",
          "2",
          "1",
          "18",
          "20",
          "21"
         ],
         "type": "scatter",
         "uid": "1aabf43a-e2e8-11e8-96ad-27ad55f30ab3",
         "x": [
          "Student_19",
          "Student_19",
          "Student_19",
          "Student_19",
          "Student_19",
          "Student_19",
          "Student_19",
          "Student_19",
          "Student_19"
         ],
         "y": [
          "Video1",
          "Video2",
          "Quiz1",
          "Quiz2",
          "Pdf1",
          "Pdf2",
          "Ebook1",
          "Ebook2"
         ]
        },
        {
         "marker": {
          "line": {
           "width": 2
          },
          "size": [
           20,
           22,
           23,
           20,
           29,
           20,
           21,
           9
          ],
          "sizemode": "area",
          "sizeref": 0.06896551724137931,
          "symbol": "circle"
         },
         "mode": "markers",
         "name": "Student_20",
         "text": [
          "20",
          "22",
          "23",
          "20",
          "29",
          "20",
          "21",
          "9"
         ],
         "type": "scatter",
         "uid": "1aabf4d0-e2e8-11e8-96ad-27ad55f30ab3",
         "x": [
          "Student_20",
          "Student_20",
          "Student_20",
          "Student_20",
          "Student_20",
          "Student_20",
          "Student_20",
          "Student_20",
          "Student_20"
         ],
         "y": [
          "Video1",
          "Video2",
          "Quiz1",
          "Quiz2",
          "Pdf1",
          "Pdf2",
          "Ebook1",
          "Ebook2"
         ]
        }
       ],
       "layout": {
        "hovermode": "closest",
        "showlegend": true,
        "title": "Número de acessos nos materiais por estudante",
        "xaxis": {
         "autorange": false,
         "fixedrange": false,
         "range": [
          -1,
          20
         ],
         "rangemode": "normal",
         "showline": true,
         "title": "Estudantes",
         "type": "category"
        },
        "yaxis": {
         "autorange": false,
         "categoryorder": "category ascending",
         "fixedrange": false,
         "range": [
          -1,
          8
         ],
         "rangemode": "normal",
         "showline": true,
         "title": "Materiais",
         "type": "category"
        }
       }
      },
      "text/html": [
       "<div id=\"ee725d95-a90a-4855-bc45-fc44a1f7b7b9\" style=\"height: 525px; width: 100%;\" class=\"plotly-graph-div\"></div><script type=\"text/javascript\">require([\"plotly\"], function(Plotly) { window.PLOTLYENV=window.PLOTLYENV || {};window.PLOTLYENV.BASE_URL=\"https://plot.ly\";Plotly.newPlot(\"ee725d95-a90a-4855-bc45-fc44a1f7b7b9\", [{\"marker\": {\"line\": {\"width\": 2}, \"size\": [17, 1, 14, 3, 16, 28, 18, 10], \"sizemode\": \"area\", \"sizeref\": 0.06896551724137931, \"symbol\": \"circle\"}, \"mode\": \"markers\", \"name\": \"Student_1\", \"text\": [\"17\", \"1\", \"14\", \"3\", \"16\", \"28\", \"18\", \"10\"], \"x\": [\"Student_1\", \"Student_1\", \"Student_1\", \"Student_1\", \"Student_1\", \"Student_1\", \"Student_1\", \"Student_1\", \"Student_1\"], \"y\": [\"Video1\", \"Video2\", \"Quiz1\", \"Quiz2\", \"Pdf1\", \"Pdf2\", \"Ebook1\", \"Ebook2\"], \"type\": \"scatter\", \"uid\": \"1aabe7ec-e2e8-11e8-96ad-27ad55f30ab3\"}, {\"marker\": {\"line\": {\"width\": 2}, \"size\": [12, 21, 23, 21, 8, 27, 25, 13], \"sizemode\": \"area\", \"sizeref\": 0.06896551724137931, \"symbol\": \"circle\"}, \"mode\": \"markers\", \"name\": \"Student_2\", \"text\": [\"12\", \"21\", \"23\", \"21\", \"8\", \"27\", \"25\", \"13\"], \"x\": [\"Student_2\", \"Student_2\", \"Student_2\", \"Student_2\", \"Student_2\", \"Student_2\", \"Student_2\", \"Student_2\", \"Student_2\"], \"y\": [\"Video1\", \"Video2\", \"Quiz1\", \"Quiz2\", \"Pdf1\", \"Pdf2\", \"Ebook1\", \"Ebook2\"], \"type\": \"scatter\", \"uid\": \"1aabe9a4-e2e8-11e8-96ad-27ad55f30ab3\"}, {\"marker\": {\"line\": {\"width\": 2}, \"size\": [14, 5, 17, 3, 10, 3, 13, 19], \"sizemode\": \"area\", \"sizeref\": 0.06896551724137931, \"symbol\": \"circle\"}, \"mode\": \"markers\", \"name\": \"Student_3\", \"text\": [\"14\", \"5\", \"17\", \"3\", \"10\", \"3\", \"13\", \"19\"], \"x\": [\"Student_3\", \"Student_3\", \"Student_3\", \"Student_3\", \"Student_3\", \"Student_3\", \"Student_3\", \"Student_3\", \"Student_3\"], \"y\": [\"Video1\", \"Video2\", \"Quiz1\", \"Quiz2\", \"Pdf1\", \"Pdf2\", \"Ebook1\", \"Ebook2\"], \"type\": \"scatter\", \"uid\": \"1aabea8a-e2e8-11e8-96ad-27ad55f30ab3\"}, {\"marker\": {\"line\": {\"width\": 2}, \"size\": [27, 23, 25, 13, 16, 22, 22, 10], \"sizemode\": \"area\", \"sizeref\": 0.06896551724137931, \"symbol\": \"circle\"}, \"mode\": \"markers\", \"name\": \"Student_4\", \"text\": [\"27\", \"23\", \"25\", \"13\", \"16\", \"22\", \"22\", \"10\"], \"x\": [\"Student_4\", \"Student_4\", \"Student_4\", \"Student_4\", \"Student_4\", \"Student_4\", \"Student_4\", \"Student_4\", \"Student_4\"], \"y\": [\"Video1\", \"Video2\", \"Quiz1\", \"Quiz2\", \"Pdf1\", \"Pdf2\", \"Ebook1\", \"Ebook2\"], \"type\": \"scatter\", \"uid\": \"1aabeb52-e2e8-11e8-96ad-27ad55f30ab3\"}, {\"marker\": {\"line\": {\"width\": 2}, \"size\": [9, 15, 6, 10, 6, 4, 7, 24], \"sizemode\": \"area\", \"sizeref\": 0.06896551724137931, \"symbol\": \"circle\"}, \"mode\": \"markers\", \"name\": \"Student_5\", \"text\": [\"9\", \"15\", \"6\", \"10\", \"6\", \"4\", \"7\", \"24\"], \"x\": [\"Student_5\", \"Student_5\", \"Student_5\", \"Student_5\", \"Student_5\", \"Student_5\", \"Student_5\", \"Student_5\", \"Student_5\"], \"y\": [\"Video1\", \"Video2\", \"Quiz1\", \"Quiz2\", \"Pdf1\", \"Pdf2\", \"Ebook1\", \"Ebook2\"], \"type\": \"scatter\", \"uid\": \"1aabebf2-e2e8-11e8-96ad-27ad55f30ab3\"}, {\"marker\": {\"line\": {\"width\": 2}, \"size\": [15, 10, 16, 8, 28, 6, 24, 4], \"sizemode\": \"area\", \"sizeref\": 0.06896551724137931, \"symbol\": \"circle\"}, \"mode\": \"markers\", \"name\": \"Student_6\", \"text\": [\"15\", \"10\", \"16\", \"8\", \"28\", \"6\", \"24\", \"4\"], \"x\": [\"Student_6\", \"Student_6\", \"Student_6\", \"Student_6\", \"Student_6\", \"Student_6\", \"Student_6\", \"Student_6\", \"Student_6\"], \"y\": [\"Video1\", \"Video2\", \"Quiz1\", \"Quiz2\", \"Pdf1\", \"Pdf2\", \"Ebook1\", \"Ebook2\"], \"type\": \"scatter\", \"uid\": \"1aabec92-e2e8-11e8-96ad-27ad55f30ab3\"}, {\"marker\": {\"line\": {\"width\": 2}, \"size\": [13, 9, 27, 18, 3, 20, 0, 4], \"sizemode\": \"area\", \"sizeref\": 0.06896551724137931, \"symbol\": \"circle\"}, \"mode\": \"markers\", \"name\": \"Student_7\", \"text\": [\"13\", \"9\", \"27\", \"18\", \"3\", \"20\", \"0\", \"4\"], \"x\": [\"Student_7\", \"Student_7\", \"Student_7\", \"Student_7\", \"Student_7\", \"Student_7\", \"Student_7\", \"Student_7\", \"Student_7\"], \"y\": [\"Video1\", \"Video2\", \"Quiz1\", \"Quiz2\", \"Pdf1\", \"Pdf2\", \"Ebook1\", \"Ebook2\"], \"type\": \"scatter\", \"uid\": \"1aabed32-e2e8-11e8-96ad-27ad55f30ab3\"}, {\"marker\": {\"line\": {\"width\": 2}, \"size\": [24, 12, 9, 1, 0, 8, 2, 10], \"sizemode\": \"area\", \"sizeref\": 0.06896551724137931, \"symbol\": \"circle\"}, \"mode\": \"markers\", \"name\": \"Student_8\", \"text\": [\"24\", \"12\", \"9\", \"1\", \"0\", \"8\", \"2\", \"10\"], \"x\": [\"Student_8\", \"Student_8\", \"Student_8\", \"Student_8\", \"Student_8\", \"Student_8\", \"Student_8\", \"Student_8\", \"Student_8\"], \"y\": [\"Video1\", \"Video2\", \"Quiz1\", \"Quiz2\", \"Pdf1\", \"Pdf2\", \"Ebook1\", \"Ebook2\"], \"type\": \"scatter\", \"uid\": \"1aabedc8-e2e8-11e8-96ad-27ad55f30ab3\"}, {\"marker\": {\"line\": {\"width\": 2}, \"size\": [4, 16, 22, 28, 8, 9, 22, 9], \"sizemode\": \"area\", \"sizeref\": 0.06896551724137931, \"symbol\": \"circle\"}, \"mode\": \"markers\", \"name\": \"Student_9\", \"text\": [\"4\", \"16\", \"22\", \"28\", \"8\", \"9\", \"22\", \"9\"], \"x\": [\"Student_9\", \"Student_9\", \"Student_9\", \"Student_9\", \"Student_9\", \"Student_9\", \"Student_9\", \"Student_9\", \"Student_9\"], \"y\": [\"Video1\", \"Video2\", \"Quiz1\", \"Quiz2\", \"Pdf1\", \"Pdf2\", \"Ebook1\", \"Ebook2\"], \"type\": \"scatter\", \"uid\": \"1aabee68-e2e8-11e8-96ad-27ad55f30ab3\"}, {\"marker\": {\"line\": {\"width\": 2}, \"size\": [26, 6, 13, 13, 10, 12, 27, 19], \"sizemode\": \"area\", \"sizeref\": 0.06896551724137931, \"symbol\": \"circle\"}, \"mode\": \"markers\", \"name\": \"Student_10\", \"text\": [\"26\", \"6\", \"13\", \"13\", \"10\", \"12\", \"27\", \"19\"], \"x\": [\"Student_10\", \"Student_10\", \"Student_10\", \"Student_10\", \"Student_10\", \"Student_10\", \"Student_10\", \"Student_10\", \"Student_10\"], \"y\": [\"Video1\", \"Video2\", \"Quiz1\", \"Quiz2\", \"Pdf1\", \"Pdf2\", \"Ebook1\", \"Ebook2\"], \"type\": \"scatter\", \"uid\": \"1aabeefe-e2e8-11e8-96ad-27ad55f30ab3\"}, {\"marker\": {\"line\": {\"width\": 2}, \"size\": [19, 25, 21, 7, 5, 19, 25, 6], \"sizemode\": \"area\", \"sizeref\": 0.06896551724137931, \"symbol\": \"circle\"}, \"mode\": \"markers\", \"name\": \"Student_11\", \"text\": [\"19\", \"25\", \"21\", \"7\", \"5\", \"19\", \"25\", \"6\"], \"x\": [\"Student_11\", \"Student_11\", \"Student_11\", \"Student_11\", \"Student_11\", \"Student_11\", \"Student_11\", \"Student_11\", \"Student_11\"], \"y\": [\"Video1\", \"Video2\", \"Quiz1\", \"Quiz2\", \"Pdf1\", \"Pdf2\", \"Ebook1\", \"Ebook2\"], \"type\": \"scatter\", \"uid\": \"1aabef94-e2e8-11e8-96ad-27ad55f30ab3\"}, {\"marker\": {\"line\": {\"width\": 2}, \"size\": [19, 15, 13, 11, 28, 6, 12, 3], \"sizemode\": \"area\", \"sizeref\": 0.06896551724137931, \"symbol\": \"circle\"}, \"mode\": \"markers\", \"name\": \"Student_12\", \"text\": [\"19\", \"15\", \"13\", \"11\", \"28\", \"6\", \"12\", \"3\"], \"x\": [\"Student_12\", \"Student_12\", \"Student_12\", \"Student_12\", \"Student_12\", \"Student_12\", \"Student_12\", \"Student_12\", \"Student_12\"], \"y\": [\"Video1\", \"Video2\", \"Quiz1\", \"Quiz2\", \"Pdf1\", \"Pdf2\", \"Ebook1\", \"Ebook2\"], \"type\": \"scatter\", \"uid\": \"1aabf02a-e2e8-11e8-96ad-27ad55f30ab3\"}, {\"marker\": {\"line\": {\"width\": 2}, \"size\": [23, 27, 9, 6, 19, 2, 25, 10], \"sizemode\": \"area\", \"sizeref\": 0.06896551724137931, \"symbol\": \"circle\"}, \"mode\": \"markers\", \"name\": \"Student_13\", \"text\": [\"23\", \"27\", \"9\", \"6\", \"19\", \"2\", \"25\", \"10\"], \"x\": [\"Student_13\", \"Student_13\", \"Student_13\", \"Student_13\", \"Student_13\", \"Student_13\", \"Student_13\", \"Student_13\", \"Student_13\"], \"y\": [\"Video1\", \"Video2\", \"Quiz1\", \"Quiz2\", \"Pdf1\", \"Pdf2\", \"Ebook1\", \"Ebook2\"], \"type\": \"scatter\", \"uid\": \"1aabf0c0-e2e8-11e8-96ad-27ad55f30ab3\"}, {\"marker\": {\"line\": {\"width\": 2}, \"size\": [29, 28, 23, 28, 27, 13, 21, 0], \"sizemode\": \"area\", \"sizeref\": 0.06896551724137931, \"symbol\": \"circle\"}, \"mode\": \"markers\", \"name\": \"Student_14\", \"text\": [\"29\", \"28\", \"23\", \"28\", \"27\", \"13\", \"21\", \"0\"], \"x\": [\"Student_14\", \"Student_14\", \"Student_14\", \"Student_14\", \"Student_14\", \"Student_14\", \"Student_14\", \"Student_14\", \"Student_14\"], \"y\": [\"Video1\", \"Video2\", \"Quiz1\", \"Quiz2\", \"Pdf1\", \"Pdf2\", \"Ebook1\", \"Ebook2\"], \"type\": \"scatter\", \"uid\": \"1aabf156-e2e8-11e8-96ad-27ad55f30ab3\"}, {\"marker\": {\"line\": {\"width\": 2}, \"size\": [11, 23, 19, 4, 26, 18, 29, 16], \"sizemode\": \"area\", \"sizeref\": 0.06896551724137931, \"symbol\": \"circle\"}, \"mode\": \"markers\", \"name\": \"Student_15\", \"text\": [\"11\", \"23\", \"19\", \"4\", \"26\", \"18\", \"29\", \"16\"], \"x\": [\"Student_15\", \"Student_15\", \"Student_15\", \"Student_15\", \"Student_15\", \"Student_15\", \"Student_15\", \"Student_15\", \"Student_15\"], \"y\": [\"Video1\", \"Video2\", \"Quiz1\", \"Quiz2\", \"Pdf1\", \"Pdf2\", \"Ebook1\", \"Ebook2\"], \"type\": \"scatter\", \"uid\": \"1aabf1ec-e2e8-11e8-96ad-27ad55f30ab3\"}, {\"marker\": {\"line\": {\"width\": 2}, \"size\": [12, 29, 11, 7, 29, 29, 7, 11], \"sizemode\": \"area\", \"sizeref\": 0.06896551724137931, \"symbol\": \"circle\"}, \"mode\": \"markers\", \"name\": \"Student_16\", \"text\": [\"12\", \"29\", \"11\", \"7\", \"29\", \"29\", \"7\", \"11\"], \"x\": [\"Student_16\", \"Student_16\", \"Student_16\", \"Student_16\", \"Student_16\", \"Student_16\", \"Student_16\", \"Student_16\", \"Student_16\"], \"y\": [\"Video1\", \"Video2\", \"Quiz1\", \"Quiz2\", \"Pdf1\", \"Pdf2\", \"Ebook1\", \"Ebook2\"], \"type\": \"scatter\", \"uid\": \"1aabf282-e2e8-11e8-96ad-27ad55f30ab3\"}, {\"marker\": {\"line\": {\"width\": 2}, \"size\": [21, 2, 23, 22, 13, 11, 26, 6], \"sizemode\": \"area\", \"sizeref\": 0.06896551724137931, \"symbol\": \"circle\"}, \"mode\": \"markers\", \"name\": \"Student_17\", \"text\": [\"21\", \"2\", \"23\", \"22\", \"13\", \"11\", \"26\", \"6\"], \"x\": [\"Student_17\", \"Student_17\", \"Student_17\", \"Student_17\", \"Student_17\", \"Student_17\", \"Student_17\", \"Student_17\", \"Student_17\"], \"y\": [\"Video1\", \"Video2\", \"Quiz1\", \"Quiz2\", \"Pdf1\", \"Pdf2\", \"Ebook1\", \"Ebook2\"], \"type\": \"scatter\", \"uid\": \"1aabf318-e2e8-11e8-96ad-27ad55f30ab3\"}, {\"marker\": {\"line\": {\"width\": 2}, \"size\": [28, 11, 9, 11, 11, 17, 24, 13], \"sizemode\": \"area\", \"sizeref\": 0.06896551724137931, \"symbol\": \"circle\"}, \"mode\": \"markers\", \"name\": \"Student_18\", \"text\": [\"28\", \"11\", \"9\", \"11\", \"11\", \"17\", \"24\", \"13\"], \"x\": [\"Student_18\", \"Student_18\", \"Student_18\", \"Student_18\", \"Student_18\", \"Student_18\", \"Student_18\", \"Student_18\", \"Student_18\"], \"y\": [\"Video1\", \"Video2\", \"Quiz1\", \"Quiz2\", \"Pdf1\", \"Pdf2\", \"Ebook1\", \"Ebook2\"], \"type\": \"scatter\", \"uid\": \"1aabf3a4-e2e8-11e8-96ad-27ad55f30ab3\"}, {\"marker\": {\"line\": {\"width\": 2}, \"size\": [4, 13, 0, 2, 1, 18, 20, 21], \"sizemode\": \"area\", \"sizeref\": 0.06896551724137931, \"symbol\": \"circle\"}, \"mode\": \"markers\", \"name\": \"Student_19\", \"text\": [\"4\", \"13\", \"0\", \"2\", \"1\", \"18\", \"20\", \"21\"], \"x\": [\"Student_19\", \"Student_19\", \"Student_19\", \"Student_19\", \"Student_19\", \"Student_19\", \"Student_19\", \"Student_19\", \"Student_19\"], \"y\": [\"Video1\", \"Video2\", \"Quiz1\", \"Quiz2\", \"Pdf1\", \"Pdf2\", \"Ebook1\", \"Ebook2\"], \"type\": \"scatter\", \"uid\": \"1aabf43a-e2e8-11e8-96ad-27ad55f30ab3\"}, {\"marker\": {\"line\": {\"width\": 2}, \"size\": [20, 22, 23, 20, 29, 20, 21, 9], \"sizemode\": \"area\", \"sizeref\": 0.06896551724137931, \"symbol\": \"circle\"}, \"mode\": \"markers\", \"name\": \"Student_20\", \"text\": [\"20\", \"22\", \"23\", \"20\", \"29\", \"20\", \"21\", \"9\"], \"x\": [\"Student_20\", \"Student_20\", \"Student_20\", \"Student_20\", \"Student_20\", \"Student_20\", \"Student_20\", \"Student_20\", \"Student_20\"], \"y\": [\"Video1\", \"Video2\", \"Quiz1\", \"Quiz2\", \"Pdf1\", \"Pdf2\", \"Ebook1\", \"Ebook2\"], \"type\": \"scatter\", \"uid\": \"1aabf4d0-e2e8-11e8-96ad-27ad55f30ab3\"}], {\"hovermode\": \"closest\", \"showlegend\": true, \"title\": \"N\\u00famero de acessos nos materiais por estudante\", \"xaxis\": {\"autorange\": false, \"fixedrange\": false, \"range\": [-1, 20], \"rangemode\": \"normal\", \"showline\": true, \"title\": \"Estudantes\", \"type\": \"category\"}, \"yaxis\": {\"autorange\": false, \"categoryorder\": \"category ascending\", \"fixedrange\": false, \"range\": [-1, 8], \"rangemode\": \"normal\", \"showline\": true, \"title\": \"Materiais\", \"type\": \"category\"}}, {\"showLink\": true, \"linkText\": \"Export to plot.ly\"})});</script>"
      ],
      "text/vnd.plotly.v1+html": [
       "<div id=\"ee725d95-a90a-4855-bc45-fc44a1f7b7b9\" style=\"height: 525px; width: 100%;\" class=\"plotly-graph-div\"></div><script type=\"text/javascript\">require([\"plotly\"], function(Plotly) { window.PLOTLYENV=window.PLOTLYENV || {};window.PLOTLYENV.BASE_URL=\"https://plot.ly\";Plotly.newPlot(\"ee725d95-a90a-4855-bc45-fc44a1f7b7b9\", [{\"marker\": {\"line\": {\"width\": 2}, \"size\": [17, 1, 14, 3, 16, 28, 18, 10], \"sizemode\": \"area\", \"sizeref\": 0.06896551724137931, \"symbol\": \"circle\"}, \"mode\": \"markers\", \"name\": \"Student_1\", \"text\": [\"17\", \"1\", \"14\", \"3\", \"16\", \"28\", \"18\", \"10\"], \"x\": [\"Student_1\", \"Student_1\", \"Student_1\", \"Student_1\", \"Student_1\", \"Student_1\", \"Student_1\", \"Student_1\", \"Student_1\"], \"y\": [\"Video1\", \"Video2\", \"Quiz1\", \"Quiz2\", \"Pdf1\", \"Pdf2\", \"Ebook1\", \"Ebook2\"], \"type\": \"scatter\", \"uid\": \"1aabe7ec-e2e8-11e8-96ad-27ad55f30ab3\"}, {\"marker\": {\"line\": {\"width\": 2}, \"size\": [12, 21, 23, 21, 8, 27, 25, 13], \"sizemode\": \"area\", \"sizeref\": 0.06896551724137931, \"symbol\": \"circle\"}, \"mode\": \"markers\", \"name\": \"Student_2\", \"text\": [\"12\", \"21\", \"23\", \"21\", \"8\", \"27\", \"25\", \"13\"], \"x\": [\"Student_2\", \"Student_2\", \"Student_2\", \"Student_2\", \"Student_2\", \"Student_2\", \"Student_2\", \"Student_2\", \"Student_2\"], \"y\": [\"Video1\", \"Video2\", \"Quiz1\", \"Quiz2\", \"Pdf1\", \"Pdf2\", \"Ebook1\", \"Ebook2\"], \"type\": \"scatter\", \"uid\": \"1aabe9a4-e2e8-11e8-96ad-27ad55f30ab3\"}, {\"marker\": {\"line\": {\"width\": 2}, \"size\": [14, 5, 17, 3, 10, 3, 13, 19], \"sizemode\": \"area\", \"sizeref\": 0.06896551724137931, \"symbol\": \"circle\"}, \"mode\": \"markers\", \"name\": \"Student_3\", \"text\": [\"14\", \"5\", \"17\", \"3\", \"10\", \"3\", \"13\", \"19\"], \"x\": [\"Student_3\", \"Student_3\", \"Student_3\", \"Student_3\", \"Student_3\", \"Student_3\", \"Student_3\", \"Student_3\", \"Student_3\"], \"y\": [\"Video1\", \"Video2\", \"Quiz1\", \"Quiz2\", \"Pdf1\", \"Pdf2\", \"Ebook1\", \"Ebook2\"], \"type\": \"scatter\", \"uid\": \"1aabea8a-e2e8-11e8-96ad-27ad55f30ab3\"}, {\"marker\": {\"line\": {\"width\": 2}, \"size\": [27, 23, 25, 13, 16, 22, 22, 10], \"sizemode\": \"area\", \"sizeref\": 0.06896551724137931, \"symbol\": \"circle\"}, \"mode\": \"markers\", \"name\": \"Student_4\", \"text\": [\"27\", \"23\", \"25\", \"13\", \"16\", \"22\", \"22\", \"10\"], \"x\": [\"Student_4\", \"Student_4\", \"Student_4\", \"Student_4\", \"Student_4\", \"Student_4\", \"Student_4\", \"Student_4\", \"Student_4\"], \"y\": [\"Video1\", \"Video2\", \"Quiz1\", \"Quiz2\", \"Pdf1\", \"Pdf2\", \"Ebook1\", \"Ebook2\"], \"type\": \"scatter\", \"uid\": \"1aabeb52-e2e8-11e8-96ad-27ad55f30ab3\"}, {\"marker\": {\"line\": {\"width\": 2}, \"size\": [9, 15, 6, 10, 6, 4, 7, 24], \"sizemode\": \"area\", \"sizeref\": 0.06896551724137931, \"symbol\": \"circle\"}, \"mode\": \"markers\", \"name\": \"Student_5\", \"text\": [\"9\", \"15\", \"6\", \"10\", \"6\", \"4\", \"7\", \"24\"], \"x\": [\"Student_5\", \"Student_5\", \"Student_5\", \"Student_5\", \"Student_5\", \"Student_5\", \"Student_5\", \"Student_5\", \"Student_5\"], \"y\": [\"Video1\", \"Video2\", \"Quiz1\", \"Quiz2\", \"Pdf1\", \"Pdf2\", \"Ebook1\", \"Ebook2\"], \"type\": \"scatter\", \"uid\": \"1aabebf2-e2e8-11e8-96ad-27ad55f30ab3\"}, {\"marker\": {\"line\": {\"width\": 2}, \"size\": [15, 10, 16, 8, 28, 6, 24, 4], \"sizemode\": \"area\", \"sizeref\": 0.06896551724137931, \"symbol\": \"circle\"}, \"mode\": \"markers\", \"name\": \"Student_6\", \"text\": [\"15\", \"10\", \"16\", \"8\", \"28\", \"6\", \"24\", \"4\"], \"x\": [\"Student_6\", \"Student_6\", \"Student_6\", \"Student_6\", \"Student_6\", \"Student_6\", \"Student_6\", \"Student_6\", \"Student_6\"], \"y\": [\"Video1\", \"Video2\", \"Quiz1\", \"Quiz2\", \"Pdf1\", \"Pdf2\", \"Ebook1\", \"Ebook2\"], \"type\": \"scatter\", \"uid\": \"1aabec92-e2e8-11e8-96ad-27ad55f30ab3\"}, {\"marker\": {\"line\": {\"width\": 2}, \"size\": [13, 9, 27, 18, 3, 20, 0, 4], \"sizemode\": \"area\", \"sizeref\": 0.06896551724137931, \"symbol\": \"circle\"}, \"mode\": \"markers\", \"name\": \"Student_7\", \"text\": [\"13\", \"9\", \"27\", \"18\", \"3\", \"20\", \"0\", \"4\"], \"x\": [\"Student_7\", \"Student_7\", \"Student_7\", \"Student_7\", \"Student_7\", \"Student_7\", \"Student_7\", \"Student_7\", \"Student_7\"], \"y\": [\"Video1\", \"Video2\", \"Quiz1\", \"Quiz2\", \"Pdf1\", \"Pdf2\", \"Ebook1\", \"Ebook2\"], \"type\": \"scatter\", \"uid\": \"1aabed32-e2e8-11e8-96ad-27ad55f30ab3\"}, {\"marker\": {\"line\": {\"width\": 2}, \"size\": [24, 12, 9, 1, 0, 8, 2, 10], \"sizemode\": \"area\", \"sizeref\": 0.06896551724137931, \"symbol\": \"circle\"}, \"mode\": \"markers\", \"name\": \"Student_8\", \"text\": [\"24\", \"12\", \"9\", \"1\", \"0\", \"8\", \"2\", \"10\"], \"x\": [\"Student_8\", \"Student_8\", \"Student_8\", \"Student_8\", \"Student_8\", \"Student_8\", \"Student_8\", \"Student_8\", \"Student_8\"], \"y\": [\"Video1\", \"Video2\", \"Quiz1\", \"Quiz2\", \"Pdf1\", \"Pdf2\", \"Ebook1\", \"Ebook2\"], \"type\": \"scatter\", \"uid\": \"1aabedc8-e2e8-11e8-96ad-27ad55f30ab3\"}, {\"marker\": {\"line\": {\"width\": 2}, \"size\": [4, 16, 22, 28, 8, 9, 22, 9], \"sizemode\": \"area\", \"sizeref\": 0.06896551724137931, \"symbol\": \"circle\"}, \"mode\": \"markers\", \"name\": \"Student_9\", \"text\": [\"4\", \"16\", \"22\", \"28\", \"8\", \"9\", \"22\", \"9\"], \"x\": [\"Student_9\", \"Student_9\", \"Student_9\", \"Student_9\", \"Student_9\", \"Student_9\", \"Student_9\", \"Student_9\", \"Student_9\"], \"y\": [\"Video1\", \"Video2\", \"Quiz1\", \"Quiz2\", \"Pdf1\", \"Pdf2\", \"Ebook1\", \"Ebook2\"], \"type\": \"scatter\", \"uid\": \"1aabee68-e2e8-11e8-96ad-27ad55f30ab3\"}, {\"marker\": {\"line\": {\"width\": 2}, \"size\": [26, 6, 13, 13, 10, 12, 27, 19], \"sizemode\": \"area\", \"sizeref\": 0.06896551724137931, \"symbol\": \"circle\"}, \"mode\": \"markers\", \"name\": \"Student_10\", \"text\": [\"26\", \"6\", \"13\", \"13\", \"10\", \"12\", \"27\", \"19\"], \"x\": [\"Student_10\", \"Student_10\", \"Student_10\", \"Student_10\", \"Student_10\", \"Student_10\", \"Student_10\", \"Student_10\", \"Student_10\"], \"y\": [\"Video1\", \"Video2\", \"Quiz1\", \"Quiz2\", \"Pdf1\", \"Pdf2\", \"Ebook1\", \"Ebook2\"], \"type\": \"scatter\", \"uid\": \"1aabeefe-e2e8-11e8-96ad-27ad55f30ab3\"}, {\"marker\": {\"line\": {\"width\": 2}, \"size\": [19, 25, 21, 7, 5, 19, 25, 6], \"sizemode\": \"area\", \"sizeref\": 0.06896551724137931, \"symbol\": \"circle\"}, \"mode\": \"markers\", \"name\": \"Student_11\", \"text\": [\"19\", \"25\", \"21\", \"7\", \"5\", \"19\", \"25\", \"6\"], \"x\": [\"Student_11\", \"Student_11\", \"Student_11\", \"Student_11\", \"Student_11\", \"Student_11\", \"Student_11\", \"Student_11\", \"Student_11\"], \"y\": [\"Video1\", \"Video2\", \"Quiz1\", \"Quiz2\", \"Pdf1\", \"Pdf2\", \"Ebook1\", \"Ebook2\"], \"type\": \"scatter\", \"uid\": \"1aabef94-e2e8-11e8-96ad-27ad55f30ab3\"}, {\"marker\": {\"line\": {\"width\": 2}, \"size\": [19, 15, 13, 11, 28, 6, 12, 3], \"sizemode\": \"area\", \"sizeref\": 0.06896551724137931, \"symbol\": \"circle\"}, \"mode\": \"markers\", \"name\": \"Student_12\", \"text\": [\"19\", \"15\", \"13\", \"11\", \"28\", \"6\", \"12\", \"3\"], \"x\": [\"Student_12\", \"Student_12\", \"Student_12\", \"Student_12\", \"Student_12\", \"Student_12\", \"Student_12\", \"Student_12\", \"Student_12\"], \"y\": [\"Video1\", \"Video2\", \"Quiz1\", \"Quiz2\", \"Pdf1\", \"Pdf2\", \"Ebook1\", \"Ebook2\"], \"type\": \"scatter\", \"uid\": \"1aabf02a-e2e8-11e8-96ad-27ad55f30ab3\"}, {\"marker\": {\"line\": {\"width\": 2}, \"size\": [23, 27, 9, 6, 19, 2, 25, 10], \"sizemode\": \"area\", \"sizeref\": 0.06896551724137931, \"symbol\": \"circle\"}, \"mode\": \"markers\", \"name\": \"Student_13\", \"text\": [\"23\", \"27\", \"9\", \"6\", \"19\", \"2\", \"25\", \"10\"], \"x\": [\"Student_13\", \"Student_13\", \"Student_13\", \"Student_13\", \"Student_13\", \"Student_13\", \"Student_13\", \"Student_13\", \"Student_13\"], \"y\": [\"Video1\", \"Video2\", \"Quiz1\", \"Quiz2\", \"Pdf1\", \"Pdf2\", \"Ebook1\", \"Ebook2\"], \"type\": \"scatter\", \"uid\": \"1aabf0c0-e2e8-11e8-96ad-27ad55f30ab3\"}, {\"marker\": {\"line\": {\"width\": 2}, \"size\": [29, 28, 23, 28, 27, 13, 21, 0], \"sizemode\": \"area\", \"sizeref\": 0.06896551724137931, \"symbol\": \"circle\"}, \"mode\": \"markers\", \"name\": \"Student_14\", \"text\": [\"29\", \"28\", \"23\", \"28\", \"27\", \"13\", \"21\", \"0\"], \"x\": [\"Student_14\", \"Student_14\", \"Student_14\", \"Student_14\", \"Student_14\", \"Student_14\", \"Student_14\", \"Student_14\", \"Student_14\"], \"y\": [\"Video1\", \"Video2\", \"Quiz1\", \"Quiz2\", \"Pdf1\", \"Pdf2\", \"Ebook1\", \"Ebook2\"], \"type\": \"scatter\", \"uid\": \"1aabf156-e2e8-11e8-96ad-27ad55f30ab3\"}, {\"marker\": {\"line\": {\"width\": 2}, \"size\": [11, 23, 19, 4, 26, 18, 29, 16], \"sizemode\": \"area\", \"sizeref\": 0.06896551724137931, \"symbol\": \"circle\"}, \"mode\": \"markers\", \"name\": \"Student_15\", \"text\": [\"11\", \"23\", \"19\", \"4\", \"26\", \"18\", \"29\", \"16\"], \"x\": [\"Student_15\", \"Student_15\", \"Student_15\", \"Student_15\", \"Student_15\", \"Student_15\", \"Student_15\", \"Student_15\", \"Student_15\"], \"y\": [\"Video1\", \"Video2\", \"Quiz1\", \"Quiz2\", \"Pdf1\", \"Pdf2\", \"Ebook1\", \"Ebook2\"], \"type\": \"scatter\", \"uid\": \"1aabf1ec-e2e8-11e8-96ad-27ad55f30ab3\"}, {\"marker\": {\"line\": {\"width\": 2}, \"size\": [12, 29, 11, 7, 29, 29, 7, 11], \"sizemode\": \"area\", \"sizeref\": 0.06896551724137931, \"symbol\": \"circle\"}, \"mode\": \"markers\", \"name\": \"Student_16\", \"text\": [\"12\", \"29\", \"11\", \"7\", \"29\", \"29\", \"7\", \"11\"], \"x\": [\"Student_16\", \"Student_16\", \"Student_16\", \"Student_16\", \"Student_16\", \"Student_16\", \"Student_16\", \"Student_16\", \"Student_16\"], \"y\": [\"Video1\", \"Video2\", \"Quiz1\", \"Quiz2\", \"Pdf1\", \"Pdf2\", \"Ebook1\", \"Ebook2\"], \"type\": \"scatter\", \"uid\": \"1aabf282-e2e8-11e8-96ad-27ad55f30ab3\"}, {\"marker\": {\"line\": {\"width\": 2}, \"size\": [21, 2, 23, 22, 13, 11, 26, 6], \"sizemode\": \"area\", \"sizeref\": 0.06896551724137931, \"symbol\": \"circle\"}, \"mode\": \"markers\", \"name\": \"Student_17\", \"text\": [\"21\", \"2\", \"23\", \"22\", \"13\", \"11\", \"26\", \"6\"], \"x\": [\"Student_17\", \"Student_17\", \"Student_17\", \"Student_17\", \"Student_17\", \"Student_17\", \"Student_17\", \"Student_17\", \"Student_17\"], \"y\": [\"Video1\", \"Video2\", \"Quiz1\", \"Quiz2\", \"Pdf1\", \"Pdf2\", \"Ebook1\", \"Ebook2\"], \"type\": \"scatter\", \"uid\": \"1aabf318-e2e8-11e8-96ad-27ad55f30ab3\"}, {\"marker\": {\"line\": {\"width\": 2}, \"size\": [28, 11, 9, 11, 11, 17, 24, 13], \"sizemode\": \"area\", \"sizeref\": 0.06896551724137931, \"symbol\": \"circle\"}, \"mode\": \"markers\", \"name\": \"Student_18\", \"text\": [\"28\", \"11\", \"9\", \"11\", \"11\", \"17\", \"24\", \"13\"], \"x\": [\"Student_18\", \"Student_18\", \"Student_18\", \"Student_18\", \"Student_18\", \"Student_18\", \"Student_18\", \"Student_18\", \"Student_18\"], \"y\": [\"Video1\", \"Video2\", \"Quiz1\", \"Quiz2\", \"Pdf1\", \"Pdf2\", \"Ebook1\", \"Ebook2\"], \"type\": \"scatter\", \"uid\": \"1aabf3a4-e2e8-11e8-96ad-27ad55f30ab3\"}, {\"marker\": {\"line\": {\"width\": 2}, \"size\": [4, 13, 0, 2, 1, 18, 20, 21], \"sizemode\": \"area\", \"sizeref\": 0.06896551724137931, \"symbol\": \"circle\"}, \"mode\": \"markers\", \"name\": \"Student_19\", \"text\": [\"4\", \"13\", \"0\", \"2\", \"1\", \"18\", \"20\", \"21\"], \"x\": [\"Student_19\", \"Student_19\", \"Student_19\", \"Student_19\", \"Student_19\", \"Student_19\", \"Student_19\", \"Student_19\", \"Student_19\"], \"y\": [\"Video1\", \"Video2\", \"Quiz1\", \"Quiz2\", \"Pdf1\", \"Pdf2\", \"Ebook1\", \"Ebook2\"], \"type\": \"scatter\", \"uid\": \"1aabf43a-e2e8-11e8-96ad-27ad55f30ab3\"}, {\"marker\": {\"line\": {\"width\": 2}, \"size\": [20, 22, 23, 20, 29, 20, 21, 9], \"sizemode\": \"area\", \"sizeref\": 0.06896551724137931, \"symbol\": \"circle\"}, \"mode\": \"markers\", \"name\": \"Student_20\", \"text\": [\"20\", \"22\", \"23\", \"20\", \"29\", \"20\", \"21\", \"9\"], \"x\": [\"Student_20\", \"Student_20\", \"Student_20\", \"Student_20\", \"Student_20\", \"Student_20\", \"Student_20\", \"Student_20\", \"Student_20\"], \"y\": [\"Video1\", \"Video2\", \"Quiz1\", \"Quiz2\", \"Pdf1\", \"Pdf2\", \"Ebook1\", \"Ebook2\"], \"type\": \"scatter\", \"uid\": \"1aabf4d0-e2e8-11e8-96ad-27ad55f30ab3\"}], {\"hovermode\": \"closest\", \"showlegend\": true, \"title\": \"N\\u00famero de acessos nos materiais por estudante\", \"xaxis\": {\"autorange\": false, \"fixedrange\": false, \"range\": [-1, 20], \"rangemode\": \"normal\", \"showline\": true, \"title\": \"Estudantes\", \"type\": \"category\"}, \"yaxis\": {\"autorange\": false, \"categoryorder\": \"category ascending\", \"fixedrange\": false, \"range\": [-1, 8], \"rangemode\": \"normal\", \"showline\": true, \"title\": \"Materiais\", \"type\": \"category\"}}, {\"showLink\": true, \"linkText\": \"Export to plot.ly\"})});</script>"
      ]
     },
     "metadata": {},
     "output_type": "display_data"
    }
   ],
   "source": [
    "run scripts/V002.py"
   ]
  },
  {
   "cell_type": "markdown",
   "metadata": {},
   "source": [
    "### View 003"
   ]
  },
  {
   "cell_type": "code",
   "execution_count": 243,
   "metadata": {
    "scrolled": true
   },
   "outputs": [
    {
     "data": {
      "text/html": [
       "<script>requirejs.config({paths: { 'plotly': ['https://cdn.plot.ly/plotly-latest.min']},});if(!window.Plotly) {{require(['plotly'],function(plotly) {window.Plotly=plotly;});}}</script>"
      ],
      "text/vnd.plotly.v1+html": [
       "<script>requirejs.config({paths: { 'plotly': ['https://cdn.plot.ly/plotly-latest.min']},});if(!window.Plotly) {{require(['plotly'],function(plotly) {window.Plotly=plotly;});}}</script>"
      ]
     },
     "metadata": {},
     "output_type": "display_data"
    },
    {
     "data": {
      "application/vnd.plotly.v1+json": {
       "data": [
        {
         "cells": {
          "align": [
           "left",
           "center"
          ],
          "fill": {
           "color": "#F5F8FF"
          },
          "values": [
           [
            "Student_1",
            "Student_2",
            "Student_3",
            "Student_4",
            "Student_5",
            "Student_6",
            "Student_7",
            "Student_8",
            "Student_9",
            "Student_10",
            "Student_11",
            "Student_12",
            "Student_13",
            "Student_14",
            "Student_15",
            "Student_16",
            "Student_17",
            "Student_18",
            "Student_19",
            "Student_20"
           ],
           [
            8,
            3,
            1,
            14,
            17,
            8,
            9,
            12,
            0,
            16,
            3,
            11,
            4,
            6,
            6,
            7,
            3,
            7,
            16,
            11
           ],
           [
            5,
            8,
            6,
            4,
            0,
            1,
            10,
            15,
            5,
            19,
            4,
            15,
            5,
            19,
            17,
            1,
            5,
            19,
            1,
            4
           ],
           [
            5,
            7,
            4,
            1,
            12,
            17,
            18,
            10,
            9,
            17,
            4,
            2,
            9,
            17,
            1,
            5,
            16,
            0,
            5,
            18
           ]
          ]
         },
         "header": {
          "align": "center",
          "fill": {
           "color": "#C2D4FF"
          },
          "values": [
           "Students",
           "Hits",
           "Readings",
           "Posts"
          ]
         },
         "type": "table",
         "uid": "4cef1204-e29a-11e8-9490-d5f4ba98b039"
        }
       ],
       "layout": {}
      },
      "text/html": [
       "<div id=\"cf7b654f-43bc-45db-b051-bc4866fd57f5\" style=\"height: 525px; width: 100%;\" class=\"plotly-graph-div\"></div><script type=\"text/javascript\">require([\"plotly\"], function(Plotly) { window.PLOTLYENV=window.PLOTLYENV || {};window.PLOTLYENV.BASE_URL=\"https://plot.ly\";Plotly.newPlot(\"cf7b654f-43bc-45db-b051-bc4866fd57f5\", [{\"cells\": {\"align\": [\"left\", \"center\"], \"fill\": {\"color\": \"#F5F8FF\"}, \"values\": [[\"Student_1\", \"Student_2\", \"Student_3\", \"Student_4\", \"Student_5\", \"Student_6\", \"Student_7\", \"Student_8\", \"Student_9\", \"Student_10\", \"Student_11\", \"Student_12\", \"Student_13\", \"Student_14\", \"Student_15\", \"Student_16\", \"Student_17\", \"Student_18\", \"Student_19\", \"Student_20\"], [8, 3, 1, 14, 17, 8, 9, 12, 0, 16, 3, 11, 4, 6, 6, 7, 3, 7, 16, 11], [5, 8, 6, 4, 0, 1, 10, 15, 5, 19, 4, 15, 5, 19, 17, 1, 5, 19, 1, 4], [5, 7, 4, 1, 12, 17, 18, 10, 9, 17, 4, 2, 9, 17, 1, 5, 16, 0, 5, 18]]}, \"header\": {\"align\": \"center\", \"fill\": {\"color\": \"#C2D4FF\"}, \"values\": [\"Students\", \"Hits\", \"Readings\", \"Posts\"]}, \"type\": \"table\", \"uid\": \"4cf167ac-e29a-11e8-9490-d5f4ba98b039\"}], {}, {\"showLink\": true, \"linkText\": \"Export to plot.ly\"})});</script>"
      ],
      "text/vnd.plotly.v1+html": [
       "<div id=\"cf7b654f-43bc-45db-b051-bc4866fd57f5\" style=\"height: 525px; width: 100%;\" class=\"plotly-graph-div\"></div><script type=\"text/javascript\">require([\"plotly\"], function(Plotly) { window.PLOTLYENV=window.PLOTLYENV || {};window.PLOTLYENV.BASE_URL=\"https://plot.ly\";Plotly.newPlot(\"cf7b654f-43bc-45db-b051-bc4866fd57f5\", [{\"cells\": {\"align\": [\"left\", \"center\"], \"fill\": {\"color\": \"#F5F8FF\"}, \"values\": [[\"Student_1\", \"Student_2\", \"Student_3\", \"Student_4\", \"Student_5\", \"Student_6\", \"Student_7\", \"Student_8\", \"Student_9\", \"Student_10\", \"Student_11\", \"Student_12\", \"Student_13\", \"Student_14\", \"Student_15\", \"Student_16\", \"Student_17\", \"Student_18\", \"Student_19\", \"Student_20\"], [8, 3, 1, 14, 17, 8, 9, 12, 0, 16, 3, 11, 4, 6, 6, 7, 3, 7, 16, 11], [5, 8, 6, 4, 0, 1, 10, 15, 5, 19, 4, 15, 5, 19, 17, 1, 5, 19, 1, 4], [5, 7, 4, 1, 12, 17, 18, 10, 9, 17, 4, 2, 9, 17, 1, 5, 16, 0, 5, 18]]}, \"header\": {\"align\": \"center\", \"fill\": {\"color\": \"#C2D4FF\"}, \"values\": [\"Students\", \"Hits\", \"Readings\", \"Posts\"]}, \"type\": \"table\", \"uid\": \"4cf167ac-e29a-11e8-9490-d5f4ba98b039\"}], {}, {\"showLink\": true, \"linkText\": \"Export to plot.ly\"})});</script>"
      ]
     },
     "metadata": {},
     "output_type": "display_data"
    },
    {
     "data": {
      "application/vnd.plotly.v1+json": {
       "data": [
        {
         "name": "Hits",
         "type": "bar",
         "uid": "4cf7ecf8-e29a-11e8-9490-d5f4ba98b039",
         "x": [
          "Student_1",
          "Student_2",
          "Student_3",
          "Student_4",
          "Student_5",
          "Student_6",
          "Student_7",
          "Student_8",
          "Student_9",
          "Student_10",
          "Student_11",
          "Student_12",
          "Student_13",
          "Student_14",
          "Student_15",
          "Student_16",
          "Student_17",
          "Student_18",
          "Student_19",
          "Student_20"
         ],
         "y": [
          8,
          3,
          1,
          14,
          17,
          8,
          9,
          12,
          0,
          16,
          3,
          11,
          4,
          6,
          6,
          7,
          3,
          7,
          16,
          11
         ]
        },
        {
         "name": "Readings",
         "type": "bar",
         "uid": "4cf7eeb0-e29a-11e8-9490-d5f4ba98b039",
         "x": [
          "Student_1",
          "Student_2",
          "Student_3",
          "Student_4",
          "Student_5",
          "Student_6",
          "Student_7",
          "Student_8",
          "Student_9",
          "Student_10",
          "Student_11",
          "Student_12",
          "Student_13",
          "Student_14",
          "Student_15",
          "Student_16",
          "Student_17",
          "Student_18",
          "Student_19",
          "Student_20"
         ],
         "y": [
          5,
          8,
          6,
          4,
          0,
          1,
          10,
          15,
          5,
          19,
          4,
          15,
          5,
          19,
          17,
          1,
          5,
          19,
          1,
          4
         ]
        },
        {
         "name": "Posts",
         "type": "bar",
         "uid": "4cf7ef96-e29a-11e8-9490-d5f4ba98b039",
         "x": [
          "Student_1",
          "Student_2",
          "Student_3",
          "Student_4",
          "Student_5",
          "Student_6",
          "Student_7",
          "Student_8",
          "Student_9",
          "Student_10",
          "Student_11",
          "Student_12",
          "Student_13",
          "Student_14",
          "Student_15",
          "Student_16",
          "Student_17",
          "Student_18",
          "Student_19",
          "Student_20"
         ],
         "y": [
          5,
          7,
          4,
          1,
          12,
          17,
          18,
          10,
          9,
          17,
          4,
          2,
          9,
          17,
          1,
          5,
          16,
          0,
          5,
          18
         ]
        }
       ],
       "layout": {
        "title": "Número de acessos a Posts, Leituras e Likes agrupados por estudante",
        "yaxis": {
         "dtick": 1,
         "exponentformat": "e",
         "gridcolor": "#bdbdbd",
         "showexponent": "all",
         "showticklabels": true,
         "tick0": 0,
         "titlefont": {
          "color": "lightgrey",
          "family": "Arial, sans-serif"
         }
        }
       }
      },
      "text/html": [
       "<div id=\"2505eb14-1dd0-492a-a835-f6eadbcf1fe3\" style=\"height: 525px; width: 100%;\" class=\"plotly-graph-div\"></div><script type=\"text/javascript\">require([\"plotly\"], function(Plotly) { window.PLOTLYENV=window.PLOTLYENV || {};window.PLOTLYENV.BASE_URL=\"https://plot.ly\";Plotly.newPlot(\"2505eb14-1dd0-492a-a835-f6eadbcf1fe3\", [{\"name\": \"Hits\", \"x\": [\"Student_1\", \"Student_2\", \"Student_3\", \"Student_4\", \"Student_5\", \"Student_6\", \"Student_7\", \"Student_8\", \"Student_9\", \"Student_10\", \"Student_11\", \"Student_12\", \"Student_13\", \"Student_14\", \"Student_15\", \"Student_16\", \"Student_17\", \"Student_18\", \"Student_19\", \"Student_20\"], \"y\": [8, 3, 1, 14, 17, 8, 9, 12, 0, 16, 3, 11, 4, 6, 6, 7, 3, 7, 16, 11], \"type\": \"bar\", \"uid\": \"4cf7ecf8-e29a-11e8-9490-d5f4ba98b039\"}, {\"name\": \"Readings\", \"x\": [\"Student_1\", \"Student_2\", \"Student_3\", \"Student_4\", \"Student_5\", \"Student_6\", \"Student_7\", \"Student_8\", \"Student_9\", \"Student_10\", \"Student_11\", \"Student_12\", \"Student_13\", \"Student_14\", \"Student_15\", \"Student_16\", \"Student_17\", \"Student_18\", \"Student_19\", \"Student_20\"], \"y\": [5, 8, 6, 4, 0, 1, 10, 15, 5, 19, 4, 15, 5, 19, 17, 1, 5, 19, 1, 4], \"type\": \"bar\", \"uid\": \"4cf7eeb0-e29a-11e8-9490-d5f4ba98b039\"}, {\"name\": \"Posts\", \"x\": [\"Student_1\", \"Student_2\", \"Student_3\", \"Student_4\", \"Student_5\", \"Student_6\", \"Student_7\", \"Student_8\", \"Student_9\", \"Student_10\", \"Student_11\", \"Student_12\", \"Student_13\", \"Student_14\", \"Student_15\", \"Student_16\", \"Student_17\", \"Student_18\", \"Student_19\", \"Student_20\"], \"y\": [5, 7, 4, 1, 12, 17, 18, 10, 9, 17, 4, 2, 9, 17, 1, 5, 16, 0, 5, 18], \"type\": \"bar\", \"uid\": \"4cf7ef96-e29a-11e8-9490-d5f4ba98b039\"}], {\"title\": \"N\\u00famero de acessos a Posts, Leituras e Likes agrupados por estudante\", \"yaxis\": {\"dtick\": 1, \"exponentformat\": \"e\", \"gridcolor\": \"#bdbdbd\", \"showexponent\": \"all\", \"showticklabels\": true, \"tick0\": 0, \"titlefont\": {\"color\": \"lightgrey\", \"family\": \"Arial, sans-serif\"}}}, {\"showLink\": true, \"linkText\": \"Export to plot.ly\"})});</script>"
      ],
      "text/vnd.plotly.v1+html": [
       "<div id=\"2505eb14-1dd0-492a-a835-f6eadbcf1fe3\" style=\"height: 525px; width: 100%;\" class=\"plotly-graph-div\"></div><script type=\"text/javascript\">require([\"plotly\"], function(Plotly) { window.PLOTLYENV=window.PLOTLYENV || {};window.PLOTLYENV.BASE_URL=\"https://plot.ly\";Plotly.newPlot(\"2505eb14-1dd0-492a-a835-f6eadbcf1fe3\", [{\"name\": \"Hits\", \"x\": [\"Student_1\", \"Student_2\", \"Student_3\", \"Student_4\", \"Student_5\", \"Student_6\", \"Student_7\", \"Student_8\", \"Student_9\", \"Student_10\", \"Student_11\", \"Student_12\", \"Student_13\", \"Student_14\", \"Student_15\", \"Student_16\", \"Student_17\", \"Student_18\", \"Student_19\", \"Student_20\"], \"y\": [8, 3, 1, 14, 17, 8, 9, 12, 0, 16, 3, 11, 4, 6, 6, 7, 3, 7, 16, 11], \"type\": \"bar\", \"uid\": \"4cf7ecf8-e29a-11e8-9490-d5f4ba98b039\"}, {\"name\": \"Readings\", \"x\": [\"Student_1\", \"Student_2\", \"Student_3\", \"Student_4\", \"Student_5\", \"Student_6\", \"Student_7\", \"Student_8\", \"Student_9\", \"Student_10\", \"Student_11\", \"Student_12\", \"Student_13\", \"Student_14\", \"Student_15\", \"Student_16\", \"Student_17\", \"Student_18\", \"Student_19\", \"Student_20\"], \"y\": [5, 8, 6, 4, 0, 1, 10, 15, 5, 19, 4, 15, 5, 19, 17, 1, 5, 19, 1, 4], \"type\": \"bar\", \"uid\": \"4cf7eeb0-e29a-11e8-9490-d5f4ba98b039\"}, {\"name\": \"Posts\", \"x\": [\"Student_1\", \"Student_2\", \"Student_3\", \"Student_4\", \"Student_5\", \"Student_6\", \"Student_7\", \"Student_8\", \"Student_9\", \"Student_10\", \"Student_11\", \"Student_12\", \"Student_13\", \"Student_14\", \"Student_15\", \"Student_16\", \"Student_17\", \"Student_18\", \"Student_19\", \"Student_20\"], \"y\": [5, 7, 4, 1, 12, 17, 18, 10, 9, 17, 4, 2, 9, 17, 1, 5, 16, 0, 5, 18], \"type\": \"bar\", \"uid\": \"4cf7ef96-e29a-11e8-9490-d5f4ba98b039\"}], {\"title\": \"N\\u00famero de acessos a Posts, Leituras e Likes agrupados por estudante\", \"yaxis\": {\"dtick\": 1, \"exponentformat\": \"e\", \"gridcolor\": \"#bdbdbd\", \"showexponent\": \"all\", \"showticklabels\": true, \"tick0\": 0, \"titlefont\": {\"color\": \"lightgrey\", \"family\": \"Arial, sans-serif\"}}}, {\"showLink\": true, \"linkText\": \"Export to plot.ly\"})});</script>"
      ]
     },
     "metadata": {},
     "output_type": "display_data"
    },
    {
     "data": {
      "application/vnd.plotly.v1+json": {
       "data": [
        {
         "name": "Hits",
         "type": "bar",
         "uid": "4cfe2aaa-e29a-11e8-9490-d5f4ba98b039",
         "x": [
          "Student_1",
          "Student_2",
          "Student_3",
          "Student_4",
          "Student_5",
          "Student_6",
          "Student_7",
          "Student_8",
          "Student_9",
          "Student_10",
          "Student_11",
          "Student_12",
          "Student_13",
          "Student_14",
          "Student_15",
          "Student_16",
          "Student_17",
          "Student_18",
          "Student_19",
          "Student_20"
         ],
         "y": [
          8,
          3,
          1,
          14,
          17,
          8,
          9,
          12,
          0,
          16,
          3,
          11,
          4,
          6,
          6,
          7,
          3,
          7,
          16,
          11
         ]
        },
        {
         "name": "Readings",
         "type": "bar",
         "uid": "4cfe2c9e-e29a-11e8-9490-d5f4ba98b039",
         "x": [
          "Student_1",
          "Student_2",
          "Student_3",
          "Student_4",
          "Student_5",
          "Student_6",
          "Student_7",
          "Student_8",
          "Student_9",
          "Student_10",
          "Student_11",
          "Student_12",
          "Student_13",
          "Student_14",
          "Student_15",
          "Student_16",
          "Student_17",
          "Student_18",
          "Student_19",
          "Student_20"
         ],
         "y": [
          5,
          8,
          6,
          4,
          0,
          1,
          10,
          15,
          5,
          19,
          4,
          15,
          5,
          19,
          17,
          1,
          5,
          19,
          1,
          4
         ]
        },
        {
         "name": "Posts",
         "type": "bar",
         "uid": "4cfe2d84-e29a-11e8-9490-d5f4ba98b039",
         "x": [
          "Student_1",
          "Student_2",
          "Student_3",
          "Student_4",
          "Student_5",
          "Student_6",
          "Student_7",
          "Student_8",
          "Student_9",
          "Student_10",
          "Student_11",
          "Student_12",
          "Student_13",
          "Student_14",
          "Student_15",
          "Student_16",
          "Student_17",
          "Student_18",
          "Student_19",
          "Student_20"
         ],
         "y": [
          5,
          7,
          4,
          1,
          12,
          17,
          18,
          10,
          9,
          17,
          4,
          2,
          9,
          17,
          1,
          5,
          16,
          0,
          5,
          18
         ]
        }
       ],
       "layout": {
        "barmode": "stack",
        "title": "Número de acessos a Posts, Leituras e Likes agrupados por estudante",
        "yaxis": {
         "dtick": 5,
         "exponentformat": "e",
         "gridcolor": "#bdbdbd",
         "showexponent": "all",
         "showticklabels": true,
         "tick0": 0,
         "titlefont": {
          "color": "lightgrey",
          "family": "Arial, sans-serif"
         }
        }
       }
      },
      "text/html": [
       "<div id=\"c36bad66-06e3-4e83-bc40-fb2380853d5d\" style=\"height: 525px; width: 100%;\" class=\"plotly-graph-div\"></div><script type=\"text/javascript\">require([\"plotly\"], function(Plotly) { window.PLOTLYENV=window.PLOTLYENV || {};window.PLOTLYENV.BASE_URL=\"https://plot.ly\";Plotly.newPlot(\"c36bad66-06e3-4e83-bc40-fb2380853d5d\", [{\"name\": \"Hits\", \"x\": [\"Student_1\", \"Student_2\", \"Student_3\", \"Student_4\", \"Student_5\", \"Student_6\", \"Student_7\", \"Student_8\", \"Student_9\", \"Student_10\", \"Student_11\", \"Student_12\", \"Student_13\", \"Student_14\", \"Student_15\", \"Student_16\", \"Student_17\", \"Student_18\", \"Student_19\", \"Student_20\"], \"y\": [8, 3, 1, 14, 17, 8, 9, 12, 0, 16, 3, 11, 4, 6, 6, 7, 3, 7, 16, 11], \"type\": \"bar\", \"uid\": \"4cfe2aaa-e29a-11e8-9490-d5f4ba98b039\"}, {\"name\": \"Readings\", \"x\": [\"Student_1\", \"Student_2\", \"Student_3\", \"Student_4\", \"Student_5\", \"Student_6\", \"Student_7\", \"Student_8\", \"Student_9\", \"Student_10\", \"Student_11\", \"Student_12\", \"Student_13\", \"Student_14\", \"Student_15\", \"Student_16\", \"Student_17\", \"Student_18\", \"Student_19\", \"Student_20\"], \"y\": [5, 8, 6, 4, 0, 1, 10, 15, 5, 19, 4, 15, 5, 19, 17, 1, 5, 19, 1, 4], \"type\": \"bar\", \"uid\": \"4cfe2c9e-e29a-11e8-9490-d5f4ba98b039\"}, {\"name\": \"Posts\", \"x\": [\"Student_1\", \"Student_2\", \"Student_3\", \"Student_4\", \"Student_5\", \"Student_6\", \"Student_7\", \"Student_8\", \"Student_9\", \"Student_10\", \"Student_11\", \"Student_12\", \"Student_13\", \"Student_14\", \"Student_15\", \"Student_16\", \"Student_17\", \"Student_18\", \"Student_19\", \"Student_20\"], \"y\": [5, 7, 4, 1, 12, 17, 18, 10, 9, 17, 4, 2, 9, 17, 1, 5, 16, 0, 5, 18], \"type\": \"bar\", \"uid\": \"4cfe2d84-e29a-11e8-9490-d5f4ba98b039\"}], {\"barmode\": \"stack\", \"title\": \"N\\u00famero de acessos a Posts, Leituras e Likes agrupados por estudante\", \"yaxis\": {\"dtick\": 5, \"exponentformat\": \"e\", \"gridcolor\": \"#bdbdbd\", \"showexponent\": \"all\", \"showticklabels\": true, \"tick0\": 0, \"titlefont\": {\"color\": \"lightgrey\", \"family\": \"Arial, sans-serif\"}}}, {\"showLink\": true, \"linkText\": \"Export to plot.ly\"})});</script>"
      ],
      "text/vnd.plotly.v1+html": [
       "<div id=\"c36bad66-06e3-4e83-bc40-fb2380853d5d\" style=\"height: 525px; width: 100%;\" class=\"plotly-graph-div\"></div><script type=\"text/javascript\">require([\"plotly\"], function(Plotly) { window.PLOTLYENV=window.PLOTLYENV || {};window.PLOTLYENV.BASE_URL=\"https://plot.ly\";Plotly.newPlot(\"c36bad66-06e3-4e83-bc40-fb2380853d5d\", [{\"name\": \"Hits\", \"x\": [\"Student_1\", \"Student_2\", \"Student_3\", \"Student_4\", \"Student_5\", \"Student_6\", \"Student_7\", \"Student_8\", \"Student_9\", \"Student_10\", \"Student_11\", \"Student_12\", \"Student_13\", \"Student_14\", \"Student_15\", \"Student_16\", \"Student_17\", \"Student_18\", \"Student_19\", \"Student_20\"], \"y\": [8, 3, 1, 14, 17, 8, 9, 12, 0, 16, 3, 11, 4, 6, 6, 7, 3, 7, 16, 11], \"type\": \"bar\", \"uid\": \"4cfe2aaa-e29a-11e8-9490-d5f4ba98b039\"}, {\"name\": \"Readings\", \"x\": [\"Student_1\", \"Student_2\", \"Student_3\", \"Student_4\", \"Student_5\", \"Student_6\", \"Student_7\", \"Student_8\", \"Student_9\", \"Student_10\", \"Student_11\", \"Student_12\", \"Student_13\", \"Student_14\", \"Student_15\", \"Student_16\", \"Student_17\", \"Student_18\", \"Student_19\", \"Student_20\"], \"y\": [5, 8, 6, 4, 0, 1, 10, 15, 5, 19, 4, 15, 5, 19, 17, 1, 5, 19, 1, 4], \"type\": \"bar\", \"uid\": \"4cfe2c9e-e29a-11e8-9490-d5f4ba98b039\"}, {\"name\": \"Posts\", \"x\": [\"Student_1\", \"Student_2\", \"Student_3\", \"Student_4\", \"Student_5\", \"Student_6\", \"Student_7\", \"Student_8\", \"Student_9\", \"Student_10\", \"Student_11\", \"Student_12\", \"Student_13\", \"Student_14\", \"Student_15\", \"Student_16\", \"Student_17\", \"Student_18\", \"Student_19\", \"Student_20\"], \"y\": [5, 7, 4, 1, 12, 17, 18, 10, 9, 17, 4, 2, 9, 17, 1, 5, 16, 0, 5, 18], \"type\": \"bar\", \"uid\": \"4cfe2d84-e29a-11e8-9490-d5f4ba98b039\"}], {\"barmode\": \"stack\", \"title\": \"N\\u00famero de acessos a Posts, Leituras e Likes agrupados por estudante\", \"yaxis\": {\"dtick\": 5, \"exponentformat\": \"e\", \"gridcolor\": \"#bdbdbd\", \"showexponent\": \"all\", \"showticklabels\": true, \"tick0\": 0, \"titlefont\": {\"color\": \"lightgrey\", \"family\": \"Arial, sans-serif\"}}}, {\"showLink\": true, \"linkText\": \"Export to plot.ly\"})});</script>"
      ]
     },
     "metadata": {},
     "output_type": "display_data"
    },
    {
     "data": {
      "application/vnd.plotly.v1+json": {
       "data": [
        {
         "name": "Hits",
         "orientation": "h",
         "type": "bar",
         "uid": "4d03f62e-e29a-11e8-9490-d5f4ba98b039",
         "x": [
          8,
          3,
          1,
          14,
          17,
          8,
          9,
          12,
          0,
          16,
          3,
          11,
          4,
          6,
          6,
          7,
          3,
          7,
          16,
          11
         ],
         "y": [
          "Student_1",
          "Student_2",
          "Student_3",
          "Student_4",
          "Student_5",
          "Student_6",
          "Student_7",
          "Student_8",
          "Student_9",
          "Student_10",
          "Student_11",
          "Student_12",
          "Student_13",
          "Student_14",
          "Student_15",
          "Student_16",
          "Student_17",
          "Student_18",
          "Student_19",
          "Student_20"
         ]
        },
        {
         "name": "Readings",
         "orientation": "h",
         "type": "bar",
         "uid": "4d03f7e6-e29a-11e8-9490-d5f4ba98b039",
         "x": [
          5,
          8,
          6,
          4,
          0,
          1,
          10,
          15,
          5,
          19,
          4,
          15,
          5,
          19,
          17,
          1,
          5,
          19,
          1,
          4
         ],
         "y": [
          "Student_1",
          "Student_2",
          "Student_3",
          "Student_4",
          "Student_5",
          "Student_6",
          "Student_7",
          "Student_8",
          "Student_9",
          "Student_10",
          "Student_11",
          "Student_12",
          "Student_13",
          "Student_14",
          "Student_15",
          "Student_16",
          "Student_17",
          "Student_18",
          "Student_19",
          "Student_20"
         ]
        },
        {
         "name": "Posts",
         "orientation": "h",
         "type": "bar",
         "uid": "4d03f8e0-e29a-11e8-9490-d5f4ba98b039",
         "x": [
          5,
          7,
          4,
          1,
          12,
          17,
          18,
          10,
          9,
          17,
          4,
          2,
          9,
          17,
          1,
          5,
          16,
          0,
          5,
          18
         ],
         "y": [
          "Student_1",
          "Student_2",
          "Student_3",
          "Student_4",
          "Student_5",
          "Student_6",
          "Student_7",
          "Student_8",
          "Student_9",
          "Student_10",
          "Student_11",
          "Student_12",
          "Student_13",
          "Student_14",
          "Student_15",
          "Student_16",
          "Student_17",
          "Student_18",
          "Student_19",
          "Student_20"
         ]
        }
       ],
       "layout": {
        "barmode": "stack",
        "title": "Número de acessos a Posts, Leituras e Likes agrupados por estudante",
        "yaxis": {
         "dtick": 1,
         "exponentformat": "e",
         "gridcolor": "#bdbdbd",
         "showexponent": "all",
         "showticklabels": true,
         "tick0": 0,
         "titlefont": {
          "color": "lightgrey",
          "family": "Arial, sans-serif"
         }
        }
       }
      },
      "text/html": [
       "<div id=\"c8b92be6-1d3f-498b-b109-7fe970876da3\" style=\"height: 525px; width: 100%;\" class=\"plotly-graph-div\"></div><script type=\"text/javascript\">require([\"plotly\"], function(Plotly) { window.PLOTLYENV=window.PLOTLYENV || {};window.PLOTLYENV.BASE_URL=\"https://plot.ly\";Plotly.newPlot(\"c8b92be6-1d3f-498b-b109-7fe970876da3\", [{\"name\": \"Hits\", \"orientation\": \"h\", \"x\": [8, 3, 1, 14, 17, 8, 9, 12, 0, 16, 3, 11, 4, 6, 6, 7, 3, 7, 16, 11], \"y\": [\"Student_1\", \"Student_2\", \"Student_3\", \"Student_4\", \"Student_5\", \"Student_6\", \"Student_7\", \"Student_8\", \"Student_9\", \"Student_10\", \"Student_11\", \"Student_12\", \"Student_13\", \"Student_14\", \"Student_15\", \"Student_16\", \"Student_17\", \"Student_18\", \"Student_19\", \"Student_20\"], \"type\": \"bar\", \"uid\": \"4d03f62e-e29a-11e8-9490-d5f4ba98b039\"}, {\"name\": \"Readings\", \"orientation\": \"h\", \"x\": [5, 8, 6, 4, 0, 1, 10, 15, 5, 19, 4, 15, 5, 19, 17, 1, 5, 19, 1, 4], \"y\": [\"Student_1\", \"Student_2\", \"Student_3\", \"Student_4\", \"Student_5\", \"Student_6\", \"Student_7\", \"Student_8\", \"Student_9\", \"Student_10\", \"Student_11\", \"Student_12\", \"Student_13\", \"Student_14\", \"Student_15\", \"Student_16\", \"Student_17\", \"Student_18\", \"Student_19\", \"Student_20\"], \"type\": \"bar\", \"uid\": \"4d03f7e6-e29a-11e8-9490-d5f4ba98b039\"}, {\"name\": \"Posts\", \"orientation\": \"h\", \"x\": [5, 7, 4, 1, 12, 17, 18, 10, 9, 17, 4, 2, 9, 17, 1, 5, 16, 0, 5, 18], \"y\": [\"Student_1\", \"Student_2\", \"Student_3\", \"Student_4\", \"Student_5\", \"Student_6\", \"Student_7\", \"Student_8\", \"Student_9\", \"Student_10\", \"Student_11\", \"Student_12\", \"Student_13\", \"Student_14\", \"Student_15\", \"Student_16\", \"Student_17\", \"Student_18\", \"Student_19\", \"Student_20\"], \"type\": \"bar\", \"uid\": \"4d03f8e0-e29a-11e8-9490-d5f4ba98b039\"}], {\"barmode\": \"stack\", \"title\": \"N\\u00famero de acessos a Posts, Leituras e Likes agrupados por estudante\", \"yaxis\": {\"dtick\": 1, \"exponentformat\": \"e\", \"gridcolor\": \"#bdbdbd\", \"showexponent\": \"all\", \"showticklabels\": true, \"tick0\": 0, \"titlefont\": {\"color\": \"lightgrey\", \"family\": \"Arial, sans-serif\"}}}, {\"showLink\": true, \"linkText\": \"Export to plot.ly\"})});</script>"
      ],
      "text/vnd.plotly.v1+html": [
       "<div id=\"c8b92be6-1d3f-498b-b109-7fe970876da3\" style=\"height: 525px; width: 100%;\" class=\"plotly-graph-div\"></div><script type=\"text/javascript\">require([\"plotly\"], function(Plotly) { window.PLOTLYENV=window.PLOTLYENV || {};window.PLOTLYENV.BASE_URL=\"https://plot.ly\";Plotly.newPlot(\"c8b92be6-1d3f-498b-b109-7fe970876da3\", [{\"name\": \"Hits\", \"orientation\": \"h\", \"x\": [8, 3, 1, 14, 17, 8, 9, 12, 0, 16, 3, 11, 4, 6, 6, 7, 3, 7, 16, 11], \"y\": [\"Student_1\", \"Student_2\", \"Student_3\", \"Student_4\", \"Student_5\", \"Student_6\", \"Student_7\", \"Student_8\", \"Student_9\", \"Student_10\", \"Student_11\", \"Student_12\", \"Student_13\", \"Student_14\", \"Student_15\", \"Student_16\", \"Student_17\", \"Student_18\", \"Student_19\", \"Student_20\"], \"type\": \"bar\", \"uid\": \"4d03f62e-e29a-11e8-9490-d5f4ba98b039\"}, {\"name\": \"Readings\", \"orientation\": \"h\", \"x\": [5, 8, 6, 4, 0, 1, 10, 15, 5, 19, 4, 15, 5, 19, 17, 1, 5, 19, 1, 4], \"y\": [\"Student_1\", \"Student_2\", \"Student_3\", \"Student_4\", \"Student_5\", \"Student_6\", \"Student_7\", \"Student_8\", \"Student_9\", \"Student_10\", \"Student_11\", \"Student_12\", \"Student_13\", \"Student_14\", \"Student_15\", \"Student_16\", \"Student_17\", \"Student_18\", \"Student_19\", \"Student_20\"], \"type\": \"bar\", \"uid\": \"4d03f7e6-e29a-11e8-9490-d5f4ba98b039\"}, {\"name\": \"Posts\", \"orientation\": \"h\", \"x\": [5, 7, 4, 1, 12, 17, 18, 10, 9, 17, 4, 2, 9, 17, 1, 5, 16, 0, 5, 18], \"y\": [\"Student_1\", \"Student_2\", \"Student_3\", \"Student_4\", \"Student_5\", \"Student_6\", \"Student_7\", \"Student_8\", \"Student_9\", \"Student_10\", \"Student_11\", \"Student_12\", \"Student_13\", \"Student_14\", \"Student_15\", \"Student_16\", \"Student_17\", \"Student_18\", \"Student_19\", \"Student_20\"], \"type\": \"bar\", \"uid\": \"4d03f8e0-e29a-11e8-9490-d5f4ba98b039\"}], {\"barmode\": \"stack\", \"title\": \"N\\u00famero de acessos a Posts, Leituras e Likes agrupados por estudante\", \"yaxis\": {\"dtick\": 1, \"exponentformat\": \"e\", \"gridcolor\": \"#bdbdbd\", \"showexponent\": \"all\", \"showticklabels\": true, \"tick0\": 0, \"titlefont\": {\"color\": \"lightgrey\", \"family\": \"Arial, sans-serif\"}}}, {\"showLink\": true, \"linkText\": \"Export to plot.ly\"})});</script>"
      ]
     },
     "metadata": {},
     "output_type": "display_data"
    },
    {
     "data": {
      "application/vnd.plotly.v1+json": {
       "data": [
        {
         "marker": {
          "line": {
           "width": 2
          },
          "size": [
           8,
           5,
           5
          ],
          "sizemode": "area",
          "sizeref": 0.10526315789473684,
          "symbol": "circle"
         },
         "mode": "markers",
         "name": "Student_1",
         "text": [
          "8",
          "5",
          "5"
         ],
         "type": "scatter",
         "uid": "4d180042-e29a-11e8-9490-d5f4ba98b039",
         "x": [
          "Student_1",
          "Student_1",
          "Student_1",
          "Student_1"
         ],
         "y": [
          "Hits",
          "Readings",
          "Posts"
         ]
        },
        {
         "marker": {
          "line": {
           "width": 2
          },
          "size": [
           3,
           8,
           7
          ],
          "sizemode": "area",
          "sizeref": 0.10526315789473684,
          "symbol": "circle"
         },
         "mode": "markers",
         "name": "Student_2",
         "text": [
          "3",
          "8",
          "7"
         ],
         "type": "scatter",
         "uid": "4d1801f0-e29a-11e8-9490-d5f4ba98b039",
         "x": [
          "Student_2",
          "Student_2",
          "Student_2",
          "Student_2"
         ],
         "y": [
          "Hits",
          "Readings",
          "Posts"
         ]
        },
        {
         "marker": {
          "line": {
           "width": 2
          },
          "size": [
           1,
           6,
           4
          ],
          "sizemode": "area",
          "sizeref": 0.10526315789473684,
          "symbol": "circle"
         },
         "mode": "markers",
         "name": "Student_3",
         "text": [
          "1",
          "6",
          "4"
         ],
         "type": "scatter",
         "uid": "4d1802b8-e29a-11e8-9490-d5f4ba98b039",
         "x": [
          "Student_3",
          "Student_3",
          "Student_3",
          "Student_3"
         ],
         "y": [
          "Hits",
          "Readings",
          "Posts"
         ]
        },
        {
         "marker": {
          "line": {
           "width": 2
          },
          "size": [
           14,
           4,
           1
          ],
          "sizemode": "area",
          "sizeref": 0.10526315789473684,
          "symbol": "circle"
         },
         "mode": "markers",
         "name": "Student_4",
         "text": [
          "14",
          "4",
          "1"
         ],
         "type": "scatter",
         "uid": "4d180362-e29a-11e8-9490-d5f4ba98b039",
         "x": [
          "Student_4",
          "Student_4",
          "Student_4",
          "Student_4"
         ],
         "y": [
          "Hits",
          "Readings",
          "Posts"
         ]
        },
        {
         "marker": {
          "line": {
           "width": 2
          },
          "size": [
           17,
           0,
           12
          ],
          "sizemode": "area",
          "sizeref": 0.10526315789473684,
          "symbol": "circle"
         },
         "mode": "markers",
         "name": "Student_5",
         "text": [
          "17",
          "0",
          "12"
         ],
         "type": "scatter",
         "uid": "4d1803f8-e29a-11e8-9490-d5f4ba98b039",
         "x": [
          "Student_5",
          "Student_5",
          "Student_5",
          "Student_5"
         ],
         "y": [
          "Hits",
          "Readings",
          "Posts"
         ]
        },
        {
         "marker": {
          "line": {
           "width": 2
          },
          "size": [
           8,
           1,
           17
          ],
          "sizemode": "area",
          "sizeref": 0.10526315789473684,
          "symbol": "circle"
         },
         "mode": "markers",
         "name": "Student_6",
         "text": [
          "8",
          "1",
          "17"
         ],
         "type": "scatter",
         "uid": "4d180484-e29a-11e8-9490-d5f4ba98b039",
         "x": [
          "Student_6",
          "Student_6",
          "Student_6",
          "Student_6"
         ],
         "y": [
          "Hits",
          "Readings",
          "Posts"
         ]
        },
        {
         "marker": {
          "line": {
           "width": 2
          },
          "size": [
           9,
           10,
           18
          ],
          "sizemode": "area",
          "sizeref": 0.10526315789473684,
          "symbol": "circle"
         },
         "mode": "markers",
         "name": "Student_7",
         "text": [
          "9",
          "10",
          "18"
         ],
         "type": "scatter",
         "uid": "4d180510-e29a-11e8-9490-d5f4ba98b039",
         "x": [
          "Student_7",
          "Student_7",
          "Student_7",
          "Student_7"
         ],
         "y": [
          "Hits",
          "Readings",
          "Posts"
         ]
        },
        {
         "marker": {
          "line": {
           "width": 2
          },
          "size": [
           12,
           15,
           10
          ],
          "sizemode": "area",
          "sizeref": 0.10526315789473684,
          "symbol": "circle"
         },
         "mode": "markers",
         "name": "Student_8",
         "text": [
          "12",
          "15",
          "10"
         ],
         "type": "scatter",
         "uid": "4d180592-e29a-11e8-9490-d5f4ba98b039",
         "x": [
          "Student_8",
          "Student_8",
          "Student_8",
          "Student_8"
         ],
         "y": [
          "Hits",
          "Readings",
          "Posts"
         ]
        },
        {
         "marker": {
          "line": {
           "width": 2
          },
          "size": [
           0,
           5,
           9
          ],
          "sizemode": "area",
          "sizeref": 0.10526315789473684,
          "symbol": "circle"
         },
         "mode": "markers",
         "name": "Student_9",
         "text": [
          "0",
          "5",
          "9"
         ],
         "type": "scatter",
         "uid": "4d18061e-e29a-11e8-9490-d5f4ba98b039",
         "x": [
          "Student_9",
          "Student_9",
          "Student_9",
          "Student_9"
         ],
         "y": [
          "Hits",
          "Readings",
          "Posts"
         ]
        },
        {
         "marker": {
          "line": {
           "width": 2
          },
          "size": [
           16,
           19,
           17
          ],
          "sizemode": "area",
          "sizeref": 0.10526315789473684,
          "symbol": "circle"
         },
         "mode": "markers",
         "name": "Student_10",
         "text": [
          "16",
          "19",
          "17"
         ],
         "type": "scatter",
         "uid": "4d1806a0-e29a-11e8-9490-d5f4ba98b039",
         "x": [
          "Student_10",
          "Student_10",
          "Student_10",
          "Student_10"
         ],
         "y": [
          "Hits",
          "Readings",
          "Posts"
         ]
        },
        {
         "marker": {
          "line": {
           "width": 2
          },
          "size": [
           3,
           4,
           4
          ],
          "sizemode": "area",
          "sizeref": 0.10526315789473684,
          "symbol": "circle"
         },
         "mode": "markers",
         "name": "Student_11",
         "text": [
          "3",
          "4",
          "4"
         ],
         "type": "scatter",
         "uid": "4d18072c-e29a-11e8-9490-d5f4ba98b039",
         "x": [
          "Student_11",
          "Student_11",
          "Student_11",
          "Student_11"
         ],
         "y": [
          "Hits",
          "Readings",
          "Posts"
         ]
        },
        {
         "marker": {
          "line": {
           "width": 2
          },
          "size": [
           11,
           15,
           2
          ],
          "sizemode": "area",
          "sizeref": 0.10526315789473684,
          "symbol": "circle"
         },
         "mode": "markers",
         "name": "Student_12",
         "text": [
          "11",
          "15",
          "2"
         ],
         "type": "scatter",
         "uid": "4d1807ae-e29a-11e8-9490-d5f4ba98b039",
         "x": [
          "Student_12",
          "Student_12",
          "Student_12",
          "Student_12"
         ],
         "y": [
          "Hits",
          "Readings",
          "Posts"
         ]
        },
        {
         "marker": {
          "line": {
           "width": 2
          },
          "size": [
           4,
           5,
           9
          ],
          "sizemode": "area",
          "sizeref": 0.10526315789473684,
          "symbol": "circle"
         },
         "mode": "markers",
         "name": "Student_13",
         "text": [
          "4",
          "5",
          "9"
         ],
         "type": "scatter",
         "uid": "4d18083a-e29a-11e8-9490-d5f4ba98b039",
         "x": [
          "Student_13",
          "Student_13",
          "Student_13",
          "Student_13"
         ],
         "y": [
          "Hits",
          "Readings",
          "Posts"
         ]
        },
        {
         "marker": {
          "line": {
           "width": 2
          },
          "size": [
           6,
           19,
           17
          ],
          "sizemode": "area",
          "sizeref": 0.10526315789473684,
          "symbol": "circle"
         },
         "mode": "markers",
         "name": "Student_14",
         "text": [
          "6",
          "19",
          "17"
         ],
         "type": "scatter",
         "uid": "4d1808c6-e29a-11e8-9490-d5f4ba98b039",
         "x": [
          "Student_14",
          "Student_14",
          "Student_14",
          "Student_14"
         ],
         "y": [
          "Hits",
          "Readings",
          "Posts"
         ]
        },
        {
         "marker": {
          "line": {
           "width": 2
          },
          "size": [
           6,
           17,
           1
          ],
          "sizemode": "area",
          "sizeref": 0.10526315789473684,
          "symbol": "circle"
         },
         "mode": "markers",
         "name": "Student_15",
         "text": [
          "6",
          "17",
          "1"
         ],
         "type": "scatter",
         "uid": "4d180948-e29a-11e8-9490-d5f4ba98b039",
         "x": [
          "Student_15",
          "Student_15",
          "Student_15",
          "Student_15"
         ],
         "y": [
          "Hits",
          "Readings",
          "Posts"
         ]
        },
        {
         "marker": {
          "line": {
           "width": 2
          },
          "size": [
           7,
           1,
           5
          ],
          "sizemode": "area",
          "sizeref": 0.10526315789473684,
          "symbol": "circle"
         },
         "mode": "markers",
         "name": "Student_16",
         "text": [
          "7",
          "1",
          "5"
         ],
         "type": "scatter",
         "uid": "4d1809ca-e29a-11e8-9490-d5f4ba98b039",
         "x": [
          "Student_16",
          "Student_16",
          "Student_16",
          "Student_16"
         ],
         "y": [
          "Hits",
          "Readings",
          "Posts"
         ]
        },
        {
         "marker": {
          "line": {
           "width": 2
          },
          "size": [
           3,
           5,
           16
          ],
          "sizemode": "area",
          "sizeref": 0.10526315789473684,
          "symbol": "circle"
         },
         "mode": "markers",
         "name": "Student_17",
         "text": [
          "3",
          "5",
          "16"
         ],
         "type": "scatter",
         "uid": "4d180a4c-e29a-11e8-9490-d5f4ba98b039",
         "x": [
          "Student_17",
          "Student_17",
          "Student_17",
          "Student_17"
         ],
         "y": [
          "Hits",
          "Readings",
          "Posts"
         ]
        },
        {
         "marker": {
          "line": {
           "width": 2
          },
          "size": [
           7,
           19,
           0
          ],
          "sizemode": "area",
          "sizeref": 0.10526315789473684,
          "symbol": "circle"
         },
         "mode": "markers",
         "name": "Student_18",
         "text": [
          "7",
          "19",
          "0"
         ],
         "type": "scatter",
         "uid": "4d180ace-e29a-11e8-9490-d5f4ba98b039",
         "x": [
          "Student_18",
          "Student_18",
          "Student_18",
          "Student_18"
         ],
         "y": [
          "Hits",
          "Readings",
          "Posts"
         ]
        },
        {
         "marker": {
          "line": {
           "width": 2
          },
          "size": [
           16,
           1,
           5
          ],
          "sizemode": "area",
          "sizeref": 0.10526315789473684,
          "symbol": "circle"
         },
         "mode": "markers",
         "name": "Student_19",
         "text": [
          "16",
          "1",
          "5"
         ],
         "type": "scatter",
         "uid": "4d180b46-e29a-11e8-9490-d5f4ba98b039",
         "x": [
          "Student_19",
          "Student_19",
          "Student_19",
          "Student_19"
         ],
         "y": [
          "Hits",
          "Readings",
          "Posts"
         ]
        },
        {
         "marker": {
          "line": {
           "width": 2
          },
          "size": [
           11,
           4,
           18
          ],
          "sizemode": "area",
          "sizeref": 0.10526315789473684,
          "symbol": "circle"
         },
         "mode": "markers",
         "name": "Student_20",
         "text": [
          "11",
          "4",
          "18"
         ],
         "type": "scatter",
         "uid": "4d180bbe-e29a-11e8-9490-d5f4ba98b039",
         "x": [
          "Student_20",
          "Student_20",
          "Student_20",
          "Student_20"
         ],
         "y": [
          "Hits",
          "Readings",
          "Posts"
         ]
        }
       ],
       "layout": {
        "hovermode": "closest",
        "showlegend": true,
        "title": "Número de acessos a Posts, Leituras e Likes por estudante",
        "xaxis": {
         "autorange": false,
         "fixedrange": false,
         "range": [
          -1,
          20
         ],
         "rangemode": "normal",
         "showline": true,
         "title": "Estudantes",
         "type": "category"
        },
        "yaxis": {
         "autorange": false,
         "categoryorder": "category ascending",
         "fixedrange": false,
         "range": [
          -1,
          3
         ],
         "rangemode": "normal",
         "showline": true,
         "type": "category"
        }
       }
      },
      "text/html": [
       "<div id=\"f6573b09-9d1d-4f11-9ad2-250fa2d83bbf\" style=\"height: 525px; width: 100%;\" class=\"plotly-graph-div\"></div><script type=\"text/javascript\">require([\"plotly\"], function(Plotly) { window.PLOTLYENV=window.PLOTLYENV || {};window.PLOTLYENV.BASE_URL=\"https://plot.ly\";Plotly.newPlot(\"f6573b09-9d1d-4f11-9ad2-250fa2d83bbf\", [{\"marker\": {\"line\": {\"width\": 2}, \"size\": [8, 5, 5], \"sizemode\": \"area\", \"sizeref\": 0.10526315789473684, \"symbol\": \"circle\"}, \"mode\": \"markers\", \"name\": \"Student_1\", \"text\": [\"8\", \"5\", \"5\"], \"x\": [\"Student_1\", \"Student_1\", \"Student_1\", \"Student_1\"], \"y\": [\"Hits\", \"Readings\", \"Posts\"], \"type\": \"scatter\", \"uid\": \"4d180042-e29a-11e8-9490-d5f4ba98b039\"}, {\"marker\": {\"line\": {\"width\": 2}, \"size\": [3, 8, 7], \"sizemode\": \"area\", \"sizeref\": 0.10526315789473684, \"symbol\": \"circle\"}, \"mode\": \"markers\", \"name\": \"Student_2\", \"text\": [\"3\", \"8\", \"7\"], \"x\": [\"Student_2\", \"Student_2\", \"Student_2\", \"Student_2\"], \"y\": [\"Hits\", \"Readings\", \"Posts\"], \"type\": \"scatter\", \"uid\": \"4d1801f0-e29a-11e8-9490-d5f4ba98b039\"}, {\"marker\": {\"line\": {\"width\": 2}, \"size\": [1, 6, 4], \"sizemode\": \"area\", \"sizeref\": 0.10526315789473684, \"symbol\": \"circle\"}, \"mode\": \"markers\", \"name\": \"Student_3\", \"text\": [\"1\", \"6\", \"4\"], \"x\": [\"Student_3\", \"Student_3\", \"Student_3\", \"Student_3\"], \"y\": [\"Hits\", \"Readings\", \"Posts\"], \"type\": \"scatter\", \"uid\": \"4d1802b8-e29a-11e8-9490-d5f4ba98b039\"}, {\"marker\": {\"line\": {\"width\": 2}, \"size\": [14, 4, 1], \"sizemode\": \"area\", \"sizeref\": 0.10526315789473684, \"symbol\": \"circle\"}, \"mode\": \"markers\", \"name\": \"Student_4\", \"text\": [\"14\", \"4\", \"1\"], \"x\": [\"Student_4\", \"Student_4\", \"Student_4\", \"Student_4\"], \"y\": [\"Hits\", \"Readings\", \"Posts\"], \"type\": \"scatter\", \"uid\": \"4d180362-e29a-11e8-9490-d5f4ba98b039\"}, {\"marker\": {\"line\": {\"width\": 2}, \"size\": [17, 0, 12], \"sizemode\": \"area\", \"sizeref\": 0.10526315789473684, \"symbol\": \"circle\"}, \"mode\": \"markers\", \"name\": \"Student_5\", \"text\": [\"17\", \"0\", \"12\"], \"x\": [\"Student_5\", \"Student_5\", \"Student_5\", \"Student_5\"], \"y\": [\"Hits\", \"Readings\", \"Posts\"], \"type\": \"scatter\", \"uid\": \"4d1803f8-e29a-11e8-9490-d5f4ba98b039\"}, {\"marker\": {\"line\": {\"width\": 2}, \"size\": [8, 1, 17], \"sizemode\": \"area\", \"sizeref\": 0.10526315789473684, \"symbol\": \"circle\"}, \"mode\": \"markers\", \"name\": \"Student_6\", \"text\": [\"8\", \"1\", \"17\"], \"x\": [\"Student_6\", \"Student_6\", \"Student_6\", \"Student_6\"], \"y\": [\"Hits\", \"Readings\", \"Posts\"], \"type\": \"scatter\", \"uid\": \"4d180484-e29a-11e8-9490-d5f4ba98b039\"}, {\"marker\": {\"line\": {\"width\": 2}, \"size\": [9, 10, 18], \"sizemode\": \"area\", \"sizeref\": 0.10526315789473684, \"symbol\": \"circle\"}, \"mode\": \"markers\", \"name\": \"Student_7\", \"text\": [\"9\", \"10\", \"18\"], \"x\": [\"Student_7\", \"Student_7\", \"Student_7\", \"Student_7\"], \"y\": [\"Hits\", \"Readings\", \"Posts\"], \"type\": \"scatter\", \"uid\": \"4d180510-e29a-11e8-9490-d5f4ba98b039\"}, {\"marker\": {\"line\": {\"width\": 2}, \"size\": [12, 15, 10], \"sizemode\": \"area\", \"sizeref\": 0.10526315789473684, \"symbol\": \"circle\"}, \"mode\": \"markers\", \"name\": \"Student_8\", \"text\": [\"12\", \"15\", \"10\"], \"x\": [\"Student_8\", \"Student_8\", \"Student_8\", \"Student_8\"], \"y\": [\"Hits\", \"Readings\", \"Posts\"], \"type\": \"scatter\", \"uid\": \"4d180592-e29a-11e8-9490-d5f4ba98b039\"}, {\"marker\": {\"line\": {\"width\": 2}, \"size\": [0, 5, 9], \"sizemode\": \"area\", \"sizeref\": 0.10526315789473684, \"symbol\": \"circle\"}, \"mode\": \"markers\", \"name\": \"Student_9\", \"text\": [\"0\", \"5\", \"9\"], \"x\": [\"Student_9\", \"Student_9\", \"Student_9\", \"Student_9\"], \"y\": [\"Hits\", \"Readings\", \"Posts\"], \"type\": \"scatter\", \"uid\": \"4d18061e-e29a-11e8-9490-d5f4ba98b039\"}, {\"marker\": {\"line\": {\"width\": 2}, \"size\": [16, 19, 17], \"sizemode\": \"area\", \"sizeref\": 0.10526315789473684, \"symbol\": \"circle\"}, \"mode\": \"markers\", \"name\": \"Student_10\", \"text\": [\"16\", \"19\", \"17\"], \"x\": [\"Student_10\", \"Student_10\", \"Student_10\", \"Student_10\"], \"y\": [\"Hits\", \"Readings\", \"Posts\"], \"type\": \"scatter\", \"uid\": \"4d1806a0-e29a-11e8-9490-d5f4ba98b039\"}, {\"marker\": {\"line\": {\"width\": 2}, \"size\": [3, 4, 4], \"sizemode\": \"area\", \"sizeref\": 0.10526315789473684, \"symbol\": \"circle\"}, \"mode\": \"markers\", \"name\": \"Student_11\", \"text\": [\"3\", \"4\", \"4\"], \"x\": [\"Student_11\", \"Student_11\", \"Student_11\", \"Student_11\"], \"y\": [\"Hits\", \"Readings\", \"Posts\"], \"type\": \"scatter\", \"uid\": \"4d18072c-e29a-11e8-9490-d5f4ba98b039\"}, {\"marker\": {\"line\": {\"width\": 2}, \"size\": [11, 15, 2], \"sizemode\": \"area\", \"sizeref\": 0.10526315789473684, \"symbol\": \"circle\"}, \"mode\": \"markers\", \"name\": \"Student_12\", \"text\": [\"11\", \"15\", \"2\"], \"x\": [\"Student_12\", \"Student_12\", \"Student_12\", \"Student_12\"], \"y\": [\"Hits\", \"Readings\", \"Posts\"], \"type\": \"scatter\", \"uid\": \"4d1807ae-e29a-11e8-9490-d5f4ba98b039\"}, {\"marker\": {\"line\": {\"width\": 2}, \"size\": [4, 5, 9], \"sizemode\": \"area\", \"sizeref\": 0.10526315789473684, \"symbol\": \"circle\"}, \"mode\": \"markers\", \"name\": \"Student_13\", \"text\": [\"4\", \"5\", \"9\"], \"x\": [\"Student_13\", \"Student_13\", \"Student_13\", \"Student_13\"], \"y\": [\"Hits\", \"Readings\", \"Posts\"], \"type\": \"scatter\", \"uid\": \"4d18083a-e29a-11e8-9490-d5f4ba98b039\"}, {\"marker\": {\"line\": {\"width\": 2}, \"size\": [6, 19, 17], \"sizemode\": \"area\", \"sizeref\": 0.10526315789473684, \"symbol\": \"circle\"}, \"mode\": \"markers\", \"name\": \"Student_14\", \"text\": [\"6\", \"19\", \"17\"], \"x\": [\"Student_14\", \"Student_14\", \"Student_14\", \"Student_14\"], \"y\": [\"Hits\", \"Readings\", \"Posts\"], \"type\": \"scatter\", \"uid\": \"4d1808c6-e29a-11e8-9490-d5f4ba98b039\"}, {\"marker\": {\"line\": {\"width\": 2}, \"size\": [6, 17, 1], \"sizemode\": \"area\", \"sizeref\": 0.10526315789473684, \"symbol\": \"circle\"}, \"mode\": \"markers\", \"name\": \"Student_15\", \"text\": [\"6\", \"17\", \"1\"], \"x\": [\"Student_15\", \"Student_15\", \"Student_15\", \"Student_15\"], \"y\": [\"Hits\", \"Readings\", \"Posts\"], \"type\": \"scatter\", \"uid\": \"4d180948-e29a-11e8-9490-d5f4ba98b039\"}, {\"marker\": {\"line\": {\"width\": 2}, \"size\": [7, 1, 5], \"sizemode\": \"area\", \"sizeref\": 0.10526315789473684, \"symbol\": \"circle\"}, \"mode\": \"markers\", \"name\": \"Student_16\", \"text\": [\"7\", \"1\", \"5\"], \"x\": [\"Student_16\", \"Student_16\", \"Student_16\", \"Student_16\"], \"y\": [\"Hits\", \"Readings\", \"Posts\"], \"type\": \"scatter\", \"uid\": \"4d1809ca-e29a-11e8-9490-d5f4ba98b039\"}, {\"marker\": {\"line\": {\"width\": 2}, \"size\": [3, 5, 16], \"sizemode\": \"area\", \"sizeref\": 0.10526315789473684, \"symbol\": \"circle\"}, \"mode\": \"markers\", \"name\": \"Student_17\", \"text\": [\"3\", \"5\", \"16\"], \"x\": [\"Student_17\", \"Student_17\", \"Student_17\", \"Student_17\"], \"y\": [\"Hits\", \"Readings\", \"Posts\"], \"type\": \"scatter\", \"uid\": \"4d180a4c-e29a-11e8-9490-d5f4ba98b039\"}, {\"marker\": {\"line\": {\"width\": 2}, \"size\": [7, 19, 0], \"sizemode\": \"area\", \"sizeref\": 0.10526315789473684, \"symbol\": \"circle\"}, \"mode\": \"markers\", \"name\": \"Student_18\", \"text\": [\"7\", \"19\", \"0\"], \"x\": [\"Student_18\", \"Student_18\", \"Student_18\", \"Student_18\"], \"y\": [\"Hits\", \"Readings\", \"Posts\"], \"type\": \"scatter\", \"uid\": \"4d180ace-e29a-11e8-9490-d5f4ba98b039\"}, {\"marker\": {\"line\": {\"width\": 2}, \"size\": [16, 1, 5], \"sizemode\": \"area\", \"sizeref\": 0.10526315789473684, \"symbol\": \"circle\"}, \"mode\": \"markers\", \"name\": \"Student_19\", \"text\": [\"16\", \"1\", \"5\"], \"x\": [\"Student_19\", \"Student_19\", \"Student_19\", \"Student_19\"], \"y\": [\"Hits\", \"Readings\", \"Posts\"], \"type\": \"scatter\", \"uid\": \"4d180b46-e29a-11e8-9490-d5f4ba98b039\"}, {\"marker\": {\"line\": {\"width\": 2}, \"size\": [11, 4, 18], \"sizemode\": \"area\", \"sizeref\": 0.10526315789473684, \"symbol\": \"circle\"}, \"mode\": \"markers\", \"name\": \"Student_20\", \"text\": [\"11\", \"4\", \"18\"], \"x\": [\"Student_20\", \"Student_20\", \"Student_20\", \"Student_20\"], \"y\": [\"Hits\", \"Readings\", \"Posts\"], \"type\": \"scatter\", \"uid\": \"4d180bbe-e29a-11e8-9490-d5f4ba98b039\"}], {\"hovermode\": \"closest\", \"showlegend\": true, \"title\": \"N\\u00famero de acessos a Posts, Leituras e Likes por estudante\", \"xaxis\": {\"autorange\": false, \"fixedrange\": false, \"range\": [-1, 20], \"rangemode\": \"normal\", \"showline\": true, \"title\": \"Estudantes\", \"type\": \"category\"}, \"yaxis\": {\"autorange\": false, \"categoryorder\": \"category ascending\", \"fixedrange\": false, \"range\": [-1, 3], \"rangemode\": \"normal\", \"showline\": true, \"type\": \"category\"}}, {\"showLink\": true, \"linkText\": \"Export to plot.ly\"})});</script>"
      ],
      "text/vnd.plotly.v1+html": [
       "<div id=\"f6573b09-9d1d-4f11-9ad2-250fa2d83bbf\" style=\"height: 525px; width: 100%;\" class=\"plotly-graph-div\"></div><script type=\"text/javascript\">require([\"plotly\"], function(Plotly) { window.PLOTLYENV=window.PLOTLYENV || {};window.PLOTLYENV.BASE_URL=\"https://plot.ly\";Plotly.newPlot(\"f6573b09-9d1d-4f11-9ad2-250fa2d83bbf\", [{\"marker\": {\"line\": {\"width\": 2}, \"size\": [8, 5, 5], \"sizemode\": \"area\", \"sizeref\": 0.10526315789473684, \"symbol\": \"circle\"}, \"mode\": \"markers\", \"name\": \"Student_1\", \"text\": [\"8\", \"5\", \"5\"], \"x\": [\"Student_1\", \"Student_1\", \"Student_1\", \"Student_1\"], \"y\": [\"Hits\", \"Readings\", \"Posts\"], \"type\": \"scatter\", \"uid\": \"4d180042-e29a-11e8-9490-d5f4ba98b039\"}, {\"marker\": {\"line\": {\"width\": 2}, \"size\": [3, 8, 7], \"sizemode\": \"area\", \"sizeref\": 0.10526315789473684, \"symbol\": \"circle\"}, \"mode\": \"markers\", \"name\": \"Student_2\", \"text\": [\"3\", \"8\", \"7\"], \"x\": [\"Student_2\", \"Student_2\", \"Student_2\", \"Student_2\"], \"y\": [\"Hits\", \"Readings\", \"Posts\"], \"type\": \"scatter\", \"uid\": \"4d1801f0-e29a-11e8-9490-d5f4ba98b039\"}, {\"marker\": {\"line\": {\"width\": 2}, \"size\": [1, 6, 4], \"sizemode\": \"area\", \"sizeref\": 0.10526315789473684, \"symbol\": \"circle\"}, \"mode\": \"markers\", \"name\": \"Student_3\", \"text\": [\"1\", \"6\", \"4\"], \"x\": [\"Student_3\", \"Student_3\", \"Student_3\", \"Student_3\"], \"y\": [\"Hits\", \"Readings\", \"Posts\"], \"type\": \"scatter\", \"uid\": \"4d1802b8-e29a-11e8-9490-d5f4ba98b039\"}, {\"marker\": {\"line\": {\"width\": 2}, \"size\": [14, 4, 1], \"sizemode\": \"area\", \"sizeref\": 0.10526315789473684, \"symbol\": \"circle\"}, \"mode\": \"markers\", \"name\": \"Student_4\", \"text\": [\"14\", \"4\", \"1\"], \"x\": [\"Student_4\", \"Student_4\", \"Student_4\", \"Student_4\"], \"y\": [\"Hits\", \"Readings\", \"Posts\"], \"type\": \"scatter\", \"uid\": \"4d180362-e29a-11e8-9490-d5f4ba98b039\"}, {\"marker\": {\"line\": {\"width\": 2}, \"size\": [17, 0, 12], \"sizemode\": \"area\", \"sizeref\": 0.10526315789473684, \"symbol\": \"circle\"}, \"mode\": \"markers\", \"name\": \"Student_5\", \"text\": [\"17\", \"0\", \"12\"], \"x\": [\"Student_5\", \"Student_5\", \"Student_5\", \"Student_5\"], \"y\": [\"Hits\", \"Readings\", \"Posts\"], \"type\": \"scatter\", \"uid\": \"4d1803f8-e29a-11e8-9490-d5f4ba98b039\"}, {\"marker\": {\"line\": {\"width\": 2}, \"size\": [8, 1, 17], \"sizemode\": \"area\", \"sizeref\": 0.10526315789473684, \"symbol\": \"circle\"}, \"mode\": \"markers\", \"name\": \"Student_6\", \"text\": [\"8\", \"1\", \"17\"], \"x\": [\"Student_6\", \"Student_6\", \"Student_6\", \"Student_6\"], \"y\": [\"Hits\", \"Readings\", \"Posts\"], \"type\": \"scatter\", \"uid\": \"4d180484-e29a-11e8-9490-d5f4ba98b039\"}, {\"marker\": {\"line\": {\"width\": 2}, \"size\": [9, 10, 18], \"sizemode\": \"area\", \"sizeref\": 0.10526315789473684, \"symbol\": \"circle\"}, \"mode\": \"markers\", \"name\": \"Student_7\", \"text\": [\"9\", \"10\", \"18\"], \"x\": [\"Student_7\", \"Student_7\", \"Student_7\", \"Student_7\"], \"y\": [\"Hits\", \"Readings\", \"Posts\"], \"type\": \"scatter\", \"uid\": \"4d180510-e29a-11e8-9490-d5f4ba98b039\"}, {\"marker\": {\"line\": {\"width\": 2}, \"size\": [12, 15, 10], \"sizemode\": \"area\", \"sizeref\": 0.10526315789473684, \"symbol\": \"circle\"}, \"mode\": \"markers\", \"name\": \"Student_8\", \"text\": [\"12\", \"15\", \"10\"], \"x\": [\"Student_8\", \"Student_8\", \"Student_8\", \"Student_8\"], \"y\": [\"Hits\", \"Readings\", \"Posts\"], \"type\": \"scatter\", \"uid\": \"4d180592-e29a-11e8-9490-d5f4ba98b039\"}, {\"marker\": {\"line\": {\"width\": 2}, \"size\": [0, 5, 9], \"sizemode\": \"area\", \"sizeref\": 0.10526315789473684, \"symbol\": \"circle\"}, \"mode\": \"markers\", \"name\": \"Student_9\", \"text\": [\"0\", \"5\", \"9\"], \"x\": [\"Student_9\", \"Student_9\", \"Student_9\", \"Student_9\"], \"y\": [\"Hits\", \"Readings\", \"Posts\"], \"type\": \"scatter\", \"uid\": \"4d18061e-e29a-11e8-9490-d5f4ba98b039\"}, {\"marker\": {\"line\": {\"width\": 2}, \"size\": [16, 19, 17], \"sizemode\": \"area\", \"sizeref\": 0.10526315789473684, \"symbol\": \"circle\"}, \"mode\": \"markers\", \"name\": \"Student_10\", \"text\": [\"16\", \"19\", \"17\"], \"x\": [\"Student_10\", \"Student_10\", \"Student_10\", \"Student_10\"], \"y\": [\"Hits\", \"Readings\", \"Posts\"], \"type\": \"scatter\", \"uid\": \"4d1806a0-e29a-11e8-9490-d5f4ba98b039\"}, {\"marker\": {\"line\": {\"width\": 2}, \"size\": [3, 4, 4], \"sizemode\": \"area\", \"sizeref\": 0.10526315789473684, \"symbol\": \"circle\"}, \"mode\": \"markers\", \"name\": \"Student_11\", \"text\": [\"3\", \"4\", \"4\"], \"x\": [\"Student_11\", \"Student_11\", \"Student_11\", \"Student_11\"], \"y\": [\"Hits\", \"Readings\", \"Posts\"], \"type\": \"scatter\", \"uid\": \"4d18072c-e29a-11e8-9490-d5f4ba98b039\"}, {\"marker\": {\"line\": {\"width\": 2}, \"size\": [11, 15, 2], \"sizemode\": \"area\", \"sizeref\": 0.10526315789473684, \"symbol\": \"circle\"}, \"mode\": \"markers\", \"name\": \"Student_12\", \"text\": [\"11\", \"15\", \"2\"], \"x\": [\"Student_12\", \"Student_12\", \"Student_12\", \"Student_12\"], \"y\": [\"Hits\", \"Readings\", \"Posts\"], \"type\": \"scatter\", \"uid\": \"4d1807ae-e29a-11e8-9490-d5f4ba98b039\"}, {\"marker\": {\"line\": {\"width\": 2}, \"size\": [4, 5, 9], \"sizemode\": \"area\", \"sizeref\": 0.10526315789473684, \"symbol\": \"circle\"}, \"mode\": \"markers\", \"name\": \"Student_13\", \"text\": [\"4\", \"5\", \"9\"], \"x\": [\"Student_13\", \"Student_13\", \"Student_13\", \"Student_13\"], \"y\": [\"Hits\", \"Readings\", \"Posts\"], \"type\": \"scatter\", \"uid\": \"4d18083a-e29a-11e8-9490-d5f4ba98b039\"}, {\"marker\": {\"line\": {\"width\": 2}, \"size\": [6, 19, 17], \"sizemode\": \"area\", \"sizeref\": 0.10526315789473684, \"symbol\": \"circle\"}, \"mode\": \"markers\", \"name\": \"Student_14\", \"text\": [\"6\", \"19\", \"17\"], \"x\": [\"Student_14\", \"Student_14\", \"Student_14\", \"Student_14\"], \"y\": [\"Hits\", \"Readings\", \"Posts\"], \"type\": \"scatter\", \"uid\": \"4d1808c6-e29a-11e8-9490-d5f4ba98b039\"}, {\"marker\": {\"line\": {\"width\": 2}, \"size\": [6, 17, 1], \"sizemode\": \"area\", \"sizeref\": 0.10526315789473684, \"symbol\": \"circle\"}, \"mode\": \"markers\", \"name\": \"Student_15\", \"text\": [\"6\", \"17\", \"1\"], \"x\": [\"Student_15\", \"Student_15\", \"Student_15\", \"Student_15\"], \"y\": [\"Hits\", \"Readings\", \"Posts\"], \"type\": \"scatter\", \"uid\": \"4d180948-e29a-11e8-9490-d5f4ba98b039\"}, {\"marker\": {\"line\": {\"width\": 2}, \"size\": [7, 1, 5], \"sizemode\": \"area\", \"sizeref\": 0.10526315789473684, \"symbol\": \"circle\"}, \"mode\": \"markers\", \"name\": \"Student_16\", \"text\": [\"7\", \"1\", \"5\"], \"x\": [\"Student_16\", \"Student_16\", \"Student_16\", \"Student_16\"], \"y\": [\"Hits\", \"Readings\", \"Posts\"], \"type\": \"scatter\", \"uid\": \"4d1809ca-e29a-11e8-9490-d5f4ba98b039\"}, {\"marker\": {\"line\": {\"width\": 2}, \"size\": [3, 5, 16], \"sizemode\": \"area\", \"sizeref\": 0.10526315789473684, \"symbol\": \"circle\"}, \"mode\": \"markers\", \"name\": \"Student_17\", \"text\": [\"3\", \"5\", \"16\"], \"x\": [\"Student_17\", \"Student_17\", \"Student_17\", \"Student_17\"], \"y\": [\"Hits\", \"Readings\", \"Posts\"], \"type\": \"scatter\", \"uid\": \"4d180a4c-e29a-11e8-9490-d5f4ba98b039\"}, {\"marker\": {\"line\": {\"width\": 2}, \"size\": [7, 19, 0], \"sizemode\": \"area\", \"sizeref\": 0.10526315789473684, \"symbol\": \"circle\"}, \"mode\": \"markers\", \"name\": \"Student_18\", \"text\": [\"7\", \"19\", \"0\"], \"x\": [\"Student_18\", \"Student_18\", \"Student_18\", \"Student_18\"], \"y\": [\"Hits\", \"Readings\", \"Posts\"], \"type\": \"scatter\", \"uid\": \"4d180ace-e29a-11e8-9490-d5f4ba98b039\"}, {\"marker\": {\"line\": {\"width\": 2}, \"size\": [16, 1, 5], \"sizemode\": \"area\", \"sizeref\": 0.10526315789473684, \"symbol\": \"circle\"}, \"mode\": \"markers\", \"name\": \"Student_19\", \"text\": [\"16\", \"1\", \"5\"], \"x\": [\"Student_19\", \"Student_19\", \"Student_19\", \"Student_19\"], \"y\": [\"Hits\", \"Readings\", \"Posts\"], \"type\": \"scatter\", \"uid\": \"4d180b46-e29a-11e8-9490-d5f4ba98b039\"}, {\"marker\": {\"line\": {\"width\": 2}, \"size\": [11, 4, 18], \"sizemode\": \"area\", \"sizeref\": 0.10526315789473684, \"symbol\": \"circle\"}, \"mode\": \"markers\", \"name\": \"Student_20\", \"text\": [\"11\", \"4\", \"18\"], \"x\": [\"Student_20\", \"Student_20\", \"Student_20\", \"Student_20\"], \"y\": [\"Hits\", \"Readings\", \"Posts\"], \"type\": \"scatter\", \"uid\": \"4d180bbe-e29a-11e8-9490-d5f4ba98b039\"}], {\"hovermode\": \"closest\", \"showlegend\": true, \"title\": \"N\\u00famero de acessos a Posts, Leituras e Likes por estudante\", \"xaxis\": {\"autorange\": false, \"fixedrange\": false, \"range\": [-1, 20], \"rangemode\": \"normal\", \"showline\": true, \"title\": \"Estudantes\", \"type\": \"category\"}, \"yaxis\": {\"autorange\": false, \"categoryorder\": \"category ascending\", \"fixedrange\": false, \"range\": [-1, 3], \"rangemode\": \"normal\", \"showline\": true, \"type\": \"category\"}}, {\"showLink\": true, \"linkText\": \"Export to plot.ly\"})});</script>"
      ]
     },
     "metadata": {},
     "output_type": "display_data"
    },
    {
     "data": {
      "application/vnd.plotly.v1+json": {
       "data": [
        {
         "colorscale": [
          [
           0,
           "rgb(255,255,255)"
          ],
          [
           1,
           "rgb(0,0,255)"
          ]
         ],
         "type": "heatmap",
         "uid": "4d1c71e0-e29a-11e8-9490-d5f4ba98b039",
         "x": [
          "Hits",
          "Readings",
          "Posts"
         ],
         "y": [
          "Student_1",
          "Student_2",
          "Student_3",
          "Student_4",
          "Student_5",
          "Student_6",
          "Student_7",
          "Student_8",
          "Student_9",
          "Student_10",
          "Student_11",
          "Student_12",
          "Student_13",
          "Student_14",
          "Student_15",
          "Student_16",
          "Student_17",
          "Student_18",
          "Student_19",
          "Student_20"
         ],
         "z": [
          [
           8,
           5,
           5
          ],
          [
           3,
           8,
           7
          ],
          [
           1,
           6,
           4
          ],
          [
           14,
           4,
           1
          ],
          [
           17,
           0,
           12
          ],
          [
           8,
           1,
           17
          ],
          [
           9,
           10,
           18
          ],
          [
           12,
           15,
           10
          ],
          [
           0,
           5,
           9
          ],
          [
           16,
           19,
           17
          ],
          [
           3,
           4,
           4
          ],
          [
           11,
           15,
           2
          ],
          [
           4,
           5,
           9
          ],
          [
           6,
           19,
           17
          ],
          [
           6,
           17,
           1
          ],
          [
           7,
           1,
           5
          ],
          [
           3,
           5,
           16
          ],
          [
           7,
           19,
           0
          ],
          [
           16,
           1,
           5
          ],
          [
           11,
           4,
           18
          ]
         ]
        }
       ],
       "layout": {
        "title": "Número de acessos a Posts, Leituras e Likes por estudante",
        "yaxis": {
         "dtick": 1,
         "exponentformat": "e",
         "gridcolor": "#bdbdbd",
         "showexponent": "all",
         "showticklabels": true,
         "tick0": 0,
         "titlefont": {
          "color": "lightgrey",
          "family": "Arial, sans-serif"
         }
        }
       }
      },
      "text/html": [
       "<div id=\"eacf9352-49d4-48a3-b952-efcfa419cd5d\" style=\"height: 525px; width: 100%;\" class=\"plotly-graph-div\"></div><script type=\"text/javascript\">require([\"plotly\"], function(Plotly) { window.PLOTLYENV=window.PLOTLYENV || {};window.PLOTLYENV.BASE_URL=\"https://plot.ly\";Plotly.newPlot(\"eacf9352-49d4-48a3-b952-efcfa419cd5d\", [{\"colorscale\": [[0, \"rgb(255,255,255)\"], [1, \"rgb(0,0,255)\"]], \"x\": [\"Hits\", \"Readings\", \"Posts\"], \"y\": [\"Student_1\", \"Student_2\", \"Student_3\", \"Student_4\", \"Student_5\", \"Student_6\", \"Student_7\", \"Student_8\", \"Student_9\", \"Student_10\", \"Student_11\", \"Student_12\", \"Student_13\", \"Student_14\", \"Student_15\", \"Student_16\", \"Student_17\", \"Student_18\", \"Student_19\", \"Student_20\"], \"z\": [[8, 5, 5], [3, 8, 7], [1, 6, 4], [14, 4, 1], [17, 0, 12], [8, 1, 17], [9, 10, 18], [12, 15, 10], [0, 5, 9], [16, 19, 17], [3, 4, 4], [11, 15, 2], [4, 5, 9], [6, 19, 17], [6, 17, 1], [7, 1, 5], [3, 5, 16], [7, 19, 0], [16, 1, 5], [11, 4, 18]], \"type\": \"heatmap\", \"uid\": \"4d1c71e0-e29a-11e8-9490-d5f4ba98b039\"}], {\"title\": \"N\\u00famero de acessos a Posts, Leituras e Likes por estudante\", \"yaxis\": {\"dtick\": 1, \"exponentformat\": \"e\", \"gridcolor\": \"#bdbdbd\", \"showexponent\": \"all\", \"showticklabels\": true, \"tick0\": 0, \"titlefont\": {\"color\": \"lightgrey\", \"family\": \"Arial, sans-serif\"}}}, {\"showLink\": true, \"linkText\": \"Export to plot.ly\"})});</script>"
      ],
      "text/vnd.plotly.v1+html": [
       "<div id=\"eacf9352-49d4-48a3-b952-efcfa419cd5d\" style=\"height: 525px; width: 100%;\" class=\"plotly-graph-div\"></div><script type=\"text/javascript\">require([\"plotly\"], function(Plotly) { window.PLOTLYENV=window.PLOTLYENV || {};window.PLOTLYENV.BASE_URL=\"https://plot.ly\";Plotly.newPlot(\"eacf9352-49d4-48a3-b952-efcfa419cd5d\", [{\"colorscale\": [[0, \"rgb(255,255,255)\"], [1, \"rgb(0,0,255)\"]], \"x\": [\"Hits\", \"Readings\", \"Posts\"], \"y\": [\"Student_1\", \"Student_2\", \"Student_3\", \"Student_4\", \"Student_5\", \"Student_6\", \"Student_7\", \"Student_8\", \"Student_9\", \"Student_10\", \"Student_11\", \"Student_12\", \"Student_13\", \"Student_14\", \"Student_15\", \"Student_16\", \"Student_17\", \"Student_18\", \"Student_19\", \"Student_20\"], \"z\": [[8, 5, 5], [3, 8, 7], [1, 6, 4], [14, 4, 1], [17, 0, 12], [8, 1, 17], [9, 10, 18], [12, 15, 10], [0, 5, 9], [16, 19, 17], [3, 4, 4], [11, 15, 2], [4, 5, 9], [6, 19, 17], [6, 17, 1], [7, 1, 5], [3, 5, 16], [7, 19, 0], [16, 1, 5], [11, 4, 18]], \"type\": \"heatmap\", \"uid\": \"4d1c71e0-e29a-11e8-9490-d5f4ba98b039\"}], {\"title\": \"N\\u00famero de acessos a Posts, Leituras e Likes por estudante\", \"yaxis\": {\"dtick\": 1, \"exponentformat\": \"e\", \"gridcolor\": \"#bdbdbd\", \"showexponent\": \"all\", \"showticklabels\": true, \"tick0\": 0, \"titlefont\": {\"color\": \"lightgrey\", \"family\": \"Arial, sans-serif\"}}}, {\"showLink\": true, \"linkText\": \"Export to plot.ly\"})});</script>"
      ]
     },
     "metadata": {},
     "output_type": "display_data"
    }
   ],
   "source": [
    "run scripts/V003.py"
   ]
  },
  {
   "cell_type": "markdown",
   "metadata": {},
   "source": [
    "### View 004"
   ]
  },
  {
   "cell_type": "code",
   "execution_count": 241,
   "metadata": {
    "scrolled": true
   },
   "outputs": [
    {
     "data": {
      "text/html": [
       "<script>requirejs.config({paths: { 'plotly': ['https://cdn.plot.ly/plotly-latest.min']},});if(!window.Plotly) {{require(['plotly'],function(plotly) {window.Plotly=plotly;});}}</script>"
      ],
      "text/vnd.plotly.v1+html": [
       "<script>requirejs.config({paths: { 'plotly': ['https://cdn.plot.ly/plotly-latest.min']},});if(!window.Plotly) {{require(['plotly'],function(plotly) {window.Plotly=plotly;});}}</script>"
      ]
     },
     "metadata": {},
     "output_type": "display_data"
    },
    {
     "data": {
      "application/vnd.plotly.v1+json": {
       "data": [
        {
         "cells": {
          "align": [
           "left",
           "center"
          ],
          "fill": {
           "color": "#F5F8FF"
          },
          "values": [
           [
            "Student_1",
            "Student_2",
            "Student_3",
            "Student_4",
            "Student_5",
            "Student_6",
            "Student_7",
            "Student_8",
            "Student_9",
            "Student_10",
            "Student_11",
            "Student_12",
            "Student_13",
            "Student_14",
            "Student_15",
            "Student_16",
            "Student_17",
            "Student_18",
            "Student_19",
            "Student_20"
           ],
           [
            [
             397,
             394,
             461,
             512
            ],
            [],
            [
             143,
             239,
             305
            ],
            [
             256,
             510,
             242
            ],
            [
             410,
             123,
             23,
             82
            ],
            [
             209,
             423,
             96
            ],
            [
             312
            ],
            [
             359,
             418,
             10
            ],
            [],
            [
             358,
             210,
             439,
             73
            ],
            [
             349,
             159
            ],
            [
             59,
             477,
             21,
             376
            ],
            [],
            [
             493,
             86,
             425
            ],
            [
             36,
             184,
             527
            ],
            [
             213,
             41
            ],
            [
             130,
             367,
             147,
             198
            ],
            [
             513,
             279,
             145
            ],
            [
             87
            ],
            [
             455,
             257
            ]
           ],
           [
            [
             475,
             208,
             104,
             417
            ],
            [],
            [
             131,
             266
            ],
            [
             85,
             126,
             450,
             169
            ],
            [
             167
            ],
            [],
            [
             462,
             265
            ],
            [
             340,
             290,
             441,
             84
            ],
            [
             361,
             291
            ],
            [
             280,
             285,
             101,
             191
            ],
            [],
            [
             323
            ],
            [
             405,
             427
            ],
            [
             464,
             169,
             123,
             23
            ],
            [
             278,
             17
            ],
            [
             126,
             429,
             236
            ],
            [],
            [
             15,
             291,
             243
            ],
            [
             399,
             8,
             235
            ],
            [
             337
            ]
           ],
           [
            [
             310,
             145,
             274,
             94
            ],
            [
             384
            ],
            [],
            [
             185
            ],
            [
             346,
             390
            ],
            [],
            [
             56,
             146
            ],
            [],
            [
             403,
             134,
             31
            ],
            [
             142,
             341
            ],
            [
             297
            ],
            [],
            [
             104,
             40,
             285
            ],
            [
             37,
             345,
             310,
             29
            ],
            [],
            [],
            [
             359,
             381,
             146,
             200
            ],
            [
             162,
             275,
             373,
             142
            ],
            [],
            [
             53,
             298
            ]
           ],
           [
            [
             116,
             227,
             249,
             309
            ],
            [
             331,
             138,
             211
            ],
            [
             369,
             359,
             269
            ],
            [
             207
            ],
            [
             128,
             212,
             311
            ],
            [],
            [
             270
            ],
            [
             90,
             31,
             367,
             238
            ],
            [
             27,
             18,
             287
            ],
            [
             158,
             340,
             303
            ],
            [
             85
            ],
            [
             26
            ],
            [],
            [
             18,
             185,
             176,
             239
            ],
            [
             416,
             243,
             212,
             291
            ],
            [
             59,
             192,
             136,
             59
            ],
            [
             69
            ],
            [],
            [],
            [
             125
            ]
           ],
           [
            [],
            [
             246
            ],
            [
             182,
             242
            ],
            [],
            [
             231
            ],
            [
             421,
             340,
             290,
             345
            ],
            [
             495,
             311
            ],
            [],
            [
             358,
             13,
             66
            ],
            [],
            [
             231,
             79
            ],
            [
             91,
             273,
             277
            ],
            [
             296,
             440,
             337,
             39
            ],
            [],
            [
             380,
             410,
             24
            ],
            [
             214,
             508
            ],
            [
             185,
             132
            ],
            [
             264,
             362
            ],
            [
             368,
             230,
             368,
             276
            ],
            [
             224,
             299,
             23,
             249
            ]
           ],
           [
            4692,
            1310,
            2505,
            2230,
            2423,
            2124,
            2317,
            2668,
            1989,
            3221,
            1200,
            1923,
            2373,
            3122,
            3018,
            2213,
            2314,
            3064,
            1971,
            2320
           ]
          ]
         },
         "header": {
          "align": "center",
          "fill": {
           "color": "#C2D4FF"
          },
          "values": [
           "Students",
           "Video1 (329s)",
           "Video2 (530s)",
           "Video3 (478s)",
           "Video4 (421s)",
           "Video5 (430s)",
           "Total"
          ]
         },
         "type": "table",
         "uid": "b0c92edc-e299-11e8-9490-d5f4ba98b039"
        }
       ],
       "layout": {}
      },
      "text/html": [
       "<div id=\"2c405312-a58f-44f6-bda0-a1579888c085\" style=\"height: 525px; width: 100%;\" class=\"plotly-graph-div\"></div><script type=\"text/javascript\">require([\"plotly\"], function(Plotly) { window.PLOTLYENV=window.PLOTLYENV || {};window.PLOTLYENV.BASE_URL=\"https://plot.ly\";Plotly.newPlot(\"2c405312-a58f-44f6-bda0-a1579888c085\", [{\"cells\": {\"align\": [\"left\", \"center\"], \"fill\": {\"color\": \"#F5F8FF\"}, \"values\": [[\"Student_1\", \"Student_2\", \"Student_3\", \"Student_4\", \"Student_5\", \"Student_6\", \"Student_7\", \"Student_8\", \"Student_9\", \"Student_10\", \"Student_11\", \"Student_12\", \"Student_13\", \"Student_14\", \"Student_15\", \"Student_16\", \"Student_17\", \"Student_18\", \"Student_19\", \"Student_20\"], [[397, 394, 461, 512], [], [143, 239, 305], [256, 510, 242], [410, 123, 23, 82], [209, 423, 96], [312], [359, 418, 10], [], [358, 210, 439, 73], [349, 159], [59, 477, 21, 376], [], [493, 86, 425], [36, 184, 527], [213, 41], [130, 367, 147, 198], [513, 279, 145], [87], [455, 257]], [[475, 208, 104, 417], [], [131, 266], [85, 126, 450, 169], [167], [], [462, 265], [340, 290, 441, 84], [361, 291], [280, 285, 101, 191], [], [323], [405, 427], [464, 169, 123, 23], [278, 17], [126, 429, 236], [], [15, 291, 243], [399, 8, 235], [337]], [[310, 145, 274, 94], [384], [], [185], [346, 390], [], [56, 146], [], [403, 134, 31], [142, 341], [297], [], [104, 40, 285], [37, 345, 310, 29], [], [], [359, 381, 146, 200], [162, 275, 373, 142], [], [53, 298]], [[116, 227, 249, 309], [331, 138, 211], [369, 359, 269], [207], [128, 212, 311], [], [270], [90, 31, 367, 238], [27, 18, 287], [158, 340, 303], [85], [26], [], [18, 185, 176, 239], [416, 243, 212, 291], [59, 192, 136, 59], [69], [], [], [125]], [[], [246], [182, 242], [], [231], [421, 340, 290, 345], [495, 311], [], [358, 13, 66], [], [231, 79], [91, 273, 277], [296, 440, 337, 39], [], [380, 410, 24], [214, 508], [185, 132], [264, 362], [368, 230, 368, 276], [224, 299, 23, 249]], [4692, 1310, 2505, 2230, 2423, 2124, 2317, 2668, 1989, 3221, 1200, 1923, 2373, 3122, 3018, 2213, 2314, 3064, 1971, 2320]]}, \"header\": {\"align\": \"center\", \"fill\": {\"color\": \"#C2D4FF\"}, \"values\": [\"Students\", \"Video1 (329s)\", \"Video2 (530s)\", \"Video3 (478s)\", \"Video4 (421s)\", \"Video5 (430s)\", \"Total\"]}, \"type\": \"table\", \"uid\": \"b0cb561c-e299-11e8-9490-d5f4ba98b039\"}], {}, {\"showLink\": true, \"linkText\": \"Export to plot.ly\"})});</script>"
      ],
      "text/vnd.plotly.v1+html": [
       "<div id=\"2c405312-a58f-44f6-bda0-a1579888c085\" style=\"height: 525px; width: 100%;\" class=\"plotly-graph-div\"></div><script type=\"text/javascript\">require([\"plotly\"], function(Plotly) { window.PLOTLYENV=window.PLOTLYENV || {};window.PLOTLYENV.BASE_URL=\"https://plot.ly\";Plotly.newPlot(\"2c405312-a58f-44f6-bda0-a1579888c085\", [{\"cells\": {\"align\": [\"left\", \"center\"], \"fill\": {\"color\": \"#F5F8FF\"}, \"values\": [[\"Student_1\", \"Student_2\", \"Student_3\", \"Student_4\", \"Student_5\", \"Student_6\", \"Student_7\", \"Student_8\", \"Student_9\", \"Student_10\", \"Student_11\", \"Student_12\", \"Student_13\", \"Student_14\", \"Student_15\", \"Student_16\", \"Student_17\", \"Student_18\", \"Student_19\", \"Student_20\"], [[397, 394, 461, 512], [], [143, 239, 305], [256, 510, 242], [410, 123, 23, 82], [209, 423, 96], [312], [359, 418, 10], [], [358, 210, 439, 73], [349, 159], [59, 477, 21, 376], [], [493, 86, 425], [36, 184, 527], [213, 41], [130, 367, 147, 198], [513, 279, 145], [87], [455, 257]], [[475, 208, 104, 417], [], [131, 266], [85, 126, 450, 169], [167], [], [462, 265], [340, 290, 441, 84], [361, 291], [280, 285, 101, 191], [], [323], [405, 427], [464, 169, 123, 23], [278, 17], [126, 429, 236], [], [15, 291, 243], [399, 8, 235], [337]], [[310, 145, 274, 94], [384], [], [185], [346, 390], [], [56, 146], [], [403, 134, 31], [142, 341], [297], [], [104, 40, 285], [37, 345, 310, 29], [], [], [359, 381, 146, 200], [162, 275, 373, 142], [], [53, 298]], [[116, 227, 249, 309], [331, 138, 211], [369, 359, 269], [207], [128, 212, 311], [], [270], [90, 31, 367, 238], [27, 18, 287], [158, 340, 303], [85], [26], [], [18, 185, 176, 239], [416, 243, 212, 291], [59, 192, 136, 59], [69], [], [], [125]], [[], [246], [182, 242], [], [231], [421, 340, 290, 345], [495, 311], [], [358, 13, 66], [], [231, 79], [91, 273, 277], [296, 440, 337, 39], [], [380, 410, 24], [214, 508], [185, 132], [264, 362], [368, 230, 368, 276], [224, 299, 23, 249]], [4692, 1310, 2505, 2230, 2423, 2124, 2317, 2668, 1989, 3221, 1200, 1923, 2373, 3122, 3018, 2213, 2314, 3064, 1971, 2320]]}, \"header\": {\"align\": \"center\", \"fill\": {\"color\": \"#C2D4FF\"}, \"values\": [\"Students\", \"Video1 (329s)\", \"Video2 (530s)\", \"Video3 (478s)\", \"Video4 (421s)\", \"Video5 (430s)\", \"Total\"]}, \"type\": \"table\", \"uid\": \"b0cb561c-e299-11e8-9490-d5f4ba98b039\"}], {}, {\"showLink\": true, \"linkText\": \"Export to plot.ly\"})});</script>"
      ]
     },
     "metadata": {},
     "output_type": "display_data"
    },
    {
     "data": {
      "application/vnd.plotly.v1+json": {
       "data": [
        {
         "marker": {
          "line": {
           "width": 2
          },
          "size": [
           1764,
           1204,
           823,
           901,
           0,
           4692
          ],
          "sizemode": "area",
          "sizeref": 4.5,
          "symbol": "circle"
         },
         "mode": "markers",
         "name": "Student_1",
         "text": [
          "1764",
          "1204",
          "823",
          "901",
          "0",
          "4692"
         ],
         "type": "scatter",
         "uid": "b0ded87c-e299-11e8-9490-d5f4ba98b039",
         "x": [
          "Student_1",
          "Student_1",
          "Student_1",
          "Student_1",
          "Student_1",
          "Student_1"
         ],
         "y": [
          "Video1",
          "Video2",
          "Video3",
          "Video4",
          "Video5",
          "Total"
         ]
        },
        {
         "marker": {
          "line": {
           "width": 2
          },
          "size": [
           0,
           0,
           384,
           680,
           246,
           1310
          ],
          "sizemode": "area",
          "sizeref": 4.5,
          "symbol": "circle"
         },
         "mode": "markers",
         "name": "Student_2",
         "text": [
          "0",
          "0",
          "384",
          "680",
          "246",
          "1310"
         ],
         "type": "scatter",
         "uid": "b0deda20-e299-11e8-9490-d5f4ba98b039",
         "x": [
          "Student_2",
          "Student_2",
          "Student_2",
          "Student_2",
          "Student_2",
          "Student_2"
         ],
         "y": [
          "Video1",
          "Video2",
          "Video3",
          "Video4",
          "Video5",
          "Total"
         ]
        },
        {
         "marker": {
          "line": {
           "width": 2
          },
          "size": [
           687,
           397,
           0,
           997,
           424,
           2505
          ],
          "sizemode": "area",
          "sizeref": 4.5,
          "symbol": "circle"
         },
         "mode": "markers",
         "name": "Student_3",
         "text": [
          "687",
          "397",
          "0",
          "997",
          "424",
          "2505"
         ],
         "type": "scatter",
         "uid": "b0dedaf2-e299-11e8-9490-d5f4ba98b039",
         "x": [
          "Student_3",
          "Student_3",
          "Student_3",
          "Student_3",
          "Student_3",
          "Student_3"
         ],
         "y": [
          "Video1",
          "Video2",
          "Video3",
          "Video4",
          "Video5",
          "Total"
         ]
        },
        {
         "marker": {
          "line": {
           "width": 2
          },
          "size": [
           1008,
           830,
           185,
           207,
           0,
           2230
          ],
          "sizemode": "area",
          "sizeref": 4.5,
          "symbol": "circle"
         },
         "mode": "markers",
         "name": "Student_4",
         "text": [
          "1008",
          "830",
          "185",
          "207",
          "0",
          "2230"
         ],
         "type": "scatter",
         "uid": "b0dedb9c-e299-11e8-9490-d5f4ba98b039",
         "x": [
          "Student_4",
          "Student_4",
          "Student_4",
          "Student_4",
          "Student_4",
          "Student_4"
         ],
         "y": [
          "Video1",
          "Video2",
          "Video3",
          "Video4",
          "Video5",
          "Total"
         ]
        },
        {
         "marker": {
          "line": {
           "width": 2
          },
          "size": [
           638,
           167,
           736,
           651,
           231,
           2423
          ],
          "sizemode": "area",
          "sizeref": 4.5,
          "symbol": "circle"
         },
         "mode": "markers",
         "name": "Student_5",
         "text": [
          "638",
          "167",
          "736",
          "651",
          "231",
          "2423"
         ],
         "type": "scatter",
         "uid": "b0dedc3c-e299-11e8-9490-d5f4ba98b039",
         "x": [
          "Student_5",
          "Student_5",
          "Student_5",
          "Student_5",
          "Student_5",
          "Student_5"
         ],
         "y": [
          "Video1",
          "Video2",
          "Video3",
          "Video4",
          "Video5",
          "Total"
         ]
        },
        {
         "marker": {
          "line": {
           "width": 2
          },
          "size": [
           728,
           0,
           0,
           0,
           1396,
           2124
          ],
          "sizemode": "area",
          "sizeref": 4.5,
          "symbol": "circle"
         },
         "mode": "markers",
         "name": "Student_6",
         "text": [
          "728",
          "0",
          "0",
          "0",
          "1396",
          "2124"
         ],
         "type": "scatter",
         "uid": "b0dedcc8-e299-11e8-9490-d5f4ba98b039",
         "x": [
          "Student_6",
          "Student_6",
          "Student_6",
          "Student_6",
          "Student_6",
          "Student_6"
         ],
         "y": [
          "Video1",
          "Video2",
          "Video3",
          "Video4",
          "Video5",
          "Total"
         ]
        },
        {
         "marker": {
          "line": {
           "width": 2
          },
          "size": [
           312,
           727,
           202,
           270,
           806,
           2317
          ],
          "sizemode": "area",
          "sizeref": 4.5,
          "symbol": "circle"
         },
         "mode": "markers",
         "name": "Student_7",
         "text": [
          "312",
          "727",
          "202",
          "270",
          "806",
          "2317"
         ],
         "type": "scatter",
         "uid": "b0dedd5e-e299-11e8-9490-d5f4ba98b039",
         "x": [
          "Student_7",
          "Student_7",
          "Student_7",
          "Student_7",
          "Student_7",
          "Student_7"
         ],
         "y": [
          "Video1",
          "Video2",
          "Video3",
          "Video4",
          "Video5",
          "Total"
         ]
        },
        {
         "marker": {
          "line": {
           "width": 2
          },
          "size": [
           787,
           1155,
           0,
           726,
           0,
           2668
          ],
          "sizemode": "area",
          "sizeref": 4.5,
          "symbol": "circle"
         },
         "mode": "markers",
         "name": "Student_8",
         "text": [
          "787",
          "1155",
          "0",
          "726",
          "0",
          "2668"
         ],
         "type": "scatter",
         "uid": "b0deddea-e299-11e8-9490-d5f4ba98b039",
         "x": [
          "Student_8",
          "Student_8",
          "Student_8",
          "Student_8",
          "Student_8",
          "Student_8"
         ],
         "y": [
          "Video1",
          "Video2",
          "Video3",
          "Video4",
          "Video5",
          "Total"
         ]
        },
        {
         "marker": {
          "line": {
           "width": 2
          },
          "size": [
           0,
           652,
           568,
           332,
           437,
           1989
          ],
          "sizemode": "area",
          "sizeref": 4.5,
          "symbol": "circle"
         },
         "mode": "markers",
         "name": "Student_9",
         "text": [
          "0",
          "652",
          "568",
          "332",
          "437",
          "1989"
         ],
         "type": "scatter",
         "uid": "b0dede6c-e299-11e8-9490-d5f4ba98b039",
         "x": [
          "Student_9",
          "Student_9",
          "Student_9",
          "Student_9",
          "Student_9",
          "Student_9"
         ],
         "y": [
          "Video1",
          "Video2",
          "Video3",
          "Video4",
          "Video5",
          "Total"
         ]
        },
        {
         "marker": {
          "line": {
           "width": 2
          },
          "size": [
           1080,
           857,
           483,
           801,
           0,
           3221
          ],
          "sizemode": "area",
          "sizeref": 4.5,
          "symbol": "circle"
         },
         "mode": "markers",
         "name": "Student_10",
         "text": [
          "1080",
          "857",
          "483",
          "801",
          "0",
          "3221"
         ],
         "type": "scatter",
         "uid": "b0dedee4-e299-11e8-9490-d5f4ba98b039",
         "x": [
          "Student_10",
          "Student_10",
          "Student_10",
          "Student_10",
          "Student_10",
          "Student_10"
         ],
         "y": [
          "Video1",
          "Video2",
          "Video3",
          "Video4",
          "Video5",
          "Total"
         ]
        },
        {
         "marker": {
          "line": {
           "width": 2
          },
          "size": [
           508,
           0,
           297,
           85,
           310,
           1200
          ],
          "sizemode": "area",
          "sizeref": 4.5,
          "symbol": "circle"
         },
         "mode": "markers",
         "name": "Student_11",
         "text": [
          "508",
          "0",
          "297",
          "85",
          "310",
          "1200"
         ],
         "type": "scatter",
         "uid": "b0dedf66-e299-11e8-9490-d5f4ba98b039",
         "x": [
          "Student_11",
          "Student_11",
          "Student_11",
          "Student_11",
          "Student_11",
          "Student_11"
         ],
         "y": [
          "Video1",
          "Video2",
          "Video3",
          "Video4",
          "Video5",
          "Total"
         ]
        },
        {
         "marker": {
          "line": {
           "width": 2
          },
          "size": [
           933,
           323,
           0,
           26,
           641,
           1923
          ],
          "sizemode": "area",
          "sizeref": 4.5,
          "symbol": "circle"
         },
         "mode": "markers",
         "name": "Student_12",
         "text": [
          "933",
          "323",
          "0",
          "26",
          "641",
          "1923"
         ],
         "type": "scatter",
         "uid": "b0dedfe8-e299-11e8-9490-d5f4ba98b039",
         "x": [
          "Student_12",
          "Student_12",
          "Student_12",
          "Student_12",
          "Student_12",
          "Student_12"
         ],
         "y": [
          "Video1",
          "Video2",
          "Video3",
          "Video4",
          "Video5",
          "Total"
         ]
        },
        {
         "marker": {
          "line": {
           "width": 2
          },
          "size": [
           0,
           832,
           429,
           0,
           1112,
           2373
          ],
          "sizemode": "area",
          "sizeref": 4.5,
          "symbol": "circle"
         },
         "mode": "markers",
         "name": "Student_13",
         "text": [
          "0",
          "832",
          "429",
          "0",
          "1112",
          "2373"
         ],
         "type": "scatter",
         "uid": "b0dee060-e299-11e8-9490-d5f4ba98b039",
         "x": [
          "Student_13",
          "Student_13",
          "Student_13",
          "Student_13",
          "Student_13",
          "Student_13"
         ],
         "y": [
          "Video1",
          "Video2",
          "Video3",
          "Video4",
          "Video5",
          "Total"
         ]
        },
        {
         "marker": {
          "line": {
           "width": 2
          },
          "size": [
           1004,
           779,
           721,
           618,
           0,
           3122
          ],
          "sizemode": "area",
          "sizeref": 4.5,
          "symbol": "circle"
         },
         "mode": "markers",
         "name": "Student_14",
         "text": [
          "1004",
          "779",
          "721",
          "618",
          "0",
          "3122"
         ],
         "type": "scatter",
         "uid": "b0dee0d8-e299-11e8-9490-d5f4ba98b039",
         "x": [
          "Student_14",
          "Student_14",
          "Student_14",
          "Student_14",
          "Student_14",
          "Student_14"
         ],
         "y": [
          "Video1",
          "Video2",
          "Video3",
          "Video4",
          "Video5",
          "Total"
         ]
        },
        {
         "marker": {
          "line": {
           "width": 2
          },
          "size": [
           747,
           295,
           0,
           1162,
           814,
           3018
          ],
          "sizemode": "area",
          "sizeref": 4.5,
          "symbol": "circle"
         },
         "mode": "markers",
         "name": "Student_15",
         "text": [
          "747",
          "295",
          "0",
          "1162",
          "814",
          "3018"
         ],
         "type": "scatter",
         "uid": "b0dee15a-e299-11e8-9490-d5f4ba98b039",
         "x": [
          "Student_15",
          "Student_15",
          "Student_15",
          "Student_15",
          "Student_15",
          "Student_15"
         ],
         "y": [
          "Video1",
          "Video2",
          "Video3",
          "Video4",
          "Video5",
          "Total"
         ]
        },
        {
         "marker": {
          "line": {
           "width": 2
          },
          "size": [
           254,
           791,
           0,
           446,
           722,
           2213
          ],
          "sizemode": "area",
          "sizeref": 4.5,
          "symbol": "circle"
         },
         "mode": "markers",
         "name": "Student_16",
         "text": [
          "254",
          "791",
          "0",
          "446",
          "722",
          "2213"
         ],
         "type": "scatter",
         "uid": "b0dee1d2-e299-11e8-9490-d5f4ba98b039",
         "x": [
          "Student_16",
          "Student_16",
          "Student_16",
          "Student_16",
          "Student_16",
          "Student_16"
         ],
         "y": [
          "Video1",
          "Video2",
          "Video3",
          "Video4",
          "Video5",
          "Total"
         ]
        },
        {
         "marker": {
          "line": {
           "width": 2
          },
          "size": [
           842,
           0,
           1086,
           69,
           317,
           2314
          ],
          "sizemode": "area",
          "sizeref": 4.5,
          "symbol": "circle"
         },
         "mode": "markers",
         "name": "Student_17",
         "text": [
          "842",
          "0",
          "1086",
          "69",
          "317",
          "2314"
         ],
         "type": "scatter",
         "uid": "b0dee24a-e299-11e8-9490-d5f4ba98b039",
         "x": [
          "Student_17",
          "Student_17",
          "Student_17",
          "Student_17",
          "Student_17",
          "Student_17"
         ],
         "y": [
          "Video1",
          "Video2",
          "Video3",
          "Video4",
          "Video5",
          "Total"
         ]
        },
        {
         "marker": {
          "line": {
           "width": 2
          },
          "size": [
           937,
           549,
           952,
           0,
           626,
           3064
          ],
          "sizemode": "area",
          "sizeref": 4.5,
          "symbol": "circle"
         },
         "mode": "markers",
         "name": "Student_18",
         "text": [
          "937",
          "549",
          "952",
          "0",
          "626",
          "3064"
         ],
         "type": "scatter",
         "uid": "b0dee2cc-e299-11e8-9490-d5f4ba98b039",
         "x": [
          "Student_18",
          "Student_18",
          "Student_18",
          "Student_18",
          "Student_18",
          "Student_18"
         ],
         "y": [
          "Video1",
          "Video2",
          "Video3",
          "Video4",
          "Video5",
          "Total"
         ]
        },
        {
         "marker": {
          "line": {
           "width": 2
          },
          "size": [
           87,
           642,
           0,
           0,
           1242,
           1971
          ],
          "sizemode": "area",
          "sizeref": 4.5,
          "symbol": "circle"
         },
         "mode": "markers",
         "name": "Student_19",
         "text": [
          "87",
          "642",
          "0",
          "0",
          "1242",
          "1971"
         ],
         "type": "scatter",
         "uid": "b0dee344-e299-11e8-9490-d5f4ba98b039",
         "x": [
          "Student_19",
          "Student_19",
          "Student_19",
          "Student_19",
          "Student_19",
          "Student_19"
         ],
         "y": [
          "Video1",
          "Video2",
          "Video3",
          "Video4",
          "Video5",
          "Total"
         ]
        },
        {
         "marker": {
          "line": {
           "width": 2
          },
          "size": [
           712,
           337,
           351,
           125,
           795,
           2320
          ],
          "sizemode": "area",
          "sizeref": 4.5,
          "symbol": "circle"
         },
         "mode": "markers",
         "name": "Student_20",
         "text": [
          "712",
          "337",
          "351",
          "125",
          "795",
          "2320"
         ],
         "type": "scatter",
         "uid": "b0dee3bc-e299-11e8-9490-d5f4ba98b039",
         "x": [
          "Student_20",
          "Student_20",
          "Student_20",
          "Student_20",
          "Student_20",
          "Student_20"
         ],
         "y": [
          "Video1",
          "Video2",
          "Video3",
          "Video4",
          "Video5",
          "Total"
         ]
        }
       ],
       "layout": {
        "hovermode": "closest",
        "showlegend": true,
        "title": "Tempo de acesso aos vídeos por estudante",
        "xaxis": {
         "autorange": false,
         "fixedrange": false,
         "range": [
          -1,
          20
         ],
         "rangemode": "normal",
         "showline": true,
         "title": "Estudantes",
         "type": "category"
        },
        "yaxis": {
         "autorange": false,
         "fixedrange": false,
         "range": [
          -1,
          6
         ],
         "rangemode": "normal",
         "showline": true,
         "title": "Videos",
         "type": "category"
        }
       }
      },
      "text/html": [
       "<div id=\"cf563427-0ce9-4fbf-9512-b8df082cfe73\" style=\"height: 525px; width: 100%;\" class=\"plotly-graph-div\"></div><script type=\"text/javascript\">require([\"plotly\"], function(Plotly) { window.PLOTLYENV=window.PLOTLYENV || {};window.PLOTLYENV.BASE_URL=\"https://plot.ly\";Plotly.newPlot(\"cf563427-0ce9-4fbf-9512-b8df082cfe73\", [{\"marker\": {\"line\": {\"width\": 2}, \"size\": [1764, 1204, 823, 901, 0, 4692], \"sizemode\": \"area\", \"sizeref\": 4.5, \"symbol\": \"circle\"}, \"mode\": \"markers\", \"name\": \"Student_1\", \"text\": [\"1764\", \"1204\", \"823\", \"901\", \"0\", \"4692\"], \"x\": [\"Student_1\", \"Student_1\", \"Student_1\", \"Student_1\", \"Student_1\", \"Student_1\"], \"y\": [\"Video1\", \"Video2\", \"Video3\", \"Video4\", \"Video5\", \"Total\"], \"type\": \"scatter\", \"uid\": \"b0ded87c-e299-11e8-9490-d5f4ba98b039\"}, {\"marker\": {\"line\": {\"width\": 2}, \"size\": [0, 0, 384, 680, 246, 1310], \"sizemode\": \"area\", \"sizeref\": 4.5, \"symbol\": \"circle\"}, \"mode\": \"markers\", \"name\": \"Student_2\", \"text\": [\"0\", \"0\", \"384\", \"680\", \"246\", \"1310\"], \"x\": [\"Student_2\", \"Student_2\", \"Student_2\", \"Student_2\", \"Student_2\", \"Student_2\"], \"y\": [\"Video1\", \"Video2\", \"Video3\", \"Video4\", \"Video5\", \"Total\"], \"type\": \"scatter\", \"uid\": \"b0deda20-e299-11e8-9490-d5f4ba98b039\"}, {\"marker\": {\"line\": {\"width\": 2}, \"size\": [687, 397, 0, 997, 424, 2505], \"sizemode\": \"area\", \"sizeref\": 4.5, \"symbol\": \"circle\"}, \"mode\": \"markers\", \"name\": \"Student_3\", \"text\": [\"687\", \"397\", \"0\", \"997\", \"424\", \"2505\"], \"x\": [\"Student_3\", \"Student_3\", \"Student_3\", \"Student_3\", \"Student_3\", \"Student_3\"], \"y\": [\"Video1\", \"Video2\", \"Video3\", \"Video4\", \"Video5\", \"Total\"], \"type\": \"scatter\", \"uid\": \"b0dedaf2-e299-11e8-9490-d5f4ba98b039\"}, {\"marker\": {\"line\": {\"width\": 2}, \"size\": [1008, 830, 185, 207, 0, 2230], \"sizemode\": \"area\", \"sizeref\": 4.5, \"symbol\": \"circle\"}, \"mode\": \"markers\", \"name\": \"Student_4\", \"text\": [\"1008\", \"830\", \"185\", \"207\", \"0\", \"2230\"], \"x\": [\"Student_4\", \"Student_4\", \"Student_4\", \"Student_4\", \"Student_4\", \"Student_4\"], \"y\": [\"Video1\", \"Video2\", \"Video3\", \"Video4\", \"Video5\", \"Total\"], \"type\": \"scatter\", \"uid\": \"b0dedb9c-e299-11e8-9490-d5f4ba98b039\"}, {\"marker\": {\"line\": {\"width\": 2}, \"size\": [638, 167, 736, 651, 231, 2423], \"sizemode\": \"area\", \"sizeref\": 4.5, \"symbol\": \"circle\"}, \"mode\": \"markers\", \"name\": \"Student_5\", \"text\": [\"638\", \"167\", \"736\", \"651\", \"231\", \"2423\"], \"x\": [\"Student_5\", \"Student_5\", \"Student_5\", \"Student_5\", \"Student_5\", \"Student_5\"], \"y\": [\"Video1\", \"Video2\", \"Video3\", \"Video4\", \"Video5\", \"Total\"], \"type\": \"scatter\", \"uid\": \"b0dedc3c-e299-11e8-9490-d5f4ba98b039\"}, {\"marker\": {\"line\": {\"width\": 2}, \"size\": [728, 0, 0, 0, 1396, 2124], \"sizemode\": \"area\", \"sizeref\": 4.5, \"symbol\": \"circle\"}, \"mode\": \"markers\", \"name\": \"Student_6\", \"text\": [\"728\", \"0\", \"0\", \"0\", \"1396\", \"2124\"], \"x\": [\"Student_6\", \"Student_6\", \"Student_6\", \"Student_6\", \"Student_6\", \"Student_6\"], \"y\": [\"Video1\", \"Video2\", \"Video3\", \"Video4\", \"Video5\", \"Total\"], \"type\": \"scatter\", \"uid\": \"b0dedcc8-e299-11e8-9490-d5f4ba98b039\"}, {\"marker\": {\"line\": {\"width\": 2}, \"size\": [312, 727, 202, 270, 806, 2317], \"sizemode\": \"area\", \"sizeref\": 4.5, \"symbol\": \"circle\"}, \"mode\": \"markers\", \"name\": \"Student_7\", \"text\": [\"312\", \"727\", \"202\", \"270\", \"806\", \"2317\"], \"x\": [\"Student_7\", \"Student_7\", \"Student_7\", \"Student_7\", \"Student_7\", \"Student_7\"], \"y\": [\"Video1\", \"Video2\", \"Video3\", \"Video4\", \"Video5\", \"Total\"], \"type\": \"scatter\", \"uid\": \"b0dedd5e-e299-11e8-9490-d5f4ba98b039\"}, {\"marker\": {\"line\": {\"width\": 2}, \"size\": [787, 1155, 0, 726, 0, 2668], \"sizemode\": \"area\", \"sizeref\": 4.5, \"symbol\": \"circle\"}, \"mode\": \"markers\", \"name\": \"Student_8\", \"text\": [\"787\", \"1155\", \"0\", \"726\", \"0\", \"2668\"], \"x\": [\"Student_8\", \"Student_8\", \"Student_8\", \"Student_8\", \"Student_8\", \"Student_8\"], \"y\": [\"Video1\", \"Video2\", \"Video3\", \"Video4\", \"Video5\", \"Total\"], \"type\": \"scatter\", \"uid\": \"b0deddea-e299-11e8-9490-d5f4ba98b039\"}, {\"marker\": {\"line\": {\"width\": 2}, \"size\": [0, 652, 568, 332, 437, 1989], \"sizemode\": \"area\", \"sizeref\": 4.5, \"symbol\": \"circle\"}, \"mode\": \"markers\", \"name\": \"Student_9\", \"text\": [\"0\", \"652\", \"568\", \"332\", \"437\", \"1989\"], \"x\": [\"Student_9\", \"Student_9\", \"Student_9\", \"Student_9\", \"Student_9\", \"Student_9\"], \"y\": [\"Video1\", \"Video2\", \"Video3\", \"Video4\", \"Video5\", \"Total\"], \"type\": \"scatter\", \"uid\": \"b0dede6c-e299-11e8-9490-d5f4ba98b039\"}, {\"marker\": {\"line\": {\"width\": 2}, \"size\": [1080, 857, 483, 801, 0, 3221], \"sizemode\": \"area\", \"sizeref\": 4.5, \"symbol\": \"circle\"}, \"mode\": \"markers\", \"name\": \"Student_10\", \"text\": [\"1080\", \"857\", \"483\", \"801\", \"0\", \"3221\"], \"x\": [\"Student_10\", \"Student_10\", \"Student_10\", \"Student_10\", \"Student_10\", \"Student_10\"], \"y\": [\"Video1\", \"Video2\", \"Video3\", \"Video4\", \"Video5\", \"Total\"], \"type\": \"scatter\", \"uid\": \"b0dedee4-e299-11e8-9490-d5f4ba98b039\"}, {\"marker\": {\"line\": {\"width\": 2}, \"size\": [508, 0, 297, 85, 310, 1200], \"sizemode\": \"area\", \"sizeref\": 4.5, \"symbol\": \"circle\"}, \"mode\": \"markers\", \"name\": \"Student_11\", \"text\": [\"508\", \"0\", \"297\", \"85\", \"310\", \"1200\"], \"x\": [\"Student_11\", \"Student_11\", \"Student_11\", \"Student_11\", \"Student_11\", \"Student_11\"], \"y\": [\"Video1\", \"Video2\", \"Video3\", \"Video4\", \"Video5\", \"Total\"], \"type\": \"scatter\", \"uid\": \"b0dedf66-e299-11e8-9490-d5f4ba98b039\"}, {\"marker\": {\"line\": {\"width\": 2}, \"size\": [933, 323, 0, 26, 641, 1923], \"sizemode\": \"area\", \"sizeref\": 4.5, \"symbol\": \"circle\"}, \"mode\": \"markers\", \"name\": \"Student_12\", \"text\": [\"933\", \"323\", \"0\", \"26\", \"641\", \"1923\"], \"x\": [\"Student_12\", \"Student_12\", \"Student_12\", \"Student_12\", \"Student_12\", \"Student_12\"], \"y\": [\"Video1\", \"Video2\", \"Video3\", \"Video4\", \"Video5\", \"Total\"], \"type\": \"scatter\", \"uid\": \"b0dedfe8-e299-11e8-9490-d5f4ba98b039\"}, {\"marker\": {\"line\": {\"width\": 2}, \"size\": [0, 832, 429, 0, 1112, 2373], \"sizemode\": \"area\", \"sizeref\": 4.5, \"symbol\": \"circle\"}, \"mode\": \"markers\", \"name\": \"Student_13\", \"text\": [\"0\", \"832\", \"429\", \"0\", \"1112\", \"2373\"], \"x\": [\"Student_13\", \"Student_13\", \"Student_13\", \"Student_13\", \"Student_13\", \"Student_13\"], \"y\": [\"Video1\", \"Video2\", \"Video3\", \"Video4\", \"Video5\", \"Total\"], \"type\": \"scatter\", \"uid\": \"b0dee060-e299-11e8-9490-d5f4ba98b039\"}, {\"marker\": {\"line\": {\"width\": 2}, \"size\": [1004, 779, 721, 618, 0, 3122], \"sizemode\": \"area\", \"sizeref\": 4.5, \"symbol\": \"circle\"}, \"mode\": \"markers\", \"name\": \"Student_14\", \"text\": [\"1004\", \"779\", \"721\", \"618\", \"0\", \"3122\"], \"x\": [\"Student_14\", \"Student_14\", \"Student_14\", \"Student_14\", \"Student_14\", \"Student_14\"], \"y\": [\"Video1\", \"Video2\", \"Video3\", \"Video4\", \"Video5\", \"Total\"], \"type\": \"scatter\", \"uid\": \"b0dee0d8-e299-11e8-9490-d5f4ba98b039\"}, {\"marker\": {\"line\": {\"width\": 2}, \"size\": [747, 295, 0, 1162, 814, 3018], \"sizemode\": \"area\", \"sizeref\": 4.5, \"symbol\": \"circle\"}, \"mode\": \"markers\", \"name\": \"Student_15\", \"text\": [\"747\", \"295\", \"0\", \"1162\", \"814\", \"3018\"], \"x\": [\"Student_15\", \"Student_15\", \"Student_15\", \"Student_15\", \"Student_15\", \"Student_15\"], \"y\": [\"Video1\", \"Video2\", \"Video3\", \"Video4\", \"Video5\", \"Total\"], \"type\": \"scatter\", \"uid\": \"b0dee15a-e299-11e8-9490-d5f4ba98b039\"}, {\"marker\": {\"line\": {\"width\": 2}, \"size\": [254, 791, 0, 446, 722, 2213], \"sizemode\": \"area\", \"sizeref\": 4.5, \"symbol\": \"circle\"}, \"mode\": \"markers\", \"name\": \"Student_16\", \"text\": [\"254\", \"791\", \"0\", \"446\", \"722\", \"2213\"], \"x\": [\"Student_16\", \"Student_16\", \"Student_16\", \"Student_16\", \"Student_16\", \"Student_16\"], \"y\": [\"Video1\", \"Video2\", \"Video3\", \"Video4\", \"Video5\", \"Total\"], \"type\": \"scatter\", \"uid\": \"b0dee1d2-e299-11e8-9490-d5f4ba98b039\"}, {\"marker\": {\"line\": {\"width\": 2}, \"size\": [842, 0, 1086, 69, 317, 2314], \"sizemode\": \"area\", \"sizeref\": 4.5, \"symbol\": \"circle\"}, \"mode\": \"markers\", \"name\": \"Student_17\", \"text\": [\"842\", \"0\", \"1086\", \"69\", \"317\", \"2314\"], \"x\": [\"Student_17\", \"Student_17\", \"Student_17\", \"Student_17\", \"Student_17\", \"Student_17\"], \"y\": [\"Video1\", \"Video2\", \"Video3\", \"Video4\", \"Video5\", \"Total\"], \"type\": \"scatter\", \"uid\": \"b0dee24a-e299-11e8-9490-d5f4ba98b039\"}, {\"marker\": {\"line\": {\"width\": 2}, \"size\": [937, 549, 952, 0, 626, 3064], \"sizemode\": \"area\", \"sizeref\": 4.5, \"symbol\": \"circle\"}, \"mode\": \"markers\", \"name\": \"Student_18\", \"text\": [\"937\", \"549\", \"952\", \"0\", \"626\", \"3064\"], \"x\": [\"Student_18\", \"Student_18\", \"Student_18\", \"Student_18\", \"Student_18\", \"Student_18\"], \"y\": [\"Video1\", \"Video2\", \"Video3\", \"Video4\", \"Video5\", \"Total\"], \"type\": \"scatter\", \"uid\": \"b0dee2cc-e299-11e8-9490-d5f4ba98b039\"}, {\"marker\": {\"line\": {\"width\": 2}, \"size\": [87, 642, 0, 0, 1242, 1971], \"sizemode\": \"area\", \"sizeref\": 4.5, \"symbol\": \"circle\"}, \"mode\": \"markers\", \"name\": \"Student_19\", \"text\": [\"87\", \"642\", \"0\", \"0\", \"1242\", \"1971\"], \"x\": [\"Student_19\", \"Student_19\", \"Student_19\", \"Student_19\", \"Student_19\", \"Student_19\"], \"y\": [\"Video1\", \"Video2\", \"Video3\", \"Video4\", \"Video5\", \"Total\"], \"type\": \"scatter\", \"uid\": \"b0dee344-e299-11e8-9490-d5f4ba98b039\"}, {\"marker\": {\"line\": {\"width\": 2}, \"size\": [712, 337, 351, 125, 795, 2320], \"sizemode\": \"area\", \"sizeref\": 4.5, \"symbol\": \"circle\"}, \"mode\": \"markers\", \"name\": \"Student_20\", \"text\": [\"712\", \"337\", \"351\", \"125\", \"795\", \"2320\"], \"x\": [\"Student_20\", \"Student_20\", \"Student_20\", \"Student_20\", \"Student_20\", \"Student_20\"], \"y\": [\"Video1\", \"Video2\", \"Video3\", \"Video4\", \"Video5\", \"Total\"], \"type\": \"scatter\", \"uid\": \"b0dee3bc-e299-11e8-9490-d5f4ba98b039\"}], {\"hovermode\": \"closest\", \"showlegend\": true, \"title\": \"Tempo de acesso aos v\\u00eddeos por estudante\", \"xaxis\": {\"autorange\": false, \"fixedrange\": false, \"range\": [-1, 20], \"rangemode\": \"normal\", \"showline\": true, \"title\": \"Estudantes\", \"type\": \"category\"}, \"yaxis\": {\"autorange\": false, \"fixedrange\": false, \"range\": [-1, 6], \"rangemode\": \"normal\", \"showline\": true, \"title\": \"Videos\", \"type\": \"category\"}}, {\"showLink\": true, \"linkText\": \"Export to plot.ly\"})});</script>"
      ],
      "text/vnd.plotly.v1+html": [
       "<div id=\"cf563427-0ce9-4fbf-9512-b8df082cfe73\" style=\"height: 525px; width: 100%;\" class=\"plotly-graph-div\"></div><script type=\"text/javascript\">require([\"plotly\"], function(Plotly) { window.PLOTLYENV=window.PLOTLYENV || {};window.PLOTLYENV.BASE_URL=\"https://plot.ly\";Plotly.newPlot(\"cf563427-0ce9-4fbf-9512-b8df082cfe73\", [{\"marker\": {\"line\": {\"width\": 2}, \"size\": [1764, 1204, 823, 901, 0, 4692], \"sizemode\": \"area\", \"sizeref\": 4.5, \"symbol\": \"circle\"}, \"mode\": \"markers\", \"name\": \"Student_1\", \"text\": [\"1764\", \"1204\", \"823\", \"901\", \"0\", \"4692\"], \"x\": [\"Student_1\", \"Student_1\", \"Student_1\", \"Student_1\", \"Student_1\", \"Student_1\"], \"y\": [\"Video1\", \"Video2\", \"Video3\", \"Video4\", \"Video5\", \"Total\"], \"type\": \"scatter\", \"uid\": \"b0ded87c-e299-11e8-9490-d5f4ba98b039\"}, {\"marker\": {\"line\": {\"width\": 2}, \"size\": [0, 0, 384, 680, 246, 1310], \"sizemode\": \"area\", \"sizeref\": 4.5, \"symbol\": \"circle\"}, \"mode\": \"markers\", \"name\": \"Student_2\", \"text\": [\"0\", \"0\", \"384\", \"680\", \"246\", \"1310\"], \"x\": [\"Student_2\", \"Student_2\", \"Student_2\", \"Student_2\", \"Student_2\", \"Student_2\"], \"y\": [\"Video1\", \"Video2\", \"Video3\", \"Video4\", \"Video5\", \"Total\"], \"type\": \"scatter\", \"uid\": \"b0deda20-e299-11e8-9490-d5f4ba98b039\"}, {\"marker\": {\"line\": {\"width\": 2}, \"size\": [687, 397, 0, 997, 424, 2505], \"sizemode\": \"area\", \"sizeref\": 4.5, \"symbol\": \"circle\"}, \"mode\": \"markers\", \"name\": \"Student_3\", \"text\": [\"687\", \"397\", \"0\", \"997\", \"424\", \"2505\"], \"x\": [\"Student_3\", \"Student_3\", \"Student_3\", \"Student_3\", \"Student_3\", \"Student_3\"], \"y\": [\"Video1\", \"Video2\", \"Video3\", \"Video4\", \"Video5\", \"Total\"], \"type\": \"scatter\", \"uid\": \"b0dedaf2-e299-11e8-9490-d5f4ba98b039\"}, {\"marker\": {\"line\": {\"width\": 2}, \"size\": [1008, 830, 185, 207, 0, 2230], \"sizemode\": \"area\", \"sizeref\": 4.5, \"symbol\": \"circle\"}, \"mode\": \"markers\", \"name\": \"Student_4\", \"text\": [\"1008\", \"830\", \"185\", \"207\", \"0\", \"2230\"], \"x\": [\"Student_4\", \"Student_4\", \"Student_4\", \"Student_4\", \"Student_4\", \"Student_4\"], \"y\": [\"Video1\", \"Video2\", \"Video3\", \"Video4\", \"Video5\", \"Total\"], \"type\": \"scatter\", \"uid\": \"b0dedb9c-e299-11e8-9490-d5f4ba98b039\"}, {\"marker\": {\"line\": {\"width\": 2}, \"size\": [638, 167, 736, 651, 231, 2423], \"sizemode\": \"area\", \"sizeref\": 4.5, \"symbol\": \"circle\"}, \"mode\": \"markers\", \"name\": \"Student_5\", \"text\": [\"638\", \"167\", \"736\", \"651\", \"231\", \"2423\"], \"x\": [\"Student_5\", \"Student_5\", \"Student_5\", \"Student_5\", \"Student_5\", \"Student_5\"], \"y\": [\"Video1\", \"Video2\", \"Video3\", \"Video4\", \"Video5\", \"Total\"], \"type\": \"scatter\", \"uid\": \"b0dedc3c-e299-11e8-9490-d5f4ba98b039\"}, {\"marker\": {\"line\": {\"width\": 2}, \"size\": [728, 0, 0, 0, 1396, 2124], \"sizemode\": \"area\", \"sizeref\": 4.5, \"symbol\": \"circle\"}, \"mode\": \"markers\", \"name\": \"Student_6\", \"text\": [\"728\", \"0\", \"0\", \"0\", \"1396\", \"2124\"], \"x\": [\"Student_6\", \"Student_6\", \"Student_6\", \"Student_6\", \"Student_6\", \"Student_6\"], \"y\": [\"Video1\", \"Video2\", \"Video3\", \"Video4\", \"Video5\", \"Total\"], \"type\": \"scatter\", \"uid\": \"b0dedcc8-e299-11e8-9490-d5f4ba98b039\"}, {\"marker\": {\"line\": {\"width\": 2}, \"size\": [312, 727, 202, 270, 806, 2317], \"sizemode\": \"area\", \"sizeref\": 4.5, \"symbol\": \"circle\"}, \"mode\": \"markers\", \"name\": \"Student_7\", \"text\": [\"312\", \"727\", \"202\", \"270\", \"806\", \"2317\"], \"x\": [\"Student_7\", \"Student_7\", \"Student_7\", \"Student_7\", \"Student_7\", \"Student_7\"], \"y\": [\"Video1\", \"Video2\", \"Video3\", \"Video4\", \"Video5\", \"Total\"], \"type\": \"scatter\", \"uid\": \"b0dedd5e-e299-11e8-9490-d5f4ba98b039\"}, {\"marker\": {\"line\": {\"width\": 2}, \"size\": [787, 1155, 0, 726, 0, 2668], \"sizemode\": \"area\", \"sizeref\": 4.5, \"symbol\": \"circle\"}, \"mode\": \"markers\", \"name\": \"Student_8\", \"text\": [\"787\", \"1155\", \"0\", \"726\", \"0\", \"2668\"], \"x\": [\"Student_8\", \"Student_8\", \"Student_8\", \"Student_8\", \"Student_8\", \"Student_8\"], \"y\": [\"Video1\", \"Video2\", \"Video3\", \"Video4\", \"Video5\", \"Total\"], \"type\": \"scatter\", \"uid\": \"b0deddea-e299-11e8-9490-d5f4ba98b039\"}, {\"marker\": {\"line\": {\"width\": 2}, \"size\": [0, 652, 568, 332, 437, 1989], \"sizemode\": \"area\", \"sizeref\": 4.5, \"symbol\": \"circle\"}, \"mode\": \"markers\", \"name\": \"Student_9\", \"text\": [\"0\", \"652\", \"568\", \"332\", \"437\", \"1989\"], \"x\": [\"Student_9\", \"Student_9\", \"Student_9\", \"Student_9\", \"Student_9\", \"Student_9\"], \"y\": [\"Video1\", \"Video2\", \"Video3\", \"Video4\", \"Video5\", \"Total\"], \"type\": \"scatter\", \"uid\": \"b0dede6c-e299-11e8-9490-d5f4ba98b039\"}, {\"marker\": {\"line\": {\"width\": 2}, \"size\": [1080, 857, 483, 801, 0, 3221], \"sizemode\": \"area\", \"sizeref\": 4.5, \"symbol\": \"circle\"}, \"mode\": \"markers\", \"name\": \"Student_10\", \"text\": [\"1080\", \"857\", \"483\", \"801\", \"0\", \"3221\"], \"x\": [\"Student_10\", \"Student_10\", \"Student_10\", \"Student_10\", \"Student_10\", \"Student_10\"], \"y\": [\"Video1\", \"Video2\", \"Video3\", \"Video4\", \"Video5\", \"Total\"], \"type\": \"scatter\", \"uid\": \"b0dedee4-e299-11e8-9490-d5f4ba98b039\"}, {\"marker\": {\"line\": {\"width\": 2}, \"size\": [508, 0, 297, 85, 310, 1200], \"sizemode\": \"area\", \"sizeref\": 4.5, \"symbol\": \"circle\"}, \"mode\": \"markers\", \"name\": \"Student_11\", \"text\": [\"508\", \"0\", \"297\", \"85\", \"310\", \"1200\"], \"x\": [\"Student_11\", \"Student_11\", \"Student_11\", \"Student_11\", \"Student_11\", \"Student_11\"], \"y\": [\"Video1\", \"Video2\", \"Video3\", \"Video4\", \"Video5\", \"Total\"], \"type\": \"scatter\", \"uid\": \"b0dedf66-e299-11e8-9490-d5f4ba98b039\"}, {\"marker\": {\"line\": {\"width\": 2}, \"size\": [933, 323, 0, 26, 641, 1923], \"sizemode\": \"area\", \"sizeref\": 4.5, \"symbol\": \"circle\"}, \"mode\": \"markers\", \"name\": \"Student_12\", \"text\": [\"933\", \"323\", \"0\", \"26\", \"641\", \"1923\"], \"x\": [\"Student_12\", \"Student_12\", \"Student_12\", \"Student_12\", \"Student_12\", \"Student_12\"], \"y\": [\"Video1\", \"Video2\", \"Video3\", \"Video4\", \"Video5\", \"Total\"], \"type\": \"scatter\", \"uid\": \"b0dedfe8-e299-11e8-9490-d5f4ba98b039\"}, {\"marker\": {\"line\": {\"width\": 2}, \"size\": [0, 832, 429, 0, 1112, 2373], \"sizemode\": \"area\", \"sizeref\": 4.5, \"symbol\": \"circle\"}, \"mode\": \"markers\", \"name\": \"Student_13\", \"text\": [\"0\", \"832\", \"429\", \"0\", \"1112\", \"2373\"], \"x\": [\"Student_13\", \"Student_13\", \"Student_13\", \"Student_13\", \"Student_13\", \"Student_13\"], \"y\": [\"Video1\", \"Video2\", \"Video3\", \"Video4\", \"Video5\", \"Total\"], \"type\": \"scatter\", \"uid\": \"b0dee060-e299-11e8-9490-d5f4ba98b039\"}, {\"marker\": {\"line\": {\"width\": 2}, \"size\": [1004, 779, 721, 618, 0, 3122], \"sizemode\": \"area\", \"sizeref\": 4.5, \"symbol\": \"circle\"}, \"mode\": \"markers\", \"name\": \"Student_14\", \"text\": [\"1004\", \"779\", \"721\", \"618\", \"0\", \"3122\"], \"x\": [\"Student_14\", \"Student_14\", \"Student_14\", \"Student_14\", \"Student_14\", \"Student_14\"], \"y\": [\"Video1\", \"Video2\", \"Video3\", \"Video4\", \"Video5\", \"Total\"], \"type\": \"scatter\", \"uid\": \"b0dee0d8-e299-11e8-9490-d5f4ba98b039\"}, {\"marker\": {\"line\": {\"width\": 2}, \"size\": [747, 295, 0, 1162, 814, 3018], \"sizemode\": \"area\", \"sizeref\": 4.5, \"symbol\": \"circle\"}, \"mode\": \"markers\", \"name\": \"Student_15\", \"text\": [\"747\", \"295\", \"0\", \"1162\", \"814\", \"3018\"], \"x\": [\"Student_15\", \"Student_15\", \"Student_15\", \"Student_15\", \"Student_15\", \"Student_15\"], \"y\": [\"Video1\", \"Video2\", \"Video3\", \"Video4\", \"Video5\", \"Total\"], \"type\": \"scatter\", \"uid\": \"b0dee15a-e299-11e8-9490-d5f4ba98b039\"}, {\"marker\": {\"line\": {\"width\": 2}, \"size\": [254, 791, 0, 446, 722, 2213], \"sizemode\": \"area\", \"sizeref\": 4.5, \"symbol\": \"circle\"}, \"mode\": \"markers\", \"name\": \"Student_16\", \"text\": [\"254\", \"791\", \"0\", \"446\", \"722\", \"2213\"], \"x\": [\"Student_16\", \"Student_16\", \"Student_16\", \"Student_16\", \"Student_16\", \"Student_16\"], \"y\": [\"Video1\", \"Video2\", \"Video3\", \"Video4\", \"Video5\", \"Total\"], \"type\": \"scatter\", \"uid\": \"b0dee1d2-e299-11e8-9490-d5f4ba98b039\"}, {\"marker\": {\"line\": {\"width\": 2}, \"size\": [842, 0, 1086, 69, 317, 2314], \"sizemode\": \"area\", \"sizeref\": 4.5, \"symbol\": \"circle\"}, \"mode\": \"markers\", \"name\": \"Student_17\", \"text\": [\"842\", \"0\", \"1086\", \"69\", \"317\", \"2314\"], \"x\": [\"Student_17\", \"Student_17\", \"Student_17\", \"Student_17\", \"Student_17\", \"Student_17\"], \"y\": [\"Video1\", \"Video2\", \"Video3\", \"Video4\", \"Video5\", \"Total\"], \"type\": \"scatter\", \"uid\": \"b0dee24a-e299-11e8-9490-d5f4ba98b039\"}, {\"marker\": {\"line\": {\"width\": 2}, \"size\": [937, 549, 952, 0, 626, 3064], \"sizemode\": \"area\", \"sizeref\": 4.5, \"symbol\": \"circle\"}, \"mode\": \"markers\", \"name\": \"Student_18\", \"text\": [\"937\", \"549\", \"952\", \"0\", \"626\", \"3064\"], \"x\": [\"Student_18\", \"Student_18\", \"Student_18\", \"Student_18\", \"Student_18\", \"Student_18\"], \"y\": [\"Video1\", \"Video2\", \"Video3\", \"Video4\", \"Video5\", \"Total\"], \"type\": \"scatter\", \"uid\": \"b0dee2cc-e299-11e8-9490-d5f4ba98b039\"}, {\"marker\": {\"line\": {\"width\": 2}, \"size\": [87, 642, 0, 0, 1242, 1971], \"sizemode\": \"area\", \"sizeref\": 4.5, \"symbol\": \"circle\"}, \"mode\": \"markers\", \"name\": \"Student_19\", \"text\": [\"87\", \"642\", \"0\", \"0\", \"1242\", \"1971\"], \"x\": [\"Student_19\", \"Student_19\", \"Student_19\", \"Student_19\", \"Student_19\", \"Student_19\"], \"y\": [\"Video1\", \"Video2\", \"Video3\", \"Video4\", \"Video5\", \"Total\"], \"type\": \"scatter\", \"uid\": \"b0dee344-e299-11e8-9490-d5f4ba98b039\"}, {\"marker\": {\"line\": {\"width\": 2}, \"size\": [712, 337, 351, 125, 795, 2320], \"sizemode\": \"area\", \"sizeref\": 4.5, \"symbol\": \"circle\"}, \"mode\": \"markers\", \"name\": \"Student_20\", \"text\": [\"712\", \"337\", \"351\", \"125\", \"795\", \"2320\"], \"x\": [\"Student_20\", \"Student_20\", \"Student_20\", \"Student_20\", \"Student_20\", \"Student_20\"], \"y\": [\"Video1\", \"Video2\", \"Video3\", \"Video4\", \"Video5\", \"Total\"], \"type\": \"scatter\", \"uid\": \"b0dee3bc-e299-11e8-9490-d5f4ba98b039\"}], {\"hovermode\": \"closest\", \"showlegend\": true, \"title\": \"Tempo de acesso aos v\\u00eddeos por estudante\", \"xaxis\": {\"autorange\": false, \"fixedrange\": false, \"range\": [-1, 20], \"rangemode\": \"normal\", \"showline\": true, \"title\": \"Estudantes\", \"type\": \"category\"}, \"yaxis\": {\"autorange\": false, \"fixedrange\": false, \"range\": [-1, 6], \"rangemode\": \"normal\", \"showline\": true, \"title\": \"Videos\", \"type\": \"category\"}}, {\"showLink\": true, \"linkText\": \"Export to plot.ly\"})});</script>"
      ]
     },
     "metadata": {},
     "output_type": "display_data"
    },
    {
     "data": {
      "application/vnd.plotly.v1+json": {
       "data": [
        {
         "name": "Video1",
         "type": "bar",
         "uid": "b0f0c08c-e299-11e8-9490-d5f4ba98b039",
         "x": [
          "Student_1",
          "Student_2",
          "Student_3",
          "Student_4",
          "Student_5",
          "Student_6",
          "Student_7",
          "Student_8",
          "Student_9",
          "Student_10",
          "Student_11",
          "Student_12",
          "Student_13",
          "Student_14",
          "Student_15",
          "Student_16",
          "Student_17",
          "Student_18",
          "Student_19",
          "Student_20"
         ],
         "y": [
          1764,
          0,
          687,
          1008,
          638,
          728,
          312,
          787,
          0,
          1080,
          508,
          933,
          0,
          1004,
          747,
          254,
          842,
          937,
          87,
          712
         ]
        },
        {
         "name": "Video2",
         "type": "bar",
         "uid": "b0f0c24e-e299-11e8-9490-d5f4ba98b039",
         "x": [
          "Student_1",
          "Student_2",
          "Student_3",
          "Student_4",
          "Student_5",
          "Student_6",
          "Student_7",
          "Student_8",
          "Student_9",
          "Student_10",
          "Student_11",
          "Student_12",
          "Student_13",
          "Student_14",
          "Student_15",
          "Student_16",
          "Student_17",
          "Student_18",
          "Student_19",
          "Student_20"
         ],
         "y": [
          1204,
          0,
          397,
          830,
          167,
          0,
          727,
          1155,
          652,
          857,
          0,
          323,
          832,
          779,
          295,
          791,
          0,
          549,
          642,
          337
         ]
        },
        {
         "name": "Video3",
         "type": "bar",
         "uid": "b0f0c32a-e299-11e8-9490-d5f4ba98b039",
         "x": [
          "Student_1",
          "Student_2",
          "Student_3",
          "Student_4",
          "Student_5",
          "Student_6",
          "Student_7",
          "Student_8",
          "Student_9",
          "Student_10",
          "Student_11",
          "Student_12",
          "Student_13",
          "Student_14",
          "Student_15",
          "Student_16",
          "Student_17",
          "Student_18",
          "Student_19",
          "Student_20"
         ],
         "y": [
          823,
          384,
          0,
          185,
          736,
          0,
          202,
          0,
          568,
          483,
          297,
          0,
          429,
          721,
          0,
          0,
          1086,
          952,
          0,
          351
         ]
        },
        {
         "name": "Video4",
         "type": "bar",
         "uid": "b0f0c3d4-e299-11e8-9490-d5f4ba98b039",
         "x": [
          "Student_1",
          "Student_2",
          "Student_3",
          "Student_4",
          "Student_5",
          "Student_6",
          "Student_7",
          "Student_8",
          "Student_9",
          "Student_10",
          "Student_11",
          "Student_12",
          "Student_13",
          "Student_14",
          "Student_15",
          "Student_16",
          "Student_17",
          "Student_18",
          "Student_19",
          "Student_20"
         ],
         "y": [
          901,
          680,
          997,
          207,
          651,
          0,
          270,
          726,
          332,
          801,
          85,
          26,
          0,
          618,
          1162,
          446,
          69,
          0,
          0,
          125
         ]
        },
        {
         "name": "Video5",
         "type": "bar",
         "uid": "b0f0c47e-e299-11e8-9490-d5f4ba98b039",
         "x": [
          "Student_1",
          "Student_2",
          "Student_3",
          "Student_4",
          "Student_5",
          "Student_6",
          "Student_7",
          "Student_8",
          "Student_9",
          "Student_10",
          "Student_11",
          "Student_12",
          "Student_13",
          "Student_14",
          "Student_15",
          "Student_16",
          "Student_17",
          "Student_18",
          "Student_19",
          "Student_20"
         ],
         "y": [
          0,
          246,
          424,
          0,
          231,
          1396,
          806,
          0,
          437,
          0,
          310,
          641,
          1112,
          0,
          814,
          722,
          317,
          626,
          1242,
          795
         ]
        }
       ],
       "layout": {
        "title": "Número de acessos aos vídeos agrupados por estudante",
        "yaxis": {
         "dtick": 100,
         "exponentformat": "e",
         "gridcolor": "#bdbdbd",
         "showexponent": "all",
         "showticklabels": true,
         "tick0": 0,
         "titlefont": {
          "color": "lightgrey",
          "family": "Arial, sans-serif"
         }
        }
       }
      },
      "text/html": [
       "<div id=\"e484c059-1f39-4331-a11b-ace7bb15f716\" style=\"height: 525px; width: 100%;\" class=\"plotly-graph-div\"></div><script type=\"text/javascript\">require([\"plotly\"], function(Plotly) { window.PLOTLYENV=window.PLOTLYENV || {};window.PLOTLYENV.BASE_URL=\"https://plot.ly\";Plotly.newPlot(\"e484c059-1f39-4331-a11b-ace7bb15f716\", [{\"name\": \"Video1\", \"x\": [\"Student_1\", \"Student_2\", \"Student_3\", \"Student_4\", \"Student_5\", \"Student_6\", \"Student_7\", \"Student_8\", \"Student_9\", \"Student_10\", \"Student_11\", \"Student_12\", \"Student_13\", \"Student_14\", \"Student_15\", \"Student_16\", \"Student_17\", \"Student_18\", \"Student_19\", \"Student_20\"], \"y\": [1764, 0, 687, 1008, 638, 728, 312, 787, 0, 1080, 508, 933, 0, 1004, 747, 254, 842, 937, 87, 712], \"type\": \"bar\", \"uid\": \"b0f0c08c-e299-11e8-9490-d5f4ba98b039\"}, {\"name\": \"Video2\", \"x\": [\"Student_1\", \"Student_2\", \"Student_3\", \"Student_4\", \"Student_5\", \"Student_6\", \"Student_7\", \"Student_8\", \"Student_9\", \"Student_10\", \"Student_11\", \"Student_12\", \"Student_13\", \"Student_14\", \"Student_15\", \"Student_16\", \"Student_17\", \"Student_18\", \"Student_19\", \"Student_20\"], \"y\": [1204, 0, 397, 830, 167, 0, 727, 1155, 652, 857, 0, 323, 832, 779, 295, 791, 0, 549, 642, 337], \"type\": \"bar\", \"uid\": \"b0f0c24e-e299-11e8-9490-d5f4ba98b039\"}, {\"name\": \"Video3\", \"x\": [\"Student_1\", \"Student_2\", \"Student_3\", \"Student_4\", \"Student_5\", \"Student_6\", \"Student_7\", \"Student_8\", \"Student_9\", \"Student_10\", \"Student_11\", \"Student_12\", \"Student_13\", \"Student_14\", \"Student_15\", \"Student_16\", \"Student_17\", \"Student_18\", \"Student_19\", \"Student_20\"], \"y\": [823, 384, 0, 185, 736, 0, 202, 0, 568, 483, 297, 0, 429, 721, 0, 0, 1086, 952, 0, 351], \"type\": \"bar\", \"uid\": \"b0f0c32a-e299-11e8-9490-d5f4ba98b039\"}, {\"name\": \"Video4\", \"x\": [\"Student_1\", \"Student_2\", \"Student_3\", \"Student_4\", \"Student_5\", \"Student_6\", \"Student_7\", \"Student_8\", \"Student_9\", \"Student_10\", \"Student_11\", \"Student_12\", \"Student_13\", \"Student_14\", \"Student_15\", \"Student_16\", \"Student_17\", \"Student_18\", \"Student_19\", \"Student_20\"], \"y\": [901, 680, 997, 207, 651, 0, 270, 726, 332, 801, 85, 26, 0, 618, 1162, 446, 69, 0, 0, 125], \"type\": \"bar\", \"uid\": \"b0f0c3d4-e299-11e8-9490-d5f4ba98b039\"}, {\"name\": \"Video5\", \"x\": [\"Student_1\", \"Student_2\", \"Student_3\", \"Student_4\", \"Student_5\", \"Student_6\", \"Student_7\", \"Student_8\", \"Student_9\", \"Student_10\", \"Student_11\", \"Student_12\", \"Student_13\", \"Student_14\", \"Student_15\", \"Student_16\", \"Student_17\", \"Student_18\", \"Student_19\", \"Student_20\"], \"y\": [0, 246, 424, 0, 231, 1396, 806, 0, 437, 0, 310, 641, 1112, 0, 814, 722, 317, 626, 1242, 795], \"type\": \"bar\", \"uid\": \"b0f0c47e-e299-11e8-9490-d5f4ba98b039\"}], {\"title\": \"N\\u00famero de acessos aos v\\u00eddeos agrupados por estudante\", \"yaxis\": {\"dtick\": 100, \"exponentformat\": \"e\", \"gridcolor\": \"#bdbdbd\", \"showexponent\": \"all\", \"showticklabels\": true, \"tick0\": 0, \"titlefont\": {\"color\": \"lightgrey\", \"family\": \"Arial, sans-serif\"}}}, {\"showLink\": true, \"linkText\": \"Export to plot.ly\"})});</script>"
      ],
      "text/vnd.plotly.v1+html": [
       "<div id=\"e484c059-1f39-4331-a11b-ace7bb15f716\" style=\"height: 525px; width: 100%;\" class=\"plotly-graph-div\"></div><script type=\"text/javascript\">require([\"plotly\"], function(Plotly) { window.PLOTLYENV=window.PLOTLYENV || {};window.PLOTLYENV.BASE_URL=\"https://plot.ly\";Plotly.newPlot(\"e484c059-1f39-4331-a11b-ace7bb15f716\", [{\"name\": \"Video1\", \"x\": [\"Student_1\", \"Student_2\", \"Student_3\", \"Student_4\", \"Student_5\", \"Student_6\", \"Student_7\", \"Student_8\", \"Student_9\", \"Student_10\", \"Student_11\", \"Student_12\", \"Student_13\", \"Student_14\", \"Student_15\", \"Student_16\", \"Student_17\", \"Student_18\", \"Student_19\", \"Student_20\"], \"y\": [1764, 0, 687, 1008, 638, 728, 312, 787, 0, 1080, 508, 933, 0, 1004, 747, 254, 842, 937, 87, 712], \"type\": \"bar\", \"uid\": \"b0f0c08c-e299-11e8-9490-d5f4ba98b039\"}, {\"name\": \"Video2\", \"x\": [\"Student_1\", \"Student_2\", \"Student_3\", \"Student_4\", \"Student_5\", \"Student_6\", \"Student_7\", \"Student_8\", \"Student_9\", \"Student_10\", \"Student_11\", \"Student_12\", \"Student_13\", \"Student_14\", \"Student_15\", \"Student_16\", \"Student_17\", \"Student_18\", \"Student_19\", \"Student_20\"], \"y\": [1204, 0, 397, 830, 167, 0, 727, 1155, 652, 857, 0, 323, 832, 779, 295, 791, 0, 549, 642, 337], \"type\": \"bar\", \"uid\": \"b0f0c24e-e299-11e8-9490-d5f4ba98b039\"}, {\"name\": \"Video3\", \"x\": [\"Student_1\", \"Student_2\", \"Student_3\", \"Student_4\", \"Student_5\", \"Student_6\", \"Student_7\", \"Student_8\", \"Student_9\", \"Student_10\", \"Student_11\", \"Student_12\", \"Student_13\", \"Student_14\", \"Student_15\", \"Student_16\", \"Student_17\", \"Student_18\", \"Student_19\", \"Student_20\"], \"y\": [823, 384, 0, 185, 736, 0, 202, 0, 568, 483, 297, 0, 429, 721, 0, 0, 1086, 952, 0, 351], \"type\": \"bar\", \"uid\": \"b0f0c32a-e299-11e8-9490-d5f4ba98b039\"}, {\"name\": \"Video4\", \"x\": [\"Student_1\", \"Student_2\", \"Student_3\", \"Student_4\", \"Student_5\", \"Student_6\", \"Student_7\", \"Student_8\", \"Student_9\", \"Student_10\", \"Student_11\", \"Student_12\", \"Student_13\", \"Student_14\", \"Student_15\", \"Student_16\", \"Student_17\", \"Student_18\", \"Student_19\", \"Student_20\"], \"y\": [901, 680, 997, 207, 651, 0, 270, 726, 332, 801, 85, 26, 0, 618, 1162, 446, 69, 0, 0, 125], \"type\": \"bar\", \"uid\": \"b0f0c3d4-e299-11e8-9490-d5f4ba98b039\"}, {\"name\": \"Video5\", \"x\": [\"Student_1\", \"Student_2\", \"Student_3\", \"Student_4\", \"Student_5\", \"Student_6\", \"Student_7\", \"Student_8\", \"Student_9\", \"Student_10\", \"Student_11\", \"Student_12\", \"Student_13\", \"Student_14\", \"Student_15\", \"Student_16\", \"Student_17\", \"Student_18\", \"Student_19\", \"Student_20\"], \"y\": [0, 246, 424, 0, 231, 1396, 806, 0, 437, 0, 310, 641, 1112, 0, 814, 722, 317, 626, 1242, 795], \"type\": \"bar\", \"uid\": \"b0f0c47e-e299-11e8-9490-d5f4ba98b039\"}], {\"title\": \"N\\u00famero de acessos aos v\\u00eddeos agrupados por estudante\", \"yaxis\": {\"dtick\": 100, \"exponentformat\": \"e\", \"gridcolor\": \"#bdbdbd\", \"showexponent\": \"all\", \"showticklabels\": true, \"tick0\": 0, \"titlefont\": {\"color\": \"lightgrey\", \"family\": \"Arial, sans-serif\"}}}, {\"showLink\": true, \"linkText\": \"Export to plot.ly\"})});</script>"
      ]
     },
     "metadata": {},
     "output_type": "display_data"
    },
    {
     "data": {
      "application/vnd.plotly.v1+json": {
       "data": [
        {
         "name": "Video1",
         "type": "bar",
         "uid": "b0f8a32e-e299-11e8-9490-d5f4ba98b039",
         "x": [
          "Student_1",
          "Student_2",
          "Student_3",
          "Student_4",
          "Student_5",
          "Student_6",
          "Student_7",
          "Student_8",
          "Student_9",
          "Student_10",
          "Student_11",
          "Student_12",
          "Student_13",
          "Student_14",
          "Student_15",
          "Student_16",
          "Student_17",
          "Student_18",
          "Student_19",
          "Student_20"
         ],
         "y": [
          1764,
          0,
          687,
          1008,
          638,
          728,
          312,
          787,
          0,
          1080,
          508,
          933,
          0,
          1004,
          747,
          254,
          842,
          937,
          87,
          712
         ]
        },
        {
         "name": "Video2",
         "type": "bar",
         "uid": "b0f8a504-e299-11e8-9490-d5f4ba98b039",
         "x": [
          "Student_1",
          "Student_2",
          "Student_3",
          "Student_4",
          "Student_5",
          "Student_6",
          "Student_7",
          "Student_8",
          "Student_9",
          "Student_10",
          "Student_11",
          "Student_12",
          "Student_13",
          "Student_14",
          "Student_15",
          "Student_16",
          "Student_17",
          "Student_18",
          "Student_19",
          "Student_20"
         ],
         "y": [
          1204,
          0,
          397,
          830,
          167,
          0,
          727,
          1155,
          652,
          857,
          0,
          323,
          832,
          779,
          295,
          791,
          0,
          549,
          642,
          337
         ]
        },
        {
         "name": "Video3",
         "type": "bar",
         "uid": "b0f8a5f4-e299-11e8-9490-d5f4ba98b039",
         "x": [
          "Student_1",
          "Student_2",
          "Student_3",
          "Student_4",
          "Student_5",
          "Student_6",
          "Student_7",
          "Student_8",
          "Student_9",
          "Student_10",
          "Student_11",
          "Student_12",
          "Student_13",
          "Student_14",
          "Student_15",
          "Student_16",
          "Student_17",
          "Student_18",
          "Student_19",
          "Student_20"
         ],
         "y": [
          823,
          384,
          0,
          185,
          736,
          0,
          202,
          0,
          568,
          483,
          297,
          0,
          429,
          721,
          0,
          0,
          1086,
          952,
          0,
          351
         ]
        },
        {
         "name": "Video4",
         "type": "bar",
         "uid": "b0f8a6d0-e299-11e8-9490-d5f4ba98b039",
         "x": [
          "Student_1",
          "Student_2",
          "Student_3",
          "Student_4",
          "Student_5",
          "Student_6",
          "Student_7",
          "Student_8",
          "Student_9",
          "Student_10",
          "Student_11",
          "Student_12",
          "Student_13",
          "Student_14",
          "Student_15",
          "Student_16",
          "Student_17",
          "Student_18",
          "Student_19",
          "Student_20"
         ],
         "y": [
          901,
          680,
          997,
          207,
          651,
          0,
          270,
          726,
          332,
          801,
          85,
          26,
          0,
          618,
          1162,
          446,
          69,
          0,
          0,
          125
         ]
        },
        {
         "name": "Video5",
         "type": "bar",
         "uid": "b0f8a798-e299-11e8-9490-d5f4ba98b039",
         "x": [
          "Student_1",
          "Student_2",
          "Student_3",
          "Student_4",
          "Student_5",
          "Student_6",
          "Student_7",
          "Student_8",
          "Student_9",
          "Student_10",
          "Student_11",
          "Student_12",
          "Student_13",
          "Student_14",
          "Student_15",
          "Student_16",
          "Student_17",
          "Student_18",
          "Student_19",
          "Student_20"
         ],
         "y": [
          0,
          246,
          424,
          0,
          231,
          1396,
          806,
          0,
          437,
          0,
          310,
          641,
          1112,
          0,
          814,
          722,
          317,
          626,
          1242,
          795
         ]
        }
       ],
       "layout": {
        "barmode": "stack",
        "title": "Número de acessos aos vídeos agrupados por estudante",
        "yaxis": {
         "dtick": 300,
         "exponentformat": "e",
         "gridcolor": "#bdbdbd",
         "showexponent": "all",
         "showticklabels": true,
         "tick0": 0,
         "titlefont": {
          "color": "lightgrey",
          "family": "Arial, sans-serif"
         }
        }
       }
      },
      "text/html": [
       "<div id=\"43b74146-faa7-456e-a2ef-ba8b53696815\" style=\"height: 525px; width: 100%;\" class=\"plotly-graph-div\"></div><script type=\"text/javascript\">require([\"plotly\"], function(Plotly) { window.PLOTLYENV=window.PLOTLYENV || {};window.PLOTLYENV.BASE_URL=\"https://plot.ly\";Plotly.newPlot(\"43b74146-faa7-456e-a2ef-ba8b53696815\", [{\"name\": \"Video1\", \"x\": [\"Student_1\", \"Student_2\", \"Student_3\", \"Student_4\", \"Student_5\", \"Student_6\", \"Student_7\", \"Student_8\", \"Student_9\", \"Student_10\", \"Student_11\", \"Student_12\", \"Student_13\", \"Student_14\", \"Student_15\", \"Student_16\", \"Student_17\", \"Student_18\", \"Student_19\", \"Student_20\"], \"y\": [1764, 0, 687, 1008, 638, 728, 312, 787, 0, 1080, 508, 933, 0, 1004, 747, 254, 842, 937, 87, 712], \"type\": \"bar\", \"uid\": \"b0f8a32e-e299-11e8-9490-d5f4ba98b039\"}, {\"name\": \"Video2\", \"x\": [\"Student_1\", \"Student_2\", \"Student_3\", \"Student_4\", \"Student_5\", \"Student_6\", \"Student_7\", \"Student_8\", \"Student_9\", \"Student_10\", \"Student_11\", \"Student_12\", \"Student_13\", \"Student_14\", \"Student_15\", \"Student_16\", \"Student_17\", \"Student_18\", \"Student_19\", \"Student_20\"], \"y\": [1204, 0, 397, 830, 167, 0, 727, 1155, 652, 857, 0, 323, 832, 779, 295, 791, 0, 549, 642, 337], \"type\": \"bar\", \"uid\": \"b0f8a504-e299-11e8-9490-d5f4ba98b039\"}, {\"name\": \"Video3\", \"x\": [\"Student_1\", \"Student_2\", \"Student_3\", \"Student_4\", \"Student_5\", \"Student_6\", \"Student_7\", \"Student_8\", \"Student_9\", \"Student_10\", \"Student_11\", \"Student_12\", \"Student_13\", \"Student_14\", \"Student_15\", \"Student_16\", \"Student_17\", \"Student_18\", \"Student_19\", \"Student_20\"], \"y\": [823, 384, 0, 185, 736, 0, 202, 0, 568, 483, 297, 0, 429, 721, 0, 0, 1086, 952, 0, 351], \"type\": \"bar\", \"uid\": \"b0f8a5f4-e299-11e8-9490-d5f4ba98b039\"}, {\"name\": \"Video4\", \"x\": [\"Student_1\", \"Student_2\", \"Student_3\", \"Student_4\", \"Student_5\", \"Student_6\", \"Student_7\", \"Student_8\", \"Student_9\", \"Student_10\", \"Student_11\", \"Student_12\", \"Student_13\", \"Student_14\", \"Student_15\", \"Student_16\", \"Student_17\", \"Student_18\", \"Student_19\", \"Student_20\"], \"y\": [901, 680, 997, 207, 651, 0, 270, 726, 332, 801, 85, 26, 0, 618, 1162, 446, 69, 0, 0, 125], \"type\": \"bar\", \"uid\": \"b0f8a6d0-e299-11e8-9490-d5f4ba98b039\"}, {\"name\": \"Video5\", \"x\": [\"Student_1\", \"Student_2\", \"Student_3\", \"Student_4\", \"Student_5\", \"Student_6\", \"Student_7\", \"Student_8\", \"Student_9\", \"Student_10\", \"Student_11\", \"Student_12\", \"Student_13\", \"Student_14\", \"Student_15\", \"Student_16\", \"Student_17\", \"Student_18\", \"Student_19\", \"Student_20\"], \"y\": [0, 246, 424, 0, 231, 1396, 806, 0, 437, 0, 310, 641, 1112, 0, 814, 722, 317, 626, 1242, 795], \"type\": \"bar\", \"uid\": \"b0f8a798-e299-11e8-9490-d5f4ba98b039\"}], {\"barmode\": \"stack\", \"title\": \"N\\u00famero de acessos aos v\\u00eddeos agrupados por estudante\", \"yaxis\": {\"dtick\": 300, \"exponentformat\": \"e\", \"gridcolor\": \"#bdbdbd\", \"showexponent\": \"all\", \"showticklabels\": true, \"tick0\": 0, \"titlefont\": {\"color\": \"lightgrey\", \"family\": \"Arial, sans-serif\"}}}, {\"showLink\": true, \"linkText\": \"Export to plot.ly\"})});</script>"
      ],
      "text/vnd.plotly.v1+html": [
       "<div id=\"43b74146-faa7-456e-a2ef-ba8b53696815\" style=\"height: 525px; width: 100%;\" class=\"plotly-graph-div\"></div><script type=\"text/javascript\">require([\"plotly\"], function(Plotly) { window.PLOTLYENV=window.PLOTLYENV || {};window.PLOTLYENV.BASE_URL=\"https://plot.ly\";Plotly.newPlot(\"43b74146-faa7-456e-a2ef-ba8b53696815\", [{\"name\": \"Video1\", \"x\": [\"Student_1\", \"Student_2\", \"Student_3\", \"Student_4\", \"Student_5\", \"Student_6\", \"Student_7\", \"Student_8\", \"Student_9\", \"Student_10\", \"Student_11\", \"Student_12\", \"Student_13\", \"Student_14\", \"Student_15\", \"Student_16\", \"Student_17\", \"Student_18\", \"Student_19\", \"Student_20\"], \"y\": [1764, 0, 687, 1008, 638, 728, 312, 787, 0, 1080, 508, 933, 0, 1004, 747, 254, 842, 937, 87, 712], \"type\": \"bar\", \"uid\": \"b0f8a32e-e299-11e8-9490-d5f4ba98b039\"}, {\"name\": \"Video2\", \"x\": [\"Student_1\", \"Student_2\", \"Student_3\", \"Student_4\", \"Student_5\", \"Student_6\", \"Student_7\", \"Student_8\", \"Student_9\", \"Student_10\", \"Student_11\", \"Student_12\", \"Student_13\", \"Student_14\", \"Student_15\", \"Student_16\", \"Student_17\", \"Student_18\", \"Student_19\", \"Student_20\"], \"y\": [1204, 0, 397, 830, 167, 0, 727, 1155, 652, 857, 0, 323, 832, 779, 295, 791, 0, 549, 642, 337], \"type\": \"bar\", \"uid\": \"b0f8a504-e299-11e8-9490-d5f4ba98b039\"}, {\"name\": \"Video3\", \"x\": [\"Student_1\", \"Student_2\", \"Student_3\", \"Student_4\", \"Student_5\", \"Student_6\", \"Student_7\", \"Student_8\", \"Student_9\", \"Student_10\", \"Student_11\", \"Student_12\", \"Student_13\", \"Student_14\", \"Student_15\", \"Student_16\", \"Student_17\", \"Student_18\", \"Student_19\", \"Student_20\"], \"y\": [823, 384, 0, 185, 736, 0, 202, 0, 568, 483, 297, 0, 429, 721, 0, 0, 1086, 952, 0, 351], \"type\": \"bar\", \"uid\": \"b0f8a5f4-e299-11e8-9490-d5f4ba98b039\"}, {\"name\": \"Video4\", \"x\": [\"Student_1\", \"Student_2\", \"Student_3\", \"Student_4\", \"Student_5\", \"Student_6\", \"Student_7\", \"Student_8\", \"Student_9\", \"Student_10\", \"Student_11\", \"Student_12\", \"Student_13\", \"Student_14\", \"Student_15\", \"Student_16\", \"Student_17\", \"Student_18\", \"Student_19\", \"Student_20\"], \"y\": [901, 680, 997, 207, 651, 0, 270, 726, 332, 801, 85, 26, 0, 618, 1162, 446, 69, 0, 0, 125], \"type\": \"bar\", \"uid\": \"b0f8a6d0-e299-11e8-9490-d5f4ba98b039\"}, {\"name\": \"Video5\", \"x\": [\"Student_1\", \"Student_2\", \"Student_3\", \"Student_4\", \"Student_5\", \"Student_6\", \"Student_7\", \"Student_8\", \"Student_9\", \"Student_10\", \"Student_11\", \"Student_12\", \"Student_13\", \"Student_14\", \"Student_15\", \"Student_16\", \"Student_17\", \"Student_18\", \"Student_19\", \"Student_20\"], \"y\": [0, 246, 424, 0, 231, 1396, 806, 0, 437, 0, 310, 641, 1112, 0, 814, 722, 317, 626, 1242, 795], \"type\": \"bar\", \"uid\": \"b0f8a798-e299-11e8-9490-d5f4ba98b039\"}], {\"barmode\": \"stack\", \"title\": \"N\\u00famero de acessos aos v\\u00eddeos agrupados por estudante\", \"yaxis\": {\"dtick\": 300, \"exponentformat\": \"e\", \"gridcolor\": \"#bdbdbd\", \"showexponent\": \"all\", \"showticklabels\": true, \"tick0\": 0, \"titlefont\": {\"color\": \"lightgrey\", \"family\": \"Arial, sans-serif\"}}}, {\"showLink\": true, \"linkText\": \"Export to plot.ly\"})});</script>"
      ]
     },
     "metadata": {},
     "output_type": "display_data"
    },
    {
     "data": {
      "application/vnd.plotly.v1+json": {
       "data": [
        {
         "name": "Video1",
         "orientation": "h",
         "type": "bar",
         "uid": "b0ffc08c-e299-11e8-9490-d5f4ba98b039",
         "x": [
          1764,
          0,
          687,
          1008,
          638,
          728,
          312,
          787,
          0,
          1080,
          508,
          933,
          0,
          1004,
          747,
          254,
          842,
          937,
          87,
          712
         ],
         "y": [
          "Student_1",
          "Student_2",
          "Student_3",
          "Student_4",
          "Student_5",
          "Student_6",
          "Student_7",
          "Student_8",
          "Student_9",
          "Student_10",
          "Student_11",
          "Student_12",
          "Student_13",
          "Student_14",
          "Student_15",
          "Student_16",
          "Student_17",
          "Student_18",
          "Student_19",
          "Student_20"
         ]
        },
        {
         "name": "Video2",
         "orientation": "h",
         "type": "bar",
         "uid": "b0ffc230-e299-11e8-9490-d5f4ba98b039",
         "x": [
          1204,
          0,
          397,
          830,
          167,
          0,
          727,
          1155,
          652,
          857,
          0,
          323,
          832,
          779,
          295,
          791,
          0,
          549,
          642,
          337
         ],
         "y": [
          "Student_1",
          "Student_2",
          "Student_3",
          "Student_4",
          "Student_5",
          "Student_6",
          "Student_7",
          "Student_8",
          "Student_9",
          "Student_10",
          "Student_11",
          "Student_12",
          "Student_13",
          "Student_14",
          "Student_15",
          "Student_16",
          "Student_17",
          "Student_18",
          "Student_19",
          "Student_20"
         ]
        },
        {
         "name": "Video3",
         "orientation": "h",
         "type": "bar",
         "uid": "b0ffc30c-e299-11e8-9490-d5f4ba98b039",
         "x": [
          823,
          384,
          0,
          185,
          736,
          0,
          202,
          0,
          568,
          483,
          297,
          0,
          429,
          721,
          0,
          0,
          1086,
          952,
          0,
          351
         ],
         "y": [
          "Student_1",
          "Student_2",
          "Student_3",
          "Student_4",
          "Student_5",
          "Student_6",
          "Student_7",
          "Student_8",
          "Student_9",
          "Student_10",
          "Student_11",
          "Student_12",
          "Student_13",
          "Student_14",
          "Student_15",
          "Student_16",
          "Student_17",
          "Student_18",
          "Student_19",
          "Student_20"
         ]
        },
        {
         "name": "Video4",
         "orientation": "h",
         "type": "bar",
         "uid": "b0ffc3c0-e299-11e8-9490-d5f4ba98b039",
         "x": [
          901,
          680,
          997,
          207,
          651,
          0,
          270,
          726,
          332,
          801,
          85,
          26,
          0,
          618,
          1162,
          446,
          69,
          0,
          0,
          125
         ],
         "y": [
          "Student_1",
          "Student_2",
          "Student_3",
          "Student_4",
          "Student_5",
          "Student_6",
          "Student_7",
          "Student_8",
          "Student_9",
          "Student_10",
          "Student_11",
          "Student_12",
          "Student_13",
          "Student_14",
          "Student_15",
          "Student_16",
          "Student_17",
          "Student_18",
          "Student_19",
          "Student_20"
         ]
        },
        {
         "name": "Video5",
         "orientation": "h",
         "type": "bar",
         "uid": "b0ffc460-e299-11e8-9490-d5f4ba98b039",
         "x": [
          0,
          246,
          424,
          0,
          231,
          1396,
          806,
          0,
          437,
          0,
          310,
          641,
          1112,
          0,
          814,
          722,
          317,
          626,
          1242,
          795
         ],
         "y": [
          "Student_1",
          "Student_2",
          "Student_3",
          "Student_4",
          "Student_5",
          "Student_6",
          "Student_7",
          "Student_8",
          "Student_9",
          "Student_10",
          "Student_11",
          "Student_12",
          "Student_13",
          "Student_14",
          "Student_15",
          "Student_16",
          "Student_17",
          "Student_18",
          "Student_19",
          "Student_20"
         ]
        }
       ],
       "layout": {
        "barmode": "stack",
        "title": "Número de acessos aos vídeos agrupados por estudante",
        "yaxis": {
         "dtick": 1,
         "exponentformat": "e",
         "gridcolor": "#bdbdbd",
         "showexponent": "all",
         "showticklabels": true,
         "tick0": 0,
         "titlefont": {
          "color": "lightgrey",
          "family": "Arial, sans-serif"
         }
        }
       }
      },
      "text/html": [
       "<div id=\"691237d3-44f8-406c-85cf-d904f801f1f2\" style=\"height: 525px; width: 100%;\" class=\"plotly-graph-div\"></div><script type=\"text/javascript\">require([\"plotly\"], function(Plotly) { window.PLOTLYENV=window.PLOTLYENV || {};window.PLOTLYENV.BASE_URL=\"https://plot.ly\";Plotly.newPlot(\"691237d3-44f8-406c-85cf-d904f801f1f2\", [{\"name\": \"Video1\", \"orientation\": \"h\", \"x\": [1764, 0, 687, 1008, 638, 728, 312, 787, 0, 1080, 508, 933, 0, 1004, 747, 254, 842, 937, 87, 712], \"y\": [\"Student_1\", \"Student_2\", \"Student_3\", \"Student_4\", \"Student_5\", \"Student_6\", \"Student_7\", \"Student_8\", \"Student_9\", \"Student_10\", \"Student_11\", \"Student_12\", \"Student_13\", \"Student_14\", \"Student_15\", \"Student_16\", \"Student_17\", \"Student_18\", \"Student_19\", \"Student_20\"], \"type\": \"bar\", \"uid\": \"b0ffc08c-e299-11e8-9490-d5f4ba98b039\"}, {\"name\": \"Video2\", \"orientation\": \"h\", \"x\": [1204, 0, 397, 830, 167, 0, 727, 1155, 652, 857, 0, 323, 832, 779, 295, 791, 0, 549, 642, 337], \"y\": [\"Student_1\", \"Student_2\", \"Student_3\", \"Student_4\", \"Student_5\", \"Student_6\", \"Student_7\", \"Student_8\", \"Student_9\", \"Student_10\", \"Student_11\", \"Student_12\", \"Student_13\", \"Student_14\", \"Student_15\", \"Student_16\", \"Student_17\", \"Student_18\", \"Student_19\", \"Student_20\"], \"type\": \"bar\", \"uid\": \"b0ffc230-e299-11e8-9490-d5f4ba98b039\"}, {\"name\": \"Video3\", \"orientation\": \"h\", \"x\": [823, 384, 0, 185, 736, 0, 202, 0, 568, 483, 297, 0, 429, 721, 0, 0, 1086, 952, 0, 351], \"y\": [\"Student_1\", \"Student_2\", \"Student_3\", \"Student_4\", \"Student_5\", \"Student_6\", \"Student_7\", \"Student_8\", \"Student_9\", \"Student_10\", \"Student_11\", \"Student_12\", \"Student_13\", \"Student_14\", \"Student_15\", \"Student_16\", \"Student_17\", \"Student_18\", \"Student_19\", \"Student_20\"], \"type\": \"bar\", \"uid\": \"b0ffc30c-e299-11e8-9490-d5f4ba98b039\"}, {\"name\": \"Video4\", \"orientation\": \"h\", \"x\": [901, 680, 997, 207, 651, 0, 270, 726, 332, 801, 85, 26, 0, 618, 1162, 446, 69, 0, 0, 125], \"y\": [\"Student_1\", \"Student_2\", \"Student_3\", \"Student_4\", \"Student_5\", \"Student_6\", \"Student_7\", \"Student_8\", \"Student_9\", \"Student_10\", \"Student_11\", \"Student_12\", \"Student_13\", \"Student_14\", \"Student_15\", \"Student_16\", \"Student_17\", \"Student_18\", \"Student_19\", \"Student_20\"], \"type\": \"bar\", \"uid\": \"b0ffc3c0-e299-11e8-9490-d5f4ba98b039\"}, {\"name\": \"Video5\", \"orientation\": \"h\", \"x\": [0, 246, 424, 0, 231, 1396, 806, 0, 437, 0, 310, 641, 1112, 0, 814, 722, 317, 626, 1242, 795], \"y\": [\"Student_1\", \"Student_2\", \"Student_3\", \"Student_4\", \"Student_5\", \"Student_6\", \"Student_7\", \"Student_8\", \"Student_9\", \"Student_10\", \"Student_11\", \"Student_12\", \"Student_13\", \"Student_14\", \"Student_15\", \"Student_16\", \"Student_17\", \"Student_18\", \"Student_19\", \"Student_20\"], \"type\": \"bar\", \"uid\": \"b0ffc460-e299-11e8-9490-d5f4ba98b039\"}], {\"barmode\": \"stack\", \"title\": \"N\\u00famero de acessos aos v\\u00eddeos agrupados por estudante\", \"yaxis\": {\"dtick\": 1, \"exponentformat\": \"e\", \"gridcolor\": \"#bdbdbd\", \"showexponent\": \"all\", \"showticklabels\": true, \"tick0\": 0, \"titlefont\": {\"color\": \"lightgrey\", \"family\": \"Arial, sans-serif\"}}}, {\"showLink\": true, \"linkText\": \"Export to plot.ly\"})});</script>"
      ],
      "text/vnd.plotly.v1+html": [
       "<div id=\"691237d3-44f8-406c-85cf-d904f801f1f2\" style=\"height: 525px; width: 100%;\" class=\"plotly-graph-div\"></div><script type=\"text/javascript\">require([\"plotly\"], function(Plotly) { window.PLOTLYENV=window.PLOTLYENV || {};window.PLOTLYENV.BASE_URL=\"https://plot.ly\";Plotly.newPlot(\"691237d3-44f8-406c-85cf-d904f801f1f2\", [{\"name\": \"Video1\", \"orientation\": \"h\", \"x\": [1764, 0, 687, 1008, 638, 728, 312, 787, 0, 1080, 508, 933, 0, 1004, 747, 254, 842, 937, 87, 712], \"y\": [\"Student_1\", \"Student_2\", \"Student_3\", \"Student_4\", \"Student_5\", \"Student_6\", \"Student_7\", \"Student_8\", \"Student_9\", \"Student_10\", \"Student_11\", \"Student_12\", \"Student_13\", \"Student_14\", \"Student_15\", \"Student_16\", \"Student_17\", \"Student_18\", \"Student_19\", \"Student_20\"], \"type\": \"bar\", \"uid\": \"b0ffc08c-e299-11e8-9490-d5f4ba98b039\"}, {\"name\": \"Video2\", \"orientation\": \"h\", \"x\": [1204, 0, 397, 830, 167, 0, 727, 1155, 652, 857, 0, 323, 832, 779, 295, 791, 0, 549, 642, 337], \"y\": [\"Student_1\", \"Student_2\", \"Student_3\", \"Student_4\", \"Student_5\", \"Student_6\", \"Student_7\", \"Student_8\", \"Student_9\", \"Student_10\", \"Student_11\", \"Student_12\", \"Student_13\", \"Student_14\", \"Student_15\", \"Student_16\", \"Student_17\", \"Student_18\", \"Student_19\", \"Student_20\"], \"type\": \"bar\", \"uid\": \"b0ffc230-e299-11e8-9490-d5f4ba98b039\"}, {\"name\": \"Video3\", \"orientation\": \"h\", \"x\": [823, 384, 0, 185, 736, 0, 202, 0, 568, 483, 297, 0, 429, 721, 0, 0, 1086, 952, 0, 351], \"y\": [\"Student_1\", \"Student_2\", \"Student_3\", \"Student_4\", \"Student_5\", \"Student_6\", \"Student_7\", \"Student_8\", \"Student_9\", \"Student_10\", \"Student_11\", \"Student_12\", \"Student_13\", \"Student_14\", \"Student_15\", \"Student_16\", \"Student_17\", \"Student_18\", \"Student_19\", \"Student_20\"], \"type\": \"bar\", \"uid\": \"b0ffc30c-e299-11e8-9490-d5f4ba98b039\"}, {\"name\": \"Video4\", \"orientation\": \"h\", \"x\": [901, 680, 997, 207, 651, 0, 270, 726, 332, 801, 85, 26, 0, 618, 1162, 446, 69, 0, 0, 125], \"y\": [\"Student_1\", \"Student_2\", \"Student_3\", \"Student_4\", \"Student_5\", \"Student_6\", \"Student_7\", \"Student_8\", \"Student_9\", \"Student_10\", \"Student_11\", \"Student_12\", \"Student_13\", \"Student_14\", \"Student_15\", \"Student_16\", \"Student_17\", \"Student_18\", \"Student_19\", \"Student_20\"], \"type\": \"bar\", \"uid\": \"b0ffc3c0-e299-11e8-9490-d5f4ba98b039\"}, {\"name\": \"Video5\", \"orientation\": \"h\", \"x\": [0, 246, 424, 0, 231, 1396, 806, 0, 437, 0, 310, 641, 1112, 0, 814, 722, 317, 626, 1242, 795], \"y\": [\"Student_1\", \"Student_2\", \"Student_3\", \"Student_4\", \"Student_5\", \"Student_6\", \"Student_7\", \"Student_8\", \"Student_9\", \"Student_10\", \"Student_11\", \"Student_12\", \"Student_13\", \"Student_14\", \"Student_15\", \"Student_16\", \"Student_17\", \"Student_18\", \"Student_19\", \"Student_20\"], \"type\": \"bar\", \"uid\": \"b0ffc460-e299-11e8-9490-d5f4ba98b039\"}], {\"barmode\": \"stack\", \"title\": \"N\\u00famero de acessos aos v\\u00eddeos agrupados por estudante\", \"yaxis\": {\"dtick\": 1, \"exponentformat\": \"e\", \"gridcolor\": \"#bdbdbd\", \"showexponent\": \"all\", \"showticklabels\": true, \"tick0\": 0, \"titlefont\": {\"color\": \"lightgrey\", \"family\": \"Arial, sans-serif\"}}}, {\"showLink\": true, \"linkText\": \"Export to plot.ly\"})});</script>"
      ]
     },
     "metadata": {},
     "output_type": "display_data"
    }
   ],
   "source": [
    "run scripts/V004.py"
   ]
  },
  {
   "cell_type": "markdown",
   "metadata": {},
   "source": [
    "### View 005"
   ]
  },
  {
   "cell_type": "code",
   "execution_count": 14,
   "metadata": {
    "scrolled": false
   },
   "outputs": [
    {
     "data": {
      "text/html": [
       "<script>requirejs.config({paths: { 'plotly': ['https://cdn.plot.ly/plotly-latest.min']},});if(!window.Plotly) {{require(['plotly'],function(plotly) {window.Plotly=plotly;});}}</script>"
      ],
      "text/vnd.plotly.v1+html": [
       "<script>requirejs.config({paths: { 'plotly': ['https://cdn.plot.ly/plotly-latest.min']},});if(!window.Plotly) {{require(['plotly'],function(plotly) {window.Plotly=plotly;});}}</script>"
      ]
     },
     "metadata": {},
     "output_type": "display_data"
    },
    {
     "data": {
      "application/vnd.plotly.v1+json": {
       "data": [
        {
         "cells": {
          "align": [
           "left",
           "center"
          ],
          "fill": {
           "color": "#F5F8FF"
          },
          "values": [
           [
            "Student_1",
            "Student_2",
            "Student_3",
            "Student_4",
            "Student_5",
            "Student_6",
            "Student_7",
            "Student_8",
            "Student_9",
            "Student_10",
            "Student_11",
            "Student_12",
            "Student_13",
            "Student_14",
            "Student_15",
            "Student_16",
            "Student_17",
            "Student_18",
            "Student_19",
            "Student_20",
            "Student_21",
            "Student_22",
            "Student_23",
            "Student_24",
            "Student_25",
            "Student_26",
            "Student_27",
            "Student_28",
            "Student_29",
            "Student_30",
            "Student_31",
            "Student_32",
            "Student_33",
            "Student_34",
            "Student_35",
            "Student_36",
            "Student_37",
            "Student_38",
            "Student_39",
            "Student_40",
            "Student_41",
            "Student_42",
            "Student_43",
            "Student_44",
            "Student_45",
            "Student_46",
            "Student_47",
            "Student_48",
            "Student_49",
            "Student_50",
            "Student_51",
            "Student_52",
            "Student_53",
            "Student_54",
            "Student_55",
            "Student_56",
            "Student_57",
            "Student_58",
            "Student_59",
            "Student_60"
           ],
           [
            34,
            83,
            53,
            53,
            95,
            38,
            54,
            31,
            52,
            41,
            48,
            62,
            79,
            24,
            71,
            50,
            67,
            56,
            46,
            22,
            33,
            28,
            63,
            61,
            34,
            51,
            48,
            57,
            45,
            33,
            63,
            59,
            52,
            70,
            24,
            75,
            55,
            49,
            62,
            50,
            17,
            60,
            27,
            42,
            29,
            21,
            18,
            52,
            81,
            39,
            32,
            83,
            41,
            69,
            36,
            1,
            61,
            78,
            21,
            33
           ],
           [
            22,
            70,
            35,
            21,
            81,
            14,
            34,
            12,
            29,
            11,
            18,
            52,
            55,
            16,
            64,
            16,
            49,
            29,
            22,
            16,
            17,
            14,
            49,
            41,
            16,
            37,
            17,
            33,
            15,
            21,
            52,
            23,
            23,
            44,
            16,
            65,
            30,
            9,
            46,
            11,
            19,
            34,
            14,
            9,
            20,
            17,
            22,
            21,
            69,
            20,
            19,
            82,
            17,
            39,
            21,
            19,
            44,
            60,
            13,
            15
           ],
           [
            6,
            62,
            16,
            16,
            81,
            4,
            16,
            2,
            8,
            4,
            7,
            16,
            30,
            4,
            39,
            4,
            26,
            12,
            4,
            4,
            4,
            6,
            22,
            29,
            3,
            13,
            4,
            13,
            5,
            5,
            19,
            15,
            12,
            31,
            4,
            32,
            14,
            6,
            13,
            3,
            5,
            19,
            1,
            6,
            2,
            1,
            5,
            14,
            61,
            2,
            4,
            57,
            3,
            20,
            7,
            1,
            30,
            36,
            6,
            4
           ],
           [
            1,
            23,
            1,
            1,
            13,
            1,
            1,
            1,
            2,
            0,
            0,
            2,
            8,
            0,
            8,
            1,
            8,
            2,
            2,
            1,
            1,
            1,
            4,
            3,
            1,
            2,
            0,
            2,
            0,
            0,
            5,
            0,
            2,
            4,
            1,
            10,
            6,
            0,
            3,
            0,
            0,
            3,
            0,
            0,
            1,
            0,
            1,
            1,
            18,
            0,
            0,
            13,
            1,
            5,
            2,
            0,
            4,
            14,
            1,
            0
           ],
           [
            2,
            14,
            5,
            3,
            32,
            0,
            2,
            0,
            2,
            0,
            2,
            3,
            15,
            1,
            14,
            0,
            6,
            3,
            0,
            0,
            0,
            1,
            5,
            8,
            0,
            0,
            1,
            3,
            1,
            2,
            1,
            3,
            4,
            7,
            0,
            7,
            3,
            1,
            3,
            0,
            1,
            4,
            0,
            1,
            1,
            0,
            0,
            1,
            16,
            1,
            0,
            20,
            0,
            1,
            1,
            0,
            2,
            8,
            1,
            0
           ],
           [
            1,
            5,
            2,
            2,
            9,
            0,
            2,
            0,
            0,
            0,
            1,
            3,
            0,
            0,
            4,
            0,
            4,
            1,
            0,
            0,
            1,
            1,
            3,
            3,
            1,
            1,
            0,
            2,
            0,
            1,
            5,
            1,
            2,
            4,
            1,
            1,
            2,
            2,
            4,
            1,
            0,
            1,
            0,
            1,
            0,
            0,
            1,
            1,
            7,
            0,
            1,
            4,
            0,
            1,
            2,
            0,
            3,
            2,
            0,
            0
           ],
           [
            0,
            0,
            0,
            0,
            1,
            0,
            0,
            0,
            0,
            0,
            0,
            0,
            0,
            0,
            0,
            0,
            0,
            0,
            0,
            0,
            0,
            0,
            0,
            0,
            0,
            0,
            0,
            0,
            0,
            0,
            0,
            0,
            0,
            0,
            0,
            0,
            0,
            0,
            0,
            0,
            0,
            0,
            0,
            0,
            0,
            0,
            0,
            0,
            0,
            0,
            0,
            0,
            0,
            0,
            0,
            0,
            0,
            0,
            0,
            0
           ],
           [
            0,
            1,
            0,
            0,
            1,
            0,
            0,
            0,
            0,
            0,
            0,
            0,
            0,
            0,
            0,
            0,
            0,
            0,
            0,
            0,
            0,
            0,
            0,
            0,
            0,
            0,
            0,
            0,
            0,
            0,
            0,
            0,
            0,
            0,
            0,
            0,
            0,
            0,
            0,
            0,
            0,
            0,
            0,
            0,
            0,
            0,
            0,
            0,
            1,
            0,
            0,
            1,
            0,
            0,
            0,
            0,
            0,
            0,
            0,
            0
           ],
           [
            0,
            0,
            0,
            0,
            1,
            0,
            0,
            0,
            0,
            0,
            0,
            0,
            0,
            0,
            0,
            0,
            0,
            0,
            0,
            0,
            0,
            0,
            0,
            0,
            0,
            0,
            0,
            0,
            0,
            0,
            0,
            0,
            0,
            0,
            0,
            0,
            0,
            0,
            0,
            0,
            0,
            0,
            0,
            0,
            0,
            0,
            0,
            0,
            0,
            0,
            0,
            0,
            0,
            0,
            0,
            0,
            0,
            0,
            0,
            0
           ],
           [
            0,
            1,
            0,
            0,
            1,
            0,
            0,
            0,
            0,
            0,
            0,
            0,
            0,
            0,
            0,
            0,
            0,
            0,
            0,
            0,
            0,
            0,
            0,
            0,
            0,
            0,
            0,
            0,
            0,
            0,
            0,
            0,
            0,
            0,
            0,
            0,
            0,
            0,
            0,
            0,
            0,
            0,
            0,
            0,
            0,
            0,
            0,
            0,
            1,
            0,
            0,
            1,
            0,
            0,
            0,
            0,
            0,
            0,
            0,
            0
           ],
           [
            0,
            2,
            0,
            0,
            4,
            0,
            0,
            0,
            0,
            0,
            0,
            0,
            0,
            0,
            0,
            0,
            0,
            0,
            0,
            0,
            0,
            0,
            0,
            0,
            0,
            0,
            0,
            0,
            0,
            0,
            0,
            0,
            0,
            0,
            0,
            0,
            0,
            0,
            0,
            0,
            0,
            0,
            0,
            0,
            0,
            0,
            0,
            0,
            2,
            0,
            0,
            2,
            0,
            0,
            0,
            0,
            0,
            0,
            0,
            0
           ],
           [
            0,
            4,
            1,
            1,
            9,
            0,
            0,
            0,
            2,
            0,
            0,
            2,
            5,
            0,
            2,
            0,
            1,
            1,
            0,
            0,
            0,
            0,
            4,
            3,
            0,
            1,
            0,
            1,
            0,
            0,
            3,
            0,
            1,
            1,
            0,
            5,
            1,
            0,
            3,
            0,
            0,
            2,
            0,
            0,
            0,
            0,
            0,
            1,
            3,
            0,
            0,
            3,
            0,
            2,
            0,
            0,
            0,
            2,
            0,
            0
           ],
           [
            0,
            7,
            0,
            1,
            13,
            0,
            0,
            0,
            0,
            0,
            0,
            2,
            4,
            0,
            3,
            0,
            1,
            1,
            0,
            0,
            0,
            0,
            4,
            1,
            0,
            2,
            0,
            1,
            0,
            0,
            3,
            0,
            1,
            3,
            0,
            9,
            1,
            0,
            1,
            0,
            0,
            1,
            0,
            0,
            0,
            0,
            0,
            0,
            5,
            0,
            0,
            8,
            0,
            3,
            0,
            0,
            1,
            5,
            0,
            0
           ],
           [
            0,
            3,
            0,
            1,
            9,
            0,
            1,
            0,
            0,
            0,
            0,
            0,
            3,
            0,
            5,
            0,
            0,
            2,
            0,
            0,
            0,
            0,
            1,
            3,
            0,
            1,
            0,
            1,
            0,
            0,
            4,
            0,
            2,
            2,
            0,
            7,
            0,
            0,
            1,
            0,
            0,
            1,
            0,
            0,
            0,
            0,
            0,
            1,
            5,
            0,
            0,
            3,
            0,
            1,
            0,
            0,
            3,
            2,
            0,
            0
           ],
           [
            0,
            8,
            2,
            1,
            11,
            0,
            1,
            0,
            1,
            0,
            0,
            1,
            3,
            0,
            5,
            0,
            3,
            1,
            0,
            0,
            0,
            0,
            3,
            0,
            0,
            1,
            0,
            1,
            0,
            0,
            3,
            2,
            0,
            2,
            0,
            6,
            1,
            0,
            0,
            0,
            0,
            1,
            0,
            0,
            0,
            0,
            0,
            0,
            7,
            0,
            0,
            11,
            0,
            3,
            0,
            0,
            1,
            6,
            0,
            0
           ],
           [
            0,
            6,
            2,
            2,
            9,
            0,
            0,
            0,
            1,
            0,
            0,
            2,
            7,
            0,
            6,
            0,
            1,
            1,
            0,
            0,
            0,
            0,
            1,
            4,
            0,
            1,
            0,
            1,
            0,
            0,
            0,
            1,
            1,
            3,
            0,
            2,
            1,
            0,
            1,
            0,
            0,
            1,
            0,
            0,
            0,
            0,
            0,
            0,
            6,
            0,
            0,
            4,
            0,
            1,
            0,
            0,
            2,
            7,
            0,
            0
           ],
           [
            0,
            6,
            1,
            0,
            7,
            0,
            2,
            0,
            0,
            0,
            0,
            2,
            2,
            0,
            5,
            0,
            3,
            0,
            0,
            0,
            0,
            0,
            1,
            0,
            0,
            1,
            0,
            1,
            0,
            0,
            1,
            0,
            2,
            0,
            0,
            9,
            1,
            0,
            3,
            0,
            0,
            2,
            0,
            0,
            0,
            0,
            0,
            1,
            7,
            0,
            0,
            5,
            0,
            1,
            0,
            0,
            2,
            3,
            0,
            0
           ],
           [
            0,
            2,
            1,
            2,
            6,
            0,
            0,
            0,
            2,
            0,
            0,
            3,
            3,
            0,
            1,
            0,
            2,
            2,
            0,
            0,
            0,
            0,
            2,
            2,
            0,
            0,
            0,
            1,
            0,
            0,
            3,
            2,
            1,
            1,
            0,
            1,
            2,
            0,
            0,
            0,
            0,
            1,
            0,
            0,
            0,
            0,
            0,
            1,
            7,
            0,
            0,
            2,
            0,
            2,
            0,
            0,
            2,
            6,
            0,
            0
           ],
           [
            0,
            7,
            1,
            0,
            8,
            0,
            1,
            0,
            1,
            0,
            0,
            3,
            4,
            0,
            5,
            0,
            3,
            0,
            0,
            0,
            0,
            0,
            2,
            3,
            0,
            0,
            0,
            1,
            0,
            0,
            0,
            0,
            2,
            2,
            0,
            4,
            1,
            0,
            4,
            0,
            0,
            2,
            0,
            0,
            0,
            0,
            0,
            0,
            6,
            0,
            0,
            10,
            0,
            1,
            0,
            0,
            2,
            4,
            0,
            0
           ],
           [
            0,
            43,
            8,
            8,
            72,
            0,
            5,
            0,
            7,
            0,
            0,
            15,
            31,
            0,
            32,
            0,
            14,
            8,
            0,
            0,
            0,
            0,
            18,
            16,
            0,
            7,
            0,
            8,
            0,
            0,
            17,
            5,
            10,
            14,
            0,
            43,
            8,
            0,
            13,
            0,
            0,
            11,
            0,
            0,
            0,
            0,
            0,
            4,
            46,
            0,
            0,
            46,
            0,
            14,
            0,
            0,
            13,
            35,
            0,
            0
           ],
           [
            0,
            1,
            2,
            2,
            1,
            0,
            2,
            0,
            2,
            0,
            0,
            2,
            1,
            0,
            1,
            0,
            2,
            2,
            0,
            0,
            0,
            0,
            2,
            2,
            0,
            2,
            0,
            2,
            0,
            0,
            2,
            2,
            2,
            2,
            0,
            1,
            2,
            0,
            2,
            0,
            0,
            2,
            0,
            0,
            0,
            0,
            0,
            2,
            1,
            0,
            0,
            1,
            0,
            2,
            0,
            0,
            2,
            1,
            0,
            0
           ]
          ]
         },
         "header": {
          "align": "center",
          "fill": {
           "color": "#C2D4FF"
          },
          "values": [
           "Students",
           "Grade",
           "Access",
           "Forum Access",
           "Forum Post",
           "Forum Replies",
           "Forum Add Thread",
           "Assign1",
           "Assign2",
           "Assign3",
           "Assign4",
           "AssignTotal",
           "Video1",
           "Video2",
           "Quiz1",
           "Quiz2",
           "Pdf1",
           "Pdf2",
           "Ebook1",
           "Ebook2",
           "MaterialTotal",
           "Cluster"
          ]
         },
         "type": "table",
         "uid": "07736584-e2f6-11e8-96ad-27ad55f30ab3"
        }
       ],
       "layout": {}
      },
      "text/html": [
       "<div id=\"1e0a29af-ec2a-4a87-8d4e-2bfcef5aebeb\" style=\"height: 525px; width: 100%;\" class=\"plotly-graph-div\"></div><script type=\"text/javascript\">require([\"plotly\"], function(Plotly) { window.PLOTLYENV=window.PLOTLYENV || {};window.PLOTLYENV.BASE_URL=\"https://plot.ly\";Plotly.newPlot(\"1e0a29af-ec2a-4a87-8d4e-2bfcef5aebeb\", [{\"cells\": {\"align\": [\"left\", \"center\"], \"fill\": {\"color\": \"#F5F8FF\"}, \"values\": [[\"Student_1\", \"Student_2\", \"Student_3\", \"Student_4\", \"Student_5\", \"Student_6\", \"Student_7\", \"Student_8\", \"Student_9\", \"Student_10\", \"Student_11\", \"Student_12\", \"Student_13\", \"Student_14\", \"Student_15\", \"Student_16\", \"Student_17\", \"Student_18\", \"Student_19\", \"Student_20\", \"Student_21\", \"Student_22\", \"Student_23\", \"Student_24\", \"Student_25\", \"Student_26\", \"Student_27\", \"Student_28\", \"Student_29\", \"Student_30\", \"Student_31\", \"Student_32\", \"Student_33\", \"Student_34\", \"Student_35\", \"Student_36\", \"Student_37\", \"Student_38\", \"Student_39\", \"Student_40\", \"Student_41\", \"Student_42\", \"Student_43\", \"Student_44\", \"Student_45\", \"Student_46\", \"Student_47\", \"Student_48\", \"Student_49\", \"Student_50\", \"Student_51\", \"Student_52\", \"Student_53\", \"Student_54\", \"Student_55\", \"Student_56\", \"Student_57\", \"Student_58\", \"Student_59\", \"Student_60\"], [34, 83, 53, 53, 95, 38, 54, 31, 52, 41, 48, 62, 79, 24, 71, 50, 67, 56, 46, 22, 33, 28, 63, 61, 34, 51, 48, 57, 45, 33, 63, 59, 52, 70, 24, 75, 55, 49, 62, 50, 17, 60, 27, 42, 29, 21, 18, 52, 81, 39, 32, 83, 41, 69, 36, 1, 61, 78, 21, 33], [22, 70, 35, 21, 81, 14, 34, 12, 29, 11, 18, 52, 55, 16, 64, 16, 49, 29, 22, 16, 17, 14, 49, 41, 16, 37, 17, 33, 15, 21, 52, 23, 23, 44, 16, 65, 30, 9, 46, 11, 19, 34, 14, 9, 20, 17, 22, 21, 69, 20, 19, 82, 17, 39, 21, 19, 44, 60, 13, 15], [6, 62, 16, 16, 81, 4, 16, 2, 8, 4, 7, 16, 30, 4, 39, 4, 26, 12, 4, 4, 4, 6, 22, 29, 3, 13, 4, 13, 5, 5, 19, 15, 12, 31, 4, 32, 14, 6, 13, 3, 5, 19, 1, 6, 2, 1, 5, 14, 61, 2, 4, 57, 3, 20, 7, 1, 30, 36, 6, 4], [1, 23, 1, 1, 13, 1, 1, 1, 2, 0, 0, 2, 8, 0, 8, 1, 8, 2, 2, 1, 1, 1, 4, 3, 1, 2, 0, 2, 0, 0, 5, 0, 2, 4, 1, 10, 6, 0, 3, 0, 0, 3, 0, 0, 1, 0, 1, 1, 18, 0, 0, 13, 1, 5, 2, 0, 4, 14, 1, 0], [2, 14, 5, 3, 32, 0, 2, 0, 2, 0, 2, 3, 15, 1, 14, 0, 6, 3, 0, 0, 0, 1, 5, 8, 0, 0, 1, 3, 1, 2, 1, 3, 4, 7, 0, 7, 3, 1, 3, 0, 1, 4, 0, 1, 1, 0, 0, 1, 16, 1, 0, 20, 0, 1, 1, 0, 2, 8, 1, 0], [1, 5, 2, 2, 9, 0, 2, 0, 0, 0, 1, 3, 0, 0, 4, 0, 4, 1, 0, 0, 1, 1, 3, 3, 1, 1, 0, 2, 0, 1, 5, 1, 2, 4, 1, 1, 2, 2, 4, 1, 0, 1, 0, 1, 0, 0, 1, 1, 7, 0, 1, 4, 0, 1, 2, 0, 3, 2, 0, 0], [0, 0, 0, 0, 1, 0, 0, 0, 0, 0, 0, 0, 0, 0, 0, 0, 0, 0, 0, 0, 0, 0, 0, 0, 0, 0, 0, 0, 0, 0, 0, 0, 0, 0, 0, 0, 0, 0, 0, 0, 0, 0, 0, 0, 0, 0, 0, 0, 0, 0, 0, 0, 0, 0, 0, 0, 0, 0, 0, 0], [0, 1, 0, 0, 1, 0, 0, 0, 0, 0, 0, 0, 0, 0, 0, 0, 0, 0, 0, 0, 0, 0, 0, 0, 0, 0, 0, 0, 0, 0, 0, 0, 0, 0, 0, 0, 0, 0, 0, 0, 0, 0, 0, 0, 0, 0, 0, 0, 1, 0, 0, 1, 0, 0, 0, 0, 0, 0, 0, 0], [0, 0, 0, 0, 1, 0, 0, 0, 0, 0, 0, 0, 0, 0, 0, 0, 0, 0, 0, 0, 0, 0, 0, 0, 0, 0, 0, 0, 0, 0, 0, 0, 0, 0, 0, 0, 0, 0, 0, 0, 0, 0, 0, 0, 0, 0, 0, 0, 0, 0, 0, 0, 0, 0, 0, 0, 0, 0, 0, 0], [0, 1, 0, 0, 1, 0, 0, 0, 0, 0, 0, 0, 0, 0, 0, 0, 0, 0, 0, 0, 0, 0, 0, 0, 0, 0, 0, 0, 0, 0, 0, 0, 0, 0, 0, 0, 0, 0, 0, 0, 0, 0, 0, 0, 0, 0, 0, 0, 1, 0, 0, 1, 0, 0, 0, 0, 0, 0, 0, 0], [0, 2, 0, 0, 4, 0, 0, 0, 0, 0, 0, 0, 0, 0, 0, 0, 0, 0, 0, 0, 0, 0, 0, 0, 0, 0, 0, 0, 0, 0, 0, 0, 0, 0, 0, 0, 0, 0, 0, 0, 0, 0, 0, 0, 0, 0, 0, 0, 2, 0, 0, 2, 0, 0, 0, 0, 0, 0, 0, 0], [0, 4, 1, 1, 9, 0, 0, 0, 2, 0, 0, 2, 5, 0, 2, 0, 1, 1, 0, 0, 0, 0, 4, 3, 0, 1, 0, 1, 0, 0, 3, 0, 1, 1, 0, 5, 1, 0, 3, 0, 0, 2, 0, 0, 0, 0, 0, 1, 3, 0, 0, 3, 0, 2, 0, 0, 0, 2, 0, 0], [0, 7, 0, 1, 13, 0, 0, 0, 0, 0, 0, 2, 4, 0, 3, 0, 1, 1, 0, 0, 0, 0, 4, 1, 0, 2, 0, 1, 0, 0, 3, 0, 1, 3, 0, 9, 1, 0, 1, 0, 0, 1, 0, 0, 0, 0, 0, 0, 5, 0, 0, 8, 0, 3, 0, 0, 1, 5, 0, 0], [0, 3, 0, 1, 9, 0, 1, 0, 0, 0, 0, 0, 3, 0, 5, 0, 0, 2, 0, 0, 0, 0, 1, 3, 0, 1, 0, 1, 0, 0, 4, 0, 2, 2, 0, 7, 0, 0, 1, 0, 0, 1, 0, 0, 0, 0, 0, 1, 5, 0, 0, 3, 0, 1, 0, 0, 3, 2, 0, 0], [0, 8, 2, 1, 11, 0, 1, 0, 1, 0, 0, 1, 3, 0, 5, 0, 3, 1, 0, 0, 0, 0, 3, 0, 0, 1, 0, 1, 0, 0, 3, 2, 0, 2, 0, 6, 1, 0, 0, 0, 0, 1, 0, 0, 0, 0, 0, 0, 7, 0, 0, 11, 0, 3, 0, 0, 1, 6, 0, 0], [0, 6, 2, 2, 9, 0, 0, 0, 1, 0, 0, 2, 7, 0, 6, 0, 1, 1, 0, 0, 0, 0, 1, 4, 0, 1, 0, 1, 0, 0, 0, 1, 1, 3, 0, 2, 1, 0, 1, 0, 0, 1, 0, 0, 0, 0, 0, 0, 6, 0, 0, 4, 0, 1, 0, 0, 2, 7, 0, 0], [0, 6, 1, 0, 7, 0, 2, 0, 0, 0, 0, 2, 2, 0, 5, 0, 3, 0, 0, 0, 0, 0, 1, 0, 0, 1, 0, 1, 0, 0, 1, 0, 2, 0, 0, 9, 1, 0, 3, 0, 0, 2, 0, 0, 0, 0, 0, 1, 7, 0, 0, 5, 0, 1, 0, 0, 2, 3, 0, 0], [0, 2, 1, 2, 6, 0, 0, 0, 2, 0, 0, 3, 3, 0, 1, 0, 2, 2, 0, 0, 0, 0, 2, 2, 0, 0, 0, 1, 0, 0, 3, 2, 1, 1, 0, 1, 2, 0, 0, 0, 0, 1, 0, 0, 0, 0, 0, 1, 7, 0, 0, 2, 0, 2, 0, 0, 2, 6, 0, 0], [0, 7, 1, 0, 8, 0, 1, 0, 1, 0, 0, 3, 4, 0, 5, 0, 3, 0, 0, 0, 0, 0, 2, 3, 0, 0, 0, 1, 0, 0, 0, 0, 2, 2, 0, 4, 1, 0, 4, 0, 0, 2, 0, 0, 0, 0, 0, 0, 6, 0, 0, 10, 0, 1, 0, 0, 2, 4, 0, 0], [0, 43, 8, 8, 72, 0, 5, 0, 7, 0, 0, 15, 31, 0, 32, 0, 14, 8, 0, 0, 0, 0, 18, 16, 0, 7, 0, 8, 0, 0, 17, 5, 10, 14, 0, 43, 8, 0, 13, 0, 0, 11, 0, 0, 0, 0, 0, 4, 46, 0, 0, 46, 0, 14, 0, 0, 13, 35, 0, 0], [0, 1, 2, 2, 1, 0, 2, 0, 2, 0, 0, 2, 1, 0, 1, 0, 2, 2, 0, 0, 0, 0, 2, 2, 0, 2, 0, 2, 0, 0, 2, 2, 2, 2, 0, 1, 2, 0, 2, 0, 0, 2, 0, 0, 0, 0, 0, 2, 1, 0, 0, 1, 0, 2, 0, 0, 2, 1, 0, 0]]}, \"header\": {\"align\": \"center\", \"fill\": {\"color\": \"#C2D4FF\"}, \"values\": [\"Students\", \"Grade\", \"Access\", \"Forum Access\", \"Forum Post\", \"Forum Replies\", \"Forum Add Thread\", \"Assign1\", \"Assign2\", \"Assign3\", \"Assign4\", \"AssignTotal\", \"Video1\", \"Video2\", \"Quiz1\", \"Quiz2\", \"Pdf1\", \"Pdf2\", \"Ebook1\", \"Ebook2\", \"MaterialTotal\", \"Cluster\"]}, \"type\": \"table\", \"uid\": \"07825d0a-e2f6-11e8-96ad-27ad55f30ab3\"}], {}, {\"showLink\": true, \"linkText\": \"Export to plot.ly\"})});</script>"
      ],
      "text/vnd.plotly.v1+html": [
       "<div id=\"1e0a29af-ec2a-4a87-8d4e-2bfcef5aebeb\" style=\"height: 525px; width: 100%;\" class=\"plotly-graph-div\"></div><script type=\"text/javascript\">require([\"plotly\"], function(Plotly) { window.PLOTLYENV=window.PLOTLYENV || {};window.PLOTLYENV.BASE_URL=\"https://plot.ly\";Plotly.newPlot(\"1e0a29af-ec2a-4a87-8d4e-2bfcef5aebeb\", [{\"cells\": {\"align\": [\"left\", \"center\"], \"fill\": {\"color\": \"#F5F8FF\"}, \"values\": [[\"Student_1\", \"Student_2\", \"Student_3\", \"Student_4\", \"Student_5\", \"Student_6\", \"Student_7\", \"Student_8\", \"Student_9\", \"Student_10\", \"Student_11\", \"Student_12\", \"Student_13\", \"Student_14\", \"Student_15\", \"Student_16\", \"Student_17\", \"Student_18\", \"Student_19\", \"Student_20\", \"Student_21\", \"Student_22\", \"Student_23\", \"Student_24\", \"Student_25\", \"Student_26\", \"Student_27\", \"Student_28\", \"Student_29\", \"Student_30\", \"Student_31\", \"Student_32\", \"Student_33\", \"Student_34\", \"Student_35\", \"Student_36\", \"Student_37\", \"Student_38\", \"Student_39\", \"Student_40\", \"Student_41\", \"Student_42\", \"Student_43\", \"Student_44\", \"Student_45\", \"Student_46\", \"Student_47\", \"Student_48\", \"Student_49\", \"Student_50\", \"Student_51\", \"Student_52\", \"Student_53\", \"Student_54\", \"Student_55\", \"Student_56\", \"Student_57\", \"Student_58\", \"Student_59\", \"Student_60\"], [34, 83, 53, 53, 95, 38, 54, 31, 52, 41, 48, 62, 79, 24, 71, 50, 67, 56, 46, 22, 33, 28, 63, 61, 34, 51, 48, 57, 45, 33, 63, 59, 52, 70, 24, 75, 55, 49, 62, 50, 17, 60, 27, 42, 29, 21, 18, 52, 81, 39, 32, 83, 41, 69, 36, 1, 61, 78, 21, 33], [22, 70, 35, 21, 81, 14, 34, 12, 29, 11, 18, 52, 55, 16, 64, 16, 49, 29, 22, 16, 17, 14, 49, 41, 16, 37, 17, 33, 15, 21, 52, 23, 23, 44, 16, 65, 30, 9, 46, 11, 19, 34, 14, 9, 20, 17, 22, 21, 69, 20, 19, 82, 17, 39, 21, 19, 44, 60, 13, 15], [6, 62, 16, 16, 81, 4, 16, 2, 8, 4, 7, 16, 30, 4, 39, 4, 26, 12, 4, 4, 4, 6, 22, 29, 3, 13, 4, 13, 5, 5, 19, 15, 12, 31, 4, 32, 14, 6, 13, 3, 5, 19, 1, 6, 2, 1, 5, 14, 61, 2, 4, 57, 3, 20, 7, 1, 30, 36, 6, 4], [1, 23, 1, 1, 13, 1, 1, 1, 2, 0, 0, 2, 8, 0, 8, 1, 8, 2, 2, 1, 1, 1, 4, 3, 1, 2, 0, 2, 0, 0, 5, 0, 2, 4, 1, 10, 6, 0, 3, 0, 0, 3, 0, 0, 1, 0, 1, 1, 18, 0, 0, 13, 1, 5, 2, 0, 4, 14, 1, 0], [2, 14, 5, 3, 32, 0, 2, 0, 2, 0, 2, 3, 15, 1, 14, 0, 6, 3, 0, 0, 0, 1, 5, 8, 0, 0, 1, 3, 1, 2, 1, 3, 4, 7, 0, 7, 3, 1, 3, 0, 1, 4, 0, 1, 1, 0, 0, 1, 16, 1, 0, 20, 0, 1, 1, 0, 2, 8, 1, 0], [1, 5, 2, 2, 9, 0, 2, 0, 0, 0, 1, 3, 0, 0, 4, 0, 4, 1, 0, 0, 1, 1, 3, 3, 1, 1, 0, 2, 0, 1, 5, 1, 2, 4, 1, 1, 2, 2, 4, 1, 0, 1, 0, 1, 0, 0, 1, 1, 7, 0, 1, 4, 0, 1, 2, 0, 3, 2, 0, 0], [0, 0, 0, 0, 1, 0, 0, 0, 0, 0, 0, 0, 0, 0, 0, 0, 0, 0, 0, 0, 0, 0, 0, 0, 0, 0, 0, 0, 0, 0, 0, 0, 0, 0, 0, 0, 0, 0, 0, 0, 0, 0, 0, 0, 0, 0, 0, 0, 0, 0, 0, 0, 0, 0, 0, 0, 0, 0, 0, 0], [0, 1, 0, 0, 1, 0, 0, 0, 0, 0, 0, 0, 0, 0, 0, 0, 0, 0, 0, 0, 0, 0, 0, 0, 0, 0, 0, 0, 0, 0, 0, 0, 0, 0, 0, 0, 0, 0, 0, 0, 0, 0, 0, 0, 0, 0, 0, 0, 1, 0, 0, 1, 0, 0, 0, 0, 0, 0, 0, 0], [0, 0, 0, 0, 1, 0, 0, 0, 0, 0, 0, 0, 0, 0, 0, 0, 0, 0, 0, 0, 0, 0, 0, 0, 0, 0, 0, 0, 0, 0, 0, 0, 0, 0, 0, 0, 0, 0, 0, 0, 0, 0, 0, 0, 0, 0, 0, 0, 0, 0, 0, 0, 0, 0, 0, 0, 0, 0, 0, 0], [0, 1, 0, 0, 1, 0, 0, 0, 0, 0, 0, 0, 0, 0, 0, 0, 0, 0, 0, 0, 0, 0, 0, 0, 0, 0, 0, 0, 0, 0, 0, 0, 0, 0, 0, 0, 0, 0, 0, 0, 0, 0, 0, 0, 0, 0, 0, 0, 1, 0, 0, 1, 0, 0, 0, 0, 0, 0, 0, 0], [0, 2, 0, 0, 4, 0, 0, 0, 0, 0, 0, 0, 0, 0, 0, 0, 0, 0, 0, 0, 0, 0, 0, 0, 0, 0, 0, 0, 0, 0, 0, 0, 0, 0, 0, 0, 0, 0, 0, 0, 0, 0, 0, 0, 0, 0, 0, 0, 2, 0, 0, 2, 0, 0, 0, 0, 0, 0, 0, 0], [0, 4, 1, 1, 9, 0, 0, 0, 2, 0, 0, 2, 5, 0, 2, 0, 1, 1, 0, 0, 0, 0, 4, 3, 0, 1, 0, 1, 0, 0, 3, 0, 1, 1, 0, 5, 1, 0, 3, 0, 0, 2, 0, 0, 0, 0, 0, 1, 3, 0, 0, 3, 0, 2, 0, 0, 0, 2, 0, 0], [0, 7, 0, 1, 13, 0, 0, 0, 0, 0, 0, 2, 4, 0, 3, 0, 1, 1, 0, 0, 0, 0, 4, 1, 0, 2, 0, 1, 0, 0, 3, 0, 1, 3, 0, 9, 1, 0, 1, 0, 0, 1, 0, 0, 0, 0, 0, 0, 5, 0, 0, 8, 0, 3, 0, 0, 1, 5, 0, 0], [0, 3, 0, 1, 9, 0, 1, 0, 0, 0, 0, 0, 3, 0, 5, 0, 0, 2, 0, 0, 0, 0, 1, 3, 0, 1, 0, 1, 0, 0, 4, 0, 2, 2, 0, 7, 0, 0, 1, 0, 0, 1, 0, 0, 0, 0, 0, 1, 5, 0, 0, 3, 0, 1, 0, 0, 3, 2, 0, 0], [0, 8, 2, 1, 11, 0, 1, 0, 1, 0, 0, 1, 3, 0, 5, 0, 3, 1, 0, 0, 0, 0, 3, 0, 0, 1, 0, 1, 0, 0, 3, 2, 0, 2, 0, 6, 1, 0, 0, 0, 0, 1, 0, 0, 0, 0, 0, 0, 7, 0, 0, 11, 0, 3, 0, 0, 1, 6, 0, 0], [0, 6, 2, 2, 9, 0, 0, 0, 1, 0, 0, 2, 7, 0, 6, 0, 1, 1, 0, 0, 0, 0, 1, 4, 0, 1, 0, 1, 0, 0, 0, 1, 1, 3, 0, 2, 1, 0, 1, 0, 0, 1, 0, 0, 0, 0, 0, 0, 6, 0, 0, 4, 0, 1, 0, 0, 2, 7, 0, 0], [0, 6, 1, 0, 7, 0, 2, 0, 0, 0, 0, 2, 2, 0, 5, 0, 3, 0, 0, 0, 0, 0, 1, 0, 0, 1, 0, 1, 0, 0, 1, 0, 2, 0, 0, 9, 1, 0, 3, 0, 0, 2, 0, 0, 0, 0, 0, 1, 7, 0, 0, 5, 0, 1, 0, 0, 2, 3, 0, 0], [0, 2, 1, 2, 6, 0, 0, 0, 2, 0, 0, 3, 3, 0, 1, 0, 2, 2, 0, 0, 0, 0, 2, 2, 0, 0, 0, 1, 0, 0, 3, 2, 1, 1, 0, 1, 2, 0, 0, 0, 0, 1, 0, 0, 0, 0, 0, 1, 7, 0, 0, 2, 0, 2, 0, 0, 2, 6, 0, 0], [0, 7, 1, 0, 8, 0, 1, 0, 1, 0, 0, 3, 4, 0, 5, 0, 3, 0, 0, 0, 0, 0, 2, 3, 0, 0, 0, 1, 0, 0, 0, 0, 2, 2, 0, 4, 1, 0, 4, 0, 0, 2, 0, 0, 0, 0, 0, 0, 6, 0, 0, 10, 0, 1, 0, 0, 2, 4, 0, 0], [0, 43, 8, 8, 72, 0, 5, 0, 7, 0, 0, 15, 31, 0, 32, 0, 14, 8, 0, 0, 0, 0, 18, 16, 0, 7, 0, 8, 0, 0, 17, 5, 10, 14, 0, 43, 8, 0, 13, 0, 0, 11, 0, 0, 0, 0, 0, 4, 46, 0, 0, 46, 0, 14, 0, 0, 13, 35, 0, 0], [0, 1, 2, 2, 1, 0, 2, 0, 2, 0, 0, 2, 1, 0, 1, 0, 2, 2, 0, 0, 0, 0, 2, 2, 0, 2, 0, 2, 0, 0, 2, 2, 2, 2, 0, 1, 2, 0, 2, 0, 0, 2, 0, 0, 0, 0, 0, 2, 1, 0, 0, 1, 0, 2, 0, 0, 2, 1, 0, 0]]}, \"header\": {\"align\": \"center\", \"fill\": {\"color\": \"#C2D4FF\"}, \"values\": [\"Students\", \"Grade\", \"Access\", \"Forum Access\", \"Forum Post\", \"Forum Replies\", \"Forum Add Thread\", \"Assign1\", \"Assign2\", \"Assign3\", \"Assign4\", \"AssignTotal\", \"Video1\", \"Video2\", \"Quiz1\", \"Quiz2\", \"Pdf1\", \"Pdf2\", \"Ebook1\", \"Ebook2\", \"MaterialTotal\", \"Cluster\"]}, \"type\": \"table\", \"uid\": \"07825d0a-e2f6-11e8-96ad-27ad55f30ab3\"}], {}, {\"showLink\": true, \"linkText\": \"Export to plot.ly\"})});</script>"
      ]
     },
     "metadata": {},
     "output_type": "display_data"
    },
    {
     "data": {
      "application/vnd.plotly.v1+json": {
       "data": [
        {
         "marker": {
          "color": [
           0,
           1,
           2,
           2,
           1,
           0,
           2,
           0,
           2,
           0,
           0,
           2,
           1,
           0,
           1,
           0,
           2,
           2,
           0,
           0,
           0,
           0,
           2,
           2,
           0,
           2,
           0,
           2,
           0,
           0,
           2,
           2,
           2,
           2,
           0,
           1,
           2,
           0,
           2,
           0,
           0,
           2,
           0,
           0,
           0,
           0,
           0,
           2,
           1,
           0,
           0,
           1,
           0,
           2,
           0,
           0,
           2,
           1,
           0,
           0
          ],
          "colorscale": "Viridis",
          "line": {
           "color": "rgb(105, 105, 105)",
           "width": 1
          },
          "size": 12,
          "symbol": [
           0,
           1,
           2,
           2,
           1,
           0,
           2,
           0,
           2,
           0,
           0,
           2,
           1,
           0,
           1,
           0,
           2,
           2,
           0,
           0,
           0,
           0,
           2,
           2,
           0,
           2,
           0,
           2,
           0,
           0,
           2,
           2,
           2,
           2,
           0,
           1,
           2,
           0,
           2,
           0,
           0,
           2,
           0,
           0,
           0,
           0,
           0,
           2,
           1,
           0,
           0,
           1,
           0,
           2,
           0,
           0,
           2,
           1,
           0,
           0
          ]
         },
         "mode": "markers",
         "text": [
          "Student_1",
          "Student_2",
          "Student_3",
          "Student_4",
          "Student_5",
          "Student_6",
          "Student_7",
          "Student_8",
          "Student_9",
          "Student_10",
          "Student_11",
          "Student_12",
          "Student_13",
          "Student_14",
          "Student_15",
          "Student_16",
          "Student_17",
          "Student_18",
          "Student_19",
          "Student_20",
          "Student_21",
          "Student_22",
          "Student_23",
          "Student_24",
          "Student_25",
          "Student_26",
          "Student_27",
          "Student_28",
          "Student_29",
          "Student_30",
          "Student_31",
          "Student_32",
          "Student_33",
          "Student_34",
          "Student_35",
          "Student_36",
          "Student_37",
          "Student_38",
          "Student_39",
          "Student_40",
          "Student_41",
          "Student_42",
          "Student_43",
          "Student_44",
          "Student_45",
          "Student_46",
          "Student_47",
          "Student_48",
          "Student_49",
          "Student_50",
          "Student_51",
          "Student_52",
          "Student_53",
          "Student_54",
          "Student_55",
          "Student_56",
          "Student_57",
          "Student_58",
          "Student_59",
          "Student_60"
         ],
         "type": "scatter",
         "uid": "078bf8d8-e2f6-11e8-96ad-27ad55f30ab3",
         "x": [
          22,
          70,
          35,
          21,
          81,
          14,
          34,
          12,
          29,
          11,
          18,
          52,
          55,
          16,
          64,
          16,
          49,
          29,
          22,
          16,
          17,
          14,
          49,
          41,
          16,
          37,
          17,
          33,
          15,
          21,
          52,
          23,
          23,
          44,
          16,
          65,
          30,
          9,
          46,
          11,
          19,
          34,
          14,
          9,
          20,
          17,
          22,
          21,
          69,
          20,
          19,
          82,
          17,
          39,
          21,
          19,
          44,
          60,
          13,
          15
         ],
         "y": [
          34,
          83,
          53,
          53,
          95,
          38,
          54,
          31,
          52,
          41,
          48,
          62,
          79,
          24,
          71,
          50,
          67,
          56,
          46,
          22,
          33,
          28,
          63,
          61,
          34,
          51,
          48,
          57,
          45,
          33,
          63,
          59,
          52,
          70,
          24,
          75,
          55,
          49,
          62,
          50,
          17,
          60,
          27,
          42,
          29,
          21,
          18,
          52,
          81,
          39,
          32,
          83,
          41,
          69,
          36,
          1,
          61,
          78,
          21,
          33
         ]
        }
       ],
       "layout": {}
      },
      "text/html": [
       "<div id=\"b4f6f9f6-ba70-451a-961c-6383efce0c0f\" style=\"height: 525px; width: 100%;\" class=\"plotly-graph-div\"></div><script type=\"text/javascript\">require([\"plotly\"], function(Plotly) { window.PLOTLYENV=window.PLOTLYENV || {};window.PLOTLYENV.BASE_URL=\"https://plot.ly\";Plotly.newPlot(\"b4f6f9f6-ba70-451a-961c-6383efce0c0f\", [{\"marker\": {\"color\": [0, 1, 2, 2, 1, 0, 2, 0, 2, 0, 0, 2, 1, 0, 1, 0, 2, 2, 0, 0, 0, 0, 2, 2, 0, 2, 0, 2, 0, 0, 2, 2, 2, 2, 0, 1, 2, 0, 2, 0, 0, 2, 0, 0, 0, 0, 0, 2, 1, 0, 0, 1, 0, 2, 0, 0, 2, 1, 0, 0], \"colorscale\": \"Viridis\", \"line\": {\"color\": \"rgb(105, 105, 105)\", \"width\": 1}, \"size\": 12, \"symbol\": [0, 1, 2, 2, 1, 0, 2, 0, 2, 0, 0, 2, 1, 0, 1, 0, 2, 2, 0, 0, 0, 0, 2, 2, 0, 2, 0, 2, 0, 0, 2, 2, 2, 2, 0, 1, 2, 0, 2, 0, 0, 2, 0, 0, 0, 0, 0, 2, 1, 0, 0, 1, 0, 2, 0, 0, 2, 1, 0, 0]}, \"mode\": \"markers\", \"text\": [\"Student_1\", \"Student_2\", \"Student_3\", \"Student_4\", \"Student_5\", \"Student_6\", \"Student_7\", \"Student_8\", \"Student_9\", \"Student_10\", \"Student_11\", \"Student_12\", \"Student_13\", \"Student_14\", \"Student_15\", \"Student_16\", \"Student_17\", \"Student_18\", \"Student_19\", \"Student_20\", \"Student_21\", \"Student_22\", \"Student_23\", \"Student_24\", \"Student_25\", \"Student_26\", \"Student_27\", \"Student_28\", \"Student_29\", \"Student_30\", \"Student_31\", \"Student_32\", \"Student_33\", \"Student_34\", \"Student_35\", \"Student_36\", \"Student_37\", \"Student_38\", \"Student_39\", \"Student_40\", \"Student_41\", \"Student_42\", \"Student_43\", \"Student_44\", \"Student_45\", \"Student_46\", \"Student_47\", \"Student_48\", \"Student_49\", \"Student_50\", \"Student_51\", \"Student_52\", \"Student_53\", \"Student_54\", \"Student_55\", \"Student_56\", \"Student_57\", \"Student_58\", \"Student_59\", \"Student_60\"], \"x\": [22, 70, 35, 21, 81, 14, 34, 12, 29, 11, 18, 52, 55, 16, 64, 16, 49, 29, 22, 16, 17, 14, 49, 41, 16, 37, 17, 33, 15, 21, 52, 23, 23, 44, 16, 65, 30, 9, 46, 11, 19, 34, 14, 9, 20, 17, 22, 21, 69, 20, 19, 82, 17, 39, 21, 19, 44, 60, 13, 15], \"y\": [34, 83, 53, 53, 95, 38, 54, 31, 52, 41, 48, 62, 79, 24, 71, 50, 67, 56, 46, 22, 33, 28, 63, 61, 34, 51, 48, 57, 45, 33, 63, 59, 52, 70, 24, 75, 55, 49, 62, 50, 17, 60, 27, 42, 29, 21, 18, 52, 81, 39, 32, 83, 41, 69, 36, 1, 61, 78, 21, 33], \"type\": \"scatter\", \"uid\": \"078e7ab8-e2f6-11e8-96ad-27ad55f30ab3\"}], {}, {\"showLink\": true, \"linkText\": \"Export to plot.ly\"})});</script>"
      ],
      "text/vnd.plotly.v1+html": [
       "<div id=\"b4f6f9f6-ba70-451a-961c-6383efce0c0f\" style=\"height: 525px; width: 100%;\" class=\"plotly-graph-div\"></div><script type=\"text/javascript\">require([\"plotly\"], function(Plotly) { window.PLOTLYENV=window.PLOTLYENV || {};window.PLOTLYENV.BASE_URL=\"https://plot.ly\";Plotly.newPlot(\"b4f6f9f6-ba70-451a-961c-6383efce0c0f\", [{\"marker\": {\"color\": [0, 1, 2, 2, 1, 0, 2, 0, 2, 0, 0, 2, 1, 0, 1, 0, 2, 2, 0, 0, 0, 0, 2, 2, 0, 2, 0, 2, 0, 0, 2, 2, 2, 2, 0, 1, 2, 0, 2, 0, 0, 2, 0, 0, 0, 0, 0, 2, 1, 0, 0, 1, 0, 2, 0, 0, 2, 1, 0, 0], \"colorscale\": \"Viridis\", \"line\": {\"color\": \"rgb(105, 105, 105)\", \"width\": 1}, \"size\": 12, \"symbol\": [0, 1, 2, 2, 1, 0, 2, 0, 2, 0, 0, 2, 1, 0, 1, 0, 2, 2, 0, 0, 0, 0, 2, 2, 0, 2, 0, 2, 0, 0, 2, 2, 2, 2, 0, 1, 2, 0, 2, 0, 0, 2, 0, 0, 0, 0, 0, 2, 1, 0, 0, 1, 0, 2, 0, 0, 2, 1, 0, 0]}, \"mode\": \"markers\", \"text\": [\"Student_1\", \"Student_2\", \"Student_3\", \"Student_4\", \"Student_5\", \"Student_6\", \"Student_7\", \"Student_8\", \"Student_9\", \"Student_10\", \"Student_11\", \"Student_12\", \"Student_13\", \"Student_14\", \"Student_15\", \"Student_16\", \"Student_17\", \"Student_18\", \"Student_19\", \"Student_20\", \"Student_21\", \"Student_22\", \"Student_23\", \"Student_24\", \"Student_25\", \"Student_26\", \"Student_27\", \"Student_28\", \"Student_29\", \"Student_30\", \"Student_31\", \"Student_32\", \"Student_33\", \"Student_34\", \"Student_35\", \"Student_36\", \"Student_37\", \"Student_38\", \"Student_39\", \"Student_40\", \"Student_41\", \"Student_42\", \"Student_43\", \"Student_44\", \"Student_45\", \"Student_46\", \"Student_47\", \"Student_48\", \"Student_49\", \"Student_50\", \"Student_51\", \"Student_52\", \"Student_53\", \"Student_54\", \"Student_55\", \"Student_56\", \"Student_57\", \"Student_58\", \"Student_59\", \"Student_60\"], \"x\": [22, 70, 35, 21, 81, 14, 34, 12, 29, 11, 18, 52, 55, 16, 64, 16, 49, 29, 22, 16, 17, 14, 49, 41, 16, 37, 17, 33, 15, 21, 52, 23, 23, 44, 16, 65, 30, 9, 46, 11, 19, 34, 14, 9, 20, 17, 22, 21, 69, 20, 19, 82, 17, 39, 21, 19, 44, 60, 13, 15], \"y\": [34, 83, 53, 53, 95, 38, 54, 31, 52, 41, 48, 62, 79, 24, 71, 50, 67, 56, 46, 22, 33, 28, 63, 61, 34, 51, 48, 57, 45, 33, 63, 59, 52, 70, 24, 75, 55, 49, 62, 50, 17, 60, 27, 42, 29, 21, 18, 52, 81, 39, 32, 83, 41, 69, 36, 1, 61, 78, 21, 33], \"type\": \"scatter\", \"uid\": \"078e7ab8-e2f6-11e8-96ad-27ad55f30ab3\"}], {}, {\"showLink\": true, \"linkText\": \"Export to plot.ly\"})});</script>"
      ]
     },
     "metadata": {},
     "output_type": "display_data"
    },
    {
     "data": {
      "application/vnd.plotly.v1+json": {
       "data": [
        {
         "marker": {
          "color": [
           0,
           1,
           2,
           2,
           1,
           0,
           2,
           0,
           2,
           0,
           0,
           2,
           1,
           0,
           1,
           0,
           2,
           2,
           0,
           0,
           0,
           0,
           2,
           2,
           0,
           2,
           0,
           2,
           0,
           0,
           2,
           2,
           2,
           2,
           0,
           1,
           2,
           0,
           2,
           0,
           0,
           2,
           0,
           0,
           0,
           0,
           0,
           2,
           1,
           0,
           0,
           1,
           0,
           2,
           0,
           0,
           2,
           1,
           0,
           0
          ],
          "colorscale": "Viridis",
          "line": {
           "color": "rgb(105, 105, 105)",
           "width": 1
          },
          "size": 12,
          "symbol": [
           0,
           1,
           2,
           2,
           1,
           0,
           2,
           0,
           2,
           0,
           0,
           2,
           1,
           0,
           1,
           0,
           2,
           2,
           0,
           0,
           0,
           0,
           2,
           2,
           0,
           2,
           0,
           2,
           0,
           0,
           2,
           2,
           2,
           2,
           0,
           1,
           2,
           0,
           2,
           0,
           0,
           2,
           0,
           0,
           0,
           0,
           0,
           2,
           1,
           0,
           0,
           1,
           0,
           2,
           0,
           0,
           2,
           1,
           0,
           0
          ]
         },
         "mode": "markers",
         "text": [
          "Student_1",
          "Student_2",
          "Student_3",
          "Student_4",
          "Student_5",
          "Student_6",
          "Student_7",
          "Student_8",
          "Student_9",
          "Student_10",
          "Student_11",
          "Student_12",
          "Student_13",
          "Student_14",
          "Student_15",
          "Student_16",
          "Student_17",
          "Student_18",
          "Student_19",
          "Student_20",
          "Student_21",
          "Student_22",
          "Student_23",
          "Student_24",
          "Student_25",
          "Student_26",
          "Student_27",
          "Student_28",
          "Student_29",
          "Student_30",
          "Student_31",
          "Student_32",
          "Student_33",
          "Student_34",
          "Student_35",
          "Student_36",
          "Student_37",
          "Student_38",
          "Student_39",
          "Student_40",
          "Student_41",
          "Student_42",
          "Student_43",
          "Student_44",
          "Student_45",
          "Student_46",
          "Student_47",
          "Student_48",
          "Student_49",
          "Student_50",
          "Student_51",
          "Student_52",
          "Student_53",
          "Student_54",
          "Student_55",
          "Student_56",
          "Student_57",
          "Student_58",
          "Student_59",
          "Student_60"
         ],
         "type": "scatter",
         "uid": "07958fb0-e2f6-11e8-96ad-27ad55f30ab3",
         "x": [
          22,
          70,
          35,
          21,
          81,
          14,
          34,
          12,
          29,
          11,
          18,
          52,
          55,
          16,
          64,
          16,
          49,
          29,
          22,
          16,
          17,
          14,
          49,
          41,
          16,
          37,
          17,
          33,
          15,
          21,
          52,
          23,
          23,
          44,
          16,
          65,
          30,
          9,
          46,
          11,
          19,
          34,
          14,
          9,
          20,
          17,
          22,
          21,
          69,
          20,
          19,
          82,
          17,
          39,
          21,
          19,
          44,
          60,
          13,
          15
         ],
         "y": [
          0,
          2,
          1,
          2,
          6,
          0,
          0,
          0,
          2,
          0,
          0,
          3,
          3,
          0,
          1,
          0,
          2,
          2,
          0,
          0,
          0,
          0,
          2,
          2,
          0,
          0,
          0,
          1,
          0,
          0,
          3,
          2,
          1,
          1,
          0,
          1,
          2,
          0,
          0,
          0,
          0,
          1,
          0,
          0,
          0,
          0,
          0,
          1,
          7,
          0,
          0,
          2,
          0,
          2,
          0,
          0,
          2,
          6,
          0,
          0
         ]
        }
       ],
       "layout": {}
      },
      "text/html": [
       "<div id=\"eb33d135-271e-4b21-8248-373fb605cb0f\" style=\"height: 525px; width: 100%;\" class=\"plotly-graph-div\"></div><script type=\"text/javascript\">require([\"plotly\"], function(Plotly) { window.PLOTLYENV=window.PLOTLYENV || {};window.PLOTLYENV.BASE_URL=\"https://plot.ly\";Plotly.newPlot(\"eb33d135-271e-4b21-8248-373fb605cb0f\", [{\"marker\": {\"color\": [0, 1, 2, 2, 1, 0, 2, 0, 2, 0, 0, 2, 1, 0, 1, 0, 2, 2, 0, 0, 0, 0, 2, 2, 0, 2, 0, 2, 0, 0, 2, 2, 2, 2, 0, 1, 2, 0, 2, 0, 0, 2, 0, 0, 0, 0, 0, 2, 1, 0, 0, 1, 0, 2, 0, 0, 2, 1, 0, 0], \"colorscale\": \"Viridis\", \"line\": {\"color\": \"rgb(105, 105, 105)\", \"width\": 1}, \"size\": 12, \"symbol\": [0, 1, 2, 2, 1, 0, 2, 0, 2, 0, 0, 2, 1, 0, 1, 0, 2, 2, 0, 0, 0, 0, 2, 2, 0, 2, 0, 2, 0, 0, 2, 2, 2, 2, 0, 1, 2, 0, 2, 0, 0, 2, 0, 0, 0, 0, 0, 2, 1, 0, 0, 1, 0, 2, 0, 0, 2, 1, 0, 0]}, \"mode\": \"markers\", \"text\": [\"Student_1\", \"Student_2\", \"Student_3\", \"Student_4\", \"Student_5\", \"Student_6\", \"Student_7\", \"Student_8\", \"Student_9\", \"Student_10\", \"Student_11\", \"Student_12\", \"Student_13\", \"Student_14\", \"Student_15\", \"Student_16\", \"Student_17\", \"Student_18\", \"Student_19\", \"Student_20\", \"Student_21\", \"Student_22\", \"Student_23\", \"Student_24\", \"Student_25\", \"Student_26\", \"Student_27\", \"Student_28\", \"Student_29\", \"Student_30\", \"Student_31\", \"Student_32\", \"Student_33\", \"Student_34\", \"Student_35\", \"Student_36\", \"Student_37\", \"Student_38\", \"Student_39\", \"Student_40\", \"Student_41\", \"Student_42\", \"Student_43\", \"Student_44\", \"Student_45\", \"Student_46\", \"Student_47\", \"Student_48\", \"Student_49\", \"Student_50\", \"Student_51\", \"Student_52\", \"Student_53\", \"Student_54\", \"Student_55\", \"Student_56\", \"Student_57\", \"Student_58\", \"Student_59\", \"Student_60\"], \"x\": [22, 70, 35, 21, 81, 14, 34, 12, 29, 11, 18, 52, 55, 16, 64, 16, 49, 29, 22, 16, 17, 14, 49, 41, 16, 37, 17, 33, 15, 21, 52, 23, 23, 44, 16, 65, 30, 9, 46, 11, 19, 34, 14, 9, 20, 17, 22, 21, 69, 20, 19, 82, 17, 39, 21, 19, 44, 60, 13, 15], \"y\": [0, 2, 1, 2, 6, 0, 0, 0, 2, 0, 0, 3, 3, 0, 1, 0, 2, 2, 0, 0, 0, 0, 2, 2, 0, 0, 0, 1, 0, 0, 3, 2, 1, 1, 0, 1, 2, 0, 0, 0, 0, 1, 0, 0, 0, 0, 0, 1, 7, 0, 0, 2, 0, 2, 0, 0, 2, 6, 0, 0], \"type\": \"scatter\", \"uid\": \"0797c668-e2f6-11e8-96ad-27ad55f30ab3\"}], {}, {\"showLink\": true, \"linkText\": \"Export to plot.ly\"})});</script>"
      ],
      "text/vnd.plotly.v1+html": [
       "<div id=\"eb33d135-271e-4b21-8248-373fb605cb0f\" style=\"height: 525px; width: 100%;\" class=\"plotly-graph-div\"></div><script type=\"text/javascript\">require([\"plotly\"], function(Plotly) { window.PLOTLYENV=window.PLOTLYENV || {};window.PLOTLYENV.BASE_URL=\"https://plot.ly\";Plotly.newPlot(\"eb33d135-271e-4b21-8248-373fb605cb0f\", [{\"marker\": {\"color\": [0, 1, 2, 2, 1, 0, 2, 0, 2, 0, 0, 2, 1, 0, 1, 0, 2, 2, 0, 0, 0, 0, 2, 2, 0, 2, 0, 2, 0, 0, 2, 2, 2, 2, 0, 1, 2, 0, 2, 0, 0, 2, 0, 0, 0, 0, 0, 2, 1, 0, 0, 1, 0, 2, 0, 0, 2, 1, 0, 0], \"colorscale\": \"Viridis\", \"line\": {\"color\": \"rgb(105, 105, 105)\", \"width\": 1}, \"size\": 12, \"symbol\": [0, 1, 2, 2, 1, 0, 2, 0, 2, 0, 0, 2, 1, 0, 1, 0, 2, 2, 0, 0, 0, 0, 2, 2, 0, 2, 0, 2, 0, 0, 2, 2, 2, 2, 0, 1, 2, 0, 2, 0, 0, 2, 0, 0, 0, 0, 0, 2, 1, 0, 0, 1, 0, 2, 0, 0, 2, 1, 0, 0]}, \"mode\": \"markers\", \"text\": [\"Student_1\", \"Student_2\", \"Student_3\", \"Student_4\", \"Student_5\", \"Student_6\", \"Student_7\", \"Student_8\", \"Student_9\", \"Student_10\", \"Student_11\", \"Student_12\", \"Student_13\", \"Student_14\", \"Student_15\", \"Student_16\", \"Student_17\", \"Student_18\", \"Student_19\", \"Student_20\", \"Student_21\", \"Student_22\", \"Student_23\", \"Student_24\", \"Student_25\", \"Student_26\", \"Student_27\", \"Student_28\", \"Student_29\", \"Student_30\", \"Student_31\", \"Student_32\", \"Student_33\", \"Student_34\", \"Student_35\", \"Student_36\", \"Student_37\", \"Student_38\", \"Student_39\", \"Student_40\", \"Student_41\", \"Student_42\", \"Student_43\", \"Student_44\", \"Student_45\", \"Student_46\", \"Student_47\", \"Student_48\", \"Student_49\", \"Student_50\", \"Student_51\", \"Student_52\", \"Student_53\", \"Student_54\", \"Student_55\", \"Student_56\", \"Student_57\", \"Student_58\", \"Student_59\", \"Student_60\"], \"x\": [22, 70, 35, 21, 81, 14, 34, 12, 29, 11, 18, 52, 55, 16, 64, 16, 49, 29, 22, 16, 17, 14, 49, 41, 16, 37, 17, 33, 15, 21, 52, 23, 23, 44, 16, 65, 30, 9, 46, 11, 19, 34, 14, 9, 20, 17, 22, 21, 69, 20, 19, 82, 17, 39, 21, 19, 44, 60, 13, 15], \"y\": [0, 2, 1, 2, 6, 0, 0, 0, 2, 0, 0, 3, 3, 0, 1, 0, 2, 2, 0, 0, 0, 0, 2, 2, 0, 0, 0, 1, 0, 0, 3, 2, 1, 1, 0, 1, 2, 0, 0, 0, 0, 1, 0, 0, 0, 0, 0, 1, 7, 0, 0, 2, 0, 2, 0, 0, 2, 6, 0, 0], \"type\": \"scatter\", \"uid\": \"0797c668-e2f6-11e8-96ad-27ad55f30ab3\"}], {}, {\"showLink\": true, \"linkText\": \"Export to plot.ly\"})});</script>"
      ]
     },
     "metadata": {},
     "output_type": "display_data"
    },
    {
     "data": {
      "application/vnd.plotly.v1+json": {
       "data": [
        {
         "marker": {
          "color": [
           0,
           1,
           2,
           2,
           1,
           0,
           2,
           0,
           2,
           0,
           0,
           2,
           1,
           0,
           1,
           0,
           2,
           2,
           0,
           0,
           0,
           0,
           2,
           2,
           0,
           2,
           0,
           2,
           0,
           0,
           2,
           2,
           2,
           2,
           0,
           1,
           2,
           0,
           2,
           0,
           0,
           2,
           0,
           0,
           0,
           0,
           0,
           2,
           1,
           0,
           0,
           1,
           0,
           2,
           0,
           0,
           2,
           1,
           0,
           0
          ],
          "colorscale": "Viridis",
          "line": {
           "color": "rgb(105, 105, 105)",
           "width": 1
          },
          "size": 12,
          "symbol": [
           0,
           1,
           2,
           2,
           1,
           0,
           2,
           0,
           2,
           0,
           0,
           2,
           1,
           0,
           1,
           0,
           2,
           2,
           0,
           0,
           0,
           0,
           2,
           2,
           0,
           2,
           0,
           2,
           0,
           0,
           2,
           2,
           2,
           2,
           0,
           1,
           2,
           0,
           2,
           0,
           0,
           2,
           0,
           0,
           0,
           0,
           0,
           2,
           1,
           0,
           0,
           1,
           0,
           2,
           0,
           0,
           2,
           1,
           0,
           0
          ]
         },
         "mode": "markers",
         "text": [
          "Student_1",
          "Student_2",
          "Student_3",
          "Student_4",
          "Student_5",
          "Student_6",
          "Student_7",
          "Student_8",
          "Student_9",
          "Student_10",
          "Student_11",
          "Student_12",
          "Student_13",
          "Student_14",
          "Student_15",
          "Student_16",
          "Student_17",
          "Student_18",
          "Student_19",
          "Student_20",
          "Student_21",
          "Student_22",
          "Student_23",
          "Student_24",
          "Student_25",
          "Student_26",
          "Student_27",
          "Student_28",
          "Student_29",
          "Student_30",
          "Student_31",
          "Student_32",
          "Student_33",
          "Student_34",
          "Student_35",
          "Student_36",
          "Student_37",
          "Student_38",
          "Student_39",
          "Student_40",
          "Student_41",
          "Student_42",
          "Student_43",
          "Student_44",
          "Student_45",
          "Student_46",
          "Student_47",
          "Student_48",
          "Student_49",
          "Student_50",
          "Student_51",
          "Student_52",
          "Student_53",
          "Student_54",
          "Student_55",
          "Student_56",
          "Student_57",
          "Student_58",
          "Student_59",
          "Student_60"
         ],
         "type": "scatter",
         "uid": "079ecbfc-e2f6-11e8-96ad-27ad55f30ab3",
         "x": [
          22,
          70,
          35,
          21,
          81,
          14,
          34,
          12,
          29,
          11,
          18,
          52,
          55,
          16,
          64,
          16,
          49,
          29,
          22,
          16,
          17,
          14,
          49,
          41,
          16,
          37,
          17,
          33,
          15,
          21,
          52,
          23,
          23,
          44,
          16,
          65,
          30,
          9,
          46,
          11,
          19,
          34,
          14,
          9,
          20,
          17,
          22,
          21,
          69,
          20,
          19,
          82,
          17,
          39,
          21,
          19,
          44,
          60,
          13,
          15
         ],
         "y": [
          0,
          43,
          8,
          8,
          72,
          0,
          5,
          0,
          7,
          0,
          0,
          15,
          31,
          0,
          32,
          0,
          14,
          8,
          0,
          0,
          0,
          0,
          18,
          16,
          0,
          7,
          0,
          8,
          0,
          0,
          17,
          5,
          10,
          14,
          0,
          43,
          8,
          0,
          13,
          0,
          0,
          11,
          0,
          0,
          0,
          0,
          0,
          4,
          46,
          0,
          0,
          46,
          0,
          14,
          0,
          0,
          13,
          35,
          0,
          0
         ]
        }
       ],
       "layout": {}
      },
      "text/html": [
       "<div id=\"176cf402-5557-4c41-9618-357e2b79ce3d\" style=\"height: 525px; width: 100%;\" class=\"plotly-graph-div\"></div><script type=\"text/javascript\">require([\"plotly\"], function(Plotly) { window.PLOTLYENV=window.PLOTLYENV || {};window.PLOTLYENV.BASE_URL=\"https://plot.ly\";Plotly.newPlot(\"176cf402-5557-4c41-9618-357e2b79ce3d\", [{\"marker\": {\"color\": [0, 1, 2, 2, 1, 0, 2, 0, 2, 0, 0, 2, 1, 0, 1, 0, 2, 2, 0, 0, 0, 0, 2, 2, 0, 2, 0, 2, 0, 0, 2, 2, 2, 2, 0, 1, 2, 0, 2, 0, 0, 2, 0, 0, 0, 0, 0, 2, 1, 0, 0, 1, 0, 2, 0, 0, 2, 1, 0, 0], \"colorscale\": \"Viridis\", \"line\": {\"color\": \"rgb(105, 105, 105)\", \"width\": 1}, \"size\": 12, \"symbol\": [0, 1, 2, 2, 1, 0, 2, 0, 2, 0, 0, 2, 1, 0, 1, 0, 2, 2, 0, 0, 0, 0, 2, 2, 0, 2, 0, 2, 0, 0, 2, 2, 2, 2, 0, 1, 2, 0, 2, 0, 0, 2, 0, 0, 0, 0, 0, 2, 1, 0, 0, 1, 0, 2, 0, 0, 2, 1, 0, 0]}, \"mode\": \"markers\", \"text\": [\"Student_1\", \"Student_2\", \"Student_3\", \"Student_4\", \"Student_5\", \"Student_6\", \"Student_7\", \"Student_8\", \"Student_9\", \"Student_10\", \"Student_11\", \"Student_12\", \"Student_13\", \"Student_14\", \"Student_15\", \"Student_16\", \"Student_17\", \"Student_18\", \"Student_19\", \"Student_20\", \"Student_21\", \"Student_22\", \"Student_23\", \"Student_24\", \"Student_25\", \"Student_26\", \"Student_27\", \"Student_28\", \"Student_29\", \"Student_30\", \"Student_31\", \"Student_32\", \"Student_33\", \"Student_34\", \"Student_35\", \"Student_36\", \"Student_37\", \"Student_38\", \"Student_39\", \"Student_40\", \"Student_41\", \"Student_42\", \"Student_43\", \"Student_44\", \"Student_45\", \"Student_46\", \"Student_47\", \"Student_48\", \"Student_49\", \"Student_50\", \"Student_51\", \"Student_52\", \"Student_53\", \"Student_54\", \"Student_55\", \"Student_56\", \"Student_57\", \"Student_58\", \"Student_59\", \"Student_60\"], \"x\": [22, 70, 35, 21, 81, 14, 34, 12, 29, 11, 18, 52, 55, 16, 64, 16, 49, 29, 22, 16, 17, 14, 49, 41, 16, 37, 17, 33, 15, 21, 52, 23, 23, 44, 16, 65, 30, 9, 46, 11, 19, 34, 14, 9, 20, 17, 22, 21, 69, 20, 19, 82, 17, 39, 21, 19, 44, 60, 13, 15], \"y\": [0, 43, 8, 8, 72, 0, 5, 0, 7, 0, 0, 15, 31, 0, 32, 0, 14, 8, 0, 0, 0, 0, 18, 16, 0, 7, 0, 8, 0, 0, 17, 5, 10, 14, 0, 43, 8, 0, 13, 0, 0, 11, 0, 0, 0, 0, 0, 4, 46, 0, 0, 46, 0, 14, 0, 0, 13, 35, 0, 0], \"type\": \"scatter\", \"uid\": \"07a0d848-e2f6-11e8-96ad-27ad55f30ab3\"}], {}, {\"showLink\": true, \"linkText\": \"Export to plot.ly\"})});</script>"
      ],
      "text/vnd.plotly.v1+html": [
       "<div id=\"176cf402-5557-4c41-9618-357e2b79ce3d\" style=\"height: 525px; width: 100%;\" class=\"plotly-graph-div\"></div><script type=\"text/javascript\">require([\"plotly\"], function(Plotly) { window.PLOTLYENV=window.PLOTLYENV || {};window.PLOTLYENV.BASE_URL=\"https://plot.ly\";Plotly.newPlot(\"176cf402-5557-4c41-9618-357e2b79ce3d\", [{\"marker\": {\"color\": [0, 1, 2, 2, 1, 0, 2, 0, 2, 0, 0, 2, 1, 0, 1, 0, 2, 2, 0, 0, 0, 0, 2, 2, 0, 2, 0, 2, 0, 0, 2, 2, 2, 2, 0, 1, 2, 0, 2, 0, 0, 2, 0, 0, 0, 0, 0, 2, 1, 0, 0, 1, 0, 2, 0, 0, 2, 1, 0, 0], \"colorscale\": \"Viridis\", \"line\": {\"color\": \"rgb(105, 105, 105)\", \"width\": 1}, \"size\": 12, \"symbol\": [0, 1, 2, 2, 1, 0, 2, 0, 2, 0, 0, 2, 1, 0, 1, 0, 2, 2, 0, 0, 0, 0, 2, 2, 0, 2, 0, 2, 0, 0, 2, 2, 2, 2, 0, 1, 2, 0, 2, 0, 0, 2, 0, 0, 0, 0, 0, 2, 1, 0, 0, 1, 0, 2, 0, 0, 2, 1, 0, 0]}, \"mode\": \"markers\", \"text\": [\"Student_1\", \"Student_2\", \"Student_3\", \"Student_4\", \"Student_5\", \"Student_6\", \"Student_7\", \"Student_8\", \"Student_9\", \"Student_10\", \"Student_11\", \"Student_12\", \"Student_13\", \"Student_14\", \"Student_15\", \"Student_16\", \"Student_17\", \"Student_18\", \"Student_19\", \"Student_20\", \"Student_21\", \"Student_22\", \"Student_23\", \"Student_24\", \"Student_25\", \"Student_26\", \"Student_27\", \"Student_28\", \"Student_29\", \"Student_30\", \"Student_31\", \"Student_32\", \"Student_33\", \"Student_34\", \"Student_35\", \"Student_36\", \"Student_37\", \"Student_38\", \"Student_39\", \"Student_40\", \"Student_41\", \"Student_42\", \"Student_43\", \"Student_44\", \"Student_45\", \"Student_46\", \"Student_47\", \"Student_48\", \"Student_49\", \"Student_50\", \"Student_51\", \"Student_52\", \"Student_53\", \"Student_54\", \"Student_55\", \"Student_56\", \"Student_57\", \"Student_58\", \"Student_59\", \"Student_60\"], \"x\": [22, 70, 35, 21, 81, 14, 34, 12, 29, 11, 18, 52, 55, 16, 64, 16, 49, 29, 22, 16, 17, 14, 49, 41, 16, 37, 17, 33, 15, 21, 52, 23, 23, 44, 16, 65, 30, 9, 46, 11, 19, 34, 14, 9, 20, 17, 22, 21, 69, 20, 19, 82, 17, 39, 21, 19, 44, 60, 13, 15], \"y\": [0, 43, 8, 8, 72, 0, 5, 0, 7, 0, 0, 15, 31, 0, 32, 0, 14, 8, 0, 0, 0, 0, 18, 16, 0, 7, 0, 8, 0, 0, 17, 5, 10, 14, 0, 43, 8, 0, 13, 0, 0, 11, 0, 0, 0, 0, 0, 4, 46, 0, 0, 46, 0, 14, 0, 0, 13, 35, 0, 0], \"type\": \"scatter\", \"uid\": \"07a0d848-e2f6-11e8-96ad-27ad55f30ab3\"}], {}, {\"showLink\": true, \"linkText\": \"Export to plot.ly\"})});</script>"
      ]
     },
     "metadata": {},
     "output_type": "display_data"
    }
   ],
   "source": [
    "run scripts/V005.py"
   ]
  },
  {
   "cell_type": "markdown",
   "metadata": {},
   "source": [
    "### View 006"
   ]
  },
  {
   "cell_type": "code",
   "execution_count": null,
   "metadata": {},
   "outputs": [],
   "source": [
    "run scripts/V006.py"
   ]
  },
  {
   "cell_type": "markdown",
   "metadata": {},
   "source": [
    "### View 007"
   ]
  },
  {
   "cell_type": "code",
   "execution_count": null,
   "metadata": {},
   "outputs": [],
   "source": [
    "run scripts/V007.py"
   ]
  },
  {
   "cell_type": "markdown",
   "metadata": {},
   "source": [
    "### View 008"
   ]
  },
  {
   "cell_type": "code",
   "execution_count": null,
   "metadata": {},
   "outputs": [],
   "source": [
    "run scripts/V008.py"
   ]
  },
  {
   "cell_type": "markdown",
   "metadata": {},
   "source": [
    "### View 009"
   ]
  },
  {
   "cell_type": "code",
   "execution_count": null,
   "metadata": {},
   "outputs": [],
   "source": [
    "run scripts/V009.py"
   ]
  },
  {
   "cell_type": "markdown",
   "metadata": {},
   "source": [
    "### View 010"
   ]
  },
  {
   "cell_type": "code",
   "execution_count": 46,
   "metadata": {},
   "outputs": [],
   "source": [
    "run scripts/V010.py"
   ]
  },
  {
   "cell_type": "markdown",
   "metadata": {},
   "source": [
    "### View 011"
   ]
  },
  {
   "cell_type": "code",
   "execution_count": null,
   "metadata": {},
   "outputs": [],
   "source": [
    "run scripts/V011.py"
   ]
  }
 ],
 "metadata": {
  "kernelspec": {
   "display_name": "Python 3",
   "language": "python",
   "name": "python3"
  },
  "language_info": {
   "codemirror_mode": {
    "name": "ipython",
    "version": 3
   },
   "file_extension": ".py",
   "mimetype": "text/x-python",
   "name": "python",
   "nbconvert_exporter": "python",
   "pygments_lexer": "ipython3",
   "version": "3.7.0"
  }
 },
 "nbformat": 4,
 "nbformat_minor": 2
}
