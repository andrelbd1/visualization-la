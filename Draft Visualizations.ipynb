{
 "cells": [
  {
   "cell_type": "markdown",
   "metadata": {},
   "source": [
    "### View 001"
   ]
  },
  {
   "cell_type": "code",
   "execution_count": 31,
   "metadata": {
    "scrolled": true
   },
   "outputs": [
    {
     "data": {
      "text/html": [
       "<script>requirejs.config({paths: { 'plotly': ['https://cdn.plot.ly/plotly-latest.min']},});if(!window.Plotly) {{require(['plotly'],function(plotly) {window.Plotly=plotly;});}}</script>"
      ],
      "text/vnd.plotly.v1+html": [
       "<script>requirejs.config({paths: { 'plotly': ['https://cdn.plot.ly/plotly-latest.min']},});if(!window.Plotly) {{require(['plotly'],function(plotly) {window.Plotly=plotly;});}}</script>"
      ]
     },
     "metadata": {},
     "output_type": "display_data"
    },
    {
     "data": {
      "application/vnd.plotly.v1+json": {
       "data": [
        {
         "cells": {
          "align": [
           "left",
           "center"
          ],
          "fill": {
           "color": "#F5F8FF"
          },
          "values": [
           [
            "Student_1",
            "Student_2",
            "Student_3",
            "Student_4",
            "Student_5",
            "Student_6",
            "Student_7",
            "Student_8",
            "Student_9",
            "Student_10",
            "Student_11",
            "Student_12",
            "Student_13",
            "Student_14",
            "Student_15",
            "Student_16",
            "Student_17",
            "Student_18",
            "Student_19",
            "Student_20"
           ],
           [
            0,
            0,
            1,
            1,
            0,
            1,
            1,
            0,
            1,
            0,
            0,
            1,
            1,
            0,
            1,
            1,
            1,
            1,
            0,
            1
           ],
           [
            1,
            0,
            0,
            1,
            1,
            1,
            1,
            0,
            1,
            0,
            1,
            0,
            0,
            1,
            0,
            1,
            1,
            0,
            1,
            0
           ],
           [
            1,
            0,
            0,
            1,
            0,
            1,
            1,
            0,
            1,
            1,
            1,
            0,
            0,
            1,
            1,
            1,
            0,
            0,
            1,
            1
           ],
           [
            0,
            1,
            1,
            0,
            0,
            1,
            1,
            0,
            1,
            1,
            0,
            0,
            1,
            0,
            0,
            1,
            0,
            1,
            1,
            1
           ]
          ]
         },
         "header": {
          "align": "center",
          "fill": {
           "color": "#C2D4FF"
          },
          "values": [
           "Students",
           "Assign1",
           "Assign2",
           "Assign3",
           "Assign4"
          ]
         },
         "type": "table",
         "uid": "a7782118-e1c6-11e8-81b5-2d0a4fadc81a"
        }
       ],
       "layout": {}
      },
      "text/html": [
       "<div id=\"16352382-da86-4c3d-871a-3cbe605e1181\" style=\"height: 525px; width: 100%;\" class=\"plotly-graph-div\"></div><script type=\"text/javascript\">require([\"plotly\"], function(Plotly) { window.PLOTLYENV=window.PLOTLYENV || {};window.PLOTLYENV.BASE_URL=\"https://plot.ly\";Plotly.newPlot(\"16352382-da86-4c3d-871a-3cbe605e1181\", [{\"cells\": {\"align\": [\"left\", \"center\"], \"fill\": {\"color\": \"#F5F8FF\"}, \"values\": [[\"Student_1\", \"Student_2\", \"Student_3\", \"Student_4\", \"Student_5\", \"Student_6\", \"Student_7\", \"Student_8\", \"Student_9\", \"Student_10\", \"Student_11\", \"Student_12\", \"Student_13\", \"Student_14\", \"Student_15\", \"Student_16\", \"Student_17\", \"Student_18\", \"Student_19\", \"Student_20\"], [0, 0, 1, 1, 0, 1, 1, 0, 1, 0, 0, 1, 1, 0, 1, 1, 1, 1, 0, 1], [1, 0, 0, 1, 1, 1, 1, 0, 1, 0, 1, 0, 0, 1, 0, 1, 1, 0, 1, 0], [1, 0, 0, 1, 0, 1, 1, 0, 1, 1, 1, 0, 0, 1, 1, 1, 0, 0, 1, 1], [0, 1, 1, 0, 0, 1, 1, 0, 1, 1, 0, 0, 1, 0, 0, 1, 0, 1, 1, 1]]}, \"header\": {\"align\": \"center\", \"fill\": {\"color\": \"#C2D4FF\"}, \"values\": [\"Students\", \"Assign1\", \"Assign2\", \"Assign3\", \"Assign4\"]}, \"type\": \"table\", \"uid\": \"a77b07b6-e1c6-11e8-81b5-2d0a4fadc81a\"}], {}, {\"showLink\": true, \"linkText\": \"Export to plot.ly\"})});</script>"
      ],
      "text/vnd.plotly.v1+html": [
       "<div id=\"16352382-da86-4c3d-871a-3cbe605e1181\" style=\"height: 525px; width: 100%;\" class=\"plotly-graph-div\"></div><script type=\"text/javascript\">require([\"plotly\"], function(Plotly) { window.PLOTLYENV=window.PLOTLYENV || {};window.PLOTLYENV.BASE_URL=\"https://plot.ly\";Plotly.newPlot(\"16352382-da86-4c3d-871a-3cbe605e1181\", [{\"cells\": {\"align\": [\"left\", \"center\"], \"fill\": {\"color\": \"#F5F8FF\"}, \"values\": [[\"Student_1\", \"Student_2\", \"Student_3\", \"Student_4\", \"Student_5\", \"Student_6\", \"Student_7\", \"Student_8\", \"Student_9\", \"Student_10\", \"Student_11\", \"Student_12\", \"Student_13\", \"Student_14\", \"Student_15\", \"Student_16\", \"Student_17\", \"Student_18\", \"Student_19\", \"Student_20\"], [0, 0, 1, 1, 0, 1, 1, 0, 1, 0, 0, 1, 1, 0, 1, 1, 1, 1, 0, 1], [1, 0, 0, 1, 1, 1, 1, 0, 1, 0, 1, 0, 0, 1, 0, 1, 1, 0, 1, 0], [1, 0, 0, 1, 0, 1, 1, 0, 1, 1, 1, 0, 0, 1, 1, 1, 0, 0, 1, 1], [0, 1, 1, 0, 0, 1, 1, 0, 1, 1, 0, 0, 1, 0, 0, 1, 0, 1, 1, 1]]}, \"header\": {\"align\": \"center\", \"fill\": {\"color\": \"#C2D4FF\"}, \"values\": [\"Students\", \"Assign1\", \"Assign2\", \"Assign3\", \"Assign4\"]}, \"type\": \"table\", \"uid\": \"a77b07b6-e1c6-11e8-81b5-2d0a4fadc81a\"}], {}, {\"showLink\": true, \"linkText\": \"Export to plot.ly\"})});</script>"
      ]
     },
     "metadata": {},
     "output_type": "display_data"
    },
    {
     "data": {
      "application/vnd.plotly.v1+json": {
       "data": [
        {
         "type": "bar",
         "uid": "a77fbb9e-e1c6-11e8-81b5-2d0a4fadc81a",
         "x": [
          "Student_1",
          "Student_2",
          "Student_3",
          "Student_4",
          "Student_5",
          "Student_6",
          "Student_7",
          "Student_8",
          "Student_9",
          "Student_10",
          "Student_11",
          "Student_12",
          "Student_13",
          "Student_14",
          "Student_15",
          "Student_16",
          "Student_17",
          "Student_18",
          "Student_19",
          "Student_20"
         ],
         "y": [
          2,
          1,
          2,
          3,
          1,
          4,
          4,
          0,
          4,
          2,
          2,
          1,
          2,
          2,
          2,
          4,
          2,
          2,
          3,
          3
         ]
        }
       ],
       "layout": {
        "title": "Quantidade de tarefas feitas por alunos",
        "yaxis": {
         "dtick": 1,
         "exponentformat": "e",
         "gridcolor": "#bdbdbd",
         "showexponent": "all",
         "showticklabels": true,
         "tick0": 0,
         "titlefont": {
          "color": "lightgrey",
          "family": "Arial, sans-serif"
         }
        }
       }
      },
      "text/html": [
       "<div id=\"1183ae41-b268-4084-9979-107bc4d94e77\" style=\"height: 525px; width: 100%;\" class=\"plotly-graph-div\"></div><script type=\"text/javascript\">require([\"plotly\"], function(Plotly) { window.PLOTLYENV=window.PLOTLYENV || {};window.PLOTLYENV.BASE_URL=\"https://plot.ly\";Plotly.newPlot(\"1183ae41-b268-4084-9979-107bc4d94e77\", [{\"x\": [\"Student_1\", \"Student_2\", \"Student_3\", \"Student_4\", \"Student_5\", \"Student_6\", \"Student_7\", \"Student_8\", \"Student_9\", \"Student_10\", \"Student_11\", \"Student_12\", \"Student_13\", \"Student_14\", \"Student_15\", \"Student_16\", \"Student_17\", \"Student_18\", \"Student_19\", \"Student_20\"], \"y\": [2, 1, 2, 3, 1, 4, 4, 0, 4, 2, 2, 1, 2, 2, 2, 4, 2, 2, 3, 3], \"type\": \"bar\", \"uid\": \"a77fbb9e-e1c6-11e8-81b5-2d0a4fadc81a\"}], {\"title\": \"Quantidade de tarefas feitas por alunos\", \"yaxis\": {\"dtick\": 1, \"exponentformat\": \"e\", \"gridcolor\": \"#bdbdbd\", \"showexponent\": \"all\", \"showticklabels\": true, \"tick0\": 0, \"titlefont\": {\"color\": \"lightgrey\", \"family\": \"Arial, sans-serif\"}}}, {\"showLink\": true, \"linkText\": \"Export to plot.ly\"})});</script>"
      ],
      "text/vnd.plotly.v1+html": [
       "<div id=\"1183ae41-b268-4084-9979-107bc4d94e77\" style=\"height: 525px; width: 100%;\" class=\"plotly-graph-div\"></div><script type=\"text/javascript\">require([\"plotly\"], function(Plotly) { window.PLOTLYENV=window.PLOTLYENV || {};window.PLOTLYENV.BASE_URL=\"https://plot.ly\";Plotly.newPlot(\"1183ae41-b268-4084-9979-107bc4d94e77\", [{\"x\": [\"Student_1\", \"Student_2\", \"Student_3\", \"Student_4\", \"Student_5\", \"Student_6\", \"Student_7\", \"Student_8\", \"Student_9\", \"Student_10\", \"Student_11\", \"Student_12\", \"Student_13\", \"Student_14\", \"Student_15\", \"Student_16\", \"Student_17\", \"Student_18\", \"Student_19\", \"Student_20\"], \"y\": [2, 1, 2, 3, 1, 4, 4, 0, 4, 2, 2, 1, 2, 2, 2, 4, 2, 2, 3, 3], \"type\": \"bar\", \"uid\": \"a77fbb9e-e1c6-11e8-81b5-2d0a4fadc81a\"}], {\"title\": \"Quantidade de tarefas feitas por alunos\", \"yaxis\": {\"dtick\": 1, \"exponentformat\": \"e\", \"gridcolor\": \"#bdbdbd\", \"showexponent\": \"all\", \"showticklabels\": true, \"tick0\": 0, \"titlefont\": {\"color\": \"lightgrey\", \"family\": \"Arial, sans-serif\"}}}, {\"showLink\": true, \"linkText\": \"Export to plot.ly\"})});</script>"
      ]
     },
     "metadata": {},
     "output_type": "display_data"
    },
    {
     "data": {
      "application/vnd.plotly.v1+json": {
       "data": [
        {
         "type": "bar",
         "uid": "a784a7da-e1c6-11e8-81b5-2d0a4fadc81a",
         "x": [
          "Assign1",
          "Assign2",
          "Assign3",
          "Assign4"
         ],
         "y": [
          12,
          11,
          12,
          11
         ]
        }
       ],
       "layout": {
        "title": "Quantidade de alunos que fizeram as tarefas",
        "yaxis": {
         "dtick": 1,
         "exponentformat": "e",
         "gridcolor": "#bdbdbd",
         "showexponent": "all",
         "showticklabels": true,
         "tick0": 0,
         "titlefont": {
          "color": "lightgrey",
          "family": "Arial, sans-serif"
         }
        }
       }
      },
      "text/html": [
       "<div id=\"655eabd8-605a-422a-9bc1-f016f2a766e3\" style=\"height: 525px; width: 100%;\" class=\"plotly-graph-div\"></div><script type=\"text/javascript\">require([\"plotly\"], function(Plotly) { window.PLOTLYENV=window.PLOTLYENV || {};window.PLOTLYENV.BASE_URL=\"https://plot.ly\";Plotly.newPlot(\"655eabd8-605a-422a-9bc1-f016f2a766e3\", [{\"x\": [\"Assign1\", \"Assign2\", \"Assign3\", \"Assign4\"], \"y\": [12, 11, 12, 11], \"type\": \"bar\", \"uid\": \"a784a7da-e1c6-11e8-81b5-2d0a4fadc81a\"}], {\"title\": \"Quantidade de alunos que fizeram as tarefas\", \"yaxis\": {\"dtick\": 1, \"exponentformat\": \"e\", \"gridcolor\": \"#bdbdbd\", \"showexponent\": \"all\", \"showticklabels\": true, \"tick0\": 0, \"titlefont\": {\"color\": \"lightgrey\", \"family\": \"Arial, sans-serif\"}}}, {\"showLink\": true, \"linkText\": \"Export to plot.ly\"})});</script>"
      ],
      "text/vnd.plotly.v1+html": [
       "<div id=\"655eabd8-605a-422a-9bc1-f016f2a766e3\" style=\"height: 525px; width: 100%;\" class=\"plotly-graph-div\"></div><script type=\"text/javascript\">require([\"plotly\"], function(Plotly) { window.PLOTLYENV=window.PLOTLYENV || {};window.PLOTLYENV.BASE_URL=\"https://plot.ly\";Plotly.newPlot(\"655eabd8-605a-422a-9bc1-f016f2a766e3\", [{\"x\": [\"Assign1\", \"Assign2\", \"Assign3\", \"Assign4\"], \"y\": [12, 11, 12, 11], \"type\": \"bar\", \"uid\": \"a784a7da-e1c6-11e8-81b5-2d0a4fadc81a\"}], {\"title\": \"Quantidade de alunos que fizeram as tarefas\", \"yaxis\": {\"dtick\": 1, \"exponentformat\": \"e\", \"gridcolor\": \"#bdbdbd\", \"showexponent\": \"all\", \"showticklabels\": true, \"tick0\": 0, \"titlefont\": {\"color\": \"lightgrey\", \"family\": \"Arial, sans-serif\"}}}, {\"showLink\": true, \"linkText\": \"Export to plot.ly\"})});</script>"
      ]
     },
     "metadata": {},
     "output_type": "display_data"
    },
    {
     "data": {
      "application/vnd.plotly.v1+json": {
       "data": [
        {
         "marker": {
          "line": {
           "width": 2
          },
          "size": [
           0,
           1,
           1,
           0
          ],
          "sizemode": "area",
          "sizeref": 0.01,
          "symbol": "circle"
         },
         "mode": "markers",
         "name": "Student_1",
         "text": [
          "0",
          "1",
          "1",
          "0"
         ],
         "type": "scatter",
         "uid": "a7a39e10-e1c6-11e8-81b5-2d0a4fadc81a",
         "x": [
          "Student_1",
          "Student_1",
          "Student_1",
          "Student_1",
          "Student_1"
         ],
         "y": [
          "Assign1",
          "Assign2",
          "Assign3",
          "Assign4"
         ]
        },
        {
         "marker": {
          "line": {
           "width": 2
          },
          "size": [
           0,
           0,
           0,
           1
          ],
          "sizemode": "area",
          "sizeref": 0.01,
          "symbol": "circle"
         },
         "mode": "markers",
         "name": "Student_2",
         "text": [
          "0",
          "0",
          "0",
          "1"
         ],
         "type": "scatter",
         "uid": "a7a39fa0-e1c6-11e8-81b5-2d0a4fadc81a",
         "x": [
          "Student_2",
          "Student_2",
          "Student_2",
          "Student_2",
          "Student_2"
         ],
         "y": [
          "Assign1",
          "Assign2",
          "Assign3",
          "Assign4"
         ]
        },
        {
         "marker": {
          "line": {
           "width": 2
          },
          "size": [
           1,
           0,
           0,
           1
          ],
          "sizemode": "area",
          "sizeref": 0.01,
          "symbol": "circle"
         },
         "mode": "markers",
         "name": "Student_3",
         "text": [
          "1",
          "0",
          "0",
          "1"
         ],
         "type": "scatter",
         "uid": "a7a3a068-e1c6-11e8-81b5-2d0a4fadc81a",
         "x": [
          "Student_3",
          "Student_3",
          "Student_3",
          "Student_3",
          "Student_3"
         ],
         "y": [
          "Assign1",
          "Assign2",
          "Assign3",
          "Assign4"
         ]
        },
        {
         "marker": {
          "line": {
           "width": 2
          },
          "size": [
           1,
           1,
           1,
           0
          ],
          "sizemode": "area",
          "sizeref": 0.01,
          "symbol": "circle"
         },
         "mode": "markers",
         "name": "Student_4",
         "text": [
          "1",
          "1",
          "1",
          "0"
         ],
         "type": "scatter",
         "uid": "a7a3a112-e1c6-11e8-81b5-2d0a4fadc81a",
         "x": [
          "Student_4",
          "Student_4",
          "Student_4",
          "Student_4",
          "Student_4"
         ],
         "y": [
          "Assign1",
          "Assign2",
          "Assign3",
          "Assign4"
         ]
        },
        {
         "marker": {
          "line": {
           "width": 2
          },
          "size": [
           0,
           1,
           0,
           0
          ],
          "sizemode": "area",
          "sizeref": 0.01,
          "symbol": "circle"
         },
         "mode": "markers",
         "name": "Student_5",
         "text": [
          "0",
          "1",
          "0",
          "0"
         ],
         "type": "scatter",
         "uid": "a7a3a1a8-e1c6-11e8-81b5-2d0a4fadc81a",
         "x": [
          "Student_5",
          "Student_5",
          "Student_5",
          "Student_5",
          "Student_5"
         ],
         "y": [
          "Assign1",
          "Assign2",
          "Assign3",
          "Assign4"
         ]
        },
        {
         "marker": {
          "line": {
           "width": 2
          },
          "size": [
           1,
           1,
           1,
           1
          ],
          "sizemode": "area",
          "sizeref": 0.01,
          "symbol": "circle"
         },
         "mode": "markers",
         "name": "Student_6",
         "text": [
          "1",
          "1",
          "1",
          "1"
         ],
         "type": "scatter",
         "uid": "a7a3a234-e1c6-11e8-81b5-2d0a4fadc81a",
         "x": [
          "Student_6",
          "Student_6",
          "Student_6",
          "Student_6",
          "Student_6"
         ],
         "y": [
          "Assign1",
          "Assign2",
          "Assign3",
          "Assign4"
         ]
        },
        {
         "marker": {
          "line": {
           "width": 2
          },
          "size": [
           1,
           1,
           1,
           1
          ],
          "sizemode": "area",
          "sizeref": 0.01,
          "symbol": "circle"
         },
         "mode": "markers",
         "name": "Student_7",
         "text": [
          "1",
          "1",
          "1",
          "1"
         ],
         "type": "scatter",
         "uid": "a7a3a2c0-e1c6-11e8-81b5-2d0a4fadc81a",
         "x": [
          "Student_7",
          "Student_7",
          "Student_7",
          "Student_7",
          "Student_7"
         ],
         "y": [
          "Assign1",
          "Assign2",
          "Assign3",
          "Assign4"
         ]
        },
        {
         "marker": {
          "line": {
           "width": 2
          },
          "size": [
           0,
           0,
           0,
           0
          ],
          "sizemode": "area",
          "sizeref": 0.01,
          "symbol": "circle"
         },
         "mode": "markers",
         "name": "Student_8",
         "text": [
          "0",
          "0",
          "0",
          "0"
         ],
         "type": "scatter",
         "uid": "a7a3a34c-e1c6-11e8-81b5-2d0a4fadc81a",
         "x": [
          "Student_8",
          "Student_8",
          "Student_8",
          "Student_8",
          "Student_8"
         ],
         "y": [
          "Assign1",
          "Assign2",
          "Assign3",
          "Assign4"
         ]
        },
        {
         "marker": {
          "line": {
           "width": 2
          },
          "size": [
           1,
           1,
           1,
           1
          ],
          "sizemode": "area",
          "sizeref": 0.01,
          "symbol": "circle"
         },
         "mode": "markers",
         "name": "Student_9",
         "text": [
          "1",
          "1",
          "1",
          "1"
         ],
         "type": "scatter",
         "uid": "a7a3a3e2-e1c6-11e8-81b5-2d0a4fadc81a",
         "x": [
          "Student_9",
          "Student_9",
          "Student_9",
          "Student_9",
          "Student_9"
         ],
         "y": [
          "Assign1",
          "Assign2",
          "Assign3",
          "Assign4"
         ]
        },
        {
         "marker": {
          "line": {
           "width": 2
          },
          "size": [
           0,
           0,
           1,
           1
          ],
          "sizemode": "area",
          "sizeref": 0.01,
          "symbol": "circle"
         },
         "mode": "markers",
         "name": "Student_10",
         "text": [
          "0",
          "0",
          "1",
          "1"
         ],
         "type": "scatter",
         "uid": "a7a3a464-e1c6-11e8-81b5-2d0a4fadc81a",
         "x": [
          "Student_10",
          "Student_10",
          "Student_10",
          "Student_10",
          "Student_10"
         ],
         "y": [
          "Assign1",
          "Assign2",
          "Assign3",
          "Assign4"
         ]
        },
        {
         "marker": {
          "line": {
           "width": 2
          },
          "size": [
           0,
           1,
           1,
           0
          ],
          "sizemode": "area",
          "sizeref": 0.01,
          "symbol": "circle"
         },
         "mode": "markers",
         "name": "Student_11",
         "text": [
          "0",
          "1",
          "1",
          "0"
         ],
         "type": "scatter",
         "uid": "a7a3a4f0-e1c6-11e8-81b5-2d0a4fadc81a",
         "x": [
          "Student_11",
          "Student_11",
          "Student_11",
          "Student_11",
          "Student_11"
         ],
         "y": [
          "Assign1",
          "Assign2",
          "Assign3",
          "Assign4"
         ]
        },
        {
         "marker": {
          "line": {
           "width": 2
          },
          "size": [
           1,
           0,
           0,
           0
          ],
          "sizemode": "area",
          "sizeref": 0.01,
          "symbol": "circle"
         },
         "mode": "markers",
         "name": "Student_12",
         "text": [
          "1",
          "0",
          "0",
          "0"
         ],
         "type": "scatter",
         "uid": "a7a3a572-e1c6-11e8-81b5-2d0a4fadc81a",
         "x": [
          "Student_12",
          "Student_12",
          "Student_12",
          "Student_12",
          "Student_12"
         ],
         "y": [
          "Assign1",
          "Assign2",
          "Assign3",
          "Assign4"
         ]
        },
        {
         "marker": {
          "line": {
           "width": 2
          },
          "size": [
           1,
           0,
           0,
           1
          ],
          "sizemode": "area",
          "sizeref": 0.01,
          "symbol": "circle"
         },
         "mode": "markers",
         "name": "Student_13",
         "text": [
          "1",
          "0",
          "0",
          "1"
         ],
         "type": "scatter",
         "uid": "a7a3a608-e1c6-11e8-81b5-2d0a4fadc81a",
         "x": [
          "Student_13",
          "Student_13",
          "Student_13",
          "Student_13",
          "Student_13"
         ],
         "y": [
          "Assign1",
          "Assign2",
          "Assign3",
          "Assign4"
         ]
        },
        {
         "marker": {
          "line": {
           "width": 2
          },
          "size": [
           0,
           1,
           1,
           0
          ],
          "sizemode": "area",
          "sizeref": 0.01,
          "symbol": "circle"
         },
         "mode": "markers",
         "name": "Student_14",
         "text": [
          "0",
          "1",
          "1",
          "0"
         ],
         "type": "scatter",
         "uid": "a7a3a68a-e1c6-11e8-81b5-2d0a4fadc81a",
         "x": [
          "Student_14",
          "Student_14",
          "Student_14",
          "Student_14",
          "Student_14"
         ],
         "y": [
          "Assign1",
          "Assign2",
          "Assign3",
          "Assign4"
         ]
        },
        {
         "marker": {
          "line": {
           "width": 2
          },
          "size": [
           1,
           0,
           1,
           0
          ],
          "sizemode": "area",
          "sizeref": 0.01,
          "symbol": "circle"
         },
         "mode": "markers",
         "name": "Student_15",
         "text": [
          "1",
          "0",
          "1",
          "0"
         ],
         "type": "scatter",
         "uid": "a7a3a70c-e1c6-11e8-81b5-2d0a4fadc81a",
         "x": [
          "Student_15",
          "Student_15",
          "Student_15",
          "Student_15",
          "Student_15"
         ],
         "y": [
          "Assign1",
          "Assign2",
          "Assign3",
          "Assign4"
         ]
        },
        {
         "marker": {
          "line": {
           "width": 2
          },
          "size": [
           1,
           1,
           1,
           1
          ],
          "sizemode": "area",
          "sizeref": 0.01,
          "symbol": "circle"
         },
         "mode": "markers",
         "name": "Student_16",
         "text": [
          "1",
          "1",
          "1",
          "1"
         ],
         "type": "scatter",
         "uid": "a7a3a798-e1c6-11e8-81b5-2d0a4fadc81a",
         "x": [
          "Student_16",
          "Student_16",
          "Student_16",
          "Student_16",
          "Student_16"
         ],
         "y": [
          "Assign1",
          "Assign2",
          "Assign3",
          "Assign4"
         ]
        },
        {
         "marker": {
          "line": {
           "width": 2
          },
          "size": [
           1,
           1,
           0,
           0
          ],
          "sizemode": "area",
          "sizeref": 0.01,
          "symbol": "circle"
         },
         "mode": "markers",
         "name": "Student_17",
         "text": [
          "1",
          "1",
          "0",
          "0"
         ],
         "type": "scatter",
         "uid": "a7a3a81a-e1c6-11e8-81b5-2d0a4fadc81a",
         "x": [
          "Student_17",
          "Student_17",
          "Student_17",
          "Student_17",
          "Student_17"
         ],
         "y": [
          "Assign1",
          "Assign2",
          "Assign3",
          "Assign4"
         ]
        },
        {
         "marker": {
          "line": {
           "width": 2
          },
          "size": [
           1,
           0,
           0,
           1
          ],
          "sizemode": "area",
          "sizeref": 0.01,
          "symbol": "circle"
         },
         "mode": "markers",
         "name": "Student_18",
         "text": [
          "1",
          "0",
          "0",
          "1"
         ],
         "type": "scatter",
         "uid": "a7a3a89c-e1c6-11e8-81b5-2d0a4fadc81a",
         "x": [
          "Student_18",
          "Student_18",
          "Student_18",
          "Student_18",
          "Student_18"
         ],
         "y": [
          "Assign1",
          "Assign2",
          "Assign3",
          "Assign4"
         ]
        },
        {
         "marker": {
          "line": {
           "width": 2
          },
          "size": [
           0,
           1,
           1,
           1
          ],
          "sizemode": "area",
          "sizeref": 0.01,
          "symbol": "circle"
         },
         "mode": "markers",
         "name": "Student_19",
         "text": [
          "0",
          "1",
          "1",
          "1"
         ],
         "type": "scatter",
         "uid": "a7a3a91e-e1c6-11e8-81b5-2d0a4fadc81a",
         "x": [
          "Student_19",
          "Student_19",
          "Student_19",
          "Student_19",
          "Student_19"
         ],
         "y": [
          "Assign1",
          "Assign2",
          "Assign3",
          "Assign4"
         ]
        },
        {
         "marker": {
          "line": {
           "width": 2
          },
          "size": [
           1,
           0,
           1,
           1
          ],
          "sizemode": "area",
          "sizeref": 0.01,
          "symbol": "circle"
         },
         "mode": "markers",
         "name": "Student_20",
         "text": [
          "1",
          "0",
          "1",
          "1"
         ],
         "type": "scatter",
         "uid": "a7a3a996-e1c6-11e8-81b5-2d0a4fadc81a",
         "x": [
          "Student_20",
          "Student_20",
          "Student_20",
          "Student_20",
          "Student_20"
         ],
         "y": [
          "Assign1",
          "Assign2",
          "Assign3",
          "Assign4"
         ]
        }
       ],
       "layout": {
        "hovermode": "closest",
        "showlegend": true,
        "title": "Atividades feitas por estudante",
        "xaxis": {
         "autorange": false,
         "categoryorder": "category ascending",
         "fixedrange": false,
         "range": [
          -1,
          20
         ],
         "rangemode": "normal",
         "showline": true,
         "title": "Estudantes",
         "type": "category"
        },
        "yaxis": {
         "autorange": false,
         "categoryorder": "category ascending",
         "fixedrange": false,
         "range": [
          -1,
          4
         ],
         "rangemode": "normal",
         "showline": true,
         "title": "Atividades",
         "type": "category"
        }
       }
      },
      "text/html": [
       "<div id=\"a866c617-6f47-45db-aabf-0be90fb705dd\" style=\"height: 525px; width: 100%;\" class=\"plotly-graph-div\"></div><script type=\"text/javascript\">require([\"plotly\"], function(Plotly) { window.PLOTLYENV=window.PLOTLYENV || {};window.PLOTLYENV.BASE_URL=\"https://plot.ly\";Plotly.newPlot(\"a866c617-6f47-45db-aabf-0be90fb705dd\", [{\"marker\": {\"line\": {\"width\": 2}, \"size\": [0, 1, 1, 0], \"sizemode\": \"area\", \"sizeref\": 0.01, \"symbol\": \"circle\"}, \"mode\": \"markers\", \"name\": \"Student_1\", \"text\": [\"0\", \"1\", \"1\", \"0\"], \"x\": [\"Student_1\", \"Student_1\", \"Student_1\", \"Student_1\", \"Student_1\"], \"y\": [\"Assign1\", \"Assign2\", \"Assign3\", \"Assign4\"], \"type\": \"scatter\", \"uid\": \"a7a39e10-e1c6-11e8-81b5-2d0a4fadc81a\"}, {\"marker\": {\"line\": {\"width\": 2}, \"size\": [0, 0, 0, 1], \"sizemode\": \"area\", \"sizeref\": 0.01, \"symbol\": \"circle\"}, \"mode\": \"markers\", \"name\": \"Student_2\", \"text\": [\"0\", \"0\", \"0\", \"1\"], \"x\": [\"Student_2\", \"Student_2\", \"Student_2\", \"Student_2\", \"Student_2\"], \"y\": [\"Assign1\", \"Assign2\", \"Assign3\", \"Assign4\"], \"type\": \"scatter\", \"uid\": \"a7a39fa0-e1c6-11e8-81b5-2d0a4fadc81a\"}, {\"marker\": {\"line\": {\"width\": 2}, \"size\": [1, 0, 0, 1], \"sizemode\": \"area\", \"sizeref\": 0.01, \"symbol\": \"circle\"}, \"mode\": \"markers\", \"name\": \"Student_3\", \"text\": [\"1\", \"0\", \"0\", \"1\"], \"x\": [\"Student_3\", \"Student_3\", \"Student_3\", \"Student_3\", \"Student_3\"], \"y\": [\"Assign1\", \"Assign2\", \"Assign3\", \"Assign4\"], \"type\": \"scatter\", \"uid\": \"a7a3a068-e1c6-11e8-81b5-2d0a4fadc81a\"}, {\"marker\": {\"line\": {\"width\": 2}, \"size\": [1, 1, 1, 0], \"sizemode\": \"area\", \"sizeref\": 0.01, \"symbol\": \"circle\"}, \"mode\": \"markers\", \"name\": \"Student_4\", \"text\": [\"1\", \"1\", \"1\", \"0\"], \"x\": [\"Student_4\", \"Student_4\", \"Student_4\", \"Student_4\", \"Student_4\"], \"y\": [\"Assign1\", \"Assign2\", \"Assign3\", \"Assign4\"], \"type\": \"scatter\", \"uid\": \"a7a3a112-e1c6-11e8-81b5-2d0a4fadc81a\"}, {\"marker\": {\"line\": {\"width\": 2}, \"size\": [0, 1, 0, 0], \"sizemode\": \"area\", \"sizeref\": 0.01, \"symbol\": \"circle\"}, \"mode\": \"markers\", \"name\": \"Student_5\", \"text\": [\"0\", \"1\", \"0\", \"0\"], \"x\": [\"Student_5\", \"Student_5\", \"Student_5\", \"Student_5\", \"Student_5\"], \"y\": [\"Assign1\", \"Assign2\", \"Assign3\", \"Assign4\"], \"type\": \"scatter\", \"uid\": \"a7a3a1a8-e1c6-11e8-81b5-2d0a4fadc81a\"}, {\"marker\": {\"line\": {\"width\": 2}, \"size\": [1, 1, 1, 1], \"sizemode\": \"area\", \"sizeref\": 0.01, \"symbol\": \"circle\"}, \"mode\": \"markers\", \"name\": \"Student_6\", \"text\": [\"1\", \"1\", \"1\", \"1\"], \"x\": [\"Student_6\", \"Student_6\", \"Student_6\", \"Student_6\", \"Student_6\"], \"y\": [\"Assign1\", \"Assign2\", \"Assign3\", \"Assign4\"], \"type\": \"scatter\", \"uid\": \"a7a3a234-e1c6-11e8-81b5-2d0a4fadc81a\"}, {\"marker\": {\"line\": {\"width\": 2}, \"size\": [1, 1, 1, 1], \"sizemode\": \"area\", \"sizeref\": 0.01, \"symbol\": \"circle\"}, \"mode\": \"markers\", \"name\": \"Student_7\", \"text\": [\"1\", \"1\", \"1\", \"1\"], \"x\": [\"Student_7\", \"Student_7\", \"Student_7\", \"Student_7\", \"Student_7\"], \"y\": [\"Assign1\", \"Assign2\", \"Assign3\", \"Assign4\"], \"type\": \"scatter\", \"uid\": \"a7a3a2c0-e1c6-11e8-81b5-2d0a4fadc81a\"}, {\"marker\": {\"line\": {\"width\": 2}, \"size\": [0, 0, 0, 0], \"sizemode\": \"area\", \"sizeref\": 0.01, \"symbol\": \"circle\"}, \"mode\": \"markers\", \"name\": \"Student_8\", \"text\": [\"0\", \"0\", \"0\", \"0\"], \"x\": [\"Student_8\", \"Student_8\", \"Student_8\", \"Student_8\", \"Student_8\"], \"y\": [\"Assign1\", \"Assign2\", \"Assign3\", \"Assign4\"], \"type\": \"scatter\", \"uid\": \"a7a3a34c-e1c6-11e8-81b5-2d0a4fadc81a\"}, {\"marker\": {\"line\": {\"width\": 2}, \"size\": [1, 1, 1, 1], \"sizemode\": \"area\", \"sizeref\": 0.01, \"symbol\": \"circle\"}, \"mode\": \"markers\", \"name\": \"Student_9\", \"text\": [\"1\", \"1\", \"1\", \"1\"], \"x\": [\"Student_9\", \"Student_9\", \"Student_9\", \"Student_9\", \"Student_9\"], \"y\": [\"Assign1\", \"Assign2\", \"Assign3\", \"Assign4\"], \"type\": \"scatter\", \"uid\": \"a7a3a3e2-e1c6-11e8-81b5-2d0a4fadc81a\"}, {\"marker\": {\"line\": {\"width\": 2}, \"size\": [0, 0, 1, 1], \"sizemode\": \"area\", \"sizeref\": 0.01, \"symbol\": \"circle\"}, \"mode\": \"markers\", \"name\": \"Student_10\", \"text\": [\"0\", \"0\", \"1\", \"1\"], \"x\": [\"Student_10\", \"Student_10\", \"Student_10\", \"Student_10\", \"Student_10\"], \"y\": [\"Assign1\", \"Assign2\", \"Assign3\", \"Assign4\"], \"type\": \"scatter\", \"uid\": \"a7a3a464-e1c6-11e8-81b5-2d0a4fadc81a\"}, {\"marker\": {\"line\": {\"width\": 2}, \"size\": [0, 1, 1, 0], \"sizemode\": \"area\", \"sizeref\": 0.01, \"symbol\": \"circle\"}, \"mode\": \"markers\", \"name\": \"Student_11\", \"text\": [\"0\", \"1\", \"1\", \"0\"], \"x\": [\"Student_11\", \"Student_11\", \"Student_11\", \"Student_11\", \"Student_11\"], \"y\": [\"Assign1\", \"Assign2\", \"Assign3\", \"Assign4\"], \"type\": \"scatter\", \"uid\": \"a7a3a4f0-e1c6-11e8-81b5-2d0a4fadc81a\"}, {\"marker\": {\"line\": {\"width\": 2}, \"size\": [1, 0, 0, 0], \"sizemode\": \"area\", \"sizeref\": 0.01, \"symbol\": \"circle\"}, \"mode\": \"markers\", \"name\": \"Student_12\", \"text\": [\"1\", \"0\", \"0\", \"0\"], \"x\": [\"Student_12\", \"Student_12\", \"Student_12\", \"Student_12\", \"Student_12\"], \"y\": [\"Assign1\", \"Assign2\", \"Assign3\", \"Assign4\"], \"type\": \"scatter\", \"uid\": \"a7a3a572-e1c6-11e8-81b5-2d0a4fadc81a\"}, {\"marker\": {\"line\": {\"width\": 2}, \"size\": [1, 0, 0, 1], \"sizemode\": \"area\", \"sizeref\": 0.01, \"symbol\": \"circle\"}, \"mode\": \"markers\", \"name\": \"Student_13\", \"text\": [\"1\", \"0\", \"0\", \"1\"], \"x\": [\"Student_13\", \"Student_13\", \"Student_13\", \"Student_13\", \"Student_13\"], \"y\": [\"Assign1\", \"Assign2\", \"Assign3\", \"Assign4\"], \"type\": \"scatter\", \"uid\": \"a7a3a608-e1c6-11e8-81b5-2d0a4fadc81a\"}, {\"marker\": {\"line\": {\"width\": 2}, \"size\": [0, 1, 1, 0], \"sizemode\": \"area\", \"sizeref\": 0.01, \"symbol\": \"circle\"}, \"mode\": \"markers\", \"name\": \"Student_14\", \"text\": [\"0\", \"1\", \"1\", \"0\"], \"x\": [\"Student_14\", \"Student_14\", \"Student_14\", \"Student_14\", \"Student_14\"], \"y\": [\"Assign1\", \"Assign2\", \"Assign3\", \"Assign4\"], \"type\": \"scatter\", \"uid\": \"a7a3a68a-e1c6-11e8-81b5-2d0a4fadc81a\"}, {\"marker\": {\"line\": {\"width\": 2}, \"size\": [1, 0, 1, 0], \"sizemode\": \"area\", \"sizeref\": 0.01, \"symbol\": \"circle\"}, \"mode\": \"markers\", \"name\": \"Student_15\", \"text\": [\"1\", \"0\", \"1\", \"0\"], \"x\": [\"Student_15\", \"Student_15\", \"Student_15\", \"Student_15\", \"Student_15\"], \"y\": [\"Assign1\", \"Assign2\", \"Assign3\", \"Assign4\"], \"type\": \"scatter\", \"uid\": \"a7a3a70c-e1c6-11e8-81b5-2d0a4fadc81a\"}, {\"marker\": {\"line\": {\"width\": 2}, \"size\": [1, 1, 1, 1], \"sizemode\": \"area\", \"sizeref\": 0.01, \"symbol\": \"circle\"}, \"mode\": \"markers\", \"name\": \"Student_16\", \"text\": [\"1\", \"1\", \"1\", \"1\"], \"x\": [\"Student_16\", \"Student_16\", \"Student_16\", \"Student_16\", \"Student_16\"], \"y\": [\"Assign1\", \"Assign2\", \"Assign3\", \"Assign4\"], \"type\": \"scatter\", \"uid\": \"a7a3a798-e1c6-11e8-81b5-2d0a4fadc81a\"}, {\"marker\": {\"line\": {\"width\": 2}, \"size\": [1, 1, 0, 0], \"sizemode\": \"area\", \"sizeref\": 0.01, \"symbol\": \"circle\"}, \"mode\": \"markers\", \"name\": \"Student_17\", \"text\": [\"1\", \"1\", \"0\", \"0\"], \"x\": [\"Student_17\", \"Student_17\", \"Student_17\", \"Student_17\", \"Student_17\"], \"y\": [\"Assign1\", \"Assign2\", \"Assign3\", \"Assign4\"], \"type\": \"scatter\", \"uid\": \"a7a3a81a-e1c6-11e8-81b5-2d0a4fadc81a\"}, {\"marker\": {\"line\": {\"width\": 2}, \"size\": [1, 0, 0, 1], \"sizemode\": \"area\", \"sizeref\": 0.01, \"symbol\": \"circle\"}, \"mode\": \"markers\", \"name\": \"Student_18\", \"text\": [\"1\", \"0\", \"0\", \"1\"], \"x\": [\"Student_18\", \"Student_18\", \"Student_18\", \"Student_18\", \"Student_18\"], \"y\": [\"Assign1\", \"Assign2\", \"Assign3\", \"Assign4\"], \"type\": \"scatter\", \"uid\": \"a7a3a89c-e1c6-11e8-81b5-2d0a4fadc81a\"}, {\"marker\": {\"line\": {\"width\": 2}, \"size\": [0, 1, 1, 1], \"sizemode\": \"area\", \"sizeref\": 0.01, \"symbol\": \"circle\"}, \"mode\": \"markers\", \"name\": \"Student_19\", \"text\": [\"0\", \"1\", \"1\", \"1\"], \"x\": [\"Student_19\", \"Student_19\", \"Student_19\", \"Student_19\", \"Student_19\"], \"y\": [\"Assign1\", \"Assign2\", \"Assign3\", \"Assign4\"], \"type\": \"scatter\", \"uid\": \"a7a3a91e-e1c6-11e8-81b5-2d0a4fadc81a\"}, {\"marker\": {\"line\": {\"width\": 2}, \"size\": [1, 0, 1, 1], \"sizemode\": \"area\", \"sizeref\": 0.01, \"symbol\": \"circle\"}, \"mode\": \"markers\", \"name\": \"Student_20\", \"text\": [\"1\", \"0\", \"1\", \"1\"], \"x\": [\"Student_20\", \"Student_20\", \"Student_20\", \"Student_20\", \"Student_20\"], \"y\": [\"Assign1\", \"Assign2\", \"Assign3\", \"Assign4\"], \"type\": \"scatter\", \"uid\": \"a7a3a996-e1c6-11e8-81b5-2d0a4fadc81a\"}], {\"hovermode\": \"closest\", \"showlegend\": true, \"title\": \"Atividades feitas por estudante\", \"xaxis\": {\"autorange\": false, \"categoryorder\": \"category ascending\", \"fixedrange\": false, \"range\": [-1, 20], \"rangemode\": \"normal\", \"showline\": true, \"title\": \"Estudantes\", \"type\": \"category\"}, \"yaxis\": {\"autorange\": false, \"categoryorder\": \"category ascending\", \"fixedrange\": false, \"range\": [-1, 4], \"rangemode\": \"normal\", \"showline\": true, \"title\": \"Atividades\", \"type\": \"category\"}}, {\"showLink\": true, \"linkText\": \"Export to plot.ly\"})});</script>"
      ],
      "text/vnd.plotly.v1+html": [
       "<div id=\"a866c617-6f47-45db-aabf-0be90fb705dd\" style=\"height: 525px; width: 100%;\" class=\"plotly-graph-div\"></div><script type=\"text/javascript\">require([\"plotly\"], function(Plotly) { window.PLOTLYENV=window.PLOTLYENV || {};window.PLOTLYENV.BASE_URL=\"https://plot.ly\";Plotly.newPlot(\"a866c617-6f47-45db-aabf-0be90fb705dd\", [{\"marker\": {\"line\": {\"width\": 2}, \"size\": [0, 1, 1, 0], \"sizemode\": \"area\", \"sizeref\": 0.01, \"symbol\": \"circle\"}, \"mode\": \"markers\", \"name\": \"Student_1\", \"text\": [\"0\", \"1\", \"1\", \"0\"], \"x\": [\"Student_1\", \"Student_1\", \"Student_1\", \"Student_1\", \"Student_1\"], \"y\": [\"Assign1\", \"Assign2\", \"Assign3\", \"Assign4\"], \"type\": \"scatter\", \"uid\": \"a7a39e10-e1c6-11e8-81b5-2d0a4fadc81a\"}, {\"marker\": {\"line\": {\"width\": 2}, \"size\": [0, 0, 0, 1], \"sizemode\": \"area\", \"sizeref\": 0.01, \"symbol\": \"circle\"}, \"mode\": \"markers\", \"name\": \"Student_2\", \"text\": [\"0\", \"0\", \"0\", \"1\"], \"x\": [\"Student_2\", \"Student_2\", \"Student_2\", \"Student_2\", \"Student_2\"], \"y\": [\"Assign1\", \"Assign2\", \"Assign3\", \"Assign4\"], \"type\": \"scatter\", \"uid\": \"a7a39fa0-e1c6-11e8-81b5-2d0a4fadc81a\"}, {\"marker\": {\"line\": {\"width\": 2}, \"size\": [1, 0, 0, 1], \"sizemode\": \"area\", \"sizeref\": 0.01, \"symbol\": \"circle\"}, \"mode\": \"markers\", \"name\": \"Student_3\", \"text\": [\"1\", \"0\", \"0\", \"1\"], \"x\": [\"Student_3\", \"Student_3\", \"Student_3\", \"Student_3\", \"Student_3\"], \"y\": [\"Assign1\", \"Assign2\", \"Assign3\", \"Assign4\"], \"type\": \"scatter\", \"uid\": \"a7a3a068-e1c6-11e8-81b5-2d0a4fadc81a\"}, {\"marker\": {\"line\": {\"width\": 2}, \"size\": [1, 1, 1, 0], \"sizemode\": \"area\", \"sizeref\": 0.01, \"symbol\": \"circle\"}, \"mode\": \"markers\", \"name\": \"Student_4\", \"text\": [\"1\", \"1\", \"1\", \"0\"], \"x\": [\"Student_4\", \"Student_4\", \"Student_4\", \"Student_4\", \"Student_4\"], \"y\": [\"Assign1\", \"Assign2\", \"Assign3\", \"Assign4\"], \"type\": \"scatter\", \"uid\": \"a7a3a112-e1c6-11e8-81b5-2d0a4fadc81a\"}, {\"marker\": {\"line\": {\"width\": 2}, \"size\": [0, 1, 0, 0], \"sizemode\": \"area\", \"sizeref\": 0.01, \"symbol\": \"circle\"}, \"mode\": \"markers\", \"name\": \"Student_5\", \"text\": [\"0\", \"1\", \"0\", \"0\"], \"x\": [\"Student_5\", \"Student_5\", \"Student_5\", \"Student_5\", \"Student_5\"], \"y\": [\"Assign1\", \"Assign2\", \"Assign3\", \"Assign4\"], \"type\": \"scatter\", \"uid\": \"a7a3a1a8-e1c6-11e8-81b5-2d0a4fadc81a\"}, {\"marker\": {\"line\": {\"width\": 2}, \"size\": [1, 1, 1, 1], \"sizemode\": \"area\", \"sizeref\": 0.01, \"symbol\": \"circle\"}, \"mode\": \"markers\", \"name\": \"Student_6\", \"text\": [\"1\", \"1\", \"1\", \"1\"], \"x\": [\"Student_6\", \"Student_6\", \"Student_6\", \"Student_6\", \"Student_6\"], \"y\": [\"Assign1\", \"Assign2\", \"Assign3\", \"Assign4\"], \"type\": \"scatter\", \"uid\": \"a7a3a234-e1c6-11e8-81b5-2d0a4fadc81a\"}, {\"marker\": {\"line\": {\"width\": 2}, \"size\": [1, 1, 1, 1], \"sizemode\": \"area\", \"sizeref\": 0.01, \"symbol\": \"circle\"}, \"mode\": \"markers\", \"name\": \"Student_7\", \"text\": [\"1\", \"1\", \"1\", \"1\"], \"x\": [\"Student_7\", \"Student_7\", \"Student_7\", \"Student_7\", \"Student_7\"], \"y\": [\"Assign1\", \"Assign2\", \"Assign3\", \"Assign4\"], \"type\": \"scatter\", \"uid\": \"a7a3a2c0-e1c6-11e8-81b5-2d0a4fadc81a\"}, {\"marker\": {\"line\": {\"width\": 2}, \"size\": [0, 0, 0, 0], \"sizemode\": \"area\", \"sizeref\": 0.01, \"symbol\": \"circle\"}, \"mode\": \"markers\", \"name\": \"Student_8\", \"text\": [\"0\", \"0\", \"0\", \"0\"], \"x\": [\"Student_8\", \"Student_8\", \"Student_8\", \"Student_8\", \"Student_8\"], \"y\": [\"Assign1\", \"Assign2\", \"Assign3\", \"Assign4\"], \"type\": \"scatter\", \"uid\": \"a7a3a34c-e1c6-11e8-81b5-2d0a4fadc81a\"}, {\"marker\": {\"line\": {\"width\": 2}, \"size\": [1, 1, 1, 1], \"sizemode\": \"area\", \"sizeref\": 0.01, \"symbol\": \"circle\"}, \"mode\": \"markers\", \"name\": \"Student_9\", \"text\": [\"1\", \"1\", \"1\", \"1\"], \"x\": [\"Student_9\", \"Student_9\", \"Student_9\", \"Student_9\", \"Student_9\"], \"y\": [\"Assign1\", \"Assign2\", \"Assign3\", \"Assign4\"], \"type\": \"scatter\", \"uid\": \"a7a3a3e2-e1c6-11e8-81b5-2d0a4fadc81a\"}, {\"marker\": {\"line\": {\"width\": 2}, \"size\": [0, 0, 1, 1], \"sizemode\": \"area\", \"sizeref\": 0.01, \"symbol\": \"circle\"}, \"mode\": \"markers\", \"name\": \"Student_10\", \"text\": [\"0\", \"0\", \"1\", \"1\"], \"x\": [\"Student_10\", \"Student_10\", \"Student_10\", \"Student_10\", \"Student_10\"], \"y\": [\"Assign1\", \"Assign2\", \"Assign3\", \"Assign4\"], \"type\": \"scatter\", \"uid\": \"a7a3a464-e1c6-11e8-81b5-2d0a4fadc81a\"}, {\"marker\": {\"line\": {\"width\": 2}, \"size\": [0, 1, 1, 0], \"sizemode\": \"area\", \"sizeref\": 0.01, \"symbol\": \"circle\"}, \"mode\": \"markers\", \"name\": \"Student_11\", \"text\": [\"0\", \"1\", \"1\", \"0\"], \"x\": [\"Student_11\", \"Student_11\", \"Student_11\", \"Student_11\", \"Student_11\"], \"y\": [\"Assign1\", \"Assign2\", \"Assign3\", \"Assign4\"], \"type\": \"scatter\", \"uid\": \"a7a3a4f0-e1c6-11e8-81b5-2d0a4fadc81a\"}, {\"marker\": {\"line\": {\"width\": 2}, \"size\": [1, 0, 0, 0], \"sizemode\": \"area\", \"sizeref\": 0.01, \"symbol\": \"circle\"}, \"mode\": \"markers\", \"name\": \"Student_12\", \"text\": [\"1\", \"0\", \"0\", \"0\"], \"x\": [\"Student_12\", \"Student_12\", \"Student_12\", \"Student_12\", \"Student_12\"], \"y\": [\"Assign1\", \"Assign2\", \"Assign3\", \"Assign4\"], \"type\": \"scatter\", \"uid\": \"a7a3a572-e1c6-11e8-81b5-2d0a4fadc81a\"}, {\"marker\": {\"line\": {\"width\": 2}, \"size\": [1, 0, 0, 1], \"sizemode\": \"area\", \"sizeref\": 0.01, \"symbol\": \"circle\"}, \"mode\": \"markers\", \"name\": \"Student_13\", \"text\": [\"1\", \"0\", \"0\", \"1\"], \"x\": [\"Student_13\", \"Student_13\", \"Student_13\", \"Student_13\", \"Student_13\"], \"y\": [\"Assign1\", \"Assign2\", \"Assign3\", \"Assign4\"], \"type\": \"scatter\", \"uid\": \"a7a3a608-e1c6-11e8-81b5-2d0a4fadc81a\"}, {\"marker\": {\"line\": {\"width\": 2}, \"size\": [0, 1, 1, 0], \"sizemode\": \"area\", \"sizeref\": 0.01, \"symbol\": \"circle\"}, \"mode\": \"markers\", \"name\": \"Student_14\", \"text\": [\"0\", \"1\", \"1\", \"0\"], \"x\": [\"Student_14\", \"Student_14\", \"Student_14\", \"Student_14\", \"Student_14\"], \"y\": [\"Assign1\", \"Assign2\", \"Assign3\", \"Assign4\"], \"type\": \"scatter\", \"uid\": \"a7a3a68a-e1c6-11e8-81b5-2d0a4fadc81a\"}, {\"marker\": {\"line\": {\"width\": 2}, \"size\": [1, 0, 1, 0], \"sizemode\": \"area\", \"sizeref\": 0.01, \"symbol\": \"circle\"}, \"mode\": \"markers\", \"name\": \"Student_15\", \"text\": [\"1\", \"0\", \"1\", \"0\"], \"x\": [\"Student_15\", \"Student_15\", \"Student_15\", \"Student_15\", \"Student_15\"], \"y\": [\"Assign1\", \"Assign2\", \"Assign3\", \"Assign4\"], \"type\": \"scatter\", \"uid\": \"a7a3a70c-e1c6-11e8-81b5-2d0a4fadc81a\"}, {\"marker\": {\"line\": {\"width\": 2}, \"size\": [1, 1, 1, 1], \"sizemode\": \"area\", \"sizeref\": 0.01, \"symbol\": \"circle\"}, \"mode\": \"markers\", \"name\": \"Student_16\", \"text\": [\"1\", \"1\", \"1\", \"1\"], \"x\": [\"Student_16\", \"Student_16\", \"Student_16\", \"Student_16\", \"Student_16\"], \"y\": [\"Assign1\", \"Assign2\", \"Assign3\", \"Assign4\"], \"type\": \"scatter\", \"uid\": \"a7a3a798-e1c6-11e8-81b5-2d0a4fadc81a\"}, {\"marker\": {\"line\": {\"width\": 2}, \"size\": [1, 1, 0, 0], \"sizemode\": \"area\", \"sizeref\": 0.01, \"symbol\": \"circle\"}, \"mode\": \"markers\", \"name\": \"Student_17\", \"text\": [\"1\", \"1\", \"0\", \"0\"], \"x\": [\"Student_17\", \"Student_17\", \"Student_17\", \"Student_17\", \"Student_17\"], \"y\": [\"Assign1\", \"Assign2\", \"Assign3\", \"Assign4\"], \"type\": \"scatter\", \"uid\": \"a7a3a81a-e1c6-11e8-81b5-2d0a4fadc81a\"}, {\"marker\": {\"line\": {\"width\": 2}, \"size\": [1, 0, 0, 1], \"sizemode\": \"area\", \"sizeref\": 0.01, \"symbol\": \"circle\"}, \"mode\": \"markers\", \"name\": \"Student_18\", \"text\": [\"1\", \"0\", \"0\", \"1\"], \"x\": [\"Student_18\", \"Student_18\", \"Student_18\", \"Student_18\", \"Student_18\"], \"y\": [\"Assign1\", \"Assign2\", \"Assign3\", \"Assign4\"], \"type\": \"scatter\", \"uid\": \"a7a3a89c-e1c6-11e8-81b5-2d0a4fadc81a\"}, {\"marker\": {\"line\": {\"width\": 2}, \"size\": [0, 1, 1, 1], \"sizemode\": \"area\", \"sizeref\": 0.01, \"symbol\": \"circle\"}, \"mode\": \"markers\", \"name\": \"Student_19\", \"text\": [\"0\", \"1\", \"1\", \"1\"], \"x\": [\"Student_19\", \"Student_19\", \"Student_19\", \"Student_19\", \"Student_19\"], \"y\": [\"Assign1\", \"Assign2\", \"Assign3\", \"Assign4\"], \"type\": \"scatter\", \"uid\": \"a7a3a91e-e1c6-11e8-81b5-2d0a4fadc81a\"}, {\"marker\": {\"line\": {\"width\": 2}, \"size\": [1, 0, 1, 1], \"sizemode\": \"area\", \"sizeref\": 0.01, \"symbol\": \"circle\"}, \"mode\": \"markers\", \"name\": \"Student_20\", \"text\": [\"1\", \"0\", \"1\", \"1\"], \"x\": [\"Student_20\", \"Student_20\", \"Student_20\", \"Student_20\", \"Student_20\"], \"y\": [\"Assign1\", \"Assign2\", \"Assign3\", \"Assign4\"], \"type\": \"scatter\", \"uid\": \"a7a3a996-e1c6-11e8-81b5-2d0a4fadc81a\"}], {\"hovermode\": \"closest\", \"showlegend\": true, \"title\": \"Atividades feitas por estudante\", \"xaxis\": {\"autorange\": false, \"categoryorder\": \"category ascending\", \"fixedrange\": false, \"range\": [-1, 20], \"rangemode\": \"normal\", \"showline\": true, \"title\": \"Estudantes\", \"type\": \"category\"}, \"yaxis\": {\"autorange\": false, \"categoryorder\": \"category ascending\", \"fixedrange\": false, \"range\": [-1, 4], \"rangemode\": \"normal\", \"showline\": true, \"title\": \"Atividades\", \"type\": \"category\"}}, {\"showLink\": true, \"linkText\": \"Export to plot.ly\"})});</script>"
      ]
     },
     "metadata": {},
     "output_type": "display_data"
    },
    {
     "data": {
      "application/vnd.plotly.v1+json": {
       "data": [
        {
         "colorscale": [
          [
           0,
           "rgb(255,255,255)"
          ],
          [
           1,
           "rgb(0,0,255)"
          ]
         ],
         "type": "heatmap",
         "uid": "a7a849c4-e1c6-11e8-81b5-2d0a4fadc81a",
         "x": [
          "Assign1",
          "Assign2",
          "Assign3",
          "Assign4"
         ],
         "y": [
          "Student_1",
          "Student_2",
          "Student_3",
          "Student_4",
          "Student_5",
          "Student_6",
          "Student_7",
          "Student_8",
          "Student_9",
          "Student_10",
          "Student_11",
          "Student_12",
          "Student_13",
          "Student_14",
          "Student_15",
          "Student_16",
          "Student_17",
          "Student_18",
          "Student_19",
          "Student_20"
         ],
         "z": [
          [
           0,
           1,
           1,
           0
          ],
          [
           0,
           0,
           0,
           1
          ],
          [
           1,
           0,
           0,
           1
          ],
          [
           1,
           1,
           1,
           0
          ],
          [
           0,
           1,
           0,
           0
          ],
          [
           1,
           1,
           1,
           1
          ],
          [
           1,
           1,
           1,
           1
          ],
          [
           0,
           0,
           0,
           0
          ],
          [
           1,
           1,
           1,
           1
          ],
          [
           0,
           0,
           1,
           1
          ],
          [
           0,
           1,
           1,
           0
          ],
          [
           1,
           0,
           0,
           0
          ],
          [
           1,
           0,
           0,
           1
          ],
          [
           0,
           1,
           1,
           0
          ],
          [
           1,
           0,
           1,
           0
          ],
          [
           1,
           1,
           1,
           1
          ],
          [
           1,
           1,
           0,
           0
          ],
          [
           1,
           0,
           0,
           1
          ],
          [
           0,
           1,
           1,
           1
          ],
          [
           1,
           0,
           1,
           1
          ]
         ]
        }
       ],
       "layout": {
        "title": "Atividades feitas por estudante",
        "yaxis": {
         "dtick": 1,
         "exponentformat": "e",
         "gridcolor": "#bdbdbd",
         "showexponent": "all",
         "showticklabels": true,
         "tick0": 0,
         "titlefont": {
          "color": "lightgrey",
          "family": "Arial, sans-serif"
         }
        }
       }
      },
      "text/html": [
       "<div id=\"add9f12c-288f-4ccd-9a6e-7f484d5d2d0b\" style=\"height: 525px; width: 100%;\" class=\"plotly-graph-div\"></div><script type=\"text/javascript\">require([\"plotly\"], function(Plotly) { window.PLOTLYENV=window.PLOTLYENV || {};window.PLOTLYENV.BASE_URL=\"https://plot.ly\";Plotly.newPlot(\"add9f12c-288f-4ccd-9a6e-7f484d5d2d0b\", [{\"colorscale\": [[0, \"rgb(255,255,255)\"], [1, \"rgb(0,0,255)\"]], \"x\": [\"Assign1\", \"Assign2\", \"Assign3\", \"Assign4\"], \"y\": [\"Student_1\", \"Student_2\", \"Student_3\", \"Student_4\", \"Student_5\", \"Student_6\", \"Student_7\", \"Student_8\", \"Student_9\", \"Student_10\", \"Student_11\", \"Student_12\", \"Student_13\", \"Student_14\", \"Student_15\", \"Student_16\", \"Student_17\", \"Student_18\", \"Student_19\", \"Student_20\"], \"z\": [[0, 1, 1, 0], [0, 0, 0, 1], [1, 0, 0, 1], [1, 1, 1, 0], [0, 1, 0, 0], [1, 1, 1, 1], [1, 1, 1, 1], [0, 0, 0, 0], [1, 1, 1, 1], [0, 0, 1, 1], [0, 1, 1, 0], [1, 0, 0, 0], [1, 0, 0, 1], [0, 1, 1, 0], [1, 0, 1, 0], [1, 1, 1, 1], [1, 1, 0, 0], [1, 0, 0, 1], [0, 1, 1, 1], [1, 0, 1, 1]], \"type\": \"heatmap\", \"uid\": \"a7a849c4-e1c6-11e8-81b5-2d0a4fadc81a\"}], {\"title\": \"Atividades feitas por estudante\", \"yaxis\": {\"dtick\": 1, \"exponentformat\": \"e\", \"gridcolor\": \"#bdbdbd\", \"showexponent\": \"all\", \"showticklabels\": true, \"tick0\": 0, \"titlefont\": {\"color\": \"lightgrey\", \"family\": \"Arial, sans-serif\"}}}, {\"showLink\": true, \"linkText\": \"Export to plot.ly\"})});</script>"
      ],
      "text/vnd.plotly.v1+html": [
       "<div id=\"add9f12c-288f-4ccd-9a6e-7f484d5d2d0b\" style=\"height: 525px; width: 100%;\" class=\"plotly-graph-div\"></div><script type=\"text/javascript\">require([\"plotly\"], function(Plotly) { window.PLOTLYENV=window.PLOTLYENV || {};window.PLOTLYENV.BASE_URL=\"https://plot.ly\";Plotly.newPlot(\"add9f12c-288f-4ccd-9a6e-7f484d5d2d0b\", [{\"colorscale\": [[0, \"rgb(255,255,255)\"], [1, \"rgb(0,0,255)\"]], \"x\": [\"Assign1\", \"Assign2\", \"Assign3\", \"Assign4\"], \"y\": [\"Student_1\", \"Student_2\", \"Student_3\", \"Student_4\", \"Student_5\", \"Student_6\", \"Student_7\", \"Student_8\", \"Student_9\", \"Student_10\", \"Student_11\", \"Student_12\", \"Student_13\", \"Student_14\", \"Student_15\", \"Student_16\", \"Student_17\", \"Student_18\", \"Student_19\", \"Student_20\"], \"z\": [[0, 1, 1, 0], [0, 0, 0, 1], [1, 0, 0, 1], [1, 1, 1, 0], [0, 1, 0, 0], [1, 1, 1, 1], [1, 1, 1, 1], [0, 0, 0, 0], [1, 1, 1, 1], [0, 0, 1, 1], [0, 1, 1, 0], [1, 0, 0, 0], [1, 0, 0, 1], [0, 1, 1, 0], [1, 0, 1, 0], [1, 1, 1, 1], [1, 1, 0, 0], [1, 0, 0, 1], [0, 1, 1, 1], [1, 0, 1, 1]], \"type\": \"heatmap\", \"uid\": \"a7a849c4-e1c6-11e8-81b5-2d0a4fadc81a\"}], {\"title\": \"Atividades feitas por estudante\", \"yaxis\": {\"dtick\": 1, \"exponentformat\": \"e\", \"gridcolor\": \"#bdbdbd\", \"showexponent\": \"all\", \"showticklabels\": true, \"tick0\": 0, \"titlefont\": {\"color\": \"lightgrey\", \"family\": \"Arial, sans-serif\"}}}, {\"showLink\": true, \"linkText\": \"Export to plot.ly\"})});</script>"
      ]
     },
     "metadata": {},
     "output_type": "display_data"
    }
   ],
   "source": [
    "run scripts/V001.py"
   ]
  },
  {
   "cell_type": "markdown",
   "metadata": {},
   "source": [
    "### View 002"
   ]
  },
  {
   "cell_type": "code",
   "execution_count": 2,
   "metadata": {
    "scrolled": true
   },
   "outputs": [
    {
     "data": {
      "text/html": [
       "<script>requirejs.config({paths: { 'plotly': ['https://cdn.plot.ly/plotly-latest.min']},});if(!window.Plotly) {{require(['plotly'],function(plotly) {window.Plotly=plotly;});}}</script>"
      ],
      "text/vnd.plotly.v1+html": [
       "<script>requirejs.config({paths: { 'plotly': ['https://cdn.plot.ly/plotly-latest.min']},});if(!window.Plotly) {{require(['plotly'],function(plotly) {window.Plotly=plotly;});}}</script>"
      ]
     },
     "metadata": {},
     "output_type": "display_data"
    },
    {
     "data": {
      "application/vnd.plotly.v1+json": {
       "data": [
        {
         "cells": {
          "align": [
           "left",
           "center"
          ],
          "fill": {
           "color": "#F5F8FF"
          },
          "values": [
           [
            "Student_1",
            "Student_2",
            "Student_3",
            "Student_4",
            "Student_5",
            "Student_6",
            "Student_7",
            "Student_8",
            "Student_9",
            "Student_10",
            "Student_11",
            "Student_12",
            "Student_13",
            "Student_14",
            "Student_15",
            "Student_16",
            "Student_17",
            "Student_18",
            "Student_19",
            "Student_20"
           ],
           [
            16,
            7,
            21,
            0,
            27,
            19,
            25,
            5,
            17,
            9,
            5,
            19,
            13,
            16,
            8,
            27,
            28,
            0,
            9,
            18
           ],
           [
            13,
            8,
            27,
            19,
            0,
            5,
            10,
            6,
            19,
            1,
            29,
            23,
            17,
            8,
            3,
            13,
            8,
            12,
            9,
            18
           ],
           [
            10,
            8,
            7,
            2,
            21,
            13,
            17,
            14,
            13,
            0,
            28,
            11,
            28,
            28,
            19,
            23,
            0,
            24,
            2,
            21
           ],
           [
            8,
            23,
            19,
            20,
            18,
            8,
            10,
            12,
            23,
            6,
            19,
            15,
            14,
            24,
            23,
            18,
            18,
            3,
            19,
            7
           ],
           [
            20,
            26,
            3,
            4,
            3,
            6,
            6,
            27,
            0,
            14,
            4,
            10,
            7,
            7,
            23,
            19,
            28,
            1,
            11,
            29
           ],
           [
            25,
            17,
            26,
            6,
            8,
            16,
            11,
            6,
            22,
            23,
            2,
            4,
            14,
            12,
            3,
            10,
            3,
            2,
            3,
            7
           ],
           [
            29,
            12,
            28,
            26,
            22,
            27,
            7,
            7,
            3,
            9,
            3,
            8,
            28,
            18,
            3,
            0,
            21,
            10,
            16,
            18
           ],
           [
            13,
            28,
            11,
            20,
            13,
            20,
            28,
            8,
            28,
            2,
            6,
            13,
            29,
            16,
            11,
            7,
            21,
            5,
            10,
            1
           ]
          ]
         },
         "header": {
          "align": "center",
          "fill": {
           "color": "#C2D4FF"
          },
          "values": [
           "Students",
           "Video1",
           "Video2",
           "Quiz1",
           "Quiz2",
           "Pdf1",
           "Pdf2",
           "Ebook1",
           "Ebook2"
          ]
         },
         "type": "table",
         "uid": "229a7d4c-e1ad-11e8-81b5-2d0a4fadc81a"
        }
       ],
       "layout": {}
      },
      "text/html": [
       "<div id=\"0a390d6d-a6ef-4c51-b615-f5d8dfbaa111\" style=\"height: 525px; width: 100%;\" class=\"plotly-graph-div\"></div><script type=\"text/javascript\">require([\"plotly\"], function(Plotly) { window.PLOTLYENV=window.PLOTLYENV || {};window.PLOTLYENV.BASE_URL=\"https://plot.ly\";Plotly.newPlot(\"0a390d6d-a6ef-4c51-b615-f5d8dfbaa111\", [{\"cells\": {\"align\": [\"left\", \"center\"], \"fill\": {\"color\": \"#F5F8FF\"}, \"values\": [[\"Student_1\", \"Student_2\", \"Student_3\", \"Student_4\", \"Student_5\", \"Student_6\", \"Student_7\", \"Student_8\", \"Student_9\", \"Student_10\", \"Student_11\", \"Student_12\", \"Student_13\", \"Student_14\", \"Student_15\", \"Student_16\", \"Student_17\", \"Student_18\", \"Student_19\", \"Student_20\"], [16, 7, 21, 0, 27, 19, 25, 5, 17, 9, 5, 19, 13, 16, 8, 27, 28, 0, 9, 18], [13, 8, 27, 19, 0, 5, 10, 6, 19, 1, 29, 23, 17, 8, 3, 13, 8, 12, 9, 18], [10, 8, 7, 2, 21, 13, 17, 14, 13, 0, 28, 11, 28, 28, 19, 23, 0, 24, 2, 21], [8, 23, 19, 20, 18, 8, 10, 12, 23, 6, 19, 15, 14, 24, 23, 18, 18, 3, 19, 7], [20, 26, 3, 4, 3, 6, 6, 27, 0, 14, 4, 10, 7, 7, 23, 19, 28, 1, 11, 29], [25, 17, 26, 6, 8, 16, 11, 6, 22, 23, 2, 4, 14, 12, 3, 10, 3, 2, 3, 7], [29, 12, 28, 26, 22, 27, 7, 7, 3, 9, 3, 8, 28, 18, 3, 0, 21, 10, 16, 18], [13, 28, 11, 20, 13, 20, 28, 8, 28, 2, 6, 13, 29, 16, 11, 7, 21, 5, 10, 1]]}, \"header\": {\"align\": \"center\", \"fill\": {\"color\": \"#C2D4FF\"}, \"values\": [\"Students\", \"Video1\", \"Video2\", \"Quiz1\", \"Quiz2\", \"Pdf1\", \"Pdf2\", \"Ebook1\", \"Ebook2\"]}, \"type\": \"table\", \"uid\": \"229c8c18-e1ad-11e8-81b5-2d0a4fadc81a\"}], {}, {\"showLink\": true, \"linkText\": \"Export to plot.ly\"})});</script>"
      ],
      "text/vnd.plotly.v1+html": [
       "<div id=\"0a390d6d-a6ef-4c51-b615-f5d8dfbaa111\" style=\"height: 525px; width: 100%;\" class=\"plotly-graph-div\"></div><script type=\"text/javascript\">require([\"plotly\"], function(Plotly) { window.PLOTLYENV=window.PLOTLYENV || {};window.PLOTLYENV.BASE_URL=\"https://plot.ly\";Plotly.newPlot(\"0a390d6d-a6ef-4c51-b615-f5d8dfbaa111\", [{\"cells\": {\"align\": [\"left\", \"center\"], \"fill\": {\"color\": \"#F5F8FF\"}, \"values\": [[\"Student_1\", \"Student_2\", \"Student_3\", \"Student_4\", \"Student_5\", \"Student_6\", \"Student_7\", \"Student_8\", \"Student_9\", \"Student_10\", \"Student_11\", \"Student_12\", \"Student_13\", \"Student_14\", \"Student_15\", \"Student_16\", \"Student_17\", \"Student_18\", \"Student_19\", \"Student_20\"], [16, 7, 21, 0, 27, 19, 25, 5, 17, 9, 5, 19, 13, 16, 8, 27, 28, 0, 9, 18], [13, 8, 27, 19, 0, 5, 10, 6, 19, 1, 29, 23, 17, 8, 3, 13, 8, 12, 9, 18], [10, 8, 7, 2, 21, 13, 17, 14, 13, 0, 28, 11, 28, 28, 19, 23, 0, 24, 2, 21], [8, 23, 19, 20, 18, 8, 10, 12, 23, 6, 19, 15, 14, 24, 23, 18, 18, 3, 19, 7], [20, 26, 3, 4, 3, 6, 6, 27, 0, 14, 4, 10, 7, 7, 23, 19, 28, 1, 11, 29], [25, 17, 26, 6, 8, 16, 11, 6, 22, 23, 2, 4, 14, 12, 3, 10, 3, 2, 3, 7], [29, 12, 28, 26, 22, 27, 7, 7, 3, 9, 3, 8, 28, 18, 3, 0, 21, 10, 16, 18], [13, 28, 11, 20, 13, 20, 28, 8, 28, 2, 6, 13, 29, 16, 11, 7, 21, 5, 10, 1]]}, \"header\": {\"align\": \"center\", \"fill\": {\"color\": \"#C2D4FF\"}, \"values\": [\"Students\", \"Video1\", \"Video2\", \"Quiz1\", \"Quiz2\", \"Pdf1\", \"Pdf2\", \"Ebook1\", \"Ebook2\"]}, \"type\": \"table\", \"uid\": \"229c8c18-e1ad-11e8-81b5-2d0a4fadc81a\"}], {}, {\"showLink\": true, \"linkText\": \"Export to plot.ly\"})});</script>"
      ]
     },
     "metadata": {},
     "output_type": "display_data"
    },
    {
     "data": {
      "application/vnd.plotly.v1+json": {
       "data": [
        {
         "name": "Video1",
         "type": "bar",
         "uid": "22adec06-e1ad-11e8-81b5-2d0a4fadc81a",
         "x": [
          "Student_1",
          "Student_2",
          "Student_3",
          "Student_4",
          "Student_5",
          "Student_6",
          "Student_7",
          "Student_8",
          "Student_9",
          "Student_10",
          "Student_11",
          "Student_12",
          "Student_13",
          "Student_14",
          "Student_15",
          "Student_16",
          "Student_17",
          "Student_18",
          "Student_19",
          "Student_20"
         ],
         "y": [
          16,
          7,
          21,
          0,
          27,
          19,
          25,
          5,
          17,
          9,
          5,
          19,
          13,
          16,
          8,
          27,
          28,
          0,
          9,
          18
         ]
        },
        {
         "name": "Video2",
         "type": "bar",
         "uid": "22adedc8-e1ad-11e8-81b5-2d0a4fadc81a",
         "x": [
          "Student_1",
          "Student_2",
          "Student_3",
          "Student_4",
          "Student_5",
          "Student_6",
          "Student_7",
          "Student_8",
          "Student_9",
          "Student_10",
          "Student_11",
          "Student_12",
          "Student_13",
          "Student_14",
          "Student_15",
          "Student_16",
          "Student_17",
          "Student_18",
          "Student_19",
          "Student_20"
         ],
         "y": [
          13,
          8,
          27,
          19,
          0,
          5,
          10,
          6,
          19,
          1,
          29,
          23,
          17,
          8,
          3,
          13,
          8,
          12,
          9,
          18
         ]
        },
        {
         "name": "Quiz1",
         "type": "bar",
         "uid": "22adeeae-e1ad-11e8-81b5-2d0a4fadc81a",
         "x": [
          "Student_1",
          "Student_2",
          "Student_3",
          "Student_4",
          "Student_5",
          "Student_6",
          "Student_7",
          "Student_8",
          "Student_9",
          "Student_10",
          "Student_11",
          "Student_12",
          "Student_13",
          "Student_14",
          "Student_15",
          "Student_16",
          "Student_17",
          "Student_18",
          "Student_19",
          "Student_20"
         ],
         "y": [
          10,
          8,
          7,
          2,
          21,
          13,
          17,
          14,
          13,
          0,
          28,
          11,
          28,
          28,
          19,
          23,
          0,
          24,
          2,
          21
         ]
        },
        {
         "name": "Quiz2",
         "type": "bar",
         "uid": "22adef62-e1ad-11e8-81b5-2d0a4fadc81a",
         "x": [
          "Student_1",
          "Student_2",
          "Student_3",
          "Student_4",
          "Student_5",
          "Student_6",
          "Student_7",
          "Student_8",
          "Student_9",
          "Student_10",
          "Student_11",
          "Student_12",
          "Student_13",
          "Student_14",
          "Student_15",
          "Student_16",
          "Student_17",
          "Student_18",
          "Student_19",
          "Student_20"
         ],
         "y": [
          8,
          23,
          19,
          20,
          18,
          8,
          10,
          12,
          23,
          6,
          19,
          15,
          14,
          24,
          23,
          18,
          18,
          3,
          19,
          7
         ]
        },
        {
         "name": "Pdf1",
         "type": "bar",
         "uid": "22adf00c-e1ad-11e8-81b5-2d0a4fadc81a",
         "x": [
          "Student_1",
          "Student_2",
          "Student_3",
          "Student_4",
          "Student_5",
          "Student_6",
          "Student_7",
          "Student_8",
          "Student_9",
          "Student_10",
          "Student_11",
          "Student_12",
          "Student_13",
          "Student_14",
          "Student_15",
          "Student_16",
          "Student_17",
          "Student_18",
          "Student_19",
          "Student_20"
         ],
         "y": [
          20,
          26,
          3,
          4,
          3,
          6,
          6,
          27,
          0,
          14,
          4,
          10,
          7,
          7,
          23,
          19,
          28,
          1,
          11,
          29
         ]
        },
        {
         "name": "Pdf2",
         "type": "bar",
         "uid": "22adf0ac-e1ad-11e8-81b5-2d0a4fadc81a",
         "x": [
          "Student_1",
          "Student_2",
          "Student_3",
          "Student_4",
          "Student_5",
          "Student_6",
          "Student_7",
          "Student_8",
          "Student_9",
          "Student_10",
          "Student_11",
          "Student_12",
          "Student_13",
          "Student_14",
          "Student_15",
          "Student_16",
          "Student_17",
          "Student_18",
          "Student_19",
          "Student_20"
         ],
         "y": [
          25,
          17,
          26,
          6,
          8,
          16,
          11,
          6,
          22,
          23,
          2,
          4,
          14,
          12,
          3,
          10,
          3,
          2,
          3,
          7
         ]
        },
        {
         "name": "Ebook1",
         "type": "bar",
         "uid": "22adf138-e1ad-11e8-81b5-2d0a4fadc81a",
         "x": [
          "Student_1",
          "Student_2",
          "Student_3",
          "Student_4",
          "Student_5",
          "Student_6",
          "Student_7",
          "Student_8",
          "Student_9",
          "Student_10",
          "Student_11",
          "Student_12",
          "Student_13",
          "Student_14",
          "Student_15",
          "Student_16",
          "Student_17",
          "Student_18",
          "Student_19",
          "Student_20"
         ],
         "y": [
          29,
          12,
          28,
          26,
          22,
          27,
          7,
          7,
          3,
          9,
          3,
          8,
          28,
          18,
          3,
          0,
          21,
          10,
          16,
          18
         ]
        },
        {
         "name": "Ebook2",
         "type": "bar",
         "uid": "22adf1c4-e1ad-11e8-81b5-2d0a4fadc81a",
         "x": [
          "Student_1",
          "Student_2",
          "Student_3",
          "Student_4",
          "Student_5",
          "Student_6",
          "Student_7",
          "Student_8",
          "Student_9",
          "Student_10",
          "Student_11",
          "Student_12",
          "Student_13",
          "Student_14",
          "Student_15",
          "Student_16",
          "Student_17",
          "Student_18",
          "Student_19",
          "Student_20"
         ],
         "y": [
          13,
          28,
          11,
          20,
          13,
          20,
          28,
          8,
          28,
          2,
          6,
          13,
          29,
          16,
          11,
          7,
          21,
          5,
          10,
          1
         ]
        }
       ],
       "layout": {
        "title": "Número de acessos nos materiais agrupados por estudante",
        "yaxis": {
         "dtick": 1,
         "exponentformat": "e",
         "gridcolor": "#bdbdbd",
         "showexponent": "all",
         "showticklabels": true,
         "tick0": 0,
         "titlefont": {
          "color": "lightgrey",
          "family": "Arial, sans-serif"
         }
        }
       }
      },
      "text/html": [
       "<div id=\"f73efc27-2b58-44ce-8a95-c7042dcb3e21\" style=\"height: 525px; width: 100%;\" class=\"plotly-graph-div\"></div><script type=\"text/javascript\">require([\"plotly\"], function(Plotly) { window.PLOTLYENV=window.PLOTLYENV || {};window.PLOTLYENV.BASE_URL=\"https://plot.ly\";Plotly.newPlot(\"f73efc27-2b58-44ce-8a95-c7042dcb3e21\", [{\"name\": \"Video1\", \"x\": [\"Student_1\", \"Student_2\", \"Student_3\", \"Student_4\", \"Student_5\", \"Student_6\", \"Student_7\", \"Student_8\", \"Student_9\", \"Student_10\", \"Student_11\", \"Student_12\", \"Student_13\", \"Student_14\", \"Student_15\", \"Student_16\", \"Student_17\", \"Student_18\", \"Student_19\", \"Student_20\"], \"y\": [16, 7, 21, 0, 27, 19, 25, 5, 17, 9, 5, 19, 13, 16, 8, 27, 28, 0, 9, 18], \"type\": \"bar\", \"uid\": \"22adec06-e1ad-11e8-81b5-2d0a4fadc81a\"}, {\"name\": \"Video2\", \"x\": [\"Student_1\", \"Student_2\", \"Student_3\", \"Student_4\", \"Student_5\", \"Student_6\", \"Student_7\", \"Student_8\", \"Student_9\", \"Student_10\", \"Student_11\", \"Student_12\", \"Student_13\", \"Student_14\", \"Student_15\", \"Student_16\", \"Student_17\", \"Student_18\", \"Student_19\", \"Student_20\"], \"y\": [13, 8, 27, 19, 0, 5, 10, 6, 19, 1, 29, 23, 17, 8, 3, 13, 8, 12, 9, 18], \"type\": \"bar\", \"uid\": \"22adedc8-e1ad-11e8-81b5-2d0a4fadc81a\"}, {\"name\": \"Quiz1\", \"x\": [\"Student_1\", \"Student_2\", \"Student_3\", \"Student_4\", \"Student_5\", \"Student_6\", \"Student_7\", \"Student_8\", \"Student_9\", \"Student_10\", \"Student_11\", \"Student_12\", \"Student_13\", \"Student_14\", \"Student_15\", \"Student_16\", \"Student_17\", \"Student_18\", \"Student_19\", \"Student_20\"], \"y\": [10, 8, 7, 2, 21, 13, 17, 14, 13, 0, 28, 11, 28, 28, 19, 23, 0, 24, 2, 21], \"type\": \"bar\", \"uid\": \"22adeeae-e1ad-11e8-81b5-2d0a4fadc81a\"}, {\"name\": \"Quiz2\", \"x\": [\"Student_1\", \"Student_2\", \"Student_3\", \"Student_4\", \"Student_5\", \"Student_6\", \"Student_7\", \"Student_8\", \"Student_9\", \"Student_10\", \"Student_11\", \"Student_12\", \"Student_13\", \"Student_14\", \"Student_15\", \"Student_16\", \"Student_17\", \"Student_18\", \"Student_19\", \"Student_20\"], \"y\": [8, 23, 19, 20, 18, 8, 10, 12, 23, 6, 19, 15, 14, 24, 23, 18, 18, 3, 19, 7], \"type\": \"bar\", \"uid\": \"22adef62-e1ad-11e8-81b5-2d0a4fadc81a\"}, {\"name\": \"Pdf1\", \"x\": [\"Student_1\", \"Student_2\", \"Student_3\", \"Student_4\", \"Student_5\", \"Student_6\", \"Student_7\", \"Student_8\", \"Student_9\", \"Student_10\", \"Student_11\", \"Student_12\", \"Student_13\", \"Student_14\", \"Student_15\", \"Student_16\", \"Student_17\", \"Student_18\", \"Student_19\", \"Student_20\"], \"y\": [20, 26, 3, 4, 3, 6, 6, 27, 0, 14, 4, 10, 7, 7, 23, 19, 28, 1, 11, 29], \"type\": \"bar\", \"uid\": \"22adf00c-e1ad-11e8-81b5-2d0a4fadc81a\"}, {\"name\": \"Pdf2\", \"x\": [\"Student_1\", \"Student_2\", \"Student_3\", \"Student_4\", \"Student_5\", \"Student_6\", \"Student_7\", \"Student_8\", \"Student_9\", \"Student_10\", \"Student_11\", \"Student_12\", \"Student_13\", \"Student_14\", \"Student_15\", \"Student_16\", \"Student_17\", \"Student_18\", \"Student_19\", \"Student_20\"], \"y\": [25, 17, 26, 6, 8, 16, 11, 6, 22, 23, 2, 4, 14, 12, 3, 10, 3, 2, 3, 7], \"type\": \"bar\", \"uid\": \"22adf0ac-e1ad-11e8-81b5-2d0a4fadc81a\"}, {\"name\": \"Ebook1\", \"x\": [\"Student_1\", \"Student_2\", \"Student_3\", \"Student_4\", \"Student_5\", \"Student_6\", \"Student_7\", \"Student_8\", \"Student_9\", \"Student_10\", \"Student_11\", \"Student_12\", \"Student_13\", \"Student_14\", \"Student_15\", \"Student_16\", \"Student_17\", \"Student_18\", \"Student_19\", \"Student_20\"], \"y\": [29, 12, 28, 26, 22, 27, 7, 7, 3, 9, 3, 8, 28, 18, 3, 0, 21, 10, 16, 18], \"type\": \"bar\", \"uid\": \"22adf138-e1ad-11e8-81b5-2d0a4fadc81a\"}, {\"name\": \"Ebook2\", \"x\": [\"Student_1\", \"Student_2\", \"Student_3\", \"Student_4\", \"Student_5\", \"Student_6\", \"Student_7\", \"Student_8\", \"Student_9\", \"Student_10\", \"Student_11\", \"Student_12\", \"Student_13\", \"Student_14\", \"Student_15\", \"Student_16\", \"Student_17\", \"Student_18\", \"Student_19\", \"Student_20\"], \"y\": [13, 28, 11, 20, 13, 20, 28, 8, 28, 2, 6, 13, 29, 16, 11, 7, 21, 5, 10, 1], \"type\": \"bar\", \"uid\": \"22adf1c4-e1ad-11e8-81b5-2d0a4fadc81a\"}], {\"title\": \"N\\u00famero de acessos nos materiais agrupados por estudante\", \"yaxis\": {\"dtick\": 1, \"exponentformat\": \"e\", \"gridcolor\": \"#bdbdbd\", \"showexponent\": \"all\", \"showticklabels\": true, \"tick0\": 0, \"titlefont\": {\"color\": \"lightgrey\", \"family\": \"Arial, sans-serif\"}}}, {\"showLink\": true, \"linkText\": \"Export to plot.ly\"})});</script>"
      ],
      "text/vnd.plotly.v1+html": [
       "<div id=\"f73efc27-2b58-44ce-8a95-c7042dcb3e21\" style=\"height: 525px; width: 100%;\" class=\"plotly-graph-div\"></div><script type=\"text/javascript\">require([\"plotly\"], function(Plotly) { window.PLOTLYENV=window.PLOTLYENV || {};window.PLOTLYENV.BASE_URL=\"https://plot.ly\";Plotly.newPlot(\"f73efc27-2b58-44ce-8a95-c7042dcb3e21\", [{\"name\": \"Video1\", \"x\": [\"Student_1\", \"Student_2\", \"Student_3\", \"Student_4\", \"Student_5\", \"Student_6\", \"Student_7\", \"Student_8\", \"Student_9\", \"Student_10\", \"Student_11\", \"Student_12\", \"Student_13\", \"Student_14\", \"Student_15\", \"Student_16\", \"Student_17\", \"Student_18\", \"Student_19\", \"Student_20\"], \"y\": [16, 7, 21, 0, 27, 19, 25, 5, 17, 9, 5, 19, 13, 16, 8, 27, 28, 0, 9, 18], \"type\": \"bar\", \"uid\": \"22adec06-e1ad-11e8-81b5-2d0a4fadc81a\"}, {\"name\": \"Video2\", \"x\": [\"Student_1\", \"Student_2\", \"Student_3\", \"Student_4\", \"Student_5\", \"Student_6\", \"Student_7\", \"Student_8\", \"Student_9\", \"Student_10\", \"Student_11\", \"Student_12\", \"Student_13\", \"Student_14\", \"Student_15\", \"Student_16\", \"Student_17\", \"Student_18\", \"Student_19\", \"Student_20\"], \"y\": [13, 8, 27, 19, 0, 5, 10, 6, 19, 1, 29, 23, 17, 8, 3, 13, 8, 12, 9, 18], \"type\": \"bar\", \"uid\": \"22adedc8-e1ad-11e8-81b5-2d0a4fadc81a\"}, {\"name\": \"Quiz1\", \"x\": [\"Student_1\", \"Student_2\", \"Student_3\", \"Student_4\", \"Student_5\", \"Student_6\", \"Student_7\", \"Student_8\", \"Student_9\", \"Student_10\", \"Student_11\", \"Student_12\", \"Student_13\", \"Student_14\", \"Student_15\", \"Student_16\", \"Student_17\", \"Student_18\", \"Student_19\", \"Student_20\"], \"y\": [10, 8, 7, 2, 21, 13, 17, 14, 13, 0, 28, 11, 28, 28, 19, 23, 0, 24, 2, 21], \"type\": \"bar\", \"uid\": \"22adeeae-e1ad-11e8-81b5-2d0a4fadc81a\"}, {\"name\": \"Quiz2\", \"x\": [\"Student_1\", \"Student_2\", \"Student_3\", \"Student_4\", \"Student_5\", \"Student_6\", \"Student_7\", \"Student_8\", \"Student_9\", \"Student_10\", \"Student_11\", \"Student_12\", \"Student_13\", \"Student_14\", \"Student_15\", \"Student_16\", \"Student_17\", \"Student_18\", \"Student_19\", \"Student_20\"], \"y\": [8, 23, 19, 20, 18, 8, 10, 12, 23, 6, 19, 15, 14, 24, 23, 18, 18, 3, 19, 7], \"type\": \"bar\", \"uid\": \"22adef62-e1ad-11e8-81b5-2d0a4fadc81a\"}, {\"name\": \"Pdf1\", \"x\": [\"Student_1\", \"Student_2\", \"Student_3\", \"Student_4\", \"Student_5\", \"Student_6\", \"Student_7\", \"Student_8\", \"Student_9\", \"Student_10\", \"Student_11\", \"Student_12\", \"Student_13\", \"Student_14\", \"Student_15\", \"Student_16\", \"Student_17\", \"Student_18\", \"Student_19\", \"Student_20\"], \"y\": [20, 26, 3, 4, 3, 6, 6, 27, 0, 14, 4, 10, 7, 7, 23, 19, 28, 1, 11, 29], \"type\": \"bar\", \"uid\": \"22adf00c-e1ad-11e8-81b5-2d0a4fadc81a\"}, {\"name\": \"Pdf2\", \"x\": [\"Student_1\", \"Student_2\", \"Student_3\", \"Student_4\", \"Student_5\", \"Student_6\", \"Student_7\", \"Student_8\", \"Student_9\", \"Student_10\", \"Student_11\", \"Student_12\", \"Student_13\", \"Student_14\", \"Student_15\", \"Student_16\", \"Student_17\", \"Student_18\", \"Student_19\", \"Student_20\"], \"y\": [25, 17, 26, 6, 8, 16, 11, 6, 22, 23, 2, 4, 14, 12, 3, 10, 3, 2, 3, 7], \"type\": \"bar\", \"uid\": \"22adf0ac-e1ad-11e8-81b5-2d0a4fadc81a\"}, {\"name\": \"Ebook1\", \"x\": [\"Student_1\", \"Student_2\", \"Student_3\", \"Student_4\", \"Student_5\", \"Student_6\", \"Student_7\", \"Student_8\", \"Student_9\", \"Student_10\", \"Student_11\", \"Student_12\", \"Student_13\", \"Student_14\", \"Student_15\", \"Student_16\", \"Student_17\", \"Student_18\", \"Student_19\", \"Student_20\"], \"y\": [29, 12, 28, 26, 22, 27, 7, 7, 3, 9, 3, 8, 28, 18, 3, 0, 21, 10, 16, 18], \"type\": \"bar\", \"uid\": \"22adf138-e1ad-11e8-81b5-2d0a4fadc81a\"}, {\"name\": \"Ebook2\", \"x\": [\"Student_1\", \"Student_2\", \"Student_3\", \"Student_4\", \"Student_5\", \"Student_6\", \"Student_7\", \"Student_8\", \"Student_9\", \"Student_10\", \"Student_11\", \"Student_12\", \"Student_13\", \"Student_14\", \"Student_15\", \"Student_16\", \"Student_17\", \"Student_18\", \"Student_19\", \"Student_20\"], \"y\": [13, 28, 11, 20, 13, 20, 28, 8, 28, 2, 6, 13, 29, 16, 11, 7, 21, 5, 10, 1], \"type\": \"bar\", \"uid\": \"22adf1c4-e1ad-11e8-81b5-2d0a4fadc81a\"}], {\"title\": \"N\\u00famero de acessos nos materiais agrupados por estudante\", \"yaxis\": {\"dtick\": 1, \"exponentformat\": \"e\", \"gridcolor\": \"#bdbdbd\", \"showexponent\": \"all\", \"showticklabels\": true, \"tick0\": 0, \"titlefont\": {\"color\": \"lightgrey\", \"family\": \"Arial, sans-serif\"}}}, {\"showLink\": true, \"linkText\": \"Export to plot.ly\"})});</script>"
      ]
     },
     "metadata": {},
     "output_type": "display_data"
    },
    {
     "data": {
      "application/vnd.plotly.v1+json": {
       "data": [
        {
         "colorscale": [
          [
           0,
           "rgb(255,255,255)"
          ],
          [
           1,
           "rgb(0,0,255)"
          ]
         ],
         "type": "heatmap",
         "uid": "22b80484-e1ad-11e8-81b5-2d0a4fadc81a",
         "x": [
          "Video1",
          "Video2",
          "Quiz1",
          "Quiz2",
          "Pdf1",
          "Pdf2",
          "Ebook1",
          "Ebook2"
         ],
         "y": [
          "Student_1",
          "Student_2",
          "Student_3",
          "Student_4",
          "Student_5",
          "Student_6",
          "Student_7",
          "Student_8",
          "Student_9",
          "Student_10",
          "Student_11",
          "Student_12",
          "Student_13",
          "Student_14",
          "Student_15",
          "Student_16",
          "Student_17",
          "Student_18",
          "Student_19",
          "Student_20"
         ],
         "z": [
          [
           16,
           13,
           10,
           8,
           20,
           25,
           29,
           13
          ],
          [
           7,
           8,
           8,
           23,
           26,
           17,
           12,
           28
          ],
          [
           21,
           27,
           7,
           19,
           3,
           26,
           28,
           11
          ],
          [
           0,
           19,
           2,
           20,
           4,
           6,
           26,
           20
          ],
          [
           27,
           0,
           21,
           18,
           3,
           8,
           22,
           13
          ],
          [
           19,
           5,
           13,
           8,
           6,
           16,
           27,
           20
          ],
          [
           25,
           10,
           17,
           10,
           6,
           11,
           7,
           28
          ],
          [
           5,
           6,
           14,
           12,
           27,
           6,
           7,
           8
          ],
          [
           17,
           19,
           13,
           23,
           0,
           22,
           3,
           28
          ],
          [
           9,
           1,
           0,
           6,
           14,
           23,
           9,
           2
          ],
          [
           5,
           29,
           28,
           19,
           4,
           2,
           3,
           6
          ],
          [
           19,
           23,
           11,
           15,
           10,
           4,
           8,
           13
          ],
          [
           13,
           17,
           28,
           14,
           7,
           14,
           28,
           29
          ],
          [
           16,
           8,
           28,
           24,
           7,
           12,
           18,
           16
          ],
          [
           8,
           3,
           19,
           23,
           23,
           3,
           3,
           11
          ],
          [
           27,
           13,
           23,
           18,
           19,
           10,
           0,
           7
          ],
          [
           28,
           8,
           0,
           18,
           28,
           3,
           21,
           21
          ],
          [
           0,
           12,
           24,
           3,
           1,
           2,
           10,
           5
          ],
          [
           9,
           9,
           2,
           19,
           11,
           3,
           16,
           10
          ],
          [
           18,
           18,
           21,
           7,
           29,
           7,
           18,
           1
          ]
         ]
        }
       ],
       "layout": {
        "title": "Número de acessos nos materiais por estudante",
        "yaxis": {
         "dtick": 1,
         "exponentformat": "e",
         "gridcolor": "#bdbdbd",
         "showexponent": "all",
         "showticklabels": true,
         "tick0": 0,
         "titlefont": {
          "color": "lightgrey",
          "family": "Arial, sans-serif"
         }
        }
       }
      },
      "text/html": [
       "<div id=\"35b1e393-945d-43c6-9807-e9c75790477b\" style=\"height: 525px; width: 100%;\" class=\"plotly-graph-div\"></div><script type=\"text/javascript\">require([\"plotly\"], function(Plotly) { window.PLOTLYENV=window.PLOTLYENV || {};window.PLOTLYENV.BASE_URL=\"https://plot.ly\";Plotly.newPlot(\"35b1e393-945d-43c6-9807-e9c75790477b\", [{\"colorscale\": [[0, \"rgb(255,255,255)\"], [1, \"rgb(0,0,255)\"]], \"x\": [\"Video1\", \"Video2\", \"Quiz1\", \"Quiz2\", \"Pdf1\", \"Pdf2\", \"Ebook1\", \"Ebook2\"], \"y\": [\"Student_1\", \"Student_2\", \"Student_3\", \"Student_4\", \"Student_5\", \"Student_6\", \"Student_7\", \"Student_8\", \"Student_9\", \"Student_10\", \"Student_11\", \"Student_12\", \"Student_13\", \"Student_14\", \"Student_15\", \"Student_16\", \"Student_17\", \"Student_18\", \"Student_19\", \"Student_20\"], \"z\": [[16, 13, 10, 8, 20, 25, 29, 13], [7, 8, 8, 23, 26, 17, 12, 28], [21, 27, 7, 19, 3, 26, 28, 11], [0, 19, 2, 20, 4, 6, 26, 20], [27, 0, 21, 18, 3, 8, 22, 13], [19, 5, 13, 8, 6, 16, 27, 20], [25, 10, 17, 10, 6, 11, 7, 28], [5, 6, 14, 12, 27, 6, 7, 8], [17, 19, 13, 23, 0, 22, 3, 28], [9, 1, 0, 6, 14, 23, 9, 2], [5, 29, 28, 19, 4, 2, 3, 6], [19, 23, 11, 15, 10, 4, 8, 13], [13, 17, 28, 14, 7, 14, 28, 29], [16, 8, 28, 24, 7, 12, 18, 16], [8, 3, 19, 23, 23, 3, 3, 11], [27, 13, 23, 18, 19, 10, 0, 7], [28, 8, 0, 18, 28, 3, 21, 21], [0, 12, 24, 3, 1, 2, 10, 5], [9, 9, 2, 19, 11, 3, 16, 10], [18, 18, 21, 7, 29, 7, 18, 1]], \"type\": \"heatmap\", \"uid\": \"22b80484-e1ad-11e8-81b5-2d0a4fadc81a\"}], {\"title\": \"N\\u00famero de acessos nos materiais por estudante\", \"yaxis\": {\"dtick\": 1, \"exponentformat\": \"e\", \"gridcolor\": \"#bdbdbd\", \"showexponent\": \"all\", \"showticklabels\": true, \"tick0\": 0, \"titlefont\": {\"color\": \"lightgrey\", \"family\": \"Arial, sans-serif\"}}}, {\"showLink\": true, \"linkText\": \"Export to plot.ly\"})});</script>"
      ],
      "text/vnd.plotly.v1+html": [
       "<div id=\"35b1e393-945d-43c6-9807-e9c75790477b\" style=\"height: 525px; width: 100%;\" class=\"plotly-graph-div\"></div><script type=\"text/javascript\">require([\"plotly\"], function(Plotly) { window.PLOTLYENV=window.PLOTLYENV || {};window.PLOTLYENV.BASE_URL=\"https://plot.ly\";Plotly.newPlot(\"35b1e393-945d-43c6-9807-e9c75790477b\", [{\"colorscale\": [[0, \"rgb(255,255,255)\"], [1, \"rgb(0,0,255)\"]], \"x\": [\"Video1\", \"Video2\", \"Quiz1\", \"Quiz2\", \"Pdf1\", \"Pdf2\", \"Ebook1\", \"Ebook2\"], \"y\": [\"Student_1\", \"Student_2\", \"Student_3\", \"Student_4\", \"Student_5\", \"Student_6\", \"Student_7\", \"Student_8\", \"Student_9\", \"Student_10\", \"Student_11\", \"Student_12\", \"Student_13\", \"Student_14\", \"Student_15\", \"Student_16\", \"Student_17\", \"Student_18\", \"Student_19\", \"Student_20\"], \"z\": [[16, 13, 10, 8, 20, 25, 29, 13], [7, 8, 8, 23, 26, 17, 12, 28], [21, 27, 7, 19, 3, 26, 28, 11], [0, 19, 2, 20, 4, 6, 26, 20], [27, 0, 21, 18, 3, 8, 22, 13], [19, 5, 13, 8, 6, 16, 27, 20], [25, 10, 17, 10, 6, 11, 7, 28], [5, 6, 14, 12, 27, 6, 7, 8], [17, 19, 13, 23, 0, 22, 3, 28], [9, 1, 0, 6, 14, 23, 9, 2], [5, 29, 28, 19, 4, 2, 3, 6], [19, 23, 11, 15, 10, 4, 8, 13], [13, 17, 28, 14, 7, 14, 28, 29], [16, 8, 28, 24, 7, 12, 18, 16], [8, 3, 19, 23, 23, 3, 3, 11], [27, 13, 23, 18, 19, 10, 0, 7], [28, 8, 0, 18, 28, 3, 21, 21], [0, 12, 24, 3, 1, 2, 10, 5], [9, 9, 2, 19, 11, 3, 16, 10], [18, 18, 21, 7, 29, 7, 18, 1]], \"type\": \"heatmap\", \"uid\": \"22b80484-e1ad-11e8-81b5-2d0a4fadc81a\"}], {\"title\": \"N\\u00famero de acessos nos materiais por estudante\", \"yaxis\": {\"dtick\": 1, \"exponentformat\": \"e\", \"gridcolor\": \"#bdbdbd\", \"showexponent\": \"all\", \"showticklabels\": true, \"tick0\": 0, \"titlefont\": {\"color\": \"lightgrey\", \"family\": \"Arial, sans-serif\"}}}, {\"showLink\": true, \"linkText\": \"Export to plot.ly\"})});</script>"
      ]
     },
     "metadata": {},
     "output_type": "display_data"
    },
    {
     "data": {
      "application/vnd.plotly.v1+json": {
       "data": [
        {
         "marker": {
          "line": {
           "width": 2
          },
          "size": [
           16,
           13,
           10,
           8,
           20,
           25,
           29,
           13
          ],
          "sizemode": "area",
          "sizeref": 0.06896551724137931,
          "symbol": "circle"
         },
         "mode": "markers",
         "name": "Student_1",
         "text": [
          "16",
          "13",
          "10",
          "8",
          "20",
          "25",
          "29",
          "13"
         ],
         "type": "scatter",
         "uid": "22ce48a2-e1ad-11e8-81b5-2d0a4fadc81a",
         "x": [
          "Student_1",
          "Student_1",
          "Student_1",
          "Student_1",
          "Student_1",
          "Student_1",
          "Student_1",
          "Student_1",
          "Student_1"
         ],
         "y": [
          "Video1",
          "Video2",
          "Quiz1",
          "Quiz2",
          "Pdf1",
          "Pdf2",
          "Ebook1",
          "Ebook2"
         ]
        },
        {
         "marker": {
          "line": {
           "width": 2
          },
          "size": [
           7,
           8,
           8,
           23,
           26,
           17,
           12,
           28
          ],
          "sizemode": "area",
          "sizeref": 0.06896551724137931,
          "symbol": "circle"
         },
         "mode": "markers",
         "name": "Student_2",
         "text": [
          "7",
          "8",
          "8",
          "23",
          "26",
          "17",
          "12",
          "28"
         ],
         "type": "scatter",
         "uid": "22ce4a46-e1ad-11e8-81b5-2d0a4fadc81a",
         "x": [
          "Student_2",
          "Student_2",
          "Student_2",
          "Student_2",
          "Student_2",
          "Student_2",
          "Student_2",
          "Student_2",
          "Student_2"
         ],
         "y": [
          "Video1",
          "Video2",
          "Quiz1",
          "Quiz2",
          "Pdf1",
          "Pdf2",
          "Ebook1",
          "Ebook2"
         ]
        },
        {
         "marker": {
          "line": {
           "width": 2
          },
          "size": [
           21,
           27,
           7,
           19,
           3,
           26,
           28,
           11
          ],
          "sizemode": "area",
          "sizeref": 0.06896551724137931,
          "symbol": "circle"
         },
         "mode": "markers",
         "name": "Student_3",
         "text": [
          "21",
          "27",
          "7",
          "19",
          "3",
          "26",
          "28",
          "11"
         ],
         "type": "scatter",
         "uid": "22ce4b04-e1ad-11e8-81b5-2d0a4fadc81a",
         "x": [
          "Student_3",
          "Student_3",
          "Student_3",
          "Student_3",
          "Student_3",
          "Student_3",
          "Student_3",
          "Student_3",
          "Student_3"
         ],
         "y": [
          "Video1",
          "Video2",
          "Quiz1",
          "Quiz2",
          "Pdf1",
          "Pdf2",
          "Ebook1",
          "Ebook2"
         ]
        },
        {
         "marker": {
          "line": {
           "width": 2
          },
          "size": [
           0,
           19,
           2,
           20,
           4,
           6,
           26,
           20
          ],
          "sizemode": "area",
          "sizeref": 0.06896551724137931,
          "symbol": "circle"
         },
         "mode": "markers",
         "name": "Student_4",
         "text": [
          "0",
          "19",
          "2",
          "20",
          "4",
          "6",
          "26",
          "20"
         ],
         "type": "scatter",
         "uid": "22ce4ba4-e1ad-11e8-81b5-2d0a4fadc81a",
         "x": [
          "Student_4",
          "Student_4",
          "Student_4",
          "Student_4",
          "Student_4",
          "Student_4",
          "Student_4",
          "Student_4",
          "Student_4"
         ],
         "y": [
          "Video1",
          "Video2",
          "Quiz1",
          "Quiz2",
          "Pdf1",
          "Pdf2",
          "Ebook1",
          "Ebook2"
         ]
        },
        {
         "marker": {
          "line": {
           "width": 2
          },
          "size": [
           27,
           0,
           21,
           18,
           3,
           8,
           22,
           13
          ],
          "sizemode": "area",
          "sizeref": 0.06896551724137931,
          "symbol": "circle"
         },
         "mode": "markers",
         "name": "Student_5",
         "text": [
          "27",
          "0",
          "21",
          "18",
          "3",
          "8",
          "22",
          "13"
         ],
         "type": "scatter",
         "uid": "22ce4c3a-e1ad-11e8-81b5-2d0a4fadc81a",
         "x": [
          "Student_5",
          "Student_5",
          "Student_5",
          "Student_5",
          "Student_5",
          "Student_5",
          "Student_5",
          "Student_5",
          "Student_5"
         ],
         "y": [
          "Video1",
          "Video2",
          "Quiz1",
          "Quiz2",
          "Pdf1",
          "Pdf2",
          "Ebook1",
          "Ebook2"
         ]
        },
        {
         "marker": {
          "line": {
           "width": 2
          },
          "size": [
           19,
           5,
           13,
           8,
           6,
           16,
           27,
           20
          ],
          "sizemode": "area",
          "sizeref": 0.06896551724137931,
          "symbol": "circle"
         },
         "mode": "markers",
         "name": "Student_6",
         "text": [
          "19",
          "5",
          "13",
          "8",
          "6",
          "16",
          "27",
          "20"
         ],
         "type": "scatter",
         "uid": "22ce4cc6-e1ad-11e8-81b5-2d0a4fadc81a",
         "x": [
          "Student_6",
          "Student_6",
          "Student_6",
          "Student_6",
          "Student_6",
          "Student_6",
          "Student_6",
          "Student_6",
          "Student_6"
         ],
         "y": [
          "Video1",
          "Video2",
          "Quiz1",
          "Quiz2",
          "Pdf1",
          "Pdf2",
          "Ebook1",
          "Ebook2"
         ]
        },
        {
         "marker": {
          "line": {
           "width": 2
          },
          "size": [
           25,
           10,
           17,
           10,
           6,
           11,
           7,
           28
          ],
          "sizemode": "area",
          "sizeref": 0.06896551724137931,
          "symbol": "circle"
         },
         "mode": "markers",
         "name": "Student_7",
         "text": [
          "25",
          "10",
          "17",
          "10",
          "6",
          "11",
          "7",
          "28"
         ],
         "type": "scatter",
         "uid": "22ce4d52-e1ad-11e8-81b5-2d0a4fadc81a",
         "x": [
          "Student_7",
          "Student_7",
          "Student_7",
          "Student_7",
          "Student_7",
          "Student_7",
          "Student_7",
          "Student_7",
          "Student_7"
         ],
         "y": [
          "Video1",
          "Video2",
          "Quiz1",
          "Quiz2",
          "Pdf1",
          "Pdf2",
          "Ebook1",
          "Ebook2"
         ]
        },
        {
         "marker": {
          "line": {
           "width": 2
          },
          "size": [
           5,
           6,
           14,
           12,
           27,
           6,
           7,
           8
          ],
          "sizemode": "area",
          "sizeref": 0.06896551724137931,
          "symbol": "circle"
         },
         "mode": "markers",
         "name": "Student_8",
         "text": [
          "5",
          "6",
          "14",
          "12",
          "27",
          "6",
          "7",
          "8"
         ],
         "type": "scatter",
         "uid": "22ce4dde-e1ad-11e8-81b5-2d0a4fadc81a",
         "x": [
          "Student_8",
          "Student_8",
          "Student_8",
          "Student_8",
          "Student_8",
          "Student_8",
          "Student_8",
          "Student_8",
          "Student_8"
         ],
         "y": [
          "Video1",
          "Video2",
          "Quiz1",
          "Quiz2",
          "Pdf1",
          "Pdf2",
          "Ebook1",
          "Ebook2"
         ]
        },
        {
         "marker": {
          "line": {
           "width": 2
          },
          "size": [
           17,
           19,
           13,
           23,
           0,
           22,
           3,
           28
          ],
          "sizemode": "area",
          "sizeref": 0.06896551724137931,
          "symbol": "circle"
         },
         "mode": "markers",
         "name": "Student_9",
         "text": [
          "17",
          "19",
          "13",
          "23",
          "0",
          "22",
          "3",
          "28"
         ],
         "type": "scatter",
         "uid": "22ce4e60-e1ad-11e8-81b5-2d0a4fadc81a",
         "x": [
          "Student_9",
          "Student_9",
          "Student_9",
          "Student_9",
          "Student_9",
          "Student_9",
          "Student_9",
          "Student_9",
          "Student_9"
         ],
         "y": [
          "Video1",
          "Video2",
          "Quiz1",
          "Quiz2",
          "Pdf1",
          "Pdf2",
          "Ebook1",
          "Ebook2"
         ]
        },
        {
         "marker": {
          "line": {
           "width": 2
          },
          "size": [
           9,
           1,
           0,
           6,
           14,
           23,
           9,
           2
          ],
          "sizemode": "area",
          "sizeref": 0.06896551724137931,
          "symbol": "circle"
         },
         "mode": "markers",
         "name": "Student_10",
         "text": [
          "9",
          "1",
          "0",
          "6",
          "14",
          "23",
          "9",
          "2"
         ],
         "type": "scatter",
         "uid": "22ce4ee2-e1ad-11e8-81b5-2d0a4fadc81a",
         "x": [
          "Student_10",
          "Student_10",
          "Student_10",
          "Student_10",
          "Student_10",
          "Student_10",
          "Student_10",
          "Student_10",
          "Student_10"
         ],
         "y": [
          "Video1",
          "Video2",
          "Quiz1",
          "Quiz2",
          "Pdf1",
          "Pdf2",
          "Ebook1",
          "Ebook2"
         ]
        },
        {
         "marker": {
          "line": {
           "width": 2
          },
          "size": [
           5,
           29,
           28,
           19,
           4,
           2,
           3,
           6
          ],
          "sizemode": "area",
          "sizeref": 0.06896551724137931,
          "symbol": "circle"
         },
         "mode": "markers",
         "name": "Student_11",
         "text": [
          "5",
          "29",
          "28",
          "19",
          "4",
          "2",
          "3",
          "6"
         ],
         "type": "scatter",
         "uid": "22ce4f64-e1ad-11e8-81b5-2d0a4fadc81a",
         "x": [
          "Student_11",
          "Student_11",
          "Student_11",
          "Student_11",
          "Student_11",
          "Student_11",
          "Student_11",
          "Student_11",
          "Student_11"
         ],
         "y": [
          "Video1",
          "Video2",
          "Quiz1",
          "Quiz2",
          "Pdf1",
          "Pdf2",
          "Ebook1",
          "Ebook2"
         ]
        },
        {
         "marker": {
          "line": {
           "width": 2
          },
          "size": [
           19,
           23,
           11,
           15,
           10,
           4,
           8,
           13
          ],
          "sizemode": "area",
          "sizeref": 0.06896551724137931,
          "symbol": "circle"
         },
         "mode": "markers",
         "name": "Student_12",
         "text": [
          "19",
          "23",
          "11",
          "15",
          "10",
          "4",
          "8",
          "13"
         ],
         "type": "scatter",
         "uid": "22ce4fe6-e1ad-11e8-81b5-2d0a4fadc81a",
         "x": [
          "Student_12",
          "Student_12",
          "Student_12",
          "Student_12",
          "Student_12",
          "Student_12",
          "Student_12",
          "Student_12",
          "Student_12"
         ],
         "y": [
          "Video1",
          "Video2",
          "Quiz1",
          "Quiz2",
          "Pdf1",
          "Pdf2",
          "Ebook1",
          "Ebook2"
         ]
        },
        {
         "marker": {
          "line": {
           "width": 2
          },
          "size": [
           13,
           17,
           28,
           14,
           7,
           14,
           28,
           29
          ],
          "sizemode": "area",
          "sizeref": 0.06896551724137931,
          "symbol": "circle"
         },
         "mode": "markers",
         "name": "Student_13",
         "text": [
          "13",
          "17",
          "28",
          "14",
          "7",
          "14",
          "28",
          "29"
         ],
         "type": "scatter",
         "uid": "22ce5068-e1ad-11e8-81b5-2d0a4fadc81a",
         "x": [
          "Student_13",
          "Student_13",
          "Student_13",
          "Student_13",
          "Student_13",
          "Student_13",
          "Student_13",
          "Student_13",
          "Student_13"
         ],
         "y": [
          "Video1",
          "Video2",
          "Quiz1",
          "Quiz2",
          "Pdf1",
          "Pdf2",
          "Ebook1",
          "Ebook2"
         ]
        },
        {
         "marker": {
          "line": {
           "width": 2
          },
          "size": [
           16,
           8,
           28,
           24,
           7,
           12,
           18,
           16
          ],
          "sizemode": "area",
          "sizeref": 0.06896551724137931,
          "symbol": "circle"
         },
         "mode": "markers",
         "name": "Student_14",
         "text": [
          "16",
          "8",
          "28",
          "24",
          "7",
          "12",
          "18",
          "16"
         ],
         "type": "scatter",
         "uid": "22ce50fe-e1ad-11e8-81b5-2d0a4fadc81a",
         "x": [
          "Student_14",
          "Student_14",
          "Student_14",
          "Student_14",
          "Student_14",
          "Student_14",
          "Student_14",
          "Student_14",
          "Student_14"
         ],
         "y": [
          "Video1",
          "Video2",
          "Quiz1",
          "Quiz2",
          "Pdf1",
          "Pdf2",
          "Ebook1",
          "Ebook2"
         ]
        },
        {
         "marker": {
          "line": {
           "width": 2
          },
          "size": [
           8,
           3,
           19,
           23,
           23,
           3,
           3,
           11
          ],
          "sizemode": "area",
          "sizeref": 0.06896551724137931,
          "symbol": "circle"
         },
         "mode": "markers",
         "name": "Student_15",
         "text": [
          "8",
          "3",
          "19",
          "23",
          "23",
          "3",
          "3",
          "11"
         ],
         "type": "scatter",
         "uid": "22ce518a-e1ad-11e8-81b5-2d0a4fadc81a",
         "x": [
          "Student_15",
          "Student_15",
          "Student_15",
          "Student_15",
          "Student_15",
          "Student_15",
          "Student_15",
          "Student_15",
          "Student_15"
         ],
         "y": [
          "Video1",
          "Video2",
          "Quiz1",
          "Quiz2",
          "Pdf1",
          "Pdf2",
          "Ebook1",
          "Ebook2"
         ]
        },
        {
         "marker": {
          "line": {
           "width": 2
          },
          "size": [
           27,
           13,
           23,
           18,
           19,
           10,
           0,
           7
          ],
          "sizemode": "area",
          "sizeref": 0.06896551724137931,
          "symbol": "circle"
         },
         "mode": "markers",
         "name": "Student_16",
         "text": [
          "27",
          "13",
          "23",
          "18",
          "19",
          "10",
          "0",
          "7"
         ],
         "type": "scatter",
         "uid": "22ce520c-e1ad-11e8-81b5-2d0a4fadc81a",
         "x": [
          "Student_16",
          "Student_16",
          "Student_16",
          "Student_16",
          "Student_16",
          "Student_16",
          "Student_16",
          "Student_16",
          "Student_16"
         ],
         "y": [
          "Video1",
          "Video2",
          "Quiz1",
          "Quiz2",
          "Pdf1",
          "Pdf2",
          "Ebook1",
          "Ebook2"
         ]
        },
        {
         "marker": {
          "line": {
           "width": 2
          },
          "size": [
           28,
           8,
           0,
           18,
           28,
           3,
           21,
           21
          ],
          "sizemode": "area",
          "sizeref": 0.06896551724137931,
          "symbol": "circle"
         },
         "mode": "markers",
         "name": "Student_17",
         "text": [
          "28",
          "8",
          "0",
          "18",
          "28",
          "3",
          "21",
          "21"
         ],
         "type": "scatter",
         "uid": "22ce52b6-e1ad-11e8-81b5-2d0a4fadc81a",
         "x": [
          "Student_17",
          "Student_17",
          "Student_17",
          "Student_17",
          "Student_17",
          "Student_17",
          "Student_17",
          "Student_17",
          "Student_17"
         ],
         "y": [
          "Video1",
          "Video2",
          "Quiz1",
          "Quiz2",
          "Pdf1",
          "Pdf2",
          "Ebook1",
          "Ebook2"
         ]
        },
        {
         "marker": {
          "line": {
           "width": 2
          },
          "size": [
           0,
           12,
           24,
           3,
           1,
           2,
           10,
           5
          ],
          "sizemode": "area",
          "sizeref": 0.06896551724137931,
          "symbol": "circle"
         },
         "mode": "markers",
         "name": "Student_18",
         "text": [
          "0",
          "12",
          "24",
          "3",
          "1",
          "2",
          "10",
          "5"
         ],
         "type": "scatter",
         "uid": "22ce5338-e1ad-11e8-81b5-2d0a4fadc81a",
         "x": [
          "Student_18",
          "Student_18",
          "Student_18",
          "Student_18",
          "Student_18",
          "Student_18",
          "Student_18",
          "Student_18",
          "Student_18"
         ],
         "y": [
          "Video1",
          "Video2",
          "Quiz1",
          "Quiz2",
          "Pdf1",
          "Pdf2",
          "Ebook1",
          "Ebook2"
         ]
        },
        {
         "marker": {
          "line": {
           "width": 2
          },
          "size": [
           9,
           9,
           2,
           19,
           11,
           3,
           16,
           10
          ],
          "sizemode": "area",
          "sizeref": 0.06896551724137931,
          "symbol": "circle"
         },
         "mode": "markers",
         "name": "Student_19",
         "text": [
          "9",
          "9",
          "2",
          "19",
          "11",
          "3",
          "16",
          "10"
         ],
         "type": "scatter",
         "uid": "22ce53ba-e1ad-11e8-81b5-2d0a4fadc81a",
         "x": [
          "Student_19",
          "Student_19",
          "Student_19",
          "Student_19",
          "Student_19",
          "Student_19",
          "Student_19",
          "Student_19",
          "Student_19"
         ],
         "y": [
          "Video1",
          "Video2",
          "Quiz1",
          "Quiz2",
          "Pdf1",
          "Pdf2",
          "Ebook1",
          "Ebook2"
         ]
        },
        {
         "marker": {
          "line": {
           "width": 2
          },
          "size": [
           18,
           18,
           21,
           7,
           29,
           7,
           18,
           1
          ],
          "sizemode": "area",
          "sizeref": 0.06896551724137931,
          "symbol": "circle"
         },
         "mode": "markers",
         "name": "Student_20",
         "text": [
          "18",
          "18",
          "21",
          "7",
          "29",
          "7",
          "18",
          "1"
         ],
         "type": "scatter",
         "uid": "22ce5432-e1ad-11e8-81b5-2d0a4fadc81a",
         "x": [
          "Student_20",
          "Student_20",
          "Student_20",
          "Student_20",
          "Student_20",
          "Student_20",
          "Student_20",
          "Student_20",
          "Student_20"
         ],
         "y": [
          "Video1",
          "Video2",
          "Quiz1",
          "Quiz2",
          "Pdf1",
          "Pdf2",
          "Ebook1",
          "Ebook2"
         ]
        }
       ],
       "layout": {
        "hovermode": "closest",
        "showlegend": true,
        "title": "Número de acessos nos materiais por estudante",
        "xaxis": {
         "autorange": false,
         "categoryorder": "category ascending",
         "fixedrange": false,
         "range": [
          -1,
          20
         ],
         "rangemode": "normal",
         "showline": true,
         "title": "Estudantes",
         "type": "category"
        },
        "yaxis": {
         "autorange": false,
         "categoryorder": "category ascending",
         "fixedrange": false,
         "range": [
          -1,
          8
         ],
         "rangemode": "normal",
         "showline": true,
         "title": "Materiais",
         "type": "category"
        }
       }
      },
      "text/html": [
       "<div id=\"5a2805ed-94c6-40e6-95fc-9784854a35ce\" style=\"height: 525px; width: 100%;\" class=\"plotly-graph-div\"></div><script type=\"text/javascript\">require([\"plotly\"], function(Plotly) { window.PLOTLYENV=window.PLOTLYENV || {};window.PLOTLYENV.BASE_URL=\"https://plot.ly\";Plotly.newPlot(\"5a2805ed-94c6-40e6-95fc-9784854a35ce\", [{\"marker\": {\"line\": {\"width\": 2}, \"size\": [16, 13, 10, 8, 20, 25, 29, 13], \"sizemode\": \"area\", \"sizeref\": 0.06896551724137931, \"symbol\": \"circle\"}, \"mode\": \"markers\", \"name\": \"Student_1\", \"text\": [\"16\", \"13\", \"10\", \"8\", \"20\", \"25\", \"29\", \"13\"], \"x\": [\"Student_1\", \"Student_1\", \"Student_1\", \"Student_1\", \"Student_1\", \"Student_1\", \"Student_1\", \"Student_1\", \"Student_1\"], \"y\": [\"Video1\", \"Video2\", \"Quiz1\", \"Quiz2\", \"Pdf1\", \"Pdf2\", \"Ebook1\", \"Ebook2\"], \"type\": \"scatter\", \"uid\": \"22ce48a2-e1ad-11e8-81b5-2d0a4fadc81a\"}, {\"marker\": {\"line\": {\"width\": 2}, \"size\": [7, 8, 8, 23, 26, 17, 12, 28], \"sizemode\": \"area\", \"sizeref\": 0.06896551724137931, \"symbol\": \"circle\"}, \"mode\": \"markers\", \"name\": \"Student_2\", \"text\": [\"7\", \"8\", \"8\", \"23\", \"26\", \"17\", \"12\", \"28\"], \"x\": [\"Student_2\", \"Student_2\", \"Student_2\", \"Student_2\", \"Student_2\", \"Student_2\", \"Student_2\", \"Student_2\", \"Student_2\"], \"y\": [\"Video1\", \"Video2\", \"Quiz1\", \"Quiz2\", \"Pdf1\", \"Pdf2\", \"Ebook1\", \"Ebook2\"], \"type\": \"scatter\", \"uid\": \"22ce4a46-e1ad-11e8-81b5-2d0a4fadc81a\"}, {\"marker\": {\"line\": {\"width\": 2}, \"size\": [21, 27, 7, 19, 3, 26, 28, 11], \"sizemode\": \"area\", \"sizeref\": 0.06896551724137931, \"symbol\": \"circle\"}, \"mode\": \"markers\", \"name\": \"Student_3\", \"text\": [\"21\", \"27\", \"7\", \"19\", \"3\", \"26\", \"28\", \"11\"], \"x\": [\"Student_3\", \"Student_3\", \"Student_3\", \"Student_3\", \"Student_3\", \"Student_3\", \"Student_3\", \"Student_3\", \"Student_3\"], \"y\": [\"Video1\", \"Video2\", \"Quiz1\", \"Quiz2\", \"Pdf1\", \"Pdf2\", \"Ebook1\", \"Ebook2\"], \"type\": \"scatter\", \"uid\": \"22ce4b04-e1ad-11e8-81b5-2d0a4fadc81a\"}, {\"marker\": {\"line\": {\"width\": 2}, \"size\": [0, 19, 2, 20, 4, 6, 26, 20], \"sizemode\": \"area\", \"sizeref\": 0.06896551724137931, \"symbol\": \"circle\"}, \"mode\": \"markers\", \"name\": \"Student_4\", \"text\": [\"0\", \"19\", \"2\", \"20\", \"4\", \"6\", \"26\", \"20\"], \"x\": [\"Student_4\", \"Student_4\", \"Student_4\", \"Student_4\", \"Student_4\", \"Student_4\", \"Student_4\", \"Student_4\", \"Student_4\"], \"y\": [\"Video1\", \"Video2\", \"Quiz1\", \"Quiz2\", \"Pdf1\", \"Pdf2\", \"Ebook1\", \"Ebook2\"], \"type\": \"scatter\", \"uid\": \"22ce4ba4-e1ad-11e8-81b5-2d0a4fadc81a\"}, {\"marker\": {\"line\": {\"width\": 2}, \"size\": [27, 0, 21, 18, 3, 8, 22, 13], \"sizemode\": \"area\", \"sizeref\": 0.06896551724137931, \"symbol\": \"circle\"}, \"mode\": \"markers\", \"name\": \"Student_5\", \"text\": [\"27\", \"0\", \"21\", \"18\", \"3\", \"8\", \"22\", \"13\"], \"x\": [\"Student_5\", \"Student_5\", \"Student_5\", \"Student_5\", \"Student_5\", \"Student_5\", \"Student_5\", \"Student_5\", \"Student_5\"], \"y\": [\"Video1\", \"Video2\", \"Quiz1\", \"Quiz2\", \"Pdf1\", \"Pdf2\", \"Ebook1\", \"Ebook2\"], \"type\": \"scatter\", \"uid\": \"22ce4c3a-e1ad-11e8-81b5-2d0a4fadc81a\"}, {\"marker\": {\"line\": {\"width\": 2}, \"size\": [19, 5, 13, 8, 6, 16, 27, 20], \"sizemode\": \"area\", \"sizeref\": 0.06896551724137931, \"symbol\": \"circle\"}, \"mode\": \"markers\", \"name\": \"Student_6\", \"text\": [\"19\", \"5\", \"13\", \"8\", \"6\", \"16\", \"27\", \"20\"], \"x\": [\"Student_6\", \"Student_6\", \"Student_6\", \"Student_6\", \"Student_6\", \"Student_6\", \"Student_6\", \"Student_6\", \"Student_6\"], \"y\": [\"Video1\", \"Video2\", \"Quiz1\", \"Quiz2\", \"Pdf1\", \"Pdf2\", \"Ebook1\", \"Ebook2\"], \"type\": \"scatter\", \"uid\": \"22ce4cc6-e1ad-11e8-81b5-2d0a4fadc81a\"}, {\"marker\": {\"line\": {\"width\": 2}, \"size\": [25, 10, 17, 10, 6, 11, 7, 28], \"sizemode\": \"area\", \"sizeref\": 0.06896551724137931, \"symbol\": \"circle\"}, \"mode\": \"markers\", \"name\": \"Student_7\", \"text\": [\"25\", \"10\", \"17\", \"10\", \"6\", \"11\", \"7\", \"28\"], \"x\": [\"Student_7\", \"Student_7\", \"Student_7\", \"Student_7\", \"Student_7\", \"Student_7\", \"Student_7\", \"Student_7\", \"Student_7\"], \"y\": [\"Video1\", \"Video2\", \"Quiz1\", \"Quiz2\", \"Pdf1\", \"Pdf2\", \"Ebook1\", \"Ebook2\"], \"type\": \"scatter\", \"uid\": \"22ce4d52-e1ad-11e8-81b5-2d0a4fadc81a\"}, {\"marker\": {\"line\": {\"width\": 2}, \"size\": [5, 6, 14, 12, 27, 6, 7, 8], \"sizemode\": \"area\", \"sizeref\": 0.06896551724137931, \"symbol\": \"circle\"}, \"mode\": \"markers\", \"name\": \"Student_8\", \"text\": [\"5\", \"6\", \"14\", \"12\", \"27\", \"6\", \"7\", \"8\"], \"x\": [\"Student_8\", \"Student_8\", \"Student_8\", \"Student_8\", \"Student_8\", \"Student_8\", \"Student_8\", \"Student_8\", \"Student_8\"], \"y\": [\"Video1\", \"Video2\", \"Quiz1\", \"Quiz2\", \"Pdf1\", \"Pdf2\", \"Ebook1\", \"Ebook2\"], \"type\": \"scatter\", \"uid\": \"22ce4dde-e1ad-11e8-81b5-2d0a4fadc81a\"}, {\"marker\": {\"line\": {\"width\": 2}, \"size\": [17, 19, 13, 23, 0, 22, 3, 28], \"sizemode\": \"area\", \"sizeref\": 0.06896551724137931, \"symbol\": \"circle\"}, \"mode\": \"markers\", \"name\": \"Student_9\", \"text\": [\"17\", \"19\", \"13\", \"23\", \"0\", \"22\", \"3\", \"28\"], \"x\": [\"Student_9\", \"Student_9\", \"Student_9\", \"Student_9\", \"Student_9\", \"Student_9\", \"Student_9\", \"Student_9\", \"Student_9\"], \"y\": [\"Video1\", \"Video2\", \"Quiz1\", \"Quiz2\", \"Pdf1\", \"Pdf2\", \"Ebook1\", \"Ebook2\"], \"type\": \"scatter\", \"uid\": \"22ce4e60-e1ad-11e8-81b5-2d0a4fadc81a\"}, {\"marker\": {\"line\": {\"width\": 2}, \"size\": [9, 1, 0, 6, 14, 23, 9, 2], \"sizemode\": \"area\", \"sizeref\": 0.06896551724137931, \"symbol\": \"circle\"}, \"mode\": \"markers\", \"name\": \"Student_10\", \"text\": [\"9\", \"1\", \"0\", \"6\", \"14\", \"23\", \"9\", \"2\"], \"x\": [\"Student_10\", \"Student_10\", \"Student_10\", \"Student_10\", \"Student_10\", \"Student_10\", \"Student_10\", \"Student_10\", \"Student_10\"], \"y\": [\"Video1\", \"Video2\", \"Quiz1\", \"Quiz2\", \"Pdf1\", \"Pdf2\", \"Ebook1\", \"Ebook2\"], \"type\": \"scatter\", \"uid\": \"22ce4ee2-e1ad-11e8-81b5-2d0a4fadc81a\"}, {\"marker\": {\"line\": {\"width\": 2}, \"size\": [5, 29, 28, 19, 4, 2, 3, 6], \"sizemode\": \"area\", \"sizeref\": 0.06896551724137931, \"symbol\": \"circle\"}, \"mode\": \"markers\", \"name\": \"Student_11\", \"text\": [\"5\", \"29\", \"28\", \"19\", \"4\", \"2\", \"3\", \"6\"], \"x\": [\"Student_11\", \"Student_11\", \"Student_11\", \"Student_11\", \"Student_11\", \"Student_11\", \"Student_11\", \"Student_11\", \"Student_11\"], \"y\": [\"Video1\", \"Video2\", \"Quiz1\", \"Quiz2\", \"Pdf1\", \"Pdf2\", \"Ebook1\", \"Ebook2\"], \"type\": \"scatter\", \"uid\": \"22ce4f64-e1ad-11e8-81b5-2d0a4fadc81a\"}, {\"marker\": {\"line\": {\"width\": 2}, \"size\": [19, 23, 11, 15, 10, 4, 8, 13], \"sizemode\": \"area\", \"sizeref\": 0.06896551724137931, \"symbol\": \"circle\"}, \"mode\": \"markers\", \"name\": \"Student_12\", \"text\": [\"19\", \"23\", \"11\", \"15\", \"10\", \"4\", \"8\", \"13\"], \"x\": [\"Student_12\", \"Student_12\", \"Student_12\", \"Student_12\", \"Student_12\", \"Student_12\", \"Student_12\", \"Student_12\", \"Student_12\"], \"y\": [\"Video1\", \"Video2\", \"Quiz1\", \"Quiz2\", \"Pdf1\", \"Pdf2\", \"Ebook1\", \"Ebook2\"], \"type\": \"scatter\", \"uid\": \"22ce4fe6-e1ad-11e8-81b5-2d0a4fadc81a\"}, {\"marker\": {\"line\": {\"width\": 2}, \"size\": [13, 17, 28, 14, 7, 14, 28, 29], \"sizemode\": \"area\", \"sizeref\": 0.06896551724137931, \"symbol\": \"circle\"}, \"mode\": \"markers\", \"name\": \"Student_13\", \"text\": [\"13\", \"17\", \"28\", \"14\", \"7\", \"14\", \"28\", \"29\"], \"x\": [\"Student_13\", \"Student_13\", \"Student_13\", \"Student_13\", \"Student_13\", \"Student_13\", \"Student_13\", \"Student_13\", \"Student_13\"], \"y\": [\"Video1\", \"Video2\", \"Quiz1\", \"Quiz2\", \"Pdf1\", \"Pdf2\", \"Ebook1\", \"Ebook2\"], \"type\": \"scatter\", \"uid\": \"22ce5068-e1ad-11e8-81b5-2d0a4fadc81a\"}, {\"marker\": {\"line\": {\"width\": 2}, \"size\": [16, 8, 28, 24, 7, 12, 18, 16], \"sizemode\": \"area\", \"sizeref\": 0.06896551724137931, \"symbol\": \"circle\"}, \"mode\": \"markers\", \"name\": \"Student_14\", \"text\": [\"16\", \"8\", \"28\", \"24\", \"7\", \"12\", \"18\", \"16\"], \"x\": [\"Student_14\", \"Student_14\", \"Student_14\", \"Student_14\", \"Student_14\", \"Student_14\", \"Student_14\", \"Student_14\", \"Student_14\"], \"y\": [\"Video1\", \"Video2\", \"Quiz1\", \"Quiz2\", \"Pdf1\", \"Pdf2\", \"Ebook1\", \"Ebook2\"], \"type\": \"scatter\", \"uid\": \"22ce50fe-e1ad-11e8-81b5-2d0a4fadc81a\"}, {\"marker\": {\"line\": {\"width\": 2}, \"size\": [8, 3, 19, 23, 23, 3, 3, 11], \"sizemode\": \"area\", \"sizeref\": 0.06896551724137931, \"symbol\": \"circle\"}, \"mode\": \"markers\", \"name\": \"Student_15\", \"text\": [\"8\", \"3\", \"19\", \"23\", \"23\", \"3\", \"3\", \"11\"], \"x\": [\"Student_15\", \"Student_15\", \"Student_15\", \"Student_15\", \"Student_15\", \"Student_15\", \"Student_15\", \"Student_15\", \"Student_15\"], \"y\": [\"Video1\", \"Video2\", \"Quiz1\", \"Quiz2\", \"Pdf1\", \"Pdf2\", \"Ebook1\", \"Ebook2\"], \"type\": \"scatter\", \"uid\": \"22ce518a-e1ad-11e8-81b5-2d0a4fadc81a\"}, {\"marker\": {\"line\": {\"width\": 2}, \"size\": [27, 13, 23, 18, 19, 10, 0, 7], \"sizemode\": \"area\", \"sizeref\": 0.06896551724137931, \"symbol\": \"circle\"}, \"mode\": \"markers\", \"name\": \"Student_16\", \"text\": [\"27\", \"13\", \"23\", \"18\", \"19\", \"10\", \"0\", \"7\"], \"x\": [\"Student_16\", \"Student_16\", \"Student_16\", \"Student_16\", \"Student_16\", \"Student_16\", \"Student_16\", \"Student_16\", \"Student_16\"], \"y\": [\"Video1\", \"Video2\", \"Quiz1\", \"Quiz2\", \"Pdf1\", \"Pdf2\", \"Ebook1\", \"Ebook2\"], \"type\": \"scatter\", \"uid\": \"22ce520c-e1ad-11e8-81b5-2d0a4fadc81a\"}, {\"marker\": {\"line\": {\"width\": 2}, \"size\": [28, 8, 0, 18, 28, 3, 21, 21], \"sizemode\": \"area\", \"sizeref\": 0.06896551724137931, \"symbol\": \"circle\"}, \"mode\": \"markers\", \"name\": \"Student_17\", \"text\": [\"28\", \"8\", \"0\", \"18\", \"28\", \"3\", \"21\", \"21\"], \"x\": [\"Student_17\", \"Student_17\", \"Student_17\", \"Student_17\", \"Student_17\", \"Student_17\", \"Student_17\", \"Student_17\", \"Student_17\"], \"y\": [\"Video1\", \"Video2\", \"Quiz1\", \"Quiz2\", \"Pdf1\", \"Pdf2\", \"Ebook1\", \"Ebook2\"], \"type\": \"scatter\", \"uid\": \"22ce52b6-e1ad-11e8-81b5-2d0a4fadc81a\"}, {\"marker\": {\"line\": {\"width\": 2}, \"size\": [0, 12, 24, 3, 1, 2, 10, 5], \"sizemode\": \"area\", \"sizeref\": 0.06896551724137931, \"symbol\": \"circle\"}, \"mode\": \"markers\", \"name\": \"Student_18\", \"text\": [\"0\", \"12\", \"24\", \"3\", \"1\", \"2\", \"10\", \"5\"], \"x\": [\"Student_18\", \"Student_18\", \"Student_18\", \"Student_18\", \"Student_18\", \"Student_18\", \"Student_18\", \"Student_18\", \"Student_18\"], \"y\": [\"Video1\", \"Video2\", \"Quiz1\", \"Quiz2\", \"Pdf1\", \"Pdf2\", \"Ebook1\", \"Ebook2\"], \"type\": \"scatter\", \"uid\": \"22ce5338-e1ad-11e8-81b5-2d0a4fadc81a\"}, {\"marker\": {\"line\": {\"width\": 2}, \"size\": [9, 9, 2, 19, 11, 3, 16, 10], \"sizemode\": \"area\", \"sizeref\": 0.06896551724137931, \"symbol\": \"circle\"}, \"mode\": \"markers\", \"name\": \"Student_19\", \"text\": [\"9\", \"9\", \"2\", \"19\", \"11\", \"3\", \"16\", \"10\"], \"x\": [\"Student_19\", \"Student_19\", \"Student_19\", \"Student_19\", \"Student_19\", \"Student_19\", \"Student_19\", \"Student_19\", \"Student_19\"], \"y\": [\"Video1\", \"Video2\", \"Quiz1\", \"Quiz2\", \"Pdf1\", \"Pdf2\", \"Ebook1\", \"Ebook2\"], \"type\": \"scatter\", \"uid\": \"22ce53ba-e1ad-11e8-81b5-2d0a4fadc81a\"}, {\"marker\": {\"line\": {\"width\": 2}, \"size\": [18, 18, 21, 7, 29, 7, 18, 1], \"sizemode\": \"area\", \"sizeref\": 0.06896551724137931, \"symbol\": \"circle\"}, \"mode\": \"markers\", \"name\": \"Student_20\", \"text\": [\"18\", \"18\", \"21\", \"7\", \"29\", \"7\", \"18\", \"1\"], \"x\": [\"Student_20\", \"Student_20\", \"Student_20\", \"Student_20\", \"Student_20\", \"Student_20\", \"Student_20\", \"Student_20\", \"Student_20\"], \"y\": [\"Video1\", \"Video2\", \"Quiz1\", \"Quiz2\", \"Pdf1\", \"Pdf2\", \"Ebook1\", \"Ebook2\"], \"type\": \"scatter\", \"uid\": \"22ce5432-e1ad-11e8-81b5-2d0a4fadc81a\"}], {\"hovermode\": \"closest\", \"showlegend\": true, \"title\": \"N\\u00famero de acessos nos materiais por estudante\", \"xaxis\": {\"autorange\": false, \"categoryorder\": \"category ascending\", \"fixedrange\": false, \"range\": [-1, 20], \"rangemode\": \"normal\", \"showline\": true, \"title\": \"Estudantes\", \"type\": \"category\"}, \"yaxis\": {\"autorange\": false, \"categoryorder\": \"category ascending\", \"fixedrange\": false, \"range\": [-1, 8], \"rangemode\": \"normal\", \"showline\": true, \"title\": \"Materiais\", \"type\": \"category\"}}, {\"showLink\": true, \"linkText\": \"Export to plot.ly\"})});</script>"
      ],
      "text/vnd.plotly.v1+html": [
       "<div id=\"5a2805ed-94c6-40e6-95fc-9784854a35ce\" style=\"height: 525px; width: 100%;\" class=\"plotly-graph-div\"></div><script type=\"text/javascript\">require([\"plotly\"], function(Plotly) { window.PLOTLYENV=window.PLOTLYENV || {};window.PLOTLYENV.BASE_URL=\"https://plot.ly\";Plotly.newPlot(\"5a2805ed-94c6-40e6-95fc-9784854a35ce\", [{\"marker\": {\"line\": {\"width\": 2}, \"size\": [16, 13, 10, 8, 20, 25, 29, 13], \"sizemode\": \"area\", \"sizeref\": 0.06896551724137931, \"symbol\": \"circle\"}, \"mode\": \"markers\", \"name\": \"Student_1\", \"text\": [\"16\", \"13\", \"10\", \"8\", \"20\", \"25\", \"29\", \"13\"], \"x\": [\"Student_1\", \"Student_1\", \"Student_1\", \"Student_1\", \"Student_1\", \"Student_1\", \"Student_1\", \"Student_1\", \"Student_1\"], \"y\": [\"Video1\", \"Video2\", \"Quiz1\", \"Quiz2\", \"Pdf1\", \"Pdf2\", \"Ebook1\", \"Ebook2\"], \"type\": \"scatter\", \"uid\": \"22ce48a2-e1ad-11e8-81b5-2d0a4fadc81a\"}, {\"marker\": {\"line\": {\"width\": 2}, \"size\": [7, 8, 8, 23, 26, 17, 12, 28], \"sizemode\": \"area\", \"sizeref\": 0.06896551724137931, \"symbol\": \"circle\"}, \"mode\": \"markers\", \"name\": \"Student_2\", \"text\": [\"7\", \"8\", \"8\", \"23\", \"26\", \"17\", \"12\", \"28\"], \"x\": [\"Student_2\", \"Student_2\", \"Student_2\", \"Student_2\", \"Student_2\", \"Student_2\", \"Student_2\", \"Student_2\", \"Student_2\"], \"y\": [\"Video1\", \"Video2\", \"Quiz1\", \"Quiz2\", \"Pdf1\", \"Pdf2\", \"Ebook1\", \"Ebook2\"], \"type\": \"scatter\", \"uid\": \"22ce4a46-e1ad-11e8-81b5-2d0a4fadc81a\"}, {\"marker\": {\"line\": {\"width\": 2}, \"size\": [21, 27, 7, 19, 3, 26, 28, 11], \"sizemode\": \"area\", \"sizeref\": 0.06896551724137931, \"symbol\": \"circle\"}, \"mode\": \"markers\", \"name\": \"Student_3\", \"text\": [\"21\", \"27\", \"7\", \"19\", \"3\", \"26\", \"28\", \"11\"], \"x\": [\"Student_3\", \"Student_3\", \"Student_3\", \"Student_3\", \"Student_3\", \"Student_3\", \"Student_3\", \"Student_3\", \"Student_3\"], \"y\": [\"Video1\", \"Video2\", \"Quiz1\", \"Quiz2\", \"Pdf1\", \"Pdf2\", \"Ebook1\", \"Ebook2\"], \"type\": \"scatter\", \"uid\": \"22ce4b04-e1ad-11e8-81b5-2d0a4fadc81a\"}, {\"marker\": {\"line\": {\"width\": 2}, \"size\": [0, 19, 2, 20, 4, 6, 26, 20], \"sizemode\": \"area\", \"sizeref\": 0.06896551724137931, \"symbol\": \"circle\"}, \"mode\": \"markers\", \"name\": \"Student_4\", \"text\": [\"0\", \"19\", \"2\", \"20\", \"4\", \"6\", \"26\", \"20\"], \"x\": [\"Student_4\", \"Student_4\", \"Student_4\", \"Student_4\", \"Student_4\", \"Student_4\", \"Student_4\", \"Student_4\", \"Student_4\"], \"y\": [\"Video1\", \"Video2\", \"Quiz1\", \"Quiz2\", \"Pdf1\", \"Pdf2\", \"Ebook1\", \"Ebook2\"], \"type\": \"scatter\", \"uid\": \"22ce4ba4-e1ad-11e8-81b5-2d0a4fadc81a\"}, {\"marker\": {\"line\": {\"width\": 2}, \"size\": [27, 0, 21, 18, 3, 8, 22, 13], \"sizemode\": \"area\", \"sizeref\": 0.06896551724137931, \"symbol\": \"circle\"}, \"mode\": \"markers\", \"name\": \"Student_5\", \"text\": [\"27\", \"0\", \"21\", \"18\", \"3\", \"8\", \"22\", \"13\"], \"x\": [\"Student_5\", \"Student_5\", \"Student_5\", \"Student_5\", \"Student_5\", \"Student_5\", \"Student_5\", \"Student_5\", \"Student_5\"], \"y\": [\"Video1\", \"Video2\", \"Quiz1\", \"Quiz2\", \"Pdf1\", \"Pdf2\", \"Ebook1\", \"Ebook2\"], \"type\": \"scatter\", \"uid\": \"22ce4c3a-e1ad-11e8-81b5-2d0a4fadc81a\"}, {\"marker\": {\"line\": {\"width\": 2}, \"size\": [19, 5, 13, 8, 6, 16, 27, 20], \"sizemode\": \"area\", \"sizeref\": 0.06896551724137931, \"symbol\": \"circle\"}, \"mode\": \"markers\", \"name\": \"Student_6\", \"text\": [\"19\", \"5\", \"13\", \"8\", \"6\", \"16\", \"27\", \"20\"], \"x\": [\"Student_6\", \"Student_6\", \"Student_6\", \"Student_6\", \"Student_6\", \"Student_6\", \"Student_6\", \"Student_6\", \"Student_6\"], \"y\": [\"Video1\", \"Video2\", \"Quiz1\", \"Quiz2\", \"Pdf1\", \"Pdf2\", \"Ebook1\", \"Ebook2\"], \"type\": \"scatter\", \"uid\": \"22ce4cc6-e1ad-11e8-81b5-2d0a4fadc81a\"}, {\"marker\": {\"line\": {\"width\": 2}, \"size\": [25, 10, 17, 10, 6, 11, 7, 28], \"sizemode\": \"area\", \"sizeref\": 0.06896551724137931, \"symbol\": \"circle\"}, \"mode\": \"markers\", \"name\": \"Student_7\", \"text\": [\"25\", \"10\", \"17\", \"10\", \"6\", \"11\", \"7\", \"28\"], \"x\": [\"Student_7\", \"Student_7\", \"Student_7\", \"Student_7\", \"Student_7\", \"Student_7\", \"Student_7\", \"Student_7\", \"Student_7\"], \"y\": [\"Video1\", \"Video2\", \"Quiz1\", \"Quiz2\", \"Pdf1\", \"Pdf2\", \"Ebook1\", \"Ebook2\"], \"type\": \"scatter\", \"uid\": \"22ce4d52-e1ad-11e8-81b5-2d0a4fadc81a\"}, {\"marker\": {\"line\": {\"width\": 2}, \"size\": [5, 6, 14, 12, 27, 6, 7, 8], \"sizemode\": \"area\", \"sizeref\": 0.06896551724137931, \"symbol\": \"circle\"}, \"mode\": \"markers\", \"name\": \"Student_8\", \"text\": [\"5\", \"6\", \"14\", \"12\", \"27\", \"6\", \"7\", \"8\"], \"x\": [\"Student_8\", \"Student_8\", \"Student_8\", \"Student_8\", \"Student_8\", \"Student_8\", \"Student_8\", \"Student_8\", \"Student_8\"], \"y\": [\"Video1\", \"Video2\", \"Quiz1\", \"Quiz2\", \"Pdf1\", \"Pdf2\", \"Ebook1\", \"Ebook2\"], \"type\": \"scatter\", \"uid\": \"22ce4dde-e1ad-11e8-81b5-2d0a4fadc81a\"}, {\"marker\": {\"line\": {\"width\": 2}, \"size\": [17, 19, 13, 23, 0, 22, 3, 28], \"sizemode\": \"area\", \"sizeref\": 0.06896551724137931, \"symbol\": \"circle\"}, \"mode\": \"markers\", \"name\": \"Student_9\", \"text\": [\"17\", \"19\", \"13\", \"23\", \"0\", \"22\", \"3\", \"28\"], \"x\": [\"Student_9\", \"Student_9\", \"Student_9\", \"Student_9\", \"Student_9\", \"Student_9\", \"Student_9\", \"Student_9\", \"Student_9\"], \"y\": [\"Video1\", \"Video2\", \"Quiz1\", \"Quiz2\", \"Pdf1\", \"Pdf2\", \"Ebook1\", \"Ebook2\"], \"type\": \"scatter\", \"uid\": \"22ce4e60-e1ad-11e8-81b5-2d0a4fadc81a\"}, {\"marker\": {\"line\": {\"width\": 2}, \"size\": [9, 1, 0, 6, 14, 23, 9, 2], \"sizemode\": \"area\", \"sizeref\": 0.06896551724137931, \"symbol\": \"circle\"}, \"mode\": \"markers\", \"name\": \"Student_10\", \"text\": [\"9\", \"1\", \"0\", \"6\", \"14\", \"23\", \"9\", \"2\"], \"x\": [\"Student_10\", \"Student_10\", \"Student_10\", \"Student_10\", \"Student_10\", \"Student_10\", \"Student_10\", \"Student_10\", \"Student_10\"], \"y\": [\"Video1\", \"Video2\", \"Quiz1\", \"Quiz2\", \"Pdf1\", \"Pdf2\", \"Ebook1\", \"Ebook2\"], \"type\": \"scatter\", \"uid\": \"22ce4ee2-e1ad-11e8-81b5-2d0a4fadc81a\"}, {\"marker\": {\"line\": {\"width\": 2}, \"size\": [5, 29, 28, 19, 4, 2, 3, 6], \"sizemode\": \"area\", \"sizeref\": 0.06896551724137931, \"symbol\": \"circle\"}, \"mode\": \"markers\", \"name\": \"Student_11\", \"text\": [\"5\", \"29\", \"28\", \"19\", \"4\", \"2\", \"3\", \"6\"], \"x\": [\"Student_11\", \"Student_11\", \"Student_11\", \"Student_11\", \"Student_11\", \"Student_11\", \"Student_11\", \"Student_11\", \"Student_11\"], \"y\": [\"Video1\", \"Video2\", \"Quiz1\", \"Quiz2\", \"Pdf1\", \"Pdf2\", \"Ebook1\", \"Ebook2\"], \"type\": \"scatter\", \"uid\": \"22ce4f64-e1ad-11e8-81b5-2d0a4fadc81a\"}, {\"marker\": {\"line\": {\"width\": 2}, \"size\": [19, 23, 11, 15, 10, 4, 8, 13], \"sizemode\": \"area\", \"sizeref\": 0.06896551724137931, \"symbol\": \"circle\"}, \"mode\": \"markers\", \"name\": \"Student_12\", \"text\": [\"19\", \"23\", \"11\", \"15\", \"10\", \"4\", \"8\", \"13\"], \"x\": [\"Student_12\", \"Student_12\", \"Student_12\", \"Student_12\", \"Student_12\", \"Student_12\", \"Student_12\", \"Student_12\", \"Student_12\"], \"y\": [\"Video1\", \"Video2\", \"Quiz1\", \"Quiz2\", \"Pdf1\", \"Pdf2\", \"Ebook1\", \"Ebook2\"], \"type\": \"scatter\", \"uid\": \"22ce4fe6-e1ad-11e8-81b5-2d0a4fadc81a\"}, {\"marker\": {\"line\": {\"width\": 2}, \"size\": [13, 17, 28, 14, 7, 14, 28, 29], \"sizemode\": \"area\", \"sizeref\": 0.06896551724137931, \"symbol\": \"circle\"}, \"mode\": \"markers\", \"name\": \"Student_13\", \"text\": [\"13\", \"17\", \"28\", \"14\", \"7\", \"14\", \"28\", \"29\"], \"x\": [\"Student_13\", \"Student_13\", \"Student_13\", \"Student_13\", \"Student_13\", \"Student_13\", \"Student_13\", \"Student_13\", \"Student_13\"], \"y\": [\"Video1\", \"Video2\", \"Quiz1\", \"Quiz2\", \"Pdf1\", \"Pdf2\", \"Ebook1\", \"Ebook2\"], \"type\": \"scatter\", \"uid\": \"22ce5068-e1ad-11e8-81b5-2d0a4fadc81a\"}, {\"marker\": {\"line\": {\"width\": 2}, \"size\": [16, 8, 28, 24, 7, 12, 18, 16], \"sizemode\": \"area\", \"sizeref\": 0.06896551724137931, \"symbol\": \"circle\"}, \"mode\": \"markers\", \"name\": \"Student_14\", \"text\": [\"16\", \"8\", \"28\", \"24\", \"7\", \"12\", \"18\", \"16\"], \"x\": [\"Student_14\", \"Student_14\", \"Student_14\", \"Student_14\", \"Student_14\", \"Student_14\", \"Student_14\", \"Student_14\", \"Student_14\"], \"y\": [\"Video1\", \"Video2\", \"Quiz1\", \"Quiz2\", \"Pdf1\", \"Pdf2\", \"Ebook1\", \"Ebook2\"], \"type\": \"scatter\", \"uid\": \"22ce50fe-e1ad-11e8-81b5-2d0a4fadc81a\"}, {\"marker\": {\"line\": {\"width\": 2}, \"size\": [8, 3, 19, 23, 23, 3, 3, 11], \"sizemode\": \"area\", \"sizeref\": 0.06896551724137931, \"symbol\": \"circle\"}, \"mode\": \"markers\", \"name\": \"Student_15\", \"text\": [\"8\", \"3\", \"19\", \"23\", \"23\", \"3\", \"3\", \"11\"], \"x\": [\"Student_15\", \"Student_15\", \"Student_15\", \"Student_15\", \"Student_15\", \"Student_15\", \"Student_15\", \"Student_15\", \"Student_15\"], \"y\": [\"Video1\", \"Video2\", \"Quiz1\", \"Quiz2\", \"Pdf1\", \"Pdf2\", \"Ebook1\", \"Ebook2\"], \"type\": \"scatter\", \"uid\": \"22ce518a-e1ad-11e8-81b5-2d0a4fadc81a\"}, {\"marker\": {\"line\": {\"width\": 2}, \"size\": [27, 13, 23, 18, 19, 10, 0, 7], \"sizemode\": \"area\", \"sizeref\": 0.06896551724137931, \"symbol\": \"circle\"}, \"mode\": \"markers\", \"name\": \"Student_16\", \"text\": [\"27\", \"13\", \"23\", \"18\", \"19\", \"10\", \"0\", \"7\"], \"x\": [\"Student_16\", \"Student_16\", \"Student_16\", \"Student_16\", \"Student_16\", \"Student_16\", \"Student_16\", \"Student_16\", \"Student_16\"], \"y\": [\"Video1\", \"Video2\", \"Quiz1\", \"Quiz2\", \"Pdf1\", \"Pdf2\", \"Ebook1\", \"Ebook2\"], \"type\": \"scatter\", \"uid\": \"22ce520c-e1ad-11e8-81b5-2d0a4fadc81a\"}, {\"marker\": {\"line\": {\"width\": 2}, \"size\": [28, 8, 0, 18, 28, 3, 21, 21], \"sizemode\": \"area\", \"sizeref\": 0.06896551724137931, \"symbol\": \"circle\"}, \"mode\": \"markers\", \"name\": \"Student_17\", \"text\": [\"28\", \"8\", \"0\", \"18\", \"28\", \"3\", \"21\", \"21\"], \"x\": [\"Student_17\", \"Student_17\", \"Student_17\", \"Student_17\", \"Student_17\", \"Student_17\", \"Student_17\", \"Student_17\", \"Student_17\"], \"y\": [\"Video1\", \"Video2\", \"Quiz1\", \"Quiz2\", \"Pdf1\", \"Pdf2\", \"Ebook1\", \"Ebook2\"], \"type\": \"scatter\", \"uid\": \"22ce52b6-e1ad-11e8-81b5-2d0a4fadc81a\"}, {\"marker\": {\"line\": {\"width\": 2}, \"size\": [0, 12, 24, 3, 1, 2, 10, 5], \"sizemode\": \"area\", \"sizeref\": 0.06896551724137931, \"symbol\": \"circle\"}, \"mode\": \"markers\", \"name\": \"Student_18\", \"text\": [\"0\", \"12\", \"24\", \"3\", \"1\", \"2\", \"10\", \"5\"], \"x\": [\"Student_18\", \"Student_18\", \"Student_18\", \"Student_18\", \"Student_18\", \"Student_18\", \"Student_18\", \"Student_18\", \"Student_18\"], \"y\": [\"Video1\", \"Video2\", \"Quiz1\", \"Quiz2\", \"Pdf1\", \"Pdf2\", \"Ebook1\", \"Ebook2\"], \"type\": \"scatter\", \"uid\": \"22ce5338-e1ad-11e8-81b5-2d0a4fadc81a\"}, {\"marker\": {\"line\": {\"width\": 2}, \"size\": [9, 9, 2, 19, 11, 3, 16, 10], \"sizemode\": \"area\", \"sizeref\": 0.06896551724137931, \"symbol\": \"circle\"}, \"mode\": \"markers\", \"name\": \"Student_19\", \"text\": [\"9\", \"9\", \"2\", \"19\", \"11\", \"3\", \"16\", \"10\"], \"x\": [\"Student_19\", \"Student_19\", \"Student_19\", \"Student_19\", \"Student_19\", \"Student_19\", \"Student_19\", \"Student_19\", \"Student_19\"], \"y\": [\"Video1\", \"Video2\", \"Quiz1\", \"Quiz2\", \"Pdf1\", \"Pdf2\", \"Ebook1\", \"Ebook2\"], \"type\": \"scatter\", \"uid\": \"22ce53ba-e1ad-11e8-81b5-2d0a4fadc81a\"}, {\"marker\": {\"line\": {\"width\": 2}, \"size\": [18, 18, 21, 7, 29, 7, 18, 1], \"sizemode\": \"area\", \"sizeref\": 0.06896551724137931, \"symbol\": \"circle\"}, \"mode\": \"markers\", \"name\": \"Student_20\", \"text\": [\"18\", \"18\", \"21\", \"7\", \"29\", \"7\", \"18\", \"1\"], \"x\": [\"Student_20\", \"Student_20\", \"Student_20\", \"Student_20\", \"Student_20\", \"Student_20\", \"Student_20\", \"Student_20\", \"Student_20\"], \"y\": [\"Video1\", \"Video2\", \"Quiz1\", \"Quiz2\", \"Pdf1\", \"Pdf2\", \"Ebook1\", \"Ebook2\"], \"type\": \"scatter\", \"uid\": \"22ce5432-e1ad-11e8-81b5-2d0a4fadc81a\"}], {\"hovermode\": \"closest\", \"showlegend\": true, \"title\": \"N\\u00famero de acessos nos materiais por estudante\", \"xaxis\": {\"autorange\": false, \"categoryorder\": \"category ascending\", \"fixedrange\": false, \"range\": [-1, 20], \"rangemode\": \"normal\", \"showline\": true, \"title\": \"Estudantes\", \"type\": \"category\"}, \"yaxis\": {\"autorange\": false, \"categoryorder\": \"category ascending\", \"fixedrange\": false, \"range\": [-1, 8], \"rangemode\": \"normal\", \"showline\": true, \"title\": \"Materiais\", \"type\": \"category\"}}, {\"showLink\": true, \"linkText\": \"Export to plot.ly\"})});</script>"
      ]
     },
     "metadata": {},
     "output_type": "display_data"
    }
   ],
   "source": [
    "run scripts/V002.py"
   ]
  },
  {
   "cell_type": "markdown",
   "metadata": {},
   "source": [
    "### View 003"
   ]
  },
  {
   "cell_type": "code",
   "execution_count": 32,
   "metadata": {
    "scrolled": true
   },
   "outputs": [
    {
     "data": {
      "text/html": [
       "<script>requirejs.config({paths: { 'plotly': ['https://cdn.plot.ly/plotly-latest.min']},});if(!window.Plotly) {{require(['plotly'],function(plotly) {window.Plotly=plotly;});}}</script>"
      ],
      "text/vnd.plotly.v1+html": [
       "<script>requirejs.config({paths: { 'plotly': ['https://cdn.plot.ly/plotly-latest.min']},});if(!window.Plotly) {{require(['plotly'],function(plotly) {window.Plotly=plotly;});}}</script>"
      ]
     },
     "metadata": {},
     "output_type": "display_data"
    },
    {
     "data": {
      "application/vnd.plotly.v1+json": {
       "data": [
        {
         "cells": {
          "align": [
           "left",
           "center"
          ],
          "fill": {
           "color": "#F5F8FF"
          },
          "values": [
           [
            "Student_1",
            "Student_2",
            "Student_3",
            "Student_4",
            "Student_5",
            "Student_6",
            "Student_7",
            "Student_8",
            "Student_9",
            "Student_10",
            "Student_11",
            "Student_12",
            "Student_13",
            "Student_14",
            "Student_15",
            "Student_16",
            "Student_17",
            "Student_18",
            "Student_19",
            "Student_20"
           ],
           [
            14,
            6,
            13,
            5,
            13,
            18,
            6,
            2,
            10,
            16,
            2,
            2,
            19,
            8,
            1,
            13,
            2,
            8,
            10,
            2
           ],
           [
            6,
            15,
            7,
            18,
            3,
            10,
            12,
            5,
            14,
            18,
            17,
            13,
            11,
            9,
            0,
            15,
            3,
            17,
            17,
            14
           ],
           [
            16,
            17,
            14,
            18,
            1,
            6,
            19,
            16,
            19,
            11,
            19,
            19,
            3,
            4,
            0,
            18,
            2,
            3,
            0,
            14
           ]
          ]
         },
         "header": {
          "align": "center",
          "fill": {
           "color": "#C2D4FF"
          },
          "values": [
           "Students",
           "Hits",
           "Readings",
           "Posts"
          ]
         },
         "type": "table",
         "uid": "ab405b3a-e1c6-11e8-81b5-2d0a4fadc81a"
        }
       ],
       "layout": {}
      },
      "text/html": [
       "<div id=\"2b8477b4-e9be-414b-a468-d2244e7d7250\" style=\"height: 525px; width: 100%;\" class=\"plotly-graph-div\"></div><script type=\"text/javascript\">require([\"plotly\"], function(Plotly) { window.PLOTLYENV=window.PLOTLYENV || {};window.PLOTLYENV.BASE_URL=\"https://plot.ly\";Plotly.newPlot(\"2b8477b4-e9be-414b-a468-d2244e7d7250\", [{\"cells\": {\"align\": [\"left\", \"center\"], \"fill\": {\"color\": \"#F5F8FF\"}, \"values\": [[\"Student_1\", \"Student_2\", \"Student_3\", \"Student_4\", \"Student_5\", \"Student_6\", \"Student_7\", \"Student_8\", \"Student_9\", \"Student_10\", \"Student_11\", \"Student_12\", \"Student_13\", \"Student_14\", \"Student_15\", \"Student_16\", \"Student_17\", \"Student_18\", \"Student_19\", \"Student_20\"], [14, 6, 13, 5, 13, 18, 6, 2, 10, 16, 2, 2, 19, 8, 1, 13, 2, 8, 10, 2], [6, 15, 7, 18, 3, 10, 12, 5, 14, 18, 17, 13, 11, 9, 0, 15, 3, 17, 17, 14], [16, 17, 14, 18, 1, 6, 19, 16, 19, 11, 19, 19, 3, 4, 0, 18, 2, 3, 0, 14]]}, \"header\": {\"align\": \"center\", \"fill\": {\"color\": \"#C2D4FF\"}, \"values\": [\"Students\", \"Hits\", \"Readings\", \"Posts\"]}, \"type\": \"table\", \"uid\": \"ab4284be-e1c6-11e8-81b5-2d0a4fadc81a\"}], {}, {\"showLink\": true, \"linkText\": \"Export to plot.ly\"})});</script>"
      ],
      "text/vnd.plotly.v1+html": [
       "<div id=\"2b8477b4-e9be-414b-a468-d2244e7d7250\" style=\"height: 525px; width: 100%;\" class=\"plotly-graph-div\"></div><script type=\"text/javascript\">require([\"plotly\"], function(Plotly) { window.PLOTLYENV=window.PLOTLYENV || {};window.PLOTLYENV.BASE_URL=\"https://plot.ly\";Plotly.newPlot(\"2b8477b4-e9be-414b-a468-d2244e7d7250\", [{\"cells\": {\"align\": [\"left\", \"center\"], \"fill\": {\"color\": \"#F5F8FF\"}, \"values\": [[\"Student_1\", \"Student_2\", \"Student_3\", \"Student_4\", \"Student_5\", \"Student_6\", \"Student_7\", \"Student_8\", \"Student_9\", \"Student_10\", \"Student_11\", \"Student_12\", \"Student_13\", \"Student_14\", \"Student_15\", \"Student_16\", \"Student_17\", \"Student_18\", \"Student_19\", \"Student_20\"], [14, 6, 13, 5, 13, 18, 6, 2, 10, 16, 2, 2, 19, 8, 1, 13, 2, 8, 10, 2], [6, 15, 7, 18, 3, 10, 12, 5, 14, 18, 17, 13, 11, 9, 0, 15, 3, 17, 17, 14], [16, 17, 14, 18, 1, 6, 19, 16, 19, 11, 19, 19, 3, 4, 0, 18, 2, 3, 0, 14]]}, \"header\": {\"align\": \"center\", \"fill\": {\"color\": \"#C2D4FF\"}, \"values\": [\"Students\", \"Hits\", \"Readings\", \"Posts\"]}, \"type\": \"table\", \"uid\": \"ab4284be-e1c6-11e8-81b5-2d0a4fadc81a\"}], {}, {\"showLink\": true, \"linkText\": \"Export to plot.ly\"})});</script>"
      ]
     },
     "metadata": {},
     "output_type": "display_data"
    },
    {
     "data": {
      "application/vnd.plotly.v1+json": {
       "data": [
        {
         "name": "Hits",
         "type": "bar",
         "uid": "ab48ac9a-e1c6-11e8-81b5-2d0a4fadc81a",
         "x": [
          "Student_1",
          "Student_2",
          "Student_3",
          "Student_4",
          "Student_5",
          "Student_6",
          "Student_7",
          "Student_8",
          "Student_9",
          "Student_10",
          "Student_11",
          "Student_12",
          "Student_13",
          "Student_14",
          "Student_15",
          "Student_16",
          "Student_17",
          "Student_18",
          "Student_19",
          "Student_20"
         ],
         "y": [
          14,
          6,
          13,
          5,
          13,
          18,
          6,
          2,
          10,
          16,
          2,
          2,
          19,
          8,
          1,
          13,
          2,
          8,
          10,
          2
         ]
        },
        {
         "name": "Readings",
         "type": "bar",
         "uid": "ab48ae5c-e1c6-11e8-81b5-2d0a4fadc81a",
         "x": [
          "Student_1",
          "Student_2",
          "Student_3",
          "Student_4",
          "Student_5",
          "Student_6",
          "Student_7",
          "Student_8",
          "Student_9",
          "Student_10",
          "Student_11",
          "Student_12",
          "Student_13",
          "Student_14",
          "Student_15",
          "Student_16",
          "Student_17",
          "Student_18",
          "Student_19",
          "Student_20"
         ],
         "y": [
          6,
          15,
          7,
          18,
          3,
          10,
          12,
          5,
          14,
          18,
          17,
          13,
          11,
          9,
          0,
          15,
          3,
          17,
          17,
          14
         ]
        },
        {
         "name": "Posts",
         "type": "bar",
         "uid": "ab48af38-e1c6-11e8-81b5-2d0a4fadc81a",
         "x": [
          "Student_1",
          "Student_2",
          "Student_3",
          "Student_4",
          "Student_5",
          "Student_6",
          "Student_7",
          "Student_8",
          "Student_9",
          "Student_10",
          "Student_11",
          "Student_12",
          "Student_13",
          "Student_14",
          "Student_15",
          "Student_16",
          "Student_17",
          "Student_18",
          "Student_19",
          "Student_20"
         ],
         "y": [
          16,
          17,
          14,
          18,
          1,
          6,
          19,
          16,
          19,
          11,
          19,
          19,
          3,
          4,
          0,
          18,
          2,
          3,
          0,
          14
         ]
        }
       ],
       "layout": {
        "title": "Número de acessos a Posts, Leituras e Likes agrupados por estudante",
        "yaxis": {
         "dtick": 1,
         "exponentformat": "e",
         "gridcolor": "#bdbdbd",
         "showexponent": "all",
         "showticklabels": true,
         "tick0": 0,
         "titlefont": {
          "color": "lightgrey",
          "family": "Arial, sans-serif"
         }
        }
       }
      },
      "text/html": [
       "<div id=\"34a42efc-62a5-4d34-99bd-1dd49faa1518\" style=\"height: 525px; width: 100%;\" class=\"plotly-graph-div\"></div><script type=\"text/javascript\">require([\"plotly\"], function(Plotly) { window.PLOTLYENV=window.PLOTLYENV || {};window.PLOTLYENV.BASE_URL=\"https://plot.ly\";Plotly.newPlot(\"34a42efc-62a5-4d34-99bd-1dd49faa1518\", [{\"name\": \"Hits\", \"x\": [\"Student_1\", \"Student_2\", \"Student_3\", \"Student_4\", \"Student_5\", \"Student_6\", \"Student_7\", \"Student_8\", \"Student_9\", \"Student_10\", \"Student_11\", \"Student_12\", \"Student_13\", \"Student_14\", \"Student_15\", \"Student_16\", \"Student_17\", \"Student_18\", \"Student_19\", \"Student_20\"], \"y\": [14, 6, 13, 5, 13, 18, 6, 2, 10, 16, 2, 2, 19, 8, 1, 13, 2, 8, 10, 2], \"type\": \"bar\", \"uid\": \"ab48ac9a-e1c6-11e8-81b5-2d0a4fadc81a\"}, {\"name\": \"Readings\", \"x\": [\"Student_1\", \"Student_2\", \"Student_3\", \"Student_4\", \"Student_5\", \"Student_6\", \"Student_7\", \"Student_8\", \"Student_9\", \"Student_10\", \"Student_11\", \"Student_12\", \"Student_13\", \"Student_14\", \"Student_15\", \"Student_16\", \"Student_17\", \"Student_18\", \"Student_19\", \"Student_20\"], \"y\": [6, 15, 7, 18, 3, 10, 12, 5, 14, 18, 17, 13, 11, 9, 0, 15, 3, 17, 17, 14], \"type\": \"bar\", \"uid\": \"ab48ae5c-e1c6-11e8-81b5-2d0a4fadc81a\"}, {\"name\": \"Posts\", \"x\": [\"Student_1\", \"Student_2\", \"Student_3\", \"Student_4\", \"Student_5\", \"Student_6\", \"Student_7\", \"Student_8\", \"Student_9\", \"Student_10\", \"Student_11\", \"Student_12\", \"Student_13\", \"Student_14\", \"Student_15\", \"Student_16\", \"Student_17\", \"Student_18\", \"Student_19\", \"Student_20\"], \"y\": [16, 17, 14, 18, 1, 6, 19, 16, 19, 11, 19, 19, 3, 4, 0, 18, 2, 3, 0, 14], \"type\": \"bar\", \"uid\": \"ab48af38-e1c6-11e8-81b5-2d0a4fadc81a\"}], {\"title\": \"N\\u00famero de acessos a Posts, Leituras e Likes agrupados por estudante\", \"yaxis\": {\"dtick\": 1, \"exponentformat\": \"e\", \"gridcolor\": \"#bdbdbd\", \"showexponent\": \"all\", \"showticklabels\": true, \"tick0\": 0, \"titlefont\": {\"color\": \"lightgrey\", \"family\": \"Arial, sans-serif\"}}}, {\"showLink\": true, \"linkText\": \"Export to plot.ly\"})});</script>"
      ],
      "text/vnd.plotly.v1+html": [
       "<div id=\"34a42efc-62a5-4d34-99bd-1dd49faa1518\" style=\"height: 525px; width: 100%;\" class=\"plotly-graph-div\"></div><script type=\"text/javascript\">require([\"plotly\"], function(Plotly) { window.PLOTLYENV=window.PLOTLYENV || {};window.PLOTLYENV.BASE_URL=\"https://plot.ly\";Plotly.newPlot(\"34a42efc-62a5-4d34-99bd-1dd49faa1518\", [{\"name\": \"Hits\", \"x\": [\"Student_1\", \"Student_2\", \"Student_3\", \"Student_4\", \"Student_5\", \"Student_6\", \"Student_7\", \"Student_8\", \"Student_9\", \"Student_10\", \"Student_11\", \"Student_12\", \"Student_13\", \"Student_14\", \"Student_15\", \"Student_16\", \"Student_17\", \"Student_18\", \"Student_19\", \"Student_20\"], \"y\": [14, 6, 13, 5, 13, 18, 6, 2, 10, 16, 2, 2, 19, 8, 1, 13, 2, 8, 10, 2], \"type\": \"bar\", \"uid\": \"ab48ac9a-e1c6-11e8-81b5-2d0a4fadc81a\"}, {\"name\": \"Readings\", \"x\": [\"Student_1\", \"Student_2\", \"Student_3\", \"Student_4\", \"Student_5\", \"Student_6\", \"Student_7\", \"Student_8\", \"Student_9\", \"Student_10\", \"Student_11\", \"Student_12\", \"Student_13\", \"Student_14\", \"Student_15\", \"Student_16\", \"Student_17\", \"Student_18\", \"Student_19\", \"Student_20\"], \"y\": [6, 15, 7, 18, 3, 10, 12, 5, 14, 18, 17, 13, 11, 9, 0, 15, 3, 17, 17, 14], \"type\": \"bar\", \"uid\": \"ab48ae5c-e1c6-11e8-81b5-2d0a4fadc81a\"}, {\"name\": \"Posts\", \"x\": [\"Student_1\", \"Student_2\", \"Student_3\", \"Student_4\", \"Student_5\", \"Student_6\", \"Student_7\", \"Student_8\", \"Student_9\", \"Student_10\", \"Student_11\", \"Student_12\", \"Student_13\", \"Student_14\", \"Student_15\", \"Student_16\", \"Student_17\", \"Student_18\", \"Student_19\", \"Student_20\"], \"y\": [16, 17, 14, 18, 1, 6, 19, 16, 19, 11, 19, 19, 3, 4, 0, 18, 2, 3, 0, 14], \"type\": \"bar\", \"uid\": \"ab48af38-e1c6-11e8-81b5-2d0a4fadc81a\"}], {\"title\": \"N\\u00famero de acessos a Posts, Leituras e Likes agrupados por estudante\", \"yaxis\": {\"dtick\": 1, \"exponentformat\": \"e\", \"gridcolor\": \"#bdbdbd\", \"showexponent\": \"all\", \"showticklabels\": true, \"tick0\": 0, \"titlefont\": {\"color\": \"lightgrey\", \"family\": \"Arial, sans-serif\"}}}, {\"showLink\": true, \"linkText\": \"Export to plot.ly\"})});</script>"
      ]
     },
     "metadata": {},
     "output_type": "display_data"
    },
    {
     "data": {
      "application/vnd.plotly.v1+json": {
       "data": [
        {
         "marker": {
          "line": {
           "width": 2
          },
          "size": [
           14,
           6,
           16
          ],
          "sizemode": "area",
          "sizeref": 0.10526315789473684,
          "symbol": "circle"
         },
         "mode": "markers",
         "name": "Student_1",
         "text": [
          "14",
          "6",
          "16"
         ],
         "type": "scatter",
         "uid": "ab5e27f0-e1c6-11e8-81b5-2d0a4fadc81a",
         "x": [
          "Student_1",
          "Student_1",
          "Student_1",
          "Student_1"
         ],
         "y": [
          "Hits",
          "Readings",
          "Posts"
         ]
        },
        {
         "marker": {
          "line": {
           "width": 2
          },
          "size": [
           6,
           15,
           17
          ],
          "sizemode": "area",
          "sizeref": 0.10526315789473684,
          "symbol": "circle"
         },
         "mode": "markers",
         "name": "Student_2",
         "text": [
          "6",
          "15",
          "17"
         ],
         "type": "scatter",
         "uid": "ab5e2a48-e1c6-11e8-81b5-2d0a4fadc81a",
         "x": [
          "Student_2",
          "Student_2",
          "Student_2",
          "Student_2"
         ],
         "y": [
          "Hits",
          "Readings",
          "Posts"
         ]
        },
        {
         "marker": {
          "line": {
           "width": 2
          },
          "size": [
           13,
           7,
           14
          ],
          "sizemode": "area",
          "sizeref": 0.10526315789473684,
          "symbol": "circle"
         },
         "mode": "markers",
         "name": "Student_3",
         "text": [
          "13",
          "7",
          "14"
         ],
         "type": "scatter",
         "uid": "ab5e2b42-e1c6-11e8-81b5-2d0a4fadc81a",
         "x": [
          "Student_3",
          "Student_3",
          "Student_3",
          "Student_3"
         ],
         "y": [
          "Hits",
          "Readings",
          "Posts"
         ]
        },
        {
         "marker": {
          "line": {
           "width": 2
          },
          "size": [
           5,
           18,
           18
          ],
          "sizemode": "area",
          "sizeref": 0.10526315789473684,
          "symbol": "circle"
         },
         "mode": "markers",
         "name": "Student_4",
         "text": [
          "5",
          "18",
          "18"
         ],
         "type": "scatter",
         "uid": "ab5e2c00-e1c6-11e8-81b5-2d0a4fadc81a",
         "x": [
          "Student_4",
          "Student_4",
          "Student_4",
          "Student_4"
         ],
         "y": [
          "Hits",
          "Readings",
          "Posts"
         ]
        },
        {
         "marker": {
          "line": {
           "width": 2
          },
          "size": [
           13,
           3,
           1
          ],
          "sizemode": "area",
          "sizeref": 0.10526315789473684,
          "symbol": "circle"
         },
         "mode": "markers",
         "name": "Student_5",
         "text": [
          "13",
          "3",
          "1"
         ],
         "type": "scatter",
         "uid": "ab5e2cd2-e1c6-11e8-81b5-2d0a4fadc81a",
         "x": [
          "Student_5",
          "Student_5",
          "Student_5",
          "Student_5"
         ],
         "y": [
          "Hits",
          "Readings",
          "Posts"
         ]
        },
        {
         "marker": {
          "line": {
           "width": 2
          },
          "size": [
           18,
           10,
           6
          ],
          "sizemode": "area",
          "sizeref": 0.10526315789473684,
          "symbol": "circle"
         },
         "mode": "markers",
         "name": "Student_6",
         "text": [
          "18",
          "10",
          "6"
         ],
         "type": "scatter",
         "uid": "ab5e2d90-e1c6-11e8-81b5-2d0a4fadc81a",
         "x": [
          "Student_6",
          "Student_6",
          "Student_6",
          "Student_6"
         ],
         "y": [
          "Hits",
          "Readings",
          "Posts"
         ]
        },
        {
         "marker": {
          "line": {
           "width": 2
          },
          "size": [
           6,
           12,
           19
          ],
          "sizemode": "area",
          "sizeref": 0.10526315789473684,
          "symbol": "circle"
         },
         "mode": "markers",
         "name": "Student_7",
         "text": [
          "6",
          "12",
          "19"
         ],
         "type": "scatter",
         "uid": "ab5e2e44-e1c6-11e8-81b5-2d0a4fadc81a",
         "x": [
          "Student_7",
          "Student_7",
          "Student_7",
          "Student_7"
         ],
         "y": [
          "Hits",
          "Readings",
          "Posts"
         ]
        },
        {
         "marker": {
          "line": {
           "width": 2
          },
          "size": [
           2,
           5,
           16
          ],
          "sizemode": "area",
          "sizeref": 0.10526315789473684,
          "symbol": "circle"
         },
         "mode": "markers",
         "name": "Student_8",
         "text": [
          "2",
          "5",
          "16"
         ],
         "type": "scatter",
         "uid": "ab5e2eee-e1c6-11e8-81b5-2d0a4fadc81a",
         "x": [
          "Student_8",
          "Student_8",
          "Student_8",
          "Student_8"
         ],
         "y": [
          "Hits",
          "Readings",
          "Posts"
         ]
        },
        {
         "marker": {
          "line": {
           "width": 2
          },
          "size": [
           10,
           14,
           19
          ],
          "sizemode": "area",
          "sizeref": 0.10526315789473684,
          "symbol": "circle"
         },
         "mode": "markers",
         "name": "Student_9",
         "text": [
          "10",
          "14",
          "19"
         ],
         "type": "scatter",
         "uid": "ab5e2f98-e1c6-11e8-81b5-2d0a4fadc81a",
         "x": [
          "Student_9",
          "Student_9",
          "Student_9",
          "Student_9"
         ],
         "y": [
          "Hits",
          "Readings",
          "Posts"
         ]
        },
        {
         "marker": {
          "line": {
           "width": 2
          },
          "size": [
           16,
           18,
           11
          ],
          "sizemode": "area",
          "sizeref": 0.10526315789473684,
          "symbol": "circle"
         },
         "mode": "markers",
         "name": "Student_10",
         "text": [
          "16",
          "18",
          "11"
         ],
         "type": "scatter",
         "uid": "ab5e3056-e1c6-11e8-81b5-2d0a4fadc81a",
         "x": [
          "Student_10",
          "Student_10",
          "Student_10",
          "Student_10"
         ],
         "y": [
          "Hits",
          "Readings",
          "Posts"
         ]
        },
        {
         "marker": {
          "line": {
           "width": 2
          },
          "size": [
           2,
           17,
           19
          ],
          "sizemode": "area",
          "sizeref": 0.10526315789473684,
          "symbol": "circle"
         },
         "mode": "markers",
         "name": "Student_11",
         "text": [
          "2",
          "17",
          "19"
         ],
         "type": "scatter",
         "uid": "ab5e3114-e1c6-11e8-81b5-2d0a4fadc81a",
         "x": [
          "Student_11",
          "Student_11",
          "Student_11",
          "Student_11"
         ],
         "y": [
          "Hits",
          "Readings",
          "Posts"
         ]
        },
        {
         "marker": {
          "line": {
           "width": 2
          },
          "size": [
           2,
           13,
           19
          ],
          "sizemode": "area",
          "sizeref": 0.10526315789473684,
          "symbol": "circle"
         },
         "mode": "markers",
         "name": "Student_12",
         "text": [
          "2",
          "13",
          "19"
         ],
         "type": "scatter",
         "uid": "ab5e31b4-e1c6-11e8-81b5-2d0a4fadc81a",
         "x": [
          "Student_12",
          "Student_12",
          "Student_12",
          "Student_12"
         ],
         "y": [
          "Hits",
          "Readings",
          "Posts"
         ]
        },
        {
         "marker": {
          "line": {
           "width": 2
          },
          "size": [
           19,
           11,
           3
          ],
          "sizemode": "area",
          "sizeref": 0.10526315789473684,
          "symbol": "circle"
         },
         "mode": "markers",
         "name": "Student_13",
         "text": [
          "19",
          "11",
          "3"
         ],
         "type": "scatter",
         "uid": "ab5e3272-e1c6-11e8-81b5-2d0a4fadc81a",
         "x": [
          "Student_13",
          "Student_13",
          "Student_13",
          "Student_13"
         ],
         "y": [
          "Hits",
          "Readings",
          "Posts"
         ]
        },
        {
         "marker": {
          "line": {
           "width": 2
          },
          "size": [
           8,
           9,
           4
          ],
          "sizemode": "area",
          "sizeref": 0.10526315789473684,
          "symbol": "circle"
         },
         "mode": "markers",
         "name": "Student_14",
         "text": [
          "8",
          "9",
          "4"
         ],
         "type": "scatter",
         "uid": "ab5e3326-e1c6-11e8-81b5-2d0a4fadc81a",
         "x": [
          "Student_14",
          "Student_14",
          "Student_14",
          "Student_14"
         ],
         "y": [
          "Hits",
          "Readings",
          "Posts"
         ]
        },
        {
         "marker": {
          "line": {
           "width": 2
          },
          "size": [
           1,
           0,
           0
          ],
          "sizemode": "area",
          "sizeref": 0.10526315789473684,
          "symbol": "circle"
         },
         "mode": "markers",
         "name": "Student_15",
         "text": [
          "1",
          "0",
          "0"
         ],
         "type": "scatter",
         "uid": "ab5e33da-e1c6-11e8-81b5-2d0a4fadc81a",
         "x": [
          "Student_15",
          "Student_15",
          "Student_15",
          "Student_15"
         ],
         "y": [
          "Hits",
          "Readings",
          "Posts"
         ]
        },
        {
         "marker": {
          "line": {
           "width": 2
          },
          "size": [
           13,
           15,
           18
          ],
          "sizemode": "area",
          "sizeref": 0.10526315789473684,
          "symbol": "circle"
         },
         "mode": "markers",
         "name": "Student_16",
         "text": [
          "13",
          "15",
          "18"
         ],
         "type": "scatter",
         "uid": "ab5e3484-e1c6-11e8-81b5-2d0a4fadc81a",
         "x": [
          "Student_16",
          "Student_16",
          "Student_16",
          "Student_16"
         ],
         "y": [
          "Hits",
          "Readings",
          "Posts"
         ]
        },
        {
         "marker": {
          "line": {
           "width": 2
          },
          "size": [
           2,
           3,
           2
          ],
          "sizemode": "area",
          "sizeref": 0.10526315789473684,
          "symbol": "circle"
         },
         "mode": "markers",
         "name": "Student_17",
         "text": [
          "2",
          "3",
          "2"
         ],
         "type": "scatter",
         "uid": "ab5e352e-e1c6-11e8-81b5-2d0a4fadc81a",
         "x": [
          "Student_17",
          "Student_17",
          "Student_17",
          "Student_17"
         ],
         "y": [
          "Hits",
          "Readings",
          "Posts"
         ]
        },
        {
         "marker": {
          "line": {
           "width": 2
          },
          "size": [
           8,
           17,
           3
          ],
          "sizemode": "area",
          "sizeref": 0.10526315789473684,
          "symbol": "circle"
         },
         "mode": "markers",
         "name": "Student_18",
         "text": [
          "8",
          "17",
          "3"
         ],
         "type": "scatter",
         "uid": "ab5e35ce-e1c6-11e8-81b5-2d0a4fadc81a",
         "x": [
          "Student_18",
          "Student_18",
          "Student_18",
          "Student_18"
         ],
         "y": [
          "Hits",
          "Readings",
          "Posts"
         ]
        },
        {
         "marker": {
          "line": {
           "width": 2
          },
          "size": [
           10,
           17,
           0
          ],
          "sizemode": "area",
          "sizeref": 0.10526315789473684,
          "symbol": "circle"
         },
         "mode": "markers",
         "name": "Student_19",
         "text": [
          "10",
          "17",
          "0"
         ],
         "type": "scatter",
         "uid": "ab5e3682-e1c6-11e8-81b5-2d0a4fadc81a",
         "x": [
          "Student_19",
          "Student_19",
          "Student_19",
          "Student_19"
         ],
         "y": [
          "Hits",
          "Readings",
          "Posts"
         ]
        },
        {
         "marker": {
          "line": {
           "width": 2
          },
          "size": [
           2,
           14,
           14
          ],
          "sizemode": "area",
          "sizeref": 0.10526315789473684,
          "symbol": "circle"
         },
         "mode": "markers",
         "name": "Student_20",
         "text": [
          "2",
          "14",
          "14"
         ],
         "type": "scatter",
         "uid": "ab5e3754-e1c6-11e8-81b5-2d0a4fadc81a",
         "x": [
          "Student_20",
          "Student_20",
          "Student_20",
          "Student_20"
         ],
         "y": [
          "Hits",
          "Readings",
          "Posts"
         ]
        }
       ],
       "layout": {
        "hovermode": "closest",
        "showlegend": true,
        "title": "Número de acessos a Posts, Leituras e Likes por estudante",
        "xaxis": {
         "autorange": false,
         "categoryorder": "category ascending",
         "fixedrange": false,
         "range": [
          -1,
          20
         ],
         "rangemode": "normal",
         "showline": true,
         "title": "Estudantes",
         "type": "category"
        },
        "yaxis": {
         "autorange": false,
         "categoryorder": "category ascending",
         "fixedrange": false,
         "range": [
          -1,
          3
         ],
         "rangemode": "normal",
         "showline": true,
         "type": "category"
        }
       }
      },
      "text/html": [
       "<div id=\"aa4d1103-34ed-4d3a-9bbb-5cd06a8e6508\" style=\"height: 525px; width: 100%;\" class=\"plotly-graph-div\"></div><script type=\"text/javascript\">require([\"plotly\"], function(Plotly) { window.PLOTLYENV=window.PLOTLYENV || {};window.PLOTLYENV.BASE_URL=\"https://plot.ly\";Plotly.newPlot(\"aa4d1103-34ed-4d3a-9bbb-5cd06a8e6508\", [{\"marker\": {\"line\": {\"width\": 2}, \"size\": [14, 6, 16], \"sizemode\": \"area\", \"sizeref\": 0.10526315789473684, \"symbol\": \"circle\"}, \"mode\": \"markers\", \"name\": \"Student_1\", \"text\": [\"14\", \"6\", \"16\"], \"x\": [\"Student_1\", \"Student_1\", \"Student_1\", \"Student_1\"], \"y\": [\"Hits\", \"Readings\", \"Posts\"], \"type\": \"scatter\", \"uid\": \"ab5e27f0-e1c6-11e8-81b5-2d0a4fadc81a\"}, {\"marker\": {\"line\": {\"width\": 2}, \"size\": [6, 15, 17], \"sizemode\": \"area\", \"sizeref\": 0.10526315789473684, \"symbol\": \"circle\"}, \"mode\": \"markers\", \"name\": \"Student_2\", \"text\": [\"6\", \"15\", \"17\"], \"x\": [\"Student_2\", \"Student_2\", \"Student_2\", \"Student_2\"], \"y\": [\"Hits\", \"Readings\", \"Posts\"], \"type\": \"scatter\", \"uid\": \"ab5e2a48-e1c6-11e8-81b5-2d0a4fadc81a\"}, {\"marker\": {\"line\": {\"width\": 2}, \"size\": [13, 7, 14], \"sizemode\": \"area\", \"sizeref\": 0.10526315789473684, \"symbol\": \"circle\"}, \"mode\": \"markers\", \"name\": \"Student_3\", \"text\": [\"13\", \"7\", \"14\"], \"x\": [\"Student_3\", \"Student_3\", \"Student_3\", \"Student_3\"], \"y\": [\"Hits\", \"Readings\", \"Posts\"], \"type\": \"scatter\", \"uid\": \"ab5e2b42-e1c6-11e8-81b5-2d0a4fadc81a\"}, {\"marker\": {\"line\": {\"width\": 2}, \"size\": [5, 18, 18], \"sizemode\": \"area\", \"sizeref\": 0.10526315789473684, \"symbol\": \"circle\"}, \"mode\": \"markers\", \"name\": \"Student_4\", \"text\": [\"5\", \"18\", \"18\"], \"x\": [\"Student_4\", \"Student_4\", \"Student_4\", \"Student_4\"], \"y\": [\"Hits\", \"Readings\", \"Posts\"], \"type\": \"scatter\", \"uid\": \"ab5e2c00-e1c6-11e8-81b5-2d0a4fadc81a\"}, {\"marker\": {\"line\": {\"width\": 2}, \"size\": [13, 3, 1], \"sizemode\": \"area\", \"sizeref\": 0.10526315789473684, \"symbol\": \"circle\"}, \"mode\": \"markers\", \"name\": \"Student_5\", \"text\": [\"13\", \"3\", \"1\"], \"x\": [\"Student_5\", \"Student_5\", \"Student_5\", \"Student_5\"], \"y\": [\"Hits\", \"Readings\", \"Posts\"], \"type\": \"scatter\", \"uid\": \"ab5e2cd2-e1c6-11e8-81b5-2d0a4fadc81a\"}, {\"marker\": {\"line\": {\"width\": 2}, \"size\": [18, 10, 6], \"sizemode\": \"area\", \"sizeref\": 0.10526315789473684, \"symbol\": \"circle\"}, \"mode\": \"markers\", \"name\": \"Student_6\", \"text\": [\"18\", \"10\", \"6\"], \"x\": [\"Student_6\", \"Student_6\", \"Student_6\", \"Student_6\"], \"y\": [\"Hits\", \"Readings\", \"Posts\"], \"type\": \"scatter\", \"uid\": \"ab5e2d90-e1c6-11e8-81b5-2d0a4fadc81a\"}, {\"marker\": {\"line\": {\"width\": 2}, \"size\": [6, 12, 19], \"sizemode\": \"area\", \"sizeref\": 0.10526315789473684, \"symbol\": \"circle\"}, \"mode\": \"markers\", \"name\": \"Student_7\", \"text\": [\"6\", \"12\", \"19\"], \"x\": [\"Student_7\", \"Student_7\", \"Student_7\", \"Student_7\"], \"y\": [\"Hits\", \"Readings\", \"Posts\"], \"type\": \"scatter\", \"uid\": \"ab5e2e44-e1c6-11e8-81b5-2d0a4fadc81a\"}, {\"marker\": {\"line\": {\"width\": 2}, \"size\": [2, 5, 16], \"sizemode\": \"area\", \"sizeref\": 0.10526315789473684, \"symbol\": \"circle\"}, \"mode\": \"markers\", \"name\": \"Student_8\", \"text\": [\"2\", \"5\", \"16\"], \"x\": [\"Student_8\", \"Student_8\", \"Student_8\", \"Student_8\"], \"y\": [\"Hits\", \"Readings\", \"Posts\"], \"type\": \"scatter\", \"uid\": \"ab5e2eee-e1c6-11e8-81b5-2d0a4fadc81a\"}, {\"marker\": {\"line\": {\"width\": 2}, \"size\": [10, 14, 19], \"sizemode\": \"area\", \"sizeref\": 0.10526315789473684, \"symbol\": \"circle\"}, \"mode\": \"markers\", \"name\": \"Student_9\", \"text\": [\"10\", \"14\", \"19\"], \"x\": [\"Student_9\", \"Student_9\", \"Student_9\", \"Student_9\"], \"y\": [\"Hits\", \"Readings\", \"Posts\"], \"type\": \"scatter\", \"uid\": \"ab5e2f98-e1c6-11e8-81b5-2d0a4fadc81a\"}, {\"marker\": {\"line\": {\"width\": 2}, \"size\": [16, 18, 11], \"sizemode\": \"area\", \"sizeref\": 0.10526315789473684, \"symbol\": \"circle\"}, \"mode\": \"markers\", \"name\": \"Student_10\", \"text\": [\"16\", \"18\", \"11\"], \"x\": [\"Student_10\", \"Student_10\", \"Student_10\", \"Student_10\"], \"y\": [\"Hits\", \"Readings\", \"Posts\"], \"type\": \"scatter\", \"uid\": \"ab5e3056-e1c6-11e8-81b5-2d0a4fadc81a\"}, {\"marker\": {\"line\": {\"width\": 2}, \"size\": [2, 17, 19], \"sizemode\": \"area\", \"sizeref\": 0.10526315789473684, \"symbol\": \"circle\"}, \"mode\": \"markers\", \"name\": \"Student_11\", \"text\": [\"2\", \"17\", \"19\"], \"x\": [\"Student_11\", \"Student_11\", \"Student_11\", \"Student_11\"], \"y\": [\"Hits\", \"Readings\", \"Posts\"], \"type\": \"scatter\", \"uid\": \"ab5e3114-e1c6-11e8-81b5-2d0a4fadc81a\"}, {\"marker\": {\"line\": {\"width\": 2}, \"size\": [2, 13, 19], \"sizemode\": \"area\", \"sizeref\": 0.10526315789473684, \"symbol\": \"circle\"}, \"mode\": \"markers\", \"name\": \"Student_12\", \"text\": [\"2\", \"13\", \"19\"], \"x\": [\"Student_12\", \"Student_12\", \"Student_12\", \"Student_12\"], \"y\": [\"Hits\", \"Readings\", \"Posts\"], \"type\": \"scatter\", \"uid\": \"ab5e31b4-e1c6-11e8-81b5-2d0a4fadc81a\"}, {\"marker\": {\"line\": {\"width\": 2}, \"size\": [19, 11, 3], \"sizemode\": \"area\", \"sizeref\": 0.10526315789473684, \"symbol\": \"circle\"}, \"mode\": \"markers\", \"name\": \"Student_13\", \"text\": [\"19\", \"11\", \"3\"], \"x\": [\"Student_13\", \"Student_13\", \"Student_13\", \"Student_13\"], \"y\": [\"Hits\", \"Readings\", \"Posts\"], \"type\": \"scatter\", \"uid\": \"ab5e3272-e1c6-11e8-81b5-2d0a4fadc81a\"}, {\"marker\": {\"line\": {\"width\": 2}, \"size\": [8, 9, 4], \"sizemode\": \"area\", \"sizeref\": 0.10526315789473684, \"symbol\": \"circle\"}, \"mode\": \"markers\", \"name\": \"Student_14\", \"text\": [\"8\", \"9\", \"4\"], \"x\": [\"Student_14\", \"Student_14\", \"Student_14\", \"Student_14\"], \"y\": [\"Hits\", \"Readings\", \"Posts\"], \"type\": \"scatter\", \"uid\": \"ab5e3326-e1c6-11e8-81b5-2d0a4fadc81a\"}, {\"marker\": {\"line\": {\"width\": 2}, \"size\": [1, 0, 0], \"sizemode\": \"area\", \"sizeref\": 0.10526315789473684, \"symbol\": \"circle\"}, \"mode\": \"markers\", \"name\": \"Student_15\", \"text\": [\"1\", \"0\", \"0\"], \"x\": [\"Student_15\", \"Student_15\", \"Student_15\", \"Student_15\"], \"y\": [\"Hits\", \"Readings\", \"Posts\"], \"type\": \"scatter\", \"uid\": \"ab5e33da-e1c6-11e8-81b5-2d0a4fadc81a\"}, {\"marker\": {\"line\": {\"width\": 2}, \"size\": [13, 15, 18], \"sizemode\": \"area\", \"sizeref\": 0.10526315789473684, \"symbol\": \"circle\"}, \"mode\": \"markers\", \"name\": \"Student_16\", \"text\": [\"13\", \"15\", \"18\"], \"x\": [\"Student_16\", \"Student_16\", \"Student_16\", \"Student_16\"], \"y\": [\"Hits\", \"Readings\", \"Posts\"], \"type\": \"scatter\", \"uid\": \"ab5e3484-e1c6-11e8-81b5-2d0a4fadc81a\"}, {\"marker\": {\"line\": {\"width\": 2}, \"size\": [2, 3, 2], \"sizemode\": \"area\", \"sizeref\": 0.10526315789473684, \"symbol\": \"circle\"}, \"mode\": \"markers\", \"name\": \"Student_17\", \"text\": [\"2\", \"3\", \"2\"], \"x\": [\"Student_17\", \"Student_17\", \"Student_17\", \"Student_17\"], \"y\": [\"Hits\", \"Readings\", \"Posts\"], \"type\": \"scatter\", \"uid\": \"ab5e352e-e1c6-11e8-81b5-2d0a4fadc81a\"}, {\"marker\": {\"line\": {\"width\": 2}, \"size\": [8, 17, 3], \"sizemode\": \"area\", \"sizeref\": 0.10526315789473684, \"symbol\": \"circle\"}, \"mode\": \"markers\", \"name\": \"Student_18\", \"text\": [\"8\", \"17\", \"3\"], \"x\": [\"Student_18\", \"Student_18\", \"Student_18\", \"Student_18\"], \"y\": [\"Hits\", \"Readings\", \"Posts\"], \"type\": \"scatter\", \"uid\": \"ab5e35ce-e1c6-11e8-81b5-2d0a4fadc81a\"}, {\"marker\": {\"line\": {\"width\": 2}, \"size\": [10, 17, 0], \"sizemode\": \"area\", \"sizeref\": 0.10526315789473684, \"symbol\": \"circle\"}, \"mode\": \"markers\", \"name\": \"Student_19\", \"text\": [\"10\", \"17\", \"0\"], \"x\": [\"Student_19\", \"Student_19\", \"Student_19\", \"Student_19\"], \"y\": [\"Hits\", \"Readings\", \"Posts\"], \"type\": \"scatter\", \"uid\": \"ab5e3682-e1c6-11e8-81b5-2d0a4fadc81a\"}, {\"marker\": {\"line\": {\"width\": 2}, \"size\": [2, 14, 14], \"sizemode\": \"area\", \"sizeref\": 0.10526315789473684, \"symbol\": \"circle\"}, \"mode\": \"markers\", \"name\": \"Student_20\", \"text\": [\"2\", \"14\", \"14\"], \"x\": [\"Student_20\", \"Student_20\", \"Student_20\", \"Student_20\"], \"y\": [\"Hits\", \"Readings\", \"Posts\"], \"type\": \"scatter\", \"uid\": \"ab5e3754-e1c6-11e8-81b5-2d0a4fadc81a\"}], {\"hovermode\": \"closest\", \"showlegend\": true, \"title\": \"N\\u00famero de acessos a Posts, Leituras e Likes por estudante\", \"xaxis\": {\"autorange\": false, \"categoryorder\": \"category ascending\", \"fixedrange\": false, \"range\": [-1, 20], \"rangemode\": \"normal\", \"showline\": true, \"title\": \"Estudantes\", \"type\": \"category\"}, \"yaxis\": {\"autorange\": false, \"categoryorder\": \"category ascending\", \"fixedrange\": false, \"range\": [-1, 3], \"rangemode\": \"normal\", \"showline\": true, \"type\": \"category\"}}, {\"showLink\": true, \"linkText\": \"Export to plot.ly\"})});</script>"
      ],
      "text/vnd.plotly.v1+html": [
       "<div id=\"aa4d1103-34ed-4d3a-9bbb-5cd06a8e6508\" style=\"height: 525px; width: 100%;\" class=\"plotly-graph-div\"></div><script type=\"text/javascript\">require([\"plotly\"], function(Plotly) { window.PLOTLYENV=window.PLOTLYENV || {};window.PLOTLYENV.BASE_URL=\"https://plot.ly\";Plotly.newPlot(\"aa4d1103-34ed-4d3a-9bbb-5cd06a8e6508\", [{\"marker\": {\"line\": {\"width\": 2}, \"size\": [14, 6, 16], \"sizemode\": \"area\", \"sizeref\": 0.10526315789473684, \"symbol\": \"circle\"}, \"mode\": \"markers\", \"name\": \"Student_1\", \"text\": [\"14\", \"6\", \"16\"], \"x\": [\"Student_1\", \"Student_1\", \"Student_1\", \"Student_1\"], \"y\": [\"Hits\", \"Readings\", \"Posts\"], \"type\": \"scatter\", \"uid\": \"ab5e27f0-e1c6-11e8-81b5-2d0a4fadc81a\"}, {\"marker\": {\"line\": {\"width\": 2}, \"size\": [6, 15, 17], \"sizemode\": \"area\", \"sizeref\": 0.10526315789473684, \"symbol\": \"circle\"}, \"mode\": \"markers\", \"name\": \"Student_2\", \"text\": [\"6\", \"15\", \"17\"], \"x\": [\"Student_2\", \"Student_2\", \"Student_2\", \"Student_2\"], \"y\": [\"Hits\", \"Readings\", \"Posts\"], \"type\": \"scatter\", \"uid\": \"ab5e2a48-e1c6-11e8-81b5-2d0a4fadc81a\"}, {\"marker\": {\"line\": {\"width\": 2}, \"size\": [13, 7, 14], \"sizemode\": \"area\", \"sizeref\": 0.10526315789473684, \"symbol\": \"circle\"}, \"mode\": \"markers\", \"name\": \"Student_3\", \"text\": [\"13\", \"7\", \"14\"], \"x\": [\"Student_3\", \"Student_3\", \"Student_3\", \"Student_3\"], \"y\": [\"Hits\", \"Readings\", \"Posts\"], \"type\": \"scatter\", \"uid\": \"ab5e2b42-e1c6-11e8-81b5-2d0a4fadc81a\"}, {\"marker\": {\"line\": {\"width\": 2}, \"size\": [5, 18, 18], \"sizemode\": \"area\", \"sizeref\": 0.10526315789473684, \"symbol\": \"circle\"}, \"mode\": \"markers\", \"name\": \"Student_4\", \"text\": [\"5\", \"18\", \"18\"], \"x\": [\"Student_4\", \"Student_4\", \"Student_4\", \"Student_4\"], \"y\": [\"Hits\", \"Readings\", \"Posts\"], \"type\": \"scatter\", \"uid\": \"ab5e2c00-e1c6-11e8-81b5-2d0a4fadc81a\"}, {\"marker\": {\"line\": {\"width\": 2}, \"size\": [13, 3, 1], \"sizemode\": \"area\", \"sizeref\": 0.10526315789473684, \"symbol\": \"circle\"}, \"mode\": \"markers\", \"name\": \"Student_5\", \"text\": [\"13\", \"3\", \"1\"], \"x\": [\"Student_5\", \"Student_5\", \"Student_5\", \"Student_5\"], \"y\": [\"Hits\", \"Readings\", \"Posts\"], \"type\": \"scatter\", \"uid\": \"ab5e2cd2-e1c6-11e8-81b5-2d0a4fadc81a\"}, {\"marker\": {\"line\": {\"width\": 2}, \"size\": [18, 10, 6], \"sizemode\": \"area\", \"sizeref\": 0.10526315789473684, \"symbol\": \"circle\"}, \"mode\": \"markers\", \"name\": \"Student_6\", \"text\": [\"18\", \"10\", \"6\"], \"x\": [\"Student_6\", \"Student_6\", \"Student_6\", \"Student_6\"], \"y\": [\"Hits\", \"Readings\", \"Posts\"], \"type\": \"scatter\", \"uid\": \"ab5e2d90-e1c6-11e8-81b5-2d0a4fadc81a\"}, {\"marker\": {\"line\": {\"width\": 2}, \"size\": [6, 12, 19], \"sizemode\": \"area\", \"sizeref\": 0.10526315789473684, \"symbol\": \"circle\"}, \"mode\": \"markers\", \"name\": \"Student_7\", \"text\": [\"6\", \"12\", \"19\"], \"x\": [\"Student_7\", \"Student_7\", \"Student_7\", \"Student_7\"], \"y\": [\"Hits\", \"Readings\", \"Posts\"], \"type\": \"scatter\", \"uid\": \"ab5e2e44-e1c6-11e8-81b5-2d0a4fadc81a\"}, {\"marker\": {\"line\": {\"width\": 2}, \"size\": [2, 5, 16], \"sizemode\": \"area\", \"sizeref\": 0.10526315789473684, \"symbol\": \"circle\"}, \"mode\": \"markers\", \"name\": \"Student_8\", \"text\": [\"2\", \"5\", \"16\"], \"x\": [\"Student_8\", \"Student_8\", \"Student_8\", \"Student_8\"], \"y\": [\"Hits\", \"Readings\", \"Posts\"], \"type\": \"scatter\", \"uid\": \"ab5e2eee-e1c6-11e8-81b5-2d0a4fadc81a\"}, {\"marker\": {\"line\": {\"width\": 2}, \"size\": [10, 14, 19], \"sizemode\": \"area\", \"sizeref\": 0.10526315789473684, \"symbol\": \"circle\"}, \"mode\": \"markers\", \"name\": \"Student_9\", \"text\": [\"10\", \"14\", \"19\"], \"x\": [\"Student_9\", \"Student_9\", \"Student_9\", \"Student_9\"], \"y\": [\"Hits\", \"Readings\", \"Posts\"], \"type\": \"scatter\", \"uid\": \"ab5e2f98-e1c6-11e8-81b5-2d0a4fadc81a\"}, {\"marker\": {\"line\": {\"width\": 2}, \"size\": [16, 18, 11], \"sizemode\": \"area\", \"sizeref\": 0.10526315789473684, \"symbol\": \"circle\"}, \"mode\": \"markers\", \"name\": \"Student_10\", \"text\": [\"16\", \"18\", \"11\"], \"x\": [\"Student_10\", \"Student_10\", \"Student_10\", \"Student_10\"], \"y\": [\"Hits\", \"Readings\", \"Posts\"], \"type\": \"scatter\", \"uid\": \"ab5e3056-e1c6-11e8-81b5-2d0a4fadc81a\"}, {\"marker\": {\"line\": {\"width\": 2}, \"size\": [2, 17, 19], \"sizemode\": \"area\", \"sizeref\": 0.10526315789473684, \"symbol\": \"circle\"}, \"mode\": \"markers\", \"name\": \"Student_11\", \"text\": [\"2\", \"17\", \"19\"], \"x\": [\"Student_11\", \"Student_11\", \"Student_11\", \"Student_11\"], \"y\": [\"Hits\", \"Readings\", \"Posts\"], \"type\": \"scatter\", \"uid\": \"ab5e3114-e1c6-11e8-81b5-2d0a4fadc81a\"}, {\"marker\": {\"line\": {\"width\": 2}, \"size\": [2, 13, 19], \"sizemode\": \"area\", \"sizeref\": 0.10526315789473684, \"symbol\": \"circle\"}, \"mode\": \"markers\", \"name\": \"Student_12\", \"text\": [\"2\", \"13\", \"19\"], \"x\": [\"Student_12\", \"Student_12\", \"Student_12\", \"Student_12\"], \"y\": [\"Hits\", \"Readings\", \"Posts\"], \"type\": \"scatter\", \"uid\": \"ab5e31b4-e1c6-11e8-81b5-2d0a4fadc81a\"}, {\"marker\": {\"line\": {\"width\": 2}, \"size\": [19, 11, 3], \"sizemode\": \"area\", \"sizeref\": 0.10526315789473684, \"symbol\": \"circle\"}, \"mode\": \"markers\", \"name\": \"Student_13\", \"text\": [\"19\", \"11\", \"3\"], \"x\": [\"Student_13\", \"Student_13\", \"Student_13\", \"Student_13\"], \"y\": [\"Hits\", \"Readings\", \"Posts\"], \"type\": \"scatter\", \"uid\": \"ab5e3272-e1c6-11e8-81b5-2d0a4fadc81a\"}, {\"marker\": {\"line\": {\"width\": 2}, \"size\": [8, 9, 4], \"sizemode\": \"area\", \"sizeref\": 0.10526315789473684, \"symbol\": \"circle\"}, \"mode\": \"markers\", \"name\": \"Student_14\", \"text\": [\"8\", \"9\", \"4\"], \"x\": [\"Student_14\", \"Student_14\", \"Student_14\", \"Student_14\"], \"y\": [\"Hits\", \"Readings\", \"Posts\"], \"type\": \"scatter\", \"uid\": \"ab5e3326-e1c6-11e8-81b5-2d0a4fadc81a\"}, {\"marker\": {\"line\": {\"width\": 2}, \"size\": [1, 0, 0], \"sizemode\": \"area\", \"sizeref\": 0.10526315789473684, \"symbol\": \"circle\"}, \"mode\": \"markers\", \"name\": \"Student_15\", \"text\": [\"1\", \"0\", \"0\"], \"x\": [\"Student_15\", \"Student_15\", \"Student_15\", \"Student_15\"], \"y\": [\"Hits\", \"Readings\", \"Posts\"], \"type\": \"scatter\", \"uid\": \"ab5e33da-e1c6-11e8-81b5-2d0a4fadc81a\"}, {\"marker\": {\"line\": {\"width\": 2}, \"size\": [13, 15, 18], \"sizemode\": \"area\", \"sizeref\": 0.10526315789473684, \"symbol\": \"circle\"}, \"mode\": \"markers\", \"name\": \"Student_16\", \"text\": [\"13\", \"15\", \"18\"], \"x\": [\"Student_16\", \"Student_16\", \"Student_16\", \"Student_16\"], \"y\": [\"Hits\", \"Readings\", \"Posts\"], \"type\": \"scatter\", \"uid\": \"ab5e3484-e1c6-11e8-81b5-2d0a4fadc81a\"}, {\"marker\": {\"line\": {\"width\": 2}, \"size\": [2, 3, 2], \"sizemode\": \"area\", \"sizeref\": 0.10526315789473684, \"symbol\": \"circle\"}, \"mode\": \"markers\", \"name\": \"Student_17\", \"text\": [\"2\", \"3\", \"2\"], \"x\": [\"Student_17\", \"Student_17\", \"Student_17\", \"Student_17\"], \"y\": [\"Hits\", \"Readings\", \"Posts\"], \"type\": \"scatter\", \"uid\": \"ab5e352e-e1c6-11e8-81b5-2d0a4fadc81a\"}, {\"marker\": {\"line\": {\"width\": 2}, \"size\": [8, 17, 3], \"sizemode\": \"area\", \"sizeref\": 0.10526315789473684, \"symbol\": \"circle\"}, \"mode\": \"markers\", \"name\": \"Student_18\", \"text\": [\"8\", \"17\", \"3\"], \"x\": [\"Student_18\", \"Student_18\", \"Student_18\", \"Student_18\"], \"y\": [\"Hits\", \"Readings\", \"Posts\"], \"type\": \"scatter\", \"uid\": \"ab5e35ce-e1c6-11e8-81b5-2d0a4fadc81a\"}, {\"marker\": {\"line\": {\"width\": 2}, \"size\": [10, 17, 0], \"sizemode\": \"area\", \"sizeref\": 0.10526315789473684, \"symbol\": \"circle\"}, \"mode\": \"markers\", \"name\": \"Student_19\", \"text\": [\"10\", \"17\", \"0\"], \"x\": [\"Student_19\", \"Student_19\", \"Student_19\", \"Student_19\"], \"y\": [\"Hits\", \"Readings\", \"Posts\"], \"type\": \"scatter\", \"uid\": \"ab5e3682-e1c6-11e8-81b5-2d0a4fadc81a\"}, {\"marker\": {\"line\": {\"width\": 2}, \"size\": [2, 14, 14], \"sizemode\": \"area\", \"sizeref\": 0.10526315789473684, \"symbol\": \"circle\"}, \"mode\": \"markers\", \"name\": \"Student_20\", \"text\": [\"2\", \"14\", \"14\"], \"x\": [\"Student_20\", \"Student_20\", \"Student_20\", \"Student_20\"], \"y\": [\"Hits\", \"Readings\", \"Posts\"], \"type\": \"scatter\", \"uid\": \"ab5e3754-e1c6-11e8-81b5-2d0a4fadc81a\"}], {\"hovermode\": \"closest\", \"showlegend\": true, \"title\": \"N\\u00famero de acessos a Posts, Leituras e Likes por estudante\", \"xaxis\": {\"autorange\": false, \"categoryorder\": \"category ascending\", \"fixedrange\": false, \"range\": [-1, 20], \"rangemode\": \"normal\", \"showline\": true, \"title\": \"Estudantes\", \"type\": \"category\"}, \"yaxis\": {\"autorange\": false, \"categoryorder\": \"category ascending\", \"fixedrange\": false, \"range\": [-1, 3], \"rangemode\": \"normal\", \"showline\": true, \"type\": \"category\"}}, {\"showLink\": true, \"linkText\": \"Export to plot.ly\"})});</script>"
      ]
     },
     "metadata": {},
     "output_type": "display_data"
    },
    {
     "data": {
      "application/vnd.plotly.v1+json": {
       "data": [
        {
         "colorscale": [
          [
           0,
           "rgb(255,255,255)"
          ],
          [
           1,
           "rgb(0,0,255)"
          ]
         ],
         "type": "heatmap",
         "uid": "ab6b4e30-e1c6-11e8-81b5-2d0a4fadc81a",
         "x": [
          "Hits",
          "Readings",
          "Posts"
         ],
         "y": [
          "Student_1",
          "Student_2",
          "Student_3",
          "Student_4",
          "Student_5",
          "Student_6",
          "Student_7",
          "Student_8",
          "Student_9",
          "Student_10",
          "Student_11",
          "Student_12",
          "Student_13",
          "Student_14",
          "Student_15",
          "Student_16",
          "Student_17",
          "Student_18",
          "Student_19",
          "Student_20"
         ],
         "z": [
          [
           14,
           6,
           16
          ],
          [
           6,
           15,
           17
          ],
          [
           13,
           7,
           14
          ],
          [
           5,
           18,
           18
          ],
          [
           13,
           3,
           1
          ],
          [
           18,
           10,
           6
          ],
          [
           6,
           12,
           19
          ],
          [
           2,
           5,
           16
          ],
          [
           10,
           14,
           19
          ],
          [
           16,
           18,
           11
          ],
          [
           2,
           17,
           19
          ],
          [
           2,
           13,
           19
          ],
          [
           19,
           11,
           3
          ],
          [
           8,
           9,
           4
          ],
          [
           1,
           0,
           0
          ],
          [
           13,
           15,
           18
          ],
          [
           2,
           3,
           2
          ],
          [
           8,
           17,
           3
          ],
          [
           10,
           17,
           0
          ],
          [
           2,
           14,
           14
          ]
         ]
        }
       ],
       "layout": {
        "title": "Número de acessos a Posts, Leituras e Likes por estudante",
        "yaxis": {
         "dtick": 1,
         "exponentformat": "e",
         "gridcolor": "#bdbdbd",
         "showexponent": "all",
         "showticklabels": true,
         "tick0": 0,
         "titlefont": {
          "color": "lightgrey",
          "family": "Arial, sans-serif"
         }
        }
       }
      },
      "text/html": [
       "<div id=\"c71b7fa5-d53d-4bb5-b80c-d366b8228611\" style=\"height: 525px; width: 100%;\" class=\"plotly-graph-div\"></div><script type=\"text/javascript\">require([\"plotly\"], function(Plotly) { window.PLOTLYENV=window.PLOTLYENV || {};window.PLOTLYENV.BASE_URL=\"https://plot.ly\";Plotly.newPlot(\"c71b7fa5-d53d-4bb5-b80c-d366b8228611\", [{\"colorscale\": [[0, \"rgb(255,255,255)\"], [1, \"rgb(0,0,255)\"]], \"x\": [\"Hits\", \"Readings\", \"Posts\"], \"y\": [\"Student_1\", \"Student_2\", \"Student_3\", \"Student_4\", \"Student_5\", \"Student_6\", \"Student_7\", \"Student_8\", \"Student_9\", \"Student_10\", \"Student_11\", \"Student_12\", \"Student_13\", \"Student_14\", \"Student_15\", \"Student_16\", \"Student_17\", \"Student_18\", \"Student_19\", \"Student_20\"], \"z\": [[14, 6, 16], [6, 15, 17], [13, 7, 14], [5, 18, 18], [13, 3, 1], [18, 10, 6], [6, 12, 19], [2, 5, 16], [10, 14, 19], [16, 18, 11], [2, 17, 19], [2, 13, 19], [19, 11, 3], [8, 9, 4], [1, 0, 0], [13, 15, 18], [2, 3, 2], [8, 17, 3], [10, 17, 0], [2, 14, 14]], \"type\": \"heatmap\", \"uid\": \"ab6b4e30-e1c6-11e8-81b5-2d0a4fadc81a\"}], {\"title\": \"N\\u00famero de acessos a Posts, Leituras e Likes por estudante\", \"yaxis\": {\"dtick\": 1, \"exponentformat\": \"e\", \"gridcolor\": \"#bdbdbd\", \"showexponent\": \"all\", \"showticklabels\": true, \"tick0\": 0, \"titlefont\": {\"color\": \"lightgrey\", \"family\": \"Arial, sans-serif\"}}}, {\"showLink\": true, \"linkText\": \"Export to plot.ly\"})});</script>"
      ],
      "text/vnd.plotly.v1+html": [
       "<div id=\"c71b7fa5-d53d-4bb5-b80c-d366b8228611\" style=\"height: 525px; width: 100%;\" class=\"plotly-graph-div\"></div><script type=\"text/javascript\">require([\"plotly\"], function(Plotly) { window.PLOTLYENV=window.PLOTLYENV || {};window.PLOTLYENV.BASE_URL=\"https://plot.ly\";Plotly.newPlot(\"c71b7fa5-d53d-4bb5-b80c-d366b8228611\", [{\"colorscale\": [[0, \"rgb(255,255,255)\"], [1, \"rgb(0,0,255)\"]], \"x\": [\"Hits\", \"Readings\", \"Posts\"], \"y\": [\"Student_1\", \"Student_2\", \"Student_3\", \"Student_4\", \"Student_5\", \"Student_6\", \"Student_7\", \"Student_8\", \"Student_9\", \"Student_10\", \"Student_11\", \"Student_12\", \"Student_13\", \"Student_14\", \"Student_15\", \"Student_16\", \"Student_17\", \"Student_18\", \"Student_19\", \"Student_20\"], \"z\": [[14, 6, 16], [6, 15, 17], [13, 7, 14], [5, 18, 18], [13, 3, 1], [18, 10, 6], [6, 12, 19], [2, 5, 16], [10, 14, 19], [16, 18, 11], [2, 17, 19], [2, 13, 19], [19, 11, 3], [8, 9, 4], [1, 0, 0], [13, 15, 18], [2, 3, 2], [8, 17, 3], [10, 17, 0], [2, 14, 14]], \"type\": \"heatmap\", \"uid\": \"ab6b4e30-e1c6-11e8-81b5-2d0a4fadc81a\"}], {\"title\": \"N\\u00famero de acessos a Posts, Leituras e Likes por estudante\", \"yaxis\": {\"dtick\": 1, \"exponentformat\": \"e\", \"gridcolor\": \"#bdbdbd\", \"showexponent\": \"all\", \"showticklabels\": true, \"tick0\": 0, \"titlefont\": {\"color\": \"lightgrey\", \"family\": \"Arial, sans-serif\"}}}, {\"showLink\": true, \"linkText\": \"Export to plot.ly\"})});</script>"
      ]
     },
     "metadata": {},
     "output_type": "display_data"
    }
   ],
   "source": [
    "run scripts/V003.py"
   ]
  },
  {
   "cell_type": "markdown",
   "metadata": {},
   "source": [
    "### View 004"
   ]
  },
  {
   "cell_type": "code",
   "execution_count": 22,
   "metadata": {},
   "outputs": [
    {
     "data": {
      "text/html": [
       "<script>requirejs.config({paths: { 'plotly': ['https://cdn.plot.ly/plotly-latest.min']},});if(!window.Plotly) {{require(['plotly'],function(plotly) {window.Plotly=plotly;});}}</script>"
      ],
      "text/vnd.plotly.v1+html": [
       "<script>requirejs.config({paths: { 'plotly': ['https://cdn.plot.ly/plotly-latest.min']},});if(!window.Plotly) {{require(['plotly'],function(plotly) {window.Plotly=plotly;});}}</script>"
      ]
     },
     "metadata": {},
     "output_type": "display_data"
    },
    {
     "data": {
      "application/vnd.plotly.v1+json": {
       "data": [
        {
         "cells": {
          "align": [
           "left",
           "center"
          ],
          "fill": {
           "color": "#F5F8FF"
          },
          "values": [
           [
            "Student_1",
            "Student_2",
            "Student_3",
            "Student_4",
            "Student_5",
            "Student_6",
            "Student_7",
            "Student_8",
            "Student_9",
            "Student_10",
            "Student_11",
            "Student_12",
            "Student_13",
            "Student_14",
            "Student_15",
            "Student_16",
            "Student_17",
            "Student_18",
            "Student_19",
            "Student_20"
           ],
           [
            [
             272,
             19,
             341
            ],
            [
             222,
             337,
             18,
             93
            ],
            [
             337,
             226
            ],
            [],
            [
             226,
             25
            ],
            [
             220,
             147,
             299,
             225
            ],
            [
             181,
             215
            ],
            [
             323,
             261,
             123
            ],
            [],
            [],
            [
             38
            ],
            [
             182,
             19,
             257,
             153
            ],
            [
             145,
             108,
             85
            ],
            [
             9,
             30
            ],
            [
             234,
             325,
             228,
             63
            ],
            [
             219
            ],
            [],
            [],
            [
             335,
             220,
             247,
             285
            ],
            [
             216,
             357
            ]
           ],
           [
            [
             345
            ],
            [],
            [
             40,
             326,
             209
            ],
            [
             221
            ],
            [
             288,
             239,
             167,
             340
            ],
            [
             43,
             171,
             217,
             6
            ],
            [
             281,
             210,
             155
            ],
            [
             84,
             357
            ],
            [
             63,
             288,
             222,
             329
            ],
            [],
            [
             57,
             25,
             158
            ],
            [
             133,
             103,
             22,
             358
            ],
            [
             52,
             105
            ],
            [
             213,
             164,
             296,
             258
            ],
            [
             254,
             238
            ],
            [
             228
            ],
            [
             98
            ],
            [
             114
            ],
            [
             212,
             246
            ],
            [
             82,
             120,
             313,
             214
            ]
           ],
           [
            [
             62,
             294,
             11,
             242
            ],
            [
             79
            ],
            [
             350,
             132,
             32,
             135
            ],
            [
             21,
             146,
             350,
             47
            ],
            [
             262,
             80,
             190,
             29
            ],
            [
             142
            ],
            [
             129,
             276,
             39,
             78
            ],
            [],
            [
             251,
             243
            ],
            [
             320
            ],
            [
             242
            ],
            [],
            [
             56
            ],
            [
             279,
             192,
             170,
             148
            ],
            [
             56
            ],
            [
             126,
             326,
             192
            ],
            [],
            [
             12,
             272,
             25
            ],
            [],
            [
             132,
             265
            ]
           ],
           [
            [
             130
            ],
            [
             102,
             171
            ],
            [
             255,
             352
            ],
            [
             133,
             158,
             11
            ],
            [
             299,
             286,
             41
            ],
            [
             63
            ],
            [
             275
            ],
            [
             211,
             146
            ],
            [
             280,
             98,
             202
            ],
            [
             337
            ],
            [
             108,
             218,
             155,
             349
            ],
            [
             95,
             90
            ],
            [
             25,
             318,
             69,
             299
            ],
            [
             17
            ],
            [
             102
            ],
            [],
            [
             10
            ],
            [],
            [
             254,
             184,
             312,
             86
            ],
            [
             148,
             72,
             103,
             157
            ]
           ],
           [
            [
             296
            ],
            [
             219,
             276,
             278,
             329
            ],
            [
             138,
             236
            ],
            [
             57
            ],
            [
             273,
             276,
             218
            ],
            [],
            [
             45,
             88,
             170
            ],
            [
             113,
             21,
             184,
             101
            ],
            [
             14,
             22,
             151,
             268
            ],
            [],
            [],
            [
             115,
             339,
             100,
             324
            ],
            [
             315,
             31,
             138,
             346
            ],
            [
             182,
             57,
             357,
             72
            ],
            [
             83,
             340,
             37,
             335
            ],
            [
             187,
             200,
             240,
             54
            ],
            [
             53,
             229,
             238
            ],
            [
             118,
             281,
             100
            ],
            [
             181,
             351
            ],
            [
             247
            ]
           ]
          ]
         },
         "header": {
          "align": "center",
          "fill": {
           "color": "#C2D4FF"
          },
          "values": [
           "Students",
           "Video1",
           "Video2",
           "Video3",
           "Video4",
           "Video5"
          ]
         },
         "type": "table",
         "uid": "6fbb7236-e1bf-11e8-81b5-2d0a4fadc81a"
        }
       ],
       "layout": {}
      },
      "text/html": [
       "<div id=\"c3ed8efa-7e0a-46a8-aef3-f4d56afbefab\" style=\"height: 525px; width: 100%;\" class=\"plotly-graph-div\"></div><script type=\"text/javascript\">require([\"plotly\"], function(Plotly) { window.PLOTLYENV=window.PLOTLYENV || {};window.PLOTLYENV.BASE_URL=\"https://plot.ly\";Plotly.newPlot(\"c3ed8efa-7e0a-46a8-aef3-f4d56afbefab\", [{\"cells\": {\"align\": [\"left\", \"center\"], \"fill\": {\"color\": \"#F5F8FF\"}, \"values\": [[\"Student_1\", \"Student_2\", \"Student_3\", \"Student_4\", \"Student_5\", \"Student_6\", \"Student_7\", \"Student_8\", \"Student_9\", \"Student_10\", \"Student_11\", \"Student_12\", \"Student_13\", \"Student_14\", \"Student_15\", \"Student_16\", \"Student_17\", \"Student_18\", \"Student_19\", \"Student_20\"], [[272, 19, 341], [222, 337, 18, 93], [337, 226], [], [226, 25], [220, 147, 299, 225], [181, 215], [323, 261, 123], [], [], [38], [182, 19, 257, 153], [145, 108, 85], [9, 30], [234, 325, 228, 63], [219], [], [], [335, 220, 247, 285], [216, 357]], [[345], [], [40, 326, 209], [221], [288, 239, 167, 340], [43, 171, 217, 6], [281, 210, 155], [84, 357], [63, 288, 222, 329], [], [57, 25, 158], [133, 103, 22, 358], [52, 105], [213, 164, 296, 258], [254, 238], [228], [98], [114], [212, 246], [82, 120, 313, 214]], [[62, 294, 11, 242], [79], [350, 132, 32, 135], [21, 146, 350, 47], [262, 80, 190, 29], [142], [129, 276, 39, 78], [], [251, 243], [320], [242], [], [56], [279, 192, 170, 148], [56], [126, 326, 192], [], [12, 272, 25], [], [132, 265]], [[130], [102, 171], [255, 352], [133, 158, 11], [299, 286, 41], [63], [275], [211, 146], [280, 98, 202], [337], [108, 218, 155, 349], [95, 90], [25, 318, 69, 299], [17], [102], [], [10], [], [254, 184, 312, 86], [148, 72, 103, 157]], [[296], [219, 276, 278, 329], [138, 236], [57], [273, 276, 218], [], [45, 88, 170], [113, 21, 184, 101], [14, 22, 151, 268], [], [], [115, 339, 100, 324], [315, 31, 138, 346], [182, 57, 357, 72], [83, 340, 37, 335], [187, 200, 240, 54], [53, 229, 238], [118, 281, 100], [181, 351], [247]]]}, \"header\": {\"align\": \"center\", \"fill\": {\"color\": \"#C2D4FF\"}, \"values\": [\"Students\", \"Video1\", \"Video2\", \"Video3\", \"Video4\", \"Video5\"]}, \"type\": \"table\", \"uid\": \"6fbdeebc-e1bf-11e8-81b5-2d0a4fadc81a\"}], {}, {\"showLink\": true, \"linkText\": \"Export to plot.ly\"})});</script>"
      ],
      "text/vnd.plotly.v1+html": [
       "<div id=\"c3ed8efa-7e0a-46a8-aef3-f4d56afbefab\" style=\"height: 525px; width: 100%;\" class=\"plotly-graph-div\"></div><script type=\"text/javascript\">require([\"plotly\"], function(Plotly) { window.PLOTLYENV=window.PLOTLYENV || {};window.PLOTLYENV.BASE_URL=\"https://plot.ly\";Plotly.newPlot(\"c3ed8efa-7e0a-46a8-aef3-f4d56afbefab\", [{\"cells\": {\"align\": [\"left\", \"center\"], \"fill\": {\"color\": \"#F5F8FF\"}, \"values\": [[\"Student_1\", \"Student_2\", \"Student_3\", \"Student_4\", \"Student_5\", \"Student_6\", \"Student_7\", \"Student_8\", \"Student_9\", \"Student_10\", \"Student_11\", \"Student_12\", \"Student_13\", \"Student_14\", \"Student_15\", \"Student_16\", \"Student_17\", \"Student_18\", \"Student_19\", \"Student_20\"], [[272, 19, 341], [222, 337, 18, 93], [337, 226], [], [226, 25], [220, 147, 299, 225], [181, 215], [323, 261, 123], [], [], [38], [182, 19, 257, 153], [145, 108, 85], [9, 30], [234, 325, 228, 63], [219], [], [], [335, 220, 247, 285], [216, 357]], [[345], [], [40, 326, 209], [221], [288, 239, 167, 340], [43, 171, 217, 6], [281, 210, 155], [84, 357], [63, 288, 222, 329], [], [57, 25, 158], [133, 103, 22, 358], [52, 105], [213, 164, 296, 258], [254, 238], [228], [98], [114], [212, 246], [82, 120, 313, 214]], [[62, 294, 11, 242], [79], [350, 132, 32, 135], [21, 146, 350, 47], [262, 80, 190, 29], [142], [129, 276, 39, 78], [], [251, 243], [320], [242], [], [56], [279, 192, 170, 148], [56], [126, 326, 192], [], [12, 272, 25], [], [132, 265]], [[130], [102, 171], [255, 352], [133, 158, 11], [299, 286, 41], [63], [275], [211, 146], [280, 98, 202], [337], [108, 218, 155, 349], [95, 90], [25, 318, 69, 299], [17], [102], [], [10], [], [254, 184, 312, 86], [148, 72, 103, 157]], [[296], [219, 276, 278, 329], [138, 236], [57], [273, 276, 218], [], [45, 88, 170], [113, 21, 184, 101], [14, 22, 151, 268], [], [], [115, 339, 100, 324], [315, 31, 138, 346], [182, 57, 357, 72], [83, 340, 37, 335], [187, 200, 240, 54], [53, 229, 238], [118, 281, 100], [181, 351], [247]]]}, \"header\": {\"align\": \"center\", \"fill\": {\"color\": \"#C2D4FF\"}, \"values\": [\"Students\", \"Video1\", \"Video2\", \"Video3\", \"Video4\", \"Video5\"]}, \"type\": \"table\", \"uid\": \"6fbdeebc-e1bf-11e8-81b5-2d0a4fadc81a\"}], {}, {\"showLink\": true, \"linkText\": \"Export to plot.ly\"})});</script>"
      ]
     },
     "metadata": {},
     "output_type": "display_data"
    }
   ],
   "source": [
    "run scripts/V004.py"
   ]
  },
  {
   "cell_type": "markdown",
   "metadata": {},
   "source": [
    "### View 005"
   ]
  },
  {
   "cell_type": "code",
   "execution_count": null,
   "metadata": {},
   "outputs": [],
   "source": [
    "run scripts/V005.py"
   ]
  },
  {
   "cell_type": "markdown",
   "metadata": {},
   "source": [
    "### View 006"
   ]
  },
  {
   "cell_type": "code",
   "execution_count": null,
   "metadata": {},
   "outputs": [],
   "source": [
    "run scripts/V006.py"
   ]
  },
  {
   "cell_type": "markdown",
   "metadata": {},
   "source": [
    "### View 007"
   ]
  },
  {
   "cell_type": "code",
   "execution_count": null,
   "metadata": {},
   "outputs": [],
   "source": [
    "run scripts/V007.py"
   ]
  },
  {
   "cell_type": "markdown",
   "metadata": {},
   "source": [
    "### View 008"
   ]
  },
  {
   "cell_type": "code",
   "execution_count": null,
   "metadata": {},
   "outputs": [],
   "source": [
    "run scripts/V008.py"
   ]
  },
  {
   "cell_type": "markdown",
   "metadata": {},
   "source": [
    "### View 009"
   ]
  },
  {
   "cell_type": "code",
   "execution_count": null,
   "metadata": {},
   "outputs": [],
   "source": [
    "run scripts/V009.py"
   ]
  },
  {
   "cell_type": "markdown",
   "metadata": {},
   "source": [
    "### View 010"
   ]
  },
  {
   "cell_type": "code",
   "execution_count": 46,
   "metadata": {},
   "outputs": [],
   "source": [
    "run scripts/V010.py"
   ]
  },
  {
   "cell_type": "markdown",
   "metadata": {},
   "source": [
    "### View 011"
   ]
  },
  {
   "cell_type": "code",
   "execution_count": null,
   "metadata": {},
   "outputs": [],
   "source": [
    "run scripts/V011.py"
   ]
  }
 ],
 "metadata": {
  "kernelspec": {
   "display_name": "Python 3",
   "language": "python",
   "name": "python3"
  },
  "language_info": {
   "codemirror_mode": {
    "name": "ipython",
    "version": 3
   },
   "file_extension": ".py",
   "mimetype": "text/x-python",
   "name": "python",
   "nbconvert_exporter": "python",
   "pygments_lexer": "ipython3",
   "version": "3.7.0"
  }
 },
 "nbformat": 4,
 "nbformat_minor": 2
}
