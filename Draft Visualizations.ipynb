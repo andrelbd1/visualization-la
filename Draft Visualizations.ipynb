{
 "cells": [
  {
   "cell_type": "markdown",
   "metadata": {},
   "source": [
    "### View 001"
   ]
  },
  {
   "cell_type": "code",
   "execution_count": 1,
   "metadata": {},
   "outputs": [
    {
     "data": {
      "text/html": [
       "<script>requirejs.config({paths: { 'plotly': ['https://cdn.plot.ly/plotly-latest.min']},});if(!window.Plotly) {{require(['plotly'],function(plotly) {window.Plotly=plotly;});}}</script>"
      ],
      "text/vnd.plotly.v1+html": [
       "<script>requirejs.config({paths: { 'plotly': ['https://cdn.plot.ly/plotly-latest.min']},});if(!window.Plotly) {{require(['plotly'],function(plotly) {window.Plotly=plotly;});}}</script>"
      ]
     },
     "metadata": {},
     "output_type": "display_data"
    },
    {
     "data": {
      "application/vnd.plotly.v1+json": {
       "data": [
        {
         "cells": {
          "align": [
           "left",
           "center"
          ],
          "fill": {
           "color": "#F5F8FF"
          },
          "values": [
           [
            "Student_1",
            "Student_2",
            "Student_3",
            "Student_4",
            "Student_5",
            "Student_6",
            "Student_7",
            "Student_8",
            "Student_9",
            "Student_10",
            "Student_11",
            "Student_12",
            "Student_13",
            "Student_14",
            "Student_15",
            "Student_16",
            "Student_17",
            "Student_18",
            "Student_19",
            "Student_20"
           ],
           [
            1,
            0,
            1,
            1,
            1,
            1,
            1,
            0,
            1,
            0,
            0,
            0,
            0,
            1,
            1,
            1,
            0,
            1,
            1,
            1
           ],
           [
            1,
            1,
            1,
            0,
            0,
            1,
            1,
            0,
            1,
            0,
            1,
            1,
            0,
            1,
            1,
            0,
            0,
            0,
            1,
            1
           ],
           [
            0,
            0,
            0,
            1,
            0,
            0,
            0,
            1,
            1,
            1,
            1,
            0,
            0,
            0,
            0,
            0,
            1,
            0,
            1,
            0
           ],
           [
            1,
            0,
            1,
            0,
            1,
            1,
            0,
            1,
            0,
            1,
            0,
            1,
            0,
            1,
            1,
            1,
            0,
            1,
            1,
            1
           ]
          ]
         },
         "header": {
          "align": "center",
          "fill": {
           "color": "#C2D4FF"
          },
          "values": [
           "Students",
           "Assign1",
           "Assign2",
           "Assign3",
           "Assign4"
          ]
         },
         "type": "table",
         "uid": "4caf9c26-ddce-11e8-b3fd-cd1e154e22ff"
        }
       ],
       "layout": {}
      },
      "text/html": [
       "<div id=\"856e16e8-b75e-4222-b8e0-f6e1f8899dd0\" style=\"height: 525px; width: 100%;\" class=\"plotly-graph-div\"></div><script type=\"text/javascript\">require([\"plotly\"], function(Plotly) { window.PLOTLYENV=window.PLOTLYENV || {};window.PLOTLYENV.BASE_URL=\"https://plot.ly\";Plotly.newPlot(\"856e16e8-b75e-4222-b8e0-f6e1f8899dd0\", [{\"cells\": {\"align\": [\"left\", \"center\"], \"fill\": {\"color\": \"#F5F8FF\"}, \"values\": [[\"Student_1\", \"Student_2\", \"Student_3\", \"Student_4\", \"Student_5\", \"Student_6\", \"Student_7\", \"Student_8\", \"Student_9\", \"Student_10\", \"Student_11\", \"Student_12\", \"Student_13\", \"Student_14\", \"Student_15\", \"Student_16\", \"Student_17\", \"Student_18\", \"Student_19\", \"Student_20\"], [1, 0, 1, 1, 1, 1, 1, 0, 1, 0, 0, 0, 0, 1, 1, 1, 0, 1, 1, 1], [1, 1, 1, 0, 0, 1, 1, 0, 1, 0, 1, 1, 0, 1, 1, 0, 0, 0, 1, 1], [0, 0, 0, 1, 0, 0, 0, 1, 1, 1, 1, 0, 0, 0, 0, 0, 1, 0, 1, 0], [1, 0, 1, 0, 1, 1, 0, 1, 0, 1, 0, 1, 0, 1, 1, 1, 0, 1, 1, 1]]}, \"header\": {\"align\": \"center\", \"fill\": {\"color\": \"#C2D4FF\"}, \"values\": [\"Students\", \"Assign1\", \"Assign2\", \"Assign3\", \"Assign4\"]}, \"type\": \"table\", \"uid\": \"5ef9f87c-ddce-11e8-b3fd-cd1e154e22ff\"}], {}, {\"showLink\": true, \"linkText\": \"Export to plot.ly\"})});</script>"
      ],
      "text/vnd.plotly.v1+html": [
       "<div id=\"856e16e8-b75e-4222-b8e0-f6e1f8899dd0\" style=\"height: 525px; width: 100%;\" class=\"plotly-graph-div\"></div><script type=\"text/javascript\">require([\"plotly\"], function(Plotly) { window.PLOTLYENV=window.PLOTLYENV || {};window.PLOTLYENV.BASE_URL=\"https://plot.ly\";Plotly.newPlot(\"856e16e8-b75e-4222-b8e0-f6e1f8899dd0\", [{\"cells\": {\"align\": [\"left\", \"center\"], \"fill\": {\"color\": \"#F5F8FF\"}, \"values\": [[\"Student_1\", \"Student_2\", \"Student_3\", \"Student_4\", \"Student_5\", \"Student_6\", \"Student_7\", \"Student_8\", \"Student_9\", \"Student_10\", \"Student_11\", \"Student_12\", \"Student_13\", \"Student_14\", \"Student_15\", \"Student_16\", \"Student_17\", \"Student_18\", \"Student_19\", \"Student_20\"], [1, 0, 1, 1, 1, 1, 1, 0, 1, 0, 0, 0, 0, 1, 1, 1, 0, 1, 1, 1], [1, 1, 1, 0, 0, 1, 1, 0, 1, 0, 1, 1, 0, 1, 1, 0, 0, 0, 1, 1], [0, 0, 0, 1, 0, 0, 0, 1, 1, 1, 1, 0, 0, 0, 0, 0, 1, 0, 1, 0], [1, 0, 1, 0, 1, 1, 0, 1, 0, 1, 0, 1, 0, 1, 1, 1, 0, 1, 1, 1]]}, \"header\": {\"align\": \"center\", \"fill\": {\"color\": \"#C2D4FF\"}, \"values\": [\"Students\", \"Assign1\", \"Assign2\", \"Assign3\", \"Assign4\"]}, \"type\": \"table\", \"uid\": \"5ef9f87c-ddce-11e8-b3fd-cd1e154e22ff\"}], {}, {\"showLink\": true, \"linkText\": \"Export to plot.ly\"})});</script>"
      ]
     },
     "metadata": {},
     "output_type": "display_data"
    },
    {
     "data": {
      "application/vnd.plotly.v1+json": {
       "data": [
        {
         "type": "bar",
         "uid": "62d3cd10-ddce-11e8-b3fd-cd1e154e22ff",
         "x": [
          "Student_1",
          "Student_2",
          "Student_3",
          "Student_4",
          "Student_5",
          "Student_6",
          "Student_7",
          "Student_8",
          "Student_9",
          "Student_10",
          "Student_11",
          "Student_12",
          "Student_13",
          "Student_14",
          "Student_15",
          "Student_16",
          "Student_17",
          "Student_18",
          "Student_19",
          "Student_20"
         ],
         "y": [
          3,
          1,
          3,
          2,
          2,
          3,
          2,
          2,
          3,
          2,
          2,
          2,
          0,
          3,
          3,
          2,
          1,
          2,
          4,
          3
         ]
        }
       ],
       "layout": {
        "title": "Quantidade de tarefas feitas por alunos",
        "yaxis": {
         "dtick": 1,
         "exponentformat": "e",
         "gridcolor": "#bdbdbd",
         "showexponent": "all",
         "showticklabels": true,
         "tick0": 0,
         "titlefont": {
          "color": "lightgrey",
          "family": "Arial, sans-serif"
         }
        }
       }
      },
      "text/html": [
       "<div id=\"eb9009b1-46f3-4d7f-a24c-8e77cf5fdb7b\" style=\"height: 525px; width: 100%;\" class=\"plotly-graph-div\"></div><script type=\"text/javascript\">require([\"plotly\"], function(Plotly) { window.PLOTLYENV=window.PLOTLYENV || {};window.PLOTLYENV.BASE_URL=\"https://plot.ly\";\n",
       "        Plotly.plot(\n",
       "            'eb9009b1-46f3-4d7f-a24c-8e77cf5fdb7b',\n",
       "            [{\"x\": [\"Student_1\", \"Student_2\", \"Student_3\", \"Student_4\", \"Student_5\", \"Student_6\", \"Student_7\", \"Student_8\", \"Student_9\", \"Student_10\", \"Student_11\", \"Student_12\", \"Student_13\", \"Student_14\", \"Student_15\", \"Student_16\", \"Student_17\", \"Student_18\", \"Student_19\", \"Student_20\"], \"y\": [3.0, 1.0, 3.0, 2.0, 2.0, 3.0, 2.0, 2.0, 3.0, 2.0, 2.0, 2.0, 0.0, 3.0, 3.0, 2.0, 1.0, 2.0, 4.0, 3.0], \"type\": \"bar\", \"uid\": \"62d3cd10-ddce-11e8-b3fd-cd1e154e22ff\"}],\n",
       "            {\"title\": \"Quantidade de tarefas feitas por alunos\", \"yaxis\": {\"dtick\": 1, \"exponentformat\": \"e\", \"gridcolor\": \"#bdbdbd\", \"showexponent\": \"all\", \"showticklabels\": true, \"tick0\": 0, \"titlefont\": {\"color\": \"lightgrey\", \"family\": \"Arial, sans-serif\"}}},\n",
       "            {\"showLink\": true, \"linkText\": \"Export to plot.ly\"}\n",
       "        ).then(function () {return Plotly.addFrames('eb9009b1-46f3-4d7f-a24c-8e77cf5fdb7b',{});}).then(function(){Plotly.animate('eb9009b1-46f3-4d7f-a24c-8e77cf5fdb7b');})\n",
       "        });</script>"
      ],
      "text/vnd.plotly.v1+html": [
       "<div id=\"eb9009b1-46f3-4d7f-a24c-8e77cf5fdb7b\" style=\"height: 525px; width: 100%;\" class=\"plotly-graph-div\"></div><script type=\"text/javascript\">require([\"plotly\"], function(Plotly) { window.PLOTLYENV=window.PLOTLYENV || {};window.PLOTLYENV.BASE_URL=\"https://plot.ly\";\n",
       "        Plotly.plot(\n",
       "            'eb9009b1-46f3-4d7f-a24c-8e77cf5fdb7b',\n",
       "            [{\"x\": [\"Student_1\", \"Student_2\", \"Student_3\", \"Student_4\", \"Student_5\", \"Student_6\", \"Student_7\", \"Student_8\", \"Student_9\", \"Student_10\", \"Student_11\", \"Student_12\", \"Student_13\", \"Student_14\", \"Student_15\", \"Student_16\", \"Student_17\", \"Student_18\", \"Student_19\", \"Student_20\"], \"y\": [3.0, 1.0, 3.0, 2.0, 2.0, 3.0, 2.0, 2.0, 3.0, 2.0, 2.0, 2.0, 0.0, 3.0, 3.0, 2.0, 1.0, 2.0, 4.0, 3.0], \"type\": \"bar\", \"uid\": \"62d3cd10-ddce-11e8-b3fd-cd1e154e22ff\"}],\n",
       "            {\"title\": \"Quantidade de tarefas feitas por alunos\", \"yaxis\": {\"dtick\": 1, \"exponentformat\": \"e\", \"gridcolor\": \"#bdbdbd\", \"showexponent\": \"all\", \"showticklabels\": true, \"tick0\": 0, \"titlefont\": {\"color\": \"lightgrey\", \"family\": \"Arial, sans-serif\"}}},\n",
       "            {\"showLink\": true, \"linkText\": \"Export to plot.ly\"}\n",
       "        ).then(function () {return Plotly.addFrames('eb9009b1-46f3-4d7f-a24c-8e77cf5fdb7b',{});}).then(function(){Plotly.animate('eb9009b1-46f3-4d7f-a24c-8e77cf5fdb7b');})\n",
       "        });</script>"
      ]
     },
     "metadata": {},
     "output_type": "display_data"
    },
    {
     "data": {
      "application/vnd.plotly.v1+json": {
       "data": [
        {
         "type": "bar",
         "uid": "62dda8f8-ddce-11e8-b3fd-cd1e154e22ff",
         "x": [
          "Assign1",
          "Assign2",
          "Assign3",
          "Assign4"
         ],
         "y": [
          13,
          12,
          7,
          13
         ]
        }
       ],
       "layout": {
        "title": "Quantidade de alunos que fizeram as tarefas",
        "yaxis": {
         "dtick": 1,
         "exponentformat": "e",
         "gridcolor": "#bdbdbd",
         "showexponent": "all",
         "showticklabels": true,
         "tick0": 0,
         "titlefont": {
          "color": "lightgrey",
          "family": "Arial, sans-serif"
         }
        }
       }
      },
      "text/html": [
       "<div id=\"c8d520ea-6250-4d9f-b358-aefcb9dcd9f1\" style=\"height: 525px; width: 100%;\" class=\"plotly-graph-div\"></div><script type=\"text/javascript\">require([\"plotly\"], function(Plotly) { window.PLOTLYENV=window.PLOTLYENV || {};window.PLOTLYENV.BASE_URL=\"https://plot.ly\";\n",
       "        Plotly.plot(\n",
       "            'c8d520ea-6250-4d9f-b358-aefcb9dcd9f1',\n",
       "            [{\"x\": [\"Assign1\", \"Assign2\", \"Assign3\", \"Assign4\"], \"y\": [13, 12, 7, 13], \"type\": \"bar\", \"uid\": \"62dda8f8-ddce-11e8-b3fd-cd1e154e22ff\"}],\n",
       "            {\"title\": \"Quantidade de alunos que fizeram as tarefas\", \"yaxis\": {\"dtick\": 1, \"exponentformat\": \"e\", \"gridcolor\": \"#bdbdbd\", \"showexponent\": \"all\", \"showticklabels\": true, \"tick0\": 0, \"titlefont\": {\"color\": \"lightgrey\", \"family\": \"Arial, sans-serif\"}}},\n",
       "            {\"showLink\": true, \"linkText\": \"Export to plot.ly\"}\n",
       "        ).then(function () {return Plotly.addFrames('c8d520ea-6250-4d9f-b358-aefcb9dcd9f1',{});}).then(function(){Plotly.animate('c8d520ea-6250-4d9f-b358-aefcb9dcd9f1');})\n",
       "        });</script>"
      ],
      "text/vnd.plotly.v1+html": [
       "<div id=\"c8d520ea-6250-4d9f-b358-aefcb9dcd9f1\" style=\"height: 525px; width: 100%;\" class=\"plotly-graph-div\"></div><script type=\"text/javascript\">require([\"plotly\"], function(Plotly) { window.PLOTLYENV=window.PLOTLYENV || {};window.PLOTLYENV.BASE_URL=\"https://plot.ly\";\n",
       "        Plotly.plot(\n",
       "            'c8d520ea-6250-4d9f-b358-aefcb9dcd9f1',\n",
       "            [{\"x\": [\"Assign1\", \"Assign2\", \"Assign3\", \"Assign4\"], \"y\": [13, 12, 7, 13], \"type\": \"bar\", \"uid\": \"62dda8f8-ddce-11e8-b3fd-cd1e154e22ff\"}],\n",
       "            {\"title\": \"Quantidade de alunos que fizeram as tarefas\", \"yaxis\": {\"dtick\": 1, \"exponentformat\": \"e\", \"gridcolor\": \"#bdbdbd\", \"showexponent\": \"all\", \"showticklabels\": true, \"tick0\": 0, \"titlefont\": {\"color\": \"lightgrey\", \"family\": \"Arial, sans-serif\"}}},\n",
       "            {\"showLink\": true, \"linkText\": \"Export to plot.ly\"}\n",
       "        ).then(function () {return Plotly.addFrames('c8d520ea-6250-4d9f-b358-aefcb9dcd9f1',{});}).then(function(){Plotly.animate('c8d520ea-6250-4d9f-b358-aefcb9dcd9f1');})\n",
       "        });</script>"
      ]
     },
     "metadata": {},
     "output_type": "display_data"
    },
    {
     "data": {
      "application/vnd.plotly.v1+json": {
       "data": [
        {
         "cells": {
          "align": [
           "left",
           "center"
          ],
          "fill": {
           "color": "#F5F8FF"
          },
          "values": [
           [
            "Assign1",
            "Assign2",
            "Assign3",
            "Assign4"
           ],
           [
            1,
            1,
            0,
            1
           ],
           [
            0,
            1,
            0,
            0
           ],
           [
            1,
            1,
            0,
            1
           ],
           [
            1,
            0,
            1,
            0
           ],
           [
            1,
            0,
            0,
            1
           ],
           [
            1,
            1,
            0,
            1
           ],
           [
            1,
            1,
            0,
            0
           ],
           [
            0,
            0,
            1,
            1
           ],
           [
            1,
            1,
            1,
            0
           ],
           [
            0,
            0,
            1,
            1
           ],
           [
            0,
            1,
            1,
            0
           ],
           [
            0,
            1,
            0,
            1
           ],
           [
            0,
            0,
            0,
            0
           ],
           [
            1,
            1,
            0,
            1
           ],
           [
            1,
            1,
            0,
            1
           ],
           [
            1,
            0,
            0,
            1
           ],
           [
            0,
            0,
            1,
            0
           ],
           [
            1,
            0,
            0,
            1
           ],
           [
            1,
            1,
            1,
            1
           ],
           [
            1,
            1,
            0,
            1
           ]
          ]
         },
         "header": {
          "align": "center",
          "fill": {
           "color": "#C2D4FF"
          },
          "values": [
           "Assign",
           "Student_1",
           "Student_2",
           "Student_3",
           "Student_4",
           "Student_5",
           "Student_6",
           "Student_7",
           "Student_8",
           "Student_9",
           "Student_10",
           "Student_11",
           "Student_12",
           "Student_13",
           "Student_14",
           "Student_15",
           "Student_16",
           "Student_17",
           "Student_18",
           "Student_19",
           "Student_20"
          ]
         },
         "type": "table",
         "uid": "62e5707e-ddce-11e8-b3fd-cd1e154e22ff"
        }
       ],
       "layout": {}
      },
      "text/html": [
       "<div id=\"f5573429-6a37-4764-9b5b-0ce8e5ee02aa\" style=\"height: 525px; width: 100%;\" class=\"plotly-graph-div\"></div><script type=\"text/javascript\">require([\"plotly\"], function(Plotly) { window.PLOTLYENV=window.PLOTLYENV || {};window.PLOTLYENV.BASE_URL=\"https://plot.ly\";Plotly.newPlot(\"f5573429-6a37-4764-9b5b-0ce8e5ee02aa\", [{\"cells\": {\"align\": [\"left\", \"center\"], \"fill\": {\"color\": \"#F5F8FF\"}, \"values\": [[\"Assign1\", \"Assign2\", \"Assign3\", \"Assign4\"], [1, 1, 0, 1], [0, 1, 0, 0], [1, 1, 0, 1], [1, 0, 1, 0], [1, 0, 0, 1], [1, 1, 0, 1], [1, 1, 0, 0], [0, 0, 1, 1], [1, 1, 1, 0], [0, 0, 1, 1], [0, 1, 1, 0], [0, 1, 0, 1], [0, 0, 0, 0], [1, 1, 0, 1], [1, 1, 0, 1], [1, 0, 0, 1], [0, 0, 1, 0], [1, 0, 0, 1], [1, 1, 1, 1], [1, 1, 0, 1]]}, \"header\": {\"align\": \"center\", \"fill\": {\"color\": \"#C2D4FF\"}, \"values\": [\"Assign\", \"Student_1\", \"Student_2\", \"Student_3\", \"Student_4\", \"Student_5\", \"Student_6\", \"Student_7\", \"Student_8\", \"Student_9\", \"Student_10\", \"Student_11\", \"Student_12\", \"Student_13\", \"Student_14\", \"Student_15\", \"Student_16\", \"Student_17\", \"Student_18\", \"Student_19\", \"Student_20\"]}, \"type\": \"table\", \"uid\": \"62ea227c-ddce-11e8-b3fd-cd1e154e22ff\"}], {}, {\"showLink\": true, \"linkText\": \"Export to plot.ly\"})});</script>"
      ],
      "text/vnd.plotly.v1+html": [
       "<div id=\"f5573429-6a37-4764-9b5b-0ce8e5ee02aa\" style=\"height: 525px; width: 100%;\" class=\"plotly-graph-div\"></div><script type=\"text/javascript\">require([\"plotly\"], function(Plotly) { window.PLOTLYENV=window.PLOTLYENV || {};window.PLOTLYENV.BASE_URL=\"https://plot.ly\";Plotly.newPlot(\"f5573429-6a37-4764-9b5b-0ce8e5ee02aa\", [{\"cells\": {\"align\": [\"left\", \"center\"], \"fill\": {\"color\": \"#F5F8FF\"}, \"values\": [[\"Assign1\", \"Assign2\", \"Assign3\", \"Assign4\"], [1, 1, 0, 1], [0, 1, 0, 0], [1, 1, 0, 1], [1, 0, 1, 0], [1, 0, 0, 1], [1, 1, 0, 1], [1, 1, 0, 0], [0, 0, 1, 1], [1, 1, 1, 0], [0, 0, 1, 1], [0, 1, 1, 0], [0, 1, 0, 1], [0, 0, 0, 0], [1, 1, 0, 1], [1, 1, 0, 1], [1, 0, 0, 1], [0, 0, 1, 0], [1, 0, 0, 1], [1, 1, 1, 1], [1, 1, 0, 1]]}, \"header\": {\"align\": \"center\", \"fill\": {\"color\": \"#C2D4FF\"}, \"values\": [\"Assign\", \"Student_1\", \"Student_2\", \"Student_3\", \"Student_4\", \"Student_5\", \"Student_6\", \"Student_7\", \"Student_8\", \"Student_9\", \"Student_10\", \"Student_11\", \"Student_12\", \"Student_13\", \"Student_14\", \"Student_15\", \"Student_16\", \"Student_17\", \"Student_18\", \"Student_19\", \"Student_20\"]}, \"type\": \"table\", \"uid\": \"62ea227c-ddce-11e8-b3fd-cd1e154e22ff\"}], {}, {\"showLink\": true, \"linkText\": \"Export to plot.ly\"})});</script>"
      ]
     },
     "metadata": {},
     "output_type": "display_data"
    }
   ],
   "source": [
    "run scripts/V001.py"
   ]
  },
  {
   "cell_type": "markdown",
   "metadata": {},
   "source": [
    "### View 002"
   ]
  },
  {
   "cell_type": "code",
   "execution_count": 51,
   "metadata": {},
   "outputs": [
    {
     "data": {
      "text/html": [
       "<script>requirejs.config({paths: { 'plotly': ['https://cdn.plot.ly/plotly-latest.min']},});if(!window.Plotly) {{require(['plotly'],function(plotly) {window.Plotly=plotly;});}}</script>"
      ],
      "text/vnd.plotly.v1+html": [
       "<script>requirejs.config({paths: { 'plotly': ['https://cdn.plot.ly/plotly-latest.min']},});if(!window.Plotly) {{require(['plotly'],function(plotly) {window.Plotly=plotly;});}}</script>"
      ]
     },
     "metadata": {},
     "output_type": "display_data"
    },
    {
     "data": {
      "application/vnd.plotly.v1+json": {
       "data": [
        {
         "cells": {
          "align": [
           "left",
           "center"
          ],
          "fill": {
           "color": "#F5F8FF"
          },
          "values": [
           [
            "Student_1",
            "Student_2",
            "Student_3",
            "Student_4",
            "Student_5",
            "Student_6",
            "Student_7",
            "Student_8",
            "Student_9",
            "Student_10",
            "Student_11",
            "Student_12",
            "Student_13",
            "Student_14",
            "Student_15",
            "Student_16",
            "Student_17",
            "Student_18",
            "Student_19",
            "Student_20"
           ],
           [
            8,
            0,
            4,
            23,
            7,
            27,
            4,
            15,
            7,
            15,
            9,
            21,
            0,
            19,
            28,
            24,
            16,
            19,
            19,
            7
           ],
           [
            19,
            5,
            22,
            0,
            7,
            22,
            24,
            6,
            16,
            12,
            27,
            17,
            2,
            20,
            16,
            13,
            1,
            10,
            28,
            17
           ],
           [
            24,
            10,
            2,
            14,
            8,
            10,
            29,
            27,
            12,
            3,
            9,
            16,
            23,
            6,
            2,
            15,
            6,
            28,
            16,
            13
           ],
           [
            3,
            26,
            1,
            12,
            19,
            29,
            15,
            8,
            7,
            22,
            3,
            5,
            21,
            23,
            29,
            14,
            1,
            29,
            23,
            0
           ],
           [
            18,
            23,
            19,
            9,
            8,
            21,
            15,
            27,
            23,
            1,
            18,
            18,
            25,
            17,
            24,
            4,
            25,
            13,
            11,
            1
           ],
           [
            6,
            24,
            21,
            23,
            24,
            6,
            29,
            20,
            24,
            1,
            28,
            21,
            14,
            5,
            1,
            17,
            14,
            16,
            13,
            7
           ],
           [
            7,
            9,
            9,
            26,
            24,
            3,
            0,
            4,
            9,
            26,
            13,
            10,
            29,
            23,
            20,
            0,
            22,
            13,
            22,
            17
           ],
           [
            6,
            20,
            25,
            20,
            29,
            9,
            2,
            5,
            12,
            16,
            14,
            25,
            2,
            21,
            23,
            21,
            26,
            5,
            11,
            22
           ]
          ]
         },
         "header": {
          "align": "center",
          "fill": {
           "color": "#C2D4FF"
          },
          "values": [
           "Students",
           "Video1",
           "Video2",
           "Quiz1",
           "Quiz2",
           "Pdf1",
           "Pdf2",
           "Ebook1",
           "Ebook2"
          ]
         },
         "type": "table",
         "uid": "fb53d066-dded-11e8-b3fd-cd1e154e22ff"
        }
       ],
       "layout": {}
      },
      "text/html": [
       "<div id=\"319df27d-5d2e-483c-a9f0-343a477c7139\" style=\"height: 525px; width: 100%;\" class=\"plotly-graph-div\"></div><script type=\"text/javascript\">require([\"plotly\"], function(Plotly) { window.PLOTLYENV=window.PLOTLYENV || {};window.PLOTLYENV.BASE_URL=\"https://plot.ly\";Plotly.newPlot(\"319df27d-5d2e-483c-a9f0-343a477c7139\", [{\"cells\": {\"align\": [\"left\", \"center\"], \"fill\": {\"color\": \"#F5F8FF\"}, \"values\": [[\"Student_1\", \"Student_2\", \"Student_3\", \"Student_4\", \"Student_5\", \"Student_6\", \"Student_7\", \"Student_8\", \"Student_9\", \"Student_10\", \"Student_11\", \"Student_12\", \"Student_13\", \"Student_14\", \"Student_15\", \"Student_16\", \"Student_17\", \"Student_18\", \"Student_19\", \"Student_20\"], [8, 0, 4, 23, 7, 27, 4, 15, 7, 15, 9, 21, 0, 19, 28, 24, 16, 19, 19, 7], [19, 5, 22, 0, 7, 22, 24, 6, 16, 12, 27, 17, 2, 20, 16, 13, 1, 10, 28, 17], [24, 10, 2, 14, 8, 10, 29, 27, 12, 3, 9, 16, 23, 6, 2, 15, 6, 28, 16, 13], [3, 26, 1, 12, 19, 29, 15, 8, 7, 22, 3, 5, 21, 23, 29, 14, 1, 29, 23, 0], [18, 23, 19, 9, 8, 21, 15, 27, 23, 1, 18, 18, 25, 17, 24, 4, 25, 13, 11, 1], [6, 24, 21, 23, 24, 6, 29, 20, 24, 1, 28, 21, 14, 5, 1, 17, 14, 16, 13, 7], [7, 9, 9, 26, 24, 3, 0, 4, 9, 26, 13, 10, 29, 23, 20, 0, 22, 13, 22, 17], [6, 20, 25, 20, 29, 9, 2, 5, 12, 16, 14, 25, 2, 21, 23, 21, 26, 5, 11, 22]]}, \"header\": {\"align\": \"center\", \"fill\": {\"color\": \"#C2D4FF\"}, \"values\": [\"Students\", \"Video1\", \"Video2\", \"Quiz1\", \"Quiz2\", \"Pdf1\", \"Pdf2\", \"Ebook1\", \"Ebook2\"]}, \"type\": \"table\", \"uid\": \"fb86db78-dded-11e8-b3fd-cd1e154e22ff\"}], {}, {\"showLink\": true, \"linkText\": \"Export to plot.ly\"})});</script>"
      ],
      "text/vnd.plotly.v1+html": [
       "<div id=\"319df27d-5d2e-483c-a9f0-343a477c7139\" style=\"height: 525px; width: 100%;\" class=\"plotly-graph-div\"></div><script type=\"text/javascript\">require([\"plotly\"], function(Plotly) { window.PLOTLYENV=window.PLOTLYENV || {};window.PLOTLYENV.BASE_URL=\"https://plot.ly\";Plotly.newPlot(\"319df27d-5d2e-483c-a9f0-343a477c7139\", [{\"cells\": {\"align\": [\"left\", \"center\"], \"fill\": {\"color\": \"#F5F8FF\"}, \"values\": [[\"Student_1\", \"Student_2\", \"Student_3\", \"Student_4\", \"Student_5\", \"Student_6\", \"Student_7\", \"Student_8\", \"Student_9\", \"Student_10\", \"Student_11\", \"Student_12\", \"Student_13\", \"Student_14\", \"Student_15\", \"Student_16\", \"Student_17\", \"Student_18\", \"Student_19\", \"Student_20\"], [8, 0, 4, 23, 7, 27, 4, 15, 7, 15, 9, 21, 0, 19, 28, 24, 16, 19, 19, 7], [19, 5, 22, 0, 7, 22, 24, 6, 16, 12, 27, 17, 2, 20, 16, 13, 1, 10, 28, 17], [24, 10, 2, 14, 8, 10, 29, 27, 12, 3, 9, 16, 23, 6, 2, 15, 6, 28, 16, 13], [3, 26, 1, 12, 19, 29, 15, 8, 7, 22, 3, 5, 21, 23, 29, 14, 1, 29, 23, 0], [18, 23, 19, 9, 8, 21, 15, 27, 23, 1, 18, 18, 25, 17, 24, 4, 25, 13, 11, 1], [6, 24, 21, 23, 24, 6, 29, 20, 24, 1, 28, 21, 14, 5, 1, 17, 14, 16, 13, 7], [7, 9, 9, 26, 24, 3, 0, 4, 9, 26, 13, 10, 29, 23, 20, 0, 22, 13, 22, 17], [6, 20, 25, 20, 29, 9, 2, 5, 12, 16, 14, 25, 2, 21, 23, 21, 26, 5, 11, 22]]}, \"header\": {\"align\": \"center\", \"fill\": {\"color\": \"#C2D4FF\"}, \"values\": [\"Students\", \"Video1\", \"Video2\", \"Quiz1\", \"Quiz2\", \"Pdf1\", \"Pdf2\", \"Ebook1\", \"Ebook2\"]}, \"type\": \"table\", \"uid\": \"fb86db78-dded-11e8-b3fd-cd1e154e22ff\"}], {}, {\"showLink\": true, \"linkText\": \"Export to plot.ly\"})});</script>"
      ]
     },
     "metadata": {},
     "output_type": "display_data"
    },
    {
     "data": {
      "application/vnd.plotly.v1+json": {
       "data": [
        {
         "marker": {
          "line": {
           "width": 2
          },
          "size": [
           8,
           19,
           24,
           3,
           18,
           6,
           7,
           6
          ],
          "sizemode": "area",
          "sizeref": 0.0058,
          "symbol": "circle"
         },
         "mode": "markers",
         "name": "Student_1",
         "type": "scatter",
         "uid": "fbc5227a-dded-11e8-b3fd-cd1e154e22ff",
         "x": [
          "Student_1",
          "Student_1",
          "Student_1",
          "Student_1",
          "Student_1",
          "Student_1",
          "Student_1",
          "Student_1"
         ],
         "y": [
          "Video1",
          "Video2",
          "Quiz1",
          "Quiz2",
          "Pdf1",
          "Pdf2",
          "Ebook1",
          "Ebook2"
         ]
        },
        {
         "marker": {
          "line": {
           "width": 2
          },
          "size": [
           0,
           5,
           10,
           26,
           23,
           24,
           9,
           20
          ],
          "sizemode": "area",
          "sizeref": 0.0058,
          "symbol": "circle"
         },
         "mode": "markers",
         "name": "Student_2",
         "type": "scatter",
         "uid": "fbc5245a-dded-11e8-b3fd-cd1e154e22ff",
         "x": [
          "Student_2",
          "Student_2",
          "Student_2",
          "Student_2",
          "Student_2",
          "Student_2",
          "Student_2",
          "Student_2"
         ],
         "y": [
          "Video1",
          "Video2",
          "Quiz1",
          "Quiz2",
          "Pdf1",
          "Pdf2",
          "Ebook1",
          "Ebook2"
         ]
        }
       ],
       "layout": {
        "xaxis": {
         "autorange": false,
         "categoryorder": "category ascending",
         "fixedrange": false,
         "range": [
          -1,
          20
         ],
         "rangemode": "normal",
         "showline": true,
         "title": "Estudantes",
         "type": "category"
        },
        "yaxis": {
         "autorange": false,
         "categoryorder": "category ascending",
         "fixedrange": false,
         "range": [
          -1,
          8
         ],
         "rangemode": "normal",
         "showline": true,
         "title": "Materiais",
         "type": "category"
        }
       }
      },
      "text/html": [
       "<div id=\"8a647319-5307-47c2-9443-e7f1c9f488b8\" style=\"height: 525px; width: 100%;\" class=\"plotly-graph-div\"></div><script type=\"text/javascript\">require([\"plotly\"], function(Plotly) { window.PLOTLYENV=window.PLOTLYENV || {};window.PLOTLYENV.BASE_URL=\"https://plot.ly\";\n",
       "        Plotly.plot(\n",
       "            '8a647319-5307-47c2-9443-e7f1c9f488b8',\n",
       "            [{\"marker\": {\"line\": {\"width\": 2}, \"size\": [8, 19, 24, 3, 18, 6, 7, 6], \"sizemode\": \"area\", \"sizeref\": 0.0058, \"symbol\": \"circle\"}, \"mode\": \"markers\", \"name\": \"Student_1\", \"x\": [\"Student_1\", \"Student_1\", \"Student_1\", \"Student_1\", \"Student_1\", \"Student_1\", \"Student_1\", \"Student_1\"], \"y\": [\"Video1\", \"Video2\", \"Quiz1\", \"Quiz2\", \"Pdf1\", \"Pdf2\", \"Ebook1\", \"Ebook2\"], \"type\": \"scatter\", \"uid\": \"fbc5227a-dded-11e8-b3fd-cd1e154e22ff\"}, {\"marker\": {\"line\": {\"width\": 2}, \"size\": [0, 5, 10, 26, 23, 24, 9, 20], \"sizemode\": \"area\", \"sizeref\": 0.0058, \"symbol\": \"circle\"}, \"mode\": \"markers\", \"name\": \"Student_2\", \"x\": [\"Student_2\", \"Student_2\", \"Student_2\", \"Student_2\", \"Student_2\", \"Student_2\", \"Student_2\", \"Student_2\"], \"y\": [\"Video1\", \"Video2\", \"Quiz1\", \"Quiz2\", \"Pdf1\", \"Pdf2\", \"Ebook1\", \"Ebook2\"], \"type\": \"scatter\", \"uid\": \"fbc5245a-dded-11e8-b3fd-cd1e154e22ff\"}],\n",
       "            {\"xaxis\": {\"autorange\": false, \"categoryorder\": \"category ascending\", \"fixedrange\": false, \"range\": [-1, 20], \"rangemode\": \"normal\", \"showline\": true, \"title\": \"Estudantes\", \"type\": \"category\"}, \"yaxis\": {\"autorange\": false, \"categoryorder\": \"category ascending\", \"fixedrange\": false, \"range\": [-1, 8], \"rangemode\": \"normal\", \"showline\": true, \"title\": \"Materiais\", \"type\": \"category\"}},\n",
       "            {\"showLink\": true, \"linkText\": \"Export to plot.ly\"}\n",
       "        ).then(function () {return Plotly.addFrames('8a647319-5307-47c2-9443-e7f1c9f488b8',{});}).then(function(){Plotly.animate('8a647319-5307-47c2-9443-e7f1c9f488b8');})\n",
       "        });</script>"
      ],
      "text/vnd.plotly.v1+html": [
       "<div id=\"8a647319-5307-47c2-9443-e7f1c9f488b8\" style=\"height: 525px; width: 100%;\" class=\"plotly-graph-div\"></div><script type=\"text/javascript\">require([\"plotly\"], function(Plotly) { window.PLOTLYENV=window.PLOTLYENV || {};window.PLOTLYENV.BASE_URL=\"https://plot.ly\";\n",
       "        Plotly.plot(\n",
       "            '8a647319-5307-47c2-9443-e7f1c9f488b8',\n",
       "            [{\"marker\": {\"line\": {\"width\": 2}, \"size\": [8, 19, 24, 3, 18, 6, 7, 6], \"sizemode\": \"area\", \"sizeref\": 0.0058, \"symbol\": \"circle\"}, \"mode\": \"markers\", \"name\": \"Student_1\", \"x\": [\"Student_1\", \"Student_1\", \"Student_1\", \"Student_1\", \"Student_1\", \"Student_1\", \"Student_1\", \"Student_1\"], \"y\": [\"Video1\", \"Video2\", \"Quiz1\", \"Quiz2\", \"Pdf1\", \"Pdf2\", \"Ebook1\", \"Ebook2\"], \"type\": \"scatter\", \"uid\": \"fbc5227a-dded-11e8-b3fd-cd1e154e22ff\"}, {\"marker\": {\"line\": {\"width\": 2}, \"size\": [0, 5, 10, 26, 23, 24, 9, 20], \"sizemode\": \"area\", \"sizeref\": 0.0058, \"symbol\": \"circle\"}, \"mode\": \"markers\", \"name\": \"Student_2\", \"x\": [\"Student_2\", \"Student_2\", \"Student_2\", \"Student_2\", \"Student_2\", \"Student_2\", \"Student_2\", \"Student_2\"], \"y\": [\"Video1\", \"Video2\", \"Quiz1\", \"Quiz2\", \"Pdf1\", \"Pdf2\", \"Ebook1\", \"Ebook2\"], \"type\": \"scatter\", \"uid\": \"fbc5245a-dded-11e8-b3fd-cd1e154e22ff\"}],\n",
       "            {\"xaxis\": {\"autorange\": false, \"categoryorder\": \"category ascending\", \"fixedrange\": false, \"range\": [-1, 20], \"rangemode\": \"normal\", \"showline\": true, \"title\": \"Estudantes\", \"type\": \"category\"}, \"yaxis\": {\"autorange\": false, \"categoryorder\": \"category ascending\", \"fixedrange\": false, \"range\": [-1, 8], \"rangemode\": \"normal\", \"showline\": true, \"title\": \"Materiais\", \"type\": \"category\"}},\n",
       "            {\"showLink\": true, \"linkText\": \"Export to plot.ly\"}\n",
       "        ).then(function () {return Plotly.addFrames('8a647319-5307-47c2-9443-e7f1c9f488b8',{});}).then(function(){Plotly.animate('8a647319-5307-47c2-9443-e7f1c9f488b8');})\n",
       "        });</script>"
      ]
     },
     "metadata": {},
     "output_type": "display_data"
    }
   ],
   "source": [
    "run scripts/V002.py"
   ]
  },
  {
   "cell_type": "markdown",
   "metadata": {},
   "source": [
    "### View 003"
   ]
  },
  {
   "cell_type": "code",
   "execution_count": 45,
   "metadata": {},
   "outputs": [],
   "source": [
    "run scripts/V003.py"
   ]
  },
  {
   "cell_type": "markdown",
   "metadata": {},
   "source": [
    "### View 004"
   ]
  },
  {
   "cell_type": "code",
   "execution_count": null,
   "metadata": {},
   "outputs": [],
   "source": [
    "run scripts/V004.py"
   ]
  },
  {
   "cell_type": "markdown",
   "metadata": {},
   "source": [
    "### View 005"
   ]
  },
  {
   "cell_type": "code",
   "execution_count": null,
   "metadata": {},
   "outputs": [],
   "source": [
    "run scripts/V005.py"
   ]
  },
  {
   "cell_type": "markdown",
   "metadata": {},
   "source": [
    "### View 006"
   ]
  },
  {
   "cell_type": "code",
   "execution_count": null,
   "metadata": {},
   "outputs": [],
   "source": [
    "run scripts/V006.py"
   ]
  },
  {
   "cell_type": "markdown",
   "metadata": {},
   "source": [
    "### View 007"
   ]
  },
  {
   "cell_type": "code",
   "execution_count": null,
   "metadata": {},
   "outputs": [],
   "source": [
    "run scripts/V007.py"
   ]
  },
  {
   "cell_type": "markdown",
   "metadata": {},
   "source": [
    "### View 008"
   ]
  },
  {
   "cell_type": "code",
   "execution_count": null,
   "metadata": {},
   "outputs": [],
   "source": [
    "run scripts/V008.py"
   ]
  },
  {
   "cell_type": "markdown",
   "metadata": {},
   "source": [
    "### View 009"
   ]
  },
  {
   "cell_type": "code",
   "execution_count": null,
   "metadata": {},
   "outputs": [],
   "source": [
    "run scripts/V009.py"
   ]
  },
  {
   "cell_type": "markdown",
   "metadata": {},
   "source": [
    "### View 010"
   ]
  },
  {
   "cell_type": "code",
   "execution_count": 46,
   "metadata": {},
   "outputs": [],
   "source": [
    "run scripts/V010.py"
   ]
  },
  {
   "cell_type": "markdown",
   "metadata": {},
   "source": [
    "### View 011"
   ]
  },
  {
   "cell_type": "code",
   "execution_count": null,
   "metadata": {},
   "outputs": [],
   "source": [
    "run scripts/V011.py"
   ]
  }
 ],
 "metadata": {
  "kernelspec": {
   "display_name": "Python 3",
   "language": "python",
   "name": "python3"
  },
  "language_info": {
   "codemirror_mode": {
    "name": "ipython",
    "version": 3
   },
   "file_extension": ".py",
   "mimetype": "text/x-python",
   "name": "python",
   "nbconvert_exporter": "python",
   "pygments_lexer": "ipython3",
   "version": "3.6.6"
  }
 },
 "nbformat": 4,
 "nbformat_minor": 2
}
