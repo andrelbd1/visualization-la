{
 "cells": [
  {
   "cell_type": "markdown",
   "metadata": {},
   "source": [
    "### View 001"
   ]
  },
  {
   "cell_type": "code",
   "execution_count": 91,
   "metadata": {
    "scrolled": true
   },
   "outputs": [
    {
     "data": {
      "text/html": [
       "<script>requirejs.config({paths: { 'plotly': ['https://cdn.plot.ly/plotly-latest.min']},});if(!window.Plotly) {{require(['plotly'],function(plotly) {window.Plotly=plotly;});}}</script>"
      ],
      "text/vnd.plotly.v1+html": [
       "<script>requirejs.config({paths: { 'plotly': ['https://cdn.plot.ly/plotly-latest.min']},});if(!window.Plotly) {{require(['plotly'],function(plotly) {window.Plotly=plotly;});}}</script>"
      ]
     },
     "metadata": {},
     "output_type": "display_data"
    },
    {
     "data": {
      "application/vnd.plotly.v1+json": {
       "data": [
        {
         "cells": {
          "align": [
           "left",
           "center"
          ],
          "fill": {
           "color": "#F5F8FF"
          },
          "values": [
           [
            "Student_1",
            "Student_2",
            "Student_3",
            "Student_4",
            "Student_5",
            "Student_6",
            "Student_7",
            "Student_8",
            "Student_9",
            "Student_10",
            "Student_11",
            "Student_12",
            "Student_13",
            "Student_14",
            "Student_15",
            "Student_16",
            "Student_17",
            "Student_18",
            "Student_19",
            "Student_20"
           ],
           [
            1,
            1,
            1,
            1,
            0,
            1,
            1,
            1,
            0,
            1,
            1,
            1,
            0,
            0,
            0,
            1,
            0,
            1,
            1,
            0
           ],
           [
            0,
            0,
            0,
            1,
            1,
            0,
            1,
            1,
            1,
            1,
            0,
            1,
            0,
            0,
            1,
            1,
            1,
            1,
            1,
            0
           ],
           [
            1,
            1,
            1,
            1,
            0,
            0,
            0,
            1,
            0,
            1,
            0,
            1,
            1,
            1,
            1,
            0,
            0,
            0,
            1,
            1
           ],
           [
            0,
            0,
            1,
            0,
            1,
            1,
            0,
            0,
            1,
            0,
            0,
            1,
            1,
            1,
            1,
            0,
            1,
            1,
            1,
            0
           ]
          ]
         },
         "header": {
          "align": "center",
          "fill": {
           "color": "#C2D4FF"
          },
          "values": [
           "Students",
           "Assign1",
           "Assign2",
           "Assign3",
           "Assign4"
          ]
         },
         "type": "table",
         "uid": "145f3a1c-e287-11e8-9490-d5f4ba98b039"
        }
       ],
       "layout": {}
      },
      "text/html": [
       "<div id=\"901dfef7-247f-49d6-8231-fe9d17784d9b\" style=\"height: 525px; width: 100%;\" class=\"plotly-graph-div\"></div><script type=\"text/javascript\">require([\"plotly\"], function(Plotly) { window.PLOTLYENV=window.PLOTLYENV || {};window.PLOTLYENV.BASE_URL=\"https://plot.ly\";Plotly.newPlot(\"901dfef7-247f-49d6-8231-fe9d17784d9b\", [{\"cells\": {\"align\": [\"left\", \"center\"], \"fill\": {\"color\": \"#F5F8FF\"}, \"values\": [[\"Student_1\", \"Student_2\", \"Student_3\", \"Student_4\", \"Student_5\", \"Student_6\", \"Student_7\", \"Student_8\", \"Student_9\", \"Student_10\", \"Student_11\", \"Student_12\", \"Student_13\", \"Student_14\", \"Student_15\", \"Student_16\", \"Student_17\", \"Student_18\", \"Student_19\", \"Student_20\"], [1, 1, 1, 1, 0, 1, 1, 1, 0, 1, 1, 1, 0, 0, 0, 1, 0, 1, 1, 0], [0, 0, 0, 1, 1, 0, 1, 1, 1, 1, 0, 1, 0, 0, 1, 1, 1, 1, 1, 0], [1, 1, 1, 1, 0, 0, 0, 1, 0, 1, 0, 1, 1, 1, 1, 0, 0, 0, 1, 1], [0, 0, 1, 0, 1, 1, 0, 0, 1, 0, 0, 1, 1, 1, 1, 0, 1, 1, 1, 0]]}, \"header\": {\"align\": \"center\", \"fill\": {\"color\": \"#C2D4FF\"}, \"values\": [\"Students\", \"Assign1\", \"Assign2\", \"Assign3\", \"Assign4\"]}, \"type\": \"table\", \"uid\": \"1461fa22-e287-11e8-9490-d5f4ba98b039\"}], {}, {\"showLink\": true, \"linkText\": \"Export to plot.ly\"})});</script>"
      ],
      "text/vnd.plotly.v1+html": [
       "<div id=\"901dfef7-247f-49d6-8231-fe9d17784d9b\" style=\"height: 525px; width: 100%;\" class=\"plotly-graph-div\"></div><script type=\"text/javascript\">require([\"plotly\"], function(Plotly) { window.PLOTLYENV=window.PLOTLYENV || {};window.PLOTLYENV.BASE_URL=\"https://plot.ly\";Plotly.newPlot(\"901dfef7-247f-49d6-8231-fe9d17784d9b\", [{\"cells\": {\"align\": [\"left\", \"center\"], \"fill\": {\"color\": \"#F5F8FF\"}, \"values\": [[\"Student_1\", \"Student_2\", \"Student_3\", \"Student_4\", \"Student_5\", \"Student_6\", \"Student_7\", \"Student_8\", \"Student_9\", \"Student_10\", \"Student_11\", \"Student_12\", \"Student_13\", \"Student_14\", \"Student_15\", \"Student_16\", \"Student_17\", \"Student_18\", \"Student_19\", \"Student_20\"], [1, 1, 1, 1, 0, 1, 1, 1, 0, 1, 1, 1, 0, 0, 0, 1, 0, 1, 1, 0], [0, 0, 0, 1, 1, 0, 1, 1, 1, 1, 0, 1, 0, 0, 1, 1, 1, 1, 1, 0], [1, 1, 1, 1, 0, 0, 0, 1, 0, 1, 0, 1, 1, 1, 1, 0, 0, 0, 1, 1], [0, 0, 1, 0, 1, 1, 0, 0, 1, 0, 0, 1, 1, 1, 1, 0, 1, 1, 1, 0]]}, \"header\": {\"align\": \"center\", \"fill\": {\"color\": \"#C2D4FF\"}, \"values\": [\"Students\", \"Assign1\", \"Assign2\", \"Assign3\", \"Assign4\"]}, \"type\": \"table\", \"uid\": \"1461fa22-e287-11e8-9490-d5f4ba98b039\"}], {}, {\"showLink\": true, \"linkText\": \"Export to plot.ly\"})});</script>"
      ]
     },
     "metadata": {},
     "output_type": "display_data"
    },
    {
     "data": {
      "application/vnd.plotly.v1+json": {
       "data": [
        {
         "type": "bar",
         "uid": "146629da-e287-11e8-9490-d5f4ba98b039",
         "x": [
          "Student_1",
          "Student_2",
          "Student_3",
          "Student_4",
          "Student_5",
          "Student_6",
          "Student_7",
          "Student_8",
          "Student_9",
          "Student_10",
          "Student_11",
          "Student_12",
          "Student_13",
          "Student_14",
          "Student_15",
          "Student_16",
          "Student_17",
          "Student_18",
          "Student_19",
          "Student_20"
         ],
         "y": [
          2,
          2,
          3,
          3,
          2,
          2,
          2,
          3,
          2,
          3,
          1,
          4,
          2,
          2,
          3,
          2,
          2,
          3,
          4,
          1
         ]
        }
       ],
       "layout": {
        "title": "Quantidade de tarefas feitas por alunos",
        "yaxis": {
         "dtick": 1,
         "exponentformat": "e",
         "gridcolor": "#bdbdbd",
         "showexponent": "all",
         "showticklabels": true,
         "tick0": 0,
         "titlefont": {
          "color": "lightgrey",
          "family": "Arial, sans-serif"
         }
        }
       }
      },
      "text/html": [
       "<div id=\"48503364-319b-4346-9e8b-c50c6412b033\" style=\"height: 525px; width: 100%;\" class=\"plotly-graph-div\"></div><script type=\"text/javascript\">require([\"plotly\"], function(Plotly) { window.PLOTLYENV=window.PLOTLYENV || {};window.PLOTLYENV.BASE_URL=\"https://plot.ly\";Plotly.newPlot(\"48503364-319b-4346-9e8b-c50c6412b033\", [{\"x\": [\"Student_1\", \"Student_2\", \"Student_3\", \"Student_4\", \"Student_5\", \"Student_6\", \"Student_7\", \"Student_8\", \"Student_9\", \"Student_10\", \"Student_11\", \"Student_12\", \"Student_13\", \"Student_14\", \"Student_15\", \"Student_16\", \"Student_17\", \"Student_18\", \"Student_19\", \"Student_20\"], \"y\": [2, 2, 3, 3, 2, 2, 2, 3, 2, 3, 1, 4, 2, 2, 3, 2, 2, 3, 4, 1], \"type\": \"bar\", \"uid\": \"146629da-e287-11e8-9490-d5f4ba98b039\"}], {\"title\": \"Quantidade de tarefas feitas por alunos\", \"yaxis\": {\"dtick\": 1, \"exponentformat\": \"e\", \"gridcolor\": \"#bdbdbd\", \"showexponent\": \"all\", \"showticklabels\": true, \"tick0\": 0, \"titlefont\": {\"color\": \"lightgrey\", \"family\": \"Arial, sans-serif\"}}}, {\"showLink\": true, \"linkText\": \"Export to plot.ly\"})});</script>"
      ],
      "text/vnd.plotly.v1+html": [
       "<div id=\"48503364-319b-4346-9e8b-c50c6412b033\" style=\"height: 525px; width: 100%;\" class=\"plotly-graph-div\"></div><script type=\"text/javascript\">require([\"plotly\"], function(Plotly) { window.PLOTLYENV=window.PLOTLYENV || {};window.PLOTLYENV.BASE_URL=\"https://plot.ly\";Plotly.newPlot(\"48503364-319b-4346-9e8b-c50c6412b033\", [{\"x\": [\"Student_1\", \"Student_2\", \"Student_3\", \"Student_4\", \"Student_5\", \"Student_6\", \"Student_7\", \"Student_8\", \"Student_9\", \"Student_10\", \"Student_11\", \"Student_12\", \"Student_13\", \"Student_14\", \"Student_15\", \"Student_16\", \"Student_17\", \"Student_18\", \"Student_19\", \"Student_20\"], \"y\": [2, 2, 3, 3, 2, 2, 2, 3, 2, 3, 1, 4, 2, 2, 3, 2, 2, 3, 4, 1], \"type\": \"bar\", \"uid\": \"146629da-e287-11e8-9490-d5f4ba98b039\"}], {\"title\": \"Quantidade de tarefas feitas por alunos\", \"yaxis\": {\"dtick\": 1, \"exponentformat\": \"e\", \"gridcolor\": \"#bdbdbd\", \"showexponent\": \"all\", \"showticklabels\": true, \"tick0\": 0, \"titlefont\": {\"color\": \"lightgrey\", \"family\": \"Arial, sans-serif\"}}}, {\"showLink\": true, \"linkText\": \"Export to plot.ly\"})});</script>"
      ]
     },
     "metadata": {},
     "output_type": "display_data"
    },
    {
     "data": {
      "application/vnd.plotly.v1+json": {
       "data": [
        {
         "type": "bar",
         "uid": "146a7026-e287-11e8-9490-d5f4ba98b039",
         "x": [
          "Assign1",
          "Assign2",
          "Assign3",
          "Assign4"
         ],
         "y": [
          13,
          12,
          12,
          11
         ]
        }
       ],
       "layout": {
        "title": "Quantidade de alunos que fizeram as tarefas",
        "yaxis": {
         "dtick": 1,
         "exponentformat": "e",
         "gridcolor": "#bdbdbd",
         "showexponent": "all",
         "showticklabels": true,
         "tick0": 0,
         "titlefont": {
          "color": "lightgrey",
          "family": "Arial, sans-serif"
         }
        }
       }
      },
      "text/html": [
       "<div id=\"d69cfe62-b9f0-40d7-b1a0-f8372e9028f4\" style=\"height: 525px; width: 100%;\" class=\"plotly-graph-div\"></div><script type=\"text/javascript\">require([\"plotly\"], function(Plotly) { window.PLOTLYENV=window.PLOTLYENV || {};window.PLOTLYENV.BASE_URL=\"https://plot.ly\";Plotly.newPlot(\"d69cfe62-b9f0-40d7-b1a0-f8372e9028f4\", [{\"x\": [\"Assign1\", \"Assign2\", \"Assign3\", \"Assign4\"], \"y\": [13, 12, 12, 11], \"type\": \"bar\", \"uid\": \"146a7026-e287-11e8-9490-d5f4ba98b039\"}], {\"title\": \"Quantidade de alunos que fizeram as tarefas\", \"yaxis\": {\"dtick\": 1, \"exponentformat\": \"e\", \"gridcolor\": \"#bdbdbd\", \"showexponent\": \"all\", \"showticklabels\": true, \"tick0\": 0, \"titlefont\": {\"color\": \"lightgrey\", \"family\": \"Arial, sans-serif\"}}}, {\"showLink\": true, \"linkText\": \"Export to plot.ly\"})});</script>"
      ],
      "text/vnd.plotly.v1+html": [
       "<div id=\"d69cfe62-b9f0-40d7-b1a0-f8372e9028f4\" style=\"height: 525px; width: 100%;\" class=\"plotly-graph-div\"></div><script type=\"text/javascript\">require([\"plotly\"], function(Plotly) { window.PLOTLYENV=window.PLOTLYENV || {};window.PLOTLYENV.BASE_URL=\"https://plot.ly\";Plotly.newPlot(\"d69cfe62-b9f0-40d7-b1a0-f8372e9028f4\", [{\"x\": [\"Assign1\", \"Assign2\", \"Assign3\", \"Assign4\"], \"y\": [13, 12, 12, 11], \"type\": \"bar\", \"uid\": \"146a7026-e287-11e8-9490-d5f4ba98b039\"}], {\"title\": \"Quantidade de alunos que fizeram as tarefas\", \"yaxis\": {\"dtick\": 1, \"exponentformat\": \"e\", \"gridcolor\": \"#bdbdbd\", \"showexponent\": \"all\", \"showticklabels\": true, \"tick0\": 0, \"titlefont\": {\"color\": \"lightgrey\", \"family\": \"Arial, sans-serif\"}}}, {\"showLink\": true, \"linkText\": \"Export to plot.ly\"})});</script>"
      ]
     },
     "metadata": {},
     "output_type": "display_data"
    },
    {
     "data": {
      "application/vnd.plotly.v1+json": {
       "data": [
        {
         "marker": {
          "line": {
           "width": 2
          },
          "size": [
           1,
           0,
           1,
           0
          ],
          "sizemode": "area",
          "sizeref": 0.01,
          "symbol": "circle"
         },
         "mode": "markers",
         "name": "Student_1",
         "text": [
          "1",
          "0",
          "1",
          "0"
         ],
         "type": "scatter",
         "uid": "147ef1a4-e287-11e8-9490-d5f4ba98b039",
         "x": [
          "Student_1",
          "Student_1",
          "Student_1",
          "Student_1",
          "Student_1"
         ],
         "y": [
          "Assign1",
          "Assign2",
          "Assign3",
          "Assign4"
         ]
        },
        {
         "marker": {
          "line": {
           "width": 2
          },
          "size": [
           1,
           0,
           1,
           0
          ],
          "sizemode": "area",
          "sizeref": 0.01,
          "symbol": "circle"
         },
         "mode": "markers",
         "name": "Student_2",
         "text": [
          "1",
          "0",
          "1",
          "0"
         ],
         "type": "scatter",
         "uid": "147ef334-e287-11e8-9490-d5f4ba98b039",
         "x": [
          "Student_2",
          "Student_2",
          "Student_2",
          "Student_2",
          "Student_2"
         ],
         "y": [
          "Assign1",
          "Assign2",
          "Assign3",
          "Assign4"
         ]
        },
        {
         "marker": {
          "line": {
           "width": 2
          },
          "size": [
           1,
           0,
           1,
           1
          ],
          "sizemode": "area",
          "sizeref": 0.01,
          "symbol": "circle"
         },
         "mode": "markers",
         "name": "Student_3",
         "text": [
          "1",
          "0",
          "1",
          "1"
         ],
         "type": "scatter",
         "uid": "147ef3fc-e287-11e8-9490-d5f4ba98b039",
         "x": [
          "Student_3",
          "Student_3",
          "Student_3",
          "Student_3",
          "Student_3"
         ],
         "y": [
          "Assign1",
          "Assign2",
          "Assign3",
          "Assign4"
         ]
        },
        {
         "marker": {
          "line": {
           "width": 2
          },
          "size": [
           1,
           1,
           1,
           0
          ],
          "sizemode": "area",
          "sizeref": 0.01,
          "symbol": "circle"
         },
         "mode": "markers",
         "name": "Student_4",
         "text": [
          "1",
          "1",
          "1",
          "0"
         ],
         "type": "scatter",
         "uid": "147ef49c-e287-11e8-9490-d5f4ba98b039",
         "x": [
          "Student_4",
          "Student_4",
          "Student_4",
          "Student_4",
          "Student_4"
         ],
         "y": [
          "Assign1",
          "Assign2",
          "Assign3",
          "Assign4"
         ]
        },
        {
         "marker": {
          "line": {
           "width": 2
          },
          "size": [
           0,
           1,
           0,
           1
          ],
          "sizemode": "area",
          "sizeref": 0.01,
          "symbol": "circle"
         },
         "mode": "markers",
         "name": "Student_5",
         "text": [
          "0",
          "1",
          "0",
          "1"
         ],
         "type": "scatter",
         "uid": "147ef532-e287-11e8-9490-d5f4ba98b039",
         "x": [
          "Student_5",
          "Student_5",
          "Student_5",
          "Student_5",
          "Student_5"
         ],
         "y": [
          "Assign1",
          "Assign2",
          "Assign3",
          "Assign4"
         ]
        },
        {
         "marker": {
          "line": {
           "width": 2
          },
          "size": [
           1,
           0,
           0,
           1
          ],
          "sizemode": "area",
          "sizeref": 0.01,
          "symbol": "circle"
         },
         "mode": "markers",
         "name": "Student_6",
         "text": [
          "1",
          "0",
          "0",
          "1"
         ],
         "type": "scatter",
         "uid": "147ef5be-e287-11e8-9490-d5f4ba98b039",
         "x": [
          "Student_6",
          "Student_6",
          "Student_6",
          "Student_6",
          "Student_6"
         ],
         "y": [
          "Assign1",
          "Assign2",
          "Assign3",
          "Assign4"
         ]
        },
        {
         "marker": {
          "line": {
           "width": 2
          },
          "size": [
           1,
           1,
           0,
           0
          ],
          "sizemode": "area",
          "sizeref": 0.01,
          "symbol": "circle"
         },
         "mode": "markers",
         "name": "Student_7",
         "text": [
          "1",
          "1",
          "0",
          "0"
         ],
         "type": "scatter",
         "uid": "147ef654-e287-11e8-9490-d5f4ba98b039",
         "x": [
          "Student_7",
          "Student_7",
          "Student_7",
          "Student_7",
          "Student_7"
         ],
         "y": [
          "Assign1",
          "Assign2",
          "Assign3",
          "Assign4"
         ]
        },
        {
         "marker": {
          "line": {
           "width": 2
          },
          "size": [
           1,
           1,
           1,
           0
          ],
          "sizemode": "area",
          "sizeref": 0.01,
          "symbol": "circle"
         },
         "mode": "markers",
         "name": "Student_8",
         "text": [
          "1",
          "1",
          "1",
          "0"
         ],
         "type": "scatter",
         "uid": "147ef6d6-e287-11e8-9490-d5f4ba98b039",
         "x": [
          "Student_8",
          "Student_8",
          "Student_8",
          "Student_8",
          "Student_8"
         ],
         "y": [
          "Assign1",
          "Assign2",
          "Assign3",
          "Assign4"
         ]
        },
        {
         "marker": {
          "line": {
           "width": 2
          },
          "size": [
           0,
           1,
           0,
           1
          ],
          "sizemode": "area",
          "sizeref": 0.01,
          "symbol": "circle"
         },
         "mode": "markers",
         "name": "Student_9",
         "text": [
          "0",
          "1",
          "0",
          "1"
         ],
         "type": "scatter",
         "uid": "147ef76c-e287-11e8-9490-d5f4ba98b039",
         "x": [
          "Student_9",
          "Student_9",
          "Student_9",
          "Student_9",
          "Student_9"
         ],
         "y": [
          "Assign1",
          "Assign2",
          "Assign3",
          "Assign4"
         ]
        },
        {
         "marker": {
          "line": {
           "width": 2
          },
          "size": [
           1,
           1,
           1,
           0
          ],
          "sizemode": "area",
          "sizeref": 0.01,
          "symbol": "circle"
         },
         "mode": "markers",
         "name": "Student_10",
         "text": [
          "1",
          "1",
          "1",
          "0"
         ],
         "type": "scatter",
         "uid": "147ef7f8-e287-11e8-9490-d5f4ba98b039",
         "x": [
          "Student_10",
          "Student_10",
          "Student_10",
          "Student_10",
          "Student_10"
         ],
         "y": [
          "Assign1",
          "Assign2",
          "Assign3",
          "Assign4"
         ]
        },
        {
         "marker": {
          "line": {
           "width": 2
          },
          "size": [
           1,
           0,
           0,
           0
          ],
          "sizemode": "area",
          "sizeref": 0.01,
          "symbol": "circle"
         },
         "mode": "markers",
         "name": "Student_11",
         "text": [
          "1",
          "0",
          "0",
          "0"
         ],
         "type": "scatter",
         "uid": "147ef87a-e287-11e8-9490-d5f4ba98b039",
         "x": [
          "Student_11",
          "Student_11",
          "Student_11",
          "Student_11",
          "Student_11"
         ],
         "y": [
          "Assign1",
          "Assign2",
          "Assign3",
          "Assign4"
         ]
        },
        {
         "marker": {
          "line": {
           "width": 2
          },
          "size": [
           1,
           1,
           1,
           1
          ],
          "sizemode": "area",
          "sizeref": 0.01,
          "symbol": "circle"
         },
         "mode": "markers",
         "name": "Student_12",
         "text": [
          "1",
          "1",
          "1",
          "1"
         ],
         "type": "scatter",
         "uid": "147ef906-e287-11e8-9490-d5f4ba98b039",
         "x": [
          "Student_12",
          "Student_12",
          "Student_12",
          "Student_12",
          "Student_12"
         ],
         "y": [
          "Assign1",
          "Assign2",
          "Assign3",
          "Assign4"
         ]
        },
        {
         "marker": {
          "line": {
           "width": 2
          },
          "size": [
           0,
           0,
           1,
           1
          ],
          "sizemode": "area",
          "sizeref": 0.01,
          "symbol": "circle"
         },
         "mode": "markers",
         "name": "Student_13",
         "text": [
          "0",
          "0",
          "1",
          "1"
         ],
         "type": "scatter",
         "uid": "147ef988-e287-11e8-9490-d5f4ba98b039",
         "x": [
          "Student_13",
          "Student_13",
          "Student_13",
          "Student_13",
          "Student_13"
         ],
         "y": [
          "Assign1",
          "Assign2",
          "Assign3",
          "Assign4"
         ]
        },
        {
         "marker": {
          "line": {
           "width": 2
          },
          "size": [
           0,
           0,
           1,
           1
          ],
          "sizemode": "area",
          "sizeref": 0.01,
          "symbol": "circle"
         },
         "mode": "markers",
         "name": "Student_14",
         "text": [
          "0",
          "0",
          "1",
          "1"
         ],
         "type": "scatter",
         "uid": "147efa14-e287-11e8-9490-d5f4ba98b039",
         "x": [
          "Student_14",
          "Student_14",
          "Student_14",
          "Student_14",
          "Student_14"
         ],
         "y": [
          "Assign1",
          "Assign2",
          "Assign3",
          "Assign4"
         ]
        },
        {
         "marker": {
          "line": {
           "width": 2
          },
          "size": [
           0,
           1,
           1,
           1
          ],
          "sizemode": "area",
          "sizeref": 0.01,
          "symbol": "circle"
         },
         "mode": "markers",
         "name": "Student_15",
         "text": [
          "0",
          "1",
          "1",
          "1"
         ],
         "type": "scatter",
         "uid": "147efaa0-e287-11e8-9490-d5f4ba98b039",
         "x": [
          "Student_15",
          "Student_15",
          "Student_15",
          "Student_15",
          "Student_15"
         ],
         "y": [
          "Assign1",
          "Assign2",
          "Assign3",
          "Assign4"
         ]
        },
        {
         "marker": {
          "line": {
           "width": 2
          },
          "size": [
           1,
           1,
           0,
           0
          ],
          "sizemode": "area",
          "sizeref": 0.01,
          "symbol": "circle"
         },
         "mode": "markers",
         "name": "Student_16",
         "text": [
          "1",
          "1",
          "0",
          "0"
         ],
         "type": "scatter",
         "uid": "147efb22-e287-11e8-9490-d5f4ba98b039",
         "x": [
          "Student_16",
          "Student_16",
          "Student_16",
          "Student_16",
          "Student_16"
         ],
         "y": [
          "Assign1",
          "Assign2",
          "Assign3",
          "Assign4"
         ]
        },
        {
         "marker": {
          "line": {
           "width": 2
          },
          "size": [
           0,
           1,
           0,
           1
          ],
          "sizemode": "area",
          "sizeref": 0.01,
          "symbol": "circle"
         },
         "mode": "markers",
         "name": "Student_17",
         "text": [
          "0",
          "1",
          "0",
          "1"
         ],
         "type": "scatter",
         "uid": "147efba4-e287-11e8-9490-d5f4ba98b039",
         "x": [
          "Student_17",
          "Student_17",
          "Student_17",
          "Student_17",
          "Student_17"
         ],
         "y": [
          "Assign1",
          "Assign2",
          "Assign3",
          "Assign4"
         ]
        },
        {
         "marker": {
          "line": {
           "width": 2
          },
          "size": [
           1,
           1,
           0,
           1
          ],
          "sizemode": "area",
          "sizeref": 0.01,
          "symbol": "circle"
         },
         "mode": "markers",
         "name": "Student_18",
         "text": [
          "1",
          "1",
          "0",
          "1"
         ],
         "type": "scatter",
         "uid": "147efc30-e287-11e8-9490-d5f4ba98b039",
         "x": [
          "Student_18",
          "Student_18",
          "Student_18",
          "Student_18",
          "Student_18"
         ],
         "y": [
          "Assign1",
          "Assign2",
          "Assign3",
          "Assign4"
         ]
        },
        {
         "marker": {
          "line": {
           "width": 2
          },
          "size": [
           1,
           1,
           1,
           1
          ],
          "sizemode": "area",
          "sizeref": 0.01,
          "symbol": "circle"
         },
         "mode": "markers",
         "name": "Student_19",
         "text": [
          "1",
          "1",
          "1",
          "1"
         ],
         "type": "scatter",
         "uid": "147efcb2-e287-11e8-9490-d5f4ba98b039",
         "x": [
          "Student_19",
          "Student_19",
          "Student_19",
          "Student_19",
          "Student_19"
         ],
         "y": [
          "Assign1",
          "Assign2",
          "Assign3",
          "Assign4"
         ]
        },
        {
         "marker": {
          "line": {
           "width": 2
          },
          "size": [
           0,
           0,
           1,
           0
          ],
          "sizemode": "area",
          "sizeref": 0.01,
          "symbol": "circle"
         },
         "mode": "markers",
         "name": "Student_20",
         "text": [
          "0",
          "0",
          "1",
          "0"
         ],
         "type": "scatter",
         "uid": "147efd2a-e287-11e8-9490-d5f4ba98b039",
         "x": [
          "Student_20",
          "Student_20",
          "Student_20",
          "Student_20",
          "Student_20"
         ],
         "y": [
          "Assign1",
          "Assign2",
          "Assign3",
          "Assign4"
         ]
        }
       ],
       "layout": {
        "hovermode": "closest",
        "showlegend": true,
        "title": "Atividades feitas por estudante",
        "xaxis": {
         "autorange": false,
         "fixedrange": false,
         "range": [
          -1,
          20
         ],
         "rangemode": "normal",
         "showline": true,
         "title": "Estudantes",
         "type": "category"
        },
        "yaxis": {
         "autorange": false,
         "categoryorder": "category ascending",
         "fixedrange": false,
         "range": [
          -1,
          4
         ],
         "rangemode": "normal",
         "showline": true,
         "title": "Atividades",
         "type": "category"
        }
       }
      },
      "text/html": [
       "<div id=\"efb7f573-6bef-4e1b-80cc-2a5a28061a5c\" style=\"height: 525px; width: 100%;\" class=\"plotly-graph-div\"></div><script type=\"text/javascript\">require([\"plotly\"], function(Plotly) { window.PLOTLYENV=window.PLOTLYENV || {};window.PLOTLYENV.BASE_URL=\"https://plot.ly\";Plotly.newPlot(\"efb7f573-6bef-4e1b-80cc-2a5a28061a5c\", [{\"marker\": {\"line\": {\"width\": 2}, \"size\": [1, 0, 1, 0], \"sizemode\": \"area\", \"sizeref\": 0.01, \"symbol\": \"circle\"}, \"mode\": \"markers\", \"name\": \"Student_1\", \"text\": [\"1\", \"0\", \"1\", \"0\"], \"x\": [\"Student_1\", \"Student_1\", \"Student_1\", \"Student_1\", \"Student_1\"], \"y\": [\"Assign1\", \"Assign2\", \"Assign3\", \"Assign4\"], \"type\": \"scatter\", \"uid\": \"147ef1a4-e287-11e8-9490-d5f4ba98b039\"}, {\"marker\": {\"line\": {\"width\": 2}, \"size\": [1, 0, 1, 0], \"sizemode\": \"area\", \"sizeref\": 0.01, \"symbol\": \"circle\"}, \"mode\": \"markers\", \"name\": \"Student_2\", \"text\": [\"1\", \"0\", \"1\", \"0\"], \"x\": [\"Student_2\", \"Student_2\", \"Student_2\", \"Student_2\", \"Student_2\"], \"y\": [\"Assign1\", \"Assign2\", \"Assign3\", \"Assign4\"], \"type\": \"scatter\", \"uid\": \"147ef334-e287-11e8-9490-d5f4ba98b039\"}, {\"marker\": {\"line\": {\"width\": 2}, \"size\": [1, 0, 1, 1], \"sizemode\": \"area\", \"sizeref\": 0.01, \"symbol\": \"circle\"}, \"mode\": \"markers\", \"name\": \"Student_3\", \"text\": [\"1\", \"0\", \"1\", \"1\"], \"x\": [\"Student_3\", \"Student_3\", \"Student_3\", \"Student_3\", \"Student_3\"], \"y\": [\"Assign1\", \"Assign2\", \"Assign3\", \"Assign4\"], \"type\": \"scatter\", \"uid\": \"147ef3fc-e287-11e8-9490-d5f4ba98b039\"}, {\"marker\": {\"line\": {\"width\": 2}, \"size\": [1, 1, 1, 0], \"sizemode\": \"area\", \"sizeref\": 0.01, \"symbol\": \"circle\"}, \"mode\": \"markers\", \"name\": \"Student_4\", \"text\": [\"1\", \"1\", \"1\", \"0\"], \"x\": [\"Student_4\", \"Student_4\", \"Student_4\", \"Student_4\", \"Student_4\"], \"y\": [\"Assign1\", \"Assign2\", \"Assign3\", \"Assign4\"], \"type\": \"scatter\", \"uid\": \"147ef49c-e287-11e8-9490-d5f4ba98b039\"}, {\"marker\": {\"line\": {\"width\": 2}, \"size\": [0, 1, 0, 1], \"sizemode\": \"area\", \"sizeref\": 0.01, \"symbol\": \"circle\"}, \"mode\": \"markers\", \"name\": \"Student_5\", \"text\": [\"0\", \"1\", \"0\", \"1\"], \"x\": [\"Student_5\", \"Student_5\", \"Student_5\", \"Student_5\", \"Student_5\"], \"y\": [\"Assign1\", \"Assign2\", \"Assign3\", \"Assign4\"], \"type\": \"scatter\", \"uid\": \"147ef532-e287-11e8-9490-d5f4ba98b039\"}, {\"marker\": {\"line\": {\"width\": 2}, \"size\": [1, 0, 0, 1], \"sizemode\": \"area\", \"sizeref\": 0.01, \"symbol\": \"circle\"}, \"mode\": \"markers\", \"name\": \"Student_6\", \"text\": [\"1\", \"0\", \"0\", \"1\"], \"x\": [\"Student_6\", \"Student_6\", \"Student_6\", \"Student_6\", \"Student_6\"], \"y\": [\"Assign1\", \"Assign2\", \"Assign3\", \"Assign4\"], \"type\": \"scatter\", \"uid\": \"147ef5be-e287-11e8-9490-d5f4ba98b039\"}, {\"marker\": {\"line\": {\"width\": 2}, \"size\": [1, 1, 0, 0], \"sizemode\": \"area\", \"sizeref\": 0.01, \"symbol\": \"circle\"}, \"mode\": \"markers\", \"name\": \"Student_7\", \"text\": [\"1\", \"1\", \"0\", \"0\"], \"x\": [\"Student_7\", \"Student_7\", \"Student_7\", \"Student_7\", \"Student_7\"], \"y\": [\"Assign1\", \"Assign2\", \"Assign3\", \"Assign4\"], \"type\": \"scatter\", \"uid\": \"147ef654-e287-11e8-9490-d5f4ba98b039\"}, {\"marker\": {\"line\": {\"width\": 2}, \"size\": [1, 1, 1, 0], \"sizemode\": \"area\", \"sizeref\": 0.01, \"symbol\": \"circle\"}, \"mode\": \"markers\", \"name\": \"Student_8\", \"text\": [\"1\", \"1\", \"1\", \"0\"], \"x\": [\"Student_8\", \"Student_8\", \"Student_8\", \"Student_8\", \"Student_8\"], \"y\": [\"Assign1\", \"Assign2\", \"Assign3\", \"Assign4\"], \"type\": \"scatter\", \"uid\": \"147ef6d6-e287-11e8-9490-d5f4ba98b039\"}, {\"marker\": {\"line\": {\"width\": 2}, \"size\": [0, 1, 0, 1], \"sizemode\": \"area\", \"sizeref\": 0.01, \"symbol\": \"circle\"}, \"mode\": \"markers\", \"name\": \"Student_9\", \"text\": [\"0\", \"1\", \"0\", \"1\"], \"x\": [\"Student_9\", \"Student_9\", \"Student_9\", \"Student_9\", \"Student_9\"], \"y\": [\"Assign1\", \"Assign2\", \"Assign3\", \"Assign4\"], \"type\": \"scatter\", \"uid\": \"147ef76c-e287-11e8-9490-d5f4ba98b039\"}, {\"marker\": {\"line\": {\"width\": 2}, \"size\": [1, 1, 1, 0], \"sizemode\": \"area\", \"sizeref\": 0.01, \"symbol\": \"circle\"}, \"mode\": \"markers\", \"name\": \"Student_10\", \"text\": [\"1\", \"1\", \"1\", \"0\"], \"x\": [\"Student_10\", \"Student_10\", \"Student_10\", \"Student_10\", \"Student_10\"], \"y\": [\"Assign1\", \"Assign2\", \"Assign3\", \"Assign4\"], \"type\": \"scatter\", \"uid\": \"147ef7f8-e287-11e8-9490-d5f4ba98b039\"}, {\"marker\": {\"line\": {\"width\": 2}, \"size\": [1, 0, 0, 0], \"sizemode\": \"area\", \"sizeref\": 0.01, \"symbol\": \"circle\"}, \"mode\": \"markers\", \"name\": \"Student_11\", \"text\": [\"1\", \"0\", \"0\", \"0\"], \"x\": [\"Student_11\", \"Student_11\", \"Student_11\", \"Student_11\", \"Student_11\"], \"y\": [\"Assign1\", \"Assign2\", \"Assign3\", \"Assign4\"], \"type\": \"scatter\", \"uid\": \"147ef87a-e287-11e8-9490-d5f4ba98b039\"}, {\"marker\": {\"line\": {\"width\": 2}, \"size\": [1, 1, 1, 1], \"sizemode\": \"area\", \"sizeref\": 0.01, \"symbol\": \"circle\"}, \"mode\": \"markers\", \"name\": \"Student_12\", \"text\": [\"1\", \"1\", \"1\", \"1\"], \"x\": [\"Student_12\", \"Student_12\", \"Student_12\", \"Student_12\", \"Student_12\"], \"y\": [\"Assign1\", \"Assign2\", \"Assign3\", \"Assign4\"], \"type\": \"scatter\", \"uid\": \"147ef906-e287-11e8-9490-d5f4ba98b039\"}, {\"marker\": {\"line\": {\"width\": 2}, \"size\": [0, 0, 1, 1], \"sizemode\": \"area\", \"sizeref\": 0.01, \"symbol\": \"circle\"}, \"mode\": \"markers\", \"name\": \"Student_13\", \"text\": [\"0\", \"0\", \"1\", \"1\"], \"x\": [\"Student_13\", \"Student_13\", \"Student_13\", \"Student_13\", \"Student_13\"], \"y\": [\"Assign1\", \"Assign2\", \"Assign3\", \"Assign4\"], \"type\": \"scatter\", \"uid\": \"147ef988-e287-11e8-9490-d5f4ba98b039\"}, {\"marker\": {\"line\": {\"width\": 2}, \"size\": [0, 0, 1, 1], \"sizemode\": \"area\", \"sizeref\": 0.01, \"symbol\": \"circle\"}, \"mode\": \"markers\", \"name\": \"Student_14\", \"text\": [\"0\", \"0\", \"1\", \"1\"], \"x\": [\"Student_14\", \"Student_14\", \"Student_14\", \"Student_14\", \"Student_14\"], \"y\": [\"Assign1\", \"Assign2\", \"Assign3\", \"Assign4\"], \"type\": \"scatter\", \"uid\": \"147efa14-e287-11e8-9490-d5f4ba98b039\"}, {\"marker\": {\"line\": {\"width\": 2}, \"size\": [0, 1, 1, 1], \"sizemode\": \"area\", \"sizeref\": 0.01, \"symbol\": \"circle\"}, \"mode\": \"markers\", \"name\": \"Student_15\", \"text\": [\"0\", \"1\", \"1\", \"1\"], \"x\": [\"Student_15\", \"Student_15\", \"Student_15\", \"Student_15\", \"Student_15\"], \"y\": [\"Assign1\", \"Assign2\", \"Assign3\", \"Assign4\"], \"type\": \"scatter\", \"uid\": \"147efaa0-e287-11e8-9490-d5f4ba98b039\"}, {\"marker\": {\"line\": {\"width\": 2}, \"size\": [1, 1, 0, 0], \"sizemode\": \"area\", \"sizeref\": 0.01, \"symbol\": \"circle\"}, \"mode\": \"markers\", \"name\": \"Student_16\", \"text\": [\"1\", \"1\", \"0\", \"0\"], \"x\": [\"Student_16\", \"Student_16\", \"Student_16\", \"Student_16\", \"Student_16\"], \"y\": [\"Assign1\", \"Assign2\", \"Assign3\", \"Assign4\"], \"type\": \"scatter\", \"uid\": \"147efb22-e287-11e8-9490-d5f4ba98b039\"}, {\"marker\": {\"line\": {\"width\": 2}, \"size\": [0, 1, 0, 1], \"sizemode\": \"area\", \"sizeref\": 0.01, \"symbol\": \"circle\"}, \"mode\": \"markers\", \"name\": \"Student_17\", \"text\": [\"0\", \"1\", \"0\", \"1\"], \"x\": [\"Student_17\", \"Student_17\", \"Student_17\", \"Student_17\", \"Student_17\"], \"y\": [\"Assign1\", \"Assign2\", \"Assign3\", \"Assign4\"], \"type\": \"scatter\", \"uid\": \"147efba4-e287-11e8-9490-d5f4ba98b039\"}, {\"marker\": {\"line\": {\"width\": 2}, \"size\": [1, 1, 0, 1], \"sizemode\": \"area\", \"sizeref\": 0.01, \"symbol\": \"circle\"}, \"mode\": \"markers\", \"name\": \"Student_18\", \"text\": [\"1\", \"1\", \"0\", \"1\"], \"x\": [\"Student_18\", \"Student_18\", \"Student_18\", \"Student_18\", \"Student_18\"], \"y\": [\"Assign1\", \"Assign2\", \"Assign3\", \"Assign4\"], \"type\": \"scatter\", \"uid\": \"147efc30-e287-11e8-9490-d5f4ba98b039\"}, {\"marker\": {\"line\": {\"width\": 2}, \"size\": [1, 1, 1, 1], \"sizemode\": \"area\", \"sizeref\": 0.01, \"symbol\": \"circle\"}, \"mode\": \"markers\", \"name\": \"Student_19\", \"text\": [\"1\", \"1\", \"1\", \"1\"], \"x\": [\"Student_19\", \"Student_19\", \"Student_19\", \"Student_19\", \"Student_19\"], \"y\": [\"Assign1\", \"Assign2\", \"Assign3\", \"Assign4\"], \"type\": \"scatter\", \"uid\": \"147efcb2-e287-11e8-9490-d5f4ba98b039\"}, {\"marker\": {\"line\": {\"width\": 2}, \"size\": [0, 0, 1, 0], \"sizemode\": \"area\", \"sizeref\": 0.01, \"symbol\": \"circle\"}, \"mode\": \"markers\", \"name\": \"Student_20\", \"text\": [\"0\", \"0\", \"1\", \"0\"], \"x\": [\"Student_20\", \"Student_20\", \"Student_20\", \"Student_20\", \"Student_20\"], \"y\": [\"Assign1\", \"Assign2\", \"Assign3\", \"Assign4\"], \"type\": \"scatter\", \"uid\": \"147efd2a-e287-11e8-9490-d5f4ba98b039\"}], {\"hovermode\": \"closest\", \"showlegend\": true, \"title\": \"Atividades feitas por estudante\", \"xaxis\": {\"autorange\": false, \"fixedrange\": false, \"range\": [-1, 20], \"rangemode\": \"normal\", \"showline\": true, \"title\": \"Estudantes\", \"type\": \"category\"}, \"yaxis\": {\"autorange\": false, \"categoryorder\": \"category ascending\", \"fixedrange\": false, \"range\": [-1, 4], \"rangemode\": \"normal\", \"showline\": true, \"title\": \"Atividades\", \"type\": \"category\"}}, {\"showLink\": true, \"linkText\": \"Export to plot.ly\"})});</script>"
      ],
      "text/vnd.plotly.v1+html": [
       "<div id=\"efb7f573-6bef-4e1b-80cc-2a5a28061a5c\" style=\"height: 525px; width: 100%;\" class=\"plotly-graph-div\"></div><script type=\"text/javascript\">require([\"plotly\"], function(Plotly) { window.PLOTLYENV=window.PLOTLYENV || {};window.PLOTLYENV.BASE_URL=\"https://plot.ly\";Plotly.newPlot(\"efb7f573-6bef-4e1b-80cc-2a5a28061a5c\", [{\"marker\": {\"line\": {\"width\": 2}, \"size\": [1, 0, 1, 0], \"sizemode\": \"area\", \"sizeref\": 0.01, \"symbol\": \"circle\"}, \"mode\": \"markers\", \"name\": \"Student_1\", \"text\": [\"1\", \"0\", \"1\", \"0\"], \"x\": [\"Student_1\", \"Student_1\", \"Student_1\", \"Student_1\", \"Student_1\"], \"y\": [\"Assign1\", \"Assign2\", \"Assign3\", \"Assign4\"], \"type\": \"scatter\", \"uid\": \"147ef1a4-e287-11e8-9490-d5f4ba98b039\"}, {\"marker\": {\"line\": {\"width\": 2}, \"size\": [1, 0, 1, 0], \"sizemode\": \"area\", \"sizeref\": 0.01, \"symbol\": \"circle\"}, \"mode\": \"markers\", \"name\": \"Student_2\", \"text\": [\"1\", \"0\", \"1\", \"0\"], \"x\": [\"Student_2\", \"Student_2\", \"Student_2\", \"Student_2\", \"Student_2\"], \"y\": [\"Assign1\", \"Assign2\", \"Assign3\", \"Assign4\"], \"type\": \"scatter\", \"uid\": \"147ef334-e287-11e8-9490-d5f4ba98b039\"}, {\"marker\": {\"line\": {\"width\": 2}, \"size\": [1, 0, 1, 1], \"sizemode\": \"area\", \"sizeref\": 0.01, \"symbol\": \"circle\"}, \"mode\": \"markers\", \"name\": \"Student_3\", \"text\": [\"1\", \"0\", \"1\", \"1\"], \"x\": [\"Student_3\", \"Student_3\", \"Student_3\", \"Student_3\", \"Student_3\"], \"y\": [\"Assign1\", \"Assign2\", \"Assign3\", \"Assign4\"], \"type\": \"scatter\", \"uid\": \"147ef3fc-e287-11e8-9490-d5f4ba98b039\"}, {\"marker\": {\"line\": {\"width\": 2}, \"size\": [1, 1, 1, 0], \"sizemode\": \"area\", \"sizeref\": 0.01, \"symbol\": \"circle\"}, \"mode\": \"markers\", \"name\": \"Student_4\", \"text\": [\"1\", \"1\", \"1\", \"0\"], \"x\": [\"Student_4\", \"Student_4\", \"Student_4\", \"Student_4\", \"Student_4\"], \"y\": [\"Assign1\", \"Assign2\", \"Assign3\", \"Assign4\"], \"type\": \"scatter\", \"uid\": \"147ef49c-e287-11e8-9490-d5f4ba98b039\"}, {\"marker\": {\"line\": {\"width\": 2}, \"size\": [0, 1, 0, 1], \"sizemode\": \"area\", \"sizeref\": 0.01, \"symbol\": \"circle\"}, \"mode\": \"markers\", \"name\": \"Student_5\", \"text\": [\"0\", \"1\", \"0\", \"1\"], \"x\": [\"Student_5\", \"Student_5\", \"Student_5\", \"Student_5\", \"Student_5\"], \"y\": [\"Assign1\", \"Assign2\", \"Assign3\", \"Assign4\"], \"type\": \"scatter\", \"uid\": \"147ef532-e287-11e8-9490-d5f4ba98b039\"}, {\"marker\": {\"line\": {\"width\": 2}, \"size\": [1, 0, 0, 1], \"sizemode\": \"area\", \"sizeref\": 0.01, \"symbol\": \"circle\"}, \"mode\": \"markers\", \"name\": \"Student_6\", \"text\": [\"1\", \"0\", \"0\", \"1\"], \"x\": [\"Student_6\", \"Student_6\", \"Student_6\", \"Student_6\", \"Student_6\"], \"y\": [\"Assign1\", \"Assign2\", \"Assign3\", \"Assign4\"], \"type\": \"scatter\", \"uid\": \"147ef5be-e287-11e8-9490-d5f4ba98b039\"}, {\"marker\": {\"line\": {\"width\": 2}, \"size\": [1, 1, 0, 0], \"sizemode\": \"area\", \"sizeref\": 0.01, \"symbol\": \"circle\"}, \"mode\": \"markers\", \"name\": \"Student_7\", \"text\": [\"1\", \"1\", \"0\", \"0\"], \"x\": [\"Student_7\", \"Student_7\", \"Student_7\", \"Student_7\", \"Student_7\"], \"y\": [\"Assign1\", \"Assign2\", \"Assign3\", \"Assign4\"], \"type\": \"scatter\", \"uid\": \"147ef654-e287-11e8-9490-d5f4ba98b039\"}, {\"marker\": {\"line\": {\"width\": 2}, \"size\": [1, 1, 1, 0], \"sizemode\": \"area\", \"sizeref\": 0.01, \"symbol\": \"circle\"}, \"mode\": \"markers\", \"name\": \"Student_8\", \"text\": [\"1\", \"1\", \"1\", \"0\"], \"x\": [\"Student_8\", \"Student_8\", \"Student_8\", \"Student_8\", \"Student_8\"], \"y\": [\"Assign1\", \"Assign2\", \"Assign3\", \"Assign4\"], \"type\": \"scatter\", \"uid\": \"147ef6d6-e287-11e8-9490-d5f4ba98b039\"}, {\"marker\": {\"line\": {\"width\": 2}, \"size\": [0, 1, 0, 1], \"sizemode\": \"area\", \"sizeref\": 0.01, \"symbol\": \"circle\"}, \"mode\": \"markers\", \"name\": \"Student_9\", \"text\": [\"0\", \"1\", \"0\", \"1\"], \"x\": [\"Student_9\", \"Student_9\", \"Student_9\", \"Student_9\", \"Student_9\"], \"y\": [\"Assign1\", \"Assign2\", \"Assign3\", \"Assign4\"], \"type\": \"scatter\", \"uid\": \"147ef76c-e287-11e8-9490-d5f4ba98b039\"}, {\"marker\": {\"line\": {\"width\": 2}, \"size\": [1, 1, 1, 0], \"sizemode\": \"area\", \"sizeref\": 0.01, \"symbol\": \"circle\"}, \"mode\": \"markers\", \"name\": \"Student_10\", \"text\": [\"1\", \"1\", \"1\", \"0\"], \"x\": [\"Student_10\", \"Student_10\", \"Student_10\", \"Student_10\", \"Student_10\"], \"y\": [\"Assign1\", \"Assign2\", \"Assign3\", \"Assign4\"], \"type\": \"scatter\", \"uid\": \"147ef7f8-e287-11e8-9490-d5f4ba98b039\"}, {\"marker\": {\"line\": {\"width\": 2}, \"size\": [1, 0, 0, 0], \"sizemode\": \"area\", \"sizeref\": 0.01, \"symbol\": \"circle\"}, \"mode\": \"markers\", \"name\": \"Student_11\", \"text\": [\"1\", \"0\", \"0\", \"0\"], \"x\": [\"Student_11\", \"Student_11\", \"Student_11\", \"Student_11\", \"Student_11\"], \"y\": [\"Assign1\", \"Assign2\", \"Assign3\", \"Assign4\"], \"type\": \"scatter\", \"uid\": \"147ef87a-e287-11e8-9490-d5f4ba98b039\"}, {\"marker\": {\"line\": {\"width\": 2}, \"size\": [1, 1, 1, 1], \"sizemode\": \"area\", \"sizeref\": 0.01, \"symbol\": \"circle\"}, \"mode\": \"markers\", \"name\": \"Student_12\", \"text\": [\"1\", \"1\", \"1\", \"1\"], \"x\": [\"Student_12\", \"Student_12\", \"Student_12\", \"Student_12\", \"Student_12\"], \"y\": [\"Assign1\", \"Assign2\", \"Assign3\", \"Assign4\"], \"type\": \"scatter\", \"uid\": \"147ef906-e287-11e8-9490-d5f4ba98b039\"}, {\"marker\": {\"line\": {\"width\": 2}, \"size\": [0, 0, 1, 1], \"sizemode\": \"area\", \"sizeref\": 0.01, \"symbol\": \"circle\"}, \"mode\": \"markers\", \"name\": \"Student_13\", \"text\": [\"0\", \"0\", \"1\", \"1\"], \"x\": [\"Student_13\", \"Student_13\", \"Student_13\", \"Student_13\", \"Student_13\"], \"y\": [\"Assign1\", \"Assign2\", \"Assign3\", \"Assign4\"], \"type\": \"scatter\", \"uid\": \"147ef988-e287-11e8-9490-d5f4ba98b039\"}, {\"marker\": {\"line\": {\"width\": 2}, \"size\": [0, 0, 1, 1], \"sizemode\": \"area\", \"sizeref\": 0.01, \"symbol\": \"circle\"}, \"mode\": \"markers\", \"name\": \"Student_14\", \"text\": [\"0\", \"0\", \"1\", \"1\"], \"x\": [\"Student_14\", \"Student_14\", \"Student_14\", \"Student_14\", \"Student_14\"], \"y\": [\"Assign1\", \"Assign2\", \"Assign3\", \"Assign4\"], \"type\": \"scatter\", \"uid\": \"147efa14-e287-11e8-9490-d5f4ba98b039\"}, {\"marker\": {\"line\": {\"width\": 2}, \"size\": [0, 1, 1, 1], \"sizemode\": \"area\", \"sizeref\": 0.01, \"symbol\": \"circle\"}, \"mode\": \"markers\", \"name\": \"Student_15\", \"text\": [\"0\", \"1\", \"1\", \"1\"], \"x\": [\"Student_15\", \"Student_15\", \"Student_15\", \"Student_15\", \"Student_15\"], \"y\": [\"Assign1\", \"Assign2\", \"Assign3\", \"Assign4\"], \"type\": \"scatter\", \"uid\": \"147efaa0-e287-11e8-9490-d5f4ba98b039\"}, {\"marker\": {\"line\": {\"width\": 2}, \"size\": [1, 1, 0, 0], \"sizemode\": \"area\", \"sizeref\": 0.01, \"symbol\": \"circle\"}, \"mode\": \"markers\", \"name\": \"Student_16\", \"text\": [\"1\", \"1\", \"0\", \"0\"], \"x\": [\"Student_16\", \"Student_16\", \"Student_16\", \"Student_16\", \"Student_16\"], \"y\": [\"Assign1\", \"Assign2\", \"Assign3\", \"Assign4\"], \"type\": \"scatter\", \"uid\": \"147efb22-e287-11e8-9490-d5f4ba98b039\"}, {\"marker\": {\"line\": {\"width\": 2}, \"size\": [0, 1, 0, 1], \"sizemode\": \"area\", \"sizeref\": 0.01, \"symbol\": \"circle\"}, \"mode\": \"markers\", \"name\": \"Student_17\", \"text\": [\"0\", \"1\", \"0\", \"1\"], \"x\": [\"Student_17\", \"Student_17\", \"Student_17\", \"Student_17\", \"Student_17\"], \"y\": [\"Assign1\", \"Assign2\", \"Assign3\", \"Assign4\"], \"type\": \"scatter\", \"uid\": \"147efba4-e287-11e8-9490-d5f4ba98b039\"}, {\"marker\": {\"line\": {\"width\": 2}, \"size\": [1, 1, 0, 1], \"sizemode\": \"area\", \"sizeref\": 0.01, \"symbol\": \"circle\"}, \"mode\": \"markers\", \"name\": \"Student_18\", \"text\": [\"1\", \"1\", \"0\", \"1\"], \"x\": [\"Student_18\", \"Student_18\", \"Student_18\", \"Student_18\", \"Student_18\"], \"y\": [\"Assign1\", \"Assign2\", \"Assign3\", \"Assign4\"], \"type\": \"scatter\", \"uid\": \"147efc30-e287-11e8-9490-d5f4ba98b039\"}, {\"marker\": {\"line\": {\"width\": 2}, \"size\": [1, 1, 1, 1], \"sizemode\": \"area\", \"sizeref\": 0.01, \"symbol\": \"circle\"}, \"mode\": \"markers\", \"name\": \"Student_19\", \"text\": [\"1\", \"1\", \"1\", \"1\"], \"x\": [\"Student_19\", \"Student_19\", \"Student_19\", \"Student_19\", \"Student_19\"], \"y\": [\"Assign1\", \"Assign2\", \"Assign3\", \"Assign4\"], \"type\": \"scatter\", \"uid\": \"147efcb2-e287-11e8-9490-d5f4ba98b039\"}, {\"marker\": {\"line\": {\"width\": 2}, \"size\": [0, 0, 1, 0], \"sizemode\": \"area\", \"sizeref\": 0.01, \"symbol\": \"circle\"}, \"mode\": \"markers\", \"name\": \"Student_20\", \"text\": [\"0\", \"0\", \"1\", \"0\"], \"x\": [\"Student_20\", \"Student_20\", \"Student_20\", \"Student_20\", \"Student_20\"], \"y\": [\"Assign1\", \"Assign2\", \"Assign3\", \"Assign4\"], \"type\": \"scatter\", \"uid\": \"147efd2a-e287-11e8-9490-d5f4ba98b039\"}], {\"hovermode\": \"closest\", \"showlegend\": true, \"title\": \"Atividades feitas por estudante\", \"xaxis\": {\"autorange\": false, \"fixedrange\": false, \"range\": [-1, 20], \"rangemode\": \"normal\", \"showline\": true, \"title\": \"Estudantes\", \"type\": \"category\"}, \"yaxis\": {\"autorange\": false, \"categoryorder\": \"category ascending\", \"fixedrange\": false, \"range\": [-1, 4], \"rangemode\": \"normal\", \"showline\": true, \"title\": \"Atividades\", \"type\": \"category\"}}, {\"showLink\": true, \"linkText\": \"Export to plot.ly\"})});</script>"
      ]
     },
     "metadata": {},
     "output_type": "display_data"
    },
    {
     "data": {
      "application/vnd.plotly.v1+json": {
       "data": [
        {
         "colorscale": [
          [
           0,
           "rgb(255,255,255)"
          ],
          [
           1,
           "rgb(0,0,255)"
          ]
         ],
         "type": "heatmap",
         "uid": "1483da8e-e287-11e8-9490-d5f4ba98b039",
         "x": [
          "Assign1",
          "Assign2",
          "Assign3",
          "Assign4"
         ],
         "y": [
          "Student_1",
          "Student_2",
          "Student_3",
          "Student_4",
          "Student_5",
          "Student_6",
          "Student_7",
          "Student_8",
          "Student_9",
          "Student_10",
          "Student_11",
          "Student_12",
          "Student_13",
          "Student_14",
          "Student_15",
          "Student_16",
          "Student_17",
          "Student_18",
          "Student_19",
          "Student_20"
         ],
         "z": [
          [
           1,
           0,
           1,
           0
          ],
          [
           1,
           0,
           1,
           0
          ],
          [
           1,
           0,
           1,
           1
          ],
          [
           1,
           1,
           1,
           0
          ],
          [
           0,
           1,
           0,
           1
          ],
          [
           1,
           0,
           0,
           1
          ],
          [
           1,
           1,
           0,
           0
          ],
          [
           1,
           1,
           1,
           0
          ],
          [
           0,
           1,
           0,
           1
          ],
          [
           1,
           1,
           1,
           0
          ],
          [
           1,
           0,
           0,
           0
          ],
          [
           1,
           1,
           1,
           1
          ],
          [
           0,
           0,
           1,
           1
          ],
          [
           0,
           0,
           1,
           1
          ],
          [
           0,
           1,
           1,
           1
          ],
          [
           1,
           1,
           0,
           0
          ],
          [
           0,
           1,
           0,
           1
          ],
          [
           1,
           1,
           0,
           1
          ],
          [
           1,
           1,
           1,
           1
          ],
          [
           0,
           0,
           1,
           0
          ]
         ]
        }
       ],
       "layout": {
        "title": "Atividades feitas por estudante",
        "yaxis": {
         "dtick": 1,
         "exponentformat": "e",
         "gridcolor": "#bdbdbd",
         "showexponent": "all",
         "showticklabels": true,
         "tick0": 0,
         "titlefont": {
          "color": "lightgrey",
          "family": "Arial, sans-serif"
         }
        }
       }
      },
      "text/html": [
       "<div id=\"742f4169-4f5a-4c51-bc43-f63d32feb1b7\" style=\"height: 525px; width: 100%;\" class=\"plotly-graph-div\"></div><script type=\"text/javascript\">require([\"plotly\"], function(Plotly) { window.PLOTLYENV=window.PLOTLYENV || {};window.PLOTLYENV.BASE_URL=\"https://plot.ly\";Plotly.newPlot(\"742f4169-4f5a-4c51-bc43-f63d32feb1b7\", [{\"colorscale\": [[0, \"rgb(255,255,255)\"], [1, \"rgb(0,0,255)\"]], \"x\": [\"Assign1\", \"Assign2\", \"Assign3\", \"Assign4\"], \"y\": [\"Student_1\", \"Student_2\", \"Student_3\", \"Student_4\", \"Student_5\", \"Student_6\", \"Student_7\", \"Student_8\", \"Student_9\", \"Student_10\", \"Student_11\", \"Student_12\", \"Student_13\", \"Student_14\", \"Student_15\", \"Student_16\", \"Student_17\", \"Student_18\", \"Student_19\", \"Student_20\"], \"z\": [[1, 0, 1, 0], [1, 0, 1, 0], [1, 0, 1, 1], [1, 1, 1, 0], [0, 1, 0, 1], [1, 0, 0, 1], [1, 1, 0, 0], [1, 1, 1, 0], [0, 1, 0, 1], [1, 1, 1, 0], [1, 0, 0, 0], [1, 1, 1, 1], [0, 0, 1, 1], [0, 0, 1, 1], [0, 1, 1, 1], [1, 1, 0, 0], [0, 1, 0, 1], [1, 1, 0, 1], [1, 1, 1, 1], [0, 0, 1, 0]], \"type\": \"heatmap\", \"uid\": \"1483da8e-e287-11e8-9490-d5f4ba98b039\"}], {\"title\": \"Atividades feitas por estudante\", \"yaxis\": {\"dtick\": 1, \"exponentformat\": \"e\", \"gridcolor\": \"#bdbdbd\", \"showexponent\": \"all\", \"showticklabels\": true, \"tick0\": 0, \"titlefont\": {\"color\": \"lightgrey\", \"family\": \"Arial, sans-serif\"}}}, {\"showLink\": true, \"linkText\": \"Export to plot.ly\"})});</script>"
      ],
      "text/vnd.plotly.v1+html": [
       "<div id=\"742f4169-4f5a-4c51-bc43-f63d32feb1b7\" style=\"height: 525px; width: 100%;\" class=\"plotly-graph-div\"></div><script type=\"text/javascript\">require([\"plotly\"], function(Plotly) { window.PLOTLYENV=window.PLOTLYENV || {};window.PLOTLYENV.BASE_URL=\"https://plot.ly\";Plotly.newPlot(\"742f4169-4f5a-4c51-bc43-f63d32feb1b7\", [{\"colorscale\": [[0, \"rgb(255,255,255)\"], [1, \"rgb(0,0,255)\"]], \"x\": [\"Assign1\", \"Assign2\", \"Assign3\", \"Assign4\"], \"y\": [\"Student_1\", \"Student_2\", \"Student_3\", \"Student_4\", \"Student_5\", \"Student_6\", \"Student_7\", \"Student_8\", \"Student_9\", \"Student_10\", \"Student_11\", \"Student_12\", \"Student_13\", \"Student_14\", \"Student_15\", \"Student_16\", \"Student_17\", \"Student_18\", \"Student_19\", \"Student_20\"], \"z\": [[1, 0, 1, 0], [1, 0, 1, 0], [1, 0, 1, 1], [1, 1, 1, 0], [0, 1, 0, 1], [1, 0, 0, 1], [1, 1, 0, 0], [1, 1, 1, 0], [0, 1, 0, 1], [1, 1, 1, 0], [1, 0, 0, 0], [1, 1, 1, 1], [0, 0, 1, 1], [0, 0, 1, 1], [0, 1, 1, 1], [1, 1, 0, 0], [0, 1, 0, 1], [1, 1, 0, 1], [1, 1, 1, 1], [0, 0, 1, 0]], \"type\": \"heatmap\", \"uid\": \"1483da8e-e287-11e8-9490-d5f4ba98b039\"}], {\"title\": \"Atividades feitas por estudante\", \"yaxis\": {\"dtick\": 1, \"exponentformat\": \"e\", \"gridcolor\": \"#bdbdbd\", \"showexponent\": \"all\", \"showticklabels\": true, \"tick0\": 0, \"titlefont\": {\"color\": \"lightgrey\", \"family\": \"Arial, sans-serif\"}}}, {\"showLink\": true, \"linkText\": \"Export to plot.ly\"})});</script>"
      ]
     },
     "metadata": {},
     "output_type": "display_data"
    }
   ],
   "source": [
    "run scripts/V001.py"
   ]
  },
  {
   "cell_type": "markdown",
   "metadata": {},
   "source": [
    "### View 002"
   ]
  },
  {
   "cell_type": "code",
   "execution_count": 92,
   "metadata": {
    "scrolled": true
   },
   "outputs": [
    {
     "data": {
      "text/html": [
       "<script>requirejs.config({paths: { 'plotly': ['https://cdn.plot.ly/plotly-latest.min']},});if(!window.Plotly) {{require(['plotly'],function(plotly) {window.Plotly=plotly;});}}</script>"
      ],
      "text/vnd.plotly.v1+html": [
       "<script>requirejs.config({paths: { 'plotly': ['https://cdn.plot.ly/plotly-latest.min']},});if(!window.Plotly) {{require(['plotly'],function(plotly) {window.Plotly=plotly;});}}</script>"
      ]
     },
     "metadata": {},
     "output_type": "display_data"
    },
    {
     "data": {
      "application/vnd.plotly.v1+json": {
       "data": [
        {
         "cells": {
          "align": [
           "left",
           "center"
          ],
          "fill": {
           "color": "#F5F8FF"
          },
          "values": [
           [
            "Student_1",
            "Student_2",
            "Student_3",
            "Student_4",
            "Student_5",
            "Student_6",
            "Student_7",
            "Student_8",
            "Student_9",
            "Student_10",
            "Student_11",
            "Student_12",
            "Student_13",
            "Student_14",
            "Student_15",
            "Student_16",
            "Student_17",
            "Student_18",
            "Student_19",
            "Student_20"
           ],
           [
            1,
            27,
            21,
            27,
            11,
            9,
            10,
            27,
            12,
            18,
            12,
            1,
            13,
            26,
            11,
            19,
            11,
            20,
            0,
            18
           ],
           [
            6,
            11,
            17,
            27,
            25,
            29,
            8,
            18,
            18,
            14,
            17,
            7,
            1,
            1,
            25,
            28,
            19,
            15,
            16,
            8
           ],
           [
            21,
            8,
            16,
            2,
            9,
            11,
            2,
            2,
            9,
            7,
            8,
            20,
            6,
            14,
            3,
            14,
            23,
            18,
            24,
            15
           ],
           [
            2,
            24,
            18,
            3,
            4,
            8,
            0,
            5,
            25,
            29,
            22,
            14,
            19,
            20,
            5,
            18,
            23,
            22,
            6,
            24
           ],
           [
            13,
            5,
            4,
            11,
            22,
            17,
            1,
            29,
            27,
            29,
            12,
            3,
            26,
            9,
            8,
            24,
            17,
            9,
            24,
            1
           ],
           [
            17,
            15,
            23,
            20,
            21,
            6,
            28,
            23,
            9,
            28,
            23,
            24,
            15,
            3,
            26,
            18,
            7,
            5,
            21,
            10
           ],
           [
            28,
            18,
            2,
            13,
            0,
            8,
            4,
            23,
            22,
            28,
            3,
            26,
            2,
            28,
            7,
            0,
            15,
            12,
            25,
            15
           ],
           [
            2,
            28,
            5,
            16,
            26,
            7,
            2,
            14,
            8,
            23,
            29,
            15,
            4,
            5,
            14,
            7,
            22,
            6,
            27,
            4
           ]
          ]
         },
         "header": {
          "align": "center",
          "fill": {
           "color": "#C2D4FF"
          },
          "values": [
           "Students",
           "Video1",
           "Video2",
           "Quiz1",
           "Quiz2",
           "Pdf1",
           "Pdf2",
           "Ebook1",
           "Ebook2"
          ]
         },
         "type": "table",
         "uid": "1619bc9c-e287-11e8-9490-d5f4ba98b039"
        }
       ],
       "layout": {}
      },
      "text/html": [
       "<div id=\"063cf637-4a15-4af8-883f-0deff8c240d0\" style=\"height: 525px; width: 100%;\" class=\"plotly-graph-div\"></div><script type=\"text/javascript\">require([\"plotly\"], function(Plotly) { window.PLOTLYENV=window.PLOTLYENV || {};window.PLOTLYENV.BASE_URL=\"https://plot.ly\";Plotly.newPlot(\"063cf637-4a15-4af8-883f-0deff8c240d0\", [{\"cells\": {\"align\": [\"left\", \"center\"], \"fill\": {\"color\": \"#F5F8FF\"}, \"values\": [[\"Student_1\", \"Student_2\", \"Student_3\", \"Student_4\", \"Student_5\", \"Student_6\", \"Student_7\", \"Student_8\", \"Student_9\", \"Student_10\", \"Student_11\", \"Student_12\", \"Student_13\", \"Student_14\", \"Student_15\", \"Student_16\", \"Student_17\", \"Student_18\", \"Student_19\", \"Student_20\"], [1, 27, 21, 27, 11, 9, 10, 27, 12, 18, 12, 1, 13, 26, 11, 19, 11, 20, 0, 18], [6, 11, 17, 27, 25, 29, 8, 18, 18, 14, 17, 7, 1, 1, 25, 28, 19, 15, 16, 8], [21, 8, 16, 2, 9, 11, 2, 2, 9, 7, 8, 20, 6, 14, 3, 14, 23, 18, 24, 15], [2, 24, 18, 3, 4, 8, 0, 5, 25, 29, 22, 14, 19, 20, 5, 18, 23, 22, 6, 24], [13, 5, 4, 11, 22, 17, 1, 29, 27, 29, 12, 3, 26, 9, 8, 24, 17, 9, 24, 1], [17, 15, 23, 20, 21, 6, 28, 23, 9, 28, 23, 24, 15, 3, 26, 18, 7, 5, 21, 10], [28, 18, 2, 13, 0, 8, 4, 23, 22, 28, 3, 26, 2, 28, 7, 0, 15, 12, 25, 15], [2, 28, 5, 16, 26, 7, 2, 14, 8, 23, 29, 15, 4, 5, 14, 7, 22, 6, 27, 4]]}, \"header\": {\"align\": \"center\", \"fill\": {\"color\": \"#C2D4FF\"}, \"values\": [\"Students\", \"Video1\", \"Video2\", \"Quiz1\", \"Quiz2\", \"Pdf1\", \"Pdf2\", \"Ebook1\", \"Ebook2\"]}, \"type\": \"table\", \"uid\": \"161c7932-e287-11e8-9490-d5f4ba98b039\"}], {}, {\"showLink\": true, \"linkText\": \"Export to plot.ly\"})});</script>"
      ],
      "text/vnd.plotly.v1+html": [
       "<div id=\"063cf637-4a15-4af8-883f-0deff8c240d0\" style=\"height: 525px; width: 100%;\" class=\"plotly-graph-div\"></div><script type=\"text/javascript\">require([\"plotly\"], function(Plotly) { window.PLOTLYENV=window.PLOTLYENV || {};window.PLOTLYENV.BASE_URL=\"https://plot.ly\";Plotly.newPlot(\"063cf637-4a15-4af8-883f-0deff8c240d0\", [{\"cells\": {\"align\": [\"left\", \"center\"], \"fill\": {\"color\": \"#F5F8FF\"}, \"values\": [[\"Student_1\", \"Student_2\", \"Student_3\", \"Student_4\", \"Student_5\", \"Student_6\", \"Student_7\", \"Student_8\", \"Student_9\", \"Student_10\", \"Student_11\", \"Student_12\", \"Student_13\", \"Student_14\", \"Student_15\", \"Student_16\", \"Student_17\", \"Student_18\", \"Student_19\", \"Student_20\"], [1, 27, 21, 27, 11, 9, 10, 27, 12, 18, 12, 1, 13, 26, 11, 19, 11, 20, 0, 18], [6, 11, 17, 27, 25, 29, 8, 18, 18, 14, 17, 7, 1, 1, 25, 28, 19, 15, 16, 8], [21, 8, 16, 2, 9, 11, 2, 2, 9, 7, 8, 20, 6, 14, 3, 14, 23, 18, 24, 15], [2, 24, 18, 3, 4, 8, 0, 5, 25, 29, 22, 14, 19, 20, 5, 18, 23, 22, 6, 24], [13, 5, 4, 11, 22, 17, 1, 29, 27, 29, 12, 3, 26, 9, 8, 24, 17, 9, 24, 1], [17, 15, 23, 20, 21, 6, 28, 23, 9, 28, 23, 24, 15, 3, 26, 18, 7, 5, 21, 10], [28, 18, 2, 13, 0, 8, 4, 23, 22, 28, 3, 26, 2, 28, 7, 0, 15, 12, 25, 15], [2, 28, 5, 16, 26, 7, 2, 14, 8, 23, 29, 15, 4, 5, 14, 7, 22, 6, 27, 4]]}, \"header\": {\"align\": \"center\", \"fill\": {\"color\": \"#C2D4FF\"}, \"values\": [\"Students\", \"Video1\", \"Video2\", \"Quiz1\", \"Quiz2\", \"Pdf1\", \"Pdf2\", \"Ebook1\", \"Ebook2\"]}, \"type\": \"table\", \"uid\": \"161c7932-e287-11e8-9490-d5f4ba98b039\"}], {}, {\"showLink\": true, \"linkText\": \"Export to plot.ly\"})});</script>"
      ]
     },
     "metadata": {},
     "output_type": "display_data"
    },
    {
     "data": {
      "application/vnd.plotly.v1+json": {
       "data": [
        {
         "name": "Video1",
         "type": "bar",
         "uid": "16317990-e287-11e8-9490-d5f4ba98b039",
         "x": [
          "Student_1",
          "Student_2",
          "Student_3",
          "Student_4",
          "Student_5",
          "Student_6",
          "Student_7",
          "Student_8",
          "Student_9",
          "Student_10",
          "Student_11",
          "Student_12",
          "Student_13",
          "Student_14",
          "Student_15",
          "Student_16",
          "Student_17",
          "Student_18",
          "Student_19",
          "Student_20"
         ],
         "y": [
          1,
          27,
          21,
          27,
          11,
          9,
          10,
          27,
          12,
          18,
          12,
          1,
          13,
          26,
          11,
          19,
          11,
          20,
          0,
          18
         ]
        },
        {
         "name": "Video2",
         "type": "bar",
         "uid": "16317b98-e287-11e8-9490-d5f4ba98b039",
         "x": [
          "Student_1",
          "Student_2",
          "Student_3",
          "Student_4",
          "Student_5",
          "Student_6",
          "Student_7",
          "Student_8",
          "Student_9",
          "Student_10",
          "Student_11",
          "Student_12",
          "Student_13",
          "Student_14",
          "Student_15",
          "Student_16",
          "Student_17",
          "Student_18",
          "Student_19",
          "Student_20"
         ],
         "y": [
          6,
          11,
          17,
          27,
          25,
          29,
          8,
          18,
          18,
          14,
          17,
          7,
          1,
          1,
          25,
          28,
          19,
          15,
          16,
          8
         ]
        },
        {
         "name": "Quiz1",
         "type": "bar",
         "uid": "16317c9c-e287-11e8-9490-d5f4ba98b039",
         "x": [
          "Student_1",
          "Student_2",
          "Student_3",
          "Student_4",
          "Student_5",
          "Student_6",
          "Student_7",
          "Student_8",
          "Student_9",
          "Student_10",
          "Student_11",
          "Student_12",
          "Student_13",
          "Student_14",
          "Student_15",
          "Student_16",
          "Student_17",
          "Student_18",
          "Student_19",
          "Student_20"
         ],
         "y": [
          21,
          8,
          16,
          2,
          9,
          11,
          2,
          2,
          9,
          7,
          8,
          20,
          6,
          14,
          3,
          14,
          23,
          18,
          24,
          15
         ]
        },
        {
         "name": "Quiz2",
         "type": "bar",
         "uid": "16317d78-e287-11e8-9490-d5f4ba98b039",
         "x": [
          "Student_1",
          "Student_2",
          "Student_3",
          "Student_4",
          "Student_5",
          "Student_6",
          "Student_7",
          "Student_8",
          "Student_9",
          "Student_10",
          "Student_11",
          "Student_12",
          "Student_13",
          "Student_14",
          "Student_15",
          "Student_16",
          "Student_17",
          "Student_18",
          "Student_19",
          "Student_20"
         ],
         "y": [
          2,
          24,
          18,
          3,
          4,
          8,
          0,
          5,
          25,
          29,
          22,
          14,
          19,
          20,
          5,
          18,
          23,
          22,
          6,
          24
         ]
        },
        {
         "name": "Pdf1",
         "type": "bar",
         "uid": "16317e36-e287-11e8-9490-d5f4ba98b039",
         "x": [
          "Student_1",
          "Student_2",
          "Student_3",
          "Student_4",
          "Student_5",
          "Student_6",
          "Student_7",
          "Student_8",
          "Student_9",
          "Student_10",
          "Student_11",
          "Student_12",
          "Student_13",
          "Student_14",
          "Student_15",
          "Student_16",
          "Student_17",
          "Student_18",
          "Student_19",
          "Student_20"
         ],
         "y": [
          13,
          5,
          4,
          11,
          22,
          17,
          1,
          29,
          27,
          29,
          12,
          3,
          26,
          9,
          8,
          24,
          17,
          9,
          24,
          1
         ]
        },
        {
         "name": "Pdf2",
         "type": "bar",
         "uid": "16317ef4-e287-11e8-9490-d5f4ba98b039",
         "x": [
          "Student_1",
          "Student_2",
          "Student_3",
          "Student_4",
          "Student_5",
          "Student_6",
          "Student_7",
          "Student_8",
          "Student_9",
          "Student_10",
          "Student_11",
          "Student_12",
          "Student_13",
          "Student_14",
          "Student_15",
          "Student_16",
          "Student_17",
          "Student_18",
          "Student_19",
          "Student_20"
         ],
         "y": [
          17,
          15,
          23,
          20,
          21,
          6,
          28,
          23,
          9,
          28,
          23,
          24,
          15,
          3,
          26,
          18,
          7,
          5,
          21,
          10
         ]
        },
        {
         "name": "Ebook1",
         "type": "bar",
         "uid": "16317fa8-e287-11e8-9490-d5f4ba98b039",
         "x": [
          "Student_1",
          "Student_2",
          "Student_3",
          "Student_4",
          "Student_5",
          "Student_6",
          "Student_7",
          "Student_8",
          "Student_9",
          "Student_10",
          "Student_11",
          "Student_12",
          "Student_13",
          "Student_14",
          "Student_15",
          "Student_16",
          "Student_17",
          "Student_18",
          "Student_19",
          "Student_20"
         ],
         "y": [
          28,
          18,
          2,
          13,
          0,
          8,
          4,
          23,
          22,
          28,
          3,
          26,
          2,
          28,
          7,
          0,
          15,
          12,
          25,
          15
         ]
        },
        {
         "name": "Ebook2",
         "type": "bar",
         "uid": "16318052-e287-11e8-9490-d5f4ba98b039",
         "x": [
          "Student_1",
          "Student_2",
          "Student_3",
          "Student_4",
          "Student_5",
          "Student_6",
          "Student_7",
          "Student_8",
          "Student_9",
          "Student_10",
          "Student_11",
          "Student_12",
          "Student_13",
          "Student_14",
          "Student_15",
          "Student_16",
          "Student_17",
          "Student_18",
          "Student_19",
          "Student_20"
         ],
         "y": [
          2,
          28,
          5,
          16,
          26,
          7,
          2,
          14,
          8,
          23,
          29,
          15,
          4,
          5,
          14,
          7,
          22,
          6,
          27,
          4
         ]
        }
       ],
       "layout": {
        "title": "Número de acessos nos materiais agrupados por estudante",
        "yaxis": {
         "dtick": 1,
         "exponentformat": "e",
         "gridcolor": "#bdbdbd",
         "showexponent": "all",
         "showticklabels": true,
         "tick0": 0,
         "titlefont": {
          "color": "lightgrey",
          "family": "Arial, sans-serif"
         }
        }
       }
      },
      "text/html": [
       "<div id=\"4779392b-4a44-470a-be57-a6b7fcda9f81\" style=\"height: 525px; width: 100%;\" class=\"plotly-graph-div\"></div><script type=\"text/javascript\">require([\"plotly\"], function(Plotly) { window.PLOTLYENV=window.PLOTLYENV || {};window.PLOTLYENV.BASE_URL=\"https://plot.ly\";Plotly.newPlot(\"4779392b-4a44-470a-be57-a6b7fcda9f81\", [{\"name\": \"Video1\", \"x\": [\"Student_1\", \"Student_2\", \"Student_3\", \"Student_4\", \"Student_5\", \"Student_6\", \"Student_7\", \"Student_8\", \"Student_9\", \"Student_10\", \"Student_11\", \"Student_12\", \"Student_13\", \"Student_14\", \"Student_15\", \"Student_16\", \"Student_17\", \"Student_18\", \"Student_19\", \"Student_20\"], \"y\": [1, 27, 21, 27, 11, 9, 10, 27, 12, 18, 12, 1, 13, 26, 11, 19, 11, 20, 0, 18], \"type\": \"bar\", \"uid\": \"16317990-e287-11e8-9490-d5f4ba98b039\"}, {\"name\": \"Video2\", \"x\": [\"Student_1\", \"Student_2\", \"Student_3\", \"Student_4\", \"Student_5\", \"Student_6\", \"Student_7\", \"Student_8\", \"Student_9\", \"Student_10\", \"Student_11\", \"Student_12\", \"Student_13\", \"Student_14\", \"Student_15\", \"Student_16\", \"Student_17\", \"Student_18\", \"Student_19\", \"Student_20\"], \"y\": [6, 11, 17, 27, 25, 29, 8, 18, 18, 14, 17, 7, 1, 1, 25, 28, 19, 15, 16, 8], \"type\": \"bar\", \"uid\": \"16317b98-e287-11e8-9490-d5f4ba98b039\"}, {\"name\": \"Quiz1\", \"x\": [\"Student_1\", \"Student_2\", \"Student_3\", \"Student_4\", \"Student_5\", \"Student_6\", \"Student_7\", \"Student_8\", \"Student_9\", \"Student_10\", \"Student_11\", \"Student_12\", \"Student_13\", \"Student_14\", \"Student_15\", \"Student_16\", \"Student_17\", \"Student_18\", \"Student_19\", \"Student_20\"], \"y\": [21, 8, 16, 2, 9, 11, 2, 2, 9, 7, 8, 20, 6, 14, 3, 14, 23, 18, 24, 15], \"type\": \"bar\", \"uid\": \"16317c9c-e287-11e8-9490-d5f4ba98b039\"}, {\"name\": \"Quiz2\", \"x\": [\"Student_1\", \"Student_2\", \"Student_3\", \"Student_4\", \"Student_5\", \"Student_6\", \"Student_7\", \"Student_8\", \"Student_9\", \"Student_10\", \"Student_11\", \"Student_12\", \"Student_13\", \"Student_14\", \"Student_15\", \"Student_16\", \"Student_17\", \"Student_18\", \"Student_19\", \"Student_20\"], \"y\": [2, 24, 18, 3, 4, 8, 0, 5, 25, 29, 22, 14, 19, 20, 5, 18, 23, 22, 6, 24], \"type\": \"bar\", \"uid\": \"16317d78-e287-11e8-9490-d5f4ba98b039\"}, {\"name\": \"Pdf1\", \"x\": [\"Student_1\", \"Student_2\", \"Student_3\", \"Student_4\", \"Student_5\", \"Student_6\", \"Student_7\", \"Student_8\", \"Student_9\", \"Student_10\", \"Student_11\", \"Student_12\", \"Student_13\", \"Student_14\", \"Student_15\", \"Student_16\", \"Student_17\", \"Student_18\", \"Student_19\", \"Student_20\"], \"y\": [13, 5, 4, 11, 22, 17, 1, 29, 27, 29, 12, 3, 26, 9, 8, 24, 17, 9, 24, 1], \"type\": \"bar\", \"uid\": \"16317e36-e287-11e8-9490-d5f4ba98b039\"}, {\"name\": \"Pdf2\", \"x\": [\"Student_1\", \"Student_2\", \"Student_3\", \"Student_4\", \"Student_5\", \"Student_6\", \"Student_7\", \"Student_8\", \"Student_9\", \"Student_10\", \"Student_11\", \"Student_12\", \"Student_13\", \"Student_14\", \"Student_15\", \"Student_16\", \"Student_17\", \"Student_18\", \"Student_19\", \"Student_20\"], \"y\": [17, 15, 23, 20, 21, 6, 28, 23, 9, 28, 23, 24, 15, 3, 26, 18, 7, 5, 21, 10], \"type\": \"bar\", \"uid\": \"16317ef4-e287-11e8-9490-d5f4ba98b039\"}, {\"name\": \"Ebook1\", \"x\": [\"Student_1\", \"Student_2\", \"Student_3\", \"Student_4\", \"Student_5\", \"Student_6\", \"Student_7\", \"Student_8\", \"Student_9\", \"Student_10\", \"Student_11\", \"Student_12\", \"Student_13\", \"Student_14\", \"Student_15\", \"Student_16\", \"Student_17\", \"Student_18\", \"Student_19\", \"Student_20\"], \"y\": [28, 18, 2, 13, 0, 8, 4, 23, 22, 28, 3, 26, 2, 28, 7, 0, 15, 12, 25, 15], \"type\": \"bar\", \"uid\": \"16317fa8-e287-11e8-9490-d5f4ba98b039\"}, {\"name\": \"Ebook2\", \"x\": [\"Student_1\", \"Student_2\", \"Student_3\", \"Student_4\", \"Student_5\", \"Student_6\", \"Student_7\", \"Student_8\", \"Student_9\", \"Student_10\", \"Student_11\", \"Student_12\", \"Student_13\", \"Student_14\", \"Student_15\", \"Student_16\", \"Student_17\", \"Student_18\", \"Student_19\", \"Student_20\"], \"y\": [2, 28, 5, 16, 26, 7, 2, 14, 8, 23, 29, 15, 4, 5, 14, 7, 22, 6, 27, 4], \"type\": \"bar\", \"uid\": \"16318052-e287-11e8-9490-d5f4ba98b039\"}], {\"title\": \"N\\u00famero de acessos nos materiais agrupados por estudante\", \"yaxis\": {\"dtick\": 1, \"exponentformat\": \"e\", \"gridcolor\": \"#bdbdbd\", \"showexponent\": \"all\", \"showticklabels\": true, \"tick0\": 0, \"titlefont\": {\"color\": \"lightgrey\", \"family\": \"Arial, sans-serif\"}}}, {\"showLink\": true, \"linkText\": \"Export to plot.ly\"})});</script>"
      ],
      "text/vnd.plotly.v1+html": [
       "<div id=\"4779392b-4a44-470a-be57-a6b7fcda9f81\" style=\"height: 525px; width: 100%;\" class=\"plotly-graph-div\"></div><script type=\"text/javascript\">require([\"plotly\"], function(Plotly) { window.PLOTLYENV=window.PLOTLYENV || {};window.PLOTLYENV.BASE_URL=\"https://plot.ly\";Plotly.newPlot(\"4779392b-4a44-470a-be57-a6b7fcda9f81\", [{\"name\": \"Video1\", \"x\": [\"Student_1\", \"Student_2\", \"Student_3\", \"Student_4\", \"Student_5\", \"Student_6\", \"Student_7\", \"Student_8\", \"Student_9\", \"Student_10\", \"Student_11\", \"Student_12\", \"Student_13\", \"Student_14\", \"Student_15\", \"Student_16\", \"Student_17\", \"Student_18\", \"Student_19\", \"Student_20\"], \"y\": [1, 27, 21, 27, 11, 9, 10, 27, 12, 18, 12, 1, 13, 26, 11, 19, 11, 20, 0, 18], \"type\": \"bar\", \"uid\": \"16317990-e287-11e8-9490-d5f4ba98b039\"}, {\"name\": \"Video2\", \"x\": [\"Student_1\", \"Student_2\", \"Student_3\", \"Student_4\", \"Student_5\", \"Student_6\", \"Student_7\", \"Student_8\", \"Student_9\", \"Student_10\", \"Student_11\", \"Student_12\", \"Student_13\", \"Student_14\", \"Student_15\", \"Student_16\", \"Student_17\", \"Student_18\", \"Student_19\", \"Student_20\"], \"y\": [6, 11, 17, 27, 25, 29, 8, 18, 18, 14, 17, 7, 1, 1, 25, 28, 19, 15, 16, 8], \"type\": \"bar\", \"uid\": \"16317b98-e287-11e8-9490-d5f4ba98b039\"}, {\"name\": \"Quiz1\", \"x\": [\"Student_1\", \"Student_2\", \"Student_3\", \"Student_4\", \"Student_5\", \"Student_6\", \"Student_7\", \"Student_8\", \"Student_9\", \"Student_10\", \"Student_11\", \"Student_12\", \"Student_13\", \"Student_14\", \"Student_15\", \"Student_16\", \"Student_17\", \"Student_18\", \"Student_19\", \"Student_20\"], \"y\": [21, 8, 16, 2, 9, 11, 2, 2, 9, 7, 8, 20, 6, 14, 3, 14, 23, 18, 24, 15], \"type\": \"bar\", \"uid\": \"16317c9c-e287-11e8-9490-d5f4ba98b039\"}, {\"name\": \"Quiz2\", \"x\": [\"Student_1\", \"Student_2\", \"Student_3\", \"Student_4\", \"Student_5\", \"Student_6\", \"Student_7\", \"Student_8\", \"Student_9\", \"Student_10\", \"Student_11\", \"Student_12\", \"Student_13\", \"Student_14\", \"Student_15\", \"Student_16\", \"Student_17\", \"Student_18\", \"Student_19\", \"Student_20\"], \"y\": [2, 24, 18, 3, 4, 8, 0, 5, 25, 29, 22, 14, 19, 20, 5, 18, 23, 22, 6, 24], \"type\": \"bar\", \"uid\": \"16317d78-e287-11e8-9490-d5f4ba98b039\"}, {\"name\": \"Pdf1\", \"x\": [\"Student_1\", \"Student_2\", \"Student_3\", \"Student_4\", \"Student_5\", \"Student_6\", \"Student_7\", \"Student_8\", \"Student_9\", \"Student_10\", \"Student_11\", \"Student_12\", \"Student_13\", \"Student_14\", \"Student_15\", \"Student_16\", \"Student_17\", \"Student_18\", \"Student_19\", \"Student_20\"], \"y\": [13, 5, 4, 11, 22, 17, 1, 29, 27, 29, 12, 3, 26, 9, 8, 24, 17, 9, 24, 1], \"type\": \"bar\", \"uid\": \"16317e36-e287-11e8-9490-d5f4ba98b039\"}, {\"name\": \"Pdf2\", \"x\": [\"Student_1\", \"Student_2\", \"Student_3\", \"Student_4\", \"Student_5\", \"Student_6\", \"Student_7\", \"Student_8\", \"Student_9\", \"Student_10\", \"Student_11\", \"Student_12\", \"Student_13\", \"Student_14\", \"Student_15\", \"Student_16\", \"Student_17\", \"Student_18\", \"Student_19\", \"Student_20\"], \"y\": [17, 15, 23, 20, 21, 6, 28, 23, 9, 28, 23, 24, 15, 3, 26, 18, 7, 5, 21, 10], \"type\": \"bar\", \"uid\": \"16317ef4-e287-11e8-9490-d5f4ba98b039\"}, {\"name\": \"Ebook1\", \"x\": [\"Student_1\", \"Student_2\", \"Student_3\", \"Student_4\", \"Student_5\", \"Student_6\", \"Student_7\", \"Student_8\", \"Student_9\", \"Student_10\", \"Student_11\", \"Student_12\", \"Student_13\", \"Student_14\", \"Student_15\", \"Student_16\", \"Student_17\", \"Student_18\", \"Student_19\", \"Student_20\"], \"y\": [28, 18, 2, 13, 0, 8, 4, 23, 22, 28, 3, 26, 2, 28, 7, 0, 15, 12, 25, 15], \"type\": \"bar\", \"uid\": \"16317fa8-e287-11e8-9490-d5f4ba98b039\"}, {\"name\": \"Ebook2\", \"x\": [\"Student_1\", \"Student_2\", \"Student_3\", \"Student_4\", \"Student_5\", \"Student_6\", \"Student_7\", \"Student_8\", \"Student_9\", \"Student_10\", \"Student_11\", \"Student_12\", \"Student_13\", \"Student_14\", \"Student_15\", \"Student_16\", \"Student_17\", \"Student_18\", \"Student_19\", \"Student_20\"], \"y\": [2, 28, 5, 16, 26, 7, 2, 14, 8, 23, 29, 15, 4, 5, 14, 7, 22, 6, 27, 4], \"type\": \"bar\", \"uid\": \"16318052-e287-11e8-9490-d5f4ba98b039\"}], {\"title\": \"N\\u00famero de acessos nos materiais agrupados por estudante\", \"yaxis\": {\"dtick\": 1, \"exponentformat\": \"e\", \"gridcolor\": \"#bdbdbd\", \"showexponent\": \"all\", \"showticklabels\": true, \"tick0\": 0, \"titlefont\": {\"color\": \"lightgrey\", \"family\": \"Arial, sans-serif\"}}}, {\"showLink\": true, \"linkText\": \"Export to plot.ly\"})});</script>"
      ]
     },
     "metadata": {},
     "output_type": "display_data"
    },
    {
     "data": {
      "application/vnd.plotly.v1+json": {
       "data": [
        {
         "colorscale": [
          [
           0,
           "rgb(255,255,255)"
          ],
          [
           1,
           "rgb(0,0,255)"
          ]
         ],
         "type": "heatmap",
         "uid": "16364d80-e287-11e8-9490-d5f4ba98b039",
         "x": [
          "Video1",
          "Video2",
          "Quiz1",
          "Quiz2",
          "Pdf1",
          "Pdf2",
          "Ebook1",
          "Ebook2"
         ],
         "y": [
          "Student_1",
          "Student_2",
          "Student_3",
          "Student_4",
          "Student_5",
          "Student_6",
          "Student_7",
          "Student_8",
          "Student_9",
          "Student_10",
          "Student_11",
          "Student_12",
          "Student_13",
          "Student_14",
          "Student_15",
          "Student_16",
          "Student_17",
          "Student_18",
          "Student_19",
          "Student_20"
         ],
         "z": [
          [
           1,
           6,
           21,
           2,
           13,
           17,
           28,
           2
          ],
          [
           27,
           11,
           8,
           24,
           5,
           15,
           18,
           28
          ],
          [
           21,
           17,
           16,
           18,
           4,
           23,
           2,
           5
          ],
          [
           27,
           27,
           2,
           3,
           11,
           20,
           13,
           16
          ],
          [
           11,
           25,
           9,
           4,
           22,
           21,
           0,
           26
          ],
          [
           9,
           29,
           11,
           8,
           17,
           6,
           8,
           7
          ],
          [
           10,
           8,
           2,
           0,
           1,
           28,
           4,
           2
          ],
          [
           27,
           18,
           2,
           5,
           29,
           23,
           23,
           14
          ],
          [
           12,
           18,
           9,
           25,
           27,
           9,
           22,
           8
          ],
          [
           18,
           14,
           7,
           29,
           29,
           28,
           28,
           23
          ],
          [
           12,
           17,
           8,
           22,
           12,
           23,
           3,
           29
          ],
          [
           1,
           7,
           20,
           14,
           3,
           24,
           26,
           15
          ],
          [
           13,
           1,
           6,
           19,
           26,
           15,
           2,
           4
          ],
          [
           26,
           1,
           14,
           20,
           9,
           3,
           28,
           5
          ],
          [
           11,
           25,
           3,
           5,
           8,
           26,
           7,
           14
          ],
          [
           19,
           28,
           14,
           18,
           24,
           18,
           0,
           7
          ],
          [
           11,
           19,
           23,
           23,
           17,
           7,
           15,
           22
          ],
          [
           20,
           15,
           18,
           22,
           9,
           5,
           12,
           6
          ],
          [
           0,
           16,
           24,
           6,
           24,
           21,
           25,
           27
          ],
          [
           18,
           8,
           15,
           24,
           1,
           10,
           15,
           4
          ]
         ]
        }
       ],
       "layout": {
        "title": "Número de acessos nos materiais por estudante",
        "yaxis": {
         "dtick": 1,
         "exponentformat": "e",
         "gridcolor": "#bdbdbd",
         "showexponent": "all",
         "showticklabels": true,
         "tick0": 0,
         "titlefont": {
          "color": "lightgrey",
          "family": "Arial, sans-serif"
         }
        }
       }
      },
      "text/html": [
       "<div id=\"cb2b191d-d5b8-4873-9122-3ad4a5a5328e\" style=\"height: 525px; width: 100%;\" class=\"plotly-graph-div\"></div><script type=\"text/javascript\">require([\"plotly\"], function(Plotly) { window.PLOTLYENV=window.PLOTLYENV || {};window.PLOTLYENV.BASE_URL=\"https://plot.ly\";Plotly.newPlot(\"cb2b191d-d5b8-4873-9122-3ad4a5a5328e\", [{\"colorscale\": [[0, \"rgb(255,255,255)\"], [1, \"rgb(0,0,255)\"]], \"x\": [\"Video1\", \"Video2\", \"Quiz1\", \"Quiz2\", \"Pdf1\", \"Pdf2\", \"Ebook1\", \"Ebook2\"], \"y\": [\"Student_1\", \"Student_2\", \"Student_3\", \"Student_4\", \"Student_5\", \"Student_6\", \"Student_7\", \"Student_8\", \"Student_9\", \"Student_10\", \"Student_11\", \"Student_12\", \"Student_13\", \"Student_14\", \"Student_15\", \"Student_16\", \"Student_17\", \"Student_18\", \"Student_19\", \"Student_20\"], \"z\": [[1, 6, 21, 2, 13, 17, 28, 2], [27, 11, 8, 24, 5, 15, 18, 28], [21, 17, 16, 18, 4, 23, 2, 5], [27, 27, 2, 3, 11, 20, 13, 16], [11, 25, 9, 4, 22, 21, 0, 26], [9, 29, 11, 8, 17, 6, 8, 7], [10, 8, 2, 0, 1, 28, 4, 2], [27, 18, 2, 5, 29, 23, 23, 14], [12, 18, 9, 25, 27, 9, 22, 8], [18, 14, 7, 29, 29, 28, 28, 23], [12, 17, 8, 22, 12, 23, 3, 29], [1, 7, 20, 14, 3, 24, 26, 15], [13, 1, 6, 19, 26, 15, 2, 4], [26, 1, 14, 20, 9, 3, 28, 5], [11, 25, 3, 5, 8, 26, 7, 14], [19, 28, 14, 18, 24, 18, 0, 7], [11, 19, 23, 23, 17, 7, 15, 22], [20, 15, 18, 22, 9, 5, 12, 6], [0, 16, 24, 6, 24, 21, 25, 27], [18, 8, 15, 24, 1, 10, 15, 4]], \"type\": \"heatmap\", \"uid\": \"16364d80-e287-11e8-9490-d5f4ba98b039\"}], {\"title\": \"N\\u00famero de acessos nos materiais por estudante\", \"yaxis\": {\"dtick\": 1, \"exponentformat\": \"e\", \"gridcolor\": \"#bdbdbd\", \"showexponent\": \"all\", \"showticklabels\": true, \"tick0\": 0, \"titlefont\": {\"color\": \"lightgrey\", \"family\": \"Arial, sans-serif\"}}}, {\"showLink\": true, \"linkText\": \"Export to plot.ly\"})});</script>"
      ],
      "text/vnd.plotly.v1+html": [
       "<div id=\"cb2b191d-d5b8-4873-9122-3ad4a5a5328e\" style=\"height: 525px; width: 100%;\" class=\"plotly-graph-div\"></div><script type=\"text/javascript\">require([\"plotly\"], function(Plotly) { window.PLOTLYENV=window.PLOTLYENV || {};window.PLOTLYENV.BASE_URL=\"https://plot.ly\";Plotly.newPlot(\"cb2b191d-d5b8-4873-9122-3ad4a5a5328e\", [{\"colorscale\": [[0, \"rgb(255,255,255)\"], [1, \"rgb(0,0,255)\"]], \"x\": [\"Video1\", \"Video2\", \"Quiz1\", \"Quiz2\", \"Pdf1\", \"Pdf2\", \"Ebook1\", \"Ebook2\"], \"y\": [\"Student_1\", \"Student_2\", \"Student_3\", \"Student_4\", \"Student_5\", \"Student_6\", \"Student_7\", \"Student_8\", \"Student_9\", \"Student_10\", \"Student_11\", \"Student_12\", \"Student_13\", \"Student_14\", \"Student_15\", \"Student_16\", \"Student_17\", \"Student_18\", \"Student_19\", \"Student_20\"], \"z\": [[1, 6, 21, 2, 13, 17, 28, 2], [27, 11, 8, 24, 5, 15, 18, 28], [21, 17, 16, 18, 4, 23, 2, 5], [27, 27, 2, 3, 11, 20, 13, 16], [11, 25, 9, 4, 22, 21, 0, 26], [9, 29, 11, 8, 17, 6, 8, 7], [10, 8, 2, 0, 1, 28, 4, 2], [27, 18, 2, 5, 29, 23, 23, 14], [12, 18, 9, 25, 27, 9, 22, 8], [18, 14, 7, 29, 29, 28, 28, 23], [12, 17, 8, 22, 12, 23, 3, 29], [1, 7, 20, 14, 3, 24, 26, 15], [13, 1, 6, 19, 26, 15, 2, 4], [26, 1, 14, 20, 9, 3, 28, 5], [11, 25, 3, 5, 8, 26, 7, 14], [19, 28, 14, 18, 24, 18, 0, 7], [11, 19, 23, 23, 17, 7, 15, 22], [20, 15, 18, 22, 9, 5, 12, 6], [0, 16, 24, 6, 24, 21, 25, 27], [18, 8, 15, 24, 1, 10, 15, 4]], \"type\": \"heatmap\", \"uid\": \"16364d80-e287-11e8-9490-d5f4ba98b039\"}], {\"title\": \"N\\u00famero de acessos nos materiais por estudante\", \"yaxis\": {\"dtick\": 1, \"exponentformat\": \"e\", \"gridcolor\": \"#bdbdbd\", \"showexponent\": \"all\", \"showticklabels\": true, \"tick0\": 0, \"titlefont\": {\"color\": \"lightgrey\", \"family\": \"Arial, sans-serif\"}}}, {\"showLink\": true, \"linkText\": \"Export to plot.ly\"})});</script>"
      ]
     },
     "metadata": {},
     "output_type": "display_data"
    },
    {
     "data": {
      "application/vnd.plotly.v1+json": {
       "data": [
        {
         "marker": {
          "line": {
           "width": 2
          },
          "size": [
           1,
           6,
           21,
           2,
           13,
           17,
           28,
           2
          ],
          "sizemode": "area",
          "sizeref": 0.06896551724137931,
          "symbol": "circle"
         },
         "mode": "markers",
         "name": "Student_1",
         "text": [
          "1",
          "6",
          "21",
          "2",
          "13",
          "17",
          "28",
          "2"
         ],
         "type": "scatter",
         "uid": "164a8cfa-e287-11e8-9490-d5f4ba98b039",
         "x": [
          "Student_1",
          "Student_1",
          "Student_1",
          "Student_1",
          "Student_1",
          "Student_1",
          "Student_1",
          "Student_1",
          "Student_1"
         ],
         "y": [
          "Video1",
          "Video2",
          "Quiz1",
          "Quiz2",
          "Pdf1",
          "Pdf2",
          "Ebook1",
          "Ebook2"
         ]
        },
        {
         "marker": {
          "line": {
           "width": 2
          },
          "size": [
           27,
           11,
           8,
           24,
           5,
           15,
           18,
           28
          ],
          "sizemode": "area",
          "sizeref": 0.06896551724137931,
          "symbol": "circle"
         },
         "mode": "markers",
         "name": "Student_2",
         "text": [
          "27",
          "11",
          "8",
          "24",
          "5",
          "15",
          "18",
          "28"
         ],
         "type": "scatter",
         "uid": "164a8eb2-e287-11e8-9490-d5f4ba98b039",
         "x": [
          "Student_2",
          "Student_2",
          "Student_2",
          "Student_2",
          "Student_2",
          "Student_2",
          "Student_2",
          "Student_2",
          "Student_2"
         ],
         "y": [
          "Video1",
          "Video2",
          "Quiz1",
          "Quiz2",
          "Pdf1",
          "Pdf2",
          "Ebook1",
          "Ebook2"
         ]
        },
        {
         "marker": {
          "line": {
           "width": 2
          },
          "size": [
           21,
           17,
           16,
           18,
           4,
           23,
           2,
           5
          ],
          "sizemode": "area",
          "sizeref": 0.06896551724137931,
          "symbol": "circle"
         },
         "mode": "markers",
         "name": "Student_3",
         "text": [
          "21",
          "17",
          "16",
          "18",
          "4",
          "23",
          "2",
          "5"
         ],
         "type": "scatter",
         "uid": "164a8f84-e287-11e8-9490-d5f4ba98b039",
         "x": [
          "Student_3",
          "Student_3",
          "Student_3",
          "Student_3",
          "Student_3",
          "Student_3",
          "Student_3",
          "Student_3",
          "Student_3"
         ],
         "y": [
          "Video1",
          "Video2",
          "Quiz1",
          "Quiz2",
          "Pdf1",
          "Pdf2",
          "Ebook1",
          "Ebook2"
         ]
        },
        {
         "marker": {
          "line": {
           "width": 2
          },
          "size": [
           27,
           27,
           2,
           3,
           11,
           20,
           13,
           16
          ],
          "sizemode": "area",
          "sizeref": 0.06896551724137931,
          "symbol": "circle"
         },
         "mode": "markers",
         "name": "Student_4",
         "text": [
          "27",
          "27",
          "2",
          "3",
          "11",
          "20",
          "13",
          "16"
         ],
         "type": "scatter",
         "uid": "164a902e-e287-11e8-9490-d5f4ba98b039",
         "x": [
          "Student_4",
          "Student_4",
          "Student_4",
          "Student_4",
          "Student_4",
          "Student_4",
          "Student_4",
          "Student_4",
          "Student_4"
         ],
         "y": [
          "Video1",
          "Video2",
          "Quiz1",
          "Quiz2",
          "Pdf1",
          "Pdf2",
          "Ebook1",
          "Ebook2"
         ]
        },
        {
         "marker": {
          "line": {
           "width": 2
          },
          "size": [
           11,
           25,
           9,
           4,
           22,
           21,
           0,
           26
          ],
          "sizemode": "area",
          "sizeref": 0.06896551724137931,
          "symbol": "circle"
         },
         "mode": "markers",
         "name": "Student_5",
         "text": [
          "11",
          "25",
          "9",
          "4",
          "22",
          "21",
          "0",
          "26"
         ],
         "type": "scatter",
         "uid": "164a90c4-e287-11e8-9490-d5f4ba98b039",
         "x": [
          "Student_5",
          "Student_5",
          "Student_5",
          "Student_5",
          "Student_5",
          "Student_5",
          "Student_5",
          "Student_5",
          "Student_5"
         ],
         "y": [
          "Video1",
          "Video2",
          "Quiz1",
          "Quiz2",
          "Pdf1",
          "Pdf2",
          "Ebook1",
          "Ebook2"
         ]
        },
        {
         "marker": {
          "line": {
           "width": 2
          },
          "size": [
           9,
           29,
           11,
           8,
           17,
           6,
           8,
           7
          ],
          "sizemode": "area",
          "sizeref": 0.06896551724137931,
          "symbol": "circle"
         },
         "mode": "markers",
         "name": "Student_6",
         "text": [
          "9",
          "29",
          "11",
          "8",
          "17",
          "6",
          "8",
          "7"
         ],
         "type": "scatter",
         "uid": "164a915a-e287-11e8-9490-d5f4ba98b039",
         "x": [
          "Student_6",
          "Student_6",
          "Student_6",
          "Student_6",
          "Student_6",
          "Student_6",
          "Student_6",
          "Student_6",
          "Student_6"
         ],
         "y": [
          "Video1",
          "Video2",
          "Quiz1",
          "Quiz2",
          "Pdf1",
          "Pdf2",
          "Ebook1",
          "Ebook2"
         ]
        },
        {
         "marker": {
          "line": {
           "width": 2
          },
          "size": [
           10,
           8,
           2,
           0,
           1,
           28,
           4,
           2
          ],
          "sizemode": "area",
          "sizeref": 0.06896551724137931,
          "symbol": "circle"
         },
         "mode": "markers",
         "name": "Student_7",
         "text": [
          "10",
          "8",
          "2",
          "0",
          "1",
          "28",
          "4",
          "2"
         ],
         "type": "scatter",
         "uid": "164a91f0-e287-11e8-9490-d5f4ba98b039",
         "x": [
          "Student_7",
          "Student_7",
          "Student_7",
          "Student_7",
          "Student_7",
          "Student_7",
          "Student_7",
          "Student_7",
          "Student_7"
         ],
         "y": [
          "Video1",
          "Video2",
          "Quiz1",
          "Quiz2",
          "Pdf1",
          "Pdf2",
          "Ebook1",
          "Ebook2"
         ]
        },
        {
         "marker": {
          "line": {
           "width": 2
          },
          "size": [
           27,
           18,
           2,
           5,
           29,
           23,
           23,
           14
          ],
          "sizemode": "area",
          "sizeref": 0.06896551724137931,
          "symbol": "circle"
         },
         "mode": "markers",
         "name": "Student_8",
         "text": [
          "27",
          "18",
          "2",
          "5",
          "29",
          "23",
          "23",
          "14"
         ],
         "type": "scatter",
         "uid": "164a927c-e287-11e8-9490-d5f4ba98b039",
         "x": [
          "Student_8",
          "Student_8",
          "Student_8",
          "Student_8",
          "Student_8",
          "Student_8",
          "Student_8",
          "Student_8",
          "Student_8"
         ],
         "y": [
          "Video1",
          "Video2",
          "Quiz1",
          "Quiz2",
          "Pdf1",
          "Pdf2",
          "Ebook1",
          "Ebook2"
         ]
        },
        {
         "marker": {
          "line": {
           "width": 2
          },
          "size": [
           12,
           18,
           9,
           25,
           27,
           9,
           22,
           8
          ],
          "sizemode": "area",
          "sizeref": 0.06896551724137931,
          "symbol": "circle"
         },
         "mode": "markers",
         "name": "Student_9",
         "text": [
          "12",
          "18",
          "9",
          "25",
          "27",
          "9",
          "22",
          "8"
         ],
         "type": "scatter",
         "uid": "164a92fe-e287-11e8-9490-d5f4ba98b039",
         "x": [
          "Student_9",
          "Student_9",
          "Student_9",
          "Student_9",
          "Student_9",
          "Student_9",
          "Student_9",
          "Student_9",
          "Student_9"
         ],
         "y": [
          "Video1",
          "Video2",
          "Quiz1",
          "Quiz2",
          "Pdf1",
          "Pdf2",
          "Ebook1",
          "Ebook2"
         ]
        },
        {
         "marker": {
          "line": {
           "width": 2
          },
          "size": [
           18,
           14,
           7,
           29,
           29,
           28,
           28,
           23
          ],
          "sizemode": "area",
          "sizeref": 0.06896551724137931,
          "symbol": "circle"
         },
         "mode": "markers",
         "name": "Student_10",
         "text": [
          "18",
          "14",
          "7",
          "29",
          "29",
          "28",
          "28",
          "23"
         ],
         "type": "scatter",
         "uid": "164a9380-e287-11e8-9490-d5f4ba98b039",
         "x": [
          "Student_10",
          "Student_10",
          "Student_10",
          "Student_10",
          "Student_10",
          "Student_10",
          "Student_10",
          "Student_10",
          "Student_10"
         ],
         "y": [
          "Video1",
          "Video2",
          "Quiz1",
          "Quiz2",
          "Pdf1",
          "Pdf2",
          "Ebook1",
          "Ebook2"
         ]
        },
        {
         "marker": {
          "line": {
           "width": 2
          },
          "size": [
           12,
           17,
           8,
           22,
           12,
           23,
           3,
           29
          ],
          "sizemode": "area",
          "sizeref": 0.06896551724137931,
          "symbol": "circle"
         },
         "mode": "markers",
         "name": "Student_11",
         "text": [
          "12",
          "17",
          "8",
          "22",
          "12",
          "23",
          "3",
          "29"
         ],
         "type": "scatter",
         "uid": "164a93f8-e287-11e8-9490-d5f4ba98b039",
         "x": [
          "Student_11",
          "Student_11",
          "Student_11",
          "Student_11",
          "Student_11",
          "Student_11",
          "Student_11",
          "Student_11",
          "Student_11"
         ],
         "y": [
          "Video1",
          "Video2",
          "Quiz1",
          "Quiz2",
          "Pdf1",
          "Pdf2",
          "Ebook1",
          "Ebook2"
         ]
        },
        {
         "marker": {
          "line": {
           "width": 2
          },
          "size": [
           1,
           7,
           20,
           14,
           3,
           24,
           26,
           15
          ],
          "sizemode": "area",
          "sizeref": 0.06896551724137931,
          "symbol": "circle"
         },
         "mode": "markers",
         "name": "Student_12",
         "text": [
          "1",
          "7",
          "20",
          "14",
          "3",
          "24",
          "26",
          "15"
         ],
         "type": "scatter",
         "uid": "164a947a-e287-11e8-9490-d5f4ba98b039",
         "x": [
          "Student_12",
          "Student_12",
          "Student_12",
          "Student_12",
          "Student_12",
          "Student_12",
          "Student_12",
          "Student_12",
          "Student_12"
         ],
         "y": [
          "Video1",
          "Video2",
          "Quiz1",
          "Quiz2",
          "Pdf1",
          "Pdf2",
          "Ebook1",
          "Ebook2"
         ]
        },
        {
         "marker": {
          "line": {
           "width": 2
          },
          "size": [
           13,
           1,
           6,
           19,
           26,
           15,
           2,
           4
          ],
          "sizemode": "area",
          "sizeref": 0.06896551724137931,
          "symbol": "circle"
         },
         "mode": "markers",
         "name": "Student_13",
         "text": [
          "13",
          "1",
          "6",
          "19",
          "26",
          "15",
          "2",
          "4"
         ],
         "type": "scatter",
         "uid": "164a94f2-e287-11e8-9490-d5f4ba98b039",
         "x": [
          "Student_13",
          "Student_13",
          "Student_13",
          "Student_13",
          "Student_13",
          "Student_13",
          "Student_13",
          "Student_13",
          "Student_13"
         ],
         "y": [
          "Video1",
          "Video2",
          "Quiz1",
          "Quiz2",
          "Pdf1",
          "Pdf2",
          "Ebook1",
          "Ebook2"
         ]
        },
        {
         "marker": {
          "line": {
           "width": 2
          },
          "size": [
           26,
           1,
           14,
           20,
           9,
           3,
           28,
           5
          ],
          "sizemode": "area",
          "sizeref": 0.06896551724137931,
          "symbol": "circle"
         },
         "mode": "markers",
         "name": "Student_14",
         "text": [
          "26",
          "1",
          "14",
          "20",
          "9",
          "3",
          "28",
          "5"
         ],
         "type": "scatter",
         "uid": "164a9574-e287-11e8-9490-d5f4ba98b039",
         "x": [
          "Student_14",
          "Student_14",
          "Student_14",
          "Student_14",
          "Student_14",
          "Student_14",
          "Student_14",
          "Student_14",
          "Student_14"
         ],
         "y": [
          "Video1",
          "Video2",
          "Quiz1",
          "Quiz2",
          "Pdf1",
          "Pdf2",
          "Ebook1",
          "Ebook2"
         ]
        },
        {
         "marker": {
          "line": {
           "width": 2
          },
          "size": [
           11,
           25,
           3,
           5,
           8,
           26,
           7,
           14
          ],
          "sizemode": "area",
          "sizeref": 0.06896551724137931,
          "symbol": "circle"
         },
         "mode": "markers",
         "name": "Student_15",
         "text": [
          "11",
          "25",
          "3",
          "5",
          "8",
          "26",
          "7",
          "14"
         ],
         "type": "scatter",
         "uid": "164a95f6-e287-11e8-9490-d5f4ba98b039",
         "x": [
          "Student_15",
          "Student_15",
          "Student_15",
          "Student_15",
          "Student_15",
          "Student_15",
          "Student_15",
          "Student_15",
          "Student_15"
         ],
         "y": [
          "Video1",
          "Video2",
          "Quiz1",
          "Quiz2",
          "Pdf1",
          "Pdf2",
          "Ebook1",
          "Ebook2"
         ]
        },
        {
         "marker": {
          "line": {
           "width": 2
          },
          "size": [
           19,
           28,
           14,
           18,
           24,
           18,
           0,
           7
          ],
          "sizemode": "area",
          "sizeref": 0.06896551724137931,
          "symbol": "circle"
         },
         "mode": "markers",
         "name": "Student_16",
         "text": [
          "19",
          "28",
          "14",
          "18",
          "24",
          "18",
          "0",
          "7"
         ],
         "type": "scatter",
         "uid": "164a966e-e287-11e8-9490-d5f4ba98b039",
         "x": [
          "Student_16",
          "Student_16",
          "Student_16",
          "Student_16",
          "Student_16",
          "Student_16",
          "Student_16",
          "Student_16",
          "Student_16"
         ],
         "y": [
          "Video1",
          "Video2",
          "Quiz1",
          "Quiz2",
          "Pdf1",
          "Pdf2",
          "Ebook1",
          "Ebook2"
         ]
        },
        {
         "marker": {
          "line": {
           "width": 2
          },
          "size": [
           11,
           19,
           23,
           23,
           17,
           7,
           15,
           22
          ],
          "sizemode": "area",
          "sizeref": 0.06896551724137931,
          "symbol": "circle"
         },
         "mode": "markers",
         "name": "Student_17",
         "text": [
          "11",
          "19",
          "23",
          "23",
          "17",
          "7",
          "15",
          "22"
         ],
         "type": "scatter",
         "uid": "164a96f0-e287-11e8-9490-d5f4ba98b039",
         "x": [
          "Student_17",
          "Student_17",
          "Student_17",
          "Student_17",
          "Student_17",
          "Student_17",
          "Student_17",
          "Student_17",
          "Student_17"
         ],
         "y": [
          "Video1",
          "Video2",
          "Quiz1",
          "Quiz2",
          "Pdf1",
          "Pdf2",
          "Ebook1",
          "Ebook2"
         ]
        },
        {
         "marker": {
          "line": {
           "width": 2
          },
          "size": [
           20,
           15,
           18,
           22,
           9,
           5,
           12,
           6
          ],
          "sizemode": "area",
          "sizeref": 0.06896551724137931,
          "symbol": "circle"
         },
         "mode": "markers",
         "name": "Student_18",
         "text": [
          "20",
          "15",
          "18",
          "22",
          "9",
          "5",
          "12",
          "6"
         ],
         "type": "scatter",
         "uid": "164a9768-e287-11e8-9490-d5f4ba98b039",
         "x": [
          "Student_18",
          "Student_18",
          "Student_18",
          "Student_18",
          "Student_18",
          "Student_18",
          "Student_18",
          "Student_18",
          "Student_18"
         ],
         "y": [
          "Video1",
          "Video2",
          "Quiz1",
          "Quiz2",
          "Pdf1",
          "Pdf2",
          "Ebook1",
          "Ebook2"
         ]
        },
        {
         "marker": {
          "line": {
           "width": 2
          },
          "size": [
           0,
           16,
           24,
           6,
           24,
           21,
           25,
           27
          ],
          "sizemode": "area",
          "sizeref": 0.06896551724137931,
          "symbol": "circle"
         },
         "mode": "markers",
         "name": "Student_19",
         "text": [
          "0",
          "16",
          "24",
          "6",
          "24",
          "21",
          "25",
          "27"
         ],
         "type": "scatter",
         "uid": "164a97ea-e287-11e8-9490-d5f4ba98b039",
         "x": [
          "Student_19",
          "Student_19",
          "Student_19",
          "Student_19",
          "Student_19",
          "Student_19",
          "Student_19",
          "Student_19",
          "Student_19"
         ],
         "y": [
          "Video1",
          "Video2",
          "Quiz1",
          "Quiz2",
          "Pdf1",
          "Pdf2",
          "Ebook1",
          "Ebook2"
         ]
        },
        {
         "marker": {
          "line": {
           "width": 2
          },
          "size": [
           18,
           8,
           15,
           24,
           1,
           10,
           15,
           4
          ],
          "sizemode": "area",
          "sizeref": 0.06896551724137931,
          "symbol": "circle"
         },
         "mode": "markers",
         "name": "Student_20",
         "text": [
          "18",
          "8",
          "15",
          "24",
          "1",
          "10",
          "15",
          "4"
         ],
         "type": "scatter",
         "uid": "164a988a-e287-11e8-9490-d5f4ba98b039",
         "x": [
          "Student_20",
          "Student_20",
          "Student_20",
          "Student_20",
          "Student_20",
          "Student_20",
          "Student_20",
          "Student_20",
          "Student_20"
         ],
         "y": [
          "Video1",
          "Video2",
          "Quiz1",
          "Quiz2",
          "Pdf1",
          "Pdf2",
          "Ebook1",
          "Ebook2"
         ]
        }
       ],
       "layout": {
        "hovermode": "closest",
        "showlegend": true,
        "title": "Número de acessos nos materiais por estudante",
        "xaxis": {
         "autorange": false,
         "fixedrange": false,
         "range": [
          -1,
          20
         ],
         "rangemode": "normal",
         "showline": true,
         "title": "Estudantes",
         "type": "category"
        },
        "yaxis": {
         "autorange": false,
         "categoryorder": "category ascending",
         "fixedrange": false,
         "range": [
          -1,
          8
         ],
         "rangemode": "normal",
         "showline": true,
         "title": "Materiais",
         "type": "category"
        }
       }
      },
      "text/html": [
       "<div id=\"46952c7f-ac8d-42de-9372-3ef5b5acb301\" style=\"height: 525px; width: 100%;\" class=\"plotly-graph-div\"></div><script type=\"text/javascript\">require([\"plotly\"], function(Plotly) { window.PLOTLYENV=window.PLOTLYENV || {};window.PLOTLYENV.BASE_URL=\"https://plot.ly\";Plotly.newPlot(\"46952c7f-ac8d-42de-9372-3ef5b5acb301\", [{\"marker\": {\"line\": {\"width\": 2}, \"size\": [1, 6, 21, 2, 13, 17, 28, 2], \"sizemode\": \"area\", \"sizeref\": 0.06896551724137931, \"symbol\": \"circle\"}, \"mode\": \"markers\", \"name\": \"Student_1\", \"text\": [\"1\", \"6\", \"21\", \"2\", \"13\", \"17\", \"28\", \"2\"], \"x\": [\"Student_1\", \"Student_1\", \"Student_1\", \"Student_1\", \"Student_1\", \"Student_1\", \"Student_1\", \"Student_1\", \"Student_1\"], \"y\": [\"Video1\", \"Video2\", \"Quiz1\", \"Quiz2\", \"Pdf1\", \"Pdf2\", \"Ebook1\", \"Ebook2\"], \"type\": \"scatter\", \"uid\": \"164a8cfa-e287-11e8-9490-d5f4ba98b039\"}, {\"marker\": {\"line\": {\"width\": 2}, \"size\": [27, 11, 8, 24, 5, 15, 18, 28], \"sizemode\": \"area\", \"sizeref\": 0.06896551724137931, \"symbol\": \"circle\"}, \"mode\": \"markers\", \"name\": \"Student_2\", \"text\": [\"27\", \"11\", \"8\", \"24\", \"5\", \"15\", \"18\", \"28\"], \"x\": [\"Student_2\", \"Student_2\", \"Student_2\", \"Student_2\", \"Student_2\", \"Student_2\", \"Student_2\", \"Student_2\", \"Student_2\"], \"y\": [\"Video1\", \"Video2\", \"Quiz1\", \"Quiz2\", \"Pdf1\", \"Pdf2\", \"Ebook1\", \"Ebook2\"], \"type\": \"scatter\", \"uid\": \"164a8eb2-e287-11e8-9490-d5f4ba98b039\"}, {\"marker\": {\"line\": {\"width\": 2}, \"size\": [21, 17, 16, 18, 4, 23, 2, 5], \"sizemode\": \"area\", \"sizeref\": 0.06896551724137931, \"symbol\": \"circle\"}, \"mode\": \"markers\", \"name\": \"Student_3\", \"text\": [\"21\", \"17\", \"16\", \"18\", \"4\", \"23\", \"2\", \"5\"], \"x\": [\"Student_3\", \"Student_3\", \"Student_3\", \"Student_3\", \"Student_3\", \"Student_3\", \"Student_3\", \"Student_3\", \"Student_3\"], \"y\": [\"Video1\", \"Video2\", \"Quiz1\", \"Quiz2\", \"Pdf1\", \"Pdf2\", \"Ebook1\", \"Ebook2\"], \"type\": \"scatter\", \"uid\": \"164a8f84-e287-11e8-9490-d5f4ba98b039\"}, {\"marker\": {\"line\": {\"width\": 2}, \"size\": [27, 27, 2, 3, 11, 20, 13, 16], \"sizemode\": \"area\", \"sizeref\": 0.06896551724137931, \"symbol\": \"circle\"}, \"mode\": \"markers\", \"name\": \"Student_4\", \"text\": [\"27\", \"27\", \"2\", \"3\", \"11\", \"20\", \"13\", \"16\"], \"x\": [\"Student_4\", \"Student_4\", \"Student_4\", \"Student_4\", \"Student_4\", \"Student_4\", \"Student_4\", \"Student_4\", \"Student_4\"], \"y\": [\"Video1\", \"Video2\", \"Quiz1\", \"Quiz2\", \"Pdf1\", \"Pdf2\", \"Ebook1\", \"Ebook2\"], \"type\": \"scatter\", \"uid\": \"164a902e-e287-11e8-9490-d5f4ba98b039\"}, {\"marker\": {\"line\": {\"width\": 2}, \"size\": [11, 25, 9, 4, 22, 21, 0, 26], \"sizemode\": \"area\", \"sizeref\": 0.06896551724137931, \"symbol\": \"circle\"}, \"mode\": \"markers\", \"name\": \"Student_5\", \"text\": [\"11\", \"25\", \"9\", \"4\", \"22\", \"21\", \"0\", \"26\"], \"x\": [\"Student_5\", \"Student_5\", \"Student_5\", \"Student_5\", \"Student_5\", \"Student_5\", \"Student_5\", \"Student_5\", \"Student_5\"], \"y\": [\"Video1\", \"Video2\", \"Quiz1\", \"Quiz2\", \"Pdf1\", \"Pdf2\", \"Ebook1\", \"Ebook2\"], \"type\": \"scatter\", \"uid\": \"164a90c4-e287-11e8-9490-d5f4ba98b039\"}, {\"marker\": {\"line\": {\"width\": 2}, \"size\": [9, 29, 11, 8, 17, 6, 8, 7], \"sizemode\": \"area\", \"sizeref\": 0.06896551724137931, \"symbol\": \"circle\"}, \"mode\": \"markers\", \"name\": \"Student_6\", \"text\": [\"9\", \"29\", \"11\", \"8\", \"17\", \"6\", \"8\", \"7\"], \"x\": [\"Student_6\", \"Student_6\", \"Student_6\", \"Student_6\", \"Student_6\", \"Student_6\", \"Student_6\", \"Student_6\", \"Student_6\"], \"y\": [\"Video1\", \"Video2\", \"Quiz1\", \"Quiz2\", \"Pdf1\", \"Pdf2\", \"Ebook1\", \"Ebook2\"], \"type\": \"scatter\", \"uid\": \"164a915a-e287-11e8-9490-d5f4ba98b039\"}, {\"marker\": {\"line\": {\"width\": 2}, \"size\": [10, 8, 2, 0, 1, 28, 4, 2], \"sizemode\": \"area\", \"sizeref\": 0.06896551724137931, \"symbol\": \"circle\"}, \"mode\": \"markers\", \"name\": \"Student_7\", \"text\": [\"10\", \"8\", \"2\", \"0\", \"1\", \"28\", \"4\", \"2\"], \"x\": [\"Student_7\", \"Student_7\", \"Student_7\", \"Student_7\", \"Student_7\", \"Student_7\", \"Student_7\", \"Student_7\", \"Student_7\"], \"y\": [\"Video1\", \"Video2\", \"Quiz1\", \"Quiz2\", \"Pdf1\", \"Pdf2\", \"Ebook1\", \"Ebook2\"], \"type\": \"scatter\", \"uid\": \"164a91f0-e287-11e8-9490-d5f4ba98b039\"}, {\"marker\": {\"line\": {\"width\": 2}, \"size\": [27, 18, 2, 5, 29, 23, 23, 14], \"sizemode\": \"area\", \"sizeref\": 0.06896551724137931, \"symbol\": \"circle\"}, \"mode\": \"markers\", \"name\": \"Student_8\", \"text\": [\"27\", \"18\", \"2\", \"5\", \"29\", \"23\", \"23\", \"14\"], \"x\": [\"Student_8\", \"Student_8\", \"Student_8\", \"Student_8\", \"Student_8\", \"Student_8\", \"Student_8\", \"Student_8\", \"Student_8\"], \"y\": [\"Video1\", \"Video2\", \"Quiz1\", \"Quiz2\", \"Pdf1\", \"Pdf2\", \"Ebook1\", \"Ebook2\"], \"type\": \"scatter\", \"uid\": \"164a927c-e287-11e8-9490-d5f4ba98b039\"}, {\"marker\": {\"line\": {\"width\": 2}, \"size\": [12, 18, 9, 25, 27, 9, 22, 8], \"sizemode\": \"area\", \"sizeref\": 0.06896551724137931, \"symbol\": \"circle\"}, \"mode\": \"markers\", \"name\": \"Student_9\", \"text\": [\"12\", \"18\", \"9\", \"25\", \"27\", \"9\", \"22\", \"8\"], \"x\": [\"Student_9\", \"Student_9\", \"Student_9\", \"Student_9\", \"Student_9\", \"Student_9\", \"Student_9\", \"Student_9\", \"Student_9\"], \"y\": [\"Video1\", \"Video2\", \"Quiz1\", \"Quiz2\", \"Pdf1\", \"Pdf2\", \"Ebook1\", \"Ebook2\"], \"type\": \"scatter\", \"uid\": \"164a92fe-e287-11e8-9490-d5f4ba98b039\"}, {\"marker\": {\"line\": {\"width\": 2}, \"size\": [18, 14, 7, 29, 29, 28, 28, 23], \"sizemode\": \"area\", \"sizeref\": 0.06896551724137931, \"symbol\": \"circle\"}, \"mode\": \"markers\", \"name\": \"Student_10\", \"text\": [\"18\", \"14\", \"7\", \"29\", \"29\", \"28\", \"28\", \"23\"], \"x\": [\"Student_10\", \"Student_10\", \"Student_10\", \"Student_10\", \"Student_10\", \"Student_10\", \"Student_10\", \"Student_10\", \"Student_10\"], \"y\": [\"Video1\", \"Video2\", \"Quiz1\", \"Quiz2\", \"Pdf1\", \"Pdf2\", \"Ebook1\", \"Ebook2\"], \"type\": \"scatter\", \"uid\": \"164a9380-e287-11e8-9490-d5f4ba98b039\"}, {\"marker\": {\"line\": {\"width\": 2}, \"size\": [12, 17, 8, 22, 12, 23, 3, 29], \"sizemode\": \"area\", \"sizeref\": 0.06896551724137931, \"symbol\": \"circle\"}, \"mode\": \"markers\", \"name\": \"Student_11\", \"text\": [\"12\", \"17\", \"8\", \"22\", \"12\", \"23\", \"3\", \"29\"], \"x\": [\"Student_11\", \"Student_11\", \"Student_11\", \"Student_11\", \"Student_11\", \"Student_11\", \"Student_11\", \"Student_11\", \"Student_11\"], \"y\": [\"Video1\", \"Video2\", \"Quiz1\", \"Quiz2\", \"Pdf1\", \"Pdf2\", \"Ebook1\", \"Ebook2\"], \"type\": \"scatter\", \"uid\": \"164a93f8-e287-11e8-9490-d5f4ba98b039\"}, {\"marker\": {\"line\": {\"width\": 2}, \"size\": [1, 7, 20, 14, 3, 24, 26, 15], \"sizemode\": \"area\", \"sizeref\": 0.06896551724137931, \"symbol\": \"circle\"}, \"mode\": \"markers\", \"name\": \"Student_12\", \"text\": [\"1\", \"7\", \"20\", \"14\", \"3\", \"24\", \"26\", \"15\"], \"x\": [\"Student_12\", \"Student_12\", \"Student_12\", \"Student_12\", \"Student_12\", \"Student_12\", \"Student_12\", \"Student_12\", \"Student_12\"], \"y\": [\"Video1\", \"Video2\", \"Quiz1\", \"Quiz2\", \"Pdf1\", \"Pdf2\", \"Ebook1\", \"Ebook2\"], \"type\": \"scatter\", \"uid\": \"164a947a-e287-11e8-9490-d5f4ba98b039\"}, {\"marker\": {\"line\": {\"width\": 2}, \"size\": [13, 1, 6, 19, 26, 15, 2, 4], \"sizemode\": \"area\", \"sizeref\": 0.06896551724137931, \"symbol\": \"circle\"}, \"mode\": \"markers\", \"name\": \"Student_13\", \"text\": [\"13\", \"1\", \"6\", \"19\", \"26\", \"15\", \"2\", \"4\"], \"x\": [\"Student_13\", \"Student_13\", \"Student_13\", \"Student_13\", \"Student_13\", \"Student_13\", \"Student_13\", \"Student_13\", \"Student_13\"], \"y\": [\"Video1\", \"Video2\", \"Quiz1\", \"Quiz2\", \"Pdf1\", \"Pdf2\", \"Ebook1\", \"Ebook2\"], \"type\": \"scatter\", \"uid\": \"164a94f2-e287-11e8-9490-d5f4ba98b039\"}, {\"marker\": {\"line\": {\"width\": 2}, \"size\": [26, 1, 14, 20, 9, 3, 28, 5], \"sizemode\": \"area\", \"sizeref\": 0.06896551724137931, \"symbol\": \"circle\"}, \"mode\": \"markers\", \"name\": \"Student_14\", \"text\": [\"26\", \"1\", \"14\", \"20\", \"9\", \"3\", \"28\", \"5\"], \"x\": [\"Student_14\", \"Student_14\", \"Student_14\", \"Student_14\", \"Student_14\", \"Student_14\", \"Student_14\", \"Student_14\", \"Student_14\"], \"y\": [\"Video1\", \"Video2\", \"Quiz1\", \"Quiz2\", \"Pdf1\", \"Pdf2\", \"Ebook1\", \"Ebook2\"], \"type\": \"scatter\", \"uid\": \"164a9574-e287-11e8-9490-d5f4ba98b039\"}, {\"marker\": {\"line\": {\"width\": 2}, \"size\": [11, 25, 3, 5, 8, 26, 7, 14], \"sizemode\": \"area\", \"sizeref\": 0.06896551724137931, \"symbol\": \"circle\"}, \"mode\": \"markers\", \"name\": \"Student_15\", \"text\": [\"11\", \"25\", \"3\", \"5\", \"8\", \"26\", \"7\", \"14\"], \"x\": [\"Student_15\", \"Student_15\", \"Student_15\", \"Student_15\", \"Student_15\", \"Student_15\", \"Student_15\", \"Student_15\", \"Student_15\"], \"y\": [\"Video1\", \"Video2\", \"Quiz1\", \"Quiz2\", \"Pdf1\", \"Pdf2\", \"Ebook1\", \"Ebook2\"], \"type\": \"scatter\", \"uid\": \"164a95f6-e287-11e8-9490-d5f4ba98b039\"}, {\"marker\": {\"line\": {\"width\": 2}, \"size\": [19, 28, 14, 18, 24, 18, 0, 7], \"sizemode\": \"area\", \"sizeref\": 0.06896551724137931, \"symbol\": \"circle\"}, \"mode\": \"markers\", \"name\": \"Student_16\", \"text\": [\"19\", \"28\", \"14\", \"18\", \"24\", \"18\", \"0\", \"7\"], \"x\": [\"Student_16\", \"Student_16\", \"Student_16\", \"Student_16\", \"Student_16\", \"Student_16\", \"Student_16\", \"Student_16\", \"Student_16\"], \"y\": [\"Video1\", \"Video2\", \"Quiz1\", \"Quiz2\", \"Pdf1\", \"Pdf2\", \"Ebook1\", \"Ebook2\"], \"type\": \"scatter\", \"uid\": \"164a966e-e287-11e8-9490-d5f4ba98b039\"}, {\"marker\": {\"line\": {\"width\": 2}, \"size\": [11, 19, 23, 23, 17, 7, 15, 22], \"sizemode\": \"area\", \"sizeref\": 0.06896551724137931, \"symbol\": \"circle\"}, \"mode\": \"markers\", \"name\": \"Student_17\", \"text\": [\"11\", \"19\", \"23\", \"23\", \"17\", \"7\", \"15\", \"22\"], \"x\": [\"Student_17\", \"Student_17\", \"Student_17\", \"Student_17\", \"Student_17\", \"Student_17\", \"Student_17\", \"Student_17\", \"Student_17\"], \"y\": [\"Video1\", \"Video2\", \"Quiz1\", \"Quiz2\", \"Pdf1\", \"Pdf2\", \"Ebook1\", \"Ebook2\"], \"type\": \"scatter\", \"uid\": \"164a96f0-e287-11e8-9490-d5f4ba98b039\"}, {\"marker\": {\"line\": {\"width\": 2}, \"size\": [20, 15, 18, 22, 9, 5, 12, 6], \"sizemode\": \"area\", \"sizeref\": 0.06896551724137931, \"symbol\": \"circle\"}, \"mode\": \"markers\", \"name\": \"Student_18\", \"text\": [\"20\", \"15\", \"18\", \"22\", \"9\", \"5\", \"12\", \"6\"], \"x\": [\"Student_18\", \"Student_18\", \"Student_18\", \"Student_18\", \"Student_18\", \"Student_18\", \"Student_18\", \"Student_18\", \"Student_18\"], \"y\": [\"Video1\", \"Video2\", \"Quiz1\", \"Quiz2\", \"Pdf1\", \"Pdf2\", \"Ebook1\", \"Ebook2\"], \"type\": \"scatter\", \"uid\": \"164a9768-e287-11e8-9490-d5f4ba98b039\"}, {\"marker\": {\"line\": {\"width\": 2}, \"size\": [0, 16, 24, 6, 24, 21, 25, 27], \"sizemode\": \"area\", \"sizeref\": 0.06896551724137931, \"symbol\": \"circle\"}, \"mode\": \"markers\", \"name\": \"Student_19\", \"text\": [\"0\", \"16\", \"24\", \"6\", \"24\", \"21\", \"25\", \"27\"], \"x\": [\"Student_19\", \"Student_19\", \"Student_19\", \"Student_19\", \"Student_19\", \"Student_19\", \"Student_19\", \"Student_19\", \"Student_19\"], \"y\": [\"Video1\", \"Video2\", \"Quiz1\", \"Quiz2\", \"Pdf1\", \"Pdf2\", \"Ebook1\", \"Ebook2\"], \"type\": \"scatter\", \"uid\": \"164a97ea-e287-11e8-9490-d5f4ba98b039\"}, {\"marker\": {\"line\": {\"width\": 2}, \"size\": [18, 8, 15, 24, 1, 10, 15, 4], \"sizemode\": \"area\", \"sizeref\": 0.06896551724137931, \"symbol\": \"circle\"}, \"mode\": \"markers\", \"name\": \"Student_20\", \"text\": [\"18\", \"8\", \"15\", \"24\", \"1\", \"10\", \"15\", \"4\"], \"x\": [\"Student_20\", \"Student_20\", \"Student_20\", \"Student_20\", \"Student_20\", \"Student_20\", \"Student_20\", \"Student_20\", \"Student_20\"], \"y\": [\"Video1\", \"Video2\", \"Quiz1\", \"Quiz2\", \"Pdf1\", \"Pdf2\", \"Ebook1\", \"Ebook2\"], \"type\": \"scatter\", \"uid\": \"164a988a-e287-11e8-9490-d5f4ba98b039\"}], {\"hovermode\": \"closest\", \"showlegend\": true, \"title\": \"N\\u00famero de acessos nos materiais por estudante\", \"xaxis\": {\"autorange\": false, \"fixedrange\": false, \"range\": [-1, 20], \"rangemode\": \"normal\", \"showline\": true, \"title\": \"Estudantes\", \"type\": \"category\"}, \"yaxis\": {\"autorange\": false, \"categoryorder\": \"category ascending\", \"fixedrange\": false, \"range\": [-1, 8], \"rangemode\": \"normal\", \"showline\": true, \"title\": \"Materiais\", \"type\": \"category\"}}, {\"showLink\": true, \"linkText\": \"Export to plot.ly\"})});</script>"
      ],
      "text/vnd.plotly.v1+html": [
       "<div id=\"46952c7f-ac8d-42de-9372-3ef5b5acb301\" style=\"height: 525px; width: 100%;\" class=\"plotly-graph-div\"></div><script type=\"text/javascript\">require([\"plotly\"], function(Plotly) { window.PLOTLYENV=window.PLOTLYENV || {};window.PLOTLYENV.BASE_URL=\"https://plot.ly\";Plotly.newPlot(\"46952c7f-ac8d-42de-9372-3ef5b5acb301\", [{\"marker\": {\"line\": {\"width\": 2}, \"size\": [1, 6, 21, 2, 13, 17, 28, 2], \"sizemode\": \"area\", \"sizeref\": 0.06896551724137931, \"symbol\": \"circle\"}, \"mode\": \"markers\", \"name\": \"Student_1\", \"text\": [\"1\", \"6\", \"21\", \"2\", \"13\", \"17\", \"28\", \"2\"], \"x\": [\"Student_1\", \"Student_1\", \"Student_1\", \"Student_1\", \"Student_1\", \"Student_1\", \"Student_1\", \"Student_1\", \"Student_1\"], \"y\": [\"Video1\", \"Video2\", \"Quiz1\", \"Quiz2\", \"Pdf1\", \"Pdf2\", \"Ebook1\", \"Ebook2\"], \"type\": \"scatter\", \"uid\": \"164a8cfa-e287-11e8-9490-d5f4ba98b039\"}, {\"marker\": {\"line\": {\"width\": 2}, \"size\": [27, 11, 8, 24, 5, 15, 18, 28], \"sizemode\": \"area\", \"sizeref\": 0.06896551724137931, \"symbol\": \"circle\"}, \"mode\": \"markers\", \"name\": \"Student_2\", \"text\": [\"27\", \"11\", \"8\", \"24\", \"5\", \"15\", \"18\", \"28\"], \"x\": [\"Student_2\", \"Student_2\", \"Student_2\", \"Student_2\", \"Student_2\", \"Student_2\", \"Student_2\", \"Student_2\", \"Student_2\"], \"y\": [\"Video1\", \"Video2\", \"Quiz1\", \"Quiz2\", \"Pdf1\", \"Pdf2\", \"Ebook1\", \"Ebook2\"], \"type\": \"scatter\", \"uid\": \"164a8eb2-e287-11e8-9490-d5f4ba98b039\"}, {\"marker\": {\"line\": {\"width\": 2}, \"size\": [21, 17, 16, 18, 4, 23, 2, 5], \"sizemode\": \"area\", \"sizeref\": 0.06896551724137931, \"symbol\": \"circle\"}, \"mode\": \"markers\", \"name\": \"Student_3\", \"text\": [\"21\", \"17\", \"16\", \"18\", \"4\", \"23\", \"2\", \"5\"], \"x\": [\"Student_3\", \"Student_3\", \"Student_3\", \"Student_3\", \"Student_3\", \"Student_3\", \"Student_3\", \"Student_3\", \"Student_3\"], \"y\": [\"Video1\", \"Video2\", \"Quiz1\", \"Quiz2\", \"Pdf1\", \"Pdf2\", \"Ebook1\", \"Ebook2\"], \"type\": \"scatter\", \"uid\": \"164a8f84-e287-11e8-9490-d5f4ba98b039\"}, {\"marker\": {\"line\": {\"width\": 2}, \"size\": [27, 27, 2, 3, 11, 20, 13, 16], \"sizemode\": \"area\", \"sizeref\": 0.06896551724137931, \"symbol\": \"circle\"}, \"mode\": \"markers\", \"name\": \"Student_4\", \"text\": [\"27\", \"27\", \"2\", \"3\", \"11\", \"20\", \"13\", \"16\"], \"x\": [\"Student_4\", \"Student_4\", \"Student_4\", \"Student_4\", \"Student_4\", \"Student_4\", \"Student_4\", \"Student_4\", \"Student_4\"], \"y\": [\"Video1\", \"Video2\", \"Quiz1\", \"Quiz2\", \"Pdf1\", \"Pdf2\", \"Ebook1\", \"Ebook2\"], \"type\": \"scatter\", \"uid\": \"164a902e-e287-11e8-9490-d5f4ba98b039\"}, {\"marker\": {\"line\": {\"width\": 2}, \"size\": [11, 25, 9, 4, 22, 21, 0, 26], \"sizemode\": \"area\", \"sizeref\": 0.06896551724137931, \"symbol\": \"circle\"}, \"mode\": \"markers\", \"name\": \"Student_5\", \"text\": [\"11\", \"25\", \"9\", \"4\", \"22\", \"21\", \"0\", \"26\"], \"x\": [\"Student_5\", \"Student_5\", \"Student_5\", \"Student_5\", \"Student_5\", \"Student_5\", \"Student_5\", \"Student_5\", \"Student_5\"], \"y\": [\"Video1\", \"Video2\", \"Quiz1\", \"Quiz2\", \"Pdf1\", \"Pdf2\", \"Ebook1\", \"Ebook2\"], \"type\": \"scatter\", \"uid\": \"164a90c4-e287-11e8-9490-d5f4ba98b039\"}, {\"marker\": {\"line\": {\"width\": 2}, \"size\": [9, 29, 11, 8, 17, 6, 8, 7], \"sizemode\": \"area\", \"sizeref\": 0.06896551724137931, \"symbol\": \"circle\"}, \"mode\": \"markers\", \"name\": \"Student_6\", \"text\": [\"9\", \"29\", \"11\", \"8\", \"17\", \"6\", \"8\", \"7\"], \"x\": [\"Student_6\", \"Student_6\", \"Student_6\", \"Student_6\", \"Student_6\", \"Student_6\", \"Student_6\", \"Student_6\", \"Student_6\"], \"y\": [\"Video1\", \"Video2\", \"Quiz1\", \"Quiz2\", \"Pdf1\", \"Pdf2\", \"Ebook1\", \"Ebook2\"], \"type\": \"scatter\", \"uid\": \"164a915a-e287-11e8-9490-d5f4ba98b039\"}, {\"marker\": {\"line\": {\"width\": 2}, \"size\": [10, 8, 2, 0, 1, 28, 4, 2], \"sizemode\": \"area\", \"sizeref\": 0.06896551724137931, \"symbol\": \"circle\"}, \"mode\": \"markers\", \"name\": \"Student_7\", \"text\": [\"10\", \"8\", \"2\", \"0\", \"1\", \"28\", \"4\", \"2\"], \"x\": [\"Student_7\", \"Student_7\", \"Student_7\", \"Student_7\", \"Student_7\", \"Student_7\", \"Student_7\", \"Student_7\", \"Student_7\"], \"y\": [\"Video1\", \"Video2\", \"Quiz1\", \"Quiz2\", \"Pdf1\", \"Pdf2\", \"Ebook1\", \"Ebook2\"], \"type\": \"scatter\", \"uid\": \"164a91f0-e287-11e8-9490-d5f4ba98b039\"}, {\"marker\": {\"line\": {\"width\": 2}, \"size\": [27, 18, 2, 5, 29, 23, 23, 14], \"sizemode\": \"area\", \"sizeref\": 0.06896551724137931, \"symbol\": \"circle\"}, \"mode\": \"markers\", \"name\": \"Student_8\", \"text\": [\"27\", \"18\", \"2\", \"5\", \"29\", \"23\", \"23\", \"14\"], \"x\": [\"Student_8\", \"Student_8\", \"Student_8\", \"Student_8\", \"Student_8\", \"Student_8\", \"Student_8\", \"Student_8\", \"Student_8\"], \"y\": [\"Video1\", \"Video2\", \"Quiz1\", \"Quiz2\", \"Pdf1\", \"Pdf2\", \"Ebook1\", \"Ebook2\"], \"type\": \"scatter\", \"uid\": \"164a927c-e287-11e8-9490-d5f4ba98b039\"}, {\"marker\": {\"line\": {\"width\": 2}, \"size\": [12, 18, 9, 25, 27, 9, 22, 8], \"sizemode\": \"area\", \"sizeref\": 0.06896551724137931, \"symbol\": \"circle\"}, \"mode\": \"markers\", \"name\": \"Student_9\", \"text\": [\"12\", \"18\", \"9\", \"25\", \"27\", \"9\", \"22\", \"8\"], \"x\": [\"Student_9\", \"Student_9\", \"Student_9\", \"Student_9\", \"Student_9\", \"Student_9\", \"Student_9\", \"Student_9\", \"Student_9\"], \"y\": [\"Video1\", \"Video2\", \"Quiz1\", \"Quiz2\", \"Pdf1\", \"Pdf2\", \"Ebook1\", \"Ebook2\"], \"type\": \"scatter\", \"uid\": \"164a92fe-e287-11e8-9490-d5f4ba98b039\"}, {\"marker\": {\"line\": {\"width\": 2}, \"size\": [18, 14, 7, 29, 29, 28, 28, 23], \"sizemode\": \"area\", \"sizeref\": 0.06896551724137931, \"symbol\": \"circle\"}, \"mode\": \"markers\", \"name\": \"Student_10\", \"text\": [\"18\", \"14\", \"7\", \"29\", \"29\", \"28\", \"28\", \"23\"], \"x\": [\"Student_10\", \"Student_10\", \"Student_10\", \"Student_10\", \"Student_10\", \"Student_10\", \"Student_10\", \"Student_10\", \"Student_10\"], \"y\": [\"Video1\", \"Video2\", \"Quiz1\", \"Quiz2\", \"Pdf1\", \"Pdf2\", \"Ebook1\", \"Ebook2\"], \"type\": \"scatter\", \"uid\": \"164a9380-e287-11e8-9490-d5f4ba98b039\"}, {\"marker\": {\"line\": {\"width\": 2}, \"size\": [12, 17, 8, 22, 12, 23, 3, 29], \"sizemode\": \"area\", \"sizeref\": 0.06896551724137931, \"symbol\": \"circle\"}, \"mode\": \"markers\", \"name\": \"Student_11\", \"text\": [\"12\", \"17\", \"8\", \"22\", \"12\", \"23\", \"3\", \"29\"], \"x\": [\"Student_11\", \"Student_11\", \"Student_11\", \"Student_11\", \"Student_11\", \"Student_11\", \"Student_11\", \"Student_11\", \"Student_11\"], \"y\": [\"Video1\", \"Video2\", \"Quiz1\", \"Quiz2\", \"Pdf1\", \"Pdf2\", \"Ebook1\", \"Ebook2\"], \"type\": \"scatter\", \"uid\": \"164a93f8-e287-11e8-9490-d5f4ba98b039\"}, {\"marker\": {\"line\": {\"width\": 2}, \"size\": [1, 7, 20, 14, 3, 24, 26, 15], \"sizemode\": \"area\", \"sizeref\": 0.06896551724137931, \"symbol\": \"circle\"}, \"mode\": \"markers\", \"name\": \"Student_12\", \"text\": [\"1\", \"7\", \"20\", \"14\", \"3\", \"24\", \"26\", \"15\"], \"x\": [\"Student_12\", \"Student_12\", \"Student_12\", \"Student_12\", \"Student_12\", \"Student_12\", \"Student_12\", \"Student_12\", \"Student_12\"], \"y\": [\"Video1\", \"Video2\", \"Quiz1\", \"Quiz2\", \"Pdf1\", \"Pdf2\", \"Ebook1\", \"Ebook2\"], \"type\": \"scatter\", \"uid\": \"164a947a-e287-11e8-9490-d5f4ba98b039\"}, {\"marker\": {\"line\": {\"width\": 2}, \"size\": [13, 1, 6, 19, 26, 15, 2, 4], \"sizemode\": \"area\", \"sizeref\": 0.06896551724137931, \"symbol\": \"circle\"}, \"mode\": \"markers\", \"name\": \"Student_13\", \"text\": [\"13\", \"1\", \"6\", \"19\", \"26\", \"15\", \"2\", \"4\"], \"x\": [\"Student_13\", \"Student_13\", \"Student_13\", \"Student_13\", \"Student_13\", \"Student_13\", \"Student_13\", \"Student_13\", \"Student_13\"], \"y\": [\"Video1\", \"Video2\", \"Quiz1\", \"Quiz2\", \"Pdf1\", \"Pdf2\", \"Ebook1\", \"Ebook2\"], \"type\": \"scatter\", \"uid\": \"164a94f2-e287-11e8-9490-d5f4ba98b039\"}, {\"marker\": {\"line\": {\"width\": 2}, \"size\": [26, 1, 14, 20, 9, 3, 28, 5], \"sizemode\": \"area\", \"sizeref\": 0.06896551724137931, \"symbol\": \"circle\"}, \"mode\": \"markers\", \"name\": \"Student_14\", \"text\": [\"26\", \"1\", \"14\", \"20\", \"9\", \"3\", \"28\", \"5\"], \"x\": [\"Student_14\", \"Student_14\", \"Student_14\", \"Student_14\", \"Student_14\", \"Student_14\", \"Student_14\", \"Student_14\", \"Student_14\"], \"y\": [\"Video1\", \"Video2\", \"Quiz1\", \"Quiz2\", \"Pdf1\", \"Pdf2\", \"Ebook1\", \"Ebook2\"], \"type\": \"scatter\", \"uid\": \"164a9574-e287-11e8-9490-d5f4ba98b039\"}, {\"marker\": {\"line\": {\"width\": 2}, \"size\": [11, 25, 3, 5, 8, 26, 7, 14], \"sizemode\": \"area\", \"sizeref\": 0.06896551724137931, \"symbol\": \"circle\"}, \"mode\": \"markers\", \"name\": \"Student_15\", \"text\": [\"11\", \"25\", \"3\", \"5\", \"8\", \"26\", \"7\", \"14\"], \"x\": [\"Student_15\", \"Student_15\", \"Student_15\", \"Student_15\", \"Student_15\", \"Student_15\", \"Student_15\", \"Student_15\", \"Student_15\"], \"y\": [\"Video1\", \"Video2\", \"Quiz1\", \"Quiz2\", \"Pdf1\", \"Pdf2\", \"Ebook1\", \"Ebook2\"], \"type\": \"scatter\", \"uid\": \"164a95f6-e287-11e8-9490-d5f4ba98b039\"}, {\"marker\": {\"line\": {\"width\": 2}, \"size\": [19, 28, 14, 18, 24, 18, 0, 7], \"sizemode\": \"area\", \"sizeref\": 0.06896551724137931, \"symbol\": \"circle\"}, \"mode\": \"markers\", \"name\": \"Student_16\", \"text\": [\"19\", \"28\", \"14\", \"18\", \"24\", \"18\", \"0\", \"7\"], \"x\": [\"Student_16\", \"Student_16\", \"Student_16\", \"Student_16\", \"Student_16\", \"Student_16\", \"Student_16\", \"Student_16\", \"Student_16\"], \"y\": [\"Video1\", \"Video2\", \"Quiz1\", \"Quiz2\", \"Pdf1\", \"Pdf2\", \"Ebook1\", \"Ebook2\"], \"type\": \"scatter\", \"uid\": \"164a966e-e287-11e8-9490-d5f4ba98b039\"}, {\"marker\": {\"line\": {\"width\": 2}, \"size\": [11, 19, 23, 23, 17, 7, 15, 22], \"sizemode\": \"area\", \"sizeref\": 0.06896551724137931, \"symbol\": \"circle\"}, \"mode\": \"markers\", \"name\": \"Student_17\", \"text\": [\"11\", \"19\", \"23\", \"23\", \"17\", \"7\", \"15\", \"22\"], \"x\": [\"Student_17\", \"Student_17\", \"Student_17\", \"Student_17\", \"Student_17\", \"Student_17\", \"Student_17\", \"Student_17\", \"Student_17\"], \"y\": [\"Video1\", \"Video2\", \"Quiz1\", \"Quiz2\", \"Pdf1\", \"Pdf2\", \"Ebook1\", \"Ebook2\"], \"type\": \"scatter\", \"uid\": \"164a96f0-e287-11e8-9490-d5f4ba98b039\"}, {\"marker\": {\"line\": {\"width\": 2}, \"size\": [20, 15, 18, 22, 9, 5, 12, 6], \"sizemode\": \"area\", \"sizeref\": 0.06896551724137931, \"symbol\": \"circle\"}, \"mode\": \"markers\", \"name\": \"Student_18\", \"text\": [\"20\", \"15\", \"18\", \"22\", \"9\", \"5\", \"12\", \"6\"], \"x\": [\"Student_18\", \"Student_18\", \"Student_18\", \"Student_18\", \"Student_18\", \"Student_18\", \"Student_18\", \"Student_18\", \"Student_18\"], \"y\": [\"Video1\", \"Video2\", \"Quiz1\", \"Quiz2\", \"Pdf1\", \"Pdf2\", \"Ebook1\", \"Ebook2\"], \"type\": \"scatter\", \"uid\": \"164a9768-e287-11e8-9490-d5f4ba98b039\"}, {\"marker\": {\"line\": {\"width\": 2}, \"size\": [0, 16, 24, 6, 24, 21, 25, 27], \"sizemode\": \"area\", \"sizeref\": 0.06896551724137931, \"symbol\": \"circle\"}, \"mode\": \"markers\", \"name\": \"Student_19\", \"text\": [\"0\", \"16\", \"24\", \"6\", \"24\", \"21\", \"25\", \"27\"], \"x\": [\"Student_19\", \"Student_19\", \"Student_19\", \"Student_19\", \"Student_19\", \"Student_19\", \"Student_19\", \"Student_19\", \"Student_19\"], \"y\": [\"Video1\", \"Video2\", \"Quiz1\", \"Quiz2\", \"Pdf1\", \"Pdf2\", \"Ebook1\", \"Ebook2\"], \"type\": \"scatter\", \"uid\": \"164a97ea-e287-11e8-9490-d5f4ba98b039\"}, {\"marker\": {\"line\": {\"width\": 2}, \"size\": [18, 8, 15, 24, 1, 10, 15, 4], \"sizemode\": \"area\", \"sizeref\": 0.06896551724137931, \"symbol\": \"circle\"}, \"mode\": \"markers\", \"name\": \"Student_20\", \"text\": [\"18\", \"8\", \"15\", \"24\", \"1\", \"10\", \"15\", \"4\"], \"x\": [\"Student_20\", \"Student_20\", \"Student_20\", \"Student_20\", \"Student_20\", \"Student_20\", \"Student_20\", \"Student_20\", \"Student_20\"], \"y\": [\"Video1\", \"Video2\", \"Quiz1\", \"Quiz2\", \"Pdf1\", \"Pdf2\", \"Ebook1\", \"Ebook2\"], \"type\": \"scatter\", \"uid\": \"164a988a-e287-11e8-9490-d5f4ba98b039\"}], {\"hovermode\": \"closest\", \"showlegend\": true, \"title\": \"N\\u00famero de acessos nos materiais por estudante\", \"xaxis\": {\"autorange\": false, \"fixedrange\": false, \"range\": [-1, 20], \"rangemode\": \"normal\", \"showline\": true, \"title\": \"Estudantes\", \"type\": \"category\"}, \"yaxis\": {\"autorange\": false, \"categoryorder\": \"category ascending\", \"fixedrange\": false, \"range\": [-1, 8], \"rangemode\": \"normal\", \"showline\": true, \"title\": \"Materiais\", \"type\": \"category\"}}, {\"showLink\": true, \"linkText\": \"Export to plot.ly\"})});</script>"
      ]
     },
     "metadata": {},
     "output_type": "display_data"
    }
   ],
   "source": [
    "run scripts/V002.py"
   ]
  },
  {
   "cell_type": "markdown",
   "metadata": {},
   "source": [
    "### View 003"
   ]
  },
  {
   "cell_type": "code",
   "execution_count": 94,
   "metadata": {
    "scrolled": true
   },
   "outputs": [
    {
     "data": {
      "text/html": [
       "<script>requirejs.config({paths: { 'plotly': ['https://cdn.plot.ly/plotly-latest.min']},});if(!window.Plotly) {{require(['plotly'],function(plotly) {window.Plotly=plotly;});}}</script>"
      ],
      "text/vnd.plotly.v1+html": [
       "<script>requirejs.config({paths: { 'plotly': ['https://cdn.plot.ly/plotly-latest.min']},});if(!window.Plotly) {{require(['plotly'],function(plotly) {window.Plotly=plotly;});}}</script>"
      ]
     },
     "metadata": {},
     "output_type": "display_data"
    },
    {
     "data": {
      "application/vnd.plotly.v1+json": {
       "data": [
        {
         "cells": {
          "align": [
           "left",
           "center"
          ],
          "fill": {
           "color": "#F5F8FF"
          },
          "values": [
           [
            "Student_1",
            "Student_2",
            "Student_3",
            "Student_4",
            "Student_5",
            "Student_6",
            "Student_7",
            "Student_8",
            "Student_9",
            "Student_10",
            "Student_11",
            "Student_12",
            "Student_13",
            "Student_14",
            "Student_15",
            "Student_16",
            "Student_17",
            "Student_18",
            "Student_19",
            "Student_20"
           ],
           [
            9,
            10,
            17,
            8,
            3,
            5,
            17,
            11,
            11,
            5,
            18,
            15,
            11,
            0,
            4,
            2,
            14,
            6,
            17,
            13
           ],
           [
            1,
            15,
            0,
            9,
            12,
            1,
            16,
            7,
            18,
            3,
            5,
            12,
            9,
            19,
            6,
            14,
            3,
            15,
            18,
            12
           ],
           [
            11,
            14,
            16,
            19,
            12,
            5,
            12,
            4,
            16,
            15,
            0,
            15,
            7,
            15,
            6,
            2,
            9,
            12,
            9,
            17
           ]
          ]
         },
         "header": {
          "align": "center",
          "fill": {
           "color": "#C2D4FF"
          },
          "values": [
           "Students",
           "Hits",
           "Readings",
           "Posts"
          ]
         },
         "type": "table",
         "uid": "a28be7ea-e287-11e8-9490-d5f4ba98b039"
        }
       ],
       "layout": {}
      },
      "text/html": [
       "<div id=\"c0a35e2e-48c4-41f2-b1ad-b71905eff76f\" style=\"height: 525px; width: 100%;\" class=\"plotly-graph-div\"></div><script type=\"text/javascript\">require([\"plotly\"], function(Plotly) { window.PLOTLYENV=window.PLOTLYENV || {};window.PLOTLYENV.BASE_URL=\"https://plot.ly\";Plotly.newPlot(\"c0a35e2e-48c4-41f2-b1ad-b71905eff76f\", [{\"cells\": {\"align\": [\"left\", \"center\"], \"fill\": {\"color\": \"#F5F8FF\"}, \"values\": [[\"Student_1\", \"Student_2\", \"Student_3\", \"Student_4\", \"Student_5\", \"Student_6\", \"Student_7\", \"Student_8\", \"Student_9\", \"Student_10\", \"Student_11\", \"Student_12\", \"Student_13\", \"Student_14\", \"Student_15\", \"Student_16\", \"Student_17\", \"Student_18\", \"Student_19\", \"Student_20\"], [9, 10, 17, 8, 3, 5, 17, 11, 11, 5, 18, 15, 11, 0, 4, 2, 14, 6, 17, 13], [1, 15, 0, 9, 12, 1, 16, 7, 18, 3, 5, 12, 9, 19, 6, 14, 3, 15, 18, 12], [11, 14, 16, 19, 12, 5, 12, 4, 16, 15, 0, 15, 7, 15, 6, 2, 9, 12, 9, 17]]}, \"header\": {\"align\": \"center\", \"fill\": {\"color\": \"#C2D4FF\"}, \"values\": [\"Students\", \"Hits\", \"Readings\", \"Posts\"]}, \"type\": \"table\", \"uid\": \"a28e558e-e287-11e8-9490-d5f4ba98b039\"}], {}, {\"showLink\": true, \"linkText\": \"Export to plot.ly\"})});</script>"
      ],
      "text/vnd.plotly.v1+html": [
       "<div id=\"c0a35e2e-48c4-41f2-b1ad-b71905eff76f\" style=\"height: 525px; width: 100%;\" class=\"plotly-graph-div\"></div><script type=\"text/javascript\">require([\"plotly\"], function(Plotly) { window.PLOTLYENV=window.PLOTLYENV || {};window.PLOTLYENV.BASE_URL=\"https://plot.ly\";Plotly.newPlot(\"c0a35e2e-48c4-41f2-b1ad-b71905eff76f\", [{\"cells\": {\"align\": [\"left\", \"center\"], \"fill\": {\"color\": \"#F5F8FF\"}, \"values\": [[\"Student_1\", \"Student_2\", \"Student_3\", \"Student_4\", \"Student_5\", \"Student_6\", \"Student_7\", \"Student_8\", \"Student_9\", \"Student_10\", \"Student_11\", \"Student_12\", \"Student_13\", \"Student_14\", \"Student_15\", \"Student_16\", \"Student_17\", \"Student_18\", \"Student_19\", \"Student_20\"], [9, 10, 17, 8, 3, 5, 17, 11, 11, 5, 18, 15, 11, 0, 4, 2, 14, 6, 17, 13], [1, 15, 0, 9, 12, 1, 16, 7, 18, 3, 5, 12, 9, 19, 6, 14, 3, 15, 18, 12], [11, 14, 16, 19, 12, 5, 12, 4, 16, 15, 0, 15, 7, 15, 6, 2, 9, 12, 9, 17]]}, \"header\": {\"align\": \"center\", \"fill\": {\"color\": \"#C2D4FF\"}, \"values\": [\"Students\", \"Hits\", \"Readings\", \"Posts\"]}, \"type\": \"table\", \"uid\": \"a28e558e-e287-11e8-9490-d5f4ba98b039\"}], {}, {\"showLink\": true, \"linkText\": \"Export to plot.ly\"})});</script>"
      ]
     },
     "metadata": {},
     "output_type": "display_data"
    },
    {
     "data": {
      "application/vnd.plotly.v1+json": {
       "data": [
        {
         "name": "Hits",
         "type": "bar",
         "uid": "a293fafc-e287-11e8-9490-d5f4ba98b039",
         "x": [
          "Student_1",
          "Student_2",
          "Student_3",
          "Student_4",
          "Student_5",
          "Student_6",
          "Student_7",
          "Student_8",
          "Student_9",
          "Student_10",
          "Student_11",
          "Student_12",
          "Student_13",
          "Student_14",
          "Student_15",
          "Student_16",
          "Student_17",
          "Student_18",
          "Student_19",
          "Student_20"
         ],
         "y": [
          9,
          10,
          17,
          8,
          3,
          5,
          17,
          11,
          11,
          5,
          18,
          15,
          11,
          0,
          4,
          2,
          14,
          6,
          17,
          13
         ]
        },
        {
         "name": "Readings",
         "type": "bar",
         "uid": "a293fcb4-e287-11e8-9490-d5f4ba98b039",
         "x": [
          "Student_1",
          "Student_2",
          "Student_3",
          "Student_4",
          "Student_5",
          "Student_6",
          "Student_7",
          "Student_8",
          "Student_9",
          "Student_10",
          "Student_11",
          "Student_12",
          "Student_13",
          "Student_14",
          "Student_15",
          "Student_16",
          "Student_17",
          "Student_18",
          "Student_19",
          "Student_20"
         ],
         "y": [
          1,
          15,
          0,
          9,
          12,
          1,
          16,
          7,
          18,
          3,
          5,
          12,
          9,
          19,
          6,
          14,
          3,
          15,
          18,
          12
         ]
        },
        {
         "name": "Posts",
         "type": "bar",
         "uid": "a293fda4-e287-11e8-9490-d5f4ba98b039",
         "x": [
          "Student_1",
          "Student_2",
          "Student_3",
          "Student_4",
          "Student_5",
          "Student_6",
          "Student_7",
          "Student_8",
          "Student_9",
          "Student_10",
          "Student_11",
          "Student_12",
          "Student_13",
          "Student_14",
          "Student_15",
          "Student_16",
          "Student_17",
          "Student_18",
          "Student_19",
          "Student_20"
         ],
         "y": [
          11,
          14,
          16,
          19,
          12,
          5,
          12,
          4,
          16,
          15,
          0,
          15,
          7,
          15,
          6,
          2,
          9,
          12,
          9,
          17
         ]
        }
       ],
       "layout": {
        "title": "Número de acessos a Posts, Leituras e Likes agrupados por estudante",
        "yaxis": {
         "dtick": 1,
         "exponentformat": "e",
         "gridcolor": "#bdbdbd",
         "showexponent": "all",
         "showticklabels": true,
         "tick0": 0,
         "titlefont": {
          "color": "lightgrey",
          "family": "Arial, sans-serif"
         }
        }
       }
      },
      "text/html": [
       "<div id=\"029d9343-6012-4b17-a783-fa1f75add0d2\" style=\"height: 525px; width: 100%;\" class=\"plotly-graph-div\"></div><script type=\"text/javascript\">require([\"plotly\"], function(Plotly) { window.PLOTLYENV=window.PLOTLYENV || {};window.PLOTLYENV.BASE_URL=\"https://plot.ly\";Plotly.newPlot(\"029d9343-6012-4b17-a783-fa1f75add0d2\", [{\"name\": \"Hits\", \"x\": [\"Student_1\", \"Student_2\", \"Student_3\", \"Student_4\", \"Student_5\", \"Student_6\", \"Student_7\", \"Student_8\", \"Student_9\", \"Student_10\", \"Student_11\", \"Student_12\", \"Student_13\", \"Student_14\", \"Student_15\", \"Student_16\", \"Student_17\", \"Student_18\", \"Student_19\", \"Student_20\"], \"y\": [9, 10, 17, 8, 3, 5, 17, 11, 11, 5, 18, 15, 11, 0, 4, 2, 14, 6, 17, 13], \"type\": \"bar\", \"uid\": \"a293fafc-e287-11e8-9490-d5f4ba98b039\"}, {\"name\": \"Readings\", \"x\": [\"Student_1\", \"Student_2\", \"Student_3\", \"Student_4\", \"Student_5\", \"Student_6\", \"Student_7\", \"Student_8\", \"Student_9\", \"Student_10\", \"Student_11\", \"Student_12\", \"Student_13\", \"Student_14\", \"Student_15\", \"Student_16\", \"Student_17\", \"Student_18\", \"Student_19\", \"Student_20\"], \"y\": [1, 15, 0, 9, 12, 1, 16, 7, 18, 3, 5, 12, 9, 19, 6, 14, 3, 15, 18, 12], \"type\": \"bar\", \"uid\": \"a293fcb4-e287-11e8-9490-d5f4ba98b039\"}, {\"name\": \"Posts\", \"x\": [\"Student_1\", \"Student_2\", \"Student_3\", \"Student_4\", \"Student_5\", \"Student_6\", \"Student_7\", \"Student_8\", \"Student_9\", \"Student_10\", \"Student_11\", \"Student_12\", \"Student_13\", \"Student_14\", \"Student_15\", \"Student_16\", \"Student_17\", \"Student_18\", \"Student_19\", \"Student_20\"], \"y\": [11, 14, 16, 19, 12, 5, 12, 4, 16, 15, 0, 15, 7, 15, 6, 2, 9, 12, 9, 17], \"type\": \"bar\", \"uid\": \"a293fda4-e287-11e8-9490-d5f4ba98b039\"}], {\"title\": \"N\\u00famero de acessos a Posts, Leituras e Likes agrupados por estudante\", \"yaxis\": {\"dtick\": 1, \"exponentformat\": \"e\", \"gridcolor\": \"#bdbdbd\", \"showexponent\": \"all\", \"showticklabels\": true, \"tick0\": 0, \"titlefont\": {\"color\": \"lightgrey\", \"family\": \"Arial, sans-serif\"}}}, {\"showLink\": true, \"linkText\": \"Export to plot.ly\"})});</script>"
      ],
      "text/vnd.plotly.v1+html": [
       "<div id=\"029d9343-6012-4b17-a783-fa1f75add0d2\" style=\"height: 525px; width: 100%;\" class=\"plotly-graph-div\"></div><script type=\"text/javascript\">require([\"plotly\"], function(Plotly) { window.PLOTLYENV=window.PLOTLYENV || {};window.PLOTLYENV.BASE_URL=\"https://plot.ly\";Plotly.newPlot(\"029d9343-6012-4b17-a783-fa1f75add0d2\", [{\"name\": \"Hits\", \"x\": [\"Student_1\", \"Student_2\", \"Student_3\", \"Student_4\", \"Student_5\", \"Student_6\", \"Student_7\", \"Student_8\", \"Student_9\", \"Student_10\", \"Student_11\", \"Student_12\", \"Student_13\", \"Student_14\", \"Student_15\", \"Student_16\", \"Student_17\", \"Student_18\", \"Student_19\", \"Student_20\"], \"y\": [9, 10, 17, 8, 3, 5, 17, 11, 11, 5, 18, 15, 11, 0, 4, 2, 14, 6, 17, 13], \"type\": \"bar\", \"uid\": \"a293fafc-e287-11e8-9490-d5f4ba98b039\"}, {\"name\": \"Readings\", \"x\": [\"Student_1\", \"Student_2\", \"Student_3\", \"Student_4\", \"Student_5\", \"Student_6\", \"Student_7\", \"Student_8\", \"Student_9\", \"Student_10\", \"Student_11\", \"Student_12\", \"Student_13\", \"Student_14\", \"Student_15\", \"Student_16\", \"Student_17\", \"Student_18\", \"Student_19\", \"Student_20\"], \"y\": [1, 15, 0, 9, 12, 1, 16, 7, 18, 3, 5, 12, 9, 19, 6, 14, 3, 15, 18, 12], \"type\": \"bar\", \"uid\": \"a293fcb4-e287-11e8-9490-d5f4ba98b039\"}, {\"name\": \"Posts\", \"x\": [\"Student_1\", \"Student_2\", \"Student_3\", \"Student_4\", \"Student_5\", \"Student_6\", \"Student_7\", \"Student_8\", \"Student_9\", \"Student_10\", \"Student_11\", \"Student_12\", \"Student_13\", \"Student_14\", \"Student_15\", \"Student_16\", \"Student_17\", \"Student_18\", \"Student_19\", \"Student_20\"], \"y\": [11, 14, 16, 19, 12, 5, 12, 4, 16, 15, 0, 15, 7, 15, 6, 2, 9, 12, 9, 17], \"type\": \"bar\", \"uid\": \"a293fda4-e287-11e8-9490-d5f4ba98b039\"}], {\"title\": \"N\\u00famero de acessos a Posts, Leituras e Likes agrupados por estudante\", \"yaxis\": {\"dtick\": 1, \"exponentformat\": \"e\", \"gridcolor\": \"#bdbdbd\", \"showexponent\": \"all\", \"showticklabels\": true, \"tick0\": 0, \"titlefont\": {\"color\": \"lightgrey\", \"family\": \"Arial, sans-serif\"}}}, {\"showLink\": true, \"linkText\": \"Export to plot.ly\"})});</script>"
      ]
     },
     "metadata": {},
     "output_type": "display_data"
    },
    {
     "data": {
      "application/vnd.plotly.v1+json": {
       "data": [
        {
         "marker": {
          "line": {
           "width": 2
          },
          "size": [
           9,
           1,
           11
          ],
          "sizemode": "area",
          "sizeref": 0.10526315789473684,
          "symbol": "circle"
         },
         "mode": "markers",
         "name": "Student_1",
         "text": [
          "9",
          "1",
          "11"
         ],
         "type": "scatter",
         "uid": "a2aa6be8-e287-11e8-9490-d5f4ba98b039",
         "x": [
          "Student_1",
          "Student_1",
          "Student_1",
          "Student_1"
         ],
         "y": [
          "Hits",
          "Readings",
          "Posts"
         ]
        },
        {
         "marker": {
          "line": {
           "width": 2
          },
          "size": [
           10,
           15,
           14
          ],
          "sizemode": "area",
          "sizeref": 0.10526315789473684,
          "symbol": "circle"
         },
         "mode": "markers",
         "name": "Student_2",
         "text": [
          "10",
          "15",
          "14"
         ],
         "type": "scatter",
         "uid": "a2aa6da0-e287-11e8-9490-d5f4ba98b039",
         "x": [
          "Student_2",
          "Student_2",
          "Student_2",
          "Student_2"
         ],
         "y": [
          "Hits",
          "Readings",
          "Posts"
         ]
        },
        {
         "marker": {
          "line": {
           "width": 2
          },
          "size": [
           17,
           0,
           16
          ],
          "sizemode": "area",
          "sizeref": 0.10526315789473684,
          "symbol": "circle"
         },
         "mode": "markers",
         "name": "Student_3",
         "text": [
          "17",
          "0",
          "16"
         ],
         "type": "scatter",
         "uid": "a2aa6e68-e287-11e8-9490-d5f4ba98b039",
         "x": [
          "Student_3",
          "Student_3",
          "Student_3",
          "Student_3"
         ],
         "y": [
          "Hits",
          "Readings",
          "Posts"
         ]
        },
        {
         "marker": {
          "line": {
           "width": 2
          },
          "size": [
           8,
           9,
           19
          ],
          "sizemode": "area",
          "sizeref": 0.10526315789473684,
          "symbol": "circle"
         },
         "mode": "markers",
         "name": "Student_4",
         "text": [
          "8",
          "9",
          "19"
         ],
         "type": "scatter",
         "uid": "a2aa6f12-e287-11e8-9490-d5f4ba98b039",
         "x": [
          "Student_4",
          "Student_4",
          "Student_4",
          "Student_4"
         ],
         "y": [
          "Hits",
          "Readings",
          "Posts"
         ]
        },
        {
         "marker": {
          "line": {
           "width": 2
          },
          "size": [
           3,
           12,
           12
          ],
          "sizemode": "area",
          "sizeref": 0.10526315789473684,
          "symbol": "circle"
         },
         "mode": "markers",
         "name": "Student_5",
         "text": [
          "3",
          "12",
          "12"
         ],
         "type": "scatter",
         "uid": "a2aa6fb2-e287-11e8-9490-d5f4ba98b039",
         "x": [
          "Student_5",
          "Student_5",
          "Student_5",
          "Student_5"
         ],
         "y": [
          "Hits",
          "Readings",
          "Posts"
         ]
        },
        {
         "marker": {
          "line": {
           "width": 2
          },
          "size": [
           5,
           1,
           5
          ],
          "sizemode": "area",
          "sizeref": 0.10526315789473684,
          "symbol": "circle"
         },
         "mode": "markers",
         "name": "Student_6",
         "text": [
          "5",
          "1",
          "5"
         ],
         "type": "scatter",
         "uid": "a2aa7048-e287-11e8-9490-d5f4ba98b039",
         "x": [
          "Student_6",
          "Student_6",
          "Student_6",
          "Student_6"
         ],
         "y": [
          "Hits",
          "Readings",
          "Posts"
         ]
        },
        {
         "marker": {
          "line": {
           "width": 2
          },
          "size": [
           17,
           16,
           12
          ],
          "sizemode": "area",
          "sizeref": 0.10526315789473684,
          "symbol": "circle"
         },
         "mode": "markers",
         "name": "Student_7",
         "text": [
          "17",
          "16",
          "12"
         ],
         "type": "scatter",
         "uid": "a2aa70d4-e287-11e8-9490-d5f4ba98b039",
         "x": [
          "Student_7",
          "Student_7",
          "Student_7",
          "Student_7"
         ],
         "y": [
          "Hits",
          "Readings",
          "Posts"
         ]
        },
        {
         "marker": {
          "line": {
           "width": 2
          },
          "size": [
           11,
           7,
           4
          ],
          "sizemode": "area",
          "sizeref": 0.10526315789473684,
          "symbol": "circle"
         },
         "mode": "markers",
         "name": "Student_8",
         "text": [
          "11",
          "7",
          "4"
         ],
         "type": "scatter",
         "uid": "a2aa7160-e287-11e8-9490-d5f4ba98b039",
         "x": [
          "Student_8",
          "Student_8",
          "Student_8",
          "Student_8"
         ],
         "y": [
          "Hits",
          "Readings",
          "Posts"
         ]
        },
        {
         "marker": {
          "line": {
           "width": 2
          },
          "size": [
           11,
           18,
           16
          ],
          "sizemode": "area",
          "sizeref": 0.10526315789473684,
          "symbol": "circle"
         },
         "mode": "markers",
         "name": "Student_9",
         "text": [
          "11",
          "18",
          "16"
         ],
         "type": "scatter",
         "uid": "a2aa71f6-e287-11e8-9490-d5f4ba98b039",
         "x": [
          "Student_9",
          "Student_9",
          "Student_9",
          "Student_9"
         ],
         "y": [
          "Hits",
          "Readings",
          "Posts"
         ]
        },
        {
         "marker": {
          "line": {
           "width": 2
          },
          "size": [
           5,
           3,
           15
          ],
          "sizemode": "area",
          "sizeref": 0.10526315789473684,
          "symbol": "circle"
         },
         "mode": "markers",
         "name": "Student_10",
         "text": [
          "5",
          "3",
          "15"
         ],
         "type": "scatter",
         "uid": "a2aa7282-e287-11e8-9490-d5f4ba98b039",
         "x": [
          "Student_10",
          "Student_10",
          "Student_10",
          "Student_10"
         ],
         "y": [
          "Hits",
          "Readings",
          "Posts"
         ]
        },
        {
         "marker": {
          "line": {
           "width": 2
          },
          "size": [
           18,
           5,
           0
          ],
          "sizemode": "area",
          "sizeref": 0.10526315789473684,
          "symbol": "circle"
         },
         "mode": "markers",
         "name": "Student_11",
         "text": [
          "18",
          "5",
          "0"
         ],
         "type": "scatter",
         "uid": "a2aa730e-e287-11e8-9490-d5f4ba98b039",
         "x": [
          "Student_11",
          "Student_11",
          "Student_11",
          "Student_11"
         ],
         "y": [
          "Hits",
          "Readings",
          "Posts"
         ]
        },
        {
         "marker": {
          "line": {
           "width": 2
          },
          "size": [
           15,
           12,
           15
          ],
          "sizemode": "area",
          "sizeref": 0.10526315789473684,
          "symbol": "circle"
         },
         "mode": "markers",
         "name": "Student_12",
         "text": [
          "15",
          "12",
          "15"
         ],
         "type": "scatter",
         "uid": "a2aa73a4-e287-11e8-9490-d5f4ba98b039",
         "x": [
          "Student_12",
          "Student_12",
          "Student_12",
          "Student_12"
         ],
         "y": [
          "Hits",
          "Readings",
          "Posts"
         ]
        },
        {
         "marker": {
          "line": {
           "width": 2
          },
          "size": [
           11,
           9,
           7
          ],
          "sizemode": "area",
          "sizeref": 0.10526315789473684,
          "symbol": "circle"
         },
         "mode": "markers",
         "name": "Student_13",
         "text": [
          "11",
          "9",
          "7"
         ],
         "type": "scatter",
         "uid": "a2aa7430-e287-11e8-9490-d5f4ba98b039",
         "x": [
          "Student_13",
          "Student_13",
          "Student_13",
          "Student_13"
         ],
         "y": [
          "Hits",
          "Readings",
          "Posts"
         ]
        },
        {
         "marker": {
          "line": {
           "width": 2
          },
          "size": [
           0,
           19,
           15
          ],
          "sizemode": "area",
          "sizeref": 0.10526315789473684,
          "symbol": "circle"
         },
         "mode": "markers",
         "name": "Student_14",
         "text": [
          "0",
          "19",
          "15"
         ],
         "type": "scatter",
         "uid": "a2aa74bc-e287-11e8-9490-d5f4ba98b039",
         "x": [
          "Student_14",
          "Student_14",
          "Student_14",
          "Student_14"
         ],
         "y": [
          "Hits",
          "Readings",
          "Posts"
         ]
        },
        {
         "marker": {
          "line": {
           "width": 2
          },
          "size": [
           4,
           6,
           6
          ],
          "sizemode": "area",
          "sizeref": 0.10526315789473684,
          "symbol": "circle"
         },
         "mode": "markers",
         "name": "Student_15",
         "text": [
          "4",
          "6",
          "6"
         ],
         "type": "scatter",
         "uid": "a2aa7548-e287-11e8-9490-d5f4ba98b039",
         "x": [
          "Student_15",
          "Student_15",
          "Student_15",
          "Student_15"
         ],
         "y": [
          "Hits",
          "Readings",
          "Posts"
         ]
        },
        {
         "marker": {
          "line": {
           "width": 2
          },
          "size": [
           2,
           14,
           2
          ],
          "sizemode": "area",
          "sizeref": 0.10526315789473684,
          "symbol": "circle"
         },
         "mode": "markers",
         "name": "Student_16",
         "text": [
          "2",
          "14",
          "2"
         ],
         "type": "scatter",
         "uid": "a2aa75d4-e287-11e8-9490-d5f4ba98b039",
         "x": [
          "Student_16",
          "Student_16",
          "Student_16",
          "Student_16"
         ],
         "y": [
          "Hits",
          "Readings",
          "Posts"
         ]
        },
        {
         "marker": {
          "line": {
           "width": 2
          },
          "size": [
           14,
           3,
           9
          ],
          "sizemode": "area",
          "sizeref": 0.10526315789473684,
          "symbol": "circle"
         },
         "mode": "markers",
         "name": "Student_17",
         "text": [
          "14",
          "3",
          "9"
         ],
         "type": "scatter",
         "uid": "a2aa776e-e287-11e8-9490-d5f4ba98b039",
         "x": [
          "Student_17",
          "Student_17",
          "Student_17",
          "Student_17"
         ],
         "y": [
          "Hits",
          "Readings",
          "Posts"
         ]
        },
        {
         "marker": {
          "line": {
           "width": 2
          },
          "size": [
           6,
           15,
           12
          ],
          "sizemode": "area",
          "sizeref": 0.10526315789473684,
          "symbol": "circle"
         },
         "mode": "markers",
         "name": "Student_18",
         "text": [
          "6",
          "15",
          "12"
         ],
         "type": "scatter",
         "uid": "a2aa7804-e287-11e8-9490-d5f4ba98b039",
         "x": [
          "Student_18",
          "Student_18",
          "Student_18",
          "Student_18"
         ],
         "y": [
          "Hits",
          "Readings",
          "Posts"
         ]
        },
        {
         "marker": {
          "line": {
           "width": 2
          },
          "size": [
           17,
           18,
           9
          ],
          "sizemode": "area",
          "sizeref": 0.10526315789473684,
          "symbol": "circle"
         },
         "mode": "markers",
         "name": "Student_19",
         "text": [
          "17",
          "18",
          "9"
         ],
         "type": "scatter",
         "uid": "a2aa7886-e287-11e8-9490-d5f4ba98b039",
         "x": [
          "Student_19",
          "Student_19",
          "Student_19",
          "Student_19"
         ],
         "y": [
          "Hits",
          "Readings",
          "Posts"
         ]
        },
        {
         "marker": {
          "line": {
           "width": 2
          },
          "size": [
           13,
           12,
           17
          ],
          "sizemode": "area",
          "sizeref": 0.10526315789473684,
          "symbol": "circle"
         },
         "mode": "markers",
         "name": "Student_20",
         "text": [
          "13",
          "12",
          "17"
         ],
         "type": "scatter",
         "uid": "a2aa7908-e287-11e8-9490-d5f4ba98b039",
         "x": [
          "Student_20",
          "Student_20",
          "Student_20",
          "Student_20"
         ],
         "y": [
          "Hits",
          "Readings",
          "Posts"
         ]
        }
       ],
       "layout": {
        "hovermode": "closest",
        "showlegend": true,
        "title": "Número de acessos a Posts, Leituras e Likes por estudante",
        "xaxis": {
         "autorange": false,
         "fixedrange": false,
         "range": [
          -1,
          20
         ],
         "rangemode": "normal",
         "showline": true,
         "title": "Estudantes",
         "type": "category"
        },
        "yaxis": {
         "autorange": false,
         "categoryorder": "category ascending",
         "fixedrange": false,
         "range": [
          -1,
          3
         ],
         "rangemode": "normal",
         "showline": true,
         "type": "category"
        }
       }
      },
      "text/html": [
       "<div id=\"9e577237-58f6-4d73-aee9-593ebb0ca862\" style=\"height: 525px; width: 100%;\" class=\"plotly-graph-div\"></div><script type=\"text/javascript\">require([\"plotly\"], function(Plotly) { window.PLOTLYENV=window.PLOTLYENV || {};window.PLOTLYENV.BASE_URL=\"https://plot.ly\";Plotly.newPlot(\"9e577237-58f6-4d73-aee9-593ebb0ca862\", [{\"marker\": {\"line\": {\"width\": 2}, \"size\": [9, 1, 11], \"sizemode\": \"area\", \"sizeref\": 0.10526315789473684, \"symbol\": \"circle\"}, \"mode\": \"markers\", \"name\": \"Student_1\", \"text\": [\"9\", \"1\", \"11\"], \"x\": [\"Student_1\", \"Student_1\", \"Student_1\", \"Student_1\"], \"y\": [\"Hits\", \"Readings\", \"Posts\"], \"type\": \"scatter\", \"uid\": \"a2aa6be8-e287-11e8-9490-d5f4ba98b039\"}, {\"marker\": {\"line\": {\"width\": 2}, \"size\": [10, 15, 14], \"sizemode\": \"area\", \"sizeref\": 0.10526315789473684, \"symbol\": \"circle\"}, \"mode\": \"markers\", \"name\": \"Student_2\", \"text\": [\"10\", \"15\", \"14\"], \"x\": [\"Student_2\", \"Student_2\", \"Student_2\", \"Student_2\"], \"y\": [\"Hits\", \"Readings\", \"Posts\"], \"type\": \"scatter\", \"uid\": \"a2aa6da0-e287-11e8-9490-d5f4ba98b039\"}, {\"marker\": {\"line\": {\"width\": 2}, \"size\": [17, 0, 16], \"sizemode\": \"area\", \"sizeref\": 0.10526315789473684, \"symbol\": \"circle\"}, \"mode\": \"markers\", \"name\": \"Student_3\", \"text\": [\"17\", \"0\", \"16\"], \"x\": [\"Student_3\", \"Student_3\", \"Student_3\", \"Student_3\"], \"y\": [\"Hits\", \"Readings\", \"Posts\"], \"type\": \"scatter\", \"uid\": \"a2aa6e68-e287-11e8-9490-d5f4ba98b039\"}, {\"marker\": {\"line\": {\"width\": 2}, \"size\": [8, 9, 19], \"sizemode\": \"area\", \"sizeref\": 0.10526315789473684, \"symbol\": \"circle\"}, \"mode\": \"markers\", \"name\": \"Student_4\", \"text\": [\"8\", \"9\", \"19\"], \"x\": [\"Student_4\", \"Student_4\", \"Student_4\", \"Student_4\"], \"y\": [\"Hits\", \"Readings\", \"Posts\"], \"type\": \"scatter\", \"uid\": \"a2aa6f12-e287-11e8-9490-d5f4ba98b039\"}, {\"marker\": {\"line\": {\"width\": 2}, \"size\": [3, 12, 12], \"sizemode\": \"area\", \"sizeref\": 0.10526315789473684, \"symbol\": \"circle\"}, \"mode\": \"markers\", \"name\": \"Student_5\", \"text\": [\"3\", \"12\", \"12\"], \"x\": [\"Student_5\", \"Student_5\", \"Student_5\", \"Student_5\"], \"y\": [\"Hits\", \"Readings\", \"Posts\"], \"type\": \"scatter\", \"uid\": \"a2aa6fb2-e287-11e8-9490-d5f4ba98b039\"}, {\"marker\": {\"line\": {\"width\": 2}, \"size\": [5, 1, 5], \"sizemode\": \"area\", \"sizeref\": 0.10526315789473684, \"symbol\": \"circle\"}, \"mode\": \"markers\", \"name\": \"Student_6\", \"text\": [\"5\", \"1\", \"5\"], \"x\": [\"Student_6\", \"Student_6\", \"Student_6\", \"Student_6\"], \"y\": [\"Hits\", \"Readings\", \"Posts\"], \"type\": \"scatter\", \"uid\": \"a2aa7048-e287-11e8-9490-d5f4ba98b039\"}, {\"marker\": {\"line\": {\"width\": 2}, \"size\": [17, 16, 12], \"sizemode\": \"area\", \"sizeref\": 0.10526315789473684, \"symbol\": \"circle\"}, \"mode\": \"markers\", \"name\": \"Student_7\", \"text\": [\"17\", \"16\", \"12\"], \"x\": [\"Student_7\", \"Student_7\", \"Student_7\", \"Student_7\"], \"y\": [\"Hits\", \"Readings\", \"Posts\"], \"type\": \"scatter\", \"uid\": \"a2aa70d4-e287-11e8-9490-d5f4ba98b039\"}, {\"marker\": {\"line\": {\"width\": 2}, \"size\": [11, 7, 4], \"sizemode\": \"area\", \"sizeref\": 0.10526315789473684, \"symbol\": \"circle\"}, \"mode\": \"markers\", \"name\": \"Student_8\", \"text\": [\"11\", \"7\", \"4\"], \"x\": [\"Student_8\", \"Student_8\", \"Student_8\", \"Student_8\"], \"y\": [\"Hits\", \"Readings\", \"Posts\"], \"type\": \"scatter\", \"uid\": \"a2aa7160-e287-11e8-9490-d5f4ba98b039\"}, {\"marker\": {\"line\": {\"width\": 2}, \"size\": [11, 18, 16], \"sizemode\": \"area\", \"sizeref\": 0.10526315789473684, \"symbol\": \"circle\"}, \"mode\": \"markers\", \"name\": \"Student_9\", \"text\": [\"11\", \"18\", \"16\"], \"x\": [\"Student_9\", \"Student_9\", \"Student_9\", \"Student_9\"], \"y\": [\"Hits\", \"Readings\", \"Posts\"], \"type\": \"scatter\", \"uid\": \"a2aa71f6-e287-11e8-9490-d5f4ba98b039\"}, {\"marker\": {\"line\": {\"width\": 2}, \"size\": [5, 3, 15], \"sizemode\": \"area\", \"sizeref\": 0.10526315789473684, \"symbol\": \"circle\"}, \"mode\": \"markers\", \"name\": \"Student_10\", \"text\": [\"5\", \"3\", \"15\"], \"x\": [\"Student_10\", \"Student_10\", \"Student_10\", \"Student_10\"], \"y\": [\"Hits\", \"Readings\", \"Posts\"], \"type\": \"scatter\", \"uid\": \"a2aa7282-e287-11e8-9490-d5f4ba98b039\"}, {\"marker\": {\"line\": {\"width\": 2}, \"size\": [18, 5, 0], \"sizemode\": \"area\", \"sizeref\": 0.10526315789473684, \"symbol\": \"circle\"}, \"mode\": \"markers\", \"name\": \"Student_11\", \"text\": [\"18\", \"5\", \"0\"], \"x\": [\"Student_11\", \"Student_11\", \"Student_11\", \"Student_11\"], \"y\": [\"Hits\", \"Readings\", \"Posts\"], \"type\": \"scatter\", \"uid\": \"a2aa730e-e287-11e8-9490-d5f4ba98b039\"}, {\"marker\": {\"line\": {\"width\": 2}, \"size\": [15, 12, 15], \"sizemode\": \"area\", \"sizeref\": 0.10526315789473684, \"symbol\": \"circle\"}, \"mode\": \"markers\", \"name\": \"Student_12\", \"text\": [\"15\", \"12\", \"15\"], \"x\": [\"Student_12\", \"Student_12\", \"Student_12\", \"Student_12\"], \"y\": [\"Hits\", \"Readings\", \"Posts\"], \"type\": \"scatter\", \"uid\": \"a2aa73a4-e287-11e8-9490-d5f4ba98b039\"}, {\"marker\": {\"line\": {\"width\": 2}, \"size\": [11, 9, 7], \"sizemode\": \"area\", \"sizeref\": 0.10526315789473684, \"symbol\": \"circle\"}, \"mode\": \"markers\", \"name\": \"Student_13\", \"text\": [\"11\", \"9\", \"7\"], \"x\": [\"Student_13\", \"Student_13\", \"Student_13\", \"Student_13\"], \"y\": [\"Hits\", \"Readings\", \"Posts\"], \"type\": \"scatter\", \"uid\": \"a2aa7430-e287-11e8-9490-d5f4ba98b039\"}, {\"marker\": {\"line\": {\"width\": 2}, \"size\": [0, 19, 15], \"sizemode\": \"area\", \"sizeref\": 0.10526315789473684, \"symbol\": \"circle\"}, \"mode\": \"markers\", \"name\": \"Student_14\", \"text\": [\"0\", \"19\", \"15\"], \"x\": [\"Student_14\", \"Student_14\", \"Student_14\", \"Student_14\"], \"y\": [\"Hits\", \"Readings\", \"Posts\"], \"type\": \"scatter\", \"uid\": \"a2aa74bc-e287-11e8-9490-d5f4ba98b039\"}, {\"marker\": {\"line\": {\"width\": 2}, \"size\": [4, 6, 6], \"sizemode\": \"area\", \"sizeref\": 0.10526315789473684, \"symbol\": \"circle\"}, \"mode\": \"markers\", \"name\": \"Student_15\", \"text\": [\"4\", \"6\", \"6\"], \"x\": [\"Student_15\", \"Student_15\", \"Student_15\", \"Student_15\"], \"y\": [\"Hits\", \"Readings\", \"Posts\"], \"type\": \"scatter\", \"uid\": \"a2aa7548-e287-11e8-9490-d5f4ba98b039\"}, {\"marker\": {\"line\": {\"width\": 2}, \"size\": [2, 14, 2], \"sizemode\": \"area\", \"sizeref\": 0.10526315789473684, \"symbol\": \"circle\"}, \"mode\": \"markers\", \"name\": \"Student_16\", \"text\": [\"2\", \"14\", \"2\"], \"x\": [\"Student_16\", \"Student_16\", \"Student_16\", \"Student_16\"], \"y\": [\"Hits\", \"Readings\", \"Posts\"], \"type\": \"scatter\", \"uid\": \"a2aa75d4-e287-11e8-9490-d5f4ba98b039\"}, {\"marker\": {\"line\": {\"width\": 2}, \"size\": [14, 3, 9], \"sizemode\": \"area\", \"sizeref\": 0.10526315789473684, \"symbol\": \"circle\"}, \"mode\": \"markers\", \"name\": \"Student_17\", \"text\": [\"14\", \"3\", \"9\"], \"x\": [\"Student_17\", \"Student_17\", \"Student_17\", \"Student_17\"], \"y\": [\"Hits\", \"Readings\", \"Posts\"], \"type\": \"scatter\", \"uid\": \"a2aa776e-e287-11e8-9490-d5f4ba98b039\"}, {\"marker\": {\"line\": {\"width\": 2}, \"size\": [6, 15, 12], \"sizemode\": \"area\", \"sizeref\": 0.10526315789473684, \"symbol\": \"circle\"}, \"mode\": \"markers\", \"name\": \"Student_18\", \"text\": [\"6\", \"15\", \"12\"], \"x\": [\"Student_18\", \"Student_18\", \"Student_18\", \"Student_18\"], \"y\": [\"Hits\", \"Readings\", \"Posts\"], \"type\": \"scatter\", \"uid\": \"a2aa7804-e287-11e8-9490-d5f4ba98b039\"}, {\"marker\": {\"line\": {\"width\": 2}, \"size\": [17, 18, 9], \"sizemode\": \"area\", \"sizeref\": 0.10526315789473684, \"symbol\": \"circle\"}, \"mode\": \"markers\", \"name\": \"Student_19\", \"text\": [\"17\", \"18\", \"9\"], \"x\": [\"Student_19\", \"Student_19\", \"Student_19\", \"Student_19\"], \"y\": [\"Hits\", \"Readings\", \"Posts\"], \"type\": \"scatter\", \"uid\": \"a2aa7886-e287-11e8-9490-d5f4ba98b039\"}, {\"marker\": {\"line\": {\"width\": 2}, \"size\": [13, 12, 17], \"sizemode\": \"area\", \"sizeref\": 0.10526315789473684, \"symbol\": \"circle\"}, \"mode\": \"markers\", \"name\": \"Student_20\", \"text\": [\"13\", \"12\", \"17\"], \"x\": [\"Student_20\", \"Student_20\", \"Student_20\", \"Student_20\"], \"y\": [\"Hits\", \"Readings\", \"Posts\"], \"type\": \"scatter\", \"uid\": \"a2aa7908-e287-11e8-9490-d5f4ba98b039\"}], {\"hovermode\": \"closest\", \"showlegend\": true, \"title\": \"N\\u00famero de acessos a Posts, Leituras e Likes por estudante\", \"xaxis\": {\"autorange\": false, \"fixedrange\": false, \"range\": [-1, 20], \"rangemode\": \"normal\", \"showline\": true, \"title\": \"Estudantes\", \"type\": \"category\"}, \"yaxis\": {\"autorange\": false, \"categoryorder\": \"category ascending\", \"fixedrange\": false, \"range\": [-1, 3], \"rangemode\": \"normal\", \"showline\": true, \"type\": \"category\"}}, {\"showLink\": true, \"linkText\": \"Export to plot.ly\"})});</script>"
      ],
      "text/vnd.plotly.v1+html": [
       "<div id=\"9e577237-58f6-4d73-aee9-593ebb0ca862\" style=\"height: 525px; width: 100%;\" class=\"plotly-graph-div\"></div><script type=\"text/javascript\">require([\"plotly\"], function(Plotly) { window.PLOTLYENV=window.PLOTLYENV || {};window.PLOTLYENV.BASE_URL=\"https://plot.ly\";Plotly.newPlot(\"9e577237-58f6-4d73-aee9-593ebb0ca862\", [{\"marker\": {\"line\": {\"width\": 2}, \"size\": [9, 1, 11], \"sizemode\": \"area\", \"sizeref\": 0.10526315789473684, \"symbol\": \"circle\"}, \"mode\": \"markers\", \"name\": \"Student_1\", \"text\": [\"9\", \"1\", \"11\"], \"x\": [\"Student_1\", \"Student_1\", \"Student_1\", \"Student_1\"], \"y\": [\"Hits\", \"Readings\", \"Posts\"], \"type\": \"scatter\", \"uid\": \"a2aa6be8-e287-11e8-9490-d5f4ba98b039\"}, {\"marker\": {\"line\": {\"width\": 2}, \"size\": [10, 15, 14], \"sizemode\": \"area\", \"sizeref\": 0.10526315789473684, \"symbol\": \"circle\"}, \"mode\": \"markers\", \"name\": \"Student_2\", \"text\": [\"10\", \"15\", \"14\"], \"x\": [\"Student_2\", \"Student_2\", \"Student_2\", \"Student_2\"], \"y\": [\"Hits\", \"Readings\", \"Posts\"], \"type\": \"scatter\", \"uid\": \"a2aa6da0-e287-11e8-9490-d5f4ba98b039\"}, {\"marker\": {\"line\": {\"width\": 2}, \"size\": [17, 0, 16], \"sizemode\": \"area\", \"sizeref\": 0.10526315789473684, \"symbol\": \"circle\"}, \"mode\": \"markers\", \"name\": \"Student_3\", \"text\": [\"17\", \"0\", \"16\"], \"x\": [\"Student_3\", \"Student_3\", \"Student_3\", \"Student_3\"], \"y\": [\"Hits\", \"Readings\", \"Posts\"], \"type\": \"scatter\", \"uid\": \"a2aa6e68-e287-11e8-9490-d5f4ba98b039\"}, {\"marker\": {\"line\": {\"width\": 2}, \"size\": [8, 9, 19], \"sizemode\": \"area\", \"sizeref\": 0.10526315789473684, \"symbol\": \"circle\"}, \"mode\": \"markers\", \"name\": \"Student_4\", \"text\": [\"8\", \"9\", \"19\"], \"x\": [\"Student_4\", \"Student_4\", \"Student_4\", \"Student_4\"], \"y\": [\"Hits\", \"Readings\", \"Posts\"], \"type\": \"scatter\", \"uid\": \"a2aa6f12-e287-11e8-9490-d5f4ba98b039\"}, {\"marker\": {\"line\": {\"width\": 2}, \"size\": [3, 12, 12], \"sizemode\": \"area\", \"sizeref\": 0.10526315789473684, \"symbol\": \"circle\"}, \"mode\": \"markers\", \"name\": \"Student_5\", \"text\": [\"3\", \"12\", \"12\"], \"x\": [\"Student_5\", \"Student_5\", \"Student_5\", \"Student_5\"], \"y\": [\"Hits\", \"Readings\", \"Posts\"], \"type\": \"scatter\", \"uid\": \"a2aa6fb2-e287-11e8-9490-d5f4ba98b039\"}, {\"marker\": {\"line\": {\"width\": 2}, \"size\": [5, 1, 5], \"sizemode\": \"area\", \"sizeref\": 0.10526315789473684, \"symbol\": \"circle\"}, \"mode\": \"markers\", \"name\": \"Student_6\", \"text\": [\"5\", \"1\", \"5\"], \"x\": [\"Student_6\", \"Student_6\", \"Student_6\", \"Student_6\"], \"y\": [\"Hits\", \"Readings\", \"Posts\"], \"type\": \"scatter\", \"uid\": \"a2aa7048-e287-11e8-9490-d5f4ba98b039\"}, {\"marker\": {\"line\": {\"width\": 2}, \"size\": [17, 16, 12], \"sizemode\": \"area\", \"sizeref\": 0.10526315789473684, \"symbol\": \"circle\"}, \"mode\": \"markers\", \"name\": \"Student_7\", \"text\": [\"17\", \"16\", \"12\"], \"x\": [\"Student_7\", \"Student_7\", \"Student_7\", \"Student_7\"], \"y\": [\"Hits\", \"Readings\", \"Posts\"], \"type\": \"scatter\", \"uid\": \"a2aa70d4-e287-11e8-9490-d5f4ba98b039\"}, {\"marker\": {\"line\": {\"width\": 2}, \"size\": [11, 7, 4], \"sizemode\": \"area\", \"sizeref\": 0.10526315789473684, \"symbol\": \"circle\"}, \"mode\": \"markers\", \"name\": \"Student_8\", \"text\": [\"11\", \"7\", \"4\"], \"x\": [\"Student_8\", \"Student_8\", \"Student_8\", \"Student_8\"], \"y\": [\"Hits\", \"Readings\", \"Posts\"], \"type\": \"scatter\", \"uid\": \"a2aa7160-e287-11e8-9490-d5f4ba98b039\"}, {\"marker\": {\"line\": {\"width\": 2}, \"size\": [11, 18, 16], \"sizemode\": \"area\", \"sizeref\": 0.10526315789473684, \"symbol\": \"circle\"}, \"mode\": \"markers\", \"name\": \"Student_9\", \"text\": [\"11\", \"18\", \"16\"], \"x\": [\"Student_9\", \"Student_9\", \"Student_9\", \"Student_9\"], \"y\": [\"Hits\", \"Readings\", \"Posts\"], \"type\": \"scatter\", \"uid\": \"a2aa71f6-e287-11e8-9490-d5f4ba98b039\"}, {\"marker\": {\"line\": {\"width\": 2}, \"size\": [5, 3, 15], \"sizemode\": \"area\", \"sizeref\": 0.10526315789473684, \"symbol\": \"circle\"}, \"mode\": \"markers\", \"name\": \"Student_10\", \"text\": [\"5\", \"3\", \"15\"], \"x\": [\"Student_10\", \"Student_10\", \"Student_10\", \"Student_10\"], \"y\": [\"Hits\", \"Readings\", \"Posts\"], \"type\": \"scatter\", \"uid\": \"a2aa7282-e287-11e8-9490-d5f4ba98b039\"}, {\"marker\": {\"line\": {\"width\": 2}, \"size\": [18, 5, 0], \"sizemode\": \"area\", \"sizeref\": 0.10526315789473684, \"symbol\": \"circle\"}, \"mode\": \"markers\", \"name\": \"Student_11\", \"text\": [\"18\", \"5\", \"0\"], \"x\": [\"Student_11\", \"Student_11\", \"Student_11\", \"Student_11\"], \"y\": [\"Hits\", \"Readings\", \"Posts\"], \"type\": \"scatter\", \"uid\": \"a2aa730e-e287-11e8-9490-d5f4ba98b039\"}, {\"marker\": {\"line\": {\"width\": 2}, \"size\": [15, 12, 15], \"sizemode\": \"area\", \"sizeref\": 0.10526315789473684, \"symbol\": \"circle\"}, \"mode\": \"markers\", \"name\": \"Student_12\", \"text\": [\"15\", \"12\", \"15\"], \"x\": [\"Student_12\", \"Student_12\", \"Student_12\", \"Student_12\"], \"y\": [\"Hits\", \"Readings\", \"Posts\"], \"type\": \"scatter\", \"uid\": \"a2aa73a4-e287-11e8-9490-d5f4ba98b039\"}, {\"marker\": {\"line\": {\"width\": 2}, \"size\": [11, 9, 7], \"sizemode\": \"area\", \"sizeref\": 0.10526315789473684, \"symbol\": \"circle\"}, \"mode\": \"markers\", \"name\": \"Student_13\", \"text\": [\"11\", \"9\", \"7\"], \"x\": [\"Student_13\", \"Student_13\", \"Student_13\", \"Student_13\"], \"y\": [\"Hits\", \"Readings\", \"Posts\"], \"type\": \"scatter\", \"uid\": \"a2aa7430-e287-11e8-9490-d5f4ba98b039\"}, {\"marker\": {\"line\": {\"width\": 2}, \"size\": [0, 19, 15], \"sizemode\": \"area\", \"sizeref\": 0.10526315789473684, \"symbol\": \"circle\"}, \"mode\": \"markers\", \"name\": \"Student_14\", \"text\": [\"0\", \"19\", \"15\"], \"x\": [\"Student_14\", \"Student_14\", \"Student_14\", \"Student_14\"], \"y\": [\"Hits\", \"Readings\", \"Posts\"], \"type\": \"scatter\", \"uid\": \"a2aa74bc-e287-11e8-9490-d5f4ba98b039\"}, {\"marker\": {\"line\": {\"width\": 2}, \"size\": [4, 6, 6], \"sizemode\": \"area\", \"sizeref\": 0.10526315789473684, \"symbol\": \"circle\"}, \"mode\": \"markers\", \"name\": \"Student_15\", \"text\": [\"4\", \"6\", \"6\"], \"x\": [\"Student_15\", \"Student_15\", \"Student_15\", \"Student_15\"], \"y\": [\"Hits\", \"Readings\", \"Posts\"], \"type\": \"scatter\", \"uid\": \"a2aa7548-e287-11e8-9490-d5f4ba98b039\"}, {\"marker\": {\"line\": {\"width\": 2}, \"size\": [2, 14, 2], \"sizemode\": \"area\", \"sizeref\": 0.10526315789473684, \"symbol\": \"circle\"}, \"mode\": \"markers\", \"name\": \"Student_16\", \"text\": [\"2\", \"14\", \"2\"], \"x\": [\"Student_16\", \"Student_16\", \"Student_16\", \"Student_16\"], \"y\": [\"Hits\", \"Readings\", \"Posts\"], \"type\": \"scatter\", \"uid\": \"a2aa75d4-e287-11e8-9490-d5f4ba98b039\"}, {\"marker\": {\"line\": {\"width\": 2}, \"size\": [14, 3, 9], \"sizemode\": \"area\", \"sizeref\": 0.10526315789473684, \"symbol\": \"circle\"}, \"mode\": \"markers\", \"name\": \"Student_17\", \"text\": [\"14\", \"3\", \"9\"], \"x\": [\"Student_17\", \"Student_17\", \"Student_17\", \"Student_17\"], \"y\": [\"Hits\", \"Readings\", \"Posts\"], \"type\": \"scatter\", \"uid\": \"a2aa776e-e287-11e8-9490-d5f4ba98b039\"}, {\"marker\": {\"line\": {\"width\": 2}, \"size\": [6, 15, 12], \"sizemode\": \"area\", \"sizeref\": 0.10526315789473684, \"symbol\": \"circle\"}, \"mode\": \"markers\", \"name\": \"Student_18\", \"text\": [\"6\", \"15\", \"12\"], \"x\": [\"Student_18\", \"Student_18\", \"Student_18\", \"Student_18\"], \"y\": [\"Hits\", \"Readings\", \"Posts\"], \"type\": \"scatter\", \"uid\": \"a2aa7804-e287-11e8-9490-d5f4ba98b039\"}, {\"marker\": {\"line\": {\"width\": 2}, \"size\": [17, 18, 9], \"sizemode\": \"area\", \"sizeref\": 0.10526315789473684, \"symbol\": \"circle\"}, \"mode\": \"markers\", \"name\": \"Student_19\", \"text\": [\"17\", \"18\", \"9\"], \"x\": [\"Student_19\", \"Student_19\", \"Student_19\", \"Student_19\"], \"y\": [\"Hits\", \"Readings\", \"Posts\"], \"type\": \"scatter\", \"uid\": \"a2aa7886-e287-11e8-9490-d5f4ba98b039\"}, {\"marker\": {\"line\": {\"width\": 2}, \"size\": [13, 12, 17], \"sizemode\": \"area\", \"sizeref\": 0.10526315789473684, \"symbol\": \"circle\"}, \"mode\": \"markers\", \"name\": \"Student_20\", \"text\": [\"13\", \"12\", \"17\"], \"x\": [\"Student_20\", \"Student_20\", \"Student_20\", \"Student_20\"], \"y\": [\"Hits\", \"Readings\", \"Posts\"], \"type\": \"scatter\", \"uid\": \"a2aa7908-e287-11e8-9490-d5f4ba98b039\"}], {\"hovermode\": \"closest\", \"showlegend\": true, \"title\": \"N\\u00famero de acessos a Posts, Leituras e Likes por estudante\", \"xaxis\": {\"autorange\": false, \"fixedrange\": false, \"range\": [-1, 20], \"rangemode\": \"normal\", \"showline\": true, \"title\": \"Estudantes\", \"type\": \"category\"}, \"yaxis\": {\"autorange\": false, \"categoryorder\": \"category ascending\", \"fixedrange\": false, \"range\": [-1, 3], \"rangemode\": \"normal\", \"showline\": true, \"type\": \"category\"}}, {\"showLink\": true, \"linkText\": \"Export to plot.ly\"})});</script>"
      ]
     },
     "metadata": {},
     "output_type": "display_data"
    },
    {
     "data": {
      "application/vnd.plotly.v1+json": {
       "data": [
        {
         "colorscale": [
          [
           0,
           "rgb(255,255,255)"
          ],
          [
           1,
           "rgb(0,0,255)"
          ]
         ],
         "type": "heatmap",
         "uid": "a2af131e-e287-11e8-9490-d5f4ba98b039",
         "x": [
          "Hits",
          "Readings",
          "Posts"
         ],
         "y": [
          "Student_1",
          "Student_2",
          "Student_3",
          "Student_4",
          "Student_5",
          "Student_6",
          "Student_7",
          "Student_8",
          "Student_9",
          "Student_10",
          "Student_11",
          "Student_12",
          "Student_13",
          "Student_14",
          "Student_15",
          "Student_16",
          "Student_17",
          "Student_18",
          "Student_19",
          "Student_20"
         ],
         "z": [
          [
           9,
           1,
           11
          ],
          [
           10,
           15,
           14
          ],
          [
           17,
           0,
           16
          ],
          [
           8,
           9,
           19
          ],
          [
           3,
           12,
           12
          ],
          [
           5,
           1,
           5
          ],
          [
           17,
           16,
           12
          ],
          [
           11,
           7,
           4
          ],
          [
           11,
           18,
           16
          ],
          [
           5,
           3,
           15
          ],
          [
           18,
           5,
           0
          ],
          [
           15,
           12,
           15
          ],
          [
           11,
           9,
           7
          ],
          [
           0,
           19,
           15
          ],
          [
           4,
           6,
           6
          ],
          [
           2,
           14,
           2
          ],
          [
           14,
           3,
           9
          ],
          [
           6,
           15,
           12
          ],
          [
           17,
           18,
           9
          ],
          [
           13,
           12,
           17
          ]
         ]
        }
       ],
       "layout": {
        "title": "Número de acessos a Posts, Leituras e Likes por estudante",
        "yaxis": {
         "dtick": 1,
         "exponentformat": "e",
         "gridcolor": "#bdbdbd",
         "showexponent": "all",
         "showticklabels": true,
         "tick0": 0,
         "titlefont": {
          "color": "lightgrey",
          "family": "Arial, sans-serif"
         }
        }
       }
      },
      "text/html": [
       "<div id=\"0e1be6b8-3d7c-47a0-b937-2ec712c0ec38\" style=\"height: 525px; width: 100%;\" class=\"plotly-graph-div\"></div><script type=\"text/javascript\">require([\"plotly\"], function(Plotly) { window.PLOTLYENV=window.PLOTLYENV || {};window.PLOTLYENV.BASE_URL=\"https://plot.ly\";Plotly.newPlot(\"0e1be6b8-3d7c-47a0-b937-2ec712c0ec38\", [{\"colorscale\": [[0, \"rgb(255,255,255)\"], [1, \"rgb(0,0,255)\"]], \"x\": [\"Hits\", \"Readings\", \"Posts\"], \"y\": [\"Student_1\", \"Student_2\", \"Student_3\", \"Student_4\", \"Student_5\", \"Student_6\", \"Student_7\", \"Student_8\", \"Student_9\", \"Student_10\", \"Student_11\", \"Student_12\", \"Student_13\", \"Student_14\", \"Student_15\", \"Student_16\", \"Student_17\", \"Student_18\", \"Student_19\", \"Student_20\"], \"z\": [[9, 1, 11], [10, 15, 14], [17, 0, 16], [8, 9, 19], [3, 12, 12], [5, 1, 5], [17, 16, 12], [11, 7, 4], [11, 18, 16], [5, 3, 15], [18, 5, 0], [15, 12, 15], [11, 9, 7], [0, 19, 15], [4, 6, 6], [2, 14, 2], [14, 3, 9], [6, 15, 12], [17, 18, 9], [13, 12, 17]], \"type\": \"heatmap\", \"uid\": \"a2af131e-e287-11e8-9490-d5f4ba98b039\"}], {\"title\": \"N\\u00famero de acessos a Posts, Leituras e Likes por estudante\", \"yaxis\": {\"dtick\": 1, \"exponentformat\": \"e\", \"gridcolor\": \"#bdbdbd\", \"showexponent\": \"all\", \"showticklabels\": true, \"tick0\": 0, \"titlefont\": {\"color\": \"lightgrey\", \"family\": \"Arial, sans-serif\"}}}, {\"showLink\": true, \"linkText\": \"Export to plot.ly\"})});</script>"
      ],
      "text/vnd.plotly.v1+html": [
       "<div id=\"0e1be6b8-3d7c-47a0-b937-2ec712c0ec38\" style=\"height: 525px; width: 100%;\" class=\"plotly-graph-div\"></div><script type=\"text/javascript\">require([\"plotly\"], function(Plotly) { window.PLOTLYENV=window.PLOTLYENV || {};window.PLOTLYENV.BASE_URL=\"https://plot.ly\";Plotly.newPlot(\"0e1be6b8-3d7c-47a0-b937-2ec712c0ec38\", [{\"colorscale\": [[0, \"rgb(255,255,255)\"], [1, \"rgb(0,0,255)\"]], \"x\": [\"Hits\", \"Readings\", \"Posts\"], \"y\": [\"Student_1\", \"Student_2\", \"Student_3\", \"Student_4\", \"Student_5\", \"Student_6\", \"Student_7\", \"Student_8\", \"Student_9\", \"Student_10\", \"Student_11\", \"Student_12\", \"Student_13\", \"Student_14\", \"Student_15\", \"Student_16\", \"Student_17\", \"Student_18\", \"Student_19\", \"Student_20\"], \"z\": [[9, 1, 11], [10, 15, 14], [17, 0, 16], [8, 9, 19], [3, 12, 12], [5, 1, 5], [17, 16, 12], [11, 7, 4], [11, 18, 16], [5, 3, 15], [18, 5, 0], [15, 12, 15], [11, 9, 7], [0, 19, 15], [4, 6, 6], [2, 14, 2], [14, 3, 9], [6, 15, 12], [17, 18, 9], [13, 12, 17]], \"type\": \"heatmap\", \"uid\": \"a2af131e-e287-11e8-9490-d5f4ba98b039\"}], {\"title\": \"N\\u00famero de acessos a Posts, Leituras e Likes por estudante\", \"yaxis\": {\"dtick\": 1, \"exponentformat\": \"e\", \"gridcolor\": \"#bdbdbd\", \"showexponent\": \"all\", \"showticklabels\": true, \"tick0\": 0, \"titlefont\": {\"color\": \"lightgrey\", \"family\": \"Arial, sans-serif\"}}}, {\"showLink\": true, \"linkText\": \"Export to plot.ly\"})});</script>"
      ]
     },
     "metadata": {},
     "output_type": "display_data"
    }
   ],
   "source": [
    "run scripts/V003.py"
   ]
  },
  {
   "cell_type": "markdown",
   "metadata": {},
   "source": [
    "### View 004"
   ]
  },
  {
   "cell_type": "code",
   "execution_count": 174,
   "metadata": {
    "scrolled": false
   },
   "outputs": [
    {
     "data": {
      "text/html": [
       "<script>requirejs.config({paths: { 'plotly': ['https://cdn.plot.ly/plotly-latest.min']},});if(!window.Plotly) {{require(['plotly'],function(plotly) {window.Plotly=plotly;});}}</script>"
      ],
      "text/vnd.plotly.v1+html": [
       "<script>requirejs.config({paths: { 'plotly': ['https://cdn.plot.ly/plotly-latest.min']},});if(!window.Plotly) {{require(['plotly'],function(plotly) {window.Plotly=plotly;});}}</script>"
      ]
     },
     "metadata": {},
     "output_type": "display_data"
    },
    {
     "data": {
      "application/vnd.plotly.v1+json": {
       "data": [
        {
         "cells": {
          "align": [
           "left",
           "center"
          ],
          "fill": {
           "color": "#F5F8FF"
          },
          "values": [
           [
            "Student_1",
            "Student_2",
            "Student_3",
            "Student_4",
            "Student_5",
            "Student_6",
            "Student_7",
            "Student_8",
            "Student_9",
            "Student_10",
            "Student_11",
            "Student_12",
            "Student_13",
            "Student_14",
            "Student_15",
            "Student_16",
            "Student_17",
            "Student_18",
            "Student_19",
            "Student_20"
           ],
           [
            [
             472,
             447
            ],
            [
             208,
             171
            ],
            [],
            [
             373
            ],
            [],
            [
             408
            ],
            [
             302,
             71
            ],
            [
             146,
             445,
             425,
             245
            ],
            [],
            [
             248,
             285,
             395,
             88
            ],
            [],
            [
             405,
             97,
             353
            ],
            [
             182,
             77
            ],
            [
             268,
             38,
             112,
             423
            ],
            [
             294,
             55,
             109
            ],
            [
             431,
             335,
             9
            ],
            [
             424,
             358,
             120,
             7
            ],
            [
             262,
             488,
             281
            ],
            [
             128,
             403,
             447,
             487
            ],
            [
             5
            ]
           ],
           [
            [
             196,
             136,
             5,
             128
            ],
            [
             118
            ],
            [
             158,
             154,
             202
            ],
            [
             233,
             66
            ],
            [
             56,
             122,
             137,
             219
            ],
            [
             50,
             59,
             270
            ],
            [
             268,
             43,
             35,
             217
            ],
            [
             80,
             231
            ],
            [],
            [],
            [
             222,
             127,
             158
            ],
            [
             89
            ],
            [
             22
            ],
            [
             121
            ],
            [
             35,
             165,
             110
            ],
            [],
            [
             184,
             51,
             196
            ],
            [
             262,
             228,
             146
            ],
            [
             193,
             207,
             273
            ],
            [
             37
            ]
           ],
           [
            [
             171,
             69
            ],
            [
             355
            ],
            [
             271,
             103,
             365
            ],
            [],
            [
             192,
             253
            ],
            [
             11,
             33,
             262
            ],
            [
             125
            ],
            [
             330,
             354,
             109,
             113
            ],
            [],
            [
             302,
             340,
             207,
             267
            ],
            [
             71
            ],
            [
             216,
             275
            ],
            [
             325,
             160
            ],
            [],
            [
             10,
             370,
             268,
             95
            ],
            [
             279
            ],
            [],
            [
             349
            ],
            [
             49
            ],
            [
             169,
             271,
             59,
             239
            ]
           ],
           [
            [
             72,
             294
            ],
            [
             344,
             393,
             70,
             341
            ],
            [],
            [
             307
            ],
            [
             247
            ],
            [
             415
            ],
            [],
            [],
            [
             258
            ],
            [
             200,
             149
            ],
            [],
            [
             78,
             130,
             270,
             141
            ],
            [],
            [
             90,
             173
            ],
            [
             99
            ],
            [],
            [],
            [],
            [],
            [
             133
            ]
           ],
           [
            [
             132,
             246,
             23
            ],
            [
             235,
             39
            ],
            [
             124
            ],
            [],
            [
             200,
             135,
             123
            ],
            [
             104,
             35
            ],
            [
             170,
             240
            ],
            [
             102,
             114,
             139,
             152
            ],
            [
             210,
             100,
             56,
             63
            ],
            [],
            [
             74,
             193
            ],
            [],
            [
             43,
             21,
             28,
             159
            ],
            [],
            [
             85,
             239,
             28
            ],
            [],
            [],
            [],
            [
             44,
             222
            ],
            [
             59
            ]
           ],
           [
            2391,
            2274,
            1377,
            979,
            1684,
            1647,
            1471,
            2985,
            687,
            2481,
            845,
            2054,
            1017,
            1225,
            1962,
            1054,
            1340,
            2016,
            2453,
            972
           ]
          ]
         },
         "header": {
          "align": "center",
          "fill": {
           "color": "#C2D4FF"
          },
          "values": [
           "Students",
           "Video1 (287s)",
           "Video2 (514s)",
           "Video3 (275s)",
           "Video4 (379s)",
           "Video5 (441s)",
           "Total"
          ]
         },
         "type": "table",
         "uid": "c0a6cb3e-e28a-11e8-9490-d5f4ba98b039"
        }
       ],
       "layout": {}
      },
      "text/html": [
       "<div id=\"1b13ea94-9225-4374-8c54-014ca2e63b95\" style=\"height: 525px; width: 100%;\" class=\"plotly-graph-div\"></div><script type=\"text/javascript\">require([\"plotly\"], function(Plotly) { window.PLOTLYENV=window.PLOTLYENV || {};window.PLOTLYENV.BASE_URL=\"https://plot.ly\";Plotly.newPlot(\"1b13ea94-9225-4374-8c54-014ca2e63b95\", [{\"cells\": {\"align\": [\"left\", \"center\"], \"fill\": {\"color\": \"#F5F8FF\"}, \"values\": [[\"Student_1\", \"Student_2\", \"Student_3\", \"Student_4\", \"Student_5\", \"Student_6\", \"Student_7\", \"Student_8\", \"Student_9\", \"Student_10\", \"Student_11\", \"Student_12\", \"Student_13\", \"Student_14\", \"Student_15\", \"Student_16\", \"Student_17\", \"Student_18\", \"Student_19\", \"Student_20\"], [[472, 447], [208, 171], [], [373], [], [408], [302, 71], [146, 445, 425, 245], [], [248, 285, 395, 88], [], [405, 97, 353], [182, 77], [268, 38, 112, 423], [294, 55, 109], [431, 335, 9], [424, 358, 120, 7], [262, 488, 281], [128, 403, 447, 487], [5]], [[196, 136, 5, 128], [118], [158, 154, 202], [233, 66], [56, 122, 137, 219], [50, 59, 270], [268, 43, 35, 217], [80, 231], [], [], [222, 127, 158], [89], [22], [121], [35, 165, 110], [], [184, 51, 196], [262, 228, 146], [193, 207, 273], [37]], [[171, 69], [355], [271, 103, 365], [], [192, 253], [11, 33, 262], [125], [330, 354, 109, 113], [], [302, 340, 207, 267], [71], [216, 275], [325, 160], [], [10, 370, 268, 95], [279], [], [349], [49], [169, 271, 59, 239]], [[72, 294], [344, 393, 70, 341], [], [307], [247], [415], [], [], [258], [200, 149], [], [78, 130, 270, 141], [], [90, 173], [99], [], [], [], [], [133]], [[132, 246, 23], [235, 39], [124], [], [200, 135, 123], [104, 35], [170, 240], [102, 114, 139, 152], [210, 100, 56, 63], [], [74, 193], [], [43, 21, 28, 159], [], [85, 239, 28], [], [], [], [44, 222], [59]], [2391, 2274, 1377, 979, 1684, 1647, 1471, 2985, 687, 2481, 845, 2054, 1017, 1225, 1962, 1054, 1340, 2016, 2453, 972]]}, \"header\": {\"align\": \"center\", \"fill\": {\"color\": \"#C2D4FF\"}, \"values\": [\"Students\", \"Video1 (287s)\", \"Video2 (514s)\", \"Video3 (275s)\", \"Video4 (379s)\", \"Video5 (441s)\", \"Total\"]}, \"type\": \"table\", \"uid\": \"c0a9d48c-e28a-11e8-9490-d5f4ba98b039\"}], {}, {\"showLink\": true, \"linkText\": \"Export to plot.ly\"})});</script>"
      ],
      "text/vnd.plotly.v1+html": [
       "<div id=\"1b13ea94-9225-4374-8c54-014ca2e63b95\" style=\"height: 525px; width: 100%;\" class=\"plotly-graph-div\"></div><script type=\"text/javascript\">require([\"plotly\"], function(Plotly) { window.PLOTLYENV=window.PLOTLYENV || {};window.PLOTLYENV.BASE_URL=\"https://plot.ly\";Plotly.newPlot(\"1b13ea94-9225-4374-8c54-014ca2e63b95\", [{\"cells\": {\"align\": [\"left\", \"center\"], \"fill\": {\"color\": \"#F5F8FF\"}, \"values\": [[\"Student_1\", \"Student_2\", \"Student_3\", \"Student_4\", \"Student_5\", \"Student_6\", \"Student_7\", \"Student_8\", \"Student_9\", \"Student_10\", \"Student_11\", \"Student_12\", \"Student_13\", \"Student_14\", \"Student_15\", \"Student_16\", \"Student_17\", \"Student_18\", \"Student_19\", \"Student_20\"], [[472, 447], [208, 171], [], [373], [], [408], [302, 71], [146, 445, 425, 245], [], [248, 285, 395, 88], [], [405, 97, 353], [182, 77], [268, 38, 112, 423], [294, 55, 109], [431, 335, 9], [424, 358, 120, 7], [262, 488, 281], [128, 403, 447, 487], [5]], [[196, 136, 5, 128], [118], [158, 154, 202], [233, 66], [56, 122, 137, 219], [50, 59, 270], [268, 43, 35, 217], [80, 231], [], [], [222, 127, 158], [89], [22], [121], [35, 165, 110], [], [184, 51, 196], [262, 228, 146], [193, 207, 273], [37]], [[171, 69], [355], [271, 103, 365], [], [192, 253], [11, 33, 262], [125], [330, 354, 109, 113], [], [302, 340, 207, 267], [71], [216, 275], [325, 160], [], [10, 370, 268, 95], [279], [], [349], [49], [169, 271, 59, 239]], [[72, 294], [344, 393, 70, 341], [], [307], [247], [415], [], [], [258], [200, 149], [], [78, 130, 270, 141], [], [90, 173], [99], [], [], [], [], [133]], [[132, 246, 23], [235, 39], [124], [], [200, 135, 123], [104, 35], [170, 240], [102, 114, 139, 152], [210, 100, 56, 63], [], [74, 193], [], [43, 21, 28, 159], [], [85, 239, 28], [], [], [], [44, 222], [59]], [2391, 2274, 1377, 979, 1684, 1647, 1471, 2985, 687, 2481, 845, 2054, 1017, 1225, 1962, 1054, 1340, 2016, 2453, 972]]}, \"header\": {\"align\": \"center\", \"fill\": {\"color\": \"#C2D4FF\"}, \"values\": [\"Students\", \"Video1 (287s)\", \"Video2 (514s)\", \"Video3 (275s)\", \"Video4 (379s)\", \"Video5 (441s)\", \"Total\"]}, \"type\": \"table\", \"uid\": \"c0a9d48c-e28a-11e8-9490-d5f4ba98b039\"}], {}, {\"showLink\": true, \"linkText\": \"Export to plot.ly\"})});</script>"
      ]
     },
     "metadata": {},
     "output_type": "display_data"
    },
    {
     "name": "stdout",
     "output_type": "stream",
     "text": [
      "    Video1  Video2  Video3  Video4  Video5  Total\n",
      "0      919     465     240     366     401   2391\n",
      "1      379     118     355    1148     274   2274\n",
      "2        0     514     739       0     124   1377\n",
      "3      373     299       0     307       0    979\n",
      "4        0     534     445     247     458   1684\n",
      "5      408     379     306     415     139   1647\n",
      "6      373     563     125       0     410   1471\n",
      "7     1261     311     906       0     507   2985\n",
      "8        0       0       0     258     429    687\n",
      "9     1016       0    1116     349       0   2481\n",
      "10       0     507      71       0     267    845\n",
      "11     855      89     491     619       0   2054\n",
      "12     259      22     485       0     251   1017\n",
      "13     841     121       0     263       0   1225\n",
      "14     458     310     743      99     352   1962\n",
      "15     775       0     279       0       0   1054\n",
      "16     909     431       0       0       0   1340\n",
      "17    1031     636     349       0       0   2016\n",
      "18    1465     673      49       0     266   2453\n",
      "19       5      37     738     133      59    972\n",
      "4.0\n"
     ]
    },
    {
     "data": {
      "application/vnd.plotly.v1+json": {
       "data": [
        {
         "marker": {
          "line": {
           "width": 2
          },
          "size": [
           919,
           465,
           240,
           366,
           401,
           2391
          ],
          "sizemode": "area",
          "sizeref": 4,
          "symbol": "circle"
         },
         "mode": "markers",
         "name": "Student_1",
         "text": [
          "919",
          "465",
          "240",
          "366",
          "401",
          "2391"
         ],
         "type": "scatter",
         "uid": "c0d5955e-e28a-11e8-9490-d5f4ba98b039",
         "x": [
          "Student_1",
          "Student_1",
          "Student_1",
          "Student_1",
          "Student_1",
          "Student_1"
         ],
         "y": [
          "Video1",
          "Video2",
          "Video3",
          "Video4",
          "Video5",
          "Total"
         ]
        },
        {
         "marker": {
          "line": {
           "width": 2
          },
          "size": [
           379,
           118,
           355,
           1148,
           274,
           2274
          ],
          "sizemode": "area",
          "sizeref": 4,
          "symbol": "circle"
         },
         "mode": "markers",
         "name": "Student_2",
         "text": [
          "379",
          "118",
          "355",
          "1148",
          "274",
          "2274"
         ],
         "type": "scatter",
         "uid": "c0d59748-e28a-11e8-9490-d5f4ba98b039",
         "x": [
          "Student_2",
          "Student_2",
          "Student_2",
          "Student_2",
          "Student_2",
          "Student_2"
         ],
         "y": [
          "Video1",
          "Video2",
          "Video3",
          "Video4",
          "Video5",
          "Total"
         ]
        },
        {
         "marker": {
          "line": {
           "width": 2
          },
          "size": [
           0,
           514,
           739,
           0,
           124,
           1377
          ],
          "sizemode": "area",
          "sizeref": 4,
          "symbol": "circle"
         },
         "mode": "markers",
         "name": "Student_3",
         "text": [
          "0",
          "514",
          "739",
          "0",
          "124",
          "1377"
         ],
         "type": "scatter",
         "uid": "c0d5984c-e28a-11e8-9490-d5f4ba98b039",
         "x": [
          "Student_3",
          "Student_3",
          "Student_3",
          "Student_3",
          "Student_3",
          "Student_3"
         ],
         "y": [
          "Video1",
          "Video2",
          "Video3",
          "Video4",
          "Video5",
          "Total"
         ]
        },
        {
         "marker": {
          "line": {
           "width": 2
          },
          "size": [
           373,
           299,
           0,
           307,
           0,
           979
          ],
          "sizemode": "area",
          "sizeref": 4,
          "symbol": "circle"
         },
         "mode": "markers",
         "name": "Student_4",
         "text": [
          "373",
          "299",
          "0",
          "307",
          "0",
          "979"
         ],
         "type": "scatter",
         "uid": "c0d5991e-e28a-11e8-9490-d5f4ba98b039",
         "x": [
          "Student_4",
          "Student_4",
          "Student_4",
          "Student_4",
          "Student_4",
          "Student_4"
         ],
         "y": [
          "Video1",
          "Video2",
          "Video3",
          "Video4",
          "Video5",
          "Total"
         ]
        },
        {
         "marker": {
          "line": {
           "width": 2
          },
          "size": [
           0,
           534,
           445,
           247,
           458,
           1684
          ],
          "sizemode": "area",
          "sizeref": 4,
          "symbol": "circle"
         },
         "mode": "markers",
         "name": "Student_5",
         "text": [
          "0",
          "534",
          "445",
          "247",
          "458",
          "1684"
         ],
         "type": "scatter",
         "uid": "c0d599dc-e28a-11e8-9490-d5f4ba98b039",
         "x": [
          "Student_5",
          "Student_5",
          "Student_5",
          "Student_5",
          "Student_5",
          "Student_5"
         ],
         "y": [
          "Video1",
          "Video2",
          "Video3",
          "Video4",
          "Video5",
          "Total"
         ]
        },
        {
         "marker": {
          "line": {
           "width": 2
          },
          "size": [
           408,
           379,
           306,
           415,
           139,
           1647
          ],
          "sizemode": "area",
          "sizeref": 4,
          "symbol": "circle"
         },
         "mode": "markers",
         "name": "Student_6",
         "text": [
          "408",
          "379",
          "306",
          "415",
          "139",
          "1647"
         ],
         "type": "scatter",
         "uid": "c0d59a9a-e28a-11e8-9490-d5f4ba98b039",
         "x": [
          "Student_6",
          "Student_6",
          "Student_6",
          "Student_6",
          "Student_6",
          "Student_6"
         ],
         "y": [
          "Video1",
          "Video2",
          "Video3",
          "Video4",
          "Video5",
          "Total"
         ]
        },
        {
         "marker": {
          "line": {
           "width": 2
          },
          "size": [
           373,
           563,
           125,
           0,
           410,
           1471
          ],
          "sizemode": "area",
          "sizeref": 4,
          "symbol": "circle"
         },
         "mode": "markers",
         "name": "Student_7",
         "text": [
          "373",
          "563",
          "125",
          "0",
          "410",
          "1471"
         ],
         "type": "scatter",
         "uid": "c0d59b44-e28a-11e8-9490-d5f4ba98b039",
         "x": [
          "Student_7",
          "Student_7",
          "Student_7",
          "Student_7",
          "Student_7",
          "Student_7"
         ],
         "y": [
          "Video1",
          "Video2",
          "Video3",
          "Video4",
          "Video5",
          "Total"
         ]
        },
        {
         "marker": {
          "line": {
           "width": 2
          },
          "size": [
           1261,
           311,
           906,
           0,
           507,
           2985
          ],
          "sizemode": "area",
          "sizeref": 4,
          "symbol": "circle"
         },
         "mode": "markers",
         "name": "Student_8",
         "text": [
          "1261",
          "311",
          "906",
          "0",
          "507",
          "2985"
         ],
         "type": "scatter",
         "uid": "c0d59bf8-e28a-11e8-9490-d5f4ba98b039",
         "x": [
          "Student_8",
          "Student_8",
          "Student_8",
          "Student_8",
          "Student_8",
          "Student_8"
         ],
         "y": [
          "Video1",
          "Video2",
          "Video3",
          "Video4",
          "Video5",
          "Total"
         ]
        },
        {
         "marker": {
          "line": {
           "width": 2
          },
          "size": [
           0,
           0,
           0,
           258,
           429,
           687
          ],
          "sizemode": "area",
          "sizeref": 4,
          "symbol": "circle"
         },
         "mode": "markers",
         "name": "Student_9",
         "text": [
          "0",
          "0",
          "0",
          "258",
          "429",
          "687"
         ],
         "type": "scatter",
         "uid": "c0d59cb6-e28a-11e8-9490-d5f4ba98b039",
         "x": [
          "Student_9",
          "Student_9",
          "Student_9",
          "Student_9",
          "Student_9",
          "Student_9"
         ],
         "y": [
          "Video1",
          "Video2",
          "Video3",
          "Video4",
          "Video5",
          "Total"
         ]
        },
        {
         "marker": {
          "line": {
           "width": 2
          },
          "size": [
           1016,
           0,
           1116,
           349,
           0,
           2481
          ],
          "sizemode": "area",
          "sizeref": 4,
          "symbol": "circle"
         },
         "mode": "markers",
         "name": "Student_10",
         "text": [
          "1016",
          "0",
          "1116",
          "349",
          "0",
          "2481"
         ],
         "type": "scatter",
         "uid": "c0d59d60-e28a-11e8-9490-d5f4ba98b039",
         "x": [
          "Student_10",
          "Student_10",
          "Student_10",
          "Student_10",
          "Student_10",
          "Student_10"
         ],
         "y": [
          "Video1",
          "Video2",
          "Video3",
          "Video4",
          "Video5",
          "Total"
         ]
        },
        {
         "marker": {
          "line": {
           "width": 2
          },
          "size": [
           0,
           507,
           71,
           0,
           267,
           845
          ],
          "sizemode": "area",
          "sizeref": 4,
          "symbol": "circle"
         },
         "mode": "markers",
         "name": "Student_11",
         "text": [
          "0",
          "507",
          "71",
          "0",
          "267",
          "845"
         ],
         "type": "scatter",
         "uid": "c0d59df6-e28a-11e8-9490-d5f4ba98b039",
         "x": [
          "Student_11",
          "Student_11",
          "Student_11",
          "Student_11",
          "Student_11",
          "Student_11"
         ],
         "y": [
          "Video1",
          "Video2",
          "Video3",
          "Video4",
          "Video5",
          "Total"
         ]
        },
        {
         "marker": {
          "line": {
           "width": 2
          },
          "size": [
           855,
           89,
           491,
           619,
           0,
           2054
          ],
          "sizemode": "area",
          "sizeref": 4,
          "symbol": "circle"
         },
         "mode": "markers",
         "name": "Student_12",
         "text": [
          "855",
          "89",
          "491",
          "619",
          "0",
          "2054"
         ],
         "type": "scatter",
         "uid": "c0d59ea0-e28a-11e8-9490-d5f4ba98b039",
         "x": [
          "Student_12",
          "Student_12",
          "Student_12",
          "Student_12",
          "Student_12",
          "Student_12"
         ],
         "y": [
          "Video1",
          "Video2",
          "Video3",
          "Video4",
          "Video5",
          "Total"
         ]
        },
        {
         "marker": {
          "line": {
           "width": 2
          },
          "size": [
           259,
           22,
           485,
           0,
           251,
           1017
          ],
          "sizemode": "area",
          "sizeref": 4,
          "symbol": "circle"
         },
         "mode": "markers",
         "name": "Student_13",
         "text": [
          "259",
          "22",
          "485",
          "0",
          "251",
          "1017"
         ],
         "type": "scatter",
         "uid": "c0d59f54-e28a-11e8-9490-d5f4ba98b039",
         "x": [
          "Student_13",
          "Student_13",
          "Student_13",
          "Student_13",
          "Student_13",
          "Student_13"
         ],
         "y": [
          "Video1",
          "Video2",
          "Video3",
          "Video4",
          "Video5",
          "Total"
         ]
        },
        {
         "marker": {
          "line": {
           "width": 2
          },
          "size": [
           841,
           121,
           0,
           263,
           0,
           1225
          ],
          "sizemode": "area",
          "sizeref": 4,
          "symbol": "circle"
         },
         "mode": "markers",
         "name": "Student_14",
         "text": [
          "841",
          "121",
          "0",
          "263",
          "0",
          "1225"
         ],
         "type": "scatter",
         "uid": "c0d59ff4-e28a-11e8-9490-d5f4ba98b039",
         "x": [
          "Student_14",
          "Student_14",
          "Student_14",
          "Student_14",
          "Student_14",
          "Student_14"
         ],
         "y": [
          "Video1",
          "Video2",
          "Video3",
          "Video4",
          "Video5",
          "Total"
         ]
        },
        {
         "marker": {
          "line": {
           "width": 2
          },
          "size": [
           458,
           310,
           743,
           99,
           352,
           1962
          ],
          "sizemode": "area",
          "sizeref": 4,
          "symbol": "circle"
         },
         "mode": "markers",
         "name": "Student_15",
         "text": [
          "458",
          "310",
          "743",
          "99",
          "352",
          "1962"
         ],
         "type": "scatter",
         "uid": "c0d5a08a-e28a-11e8-9490-d5f4ba98b039",
         "x": [
          "Student_15",
          "Student_15",
          "Student_15",
          "Student_15",
          "Student_15",
          "Student_15"
         ],
         "y": [
          "Video1",
          "Video2",
          "Video3",
          "Video4",
          "Video5",
          "Total"
         ]
        },
        {
         "marker": {
          "line": {
           "width": 2
          },
          "size": [
           775,
           0,
           279,
           0,
           0,
           1054
          ],
          "sizemode": "area",
          "sizeref": 4,
          "symbol": "circle"
         },
         "mode": "markers",
         "name": "Student_16",
         "text": [
          "775",
          "0",
          "279",
          "0",
          "0",
          "1054"
         ],
         "type": "scatter",
         "uid": "c0d5a12a-e28a-11e8-9490-d5f4ba98b039",
         "x": [
          "Student_16",
          "Student_16",
          "Student_16",
          "Student_16",
          "Student_16",
          "Student_16"
         ],
         "y": [
          "Video1",
          "Video2",
          "Video3",
          "Video4",
          "Video5",
          "Total"
         ]
        },
        {
         "marker": {
          "line": {
           "width": 2
          },
          "size": [
           909,
           431,
           0,
           0,
           0,
           1340
          ],
          "sizemode": "area",
          "sizeref": 4,
          "symbol": "circle"
         },
         "mode": "markers",
         "name": "Student_17",
         "text": [
          "909",
          "431",
          "0",
          "0",
          "0",
          "1340"
         ],
         "type": "scatter",
         "uid": "c0d5a850-e28a-11e8-9490-d5f4ba98b039",
         "x": [
          "Student_17",
          "Student_17",
          "Student_17",
          "Student_17",
          "Student_17",
          "Student_17"
         ],
         "y": [
          "Video1",
          "Video2",
          "Video3",
          "Video4",
          "Video5",
          "Total"
         ]
        },
        {
         "marker": {
          "line": {
           "width": 2
          },
          "size": [
           1031,
           636,
           349,
           0,
           0,
           2016
          ],
          "sizemode": "area",
          "sizeref": 4,
          "symbol": "circle"
         },
         "mode": "markers",
         "name": "Student_18",
         "text": [
          "1031",
          "636",
          "349",
          "0",
          "0",
          "2016"
         ],
         "type": "scatter",
         "uid": "c0d5a90e-e28a-11e8-9490-d5f4ba98b039",
         "x": [
          "Student_18",
          "Student_18",
          "Student_18",
          "Student_18",
          "Student_18",
          "Student_18"
         ],
         "y": [
          "Video1",
          "Video2",
          "Video3",
          "Video4",
          "Video5",
          "Total"
         ]
        },
        {
         "marker": {
          "line": {
           "width": 2
          },
          "size": [
           1465,
           673,
           49,
           0,
           266,
           2453
          ],
          "sizemode": "area",
          "sizeref": 4,
          "symbol": "circle"
         },
         "mode": "markers",
         "name": "Student_19",
         "text": [
          "1465",
          "673",
          "49",
          "0",
          "266",
          "2453"
         ],
         "type": "scatter",
         "uid": "c0d5a9b8-e28a-11e8-9490-d5f4ba98b039",
         "x": [
          "Student_19",
          "Student_19",
          "Student_19",
          "Student_19",
          "Student_19",
          "Student_19"
         ],
         "y": [
          "Video1",
          "Video2",
          "Video3",
          "Video4",
          "Video5",
          "Total"
         ]
        },
        {
         "marker": {
          "line": {
           "width": 2
          },
          "size": [
           5,
           37,
           738,
           133,
           59,
           972
          ],
          "sizemode": "area",
          "sizeref": 4,
          "symbol": "circle"
         },
         "mode": "markers",
         "name": "Student_20",
         "text": [
          "5",
          "37",
          "738",
          "133",
          "59",
          "972"
         ],
         "type": "scatter",
         "uid": "c0d5aa6c-e28a-11e8-9490-d5f4ba98b039",
         "x": [
          "Student_20",
          "Student_20",
          "Student_20",
          "Student_20",
          "Student_20",
          "Student_20"
         ],
         "y": [
          "Video1",
          "Video2",
          "Video3",
          "Video4",
          "Video5",
          "Total"
         ]
        }
       ],
       "layout": {
        "hovermode": "closest",
        "showlegend": true,
        "title": "Tempo de acesso aos vídeos por estudante",
        "xaxis": {
         "autorange": false,
         "fixedrange": false,
         "range": [
          -1,
          20
         ],
         "rangemode": "normal",
         "showline": true,
         "title": "Estudantes",
         "type": "category"
        },
        "yaxis": {
         "autorange": false,
         "fixedrange": false,
         "range": [
          -1,
          6
         ],
         "rangemode": "normal",
         "showline": true,
         "title": "Videos",
         "type": "category"
        }
       }
      },
      "text/html": [
       "<div id=\"16b8237a-28ef-4b13-a964-f247ae04fa76\" style=\"height: 525px; width: 100%;\" class=\"plotly-graph-div\"></div><script type=\"text/javascript\">require([\"plotly\"], function(Plotly) { window.PLOTLYENV=window.PLOTLYENV || {};window.PLOTLYENV.BASE_URL=\"https://plot.ly\";Plotly.newPlot(\"16b8237a-28ef-4b13-a964-f247ae04fa76\", [{\"marker\": {\"line\": {\"width\": 2}, \"size\": [919, 465, 240, 366, 401, 2391], \"sizemode\": \"area\", \"sizeref\": 4.0, \"symbol\": \"circle\"}, \"mode\": \"markers\", \"name\": \"Student_1\", \"text\": [\"919\", \"465\", \"240\", \"366\", \"401\", \"2391\"], \"x\": [\"Student_1\", \"Student_1\", \"Student_1\", \"Student_1\", \"Student_1\", \"Student_1\"], \"y\": [\"Video1\", \"Video2\", \"Video3\", \"Video4\", \"Video5\", \"Total\"], \"type\": \"scatter\", \"uid\": \"c0d5955e-e28a-11e8-9490-d5f4ba98b039\"}, {\"marker\": {\"line\": {\"width\": 2}, \"size\": [379, 118, 355, 1148, 274, 2274], \"sizemode\": \"area\", \"sizeref\": 4.0, \"symbol\": \"circle\"}, \"mode\": \"markers\", \"name\": \"Student_2\", \"text\": [\"379\", \"118\", \"355\", \"1148\", \"274\", \"2274\"], \"x\": [\"Student_2\", \"Student_2\", \"Student_2\", \"Student_2\", \"Student_2\", \"Student_2\"], \"y\": [\"Video1\", \"Video2\", \"Video3\", \"Video4\", \"Video5\", \"Total\"], \"type\": \"scatter\", \"uid\": \"c0d59748-e28a-11e8-9490-d5f4ba98b039\"}, {\"marker\": {\"line\": {\"width\": 2}, \"size\": [0, 514, 739, 0, 124, 1377], \"sizemode\": \"area\", \"sizeref\": 4.0, \"symbol\": \"circle\"}, \"mode\": \"markers\", \"name\": \"Student_3\", \"text\": [\"0\", \"514\", \"739\", \"0\", \"124\", \"1377\"], \"x\": [\"Student_3\", \"Student_3\", \"Student_3\", \"Student_3\", \"Student_3\", \"Student_3\"], \"y\": [\"Video1\", \"Video2\", \"Video3\", \"Video4\", \"Video5\", \"Total\"], \"type\": \"scatter\", \"uid\": \"c0d5984c-e28a-11e8-9490-d5f4ba98b039\"}, {\"marker\": {\"line\": {\"width\": 2}, \"size\": [373, 299, 0, 307, 0, 979], \"sizemode\": \"area\", \"sizeref\": 4.0, \"symbol\": \"circle\"}, \"mode\": \"markers\", \"name\": \"Student_4\", \"text\": [\"373\", \"299\", \"0\", \"307\", \"0\", \"979\"], \"x\": [\"Student_4\", \"Student_4\", \"Student_4\", \"Student_4\", \"Student_4\", \"Student_4\"], \"y\": [\"Video1\", \"Video2\", \"Video3\", \"Video4\", \"Video5\", \"Total\"], \"type\": \"scatter\", \"uid\": \"c0d5991e-e28a-11e8-9490-d5f4ba98b039\"}, {\"marker\": {\"line\": {\"width\": 2}, \"size\": [0, 534, 445, 247, 458, 1684], \"sizemode\": \"area\", \"sizeref\": 4.0, \"symbol\": \"circle\"}, \"mode\": \"markers\", \"name\": \"Student_5\", \"text\": [\"0\", \"534\", \"445\", \"247\", \"458\", \"1684\"], \"x\": [\"Student_5\", \"Student_5\", \"Student_5\", \"Student_5\", \"Student_5\", \"Student_5\"], \"y\": [\"Video1\", \"Video2\", \"Video3\", \"Video4\", \"Video5\", \"Total\"], \"type\": \"scatter\", \"uid\": \"c0d599dc-e28a-11e8-9490-d5f4ba98b039\"}, {\"marker\": {\"line\": {\"width\": 2}, \"size\": [408, 379, 306, 415, 139, 1647], \"sizemode\": \"area\", \"sizeref\": 4.0, \"symbol\": \"circle\"}, \"mode\": \"markers\", \"name\": \"Student_6\", \"text\": [\"408\", \"379\", \"306\", \"415\", \"139\", \"1647\"], \"x\": [\"Student_6\", \"Student_6\", \"Student_6\", \"Student_6\", \"Student_6\", \"Student_6\"], \"y\": [\"Video1\", \"Video2\", \"Video3\", \"Video4\", \"Video5\", \"Total\"], \"type\": \"scatter\", \"uid\": \"c0d59a9a-e28a-11e8-9490-d5f4ba98b039\"}, {\"marker\": {\"line\": {\"width\": 2}, \"size\": [373, 563, 125, 0, 410, 1471], \"sizemode\": \"area\", \"sizeref\": 4.0, \"symbol\": \"circle\"}, \"mode\": \"markers\", \"name\": \"Student_7\", \"text\": [\"373\", \"563\", \"125\", \"0\", \"410\", \"1471\"], \"x\": [\"Student_7\", \"Student_7\", \"Student_7\", \"Student_7\", \"Student_7\", \"Student_7\"], \"y\": [\"Video1\", \"Video2\", \"Video3\", \"Video4\", \"Video5\", \"Total\"], \"type\": \"scatter\", \"uid\": \"c0d59b44-e28a-11e8-9490-d5f4ba98b039\"}, {\"marker\": {\"line\": {\"width\": 2}, \"size\": [1261, 311, 906, 0, 507, 2985], \"sizemode\": \"area\", \"sizeref\": 4.0, \"symbol\": \"circle\"}, \"mode\": \"markers\", \"name\": \"Student_8\", \"text\": [\"1261\", \"311\", \"906\", \"0\", \"507\", \"2985\"], \"x\": [\"Student_8\", \"Student_8\", \"Student_8\", \"Student_8\", \"Student_8\", \"Student_8\"], \"y\": [\"Video1\", \"Video2\", \"Video3\", \"Video4\", \"Video5\", \"Total\"], \"type\": \"scatter\", \"uid\": \"c0d59bf8-e28a-11e8-9490-d5f4ba98b039\"}, {\"marker\": {\"line\": {\"width\": 2}, \"size\": [0, 0, 0, 258, 429, 687], \"sizemode\": \"area\", \"sizeref\": 4.0, \"symbol\": \"circle\"}, \"mode\": \"markers\", \"name\": \"Student_9\", \"text\": [\"0\", \"0\", \"0\", \"258\", \"429\", \"687\"], \"x\": [\"Student_9\", \"Student_9\", \"Student_9\", \"Student_9\", \"Student_9\", \"Student_9\"], \"y\": [\"Video1\", \"Video2\", \"Video3\", \"Video4\", \"Video5\", \"Total\"], \"type\": \"scatter\", \"uid\": \"c0d59cb6-e28a-11e8-9490-d5f4ba98b039\"}, {\"marker\": {\"line\": {\"width\": 2}, \"size\": [1016, 0, 1116, 349, 0, 2481], \"sizemode\": \"area\", \"sizeref\": 4.0, \"symbol\": \"circle\"}, \"mode\": \"markers\", \"name\": \"Student_10\", \"text\": [\"1016\", \"0\", \"1116\", \"349\", \"0\", \"2481\"], \"x\": [\"Student_10\", \"Student_10\", \"Student_10\", \"Student_10\", \"Student_10\", \"Student_10\"], \"y\": [\"Video1\", \"Video2\", \"Video3\", \"Video4\", \"Video5\", \"Total\"], \"type\": \"scatter\", \"uid\": \"c0d59d60-e28a-11e8-9490-d5f4ba98b039\"}, {\"marker\": {\"line\": {\"width\": 2}, \"size\": [0, 507, 71, 0, 267, 845], \"sizemode\": \"area\", \"sizeref\": 4.0, \"symbol\": \"circle\"}, \"mode\": \"markers\", \"name\": \"Student_11\", \"text\": [\"0\", \"507\", \"71\", \"0\", \"267\", \"845\"], \"x\": [\"Student_11\", \"Student_11\", \"Student_11\", \"Student_11\", \"Student_11\", \"Student_11\"], \"y\": [\"Video1\", \"Video2\", \"Video3\", \"Video4\", \"Video5\", \"Total\"], \"type\": \"scatter\", \"uid\": \"c0d59df6-e28a-11e8-9490-d5f4ba98b039\"}, {\"marker\": {\"line\": {\"width\": 2}, \"size\": [855, 89, 491, 619, 0, 2054], \"sizemode\": \"area\", \"sizeref\": 4.0, \"symbol\": \"circle\"}, \"mode\": \"markers\", \"name\": \"Student_12\", \"text\": [\"855\", \"89\", \"491\", \"619\", \"0\", \"2054\"], \"x\": [\"Student_12\", \"Student_12\", \"Student_12\", \"Student_12\", \"Student_12\", \"Student_12\"], \"y\": [\"Video1\", \"Video2\", \"Video3\", \"Video4\", \"Video5\", \"Total\"], \"type\": \"scatter\", \"uid\": \"c0d59ea0-e28a-11e8-9490-d5f4ba98b039\"}, {\"marker\": {\"line\": {\"width\": 2}, \"size\": [259, 22, 485, 0, 251, 1017], \"sizemode\": \"area\", \"sizeref\": 4.0, \"symbol\": \"circle\"}, \"mode\": \"markers\", \"name\": \"Student_13\", \"text\": [\"259\", \"22\", \"485\", \"0\", \"251\", \"1017\"], \"x\": [\"Student_13\", \"Student_13\", \"Student_13\", \"Student_13\", \"Student_13\", \"Student_13\"], \"y\": [\"Video1\", \"Video2\", \"Video3\", \"Video4\", \"Video5\", \"Total\"], \"type\": \"scatter\", \"uid\": \"c0d59f54-e28a-11e8-9490-d5f4ba98b039\"}, {\"marker\": {\"line\": {\"width\": 2}, \"size\": [841, 121, 0, 263, 0, 1225], \"sizemode\": \"area\", \"sizeref\": 4.0, \"symbol\": \"circle\"}, \"mode\": \"markers\", \"name\": \"Student_14\", \"text\": [\"841\", \"121\", \"0\", \"263\", \"0\", \"1225\"], \"x\": [\"Student_14\", \"Student_14\", \"Student_14\", \"Student_14\", \"Student_14\", \"Student_14\"], \"y\": [\"Video1\", \"Video2\", \"Video3\", \"Video4\", \"Video5\", \"Total\"], \"type\": \"scatter\", \"uid\": \"c0d59ff4-e28a-11e8-9490-d5f4ba98b039\"}, {\"marker\": {\"line\": {\"width\": 2}, \"size\": [458, 310, 743, 99, 352, 1962], \"sizemode\": \"area\", \"sizeref\": 4.0, \"symbol\": \"circle\"}, \"mode\": \"markers\", \"name\": \"Student_15\", \"text\": [\"458\", \"310\", \"743\", \"99\", \"352\", \"1962\"], \"x\": [\"Student_15\", \"Student_15\", \"Student_15\", \"Student_15\", \"Student_15\", \"Student_15\"], \"y\": [\"Video1\", \"Video2\", \"Video3\", \"Video4\", \"Video5\", \"Total\"], \"type\": \"scatter\", \"uid\": \"c0d5a08a-e28a-11e8-9490-d5f4ba98b039\"}, {\"marker\": {\"line\": {\"width\": 2}, \"size\": [775, 0, 279, 0, 0, 1054], \"sizemode\": \"area\", \"sizeref\": 4.0, \"symbol\": \"circle\"}, \"mode\": \"markers\", \"name\": \"Student_16\", \"text\": [\"775\", \"0\", \"279\", \"0\", \"0\", \"1054\"], \"x\": [\"Student_16\", \"Student_16\", \"Student_16\", \"Student_16\", \"Student_16\", \"Student_16\"], \"y\": [\"Video1\", \"Video2\", \"Video3\", \"Video4\", \"Video5\", \"Total\"], \"type\": \"scatter\", \"uid\": \"c0d5a12a-e28a-11e8-9490-d5f4ba98b039\"}, {\"marker\": {\"line\": {\"width\": 2}, \"size\": [909, 431, 0, 0, 0, 1340], \"sizemode\": \"area\", \"sizeref\": 4.0, \"symbol\": \"circle\"}, \"mode\": \"markers\", \"name\": \"Student_17\", \"text\": [\"909\", \"431\", \"0\", \"0\", \"0\", \"1340\"], \"x\": [\"Student_17\", \"Student_17\", \"Student_17\", \"Student_17\", \"Student_17\", \"Student_17\"], \"y\": [\"Video1\", \"Video2\", \"Video3\", \"Video4\", \"Video5\", \"Total\"], \"type\": \"scatter\", \"uid\": \"c0d5a850-e28a-11e8-9490-d5f4ba98b039\"}, {\"marker\": {\"line\": {\"width\": 2}, \"size\": [1031, 636, 349, 0, 0, 2016], \"sizemode\": \"area\", \"sizeref\": 4.0, \"symbol\": \"circle\"}, \"mode\": \"markers\", \"name\": \"Student_18\", \"text\": [\"1031\", \"636\", \"349\", \"0\", \"0\", \"2016\"], \"x\": [\"Student_18\", \"Student_18\", \"Student_18\", \"Student_18\", \"Student_18\", \"Student_18\"], \"y\": [\"Video1\", \"Video2\", \"Video3\", \"Video4\", \"Video5\", \"Total\"], \"type\": \"scatter\", \"uid\": \"c0d5a90e-e28a-11e8-9490-d5f4ba98b039\"}, {\"marker\": {\"line\": {\"width\": 2}, \"size\": [1465, 673, 49, 0, 266, 2453], \"sizemode\": \"area\", \"sizeref\": 4.0, \"symbol\": \"circle\"}, \"mode\": \"markers\", \"name\": \"Student_19\", \"text\": [\"1465\", \"673\", \"49\", \"0\", \"266\", \"2453\"], \"x\": [\"Student_19\", \"Student_19\", \"Student_19\", \"Student_19\", \"Student_19\", \"Student_19\"], \"y\": [\"Video1\", \"Video2\", \"Video3\", \"Video4\", \"Video5\", \"Total\"], \"type\": \"scatter\", \"uid\": \"c0d5a9b8-e28a-11e8-9490-d5f4ba98b039\"}, {\"marker\": {\"line\": {\"width\": 2}, \"size\": [5, 37, 738, 133, 59, 972], \"sizemode\": \"area\", \"sizeref\": 4.0, \"symbol\": \"circle\"}, \"mode\": \"markers\", \"name\": \"Student_20\", \"text\": [\"5\", \"37\", \"738\", \"133\", \"59\", \"972\"], \"x\": [\"Student_20\", \"Student_20\", \"Student_20\", \"Student_20\", \"Student_20\", \"Student_20\"], \"y\": [\"Video1\", \"Video2\", \"Video3\", \"Video4\", \"Video5\", \"Total\"], \"type\": \"scatter\", \"uid\": \"c0d5aa6c-e28a-11e8-9490-d5f4ba98b039\"}], {\"hovermode\": \"closest\", \"showlegend\": true, \"title\": \"Tempo de acesso aos v\\u00eddeos por estudante\", \"xaxis\": {\"autorange\": false, \"fixedrange\": false, \"range\": [-1, 20], \"rangemode\": \"normal\", \"showline\": true, \"title\": \"Estudantes\", \"type\": \"category\"}, \"yaxis\": {\"autorange\": false, \"fixedrange\": false, \"range\": [-1, 6], \"rangemode\": \"normal\", \"showline\": true, \"title\": \"Videos\", \"type\": \"category\"}}, {\"showLink\": true, \"linkText\": \"Export to plot.ly\"})});</script>"
      ],
      "text/vnd.plotly.v1+html": [
       "<div id=\"16b8237a-28ef-4b13-a964-f247ae04fa76\" style=\"height: 525px; width: 100%;\" class=\"plotly-graph-div\"></div><script type=\"text/javascript\">require([\"plotly\"], function(Plotly) { window.PLOTLYENV=window.PLOTLYENV || {};window.PLOTLYENV.BASE_URL=\"https://plot.ly\";Plotly.newPlot(\"16b8237a-28ef-4b13-a964-f247ae04fa76\", [{\"marker\": {\"line\": {\"width\": 2}, \"size\": [919, 465, 240, 366, 401, 2391], \"sizemode\": \"area\", \"sizeref\": 4.0, \"symbol\": \"circle\"}, \"mode\": \"markers\", \"name\": \"Student_1\", \"text\": [\"919\", \"465\", \"240\", \"366\", \"401\", \"2391\"], \"x\": [\"Student_1\", \"Student_1\", \"Student_1\", \"Student_1\", \"Student_1\", \"Student_1\"], \"y\": [\"Video1\", \"Video2\", \"Video3\", \"Video4\", \"Video5\", \"Total\"], \"type\": \"scatter\", \"uid\": \"c0d5955e-e28a-11e8-9490-d5f4ba98b039\"}, {\"marker\": {\"line\": {\"width\": 2}, \"size\": [379, 118, 355, 1148, 274, 2274], \"sizemode\": \"area\", \"sizeref\": 4.0, \"symbol\": \"circle\"}, \"mode\": \"markers\", \"name\": \"Student_2\", \"text\": [\"379\", \"118\", \"355\", \"1148\", \"274\", \"2274\"], \"x\": [\"Student_2\", \"Student_2\", \"Student_2\", \"Student_2\", \"Student_2\", \"Student_2\"], \"y\": [\"Video1\", \"Video2\", \"Video3\", \"Video4\", \"Video5\", \"Total\"], \"type\": \"scatter\", \"uid\": \"c0d59748-e28a-11e8-9490-d5f4ba98b039\"}, {\"marker\": {\"line\": {\"width\": 2}, \"size\": [0, 514, 739, 0, 124, 1377], \"sizemode\": \"area\", \"sizeref\": 4.0, \"symbol\": \"circle\"}, \"mode\": \"markers\", \"name\": \"Student_3\", \"text\": [\"0\", \"514\", \"739\", \"0\", \"124\", \"1377\"], \"x\": [\"Student_3\", \"Student_3\", \"Student_3\", \"Student_3\", \"Student_3\", \"Student_3\"], \"y\": [\"Video1\", \"Video2\", \"Video3\", \"Video4\", \"Video5\", \"Total\"], \"type\": \"scatter\", \"uid\": \"c0d5984c-e28a-11e8-9490-d5f4ba98b039\"}, {\"marker\": {\"line\": {\"width\": 2}, \"size\": [373, 299, 0, 307, 0, 979], \"sizemode\": \"area\", \"sizeref\": 4.0, \"symbol\": \"circle\"}, \"mode\": \"markers\", \"name\": \"Student_4\", \"text\": [\"373\", \"299\", \"0\", \"307\", \"0\", \"979\"], \"x\": [\"Student_4\", \"Student_4\", \"Student_4\", \"Student_4\", \"Student_4\", \"Student_4\"], \"y\": [\"Video1\", \"Video2\", \"Video3\", \"Video4\", \"Video5\", \"Total\"], \"type\": \"scatter\", \"uid\": \"c0d5991e-e28a-11e8-9490-d5f4ba98b039\"}, {\"marker\": {\"line\": {\"width\": 2}, \"size\": [0, 534, 445, 247, 458, 1684], \"sizemode\": \"area\", \"sizeref\": 4.0, \"symbol\": \"circle\"}, \"mode\": \"markers\", \"name\": \"Student_5\", \"text\": [\"0\", \"534\", \"445\", \"247\", \"458\", \"1684\"], \"x\": [\"Student_5\", \"Student_5\", \"Student_5\", \"Student_5\", \"Student_5\", \"Student_5\"], \"y\": [\"Video1\", \"Video2\", \"Video3\", \"Video4\", \"Video5\", \"Total\"], \"type\": \"scatter\", \"uid\": \"c0d599dc-e28a-11e8-9490-d5f4ba98b039\"}, {\"marker\": {\"line\": {\"width\": 2}, \"size\": [408, 379, 306, 415, 139, 1647], \"sizemode\": \"area\", \"sizeref\": 4.0, \"symbol\": \"circle\"}, \"mode\": \"markers\", \"name\": \"Student_6\", \"text\": [\"408\", \"379\", \"306\", \"415\", \"139\", \"1647\"], \"x\": [\"Student_6\", \"Student_6\", \"Student_6\", \"Student_6\", \"Student_6\", \"Student_6\"], \"y\": [\"Video1\", \"Video2\", \"Video3\", \"Video4\", \"Video5\", \"Total\"], \"type\": \"scatter\", \"uid\": \"c0d59a9a-e28a-11e8-9490-d5f4ba98b039\"}, {\"marker\": {\"line\": {\"width\": 2}, \"size\": [373, 563, 125, 0, 410, 1471], \"sizemode\": \"area\", \"sizeref\": 4.0, \"symbol\": \"circle\"}, \"mode\": \"markers\", \"name\": \"Student_7\", \"text\": [\"373\", \"563\", \"125\", \"0\", \"410\", \"1471\"], \"x\": [\"Student_7\", \"Student_7\", \"Student_7\", \"Student_7\", \"Student_7\", \"Student_7\"], \"y\": [\"Video1\", \"Video2\", \"Video3\", \"Video4\", \"Video5\", \"Total\"], \"type\": \"scatter\", \"uid\": \"c0d59b44-e28a-11e8-9490-d5f4ba98b039\"}, {\"marker\": {\"line\": {\"width\": 2}, \"size\": [1261, 311, 906, 0, 507, 2985], \"sizemode\": \"area\", \"sizeref\": 4.0, \"symbol\": \"circle\"}, \"mode\": \"markers\", \"name\": \"Student_8\", \"text\": [\"1261\", \"311\", \"906\", \"0\", \"507\", \"2985\"], \"x\": [\"Student_8\", \"Student_8\", \"Student_8\", \"Student_8\", \"Student_8\", \"Student_8\"], \"y\": [\"Video1\", \"Video2\", \"Video3\", \"Video4\", \"Video5\", \"Total\"], \"type\": \"scatter\", \"uid\": \"c0d59bf8-e28a-11e8-9490-d5f4ba98b039\"}, {\"marker\": {\"line\": {\"width\": 2}, \"size\": [0, 0, 0, 258, 429, 687], \"sizemode\": \"area\", \"sizeref\": 4.0, \"symbol\": \"circle\"}, \"mode\": \"markers\", \"name\": \"Student_9\", \"text\": [\"0\", \"0\", \"0\", \"258\", \"429\", \"687\"], \"x\": [\"Student_9\", \"Student_9\", \"Student_9\", \"Student_9\", \"Student_9\", \"Student_9\"], \"y\": [\"Video1\", \"Video2\", \"Video3\", \"Video4\", \"Video5\", \"Total\"], \"type\": \"scatter\", \"uid\": \"c0d59cb6-e28a-11e8-9490-d5f4ba98b039\"}, {\"marker\": {\"line\": {\"width\": 2}, \"size\": [1016, 0, 1116, 349, 0, 2481], \"sizemode\": \"area\", \"sizeref\": 4.0, \"symbol\": \"circle\"}, \"mode\": \"markers\", \"name\": \"Student_10\", \"text\": [\"1016\", \"0\", \"1116\", \"349\", \"0\", \"2481\"], \"x\": [\"Student_10\", \"Student_10\", \"Student_10\", \"Student_10\", \"Student_10\", \"Student_10\"], \"y\": [\"Video1\", \"Video2\", \"Video3\", \"Video4\", \"Video5\", \"Total\"], \"type\": \"scatter\", \"uid\": \"c0d59d60-e28a-11e8-9490-d5f4ba98b039\"}, {\"marker\": {\"line\": {\"width\": 2}, \"size\": [0, 507, 71, 0, 267, 845], \"sizemode\": \"area\", \"sizeref\": 4.0, \"symbol\": \"circle\"}, \"mode\": \"markers\", \"name\": \"Student_11\", \"text\": [\"0\", \"507\", \"71\", \"0\", \"267\", \"845\"], \"x\": [\"Student_11\", \"Student_11\", \"Student_11\", \"Student_11\", \"Student_11\", \"Student_11\"], \"y\": [\"Video1\", \"Video2\", \"Video3\", \"Video4\", \"Video5\", \"Total\"], \"type\": \"scatter\", \"uid\": \"c0d59df6-e28a-11e8-9490-d5f4ba98b039\"}, {\"marker\": {\"line\": {\"width\": 2}, \"size\": [855, 89, 491, 619, 0, 2054], \"sizemode\": \"area\", \"sizeref\": 4.0, \"symbol\": \"circle\"}, \"mode\": \"markers\", \"name\": \"Student_12\", \"text\": [\"855\", \"89\", \"491\", \"619\", \"0\", \"2054\"], \"x\": [\"Student_12\", \"Student_12\", \"Student_12\", \"Student_12\", \"Student_12\", \"Student_12\"], \"y\": [\"Video1\", \"Video2\", \"Video3\", \"Video4\", \"Video5\", \"Total\"], \"type\": \"scatter\", \"uid\": \"c0d59ea0-e28a-11e8-9490-d5f4ba98b039\"}, {\"marker\": {\"line\": {\"width\": 2}, \"size\": [259, 22, 485, 0, 251, 1017], \"sizemode\": \"area\", \"sizeref\": 4.0, \"symbol\": \"circle\"}, \"mode\": \"markers\", \"name\": \"Student_13\", \"text\": [\"259\", \"22\", \"485\", \"0\", \"251\", \"1017\"], \"x\": [\"Student_13\", \"Student_13\", \"Student_13\", \"Student_13\", \"Student_13\", \"Student_13\"], \"y\": [\"Video1\", \"Video2\", \"Video3\", \"Video4\", \"Video5\", \"Total\"], \"type\": \"scatter\", \"uid\": \"c0d59f54-e28a-11e8-9490-d5f4ba98b039\"}, {\"marker\": {\"line\": {\"width\": 2}, \"size\": [841, 121, 0, 263, 0, 1225], \"sizemode\": \"area\", \"sizeref\": 4.0, \"symbol\": \"circle\"}, \"mode\": \"markers\", \"name\": \"Student_14\", \"text\": [\"841\", \"121\", \"0\", \"263\", \"0\", \"1225\"], \"x\": [\"Student_14\", \"Student_14\", \"Student_14\", \"Student_14\", \"Student_14\", \"Student_14\"], \"y\": [\"Video1\", \"Video2\", \"Video3\", \"Video4\", \"Video5\", \"Total\"], \"type\": \"scatter\", \"uid\": \"c0d59ff4-e28a-11e8-9490-d5f4ba98b039\"}, {\"marker\": {\"line\": {\"width\": 2}, \"size\": [458, 310, 743, 99, 352, 1962], \"sizemode\": \"area\", \"sizeref\": 4.0, \"symbol\": \"circle\"}, \"mode\": \"markers\", \"name\": \"Student_15\", \"text\": [\"458\", \"310\", \"743\", \"99\", \"352\", \"1962\"], \"x\": [\"Student_15\", \"Student_15\", \"Student_15\", \"Student_15\", \"Student_15\", \"Student_15\"], \"y\": [\"Video1\", \"Video2\", \"Video3\", \"Video4\", \"Video5\", \"Total\"], \"type\": \"scatter\", \"uid\": \"c0d5a08a-e28a-11e8-9490-d5f4ba98b039\"}, {\"marker\": {\"line\": {\"width\": 2}, \"size\": [775, 0, 279, 0, 0, 1054], \"sizemode\": \"area\", \"sizeref\": 4.0, \"symbol\": \"circle\"}, \"mode\": \"markers\", \"name\": \"Student_16\", \"text\": [\"775\", \"0\", \"279\", \"0\", \"0\", \"1054\"], \"x\": [\"Student_16\", \"Student_16\", \"Student_16\", \"Student_16\", \"Student_16\", \"Student_16\"], \"y\": [\"Video1\", \"Video2\", \"Video3\", \"Video4\", \"Video5\", \"Total\"], \"type\": \"scatter\", \"uid\": \"c0d5a12a-e28a-11e8-9490-d5f4ba98b039\"}, {\"marker\": {\"line\": {\"width\": 2}, \"size\": [909, 431, 0, 0, 0, 1340], \"sizemode\": \"area\", \"sizeref\": 4.0, \"symbol\": \"circle\"}, \"mode\": \"markers\", \"name\": \"Student_17\", \"text\": [\"909\", \"431\", \"0\", \"0\", \"0\", \"1340\"], \"x\": [\"Student_17\", \"Student_17\", \"Student_17\", \"Student_17\", \"Student_17\", \"Student_17\"], \"y\": [\"Video1\", \"Video2\", \"Video3\", \"Video4\", \"Video5\", \"Total\"], \"type\": \"scatter\", \"uid\": \"c0d5a850-e28a-11e8-9490-d5f4ba98b039\"}, {\"marker\": {\"line\": {\"width\": 2}, \"size\": [1031, 636, 349, 0, 0, 2016], \"sizemode\": \"area\", \"sizeref\": 4.0, \"symbol\": \"circle\"}, \"mode\": \"markers\", \"name\": \"Student_18\", \"text\": [\"1031\", \"636\", \"349\", \"0\", \"0\", \"2016\"], \"x\": [\"Student_18\", \"Student_18\", \"Student_18\", \"Student_18\", \"Student_18\", \"Student_18\"], \"y\": [\"Video1\", \"Video2\", \"Video3\", \"Video4\", \"Video5\", \"Total\"], \"type\": \"scatter\", \"uid\": \"c0d5a90e-e28a-11e8-9490-d5f4ba98b039\"}, {\"marker\": {\"line\": {\"width\": 2}, \"size\": [1465, 673, 49, 0, 266, 2453], \"sizemode\": \"area\", \"sizeref\": 4.0, \"symbol\": \"circle\"}, \"mode\": \"markers\", \"name\": \"Student_19\", \"text\": [\"1465\", \"673\", \"49\", \"0\", \"266\", \"2453\"], \"x\": [\"Student_19\", \"Student_19\", \"Student_19\", \"Student_19\", \"Student_19\", \"Student_19\"], \"y\": [\"Video1\", \"Video2\", \"Video3\", \"Video4\", \"Video5\", \"Total\"], \"type\": \"scatter\", \"uid\": \"c0d5a9b8-e28a-11e8-9490-d5f4ba98b039\"}, {\"marker\": {\"line\": {\"width\": 2}, \"size\": [5, 37, 738, 133, 59, 972], \"sizemode\": \"area\", \"sizeref\": 4.0, \"symbol\": \"circle\"}, \"mode\": \"markers\", \"name\": \"Student_20\", \"text\": [\"5\", \"37\", \"738\", \"133\", \"59\", \"972\"], \"x\": [\"Student_20\", \"Student_20\", \"Student_20\", \"Student_20\", \"Student_20\", \"Student_20\"], \"y\": [\"Video1\", \"Video2\", \"Video3\", \"Video4\", \"Video5\", \"Total\"], \"type\": \"scatter\", \"uid\": \"c0d5aa6c-e28a-11e8-9490-d5f4ba98b039\"}], {\"hovermode\": \"closest\", \"showlegend\": true, \"title\": \"Tempo de acesso aos v\\u00eddeos por estudante\", \"xaxis\": {\"autorange\": false, \"fixedrange\": false, \"range\": [-1, 20], \"rangemode\": \"normal\", \"showline\": true, \"title\": \"Estudantes\", \"type\": \"category\"}, \"yaxis\": {\"autorange\": false, \"fixedrange\": false, \"range\": [-1, 6], \"rangemode\": \"normal\", \"showline\": true, \"title\": \"Videos\", \"type\": \"category\"}}, {\"showLink\": true, \"linkText\": \"Export to plot.ly\"})});</script>"
      ]
     },
     "metadata": {},
     "output_type": "display_data"
    }
   ],
   "source": [
    "run scripts/V004.py"
   ]
  },
  {
   "cell_type": "markdown",
   "metadata": {},
   "source": [
    "### View 005"
   ]
  },
  {
   "cell_type": "code",
   "execution_count": 47,
   "metadata": {
    "scrolled": false
   },
   "outputs": [
    {
     "data": {
      "text/html": [
       "<script>requirejs.config({paths: { 'plotly': ['https://cdn.plot.ly/plotly-latest.min']},});if(!window.Plotly) {{require(['plotly'],function(plotly) {window.Plotly=plotly;});}}</script>"
      ],
      "text/vnd.plotly.v1+html": [
       "<script>requirejs.config({paths: { 'plotly': ['https://cdn.plot.ly/plotly-latest.min']},});if(!window.Plotly) {{require(['plotly'],function(plotly) {window.Plotly=plotly;});}}</script>"
      ]
     },
     "metadata": {},
     "output_type": "display_data"
    },
    {
     "data": {
      "application/vnd.plotly.v1+json": {
       "data": [
        {
         "cells": {
          "align": [
           "left",
           "center"
          ],
          "fill": {
           "color": "#F5F8FF"
          },
          "values": [
           [
            "Student_1",
            "Student_2",
            "Student_3",
            "Student_4",
            "Student_5",
            "Student_6",
            "Student_7",
            "Student_8",
            "Student_9",
            "Student_10",
            "Student_11",
            "Student_12",
            "Student_13",
            "Student_14",
            "Student_15",
            "Student_16",
            "Student_17",
            "Student_18",
            "Student_19",
            "Student_20"
           ],
           [
            66,
            44,
            36,
            57,
            62,
            73,
            62,
            86,
            44,
            35,
            91,
            27,
            6,
            75,
            18,
            82,
            46,
            30,
            60,
            50
           ],
           [
            57,
            20,
            5,
            34,
            71,
            63,
            52,
            71,
            13,
            9,
            56,
            2,
            26,
            8,
            10,
            48,
            7,
            1,
            16,
            15
           ],
           [
            3,
            0,
            0,
            3,
            1,
            4,
            7,
            14,
            1,
            1,
            11,
            0,
            1,
            9,
            2,
            15,
            1,
            0,
            2,
            0
           ],
           [
            29,
            6,
            6,
            17,
            18,
            24,
            18,
            65,
            6,
            8,
            62,
            7,
            5,
            18,
            7,
            58,
            2,
            5,
            20,
            5
           ]
          ]
         },
         "header": {
          "align": "center",
          "fill": {
           "color": "#C2D4FF"
          },
          "values": [
           "Students",
           "Grade",
           "Access",
           "Forum Post",
           "Forum Access"
          ]
         },
         "type": "table",
         "uid": "858c2198-e280-11e8-9490-d5f4ba98b039"
        }
       ],
       "layout": {}
      },
      "text/html": [
       "<div id=\"036e82ca-4572-4254-b126-f5a864da626e\" style=\"height: 525px; width: 100%;\" class=\"plotly-graph-div\"></div><script type=\"text/javascript\">require([\"plotly\"], function(Plotly) { window.PLOTLYENV=window.PLOTLYENV || {};window.PLOTLYENV.BASE_URL=\"https://plot.ly\";Plotly.newPlot(\"036e82ca-4572-4254-b126-f5a864da626e\", [{\"cells\": {\"align\": [\"left\", \"center\"], \"fill\": {\"color\": \"#F5F8FF\"}, \"values\": [[\"Student_1\", \"Student_2\", \"Student_3\", \"Student_4\", \"Student_5\", \"Student_6\", \"Student_7\", \"Student_8\", \"Student_9\", \"Student_10\", \"Student_11\", \"Student_12\", \"Student_13\", \"Student_14\", \"Student_15\", \"Student_16\", \"Student_17\", \"Student_18\", \"Student_19\", \"Student_20\"], [66, 44, 36, 57, 62, 73, 62, 86, 44, 35, 91, 27, 6, 75, 18, 82, 46, 30, 60, 50], [57, 20, 5, 34, 71, 63, 52, 71, 13, 9, 56, 2, 26, 8, 10, 48, 7, 1, 16, 15], [3, 0, 0, 3, 1, 4, 7, 14, 1, 1, 11, 0, 1, 9, 2, 15, 1, 0, 2, 0], [29, 6, 6, 17, 18, 24, 18, 65, 6, 8, 62, 7, 5, 18, 7, 58, 2, 5, 20, 5]]}, \"header\": {\"align\": \"center\", \"fill\": {\"color\": \"#C2D4FF\"}, \"values\": [\"Students\", \"Grade\", \"Access\", \"Forum Post\", \"Forum Access\"]}, \"type\": \"table\", \"uid\": \"858e766e-e280-11e8-9490-d5f4ba98b039\"}], {}, {\"showLink\": true, \"linkText\": \"Export to plot.ly\"})});</script>"
      ],
      "text/vnd.plotly.v1+html": [
       "<div id=\"036e82ca-4572-4254-b126-f5a864da626e\" style=\"height: 525px; width: 100%;\" class=\"plotly-graph-div\"></div><script type=\"text/javascript\">require([\"plotly\"], function(Plotly) { window.PLOTLYENV=window.PLOTLYENV || {};window.PLOTLYENV.BASE_URL=\"https://plot.ly\";Plotly.newPlot(\"036e82ca-4572-4254-b126-f5a864da626e\", [{\"cells\": {\"align\": [\"left\", \"center\"], \"fill\": {\"color\": \"#F5F8FF\"}, \"values\": [[\"Student_1\", \"Student_2\", \"Student_3\", \"Student_4\", \"Student_5\", \"Student_6\", \"Student_7\", \"Student_8\", \"Student_9\", \"Student_10\", \"Student_11\", \"Student_12\", \"Student_13\", \"Student_14\", \"Student_15\", \"Student_16\", \"Student_17\", \"Student_18\", \"Student_19\", \"Student_20\"], [66, 44, 36, 57, 62, 73, 62, 86, 44, 35, 91, 27, 6, 75, 18, 82, 46, 30, 60, 50], [57, 20, 5, 34, 71, 63, 52, 71, 13, 9, 56, 2, 26, 8, 10, 48, 7, 1, 16, 15], [3, 0, 0, 3, 1, 4, 7, 14, 1, 1, 11, 0, 1, 9, 2, 15, 1, 0, 2, 0], [29, 6, 6, 17, 18, 24, 18, 65, 6, 8, 62, 7, 5, 18, 7, 58, 2, 5, 20, 5]]}, \"header\": {\"align\": \"center\", \"fill\": {\"color\": \"#C2D4FF\"}, \"values\": [\"Students\", \"Grade\", \"Access\", \"Forum Post\", \"Forum Access\"]}, \"type\": \"table\", \"uid\": \"858e766e-e280-11e8-9490-d5f4ba98b039\"}], {}, {\"showLink\": true, \"linkText\": \"Export to plot.ly\"})});</script>"
      ]
     },
     "metadata": {},
     "output_type": "display_data"
    }
   ],
   "source": [
    "run scripts/V005.py"
   ]
  },
  {
   "cell_type": "markdown",
   "metadata": {},
   "source": [
    "### View 006"
   ]
  },
  {
   "cell_type": "code",
   "execution_count": null,
   "metadata": {},
   "outputs": [],
   "source": [
    "run scripts/V006.py"
   ]
  },
  {
   "cell_type": "markdown",
   "metadata": {},
   "source": [
    "### View 007"
   ]
  },
  {
   "cell_type": "code",
   "execution_count": null,
   "metadata": {},
   "outputs": [],
   "source": [
    "run scripts/V007.py"
   ]
  },
  {
   "cell_type": "markdown",
   "metadata": {},
   "source": [
    "### View 008"
   ]
  },
  {
   "cell_type": "code",
   "execution_count": null,
   "metadata": {},
   "outputs": [],
   "source": [
    "run scripts/V008.py"
   ]
  },
  {
   "cell_type": "markdown",
   "metadata": {},
   "source": [
    "### View 009"
   ]
  },
  {
   "cell_type": "code",
   "execution_count": null,
   "metadata": {},
   "outputs": [],
   "source": [
    "run scripts/V009.py"
   ]
  },
  {
   "cell_type": "markdown",
   "metadata": {},
   "source": [
    "### View 010"
   ]
  },
  {
   "cell_type": "code",
   "execution_count": 46,
   "metadata": {},
   "outputs": [],
   "source": [
    "run scripts/V010.py"
   ]
  },
  {
   "cell_type": "markdown",
   "metadata": {},
   "source": [
    "### View 011"
   ]
  },
  {
   "cell_type": "code",
   "execution_count": null,
   "metadata": {},
   "outputs": [],
   "source": [
    "run scripts/V011.py"
   ]
  }
 ],
 "metadata": {
  "kernelspec": {
   "display_name": "Python 3",
   "language": "python",
   "name": "python3"
  },
  "language_info": {
   "codemirror_mode": {
    "name": "ipython",
    "version": 3
   },
   "file_extension": ".py",
   "mimetype": "text/x-python",
   "name": "python",
   "nbconvert_exporter": "python",
   "pygments_lexer": "ipython3",
   "version": "3.7.0"
  }
 },
 "nbformat": 4,
 "nbformat_minor": 2
}
