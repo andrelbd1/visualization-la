{
 "cells": [
  {
   "cell_type": "markdown",
   "metadata": {},
   "source": [
    "### View 001"
   ]
  },
  {
   "cell_type": "code",
   "execution_count": 7,
   "metadata": {
    "scrolled": true
   },
   "outputs": [
    {
     "data": {
      "text/html": [
       "<script>requirejs.config({paths: { 'plotly': ['https://cdn.plot.ly/plotly-latest.min']},});if(!window.Plotly) {{require(['plotly'],function(plotly) {window.Plotly=plotly;});}}</script>"
      ],
      "text/vnd.plotly.v1+html": [
       "<script>requirejs.config({paths: { 'plotly': ['https://cdn.plot.ly/plotly-latest.min']},});if(!window.Plotly) {{require(['plotly'],function(plotly) {window.Plotly=plotly;});}}</script>"
      ]
     },
     "metadata": {},
     "output_type": "display_data"
    },
    {
     "data": {
      "application/vnd.plotly.v1+json": {
       "data": [
        {
         "cells": {
          "align": [
           "left",
           "center"
          ],
          "fill": {
           "color": "#F5F8FF"
          },
          "values": [
           [
            "Student_1",
            "Student_2",
            "Student_3",
            "Student_4",
            "Student_5",
            "Student_6",
            "Student_7",
            "Student_8",
            "Student_9",
            "Student_10",
            "Student_11",
            "Student_12",
            "Student_13",
            "Student_14",
            "Student_15",
            "Student_16",
            "Student_17",
            "Student_18",
            "Student_19",
            "Student_20"
           ],
           [
            0,
            0,
            0,
            0,
            1,
            1,
            0,
            0,
            0,
            1,
            1,
            1,
            1,
            1,
            1,
            0,
            0,
            0,
            1,
            1
           ],
           [
            1,
            1,
            1,
            0,
            1,
            0,
            1,
            0,
            1,
            1,
            0,
            0,
            0,
            0,
            0,
            0,
            1,
            1,
            0,
            0
           ],
           [
            0,
            0,
            1,
            0,
            0,
            1,
            1,
            0,
            1,
            1,
            1,
            0,
            0,
            0,
            0,
            1,
            1,
            1,
            0,
            0
           ],
           [
            1,
            0,
            1,
            1,
            0,
            0,
            1,
            0,
            1,
            0,
            1,
            0,
            0,
            0,
            1,
            0,
            1,
            1,
            0,
            1
           ]
          ]
         },
         "header": {
          "align": "center",
          "fill": {
           "color": "#C2D4FF"
          },
          "values": [
           "Students",
           "Assign1",
           "Assign2",
           "Assign3",
           "Assign4"
          ]
         },
         "type": "table",
         "uid": "1c809f44-e2e9-11e8-96ad-27ad55f30ab3"
        }
       ],
       "layout": {}
      },
      "text/html": [
       "<div id=\"3b0a80ef-20ff-4e90-b091-994323873a8c\" style=\"height: 525px; width: 100%;\" class=\"plotly-graph-div\"></div><script type=\"text/javascript\">require([\"plotly\"], function(Plotly) { window.PLOTLYENV=window.PLOTLYENV || {};window.PLOTLYENV.BASE_URL=\"https://plot.ly\";Plotly.newPlot(\"3b0a80ef-20ff-4e90-b091-994323873a8c\", [{\"cells\": {\"align\": [\"left\", \"center\"], \"fill\": {\"color\": \"#F5F8FF\"}, \"values\": [[\"Student_1\", \"Student_2\", \"Student_3\", \"Student_4\", \"Student_5\", \"Student_6\", \"Student_7\", \"Student_8\", \"Student_9\", \"Student_10\", \"Student_11\", \"Student_12\", \"Student_13\", \"Student_14\", \"Student_15\", \"Student_16\", \"Student_17\", \"Student_18\", \"Student_19\", \"Student_20\"], [0, 0, 0, 0, 1, 1, 0, 0, 0, 1, 1, 1, 1, 1, 1, 0, 0, 0, 1, 1], [1, 1, 1, 0, 1, 0, 1, 0, 1, 1, 0, 0, 0, 0, 0, 0, 1, 1, 0, 0], [0, 0, 1, 0, 0, 1, 1, 0, 1, 1, 1, 0, 0, 0, 0, 1, 1, 1, 0, 0], [1, 0, 1, 1, 0, 0, 1, 0, 1, 0, 1, 0, 0, 0, 1, 0, 1, 1, 0, 1]]}, \"header\": {\"align\": \"center\", \"fill\": {\"color\": \"#C2D4FF\"}, \"values\": [\"Students\", \"Assign1\", \"Assign2\", \"Assign3\", \"Assign4\"]}, \"type\": \"table\", \"uid\": \"1c83214c-e2e9-11e8-96ad-27ad55f30ab3\"}], {}, {\"showLink\": true, \"linkText\": \"Export to plot.ly\"})});</script>"
      ],
      "text/vnd.plotly.v1+html": [
       "<div id=\"3b0a80ef-20ff-4e90-b091-994323873a8c\" style=\"height: 525px; width: 100%;\" class=\"plotly-graph-div\"></div><script type=\"text/javascript\">require([\"plotly\"], function(Plotly) { window.PLOTLYENV=window.PLOTLYENV || {};window.PLOTLYENV.BASE_URL=\"https://plot.ly\";Plotly.newPlot(\"3b0a80ef-20ff-4e90-b091-994323873a8c\", [{\"cells\": {\"align\": [\"left\", \"center\"], \"fill\": {\"color\": \"#F5F8FF\"}, \"values\": [[\"Student_1\", \"Student_2\", \"Student_3\", \"Student_4\", \"Student_5\", \"Student_6\", \"Student_7\", \"Student_8\", \"Student_9\", \"Student_10\", \"Student_11\", \"Student_12\", \"Student_13\", \"Student_14\", \"Student_15\", \"Student_16\", \"Student_17\", \"Student_18\", \"Student_19\", \"Student_20\"], [0, 0, 0, 0, 1, 1, 0, 0, 0, 1, 1, 1, 1, 1, 1, 0, 0, 0, 1, 1], [1, 1, 1, 0, 1, 0, 1, 0, 1, 1, 0, 0, 0, 0, 0, 0, 1, 1, 0, 0], [0, 0, 1, 0, 0, 1, 1, 0, 1, 1, 1, 0, 0, 0, 0, 1, 1, 1, 0, 0], [1, 0, 1, 1, 0, 0, 1, 0, 1, 0, 1, 0, 0, 0, 1, 0, 1, 1, 0, 1]]}, \"header\": {\"align\": \"center\", \"fill\": {\"color\": \"#C2D4FF\"}, \"values\": [\"Students\", \"Assign1\", \"Assign2\", \"Assign3\", \"Assign4\"]}, \"type\": \"table\", \"uid\": \"1c83214c-e2e9-11e8-96ad-27ad55f30ab3\"}], {}, {\"showLink\": true, \"linkText\": \"Export to plot.ly\"})});</script>"
      ]
     },
     "metadata": {},
     "output_type": "display_data"
    },
    {
     "data": {
      "application/vnd.plotly.v1+json": {
       "data": [
        {
         "type": "bar",
         "uid": "1c883876-e2e9-11e8-96ad-27ad55f30ab3",
         "x": [
          "Student_1",
          "Student_2",
          "Student_3",
          "Student_4",
          "Student_5",
          "Student_6",
          "Student_7",
          "Student_8",
          "Student_9",
          "Student_10",
          "Student_11",
          "Student_12",
          "Student_13",
          "Student_14",
          "Student_15",
          "Student_16",
          "Student_17",
          "Student_18",
          "Student_19",
          "Student_20"
         ],
         "y": [
          2,
          1,
          3,
          1,
          2,
          2,
          3,
          0,
          3,
          3,
          3,
          1,
          1,
          1,
          2,
          1,
          3,
          3,
          1,
          2
         ]
        }
       ],
       "layout": {
        "title": "Quantidade de tarefas feitas por alunos",
        "yaxis": {
         "dtick": 1,
         "exponentformat": "e",
         "gridcolor": "#bdbdbd",
         "showexponent": "all",
         "showticklabels": true,
         "tick0": 0,
         "titlefont": {
          "color": "lightgrey",
          "family": "Arial, sans-serif"
         }
        }
       }
      },
      "text/html": [
       "<div id=\"f0fa5a74-6c7a-4f8a-922c-1abd75f5d22e\" style=\"height: 525px; width: 100%;\" class=\"plotly-graph-div\"></div><script type=\"text/javascript\">require([\"plotly\"], function(Plotly) { window.PLOTLYENV=window.PLOTLYENV || {};window.PLOTLYENV.BASE_URL=\"https://plot.ly\";Plotly.newPlot(\"f0fa5a74-6c7a-4f8a-922c-1abd75f5d22e\", [{\"x\": [\"Student_1\", \"Student_2\", \"Student_3\", \"Student_4\", \"Student_5\", \"Student_6\", \"Student_7\", \"Student_8\", \"Student_9\", \"Student_10\", \"Student_11\", \"Student_12\", \"Student_13\", \"Student_14\", \"Student_15\", \"Student_16\", \"Student_17\", \"Student_18\", \"Student_19\", \"Student_20\"], \"y\": [2, 1, 3, 1, 2, 2, 3, 0, 3, 3, 3, 1, 1, 1, 2, 1, 3, 3, 1, 2], \"type\": \"bar\", \"uid\": \"1c883876-e2e9-11e8-96ad-27ad55f30ab3\"}], {\"title\": \"Quantidade de tarefas feitas por alunos\", \"yaxis\": {\"dtick\": 1, \"exponentformat\": \"e\", \"gridcolor\": \"#bdbdbd\", \"showexponent\": \"all\", \"showticklabels\": true, \"tick0\": 0, \"titlefont\": {\"color\": \"lightgrey\", \"family\": \"Arial, sans-serif\"}}}, {\"showLink\": true, \"linkText\": \"Export to plot.ly\"})});</script>"
      ],
      "text/vnd.plotly.v1+html": [
       "<div id=\"f0fa5a74-6c7a-4f8a-922c-1abd75f5d22e\" style=\"height: 525px; width: 100%;\" class=\"plotly-graph-div\"></div><script type=\"text/javascript\">require([\"plotly\"], function(Plotly) { window.PLOTLYENV=window.PLOTLYENV || {};window.PLOTLYENV.BASE_URL=\"https://plot.ly\";Plotly.newPlot(\"f0fa5a74-6c7a-4f8a-922c-1abd75f5d22e\", [{\"x\": [\"Student_1\", \"Student_2\", \"Student_3\", \"Student_4\", \"Student_5\", \"Student_6\", \"Student_7\", \"Student_8\", \"Student_9\", \"Student_10\", \"Student_11\", \"Student_12\", \"Student_13\", \"Student_14\", \"Student_15\", \"Student_16\", \"Student_17\", \"Student_18\", \"Student_19\", \"Student_20\"], \"y\": [2, 1, 3, 1, 2, 2, 3, 0, 3, 3, 3, 1, 1, 1, 2, 1, 3, 3, 1, 2], \"type\": \"bar\", \"uid\": \"1c883876-e2e9-11e8-96ad-27ad55f30ab3\"}], {\"title\": \"Quantidade de tarefas feitas por alunos\", \"yaxis\": {\"dtick\": 1, \"exponentformat\": \"e\", \"gridcolor\": \"#bdbdbd\", \"showexponent\": \"all\", \"showticklabels\": true, \"tick0\": 0, \"titlefont\": {\"color\": \"lightgrey\", \"family\": \"Arial, sans-serif\"}}}, {\"showLink\": true, \"linkText\": \"Export to plot.ly\"})});</script>"
      ]
     },
     "metadata": {},
     "output_type": "display_data"
    },
    {
     "data": {
      "application/vnd.plotly.v1+json": {
       "data": [
        {
         "orientation": "h",
         "type": "bar",
         "uid": "1c8cc3a0-e2e9-11e8-96ad-27ad55f30ab3",
         "x": [
          2,
          1,
          3,
          1,
          2,
          2,
          3,
          0,
          3,
          3,
          3,
          1,
          1,
          1,
          2,
          1,
          3,
          3,
          1,
          2
         ],
         "y": [
          "Student_1",
          "Student_2",
          "Student_3",
          "Student_4",
          "Student_5",
          "Student_6",
          "Student_7",
          "Student_8",
          "Student_9",
          "Student_10",
          "Student_11",
          "Student_12",
          "Student_13",
          "Student_14",
          "Student_15",
          "Student_16",
          "Student_17",
          "Student_18",
          "Student_19",
          "Student_20"
         ]
        }
       ],
       "layout": {
        "title": "Quantidade de tarefas feitas por alunos",
        "xaxis": {
         "dtick": 1,
         "tick0": 0
        },
        "yaxis": {
         "dtick": 1,
         "exponentformat": "e",
         "gridcolor": "#bdbdbd",
         "showexponent": "all",
         "showticklabels": true,
         "tick0": 0,
         "titlefont": {
          "color": "lightgrey",
          "family": "Arial, sans-serif"
         }
        }
       }
      },
      "text/html": [
       "<div id=\"74a9db43-c3ca-4424-ad15-3859fbf580d7\" style=\"height: 525px; width: 100%;\" class=\"plotly-graph-div\"></div><script type=\"text/javascript\">require([\"plotly\"], function(Plotly) { window.PLOTLYENV=window.PLOTLYENV || {};window.PLOTLYENV.BASE_URL=\"https://plot.ly\";Plotly.newPlot(\"74a9db43-c3ca-4424-ad15-3859fbf580d7\", [{\"orientation\": \"h\", \"x\": [2, 1, 3, 1, 2, 2, 3, 0, 3, 3, 3, 1, 1, 1, 2, 1, 3, 3, 1, 2], \"y\": [\"Student_1\", \"Student_2\", \"Student_3\", \"Student_4\", \"Student_5\", \"Student_6\", \"Student_7\", \"Student_8\", \"Student_9\", \"Student_10\", \"Student_11\", \"Student_12\", \"Student_13\", \"Student_14\", \"Student_15\", \"Student_16\", \"Student_17\", \"Student_18\", \"Student_19\", \"Student_20\"], \"type\": \"bar\", \"uid\": \"1c8cc3a0-e2e9-11e8-96ad-27ad55f30ab3\"}], {\"title\": \"Quantidade de tarefas feitas por alunos\", \"xaxis\": {\"dtick\": 1, \"tick0\": 0}, \"yaxis\": {\"dtick\": 1, \"exponentformat\": \"e\", \"gridcolor\": \"#bdbdbd\", \"showexponent\": \"all\", \"showticklabels\": true, \"tick0\": 0, \"titlefont\": {\"color\": \"lightgrey\", \"family\": \"Arial, sans-serif\"}}}, {\"showLink\": true, \"linkText\": \"Export to plot.ly\"})});</script>"
      ],
      "text/vnd.plotly.v1+html": [
       "<div id=\"74a9db43-c3ca-4424-ad15-3859fbf580d7\" style=\"height: 525px; width: 100%;\" class=\"plotly-graph-div\"></div><script type=\"text/javascript\">require([\"plotly\"], function(Plotly) { window.PLOTLYENV=window.PLOTLYENV || {};window.PLOTLYENV.BASE_URL=\"https://plot.ly\";Plotly.newPlot(\"74a9db43-c3ca-4424-ad15-3859fbf580d7\", [{\"orientation\": \"h\", \"x\": [2, 1, 3, 1, 2, 2, 3, 0, 3, 3, 3, 1, 1, 1, 2, 1, 3, 3, 1, 2], \"y\": [\"Student_1\", \"Student_2\", \"Student_3\", \"Student_4\", \"Student_5\", \"Student_6\", \"Student_7\", \"Student_8\", \"Student_9\", \"Student_10\", \"Student_11\", \"Student_12\", \"Student_13\", \"Student_14\", \"Student_15\", \"Student_16\", \"Student_17\", \"Student_18\", \"Student_19\", \"Student_20\"], \"type\": \"bar\", \"uid\": \"1c8cc3a0-e2e9-11e8-96ad-27ad55f30ab3\"}], {\"title\": \"Quantidade de tarefas feitas por alunos\", \"xaxis\": {\"dtick\": 1, \"tick0\": 0}, \"yaxis\": {\"dtick\": 1, \"exponentformat\": \"e\", \"gridcolor\": \"#bdbdbd\", \"showexponent\": \"all\", \"showticklabels\": true, \"tick0\": 0, \"titlefont\": {\"color\": \"lightgrey\", \"family\": \"Arial, sans-serif\"}}}, {\"showLink\": true, \"linkText\": \"Export to plot.ly\"})});</script>"
      ]
     },
     "metadata": {},
     "output_type": "display_data"
    },
    {
     "data": {
      "application/vnd.plotly.v1+json": {
       "data": [
        {
         "type": "bar",
         "uid": "1c91dcbe-e2e9-11e8-96ad-27ad55f30ab3",
         "x": [
          "Assign1",
          "Assign2",
          "Assign3",
          "Assign4"
         ],
         "y": [
          10,
          9,
          9,
          10
         ]
        }
       ],
       "layout": {
        "title": "Quantidade de alunos que fizeram as tarefas",
        "yaxis": {
         "dtick": 1,
         "exponentformat": "e",
         "gridcolor": "#bdbdbd",
         "showexponent": "all",
         "showticklabels": true,
         "tick0": 0,
         "titlefont": {
          "color": "lightgrey",
          "family": "Arial, sans-serif"
         }
        }
       }
      },
      "text/html": [
       "<div id=\"37a4c3c0-bb84-4722-9d05-e6d267b6a408\" style=\"height: 525px; width: 100%;\" class=\"plotly-graph-div\"></div><script type=\"text/javascript\">require([\"plotly\"], function(Plotly) { window.PLOTLYENV=window.PLOTLYENV || {};window.PLOTLYENV.BASE_URL=\"https://plot.ly\";Plotly.newPlot(\"37a4c3c0-bb84-4722-9d05-e6d267b6a408\", [{\"x\": [\"Assign1\", \"Assign2\", \"Assign3\", \"Assign4\"], \"y\": [10, 9, 9, 10], \"type\": \"bar\", \"uid\": \"1c91dcbe-e2e9-11e8-96ad-27ad55f30ab3\"}], {\"title\": \"Quantidade de alunos que fizeram as tarefas\", \"yaxis\": {\"dtick\": 1, \"exponentformat\": \"e\", \"gridcolor\": \"#bdbdbd\", \"showexponent\": \"all\", \"showticklabels\": true, \"tick0\": 0, \"titlefont\": {\"color\": \"lightgrey\", \"family\": \"Arial, sans-serif\"}}}, {\"showLink\": true, \"linkText\": \"Export to plot.ly\"})});</script>"
      ],
      "text/vnd.plotly.v1+html": [
       "<div id=\"37a4c3c0-bb84-4722-9d05-e6d267b6a408\" style=\"height: 525px; width: 100%;\" class=\"plotly-graph-div\"></div><script type=\"text/javascript\">require([\"plotly\"], function(Plotly) { window.PLOTLYENV=window.PLOTLYENV || {};window.PLOTLYENV.BASE_URL=\"https://plot.ly\";Plotly.newPlot(\"37a4c3c0-bb84-4722-9d05-e6d267b6a408\", [{\"x\": [\"Assign1\", \"Assign2\", \"Assign3\", \"Assign4\"], \"y\": [10, 9, 9, 10], \"type\": \"bar\", \"uid\": \"1c91dcbe-e2e9-11e8-96ad-27ad55f30ab3\"}], {\"title\": \"Quantidade de alunos que fizeram as tarefas\", \"yaxis\": {\"dtick\": 1, \"exponentformat\": \"e\", \"gridcolor\": \"#bdbdbd\", \"showexponent\": \"all\", \"showticklabels\": true, \"tick0\": 0, \"titlefont\": {\"color\": \"lightgrey\", \"family\": \"Arial, sans-serif\"}}}, {\"showLink\": true, \"linkText\": \"Export to plot.ly\"})});</script>"
      ]
     },
     "metadata": {},
     "output_type": "display_data"
    },
    {
     "data": {
      "application/vnd.plotly.v1+json": {
       "data": [
        {
         "marker": {
          "line": {
           "width": 2
          },
          "size": [
           0,
           1,
           0,
           1
          ],
          "sizemode": "area",
          "sizeref": 0.01,
          "symbol": "circle"
         },
         "mode": "markers",
         "name": "Student_1",
         "text": [
          "0",
          "1",
          "0",
          "1"
         ],
         "type": "scatter",
         "uid": "1ca6fb1c-e2e9-11e8-96ad-27ad55f30ab3",
         "x": [
          "Student_1",
          "Student_1",
          "Student_1",
          "Student_1",
          "Student_1"
         ],
         "y": [
          "Assign1",
          "Assign2",
          "Assign3",
          "Assign4"
         ]
        },
        {
         "marker": {
          "line": {
           "width": 2
          },
          "size": [
           0,
           1,
           0,
           0
          ],
          "sizemode": "area",
          "sizeref": 0.01,
          "symbol": "circle"
         },
         "mode": "markers",
         "name": "Student_2",
         "text": [
          "0",
          "1",
          "0",
          "0"
         ],
         "type": "scatter",
         "uid": "1ca6fcd4-e2e9-11e8-96ad-27ad55f30ab3",
         "x": [
          "Student_2",
          "Student_2",
          "Student_2",
          "Student_2",
          "Student_2"
         ],
         "y": [
          "Assign1",
          "Assign2",
          "Assign3",
          "Assign4"
         ]
        },
        {
         "marker": {
          "line": {
           "width": 2
          },
          "size": [
           0,
           1,
           1,
           1
          ],
          "sizemode": "area",
          "sizeref": 0.01,
          "symbol": "circle"
         },
         "mode": "markers",
         "name": "Student_3",
         "text": [
          "0",
          "1",
          "1",
          "1"
         ],
         "type": "scatter",
         "uid": "1ca6fd9c-e2e9-11e8-96ad-27ad55f30ab3",
         "x": [
          "Student_3",
          "Student_3",
          "Student_3",
          "Student_3",
          "Student_3"
         ],
         "y": [
          "Assign1",
          "Assign2",
          "Assign3",
          "Assign4"
         ]
        },
        {
         "marker": {
          "line": {
           "width": 2
          },
          "size": [
           0,
           0,
           0,
           1
          ],
          "sizemode": "area",
          "sizeref": 0.01,
          "symbol": "circle"
         },
         "mode": "markers",
         "name": "Student_4",
         "text": [
          "0",
          "0",
          "0",
          "1"
         ],
         "type": "scatter",
         "uid": "1ca6fe46-e2e9-11e8-96ad-27ad55f30ab3",
         "x": [
          "Student_4",
          "Student_4",
          "Student_4",
          "Student_4",
          "Student_4"
         ],
         "y": [
          "Assign1",
          "Assign2",
          "Assign3",
          "Assign4"
         ]
        },
        {
         "marker": {
          "line": {
           "width": 2
          },
          "size": [
           1,
           1,
           0,
           0
          ],
          "sizemode": "area",
          "sizeref": 0.01,
          "symbol": "circle"
         },
         "mode": "markers",
         "name": "Student_5",
         "text": [
          "1",
          "1",
          "0",
          "0"
         ],
         "type": "scatter",
         "uid": "1ca6fedc-e2e9-11e8-96ad-27ad55f30ab3",
         "x": [
          "Student_5",
          "Student_5",
          "Student_5",
          "Student_5",
          "Student_5"
         ],
         "y": [
          "Assign1",
          "Assign2",
          "Assign3",
          "Assign4"
         ]
        },
        {
         "marker": {
          "line": {
           "width": 2
          },
          "size": [
           1,
           0,
           1,
           0
          ],
          "sizemode": "area",
          "sizeref": 0.01,
          "symbol": "circle"
         },
         "mode": "markers",
         "name": "Student_6",
         "text": [
          "1",
          "0",
          "1",
          "0"
         ],
         "type": "scatter",
         "uid": "1ca6ff72-e2e9-11e8-96ad-27ad55f30ab3",
         "x": [
          "Student_6",
          "Student_6",
          "Student_6",
          "Student_6",
          "Student_6"
         ],
         "y": [
          "Assign1",
          "Assign2",
          "Assign3",
          "Assign4"
         ]
        },
        {
         "marker": {
          "line": {
           "width": 2
          },
          "size": [
           0,
           1,
           1,
           1
          ],
          "sizemode": "area",
          "sizeref": 0.01,
          "symbol": "circle"
         },
         "mode": "markers",
         "name": "Student_7",
         "text": [
          "0",
          "1",
          "1",
          "1"
         ],
         "type": "scatter",
         "uid": "1ca6fffe-e2e9-11e8-96ad-27ad55f30ab3",
         "x": [
          "Student_7",
          "Student_7",
          "Student_7",
          "Student_7",
          "Student_7"
         ],
         "y": [
          "Assign1",
          "Assign2",
          "Assign3",
          "Assign4"
         ]
        },
        {
         "marker": {
          "line": {
           "width": 2
          },
          "size": [
           0,
           0,
           0,
           0
          ],
          "sizemode": "area",
          "sizeref": 0.01,
          "symbol": "circle"
         },
         "mode": "markers",
         "name": "Student_8",
         "text": [
          "0",
          "0",
          "0",
          "0"
         ],
         "type": "scatter",
         "uid": "1ca7008a-e2e9-11e8-96ad-27ad55f30ab3",
         "x": [
          "Student_8",
          "Student_8",
          "Student_8",
          "Student_8",
          "Student_8"
         ],
         "y": [
          "Assign1",
          "Assign2",
          "Assign3",
          "Assign4"
         ]
        },
        {
         "marker": {
          "line": {
           "width": 2
          },
          "size": [
           0,
           1,
           1,
           1
          ],
          "sizemode": "area",
          "sizeref": 0.01,
          "symbol": "circle"
         },
         "mode": "markers",
         "name": "Student_9",
         "text": [
          "0",
          "1",
          "1",
          "1"
         ],
         "type": "scatter",
         "uid": "1ca7010c-e2e9-11e8-96ad-27ad55f30ab3",
         "x": [
          "Student_9",
          "Student_9",
          "Student_9",
          "Student_9",
          "Student_9"
         ],
         "y": [
          "Assign1",
          "Assign2",
          "Assign3",
          "Assign4"
         ]
        },
        {
         "marker": {
          "line": {
           "width": 2
          },
          "size": [
           1,
           1,
           1,
           0
          ],
          "sizemode": "area",
          "sizeref": 0.01,
          "symbol": "circle"
         },
         "mode": "markers",
         "name": "Student_10",
         "text": [
          "1",
          "1",
          "1",
          "0"
         ],
         "type": "scatter",
         "uid": "1ca70198-e2e9-11e8-96ad-27ad55f30ab3",
         "x": [
          "Student_10",
          "Student_10",
          "Student_10",
          "Student_10",
          "Student_10"
         ],
         "y": [
          "Assign1",
          "Assign2",
          "Assign3",
          "Assign4"
         ]
        },
        {
         "marker": {
          "line": {
           "width": 2
          },
          "size": [
           1,
           0,
           1,
           1
          ],
          "sizemode": "area",
          "sizeref": 0.01,
          "symbol": "circle"
         },
         "mode": "markers",
         "name": "Student_11",
         "text": [
          "1",
          "0",
          "1",
          "1"
         ],
         "type": "scatter",
         "uid": "1ca7022e-e2e9-11e8-96ad-27ad55f30ab3",
         "x": [
          "Student_11",
          "Student_11",
          "Student_11",
          "Student_11",
          "Student_11"
         ],
         "y": [
          "Assign1",
          "Assign2",
          "Assign3",
          "Assign4"
         ]
        },
        {
         "marker": {
          "line": {
           "width": 2
          },
          "size": [
           1,
           0,
           0,
           0
          ],
          "sizemode": "area",
          "sizeref": 0.01,
          "symbol": "circle"
         },
         "mode": "markers",
         "name": "Student_12",
         "text": [
          "1",
          "0",
          "0",
          "0"
         ],
         "type": "scatter",
         "uid": "1ca702b0-e2e9-11e8-96ad-27ad55f30ab3",
         "x": [
          "Student_12",
          "Student_12",
          "Student_12",
          "Student_12",
          "Student_12"
         ],
         "y": [
          "Assign1",
          "Assign2",
          "Assign3",
          "Assign4"
         ]
        },
        {
         "marker": {
          "line": {
           "width": 2
          },
          "size": [
           1,
           0,
           0,
           0
          ],
          "sizemode": "area",
          "sizeref": 0.01,
          "symbol": "circle"
         },
         "mode": "markers",
         "name": "Student_13",
         "text": [
          "1",
          "0",
          "0",
          "0"
         ],
         "type": "scatter",
         "uid": "1ca7033c-e2e9-11e8-96ad-27ad55f30ab3",
         "x": [
          "Student_13",
          "Student_13",
          "Student_13",
          "Student_13",
          "Student_13"
         ],
         "y": [
          "Assign1",
          "Assign2",
          "Assign3",
          "Assign4"
         ]
        },
        {
         "marker": {
          "line": {
           "width": 2
          },
          "size": [
           1,
           0,
           0,
           0
          ],
          "sizemode": "area",
          "sizeref": 0.01,
          "symbol": "circle"
         },
         "mode": "markers",
         "name": "Student_14",
         "text": [
          "1",
          "0",
          "0",
          "0"
         ],
         "type": "scatter",
         "uid": "1ca703be-e2e9-11e8-96ad-27ad55f30ab3",
         "x": [
          "Student_14",
          "Student_14",
          "Student_14",
          "Student_14",
          "Student_14"
         ],
         "y": [
          "Assign1",
          "Assign2",
          "Assign3",
          "Assign4"
         ]
        },
        {
         "marker": {
          "line": {
           "width": 2
          },
          "size": [
           1,
           0,
           0,
           1
          ],
          "sizemode": "area",
          "sizeref": 0.01,
          "symbol": "circle"
         },
         "mode": "markers",
         "name": "Student_15",
         "text": [
          "1",
          "0",
          "0",
          "1"
         ],
         "type": "scatter",
         "uid": "1ca7044a-e2e9-11e8-96ad-27ad55f30ab3",
         "x": [
          "Student_15",
          "Student_15",
          "Student_15",
          "Student_15",
          "Student_15"
         ],
         "y": [
          "Assign1",
          "Assign2",
          "Assign3",
          "Assign4"
         ]
        },
        {
         "marker": {
          "line": {
           "width": 2
          },
          "size": [
           0,
           0,
           1,
           0
          ],
          "sizemode": "area",
          "sizeref": 0.01,
          "symbol": "circle"
         },
         "mode": "markers",
         "name": "Student_16",
         "text": [
          "0",
          "0",
          "1",
          "0"
         ],
         "type": "scatter",
         "uid": "1ca704cc-e2e9-11e8-96ad-27ad55f30ab3",
         "x": [
          "Student_16",
          "Student_16",
          "Student_16",
          "Student_16",
          "Student_16"
         ],
         "y": [
          "Assign1",
          "Assign2",
          "Assign3",
          "Assign4"
         ]
        },
        {
         "marker": {
          "line": {
           "width": 2
          },
          "size": [
           0,
           1,
           1,
           1
          ],
          "sizemode": "area",
          "sizeref": 0.01,
          "symbol": "circle"
         },
         "mode": "markers",
         "name": "Student_17",
         "text": [
          "0",
          "1",
          "1",
          "1"
         ],
         "type": "scatter",
         "uid": "1ca7054e-e2e9-11e8-96ad-27ad55f30ab3",
         "x": [
          "Student_17",
          "Student_17",
          "Student_17",
          "Student_17",
          "Student_17"
         ],
         "y": [
          "Assign1",
          "Assign2",
          "Assign3",
          "Assign4"
         ]
        },
        {
         "marker": {
          "line": {
           "width": 2
          },
          "size": [
           0,
           1,
           1,
           1
          ],
          "sizemode": "area",
          "sizeref": 0.01,
          "symbol": "circle"
         },
         "mode": "markers",
         "name": "Student_18",
         "text": [
          "0",
          "1",
          "1",
          "1"
         ],
         "type": "scatter",
         "uid": "1ca705d0-e2e9-11e8-96ad-27ad55f30ab3",
         "x": [
          "Student_18",
          "Student_18",
          "Student_18",
          "Student_18",
          "Student_18"
         ],
         "y": [
          "Assign1",
          "Assign2",
          "Assign3",
          "Assign4"
         ]
        },
        {
         "marker": {
          "line": {
           "width": 2
          },
          "size": [
           1,
           0,
           0,
           0
          ],
          "sizemode": "area",
          "sizeref": 0.01,
          "symbol": "circle"
         },
         "mode": "markers",
         "name": "Student_19",
         "text": [
          "1",
          "0",
          "0",
          "0"
         ],
         "type": "scatter",
         "uid": "1ca70648-e2e9-11e8-96ad-27ad55f30ab3",
         "x": [
          "Student_19",
          "Student_19",
          "Student_19",
          "Student_19",
          "Student_19"
         ],
         "y": [
          "Assign1",
          "Assign2",
          "Assign3",
          "Assign4"
         ]
        },
        {
         "marker": {
          "line": {
           "width": 2
          },
          "size": [
           1,
           0,
           0,
           1
          ],
          "sizemode": "area",
          "sizeref": 0.01,
          "symbol": "circle"
         },
         "mode": "markers",
         "name": "Student_20",
         "text": [
          "1",
          "0",
          "0",
          "1"
         ],
         "type": "scatter",
         "uid": "1ca706c0-e2e9-11e8-96ad-27ad55f30ab3",
         "x": [
          "Student_20",
          "Student_20",
          "Student_20",
          "Student_20",
          "Student_20"
         ],
         "y": [
          "Assign1",
          "Assign2",
          "Assign3",
          "Assign4"
         ]
        }
       ],
       "layout": {
        "hovermode": "closest",
        "showlegend": true,
        "title": "Atividades feitas por estudante",
        "xaxis": {
         "autorange": false,
         "fixedrange": false,
         "range": [
          -1,
          20
         ],
         "rangemode": "normal",
         "showline": true,
         "title": "Estudantes",
         "type": "category"
        },
        "yaxis": {
         "autorange": false,
         "categoryorder": "category ascending",
         "fixedrange": false,
         "range": [
          -1,
          4
         ],
         "rangemode": "normal",
         "showline": true,
         "title": "Atividades",
         "type": "category"
        }
       }
      },
      "text/html": [
       "<div id=\"1eadd6e8-0307-4f19-bcb7-a624536e230c\" style=\"height: 525px; width: 100%;\" class=\"plotly-graph-div\"></div><script type=\"text/javascript\">require([\"plotly\"], function(Plotly) { window.PLOTLYENV=window.PLOTLYENV || {};window.PLOTLYENV.BASE_URL=\"https://plot.ly\";Plotly.newPlot(\"1eadd6e8-0307-4f19-bcb7-a624536e230c\", [{\"marker\": {\"line\": {\"width\": 2}, \"size\": [0, 1, 0, 1], \"sizemode\": \"area\", \"sizeref\": 0.01, \"symbol\": \"circle\"}, \"mode\": \"markers\", \"name\": \"Student_1\", \"text\": [\"0\", \"1\", \"0\", \"1\"], \"x\": [\"Student_1\", \"Student_1\", \"Student_1\", \"Student_1\", \"Student_1\"], \"y\": [\"Assign1\", \"Assign2\", \"Assign3\", \"Assign4\"], \"type\": \"scatter\", \"uid\": \"1ca6fb1c-e2e9-11e8-96ad-27ad55f30ab3\"}, {\"marker\": {\"line\": {\"width\": 2}, \"size\": [0, 1, 0, 0], \"sizemode\": \"area\", \"sizeref\": 0.01, \"symbol\": \"circle\"}, \"mode\": \"markers\", \"name\": \"Student_2\", \"text\": [\"0\", \"1\", \"0\", \"0\"], \"x\": [\"Student_2\", \"Student_2\", \"Student_2\", \"Student_2\", \"Student_2\"], \"y\": [\"Assign1\", \"Assign2\", \"Assign3\", \"Assign4\"], \"type\": \"scatter\", \"uid\": \"1ca6fcd4-e2e9-11e8-96ad-27ad55f30ab3\"}, {\"marker\": {\"line\": {\"width\": 2}, \"size\": [0, 1, 1, 1], \"sizemode\": \"area\", \"sizeref\": 0.01, \"symbol\": \"circle\"}, \"mode\": \"markers\", \"name\": \"Student_3\", \"text\": [\"0\", \"1\", \"1\", \"1\"], \"x\": [\"Student_3\", \"Student_3\", \"Student_3\", \"Student_3\", \"Student_3\"], \"y\": [\"Assign1\", \"Assign2\", \"Assign3\", \"Assign4\"], \"type\": \"scatter\", \"uid\": \"1ca6fd9c-e2e9-11e8-96ad-27ad55f30ab3\"}, {\"marker\": {\"line\": {\"width\": 2}, \"size\": [0, 0, 0, 1], \"sizemode\": \"area\", \"sizeref\": 0.01, \"symbol\": \"circle\"}, \"mode\": \"markers\", \"name\": \"Student_4\", \"text\": [\"0\", \"0\", \"0\", \"1\"], \"x\": [\"Student_4\", \"Student_4\", \"Student_4\", \"Student_4\", \"Student_4\"], \"y\": [\"Assign1\", \"Assign2\", \"Assign3\", \"Assign4\"], \"type\": \"scatter\", \"uid\": \"1ca6fe46-e2e9-11e8-96ad-27ad55f30ab3\"}, {\"marker\": {\"line\": {\"width\": 2}, \"size\": [1, 1, 0, 0], \"sizemode\": \"area\", \"sizeref\": 0.01, \"symbol\": \"circle\"}, \"mode\": \"markers\", \"name\": \"Student_5\", \"text\": [\"1\", \"1\", \"0\", \"0\"], \"x\": [\"Student_5\", \"Student_5\", \"Student_5\", \"Student_5\", \"Student_5\"], \"y\": [\"Assign1\", \"Assign2\", \"Assign3\", \"Assign4\"], \"type\": \"scatter\", \"uid\": \"1ca6fedc-e2e9-11e8-96ad-27ad55f30ab3\"}, {\"marker\": {\"line\": {\"width\": 2}, \"size\": [1, 0, 1, 0], \"sizemode\": \"area\", \"sizeref\": 0.01, \"symbol\": \"circle\"}, \"mode\": \"markers\", \"name\": \"Student_6\", \"text\": [\"1\", \"0\", \"1\", \"0\"], \"x\": [\"Student_6\", \"Student_6\", \"Student_6\", \"Student_6\", \"Student_6\"], \"y\": [\"Assign1\", \"Assign2\", \"Assign3\", \"Assign4\"], \"type\": \"scatter\", \"uid\": \"1ca6ff72-e2e9-11e8-96ad-27ad55f30ab3\"}, {\"marker\": {\"line\": {\"width\": 2}, \"size\": [0, 1, 1, 1], \"sizemode\": \"area\", \"sizeref\": 0.01, \"symbol\": \"circle\"}, \"mode\": \"markers\", \"name\": \"Student_7\", \"text\": [\"0\", \"1\", \"1\", \"1\"], \"x\": [\"Student_7\", \"Student_7\", \"Student_7\", \"Student_7\", \"Student_7\"], \"y\": [\"Assign1\", \"Assign2\", \"Assign3\", \"Assign4\"], \"type\": \"scatter\", \"uid\": \"1ca6fffe-e2e9-11e8-96ad-27ad55f30ab3\"}, {\"marker\": {\"line\": {\"width\": 2}, \"size\": [0, 0, 0, 0], \"sizemode\": \"area\", \"sizeref\": 0.01, \"symbol\": \"circle\"}, \"mode\": \"markers\", \"name\": \"Student_8\", \"text\": [\"0\", \"0\", \"0\", \"0\"], \"x\": [\"Student_8\", \"Student_8\", \"Student_8\", \"Student_8\", \"Student_8\"], \"y\": [\"Assign1\", \"Assign2\", \"Assign3\", \"Assign4\"], \"type\": \"scatter\", \"uid\": \"1ca7008a-e2e9-11e8-96ad-27ad55f30ab3\"}, {\"marker\": {\"line\": {\"width\": 2}, \"size\": [0, 1, 1, 1], \"sizemode\": \"area\", \"sizeref\": 0.01, \"symbol\": \"circle\"}, \"mode\": \"markers\", \"name\": \"Student_9\", \"text\": [\"0\", \"1\", \"1\", \"1\"], \"x\": [\"Student_9\", \"Student_9\", \"Student_9\", \"Student_9\", \"Student_9\"], \"y\": [\"Assign1\", \"Assign2\", \"Assign3\", \"Assign4\"], \"type\": \"scatter\", \"uid\": \"1ca7010c-e2e9-11e8-96ad-27ad55f30ab3\"}, {\"marker\": {\"line\": {\"width\": 2}, \"size\": [1, 1, 1, 0], \"sizemode\": \"area\", \"sizeref\": 0.01, \"symbol\": \"circle\"}, \"mode\": \"markers\", \"name\": \"Student_10\", \"text\": [\"1\", \"1\", \"1\", \"0\"], \"x\": [\"Student_10\", \"Student_10\", \"Student_10\", \"Student_10\", \"Student_10\"], \"y\": [\"Assign1\", \"Assign2\", \"Assign3\", \"Assign4\"], \"type\": \"scatter\", \"uid\": \"1ca70198-e2e9-11e8-96ad-27ad55f30ab3\"}, {\"marker\": {\"line\": {\"width\": 2}, \"size\": [1, 0, 1, 1], \"sizemode\": \"area\", \"sizeref\": 0.01, \"symbol\": \"circle\"}, \"mode\": \"markers\", \"name\": \"Student_11\", \"text\": [\"1\", \"0\", \"1\", \"1\"], \"x\": [\"Student_11\", \"Student_11\", \"Student_11\", \"Student_11\", \"Student_11\"], \"y\": [\"Assign1\", \"Assign2\", \"Assign3\", \"Assign4\"], \"type\": \"scatter\", \"uid\": \"1ca7022e-e2e9-11e8-96ad-27ad55f30ab3\"}, {\"marker\": {\"line\": {\"width\": 2}, \"size\": [1, 0, 0, 0], \"sizemode\": \"area\", \"sizeref\": 0.01, \"symbol\": \"circle\"}, \"mode\": \"markers\", \"name\": \"Student_12\", \"text\": [\"1\", \"0\", \"0\", \"0\"], \"x\": [\"Student_12\", \"Student_12\", \"Student_12\", \"Student_12\", \"Student_12\"], \"y\": [\"Assign1\", \"Assign2\", \"Assign3\", \"Assign4\"], \"type\": \"scatter\", \"uid\": \"1ca702b0-e2e9-11e8-96ad-27ad55f30ab3\"}, {\"marker\": {\"line\": {\"width\": 2}, \"size\": [1, 0, 0, 0], \"sizemode\": \"area\", \"sizeref\": 0.01, \"symbol\": \"circle\"}, \"mode\": \"markers\", \"name\": \"Student_13\", \"text\": [\"1\", \"0\", \"0\", \"0\"], \"x\": [\"Student_13\", \"Student_13\", \"Student_13\", \"Student_13\", \"Student_13\"], \"y\": [\"Assign1\", \"Assign2\", \"Assign3\", \"Assign4\"], \"type\": \"scatter\", \"uid\": \"1ca7033c-e2e9-11e8-96ad-27ad55f30ab3\"}, {\"marker\": {\"line\": {\"width\": 2}, \"size\": [1, 0, 0, 0], \"sizemode\": \"area\", \"sizeref\": 0.01, \"symbol\": \"circle\"}, \"mode\": \"markers\", \"name\": \"Student_14\", \"text\": [\"1\", \"0\", \"0\", \"0\"], \"x\": [\"Student_14\", \"Student_14\", \"Student_14\", \"Student_14\", \"Student_14\"], \"y\": [\"Assign1\", \"Assign2\", \"Assign3\", \"Assign4\"], \"type\": \"scatter\", \"uid\": \"1ca703be-e2e9-11e8-96ad-27ad55f30ab3\"}, {\"marker\": {\"line\": {\"width\": 2}, \"size\": [1, 0, 0, 1], \"sizemode\": \"area\", \"sizeref\": 0.01, \"symbol\": \"circle\"}, \"mode\": \"markers\", \"name\": \"Student_15\", \"text\": [\"1\", \"0\", \"0\", \"1\"], \"x\": [\"Student_15\", \"Student_15\", \"Student_15\", \"Student_15\", \"Student_15\"], \"y\": [\"Assign1\", \"Assign2\", \"Assign3\", \"Assign4\"], \"type\": \"scatter\", \"uid\": \"1ca7044a-e2e9-11e8-96ad-27ad55f30ab3\"}, {\"marker\": {\"line\": {\"width\": 2}, \"size\": [0, 0, 1, 0], \"sizemode\": \"area\", \"sizeref\": 0.01, \"symbol\": \"circle\"}, \"mode\": \"markers\", \"name\": \"Student_16\", \"text\": [\"0\", \"0\", \"1\", \"0\"], \"x\": [\"Student_16\", \"Student_16\", \"Student_16\", \"Student_16\", \"Student_16\"], \"y\": [\"Assign1\", \"Assign2\", \"Assign3\", \"Assign4\"], \"type\": \"scatter\", \"uid\": \"1ca704cc-e2e9-11e8-96ad-27ad55f30ab3\"}, {\"marker\": {\"line\": {\"width\": 2}, \"size\": [0, 1, 1, 1], \"sizemode\": \"area\", \"sizeref\": 0.01, \"symbol\": \"circle\"}, \"mode\": \"markers\", \"name\": \"Student_17\", \"text\": [\"0\", \"1\", \"1\", \"1\"], \"x\": [\"Student_17\", \"Student_17\", \"Student_17\", \"Student_17\", \"Student_17\"], \"y\": [\"Assign1\", \"Assign2\", \"Assign3\", \"Assign4\"], \"type\": \"scatter\", \"uid\": \"1ca7054e-e2e9-11e8-96ad-27ad55f30ab3\"}, {\"marker\": {\"line\": {\"width\": 2}, \"size\": [0, 1, 1, 1], \"sizemode\": \"area\", \"sizeref\": 0.01, \"symbol\": \"circle\"}, \"mode\": \"markers\", \"name\": \"Student_18\", \"text\": [\"0\", \"1\", \"1\", \"1\"], \"x\": [\"Student_18\", \"Student_18\", \"Student_18\", \"Student_18\", \"Student_18\"], \"y\": [\"Assign1\", \"Assign2\", \"Assign3\", \"Assign4\"], \"type\": \"scatter\", \"uid\": \"1ca705d0-e2e9-11e8-96ad-27ad55f30ab3\"}, {\"marker\": {\"line\": {\"width\": 2}, \"size\": [1, 0, 0, 0], \"sizemode\": \"area\", \"sizeref\": 0.01, \"symbol\": \"circle\"}, \"mode\": \"markers\", \"name\": \"Student_19\", \"text\": [\"1\", \"0\", \"0\", \"0\"], \"x\": [\"Student_19\", \"Student_19\", \"Student_19\", \"Student_19\", \"Student_19\"], \"y\": [\"Assign1\", \"Assign2\", \"Assign3\", \"Assign4\"], \"type\": \"scatter\", \"uid\": \"1ca70648-e2e9-11e8-96ad-27ad55f30ab3\"}, {\"marker\": {\"line\": {\"width\": 2}, \"size\": [1, 0, 0, 1], \"sizemode\": \"area\", \"sizeref\": 0.01, \"symbol\": \"circle\"}, \"mode\": \"markers\", \"name\": \"Student_20\", \"text\": [\"1\", \"0\", \"0\", \"1\"], \"x\": [\"Student_20\", \"Student_20\", \"Student_20\", \"Student_20\", \"Student_20\"], \"y\": [\"Assign1\", \"Assign2\", \"Assign3\", \"Assign4\"], \"type\": \"scatter\", \"uid\": \"1ca706c0-e2e9-11e8-96ad-27ad55f30ab3\"}], {\"hovermode\": \"closest\", \"showlegend\": true, \"title\": \"Atividades feitas por estudante\", \"xaxis\": {\"autorange\": false, \"fixedrange\": false, \"range\": [-1, 20], \"rangemode\": \"normal\", \"showline\": true, \"title\": \"Estudantes\", \"type\": \"category\"}, \"yaxis\": {\"autorange\": false, \"categoryorder\": \"category ascending\", \"fixedrange\": false, \"range\": [-1, 4], \"rangemode\": \"normal\", \"showline\": true, \"title\": \"Atividades\", \"type\": \"category\"}}, {\"showLink\": true, \"linkText\": \"Export to plot.ly\"})});</script>"
      ],
      "text/vnd.plotly.v1+html": [
       "<div id=\"1eadd6e8-0307-4f19-bcb7-a624536e230c\" style=\"height: 525px; width: 100%;\" class=\"plotly-graph-div\"></div><script type=\"text/javascript\">require([\"plotly\"], function(Plotly) { window.PLOTLYENV=window.PLOTLYENV || {};window.PLOTLYENV.BASE_URL=\"https://plot.ly\";Plotly.newPlot(\"1eadd6e8-0307-4f19-bcb7-a624536e230c\", [{\"marker\": {\"line\": {\"width\": 2}, \"size\": [0, 1, 0, 1], \"sizemode\": \"area\", \"sizeref\": 0.01, \"symbol\": \"circle\"}, \"mode\": \"markers\", \"name\": \"Student_1\", \"text\": [\"0\", \"1\", \"0\", \"1\"], \"x\": [\"Student_1\", \"Student_1\", \"Student_1\", \"Student_1\", \"Student_1\"], \"y\": [\"Assign1\", \"Assign2\", \"Assign3\", \"Assign4\"], \"type\": \"scatter\", \"uid\": \"1ca6fb1c-e2e9-11e8-96ad-27ad55f30ab3\"}, {\"marker\": {\"line\": {\"width\": 2}, \"size\": [0, 1, 0, 0], \"sizemode\": \"area\", \"sizeref\": 0.01, \"symbol\": \"circle\"}, \"mode\": \"markers\", \"name\": \"Student_2\", \"text\": [\"0\", \"1\", \"0\", \"0\"], \"x\": [\"Student_2\", \"Student_2\", \"Student_2\", \"Student_2\", \"Student_2\"], \"y\": [\"Assign1\", \"Assign2\", \"Assign3\", \"Assign4\"], \"type\": \"scatter\", \"uid\": \"1ca6fcd4-e2e9-11e8-96ad-27ad55f30ab3\"}, {\"marker\": {\"line\": {\"width\": 2}, \"size\": [0, 1, 1, 1], \"sizemode\": \"area\", \"sizeref\": 0.01, \"symbol\": \"circle\"}, \"mode\": \"markers\", \"name\": \"Student_3\", \"text\": [\"0\", \"1\", \"1\", \"1\"], \"x\": [\"Student_3\", \"Student_3\", \"Student_3\", \"Student_3\", \"Student_3\"], \"y\": [\"Assign1\", \"Assign2\", \"Assign3\", \"Assign4\"], \"type\": \"scatter\", \"uid\": \"1ca6fd9c-e2e9-11e8-96ad-27ad55f30ab3\"}, {\"marker\": {\"line\": {\"width\": 2}, \"size\": [0, 0, 0, 1], \"sizemode\": \"area\", \"sizeref\": 0.01, \"symbol\": \"circle\"}, \"mode\": \"markers\", \"name\": \"Student_4\", \"text\": [\"0\", \"0\", \"0\", \"1\"], \"x\": [\"Student_4\", \"Student_4\", \"Student_4\", \"Student_4\", \"Student_4\"], \"y\": [\"Assign1\", \"Assign2\", \"Assign3\", \"Assign4\"], \"type\": \"scatter\", \"uid\": \"1ca6fe46-e2e9-11e8-96ad-27ad55f30ab3\"}, {\"marker\": {\"line\": {\"width\": 2}, \"size\": [1, 1, 0, 0], \"sizemode\": \"area\", \"sizeref\": 0.01, \"symbol\": \"circle\"}, \"mode\": \"markers\", \"name\": \"Student_5\", \"text\": [\"1\", \"1\", \"0\", \"0\"], \"x\": [\"Student_5\", \"Student_5\", \"Student_5\", \"Student_5\", \"Student_5\"], \"y\": [\"Assign1\", \"Assign2\", \"Assign3\", \"Assign4\"], \"type\": \"scatter\", \"uid\": \"1ca6fedc-e2e9-11e8-96ad-27ad55f30ab3\"}, {\"marker\": {\"line\": {\"width\": 2}, \"size\": [1, 0, 1, 0], \"sizemode\": \"area\", \"sizeref\": 0.01, \"symbol\": \"circle\"}, \"mode\": \"markers\", \"name\": \"Student_6\", \"text\": [\"1\", \"0\", \"1\", \"0\"], \"x\": [\"Student_6\", \"Student_6\", \"Student_6\", \"Student_6\", \"Student_6\"], \"y\": [\"Assign1\", \"Assign2\", \"Assign3\", \"Assign4\"], \"type\": \"scatter\", \"uid\": \"1ca6ff72-e2e9-11e8-96ad-27ad55f30ab3\"}, {\"marker\": {\"line\": {\"width\": 2}, \"size\": [0, 1, 1, 1], \"sizemode\": \"area\", \"sizeref\": 0.01, \"symbol\": \"circle\"}, \"mode\": \"markers\", \"name\": \"Student_7\", \"text\": [\"0\", \"1\", \"1\", \"1\"], \"x\": [\"Student_7\", \"Student_7\", \"Student_7\", \"Student_7\", \"Student_7\"], \"y\": [\"Assign1\", \"Assign2\", \"Assign3\", \"Assign4\"], \"type\": \"scatter\", \"uid\": \"1ca6fffe-e2e9-11e8-96ad-27ad55f30ab3\"}, {\"marker\": {\"line\": {\"width\": 2}, \"size\": [0, 0, 0, 0], \"sizemode\": \"area\", \"sizeref\": 0.01, \"symbol\": \"circle\"}, \"mode\": \"markers\", \"name\": \"Student_8\", \"text\": [\"0\", \"0\", \"0\", \"0\"], \"x\": [\"Student_8\", \"Student_8\", \"Student_8\", \"Student_8\", \"Student_8\"], \"y\": [\"Assign1\", \"Assign2\", \"Assign3\", \"Assign4\"], \"type\": \"scatter\", \"uid\": \"1ca7008a-e2e9-11e8-96ad-27ad55f30ab3\"}, {\"marker\": {\"line\": {\"width\": 2}, \"size\": [0, 1, 1, 1], \"sizemode\": \"area\", \"sizeref\": 0.01, \"symbol\": \"circle\"}, \"mode\": \"markers\", \"name\": \"Student_9\", \"text\": [\"0\", \"1\", \"1\", \"1\"], \"x\": [\"Student_9\", \"Student_9\", \"Student_9\", \"Student_9\", \"Student_9\"], \"y\": [\"Assign1\", \"Assign2\", \"Assign3\", \"Assign4\"], \"type\": \"scatter\", \"uid\": \"1ca7010c-e2e9-11e8-96ad-27ad55f30ab3\"}, {\"marker\": {\"line\": {\"width\": 2}, \"size\": [1, 1, 1, 0], \"sizemode\": \"area\", \"sizeref\": 0.01, \"symbol\": \"circle\"}, \"mode\": \"markers\", \"name\": \"Student_10\", \"text\": [\"1\", \"1\", \"1\", \"0\"], \"x\": [\"Student_10\", \"Student_10\", \"Student_10\", \"Student_10\", \"Student_10\"], \"y\": [\"Assign1\", \"Assign2\", \"Assign3\", \"Assign4\"], \"type\": \"scatter\", \"uid\": \"1ca70198-e2e9-11e8-96ad-27ad55f30ab3\"}, {\"marker\": {\"line\": {\"width\": 2}, \"size\": [1, 0, 1, 1], \"sizemode\": \"area\", \"sizeref\": 0.01, \"symbol\": \"circle\"}, \"mode\": \"markers\", \"name\": \"Student_11\", \"text\": [\"1\", \"0\", \"1\", \"1\"], \"x\": [\"Student_11\", \"Student_11\", \"Student_11\", \"Student_11\", \"Student_11\"], \"y\": [\"Assign1\", \"Assign2\", \"Assign3\", \"Assign4\"], \"type\": \"scatter\", \"uid\": \"1ca7022e-e2e9-11e8-96ad-27ad55f30ab3\"}, {\"marker\": {\"line\": {\"width\": 2}, \"size\": [1, 0, 0, 0], \"sizemode\": \"area\", \"sizeref\": 0.01, \"symbol\": \"circle\"}, \"mode\": \"markers\", \"name\": \"Student_12\", \"text\": [\"1\", \"0\", \"0\", \"0\"], \"x\": [\"Student_12\", \"Student_12\", \"Student_12\", \"Student_12\", \"Student_12\"], \"y\": [\"Assign1\", \"Assign2\", \"Assign3\", \"Assign4\"], \"type\": \"scatter\", \"uid\": \"1ca702b0-e2e9-11e8-96ad-27ad55f30ab3\"}, {\"marker\": {\"line\": {\"width\": 2}, \"size\": [1, 0, 0, 0], \"sizemode\": \"area\", \"sizeref\": 0.01, \"symbol\": \"circle\"}, \"mode\": \"markers\", \"name\": \"Student_13\", \"text\": [\"1\", \"0\", \"0\", \"0\"], \"x\": [\"Student_13\", \"Student_13\", \"Student_13\", \"Student_13\", \"Student_13\"], \"y\": [\"Assign1\", \"Assign2\", \"Assign3\", \"Assign4\"], \"type\": \"scatter\", \"uid\": \"1ca7033c-e2e9-11e8-96ad-27ad55f30ab3\"}, {\"marker\": {\"line\": {\"width\": 2}, \"size\": [1, 0, 0, 0], \"sizemode\": \"area\", \"sizeref\": 0.01, \"symbol\": \"circle\"}, \"mode\": \"markers\", \"name\": \"Student_14\", \"text\": [\"1\", \"0\", \"0\", \"0\"], \"x\": [\"Student_14\", \"Student_14\", \"Student_14\", \"Student_14\", \"Student_14\"], \"y\": [\"Assign1\", \"Assign2\", \"Assign3\", \"Assign4\"], \"type\": \"scatter\", \"uid\": \"1ca703be-e2e9-11e8-96ad-27ad55f30ab3\"}, {\"marker\": {\"line\": {\"width\": 2}, \"size\": [1, 0, 0, 1], \"sizemode\": \"area\", \"sizeref\": 0.01, \"symbol\": \"circle\"}, \"mode\": \"markers\", \"name\": \"Student_15\", \"text\": [\"1\", \"0\", \"0\", \"1\"], \"x\": [\"Student_15\", \"Student_15\", \"Student_15\", \"Student_15\", \"Student_15\"], \"y\": [\"Assign1\", \"Assign2\", \"Assign3\", \"Assign4\"], \"type\": \"scatter\", \"uid\": \"1ca7044a-e2e9-11e8-96ad-27ad55f30ab3\"}, {\"marker\": {\"line\": {\"width\": 2}, \"size\": [0, 0, 1, 0], \"sizemode\": \"area\", \"sizeref\": 0.01, \"symbol\": \"circle\"}, \"mode\": \"markers\", \"name\": \"Student_16\", \"text\": [\"0\", \"0\", \"1\", \"0\"], \"x\": [\"Student_16\", \"Student_16\", \"Student_16\", \"Student_16\", \"Student_16\"], \"y\": [\"Assign1\", \"Assign2\", \"Assign3\", \"Assign4\"], \"type\": \"scatter\", \"uid\": \"1ca704cc-e2e9-11e8-96ad-27ad55f30ab3\"}, {\"marker\": {\"line\": {\"width\": 2}, \"size\": [0, 1, 1, 1], \"sizemode\": \"area\", \"sizeref\": 0.01, \"symbol\": \"circle\"}, \"mode\": \"markers\", \"name\": \"Student_17\", \"text\": [\"0\", \"1\", \"1\", \"1\"], \"x\": [\"Student_17\", \"Student_17\", \"Student_17\", \"Student_17\", \"Student_17\"], \"y\": [\"Assign1\", \"Assign2\", \"Assign3\", \"Assign4\"], \"type\": \"scatter\", \"uid\": \"1ca7054e-e2e9-11e8-96ad-27ad55f30ab3\"}, {\"marker\": {\"line\": {\"width\": 2}, \"size\": [0, 1, 1, 1], \"sizemode\": \"area\", \"sizeref\": 0.01, \"symbol\": \"circle\"}, \"mode\": \"markers\", \"name\": \"Student_18\", \"text\": [\"0\", \"1\", \"1\", \"1\"], \"x\": [\"Student_18\", \"Student_18\", \"Student_18\", \"Student_18\", \"Student_18\"], \"y\": [\"Assign1\", \"Assign2\", \"Assign3\", \"Assign4\"], \"type\": \"scatter\", \"uid\": \"1ca705d0-e2e9-11e8-96ad-27ad55f30ab3\"}, {\"marker\": {\"line\": {\"width\": 2}, \"size\": [1, 0, 0, 0], \"sizemode\": \"area\", \"sizeref\": 0.01, \"symbol\": \"circle\"}, \"mode\": \"markers\", \"name\": \"Student_19\", \"text\": [\"1\", \"0\", \"0\", \"0\"], \"x\": [\"Student_19\", \"Student_19\", \"Student_19\", \"Student_19\", \"Student_19\"], \"y\": [\"Assign1\", \"Assign2\", \"Assign3\", \"Assign4\"], \"type\": \"scatter\", \"uid\": \"1ca70648-e2e9-11e8-96ad-27ad55f30ab3\"}, {\"marker\": {\"line\": {\"width\": 2}, \"size\": [1, 0, 0, 1], \"sizemode\": \"area\", \"sizeref\": 0.01, \"symbol\": \"circle\"}, \"mode\": \"markers\", \"name\": \"Student_20\", \"text\": [\"1\", \"0\", \"0\", \"1\"], \"x\": [\"Student_20\", \"Student_20\", \"Student_20\", \"Student_20\", \"Student_20\"], \"y\": [\"Assign1\", \"Assign2\", \"Assign3\", \"Assign4\"], \"type\": \"scatter\", \"uid\": \"1ca706c0-e2e9-11e8-96ad-27ad55f30ab3\"}], {\"hovermode\": \"closest\", \"showlegend\": true, \"title\": \"Atividades feitas por estudante\", \"xaxis\": {\"autorange\": false, \"fixedrange\": false, \"range\": [-1, 20], \"rangemode\": \"normal\", \"showline\": true, \"title\": \"Estudantes\", \"type\": \"category\"}, \"yaxis\": {\"autorange\": false, \"categoryorder\": \"category ascending\", \"fixedrange\": false, \"range\": [-1, 4], \"rangemode\": \"normal\", \"showline\": true, \"title\": \"Atividades\", \"type\": \"category\"}}, {\"showLink\": true, \"linkText\": \"Export to plot.ly\"})});</script>"
      ]
     },
     "metadata": {},
     "output_type": "display_data"
    },
    {
     "data": {
      "application/vnd.plotly.v1+json": {
       "data": [
        {
         "colorscale": [
          [
           0,
           "rgb(255,255,255)"
          ],
          [
           1,
           "rgb(0,0,255)"
          ]
         ],
         "type": "heatmap",
         "uid": "1cb4bfb8-e2e9-11e8-96ad-27ad55f30ab3",
         "x": [
          "Assign1",
          "Assign2",
          "Assign3",
          "Assign4"
         ],
         "y": [
          "Student_1",
          "Student_2",
          "Student_3",
          "Student_4",
          "Student_5",
          "Student_6",
          "Student_7",
          "Student_8",
          "Student_9",
          "Student_10",
          "Student_11",
          "Student_12",
          "Student_13",
          "Student_14",
          "Student_15",
          "Student_16",
          "Student_17",
          "Student_18",
          "Student_19",
          "Student_20"
         ],
         "z": [
          [
           0,
           1,
           0,
           1
          ],
          [
           0,
           1,
           0,
           0
          ],
          [
           0,
           1,
           1,
           1
          ],
          [
           0,
           0,
           0,
           1
          ],
          [
           1,
           1,
           0,
           0
          ],
          [
           1,
           0,
           1,
           0
          ],
          [
           0,
           1,
           1,
           1
          ],
          [
           0,
           0,
           0,
           0
          ],
          [
           0,
           1,
           1,
           1
          ],
          [
           1,
           1,
           1,
           0
          ],
          [
           1,
           0,
           1,
           1
          ],
          [
           1,
           0,
           0,
           0
          ],
          [
           1,
           0,
           0,
           0
          ],
          [
           1,
           0,
           0,
           0
          ],
          [
           1,
           0,
           0,
           1
          ],
          [
           0,
           0,
           1,
           0
          ],
          [
           0,
           1,
           1,
           1
          ],
          [
           0,
           1,
           1,
           1
          ],
          [
           1,
           0,
           0,
           0
          ],
          [
           1,
           0,
           0,
           1
          ]
         ]
        }
       ],
       "layout": {
        "title": "Atividades feitas por estudante",
        "yaxis": {
         "dtick": 1,
         "exponentformat": "e",
         "gridcolor": "#bdbdbd",
         "showexponent": "all",
         "showticklabels": true,
         "tick0": 0,
         "titlefont": {
          "color": "lightgrey",
          "family": "Arial, sans-serif"
         }
        }
       }
      },
      "text/html": [
       "<div id=\"67074c87-4405-4740-9912-b81a1c709573\" style=\"height: 525px; width: 100%;\" class=\"plotly-graph-div\"></div><script type=\"text/javascript\">require([\"plotly\"], function(Plotly) { window.PLOTLYENV=window.PLOTLYENV || {};window.PLOTLYENV.BASE_URL=\"https://plot.ly\";Plotly.newPlot(\"67074c87-4405-4740-9912-b81a1c709573\", [{\"colorscale\": [[0, \"rgb(255,255,255)\"], [1, \"rgb(0,0,255)\"]], \"x\": [\"Assign1\", \"Assign2\", \"Assign3\", \"Assign4\"], \"y\": [\"Student_1\", \"Student_2\", \"Student_3\", \"Student_4\", \"Student_5\", \"Student_6\", \"Student_7\", \"Student_8\", \"Student_9\", \"Student_10\", \"Student_11\", \"Student_12\", \"Student_13\", \"Student_14\", \"Student_15\", \"Student_16\", \"Student_17\", \"Student_18\", \"Student_19\", \"Student_20\"], \"z\": [[0, 1, 0, 1], [0, 1, 0, 0], [0, 1, 1, 1], [0, 0, 0, 1], [1, 1, 0, 0], [1, 0, 1, 0], [0, 1, 1, 1], [0, 0, 0, 0], [0, 1, 1, 1], [1, 1, 1, 0], [1, 0, 1, 1], [1, 0, 0, 0], [1, 0, 0, 0], [1, 0, 0, 0], [1, 0, 0, 1], [0, 0, 1, 0], [0, 1, 1, 1], [0, 1, 1, 1], [1, 0, 0, 0], [1, 0, 0, 1]], \"type\": \"heatmap\", \"uid\": \"1cb4bfb8-e2e9-11e8-96ad-27ad55f30ab3\"}], {\"title\": \"Atividades feitas por estudante\", \"yaxis\": {\"dtick\": 1, \"exponentformat\": \"e\", \"gridcolor\": \"#bdbdbd\", \"showexponent\": \"all\", \"showticklabels\": true, \"tick0\": 0, \"titlefont\": {\"color\": \"lightgrey\", \"family\": \"Arial, sans-serif\"}}}, {\"showLink\": true, \"linkText\": \"Export to plot.ly\"})});</script>"
      ],
      "text/vnd.plotly.v1+html": [
       "<div id=\"67074c87-4405-4740-9912-b81a1c709573\" style=\"height: 525px; width: 100%;\" class=\"plotly-graph-div\"></div><script type=\"text/javascript\">require([\"plotly\"], function(Plotly) { window.PLOTLYENV=window.PLOTLYENV || {};window.PLOTLYENV.BASE_URL=\"https://plot.ly\";Plotly.newPlot(\"67074c87-4405-4740-9912-b81a1c709573\", [{\"colorscale\": [[0, \"rgb(255,255,255)\"], [1, \"rgb(0,0,255)\"]], \"x\": [\"Assign1\", \"Assign2\", \"Assign3\", \"Assign4\"], \"y\": [\"Student_1\", \"Student_2\", \"Student_3\", \"Student_4\", \"Student_5\", \"Student_6\", \"Student_7\", \"Student_8\", \"Student_9\", \"Student_10\", \"Student_11\", \"Student_12\", \"Student_13\", \"Student_14\", \"Student_15\", \"Student_16\", \"Student_17\", \"Student_18\", \"Student_19\", \"Student_20\"], \"z\": [[0, 1, 0, 1], [0, 1, 0, 0], [0, 1, 1, 1], [0, 0, 0, 1], [1, 1, 0, 0], [1, 0, 1, 0], [0, 1, 1, 1], [0, 0, 0, 0], [0, 1, 1, 1], [1, 1, 1, 0], [1, 0, 1, 1], [1, 0, 0, 0], [1, 0, 0, 0], [1, 0, 0, 0], [1, 0, 0, 1], [0, 0, 1, 0], [0, 1, 1, 1], [0, 1, 1, 1], [1, 0, 0, 0], [1, 0, 0, 1]], \"type\": \"heatmap\", \"uid\": \"1cb4bfb8-e2e9-11e8-96ad-27ad55f30ab3\"}], {\"title\": \"Atividades feitas por estudante\", \"yaxis\": {\"dtick\": 1, \"exponentformat\": \"e\", \"gridcolor\": \"#bdbdbd\", \"showexponent\": \"all\", \"showticklabels\": true, \"tick0\": 0, \"titlefont\": {\"color\": \"lightgrey\", \"family\": \"Arial, sans-serif\"}}}, {\"showLink\": true, \"linkText\": \"Export to plot.ly\"})});</script>"
      ]
     },
     "metadata": {},
     "output_type": "display_data"
    }
   ],
   "source": [
    "run scripts/V001.py"
   ]
  },
  {
   "cell_type": "markdown",
   "metadata": {},
   "source": [
    "### View 002"
   ]
  },
  {
   "cell_type": "code",
   "execution_count": 3,
   "metadata": {
    "scrolled": true
   },
   "outputs": [
    {
     "data": {
      "text/html": [
       "<script>requirejs.config({paths: { 'plotly': ['https://cdn.plot.ly/plotly-latest.min']},});if(!window.Plotly) {{require(['plotly'],function(plotly) {window.Plotly=plotly;});}}</script>"
      ],
      "text/vnd.plotly.v1+html": [
       "<script>requirejs.config({paths: { 'plotly': ['https://cdn.plot.ly/plotly-latest.min']},});if(!window.Plotly) {{require(['plotly'],function(plotly) {window.Plotly=plotly;});}}</script>"
      ]
     },
     "metadata": {},
     "output_type": "display_data"
    },
    {
     "data": {
      "application/vnd.plotly.v1+json": {
       "data": [
        {
         "cells": {
          "align": [
           "left",
           "center"
          ],
          "fill": {
           "color": "#F5F8FF"
          },
          "values": [
           [
            "Student_1",
            "Student_2",
            "Student_3",
            "Student_4",
            "Student_5",
            "Student_6",
            "Student_7",
            "Student_8",
            "Student_9",
            "Student_10",
            "Student_11",
            "Student_12",
            "Student_13",
            "Student_14",
            "Student_15",
            "Student_16",
            "Student_17",
            "Student_18",
            "Student_19",
            "Student_20"
           ],
           [
            17,
            12,
            14,
            27,
            9,
            15,
            13,
            24,
            4,
            26,
            19,
            19,
            23,
            29,
            11,
            12,
            21,
            28,
            4,
            20
           ],
           [
            1,
            21,
            5,
            23,
            15,
            10,
            9,
            12,
            16,
            6,
            25,
            15,
            27,
            28,
            23,
            29,
            2,
            11,
            13,
            22
           ],
           [
            14,
            23,
            17,
            25,
            6,
            16,
            27,
            9,
            22,
            13,
            21,
            13,
            9,
            23,
            19,
            11,
            23,
            9,
            0,
            23
           ],
           [
            3,
            21,
            3,
            13,
            10,
            8,
            18,
            1,
            28,
            13,
            7,
            11,
            6,
            28,
            4,
            7,
            22,
            11,
            2,
            20
           ],
           [
            16,
            8,
            10,
            16,
            6,
            28,
            3,
            0,
            8,
            10,
            5,
            28,
            19,
            27,
            26,
            29,
            13,
            11,
            1,
            29
           ],
           [
            28,
            27,
            3,
            22,
            4,
            6,
            20,
            8,
            9,
            12,
            19,
            6,
            2,
            13,
            18,
            29,
            11,
            17,
            18,
            20
           ],
           [
            18,
            25,
            13,
            22,
            7,
            24,
            0,
            2,
            22,
            27,
            25,
            12,
            25,
            21,
            29,
            7,
            26,
            24,
            20,
            21
           ],
           [
            10,
            13,
            19,
            10,
            24,
            4,
            4,
            10,
            9,
            19,
            6,
            3,
            10,
            0,
            16,
            11,
            6,
            13,
            21,
            9
           ]
          ]
         },
         "header": {
          "align": "center",
          "fill": {
           "color": "#C2D4FF"
          },
          "values": [
           "Students",
           "Video1",
           "Video2",
           "Quiz1",
           "Quiz2",
           "Pdf1",
           "Pdf2",
           "Ebook1",
           "Ebook2"
          ]
         },
         "type": "table",
         "uid": "1a675fbe-e2e8-11e8-96ad-27ad55f30ab3"
        }
       ],
       "layout": {}
      },
      "text/html": [
       "<div id=\"0b004b46-d27a-42bb-9544-bbf08262d704\" style=\"height: 525px; width: 100%;\" class=\"plotly-graph-div\"></div><script type=\"text/javascript\">require([\"plotly\"], function(Plotly) { window.PLOTLYENV=window.PLOTLYENV || {};window.PLOTLYENV.BASE_URL=\"https://plot.ly\";Plotly.newPlot(\"0b004b46-d27a-42bb-9544-bbf08262d704\", [{\"cells\": {\"align\": [\"left\", \"center\"], \"fill\": {\"color\": \"#F5F8FF\"}, \"values\": [[\"Student_1\", \"Student_2\", \"Student_3\", \"Student_4\", \"Student_5\", \"Student_6\", \"Student_7\", \"Student_8\", \"Student_9\", \"Student_10\", \"Student_11\", \"Student_12\", \"Student_13\", \"Student_14\", \"Student_15\", \"Student_16\", \"Student_17\", \"Student_18\", \"Student_19\", \"Student_20\"], [17, 12, 14, 27, 9, 15, 13, 24, 4, 26, 19, 19, 23, 29, 11, 12, 21, 28, 4, 20], [1, 21, 5, 23, 15, 10, 9, 12, 16, 6, 25, 15, 27, 28, 23, 29, 2, 11, 13, 22], [14, 23, 17, 25, 6, 16, 27, 9, 22, 13, 21, 13, 9, 23, 19, 11, 23, 9, 0, 23], [3, 21, 3, 13, 10, 8, 18, 1, 28, 13, 7, 11, 6, 28, 4, 7, 22, 11, 2, 20], [16, 8, 10, 16, 6, 28, 3, 0, 8, 10, 5, 28, 19, 27, 26, 29, 13, 11, 1, 29], [28, 27, 3, 22, 4, 6, 20, 8, 9, 12, 19, 6, 2, 13, 18, 29, 11, 17, 18, 20], [18, 25, 13, 22, 7, 24, 0, 2, 22, 27, 25, 12, 25, 21, 29, 7, 26, 24, 20, 21], [10, 13, 19, 10, 24, 4, 4, 10, 9, 19, 6, 3, 10, 0, 16, 11, 6, 13, 21, 9]]}, \"header\": {\"align\": \"center\", \"fill\": {\"color\": \"#C2D4FF\"}, \"values\": [\"Students\", \"Video1\", \"Video2\", \"Quiz1\", \"Quiz2\", \"Pdf1\", \"Pdf2\", \"Ebook1\", \"Ebook2\"]}, \"type\": \"table\", \"uid\": \"1a697402-e2e8-11e8-96ad-27ad55f30ab3\"}], {}, {\"showLink\": true, \"linkText\": \"Export to plot.ly\"})});</script>"
      ],
      "text/vnd.plotly.v1+html": [
       "<div id=\"0b004b46-d27a-42bb-9544-bbf08262d704\" style=\"height: 525px; width: 100%;\" class=\"plotly-graph-div\"></div><script type=\"text/javascript\">require([\"plotly\"], function(Plotly) { window.PLOTLYENV=window.PLOTLYENV || {};window.PLOTLYENV.BASE_URL=\"https://plot.ly\";Plotly.newPlot(\"0b004b46-d27a-42bb-9544-bbf08262d704\", [{\"cells\": {\"align\": [\"left\", \"center\"], \"fill\": {\"color\": \"#F5F8FF\"}, \"values\": [[\"Student_1\", \"Student_2\", \"Student_3\", \"Student_4\", \"Student_5\", \"Student_6\", \"Student_7\", \"Student_8\", \"Student_9\", \"Student_10\", \"Student_11\", \"Student_12\", \"Student_13\", \"Student_14\", \"Student_15\", \"Student_16\", \"Student_17\", \"Student_18\", \"Student_19\", \"Student_20\"], [17, 12, 14, 27, 9, 15, 13, 24, 4, 26, 19, 19, 23, 29, 11, 12, 21, 28, 4, 20], [1, 21, 5, 23, 15, 10, 9, 12, 16, 6, 25, 15, 27, 28, 23, 29, 2, 11, 13, 22], [14, 23, 17, 25, 6, 16, 27, 9, 22, 13, 21, 13, 9, 23, 19, 11, 23, 9, 0, 23], [3, 21, 3, 13, 10, 8, 18, 1, 28, 13, 7, 11, 6, 28, 4, 7, 22, 11, 2, 20], [16, 8, 10, 16, 6, 28, 3, 0, 8, 10, 5, 28, 19, 27, 26, 29, 13, 11, 1, 29], [28, 27, 3, 22, 4, 6, 20, 8, 9, 12, 19, 6, 2, 13, 18, 29, 11, 17, 18, 20], [18, 25, 13, 22, 7, 24, 0, 2, 22, 27, 25, 12, 25, 21, 29, 7, 26, 24, 20, 21], [10, 13, 19, 10, 24, 4, 4, 10, 9, 19, 6, 3, 10, 0, 16, 11, 6, 13, 21, 9]]}, \"header\": {\"align\": \"center\", \"fill\": {\"color\": \"#C2D4FF\"}, \"values\": [\"Students\", \"Video1\", \"Video2\", \"Quiz1\", \"Quiz2\", \"Pdf1\", \"Pdf2\", \"Ebook1\", \"Ebook2\"]}, \"type\": \"table\", \"uid\": \"1a697402-e2e8-11e8-96ad-27ad55f30ab3\"}], {}, {\"showLink\": true, \"linkText\": \"Export to plot.ly\"})});</script>"
      ]
     },
     "metadata": {},
     "output_type": "display_data"
    },
    {
     "data": {
      "application/vnd.plotly.v1+json": {
       "data": [
        {
         "name": "Video1",
         "type": "bar",
         "uid": "1a7389ec-e2e8-11e8-96ad-27ad55f30ab3",
         "x": [
          "Student_1",
          "Student_2",
          "Student_3",
          "Student_4",
          "Student_5",
          "Student_6",
          "Student_7",
          "Student_8",
          "Student_9",
          "Student_10",
          "Student_11",
          "Student_12",
          "Student_13",
          "Student_14",
          "Student_15",
          "Student_16",
          "Student_17",
          "Student_18",
          "Student_19",
          "Student_20"
         ],
         "y": [
          17,
          12,
          14,
          27,
          9,
          15,
          13,
          24,
          4,
          26,
          19,
          19,
          23,
          29,
          11,
          12,
          21,
          28,
          4,
          20
         ]
        },
        {
         "name": "Video2",
         "type": "bar",
         "uid": "1a738bcc-e2e8-11e8-96ad-27ad55f30ab3",
         "x": [
          "Student_1",
          "Student_2",
          "Student_3",
          "Student_4",
          "Student_5",
          "Student_6",
          "Student_7",
          "Student_8",
          "Student_9",
          "Student_10",
          "Student_11",
          "Student_12",
          "Student_13",
          "Student_14",
          "Student_15",
          "Student_16",
          "Student_17",
          "Student_18",
          "Student_19",
          "Student_20"
         ],
         "y": [
          1,
          21,
          5,
          23,
          15,
          10,
          9,
          12,
          16,
          6,
          25,
          15,
          27,
          28,
          23,
          29,
          2,
          11,
          13,
          22
         ]
        },
        {
         "name": "Quiz1",
         "type": "bar",
         "uid": "1a738cda-e2e8-11e8-96ad-27ad55f30ab3",
         "x": [
          "Student_1",
          "Student_2",
          "Student_3",
          "Student_4",
          "Student_5",
          "Student_6",
          "Student_7",
          "Student_8",
          "Student_9",
          "Student_10",
          "Student_11",
          "Student_12",
          "Student_13",
          "Student_14",
          "Student_15",
          "Student_16",
          "Student_17",
          "Student_18",
          "Student_19",
          "Student_20"
         ],
         "y": [
          14,
          23,
          17,
          25,
          6,
          16,
          27,
          9,
          22,
          13,
          21,
          13,
          9,
          23,
          19,
          11,
          23,
          9,
          0,
          23
         ]
        },
        {
         "name": "Quiz2",
         "type": "bar",
         "uid": "1a738dc0-e2e8-11e8-96ad-27ad55f30ab3",
         "x": [
          "Student_1",
          "Student_2",
          "Student_3",
          "Student_4",
          "Student_5",
          "Student_6",
          "Student_7",
          "Student_8",
          "Student_9",
          "Student_10",
          "Student_11",
          "Student_12",
          "Student_13",
          "Student_14",
          "Student_15",
          "Student_16",
          "Student_17",
          "Student_18",
          "Student_19",
          "Student_20"
         ],
         "y": [
          3,
          21,
          3,
          13,
          10,
          8,
          18,
          1,
          28,
          13,
          7,
          11,
          6,
          28,
          4,
          7,
          22,
          11,
          2,
          20
         ]
        },
        {
         "name": "Pdf1",
         "type": "bar",
         "uid": "1a738e92-e2e8-11e8-96ad-27ad55f30ab3",
         "x": [
          "Student_1",
          "Student_2",
          "Student_3",
          "Student_4",
          "Student_5",
          "Student_6",
          "Student_7",
          "Student_8",
          "Student_9",
          "Student_10",
          "Student_11",
          "Student_12",
          "Student_13",
          "Student_14",
          "Student_15",
          "Student_16",
          "Student_17",
          "Student_18",
          "Student_19",
          "Student_20"
         ],
         "y": [
          16,
          8,
          10,
          16,
          6,
          28,
          3,
          0,
          8,
          10,
          5,
          28,
          19,
          27,
          26,
          29,
          13,
          11,
          1,
          29
         ]
        },
        {
         "name": "Pdf2",
         "type": "bar",
         "uid": "1a738f64-e2e8-11e8-96ad-27ad55f30ab3",
         "x": [
          "Student_1",
          "Student_2",
          "Student_3",
          "Student_4",
          "Student_5",
          "Student_6",
          "Student_7",
          "Student_8",
          "Student_9",
          "Student_10",
          "Student_11",
          "Student_12",
          "Student_13",
          "Student_14",
          "Student_15",
          "Student_16",
          "Student_17",
          "Student_18",
          "Student_19",
          "Student_20"
         ],
         "y": [
          28,
          27,
          3,
          22,
          4,
          6,
          20,
          8,
          9,
          12,
          19,
          6,
          2,
          13,
          18,
          29,
          11,
          17,
          18,
          20
         ]
        },
        {
         "name": "Ebook1",
         "type": "bar",
         "uid": "1a73902c-e2e8-11e8-96ad-27ad55f30ab3",
         "x": [
          "Student_1",
          "Student_2",
          "Student_3",
          "Student_4",
          "Student_5",
          "Student_6",
          "Student_7",
          "Student_8",
          "Student_9",
          "Student_10",
          "Student_11",
          "Student_12",
          "Student_13",
          "Student_14",
          "Student_15",
          "Student_16",
          "Student_17",
          "Student_18",
          "Student_19",
          "Student_20"
         ],
         "y": [
          18,
          25,
          13,
          22,
          7,
          24,
          0,
          2,
          22,
          27,
          25,
          12,
          25,
          21,
          29,
          7,
          26,
          24,
          20,
          21
         ]
        },
        {
         "name": "Ebook2",
         "type": "bar",
         "uid": "1a7390e0-e2e8-11e8-96ad-27ad55f30ab3",
         "x": [
          "Student_1",
          "Student_2",
          "Student_3",
          "Student_4",
          "Student_5",
          "Student_6",
          "Student_7",
          "Student_8",
          "Student_9",
          "Student_10",
          "Student_11",
          "Student_12",
          "Student_13",
          "Student_14",
          "Student_15",
          "Student_16",
          "Student_17",
          "Student_18",
          "Student_19",
          "Student_20"
         ],
         "y": [
          10,
          13,
          19,
          10,
          24,
          4,
          4,
          10,
          9,
          19,
          6,
          3,
          10,
          0,
          16,
          11,
          6,
          13,
          21,
          9
         ]
        }
       ],
       "layout": {
        "title": "Número de acessos nos materiais agrupados por estudante",
        "yaxis": {
         "dtick": 5,
         "exponentformat": "e",
         "gridcolor": "#bdbdbd",
         "showexponent": "all",
         "showticklabels": true,
         "tick0": 0,
         "titlefont": {
          "color": "lightgrey",
          "family": "Arial, sans-serif"
         }
        }
       }
      },
      "text/html": [
       "<div id=\"5b50dedf-7e06-46d0-b5e3-bb68c19baae6\" style=\"height: 525px; width: 100%;\" class=\"plotly-graph-div\"></div><script type=\"text/javascript\">require([\"plotly\"], function(Plotly) { window.PLOTLYENV=window.PLOTLYENV || {};window.PLOTLYENV.BASE_URL=\"https://plot.ly\";Plotly.newPlot(\"5b50dedf-7e06-46d0-b5e3-bb68c19baae6\", [{\"name\": \"Video1\", \"x\": [\"Student_1\", \"Student_2\", \"Student_3\", \"Student_4\", \"Student_5\", \"Student_6\", \"Student_7\", \"Student_8\", \"Student_9\", \"Student_10\", \"Student_11\", \"Student_12\", \"Student_13\", \"Student_14\", \"Student_15\", \"Student_16\", \"Student_17\", \"Student_18\", \"Student_19\", \"Student_20\"], \"y\": [17, 12, 14, 27, 9, 15, 13, 24, 4, 26, 19, 19, 23, 29, 11, 12, 21, 28, 4, 20], \"type\": \"bar\", \"uid\": \"1a7389ec-e2e8-11e8-96ad-27ad55f30ab3\"}, {\"name\": \"Video2\", \"x\": [\"Student_1\", \"Student_2\", \"Student_3\", \"Student_4\", \"Student_5\", \"Student_6\", \"Student_7\", \"Student_8\", \"Student_9\", \"Student_10\", \"Student_11\", \"Student_12\", \"Student_13\", \"Student_14\", \"Student_15\", \"Student_16\", \"Student_17\", \"Student_18\", \"Student_19\", \"Student_20\"], \"y\": [1, 21, 5, 23, 15, 10, 9, 12, 16, 6, 25, 15, 27, 28, 23, 29, 2, 11, 13, 22], \"type\": \"bar\", \"uid\": \"1a738bcc-e2e8-11e8-96ad-27ad55f30ab3\"}, {\"name\": \"Quiz1\", \"x\": [\"Student_1\", \"Student_2\", \"Student_3\", \"Student_4\", \"Student_5\", \"Student_6\", \"Student_7\", \"Student_8\", \"Student_9\", \"Student_10\", \"Student_11\", \"Student_12\", \"Student_13\", \"Student_14\", \"Student_15\", \"Student_16\", \"Student_17\", \"Student_18\", \"Student_19\", \"Student_20\"], \"y\": [14, 23, 17, 25, 6, 16, 27, 9, 22, 13, 21, 13, 9, 23, 19, 11, 23, 9, 0, 23], \"type\": \"bar\", \"uid\": \"1a738cda-e2e8-11e8-96ad-27ad55f30ab3\"}, {\"name\": \"Quiz2\", \"x\": [\"Student_1\", \"Student_2\", \"Student_3\", \"Student_4\", \"Student_5\", \"Student_6\", \"Student_7\", \"Student_8\", \"Student_9\", \"Student_10\", \"Student_11\", \"Student_12\", \"Student_13\", \"Student_14\", \"Student_15\", \"Student_16\", \"Student_17\", \"Student_18\", \"Student_19\", \"Student_20\"], \"y\": [3, 21, 3, 13, 10, 8, 18, 1, 28, 13, 7, 11, 6, 28, 4, 7, 22, 11, 2, 20], \"type\": \"bar\", \"uid\": \"1a738dc0-e2e8-11e8-96ad-27ad55f30ab3\"}, {\"name\": \"Pdf1\", \"x\": [\"Student_1\", \"Student_2\", \"Student_3\", \"Student_4\", \"Student_5\", \"Student_6\", \"Student_7\", \"Student_8\", \"Student_9\", \"Student_10\", \"Student_11\", \"Student_12\", \"Student_13\", \"Student_14\", \"Student_15\", \"Student_16\", \"Student_17\", \"Student_18\", \"Student_19\", \"Student_20\"], \"y\": [16, 8, 10, 16, 6, 28, 3, 0, 8, 10, 5, 28, 19, 27, 26, 29, 13, 11, 1, 29], \"type\": \"bar\", \"uid\": \"1a738e92-e2e8-11e8-96ad-27ad55f30ab3\"}, {\"name\": \"Pdf2\", \"x\": [\"Student_1\", \"Student_2\", \"Student_3\", \"Student_4\", \"Student_5\", \"Student_6\", \"Student_7\", \"Student_8\", \"Student_9\", \"Student_10\", \"Student_11\", \"Student_12\", \"Student_13\", \"Student_14\", \"Student_15\", \"Student_16\", \"Student_17\", \"Student_18\", \"Student_19\", \"Student_20\"], \"y\": [28, 27, 3, 22, 4, 6, 20, 8, 9, 12, 19, 6, 2, 13, 18, 29, 11, 17, 18, 20], \"type\": \"bar\", \"uid\": \"1a738f64-e2e8-11e8-96ad-27ad55f30ab3\"}, {\"name\": \"Ebook1\", \"x\": [\"Student_1\", \"Student_2\", \"Student_3\", \"Student_4\", \"Student_5\", \"Student_6\", \"Student_7\", \"Student_8\", \"Student_9\", \"Student_10\", \"Student_11\", \"Student_12\", \"Student_13\", \"Student_14\", \"Student_15\", \"Student_16\", \"Student_17\", \"Student_18\", \"Student_19\", \"Student_20\"], \"y\": [18, 25, 13, 22, 7, 24, 0, 2, 22, 27, 25, 12, 25, 21, 29, 7, 26, 24, 20, 21], \"type\": \"bar\", \"uid\": \"1a73902c-e2e8-11e8-96ad-27ad55f30ab3\"}, {\"name\": \"Ebook2\", \"x\": [\"Student_1\", \"Student_2\", \"Student_3\", \"Student_4\", \"Student_5\", \"Student_6\", \"Student_7\", \"Student_8\", \"Student_9\", \"Student_10\", \"Student_11\", \"Student_12\", \"Student_13\", \"Student_14\", \"Student_15\", \"Student_16\", \"Student_17\", \"Student_18\", \"Student_19\", \"Student_20\"], \"y\": [10, 13, 19, 10, 24, 4, 4, 10, 9, 19, 6, 3, 10, 0, 16, 11, 6, 13, 21, 9], \"type\": \"bar\", \"uid\": \"1a7390e0-e2e8-11e8-96ad-27ad55f30ab3\"}], {\"title\": \"N\\u00famero de acessos nos materiais agrupados por estudante\", \"yaxis\": {\"dtick\": 5, \"exponentformat\": \"e\", \"gridcolor\": \"#bdbdbd\", \"showexponent\": \"all\", \"showticklabels\": true, \"tick0\": 0, \"titlefont\": {\"color\": \"lightgrey\", \"family\": \"Arial, sans-serif\"}}}, {\"showLink\": true, \"linkText\": \"Export to plot.ly\"})});</script>"
      ],
      "text/vnd.plotly.v1+html": [
       "<div id=\"5b50dedf-7e06-46d0-b5e3-bb68c19baae6\" style=\"height: 525px; width: 100%;\" class=\"plotly-graph-div\"></div><script type=\"text/javascript\">require([\"plotly\"], function(Plotly) { window.PLOTLYENV=window.PLOTLYENV || {};window.PLOTLYENV.BASE_URL=\"https://plot.ly\";Plotly.newPlot(\"5b50dedf-7e06-46d0-b5e3-bb68c19baae6\", [{\"name\": \"Video1\", \"x\": [\"Student_1\", \"Student_2\", \"Student_3\", \"Student_4\", \"Student_5\", \"Student_6\", \"Student_7\", \"Student_8\", \"Student_9\", \"Student_10\", \"Student_11\", \"Student_12\", \"Student_13\", \"Student_14\", \"Student_15\", \"Student_16\", \"Student_17\", \"Student_18\", \"Student_19\", \"Student_20\"], \"y\": [17, 12, 14, 27, 9, 15, 13, 24, 4, 26, 19, 19, 23, 29, 11, 12, 21, 28, 4, 20], \"type\": \"bar\", \"uid\": \"1a7389ec-e2e8-11e8-96ad-27ad55f30ab3\"}, {\"name\": \"Video2\", \"x\": [\"Student_1\", \"Student_2\", \"Student_3\", \"Student_4\", \"Student_5\", \"Student_6\", \"Student_7\", \"Student_8\", \"Student_9\", \"Student_10\", \"Student_11\", \"Student_12\", \"Student_13\", \"Student_14\", \"Student_15\", \"Student_16\", \"Student_17\", \"Student_18\", \"Student_19\", \"Student_20\"], \"y\": [1, 21, 5, 23, 15, 10, 9, 12, 16, 6, 25, 15, 27, 28, 23, 29, 2, 11, 13, 22], \"type\": \"bar\", \"uid\": \"1a738bcc-e2e8-11e8-96ad-27ad55f30ab3\"}, {\"name\": \"Quiz1\", \"x\": [\"Student_1\", \"Student_2\", \"Student_3\", \"Student_4\", \"Student_5\", \"Student_6\", \"Student_7\", \"Student_8\", \"Student_9\", \"Student_10\", \"Student_11\", \"Student_12\", \"Student_13\", \"Student_14\", \"Student_15\", \"Student_16\", \"Student_17\", \"Student_18\", \"Student_19\", \"Student_20\"], \"y\": [14, 23, 17, 25, 6, 16, 27, 9, 22, 13, 21, 13, 9, 23, 19, 11, 23, 9, 0, 23], \"type\": \"bar\", \"uid\": \"1a738cda-e2e8-11e8-96ad-27ad55f30ab3\"}, {\"name\": \"Quiz2\", \"x\": [\"Student_1\", \"Student_2\", \"Student_3\", \"Student_4\", \"Student_5\", \"Student_6\", \"Student_7\", \"Student_8\", \"Student_9\", \"Student_10\", \"Student_11\", \"Student_12\", \"Student_13\", \"Student_14\", \"Student_15\", \"Student_16\", \"Student_17\", \"Student_18\", \"Student_19\", \"Student_20\"], \"y\": [3, 21, 3, 13, 10, 8, 18, 1, 28, 13, 7, 11, 6, 28, 4, 7, 22, 11, 2, 20], \"type\": \"bar\", \"uid\": \"1a738dc0-e2e8-11e8-96ad-27ad55f30ab3\"}, {\"name\": \"Pdf1\", \"x\": [\"Student_1\", \"Student_2\", \"Student_3\", \"Student_4\", \"Student_5\", \"Student_6\", \"Student_7\", \"Student_8\", \"Student_9\", \"Student_10\", \"Student_11\", \"Student_12\", \"Student_13\", \"Student_14\", \"Student_15\", \"Student_16\", \"Student_17\", \"Student_18\", \"Student_19\", \"Student_20\"], \"y\": [16, 8, 10, 16, 6, 28, 3, 0, 8, 10, 5, 28, 19, 27, 26, 29, 13, 11, 1, 29], \"type\": \"bar\", \"uid\": \"1a738e92-e2e8-11e8-96ad-27ad55f30ab3\"}, {\"name\": \"Pdf2\", \"x\": [\"Student_1\", \"Student_2\", \"Student_3\", \"Student_4\", \"Student_5\", \"Student_6\", \"Student_7\", \"Student_8\", \"Student_9\", \"Student_10\", \"Student_11\", \"Student_12\", \"Student_13\", \"Student_14\", \"Student_15\", \"Student_16\", \"Student_17\", \"Student_18\", \"Student_19\", \"Student_20\"], \"y\": [28, 27, 3, 22, 4, 6, 20, 8, 9, 12, 19, 6, 2, 13, 18, 29, 11, 17, 18, 20], \"type\": \"bar\", \"uid\": \"1a738f64-e2e8-11e8-96ad-27ad55f30ab3\"}, {\"name\": \"Ebook1\", \"x\": [\"Student_1\", \"Student_2\", \"Student_3\", \"Student_4\", \"Student_5\", \"Student_6\", \"Student_7\", \"Student_8\", \"Student_9\", \"Student_10\", \"Student_11\", \"Student_12\", \"Student_13\", \"Student_14\", \"Student_15\", \"Student_16\", \"Student_17\", \"Student_18\", \"Student_19\", \"Student_20\"], \"y\": [18, 25, 13, 22, 7, 24, 0, 2, 22, 27, 25, 12, 25, 21, 29, 7, 26, 24, 20, 21], \"type\": \"bar\", \"uid\": \"1a73902c-e2e8-11e8-96ad-27ad55f30ab3\"}, {\"name\": \"Ebook2\", \"x\": [\"Student_1\", \"Student_2\", \"Student_3\", \"Student_4\", \"Student_5\", \"Student_6\", \"Student_7\", \"Student_8\", \"Student_9\", \"Student_10\", \"Student_11\", \"Student_12\", \"Student_13\", \"Student_14\", \"Student_15\", \"Student_16\", \"Student_17\", \"Student_18\", \"Student_19\", \"Student_20\"], \"y\": [10, 13, 19, 10, 24, 4, 4, 10, 9, 19, 6, 3, 10, 0, 16, 11, 6, 13, 21, 9], \"type\": \"bar\", \"uid\": \"1a7390e0-e2e8-11e8-96ad-27ad55f30ab3\"}], {\"title\": \"N\\u00famero de acessos nos materiais agrupados por estudante\", \"yaxis\": {\"dtick\": 5, \"exponentformat\": \"e\", \"gridcolor\": \"#bdbdbd\", \"showexponent\": \"all\", \"showticklabels\": true, \"tick0\": 0, \"titlefont\": {\"color\": \"lightgrey\", \"family\": \"Arial, sans-serif\"}}}, {\"showLink\": true, \"linkText\": \"Export to plot.ly\"})});</script>"
      ]
     },
     "metadata": {},
     "output_type": "display_data"
    },
    {
     "data": {
      "application/vnd.plotly.v1+json": {
       "data": [
        {
         "name": "Video1",
         "type": "bar",
         "uid": "1a7ced98-e2e8-11e8-96ad-27ad55f30ab3",
         "x": [
          "Student_1",
          "Student_2",
          "Student_3",
          "Student_4",
          "Student_5",
          "Student_6",
          "Student_7",
          "Student_8",
          "Student_9",
          "Student_10",
          "Student_11",
          "Student_12",
          "Student_13",
          "Student_14",
          "Student_15",
          "Student_16",
          "Student_17",
          "Student_18",
          "Student_19",
          "Student_20"
         ],
         "y": [
          17,
          12,
          14,
          27,
          9,
          15,
          13,
          24,
          4,
          26,
          19,
          19,
          23,
          29,
          11,
          12,
          21,
          28,
          4,
          20
         ]
        },
        {
         "name": "Video2",
         "type": "bar",
         "uid": "1a7cef5a-e2e8-11e8-96ad-27ad55f30ab3",
         "x": [
          "Student_1",
          "Student_2",
          "Student_3",
          "Student_4",
          "Student_5",
          "Student_6",
          "Student_7",
          "Student_8",
          "Student_9",
          "Student_10",
          "Student_11",
          "Student_12",
          "Student_13",
          "Student_14",
          "Student_15",
          "Student_16",
          "Student_17",
          "Student_18",
          "Student_19",
          "Student_20"
         ],
         "y": [
          1,
          21,
          5,
          23,
          15,
          10,
          9,
          12,
          16,
          6,
          25,
          15,
          27,
          28,
          23,
          29,
          2,
          11,
          13,
          22
         ]
        },
        {
         "name": "Quiz1",
         "type": "bar",
         "uid": "1a7cf022-e2e8-11e8-96ad-27ad55f30ab3",
         "x": [
          "Student_1",
          "Student_2",
          "Student_3",
          "Student_4",
          "Student_5",
          "Student_6",
          "Student_7",
          "Student_8",
          "Student_9",
          "Student_10",
          "Student_11",
          "Student_12",
          "Student_13",
          "Student_14",
          "Student_15",
          "Student_16",
          "Student_17",
          "Student_18",
          "Student_19",
          "Student_20"
         ],
         "y": [
          14,
          23,
          17,
          25,
          6,
          16,
          27,
          9,
          22,
          13,
          21,
          13,
          9,
          23,
          19,
          11,
          23,
          9,
          0,
          23
         ]
        },
        {
         "name": "Quiz2",
         "type": "bar",
         "uid": "1a7cf0cc-e2e8-11e8-96ad-27ad55f30ab3",
         "x": [
          "Student_1",
          "Student_2",
          "Student_3",
          "Student_4",
          "Student_5",
          "Student_6",
          "Student_7",
          "Student_8",
          "Student_9",
          "Student_10",
          "Student_11",
          "Student_12",
          "Student_13",
          "Student_14",
          "Student_15",
          "Student_16",
          "Student_17",
          "Student_18",
          "Student_19",
          "Student_20"
         ],
         "y": [
          3,
          21,
          3,
          13,
          10,
          8,
          18,
          1,
          28,
          13,
          7,
          11,
          6,
          28,
          4,
          7,
          22,
          11,
          2,
          20
         ]
        },
        {
         "name": "Pdf1",
         "type": "bar",
         "uid": "1a7cf162-e2e8-11e8-96ad-27ad55f30ab3",
         "x": [
          "Student_1",
          "Student_2",
          "Student_3",
          "Student_4",
          "Student_5",
          "Student_6",
          "Student_7",
          "Student_8",
          "Student_9",
          "Student_10",
          "Student_11",
          "Student_12",
          "Student_13",
          "Student_14",
          "Student_15",
          "Student_16",
          "Student_17",
          "Student_18",
          "Student_19",
          "Student_20"
         ],
         "y": [
          16,
          8,
          10,
          16,
          6,
          28,
          3,
          0,
          8,
          10,
          5,
          28,
          19,
          27,
          26,
          29,
          13,
          11,
          1,
          29
         ]
        },
        {
         "name": "Pdf2",
         "type": "bar",
         "uid": "1a7cf1e4-e2e8-11e8-96ad-27ad55f30ab3",
         "x": [
          "Student_1",
          "Student_2",
          "Student_3",
          "Student_4",
          "Student_5",
          "Student_6",
          "Student_7",
          "Student_8",
          "Student_9",
          "Student_10",
          "Student_11",
          "Student_12",
          "Student_13",
          "Student_14",
          "Student_15",
          "Student_16",
          "Student_17",
          "Student_18",
          "Student_19",
          "Student_20"
         ],
         "y": [
          28,
          27,
          3,
          22,
          4,
          6,
          20,
          8,
          9,
          12,
          19,
          6,
          2,
          13,
          18,
          29,
          11,
          17,
          18,
          20
         ]
        },
        {
         "name": "Ebook1",
         "type": "bar",
         "uid": "1a7cf266-e2e8-11e8-96ad-27ad55f30ab3",
         "x": [
          "Student_1",
          "Student_2",
          "Student_3",
          "Student_4",
          "Student_5",
          "Student_6",
          "Student_7",
          "Student_8",
          "Student_9",
          "Student_10",
          "Student_11",
          "Student_12",
          "Student_13",
          "Student_14",
          "Student_15",
          "Student_16",
          "Student_17",
          "Student_18",
          "Student_19",
          "Student_20"
         ],
         "y": [
          18,
          25,
          13,
          22,
          7,
          24,
          0,
          2,
          22,
          27,
          25,
          12,
          25,
          21,
          29,
          7,
          26,
          24,
          20,
          21
         ]
        },
        {
         "name": "Ebook2",
         "type": "bar",
         "uid": "1a7cf2de-e2e8-11e8-96ad-27ad55f30ab3",
         "x": [
          "Student_1",
          "Student_2",
          "Student_3",
          "Student_4",
          "Student_5",
          "Student_6",
          "Student_7",
          "Student_8",
          "Student_9",
          "Student_10",
          "Student_11",
          "Student_12",
          "Student_13",
          "Student_14",
          "Student_15",
          "Student_16",
          "Student_17",
          "Student_18",
          "Student_19",
          "Student_20"
         ],
         "y": [
          10,
          13,
          19,
          10,
          24,
          4,
          4,
          10,
          9,
          19,
          6,
          3,
          10,
          0,
          16,
          11,
          6,
          13,
          21,
          9
         ]
        }
       ],
       "layout": {
        "barmode": "stack",
        "title": "Número de acessos nos materiais agrupados por estudante",
        "yaxis": {
         "dtick": 15,
         "exponentformat": "e",
         "gridcolor": "#bdbdbd",
         "showexponent": "all",
         "showticklabels": true,
         "tick0": 0,
         "titlefont": {
          "color": "lightgrey",
          "family": "Arial, sans-serif"
         }
        }
       }
      },
      "text/html": [
       "<div id=\"0c7dea1e-e7a2-4aad-ab6c-1d7c5ba12e34\" style=\"height: 525px; width: 100%;\" class=\"plotly-graph-div\"></div><script type=\"text/javascript\">require([\"plotly\"], function(Plotly) { window.PLOTLYENV=window.PLOTLYENV || {};window.PLOTLYENV.BASE_URL=\"https://plot.ly\";Plotly.newPlot(\"0c7dea1e-e7a2-4aad-ab6c-1d7c5ba12e34\", [{\"name\": \"Video1\", \"x\": [\"Student_1\", \"Student_2\", \"Student_3\", \"Student_4\", \"Student_5\", \"Student_6\", \"Student_7\", \"Student_8\", \"Student_9\", \"Student_10\", \"Student_11\", \"Student_12\", \"Student_13\", \"Student_14\", \"Student_15\", \"Student_16\", \"Student_17\", \"Student_18\", \"Student_19\", \"Student_20\"], \"y\": [17, 12, 14, 27, 9, 15, 13, 24, 4, 26, 19, 19, 23, 29, 11, 12, 21, 28, 4, 20], \"type\": \"bar\", \"uid\": \"1a7ced98-e2e8-11e8-96ad-27ad55f30ab3\"}, {\"name\": \"Video2\", \"x\": [\"Student_1\", \"Student_2\", \"Student_3\", \"Student_4\", \"Student_5\", \"Student_6\", \"Student_7\", \"Student_8\", \"Student_9\", \"Student_10\", \"Student_11\", \"Student_12\", \"Student_13\", \"Student_14\", \"Student_15\", \"Student_16\", \"Student_17\", \"Student_18\", \"Student_19\", \"Student_20\"], \"y\": [1, 21, 5, 23, 15, 10, 9, 12, 16, 6, 25, 15, 27, 28, 23, 29, 2, 11, 13, 22], \"type\": \"bar\", \"uid\": \"1a7cef5a-e2e8-11e8-96ad-27ad55f30ab3\"}, {\"name\": \"Quiz1\", \"x\": [\"Student_1\", \"Student_2\", \"Student_3\", \"Student_4\", \"Student_5\", \"Student_6\", \"Student_7\", \"Student_8\", \"Student_9\", \"Student_10\", \"Student_11\", \"Student_12\", \"Student_13\", \"Student_14\", \"Student_15\", \"Student_16\", \"Student_17\", \"Student_18\", \"Student_19\", \"Student_20\"], \"y\": [14, 23, 17, 25, 6, 16, 27, 9, 22, 13, 21, 13, 9, 23, 19, 11, 23, 9, 0, 23], \"type\": \"bar\", \"uid\": \"1a7cf022-e2e8-11e8-96ad-27ad55f30ab3\"}, {\"name\": \"Quiz2\", \"x\": [\"Student_1\", \"Student_2\", \"Student_3\", \"Student_4\", \"Student_5\", \"Student_6\", \"Student_7\", \"Student_8\", \"Student_9\", \"Student_10\", \"Student_11\", \"Student_12\", \"Student_13\", \"Student_14\", \"Student_15\", \"Student_16\", \"Student_17\", \"Student_18\", \"Student_19\", \"Student_20\"], \"y\": [3, 21, 3, 13, 10, 8, 18, 1, 28, 13, 7, 11, 6, 28, 4, 7, 22, 11, 2, 20], \"type\": \"bar\", \"uid\": \"1a7cf0cc-e2e8-11e8-96ad-27ad55f30ab3\"}, {\"name\": \"Pdf1\", \"x\": [\"Student_1\", \"Student_2\", \"Student_3\", \"Student_4\", \"Student_5\", \"Student_6\", \"Student_7\", \"Student_8\", \"Student_9\", \"Student_10\", \"Student_11\", \"Student_12\", \"Student_13\", \"Student_14\", \"Student_15\", \"Student_16\", \"Student_17\", \"Student_18\", \"Student_19\", \"Student_20\"], \"y\": [16, 8, 10, 16, 6, 28, 3, 0, 8, 10, 5, 28, 19, 27, 26, 29, 13, 11, 1, 29], \"type\": \"bar\", \"uid\": \"1a7cf162-e2e8-11e8-96ad-27ad55f30ab3\"}, {\"name\": \"Pdf2\", \"x\": [\"Student_1\", \"Student_2\", \"Student_3\", \"Student_4\", \"Student_5\", \"Student_6\", \"Student_7\", \"Student_8\", \"Student_9\", \"Student_10\", \"Student_11\", \"Student_12\", \"Student_13\", \"Student_14\", \"Student_15\", \"Student_16\", \"Student_17\", \"Student_18\", \"Student_19\", \"Student_20\"], \"y\": [28, 27, 3, 22, 4, 6, 20, 8, 9, 12, 19, 6, 2, 13, 18, 29, 11, 17, 18, 20], \"type\": \"bar\", \"uid\": \"1a7cf1e4-e2e8-11e8-96ad-27ad55f30ab3\"}, {\"name\": \"Ebook1\", \"x\": [\"Student_1\", \"Student_2\", \"Student_3\", \"Student_4\", \"Student_5\", \"Student_6\", \"Student_7\", \"Student_8\", \"Student_9\", \"Student_10\", \"Student_11\", \"Student_12\", \"Student_13\", \"Student_14\", \"Student_15\", \"Student_16\", \"Student_17\", \"Student_18\", \"Student_19\", \"Student_20\"], \"y\": [18, 25, 13, 22, 7, 24, 0, 2, 22, 27, 25, 12, 25, 21, 29, 7, 26, 24, 20, 21], \"type\": \"bar\", \"uid\": \"1a7cf266-e2e8-11e8-96ad-27ad55f30ab3\"}, {\"name\": \"Ebook2\", \"x\": [\"Student_1\", \"Student_2\", \"Student_3\", \"Student_4\", \"Student_5\", \"Student_6\", \"Student_7\", \"Student_8\", \"Student_9\", \"Student_10\", \"Student_11\", \"Student_12\", \"Student_13\", \"Student_14\", \"Student_15\", \"Student_16\", \"Student_17\", \"Student_18\", \"Student_19\", \"Student_20\"], \"y\": [10, 13, 19, 10, 24, 4, 4, 10, 9, 19, 6, 3, 10, 0, 16, 11, 6, 13, 21, 9], \"type\": \"bar\", \"uid\": \"1a7cf2de-e2e8-11e8-96ad-27ad55f30ab3\"}], {\"barmode\": \"stack\", \"title\": \"N\\u00famero de acessos nos materiais agrupados por estudante\", \"yaxis\": {\"dtick\": 15, \"exponentformat\": \"e\", \"gridcolor\": \"#bdbdbd\", \"showexponent\": \"all\", \"showticklabels\": true, \"tick0\": 0, \"titlefont\": {\"color\": \"lightgrey\", \"family\": \"Arial, sans-serif\"}}}, {\"showLink\": true, \"linkText\": \"Export to plot.ly\"})});</script>"
      ],
      "text/vnd.plotly.v1+html": [
       "<div id=\"0c7dea1e-e7a2-4aad-ab6c-1d7c5ba12e34\" style=\"height: 525px; width: 100%;\" class=\"plotly-graph-div\"></div><script type=\"text/javascript\">require([\"plotly\"], function(Plotly) { window.PLOTLYENV=window.PLOTLYENV || {};window.PLOTLYENV.BASE_URL=\"https://plot.ly\";Plotly.newPlot(\"0c7dea1e-e7a2-4aad-ab6c-1d7c5ba12e34\", [{\"name\": \"Video1\", \"x\": [\"Student_1\", \"Student_2\", \"Student_3\", \"Student_4\", \"Student_5\", \"Student_6\", \"Student_7\", \"Student_8\", \"Student_9\", \"Student_10\", \"Student_11\", \"Student_12\", \"Student_13\", \"Student_14\", \"Student_15\", \"Student_16\", \"Student_17\", \"Student_18\", \"Student_19\", \"Student_20\"], \"y\": [17, 12, 14, 27, 9, 15, 13, 24, 4, 26, 19, 19, 23, 29, 11, 12, 21, 28, 4, 20], \"type\": \"bar\", \"uid\": \"1a7ced98-e2e8-11e8-96ad-27ad55f30ab3\"}, {\"name\": \"Video2\", \"x\": [\"Student_1\", \"Student_2\", \"Student_3\", \"Student_4\", \"Student_5\", \"Student_6\", \"Student_7\", \"Student_8\", \"Student_9\", \"Student_10\", \"Student_11\", \"Student_12\", \"Student_13\", \"Student_14\", \"Student_15\", \"Student_16\", \"Student_17\", \"Student_18\", \"Student_19\", \"Student_20\"], \"y\": [1, 21, 5, 23, 15, 10, 9, 12, 16, 6, 25, 15, 27, 28, 23, 29, 2, 11, 13, 22], \"type\": \"bar\", \"uid\": \"1a7cef5a-e2e8-11e8-96ad-27ad55f30ab3\"}, {\"name\": \"Quiz1\", \"x\": [\"Student_1\", \"Student_2\", \"Student_3\", \"Student_4\", \"Student_5\", \"Student_6\", \"Student_7\", \"Student_8\", \"Student_9\", \"Student_10\", \"Student_11\", \"Student_12\", \"Student_13\", \"Student_14\", \"Student_15\", \"Student_16\", \"Student_17\", \"Student_18\", \"Student_19\", \"Student_20\"], \"y\": [14, 23, 17, 25, 6, 16, 27, 9, 22, 13, 21, 13, 9, 23, 19, 11, 23, 9, 0, 23], \"type\": \"bar\", \"uid\": \"1a7cf022-e2e8-11e8-96ad-27ad55f30ab3\"}, {\"name\": \"Quiz2\", \"x\": [\"Student_1\", \"Student_2\", \"Student_3\", \"Student_4\", \"Student_5\", \"Student_6\", \"Student_7\", \"Student_8\", \"Student_9\", \"Student_10\", \"Student_11\", \"Student_12\", \"Student_13\", \"Student_14\", \"Student_15\", \"Student_16\", \"Student_17\", \"Student_18\", \"Student_19\", \"Student_20\"], \"y\": [3, 21, 3, 13, 10, 8, 18, 1, 28, 13, 7, 11, 6, 28, 4, 7, 22, 11, 2, 20], \"type\": \"bar\", \"uid\": \"1a7cf0cc-e2e8-11e8-96ad-27ad55f30ab3\"}, {\"name\": \"Pdf1\", \"x\": [\"Student_1\", \"Student_2\", \"Student_3\", \"Student_4\", \"Student_5\", \"Student_6\", \"Student_7\", \"Student_8\", \"Student_9\", \"Student_10\", \"Student_11\", \"Student_12\", \"Student_13\", \"Student_14\", \"Student_15\", \"Student_16\", \"Student_17\", \"Student_18\", \"Student_19\", \"Student_20\"], \"y\": [16, 8, 10, 16, 6, 28, 3, 0, 8, 10, 5, 28, 19, 27, 26, 29, 13, 11, 1, 29], \"type\": \"bar\", \"uid\": \"1a7cf162-e2e8-11e8-96ad-27ad55f30ab3\"}, {\"name\": \"Pdf2\", \"x\": [\"Student_1\", \"Student_2\", \"Student_3\", \"Student_4\", \"Student_5\", \"Student_6\", \"Student_7\", \"Student_8\", \"Student_9\", \"Student_10\", \"Student_11\", \"Student_12\", \"Student_13\", \"Student_14\", \"Student_15\", \"Student_16\", \"Student_17\", \"Student_18\", \"Student_19\", \"Student_20\"], \"y\": [28, 27, 3, 22, 4, 6, 20, 8, 9, 12, 19, 6, 2, 13, 18, 29, 11, 17, 18, 20], \"type\": \"bar\", \"uid\": \"1a7cf1e4-e2e8-11e8-96ad-27ad55f30ab3\"}, {\"name\": \"Ebook1\", \"x\": [\"Student_1\", \"Student_2\", \"Student_3\", \"Student_4\", \"Student_5\", \"Student_6\", \"Student_7\", \"Student_8\", \"Student_9\", \"Student_10\", \"Student_11\", \"Student_12\", \"Student_13\", \"Student_14\", \"Student_15\", \"Student_16\", \"Student_17\", \"Student_18\", \"Student_19\", \"Student_20\"], \"y\": [18, 25, 13, 22, 7, 24, 0, 2, 22, 27, 25, 12, 25, 21, 29, 7, 26, 24, 20, 21], \"type\": \"bar\", \"uid\": \"1a7cf266-e2e8-11e8-96ad-27ad55f30ab3\"}, {\"name\": \"Ebook2\", \"x\": [\"Student_1\", \"Student_2\", \"Student_3\", \"Student_4\", \"Student_5\", \"Student_6\", \"Student_7\", \"Student_8\", \"Student_9\", \"Student_10\", \"Student_11\", \"Student_12\", \"Student_13\", \"Student_14\", \"Student_15\", \"Student_16\", \"Student_17\", \"Student_18\", \"Student_19\", \"Student_20\"], \"y\": [10, 13, 19, 10, 24, 4, 4, 10, 9, 19, 6, 3, 10, 0, 16, 11, 6, 13, 21, 9], \"type\": \"bar\", \"uid\": \"1a7cf2de-e2e8-11e8-96ad-27ad55f30ab3\"}], {\"barmode\": \"stack\", \"title\": \"N\\u00famero de acessos nos materiais agrupados por estudante\", \"yaxis\": {\"dtick\": 15, \"exponentformat\": \"e\", \"gridcolor\": \"#bdbdbd\", \"showexponent\": \"all\", \"showticklabels\": true, \"tick0\": 0, \"titlefont\": {\"color\": \"lightgrey\", \"family\": \"Arial, sans-serif\"}}}, {\"showLink\": true, \"linkText\": \"Export to plot.ly\"})});</script>"
      ]
     },
     "metadata": {},
     "output_type": "display_data"
    },
    {
     "data": {
      "application/vnd.plotly.v1+json": {
       "data": [
        {
         "name": "Video1",
         "orientation": "h",
         "type": "bar",
         "uid": "1a8640c8-e2e8-11e8-96ad-27ad55f30ab3",
         "x": [
          17,
          12,
          14,
          27,
          9,
          15,
          13,
          24,
          4,
          26,
          19,
          19,
          23,
          29,
          11,
          12,
          21,
          28,
          4,
          20
         ],
         "y": [
          "Student_1",
          "Student_2",
          "Student_3",
          "Student_4",
          "Student_5",
          "Student_6",
          "Student_7",
          "Student_8",
          "Student_9",
          "Student_10",
          "Student_11",
          "Student_12",
          "Student_13",
          "Student_14",
          "Student_15",
          "Student_16",
          "Student_17",
          "Student_18",
          "Student_19",
          "Student_20"
         ]
        },
        {
         "name": "Video2",
         "orientation": "h",
         "type": "bar",
         "uid": "1a864294-e2e8-11e8-96ad-27ad55f30ab3",
         "x": [
          1,
          21,
          5,
          23,
          15,
          10,
          9,
          12,
          16,
          6,
          25,
          15,
          27,
          28,
          23,
          29,
          2,
          11,
          13,
          22
         ],
         "y": [
          "Student_1",
          "Student_2",
          "Student_3",
          "Student_4",
          "Student_5",
          "Student_6",
          "Student_7",
          "Student_8",
          "Student_9",
          "Student_10",
          "Student_11",
          "Student_12",
          "Student_13",
          "Student_14",
          "Student_15",
          "Student_16",
          "Student_17",
          "Student_18",
          "Student_19",
          "Student_20"
         ]
        },
        {
         "name": "Quiz1",
         "orientation": "h",
         "type": "bar",
         "uid": "1a864370-e2e8-11e8-96ad-27ad55f30ab3",
         "x": [
          14,
          23,
          17,
          25,
          6,
          16,
          27,
          9,
          22,
          13,
          21,
          13,
          9,
          23,
          19,
          11,
          23,
          9,
          0,
          23
         ],
         "y": [
          "Student_1",
          "Student_2",
          "Student_3",
          "Student_4",
          "Student_5",
          "Student_6",
          "Student_7",
          "Student_8",
          "Student_9",
          "Student_10",
          "Student_11",
          "Student_12",
          "Student_13",
          "Student_14",
          "Student_15",
          "Student_16",
          "Student_17",
          "Student_18",
          "Student_19",
          "Student_20"
         ]
        },
        {
         "name": "Quiz2",
         "orientation": "h",
         "type": "bar",
         "uid": "1a864424-e2e8-11e8-96ad-27ad55f30ab3",
         "x": [
          3,
          21,
          3,
          13,
          10,
          8,
          18,
          1,
          28,
          13,
          7,
          11,
          6,
          28,
          4,
          7,
          22,
          11,
          2,
          20
         ],
         "y": [
          "Student_1",
          "Student_2",
          "Student_3",
          "Student_4",
          "Student_5",
          "Student_6",
          "Student_7",
          "Student_8",
          "Student_9",
          "Student_10",
          "Student_11",
          "Student_12",
          "Student_13",
          "Student_14",
          "Student_15",
          "Student_16",
          "Student_17",
          "Student_18",
          "Student_19",
          "Student_20"
         ]
        },
        {
         "name": "Pdf1",
         "orientation": "h",
         "type": "bar",
         "uid": "1a8644ba-e2e8-11e8-96ad-27ad55f30ab3",
         "x": [
          16,
          8,
          10,
          16,
          6,
          28,
          3,
          0,
          8,
          10,
          5,
          28,
          19,
          27,
          26,
          29,
          13,
          11,
          1,
          29
         ],
         "y": [
          "Student_1",
          "Student_2",
          "Student_3",
          "Student_4",
          "Student_5",
          "Student_6",
          "Student_7",
          "Student_8",
          "Student_9",
          "Student_10",
          "Student_11",
          "Student_12",
          "Student_13",
          "Student_14",
          "Student_15",
          "Student_16",
          "Student_17",
          "Student_18",
          "Student_19",
          "Student_20"
         ]
        },
        {
         "name": "Pdf2",
         "orientation": "h",
         "type": "bar",
         "uid": "1a86455a-e2e8-11e8-96ad-27ad55f30ab3",
         "x": [
          28,
          27,
          3,
          22,
          4,
          6,
          20,
          8,
          9,
          12,
          19,
          6,
          2,
          13,
          18,
          29,
          11,
          17,
          18,
          20
         ],
         "y": [
          "Student_1",
          "Student_2",
          "Student_3",
          "Student_4",
          "Student_5",
          "Student_6",
          "Student_7",
          "Student_8",
          "Student_9",
          "Student_10",
          "Student_11",
          "Student_12",
          "Student_13",
          "Student_14",
          "Student_15",
          "Student_16",
          "Student_17",
          "Student_18",
          "Student_19",
          "Student_20"
         ]
        },
        {
         "name": "Ebook1",
         "orientation": "h",
         "type": "bar",
         "uid": "1a8645e6-e2e8-11e8-96ad-27ad55f30ab3",
         "x": [
          18,
          25,
          13,
          22,
          7,
          24,
          0,
          2,
          22,
          27,
          25,
          12,
          25,
          21,
          29,
          7,
          26,
          24,
          20,
          21
         ],
         "y": [
          "Student_1",
          "Student_2",
          "Student_3",
          "Student_4",
          "Student_5",
          "Student_6",
          "Student_7",
          "Student_8",
          "Student_9",
          "Student_10",
          "Student_11",
          "Student_12",
          "Student_13",
          "Student_14",
          "Student_15",
          "Student_16",
          "Student_17",
          "Student_18",
          "Student_19",
          "Student_20"
         ]
        },
        {
         "name": "Ebook2",
         "orientation": "h",
         "type": "bar",
         "uid": "1a864668-e2e8-11e8-96ad-27ad55f30ab3",
         "x": [
          10,
          13,
          19,
          10,
          24,
          4,
          4,
          10,
          9,
          19,
          6,
          3,
          10,
          0,
          16,
          11,
          6,
          13,
          21,
          9
         ],
         "y": [
          "Student_1",
          "Student_2",
          "Student_3",
          "Student_4",
          "Student_5",
          "Student_6",
          "Student_7",
          "Student_8",
          "Student_9",
          "Student_10",
          "Student_11",
          "Student_12",
          "Student_13",
          "Student_14",
          "Student_15",
          "Student_16",
          "Student_17",
          "Student_18",
          "Student_19",
          "Student_20"
         ]
        }
       ],
       "layout": {
        "barmode": "stack",
        "title": "Número de acessos nos materiais agrupados por estudante",
        "yaxis": {
         "dtick": 1,
         "exponentformat": "e",
         "gridcolor": "#bdbdbd",
         "showexponent": "all",
         "showticklabels": true,
         "tick0": 0,
         "titlefont": {
          "color": "lightgrey",
          "family": "Arial, sans-serif"
         }
        }
       }
      },
      "text/html": [
       "<div id=\"59271669-4e33-4e60-8fef-b7563a7dca34\" style=\"height: 525px; width: 100%;\" class=\"plotly-graph-div\"></div><script type=\"text/javascript\">require([\"plotly\"], function(Plotly) { window.PLOTLYENV=window.PLOTLYENV || {};window.PLOTLYENV.BASE_URL=\"https://plot.ly\";Plotly.newPlot(\"59271669-4e33-4e60-8fef-b7563a7dca34\", [{\"name\": \"Video1\", \"orientation\": \"h\", \"x\": [17, 12, 14, 27, 9, 15, 13, 24, 4, 26, 19, 19, 23, 29, 11, 12, 21, 28, 4, 20], \"y\": [\"Student_1\", \"Student_2\", \"Student_3\", \"Student_4\", \"Student_5\", \"Student_6\", \"Student_7\", \"Student_8\", \"Student_9\", \"Student_10\", \"Student_11\", \"Student_12\", \"Student_13\", \"Student_14\", \"Student_15\", \"Student_16\", \"Student_17\", \"Student_18\", \"Student_19\", \"Student_20\"], \"type\": \"bar\", \"uid\": \"1a8640c8-e2e8-11e8-96ad-27ad55f30ab3\"}, {\"name\": \"Video2\", \"orientation\": \"h\", \"x\": [1, 21, 5, 23, 15, 10, 9, 12, 16, 6, 25, 15, 27, 28, 23, 29, 2, 11, 13, 22], \"y\": [\"Student_1\", \"Student_2\", \"Student_3\", \"Student_4\", \"Student_5\", \"Student_6\", \"Student_7\", \"Student_8\", \"Student_9\", \"Student_10\", \"Student_11\", \"Student_12\", \"Student_13\", \"Student_14\", \"Student_15\", \"Student_16\", \"Student_17\", \"Student_18\", \"Student_19\", \"Student_20\"], \"type\": \"bar\", \"uid\": \"1a864294-e2e8-11e8-96ad-27ad55f30ab3\"}, {\"name\": \"Quiz1\", \"orientation\": \"h\", \"x\": [14, 23, 17, 25, 6, 16, 27, 9, 22, 13, 21, 13, 9, 23, 19, 11, 23, 9, 0, 23], \"y\": [\"Student_1\", \"Student_2\", \"Student_3\", \"Student_4\", \"Student_5\", \"Student_6\", \"Student_7\", \"Student_8\", \"Student_9\", \"Student_10\", \"Student_11\", \"Student_12\", \"Student_13\", \"Student_14\", \"Student_15\", \"Student_16\", \"Student_17\", \"Student_18\", \"Student_19\", \"Student_20\"], \"type\": \"bar\", \"uid\": \"1a864370-e2e8-11e8-96ad-27ad55f30ab3\"}, {\"name\": \"Quiz2\", \"orientation\": \"h\", \"x\": [3, 21, 3, 13, 10, 8, 18, 1, 28, 13, 7, 11, 6, 28, 4, 7, 22, 11, 2, 20], \"y\": [\"Student_1\", \"Student_2\", \"Student_3\", \"Student_4\", \"Student_5\", \"Student_6\", \"Student_7\", \"Student_8\", \"Student_9\", \"Student_10\", \"Student_11\", \"Student_12\", \"Student_13\", \"Student_14\", \"Student_15\", \"Student_16\", \"Student_17\", \"Student_18\", \"Student_19\", \"Student_20\"], \"type\": \"bar\", \"uid\": \"1a864424-e2e8-11e8-96ad-27ad55f30ab3\"}, {\"name\": \"Pdf1\", \"orientation\": \"h\", \"x\": [16, 8, 10, 16, 6, 28, 3, 0, 8, 10, 5, 28, 19, 27, 26, 29, 13, 11, 1, 29], \"y\": [\"Student_1\", \"Student_2\", \"Student_3\", \"Student_4\", \"Student_5\", \"Student_6\", \"Student_7\", \"Student_8\", \"Student_9\", \"Student_10\", \"Student_11\", \"Student_12\", \"Student_13\", \"Student_14\", \"Student_15\", \"Student_16\", \"Student_17\", \"Student_18\", \"Student_19\", \"Student_20\"], \"type\": \"bar\", \"uid\": \"1a8644ba-e2e8-11e8-96ad-27ad55f30ab3\"}, {\"name\": \"Pdf2\", \"orientation\": \"h\", \"x\": [28, 27, 3, 22, 4, 6, 20, 8, 9, 12, 19, 6, 2, 13, 18, 29, 11, 17, 18, 20], \"y\": [\"Student_1\", \"Student_2\", \"Student_3\", \"Student_4\", \"Student_5\", \"Student_6\", \"Student_7\", \"Student_8\", \"Student_9\", \"Student_10\", \"Student_11\", \"Student_12\", \"Student_13\", \"Student_14\", \"Student_15\", \"Student_16\", \"Student_17\", \"Student_18\", \"Student_19\", \"Student_20\"], \"type\": \"bar\", \"uid\": \"1a86455a-e2e8-11e8-96ad-27ad55f30ab3\"}, {\"name\": \"Ebook1\", \"orientation\": \"h\", \"x\": [18, 25, 13, 22, 7, 24, 0, 2, 22, 27, 25, 12, 25, 21, 29, 7, 26, 24, 20, 21], \"y\": [\"Student_1\", \"Student_2\", \"Student_3\", \"Student_4\", \"Student_5\", \"Student_6\", \"Student_7\", \"Student_8\", \"Student_9\", \"Student_10\", \"Student_11\", \"Student_12\", \"Student_13\", \"Student_14\", \"Student_15\", \"Student_16\", \"Student_17\", \"Student_18\", \"Student_19\", \"Student_20\"], \"type\": \"bar\", \"uid\": \"1a8645e6-e2e8-11e8-96ad-27ad55f30ab3\"}, {\"name\": \"Ebook2\", \"orientation\": \"h\", \"x\": [10, 13, 19, 10, 24, 4, 4, 10, 9, 19, 6, 3, 10, 0, 16, 11, 6, 13, 21, 9], \"y\": [\"Student_1\", \"Student_2\", \"Student_3\", \"Student_4\", \"Student_5\", \"Student_6\", \"Student_7\", \"Student_8\", \"Student_9\", \"Student_10\", \"Student_11\", \"Student_12\", \"Student_13\", \"Student_14\", \"Student_15\", \"Student_16\", \"Student_17\", \"Student_18\", \"Student_19\", \"Student_20\"], \"type\": \"bar\", \"uid\": \"1a864668-e2e8-11e8-96ad-27ad55f30ab3\"}], {\"barmode\": \"stack\", \"title\": \"N\\u00famero de acessos nos materiais agrupados por estudante\", \"yaxis\": {\"dtick\": 1, \"exponentformat\": \"e\", \"gridcolor\": \"#bdbdbd\", \"showexponent\": \"all\", \"showticklabels\": true, \"tick0\": 0, \"titlefont\": {\"color\": \"lightgrey\", \"family\": \"Arial, sans-serif\"}}}, {\"showLink\": true, \"linkText\": \"Export to plot.ly\"})});</script>"
      ],
      "text/vnd.plotly.v1+html": [
       "<div id=\"59271669-4e33-4e60-8fef-b7563a7dca34\" style=\"height: 525px; width: 100%;\" class=\"plotly-graph-div\"></div><script type=\"text/javascript\">require([\"plotly\"], function(Plotly) { window.PLOTLYENV=window.PLOTLYENV || {};window.PLOTLYENV.BASE_URL=\"https://plot.ly\";Plotly.newPlot(\"59271669-4e33-4e60-8fef-b7563a7dca34\", [{\"name\": \"Video1\", \"orientation\": \"h\", \"x\": [17, 12, 14, 27, 9, 15, 13, 24, 4, 26, 19, 19, 23, 29, 11, 12, 21, 28, 4, 20], \"y\": [\"Student_1\", \"Student_2\", \"Student_3\", \"Student_4\", \"Student_5\", \"Student_6\", \"Student_7\", \"Student_8\", \"Student_9\", \"Student_10\", \"Student_11\", \"Student_12\", \"Student_13\", \"Student_14\", \"Student_15\", \"Student_16\", \"Student_17\", \"Student_18\", \"Student_19\", \"Student_20\"], \"type\": \"bar\", \"uid\": \"1a8640c8-e2e8-11e8-96ad-27ad55f30ab3\"}, {\"name\": \"Video2\", \"orientation\": \"h\", \"x\": [1, 21, 5, 23, 15, 10, 9, 12, 16, 6, 25, 15, 27, 28, 23, 29, 2, 11, 13, 22], \"y\": [\"Student_1\", \"Student_2\", \"Student_3\", \"Student_4\", \"Student_5\", \"Student_6\", \"Student_7\", \"Student_8\", \"Student_9\", \"Student_10\", \"Student_11\", \"Student_12\", \"Student_13\", \"Student_14\", \"Student_15\", \"Student_16\", \"Student_17\", \"Student_18\", \"Student_19\", \"Student_20\"], \"type\": \"bar\", \"uid\": \"1a864294-e2e8-11e8-96ad-27ad55f30ab3\"}, {\"name\": \"Quiz1\", \"orientation\": \"h\", \"x\": [14, 23, 17, 25, 6, 16, 27, 9, 22, 13, 21, 13, 9, 23, 19, 11, 23, 9, 0, 23], \"y\": [\"Student_1\", \"Student_2\", \"Student_3\", \"Student_4\", \"Student_5\", \"Student_6\", \"Student_7\", \"Student_8\", \"Student_9\", \"Student_10\", \"Student_11\", \"Student_12\", \"Student_13\", \"Student_14\", \"Student_15\", \"Student_16\", \"Student_17\", \"Student_18\", \"Student_19\", \"Student_20\"], \"type\": \"bar\", \"uid\": \"1a864370-e2e8-11e8-96ad-27ad55f30ab3\"}, {\"name\": \"Quiz2\", \"orientation\": \"h\", \"x\": [3, 21, 3, 13, 10, 8, 18, 1, 28, 13, 7, 11, 6, 28, 4, 7, 22, 11, 2, 20], \"y\": [\"Student_1\", \"Student_2\", \"Student_3\", \"Student_4\", \"Student_5\", \"Student_6\", \"Student_7\", \"Student_8\", \"Student_9\", \"Student_10\", \"Student_11\", \"Student_12\", \"Student_13\", \"Student_14\", \"Student_15\", \"Student_16\", \"Student_17\", \"Student_18\", \"Student_19\", \"Student_20\"], \"type\": \"bar\", \"uid\": \"1a864424-e2e8-11e8-96ad-27ad55f30ab3\"}, {\"name\": \"Pdf1\", \"orientation\": \"h\", \"x\": [16, 8, 10, 16, 6, 28, 3, 0, 8, 10, 5, 28, 19, 27, 26, 29, 13, 11, 1, 29], \"y\": [\"Student_1\", \"Student_2\", \"Student_3\", \"Student_4\", \"Student_5\", \"Student_6\", \"Student_7\", \"Student_8\", \"Student_9\", \"Student_10\", \"Student_11\", \"Student_12\", \"Student_13\", \"Student_14\", \"Student_15\", \"Student_16\", \"Student_17\", \"Student_18\", \"Student_19\", \"Student_20\"], \"type\": \"bar\", \"uid\": \"1a8644ba-e2e8-11e8-96ad-27ad55f30ab3\"}, {\"name\": \"Pdf2\", \"orientation\": \"h\", \"x\": [28, 27, 3, 22, 4, 6, 20, 8, 9, 12, 19, 6, 2, 13, 18, 29, 11, 17, 18, 20], \"y\": [\"Student_1\", \"Student_2\", \"Student_3\", \"Student_4\", \"Student_5\", \"Student_6\", \"Student_7\", \"Student_8\", \"Student_9\", \"Student_10\", \"Student_11\", \"Student_12\", \"Student_13\", \"Student_14\", \"Student_15\", \"Student_16\", \"Student_17\", \"Student_18\", \"Student_19\", \"Student_20\"], \"type\": \"bar\", \"uid\": \"1a86455a-e2e8-11e8-96ad-27ad55f30ab3\"}, {\"name\": \"Ebook1\", \"orientation\": \"h\", \"x\": [18, 25, 13, 22, 7, 24, 0, 2, 22, 27, 25, 12, 25, 21, 29, 7, 26, 24, 20, 21], \"y\": [\"Student_1\", \"Student_2\", \"Student_3\", \"Student_4\", \"Student_5\", \"Student_6\", \"Student_7\", \"Student_8\", \"Student_9\", \"Student_10\", \"Student_11\", \"Student_12\", \"Student_13\", \"Student_14\", \"Student_15\", \"Student_16\", \"Student_17\", \"Student_18\", \"Student_19\", \"Student_20\"], \"type\": \"bar\", \"uid\": \"1a8645e6-e2e8-11e8-96ad-27ad55f30ab3\"}, {\"name\": \"Ebook2\", \"orientation\": \"h\", \"x\": [10, 13, 19, 10, 24, 4, 4, 10, 9, 19, 6, 3, 10, 0, 16, 11, 6, 13, 21, 9], \"y\": [\"Student_1\", \"Student_2\", \"Student_3\", \"Student_4\", \"Student_5\", \"Student_6\", \"Student_7\", \"Student_8\", \"Student_9\", \"Student_10\", \"Student_11\", \"Student_12\", \"Student_13\", \"Student_14\", \"Student_15\", \"Student_16\", \"Student_17\", \"Student_18\", \"Student_19\", \"Student_20\"], \"type\": \"bar\", \"uid\": \"1a864668-e2e8-11e8-96ad-27ad55f30ab3\"}], {\"barmode\": \"stack\", \"title\": \"N\\u00famero de acessos nos materiais agrupados por estudante\", \"yaxis\": {\"dtick\": 1, \"exponentformat\": \"e\", \"gridcolor\": \"#bdbdbd\", \"showexponent\": \"all\", \"showticklabels\": true, \"tick0\": 0, \"titlefont\": {\"color\": \"lightgrey\", \"family\": \"Arial, sans-serif\"}}}, {\"showLink\": true, \"linkText\": \"Export to plot.ly\"})});</script>"
      ]
     },
     "metadata": {},
     "output_type": "display_data"
    },
    {
     "data": {
      "application/vnd.plotly.v1+json": {
       "data": [
        {
         "colorscale": [
          [
           0,
           "rgb(255,255,255)"
          ],
          [
           1,
           "rgb(0,0,255)"
          ]
         ],
         "type": "heatmap",
         "uid": "1a8cb0fc-e2e8-11e8-96ad-27ad55f30ab3",
         "x": [
          "Video1",
          "Video2",
          "Quiz1",
          "Quiz2",
          "Pdf1",
          "Pdf2",
          "Ebook1",
          "Ebook2"
         ],
         "y": [
          "Student_1",
          "Student_2",
          "Student_3",
          "Student_4",
          "Student_5",
          "Student_6",
          "Student_7",
          "Student_8",
          "Student_9",
          "Student_10",
          "Student_11",
          "Student_12",
          "Student_13",
          "Student_14",
          "Student_15",
          "Student_16",
          "Student_17",
          "Student_18",
          "Student_19",
          "Student_20"
         ],
         "z": [
          [
           17,
           1,
           14,
           3,
           16,
           28,
           18,
           10
          ],
          [
           12,
           21,
           23,
           21,
           8,
           27,
           25,
           13
          ],
          [
           14,
           5,
           17,
           3,
           10,
           3,
           13,
           19
          ],
          [
           27,
           23,
           25,
           13,
           16,
           22,
           22,
           10
          ],
          [
           9,
           15,
           6,
           10,
           6,
           4,
           7,
           24
          ],
          [
           15,
           10,
           16,
           8,
           28,
           6,
           24,
           4
          ],
          [
           13,
           9,
           27,
           18,
           3,
           20,
           0,
           4
          ],
          [
           24,
           12,
           9,
           1,
           0,
           8,
           2,
           10
          ],
          [
           4,
           16,
           22,
           28,
           8,
           9,
           22,
           9
          ],
          [
           26,
           6,
           13,
           13,
           10,
           12,
           27,
           19
          ],
          [
           19,
           25,
           21,
           7,
           5,
           19,
           25,
           6
          ],
          [
           19,
           15,
           13,
           11,
           28,
           6,
           12,
           3
          ],
          [
           23,
           27,
           9,
           6,
           19,
           2,
           25,
           10
          ],
          [
           29,
           28,
           23,
           28,
           27,
           13,
           21,
           0
          ],
          [
           11,
           23,
           19,
           4,
           26,
           18,
           29,
           16
          ],
          [
           12,
           29,
           11,
           7,
           29,
           29,
           7,
           11
          ],
          [
           21,
           2,
           23,
           22,
           13,
           11,
           26,
           6
          ],
          [
           28,
           11,
           9,
           11,
           11,
           17,
           24,
           13
          ],
          [
           4,
           13,
           0,
           2,
           1,
           18,
           20,
           21
          ],
          [
           20,
           22,
           23,
           20,
           29,
           20,
           21,
           9
          ]
         ]
        }
       ],
       "layout": {
        "title": "Número de acessos nos materiais por estudante",
        "yaxis": {
         "dtick": 1,
         "exponentformat": "e",
         "gridcolor": "#bdbdbd",
         "showexponent": "all",
         "showticklabels": true,
         "tick0": 0,
         "titlefont": {
          "color": "lightgrey",
          "family": "Arial, sans-serif"
         }
        }
       }
      },
      "text/html": [
       "<div id=\"f937f87a-8161-4333-b1ee-adc26b56d6f4\" style=\"height: 525px; width: 100%;\" class=\"plotly-graph-div\"></div><script type=\"text/javascript\">require([\"plotly\"], function(Plotly) { window.PLOTLYENV=window.PLOTLYENV || {};window.PLOTLYENV.BASE_URL=\"https://plot.ly\";Plotly.newPlot(\"f937f87a-8161-4333-b1ee-adc26b56d6f4\", [{\"colorscale\": [[0, \"rgb(255,255,255)\"], [1, \"rgb(0,0,255)\"]], \"x\": [\"Video1\", \"Video2\", \"Quiz1\", \"Quiz2\", \"Pdf1\", \"Pdf2\", \"Ebook1\", \"Ebook2\"], \"y\": [\"Student_1\", \"Student_2\", \"Student_3\", \"Student_4\", \"Student_5\", \"Student_6\", \"Student_7\", \"Student_8\", \"Student_9\", \"Student_10\", \"Student_11\", \"Student_12\", \"Student_13\", \"Student_14\", \"Student_15\", \"Student_16\", \"Student_17\", \"Student_18\", \"Student_19\", \"Student_20\"], \"z\": [[17, 1, 14, 3, 16, 28, 18, 10], [12, 21, 23, 21, 8, 27, 25, 13], [14, 5, 17, 3, 10, 3, 13, 19], [27, 23, 25, 13, 16, 22, 22, 10], [9, 15, 6, 10, 6, 4, 7, 24], [15, 10, 16, 8, 28, 6, 24, 4], [13, 9, 27, 18, 3, 20, 0, 4], [24, 12, 9, 1, 0, 8, 2, 10], [4, 16, 22, 28, 8, 9, 22, 9], [26, 6, 13, 13, 10, 12, 27, 19], [19, 25, 21, 7, 5, 19, 25, 6], [19, 15, 13, 11, 28, 6, 12, 3], [23, 27, 9, 6, 19, 2, 25, 10], [29, 28, 23, 28, 27, 13, 21, 0], [11, 23, 19, 4, 26, 18, 29, 16], [12, 29, 11, 7, 29, 29, 7, 11], [21, 2, 23, 22, 13, 11, 26, 6], [28, 11, 9, 11, 11, 17, 24, 13], [4, 13, 0, 2, 1, 18, 20, 21], [20, 22, 23, 20, 29, 20, 21, 9]], \"type\": \"heatmap\", \"uid\": \"1a8cb0fc-e2e8-11e8-96ad-27ad55f30ab3\"}], {\"title\": \"N\\u00famero de acessos nos materiais por estudante\", \"yaxis\": {\"dtick\": 1, \"exponentformat\": \"e\", \"gridcolor\": \"#bdbdbd\", \"showexponent\": \"all\", \"showticklabels\": true, \"tick0\": 0, \"titlefont\": {\"color\": \"lightgrey\", \"family\": \"Arial, sans-serif\"}}}, {\"showLink\": true, \"linkText\": \"Export to plot.ly\"})});</script>"
      ],
      "text/vnd.plotly.v1+html": [
       "<div id=\"f937f87a-8161-4333-b1ee-adc26b56d6f4\" style=\"height: 525px; width: 100%;\" class=\"plotly-graph-div\"></div><script type=\"text/javascript\">require([\"plotly\"], function(Plotly) { window.PLOTLYENV=window.PLOTLYENV || {};window.PLOTLYENV.BASE_URL=\"https://plot.ly\";Plotly.newPlot(\"f937f87a-8161-4333-b1ee-adc26b56d6f4\", [{\"colorscale\": [[0, \"rgb(255,255,255)\"], [1, \"rgb(0,0,255)\"]], \"x\": [\"Video1\", \"Video2\", \"Quiz1\", \"Quiz2\", \"Pdf1\", \"Pdf2\", \"Ebook1\", \"Ebook2\"], \"y\": [\"Student_1\", \"Student_2\", \"Student_3\", \"Student_4\", \"Student_5\", \"Student_6\", \"Student_7\", \"Student_8\", \"Student_9\", \"Student_10\", \"Student_11\", \"Student_12\", \"Student_13\", \"Student_14\", \"Student_15\", \"Student_16\", \"Student_17\", \"Student_18\", \"Student_19\", \"Student_20\"], \"z\": [[17, 1, 14, 3, 16, 28, 18, 10], [12, 21, 23, 21, 8, 27, 25, 13], [14, 5, 17, 3, 10, 3, 13, 19], [27, 23, 25, 13, 16, 22, 22, 10], [9, 15, 6, 10, 6, 4, 7, 24], [15, 10, 16, 8, 28, 6, 24, 4], [13, 9, 27, 18, 3, 20, 0, 4], [24, 12, 9, 1, 0, 8, 2, 10], [4, 16, 22, 28, 8, 9, 22, 9], [26, 6, 13, 13, 10, 12, 27, 19], [19, 25, 21, 7, 5, 19, 25, 6], [19, 15, 13, 11, 28, 6, 12, 3], [23, 27, 9, 6, 19, 2, 25, 10], [29, 28, 23, 28, 27, 13, 21, 0], [11, 23, 19, 4, 26, 18, 29, 16], [12, 29, 11, 7, 29, 29, 7, 11], [21, 2, 23, 22, 13, 11, 26, 6], [28, 11, 9, 11, 11, 17, 24, 13], [4, 13, 0, 2, 1, 18, 20, 21], [20, 22, 23, 20, 29, 20, 21, 9]], \"type\": \"heatmap\", \"uid\": \"1a8cb0fc-e2e8-11e8-96ad-27ad55f30ab3\"}], {\"title\": \"N\\u00famero de acessos nos materiais por estudante\", \"yaxis\": {\"dtick\": 1, \"exponentformat\": \"e\", \"gridcolor\": \"#bdbdbd\", \"showexponent\": \"all\", \"showticklabels\": true, \"tick0\": 0, \"titlefont\": {\"color\": \"lightgrey\", \"family\": \"Arial, sans-serif\"}}}, {\"showLink\": true, \"linkText\": \"Export to plot.ly\"})});</script>"
      ]
     },
     "metadata": {},
     "output_type": "display_data"
    },
    {
     "data": {
      "application/vnd.plotly.v1+json": {
       "data": [
        {
         "marker": {
          "line": {
           "width": 2
          },
          "size": [
           17,
           1,
           14,
           3,
           16,
           28,
           18,
           10
          ],
          "sizemode": "area",
          "sizeref": 0.06896551724137931,
          "symbol": "circle"
         },
         "mode": "markers",
         "name": "Student_1",
         "text": [
          "17",
          "1",
          "14",
          "3",
          "16",
          "28",
          "18",
          "10"
         ],
         "type": "scatter",
         "uid": "1aabe7ec-e2e8-11e8-96ad-27ad55f30ab3",
         "x": [
          "Student_1",
          "Student_1",
          "Student_1",
          "Student_1",
          "Student_1",
          "Student_1",
          "Student_1",
          "Student_1",
          "Student_1"
         ],
         "y": [
          "Video1",
          "Video2",
          "Quiz1",
          "Quiz2",
          "Pdf1",
          "Pdf2",
          "Ebook1",
          "Ebook2"
         ]
        },
        {
         "marker": {
          "line": {
           "width": 2
          },
          "size": [
           12,
           21,
           23,
           21,
           8,
           27,
           25,
           13
          ],
          "sizemode": "area",
          "sizeref": 0.06896551724137931,
          "symbol": "circle"
         },
         "mode": "markers",
         "name": "Student_2",
         "text": [
          "12",
          "21",
          "23",
          "21",
          "8",
          "27",
          "25",
          "13"
         ],
         "type": "scatter",
         "uid": "1aabe9a4-e2e8-11e8-96ad-27ad55f30ab3",
         "x": [
          "Student_2",
          "Student_2",
          "Student_2",
          "Student_2",
          "Student_2",
          "Student_2",
          "Student_2",
          "Student_2",
          "Student_2"
         ],
         "y": [
          "Video1",
          "Video2",
          "Quiz1",
          "Quiz2",
          "Pdf1",
          "Pdf2",
          "Ebook1",
          "Ebook2"
         ]
        },
        {
         "marker": {
          "line": {
           "width": 2
          },
          "size": [
           14,
           5,
           17,
           3,
           10,
           3,
           13,
           19
          ],
          "sizemode": "area",
          "sizeref": 0.06896551724137931,
          "symbol": "circle"
         },
         "mode": "markers",
         "name": "Student_3",
         "text": [
          "14",
          "5",
          "17",
          "3",
          "10",
          "3",
          "13",
          "19"
         ],
         "type": "scatter",
         "uid": "1aabea8a-e2e8-11e8-96ad-27ad55f30ab3",
         "x": [
          "Student_3",
          "Student_3",
          "Student_3",
          "Student_3",
          "Student_3",
          "Student_3",
          "Student_3",
          "Student_3",
          "Student_3"
         ],
         "y": [
          "Video1",
          "Video2",
          "Quiz1",
          "Quiz2",
          "Pdf1",
          "Pdf2",
          "Ebook1",
          "Ebook2"
         ]
        },
        {
         "marker": {
          "line": {
           "width": 2
          },
          "size": [
           27,
           23,
           25,
           13,
           16,
           22,
           22,
           10
          ],
          "sizemode": "area",
          "sizeref": 0.06896551724137931,
          "symbol": "circle"
         },
         "mode": "markers",
         "name": "Student_4",
         "text": [
          "27",
          "23",
          "25",
          "13",
          "16",
          "22",
          "22",
          "10"
         ],
         "type": "scatter",
         "uid": "1aabeb52-e2e8-11e8-96ad-27ad55f30ab3",
         "x": [
          "Student_4",
          "Student_4",
          "Student_4",
          "Student_4",
          "Student_4",
          "Student_4",
          "Student_4",
          "Student_4",
          "Student_4"
         ],
         "y": [
          "Video1",
          "Video2",
          "Quiz1",
          "Quiz2",
          "Pdf1",
          "Pdf2",
          "Ebook1",
          "Ebook2"
         ]
        },
        {
         "marker": {
          "line": {
           "width": 2
          },
          "size": [
           9,
           15,
           6,
           10,
           6,
           4,
           7,
           24
          ],
          "sizemode": "area",
          "sizeref": 0.06896551724137931,
          "symbol": "circle"
         },
         "mode": "markers",
         "name": "Student_5",
         "text": [
          "9",
          "15",
          "6",
          "10",
          "6",
          "4",
          "7",
          "24"
         ],
         "type": "scatter",
         "uid": "1aabebf2-e2e8-11e8-96ad-27ad55f30ab3",
         "x": [
          "Student_5",
          "Student_5",
          "Student_5",
          "Student_5",
          "Student_5",
          "Student_5",
          "Student_5",
          "Student_5",
          "Student_5"
         ],
         "y": [
          "Video1",
          "Video2",
          "Quiz1",
          "Quiz2",
          "Pdf1",
          "Pdf2",
          "Ebook1",
          "Ebook2"
         ]
        },
        {
         "marker": {
          "line": {
           "width": 2
          },
          "size": [
           15,
           10,
           16,
           8,
           28,
           6,
           24,
           4
          ],
          "sizemode": "area",
          "sizeref": 0.06896551724137931,
          "symbol": "circle"
         },
         "mode": "markers",
         "name": "Student_6",
         "text": [
          "15",
          "10",
          "16",
          "8",
          "28",
          "6",
          "24",
          "4"
         ],
         "type": "scatter",
         "uid": "1aabec92-e2e8-11e8-96ad-27ad55f30ab3",
         "x": [
          "Student_6",
          "Student_6",
          "Student_6",
          "Student_6",
          "Student_6",
          "Student_6",
          "Student_6",
          "Student_6",
          "Student_6"
         ],
         "y": [
          "Video1",
          "Video2",
          "Quiz1",
          "Quiz2",
          "Pdf1",
          "Pdf2",
          "Ebook1",
          "Ebook2"
         ]
        },
        {
         "marker": {
          "line": {
           "width": 2
          },
          "size": [
           13,
           9,
           27,
           18,
           3,
           20,
           0,
           4
          ],
          "sizemode": "area",
          "sizeref": 0.06896551724137931,
          "symbol": "circle"
         },
         "mode": "markers",
         "name": "Student_7",
         "text": [
          "13",
          "9",
          "27",
          "18",
          "3",
          "20",
          "0",
          "4"
         ],
         "type": "scatter",
         "uid": "1aabed32-e2e8-11e8-96ad-27ad55f30ab3",
         "x": [
          "Student_7",
          "Student_7",
          "Student_7",
          "Student_7",
          "Student_7",
          "Student_7",
          "Student_7",
          "Student_7",
          "Student_7"
         ],
         "y": [
          "Video1",
          "Video2",
          "Quiz1",
          "Quiz2",
          "Pdf1",
          "Pdf2",
          "Ebook1",
          "Ebook2"
         ]
        },
        {
         "marker": {
          "line": {
           "width": 2
          },
          "size": [
           24,
           12,
           9,
           1,
           0,
           8,
           2,
           10
          ],
          "sizemode": "area",
          "sizeref": 0.06896551724137931,
          "symbol": "circle"
         },
         "mode": "markers",
         "name": "Student_8",
         "text": [
          "24",
          "12",
          "9",
          "1",
          "0",
          "8",
          "2",
          "10"
         ],
         "type": "scatter",
         "uid": "1aabedc8-e2e8-11e8-96ad-27ad55f30ab3",
         "x": [
          "Student_8",
          "Student_8",
          "Student_8",
          "Student_8",
          "Student_8",
          "Student_8",
          "Student_8",
          "Student_8",
          "Student_8"
         ],
         "y": [
          "Video1",
          "Video2",
          "Quiz1",
          "Quiz2",
          "Pdf1",
          "Pdf2",
          "Ebook1",
          "Ebook2"
         ]
        },
        {
         "marker": {
          "line": {
           "width": 2
          },
          "size": [
           4,
           16,
           22,
           28,
           8,
           9,
           22,
           9
          ],
          "sizemode": "area",
          "sizeref": 0.06896551724137931,
          "symbol": "circle"
         },
         "mode": "markers",
         "name": "Student_9",
         "text": [
          "4",
          "16",
          "22",
          "28",
          "8",
          "9",
          "22",
          "9"
         ],
         "type": "scatter",
         "uid": "1aabee68-e2e8-11e8-96ad-27ad55f30ab3",
         "x": [
          "Student_9",
          "Student_9",
          "Student_9",
          "Student_9",
          "Student_9",
          "Student_9",
          "Student_9",
          "Student_9",
          "Student_9"
         ],
         "y": [
          "Video1",
          "Video2",
          "Quiz1",
          "Quiz2",
          "Pdf1",
          "Pdf2",
          "Ebook1",
          "Ebook2"
         ]
        },
        {
         "marker": {
          "line": {
           "width": 2
          },
          "size": [
           26,
           6,
           13,
           13,
           10,
           12,
           27,
           19
          ],
          "sizemode": "area",
          "sizeref": 0.06896551724137931,
          "symbol": "circle"
         },
         "mode": "markers",
         "name": "Student_10",
         "text": [
          "26",
          "6",
          "13",
          "13",
          "10",
          "12",
          "27",
          "19"
         ],
         "type": "scatter",
         "uid": "1aabeefe-e2e8-11e8-96ad-27ad55f30ab3",
         "x": [
          "Student_10",
          "Student_10",
          "Student_10",
          "Student_10",
          "Student_10",
          "Student_10",
          "Student_10",
          "Student_10",
          "Student_10"
         ],
         "y": [
          "Video1",
          "Video2",
          "Quiz1",
          "Quiz2",
          "Pdf1",
          "Pdf2",
          "Ebook1",
          "Ebook2"
         ]
        },
        {
         "marker": {
          "line": {
           "width": 2
          },
          "size": [
           19,
           25,
           21,
           7,
           5,
           19,
           25,
           6
          ],
          "sizemode": "area",
          "sizeref": 0.06896551724137931,
          "symbol": "circle"
         },
         "mode": "markers",
         "name": "Student_11",
         "text": [
          "19",
          "25",
          "21",
          "7",
          "5",
          "19",
          "25",
          "6"
         ],
         "type": "scatter",
         "uid": "1aabef94-e2e8-11e8-96ad-27ad55f30ab3",
         "x": [
          "Student_11",
          "Student_11",
          "Student_11",
          "Student_11",
          "Student_11",
          "Student_11",
          "Student_11",
          "Student_11",
          "Student_11"
         ],
         "y": [
          "Video1",
          "Video2",
          "Quiz1",
          "Quiz2",
          "Pdf1",
          "Pdf2",
          "Ebook1",
          "Ebook2"
         ]
        },
        {
         "marker": {
          "line": {
           "width": 2
          },
          "size": [
           19,
           15,
           13,
           11,
           28,
           6,
           12,
           3
          ],
          "sizemode": "area",
          "sizeref": 0.06896551724137931,
          "symbol": "circle"
         },
         "mode": "markers",
         "name": "Student_12",
         "text": [
          "19",
          "15",
          "13",
          "11",
          "28",
          "6",
          "12",
          "3"
         ],
         "type": "scatter",
         "uid": "1aabf02a-e2e8-11e8-96ad-27ad55f30ab3",
         "x": [
          "Student_12",
          "Student_12",
          "Student_12",
          "Student_12",
          "Student_12",
          "Student_12",
          "Student_12",
          "Student_12",
          "Student_12"
         ],
         "y": [
          "Video1",
          "Video2",
          "Quiz1",
          "Quiz2",
          "Pdf1",
          "Pdf2",
          "Ebook1",
          "Ebook2"
         ]
        },
        {
         "marker": {
          "line": {
           "width": 2
          },
          "size": [
           23,
           27,
           9,
           6,
           19,
           2,
           25,
           10
          ],
          "sizemode": "area",
          "sizeref": 0.06896551724137931,
          "symbol": "circle"
         },
         "mode": "markers",
         "name": "Student_13",
         "text": [
          "23",
          "27",
          "9",
          "6",
          "19",
          "2",
          "25",
          "10"
         ],
         "type": "scatter",
         "uid": "1aabf0c0-e2e8-11e8-96ad-27ad55f30ab3",
         "x": [
          "Student_13",
          "Student_13",
          "Student_13",
          "Student_13",
          "Student_13",
          "Student_13",
          "Student_13",
          "Student_13",
          "Student_13"
         ],
         "y": [
          "Video1",
          "Video2",
          "Quiz1",
          "Quiz2",
          "Pdf1",
          "Pdf2",
          "Ebook1",
          "Ebook2"
         ]
        },
        {
         "marker": {
          "line": {
           "width": 2
          },
          "size": [
           29,
           28,
           23,
           28,
           27,
           13,
           21,
           0
          ],
          "sizemode": "area",
          "sizeref": 0.06896551724137931,
          "symbol": "circle"
         },
         "mode": "markers",
         "name": "Student_14",
         "text": [
          "29",
          "28",
          "23",
          "28",
          "27",
          "13",
          "21",
          "0"
         ],
         "type": "scatter",
         "uid": "1aabf156-e2e8-11e8-96ad-27ad55f30ab3",
         "x": [
          "Student_14",
          "Student_14",
          "Student_14",
          "Student_14",
          "Student_14",
          "Student_14",
          "Student_14",
          "Student_14",
          "Student_14"
         ],
         "y": [
          "Video1",
          "Video2",
          "Quiz1",
          "Quiz2",
          "Pdf1",
          "Pdf2",
          "Ebook1",
          "Ebook2"
         ]
        },
        {
         "marker": {
          "line": {
           "width": 2
          },
          "size": [
           11,
           23,
           19,
           4,
           26,
           18,
           29,
           16
          ],
          "sizemode": "area",
          "sizeref": 0.06896551724137931,
          "symbol": "circle"
         },
         "mode": "markers",
         "name": "Student_15",
         "text": [
          "11",
          "23",
          "19",
          "4",
          "26",
          "18",
          "29",
          "16"
         ],
         "type": "scatter",
         "uid": "1aabf1ec-e2e8-11e8-96ad-27ad55f30ab3",
         "x": [
          "Student_15",
          "Student_15",
          "Student_15",
          "Student_15",
          "Student_15",
          "Student_15",
          "Student_15",
          "Student_15",
          "Student_15"
         ],
         "y": [
          "Video1",
          "Video2",
          "Quiz1",
          "Quiz2",
          "Pdf1",
          "Pdf2",
          "Ebook1",
          "Ebook2"
         ]
        },
        {
         "marker": {
          "line": {
           "width": 2
          },
          "size": [
           12,
           29,
           11,
           7,
           29,
           29,
           7,
           11
          ],
          "sizemode": "area",
          "sizeref": 0.06896551724137931,
          "symbol": "circle"
         },
         "mode": "markers",
         "name": "Student_16",
         "text": [
          "12",
          "29",
          "11",
          "7",
          "29",
          "29",
          "7",
          "11"
         ],
         "type": "scatter",
         "uid": "1aabf282-e2e8-11e8-96ad-27ad55f30ab3",
         "x": [
          "Student_16",
          "Student_16",
          "Student_16",
          "Student_16",
          "Student_16",
          "Student_16",
          "Student_16",
          "Student_16",
          "Student_16"
         ],
         "y": [
          "Video1",
          "Video2",
          "Quiz1",
          "Quiz2",
          "Pdf1",
          "Pdf2",
          "Ebook1",
          "Ebook2"
         ]
        },
        {
         "marker": {
          "line": {
           "width": 2
          },
          "size": [
           21,
           2,
           23,
           22,
           13,
           11,
           26,
           6
          ],
          "sizemode": "area",
          "sizeref": 0.06896551724137931,
          "symbol": "circle"
         },
         "mode": "markers",
         "name": "Student_17",
         "text": [
          "21",
          "2",
          "23",
          "22",
          "13",
          "11",
          "26",
          "6"
         ],
         "type": "scatter",
         "uid": "1aabf318-e2e8-11e8-96ad-27ad55f30ab3",
         "x": [
          "Student_17",
          "Student_17",
          "Student_17",
          "Student_17",
          "Student_17",
          "Student_17",
          "Student_17",
          "Student_17",
          "Student_17"
         ],
         "y": [
          "Video1",
          "Video2",
          "Quiz1",
          "Quiz2",
          "Pdf1",
          "Pdf2",
          "Ebook1",
          "Ebook2"
         ]
        },
        {
         "marker": {
          "line": {
           "width": 2
          },
          "size": [
           28,
           11,
           9,
           11,
           11,
           17,
           24,
           13
          ],
          "sizemode": "area",
          "sizeref": 0.06896551724137931,
          "symbol": "circle"
         },
         "mode": "markers",
         "name": "Student_18",
         "text": [
          "28",
          "11",
          "9",
          "11",
          "11",
          "17",
          "24",
          "13"
         ],
         "type": "scatter",
         "uid": "1aabf3a4-e2e8-11e8-96ad-27ad55f30ab3",
         "x": [
          "Student_18",
          "Student_18",
          "Student_18",
          "Student_18",
          "Student_18",
          "Student_18",
          "Student_18",
          "Student_18",
          "Student_18"
         ],
         "y": [
          "Video1",
          "Video2",
          "Quiz1",
          "Quiz2",
          "Pdf1",
          "Pdf2",
          "Ebook1",
          "Ebook2"
         ]
        },
        {
         "marker": {
          "line": {
           "width": 2
          },
          "size": [
           4,
           13,
           0,
           2,
           1,
           18,
           20,
           21
          ],
          "sizemode": "area",
          "sizeref": 0.06896551724137931,
          "symbol": "circle"
         },
         "mode": "markers",
         "name": "Student_19",
         "text": [
          "4",
          "13",
          "0",
          "2",
          "1",
          "18",
          "20",
          "21"
         ],
         "type": "scatter",
         "uid": "1aabf43a-e2e8-11e8-96ad-27ad55f30ab3",
         "x": [
          "Student_19",
          "Student_19",
          "Student_19",
          "Student_19",
          "Student_19",
          "Student_19",
          "Student_19",
          "Student_19",
          "Student_19"
         ],
         "y": [
          "Video1",
          "Video2",
          "Quiz1",
          "Quiz2",
          "Pdf1",
          "Pdf2",
          "Ebook1",
          "Ebook2"
         ]
        },
        {
         "marker": {
          "line": {
           "width": 2
          },
          "size": [
           20,
           22,
           23,
           20,
           29,
           20,
           21,
           9
          ],
          "sizemode": "area",
          "sizeref": 0.06896551724137931,
          "symbol": "circle"
         },
         "mode": "markers",
         "name": "Student_20",
         "text": [
          "20",
          "22",
          "23",
          "20",
          "29",
          "20",
          "21",
          "9"
         ],
         "type": "scatter",
         "uid": "1aabf4d0-e2e8-11e8-96ad-27ad55f30ab3",
         "x": [
          "Student_20",
          "Student_20",
          "Student_20",
          "Student_20",
          "Student_20",
          "Student_20",
          "Student_20",
          "Student_20",
          "Student_20"
         ],
         "y": [
          "Video1",
          "Video2",
          "Quiz1",
          "Quiz2",
          "Pdf1",
          "Pdf2",
          "Ebook1",
          "Ebook2"
         ]
        }
       ],
       "layout": {
        "hovermode": "closest",
        "showlegend": true,
        "title": "Número de acessos nos materiais por estudante",
        "xaxis": {
         "autorange": false,
         "fixedrange": false,
         "range": [
          -1,
          20
         ],
         "rangemode": "normal",
         "showline": true,
         "title": "Estudantes",
         "type": "category"
        },
        "yaxis": {
         "autorange": false,
         "categoryorder": "category ascending",
         "fixedrange": false,
         "range": [
          -1,
          8
         ],
         "rangemode": "normal",
         "showline": true,
         "title": "Materiais",
         "type": "category"
        }
       }
      },
      "text/html": [
       "<div id=\"ee725d95-a90a-4855-bc45-fc44a1f7b7b9\" style=\"height: 525px; width: 100%;\" class=\"plotly-graph-div\"></div><script type=\"text/javascript\">require([\"plotly\"], function(Plotly) { window.PLOTLYENV=window.PLOTLYENV || {};window.PLOTLYENV.BASE_URL=\"https://plot.ly\";Plotly.newPlot(\"ee725d95-a90a-4855-bc45-fc44a1f7b7b9\", [{\"marker\": {\"line\": {\"width\": 2}, \"size\": [17, 1, 14, 3, 16, 28, 18, 10], \"sizemode\": \"area\", \"sizeref\": 0.06896551724137931, \"symbol\": \"circle\"}, \"mode\": \"markers\", \"name\": \"Student_1\", \"text\": [\"17\", \"1\", \"14\", \"3\", \"16\", \"28\", \"18\", \"10\"], \"x\": [\"Student_1\", \"Student_1\", \"Student_1\", \"Student_1\", \"Student_1\", \"Student_1\", \"Student_1\", \"Student_1\", \"Student_1\"], \"y\": [\"Video1\", \"Video2\", \"Quiz1\", \"Quiz2\", \"Pdf1\", \"Pdf2\", \"Ebook1\", \"Ebook2\"], \"type\": \"scatter\", \"uid\": \"1aabe7ec-e2e8-11e8-96ad-27ad55f30ab3\"}, {\"marker\": {\"line\": {\"width\": 2}, \"size\": [12, 21, 23, 21, 8, 27, 25, 13], \"sizemode\": \"area\", \"sizeref\": 0.06896551724137931, \"symbol\": \"circle\"}, \"mode\": \"markers\", \"name\": \"Student_2\", \"text\": [\"12\", \"21\", \"23\", \"21\", \"8\", \"27\", \"25\", \"13\"], \"x\": [\"Student_2\", \"Student_2\", \"Student_2\", \"Student_2\", \"Student_2\", \"Student_2\", \"Student_2\", \"Student_2\", \"Student_2\"], \"y\": [\"Video1\", \"Video2\", \"Quiz1\", \"Quiz2\", \"Pdf1\", \"Pdf2\", \"Ebook1\", \"Ebook2\"], \"type\": \"scatter\", \"uid\": \"1aabe9a4-e2e8-11e8-96ad-27ad55f30ab3\"}, {\"marker\": {\"line\": {\"width\": 2}, \"size\": [14, 5, 17, 3, 10, 3, 13, 19], \"sizemode\": \"area\", \"sizeref\": 0.06896551724137931, \"symbol\": \"circle\"}, \"mode\": \"markers\", \"name\": \"Student_3\", \"text\": [\"14\", \"5\", \"17\", \"3\", \"10\", \"3\", \"13\", \"19\"], \"x\": [\"Student_3\", \"Student_3\", \"Student_3\", \"Student_3\", \"Student_3\", \"Student_3\", \"Student_3\", \"Student_3\", \"Student_3\"], \"y\": [\"Video1\", \"Video2\", \"Quiz1\", \"Quiz2\", \"Pdf1\", \"Pdf2\", \"Ebook1\", \"Ebook2\"], \"type\": \"scatter\", \"uid\": \"1aabea8a-e2e8-11e8-96ad-27ad55f30ab3\"}, {\"marker\": {\"line\": {\"width\": 2}, \"size\": [27, 23, 25, 13, 16, 22, 22, 10], \"sizemode\": \"area\", \"sizeref\": 0.06896551724137931, \"symbol\": \"circle\"}, \"mode\": \"markers\", \"name\": \"Student_4\", \"text\": [\"27\", \"23\", \"25\", \"13\", \"16\", \"22\", \"22\", \"10\"], \"x\": [\"Student_4\", \"Student_4\", \"Student_4\", \"Student_4\", \"Student_4\", \"Student_4\", \"Student_4\", \"Student_4\", \"Student_4\"], \"y\": [\"Video1\", \"Video2\", \"Quiz1\", \"Quiz2\", \"Pdf1\", \"Pdf2\", \"Ebook1\", \"Ebook2\"], \"type\": \"scatter\", \"uid\": \"1aabeb52-e2e8-11e8-96ad-27ad55f30ab3\"}, {\"marker\": {\"line\": {\"width\": 2}, \"size\": [9, 15, 6, 10, 6, 4, 7, 24], \"sizemode\": \"area\", \"sizeref\": 0.06896551724137931, \"symbol\": \"circle\"}, \"mode\": \"markers\", \"name\": \"Student_5\", \"text\": [\"9\", \"15\", \"6\", \"10\", \"6\", \"4\", \"7\", \"24\"], \"x\": [\"Student_5\", \"Student_5\", \"Student_5\", \"Student_5\", \"Student_5\", \"Student_5\", \"Student_5\", \"Student_5\", \"Student_5\"], \"y\": [\"Video1\", \"Video2\", \"Quiz1\", \"Quiz2\", \"Pdf1\", \"Pdf2\", \"Ebook1\", \"Ebook2\"], \"type\": \"scatter\", \"uid\": \"1aabebf2-e2e8-11e8-96ad-27ad55f30ab3\"}, {\"marker\": {\"line\": {\"width\": 2}, \"size\": [15, 10, 16, 8, 28, 6, 24, 4], \"sizemode\": \"area\", \"sizeref\": 0.06896551724137931, \"symbol\": \"circle\"}, \"mode\": \"markers\", \"name\": \"Student_6\", \"text\": [\"15\", \"10\", \"16\", \"8\", \"28\", \"6\", \"24\", \"4\"], \"x\": [\"Student_6\", \"Student_6\", \"Student_6\", \"Student_6\", \"Student_6\", \"Student_6\", \"Student_6\", \"Student_6\", \"Student_6\"], \"y\": [\"Video1\", \"Video2\", \"Quiz1\", \"Quiz2\", \"Pdf1\", \"Pdf2\", \"Ebook1\", \"Ebook2\"], \"type\": \"scatter\", \"uid\": \"1aabec92-e2e8-11e8-96ad-27ad55f30ab3\"}, {\"marker\": {\"line\": {\"width\": 2}, \"size\": [13, 9, 27, 18, 3, 20, 0, 4], \"sizemode\": \"area\", \"sizeref\": 0.06896551724137931, \"symbol\": \"circle\"}, \"mode\": \"markers\", \"name\": \"Student_7\", \"text\": [\"13\", \"9\", \"27\", \"18\", \"3\", \"20\", \"0\", \"4\"], \"x\": [\"Student_7\", \"Student_7\", \"Student_7\", \"Student_7\", \"Student_7\", \"Student_7\", \"Student_7\", \"Student_7\", \"Student_7\"], \"y\": [\"Video1\", \"Video2\", \"Quiz1\", \"Quiz2\", \"Pdf1\", \"Pdf2\", \"Ebook1\", \"Ebook2\"], \"type\": \"scatter\", \"uid\": \"1aabed32-e2e8-11e8-96ad-27ad55f30ab3\"}, {\"marker\": {\"line\": {\"width\": 2}, \"size\": [24, 12, 9, 1, 0, 8, 2, 10], \"sizemode\": \"area\", \"sizeref\": 0.06896551724137931, \"symbol\": \"circle\"}, \"mode\": \"markers\", \"name\": \"Student_8\", \"text\": [\"24\", \"12\", \"9\", \"1\", \"0\", \"8\", \"2\", \"10\"], \"x\": [\"Student_8\", \"Student_8\", \"Student_8\", \"Student_8\", \"Student_8\", \"Student_8\", \"Student_8\", \"Student_8\", \"Student_8\"], \"y\": [\"Video1\", \"Video2\", \"Quiz1\", \"Quiz2\", \"Pdf1\", \"Pdf2\", \"Ebook1\", \"Ebook2\"], \"type\": \"scatter\", \"uid\": \"1aabedc8-e2e8-11e8-96ad-27ad55f30ab3\"}, {\"marker\": {\"line\": {\"width\": 2}, \"size\": [4, 16, 22, 28, 8, 9, 22, 9], \"sizemode\": \"area\", \"sizeref\": 0.06896551724137931, \"symbol\": \"circle\"}, \"mode\": \"markers\", \"name\": \"Student_9\", \"text\": [\"4\", \"16\", \"22\", \"28\", \"8\", \"9\", \"22\", \"9\"], \"x\": [\"Student_9\", \"Student_9\", \"Student_9\", \"Student_9\", \"Student_9\", \"Student_9\", \"Student_9\", \"Student_9\", \"Student_9\"], \"y\": [\"Video1\", \"Video2\", \"Quiz1\", \"Quiz2\", \"Pdf1\", \"Pdf2\", \"Ebook1\", \"Ebook2\"], \"type\": \"scatter\", \"uid\": \"1aabee68-e2e8-11e8-96ad-27ad55f30ab3\"}, {\"marker\": {\"line\": {\"width\": 2}, \"size\": [26, 6, 13, 13, 10, 12, 27, 19], \"sizemode\": \"area\", \"sizeref\": 0.06896551724137931, \"symbol\": \"circle\"}, \"mode\": \"markers\", \"name\": \"Student_10\", \"text\": [\"26\", \"6\", \"13\", \"13\", \"10\", \"12\", \"27\", \"19\"], \"x\": [\"Student_10\", \"Student_10\", \"Student_10\", \"Student_10\", \"Student_10\", \"Student_10\", \"Student_10\", \"Student_10\", \"Student_10\"], \"y\": [\"Video1\", \"Video2\", \"Quiz1\", \"Quiz2\", \"Pdf1\", \"Pdf2\", \"Ebook1\", \"Ebook2\"], \"type\": \"scatter\", \"uid\": \"1aabeefe-e2e8-11e8-96ad-27ad55f30ab3\"}, {\"marker\": {\"line\": {\"width\": 2}, \"size\": [19, 25, 21, 7, 5, 19, 25, 6], \"sizemode\": \"area\", \"sizeref\": 0.06896551724137931, \"symbol\": \"circle\"}, \"mode\": \"markers\", \"name\": \"Student_11\", \"text\": [\"19\", \"25\", \"21\", \"7\", \"5\", \"19\", \"25\", \"6\"], \"x\": [\"Student_11\", \"Student_11\", \"Student_11\", \"Student_11\", \"Student_11\", \"Student_11\", \"Student_11\", \"Student_11\", \"Student_11\"], \"y\": [\"Video1\", \"Video2\", \"Quiz1\", \"Quiz2\", \"Pdf1\", \"Pdf2\", \"Ebook1\", \"Ebook2\"], \"type\": \"scatter\", \"uid\": \"1aabef94-e2e8-11e8-96ad-27ad55f30ab3\"}, {\"marker\": {\"line\": {\"width\": 2}, \"size\": [19, 15, 13, 11, 28, 6, 12, 3], \"sizemode\": \"area\", \"sizeref\": 0.06896551724137931, \"symbol\": \"circle\"}, \"mode\": \"markers\", \"name\": \"Student_12\", \"text\": [\"19\", \"15\", \"13\", \"11\", \"28\", \"6\", \"12\", \"3\"], \"x\": [\"Student_12\", \"Student_12\", \"Student_12\", \"Student_12\", \"Student_12\", \"Student_12\", \"Student_12\", \"Student_12\", \"Student_12\"], \"y\": [\"Video1\", \"Video2\", \"Quiz1\", \"Quiz2\", \"Pdf1\", \"Pdf2\", \"Ebook1\", \"Ebook2\"], \"type\": \"scatter\", \"uid\": \"1aabf02a-e2e8-11e8-96ad-27ad55f30ab3\"}, {\"marker\": {\"line\": {\"width\": 2}, \"size\": [23, 27, 9, 6, 19, 2, 25, 10], \"sizemode\": \"area\", \"sizeref\": 0.06896551724137931, \"symbol\": \"circle\"}, \"mode\": \"markers\", \"name\": \"Student_13\", \"text\": [\"23\", \"27\", \"9\", \"6\", \"19\", \"2\", \"25\", \"10\"], \"x\": [\"Student_13\", \"Student_13\", \"Student_13\", \"Student_13\", \"Student_13\", \"Student_13\", \"Student_13\", \"Student_13\", \"Student_13\"], \"y\": [\"Video1\", \"Video2\", \"Quiz1\", \"Quiz2\", \"Pdf1\", \"Pdf2\", \"Ebook1\", \"Ebook2\"], \"type\": \"scatter\", \"uid\": \"1aabf0c0-e2e8-11e8-96ad-27ad55f30ab3\"}, {\"marker\": {\"line\": {\"width\": 2}, \"size\": [29, 28, 23, 28, 27, 13, 21, 0], \"sizemode\": \"area\", \"sizeref\": 0.06896551724137931, \"symbol\": \"circle\"}, \"mode\": \"markers\", \"name\": \"Student_14\", \"text\": [\"29\", \"28\", \"23\", \"28\", \"27\", \"13\", \"21\", \"0\"], \"x\": [\"Student_14\", \"Student_14\", \"Student_14\", \"Student_14\", \"Student_14\", \"Student_14\", \"Student_14\", \"Student_14\", \"Student_14\"], \"y\": [\"Video1\", \"Video2\", \"Quiz1\", \"Quiz2\", \"Pdf1\", \"Pdf2\", \"Ebook1\", \"Ebook2\"], \"type\": \"scatter\", \"uid\": \"1aabf156-e2e8-11e8-96ad-27ad55f30ab3\"}, {\"marker\": {\"line\": {\"width\": 2}, \"size\": [11, 23, 19, 4, 26, 18, 29, 16], \"sizemode\": \"area\", \"sizeref\": 0.06896551724137931, \"symbol\": \"circle\"}, \"mode\": \"markers\", \"name\": \"Student_15\", \"text\": [\"11\", \"23\", \"19\", \"4\", \"26\", \"18\", \"29\", \"16\"], \"x\": [\"Student_15\", \"Student_15\", \"Student_15\", \"Student_15\", \"Student_15\", \"Student_15\", \"Student_15\", \"Student_15\", \"Student_15\"], \"y\": [\"Video1\", \"Video2\", \"Quiz1\", \"Quiz2\", \"Pdf1\", \"Pdf2\", \"Ebook1\", \"Ebook2\"], \"type\": \"scatter\", \"uid\": \"1aabf1ec-e2e8-11e8-96ad-27ad55f30ab3\"}, {\"marker\": {\"line\": {\"width\": 2}, \"size\": [12, 29, 11, 7, 29, 29, 7, 11], \"sizemode\": \"area\", \"sizeref\": 0.06896551724137931, \"symbol\": \"circle\"}, \"mode\": \"markers\", \"name\": \"Student_16\", \"text\": [\"12\", \"29\", \"11\", \"7\", \"29\", \"29\", \"7\", \"11\"], \"x\": [\"Student_16\", \"Student_16\", \"Student_16\", \"Student_16\", \"Student_16\", \"Student_16\", \"Student_16\", \"Student_16\", \"Student_16\"], \"y\": [\"Video1\", \"Video2\", \"Quiz1\", \"Quiz2\", \"Pdf1\", \"Pdf2\", \"Ebook1\", \"Ebook2\"], \"type\": \"scatter\", \"uid\": \"1aabf282-e2e8-11e8-96ad-27ad55f30ab3\"}, {\"marker\": {\"line\": {\"width\": 2}, \"size\": [21, 2, 23, 22, 13, 11, 26, 6], \"sizemode\": \"area\", \"sizeref\": 0.06896551724137931, \"symbol\": \"circle\"}, \"mode\": \"markers\", \"name\": \"Student_17\", \"text\": [\"21\", \"2\", \"23\", \"22\", \"13\", \"11\", \"26\", \"6\"], \"x\": [\"Student_17\", \"Student_17\", \"Student_17\", \"Student_17\", \"Student_17\", \"Student_17\", \"Student_17\", \"Student_17\", \"Student_17\"], \"y\": [\"Video1\", \"Video2\", \"Quiz1\", \"Quiz2\", \"Pdf1\", \"Pdf2\", \"Ebook1\", \"Ebook2\"], \"type\": \"scatter\", \"uid\": \"1aabf318-e2e8-11e8-96ad-27ad55f30ab3\"}, {\"marker\": {\"line\": {\"width\": 2}, \"size\": [28, 11, 9, 11, 11, 17, 24, 13], \"sizemode\": \"area\", \"sizeref\": 0.06896551724137931, \"symbol\": \"circle\"}, \"mode\": \"markers\", \"name\": \"Student_18\", \"text\": [\"28\", \"11\", \"9\", \"11\", \"11\", \"17\", \"24\", \"13\"], \"x\": [\"Student_18\", \"Student_18\", \"Student_18\", \"Student_18\", \"Student_18\", \"Student_18\", \"Student_18\", \"Student_18\", \"Student_18\"], \"y\": [\"Video1\", \"Video2\", \"Quiz1\", \"Quiz2\", \"Pdf1\", \"Pdf2\", \"Ebook1\", \"Ebook2\"], \"type\": \"scatter\", \"uid\": \"1aabf3a4-e2e8-11e8-96ad-27ad55f30ab3\"}, {\"marker\": {\"line\": {\"width\": 2}, \"size\": [4, 13, 0, 2, 1, 18, 20, 21], \"sizemode\": \"area\", \"sizeref\": 0.06896551724137931, \"symbol\": \"circle\"}, \"mode\": \"markers\", \"name\": \"Student_19\", \"text\": [\"4\", \"13\", \"0\", \"2\", \"1\", \"18\", \"20\", \"21\"], \"x\": [\"Student_19\", \"Student_19\", \"Student_19\", \"Student_19\", \"Student_19\", \"Student_19\", \"Student_19\", \"Student_19\", \"Student_19\"], \"y\": [\"Video1\", \"Video2\", \"Quiz1\", \"Quiz2\", \"Pdf1\", \"Pdf2\", \"Ebook1\", \"Ebook2\"], \"type\": \"scatter\", \"uid\": \"1aabf43a-e2e8-11e8-96ad-27ad55f30ab3\"}, {\"marker\": {\"line\": {\"width\": 2}, \"size\": [20, 22, 23, 20, 29, 20, 21, 9], \"sizemode\": \"area\", \"sizeref\": 0.06896551724137931, \"symbol\": \"circle\"}, \"mode\": \"markers\", \"name\": \"Student_20\", \"text\": [\"20\", \"22\", \"23\", \"20\", \"29\", \"20\", \"21\", \"9\"], \"x\": [\"Student_20\", \"Student_20\", \"Student_20\", \"Student_20\", \"Student_20\", \"Student_20\", \"Student_20\", \"Student_20\", \"Student_20\"], \"y\": [\"Video1\", \"Video2\", \"Quiz1\", \"Quiz2\", \"Pdf1\", \"Pdf2\", \"Ebook1\", \"Ebook2\"], \"type\": \"scatter\", \"uid\": \"1aabf4d0-e2e8-11e8-96ad-27ad55f30ab3\"}], {\"hovermode\": \"closest\", \"showlegend\": true, \"title\": \"N\\u00famero de acessos nos materiais por estudante\", \"xaxis\": {\"autorange\": false, \"fixedrange\": false, \"range\": [-1, 20], \"rangemode\": \"normal\", \"showline\": true, \"title\": \"Estudantes\", \"type\": \"category\"}, \"yaxis\": {\"autorange\": false, \"categoryorder\": \"category ascending\", \"fixedrange\": false, \"range\": [-1, 8], \"rangemode\": \"normal\", \"showline\": true, \"title\": \"Materiais\", \"type\": \"category\"}}, {\"showLink\": true, \"linkText\": \"Export to plot.ly\"})});</script>"
      ],
      "text/vnd.plotly.v1+html": [
       "<div id=\"ee725d95-a90a-4855-bc45-fc44a1f7b7b9\" style=\"height: 525px; width: 100%;\" class=\"plotly-graph-div\"></div><script type=\"text/javascript\">require([\"plotly\"], function(Plotly) { window.PLOTLYENV=window.PLOTLYENV || {};window.PLOTLYENV.BASE_URL=\"https://plot.ly\";Plotly.newPlot(\"ee725d95-a90a-4855-bc45-fc44a1f7b7b9\", [{\"marker\": {\"line\": {\"width\": 2}, \"size\": [17, 1, 14, 3, 16, 28, 18, 10], \"sizemode\": \"area\", \"sizeref\": 0.06896551724137931, \"symbol\": \"circle\"}, \"mode\": \"markers\", \"name\": \"Student_1\", \"text\": [\"17\", \"1\", \"14\", \"3\", \"16\", \"28\", \"18\", \"10\"], \"x\": [\"Student_1\", \"Student_1\", \"Student_1\", \"Student_1\", \"Student_1\", \"Student_1\", \"Student_1\", \"Student_1\", \"Student_1\"], \"y\": [\"Video1\", \"Video2\", \"Quiz1\", \"Quiz2\", \"Pdf1\", \"Pdf2\", \"Ebook1\", \"Ebook2\"], \"type\": \"scatter\", \"uid\": \"1aabe7ec-e2e8-11e8-96ad-27ad55f30ab3\"}, {\"marker\": {\"line\": {\"width\": 2}, \"size\": [12, 21, 23, 21, 8, 27, 25, 13], \"sizemode\": \"area\", \"sizeref\": 0.06896551724137931, \"symbol\": \"circle\"}, \"mode\": \"markers\", \"name\": \"Student_2\", \"text\": [\"12\", \"21\", \"23\", \"21\", \"8\", \"27\", \"25\", \"13\"], \"x\": [\"Student_2\", \"Student_2\", \"Student_2\", \"Student_2\", \"Student_2\", \"Student_2\", \"Student_2\", \"Student_2\", \"Student_2\"], \"y\": [\"Video1\", \"Video2\", \"Quiz1\", \"Quiz2\", \"Pdf1\", \"Pdf2\", \"Ebook1\", \"Ebook2\"], \"type\": \"scatter\", \"uid\": \"1aabe9a4-e2e8-11e8-96ad-27ad55f30ab3\"}, {\"marker\": {\"line\": {\"width\": 2}, \"size\": [14, 5, 17, 3, 10, 3, 13, 19], \"sizemode\": \"area\", \"sizeref\": 0.06896551724137931, \"symbol\": \"circle\"}, \"mode\": \"markers\", \"name\": \"Student_3\", \"text\": [\"14\", \"5\", \"17\", \"3\", \"10\", \"3\", \"13\", \"19\"], \"x\": [\"Student_3\", \"Student_3\", \"Student_3\", \"Student_3\", \"Student_3\", \"Student_3\", \"Student_3\", \"Student_3\", \"Student_3\"], \"y\": [\"Video1\", \"Video2\", \"Quiz1\", \"Quiz2\", \"Pdf1\", \"Pdf2\", \"Ebook1\", \"Ebook2\"], \"type\": \"scatter\", \"uid\": \"1aabea8a-e2e8-11e8-96ad-27ad55f30ab3\"}, {\"marker\": {\"line\": {\"width\": 2}, \"size\": [27, 23, 25, 13, 16, 22, 22, 10], \"sizemode\": \"area\", \"sizeref\": 0.06896551724137931, \"symbol\": \"circle\"}, \"mode\": \"markers\", \"name\": \"Student_4\", \"text\": [\"27\", \"23\", \"25\", \"13\", \"16\", \"22\", \"22\", \"10\"], \"x\": [\"Student_4\", \"Student_4\", \"Student_4\", \"Student_4\", \"Student_4\", \"Student_4\", \"Student_4\", \"Student_4\", \"Student_4\"], \"y\": [\"Video1\", \"Video2\", \"Quiz1\", \"Quiz2\", \"Pdf1\", \"Pdf2\", \"Ebook1\", \"Ebook2\"], \"type\": \"scatter\", \"uid\": \"1aabeb52-e2e8-11e8-96ad-27ad55f30ab3\"}, {\"marker\": {\"line\": {\"width\": 2}, \"size\": [9, 15, 6, 10, 6, 4, 7, 24], \"sizemode\": \"area\", \"sizeref\": 0.06896551724137931, \"symbol\": \"circle\"}, \"mode\": \"markers\", \"name\": \"Student_5\", \"text\": [\"9\", \"15\", \"6\", \"10\", \"6\", \"4\", \"7\", \"24\"], \"x\": [\"Student_5\", \"Student_5\", \"Student_5\", \"Student_5\", \"Student_5\", \"Student_5\", \"Student_5\", \"Student_5\", \"Student_5\"], \"y\": [\"Video1\", \"Video2\", \"Quiz1\", \"Quiz2\", \"Pdf1\", \"Pdf2\", \"Ebook1\", \"Ebook2\"], \"type\": \"scatter\", \"uid\": \"1aabebf2-e2e8-11e8-96ad-27ad55f30ab3\"}, {\"marker\": {\"line\": {\"width\": 2}, \"size\": [15, 10, 16, 8, 28, 6, 24, 4], \"sizemode\": \"area\", \"sizeref\": 0.06896551724137931, \"symbol\": \"circle\"}, \"mode\": \"markers\", \"name\": \"Student_6\", \"text\": [\"15\", \"10\", \"16\", \"8\", \"28\", \"6\", \"24\", \"4\"], \"x\": [\"Student_6\", \"Student_6\", \"Student_6\", \"Student_6\", \"Student_6\", \"Student_6\", \"Student_6\", \"Student_6\", \"Student_6\"], \"y\": [\"Video1\", \"Video2\", \"Quiz1\", \"Quiz2\", \"Pdf1\", \"Pdf2\", \"Ebook1\", \"Ebook2\"], \"type\": \"scatter\", \"uid\": \"1aabec92-e2e8-11e8-96ad-27ad55f30ab3\"}, {\"marker\": {\"line\": {\"width\": 2}, \"size\": [13, 9, 27, 18, 3, 20, 0, 4], \"sizemode\": \"area\", \"sizeref\": 0.06896551724137931, \"symbol\": \"circle\"}, \"mode\": \"markers\", \"name\": \"Student_7\", \"text\": [\"13\", \"9\", \"27\", \"18\", \"3\", \"20\", \"0\", \"4\"], \"x\": [\"Student_7\", \"Student_7\", \"Student_7\", \"Student_7\", \"Student_7\", \"Student_7\", \"Student_7\", \"Student_7\", \"Student_7\"], \"y\": [\"Video1\", \"Video2\", \"Quiz1\", \"Quiz2\", \"Pdf1\", \"Pdf2\", \"Ebook1\", \"Ebook2\"], \"type\": \"scatter\", \"uid\": \"1aabed32-e2e8-11e8-96ad-27ad55f30ab3\"}, {\"marker\": {\"line\": {\"width\": 2}, \"size\": [24, 12, 9, 1, 0, 8, 2, 10], \"sizemode\": \"area\", \"sizeref\": 0.06896551724137931, \"symbol\": \"circle\"}, \"mode\": \"markers\", \"name\": \"Student_8\", \"text\": [\"24\", \"12\", \"9\", \"1\", \"0\", \"8\", \"2\", \"10\"], \"x\": [\"Student_8\", \"Student_8\", \"Student_8\", \"Student_8\", \"Student_8\", \"Student_8\", \"Student_8\", \"Student_8\", \"Student_8\"], \"y\": [\"Video1\", \"Video2\", \"Quiz1\", \"Quiz2\", \"Pdf1\", \"Pdf2\", \"Ebook1\", \"Ebook2\"], \"type\": \"scatter\", \"uid\": \"1aabedc8-e2e8-11e8-96ad-27ad55f30ab3\"}, {\"marker\": {\"line\": {\"width\": 2}, \"size\": [4, 16, 22, 28, 8, 9, 22, 9], \"sizemode\": \"area\", \"sizeref\": 0.06896551724137931, \"symbol\": \"circle\"}, \"mode\": \"markers\", \"name\": \"Student_9\", \"text\": [\"4\", \"16\", \"22\", \"28\", \"8\", \"9\", \"22\", \"9\"], \"x\": [\"Student_9\", \"Student_9\", \"Student_9\", \"Student_9\", \"Student_9\", \"Student_9\", \"Student_9\", \"Student_9\", \"Student_9\"], \"y\": [\"Video1\", \"Video2\", \"Quiz1\", \"Quiz2\", \"Pdf1\", \"Pdf2\", \"Ebook1\", \"Ebook2\"], \"type\": \"scatter\", \"uid\": \"1aabee68-e2e8-11e8-96ad-27ad55f30ab3\"}, {\"marker\": {\"line\": {\"width\": 2}, \"size\": [26, 6, 13, 13, 10, 12, 27, 19], \"sizemode\": \"area\", \"sizeref\": 0.06896551724137931, \"symbol\": \"circle\"}, \"mode\": \"markers\", \"name\": \"Student_10\", \"text\": [\"26\", \"6\", \"13\", \"13\", \"10\", \"12\", \"27\", \"19\"], \"x\": [\"Student_10\", \"Student_10\", \"Student_10\", \"Student_10\", \"Student_10\", \"Student_10\", \"Student_10\", \"Student_10\", \"Student_10\"], \"y\": [\"Video1\", \"Video2\", \"Quiz1\", \"Quiz2\", \"Pdf1\", \"Pdf2\", \"Ebook1\", \"Ebook2\"], \"type\": \"scatter\", \"uid\": \"1aabeefe-e2e8-11e8-96ad-27ad55f30ab3\"}, {\"marker\": {\"line\": {\"width\": 2}, \"size\": [19, 25, 21, 7, 5, 19, 25, 6], \"sizemode\": \"area\", \"sizeref\": 0.06896551724137931, \"symbol\": \"circle\"}, \"mode\": \"markers\", \"name\": \"Student_11\", \"text\": [\"19\", \"25\", \"21\", \"7\", \"5\", \"19\", \"25\", \"6\"], \"x\": [\"Student_11\", \"Student_11\", \"Student_11\", \"Student_11\", \"Student_11\", \"Student_11\", \"Student_11\", \"Student_11\", \"Student_11\"], \"y\": [\"Video1\", \"Video2\", \"Quiz1\", \"Quiz2\", \"Pdf1\", \"Pdf2\", \"Ebook1\", \"Ebook2\"], \"type\": \"scatter\", \"uid\": \"1aabef94-e2e8-11e8-96ad-27ad55f30ab3\"}, {\"marker\": {\"line\": {\"width\": 2}, \"size\": [19, 15, 13, 11, 28, 6, 12, 3], \"sizemode\": \"area\", \"sizeref\": 0.06896551724137931, \"symbol\": \"circle\"}, \"mode\": \"markers\", \"name\": \"Student_12\", \"text\": [\"19\", \"15\", \"13\", \"11\", \"28\", \"6\", \"12\", \"3\"], \"x\": [\"Student_12\", \"Student_12\", \"Student_12\", \"Student_12\", \"Student_12\", \"Student_12\", \"Student_12\", \"Student_12\", \"Student_12\"], \"y\": [\"Video1\", \"Video2\", \"Quiz1\", \"Quiz2\", \"Pdf1\", \"Pdf2\", \"Ebook1\", \"Ebook2\"], \"type\": \"scatter\", \"uid\": \"1aabf02a-e2e8-11e8-96ad-27ad55f30ab3\"}, {\"marker\": {\"line\": {\"width\": 2}, \"size\": [23, 27, 9, 6, 19, 2, 25, 10], \"sizemode\": \"area\", \"sizeref\": 0.06896551724137931, \"symbol\": \"circle\"}, \"mode\": \"markers\", \"name\": \"Student_13\", \"text\": [\"23\", \"27\", \"9\", \"6\", \"19\", \"2\", \"25\", \"10\"], \"x\": [\"Student_13\", \"Student_13\", \"Student_13\", \"Student_13\", \"Student_13\", \"Student_13\", \"Student_13\", \"Student_13\", \"Student_13\"], \"y\": [\"Video1\", \"Video2\", \"Quiz1\", \"Quiz2\", \"Pdf1\", \"Pdf2\", \"Ebook1\", \"Ebook2\"], \"type\": \"scatter\", \"uid\": \"1aabf0c0-e2e8-11e8-96ad-27ad55f30ab3\"}, {\"marker\": {\"line\": {\"width\": 2}, \"size\": [29, 28, 23, 28, 27, 13, 21, 0], \"sizemode\": \"area\", \"sizeref\": 0.06896551724137931, \"symbol\": \"circle\"}, \"mode\": \"markers\", \"name\": \"Student_14\", \"text\": [\"29\", \"28\", \"23\", \"28\", \"27\", \"13\", \"21\", \"0\"], \"x\": [\"Student_14\", \"Student_14\", \"Student_14\", \"Student_14\", \"Student_14\", \"Student_14\", \"Student_14\", \"Student_14\", \"Student_14\"], \"y\": [\"Video1\", \"Video2\", \"Quiz1\", \"Quiz2\", \"Pdf1\", \"Pdf2\", \"Ebook1\", \"Ebook2\"], \"type\": \"scatter\", \"uid\": \"1aabf156-e2e8-11e8-96ad-27ad55f30ab3\"}, {\"marker\": {\"line\": {\"width\": 2}, \"size\": [11, 23, 19, 4, 26, 18, 29, 16], \"sizemode\": \"area\", \"sizeref\": 0.06896551724137931, \"symbol\": \"circle\"}, \"mode\": \"markers\", \"name\": \"Student_15\", \"text\": [\"11\", \"23\", \"19\", \"4\", \"26\", \"18\", \"29\", \"16\"], \"x\": [\"Student_15\", \"Student_15\", \"Student_15\", \"Student_15\", \"Student_15\", \"Student_15\", \"Student_15\", \"Student_15\", \"Student_15\"], \"y\": [\"Video1\", \"Video2\", \"Quiz1\", \"Quiz2\", \"Pdf1\", \"Pdf2\", \"Ebook1\", \"Ebook2\"], \"type\": \"scatter\", \"uid\": \"1aabf1ec-e2e8-11e8-96ad-27ad55f30ab3\"}, {\"marker\": {\"line\": {\"width\": 2}, \"size\": [12, 29, 11, 7, 29, 29, 7, 11], \"sizemode\": \"area\", \"sizeref\": 0.06896551724137931, \"symbol\": \"circle\"}, \"mode\": \"markers\", \"name\": \"Student_16\", \"text\": [\"12\", \"29\", \"11\", \"7\", \"29\", \"29\", \"7\", \"11\"], \"x\": [\"Student_16\", \"Student_16\", \"Student_16\", \"Student_16\", \"Student_16\", \"Student_16\", \"Student_16\", \"Student_16\", \"Student_16\"], \"y\": [\"Video1\", \"Video2\", \"Quiz1\", \"Quiz2\", \"Pdf1\", \"Pdf2\", \"Ebook1\", \"Ebook2\"], \"type\": \"scatter\", \"uid\": \"1aabf282-e2e8-11e8-96ad-27ad55f30ab3\"}, {\"marker\": {\"line\": {\"width\": 2}, \"size\": [21, 2, 23, 22, 13, 11, 26, 6], \"sizemode\": \"area\", \"sizeref\": 0.06896551724137931, \"symbol\": \"circle\"}, \"mode\": \"markers\", \"name\": \"Student_17\", \"text\": [\"21\", \"2\", \"23\", \"22\", \"13\", \"11\", \"26\", \"6\"], \"x\": [\"Student_17\", \"Student_17\", \"Student_17\", \"Student_17\", \"Student_17\", \"Student_17\", \"Student_17\", \"Student_17\", \"Student_17\"], \"y\": [\"Video1\", \"Video2\", \"Quiz1\", \"Quiz2\", \"Pdf1\", \"Pdf2\", \"Ebook1\", \"Ebook2\"], \"type\": \"scatter\", \"uid\": \"1aabf318-e2e8-11e8-96ad-27ad55f30ab3\"}, {\"marker\": {\"line\": {\"width\": 2}, \"size\": [28, 11, 9, 11, 11, 17, 24, 13], \"sizemode\": \"area\", \"sizeref\": 0.06896551724137931, \"symbol\": \"circle\"}, \"mode\": \"markers\", \"name\": \"Student_18\", \"text\": [\"28\", \"11\", \"9\", \"11\", \"11\", \"17\", \"24\", \"13\"], \"x\": [\"Student_18\", \"Student_18\", \"Student_18\", \"Student_18\", \"Student_18\", \"Student_18\", \"Student_18\", \"Student_18\", \"Student_18\"], \"y\": [\"Video1\", \"Video2\", \"Quiz1\", \"Quiz2\", \"Pdf1\", \"Pdf2\", \"Ebook1\", \"Ebook2\"], \"type\": \"scatter\", \"uid\": \"1aabf3a4-e2e8-11e8-96ad-27ad55f30ab3\"}, {\"marker\": {\"line\": {\"width\": 2}, \"size\": [4, 13, 0, 2, 1, 18, 20, 21], \"sizemode\": \"area\", \"sizeref\": 0.06896551724137931, \"symbol\": \"circle\"}, \"mode\": \"markers\", \"name\": \"Student_19\", \"text\": [\"4\", \"13\", \"0\", \"2\", \"1\", \"18\", \"20\", \"21\"], \"x\": [\"Student_19\", \"Student_19\", \"Student_19\", \"Student_19\", \"Student_19\", \"Student_19\", \"Student_19\", \"Student_19\", \"Student_19\"], \"y\": [\"Video1\", \"Video2\", \"Quiz1\", \"Quiz2\", \"Pdf1\", \"Pdf2\", \"Ebook1\", \"Ebook2\"], \"type\": \"scatter\", \"uid\": \"1aabf43a-e2e8-11e8-96ad-27ad55f30ab3\"}, {\"marker\": {\"line\": {\"width\": 2}, \"size\": [20, 22, 23, 20, 29, 20, 21, 9], \"sizemode\": \"area\", \"sizeref\": 0.06896551724137931, \"symbol\": \"circle\"}, \"mode\": \"markers\", \"name\": \"Student_20\", \"text\": [\"20\", \"22\", \"23\", \"20\", \"29\", \"20\", \"21\", \"9\"], \"x\": [\"Student_20\", \"Student_20\", \"Student_20\", \"Student_20\", \"Student_20\", \"Student_20\", \"Student_20\", \"Student_20\", \"Student_20\"], \"y\": [\"Video1\", \"Video2\", \"Quiz1\", \"Quiz2\", \"Pdf1\", \"Pdf2\", \"Ebook1\", \"Ebook2\"], \"type\": \"scatter\", \"uid\": \"1aabf4d0-e2e8-11e8-96ad-27ad55f30ab3\"}], {\"hovermode\": \"closest\", \"showlegend\": true, \"title\": \"N\\u00famero de acessos nos materiais por estudante\", \"xaxis\": {\"autorange\": false, \"fixedrange\": false, \"range\": [-1, 20], \"rangemode\": \"normal\", \"showline\": true, \"title\": \"Estudantes\", \"type\": \"category\"}, \"yaxis\": {\"autorange\": false, \"categoryorder\": \"category ascending\", \"fixedrange\": false, \"range\": [-1, 8], \"rangemode\": \"normal\", \"showline\": true, \"title\": \"Materiais\", \"type\": \"category\"}}, {\"showLink\": true, \"linkText\": \"Export to plot.ly\"})});</script>"
      ]
     },
     "metadata": {},
     "output_type": "display_data"
    }
   ],
   "source": [
    "run scripts/V002.py"
   ]
  },
  {
   "cell_type": "markdown",
   "metadata": {},
   "source": [
    "### View 003"
   ]
  },
  {
   "cell_type": "code",
   "execution_count": 243,
   "metadata": {
    "scrolled": true
   },
   "outputs": [
    {
     "data": {
      "text/html": [
       "<script>requirejs.config({paths: { 'plotly': ['https://cdn.plot.ly/plotly-latest.min']},});if(!window.Plotly) {{require(['plotly'],function(plotly) {window.Plotly=plotly;});}}</script>"
      ],
      "text/vnd.plotly.v1+html": [
       "<script>requirejs.config({paths: { 'plotly': ['https://cdn.plot.ly/plotly-latest.min']},});if(!window.Plotly) {{require(['plotly'],function(plotly) {window.Plotly=plotly;});}}</script>"
      ]
     },
     "metadata": {},
     "output_type": "display_data"
    },
    {
     "data": {
      "application/vnd.plotly.v1+json": {
       "data": [
        {
         "cells": {
          "align": [
           "left",
           "center"
          ],
          "fill": {
           "color": "#F5F8FF"
          },
          "values": [
           [
            "Student_1",
            "Student_2",
            "Student_3",
            "Student_4",
            "Student_5",
            "Student_6",
            "Student_7",
            "Student_8",
            "Student_9",
            "Student_10",
            "Student_11",
            "Student_12",
            "Student_13",
            "Student_14",
            "Student_15",
            "Student_16",
            "Student_17",
            "Student_18",
            "Student_19",
            "Student_20"
           ],
           [
            8,
            3,
            1,
            14,
            17,
            8,
            9,
            12,
            0,
            16,
            3,
            11,
            4,
            6,
            6,
            7,
            3,
            7,
            16,
            11
           ],
           [
            5,
            8,
            6,
            4,
            0,
            1,
            10,
            15,
            5,
            19,
            4,
            15,
            5,
            19,
            17,
            1,
            5,
            19,
            1,
            4
           ],
           [
            5,
            7,
            4,
            1,
            12,
            17,
            18,
            10,
            9,
            17,
            4,
            2,
            9,
            17,
            1,
            5,
            16,
            0,
            5,
            18
           ]
          ]
         },
         "header": {
          "align": "center",
          "fill": {
           "color": "#C2D4FF"
          },
          "values": [
           "Students",
           "Hits",
           "Readings",
           "Posts"
          ]
         },
         "type": "table",
         "uid": "4cef1204-e29a-11e8-9490-d5f4ba98b039"
        }
       ],
       "layout": {}
      },
      "text/html": [
       "<div id=\"cf7b654f-43bc-45db-b051-bc4866fd57f5\" style=\"height: 525px; width: 100%;\" class=\"plotly-graph-div\"></div><script type=\"text/javascript\">require([\"plotly\"], function(Plotly) { window.PLOTLYENV=window.PLOTLYENV || {};window.PLOTLYENV.BASE_URL=\"https://plot.ly\";Plotly.newPlot(\"cf7b654f-43bc-45db-b051-bc4866fd57f5\", [{\"cells\": {\"align\": [\"left\", \"center\"], \"fill\": {\"color\": \"#F5F8FF\"}, \"values\": [[\"Student_1\", \"Student_2\", \"Student_3\", \"Student_4\", \"Student_5\", \"Student_6\", \"Student_7\", \"Student_8\", \"Student_9\", \"Student_10\", \"Student_11\", \"Student_12\", \"Student_13\", \"Student_14\", \"Student_15\", \"Student_16\", \"Student_17\", \"Student_18\", \"Student_19\", \"Student_20\"], [8, 3, 1, 14, 17, 8, 9, 12, 0, 16, 3, 11, 4, 6, 6, 7, 3, 7, 16, 11], [5, 8, 6, 4, 0, 1, 10, 15, 5, 19, 4, 15, 5, 19, 17, 1, 5, 19, 1, 4], [5, 7, 4, 1, 12, 17, 18, 10, 9, 17, 4, 2, 9, 17, 1, 5, 16, 0, 5, 18]]}, \"header\": {\"align\": \"center\", \"fill\": {\"color\": \"#C2D4FF\"}, \"values\": [\"Students\", \"Hits\", \"Readings\", \"Posts\"]}, \"type\": \"table\", \"uid\": \"4cf167ac-e29a-11e8-9490-d5f4ba98b039\"}], {}, {\"showLink\": true, \"linkText\": \"Export to plot.ly\"})});</script>"
      ],
      "text/vnd.plotly.v1+html": [
       "<div id=\"cf7b654f-43bc-45db-b051-bc4866fd57f5\" style=\"height: 525px; width: 100%;\" class=\"plotly-graph-div\"></div><script type=\"text/javascript\">require([\"plotly\"], function(Plotly) { window.PLOTLYENV=window.PLOTLYENV || {};window.PLOTLYENV.BASE_URL=\"https://plot.ly\";Plotly.newPlot(\"cf7b654f-43bc-45db-b051-bc4866fd57f5\", [{\"cells\": {\"align\": [\"left\", \"center\"], \"fill\": {\"color\": \"#F5F8FF\"}, \"values\": [[\"Student_1\", \"Student_2\", \"Student_3\", \"Student_4\", \"Student_5\", \"Student_6\", \"Student_7\", \"Student_8\", \"Student_9\", \"Student_10\", \"Student_11\", \"Student_12\", \"Student_13\", \"Student_14\", \"Student_15\", \"Student_16\", \"Student_17\", \"Student_18\", \"Student_19\", \"Student_20\"], [8, 3, 1, 14, 17, 8, 9, 12, 0, 16, 3, 11, 4, 6, 6, 7, 3, 7, 16, 11], [5, 8, 6, 4, 0, 1, 10, 15, 5, 19, 4, 15, 5, 19, 17, 1, 5, 19, 1, 4], [5, 7, 4, 1, 12, 17, 18, 10, 9, 17, 4, 2, 9, 17, 1, 5, 16, 0, 5, 18]]}, \"header\": {\"align\": \"center\", \"fill\": {\"color\": \"#C2D4FF\"}, \"values\": [\"Students\", \"Hits\", \"Readings\", \"Posts\"]}, \"type\": \"table\", \"uid\": \"4cf167ac-e29a-11e8-9490-d5f4ba98b039\"}], {}, {\"showLink\": true, \"linkText\": \"Export to plot.ly\"})});</script>"
      ]
     },
     "metadata": {},
     "output_type": "display_data"
    },
    {
     "data": {
      "application/vnd.plotly.v1+json": {
       "data": [
        {
         "name": "Hits",
         "type": "bar",
         "uid": "4cf7ecf8-e29a-11e8-9490-d5f4ba98b039",
         "x": [
          "Student_1",
          "Student_2",
          "Student_3",
          "Student_4",
          "Student_5",
          "Student_6",
          "Student_7",
          "Student_8",
          "Student_9",
          "Student_10",
          "Student_11",
          "Student_12",
          "Student_13",
          "Student_14",
          "Student_15",
          "Student_16",
          "Student_17",
          "Student_18",
          "Student_19",
          "Student_20"
         ],
         "y": [
          8,
          3,
          1,
          14,
          17,
          8,
          9,
          12,
          0,
          16,
          3,
          11,
          4,
          6,
          6,
          7,
          3,
          7,
          16,
          11
         ]
        },
        {
         "name": "Readings",
         "type": "bar",
         "uid": "4cf7eeb0-e29a-11e8-9490-d5f4ba98b039",
         "x": [
          "Student_1",
          "Student_2",
          "Student_3",
          "Student_4",
          "Student_5",
          "Student_6",
          "Student_7",
          "Student_8",
          "Student_9",
          "Student_10",
          "Student_11",
          "Student_12",
          "Student_13",
          "Student_14",
          "Student_15",
          "Student_16",
          "Student_17",
          "Student_18",
          "Student_19",
          "Student_20"
         ],
         "y": [
          5,
          8,
          6,
          4,
          0,
          1,
          10,
          15,
          5,
          19,
          4,
          15,
          5,
          19,
          17,
          1,
          5,
          19,
          1,
          4
         ]
        },
        {
         "name": "Posts",
         "type": "bar",
         "uid": "4cf7ef96-e29a-11e8-9490-d5f4ba98b039",
         "x": [
          "Student_1",
          "Student_2",
          "Student_3",
          "Student_4",
          "Student_5",
          "Student_6",
          "Student_7",
          "Student_8",
          "Student_9",
          "Student_10",
          "Student_11",
          "Student_12",
          "Student_13",
          "Student_14",
          "Student_15",
          "Student_16",
          "Student_17",
          "Student_18",
          "Student_19",
          "Student_20"
         ],
         "y": [
          5,
          7,
          4,
          1,
          12,
          17,
          18,
          10,
          9,
          17,
          4,
          2,
          9,
          17,
          1,
          5,
          16,
          0,
          5,
          18
         ]
        }
       ],
       "layout": {
        "title": "Número de acessos a Posts, Leituras e Likes agrupados por estudante",
        "yaxis": {
         "dtick": 1,
         "exponentformat": "e",
         "gridcolor": "#bdbdbd",
         "showexponent": "all",
         "showticklabels": true,
         "tick0": 0,
         "titlefont": {
          "color": "lightgrey",
          "family": "Arial, sans-serif"
         }
        }
       }
      },
      "text/html": [
       "<div id=\"2505eb14-1dd0-492a-a835-f6eadbcf1fe3\" style=\"height: 525px; width: 100%;\" class=\"plotly-graph-div\"></div><script type=\"text/javascript\">require([\"plotly\"], function(Plotly) { window.PLOTLYENV=window.PLOTLYENV || {};window.PLOTLYENV.BASE_URL=\"https://plot.ly\";Plotly.newPlot(\"2505eb14-1dd0-492a-a835-f6eadbcf1fe3\", [{\"name\": \"Hits\", \"x\": [\"Student_1\", \"Student_2\", \"Student_3\", \"Student_4\", \"Student_5\", \"Student_6\", \"Student_7\", \"Student_8\", \"Student_9\", \"Student_10\", \"Student_11\", \"Student_12\", \"Student_13\", \"Student_14\", \"Student_15\", \"Student_16\", \"Student_17\", \"Student_18\", \"Student_19\", \"Student_20\"], \"y\": [8, 3, 1, 14, 17, 8, 9, 12, 0, 16, 3, 11, 4, 6, 6, 7, 3, 7, 16, 11], \"type\": \"bar\", \"uid\": \"4cf7ecf8-e29a-11e8-9490-d5f4ba98b039\"}, {\"name\": \"Readings\", \"x\": [\"Student_1\", \"Student_2\", \"Student_3\", \"Student_4\", \"Student_5\", \"Student_6\", \"Student_7\", \"Student_8\", \"Student_9\", \"Student_10\", \"Student_11\", \"Student_12\", \"Student_13\", \"Student_14\", \"Student_15\", \"Student_16\", \"Student_17\", \"Student_18\", \"Student_19\", \"Student_20\"], \"y\": [5, 8, 6, 4, 0, 1, 10, 15, 5, 19, 4, 15, 5, 19, 17, 1, 5, 19, 1, 4], \"type\": \"bar\", \"uid\": \"4cf7eeb0-e29a-11e8-9490-d5f4ba98b039\"}, {\"name\": \"Posts\", \"x\": [\"Student_1\", \"Student_2\", \"Student_3\", \"Student_4\", \"Student_5\", \"Student_6\", \"Student_7\", \"Student_8\", \"Student_9\", \"Student_10\", \"Student_11\", \"Student_12\", \"Student_13\", \"Student_14\", \"Student_15\", \"Student_16\", \"Student_17\", \"Student_18\", \"Student_19\", \"Student_20\"], \"y\": [5, 7, 4, 1, 12, 17, 18, 10, 9, 17, 4, 2, 9, 17, 1, 5, 16, 0, 5, 18], \"type\": \"bar\", \"uid\": \"4cf7ef96-e29a-11e8-9490-d5f4ba98b039\"}], {\"title\": \"N\\u00famero de acessos a Posts, Leituras e Likes agrupados por estudante\", \"yaxis\": {\"dtick\": 1, \"exponentformat\": \"e\", \"gridcolor\": \"#bdbdbd\", \"showexponent\": \"all\", \"showticklabels\": true, \"tick0\": 0, \"titlefont\": {\"color\": \"lightgrey\", \"family\": \"Arial, sans-serif\"}}}, {\"showLink\": true, \"linkText\": \"Export to plot.ly\"})});</script>"
      ],
      "text/vnd.plotly.v1+html": [
       "<div id=\"2505eb14-1dd0-492a-a835-f6eadbcf1fe3\" style=\"height: 525px; width: 100%;\" class=\"plotly-graph-div\"></div><script type=\"text/javascript\">require([\"plotly\"], function(Plotly) { window.PLOTLYENV=window.PLOTLYENV || {};window.PLOTLYENV.BASE_URL=\"https://plot.ly\";Plotly.newPlot(\"2505eb14-1dd0-492a-a835-f6eadbcf1fe3\", [{\"name\": \"Hits\", \"x\": [\"Student_1\", \"Student_2\", \"Student_3\", \"Student_4\", \"Student_5\", \"Student_6\", \"Student_7\", \"Student_8\", \"Student_9\", \"Student_10\", \"Student_11\", \"Student_12\", \"Student_13\", \"Student_14\", \"Student_15\", \"Student_16\", \"Student_17\", \"Student_18\", \"Student_19\", \"Student_20\"], \"y\": [8, 3, 1, 14, 17, 8, 9, 12, 0, 16, 3, 11, 4, 6, 6, 7, 3, 7, 16, 11], \"type\": \"bar\", \"uid\": \"4cf7ecf8-e29a-11e8-9490-d5f4ba98b039\"}, {\"name\": \"Readings\", \"x\": [\"Student_1\", \"Student_2\", \"Student_3\", \"Student_4\", \"Student_5\", \"Student_6\", \"Student_7\", \"Student_8\", \"Student_9\", \"Student_10\", \"Student_11\", \"Student_12\", \"Student_13\", \"Student_14\", \"Student_15\", \"Student_16\", \"Student_17\", \"Student_18\", \"Student_19\", \"Student_20\"], \"y\": [5, 8, 6, 4, 0, 1, 10, 15, 5, 19, 4, 15, 5, 19, 17, 1, 5, 19, 1, 4], \"type\": \"bar\", \"uid\": \"4cf7eeb0-e29a-11e8-9490-d5f4ba98b039\"}, {\"name\": \"Posts\", \"x\": [\"Student_1\", \"Student_2\", \"Student_3\", \"Student_4\", \"Student_5\", \"Student_6\", \"Student_7\", \"Student_8\", \"Student_9\", \"Student_10\", \"Student_11\", \"Student_12\", \"Student_13\", \"Student_14\", \"Student_15\", \"Student_16\", \"Student_17\", \"Student_18\", \"Student_19\", \"Student_20\"], \"y\": [5, 7, 4, 1, 12, 17, 18, 10, 9, 17, 4, 2, 9, 17, 1, 5, 16, 0, 5, 18], \"type\": \"bar\", \"uid\": \"4cf7ef96-e29a-11e8-9490-d5f4ba98b039\"}], {\"title\": \"N\\u00famero de acessos a Posts, Leituras e Likes agrupados por estudante\", \"yaxis\": {\"dtick\": 1, \"exponentformat\": \"e\", \"gridcolor\": \"#bdbdbd\", \"showexponent\": \"all\", \"showticklabels\": true, \"tick0\": 0, \"titlefont\": {\"color\": \"lightgrey\", \"family\": \"Arial, sans-serif\"}}}, {\"showLink\": true, \"linkText\": \"Export to plot.ly\"})});</script>"
      ]
     },
     "metadata": {},
     "output_type": "display_data"
    },
    {
     "data": {
      "application/vnd.plotly.v1+json": {
       "data": [
        {
         "name": "Hits",
         "type": "bar",
         "uid": "4cfe2aaa-e29a-11e8-9490-d5f4ba98b039",
         "x": [
          "Student_1",
          "Student_2",
          "Student_3",
          "Student_4",
          "Student_5",
          "Student_6",
          "Student_7",
          "Student_8",
          "Student_9",
          "Student_10",
          "Student_11",
          "Student_12",
          "Student_13",
          "Student_14",
          "Student_15",
          "Student_16",
          "Student_17",
          "Student_18",
          "Student_19",
          "Student_20"
         ],
         "y": [
          8,
          3,
          1,
          14,
          17,
          8,
          9,
          12,
          0,
          16,
          3,
          11,
          4,
          6,
          6,
          7,
          3,
          7,
          16,
          11
         ]
        },
        {
         "name": "Readings",
         "type": "bar",
         "uid": "4cfe2c9e-e29a-11e8-9490-d5f4ba98b039",
         "x": [
          "Student_1",
          "Student_2",
          "Student_3",
          "Student_4",
          "Student_5",
          "Student_6",
          "Student_7",
          "Student_8",
          "Student_9",
          "Student_10",
          "Student_11",
          "Student_12",
          "Student_13",
          "Student_14",
          "Student_15",
          "Student_16",
          "Student_17",
          "Student_18",
          "Student_19",
          "Student_20"
         ],
         "y": [
          5,
          8,
          6,
          4,
          0,
          1,
          10,
          15,
          5,
          19,
          4,
          15,
          5,
          19,
          17,
          1,
          5,
          19,
          1,
          4
         ]
        },
        {
         "name": "Posts",
         "type": "bar",
         "uid": "4cfe2d84-e29a-11e8-9490-d5f4ba98b039",
         "x": [
          "Student_1",
          "Student_2",
          "Student_3",
          "Student_4",
          "Student_5",
          "Student_6",
          "Student_7",
          "Student_8",
          "Student_9",
          "Student_10",
          "Student_11",
          "Student_12",
          "Student_13",
          "Student_14",
          "Student_15",
          "Student_16",
          "Student_17",
          "Student_18",
          "Student_19",
          "Student_20"
         ],
         "y": [
          5,
          7,
          4,
          1,
          12,
          17,
          18,
          10,
          9,
          17,
          4,
          2,
          9,
          17,
          1,
          5,
          16,
          0,
          5,
          18
         ]
        }
       ],
       "layout": {
        "barmode": "stack",
        "title": "Número de acessos a Posts, Leituras e Likes agrupados por estudante",
        "yaxis": {
         "dtick": 5,
         "exponentformat": "e",
         "gridcolor": "#bdbdbd",
         "showexponent": "all",
         "showticklabels": true,
         "tick0": 0,
         "titlefont": {
          "color": "lightgrey",
          "family": "Arial, sans-serif"
         }
        }
       }
      },
      "text/html": [
       "<div id=\"c36bad66-06e3-4e83-bc40-fb2380853d5d\" style=\"height: 525px; width: 100%;\" class=\"plotly-graph-div\"></div><script type=\"text/javascript\">require([\"plotly\"], function(Plotly) { window.PLOTLYENV=window.PLOTLYENV || {};window.PLOTLYENV.BASE_URL=\"https://plot.ly\";Plotly.newPlot(\"c36bad66-06e3-4e83-bc40-fb2380853d5d\", [{\"name\": \"Hits\", \"x\": [\"Student_1\", \"Student_2\", \"Student_3\", \"Student_4\", \"Student_5\", \"Student_6\", \"Student_7\", \"Student_8\", \"Student_9\", \"Student_10\", \"Student_11\", \"Student_12\", \"Student_13\", \"Student_14\", \"Student_15\", \"Student_16\", \"Student_17\", \"Student_18\", \"Student_19\", \"Student_20\"], \"y\": [8, 3, 1, 14, 17, 8, 9, 12, 0, 16, 3, 11, 4, 6, 6, 7, 3, 7, 16, 11], \"type\": \"bar\", \"uid\": \"4cfe2aaa-e29a-11e8-9490-d5f4ba98b039\"}, {\"name\": \"Readings\", \"x\": [\"Student_1\", \"Student_2\", \"Student_3\", \"Student_4\", \"Student_5\", \"Student_6\", \"Student_7\", \"Student_8\", \"Student_9\", \"Student_10\", \"Student_11\", \"Student_12\", \"Student_13\", \"Student_14\", \"Student_15\", \"Student_16\", \"Student_17\", \"Student_18\", \"Student_19\", \"Student_20\"], \"y\": [5, 8, 6, 4, 0, 1, 10, 15, 5, 19, 4, 15, 5, 19, 17, 1, 5, 19, 1, 4], \"type\": \"bar\", \"uid\": \"4cfe2c9e-e29a-11e8-9490-d5f4ba98b039\"}, {\"name\": \"Posts\", \"x\": [\"Student_1\", \"Student_2\", \"Student_3\", \"Student_4\", \"Student_5\", \"Student_6\", \"Student_7\", \"Student_8\", \"Student_9\", \"Student_10\", \"Student_11\", \"Student_12\", \"Student_13\", \"Student_14\", \"Student_15\", \"Student_16\", \"Student_17\", \"Student_18\", \"Student_19\", \"Student_20\"], \"y\": [5, 7, 4, 1, 12, 17, 18, 10, 9, 17, 4, 2, 9, 17, 1, 5, 16, 0, 5, 18], \"type\": \"bar\", \"uid\": \"4cfe2d84-e29a-11e8-9490-d5f4ba98b039\"}], {\"barmode\": \"stack\", \"title\": \"N\\u00famero de acessos a Posts, Leituras e Likes agrupados por estudante\", \"yaxis\": {\"dtick\": 5, \"exponentformat\": \"e\", \"gridcolor\": \"#bdbdbd\", \"showexponent\": \"all\", \"showticklabels\": true, \"tick0\": 0, \"titlefont\": {\"color\": \"lightgrey\", \"family\": \"Arial, sans-serif\"}}}, {\"showLink\": true, \"linkText\": \"Export to plot.ly\"})});</script>"
      ],
      "text/vnd.plotly.v1+html": [
       "<div id=\"c36bad66-06e3-4e83-bc40-fb2380853d5d\" style=\"height: 525px; width: 100%;\" class=\"plotly-graph-div\"></div><script type=\"text/javascript\">require([\"plotly\"], function(Plotly) { window.PLOTLYENV=window.PLOTLYENV || {};window.PLOTLYENV.BASE_URL=\"https://plot.ly\";Plotly.newPlot(\"c36bad66-06e3-4e83-bc40-fb2380853d5d\", [{\"name\": \"Hits\", \"x\": [\"Student_1\", \"Student_2\", \"Student_3\", \"Student_4\", \"Student_5\", \"Student_6\", \"Student_7\", \"Student_8\", \"Student_9\", \"Student_10\", \"Student_11\", \"Student_12\", \"Student_13\", \"Student_14\", \"Student_15\", \"Student_16\", \"Student_17\", \"Student_18\", \"Student_19\", \"Student_20\"], \"y\": [8, 3, 1, 14, 17, 8, 9, 12, 0, 16, 3, 11, 4, 6, 6, 7, 3, 7, 16, 11], \"type\": \"bar\", \"uid\": \"4cfe2aaa-e29a-11e8-9490-d5f4ba98b039\"}, {\"name\": \"Readings\", \"x\": [\"Student_1\", \"Student_2\", \"Student_3\", \"Student_4\", \"Student_5\", \"Student_6\", \"Student_7\", \"Student_8\", \"Student_9\", \"Student_10\", \"Student_11\", \"Student_12\", \"Student_13\", \"Student_14\", \"Student_15\", \"Student_16\", \"Student_17\", \"Student_18\", \"Student_19\", \"Student_20\"], \"y\": [5, 8, 6, 4, 0, 1, 10, 15, 5, 19, 4, 15, 5, 19, 17, 1, 5, 19, 1, 4], \"type\": \"bar\", \"uid\": \"4cfe2c9e-e29a-11e8-9490-d5f4ba98b039\"}, {\"name\": \"Posts\", \"x\": [\"Student_1\", \"Student_2\", \"Student_3\", \"Student_4\", \"Student_5\", \"Student_6\", \"Student_7\", \"Student_8\", \"Student_9\", \"Student_10\", \"Student_11\", \"Student_12\", \"Student_13\", \"Student_14\", \"Student_15\", \"Student_16\", \"Student_17\", \"Student_18\", \"Student_19\", \"Student_20\"], \"y\": [5, 7, 4, 1, 12, 17, 18, 10, 9, 17, 4, 2, 9, 17, 1, 5, 16, 0, 5, 18], \"type\": \"bar\", \"uid\": \"4cfe2d84-e29a-11e8-9490-d5f4ba98b039\"}], {\"barmode\": \"stack\", \"title\": \"N\\u00famero de acessos a Posts, Leituras e Likes agrupados por estudante\", \"yaxis\": {\"dtick\": 5, \"exponentformat\": \"e\", \"gridcolor\": \"#bdbdbd\", \"showexponent\": \"all\", \"showticklabels\": true, \"tick0\": 0, \"titlefont\": {\"color\": \"lightgrey\", \"family\": \"Arial, sans-serif\"}}}, {\"showLink\": true, \"linkText\": \"Export to plot.ly\"})});</script>"
      ]
     },
     "metadata": {},
     "output_type": "display_data"
    },
    {
     "data": {
      "application/vnd.plotly.v1+json": {
       "data": [
        {
         "name": "Hits",
         "orientation": "h",
         "type": "bar",
         "uid": "4d03f62e-e29a-11e8-9490-d5f4ba98b039",
         "x": [
          8,
          3,
          1,
          14,
          17,
          8,
          9,
          12,
          0,
          16,
          3,
          11,
          4,
          6,
          6,
          7,
          3,
          7,
          16,
          11
         ],
         "y": [
          "Student_1",
          "Student_2",
          "Student_3",
          "Student_4",
          "Student_5",
          "Student_6",
          "Student_7",
          "Student_8",
          "Student_9",
          "Student_10",
          "Student_11",
          "Student_12",
          "Student_13",
          "Student_14",
          "Student_15",
          "Student_16",
          "Student_17",
          "Student_18",
          "Student_19",
          "Student_20"
         ]
        },
        {
         "name": "Readings",
         "orientation": "h",
         "type": "bar",
         "uid": "4d03f7e6-e29a-11e8-9490-d5f4ba98b039",
         "x": [
          5,
          8,
          6,
          4,
          0,
          1,
          10,
          15,
          5,
          19,
          4,
          15,
          5,
          19,
          17,
          1,
          5,
          19,
          1,
          4
         ],
         "y": [
          "Student_1",
          "Student_2",
          "Student_3",
          "Student_4",
          "Student_5",
          "Student_6",
          "Student_7",
          "Student_8",
          "Student_9",
          "Student_10",
          "Student_11",
          "Student_12",
          "Student_13",
          "Student_14",
          "Student_15",
          "Student_16",
          "Student_17",
          "Student_18",
          "Student_19",
          "Student_20"
         ]
        },
        {
         "name": "Posts",
         "orientation": "h",
         "type": "bar",
         "uid": "4d03f8e0-e29a-11e8-9490-d5f4ba98b039",
         "x": [
          5,
          7,
          4,
          1,
          12,
          17,
          18,
          10,
          9,
          17,
          4,
          2,
          9,
          17,
          1,
          5,
          16,
          0,
          5,
          18
         ],
         "y": [
          "Student_1",
          "Student_2",
          "Student_3",
          "Student_4",
          "Student_5",
          "Student_6",
          "Student_7",
          "Student_8",
          "Student_9",
          "Student_10",
          "Student_11",
          "Student_12",
          "Student_13",
          "Student_14",
          "Student_15",
          "Student_16",
          "Student_17",
          "Student_18",
          "Student_19",
          "Student_20"
         ]
        }
       ],
       "layout": {
        "barmode": "stack",
        "title": "Número de acessos a Posts, Leituras e Likes agrupados por estudante",
        "yaxis": {
         "dtick": 1,
         "exponentformat": "e",
         "gridcolor": "#bdbdbd",
         "showexponent": "all",
         "showticklabels": true,
         "tick0": 0,
         "titlefont": {
          "color": "lightgrey",
          "family": "Arial, sans-serif"
         }
        }
       }
      },
      "text/html": [
       "<div id=\"c8b92be6-1d3f-498b-b109-7fe970876da3\" style=\"height: 525px; width: 100%;\" class=\"plotly-graph-div\"></div><script type=\"text/javascript\">require([\"plotly\"], function(Plotly) { window.PLOTLYENV=window.PLOTLYENV || {};window.PLOTLYENV.BASE_URL=\"https://plot.ly\";Plotly.newPlot(\"c8b92be6-1d3f-498b-b109-7fe970876da3\", [{\"name\": \"Hits\", \"orientation\": \"h\", \"x\": [8, 3, 1, 14, 17, 8, 9, 12, 0, 16, 3, 11, 4, 6, 6, 7, 3, 7, 16, 11], \"y\": [\"Student_1\", \"Student_2\", \"Student_3\", \"Student_4\", \"Student_5\", \"Student_6\", \"Student_7\", \"Student_8\", \"Student_9\", \"Student_10\", \"Student_11\", \"Student_12\", \"Student_13\", \"Student_14\", \"Student_15\", \"Student_16\", \"Student_17\", \"Student_18\", \"Student_19\", \"Student_20\"], \"type\": \"bar\", \"uid\": \"4d03f62e-e29a-11e8-9490-d5f4ba98b039\"}, {\"name\": \"Readings\", \"orientation\": \"h\", \"x\": [5, 8, 6, 4, 0, 1, 10, 15, 5, 19, 4, 15, 5, 19, 17, 1, 5, 19, 1, 4], \"y\": [\"Student_1\", \"Student_2\", \"Student_3\", \"Student_4\", \"Student_5\", \"Student_6\", \"Student_7\", \"Student_8\", \"Student_9\", \"Student_10\", \"Student_11\", \"Student_12\", \"Student_13\", \"Student_14\", \"Student_15\", \"Student_16\", \"Student_17\", \"Student_18\", \"Student_19\", \"Student_20\"], \"type\": \"bar\", \"uid\": \"4d03f7e6-e29a-11e8-9490-d5f4ba98b039\"}, {\"name\": \"Posts\", \"orientation\": \"h\", \"x\": [5, 7, 4, 1, 12, 17, 18, 10, 9, 17, 4, 2, 9, 17, 1, 5, 16, 0, 5, 18], \"y\": [\"Student_1\", \"Student_2\", \"Student_3\", \"Student_4\", \"Student_5\", \"Student_6\", \"Student_7\", \"Student_8\", \"Student_9\", \"Student_10\", \"Student_11\", \"Student_12\", \"Student_13\", \"Student_14\", \"Student_15\", \"Student_16\", \"Student_17\", \"Student_18\", \"Student_19\", \"Student_20\"], \"type\": \"bar\", \"uid\": \"4d03f8e0-e29a-11e8-9490-d5f4ba98b039\"}], {\"barmode\": \"stack\", \"title\": \"N\\u00famero de acessos a Posts, Leituras e Likes agrupados por estudante\", \"yaxis\": {\"dtick\": 1, \"exponentformat\": \"e\", \"gridcolor\": \"#bdbdbd\", \"showexponent\": \"all\", \"showticklabels\": true, \"tick0\": 0, \"titlefont\": {\"color\": \"lightgrey\", \"family\": \"Arial, sans-serif\"}}}, {\"showLink\": true, \"linkText\": \"Export to plot.ly\"})});</script>"
      ],
      "text/vnd.plotly.v1+html": [
       "<div id=\"c8b92be6-1d3f-498b-b109-7fe970876da3\" style=\"height: 525px; width: 100%;\" class=\"plotly-graph-div\"></div><script type=\"text/javascript\">require([\"plotly\"], function(Plotly) { window.PLOTLYENV=window.PLOTLYENV || {};window.PLOTLYENV.BASE_URL=\"https://plot.ly\";Plotly.newPlot(\"c8b92be6-1d3f-498b-b109-7fe970876da3\", [{\"name\": \"Hits\", \"orientation\": \"h\", \"x\": [8, 3, 1, 14, 17, 8, 9, 12, 0, 16, 3, 11, 4, 6, 6, 7, 3, 7, 16, 11], \"y\": [\"Student_1\", \"Student_2\", \"Student_3\", \"Student_4\", \"Student_5\", \"Student_6\", \"Student_7\", \"Student_8\", \"Student_9\", \"Student_10\", \"Student_11\", \"Student_12\", \"Student_13\", \"Student_14\", \"Student_15\", \"Student_16\", \"Student_17\", \"Student_18\", \"Student_19\", \"Student_20\"], \"type\": \"bar\", \"uid\": \"4d03f62e-e29a-11e8-9490-d5f4ba98b039\"}, {\"name\": \"Readings\", \"orientation\": \"h\", \"x\": [5, 8, 6, 4, 0, 1, 10, 15, 5, 19, 4, 15, 5, 19, 17, 1, 5, 19, 1, 4], \"y\": [\"Student_1\", \"Student_2\", \"Student_3\", \"Student_4\", \"Student_5\", \"Student_6\", \"Student_7\", \"Student_8\", \"Student_9\", \"Student_10\", \"Student_11\", \"Student_12\", \"Student_13\", \"Student_14\", \"Student_15\", \"Student_16\", \"Student_17\", \"Student_18\", \"Student_19\", \"Student_20\"], \"type\": \"bar\", \"uid\": \"4d03f7e6-e29a-11e8-9490-d5f4ba98b039\"}, {\"name\": \"Posts\", \"orientation\": \"h\", \"x\": [5, 7, 4, 1, 12, 17, 18, 10, 9, 17, 4, 2, 9, 17, 1, 5, 16, 0, 5, 18], \"y\": [\"Student_1\", \"Student_2\", \"Student_3\", \"Student_4\", \"Student_5\", \"Student_6\", \"Student_7\", \"Student_8\", \"Student_9\", \"Student_10\", \"Student_11\", \"Student_12\", \"Student_13\", \"Student_14\", \"Student_15\", \"Student_16\", \"Student_17\", \"Student_18\", \"Student_19\", \"Student_20\"], \"type\": \"bar\", \"uid\": \"4d03f8e0-e29a-11e8-9490-d5f4ba98b039\"}], {\"barmode\": \"stack\", \"title\": \"N\\u00famero de acessos a Posts, Leituras e Likes agrupados por estudante\", \"yaxis\": {\"dtick\": 1, \"exponentformat\": \"e\", \"gridcolor\": \"#bdbdbd\", \"showexponent\": \"all\", \"showticklabels\": true, \"tick0\": 0, \"titlefont\": {\"color\": \"lightgrey\", \"family\": \"Arial, sans-serif\"}}}, {\"showLink\": true, \"linkText\": \"Export to plot.ly\"})});</script>"
      ]
     },
     "metadata": {},
     "output_type": "display_data"
    },
    {
     "data": {
      "application/vnd.plotly.v1+json": {
       "data": [
        {
         "marker": {
          "line": {
           "width": 2
          },
          "size": [
           8,
           5,
           5
          ],
          "sizemode": "area",
          "sizeref": 0.10526315789473684,
          "symbol": "circle"
         },
         "mode": "markers",
         "name": "Student_1",
         "text": [
          "8",
          "5",
          "5"
         ],
         "type": "scatter",
         "uid": "4d180042-e29a-11e8-9490-d5f4ba98b039",
         "x": [
          "Student_1",
          "Student_1",
          "Student_1",
          "Student_1"
         ],
         "y": [
          "Hits",
          "Readings",
          "Posts"
         ]
        },
        {
         "marker": {
          "line": {
           "width": 2
          },
          "size": [
           3,
           8,
           7
          ],
          "sizemode": "area",
          "sizeref": 0.10526315789473684,
          "symbol": "circle"
         },
         "mode": "markers",
         "name": "Student_2",
         "text": [
          "3",
          "8",
          "7"
         ],
         "type": "scatter",
         "uid": "4d1801f0-e29a-11e8-9490-d5f4ba98b039",
         "x": [
          "Student_2",
          "Student_2",
          "Student_2",
          "Student_2"
         ],
         "y": [
          "Hits",
          "Readings",
          "Posts"
         ]
        },
        {
         "marker": {
          "line": {
           "width": 2
          },
          "size": [
           1,
           6,
           4
          ],
          "sizemode": "area",
          "sizeref": 0.10526315789473684,
          "symbol": "circle"
         },
         "mode": "markers",
         "name": "Student_3",
         "text": [
          "1",
          "6",
          "4"
         ],
         "type": "scatter",
         "uid": "4d1802b8-e29a-11e8-9490-d5f4ba98b039",
         "x": [
          "Student_3",
          "Student_3",
          "Student_3",
          "Student_3"
         ],
         "y": [
          "Hits",
          "Readings",
          "Posts"
         ]
        },
        {
         "marker": {
          "line": {
           "width": 2
          },
          "size": [
           14,
           4,
           1
          ],
          "sizemode": "area",
          "sizeref": 0.10526315789473684,
          "symbol": "circle"
         },
         "mode": "markers",
         "name": "Student_4",
         "text": [
          "14",
          "4",
          "1"
         ],
         "type": "scatter",
         "uid": "4d180362-e29a-11e8-9490-d5f4ba98b039",
         "x": [
          "Student_4",
          "Student_4",
          "Student_4",
          "Student_4"
         ],
         "y": [
          "Hits",
          "Readings",
          "Posts"
         ]
        },
        {
         "marker": {
          "line": {
           "width": 2
          },
          "size": [
           17,
           0,
           12
          ],
          "sizemode": "area",
          "sizeref": 0.10526315789473684,
          "symbol": "circle"
         },
         "mode": "markers",
         "name": "Student_5",
         "text": [
          "17",
          "0",
          "12"
         ],
         "type": "scatter",
         "uid": "4d1803f8-e29a-11e8-9490-d5f4ba98b039",
         "x": [
          "Student_5",
          "Student_5",
          "Student_5",
          "Student_5"
         ],
         "y": [
          "Hits",
          "Readings",
          "Posts"
         ]
        },
        {
         "marker": {
          "line": {
           "width": 2
          },
          "size": [
           8,
           1,
           17
          ],
          "sizemode": "area",
          "sizeref": 0.10526315789473684,
          "symbol": "circle"
         },
         "mode": "markers",
         "name": "Student_6",
         "text": [
          "8",
          "1",
          "17"
         ],
         "type": "scatter",
         "uid": "4d180484-e29a-11e8-9490-d5f4ba98b039",
         "x": [
          "Student_6",
          "Student_6",
          "Student_6",
          "Student_6"
         ],
         "y": [
          "Hits",
          "Readings",
          "Posts"
         ]
        },
        {
         "marker": {
          "line": {
           "width": 2
          },
          "size": [
           9,
           10,
           18
          ],
          "sizemode": "area",
          "sizeref": 0.10526315789473684,
          "symbol": "circle"
         },
         "mode": "markers",
         "name": "Student_7",
         "text": [
          "9",
          "10",
          "18"
         ],
         "type": "scatter",
         "uid": "4d180510-e29a-11e8-9490-d5f4ba98b039",
         "x": [
          "Student_7",
          "Student_7",
          "Student_7",
          "Student_7"
         ],
         "y": [
          "Hits",
          "Readings",
          "Posts"
         ]
        },
        {
         "marker": {
          "line": {
           "width": 2
          },
          "size": [
           12,
           15,
           10
          ],
          "sizemode": "area",
          "sizeref": 0.10526315789473684,
          "symbol": "circle"
         },
         "mode": "markers",
         "name": "Student_8",
         "text": [
          "12",
          "15",
          "10"
         ],
         "type": "scatter",
         "uid": "4d180592-e29a-11e8-9490-d5f4ba98b039",
         "x": [
          "Student_8",
          "Student_8",
          "Student_8",
          "Student_8"
         ],
         "y": [
          "Hits",
          "Readings",
          "Posts"
         ]
        },
        {
         "marker": {
          "line": {
           "width": 2
          },
          "size": [
           0,
           5,
           9
          ],
          "sizemode": "area",
          "sizeref": 0.10526315789473684,
          "symbol": "circle"
         },
         "mode": "markers",
         "name": "Student_9",
         "text": [
          "0",
          "5",
          "9"
         ],
         "type": "scatter",
         "uid": "4d18061e-e29a-11e8-9490-d5f4ba98b039",
         "x": [
          "Student_9",
          "Student_9",
          "Student_9",
          "Student_9"
         ],
         "y": [
          "Hits",
          "Readings",
          "Posts"
         ]
        },
        {
         "marker": {
          "line": {
           "width": 2
          },
          "size": [
           16,
           19,
           17
          ],
          "sizemode": "area",
          "sizeref": 0.10526315789473684,
          "symbol": "circle"
         },
         "mode": "markers",
         "name": "Student_10",
         "text": [
          "16",
          "19",
          "17"
         ],
         "type": "scatter",
         "uid": "4d1806a0-e29a-11e8-9490-d5f4ba98b039",
         "x": [
          "Student_10",
          "Student_10",
          "Student_10",
          "Student_10"
         ],
         "y": [
          "Hits",
          "Readings",
          "Posts"
         ]
        },
        {
         "marker": {
          "line": {
           "width": 2
          },
          "size": [
           3,
           4,
           4
          ],
          "sizemode": "area",
          "sizeref": 0.10526315789473684,
          "symbol": "circle"
         },
         "mode": "markers",
         "name": "Student_11",
         "text": [
          "3",
          "4",
          "4"
         ],
         "type": "scatter",
         "uid": "4d18072c-e29a-11e8-9490-d5f4ba98b039",
         "x": [
          "Student_11",
          "Student_11",
          "Student_11",
          "Student_11"
         ],
         "y": [
          "Hits",
          "Readings",
          "Posts"
         ]
        },
        {
         "marker": {
          "line": {
           "width": 2
          },
          "size": [
           11,
           15,
           2
          ],
          "sizemode": "area",
          "sizeref": 0.10526315789473684,
          "symbol": "circle"
         },
         "mode": "markers",
         "name": "Student_12",
         "text": [
          "11",
          "15",
          "2"
         ],
         "type": "scatter",
         "uid": "4d1807ae-e29a-11e8-9490-d5f4ba98b039",
         "x": [
          "Student_12",
          "Student_12",
          "Student_12",
          "Student_12"
         ],
         "y": [
          "Hits",
          "Readings",
          "Posts"
         ]
        },
        {
         "marker": {
          "line": {
           "width": 2
          },
          "size": [
           4,
           5,
           9
          ],
          "sizemode": "area",
          "sizeref": 0.10526315789473684,
          "symbol": "circle"
         },
         "mode": "markers",
         "name": "Student_13",
         "text": [
          "4",
          "5",
          "9"
         ],
         "type": "scatter",
         "uid": "4d18083a-e29a-11e8-9490-d5f4ba98b039",
         "x": [
          "Student_13",
          "Student_13",
          "Student_13",
          "Student_13"
         ],
         "y": [
          "Hits",
          "Readings",
          "Posts"
         ]
        },
        {
         "marker": {
          "line": {
           "width": 2
          },
          "size": [
           6,
           19,
           17
          ],
          "sizemode": "area",
          "sizeref": 0.10526315789473684,
          "symbol": "circle"
         },
         "mode": "markers",
         "name": "Student_14",
         "text": [
          "6",
          "19",
          "17"
         ],
         "type": "scatter",
         "uid": "4d1808c6-e29a-11e8-9490-d5f4ba98b039",
         "x": [
          "Student_14",
          "Student_14",
          "Student_14",
          "Student_14"
         ],
         "y": [
          "Hits",
          "Readings",
          "Posts"
         ]
        },
        {
         "marker": {
          "line": {
           "width": 2
          },
          "size": [
           6,
           17,
           1
          ],
          "sizemode": "area",
          "sizeref": 0.10526315789473684,
          "symbol": "circle"
         },
         "mode": "markers",
         "name": "Student_15",
         "text": [
          "6",
          "17",
          "1"
         ],
         "type": "scatter",
         "uid": "4d180948-e29a-11e8-9490-d5f4ba98b039",
         "x": [
          "Student_15",
          "Student_15",
          "Student_15",
          "Student_15"
         ],
         "y": [
          "Hits",
          "Readings",
          "Posts"
         ]
        },
        {
         "marker": {
          "line": {
           "width": 2
          },
          "size": [
           7,
           1,
           5
          ],
          "sizemode": "area",
          "sizeref": 0.10526315789473684,
          "symbol": "circle"
         },
         "mode": "markers",
         "name": "Student_16",
         "text": [
          "7",
          "1",
          "5"
         ],
         "type": "scatter",
         "uid": "4d1809ca-e29a-11e8-9490-d5f4ba98b039",
         "x": [
          "Student_16",
          "Student_16",
          "Student_16",
          "Student_16"
         ],
         "y": [
          "Hits",
          "Readings",
          "Posts"
         ]
        },
        {
         "marker": {
          "line": {
           "width": 2
          },
          "size": [
           3,
           5,
           16
          ],
          "sizemode": "area",
          "sizeref": 0.10526315789473684,
          "symbol": "circle"
         },
         "mode": "markers",
         "name": "Student_17",
         "text": [
          "3",
          "5",
          "16"
         ],
         "type": "scatter",
         "uid": "4d180a4c-e29a-11e8-9490-d5f4ba98b039",
         "x": [
          "Student_17",
          "Student_17",
          "Student_17",
          "Student_17"
         ],
         "y": [
          "Hits",
          "Readings",
          "Posts"
         ]
        },
        {
         "marker": {
          "line": {
           "width": 2
          },
          "size": [
           7,
           19,
           0
          ],
          "sizemode": "area",
          "sizeref": 0.10526315789473684,
          "symbol": "circle"
         },
         "mode": "markers",
         "name": "Student_18",
         "text": [
          "7",
          "19",
          "0"
         ],
         "type": "scatter",
         "uid": "4d180ace-e29a-11e8-9490-d5f4ba98b039",
         "x": [
          "Student_18",
          "Student_18",
          "Student_18",
          "Student_18"
         ],
         "y": [
          "Hits",
          "Readings",
          "Posts"
         ]
        },
        {
         "marker": {
          "line": {
           "width": 2
          },
          "size": [
           16,
           1,
           5
          ],
          "sizemode": "area",
          "sizeref": 0.10526315789473684,
          "symbol": "circle"
         },
         "mode": "markers",
         "name": "Student_19",
         "text": [
          "16",
          "1",
          "5"
         ],
         "type": "scatter",
         "uid": "4d180b46-e29a-11e8-9490-d5f4ba98b039",
         "x": [
          "Student_19",
          "Student_19",
          "Student_19",
          "Student_19"
         ],
         "y": [
          "Hits",
          "Readings",
          "Posts"
         ]
        },
        {
         "marker": {
          "line": {
           "width": 2
          },
          "size": [
           11,
           4,
           18
          ],
          "sizemode": "area",
          "sizeref": 0.10526315789473684,
          "symbol": "circle"
         },
         "mode": "markers",
         "name": "Student_20",
         "text": [
          "11",
          "4",
          "18"
         ],
         "type": "scatter",
         "uid": "4d180bbe-e29a-11e8-9490-d5f4ba98b039",
         "x": [
          "Student_20",
          "Student_20",
          "Student_20",
          "Student_20"
         ],
         "y": [
          "Hits",
          "Readings",
          "Posts"
         ]
        }
       ],
       "layout": {
        "hovermode": "closest",
        "showlegend": true,
        "title": "Número de acessos a Posts, Leituras e Likes por estudante",
        "xaxis": {
         "autorange": false,
         "fixedrange": false,
         "range": [
          -1,
          20
         ],
         "rangemode": "normal",
         "showline": true,
         "title": "Estudantes",
         "type": "category"
        },
        "yaxis": {
         "autorange": false,
         "categoryorder": "category ascending",
         "fixedrange": false,
         "range": [
          -1,
          3
         ],
         "rangemode": "normal",
         "showline": true,
         "type": "category"
        }
       }
      },
      "text/html": [
       "<div id=\"f6573b09-9d1d-4f11-9ad2-250fa2d83bbf\" style=\"height: 525px; width: 100%;\" class=\"plotly-graph-div\"></div><script type=\"text/javascript\">require([\"plotly\"], function(Plotly) { window.PLOTLYENV=window.PLOTLYENV || {};window.PLOTLYENV.BASE_URL=\"https://plot.ly\";Plotly.newPlot(\"f6573b09-9d1d-4f11-9ad2-250fa2d83bbf\", [{\"marker\": {\"line\": {\"width\": 2}, \"size\": [8, 5, 5], \"sizemode\": \"area\", \"sizeref\": 0.10526315789473684, \"symbol\": \"circle\"}, \"mode\": \"markers\", \"name\": \"Student_1\", \"text\": [\"8\", \"5\", \"5\"], \"x\": [\"Student_1\", \"Student_1\", \"Student_1\", \"Student_1\"], \"y\": [\"Hits\", \"Readings\", \"Posts\"], \"type\": \"scatter\", \"uid\": \"4d180042-e29a-11e8-9490-d5f4ba98b039\"}, {\"marker\": {\"line\": {\"width\": 2}, \"size\": [3, 8, 7], \"sizemode\": \"area\", \"sizeref\": 0.10526315789473684, \"symbol\": \"circle\"}, \"mode\": \"markers\", \"name\": \"Student_2\", \"text\": [\"3\", \"8\", \"7\"], \"x\": [\"Student_2\", \"Student_2\", \"Student_2\", \"Student_2\"], \"y\": [\"Hits\", \"Readings\", \"Posts\"], \"type\": \"scatter\", \"uid\": \"4d1801f0-e29a-11e8-9490-d5f4ba98b039\"}, {\"marker\": {\"line\": {\"width\": 2}, \"size\": [1, 6, 4], \"sizemode\": \"area\", \"sizeref\": 0.10526315789473684, \"symbol\": \"circle\"}, \"mode\": \"markers\", \"name\": \"Student_3\", \"text\": [\"1\", \"6\", \"4\"], \"x\": [\"Student_3\", \"Student_3\", \"Student_3\", \"Student_3\"], \"y\": [\"Hits\", \"Readings\", \"Posts\"], \"type\": \"scatter\", \"uid\": \"4d1802b8-e29a-11e8-9490-d5f4ba98b039\"}, {\"marker\": {\"line\": {\"width\": 2}, \"size\": [14, 4, 1], \"sizemode\": \"area\", \"sizeref\": 0.10526315789473684, \"symbol\": \"circle\"}, \"mode\": \"markers\", \"name\": \"Student_4\", \"text\": [\"14\", \"4\", \"1\"], \"x\": [\"Student_4\", \"Student_4\", \"Student_4\", \"Student_4\"], \"y\": [\"Hits\", \"Readings\", \"Posts\"], \"type\": \"scatter\", \"uid\": \"4d180362-e29a-11e8-9490-d5f4ba98b039\"}, {\"marker\": {\"line\": {\"width\": 2}, \"size\": [17, 0, 12], \"sizemode\": \"area\", \"sizeref\": 0.10526315789473684, \"symbol\": \"circle\"}, \"mode\": \"markers\", \"name\": \"Student_5\", \"text\": [\"17\", \"0\", \"12\"], \"x\": [\"Student_5\", \"Student_5\", \"Student_5\", \"Student_5\"], \"y\": [\"Hits\", \"Readings\", \"Posts\"], \"type\": \"scatter\", \"uid\": \"4d1803f8-e29a-11e8-9490-d5f4ba98b039\"}, {\"marker\": {\"line\": {\"width\": 2}, \"size\": [8, 1, 17], \"sizemode\": \"area\", \"sizeref\": 0.10526315789473684, \"symbol\": \"circle\"}, \"mode\": \"markers\", \"name\": \"Student_6\", \"text\": [\"8\", \"1\", \"17\"], \"x\": [\"Student_6\", \"Student_6\", \"Student_6\", \"Student_6\"], \"y\": [\"Hits\", \"Readings\", \"Posts\"], \"type\": \"scatter\", \"uid\": \"4d180484-e29a-11e8-9490-d5f4ba98b039\"}, {\"marker\": {\"line\": {\"width\": 2}, \"size\": [9, 10, 18], \"sizemode\": \"area\", \"sizeref\": 0.10526315789473684, \"symbol\": \"circle\"}, \"mode\": \"markers\", \"name\": \"Student_7\", \"text\": [\"9\", \"10\", \"18\"], \"x\": [\"Student_7\", \"Student_7\", \"Student_7\", \"Student_7\"], \"y\": [\"Hits\", \"Readings\", \"Posts\"], \"type\": \"scatter\", \"uid\": \"4d180510-e29a-11e8-9490-d5f4ba98b039\"}, {\"marker\": {\"line\": {\"width\": 2}, \"size\": [12, 15, 10], \"sizemode\": \"area\", \"sizeref\": 0.10526315789473684, \"symbol\": \"circle\"}, \"mode\": \"markers\", \"name\": \"Student_8\", \"text\": [\"12\", \"15\", \"10\"], \"x\": [\"Student_8\", \"Student_8\", \"Student_8\", \"Student_8\"], \"y\": [\"Hits\", \"Readings\", \"Posts\"], \"type\": \"scatter\", \"uid\": \"4d180592-e29a-11e8-9490-d5f4ba98b039\"}, {\"marker\": {\"line\": {\"width\": 2}, \"size\": [0, 5, 9], \"sizemode\": \"area\", \"sizeref\": 0.10526315789473684, \"symbol\": \"circle\"}, \"mode\": \"markers\", \"name\": \"Student_9\", \"text\": [\"0\", \"5\", \"9\"], \"x\": [\"Student_9\", \"Student_9\", \"Student_9\", \"Student_9\"], \"y\": [\"Hits\", \"Readings\", \"Posts\"], \"type\": \"scatter\", \"uid\": \"4d18061e-e29a-11e8-9490-d5f4ba98b039\"}, {\"marker\": {\"line\": {\"width\": 2}, \"size\": [16, 19, 17], \"sizemode\": \"area\", \"sizeref\": 0.10526315789473684, \"symbol\": \"circle\"}, \"mode\": \"markers\", \"name\": \"Student_10\", \"text\": [\"16\", \"19\", \"17\"], \"x\": [\"Student_10\", \"Student_10\", \"Student_10\", \"Student_10\"], \"y\": [\"Hits\", \"Readings\", \"Posts\"], \"type\": \"scatter\", \"uid\": \"4d1806a0-e29a-11e8-9490-d5f4ba98b039\"}, {\"marker\": {\"line\": {\"width\": 2}, \"size\": [3, 4, 4], \"sizemode\": \"area\", \"sizeref\": 0.10526315789473684, \"symbol\": \"circle\"}, \"mode\": \"markers\", \"name\": \"Student_11\", \"text\": [\"3\", \"4\", \"4\"], \"x\": [\"Student_11\", \"Student_11\", \"Student_11\", \"Student_11\"], \"y\": [\"Hits\", \"Readings\", \"Posts\"], \"type\": \"scatter\", \"uid\": \"4d18072c-e29a-11e8-9490-d5f4ba98b039\"}, {\"marker\": {\"line\": {\"width\": 2}, \"size\": [11, 15, 2], \"sizemode\": \"area\", \"sizeref\": 0.10526315789473684, \"symbol\": \"circle\"}, \"mode\": \"markers\", \"name\": \"Student_12\", \"text\": [\"11\", \"15\", \"2\"], \"x\": [\"Student_12\", \"Student_12\", \"Student_12\", \"Student_12\"], \"y\": [\"Hits\", \"Readings\", \"Posts\"], \"type\": \"scatter\", \"uid\": \"4d1807ae-e29a-11e8-9490-d5f4ba98b039\"}, {\"marker\": {\"line\": {\"width\": 2}, \"size\": [4, 5, 9], \"sizemode\": \"area\", \"sizeref\": 0.10526315789473684, \"symbol\": \"circle\"}, \"mode\": \"markers\", \"name\": \"Student_13\", \"text\": [\"4\", \"5\", \"9\"], \"x\": [\"Student_13\", \"Student_13\", \"Student_13\", \"Student_13\"], \"y\": [\"Hits\", \"Readings\", \"Posts\"], \"type\": \"scatter\", \"uid\": \"4d18083a-e29a-11e8-9490-d5f4ba98b039\"}, {\"marker\": {\"line\": {\"width\": 2}, \"size\": [6, 19, 17], \"sizemode\": \"area\", \"sizeref\": 0.10526315789473684, \"symbol\": \"circle\"}, \"mode\": \"markers\", \"name\": \"Student_14\", \"text\": [\"6\", \"19\", \"17\"], \"x\": [\"Student_14\", \"Student_14\", \"Student_14\", \"Student_14\"], \"y\": [\"Hits\", \"Readings\", \"Posts\"], \"type\": \"scatter\", \"uid\": \"4d1808c6-e29a-11e8-9490-d5f4ba98b039\"}, {\"marker\": {\"line\": {\"width\": 2}, \"size\": [6, 17, 1], \"sizemode\": \"area\", \"sizeref\": 0.10526315789473684, \"symbol\": \"circle\"}, \"mode\": \"markers\", \"name\": \"Student_15\", \"text\": [\"6\", \"17\", \"1\"], \"x\": [\"Student_15\", \"Student_15\", \"Student_15\", \"Student_15\"], \"y\": [\"Hits\", \"Readings\", \"Posts\"], \"type\": \"scatter\", \"uid\": \"4d180948-e29a-11e8-9490-d5f4ba98b039\"}, {\"marker\": {\"line\": {\"width\": 2}, \"size\": [7, 1, 5], \"sizemode\": \"area\", \"sizeref\": 0.10526315789473684, \"symbol\": \"circle\"}, \"mode\": \"markers\", \"name\": \"Student_16\", \"text\": [\"7\", \"1\", \"5\"], \"x\": [\"Student_16\", \"Student_16\", \"Student_16\", \"Student_16\"], \"y\": [\"Hits\", \"Readings\", \"Posts\"], \"type\": \"scatter\", \"uid\": \"4d1809ca-e29a-11e8-9490-d5f4ba98b039\"}, {\"marker\": {\"line\": {\"width\": 2}, \"size\": [3, 5, 16], \"sizemode\": \"area\", \"sizeref\": 0.10526315789473684, \"symbol\": \"circle\"}, \"mode\": \"markers\", \"name\": \"Student_17\", \"text\": [\"3\", \"5\", \"16\"], \"x\": [\"Student_17\", \"Student_17\", \"Student_17\", \"Student_17\"], \"y\": [\"Hits\", \"Readings\", \"Posts\"], \"type\": \"scatter\", \"uid\": \"4d180a4c-e29a-11e8-9490-d5f4ba98b039\"}, {\"marker\": {\"line\": {\"width\": 2}, \"size\": [7, 19, 0], \"sizemode\": \"area\", \"sizeref\": 0.10526315789473684, \"symbol\": \"circle\"}, \"mode\": \"markers\", \"name\": \"Student_18\", \"text\": [\"7\", \"19\", \"0\"], \"x\": [\"Student_18\", \"Student_18\", \"Student_18\", \"Student_18\"], \"y\": [\"Hits\", \"Readings\", \"Posts\"], \"type\": \"scatter\", \"uid\": \"4d180ace-e29a-11e8-9490-d5f4ba98b039\"}, {\"marker\": {\"line\": {\"width\": 2}, \"size\": [16, 1, 5], \"sizemode\": \"area\", \"sizeref\": 0.10526315789473684, \"symbol\": \"circle\"}, \"mode\": \"markers\", \"name\": \"Student_19\", \"text\": [\"16\", \"1\", \"5\"], \"x\": [\"Student_19\", \"Student_19\", \"Student_19\", \"Student_19\"], \"y\": [\"Hits\", \"Readings\", \"Posts\"], \"type\": \"scatter\", \"uid\": \"4d180b46-e29a-11e8-9490-d5f4ba98b039\"}, {\"marker\": {\"line\": {\"width\": 2}, \"size\": [11, 4, 18], \"sizemode\": \"area\", \"sizeref\": 0.10526315789473684, \"symbol\": \"circle\"}, \"mode\": \"markers\", \"name\": \"Student_20\", \"text\": [\"11\", \"4\", \"18\"], \"x\": [\"Student_20\", \"Student_20\", \"Student_20\", \"Student_20\"], \"y\": [\"Hits\", \"Readings\", \"Posts\"], \"type\": \"scatter\", \"uid\": \"4d180bbe-e29a-11e8-9490-d5f4ba98b039\"}], {\"hovermode\": \"closest\", \"showlegend\": true, \"title\": \"N\\u00famero de acessos a Posts, Leituras e Likes por estudante\", \"xaxis\": {\"autorange\": false, \"fixedrange\": false, \"range\": [-1, 20], \"rangemode\": \"normal\", \"showline\": true, \"title\": \"Estudantes\", \"type\": \"category\"}, \"yaxis\": {\"autorange\": false, \"categoryorder\": \"category ascending\", \"fixedrange\": false, \"range\": [-1, 3], \"rangemode\": \"normal\", \"showline\": true, \"type\": \"category\"}}, {\"showLink\": true, \"linkText\": \"Export to plot.ly\"})});</script>"
      ],
      "text/vnd.plotly.v1+html": [
       "<div id=\"f6573b09-9d1d-4f11-9ad2-250fa2d83bbf\" style=\"height: 525px; width: 100%;\" class=\"plotly-graph-div\"></div><script type=\"text/javascript\">require([\"plotly\"], function(Plotly) { window.PLOTLYENV=window.PLOTLYENV || {};window.PLOTLYENV.BASE_URL=\"https://plot.ly\";Plotly.newPlot(\"f6573b09-9d1d-4f11-9ad2-250fa2d83bbf\", [{\"marker\": {\"line\": {\"width\": 2}, \"size\": [8, 5, 5], \"sizemode\": \"area\", \"sizeref\": 0.10526315789473684, \"symbol\": \"circle\"}, \"mode\": \"markers\", \"name\": \"Student_1\", \"text\": [\"8\", \"5\", \"5\"], \"x\": [\"Student_1\", \"Student_1\", \"Student_1\", \"Student_1\"], \"y\": [\"Hits\", \"Readings\", \"Posts\"], \"type\": \"scatter\", \"uid\": \"4d180042-e29a-11e8-9490-d5f4ba98b039\"}, {\"marker\": {\"line\": {\"width\": 2}, \"size\": [3, 8, 7], \"sizemode\": \"area\", \"sizeref\": 0.10526315789473684, \"symbol\": \"circle\"}, \"mode\": \"markers\", \"name\": \"Student_2\", \"text\": [\"3\", \"8\", \"7\"], \"x\": [\"Student_2\", \"Student_2\", \"Student_2\", \"Student_2\"], \"y\": [\"Hits\", \"Readings\", \"Posts\"], \"type\": \"scatter\", \"uid\": \"4d1801f0-e29a-11e8-9490-d5f4ba98b039\"}, {\"marker\": {\"line\": {\"width\": 2}, \"size\": [1, 6, 4], \"sizemode\": \"area\", \"sizeref\": 0.10526315789473684, \"symbol\": \"circle\"}, \"mode\": \"markers\", \"name\": \"Student_3\", \"text\": [\"1\", \"6\", \"4\"], \"x\": [\"Student_3\", \"Student_3\", \"Student_3\", \"Student_3\"], \"y\": [\"Hits\", \"Readings\", \"Posts\"], \"type\": \"scatter\", \"uid\": \"4d1802b8-e29a-11e8-9490-d5f4ba98b039\"}, {\"marker\": {\"line\": {\"width\": 2}, \"size\": [14, 4, 1], \"sizemode\": \"area\", \"sizeref\": 0.10526315789473684, \"symbol\": \"circle\"}, \"mode\": \"markers\", \"name\": \"Student_4\", \"text\": [\"14\", \"4\", \"1\"], \"x\": [\"Student_4\", \"Student_4\", \"Student_4\", \"Student_4\"], \"y\": [\"Hits\", \"Readings\", \"Posts\"], \"type\": \"scatter\", \"uid\": \"4d180362-e29a-11e8-9490-d5f4ba98b039\"}, {\"marker\": {\"line\": {\"width\": 2}, \"size\": [17, 0, 12], \"sizemode\": \"area\", \"sizeref\": 0.10526315789473684, \"symbol\": \"circle\"}, \"mode\": \"markers\", \"name\": \"Student_5\", \"text\": [\"17\", \"0\", \"12\"], \"x\": [\"Student_5\", \"Student_5\", \"Student_5\", \"Student_5\"], \"y\": [\"Hits\", \"Readings\", \"Posts\"], \"type\": \"scatter\", \"uid\": \"4d1803f8-e29a-11e8-9490-d5f4ba98b039\"}, {\"marker\": {\"line\": {\"width\": 2}, \"size\": [8, 1, 17], \"sizemode\": \"area\", \"sizeref\": 0.10526315789473684, \"symbol\": \"circle\"}, \"mode\": \"markers\", \"name\": \"Student_6\", \"text\": [\"8\", \"1\", \"17\"], \"x\": [\"Student_6\", \"Student_6\", \"Student_6\", \"Student_6\"], \"y\": [\"Hits\", \"Readings\", \"Posts\"], \"type\": \"scatter\", \"uid\": \"4d180484-e29a-11e8-9490-d5f4ba98b039\"}, {\"marker\": {\"line\": {\"width\": 2}, \"size\": [9, 10, 18], \"sizemode\": \"area\", \"sizeref\": 0.10526315789473684, \"symbol\": \"circle\"}, \"mode\": \"markers\", \"name\": \"Student_7\", \"text\": [\"9\", \"10\", \"18\"], \"x\": [\"Student_7\", \"Student_7\", \"Student_7\", \"Student_7\"], \"y\": [\"Hits\", \"Readings\", \"Posts\"], \"type\": \"scatter\", \"uid\": \"4d180510-e29a-11e8-9490-d5f4ba98b039\"}, {\"marker\": {\"line\": {\"width\": 2}, \"size\": [12, 15, 10], \"sizemode\": \"area\", \"sizeref\": 0.10526315789473684, \"symbol\": \"circle\"}, \"mode\": \"markers\", \"name\": \"Student_8\", \"text\": [\"12\", \"15\", \"10\"], \"x\": [\"Student_8\", \"Student_8\", \"Student_8\", \"Student_8\"], \"y\": [\"Hits\", \"Readings\", \"Posts\"], \"type\": \"scatter\", \"uid\": \"4d180592-e29a-11e8-9490-d5f4ba98b039\"}, {\"marker\": {\"line\": {\"width\": 2}, \"size\": [0, 5, 9], \"sizemode\": \"area\", \"sizeref\": 0.10526315789473684, \"symbol\": \"circle\"}, \"mode\": \"markers\", \"name\": \"Student_9\", \"text\": [\"0\", \"5\", \"9\"], \"x\": [\"Student_9\", \"Student_9\", \"Student_9\", \"Student_9\"], \"y\": [\"Hits\", \"Readings\", \"Posts\"], \"type\": \"scatter\", \"uid\": \"4d18061e-e29a-11e8-9490-d5f4ba98b039\"}, {\"marker\": {\"line\": {\"width\": 2}, \"size\": [16, 19, 17], \"sizemode\": \"area\", \"sizeref\": 0.10526315789473684, \"symbol\": \"circle\"}, \"mode\": \"markers\", \"name\": \"Student_10\", \"text\": [\"16\", \"19\", \"17\"], \"x\": [\"Student_10\", \"Student_10\", \"Student_10\", \"Student_10\"], \"y\": [\"Hits\", \"Readings\", \"Posts\"], \"type\": \"scatter\", \"uid\": \"4d1806a0-e29a-11e8-9490-d5f4ba98b039\"}, {\"marker\": {\"line\": {\"width\": 2}, \"size\": [3, 4, 4], \"sizemode\": \"area\", \"sizeref\": 0.10526315789473684, \"symbol\": \"circle\"}, \"mode\": \"markers\", \"name\": \"Student_11\", \"text\": [\"3\", \"4\", \"4\"], \"x\": [\"Student_11\", \"Student_11\", \"Student_11\", \"Student_11\"], \"y\": [\"Hits\", \"Readings\", \"Posts\"], \"type\": \"scatter\", \"uid\": \"4d18072c-e29a-11e8-9490-d5f4ba98b039\"}, {\"marker\": {\"line\": {\"width\": 2}, \"size\": [11, 15, 2], \"sizemode\": \"area\", \"sizeref\": 0.10526315789473684, \"symbol\": \"circle\"}, \"mode\": \"markers\", \"name\": \"Student_12\", \"text\": [\"11\", \"15\", \"2\"], \"x\": [\"Student_12\", \"Student_12\", \"Student_12\", \"Student_12\"], \"y\": [\"Hits\", \"Readings\", \"Posts\"], \"type\": \"scatter\", \"uid\": \"4d1807ae-e29a-11e8-9490-d5f4ba98b039\"}, {\"marker\": {\"line\": {\"width\": 2}, \"size\": [4, 5, 9], \"sizemode\": \"area\", \"sizeref\": 0.10526315789473684, \"symbol\": \"circle\"}, \"mode\": \"markers\", \"name\": \"Student_13\", \"text\": [\"4\", \"5\", \"9\"], \"x\": [\"Student_13\", \"Student_13\", \"Student_13\", \"Student_13\"], \"y\": [\"Hits\", \"Readings\", \"Posts\"], \"type\": \"scatter\", \"uid\": \"4d18083a-e29a-11e8-9490-d5f4ba98b039\"}, {\"marker\": {\"line\": {\"width\": 2}, \"size\": [6, 19, 17], \"sizemode\": \"area\", \"sizeref\": 0.10526315789473684, \"symbol\": \"circle\"}, \"mode\": \"markers\", \"name\": \"Student_14\", \"text\": [\"6\", \"19\", \"17\"], \"x\": [\"Student_14\", \"Student_14\", \"Student_14\", \"Student_14\"], \"y\": [\"Hits\", \"Readings\", \"Posts\"], \"type\": \"scatter\", \"uid\": \"4d1808c6-e29a-11e8-9490-d5f4ba98b039\"}, {\"marker\": {\"line\": {\"width\": 2}, \"size\": [6, 17, 1], \"sizemode\": \"area\", \"sizeref\": 0.10526315789473684, \"symbol\": \"circle\"}, \"mode\": \"markers\", \"name\": \"Student_15\", \"text\": [\"6\", \"17\", \"1\"], \"x\": [\"Student_15\", \"Student_15\", \"Student_15\", \"Student_15\"], \"y\": [\"Hits\", \"Readings\", \"Posts\"], \"type\": \"scatter\", \"uid\": \"4d180948-e29a-11e8-9490-d5f4ba98b039\"}, {\"marker\": {\"line\": {\"width\": 2}, \"size\": [7, 1, 5], \"sizemode\": \"area\", \"sizeref\": 0.10526315789473684, \"symbol\": \"circle\"}, \"mode\": \"markers\", \"name\": \"Student_16\", \"text\": [\"7\", \"1\", \"5\"], \"x\": [\"Student_16\", \"Student_16\", \"Student_16\", \"Student_16\"], \"y\": [\"Hits\", \"Readings\", \"Posts\"], \"type\": \"scatter\", \"uid\": \"4d1809ca-e29a-11e8-9490-d5f4ba98b039\"}, {\"marker\": {\"line\": {\"width\": 2}, \"size\": [3, 5, 16], \"sizemode\": \"area\", \"sizeref\": 0.10526315789473684, \"symbol\": \"circle\"}, \"mode\": \"markers\", \"name\": \"Student_17\", \"text\": [\"3\", \"5\", \"16\"], \"x\": [\"Student_17\", \"Student_17\", \"Student_17\", \"Student_17\"], \"y\": [\"Hits\", \"Readings\", \"Posts\"], \"type\": \"scatter\", \"uid\": \"4d180a4c-e29a-11e8-9490-d5f4ba98b039\"}, {\"marker\": {\"line\": {\"width\": 2}, \"size\": [7, 19, 0], \"sizemode\": \"area\", \"sizeref\": 0.10526315789473684, \"symbol\": \"circle\"}, \"mode\": \"markers\", \"name\": \"Student_18\", \"text\": [\"7\", \"19\", \"0\"], \"x\": [\"Student_18\", \"Student_18\", \"Student_18\", \"Student_18\"], \"y\": [\"Hits\", \"Readings\", \"Posts\"], \"type\": \"scatter\", \"uid\": \"4d180ace-e29a-11e8-9490-d5f4ba98b039\"}, {\"marker\": {\"line\": {\"width\": 2}, \"size\": [16, 1, 5], \"sizemode\": \"area\", \"sizeref\": 0.10526315789473684, \"symbol\": \"circle\"}, \"mode\": \"markers\", \"name\": \"Student_19\", \"text\": [\"16\", \"1\", \"5\"], \"x\": [\"Student_19\", \"Student_19\", \"Student_19\", \"Student_19\"], \"y\": [\"Hits\", \"Readings\", \"Posts\"], \"type\": \"scatter\", \"uid\": \"4d180b46-e29a-11e8-9490-d5f4ba98b039\"}, {\"marker\": {\"line\": {\"width\": 2}, \"size\": [11, 4, 18], \"sizemode\": \"area\", \"sizeref\": 0.10526315789473684, \"symbol\": \"circle\"}, \"mode\": \"markers\", \"name\": \"Student_20\", \"text\": [\"11\", \"4\", \"18\"], \"x\": [\"Student_20\", \"Student_20\", \"Student_20\", \"Student_20\"], \"y\": [\"Hits\", \"Readings\", \"Posts\"], \"type\": \"scatter\", \"uid\": \"4d180bbe-e29a-11e8-9490-d5f4ba98b039\"}], {\"hovermode\": \"closest\", \"showlegend\": true, \"title\": \"N\\u00famero de acessos a Posts, Leituras e Likes por estudante\", \"xaxis\": {\"autorange\": false, \"fixedrange\": false, \"range\": [-1, 20], \"rangemode\": \"normal\", \"showline\": true, \"title\": \"Estudantes\", \"type\": \"category\"}, \"yaxis\": {\"autorange\": false, \"categoryorder\": \"category ascending\", \"fixedrange\": false, \"range\": [-1, 3], \"rangemode\": \"normal\", \"showline\": true, \"type\": \"category\"}}, {\"showLink\": true, \"linkText\": \"Export to plot.ly\"})});</script>"
      ]
     },
     "metadata": {},
     "output_type": "display_data"
    },
    {
     "data": {
      "application/vnd.plotly.v1+json": {
       "data": [
        {
         "colorscale": [
          [
           0,
           "rgb(255,255,255)"
          ],
          [
           1,
           "rgb(0,0,255)"
          ]
         ],
         "type": "heatmap",
         "uid": "4d1c71e0-e29a-11e8-9490-d5f4ba98b039",
         "x": [
          "Hits",
          "Readings",
          "Posts"
         ],
         "y": [
          "Student_1",
          "Student_2",
          "Student_3",
          "Student_4",
          "Student_5",
          "Student_6",
          "Student_7",
          "Student_8",
          "Student_9",
          "Student_10",
          "Student_11",
          "Student_12",
          "Student_13",
          "Student_14",
          "Student_15",
          "Student_16",
          "Student_17",
          "Student_18",
          "Student_19",
          "Student_20"
         ],
         "z": [
          [
           8,
           5,
           5
          ],
          [
           3,
           8,
           7
          ],
          [
           1,
           6,
           4
          ],
          [
           14,
           4,
           1
          ],
          [
           17,
           0,
           12
          ],
          [
           8,
           1,
           17
          ],
          [
           9,
           10,
           18
          ],
          [
           12,
           15,
           10
          ],
          [
           0,
           5,
           9
          ],
          [
           16,
           19,
           17
          ],
          [
           3,
           4,
           4
          ],
          [
           11,
           15,
           2
          ],
          [
           4,
           5,
           9
          ],
          [
           6,
           19,
           17
          ],
          [
           6,
           17,
           1
          ],
          [
           7,
           1,
           5
          ],
          [
           3,
           5,
           16
          ],
          [
           7,
           19,
           0
          ],
          [
           16,
           1,
           5
          ],
          [
           11,
           4,
           18
          ]
         ]
        }
       ],
       "layout": {
        "title": "Número de acessos a Posts, Leituras e Likes por estudante",
        "yaxis": {
         "dtick": 1,
         "exponentformat": "e",
         "gridcolor": "#bdbdbd",
         "showexponent": "all",
         "showticklabels": true,
         "tick0": 0,
         "titlefont": {
          "color": "lightgrey",
          "family": "Arial, sans-serif"
         }
        }
       }
      },
      "text/html": [
       "<div id=\"eacf9352-49d4-48a3-b952-efcfa419cd5d\" style=\"height: 525px; width: 100%;\" class=\"plotly-graph-div\"></div><script type=\"text/javascript\">require([\"plotly\"], function(Plotly) { window.PLOTLYENV=window.PLOTLYENV || {};window.PLOTLYENV.BASE_URL=\"https://plot.ly\";Plotly.newPlot(\"eacf9352-49d4-48a3-b952-efcfa419cd5d\", [{\"colorscale\": [[0, \"rgb(255,255,255)\"], [1, \"rgb(0,0,255)\"]], \"x\": [\"Hits\", \"Readings\", \"Posts\"], \"y\": [\"Student_1\", \"Student_2\", \"Student_3\", \"Student_4\", \"Student_5\", \"Student_6\", \"Student_7\", \"Student_8\", \"Student_9\", \"Student_10\", \"Student_11\", \"Student_12\", \"Student_13\", \"Student_14\", \"Student_15\", \"Student_16\", \"Student_17\", \"Student_18\", \"Student_19\", \"Student_20\"], \"z\": [[8, 5, 5], [3, 8, 7], [1, 6, 4], [14, 4, 1], [17, 0, 12], [8, 1, 17], [9, 10, 18], [12, 15, 10], [0, 5, 9], [16, 19, 17], [3, 4, 4], [11, 15, 2], [4, 5, 9], [6, 19, 17], [6, 17, 1], [7, 1, 5], [3, 5, 16], [7, 19, 0], [16, 1, 5], [11, 4, 18]], \"type\": \"heatmap\", \"uid\": \"4d1c71e0-e29a-11e8-9490-d5f4ba98b039\"}], {\"title\": \"N\\u00famero de acessos a Posts, Leituras e Likes por estudante\", \"yaxis\": {\"dtick\": 1, \"exponentformat\": \"e\", \"gridcolor\": \"#bdbdbd\", \"showexponent\": \"all\", \"showticklabels\": true, \"tick0\": 0, \"titlefont\": {\"color\": \"lightgrey\", \"family\": \"Arial, sans-serif\"}}}, {\"showLink\": true, \"linkText\": \"Export to plot.ly\"})});</script>"
      ],
      "text/vnd.plotly.v1+html": [
       "<div id=\"eacf9352-49d4-48a3-b952-efcfa419cd5d\" style=\"height: 525px; width: 100%;\" class=\"plotly-graph-div\"></div><script type=\"text/javascript\">require([\"plotly\"], function(Plotly) { window.PLOTLYENV=window.PLOTLYENV || {};window.PLOTLYENV.BASE_URL=\"https://plot.ly\";Plotly.newPlot(\"eacf9352-49d4-48a3-b952-efcfa419cd5d\", [{\"colorscale\": [[0, \"rgb(255,255,255)\"], [1, \"rgb(0,0,255)\"]], \"x\": [\"Hits\", \"Readings\", \"Posts\"], \"y\": [\"Student_1\", \"Student_2\", \"Student_3\", \"Student_4\", \"Student_5\", \"Student_6\", \"Student_7\", \"Student_8\", \"Student_9\", \"Student_10\", \"Student_11\", \"Student_12\", \"Student_13\", \"Student_14\", \"Student_15\", \"Student_16\", \"Student_17\", \"Student_18\", \"Student_19\", \"Student_20\"], \"z\": [[8, 5, 5], [3, 8, 7], [1, 6, 4], [14, 4, 1], [17, 0, 12], [8, 1, 17], [9, 10, 18], [12, 15, 10], [0, 5, 9], [16, 19, 17], [3, 4, 4], [11, 15, 2], [4, 5, 9], [6, 19, 17], [6, 17, 1], [7, 1, 5], [3, 5, 16], [7, 19, 0], [16, 1, 5], [11, 4, 18]], \"type\": \"heatmap\", \"uid\": \"4d1c71e0-e29a-11e8-9490-d5f4ba98b039\"}], {\"title\": \"N\\u00famero de acessos a Posts, Leituras e Likes por estudante\", \"yaxis\": {\"dtick\": 1, \"exponentformat\": \"e\", \"gridcolor\": \"#bdbdbd\", \"showexponent\": \"all\", \"showticklabels\": true, \"tick0\": 0, \"titlefont\": {\"color\": \"lightgrey\", \"family\": \"Arial, sans-serif\"}}}, {\"showLink\": true, \"linkText\": \"Export to plot.ly\"})});</script>"
      ]
     },
     "metadata": {},
     "output_type": "display_data"
    }
   ],
   "source": [
    "run scripts/V003.py"
   ]
  },
  {
   "cell_type": "markdown",
   "metadata": {},
   "source": [
    "### View 004"
   ]
  },
  {
   "cell_type": "code",
   "execution_count": 105,
   "metadata": {
    "scrolled": true
   },
   "outputs": [
    {
     "data": {
      "text/html": [
       "<script>requirejs.config({paths: { 'plotly': ['https://cdn.plot.ly/plotly-latest.min']},});if(!window.Plotly) {{require(['plotly'],function(plotly) {window.Plotly=plotly;});}}</script>"
      ],
      "text/vnd.plotly.v1+html": [
       "<script>requirejs.config({paths: { 'plotly': ['https://cdn.plot.ly/plotly-latest.min']},});if(!window.Plotly) {{require(['plotly'],function(plotly) {window.Plotly=plotly;});}}</script>"
      ]
     },
     "metadata": {},
     "output_type": "display_data"
    },
    {
     "data": {
      "application/vnd.plotly.v1+json": {
       "data": [
        {
         "cells": {
          "align": [
           "left",
           "center"
          ],
          "fill": {
           "color": "#F5F8FF"
          },
          "values": [
           [
            "Student_1",
            "Student_2",
            "Student_3",
            "Student_4",
            "Student_5",
            "Student_6",
            "Student_7",
            "Student_8",
            "Student_9",
            "Student_10",
            "Student_11",
            "Student_12",
            "Student_13",
            "Student_14",
            "Student_15",
            "Student_16",
            "Student_17",
            "Student_18",
            "Student_19",
            "Student_20"
           ],
           [
            [
             219,
             48,
             139
            ],
            [
             185
            ],
            [
             42
            ],
            [
             18
            ],
            [],
            [
             198,
             86,
             113,
             108
            ],
            [],
            [
             11,
             42,
             91
            ],
            [
             167,
             92
            ],
            [
             47,
             200
            ],
            [
             245,
             113
            ],
            [],
            [],
            [
             25,
             140
            ],
            [
             164,
             190
            ],
            [
             28,
             42,
             25
            ],
            [],
            [
             163,
             80,
             48
            ],
            [
             128,
             56
            ],
            [
             52
            ]
           ],
           [
            [
             263,
             229
            ],
            [
             59,
             347
            ],
            [
             236,
             233
            ],
            [
             152
            ],
            [
             273,
             160,
             231,
             128
            ],
            [],
            [],
            [
             35,
             51
            ],
            [
             86,
             67,
             288,
             92
            ],
            [
             137,
             157,
             79,
             292
            ],
            [
             241,
             311
            ],
            [
             96,
             245,
             17,
             305
            ],
            [
             259,
             5,
             65
            ],
            [],
            [
             196,
             170,
             187
            ],
            [
             275,
             257,
             247
            ],
            [
             260
            ],
            [
             244,
             137,
             338
            ],
            [],
            [
             218,
             199,
             290
            ]
           ],
           [
            [
             232,
             171,
             407
            ],
            [
             86,
             284
            ],
            [
             242
            ],
            [
             346,
             459
            ],
            [
             588,
             365
            ],
            [],
            [
             277,
             550,
             71
            ],
            [
             333,
             115,
             223
            ],
            [
             206,
             202
            ],
            [],
            [
             521,
             298,
             543,
             460
            ],
            [
             258,
             283
            ],
            [
             238,
             403
            ],
            [
             372,
             473,
             226
            ],
            [
             38,
             154,
             199
            ],
            [
             342
            ],
            [
             51,
             384,
             333,
             559
            ],
            [
             242,
             583
            ],
            [],
            [
             520
            ]
           ],
           [
            [
             158,
             287,
             248,
             29
            ],
            [],
            [
             8,
             311
            ],
            [],
            [
             196,
             170,
             247,
             135
            ],
            [
             276,
             89,
             240
            ],
            [],
            [
             22,
             90
            ],
            [
             259,
             54
            ],
            [
             33,
             207
            ],
            [],
            [],
            [
             102,
             288
            ],
            [
             102
            ],
            [
             63
            ],
            [
             232,
             164,
             95,
             35
            ],
            [
             311
            ],
            [
             241,
             74,
             128
            ],
            [
             22,
             11
            ],
            []
           ],
           [
            [
             203
            ],
            [
             312
            ],
            [],
            [],
            [],
            [
             310,
             75,
             54
            ],
            [
             163,
             263
            ],
            [
             151,
             153
            ],
            [
             22,
             172
            ],
            [
             333,
             42
            ],
            [],
            [
             368
            ],
            [
             43,
             257
            ],
            [
             108,
             271,
             97,
             49
            ],
            [
             362,
             176,
             298
            ],
            [
             282,
             285
            ],
            [
             356,
             337,
             68
            ],
            [
             77
            ],
            [
             52
            ],
            [
             148
            ]
           ],
           [
            2633,
            1273,
            1072,
            975,
            2493,
            1549,
            1324,
            1317,
            1707,
            1527,
            2732,
            1572,
            1660,
            1863,
            2197,
            2309,
            2659,
            2355,
            269,
            1427
           ]
          ]
         },
         "header": {
          "align": "center",
          "fill": {
           "color": "#C2D4FF"
          },
          "values": [
           "Students",
           "Video1 (457s)",
           "Video2 (255s)",
           "Video3 (349s)",
           "Video4 (596s)",
           "Video5 (312s)",
           "Total"
          ]
         },
         "type": "table",
         "uid": "9a140dd0-e364-11e8-9d8c-a1b30045967f"
        }
       ],
       "layout": {}
      },
      "text/html": [
       "<div id=\"01e60890-886b-4ebd-81d3-7f5e7812f1b5\" style=\"height: 525px; width: 100%;\" class=\"plotly-graph-div\"></div><script type=\"text/javascript\">require([\"plotly\"], function(Plotly) { window.PLOTLYENV=window.PLOTLYENV || {};window.PLOTLYENV.BASE_URL=\"https://plot.ly\";Plotly.newPlot(\"01e60890-886b-4ebd-81d3-7f5e7812f1b5\", [{\"cells\": {\"align\": [\"left\", \"center\"], \"fill\": {\"color\": \"#F5F8FF\"}, \"values\": [[\"Student_1\", \"Student_2\", \"Student_3\", \"Student_4\", \"Student_5\", \"Student_6\", \"Student_7\", \"Student_8\", \"Student_9\", \"Student_10\", \"Student_11\", \"Student_12\", \"Student_13\", \"Student_14\", \"Student_15\", \"Student_16\", \"Student_17\", \"Student_18\", \"Student_19\", \"Student_20\"], [[219, 48, 139], [185], [42], [18], [], [198, 86, 113, 108], [], [11, 42, 91], [167, 92], [47, 200], [245, 113], [], [], [25, 140], [164, 190], [28, 42, 25], [], [163, 80, 48], [128, 56], [52]], [[263, 229], [59, 347], [236, 233], [152], [273, 160, 231, 128], [], [], [35, 51], [86, 67, 288, 92], [137, 157, 79, 292], [241, 311], [96, 245, 17, 305], [259, 5, 65], [], [196, 170, 187], [275, 257, 247], [260], [244, 137, 338], [], [218, 199, 290]], [[232, 171, 407], [86, 284], [242], [346, 459], [588, 365], [], [277, 550, 71], [333, 115, 223], [206, 202], [], [521, 298, 543, 460], [258, 283], [238, 403], [372, 473, 226], [38, 154, 199], [342], [51, 384, 333, 559], [242, 583], [], [520]], [[158, 287, 248, 29], [], [8, 311], [], [196, 170, 247, 135], [276, 89, 240], [], [22, 90], [259, 54], [33, 207], [], [], [102, 288], [102], [63], [232, 164, 95, 35], [311], [241, 74, 128], [22, 11], []], [[203], [312], [], [], [], [310, 75, 54], [163, 263], [151, 153], [22, 172], [333, 42], [], [368], [43, 257], [108, 271, 97, 49], [362, 176, 298], [282, 285], [356, 337, 68], [77], [52], [148]], [2633, 1273, 1072, 975, 2493, 1549, 1324, 1317, 1707, 1527, 2732, 1572, 1660, 1863, 2197, 2309, 2659, 2355, 269, 1427]]}, \"header\": {\"align\": \"center\", \"fill\": {\"color\": \"#C2D4FF\"}, \"values\": [\"Students\", \"Video1 (457s)\", \"Video2 (255s)\", \"Video3 (349s)\", \"Video4 (596s)\", \"Video5 (312s)\", \"Total\"]}, \"type\": \"table\", \"uid\": \"9a1635d8-e364-11e8-9d8c-a1b30045967f\"}], {}, {\"showLink\": true, \"linkText\": \"Export to plot.ly\"})});</script>"
      ],
      "text/vnd.plotly.v1+html": [
       "<div id=\"01e60890-886b-4ebd-81d3-7f5e7812f1b5\" style=\"height: 525px; width: 100%;\" class=\"plotly-graph-div\"></div><script type=\"text/javascript\">require([\"plotly\"], function(Plotly) { window.PLOTLYENV=window.PLOTLYENV || {};window.PLOTLYENV.BASE_URL=\"https://plot.ly\";Plotly.newPlot(\"01e60890-886b-4ebd-81d3-7f5e7812f1b5\", [{\"cells\": {\"align\": [\"left\", \"center\"], \"fill\": {\"color\": \"#F5F8FF\"}, \"values\": [[\"Student_1\", \"Student_2\", \"Student_3\", \"Student_4\", \"Student_5\", \"Student_6\", \"Student_7\", \"Student_8\", \"Student_9\", \"Student_10\", \"Student_11\", \"Student_12\", \"Student_13\", \"Student_14\", \"Student_15\", \"Student_16\", \"Student_17\", \"Student_18\", \"Student_19\", \"Student_20\"], [[219, 48, 139], [185], [42], [18], [], [198, 86, 113, 108], [], [11, 42, 91], [167, 92], [47, 200], [245, 113], [], [], [25, 140], [164, 190], [28, 42, 25], [], [163, 80, 48], [128, 56], [52]], [[263, 229], [59, 347], [236, 233], [152], [273, 160, 231, 128], [], [], [35, 51], [86, 67, 288, 92], [137, 157, 79, 292], [241, 311], [96, 245, 17, 305], [259, 5, 65], [], [196, 170, 187], [275, 257, 247], [260], [244, 137, 338], [], [218, 199, 290]], [[232, 171, 407], [86, 284], [242], [346, 459], [588, 365], [], [277, 550, 71], [333, 115, 223], [206, 202], [], [521, 298, 543, 460], [258, 283], [238, 403], [372, 473, 226], [38, 154, 199], [342], [51, 384, 333, 559], [242, 583], [], [520]], [[158, 287, 248, 29], [], [8, 311], [], [196, 170, 247, 135], [276, 89, 240], [], [22, 90], [259, 54], [33, 207], [], [], [102, 288], [102], [63], [232, 164, 95, 35], [311], [241, 74, 128], [22, 11], []], [[203], [312], [], [], [], [310, 75, 54], [163, 263], [151, 153], [22, 172], [333, 42], [], [368], [43, 257], [108, 271, 97, 49], [362, 176, 298], [282, 285], [356, 337, 68], [77], [52], [148]], [2633, 1273, 1072, 975, 2493, 1549, 1324, 1317, 1707, 1527, 2732, 1572, 1660, 1863, 2197, 2309, 2659, 2355, 269, 1427]]}, \"header\": {\"align\": \"center\", \"fill\": {\"color\": \"#C2D4FF\"}, \"values\": [\"Students\", \"Video1 (457s)\", \"Video2 (255s)\", \"Video3 (349s)\", \"Video4 (596s)\", \"Video5 (312s)\", \"Total\"]}, \"type\": \"table\", \"uid\": \"9a1635d8-e364-11e8-9d8c-a1b30045967f\"}], {}, {\"showLink\": true, \"linkText\": \"Export to plot.ly\"})});</script>"
      ]
     },
     "metadata": {},
     "output_type": "display_data"
    },
    {
     "data": {
      "application/vnd.plotly.v1+json": {
       "data": [
        {
         "marker": {
          "line": {
           "width": 2
          },
          "size": [
           406,
           492,
           810,
           722,
           203,
           2633
          ],
          "sizemode": "area",
          "sizeref": 4.5,
          "symbol": "circle"
         },
         "mode": "markers",
         "name": "Student_1",
         "text": [
          "406",
          "492",
          "810",
          "722",
          "203",
          "2633"
         ],
         "type": "scatter",
         "uid": "9a3866d0-e364-11e8-9d8c-a1b30045967f",
         "x": [
          "Student_1",
          "Student_1",
          "Student_1",
          "Student_1",
          "Student_1",
          "Student_1"
         ],
         "y": [
          "Video1",
          "Video2",
          "Video3",
          "Video4",
          "Video5",
          "Total"
         ]
        },
        {
         "marker": {
          "line": {
           "width": 2
          },
          "size": [
           185,
           406,
           370,
           0,
           312,
           1273
          ],
          "sizemode": "area",
          "sizeref": 4.5,
          "symbol": "circle"
         },
         "mode": "markers",
         "name": "Student_2",
         "text": [
          "185",
          "406",
          "370",
          "0",
          "312",
          "1273"
         ],
         "type": "scatter",
         "uid": "9a38687e-e364-11e8-9d8c-a1b30045967f",
         "x": [
          "Student_2",
          "Student_2",
          "Student_2",
          "Student_2",
          "Student_2",
          "Student_2"
         ],
         "y": [
          "Video1",
          "Video2",
          "Video3",
          "Video4",
          "Video5",
          "Total"
         ]
        },
        {
         "marker": {
          "line": {
           "width": 2
          },
          "size": [
           42,
           469,
           242,
           319,
           0,
           1072
          ],
          "sizemode": "area",
          "sizeref": 4.5,
          "symbol": "circle"
         },
         "mode": "markers",
         "name": "Student_3",
         "text": [
          "42",
          "469",
          "242",
          "319",
          "0",
          "1072"
         ],
         "type": "scatter",
         "uid": "9a386946-e364-11e8-9d8c-a1b30045967f",
         "x": [
          "Student_3",
          "Student_3",
          "Student_3",
          "Student_3",
          "Student_3",
          "Student_3"
         ],
         "y": [
          "Video1",
          "Video2",
          "Video3",
          "Video4",
          "Video5",
          "Total"
         ]
        },
        {
         "marker": {
          "line": {
           "width": 2
          },
          "size": [
           18,
           152,
           805,
           0,
           0,
           975
          ],
          "sizemode": "area",
          "sizeref": 4.5,
          "symbol": "circle"
         },
         "mode": "markers",
         "name": "Student_4",
         "text": [
          "18",
          "152",
          "805",
          "0",
          "0",
          "975"
         ],
         "type": "scatter",
         "uid": "9a3869e6-e364-11e8-9d8c-a1b30045967f",
         "x": [
          "Student_4",
          "Student_4",
          "Student_4",
          "Student_4",
          "Student_4",
          "Student_4"
         ],
         "y": [
          "Video1",
          "Video2",
          "Video3",
          "Video4",
          "Video5",
          "Total"
         ]
        },
        {
         "marker": {
          "line": {
           "width": 2
          },
          "size": [
           0,
           792,
           953,
           748,
           0,
           2493
          ],
          "sizemode": "area",
          "sizeref": 4.5,
          "symbol": "circle"
         },
         "mode": "markers",
         "name": "Student_5",
         "text": [
          "0",
          "792",
          "953",
          "748",
          "0",
          "2493"
         ],
         "type": "scatter",
         "uid": "9a386a7c-e364-11e8-9d8c-a1b30045967f",
         "x": [
          "Student_5",
          "Student_5",
          "Student_5",
          "Student_5",
          "Student_5",
          "Student_5"
         ],
         "y": [
          "Video1",
          "Video2",
          "Video3",
          "Video4",
          "Video5",
          "Total"
         ]
        },
        {
         "marker": {
          "line": {
           "width": 2
          },
          "size": [
           505,
           0,
           0,
           605,
           439,
           1549
          ],
          "sizemode": "area",
          "sizeref": 4.5,
          "symbol": "circle"
         },
         "mode": "markers",
         "name": "Student_6",
         "text": [
          "505",
          "0",
          "0",
          "605",
          "439",
          "1549"
         ],
         "type": "scatter",
         "uid": "9a386b08-e364-11e8-9d8c-a1b30045967f",
         "x": [
          "Student_6",
          "Student_6",
          "Student_6",
          "Student_6",
          "Student_6",
          "Student_6"
         ],
         "y": [
          "Video1",
          "Video2",
          "Video3",
          "Video4",
          "Video5",
          "Total"
         ]
        },
        {
         "marker": {
          "line": {
           "width": 2
          },
          "size": [
           0,
           0,
           898,
           0,
           426,
           1324
          ],
          "sizemode": "area",
          "sizeref": 4.5,
          "symbol": "circle"
         },
         "mode": "markers",
         "name": "Student_7",
         "text": [
          "0",
          "0",
          "898",
          "0",
          "426",
          "1324"
         ],
         "type": "scatter",
         "uid": "9a386b9e-e364-11e8-9d8c-a1b30045967f",
         "x": [
          "Student_7",
          "Student_7",
          "Student_7",
          "Student_7",
          "Student_7",
          "Student_7"
         ],
         "y": [
          "Video1",
          "Video2",
          "Video3",
          "Video4",
          "Video5",
          "Total"
         ]
        },
        {
         "marker": {
          "line": {
           "width": 2
          },
          "size": [
           144,
           86,
           671,
           112,
           304,
           1317
          ],
          "sizemode": "area",
          "sizeref": 4.5,
          "symbol": "circle"
         },
         "mode": "markers",
         "name": "Student_8",
         "text": [
          "144",
          "86",
          "671",
          "112",
          "304",
          "1317"
         ],
         "type": "scatter",
         "uid": "9a386c2a-e364-11e8-9d8c-a1b30045967f",
         "x": [
          "Student_8",
          "Student_8",
          "Student_8",
          "Student_8",
          "Student_8",
          "Student_8"
         ],
         "y": [
          "Video1",
          "Video2",
          "Video3",
          "Video4",
          "Video5",
          "Total"
         ]
        },
        {
         "marker": {
          "line": {
           "width": 2
          },
          "size": [
           259,
           533,
           408,
           313,
           194,
           1707
          ],
          "sizemode": "area",
          "sizeref": 4.5,
          "symbol": "circle"
         },
         "mode": "markers",
         "name": "Student_9",
         "text": [
          "259",
          "533",
          "408",
          "313",
          "194",
          "1707"
         ],
         "type": "scatter",
         "uid": "9a386cb6-e364-11e8-9d8c-a1b30045967f",
         "x": [
          "Student_9",
          "Student_9",
          "Student_9",
          "Student_9",
          "Student_9",
          "Student_9"
         ],
         "y": [
          "Video1",
          "Video2",
          "Video3",
          "Video4",
          "Video5",
          "Total"
         ]
        },
        {
         "marker": {
          "line": {
           "width": 2
          },
          "size": [
           247,
           665,
           0,
           240,
           375,
           1527
          ],
          "sizemode": "area",
          "sizeref": 4.5,
          "symbol": "circle"
         },
         "mode": "markers",
         "name": "Student_10",
         "text": [
          "247",
          "665",
          "0",
          "240",
          "375",
          "1527"
         ],
         "type": "scatter",
         "uid": "9a386d38-e364-11e8-9d8c-a1b30045967f",
         "x": [
          "Student_10",
          "Student_10",
          "Student_10",
          "Student_10",
          "Student_10",
          "Student_10"
         ],
         "y": [
          "Video1",
          "Video2",
          "Video3",
          "Video4",
          "Video5",
          "Total"
         ]
        },
        {
         "marker": {
          "line": {
           "width": 2
          },
          "size": [
           358,
           552,
           1822,
           0,
           0,
           2732
          ],
          "sizemode": "area",
          "sizeref": 4.5,
          "symbol": "circle"
         },
         "mode": "markers",
         "name": "Student_11",
         "text": [
          "358",
          "552",
          "1822",
          "0",
          "0",
          "2732"
         ],
         "type": "scatter",
         "uid": "9a386dba-e364-11e8-9d8c-a1b30045967f",
         "x": [
          "Student_11",
          "Student_11",
          "Student_11",
          "Student_11",
          "Student_11",
          "Student_11"
         ],
         "y": [
          "Video1",
          "Video2",
          "Video3",
          "Video4",
          "Video5",
          "Total"
         ]
        },
        {
         "marker": {
          "line": {
           "width": 2
          },
          "size": [
           0,
           663,
           541,
           0,
           368,
           1572
          ],
          "sizemode": "area",
          "sizeref": 4.5,
          "symbol": "circle"
         },
         "mode": "markers",
         "name": "Student_12",
         "text": [
          "0",
          "663",
          "541",
          "0",
          "368",
          "1572"
         ],
         "type": "scatter",
         "uid": "9a386e46-e364-11e8-9d8c-a1b30045967f",
         "x": [
          "Student_12",
          "Student_12",
          "Student_12",
          "Student_12",
          "Student_12",
          "Student_12"
         ],
         "y": [
          "Video1",
          "Video2",
          "Video3",
          "Video4",
          "Video5",
          "Total"
         ]
        },
        {
         "marker": {
          "line": {
           "width": 2
          },
          "size": [
           0,
           329,
           641,
           390,
           300,
           1660
          ],
          "sizemode": "area",
          "sizeref": 4.5,
          "symbol": "circle"
         },
         "mode": "markers",
         "name": "Student_13",
         "text": [
          "0",
          "329",
          "641",
          "390",
          "300",
          "1660"
         ],
         "type": "scatter",
         "uid": "9a386ec8-e364-11e8-9d8c-a1b30045967f",
         "x": [
          "Student_13",
          "Student_13",
          "Student_13",
          "Student_13",
          "Student_13",
          "Student_13"
         ],
         "y": [
          "Video1",
          "Video2",
          "Video3",
          "Video4",
          "Video5",
          "Total"
         ]
        },
        {
         "marker": {
          "line": {
           "width": 2
          },
          "size": [
           165,
           0,
           1071,
           102,
           525,
           1863
          ],
          "sizemode": "area",
          "sizeref": 4.5,
          "symbol": "circle"
         },
         "mode": "markers",
         "name": "Student_14",
         "text": [
          "165",
          "0",
          "1071",
          "102",
          "525",
          "1863"
         ],
         "type": "scatter",
         "uid": "9a386f54-e364-11e8-9d8c-a1b30045967f",
         "x": [
          "Student_14",
          "Student_14",
          "Student_14",
          "Student_14",
          "Student_14",
          "Student_14"
         ],
         "y": [
          "Video1",
          "Video2",
          "Video3",
          "Video4",
          "Video5",
          "Total"
         ]
        },
        {
         "marker": {
          "line": {
           "width": 2
          },
          "size": [
           354,
           553,
           391,
           63,
           836,
           2197
          ],
          "sizemode": "area",
          "sizeref": 4.5,
          "symbol": "circle"
         },
         "mode": "markers",
         "name": "Student_15",
         "text": [
          "354",
          "553",
          "391",
          "63",
          "836",
          "2197"
         ],
         "type": "scatter",
         "uid": "9a386fe0-e364-11e8-9d8c-a1b30045967f",
         "x": [
          "Student_15",
          "Student_15",
          "Student_15",
          "Student_15",
          "Student_15",
          "Student_15"
         ],
         "y": [
          "Video1",
          "Video2",
          "Video3",
          "Video4",
          "Video5",
          "Total"
         ]
        },
        {
         "marker": {
          "line": {
           "width": 2
          },
          "size": [
           95,
           779,
           342,
           526,
           567,
           2309
          ],
          "sizemode": "area",
          "sizeref": 4.5,
          "symbol": "circle"
         },
         "mode": "markers",
         "name": "Student_16",
         "text": [
          "95",
          "779",
          "342",
          "526",
          "567",
          "2309"
         ],
         "type": "scatter",
         "uid": "9a387062-e364-11e8-9d8c-a1b30045967f",
         "x": [
          "Student_16",
          "Student_16",
          "Student_16",
          "Student_16",
          "Student_16",
          "Student_16"
         ],
         "y": [
          "Video1",
          "Video2",
          "Video3",
          "Video4",
          "Video5",
          "Total"
         ]
        },
        {
         "marker": {
          "line": {
           "width": 2
          },
          "size": [
           0,
           260,
           1327,
           311,
           761,
           2659
          ],
          "sizemode": "area",
          "sizeref": 4.5,
          "symbol": "circle"
         },
         "mode": "markers",
         "name": "Student_17",
         "text": [
          "0",
          "260",
          "1327",
          "311",
          "761",
          "2659"
         ],
         "type": "scatter",
         "uid": "9a3870da-e364-11e8-9d8c-a1b30045967f",
         "x": [
          "Student_17",
          "Student_17",
          "Student_17",
          "Student_17",
          "Student_17",
          "Student_17"
         ],
         "y": [
          "Video1",
          "Video2",
          "Video3",
          "Video4",
          "Video5",
          "Total"
         ]
        },
        {
         "marker": {
          "line": {
           "width": 2
          },
          "size": [
           291,
           719,
           825,
           443,
           77,
           2355
          ],
          "sizemode": "area",
          "sizeref": 4.5,
          "symbol": "circle"
         },
         "mode": "markers",
         "name": "Student_18",
         "text": [
          "291",
          "719",
          "825",
          "443",
          "77",
          "2355"
         ],
         "type": "scatter",
         "uid": "9a387152-e364-11e8-9d8c-a1b30045967f",
         "x": [
          "Student_18",
          "Student_18",
          "Student_18",
          "Student_18",
          "Student_18",
          "Student_18"
         ],
         "y": [
          "Video1",
          "Video2",
          "Video3",
          "Video4",
          "Video5",
          "Total"
         ]
        },
        {
         "marker": {
          "line": {
           "width": 2
          },
          "size": [
           184,
           0,
           0,
           33,
           52,
           269
          ],
          "sizemode": "area",
          "sizeref": 4.5,
          "symbol": "circle"
         },
         "mode": "markers",
         "name": "Student_19",
         "text": [
          "184",
          "0",
          "0",
          "33",
          "52",
          "269"
         ],
         "type": "scatter",
         "uid": "9a3871d4-e364-11e8-9d8c-a1b30045967f",
         "x": [
          "Student_19",
          "Student_19",
          "Student_19",
          "Student_19",
          "Student_19",
          "Student_19"
         ],
         "y": [
          "Video1",
          "Video2",
          "Video3",
          "Video4",
          "Video5",
          "Total"
         ]
        },
        {
         "marker": {
          "line": {
           "width": 2
          },
          "size": [
           52,
           707,
           520,
           0,
           148,
           1427
          ],
          "sizemode": "area",
          "sizeref": 4.5,
          "symbol": "circle"
         },
         "mode": "markers",
         "name": "Student_20",
         "text": [
          "52",
          "707",
          "520",
          "0",
          "148",
          "1427"
         ],
         "type": "scatter",
         "uid": "9a38724c-e364-11e8-9d8c-a1b30045967f",
         "x": [
          "Student_20",
          "Student_20",
          "Student_20",
          "Student_20",
          "Student_20",
          "Student_20"
         ],
         "y": [
          "Video1",
          "Video2",
          "Video3",
          "Video4",
          "Video5",
          "Total"
         ]
        }
       ],
       "layout": {
        "hovermode": "closest",
        "showlegend": true,
        "title": "Tempo de acesso aos vídeos por estudante",
        "xaxis": {
         "autorange": false,
         "fixedrange": false,
         "range": [
          -1,
          20
         ],
         "rangemode": "normal",
         "showline": true,
         "title": "Estudantes",
         "type": "category"
        },
        "yaxis": {
         "autorange": false,
         "fixedrange": false,
         "range": [
          -1,
          6
         ],
         "rangemode": "normal",
         "showline": true,
         "title": "Videos",
         "type": "category"
        }
       }
      },
      "text/html": [
       "<div id=\"6121c857-7b7d-44f1-bd5c-d6605c1715e9\" style=\"height: 525px; width: 100%;\" class=\"plotly-graph-div\"></div><script type=\"text/javascript\">require([\"plotly\"], function(Plotly) { window.PLOTLYENV=window.PLOTLYENV || {};window.PLOTLYENV.BASE_URL=\"https://plot.ly\";Plotly.newPlot(\"6121c857-7b7d-44f1-bd5c-d6605c1715e9\", [{\"marker\": {\"line\": {\"width\": 2}, \"size\": [406, 492, 810, 722, 203, 2633], \"sizemode\": \"area\", \"sizeref\": 4.5, \"symbol\": \"circle\"}, \"mode\": \"markers\", \"name\": \"Student_1\", \"text\": [\"406\", \"492\", \"810\", \"722\", \"203\", \"2633\"], \"x\": [\"Student_1\", \"Student_1\", \"Student_1\", \"Student_1\", \"Student_1\", \"Student_1\"], \"y\": [\"Video1\", \"Video2\", \"Video3\", \"Video4\", \"Video5\", \"Total\"], \"type\": \"scatter\", \"uid\": \"9a3866d0-e364-11e8-9d8c-a1b30045967f\"}, {\"marker\": {\"line\": {\"width\": 2}, \"size\": [185, 406, 370, 0, 312, 1273], \"sizemode\": \"area\", \"sizeref\": 4.5, \"symbol\": \"circle\"}, \"mode\": \"markers\", \"name\": \"Student_2\", \"text\": [\"185\", \"406\", \"370\", \"0\", \"312\", \"1273\"], \"x\": [\"Student_2\", \"Student_2\", \"Student_2\", \"Student_2\", \"Student_2\", \"Student_2\"], \"y\": [\"Video1\", \"Video2\", \"Video3\", \"Video4\", \"Video5\", \"Total\"], \"type\": \"scatter\", \"uid\": \"9a38687e-e364-11e8-9d8c-a1b30045967f\"}, {\"marker\": {\"line\": {\"width\": 2}, \"size\": [42, 469, 242, 319, 0, 1072], \"sizemode\": \"area\", \"sizeref\": 4.5, \"symbol\": \"circle\"}, \"mode\": \"markers\", \"name\": \"Student_3\", \"text\": [\"42\", \"469\", \"242\", \"319\", \"0\", \"1072\"], \"x\": [\"Student_3\", \"Student_3\", \"Student_3\", \"Student_3\", \"Student_3\", \"Student_3\"], \"y\": [\"Video1\", \"Video2\", \"Video3\", \"Video4\", \"Video5\", \"Total\"], \"type\": \"scatter\", \"uid\": \"9a386946-e364-11e8-9d8c-a1b30045967f\"}, {\"marker\": {\"line\": {\"width\": 2}, \"size\": [18, 152, 805, 0, 0, 975], \"sizemode\": \"area\", \"sizeref\": 4.5, \"symbol\": \"circle\"}, \"mode\": \"markers\", \"name\": \"Student_4\", \"text\": [\"18\", \"152\", \"805\", \"0\", \"0\", \"975\"], \"x\": [\"Student_4\", \"Student_4\", \"Student_4\", \"Student_4\", \"Student_4\", \"Student_4\"], \"y\": [\"Video1\", \"Video2\", \"Video3\", \"Video4\", \"Video5\", \"Total\"], \"type\": \"scatter\", \"uid\": \"9a3869e6-e364-11e8-9d8c-a1b30045967f\"}, {\"marker\": {\"line\": {\"width\": 2}, \"size\": [0, 792, 953, 748, 0, 2493], \"sizemode\": \"area\", \"sizeref\": 4.5, \"symbol\": \"circle\"}, \"mode\": \"markers\", \"name\": \"Student_5\", \"text\": [\"0\", \"792\", \"953\", \"748\", \"0\", \"2493\"], \"x\": [\"Student_5\", \"Student_5\", \"Student_5\", \"Student_5\", \"Student_5\", \"Student_5\"], \"y\": [\"Video1\", \"Video2\", \"Video3\", \"Video4\", \"Video5\", \"Total\"], \"type\": \"scatter\", \"uid\": \"9a386a7c-e364-11e8-9d8c-a1b30045967f\"}, {\"marker\": {\"line\": {\"width\": 2}, \"size\": [505, 0, 0, 605, 439, 1549], \"sizemode\": \"area\", \"sizeref\": 4.5, \"symbol\": \"circle\"}, \"mode\": \"markers\", \"name\": \"Student_6\", \"text\": [\"505\", \"0\", \"0\", \"605\", \"439\", \"1549\"], \"x\": [\"Student_6\", \"Student_6\", \"Student_6\", \"Student_6\", \"Student_6\", \"Student_6\"], \"y\": [\"Video1\", \"Video2\", \"Video3\", \"Video4\", \"Video5\", \"Total\"], \"type\": \"scatter\", \"uid\": \"9a386b08-e364-11e8-9d8c-a1b30045967f\"}, {\"marker\": {\"line\": {\"width\": 2}, \"size\": [0, 0, 898, 0, 426, 1324], \"sizemode\": \"area\", \"sizeref\": 4.5, \"symbol\": \"circle\"}, \"mode\": \"markers\", \"name\": \"Student_7\", \"text\": [\"0\", \"0\", \"898\", \"0\", \"426\", \"1324\"], \"x\": [\"Student_7\", \"Student_7\", \"Student_7\", \"Student_7\", \"Student_7\", \"Student_7\"], \"y\": [\"Video1\", \"Video2\", \"Video3\", \"Video4\", \"Video5\", \"Total\"], \"type\": \"scatter\", \"uid\": \"9a386b9e-e364-11e8-9d8c-a1b30045967f\"}, {\"marker\": {\"line\": {\"width\": 2}, \"size\": [144, 86, 671, 112, 304, 1317], \"sizemode\": \"area\", \"sizeref\": 4.5, \"symbol\": \"circle\"}, \"mode\": \"markers\", \"name\": \"Student_8\", \"text\": [\"144\", \"86\", \"671\", \"112\", \"304\", \"1317\"], \"x\": [\"Student_8\", \"Student_8\", \"Student_8\", \"Student_8\", \"Student_8\", \"Student_8\"], \"y\": [\"Video1\", \"Video2\", \"Video3\", \"Video4\", \"Video5\", \"Total\"], \"type\": \"scatter\", \"uid\": \"9a386c2a-e364-11e8-9d8c-a1b30045967f\"}, {\"marker\": {\"line\": {\"width\": 2}, \"size\": [259, 533, 408, 313, 194, 1707], \"sizemode\": \"area\", \"sizeref\": 4.5, \"symbol\": \"circle\"}, \"mode\": \"markers\", \"name\": \"Student_9\", \"text\": [\"259\", \"533\", \"408\", \"313\", \"194\", \"1707\"], \"x\": [\"Student_9\", \"Student_9\", \"Student_9\", \"Student_9\", \"Student_9\", \"Student_9\"], \"y\": [\"Video1\", \"Video2\", \"Video3\", \"Video4\", \"Video5\", \"Total\"], \"type\": \"scatter\", \"uid\": \"9a386cb6-e364-11e8-9d8c-a1b30045967f\"}, {\"marker\": {\"line\": {\"width\": 2}, \"size\": [247, 665, 0, 240, 375, 1527], \"sizemode\": \"area\", \"sizeref\": 4.5, \"symbol\": \"circle\"}, \"mode\": \"markers\", \"name\": \"Student_10\", \"text\": [\"247\", \"665\", \"0\", \"240\", \"375\", \"1527\"], \"x\": [\"Student_10\", \"Student_10\", \"Student_10\", \"Student_10\", \"Student_10\", \"Student_10\"], \"y\": [\"Video1\", \"Video2\", \"Video3\", \"Video4\", \"Video5\", \"Total\"], \"type\": \"scatter\", \"uid\": \"9a386d38-e364-11e8-9d8c-a1b30045967f\"}, {\"marker\": {\"line\": {\"width\": 2}, \"size\": [358, 552, 1822, 0, 0, 2732], \"sizemode\": \"area\", \"sizeref\": 4.5, \"symbol\": \"circle\"}, \"mode\": \"markers\", \"name\": \"Student_11\", \"text\": [\"358\", \"552\", \"1822\", \"0\", \"0\", \"2732\"], \"x\": [\"Student_11\", \"Student_11\", \"Student_11\", \"Student_11\", \"Student_11\", \"Student_11\"], \"y\": [\"Video1\", \"Video2\", \"Video3\", \"Video4\", \"Video5\", \"Total\"], \"type\": \"scatter\", \"uid\": \"9a386dba-e364-11e8-9d8c-a1b30045967f\"}, {\"marker\": {\"line\": {\"width\": 2}, \"size\": [0, 663, 541, 0, 368, 1572], \"sizemode\": \"area\", \"sizeref\": 4.5, \"symbol\": \"circle\"}, \"mode\": \"markers\", \"name\": \"Student_12\", \"text\": [\"0\", \"663\", \"541\", \"0\", \"368\", \"1572\"], \"x\": [\"Student_12\", \"Student_12\", \"Student_12\", \"Student_12\", \"Student_12\", \"Student_12\"], \"y\": [\"Video1\", \"Video2\", \"Video3\", \"Video4\", \"Video5\", \"Total\"], \"type\": \"scatter\", \"uid\": \"9a386e46-e364-11e8-9d8c-a1b30045967f\"}, {\"marker\": {\"line\": {\"width\": 2}, \"size\": [0, 329, 641, 390, 300, 1660], \"sizemode\": \"area\", \"sizeref\": 4.5, \"symbol\": \"circle\"}, \"mode\": \"markers\", \"name\": \"Student_13\", \"text\": [\"0\", \"329\", \"641\", \"390\", \"300\", \"1660\"], \"x\": [\"Student_13\", \"Student_13\", \"Student_13\", \"Student_13\", \"Student_13\", \"Student_13\"], \"y\": [\"Video1\", \"Video2\", \"Video3\", \"Video4\", \"Video5\", \"Total\"], \"type\": \"scatter\", \"uid\": \"9a386ec8-e364-11e8-9d8c-a1b30045967f\"}, {\"marker\": {\"line\": {\"width\": 2}, \"size\": [165, 0, 1071, 102, 525, 1863], \"sizemode\": \"area\", \"sizeref\": 4.5, \"symbol\": \"circle\"}, \"mode\": \"markers\", \"name\": \"Student_14\", \"text\": [\"165\", \"0\", \"1071\", \"102\", \"525\", \"1863\"], \"x\": [\"Student_14\", \"Student_14\", \"Student_14\", \"Student_14\", \"Student_14\", \"Student_14\"], \"y\": [\"Video1\", \"Video2\", \"Video3\", \"Video4\", \"Video5\", \"Total\"], \"type\": \"scatter\", \"uid\": \"9a386f54-e364-11e8-9d8c-a1b30045967f\"}, {\"marker\": {\"line\": {\"width\": 2}, \"size\": [354, 553, 391, 63, 836, 2197], \"sizemode\": \"area\", \"sizeref\": 4.5, \"symbol\": \"circle\"}, \"mode\": \"markers\", \"name\": \"Student_15\", \"text\": [\"354\", \"553\", \"391\", \"63\", \"836\", \"2197\"], \"x\": [\"Student_15\", \"Student_15\", \"Student_15\", \"Student_15\", \"Student_15\", \"Student_15\"], \"y\": [\"Video1\", \"Video2\", \"Video3\", \"Video4\", \"Video5\", \"Total\"], \"type\": \"scatter\", \"uid\": \"9a386fe0-e364-11e8-9d8c-a1b30045967f\"}, {\"marker\": {\"line\": {\"width\": 2}, \"size\": [95, 779, 342, 526, 567, 2309], \"sizemode\": \"area\", \"sizeref\": 4.5, \"symbol\": \"circle\"}, \"mode\": \"markers\", \"name\": \"Student_16\", \"text\": [\"95\", \"779\", \"342\", \"526\", \"567\", \"2309\"], \"x\": [\"Student_16\", \"Student_16\", \"Student_16\", \"Student_16\", \"Student_16\", \"Student_16\"], \"y\": [\"Video1\", \"Video2\", \"Video3\", \"Video4\", \"Video5\", \"Total\"], \"type\": \"scatter\", \"uid\": \"9a387062-e364-11e8-9d8c-a1b30045967f\"}, {\"marker\": {\"line\": {\"width\": 2}, \"size\": [0, 260, 1327, 311, 761, 2659], \"sizemode\": \"area\", \"sizeref\": 4.5, \"symbol\": \"circle\"}, \"mode\": \"markers\", \"name\": \"Student_17\", \"text\": [\"0\", \"260\", \"1327\", \"311\", \"761\", \"2659\"], \"x\": [\"Student_17\", \"Student_17\", \"Student_17\", \"Student_17\", \"Student_17\", \"Student_17\"], \"y\": [\"Video1\", \"Video2\", \"Video3\", \"Video4\", \"Video5\", \"Total\"], \"type\": \"scatter\", \"uid\": \"9a3870da-e364-11e8-9d8c-a1b30045967f\"}, {\"marker\": {\"line\": {\"width\": 2}, \"size\": [291, 719, 825, 443, 77, 2355], \"sizemode\": \"area\", \"sizeref\": 4.5, \"symbol\": \"circle\"}, \"mode\": \"markers\", \"name\": \"Student_18\", \"text\": [\"291\", \"719\", \"825\", \"443\", \"77\", \"2355\"], \"x\": [\"Student_18\", \"Student_18\", \"Student_18\", \"Student_18\", \"Student_18\", \"Student_18\"], \"y\": [\"Video1\", \"Video2\", \"Video3\", \"Video4\", \"Video5\", \"Total\"], \"type\": \"scatter\", \"uid\": \"9a387152-e364-11e8-9d8c-a1b30045967f\"}, {\"marker\": {\"line\": {\"width\": 2}, \"size\": [184, 0, 0, 33, 52, 269], \"sizemode\": \"area\", \"sizeref\": 4.5, \"symbol\": \"circle\"}, \"mode\": \"markers\", \"name\": \"Student_19\", \"text\": [\"184\", \"0\", \"0\", \"33\", \"52\", \"269\"], \"x\": [\"Student_19\", \"Student_19\", \"Student_19\", \"Student_19\", \"Student_19\", \"Student_19\"], \"y\": [\"Video1\", \"Video2\", \"Video3\", \"Video4\", \"Video5\", \"Total\"], \"type\": \"scatter\", \"uid\": \"9a3871d4-e364-11e8-9d8c-a1b30045967f\"}, {\"marker\": {\"line\": {\"width\": 2}, \"size\": [52, 707, 520, 0, 148, 1427], \"sizemode\": \"area\", \"sizeref\": 4.5, \"symbol\": \"circle\"}, \"mode\": \"markers\", \"name\": \"Student_20\", \"text\": [\"52\", \"707\", \"520\", \"0\", \"148\", \"1427\"], \"x\": [\"Student_20\", \"Student_20\", \"Student_20\", \"Student_20\", \"Student_20\", \"Student_20\"], \"y\": [\"Video1\", \"Video2\", \"Video3\", \"Video4\", \"Video5\", \"Total\"], \"type\": \"scatter\", \"uid\": \"9a38724c-e364-11e8-9d8c-a1b30045967f\"}], {\"hovermode\": \"closest\", \"showlegend\": true, \"title\": \"Tempo de acesso aos v\\u00eddeos por estudante\", \"xaxis\": {\"autorange\": false, \"fixedrange\": false, \"range\": [-1, 20], \"rangemode\": \"normal\", \"showline\": true, \"title\": \"Estudantes\", \"type\": \"category\"}, \"yaxis\": {\"autorange\": false, \"fixedrange\": false, \"range\": [-1, 6], \"rangemode\": \"normal\", \"showline\": true, \"title\": \"Videos\", \"type\": \"category\"}}, {\"showLink\": true, \"linkText\": \"Export to plot.ly\"})});</script>"
      ],
      "text/vnd.plotly.v1+html": [
       "<div id=\"6121c857-7b7d-44f1-bd5c-d6605c1715e9\" style=\"height: 525px; width: 100%;\" class=\"plotly-graph-div\"></div><script type=\"text/javascript\">require([\"plotly\"], function(Plotly) { window.PLOTLYENV=window.PLOTLYENV || {};window.PLOTLYENV.BASE_URL=\"https://plot.ly\";Plotly.newPlot(\"6121c857-7b7d-44f1-bd5c-d6605c1715e9\", [{\"marker\": {\"line\": {\"width\": 2}, \"size\": [406, 492, 810, 722, 203, 2633], \"sizemode\": \"area\", \"sizeref\": 4.5, \"symbol\": \"circle\"}, \"mode\": \"markers\", \"name\": \"Student_1\", \"text\": [\"406\", \"492\", \"810\", \"722\", \"203\", \"2633\"], \"x\": [\"Student_1\", \"Student_1\", \"Student_1\", \"Student_1\", \"Student_1\", \"Student_1\"], \"y\": [\"Video1\", \"Video2\", \"Video3\", \"Video4\", \"Video5\", \"Total\"], \"type\": \"scatter\", \"uid\": \"9a3866d0-e364-11e8-9d8c-a1b30045967f\"}, {\"marker\": {\"line\": {\"width\": 2}, \"size\": [185, 406, 370, 0, 312, 1273], \"sizemode\": \"area\", \"sizeref\": 4.5, \"symbol\": \"circle\"}, \"mode\": \"markers\", \"name\": \"Student_2\", \"text\": [\"185\", \"406\", \"370\", \"0\", \"312\", \"1273\"], \"x\": [\"Student_2\", \"Student_2\", \"Student_2\", \"Student_2\", \"Student_2\", \"Student_2\"], \"y\": [\"Video1\", \"Video2\", \"Video3\", \"Video4\", \"Video5\", \"Total\"], \"type\": \"scatter\", \"uid\": \"9a38687e-e364-11e8-9d8c-a1b30045967f\"}, {\"marker\": {\"line\": {\"width\": 2}, \"size\": [42, 469, 242, 319, 0, 1072], \"sizemode\": \"area\", \"sizeref\": 4.5, \"symbol\": \"circle\"}, \"mode\": \"markers\", \"name\": \"Student_3\", \"text\": [\"42\", \"469\", \"242\", \"319\", \"0\", \"1072\"], \"x\": [\"Student_3\", \"Student_3\", \"Student_3\", \"Student_3\", \"Student_3\", \"Student_3\"], \"y\": [\"Video1\", \"Video2\", \"Video3\", \"Video4\", \"Video5\", \"Total\"], \"type\": \"scatter\", \"uid\": \"9a386946-e364-11e8-9d8c-a1b30045967f\"}, {\"marker\": {\"line\": {\"width\": 2}, \"size\": [18, 152, 805, 0, 0, 975], \"sizemode\": \"area\", \"sizeref\": 4.5, \"symbol\": \"circle\"}, \"mode\": \"markers\", \"name\": \"Student_4\", \"text\": [\"18\", \"152\", \"805\", \"0\", \"0\", \"975\"], \"x\": [\"Student_4\", \"Student_4\", \"Student_4\", \"Student_4\", \"Student_4\", \"Student_4\"], \"y\": [\"Video1\", \"Video2\", \"Video3\", \"Video4\", \"Video5\", \"Total\"], \"type\": \"scatter\", \"uid\": \"9a3869e6-e364-11e8-9d8c-a1b30045967f\"}, {\"marker\": {\"line\": {\"width\": 2}, \"size\": [0, 792, 953, 748, 0, 2493], \"sizemode\": \"area\", \"sizeref\": 4.5, \"symbol\": \"circle\"}, \"mode\": \"markers\", \"name\": \"Student_5\", \"text\": [\"0\", \"792\", \"953\", \"748\", \"0\", \"2493\"], \"x\": [\"Student_5\", \"Student_5\", \"Student_5\", \"Student_5\", \"Student_5\", \"Student_5\"], \"y\": [\"Video1\", \"Video2\", \"Video3\", \"Video4\", \"Video5\", \"Total\"], \"type\": \"scatter\", \"uid\": \"9a386a7c-e364-11e8-9d8c-a1b30045967f\"}, {\"marker\": {\"line\": {\"width\": 2}, \"size\": [505, 0, 0, 605, 439, 1549], \"sizemode\": \"area\", \"sizeref\": 4.5, \"symbol\": \"circle\"}, \"mode\": \"markers\", \"name\": \"Student_6\", \"text\": [\"505\", \"0\", \"0\", \"605\", \"439\", \"1549\"], \"x\": [\"Student_6\", \"Student_6\", \"Student_6\", \"Student_6\", \"Student_6\", \"Student_6\"], \"y\": [\"Video1\", \"Video2\", \"Video3\", \"Video4\", \"Video5\", \"Total\"], \"type\": \"scatter\", \"uid\": \"9a386b08-e364-11e8-9d8c-a1b30045967f\"}, {\"marker\": {\"line\": {\"width\": 2}, \"size\": [0, 0, 898, 0, 426, 1324], \"sizemode\": \"area\", \"sizeref\": 4.5, \"symbol\": \"circle\"}, \"mode\": \"markers\", \"name\": \"Student_7\", \"text\": [\"0\", \"0\", \"898\", \"0\", \"426\", \"1324\"], \"x\": [\"Student_7\", \"Student_7\", \"Student_7\", \"Student_7\", \"Student_7\", \"Student_7\"], \"y\": [\"Video1\", \"Video2\", \"Video3\", \"Video4\", \"Video5\", \"Total\"], \"type\": \"scatter\", \"uid\": \"9a386b9e-e364-11e8-9d8c-a1b30045967f\"}, {\"marker\": {\"line\": {\"width\": 2}, \"size\": [144, 86, 671, 112, 304, 1317], \"sizemode\": \"area\", \"sizeref\": 4.5, \"symbol\": \"circle\"}, \"mode\": \"markers\", \"name\": \"Student_8\", \"text\": [\"144\", \"86\", \"671\", \"112\", \"304\", \"1317\"], \"x\": [\"Student_8\", \"Student_8\", \"Student_8\", \"Student_8\", \"Student_8\", \"Student_8\"], \"y\": [\"Video1\", \"Video2\", \"Video3\", \"Video4\", \"Video5\", \"Total\"], \"type\": \"scatter\", \"uid\": \"9a386c2a-e364-11e8-9d8c-a1b30045967f\"}, {\"marker\": {\"line\": {\"width\": 2}, \"size\": [259, 533, 408, 313, 194, 1707], \"sizemode\": \"area\", \"sizeref\": 4.5, \"symbol\": \"circle\"}, \"mode\": \"markers\", \"name\": \"Student_9\", \"text\": [\"259\", \"533\", \"408\", \"313\", \"194\", \"1707\"], \"x\": [\"Student_9\", \"Student_9\", \"Student_9\", \"Student_9\", \"Student_9\", \"Student_9\"], \"y\": [\"Video1\", \"Video2\", \"Video3\", \"Video4\", \"Video5\", \"Total\"], \"type\": \"scatter\", \"uid\": \"9a386cb6-e364-11e8-9d8c-a1b30045967f\"}, {\"marker\": {\"line\": {\"width\": 2}, \"size\": [247, 665, 0, 240, 375, 1527], \"sizemode\": \"area\", \"sizeref\": 4.5, \"symbol\": \"circle\"}, \"mode\": \"markers\", \"name\": \"Student_10\", \"text\": [\"247\", \"665\", \"0\", \"240\", \"375\", \"1527\"], \"x\": [\"Student_10\", \"Student_10\", \"Student_10\", \"Student_10\", \"Student_10\", \"Student_10\"], \"y\": [\"Video1\", \"Video2\", \"Video3\", \"Video4\", \"Video5\", \"Total\"], \"type\": \"scatter\", \"uid\": \"9a386d38-e364-11e8-9d8c-a1b30045967f\"}, {\"marker\": {\"line\": {\"width\": 2}, \"size\": [358, 552, 1822, 0, 0, 2732], \"sizemode\": \"area\", \"sizeref\": 4.5, \"symbol\": \"circle\"}, \"mode\": \"markers\", \"name\": \"Student_11\", \"text\": [\"358\", \"552\", \"1822\", \"0\", \"0\", \"2732\"], \"x\": [\"Student_11\", \"Student_11\", \"Student_11\", \"Student_11\", \"Student_11\", \"Student_11\"], \"y\": [\"Video1\", \"Video2\", \"Video3\", \"Video4\", \"Video5\", \"Total\"], \"type\": \"scatter\", \"uid\": \"9a386dba-e364-11e8-9d8c-a1b30045967f\"}, {\"marker\": {\"line\": {\"width\": 2}, \"size\": [0, 663, 541, 0, 368, 1572], \"sizemode\": \"area\", \"sizeref\": 4.5, \"symbol\": \"circle\"}, \"mode\": \"markers\", \"name\": \"Student_12\", \"text\": [\"0\", \"663\", \"541\", \"0\", \"368\", \"1572\"], \"x\": [\"Student_12\", \"Student_12\", \"Student_12\", \"Student_12\", \"Student_12\", \"Student_12\"], \"y\": [\"Video1\", \"Video2\", \"Video3\", \"Video4\", \"Video5\", \"Total\"], \"type\": \"scatter\", \"uid\": \"9a386e46-e364-11e8-9d8c-a1b30045967f\"}, {\"marker\": {\"line\": {\"width\": 2}, \"size\": [0, 329, 641, 390, 300, 1660], \"sizemode\": \"area\", \"sizeref\": 4.5, \"symbol\": \"circle\"}, \"mode\": \"markers\", \"name\": \"Student_13\", \"text\": [\"0\", \"329\", \"641\", \"390\", \"300\", \"1660\"], \"x\": [\"Student_13\", \"Student_13\", \"Student_13\", \"Student_13\", \"Student_13\", \"Student_13\"], \"y\": [\"Video1\", \"Video2\", \"Video3\", \"Video4\", \"Video5\", \"Total\"], \"type\": \"scatter\", \"uid\": \"9a386ec8-e364-11e8-9d8c-a1b30045967f\"}, {\"marker\": {\"line\": {\"width\": 2}, \"size\": [165, 0, 1071, 102, 525, 1863], \"sizemode\": \"area\", \"sizeref\": 4.5, \"symbol\": \"circle\"}, \"mode\": \"markers\", \"name\": \"Student_14\", \"text\": [\"165\", \"0\", \"1071\", \"102\", \"525\", \"1863\"], \"x\": [\"Student_14\", \"Student_14\", \"Student_14\", \"Student_14\", \"Student_14\", \"Student_14\"], \"y\": [\"Video1\", \"Video2\", \"Video3\", \"Video4\", \"Video5\", \"Total\"], \"type\": \"scatter\", \"uid\": \"9a386f54-e364-11e8-9d8c-a1b30045967f\"}, {\"marker\": {\"line\": {\"width\": 2}, \"size\": [354, 553, 391, 63, 836, 2197], \"sizemode\": \"area\", \"sizeref\": 4.5, \"symbol\": \"circle\"}, \"mode\": \"markers\", \"name\": \"Student_15\", \"text\": [\"354\", \"553\", \"391\", \"63\", \"836\", \"2197\"], \"x\": [\"Student_15\", \"Student_15\", \"Student_15\", \"Student_15\", \"Student_15\", \"Student_15\"], \"y\": [\"Video1\", \"Video2\", \"Video3\", \"Video4\", \"Video5\", \"Total\"], \"type\": \"scatter\", \"uid\": \"9a386fe0-e364-11e8-9d8c-a1b30045967f\"}, {\"marker\": {\"line\": {\"width\": 2}, \"size\": [95, 779, 342, 526, 567, 2309], \"sizemode\": \"area\", \"sizeref\": 4.5, \"symbol\": \"circle\"}, \"mode\": \"markers\", \"name\": \"Student_16\", \"text\": [\"95\", \"779\", \"342\", \"526\", \"567\", \"2309\"], \"x\": [\"Student_16\", \"Student_16\", \"Student_16\", \"Student_16\", \"Student_16\", \"Student_16\"], \"y\": [\"Video1\", \"Video2\", \"Video3\", \"Video4\", \"Video5\", \"Total\"], \"type\": \"scatter\", \"uid\": \"9a387062-e364-11e8-9d8c-a1b30045967f\"}, {\"marker\": {\"line\": {\"width\": 2}, \"size\": [0, 260, 1327, 311, 761, 2659], \"sizemode\": \"area\", \"sizeref\": 4.5, \"symbol\": \"circle\"}, \"mode\": \"markers\", \"name\": \"Student_17\", \"text\": [\"0\", \"260\", \"1327\", \"311\", \"761\", \"2659\"], \"x\": [\"Student_17\", \"Student_17\", \"Student_17\", \"Student_17\", \"Student_17\", \"Student_17\"], \"y\": [\"Video1\", \"Video2\", \"Video3\", \"Video4\", \"Video5\", \"Total\"], \"type\": \"scatter\", \"uid\": \"9a3870da-e364-11e8-9d8c-a1b30045967f\"}, {\"marker\": {\"line\": {\"width\": 2}, \"size\": [291, 719, 825, 443, 77, 2355], \"sizemode\": \"area\", \"sizeref\": 4.5, \"symbol\": \"circle\"}, \"mode\": \"markers\", \"name\": \"Student_18\", \"text\": [\"291\", \"719\", \"825\", \"443\", \"77\", \"2355\"], \"x\": [\"Student_18\", \"Student_18\", \"Student_18\", \"Student_18\", \"Student_18\", \"Student_18\"], \"y\": [\"Video1\", \"Video2\", \"Video3\", \"Video4\", \"Video5\", \"Total\"], \"type\": \"scatter\", \"uid\": \"9a387152-e364-11e8-9d8c-a1b30045967f\"}, {\"marker\": {\"line\": {\"width\": 2}, \"size\": [184, 0, 0, 33, 52, 269], \"sizemode\": \"area\", \"sizeref\": 4.5, \"symbol\": \"circle\"}, \"mode\": \"markers\", \"name\": \"Student_19\", \"text\": [\"184\", \"0\", \"0\", \"33\", \"52\", \"269\"], \"x\": [\"Student_19\", \"Student_19\", \"Student_19\", \"Student_19\", \"Student_19\", \"Student_19\"], \"y\": [\"Video1\", \"Video2\", \"Video3\", \"Video4\", \"Video5\", \"Total\"], \"type\": \"scatter\", \"uid\": \"9a3871d4-e364-11e8-9d8c-a1b30045967f\"}, {\"marker\": {\"line\": {\"width\": 2}, \"size\": [52, 707, 520, 0, 148, 1427], \"sizemode\": \"area\", \"sizeref\": 4.5, \"symbol\": \"circle\"}, \"mode\": \"markers\", \"name\": \"Student_20\", \"text\": [\"52\", \"707\", \"520\", \"0\", \"148\", \"1427\"], \"x\": [\"Student_20\", \"Student_20\", \"Student_20\", \"Student_20\", \"Student_20\", \"Student_20\"], \"y\": [\"Video1\", \"Video2\", \"Video3\", \"Video4\", \"Video5\", \"Total\"], \"type\": \"scatter\", \"uid\": \"9a38724c-e364-11e8-9d8c-a1b30045967f\"}], {\"hovermode\": \"closest\", \"showlegend\": true, \"title\": \"Tempo de acesso aos v\\u00eddeos por estudante\", \"xaxis\": {\"autorange\": false, \"fixedrange\": false, \"range\": [-1, 20], \"rangemode\": \"normal\", \"showline\": true, \"title\": \"Estudantes\", \"type\": \"category\"}, \"yaxis\": {\"autorange\": false, \"fixedrange\": false, \"range\": [-1, 6], \"rangemode\": \"normal\", \"showline\": true, \"title\": \"Videos\", \"type\": \"category\"}}, {\"showLink\": true, \"linkText\": \"Export to plot.ly\"})});</script>"
      ]
     },
     "metadata": {},
     "output_type": "display_data"
    },
    {
     "data": {
      "application/vnd.plotly.v1+json": {
       "data": [
        {
         "name": "Video1",
         "type": "bar",
         "uid": "9a4aed3c-e364-11e8-9d8c-a1b30045967f",
         "x": [
          "Student_1",
          "Student_2",
          "Student_3",
          "Student_4",
          "Student_5",
          "Student_6",
          "Student_7",
          "Student_8",
          "Student_9",
          "Student_10",
          "Student_11",
          "Student_12",
          "Student_13",
          "Student_14",
          "Student_15",
          "Student_16",
          "Student_17",
          "Student_18",
          "Student_19",
          "Student_20"
         ],
         "y": [
          406,
          185,
          42,
          18,
          0,
          505,
          0,
          144,
          259,
          247,
          358,
          0,
          0,
          165,
          354,
          95,
          0,
          291,
          184,
          52
         ]
        },
        {
         "name": "Video2",
         "type": "bar",
         "uid": "9a4aef1c-e364-11e8-9d8c-a1b30045967f",
         "x": [
          "Student_1",
          "Student_2",
          "Student_3",
          "Student_4",
          "Student_5",
          "Student_6",
          "Student_7",
          "Student_8",
          "Student_9",
          "Student_10",
          "Student_11",
          "Student_12",
          "Student_13",
          "Student_14",
          "Student_15",
          "Student_16",
          "Student_17",
          "Student_18",
          "Student_19",
          "Student_20"
         ],
         "y": [
          492,
          406,
          469,
          152,
          792,
          0,
          0,
          86,
          533,
          665,
          552,
          663,
          329,
          0,
          553,
          779,
          260,
          719,
          0,
          707
         ]
        },
        {
         "name": "Video3",
         "type": "bar",
         "uid": "9a4aefe4-e364-11e8-9d8c-a1b30045967f",
         "x": [
          "Student_1",
          "Student_2",
          "Student_3",
          "Student_4",
          "Student_5",
          "Student_6",
          "Student_7",
          "Student_8",
          "Student_9",
          "Student_10",
          "Student_11",
          "Student_12",
          "Student_13",
          "Student_14",
          "Student_15",
          "Student_16",
          "Student_17",
          "Student_18",
          "Student_19",
          "Student_20"
         ],
         "y": [
          810,
          370,
          242,
          805,
          953,
          0,
          898,
          671,
          408,
          0,
          1822,
          541,
          641,
          1071,
          391,
          342,
          1327,
          825,
          0,
          520
         ]
        },
        {
         "name": "Video4",
         "type": "bar",
         "uid": "9a4af084-e364-11e8-9d8c-a1b30045967f",
         "x": [
          "Student_1",
          "Student_2",
          "Student_3",
          "Student_4",
          "Student_5",
          "Student_6",
          "Student_7",
          "Student_8",
          "Student_9",
          "Student_10",
          "Student_11",
          "Student_12",
          "Student_13",
          "Student_14",
          "Student_15",
          "Student_16",
          "Student_17",
          "Student_18",
          "Student_19",
          "Student_20"
         ],
         "y": [
          722,
          0,
          319,
          0,
          748,
          605,
          0,
          112,
          313,
          240,
          0,
          0,
          390,
          102,
          63,
          526,
          311,
          443,
          33,
          0
         ]
        },
        {
         "name": "Video5",
         "type": "bar",
         "uid": "9a4af110-e364-11e8-9d8c-a1b30045967f",
         "x": [
          "Student_1",
          "Student_2",
          "Student_3",
          "Student_4",
          "Student_5",
          "Student_6",
          "Student_7",
          "Student_8",
          "Student_9",
          "Student_10",
          "Student_11",
          "Student_12",
          "Student_13",
          "Student_14",
          "Student_15",
          "Student_16",
          "Student_17",
          "Student_18",
          "Student_19",
          "Student_20"
         ],
         "y": [
          203,
          312,
          0,
          0,
          0,
          439,
          426,
          304,
          194,
          375,
          0,
          368,
          300,
          525,
          836,
          567,
          761,
          77,
          52,
          148
         ]
        }
       ],
       "layout": {
        "title": "Número de acessos aos vídeos agrupados por estudante",
        "yaxis": {
         "dtick": 100,
         "exponentformat": "e",
         "gridcolor": "#bdbdbd",
         "showexponent": "all",
         "showticklabels": true,
         "tick0": 0,
         "titlefont": {
          "color": "lightgrey",
          "family": "Arial, sans-serif"
         }
        }
       }
      },
      "text/html": [
       "<div id=\"6913d22c-4463-483e-80d4-33ad20a49a2e\" style=\"height: 525px; width: 100%;\" class=\"plotly-graph-div\"></div><script type=\"text/javascript\">require([\"plotly\"], function(Plotly) { window.PLOTLYENV=window.PLOTLYENV || {};window.PLOTLYENV.BASE_URL=\"https://plot.ly\";Plotly.newPlot(\"6913d22c-4463-483e-80d4-33ad20a49a2e\", [{\"name\": \"Video1\", \"x\": [\"Student_1\", \"Student_2\", \"Student_3\", \"Student_4\", \"Student_5\", \"Student_6\", \"Student_7\", \"Student_8\", \"Student_9\", \"Student_10\", \"Student_11\", \"Student_12\", \"Student_13\", \"Student_14\", \"Student_15\", \"Student_16\", \"Student_17\", \"Student_18\", \"Student_19\", \"Student_20\"], \"y\": [406, 185, 42, 18, 0, 505, 0, 144, 259, 247, 358, 0, 0, 165, 354, 95, 0, 291, 184, 52], \"type\": \"bar\", \"uid\": \"9a4aed3c-e364-11e8-9d8c-a1b30045967f\"}, {\"name\": \"Video2\", \"x\": [\"Student_1\", \"Student_2\", \"Student_3\", \"Student_4\", \"Student_5\", \"Student_6\", \"Student_7\", \"Student_8\", \"Student_9\", \"Student_10\", \"Student_11\", \"Student_12\", \"Student_13\", \"Student_14\", \"Student_15\", \"Student_16\", \"Student_17\", \"Student_18\", \"Student_19\", \"Student_20\"], \"y\": [492, 406, 469, 152, 792, 0, 0, 86, 533, 665, 552, 663, 329, 0, 553, 779, 260, 719, 0, 707], \"type\": \"bar\", \"uid\": \"9a4aef1c-e364-11e8-9d8c-a1b30045967f\"}, {\"name\": \"Video3\", \"x\": [\"Student_1\", \"Student_2\", \"Student_3\", \"Student_4\", \"Student_5\", \"Student_6\", \"Student_7\", \"Student_8\", \"Student_9\", \"Student_10\", \"Student_11\", \"Student_12\", \"Student_13\", \"Student_14\", \"Student_15\", \"Student_16\", \"Student_17\", \"Student_18\", \"Student_19\", \"Student_20\"], \"y\": [810, 370, 242, 805, 953, 0, 898, 671, 408, 0, 1822, 541, 641, 1071, 391, 342, 1327, 825, 0, 520], \"type\": \"bar\", \"uid\": \"9a4aefe4-e364-11e8-9d8c-a1b30045967f\"}, {\"name\": \"Video4\", \"x\": [\"Student_1\", \"Student_2\", \"Student_3\", \"Student_4\", \"Student_5\", \"Student_6\", \"Student_7\", \"Student_8\", \"Student_9\", \"Student_10\", \"Student_11\", \"Student_12\", \"Student_13\", \"Student_14\", \"Student_15\", \"Student_16\", \"Student_17\", \"Student_18\", \"Student_19\", \"Student_20\"], \"y\": [722, 0, 319, 0, 748, 605, 0, 112, 313, 240, 0, 0, 390, 102, 63, 526, 311, 443, 33, 0], \"type\": \"bar\", \"uid\": \"9a4af084-e364-11e8-9d8c-a1b30045967f\"}, {\"name\": \"Video5\", \"x\": [\"Student_1\", \"Student_2\", \"Student_3\", \"Student_4\", \"Student_5\", \"Student_6\", \"Student_7\", \"Student_8\", \"Student_9\", \"Student_10\", \"Student_11\", \"Student_12\", \"Student_13\", \"Student_14\", \"Student_15\", \"Student_16\", \"Student_17\", \"Student_18\", \"Student_19\", \"Student_20\"], \"y\": [203, 312, 0, 0, 0, 439, 426, 304, 194, 375, 0, 368, 300, 525, 836, 567, 761, 77, 52, 148], \"type\": \"bar\", \"uid\": \"9a4af110-e364-11e8-9d8c-a1b30045967f\"}], {\"title\": \"N\\u00famero de acessos aos v\\u00eddeos agrupados por estudante\", \"yaxis\": {\"dtick\": 100, \"exponentformat\": \"e\", \"gridcolor\": \"#bdbdbd\", \"showexponent\": \"all\", \"showticklabels\": true, \"tick0\": 0, \"titlefont\": {\"color\": \"lightgrey\", \"family\": \"Arial, sans-serif\"}}}, {\"showLink\": true, \"linkText\": \"Export to plot.ly\"})});</script>"
      ],
      "text/vnd.plotly.v1+html": [
       "<div id=\"6913d22c-4463-483e-80d4-33ad20a49a2e\" style=\"height: 525px; width: 100%;\" class=\"plotly-graph-div\"></div><script type=\"text/javascript\">require([\"plotly\"], function(Plotly) { window.PLOTLYENV=window.PLOTLYENV || {};window.PLOTLYENV.BASE_URL=\"https://plot.ly\";Plotly.newPlot(\"6913d22c-4463-483e-80d4-33ad20a49a2e\", [{\"name\": \"Video1\", \"x\": [\"Student_1\", \"Student_2\", \"Student_3\", \"Student_4\", \"Student_5\", \"Student_6\", \"Student_7\", \"Student_8\", \"Student_9\", \"Student_10\", \"Student_11\", \"Student_12\", \"Student_13\", \"Student_14\", \"Student_15\", \"Student_16\", \"Student_17\", \"Student_18\", \"Student_19\", \"Student_20\"], \"y\": [406, 185, 42, 18, 0, 505, 0, 144, 259, 247, 358, 0, 0, 165, 354, 95, 0, 291, 184, 52], \"type\": \"bar\", \"uid\": \"9a4aed3c-e364-11e8-9d8c-a1b30045967f\"}, {\"name\": \"Video2\", \"x\": [\"Student_1\", \"Student_2\", \"Student_3\", \"Student_4\", \"Student_5\", \"Student_6\", \"Student_7\", \"Student_8\", \"Student_9\", \"Student_10\", \"Student_11\", \"Student_12\", \"Student_13\", \"Student_14\", \"Student_15\", \"Student_16\", \"Student_17\", \"Student_18\", \"Student_19\", \"Student_20\"], \"y\": [492, 406, 469, 152, 792, 0, 0, 86, 533, 665, 552, 663, 329, 0, 553, 779, 260, 719, 0, 707], \"type\": \"bar\", \"uid\": \"9a4aef1c-e364-11e8-9d8c-a1b30045967f\"}, {\"name\": \"Video3\", \"x\": [\"Student_1\", \"Student_2\", \"Student_3\", \"Student_4\", \"Student_5\", \"Student_6\", \"Student_7\", \"Student_8\", \"Student_9\", \"Student_10\", \"Student_11\", \"Student_12\", \"Student_13\", \"Student_14\", \"Student_15\", \"Student_16\", \"Student_17\", \"Student_18\", \"Student_19\", \"Student_20\"], \"y\": [810, 370, 242, 805, 953, 0, 898, 671, 408, 0, 1822, 541, 641, 1071, 391, 342, 1327, 825, 0, 520], \"type\": \"bar\", \"uid\": \"9a4aefe4-e364-11e8-9d8c-a1b30045967f\"}, {\"name\": \"Video4\", \"x\": [\"Student_1\", \"Student_2\", \"Student_3\", \"Student_4\", \"Student_5\", \"Student_6\", \"Student_7\", \"Student_8\", \"Student_9\", \"Student_10\", \"Student_11\", \"Student_12\", \"Student_13\", \"Student_14\", \"Student_15\", \"Student_16\", \"Student_17\", \"Student_18\", \"Student_19\", \"Student_20\"], \"y\": [722, 0, 319, 0, 748, 605, 0, 112, 313, 240, 0, 0, 390, 102, 63, 526, 311, 443, 33, 0], \"type\": \"bar\", \"uid\": \"9a4af084-e364-11e8-9d8c-a1b30045967f\"}, {\"name\": \"Video5\", \"x\": [\"Student_1\", \"Student_2\", \"Student_3\", \"Student_4\", \"Student_5\", \"Student_6\", \"Student_7\", \"Student_8\", \"Student_9\", \"Student_10\", \"Student_11\", \"Student_12\", \"Student_13\", \"Student_14\", \"Student_15\", \"Student_16\", \"Student_17\", \"Student_18\", \"Student_19\", \"Student_20\"], \"y\": [203, 312, 0, 0, 0, 439, 426, 304, 194, 375, 0, 368, 300, 525, 836, 567, 761, 77, 52, 148], \"type\": \"bar\", \"uid\": \"9a4af110-e364-11e8-9d8c-a1b30045967f\"}], {\"title\": \"N\\u00famero de acessos aos v\\u00eddeos agrupados por estudante\", \"yaxis\": {\"dtick\": 100, \"exponentformat\": \"e\", \"gridcolor\": \"#bdbdbd\", \"showexponent\": \"all\", \"showticklabels\": true, \"tick0\": 0, \"titlefont\": {\"color\": \"lightgrey\", \"family\": \"Arial, sans-serif\"}}}, {\"showLink\": true, \"linkText\": \"Export to plot.ly\"})});</script>"
      ]
     },
     "metadata": {},
     "output_type": "display_data"
    },
    {
     "data": {
      "application/vnd.plotly.v1+json": {
       "data": [
        {
         "name": "Video1",
         "type": "bar",
         "uid": "9a51dd0e-e364-11e8-9d8c-a1b30045967f",
         "x": [
          "Student_1",
          "Student_2",
          "Student_3",
          "Student_4",
          "Student_5",
          "Student_6",
          "Student_7",
          "Student_8",
          "Student_9",
          "Student_10",
          "Student_11",
          "Student_12",
          "Student_13",
          "Student_14",
          "Student_15",
          "Student_16",
          "Student_17",
          "Student_18",
          "Student_19",
          "Student_20"
         ],
         "y": [
          406,
          185,
          42,
          18,
          0,
          505,
          0,
          144,
          259,
          247,
          358,
          0,
          0,
          165,
          354,
          95,
          0,
          291,
          184,
          52
         ]
        },
        {
         "name": "Video2",
         "type": "bar",
         "uid": "9a51def8-e364-11e8-9d8c-a1b30045967f",
         "x": [
          "Student_1",
          "Student_2",
          "Student_3",
          "Student_4",
          "Student_5",
          "Student_6",
          "Student_7",
          "Student_8",
          "Student_9",
          "Student_10",
          "Student_11",
          "Student_12",
          "Student_13",
          "Student_14",
          "Student_15",
          "Student_16",
          "Student_17",
          "Student_18",
          "Student_19",
          "Student_20"
         ],
         "y": [
          492,
          406,
          469,
          152,
          792,
          0,
          0,
          86,
          533,
          665,
          552,
          663,
          329,
          0,
          553,
          779,
          260,
          719,
          0,
          707
         ]
        },
        {
         "name": "Video3",
         "type": "bar",
         "uid": "9a51dfc0-e364-11e8-9d8c-a1b30045967f",
         "x": [
          "Student_1",
          "Student_2",
          "Student_3",
          "Student_4",
          "Student_5",
          "Student_6",
          "Student_7",
          "Student_8",
          "Student_9",
          "Student_10",
          "Student_11",
          "Student_12",
          "Student_13",
          "Student_14",
          "Student_15",
          "Student_16",
          "Student_17",
          "Student_18",
          "Student_19",
          "Student_20"
         ],
         "y": [
          810,
          370,
          242,
          805,
          953,
          0,
          898,
          671,
          408,
          0,
          1822,
          541,
          641,
          1071,
          391,
          342,
          1327,
          825,
          0,
          520
         ]
        },
        {
         "name": "Video4",
         "type": "bar",
         "uid": "9a51e060-e364-11e8-9d8c-a1b30045967f",
         "x": [
          "Student_1",
          "Student_2",
          "Student_3",
          "Student_4",
          "Student_5",
          "Student_6",
          "Student_7",
          "Student_8",
          "Student_9",
          "Student_10",
          "Student_11",
          "Student_12",
          "Student_13",
          "Student_14",
          "Student_15",
          "Student_16",
          "Student_17",
          "Student_18",
          "Student_19",
          "Student_20"
         ],
         "y": [
          722,
          0,
          319,
          0,
          748,
          605,
          0,
          112,
          313,
          240,
          0,
          0,
          390,
          102,
          63,
          526,
          311,
          443,
          33,
          0
         ]
        },
        {
         "name": "Video5",
         "type": "bar",
         "uid": "9a51e0ec-e364-11e8-9d8c-a1b30045967f",
         "x": [
          "Student_1",
          "Student_2",
          "Student_3",
          "Student_4",
          "Student_5",
          "Student_6",
          "Student_7",
          "Student_8",
          "Student_9",
          "Student_10",
          "Student_11",
          "Student_12",
          "Student_13",
          "Student_14",
          "Student_15",
          "Student_16",
          "Student_17",
          "Student_18",
          "Student_19",
          "Student_20"
         ],
         "y": [
          203,
          312,
          0,
          0,
          0,
          439,
          426,
          304,
          194,
          375,
          0,
          368,
          300,
          525,
          836,
          567,
          761,
          77,
          52,
          148
         ]
        }
       ],
       "layout": {
        "barmode": "stack",
        "title": "Número de acessos aos vídeos agrupados por estudante",
        "yaxis": {
         "dtick": 300,
         "exponentformat": "e",
         "gridcolor": "#bdbdbd",
         "showexponent": "all",
         "showticklabels": true,
         "tick0": 0,
         "titlefont": {
          "color": "lightgrey",
          "family": "Arial, sans-serif"
         }
        }
       }
      },
      "text/html": [
       "<div id=\"ce989a6a-419c-4bd8-9fd5-feebd5d64425\" style=\"height: 525px; width: 100%;\" class=\"plotly-graph-div\"></div><script type=\"text/javascript\">require([\"plotly\"], function(Plotly) { window.PLOTLYENV=window.PLOTLYENV || {};window.PLOTLYENV.BASE_URL=\"https://plot.ly\";Plotly.newPlot(\"ce989a6a-419c-4bd8-9fd5-feebd5d64425\", [{\"name\": \"Video1\", \"x\": [\"Student_1\", \"Student_2\", \"Student_3\", \"Student_4\", \"Student_5\", \"Student_6\", \"Student_7\", \"Student_8\", \"Student_9\", \"Student_10\", \"Student_11\", \"Student_12\", \"Student_13\", \"Student_14\", \"Student_15\", \"Student_16\", \"Student_17\", \"Student_18\", \"Student_19\", \"Student_20\"], \"y\": [406, 185, 42, 18, 0, 505, 0, 144, 259, 247, 358, 0, 0, 165, 354, 95, 0, 291, 184, 52], \"type\": \"bar\", \"uid\": \"9a51dd0e-e364-11e8-9d8c-a1b30045967f\"}, {\"name\": \"Video2\", \"x\": [\"Student_1\", \"Student_2\", \"Student_3\", \"Student_4\", \"Student_5\", \"Student_6\", \"Student_7\", \"Student_8\", \"Student_9\", \"Student_10\", \"Student_11\", \"Student_12\", \"Student_13\", \"Student_14\", \"Student_15\", \"Student_16\", \"Student_17\", \"Student_18\", \"Student_19\", \"Student_20\"], \"y\": [492, 406, 469, 152, 792, 0, 0, 86, 533, 665, 552, 663, 329, 0, 553, 779, 260, 719, 0, 707], \"type\": \"bar\", \"uid\": \"9a51def8-e364-11e8-9d8c-a1b30045967f\"}, {\"name\": \"Video3\", \"x\": [\"Student_1\", \"Student_2\", \"Student_3\", \"Student_4\", \"Student_5\", \"Student_6\", \"Student_7\", \"Student_8\", \"Student_9\", \"Student_10\", \"Student_11\", \"Student_12\", \"Student_13\", \"Student_14\", \"Student_15\", \"Student_16\", \"Student_17\", \"Student_18\", \"Student_19\", \"Student_20\"], \"y\": [810, 370, 242, 805, 953, 0, 898, 671, 408, 0, 1822, 541, 641, 1071, 391, 342, 1327, 825, 0, 520], \"type\": \"bar\", \"uid\": \"9a51dfc0-e364-11e8-9d8c-a1b30045967f\"}, {\"name\": \"Video4\", \"x\": [\"Student_1\", \"Student_2\", \"Student_3\", \"Student_4\", \"Student_5\", \"Student_6\", \"Student_7\", \"Student_8\", \"Student_9\", \"Student_10\", \"Student_11\", \"Student_12\", \"Student_13\", \"Student_14\", \"Student_15\", \"Student_16\", \"Student_17\", \"Student_18\", \"Student_19\", \"Student_20\"], \"y\": [722, 0, 319, 0, 748, 605, 0, 112, 313, 240, 0, 0, 390, 102, 63, 526, 311, 443, 33, 0], \"type\": \"bar\", \"uid\": \"9a51e060-e364-11e8-9d8c-a1b30045967f\"}, {\"name\": \"Video5\", \"x\": [\"Student_1\", \"Student_2\", \"Student_3\", \"Student_4\", \"Student_5\", \"Student_6\", \"Student_7\", \"Student_8\", \"Student_9\", \"Student_10\", \"Student_11\", \"Student_12\", \"Student_13\", \"Student_14\", \"Student_15\", \"Student_16\", \"Student_17\", \"Student_18\", \"Student_19\", \"Student_20\"], \"y\": [203, 312, 0, 0, 0, 439, 426, 304, 194, 375, 0, 368, 300, 525, 836, 567, 761, 77, 52, 148], \"type\": \"bar\", \"uid\": \"9a51e0ec-e364-11e8-9d8c-a1b30045967f\"}], {\"barmode\": \"stack\", \"title\": \"N\\u00famero de acessos aos v\\u00eddeos agrupados por estudante\", \"yaxis\": {\"dtick\": 300, \"exponentformat\": \"e\", \"gridcolor\": \"#bdbdbd\", \"showexponent\": \"all\", \"showticklabels\": true, \"tick0\": 0, \"titlefont\": {\"color\": \"lightgrey\", \"family\": \"Arial, sans-serif\"}}}, {\"showLink\": true, \"linkText\": \"Export to plot.ly\"})});</script>"
      ],
      "text/vnd.plotly.v1+html": [
       "<div id=\"ce989a6a-419c-4bd8-9fd5-feebd5d64425\" style=\"height: 525px; width: 100%;\" class=\"plotly-graph-div\"></div><script type=\"text/javascript\">require([\"plotly\"], function(Plotly) { window.PLOTLYENV=window.PLOTLYENV || {};window.PLOTLYENV.BASE_URL=\"https://plot.ly\";Plotly.newPlot(\"ce989a6a-419c-4bd8-9fd5-feebd5d64425\", [{\"name\": \"Video1\", \"x\": [\"Student_1\", \"Student_2\", \"Student_3\", \"Student_4\", \"Student_5\", \"Student_6\", \"Student_7\", \"Student_8\", \"Student_9\", \"Student_10\", \"Student_11\", \"Student_12\", \"Student_13\", \"Student_14\", \"Student_15\", \"Student_16\", \"Student_17\", \"Student_18\", \"Student_19\", \"Student_20\"], \"y\": [406, 185, 42, 18, 0, 505, 0, 144, 259, 247, 358, 0, 0, 165, 354, 95, 0, 291, 184, 52], \"type\": \"bar\", \"uid\": \"9a51dd0e-e364-11e8-9d8c-a1b30045967f\"}, {\"name\": \"Video2\", \"x\": [\"Student_1\", \"Student_2\", \"Student_3\", \"Student_4\", \"Student_5\", \"Student_6\", \"Student_7\", \"Student_8\", \"Student_9\", \"Student_10\", \"Student_11\", \"Student_12\", \"Student_13\", \"Student_14\", \"Student_15\", \"Student_16\", \"Student_17\", \"Student_18\", \"Student_19\", \"Student_20\"], \"y\": [492, 406, 469, 152, 792, 0, 0, 86, 533, 665, 552, 663, 329, 0, 553, 779, 260, 719, 0, 707], \"type\": \"bar\", \"uid\": \"9a51def8-e364-11e8-9d8c-a1b30045967f\"}, {\"name\": \"Video3\", \"x\": [\"Student_1\", \"Student_2\", \"Student_3\", \"Student_4\", \"Student_5\", \"Student_6\", \"Student_7\", \"Student_8\", \"Student_9\", \"Student_10\", \"Student_11\", \"Student_12\", \"Student_13\", \"Student_14\", \"Student_15\", \"Student_16\", \"Student_17\", \"Student_18\", \"Student_19\", \"Student_20\"], \"y\": [810, 370, 242, 805, 953, 0, 898, 671, 408, 0, 1822, 541, 641, 1071, 391, 342, 1327, 825, 0, 520], \"type\": \"bar\", \"uid\": \"9a51dfc0-e364-11e8-9d8c-a1b30045967f\"}, {\"name\": \"Video4\", \"x\": [\"Student_1\", \"Student_2\", \"Student_3\", \"Student_4\", \"Student_5\", \"Student_6\", \"Student_7\", \"Student_8\", \"Student_9\", \"Student_10\", \"Student_11\", \"Student_12\", \"Student_13\", \"Student_14\", \"Student_15\", \"Student_16\", \"Student_17\", \"Student_18\", \"Student_19\", \"Student_20\"], \"y\": [722, 0, 319, 0, 748, 605, 0, 112, 313, 240, 0, 0, 390, 102, 63, 526, 311, 443, 33, 0], \"type\": \"bar\", \"uid\": \"9a51e060-e364-11e8-9d8c-a1b30045967f\"}, {\"name\": \"Video5\", \"x\": [\"Student_1\", \"Student_2\", \"Student_3\", \"Student_4\", \"Student_5\", \"Student_6\", \"Student_7\", \"Student_8\", \"Student_9\", \"Student_10\", \"Student_11\", \"Student_12\", \"Student_13\", \"Student_14\", \"Student_15\", \"Student_16\", \"Student_17\", \"Student_18\", \"Student_19\", \"Student_20\"], \"y\": [203, 312, 0, 0, 0, 439, 426, 304, 194, 375, 0, 368, 300, 525, 836, 567, 761, 77, 52, 148], \"type\": \"bar\", \"uid\": \"9a51e0ec-e364-11e8-9d8c-a1b30045967f\"}], {\"barmode\": \"stack\", \"title\": \"N\\u00famero de acessos aos v\\u00eddeos agrupados por estudante\", \"yaxis\": {\"dtick\": 300, \"exponentformat\": \"e\", \"gridcolor\": \"#bdbdbd\", \"showexponent\": \"all\", \"showticklabels\": true, \"tick0\": 0, \"titlefont\": {\"color\": \"lightgrey\", \"family\": \"Arial, sans-serif\"}}}, {\"showLink\": true, \"linkText\": \"Export to plot.ly\"})});</script>"
      ]
     },
     "metadata": {},
     "output_type": "display_data"
    },
    {
     "data": {
      "application/vnd.plotly.v1+json": {
       "data": [
        {
         "name": "Video1",
         "orientation": "h",
         "type": "bar",
         "uid": "9a58ae0e-e364-11e8-9d8c-a1b30045967f",
         "x": [
          406,
          185,
          42,
          18,
          0,
          505,
          0,
          144,
          259,
          247,
          358,
          0,
          0,
          165,
          354,
          95,
          0,
          291,
          184,
          52
         ],
         "y": [
          "Student_1",
          "Student_2",
          "Student_3",
          "Student_4",
          "Student_5",
          "Student_6",
          "Student_7",
          "Student_8",
          "Student_9",
          "Student_10",
          "Student_11",
          "Student_12",
          "Student_13",
          "Student_14",
          "Student_15",
          "Student_16",
          "Student_17",
          "Student_18",
          "Student_19",
          "Student_20"
         ]
        },
        {
         "name": "Video2",
         "orientation": "h",
         "type": "bar",
         "uid": "9a58af8a-e364-11e8-9d8c-a1b30045967f",
         "x": [
          492,
          406,
          469,
          152,
          792,
          0,
          0,
          86,
          533,
          665,
          552,
          663,
          329,
          0,
          553,
          779,
          260,
          719,
          0,
          707
         ],
         "y": [
          "Student_1",
          "Student_2",
          "Student_3",
          "Student_4",
          "Student_5",
          "Student_6",
          "Student_7",
          "Student_8",
          "Student_9",
          "Student_10",
          "Student_11",
          "Student_12",
          "Student_13",
          "Student_14",
          "Student_15",
          "Student_16",
          "Student_17",
          "Student_18",
          "Student_19",
          "Student_20"
         ]
        },
        {
         "name": "Video3",
         "orientation": "h",
         "type": "bar",
         "uid": "9a58b052-e364-11e8-9d8c-a1b30045967f",
         "x": [
          810,
          370,
          242,
          805,
          953,
          0,
          898,
          671,
          408,
          0,
          1822,
          541,
          641,
          1071,
          391,
          342,
          1327,
          825,
          0,
          520
         ],
         "y": [
          "Student_1",
          "Student_2",
          "Student_3",
          "Student_4",
          "Student_5",
          "Student_6",
          "Student_7",
          "Student_8",
          "Student_9",
          "Student_10",
          "Student_11",
          "Student_12",
          "Student_13",
          "Student_14",
          "Student_15",
          "Student_16",
          "Student_17",
          "Student_18",
          "Student_19",
          "Student_20"
         ]
        },
        {
         "name": "Video4",
         "orientation": "h",
         "type": "bar",
         "uid": "9a58b0e8-e364-11e8-9d8c-a1b30045967f",
         "x": [
          722,
          0,
          319,
          0,
          748,
          605,
          0,
          112,
          313,
          240,
          0,
          0,
          390,
          102,
          63,
          526,
          311,
          443,
          33,
          0
         ],
         "y": [
          "Student_1",
          "Student_2",
          "Student_3",
          "Student_4",
          "Student_5",
          "Student_6",
          "Student_7",
          "Student_8",
          "Student_9",
          "Student_10",
          "Student_11",
          "Student_12",
          "Student_13",
          "Student_14",
          "Student_15",
          "Student_16",
          "Student_17",
          "Student_18",
          "Student_19",
          "Student_20"
         ]
        },
        {
         "name": "Video5",
         "orientation": "h",
         "type": "bar",
         "uid": "9a58b16a-e364-11e8-9d8c-a1b30045967f",
         "x": [
          203,
          312,
          0,
          0,
          0,
          439,
          426,
          304,
          194,
          375,
          0,
          368,
          300,
          525,
          836,
          567,
          761,
          77,
          52,
          148
         ],
         "y": [
          "Student_1",
          "Student_2",
          "Student_3",
          "Student_4",
          "Student_5",
          "Student_6",
          "Student_7",
          "Student_8",
          "Student_9",
          "Student_10",
          "Student_11",
          "Student_12",
          "Student_13",
          "Student_14",
          "Student_15",
          "Student_16",
          "Student_17",
          "Student_18",
          "Student_19",
          "Student_20"
         ]
        }
       ],
       "layout": {
        "barmode": "stack",
        "title": "Número de acessos aos vídeos agrupados por estudante",
        "yaxis": {
         "dtick": 1,
         "exponentformat": "e",
         "gridcolor": "#bdbdbd",
         "showexponent": "all",
         "showticklabels": true,
         "tick0": 0,
         "titlefont": {
          "color": "lightgrey",
          "family": "Arial, sans-serif"
         }
        }
       }
      },
      "text/html": [
       "<div id=\"53db79b2-7d50-4cb0-985b-4a4d06f634ed\" style=\"height: 525px; width: 100%;\" class=\"plotly-graph-div\"></div><script type=\"text/javascript\">require([\"plotly\"], function(Plotly) { window.PLOTLYENV=window.PLOTLYENV || {};window.PLOTLYENV.BASE_URL=\"https://plot.ly\";Plotly.newPlot(\"53db79b2-7d50-4cb0-985b-4a4d06f634ed\", [{\"name\": \"Video1\", \"orientation\": \"h\", \"x\": [406, 185, 42, 18, 0, 505, 0, 144, 259, 247, 358, 0, 0, 165, 354, 95, 0, 291, 184, 52], \"y\": [\"Student_1\", \"Student_2\", \"Student_3\", \"Student_4\", \"Student_5\", \"Student_6\", \"Student_7\", \"Student_8\", \"Student_9\", \"Student_10\", \"Student_11\", \"Student_12\", \"Student_13\", \"Student_14\", \"Student_15\", \"Student_16\", \"Student_17\", \"Student_18\", \"Student_19\", \"Student_20\"], \"type\": \"bar\", \"uid\": \"9a58ae0e-e364-11e8-9d8c-a1b30045967f\"}, {\"name\": \"Video2\", \"orientation\": \"h\", \"x\": [492, 406, 469, 152, 792, 0, 0, 86, 533, 665, 552, 663, 329, 0, 553, 779, 260, 719, 0, 707], \"y\": [\"Student_1\", \"Student_2\", \"Student_3\", \"Student_4\", \"Student_5\", \"Student_6\", \"Student_7\", \"Student_8\", \"Student_9\", \"Student_10\", \"Student_11\", \"Student_12\", \"Student_13\", \"Student_14\", \"Student_15\", \"Student_16\", \"Student_17\", \"Student_18\", \"Student_19\", \"Student_20\"], \"type\": \"bar\", \"uid\": \"9a58af8a-e364-11e8-9d8c-a1b30045967f\"}, {\"name\": \"Video3\", \"orientation\": \"h\", \"x\": [810, 370, 242, 805, 953, 0, 898, 671, 408, 0, 1822, 541, 641, 1071, 391, 342, 1327, 825, 0, 520], \"y\": [\"Student_1\", \"Student_2\", \"Student_3\", \"Student_4\", \"Student_5\", \"Student_6\", \"Student_7\", \"Student_8\", \"Student_9\", \"Student_10\", \"Student_11\", \"Student_12\", \"Student_13\", \"Student_14\", \"Student_15\", \"Student_16\", \"Student_17\", \"Student_18\", \"Student_19\", \"Student_20\"], \"type\": \"bar\", \"uid\": \"9a58b052-e364-11e8-9d8c-a1b30045967f\"}, {\"name\": \"Video4\", \"orientation\": \"h\", \"x\": [722, 0, 319, 0, 748, 605, 0, 112, 313, 240, 0, 0, 390, 102, 63, 526, 311, 443, 33, 0], \"y\": [\"Student_1\", \"Student_2\", \"Student_3\", \"Student_4\", \"Student_5\", \"Student_6\", \"Student_7\", \"Student_8\", \"Student_9\", \"Student_10\", \"Student_11\", \"Student_12\", \"Student_13\", \"Student_14\", \"Student_15\", \"Student_16\", \"Student_17\", \"Student_18\", \"Student_19\", \"Student_20\"], \"type\": \"bar\", \"uid\": \"9a58b0e8-e364-11e8-9d8c-a1b30045967f\"}, {\"name\": \"Video5\", \"orientation\": \"h\", \"x\": [203, 312, 0, 0, 0, 439, 426, 304, 194, 375, 0, 368, 300, 525, 836, 567, 761, 77, 52, 148], \"y\": [\"Student_1\", \"Student_2\", \"Student_3\", \"Student_4\", \"Student_5\", \"Student_6\", \"Student_7\", \"Student_8\", \"Student_9\", \"Student_10\", \"Student_11\", \"Student_12\", \"Student_13\", \"Student_14\", \"Student_15\", \"Student_16\", \"Student_17\", \"Student_18\", \"Student_19\", \"Student_20\"], \"type\": \"bar\", \"uid\": \"9a58b16a-e364-11e8-9d8c-a1b30045967f\"}], {\"barmode\": \"stack\", \"title\": \"N\\u00famero de acessos aos v\\u00eddeos agrupados por estudante\", \"yaxis\": {\"dtick\": 1, \"exponentformat\": \"e\", \"gridcolor\": \"#bdbdbd\", \"showexponent\": \"all\", \"showticklabels\": true, \"tick0\": 0, \"titlefont\": {\"color\": \"lightgrey\", \"family\": \"Arial, sans-serif\"}}}, {\"showLink\": true, \"linkText\": \"Export to plot.ly\"})});</script>"
      ],
      "text/vnd.plotly.v1+html": [
       "<div id=\"53db79b2-7d50-4cb0-985b-4a4d06f634ed\" style=\"height: 525px; width: 100%;\" class=\"plotly-graph-div\"></div><script type=\"text/javascript\">require([\"plotly\"], function(Plotly) { window.PLOTLYENV=window.PLOTLYENV || {};window.PLOTLYENV.BASE_URL=\"https://plot.ly\";Plotly.newPlot(\"53db79b2-7d50-4cb0-985b-4a4d06f634ed\", [{\"name\": \"Video1\", \"orientation\": \"h\", \"x\": [406, 185, 42, 18, 0, 505, 0, 144, 259, 247, 358, 0, 0, 165, 354, 95, 0, 291, 184, 52], \"y\": [\"Student_1\", \"Student_2\", \"Student_3\", \"Student_4\", \"Student_5\", \"Student_6\", \"Student_7\", \"Student_8\", \"Student_9\", \"Student_10\", \"Student_11\", \"Student_12\", \"Student_13\", \"Student_14\", \"Student_15\", \"Student_16\", \"Student_17\", \"Student_18\", \"Student_19\", \"Student_20\"], \"type\": \"bar\", \"uid\": \"9a58ae0e-e364-11e8-9d8c-a1b30045967f\"}, {\"name\": \"Video2\", \"orientation\": \"h\", \"x\": [492, 406, 469, 152, 792, 0, 0, 86, 533, 665, 552, 663, 329, 0, 553, 779, 260, 719, 0, 707], \"y\": [\"Student_1\", \"Student_2\", \"Student_3\", \"Student_4\", \"Student_5\", \"Student_6\", \"Student_7\", \"Student_8\", \"Student_9\", \"Student_10\", \"Student_11\", \"Student_12\", \"Student_13\", \"Student_14\", \"Student_15\", \"Student_16\", \"Student_17\", \"Student_18\", \"Student_19\", \"Student_20\"], \"type\": \"bar\", \"uid\": \"9a58af8a-e364-11e8-9d8c-a1b30045967f\"}, {\"name\": \"Video3\", \"orientation\": \"h\", \"x\": [810, 370, 242, 805, 953, 0, 898, 671, 408, 0, 1822, 541, 641, 1071, 391, 342, 1327, 825, 0, 520], \"y\": [\"Student_1\", \"Student_2\", \"Student_3\", \"Student_4\", \"Student_5\", \"Student_6\", \"Student_7\", \"Student_8\", \"Student_9\", \"Student_10\", \"Student_11\", \"Student_12\", \"Student_13\", \"Student_14\", \"Student_15\", \"Student_16\", \"Student_17\", \"Student_18\", \"Student_19\", \"Student_20\"], \"type\": \"bar\", \"uid\": \"9a58b052-e364-11e8-9d8c-a1b30045967f\"}, {\"name\": \"Video4\", \"orientation\": \"h\", \"x\": [722, 0, 319, 0, 748, 605, 0, 112, 313, 240, 0, 0, 390, 102, 63, 526, 311, 443, 33, 0], \"y\": [\"Student_1\", \"Student_2\", \"Student_3\", \"Student_4\", \"Student_5\", \"Student_6\", \"Student_7\", \"Student_8\", \"Student_9\", \"Student_10\", \"Student_11\", \"Student_12\", \"Student_13\", \"Student_14\", \"Student_15\", \"Student_16\", \"Student_17\", \"Student_18\", \"Student_19\", \"Student_20\"], \"type\": \"bar\", \"uid\": \"9a58b0e8-e364-11e8-9d8c-a1b30045967f\"}, {\"name\": \"Video5\", \"orientation\": \"h\", \"x\": [203, 312, 0, 0, 0, 439, 426, 304, 194, 375, 0, 368, 300, 525, 836, 567, 761, 77, 52, 148], \"y\": [\"Student_1\", \"Student_2\", \"Student_3\", \"Student_4\", \"Student_5\", \"Student_6\", \"Student_7\", \"Student_8\", \"Student_9\", \"Student_10\", \"Student_11\", \"Student_12\", \"Student_13\", \"Student_14\", \"Student_15\", \"Student_16\", \"Student_17\", \"Student_18\", \"Student_19\", \"Student_20\"], \"type\": \"bar\", \"uid\": \"9a58b16a-e364-11e8-9d8c-a1b30045967f\"}], {\"barmode\": \"stack\", \"title\": \"N\\u00famero de acessos aos v\\u00eddeos agrupados por estudante\", \"yaxis\": {\"dtick\": 1, \"exponentformat\": \"e\", \"gridcolor\": \"#bdbdbd\", \"showexponent\": \"all\", \"showticklabels\": true, \"tick0\": 0, \"titlefont\": {\"color\": \"lightgrey\", \"family\": \"Arial, sans-serif\"}}}, {\"showLink\": true, \"linkText\": \"Export to plot.ly\"})});</script>"
      ]
     },
     "metadata": {},
     "output_type": "display_data"
    }
   ],
   "source": [
    "run scripts/V004.py"
   ]
  },
  {
   "cell_type": "markdown",
   "metadata": {},
   "source": [
    "### View 005"
   ]
  },
  {
   "cell_type": "code",
   "execution_count": 129,
   "metadata": {
    "scrolled": false
   },
   "outputs": [
    {
     "data": {
      "text/html": [
       "<script>requirejs.config({paths: { 'plotly': ['https://cdn.plot.ly/plotly-latest.min']},});if(!window.Plotly) {{require(['plotly'],function(plotly) {window.Plotly=plotly;});}}</script>"
      ],
      "text/vnd.plotly.v1+html": [
       "<script>requirejs.config({paths: { 'plotly': ['https://cdn.plot.ly/plotly-latest.min']},});if(!window.Plotly) {{require(['plotly'],function(plotly) {window.Plotly=plotly;});}}</script>"
      ]
     },
     "metadata": {},
     "output_type": "display_data"
    },
    {
     "data": {
      "application/vnd.plotly.v1+json": {
       "data": [
        {
         "cells": {
          "align": [
           "left",
           "center"
          ],
          "fill": {
           "color": "#F5F8FF"
          },
          "values": [
           [
            "Student_1",
            "Student_2",
            "Student_3",
            "Student_4",
            "Student_5",
            "Student_6",
            "Student_7",
            "Student_8",
            "Student_9",
            "Student_10",
            "Student_11",
            "Student_12",
            "Student_13",
            "Student_14",
            "Student_15",
            "Student_16",
            "Student_17",
            "Student_18",
            "Student_19",
            "Student_20",
            "Student_21",
            "Student_22",
            "Student_23",
            "Student_24",
            "Student_25",
            "Student_26",
            "Student_27",
            "Student_28",
            "Student_29",
            "Student_30",
            "Student_31",
            "Student_32",
            "Student_33",
            "Student_34",
            "Student_35",
            "Student_36",
            "Student_37",
            "Student_38",
            "Student_39",
            "Student_40",
            "Student_41",
            "Student_42",
            "Student_43",
            "Student_44",
            "Student_45",
            "Student_46",
            "Student_47",
            "Student_48",
            "Student_49",
            "Student_50",
            "Student_51",
            "Student_52",
            "Student_53",
            "Student_54",
            "Student_55",
            "Student_56",
            "Student_57",
            "Student_58",
            "Student_59",
            "Student_60"
           ],
           [
            56,
            47,
            38,
            44,
            17,
            44,
            87,
            63,
            36,
            54,
            49,
            47,
            70,
            46,
            47,
            76,
            44,
            66,
            79,
            45,
            71,
            50,
            66,
            38,
            34,
            55,
            59,
            68,
            66,
            53,
            44,
            42,
            63,
            14,
            67,
            70,
            58,
            22,
            35,
            40,
            47,
            75,
            35,
            69,
            82,
            47,
            34,
            47,
            26,
            32,
            57,
            59,
            26,
            45,
            42,
            44,
            15,
            74,
            65,
            22
           ],
           [
            38,
            20,
            10,
            14,
            8,
            25,
            83,
            44,
            17,
            21,
            7,
            15,
            56,
            14,
            19,
            50,
            12,
            49,
            69,
            16,
            63,
            17,
            39,
            12,
            12,
            37,
            22,
            43,
            50,
            37,
            18,
            25,
            46,
            14,
            44,
            40,
            37,
            22,
            18,
            13,
            22,
            55,
            19,
            45,
            82,
            25,
            14,
            9,
            6,
            23,
            26,
            25,
            5,
            16,
            25,
            18,
            12,
            68,
            45,
            8
           ],
           [
            21,
            10,
            10,
            5,
            4,
            5,
            67,
            40,
            3,
            28,
            1,
            8,
            27,
            7,
            6,
            63,
            11,
            44,
            44,
            14,
            53,
            9,
            25,
            8,
            7,
            17,
            20,
            16,
            29,
            16,
            4,
            4,
            27,
            3,
            17,
            39,
            28,
            10,
            8,
            7,
            10,
            63,
            8,
            31,
            47,
            12,
            9,
            6,
            3,
            11,
            8,
            24,
            8,
            12,
            10,
            8,
            8,
            37,
            35,
            1
           ],
           [
            7,
            1,
            0,
            0,
            1,
            1,
            31,
            10,
            1,
            5,
            1,
            2,
            10,
            1,
            2,
            14,
            1,
            10,
            5,
            3,
            19,
            0,
            3,
            2,
            1,
            3,
            4,
            7,
            4,
            4,
            1,
            1,
            2,
            0,
            1,
            4,
            7,
            0,
            0,
            2,
            3,
            16,
            1,
            11,
            6,
            3,
            3,
            2,
            0,
            3,
            4,
            5,
            3,
            3,
            3,
            1,
            1,
            2,
            4,
            1
           ],
           [
            5,
            2,
            3,
            1,
            1,
            2,
            24,
            3,
            0,
            2,
            0,
            1,
            1,
            0,
            0,
            14,
            3,
            7,
            20,
            3,
            5,
            2,
            3,
            3,
            0,
            2,
            3,
            0,
            11,
            6,
            2,
            1,
            0,
            0,
            11,
            8,
            2,
            3,
            2,
            2,
            1,
            11,
            2,
            0,
            18,
            2,
            2,
            3,
            0,
            0,
            2,
            6,
            2,
            0,
            1,
            3,
            3,
            10,
            7,
            0
           ],
           [
            1,
            3,
            3,
            1,
            0,
            0,
            4,
            2,
            0,
            3,
            0,
            3,
            6,
            3,
            3,
            5,
            1,
            7,
            5,
            3,
            0,
            3,
            7,
            1,
            0,
            3,
            1,
            1,
            5,
            3,
            0,
            2,
            6,
            0,
            3,
            5,
            2,
            2,
            2,
            0,
            3,
            6,
            1,
            4,
            1,
            1,
            2,
            0,
            3,
            2,
            2,
            1,
            2,
            3,
            1,
            0,
            2,
            5,
            7,
            0
           ],
           [
            1,
            0,
            0,
            0,
            0,
            0,
            1,
            1,
            0,
            1,
            0,
            0,
            1,
            0,
            0,
            1,
            0,
            1,
            1,
            0,
            1,
            0,
            1,
            0,
            0,
            1,
            1,
            1,
            1,
            1,
            0,
            0,
            1,
            0,
            1,
            1,
            1,
            0,
            0,
            0,
            0,
            1,
            0,
            1,
            1,
            0,
            0,
            0,
            0,
            0,
            1,
            1,
            0,
            0,
            0,
            0,
            0,
            1,
            1,
            0
           ],
           [
            0,
            0,
            0,
            0,
            0,
            0,
            1,
            0,
            0,
            0,
            0,
            0,
            0,
            0,
            0,
            1,
            0,
            1,
            1,
            0,
            0,
            0,
            1,
            0,
            0,
            1,
            0,
            0,
            1,
            0,
            0,
            0,
            1,
            0,
            0,
            0,
            1,
            0,
            0,
            0,
            0,
            1,
            0,
            0,
            1,
            0,
            0,
            0,
            0,
            0,
            0,
            1,
            0,
            0,
            0,
            0,
            0,
            0,
            0,
            0
           ],
           [
            0,
            0,
            0,
            0,
            0,
            0,
            0,
            1,
            0,
            0,
            0,
            0,
            0,
            0,
            0,
            1,
            0,
            0,
            0,
            0,
            1,
            0,
            1,
            0,
            0,
            1,
            0,
            1,
            0,
            1,
            0,
            0,
            0,
            0,
            0,
            0,
            0,
            0,
            0,
            0,
            0,
            0,
            0,
            0,
            0,
            0,
            0,
            0,
            0,
            0,
            0,
            0,
            0,
            0,
            0,
            0,
            0,
            0,
            1,
            0
           ],
           [
            1,
            0,
            0,
            0,
            0,
            0,
            1,
            1,
            0,
            1,
            0,
            0,
            1,
            0,
            0,
            1,
            0,
            1,
            1,
            0,
            1,
            0,
            1,
            0,
            0,
            1,
            0,
            1,
            1,
            1,
            0,
            0,
            1,
            0,
            1,
            1,
            0,
            0,
            0,
            0,
            0,
            1,
            0,
            1,
            1,
            0,
            0,
            0,
            0,
            0,
            0,
            0,
            0,
            0,
            0,
            0,
            0,
            1,
            1,
            0
           ],
           [
            3,
            0,
            0,
            0,
            0,
            1,
            3,
            3,
            0,
            3,
            1,
            1,
            3,
            1,
            1,
            5,
            0,
            5,
            7,
            1,
            10,
            0,
            3,
            0,
            1,
            1,
            0,
            3,
            1,
            3,
            1,
            1,
            5,
            1,
            3,
            4,
            2,
            1,
            1,
            0,
            0,
            4,
            0,
            5,
            4,
            1,
            1,
            1,
            0,
            1,
            3,
            3,
            1,
            0,
            0,
            1,
            1,
            9,
            1,
            0
           ],
           [
            1,
            1,
            0,
            0,
            1,
            1,
            7,
            5,
            0,
            4,
            0,
            1,
            1,
            0,
            1,
            9,
            1,
            4,
            9,
            0,
            8,
            0,
            0,
            0,
            0,
            3,
            1,
            3,
            2,
            3,
            0,
            0,
            4,
            0,
            2,
            3,
            1,
            0,
            1,
            1,
            1,
            9,
            0,
            3,
            7,
            1,
            0,
            0,
            0,
            0,
            4,
            3,
            1,
            1,
            1,
            1,
            1,
            5,
            3,
            1
           ],
           [
            3,
            0,
            0,
            0,
            0,
            1,
            4,
            0,
            0,
            4,
            1,
            1,
            1,
            1,
            0,
            3,
            1,
            1,
            7,
            0,
            0,
            0,
            2,
            1,
            1,
            4,
            2,
            2,
            2,
            4,
            0,
            1,
            0,
            1,
            5,
            2,
            2,
            0,
            1,
            1,
            1,
            9,
            0,
            2,
            6,
            1,
            1,
            0,
            1,
            0,
            1,
            1,
            0,
            1,
            1,
            1,
            1,
            9,
            1,
            1
           ],
           [
            1,
            0,
            0,
            1,
            1,
            0,
            4,
            1,
            0,
            2,
            0,
            1,
            2,
            0,
            0,
            7,
            1,
            5,
            4,
            1,
            8,
            1,
            1,
            0,
            0,
            1,
            3,
            0,
            3,
            2,
            0,
            1,
            4,
            0,
            0,
            1,
            4,
            0,
            0,
            0,
            0,
            1,
            0,
            2,
            11,
            1,
            1,
            0,
            1,
            1,
            0,
            1,
            0,
            0,
            1,
            0,
            0,
            9,
            0,
            0
           ],
           [
            1,
            0,
            0,
            1,
            0,
            0,
            3,
            1,
            1,
            2,
            0,
            1,
            0,
            1,
            1,
            10,
            1,
            2,
            3,
            1,
            1,
            1,
            2,
            1,
            0,
            0,
            1,
            1,
            3,
            1,
            0,
            1,
            0,
            1,
            5,
            3,
            0,
            1,
            1,
            1,
            0,
            2,
            1,
            1,
            6,
            0,
            1,
            0,
            0,
            1,
            2,
            3,
            1,
            1,
            0,
            0,
            0,
            7,
            0,
            0
           ],
           [
            4,
            1,
            1,
            1,
            0,
            1,
            12,
            4,
            0,
            1,
            0,
            0,
            5,
            0,
            1,
            8,
            0,
            5,
            7,
            1,
            8,
            0,
            1,
            1,
            0,
            3,
            1,
            3,
            2,
            4,
            0,
            0,
            0,
            1,
            2,
            1,
            1,
            1,
            1,
            1,
            0,
            3,
            0,
            1,
            5,
            1,
            1,
            1,
            1,
            0,
            4,
            3,
            1,
            0,
            0,
            0,
            1,
            8,
            5,
            1
           ],
           [
            4,
            0,
            0,
            1,
            1,
            0,
            8,
            4,
            1,
            4,
            0,
            0,
            4,
            0,
            0,
            9,
            0,
            2,
            0,
            1,
            7,
            0,
            2,
            1,
            1,
            2,
            1,
            4,
            3,
            3,
            1,
            0,
            4,
            1,
            1,
            4,
            0,
            1,
            1,
            1,
            1,
            5,
            1,
            0,
            1,
            0,
            1,
            0,
            1,
            0,
            0,
            1,
            1,
            0,
            1,
            0,
            1,
            5,
            2,
            0
           ],
           [
            1,
            0,
            1,
            1,
            0,
            1,
            11,
            0,
            0,
            4,
            0,
            0,
            0,
            1,
            0,
            4,
            0,
            4,
            5,
            1,
            10,
            0,
            0,
            0,
            1,
            4,
            3,
            1,
            4,
            0,
            0,
            0,
            3,
            1,
            3,
            5,
            0,
            1,
            1,
            1,
            0,
            5,
            1,
            1,
            5,
            0,
            1,
            1,
            1,
            1,
            2,
            4,
            1,
            1,
            1,
            0,
            0,
            8,
            5,
            0
           ]
          ]
         },
         "header": {
          "align": "center",
          "fill": {
           "color": "#C2D4FF"
          },
          "values": [
           "Students",
           "Grade",
           "Access",
           "Forum Access",
           "Forum Post",
           "Forum Replies",
           "Forum Add Thread",
           "Assign1",
           "Assign2",
           "Assign3",
           "Assign4",
           "Video1",
           "Video2",
           "Quiz1",
           "Quiz2",
           "Pdf1",
           "Pdf2",
           "Ebook1",
           "Ebook2"
          ]
         },
         "type": "table",
         "uid": "ded7c164-e37d-11e8-9d8c-a1b30045967f"
        }
       ],
       "layout": {}
      },
      "text/html": [
       "<div id=\"504f033b-a120-49c9-8da8-5857d1987f28\" style=\"height: 525px; width: 100%;\" class=\"plotly-graph-div\"></div><script type=\"text/javascript\">require([\"plotly\"], function(Plotly) { window.PLOTLYENV=window.PLOTLYENV || {};window.PLOTLYENV.BASE_URL=\"https://plot.ly\";Plotly.newPlot(\"504f033b-a120-49c9-8da8-5857d1987f28\", [{\"cells\": {\"align\": [\"left\", \"center\"], \"fill\": {\"color\": \"#F5F8FF\"}, \"values\": [[\"Student_1\", \"Student_2\", \"Student_3\", \"Student_4\", \"Student_5\", \"Student_6\", \"Student_7\", \"Student_8\", \"Student_9\", \"Student_10\", \"Student_11\", \"Student_12\", \"Student_13\", \"Student_14\", \"Student_15\", \"Student_16\", \"Student_17\", \"Student_18\", \"Student_19\", \"Student_20\", \"Student_21\", \"Student_22\", \"Student_23\", \"Student_24\", \"Student_25\", \"Student_26\", \"Student_27\", \"Student_28\", \"Student_29\", \"Student_30\", \"Student_31\", \"Student_32\", \"Student_33\", \"Student_34\", \"Student_35\", \"Student_36\", \"Student_37\", \"Student_38\", \"Student_39\", \"Student_40\", \"Student_41\", \"Student_42\", \"Student_43\", \"Student_44\", \"Student_45\", \"Student_46\", \"Student_47\", \"Student_48\", \"Student_49\", \"Student_50\", \"Student_51\", \"Student_52\", \"Student_53\", \"Student_54\", \"Student_55\", \"Student_56\", \"Student_57\", \"Student_58\", \"Student_59\", \"Student_60\"], [56, 47, 38, 44, 17, 44, 87, 63, 36, 54, 49, 47, 70, 46, 47, 76, 44, 66, 79, 45, 71, 50, 66, 38, 34, 55, 59, 68, 66, 53, 44, 42, 63, 14, 67, 70, 58, 22, 35, 40, 47, 75, 35, 69, 82, 47, 34, 47, 26, 32, 57, 59, 26, 45, 42, 44, 15, 74, 65, 22], [38, 20, 10, 14, 8, 25, 83, 44, 17, 21, 7, 15, 56, 14, 19, 50, 12, 49, 69, 16, 63, 17, 39, 12, 12, 37, 22, 43, 50, 37, 18, 25, 46, 14, 44, 40, 37, 22, 18, 13, 22, 55, 19, 45, 82, 25, 14, 9, 6, 23, 26, 25, 5, 16, 25, 18, 12, 68, 45, 8], [21, 10, 10, 5, 4, 5, 67, 40, 3, 28, 1, 8, 27, 7, 6, 63, 11, 44, 44, 14, 53, 9, 25, 8, 7, 17, 20, 16, 29, 16, 4, 4, 27, 3, 17, 39, 28, 10, 8, 7, 10, 63, 8, 31, 47, 12, 9, 6, 3, 11, 8, 24, 8, 12, 10, 8, 8, 37, 35, 1], [7, 1, 0, 0, 1, 1, 31, 10, 1, 5, 1, 2, 10, 1, 2, 14, 1, 10, 5, 3, 19, 0, 3, 2, 1, 3, 4, 7, 4, 4, 1, 1, 2, 0, 1, 4, 7, 0, 0, 2, 3, 16, 1, 11, 6, 3, 3, 2, 0, 3, 4, 5, 3, 3, 3, 1, 1, 2, 4, 1], [5, 2, 3, 1, 1, 2, 24, 3, 0, 2, 0, 1, 1, 0, 0, 14, 3, 7, 20, 3, 5, 2, 3, 3, 0, 2, 3, 0, 11, 6, 2, 1, 0, 0, 11, 8, 2, 3, 2, 2, 1, 11, 2, 0, 18, 2, 2, 3, 0, 0, 2, 6, 2, 0, 1, 3, 3, 10, 7, 0], [1, 3, 3, 1, 0, 0, 4, 2, 0, 3, 0, 3, 6, 3, 3, 5, 1, 7, 5, 3, 0, 3, 7, 1, 0, 3, 1, 1, 5, 3, 0, 2, 6, 0, 3, 5, 2, 2, 2, 0, 3, 6, 1, 4, 1, 1, 2, 0, 3, 2, 2, 1, 2, 3, 1, 0, 2, 5, 7, 0], [1, 0, 0, 0, 0, 0, 1, 1, 0, 1, 0, 0, 1, 0, 0, 1, 0, 1, 1, 0, 1, 0, 1, 0, 0, 1, 1, 1, 1, 1, 0, 0, 1, 0, 1, 1, 1, 0, 0, 0, 0, 1, 0, 1, 1, 0, 0, 0, 0, 0, 1, 1, 0, 0, 0, 0, 0, 1, 1, 0], [0, 0, 0, 0, 0, 0, 1, 0, 0, 0, 0, 0, 0, 0, 0, 1, 0, 1, 1, 0, 0, 0, 1, 0, 0, 1, 0, 0, 1, 0, 0, 0, 1, 0, 0, 0, 1, 0, 0, 0, 0, 1, 0, 0, 1, 0, 0, 0, 0, 0, 0, 1, 0, 0, 0, 0, 0, 0, 0, 0], [0, 0, 0, 0, 0, 0, 0, 1, 0, 0, 0, 0, 0, 0, 0, 1, 0, 0, 0, 0, 1, 0, 1, 0, 0, 1, 0, 1, 0, 1, 0, 0, 0, 0, 0, 0, 0, 0, 0, 0, 0, 0, 0, 0, 0, 0, 0, 0, 0, 0, 0, 0, 0, 0, 0, 0, 0, 0, 1, 0], [1, 0, 0, 0, 0, 0, 1, 1, 0, 1, 0, 0, 1, 0, 0, 1, 0, 1, 1, 0, 1, 0, 1, 0, 0, 1, 0, 1, 1, 1, 0, 0, 1, 0, 1, 1, 0, 0, 0, 0, 0, 1, 0, 1, 1, 0, 0, 0, 0, 0, 0, 0, 0, 0, 0, 0, 0, 1, 1, 0], [3, 0, 0, 0, 0, 1, 3, 3, 0, 3, 1, 1, 3, 1, 1, 5, 0, 5, 7, 1, 10, 0, 3, 0, 1, 1, 0, 3, 1, 3, 1, 1, 5, 1, 3, 4, 2, 1, 1, 0, 0, 4, 0, 5, 4, 1, 1, 1, 0, 1, 3, 3, 1, 0, 0, 1, 1, 9, 1, 0], [1, 1, 0, 0, 1, 1, 7, 5, 0, 4, 0, 1, 1, 0, 1, 9, 1, 4, 9, 0, 8, 0, 0, 0, 0, 3, 1, 3, 2, 3, 0, 0, 4, 0, 2, 3, 1, 0, 1, 1, 1, 9, 0, 3, 7, 1, 0, 0, 0, 0, 4, 3, 1, 1, 1, 1, 1, 5, 3, 1], [3, 0, 0, 0, 0, 1, 4, 0, 0, 4, 1, 1, 1, 1, 0, 3, 1, 1, 7, 0, 0, 0, 2, 1, 1, 4, 2, 2, 2, 4, 0, 1, 0, 1, 5, 2, 2, 0, 1, 1, 1, 9, 0, 2, 6, 1, 1, 0, 1, 0, 1, 1, 0, 1, 1, 1, 1, 9, 1, 1], [1, 0, 0, 1, 1, 0, 4, 1, 0, 2, 0, 1, 2, 0, 0, 7, 1, 5, 4, 1, 8, 1, 1, 0, 0, 1, 3, 0, 3, 2, 0, 1, 4, 0, 0, 1, 4, 0, 0, 0, 0, 1, 0, 2, 11, 1, 1, 0, 1, 1, 0, 1, 0, 0, 1, 0, 0, 9, 0, 0], [1, 0, 0, 1, 0, 0, 3, 1, 1, 2, 0, 1, 0, 1, 1, 10, 1, 2, 3, 1, 1, 1, 2, 1, 0, 0, 1, 1, 3, 1, 0, 1, 0, 1, 5, 3, 0, 1, 1, 1, 0, 2, 1, 1, 6, 0, 1, 0, 0, 1, 2, 3, 1, 1, 0, 0, 0, 7, 0, 0], [4, 1, 1, 1, 0, 1, 12, 4, 0, 1, 0, 0, 5, 0, 1, 8, 0, 5, 7, 1, 8, 0, 1, 1, 0, 3, 1, 3, 2, 4, 0, 0, 0, 1, 2, 1, 1, 1, 1, 1, 0, 3, 0, 1, 5, 1, 1, 1, 1, 0, 4, 3, 1, 0, 0, 0, 1, 8, 5, 1], [4, 0, 0, 1, 1, 0, 8, 4, 1, 4, 0, 0, 4, 0, 0, 9, 0, 2, 0, 1, 7, 0, 2, 1, 1, 2, 1, 4, 3, 3, 1, 0, 4, 1, 1, 4, 0, 1, 1, 1, 1, 5, 1, 0, 1, 0, 1, 0, 1, 0, 0, 1, 1, 0, 1, 0, 1, 5, 2, 0], [1, 0, 1, 1, 0, 1, 11, 0, 0, 4, 0, 0, 0, 1, 0, 4, 0, 4, 5, 1, 10, 0, 0, 0, 1, 4, 3, 1, 4, 0, 0, 0, 3, 1, 3, 5, 0, 1, 1, 1, 0, 5, 1, 1, 5, 0, 1, 1, 1, 1, 2, 4, 1, 1, 1, 0, 0, 8, 5, 0]]}, \"header\": {\"align\": \"center\", \"fill\": {\"color\": \"#C2D4FF\"}, \"values\": [\"Students\", \"Grade\", \"Access\", \"Forum Access\", \"Forum Post\", \"Forum Replies\", \"Forum Add Thread\", \"Assign1\", \"Assign2\", \"Assign3\", \"Assign4\", \"Video1\", \"Video2\", \"Quiz1\", \"Quiz2\", \"Pdf1\", \"Pdf2\", \"Ebook1\", \"Ebook2\"]}, \"type\": \"table\", \"uid\": \"ded9bb9a-e37d-11e8-9d8c-a1b30045967f\"}], {}, {\"showLink\": true, \"linkText\": \"Export to plot.ly\"})});</script>"
      ],
      "text/vnd.plotly.v1+html": [
       "<div id=\"504f033b-a120-49c9-8da8-5857d1987f28\" style=\"height: 525px; width: 100%;\" class=\"plotly-graph-div\"></div><script type=\"text/javascript\">require([\"plotly\"], function(Plotly) { window.PLOTLYENV=window.PLOTLYENV || {};window.PLOTLYENV.BASE_URL=\"https://plot.ly\";Plotly.newPlot(\"504f033b-a120-49c9-8da8-5857d1987f28\", [{\"cells\": {\"align\": [\"left\", \"center\"], \"fill\": {\"color\": \"#F5F8FF\"}, \"values\": [[\"Student_1\", \"Student_2\", \"Student_3\", \"Student_4\", \"Student_5\", \"Student_6\", \"Student_7\", \"Student_8\", \"Student_9\", \"Student_10\", \"Student_11\", \"Student_12\", \"Student_13\", \"Student_14\", \"Student_15\", \"Student_16\", \"Student_17\", \"Student_18\", \"Student_19\", \"Student_20\", \"Student_21\", \"Student_22\", \"Student_23\", \"Student_24\", \"Student_25\", \"Student_26\", \"Student_27\", \"Student_28\", \"Student_29\", \"Student_30\", \"Student_31\", \"Student_32\", \"Student_33\", \"Student_34\", \"Student_35\", \"Student_36\", \"Student_37\", \"Student_38\", \"Student_39\", \"Student_40\", \"Student_41\", \"Student_42\", \"Student_43\", \"Student_44\", \"Student_45\", \"Student_46\", \"Student_47\", \"Student_48\", \"Student_49\", \"Student_50\", \"Student_51\", \"Student_52\", \"Student_53\", \"Student_54\", \"Student_55\", \"Student_56\", \"Student_57\", \"Student_58\", \"Student_59\", \"Student_60\"], [56, 47, 38, 44, 17, 44, 87, 63, 36, 54, 49, 47, 70, 46, 47, 76, 44, 66, 79, 45, 71, 50, 66, 38, 34, 55, 59, 68, 66, 53, 44, 42, 63, 14, 67, 70, 58, 22, 35, 40, 47, 75, 35, 69, 82, 47, 34, 47, 26, 32, 57, 59, 26, 45, 42, 44, 15, 74, 65, 22], [38, 20, 10, 14, 8, 25, 83, 44, 17, 21, 7, 15, 56, 14, 19, 50, 12, 49, 69, 16, 63, 17, 39, 12, 12, 37, 22, 43, 50, 37, 18, 25, 46, 14, 44, 40, 37, 22, 18, 13, 22, 55, 19, 45, 82, 25, 14, 9, 6, 23, 26, 25, 5, 16, 25, 18, 12, 68, 45, 8], [21, 10, 10, 5, 4, 5, 67, 40, 3, 28, 1, 8, 27, 7, 6, 63, 11, 44, 44, 14, 53, 9, 25, 8, 7, 17, 20, 16, 29, 16, 4, 4, 27, 3, 17, 39, 28, 10, 8, 7, 10, 63, 8, 31, 47, 12, 9, 6, 3, 11, 8, 24, 8, 12, 10, 8, 8, 37, 35, 1], [7, 1, 0, 0, 1, 1, 31, 10, 1, 5, 1, 2, 10, 1, 2, 14, 1, 10, 5, 3, 19, 0, 3, 2, 1, 3, 4, 7, 4, 4, 1, 1, 2, 0, 1, 4, 7, 0, 0, 2, 3, 16, 1, 11, 6, 3, 3, 2, 0, 3, 4, 5, 3, 3, 3, 1, 1, 2, 4, 1], [5, 2, 3, 1, 1, 2, 24, 3, 0, 2, 0, 1, 1, 0, 0, 14, 3, 7, 20, 3, 5, 2, 3, 3, 0, 2, 3, 0, 11, 6, 2, 1, 0, 0, 11, 8, 2, 3, 2, 2, 1, 11, 2, 0, 18, 2, 2, 3, 0, 0, 2, 6, 2, 0, 1, 3, 3, 10, 7, 0], [1, 3, 3, 1, 0, 0, 4, 2, 0, 3, 0, 3, 6, 3, 3, 5, 1, 7, 5, 3, 0, 3, 7, 1, 0, 3, 1, 1, 5, 3, 0, 2, 6, 0, 3, 5, 2, 2, 2, 0, 3, 6, 1, 4, 1, 1, 2, 0, 3, 2, 2, 1, 2, 3, 1, 0, 2, 5, 7, 0], [1, 0, 0, 0, 0, 0, 1, 1, 0, 1, 0, 0, 1, 0, 0, 1, 0, 1, 1, 0, 1, 0, 1, 0, 0, 1, 1, 1, 1, 1, 0, 0, 1, 0, 1, 1, 1, 0, 0, 0, 0, 1, 0, 1, 1, 0, 0, 0, 0, 0, 1, 1, 0, 0, 0, 0, 0, 1, 1, 0], [0, 0, 0, 0, 0, 0, 1, 0, 0, 0, 0, 0, 0, 0, 0, 1, 0, 1, 1, 0, 0, 0, 1, 0, 0, 1, 0, 0, 1, 0, 0, 0, 1, 0, 0, 0, 1, 0, 0, 0, 0, 1, 0, 0, 1, 0, 0, 0, 0, 0, 0, 1, 0, 0, 0, 0, 0, 0, 0, 0], [0, 0, 0, 0, 0, 0, 0, 1, 0, 0, 0, 0, 0, 0, 0, 1, 0, 0, 0, 0, 1, 0, 1, 0, 0, 1, 0, 1, 0, 1, 0, 0, 0, 0, 0, 0, 0, 0, 0, 0, 0, 0, 0, 0, 0, 0, 0, 0, 0, 0, 0, 0, 0, 0, 0, 0, 0, 0, 1, 0], [1, 0, 0, 0, 0, 0, 1, 1, 0, 1, 0, 0, 1, 0, 0, 1, 0, 1, 1, 0, 1, 0, 1, 0, 0, 1, 0, 1, 1, 1, 0, 0, 1, 0, 1, 1, 0, 0, 0, 0, 0, 1, 0, 1, 1, 0, 0, 0, 0, 0, 0, 0, 0, 0, 0, 0, 0, 1, 1, 0], [3, 0, 0, 0, 0, 1, 3, 3, 0, 3, 1, 1, 3, 1, 1, 5, 0, 5, 7, 1, 10, 0, 3, 0, 1, 1, 0, 3, 1, 3, 1, 1, 5, 1, 3, 4, 2, 1, 1, 0, 0, 4, 0, 5, 4, 1, 1, 1, 0, 1, 3, 3, 1, 0, 0, 1, 1, 9, 1, 0], [1, 1, 0, 0, 1, 1, 7, 5, 0, 4, 0, 1, 1, 0, 1, 9, 1, 4, 9, 0, 8, 0, 0, 0, 0, 3, 1, 3, 2, 3, 0, 0, 4, 0, 2, 3, 1, 0, 1, 1, 1, 9, 0, 3, 7, 1, 0, 0, 0, 0, 4, 3, 1, 1, 1, 1, 1, 5, 3, 1], [3, 0, 0, 0, 0, 1, 4, 0, 0, 4, 1, 1, 1, 1, 0, 3, 1, 1, 7, 0, 0, 0, 2, 1, 1, 4, 2, 2, 2, 4, 0, 1, 0, 1, 5, 2, 2, 0, 1, 1, 1, 9, 0, 2, 6, 1, 1, 0, 1, 0, 1, 1, 0, 1, 1, 1, 1, 9, 1, 1], [1, 0, 0, 1, 1, 0, 4, 1, 0, 2, 0, 1, 2, 0, 0, 7, 1, 5, 4, 1, 8, 1, 1, 0, 0, 1, 3, 0, 3, 2, 0, 1, 4, 0, 0, 1, 4, 0, 0, 0, 0, 1, 0, 2, 11, 1, 1, 0, 1, 1, 0, 1, 0, 0, 1, 0, 0, 9, 0, 0], [1, 0, 0, 1, 0, 0, 3, 1, 1, 2, 0, 1, 0, 1, 1, 10, 1, 2, 3, 1, 1, 1, 2, 1, 0, 0, 1, 1, 3, 1, 0, 1, 0, 1, 5, 3, 0, 1, 1, 1, 0, 2, 1, 1, 6, 0, 1, 0, 0, 1, 2, 3, 1, 1, 0, 0, 0, 7, 0, 0], [4, 1, 1, 1, 0, 1, 12, 4, 0, 1, 0, 0, 5, 0, 1, 8, 0, 5, 7, 1, 8, 0, 1, 1, 0, 3, 1, 3, 2, 4, 0, 0, 0, 1, 2, 1, 1, 1, 1, 1, 0, 3, 0, 1, 5, 1, 1, 1, 1, 0, 4, 3, 1, 0, 0, 0, 1, 8, 5, 1], [4, 0, 0, 1, 1, 0, 8, 4, 1, 4, 0, 0, 4, 0, 0, 9, 0, 2, 0, 1, 7, 0, 2, 1, 1, 2, 1, 4, 3, 3, 1, 0, 4, 1, 1, 4, 0, 1, 1, 1, 1, 5, 1, 0, 1, 0, 1, 0, 1, 0, 0, 1, 1, 0, 1, 0, 1, 5, 2, 0], [1, 0, 1, 1, 0, 1, 11, 0, 0, 4, 0, 0, 0, 1, 0, 4, 0, 4, 5, 1, 10, 0, 0, 0, 1, 4, 3, 1, 4, 0, 0, 0, 3, 1, 3, 5, 0, 1, 1, 1, 0, 5, 1, 1, 5, 0, 1, 1, 1, 1, 2, 4, 1, 1, 1, 0, 0, 8, 5, 0]]}, \"header\": {\"align\": \"center\", \"fill\": {\"color\": \"#C2D4FF\"}, \"values\": [\"Students\", \"Grade\", \"Access\", \"Forum Access\", \"Forum Post\", \"Forum Replies\", \"Forum Add Thread\", \"Assign1\", \"Assign2\", \"Assign3\", \"Assign4\", \"Video1\", \"Video2\", \"Quiz1\", \"Quiz2\", \"Pdf1\", \"Pdf2\", \"Ebook1\", \"Ebook2\"]}, \"type\": \"table\", \"uid\": \"ded9bb9a-e37d-11e8-9d8c-a1b30045967f\"}], {}, {\"showLink\": true, \"linkText\": \"Export to plot.ly\"})});</script>"
      ]
     },
     "metadata": {},
     "output_type": "display_data"
    },
    {
     "data": {
      "application/vnd.plotly.v1+json": {
       "data": [
        {
         "marker": {
          "color": "rgb(255,0,0)",
          "colorscale": "Viridis",
          "line": {
           "width": 2
          },
          "size": 12,
          "symbol": 0
         },
         "mode": "markers",
         "name": "Student_1",
         "text": [
          "Student_1"
         ],
         "type": "scatter",
         "uid": "df173aa6-e37d-11e8-9d8c-a1b30045967f",
         "x": [
          38
         ],
         "y": [
          56
         ]
        },
        {
         "marker": {
          "color": "rgb(0,255,0)",
          "colorscale": "Viridis",
          "line": {
           "width": 2
          },
          "size": 12,
          "symbol": 3
         },
         "mode": "markers",
         "name": "Student_2",
         "text": [
          "Student_2"
         ],
         "type": "scatter",
         "uid": "df173c2c-e37d-11e8-9d8c-a1b30045967f",
         "x": [
          20
         ],
         "y": [
          47
         ]
        },
        {
         "marker": {
          "color": "rgb(0,255,0)",
          "colorscale": "Viridis",
          "line": {
           "width": 2
          },
          "size": 12,
          "symbol": 3
         },
         "mode": "markers",
         "name": "Student_3",
         "text": [
          "Student_3"
         ],
         "type": "scatter",
         "uid": "df173ce0-e37d-11e8-9d8c-a1b30045967f",
         "x": [
          10
         ],
         "y": [
          38
         ]
        },
        {
         "marker": {
          "color": "rgb(0,255,0)",
          "colorscale": "Viridis",
          "line": {
           "width": 2
          },
          "size": 12,
          "symbol": 3
         },
         "mode": "markers",
         "name": "Student_4",
         "text": [
          "Student_4"
         ],
         "type": "scatter",
         "uid": "df173d6c-e37d-11e8-9d8c-a1b30045967f",
         "x": [
          14
         ],
         "y": [
          44
         ]
        },
        {
         "marker": {
          "color": "rgb(255,255,255)",
          "colorscale": "Viridis",
          "line": {
           "width": 2
          },
          "size": 12,
          "symbol": 2
         },
         "mode": "markers",
         "name": "Student_5",
         "text": [
          "Student_5"
         ],
         "type": "scatter",
         "uid": "df173df8-e37d-11e8-9d8c-a1b30045967f",
         "x": [
          8
         ],
         "y": [
          17
         ]
        },
        {
         "marker": {
          "color": "rgb(0,255,0)",
          "colorscale": "Viridis",
          "line": {
           "width": 2
          },
          "size": 12,
          "symbol": 3
         },
         "mode": "markers",
         "name": "Student_6",
         "text": [
          "Student_6"
         ],
         "type": "scatter",
         "uid": "df173e70-e37d-11e8-9d8c-a1b30045967f",
         "x": [
          25
         ],
         "y": [
          44
         ]
        },
        {
         "marker": {
          "color": "rgb(0,0,255)",
          "colorscale": "Viridis",
          "line": {
           "width": 2
          },
          "size": 12,
          "symbol": 1
         },
         "mode": "markers",
         "name": "Student_7",
         "text": [
          "Student_7"
         ],
         "type": "scatter",
         "uid": "df173ef2-e37d-11e8-9d8c-a1b30045967f",
         "x": [
          83
         ],
         "y": [
          87
         ]
        },
        {
         "marker": {
          "color": "rgb(255,0,0)",
          "colorscale": "Viridis",
          "line": {
           "width": 2
          },
          "size": 12,
          "symbol": 0
         },
         "mode": "markers",
         "name": "Student_8",
         "text": [
          "Student_8"
         ],
         "type": "scatter",
         "uid": "df173f6a-e37d-11e8-9d8c-a1b30045967f",
         "x": [
          44
         ],
         "y": [
          63
         ]
        },
        {
         "marker": {
          "color": "rgb(0,255,0)",
          "colorscale": "Viridis",
          "line": {
           "width": 2
          },
          "size": 12,
          "symbol": 3
         },
         "mode": "markers",
         "name": "Student_9",
         "text": [
          "Student_9"
         ],
         "type": "scatter",
         "uid": "df173fe2-e37d-11e8-9d8c-a1b30045967f",
         "x": [
          17
         ],
         "y": [
          36
         ]
        },
        {
         "marker": {
          "color": "rgb(255,0,0)",
          "colorscale": "Viridis",
          "line": {
           "width": 2
          },
          "size": 12,
          "symbol": 0
         },
         "mode": "markers",
         "name": "Student_10",
         "text": [
          "Student_10"
         ],
         "type": "scatter",
         "uid": "df17405a-e37d-11e8-9d8c-a1b30045967f",
         "x": [
          21
         ],
         "y": [
          54
         ]
        },
        {
         "marker": {
          "color": "rgb(0,255,0)",
          "colorscale": "Viridis",
          "line": {
           "width": 2
          },
          "size": 12,
          "symbol": 3
         },
         "mode": "markers",
         "name": "Student_11",
         "text": [
          "Student_11"
         ],
         "type": "scatter",
         "uid": "df1740dc-e37d-11e8-9d8c-a1b30045967f",
         "x": [
          7
         ],
         "y": [
          49
         ]
        },
        {
         "marker": {
          "color": "rgb(0,255,0)",
          "colorscale": "Viridis",
          "line": {
           "width": 2
          },
          "size": 12,
          "symbol": 3
         },
         "mode": "markers",
         "name": "Student_12",
         "text": [
          "Student_12"
         ],
         "type": "scatter",
         "uid": "df174154-e37d-11e8-9d8c-a1b30045967f",
         "x": [
          15
         ],
         "y": [
          47
         ]
        },
        {
         "marker": {
          "color": "rgb(255,0,0)",
          "colorscale": "Viridis",
          "line": {
           "width": 2
          },
          "size": 12,
          "symbol": 0
         },
         "mode": "markers",
         "name": "Student_13",
         "text": [
          "Student_13"
         ],
         "type": "scatter",
         "uid": "df1741cc-e37d-11e8-9d8c-a1b30045967f",
         "x": [
          56
         ],
         "y": [
          70
         ]
        },
        {
         "marker": {
          "color": "rgb(0,255,0)",
          "colorscale": "Viridis",
          "line": {
           "width": 2
          },
          "size": 12,
          "symbol": 3
         },
         "mode": "markers",
         "name": "Student_14",
         "text": [
          "Student_14"
         ],
         "type": "scatter",
         "uid": "df17424e-e37d-11e8-9d8c-a1b30045967f",
         "x": [
          14
         ],
         "y": [
          46
         ]
        },
        {
         "marker": {
          "color": "rgb(0,255,0)",
          "colorscale": "Viridis",
          "line": {
           "width": 2
          },
          "size": 12,
          "symbol": 3
         },
         "mode": "markers",
         "name": "Student_15",
         "text": [
          "Student_15"
         ],
         "type": "scatter",
         "uid": "df1742c6-e37d-11e8-9d8c-a1b30045967f",
         "x": [
          19
         ],
         "y": [
          47
         ]
        },
        {
         "marker": {
          "color": "rgb(0,0,255)",
          "colorscale": "Viridis",
          "line": {
           "width": 2
          },
          "size": 12,
          "symbol": 1
         },
         "mode": "markers",
         "name": "Student_16",
         "text": [
          "Student_16"
         ],
         "type": "scatter",
         "uid": "df17433e-e37d-11e8-9d8c-a1b30045967f",
         "x": [
          50
         ],
         "y": [
          76
         ]
        },
        {
         "marker": {
          "color": "rgb(0,255,0)",
          "colorscale": "Viridis",
          "line": {
           "width": 2
          },
          "size": 12,
          "symbol": 3
         },
         "mode": "markers",
         "name": "Student_17",
         "text": [
          "Student_17"
         ],
         "type": "scatter",
         "uid": "df1743c0-e37d-11e8-9d8c-a1b30045967f",
         "x": [
          12
         ],
         "y": [
          44
         ]
        },
        {
         "marker": {
          "color": "rgb(255,0,0)",
          "colorscale": "Viridis",
          "line": {
           "width": 2
          },
          "size": 12,
          "symbol": 0
         },
         "mode": "markers",
         "name": "Student_18",
         "text": [
          "Student_18"
         ],
         "type": "scatter",
         "uid": "df174438-e37d-11e8-9d8c-a1b30045967f",
         "x": [
          49
         ],
         "y": [
          66
         ]
        },
        {
         "marker": {
          "color": "rgb(0,0,255)",
          "colorscale": "Viridis",
          "line": {
           "width": 2
          },
          "size": 12,
          "symbol": 1
         },
         "mode": "markers",
         "name": "Student_19",
         "text": [
          "Student_19"
         ],
         "type": "scatter",
         "uid": "df1744b0-e37d-11e8-9d8c-a1b30045967f",
         "x": [
          69
         ],
         "y": [
          79
         ]
        },
        {
         "marker": {
          "color": "rgb(0,255,0)",
          "colorscale": "Viridis",
          "line": {
           "width": 2
          },
          "size": 12,
          "symbol": 3
         },
         "mode": "markers",
         "name": "Student_20",
         "text": [
          "Student_20"
         ],
         "type": "scatter",
         "uid": "df174528-e37d-11e8-9d8c-a1b30045967f",
         "x": [
          16
         ],
         "y": [
          45
         ]
        },
        {
         "marker": {
          "color": "rgb(0,0,255)",
          "colorscale": "Viridis",
          "line": {
           "width": 2
          },
          "size": 12,
          "symbol": 1
         },
         "mode": "markers",
         "name": "Student_21",
         "text": [
          "Student_21"
         ],
         "type": "scatter",
         "uid": "df1745aa-e37d-11e8-9d8c-a1b30045967f",
         "x": [
          63
         ],
         "y": [
          71
         ]
        },
        {
         "marker": {
          "color": "rgb(0,255,0)",
          "colorscale": "Viridis",
          "line": {
           "width": 2
          },
          "size": 12,
          "symbol": 3
         },
         "mode": "markers",
         "name": "Student_22",
         "text": [
          "Student_22"
         ],
         "type": "scatter",
         "uid": "df174622-e37d-11e8-9d8c-a1b30045967f",
         "x": [
          17
         ],
         "y": [
          50
         ]
        },
        {
         "marker": {
          "color": "rgb(255,0,0)",
          "colorscale": "Viridis",
          "line": {
           "width": 2
          },
          "size": 12,
          "symbol": 0
         },
         "mode": "markers",
         "name": "Student_23",
         "text": [
          "Student_23"
         ],
         "type": "scatter",
         "uid": "df1746a4-e37d-11e8-9d8c-a1b30045967f",
         "x": [
          39
         ],
         "y": [
          66
         ]
        },
        {
         "marker": {
          "color": "rgb(0,255,0)",
          "colorscale": "Viridis",
          "line": {
           "width": 2
          },
          "size": 12,
          "symbol": 3
         },
         "mode": "markers",
         "name": "Student_24",
         "text": [
          "Student_24"
         ],
         "type": "scatter",
         "uid": "df17471c-e37d-11e8-9d8c-a1b30045967f",
         "x": [
          12
         ],
         "y": [
          38
         ]
        },
        {
         "marker": {
          "color": "rgb(0,255,0)",
          "colorscale": "Viridis",
          "line": {
           "width": 2
          },
          "size": 12,
          "symbol": 3
         },
         "mode": "markers",
         "name": "Student_25",
         "text": [
          "Student_25"
         ],
         "type": "scatter",
         "uid": "df174794-e37d-11e8-9d8c-a1b30045967f",
         "x": [
          12
         ],
         "y": [
          34
         ]
        },
        {
         "marker": {
          "color": "rgb(255,0,0)",
          "colorscale": "Viridis",
          "line": {
           "width": 2
          },
          "size": 12,
          "symbol": 0
         },
         "mode": "markers",
         "name": "Student_26",
         "text": [
          "Student_26"
         ],
         "type": "scatter",
         "uid": "df174802-e37d-11e8-9d8c-a1b30045967f",
         "x": [
          37
         ],
         "y": [
          55
         ]
        },
        {
         "marker": {
          "color": "rgb(255,0,0)",
          "colorscale": "Viridis",
          "line": {
           "width": 2
          },
          "size": 12,
          "symbol": 0
         },
         "mode": "markers",
         "name": "Student_27",
         "text": [
          "Student_27"
         ],
         "type": "scatter",
         "uid": "df17487a-e37d-11e8-9d8c-a1b30045967f",
         "x": [
          22
         ],
         "y": [
          59
         ]
        },
        {
         "marker": {
          "color": "rgb(255,0,0)",
          "colorscale": "Viridis",
          "line": {
           "width": 2
          },
          "size": 12,
          "symbol": 0
         },
         "mode": "markers",
         "name": "Student_28",
         "text": [
          "Student_28"
         ],
         "type": "scatter",
         "uid": "df1748f2-e37d-11e8-9d8c-a1b30045967f",
         "x": [
          43
         ],
         "y": [
          68
         ]
        },
        {
         "marker": {
          "color": "rgb(255,0,0)",
          "colorscale": "Viridis",
          "line": {
           "width": 2
          },
          "size": 12,
          "symbol": 0
         },
         "mode": "markers",
         "name": "Student_29",
         "text": [
          "Student_29"
         ],
         "type": "scatter",
         "uid": "df17496a-e37d-11e8-9d8c-a1b30045967f",
         "x": [
          50
         ],
         "y": [
          66
         ]
        },
        {
         "marker": {
          "color": "rgb(255,0,0)",
          "colorscale": "Viridis",
          "line": {
           "width": 2
          },
          "size": 12,
          "symbol": 0
         },
         "mode": "markers",
         "name": "Student_30",
         "text": [
          "Student_30"
         ],
         "type": "scatter",
         "uid": "df1749e2-e37d-11e8-9d8c-a1b30045967f",
         "x": [
          37
         ],
         "y": [
          53
         ]
        },
        {
         "marker": {
          "color": "rgb(0,255,0)",
          "colorscale": "Viridis",
          "line": {
           "width": 2
          },
          "size": 12,
          "symbol": 3
         },
         "mode": "markers",
         "name": "Student_31",
         "text": [
          "Student_31"
         ],
         "type": "scatter",
         "uid": "df174a5a-e37d-11e8-9d8c-a1b30045967f",
         "x": [
          18
         ],
         "y": [
          44
         ]
        },
        {
         "marker": {
          "color": "rgb(0,255,0)",
          "colorscale": "Viridis",
          "line": {
           "width": 2
          },
          "size": 12,
          "symbol": 3
         },
         "mode": "markers",
         "name": "Student_32",
         "text": [
          "Student_32"
         ],
         "type": "scatter",
         "uid": "df174ac8-e37d-11e8-9d8c-a1b30045967f",
         "x": [
          25
         ],
         "y": [
          42
         ]
        },
        {
         "marker": {
          "color": "rgb(255,0,0)",
          "colorscale": "Viridis",
          "line": {
           "width": 2
          },
          "size": 12,
          "symbol": 0
         },
         "mode": "markers",
         "name": "Student_33",
         "text": [
          "Student_33"
         ],
         "type": "scatter",
         "uid": "df174b40-e37d-11e8-9d8c-a1b30045967f",
         "x": [
          46
         ],
         "y": [
          63
         ]
        },
        {
         "marker": {
          "color": "rgb(255,255,255)",
          "colorscale": "Viridis",
          "line": {
           "width": 2
          },
          "size": 12,
          "symbol": 2
         },
         "mode": "markers",
         "name": "Student_34",
         "text": [
          "Student_34"
         ],
         "type": "scatter",
         "uid": "df174bb8-e37d-11e8-9d8c-a1b30045967f",
         "x": [
          14
         ],
         "y": [
          14
         ]
        },
        {
         "marker": {
          "color": "rgb(255,0,0)",
          "colorscale": "Viridis",
          "line": {
           "width": 2
          },
          "size": 12,
          "symbol": 0
         },
         "mode": "markers",
         "name": "Student_35",
         "text": [
          "Student_35"
         ],
         "type": "scatter",
         "uid": "df174c3a-e37d-11e8-9d8c-a1b30045967f",
         "x": [
          44
         ],
         "y": [
          67
         ]
        },
        {
         "marker": {
          "color": "rgb(255,0,0)",
          "colorscale": "Viridis",
          "line": {
           "width": 2
          },
          "size": 12,
          "symbol": 0
         },
         "mode": "markers",
         "name": "Student_36",
         "text": [
          "Student_36"
         ],
         "type": "scatter",
         "uid": "df174cb2-e37d-11e8-9d8c-a1b30045967f",
         "x": [
          40
         ],
         "y": [
          70
         ]
        },
        {
         "marker": {
          "color": "rgb(255,0,0)",
          "colorscale": "Viridis",
          "line": {
           "width": 2
          },
          "size": 12,
          "symbol": 0
         },
         "mode": "markers",
         "name": "Student_37",
         "text": [
          "Student_37"
         ],
         "type": "scatter",
         "uid": "df174d2a-e37d-11e8-9d8c-a1b30045967f",
         "x": [
          37
         ],
         "y": [
          58
         ]
        },
        {
         "marker": {
          "color": "rgb(255,255,255)",
          "colorscale": "Viridis",
          "line": {
           "width": 2
          },
          "size": 12,
          "symbol": 2
         },
         "mode": "markers",
         "name": "Student_38",
         "text": [
          "Student_38"
         ],
         "type": "scatter",
         "uid": "df174da2-e37d-11e8-9d8c-a1b30045967f",
         "x": [
          22
         ],
         "y": [
          22
         ]
        },
        {
         "marker": {
          "color": "rgb(0,255,0)",
          "colorscale": "Viridis",
          "line": {
           "width": 2
          },
          "size": 12,
          "symbol": 3
         },
         "mode": "markers",
         "name": "Student_39",
         "text": [
          "Student_39"
         ],
         "type": "scatter",
         "uid": "df174e1a-e37d-11e8-9d8c-a1b30045967f",
         "x": [
          18
         ],
         "y": [
          35
         ]
        },
        {
         "marker": {
          "color": "rgb(0,255,0)",
          "colorscale": "Viridis",
          "line": {
           "width": 2
          },
          "size": 12,
          "symbol": 3
         },
         "mode": "markers",
         "name": "Student_40",
         "text": [
          "Student_40"
         ],
         "type": "scatter",
         "uid": "df174e9c-e37d-11e8-9d8c-a1b30045967f",
         "x": [
          13
         ],
         "y": [
          40
         ]
        },
        {
         "marker": {
          "color": "rgb(0,255,0)",
          "colorscale": "Viridis",
          "line": {
           "width": 2
          },
          "size": 12,
          "symbol": 3
         },
         "mode": "markers",
         "name": "Student_41",
         "text": [
          "Student_41"
         ],
         "type": "scatter",
         "uid": "df174f0a-e37d-11e8-9d8c-a1b30045967f",
         "x": [
          22
         ],
         "y": [
          47
         ]
        },
        {
         "marker": {
          "color": "rgb(0,0,255)",
          "colorscale": "Viridis",
          "line": {
           "width": 2
          },
          "size": 12,
          "symbol": 1
         },
         "mode": "markers",
         "name": "Student_42",
         "text": [
          "Student_42"
         ],
         "type": "scatter",
         "uid": "df174f82-e37d-11e8-9d8c-a1b30045967f",
         "x": [
          55
         ],
         "y": [
          75
         ]
        },
        {
         "marker": {
          "color": "rgb(0,255,0)",
          "colorscale": "Viridis",
          "line": {
           "width": 2
          },
          "size": 12,
          "symbol": 3
         },
         "mode": "markers",
         "name": "Student_43",
         "text": [
          "Student_43"
         ],
         "type": "scatter",
         "uid": "df174ff0-e37d-11e8-9d8c-a1b30045967f",
         "x": [
          19
         ],
         "y": [
          35
         ]
        },
        {
         "marker": {
          "color": "rgb(255,0,0)",
          "colorscale": "Viridis",
          "line": {
           "width": 2
          },
          "size": 12,
          "symbol": 0
         },
         "mode": "markers",
         "name": "Student_44",
         "text": [
          "Student_44"
         ],
         "type": "scatter",
         "uid": "df175068-e37d-11e8-9d8c-a1b30045967f",
         "x": [
          45
         ],
         "y": [
          69
         ]
        },
        {
         "marker": {
          "color": "rgb(0,0,255)",
          "colorscale": "Viridis",
          "line": {
           "width": 2
          },
          "size": 12,
          "symbol": 1
         },
         "mode": "markers",
         "name": "Student_45",
         "text": [
          "Student_45"
         ],
         "type": "scatter",
         "uid": "df1750e0-e37d-11e8-9d8c-a1b30045967f",
         "x": [
          82
         ],
         "y": [
          82
         ]
        },
        {
         "marker": {
          "color": "rgb(0,255,0)",
          "colorscale": "Viridis",
          "line": {
           "width": 2
          },
          "size": 12,
          "symbol": 3
         },
         "mode": "markers",
         "name": "Student_46",
         "text": [
          "Student_46"
         ],
         "type": "scatter",
         "uid": "df17514e-e37d-11e8-9d8c-a1b30045967f",
         "x": [
          25
         ],
         "y": [
          47
         ]
        },
        {
         "marker": {
          "color": "rgb(0,255,0)",
          "colorscale": "Viridis",
          "line": {
           "width": 2
          },
          "size": 12,
          "symbol": 3
         },
         "mode": "markers",
         "name": "Student_47",
         "text": [
          "Student_47"
         ],
         "type": "scatter",
         "uid": "df1751bc-e37d-11e8-9d8c-a1b30045967f",
         "x": [
          14
         ],
         "y": [
          34
         ]
        },
        {
         "marker": {
          "color": "rgb(0,255,0)",
          "colorscale": "Viridis",
          "line": {
           "width": 2
          },
          "size": 12,
          "symbol": 3
         },
         "mode": "markers",
         "name": "Student_48",
         "text": [
          "Student_48"
         ],
         "type": "scatter",
         "uid": "df17522a-e37d-11e8-9d8c-a1b30045967f",
         "x": [
          9
         ],
         "y": [
          47
         ]
        },
        {
         "marker": {
          "color": "rgb(255,255,255)",
          "colorscale": "Viridis",
          "line": {
           "width": 2
          },
          "size": 12,
          "symbol": 2
         },
         "mode": "markers",
         "name": "Student_49",
         "text": [
          "Student_49"
         ],
         "type": "scatter",
         "uid": "df1752a2-e37d-11e8-9d8c-a1b30045967f",
         "x": [
          6
         ],
         "y": [
          26
         ]
        },
        {
         "marker": {
          "color": "rgb(0,255,0)",
          "colorscale": "Viridis",
          "line": {
           "width": 2
          },
          "size": 12,
          "symbol": 3
         },
         "mode": "markers",
         "name": "Student_50",
         "text": [
          "Student_50"
         ],
         "type": "scatter",
         "uid": "df17531a-e37d-11e8-9d8c-a1b30045967f",
         "x": [
          23
         ],
         "y": [
          32
         ]
        },
        {
         "marker": {
          "color": "rgb(0,255,0)",
          "colorscale": "Viridis",
          "line": {
           "width": 2
          },
          "size": 12,
          "symbol": 3
         },
         "mode": "markers",
         "name": "Student_51",
         "text": [
          "Student_51"
         ],
         "type": "scatter",
         "uid": "df175392-e37d-11e8-9d8c-a1b30045967f",
         "x": [
          26
         ],
         "y": [
          57
         ]
        },
        {
         "marker": {
          "color": "rgb(255,0,0)",
          "colorscale": "Viridis",
          "line": {
           "width": 2
          },
          "size": 12,
          "symbol": 0
         },
         "mode": "markers",
         "name": "Student_52",
         "text": [
          "Student_52"
         ],
         "type": "scatter",
         "uid": "df175400-e37d-11e8-9d8c-a1b30045967f",
         "x": [
          25
         ],
         "y": [
          59
         ]
        },
        {
         "marker": {
          "color": "rgb(255,255,255)",
          "colorscale": "Viridis",
          "line": {
           "width": 2
          },
          "size": 12,
          "symbol": 2
         },
         "mode": "markers",
         "name": "Student_53",
         "text": [
          "Student_53"
         ],
         "type": "scatter",
         "uid": "df17546e-e37d-11e8-9d8c-a1b30045967f",
         "x": [
          5
         ],
         "y": [
          26
         ]
        },
        {
         "marker": {
          "color": "rgb(0,255,0)",
          "colorscale": "Viridis",
          "line": {
           "width": 2
          },
          "size": 12,
          "symbol": 3
         },
         "mode": "markers",
         "name": "Student_54",
         "text": [
          "Student_54"
         ],
         "type": "scatter",
         "uid": "df1754e6-e37d-11e8-9d8c-a1b30045967f",
         "x": [
          16
         ],
         "y": [
          45
         ]
        },
        {
         "marker": {
          "color": "rgb(0,255,0)",
          "colorscale": "Viridis",
          "line": {
           "width": 2
          },
          "size": 12,
          "symbol": 3
         },
         "mode": "markers",
         "name": "Student_55",
         "text": [
          "Student_55"
         ],
         "type": "scatter",
         "uid": "df175554-e37d-11e8-9d8c-a1b30045967f",
         "x": [
          25
         ],
         "y": [
          42
         ]
        },
        {
         "marker": {
          "color": "rgb(0,255,0)",
          "colorscale": "Viridis",
          "line": {
           "width": 2
          },
          "size": 12,
          "symbol": 3
         },
         "mode": "markers",
         "name": "Student_56",
         "text": [
          "Student_56"
         ],
         "type": "scatter",
         "uid": "df1755c2-e37d-11e8-9d8c-a1b30045967f",
         "x": [
          18
         ],
         "y": [
          44
         ]
        },
        {
         "marker": {
          "color": "rgb(255,255,255)",
          "colorscale": "Viridis",
          "line": {
           "width": 2
          },
          "size": 12,
          "symbol": 2
         },
         "mode": "markers",
         "name": "Student_57",
         "text": [
          "Student_57"
         ],
         "type": "scatter",
         "uid": "df175630-e37d-11e8-9d8c-a1b30045967f",
         "x": [
          12
         ],
         "y": [
          15
         ]
        },
        {
         "marker": {
          "color": "rgb(0,0,255)",
          "colorscale": "Viridis",
          "line": {
           "width": 2
          },
          "size": 12,
          "symbol": 1
         },
         "mode": "markers",
         "name": "Student_58",
         "text": [
          "Student_58"
         ],
         "type": "scatter",
         "uid": "df175694-e37d-11e8-9d8c-a1b30045967f",
         "x": [
          68
         ],
         "y": [
          74
         ]
        },
        {
         "marker": {
          "color": "rgb(255,0,0)",
          "colorscale": "Viridis",
          "line": {
           "width": 2
          },
          "size": 12,
          "symbol": 0
         },
         "mode": "markers",
         "name": "Student_59",
         "text": [
          "Student_59"
         ],
         "type": "scatter",
         "uid": "df175702-e37d-11e8-9d8c-a1b30045967f",
         "x": [
          45
         ],
         "y": [
          65
         ]
        },
        {
         "marker": {
          "color": "rgb(255,255,255)",
          "colorscale": "Viridis",
          "line": {
           "width": 2
          },
          "size": 12,
          "symbol": 2
         },
         "mode": "markers",
         "name": "Student_60",
         "text": [
          "Student_60"
         ],
         "type": "scatter",
         "uid": "df175766-e37d-11e8-9d8c-a1b30045967f",
         "x": [
          8
         ],
         "y": [
          22
         ]
        }
       ],
       "layout": {
        "hovermode": "closest",
        "showlegend": true,
        "title": "Notas dos estudantes vs acesso ao AVA",
        "xaxis": {
         "autorange": false,
         "fixedrange": false,
         "range": [
          0,
          93
         ],
         "rangemode": "normal",
         "showline": true,
         "title": "Acessos ao AVA",
         "zeroline": false
        },
        "yaxis": {
         "autorange": false,
         "fixedrange": false,
         "range": [
          0,
          97
         ],
         "rangemode": "normal",
         "showline": true,
         "title": "Notas"
        }
       }
      },
      "text/html": [
       "<div id=\"01468818-8c76-4636-af92-412f7daaf532\" style=\"height: 525px; width: 100%;\" class=\"plotly-graph-div\"></div><script type=\"text/javascript\">require([\"plotly\"], function(Plotly) { window.PLOTLYENV=window.PLOTLYENV || {};window.PLOTLYENV.BASE_URL=\"https://plot.ly\";Plotly.newPlot(\"01468818-8c76-4636-af92-412f7daaf532\", [{\"marker\": {\"color\": \"rgb(255,0,0)\", \"colorscale\": \"Viridis\", \"line\": {\"width\": 2}, \"size\": 12, \"symbol\": 0}, \"mode\": \"markers\", \"name\": \"Student_1\", \"text\": [\"Student_1\"], \"x\": [38], \"y\": [56], \"type\": \"scatter\", \"uid\": \"df173aa6-e37d-11e8-9d8c-a1b30045967f\"}, {\"marker\": {\"color\": \"rgb(0,255,0)\", \"colorscale\": \"Viridis\", \"line\": {\"width\": 2}, \"size\": 12, \"symbol\": 3}, \"mode\": \"markers\", \"name\": \"Student_2\", \"text\": [\"Student_2\"], \"x\": [20], \"y\": [47], \"type\": \"scatter\", \"uid\": \"df173c2c-e37d-11e8-9d8c-a1b30045967f\"}, {\"marker\": {\"color\": \"rgb(0,255,0)\", \"colorscale\": \"Viridis\", \"line\": {\"width\": 2}, \"size\": 12, \"symbol\": 3}, \"mode\": \"markers\", \"name\": \"Student_3\", \"text\": [\"Student_3\"], \"x\": [10], \"y\": [38], \"type\": \"scatter\", \"uid\": \"df173ce0-e37d-11e8-9d8c-a1b30045967f\"}, {\"marker\": {\"color\": \"rgb(0,255,0)\", \"colorscale\": \"Viridis\", \"line\": {\"width\": 2}, \"size\": 12, \"symbol\": 3}, \"mode\": \"markers\", \"name\": \"Student_4\", \"text\": [\"Student_4\"], \"x\": [14], \"y\": [44], \"type\": \"scatter\", \"uid\": \"df173d6c-e37d-11e8-9d8c-a1b30045967f\"}, {\"marker\": {\"color\": \"rgb(255,255,255)\", \"colorscale\": \"Viridis\", \"line\": {\"width\": 2}, \"size\": 12, \"symbol\": 2}, \"mode\": \"markers\", \"name\": \"Student_5\", \"text\": [\"Student_5\"], \"x\": [8], \"y\": [17], \"type\": \"scatter\", \"uid\": \"df173df8-e37d-11e8-9d8c-a1b30045967f\"}, {\"marker\": {\"color\": \"rgb(0,255,0)\", \"colorscale\": \"Viridis\", \"line\": {\"width\": 2}, \"size\": 12, \"symbol\": 3}, \"mode\": \"markers\", \"name\": \"Student_6\", \"text\": [\"Student_6\"], \"x\": [25], \"y\": [44], \"type\": \"scatter\", \"uid\": \"df173e70-e37d-11e8-9d8c-a1b30045967f\"}, {\"marker\": {\"color\": \"rgb(0,0,255)\", \"colorscale\": \"Viridis\", \"line\": {\"width\": 2}, \"size\": 12, \"symbol\": 1}, \"mode\": \"markers\", \"name\": \"Student_7\", \"text\": [\"Student_7\"], \"x\": [83], \"y\": [87], \"type\": \"scatter\", \"uid\": \"df173ef2-e37d-11e8-9d8c-a1b30045967f\"}, {\"marker\": {\"color\": \"rgb(255,0,0)\", \"colorscale\": \"Viridis\", \"line\": {\"width\": 2}, \"size\": 12, \"symbol\": 0}, \"mode\": \"markers\", \"name\": \"Student_8\", \"text\": [\"Student_8\"], \"x\": [44], \"y\": [63], \"type\": \"scatter\", \"uid\": \"df173f6a-e37d-11e8-9d8c-a1b30045967f\"}, {\"marker\": {\"color\": \"rgb(0,255,0)\", \"colorscale\": \"Viridis\", \"line\": {\"width\": 2}, \"size\": 12, \"symbol\": 3}, \"mode\": \"markers\", \"name\": \"Student_9\", \"text\": [\"Student_9\"], \"x\": [17], \"y\": [36], \"type\": \"scatter\", \"uid\": \"df173fe2-e37d-11e8-9d8c-a1b30045967f\"}, {\"marker\": {\"color\": \"rgb(255,0,0)\", \"colorscale\": \"Viridis\", \"line\": {\"width\": 2}, \"size\": 12, \"symbol\": 0}, \"mode\": \"markers\", \"name\": \"Student_10\", \"text\": [\"Student_10\"], \"x\": [21], \"y\": [54], \"type\": \"scatter\", \"uid\": \"df17405a-e37d-11e8-9d8c-a1b30045967f\"}, {\"marker\": {\"color\": \"rgb(0,255,0)\", \"colorscale\": \"Viridis\", \"line\": {\"width\": 2}, \"size\": 12, \"symbol\": 3}, \"mode\": \"markers\", \"name\": \"Student_11\", \"text\": [\"Student_11\"], \"x\": [7], \"y\": [49], \"type\": \"scatter\", \"uid\": \"df1740dc-e37d-11e8-9d8c-a1b30045967f\"}, {\"marker\": {\"color\": \"rgb(0,255,0)\", \"colorscale\": \"Viridis\", \"line\": {\"width\": 2}, \"size\": 12, \"symbol\": 3}, \"mode\": \"markers\", \"name\": \"Student_12\", \"text\": [\"Student_12\"], \"x\": [15], \"y\": [47], \"type\": \"scatter\", \"uid\": \"df174154-e37d-11e8-9d8c-a1b30045967f\"}, {\"marker\": {\"color\": \"rgb(255,0,0)\", \"colorscale\": \"Viridis\", \"line\": {\"width\": 2}, \"size\": 12, \"symbol\": 0}, \"mode\": \"markers\", \"name\": \"Student_13\", \"text\": [\"Student_13\"], \"x\": [56], \"y\": [70], \"type\": \"scatter\", \"uid\": \"df1741cc-e37d-11e8-9d8c-a1b30045967f\"}, {\"marker\": {\"color\": \"rgb(0,255,0)\", \"colorscale\": \"Viridis\", \"line\": {\"width\": 2}, \"size\": 12, \"symbol\": 3}, \"mode\": \"markers\", \"name\": \"Student_14\", \"text\": [\"Student_14\"], \"x\": [14], \"y\": [46], \"type\": \"scatter\", \"uid\": \"df17424e-e37d-11e8-9d8c-a1b30045967f\"}, {\"marker\": {\"color\": \"rgb(0,255,0)\", \"colorscale\": \"Viridis\", \"line\": {\"width\": 2}, \"size\": 12, \"symbol\": 3}, \"mode\": \"markers\", \"name\": \"Student_15\", \"text\": [\"Student_15\"], \"x\": [19], \"y\": [47], \"type\": \"scatter\", \"uid\": \"df1742c6-e37d-11e8-9d8c-a1b30045967f\"}, {\"marker\": {\"color\": \"rgb(0,0,255)\", \"colorscale\": \"Viridis\", \"line\": {\"width\": 2}, \"size\": 12, \"symbol\": 1}, \"mode\": \"markers\", \"name\": \"Student_16\", \"text\": [\"Student_16\"], \"x\": [50], \"y\": [76], \"type\": \"scatter\", \"uid\": \"df17433e-e37d-11e8-9d8c-a1b30045967f\"}, {\"marker\": {\"color\": \"rgb(0,255,0)\", \"colorscale\": \"Viridis\", \"line\": {\"width\": 2}, \"size\": 12, \"symbol\": 3}, \"mode\": \"markers\", \"name\": \"Student_17\", \"text\": [\"Student_17\"], \"x\": [12], \"y\": [44], \"type\": \"scatter\", \"uid\": \"df1743c0-e37d-11e8-9d8c-a1b30045967f\"}, {\"marker\": {\"color\": \"rgb(255,0,0)\", \"colorscale\": \"Viridis\", \"line\": {\"width\": 2}, \"size\": 12, \"symbol\": 0}, \"mode\": \"markers\", \"name\": \"Student_18\", \"text\": [\"Student_18\"], \"x\": [49], \"y\": [66], \"type\": \"scatter\", \"uid\": \"df174438-e37d-11e8-9d8c-a1b30045967f\"}, {\"marker\": {\"color\": \"rgb(0,0,255)\", \"colorscale\": \"Viridis\", \"line\": {\"width\": 2}, \"size\": 12, \"symbol\": 1}, \"mode\": \"markers\", \"name\": \"Student_19\", \"text\": [\"Student_19\"], \"x\": [69], \"y\": [79], \"type\": \"scatter\", \"uid\": \"df1744b0-e37d-11e8-9d8c-a1b30045967f\"}, {\"marker\": {\"color\": \"rgb(0,255,0)\", \"colorscale\": \"Viridis\", \"line\": {\"width\": 2}, \"size\": 12, \"symbol\": 3}, \"mode\": \"markers\", \"name\": \"Student_20\", \"text\": [\"Student_20\"], \"x\": [16], \"y\": [45], \"type\": \"scatter\", \"uid\": \"df174528-e37d-11e8-9d8c-a1b30045967f\"}, {\"marker\": {\"color\": \"rgb(0,0,255)\", \"colorscale\": \"Viridis\", \"line\": {\"width\": 2}, \"size\": 12, \"symbol\": 1}, \"mode\": \"markers\", \"name\": \"Student_21\", \"text\": [\"Student_21\"], \"x\": [63], \"y\": [71], \"type\": \"scatter\", \"uid\": \"df1745aa-e37d-11e8-9d8c-a1b30045967f\"}, {\"marker\": {\"color\": \"rgb(0,255,0)\", \"colorscale\": \"Viridis\", \"line\": {\"width\": 2}, \"size\": 12, \"symbol\": 3}, \"mode\": \"markers\", \"name\": \"Student_22\", \"text\": [\"Student_22\"], \"x\": [17], \"y\": [50], \"type\": \"scatter\", \"uid\": \"df174622-e37d-11e8-9d8c-a1b30045967f\"}, {\"marker\": {\"color\": \"rgb(255,0,0)\", \"colorscale\": \"Viridis\", \"line\": {\"width\": 2}, \"size\": 12, \"symbol\": 0}, \"mode\": \"markers\", \"name\": \"Student_23\", \"text\": [\"Student_23\"], \"x\": [39], \"y\": [66], \"type\": \"scatter\", \"uid\": \"df1746a4-e37d-11e8-9d8c-a1b30045967f\"}, {\"marker\": {\"color\": \"rgb(0,255,0)\", \"colorscale\": \"Viridis\", \"line\": {\"width\": 2}, \"size\": 12, \"symbol\": 3}, \"mode\": \"markers\", \"name\": \"Student_24\", \"text\": [\"Student_24\"], \"x\": [12], \"y\": [38], \"type\": \"scatter\", \"uid\": \"df17471c-e37d-11e8-9d8c-a1b30045967f\"}, {\"marker\": {\"color\": \"rgb(0,255,0)\", \"colorscale\": \"Viridis\", \"line\": {\"width\": 2}, \"size\": 12, \"symbol\": 3}, \"mode\": \"markers\", \"name\": \"Student_25\", \"text\": [\"Student_25\"], \"x\": [12], \"y\": [34], \"type\": \"scatter\", \"uid\": \"df174794-e37d-11e8-9d8c-a1b30045967f\"}, {\"marker\": {\"color\": \"rgb(255,0,0)\", \"colorscale\": \"Viridis\", \"line\": {\"width\": 2}, \"size\": 12, \"symbol\": 0}, \"mode\": \"markers\", \"name\": \"Student_26\", \"text\": [\"Student_26\"], \"x\": [37], \"y\": [55], \"type\": \"scatter\", \"uid\": \"df174802-e37d-11e8-9d8c-a1b30045967f\"}, {\"marker\": {\"color\": \"rgb(255,0,0)\", \"colorscale\": \"Viridis\", \"line\": {\"width\": 2}, \"size\": 12, \"symbol\": 0}, \"mode\": \"markers\", \"name\": \"Student_27\", \"text\": [\"Student_27\"], \"x\": [22], \"y\": [59], \"type\": \"scatter\", \"uid\": \"df17487a-e37d-11e8-9d8c-a1b30045967f\"}, {\"marker\": {\"color\": \"rgb(255,0,0)\", \"colorscale\": \"Viridis\", \"line\": {\"width\": 2}, \"size\": 12, \"symbol\": 0}, \"mode\": \"markers\", \"name\": \"Student_28\", \"text\": [\"Student_28\"], \"x\": [43], \"y\": [68], \"type\": \"scatter\", \"uid\": \"df1748f2-e37d-11e8-9d8c-a1b30045967f\"}, {\"marker\": {\"color\": \"rgb(255,0,0)\", \"colorscale\": \"Viridis\", \"line\": {\"width\": 2}, \"size\": 12, \"symbol\": 0}, \"mode\": \"markers\", \"name\": \"Student_29\", \"text\": [\"Student_29\"], \"x\": [50], \"y\": [66], \"type\": \"scatter\", \"uid\": \"df17496a-e37d-11e8-9d8c-a1b30045967f\"}, {\"marker\": {\"color\": \"rgb(255,0,0)\", \"colorscale\": \"Viridis\", \"line\": {\"width\": 2}, \"size\": 12, \"symbol\": 0}, \"mode\": \"markers\", \"name\": \"Student_30\", \"text\": [\"Student_30\"], \"x\": [37], \"y\": [53], \"type\": \"scatter\", \"uid\": \"df1749e2-e37d-11e8-9d8c-a1b30045967f\"}, {\"marker\": {\"color\": \"rgb(0,255,0)\", \"colorscale\": \"Viridis\", \"line\": {\"width\": 2}, \"size\": 12, \"symbol\": 3}, \"mode\": \"markers\", \"name\": \"Student_31\", \"text\": [\"Student_31\"], \"x\": [18], \"y\": [44], \"type\": \"scatter\", \"uid\": \"df174a5a-e37d-11e8-9d8c-a1b30045967f\"}, {\"marker\": {\"color\": \"rgb(0,255,0)\", \"colorscale\": \"Viridis\", \"line\": {\"width\": 2}, \"size\": 12, \"symbol\": 3}, \"mode\": \"markers\", \"name\": \"Student_32\", \"text\": [\"Student_32\"], \"x\": [25], \"y\": [42], \"type\": \"scatter\", \"uid\": \"df174ac8-e37d-11e8-9d8c-a1b30045967f\"}, {\"marker\": {\"color\": \"rgb(255,0,0)\", \"colorscale\": \"Viridis\", \"line\": {\"width\": 2}, \"size\": 12, \"symbol\": 0}, \"mode\": \"markers\", \"name\": \"Student_33\", \"text\": [\"Student_33\"], \"x\": [46], \"y\": [63], \"type\": \"scatter\", \"uid\": \"df174b40-e37d-11e8-9d8c-a1b30045967f\"}, {\"marker\": {\"color\": \"rgb(255,255,255)\", \"colorscale\": \"Viridis\", \"line\": {\"width\": 2}, \"size\": 12, \"symbol\": 2}, \"mode\": \"markers\", \"name\": \"Student_34\", \"text\": [\"Student_34\"], \"x\": [14], \"y\": [14], \"type\": \"scatter\", \"uid\": \"df174bb8-e37d-11e8-9d8c-a1b30045967f\"}, {\"marker\": {\"color\": \"rgb(255,0,0)\", \"colorscale\": \"Viridis\", \"line\": {\"width\": 2}, \"size\": 12, \"symbol\": 0}, \"mode\": \"markers\", \"name\": \"Student_35\", \"text\": [\"Student_35\"], \"x\": [44], \"y\": [67], \"type\": \"scatter\", \"uid\": \"df174c3a-e37d-11e8-9d8c-a1b30045967f\"}, {\"marker\": {\"color\": \"rgb(255,0,0)\", \"colorscale\": \"Viridis\", \"line\": {\"width\": 2}, \"size\": 12, \"symbol\": 0}, \"mode\": \"markers\", \"name\": \"Student_36\", \"text\": [\"Student_36\"], \"x\": [40], \"y\": [70], \"type\": \"scatter\", \"uid\": \"df174cb2-e37d-11e8-9d8c-a1b30045967f\"}, {\"marker\": {\"color\": \"rgb(255,0,0)\", \"colorscale\": \"Viridis\", \"line\": {\"width\": 2}, \"size\": 12, \"symbol\": 0}, \"mode\": \"markers\", \"name\": \"Student_37\", \"text\": [\"Student_37\"], \"x\": [37], \"y\": [58], \"type\": \"scatter\", \"uid\": \"df174d2a-e37d-11e8-9d8c-a1b30045967f\"}, {\"marker\": {\"color\": \"rgb(255,255,255)\", \"colorscale\": \"Viridis\", \"line\": {\"width\": 2}, \"size\": 12, \"symbol\": 2}, \"mode\": \"markers\", \"name\": \"Student_38\", \"text\": [\"Student_38\"], \"x\": [22], \"y\": [22], \"type\": \"scatter\", \"uid\": \"df174da2-e37d-11e8-9d8c-a1b30045967f\"}, {\"marker\": {\"color\": \"rgb(0,255,0)\", \"colorscale\": \"Viridis\", \"line\": {\"width\": 2}, \"size\": 12, \"symbol\": 3}, \"mode\": \"markers\", \"name\": \"Student_39\", \"text\": [\"Student_39\"], \"x\": [18], \"y\": [35], \"type\": \"scatter\", \"uid\": \"df174e1a-e37d-11e8-9d8c-a1b30045967f\"}, {\"marker\": {\"color\": \"rgb(0,255,0)\", \"colorscale\": \"Viridis\", \"line\": {\"width\": 2}, \"size\": 12, \"symbol\": 3}, \"mode\": \"markers\", \"name\": \"Student_40\", \"text\": [\"Student_40\"], \"x\": [13], \"y\": [40], \"type\": \"scatter\", \"uid\": \"df174e9c-e37d-11e8-9d8c-a1b30045967f\"}, {\"marker\": {\"color\": \"rgb(0,255,0)\", \"colorscale\": \"Viridis\", \"line\": {\"width\": 2}, \"size\": 12, \"symbol\": 3}, \"mode\": \"markers\", \"name\": \"Student_41\", \"text\": [\"Student_41\"], \"x\": [22], \"y\": [47], \"type\": \"scatter\", \"uid\": \"df174f0a-e37d-11e8-9d8c-a1b30045967f\"}, {\"marker\": {\"color\": \"rgb(0,0,255)\", \"colorscale\": \"Viridis\", \"line\": {\"width\": 2}, \"size\": 12, \"symbol\": 1}, \"mode\": \"markers\", \"name\": \"Student_42\", \"text\": [\"Student_42\"], \"x\": [55], \"y\": [75], \"type\": \"scatter\", \"uid\": \"df174f82-e37d-11e8-9d8c-a1b30045967f\"}, {\"marker\": {\"color\": \"rgb(0,255,0)\", \"colorscale\": \"Viridis\", \"line\": {\"width\": 2}, \"size\": 12, \"symbol\": 3}, \"mode\": \"markers\", \"name\": \"Student_43\", \"text\": [\"Student_43\"], \"x\": [19], \"y\": [35], \"type\": \"scatter\", \"uid\": \"df174ff0-e37d-11e8-9d8c-a1b30045967f\"}, {\"marker\": {\"color\": \"rgb(255,0,0)\", \"colorscale\": \"Viridis\", \"line\": {\"width\": 2}, \"size\": 12, \"symbol\": 0}, \"mode\": \"markers\", \"name\": \"Student_44\", \"text\": [\"Student_44\"], \"x\": [45], \"y\": [69], \"type\": \"scatter\", \"uid\": \"df175068-e37d-11e8-9d8c-a1b30045967f\"}, {\"marker\": {\"color\": \"rgb(0,0,255)\", \"colorscale\": \"Viridis\", \"line\": {\"width\": 2}, \"size\": 12, \"symbol\": 1}, \"mode\": \"markers\", \"name\": \"Student_45\", \"text\": [\"Student_45\"], \"x\": [82], \"y\": [82], \"type\": \"scatter\", \"uid\": \"df1750e0-e37d-11e8-9d8c-a1b30045967f\"}, {\"marker\": {\"color\": \"rgb(0,255,0)\", \"colorscale\": \"Viridis\", \"line\": {\"width\": 2}, \"size\": 12, \"symbol\": 3}, \"mode\": \"markers\", \"name\": \"Student_46\", \"text\": [\"Student_46\"], \"x\": [25], \"y\": [47], \"type\": \"scatter\", \"uid\": \"df17514e-e37d-11e8-9d8c-a1b30045967f\"}, {\"marker\": {\"color\": \"rgb(0,255,0)\", \"colorscale\": \"Viridis\", \"line\": {\"width\": 2}, \"size\": 12, \"symbol\": 3}, \"mode\": \"markers\", \"name\": \"Student_47\", \"text\": [\"Student_47\"], \"x\": [14], \"y\": [34], \"type\": \"scatter\", \"uid\": \"df1751bc-e37d-11e8-9d8c-a1b30045967f\"}, {\"marker\": {\"color\": \"rgb(0,255,0)\", \"colorscale\": \"Viridis\", \"line\": {\"width\": 2}, \"size\": 12, \"symbol\": 3}, \"mode\": \"markers\", \"name\": \"Student_48\", \"text\": [\"Student_48\"], \"x\": [9], \"y\": [47], \"type\": \"scatter\", \"uid\": \"df17522a-e37d-11e8-9d8c-a1b30045967f\"}, {\"marker\": {\"color\": \"rgb(255,255,255)\", \"colorscale\": \"Viridis\", \"line\": {\"width\": 2}, \"size\": 12, \"symbol\": 2}, \"mode\": \"markers\", \"name\": \"Student_49\", \"text\": [\"Student_49\"], \"x\": [6], \"y\": [26], \"type\": \"scatter\", \"uid\": \"df1752a2-e37d-11e8-9d8c-a1b30045967f\"}, {\"marker\": {\"color\": \"rgb(0,255,0)\", \"colorscale\": \"Viridis\", \"line\": {\"width\": 2}, \"size\": 12, \"symbol\": 3}, \"mode\": \"markers\", \"name\": \"Student_50\", \"text\": [\"Student_50\"], \"x\": [23], \"y\": [32], \"type\": \"scatter\", \"uid\": \"df17531a-e37d-11e8-9d8c-a1b30045967f\"}, {\"marker\": {\"color\": \"rgb(0,255,0)\", \"colorscale\": \"Viridis\", \"line\": {\"width\": 2}, \"size\": 12, \"symbol\": 3}, \"mode\": \"markers\", \"name\": \"Student_51\", \"text\": [\"Student_51\"], \"x\": [26], \"y\": [57], \"type\": \"scatter\", \"uid\": \"df175392-e37d-11e8-9d8c-a1b30045967f\"}, {\"marker\": {\"color\": \"rgb(255,0,0)\", \"colorscale\": \"Viridis\", \"line\": {\"width\": 2}, \"size\": 12, \"symbol\": 0}, \"mode\": \"markers\", \"name\": \"Student_52\", \"text\": [\"Student_52\"], \"x\": [25], \"y\": [59], \"type\": \"scatter\", \"uid\": \"df175400-e37d-11e8-9d8c-a1b30045967f\"}, {\"marker\": {\"color\": \"rgb(255,255,255)\", \"colorscale\": \"Viridis\", \"line\": {\"width\": 2}, \"size\": 12, \"symbol\": 2}, \"mode\": \"markers\", \"name\": \"Student_53\", \"text\": [\"Student_53\"], \"x\": [5], \"y\": [26], \"type\": \"scatter\", \"uid\": \"df17546e-e37d-11e8-9d8c-a1b30045967f\"}, {\"marker\": {\"color\": \"rgb(0,255,0)\", \"colorscale\": \"Viridis\", \"line\": {\"width\": 2}, \"size\": 12, \"symbol\": 3}, \"mode\": \"markers\", \"name\": \"Student_54\", \"text\": [\"Student_54\"], \"x\": [16], \"y\": [45], \"type\": \"scatter\", \"uid\": \"df1754e6-e37d-11e8-9d8c-a1b30045967f\"}, {\"marker\": {\"color\": \"rgb(0,255,0)\", \"colorscale\": \"Viridis\", \"line\": {\"width\": 2}, \"size\": 12, \"symbol\": 3}, \"mode\": \"markers\", \"name\": \"Student_55\", \"text\": [\"Student_55\"], \"x\": [25], \"y\": [42], \"type\": \"scatter\", \"uid\": \"df175554-e37d-11e8-9d8c-a1b30045967f\"}, {\"marker\": {\"color\": \"rgb(0,255,0)\", \"colorscale\": \"Viridis\", \"line\": {\"width\": 2}, \"size\": 12, \"symbol\": 3}, \"mode\": \"markers\", \"name\": \"Student_56\", \"text\": [\"Student_56\"], \"x\": [18], \"y\": [44], \"type\": \"scatter\", \"uid\": \"df1755c2-e37d-11e8-9d8c-a1b30045967f\"}, {\"marker\": {\"color\": \"rgb(255,255,255)\", \"colorscale\": \"Viridis\", \"line\": {\"width\": 2}, \"size\": 12, \"symbol\": 2}, \"mode\": \"markers\", \"name\": \"Student_57\", \"text\": [\"Student_57\"], \"x\": [12], \"y\": [15], \"type\": \"scatter\", \"uid\": \"df175630-e37d-11e8-9d8c-a1b30045967f\"}, {\"marker\": {\"color\": \"rgb(0,0,255)\", \"colorscale\": \"Viridis\", \"line\": {\"width\": 2}, \"size\": 12, \"symbol\": 1}, \"mode\": \"markers\", \"name\": \"Student_58\", \"text\": [\"Student_58\"], \"x\": [68], \"y\": [74], \"type\": \"scatter\", \"uid\": \"df175694-e37d-11e8-9d8c-a1b30045967f\"}, {\"marker\": {\"color\": \"rgb(255,0,0)\", \"colorscale\": \"Viridis\", \"line\": {\"width\": 2}, \"size\": 12, \"symbol\": 0}, \"mode\": \"markers\", \"name\": \"Student_59\", \"text\": [\"Student_59\"], \"x\": [45], \"y\": [65], \"type\": \"scatter\", \"uid\": \"df175702-e37d-11e8-9d8c-a1b30045967f\"}, {\"marker\": {\"color\": \"rgb(255,255,255)\", \"colorscale\": \"Viridis\", \"line\": {\"width\": 2}, \"size\": 12, \"symbol\": 2}, \"mode\": \"markers\", \"name\": \"Student_60\", \"text\": [\"Student_60\"], \"x\": [8], \"y\": [22], \"type\": \"scatter\", \"uid\": \"df175766-e37d-11e8-9d8c-a1b30045967f\"}], {\"hovermode\": \"closest\", \"showlegend\": true, \"title\": \"Notas dos estudantes vs acesso ao AVA\", \"xaxis\": {\"autorange\": false, \"fixedrange\": false, \"range\": [0, 93], \"rangemode\": \"normal\", \"showline\": true, \"title\": \"Acessos ao AVA\", \"zeroline\": false}, \"yaxis\": {\"autorange\": false, \"fixedrange\": false, \"range\": [0, 97], \"rangemode\": \"normal\", \"showline\": true, \"title\": \"Notas\"}}, {\"showLink\": true, \"linkText\": \"Export to plot.ly\"})});</script>"
      ],
      "text/vnd.plotly.v1+html": [
       "<div id=\"01468818-8c76-4636-af92-412f7daaf532\" style=\"height: 525px; width: 100%;\" class=\"plotly-graph-div\"></div><script type=\"text/javascript\">require([\"plotly\"], function(Plotly) { window.PLOTLYENV=window.PLOTLYENV || {};window.PLOTLYENV.BASE_URL=\"https://plot.ly\";Plotly.newPlot(\"01468818-8c76-4636-af92-412f7daaf532\", [{\"marker\": {\"color\": \"rgb(255,0,0)\", \"colorscale\": \"Viridis\", \"line\": {\"width\": 2}, \"size\": 12, \"symbol\": 0}, \"mode\": \"markers\", \"name\": \"Student_1\", \"text\": [\"Student_1\"], \"x\": [38], \"y\": [56], \"type\": \"scatter\", \"uid\": \"df173aa6-e37d-11e8-9d8c-a1b30045967f\"}, {\"marker\": {\"color\": \"rgb(0,255,0)\", \"colorscale\": \"Viridis\", \"line\": {\"width\": 2}, \"size\": 12, \"symbol\": 3}, \"mode\": \"markers\", \"name\": \"Student_2\", \"text\": [\"Student_2\"], \"x\": [20], \"y\": [47], \"type\": \"scatter\", \"uid\": \"df173c2c-e37d-11e8-9d8c-a1b30045967f\"}, {\"marker\": {\"color\": \"rgb(0,255,0)\", \"colorscale\": \"Viridis\", \"line\": {\"width\": 2}, \"size\": 12, \"symbol\": 3}, \"mode\": \"markers\", \"name\": \"Student_3\", \"text\": [\"Student_3\"], \"x\": [10], \"y\": [38], \"type\": \"scatter\", \"uid\": \"df173ce0-e37d-11e8-9d8c-a1b30045967f\"}, {\"marker\": {\"color\": \"rgb(0,255,0)\", \"colorscale\": \"Viridis\", \"line\": {\"width\": 2}, \"size\": 12, \"symbol\": 3}, \"mode\": \"markers\", \"name\": \"Student_4\", \"text\": [\"Student_4\"], \"x\": [14], \"y\": [44], \"type\": \"scatter\", \"uid\": \"df173d6c-e37d-11e8-9d8c-a1b30045967f\"}, {\"marker\": {\"color\": \"rgb(255,255,255)\", \"colorscale\": \"Viridis\", \"line\": {\"width\": 2}, \"size\": 12, \"symbol\": 2}, \"mode\": \"markers\", \"name\": \"Student_5\", \"text\": [\"Student_5\"], \"x\": [8], \"y\": [17], \"type\": \"scatter\", \"uid\": \"df173df8-e37d-11e8-9d8c-a1b30045967f\"}, {\"marker\": {\"color\": \"rgb(0,255,0)\", \"colorscale\": \"Viridis\", \"line\": {\"width\": 2}, \"size\": 12, \"symbol\": 3}, \"mode\": \"markers\", \"name\": \"Student_6\", \"text\": [\"Student_6\"], \"x\": [25], \"y\": [44], \"type\": \"scatter\", \"uid\": \"df173e70-e37d-11e8-9d8c-a1b30045967f\"}, {\"marker\": {\"color\": \"rgb(0,0,255)\", \"colorscale\": \"Viridis\", \"line\": {\"width\": 2}, \"size\": 12, \"symbol\": 1}, \"mode\": \"markers\", \"name\": \"Student_7\", \"text\": [\"Student_7\"], \"x\": [83], \"y\": [87], \"type\": \"scatter\", \"uid\": \"df173ef2-e37d-11e8-9d8c-a1b30045967f\"}, {\"marker\": {\"color\": \"rgb(255,0,0)\", \"colorscale\": \"Viridis\", \"line\": {\"width\": 2}, \"size\": 12, \"symbol\": 0}, \"mode\": \"markers\", \"name\": \"Student_8\", \"text\": [\"Student_8\"], \"x\": [44], \"y\": [63], \"type\": \"scatter\", \"uid\": \"df173f6a-e37d-11e8-9d8c-a1b30045967f\"}, {\"marker\": {\"color\": \"rgb(0,255,0)\", \"colorscale\": \"Viridis\", \"line\": {\"width\": 2}, \"size\": 12, \"symbol\": 3}, \"mode\": \"markers\", \"name\": \"Student_9\", \"text\": [\"Student_9\"], \"x\": [17], \"y\": [36], \"type\": \"scatter\", \"uid\": \"df173fe2-e37d-11e8-9d8c-a1b30045967f\"}, {\"marker\": {\"color\": \"rgb(255,0,0)\", \"colorscale\": \"Viridis\", \"line\": {\"width\": 2}, \"size\": 12, \"symbol\": 0}, \"mode\": \"markers\", \"name\": \"Student_10\", \"text\": [\"Student_10\"], \"x\": [21], \"y\": [54], \"type\": \"scatter\", \"uid\": \"df17405a-e37d-11e8-9d8c-a1b30045967f\"}, {\"marker\": {\"color\": \"rgb(0,255,0)\", \"colorscale\": \"Viridis\", \"line\": {\"width\": 2}, \"size\": 12, \"symbol\": 3}, \"mode\": \"markers\", \"name\": \"Student_11\", \"text\": [\"Student_11\"], \"x\": [7], \"y\": [49], \"type\": \"scatter\", \"uid\": \"df1740dc-e37d-11e8-9d8c-a1b30045967f\"}, {\"marker\": {\"color\": \"rgb(0,255,0)\", \"colorscale\": \"Viridis\", \"line\": {\"width\": 2}, \"size\": 12, \"symbol\": 3}, \"mode\": \"markers\", \"name\": \"Student_12\", \"text\": [\"Student_12\"], \"x\": [15], \"y\": [47], \"type\": \"scatter\", \"uid\": \"df174154-e37d-11e8-9d8c-a1b30045967f\"}, {\"marker\": {\"color\": \"rgb(255,0,0)\", \"colorscale\": \"Viridis\", \"line\": {\"width\": 2}, \"size\": 12, \"symbol\": 0}, \"mode\": \"markers\", \"name\": \"Student_13\", \"text\": [\"Student_13\"], \"x\": [56], \"y\": [70], \"type\": \"scatter\", \"uid\": \"df1741cc-e37d-11e8-9d8c-a1b30045967f\"}, {\"marker\": {\"color\": \"rgb(0,255,0)\", \"colorscale\": \"Viridis\", \"line\": {\"width\": 2}, \"size\": 12, \"symbol\": 3}, \"mode\": \"markers\", \"name\": \"Student_14\", \"text\": [\"Student_14\"], \"x\": [14], \"y\": [46], \"type\": \"scatter\", \"uid\": \"df17424e-e37d-11e8-9d8c-a1b30045967f\"}, {\"marker\": {\"color\": \"rgb(0,255,0)\", \"colorscale\": \"Viridis\", \"line\": {\"width\": 2}, \"size\": 12, \"symbol\": 3}, \"mode\": \"markers\", \"name\": \"Student_15\", \"text\": [\"Student_15\"], \"x\": [19], \"y\": [47], \"type\": \"scatter\", \"uid\": \"df1742c6-e37d-11e8-9d8c-a1b30045967f\"}, {\"marker\": {\"color\": \"rgb(0,0,255)\", \"colorscale\": \"Viridis\", \"line\": {\"width\": 2}, \"size\": 12, \"symbol\": 1}, \"mode\": \"markers\", \"name\": \"Student_16\", \"text\": [\"Student_16\"], \"x\": [50], \"y\": [76], \"type\": \"scatter\", \"uid\": \"df17433e-e37d-11e8-9d8c-a1b30045967f\"}, {\"marker\": {\"color\": \"rgb(0,255,0)\", \"colorscale\": \"Viridis\", \"line\": {\"width\": 2}, \"size\": 12, \"symbol\": 3}, \"mode\": \"markers\", \"name\": \"Student_17\", \"text\": [\"Student_17\"], \"x\": [12], \"y\": [44], \"type\": \"scatter\", \"uid\": \"df1743c0-e37d-11e8-9d8c-a1b30045967f\"}, {\"marker\": {\"color\": \"rgb(255,0,0)\", \"colorscale\": \"Viridis\", \"line\": {\"width\": 2}, \"size\": 12, \"symbol\": 0}, \"mode\": \"markers\", \"name\": \"Student_18\", \"text\": [\"Student_18\"], \"x\": [49], \"y\": [66], \"type\": \"scatter\", \"uid\": \"df174438-e37d-11e8-9d8c-a1b30045967f\"}, {\"marker\": {\"color\": \"rgb(0,0,255)\", \"colorscale\": \"Viridis\", \"line\": {\"width\": 2}, \"size\": 12, \"symbol\": 1}, \"mode\": \"markers\", \"name\": \"Student_19\", \"text\": [\"Student_19\"], \"x\": [69], \"y\": [79], \"type\": \"scatter\", \"uid\": \"df1744b0-e37d-11e8-9d8c-a1b30045967f\"}, {\"marker\": {\"color\": \"rgb(0,255,0)\", \"colorscale\": \"Viridis\", \"line\": {\"width\": 2}, \"size\": 12, \"symbol\": 3}, \"mode\": \"markers\", \"name\": \"Student_20\", \"text\": [\"Student_20\"], \"x\": [16], \"y\": [45], \"type\": \"scatter\", \"uid\": \"df174528-e37d-11e8-9d8c-a1b30045967f\"}, {\"marker\": {\"color\": \"rgb(0,0,255)\", \"colorscale\": \"Viridis\", \"line\": {\"width\": 2}, \"size\": 12, \"symbol\": 1}, \"mode\": \"markers\", \"name\": \"Student_21\", \"text\": [\"Student_21\"], \"x\": [63], \"y\": [71], \"type\": \"scatter\", \"uid\": \"df1745aa-e37d-11e8-9d8c-a1b30045967f\"}, {\"marker\": {\"color\": \"rgb(0,255,0)\", \"colorscale\": \"Viridis\", \"line\": {\"width\": 2}, \"size\": 12, \"symbol\": 3}, \"mode\": \"markers\", \"name\": \"Student_22\", \"text\": [\"Student_22\"], \"x\": [17], \"y\": [50], \"type\": \"scatter\", \"uid\": \"df174622-e37d-11e8-9d8c-a1b30045967f\"}, {\"marker\": {\"color\": \"rgb(255,0,0)\", \"colorscale\": \"Viridis\", \"line\": {\"width\": 2}, \"size\": 12, \"symbol\": 0}, \"mode\": \"markers\", \"name\": \"Student_23\", \"text\": [\"Student_23\"], \"x\": [39], \"y\": [66], \"type\": \"scatter\", \"uid\": \"df1746a4-e37d-11e8-9d8c-a1b30045967f\"}, {\"marker\": {\"color\": \"rgb(0,255,0)\", \"colorscale\": \"Viridis\", \"line\": {\"width\": 2}, \"size\": 12, \"symbol\": 3}, \"mode\": \"markers\", \"name\": \"Student_24\", \"text\": [\"Student_24\"], \"x\": [12], \"y\": [38], \"type\": \"scatter\", \"uid\": \"df17471c-e37d-11e8-9d8c-a1b30045967f\"}, {\"marker\": {\"color\": \"rgb(0,255,0)\", \"colorscale\": \"Viridis\", \"line\": {\"width\": 2}, \"size\": 12, \"symbol\": 3}, \"mode\": \"markers\", \"name\": \"Student_25\", \"text\": [\"Student_25\"], \"x\": [12], \"y\": [34], \"type\": \"scatter\", \"uid\": \"df174794-e37d-11e8-9d8c-a1b30045967f\"}, {\"marker\": {\"color\": \"rgb(255,0,0)\", \"colorscale\": \"Viridis\", \"line\": {\"width\": 2}, \"size\": 12, \"symbol\": 0}, \"mode\": \"markers\", \"name\": \"Student_26\", \"text\": [\"Student_26\"], \"x\": [37], \"y\": [55], \"type\": \"scatter\", \"uid\": \"df174802-e37d-11e8-9d8c-a1b30045967f\"}, {\"marker\": {\"color\": \"rgb(255,0,0)\", \"colorscale\": \"Viridis\", \"line\": {\"width\": 2}, \"size\": 12, \"symbol\": 0}, \"mode\": \"markers\", \"name\": \"Student_27\", \"text\": [\"Student_27\"], \"x\": [22], \"y\": [59], \"type\": \"scatter\", \"uid\": \"df17487a-e37d-11e8-9d8c-a1b30045967f\"}, {\"marker\": {\"color\": \"rgb(255,0,0)\", \"colorscale\": \"Viridis\", \"line\": {\"width\": 2}, \"size\": 12, \"symbol\": 0}, \"mode\": \"markers\", \"name\": \"Student_28\", \"text\": [\"Student_28\"], \"x\": [43], \"y\": [68], \"type\": \"scatter\", \"uid\": \"df1748f2-e37d-11e8-9d8c-a1b30045967f\"}, {\"marker\": {\"color\": \"rgb(255,0,0)\", \"colorscale\": \"Viridis\", \"line\": {\"width\": 2}, \"size\": 12, \"symbol\": 0}, \"mode\": \"markers\", \"name\": \"Student_29\", \"text\": [\"Student_29\"], \"x\": [50], \"y\": [66], \"type\": \"scatter\", \"uid\": \"df17496a-e37d-11e8-9d8c-a1b30045967f\"}, {\"marker\": {\"color\": \"rgb(255,0,0)\", \"colorscale\": \"Viridis\", \"line\": {\"width\": 2}, \"size\": 12, \"symbol\": 0}, \"mode\": \"markers\", \"name\": \"Student_30\", \"text\": [\"Student_30\"], \"x\": [37], \"y\": [53], \"type\": \"scatter\", \"uid\": \"df1749e2-e37d-11e8-9d8c-a1b30045967f\"}, {\"marker\": {\"color\": \"rgb(0,255,0)\", \"colorscale\": \"Viridis\", \"line\": {\"width\": 2}, \"size\": 12, \"symbol\": 3}, \"mode\": \"markers\", \"name\": \"Student_31\", \"text\": [\"Student_31\"], \"x\": [18], \"y\": [44], \"type\": \"scatter\", \"uid\": \"df174a5a-e37d-11e8-9d8c-a1b30045967f\"}, {\"marker\": {\"color\": \"rgb(0,255,0)\", \"colorscale\": \"Viridis\", \"line\": {\"width\": 2}, \"size\": 12, \"symbol\": 3}, \"mode\": \"markers\", \"name\": \"Student_32\", \"text\": [\"Student_32\"], \"x\": [25], \"y\": [42], \"type\": \"scatter\", \"uid\": \"df174ac8-e37d-11e8-9d8c-a1b30045967f\"}, {\"marker\": {\"color\": \"rgb(255,0,0)\", \"colorscale\": \"Viridis\", \"line\": {\"width\": 2}, \"size\": 12, \"symbol\": 0}, \"mode\": \"markers\", \"name\": \"Student_33\", \"text\": [\"Student_33\"], \"x\": [46], \"y\": [63], \"type\": \"scatter\", \"uid\": \"df174b40-e37d-11e8-9d8c-a1b30045967f\"}, {\"marker\": {\"color\": \"rgb(255,255,255)\", \"colorscale\": \"Viridis\", \"line\": {\"width\": 2}, \"size\": 12, \"symbol\": 2}, \"mode\": \"markers\", \"name\": \"Student_34\", \"text\": [\"Student_34\"], \"x\": [14], \"y\": [14], \"type\": \"scatter\", \"uid\": \"df174bb8-e37d-11e8-9d8c-a1b30045967f\"}, {\"marker\": {\"color\": \"rgb(255,0,0)\", \"colorscale\": \"Viridis\", \"line\": {\"width\": 2}, \"size\": 12, \"symbol\": 0}, \"mode\": \"markers\", \"name\": \"Student_35\", \"text\": [\"Student_35\"], \"x\": [44], \"y\": [67], \"type\": \"scatter\", \"uid\": \"df174c3a-e37d-11e8-9d8c-a1b30045967f\"}, {\"marker\": {\"color\": \"rgb(255,0,0)\", \"colorscale\": \"Viridis\", \"line\": {\"width\": 2}, \"size\": 12, \"symbol\": 0}, \"mode\": \"markers\", \"name\": \"Student_36\", \"text\": [\"Student_36\"], \"x\": [40], \"y\": [70], \"type\": \"scatter\", \"uid\": \"df174cb2-e37d-11e8-9d8c-a1b30045967f\"}, {\"marker\": {\"color\": \"rgb(255,0,0)\", \"colorscale\": \"Viridis\", \"line\": {\"width\": 2}, \"size\": 12, \"symbol\": 0}, \"mode\": \"markers\", \"name\": \"Student_37\", \"text\": [\"Student_37\"], \"x\": [37], \"y\": [58], \"type\": \"scatter\", \"uid\": \"df174d2a-e37d-11e8-9d8c-a1b30045967f\"}, {\"marker\": {\"color\": \"rgb(255,255,255)\", \"colorscale\": \"Viridis\", \"line\": {\"width\": 2}, \"size\": 12, \"symbol\": 2}, \"mode\": \"markers\", \"name\": \"Student_38\", \"text\": [\"Student_38\"], \"x\": [22], \"y\": [22], \"type\": \"scatter\", \"uid\": \"df174da2-e37d-11e8-9d8c-a1b30045967f\"}, {\"marker\": {\"color\": \"rgb(0,255,0)\", \"colorscale\": \"Viridis\", \"line\": {\"width\": 2}, \"size\": 12, \"symbol\": 3}, \"mode\": \"markers\", \"name\": \"Student_39\", \"text\": [\"Student_39\"], \"x\": [18], \"y\": [35], \"type\": \"scatter\", \"uid\": \"df174e1a-e37d-11e8-9d8c-a1b30045967f\"}, {\"marker\": {\"color\": \"rgb(0,255,0)\", \"colorscale\": \"Viridis\", \"line\": {\"width\": 2}, \"size\": 12, \"symbol\": 3}, \"mode\": \"markers\", \"name\": \"Student_40\", \"text\": [\"Student_40\"], \"x\": [13], \"y\": [40], \"type\": \"scatter\", \"uid\": \"df174e9c-e37d-11e8-9d8c-a1b30045967f\"}, {\"marker\": {\"color\": \"rgb(0,255,0)\", \"colorscale\": \"Viridis\", \"line\": {\"width\": 2}, \"size\": 12, \"symbol\": 3}, \"mode\": \"markers\", \"name\": \"Student_41\", \"text\": [\"Student_41\"], \"x\": [22], \"y\": [47], \"type\": \"scatter\", \"uid\": \"df174f0a-e37d-11e8-9d8c-a1b30045967f\"}, {\"marker\": {\"color\": \"rgb(0,0,255)\", \"colorscale\": \"Viridis\", \"line\": {\"width\": 2}, \"size\": 12, \"symbol\": 1}, \"mode\": \"markers\", \"name\": \"Student_42\", \"text\": [\"Student_42\"], \"x\": [55], \"y\": [75], \"type\": \"scatter\", \"uid\": \"df174f82-e37d-11e8-9d8c-a1b30045967f\"}, {\"marker\": {\"color\": \"rgb(0,255,0)\", \"colorscale\": \"Viridis\", \"line\": {\"width\": 2}, \"size\": 12, \"symbol\": 3}, \"mode\": \"markers\", \"name\": \"Student_43\", \"text\": [\"Student_43\"], \"x\": [19], \"y\": [35], \"type\": \"scatter\", \"uid\": \"df174ff0-e37d-11e8-9d8c-a1b30045967f\"}, {\"marker\": {\"color\": \"rgb(255,0,0)\", \"colorscale\": \"Viridis\", \"line\": {\"width\": 2}, \"size\": 12, \"symbol\": 0}, \"mode\": \"markers\", \"name\": \"Student_44\", \"text\": [\"Student_44\"], \"x\": [45], \"y\": [69], \"type\": \"scatter\", \"uid\": \"df175068-e37d-11e8-9d8c-a1b30045967f\"}, {\"marker\": {\"color\": \"rgb(0,0,255)\", \"colorscale\": \"Viridis\", \"line\": {\"width\": 2}, \"size\": 12, \"symbol\": 1}, \"mode\": \"markers\", \"name\": \"Student_45\", \"text\": [\"Student_45\"], \"x\": [82], \"y\": [82], \"type\": \"scatter\", \"uid\": \"df1750e0-e37d-11e8-9d8c-a1b30045967f\"}, {\"marker\": {\"color\": \"rgb(0,255,0)\", \"colorscale\": \"Viridis\", \"line\": {\"width\": 2}, \"size\": 12, \"symbol\": 3}, \"mode\": \"markers\", \"name\": \"Student_46\", \"text\": [\"Student_46\"], \"x\": [25], \"y\": [47], \"type\": \"scatter\", \"uid\": \"df17514e-e37d-11e8-9d8c-a1b30045967f\"}, {\"marker\": {\"color\": \"rgb(0,255,0)\", \"colorscale\": \"Viridis\", \"line\": {\"width\": 2}, \"size\": 12, \"symbol\": 3}, \"mode\": \"markers\", \"name\": \"Student_47\", \"text\": [\"Student_47\"], \"x\": [14], \"y\": [34], \"type\": \"scatter\", \"uid\": \"df1751bc-e37d-11e8-9d8c-a1b30045967f\"}, {\"marker\": {\"color\": \"rgb(0,255,0)\", \"colorscale\": \"Viridis\", \"line\": {\"width\": 2}, \"size\": 12, \"symbol\": 3}, \"mode\": \"markers\", \"name\": \"Student_48\", \"text\": [\"Student_48\"], \"x\": [9], \"y\": [47], \"type\": \"scatter\", \"uid\": \"df17522a-e37d-11e8-9d8c-a1b30045967f\"}, {\"marker\": {\"color\": \"rgb(255,255,255)\", \"colorscale\": \"Viridis\", \"line\": {\"width\": 2}, \"size\": 12, \"symbol\": 2}, \"mode\": \"markers\", \"name\": \"Student_49\", \"text\": [\"Student_49\"], \"x\": [6], \"y\": [26], \"type\": \"scatter\", \"uid\": \"df1752a2-e37d-11e8-9d8c-a1b30045967f\"}, {\"marker\": {\"color\": \"rgb(0,255,0)\", \"colorscale\": \"Viridis\", \"line\": {\"width\": 2}, \"size\": 12, \"symbol\": 3}, \"mode\": \"markers\", \"name\": \"Student_50\", \"text\": [\"Student_50\"], \"x\": [23], \"y\": [32], \"type\": \"scatter\", \"uid\": \"df17531a-e37d-11e8-9d8c-a1b30045967f\"}, {\"marker\": {\"color\": \"rgb(0,255,0)\", \"colorscale\": \"Viridis\", \"line\": {\"width\": 2}, \"size\": 12, \"symbol\": 3}, \"mode\": \"markers\", \"name\": \"Student_51\", \"text\": [\"Student_51\"], \"x\": [26], \"y\": [57], \"type\": \"scatter\", \"uid\": \"df175392-e37d-11e8-9d8c-a1b30045967f\"}, {\"marker\": {\"color\": \"rgb(255,0,0)\", \"colorscale\": \"Viridis\", \"line\": {\"width\": 2}, \"size\": 12, \"symbol\": 0}, \"mode\": \"markers\", \"name\": \"Student_52\", \"text\": [\"Student_52\"], \"x\": [25], \"y\": [59], \"type\": \"scatter\", \"uid\": \"df175400-e37d-11e8-9d8c-a1b30045967f\"}, {\"marker\": {\"color\": \"rgb(255,255,255)\", \"colorscale\": \"Viridis\", \"line\": {\"width\": 2}, \"size\": 12, \"symbol\": 2}, \"mode\": \"markers\", \"name\": \"Student_53\", \"text\": [\"Student_53\"], \"x\": [5], \"y\": [26], \"type\": \"scatter\", \"uid\": \"df17546e-e37d-11e8-9d8c-a1b30045967f\"}, {\"marker\": {\"color\": \"rgb(0,255,0)\", \"colorscale\": \"Viridis\", \"line\": {\"width\": 2}, \"size\": 12, \"symbol\": 3}, \"mode\": \"markers\", \"name\": \"Student_54\", \"text\": [\"Student_54\"], \"x\": [16], \"y\": [45], \"type\": \"scatter\", \"uid\": \"df1754e6-e37d-11e8-9d8c-a1b30045967f\"}, {\"marker\": {\"color\": \"rgb(0,255,0)\", \"colorscale\": \"Viridis\", \"line\": {\"width\": 2}, \"size\": 12, \"symbol\": 3}, \"mode\": \"markers\", \"name\": \"Student_55\", \"text\": [\"Student_55\"], \"x\": [25], \"y\": [42], \"type\": \"scatter\", \"uid\": \"df175554-e37d-11e8-9d8c-a1b30045967f\"}, {\"marker\": {\"color\": \"rgb(0,255,0)\", \"colorscale\": \"Viridis\", \"line\": {\"width\": 2}, \"size\": 12, \"symbol\": 3}, \"mode\": \"markers\", \"name\": \"Student_56\", \"text\": [\"Student_56\"], \"x\": [18], \"y\": [44], \"type\": \"scatter\", \"uid\": \"df1755c2-e37d-11e8-9d8c-a1b30045967f\"}, {\"marker\": {\"color\": \"rgb(255,255,255)\", \"colorscale\": \"Viridis\", \"line\": {\"width\": 2}, \"size\": 12, \"symbol\": 2}, \"mode\": \"markers\", \"name\": \"Student_57\", \"text\": [\"Student_57\"], \"x\": [12], \"y\": [15], \"type\": \"scatter\", \"uid\": \"df175630-e37d-11e8-9d8c-a1b30045967f\"}, {\"marker\": {\"color\": \"rgb(0,0,255)\", \"colorscale\": \"Viridis\", \"line\": {\"width\": 2}, \"size\": 12, \"symbol\": 1}, \"mode\": \"markers\", \"name\": \"Student_58\", \"text\": [\"Student_58\"], \"x\": [68], \"y\": [74], \"type\": \"scatter\", \"uid\": \"df175694-e37d-11e8-9d8c-a1b30045967f\"}, {\"marker\": {\"color\": \"rgb(255,0,0)\", \"colorscale\": \"Viridis\", \"line\": {\"width\": 2}, \"size\": 12, \"symbol\": 0}, \"mode\": \"markers\", \"name\": \"Student_59\", \"text\": [\"Student_59\"], \"x\": [45], \"y\": [65], \"type\": \"scatter\", \"uid\": \"df175702-e37d-11e8-9d8c-a1b30045967f\"}, {\"marker\": {\"color\": \"rgb(255,255,255)\", \"colorscale\": \"Viridis\", \"line\": {\"width\": 2}, \"size\": 12, \"symbol\": 2}, \"mode\": \"markers\", \"name\": \"Student_60\", \"text\": [\"Student_60\"], \"x\": [8], \"y\": [22], \"type\": \"scatter\", \"uid\": \"df175766-e37d-11e8-9d8c-a1b30045967f\"}], {\"hovermode\": \"closest\", \"showlegend\": true, \"title\": \"Notas dos estudantes vs acesso ao AVA\", \"xaxis\": {\"autorange\": false, \"fixedrange\": false, \"range\": [0, 93], \"rangemode\": \"normal\", \"showline\": true, \"title\": \"Acessos ao AVA\", \"zeroline\": false}, \"yaxis\": {\"autorange\": false, \"fixedrange\": false, \"range\": [0, 97], \"rangemode\": \"normal\", \"showline\": true, \"title\": \"Notas\"}}, {\"showLink\": true, \"linkText\": \"Export to plot.ly\"})});</script>"
      ]
     },
     "metadata": {},
     "output_type": "display_data"
    },
    {
     "data": {
      "application/vnd.plotly.v1+json": {
       "data": [
        {
         "marker": {
          "color": "rgb(255,0,0)",
          "colorscale": "Viridis",
          "line": {
           "width": 2
          },
          "size": 12,
          "symbol": 0
         },
         "mode": "markers",
         "name": "Student_1",
         "text": [
          "Student_1"
         ],
         "type": "scatter",
         "uid": "df544a2c-e37d-11e8-9d8c-a1b30045967f",
         "x": [
          18
         ],
         "y": [
          56
         ]
        },
        {
         "marker": {
          "color": "rgb(0,255,0)",
          "colorscale": "Viridis",
          "line": {
           "width": 2
          },
          "size": 12,
          "symbol": 3
         },
         "mode": "markers",
         "name": "Student_2",
         "text": [
          "Student_2"
         ],
         "type": "scatter",
         "uid": "df544bb2-e37d-11e8-9d8c-a1b30045967f",
         "x": [
          2
         ],
         "y": [
          47
         ]
        },
        {
         "marker": {
          "color": "rgb(0,255,0)",
          "colorscale": "Viridis",
          "line": {
           "width": 2
          },
          "size": 12,
          "symbol": 3
         },
         "mode": "markers",
         "name": "Student_3",
         "text": [
          "Student_3"
         ],
         "type": "scatter",
         "uid": "df544c7a-e37d-11e8-9d8c-a1b30045967f",
         "x": [
          2
         ],
         "y": [
          38
         ]
        },
        {
         "marker": {
          "color": "rgb(0,255,0)",
          "colorscale": "Viridis",
          "line": {
           "width": 2
          },
          "size": 12,
          "symbol": 3
         },
         "mode": "markers",
         "name": "Student_4",
         "text": [
          "Student_4"
         ],
         "type": "scatter",
         "uid": "df544d1a-e37d-11e8-9d8c-a1b30045967f",
         "x": [
          5
         ],
         "y": [
          44
         ]
        },
        {
         "marker": {
          "color": "rgb(255,255,255)",
          "colorscale": "Viridis",
          "line": {
           "width": 2
          },
          "size": 12,
          "symbol": 2
         },
         "mode": "markers",
         "name": "Student_5",
         "text": [
          "Student_5"
         ],
         "type": "scatter",
         "uid": "df544da6-e37d-11e8-9d8c-a1b30045967f",
         "x": [
          3
         ],
         "y": [
          17
         ]
        },
        {
         "marker": {
          "color": "rgb(0,255,0)",
          "colorscale": "Viridis",
          "line": {
           "width": 2
          },
          "size": 12,
          "symbol": 3
         },
         "mode": "markers",
         "name": "Student_6",
         "text": [
          "Student_6"
         ],
         "type": "scatter",
         "uid": "df544e32-e37d-11e8-9d8c-a1b30045967f",
         "x": [
          5
         ],
         "y": [
          44
         ]
        },
        {
         "marker": {
          "color": "rgb(0,0,255)",
          "colorscale": "Viridis",
          "line": {
           "width": 2
          },
          "size": 12,
          "symbol": 1
         },
         "mode": "markers",
         "name": "Student_7",
         "text": [
          "Student_7"
         ],
         "type": "scatter",
         "uid": "df544ebe-e37d-11e8-9d8c-a1b30045967f",
         "x": [
          52
         ],
         "y": [
          87
         ]
        },
        {
         "marker": {
          "color": "rgb(255,0,0)",
          "colorscale": "Viridis",
          "line": {
           "width": 2
          },
          "size": 12,
          "symbol": 0
         },
         "mode": "markers",
         "name": "Student_8",
         "text": [
          "Student_8"
         ],
         "type": "scatter",
         "uid": "df544f54-e37d-11e8-9d8c-a1b30045967f",
         "x": [
          18
         ],
         "y": [
          63
         ]
        },
        {
         "marker": {
          "color": "rgb(0,255,0)",
          "colorscale": "Viridis",
          "line": {
           "width": 2
          },
          "size": 12,
          "symbol": 3
         },
         "mode": "markers",
         "name": "Student_9",
         "text": [
          "Student_9"
         ],
         "type": "scatter",
         "uid": "df544fe0-e37d-11e8-9d8c-a1b30045967f",
         "x": [
          2
         ],
         "y": [
          36
         ]
        },
        {
         "marker": {
          "color": "rgb(255,0,0)",
          "colorscale": "Viridis",
          "line": {
           "width": 2
          },
          "size": 12,
          "symbol": 0
         },
         "mode": "markers",
         "name": "Student_10",
         "text": [
          "Student_10"
         ],
         "type": "scatter",
         "uid": "df54506c-e37d-11e8-9d8c-a1b30045967f",
         "x": [
          24
         ],
         "y": [
          54
         ]
        },
        {
         "marker": {
          "color": "rgb(0,255,0)",
          "colorscale": "Viridis",
          "line": {
           "width": 2
          },
          "size": 12,
          "symbol": 3
         },
         "mode": "markers",
         "name": "Student_11",
         "text": [
          "Student_11"
         ],
         "type": "scatter",
         "uid": "df545152-e37d-11e8-9d8c-a1b30045967f",
         "x": [
          2
         ],
         "y": [
          49
         ]
        },
        {
         "marker": {
          "color": "rgb(0,255,0)",
          "colorscale": "Viridis",
          "line": {
           "width": 2
          },
          "size": 12,
          "symbol": 3
         },
         "mode": "markers",
         "name": "Student_12",
         "text": [
          "Student_12"
         ],
         "type": "scatter",
         "uid": "df545238-e37d-11e8-9d8c-a1b30045967f",
         "x": [
          5
         ],
         "y": [
          47
         ]
        },
        {
         "marker": {
          "color": "rgb(255,0,0)",
          "colorscale": "Viridis",
          "line": {
           "width": 2
          },
          "size": 12,
          "symbol": 0
         },
         "mode": "markers",
         "name": "Student_13",
         "text": [
          "Student_13"
         ],
         "type": "scatter",
         "uid": "df54531e-e37d-11e8-9d8c-a1b30045967f",
         "x": [
          16
         ],
         "y": [
          70
         ]
        },
        {
         "marker": {
          "color": "rgb(0,255,0)",
          "colorscale": "Viridis",
          "line": {
           "width": 2
          },
          "size": 12,
          "symbol": 3
         },
         "mode": "markers",
         "name": "Student_14",
         "text": [
          "Student_14"
         ],
         "type": "scatter",
         "uid": "df545404-e37d-11e8-9d8c-a1b30045967f",
         "x": [
          4
         ],
         "y": [
          46
         ]
        },
        {
         "marker": {
          "color": "rgb(0,255,0)",
          "colorscale": "Viridis",
          "line": {
           "width": 2
          },
          "size": 12,
          "symbol": 3
         },
         "mode": "markers",
         "name": "Student_15",
         "text": [
          "Student_15"
         ],
         "type": "scatter",
         "uid": "df5454ea-e37d-11e8-9d8c-a1b30045967f",
         "x": [
          4
         ],
         "y": [
          47
         ]
        },
        {
         "marker": {
          "color": "rgb(0,0,255)",
          "colorscale": "Viridis",
          "line": {
           "width": 2
          },
          "size": 12,
          "symbol": 1
         },
         "mode": "markers",
         "name": "Student_16",
         "text": [
          "Student_16"
         ],
         "type": "scatter",
         "uid": "df5455d0-e37d-11e8-9d8c-a1b30045967f",
         "x": [
          55
         ],
         "y": [
          76
         ]
        },
        {
         "marker": {
          "color": "rgb(0,255,0)",
          "colorscale": "Viridis",
          "line": {
           "width": 2
          },
          "size": 12,
          "symbol": 3
         },
         "mode": "markers",
         "name": "Student_17",
         "text": [
          "Student_17"
         ],
         "type": "scatter",
         "uid": "df5456b6-e37d-11e8-9d8c-a1b30045967f",
         "x": [
          4
         ],
         "y": [
          44
         ]
        },
        {
         "marker": {
          "color": "rgb(255,0,0)",
          "colorscale": "Viridis",
          "line": {
           "width": 2
          },
          "size": 12,
          "symbol": 0
         },
         "mode": "markers",
         "name": "Student_18",
         "text": [
          "Student_18"
         ],
         "type": "scatter",
         "uid": "df54579c-e37d-11e8-9d8c-a1b30045967f",
         "x": [
          28
         ],
         "y": [
          66
         ]
        },
        {
         "marker": {
          "color": "rgb(0,0,255)",
          "colorscale": "Viridis",
          "line": {
           "width": 2
          },
          "size": 12,
          "symbol": 1
         },
         "mode": "markers",
         "name": "Student_19",
         "text": [
          "Student_19"
         ],
         "type": "scatter",
         "uid": "df545878-e37d-11e8-9d8c-a1b30045967f",
         "x": [
          42
         ],
         "y": [
          79
         ]
        },
        {
         "marker": {
          "color": "rgb(0,255,0)",
          "colorscale": "Viridis",
          "line": {
           "width": 2
          },
          "size": 12,
          "symbol": 3
         },
         "mode": "markers",
         "name": "Student_20",
         "text": [
          "Student_20"
         ],
         "type": "scatter",
         "uid": "df545954-e37d-11e8-9d8c-a1b30045967f",
         "x": [
          6
         ],
         "y": [
          45
         ]
        },
        {
         "marker": {
          "color": "rgb(0,0,255)",
          "colorscale": "Viridis",
          "line": {
           "width": 2
          },
          "size": 12,
          "symbol": 1
         },
         "mode": "markers",
         "name": "Student_21",
         "text": [
          "Student_21"
         ],
         "type": "scatter",
         "uid": "df545a3a-e37d-11e8-9d8c-a1b30045967f",
         "x": [
          52
         ],
         "y": [
          71
         ]
        },
        {
         "marker": {
          "color": "rgb(0,255,0)",
          "colorscale": "Viridis",
          "line": {
           "width": 2
          },
          "size": 12,
          "symbol": 3
         },
         "mode": "markers",
         "name": "Student_22",
         "text": [
          "Student_22"
         ],
         "type": "scatter",
         "uid": "df545b20-e37d-11e8-9d8c-a1b30045967f",
         "x": [
          2
         ],
         "y": [
          50
         ]
        },
        {
         "marker": {
          "color": "rgb(255,0,0)",
          "colorscale": "Viridis",
          "line": {
           "width": 2
          },
          "size": 12,
          "symbol": 0
         },
         "mode": "markers",
         "name": "Student_23",
         "text": [
          "Student_23"
         ],
         "type": "scatter",
         "uid": "df545c06-e37d-11e8-9d8c-a1b30045967f",
         "x": [
          11
         ],
         "y": [
          66
         ]
        },
        {
         "marker": {
          "color": "rgb(0,255,0)",
          "colorscale": "Viridis",
          "line": {
           "width": 2
          },
          "size": 12,
          "symbol": 3
         },
         "mode": "markers",
         "name": "Student_24",
         "text": [
          "Student_24"
         ],
         "type": "scatter",
         "uid": "df545cec-e37d-11e8-9d8c-a1b30045967f",
         "x": [
          4
         ],
         "y": [
          38
         ]
        },
        {
         "marker": {
          "color": "rgb(0,255,0)",
          "colorscale": "Viridis",
          "line": {
           "width": 2
          },
          "size": 12,
          "symbol": 3
         },
         "mode": "markers",
         "name": "Student_25",
         "text": [
          "Student_25"
         ],
         "type": "scatter",
         "uid": "df545d8c-e37d-11e8-9d8c-a1b30045967f",
         "x": [
          4
         ],
         "y": [
          34
         ]
        },
        {
         "marker": {
          "color": "rgb(255,0,0)",
          "colorscale": "Viridis",
          "line": {
           "width": 2
          },
          "size": 12,
          "symbol": 0
         },
         "mode": "markers",
         "name": "Student_26",
         "text": [
          "Student_26"
         ],
         "type": "scatter",
         "uid": "df545e0e-e37d-11e8-9d8c-a1b30045967f",
         "x": [
          18
         ],
         "y": [
          55
         ]
        },
        {
         "marker": {
          "color": "rgb(255,0,0)",
          "colorscale": "Viridis",
          "line": {
           "width": 2
          },
          "size": 12,
          "symbol": 0
         },
         "mode": "markers",
         "name": "Student_27",
         "text": [
          "Student_27"
         ],
         "type": "scatter",
         "uid": "df545e9a-e37d-11e8-9d8c-a1b30045967f",
         "x": [
          12
         ],
         "y": [
          59
         ]
        },
        {
         "marker": {
          "color": "rgb(255,0,0)",
          "colorscale": "Viridis",
          "line": {
           "width": 2
          },
          "size": 12,
          "symbol": 0
         },
         "mode": "markers",
         "name": "Student_28",
         "text": [
          "Student_28"
         ],
         "type": "scatter",
         "uid": "df545f1c-e37d-11e8-9d8c-a1b30045967f",
         "x": [
          17
         ],
         "y": [
          68
         ]
        },
        {
         "marker": {
          "color": "rgb(255,0,0)",
          "colorscale": "Viridis",
          "line": {
           "width": 2
          },
          "size": 12,
          "symbol": 0
         },
         "mode": "markers",
         "name": "Student_29",
         "text": [
          "Student_29"
         ],
         "type": "scatter",
         "uid": "df545f9e-e37d-11e8-9d8c-a1b30045967f",
         "x": [
          20
         ],
         "y": [
          66
         ]
        },
        {
         "marker": {
          "color": "rgb(255,0,0)",
          "colorscale": "Viridis",
          "line": {
           "width": 2
          },
          "size": 12,
          "symbol": 0
         },
         "mode": "markers",
         "name": "Student_30",
         "text": [
          "Student_30"
         ],
         "type": "scatter",
         "uid": "df546020-e37d-11e8-9d8c-a1b30045967f",
         "x": [
          20
         ],
         "y": [
          53
         ]
        },
        {
         "marker": {
          "color": "rgb(0,255,0)",
          "colorscale": "Viridis",
          "line": {
           "width": 2
          },
          "size": 12,
          "symbol": 3
         },
         "mode": "markers",
         "name": "Student_31",
         "text": [
          "Student_31"
         ],
         "type": "scatter",
         "uid": "df5460a2-e37d-11e8-9d8c-a1b30045967f",
         "x": [
          2
         ],
         "y": [
          44
         ]
        },
        {
         "marker": {
          "color": "rgb(0,255,0)",
          "colorscale": "Viridis",
          "line": {
           "width": 2
          },
          "size": 12,
          "symbol": 3
         },
         "mode": "markers",
         "name": "Student_32",
         "text": [
          "Student_32"
         ],
         "type": "scatter",
         "uid": "df54612e-e37d-11e8-9d8c-a1b30045967f",
         "x": [
          4
         ],
         "y": [
          42
         ]
        },
        {
         "marker": {
          "color": "rgb(255,0,0)",
          "colorscale": "Viridis",
          "line": {
           "width": 2
          },
          "size": 12,
          "symbol": 0
         },
         "mode": "markers",
         "name": "Student_33",
         "text": [
          "Student_33"
         ],
         "type": "scatter",
         "uid": "df5461a6-e37d-11e8-9d8c-a1b30045967f",
         "x": [
          20
         ],
         "y": [
          63
         ]
        },
        {
         "marker": {
          "color": "rgb(255,255,255)",
          "colorscale": "Viridis",
          "line": {
           "width": 2
          },
          "size": 12,
          "symbol": 2
         },
         "mode": "markers",
         "name": "Student_34",
         "text": [
          "Student_34"
         ],
         "type": "scatter",
         "uid": "df546228-e37d-11e8-9d8c-a1b30045967f",
         "x": [
          6
         ],
         "y": [
          14
         ]
        },
        {
         "marker": {
          "color": "rgb(255,0,0)",
          "colorscale": "Viridis",
          "line": {
           "width": 2
          },
          "size": 12,
          "symbol": 0
         },
         "mode": "markers",
         "name": "Student_35",
         "text": [
          "Student_35"
         ],
         "type": "scatter",
         "uid": "df5462aa-e37d-11e8-9d8c-a1b30045967f",
         "x": [
          21
         ],
         "y": [
          67
         ]
        },
        {
         "marker": {
          "color": "rgb(255,0,0)",
          "colorscale": "Viridis",
          "line": {
           "width": 2
          },
          "size": 12,
          "symbol": 0
         },
         "mode": "markers",
         "name": "Student_36",
         "text": [
          "Student_36"
         ],
         "type": "scatter",
         "uid": "df54632c-e37d-11e8-9d8c-a1b30045967f",
         "x": [
          23
         ],
         "y": [
          70
         ]
        },
        {
         "marker": {
          "color": "rgb(255,0,0)",
          "colorscale": "Viridis",
          "line": {
           "width": 2
          },
          "size": 12,
          "symbol": 0
         },
         "mode": "markers",
         "name": "Student_37",
         "text": [
          "Student_37"
         ],
         "type": "scatter",
         "uid": "df5463ae-e37d-11e8-9d8c-a1b30045967f",
         "x": [
          10
         ],
         "y": [
          58
         ]
        },
        {
         "marker": {
          "color": "rgb(255,255,255)",
          "colorscale": "Viridis",
          "line": {
           "width": 2
          },
          "size": 12,
          "symbol": 2
         },
         "mode": "markers",
         "name": "Student_38",
         "text": [
          "Student_38"
         ],
         "type": "scatter",
         "uid": "df546430-e37d-11e8-9d8c-a1b30045967f",
         "x": [
          5
         ],
         "y": [
          22
         ]
        },
        {
         "marker": {
          "color": "rgb(0,255,0)",
          "colorscale": "Viridis",
          "line": {
           "width": 2
          },
          "size": 12,
          "symbol": 3
         },
         "mode": "markers",
         "name": "Student_39",
         "text": [
          "Student_39"
         ],
         "type": "scatter",
         "uid": "df5464b2-e37d-11e8-9d8c-a1b30045967f",
         "x": [
          7
         ],
         "y": [
          35
         ]
        },
        {
         "marker": {
          "color": "rgb(0,255,0)",
          "colorscale": "Viridis",
          "line": {
           "width": 2
          },
          "size": 12,
          "symbol": 3
         },
         "mode": "markers",
         "name": "Student_40",
         "text": [
          "Student_40"
         ],
         "type": "scatter",
         "uid": "df546534-e37d-11e8-9d8c-a1b30045967f",
         "x": [
          6
         ],
         "y": [
          40
         ]
        },
        {
         "marker": {
          "color": "rgb(0,255,0)",
          "colorscale": "Viridis",
          "line": {
           "width": 2
          },
          "size": 12,
          "symbol": 3
         },
         "mode": "markers",
         "name": "Student_41",
         "text": [
          "Student_41"
         ],
         "type": "scatter",
         "uid": "df5465ac-e37d-11e8-9d8c-a1b30045967f",
         "x": [
          3
         ],
         "y": [
          47
         ]
        },
        {
         "marker": {
          "color": "rgb(0,0,255)",
          "colorscale": "Viridis",
          "line": {
           "width": 2
          },
          "size": 12,
          "symbol": 1
         },
         "mode": "markers",
         "name": "Student_42",
         "text": [
          "Student_42"
         ],
         "type": "scatter",
         "uid": "df54662e-e37d-11e8-9d8c-a1b30045967f",
         "x": [
          38
         ],
         "y": [
          75
         ]
        },
        {
         "marker": {
          "color": "rgb(0,255,0)",
          "colorscale": "Viridis",
          "line": {
           "width": 2
          },
          "size": 12,
          "symbol": 3
         },
         "mode": "markers",
         "name": "Student_43",
         "text": [
          "Student_43"
         ],
         "type": "scatter",
         "uid": "df5466b0-e37d-11e8-9d8c-a1b30045967f",
         "x": [
          3
         ],
         "y": [
          35
         ]
        },
        {
         "marker": {
          "color": "rgb(255,0,0)",
          "colorscale": "Viridis",
          "line": {
           "width": 2
          },
          "size": 12,
          "symbol": 0
         },
         "mode": "markers",
         "name": "Student_44",
         "text": [
          "Student_44"
         ],
         "type": "scatter",
         "uid": "df546732-e37d-11e8-9d8c-a1b30045967f",
         "x": [
          15
         ],
         "y": [
          69
         ]
        },
        {
         "marker": {
          "color": "rgb(0,0,255)",
          "colorscale": "Viridis",
          "line": {
           "width": 2
          },
          "size": 12,
          "symbol": 1
         },
         "mode": "markers",
         "name": "Student_45",
         "text": [
          "Student_45"
         ],
         "type": "scatter",
         "uid": "df5467b4-e37d-11e8-9d8c-a1b30045967f",
         "x": [
          45
         ],
         "y": [
          82
         ]
        },
        {
         "marker": {
          "color": "rgb(0,255,0)",
          "colorscale": "Viridis",
          "line": {
           "width": 2
          },
          "size": 12,
          "symbol": 3
         },
         "mode": "markers",
         "name": "Student_46",
         "text": [
          "Student_46"
         ],
         "type": "scatter",
         "uid": "df54682c-e37d-11e8-9d8c-a1b30045967f",
         "x": [
          5
         ],
         "y": [
          47
         ]
        },
        {
         "marker": {
          "color": "rgb(0,255,0)",
          "colorscale": "Viridis",
          "line": {
           "width": 2
          },
          "size": 12,
          "symbol": 3
         },
         "mode": "markers",
         "name": "Student_47",
         "text": [
          "Student_47"
         ],
         "type": "scatter",
         "uid": "df5468ae-e37d-11e8-9d8c-a1b30045967f",
         "x": [
          7
         ],
         "y": [
          34
         ]
        },
        {
         "marker": {
          "color": "rgb(0,255,0)",
          "colorscale": "Viridis",
          "line": {
           "width": 2
          },
          "size": 12,
          "symbol": 3
         },
         "mode": "markers",
         "name": "Student_48",
         "text": [
          "Student_48"
         ],
         "type": "scatter",
         "uid": "df546926-e37d-11e8-9d8c-a1b30045967f",
         "x": [
          3
         ],
         "y": [
          47
         ]
        },
        {
         "marker": {
          "color": "rgb(255,255,255)",
          "colorscale": "Viridis",
          "line": {
           "width": 2
          },
          "size": 12,
          "symbol": 2
         },
         "mode": "markers",
         "name": "Student_49",
         "text": [
          "Student_49"
         ],
         "type": "scatter",
         "uid": "df546a34-e37d-11e8-9d8c-a1b30045967f",
         "x": [
          5
         ],
         "y": [
          26
         ]
        },
        {
         "marker": {
          "color": "rgb(0,255,0)",
          "colorscale": "Viridis",
          "line": {
           "width": 2
          },
          "size": 12,
          "symbol": 3
         },
         "mode": "markers",
         "name": "Student_50",
         "text": [
          "Student_50"
         ],
         "type": "scatter",
         "uid": "df546ab6-e37d-11e8-9d8c-a1b30045967f",
         "x": [
          4
         ],
         "y": [
          32
         ]
        },
        {
         "marker": {
          "color": "rgb(0,255,0)",
          "colorscale": "Viridis",
          "line": {
           "width": 2
          },
          "size": 12,
          "symbol": 3
         },
         "mode": "markers",
         "name": "Student_51",
         "text": [
          "Student_51"
         ],
         "type": "scatter",
         "uid": "df546b42-e37d-11e8-9d8c-a1b30045967f",
         "x": [
          16
         ],
         "y": [
          57
         ]
        },
        {
         "marker": {
          "color": "rgb(255,0,0)",
          "colorscale": "Viridis",
          "line": {
           "width": 2
          },
          "size": 12,
          "symbol": 0
         },
         "mode": "markers",
         "name": "Student_52",
         "text": [
          "Student_52"
         ],
         "type": "scatter",
         "uid": "df546bc4-e37d-11e8-9d8c-a1b30045967f",
         "x": [
          19
         ],
         "y": [
          59
         ]
        },
        {
         "marker": {
          "color": "rgb(255,255,255)",
          "colorscale": "Viridis",
          "line": {
           "width": 2
          },
          "size": 12,
          "symbol": 2
         },
         "mode": "markers",
         "name": "Student_53",
         "text": [
          "Student_53"
         ],
         "type": "scatter",
         "uid": "df546c46-e37d-11e8-9d8c-a1b30045967f",
         "x": [
          6
         ],
         "y": [
          26
         ]
        },
        {
         "marker": {
          "color": "rgb(0,255,0)",
          "colorscale": "Viridis",
          "line": {
           "width": 2
          },
          "size": 12,
          "symbol": 3
         },
         "mode": "markers",
         "name": "Student_54",
         "text": [
          "Student_54"
         ],
         "type": "scatter",
         "uid": "df546cc8-e37d-11e8-9d8c-a1b30045967f",
         "x": [
          4
         ],
         "y": [
          45
         ]
        },
        {
         "marker": {
          "color": "rgb(0,255,0)",
          "colorscale": "Viridis",
          "line": {
           "width": 2
          },
          "size": 12,
          "symbol": 3
         },
         "mode": "markers",
         "name": "Student_55",
         "text": [
          "Student_55"
         ],
         "type": "scatter",
         "uid": "df546d4a-e37d-11e8-9d8c-a1b30045967f",
         "x": [
          5
         ],
         "y": [
          42
         ]
        },
        {
         "marker": {
          "color": "rgb(0,255,0)",
          "colorscale": "Viridis",
          "line": {
           "width": 2
          },
          "size": 12,
          "symbol": 3
         },
         "mode": "markers",
         "name": "Student_56",
         "text": [
          "Student_56"
         ],
         "type": "scatter",
         "uid": "df546dcc-e37d-11e8-9d8c-a1b30045967f",
         "x": [
          3
         ],
         "y": [
          44
         ]
        },
        {
         "marker": {
          "color": "rgb(255,255,255)",
          "colorscale": "Viridis",
          "line": {
           "width": 2
          },
          "size": 12,
          "symbol": 2
         },
         "mode": "markers",
         "name": "Student_57",
         "text": [
          "Student_57"
         ],
         "type": "scatter",
         "uid": "df546e4e-e37d-11e8-9d8c-a1b30045967f",
         "x": [
          5
         ],
         "y": [
          15
         ]
        },
        {
         "marker": {
          "color": "rgb(0,0,255)",
          "colorscale": "Viridis",
          "line": {
           "width": 2
          },
          "size": 12,
          "symbol": 1
         },
         "mode": "markers",
         "name": "Student_58",
         "text": [
          "Student_58"
         ],
         "type": "scatter",
         "uid": "df546eda-e37d-11e8-9d8c-a1b30045967f",
         "x": [
          60
         ],
         "y": [
          74
         ]
        },
        {
         "marker": {
          "color": "rgb(255,0,0)",
          "colorscale": "Viridis",
          "line": {
           "width": 2
          },
          "size": 12,
          "symbol": 0
         },
         "mode": "markers",
         "name": "Student_59",
         "text": [
          "Student_59"
         ],
         "type": "scatter",
         "uid": "df546f5c-e37d-11e8-9d8c-a1b30045967f",
         "x": [
          17
         ],
         "y": [
          65
         ]
        },
        {
         "marker": {
          "color": "rgb(255,255,255)",
          "colorscale": "Viridis",
          "line": {
           "width": 2
          },
          "size": 12,
          "symbol": 2
         },
         "mode": "markers",
         "name": "Student_60",
         "text": [
          "Student_60"
         ],
         "type": "scatter",
         "uid": "df546fde-e37d-11e8-9d8c-a1b30045967f",
         "x": [
          3
         ],
         "y": [
          22
         ]
        }
       ],
       "layout": {
        "hovermode": "closest",
        "showlegend": true,
        "title": "Notas dos estudantes vs acesso aos materiais",
        "xaxis": {
         "autorange": false,
         "fixedrange": false,
         "range": [
          0,
          70
         ],
         "rangemode": "normal",
         "showline": true,
         "title": "Acesso aos materiais",
         "zeroline": false
        },
        "yaxis": {
         "autorange": false,
         "fixedrange": false,
         "range": [
          0,
          97
         ],
         "rangemode": "normal",
         "showline": true,
         "title": "Notas"
        }
       }
      },
      "text/html": [
       "<div id=\"2c00a9db-c9b6-4ec7-883e-66a6744ac450\" style=\"height: 525px; width: 100%;\" class=\"plotly-graph-div\"></div><script type=\"text/javascript\">require([\"plotly\"], function(Plotly) { window.PLOTLYENV=window.PLOTLYENV || {};window.PLOTLYENV.BASE_URL=\"https://plot.ly\";Plotly.newPlot(\"2c00a9db-c9b6-4ec7-883e-66a6744ac450\", [{\"marker\": {\"color\": \"rgb(255,0,0)\", \"colorscale\": \"Viridis\", \"line\": {\"width\": 2}, \"size\": 12, \"symbol\": 0}, \"mode\": \"markers\", \"name\": \"Student_1\", \"text\": [\"Student_1\"], \"x\": [18.0], \"y\": [56], \"type\": \"scatter\", \"uid\": \"df544a2c-e37d-11e8-9d8c-a1b30045967f\"}, {\"marker\": {\"color\": \"rgb(0,255,0)\", \"colorscale\": \"Viridis\", \"line\": {\"width\": 2}, \"size\": 12, \"symbol\": 3}, \"mode\": \"markers\", \"name\": \"Student_2\", \"text\": [\"Student_2\"], \"x\": [2.0], \"y\": [47], \"type\": \"scatter\", \"uid\": \"df544bb2-e37d-11e8-9d8c-a1b30045967f\"}, {\"marker\": {\"color\": \"rgb(0,255,0)\", \"colorscale\": \"Viridis\", \"line\": {\"width\": 2}, \"size\": 12, \"symbol\": 3}, \"mode\": \"markers\", \"name\": \"Student_3\", \"text\": [\"Student_3\"], \"x\": [2.0], \"y\": [38], \"type\": \"scatter\", \"uid\": \"df544c7a-e37d-11e8-9d8c-a1b30045967f\"}, {\"marker\": {\"color\": \"rgb(0,255,0)\", \"colorscale\": \"Viridis\", \"line\": {\"width\": 2}, \"size\": 12, \"symbol\": 3}, \"mode\": \"markers\", \"name\": \"Student_4\", \"text\": [\"Student_4\"], \"x\": [5.0], \"y\": [44], \"type\": \"scatter\", \"uid\": \"df544d1a-e37d-11e8-9d8c-a1b30045967f\"}, {\"marker\": {\"color\": \"rgb(255,255,255)\", \"colorscale\": \"Viridis\", \"line\": {\"width\": 2}, \"size\": 12, \"symbol\": 2}, \"mode\": \"markers\", \"name\": \"Student_5\", \"text\": [\"Student_5\"], \"x\": [3.0], \"y\": [17], \"type\": \"scatter\", \"uid\": \"df544da6-e37d-11e8-9d8c-a1b30045967f\"}, {\"marker\": {\"color\": \"rgb(0,255,0)\", \"colorscale\": \"Viridis\", \"line\": {\"width\": 2}, \"size\": 12, \"symbol\": 3}, \"mode\": \"markers\", \"name\": \"Student_6\", \"text\": [\"Student_6\"], \"x\": [5.0], \"y\": [44], \"type\": \"scatter\", \"uid\": \"df544e32-e37d-11e8-9d8c-a1b30045967f\"}, {\"marker\": {\"color\": \"rgb(0,0,255)\", \"colorscale\": \"Viridis\", \"line\": {\"width\": 2}, \"size\": 12, \"symbol\": 1}, \"mode\": \"markers\", \"name\": \"Student_7\", \"text\": [\"Student_7\"], \"x\": [52.0], \"y\": [87], \"type\": \"scatter\", \"uid\": \"df544ebe-e37d-11e8-9d8c-a1b30045967f\"}, {\"marker\": {\"color\": \"rgb(255,0,0)\", \"colorscale\": \"Viridis\", \"line\": {\"width\": 2}, \"size\": 12, \"symbol\": 0}, \"mode\": \"markers\", \"name\": \"Student_8\", \"text\": [\"Student_8\"], \"x\": [18.0], \"y\": [63], \"type\": \"scatter\", \"uid\": \"df544f54-e37d-11e8-9d8c-a1b30045967f\"}, {\"marker\": {\"color\": \"rgb(0,255,0)\", \"colorscale\": \"Viridis\", \"line\": {\"width\": 2}, \"size\": 12, \"symbol\": 3}, \"mode\": \"markers\", \"name\": \"Student_9\", \"text\": [\"Student_9\"], \"x\": [2.0], \"y\": [36], \"type\": \"scatter\", \"uid\": \"df544fe0-e37d-11e8-9d8c-a1b30045967f\"}, {\"marker\": {\"color\": \"rgb(255,0,0)\", \"colorscale\": \"Viridis\", \"line\": {\"width\": 2}, \"size\": 12, \"symbol\": 0}, \"mode\": \"markers\", \"name\": \"Student_10\", \"text\": [\"Student_10\"], \"x\": [24.0], \"y\": [54], \"type\": \"scatter\", \"uid\": \"df54506c-e37d-11e8-9d8c-a1b30045967f\"}, {\"marker\": {\"color\": \"rgb(0,255,0)\", \"colorscale\": \"Viridis\", \"line\": {\"width\": 2}, \"size\": 12, \"symbol\": 3}, \"mode\": \"markers\", \"name\": \"Student_11\", \"text\": [\"Student_11\"], \"x\": [2.0], \"y\": [49], \"type\": \"scatter\", \"uid\": \"df545152-e37d-11e8-9d8c-a1b30045967f\"}, {\"marker\": {\"color\": \"rgb(0,255,0)\", \"colorscale\": \"Viridis\", \"line\": {\"width\": 2}, \"size\": 12, \"symbol\": 3}, \"mode\": \"markers\", \"name\": \"Student_12\", \"text\": [\"Student_12\"], \"x\": [5.0], \"y\": [47], \"type\": \"scatter\", \"uid\": \"df545238-e37d-11e8-9d8c-a1b30045967f\"}, {\"marker\": {\"color\": \"rgb(255,0,0)\", \"colorscale\": \"Viridis\", \"line\": {\"width\": 2}, \"size\": 12, \"symbol\": 0}, \"mode\": \"markers\", \"name\": \"Student_13\", \"text\": [\"Student_13\"], \"x\": [16.0], \"y\": [70], \"type\": \"scatter\", \"uid\": \"df54531e-e37d-11e8-9d8c-a1b30045967f\"}, {\"marker\": {\"color\": \"rgb(0,255,0)\", \"colorscale\": \"Viridis\", \"line\": {\"width\": 2}, \"size\": 12, \"symbol\": 3}, \"mode\": \"markers\", \"name\": \"Student_14\", \"text\": [\"Student_14\"], \"x\": [4.0], \"y\": [46], \"type\": \"scatter\", \"uid\": \"df545404-e37d-11e8-9d8c-a1b30045967f\"}, {\"marker\": {\"color\": \"rgb(0,255,0)\", \"colorscale\": \"Viridis\", \"line\": {\"width\": 2}, \"size\": 12, \"symbol\": 3}, \"mode\": \"markers\", \"name\": \"Student_15\", \"text\": [\"Student_15\"], \"x\": [4.0], \"y\": [47], \"type\": \"scatter\", \"uid\": \"df5454ea-e37d-11e8-9d8c-a1b30045967f\"}, {\"marker\": {\"color\": \"rgb(0,0,255)\", \"colorscale\": \"Viridis\", \"line\": {\"width\": 2}, \"size\": 12, \"symbol\": 1}, \"mode\": \"markers\", \"name\": \"Student_16\", \"text\": [\"Student_16\"], \"x\": [55.0], \"y\": [76], \"type\": \"scatter\", \"uid\": \"df5455d0-e37d-11e8-9d8c-a1b30045967f\"}, {\"marker\": {\"color\": \"rgb(0,255,0)\", \"colorscale\": \"Viridis\", \"line\": {\"width\": 2}, \"size\": 12, \"symbol\": 3}, \"mode\": \"markers\", \"name\": \"Student_17\", \"text\": [\"Student_17\"], \"x\": [4.0], \"y\": [44], \"type\": \"scatter\", \"uid\": \"df5456b6-e37d-11e8-9d8c-a1b30045967f\"}, {\"marker\": {\"color\": \"rgb(255,0,0)\", \"colorscale\": \"Viridis\", \"line\": {\"width\": 2}, \"size\": 12, \"symbol\": 0}, \"mode\": \"markers\", \"name\": \"Student_18\", \"text\": [\"Student_18\"], \"x\": [28.0], \"y\": [66], \"type\": \"scatter\", \"uid\": \"df54579c-e37d-11e8-9d8c-a1b30045967f\"}, {\"marker\": {\"color\": \"rgb(0,0,255)\", \"colorscale\": \"Viridis\", \"line\": {\"width\": 2}, \"size\": 12, \"symbol\": 1}, \"mode\": \"markers\", \"name\": \"Student_19\", \"text\": [\"Student_19\"], \"x\": [42.0], \"y\": [79], \"type\": \"scatter\", \"uid\": \"df545878-e37d-11e8-9d8c-a1b30045967f\"}, {\"marker\": {\"color\": \"rgb(0,255,0)\", \"colorscale\": \"Viridis\", \"line\": {\"width\": 2}, \"size\": 12, \"symbol\": 3}, \"mode\": \"markers\", \"name\": \"Student_20\", \"text\": [\"Student_20\"], \"x\": [6.0], \"y\": [45], \"type\": \"scatter\", \"uid\": \"df545954-e37d-11e8-9d8c-a1b30045967f\"}, {\"marker\": {\"color\": \"rgb(0,0,255)\", \"colorscale\": \"Viridis\", \"line\": {\"width\": 2}, \"size\": 12, \"symbol\": 1}, \"mode\": \"markers\", \"name\": \"Student_21\", \"text\": [\"Student_21\"], \"x\": [52.0], \"y\": [71], \"type\": \"scatter\", \"uid\": \"df545a3a-e37d-11e8-9d8c-a1b30045967f\"}, {\"marker\": {\"color\": \"rgb(0,255,0)\", \"colorscale\": \"Viridis\", \"line\": {\"width\": 2}, \"size\": 12, \"symbol\": 3}, \"mode\": \"markers\", \"name\": \"Student_22\", \"text\": [\"Student_22\"], \"x\": [2.0], \"y\": [50], \"type\": \"scatter\", \"uid\": \"df545b20-e37d-11e8-9d8c-a1b30045967f\"}, {\"marker\": {\"color\": \"rgb(255,0,0)\", \"colorscale\": \"Viridis\", \"line\": {\"width\": 2}, \"size\": 12, \"symbol\": 0}, \"mode\": \"markers\", \"name\": \"Student_23\", \"text\": [\"Student_23\"], \"x\": [11.0], \"y\": [66], \"type\": \"scatter\", \"uid\": \"df545c06-e37d-11e8-9d8c-a1b30045967f\"}, {\"marker\": {\"color\": \"rgb(0,255,0)\", \"colorscale\": \"Viridis\", \"line\": {\"width\": 2}, \"size\": 12, \"symbol\": 3}, \"mode\": \"markers\", \"name\": \"Student_24\", \"text\": [\"Student_24\"], \"x\": [4.0], \"y\": [38], \"type\": \"scatter\", \"uid\": \"df545cec-e37d-11e8-9d8c-a1b30045967f\"}, {\"marker\": {\"color\": \"rgb(0,255,0)\", \"colorscale\": \"Viridis\", \"line\": {\"width\": 2}, \"size\": 12, \"symbol\": 3}, \"mode\": \"markers\", \"name\": \"Student_25\", \"text\": [\"Student_25\"], \"x\": [4.0], \"y\": [34], \"type\": \"scatter\", \"uid\": \"df545d8c-e37d-11e8-9d8c-a1b30045967f\"}, {\"marker\": {\"color\": \"rgb(255,0,0)\", \"colorscale\": \"Viridis\", \"line\": {\"width\": 2}, \"size\": 12, \"symbol\": 0}, \"mode\": \"markers\", \"name\": \"Student_26\", \"text\": [\"Student_26\"], \"x\": [18.0], \"y\": [55], \"type\": \"scatter\", \"uid\": \"df545e0e-e37d-11e8-9d8c-a1b30045967f\"}, {\"marker\": {\"color\": \"rgb(255,0,0)\", \"colorscale\": \"Viridis\", \"line\": {\"width\": 2}, \"size\": 12, \"symbol\": 0}, \"mode\": \"markers\", \"name\": \"Student_27\", \"text\": [\"Student_27\"], \"x\": [12.0], \"y\": [59], \"type\": \"scatter\", \"uid\": \"df545e9a-e37d-11e8-9d8c-a1b30045967f\"}, {\"marker\": {\"color\": \"rgb(255,0,0)\", \"colorscale\": \"Viridis\", \"line\": {\"width\": 2}, \"size\": 12, \"symbol\": 0}, \"mode\": \"markers\", \"name\": \"Student_28\", \"text\": [\"Student_28\"], \"x\": [17.0], \"y\": [68], \"type\": \"scatter\", \"uid\": \"df545f1c-e37d-11e8-9d8c-a1b30045967f\"}, {\"marker\": {\"color\": \"rgb(255,0,0)\", \"colorscale\": \"Viridis\", \"line\": {\"width\": 2}, \"size\": 12, \"symbol\": 0}, \"mode\": \"markers\", \"name\": \"Student_29\", \"text\": [\"Student_29\"], \"x\": [20.0], \"y\": [66], \"type\": \"scatter\", \"uid\": \"df545f9e-e37d-11e8-9d8c-a1b30045967f\"}, {\"marker\": {\"color\": \"rgb(255,0,0)\", \"colorscale\": \"Viridis\", \"line\": {\"width\": 2}, \"size\": 12, \"symbol\": 0}, \"mode\": \"markers\", \"name\": \"Student_30\", \"text\": [\"Student_30\"], \"x\": [20.0], \"y\": [53], \"type\": \"scatter\", \"uid\": \"df546020-e37d-11e8-9d8c-a1b30045967f\"}, {\"marker\": {\"color\": \"rgb(0,255,0)\", \"colorscale\": \"Viridis\", \"line\": {\"width\": 2}, \"size\": 12, \"symbol\": 3}, \"mode\": \"markers\", \"name\": \"Student_31\", \"text\": [\"Student_31\"], \"x\": [2.0], \"y\": [44], \"type\": \"scatter\", \"uid\": \"df5460a2-e37d-11e8-9d8c-a1b30045967f\"}, {\"marker\": {\"color\": \"rgb(0,255,0)\", \"colorscale\": \"Viridis\", \"line\": {\"width\": 2}, \"size\": 12, \"symbol\": 3}, \"mode\": \"markers\", \"name\": \"Student_32\", \"text\": [\"Student_32\"], \"x\": [4.0], \"y\": [42], \"type\": \"scatter\", \"uid\": \"df54612e-e37d-11e8-9d8c-a1b30045967f\"}, {\"marker\": {\"color\": \"rgb(255,0,0)\", \"colorscale\": \"Viridis\", \"line\": {\"width\": 2}, \"size\": 12, \"symbol\": 0}, \"mode\": \"markers\", \"name\": \"Student_33\", \"text\": [\"Student_33\"], \"x\": [20.0], \"y\": [63], \"type\": \"scatter\", \"uid\": \"df5461a6-e37d-11e8-9d8c-a1b30045967f\"}, {\"marker\": {\"color\": \"rgb(255,255,255)\", \"colorscale\": \"Viridis\", \"line\": {\"width\": 2}, \"size\": 12, \"symbol\": 2}, \"mode\": \"markers\", \"name\": \"Student_34\", \"text\": [\"Student_34\"], \"x\": [6.0], \"y\": [14], \"type\": \"scatter\", \"uid\": \"df546228-e37d-11e8-9d8c-a1b30045967f\"}, {\"marker\": {\"color\": \"rgb(255,0,0)\", \"colorscale\": \"Viridis\", \"line\": {\"width\": 2}, \"size\": 12, \"symbol\": 0}, \"mode\": \"markers\", \"name\": \"Student_35\", \"text\": [\"Student_35\"], \"x\": [21.0], \"y\": [67], \"type\": \"scatter\", \"uid\": \"df5462aa-e37d-11e8-9d8c-a1b30045967f\"}, {\"marker\": {\"color\": \"rgb(255,0,0)\", \"colorscale\": \"Viridis\", \"line\": {\"width\": 2}, \"size\": 12, \"symbol\": 0}, \"mode\": \"markers\", \"name\": \"Student_36\", \"text\": [\"Student_36\"], \"x\": [23.0], \"y\": [70], \"type\": \"scatter\", \"uid\": \"df54632c-e37d-11e8-9d8c-a1b30045967f\"}, {\"marker\": {\"color\": \"rgb(255,0,0)\", \"colorscale\": \"Viridis\", \"line\": {\"width\": 2}, \"size\": 12, \"symbol\": 0}, \"mode\": \"markers\", \"name\": \"Student_37\", \"text\": [\"Student_37\"], \"x\": [10.0], \"y\": [58], \"type\": \"scatter\", \"uid\": \"df5463ae-e37d-11e8-9d8c-a1b30045967f\"}, {\"marker\": {\"color\": \"rgb(255,255,255)\", \"colorscale\": \"Viridis\", \"line\": {\"width\": 2}, \"size\": 12, \"symbol\": 2}, \"mode\": \"markers\", \"name\": \"Student_38\", \"text\": [\"Student_38\"], \"x\": [5.0], \"y\": [22], \"type\": \"scatter\", \"uid\": \"df546430-e37d-11e8-9d8c-a1b30045967f\"}, {\"marker\": {\"color\": \"rgb(0,255,0)\", \"colorscale\": \"Viridis\", \"line\": {\"width\": 2}, \"size\": 12, \"symbol\": 3}, \"mode\": \"markers\", \"name\": \"Student_39\", \"text\": [\"Student_39\"], \"x\": [7.0], \"y\": [35], \"type\": \"scatter\", \"uid\": \"df5464b2-e37d-11e8-9d8c-a1b30045967f\"}, {\"marker\": {\"color\": \"rgb(0,255,0)\", \"colorscale\": \"Viridis\", \"line\": {\"width\": 2}, \"size\": 12, \"symbol\": 3}, \"mode\": \"markers\", \"name\": \"Student_40\", \"text\": [\"Student_40\"], \"x\": [6.0], \"y\": [40], \"type\": \"scatter\", \"uid\": \"df546534-e37d-11e8-9d8c-a1b30045967f\"}, {\"marker\": {\"color\": \"rgb(0,255,0)\", \"colorscale\": \"Viridis\", \"line\": {\"width\": 2}, \"size\": 12, \"symbol\": 3}, \"mode\": \"markers\", \"name\": \"Student_41\", \"text\": [\"Student_41\"], \"x\": [3.0], \"y\": [47], \"type\": \"scatter\", \"uid\": \"df5465ac-e37d-11e8-9d8c-a1b30045967f\"}, {\"marker\": {\"color\": \"rgb(0,0,255)\", \"colorscale\": \"Viridis\", \"line\": {\"width\": 2}, \"size\": 12, \"symbol\": 1}, \"mode\": \"markers\", \"name\": \"Student_42\", \"text\": [\"Student_42\"], \"x\": [38.0], \"y\": [75], \"type\": \"scatter\", \"uid\": \"df54662e-e37d-11e8-9d8c-a1b30045967f\"}, {\"marker\": {\"color\": \"rgb(0,255,0)\", \"colorscale\": \"Viridis\", \"line\": {\"width\": 2}, \"size\": 12, \"symbol\": 3}, \"mode\": \"markers\", \"name\": \"Student_43\", \"text\": [\"Student_43\"], \"x\": [3.0], \"y\": [35], \"type\": \"scatter\", \"uid\": \"df5466b0-e37d-11e8-9d8c-a1b30045967f\"}, {\"marker\": {\"color\": \"rgb(255,0,0)\", \"colorscale\": \"Viridis\", \"line\": {\"width\": 2}, \"size\": 12, \"symbol\": 0}, \"mode\": \"markers\", \"name\": \"Student_44\", \"text\": [\"Student_44\"], \"x\": [15.0], \"y\": [69], \"type\": \"scatter\", \"uid\": \"df546732-e37d-11e8-9d8c-a1b30045967f\"}, {\"marker\": {\"color\": \"rgb(0,0,255)\", \"colorscale\": \"Viridis\", \"line\": {\"width\": 2}, \"size\": 12, \"symbol\": 1}, \"mode\": \"markers\", \"name\": \"Student_45\", \"text\": [\"Student_45\"], \"x\": [45.0], \"y\": [82], \"type\": \"scatter\", \"uid\": \"df5467b4-e37d-11e8-9d8c-a1b30045967f\"}, {\"marker\": {\"color\": \"rgb(0,255,0)\", \"colorscale\": \"Viridis\", \"line\": {\"width\": 2}, \"size\": 12, \"symbol\": 3}, \"mode\": \"markers\", \"name\": \"Student_46\", \"text\": [\"Student_46\"], \"x\": [5.0], \"y\": [47], \"type\": \"scatter\", \"uid\": \"df54682c-e37d-11e8-9d8c-a1b30045967f\"}, {\"marker\": {\"color\": \"rgb(0,255,0)\", \"colorscale\": \"Viridis\", \"line\": {\"width\": 2}, \"size\": 12, \"symbol\": 3}, \"mode\": \"markers\", \"name\": \"Student_47\", \"text\": [\"Student_47\"], \"x\": [7.0], \"y\": [34], \"type\": \"scatter\", \"uid\": \"df5468ae-e37d-11e8-9d8c-a1b30045967f\"}, {\"marker\": {\"color\": \"rgb(0,255,0)\", \"colorscale\": \"Viridis\", \"line\": {\"width\": 2}, \"size\": 12, \"symbol\": 3}, \"mode\": \"markers\", \"name\": \"Student_48\", \"text\": [\"Student_48\"], \"x\": [3.0], \"y\": [47], \"type\": \"scatter\", \"uid\": \"df546926-e37d-11e8-9d8c-a1b30045967f\"}, {\"marker\": {\"color\": \"rgb(255,255,255)\", \"colorscale\": \"Viridis\", \"line\": {\"width\": 2}, \"size\": 12, \"symbol\": 2}, \"mode\": \"markers\", \"name\": \"Student_49\", \"text\": [\"Student_49\"], \"x\": [5.0], \"y\": [26], \"type\": \"scatter\", \"uid\": \"df546a34-e37d-11e8-9d8c-a1b30045967f\"}, {\"marker\": {\"color\": \"rgb(0,255,0)\", \"colorscale\": \"Viridis\", \"line\": {\"width\": 2}, \"size\": 12, \"symbol\": 3}, \"mode\": \"markers\", \"name\": \"Student_50\", \"text\": [\"Student_50\"], \"x\": [4.0], \"y\": [32], \"type\": \"scatter\", \"uid\": \"df546ab6-e37d-11e8-9d8c-a1b30045967f\"}, {\"marker\": {\"color\": \"rgb(0,255,0)\", \"colorscale\": \"Viridis\", \"line\": {\"width\": 2}, \"size\": 12, \"symbol\": 3}, \"mode\": \"markers\", \"name\": \"Student_51\", \"text\": [\"Student_51\"], \"x\": [16.0], \"y\": [57], \"type\": \"scatter\", \"uid\": \"df546b42-e37d-11e8-9d8c-a1b30045967f\"}, {\"marker\": {\"color\": \"rgb(255,0,0)\", \"colorscale\": \"Viridis\", \"line\": {\"width\": 2}, \"size\": 12, \"symbol\": 0}, \"mode\": \"markers\", \"name\": \"Student_52\", \"text\": [\"Student_52\"], \"x\": [19.0], \"y\": [59], \"type\": \"scatter\", \"uid\": \"df546bc4-e37d-11e8-9d8c-a1b30045967f\"}, {\"marker\": {\"color\": \"rgb(255,255,255)\", \"colorscale\": \"Viridis\", \"line\": {\"width\": 2}, \"size\": 12, \"symbol\": 2}, \"mode\": \"markers\", \"name\": \"Student_53\", \"text\": [\"Student_53\"], \"x\": [6.0], \"y\": [26], \"type\": \"scatter\", \"uid\": \"df546c46-e37d-11e8-9d8c-a1b30045967f\"}, {\"marker\": {\"color\": \"rgb(0,255,0)\", \"colorscale\": \"Viridis\", \"line\": {\"width\": 2}, \"size\": 12, \"symbol\": 3}, \"mode\": \"markers\", \"name\": \"Student_54\", \"text\": [\"Student_54\"], \"x\": [4.0], \"y\": [45], \"type\": \"scatter\", \"uid\": \"df546cc8-e37d-11e8-9d8c-a1b30045967f\"}, {\"marker\": {\"color\": \"rgb(0,255,0)\", \"colorscale\": \"Viridis\", \"line\": {\"width\": 2}, \"size\": 12, \"symbol\": 3}, \"mode\": \"markers\", \"name\": \"Student_55\", \"text\": [\"Student_55\"], \"x\": [5.0], \"y\": [42], \"type\": \"scatter\", \"uid\": \"df546d4a-e37d-11e8-9d8c-a1b30045967f\"}, {\"marker\": {\"color\": \"rgb(0,255,0)\", \"colorscale\": \"Viridis\", \"line\": {\"width\": 2}, \"size\": 12, \"symbol\": 3}, \"mode\": \"markers\", \"name\": \"Student_56\", \"text\": [\"Student_56\"], \"x\": [3.0], \"y\": [44], \"type\": \"scatter\", \"uid\": \"df546dcc-e37d-11e8-9d8c-a1b30045967f\"}, {\"marker\": {\"color\": \"rgb(255,255,255)\", \"colorscale\": \"Viridis\", \"line\": {\"width\": 2}, \"size\": 12, \"symbol\": 2}, \"mode\": \"markers\", \"name\": \"Student_57\", \"text\": [\"Student_57\"], \"x\": [5.0], \"y\": [15], \"type\": \"scatter\", \"uid\": \"df546e4e-e37d-11e8-9d8c-a1b30045967f\"}, {\"marker\": {\"color\": \"rgb(0,0,255)\", \"colorscale\": \"Viridis\", \"line\": {\"width\": 2}, \"size\": 12, \"symbol\": 1}, \"mode\": \"markers\", \"name\": \"Student_58\", \"text\": [\"Student_58\"], \"x\": [60.0], \"y\": [74], \"type\": \"scatter\", \"uid\": \"df546eda-e37d-11e8-9d8c-a1b30045967f\"}, {\"marker\": {\"color\": \"rgb(255,0,0)\", \"colorscale\": \"Viridis\", \"line\": {\"width\": 2}, \"size\": 12, \"symbol\": 0}, \"mode\": \"markers\", \"name\": \"Student_59\", \"text\": [\"Student_59\"], \"x\": [17.0], \"y\": [65], \"type\": \"scatter\", \"uid\": \"df546f5c-e37d-11e8-9d8c-a1b30045967f\"}, {\"marker\": {\"color\": \"rgb(255,255,255)\", \"colorscale\": \"Viridis\", \"line\": {\"width\": 2}, \"size\": 12, \"symbol\": 2}, \"mode\": \"markers\", \"name\": \"Student_60\", \"text\": [\"Student_60\"], \"x\": [3.0], \"y\": [22], \"type\": \"scatter\", \"uid\": \"df546fde-e37d-11e8-9d8c-a1b30045967f\"}], {\"hovermode\": \"closest\", \"showlegend\": true, \"title\": \"Notas dos estudantes vs acesso aos materiais\", \"xaxis\": {\"autorange\": false, \"fixedrange\": false, \"range\": [0, 70.0], \"rangemode\": \"normal\", \"showline\": true, \"title\": \"Acesso aos materiais\", \"zeroline\": false}, \"yaxis\": {\"autorange\": false, \"fixedrange\": false, \"range\": [0, 97], \"rangemode\": \"normal\", \"showline\": true, \"title\": \"Notas\"}}, {\"showLink\": true, \"linkText\": \"Export to plot.ly\"})});</script>"
      ],
      "text/vnd.plotly.v1+html": [
       "<div id=\"2c00a9db-c9b6-4ec7-883e-66a6744ac450\" style=\"height: 525px; width: 100%;\" class=\"plotly-graph-div\"></div><script type=\"text/javascript\">require([\"plotly\"], function(Plotly) { window.PLOTLYENV=window.PLOTLYENV || {};window.PLOTLYENV.BASE_URL=\"https://plot.ly\";Plotly.newPlot(\"2c00a9db-c9b6-4ec7-883e-66a6744ac450\", [{\"marker\": {\"color\": \"rgb(255,0,0)\", \"colorscale\": \"Viridis\", \"line\": {\"width\": 2}, \"size\": 12, \"symbol\": 0}, \"mode\": \"markers\", \"name\": \"Student_1\", \"text\": [\"Student_1\"], \"x\": [18.0], \"y\": [56], \"type\": \"scatter\", \"uid\": \"df544a2c-e37d-11e8-9d8c-a1b30045967f\"}, {\"marker\": {\"color\": \"rgb(0,255,0)\", \"colorscale\": \"Viridis\", \"line\": {\"width\": 2}, \"size\": 12, \"symbol\": 3}, \"mode\": \"markers\", \"name\": \"Student_2\", \"text\": [\"Student_2\"], \"x\": [2.0], \"y\": [47], \"type\": \"scatter\", \"uid\": \"df544bb2-e37d-11e8-9d8c-a1b30045967f\"}, {\"marker\": {\"color\": \"rgb(0,255,0)\", \"colorscale\": \"Viridis\", \"line\": {\"width\": 2}, \"size\": 12, \"symbol\": 3}, \"mode\": \"markers\", \"name\": \"Student_3\", \"text\": [\"Student_3\"], \"x\": [2.0], \"y\": [38], \"type\": \"scatter\", \"uid\": \"df544c7a-e37d-11e8-9d8c-a1b30045967f\"}, {\"marker\": {\"color\": \"rgb(0,255,0)\", \"colorscale\": \"Viridis\", \"line\": {\"width\": 2}, \"size\": 12, \"symbol\": 3}, \"mode\": \"markers\", \"name\": \"Student_4\", \"text\": [\"Student_4\"], \"x\": [5.0], \"y\": [44], \"type\": \"scatter\", \"uid\": \"df544d1a-e37d-11e8-9d8c-a1b30045967f\"}, {\"marker\": {\"color\": \"rgb(255,255,255)\", \"colorscale\": \"Viridis\", \"line\": {\"width\": 2}, \"size\": 12, \"symbol\": 2}, \"mode\": \"markers\", \"name\": \"Student_5\", \"text\": [\"Student_5\"], \"x\": [3.0], \"y\": [17], \"type\": \"scatter\", \"uid\": \"df544da6-e37d-11e8-9d8c-a1b30045967f\"}, {\"marker\": {\"color\": \"rgb(0,255,0)\", \"colorscale\": \"Viridis\", \"line\": {\"width\": 2}, \"size\": 12, \"symbol\": 3}, \"mode\": \"markers\", \"name\": \"Student_6\", \"text\": [\"Student_6\"], \"x\": [5.0], \"y\": [44], \"type\": \"scatter\", \"uid\": \"df544e32-e37d-11e8-9d8c-a1b30045967f\"}, {\"marker\": {\"color\": \"rgb(0,0,255)\", \"colorscale\": \"Viridis\", \"line\": {\"width\": 2}, \"size\": 12, \"symbol\": 1}, \"mode\": \"markers\", \"name\": \"Student_7\", \"text\": [\"Student_7\"], \"x\": [52.0], \"y\": [87], \"type\": \"scatter\", \"uid\": \"df544ebe-e37d-11e8-9d8c-a1b30045967f\"}, {\"marker\": {\"color\": \"rgb(255,0,0)\", \"colorscale\": \"Viridis\", \"line\": {\"width\": 2}, \"size\": 12, \"symbol\": 0}, \"mode\": \"markers\", \"name\": \"Student_8\", \"text\": [\"Student_8\"], \"x\": [18.0], \"y\": [63], \"type\": \"scatter\", \"uid\": \"df544f54-e37d-11e8-9d8c-a1b30045967f\"}, {\"marker\": {\"color\": \"rgb(0,255,0)\", \"colorscale\": \"Viridis\", \"line\": {\"width\": 2}, \"size\": 12, \"symbol\": 3}, \"mode\": \"markers\", \"name\": \"Student_9\", \"text\": [\"Student_9\"], \"x\": [2.0], \"y\": [36], \"type\": \"scatter\", \"uid\": \"df544fe0-e37d-11e8-9d8c-a1b30045967f\"}, {\"marker\": {\"color\": \"rgb(255,0,0)\", \"colorscale\": \"Viridis\", \"line\": {\"width\": 2}, \"size\": 12, \"symbol\": 0}, \"mode\": \"markers\", \"name\": \"Student_10\", \"text\": [\"Student_10\"], \"x\": [24.0], \"y\": [54], \"type\": \"scatter\", \"uid\": \"df54506c-e37d-11e8-9d8c-a1b30045967f\"}, {\"marker\": {\"color\": \"rgb(0,255,0)\", \"colorscale\": \"Viridis\", \"line\": {\"width\": 2}, \"size\": 12, \"symbol\": 3}, \"mode\": \"markers\", \"name\": \"Student_11\", \"text\": [\"Student_11\"], \"x\": [2.0], \"y\": [49], \"type\": \"scatter\", \"uid\": \"df545152-e37d-11e8-9d8c-a1b30045967f\"}, {\"marker\": {\"color\": \"rgb(0,255,0)\", \"colorscale\": \"Viridis\", \"line\": {\"width\": 2}, \"size\": 12, \"symbol\": 3}, \"mode\": \"markers\", \"name\": \"Student_12\", \"text\": [\"Student_12\"], \"x\": [5.0], \"y\": [47], \"type\": \"scatter\", \"uid\": \"df545238-e37d-11e8-9d8c-a1b30045967f\"}, {\"marker\": {\"color\": \"rgb(255,0,0)\", \"colorscale\": \"Viridis\", \"line\": {\"width\": 2}, \"size\": 12, \"symbol\": 0}, \"mode\": \"markers\", \"name\": \"Student_13\", \"text\": [\"Student_13\"], \"x\": [16.0], \"y\": [70], \"type\": \"scatter\", \"uid\": \"df54531e-e37d-11e8-9d8c-a1b30045967f\"}, {\"marker\": {\"color\": \"rgb(0,255,0)\", \"colorscale\": \"Viridis\", \"line\": {\"width\": 2}, \"size\": 12, \"symbol\": 3}, \"mode\": \"markers\", \"name\": \"Student_14\", \"text\": [\"Student_14\"], \"x\": [4.0], \"y\": [46], \"type\": \"scatter\", \"uid\": \"df545404-e37d-11e8-9d8c-a1b30045967f\"}, {\"marker\": {\"color\": \"rgb(0,255,0)\", \"colorscale\": \"Viridis\", \"line\": {\"width\": 2}, \"size\": 12, \"symbol\": 3}, \"mode\": \"markers\", \"name\": \"Student_15\", \"text\": [\"Student_15\"], \"x\": [4.0], \"y\": [47], \"type\": \"scatter\", \"uid\": \"df5454ea-e37d-11e8-9d8c-a1b30045967f\"}, {\"marker\": {\"color\": \"rgb(0,0,255)\", \"colorscale\": \"Viridis\", \"line\": {\"width\": 2}, \"size\": 12, \"symbol\": 1}, \"mode\": \"markers\", \"name\": \"Student_16\", \"text\": [\"Student_16\"], \"x\": [55.0], \"y\": [76], \"type\": \"scatter\", \"uid\": \"df5455d0-e37d-11e8-9d8c-a1b30045967f\"}, {\"marker\": {\"color\": \"rgb(0,255,0)\", \"colorscale\": \"Viridis\", \"line\": {\"width\": 2}, \"size\": 12, \"symbol\": 3}, \"mode\": \"markers\", \"name\": \"Student_17\", \"text\": [\"Student_17\"], \"x\": [4.0], \"y\": [44], \"type\": \"scatter\", \"uid\": \"df5456b6-e37d-11e8-9d8c-a1b30045967f\"}, {\"marker\": {\"color\": \"rgb(255,0,0)\", \"colorscale\": \"Viridis\", \"line\": {\"width\": 2}, \"size\": 12, \"symbol\": 0}, \"mode\": \"markers\", \"name\": \"Student_18\", \"text\": [\"Student_18\"], \"x\": [28.0], \"y\": [66], \"type\": \"scatter\", \"uid\": \"df54579c-e37d-11e8-9d8c-a1b30045967f\"}, {\"marker\": {\"color\": \"rgb(0,0,255)\", \"colorscale\": \"Viridis\", \"line\": {\"width\": 2}, \"size\": 12, \"symbol\": 1}, \"mode\": \"markers\", \"name\": \"Student_19\", \"text\": [\"Student_19\"], \"x\": [42.0], \"y\": [79], \"type\": \"scatter\", \"uid\": \"df545878-e37d-11e8-9d8c-a1b30045967f\"}, {\"marker\": {\"color\": \"rgb(0,255,0)\", \"colorscale\": \"Viridis\", \"line\": {\"width\": 2}, \"size\": 12, \"symbol\": 3}, \"mode\": \"markers\", \"name\": \"Student_20\", \"text\": [\"Student_20\"], \"x\": [6.0], \"y\": [45], \"type\": \"scatter\", \"uid\": \"df545954-e37d-11e8-9d8c-a1b30045967f\"}, {\"marker\": {\"color\": \"rgb(0,0,255)\", \"colorscale\": \"Viridis\", \"line\": {\"width\": 2}, \"size\": 12, \"symbol\": 1}, \"mode\": \"markers\", \"name\": \"Student_21\", \"text\": [\"Student_21\"], \"x\": [52.0], \"y\": [71], \"type\": \"scatter\", \"uid\": \"df545a3a-e37d-11e8-9d8c-a1b30045967f\"}, {\"marker\": {\"color\": \"rgb(0,255,0)\", \"colorscale\": \"Viridis\", \"line\": {\"width\": 2}, \"size\": 12, \"symbol\": 3}, \"mode\": \"markers\", \"name\": \"Student_22\", \"text\": [\"Student_22\"], \"x\": [2.0], \"y\": [50], \"type\": \"scatter\", \"uid\": \"df545b20-e37d-11e8-9d8c-a1b30045967f\"}, {\"marker\": {\"color\": \"rgb(255,0,0)\", \"colorscale\": \"Viridis\", \"line\": {\"width\": 2}, \"size\": 12, \"symbol\": 0}, \"mode\": \"markers\", \"name\": \"Student_23\", \"text\": [\"Student_23\"], \"x\": [11.0], \"y\": [66], \"type\": \"scatter\", \"uid\": \"df545c06-e37d-11e8-9d8c-a1b30045967f\"}, {\"marker\": {\"color\": \"rgb(0,255,0)\", \"colorscale\": \"Viridis\", \"line\": {\"width\": 2}, \"size\": 12, \"symbol\": 3}, \"mode\": \"markers\", \"name\": \"Student_24\", \"text\": [\"Student_24\"], \"x\": [4.0], \"y\": [38], \"type\": \"scatter\", \"uid\": \"df545cec-e37d-11e8-9d8c-a1b30045967f\"}, {\"marker\": {\"color\": \"rgb(0,255,0)\", \"colorscale\": \"Viridis\", \"line\": {\"width\": 2}, \"size\": 12, \"symbol\": 3}, \"mode\": \"markers\", \"name\": \"Student_25\", \"text\": [\"Student_25\"], \"x\": [4.0], \"y\": [34], \"type\": \"scatter\", \"uid\": \"df545d8c-e37d-11e8-9d8c-a1b30045967f\"}, {\"marker\": {\"color\": \"rgb(255,0,0)\", \"colorscale\": \"Viridis\", \"line\": {\"width\": 2}, \"size\": 12, \"symbol\": 0}, \"mode\": \"markers\", \"name\": \"Student_26\", \"text\": [\"Student_26\"], \"x\": [18.0], \"y\": [55], \"type\": \"scatter\", \"uid\": \"df545e0e-e37d-11e8-9d8c-a1b30045967f\"}, {\"marker\": {\"color\": \"rgb(255,0,0)\", \"colorscale\": \"Viridis\", \"line\": {\"width\": 2}, \"size\": 12, \"symbol\": 0}, \"mode\": \"markers\", \"name\": \"Student_27\", \"text\": [\"Student_27\"], \"x\": [12.0], \"y\": [59], \"type\": \"scatter\", \"uid\": \"df545e9a-e37d-11e8-9d8c-a1b30045967f\"}, {\"marker\": {\"color\": \"rgb(255,0,0)\", \"colorscale\": \"Viridis\", \"line\": {\"width\": 2}, \"size\": 12, \"symbol\": 0}, \"mode\": \"markers\", \"name\": \"Student_28\", \"text\": [\"Student_28\"], \"x\": [17.0], \"y\": [68], \"type\": \"scatter\", \"uid\": \"df545f1c-e37d-11e8-9d8c-a1b30045967f\"}, {\"marker\": {\"color\": \"rgb(255,0,0)\", \"colorscale\": \"Viridis\", \"line\": {\"width\": 2}, \"size\": 12, \"symbol\": 0}, \"mode\": \"markers\", \"name\": \"Student_29\", \"text\": [\"Student_29\"], \"x\": [20.0], \"y\": [66], \"type\": \"scatter\", \"uid\": \"df545f9e-e37d-11e8-9d8c-a1b30045967f\"}, {\"marker\": {\"color\": \"rgb(255,0,0)\", \"colorscale\": \"Viridis\", \"line\": {\"width\": 2}, \"size\": 12, \"symbol\": 0}, \"mode\": \"markers\", \"name\": \"Student_30\", \"text\": [\"Student_30\"], \"x\": [20.0], \"y\": [53], \"type\": \"scatter\", \"uid\": \"df546020-e37d-11e8-9d8c-a1b30045967f\"}, {\"marker\": {\"color\": \"rgb(0,255,0)\", \"colorscale\": \"Viridis\", \"line\": {\"width\": 2}, \"size\": 12, \"symbol\": 3}, \"mode\": \"markers\", \"name\": \"Student_31\", \"text\": [\"Student_31\"], \"x\": [2.0], \"y\": [44], \"type\": \"scatter\", \"uid\": \"df5460a2-e37d-11e8-9d8c-a1b30045967f\"}, {\"marker\": {\"color\": \"rgb(0,255,0)\", \"colorscale\": \"Viridis\", \"line\": {\"width\": 2}, \"size\": 12, \"symbol\": 3}, \"mode\": \"markers\", \"name\": \"Student_32\", \"text\": [\"Student_32\"], \"x\": [4.0], \"y\": [42], \"type\": \"scatter\", \"uid\": \"df54612e-e37d-11e8-9d8c-a1b30045967f\"}, {\"marker\": {\"color\": \"rgb(255,0,0)\", \"colorscale\": \"Viridis\", \"line\": {\"width\": 2}, \"size\": 12, \"symbol\": 0}, \"mode\": \"markers\", \"name\": \"Student_33\", \"text\": [\"Student_33\"], \"x\": [20.0], \"y\": [63], \"type\": \"scatter\", \"uid\": \"df5461a6-e37d-11e8-9d8c-a1b30045967f\"}, {\"marker\": {\"color\": \"rgb(255,255,255)\", \"colorscale\": \"Viridis\", \"line\": {\"width\": 2}, \"size\": 12, \"symbol\": 2}, \"mode\": \"markers\", \"name\": \"Student_34\", \"text\": [\"Student_34\"], \"x\": [6.0], \"y\": [14], \"type\": \"scatter\", \"uid\": \"df546228-e37d-11e8-9d8c-a1b30045967f\"}, {\"marker\": {\"color\": \"rgb(255,0,0)\", \"colorscale\": \"Viridis\", \"line\": {\"width\": 2}, \"size\": 12, \"symbol\": 0}, \"mode\": \"markers\", \"name\": \"Student_35\", \"text\": [\"Student_35\"], \"x\": [21.0], \"y\": [67], \"type\": \"scatter\", \"uid\": \"df5462aa-e37d-11e8-9d8c-a1b30045967f\"}, {\"marker\": {\"color\": \"rgb(255,0,0)\", \"colorscale\": \"Viridis\", \"line\": {\"width\": 2}, \"size\": 12, \"symbol\": 0}, \"mode\": \"markers\", \"name\": \"Student_36\", \"text\": [\"Student_36\"], \"x\": [23.0], \"y\": [70], \"type\": \"scatter\", \"uid\": \"df54632c-e37d-11e8-9d8c-a1b30045967f\"}, {\"marker\": {\"color\": \"rgb(255,0,0)\", \"colorscale\": \"Viridis\", \"line\": {\"width\": 2}, \"size\": 12, \"symbol\": 0}, \"mode\": \"markers\", \"name\": \"Student_37\", \"text\": [\"Student_37\"], \"x\": [10.0], \"y\": [58], \"type\": \"scatter\", \"uid\": \"df5463ae-e37d-11e8-9d8c-a1b30045967f\"}, {\"marker\": {\"color\": \"rgb(255,255,255)\", \"colorscale\": \"Viridis\", \"line\": {\"width\": 2}, \"size\": 12, \"symbol\": 2}, \"mode\": \"markers\", \"name\": \"Student_38\", \"text\": [\"Student_38\"], \"x\": [5.0], \"y\": [22], \"type\": \"scatter\", \"uid\": \"df546430-e37d-11e8-9d8c-a1b30045967f\"}, {\"marker\": {\"color\": \"rgb(0,255,0)\", \"colorscale\": \"Viridis\", \"line\": {\"width\": 2}, \"size\": 12, \"symbol\": 3}, \"mode\": \"markers\", \"name\": \"Student_39\", \"text\": [\"Student_39\"], \"x\": [7.0], \"y\": [35], \"type\": \"scatter\", \"uid\": \"df5464b2-e37d-11e8-9d8c-a1b30045967f\"}, {\"marker\": {\"color\": \"rgb(0,255,0)\", \"colorscale\": \"Viridis\", \"line\": {\"width\": 2}, \"size\": 12, \"symbol\": 3}, \"mode\": \"markers\", \"name\": \"Student_40\", \"text\": [\"Student_40\"], \"x\": [6.0], \"y\": [40], \"type\": \"scatter\", \"uid\": \"df546534-e37d-11e8-9d8c-a1b30045967f\"}, {\"marker\": {\"color\": \"rgb(0,255,0)\", \"colorscale\": \"Viridis\", \"line\": {\"width\": 2}, \"size\": 12, \"symbol\": 3}, \"mode\": \"markers\", \"name\": \"Student_41\", \"text\": [\"Student_41\"], \"x\": [3.0], \"y\": [47], \"type\": \"scatter\", \"uid\": \"df5465ac-e37d-11e8-9d8c-a1b30045967f\"}, {\"marker\": {\"color\": \"rgb(0,0,255)\", \"colorscale\": \"Viridis\", \"line\": {\"width\": 2}, \"size\": 12, \"symbol\": 1}, \"mode\": \"markers\", \"name\": \"Student_42\", \"text\": [\"Student_42\"], \"x\": [38.0], \"y\": [75], \"type\": \"scatter\", \"uid\": \"df54662e-e37d-11e8-9d8c-a1b30045967f\"}, {\"marker\": {\"color\": \"rgb(0,255,0)\", \"colorscale\": \"Viridis\", \"line\": {\"width\": 2}, \"size\": 12, \"symbol\": 3}, \"mode\": \"markers\", \"name\": \"Student_43\", \"text\": [\"Student_43\"], \"x\": [3.0], \"y\": [35], \"type\": \"scatter\", \"uid\": \"df5466b0-e37d-11e8-9d8c-a1b30045967f\"}, {\"marker\": {\"color\": \"rgb(255,0,0)\", \"colorscale\": \"Viridis\", \"line\": {\"width\": 2}, \"size\": 12, \"symbol\": 0}, \"mode\": \"markers\", \"name\": \"Student_44\", \"text\": [\"Student_44\"], \"x\": [15.0], \"y\": [69], \"type\": \"scatter\", \"uid\": \"df546732-e37d-11e8-9d8c-a1b30045967f\"}, {\"marker\": {\"color\": \"rgb(0,0,255)\", \"colorscale\": \"Viridis\", \"line\": {\"width\": 2}, \"size\": 12, \"symbol\": 1}, \"mode\": \"markers\", \"name\": \"Student_45\", \"text\": [\"Student_45\"], \"x\": [45.0], \"y\": [82], \"type\": \"scatter\", \"uid\": \"df5467b4-e37d-11e8-9d8c-a1b30045967f\"}, {\"marker\": {\"color\": \"rgb(0,255,0)\", \"colorscale\": \"Viridis\", \"line\": {\"width\": 2}, \"size\": 12, \"symbol\": 3}, \"mode\": \"markers\", \"name\": \"Student_46\", \"text\": [\"Student_46\"], \"x\": [5.0], \"y\": [47], \"type\": \"scatter\", \"uid\": \"df54682c-e37d-11e8-9d8c-a1b30045967f\"}, {\"marker\": {\"color\": \"rgb(0,255,0)\", \"colorscale\": \"Viridis\", \"line\": {\"width\": 2}, \"size\": 12, \"symbol\": 3}, \"mode\": \"markers\", \"name\": \"Student_47\", \"text\": [\"Student_47\"], \"x\": [7.0], \"y\": [34], \"type\": \"scatter\", \"uid\": \"df5468ae-e37d-11e8-9d8c-a1b30045967f\"}, {\"marker\": {\"color\": \"rgb(0,255,0)\", \"colorscale\": \"Viridis\", \"line\": {\"width\": 2}, \"size\": 12, \"symbol\": 3}, \"mode\": \"markers\", \"name\": \"Student_48\", \"text\": [\"Student_48\"], \"x\": [3.0], \"y\": [47], \"type\": \"scatter\", \"uid\": \"df546926-e37d-11e8-9d8c-a1b30045967f\"}, {\"marker\": {\"color\": \"rgb(255,255,255)\", \"colorscale\": \"Viridis\", \"line\": {\"width\": 2}, \"size\": 12, \"symbol\": 2}, \"mode\": \"markers\", \"name\": \"Student_49\", \"text\": [\"Student_49\"], \"x\": [5.0], \"y\": [26], \"type\": \"scatter\", \"uid\": \"df546a34-e37d-11e8-9d8c-a1b30045967f\"}, {\"marker\": {\"color\": \"rgb(0,255,0)\", \"colorscale\": \"Viridis\", \"line\": {\"width\": 2}, \"size\": 12, \"symbol\": 3}, \"mode\": \"markers\", \"name\": \"Student_50\", \"text\": [\"Student_50\"], \"x\": [4.0], \"y\": [32], \"type\": \"scatter\", \"uid\": \"df546ab6-e37d-11e8-9d8c-a1b30045967f\"}, {\"marker\": {\"color\": \"rgb(0,255,0)\", \"colorscale\": \"Viridis\", \"line\": {\"width\": 2}, \"size\": 12, \"symbol\": 3}, \"mode\": \"markers\", \"name\": \"Student_51\", \"text\": [\"Student_51\"], \"x\": [16.0], \"y\": [57], \"type\": \"scatter\", \"uid\": \"df546b42-e37d-11e8-9d8c-a1b30045967f\"}, {\"marker\": {\"color\": \"rgb(255,0,0)\", \"colorscale\": \"Viridis\", \"line\": {\"width\": 2}, \"size\": 12, \"symbol\": 0}, \"mode\": \"markers\", \"name\": \"Student_52\", \"text\": [\"Student_52\"], \"x\": [19.0], \"y\": [59], \"type\": \"scatter\", \"uid\": \"df546bc4-e37d-11e8-9d8c-a1b30045967f\"}, {\"marker\": {\"color\": \"rgb(255,255,255)\", \"colorscale\": \"Viridis\", \"line\": {\"width\": 2}, \"size\": 12, \"symbol\": 2}, \"mode\": \"markers\", \"name\": \"Student_53\", \"text\": [\"Student_53\"], \"x\": [6.0], \"y\": [26], \"type\": \"scatter\", \"uid\": \"df546c46-e37d-11e8-9d8c-a1b30045967f\"}, {\"marker\": {\"color\": \"rgb(0,255,0)\", \"colorscale\": \"Viridis\", \"line\": {\"width\": 2}, \"size\": 12, \"symbol\": 3}, \"mode\": \"markers\", \"name\": \"Student_54\", \"text\": [\"Student_54\"], \"x\": [4.0], \"y\": [45], \"type\": \"scatter\", \"uid\": \"df546cc8-e37d-11e8-9d8c-a1b30045967f\"}, {\"marker\": {\"color\": \"rgb(0,255,0)\", \"colorscale\": \"Viridis\", \"line\": {\"width\": 2}, \"size\": 12, \"symbol\": 3}, \"mode\": \"markers\", \"name\": \"Student_55\", \"text\": [\"Student_55\"], \"x\": [5.0], \"y\": [42], \"type\": \"scatter\", \"uid\": \"df546d4a-e37d-11e8-9d8c-a1b30045967f\"}, {\"marker\": {\"color\": \"rgb(0,255,0)\", \"colorscale\": \"Viridis\", \"line\": {\"width\": 2}, \"size\": 12, \"symbol\": 3}, \"mode\": \"markers\", \"name\": \"Student_56\", \"text\": [\"Student_56\"], \"x\": [3.0], \"y\": [44], \"type\": \"scatter\", \"uid\": \"df546dcc-e37d-11e8-9d8c-a1b30045967f\"}, {\"marker\": {\"color\": \"rgb(255,255,255)\", \"colorscale\": \"Viridis\", \"line\": {\"width\": 2}, \"size\": 12, \"symbol\": 2}, \"mode\": \"markers\", \"name\": \"Student_57\", \"text\": [\"Student_57\"], \"x\": [5.0], \"y\": [15], \"type\": \"scatter\", \"uid\": \"df546e4e-e37d-11e8-9d8c-a1b30045967f\"}, {\"marker\": {\"color\": \"rgb(0,0,255)\", \"colorscale\": \"Viridis\", \"line\": {\"width\": 2}, \"size\": 12, \"symbol\": 1}, \"mode\": \"markers\", \"name\": \"Student_58\", \"text\": [\"Student_58\"], \"x\": [60.0], \"y\": [74], \"type\": \"scatter\", \"uid\": \"df546eda-e37d-11e8-9d8c-a1b30045967f\"}, {\"marker\": {\"color\": \"rgb(255,0,0)\", \"colorscale\": \"Viridis\", \"line\": {\"width\": 2}, \"size\": 12, \"symbol\": 0}, \"mode\": \"markers\", \"name\": \"Student_59\", \"text\": [\"Student_59\"], \"x\": [17.0], \"y\": [65], \"type\": \"scatter\", \"uid\": \"df546f5c-e37d-11e8-9d8c-a1b30045967f\"}, {\"marker\": {\"color\": \"rgb(255,255,255)\", \"colorscale\": \"Viridis\", \"line\": {\"width\": 2}, \"size\": 12, \"symbol\": 2}, \"mode\": \"markers\", \"name\": \"Student_60\", \"text\": [\"Student_60\"], \"x\": [3.0], \"y\": [22], \"type\": \"scatter\", \"uid\": \"df546fde-e37d-11e8-9d8c-a1b30045967f\"}], {\"hovermode\": \"closest\", \"showlegend\": true, \"title\": \"Notas dos estudantes vs acesso aos materiais\", \"xaxis\": {\"autorange\": false, \"fixedrange\": false, \"range\": [0, 70.0], \"rangemode\": \"normal\", \"showline\": true, \"title\": \"Acesso aos materiais\", \"zeroline\": false}, \"yaxis\": {\"autorange\": false, \"fixedrange\": false, \"range\": [0, 97], \"rangemode\": \"normal\", \"showline\": true, \"title\": \"Notas\"}}, {\"showLink\": true, \"linkText\": \"Export to plot.ly\"})});</script>"
      ]
     },
     "metadata": {},
     "output_type": "display_data"
    },
    {
     "data": {
      "application/vnd.plotly.v1+json": {
       "data": [
        {
         "marker": {
          "color": "rgb(255,0,0)",
          "colorscale": "Viridis",
          "line": {
           "width": 2
          },
          "size": 12,
          "symbol": 0
         },
         "mode": "markers",
         "name": "Student_1",
         "text": [
          "Student_1"
         ],
         "type": "scatter",
         "uid": "df95c3da-e37d-11e8-9d8c-a1b30045967f",
         "x": [
          2
         ],
         "y": [
          56
         ]
        },
        {
         "marker": {
          "color": "rgb(0,255,0)",
          "colorscale": "Viridis",
          "line": {
           "width": 2
          },
          "size": 12,
          "symbol": 3
         },
         "mode": "markers",
         "name": "Student_2",
         "text": [
          "Student_2"
         ],
         "type": "scatter",
         "uid": "df95c556-e37d-11e8-9d8c-a1b30045967f",
         "x": [
          0
         ],
         "y": [
          47
         ]
        },
        {
         "marker": {
          "color": "rgb(0,255,0)",
          "colorscale": "Viridis",
          "line": {
           "width": 2
          },
          "size": 12,
          "symbol": 3
         },
         "mode": "markers",
         "name": "Student_3",
         "text": [
          "Student_3"
         ],
         "type": "scatter",
         "uid": "df95c614-e37d-11e8-9d8c-a1b30045967f",
         "x": [
          0
         ],
         "y": [
          38
         ]
        },
        {
         "marker": {
          "color": "rgb(0,255,0)",
          "colorscale": "Viridis",
          "line": {
           "width": 2
          },
          "size": 12,
          "symbol": 3
         },
         "mode": "markers",
         "name": "Student_4",
         "text": [
          "Student_4"
         ],
         "type": "scatter",
         "uid": "df95c6a0-e37d-11e8-9d8c-a1b30045967f",
         "x": [
          0
         ],
         "y": [
          44
         ]
        },
        {
         "marker": {
          "color": "rgb(255,255,255)",
          "colorscale": "Viridis",
          "line": {
           "width": 2
          },
          "size": 12,
          "symbol": 2
         },
         "mode": "markers",
         "name": "Student_5",
         "text": [
          "Student_5"
         ],
         "type": "scatter",
         "uid": "df95c72c-e37d-11e8-9d8c-a1b30045967f",
         "x": [
          0
         ],
         "y": [
          17
         ]
        },
        {
         "marker": {
          "color": "rgb(0,255,0)",
          "colorscale": "Viridis",
          "line": {
           "width": 2
          },
          "size": 12,
          "symbol": 3
         },
         "mode": "markers",
         "name": "Student_6",
         "text": [
          "Student_6"
         ],
         "type": "scatter",
         "uid": "df95c7ae-e37d-11e8-9d8c-a1b30045967f",
         "x": [
          0
         ],
         "y": [
          44
         ]
        },
        {
         "marker": {
          "color": "rgb(0,0,255)",
          "colorscale": "Viridis",
          "line": {
           "width": 2
          },
          "size": 12,
          "symbol": 1
         },
         "mode": "markers",
         "name": "Student_7",
         "text": [
          "Student_7"
         ],
         "type": "scatter",
         "uid": "df95c830-e37d-11e8-9d8c-a1b30045967f",
         "x": [
          3
         ],
         "y": [
          87
         ]
        },
        {
         "marker": {
          "color": "rgb(255,0,0)",
          "colorscale": "Viridis",
          "line": {
           "width": 2
          },
          "size": 12,
          "symbol": 0
         },
         "mode": "markers",
         "name": "Student_8",
         "text": [
          "Student_8"
         ],
         "type": "scatter",
         "uid": "df95c8a8-e37d-11e8-9d8c-a1b30045967f",
         "x": [
          3
         ],
         "y": [
          63
         ]
        },
        {
         "marker": {
          "color": "rgb(0,255,0)",
          "colorscale": "Viridis",
          "line": {
           "width": 2
          },
          "size": 12,
          "symbol": 3
         },
         "mode": "markers",
         "name": "Student_9",
         "text": [
          "Student_9"
         ],
         "type": "scatter",
         "uid": "df95c92a-e37d-11e8-9d8c-a1b30045967f",
         "x": [
          0
         ],
         "y": [
          36
         ]
        },
        {
         "marker": {
          "color": "rgb(255,0,0)",
          "colorscale": "Viridis",
          "line": {
           "width": 2
          },
          "size": 12,
          "symbol": 0
         },
         "mode": "markers",
         "name": "Student_10",
         "text": [
          "Student_10"
         ],
         "type": "scatter",
         "uid": "df95c9a2-e37d-11e8-9d8c-a1b30045967f",
         "x": [
          2
         ],
         "y": [
          54
         ]
        },
        {
         "marker": {
          "color": "rgb(0,255,0)",
          "colorscale": "Viridis",
          "line": {
           "width": 2
          },
          "size": 12,
          "symbol": 3
         },
         "mode": "markers",
         "name": "Student_11",
         "text": [
          "Student_11"
         ],
         "type": "scatter",
         "uid": "df95ca1a-e37d-11e8-9d8c-a1b30045967f",
         "x": [
          0
         ],
         "y": [
          49
         ]
        },
        {
         "marker": {
          "color": "rgb(0,255,0)",
          "colorscale": "Viridis",
          "line": {
           "width": 2
          },
          "size": 12,
          "symbol": 3
         },
         "mode": "markers",
         "name": "Student_12",
         "text": [
          "Student_12"
         ],
         "type": "scatter",
         "uid": "df95ca9c-e37d-11e8-9d8c-a1b30045967f",
         "x": [
          0
         ],
         "y": [
          47
         ]
        },
        {
         "marker": {
          "color": "rgb(255,0,0)",
          "colorscale": "Viridis",
          "line": {
           "width": 2
          },
          "size": 12,
          "symbol": 0
         },
         "mode": "markers",
         "name": "Student_13",
         "text": [
          "Student_13"
         ],
         "type": "scatter",
         "uid": "df95cb14-e37d-11e8-9d8c-a1b30045967f",
         "x": [
          2
         ],
         "y": [
          70
         ]
        },
        {
         "marker": {
          "color": "rgb(0,255,0)",
          "colorscale": "Viridis",
          "line": {
           "width": 2
          },
          "size": 12,
          "symbol": 3
         },
         "mode": "markers",
         "name": "Student_14",
         "text": [
          "Student_14"
         ],
         "type": "scatter",
         "uid": "df95cb8c-e37d-11e8-9d8c-a1b30045967f",
         "x": [
          0
         ],
         "y": [
          46
         ]
        },
        {
         "marker": {
          "color": "rgb(0,255,0)",
          "colorscale": "Viridis",
          "line": {
           "width": 2
          },
          "size": 12,
          "symbol": 3
         },
         "mode": "markers",
         "name": "Student_15",
         "text": [
          "Student_15"
         ],
         "type": "scatter",
         "uid": "df95cc0e-e37d-11e8-9d8c-a1b30045967f",
         "x": [
          0
         ],
         "y": [
          47
         ]
        },
        {
         "marker": {
          "color": "rgb(0,0,255)",
          "colorscale": "Viridis",
          "line": {
           "width": 2
          },
          "size": 12,
          "symbol": 1
         },
         "mode": "markers",
         "name": "Student_16",
         "text": [
          "Student_16"
         ],
         "type": "scatter",
         "uid": "df95cc86-e37d-11e8-9d8c-a1b30045967f",
         "x": [
          4
         ],
         "y": [
          76
         ]
        },
        {
         "marker": {
          "color": "rgb(0,255,0)",
          "colorscale": "Viridis",
          "line": {
           "width": 2
          },
          "size": 12,
          "symbol": 3
         },
         "mode": "markers",
         "name": "Student_17",
         "text": [
          "Student_17"
         ],
         "type": "scatter",
         "uid": "df95ccfe-e37d-11e8-9d8c-a1b30045967f",
         "x": [
          0
         ],
         "y": [
          44
         ]
        },
        {
         "marker": {
          "color": "rgb(255,0,0)",
          "colorscale": "Viridis",
          "line": {
           "width": 2
          },
          "size": 12,
          "symbol": 0
         },
         "mode": "markers",
         "name": "Student_18",
         "text": [
          "Student_18"
         ],
         "type": "scatter",
         "uid": "df95cd80-e37d-11e8-9d8c-a1b30045967f",
         "x": [
          3
         ],
         "y": [
          66
         ]
        },
        {
         "marker": {
          "color": "rgb(0,0,255)",
          "colorscale": "Viridis",
          "line": {
           "width": 2
          },
          "size": 12,
          "symbol": 1
         },
         "mode": "markers",
         "name": "Student_19",
         "text": [
          "Student_19"
         ],
         "type": "scatter",
         "uid": "df95cdf8-e37d-11e8-9d8c-a1b30045967f",
         "x": [
          3
         ],
         "y": [
          79
         ]
        },
        {
         "marker": {
          "color": "rgb(0,255,0)",
          "colorscale": "Viridis",
          "line": {
           "width": 2
          },
          "size": 12,
          "symbol": 3
         },
         "mode": "markers",
         "name": "Student_20",
         "text": [
          "Student_20"
         ],
         "type": "scatter",
         "uid": "df95ce70-e37d-11e8-9d8c-a1b30045967f",
         "x": [
          0
         ],
         "y": [
          45
         ]
        },
        {
         "marker": {
          "color": "rgb(0,0,255)",
          "colorscale": "Viridis",
          "line": {
           "width": 2
          },
          "size": 12,
          "symbol": 1
         },
         "mode": "markers",
         "name": "Student_21",
         "text": [
          "Student_21"
         ],
         "type": "scatter",
         "uid": "df95cef2-e37d-11e8-9d8c-a1b30045967f",
         "x": [
          3
         ],
         "y": [
          71
         ]
        },
        {
         "marker": {
          "color": "rgb(0,255,0)",
          "colorscale": "Viridis",
          "line": {
           "width": 2
          },
          "size": 12,
          "symbol": 3
         },
         "mode": "markers",
         "name": "Student_22",
         "text": [
          "Student_22"
         ],
         "type": "scatter",
         "uid": "df95cf6a-e37d-11e8-9d8c-a1b30045967f",
         "x": [
          0
         ],
         "y": [
          50
         ]
        },
        {
         "marker": {
          "color": "rgb(255,0,0)",
          "colorscale": "Viridis",
          "line": {
           "width": 2
          },
          "size": 12,
          "symbol": 0
         },
         "mode": "markers",
         "name": "Student_23",
         "text": [
          "Student_23"
         ],
         "type": "scatter",
         "uid": "df95cfec-e37d-11e8-9d8c-a1b30045967f",
         "x": [
          4
         ],
         "y": [
          66
         ]
        },
        {
         "marker": {
          "color": "rgb(0,255,0)",
          "colorscale": "Viridis",
          "line": {
           "width": 2
          },
          "size": 12,
          "symbol": 3
         },
         "mode": "markers",
         "name": "Student_24",
         "text": [
          "Student_24"
         ],
         "type": "scatter",
         "uid": "df95d064-e37d-11e8-9d8c-a1b30045967f",
         "x": [
          0
         ],
         "y": [
          38
         ]
        },
        {
         "marker": {
          "color": "rgb(0,255,0)",
          "colorscale": "Viridis",
          "line": {
           "width": 2
          },
          "size": 12,
          "symbol": 3
         },
         "mode": "markers",
         "name": "Student_25",
         "text": [
          "Student_25"
         ],
         "type": "scatter",
         "uid": "df95d0dc-e37d-11e8-9d8c-a1b30045967f",
         "x": [
          0
         ],
         "y": [
          34
         ]
        },
        {
         "marker": {
          "color": "rgb(255,0,0)",
          "colorscale": "Viridis",
          "line": {
           "width": 2
          },
          "size": 12,
          "symbol": 0
         },
         "mode": "markers",
         "name": "Student_26",
         "text": [
          "Student_26"
         ],
         "type": "scatter",
         "uid": "df95d15e-e37d-11e8-9d8c-a1b30045967f",
         "x": [
          4
         ],
         "y": [
          55
         ]
        },
        {
         "marker": {
          "color": "rgb(255,0,0)",
          "colorscale": "Viridis",
          "line": {
           "width": 2
          },
          "size": 12,
          "symbol": 0
         },
         "mode": "markers",
         "name": "Student_27",
         "text": [
          "Student_27"
         ],
         "type": "scatter",
         "uid": "df95d1d6-e37d-11e8-9d8c-a1b30045967f",
         "x": [
          1
         ],
         "y": [
          59
         ]
        },
        {
         "marker": {
          "color": "rgb(255,0,0)",
          "colorscale": "Viridis",
          "line": {
           "width": 2
          },
          "size": 12,
          "symbol": 0
         },
         "mode": "markers",
         "name": "Student_28",
         "text": [
          "Student_28"
         ],
         "type": "scatter",
         "uid": "df95d258-e37d-11e8-9d8c-a1b30045967f",
         "x": [
          3
         ],
         "y": [
          68
         ]
        },
        {
         "marker": {
          "color": "rgb(255,0,0)",
          "colorscale": "Viridis",
          "line": {
           "width": 2
          },
          "size": 12,
          "symbol": 0
         },
         "mode": "markers",
         "name": "Student_29",
         "text": [
          "Student_29"
         ],
         "type": "scatter",
         "uid": "df95d2d0-e37d-11e8-9d8c-a1b30045967f",
         "x": [
          3
         ],
         "y": [
          66
         ]
        },
        {
         "marker": {
          "color": "rgb(255,0,0)",
          "colorscale": "Viridis",
          "line": {
           "width": 2
          },
          "size": 12,
          "symbol": 0
         },
         "mode": "markers",
         "name": "Student_30",
         "text": [
          "Student_30"
         ],
         "type": "scatter",
         "uid": "df95d352-e37d-11e8-9d8c-a1b30045967f",
         "x": [
          3
         ],
         "y": [
          53
         ]
        },
        {
         "marker": {
          "color": "rgb(0,255,0)",
          "colorscale": "Viridis",
          "line": {
           "width": 2
          },
          "size": 12,
          "symbol": 3
         },
         "mode": "markers",
         "name": "Student_31",
         "text": [
          "Student_31"
         ],
         "type": "scatter",
         "uid": "df95d3ca-e37d-11e8-9d8c-a1b30045967f",
         "x": [
          0
         ],
         "y": [
          44
         ]
        },
        {
         "marker": {
          "color": "rgb(0,255,0)",
          "colorscale": "Viridis",
          "line": {
           "width": 2
          },
          "size": 12,
          "symbol": 3
         },
         "mode": "markers",
         "name": "Student_32",
         "text": [
          "Student_32"
         ],
         "type": "scatter",
         "uid": "df95d442-e37d-11e8-9d8c-a1b30045967f",
         "x": [
          0
         ],
         "y": [
          42
         ]
        },
        {
         "marker": {
          "color": "rgb(255,0,0)",
          "colorscale": "Viridis",
          "line": {
           "width": 2
          },
          "size": 12,
          "symbol": 0
         },
         "mode": "markers",
         "name": "Student_33",
         "text": [
          "Student_33"
         ],
         "type": "scatter",
         "uid": "df95d4ba-e37d-11e8-9d8c-a1b30045967f",
         "x": [
          3
         ],
         "y": [
          63
         ]
        },
        {
         "marker": {
          "color": "rgb(255,255,255)",
          "colorscale": "Viridis",
          "line": {
           "width": 2
          },
          "size": 12,
          "symbol": 2
         },
         "mode": "markers",
         "name": "Student_34",
         "text": [
          "Student_34"
         ],
         "type": "scatter",
         "uid": "df95d53c-e37d-11e8-9d8c-a1b30045967f",
         "x": [
          0
         ],
         "y": [
          14
         ]
        },
        {
         "marker": {
          "color": "rgb(255,0,0)",
          "colorscale": "Viridis",
          "line": {
           "width": 2
          },
          "size": 12,
          "symbol": 0
         },
         "mode": "markers",
         "name": "Student_35",
         "text": [
          "Student_35"
         ],
         "type": "scatter",
         "uid": "df95d5aa-e37d-11e8-9d8c-a1b30045967f",
         "x": [
          2
         ],
         "y": [
          67
         ]
        },
        {
         "marker": {
          "color": "rgb(255,0,0)",
          "colorscale": "Viridis",
          "line": {
           "width": 2
          },
          "size": 12,
          "symbol": 0
         },
         "mode": "markers",
         "name": "Student_36",
         "text": [
          "Student_36"
         ],
         "type": "scatter",
         "uid": "df95d622-e37d-11e8-9d8c-a1b30045967f",
         "x": [
          2
         ],
         "y": [
          70
         ]
        },
        {
         "marker": {
          "color": "rgb(255,0,0)",
          "colorscale": "Viridis",
          "line": {
           "width": 2
          },
          "size": 12,
          "symbol": 0
         },
         "mode": "markers",
         "name": "Student_37",
         "text": [
          "Student_37"
         ],
         "type": "scatter",
         "uid": "df95d69a-e37d-11e8-9d8c-a1b30045967f",
         "x": [
          2
         ],
         "y": [
          58
         ]
        },
        {
         "marker": {
          "color": "rgb(255,255,255)",
          "colorscale": "Viridis",
          "line": {
           "width": 2
          },
          "size": 12,
          "symbol": 2
         },
         "mode": "markers",
         "name": "Student_38",
         "text": [
          "Student_38"
         ],
         "type": "scatter",
         "uid": "df95d71c-e37d-11e8-9d8c-a1b30045967f",
         "x": [
          0
         ],
         "y": [
          22
         ]
        },
        {
         "marker": {
          "color": "rgb(0,255,0)",
          "colorscale": "Viridis",
          "line": {
           "width": 2
          },
          "size": 12,
          "symbol": 3
         },
         "mode": "markers",
         "name": "Student_39",
         "text": [
          "Student_39"
         ],
         "type": "scatter",
         "uid": "df95d794-e37d-11e8-9d8c-a1b30045967f",
         "x": [
          0
         ],
         "y": [
          35
         ]
        },
        {
         "marker": {
          "color": "rgb(0,255,0)",
          "colorscale": "Viridis",
          "line": {
           "width": 2
          },
          "size": 12,
          "symbol": 3
         },
         "mode": "markers",
         "name": "Student_40",
         "text": [
          "Student_40"
         ],
         "type": "scatter",
         "uid": "df95d80c-e37d-11e8-9d8c-a1b30045967f",
         "x": [
          0
         ],
         "y": [
          40
         ]
        },
        {
         "marker": {
          "color": "rgb(0,255,0)",
          "colorscale": "Viridis",
          "line": {
           "width": 2
          },
          "size": 12,
          "symbol": 3
         },
         "mode": "markers",
         "name": "Student_41",
         "text": [
          "Student_41"
         ],
         "type": "scatter",
         "uid": "df95d88e-e37d-11e8-9d8c-a1b30045967f",
         "x": [
          0
         ],
         "y": [
          47
         ]
        },
        {
         "marker": {
          "color": "rgb(0,0,255)",
          "colorscale": "Viridis",
          "line": {
           "width": 2
          },
          "size": 12,
          "symbol": 1
         },
         "mode": "markers",
         "name": "Student_42",
         "text": [
          "Student_42"
         ],
         "type": "scatter",
         "uid": "df95d906-e37d-11e8-9d8c-a1b30045967f",
         "x": [
          3
         ],
         "y": [
          75
         ]
        },
        {
         "marker": {
          "color": "rgb(0,255,0)",
          "colorscale": "Viridis",
          "line": {
           "width": 2
          },
          "size": 12,
          "symbol": 3
         },
         "mode": "markers",
         "name": "Student_43",
         "text": [
          "Student_43"
         ],
         "type": "scatter",
         "uid": "df95d97e-e37d-11e8-9d8c-a1b30045967f",
         "x": [
          0
         ],
         "y": [
          35
         ]
        },
        {
         "marker": {
          "color": "rgb(255,0,0)",
          "colorscale": "Viridis",
          "line": {
           "width": 2
          },
          "size": 12,
          "symbol": 0
         },
         "mode": "markers",
         "name": "Student_44",
         "text": [
          "Student_44"
         ],
         "type": "scatter",
         "uid": "df95d9f6-e37d-11e8-9d8c-a1b30045967f",
         "x": [
          2
         ],
         "y": [
          69
         ]
        },
        {
         "marker": {
          "color": "rgb(0,0,255)",
          "colorscale": "Viridis",
          "line": {
           "width": 2
          },
          "size": 12,
          "symbol": 1
         },
         "mode": "markers",
         "name": "Student_45",
         "text": [
          "Student_45"
         ],
         "type": "scatter",
         "uid": "df95da6e-e37d-11e8-9d8c-a1b30045967f",
         "x": [
          3
         ],
         "y": [
          82
         ]
        },
        {
         "marker": {
          "color": "rgb(0,255,0)",
          "colorscale": "Viridis",
          "line": {
           "width": 2
          },
          "size": 12,
          "symbol": 3
         },
         "mode": "markers",
         "name": "Student_46",
         "text": [
          "Student_46"
         ],
         "type": "scatter",
         "uid": "df95daf0-e37d-11e8-9d8c-a1b30045967f",
         "x": [
          0
         ],
         "y": [
          47
         ]
        },
        {
         "marker": {
          "color": "rgb(0,255,0)",
          "colorscale": "Viridis",
          "line": {
           "width": 2
          },
          "size": 12,
          "symbol": 3
         },
         "mode": "markers",
         "name": "Student_47",
         "text": [
          "Student_47"
         ],
         "type": "scatter",
         "uid": "df95db5e-e37d-11e8-9d8c-a1b30045967f",
         "x": [
          0
         ],
         "y": [
          34
         ]
        },
        {
         "marker": {
          "color": "rgb(0,255,0)",
          "colorscale": "Viridis",
          "line": {
           "width": 2
          },
          "size": 12,
          "symbol": 3
         },
         "mode": "markers",
         "name": "Student_48",
         "text": [
          "Student_48"
         ],
         "type": "scatter",
         "uid": "df95dbd6-e37d-11e8-9d8c-a1b30045967f",
         "x": [
          0
         ],
         "y": [
          47
         ]
        },
        {
         "marker": {
          "color": "rgb(255,255,255)",
          "colorscale": "Viridis",
          "line": {
           "width": 2
          },
          "size": 12,
          "symbol": 2
         },
         "mode": "markers",
         "name": "Student_49",
         "text": [
          "Student_49"
         ],
         "type": "scatter",
         "uid": "df95dc58-e37d-11e8-9d8c-a1b30045967f",
         "x": [
          0
         ],
         "y": [
          26
         ]
        },
        {
         "marker": {
          "color": "rgb(0,255,0)",
          "colorscale": "Viridis",
          "line": {
           "width": 2
          },
          "size": 12,
          "symbol": 3
         },
         "mode": "markers",
         "name": "Student_50",
         "text": [
          "Student_50"
         ],
         "type": "scatter",
         "uid": "df95dd52-e37d-11e8-9d8c-a1b30045967f",
         "x": [
          0
         ],
         "y": [
          32
         ]
        },
        {
         "marker": {
          "color": "rgb(0,255,0)",
          "colorscale": "Viridis",
          "line": {
           "width": 2
          },
          "size": 12,
          "symbol": 3
         },
         "mode": "markers",
         "name": "Student_51",
         "text": [
          "Student_51"
         ],
         "type": "scatter",
         "uid": "df95ddca-e37d-11e8-9d8c-a1b30045967f",
         "x": [
          1
         ],
         "y": [
          57
         ]
        },
        {
         "marker": {
          "color": "rgb(255,0,0)",
          "colorscale": "Viridis",
          "line": {
           "width": 2
          },
          "size": 12,
          "symbol": 0
         },
         "mode": "markers",
         "name": "Student_52",
         "text": [
          "Student_52"
         ],
         "type": "scatter",
         "uid": "df95de4c-e37d-11e8-9d8c-a1b30045967f",
         "x": [
          2
         ],
         "y": [
          59
         ]
        },
        {
         "marker": {
          "color": "rgb(255,255,255)",
          "colorscale": "Viridis",
          "line": {
           "width": 2
          },
          "size": 12,
          "symbol": 2
         },
         "mode": "markers",
         "name": "Student_53",
         "text": [
          "Student_53"
         ],
         "type": "scatter",
         "uid": "df95dec4-e37d-11e8-9d8c-a1b30045967f",
         "x": [
          0
         ],
         "y": [
          26
         ]
        },
        {
         "marker": {
          "color": "rgb(0,255,0)",
          "colorscale": "Viridis",
          "line": {
           "width": 2
          },
          "size": 12,
          "symbol": 3
         },
         "mode": "markers",
         "name": "Student_54",
         "text": [
          "Student_54"
         ],
         "type": "scatter",
         "uid": "df95df3c-e37d-11e8-9d8c-a1b30045967f",
         "x": [
          0
         ],
         "y": [
          45
         ]
        },
        {
         "marker": {
          "color": "rgb(0,255,0)",
          "colorscale": "Viridis",
          "line": {
           "width": 2
          },
          "size": 12,
          "symbol": 3
         },
         "mode": "markers",
         "name": "Student_55",
         "text": [
          "Student_55"
         ],
         "type": "scatter",
         "uid": "df95dfb4-e37d-11e8-9d8c-a1b30045967f",
         "x": [
          0
         ],
         "y": [
          42
         ]
        },
        {
         "marker": {
          "color": "rgb(0,255,0)",
          "colorscale": "Viridis",
          "line": {
           "width": 2
          },
          "size": 12,
          "symbol": 3
         },
         "mode": "markers",
         "name": "Student_56",
         "text": [
          "Student_56"
         ],
         "type": "scatter",
         "uid": "df95e176-e37d-11e8-9d8c-a1b30045967f",
         "x": [
          0
         ],
         "y": [
          44
         ]
        },
        {
         "marker": {
          "color": "rgb(255,255,255)",
          "colorscale": "Viridis",
          "line": {
           "width": 2
          },
          "size": 12,
          "symbol": 2
         },
         "mode": "markers",
         "name": "Student_57",
         "text": [
          "Student_57"
         ],
         "type": "scatter",
         "uid": "df95e1f8-e37d-11e8-9d8c-a1b30045967f",
         "x": [
          0
         ],
         "y": [
          15
         ]
        },
        {
         "marker": {
          "color": "rgb(0,0,255)",
          "colorscale": "Viridis",
          "line": {
           "width": 2
          },
          "size": 12,
          "symbol": 1
         },
         "mode": "markers",
         "name": "Student_58",
         "text": [
          "Student_58"
         ],
         "type": "scatter",
         "uid": "df95e270-e37d-11e8-9d8c-a1b30045967f",
         "x": [
          2
         ],
         "y": [
          74
         ]
        },
        {
         "marker": {
          "color": "rgb(255,0,0)",
          "colorscale": "Viridis",
          "line": {
           "width": 2
          },
          "size": 12,
          "symbol": 0
         },
         "mode": "markers",
         "name": "Student_59",
         "text": [
          "Student_59"
         ],
         "type": "scatter",
         "uid": "df95e2e8-e37d-11e8-9d8c-a1b30045967f",
         "x": [
          3
         ],
         "y": [
          65
         ]
        },
        {
         "marker": {
          "color": "rgb(255,255,255)",
          "colorscale": "Viridis",
          "line": {
           "width": 2
          },
          "size": 12,
          "symbol": 2
         },
         "mode": "markers",
         "name": "Student_60",
         "text": [
          "Student_60"
         ],
         "type": "scatter",
         "uid": "df95e360-e37d-11e8-9d8c-a1b30045967f",
         "x": [
          0
         ],
         "y": [
          22
         ]
        }
       ],
       "layout": {
        "hovermode": "closest",
        "showlegend": true,
        "title": "Notas dos estudantes vs atividades respondidas",
        "xaxis": {
         "autorange": false,
         "fixedrange": false,
         "range": [
          0,
          14
         ],
         "rangemode": "normal",
         "showline": true,
         "title": "Atividades respondidas",
         "zeroline": false
        },
        "yaxis": {
         "autorange": false,
         "fixedrange": false,
         "range": [
          0,
          97
         ],
         "rangemode": "normal",
         "showline": true,
         "title": "Notas"
        }
       }
      },
      "text/html": [
       "<div id=\"a714464f-49be-4673-968c-b8dc5a9dbea8\" style=\"height: 525px; width: 100%;\" class=\"plotly-graph-div\"></div><script type=\"text/javascript\">require([\"plotly\"], function(Plotly) { window.PLOTLYENV=window.PLOTLYENV || {};window.PLOTLYENV.BASE_URL=\"https://plot.ly\";Plotly.newPlot(\"a714464f-49be-4673-968c-b8dc5a9dbea8\", [{\"marker\": {\"color\": \"rgb(255,0,0)\", \"colorscale\": \"Viridis\", \"line\": {\"width\": 2}, \"size\": 12, \"symbol\": 0}, \"mode\": \"markers\", \"name\": \"Student_1\", \"text\": [\"Student_1\"], \"x\": [2.0], \"y\": [56], \"type\": \"scatter\", \"uid\": \"df95c3da-e37d-11e8-9d8c-a1b30045967f\"}, {\"marker\": {\"color\": \"rgb(0,255,0)\", \"colorscale\": \"Viridis\", \"line\": {\"width\": 2}, \"size\": 12, \"symbol\": 3}, \"mode\": \"markers\", \"name\": \"Student_2\", \"text\": [\"Student_2\"], \"x\": [0.0], \"y\": [47], \"type\": \"scatter\", \"uid\": \"df95c556-e37d-11e8-9d8c-a1b30045967f\"}, {\"marker\": {\"color\": \"rgb(0,255,0)\", \"colorscale\": \"Viridis\", \"line\": {\"width\": 2}, \"size\": 12, \"symbol\": 3}, \"mode\": \"markers\", \"name\": \"Student_3\", \"text\": [\"Student_3\"], \"x\": [0.0], \"y\": [38], \"type\": \"scatter\", \"uid\": \"df95c614-e37d-11e8-9d8c-a1b30045967f\"}, {\"marker\": {\"color\": \"rgb(0,255,0)\", \"colorscale\": \"Viridis\", \"line\": {\"width\": 2}, \"size\": 12, \"symbol\": 3}, \"mode\": \"markers\", \"name\": \"Student_4\", \"text\": [\"Student_4\"], \"x\": [0.0], \"y\": [44], \"type\": \"scatter\", \"uid\": \"df95c6a0-e37d-11e8-9d8c-a1b30045967f\"}, {\"marker\": {\"color\": \"rgb(255,255,255)\", \"colorscale\": \"Viridis\", \"line\": {\"width\": 2}, \"size\": 12, \"symbol\": 2}, \"mode\": \"markers\", \"name\": \"Student_5\", \"text\": [\"Student_5\"], \"x\": [0.0], \"y\": [17], \"type\": \"scatter\", \"uid\": \"df95c72c-e37d-11e8-9d8c-a1b30045967f\"}, {\"marker\": {\"color\": \"rgb(0,255,0)\", \"colorscale\": \"Viridis\", \"line\": {\"width\": 2}, \"size\": 12, \"symbol\": 3}, \"mode\": \"markers\", \"name\": \"Student_6\", \"text\": [\"Student_6\"], \"x\": [0.0], \"y\": [44], \"type\": \"scatter\", \"uid\": \"df95c7ae-e37d-11e8-9d8c-a1b30045967f\"}, {\"marker\": {\"color\": \"rgb(0,0,255)\", \"colorscale\": \"Viridis\", \"line\": {\"width\": 2}, \"size\": 12, \"symbol\": 1}, \"mode\": \"markers\", \"name\": \"Student_7\", \"text\": [\"Student_7\"], \"x\": [3.0], \"y\": [87], \"type\": \"scatter\", \"uid\": \"df95c830-e37d-11e8-9d8c-a1b30045967f\"}, {\"marker\": {\"color\": \"rgb(255,0,0)\", \"colorscale\": \"Viridis\", \"line\": {\"width\": 2}, \"size\": 12, \"symbol\": 0}, \"mode\": \"markers\", \"name\": \"Student_8\", \"text\": [\"Student_8\"], \"x\": [3.0], \"y\": [63], \"type\": \"scatter\", \"uid\": \"df95c8a8-e37d-11e8-9d8c-a1b30045967f\"}, {\"marker\": {\"color\": \"rgb(0,255,0)\", \"colorscale\": \"Viridis\", \"line\": {\"width\": 2}, \"size\": 12, \"symbol\": 3}, \"mode\": \"markers\", \"name\": \"Student_9\", \"text\": [\"Student_9\"], \"x\": [0.0], \"y\": [36], \"type\": \"scatter\", \"uid\": \"df95c92a-e37d-11e8-9d8c-a1b30045967f\"}, {\"marker\": {\"color\": \"rgb(255,0,0)\", \"colorscale\": \"Viridis\", \"line\": {\"width\": 2}, \"size\": 12, \"symbol\": 0}, \"mode\": \"markers\", \"name\": \"Student_10\", \"text\": [\"Student_10\"], \"x\": [2.0], \"y\": [54], \"type\": \"scatter\", \"uid\": \"df95c9a2-e37d-11e8-9d8c-a1b30045967f\"}, {\"marker\": {\"color\": \"rgb(0,255,0)\", \"colorscale\": \"Viridis\", \"line\": {\"width\": 2}, \"size\": 12, \"symbol\": 3}, \"mode\": \"markers\", \"name\": \"Student_11\", \"text\": [\"Student_11\"], \"x\": [0.0], \"y\": [49], \"type\": \"scatter\", \"uid\": \"df95ca1a-e37d-11e8-9d8c-a1b30045967f\"}, {\"marker\": {\"color\": \"rgb(0,255,0)\", \"colorscale\": \"Viridis\", \"line\": {\"width\": 2}, \"size\": 12, \"symbol\": 3}, \"mode\": \"markers\", \"name\": \"Student_12\", \"text\": [\"Student_12\"], \"x\": [0.0], \"y\": [47], \"type\": \"scatter\", \"uid\": \"df95ca9c-e37d-11e8-9d8c-a1b30045967f\"}, {\"marker\": {\"color\": \"rgb(255,0,0)\", \"colorscale\": \"Viridis\", \"line\": {\"width\": 2}, \"size\": 12, \"symbol\": 0}, \"mode\": \"markers\", \"name\": \"Student_13\", \"text\": [\"Student_13\"], \"x\": [2.0], \"y\": [70], \"type\": \"scatter\", \"uid\": \"df95cb14-e37d-11e8-9d8c-a1b30045967f\"}, {\"marker\": {\"color\": \"rgb(0,255,0)\", \"colorscale\": \"Viridis\", \"line\": {\"width\": 2}, \"size\": 12, \"symbol\": 3}, \"mode\": \"markers\", \"name\": \"Student_14\", \"text\": [\"Student_14\"], \"x\": [0.0], \"y\": [46], \"type\": \"scatter\", \"uid\": \"df95cb8c-e37d-11e8-9d8c-a1b30045967f\"}, {\"marker\": {\"color\": \"rgb(0,255,0)\", \"colorscale\": \"Viridis\", \"line\": {\"width\": 2}, \"size\": 12, \"symbol\": 3}, \"mode\": \"markers\", \"name\": \"Student_15\", \"text\": [\"Student_15\"], \"x\": [0.0], \"y\": [47], \"type\": \"scatter\", \"uid\": \"df95cc0e-e37d-11e8-9d8c-a1b30045967f\"}, {\"marker\": {\"color\": \"rgb(0,0,255)\", \"colorscale\": \"Viridis\", \"line\": {\"width\": 2}, \"size\": 12, \"symbol\": 1}, \"mode\": \"markers\", \"name\": \"Student_16\", \"text\": [\"Student_16\"], \"x\": [4.0], \"y\": [76], \"type\": \"scatter\", \"uid\": \"df95cc86-e37d-11e8-9d8c-a1b30045967f\"}, {\"marker\": {\"color\": \"rgb(0,255,0)\", \"colorscale\": \"Viridis\", \"line\": {\"width\": 2}, \"size\": 12, \"symbol\": 3}, \"mode\": \"markers\", \"name\": \"Student_17\", \"text\": [\"Student_17\"], \"x\": [0.0], \"y\": [44], \"type\": \"scatter\", \"uid\": \"df95ccfe-e37d-11e8-9d8c-a1b30045967f\"}, {\"marker\": {\"color\": \"rgb(255,0,0)\", \"colorscale\": \"Viridis\", \"line\": {\"width\": 2}, \"size\": 12, \"symbol\": 0}, \"mode\": \"markers\", \"name\": \"Student_18\", \"text\": [\"Student_18\"], \"x\": [3.0], \"y\": [66], \"type\": \"scatter\", \"uid\": \"df95cd80-e37d-11e8-9d8c-a1b30045967f\"}, {\"marker\": {\"color\": \"rgb(0,0,255)\", \"colorscale\": \"Viridis\", \"line\": {\"width\": 2}, \"size\": 12, \"symbol\": 1}, \"mode\": \"markers\", \"name\": \"Student_19\", \"text\": [\"Student_19\"], \"x\": [3.0], \"y\": [79], \"type\": \"scatter\", \"uid\": \"df95cdf8-e37d-11e8-9d8c-a1b30045967f\"}, {\"marker\": {\"color\": \"rgb(0,255,0)\", \"colorscale\": \"Viridis\", \"line\": {\"width\": 2}, \"size\": 12, \"symbol\": 3}, \"mode\": \"markers\", \"name\": \"Student_20\", \"text\": [\"Student_20\"], \"x\": [0.0], \"y\": [45], \"type\": \"scatter\", \"uid\": \"df95ce70-e37d-11e8-9d8c-a1b30045967f\"}, {\"marker\": {\"color\": \"rgb(0,0,255)\", \"colorscale\": \"Viridis\", \"line\": {\"width\": 2}, \"size\": 12, \"symbol\": 1}, \"mode\": \"markers\", \"name\": \"Student_21\", \"text\": [\"Student_21\"], \"x\": [3.0], \"y\": [71], \"type\": \"scatter\", \"uid\": \"df95cef2-e37d-11e8-9d8c-a1b30045967f\"}, {\"marker\": {\"color\": \"rgb(0,255,0)\", \"colorscale\": \"Viridis\", \"line\": {\"width\": 2}, \"size\": 12, \"symbol\": 3}, \"mode\": \"markers\", \"name\": \"Student_22\", \"text\": [\"Student_22\"], \"x\": [0.0], \"y\": [50], \"type\": \"scatter\", \"uid\": \"df95cf6a-e37d-11e8-9d8c-a1b30045967f\"}, {\"marker\": {\"color\": \"rgb(255,0,0)\", \"colorscale\": \"Viridis\", \"line\": {\"width\": 2}, \"size\": 12, \"symbol\": 0}, \"mode\": \"markers\", \"name\": \"Student_23\", \"text\": [\"Student_23\"], \"x\": [4.0], \"y\": [66], \"type\": \"scatter\", \"uid\": \"df95cfec-e37d-11e8-9d8c-a1b30045967f\"}, {\"marker\": {\"color\": \"rgb(0,255,0)\", \"colorscale\": \"Viridis\", \"line\": {\"width\": 2}, \"size\": 12, \"symbol\": 3}, \"mode\": \"markers\", \"name\": \"Student_24\", \"text\": [\"Student_24\"], \"x\": [0.0], \"y\": [38], \"type\": \"scatter\", \"uid\": \"df95d064-e37d-11e8-9d8c-a1b30045967f\"}, {\"marker\": {\"color\": \"rgb(0,255,0)\", \"colorscale\": \"Viridis\", \"line\": {\"width\": 2}, \"size\": 12, \"symbol\": 3}, \"mode\": \"markers\", \"name\": \"Student_25\", \"text\": [\"Student_25\"], \"x\": [0.0], \"y\": [34], \"type\": \"scatter\", \"uid\": \"df95d0dc-e37d-11e8-9d8c-a1b30045967f\"}, {\"marker\": {\"color\": \"rgb(255,0,0)\", \"colorscale\": \"Viridis\", \"line\": {\"width\": 2}, \"size\": 12, \"symbol\": 0}, \"mode\": \"markers\", \"name\": \"Student_26\", \"text\": [\"Student_26\"], \"x\": [4.0], \"y\": [55], \"type\": \"scatter\", \"uid\": \"df95d15e-e37d-11e8-9d8c-a1b30045967f\"}, {\"marker\": {\"color\": \"rgb(255,0,0)\", \"colorscale\": \"Viridis\", \"line\": {\"width\": 2}, \"size\": 12, \"symbol\": 0}, \"mode\": \"markers\", \"name\": \"Student_27\", \"text\": [\"Student_27\"], \"x\": [1.0], \"y\": [59], \"type\": \"scatter\", \"uid\": \"df95d1d6-e37d-11e8-9d8c-a1b30045967f\"}, {\"marker\": {\"color\": \"rgb(255,0,0)\", \"colorscale\": \"Viridis\", \"line\": {\"width\": 2}, \"size\": 12, \"symbol\": 0}, \"mode\": \"markers\", \"name\": \"Student_28\", \"text\": [\"Student_28\"], \"x\": [3.0], \"y\": [68], \"type\": \"scatter\", \"uid\": \"df95d258-e37d-11e8-9d8c-a1b30045967f\"}, {\"marker\": {\"color\": \"rgb(255,0,0)\", \"colorscale\": \"Viridis\", \"line\": {\"width\": 2}, \"size\": 12, \"symbol\": 0}, \"mode\": \"markers\", \"name\": \"Student_29\", \"text\": [\"Student_29\"], \"x\": [3.0], \"y\": [66], \"type\": \"scatter\", \"uid\": \"df95d2d0-e37d-11e8-9d8c-a1b30045967f\"}, {\"marker\": {\"color\": \"rgb(255,0,0)\", \"colorscale\": \"Viridis\", \"line\": {\"width\": 2}, \"size\": 12, \"symbol\": 0}, \"mode\": \"markers\", \"name\": \"Student_30\", \"text\": [\"Student_30\"], \"x\": [3.0], \"y\": [53], \"type\": \"scatter\", \"uid\": \"df95d352-e37d-11e8-9d8c-a1b30045967f\"}, {\"marker\": {\"color\": \"rgb(0,255,0)\", \"colorscale\": \"Viridis\", \"line\": {\"width\": 2}, \"size\": 12, \"symbol\": 3}, \"mode\": \"markers\", \"name\": \"Student_31\", \"text\": [\"Student_31\"], \"x\": [0.0], \"y\": [44], \"type\": \"scatter\", \"uid\": \"df95d3ca-e37d-11e8-9d8c-a1b30045967f\"}, {\"marker\": {\"color\": \"rgb(0,255,0)\", \"colorscale\": \"Viridis\", \"line\": {\"width\": 2}, \"size\": 12, \"symbol\": 3}, \"mode\": \"markers\", \"name\": \"Student_32\", \"text\": [\"Student_32\"], \"x\": [0.0], \"y\": [42], \"type\": \"scatter\", \"uid\": \"df95d442-e37d-11e8-9d8c-a1b30045967f\"}, {\"marker\": {\"color\": \"rgb(255,0,0)\", \"colorscale\": \"Viridis\", \"line\": {\"width\": 2}, \"size\": 12, \"symbol\": 0}, \"mode\": \"markers\", \"name\": \"Student_33\", \"text\": [\"Student_33\"], \"x\": [3.0], \"y\": [63], \"type\": \"scatter\", \"uid\": \"df95d4ba-e37d-11e8-9d8c-a1b30045967f\"}, {\"marker\": {\"color\": \"rgb(255,255,255)\", \"colorscale\": \"Viridis\", \"line\": {\"width\": 2}, \"size\": 12, \"symbol\": 2}, \"mode\": \"markers\", \"name\": \"Student_34\", \"text\": [\"Student_34\"], \"x\": [0.0], \"y\": [14], \"type\": \"scatter\", \"uid\": \"df95d53c-e37d-11e8-9d8c-a1b30045967f\"}, {\"marker\": {\"color\": \"rgb(255,0,0)\", \"colorscale\": \"Viridis\", \"line\": {\"width\": 2}, \"size\": 12, \"symbol\": 0}, \"mode\": \"markers\", \"name\": \"Student_35\", \"text\": [\"Student_35\"], \"x\": [2.0], \"y\": [67], \"type\": \"scatter\", \"uid\": \"df95d5aa-e37d-11e8-9d8c-a1b30045967f\"}, {\"marker\": {\"color\": \"rgb(255,0,0)\", \"colorscale\": \"Viridis\", \"line\": {\"width\": 2}, \"size\": 12, \"symbol\": 0}, \"mode\": \"markers\", \"name\": \"Student_36\", \"text\": [\"Student_36\"], \"x\": [2.0], \"y\": [70], \"type\": \"scatter\", \"uid\": \"df95d622-e37d-11e8-9d8c-a1b30045967f\"}, {\"marker\": {\"color\": \"rgb(255,0,0)\", \"colorscale\": \"Viridis\", \"line\": {\"width\": 2}, \"size\": 12, \"symbol\": 0}, \"mode\": \"markers\", \"name\": \"Student_37\", \"text\": [\"Student_37\"], \"x\": [2.0], \"y\": [58], \"type\": \"scatter\", \"uid\": \"df95d69a-e37d-11e8-9d8c-a1b30045967f\"}, {\"marker\": {\"color\": \"rgb(255,255,255)\", \"colorscale\": \"Viridis\", \"line\": {\"width\": 2}, \"size\": 12, \"symbol\": 2}, \"mode\": \"markers\", \"name\": \"Student_38\", \"text\": [\"Student_38\"], \"x\": [0.0], \"y\": [22], \"type\": \"scatter\", \"uid\": \"df95d71c-e37d-11e8-9d8c-a1b30045967f\"}, {\"marker\": {\"color\": \"rgb(0,255,0)\", \"colorscale\": \"Viridis\", \"line\": {\"width\": 2}, \"size\": 12, \"symbol\": 3}, \"mode\": \"markers\", \"name\": \"Student_39\", \"text\": [\"Student_39\"], \"x\": [0.0], \"y\": [35], \"type\": \"scatter\", \"uid\": \"df95d794-e37d-11e8-9d8c-a1b30045967f\"}, {\"marker\": {\"color\": \"rgb(0,255,0)\", \"colorscale\": \"Viridis\", \"line\": {\"width\": 2}, \"size\": 12, \"symbol\": 3}, \"mode\": \"markers\", \"name\": \"Student_40\", \"text\": [\"Student_40\"], \"x\": [0.0], \"y\": [40], \"type\": \"scatter\", \"uid\": \"df95d80c-e37d-11e8-9d8c-a1b30045967f\"}, {\"marker\": {\"color\": \"rgb(0,255,0)\", \"colorscale\": \"Viridis\", \"line\": {\"width\": 2}, \"size\": 12, \"symbol\": 3}, \"mode\": \"markers\", \"name\": \"Student_41\", \"text\": [\"Student_41\"], \"x\": [0.0], \"y\": [47], \"type\": \"scatter\", \"uid\": \"df95d88e-e37d-11e8-9d8c-a1b30045967f\"}, {\"marker\": {\"color\": \"rgb(0,0,255)\", \"colorscale\": \"Viridis\", \"line\": {\"width\": 2}, \"size\": 12, \"symbol\": 1}, \"mode\": \"markers\", \"name\": \"Student_42\", \"text\": [\"Student_42\"], \"x\": [3.0], \"y\": [75], \"type\": \"scatter\", \"uid\": \"df95d906-e37d-11e8-9d8c-a1b30045967f\"}, {\"marker\": {\"color\": \"rgb(0,255,0)\", \"colorscale\": \"Viridis\", \"line\": {\"width\": 2}, \"size\": 12, \"symbol\": 3}, \"mode\": \"markers\", \"name\": \"Student_43\", \"text\": [\"Student_43\"], \"x\": [0.0], \"y\": [35], \"type\": \"scatter\", \"uid\": \"df95d97e-e37d-11e8-9d8c-a1b30045967f\"}, {\"marker\": {\"color\": \"rgb(255,0,0)\", \"colorscale\": \"Viridis\", \"line\": {\"width\": 2}, \"size\": 12, \"symbol\": 0}, \"mode\": \"markers\", \"name\": \"Student_44\", \"text\": [\"Student_44\"], \"x\": [2.0], \"y\": [69], \"type\": \"scatter\", \"uid\": \"df95d9f6-e37d-11e8-9d8c-a1b30045967f\"}, {\"marker\": {\"color\": \"rgb(0,0,255)\", \"colorscale\": \"Viridis\", \"line\": {\"width\": 2}, \"size\": 12, \"symbol\": 1}, \"mode\": \"markers\", \"name\": \"Student_45\", \"text\": [\"Student_45\"], \"x\": [3.0], \"y\": [82], \"type\": \"scatter\", \"uid\": \"df95da6e-e37d-11e8-9d8c-a1b30045967f\"}, {\"marker\": {\"color\": \"rgb(0,255,0)\", \"colorscale\": \"Viridis\", \"line\": {\"width\": 2}, \"size\": 12, \"symbol\": 3}, \"mode\": \"markers\", \"name\": \"Student_46\", \"text\": [\"Student_46\"], \"x\": [0.0], \"y\": [47], \"type\": \"scatter\", \"uid\": \"df95daf0-e37d-11e8-9d8c-a1b30045967f\"}, {\"marker\": {\"color\": \"rgb(0,255,0)\", \"colorscale\": \"Viridis\", \"line\": {\"width\": 2}, \"size\": 12, \"symbol\": 3}, \"mode\": \"markers\", \"name\": \"Student_47\", \"text\": [\"Student_47\"], \"x\": [0.0], \"y\": [34], \"type\": \"scatter\", \"uid\": \"df95db5e-e37d-11e8-9d8c-a1b30045967f\"}, {\"marker\": {\"color\": \"rgb(0,255,0)\", \"colorscale\": \"Viridis\", \"line\": {\"width\": 2}, \"size\": 12, \"symbol\": 3}, \"mode\": \"markers\", \"name\": \"Student_48\", \"text\": [\"Student_48\"], \"x\": [0.0], \"y\": [47], \"type\": \"scatter\", \"uid\": \"df95dbd6-e37d-11e8-9d8c-a1b30045967f\"}, {\"marker\": {\"color\": \"rgb(255,255,255)\", \"colorscale\": \"Viridis\", \"line\": {\"width\": 2}, \"size\": 12, \"symbol\": 2}, \"mode\": \"markers\", \"name\": \"Student_49\", \"text\": [\"Student_49\"], \"x\": [0.0], \"y\": [26], \"type\": \"scatter\", \"uid\": \"df95dc58-e37d-11e8-9d8c-a1b30045967f\"}, {\"marker\": {\"color\": \"rgb(0,255,0)\", \"colorscale\": \"Viridis\", \"line\": {\"width\": 2}, \"size\": 12, \"symbol\": 3}, \"mode\": \"markers\", \"name\": \"Student_50\", \"text\": [\"Student_50\"], \"x\": [0.0], \"y\": [32], \"type\": \"scatter\", \"uid\": \"df95dd52-e37d-11e8-9d8c-a1b30045967f\"}, {\"marker\": {\"color\": \"rgb(0,255,0)\", \"colorscale\": \"Viridis\", \"line\": {\"width\": 2}, \"size\": 12, \"symbol\": 3}, \"mode\": \"markers\", \"name\": \"Student_51\", \"text\": [\"Student_51\"], \"x\": [1.0], \"y\": [57], \"type\": \"scatter\", \"uid\": \"df95ddca-e37d-11e8-9d8c-a1b30045967f\"}, {\"marker\": {\"color\": \"rgb(255,0,0)\", \"colorscale\": \"Viridis\", \"line\": {\"width\": 2}, \"size\": 12, \"symbol\": 0}, \"mode\": \"markers\", \"name\": \"Student_52\", \"text\": [\"Student_52\"], \"x\": [2.0], \"y\": [59], \"type\": \"scatter\", \"uid\": \"df95de4c-e37d-11e8-9d8c-a1b30045967f\"}, {\"marker\": {\"color\": \"rgb(255,255,255)\", \"colorscale\": \"Viridis\", \"line\": {\"width\": 2}, \"size\": 12, \"symbol\": 2}, \"mode\": \"markers\", \"name\": \"Student_53\", \"text\": [\"Student_53\"], \"x\": [0.0], \"y\": [26], \"type\": \"scatter\", \"uid\": \"df95dec4-e37d-11e8-9d8c-a1b30045967f\"}, {\"marker\": {\"color\": \"rgb(0,255,0)\", \"colorscale\": \"Viridis\", \"line\": {\"width\": 2}, \"size\": 12, \"symbol\": 3}, \"mode\": \"markers\", \"name\": \"Student_54\", \"text\": [\"Student_54\"], \"x\": [0.0], \"y\": [45], \"type\": \"scatter\", \"uid\": \"df95df3c-e37d-11e8-9d8c-a1b30045967f\"}, {\"marker\": {\"color\": \"rgb(0,255,0)\", \"colorscale\": \"Viridis\", \"line\": {\"width\": 2}, \"size\": 12, \"symbol\": 3}, \"mode\": \"markers\", \"name\": \"Student_55\", \"text\": [\"Student_55\"], \"x\": [0.0], \"y\": [42], \"type\": \"scatter\", \"uid\": \"df95dfb4-e37d-11e8-9d8c-a1b30045967f\"}, {\"marker\": {\"color\": \"rgb(0,255,0)\", \"colorscale\": \"Viridis\", \"line\": {\"width\": 2}, \"size\": 12, \"symbol\": 3}, \"mode\": \"markers\", \"name\": \"Student_56\", \"text\": [\"Student_56\"], \"x\": [0.0], \"y\": [44], \"type\": \"scatter\", \"uid\": \"df95e176-e37d-11e8-9d8c-a1b30045967f\"}, {\"marker\": {\"color\": \"rgb(255,255,255)\", \"colorscale\": \"Viridis\", \"line\": {\"width\": 2}, \"size\": 12, \"symbol\": 2}, \"mode\": \"markers\", \"name\": \"Student_57\", \"text\": [\"Student_57\"], \"x\": [0.0], \"y\": [15], \"type\": \"scatter\", \"uid\": \"df95e1f8-e37d-11e8-9d8c-a1b30045967f\"}, {\"marker\": {\"color\": \"rgb(0,0,255)\", \"colorscale\": \"Viridis\", \"line\": {\"width\": 2}, \"size\": 12, \"symbol\": 1}, \"mode\": \"markers\", \"name\": \"Student_58\", \"text\": [\"Student_58\"], \"x\": [2.0], \"y\": [74], \"type\": \"scatter\", \"uid\": \"df95e270-e37d-11e8-9d8c-a1b30045967f\"}, {\"marker\": {\"color\": \"rgb(255,0,0)\", \"colorscale\": \"Viridis\", \"line\": {\"width\": 2}, \"size\": 12, \"symbol\": 0}, \"mode\": \"markers\", \"name\": \"Student_59\", \"text\": [\"Student_59\"], \"x\": [3.0], \"y\": [65], \"type\": \"scatter\", \"uid\": \"df95e2e8-e37d-11e8-9d8c-a1b30045967f\"}, {\"marker\": {\"color\": \"rgb(255,255,255)\", \"colorscale\": \"Viridis\", \"line\": {\"width\": 2}, \"size\": 12, \"symbol\": 2}, \"mode\": \"markers\", \"name\": \"Student_60\", \"text\": [\"Student_60\"], \"x\": [0.0], \"y\": [22], \"type\": \"scatter\", \"uid\": \"df95e360-e37d-11e8-9d8c-a1b30045967f\"}], {\"hovermode\": \"closest\", \"showlegend\": true, \"title\": \"Notas dos estudantes vs atividades respondidas\", \"xaxis\": {\"autorange\": false, \"fixedrange\": false, \"range\": [0, 14.0], \"rangemode\": \"normal\", \"showline\": true, \"title\": \"Atividades respondidas\", \"zeroline\": false}, \"yaxis\": {\"autorange\": false, \"fixedrange\": false, \"range\": [0, 97], \"rangemode\": \"normal\", \"showline\": true, \"title\": \"Notas\"}}, {\"showLink\": true, \"linkText\": \"Export to plot.ly\"})});</script>"
      ],
      "text/vnd.plotly.v1+html": [
       "<div id=\"a714464f-49be-4673-968c-b8dc5a9dbea8\" style=\"height: 525px; width: 100%;\" class=\"plotly-graph-div\"></div><script type=\"text/javascript\">require([\"plotly\"], function(Plotly) { window.PLOTLYENV=window.PLOTLYENV || {};window.PLOTLYENV.BASE_URL=\"https://plot.ly\";Plotly.newPlot(\"a714464f-49be-4673-968c-b8dc5a9dbea8\", [{\"marker\": {\"color\": \"rgb(255,0,0)\", \"colorscale\": \"Viridis\", \"line\": {\"width\": 2}, \"size\": 12, \"symbol\": 0}, \"mode\": \"markers\", \"name\": \"Student_1\", \"text\": [\"Student_1\"], \"x\": [2.0], \"y\": [56], \"type\": \"scatter\", \"uid\": \"df95c3da-e37d-11e8-9d8c-a1b30045967f\"}, {\"marker\": {\"color\": \"rgb(0,255,0)\", \"colorscale\": \"Viridis\", \"line\": {\"width\": 2}, \"size\": 12, \"symbol\": 3}, \"mode\": \"markers\", \"name\": \"Student_2\", \"text\": [\"Student_2\"], \"x\": [0.0], \"y\": [47], \"type\": \"scatter\", \"uid\": \"df95c556-e37d-11e8-9d8c-a1b30045967f\"}, {\"marker\": {\"color\": \"rgb(0,255,0)\", \"colorscale\": \"Viridis\", \"line\": {\"width\": 2}, \"size\": 12, \"symbol\": 3}, \"mode\": \"markers\", \"name\": \"Student_3\", \"text\": [\"Student_3\"], \"x\": [0.0], \"y\": [38], \"type\": \"scatter\", \"uid\": \"df95c614-e37d-11e8-9d8c-a1b30045967f\"}, {\"marker\": {\"color\": \"rgb(0,255,0)\", \"colorscale\": \"Viridis\", \"line\": {\"width\": 2}, \"size\": 12, \"symbol\": 3}, \"mode\": \"markers\", \"name\": \"Student_4\", \"text\": [\"Student_4\"], \"x\": [0.0], \"y\": [44], \"type\": \"scatter\", \"uid\": \"df95c6a0-e37d-11e8-9d8c-a1b30045967f\"}, {\"marker\": {\"color\": \"rgb(255,255,255)\", \"colorscale\": \"Viridis\", \"line\": {\"width\": 2}, \"size\": 12, \"symbol\": 2}, \"mode\": \"markers\", \"name\": \"Student_5\", \"text\": [\"Student_5\"], \"x\": [0.0], \"y\": [17], \"type\": \"scatter\", \"uid\": \"df95c72c-e37d-11e8-9d8c-a1b30045967f\"}, {\"marker\": {\"color\": \"rgb(0,255,0)\", \"colorscale\": \"Viridis\", \"line\": {\"width\": 2}, \"size\": 12, \"symbol\": 3}, \"mode\": \"markers\", \"name\": \"Student_6\", \"text\": [\"Student_6\"], \"x\": [0.0], \"y\": [44], \"type\": \"scatter\", \"uid\": \"df95c7ae-e37d-11e8-9d8c-a1b30045967f\"}, {\"marker\": {\"color\": \"rgb(0,0,255)\", \"colorscale\": \"Viridis\", \"line\": {\"width\": 2}, \"size\": 12, \"symbol\": 1}, \"mode\": \"markers\", \"name\": \"Student_7\", \"text\": [\"Student_7\"], \"x\": [3.0], \"y\": [87], \"type\": \"scatter\", \"uid\": \"df95c830-e37d-11e8-9d8c-a1b30045967f\"}, {\"marker\": {\"color\": \"rgb(255,0,0)\", \"colorscale\": \"Viridis\", \"line\": {\"width\": 2}, \"size\": 12, \"symbol\": 0}, \"mode\": \"markers\", \"name\": \"Student_8\", \"text\": [\"Student_8\"], \"x\": [3.0], \"y\": [63], \"type\": \"scatter\", \"uid\": \"df95c8a8-e37d-11e8-9d8c-a1b30045967f\"}, {\"marker\": {\"color\": \"rgb(0,255,0)\", \"colorscale\": \"Viridis\", \"line\": {\"width\": 2}, \"size\": 12, \"symbol\": 3}, \"mode\": \"markers\", \"name\": \"Student_9\", \"text\": [\"Student_9\"], \"x\": [0.0], \"y\": [36], \"type\": \"scatter\", \"uid\": \"df95c92a-e37d-11e8-9d8c-a1b30045967f\"}, {\"marker\": {\"color\": \"rgb(255,0,0)\", \"colorscale\": \"Viridis\", \"line\": {\"width\": 2}, \"size\": 12, \"symbol\": 0}, \"mode\": \"markers\", \"name\": \"Student_10\", \"text\": [\"Student_10\"], \"x\": [2.0], \"y\": [54], \"type\": \"scatter\", \"uid\": \"df95c9a2-e37d-11e8-9d8c-a1b30045967f\"}, {\"marker\": {\"color\": \"rgb(0,255,0)\", \"colorscale\": \"Viridis\", \"line\": {\"width\": 2}, \"size\": 12, \"symbol\": 3}, \"mode\": \"markers\", \"name\": \"Student_11\", \"text\": [\"Student_11\"], \"x\": [0.0], \"y\": [49], \"type\": \"scatter\", \"uid\": \"df95ca1a-e37d-11e8-9d8c-a1b30045967f\"}, {\"marker\": {\"color\": \"rgb(0,255,0)\", \"colorscale\": \"Viridis\", \"line\": {\"width\": 2}, \"size\": 12, \"symbol\": 3}, \"mode\": \"markers\", \"name\": \"Student_12\", \"text\": [\"Student_12\"], \"x\": [0.0], \"y\": [47], \"type\": \"scatter\", \"uid\": \"df95ca9c-e37d-11e8-9d8c-a1b30045967f\"}, {\"marker\": {\"color\": \"rgb(255,0,0)\", \"colorscale\": \"Viridis\", \"line\": {\"width\": 2}, \"size\": 12, \"symbol\": 0}, \"mode\": \"markers\", \"name\": \"Student_13\", \"text\": [\"Student_13\"], \"x\": [2.0], \"y\": [70], \"type\": \"scatter\", \"uid\": \"df95cb14-e37d-11e8-9d8c-a1b30045967f\"}, {\"marker\": {\"color\": \"rgb(0,255,0)\", \"colorscale\": \"Viridis\", \"line\": {\"width\": 2}, \"size\": 12, \"symbol\": 3}, \"mode\": \"markers\", \"name\": \"Student_14\", \"text\": [\"Student_14\"], \"x\": [0.0], \"y\": [46], \"type\": \"scatter\", \"uid\": \"df95cb8c-e37d-11e8-9d8c-a1b30045967f\"}, {\"marker\": {\"color\": \"rgb(0,255,0)\", \"colorscale\": \"Viridis\", \"line\": {\"width\": 2}, \"size\": 12, \"symbol\": 3}, \"mode\": \"markers\", \"name\": \"Student_15\", \"text\": [\"Student_15\"], \"x\": [0.0], \"y\": [47], \"type\": \"scatter\", \"uid\": \"df95cc0e-e37d-11e8-9d8c-a1b30045967f\"}, {\"marker\": {\"color\": \"rgb(0,0,255)\", \"colorscale\": \"Viridis\", \"line\": {\"width\": 2}, \"size\": 12, \"symbol\": 1}, \"mode\": \"markers\", \"name\": \"Student_16\", \"text\": [\"Student_16\"], \"x\": [4.0], \"y\": [76], \"type\": \"scatter\", \"uid\": \"df95cc86-e37d-11e8-9d8c-a1b30045967f\"}, {\"marker\": {\"color\": \"rgb(0,255,0)\", \"colorscale\": \"Viridis\", \"line\": {\"width\": 2}, \"size\": 12, \"symbol\": 3}, \"mode\": \"markers\", \"name\": \"Student_17\", \"text\": [\"Student_17\"], \"x\": [0.0], \"y\": [44], \"type\": \"scatter\", \"uid\": \"df95ccfe-e37d-11e8-9d8c-a1b30045967f\"}, {\"marker\": {\"color\": \"rgb(255,0,0)\", \"colorscale\": \"Viridis\", \"line\": {\"width\": 2}, \"size\": 12, \"symbol\": 0}, \"mode\": \"markers\", \"name\": \"Student_18\", \"text\": [\"Student_18\"], \"x\": [3.0], \"y\": [66], \"type\": \"scatter\", \"uid\": \"df95cd80-e37d-11e8-9d8c-a1b30045967f\"}, {\"marker\": {\"color\": \"rgb(0,0,255)\", \"colorscale\": \"Viridis\", \"line\": {\"width\": 2}, \"size\": 12, \"symbol\": 1}, \"mode\": \"markers\", \"name\": \"Student_19\", \"text\": [\"Student_19\"], \"x\": [3.0], \"y\": [79], \"type\": \"scatter\", \"uid\": \"df95cdf8-e37d-11e8-9d8c-a1b30045967f\"}, {\"marker\": {\"color\": \"rgb(0,255,0)\", \"colorscale\": \"Viridis\", \"line\": {\"width\": 2}, \"size\": 12, \"symbol\": 3}, \"mode\": \"markers\", \"name\": \"Student_20\", \"text\": [\"Student_20\"], \"x\": [0.0], \"y\": [45], \"type\": \"scatter\", \"uid\": \"df95ce70-e37d-11e8-9d8c-a1b30045967f\"}, {\"marker\": {\"color\": \"rgb(0,0,255)\", \"colorscale\": \"Viridis\", \"line\": {\"width\": 2}, \"size\": 12, \"symbol\": 1}, \"mode\": \"markers\", \"name\": \"Student_21\", \"text\": [\"Student_21\"], \"x\": [3.0], \"y\": [71], \"type\": \"scatter\", \"uid\": \"df95cef2-e37d-11e8-9d8c-a1b30045967f\"}, {\"marker\": {\"color\": \"rgb(0,255,0)\", \"colorscale\": \"Viridis\", \"line\": {\"width\": 2}, \"size\": 12, \"symbol\": 3}, \"mode\": \"markers\", \"name\": \"Student_22\", \"text\": [\"Student_22\"], \"x\": [0.0], \"y\": [50], \"type\": \"scatter\", \"uid\": \"df95cf6a-e37d-11e8-9d8c-a1b30045967f\"}, {\"marker\": {\"color\": \"rgb(255,0,0)\", \"colorscale\": \"Viridis\", \"line\": {\"width\": 2}, \"size\": 12, \"symbol\": 0}, \"mode\": \"markers\", \"name\": \"Student_23\", \"text\": [\"Student_23\"], \"x\": [4.0], \"y\": [66], \"type\": \"scatter\", \"uid\": \"df95cfec-e37d-11e8-9d8c-a1b30045967f\"}, {\"marker\": {\"color\": \"rgb(0,255,0)\", \"colorscale\": \"Viridis\", \"line\": {\"width\": 2}, \"size\": 12, \"symbol\": 3}, \"mode\": \"markers\", \"name\": \"Student_24\", \"text\": [\"Student_24\"], \"x\": [0.0], \"y\": [38], \"type\": \"scatter\", \"uid\": \"df95d064-e37d-11e8-9d8c-a1b30045967f\"}, {\"marker\": {\"color\": \"rgb(0,255,0)\", \"colorscale\": \"Viridis\", \"line\": {\"width\": 2}, \"size\": 12, \"symbol\": 3}, \"mode\": \"markers\", \"name\": \"Student_25\", \"text\": [\"Student_25\"], \"x\": [0.0], \"y\": [34], \"type\": \"scatter\", \"uid\": \"df95d0dc-e37d-11e8-9d8c-a1b30045967f\"}, {\"marker\": {\"color\": \"rgb(255,0,0)\", \"colorscale\": \"Viridis\", \"line\": {\"width\": 2}, \"size\": 12, \"symbol\": 0}, \"mode\": \"markers\", \"name\": \"Student_26\", \"text\": [\"Student_26\"], \"x\": [4.0], \"y\": [55], \"type\": \"scatter\", \"uid\": \"df95d15e-e37d-11e8-9d8c-a1b30045967f\"}, {\"marker\": {\"color\": \"rgb(255,0,0)\", \"colorscale\": \"Viridis\", \"line\": {\"width\": 2}, \"size\": 12, \"symbol\": 0}, \"mode\": \"markers\", \"name\": \"Student_27\", \"text\": [\"Student_27\"], \"x\": [1.0], \"y\": [59], \"type\": \"scatter\", \"uid\": \"df95d1d6-e37d-11e8-9d8c-a1b30045967f\"}, {\"marker\": {\"color\": \"rgb(255,0,0)\", \"colorscale\": \"Viridis\", \"line\": {\"width\": 2}, \"size\": 12, \"symbol\": 0}, \"mode\": \"markers\", \"name\": \"Student_28\", \"text\": [\"Student_28\"], \"x\": [3.0], \"y\": [68], \"type\": \"scatter\", \"uid\": \"df95d258-e37d-11e8-9d8c-a1b30045967f\"}, {\"marker\": {\"color\": \"rgb(255,0,0)\", \"colorscale\": \"Viridis\", \"line\": {\"width\": 2}, \"size\": 12, \"symbol\": 0}, \"mode\": \"markers\", \"name\": \"Student_29\", \"text\": [\"Student_29\"], \"x\": [3.0], \"y\": [66], \"type\": \"scatter\", \"uid\": \"df95d2d0-e37d-11e8-9d8c-a1b30045967f\"}, {\"marker\": {\"color\": \"rgb(255,0,0)\", \"colorscale\": \"Viridis\", \"line\": {\"width\": 2}, \"size\": 12, \"symbol\": 0}, \"mode\": \"markers\", \"name\": \"Student_30\", \"text\": [\"Student_30\"], \"x\": [3.0], \"y\": [53], \"type\": \"scatter\", \"uid\": \"df95d352-e37d-11e8-9d8c-a1b30045967f\"}, {\"marker\": {\"color\": \"rgb(0,255,0)\", \"colorscale\": \"Viridis\", \"line\": {\"width\": 2}, \"size\": 12, \"symbol\": 3}, \"mode\": \"markers\", \"name\": \"Student_31\", \"text\": [\"Student_31\"], \"x\": [0.0], \"y\": [44], \"type\": \"scatter\", \"uid\": \"df95d3ca-e37d-11e8-9d8c-a1b30045967f\"}, {\"marker\": {\"color\": \"rgb(0,255,0)\", \"colorscale\": \"Viridis\", \"line\": {\"width\": 2}, \"size\": 12, \"symbol\": 3}, \"mode\": \"markers\", \"name\": \"Student_32\", \"text\": [\"Student_32\"], \"x\": [0.0], \"y\": [42], \"type\": \"scatter\", \"uid\": \"df95d442-e37d-11e8-9d8c-a1b30045967f\"}, {\"marker\": {\"color\": \"rgb(255,0,0)\", \"colorscale\": \"Viridis\", \"line\": {\"width\": 2}, \"size\": 12, \"symbol\": 0}, \"mode\": \"markers\", \"name\": \"Student_33\", \"text\": [\"Student_33\"], \"x\": [3.0], \"y\": [63], \"type\": \"scatter\", \"uid\": \"df95d4ba-e37d-11e8-9d8c-a1b30045967f\"}, {\"marker\": {\"color\": \"rgb(255,255,255)\", \"colorscale\": \"Viridis\", \"line\": {\"width\": 2}, \"size\": 12, \"symbol\": 2}, \"mode\": \"markers\", \"name\": \"Student_34\", \"text\": [\"Student_34\"], \"x\": [0.0], \"y\": [14], \"type\": \"scatter\", \"uid\": \"df95d53c-e37d-11e8-9d8c-a1b30045967f\"}, {\"marker\": {\"color\": \"rgb(255,0,0)\", \"colorscale\": \"Viridis\", \"line\": {\"width\": 2}, \"size\": 12, \"symbol\": 0}, \"mode\": \"markers\", \"name\": \"Student_35\", \"text\": [\"Student_35\"], \"x\": [2.0], \"y\": [67], \"type\": \"scatter\", \"uid\": \"df95d5aa-e37d-11e8-9d8c-a1b30045967f\"}, {\"marker\": {\"color\": \"rgb(255,0,0)\", \"colorscale\": \"Viridis\", \"line\": {\"width\": 2}, \"size\": 12, \"symbol\": 0}, \"mode\": \"markers\", \"name\": \"Student_36\", \"text\": [\"Student_36\"], \"x\": [2.0], \"y\": [70], \"type\": \"scatter\", \"uid\": \"df95d622-e37d-11e8-9d8c-a1b30045967f\"}, {\"marker\": {\"color\": \"rgb(255,0,0)\", \"colorscale\": \"Viridis\", \"line\": {\"width\": 2}, \"size\": 12, \"symbol\": 0}, \"mode\": \"markers\", \"name\": \"Student_37\", \"text\": [\"Student_37\"], \"x\": [2.0], \"y\": [58], \"type\": \"scatter\", \"uid\": \"df95d69a-e37d-11e8-9d8c-a1b30045967f\"}, {\"marker\": {\"color\": \"rgb(255,255,255)\", \"colorscale\": \"Viridis\", \"line\": {\"width\": 2}, \"size\": 12, \"symbol\": 2}, \"mode\": \"markers\", \"name\": \"Student_38\", \"text\": [\"Student_38\"], \"x\": [0.0], \"y\": [22], \"type\": \"scatter\", \"uid\": \"df95d71c-e37d-11e8-9d8c-a1b30045967f\"}, {\"marker\": {\"color\": \"rgb(0,255,0)\", \"colorscale\": \"Viridis\", \"line\": {\"width\": 2}, \"size\": 12, \"symbol\": 3}, \"mode\": \"markers\", \"name\": \"Student_39\", \"text\": [\"Student_39\"], \"x\": [0.0], \"y\": [35], \"type\": \"scatter\", \"uid\": \"df95d794-e37d-11e8-9d8c-a1b30045967f\"}, {\"marker\": {\"color\": \"rgb(0,255,0)\", \"colorscale\": \"Viridis\", \"line\": {\"width\": 2}, \"size\": 12, \"symbol\": 3}, \"mode\": \"markers\", \"name\": \"Student_40\", \"text\": [\"Student_40\"], \"x\": [0.0], \"y\": [40], \"type\": \"scatter\", \"uid\": \"df95d80c-e37d-11e8-9d8c-a1b30045967f\"}, {\"marker\": {\"color\": \"rgb(0,255,0)\", \"colorscale\": \"Viridis\", \"line\": {\"width\": 2}, \"size\": 12, \"symbol\": 3}, \"mode\": \"markers\", \"name\": \"Student_41\", \"text\": [\"Student_41\"], \"x\": [0.0], \"y\": [47], \"type\": \"scatter\", \"uid\": \"df95d88e-e37d-11e8-9d8c-a1b30045967f\"}, {\"marker\": {\"color\": \"rgb(0,0,255)\", \"colorscale\": \"Viridis\", \"line\": {\"width\": 2}, \"size\": 12, \"symbol\": 1}, \"mode\": \"markers\", \"name\": \"Student_42\", \"text\": [\"Student_42\"], \"x\": [3.0], \"y\": [75], \"type\": \"scatter\", \"uid\": \"df95d906-e37d-11e8-9d8c-a1b30045967f\"}, {\"marker\": {\"color\": \"rgb(0,255,0)\", \"colorscale\": \"Viridis\", \"line\": {\"width\": 2}, \"size\": 12, \"symbol\": 3}, \"mode\": \"markers\", \"name\": \"Student_43\", \"text\": [\"Student_43\"], \"x\": [0.0], \"y\": [35], \"type\": \"scatter\", \"uid\": \"df95d97e-e37d-11e8-9d8c-a1b30045967f\"}, {\"marker\": {\"color\": \"rgb(255,0,0)\", \"colorscale\": \"Viridis\", \"line\": {\"width\": 2}, \"size\": 12, \"symbol\": 0}, \"mode\": \"markers\", \"name\": \"Student_44\", \"text\": [\"Student_44\"], \"x\": [2.0], \"y\": [69], \"type\": \"scatter\", \"uid\": \"df95d9f6-e37d-11e8-9d8c-a1b30045967f\"}, {\"marker\": {\"color\": \"rgb(0,0,255)\", \"colorscale\": \"Viridis\", \"line\": {\"width\": 2}, \"size\": 12, \"symbol\": 1}, \"mode\": \"markers\", \"name\": \"Student_45\", \"text\": [\"Student_45\"], \"x\": [3.0], \"y\": [82], \"type\": \"scatter\", \"uid\": \"df95da6e-e37d-11e8-9d8c-a1b30045967f\"}, {\"marker\": {\"color\": \"rgb(0,255,0)\", \"colorscale\": \"Viridis\", \"line\": {\"width\": 2}, \"size\": 12, \"symbol\": 3}, \"mode\": \"markers\", \"name\": \"Student_46\", \"text\": [\"Student_46\"], \"x\": [0.0], \"y\": [47], \"type\": \"scatter\", \"uid\": \"df95daf0-e37d-11e8-9d8c-a1b30045967f\"}, {\"marker\": {\"color\": \"rgb(0,255,0)\", \"colorscale\": \"Viridis\", \"line\": {\"width\": 2}, \"size\": 12, \"symbol\": 3}, \"mode\": \"markers\", \"name\": \"Student_47\", \"text\": [\"Student_47\"], \"x\": [0.0], \"y\": [34], \"type\": \"scatter\", \"uid\": \"df95db5e-e37d-11e8-9d8c-a1b30045967f\"}, {\"marker\": {\"color\": \"rgb(0,255,0)\", \"colorscale\": \"Viridis\", \"line\": {\"width\": 2}, \"size\": 12, \"symbol\": 3}, \"mode\": \"markers\", \"name\": \"Student_48\", \"text\": [\"Student_48\"], \"x\": [0.0], \"y\": [47], \"type\": \"scatter\", \"uid\": \"df95dbd6-e37d-11e8-9d8c-a1b30045967f\"}, {\"marker\": {\"color\": \"rgb(255,255,255)\", \"colorscale\": \"Viridis\", \"line\": {\"width\": 2}, \"size\": 12, \"symbol\": 2}, \"mode\": \"markers\", \"name\": \"Student_49\", \"text\": [\"Student_49\"], \"x\": [0.0], \"y\": [26], \"type\": \"scatter\", \"uid\": \"df95dc58-e37d-11e8-9d8c-a1b30045967f\"}, {\"marker\": {\"color\": \"rgb(0,255,0)\", \"colorscale\": \"Viridis\", \"line\": {\"width\": 2}, \"size\": 12, \"symbol\": 3}, \"mode\": \"markers\", \"name\": \"Student_50\", \"text\": [\"Student_50\"], \"x\": [0.0], \"y\": [32], \"type\": \"scatter\", \"uid\": \"df95dd52-e37d-11e8-9d8c-a1b30045967f\"}, {\"marker\": {\"color\": \"rgb(0,255,0)\", \"colorscale\": \"Viridis\", \"line\": {\"width\": 2}, \"size\": 12, \"symbol\": 3}, \"mode\": \"markers\", \"name\": \"Student_51\", \"text\": [\"Student_51\"], \"x\": [1.0], \"y\": [57], \"type\": \"scatter\", \"uid\": \"df95ddca-e37d-11e8-9d8c-a1b30045967f\"}, {\"marker\": {\"color\": \"rgb(255,0,0)\", \"colorscale\": \"Viridis\", \"line\": {\"width\": 2}, \"size\": 12, \"symbol\": 0}, \"mode\": \"markers\", \"name\": \"Student_52\", \"text\": [\"Student_52\"], \"x\": [2.0], \"y\": [59], \"type\": \"scatter\", \"uid\": \"df95de4c-e37d-11e8-9d8c-a1b30045967f\"}, {\"marker\": {\"color\": \"rgb(255,255,255)\", \"colorscale\": \"Viridis\", \"line\": {\"width\": 2}, \"size\": 12, \"symbol\": 2}, \"mode\": \"markers\", \"name\": \"Student_53\", \"text\": [\"Student_53\"], \"x\": [0.0], \"y\": [26], \"type\": \"scatter\", \"uid\": \"df95dec4-e37d-11e8-9d8c-a1b30045967f\"}, {\"marker\": {\"color\": \"rgb(0,255,0)\", \"colorscale\": \"Viridis\", \"line\": {\"width\": 2}, \"size\": 12, \"symbol\": 3}, \"mode\": \"markers\", \"name\": \"Student_54\", \"text\": [\"Student_54\"], \"x\": [0.0], \"y\": [45], \"type\": \"scatter\", \"uid\": \"df95df3c-e37d-11e8-9d8c-a1b30045967f\"}, {\"marker\": {\"color\": \"rgb(0,255,0)\", \"colorscale\": \"Viridis\", \"line\": {\"width\": 2}, \"size\": 12, \"symbol\": 3}, \"mode\": \"markers\", \"name\": \"Student_55\", \"text\": [\"Student_55\"], \"x\": [0.0], \"y\": [42], \"type\": \"scatter\", \"uid\": \"df95dfb4-e37d-11e8-9d8c-a1b30045967f\"}, {\"marker\": {\"color\": \"rgb(0,255,0)\", \"colorscale\": \"Viridis\", \"line\": {\"width\": 2}, \"size\": 12, \"symbol\": 3}, \"mode\": \"markers\", \"name\": \"Student_56\", \"text\": [\"Student_56\"], \"x\": [0.0], \"y\": [44], \"type\": \"scatter\", \"uid\": \"df95e176-e37d-11e8-9d8c-a1b30045967f\"}, {\"marker\": {\"color\": \"rgb(255,255,255)\", \"colorscale\": \"Viridis\", \"line\": {\"width\": 2}, \"size\": 12, \"symbol\": 2}, \"mode\": \"markers\", \"name\": \"Student_57\", \"text\": [\"Student_57\"], \"x\": [0.0], \"y\": [15], \"type\": \"scatter\", \"uid\": \"df95e1f8-e37d-11e8-9d8c-a1b30045967f\"}, {\"marker\": {\"color\": \"rgb(0,0,255)\", \"colorscale\": \"Viridis\", \"line\": {\"width\": 2}, \"size\": 12, \"symbol\": 1}, \"mode\": \"markers\", \"name\": \"Student_58\", \"text\": [\"Student_58\"], \"x\": [2.0], \"y\": [74], \"type\": \"scatter\", \"uid\": \"df95e270-e37d-11e8-9d8c-a1b30045967f\"}, {\"marker\": {\"color\": \"rgb(255,0,0)\", \"colorscale\": \"Viridis\", \"line\": {\"width\": 2}, \"size\": 12, \"symbol\": 0}, \"mode\": \"markers\", \"name\": \"Student_59\", \"text\": [\"Student_59\"], \"x\": [3.0], \"y\": [65], \"type\": \"scatter\", \"uid\": \"df95e2e8-e37d-11e8-9d8c-a1b30045967f\"}, {\"marker\": {\"color\": \"rgb(255,255,255)\", \"colorscale\": \"Viridis\", \"line\": {\"width\": 2}, \"size\": 12, \"symbol\": 2}, \"mode\": \"markers\", \"name\": \"Student_60\", \"text\": [\"Student_60\"], \"x\": [0.0], \"y\": [22], \"type\": \"scatter\", \"uid\": \"df95e360-e37d-11e8-9d8c-a1b30045967f\"}], {\"hovermode\": \"closest\", \"showlegend\": true, \"title\": \"Notas dos estudantes vs atividades respondidas\", \"xaxis\": {\"autorange\": false, \"fixedrange\": false, \"range\": [0, 14.0], \"rangemode\": \"normal\", \"showline\": true, \"title\": \"Atividades respondidas\", \"zeroline\": false}, \"yaxis\": {\"autorange\": false, \"fixedrange\": false, \"range\": [0, 97], \"rangemode\": \"normal\", \"showline\": true, \"title\": \"Notas\"}}, {\"showLink\": true, \"linkText\": \"Export to plot.ly\"})});</script>"
      ]
     },
     "metadata": {},
     "output_type": "display_data"
    },
    {
     "data": {
      "application/vnd.plotly.v1+json": {
       "data": [
        {
         "marker": {
          "color": "rgb(255,0,0)",
          "colorscale": "Viridis",
          "line": {
           "width": 2
          },
          "size": 12,
          "symbol": 0
         },
         "mode": "markers",
         "name": "Student_1",
         "text": [
          "Student_1"
         ],
         "type": "scatter",
         "uid": "dfd3a9ca-e37d-11e8-9d8c-a1b30045967f",
         "x": [
          21
         ],
         "y": [
          56
         ]
        },
        {
         "marker": {
          "color": "rgb(0,255,0)",
          "colorscale": "Viridis",
          "line": {
           "width": 2
          },
          "size": 12,
          "symbol": 3
         },
         "mode": "markers",
         "name": "Student_2",
         "text": [
          "Student_2"
         ],
         "type": "scatter",
         "uid": "dfd3ab64-e37d-11e8-9d8c-a1b30045967f",
         "x": [
          10
         ],
         "y": [
          47
         ]
        },
        {
         "marker": {
          "color": "rgb(0,255,0)",
          "colorscale": "Viridis",
          "line": {
           "width": 2
          },
          "size": 12,
          "symbol": 3
         },
         "mode": "markers",
         "name": "Student_3",
         "text": [
          "Student_3"
         ],
         "type": "scatter",
         "uid": "dfd3ac40-e37d-11e8-9d8c-a1b30045967f",
         "x": [
          10
         ],
         "y": [
          38
         ]
        },
        {
         "marker": {
          "color": "rgb(0,255,0)",
          "colorscale": "Viridis",
          "line": {
           "width": 2
          },
          "size": 12,
          "symbol": 3
         },
         "mode": "markers",
         "name": "Student_4",
         "text": [
          "Student_4"
         ],
         "type": "scatter",
         "uid": "dfd3acea-e37d-11e8-9d8c-a1b30045967f",
         "x": [
          5
         ],
         "y": [
          44
         ]
        },
        {
         "marker": {
          "color": "rgb(255,255,255)",
          "colorscale": "Viridis",
          "line": {
           "width": 2
          },
          "size": 12,
          "symbol": 2
         },
         "mode": "markers",
         "name": "Student_5",
         "text": [
          "Student_5"
         ],
         "type": "scatter",
         "uid": "dfd3ad8a-e37d-11e8-9d8c-a1b30045967f",
         "x": [
          4
         ],
         "y": [
          17
         ]
        },
        {
         "marker": {
          "color": "rgb(0,255,0)",
          "colorscale": "Viridis",
          "line": {
           "width": 2
          },
          "size": 12,
          "symbol": 3
         },
         "mode": "markers",
         "name": "Student_6",
         "text": [
          "Student_6"
         ],
         "type": "scatter",
         "uid": "dfd3ae2a-e37d-11e8-9d8c-a1b30045967f",
         "x": [
          5
         ],
         "y": [
          44
         ]
        },
        {
         "marker": {
          "color": "rgb(0,0,255)",
          "colorscale": "Viridis",
          "line": {
           "width": 2
          },
          "size": 12,
          "symbol": 1
         },
         "mode": "markers",
         "name": "Student_7",
         "text": [
          "Student_7"
         ],
         "type": "scatter",
         "uid": "dfd3aec0-e37d-11e8-9d8c-a1b30045967f",
         "x": [
          67
         ],
         "y": [
          87
         ]
        },
        {
         "marker": {
          "color": "rgb(255,0,0)",
          "colorscale": "Viridis",
          "line": {
           "width": 2
          },
          "size": 12,
          "symbol": 0
         },
         "mode": "markers",
         "name": "Student_8",
         "text": [
          "Student_8"
         ],
         "type": "scatter",
         "uid": "dfd3af56-e37d-11e8-9d8c-a1b30045967f",
         "x": [
          40
         ],
         "y": [
          63
         ]
        },
        {
         "marker": {
          "color": "rgb(0,255,0)",
          "colorscale": "Viridis",
          "line": {
           "width": 2
          },
          "size": 12,
          "symbol": 3
         },
         "mode": "markers",
         "name": "Student_9",
         "text": [
          "Student_9"
         ],
         "type": "scatter",
         "uid": "dfd3afe2-e37d-11e8-9d8c-a1b30045967f",
         "x": [
          3
         ],
         "y": [
          36
         ]
        },
        {
         "marker": {
          "color": "rgb(255,0,0)",
          "colorscale": "Viridis",
          "line": {
           "width": 2
          },
          "size": 12,
          "symbol": 0
         },
         "mode": "markers",
         "name": "Student_10",
         "text": [
          "Student_10"
         ],
         "type": "scatter",
         "uid": "dfd3b078-e37d-11e8-9d8c-a1b30045967f",
         "x": [
          28
         ],
         "y": [
          54
         ]
        },
        {
         "marker": {
          "color": "rgb(0,255,0)",
          "colorscale": "Viridis",
          "line": {
           "width": 2
          },
          "size": 12,
          "symbol": 3
         },
         "mode": "markers",
         "name": "Student_11",
         "text": [
          "Student_11"
         ],
         "type": "scatter",
         "uid": "dfd3b10e-e37d-11e8-9d8c-a1b30045967f",
         "x": [
          1
         ],
         "y": [
          49
         ]
        },
        {
         "marker": {
          "color": "rgb(0,255,0)",
          "colorscale": "Viridis",
          "line": {
           "width": 2
          },
          "size": 12,
          "symbol": 3
         },
         "mode": "markers",
         "name": "Student_12",
         "text": [
          "Student_12"
         ],
         "type": "scatter",
         "uid": "dfd3b19a-e37d-11e8-9d8c-a1b30045967f",
         "x": [
          8
         ],
         "y": [
          47
         ]
        },
        {
         "marker": {
          "color": "rgb(255,0,0)",
          "colorscale": "Viridis",
          "line": {
           "width": 2
          },
          "size": 12,
          "symbol": 0
         },
         "mode": "markers",
         "name": "Student_13",
         "text": [
          "Student_13"
         ],
         "type": "scatter",
         "uid": "dfd3b230-e37d-11e8-9d8c-a1b30045967f",
         "x": [
          27
         ],
         "y": [
          70
         ]
        },
        {
         "marker": {
          "color": "rgb(0,255,0)",
          "colorscale": "Viridis",
          "line": {
           "width": 2
          },
          "size": 12,
          "symbol": 3
         },
         "mode": "markers",
         "name": "Student_14",
         "text": [
          "Student_14"
         ],
         "type": "scatter",
         "uid": "dfd3b2bc-e37d-11e8-9d8c-a1b30045967f",
         "x": [
          7
         ],
         "y": [
          46
         ]
        },
        {
         "marker": {
          "color": "rgb(0,255,0)",
          "colorscale": "Viridis",
          "line": {
           "width": 2
          },
          "size": 12,
          "symbol": 3
         },
         "mode": "markers",
         "name": "Student_15",
         "text": [
          "Student_15"
         ],
         "type": "scatter",
         "uid": "dfd3b352-e37d-11e8-9d8c-a1b30045967f",
         "x": [
          6
         ],
         "y": [
          47
         ]
        },
        {
         "marker": {
          "color": "rgb(0,0,255)",
          "colorscale": "Viridis",
          "line": {
           "width": 2
          },
          "size": 12,
          "symbol": 1
         },
         "mode": "markers",
         "name": "Student_16",
         "text": [
          "Student_16"
         ],
         "type": "scatter",
         "uid": "dfd3b3de-e37d-11e8-9d8c-a1b30045967f",
         "x": [
          63
         ],
         "y": [
          76
         ]
        },
        {
         "marker": {
          "color": "rgb(0,255,0)",
          "colorscale": "Viridis",
          "line": {
           "width": 2
          },
          "size": 12,
          "symbol": 3
         },
         "mode": "markers",
         "name": "Student_17",
         "text": [
          "Student_17"
         ],
         "type": "scatter",
         "uid": "dfd3b474-e37d-11e8-9d8c-a1b30045967f",
         "x": [
          11
         ],
         "y": [
          44
         ]
        },
        {
         "marker": {
          "color": "rgb(255,0,0)",
          "colorscale": "Viridis",
          "line": {
           "width": 2
          },
          "size": 12,
          "symbol": 0
         },
         "mode": "markers",
         "name": "Student_18",
         "text": [
          "Student_18"
         ],
         "type": "scatter",
         "uid": "dfd3b500-e37d-11e8-9d8c-a1b30045967f",
         "x": [
          44
         ],
         "y": [
          66
         ]
        },
        {
         "marker": {
          "color": "rgb(0,0,255)",
          "colorscale": "Viridis",
          "line": {
           "width": 2
          },
          "size": 12,
          "symbol": 1
         },
         "mode": "markers",
         "name": "Student_19",
         "text": [
          "Student_19"
         ],
         "type": "scatter",
         "uid": "dfd3b58c-e37d-11e8-9d8c-a1b30045967f",
         "x": [
          44
         ],
         "y": [
          79
         ]
        },
        {
         "marker": {
          "color": "rgb(0,255,0)",
          "colorscale": "Viridis",
          "line": {
           "width": 2
          },
          "size": 12,
          "symbol": 3
         },
         "mode": "markers",
         "name": "Student_20",
         "text": [
          "Student_20"
         ],
         "type": "scatter",
         "uid": "dfd3b618-e37d-11e8-9d8c-a1b30045967f",
         "x": [
          14
         ],
         "y": [
          45
         ]
        },
        {
         "marker": {
          "color": "rgb(0,0,255)",
          "colorscale": "Viridis",
          "line": {
           "width": 2
          },
          "size": 12,
          "symbol": 1
         },
         "mode": "markers",
         "name": "Student_21",
         "text": [
          "Student_21"
         ],
         "type": "scatter",
         "uid": "dfd3b6a4-e37d-11e8-9d8c-a1b30045967f",
         "x": [
          53
         ],
         "y": [
          71
         ]
        },
        {
         "marker": {
          "color": "rgb(0,255,0)",
          "colorscale": "Viridis",
          "line": {
           "width": 2
          },
          "size": 12,
          "symbol": 3
         },
         "mode": "markers",
         "name": "Student_22",
         "text": [
          "Student_22"
         ],
         "type": "scatter",
         "uid": "dfd3b780-e37d-11e8-9d8c-a1b30045967f",
         "x": [
          9
         ],
         "y": [
          50
         ]
        },
        {
         "marker": {
          "color": "rgb(255,0,0)",
          "colorscale": "Viridis",
          "line": {
           "width": 2
          },
          "size": 12,
          "symbol": 0
         },
         "mode": "markers",
         "name": "Student_23",
         "text": [
          "Student_23"
         ],
         "type": "scatter",
         "uid": "dfd3b816-e37d-11e8-9d8c-a1b30045967f",
         "x": [
          25
         ],
         "y": [
          66
         ]
        },
        {
         "marker": {
          "color": "rgb(0,255,0)",
          "colorscale": "Viridis",
          "line": {
           "width": 2
          },
          "size": 12,
          "symbol": 3
         },
         "mode": "markers",
         "name": "Student_24",
         "text": [
          "Student_24"
         ],
         "type": "scatter",
         "uid": "dfd3b8ac-e37d-11e8-9d8c-a1b30045967f",
         "x": [
          8
         ],
         "y": [
          38
         ]
        },
        {
         "marker": {
          "color": "rgb(0,255,0)",
          "colorscale": "Viridis",
          "line": {
           "width": 2
          },
          "size": 12,
          "symbol": 3
         },
         "mode": "markers",
         "name": "Student_25",
         "text": [
          "Student_25"
         ],
         "type": "scatter",
         "uid": "dfd3b938-e37d-11e8-9d8c-a1b30045967f",
         "x": [
          7
         ],
         "y": [
          34
         ]
        },
        {
         "marker": {
          "color": "rgb(255,0,0)",
          "colorscale": "Viridis",
          "line": {
           "width": 2
          },
          "size": 12,
          "symbol": 0
         },
         "mode": "markers",
         "name": "Student_26",
         "text": [
          "Student_26"
         ],
         "type": "scatter",
         "uid": "dfd3b9c4-e37d-11e8-9d8c-a1b30045967f",
         "x": [
          17
         ],
         "y": [
          55
         ]
        },
        {
         "marker": {
          "color": "rgb(255,0,0)",
          "colorscale": "Viridis",
          "line": {
           "width": 2
          },
          "size": 12,
          "symbol": 0
         },
         "mode": "markers",
         "name": "Student_27",
         "text": [
          "Student_27"
         ],
         "type": "scatter",
         "uid": "dfd3ba50-e37d-11e8-9d8c-a1b30045967f",
         "x": [
          20
         ],
         "y": [
          59
         ]
        },
        {
         "marker": {
          "color": "rgb(255,0,0)",
          "colorscale": "Viridis",
          "line": {
           "width": 2
          },
          "size": 12,
          "symbol": 0
         },
         "mode": "markers",
         "name": "Student_28",
         "text": [
          "Student_28"
         ],
         "type": "scatter",
         "uid": "dfd3badc-e37d-11e8-9d8c-a1b30045967f",
         "x": [
          16
         ],
         "y": [
          68
         ]
        },
        {
         "marker": {
          "color": "rgb(255,0,0)",
          "colorscale": "Viridis",
          "line": {
           "width": 2
          },
          "size": 12,
          "symbol": 0
         },
         "mode": "markers",
         "name": "Student_29",
         "text": [
          "Student_29"
         ],
         "type": "scatter",
         "uid": "dfd3bb68-e37d-11e8-9d8c-a1b30045967f",
         "x": [
          29
         ],
         "y": [
          66
         ]
        },
        {
         "marker": {
          "color": "rgb(255,0,0)",
          "colorscale": "Viridis",
          "line": {
           "width": 2
          },
          "size": 12,
          "symbol": 0
         },
         "mode": "markers",
         "name": "Student_30",
         "text": [
          "Student_30"
         ],
         "type": "scatter",
         "uid": "dfd3bbf4-e37d-11e8-9d8c-a1b30045967f",
         "x": [
          16
         ],
         "y": [
          53
         ]
        },
        {
         "marker": {
          "color": "rgb(0,255,0)",
          "colorscale": "Viridis",
          "line": {
           "width": 2
          },
          "size": 12,
          "symbol": 3
         },
         "mode": "markers",
         "name": "Student_31",
         "text": [
          "Student_31"
         ],
         "type": "scatter",
         "uid": "dfd3bc80-e37d-11e8-9d8c-a1b30045967f",
         "x": [
          4
         ],
         "y": [
          44
         ]
        },
        {
         "marker": {
          "color": "rgb(0,255,0)",
          "colorscale": "Viridis",
          "line": {
           "width": 2
          },
          "size": 12,
          "symbol": 3
         },
         "mode": "markers",
         "name": "Student_32",
         "text": [
          "Student_32"
         ],
         "type": "scatter",
         "uid": "dfd3bd02-e37d-11e8-9d8c-a1b30045967f",
         "x": [
          4
         ],
         "y": [
          42
         ]
        },
        {
         "marker": {
          "color": "rgb(255,0,0)",
          "colorscale": "Viridis",
          "line": {
           "width": 2
          },
          "size": 12,
          "symbol": 0
         },
         "mode": "markers",
         "name": "Student_33",
         "text": [
          "Student_33"
         ],
         "type": "scatter",
         "uid": "dfd3bd8e-e37d-11e8-9d8c-a1b30045967f",
         "x": [
          27
         ],
         "y": [
          63
         ]
        },
        {
         "marker": {
          "color": "rgb(255,255,255)",
          "colorscale": "Viridis",
          "line": {
           "width": 2
          },
          "size": 12,
          "symbol": 2
         },
         "mode": "markers",
         "name": "Student_34",
         "text": [
          "Student_34"
         ],
         "type": "scatter",
         "uid": "dfd3be1a-e37d-11e8-9d8c-a1b30045967f",
         "x": [
          3
         ],
         "y": [
          14
         ]
        },
        {
         "marker": {
          "color": "rgb(255,0,0)",
          "colorscale": "Viridis",
          "line": {
           "width": 2
          },
          "size": 12,
          "symbol": 0
         },
         "mode": "markers",
         "name": "Student_35",
         "text": [
          "Student_35"
         ],
         "type": "scatter",
         "uid": "dfd3bea6-e37d-11e8-9d8c-a1b30045967f",
         "x": [
          17
         ],
         "y": [
          67
         ]
        },
        {
         "marker": {
          "color": "rgb(255,0,0)",
          "colorscale": "Viridis",
          "line": {
           "width": 2
          },
          "size": 12,
          "symbol": 0
         },
         "mode": "markers",
         "name": "Student_36",
         "text": [
          "Student_36"
         ],
         "type": "scatter",
         "uid": "dfd3bf28-e37d-11e8-9d8c-a1b30045967f",
         "x": [
          39
         ],
         "y": [
          70
         ]
        },
        {
         "marker": {
          "color": "rgb(255,0,0)",
          "colorscale": "Viridis",
          "line": {
           "width": 2
          },
          "size": 12,
          "symbol": 0
         },
         "mode": "markers",
         "name": "Student_37",
         "text": [
          "Student_37"
         ],
         "type": "scatter",
         "uid": "dfd3bfbe-e37d-11e8-9d8c-a1b30045967f",
         "x": [
          28
         ],
         "y": [
          58
         ]
        },
        {
         "marker": {
          "color": "rgb(255,255,255)",
          "colorscale": "Viridis",
          "line": {
           "width": 2
          },
          "size": 12,
          "symbol": 2
         },
         "mode": "markers",
         "name": "Student_38",
         "text": [
          "Student_38"
         ],
         "type": "scatter",
         "uid": "dfd3c04a-e37d-11e8-9d8c-a1b30045967f",
         "x": [
          10
         ],
         "y": [
          22
         ]
        },
        {
         "marker": {
          "color": "rgb(0,255,0)",
          "colorscale": "Viridis",
          "line": {
           "width": 2
          },
          "size": 12,
          "symbol": 3
         },
         "mode": "markers",
         "name": "Student_39",
         "text": [
          "Student_39"
         ],
         "type": "scatter",
         "uid": "dfd3c0d6-e37d-11e8-9d8c-a1b30045967f",
         "x": [
          8
         ],
         "y": [
          35
         ]
        },
        {
         "marker": {
          "color": "rgb(0,255,0)",
          "colorscale": "Viridis",
          "line": {
           "width": 2
          },
          "size": 12,
          "symbol": 3
         },
         "mode": "markers",
         "name": "Student_40",
         "text": [
          "Student_40"
         ],
         "type": "scatter",
         "uid": "dfd3c162-e37d-11e8-9d8c-a1b30045967f",
         "x": [
          7
         ],
         "y": [
          40
         ]
        },
        {
         "marker": {
          "color": "rgb(0,255,0)",
          "colorscale": "Viridis",
          "line": {
           "width": 2
          },
          "size": 12,
          "symbol": 3
         },
         "mode": "markers",
         "name": "Student_41",
         "text": [
          "Student_41"
         ],
         "type": "scatter",
         "uid": "dfd3c1ee-e37d-11e8-9d8c-a1b30045967f",
         "x": [
          10
         ],
         "y": [
          47
         ]
        },
        {
         "marker": {
          "color": "rgb(0,0,255)",
          "colorscale": "Viridis",
          "line": {
           "width": 2
          },
          "size": 12,
          "symbol": 1
         },
         "mode": "markers",
         "name": "Student_42",
         "text": [
          "Student_42"
         ],
         "type": "scatter",
         "uid": "dfd3c284-e37d-11e8-9d8c-a1b30045967f",
         "x": [
          63
         ],
         "y": [
          75
         ]
        },
        {
         "marker": {
          "color": "rgb(0,255,0)",
          "colorscale": "Viridis",
          "line": {
           "width": 2
          },
          "size": 12,
          "symbol": 3
         },
         "mode": "markers",
         "name": "Student_43",
         "text": [
          "Student_43"
         ],
         "type": "scatter",
         "uid": "dfd3c310-e37d-11e8-9d8c-a1b30045967f",
         "x": [
          8
         ],
         "y": [
          35
         ]
        },
        {
         "marker": {
          "color": "rgb(255,0,0)",
          "colorscale": "Viridis",
          "line": {
           "width": 2
          },
          "size": 12,
          "symbol": 0
         },
         "mode": "markers",
         "name": "Student_44",
         "text": [
          "Student_44"
         ],
         "type": "scatter",
         "uid": "dfd3c39c-e37d-11e8-9d8c-a1b30045967f",
         "x": [
          31
         ],
         "y": [
          69
         ]
        },
        {
         "marker": {
          "color": "rgb(0,0,255)",
          "colorscale": "Viridis",
          "line": {
           "width": 2
          },
          "size": 12,
          "symbol": 1
         },
         "mode": "markers",
         "name": "Student_45",
         "text": [
          "Student_45"
         ],
         "type": "scatter",
         "uid": "dfd3c428-e37d-11e8-9d8c-a1b30045967f",
         "x": [
          47
         ],
         "y": [
          82
         ]
        },
        {
         "marker": {
          "color": "rgb(0,255,0)",
          "colorscale": "Viridis",
          "line": {
           "width": 2
          },
          "size": 12,
          "symbol": 3
         },
         "mode": "markers",
         "name": "Student_46",
         "text": [
          "Student_46"
         ],
         "type": "scatter",
         "uid": "dfd3c4b4-e37d-11e8-9d8c-a1b30045967f",
         "x": [
          12
         ],
         "y": [
          47
         ]
        },
        {
         "marker": {
          "color": "rgb(0,255,0)",
          "colorscale": "Viridis",
          "line": {
           "width": 2
          },
          "size": 12,
          "symbol": 3
         },
         "mode": "markers",
         "name": "Student_47",
         "text": [
          "Student_47"
         ],
         "type": "scatter",
         "uid": "dfd3c540-e37d-11e8-9d8c-a1b30045967f",
         "x": [
          9
         ],
         "y": [
          34
         ]
        },
        {
         "marker": {
          "color": "rgb(0,255,0)",
          "colorscale": "Viridis",
          "line": {
           "width": 2
          },
          "size": 12,
          "symbol": 3
         },
         "mode": "markers",
         "name": "Student_48",
         "text": [
          "Student_48"
         ],
         "type": "scatter",
         "uid": "dfd3c5cc-e37d-11e8-9d8c-a1b30045967f",
         "x": [
          6
         ],
         "y": [
          47
         ]
        },
        {
         "marker": {
          "color": "rgb(255,255,255)",
          "colorscale": "Viridis",
          "line": {
           "width": 2
          },
          "size": 12,
          "symbol": 2
         },
         "mode": "markers",
         "name": "Student_49",
         "text": [
          "Student_49"
         ],
         "type": "scatter",
         "uid": "dfd3c658-e37d-11e8-9d8c-a1b30045967f",
         "x": [
          3
         ],
         "y": [
          26
         ]
        },
        {
         "marker": {
          "color": "rgb(0,255,0)",
          "colorscale": "Viridis",
          "line": {
           "width": 2
          },
          "size": 12,
          "symbol": 3
         },
         "mode": "markers",
         "name": "Student_50",
         "text": [
          "Student_50"
         ],
         "type": "scatter",
         "uid": "dfd3c6e4-e37d-11e8-9d8c-a1b30045967f",
         "x": [
          11
         ],
         "y": [
          32
         ]
        },
        {
         "marker": {
          "color": "rgb(0,255,0)",
          "colorscale": "Viridis",
          "line": {
           "width": 2
          },
          "size": 12,
          "symbol": 3
         },
         "mode": "markers",
         "name": "Student_51",
         "text": [
          "Student_51"
         ],
         "type": "scatter",
         "uid": "dfd3c770-e37d-11e8-9d8c-a1b30045967f",
         "x": [
          8
         ],
         "y": [
          57
         ]
        },
        {
         "marker": {
          "color": "rgb(255,0,0)",
          "colorscale": "Viridis",
          "line": {
           "width": 2
          },
          "size": 12,
          "symbol": 0
         },
         "mode": "markers",
         "name": "Student_52",
         "text": [
          "Student_52"
         ],
         "type": "scatter",
         "uid": "dfd3c7f2-e37d-11e8-9d8c-a1b30045967f",
         "x": [
          24
         ],
         "y": [
          59
         ]
        },
        {
         "marker": {
          "color": "rgb(255,255,255)",
          "colorscale": "Viridis",
          "line": {
           "width": 2
          },
          "size": 12,
          "symbol": 2
         },
         "mode": "markers",
         "name": "Student_53",
         "text": [
          "Student_53"
         ],
         "type": "scatter",
         "uid": "dfd3c87e-e37d-11e8-9d8c-a1b30045967f",
         "x": [
          8
         ],
         "y": [
          26
         ]
        },
        {
         "marker": {
          "color": "rgb(0,255,0)",
          "colorscale": "Viridis",
          "line": {
           "width": 2
          },
          "size": 12,
          "symbol": 3
         },
         "mode": "markers",
         "name": "Student_54",
         "text": [
          "Student_54"
         ],
         "type": "scatter",
         "uid": "dfd3c90a-e37d-11e8-9d8c-a1b30045967f",
         "x": [
          12
         ],
         "y": [
          45
         ]
        },
        {
         "marker": {
          "color": "rgb(0,255,0)",
          "colorscale": "Viridis",
          "line": {
           "width": 2
          },
          "size": 12,
          "symbol": 3
         },
         "mode": "markers",
         "name": "Student_55",
         "text": [
          "Student_55"
         ],
         "type": "scatter",
         "uid": "dfd3c98c-e37d-11e8-9d8c-a1b30045967f",
         "x": [
          10
         ],
         "y": [
          42
         ]
        },
        {
         "marker": {
          "color": "rgb(0,255,0)",
          "colorscale": "Viridis",
          "line": {
           "width": 2
          },
          "size": 12,
          "symbol": 3
         },
         "mode": "markers",
         "name": "Student_56",
         "text": [
          "Student_56"
         ],
         "type": "scatter",
         "uid": "dfd3ca18-e37d-11e8-9d8c-a1b30045967f",
         "x": [
          8
         ],
         "y": [
          44
         ]
        },
        {
         "marker": {
          "color": "rgb(255,255,255)",
          "colorscale": "Viridis",
          "line": {
           "width": 2
          },
          "size": 12,
          "symbol": 2
         },
         "mode": "markers",
         "name": "Student_57",
         "text": [
          "Student_57"
         ],
         "type": "scatter",
         "uid": "dfd3ca9a-e37d-11e8-9d8c-a1b30045967f",
         "x": [
          8
         ],
         "y": [
          15
         ]
        },
        {
         "marker": {
          "color": "rgb(0,0,255)",
          "colorscale": "Viridis",
          "line": {
           "width": 2
          },
          "size": 12,
          "symbol": 1
         },
         "mode": "markers",
         "name": "Student_58",
         "text": [
          "Student_58"
         ],
         "type": "scatter",
         "uid": "dfd3cb26-e37d-11e8-9d8c-a1b30045967f",
         "x": [
          37
         ],
         "y": [
          74
         ]
        },
        {
         "marker": {
          "color": "rgb(255,0,0)",
          "colorscale": "Viridis",
          "line": {
           "width": 2
          },
          "size": 12,
          "symbol": 0
         },
         "mode": "markers",
         "name": "Student_59",
         "text": [
          "Student_59"
         ],
         "type": "scatter",
         "uid": "dfd3cba8-e37d-11e8-9d8c-a1b30045967f",
         "x": [
          35
         ],
         "y": [
          65
         ]
        },
        {
         "marker": {
          "color": "rgb(255,255,255)",
          "colorscale": "Viridis",
          "line": {
           "width": 2
          },
          "size": 12,
          "symbol": 2
         },
         "mode": "markers",
         "name": "Student_60",
         "text": [
          "Student_60"
         ],
         "type": "scatter",
         "uid": "dfd3cc2a-e37d-11e8-9d8c-a1b30045967f",
         "x": [
          1
         ],
         "y": [
          22
         ]
        }
       ],
       "layout": {
        "hovermode": "closest",
        "showlegend": true,
        "title": "Notas dos estudantes vs acesso ao fórum",
        "xaxis": {
         "autorange": false,
         "fixedrange": false,
         "range": [
          0,
          77
         ],
         "rangemode": "normal",
         "showline": true,
         "title": "Acesso ao fórum",
         "zeroline": false
        },
        "yaxis": {
         "autorange": false,
         "fixedrange": false,
         "range": [
          0,
          97
         ],
         "rangemode": "normal",
         "showline": true,
         "title": "Notas"
        }
       }
      },
      "text/html": [
       "<div id=\"3868a00a-cea4-4f54-b863-115bdb9f84a5\" style=\"height: 525px; width: 100%;\" class=\"plotly-graph-div\"></div><script type=\"text/javascript\">require([\"plotly\"], function(Plotly) { window.PLOTLYENV=window.PLOTLYENV || {};window.PLOTLYENV.BASE_URL=\"https://plot.ly\";Plotly.newPlot(\"3868a00a-cea4-4f54-b863-115bdb9f84a5\", [{\"marker\": {\"color\": \"rgb(255,0,0)\", \"colorscale\": \"Viridis\", \"line\": {\"width\": 2}, \"size\": 12, \"symbol\": 0}, \"mode\": \"markers\", \"name\": \"Student_1\", \"text\": [\"Student_1\"], \"x\": [21], \"y\": [56], \"type\": \"scatter\", \"uid\": \"dfd3a9ca-e37d-11e8-9d8c-a1b30045967f\"}, {\"marker\": {\"color\": \"rgb(0,255,0)\", \"colorscale\": \"Viridis\", \"line\": {\"width\": 2}, \"size\": 12, \"symbol\": 3}, \"mode\": \"markers\", \"name\": \"Student_2\", \"text\": [\"Student_2\"], \"x\": [10], \"y\": [47], \"type\": \"scatter\", \"uid\": \"dfd3ab64-e37d-11e8-9d8c-a1b30045967f\"}, {\"marker\": {\"color\": \"rgb(0,255,0)\", \"colorscale\": \"Viridis\", \"line\": {\"width\": 2}, \"size\": 12, \"symbol\": 3}, \"mode\": \"markers\", \"name\": \"Student_3\", \"text\": [\"Student_3\"], \"x\": [10], \"y\": [38], \"type\": \"scatter\", \"uid\": \"dfd3ac40-e37d-11e8-9d8c-a1b30045967f\"}, {\"marker\": {\"color\": \"rgb(0,255,0)\", \"colorscale\": \"Viridis\", \"line\": {\"width\": 2}, \"size\": 12, \"symbol\": 3}, \"mode\": \"markers\", \"name\": \"Student_4\", \"text\": [\"Student_4\"], \"x\": [5], \"y\": [44], \"type\": \"scatter\", \"uid\": \"dfd3acea-e37d-11e8-9d8c-a1b30045967f\"}, {\"marker\": {\"color\": \"rgb(255,255,255)\", \"colorscale\": \"Viridis\", \"line\": {\"width\": 2}, \"size\": 12, \"symbol\": 2}, \"mode\": \"markers\", \"name\": \"Student_5\", \"text\": [\"Student_5\"], \"x\": [4], \"y\": [17], \"type\": \"scatter\", \"uid\": \"dfd3ad8a-e37d-11e8-9d8c-a1b30045967f\"}, {\"marker\": {\"color\": \"rgb(0,255,0)\", \"colorscale\": \"Viridis\", \"line\": {\"width\": 2}, \"size\": 12, \"symbol\": 3}, \"mode\": \"markers\", \"name\": \"Student_6\", \"text\": [\"Student_6\"], \"x\": [5], \"y\": [44], \"type\": \"scatter\", \"uid\": \"dfd3ae2a-e37d-11e8-9d8c-a1b30045967f\"}, {\"marker\": {\"color\": \"rgb(0,0,255)\", \"colorscale\": \"Viridis\", \"line\": {\"width\": 2}, \"size\": 12, \"symbol\": 1}, \"mode\": \"markers\", \"name\": \"Student_7\", \"text\": [\"Student_7\"], \"x\": [67], \"y\": [87], \"type\": \"scatter\", \"uid\": \"dfd3aec0-e37d-11e8-9d8c-a1b30045967f\"}, {\"marker\": {\"color\": \"rgb(255,0,0)\", \"colorscale\": \"Viridis\", \"line\": {\"width\": 2}, \"size\": 12, \"symbol\": 0}, \"mode\": \"markers\", \"name\": \"Student_8\", \"text\": [\"Student_8\"], \"x\": [40], \"y\": [63], \"type\": \"scatter\", \"uid\": \"dfd3af56-e37d-11e8-9d8c-a1b30045967f\"}, {\"marker\": {\"color\": \"rgb(0,255,0)\", \"colorscale\": \"Viridis\", \"line\": {\"width\": 2}, \"size\": 12, \"symbol\": 3}, \"mode\": \"markers\", \"name\": \"Student_9\", \"text\": [\"Student_9\"], \"x\": [3], \"y\": [36], \"type\": \"scatter\", \"uid\": \"dfd3afe2-e37d-11e8-9d8c-a1b30045967f\"}, {\"marker\": {\"color\": \"rgb(255,0,0)\", \"colorscale\": \"Viridis\", \"line\": {\"width\": 2}, \"size\": 12, \"symbol\": 0}, \"mode\": \"markers\", \"name\": \"Student_10\", \"text\": [\"Student_10\"], \"x\": [28], \"y\": [54], \"type\": \"scatter\", \"uid\": \"dfd3b078-e37d-11e8-9d8c-a1b30045967f\"}, {\"marker\": {\"color\": \"rgb(0,255,0)\", \"colorscale\": \"Viridis\", \"line\": {\"width\": 2}, \"size\": 12, \"symbol\": 3}, \"mode\": \"markers\", \"name\": \"Student_11\", \"text\": [\"Student_11\"], \"x\": [1], \"y\": [49], \"type\": \"scatter\", \"uid\": \"dfd3b10e-e37d-11e8-9d8c-a1b30045967f\"}, {\"marker\": {\"color\": \"rgb(0,255,0)\", \"colorscale\": \"Viridis\", \"line\": {\"width\": 2}, \"size\": 12, \"symbol\": 3}, \"mode\": \"markers\", \"name\": \"Student_12\", \"text\": [\"Student_12\"], \"x\": [8], \"y\": [47], \"type\": \"scatter\", \"uid\": \"dfd3b19a-e37d-11e8-9d8c-a1b30045967f\"}, {\"marker\": {\"color\": \"rgb(255,0,0)\", \"colorscale\": \"Viridis\", \"line\": {\"width\": 2}, \"size\": 12, \"symbol\": 0}, \"mode\": \"markers\", \"name\": \"Student_13\", \"text\": [\"Student_13\"], \"x\": [27], \"y\": [70], \"type\": \"scatter\", \"uid\": \"dfd3b230-e37d-11e8-9d8c-a1b30045967f\"}, {\"marker\": {\"color\": \"rgb(0,255,0)\", \"colorscale\": \"Viridis\", \"line\": {\"width\": 2}, \"size\": 12, \"symbol\": 3}, \"mode\": \"markers\", \"name\": \"Student_14\", \"text\": [\"Student_14\"], \"x\": [7], \"y\": [46], \"type\": \"scatter\", \"uid\": \"dfd3b2bc-e37d-11e8-9d8c-a1b30045967f\"}, {\"marker\": {\"color\": \"rgb(0,255,0)\", \"colorscale\": \"Viridis\", \"line\": {\"width\": 2}, \"size\": 12, \"symbol\": 3}, \"mode\": \"markers\", \"name\": \"Student_15\", \"text\": [\"Student_15\"], \"x\": [6], \"y\": [47], \"type\": \"scatter\", \"uid\": \"dfd3b352-e37d-11e8-9d8c-a1b30045967f\"}, {\"marker\": {\"color\": \"rgb(0,0,255)\", \"colorscale\": \"Viridis\", \"line\": {\"width\": 2}, \"size\": 12, \"symbol\": 1}, \"mode\": \"markers\", \"name\": \"Student_16\", \"text\": [\"Student_16\"], \"x\": [63], \"y\": [76], \"type\": \"scatter\", \"uid\": \"dfd3b3de-e37d-11e8-9d8c-a1b30045967f\"}, {\"marker\": {\"color\": \"rgb(0,255,0)\", \"colorscale\": \"Viridis\", \"line\": {\"width\": 2}, \"size\": 12, \"symbol\": 3}, \"mode\": \"markers\", \"name\": \"Student_17\", \"text\": [\"Student_17\"], \"x\": [11], \"y\": [44], \"type\": \"scatter\", \"uid\": \"dfd3b474-e37d-11e8-9d8c-a1b30045967f\"}, {\"marker\": {\"color\": \"rgb(255,0,0)\", \"colorscale\": \"Viridis\", \"line\": {\"width\": 2}, \"size\": 12, \"symbol\": 0}, \"mode\": \"markers\", \"name\": \"Student_18\", \"text\": [\"Student_18\"], \"x\": [44], \"y\": [66], \"type\": \"scatter\", \"uid\": \"dfd3b500-e37d-11e8-9d8c-a1b30045967f\"}, {\"marker\": {\"color\": \"rgb(0,0,255)\", \"colorscale\": \"Viridis\", \"line\": {\"width\": 2}, \"size\": 12, \"symbol\": 1}, \"mode\": \"markers\", \"name\": \"Student_19\", \"text\": [\"Student_19\"], \"x\": [44], \"y\": [79], \"type\": \"scatter\", \"uid\": \"dfd3b58c-e37d-11e8-9d8c-a1b30045967f\"}, {\"marker\": {\"color\": \"rgb(0,255,0)\", \"colorscale\": \"Viridis\", \"line\": {\"width\": 2}, \"size\": 12, \"symbol\": 3}, \"mode\": \"markers\", \"name\": \"Student_20\", \"text\": [\"Student_20\"], \"x\": [14], \"y\": [45], \"type\": \"scatter\", \"uid\": \"dfd3b618-e37d-11e8-9d8c-a1b30045967f\"}, {\"marker\": {\"color\": \"rgb(0,0,255)\", \"colorscale\": \"Viridis\", \"line\": {\"width\": 2}, \"size\": 12, \"symbol\": 1}, \"mode\": \"markers\", \"name\": \"Student_21\", \"text\": [\"Student_21\"], \"x\": [53], \"y\": [71], \"type\": \"scatter\", \"uid\": \"dfd3b6a4-e37d-11e8-9d8c-a1b30045967f\"}, {\"marker\": {\"color\": \"rgb(0,255,0)\", \"colorscale\": \"Viridis\", \"line\": {\"width\": 2}, \"size\": 12, \"symbol\": 3}, \"mode\": \"markers\", \"name\": \"Student_22\", \"text\": [\"Student_22\"], \"x\": [9], \"y\": [50], \"type\": \"scatter\", \"uid\": \"dfd3b780-e37d-11e8-9d8c-a1b30045967f\"}, {\"marker\": {\"color\": \"rgb(255,0,0)\", \"colorscale\": \"Viridis\", \"line\": {\"width\": 2}, \"size\": 12, \"symbol\": 0}, \"mode\": \"markers\", \"name\": \"Student_23\", \"text\": [\"Student_23\"], \"x\": [25], \"y\": [66], \"type\": \"scatter\", \"uid\": \"dfd3b816-e37d-11e8-9d8c-a1b30045967f\"}, {\"marker\": {\"color\": \"rgb(0,255,0)\", \"colorscale\": \"Viridis\", \"line\": {\"width\": 2}, \"size\": 12, \"symbol\": 3}, \"mode\": \"markers\", \"name\": \"Student_24\", \"text\": [\"Student_24\"], \"x\": [8], \"y\": [38], \"type\": \"scatter\", \"uid\": \"dfd3b8ac-e37d-11e8-9d8c-a1b30045967f\"}, {\"marker\": {\"color\": \"rgb(0,255,0)\", \"colorscale\": \"Viridis\", \"line\": {\"width\": 2}, \"size\": 12, \"symbol\": 3}, \"mode\": \"markers\", \"name\": \"Student_25\", \"text\": [\"Student_25\"], \"x\": [7], \"y\": [34], \"type\": \"scatter\", \"uid\": \"dfd3b938-e37d-11e8-9d8c-a1b30045967f\"}, {\"marker\": {\"color\": \"rgb(255,0,0)\", \"colorscale\": \"Viridis\", \"line\": {\"width\": 2}, \"size\": 12, \"symbol\": 0}, \"mode\": \"markers\", \"name\": \"Student_26\", \"text\": [\"Student_26\"], \"x\": [17], \"y\": [55], \"type\": \"scatter\", \"uid\": \"dfd3b9c4-e37d-11e8-9d8c-a1b30045967f\"}, {\"marker\": {\"color\": \"rgb(255,0,0)\", \"colorscale\": \"Viridis\", \"line\": {\"width\": 2}, \"size\": 12, \"symbol\": 0}, \"mode\": \"markers\", \"name\": \"Student_27\", \"text\": [\"Student_27\"], \"x\": [20], \"y\": [59], \"type\": \"scatter\", \"uid\": \"dfd3ba50-e37d-11e8-9d8c-a1b30045967f\"}, {\"marker\": {\"color\": \"rgb(255,0,0)\", \"colorscale\": \"Viridis\", \"line\": {\"width\": 2}, \"size\": 12, \"symbol\": 0}, \"mode\": \"markers\", \"name\": \"Student_28\", \"text\": [\"Student_28\"], \"x\": [16], \"y\": [68], \"type\": \"scatter\", \"uid\": \"dfd3badc-e37d-11e8-9d8c-a1b30045967f\"}, {\"marker\": {\"color\": \"rgb(255,0,0)\", \"colorscale\": \"Viridis\", \"line\": {\"width\": 2}, \"size\": 12, \"symbol\": 0}, \"mode\": \"markers\", \"name\": \"Student_29\", \"text\": [\"Student_29\"], \"x\": [29], \"y\": [66], \"type\": \"scatter\", \"uid\": \"dfd3bb68-e37d-11e8-9d8c-a1b30045967f\"}, {\"marker\": {\"color\": \"rgb(255,0,0)\", \"colorscale\": \"Viridis\", \"line\": {\"width\": 2}, \"size\": 12, \"symbol\": 0}, \"mode\": \"markers\", \"name\": \"Student_30\", \"text\": [\"Student_30\"], \"x\": [16], \"y\": [53], \"type\": \"scatter\", \"uid\": \"dfd3bbf4-e37d-11e8-9d8c-a1b30045967f\"}, {\"marker\": {\"color\": \"rgb(0,255,0)\", \"colorscale\": \"Viridis\", \"line\": {\"width\": 2}, \"size\": 12, \"symbol\": 3}, \"mode\": \"markers\", \"name\": \"Student_31\", \"text\": [\"Student_31\"], \"x\": [4], \"y\": [44], \"type\": \"scatter\", \"uid\": \"dfd3bc80-e37d-11e8-9d8c-a1b30045967f\"}, {\"marker\": {\"color\": \"rgb(0,255,0)\", \"colorscale\": \"Viridis\", \"line\": {\"width\": 2}, \"size\": 12, \"symbol\": 3}, \"mode\": \"markers\", \"name\": \"Student_32\", \"text\": [\"Student_32\"], \"x\": [4], \"y\": [42], \"type\": \"scatter\", \"uid\": \"dfd3bd02-e37d-11e8-9d8c-a1b30045967f\"}, {\"marker\": {\"color\": \"rgb(255,0,0)\", \"colorscale\": \"Viridis\", \"line\": {\"width\": 2}, \"size\": 12, \"symbol\": 0}, \"mode\": \"markers\", \"name\": \"Student_33\", \"text\": [\"Student_33\"], \"x\": [27], \"y\": [63], \"type\": \"scatter\", \"uid\": \"dfd3bd8e-e37d-11e8-9d8c-a1b30045967f\"}, {\"marker\": {\"color\": \"rgb(255,255,255)\", \"colorscale\": \"Viridis\", \"line\": {\"width\": 2}, \"size\": 12, \"symbol\": 2}, \"mode\": \"markers\", \"name\": \"Student_34\", \"text\": [\"Student_34\"], \"x\": [3], \"y\": [14], \"type\": \"scatter\", \"uid\": \"dfd3be1a-e37d-11e8-9d8c-a1b30045967f\"}, {\"marker\": {\"color\": \"rgb(255,0,0)\", \"colorscale\": \"Viridis\", \"line\": {\"width\": 2}, \"size\": 12, \"symbol\": 0}, \"mode\": \"markers\", \"name\": \"Student_35\", \"text\": [\"Student_35\"], \"x\": [17], \"y\": [67], \"type\": \"scatter\", \"uid\": \"dfd3bea6-e37d-11e8-9d8c-a1b30045967f\"}, {\"marker\": {\"color\": \"rgb(255,0,0)\", \"colorscale\": \"Viridis\", \"line\": {\"width\": 2}, \"size\": 12, \"symbol\": 0}, \"mode\": \"markers\", \"name\": \"Student_36\", \"text\": [\"Student_36\"], \"x\": [39], \"y\": [70], \"type\": \"scatter\", \"uid\": \"dfd3bf28-e37d-11e8-9d8c-a1b30045967f\"}, {\"marker\": {\"color\": \"rgb(255,0,0)\", \"colorscale\": \"Viridis\", \"line\": {\"width\": 2}, \"size\": 12, \"symbol\": 0}, \"mode\": \"markers\", \"name\": \"Student_37\", \"text\": [\"Student_37\"], \"x\": [28], \"y\": [58], \"type\": \"scatter\", \"uid\": \"dfd3bfbe-e37d-11e8-9d8c-a1b30045967f\"}, {\"marker\": {\"color\": \"rgb(255,255,255)\", \"colorscale\": \"Viridis\", \"line\": {\"width\": 2}, \"size\": 12, \"symbol\": 2}, \"mode\": \"markers\", \"name\": \"Student_38\", \"text\": [\"Student_38\"], \"x\": [10], \"y\": [22], \"type\": \"scatter\", \"uid\": \"dfd3c04a-e37d-11e8-9d8c-a1b30045967f\"}, {\"marker\": {\"color\": \"rgb(0,255,0)\", \"colorscale\": \"Viridis\", \"line\": {\"width\": 2}, \"size\": 12, \"symbol\": 3}, \"mode\": \"markers\", \"name\": \"Student_39\", \"text\": [\"Student_39\"], \"x\": [8], \"y\": [35], \"type\": \"scatter\", \"uid\": \"dfd3c0d6-e37d-11e8-9d8c-a1b30045967f\"}, {\"marker\": {\"color\": \"rgb(0,255,0)\", \"colorscale\": \"Viridis\", \"line\": {\"width\": 2}, \"size\": 12, \"symbol\": 3}, \"mode\": \"markers\", \"name\": \"Student_40\", \"text\": [\"Student_40\"], \"x\": [7], \"y\": [40], \"type\": \"scatter\", \"uid\": \"dfd3c162-e37d-11e8-9d8c-a1b30045967f\"}, {\"marker\": {\"color\": \"rgb(0,255,0)\", \"colorscale\": \"Viridis\", \"line\": {\"width\": 2}, \"size\": 12, \"symbol\": 3}, \"mode\": \"markers\", \"name\": \"Student_41\", \"text\": [\"Student_41\"], \"x\": [10], \"y\": [47], \"type\": \"scatter\", \"uid\": \"dfd3c1ee-e37d-11e8-9d8c-a1b30045967f\"}, {\"marker\": {\"color\": \"rgb(0,0,255)\", \"colorscale\": \"Viridis\", \"line\": {\"width\": 2}, \"size\": 12, \"symbol\": 1}, \"mode\": \"markers\", \"name\": \"Student_42\", \"text\": [\"Student_42\"], \"x\": [63], \"y\": [75], \"type\": \"scatter\", \"uid\": \"dfd3c284-e37d-11e8-9d8c-a1b30045967f\"}, {\"marker\": {\"color\": \"rgb(0,255,0)\", \"colorscale\": \"Viridis\", \"line\": {\"width\": 2}, \"size\": 12, \"symbol\": 3}, \"mode\": \"markers\", \"name\": \"Student_43\", \"text\": [\"Student_43\"], \"x\": [8], \"y\": [35], \"type\": \"scatter\", \"uid\": \"dfd3c310-e37d-11e8-9d8c-a1b30045967f\"}, {\"marker\": {\"color\": \"rgb(255,0,0)\", \"colorscale\": \"Viridis\", \"line\": {\"width\": 2}, \"size\": 12, \"symbol\": 0}, \"mode\": \"markers\", \"name\": \"Student_44\", \"text\": [\"Student_44\"], \"x\": [31], \"y\": [69], \"type\": \"scatter\", \"uid\": \"dfd3c39c-e37d-11e8-9d8c-a1b30045967f\"}, {\"marker\": {\"color\": \"rgb(0,0,255)\", \"colorscale\": \"Viridis\", \"line\": {\"width\": 2}, \"size\": 12, \"symbol\": 1}, \"mode\": \"markers\", \"name\": \"Student_45\", \"text\": [\"Student_45\"], \"x\": [47], \"y\": [82], \"type\": \"scatter\", \"uid\": \"dfd3c428-e37d-11e8-9d8c-a1b30045967f\"}, {\"marker\": {\"color\": \"rgb(0,255,0)\", \"colorscale\": \"Viridis\", \"line\": {\"width\": 2}, \"size\": 12, \"symbol\": 3}, \"mode\": \"markers\", \"name\": \"Student_46\", \"text\": [\"Student_46\"], \"x\": [12], \"y\": [47], \"type\": \"scatter\", \"uid\": \"dfd3c4b4-e37d-11e8-9d8c-a1b30045967f\"}, {\"marker\": {\"color\": \"rgb(0,255,0)\", \"colorscale\": \"Viridis\", \"line\": {\"width\": 2}, \"size\": 12, \"symbol\": 3}, \"mode\": \"markers\", \"name\": \"Student_47\", \"text\": [\"Student_47\"], \"x\": [9], \"y\": [34], \"type\": \"scatter\", \"uid\": \"dfd3c540-e37d-11e8-9d8c-a1b30045967f\"}, {\"marker\": {\"color\": \"rgb(0,255,0)\", \"colorscale\": \"Viridis\", \"line\": {\"width\": 2}, \"size\": 12, \"symbol\": 3}, \"mode\": \"markers\", \"name\": \"Student_48\", \"text\": [\"Student_48\"], \"x\": [6], \"y\": [47], \"type\": \"scatter\", \"uid\": \"dfd3c5cc-e37d-11e8-9d8c-a1b30045967f\"}, {\"marker\": {\"color\": \"rgb(255,255,255)\", \"colorscale\": \"Viridis\", \"line\": {\"width\": 2}, \"size\": 12, \"symbol\": 2}, \"mode\": \"markers\", \"name\": \"Student_49\", \"text\": [\"Student_49\"], \"x\": [3], \"y\": [26], \"type\": \"scatter\", \"uid\": \"dfd3c658-e37d-11e8-9d8c-a1b30045967f\"}, {\"marker\": {\"color\": \"rgb(0,255,0)\", \"colorscale\": \"Viridis\", \"line\": {\"width\": 2}, \"size\": 12, \"symbol\": 3}, \"mode\": \"markers\", \"name\": \"Student_50\", \"text\": [\"Student_50\"], \"x\": [11], \"y\": [32], \"type\": \"scatter\", \"uid\": \"dfd3c6e4-e37d-11e8-9d8c-a1b30045967f\"}, {\"marker\": {\"color\": \"rgb(0,255,0)\", \"colorscale\": \"Viridis\", \"line\": {\"width\": 2}, \"size\": 12, \"symbol\": 3}, \"mode\": \"markers\", \"name\": \"Student_51\", \"text\": [\"Student_51\"], \"x\": [8], \"y\": [57], \"type\": \"scatter\", \"uid\": \"dfd3c770-e37d-11e8-9d8c-a1b30045967f\"}, {\"marker\": {\"color\": \"rgb(255,0,0)\", \"colorscale\": \"Viridis\", \"line\": {\"width\": 2}, \"size\": 12, \"symbol\": 0}, \"mode\": \"markers\", \"name\": \"Student_52\", \"text\": [\"Student_52\"], \"x\": [24], \"y\": [59], \"type\": \"scatter\", \"uid\": \"dfd3c7f2-e37d-11e8-9d8c-a1b30045967f\"}, {\"marker\": {\"color\": \"rgb(255,255,255)\", \"colorscale\": \"Viridis\", \"line\": {\"width\": 2}, \"size\": 12, \"symbol\": 2}, \"mode\": \"markers\", \"name\": \"Student_53\", \"text\": [\"Student_53\"], \"x\": [8], \"y\": [26], \"type\": \"scatter\", \"uid\": \"dfd3c87e-e37d-11e8-9d8c-a1b30045967f\"}, {\"marker\": {\"color\": \"rgb(0,255,0)\", \"colorscale\": \"Viridis\", \"line\": {\"width\": 2}, \"size\": 12, \"symbol\": 3}, \"mode\": \"markers\", \"name\": \"Student_54\", \"text\": [\"Student_54\"], \"x\": [12], \"y\": [45], \"type\": \"scatter\", \"uid\": \"dfd3c90a-e37d-11e8-9d8c-a1b30045967f\"}, {\"marker\": {\"color\": \"rgb(0,255,0)\", \"colorscale\": \"Viridis\", \"line\": {\"width\": 2}, \"size\": 12, \"symbol\": 3}, \"mode\": \"markers\", \"name\": \"Student_55\", \"text\": [\"Student_55\"], \"x\": [10], \"y\": [42], \"type\": \"scatter\", \"uid\": \"dfd3c98c-e37d-11e8-9d8c-a1b30045967f\"}, {\"marker\": {\"color\": \"rgb(0,255,0)\", \"colorscale\": \"Viridis\", \"line\": {\"width\": 2}, \"size\": 12, \"symbol\": 3}, \"mode\": \"markers\", \"name\": \"Student_56\", \"text\": [\"Student_56\"], \"x\": [8], \"y\": [44], \"type\": \"scatter\", \"uid\": \"dfd3ca18-e37d-11e8-9d8c-a1b30045967f\"}, {\"marker\": {\"color\": \"rgb(255,255,255)\", \"colorscale\": \"Viridis\", \"line\": {\"width\": 2}, \"size\": 12, \"symbol\": 2}, \"mode\": \"markers\", \"name\": \"Student_57\", \"text\": [\"Student_57\"], \"x\": [8], \"y\": [15], \"type\": \"scatter\", \"uid\": \"dfd3ca9a-e37d-11e8-9d8c-a1b30045967f\"}, {\"marker\": {\"color\": \"rgb(0,0,255)\", \"colorscale\": \"Viridis\", \"line\": {\"width\": 2}, \"size\": 12, \"symbol\": 1}, \"mode\": \"markers\", \"name\": \"Student_58\", \"text\": [\"Student_58\"], \"x\": [37], \"y\": [74], \"type\": \"scatter\", \"uid\": \"dfd3cb26-e37d-11e8-9d8c-a1b30045967f\"}, {\"marker\": {\"color\": \"rgb(255,0,0)\", \"colorscale\": \"Viridis\", \"line\": {\"width\": 2}, \"size\": 12, \"symbol\": 0}, \"mode\": \"markers\", \"name\": \"Student_59\", \"text\": [\"Student_59\"], \"x\": [35], \"y\": [65], \"type\": \"scatter\", \"uid\": \"dfd3cba8-e37d-11e8-9d8c-a1b30045967f\"}, {\"marker\": {\"color\": \"rgb(255,255,255)\", \"colorscale\": \"Viridis\", \"line\": {\"width\": 2}, \"size\": 12, \"symbol\": 2}, \"mode\": \"markers\", \"name\": \"Student_60\", \"text\": [\"Student_60\"], \"x\": [1], \"y\": [22], \"type\": \"scatter\", \"uid\": \"dfd3cc2a-e37d-11e8-9d8c-a1b30045967f\"}], {\"hovermode\": \"closest\", \"showlegend\": true, \"title\": \"Notas dos estudantes vs acesso ao f\\u00f3rum\", \"xaxis\": {\"autorange\": false, \"fixedrange\": false, \"range\": [0, 77], \"rangemode\": \"normal\", \"showline\": true, \"title\": \"Acesso ao f\\u00f3rum\", \"zeroline\": false}, \"yaxis\": {\"autorange\": false, \"fixedrange\": false, \"range\": [0, 97], \"rangemode\": \"normal\", \"showline\": true, \"title\": \"Notas\"}}, {\"showLink\": true, \"linkText\": \"Export to plot.ly\"})});</script>"
      ],
      "text/vnd.plotly.v1+html": [
       "<div id=\"3868a00a-cea4-4f54-b863-115bdb9f84a5\" style=\"height: 525px; width: 100%;\" class=\"plotly-graph-div\"></div><script type=\"text/javascript\">require([\"plotly\"], function(Plotly) { window.PLOTLYENV=window.PLOTLYENV || {};window.PLOTLYENV.BASE_URL=\"https://plot.ly\";Plotly.newPlot(\"3868a00a-cea4-4f54-b863-115bdb9f84a5\", [{\"marker\": {\"color\": \"rgb(255,0,0)\", \"colorscale\": \"Viridis\", \"line\": {\"width\": 2}, \"size\": 12, \"symbol\": 0}, \"mode\": \"markers\", \"name\": \"Student_1\", \"text\": [\"Student_1\"], \"x\": [21], \"y\": [56], \"type\": \"scatter\", \"uid\": \"dfd3a9ca-e37d-11e8-9d8c-a1b30045967f\"}, {\"marker\": {\"color\": \"rgb(0,255,0)\", \"colorscale\": \"Viridis\", \"line\": {\"width\": 2}, \"size\": 12, \"symbol\": 3}, \"mode\": \"markers\", \"name\": \"Student_2\", \"text\": [\"Student_2\"], \"x\": [10], \"y\": [47], \"type\": \"scatter\", \"uid\": \"dfd3ab64-e37d-11e8-9d8c-a1b30045967f\"}, {\"marker\": {\"color\": \"rgb(0,255,0)\", \"colorscale\": \"Viridis\", \"line\": {\"width\": 2}, \"size\": 12, \"symbol\": 3}, \"mode\": \"markers\", \"name\": \"Student_3\", \"text\": [\"Student_3\"], \"x\": [10], \"y\": [38], \"type\": \"scatter\", \"uid\": \"dfd3ac40-e37d-11e8-9d8c-a1b30045967f\"}, {\"marker\": {\"color\": \"rgb(0,255,0)\", \"colorscale\": \"Viridis\", \"line\": {\"width\": 2}, \"size\": 12, \"symbol\": 3}, \"mode\": \"markers\", \"name\": \"Student_4\", \"text\": [\"Student_4\"], \"x\": [5], \"y\": [44], \"type\": \"scatter\", \"uid\": \"dfd3acea-e37d-11e8-9d8c-a1b30045967f\"}, {\"marker\": {\"color\": \"rgb(255,255,255)\", \"colorscale\": \"Viridis\", \"line\": {\"width\": 2}, \"size\": 12, \"symbol\": 2}, \"mode\": \"markers\", \"name\": \"Student_5\", \"text\": [\"Student_5\"], \"x\": [4], \"y\": [17], \"type\": \"scatter\", \"uid\": \"dfd3ad8a-e37d-11e8-9d8c-a1b30045967f\"}, {\"marker\": {\"color\": \"rgb(0,255,0)\", \"colorscale\": \"Viridis\", \"line\": {\"width\": 2}, \"size\": 12, \"symbol\": 3}, \"mode\": \"markers\", \"name\": \"Student_6\", \"text\": [\"Student_6\"], \"x\": [5], \"y\": [44], \"type\": \"scatter\", \"uid\": \"dfd3ae2a-e37d-11e8-9d8c-a1b30045967f\"}, {\"marker\": {\"color\": \"rgb(0,0,255)\", \"colorscale\": \"Viridis\", \"line\": {\"width\": 2}, \"size\": 12, \"symbol\": 1}, \"mode\": \"markers\", \"name\": \"Student_7\", \"text\": [\"Student_7\"], \"x\": [67], \"y\": [87], \"type\": \"scatter\", \"uid\": \"dfd3aec0-e37d-11e8-9d8c-a1b30045967f\"}, {\"marker\": {\"color\": \"rgb(255,0,0)\", \"colorscale\": \"Viridis\", \"line\": {\"width\": 2}, \"size\": 12, \"symbol\": 0}, \"mode\": \"markers\", \"name\": \"Student_8\", \"text\": [\"Student_8\"], \"x\": [40], \"y\": [63], \"type\": \"scatter\", \"uid\": \"dfd3af56-e37d-11e8-9d8c-a1b30045967f\"}, {\"marker\": {\"color\": \"rgb(0,255,0)\", \"colorscale\": \"Viridis\", \"line\": {\"width\": 2}, \"size\": 12, \"symbol\": 3}, \"mode\": \"markers\", \"name\": \"Student_9\", \"text\": [\"Student_9\"], \"x\": [3], \"y\": [36], \"type\": \"scatter\", \"uid\": \"dfd3afe2-e37d-11e8-9d8c-a1b30045967f\"}, {\"marker\": {\"color\": \"rgb(255,0,0)\", \"colorscale\": \"Viridis\", \"line\": {\"width\": 2}, \"size\": 12, \"symbol\": 0}, \"mode\": \"markers\", \"name\": \"Student_10\", \"text\": [\"Student_10\"], \"x\": [28], \"y\": [54], \"type\": \"scatter\", \"uid\": \"dfd3b078-e37d-11e8-9d8c-a1b30045967f\"}, {\"marker\": {\"color\": \"rgb(0,255,0)\", \"colorscale\": \"Viridis\", \"line\": {\"width\": 2}, \"size\": 12, \"symbol\": 3}, \"mode\": \"markers\", \"name\": \"Student_11\", \"text\": [\"Student_11\"], \"x\": [1], \"y\": [49], \"type\": \"scatter\", \"uid\": \"dfd3b10e-e37d-11e8-9d8c-a1b30045967f\"}, {\"marker\": {\"color\": \"rgb(0,255,0)\", \"colorscale\": \"Viridis\", \"line\": {\"width\": 2}, \"size\": 12, \"symbol\": 3}, \"mode\": \"markers\", \"name\": \"Student_12\", \"text\": [\"Student_12\"], \"x\": [8], \"y\": [47], \"type\": \"scatter\", \"uid\": \"dfd3b19a-e37d-11e8-9d8c-a1b30045967f\"}, {\"marker\": {\"color\": \"rgb(255,0,0)\", \"colorscale\": \"Viridis\", \"line\": {\"width\": 2}, \"size\": 12, \"symbol\": 0}, \"mode\": \"markers\", \"name\": \"Student_13\", \"text\": [\"Student_13\"], \"x\": [27], \"y\": [70], \"type\": \"scatter\", \"uid\": \"dfd3b230-e37d-11e8-9d8c-a1b30045967f\"}, {\"marker\": {\"color\": \"rgb(0,255,0)\", \"colorscale\": \"Viridis\", \"line\": {\"width\": 2}, \"size\": 12, \"symbol\": 3}, \"mode\": \"markers\", \"name\": \"Student_14\", \"text\": [\"Student_14\"], \"x\": [7], \"y\": [46], \"type\": \"scatter\", \"uid\": \"dfd3b2bc-e37d-11e8-9d8c-a1b30045967f\"}, {\"marker\": {\"color\": \"rgb(0,255,0)\", \"colorscale\": \"Viridis\", \"line\": {\"width\": 2}, \"size\": 12, \"symbol\": 3}, \"mode\": \"markers\", \"name\": \"Student_15\", \"text\": [\"Student_15\"], \"x\": [6], \"y\": [47], \"type\": \"scatter\", \"uid\": \"dfd3b352-e37d-11e8-9d8c-a1b30045967f\"}, {\"marker\": {\"color\": \"rgb(0,0,255)\", \"colorscale\": \"Viridis\", \"line\": {\"width\": 2}, \"size\": 12, \"symbol\": 1}, \"mode\": \"markers\", \"name\": \"Student_16\", \"text\": [\"Student_16\"], \"x\": [63], \"y\": [76], \"type\": \"scatter\", \"uid\": \"dfd3b3de-e37d-11e8-9d8c-a1b30045967f\"}, {\"marker\": {\"color\": \"rgb(0,255,0)\", \"colorscale\": \"Viridis\", \"line\": {\"width\": 2}, \"size\": 12, \"symbol\": 3}, \"mode\": \"markers\", \"name\": \"Student_17\", \"text\": [\"Student_17\"], \"x\": [11], \"y\": [44], \"type\": \"scatter\", \"uid\": \"dfd3b474-e37d-11e8-9d8c-a1b30045967f\"}, {\"marker\": {\"color\": \"rgb(255,0,0)\", \"colorscale\": \"Viridis\", \"line\": {\"width\": 2}, \"size\": 12, \"symbol\": 0}, \"mode\": \"markers\", \"name\": \"Student_18\", \"text\": [\"Student_18\"], \"x\": [44], \"y\": [66], \"type\": \"scatter\", \"uid\": \"dfd3b500-e37d-11e8-9d8c-a1b30045967f\"}, {\"marker\": {\"color\": \"rgb(0,0,255)\", \"colorscale\": \"Viridis\", \"line\": {\"width\": 2}, \"size\": 12, \"symbol\": 1}, \"mode\": \"markers\", \"name\": \"Student_19\", \"text\": [\"Student_19\"], \"x\": [44], \"y\": [79], \"type\": \"scatter\", \"uid\": \"dfd3b58c-e37d-11e8-9d8c-a1b30045967f\"}, {\"marker\": {\"color\": \"rgb(0,255,0)\", \"colorscale\": \"Viridis\", \"line\": {\"width\": 2}, \"size\": 12, \"symbol\": 3}, \"mode\": \"markers\", \"name\": \"Student_20\", \"text\": [\"Student_20\"], \"x\": [14], \"y\": [45], \"type\": \"scatter\", \"uid\": \"dfd3b618-e37d-11e8-9d8c-a1b30045967f\"}, {\"marker\": {\"color\": \"rgb(0,0,255)\", \"colorscale\": \"Viridis\", \"line\": {\"width\": 2}, \"size\": 12, \"symbol\": 1}, \"mode\": \"markers\", \"name\": \"Student_21\", \"text\": [\"Student_21\"], \"x\": [53], \"y\": [71], \"type\": \"scatter\", \"uid\": \"dfd3b6a4-e37d-11e8-9d8c-a1b30045967f\"}, {\"marker\": {\"color\": \"rgb(0,255,0)\", \"colorscale\": \"Viridis\", \"line\": {\"width\": 2}, \"size\": 12, \"symbol\": 3}, \"mode\": \"markers\", \"name\": \"Student_22\", \"text\": [\"Student_22\"], \"x\": [9], \"y\": [50], \"type\": \"scatter\", \"uid\": \"dfd3b780-e37d-11e8-9d8c-a1b30045967f\"}, {\"marker\": {\"color\": \"rgb(255,0,0)\", \"colorscale\": \"Viridis\", \"line\": {\"width\": 2}, \"size\": 12, \"symbol\": 0}, \"mode\": \"markers\", \"name\": \"Student_23\", \"text\": [\"Student_23\"], \"x\": [25], \"y\": [66], \"type\": \"scatter\", \"uid\": \"dfd3b816-e37d-11e8-9d8c-a1b30045967f\"}, {\"marker\": {\"color\": \"rgb(0,255,0)\", \"colorscale\": \"Viridis\", \"line\": {\"width\": 2}, \"size\": 12, \"symbol\": 3}, \"mode\": \"markers\", \"name\": \"Student_24\", \"text\": [\"Student_24\"], \"x\": [8], \"y\": [38], \"type\": \"scatter\", \"uid\": \"dfd3b8ac-e37d-11e8-9d8c-a1b30045967f\"}, {\"marker\": {\"color\": \"rgb(0,255,0)\", \"colorscale\": \"Viridis\", \"line\": {\"width\": 2}, \"size\": 12, \"symbol\": 3}, \"mode\": \"markers\", \"name\": \"Student_25\", \"text\": [\"Student_25\"], \"x\": [7], \"y\": [34], \"type\": \"scatter\", \"uid\": \"dfd3b938-e37d-11e8-9d8c-a1b30045967f\"}, {\"marker\": {\"color\": \"rgb(255,0,0)\", \"colorscale\": \"Viridis\", \"line\": {\"width\": 2}, \"size\": 12, \"symbol\": 0}, \"mode\": \"markers\", \"name\": \"Student_26\", \"text\": [\"Student_26\"], \"x\": [17], \"y\": [55], \"type\": \"scatter\", \"uid\": \"dfd3b9c4-e37d-11e8-9d8c-a1b30045967f\"}, {\"marker\": {\"color\": \"rgb(255,0,0)\", \"colorscale\": \"Viridis\", \"line\": {\"width\": 2}, \"size\": 12, \"symbol\": 0}, \"mode\": \"markers\", \"name\": \"Student_27\", \"text\": [\"Student_27\"], \"x\": [20], \"y\": [59], \"type\": \"scatter\", \"uid\": \"dfd3ba50-e37d-11e8-9d8c-a1b30045967f\"}, {\"marker\": {\"color\": \"rgb(255,0,0)\", \"colorscale\": \"Viridis\", \"line\": {\"width\": 2}, \"size\": 12, \"symbol\": 0}, \"mode\": \"markers\", \"name\": \"Student_28\", \"text\": [\"Student_28\"], \"x\": [16], \"y\": [68], \"type\": \"scatter\", \"uid\": \"dfd3badc-e37d-11e8-9d8c-a1b30045967f\"}, {\"marker\": {\"color\": \"rgb(255,0,0)\", \"colorscale\": \"Viridis\", \"line\": {\"width\": 2}, \"size\": 12, \"symbol\": 0}, \"mode\": \"markers\", \"name\": \"Student_29\", \"text\": [\"Student_29\"], \"x\": [29], \"y\": [66], \"type\": \"scatter\", \"uid\": \"dfd3bb68-e37d-11e8-9d8c-a1b30045967f\"}, {\"marker\": {\"color\": \"rgb(255,0,0)\", \"colorscale\": \"Viridis\", \"line\": {\"width\": 2}, \"size\": 12, \"symbol\": 0}, \"mode\": \"markers\", \"name\": \"Student_30\", \"text\": [\"Student_30\"], \"x\": [16], \"y\": [53], \"type\": \"scatter\", \"uid\": \"dfd3bbf4-e37d-11e8-9d8c-a1b30045967f\"}, {\"marker\": {\"color\": \"rgb(0,255,0)\", \"colorscale\": \"Viridis\", \"line\": {\"width\": 2}, \"size\": 12, \"symbol\": 3}, \"mode\": \"markers\", \"name\": \"Student_31\", \"text\": [\"Student_31\"], \"x\": [4], \"y\": [44], \"type\": \"scatter\", \"uid\": \"dfd3bc80-e37d-11e8-9d8c-a1b30045967f\"}, {\"marker\": {\"color\": \"rgb(0,255,0)\", \"colorscale\": \"Viridis\", \"line\": {\"width\": 2}, \"size\": 12, \"symbol\": 3}, \"mode\": \"markers\", \"name\": \"Student_32\", \"text\": [\"Student_32\"], \"x\": [4], \"y\": [42], \"type\": \"scatter\", \"uid\": \"dfd3bd02-e37d-11e8-9d8c-a1b30045967f\"}, {\"marker\": {\"color\": \"rgb(255,0,0)\", \"colorscale\": \"Viridis\", \"line\": {\"width\": 2}, \"size\": 12, \"symbol\": 0}, \"mode\": \"markers\", \"name\": \"Student_33\", \"text\": [\"Student_33\"], \"x\": [27], \"y\": [63], \"type\": \"scatter\", \"uid\": \"dfd3bd8e-e37d-11e8-9d8c-a1b30045967f\"}, {\"marker\": {\"color\": \"rgb(255,255,255)\", \"colorscale\": \"Viridis\", \"line\": {\"width\": 2}, \"size\": 12, \"symbol\": 2}, \"mode\": \"markers\", \"name\": \"Student_34\", \"text\": [\"Student_34\"], \"x\": [3], \"y\": [14], \"type\": \"scatter\", \"uid\": \"dfd3be1a-e37d-11e8-9d8c-a1b30045967f\"}, {\"marker\": {\"color\": \"rgb(255,0,0)\", \"colorscale\": \"Viridis\", \"line\": {\"width\": 2}, \"size\": 12, \"symbol\": 0}, \"mode\": \"markers\", \"name\": \"Student_35\", \"text\": [\"Student_35\"], \"x\": [17], \"y\": [67], \"type\": \"scatter\", \"uid\": \"dfd3bea6-e37d-11e8-9d8c-a1b30045967f\"}, {\"marker\": {\"color\": \"rgb(255,0,0)\", \"colorscale\": \"Viridis\", \"line\": {\"width\": 2}, \"size\": 12, \"symbol\": 0}, \"mode\": \"markers\", \"name\": \"Student_36\", \"text\": [\"Student_36\"], \"x\": [39], \"y\": [70], \"type\": \"scatter\", \"uid\": \"dfd3bf28-e37d-11e8-9d8c-a1b30045967f\"}, {\"marker\": {\"color\": \"rgb(255,0,0)\", \"colorscale\": \"Viridis\", \"line\": {\"width\": 2}, \"size\": 12, \"symbol\": 0}, \"mode\": \"markers\", \"name\": \"Student_37\", \"text\": [\"Student_37\"], \"x\": [28], \"y\": [58], \"type\": \"scatter\", \"uid\": \"dfd3bfbe-e37d-11e8-9d8c-a1b30045967f\"}, {\"marker\": {\"color\": \"rgb(255,255,255)\", \"colorscale\": \"Viridis\", \"line\": {\"width\": 2}, \"size\": 12, \"symbol\": 2}, \"mode\": \"markers\", \"name\": \"Student_38\", \"text\": [\"Student_38\"], \"x\": [10], \"y\": [22], \"type\": \"scatter\", \"uid\": \"dfd3c04a-e37d-11e8-9d8c-a1b30045967f\"}, {\"marker\": {\"color\": \"rgb(0,255,0)\", \"colorscale\": \"Viridis\", \"line\": {\"width\": 2}, \"size\": 12, \"symbol\": 3}, \"mode\": \"markers\", \"name\": \"Student_39\", \"text\": [\"Student_39\"], \"x\": [8], \"y\": [35], \"type\": \"scatter\", \"uid\": \"dfd3c0d6-e37d-11e8-9d8c-a1b30045967f\"}, {\"marker\": {\"color\": \"rgb(0,255,0)\", \"colorscale\": \"Viridis\", \"line\": {\"width\": 2}, \"size\": 12, \"symbol\": 3}, \"mode\": \"markers\", \"name\": \"Student_40\", \"text\": [\"Student_40\"], \"x\": [7], \"y\": [40], \"type\": \"scatter\", \"uid\": \"dfd3c162-e37d-11e8-9d8c-a1b30045967f\"}, {\"marker\": {\"color\": \"rgb(0,255,0)\", \"colorscale\": \"Viridis\", \"line\": {\"width\": 2}, \"size\": 12, \"symbol\": 3}, \"mode\": \"markers\", \"name\": \"Student_41\", \"text\": [\"Student_41\"], \"x\": [10], \"y\": [47], \"type\": \"scatter\", \"uid\": \"dfd3c1ee-e37d-11e8-9d8c-a1b30045967f\"}, {\"marker\": {\"color\": \"rgb(0,0,255)\", \"colorscale\": \"Viridis\", \"line\": {\"width\": 2}, \"size\": 12, \"symbol\": 1}, \"mode\": \"markers\", \"name\": \"Student_42\", \"text\": [\"Student_42\"], \"x\": [63], \"y\": [75], \"type\": \"scatter\", \"uid\": \"dfd3c284-e37d-11e8-9d8c-a1b30045967f\"}, {\"marker\": {\"color\": \"rgb(0,255,0)\", \"colorscale\": \"Viridis\", \"line\": {\"width\": 2}, \"size\": 12, \"symbol\": 3}, \"mode\": \"markers\", \"name\": \"Student_43\", \"text\": [\"Student_43\"], \"x\": [8], \"y\": [35], \"type\": \"scatter\", \"uid\": \"dfd3c310-e37d-11e8-9d8c-a1b30045967f\"}, {\"marker\": {\"color\": \"rgb(255,0,0)\", \"colorscale\": \"Viridis\", \"line\": {\"width\": 2}, \"size\": 12, \"symbol\": 0}, \"mode\": \"markers\", \"name\": \"Student_44\", \"text\": [\"Student_44\"], \"x\": [31], \"y\": [69], \"type\": \"scatter\", \"uid\": \"dfd3c39c-e37d-11e8-9d8c-a1b30045967f\"}, {\"marker\": {\"color\": \"rgb(0,0,255)\", \"colorscale\": \"Viridis\", \"line\": {\"width\": 2}, \"size\": 12, \"symbol\": 1}, \"mode\": \"markers\", \"name\": \"Student_45\", \"text\": [\"Student_45\"], \"x\": [47], \"y\": [82], \"type\": \"scatter\", \"uid\": \"dfd3c428-e37d-11e8-9d8c-a1b30045967f\"}, {\"marker\": {\"color\": \"rgb(0,255,0)\", \"colorscale\": \"Viridis\", \"line\": {\"width\": 2}, \"size\": 12, \"symbol\": 3}, \"mode\": \"markers\", \"name\": \"Student_46\", \"text\": [\"Student_46\"], \"x\": [12], \"y\": [47], \"type\": \"scatter\", \"uid\": \"dfd3c4b4-e37d-11e8-9d8c-a1b30045967f\"}, {\"marker\": {\"color\": \"rgb(0,255,0)\", \"colorscale\": \"Viridis\", \"line\": {\"width\": 2}, \"size\": 12, \"symbol\": 3}, \"mode\": \"markers\", \"name\": \"Student_47\", \"text\": [\"Student_47\"], \"x\": [9], \"y\": [34], \"type\": \"scatter\", \"uid\": \"dfd3c540-e37d-11e8-9d8c-a1b30045967f\"}, {\"marker\": {\"color\": \"rgb(0,255,0)\", \"colorscale\": \"Viridis\", \"line\": {\"width\": 2}, \"size\": 12, \"symbol\": 3}, \"mode\": \"markers\", \"name\": \"Student_48\", \"text\": [\"Student_48\"], \"x\": [6], \"y\": [47], \"type\": \"scatter\", \"uid\": \"dfd3c5cc-e37d-11e8-9d8c-a1b30045967f\"}, {\"marker\": {\"color\": \"rgb(255,255,255)\", \"colorscale\": \"Viridis\", \"line\": {\"width\": 2}, \"size\": 12, \"symbol\": 2}, \"mode\": \"markers\", \"name\": \"Student_49\", \"text\": [\"Student_49\"], \"x\": [3], \"y\": [26], \"type\": \"scatter\", \"uid\": \"dfd3c658-e37d-11e8-9d8c-a1b30045967f\"}, {\"marker\": {\"color\": \"rgb(0,255,0)\", \"colorscale\": \"Viridis\", \"line\": {\"width\": 2}, \"size\": 12, \"symbol\": 3}, \"mode\": \"markers\", \"name\": \"Student_50\", \"text\": [\"Student_50\"], \"x\": [11], \"y\": [32], \"type\": \"scatter\", \"uid\": \"dfd3c6e4-e37d-11e8-9d8c-a1b30045967f\"}, {\"marker\": {\"color\": \"rgb(0,255,0)\", \"colorscale\": \"Viridis\", \"line\": {\"width\": 2}, \"size\": 12, \"symbol\": 3}, \"mode\": \"markers\", \"name\": \"Student_51\", \"text\": [\"Student_51\"], \"x\": [8], \"y\": [57], \"type\": \"scatter\", \"uid\": \"dfd3c770-e37d-11e8-9d8c-a1b30045967f\"}, {\"marker\": {\"color\": \"rgb(255,0,0)\", \"colorscale\": \"Viridis\", \"line\": {\"width\": 2}, \"size\": 12, \"symbol\": 0}, \"mode\": \"markers\", \"name\": \"Student_52\", \"text\": [\"Student_52\"], \"x\": [24], \"y\": [59], \"type\": \"scatter\", \"uid\": \"dfd3c7f2-e37d-11e8-9d8c-a1b30045967f\"}, {\"marker\": {\"color\": \"rgb(255,255,255)\", \"colorscale\": \"Viridis\", \"line\": {\"width\": 2}, \"size\": 12, \"symbol\": 2}, \"mode\": \"markers\", \"name\": \"Student_53\", \"text\": [\"Student_53\"], \"x\": [8], \"y\": [26], \"type\": \"scatter\", \"uid\": \"dfd3c87e-e37d-11e8-9d8c-a1b30045967f\"}, {\"marker\": {\"color\": \"rgb(0,255,0)\", \"colorscale\": \"Viridis\", \"line\": {\"width\": 2}, \"size\": 12, \"symbol\": 3}, \"mode\": \"markers\", \"name\": \"Student_54\", \"text\": [\"Student_54\"], \"x\": [12], \"y\": [45], \"type\": \"scatter\", \"uid\": \"dfd3c90a-e37d-11e8-9d8c-a1b30045967f\"}, {\"marker\": {\"color\": \"rgb(0,255,0)\", \"colorscale\": \"Viridis\", \"line\": {\"width\": 2}, \"size\": 12, \"symbol\": 3}, \"mode\": \"markers\", \"name\": \"Student_55\", \"text\": [\"Student_55\"], \"x\": [10], \"y\": [42], \"type\": \"scatter\", \"uid\": \"dfd3c98c-e37d-11e8-9d8c-a1b30045967f\"}, {\"marker\": {\"color\": \"rgb(0,255,0)\", \"colorscale\": \"Viridis\", \"line\": {\"width\": 2}, \"size\": 12, \"symbol\": 3}, \"mode\": \"markers\", \"name\": \"Student_56\", \"text\": [\"Student_56\"], \"x\": [8], \"y\": [44], \"type\": \"scatter\", \"uid\": \"dfd3ca18-e37d-11e8-9d8c-a1b30045967f\"}, {\"marker\": {\"color\": \"rgb(255,255,255)\", \"colorscale\": \"Viridis\", \"line\": {\"width\": 2}, \"size\": 12, \"symbol\": 2}, \"mode\": \"markers\", \"name\": \"Student_57\", \"text\": [\"Student_57\"], \"x\": [8], \"y\": [15], \"type\": \"scatter\", \"uid\": \"dfd3ca9a-e37d-11e8-9d8c-a1b30045967f\"}, {\"marker\": {\"color\": \"rgb(0,0,255)\", \"colorscale\": \"Viridis\", \"line\": {\"width\": 2}, \"size\": 12, \"symbol\": 1}, \"mode\": \"markers\", \"name\": \"Student_58\", \"text\": [\"Student_58\"], \"x\": [37], \"y\": [74], \"type\": \"scatter\", \"uid\": \"dfd3cb26-e37d-11e8-9d8c-a1b30045967f\"}, {\"marker\": {\"color\": \"rgb(255,0,0)\", \"colorscale\": \"Viridis\", \"line\": {\"width\": 2}, \"size\": 12, \"symbol\": 0}, \"mode\": \"markers\", \"name\": \"Student_59\", \"text\": [\"Student_59\"], \"x\": [35], \"y\": [65], \"type\": \"scatter\", \"uid\": \"dfd3cba8-e37d-11e8-9d8c-a1b30045967f\"}, {\"marker\": {\"color\": \"rgb(255,255,255)\", \"colorscale\": \"Viridis\", \"line\": {\"width\": 2}, \"size\": 12, \"symbol\": 2}, \"mode\": \"markers\", \"name\": \"Student_60\", \"text\": [\"Student_60\"], \"x\": [1], \"y\": [22], \"type\": \"scatter\", \"uid\": \"dfd3cc2a-e37d-11e8-9d8c-a1b30045967f\"}], {\"hovermode\": \"closest\", \"showlegend\": true, \"title\": \"Notas dos estudantes vs acesso ao f\\u00f3rum\", \"xaxis\": {\"autorange\": false, \"fixedrange\": false, \"range\": [0, 77], \"rangemode\": \"normal\", \"showline\": true, \"title\": \"Acesso ao f\\u00f3rum\", \"zeroline\": false}, \"yaxis\": {\"autorange\": false, \"fixedrange\": false, \"range\": [0, 97], \"rangemode\": \"normal\", \"showline\": true, \"title\": \"Notas\"}}, {\"showLink\": true, \"linkText\": \"Export to plot.ly\"})});</script>"
      ]
     },
     "metadata": {},
     "output_type": "display_data"
    },
    {
     "data": {
      "application/vnd.plotly.v1+json": {
       "data": [
        {
         "marker": {
          "color": "rgb(255,0,0)",
          "colorscale": "Viridis",
          "line": {
           "width": 2
          },
          "size": 12,
          "symbol": 0
         },
         "mode": "markers",
         "name": "Student_1",
         "text": [
          "Student_1"
         ],
         "type": "scatter",
         "uid": "e01259c2-e37d-11e8-9d8c-a1b30045967f",
         "x": [
          7
         ],
         "y": [
          56
         ]
        },
        {
         "marker": {
          "color": "rgb(0,255,0)",
          "colorscale": "Viridis",
          "line": {
           "width": 2
          },
          "size": 12,
          "symbol": 3
         },
         "mode": "markers",
         "name": "Student_2",
         "text": [
          "Student_2"
         ],
         "type": "scatter",
         "uid": "e0125b5c-e37d-11e8-9d8c-a1b30045967f",
         "x": [
          1
         ],
         "y": [
          47
         ]
        },
        {
         "marker": {
          "color": "rgb(0,255,0)",
          "colorscale": "Viridis",
          "line": {
           "width": 2
          },
          "size": 12,
          "symbol": 3
         },
         "mode": "markers",
         "name": "Student_3",
         "text": [
          "Student_3"
         ],
         "type": "scatter",
         "uid": "e0125c2e-e37d-11e8-9d8c-a1b30045967f",
         "x": [
          0
         ],
         "y": [
          38
         ]
        },
        {
         "marker": {
          "color": "rgb(0,255,0)",
          "colorscale": "Viridis",
          "line": {
           "width": 2
          },
          "size": 12,
          "symbol": 3
         },
         "mode": "markers",
         "name": "Student_4",
         "text": [
          "Student_4"
         ],
         "type": "scatter",
         "uid": "e0125cce-e37d-11e8-9d8c-a1b30045967f",
         "x": [
          0
         ],
         "y": [
          44
         ]
        },
        {
         "marker": {
          "color": "rgb(255,255,255)",
          "colorscale": "Viridis",
          "line": {
           "width": 2
          },
          "size": 12,
          "symbol": 2
         },
         "mode": "markers",
         "name": "Student_5",
         "text": [
          "Student_5"
         ],
         "type": "scatter",
         "uid": "e0125d64-e37d-11e8-9d8c-a1b30045967f",
         "x": [
          1
         ],
         "y": [
          17
         ]
        },
        {
         "marker": {
          "color": "rgb(0,255,0)",
          "colorscale": "Viridis",
          "line": {
           "width": 2
          },
          "size": 12,
          "symbol": 3
         },
         "mode": "markers",
         "name": "Student_6",
         "text": [
          "Student_6"
         ],
         "type": "scatter",
         "uid": "e0125dfa-e37d-11e8-9d8c-a1b30045967f",
         "x": [
          1
         ],
         "y": [
          44
         ]
        },
        {
         "marker": {
          "color": "rgb(0,0,255)",
          "colorscale": "Viridis",
          "line": {
           "width": 2
          },
          "size": 12,
          "symbol": 1
         },
         "mode": "markers",
         "name": "Student_7",
         "text": [
          "Student_7"
         ],
         "type": "scatter",
         "uid": "e0125e86-e37d-11e8-9d8c-a1b30045967f",
         "x": [
          31
         ],
         "y": [
          87
         ]
        },
        {
         "marker": {
          "color": "rgb(255,0,0)",
          "colorscale": "Viridis",
          "line": {
           "width": 2
          },
          "size": 12,
          "symbol": 0
         },
         "mode": "markers",
         "name": "Student_8",
         "text": [
          "Student_8"
         ],
         "type": "scatter",
         "uid": "e0125f12-e37d-11e8-9d8c-a1b30045967f",
         "x": [
          10
         ],
         "y": [
          63
         ]
        },
        {
         "marker": {
          "color": "rgb(0,255,0)",
          "colorscale": "Viridis",
          "line": {
           "width": 2
          },
          "size": 12,
          "symbol": 3
         },
         "mode": "markers",
         "name": "Student_9",
         "text": [
          "Student_9"
         ],
         "type": "scatter",
         "uid": "e0125fa8-e37d-11e8-9d8c-a1b30045967f",
         "x": [
          1
         ],
         "y": [
          36
         ]
        },
        {
         "marker": {
          "color": "rgb(255,0,0)",
          "colorscale": "Viridis",
          "line": {
           "width": 2
          },
          "size": 12,
          "symbol": 0
         },
         "mode": "markers",
         "name": "Student_10",
         "text": [
          "Student_10"
         ],
         "type": "scatter",
         "uid": "e012603e-e37d-11e8-9d8c-a1b30045967f",
         "x": [
          5
         ],
         "y": [
          54
         ]
        },
        {
         "marker": {
          "color": "rgb(0,255,0)",
          "colorscale": "Viridis",
          "line": {
           "width": 2
          },
          "size": 12,
          "symbol": 3
         },
         "mode": "markers",
         "name": "Student_11",
         "text": [
          "Student_11"
         ],
         "type": "scatter",
         "uid": "e01260ca-e37d-11e8-9d8c-a1b30045967f",
         "x": [
          1
         ],
         "y": [
          49
         ]
        },
        {
         "marker": {
          "color": "rgb(0,255,0)",
          "colorscale": "Viridis",
          "line": {
           "width": 2
          },
          "size": 12,
          "symbol": 3
         },
         "mode": "markers",
         "name": "Student_12",
         "text": [
          "Student_12"
         ],
         "type": "scatter",
         "uid": "e0126160-e37d-11e8-9d8c-a1b30045967f",
         "x": [
          2
         ],
         "y": [
          47
         ]
        },
        {
         "marker": {
          "color": "rgb(255,0,0)",
          "colorscale": "Viridis",
          "line": {
           "width": 2
          },
          "size": 12,
          "symbol": 0
         },
         "mode": "markers",
         "name": "Student_13",
         "text": [
          "Student_13"
         ],
         "type": "scatter",
         "uid": "e01261f6-e37d-11e8-9d8c-a1b30045967f",
         "x": [
          10
         ],
         "y": [
          70
         ]
        },
        {
         "marker": {
          "color": "rgb(0,255,0)",
          "colorscale": "Viridis",
          "line": {
           "width": 2
          },
          "size": 12,
          "symbol": 3
         },
         "mode": "markers",
         "name": "Student_14",
         "text": [
          "Student_14"
         ],
         "type": "scatter",
         "uid": "e0126282-e37d-11e8-9d8c-a1b30045967f",
         "x": [
          1
         ],
         "y": [
          46
         ]
        },
        {
         "marker": {
          "color": "rgb(0,255,0)",
          "colorscale": "Viridis",
          "line": {
           "width": 2
          },
          "size": 12,
          "symbol": 3
         },
         "mode": "markers",
         "name": "Student_15",
         "text": [
          "Student_15"
         ],
         "type": "scatter",
         "uid": "e012630e-e37d-11e8-9d8c-a1b30045967f",
         "x": [
          2
         ],
         "y": [
          47
         ]
        },
        {
         "marker": {
          "color": "rgb(0,0,255)",
          "colorscale": "Viridis",
          "line": {
           "width": 2
          },
          "size": 12,
          "symbol": 1
         },
         "mode": "markers",
         "name": "Student_16",
         "text": [
          "Student_16"
         ],
         "type": "scatter",
         "uid": "e012639a-e37d-11e8-9d8c-a1b30045967f",
         "x": [
          14
         ],
         "y": [
          76
         ]
        },
        {
         "marker": {
          "color": "rgb(0,255,0)",
          "colorscale": "Viridis",
          "line": {
           "width": 2
          },
          "size": 12,
          "symbol": 3
         },
         "mode": "markers",
         "name": "Student_17",
         "text": [
          "Student_17"
         ],
         "type": "scatter",
         "uid": "e0126426-e37d-11e8-9d8c-a1b30045967f",
         "x": [
          1
         ],
         "y": [
          44
         ]
        },
        {
         "marker": {
          "color": "rgb(255,0,0)",
          "colorscale": "Viridis",
          "line": {
           "width": 2
          },
          "size": 12,
          "symbol": 0
         },
         "mode": "markers",
         "name": "Student_18",
         "text": [
          "Student_18"
         ],
         "type": "scatter",
         "uid": "e01264b2-e37d-11e8-9d8c-a1b30045967f",
         "x": [
          10
         ],
         "y": [
          66
         ]
        },
        {
         "marker": {
          "color": "rgb(0,0,255)",
          "colorscale": "Viridis",
          "line": {
           "width": 2
          },
          "size": 12,
          "symbol": 1
         },
         "mode": "markers",
         "name": "Student_19",
         "text": [
          "Student_19"
         ],
         "type": "scatter",
         "uid": "e012653e-e37d-11e8-9d8c-a1b30045967f",
         "x": [
          5
         ],
         "y": [
          79
         ]
        },
        {
         "marker": {
          "color": "rgb(0,255,0)",
          "colorscale": "Viridis",
          "line": {
           "width": 2
          },
          "size": 12,
          "symbol": 3
         },
         "mode": "markers",
         "name": "Student_20",
         "text": [
          "Student_20"
         ],
         "type": "scatter",
         "uid": "e01265fc-e37d-11e8-9d8c-a1b30045967f",
         "x": [
          3
         ],
         "y": [
          45
         ]
        },
        {
         "marker": {
          "color": "rgb(0,0,255)",
          "colorscale": "Viridis",
          "line": {
           "width": 2
          },
          "size": 12,
          "symbol": 1
         },
         "mode": "markers",
         "name": "Student_21",
         "text": [
          "Student_21"
         ],
         "type": "scatter",
         "uid": "e012669c-e37d-11e8-9d8c-a1b30045967f",
         "x": [
          19
         ],
         "y": [
          71
         ]
        },
        {
         "marker": {
          "color": "rgb(0,255,0)",
          "colorscale": "Viridis",
          "line": {
           "width": 2
          },
          "size": 12,
          "symbol": 3
         },
         "mode": "markers",
         "name": "Student_22",
         "text": [
          "Student_22"
         ],
         "type": "scatter",
         "uid": "e0126728-e37d-11e8-9d8c-a1b30045967f",
         "x": [
          0
         ],
         "y": [
          50
         ]
        },
        {
         "marker": {
          "color": "rgb(255,0,0)",
          "colorscale": "Viridis",
          "line": {
           "width": 2
          },
          "size": 12,
          "symbol": 0
         },
         "mode": "markers",
         "name": "Student_23",
         "text": [
          "Student_23"
         ],
         "type": "scatter",
         "uid": "e01267b4-e37d-11e8-9d8c-a1b30045967f",
         "x": [
          3
         ],
         "y": [
          66
         ]
        },
        {
         "marker": {
          "color": "rgb(0,255,0)",
          "colorscale": "Viridis",
          "line": {
           "width": 2
          },
          "size": 12,
          "symbol": 3
         },
         "mode": "markers",
         "name": "Student_24",
         "text": [
          "Student_24"
         ],
         "type": "scatter",
         "uid": "e0126840-e37d-11e8-9d8c-a1b30045967f",
         "x": [
          2
         ],
         "y": [
          38
         ]
        },
        {
         "marker": {
          "color": "rgb(0,255,0)",
          "colorscale": "Viridis",
          "line": {
           "width": 2
          },
          "size": 12,
          "symbol": 3
         },
         "mode": "markers",
         "name": "Student_25",
         "text": [
          "Student_25"
         ],
         "type": "scatter",
         "uid": "e01268cc-e37d-11e8-9d8c-a1b30045967f",
         "x": [
          1
         ],
         "y": [
          34
         ]
        },
        {
         "marker": {
          "color": "rgb(255,0,0)",
          "colorscale": "Viridis",
          "line": {
           "width": 2
          },
          "size": 12,
          "symbol": 0
         },
         "mode": "markers",
         "name": "Student_26",
         "text": [
          "Student_26"
         ],
         "type": "scatter",
         "uid": "e0126958-e37d-11e8-9d8c-a1b30045967f",
         "x": [
          3
         ],
         "y": [
          55
         ]
        },
        {
         "marker": {
          "color": "rgb(255,0,0)",
          "colorscale": "Viridis",
          "line": {
           "width": 2
          },
          "size": 12,
          "symbol": 0
         },
         "mode": "markers",
         "name": "Student_27",
         "text": [
          "Student_27"
         ],
         "type": "scatter",
         "uid": "e01269e4-e37d-11e8-9d8c-a1b30045967f",
         "x": [
          4
         ],
         "y": [
          59
         ]
        },
        {
         "marker": {
          "color": "rgb(255,0,0)",
          "colorscale": "Viridis",
          "line": {
           "width": 2
          },
          "size": 12,
          "symbol": 0
         },
         "mode": "markers",
         "name": "Student_28",
         "text": [
          "Student_28"
         ],
         "type": "scatter",
         "uid": "e0126a70-e37d-11e8-9d8c-a1b30045967f",
         "x": [
          7
         ],
         "y": [
          68
         ]
        },
        {
         "marker": {
          "color": "rgb(255,0,0)",
          "colorscale": "Viridis",
          "line": {
           "width": 2
          },
          "size": 12,
          "symbol": 0
         },
         "mode": "markers",
         "name": "Student_29",
         "text": [
          "Student_29"
         ],
         "type": "scatter",
         "uid": "e0126afc-e37d-11e8-9d8c-a1b30045967f",
         "x": [
          4
         ],
         "y": [
          66
         ]
        },
        {
         "marker": {
          "color": "rgb(255,0,0)",
          "colorscale": "Viridis",
          "line": {
           "width": 2
          },
          "size": 12,
          "symbol": 0
         },
         "mode": "markers",
         "name": "Student_30",
         "text": [
          "Student_30"
         ],
         "type": "scatter",
         "uid": "e0126b7e-e37d-11e8-9d8c-a1b30045967f",
         "x": [
          4
         ],
         "y": [
          53
         ]
        },
        {
         "marker": {
          "color": "rgb(0,255,0)",
          "colorscale": "Viridis",
          "line": {
           "width": 2
          },
          "size": 12,
          "symbol": 3
         },
         "mode": "markers",
         "name": "Student_31",
         "text": [
          "Student_31"
         ],
         "type": "scatter",
         "uid": "e0126c0a-e37d-11e8-9d8c-a1b30045967f",
         "x": [
          1
         ],
         "y": [
          44
         ]
        },
        {
         "marker": {
          "color": "rgb(0,255,0)",
          "colorscale": "Viridis",
          "line": {
           "width": 2
          },
          "size": 12,
          "symbol": 3
         },
         "mode": "markers",
         "name": "Student_32",
         "text": [
          "Student_32"
         ],
         "type": "scatter",
         "uid": "e0126c8c-e37d-11e8-9d8c-a1b30045967f",
         "x": [
          1
         ],
         "y": [
          42
         ]
        },
        {
         "marker": {
          "color": "rgb(255,0,0)",
          "colorscale": "Viridis",
          "line": {
           "width": 2
          },
          "size": 12,
          "symbol": 0
         },
         "mode": "markers",
         "name": "Student_33",
         "text": [
          "Student_33"
         ],
         "type": "scatter",
         "uid": "e0126d18-e37d-11e8-9d8c-a1b30045967f",
         "x": [
          2
         ],
         "y": [
          63
         ]
        },
        {
         "marker": {
          "color": "rgb(255,255,255)",
          "colorscale": "Viridis",
          "line": {
           "width": 2
          },
          "size": 12,
          "symbol": 2
         },
         "mode": "markers",
         "name": "Student_34",
         "text": [
          "Student_34"
         ],
         "type": "scatter",
         "uid": "e0126da4-e37d-11e8-9d8c-a1b30045967f",
         "x": [
          0
         ],
         "y": [
          14
         ]
        },
        {
         "marker": {
          "color": "rgb(255,0,0)",
          "colorscale": "Viridis",
          "line": {
           "width": 2
          },
          "size": 12,
          "symbol": 0
         },
         "mode": "markers",
         "name": "Student_35",
         "text": [
          "Student_35"
         ],
         "type": "scatter",
         "uid": "e0126e30-e37d-11e8-9d8c-a1b30045967f",
         "x": [
          1
         ],
         "y": [
          67
         ]
        },
        {
         "marker": {
          "color": "rgb(255,0,0)",
          "colorscale": "Viridis",
          "line": {
           "width": 2
          },
          "size": 12,
          "symbol": 0
         },
         "mode": "markers",
         "name": "Student_36",
         "text": [
          "Student_36"
         ],
         "type": "scatter",
         "uid": "e0126eb2-e37d-11e8-9d8c-a1b30045967f",
         "x": [
          4
         ],
         "y": [
          70
         ]
        },
        {
         "marker": {
          "color": "rgb(255,0,0)",
          "colorscale": "Viridis",
          "line": {
           "width": 2
          },
          "size": 12,
          "symbol": 0
         },
         "mode": "markers",
         "name": "Student_37",
         "text": [
          "Student_37"
         ],
         "type": "scatter",
         "uid": "e0126f3e-e37d-11e8-9d8c-a1b30045967f",
         "x": [
          7
         ],
         "y": [
          58
         ]
        },
        {
         "marker": {
          "color": "rgb(255,255,255)",
          "colorscale": "Viridis",
          "line": {
           "width": 2
          },
          "size": 12,
          "symbol": 2
         },
         "mode": "markers",
         "name": "Student_38",
         "text": [
          "Student_38"
         ],
         "type": "scatter",
         "uid": "e0126fc0-e37d-11e8-9d8c-a1b30045967f",
         "x": [
          0
         ],
         "y": [
          22
         ]
        },
        {
         "marker": {
          "color": "rgb(0,255,0)",
          "colorscale": "Viridis",
          "line": {
           "width": 2
          },
          "size": 12,
          "symbol": 3
         },
         "mode": "markers",
         "name": "Student_39",
         "text": [
          "Student_39"
         ],
         "type": "scatter",
         "uid": "e012704c-e37d-11e8-9d8c-a1b30045967f",
         "x": [
          0
         ],
         "y": [
          35
         ]
        },
        {
         "marker": {
          "color": "rgb(0,255,0)",
          "colorscale": "Viridis",
          "line": {
           "width": 2
          },
          "size": 12,
          "symbol": 3
         },
         "mode": "markers",
         "name": "Student_40",
         "text": [
          "Student_40"
         ],
         "type": "scatter",
         "uid": "e01270d8-e37d-11e8-9d8c-a1b30045967f",
         "x": [
          2
         ],
         "y": [
          40
         ]
        },
        {
         "marker": {
          "color": "rgb(0,255,0)",
          "colorscale": "Viridis",
          "line": {
           "width": 2
          },
          "size": 12,
          "symbol": 3
         },
         "mode": "markers",
         "name": "Student_41",
         "text": [
          "Student_41"
         ],
         "type": "scatter",
         "uid": "e012715a-e37d-11e8-9d8c-a1b30045967f",
         "x": [
          3
         ],
         "y": [
          47
         ]
        },
        {
         "marker": {
          "color": "rgb(0,0,255)",
          "colorscale": "Viridis",
          "line": {
           "width": 2
          },
          "size": 12,
          "symbol": 1
         },
         "mode": "markers",
         "name": "Student_42",
         "text": [
          "Student_42"
         ],
         "type": "scatter",
         "uid": "e01271e6-e37d-11e8-9d8c-a1b30045967f",
         "x": [
          16
         ],
         "y": [
          75
         ]
        },
        {
         "marker": {
          "color": "rgb(0,255,0)",
          "colorscale": "Viridis",
          "line": {
           "width": 2
          },
          "size": 12,
          "symbol": 3
         },
         "mode": "markers",
         "name": "Student_43",
         "text": [
          "Student_43"
         ],
         "type": "scatter",
         "uid": "e0127272-e37d-11e8-9d8c-a1b30045967f",
         "x": [
          1
         ],
         "y": [
          35
         ]
        },
        {
         "marker": {
          "color": "rgb(255,0,0)",
          "colorscale": "Viridis",
          "line": {
           "width": 2
          },
          "size": 12,
          "symbol": 0
         },
         "mode": "markers",
         "name": "Student_44",
         "text": [
          "Student_44"
         ],
         "type": "scatter",
         "uid": "e01272fe-e37d-11e8-9d8c-a1b30045967f",
         "x": [
          11
         ],
         "y": [
          69
         ]
        },
        {
         "marker": {
          "color": "rgb(0,0,255)",
          "colorscale": "Viridis",
          "line": {
           "width": 2
          },
          "size": 12,
          "symbol": 1
         },
         "mode": "markers",
         "name": "Student_45",
         "text": [
          "Student_45"
         ],
         "type": "scatter",
         "uid": "e0127380-e37d-11e8-9d8c-a1b30045967f",
         "x": [
          6
         ],
         "y": [
          82
         ]
        },
        {
         "marker": {
          "color": "rgb(0,255,0)",
          "colorscale": "Viridis",
          "line": {
           "width": 2
          },
          "size": 12,
          "symbol": 3
         },
         "mode": "markers",
         "name": "Student_46",
         "text": [
          "Student_46"
         ],
         "type": "scatter",
         "uid": "e012740c-e37d-11e8-9d8c-a1b30045967f",
         "x": [
          3
         ],
         "y": [
          47
         ]
        },
        {
         "marker": {
          "color": "rgb(0,255,0)",
          "colorscale": "Viridis",
          "line": {
           "width": 2
          },
          "size": 12,
          "symbol": 3
         },
         "mode": "markers",
         "name": "Student_47",
         "text": [
          "Student_47"
         ],
         "type": "scatter",
         "uid": "e0127498-e37d-11e8-9d8c-a1b30045967f",
         "x": [
          3
         ],
         "y": [
          34
         ]
        },
        {
         "marker": {
          "color": "rgb(0,255,0)",
          "colorscale": "Viridis",
          "line": {
           "width": 2
          },
          "size": 12,
          "symbol": 3
         },
         "mode": "markers",
         "name": "Student_48",
         "text": [
          "Student_48"
         ],
         "type": "scatter",
         "uid": "e012751a-e37d-11e8-9d8c-a1b30045967f",
         "x": [
          2
         ],
         "y": [
          47
         ]
        },
        {
         "marker": {
          "color": "rgb(255,255,255)",
          "colorscale": "Viridis",
          "line": {
           "width": 2
          },
          "size": 12,
          "symbol": 2
         },
         "mode": "markers",
         "name": "Student_49",
         "text": [
          "Student_49"
         ],
         "type": "scatter",
         "uid": "e01275a6-e37d-11e8-9d8c-a1b30045967f",
         "x": [
          0
         ],
         "y": [
          26
         ]
        },
        {
         "marker": {
          "color": "rgb(0,255,0)",
          "colorscale": "Viridis",
          "line": {
           "width": 2
          },
          "size": 12,
          "symbol": 3
         },
         "mode": "markers",
         "name": "Student_50",
         "text": [
          "Student_50"
         ],
         "type": "scatter",
         "uid": "e0127632-e37d-11e8-9d8c-a1b30045967f",
         "x": [
          3
         ],
         "y": [
          32
         ]
        },
        {
         "marker": {
          "color": "rgb(0,255,0)",
          "colorscale": "Viridis",
          "line": {
           "width": 2
          },
          "size": 12,
          "symbol": 3
         },
         "mode": "markers",
         "name": "Student_51",
         "text": [
          "Student_51"
         ],
         "type": "scatter",
         "uid": "e01276be-e37d-11e8-9d8c-a1b30045967f",
         "x": [
          4
         ],
         "y": [
          57
         ]
        },
        {
         "marker": {
          "color": "rgb(255,0,0)",
          "colorscale": "Viridis",
          "line": {
           "width": 2
          },
          "size": 12,
          "symbol": 0
         },
         "mode": "markers",
         "name": "Student_52",
         "text": [
          "Student_52"
         ],
         "type": "scatter",
         "uid": "e0127740-e37d-11e8-9d8c-a1b30045967f",
         "x": [
          5
         ],
         "y": [
          59
         ]
        },
        {
         "marker": {
          "color": "rgb(255,255,255)",
          "colorscale": "Viridis",
          "line": {
           "width": 2
          },
          "size": 12,
          "symbol": 2
         },
         "mode": "markers",
         "name": "Student_53",
         "text": [
          "Student_53"
         ],
         "type": "scatter",
         "uid": "e01277c2-e37d-11e8-9d8c-a1b30045967f",
         "x": [
          3
         ],
         "y": [
          26
         ]
        },
        {
         "marker": {
          "color": "rgb(0,255,0)",
          "colorscale": "Viridis",
          "line": {
           "width": 2
          },
          "size": 12,
          "symbol": 3
         },
         "mode": "markers",
         "name": "Student_54",
         "text": [
          "Student_54"
         ],
         "type": "scatter",
         "uid": "e012784e-e37d-11e8-9d8c-a1b30045967f",
         "x": [
          3
         ],
         "y": [
          45
         ]
        },
        {
         "marker": {
          "color": "rgb(0,255,0)",
          "colorscale": "Viridis",
          "line": {
           "width": 2
          },
          "size": 12,
          "symbol": 3
         },
         "mode": "markers",
         "name": "Student_55",
         "text": [
          "Student_55"
         ],
         "type": "scatter",
         "uid": "e01278d0-e37d-11e8-9d8c-a1b30045967f",
         "x": [
          3
         ],
         "y": [
          42
         ]
        },
        {
         "marker": {
          "color": "rgb(0,255,0)",
          "colorscale": "Viridis",
          "line": {
           "width": 2
          },
          "size": 12,
          "symbol": 3
         },
         "mode": "markers",
         "name": "Student_56",
         "text": [
          "Student_56"
         ],
         "type": "scatter",
         "uid": "e012795c-e37d-11e8-9d8c-a1b30045967f",
         "x": [
          1
         ],
         "y": [
          44
         ]
        },
        {
         "marker": {
          "color": "rgb(255,255,255)",
          "colorscale": "Viridis",
          "line": {
           "width": 2
          },
          "size": 12,
          "symbol": 2
         },
         "mode": "markers",
         "name": "Student_57",
         "text": [
          "Student_57"
         ],
         "type": "scatter",
         "uid": "e01279de-e37d-11e8-9d8c-a1b30045967f",
         "x": [
          1
         ],
         "y": [
          15
         ]
        },
        {
         "marker": {
          "color": "rgb(0,0,255)",
          "colorscale": "Viridis",
          "line": {
           "width": 2
          },
          "size": 12,
          "symbol": 1
         },
         "mode": "markers",
         "name": "Student_58",
         "text": [
          "Student_58"
         ],
         "type": "scatter",
         "uid": "e0127a60-e37d-11e8-9d8c-a1b30045967f",
         "x": [
          2
         ],
         "y": [
          74
         ]
        },
        {
         "marker": {
          "color": "rgb(255,0,0)",
          "colorscale": "Viridis",
          "line": {
           "width": 2
          },
          "size": 12,
          "symbol": 0
         },
         "mode": "markers",
         "name": "Student_59",
         "text": [
          "Student_59"
         ],
         "type": "scatter",
         "uid": "e0127ae2-e37d-11e8-9d8c-a1b30045967f",
         "x": [
          4
         ],
         "y": [
          65
         ]
        },
        {
         "marker": {
          "color": "rgb(255,255,255)",
          "colorscale": "Viridis",
          "line": {
           "width": 2
          },
          "size": 12,
          "symbol": 2
         },
         "mode": "markers",
         "name": "Student_60",
         "text": [
          "Student_60"
         ],
         "type": "scatter",
         "uid": "e0127b64-e37d-11e8-9d8c-a1b30045967f",
         "x": [
          1
         ],
         "y": [
          22
         ]
        }
       ],
       "layout": {
        "hovermode": "closest",
        "showlegend": true,
        "title": "Notas dos estudantes vs postagens no fórum",
        "xaxis": {
         "autorange": false,
         "fixedrange": false,
         "range": [
          0,
          41
         ],
         "rangemode": "normal",
         "showline": true,
         "title": "Postagem no fórum",
         "zeroline": false
        },
        "yaxis": {
         "autorange": false,
         "fixedrange": false,
         "range": [
          0,
          97
         ],
         "rangemode": "normal",
         "showline": true,
         "title": "Notas"
        }
       }
      },
      "text/html": [
       "<div id=\"a1b27939-5665-4b9d-bc7a-953e5b981a4d\" style=\"height: 525px; width: 100%;\" class=\"plotly-graph-div\"></div><script type=\"text/javascript\">require([\"plotly\"], function(Plotly) { window.PLOTLYENV=window.PLOTLYENV || {};window.PLOTLYENV.BASE_URL=\"https://plot.ly\";Plotly.newPlot(\"a1b27939-5665-4b9d-bc7a-953e5b981a4d\", [{\"marker\": {\"color\": \"rgb(255,0,0)\", \"colorscale\": \"Viridis\", \"line\": {\"width\": 2}, \"size\": 12, \"symbol\": 0}, \"mode\": \"markers\", \"name\": \"Student_1\", \"text\": [\"Student_1\"], \"x\": [7], \"y\": [56], \"type\": \"scatter\", \"uid\": \"e01259c2-e37d-11e8-9d8c-a1b30045967f\"}, {\"marker\": {\"color\": \"rgb(0,255,0)\", \"colorscale\": \"Viridis\", \"line\": {\"width\": 2}, \"size\": 12, \"symbol\": 3}, \"mode\": \"markers\", \"name\": \"Student_2\", \"text\": [\"Student_2\"], \"x\": [1], \"y\": [47], \"type\": \"scatter\", \"uid\": \"e0125b5c-e37d-11e8-9d8c-a1b30045967f\"}, {\"marker\": {\"color\": \"rgb(0,255,0)\", \"colorscale\": \"Viridis\", \"line\": {\"width\": 2}, \"size\": 12, \"symbol\": 3}, \"mode\": \"markers\", \"name\": \"Student_3\", \"text\": [\"Student_3\"], \"x\": [0], \"y\": [38], \"type\": \"scatter\", \"uid\": \"e0125c2e-e37d-11e8-9d8c-a1b30045967f\"}, {\"marker\": {\"color\": \"rgb(0,255,0)\", \"colorscale\": \"Viridis\", \"line\": {\"width\": 2}, \"size\": 12, \"symbol\": 3}, \"mode\": \"markers\", \"name\": \"Student_4\", \"text\": [\"Student_4\"], \"x\": [0], \"y\": [44], \"type\": \"scatter\", \"uid\": \"e0125cce-e37d-11e8-9d8c-a1b30045967f\"}, {\"marker\": {\"color\": \"rgb(255,255,255)\", \"colorscale\": \"Viridis\", \"line\": {\"width\": 2}, \"size\": 12, \"symbol\": 2}, \"mode\": \"markers\", \"name\": \"Student_5\", \"text\": [\"Student_5\"], \"x\": [1], \"y\": [17], \"type\": \"scatter\", \"uid\": \"e0125d64-e37d-11e8-9d8c-a1b30045967f\"}, {\"marker\": {\"color\": \"rgb(0,255,0)\", \"colorscale\": \"Viridis\", \"line\": {\"width\": 2}, \"size\": 12, \"symbol\": 3}, \"mode\": \"markers\", \"name\": \"Student_6\", \"text\": [\"Student_6\"], \"x\": [1], \"y\": [44], \"type\": \"scatter\", \"uid\": \"e0125dfa-e37d-11e8-9d8c-a1b30045967f\"}, {\"marker\": {\"color\": \"rgb(0,0,255)\", \"colorscale\": \"Viridis\", \"line\": {\"width\": 2}, \"size\": 12, \"symbol\": 1}, \"mode\": \"markers\", \"name\": \"Student_7\", \"text\": [\"Student_7\"], \"x\": [31], \"y\": [87], \"type\": \"scatter\", \"uid\": \"e0125e86-e37d-11e8-9d8c-a1b30045967f\"}, {\"marker\": {\"color\": \"rgb(255,0,0)\", \"colorscale\": \"Viridis\", \"line\": {\"width\": 2}, \"size\": 12, \"symbol\": 0}, \"mode\": \"markers\", \"name\": \"Student_8\", \"text\": [\"Student_8\"], \"x\": [10], \"y\": [63], \"type\": \"scatter\", \"uid\": \"e0125f12-e37d-11e8-9d8c-a1b30045967f\"}, {\"marker\": {\"color\": \"rgb(0,255,0)\", \"colorscale\": \"Viridis\", \"line\": {\"width\": 2}, \"size\": 12, \"symbol\": 3}, \"mode\": \"markers\", \"name\": \"Student_9\", \"text\": [\"Student_9\"], \"x\": [1], \"y\": [36], \"type\": \"scatter\", \"uid\": \"e0125fa8-e37d-11e8-9d8c-a1b30045967f\"}, {\"marker\": {\"color\": \"rgb(255,0,0)\", \"colorscale\": \"Viridis\", \"line\": {\"width\": 2}, \"size\": 12, \"symbol\": 0}, \"mode\": \"markers\", \"name\": \"Student_10\", \"text\": [\"Student_10\"], \"x\": [5], \"y\": [54], \"type\": \"scatter\", \"uid\": \"e012603e-e37d-11e8-9d8c-a1b30045967f\"}, {\"marker\": {\"color\": \"rgb(0,255,0)\", \"colorscale\": \"Viridis\", \"line\": {\"width\": 2}, \"size\": 12, \"symbol\": 3}, \"mode\": \"markers\", \"name\": \"Student_11\", \"text\": [\"Student_11\"], \"x\": [1], \"y\": [49], \"type\": \"scatter\", \"uid\": \"e01260ca-e37d-11e8-9d8c-a1b30045967f\"}, {\"marker\": {\"color\": \"rgb(0,255,0)\", \"colorscale\": \"Viridis\", \"line\": {\"width\": 2}, \"size\": 12, \"symbol\": 3}, \"mode\": \"markers\", \"name\": \"Student_12\", \"text\": [\"Student_12\"], \"x\": [2], \"y\": [47], \"type\": \"scatter\", \"uid\": \"e0126160-e37d-11e8-9d8c-a1b30045967f\"}, {\"marker\": {\"color\": \"rgb(255,0,0)\", \"colorscale\": \"Viridis\", \"line\": {\"width\": 2}, \"size\": 12, \"symbol\": 0}, \"mode\": \"markers\", \"name\": \"Student_13\", \"text\": [\"Student_13\"], \"x\": [10], \"y\": [70], \"type\": \"scatter\", \"uid\": \"e01261f6-e37d-11e8-9d8c-a1b30045967f\"}, {\"marker\": {\"color\": \"rgb(0,255,0)\", \"colorscale\": \"Viridis\", \"line\": {\"width\": 2}, \"size\": 12, \"symbol\": 3}, \"mode\": \"markers\", \"name\": \"Student_14\", \"text\": [\"Student_14\"], \"x\": [1], \"y\": [46], \"type\": \"scatter\", \"uid\": \"e0126282-e37d-11e8-9d8c-a1b30045967f\"}, {\"marker\": {\"color\": \"rgb(0,255,0)\", \"colorscale\": \"Viridis\", \"line\": {\"width\": 2}, \"size\": 12, \"symbol\": 3}, \"mode\": \"markers\", \"name\": \"Student_15\", \"text\": [\"Student_15\"], \"x\": [2], \"y\": [47], \"type\": \"scatter\", \"uid\": \"e012630e-e37d-11e8-9d8c-a1b30045967f\"}, {\"marker\": {\"color\": \"rgb(0,0,255)\", \"colorscale\": \"Viridis\", \"line\": {\"width\": 2}, \"size\": 12, \"symbol\": 1}, \"mode\": \"markers\", \"name\": \"Student_16\", \"text\": [\"Student_16\"], \"x\": [14], \"y\": [76], \"type\": \"scatter\", \"uid\": \"e012639a-e37d-11e8-9d8c-a1b30045967f\"}, {\"marker\": {\"color\": \"rgb(0,255,0)\", \"colorscale\": \"Viridis\", \"line\": {\"width\": 2}, \"size\": 12, \"symbol\": 3}, \"mode\": \"markers\", \"name\": \"Student_17\", \"text\": [\"Student_17\"], \"x\": [1], \"y\": [44], \"type\": \"scatter\", \"uid\": \"e0126426-e37d-11e8-9d8c-a1b30045967f\"}, {\"marker\": {\"color\": \"rgb(255,0,0)\", \"colorscale\": \"Viridis\", \"line\": {\"width\": 2}, \"size\": 12, \"symbol\": 0}, \"mode\": \"markers\", \"name\": \"Student_18\", \"text\": [\"Student_18\"], \"x\": [10], \"y\": [66], \"type\": \"scatter\", \"uid\": \"e01264b2-e37d-11e8-9d8c-a1b30045967f\"}, {\"marker\": {\"color\": \"rgb(0,0,255)\", \"colorscale\": \"Viridis\", \"line\": {\"width\": 2}, \"size\": 12, \"symbol\": 1}, \"mode\": \"markers\", \"name\": \"Student_19\", \"text\": [\"Student_19\"], \"x\": [5], \"y\": [79], \"type\": \"scatter\", \"uid\": \"e012653e-e37d-11e8-9d8c-a1b30045967f\"}, {\"marker\": {\"color\": \"rgb(0,255,0)\", \"colorscale\": \"Viridis\", \"line\": {\"width\": 2}, \"size\": 12, \"symbol\": 3}, \"mode\": \"markers\", \"name\": \"Student_20\", \"text\": [\"Student_20\"], \"x\": [3], \"y\": [45], \"type\": \"scatter\", \"uid\": \"e01265fc-e37d-11e8-9d8c-a1b30045967f\"}, {\"marker\": {\"color\": \"rgb(0,0,255)\", \"colorscale\": \"Viridis\", \"line\": {\"width\": 2}, \"size\": 12, \"symbol\": 1}, \"mode\": \"markers\", \"name\": \"Student_21\", \"text\": [\"Student_21\"], \"x\": [19], \"y\": [71], \"type\": \"scatter\", \"uid\": \"e012669c-e37d-11e8-9d8c-a1b30045967f\"}, {\"marker\": {\"color\": \"rgb(0,255,0)\", \"colorscale\": \"Viridis\", \"line\": {\"width\": 2}, \"size\": 12, \"symbol\": 3}, \"mode\": \"markers\", \"name\": \"Student_22\", \"text\": [\"Student_22\"], \"x\": [0], \"y\": [50], \"type\": \"scatter\", \"uid\": \"e0126728-e37d-11e8-9d8c-a1b30045967f\"}, {\"marker\": {\"color\": \"rgb(255,0,0)\", \"colorscale\": \"Viridis\", \"line\": {\"width\": 2}, \"size\": 12, \"symbol\": 0}, \"mode\": \"markers\", \"name\": \"Student_23\", \"text\": [\"Student_23\"], \"x\": [3], \"y\": [66], \"type\": \"scatter\", \"uid\": \"e01267b4-e37d-11e8-9d8c-a1b30045967f\"}, {\"marker\": {\"color\": \"rgb(0,255,0)\", \"colorscale\": \"Viridis\", \"line\": {\"width\": 2}, \"size\": 12, \"symbol\": 3}, \"mode\": \"markers\", \"name\": \"Student_24\", \"text\": [\"Student_24\"], \"x\": [2], \"y\": [38], \"type\": \"scatter\", \"uid\": \"e0126840-e37d-11e8-9d8c-a1b30045967f\"}, {\"marker\": {\"color\": \"rgb(0,255,0)\", \"colorscale\": \"Viridis\", \"line\": {\"width\": 2}, \"size\": 12, \"symbol\": 3}, \"mode\": \"markers\", \"name\": \"Student_25\", \"text\": [\"Student_25\"], \"x\": [1], \"y\": [34], \"type\": \"scatter\", \"uid\": \"e01268cc-e37d-11e8-9d8c-a1b30045967f\"}, {\"marker\": {\"color\": \"rgb(255,0,0)\", \"colorscale\": \"Viridis\", \"line\": {\"width\": 2}, \"size\": 12, \"symbol\": 0}, \"mode\": \"markers\", \"name\": \"Student_26\", \"text\": [\"Student_26\"], \"x\": [3], \"y\": [55], \"type\": \"scatter\", \"uid\": \"e0126958-e37d-11e8-9d8c-a1b30045967f\"}, {\"marker\": {\"color\": \"rgb(255,0,0)\", \"colorscale\": \"Viridis\", \"line\": {\"width\": 2}, \"size\": 12, \"symbol\": 0}, \"mode\": \"markers\", \"name\": \"Student_27\", \"text\": [\"Student_27\"], \"x\": [4], \"y\": [59], \"type\": \"scatter\", \"uid\": \"e01269e4-e37d-11e8-9d8c-a1b30045967f\"}, {\"marker\": {\"color\": \"rgb(255,0,0)\", \"colorscale\": \"Viridis\", \"line\": {\"width\": 2}, \"size\": 12, \"symbol\": 0}, \"mode\": \"markers\", \"name\": \"Student_28\", \"text\": [\"Student_28\"], \"x\": [7], \"y\": [68], \"type\": \"scatter\", \"uid\": \"e0126a70-e37d-11e8-9d8c-a1b30045967f\"}, {\"marker\": {\"color\": \"rgb(255,0,0)\", \"colorscale\": \"Viridis\", \"line\": {\"width\": 2}, \"size\": 12, \"symbol\": 0}, \"mode\": \"markers\", \"name\": \"Student_29\", \"text\": [\"Student_29\"], \"x\": [4], \"y\": [66], \"type\": \"scatter\", \"uid\": \"e0126afc-e37d-11e8-9d8c-a1b30045967f\"}, {\"marker\": {\"color\": \"rgb(255,0,0)\", \"colorscale\": \"Viridis\", \"line\": {\"width\": 2}, \"size\": 12, \"symbol\": 0}, \"mode\": \"markers\", \"name\": \"Student_30\", \"text\": [\"Student_30\"], \"x\": [4], \"y\": [53], \"type\": \"scatter\", \"uid\": \"e0126b7e-e37d-11e8-9d8c-a1b30045967f\"}, {\"marker\": {\"color\": \"rgb(0,255,0)\", \"colorscale\": \"Viridis\", \"line\": {\"width\": 2}, \"size\": 12, \"symbol\": 3}, \"mode\": \"markers\", \"name\": \"Student_31\", \"text\": [\"Student_31\"], \"x\": [1], \"y\": [44], \"type\": \"scatter\", \"uid\": \"e0126c0a-e37d-11e8-9d8c-a1b30045967f\"}, {\"marker\": {\"color\": \"rgb(0,255,0)\", \"colorscale\": \"Viridis\", \"line\": {\"width\": 2}, \"size\": 12, \"symbol\": 3}, \"mode\": \"markers\", \"name\": \"Student_32\", \"text\": [\"Student_32\"], \"x\": [1], \"y\": [42], \"type\": \"scatter\", \"uid\": \"e0126c8c-e37d-11e8-9d8c-a1b30045967f\"}, {\"marker\": {\"color\": \"rgb(255,0,0)\", \"colorscale\": \"Viridis\", \"line\": {\"width\": 2}, \"size\": 12, \"symbol\": 0}, \"mode\": \"markers\", \"name\": \"Student_33\", \"text\": [\"Student_33\"], \"x\": [2], \"y\": [63], \"type\": \"scatter\", \"uid\": \"e0126d18-e37d-11e8-9d8c-a1b30045967f\"}, {\"marker\": {\"color\": \"rgb(255,255,255)\", \"colorscale\": \"Viridis\", \"line\": {\"width\": 2}, \"size\": 12, \"symbol\": 2}, \"mode\": \"markers\", \"name\": \"Student_34\", \"text\": [\"Student_34\"], \"x\": [0], \"y\": [14], \"type\": \"scatter\", \"uid\": \"e0126da4-e37d-11e8-9d8c-a1b30045967f\"}, {\"marker\": {\"color\": \"rgb(255,0,0)\", \"colorscale\": \"Viridis\", \"line\": {\"width\": 2}, \"size\": 12, \"symbol\": 0}, \"mode\": \"markers\", \"name\": \"Student_35\", \"text\": [\"Student_35\"], \"x\": [1], \"y\": [67], \"type\": \"scatter\", \"uid\": \"e0126e30-e37d-11e8-9d8c-a1b30045967f\"}, {\"marker\": {\"color\": \"rgb(255,0,0)\", \"colorscale\": \"Viridis\", \"line\": {\"width\": 2}, \"size\": 12, \"symbol\": 0}, \"mode\": \"markers\", \"name\": \"Student_36\", \"text\": [\"Student_36\"], \"x\": [4], \"y\": [70], \"type\": \"scatter\", \"uid\": \"e0126eb2-e37d-11e8-9d8c-a1b30045967f\"}, {\"marker\": {\"color\": \"rgb(255,0,0)\", \"colorscale\": \"Viridis\", \"line\": {\"width\": 2}, \"size\": 12, \"symbol\": 0}, \"mode\": \"markers\", \"name\": \"Student_37\", \"text\": [\"Student_37\"], \"x\": [7], \"y\": [58], \"type\": \"scatter\", \"uid\": \"e0126f3e-e37d-11e8-9d8c-a1b30045967f\"}, {\"marker\": {\"color\": \"rgb(255,255,255)\", \"colorscale\": \"Viridis\", \"line\": {\"width\": 2}, \"size\": 12, \"symbol\": 2}, \"mode\": \"markers\", \"name\": \"Student_38\", \"text\": [\"Student_38\"], \"x\": [0], \"y\": [22], \"type\": \"scatter\", \"uid\": \"e0126fc0-e37d-11e8-9d8c-a1b30045967f\"}, {\"marker\": {\"color\": \"rgb(0,255,0)\", \"colorscale\": \"Viridis\", \"line\": {\"width\": 2}, \"size\": 12, \"symbol\": 3}, \"mode\": \"markers\", \"name\": \"Student_39\", \"text\": [\"Student_39\"], \"x\": [0], \"y\": [35], \"type\": \"scatter\", \"uid\": \"e012704c-e37d-11e8-9d8c-a1b30045967f\"}, {\"marker\": {\"color\": \"rgb(0,255,0)\", \"colorscale\": \"Viridis\", \"line\": {\"width\": 2}, \"size\": 12, \"symbol\": 3}, \"mode\": \"markers\", \"name\": \"Student_40\", \"text\": [\"Student_40\"], \"x\": [2], \"y\": [40], \"type\": \"scatter\", \"uid\": \"e01270d8-e37d-11e8-9d8c-a1b30045967f\"}, {\"marker\": {\"color\": \"rgb(0,255,0)\", \"colorscale\": \"Viridis\", \"line\": {\"width\": 2}, \"size\": 12, \"symbol\": 3}, \"mode\": \"markers\", \"name\": \"Student_41\", \"text\": [\"Student_41\"], \"x\": [3], \"y\": [47], \"type\": \"scatter\", \"uid\": \"e012715a-e37d-11e8-9d8c-a1b30045967f\"}, {\"marker\": {\"color\": \"rgb(0,0,255)\", \"colorscale\": \"Viridis\", \"line\": {\"width\": 2}, \"size\": 12, \"symbol\": 1}, \"mode\": \"markers\", \"name\": \"Student_42\", \"text\": [\"Student_42\"], \"x\": [16], \"y\": [75], \"type\": \"scatter\", \"uid\": \"e01271e6-e37d-11e8-9d8c-a1b30045967f\"}, {\"marker\": {\"color\": \"rgb(0,255,0)\", \"colorscale\": \"Viridis\", \"line\": {\"width\": 2}, \"size\": 12, \"symbol\": 3}, \"mode\": \"markers\", \"name\": \"Student_43\", \"text\": [\"Student_43\"], \"x\": [1], \"y\": [35], \"type\": \"scatter\", \"uid\": \"e0127272-e37d-11e8-9d8c-a1b30045967f\"}, {\"marker\": {\"color\": \"rgb(255,0,0)\", \"colorscale\": \"Viridis\", \"line\": {\"width\": 2}, \"size\": 12, \"symbol\": 0}, \"mode\": \"markers\", \"name\": \"Student_44\", \"text\": [\"Student_44\"], \"x\": [11], \"y\": [69], \"type\": \"scatter\", \"uid\": \"e01272fe-e37d-11e8-9d8c-a1b30045967f\"}, {\"marker\": {\"color\": \"rgb(0,0,255)\", \"colorscale\": \"Viridis\", \"line\": {\"width\": 2}, \"size\": 12, \"symbol\": 1}, \"mode\": \"markers\", \"name\": \"Student_45\", \"text\": [\"Student_45\"], \"x\": [6], \"y\": [82], \"type\": \"scatter\", \"uid\": \"e0127380-e37d-11e8-9d8c-a1b30045967f\"}, {\"marker\": {\"color\": \"rgb(0,255,0)\", \"colorscale\": \"Viridis\", \"line\": {\"width\": 2}, \"size\": 12, \"symbol\": 3}, \"mode\": \"markers\", \"name\": \"Student_46\", \"text\": [\"Student_46\"], \"x\": [3], \"y\": [47], \"type\": \"scatter\", \"uid\": \"e012740c-e37d-11e8-9d8c-a1b30045967f\"}, {\"marker\": {\"color\": \"rgb(0,255,0)\", \"colorscale\": \"Viridis\", \"line\": {\"width\": 2}, \"size\": 12, \"symbol\": 3}, \"mode\": \"markers\", \"name\": \"Student_47\", \"text\": [\"Student_47\"], \"x\": [3], \"y\": [34], \"type\": \"scatter\", \"uid\": \"e0127498-e37d-11e8-9d8c-a1b30045967f\"}, {\"marker\": {\"color\": \"rgb(0,255,0)\", \"colorscale\": \"Viridis\", \"line\": {\"width\": 2}, \"size\": 12, \"symbol\": 3}, \"mode\": \"markers\", \"name\": \"Student_48\", \"text\": [\"Student_48\"], \"x\": [2], \"y\": [47], \"type\": \"scatter\", \"uid\": \"e012751a-e37d-11e8-9d8c-a1b30045967f\"}, {\"marker\": {\"color\": \"rgb(255,255,255)\", \"colorscale\": \"Viridis\", \"line\": {\"width\": 2}, \"size\": 12, \"symbol\": 2}, \"mode\": \"markers\", \"name\": \"Student_49\", \"text\": [\"Student_49\"], \"x\": [0], \"y\": [26], \"type\": \"scatter\", \"uid\": \"e01275a6-e37d-11e8-9d8c-a1b30045967f\"}, {\"marker\": {\"color\": \"rgb(0,255,0)\", \"colorscale\": \"Viridis\", \"line\": {\"width\": 2}, \"size\": 12, \"symbol\": 3}, \"mode\": \"markers\", \"name\": \"Student_50\", \"text\": [\"Student_50\"], \"x\": [3], \"y\": [32], \"type\": \"scatter\", \"uid\": \"e0127632-e37d-11e8-9d8c-a1b30045967f\"}, {\"marker\": {\"color\": \"rgb(0,255,0)\", \"colorscale\": \"Viridis\", \"line\": {\"width\": 2}, \"size\": 12, \"symbol\": 3}, \"mode\": \"markers\", \"name\": \"Student_51\", \"text\": [\"Student_51\"], \"x\": [4], \"y\": [57], \"type\": \"scatter\", \"uid\": \"e01276be-e37d-11e8-9d8c-a1b30045967f\"}, {\"marker\": {\"color\": \"rgb(255,0,0)\", \"colorscale\": \"Viridis\", \"line\": {\"width\": 2}, \"size\": 12, \"symbol\": 0}, \"mode\": \"markers\", \"name\": \"Student_52\", \"text\": [\"Student_52\"], \"x\": [5], \"y\": [59], \"type\": \"scatter\", \"uid\": \"e0127740-e37d-11e8-9d8c-a1b30045967f\"}, {\"marker\": {\"color\": \"rgb(255,255,255)\", \"colorscale\": \"Viridis\", \"line\": {\"width\": 2}, \"size\": 12, \"symbol\": 2}, \"mode\": \"markers\", \"name\": \"Student_53\", \"text\": [\"Student_53\"], \"x\": [3], \"y\": [26], \"type\": \"scatter\", \"uid\": \"e01277c2-e37d-11e8-9d8c-a1b30045967f\"}, {\"marker\": {\"color\": \"rgb(0,255,0)\", \"colorscale\": \"Viridis\", \"line\": {\"width\": 2}, \"size\": 12, \"symbol\": 3}, \"mode\": \"markers\", \"name\": \"Student_54\", \"text\": [\"Student_54\"], \"x\": [3], \"y\": [45], \"type\": \"scatter\", \"uid\": \"e012784e-e37d-11e8-9d8c-a1b30045967f\"}, {\"marker\": {\"color\": \"rgb(0,255,0)\", \"colorscale\": \"Viridis\", \"line\": {\"width\": 2}, \"size\": 12, \"symbol\": 3}, \"mode\": \"markers\", \"name\": \"Student_55\", \"text\": [\"Student_55\"], \"x\": [3], \"y\": [42], \"type\": \"scatter\", \"uid\": \"e01278d0-e37d-11e8-9d8c-a1b30045967f\"}, {\"marker\": {\"color\": \"rgb(0,255,0)\", \"colorscale\": \"Viridis\", \"line\": {\"width\": 2}, \"size\": 12, \"symbol\": 3}, \"mode\": \"markers\", \"name\": \"Student_56\", \"text\": [\"Student_56\"], \"x\": [1], \"y\": [44], \"type\": \"scatter\", \"uid\": \"e012795c-e37d-11e8-9d8c-a1b30045967f\"}, {\"marker\": {\"color\": \"rgb(255,255,255)\", \"colorscale\": \"Viridis\", \"line\": {\"width\": 2}, \"size\": 12, \"symbol\": 2}, \"mode\": \"markers\", \"name\": \"Student_57\", \"text\": [\"Student_57\"], \"x\": [1], \"y\": [15], \"type\": \"scatter\", \"uid\": \"e01279de-e37d-11e8-9d8c-a1b30045967f\"}, {\"marker\": {\"color\": \"rgb(0,0,255)\", \"colorscale\": \"Viridis\", \"line\": {\"width\": 2}, \"size\": 12, \"symbol\": 1}, \"mode\": \"markers\", \"name\": \"Student_58\", \"text\": [\"Student_58\"], \"x\": [2], \"y\": [74], \"type\": \"scatter\", \"uid\": \"e0127a60-e37d-11e8-9d8c-a1b30045967f\"}, {\"marker\": {\"color\": \"rgb(255,0,0)\", \"colorscale\": \"Viridis\", \"line\": {\"width\": 2}, \"size\": 12, \"symbol\": 0}, \"mode\": \"markers\", \"name\": \"Student_59\", \"text\": [\"Student_59\"], \"x\": [4], \"y\": [65], \"type\": \"scatter\", \"uid\": \"e0127ae2-e37d-11e8-9d8c-a1b30045967f\"}, {\"marker\": {\"color\": \"rgb(255,255,255)\", \"colorscale\": \"Viridis\", \"line\": {\"width\": 2}, \"size\": 12, \"symbol\": 2}, \"mode\": \"markers\", \"name\": \"Student_60\", \"text\": [\"Student_60\"], \"x\": [1], \"y\": [22], \"type\": \"scatter\", \"uid\": \"e0127b64-e37d-11e8-9d8c-a1b30045967f\"}], {\"hovermode\": \"closest\", \"showlegend\": true, \"title\": \"Notas dos estudantes vs postagens no f\\u00f3rum\", \"xaxis\": {\"autorange\": false, \"fixedrange\": false, \"range\": [0, 41], \"rangemode\": \"normal\", \"showline\": true, \"title\": \"Postagem no f\\u00f3rum\", \"zeroline\": false}, \"yaxis\": {\"autorange\": false, \"fixedrange\": false, \"range\": [0, 97], \"rangemode\": \"normal\", \"showline\": true, \"title\": \"Notas\"}}, {\"showLink\": true, \"linkText\": \"Export to plot.ly\"})});</script>"
      ],
      "text/vnd.plotly.v1+html": [
       "<div id=\"a1b27939-5665-4b9d-bc7a-953e5b981a4d\" style=\"height: 525px; width: 100%;\" class=\"plotly-graph-div\"></div><script type=\"text/javascript\">require([\"plotly\"], function(Plotly) { window.PLOTLYENV=window.PLOTLYENV || {};window.PLOTLYENV.BASE_URL=\"https://plot.ly\";Plotly.newPlot(\"a1b27939-5665-4b9d-bc7a-953e5b981a4d\", [{\"marker\": {\"color\": \"rgb(255,0,0)\", \"colorscale\": \"Viridis\", \"line\": {\"width\": 2}, \"size\": 12, \"symbol\": 0}, \"mode\": \"markers\", \"name\": \"Student_1\", \"text\": [\"Student_1\"], \"x\": [7], \"y\": [56], \"type\": \"scatter\", \"uid\": \"e01259c2-e37d-11e8-9d8c-a1b30045967f\"}, {\"marker\": {\"color\": \"rgb(0,255,0)\", \"colorscale\": \"Viridis\", \"line\": {\"width\": 2}, \"size\": 12, \"symbol\": 3}, \"mode\": \"markers\", \"name\": \"Student_2\", \"text\": [\"Student_2\"], \"x\": [1], \"y\": [47], \"type\": \"scatter\", \"uid\": \"e0125b5c-e37d-11e8-9d8c-a1b30045967f\"}, {\"marker\": {\"color\": \"rgb(0,255,0)\", \"colorscale\": \"Viridis\", \"line\": {\"width\": 2}, \"size\": 12, \"symbol\": 3}, \"mode\": \"markers\", \"name\": \"Student_3\", \"text\": [\"Student_3\"], \"x\": [0], \"y\": [38], \"type\": \"scatter\", \"uid\": \"e0125c2e-e37d-11e8-9d8c-a1b30045967f\"}, {\"marker\": {\"color\": \"rgb(0,255,0)\", \"colorscale\": \"Viridis\", \"line\": {\"width\": 2}, \"size\": 12, \"symbol\": 3}, \"mode\": \"markers\", \"name\": \"Student_4\", \"text\": [\"Student_4\"], \"x\": [0], \"y\": [44], \"type\": \"scatter\", \"uid\": \"e0125cce-e37d-11e8-9d8c-a1b30045967f\"}, {\"marker\": {\"color\": \"rgb(255,255,255)\", \"colorscale\": \"Viridis\", \"line\": {\"width\": 2}, \"size\": 12, \"symbol\": 2}, \"mode\": \"markers\", \"name\": \"Student_5\", \"text\": [\"Student_5\"], \"x\": [1], \"y\": [17], \"type\": \"scatter\", \"uid\": \"e0125d64-e37d-11e8-9d8c-a1b30045967f\"}, {\"marker\": {\"color\": \"rgb(0,255,0)\", \"colorscale\": \"Viridis\", \"line\": {\"width\": 2}, \"size\": 12, \"symbol\": 3}, \"mode\": \"markers\", \"name\": \"Student_6\", \"text\": [\"Student_6\"], \"x\": [1], \"y\": [44], \"type\": \"scatter\", \"uid\": \"e0125dfa-e37d-11e8-9d8c-a1b30045967f\"}, {\"marker\": {\"color\": \"rgb(0,0,255)\", \"colorscale\": \"Viridis\", \"line\": {\"width\": 2}, \"size\": 12, \"symbol\": 1}, \"mode\": \"markers\", \"name\": \"Student_7\", \"text\": [\"Student_7\"], \"x\": [31], \"y\": [87], \"type\": \"scatter\", \"uid\": \"e0125e86-e37d-11e8-9d8c-a1b30045967f\"}, {\"marker\": {\"color\": \"rgb(255,0,0)\", \"colorscale\": \"Viridis\", \"line\": {\"width\": 2}, \"size\": 12, \"symbol\": 0}, \"mode\": \"markers\", \"name\": \"Student_8\", \"text\": [\"Student_8\"], \"x\": [10], \"y\": [63], \"type\": \"scatter\", \"uid\": \"e0125f12-e37d-11e8-9d8c-a1b30045967f\"}, {\"marker\": {\"color\": \"rgb(0,255,0)\", \"colorscale\": \"Viridis\", \"line\": {\"width\": 2}, \"size\": 12, \"symbol\": 3}, \"mode\": \"markers\", \"name\": \"Student_9\", \"text\": [\"Student_9\"], \"x\": [1], \"y\": [36], \"type\": \"scatter\", \"uid\": \"e0125fa8-e37d-11e8-9d8c-a1b30045967f\"}, {\"marker\": {\"color\": \"rgb(255,0,0)\", \"colorscale\": \"Viridis\", \"line\": {\"width\": 2}, \"size\": 12, \"symbol\": 0}, \"mode\": \"markers\", \"name\": \"Student_10\", \"text\": [\"Student_10\"], \"x\": [5], \"y\": [54], \"type\": \"scatter\", \"uid\": \"e012603e-e37d-11e8-9d8c-a1b30045967f\"}, {\"marker\": {\"color\": \"rgb(0,255,0)\", \"colorscale\": \"Viridis\", \"line\": {\"width\": 2}, \"size\": 12, \"symbol\": 3}, \"mode\": \"markers\", \"name\": \"Student_11\", \"text\": [\"Student_11\"], \"x\": [1], \"y\": [49], \"type\": \"scatter\", \"uid\": \"e01260ca-e37d-11e8-9d8c-a1b30045967f\"}, {\"marker\": {\"color\": \"rgb(0,255,0)\", \"colorscale\": \"Viridis\", \"line\": {\"width\": 2}, \"size\": 12, \"symbol\": 3}, \"mode\": \"markers\", \"name\": \"Student_12\", \"text\": [\"Student_12\"], \"x\": [2], \"y\": [47], \"type\": \"scatter\", \"uid\": \"e0126160-e37d-11e8-9d8c-a1b30045967f\"}, {\"marker\": {\"color\": \"rgb(255,0,0)\", \"colorscale\": \"Viridis\", \"line\": {\"width\": 2}, \"size\": 12, \"symbol\": 0}, \"mode\": \"markers\", \"name\": \"Student_13\", \"text\": [\"Student_13\"], \"x\": [10], \"y\": [70], \"type\": \"scatter\", \"uid\": \"e01261f6-e37d-11e8-9d8c-a1b30045967f\"}, {\"marker\": {\"color\": \"rgb(0,255,0)\", \"colorscale\": \"Viridis\", \"line\": {\"width\": 2}, \"size\": 12, \"symbol\": 3}, \"mode\": \"markers\", \"name\": \"Student_14\", \"text\": [\"Student_14\"], \"x\": [1], \"y\": [46], \"type\": \"scatter\", \"uid\": \"e0126282-e37d-11e8-9d8c-a1b30045967f\"}, {\"marker\": {\"color\": \"rgb(0,255,0)\", \"colorscale\": \"Viridis\", \"line\": {\"width\": 2}, \"size\": 12, \"symbol\": 3}, \"mode\": \"markers\", \"name\": \"Student_15\", \"text\": [\"Student_15\"], \"x\": [2], \"y\": [47], \"type\": \"scatter\", \"uid\": \"e012630e-e37d-11e8-9d8c-a1b30045967f\"}, {\"marker\": {\"color\": \"rgb(0,0,255)\", \"colorscale\": \"Viridis\", \"line\": {\"width\": 2}, \"size\": 12, \"symbol\": 1}, \"mode\": \"markers\", \"name\": \"Student_16\", \"text\": [\"Student_16\"], \"x\": [14], \"y\": [76], \"type\": \"scatter\", \"uid\": \"e012639a-e37d-11e8-9d8c-a1b30045967f\"}, {\"marker\": {\"color\": \"rgb(0,255,0)\", \"colorscale\": \"Viridis\", \"line\": {\"width\": 2}, \"size\": 12, \"symbol\": 3}, \"mode\": \"markers\", \"name\": \"Student_17\", \"text\": [\"Student_17\"], \"x\": [1], \"y\": [44], \"type\": \"scatter\", \"uid\": \"e0126426-e37d-11e8-9d8c-a1b30045967f\"}, {\"marker\": {\"color\": \"rgb(255,0,0)\", \"colorscale\": \"Viridis\", \"line\": {\"width\": 2}, \"size\": 12, \"symbol\": 0}, \"mode\": \"markers\", \"name\": \"Student_18\", \"text\": [\"Student_18\"], \"x\": [10], \"y\": [66], \"type\": \"scatter\", \"uid\": \"e01264b2-e37d-11e8-9d8c-a1b30045967f\"}, {\"marker\": {\"color\": \"rgb(0,0,255)\", \"colorscale\": \"Viridis\", \"line\": {\"width\": 2}, \"size\": 12, \"symbol\": 1}, \"mode\": \"markers\", \"name\": \"Student_19\", \"text\": [\"Student_19\"], \"x\": [5], \"y\": [79], \"type\": \"scatter\", \"uid\": \"e012653e-e37d-11e8-9d8c-a1b30045967f\"}, {\"marker\": {\"color\": \"rgb(0,255,0)\", \"colorscale\": \"Viridis\", \"line\": {\"width\": 2}, \"size\": 12, \"symbol\": 3}, \"mode\": \"markers\", \"name\": \"Student_20\", \"text\": [\"Student_20\"], \"x\": [3], \"y\": [45], \"type\": \"scatter\", \"uid\": \"e01265fc-e37d-11e8-9d8c-a1b30045967f\"}, {\"marker\": {\"color\": \"rgb(0,0,255)\", \"colorscale\": \"Viridis\", \"line\": {\"width\": 2}, \"size\": 12, \"symbol\": 1}, \"mode\": \"markers\", \"name\": \"Student_21\", \"text\": [\"Student_21\"], \"x\": [19], \"y\": [71], \"type\": \"scatter\", \"uid\": \"e012669c-e37d-11e8-9d8c-a1b30045967f\"}, {\"marker\": {\"color\": \"rgb(0,255,0)\", \"colorscale\": \"Viridis\", \"line\": {\"width\": 2}, \"size\": 12, \"symbol\": 3}, \"mode\": \"markers\", \"name\": \"Student_22\", \"text\": [\"Student_22\"], \"x\": [0], \"y\": [50], \"type\": \"scatter\", \"uid\": \"e0126728-e37d-11e8-9d8c-a1b30045967f\"}, {\"marker\": {\"color\": \"rgb(255,0,0)\", \"colorscale\": \"Viridis\", \"line\": {\"width\": 2}, \"size\": 12, \"symbol\": 0}, \"mode\": \"markers\", \"name\": \"Student_23\", \"text\": [\"Student_23\"], \"x\": [3], \"y\": [66], \"type\": \"scatter\", \"uid\": \"e01267b4-e37d-11e8-9d8c-a1b30045967f\"}, {\"marker\": {\"color\": \"rgb(0,255,0)\", \"colorscale\": \"Viridis\", \"line\": {\"width\": 2}, \"size\": 12, \"symbol\": 3}, \"mode\": \"markers\", \"name\": \"Student_24\", \"text\": [\"Student_24\"], \"x\": [2], \"y\": [38], \"type\": \"scatter\", \"uid\": \"e0126840-e37d-11e8-9d8c-a1b30045967f\"}, {\"marker\": {\"color\": \"rgb(0,255,0)\", \"colorscale\": \"Viridis\", \"line\": {\"width\": 2}, \"size\": 12, \"symbol\": 3}, \"mode\": \"markers\", \"name\": \"Student_25\", \"text\": [\"Student_25\"], \"x\": [1], \"y\": [34], \"type\": \"scatter\", \"uid\": \"e01268cc-e37d-11e8-9d8c-a1b30045967f\"}, {\"marker\": {\"color\": \"rgb(255,0,0)\", \"colorscale\": \"Viridis\", \"line\": {\"width\": 2}, \"size\": 12, \"symbol\": 0}, \"mode\": \"markers\", \"name\": \"Student_26\", \"text\": [\"Student_26\"], \"x\": [3], \"y\": [55], \"type\": \"scatter\", \"uid\": \"e0126958-e37d-11e8-9d8c-a1b30045967f\"}, {\"marker\": {\"color\": \"rgb(255,0,0)\", \"colorscale\": \"Viridis\", \"line\": {\"width\": 2}, \"size\": 12, \"symbol\": 0}, \"mode\": \"markers\", \"name\": \"Student_27\", \"text\": [\"Student_27\"], \"x\": [4], \"y\": [59], \"type\": \"scatter\", \"uid\": \"e01269e4-e37d-11e8-9d8c-a1b30045967f\"}, {\"marker\": {\"color\": \"rgb(255,0,0)\", \"colorscale\": \"Viridis\", \"line\": {\"width\": 2}, \"size\": 12, \"symbol\": 0}, \"mode\": \"markers\", \"name\": \"Student_28\", \"text\": [\"Student_28\"], \"x\": [7], \"y\": [68], \"type\": \"scatter\", \"uid\": \"e0126a70-e37d-11e8-9d8c-a1b30045967f\"}, {\"marker\": {\"color\": \"rgb(255,0,0)\", \"colorscale\": \"Viridis\", \"line\": {\"width\": 2}, \"size\": 12, \"symbol\": 0}, \"mode\": \"markers\", \"name\": \"Student_29\", \"text\": [\"Student_29\"], \"x\": [4], \"y\": [66], \"type\": \"scatter\", \"uid\": \"e0126afc-e37d-11e8-9d8c-a1b30045967f\"}, {\"marker\": {\"color\": \"rgb(255,0,0)\", \"colorscale\": \"Viridis\", \"line\": {\"width\": 2}, \"size\": 12, \"symbol\": 0}, \"mode\": \"markers\", \"name\": \"Student_30\", \"text\": [\"Student_30\"], \"x\": [4], \"y\": [53], \"type\": \"scatter\", \"uid\": \"e0126b7e-e37d-11e8-9d8c-a1b30045967f\"}, {\"marker\": {\"color\": \"rgb(0,255,0)\", \"colorscale\": \"Viridis\", \"line\": {\"width\": 2}, \"size\": 12, \"symbol\": 3}, \"mode\": \"markers\", \"name\": \"Student_31\", \"text\": [\"Student_31\"], \"x\": [1], \"y\": [44], \"type\": \"scatter\", \"uid\": \"e0126c0a-e37d-11e8-9d8c-a1b30045967f\"}, {\"marker\": {\"color\": \"rgb(0,255,0)\", \"colorscale\": \"Viridis\", \"line\": {\"width\": 2}, \"size\": 12, \"symbol\": 3}, \"mode\": \"markers\", \"name\": \"Student_32\", \"text\": [\"Student_32\"], \"x\": [1], \"y\": [42], \"type\": \"scatter\", \"uid\": \"e0126c8c-e37d-11e8-9d8c-a1b30045967f\"}, {\"marker\": {\"color\": \"rgb(255,0,0)\", \"colorscale\": \"Viridis\", \"line\": {\"width\": 2}, \"size\": 12, \"symbol\": 0}, \"mode\": \"markers\", \"name\": \"Student_33\", \"text\": [\"Student_33\"], \"x\": [2], \"y\": [63], \"type\": \"scatter\", \"uid\": \"e0126d18-e37d-11e8-9d8c-a1b30045967f\"}, {\"marker\": {\"color\": \"rgb(255,255,255)\", \"colorscale\": \"Viridis\", \"line\": {\"width\": 2}, \"size\": 12, \"symbol\": 2}, \"mode\": \"markers\", \"name\": \"Student_34\", \"text\": [\"Student_34\"], \"x\": [0], \"y\": [14], \"type\": \"scatter\", \"uid\": \"e0126da4-e37d-11e8-9d8c-a1b30045967f\"}, {\"marker\": {\"color\": \"rgb(255,0,0)\", \"colorscale\": \"Viridis\", \"line\": {\"width\": 2}, \"size\": 12, \"symbol\": 0}, \"mode\": \"markers\", \"name\": \"Student_35\", \"text\": [\"Student_35\"], \"x\": [1], \"y\": [67], \"type\": \"scatter\", \"uid\": \"e0126e30-e37d-11e8-9d8c-a1b30045967f\"}, {\"marker\": {\"color\": \"rgb(255,0,0)\", \"colorscale\": \"Viridis\", \"line\": {\"width\": 2}, \"size\": 12, \"symbol\": 0}, \"mode\": \"markers\", \"name\": \"Student_36\", \"text\": [\"Student_36\"], \"x\": [4], \"y\": [70], \"type\": \"scatter\", \"uid\": \"e0126eb2-e37d-11e8-9d8c-a1b30045967f\"}, {\"marker\": {\"color\": \"rgb(255,0,0)\", \"colorscale\": \"Viridis\", \"line\": {\"width\": 2}, \"size\": 12, \"symbol\": 0}, \"mode\": \"markers\", \"name\": \"Student_37\", \"text\": [\"Student_37\"], \"x\": [7], \"y\": [58], \"type\": \"scatter\", \"uid\": \"e0126f3e-e37d-11e8-9d8c-a1b30045967f\"}, {\"marker\": {\"color\": \"rgb(255,255,255)\", \"colorscale\": \"Viridis\", \"line\": {\"width\": 2}, \"size\": 12, \"symbol\": 2}, \"mode\": \"markers\", \"name\": \"Student_38\", \"text\": [\"Student_38\"], \"x\": [0], \"y\": [22], \"type\": \"scatter\", \"uid\": \"e0126fc0-e37d-11e8-9d8c-a1b30045967f\"}, {\"marker\": {\"color\": \"rgb(0,255,0)\", \"colorscale\": \"Viridis\", \"line\": {\"width\": 2}, \"size\": 12, \"symbol\": 3}, \"mode\": \"markers\", \"name\": \"Student_39\", \"text\": [\"Student_39\"], \"x\": [0], \"y\": [35], \"type\": \"scatter\", \"uid\": \"e012704c-e37d-11e8-9d8c-a1b30045967f\"}, {\"marker\": {\"color\": \"rgb(0,255,0)\", \"colorscale\": \"Viridis\", \"line\": {\"width\": 2}, \"size\": 12, \"symbol\": 3}, \"mode\": \"markers\", \"name\": \"Student_40\", \"text\": [\"Student_40\"], \"x\": [2], \"y\": [40], \"type\": \"scatter\", \"uid\": \"e01270d8-e37d-11e8-9d8c-a1b30045967f\"}, {\"marker\": {\"color\": \"rgb(0,255,0)\", \"colorscale\": \"Viridis\", \"line\": {\"width\": 2}, \"size\": 12, \"symbol\": 3}, \"mode\": \"markers\", \"name\": \"Student_41\", \"text\": [\"Student_41\"], \"x\": [3], \"y\": [47], \"type\": \"scatter\", \"uid\": \"e012715a-e37d-11e8-9d8c-a1b30045967f\"}, {\"marker\": {\"color\": \"rgb(0,0,255)\", \"colorscale\": \"Viridis\", \"line\": {\"width\": 2}, \"size\": 12, \"symbol\": 1}, \"mode\": \"markers\", \"name\": \"Student_42\", \"text\": [\"Student_42\"], \"x\": [16], \"y\": [75], \"type\": \"scatter\", \"uid\": \"e01271e6-e37d-11e8-9d8c-a1b30045967f\"}, {\"marker\": {\"color\": \"rgb(0,255,0)\", \"colorscale\": \"Viridis\", \"line\": {\"width\": 2}, \"size\": 12, \"symbol\": 3}, \"mode\": \"markers\", \"name\": \"Student_43\", \"text\": [\"Student_43\"], \"x\": [1], \"y\": [35], \"type\": \"scatter\", \"uid\": \"e0127272-e37d-11e8-9d8c-a1b30045967f\"}, {\"marker\": {\"color\": \"rgb(255,0,0)\", \"colorscale\": \"Viridis\", \"line\": {\"width\": 2}, \"size\": 12, \"symbol\": 0}, \"mode\": \"markers\", \"name\": \"Student_44\", \"text\": [\"Student_44\"], \"x\": [11], \"y\": [69], \"type\": \"scatter\", \"uid\": \"e01272fe-e37d-11e8-9d8c-a1b30045967f\"}, {\"marker\": {\"color\": \"rgb(0,0,255)\", \"colorscale\": \"Viridis\", \"line\": {\"width\": 2}, \"size\": 12, \"symbol\": 1}, \"mode\": \"markers\", \"name\": \"Student_45\", \"text\": [\"Student_45\"], \"x\": [6], \"y\": [82], \"type\": \"scatter\", \"uid\": \"e0127380-e37d-11e8-9d8c-a1b30045967f\"}, {\"marker\": {\"color\": \"rgb(0,255,0)\", \"colorscale\": \"Viridis\", \"line\": {\"width\": 2}, \"size\": 12, \"symbol\": 3}, \"mode\": \"markers\", \"name\": \"Student_46\", \"text\": [\"Student_46\"], \"x\": [3], \"y\": [47], \"type\": \"scatter\", \"uid\": \"e012740c-e37d-11e8-9d8c-a1b30045967f\"}, {\"marker\": {\"color\": \"rgb(0,255,0)\", \"colorscale\": \"Viridis\", \"line\": {\"width\": 2}, \"size\": 12, \"symbol\": 3}, \"mode\": \"markers\", \"name\": \"Student_47\", \"text\": [\"Student_47\"], \"x\": [3], \"y\": [34], \"type\": \"scatter\", \"uid\": \"e0127498-e37d-11e8-9d8c-a1b30045967f\"}, {\"marker\": {\"color\": \"rgb(0,255,0)\", \"colorscale\": \"Viridis\", \"line\": {\"width\": 2}, \"size\": 12, \"symbol\": 3}, \"mode\": \"markers\", \"name\": \"Student_48\", \"text\": [\"Student_48\"], \"x\": [2], \"y\": [47], \"type\": \"scatter\", \"uid\": \"e012751a-e37d-11e8-9d8c-a1b30045967f\"}, {\"marker\": {\"color\": \"rgb(255,255,255)\", \"colorscale\": \"Viridis\", \"line\": {\"width\": 2}, \"size\": 12, \"symbol\": 2}, \"mode\": \"markers\", \"name\": \"Student_49\", \"text\": [\"Student_49\"], \"x\": [0], \"y\": [26], \"type\": \"scatter\", \"uid\": \"e01275a6-e37d-11e8-9d8c-a1b30045967f\"}, {\"marker\": {\"color\": \"rgb(0,255,0)\", \"colorscale\": \"Viridis\", \"line\": {\"width\": 2}, \"size\": 12, \"symbol\": 3}, \"mode\": \"markers\", \"name\": \"Student_50\", \"text\": [\"Student_50\"], \"x\": [3], \"y\": [32], \"type\": \"scatter\", \"uid\": \"e0127632-e37d-11e8-9d8c-a1b30045967f\"}, {\"marker\": {\"color\": \"rgb(0,255,0)\", \"colorscale\": \"Viridis\", \"line\": {\"width\": 2}, \"size\": 12, \"symbol\": 3}, \"mode\": \"markers\", \"name\": \"Student_51\", \"text\": [\"Student_51\"], \"x\": [4], \"y\": [57], \"type\": \"scatter\", \"uid\": \"e01276be-e37d-11e8-9d8c-a1b30045967f\"}, {\"marker\": {\"color\": \"rgb(255,0,0)\", \"colorscale\": \"Viridis\", \"line\": {\"width\": 2}, \"size\": 12, \"symbol\": 0}, \"mode\": \"markers\", \"name\": \"Student_52\", \"text\": [\"Student_52\"], \"x\": [5], \"y\": [59], \"type\": \"scatter\", \"uid\": \"e0127740-e37d-11e8-9d8c-a1b30045967f\"}, {\"marker\": {\"color\": \"rgb(255,255,255)\", \"colorscale\": \"Viridis\", \"line\": {\"width\": 2}, \"size\": 12, \"symbol\": 2}, \"mode\": \"markers\", \"name\": \"Student_53\", \"text\": [\"Student_53\"], \"x\": [3], \"y\": [26], \"type\": \"scatter\", \"uid\": \"e01277c2-e37d-11e8-9d8c-a1b30045967f\"}, {\"marker\": {\"color\": \"rgb(0,255,0)\", \"colorscale\": \"Viridis\", \"line\": {\"width\": 2}, \"size\": 12, \"symbol\": 3}, \"mode\": \"markers\", \"name\": \"Student_54\", \"text\": [\"Student_54\"], \"x\": [3], \"y\": [45], \"type\": \"scatter\", \"uid\": \"e012784e-e37d-11e8-9d8c-a1b30045967f\"}, {\"marker\": {\"color\": \"rgb(0,255,0)\", \"colorscale\": \"Viridis\", \"line\": {\"width\": 2}, \"size\": 12, \"symbol\": 3}, \"mode\": \"markers\", \"name\": \"Student_55\", \"text\": [\"Student_55\"], \"x\": [3], \"y\": [42], \"type\": \"scatter\", \"uid\": \"e01278d0-e37d-11e8-9d8c-a1b30045967f\"}, {\"marker\": {\"color\": \"rgb(0,255,0)\", \"colorscale\": \"Viridis\", \"line\": {\"width\": 2}, \"size\": 12, \"symbol\": 3}, \"mode\": \"markers\", \"name\": \"Student_56\", \"text\": [\"Student_56\"], \"x\": [1], \"y\": [44], \"type\": \"scatter\", \"uid\": \"e012795c-e37d-11e8-9d8c-a1b30045967f\"}, {\"marker\": {\"color\": \"rgb(255,255,255)\", \"colorscale\": \"Viridis\", \"line\": {\"width\": 2}, \"size\": 12, \"symbol\": 2}, \"mode\": \"markers\", \"name\": \"Student_57\", \"text\": [\"Student_57\"], \"x\": [1], \"y\": [15], \"type\": \"scatter\", \"uid\": \"e01279de-e37d-11e8-9d8c-a1b30045967f\"}, {\"marker\": {\"color\": \"rgb(0,0,255)\", \"colorscale\": \"Viridis\", \"line\": {\"width\": 2}, \"size\": 12, \"symbol\": 1}, \"mode\": \"markers\", \"name\": \"Student_58\", \"text\": [\"Student_58\"], \"x\": [2], \"y\": [74], \"type\": \"scatter\", \"uid\": \"e0127a60-e37d-11e8-9d8c-a1b30045967f\"}, {\"marker\": {\"color\": \"rgb(255,0,0)\", \"colorscale\": \"Viridis\", \"line\": {\"width\": 2}, \"size\": 12, \"symbol\": 0}, \"mode\": \"markers\", \"name\": \"Student_59\", \"text\": [\"Student_59\"], \"x\": [4], \"y\": [65], \"type\": \"scatter\", \"uid\": \"e0127ae2-e37d-11e8-9d8c-a1b30045967f\"}, {\"marker\": {\"color\": \"rgb(255,255,255)\", \"colorscale\": \"Viridis\", \"line\": {\"width\": 2}, \"size\": 12, \"symbol\": 2}, \"mode\": \"markers\", \"name\": \"Student_60\", \"text\": [\"Student_60\"], \"x\": [1], \"y\": [22], \"type\": \"scatter\", \"uid\": \"e0127b64-e37d-11e8-9d8c-a1b30045967f\"}], {\"hovermode\": \"closest\", \"showlegend\": true, \"title\": \"Notas dos estudantes vs postagens no f\\u00f3rum\", \"xaxis\": {\"autorange\": false, \"fixedrange\": false, \"range\": [0, 41], \"rangemode\": \"normal\", \"showline\": true, \"title\": \"Postagem no f\\u00f3rum\", \"zeroline\": false}, \"yaxis\": {\"autorange\": false, \"fixedrange\": false, \"range\": [0, 97], \"rangemode\": \"normal\", \"showline\": true, \"title\": \"Notas\"}}, {\"showLink\": true, \"linkText\": \"Export to plot.ly\"})});</script>"
      ]
     },
     "metadata": {},
     "output_type": "display_data"
    },
    {
     "data": {
      "application/vnd.plotly.v1+json": {
       "data": [
        {
         "marker": {
          "color": "rgb(255,0,0)",
          "colorscale": "Viridis",
          "line": {
           "width": 2
          },
          "size": 12,
          "symbol": 0
         },
         "mode": "markers",
         "name": "Student_1",
         "text": [
          "Student_1"
         ],
         "type": "scatter",
         "uid": "e056429a-e37d-11e8-9d8c-a1b30045967f",
         "x": [
          5
         ],
         "y": [
          56
         ]
        },
        {
         "marker": {
          "color": "rgb(0,255,0)",
          "colorscale": "Viridis",
          "line": {
           "width": 2
          },
          "size": 12,
          "symbol": 3
         },
         "mode": "markers",
         "name": "Student_2",
         "text": [
          "Student_2"
         ],
         "type": "scatter",
         "uid": "e0564448-e37d-11e8-9d8c-a1b30045967f",
         "x": [
          2
         ],
         "y": [
          47
         ]
        },
        {
         "marker": {
          "color": "rgb(0,255,0)",
          "colorscale": "Viridis",
          "line": {
           "width": 2
          },
          "size": 12,
          "symbol": 3
         },
         "mode": "markers",
         "name": "Student_3",
         "text": [
          "Student_3"
         ],
         "type": "scatter",
         "uid": "e056451a-e37d-11e8-9d8c-a1b30045967f",
         "x": [
          3
         ],
         "y": [
          38
         ]
        },
        {
         "marker": {
          "color": "rgb(0,255,0)",
          "colorscale": "Viridis",
          "line": {
           "width": 2
          },
          "size": 12,
          "symbol": 3
         },
         "mode": "markers",
         "name": "Student_4",
         "text": [
          "Student_4"
         ],
         "type": "scatter",
         "uid": "e05645c4-e37d-11e8-9d8c-a1b30045967f",
         "x": [
          1
         ],
         "y": [
          44
         ]
        },
        {
         "marker": {
          "color": "rgb(255,255,255)",
          "colorscale": "Viridis",
          "line": {
           "width": 2
          },
          "size": 12,
          "symbol": 2
         },
         "mode": "markers",
         "name": "Student_5",
         "text": [
          "Student_5"
         ],
         "type": "scatter",
         "uid": "e056465a-e37d-11e8-9d8c-a1b30045967f",
         "x": [
          1
         ],
         "y": [
          17
         ]
        },
        {
         "marker": {
          "color": "rgb(0,255,0)",
          "colorscale": "Viridis",
          "line": {
           "width": 2
          },
          "size": 12,
          "symbol": 3
         },
         "mode": "markers",
         "name": "Student_6",
         "text": [
          "Student_6"
         ],
         "type": "scatter",
         "uid": "e05646f0-e37d-11e8-9d8c-a1b30045967f",
         "x": [
          2
         ],
         "y": [
          44
         ]
        },
        {
         "marker": {
          "color": "rgb(0,0,255)",
          "colorscale": "Viridis",
          "line": {
           "width": 2
          },
          "size": 12,
          "symbol": 1
         },
         "mode": "markers",
         "name": "Student_7",
         "text": [
          "Student_7"
         ],
         "type": "scatter",
         "uid": "e056477c-e37d-11e8-9d8c-a1b30045967f",
         "x": [
          24
         ],
         "y": [
          87
         ]
        },
        {
         "marker": {
          "color": "rgb(255,0,0)",
          "colorscale": "Viridis",
          "line": {
           "width": 2
          },
          "size": 12,
          "symbol": 0
         },
         "mode": "markers",
         "name": "Student_8",
         "text": [
          "Student_8"
         ],
         "type": "scatter",
         "uid": "e0564812-e37d-11e8-9d8c-a1b30045967f",
         "x": [
          3
         ],
         "y": [
          63
         ]
        },
        {
         "marker": {
          "color": "rgb(0,255,0)",
          "colorscale": "Viridis",
          "line": {
           "width": 2
          },
          "size": 12,
          "symbol": 3
         },
         "mode": "markers",
         "name": "Student_9",
         "text": [
          "Student_9"
         ],
         "type": "scatter",
         "uid": "e056489e-e37d-11e8-9d8c-a1b30045967f",
         "x": [
          0
         ],
         "y": [
          36
         ]
        },
        {
         "marker": {
          "color": "rgb(255,0,0)",
          "colorscale": "Viridis",
          "line": {
           "width": 2
          },
          "size": 12,
          "symbol": 0
         },
         "mode": "markers",
         "name": "Student_10",
         "text": [
          "Student_10"
         ],
         "type": "scatter",
         "uid": "e056492a-e37d-11e8-9d8c-a1b30045967f",
         "x": [
          2
         ],
         "y": [
          54
         ]
        },
        {
         "marker": {
          "color": "rgb(0,255,0)",
          "colorscale": "Viridis",
          "line": {
           "width": 2
          },
          "size": 12,
          "symbol": 3
         },
         "mode": "markers",
         "name": "Student_11",
         "text": [
          "Student_11"
         ],
         "type": "scatter",
         "uid": "e05649b6-e37d-11e8-9d8c-a1b30045967f",
         "x": [
          0
         ],
         "y": [
          49
         ]
        },
        {
         "marker": {
          "color": "rgb(0,255,0)",
          "colorscale": "Viridis",
          "line": {
           "width": 2
          },
          "size": 12,
          "symbol": 3
         },
         "mode": "markers",
         "name": "Student_12",
         "text": [
          "Student_12"
         ],
         "type": "scatter",
         "uid": "e0564a38-e37d-11e8-9d8c-a1b30045967f",
         "x": [
          1
         ],
         "y": [
          47
         ]
        },
        {
         "marker": {
          "color": "rgb(255,0,0)",
          "colorscale": "Viridis",
          "line": {
           "width": 2
          },
          "size": 12,
          "symbol": 0
         },
         "mode": "markers",
         "name": "Student_13",
         "text": [
          "Student_13"
         ],
         "type": "scatter",
         "uid": "e0564ac4-e37d-11e8-9d8c-a1b30045967f",
         "x": [
          1
         ],
         "y": [
          70
         ]
        },
        {
         "marker": {
          "color": "rgb(0,255,0)",
          "colorscale": "Viridis",
          "line": {
           "width": 2
          },
          "size": 12,
          "symbol": 3
         },
         "mode": "markers",
         "name": "Student_14",
         "text": [
          "Student_14"
         ],
         "type": "scatter",
         "uid": "e0564be6-e37d-11e8-9d8c-a1b30045967f",
         "x": [
          0
         ],
         "y": [
          46
         ]
        },
        {
         "marker": {
          "color": "rgb(0,255,0)",
          "colorscale": "Viridis",
          "line": {
           "width": 2
          },
          "size": 12,
          "symbol": 3
         },
         "mode": "markers",
         "name": "Student_15",
         "text": [
          "Student_15"
         ],
         "type": "scatter",
         "uid": "e0564c68-e37d-11e8-9d8c-a1b30045967f",
         "x": [
          0
         ],
         "y": [
          47
         ]
        },
        {
         "marker": {
          "color": "rgb(0,0,255)",
          "colorscale": "Viridis",
          "line": {
           "width": 2
          },
          "size": 12,
          "symbol": 1
         },
         "mode": "markers",
         "name": "Student_16",
         "text": [
          "Student_16"
         ],
         "type": "scatter",
         "uid": "e0564cf4-e37d-11e8-9d8c-a1b30045967f",
         "x": [
          14
         ],
         "y": [
          76
         ]
        },
        {
         "marker": {
          "color": "rgb(0,255,0)",
          "colorscale": "Viridis",
          "line": {
           "width": 2
          },
          "size": 12,
          "symbol": 3
         },
         "mode": "markers",
         "name": "Student_17",
         "text": [
          "Student_17"
         ],
         "type": "scatter",
         "uid": "e0564d76-e37d-11e8-9d8c-a1b30045967f",
         "x": [
          3
         ],
         "y": [
          44
         ]
        },
        {
         "marker": {
          "color": "rgb(255,0,0)",
          "colorscale": "Viridis",
          "line": {
           "width": 2
          },
          "size": 12,
          "symbol": 0
         },
         "mode": "markers",
         "name": "Student_18",
         "text": [
          "Student_18"
         ],
         "type": "scatter",
         "uid": "e0564df8-e37d-11e8-9d8c-a1b30045967f",
         "x": [
          7
         ],
         "y": [
          66
         ]
        },
        {
         "marker": {
          "color": "rgb(0,0,255)",
          "colorscale": "Viridis",
          "line": {
           "width": 2
          },
          "size": 12,
          "symbol": 1
         },
         "mode": "markers",
         "name": "Student_19",
         "text": [
          "Student_19"
         ],
         "type": "scatter",
         "uid": "e0564e7a-e37d-11e8-9d8c-a1b30045967f",
         "x": [
          20
         ],
         "y": [
          79
         ]
        },
        {
         "marker": {
          "color": "rgb(0,255,0)",
          "colorscale": "Viridis",
          "line": {
           "width": 2
          },
          "size": 12,
          "symbol": 3
         },
         "mode": "markers",
         "name": "Student_20",
         "text": [
          "Student_20"
         ],
         "type": "scatter",
         "uid": "e0564efc-e37d-11e8-9d8c-a1b30045967f",
         "x": [
          3
         ],
         "y": [
          45
         ]
        },
        {
         "marker": {
          "color": "rgb(0,0,255)",
          "colorscale": "Viridis",
          "line": {
           "width": 2
          },
          "size": 12,
          "symbol": 1
         },
         "mode": "markers",
         "name": "Student_21",
         "text": [
          "Student_21"
         ],
         "type": "scatter",
         "uid": "e0564f88-e37d-11e8-9d8c-a1b30045967f",
         "x": [
          5
         ],
         "y": [
          71
         ]
        },
        {
         "marker": {
          "color": "rgb(0,255,0)",
          "colorscale": "Viridis",
          "line": {
           "width": 2
          },
          "size": 12,
          "symbol": 3
         },
         "mode": "markers",
         "name": "Student_22",
         "text": [
          "Student_22"
         ],
         "type": "scatter",
         "uid": "e056500a-e37d-11e8-9d8c-a1b30045967f",
         "x": [
          2
         ],
         "y": [
          50
         ]
        },
        {
         "marker": {
          "color": "rgb(255,0,0)",
          "colorscale": "Viridis",
          "line": {
           "width": 2
          },
          "size": 12,
          "symbol": 0
         },
         "mode": "markers",
         "name": "Student_23",
         "text": [
          "Student_23"
         ],
         "type": "scatter",
         "uid": "e056508c-e37d-11e8-9d8c-a1b30045967f",
         "x": [
          3
         ],
         "y": [
          66
         ]
        },
        {
         "marker": {
          "color": "rgb(0,255,0)",
          "colorscale": "Viridis",
          "line": {
           "width": 2
          },
          "size": 12,
          "symbol": 3
         },
         "mode": "markers",
         "name": "Student_24",
         "text": [
          "Student_24"
         ],
         "type": "scatter",
         "uid": "e056510e-e37d-11e8-9d8c-a1b30045967f",
         "x": [
          3
         ],
         "y": [
          38
         ]
        },
        {
         "marker": {
          "color": "rgb(0,255,0)",
          "colorscale": "Viridis",
          "line": {
           "width": 2
          },
          "size": 12,
          "symbol": 3
         },
         "mode": "markers",
         "name": "Student_25",
         "text": [
          "Student_25"
         ],
         "type": "scatter",
         "uid": "e056519a-e37d-11e8-9d8c-a1b30045967f",
         "x": [
          0
         ],
         "y": [
          34
         ]
        },
        {
         "marker": {
          "color": "rgb(255,0,0)",
          "colorscale": "Viridis",
          "line": {
           "width": 2
          },
          "size": 12,
          "symbol": 0
         },
         "mode": "markers",
         "name": "Student_26",
         "text": [
          "Student_26"
         ],
         "type": "scatter",
         "uid": "e056521c-e37d-11e8-9d8c-a1b30045967f",
         "x": [
          2
         ],
         "y": [
          55
         ]
        },
        {
         "marker": {
          "color": "rgb(255,0,0)",
          "colorscale": "Viridis",
          "line": {
           "width": 2
          },
          "size": 12,
          "symbol": 0
         },
         "mode": "markers",
         "name": "Student_27",
         "text": [
          "Student_27"
         ],
         "type": "scatter",
         "uid": "e056529e-e37d-11e8-9d8c-a1b30045967f",
         "x": [
          3
         ],
         "y": [
          59
         ]
        },
        {
         "marker": {
          "color": "rgb(255,0,0)",
          "colorscale": "Viridis",
          "line": {
           "width": 2
          },
          "size": 12,
          "symbol": 0
         },
         "mode": "markers",
         "name": "Student_28",
         "text": [
          "Student_28"
         ],
         "type": "scatter",
         "uid": "e056532a-e37d-11e8-9d8c-a1b30045967f",
         "x": [
          0
         ],
         "y": [
          68
         ]
        },
        {
         "marker": {
          "color": "rgb(255,0,0)",
          "colorscale": "Viridis",
          "line": {
           "width": 2
          },
          "size": 12,
          "symbol": 0
         },
         "mode": "markers",
         "name": "Student_29",
         "text": [
          "Student_29"
         ],
         "type": "scatter",
         "uid": "e05653ac-e37d-11e8-9d8c-a1b30045967f",
         "x": [
          11
         ],
         "y": [
          66
         ]
        },
        {
         "marker": {
          "color": "rgb(255,0,0)",
          "colorscale": "Viridis",
          "line": {
           "width": 2
          },
          "size": 12,
          "symbol": 0
         },
         "mode": "markers",
         "name": "Student_30",
         "text": [
          "Student_30"
         ],
         "type": "scatter",
         "uid": "e056542e-e37d-11e8-9d8c-a1b30045967f",
         "x": [
          6
         ],
         "y": [
          53
         ]
        },
        {
         "marker": {
          "color": "rgb(0,255,0)",
          "colorscale": "Viridis",
          "line": {
           "width": 2
          },
          "size": 12,
          "symbol": 3
         },
         "mode": "markers",
         "name": "Student_31",
         "text": [
          "Student_31"
         ],
         "type": "scatter",
         "uid": "e056550a-e37d-11e8-9d8c-a1b30045967f",
         "x": [
          2
         ],
         "y": [
          44
         ]
        },
        {
         "marker": {
          "color": "rgb(0,255,0)",
          "colorscale": "Viridis",
          "line": {
           "width": 2
          },
          "size": 12,
          "symbol": 3
         },
         "mode": "markers",
         "name": "Student_32",
         "text": [
          "Student_32"
         ],
         "type": "scatter",
         "uid": "e056558c-e37d-11e8-9d8c-a1b30045967f",
         "x": [
          1
         ],
         "y": [
          42
         ]
        },
        {
         "marker": {
          "color": "rgb(255,0,0)",
          "colorscale": "Viridis",
          "line": {
           "width": 2
          },
          "size": 12,
          "symbol": 0
         },
         "mode": "markers",
         "name": "Student_33",
         "text": [
          "Student_33"
         ],
         "type": "scatter",
         "uid": "e0565618-e37d-11e8-9d8c-a1b30045967f",
         "x": [
          0
         ],
         "y": [
          63
         ]
        },
        {
         "marker": {
          "color": "rgb(255,255,255)",
          "colorscale": "Viridis",
          "line": {
           "width": 2
          },
          "size": 12,
          "symbol": 2
         },
         "mode": "markers",
         "name": "Student_34",
         "text": [
          "Student_34"
         ],
         "type": "scatter",
         "uid": "e056569a-e37d-11e8-9d8c-a1b30045967f",
         "x": [
          0
         ],
         "y": [
          14
         ]
        },
        {
         "marker": {
          "color": "rgb(255,0,0)",
          "colorscale": "Viridis",
          "line": {
           "width": 2
          },
          "size": 12,
          "symbol": 0
         },
         "mode": "markers",
         "name": "Student_35",
         "text": [
          "Student_35"
         ],
         "type": "scatter",
         "uid": "e056571c-e37d-11e8-9d8c-a1b30045967f",
         "x": [
          11
         ],
         "y": [
          67
         ]
        },
        {
         "marker": {
          "color": "rgb(255,0,0)",
          "colorscale": "Viridis",
          "line": {
           "width": 2
          },
          "size": 12,
          "symbol": 0
         },
         "mode": "markers",
         "name": "Student_36",
         "text": [
          "Student_36"
         ],
         "type": "scatter",
         "uid": "e056579e-e37d-11e8-9d8c-a1b30045967f",
         "x": [
          8
         ],
         "y": [
          70
         ]
        },
        {
         "marker": {
          "color": "rgb(255,0,0)",
          "colorscale": "Viridis",
          "line": {
           "width": 2
          },
          "size": 12,
          "symbol": 0
         },
         "mode": "markers",
         "name": "Student_37",
         "text": [
          "Student_37"
         ],
         "type": "scatter",
         "uid": "e0565820-e37d-11e8-9d8c-a1b30045967f",
         "x": [
          2
         ],
         "y": [
          58
         ]
        },
        {
         "marker": {
          "color": "rgb(255,255,255)",
          "colorscale": "Viridis",
          "line": {
           "width": 2
          },
          "size": 12,
          "symbol": 2
         },
         "mode": "markers",
         "name": "Student_38",
         "text": [
          "Student_38"
         ],
         "type": "scatter",
         "uid": "e05658a2-e37d-11e8-9d8c-a1b30045967f",
         "x": [
          3
         ],
         "y": [
          22
         ]
        },
        {
         "marker": {
          "color": "rgb(0,255,0)",
          "colorscale": "Viridis",
          "line": {
           "width": 2
          },
          "size": 12,
          "symbol": 3
         },
         "mode": "markers",
         "name": "Student_39",
         "text": [
          "Student_39"
         ],
         "type": "scatter",
         "uid": "e0565924-e37d-11e8-9d8c-a1b30045967f",
         "x": [
          2
         ],
         "y": [
          35
         ]
        },
        {
         "marker": {
          "color": "rgb(0,255,0)",
          "colorscale": "Viridis",
          "line": {
           "width": 2
          },
          "size": 12,
          "symbol": 3
         },
         "mode": "markers",
         "name": "Student_40",
         "text": [
          "Student_40"
         ],
         "type": "scatter",
         "uid": "e05659a6-e37d-11e8-9d8c-a1b30045967f",
         "x": [
          2
         ],
         "y": [
          40
         ]
        },
        {
         "marker": {
          "color": "rgb(0,255,0)",
          "colorscale": "Viridis",
          "line": {
           "width": 2
          },
          "size": 12,
          "symbol": 3
         },
         "mode": "markers",
         "name": "Student_41",
         "text": [
          "Student_41"
         ],
         "type": "scatter",
         "uid": "e0565a28-e37d-11e8-9d8c-a1b30045967f",
         "x": [
          1
         ],
         "y": [
          47
         ]
        },
        {
         "marker": {
          "color": "rgb(0,0,255)",
          "colorscale": "Viridis",
          "line": {
           "width": 2
          },
          "size": 12,
          "symbol": 1
         },
         "mode": "markers",
         "name": "Student_42",
         "text": [
          "Student_42"
         ],
         "type": "scatter",
         "uid": "e0565aaa-e37d-11e8-9d8c-a1b30045967f",
         "x": [
          11
         ],
         "y": [
          75
         ]
        },
        {
         "marker": {
          "color": "rgb(0,255,0)",
          "colorscale": "Viridis",
          "line": {
           "width": 2
          },
          "size": 12,
          "symbol": 3
         },
         "mode": "markers",
         "name": "Student_43",
         "text": [
          "Student_43"
         ],
         "type": "scatter",
         "uid": "e0565b2c-e37d-11e8-9d8c-a1b30045967f",
         "x": [
          2
         ],
         "y": [
          35
         ]
        },
        {
         "marker": {
          "color": "rgb(255,0,0)",
          "colorscale": "Viridis",
          "line": {
           "width": 2
          },
          "size": 12,
          "symbol": 0
         },
         "mode": "markers",
         "name": "Student_44",
         "text": [
          "Student_44"
         ],
         "type": "scatter",
         "uid": "e0565bae-e37d-11e8-9d8c-a1b30045967f",
         "x": [
          0
         ],
         "y": [
          69
         ]
        },
        {
         "marker": {
          "color": "rgb(0,0,255)",
          "colorscale": "Viridis",
          "line": {
           "width": 2
          },
          "size": 12,
          "symbol": 1
         },
         "mode": "markers",
         "name": "Student_45",
         "text": [
          "Student_45"
         ],
         "type": "scatter",
         "uid": "e0565c26-e37d-11e8-9d8c-a1b30045967f",
         "x": [
          18
         ],
         "y": [
          82
         ]
        },
        {
         "marker": {
          "color": "rgb(0,255,0)",
          "colorscale": "Viridis",
          "line": {
           "width": 2
          },
          "size": 12,
          "symbol": 3
         },
         "mode": "markers",
         "name": "Student_46",
         "text": [
          "Student_46"
         ],
         "type": "scatter",
         "uid": "e0565ca8-e37d-11e8-9d8c-a1b30045967f",
         "x": [
          2
         ],
         "y": [
          47
         ]
        },
        {
         "marker": {
          "color": "rgb(0,255,0)",
          "colorscale": "Viridis",
          "line": {
           "width": 2
          },
          "size": 12,
          "symbol": 3
         },
         "mode": "markers",
         "name": "Student_47",
         "text": [
          "Student_47"
         ],
         "type": "scatter",
         "uid": "e0565d2a-e37d-11e8-9d8c-a1b30045967f",
         "x": [
          2
         ],
         "y": [
          34
         ]
        },
        {
         "marker": {
          "color": "rgb(0,255,0)",
          "colorscale": "Viridis",
          "line": {
           "width": 2
          },
          "size": 12,
          "symbol": 3
         },
         "mode": "markers",
         "name": "Student_48",
         "text": [
          "Student_48"
         ],
         "type": "scatter",
         "uid": "e0565da2-e37d-11e8-9d8c-a1b30045967f",
         "x": [
          3
         ],
         "y": [
          47
         ]
        },
        {
         "marker": {
          "color": "rgb(255,255,255)",
          "colorscale": "Viridis",
          "line": {
           "width": 2
          },
          "size": 12,
          "symbol": 2
         },
         "mode": "markers",
         "name": "Student_49",
         "text": [
          "Student_49"
         ],
         "type": "scatter",
         "uid": "e0565e24-e37d-11e8-9d8c-a1b30045967f",
         "x": [
          0
         ],
         "y": [
          26
         ]
        },
        {
         "marker": {
          "color": "rgb(0,255,0)",
          "colorscale": "Viridis",
          "line": {
           "width": 2
          },
          "size": 12,
          "symbol": 3
         },
         "mode": "markers",
         "name": "Student_50",
         "text": [
          "Student_50"
         ],
         "type": "scatter",
         "uid": "e0565ea6-e37d-11e8-9d8c-a1b30045967f",
         "x": [
          0
         ],
         "y": [
          32
         ]
        },
        {
         "marker": {
          "color": "rgb(0,255,0)",
          "colorscale": "Viridis",
          "line": {
           "width": 2
          },
          "size": 12,
          "symbol": 3
         },
         "mode": "markers",
         "name": "Student_51",
         "text": [
          "Student_51"
         ],
         "type": "scatter",
         "uid": "e0565f28-e37d-11e8-9d8c-a1b30045967f",
         "x": [
          2
         ],
         "y": [
          57
         ]
        },
        {
         "marker": {
          "color": "rgb(255,0,0)",
          "colorscale": "Viridis",
          "line": {
           "width": 2
          },
          "size": 12,
          "symbol": 0
         },
         "mode": "markers",
         "name": "Student_52",
         "text": [
          "Student_52"
         ],
         "type": "scatter",
         "uid": "e0565faa-e37d-11e8-9d8c-a1b30045967f",
         "x": [
          6
         ],
         "y": [
          59
         ]
        },
        {
         "marker": {
          "color": "rgb(255,255,255)",
          "colorscale": "Viridis",
          "line": {
           "width": 2
          },
          "size": 12,
          "symbol": 2
         },
         "mode": "markers",
         "name": "Student_53",
         "text": [
          "Student_53"
         ],
         "type": "scatter",
         "uid": "e0566022-e37d-11e8-9d8c-a1b30045967f",
         "x": [
          2
         ],
         "y": [
          26
         ]
        },
        {
         "marker": {
          "color": "rgb(0,255,0)",
          "colorscale": "Viridis",
          "line": {
           "width": 2
          },
          "size": 12,
          "symbol": 3
         },
         "mode": "markers",
         "name": "Student_54",
         "text": [
          "Student_54"
         ],
         "type": "scatter",
         "uid": "e05660a4-e37d-11e8-9d8c-a1b30045967f",
         "x": [
          0
         ],
         "y": [
          45
         ]
        },
        {
         "marker": {
          "color": "rgb(0,255,0)",
          "colorscale": "Viridis",
          "line": {
           "width": 2
          },
          "size": 12,
          "symbol": 3
         },
         "mode": "markers",
         "name": "Student_55",
         "text": [
          "Student_55"
         ],
         "type": "scatter",
         "uid": "e0566126-e37d-11e8-9d8c-a1b30045967f",
         "x": [
          1
         ],
         "y": [
          42
         ]
        },
        {
         "marker": {
          "color": "rgb(0,255,0)",
          "colorscale": "Viridis",
          "line": {
           "width": 2
          },
          "size": 12,
          "symbol": 3
         },
         "mode": "markers",
         "name": "Student_56",
         "text": [
          "Student_56"
         ],
         "type": "scatter",
         "uid": "e056619e-e37d-11e8-9d8c-a1b30045967f",
         "x": [
          3
         ],
         "y": [
          44
         ]
        },
        {
         "marker": {
          "color": "rgb(255,255,255)",
          "colorscale": "Viridis",
          "line": {
           "width": 2
          },
          "size": 12,
          "symbol": 2
         },
         "mode": "markers",
         "name": "Student_57",
         "text": [
          "Student_57"
         ],
         "type": "scatter",
         "uid": "e0566220-e37d-11e8-9d8c-a1b30045967f",
         "x": [
          3
         ],
         "y": [
          15
         ]
        },
        {
         "marker": {
          "color": "rgb(0,0,255)",
          "colorscale": "Viridis",
          "line": {
           "width": 2
          },
          "size": 12,
          "symbol": 1
         },
         "mode": "markers",
         "name": "Student_58",
         "text": [
          "Student_58"
         ],
         "type": "scatter",
         "uid": "e05662a2-e37d-11e8-9d8c-a1b30045967f",
         "x": [
          10
         ],
         "y": [
          74
         ]
        },
        {
         "marker": {
          "color": "rgb(255,0,0)",
          "colorscale": "Viridis",
          "line": {
           "width": 2
          },
          "size": 12,
          "symbol": 0
         },
         "mode": "markers",
         "name": "Student_59",
         "text": [
          "Student_59"
         ],
         "type": "scatter",
         "uid": "e056631a-e37d-11e8-9d8c-a1b30045967f",
         "x": [
          7
         ],
         "y": [
          65
         ]
        },
        {
         "marker": {
          "color": "rgb(255,255,255)",
          "colorscale": "Viridis",
          "line": {
           "width": 2
          },
          "size": 12,
          "symbol": 2
         },
         "mode": "markers",
         "name": "Student_60",
         "text": [
          "Student_60"
         ],
         "type": "scatter",
         "uid": "e0566392-e37d-11e8-9d8c-a1b30045967f",
         "x": [
          0
         ],
         "y": [
          22
         ]
        }
       ],
       "layout": {
        "hovermode": "closest",
        "showlegend": true,
        "title": "Notas dos estudantes vs postagens respondidas no fórum",
        "xaxis": {
         "autorange": false,
         "fixedrange": false,
         "range": [
          0,
          34
         ],
         "rangemode": "normal",
         "showline": true,
         "title": "Postagens respondidas no fórum",
         "zeroline": false
        },
        "yaxis": {
         "autorange": false,
         "fixedrange": false,
         "range": [
          0,
          97
         ],
         "rangemode": "normal",
         "showline": true,
         "title": "Notas"
        }
       }
      },
      "text/html": [
       "<div id=\"88812d3f-5926-4f15-a137-35c4745bfa76\" style=\"height: 525px; width: 100%;\" class=\"plotly-graph-div\"></div><script type=\"text/javascript\">require([\"plotly\"], function(Plotly) { window.PLOTLYENV=window.PLOTLYENV || {};window.PLOTLYENV.BASE_URL=\"https://plot.ly\";Plotly.newPlot(\"88812d3f-5926-4f15-a137-35c4745bfa76\", [{\"marker\": {\"color\": \"rgb(255,0,0)\", \"colorscale\": \"Viridis\", \"line\": {\"width\": 2}, \"size\": 12, \"symbol\": 0}, \"mode\": \"markers\", \"name\": \"Student_1\", \"text\": [\"Student_1\"], \"x\": [5], \"y\": [56], \"type\": \"scatter\", \"uid\": \"e056429a-e37d-11e8-9d8c-a1b30045967f\"}, {\"marker\": {\"color\": \"rgb(0,255,0)\", \"colorscale\": \"Viridis\", \"line\": {\"width\": 2}, \"size\": 12, \"symbol\": 3}, \"mode\": \"markers\", \"name\": \"Student_2\", \"text\": [\"Student_2\"], \"x\": [2], \"y\": [47], \"type\": \"scatter\", \"uid\": \"e0564448-e37d-11e8-9d8c-a1b30045967f\"}, {\"marker\": {\"color\": \"rgb(0,255,0)\", \"colorscale\": \"Viridis\", \"line\": {\"width\": 2}, \"size\": 12, \"symbol\": 3}, \"mode\": \"markers\", \"name\": \"Student_3\", \"text\": [\"Student_3\"], \"x\": [3], \"y\": [38], \"type\": \"scatter\", \"uid\": \"e056451a-e37d-11e8-9d8c-a1b30045967f\"}, {\"marker\": {\"color\": \"rgb(0,255,0)\", \"colorscale\": \"Viridis\", \"line\": {\"width\": 2}, \"size\": 12, \"symbol\": 3}, \"mode\": \"markers\", \"name\": \"Student_4\", \"text\": [\"Student_4\"], \"x\": [1], \"y\": [44], \"type\": \"scatter\", \"uid\": \"e05645c4-e37d-11e8-9d8c-a1b30045967f\"}, {\"marker\": {\"color\": \"rgb(255,255,255)\", \"colorscale\": \"Viridis\", \"line\": {\"width\": 2}, \"size\": 12, \"symbol\": 2}, \"mode\": \"markers\", \"name\": \"Student_5\", \"text\": [\"Student_5\"], \"x\": [1], \"y\": [17], \"type\": \"scatter\", \"uid\": \"e056465a-e37d-11e8-9d8c-a1b30045967f\"}, {\"marker\": {\"color\": \"rgb(0,255,0)\", \"colorscale\": \"Viridis\", \"line\": {\"width\": 2}, \"size\": 12, \"symbol\": 3}, \"mode\": \"markers\", \"name\": \"Student_6\", \"text\": [\"Student_6\"], \"x\": [2], \"y\": [44], \"type\": \"scatter\", \"uid\": \"e05646f0-e37d-11e8-9d8c-a1b30045967f\"}, {\"marker\": {\"color\": \"rgb(0,0,255)\", \"colorscale\": \"Viridis\", \"line\": {\"width\": 2}, \"size\": 12, \"symbol\": 1}, \"mode\": \"markers\", \"name\": \"Student_7\", \"text\": [\"Student_7\"], \"x\": [24], \"y\": [87], \"type\": \"scatter\", \"uid\": \"e056477c-e37d-11e8-9d8c-a1b30045967f\"}, {\"marker\": {\"color\": \"rgb(255,0,0)\", \"colorscale\": \"Viridis\", \"line\": {\"width\": 2}, \"size\": 12, \"symbol\": 0}, \"mode\": \"markers\", \"name\": \"Student_8\", \"text\": [\"Student_8\"], \"x\": [3], \"y\": [63], \"type\": \"scatter\", \"uid\": \"e0564812-e37d-11e8-9d8c-a1b30045967f\"}, {\"marker\": {\"color\": \"rgb(0,255,0)\", \"colorscale\": \"Viridis\", \"line\": {\"width\": 2}, \"size\": 12, \"symbol\": 3}, \"mode\": \"markers\", \"name\": \"Student_9\", \"text\": [\"Student_9\"], \"x\": [0], \"y\": [36], \"type\": \"scatter\", \"uid\": \"e056489e-e37d-11e8-9d8c-a1b30045967f\"}, {\"marker\": {\"color\": \"rgb(255,0,0)\", \"colorscale\": \"Viridis\", \"line\": {\"width\": 2}, \"size\": 12, \"symbol\": 0}, \"mode\": \"markers\", \"name\": \"Student_10\", \"text\": [\"Student_10\"], \"x\": [2], \"y\": [54], \"type\": \"scatter\", \"uid\": \"e056492a-e37d-11e8-9d8c-a1b30045967f\"}, {\"marker\": {\"color\": \"rgb(0,255,0)\", \"colorscale\": \"Viridis\", \"line\": {\"width\": 2}, \"size\": 12, \"symbol\": 3}, \"mode\": \"markers\", \"name\": \"Student_11\", \"text\": [\"Student_11\"], \"x\": [0], \"y\": [49], \"type\": \"scatter\", \"uid\": \"e05649b6-e37d-11e8-9d8c-a1b30045967f\"}, {\"marker\": {\"color\": \"rgb(0,255,0)\", \"colorscale\": \"Viridis\", \"line\": {\"width\": 2}, \"size\": 12, \"symbol\": 3}, \"mode\": \"markers\", \"name\": \"Student_12\", \"text\": [\"Student_12\"], \"x\": [1], \"y\": [47], \"type\": \"scatter\", \"uid\": \"e0564a38-e37d-11e8-9d8c-a1b30045967f\"}, {\"marker\": {\"color\": \"rgb(255,0,0)\", \"colorscale\": \"Viridis\", \"line\": {\"width\": 2}, \"size\": 12, \"symbol\": 0}, \"mode\": \"markers\", \"name\": \"Student_13\", \"text\": [\"Student_13\"], \"x\": [1], \"y\": [70], \"type\": \"scatter\", \"uid\": \"e0564ac4-e37d-11e8-9d8c-a1b30045967f\"}, {\"marker\": {\"color\": \"rgb(0,255,0)\", \"colorscale\": \"Viridis\", \"line\": {\"width\": 2}, \"size\": 12, \"symbol\": 3}, \"mode\": \"markers\", \"name\": \"Student_14\", \"text\": [\"Student_14\"], \"x\": [0], \"y\": [46], \"type\": \"scatter\", \"uid\": \"e0564be6-e37d-11e8-9d8c-a1b30045967f\"}, {\"marker\": {\"color\": \"rgb(0,255,0)\", \"colorscale\": \"Viridis\", \"line\": {\"width\": 2}, \"size\": 12, \"symbol\": 3}, \"mode\": \"markers\", \"name\": \"Student_15\", \"text\": [\"Student_15\"], \"x\": [0], \"y\": [47], \"type\": \"scatter\", \"uid\": \"e0564c68-e37d-11e8-9d8c-a1b30045967f\"}, {\"marker\": {\"color\": \"rgb(0,0,255)\", \"colorscale\": \"Viridis\", \"line\": {\"width\": 2}, \"size\": 12, \"symbol\": 1}, \"mode\": \"markers\", \"name\": \"Student_16\", \"text\": [\"Student_16\"], \"x\": [14], \"y\": [76], \"type\": \"scatter\", \"uid\": \"e0564cf4-e37d-11e8-9d8c-a1b30045967f\"}, {\"marker\": {\"color\": \"rgb(0,255,0)\", \"colorscale\": \"Viridis\", \"line\": {\"width\": 2}, \"size\": 12, \"symbol\": 3}, \"mode\": \"markers\", \"name\": \"Student_17\", \"text\": [\"Student_17\"], \"x\": [3], \"y\": [44], \"type\": \"scatter\", \"uid\": \"e0564d76-e37d-11e8-9d8c-a1b30045967f\"}, {\"marker\": {\"color\": \"rgb(255,0,0)\", \"colorscale\": \"Viridis\", \"line\": {\"width\": 2}, \"size\": 12, \"symbol\": 0}, \"mode\": \"markers\", \"name\": \"Student_18\", \"text\": [\"Student_18\"], \"x\": [7], \"y\": [66], \"type\": \"scatter\", \"uid\": \"e0564df8-e37d-11e8-9d8c-a1b30045967f\"}, {\"marker\": {\"color\": \"rgb(0,0,255)\", \"colorscale\": \"Viridis\", \"line\": {\"width\": 2}, \"size\": 12, \"symbol\": 1}, \"mode\": \"markers\", \"name\": \"Student_19\", \"text\": [\"Student_19\"], \"x\": [20], \"y\": [79], \"type\": \"scatter\", \"uid\": \"e0564e7a-e37d-11e8-9d8c-a1b30045967f\"}, {\"marker\": {\"color\": \"rgb(0,255,0)\", \"colorscale\": \"Viridis\", \"line\": {\"width\": 2}, \"size\": 12, \"symbol\": 3}, \"mode\": \"markers\", \"name\": \"Student_20\", \"text\": [\"Student_20\"], \"x\": [3], \"y\": [45], \"type\": \"scatter\", \"uid\": \"e0564efc-e37d-11e8-9d8c-a1b30045967f\"}, {\"marker\": {\"color\": \"rgb(0,0,255)\", \"colorscale\": \"Viridis\", \"line\": {\"width\": 2}, \"size\": 12, \"symbol\": 1}, \"mode\": \"markers\", \"name\": \"Student_21\", \"text\": [\"Student_21\"], \"x\": [5], \"y\": [71], \"type\": \"scatter\", \"uid\": \"e0564f88-e37d-11e8-9d8c-a1b30045967f\"}, {\"marker\": {\"color\": \"rgb(0,255,0)\", \"colorscale\": \"Viridis\", \"line\": {\"width\": 2}, \"size\": 12, \"symbol\": 3}, \"mode\": \"markers\", \"name\": \"Student_22\", \"text\": [\"Student_22\"], \"x\": [2], \"y\": [50], \"type\": \"scatter\", \"uid\": \"e056500a-e37d-11e8-9d8c-a1b30045967f\"}, {\"marker\": {\"color\": \"rgb(255,0,0)\", \"colorscale\": \"Viridis\", \"line\": {\"width\": 2}, \"size\": 12, \"symbol\": 0}, \"mode\": \"markers\", \"name\": \"Student_23\", \"text\": [\"Student_23\"], \"x\": [3], \"y\": [66], \"type\": \"scatter\", \"uid\": \"e056508c-e37d-11e8-9d8c-a1b30045967f\"}, {\"marker\": {\"color\": \"rgb(0,255,0)\", \"colorscale\": \"Viridis\", \"line\": {\"width\": 2}, \"size\": 12, \"symbol\": 3}, \"mode\": \"markers\", \"name\": \"Student_24\", \"text\": [\"Student_24\"], \"x\": [3], \"y\": [38], \"type\": \"scatter\", \"uid\": \"e056510e-e37d-11e8-9d8c-a1b30045967f\"}, {\"marker\": {\"color\": \"rgb(0,255,0)\", \"colorscale\": \"Viridis\", \"line\": {\"width\": 2}, \"size\": 12, \"symbol\": 3}, \"mode\": \"markers\", \"name\": \"Student_25\", \"text\": [\"Student_25\"], \"x\": [0], \"y\": [34], \"type\": \"scatter\", \"uid\": \"e056519a-e37d-11e8-9d8c-a1b30045967f\"}, {\"marker\": {\"color\": \"rgb(255,0,0)\", \"colorscale\": \"Viridis\", \"line\": {\"width\": 2}, \"size\": 12, \"symbol\": 0}, \"mode\": \"markers\", \"name\": \"Student_26\", \"text\": [\"Student_26\"], \"x\": [2], \"y\": [55], \"type\": \"scatter\", \"uid\": \"e056521c-e37d-11e8-9d8c-a1b30045967f\"}, {\"marker\": {\"color\": \"rgb(255,0,0)\", \"colorscale\": \"Viridis\", \"line\": {\"width\": 2}, \"size\": 12, \"symbol\": 0}, \"mode\": \"markers\", \"name\": \"Student_27\", \"text\": [\"Student_27\"], \"x\": [3], \"y\": [59], \"type\": \"scatter\", \"uid\": \"e056529e-e37d-11e8-9d8c-a1b30045967f\"}, {\"marker\": {\"color\": \"rgb(255,0,0)\", \"colorscale\": \"Viridis\", \"line\": {\"width\": 2}, \"size\": 12, \"symbol\": 0}, \"mode\": \"markers\", \"name\": \"Student_28\", \"text\": [\"Student_28\"], \"x\": [0], \"y\": [68], \"type\": \"scatter\", \"uid\": \"e056532a-e37d-11e8-9d8c-a1b30045967f\"}, {\"marker\": {\"color\": \"rgb(255,0,0)\", \"colorscale\": \"Viridis\", \"line\": {\"width\": 2}, \"size\": 12, \"symbol\": 0}, \"mode\": \"markers\", \"name\": \"Student_29\", \"text\": [\"Student_29\"], \"x\": [11], \"y\": [66], \"type\": \"scatter\", \"uid\": \"e05653ac-e37d-11e8-9d8c-a1b30045967f\"}, {\"marker\": {\"color\": \"rgb(255,0,0)\", \"colorscale\": \"Viridis\", \"line\": {\"width\": 2}, \"size\": 12, \"symbol\": 0}, \"mode\": \"markers\", \"name\": \"Student_30\", \"text\": [\"Student_30\"], \"x\": [6], \"y\": [53], \"type\": \"scatter\", \"uid\": \"e056542e-e37d-11e8-9d8c-a1b30045967f\"}, {\"marker\": {\"color\": \"rgb(0,255,0)\", \"colorscale\": \"Viridis\", \"line\": {\"width\": 2}, \"size\": 12, \"symbol\": 3}, \"mode\": \"markers\", \"name\": \"Student_31\", \"text\": [\"Student_31\"], \"x\": [2], \"y\": [44], \"type\": \"scatter\", \"uid\": \"e056550a-e37d-11e8-9d8c-a1b30045967f\"}, {\"marker\": {\"color\": \"rgb(0,255,0)\", \"colorscale\": \"Viridis\", \"line\": {\"width\": 2}, \"size\": 12, \"symbol\": 3}, \"mode\": \"markers\", \"name\": \"Student_32\", \"text\": [\"Student_32\"], \"x\": [1], \"y\": [42], \"type\": \"scatter\", \"uid\": \"e056558c-e37d-11e8-9d8c-a1b30045967f\"}, {\"marker\": {\"color\": \"rgb(255,0,0)\", \"colorscale\": \"Viridis\", \"line\": {\"width\": 2}, \"size\": 12, \"symbol\": 0}, \"mode\": \"markers\", \"name\": \"Student_33\", \"text\": [\"Student_33\"], \"x\": [0], \"y\": [63], \"type\": \"scatter\", \"uid\": \"e0565618-e37d-11e8-9d8c-a1b30045967f\"}, {\"marker\": {\"color\": \"rgb(255,255,255)\", \"colorscale\": \"Viridis\", \"line\": {\"width\": 2}, \"size\": 12, \"symbol\": 2}, \"mode\": \"markers\", \"name\": \"Student_34\", \"text\": [\"Student_34\"], \"x\": [0], \"y\": [14], \"type\": \"scatter\", \"uid\": \"e056569a-e37d-11e8-9d8c-a1b30045967f\"}, {\"marker\": {\"color\": \"rgb(255,0,0)\", \"colorscale\": \"Viridis\", \"line\": {\"width\": 2}, \"size\": 12, \"symbol\": 0}, \"mode\": \"markers\", \"name\": \"Student_35\", \"text\": [\"Student_35\"], \"x\": [11], \"y\": [67], \"type\": \"scatter\", \"uid\": \"e056571c-e37d-11e8-9d8c-a1b30045967f\"}, {\"marker\": {\"color\": \"rgb(255,0,0)\", \"colorscale\": \"Viridis\", \"line\": {\"width\": 2}, \"size\": 12, \"symbol\": 0}, \"mode\": \"markers\", \"name\": \"Student_36\", \"text\": [\"Student_36\"], \"x\": [8], \"y\": [70], \"type\": \"scatter\", \"uid\": \"e056579e-e37d-11e8-9d8c-a1b30045967f\"}, {\"marker\": {\"color\": \"rgb(255,0,0)\", \"colorscale\": \"Viridis\", \"line\": {\"width\": 2}, \"size\": 12, \"symbol\": 0}, \"mode\": \"markers\", \"name\": \"Student_37\", \"text\": [\"Student_37\"], \"x\": [2], \"y\": [58], \"type\": \"scatter\", \"uid\": \"e0565820-e37d-11e8-9d8c-a1b30045967f\"}, {\"marker\": {\"color\": \"rgb(255,255,255)\", \"colorscale\": \"Viridis\", \"line\": {\"width\": 2}, \"size\": 12, \"symbol\": 2}, \"mode\": \"markers\", \"name\": \"Student_38\", \"text\": [\"Student_38\"], \"x\": [3], \"y\": [22], \"type\": \"scatter\", \"uid\": \"e05658a2-e37d-11e8-9d8c-a1b30045967f\"}, {\"marker\": {\"color\": \"rgb(0,255,0)\", \"colorscale\": \"Viridis\", \"line\": {\"width\": 2}, \"size\": 12, \"symbol\": 3}, \"mode\": \"markers\", \"name\": \"Student_39\", \"text\": [\"Student_39\"], \"x\": [2], \"y\": [35], \"type\": \"scatter\", \"uid\": \"e0565924-e37d-11e8-9d8c-a1b30045967f\"}, {\"marker\": {\"color\": \"rgb(0,255,0)\", \"colorscale\": \"Viridis\", \"line\": {\"width\": 2}, \"size\": 12, \"symbol\": 3}, \"mode\": \"markers\", \"name\": \"Student_40\", \"text\": [\"Student_40\"], \"x\": [2], \"y\": [40], \"type\": \"scatter\", \"uid\": \"e05659a6-e37d-11e8-9d8c-a1b30045967f\"}, {\"marker\": {\"color\": \"rgb(0,255,0)\", \"colorscale\": \"Viridis\", \"line\": {\"width\": 2}, \"size\": 12, \"symbol\": 3}, \"mode\": \"markers\", \"name\": \"Student_41\", \"text\": [\"Student_41\"], \"x\": [1], \"y\": [47], \"type\": \"scatter\", \"uid\": \"e0565a28-e37d-11e8-9d8c-a1b30045967f\"}, {\"marker\": {\"color\": \"rgb(0,0,255)\", \"colorscale\": \"Viridis\", \"line\": {\"width\": 2}, \"size\": 12, \"symbol\": 1}, \"mode\": \"markers\", \"name\": \"Student_42\", \"text\": [\"Student_42\"], \"x\": [11], \"y\": [75], \"type\": \"scatter\", \"uid\": \"e0565aaa-e37d-11e8-9d8c-a1b30045967f\"}, {\"marker\": {\"color\": \"rgb(0,255,0)\", \"colorscale\": \"Viridis\", \"line\": {\"width\": 2}, \"size\": 12, \"symbol\": 3}, \"mode\": \"markers\", \"name\": \"Student_43\", \"text\": [\"Student_43\"], \"x\": [2], \"y\": [35], \"type\": \"scatter\", \"uid\": \"e0565b2c-e37d-11e8-9d8c-a1b30045967f\"}, {\"marker\": {\"color\": \"rgb(255,0,0)\", \"colorscale\": \"Viridis\", \"line\": {\"width\": 2}, \"size\": 12, \"symbol\": 0}, \"mode\": \"markers\", \"name\": \"Student_44\", \"text\": [\"Student_44\"], \"x\": [0], \"y\": [69], \"type\": \"scatter\", \"uid\": \"e0565bae-e37d-11e8-9d8c-a1b30045967f\"}, {\"marker\": {\"color\": \"rgb(0,0,255)\", \"colorscale\": \"Viridis\", \"line\": {\"width\": 2}, \"size\": 12, \"symbol\": 1}, \"mode\": \"markers\", \"name\": \"Student_45\", \"text\": [\"Student_45\"], \"x\": [18], \"y\": [82], \"type\": \"scatter\", \"uid\": \"e0565c26-e37d-11e8-9d8c-a1b30045967f\"}, {\"marker\": {\"color\": \"rgb(0,255,0)\", \"colorscale\": \"Viridis\", \"line\": {\"width\": 2}, \"size\": 12, \"symbol\": 3}, \"mode\": \"markers\", \"name\": \"Student_46\", \"text\": [\"Student_46\"], \"x\": [2], \"y\": [47], \"type\": \"scatter\", \"uid\": \"e0565ca8-e37d-11e8-9d8c-a1b30045967f\"}, {\"marker\": {\"color\": \"rgb(0,255,0)\", \"colorscale\": \"Viridis\", \"line\": {\"width\": 2}, \"size\": 12, \"symbol\": 3}, \"mode\": \"markers\", \"name\": \"Student_47\", \"text\": [\"Student_47\"], \"x\": [2], \"y\": [34], \"type\": \"scatter\", \"uid\": \"e0565d2a-e37d-11e8-9d8c-a1b30045967f\"}, {\"marker\": {\"color\": \"rgb(0,255,0)\", \"colorscale\": \"Viridis\", \"line\": {\"width\": 2}, \"size\": 12, \"symbol\": 3}, \"mode\": \"markers\", \"name\": \"Student_48\", \"text\": [\"Student_48\"], \"x\": [3], \"y\": [47], \"type\": \"scatter\", \"uid\": \"e0565da2-e37d-11e8-9d8c-a1b30045967f\"}, {\"marker\": {\"color\": \"rgb(255,255,255)\", \"colorscale\": \"Viridis\", \"line\": {\"width\": 2}, \"size\": 12, \"symbol\": 2}, \"mode\": \"markers\", \"name\": \"Student_49\", \"text\": [\"Student_49\"], \"x\": [0], \"y\": [26], \"type\": \"scatter\", \"uid\": \"e0565e24-e37d-11e8-9d8c-a1b30045967f\"}, {\"marker\": {\"color\": \"rgb(0,255,0)\", \"colorscale\": \"Viridis\", \"line\": {\"width\": 2}, \"size\": 12, \"symbol\": 3}, \"mode\": \"markers\", \"name\": \"Student_50\", \"text\": [\"Student_50\"], \"x\": [0], \"y\": [32], \"type\": \"scatter\", \"uid\": \"e0565ea6-e37d-11e8-9d8c-a1b30045967f\"}, {\"marker\": {\"color\": \"rgb(0,255,0)\", \"colorscale\": \"Viridis\", \"line\": {\"width\": 2}, \"size\": 12, \"symbol\": 3}, \"mode\": \"markers\", \"name\": \"Student_51\", \"text\": [\"Student_51\"], \"x\": [2], \"y\": [57], \"type\": \"scatter\", \"uid\": \"e0565f28-e37d-11e8-9d8c-a1b30045967f\"}, {\"marker\": {\"color\": \"rgb(255,0,0)\", \"colorscale\": \"Viridis\", \"line\": {\"width\": 2}, \"size\": 12, \"symbol\": 0}, \"mode\": \"markers\", \"name\": \"Student_52\", \"text\": [\"Student_52\"], \"x\": [6], \"y\": [59], \"type\": \"scatter\", \"uid\": \"e0565faa-e37d-11e8-9d8c-a1b30045967f\"}, {\"marker\": {\"color\": \"rgb(255,255,255)\", \"colorscale\": \"Viridis\", \"line\": {\"width\": 2}, \"size\": 12, \"symbol\": 2}, \"mode\": \"markers\", \"name\": \"Student_53\", \"text\": [\"Student_53\"], \"x\": [2], \"y\": [26], \"type\": \"scatter\", \"uid\": \"e0566022-e37d-11e8-9d8c-a1b30045967f\"}, {\"marker\": {\"color\": \"rgb(0,255,0)\", \"colorscale\": \"Viridis\", \"line\": {\"width\": 2}, \"size\": 12, \"symbol\": 3}, \"mode\": \"markers\", \"name\": \"Student_54\", \"text\": [\"Student_54\"], \"x\": [0], \"y\": [45], \"type\": \"scatter\", \"uid\": \"e05660a4-e37d-11e8-9d8c-a1b30045967f\"}, {\"marker\": {\"color\": \"rgb(0,255,0)\", \"colorscale\": \"Viridis\", \"line\": {\"width\": 2}, \"size\": 12, \"symbol\": 3}, \"mode\": \"markers\", \"name\": \"Student_55\", \"text\": [\"Student_55\"], \"x\": [1], \"y\": [42], \"type\": \"scatter\", \"uid\": \"e0566126-e37d-11e8-9d8c-a1b30045967f\"}, {\"marker\": {\"color\": \"rgb(0,255,0)\", \"colorscale\": \"Viridis\", \"line\": {\"width\": 2}, \"size\": 12, \"symbol\": 3}, \"mode\": \"markers\", \"name\": \"Student_56\", \"text\": [\"Student_56\"], \"x\": [3], \"y\": [44], \"type\": \"scatter\", \"uid\": \"e056619e-e37d-11e8-9d8c-a1b30045967f\"}, {\"marker\": {\"color\": \"rgb(255,255,255)\", \"colorscale\": \"Viridis\", \"line\": {\"width\": 2}, \"size\": 12, \"symbol\": 2}, \"mode\": \"markers\", \"name\": \"Student_57\", \"text\": [\"Student_57\"], \"x\": [3], \"y\": [15], \"type\": \"scatter\", \"uid\": \"e0566220-e37d-11e8-9d8c-a1b30045967f\"}, {\"marker\": {\"color\": \"rgb(0,0,255)\", \"colorscale\": \"Viridis\", \"line\": {\"width\": 2}, \"size\": 12, \"symbol\": 1}, \"mode\": \"markers\", \"name\": \"Student_58\", \"text\": [\"Student_58\"], \"x\": [10], \"y\": [74], \"type\": \"scatter\", \"uid\": \"e05662a2-e37d-11e8-9d8c-a1b30045967f\"}, {\"marker\": {\"color\": \"rgb(255,0,0)\", \"colorscale\": \"Viridis\", \"line\": {\"width\": 2}, \"size\": 12, \"symbol\": 0}, \"mode\": \"markers\", \"name\": \"Student_59\", \"text\": [\"Student_59\"], \"x\": [7], \"y\": [65], \"type\": \"scatter\", \"uid\": \"e056631a-e37d-11e8-9d8c-a1b30045967f\"}, {\"marker\": {\"color\": \"rgb(255,255,255)\", \"colorscale\": \"Viridis\", \"line\": {\"width\": 2}, \"size\": 12, \"symbol\": 2}, \"mode\": \"markers\", \"name\": \"Student_60\", \"text\": [\"Student_60\"], \"x\": [0], \"y\": [22], \"type\": \"scatter\", \"uid\": \"e0566392-e37d-11e8-9d8c-a1b30045967f\"}], {\"hovermode\": \"closest\", \"showlegend\": true, \"title\": \"Notas dos estudantes vs postagens respondidas no f\\u00f3rum\", \"xaxis\": {\"autorange\": false, \"fixedrange\": false, \"range\": [0, 34], \"rangemode\": \"normal\", \"showline\": true, \"title\": \"Postagens respondidas no f\\u00f3rum\", \"zeroline\": false}, \"yaxis\": {\"autorange\": false, \"fixedrange\": false, \"range\": [0, 97], \"rangemode\": \"normal\", \"showline\": true, \"title\": \"Notas\"}}, {\"showLink\": true, \"linkText\": \"Export to plot.ly\"})});</script>"
      ],
      "text/vnd.plotly.v1+html": [
       "<div id=\"88812d3f-5926-4f15-a137-35c4745bfa76\" style=\"height: 525px; width: 100%;\" class=\"plotly-graph-div\"></div><script type=\"text/javascript\">require([\"plotly\"], function(Plotly) { window.PLOTLYENV=window.PLOTLYENV || {};window.PLOTLYENV.BASE_URL=\"https://plot.ly\";Plotly.newPlot(\"88812d3f-5926-4f15-a137-35c4745bfa76\", [{\"marker\": {\"color\": \"rgb(255,0,0)\", \"colorscale\": \"Viridis\", \"line\": {\"width\": 2}, \"size\": 12, \"symbol\": 0}, \"mode\": \"markers\", \"name\": \"Student_1\", \"text\": [\"Student_1\"], \"x\": [5], \"y\": [56], \"type\": \"scatter\", \"uid\": \"e056429a-e37d-11e8-9d8c-a1b30045967f\"}, {\"marker\": {\"color\": \"rgb(0,255,0)\", \"colorscale\": \"Viridis\", \"line\": {\"width\": 2}, \"size\": 12, \"symbol\": 3}, \"mode\": \"markers\", \"name\": \"Student_2\", \"text\": [\"Student_2\"], \"x\": [2], \"y\": [47], \"type\": \"scatter\", \"uid\": \"e0564448-e37d-11e8-9d8c-a1b30045967f\"}, {\"marker\": {\"color\": \"rgb(0,255,0)\", \"colorscale\": \"Viridis\", \"line\": {\"width\": 2}, \"size\": 12, \"symbol\": 3}, \"mode\": \"markers\", \"name\": \"Student_3\", \"text\": [\"Student_3\"], \"x\": [3], \"y\": [38], \"type\": \"scatter\", \"uid\": \"e056451a-e37d-11e8-9d8c-a1b30045967f\"}, {\"marker\": {\"color\": \"rgb(0,255,0)\", \"colorscale\": \"Viridis\", \"line\": {\"width\": 2}, \"size\": 12, \"symbol\": 3}, \"mode\": \"markers\", \"name\": \"Student_4\", \"text\": [\"Student_4\"], \"x\": [1], \"y\": [44], \"type\": \"scatter\", \"uid\": \"e05645c4-e37d-11e8-9d8c-a1b30045967f\"}, {\"marker\": {\"color\": \"rgb(255,255,255)\", \"colorscale\": \"Viridis\", \"line\": {\"width\": 2}, \"size\": 12, \"symbol\": 2}, \"mode\": \"markers\", \"name\": \"Student_5\", \"text\": [\"Student_5\"], \"x\": [1], \"y\": [17], \"type\": \"scatter\", \"uid\": \"e056465a-e37d-11e8-9d8c-a1b30045967f\"}, {\"marker\": {\"color\": \"rgb(0,255,0)\", \"colorscale\": \"Viridis\", \"line\": {\"width\": 2}, \"size\": 12, \"symbol\": 3}, \"mode\": \"markers\", \"name\": \"Student_6\", \"text\": [\"Student_6\"], \"x\": [2], \"y\": [44], \"type\": \"scatter\", \"uid\": \"e05646f0-e37d-11e8-9d8c-a1b30045967f\"}, {\"marker\": {\"color\": \"rgb(0,0,255)\", \"colorscale\": \"Viridis\", \"line\": {\"width\": 2}, \"size\": 12, \"symbol\": 1}, \"mode\": \"markers\", \"name\": \"Student_7\", \"text\": [\"Student_7\"], \"x\": [24], \"y\": [87], \"type\": \"scatter\", \"uid\": \"e056477c-e37d-11e8-9d8c-a1b30045967f\"}, {\"marker\": {\"color\": \"rgb(255,0,0)\", \"colorscale\": \"Viridis\", \"line\": {\"width\": 2}, \"size\": 12, \"symbol\": 0}, \"mode\": \"markers\", \"name\": \"Student_8\", \"text\": [\"Student_8\"], \"x\": [3], \"y\": [63], \"type\": \"scatter\", \"uid\": \"e0564812-e37d-11e8-9d8c-a1b30045967f\"}, {\"marker\": {\"color\": \"rgb(0,255,0)\", \"colorscale\": \"Viridis\", \"line\": {\"width\": 2}, \"size\": 12, \"symbol\": 3}, \"mode\": \"markers\", \"name\": \"Student_9\", \"text\": [\"Student_9\"], \"x\": [0], \"y\": [36], \"type\": \"scatter\", \"uid\": \"e056489e-e37d-11e8-9d8c-a1b30045967f\"}, {\"marker\": {\"color\": \"rgb(255,0,0)\", \"colorscale\": \"Viridis\", \"line\": {\"width\": 2}, \"size\": 12, \"symbol\": 0}, \"mode\": \"markers\", \"name\": \"Student_10\", \"text\": [\"Student_10\"], \"x\": [2], \"y\": [54], \"type\": \"scatter\", \"uid\": \"e056492a-e37d-11e8-9d8c-a1b30045967f\"}, {\"marker\": {\"color\": \"rgb(0,255,0)\", \"colorscale\": \"Viridis\", \"line\": {\"width\": 2}, \"size\": 12, \"symbol\": 3}, \"mode\": \"markers\", \"name\": \"Student_11\", \"text\": [\"Student_11\"], \"x\": [0], \"y\": [49], \"type\": \"scatter\", \"uid\": \"e05649b6-e37d-11e8-9d8c-a1b30045967f\"}, {\"marker\": {\"color\": \"rgb(0,255,0)\", \"colorscale\": \"Viridis\", \"line\": {\"width\": 2}, \"size\": 12, \"symbol\": 3}, \"mode\": \"markers\", \"name\": \"Student_12\", \"text\": [\"Student_12\"], \"x\": [1], \"y\": [47], \"type\": \"scatter\", \"uid\": \"e0564a38-e37d-11e8-9d8c-a1b30045967f\"}, {\"marker\": {\"color\": \"rgb(255,0,0)\", \"colorscale\": \"Viridis\", \"line\": {\"width\": 2}, \"size\": 12, \"symbol\": 0}, \"mode\": \"markers\", \"name\": \"Student_13\", \"text\": [\"Student_13\"], \"x\": [1], \"y\": [70], \"type\": \"scatter\", \"uid\": \"e0564ac4-e37d-11e8-9d8c-a1b30045967f\"}, {\"marker\": {\"color\": \"rgb(0,255,0)\", \"colorscale\": \"Viridis\", \"line\": {\"width\": 2}, \"size\": 12, \"symbol\": 3}, \"mode\": \"markers\", \"name\": \"Student_14\", \"text\": [\"Student_14\"], \"x\": [0], \"y\": [46], \"type\": \"scatter\", \"uid\": \"e0564be6-e37d-11e8-9d8c-a1b30045967f\"}, {\"marker\": {\"color\": \"rgb(0,255,0)\", \"colorscale\": \"Viridis\", \"line\": {\"width\": 2}, \"size\": 12, \"symbol\": 3}, \"mode\": \"markers\", \"name\": \"Student_15\", \"text\": [\"Student_15\"], \"x\": [0], \"y\": [47], \"type\": \"scatter\", \"uid\": \"e0564c68-e37d-11e8-9d8c-a1b30045967f\"}, {\"marker\": {\"color\": \"rgb(0,0,255)\", \"colorscale\": \"Viridis\", \"line\": {\"width\": 2}, \"size\": 12, \"symbol\": 1}, \"mode\": \"markers\", \"name\": \"Student_16\", \"text\": [\"Student_16\"], \"x\": [14], \"y\": [76], \"type\": \"scatter\", \"uid\": \"e0564cf4-e37d-11e8-9d8c-a1b30045967f\"}, {\"marker\": {\"color\": \"rgb(0,255,0)\", \"colorscale\": \"Viridis\", \"line\": {\"width\": 2}, \"size\": 12, \"symbol\": 3}, \"mode\": \"markers\", \"name\": \"Student_17\", \"text\": [\"Student_17\"], \"x\": [3], \"y\": [44], \"type\": \"scatter\", \"uid\": \"e0564d76-e37d-11e8-9d8c-a1b30045967f\"}, {\"marker\": {\"color\": \"rgb(255,0,0)\", \"colorscale\": \"Viridis\", \"line\": {\"width\": 2}, \"size\": 12, \"symbol\": 0}, \"mode\": \"markers\", \"name\": \"Student_18\", \"text\": [\"Student_18\"], \"x\": [7], \"y\": [66], \"type\": \"scatter\", \"uid\": \"e0564df8-e37d-11e8-9d8c-a1b30045967f\"}, {\"marker\": {\"color\": \"rgb(0,0,255)\", \"colorscale\": \"Viridis\", \"line\": {\"width\": 2}, \"size\": 12, \"symbol\": 1}, \"mode\": \"markers\", \"name\": \"Student_19\", \"text\": [\"Student_19\"], \"x\": [20], \"y\": [79], \"type\": \"scatter\", \"uid\": \"e0564e7a-e37d-11e8-9d8c-a1b30045967f\"}, {\"marker\": {\"color\": \"rgb(0,255,0)\", \"colorscale\": \"Viridis\", \"line\": {\"width\": 2}, \"size\": 12, \"symbol\": 3}, \"mode\": \"markers\", \"name\": \"Student_20\", \"text\": [\"Student_20\"], \"x\": [3], \"y\": [45], \"type\": \"scatter\", \"uid\": \"e0564efc-e37d-11e8-9d8c-a1b30045967f\"}, {\"marker\": {\"color\": \"rgb(0,0,255)\", \"colorscale\": \"Viridis\", \"line\": {\"width\": 2}, \"size\": 12, \"symbol\": 1}, \"mode\": \"markers\", \"name\": \"Student_21\", \"text\": [\"Student_21\"], \"x\": [5], \"y\": [71], \"type\": \"scatter\", \"uid\": \"e0564f88-e37d-11e8-9d8c-a1b30045967f\"}, {\"marker\": {\"color\": \"rgb(0,255,0)\", \"colorscale\": \"Viridis\", \"line\": {\"width\": 2}, \"size\": 12, \"symbol\": 3}, \"mode\": \"markers\", \"name\": \"Student_22\", \"text\": [\"Student_22\"], \"x\": [2], \"y\": [50], \"type\": \"scatter\", \"uid\": \"e056500a-e37d-11e8-9d8c-a1b30045967f\"}, {\"marker\": {\"color\": \"rgb(255,0,0)\", \"colorscale\": \"Viridis\", \"line\": {\"width\": 2}, \"size\": 12, \"symbol\": 0}, \"mode\": \"markers\", \"name\": \"Student_23\", \"text\": [\"Student_23\"], \"x\": [3], \"y\": [66], \"type\": \"scatter\", \"uid\": \"e056508c-e37d-11e8-9d8c-a1b30045967f\"}, {\"marker\": {\"color\": \"rgb(0,255,0)\", \"colorscale\": \"Viridis\", \"line\": {\"width\": 2}, \"size\": 12, \"symbol\": 3}, \"mode\": \"markers\", \"name\": \"Student_24\", \"text\": [\"Student_24\"], \"x\": [3], \"y\": [38], \"type\": \"scatter\", \"uid\": \"e056510e-e37d-11e8-9d8c-a1b30045967f\"}, {\"marker\": {\"color\": \"rgb(0,255,0)\", \"colorscale\": \"Viridis\", \"line\": {\"width\": 2}, \"size\": 12, \"symbol\": 3}, \"mode\": \"markers\", \"name\": \"Student_25\", \"text\": [\"Student_25\"], \"x\": [0], \"y\": [34], \"type\": \"scatter\", \"uid\": \"e056519a-e37d-11e8-9d8c-a1b30045967f\"}, {\"marker\": {\"color\": \"rgb(255,0,0)\", \"colorscale\": \"Viridis\", \"line\": {\"width\": 2}, \"size\": 12, \"symbol\": 0}, \"mode\": \"markers\", \"name\": \"Student_26\", \"text\": [\"Student_26\"], \"x\": [2], \"y\": [55], \"type\": \"scatter\", \"uid\": \"e056521c-e37d-11e8-9d8c-a1b30045967f\"}, {\"marker\": {\"color\": \"rgb(255,0,0)\", \"colorscale\": \"Viridis\", \"line\": {\"width\": 2}, \"size\": 12, \"symbol\": 0}, \"mode\": \"markers\", \"name\": \"Student_27\", \"text\": [\"Student_27\"], \"x\": [3], \"y\": [59], \"type\": \"scatter\", \"uid\": \"e056529e-e37d-11e8-9d8c-a1b30045967f\"}, {\"marker\": {\"color\": \"rgb(255,0,0)\", \"colorscale\": \"Viridis\", \"line\": {\"width\": 2}, \"size\": 12, \"symbol\": 0}, \"mode\": \"markers\", \"name\": \"Student_28\", \"text\": [\"Student_28\"], \"x\": [0], \"y\": [68], \"type\": \"scatter\", \"uid\": \"e056532a-e37d-11e8-9d8c-a1b30045967f\"}, {\"marker\": {\"color\": \"rgb(255,0,0)\", \"colorscale\": \"Viridis\", \"line\": {\"width\": 2}, \"size\": 12, \"symbol\": 0}, \"mode\": \"markers\", \"name\": \"Student_29\", \"text\": [\"Student_29\"], \"x\": [11], \"y\": [66], \"type\": \"scatter\", \"uid\": \"e05653ac-e37d-11e8-9d8c-a1b30045967f\"}, {\"marker\": {\"color\": \"rgb(255,0,0)\", \"colorscale\": \"Viridis\", \"line\": {\"width\": 2}, \"size\": 12, \"symbol\": 0}, \"mode\": \"markers\", \"name\": \"Student_30\", \"text\": [\"Student_30\"], \"x\": [6], \"y\": [53], \"type\": \"scatter\", \"uid\": \"e056542e-e37d-11e8-9d8c-a1b30045967f\"}, {\"marker\": {\"color\": \"rgb(0,255,0)\", \"colorscale\": \"Viridis\", \"line\": {\"width\": 2}, \"size\": 12, \"symbol\": 3}, \"mode\": \"markers\", \"name\": \"Student_31\", \"text\": [\"Student_31\"], \"x\": [2], \"y\": [44], \"type\": \"scatter\", \"uid\": \"e056550a-e37d-11e8-9d8c-a1b30045967f\"}, {\"marker\": {\"color\": \"rgb(0,255,0)\", \"colorscale\": \"Viridis\", \"line\": {\"width\": 2}, \"size\": 12, \"symbol\": 3}, \"mode\": \"markers\", \"name\": \"Student_32\", \"text\": [\"Student_32\"], \"x\": [1], \"y\": [42], \"type\": \"scatter\", \"uid\": \"e056558c-e37d-11e8-9d8c-a1b30045967f\"}, {\"marker\": {\"color\": \"rgb(255,0,0)\", \"colorscale\": \"Viridis\", \"line\": {\"width\": 2}, \"size\": 12, \"symbol\": 0}, \"mode\": \"markers\", \"name\": \"Student_33\", \"text\": [\"Student_33\"], \"x\": [0], \"y\": [63], \"type\": \"scatter\", \"uid\": \"e0565618-e37d-11e8-9d8c-a1b30045967f\"}, {\"marker\": {\"color\": \"rgb(255,255,255)\", \"colorscale\": \"Viridis\", \"line\": {\"width\": 2}, \"size\": 12, \"symbol\": 2}, \"mode\": \"markers\", \"name\": \"Student_34\", \"text\": [\"Student_34\"], \"x\": [0], \"y\": [14], \"type\": \"scatter\", \"uid\": \"e056569a-e37d-11e8-9d8c-a1b30045967f\"}, {\"marker\": {\"color\": \"rgb(255,0,0)\", \"colorscale\": \"Viridis\", \"line\": {\"width\": 2}, \"size\": 12, \"symbol\": 0}, \"mode\": \"markers\", \"name\": \"Student_35\", \"text\": [\"Student_35\"], \"x\": [11], \"y\": [67], \"type\": \"scatter\", \"uid\": \"e056571c-e37d-11e8-9d8c-a1b30045967f\"}, {\"marker\": {\"color\": \"rgb(255,0,0)\", \"colorscale\": \"Viridis\", \"line\": {\"width\": 2}, \"size\": 12, \"symbol\": 0}, \"mode\": \"markers\", \"name\": \"Student_36\", \"text\": [\"Student_36\"], \"x\": [8], \"y\": [70], \"type\": \"scatter\", \"uid\": \"e056579e-e37d-11e8-9d8c-a1b30045967f\"}, {\"marker\": {\"color\": \"rgb(255,0,0)\", \"colorscale\": \"Viridis\", \"line\": {\"width\": 2}, \"size\": 12, \"symbol\": 0}, \"mode\": \"markers\", \"name\": \"Student_37\", \"text\": [\"Student_37\"], \"x\": [2], \"y\": [58], \"type\": \"scatter\", \"uid\": \"e0565820-e37d-11e8-9d8c-a1b30045967f\"}, {\"marker\": {\"color\": \"rgb(255,255,255)\", \"colorscale\": \"Viridis\", \"line\": {\"width\": 2}, \"size\": 12, \"symbol\": 2}, \"mode\": \"markers\", \"name\": \"Student_38\", \"text\": [\"Student_38\"], \"x\": [3], \"y\": [22], \"type\": \"scatter\", \"uid\": \"e05658a2-e37d-11e8-9d8c-a1b30045967f\"}, {\"marker\": {\"color\": \"rgb(0,255,0)\", \"colorscale\": \"Viridis\", \"line\": {\"width\": 2}, \"size\": 12, \"symbol\": 3}, \"mode\": \"markers\", \"name\": \"Student_39\", \"text\": [\"Student_39\"], \"x\": [2], \"y\": [35], \"type\": \"scatter\", \"uid\": \"e0565924-e37d-11e8-9d8c-a1b30045967f\"}, {\"marker\": {\"color\": \"rgb(0,255,0)\", \"colorscale\": \"Viridis\", \"line\": {\"width\": 2}, \"size\": 12, \"symbol\": 3}, \"mode\": \"markers\", \"name\": \"Student_40\", \"text\": [\"Student_40\"], \"x\": [2], \"y\": [40], \"type\": \"scatter\", \"uid\": \"e05659a6-e37d-11e8-9d8c-a1b30045967f\"}, {\"marker\": {\"color\": \"rgb(0,255,0)\", \"colorscale\": \"Viridis\", \"line\": {\"width\": 2}, \"size\": 12, \"symbol\": 3}, \"mode\": \"markers\", \"name\": \"Student_41\", \"text\": [\"Student_41\"], \"x\": [1], \"y\": [47], \"type\": \"scatter\", \"uid\": \"e0565a28-e37d-11e8-9d8c-a1b30045967f\"}, {\"marker\": {\"color\": \"rgb(0,0,255)\", \"colorscale\": \"Viridis\", \"line\": {\"width\": 2}, \"size\": 12, \"symbol\": 1}, \"mode\": \"markers\", \"name\": \"Student_42\", \"text\": [\"Student_42\"], \"x\": [11], \"y\": [75], \"type\": \"scatter\", \"uid\": \"e0565aaa-e37d-11e8-9d8c-a1b30045967f\"}, {\"marker\": {\"color\": \"rgb(0,255,0)\", \"colorscale\": \"Viridis\", \"line\": {\"width\": 2}, \"size\": 12, \"symbol\": 3}, \"mode\": \"markers\", \"name\": \"Student_43\", \"text\": [\"Student_43\"], \"x\": [2], \"y\": [35], \"type\": \"scatter\", \"uid\": \"e0565b2c-e37d-11e8-9d8c-a1b30045967f\"}, {\"marker\": {\"color\": \"rgb(255,0,0)\", \"colorscale\": \"Viridis\", \"line\": {\"width\": 2}, \"size\": 12, \"symbol\": 0}, \"mode\": \"markers\", \"name\": \"Student_44\", \"text\": [\"Student_44\"], \"x\": [0], \"y\": [69], \"type\": \"scatter\", \"uid\": \"e0565bae-e37d-11e8-9d8c-a1b30045967f\"}, {\"marker\": {\"color\": \"rgb(0,0,255)\", \"colorscale\": \"Viridis\", \"line\": {\"width\": 2}, \"size\": 12, \"symbol\": 1}, \"mode\": \"markers\", \"name\": \"Student_45\", \"text\": [\"Student_45\"], \"x\": [18], \"y\": [82], \"type\": \"scatter\", \"uid\": \"e0565c26-e37d-11e8-9d8c-a1b30045967f\"}, {\"marker\": {\"color\": \"rgb(0,255,0)\", \"colorscale\": \"Viridis\", \"line\": {\"width\": 2}, \"size\": 12, \"symbol\": 3}, \"mode\": \"markers\", \"name\": \"Student_46\", \"text\": [\"Student_46\"], \"x\": [2], \"y\": [47], \"type\": \"scatter\", \"uid\": \"e0565ca8-e37d-11e8-9d8c-a1b30045967f\"}, {\"marker\": {\"color\": \"rgb(0,255,0)\", \"colorscale\": \"Viridis\", \"line\": {\"width\": 2}, \"size\": 12, \"symbol\": 3}, \"mode\": \"markers\", \"name\": \"Student_47\", \"text\": [\"Student_47\"], \"x\": [2], \"y\": [34], \"type\": \"scatter\", \"uid\": \"e0565d2a-e37d-11e8-9d8c-a1b30045967f\"}, {\"marker\": {\"color\": \"rgb(0,255,0)\", \"colorscale\": \"Viridis\", \"line\": {\"width\": 2}, \"size\": 12, \"symbol\": 3}, \"mode\": \"markers\", \"name\": \"Student_48\", \"text\": [\"Student_48\"], \"x\": [3], \"y\": [47], \"type\": \"scatter\", \"uid\": \"e0565da2-e37d-11e8-9d8c-a1b30045967f\"}, {\"marker\": {\"color\": \"rgb(255,255,255)\", \"colorscale\": \"Viridis\", \"line\": {\"width\": 2}, \"size\": 12, \"symbol\": 2}, \"mode\": \"markers\", \"name\": \"Student_49\", \"text\": [\"Student_49\"], \"x\": [0], \"y\": [26], \"type\": \"scatter\", \"uid\": \"e0565e24-e37d-11e8-9d8c-a1b30045967f\"}, {\"marker\": {\"color\": \"rgb(0,255,0)\", \"colorscale\": \"Viridis\", \"line\": {\"width\": 2}, \"size\": 12, \"symbol\": 3}, \"mode\": \"markers\", \"name\": \"Student_50\", \"text\": [\"Student_50\"], \"x\": [0], \"y\": [32], \"type\": \"scatter\", \"uid\": \"e0565ea6-e37d-11e8-9d8c-a1b30045967f\"}, {\"marker\": {\"color\": \"rgb(0,255,0)\", \"colorscale\": \"Viridis\", \"line\": {\"width\": 2}, \"size\": 12, \"symbol\": 3}, \"mode\": \"markers\", \"name\": \"Student_51\", \"text\": [\"Student_51\"], \"x\": [2], \"y\": [57], \"type\": \"scatter\", \"uid\": \"e0565f28-e37d-11e8-9d8c-a1b30045967f\"}, {\"marker\": {\"color\": \"rgb(255,0,0)\", \"colorscale\": \"Viridis\", \"line\": {\"width\": 2}, \"size\": 12, \"symbol\": 0}, \"mode\": \"markers\", \"name\": \"Student_52\", \"text\": [\"Student_52\"], \"x\": [6], \"y\": [59], \"type\": \"scatter\", \"uid\": \"e0565faa-e37d-11e8-9d8c-a1b30045967f\"}, {\"marker\": {\"color\": \"rgb(255,255,255)\", \"colorscale\": \"Viridis\", \"line\": {\"width\": 2}, \"size\": 12, \"symbol\": 2}, \"mode\": \"markers\", \"name\": \"Student_53\", \"text\": [\"Student_53\"], \"x\": [2], \"y\": [26], \"type\": \"scatter\", \"uid\": \"e0566022-e37d-11e8-9d8c-a1b30045967f\"}, {\"marker\": {\"color\": \"rgb(0,255,0)\", \"colorscale\": \"Viridis\", \"line\": {\"width\": 2}, \"size\": 12, \"symbol\": 3}, \"mode\": \"markers\", \"name\": \"Student_54\", \"text\": [\"Student_54\"], \"x\": [0], \"y\": [45], \"type\": \"scatter\", \"uid\": \"e05660a4-e37d-11e8-9d8c-a1b30045967f\"}, {\"marker\": {\"color\": \"rgb(0,255,0)\", \"colorscale\": \"Viridis\", \"line\": {\"width\": 2}, \"size\": 12, \"symbol\": 3}, \"mode\": \"markers\", \"name\": \"Student_55\", \"text\": [\"Student_55\"], \"x\": [1], \"y\": [42], \"type\": \"scatter\", \"uid\": \"e0566126-e37d-11e8-9d8c-a1b30045967f\"}, {\"marker\": {\"color\": \"rgb(0,255,0)\", \"colorscale\": \"Viridis\", \"line\": {\"width\": 2}, \"size\": 12, \"symbol\": 3}, \"mode\": \"markers\", \"name\": \"Student_56\", \"text\": [\"Student_56\"], \"x\": [3], \"y\": [44], \"type\": \"scatter\", \"uid\": \"e056619e-e37d-11e8-9d8c-a1b30045967f\"}, {\"marker\": {\"color\": \"rgb(255,255,255)\", \"colorscale\": \"Viridis\", \"line\": {\"width\": 2}, \"size\": 12, \"symbol\": 2}, \"mode\": \"markers\", \"name\": \"Student_57\", \"text\": [\"Student_57\"], \"x\": [3], \"y\": [15], \"type\": \"scatter\", \"uid\": \"e0566220-e37d-11e8-9d8c-a1b30045967f\"}, {\"marker\": {\"color\": \"rgb(0,0,255)\", \"colorscale\": \"Viridis\", \"line\": {\"width\": 2}, \"size\": 12, \"symbol\": 1}, \"mode\": \"markers\", \"name\": \"Student_58\", \"text\": [\"Student_58\"], \"x\": [10], \"y\": [74], \"type\": \"scatter\", \"uid\": \"e05662a2-e37d-11e8-9d8c-a1b30045967f\"}, {\"marker\": {\"color\": \"rgb(255,0,0)\", \"colorscale\": \"Viridis\", \"line\": {\"width\": 2}, \"size\": 12, \"symbol\": 0}, \"mode\": \"markers\", \"name\": \"Student_59\", \"text\": [\"Student_59\"], \"x\": [7], \"y\": [65], \"type\": \"scatter\", \"uid\": \"e056631a-e37d-11e8-9d8c-a1b30045967f\"}, {\"marker\": {\"color\": \"rgb(255,255,255)\", \"colorscale\": \"Viridis\", \"line\": {\"width\": 2}, \"size\": 12, \"symbol\": 2}, \"mode\": \"markers\", \"name\": \"Student_60\", \"text\": [\"Student_60\"], \"x\": [0], \"y\": [22], \"type\": \"scatter\", \"uid\": \"e0566392-e37d-11e8-9d8c-a1b30045967f\"}], {\"hovermode\": \"closest\", \"showlegend\": true, \"title\": \"Notas dos estudantes vs postagens respondidas no f\\u00f3rum\", \"xaxis\": {\"autorange\": false, \"fixedrange\": false, \"range\": [0, 34], \"rangemode\": \"normal\", \"showline\": true, \"title\": \"Postagens respondidas no f\\u00f3rum\", \"zeroline\": false}, \"yaxis\": {\"autorange\": false, \"fixedrange\": false, \"range\": [0, 97], \"rangemode\": \"normal\", \"showline\": true, \"title\": \"Notas\"}}, {\"showLink\": true, \"linkText\": \"Export to plot.ly\"})});</script>"
      ]
     },
     "metadata": {},
     "output_type": "display_data"
    },
    {
     "data": {
      "application/vnd.plotly.v1+json": {
       "data": [
        {
         "marker": {
          "color": "rgb(255,0,0)",
          "colorscale": "Viridis",
          "line": {
           "width": 2
          },
          "size": 12,
          "symbol": 0
         },
         "mode": "markers",
         "name": "Student_1",
         "text": [
          "Student_1"
         ],
         "type": "scatter",
         "uid": "e0976fea-e37d-11e8-9d8c-a1b30045967f",
         "x": [
          1
         ],
         "y": [
          56
         ]
        },
        {
         "marker": {
          "color": "rgb(0,255,0)",
          "colorscale": "Viridis",
          "line": {
           "width": 2
          },
          "size": 12,
          "symbol": 3
         },
         "mode": "markers",
         "name": "Student_2",
         "text": [
          "Student_2"
         ],
         "type": "scatter",
         "uid": "e0977198-e37d-11e8-9d8c-a1b30045967f",
         "x": [
          3
         ],
         "y": [
          47
         ]
        },
        {
         "marker": {
          "color": "rgb(0,255,0)",
          "colorscale": "Viridis",
          "line": {
           "width": 2
          },
          "size": 12,
          "symbol": 3
         },
         "mode": "markers",
         "name": "Student_3",
         "text": [
          "Student_3"
         ],
         "type": "scatter",
         "uid": "e0977260-e37d-11e8-9d8c-a1b30045967f",
         "x": [
          3
         ],
         "y": [
          38
         ]
        },
        {
         "marker": {
          "color": "rgb(0,255,0)",
          "colorscale": "Viridis",
          "line": {
           "width": 2
          },
          "size": 12,
          "symbol": 3
         },
         "mode": "markers",
         "name": "Student_4",
         "text": [
          "Student_4"
         ],
         "type": "scatter",
         "uid": "e097730a-e37d-11e8-9d8c-a1b30045967f",
         "x": [
          1
         ],
         "y": [
          44
         ]
        },
        {
         "marker": {
          "color": "rgb(255,255,255)",
          "colorscale": "Viridis",
          "line": {
           "width": 2
          },
          "size": 12,
          "symbol": 2
         },
         "mode": "markers",
         "name": "Student_5",
         "text": [
          "Student_5"
         ],
         "type": "scatter",
         "uid": "e09773a0-e37d-11e8-9d8c-a1b30045967f",
         "x": [
          0
         ],
         "y": [
          17
         ]
        },
        {
         "marker": {
          "color": "rgb(0,255,0)",
          "colorscale": "Viridis",
          "line": {
           "width": 2
          },
          "size": 12,
          "symbol": 3
         },
         "mode": "markers",
         "name": "Student_6",
         "text": [
          "Student_6"
         ],
         "type": "scatter",
         "uid": "e0977436-e37d-11e8-9d8c-a1b30045967f",
         "x": [
          0
         ],
         "y": [
          44
         ]
        },
        {
         "marker": {
          "color": "rgb(0,0,255)",
          "colorscale": "Viridis",
          "line": {
           "width": 2
          },
          "size": 12,
          "symbol": 1
         },
         "mode": "markers",
         "name": "Student_7",
         "text": [
          "Student_7"
         ],
         "type": "scatter",
         "uid": "e09774c2-e37d-11e8-9d8c-a1b30045967f",
         "x": [
          4
         ],
         "y": [
          87
         ]
        },
        {
         "marker": {
          "color": "rgb(255,0,0)",
          "colorscale": "Viridis",
          "line": {
           "width": 2
          },
          "size": 12,
          "symbol": 0
         },
         "mode": "markers",
         "name": "Student_8",
         "text": [
          "Student_8"
         ],
         "type": "scatter",
         "uid": "e0977558-e37d-11e8-9d8c-a1b30045967f",
         "x": [
          2
         ],
         "y": [
          63
         ]
        },
        {
         "marker": {
          "color": "rgb(0,255,0)",
          "colorscale": "Viridis",
          "line": {
           "width": 2
          },
          "size": 12,
          "symbol": 3
         },
         "mode": "markers",
         "name": "Student_9",
         "text": [
          "Student_9"
         ],
         "type": "scatter",
         "uid": "e09775e4-e37d-11e8-9d8c-a1b30045967f",
         "x": [
          0
         ],
         "y": [
          36
         ]
        },
        {
         "marker": {
          "color": "rgb(255,0,0)",
          "colorscale": "Viridis",
          "line": {
           "width": 2
          },
          "size": 12,
          "symbol": 0
         },
         "mode": "markers",
         "name": "Student_10",
         "text": [
          "Student_10"
         ],
         "type": "scatter",
         "uid": "e097767a-e37d-11e8-9d8c-a1b30045967f",
         "x": [
          3
         ],
         "y": [
          54
         ]
        },
        {
         "marker": {
          "color": "rgb(0,255,0)",
          "colorscale": "Viridis",
          "line": {
           "width": 2
          },
          "size": 12,
          "symbol": 3
         },
         "mode": "markers",
         "name": "Student_11",
         "text": [
          "Student_11"
         ],
         "type": "scatter",
         "uid": "e0977706-e37d-11e8-9d8c-a1b30045967f",
         "x": [
          0
         ],
         "y": [
          49
         ]
        },
        {
         "marker": {
          "color": "rgb(0,255,0)",
          "colorscale": "Viridis",
          "line": {
           "width": 2
          },
          "size": 12,
          "symbol": 3
         },
         "mode": "markers",
         "name": "Student_12",
         "text": [
          "Student_12"
         ],
         "type": "scatter",
         "uid": "e0977792-e37d-11e8-9d8c-a1b30045967f",
         "x": [
          3
         ],
         "y": [
          47
         ]
        },
        {
         "marker": {
          "color": "rgb(255,0,0)",
          "colorscale": "Viridis",
          "line": {
           "width": 2
          },
          "size": 12,
          "symbol": 0
         },
         "mode": "markers",
         "name": "Student_13",
         "text": [
          "Student_13"
         ],
         "type": "scatter",
         "uid": "e0977828-e37d-11e8-9d8c-a1b30045967f",
         "x": [
          6
         ],
         "y": [
          70
         ]
        },
        {
         "marker": {
          "color": "rgb(0,255,0)",
          "colorscale": "Viridis",
          "line": {
           "width": 2
          },
          "size": 12,
          "symbol": 3
         },
         "mode": "markers",
         "name": "Student_14",
         "text": [
          "Student_14"
         ],
         "type": "scatter",
         "uid": "e09778b4-e37d-11e8-9d8c-a1b30045967f",
         "x": [
          3
         ],
         "y": [
          46
         ]
        },
        {
         "marker": {
          "color": "rgb(0,255,0)",
          "colorscale": "Viridis",
          "line": {
           "width": 2
          },
          "size": 12,
          "symbol": 3
         },
         "mode": "markers",
         "name": "Student_15",
         "text": [
          "Student_15"
         ],
         "type": "scatter",
         "uid": "e097794a-e37d-11e8-9d8c-a1b30045967f",
         "x": [
          3
         ],
         "y": [
          47
         ]
        },
        {
         "marker": {
          "color": "rgb(0,0,255)",
          "colorscale": "Viridis",
          "line": {
           "width": 2
          },
          "size": 12,
          "symbol": 1
         },
         "mode": "markers",
         "name": "Student_16",
         "text": [
          "Student_16"
         ],
         "type": "scatter",
         "uid": "e09779cc-e37d-11e8-9d8c-a1b30045967f",
         "x": [
          5
         ],
         "y": [
          76
         ]
        },
        {
         "marker": {
          "color": "rgb(0,255,0)",
          "colorscale": "Viridis",
          "line": {
           "width": 2
          },
          "size": 12,
          "symbol": 3
         },
         "mode": "markers",
         "name": "Student_17",
         "text": [
          "Student_17"
         ],
         "type": "scatter",
         "uid": "e0977a62-e37d-11e8-9d8c-a1b30045967f",
         "x": [
          1
         ],
         "y": [
          44
         ]
        },
        {
         "marker": {
          "color": "rgb(255,0,0)",
          "colorscale": "Viridis",
          "line": {
           "width": 2
          },
          "size": 12,
          "symbol": 0
         },
         "mode": "markers",
         "name": "Student_18",
         "text": [
          "Student_18"
         ],
         "type": "scatter",
         "uid": "e0977aee-e37d-11e8-9d8c-a1b30045967f",
         "x": [
          7
         ],
         "y": [
          66
         ]
        },
        {
         "marker": {
          "color": "rgb(0,0,255)",
          "colorscale": "Viridis",
          "line": {
           "width": 2
          },
          "size": 12,
          "symbol": 1
         },
         "mode": "markers",
         "name": "Student_19",
         "text": [
          "Student_19"
         ],
         "type": "scatter",
         "uid": "e0977b84-e37d-11e8-9d8c-a1b30045967f",
         "x": [
          5
         ],
         "y": [
          79
         ]
        },
        {
         "marker": {
          "color": "rgb(0,255,0)",
          "colorscale": "Viridis",
          "line": {
           "width": 2
          },
          "size": 12,
          "symbol": 3
         },
         "mode": "markers",
         "name": "Student_20",
         "text": [
          "Student_20"
         ],
         "type": "scatter",
         "uid": "e0977c1a-e37d-11e8-9d8c-a1b30045967f",
         "x": [
          3
         ],
         "y": [
          45
         ]
        },
        {
         "marker": {
          "color": "rgb(0,0,255)",
          "colorscale": "Viridis",
          "line": {
           "width": 2
          },
          "size": 12,
          "symbol": 1
         },
         "mode": "markers",
         "name": "Student_21",
         "text": [
          "Student_21"
         ],
         "type": "scatter",
         "uid": "e0977ca6-e37d-11e8-9d8c-a1b30045967f",
         "x": [
          0
         ],
         "y": [
          71
         ]
        },
        {
         "marker": {
          "color": "rgb(0,255,0)",
          "colorscale": "Viridis",
          "line": {
           "width": 2
          },
          "size": 12,
          "symbol": 3
         },
         "mode": "markers",
         "name": "Student_22",
         "text": [
          "Student_22"
         ],
         "type": "scatter",
         "uid": "e0977d32-e37d-11e8-9d8c-a1b30045967f",
         "x": [
          3
         ],
         "y": [
          50
         ]
        },
        {
         "marker": {
          "color": "rgb(255,0,0)",
          "colorscale": "Viridis",
          "line": {
           "width": 2
          },
          "size": 12,
          "symbol": 0
         },
         "mode": "markers",
         "name": "Student_23",
         "text": [
          "Student_23"
         ],
         "type": "scatter",
         "uid": "e0977dbe-e37d-11e8-9d8c-a1b30045967f",
         "x": [
          7
         ],
         "y": [
          66
         ]
        },
        {
         "marker": {
          "color": "rgb(0,255,0)",
          "colorscale": "Viridis",
          "line": {
           "width": 2
          },
          "size": 12,
          "symbol": 3
         },
         "mode": "markers",
         "name": "Student_24",
         "text": [
          "Student_24"
         ],
         "type": "scatter",
         "uid": "e0977e54-e37d-11e8-9d8c-a1b30045967f",
         "x": [
          1
         ],
         "y": [
          38
         ]
        },
        {
         "marker": {
          "color": "rgb(0,255,0)",
          "colorscale": "Viridis",
          "line": {
           "width": 2
          },
          "size": 12,
          "symbol": 3
         },
         "mode": "markers",
         "name": "Student_25",
         "text": [
          "Student_25"
         ],
         "type": "scatter",
         "uid": "e0977eea-e37d-11e8-9d8c-a1b30045967f",
         "x": [
          0
         ],
         "y": [
          34
         ]
        },
        {
         "marker": {
          "color": "rgb(255,0,0)",
          "colorscale": "Viridis",
          "line": {
           "width": 2
          },
          "size": 12,
          "symbol": 0
         },
         "mode": "markers",
         "name": "Student_26",
         "text": [
          "Student_26"
         ],
         "type": "scatter",
         "uid": "e0977f76-e37d-11e8-9d8c-a1b30045967f",
         "x": [
          3
         ],
         "y": [
          55
         ]
        },
        {
         "marker": {
          "color": "rgb(255,0,0)",
          "colorscale": "Viridis",
          "line": {
           "width": 2
          },
          "size": 12,
          "symbol": 0
         },
         "mode": "markers",
         "name": "Student_27",
         "text": [
          "Student_27"
         ],
         "type": "scatter",
         "uid": "e0978002-e37d-11e8-9d8c-a1b30045967f",
         "x": [
          1
         ],
         "y": [
          59
         ]
        },
        {
         "marker": {
          "color": "rgb(255,0,0)",
          "colorscale": "Viridis",
          "line": {
           "width": 2
          },
          "size": 12,
          "symbol": 0
         },
         "mode": "markers",
         "name": "Student_28",
         "text": [
          "Student_28"
         ],
         "type": "scatter",
         "uid": "e0978098-e37d-11e8-9d8c-a1b30045967f",
         "x": [
          1
         ],
         "y": [
          68
         ]
        },
        {
         "marker": {
          "color": "rgb(255,0,0)",
          "colorscale": "Viridis",
          "line": {
           "width": 2
          },
          "size": 12,
          "symbol": 0
         },
         "mode": "markers",
         "name": "Student_29",
         "text": [
          "Student_29"
         ],
         "type": "scatter",
         "uid": "e0978124-e37d-11e8-9d8c-a1b30045967f",
         "x": [
          5
         ],
         "y": [
          66
         ]
        },
        {
         "marker": {
          "color": "rgb(255,0,0)",
          "colorscale": "Viridis",
          "line": {
           "width": 2
          },
          "size": 12,
          "symbol": 0
         },
         "mode": "markers",
         "name": "Student_30",
         "text": [
          "Student_30"
         ],
         "type": "scatter",
         "uid": "e09781b0-e37d-11e8-9d8c-a1b30045967f",
         "x": [
          3
         ],
         "y": [
          53
         ]
        },
        {
         "marker": {
          "color": "rgb(0,255,0)",
          "colorscale": "Viridis",
          "line": {
           "width": 2
          },
          "size": 12,
          "symbol": 3
         },
         "mode": "markers",
         "name": "Student_31",
         "text": [
          "Student_31"
         ],
         "type": "scatter",
         "uid": "e0978246-e37d-11e8-9d8c-a1b30045967f",
         "x": [
          0
         ],
         "y": [
          44
         ]
        },
        {
         "marker": {
          "color": "rgb(0,255,0)",
          "colorscale": "Viridis",
          "line": {
           "width": 2
          },
          "size": 12,
          "symbol": 3
         },
         "mode": "markers",
         "name": "Student_32",
         "text": [
          "Student_32"
         ],
         "type": "scatter",
         "uid": "e09782d2-e37d-11e8-9d8c-a1b30045967f",
         "x": [
          2
         ],
         "y": [
          42
         ]
        },
        {
         "marker": {
          "color": "rgb(255,0,0)",
          "colorscale": "Viridis",
          "line": {
           "width": 2
          },
          "size": 12,
          "symbol": 0
         },
         "mode": "markers",
         "name": "Student_33",
         "text": [
          "Student_33"
         ],
         "type": "scatter",
         "uid": "e0978368-e37d-11e8-9d8c-a1b30045967f",
         "x": [
          6
         ],
         "y": [
          63
         ]
        },
        {
         "marker": {
          "color": "rgb(255,255,255)",
          "colorscale": "Viridis",
          "line": {
           "width": 2
          },
          "size": 12,
          "symbol": 2
         },
         "mode": "markers",
         "name": "Student_34",
         "text": [
          "Student_34"
         ],
         "type": "scatter",
         "uid": "e09783fe-e37d-11e8-9d8c-a1b30045967f",
         "x": [
          0
         ],
         "y": [
          14
         ]
        },
        {
         "marker": {
          "color": "rgb(255,0,0)",
          "colorscale": "Viridis",
          "line": {
           "width": 2
          },
          "size": 12,
          "symbol": 0
         },
         "mode": "markers",
         "name": "Student_35",
         "text": [
          "Student_35"
         ],
         "type": "scatter",
         "uid": "e097848a-e37d-11e8-9d8c-a1b30045967f",
         "x": [
          3
         ],
         "y": [
          67
         ]
        },
        {
         "marker": {
          "color": "rgb(255,0,0)",
          "colorscale": "Viridis",
          "line": {
           "width": 2
          },
          "size": 12,
          "symbol": 0
         },
         "mode": "markers",
         "name": "Student_36",
         "text": [
          "Student_36"
         ],
         "type": "scatter",
         "uid": "e0978516-e37d-11e8-9d8c-a1b30045967f",
         "x": [
          5
         ],
         "y": [
          70
         ]
        },
        {
         "marker": {
          "color": "rgb(255,0,0)",
          "colorscale": "Viridis",
          "line": {
           "width": 2
          },
          "size": 12,
          "symbol": 0
         },
         "mode": "markers",
         "name": "Student_37",
         "text": [
          "Student_37"
         ],
         "type": "scatter",
         "uid": "e09785a2-e37d-11e8-9d8c-a1b30045967f",
         "x": [
          2
         ],
         "y": [
          58
         ]
        },
        {
         "marker": {
          "color": "rgb(255,255,255)",
          "colorscale": "Viridis",
          "line": {
           "width": 2
          },
          "size": 12,
          "symbol": 2
         },
         "mode": "markers",
         "name": "Student_38",
         "text": [
          "Student_38"
         ],
         "type": "scatter",
         "uid": "e0978638-e37d-11e8-9d8c-a1b30045967f",
         "x": [
          2
         ],
         "y": [
          22
         ]
        },
        {
         "marker": {
          "color": "rgb(0,255,0)",
          "colorscale": "Viridis",
          "line": {
           "width": 2
          },
          "size": 12,
          "symbol": 3
         },
         "mode": "markers",
         "name": "Student_39",
         "text": [
          "Student_39"
         ],
         "type": "scatter",
         "uid": "e09786c4-e37d-11e8-9d8c-a1b30045967f",
         "x": [
          2
         ],
         "y": [
          35
         ]
        },
        {
         "marker": {
          "color": "rgb(0,255,0)",
          "colorscale": "Viridis",
          "line": {
           "width": 2
          },
          "size": 12,
          "symbol": 3
         },
         "mode": "markers",
         "name": "Student_40",
         "text": [
          "Student_40"
         ],
         "type": "scatter",
         "uid": "e0978750-e37d-11e8-9d8c-a1b30045967f",
         "x": [
          0
         ],
         "y": [
          40
         ]
        },
        {
         "marker": {
          "color": "rgb(0,255,0)",
          "colorscale": "Viridis",
          "line": {
           "width": 2
          },
          "size": 12,
          "symbol": 3
         },
         "mode": "markers",
         "name": "Student_41",
         "text": [
          "Student_41"
         ],
         "type": "scatter",
         "uid": "e09787dc-e37d-11e8-9d8c-a1b30045967f",
         "x": [
          3
         ],
         "y": [
          47
         ]
        },
        {
         "marker": {
          "color": "rgb(0,0,255)",
          "colorscale": "Viridis",
          "line": {
           "width": 2
          },
          "size": 12,
          "symbol": 1
         },
         "mode": "markers",
         "name": "Student_42",
         "text": [
          "Student_42"
         ],
         "type": "scatter",
         "uid": "e0978872-e37d-11e8-9d8c-a1b30045967f",
         "x": [
          6
         ],
         "y": [
          75
         ]
        },
        {
         "marker": {
          "color": "rgb(0,255,0)",
          "colorscale": "Viridis",
          "line": {
           "width": 2
          },
          "size": 12,
          "symbol": 3
         },
         "mode": "markers",
         "name": "Student_43",
         "text": [
          "Student_43"
         ],
         "type": "scatter",
         "uid": "e09788fe-e37d-11e8-9d8c-a1b30045967f",
         "x": [
          1
         ],
         "y": [
          35
         ]
        },
        {
         "marker": {
          "color": "rgb(255,0,0)",
          "colorscale": "Viridis",
          "line": {
           "width": 2
          },
          "size": 12,
          "symbol": 0
         },
         "mode": "markers",
         "name": "Student_44",
         "text": [
          "Student_44"
         ],
         "type": "scatter",
         "uid": "e097898a-e37d-11e8-9d8c-a1b30045967f",
         "x": [
          4
         ],
         "y": [
          69
         ]
        },
        {
         "marker": {
          "color": "rgb(0,0,255)",
          "colorscale": "Viridis",
          "line": {
           "width": 2
          },
          "size": 12,
          "symbol": 1
         },
         "mode": "markers",
         "name": "Student_45",
         "text": [
          "Student_45"
         ],
         "type": "scatter",
         "uid": "e0978a0c-e37d-11e8-9d8c-a1b30045967f",
         "x": [
          1
         ],
         "y": [
          82
         ]
        },
        {
         "marker": {
          "color": "rgb(0,255,0)",
          "colorscale": "Viridis",
          "line": {
           "width": 2
          },
          "size": 12,
          "symbol": 3
         },
         "mode": "markers",
         "name": "Student_46",
         "text": [
          "Student_46"
         ],
         "type": "scatter",
         "uid": "e0978a98-e37d-11e8-9d8c-a1b30045967f",
         "x": [
          1
         ],
         "y": [
          47
         ]
        },
        {
         "marker": {
          "color": "rgb(0,255,0)",
          "colorscale": "Viridis",
          "line": {
           "width": 2
          },
          "size": 12,
          "symbol": 3
         },
         "mode": "markers",
         "name": "Student_47",
         "text": [
          "Student_47"
         ],
         "type": "scatter",
         "uid": "e0978b24-e37d-11e8-9d8c-a1b30045967f",
         "x": [
          2
         ],
         "y": [
          34
         ]
        },
        {
         "marker": {
          "color": "rgb(0,255,0)",
          "colorscale": "Viridis",
          "line": {
           "width": 2
          },
          "size": 12,
          "symbol": 3
         },
         "mode": "markers",
         "name": "Student_48",
         "text": [
          "Student_48"
         ],
         "type": "scatter",
         "uid": "e0978bba-e37d-11e8-9d8c-a1b30045967f",
         "x": [
          0
         ],
         "y": [
          47
         ]
        },
        {
         "marker": {
          "color": "rgb(255,255,255)",
          "colorscale": "Viridis",
          "line": {
           "width": 2
          },
          "size": 12,
          "symbol": 2
         },
         "mode": "markers",
         "name": "Student_49",
         "text": [
          "Student_49"
         ],
         "type": "scatter",
         "uid": "e0978c46-e37d-11e8-9d8c-a1b30045967f",
         "x": [
          3
         ],
         "y": [
          26
         ]
        },
        {
         "marker": {
          "color": "rgb(0,255,0)",
          "colorscale": "Viridis",
          "line": {
           "width": 2
          },
          "size": 12,
          "symbol": 3
         },
         "mode": "markers",
         "name": "Student_50",
         "text": [
          "Student_50"
         ],
         "type": "scatter",
         "uid": "e0978cd2-e37d-11e8-9d8c-a1b30045967f",
         "x": [
          2
         ],
         "y": [
          32
         ]
        },
        {
         "marker": {
          "color": "rgb(0,255,0)",
          "colorscale": "Viridis",
          "line": {
           "width": 2
          },
          "size": 12,
          "symbol": 3
         },
         "mode": "markers",
         "name": "Student_51",
         "text": [
          "Student_51"
         ],
         "type": "scatter",
         "uid": "e0978d54-e37d-11e8-9d8c-a1b30045967f",
         "x": [
          2
         ],
         "y": [
          57
         ]
        },
        {
         "marker": {
          "color": "rgb(255,0,0)",
          "colorscale": "Viridis",
          "line": {
           "width": 2
          },
          "size": 12,
          "symbol": 0
         },
         "mode": "markers",
         "name": "Student_52",
         "text": [
          "Student_52"
         ],
         "type": "scatter",
         "uid": "e0978dd6-e37d-11e8-9d8c-a1b30045967f",
         "x": [
          1
         ],
         "y": [
          59
         ]
        },
        {
         "marker": {
          "color": "rgb(255,255,255)",
          "colorscale": "Viridis",
          "line": {
           "width": 2
          },
          "size": 12,
          "symbol": 2
         },
         "mode": "markers",
         "name": "Student_53",
         "text": [
          "Student_53"
         ],
         "type": "scatter",
         "uid": "e0978e62-e37d-11e8-9d8c-a1b30045967f",
         "x": [
          2
         ],
         "y": [
          26
         ]
        },
        {
         "marker": {
          "color": "rgb(0,255,0)",
          "colorscale": "Viridis",
          "line": {
           "width": 2
          },
          "size": 12,
          "symbol": 3
         },
         "mode": "markers",
         "name": "Student_54",
         "text": [
          "Student_54"
         ],
         "type": "scatter",
         "uid": "e0978eee-e37d-11e8-9d8c-a1b30045967f",
         "x": [
          3
         ],
         "y": [
          45
         ]
        },
        {
         "marker": {
          "color": "rgb(0,255,0)",
          "colorscale": "Viridis",
          "line": {
           "width": 2
          },
          "size": 12,
          "symbol": 3
         },
         "mode": "markers",
         "name": "Student_55",
         "text": [
          "Student_55"
         ],
         "type": "scatter",
         "uid": "e0978f70-e37d-11e8-9d8c-a1b30045967f",
         "x": [
          1
         ],
         "y": [
          42
         ]
        },
        {
         "marker": {
          "color": "rgb(0,255,0)",
          "colorscale": "Viridis",
          "line": {
           "width": 2
          },
          "size": 12,
          "symbol": 3
         },
         "mode": "markers",
         "name": "Student_56",
         "text": [
          "Student_56"
         ],
         "type": "scatter",
         "uid": "e0978ffc-e37d-11e8-9d8c-a1b30045967f",
         "x": [
          0
         ],
         "y": [
          44
         ]
        },
        {
         "marker": {
          "color": "rgb(255,255,255)",
          "colorscale": "Viridis",
          "line": {
           "width": 2
          },
          "size": 12,
          "symbol": 2
         },
         "mode": "markers",
         "name": "Student_57",
         "text": [
          "Student_57"
         ],
         "type": "scatter",
         "uid": "e097907e-e37d-11e8-9d8c-a1b30045967f",
         "x": [
          2
         ],
         "y": [
          15
         ]
        },
        {
         "marker": {
          "color": "rgb(0,0,255)",
          "colorscale": "Viridis",
          "line": {
           "width": 2
          },
          "size": 12,
          "symbol": 1
         },
         "mode": "markers",
         "name": "Student_58",
         "text": [
          "Student_58"
         ],
         "type": "scatter",
         "uid": "e097910a-e37d-11e8-9d8c-a1b30045967f",
         "x": [
          5
         ],
         "y": [
          74
         ]
        },
        {
         "marker": {
          "color": "rgb(255,0,0)",
          "colorscale": "Viridis",
          "line": {
           "width": 2
          },
          "size": 12,
          "symbol": 0
         },
         "mode": "markers",
         "name": "Student_59",
         "text": [
          "Student_59"
         ],
         "type": "scatter",
         "uid": "e097918c-e37d-11e8-9d8c-a1b30045967f",
         "x": [
          7
         ],
         "y": [
          65
         ]
        },
        {
         "marker": {
          "color": "rgb(255,255,255)",
          "colorscale": "Viridis",
          "line": {
           "width": 2
          },
          "size": 12,
          "symbol": 2
         },
         "mode": "markers",
         "name": "Student_60",
         "text": [
          "Student_60"
         ],
         "type": "scatter",
         "uid": "e0979204-e37d-11e8-9d8c-a1b30045967f",
         "x": [
          0
         ],
         "y": [
          22
         ]
        }
       ],
       "layout": {
        "hovermode": "closest",
        "showlegend": true,
        "title": "Notas dos estudantes vs threads iniciadas no fórum",
        "xaxis": {
         "autorange": false,
         "fixedrange": false,
         "range": [
          0,
          17
         ],
         "rangemode": "normal",
         "showline": true,
         "title": "Threads iniciadas no fórum",
         "zeroline": false
        },
        "yaxis": {
         "autorange": false,
         "fixedrange": false,
         "range": [
          0,
          97
         ],
         "rangemode": "normal",
         "showline": true,
         "title": "Notas"
        }
       }
      },
      "text/html": [
       "<div id=\"0045b177-271d-48d1-9bf6-a7c2f4110c55\" style=\"height: 525px; width: 100%;\" class=\"plotly-graph-div\"></div><script type=\"text/javascript\">require([\"plotly\"], function(Plotly) { window.PLOTLYENV=window.PLOTLYENV || {};window.PLOTLYENV.BASE_URL=\"https://plot.ly\";Plotly.newPlot(\"0045b177-271d-48d1-9bf6-a7c2f4110c55\", [{\"marker\": {\"color\": \"rgb(255,0,0)\", \"colorscale\": \"Viridis\", \"line\": {\"width\": 2}, \"size\": 12, \"symbol\": 0}, \"mode\": \"markers\", \"name\": \"Student_1\", \"text\": [\"Student_1\"], \"x\": [1], \"y\": [56], \"type\": \"scatter\", \"uid\": \"e0976fea-e37d-11e8-9d8c-a1b30045967f\"}, {\"marker\": {\"color\": \"rgb(0,255,0)\", \"colorscale\": \"Viridis\", \"line\": {\"width\": 2}, \"size\": 12, \"symbol\": 3}, \"mode\": \"markers\", \"name\": \"Student_2\", \"text\": [\"Student_2\"], \"x\": [3], \"y\": [47], \"type\": \"scatter\", \"uid\": \"e0977198-e37d-11e8-9d8c-a1b30045967f\"}, {\"marker\": {\"color\": \"rgb(0,255,0)\", \"colorscale\": \"Viridis\", \"line\": {\"width\": 2}, \"size\": 12, \"symbol\": 3}, \"mode\": \"markers\", \"name\": \"Student_3\", \"text\": [\"Student_3\"], \"x\": [3], \"y\": [38], \"type\": \"scatter\", \"uid\": \"e0977260-e37d-11e8-9d8c-a1b30045967f\"}, {\"marker\": {\"color\": \"rgb(0,255,0)\", \"colorscale\": \"Viridis\", \"line\": {\"width\": 2}, \"size\": 12, \"symbol\": 3}, \"mode\": \"markers\", \"name\": \"Student_4\", \"text\": [\"Student_4\"], \"x\": [1], \"y\": [44], \"type\": \"scatter\", \"uid\": \"e097730a-e37d-11e8-9d8c-a1b30045967f\"}, {\"marker\": {\"color\": \"rgb(255,255,255)\", \"colorscale\": \"Viridis\", \"line\": {\"width\": 2}, \"size\": 12, \"symbol\": 2}, \"mode\": \"markers\", \"name\": \"Student_5\", \"text\": [\"Student_5\"], \"x\": [0], \"y\": [17], \"type\": \"scatter\", \"uid\": \"e09773a0-e37d-11e8-9d8c-a1b30045967f\"}, {\"marker\": {\"color\": \"rgb(0,255,0)\", \"colorscale\": \"Viridis\", \"line\": {\"width\": 2}, \"size\": 12, \"symbol\": 3}, \"mode\": \"markers\", \"name\": \"Student_6\", \"text\": [\"Student_6\"], \"x\": [0], \"y\": [44], \"type\": \"scatter\", \"uid\": \"e0977436-e37d-11e8-9d8c-a1b30045967f\"}, {\"marker\": {\"color\": \"rgb(0,0,255)\", \"colorscale\": \"Viridis\", \"line\": {\"width\": 2}, \"size\": 12, \"symbol\": 1}, \"mode\": \"markers\", \"name\": \"Student_7\", \"text\": [\"Student_7\"], \"x\": [4], \"y\": [87], \"type\": \"scatter\", \"uid\": \"e09774c2-e37d-11e8-9d8c-a1b30045967f\"}, {\"marker\": {\"color\": \"rgb(255,0,0)\", \"colorscale\": \"Viridis\", \"line\": {\"width\": 2}, \"size\": 12, \"symbol\": 0}, \"mode\": \"markers\", \"name\": \"Student_8\", \"text\": [\"Student_8\"], \"x\": [2], \"y\": [63], \"type\": \"scatter\", \"uid\": \"e0977558-e37d-11e8-9d8c-a1b30045967f\"}, {\"marker\": {\"color\": \"rgb(0,255,0)\", \"colorscale\": \"Viridis\", \"line\": {\"width\": 2}, \"size\": 12, \"symbol\": 3}, \"mode\": \"markers\", \"name\": \"Student_9\", \"text\": [\"Student_9\"], \"x\": [0], \"y\": [36], \"type\": \"scatter\", \"uid\": \"e09775e4-e37d-11e8-9d8c-a1b30045967f\"}, {\"marker\": {\"color\": \"rgb(255,0,0)\", \"colorscale\": \"Viridis\", \"line\": {\"width\": 2}, \"size\": 12, \"symbol\": 0}, \"mode\": \"markers\", \"name\": \"Student_10\", \"text\": [\"Student_10\"], \"x\": [3], \"y\": [54], \"type\": \"scatter\", \"uid\": \"e097767a-e37d-11e8-9d8c-a1b30045967f\"}, {\"marker\": {\"color\": \"rgb(0,255,0)\", \"colorscale\": \"Viridis\", \"line\": {\"width\": 2}, \"size\": 12, \"symbol\": 3}, \"mode\": \"markers\", \"name\": \"Student_11\", \"text\": [\"Student_11\"], \"x\": [0], \"y\": [49], \"type\": \"scatter\", \"uid\": \"e0977706-e37d-11e8-9d8c-a1b30045967f\"}, {\"marker\": {\"color\": \"rgb(0,255,0)\", \"colorscale\": \"Viridis\", \"line\": {\"width\": 2}, \"size\": 12, \"symbol\": 3}, \"mode\": \"markers\", \"name\": \"Student_12\", \"text\": [\"Student_12\"], \"x\": [3], \"y\": [47], \"type\": \"scatter\", \"uid\": \"e0977792-e37d-11e8-9d8c-a1b30045967f\"}, {\"marker\": {\"color\": \"rgb(255,0,0)\", \"colorscale\": \"Viridis\", \"line\": {\"width\": 2}, \"size\": 12, \"symbol\": 0}, \"mode\": \"markers\", \"name\": \"Student_13\", \"text\": [\"Student_13\"], \"x\": [6], \"y\": [70], \"type\": \"scatter\", \"uid\": \"e0977828-e37d-11e8-9d8c-a1b30045967f\"}, {\"marker\": {\"color\": \"rgb(0,255,0)\", \"colorscale\": \"Viridis\", \"line\": {\"width\": 2}, \"size\": 12, \"symbol\": 3}, \"mode\": \"markers\", \"name\": \"Student_14\", \"text\": [\"Student_14\"], \"x\": [3], \"y\": [46], \"type\": \"scatter\", \"uid\": \"e09778b4-e37d-11e8-9d8c-a1b30045967f\"}, {\"marker\": {\"color\": \"rgb(0,255,0)\", \"colorscale\": \"Viridis\", \"line\": {\"width\": 2}, \"size\": 12, \"symbol\": 3}, \"mode\": \"markers\", \"name\": \"Student_15\", \"text\": [\"Student_15\"], \"x\": [3], \"y\": [47], \"type\": \"scatter\", \"uid\": \"e097794a-e37d-11e8-9d8c-a1b30045967f\"}, {\"marker\": {\"color\": \"rgb(0,0,255)\", \"colorscale\": \"Viridis\", \"line\": {\"width\": 2}, \"size\": 12, \"symbol\": 1}, \"mode\": \"markers\", \"name\": \"Student_16\", \"text\": [\"Student_16\"], \"x\": [5], \"y\": [76], \"type\": \"scatter\", \"uid\": \"e09779cc-e37d-11e8-9d8c-a1b30045967f\"}, {\"marker\": {\"color\": \"rgb(0,255,0)\", \"colorscale\": \"Viridis\", \"line\": {\"width\": 2}, \"size\": 12, \"symbol\": 3}, \"mode\": \"markers\", \"name\": \"Student_17\", \"text\": [\"Student_17\"], \"x\": [1], \"y\": [44], \"type\": \"scatter\", \"uid\": \"e0977a62-e37d-11e8-9d8c-a1b30045967f\"}, {\"marker\": {\"color\": \"rgb(255,0,0)\", \"colorscale\": \"Viridis\", \"line\": {\"width\": 2}, \"size\": 12, \"symbol\": 0}, \"mode\": \"markers\", \"name\": \"Student_18\", \"text\": [\"Student_18\"], \"x\": [7], \"y\": [66], \"type\": \"scatter\", \"uid\": \"e0977aee-e37d-11e8-9d8c-a1b30045967f\"}, {\"marker\": {\"color\": \"rgb(0,0,255)\", \"colorscale\": \"Viridis\", \"line\": {\"width\": 2}, \"size\": 12, \"symbol\": 1}, \"mode\": \"markers\", \"name\": \"Student_19\", \"text\": [\"Student_19\"], \"x\": [5], \"y\": [79], \"type\": \"scatter\", \"uid\": \"e0977b84-e37d-11e8-9d8c-a1b30045967f\"}, {\"marker\": {\"color\": \"rgb(0,255,0)\", \"colorscale\": \"Viridis\", \"line\": {\"width\": 2}, \"size\": 12, \"symbol\": 3}, \"mode\": \"markers\", \"name\": \"Student_20\", \"text\": [\"Student_20\"], \"x\": [3], \"y\": [45], \"type\": \"scatter\", \"uid\": \"e0977c1a-e37d-11e8-9d8c-a1b30045967f\"}, {\"marker\": {\"color\": \"rgb(0,0,255)\", \"colorscale\": \"Viridis\", \"line\": {\"width\": 2}, \"size\": 12, \"symbol\": 1}, \"mode\": \"markers\", \"name\": \"Student_21\", \"text\": [\"Student_21\"], \"x\": [0], \"y\": [71], \"type\": \"scatter\", \"uid\": \"e0977ca6-e37d-11e8-9d8c-a1b30045967f\"}, {\"marker\": {\"color\": \"rgb(0,255,0)\", \"colorscale\": \"Viridis\", \"line\": {\"width\": 2}, \"size\": 12, \"symbol\": 3}, \"mode\": \"markers\", \"name\": \"Student_22\", \"text\": [\"Student_22\"], \"x\": [3], \"y\": [50], \"type\": \"scatter\", \"uid\": \"e0977d32-e37d-11e8-9d8c-a1b30045967f\"}, {\"marker\": {\"color\": \"rgb(255,0,0)\", \"colorscale\": \"Viridis\", \"line\": {\"width\": 2}, \"size\": 12, \"symbol\": 0}, \"mode\": \"markers\", \"name\": \"Student_23\", \"text\": [\"Student_23\"], \"x\": [7], \"y\": [66], \"type\": \"scatter\", \"uid\": \"e0977dbe-e37d-11e8-9d8c-a1b30045967f\"}, {\"marker\": {\"color\": \"rgb(0,255,0)\", \"colorscale\": \"Viridis\", \"line\": {\"width\": 2}, \"size\": 12, \"symbol\": 3}, \"mode\": \"markers\", \"name\": \"Student_24\", \"text\": [\"Student_24\"], \"x\": [1], \"y\": [38], \"type\": \"scatter\", \"uid\": \"e0977e54-e37d-11e8-9d8c-a1b30045967f\"}, {\"marker\": {\"color\": \"rgb(0,255,0)\", \"colorscale\": \"Viridis\", \"line\": {\"width\": 2}, \"size\": 12, \"symbol\": 3}, \"mode\": \"markers\", \"name\": \"Student_25\", \"text\": [\"Student_25\"], \"x\": [0], \"y\": [34], \"type\": \"scatter\", \"uid\": \"e0977eea-e37d-11e8-9d8c-a1b30045967f\"}, {\"marker\": {\"color\": \"rgb(255,0,0)\", \"colorscale\": \"Viridis\", \"line\": {\"width\": 2}, \"size\": 12, \"symbol\": 0}, \"mode\": \"markers\", \"name\": \"Student_26\", \"text\": [\"Student_26\"], \"x\": [3], \"y\": [55], \"type\": \"scatter\", \"uid\": \"e0977f76-e37d-11e8-9d8c-a1b30045967f\"}, {\"marker\": {\"color\": \"rgb(255,0,0)\", \"colorscale\": \"Viridis\", \"line\": {\"width\": 2}, \"size\": 12, \"symbol\": 0}, \"mode\": \"markers\", \"name\": \"Student_27\", \"text\": [\"Student_27\"], \"x\": [1], \"y\": [59], \"type\": \"scatter\", \"uid\": \"e0978002-e37d-11e8-9d8c-a1b30045967f\"}, {\"marker\": {\"color\": \"rgb(255,0,0)\", \"colorscale\": \"Viridis\", \"line\": {\"width\": 2}, \"size\": 12, \"symbol\": 0}, \"mode\": \"markers\", \"name\": \"Student_28\", \"text\": [\"Student_28\"], \"x\": [1], \"y\": [68], \"type\": \"scatter\", \"uid\": \"e0978098-e37d-11e8-9d8c-a1b30045967f\"}, {\"marker\": {\"color\": \"rgb(255,0,0)\", \"colorscale\": \"Viridis\", \"line\": {\"width\": 2}, \"size\": 12, \"symbol\": 0}, \"mode\": \"markers\", \"name\": \"Student_29\", \"text\": [\"Student_29\"], \"x\": [5], \"y\": [66], \"type\": \"scatter\", \"uid\": \"e0978124-e37d-11e8-9d8c-a1b30045967f\"}, {\"marker\": {\"color\": \"rgb(255,0,0)\", \"colorscale\": \"Viridis\", \"line\": {\"width\": 2}, \"size\": 12, \"symbol\": 0}, \"mode\": \"markers\", \"name\": \"Student_30\", \"text\": [\"Student_30\"], \"x\": [3], \"y\": [53], \"type\": \"scatter\", \"uid\": \"e09781b0-e37d-11e8-9d8c-a1b30045967f\"}, {\"marker\": {\"color\": \"rgb(0,255,0)\", \"colorscale\": \"Viridis\", \"line\": {\"width\": 2}, \"size\": 12, \"symbol\": 3}, \"mode\": \"markers\", \"name\": \"Student_31\", \"text\": [\"Student_31\"], \"x\": [0], \"y\": [44], \"type\": \"scatter\", \"uid\": \"e0978246-e37d-11e8-9d8c-a1b30045967f\"}, {\"marker\": {\"color\": \"rgb(0,255,0)\", \"colorscale\": \"Viridis\", \"line\": {\"width\": 2}, \"size\": 12, \"symbol\": 3}, \"mode\": \"markers\", \"name\": \"Student_32\", \"text\": [\"Student_32\"], \"x\": [2], \"y\": [42], \"type\": \"scatter\", \"uid\": \"e09782d2-e37d-11e8-9d8c-a1b30045967f\"}, {\"marker\": {\"color\": \"rgb(255,0,0)\", \"colorscale\": \"Viridis\", \"line\": {\"width\": 2}, \"size\": 12, \"symbol\": 0}, \"mode\": \"markers\", \"name\": \"Student_33\", \"text\": [\"Student_33\"], \"x\": [6], \"y\": [63], \"type\": \"scatter\", \"uid\": \"e0978368-e37d-11e8-9d8c-a1b30045967f\"}, {\"marker\": {\"color\": \"rgb(255,255,255)\", \"colorscale\": \"Viridis\", \"line\": {\"width\": 2}, \"size\": 12, \"symbol\": 2}, \"mode\": \"markers\", \"name\": \"Student_34\", \"text\": [\"Student_34\"], \"x\": [0], \"y\": [14], \"type\": \"scatter\", \"uid\": \"e09783fe-e37d-11e8-9d8c-a1b30045967f\"}, {\"marker\": {\"color\": \"rgb(255,0,0)\", \"colorscale\": \"Viridis\", \"line\": {\"width\": 2}, \"size\": 12, \"symbol\": 0}, \"mode\": \"markers\", \"name\": \"Student_35\", \"text\": [\"Student_35\"], \"x\": [3], \"y\": [67], \"type\": \"scatter\", \"uid\": \"e097848a-e37d-11e8-9d8c-a1b30045967f\"}, {\"marker\": {\"color\": \"rgb(255,0,0)\", \"colorscale\": \"Viridis\", \"line\": {\"width\": 2}, \"size\": 12, \"symbol\": 0}, \"mode\": \"markers\", \"name\": \"Student_36\", \"text\": [\"Student_36\"], \"x\": [5], \"y\": [70], \"type\": \"scatter\", \"uid\": \"e0978516-e37d-11e8-9d8c-a1b30045967f\"}, {\"marker\": {\"color\": \"rgb(255,0,0)\", \"colorscale\": \"Viridis\", \"line\": {\"width\": 2}, \"size\": 12, \"symbol\": 0}, \"mode\": \"markers\", \"name\": \"Student_37\", \"text\": [\"Student_37\"], \"x\": [2], \"y\": [58], \"type\": \"scatter\", \"uid\": \"e09785a2-e37d-11e8-9d8c-a1b30045967f\"}, {\"marker\": {\"color\": \"rgb(255,255,255)\", \"colorscale\": \"Viridis\", \"line\": {\"width\": 2}, \"size\": 12, \"symbol\": 2}, \"mode\": \"markers\", \"name\": \"Student_38\", \"text\": [\"Student_38\"], \"x\": [2], \"y\": [22], \"type\": \"scatter\", \"uid\": \"e0978638-e37d-11e8-9d8c-a1b30045967f\"}, {\"marker\": {\"color\": \"rgb(0,255,0)\", \"colorscale\": \"Viridis\", \"line\": {\"width\": 2}, \"size\": 12, \"symbol\": 3}, \"mode\": \"markers\", \"name\": \"Student_39\", \"text\": [\"Student_39\"], \"x\": [2], \"y\": [35], \"type\": \"scatter\", \"uid\": \"e09786c4-e37d-11e8-9d8c-a1b30045967f\"}, {\"marker\": {\"color\": \"rgb(0,255,0)\", \"colorscale\": \"Viridis\", \"line\": {\"width\": 2}, \"size\": 12, \"symbol\": 3}, \"mode\": \"markers\", \"name\": \"Student_40\", \"text\": [\"Student_40\"], \"x\": [0], \"y\": [40], \"type\": \"scatter\", \"uid\": \"e0978750-e37d-11e8-9d8c-a1b30045967f\"}, {\"marker\": {\"color\": \"rgb(0,255,0)\", \"colorscale\": \"Viridis\", \"line\": {\"width\": 2}, \"size\": 12, \"symbol\": 3}, \"mode\": \"markers\", \"name\": \"Student_41\", \"text\": [\"Student_41\"], \"x\": [3], \"y\": [47], \"type\": \"scatter\", \"uid\": \"e09787dc-e37d-11e8-9d8c-a1b30045967f\"}, {\"marker\": {\"color\": \"rgb(0,0,255)\", \"colorscale\": \"Viridis\", \"line\": {\"width\": 2}, \"size\": 12, \"symbol\": 1}, \"mode\": \"markers\", \"name\": \"Student_42\", \"text\": [\"Student_42\"], \"x\": [6], \"y\": [75], \"type\": \"scatter\", \"uid\": \"e0978872-e37d-11e8-9d8c-a1b30045967f\"}, {\"marker\": {\"color\": \"rgb(0,255,0)\", \"colorscale\": \"Viridis\", \"line\": {\"width\": 2}, \"size\": 12, \"symbol\": 3}, \"mode\": \"markers\", \"name\": \"Student_43\", \"text\": [\"Student_43\"], \"x\": [1], \"y\": [35], \"type\": \"scatter\", \"uid\": \"e09788fe-e37d-11e8-9d8c-a1b30045967f\"}, {\"marker\": {\"color\": \"rgb(255,0,0)\", \"colorscale\": \"Viridis\", \"line\": {\"width\": 2}, \"size\": 12, \"symbol\": 0}, \"mode\": \"markers\", \"name\": \"Student_44\", \"text\": [\"Student_44\"], \"x\": [4], \"y\": [69], \"type\": \"scatter\", \"uid\": \"e097898a-e37d-11e8-9d8c-a1b30045967f\"}, {\"marker\": {\"color\": \"rgb(0,0,255)\", \"colorscale\": \"Viridis\", \"line\": {\"width\": 2}, \"size\": 12, \"symbol\": 1}, \"mode\": \"markers\", \"name\": \"Student_45\", \"text\": [\"Student_45\"], \"x\": [1], \"y\": [82], \"type\": \"scatter\", \"uid\": \"e0978a0c-e37d-11e8-9d8c-a1b30045967f\"}, {\"marker\": {\"color\": \"rgb(0,255,0)\", \"colorscale\": \"Viridis\", \"line\": {\"width\": 2}, \"size\": 12, \"symbol\": 3}, \"mode\": \"markers\", \"name\": \"Student_46\", \"text\": [\"Student_46\"], \"x\": [1], \"y\": [47], \"type\": \"scatter\", \"uid\": \"e0978a98-e37d-11e8-9d8c-a1b30045967f\"}, {\"marker\": {\"color\": \"rgb(0,255,0)\", \"colorscale\": \"Viridis\", \"line\": {\"width\": 2}, \"size\": 12, \"symbol\": 3}, \"mode\": \"markers\", \"name\": \"Student_47\", \"text\": [\"Student_47\"], \"x\": [2], \"y\": [34], \"type\": \"scatter\", \"uid\": \"e0978b24-e37d-11e8-9d8c-a1b30045967f\"}, {\"marker\": {\"color\": \"rgb(0,255,0)\", \"colorscale\": \"Viridis\", \"line\": {\"width\": 2}, \"size\": 12, \"symbol\": 3}, \"mode\": \"markers\", \"name\": \"Student_48\", \"text\": [\"Student_48\"], \"x\": [0], \"y\": [47], \"type\": \"scatter\", \"uid\": \"e0978bba-e37d-11e8-9d8c-a1b30045967f\"}, {\"marker\": {\"color\": \"rgb(255,255,255)\", \"colorscale\": \"Viridis\", \"line\": {\"width\": 2}, \"size\": 12, \"symbol\": 2}, \"mode\": \"markers\", \"name\": \"Student_49\", \"text\": [\"Student_49\"], \"x\": [3], \"y\": [26], \"type\": \"scatter\", \"uid\": \"e0978c46-e37d-11e8-9d8c-a1b30045967f\"}, {\"marker\": {\"color\": \"rgb(0,255,0)\", \"colorscale\": \"Viridis\", \"line\": {\"width\": 2}, \"size\": 12, \"symbol\": 3}, \"mode\": \"markers\", \"name\": \"Student_50\", \"text\": [\"Student_50\"], \"x\": [2], \"y\": [32], \"type\": \"scatter\", \"uid\": \"e0978cd2-e37d-11e8-9d8c-a1b30045967f\"}, {\"marker\": {\"color\": \"rgb(0,255,0)\", \"colorscale\": \"Viridis\", \"line\": {\"width\": 2}, \"size\": 12, \"symbol\": 3}, \"mode\": \"markers\", \"name\": \"Student_51\", \"text\": [\"Student_51\"], \"x\": [2], \"y\": [57], \"type\": \"scatter\", \"uid\": \"e0978d54-e37d-11e8-9d8c-a1b30045967f\"}, {\"marker\": {\"color\": \"rgb(255,0,0)\", \"colorscale\": \"Viridis\", \"line\": {\"width\": 2}, \"size\": 12, \"symbol\": 0}, \"mode\": \"markers\", \"name\": \"Student_52\", \"text\": [\"Student_52\"], \"x\": [1], \"y\": [59], \"type\": \"scatter\", \"uid\": \"e0978dd6-e37d-11e8-9d8c-a1b30045967f\"}, {\"marker\": {\"color\": \"rgb(255,255,255)\", \"colorscale\": \"Viridis\", \"line\": {\"width\": 2}, \"size\": 12, \"symbol\": 2}, \"mode\": \"markers\", \"name\": \"Student_53\", \"text\": [\"Student_53\"], \"x\": [2], \"y\": [26], \"type\": \"scatter\", \"uid\": \"e0978e62-e37d-11e8-9d8c-a1b30045967f\"}, {\"marker\": {\"color\": \"rgb(0,255,0)\", \"colorscale\": \"Viridis\", \"line\": {\"width\": 2}, \"size\": 12, \"symbol\": 3}, \"mode\": \"markers\", \"name\": \"Student_54\", \"text\": [\"Student_54\"], \"x\": [3], \"y\": [45], \"type\": \"scatter\", \"uid\": \"e0978eee-e37d-11e8-9d8c-a1b30045967f\"}, {\"marker\": {\"color\": \"rgb(0,255,0)\", \"colorscale\": \"Viridis\", \"line\": {\"width\": 2}, \"size\": 12, \"symbol\": 3}, \"mode\": \"markers\", \"name\": \"Student_55\", \"text\": [\"Student_55\"], \"x\": [1], \"y\": [42], \"type\": \"scatter\", \"uid\": \"e0978f70-e37d-11e8-9d8c-a1b30045967f\"}, {\"marker\": {\"color\": \"rgb(0,255,0)\", \"colorscale\": \"Viridis\", \"line\": {\"width\": 2}, \"size\": 12, \"symbol\": 3}, \"mode\": \"markers\", \"name\": \"Student_56\", \"text\": [\"Student_56\"], \"x\": [0], \"y\": [44], \"type\": \"scatter\", \"uid\": \"e0978ffc-e37d-11e8-9d8c-a1b30045967f\"}, {\"marker\": {\"color\": \"rgb(255,255,255)\", \"colorscale\": \"Viridis\", \"line\": {\"width\": 2}, \"size\": 12, \"symbol\": 2}, \"mode\": \"markers\", \"name\": \"Student_57\", \"text\": [\"Student_57\"], \"x\": [2], \"y\": [15], \"type\": \"scatter\", \"uid\": \"e097907e-e37d-11e8-9d8c-a1b30045967f\"}, {\"marker\": {\"color\": \"rgb(0,0,255)\", \"colorscale\": \"Viridis\", \"line\": {\"width\": 2}, \"size\": 12, \"symbol\": 1}, \"mode\": \"markers\", \"name\": \"Student_58\", \"text\": [\"Student_58\"], \"x\": [5], \"y\": [74], \"type\": \"scatter\", \"uid\": \"e097910a-e37d-11e8-9d8c-a1b30045967f\"}, {\"marker\": {\"color\": \"rgb(255,0,0)\", \"colorscale\": \"Viridis\", \"line\": {\"width\": 2}, \"size\": 12, \"symbol\": 0}, \"mode\": \"markers\", \"name\": \"Student_59\", \"text\": [\"Student_59\"], \"x\": [7], \"y\": [65], \"type\": \"scatter\", \"uid\": \"e097918c-e37d-11e8-9d8c-a1b30045967f\"}, {\"marker\": {\"color\": \"rgb(255,255,255)\", \"colorscale\": \"Viridis\", \"line\": {\"width\": 2}, \"size\": 12, \"symbol\": 2}, \"mode\": \"markers\", \"name\": \"Student_60\", \"text\": [\"Student_60\"], \"x\": [0], \"y\": [22], \"type\": \"scatter\", \"uid\": \"e0979204-e37d-11e8-9d8c-a1b30045967f\"}], {\"hovermode\": \"closest\", \"showlegend\": true, \"title\": \"Notas dos estudantes vs threads iniciadas no f\\u00f3rum\", \"xaxis\": {\"autorange\": false, \"fixedrange\": false, \"range\": [0, 17], \"rangemode\": \"normal\", \"showline\": true, \"title\": \"Threads iniciadas no f\\u00f3rum\", \"zeroline\": false}, \"yaxis\": {\"autorange\": false, \"fixedrange\": false, \"range\": [0, 97], \"rangemode\": \"normal\", \"showline\": true, \"title\": \"Notas\"}}, {\"showLink\": true, \"linkText\": \"Export to plot.ly\"})});</script>"
      ],
      "text/vnd.plotly.v1+html": [
       "<div id=\"0045b177-271d-48d1-9bf6-a7c2f4110c55\" style=\"height: 525px; width: 100%;\" class=\"plotly-graph-div\"></div><script type=\"text/javascript\">require([\"plotly\"], function(Plotly) { window.PLOTLYENV=window.PLOTLYENV || {};window.PLOTLYENV.BASE_URL=\"https://plot.ly\";Plotly.newPlot(\"0045b177-271d-48d1-9bf6-a7c2f4110c55\", [{\"marker\": {\"color\": \"rgb(255,0,0)\", \"colorscale\": \"Viridis\", \"line\": {\"width\": 2}, \"size\": 12, \"symbol\": 0}, \"mode\": \"markers\", \"name\": \"Student_1\", \"text\": [\"Student_1\"], \"x\": [1], \"y\": [56], \"type\": \"scatter\", \"uid\": \"e0976fea-e37d-11e8-9d8c-a1b30045967f\"}, {\"marker\": {\"color\": \"rgb(0,255,0)\", \"colorscale\": \"Viridis\", \"line\": {\"width\": 2}, \"size\": 12, \"symbol\": 3}, \"mode\": \"markers\", \"name\": \"Student_2\", \"text\": [\"Student_2\"], \"x\": [3], \"y\": [47], \"type\": \"scatter\", \"uid\": \"e0977198-e37d-11e8-9d8c-a1b30045967f\"}, {\"marker\": {\"color\": \"rgb(0,255,0)\", \"colorscale\": \"Viridis\", \"line\": {\"width\": 2}, \"size\": 12, \"symbol\": 3}, \"mode\": \"markers\", \"name\": \"Student_3\", \"text\": [\"Student_3\"], \"x\": [3], \"y\": [38], \"type\": \"scatter\", \"uid\": \"e0977260-e37d-11e8-9d8c-a1b30045967f\"}, {\"marker\": {\"color\": \"rgb(0,255,0)\", \"colorscale\": \"Viridis\", \"line\": {\"width\": 2}, \"size\": 12, \"symbol\": 3}, \"mode\": \"markers\", \"name\": \"Student_4\", \"text\": [\"Student_4\"], \"x\": [1], \"y\": [44], \"type\": \"scatter\", \"uid\": \"e097730a-e37d-11e8-9d8c-a1b30045967f\"}, {\"marker\": {\"color\": \"rgb(255,255,255)\", \"colorscale\": \"Viridis\", \"line\": {\"width\": 2}, \"size\": 12, \"symbol\": 2}, \"mode\": \"markers\", \"name\": \"Student_5\", \"text\": [\"Student_5\"], \"x\": [0], \"y\": [17], \"type\": \"scatter\", \"uid\": \"e09773a0-e37d-11e8-9d8c-a1b30045967f\"}, {\"marker\": {\"color\": \"rgb(0,255,0)\", \"colorscale\": \"Viridis\", \"line\": {\"width\": 2}, \"size\": 12, \"symbol\": 3}, \"mode\": \"markers\", \"name\": \"Student_6\", \"text\": [\"Student_6\"], \"x\": [0], \"y\": [44], \"type\": \"scatter\", \"uid\": \"e0977436-e37d-11e8-9d8c-a1b30045967f\"}, {\"marker\": {\"color\": \"rgb(0,0,255)\", \"colorscale\": \"Viridis\", \"line\": {\"width\": 2}, \"size\": 12, \"symbol\": 1}, \"mode\": \"markers\", \"name\": \"Student_7\", \"text\": [\"Student_7\"], \"x\": [4], \"y\": [87], \"type\": \"scatter\", \"uid\": \"e09774c2-e37d-11e8-9d8c-a1b30045967f\"}, {\"marker\": {\"color\": \"rgb(255,0,0)\", \"colorscale\": \"Viridis\", \"line\": {\"width\": 2}, \"size\": 12, \"symbol\": 0}, \"mode\": \"markers\", \"name\": \"Student_8\", \"text\": [\"Student_8\"], \"x\": [2], \"y\": [63], \"type\": \"scatter\", \"uid\": \"e0977558-e37d-11e8-9d8c-a1b30045967f\"}, {\"marker\": {\"color\": \"rgb(0,255,0)\", \"colorscale\": \"Viridis\", \"line\": {\"width\": 2}, \"size\": 12, \"symbol\": 3}, \"mode\": \"markers\", \"name\": \"Student_9\", \"text\": [\"Student_9\"], \"x\": [0], \"y\": [36], \"type\": \"scatter\", \"uid\": \"e09775e4-e37d-11e8-9d8c-a1b30045967f\"}, {\"marker\": {\"color\": \"rgb(255,0,0)\", \"colorscale\": \"Viridis\", \"line\": {\"width\": 2}, \"size\": 12, \"symbol\": 0}, \"mode\": \"markers\", \"name\": \"Student_10\", \"text\": [\"Student_10\"], \"x\": [3], \"y\": [54], \"type\": \"scatter\", \"uid\": \"e097767a-e37d-11e8-9d8c-a1b30045967f\"}, {\"marker\": {\"color\": \"rgb(0,255,0)\", \"colorscale\": \"Viridis\", \"line\": {\"width\": 2}, \"size\": 12, \"symbol\": 3}, \"mode\": \"markers\", \"name\": \"Student_11\", \"text\": [\"Student_11\"], \"x\": [0], \"y\": [49], \"type\": \"scatter\", \"uid\": \"e0977706-e37d-11e8-9d8c-a1b30045967f\"}, {\"marker\": {\"color\": \"rgb(0,255,0)\", \"colorscale\": \"Viridis\", \"line\": {\"width\": 2}, \"size\": 12, \"symbol\": 3}, \"mode\": \"markers\", \"name\": \"Student_12\", \"text\": [\"Student_12\"], \"x\": [3], \"y\": [47], \"type\": \"scatter\", \"uid\": \"e0977792-e37d-11e8-9d8c-a1b30045967f\"}, {\"marker\": {\"color\": \"rgb(255,0,0)\", \"colorscale\": \"Viridis\", \"line\": {\"width\": 2}, \"size\": 12, \"symbol\": 0}, \"mode\": \"markers\", \"name\": \"Student_13\", \"text\": [\"Student_13\"], \"x\": [6], \"y\": [70], \"type\": \"scatter\", \"uid\": \"e0977828-e37d-11e8-9d8c-a1b30045967f\"}, {\"marker\": {\"color\": \"rgb(0,255,0)\", \"colorscale\": \"Viridis\", \"line\": {\"width\": 2}, \"size\": 12, \"symbol\": 3}, \"mode\": \"markers\", \"name\": \"Student_14\", \"text\": [\"Student_14\"], \"x\": [3], \"y\": [46], \"type\": \"scatter\", \"uid\": \"e09778b4-e37d-11e8-9d8c-a1b30045967f\"}, {\"marker\": {\"color\": \"rgb(0,255,0)\", \"colorscale\": \"Viridis\", \"line\": {\"width\": 2}, \"size\": 12, \"symbol\": 3}, \"mode\": \"markers\", \"name\": \"Student_15\", \"text\": [\"Student_15\"], \"x\": [3], \"y\": [47], \"type\": \"scatter\", \"uid\": \"e097794a-e37d-11e8-9d8c-a1b30045967f\"}, {\"marker\": {\"color\": \"rgb(0,0,255)\", \"colorscale\": \"Viridis\", \"line\": {\"width\": 2}, \"size\": 12, \"symbol\": 1}, \"mode\": \"markers\", \"name\": \"Student_16\", \"text\": [\"Student_16\"], \"x\": [5], \"y\": [76], \"type\": \"scatter\", \"uid\": \"e09779cc-e37d-11e8-9d8c-a1b30045967f\"}, {\"marker\": {\"color\": \"rgb(0,255,0)\", \"colorscale\": \"Viridis\", \"line\": {\"width\": 2}, \"size\": 12, \"symbol\": 3}, \"mode\": \"markers\", \"name\": \"Student_17\", \"text\": [\"Student_17\"], \"x\": [1], \"y\": [44], \"type\": \"scatter\", \"uid\": \"e0977a62-e37d-11e8-9d8c-a1b30045967f\"}, {\"marker\": {\"color\": \"rgb(255,0,0)\", \"colorscale\": \"Viridis\", \"line\": {\"width\": 2}, \"size\": 12, \"symbol\": 0}, \"mode\": \"markers\", \"name\": \"Student_18\", \"text\": [\"Student_18\"], \"x\": [7], \"y\": [66], \"type\": \"scatter\", \"uid\": \"e0977aee-e37d-11e8-9d8c-a1b30045967f\"}, {\"marker\": {\"color\": \"rgb(0,0,255)\", \"colorscale\": \"Viridis\", \"line\": {\"width\": 2}, \"size\": 12, \"symbol\": 1}, \"mode\": \"markers\", \"name\": \"Student_19\", \"text\": [\"Student_19\"], \"x\": [5], \"y\": [79], \"type\": \"scatter\", \"uid\": \"e0977b84-e37d-11e8-9d8c-a1b30045967f\"}, {\"marker\": {\"color\": \"rgb(0,255,0)\", \"colorscale\": \"Viridis\", \"line\": {\"width\": 2}, \"size\": 12, \"symbol\": 3}, \"mode\": \"markers\", \"name\": \"Student_20\", \"text\": [\"Student_20\"], \"x\": [3], \"y\": [45], \"type\": \"scatter\", \"uid\": \"e0977c1a-e37d-11e8-9d8c-a1b30045967f\"}, {\"marker\": {\"color\": \"rgb(0,0,255)\", \"colorscale\": \"Viridis\", \"line\": {\"width\": 2}, \"size\": 12, \"symbol\": 1}, \"mode\": \"markers\", \"name\": \"Student_21\", \"text\": [\"Student_21\"], \"x\": [0], \"y\": [71], \"type\": \"scatter\", \"uid\": \"e0977ca6-e37d-11e8-9d8c-a1b30045967f\"}, {\"marker\": {\"color\": \"rgb(0,255,0)\", \"colorscale\": \"Viridis\", \"line\": {\"width\": 2}, \"size\": 12, \"symbol\": 3}, \"mode\": \"markers\", \"name\": \"Student_22\", \"text\": [\"Student_22\"], \"x\": [3], \"y\": [50], \"type\": \"scatter\", \"uid\": \"e0977d32-e37d-11e8-9d8c-a1b30045967f\"}, {\"marker\": {\"color\": \"rgb(255,0,0)\", \"colorscale\": \"Viridis\", \"line\": {\"width\": 2}, \"size\": 12, \"symbol\": 0}, \"mode\": \"markers\", \"name\": \"Student_23\", \"text\": [\"Student_23\"], \"x\": [7], \"y\": [66], \"type\": \"scatter\", \"uid\": \"e0977dbe-e37d-11e8-9d8c-a1b30045967f\"}, {\"marker\": {\"color\": \"rgb(0,255,0)\", \"colorscale\": \"Viridis\", \"line\": {\"width\": 2}, \"size\": 12, \"symbol\": 3}, \"mode\": \"markers\", \"name\": \"Student_24\", \"text\": [\"Student_24\"], \"x\": [1], \"y\": [38], \"type\": \"scatter\", \"uid\": \"e0977e54-e37d-11e8-9d8c-a1b30045967f\"}, {\"marker\": {\"color\": \"rgb(0,255,0)\", \"colorscale\": \"Viridis\", \"line\": {\"width\": 2}, \"size\": 12, \"symbol\": 3}, \"mode\": \"markers\", \"name\": \"Student_25\", \"text\": [\"Student_25\"], \"x\": [0], \"y\": [34], \"type\": \"scatter\", \"uid\": \"e0977eea-e37d-11e8-9d8c-a1b30045967f\"}, {\"marker\": {\"color\": \"rgb(255,0,0)\", \"colorscale\": \"Viridis\", \"line\": {\"width\": 2}, \"size\": 12, \"symbol\": 0}, \"mode\": \"markers\", \"name\": \"Student_26\", \"text\": [\"Student_26\"], \"x\": [3], \"y\": [55], \"type\": \"scatter\", \"uid\": \"e0977f76-e37d-11e8-9d8c-a1b30045967f\"}, {\"marker\": {\"color\": \"rgb(255,0,0)\", \"colorscale\": \"Viridis\", \"line\": {\"width\": 2}, \"size\": 12, \"symbol\": 0}, \"mode\": \"markers\", \"name\": \"Student_27\", \"text\": [\"Student_27\"], \"x\": [1], \"y\": [59], \"type\": \"scatter\", \"uid\": \"e0978002-e37d-11e8-9d8c-a1b30045967f\"}, {\"marker\": {\"color\": \"rgb(255,0,0)\", \"colorscale\": \"Viridis\", \"line\": {\"width\": 2}, \"size\": 12, \"symbol\": 0}, \"mode\": \"markers\", \"name\": \"Student_28\", \"text\": [\"Student_28\"], \"x\": [1], \"y\": [68], \"type\": \"scatter\", \"uid\": \"e0978098-e37d-11e8-9d8c-a1b30045967f\"}, {\"marker\": {\"color\": \"rgb(255,0,0)\", \"colorscale\": \"Viridis\", \"line\": {\"width\": 2}, \"size\": 12, \"symbol\": 0}, \"mode\": \"markers\", \"name\": \"Student_29\", \"text\": [\"Student_29\"], \"x\": [5], \"y\": [66], \"type\": \"scatter\", \"uid\": \"e0978124-e37d-11e8-9d8c-a1b30045967f\"}, {\"marker\": {\"color\": \"rgb(255,0,0)\", \"colorscale\": \"Viridis\", \"line\": {\"width\": 2}, \"size\": 12, \"symbol\": 0}, \"mode\": \"markers\", \"name\": \"Student_30\", \"text\": [\"Student_30\"], \"x\": [3], \"y\": [53], \"type\": \"scatter\", \"uid\": \"e09781b0-e37d-11e8-9d8c-a1b30045967f\"}, {\"marker\": {\"color\": \"rgb(0,255,0)\", \"colorscale\": \"Viridis\", \"line\": {\"width\": 2}, \"size\": 12, \"symbol\": 3}, \"mode\": \"markers\", \"name\": \"Student_31\", \"text\": [\"Student_31\"], \"x\": [0], \"y\": [44], \"type\": \"scatter\", \"uid\": \"e0978246-e37d-11e8-9d8c-a1b30045967f\"}, {\"marker\": {\"color\": \"rgb(0,255,0)\", \"colorscale\": \"Viridis\", \"line\": {\"width\": 2}, \"size\": 12, \"symbol\": 3}, \"mode\": \"markers\", \"name\": \"Student_32\", \"text\": [\"Student_32\"], \"x\": [2], \"y\": [42], \"type\": \"scatter\", \"uid\": \"e09782d2-e37d-11e8-9d8c-a1b30045967f\"}, {\"marker\": {\"color\": \"rgb(255,0,0)\", \"colorscale\": \"Viridis\", \"line\": {\"width\": 2}, \"size\": 12, \"symbol\": 0}, \"mode\": \"markers\", \"name\": \"Student_33\", \"text\": [\"Student_33\"], \"x\": [6], \"y\": [63], \"type\": \"scatter\", \"uid\": \"e0978368-e37d-11e8-9d8c-a1b30045967f\"}, {\"marker\": {\"color\": \"rgb(255,255,255)\", \"colorscale\": \"Viridis\", \"line\": {\"width\": 2}, \"size\": 12, \"symbol\": 2}, \"mode\": \"markers\", \"name\": \"Student_34\", \"text\": [\"Student_34\"], \"x\": [0], \"y\": [14], \"type\": \"scatter\", \"uid\": \"e09783fe-e37d-11e8-9d8c-a1b30045967f\"}, {\"marker\": {\"color\": \"rgb(255,0,0)\", \"colorscale\": \"Viridis\", \"line\": {\"width\": 2}, \"size\": 12, \"symbol\": 0}, \"mode\": \"markers\", \"name\": \"Student_35\", \"text\": [\"Student_35\"], \"x\": [3], \"y\": [67], \"type\": \"scatter\", \"uid\": \"e097848a-e37d-11e8-9d8c-a1b30045967f\"}, {\"marker\": {\"color\": \"rgb(255,0,0)\", \"colorscale\": \"Viridis\", \"line\": {\"width\": 2}, \"size\": 12, \"symbol\": 0}, \"mode\": \"markers\", \"name\": \"Student_36\", \"text\": [\"Student_36\"], \"x\": [5], \"y\": [70], \"type\": \"scatter\", \"uid\": \"e0978516-e37d-11e8-9d8c-a1b30045967f\"}, {\"marker\": {\"color\": \"rgb(255,0,0)\", \"colorscale\": \"Viridis\", \"line\": {\"width\": 2}, \"size\": 12, \"symbol\": 0}, \"mode\": \"markers\", \"name\": \"Student_37\", \"text\": [\"Student_37\"], \"x\": [2], \"y\": [58], \"type\": \"scatter\", \"uid\": \"e09785a2-e37d-11e8-9d8c-a1b30045967f\"}, {\"marker\": {\"color\": \"rgb(255,255,255)\", \"colorscale\": \"Viridis\", \"line\": {\"width\": 2}, \"size\": 12, \"symbol\": 2}, \"mode\": \"markers\", \"name\": \"Student_38\", \"text\": [\"Student_38\"], \"x\": [2], \"y\": [22], \"type\": \"scatter\", \"uid\": \"e0978638-e37d-11e8-9d8c-a1b30045967f\"}, {\"marker\": {\"color\": \"rgb(0,255,0)\", \"colorscale\": \"Viridis\", \"line\": {\"width\": 2}, \"size\": 12, \"symbol\": 3}, \"mode\": \"markers\", \"name\": \"Student_39\", \"text\": [\"Student_39\"], \"x\": [2], \"y\": [35], \"type\": \"scatter\", \"uid\": \"e09786c4-e37d-11e8-9d8c-a1b30045967f\"}, {\"marker\": {\"color\": \"rgb(0,255,0)\", \"colorscale\": \"Viridis\", \"line\": {\"width\": 2}, \"size\": 12, \"symbol\": 3}, \"mode\": \"markers\", \"name\": \"Student_40\", \"text\": [\"Student_40\"], \"x\": [0], \"y\": [40], \"type\": \"scatter\", \"uid\": \"e0978750-e37d-11e8-9d8c-a1b30045967f\"}, {\"marker\": {\"color\": \"rgb(0,255,0)\", \"colorscale\": \"Viridis\", \"line\": {\"width\": 2}, \"size\": 12, \"symbol\": 3}, \"mode\": \"markers\", \"name\": \"Student_41\", \"text\": [\"Student_41\"], \"x\": [3], \"y\": [47], \"type\": \"scatter\", \"uid\": \"e09787dc-e37d-11e8-9d8c-a1b30045967f\"}, {\"marker\": {\"color\": \"rgb(0,0,255)\", \"colorscale\": \"Viridis\", \"line\": {\"width\": 2}, \"size\": 12, \"symbol\": 1}, \"mode\": \"markers\", \"name\": \"Student_42\", \"text\": [\"Student_42\"], \"x\": [6], \"y\": [75], \"type\": \"scatter\", \"uid\": \"e0978872-e37d-11e8-9d8c-a1b30045967f\"}, {\"marker\": {\"color\": \"rgb(0,255,0)\", \"colorscale\": \"Viridis\", \"line\": {\"width\": 2}, \"size\": 12, \"symbol\": 3}, \"mode\": \"markers\", \"name\": \"Student_43\", \"text\": [\"Student_43\"], \"x\": [1], \"y\": [35], \"type\": \"scatter\", \"uid\": \"e09788fe-e37d-11e8-9d8c-a1b30045967f\"}, {\"marker\": {\"color\": \"rgb(255,0,0)\", \"colorscale\": \"Viridis\", \"line\": {\"width\": 2}, \"size\": 12, \"symbol\": 0}, \"mode\": \"markers\", \"name\": \"Student_44\", \"text\": [\"Student_44\"], \"x\": [4], \"y\": [69], \"type\": \"scatter\", \"uid\": \"e097898a-e37d-11e8-9d8c-a1b30045967f\"}, {\"marker\": {\"color\": \"rgb(0,0,255)\", \"colorscale\": \"Viridis\", \"line\": {\"width\": 2}, \"size\": 12, \"symbol\": 1}, \"mode\": \"markers\", \"name\": \"Student_45\", \"text\": [\"Student_45\"], \"x\": [1], \"y\": [82], \"type\": \"scatter\", \"uid\": \"e0978a0c-e37d-11e8-9d8c-a1b30045967f\"}, {\"marker\": {\"color\": \"rgb(0,255,0)\", \"colorscale\": \"Viridis\", \"line\": {\"width\": 2}, \"size\": 12, \"symbol\": 3}, \"mode\": \"markers\", \"name\": \"Student_46\", \"text\": [\"Student_46\"], \"x\": [1], \"y\": [47], \"type\": \"scatter\", \"uid\": \"e0978a98-e37d-11e8-9d8c-a1b30045967f\"}, {\"marker\": {\"color\": \"rgb(0,255,0)\", \"colorscale\": \"Viridis\", \"line\": {\"width\": 2}, \"size\": 12, \"symbol\": 3}, \"mode\": \"markers\", \"name\": \"Student_47\", \"text\": [\"Student_47\"], \"x\": [2], \"y\": [34], \"type\": \"scatter\", \"uid\": \"e0978b24-e37d-11e8-9d8c-a1b30045967f\"}, {\"marker\": {\"color\": \"rgb(0,255,0)\", \"colorscale\": \"Viridis\", \"line\": {\"width\": 2}, \"size\": 12, \"symbol\": 3}, \"mode\": \"markers\", \"name\": \"Student_48\", \"text\": [\"Student_48\"], \"x\": [0], \"y\": [47], \"type\": \"scatter\", \"uid\": \"e0978bba-e37d-11e8-9d8c-a1b30045967f\"}, {\"marker\": {\"color\": \"rgb(255,255,255)\", \"colorscale\": \"Viridis\", \"line\": {\"width\": 2}, \"size\": 12, \"symbol\": 2}, \"mode\": \"markers\", \"name\": \"Student_49\", \"text\": [\"Student_49\"], \"x\": [3], \"y\": [26], \"type\": \"scatter\", \"uid\": \"e0978c46-e37d-11e8-9d8c-a1b30045967f\"}, {\"marker\": {\"color\": \"rgb(0,255,0)\", \"colorscale\": \"Viridis\", \"line\": {\"width\": 2}, \"size\": 12, \"symbol\": 3}, \"mode\": \"markers\", \"name\": \"Student_50\", \"text\": [\"Student_50\"], \"x\": [2], \"y\": [32], \"type\": \"scatter\", \"uid\": \"e0978cd2-e37d-11e8-9d8c-a1b30045967f\"}, {\"marker\": {\"color\": \"rgb(0,255,0)\", \"colorscale\": \"Viridis\", \"line\": {\"width\": 2}, \"size\": 12, \"symbol\": 3}, \"mode\": \"markers\", \"name\": \"Student_51\", \"text\": [\"Student_51\"], \"x\": [2], \"y\": [57], \"type\": \"scatter\", \"uid\": \"e0978d54-e37d-11e8-9d8c-a1b30045967f\"}, {\"marker\": {\"color\": \"rgb(255,0,0)\", \"colorscale\": \"Viridis\", \"line\": {\"width\": 2}, \"size\": 12, \"symbol\": 0}, \"mode\": \"markers\", \"name\": \"Student_52\", \"text\": [\"Student_52\"], \"x\": [1], \"y\": [59], \"type\": \"scatter\", \"uid\": \"e0978dd6-e37d-11e8-9d8c-a1b30045967f\"}, {\"marker\": {\"color\": \"rgb(255,255,255)\", \"colorscale\": \"Viridis\", \"line\": {\"width\": 2}, \"size\": 12, \"symbol\": 2}, \"mode\": \"markers\", \"name\": \"Student_53\", \"text\": [\"Student_53\"], \"x\": [2], \"y\": [26], \"type\": \"scatter\", \"uid\": \"e0978e62-e37d-11e8-9d8c-a1b30045967f\"}, {\"marker\": {\"color\": \"rgb(0,255,0)\", \"colorscale\": \"Viridis\", \"line\": {\"width\": 2}, \"size\": 12, \"symbol\": 3}, \"mode\": \"markers\", \"name\": \"Student_54\", \"text\": [\"Student_54\"], \"x\": [3], \"y\": [45], \"type\": \"scatter\", \"uid\": \"e0978eee-e37d-11e8-9d8c-a1b30045967f\"}, {\"marker\": {\"color\": \"rgb(0,255,0)\", \"colorscale\": \"Viridis\", \"line\": {\"width\": 2}, \"size\": 12, \"symbol\": 3}, \"mode\": \"markers\", \"name\": \"Student_55\", \"text\": [\"Student_55\"], \"x\": [1], \"y\": [42], \"type\": \"scatter\", \"uid\": \"e0978f70-e37d-11e8-9d8c-a1b30045967f\"}, {\"marker\": {\"color\": \"rgb(0,255,0)\", \"colorscale\": \"Viridis\", \"line\": {\"width\": 2}, \"size\": 12, \"symbol\": 3}, \"mode\": \"markers\", \"name\": \"Student_56\", \"text\": [\"Student_56\"], \"x\": [0], \"y\": [44], \"type\": \"scatter\", \"uid\": \"e0978ffc-e37d-11e8-9d8c-a1b30045967f\"}, {\"marker\": {\"color\": \"rgb(255,255,255)\", \"colorscale\": \"Viridis\", \"line\": {\"width\": 2}, \"size\": 12, \"symbol\": 2}, \"mode\": \"markers\", \"name\": \"Student_57\", \"text\": [\"Student_57\"], \"x\": [2], \"y\": [15], \"type\": \"scatter\", \"uid\": \"e097907e-e37d-11e8-9d8c-a1b30045967f\"}, {\"marker\": {\"color\": \"rgb(0,0,255)\", \"colorscale\": \"Viridis\", \"line\": {\"width\": 2}, \"size\": 12, \"symbol\": 1}, \"mode\": \"markers\", \"name\": \"Student_58\", \"text\": [\"Student_58\"], \"x\": [5], \"y\": [74], \"type\": \"scatter\", \"uid\": \"e097910a-e37d-11e8-9d8c-a1b30045967f\"}, {\"marker\": {\"color\": \"rgb(255,0,0)\", \"colorscale\": \"Viridis\", \"line\": {\"width\": 2}, \"size\": 12, \"symbol\": 0}, \"mode\": \"markers\", \"name\": \"Student_59\", \"text\": [\"Student_59\"], \"x\": [7], \"y\": [65], \"type\": \"scatter\", \"uid\": \"e097918c-e37d-11e8-9d8c-a1b30045967f\"}, {\"marker\": {\"color\": \"rgb(255,255,255)\", \"colorscale\": \"Viridis\", \"line\": {\"width\": 2}, \"size\": 12, \"symbol\": 2}, \"mode\": \"markers\", \"name\": \"Student_60\", \"text\": [\"Student_60\"], \"x\": [0], \"y\": [22], \"type\": \"scatter\", \"uid\": \"e0979204-e37d-11e8-9d8c-a1b30045967f\"}], {\"hovermode\": \"closest\", \"showlegend\": true, \"title\": \"Notas dos estudantes vs threads iniciadas no f\\u00f3rum\", \"xaxis\": {\"autorange\": false, \"fixedrange\": false, \"range\": [0, 17], \"rangemode\": \"normal\", \"showline\": true, \"title\": \"Threads iniciadas no f\\u00f3rum\", \"zeroline\": false}, \"yaxis\": {\"autorange\": false, \"fixedrange\": false, \"range\": [0, 97], \"rangemode\": \"normal\", \"showline\": true, \"title\": \"Notas\"}}, {\"showLink\": true, \"linkText\": \"Export to plot.ly\"})});</script>"
      ]
     },
     "metadata": {},
     "output_type": "display_data"
    }
   ],
   "source": [
    "run scripts/V005.py"
   ]
  },
  {
   "cell_type": "markdown",
   "metadata": {},
   "source": [
    "### View 006"
   ]
  },
  {
   "cell_type": "code",
   "execution_count": null,
   "metadata": {},
   "outputs": [],
   "source": [
    "run scripts/V006.py"
   ]
  },
  {
   "cell_type": "markdown",
   "metadata": {},
   "source": [
    "### View 007"
   ]
  },
  {
   "cell_type": "code",
   "execution_count": null,
   "metadata": {},
   "outputs": [],
   "source": [
    "run scripts/V007.py"
   ]
  },
  {
   "cell_type": "markdown",
   "metadata": {},
   "source": [
    "### View 008"
   ]
  },
  {
   "cell_type": "code",
   "execution_count": null,
   "metadata": {},
   "outputs": [],
   "source": [
    "run scripts/V008.py"
   ]
  },
  {
   "cell_type": "markdown",
   "metadata": {},
   "source": [
    "### View 009"
   ]
  },
  {
   "cell_type": "code",
   "execution_count": null,
   "metadata": {},
   "outputs": [],
   "source": [
    "run scripts/V009.py"
   ]
  },
  {
   "cell_type": "markdown",
   "metadata": {},
   "source": [
    "### View 010"
   ]
  },
  {
   "cell_type": "code",
   "execution_count": 46,
   "metadata": {},
   "outputs": [],
   "source": [
    "run scripts/V010.py"
   ]
  },
  {
   "cell_type": "markdown",
   "metadata": {},
   "source": [
    "### View 011"
   ]
  },
  {
   "cell_type": "code",
   "execution_count": null,
   "metadata": {},
   "outputs": [],
   "source": [
    "run scripts/V011.py"
   ]
  }
 ],
 "metadata": {
  "kernelspec": {
   "display_name": "Python 3",
   "language": "python",
   "name": "python3"
  },
  "language_info": {
   "codemirror_mode": {
    "name": "ipython",
    "version": 3
   },
   "file_extension": ".py",
   "mimetype": "text/x-python",
   "name": "python",
   "nbconvert_exporter": "python",
   "pygments_lexer": "ipython3",
   "version": "3.7.0"
  }
 },
 "nbformat": 4,
 "nbformat_minor": 2
}
