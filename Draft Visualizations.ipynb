{
 "cells": [
  {
   "cell_type": "markdown",
   "metadata": {},
   "source": [
    "### View 001"
   ]
  },
  {
   "cell_type": "code",
   "execution_count": 1,
   "metadata": {},
   "outputs": [
    {
     "data": {
      "text/html": [
       "<script>requirejs.config({paths: { 'plotly': ['https://cdn.plot.ly/plotly-latest.min']},});if(!window.Plotly) {{require(['plotly'],function(plotly) {window.Plotly=plotly;});}}</script>"
      ],
      "text/vnd.plotly.v1+html": [
       "<script>requirejs.config({paths: { 'plotly': ['https://cdn.plot.ly/plotly-latest.min']},});if(!window.Plotly) {{require(['plotly'],function(plotly) {window.Plotly=plotly;});}}</script>"
      ]
     },
     "metadata": {},
     "output_type": "display_data"
    },
    {
     "data": {
      "application/vnd.plotly.v1+json": {
       "data": [
        {
         "cells": {
          "align": [
           "left",
           "center"
          ],
          "fill": {
           "color": "#F5F8FF"
          },
          "values": [
           [
            "Student_1",
            "Student_2",
            "Student_3",
            "Student_4",
            "Student_5",
            "Student_6",
            "Student_7",
            "Student_8",
            "Student_9",
            "Student_10",
            "Student_11",
            "Student_12",
            "Student_13",
            "Student_14",
            "Student_15",
            "Student_16",
            "Student_17",
            "Student_18",
            "Student_19",
            "Student_20"
           ],
           [
            1,
            0,
            1,
            1,
            1,
            1,
            1,
            0,
            1,
            0,
            0,
            0,
            0,
            1,
            1,
            1,
            0,
            1,
            1,
            1
           ],
           [
            1,
            1,
            1,
            0,
            0,
            1,
            1,
            0,
            1,
            0,
            1,
            1,
            0,
            1,
            1,
            0,
            0,
            0,
            1,
            1
           ],
           [
            0,
            0,
            0,
            1,
            0,
            0,
            0,
            1,
            1,
            1,
            1,
            0,
            0,
            0,
            0,
            0,
            1,
            0,
            1,
            0
           ],
           [
            1,
            0,
            1,
            0,
            1,
            1,
            0,
            1,
            0,
            1,
            0,
            1,
            0,
            1,
            1,
            1,
            0,
            1,
            1,
            1
           ]
          ]
         },
         "header": {
          "align": "center",
          "fill": {
           "color": "#C2D4FF"
          },
          "values": [
           "Students",
           "Assign1",
           "Assign2",
           "Assign3",
           "Assign4"
          ]
         },
         "type": "table",
         "uid": "4caf9c26-ddce-11e8-b3fd-cd1e154e22ff"
        }
       ],
       "layout": {}
      },
      "text/html": [
       "<div id=\"856e16e8-b75e-4222-b8e0-f6e1f8899dd0\" style=\"height: 525px; width: 100%;\" class=\"plotly-graph-div\"></div><script type=\"text/javascript\">require([\"plotly\"], function(Plotly) { window.PLOTLYENV=window.PLOTLYENV || {};window.PLOTLYENV.BASE_URL=\"https://plot.ly\";Plotly.newPlot(\"856e16e8-b75e-4222-b8e0-f6e1f8899dd0\", [{\"cells\": {\"align\": [\"left\", \"center\"], \"fill\": {\"color\": \"#F5F8FF\"}, \"values\": [[\"Student_1\", \"Student_2\", \"Student_3\", \"Student_4\", \"Student_5\", \"Student_6\", \"Student_7\", \"Student_8\", \"Student_9\", \"Student_10\", \"Student_11\", \"Student_12\", \"Student_13\", \"Student_14\", \"Student_15\", \"Student_16\", \"Student_17\", \"Student_18\", \"Student_19\", \"Student_20\"], [1, 0, 1, 1, 1, 1, 1, 0, 1, 0, 0, 0, 0, 1, 1, 1, 0, 1, 1, 1], [1, 1, 1, 0, 0, 1, 1, 0, 1, 0, 1, 1, 0, 1, 1, 0, 0, 0, 1, 1], [0, 0, 0, 1, 0, 0, 0, 1, 1, 1, 1, 0, 0, 0, 0, 0, 1, 0, 1, 0], [1, 0, 1, 0, 1, 1, 0, 1, 0, 1, 0, 1, 0, 1, 1, 1, 0, 1, 1, 1]]}, \"header\": {\"align\": \"center\", \"fill\": {\"color\": \"#C2D4FF\"}, \"values\": [\"Students\", \"Assign1\", \"Assign2\", \"Assign3\", \"Assign4\"]}, \"type\": \"table\", \"uid\": \"5ef9f87c-ddce-11e8-b3fd-cd1e154e22ff\"}], {}, {\"showLink\": true, \"linkText\": \"Export to plot.ly\"})});</script>"
      ],
      "text/vnd.plotly.v1+html": [
       "<div id=\"856e16e8-b75e-4222-b8e0-f6e1f8899dd0\" style=\"height: 525px; width: 100%;\" class=\"plotly-graph-div\"></div><script type=\"text/javascript\">require([\"plotly\"], function(Plotly) { window.PLOTLYENV=window.PLOTLYENV || {};window.PLOTLYENV.BASE_URL=\"https://plot.ly\";Plotly.newPlot(\"856e16e8-b75e-4222-b8e0-f6e1f8899dd0\", [{\"cells\": {\"align\": [\"left\", \"center\"], \"fill\": {\"color\": \"#F5F8FF\"}, \"values\": [[\"Student_1\", \"Student_2\", \"Student_3\", \"Student_4\", \"Student_5\", \"Student_6\", \"Student_7\", \"Student_8\", \"Student_9\", \"Student_10\", \"Student_11\", \"Student_12\", \"Student_13\", \"Student_14\", \"Student_15\", \"Student_16\", \"Student_17\", \"Student_18\", \"Student_19\", \"Student_20\"], [1, 0, 1, 1, 1, 1, 1, 0, 1, 0, 0, 0, 0, 1, 1, 1, 0, 1, 1, 1], [1, 1, 1, 0, 0, 1, 1, 0, 1, 0, 1, 1, 0, 1, 1, 0, 0, 0, 1, 1], [0, 0, 0, 1, 0, 0, 0, 1, 1, 1, 1, 0, 0, 0, 0, 0, 1, 0, 1, 0], [1, 0, 1, 0, 1, 1, 0, 1, 0, 1, 0, 1, 0, 1, 1, 1, 0, 1, 1, 1]]}, \"header\": {\"align\": \"center\", \"fill\": {\"color\": \"#C2D4FF\"}, \"values\": [\"Students\", \"Assign1\", \"Assign2\", \"Assign3\", \"Assign4\"]}, \"type\": \"table\", \"uid\": \"5ef9f87c-ddce-11e8-b3fd-cd1e154e22ff\"}], {}, {\"showLink\": true, \"linkText\": \"Export to plot.ly\"})});</script>"
      ]
     },
     "metadata": {},
     "output_type": "display_data"
    },
    {
     "data": {
      "application/vnd.plotly.v1+json": {
       "data": [
        {
         "type": "bar",
         "uid": "62d3cd10-ddce-11e8-b3fd-cd1e154e22ff",
         "x": [
          "Student_1",
          "Student_2",
          "Student_3",
          "Student_4",
          "Student_5",
          "Student_6",
          "Student_7",
          "Student_8",
          "Student_9",
          "Student_10",
          "Student_11",
          "Student_12",
          "Student_13",
          "Student_14",
          "Student_15",
          "Student_16",
          "Student_17",
          "Student_18",
          "Student_19",
          "Student_20"
         ],
         "y": [
          3,
          1,
          3,
          2,
          2,
          3,
          2,
          2,
          3,
          2,
          2,
          2,
          0,
          3,
          3,
          2,
          1,
          2,
          4,
          3
         ]
        }
       ],
       "layout": {
        "title": "Quantidade de tarefas feitas por alunos",
        "yaxis": {
         "dtick": 1,
         "exponentformat": "e",
         "gridcolor": "#bdbdbd",
         "showexponent": "all",
         "showticklabels": true,
         "tick0": 0,
         "titlefont": {
          "color": "lightgrey",
          "family": "Arial, sans-serif"
         }
        }
       }
      },
      "text/html": [
       "<div id=\"eb9009b1-46f3-4d7f-a24c-8e77cf5fdb7b\" style=\"height: 525px; width: 100%;\" class=\"plotly-graph-div\"></div><script type=\"text/javascript\">require([\"plotly\"], function(Plotly) { window.PLOTLYENV=window.PLOTLYENV || {};window.PLOTLYENV.BASE_URL=\"https://plot.ly\";\n",
       "        Plotly.plot(\n",
       "            'eb9009b1-46f3-4d7f-a24c-8e77cf5fdb7b',\n",
       "            [{\"x\": [\"Student_1\", \"Student_2\", \"Student_3\", \"Student_4\", \"Student_5\", \"Student_6\", \"Student_7\", \"Student_8\", \"Student_9\", \"Student_10\", \"Student_11\", \"Student_12\", \"Student_13\", \"Student_14\", \"Student_15\", \"Student_16\", \"Student_17\", \"Student_18\", \"Student_19\", \"Student_20\"], \"y\": [3.0, 1.0, 3.0, 2.0, 2.0, 3.0, 2.0, 2.0, 3.0, 2.0, 2.0, 2.0, 0.0, 3.0, 3.0, 2.0, 1.0, 2.0, 4.0, 3.0], \"type\": \"bar\", \"uid\": \"62d3cd10-ddce-11e8-b3fd-cd1e154e22ff\"}],\n",
       "            {\"title\": \"Quantidade de tarefas feitas por alunos\", \"yaxis\": {\"dtick\": 1, \"exponentformat\": \"e\", \"gridcolor\": \"#bdbdbd\", \"showexponent\": \"all\", \"showticklabels\": true, \"tick0\": 0, \"titlefont\": {\"color\": \"lightgrey\", \"family\": \"Arial, sans-serif\"}}},\n",
       "            {\"showLink\": true, \"linkText\": \"Export to plot.ly\"}\n",
       "        ).then(function () {return Plotly.addFrames('eb9009b1-46f3-4d7f-a24c-8e77cf5fdb7b',{});}).then(function(){Plotly.animate('eb9009b1-46f3-4d7f-a24c-8e77cf5fdb7b');})\n",
       "        });</script>"
      ],
      "text/vnd.plotly.v1+html": [
       "<div id=\"eb9009b1-46f3-4d7f-a24c-8e77cf5fdb7b\" style=\"height: 525px; width: 100%;\" class=\"plotly-graph-div\"></div><script type=\"text/javascript\">require([\"plotly\"], function(Plotly) { window.PLOTLYENV=window.PLOTLYENV || {};window.PLOTLYENV.BASE_URL=\"https://plot.ly\";\n",
       "        Plotly.plot(\n",
       "            'eb9009b1-46f3-4d7f-a24c-8e77cf5fdb7b',\n",
       "            [{\"x\": [\"Student_1\", \"Student_2\", \"Student_3\", \"Student_4\", \"Student_5\", \"Student_6\", \"Student_7\", \"Student_8\", \"Student_9\", \"Student_10\", \"Student_11\", \"Student_12\", \"Student_13\", \"Student_14\", \"Student_15\", \"Student_16\", \"Student_17\", \"Student_18\", \"Student_19\", \"Student_20\"], \"y\": [3.0, 1.0, 3.0, 2.0, 2.0, 3.0, 2.0, 2.0, 3.0, 2.0, 2.0, 2.0, 0.0, 3.0, 3.0, 2.0, 1.0, 2.0, 4.0, 3.0], \"type\": \"bar\", \"uid\": \"62d3cd10-ddce-11e8-b3fd-cd1e154e22ff\"}],\n",
       "            {\"title\": \"Quantidade de tarefas feitas por alunos\", \"yaxis\": {\"dtick\": 1, \"exponentformat\": \"e\", \"gridcolor\": \"#bdbdbd\", \"showexponent\": \"all\", \"showticklabels\": true, \"tick0\": 0, \"titlefont\": {\"color\": \"lightgrey\", \"family\": \"Arial, sans-serif\"}}},\n",
       "            {\"showLink\": true, \"linkText\": \"Export to plot.ly\"}\n",
       "        ).then(function () {return Plotly.addFrames('eb9009b1-46f3-4d7f-a24c-8e77cf5fdb7b',{});}).then(function(){Plotly.animate('eb9009b1-46f3-4d7f-a24c-8e77cf5fdb7b');})\n",
       "        });</script>"
      ]
     },
     "metadata": {},
     "output_type": "display_data"
    },
    {
     "data": {
      "application/vnd.plotly.v1+json": {
       "data": [
        {
         "type": "bar",
         "uid": "62dda8f8-ddce-11e8-b3fd-cd1e154e22ff",
         "x": [
          "Assign1",
          "Assign2",
          "Assign3",
          "Assign4"
         ],
         "y": [
          13,
          12,
          7,
          13
         ]
        }
       ],
       "layout": {
        "title": "Quantidade de alunos que fizeram as tarefas",
        "yaxis": {
         "dtick": 1,
         "exponentformat": "e",
         "gridcolor": "#bdbdbd",
         "showexponent": "all",
         "showticklabels": true,
         "tick0": 0,
         "titlefont": {
          "color": "lightgrey",
          "family": "Arial, sans-serif"
         }
        }
       }
      },
      "text/html": [
       "<div id=\"c8d520ea-6250-4d9f-b358-aefcb9dcd9f1\" style=\"height: 525px; width: 100%;\" class=\"plotly-graph-div\"></div><script type=\"text/javascript\">require([\"plotly\"], function(Plotly) { window.PLOTLYENV=window.PLOTLYENV || {};window.PLOTLYENV.BASE_URL=\"https://plot.ly\";\n",
       "        Plotly.plot(\n",
       "            'c8d520ea-6250-4d9f-b358-aefcb9dcd9f1',\n",
       "            [{\"x\": [\"Assign1\", \"Assign2\", \"Assign3\", \"Assign4\"], \"y\": [13, 12, 7, 13], \"type\": \"bar\", \"uid\": \"62dda8f8-ddce-11e8-b3fd-cd1e154e22ff\"}],\n",
       "            {\"title\": \"Quantidade de alunos que fizeram as tarefas\", \"yaxis\": {\"dtick\": 1, \"exponentformat\": \"e\", \"gridcolor\": \"#bdbdbd\", \"showexponent\": \"all\", \"showticklabels\": true, \"tick0\": 0, \"titlefont\": {\"color\": \"lightgrey\", \"family\": \"Arial, sans-serif\"}}},\n",
       "            {\"showLink\": true, \"linkText\": \"Export to plot.ly\"}\n",
       "        ).then(function () {return Plotly.addFrames('c8d520ea-6250-4d9f-b358-aefcb9dcd9f1',{});}).then(function(){Plotly.animate('c8d520ea-6250-4d9f-b358-aefcb9dcd9f1');})\n",
       "        });</script>"
      ],
      "text/vnd.plotly.v1+html": [
       "<div id=\"c8d520ea-6250-4d9f-b358-aefcb9dcd9f1\" style=\"height: 525px; width: 100%;\" class=\"plotly-graph-div\"></div><script type=\"text/javascript\">require([\"plotly\"], function(Plotly) { window.PLOTLYENV=window.PLOTLYENV || {};window.PLOTLYENV.BASE_URL=\"https://plot.ly\";\n",
       "        Plotly.plot(\n",
       "            'c8d520ea-6250-4d9f-b358-aefcb9dcd9f1',\n",
       "            [{\"x\": [\"Assign1\", \"Assign2\", \"Assign3\", \"Assign4\"], \"y\": [13, 12, 7, 13], \"type\": \"bar\", \"uid\": \"62dda8f8-ddce-11e8-b3fd-cd1e154e22ff\"}],\n",
       "            {\"title\": \"Quantidade de alunos que fizeram as tarefas\", \"yaxis\": {\"dtick\": 1, \"exponentformat\": \"e\", \"gridcolor\": \"#bdbdbd\", \"showexponent\": \"all\", \"showticklabels\": true, \"tick0\": 0, \"titlefont\": {\"color\": \"lightgrey\", \"family\": \"Arial, sans-serif\"}}},\n",
       "            {\"showLink\": true, \"linkText\": \"Export to plot.ly\"}\n",
       "        ).then(function () {return Plotly.addFrames('c8d520ea-6250-4d9f-b358-aefcb9dcd9f1',{});}).then(function(){Plotly.animate('c8d520ea-6250-4d9f-b358-aefcb9dcd9f1');})\n",
       "        });</script>"
      ]
     },
     "metadata": {},
     "output_type": "display_data"
    },
    {
     "data": {
      "application/vnd.plotly.v1+json": {
       "data": [
        {
         "cells": {
          "align": [
           "left",
           "center"
          ],
          "fill": {
           "color": "#F5F8FF"
          },
          "values": [
           [
            "Assign1",
            "Assign2",
            "Assign3",
            "Assign4"
           ],
           [
            1,
            1,
            0,
            1
           ],
           [
            0,
            1,
            0,
            0
           ],
           [
            1,
            1,
            0,
            1
           ],
           [
            1,
            0,
            1,
            0
           ],
           [
            1,
            0,
            0,
            1
           ],
           [
            1,
            1,
            0,
            1
           ],
           [
            1,
            1,
            0,
            0
           ],
           [
            0,
            0,
            1,
            1
           ],
           [
            1,
            1,
            1,
            0
           ],
           [
            0,
            0,
            1,
            1
           ],
           [
            0,
            1,
            1,
            0
           ],
           [
            0,
            1,
            0,
            1
           ],
           [
            0,
            0,
            0,
            0
           ],
           [
            1,
            1,
            0,
            1
           ],
           [
            1,
            1,
            0,
            1
           ],
           [
            1,
            0,
            0,
            1
           ],
           [
            0,
            0,
            1,
            0
           ],
           [
            1,
            0,
            0,
            1
           ],
           [
            1,
            1,
            1,
            1
           ],
           [
            1,
            1,
            0,
            1
           ]
          ]
         },
         "header": {
          "align": "center",
          "fill": {
           "color": "#C2D4FF"
          },
          "values": [
           "Assign",
           "Student_1",
           "Student_2",
           "Student_3",
           "Student_4",
           "Student_5",
           "Student_6",
           "Student_7",
           "Student_8",
           "Student_9",
           "Student_10",
           "Student_11",
           "Student_12",
           "Student_13",
           "Student_14",
           "Student_15",
           "Student_16",
           "Student_17",
           "Student_18",
           "Student_19",
           "Student_20"
          ]
         },
         "type": "table",
         "uid": "62e5707e-ddce-11e8-b3fd-cd1e154e22ff"
        }
       ],
       "layout": {}
      },
      "text/html": [
       "<div id=\"f5573429-6a37-4764-9b5b-0ce8e5ee02aa\" style=\"height: 525px; width: 100%;\" class=\"plotly-graph-div\"></div><script type=\"text/javascript\">require([\"plotly\"], function(Plotly) { window.PLOTLYENV=window.PLOTLYENV || {};window.PLOTLYENV.BASE_URL=\"https://plot.ly\";Plotly.newPlot(\"f5573429-6a37-4764-9b5b-0ce8e5ee02aa\", [{\"cells\": {\"align\": [\"left\", \"center\"], \"fill\": {\"color\": \"#F5F8FF\"}, \"values\": [[\"Assign1\", \"Assign2\", \"Assign3\", \"Assign4\"], [1, 1, 0, 1], [0, 1, 0, 0], [1, 1, 0, 1], [1, 0, 1, 0], [1, 0, 0, 1], [1, 1, 0, 1], [1, 1, 0, 0], [0, 0, 1, 1], [1, 1, 1, 0], [0, 0, 1, 1], [0, 1, 1, 0], [0, 1, 0, 1], [0, 0, 0, 0], [1, 1, 0, 1], [1, 1, 0, 1], [1, 0, 0, 1], [0, 0, 1, 0], [1, 0, 0, 1], [1, 1, 1, 1], [1, 1, 0, 1]]}, \"header\": {\"align\": \"center\", \"fill\": {\"color\": \"#C2D4FF\"}, \"values\": [\"Assign\", \"Student_1\", \"Student_2\", \"Student_3\", \"Student_4\", \"Student_5\", \"Student_6\", \"Student_7\", \"Student_8\", \"Student_9\", \"Student_10\", \"Student_11\", \"Student_12\", \"Student_13\", \"Student_14\", \"Student_15\", \"Student_16\", \"Student_17\", \"Student_18\", \"Student_19\", \"Student_20\"]}, \"type\": \"table\", \"uid\": \"62ea227c-ddce-11e8-b3fd-cd1e154e22ff\"}], {}, {\"showLink\": true, \"linkText\": \"Export to plot.ly\"})});</script>"
      ],
      "text/vnd.plotly.v1+html": [
       "<div id=\"f5573429-6a37-4764-9b5b-0ce8e5ee02aa\" style=\"height: 525px; width: 100%;\" class=\"plotly-graph-div\"></div><script type=\"text/javascript\">require([\"plotly\"], function(Plotly) { window.PLOTLYENV=window.PLOTLYENV || {};window.PLOTLYENV.BASE_URL=\"https://plot.ly\";Plotly.newPlot(\"f5573429-6a37-4764-9b5b-0ce8e5ee02aa\", [{\"cells\": {\"align\": [\"left\", \"center\"], \"fill\": {\"color\": \"#F5F8FF\"}, \"values\": [[\"Assign1\", \"Assign2\", \"Assign3\", \"Assign4\"], [1, 1, 0, 1], [0, 1, 0, 0], [1, 1, 0, 1], [1, 0, 1, 0], [1, 0, 0, 1], [1, 1, 0, 1], [1, 1, 0, 0], [0, 0, 1, 1], [1, 1, 1, 0], [0, 0, 1, 1], [0, 1, 1, 0], [0, 1, 0, 1], [0, 0, 0, 0], [1, 1, 0, 1], [1, 1, 0, 1], [1, 0, 0, 1], [0, 0, 1, 0], [1, 0, 0, 1], [1, 1, 1, 1], [1, 1, 0, 1]]}, \"header\": {\"align\": \"center\", \"fill\": {\"color\": \"#C2D4FF\"}, \"values\": [\"Assign\", \"Student_1\", \"Student_2\", \"Student_3\", \"Student_4\", \"Student_5\", \"Student_6\", \"Student_7\", \"Student_8\", \"Student_9\", \"Student_10\", \"Student_11\", \"Student_12\", \"Student_13\", \"Student_14\", \"Student_15\", \"Student_16\", \"Student_17\", \"Student_18\", \"Student_19\", \"Student_20\"]}, \"type\": \"table\", \"uid\": \"62ea227c-ddce-11e8-b3fd-cd1e154e22ff\"}], {}, {\"showLink\": true, \"linkText\": \"Export to plot.ly\"})});</script>"
      ]
     },
     "metadata": {},
     "output_type": "display_data"
    }
   ],
   "source": [
    "run scripts/V001.py"
   ]
  },
  {
   "cell_type": "markdown",
   "metadata": {},
   "source": [
    "### View 002"
   ]
  },
  {
   "cell_type": "code",
   "execution_count": 68,
   "metadata": {},
   "outputs": [
    {
     "data": {
      "text/html": [
       "<script>requirejs.config({paths: { 'plotly': ['https://cdn.plot.ly/plotly-latest.min']},});if(!window.Plotly) {{require(['plotly'],function(plotly) {window.Plotly=plotly;});}}</script>"
      ],
      "text/vnd.plotly.v1+html": [
       "<script>requirejs.config({paths: { 'plotly': ['https://cdn.plot.ly/plotly-latest.min']},});if(!window.Plotly) {{require(['plotly'],function(plotly) {window.Plotly=plotly;});}}</script>"
      ]
     },
     "metadata": {},
     "output_type": "display_data"
    },
    {
     "data": {
      "application/vnd.plotly.v1+json": {
       "data": [
        {
         "cells": {
          "align": [
           "left",
           "center"
          ],
          "fill": {
           "color": "#F5F8FF"
          },
          "values": [
           [
            "Student_1",
            "Student_2",
            "Student_3",
            "Student_4",
            "Student_5",
            "Student_6",
            "Student_7",
            "Student_8",
            "Student_9",
            "Student_10",
            "Student_11",
            "Student_12",
            "Student_13",
            "Student_14",
            "Student_15",
            "Student_16",
            "Student_17",
            "Student_18",
            "Student_19",
            "Student_20"
           ],
           [
            14,
            12,
            2,
            1,
            25,
            16,
            11,
            24,
            25,
            13,
            0,
            12,
            2,
            16,
            18,
            24,
            20,
            4,
            29,
            26
           ],
           [
            8,
            15,
            25,
            8,
            10,
            4,
            27,
            18,
            23,
            11,
            3,
            25,
            19,
            21,
            18,
            20,
            29,
            20,
            10,
            17
           ],
           [
            0,
            19,
            6,
            18,
            6,
            4,
            12,
            2,
            15,
            23,
            18,
            4,
            9,
            13,
            20,
            20,
            11,
            24,
            23,
            7
           ],
           [
            16,
            9,
            22,
            25,
            24,
            10,
            14,
            7,
            8,
            13,
            3,
            24,
            16,
            25,
            19,
            21,
            12,
            25,
            21,
            13
           ],
           [
            10,
            2,
            18,
            11,
            22,
            19,
            7,
            11,
            16,
            26,
            25,
            19,
            0,
            29,
            26,
            15,
            0,
            15,
            21,
            7
           ],
           [
            27,
            8,
            25,
            25,
            2,
            14,
            19,
            28,
            3,
            4,
            20,
            20,
            27,
            5,
            16,
            27,
            8,
            8,
            28,
            29
           ],
           [
            18,
            2,
            0,
            23,
            21,
            29,
            2,
            22,
            18,
            4,
            2,
            2,
            28,
            5,
            10,
            15,
            7,
            5,
            9,
            25
           ],
           [
            13,
            17,
            29,
            18,
            3,
            23,
            27,
            25,
            21,
            3,
            28,
            9,
            27,
            19,
            29,
            16,
            22,
            29,
            27,
            12
           ]
          ]
         },
         "header": {
          "align": "center",
          "fill": {
           "color": "#C2D4FF"
          },
          "values": [
           "Students",
           "Video1",
           "Video2",
           "Quiz1",
           "Quiz2",
           "Pdf1",
           "Pdf2",
           "Ebook1",
           "Ebook2"
          ]
         },
         "type": "table",
         "uid": "c247c87e-ddfa-11e8-b3fd-cd1e154e22ff"
        }
       ],
       "layout": {}
      },
      "text/html": [
       "<div id=\"660c2ec4-c02e-496b-9014-e13314d5c748\" style=\"height: 525px; width: 100%;\" class=\"plotly-graph-div\"></div><script type=\"text/javascript\">require([\"plotly\"], function(Plotly) { window.PLOTLYENV=window.PLOTLYENV || {};window.PLOTLYENV.BASE_URL=\"https://plot.ly\";Plotly.newPlot(\"660c2ec4-c02e-496b-9014-e13314d5c748\", [{\"cells\": {\"align\": [\"left\", \"center\"], \"fill\": {\"color\": \"#F5F8FF\"}, \"values\": [[\"Student_1\", \"Student_2\", \"Student_3\", \"Student_4\", \"Student_5\", \"Student_6\", \"Student_7\", \"Student_8\", \"Student_9\", \"Student_10\", \"Student_11\", \"Student_12\", \"Student_13\", \"Student_14\", \"Student_15\", \"Student_16\", \"Student_17\", \"Student_18\", \"Student_19\", \"Student_20\"], [14, 12, 2, 1, 25, 16, 11, 24, 25, 13, 0, 12, 2, 16, 18, 24, 20, 4, 29, 26], [8, 15, 25, 8, 10, 4, 27, 18, 23, 11, 3, 25, 19, 21, 18, 20, 29, 20, 10, 17], [0, 19, 6, 18, 6, 4, 12, 2, 15, 23, 18, 4, 9, 13, 20, 20, 11, 24, 23, 7], [16, 9, 22, 25, 24, 10, 14, 7, 8, 13, 3, 24, 16, 25, 19, 21, 12, 25, 21, 13], [10, 2, 18, 11, 22, 19, 7, 11, 16, 26, 25, 19, 0, 29, 26, 15, 0, 15, 21, 7], [27, 8, 25, 25, 2, 14, 19, 28, 3, 4, 20, 20, 27, 5, 16, 27, 8, 8, 28, 29], [18, 2, 0, 23, 21, 29, 2, 22, 18, 4, 2, 2, 28, 5, 10, 15, 7, 5, 9, 25], [13, 17, 29, 18, 3, 23, 27, 25, 21, 3, 28, 9, 27, 19, 29, 16, 22, 29, 27, 12]]}, \"header\": {\"align\": \"center\", \"fill\": {\"color\": \"#C2D4FF\"}, \"values\": [\"Students\", \"Video1\", \"Video2\", \"Quiz1\", \"Quiz2\", \"Pdf1\", \"Pdf2\", \"Ebook1\", \"Ebook2\"]}, \"type\": \"table\", \"uid\": \"c24e158a-ddfa-11e8-b3fd-cd1e154e22ff\"}], {}, {\"showLink\": true, \"linkText\": \"Export to plot.ly\"})});</script>"
      ],
      "text/vnd.plotly.v1+html": [
       "<div id=\"660c2ec4-c02e-496b-9014-e13314d5c748\" style=\"height: 525px; width: 100%;\" class=\"plotly-graph-div\"></div><script type=\"text/javascript\">require([\"plotly\"], function(Plotly) { window.PLOTLYENV=window.PLOTLYENV || {};window.PLOTLYENV.BASE_URL=\"https://plot.ly\";Plotly.newPlot(\"660c2ec4-c02e-496b-9014-e13314d5c748\", [{\"cells\": {\"align\": [\"left\", \"center\"], \"fill\": {\"color\": \"#F5F8FF\"}, \"values\": [[\"Student_1\", \"Student_2\", \"Student_3\", \"Student_4\", \"Student_5\", \"Student_6\", \"Student_7\", \"Student_8\", \"Student_9\", \"Student_10\", \"Student_11\", \"Student_12\", \"Student_13\", \"Student_14\", \"Student_15\", \"Student_16\", \"Student_17\", \"Student_18\", \"Student_19\", \"Student_20\"], [14, 12, 2, 1, 25, 16, 11, 24, 25, 13, 0, 12, 2, 16, 18, 24, 20, 4, 29, 26], [8, 15, 25, 8, 10, 4, 27, 18, 23, 11, 3, 25, 19, 21, 18, 20, 29, 20, 10, 17], [0, 19, 6, 18, 6, 4, 12, 2, 15, 23, 18, 4, 9, 13, 20, 20, 11, 24, 23, 7], [16, 9, 22, 25, 24, 10, 14, 7, 8, 13, 3, 24, 16, 25, 19, 21, 12, 25, 21, 13], [10, 2, 18, 11, 22, 19, 7, 11, 16, 26, 25, 19, 0, 29, 26, 15, 0, 15, 21, 7], [27, 8, 25, 25, 2, 14, 19, 28, 3, 4, 20, 20, 27, 5, 16, 27, 8, 8, 28, 29], [18, 2, 0, 23, 21, 29, 2, 22, 18, 4, 2, 2, 28, 5, 10, 15, 7, 5, 9, 25], [13, 17, 29, 18, 3, 23, 27, 25, 21, 3, 28, 9, 27, 19, 29, 16, 22, 29, 27, 12]]}, \"header\": {\"align\": \"center\", \"fill\": {\"color\": \"#C2D4FF\"}, \"values\": [\"Students\", \"Video1\", \"Video2\", \"Quiz1\", \"Quiz2\", \"Pdf1\", \"Pdf2\", \"Ebook1\", \"Ebook2\"]}, \"type\": \"table\", \"uid\": \"c24e158a-ddfa-11e8-b3fd-cd1e154e22ff\"}], {}, {\"showLink\": true, \"linkText\": \"Export to plot.ly\"})});</script>"
      ]
     },
     "metadata": {},
     "output_type": "display_data"
    },
    {
     "data": {
      "application/vnd.plotly.v1+json": {
       "data": [
        {
         "name": "Video1",
         "type": "bar",
         "uid": "c263f184-ddfa-11e8-b3fd-cd1e154e22ff",
         "x": [
          "Student_1",
          "Student_2",
          "Student_3",
          "Student_4",
          "Student_5",
          "Student_6",
          "Student_7",
          "Student_8",
          "Student_9",
          "Student_10",
          "Student_11",
          "Student_12",
          "Student_13",
          "Student_14",
          "Student_15",
          "Student_16",
          "Student_17",
          "Student_18",
          "Student_19",
          "Student_20"
         ],
         "y": [
          14,
          12,
          2,
          1,
          25,
          16,
          11,
          24,
          25,
          13,
          0,
          12,
          2,
          16,
          18,
          24,
          20,
          4,
          29,
          26
         ]
        },
        {
         "name": "Video2",
         "type": "bar",
         "uid": "c263f3aa-ddfa-11e8-b3fd-cd1e154e22ff",
         "x": [
          "Student_1",
          "Student_2",
          "Student_3",
          "Student_4",
          "Student_5",
          "Student_6",
          "Student_7",
          "Student_8",
          "Student_9",
          "Student_10",
          "Student_11",
          "Student_12",
          "Student_13",
          "Student_14",
          "Student_15",
          "Student_16",
          "Student_17",
          "Student_18",
          "Student_19",
          "Student_20"
         ],
         "y": [
          8,
          15,
          25,
          8,
          10,
          4,
          27,
          18,
          23,
          11,
          3,
          25,
          19,
          21,
          18,
          20,
          29,
          20,
          10,
          17
         ]
        },
        {
         "name": "Quiz1",
         "type": "bar",
         "uid": "c263f49a-ddfa-11e8-b3fd-cd1e154e22ff",
         "x": [
          "Student_1",
          "Student_2",
          "Student_3",
          "Student_4",
          "Student_5",
          "Student_6",
          "Student_7",
          "Student_8",
          "Student_9",
          "Student_10",
          "Student_11",
          "Student_12",
          "Student_13",
          "Student_14",
          "Student_15",
          "Student_16",
          "Student_17",
          "Student_18",
          "Student_19",
          "Student_20"
         ],
         "y": [
          0,
          19,
          6,
          18,
          6,
          4,
          12,
          2,
          15,
          23,
          18,
          4,
          9,
          13,
          20,
          20,
          11,
          24,
          23,
          7
         ]
        },
        {
         "name": "Quiz2",
         "type": "bar",
         "uid": "c263f558-ddfa-11e8-b3fd-cd1e154e22ff",
         "x": [
          "Student_1",
          "Student_2",
          "Student_3",
          "Student_4",
          "Student_5",
          "Student_6",
          "Student_7",
          "Student_8",
          "Student_9",
          "Student_10",
          "Student_11",
          "Student_12",
          "Student_13",
          "Student_14",
          "Student_15",
          "Student_16",
          "Student_17",
          "Student_18",
          "Student_19",
          "Student_20"
         ],
         "y": [
          16,
          9,
          22,
          25,
          24,
          10,
          14,
          7,
          8,
          13,
          3,
          24,
          16,
          25,
          19,
          21,
          12,
          25,
          21,
          13
         ]
        },
        {
         "name": "Pdf1",
         "type": "bar",
         "uid": "c263f60c-ddfa-11e8-b3fd-cd1e154e22ff",
         "x": [
          "Student_1",
          "Student_2",
          "Student_3",
          "Student_4",
          "Student_5",
          "Student_6",
          "Student_7",
          "Student_8",
          "Student_9",
          "Student_10",
          "Student_11",
          "Student_12",
          "Student_13",
          "Student_14",
          "Student_15",
          "Student_16",
          "Student_17",
          "Student_18",
          "Student_19",
          "Student_20"
         ],
         "y": [
          10,
          2,
          18,
          11,
          22,
          19,
          7,
          11,
          16,
          26,
          25,
          19,
          0,
          29,
          26,
          15,
          0,
          15,
          21,
          7
         ]
        },
        {
         "name": "Pdf2",
         "type": "bar",
         "uid": "c263f6c0-ddfa-11e8-b3fd-cd1e154e22ff",
         "x": [
          "Student_1",
          "Student_2",
          "Student_3",
          "Student_4",
          "Student_5",
          "Student_6",
          "Student_7",
          "Student_8",
          "Student_9",
          "Student_10",
          "Student_11",
          "Student_12",
          "Student_13",
          "Student_14",
          "Student_15",
          "Student_16",
          "Student_17",
          "Student_18",
          "Student_19",
          "Student_20"
         ],
         "y": [
          27,
          8,
          25,
          25,
          2,
          14,
          19,
          28,
          3,
          4,
          20,
          20,
          27,
          5,
          16,
          27,
          8,
          8,
          28,
          29
         ]
        },
        {
         "name": "Ebook1",
         "type": "bar",
         "uid": "c263f774-ddfa-11e8-b3fd-cd1e154e22ff",
         "x": [
          "Student_1",
          "Student_2",
          "Student_3",
          "Student_4",
          "Student_5",
          "Student_6",
          "Student_7",
          "Student_8",
          "Student_9",
          "Student_10",
          "Student_11",
          "Student_12",
          "Student_13",
          "Student_14",
          "Student_15",
          "Student_16",
          "Student_17",
          "Student_18",
          "Student_19",
          "Student_20"
         ],
         "y": [
          18,
          2,
          0,
          23,
          21,
          29,
          2,
          22,
          18,
          4,
          2,
          2,
          28,
          5,
          10,
          15,
          7,
          5,
          9,
          25
         ]
        },
        {
         "name": "Ebook2",
         "type": "bar",
         "uid": "c263f81e-ddfa-11e8-b3fd-cd1e154e22ff",
         "x": [
          "Student_1",
          "Student_2",
          "Student_3",
          "Student_4",
          "Student_5",
          "Student_6",
          "Student_7",
          "Student_8",
          "Student_9",
          "Student_10",
          "Student_11",
          "Student_12",
          "Student_13",
          "Student_14",
          "Student_15",
          "Student_16",
          "Student_17",
          "Student_18",
          "Student_19",
          "Student_20"
         ],
         "y": [
          13,
          17,
          29,
          18,
          3,
          23,
          27,
          25,
          21,
          3,
          28,
          9,
          27,
          19,
          29,
          16,
          22,
          29,
          27,
          12
         ]
        }
       ],
       "layout": {
        "title": "Número de acessos nos materiais agrupados por estudante",
        "yaxis": {
         "dtick": 1,
         "exponentformat": "e",
         "gridcolor": "#bdbdbd",
         "showexponent": "all",
         "showticklabels": true,
         "tick0": 0,
         "titlefont": {
          "color": "lightgrey",
          "family": "Arial, sans-serif"
         }
        }
       }
      },
      "text/html": [
       "<div id=\"2ddbeb83-574a-40dd-99d8-8da138b0f05b\" style=\"height: 525px; width: 100%;\" class=\"plotly-graph-div\"></div><script type=\"text/javascript\">require([\"plotly\"], function(Plotly) { window.PLOTLYENV=window.PLOTLYENV || {};window.PLOTLYENV.BASE_URL=\"https://plot.ly\";\n",
       "        Plotly.plot(\n",
       "            '2ddbeb83-574a-40dd-99d8-8da138b0f05b',\n",
       "            [{\"name\": \"Video1\", \"x\": [\"Student_1\", \"Student_2\", \"Student_3\", \"Student_4\", \"Student_5\", \"Student_6\", \"Student_7\", \"Student_8\", \"Student_9\", \"Student_10\", \"Student_11\", \"Student_12\", \"Student_13\", \"Student_14\", \"Student_15\", \"Student_16\", \"Student_17\", \"Student_18\", \"Student_19\", \"Student_20\"], \"y\": [14, 12, 2, 1, 25, 16, 11, 24, 25, 13, 0, 12, 2, 16, 18, 24, 20, 4, 29, 26], \"type\": \"bar\", \"uid\": \"c263f184-ddfa-11e8-b3fd-cd1e154e22ff\"}, {\"name\": \"Video2\", \"x\": [\"Student_1\", \"Student_2\", \"Student_3\", \"Student_4\", \"Student_5\", \"Student_6\", \"Student_7\", \"Student_8\", \"Student_9\", \"Student_10\", \"Student_11\", \"Student_12\", \"Student_13\", \"Student_14\", \"Student_15\", \"Student_16\", \"Student_17\", \"Student_18\", \"Student_19\", \"Student_20\"], \"y\": [8, 15, 25, 8, 10, 4, 27, 18, 23, 11, 3, 25, 19, 21, 18, 20, 29, 20, 10, 17], \"type\": \"bar\", \"uid\": \"c263f3aa-ddfa-11e8-b3fd-cd1e154e22ff\"}, {\"name\": \"Quiz1\", \"x\": [\"Student_1\", \"Student_2\", \"Student_3\", \"Student_4\", \"Student_5\", \"Student_6\", \"Student_7\", \"Student_8\", \"Student_9\", \"Student_10\", \"Student_11\", \"Student_12\", \"Student_13\", \"Student_14\", \"Student_15\", \"Student_16\", \"Student_17\", \"Student_18\", \"Student_19\", \"Student_20\"], \"y\": [0, 19, 6, 18, 6, 4, 12, 2, 15, 23, 18, 4, 9, 13, 20, 20, 11, 24, 23, 7], \"type\": \"bar\", \"uid\": \"c263f49a-ddfa-11e8-b3fd-cd1e154e22ff\"}, {\"name\": \"Quiz2\", \"x\": [\"Student_1\", \"Student_2\", \"Student_3\", \"Student_4\", \"Student_5\", \"Student_6\", \"Student_7\", \"Student_8\", \"Student_9\", \"Student_10\", \"Student_11\", \"Student_12\", \"Student_13\", \"Student_14\", \"Student_15\", \"Student_16\", \"Student_17\", \"Student_18\", \"Student_19\", \"Student_20\"], \"y\": [16, 9, 22, 25, 24, 10, 14, 7, 8, 13, 3, 24, 16, 25, 19, 21, 12, 25, 21, 13], \"type\": \"bar\", \"uid\": \"c263f558-ddfa-11e8-b3fd-cd1e154e22ff\"}, {\"name\": \"Pdf1\", \"x\": [\"Student_1\", \"Student_2\", \"Student_3\", \"Student_4\", \"Student_5\", \"Student_6\", \"Student_7\", \"Student_8\", \"Student_9\", \"Student_10\", \"Student_11\", \"Student_12\", \"Student_13\", \"Student_14\", \"Student_15\", \"Student_16\", \"Student_17\", \"Student_18\", \"Student_19\", \"Student_20\"], \"y\": [10, 2, 18, 11, 22, 19, 7, 11, 16, 26, 25, 19, 0, 29, 26, 15, 0, 15, 21, 7], \"type\": \"bar\", \"uid\": \"c263f60c-ddfa-11e8-b3fd-cd1e154e22ff\"}, {\"name\": \"Pdf2\", \"x\": [\"Student_1\", \"Student_2\", \"Student_3\", \"Student_4\", \"Student_5\", \"Student_6\", \"Student_7\", \"Student_8\", \"Student_9\", \"Student_10\", \"Student_11\", \"Student_12\", \"Student_13\", \"Student_14\", \"Student_15\", \"Student_16\", \"Student_17\", \"Student_18\", \"Student_19\", \"Student_20\"], \"y\": [27, 8, 25, 25, 2, 14, 19, 28, 3, 4, 20, 20, 27, 5, 16, 27, 8, 8, 28, 29], \"type\": \"bar\", \"uid\": \"c263f6c0-ddfa-11e8-b3fd-cd1e154e22ff\"}, {\"name\": \"Ebook1\", \"x\": [\"Student_1\", \"Student_2\", \"Student_3\", \"Student_4\", \"Student_5\", \"Student_6\", \"Student_7\", \"Student_8\", \"Student_9\", \"Student_10\", \"Student_11\", \"Student_12\", \"Student_13\", \"Student_14\", \"Student_15\", \"Student_16\", \"Student_17\", \"Student_18\", \"Student_19\", \"Student_20\"], \"y\": [18, 2, 0, 23, 21, 29, 2, 22, 18, 4, 2, 2, 28, 5, 10, 15, 7, 5, 9, 25], \"type\": \"bar\", \"uid\": \"c263f774-ddfa-11e8-b3fd-cd1e154e22ff\"}, {\"name\": \"Ebook2\", \"x\": [\"Student_1\", \"Student_2\", \"Student_3\", \"Student_4\", \"Student_5\", \"Student_6\", \"Student_7\", \"Student_8\", \"Student_9\", \"Student_10\", \"Student_11\", \"Student_12\", \"Student_13\", \"Student_14\", \"Student_15\", \"Student_16\", \"Student_17\", \"Student_18\", \"Student_19\", \"Student_20\"], \"y\": [13, 17, 29, 18, 3, 23, 27, 25, 21, 3, 28, 9, 27, 19, 29, 16, 22, 29, 27, 12], \"type\": \"bar\", \"uid\": \"c263f81e-ddfa-11e8-b3fd-cd1e154e22ff\"}],\n",
       "            {\"title\": \"N\\u00famero de acessos nos materiais agrupados por estudante\", \"yaxis\": {\"dtick\": 1, \"exponentformat\": \"e\", \"gridcolor\": \"#bdbdbd\", \"showexponent\": \"all\", \"showticklabels\": true, \"tick0\": 0, \"titlefont\": {\"color\": \"lightgrey\", \"family\": \"Arial, sans-serif\"}}},\n",
       "            {\"showLink\": true, \"linkText\": \"Export to plot.ly\"}\n",
       "        ).then(function () {return Plotly.addFrames('2ddbeb83-574a-40dd-99d8-8da138b0f05b',{});}).then(function(){Plotly.animate('2ddbeb83-574a-40dd-99d8-8da138b0f05b');})\n",
       "        });</script>"
      ],
      "text/vnd.plotly.v1+html": [
       "<div id=\"2ddbeb83-574a-40dd-99d8-8da138b0f05b\" style=\"height: 525px; width: 100%;\" class=\"plotly-graph-div\"></div><script type=\"text/javascript\">require([\"plotly\"], function(Plotly) { window.PLOTLYENV=window.PLOTLYENV || {};window.PLOTLYENV.BASE_URL=\"https://plot.ly\";\n",
       "        Plotly.plot(\n",
       "            '2ddbeb83-574a-40dd-99d8-8da138b0f05b',\n",
       "            [{\"name\": \"Video1\", \"x\": [\"Student_1\", \"Student_2\", \"Student_3\", \"Student_4\", \"Student_5\", \"Student_6\", \"Student_7\", \"Student_8\", \"Student_9\", \"Student_10\", \"Student_11\", \"Student_12\", \"Student_13\", \"Student_14\", \"Student_15\", \"Student_16\", \"Student_17\", \"Student_18\", \"Student_19\", \"Student_20\"], \"y\": [14, 12, 2, 1, 25, 16, 11, 24, 25, 13, 0, 12, 2, 16, 18, 24, 20, 4, 29, 26], \"type\": \"bar\", \"uid\": \"c263f184-ddfa-11e8-b3fd-cd1e154e22ff\"}, {\"name\": \"Video2\", \"x\": [\"Student_1\", \"Student_2\", \"Student_3\", \"Student_4\", \"Student_5\", \"Student_6\", \"Student_7\", \"Student_8\", \"Student_9\", \"Student_10\", \"Student_11\", \"Student_12\", \"Student_13\", \"Student_14\", \"Student_15\", \"Student_16\", \"Student_17\", \"Student_18\", \"Student_19\", \"Student_20\"], \"y\": [8, 15, 25, 8, 10, 4, 27, 18, 23, 11, 3, 25, 19, 21, 18, 20, 29, 20, 10, 17], \"type\": \"bar\", \"uid\": \"c263f3aa-ddfa-11e8-b3fd-cd1e154e22ff\"}, {\"name\": \"Quiz1\", \"x\": [\"Student_1\", \"Student_2\", \"Student_3\", \"Student_4\", \"Student_5\", \"Student_6\", \"Student_7\", \"Student_8\", \"Student_9\", \"Student_10\", \"Student_11\", \"Student_12\", \"Student_13\", \"Student_14\", \"Student_15\", \"Student_16\", \"Student_17\", \"Student_18\", \"Student_19\", \"Student_20\"], \"y\": [0, 19, 6, 18, 6, 4, 12, 2, 15, 23, 18, 4, 9, 13, 20, 20, 11, 24, 23, 7], \"type\": \"bar\", \"uid\": \"c263f49a-ddfa-11e8-b3fd-cd1e154e22ff\"}, {\"name\": \"Quiz2\", \"x\": [\"Student_1\", \"Student_2\", \"Student_3\", \"Student_4\", \"Student_5\", \"Student_6\", \"Student_7\", \"Student_8\", \"Student_9\", \"Student_10\", \"Student_11\", \"Student_12\", \"Student_13\", \"Student_14\", \"Student_15\", \"Student_16\", \"Student_17\", \"Student_18\", \"Student_19\", \"Student_20\"], \"y\": [16, 9, 22, 25, 24, 10, 14, 7, 8, 13, 3, 24, 16, 25, 19, 21, 12, 25, 21, 13], \"type\": \"bar\", \"uid\": \"c263f558-ddfa-11e8-b3fd-cd1e154e22ff\"}, {\"name\": \"Pdf1\", \"x\": [\"Student_1\", \"Student_2\", \"Student_3\", \"Student_4\", \"Student_5\", \"Student_6\", \"Student_7\", \"Student_8\", \"Student_9\", \"Student_10\", \"Student_11\", \"Student_12\", \"Student_13\", \"Student_14\", \"Student_15\", \"Student_16\", \"Student_17\", \"Student_18\", \"Student_19\", \"Student_20\"], \"y\": [10, 2, 18, 11, 22, 19, 7, 11, 16, 26, 25, 19, 0, 29, 26, 15, 0, 15, 21, 7], \"type\": \"bar\", \"uid\": \"c263f60c-ddfa-11e8-b3fd-cd1e154e22ff\"}, {\"name\": \"Pdf2\", \"x\": [\"Student_1\", \"Student_2\", \"Student_3\", \"Student_4\", \"Student_5\", \"Student_6\", \"Student_7\", \"Student_8\", \"Student_9\", \"Student_10\", \"Student_11\", \"Student_12\", \"Student_13\", \"Student_14\", \"Student_15\", \"Student_16\", \"Student_17\", \"Student_18\", \"Student_19\", \"Student_20\"], \"y\": [27, 8, 25, 25, 2, 14, 19, 28, 3, 4, 20, 20, 27, 5, 16, 27, 8, 8, 28, 29], \"type\": \"bar\", \"uid\": \"c263f6c0-ddfa-11e8-b3fd-cd1e154e22ff\"}, {\"name\": \"Ebook1\", \"x\": [\"Student_1\", \"Student_2\", \"Student_3\", \"Student_4\", \"Student_5\", \"Student_6\", \"Student_7\", \"Student_8\", \"Student_9\", \"Student_10\", \"Student_11\", \"Student_12\", \"Student_13\", \"Student_14\", \"Student_15\", \"Student_16\", \"Student_17\", \"Student_18\", \"Student_19\", \"Student_20\"], \"y\": [18, 2, 0, 23, 21, 29, 2, 22, 18, 4, 2, 2, 28, 5, 10, 15, 7, 5, 9, 25], \"type\": \"bar\", \"uid\": \"c263f774-ddfa-11e8-b3fd-cd1e154e22ff\"}, {\"name\": \"Ebook2\", \"x\": [\"Student_1\", \"Student_2\", \"Student_3\", \"Student_4\", \"Student_5\", \"Student_6\", \"Student_7\", \"Student_8\", \"Student_9\", \"Student_10\", \"Student_11\", \"Student_12\", \"Student_13\", \"Student_14\", \"Student_15\", \"Student_16\", \"Student_17\", \"Student_18\", \"Student_19\", \"Student_20\"], \"y\": [13, 17, 29, 18, 3, 23, 27, 25, 21, 3, 28, 9, 27, 19, 29, 16, 22, 29, 27, 12], \"type\": \"bar\", \"uid\": \"c263f81e-ddfa-11e8-b3fd-cd1e154e22ff\"}],\n",
       "            {\"title\": \"N\\u00famero de acessos nos materiais agrupados por estudante\", \"yaxis\": {\"dtick\": 1, \"exponentformat\": \"e\", \"gridcolor\": \"#bdbdbd\", \"showexponent\": \"all\", \"showticklabels\": true, \"tick0\": 0, \"titlefont\": {\"color\": \"lightgrey\", \"family\": \"Arial, sans-serif\"}}},\n",
       "            {\"showLink\": true, \"linkText\": \"Export to plot.ly\"}\n",
       "        ).then(function () {return Plotly.addFrames('2ddbeb83-574a-40dd-99d8-8da138b0f05b',{});}).then(function(){Plotly.animate('2ddbeb83-574a-40dd-99d8-8da138b0f05b');})\n",
       "        });</script>"
      ]
     },
     "metadata": {},
     "output_type": "display_data"
    },
    {
     "data": {
      "application/vnd.plotly.v1+json": {
       "data": [
        {
         "colorscale": [
          [
           0,
           "rgb(255,255,255)"
          ],
          [
           1,
           "rgb(0,0,255)"
          ]
         ],
         "type": "heatmap",
         "uid": "c2715d7e-ddfa-11e8-b3fd-cd1e154e22ff",
         "x": [
          "Video1",
          "Video2",
          "Quiz1",
          "Quiz2",
          "Pdf1",
          "Pdf2",
          "Ebook1",
          "Ebook2"
         ],
         "y": [
          "Student_1",
          "Student_2",
          "Student_3",
          "Student_4",
          "Student_5",
          "Student_6",
          "Student_7",
          "Student_8",
          "Student_9",
          "Student_10",
          "Student_11",
          "Student_12",
          "Student_13",
          "Student_14",
          "Student_15",
          "Student_16",
          "Student_17",
          "Student_18",
          "Student_19",
          "Student_20"
         ],
         "z": [
          [
           14,
           8,
           0,
           16,
           10,
           27,
           18,
           13
          ],
          [
           12,
           15,
           19,
           9,
           2,
           8,
           2,
           17
          ],
          [
           2,
           25,
           6,
           22,
           18,
           25,
           0,
           29
          ],
          [
           1,
           8,
           18,
           25,
           11,
           25,
           23,
           18
          ],
          [
           25,
           10,
           6,
           24,
           22,
           2,
           21,
           3
          ],
          [
           16,
           4,
           4,
           10,
           19,
           14,
           29,
           23
          ],
          [
           11,
           27,
           12,
           14,
           7,
           19,
           2,
           27
          ],
          [
           24,
           18,
           2,
           7,
           11,
           28,
           22,
           25
          ],
          [
           25,
           23,
           15,
           8,
           16,
           3,
           18,
           21
          ],
          [
           13,
           11,
           23,
           13,
           26,
           4,
           4,
           3
          ],
          [
           0,
           3,
           18,
           3,
           25,
           20,
           2,
           28
          ],
          [
           12,
           25,
           4,
           24,
           19,
           20,
           2,
           9
          ],
          [
           2,
           19,
           9,
           16,
           0,
           27,
           28,
           27
          ],
          [
           16,
           21,
           13,
           25,
           29,
           5,
           5,
           19
          ],
          [
           18,
           18,
           20,
           19,
           26,
           16,
           10,
           29
          ],
          [
           24,
           20,
           20,
           21,
           15,
           27,
           15,
           16
          ],
          [
           20,
           29,
           11,
           12,
           0,
           8,
           7,
           22
          ],
          [
           4,
           20,
           24,
           25,
           15,
           8,
           5,
           29
          ],
          [
           29,
           10,
           23,
           21,
           21,
           28,
           9,
           27
          ],
          [
           26,
           17,
           7,
           13,
           7,
           29,
           25,
           12
          ]
         ]
        }
       ],
       "layout": {
        "title": "Número de acessos nos materiais por estudante",
        "yaxis": {
         "dtick": 1,
         "exponentformat": "e",
         "gridcolor": "#bdbdbd",
         "showexponent": "all",
         "showticklabels": true,
         "tick0": 0,
         "titlefont": {
          "color": "lightgrey",
          "family": "Arial, sans-serif"
         }
        }
       }
      },
      "text/html": [
       "<div id=\"3fd5f0c3-3c91-4200-a247-20e4cd540e1c\" style=\"height: 525px; width: 100%;\" class=\"plotly-graph-div\"></div><script type=\"text/javascript\">require([\"plotly\"], function(Plotly) { window.PLOTLYENV=window.PLOTLYENV || {};window.PLOTLYENV.BASE_URL=\"https://plot.ly\";\n",
       "        Plotly.plot(\n",
       "            '3fd5f0c3-3c91-4200-a247-20e4cd540e1c',\n",
       "            [{\"colorscale\": [[0, \"rgb(255,255,255)\"], [1, \"rgb(0,0,255)\"]], \"x\": [\"Video1\", \"Video2\", \"Quiz1\", \"Quiz2\", \"Pdf1\", \"Pdf2\", \"Ebook1\", \"Ebook2\"], \"y\": [\"Student_1\", \"Student_2\", \"Student_3\", \"Student_4\", \"Student_5\", \"Student_6\", \"Student_7\", \"Student_8\", \"Student_9\", \"Student_10\", \"Student_11\", \"Student_12\", \"Student_13\", \"Student_14\", \"Student_15\", \"Student_16\", \"Student_17\", \"Student_18\", \"Student_19\", \"Student_20\"], \"z\": [[14, 8, 0, 16, 10, 27, 18, 13], [12, 15, 19, 9, 2, 8, 2, 17], [2, 25, 6, 22, 18, 25, 0, 29], [1, 8, 18, 25, 11, 25, 23, 18], [25, 10, 6, 24, 22, 2, 21, 3], [16, 4, 4, 10, 19, 14, 29, 23], [11, 27, 12, 14, 7, 19, 2, 27], [24, 18, 2, 7, 11, 28, 22, 25], [25, 23, 15, 8, 16, 3, 18, 21], [13, 11, 23, 13, 26, 4, 4, 3], [0, 3, 18, 3, 25, 20, 2, 28], [12, 25, 4, 24, 19, 20, 2, 9], [2, 19, 9, 16, 0, 27, 28, 27], [16, 21, 13, 25, 29, 5, 5, 19], [18, 18, 20, 19, 26, 16, 10, 29], [24, 20, 20, 21, 15, 27, 15, 16], [20, 29, 11, 12, 0, 8, 7, 22], [4, 20, 24, 25, 15, 8, 5, 29], [29, 10, 23, 21, 21, 28, 9, 27], [26, 17, 7, 13, 7, 29, 25, 12]], \"type\": \"heatmap\", \"uid\": \"c2715d7e-ddfa-11e8-b3fd-cd1e154e22ff\"}],\n",
       "            {\"title\": \"N\\u00famero de acessos nos materiais por estudante\", \"yaxis\": {\"dtick\": 1, \"exponentformat\": \"e\", \"gridcolor\": \"#bdbdbd\", \"showexponent\": \"all\", \"showticklabels\": true, \"tick0\": 0, \"titlefont\": {\"color\": \"lightgrey\", \"family\": \"Arial, sans-serif\"}}},\n",
       "            {\"showLink\": true, \"linkText\": \"Export to plot.ly\"}\n",
       "        ).then(function () {return Plotly.addFrames('3fd5f0c3-3c91-4200-a247-20e4cd540e1c',{});}).then(function(){Plotly.animate('3fd5f0c3-3c91-4200-a247-20e4cd540e1c');})\n",
       "        });</script>"
      ],
      "text/vnd.plotly.v1+html": [
       "<div id=\"3fd5f0c3-3c91-4200-a247-20e4cd540e1c\" style=\"height: 525px; width: 100%;\" class=\"plotly-graph-div\"></div><script type=\"text/javascript\">require([\"plotly\"], function(Plotly) { window.PLOTLYENV=window.PLOTLYENV || {};window.PLOTLYENV.BASE_URL=\"https://plot.ly\";\n",
       "        Plotly.plot(\n",
       "            '3fd5f0c3-3c91-4200-a247-20e4cd540e1c',\n",
       "            [{\"colorscale\": [[0, \"rgb(255,255,255)\"], [1, \"rgb(0,0,255)\"]], \"x\": [\"Video1\", \"Video2\", \"Quiz1\", \"Quiz2\", \"Pdf1\", \"Pdf2\", \"Ebook1\", \"Ebook2\"], \"y\": [\"Student_1\", \"Student_2\", \"Student_3\", \"Student_4\", \"Student_5\", \"Student_6\", \"Student_7\", \"Student_8\", \"Student_9\", \"Student_10\", \"Student_11\", \"Student_12\", \"Student_13\", \"Student_14\", \"Student_15\", \"Student_16\", \"Student_17\", \"Student_18\", \"Student_19\", \"Student_20\"], \"z\": [[14, 8, 0, 16, 10, 27, 18, 13], [12, 15, 19, 9, 2, 8, 2, 17], [2, 25, 6, 22, 18, 25, 0, 29], [1, 8, 18, 25, 11, 25, 23, 18], [25, 10, 6, 24, 22, 2, 21, 3], [16, 4, 4, 10, 19, 14, 29, 23], [11, 27, 12, 14, 7, 19, 2, 27], [24, 18, 2, 7, 11, 28, 22, 25], [25, 23, 15, 8, 16, 3, 18, 21], [13, 11, 23, 13, 26, 4, 4, 3], [0, 3, 18, 3, 25, 20, 2, 28], [12, 25, 4, 24, 19, 20, 2, 9], [2, 19, 9, 16, 0, 27, 28, 27], [16, 21, 13, 25, 29, 5, 5, 19], [18, 18, 20, 19, 26, 16, 10, 29], [24, 20, 20, 21, 15, 27, 15, 16], [20, 29, 11, 12, 0, 8, 7, 22], [4, 20, 24, 25, 15, 8, 5, 29], [29, 10, 23, 21, 21, 28, 9, 27], [26, 17, 7, 13, 7, 29, 25, 12]], \"type\": \"heatmap\", \"uid\": \"c2715d7e-ddfa-11e8-b3fd-cd1e154e22ff\"}],\n",
       "            {\"title\": \"N\\u00famero de acessos nos materiais por estudante\", \"yaxis\": {\"dtick\": 1, \"exponentformat\": \"e\", \"gridcolor\": \"#bdbdbd\", \"showexponent\": \"all\", \"showticklabels\": true, \"tick0\": 0, \"titlefont\": {\"color\": \"lightgrey\", \"family\": \"Arial, sans-serif\"}}},\n",
       "            {\"showLink\": true, \"linkText\": \"Export to plot.ly\"}\n",
       "        ).then(function () {return Plotly.addFrames('3fd5f0c3-3c91-4200-a247-20e4cd540e1c',{});}).then(function(){Plotly.animate('3fd5f0c3-3c91-4200-a247-20e4cd540e1c');})\n",
       "        });</script>"
      ]
     },
     "metadata": {},
     "output_type": "display_data"
    },
    {
     "data": {
      "application/vnd.plotly.v1+json": {
       "data": [
        {
         "marker": {
          "line": {
           "width": 2
          },
          "size": [
           14,
           8,
           0,
           16,
           10,
           27,
           18,
           13
          ],
          "sizemode": "area",
          "sizeref": 0.06896551724137931,
          "symbol": "circle"
         },
         "mode": "markers",
         "name": "Student_1",
         "type": "scatter",
         "uid": "c2c4002e-ddfa-11e8-b3fd-cd1e154e22ff",
         "x": [
          "Student_1",
          "Student_1",
          "Student_1",
          "Student_1",
          "Student_1",
          "Student_1",
          "Student_1",
          "Student_1"
         ],
         "y": [
          "Video1",
          "Video2",
          "Quiz1",
          "Quiz2",
          "Pdf1",
          "Pdf2",
          "Ebook1",
          "Ebook2"
         ]
        },
        {
         "marker": {
          "line": {
           "width": 2
          },
          "size": [
           12,
           15,
           19,
           9,
           2,
           8,
           2,
           17
          ],
          "sizemode": "area",
          "sizeref": 0.06896551724137931,
          "symbol": "circle"
         },
         "mode": "markers",
         "name": "Student_2",
         "type": "scatter",
         "uid": "c2c4024a-ddfa-11e8-b3fd-cd1e154e22ff",
         "x": [
          "Student_2",
          "Student_2",
          "Student_2",
          "Student_2",
          "Student_2",
          "Student_2",
          "Student_2",
          "Student_2"
         ],
         "y": [
          "Video1",
          "Video2",
          "Quiz1",
          "Quiz2",
          "Pdf1",
          "Pdf2",
          "Ebook1",
          "Ebook2"
         ]
        },
        {
         "marker": {
          "line": {
           "width": 2
          },
          "size": [
           2,
           25,
           6,
           22,
           18,
           25,
           0,
           29
          ],
          "sizemode": "area",
          "sizeref": 0.06896551724137931,
          "symbol": "circle"
         },
         "mode": "markers",
         "name": "Student_3",
         "type": "scatter",
         "uid": "c2c40362-ddfa-11e8-b3fd-cd1e154e22ff",
         "x": [
          "Student_3",
          "Student_3",
          "Student_3",
          "Student_3",
          "Student_3",
          "Student_3",
          "Student_3",
          "Student_3"
         ],
         "y": [
          "Video1",
          "Video2",
          "Quiz1",
          "Quiz2",
          "Pdf1",
          "Pdf2",
          "Ebook1",
          "Ebook2"
         ]
        },
        {
         "marker": {
          "line": {
           "width": 2
          },
          "size": [
           1,
           8,
           18,
           25,
           11,
           25,
           23,
           18
          ],
          "sizemode": "area",
          "sizeref": 0.06896551724137931,
          "symbol": "circle"
         },
         "mode": "markers",
         "name": "Student_4",
         "type": "scatter",
         "uid": "c2c40434-ddfa-11e8-b3fd-cd1e154e22ff",
         "x": [
          "Student_4",
          "Student_4",
          "Student_4",
          "Student_4",
          "Student_4",
          "Student_4",
          "Student_4",
          "Student_4"
         ],
         "y": [
          "Video1",
          "Video2",
          "Quiz1",
          "Quiz2",
          "Pdf1",
          "Pdf2",
          "Ebook1",
          "Ebook2"
         ]
        },
        {
         "marker": {
          "line": {
           "width": 2
          },
          "size": [
           25,
           10,
           6,
           24,
           22,
           2,
           21,
           3
          ],
          "sizemode": "area",
          "sizeref": 0.06896551724137931,
          "symbol": "circle"
         },
         "mode": "markers",
         "name": "Student_5",
         "type": "scatter",
         "uid": "c2c404fc-ddfa-11e8-b3fd-cd1e154e22ff",
         "x": [
          "Student_5",
          "Student_5",
          "Student_5",
          "Student_5",
          "Student_5",
          "Student_5",
          "Student_5",
          "Student_5"
         ],
         "y": [
          "Video1",
          "Video2",
          "Quiz1",
          "Quiz2",
          "Pdf1",
          "Pdf2",
          "Ebook1",
          "Ebook2"
         ]
        },
        {
         "marker": {
          "line": {
           "width": 2
          },
          "size": [
           16,
           4,
           4,
           10,
           19,
           14,
           29,
           23
          ],
          "sizemode": "area",
          "sizeref": 0.06896551724137931,
          "symbol": "circle"
         },
         "mode": "markers",
         "name": "Student_6",
         "type": "scatter",
         "uid": "c2c405c4-ddfa-11e8-b3fd-cd1e154e22ff",
         "x": [
          "Student_6",
          "Student_6",
          "Student_6",
          "Student_6",
          "Student_6",
          "Student_6",
          "Student_6",
          "Student_6"
         ],
         "y": [
          "Video1",
          "Video2",
          "Quiz1",
          "Quiz2",
          "Pdf1",
          "Pdf2",
          "Ebook1",
          "Ebook2"
         ]
        },
        {
         "marker": {
          "line": {
           "width": 2
          },
          "size": [
           11,
           27,
           12,
           14,
           7,
           19,
           2,
           27
          ],
          "sizemode": "area",
          "sizeref": 0.06896551724137931,
          "symbol": "circle"
         },
         "mode": "markers",
         "name": "Student_7",
         "type": "scatter",
         "uid": "c2c40682-ddfa-11e8-b3fd-cd1e154e22ff",
         "x": [
          "Student_7",
          "Student_7",
          "Student_7",
          "Student_7",
          "Student_7",
          "Student_7",
          "Student_7",
          "Student_7"
         ],
         "y": [
          "Video1",
          "Video2",
          "Quiz1",
          "Quiz2",
          "Pdf1",
          "Pdf2",
          "Ebook1",
          "Ebook2"
         ]
        },
        {
         "marker": {
          "line": {
           "width": 2
          },
          "size": [
           24,
           18,
           2,
           7,
           11,
           28,
           22,
           25
          ],
          "sizemode": "area",
          "sizeref": 0.06896551724137931,
          "symbol": "circle"
         },
         "mode": "markers",
         "name": "Student_8",
         "type": "scatter",
         "uid": "c2c40736-ddfa-11e8-b3fd-cd1e154e22ff",
         "x": [
          "Student_8",
          "Student_8",
          "Student_8",
          "Student_8",
          "Student_8",
          "Student_8",
          "Student_8",
          "Student_8"
         ],
         "y": [
          "Video1",
          "Video2",
          "Quiz1",
          "Quiz2",
          "Pdf1",
          "Pdf2",
          "Ebook1",
          "Ebook2"
         ]
        },
        {
         "marker": {
          "line": {
           "width": 2
          },
          "size": [
           25,
           23,
           15,
           8,
           16,
           3,
           18,
           21
          ],
          "sizemode": "area",
          "sizeref": 0.06896551724137931,
          "symbol": "circle"
         },
         "mode": "markers",
         "name": "Student_9",
         "type": "scatter",
         "uid": "c2c407f4-ddfa-11e8-b3fd-cd1e154e22ff",
         "x": [
          "Student_9",
          "Student_9",
          "Student_9",
          "Student_9",
          "Student_9",
          "Student_9",
          "Student_9",
          "Student_9"
         ],
         "y": [
          "Video1",
          "Video2",
          "Quiz1",
          "Quiz2",
          "Pdf1",
          "Pdf2",
          "Ebook1",
          "Ebook2"
         ]
        },
        {
         "marker": {
          "line": {
           "width": 2
          },
          "size": [
           13,
           11,
           23,
           13,
           26,
           4,
           4,
           3
          ],
          "sizemode": "area",
          "sizeref": 0.06896551724137931,
          "symbol": "circle"
         },
         "mode": "markers",
         "name": "Student_10",
         "type": "scatter",
         "uid": "c2c408a8-ddfa-11e8-b3fd-cd1e154e22ff",
         "x": [
          "Student_10",
          "Student_10",
          "Student_10",
          "Student_10",
          "Student_10",
          "Student_10",
          "Student_10",
          "Student_10"
         ],
         "y": [
          "Video1",
          "Video2",
          "Quiz1",
          "Quiz2",
          "Pdf1",
          "Pdf2",
          "Ebook1",
          "Ebook2"
         ]
        },
        {
         "marker": {
          "line": {
           "width": 2
          },
          "size": [
           0,
           3,
           18,
           3,
           25,
           20,
           2,
           28
          ],
          "sizemode": "area",
          "sizeref": 0.06896551724137931,
          "symbol": "circle"
         },
         "mode": "markers",
         "name": "Student_11",
         "type": "scatter",
         "uid": "c2c40966-ddfa-11e8-b3fd-cd1e154e22ff",
         "x": [
          "Student_11",
          "Student_11",
          "Student_11",
          "Student_11",
          "Student_11",
          "Student_11",
          "Student_11",
          "Student_11"
         ],
         "y": [
          "Video1",
          "Video2",
          "Quiz1",
          "Quiz2",
          "Pdf1",
          "Pdf2",
          "Ebook1",
          "Ebook2"
         ]
        },
        {
         "marker": {
          "line": {
           "width": 2
          },
          "size": [
           12,
           25,
           4,
           24,
           19,
           20,
           2,
           9
          ],
          "sizemode": "area",
          "sizeref": 0.06896551724137931,
          "symbol": "circle"
         },
         "mode": "markers",
         "name": "Student_12",
         "type": "scatter",
         "uid": "c2c40a1a-ddfa-11e8-b3fd-cd1e154e22ff",
         "x": [
          "Student_12",
          "Student_12",
          "Student_12",
          "Student_12",
          "Student_12",
          "Student_12",
          "Student_12",
          "Student_12"
         ],
         "y": [
          "Video1",
          "Video2",
          "Quiz1",
          "Quiz2",
          "Pdf1",
          "Pdf2",
          "Ebook1",
          "Ebook2"
         ]
        },
        {
         "marker": {
          "line": {
           "width": 2
          },
          "size": [
           2,
           19,
           9,
           16,
           0,
           27,
           28,
           27
          ],
          "sizemode": "area",
          "sizeref": 0.06896551724137931,
          "symbol": "circle"
         },
         "mode": "markers",
         "name": "Student_13",
         "type": "scatter",
         "uid": "c2c40ad8-ddfa-11e8-b3fd-cd1e154e22ff",
         "x": [
          "Student_13",
          "Student_13",
          "Student_13",
          "Student_13",
          "Student_13",
          "Student_13",
          "Student_13",
          "Student_13"
         ],
         "y": [
          "Video1",
          "Video2",
          "Quiz1",
          "Quiz2",
          "Pdf1",
          "Pdf2",
          "Ebook1",
          "Ebook2"
         ]
        },
        {
         "marker": {
          "line": {
           "width": 2
          },
          "size": [
           16,
           21,
           13,
           25,
           29,
           5,
           5,
           19
          ],
          "sizemode": "area",
          "sizeref": 0.06896551724137931,
          "symbol": "circle"
         },
         "mode": "markers",
         "name": "Student_14",
         "type": "scatter",
         "uid": "c2c40b8c-ddfa-11e8-b3fd-cd1e154e22ff",
         "x": [
          "Student_14",
          "Student_14",
          "Student_14",
          "Student_14",
          "Student_14",
          "Student_14",
          "Student_14",
          "Student_14"
         ],
         "y": [
          "Video1",
          "Video2",
          "Quiz1",
          "Quiz2",
          "Pdf1",
          "Pdf2",
          "Ebook1",
          "Ebook2"
         ]
        },
        {
         "marker": {
          "line": {
           "width": 2
          },
          "size": [
           18,
           18,
           20,
           19,
           26,
           16,
           10,
           29
          ],
          "sizemode": "area",
          "sizeref": 0.06896551724137931,
          "symbol": "circle"
         },
         "mode": "markers",
         "name": "Student_15",
         "type": "scatter",
         "uid": "c2c40c4a-ddfa-11e8-b3fd-cd1e154e22ff",
         "x": [
          "Student_15",
          "Student_15",
          "Student_15",
          "Student_15",
          "Student_15",
          "Student_15",
          "Student_15",
          "Student_15"
         ],
         "y": [
          "Video1",
          "Video2",
          "Quiz1",
          "Quiz2",
          "Pdf1",
          "Pdf2",
          "Ebook1",
          "Ebook2"
         ]
        },
        {
         "marker": {
          "line": {
           "width": 2
          },
          "size": [
           24,
           20,
           20,
           21,
           15,
           27,
           15,
           16
          ],
          "sizemode": "area",
          "sizeref": 0.06896551724137931,
          "symbol": "circle"
         },
         "mode": "markers",
         "name": "Student_16",
         "type": "scatter",
         "uid": "c2c40d08-ddfa-11e8-b3fd-cd1e154e22ff",
         "x": [
          "Student_16",
          "Student_16",
          "Student_16",
          "Student_16",
          "Student_16",
          "Student_16",
          "Student_16",
          "Student_16"
         ],
         "y": [
          "Video1",
          "Video2",
          "Quiz1",
          "Quiz2",
          "Pdf1",
          "Pdf2",
          "Ebook1",
          "Ebook2"
         ]
        },
        {
         "marker": {
          "line": {
           "width": 2
          },
          "size": [
           20,
           29,
           11,
           12,
           0,
           8,
           7,
           22
          ],
          "sizemode": "area",
          "sizeref": 0.06896551724137931,
          "symbol": "circle"
         },
         "mode": "markers",
         "name": "Student_17",
         "type": "scatter",
         "uid": "c2c40dbc-ddfa-11e8-b3fd-cd1e154e22ff",
         "x": [
          "Student_17",
          "Student_17",
          "Student_17",
          "Student_17",
          "Student_17",
          "Student_17",
          "Student_17",
          "Student_17"
         ],
         "y": [
          "Video1",
          "Video2",
          "Quiz1",
          "Quiz2",
          "Pdf1",
          "Pdf2",
          "Ebook1",
          "Ebook2"
         ]
        },
        {
         "marker": {
          "line": {
           "width": 2
          },
          "size": [
           4,
           20,
           24,
           25,
           15,
           8,
           5,
           29
          ],
          "sizemode": "area",
          "sizeref": 0.06896551724137931,
          "symbol": "circle"
         },
         "mode": "markers",
         "name": "Student_18",
         "type": "scatter",
         "uid": "c2c40e70-ddfa-11e8-b3fd-cd1e154e22ff",
         "x": [
          "Student_18",
          "Student_18",
          "Student_18",
          "Student_18",
          "Student_18",
          "Student_18",
          "Student_18",
          "Student_18"
         ],
         "y": [
          "Video1",
          "Video2",
          "Quiz1",
          "Quiz2",
          "Pdf1",
          "Pdf2",
          "Ebook1",
          "Ebook2"
         ]
        },
        {
         "marker": {
          "line": {
           "width": 2
          },
          "size": [
           29,
           10,
           23,
           21,
           21,
           28,
           9,
           27
          ],
          "sizemode": "area",
          "sizeref": 0.06896551724137931,
          "symbol": "circle"
         },
         "mode": "markers",
         "name": "Student_19",
         "type": "scatter",
         "uid": "c2c40f2e-ddfa-11e8-b3fd-cd1e154e22ff",
         "x": [
          "Student_19",
          "Student_19",
          "Student_19",
          "Student_19",
          "Student_19",
          "Student_19",
          "Student_19",
          "Student_19"
         ],
         "y": [
          "Video1",
          "Video2",
          "Quiz1",
          "Quiz2",
          "Pdf1",
          "Pdf2",
          "Ebook1",
          "Ebook2"
         ]
        },
        {
         "marker": {
          "line": {
           "width": 2
          },
          "size": [
           26,
           17,
           7,
           13,
           7,
           29,
           25,
           12
          ],
          "sizemode": "area",
          "sizeref": 0.06896551724137931,
          "symbol": "circle"
         },
         "mode": "markers",
         "name": "Student_20",
         "type": "scatter",
         "uid": "c2c40fe2-ddfa-11e8-b3fd-cd1e154e22ff",
         "x": [
          "Student_20",
          "Student_20",
          "Student_20",
          "Student_20",
          "Student_20",
          "Student_20",
          "Student_20",
          "Student_20"
         ],
         "y": [
          "Video1",
          "Video2",
          "Quiz1",
          "Quiz2",
          "Pdf1",
          "Pdf2",
          "Ebook1",
          "Ebook2"
         ]
        }
       ],
       "layout": {
        "title": "Número de acessos nos materiais por estudante",
        "xaxis": {
         "autorange": false,
         "categoryorder": "category ascending",
         "fixedrange": false,
         "range": [
          -1,
          20
         ],
         "rangemode": "normal",
         "showline": true,
         "title": "Estudantes",
         "type": "category"
        },
        "yaxis": {
         "autorange": false,
         "categoryorder": "category ascending",
         "fixedrange": false,
         "range": [
          -1,
          8
         ],
         "rangemode": "normal",
         "showline": true,
         "title": "Materiais",
         "type": "category"
        }
       }
      },
      "text/html": [
       "<div id=\"4e875b5c-209b-4a90-bf88-fcbfbb26be91\" style=\"height: 525px; width: 100%;\" class=\"plotly-graph-div\"></div><script type=\"text/javascript\">require([\"plotly\"], function(Plotly) { window.PLOTLYENV=window.PLOTLYENV || {};window.PLOTLYENV.BASE_URL=\"https://plot.ly\";\n",
       "        Plotly.plot(\n",
       "            '4e875b5c-209b-4a90-bf88-fcbfbb26be91',\n",
       "            [{\"marker\": {\"line\": {\"width\": 2}, \"size\": [14, 8, 0, 16, 10, 27, 18, 13], \"sizemode\": \"area\", \"sizeref\": 0.06896551724137931, \"symbol\": \"circle\"}, \"mode\": \"markers\", \"name\": \"Student_1\", \"x\": [\"Student_1\", \"Student_1\", \"Student_1\", \"Student_1\", \"Student_1\", \"Student_1\", \"Student_1\", \"Student_1\"], \"y\": [\"Video1\", \"Video2\", \"Quiz1\", \"Quiz2\", \"Pdf1\", \"Pdf2\", \"Ebook1\", \"Ebook2\"], \"type\": \"scatter\", \"uid\": \"c2c4002e-ddfa-11e8-b3fd-cd1e154e22ff\"}, {\"marker\": {\"line\": {\"width\": 2}, \"size\": [12, 15, 19, 9, 2, 8, 2, 17], \"sizemode\": \"area\", \"sizeref\": 0.06896551724137931, \"symbol\": \"circle\"}, \"mode\": \"markers\", \"name\": \"Student_2\", \"x\": [\"Student_2\", \"Student_2\", \"Student_2\", \"Student_2\", \"Student_2\", \"Student_2\", \"Student_2\", \"Student_2\"], \"y\": [\"Video1\", \"Video2\", \"Quiz1\", \"Quiz2\", \"Pdf1\", \"Pdf2\", \"Ebook1\", \"Ebook2\"], \"type\": \"scatter\", \"uid\": \"c2c4024a-ddfa-11e8-b3fd-cd1e154e22ff\"}, {\"marker\": {\"line\": {\"width\": 2}, \"size\": [2, 25, 6, 22, 18, 25, 0, 29], \"sizemode\": \"area\", \"sizeref\": 0.06896551724137931, \"symbol\": \"circle\"}, \"mode\": \"markers\", \"name\": \"Student_3\", \"x\": [\"Student_3\", \"Student_3\", \"Student_3\", \"Student_3\", \"Student_3\", \"Student_3\", \"Student_3\", \"Student_3\"], \"y\": [\"Video1\", \"Video2\", \"Quiz1\", \"Quiz2\", \"Pdf1\", \"Pdf2\", \"Ebook1\", \"Ebook2\"], \"type\": \"scatter\", \"uid\": \"c2c40362-ddfa-11e8-b3fd-cd1e154e22ff\"}, {\"marker\": {\"line\": {\"width\": 2}, \"size\": [1, 8, 18, 25, 11, 25, 23, 18], \"sizemode\": \"area\", \"sizeref\": 0.06896551724137931, \"symbol\": \"circle\"}, \"mode\": \"markers\", \"name\": \"Student_4\", \"x\": [\"Student_4\", \"Student_4\", \"Student_4\", \"Student_4\", \"Student_4\", \"Student_4\", \"Student_4\", \"Student_4\"], \"y\": [\"Video1\", \"Video2\", \"Quiz1\", \"Quiz2\", \"Pdf1\", \"Pdf2\", \"Ebook1\", \"Ebook2\"], \"type\": \"scatter\", \"uid\": \"c2c40434-ddfa-11e8-b3fd-cd1e154e22ff\"}, {\"marker\": {\"line\": {\"width\": 2}, \"size\": [25, 10, 6, 24, 22, 2, 21, 3], \"sizemode\": \"area\", \"sizeref\": 0.06896551724137931, \"symbol\": \"circle\"}, \"mode\": \"markers\", \"name\": \"Student_5\", \"x\": [\"Student_5\", \"Student_5\", \"Student_5\", \"Student_5\", \"Student_5\", \"Student_5\", \"Student_5\", \"Student_5\"], \"y\": [\"Video1\", \"Video2\", \"Quiz1\", \"Quiz2\", \"Pdf1\", \"Pdf2\", \"Ebook1\", \"Ebook2\"], \"type\": \"scatter\", \"uid\": \"c2c404fc-ddfa-11e8-b3fd-cd1e154e22ff\"}, {\"marker\": {\"line\": {\"width\": 2}, \"size\": [16, 4, 4, 10, 19, 14, 29, 23], \"sizemode\": \"area\", \"sizeref\": 0.06896551724137931, \"symbol\": \"circle\"}, \"mode\": \"markers\", \"name\": \"Student_6\", \"x\": [\"Student_6\", \"Student_6\", \"Student_6\", \"Student_6\", \"Student_6\", \"Student_6\", \"Student_6\", \"Student_6\"], \"y\": [\"Video1\", \"Video2\", \"Quiz1\", \"Quiz2\", \"Pdf1\", \"Pdf2\", \"Ebook1\", \"Ebook2\"], \"type\": \"scatter\", \"uid\": \"c2c405c4-ddfa-11e8-b3fd-cd1e154e22ff\"}, {\"marker\": {\"line\": {\"width\": 2}, \"size\": [11, 27, 12, 14, 7, 19, 2, 27], \"sizemode\": \"area\", \"sizeref\": 0.06896551724137931, \"symbol\": \"circle\"}, \"mode\": \"markers\", \"name\": \"Student_7\", \"x\": [\"Student_7\", \"Student_7\", \"Student_7\", \"Student_7\", \"Student_7\", \"Student_7\", \"Student_7\", \"Student_7\"], \"y\": [\"Video1\", \"Video2\", \"Quiz1\", \"Quiz2\", \"Pdf1\", \"Pdf2\", \"Ebook1\", \"Ebook2\"], \"type\": \"scatter\", \"uid\": \"c2c40682-ddfa-11e8-b3fd-cd1e154e22ff\"}, {\"marker\": {\"line\": {\"width\": 2}, \"size\": [24, 18, 2, 7, 11, 28, 22, 25], \"sizemode\": \"area\", \"sizeref\": 0.06896551724137931, \"symbol\": \"circle\"}, \"mode\": \"markers\", \"name\": \"Student_8\", \"x\": [\"Student_8\", \"Student_8\", \"Student_8\", \"Student_8\", \"Student_8\", \"Student_8\", \"Student_8\", \"Student_8\"], \"y\": [\"Video1\", \"Video2\", \"Quiz1\", \"Quiz2\", \"Pdf1\", \"Pdf2\", \"Ebook1\", \"Ebook2\"], \"type\": \"scatter\", \"uid\": \"c2c40736-ddfa-11e8-b3fd-cd1e154e22ff\"}, {\"marker\": {\"line\": {\"width\": 2}, \"size\": [25, 23, 15, 8, 16, 3, 18, 21], \"sizemode\": \"area\", \"sizeref\": 0.06896551724137931, \"symbol\": \"circle\"}, \"mode\": \"markers\", \"name\": \"Student_9\", \"x\": [\"Student_9\", \"Student_9\", \"Student_9\", \"Student_9\", \"Student_9\", \"Student_9\", \"Student_9\", \"Student_9\"], \"y\": [\"Video1\", \"Video2\", \"Quiz1\", \"Quiz2\", \"Pdf1\", \"Pdf2\", \"Ebook1\", \"Ebook2\"], \"type\": \"scatter\", \"uid\": \"c2c407f4-ddfa-11e8-b3fd-cd1e154e22ff\"}, {\"marker\": {\"line\": {\"width\": 2}, \"size\": [13, 11, 23, 13, 26, 4, 4, 3], \"sizemode\": \"area\", \"sizeref\": 0.06896551724137931, \"symbol\": \"circle\"}, \"mode\": \"markers\", \"name\": \"Student_10\", \"x\": [\"Student_10\", \"Student_10\", \"Student_10\", \"Student_10\", \"Student_10\", \"Student_10\", \"Student_10\", \"Student_10\"], \"y\": [\"Video1\", \"Video2\", \"Quiz1\", \"Quiz2\", \"Pdf1\", \"Pdf2\", \"Ebook1\", \"Ebook2\"], \"type\": \"scatter\", \"uid\": \"c2c408a8-ddfa-11e8-b3fd-cd1e154e22ff\"}, {\"marker\": {\"line\": {\"width\": 2}, \"size\": [0, 3, 18, 3, 25, 20, 2, 28], \"sizemode\": \"area\", \"sizeref\": 0.06896551724137931, \"symbol\": \"circle\"}, \"mode\": \"markers\", \"name\": \"Student_11\", \"x\": [\"Student_11\", \"Student_11\", \"Student_11\", \"Student_11\", \"Student_11\", \"Student_11\", \"Student_11\", \"Student_11\"], \"y\": [\"Video1\", \"Video2\", \"Quiz1\", \"Quiz2\", \"Pdf1\", \"Pdf2\", \"Ebook1\", \"Ebook2\"], \"type\": \"scatter\", \"uid\": \"c2c40966-ddfa-11e8-b3fd-cd1e154e22ff\"}, {\"marker\": {\"line\": {\"width\": 2}, \"size\": [12, 25, 4, 24, 19, 20, 2, 9], \"sizemode\": \"area\", \"sizeref\": 0.06896551724137931, \"symbol\": \"circle\"}, \"mode\": \"markers\", \"name\": \"Student_12\", \"x\": [\"Student_12\", \"Student_12\", \"Student_12\", \"Student_12\", \"Student_12\", \"Student_12\", \"Student_12\", \"Student_12\"], \"y\": [\"Video1\", \"Video2\", \"Quiz1\", \"Quiz2\", \"Pdf1\", \"Pdf2\", \"Ebook1\", \"Ebook2\"], \"type\": \"scatter\", \"uid\": \"c2c40a1a-ddfa-11e8-b3fd-cd1e154e22ff\"}, {\"marker\": {\"line\": {\"width\": 2}, \"size\": [2, 19, 9, 16, 0, 27, 28, 27], \"sizemode\": \"area\", \"sizeref\": 0.06896551724137931, \"symbol\": \"circle\"}, \"mode\": \"markers\", \"name\": \"Student_13\", \"x\": [\"Student_13\", \"Student_13\", \"Student_13\", \"Student_13\", \"Student_13\", \"Student_13\", \"Student_13\", \"Student_13\"], \"y\": [\"Video1\", \"Video2\", \"Quiz1\", \"Quiz2\", \"Pdf1\", \"Pdf2\", \"Ebook1\", \"Ebook2\"], \"type\": \"scatter\", \"uid\": \"c2c40ad8-ddfa-11e8-b3fd-cd1e154e22ff\"}, {\"marker\": {\"line\": {\"width\": 2}, \"size\": [16, 21, 13, 25, 29, 5, 5, 19], \"sizemode\": \"area\", \"sizeref\": 0.06896551724137931, \"symbol\": \"circle\"}, \"mode\": \"markers\", \"name\": \"Student_14\", \"x\": [\"Student_14\", \"Student_14\", \"Student_14\", \"Student_14\", \"Student_14\", \"Student_14\", \"Student_14\", \"Student_14\"], \"y\": [\"Video1\", \"Video2\", \"Quiz1\", \"Quiz2\", \"Pdf1\", \"Pdf2\", \"Ebook1\", \"Ebook2\"], \"type\": \"scatter\", \"uid\": \"c2c40b8c-ddfa-11e8-b3fd-cd1e154e22ff\"}, {\"marker\": {\"line\": {\"width\": 2}, \"size\": [18, 18, 20, 19, 26, 16, 10, 29], \"sizemode\": \"area\", \"sizeref\": 0.06896551724137931, \"symbol\": \"circle\"}, \"mode\": \"markers\", \"name\": \"Student_15\", \"x\": [\"Student_15\", \"Student_15\", \"Student_15\", \"Student_15\", \"Student_15\", \"Student_15\", \"Student_15\", \"Student_15\"], \"y\": [\"Video1\", \"Video2\", \"Quiz1\", \"Quiz2\", \"Pdf1\", \"Pdf2\", \"Ebook1\", \"Ebook2\"], \"type\": \"scatter\", \"uid\": \"c2c40c4a-ddfa-11e8-b3fd-cd1e154e22ff\"}, {\"marker\": {\"line\": {\"width\": 2}, \"size\": [24, 20, 20, 21, 15, 27, 15, 16], \"sizemode\": \"area\", \"sizeref\": 0.06896551724137931, \"symbol\": \"circle\"}, \"mode\": \"markers\", \"name\": \"Student_16\", \"x\": [\"Student_16\", \"Student_16\", \"Student_16\", \"Student_16\", \"Student_16\", \"Student_16\", \"Student_16\", \"Student_16\"], \"y\": [\"Video1\", \"Video2\", \"Quiz1\", \"Quiz2\", \"Pdf1\", \"Pdf2\", \"Ebook1\", \"Ebook2\"], \"type\": \"scatter\", \"uid\": \"c2c40d08-ddfa-11e8-b3fd-cd1e154e22ff\"}, {\"marker\": {\"line\": {\"width\": 2}, \"size\": [20, 29, 11, 12, 0, 8, 7, 22], \"sizemode\": \"area\", \"sizeref\": 0.06896551724137931, \"symbol\": \"circle\"}, \"mode\": \"markers\", \"name\": \"Student_17\", \"x\": [\"Student_17\", \"Student_17\", \"Student_17\", \"Student_17\", \"Student_17\", \"Student_17\", \"Student_17\", \"Student_17\"], \"y\": [\"Video1\", \"Video2\", \"Quiz1\", \"Quiz2\", \"Pdf1\", \"Pdf2\", \"Ebook1\", \"Ebook2\"], \"type\": \"scatter\", \"uid\": \"c2c40dbc-ddfa-11e8-b3fd-cd1e154e22ff\"}, {\"marker\": {\"line\": {\"width\": 2}, \"size\": [4, 20, 24, 25, 15, 8, 5, 29], \"sizemode\": \"area\", \"sizeref\": 0.06896551724137931, \"symbol\": \"circle\"}, \"mode\": \"markers\", \"name\": \"Student_18\", \"x\": [\"Student_18\", \"Student_18\", \"Student_18\", \"Student_18\", \"Student_18\", \"Student_18\", \"Student_18\", \"Student_18\"], \"y\": [\"Video1\", \"Video2\", \"Quiz1\", \"Quiz2\", \"Pdf1\", \"Pdf2\", \"Ebook1\", \"Ebook2\"], \"type\": \"scatter\", \"uid\": \"c2c40e70-ddfa-11e8-b3fd-cd1e154e22ff\"}, {\"marker\": {\"line\": {\"width\": 2}, \"size\": [29, 10, 23, 21, 21, 28, 9, 27], \"sizemode\": \"area\", \"sizeref\": 0.06896551724137931, \"symbol\": \"circle\"}, \"mode\": \"markers\", \"name\": \"Student_19\", \"x\": [\"Student_19\", \"Student_19\", \"Student_19\", \"Student_19\", \"Student_19\", \"Student_19\", \"Student_19\", \"Student_19\"], \"y\": [\"Video1\", \"Video2\", \"Quiz1\", \"Quiz2\", \"Pdf1\", \"Pdf2\", \"Ebook1\", \"Ebook2\"], \"type\": \"scatter\", \"uid\": \"c2c40f2e-ddfa-11e8-b3fd-cd1e154e22ff\"}, {\"marker\": {\"line\": {\"width\": 2}, \"size\": [26, 17, 7, 13, 7, 29, 25, 12], \"sizemode\": \"area\", \"sizeref\": 0.06896551724137931, \"symbol\": \"circle\"}, \"mode\": \"markers\", \"name\": \"Student_20\", \"x\": [\"Student_20\", \"Student_20\", \"Student_20\", \"Student_20\", \"Student_20\", \"Student_20\", \"Student_20\", \"Student_20\"], \"y\": [\"Video1\", \"Video2\", \"Quiz1\", \"Quiz2\", \"Pdf1\", \"Pdf2\", \"Ebook1\", \"Ebook2\"], \"type\": \"scatter\", \"uid\": \"c2c40fe2-ddfa-11e8-b3fd-cd1e154e22ff\"}],\n",
       "            {\"title\": \"N\\u00famero de acessos nos materiais por estudante\", \"xaxis\": {\"autorange\": false, \"categoryorder\": \"category ascending\", \"fixedrange\": false, \"range\": [-1, 20], \"rangemode\": \"normal\", \"showline\": true, \"title\": \"Estudantes\", \"type\": \"category\"}, \"yaxis\": {\"autorange\": false, \"categoryorder\": \"category ascending\", \"fixedrange\": false, \"range\": [-1, 8], \"rangemode\": \"normal\", \"showline\": true, \"title\": \"Materiais\", \"type\": \"category\"}},\n",
       "            {\"showLink\": true, \"linkText\": \"Export to plot.ly\"}\n",
       "        ).then(function () {return Plotly.addFrames('4e875b5c-209b-4a90-bf88-fcbfbb26be91',{});}).then(function(){Plotly.animate('4e875b5c-209b-4a90-bf88-fcbfbb26be91');})\n",
       "        });</script>"
      ],
      "text/vnd.plotly.v1+html": [
       "<div id=\"4e875b5c-209b-4a90-bf88-fcbfbb26be91\" style=\"height: 525px; width: 100%;\" class=\"plotly-graph-div\"></div><script type=\"text/javascript\">require([\"plotly\"], function(Plotly) { window.PLOTLYENV=window.PLOTLYENV || {};window.PLOTLYENV.BASE_URL=\"https://plot.ly\";\n",
       "        Plotly.plot(\n",
       "            '4e875b5c-209b-4a90-bf88-fcbfbb26be91',\n",
       "            [{\"marker\": {\"line\": {\"width\": 2}, \"size\": [14, 8, 0, 16, 10, 27, 18, 13], \"sizemode\": \"area\", \"sizeref\": 0.06896551724137931, \"symbol\": \"circle\"}, \"mode\": \"markers\", \"name\": \"Student_1\", \"x\": [\"Student_1\", \"Student_1\", \"Student_1\", \"Student_1\", \"Student_1\", \"Student_1\", \"Student_1\", \"Student_1\"], \"y\": [\"Video1\", \"Video2\", \"Quiz1\", \"Quiz2\", \"Pdf1\", \"Pdf2\", \"Ebook1\", \"Ebook2\"], \"type\": \"scatter\", \"uid\": \"c2c4002e-ddfa-11e8-b3fd-cd1e154e22ff\"}, {\"marker\": {\"line\": {\"width\": 2}, \"size\": [12, 15, 19, 9, 2, 8, 2, 17], \"sizemode\": \"area\", \"sizeref\": 0.06896551724137931, \"symbol\": \"circle\"}, \"mode\": \"markers\", \"name\": \"Student_2\", \"x\": [\"Student_2\", \"Student_2\", \"Student_2\", \"Student_2\", \"Student_2\", \"Student_2\", \"Student_2\", \"Student_2\"], \"y\": [\"Video1\", \"Video2\", \"Quiz1\", \"Quiz2\", \"Pdf1\", \"Pdf2\", \"Ebook1\", \"Ebook2\"], \"type\": \"scatter\", \"uid\": \"c2c4024a-ddfa-11e8-b3fd-cd1e154e22ff\"}, {\"marker\": {\"line\": {\"width\": 2}, \"size\": [2, 25, 6, 22, 18, 25, 0, 29], \"sizemode\": \"area\", \"sizeref\": 0.06896551724137931, \"symbol\": \"circle\"}, \"mode\": \"markers\", \"name\": \"Student_3\", \"x\": [\"Student_3\", \"Student_3\", \"Student_3\", \"Student_3\", \"Student_3\", \"Student_3\", \"Student_3\", \"Student_3\"], \"y\": [\"Video1\", \"Video2\", \"Quiz1\", \"Quiz2\", \"Pdf1\", \"Pdf2\", \"Ebook1\", \"Ebook2\"], \"type\": \"scatter\", \"uid\": \"c2c40362-ddfa-11e8-b3fd-cd1e154e22ff\"}, {\"marker\": {\"line\": {\"width\": 2}, \"size\": [1, 8, 18, 25, 11, 25, 23, 18], \"sizemode\": \"area\", \"sizeref\": 0.06896551724137931, \"symbol\": \"circle\"}, \"mode\": \"markers\", \"name\": \"Student_4\", \"x\": [\"Student_4\", \"Student_4\", \"Student_4\", \"Student_4\", \"Student_4\", \"Student_4\", \"Student_4\", \"Student_4\"], \"y\": [\"Video1\", \"Video2\", \"Quiz1\", \"Quiz2\", \"Pdf1\", \"Pdf2\", \"Ebook1\", \"Ebook2\"], \"type\": \"scatter\", \"uid\": \"c2c40434-ddfa-11e8-b3fd-cd1e154e22ff\"}, {\"marker\": {\"line\": {\"width\": 2}, \"size\": [25, 10, 6, 24, 22, 2, 21, 3], \"sizemode\": \"area\", \"sizeref\": 0.06896551724137931, \"symbol\": \"circle\"}, \"mode\": \"markers\", \"name\": \"Student_5\", \"x\": [\"Student_5\", \"Student_5\", \"Student_5\", \"Student_5\", \"Student_5\", \"Student_5\", \"Student_5\", \"Student_5\"], \"y\": [\"Video1\", \"Video2\", \"Quiz1\", \"Quiz2\", \"Pdf1\", \"Pdf2\", \"Ebook1\", \"Ebook2\"], \"type\": \"scatter\", \"uid\": \"c2c404fc-ddfa-11e8-b3fd-cd1e154e22ff\"}, {\"marker\": {\"line\": {\"width\": 2}, \"size\": [16, 4, 4, 10, 19, 14, 29, 23], \"sizemode\": \"area\", \"sizeref\": 0.06896551724137931, \"symbol\": \"circle\"}, \"mode\": \"markers\", \"name\": \"Student_6\", \"x\": [\"Student_6\", \"Student_6\", \"Student_6\", \"Student_6\", \"Student_6\", \"Student_6\", \"Student_6\", \"Student_6\"], \"y\": [\"Video1\", \"Video2\", \"Quiz1\", \"Quiz2\", \"Pdf1\", \"Pdf2\", \"Ebook1\", \"Ebook2\"], \"type\": \"scatter\", \"uid\": \"c2c405c4-ddfa-11e8-b3fd-cd1e154e22ff\"}, {\"marker\": {\"line\": {\"width\": 2}, \"size\": [11, 27, 12, 14, 7, 19, 2, 27], \"sizemode\": \"area\", \"sizeref\": 0.06896551724137931, \"symbol\": \"circle\"}, \"mode\": \"markers\", \"name\": \"Student_7\", \"x\": [\"Student_7\", \"Student_7\", \"Student_7\", \"Student_7\", \"Student_7\", \"Student_7\", \"Student_7\", \"Student_7\"], \"y\": [\"Video1\", \"Video2\", \"Quiz1\", \"Quiz2\", \"Pdf1\", \"Pdf2\", \"Ebook1\", \"Ebook2\"], \"type\": \"scatter\", \"uid\": \"c2c40682-ddfa-11e8-b3fd-cd1e154e22ff\"}, {\"marker\": {\"line\": {\"width\": 2}, \"size\": [24, 18, 2, 7, 11, 28, 22, 25], \"sizemode\": \"area\", \"sizeref\": 0.06896551724137931, \"symbol\": \"circle\"}, \"mode\": \"markers\", \"name\": \"Student_8\", \"x\": [\"Student_8\", \"Student_8\", \"Student_8\", \"Student_8\", \"Student_8\", \"Student_8\", \"Student_8\", \"Student_8\"], \"y\": [\"Video1\", \"Video2\", \"Quiz1\", \"Quiz2\", \"Pdf1\", \"Pdf2\", \"Ebook1\", \"Ebook2\"], \"type\": \"scatter\", \"uid\": \"c2c40736-ddfa-11e8-b3fd-cd1e154e22ff\"}, {\"marker\": {\"line\": {\"width\": 2}, \"size\": [25, 23, 15, 8, 16, 3, 18, 21], \"sizemode\": \"area\", \"sizeref\": 0.06896551724137931, \"symbol\": \"circle\"}, \"mode\": \"markers\", \"name\": \"Student_9\", \"x\": [\"Student_9\", \"Student_9\", \"Student_9\", \"Student_9\", \"Student_9\", \"Student_9\", \"Student_9\", \"Student_9\"], \"y\": [\"Video1\", \"Video2\", \"Quiz1\", \"Quiz2\", \"Pdf1\", \"Pdf2\", \"Ebook1\", \"Ebook2\"], \"type\": \"scatter\", \"uid\": \"c2c407f4-ddfa-11e8-b3fd-cd1e154e22ff\"}, {\"marker\": {\"line\": {\"width\": 2}, \"size\": [13, 11, 23, 13, 26, 4, 4, 3], \"sizemode\": \"area\", \"sizeref\": 0.06896551724137931, \"symbol\": \"circle\"}, \"mode\": \"markers\", \"name\": \"Student_10\", \"x\": [\"Student_10\", \"Student_10\", \"Student_10\", \"Student_10\", \"Student_10\", \"Student_10\", \"Student_10\", \"Student_10\"], \"y\": [\"Video1\", \"Video2\", \"Quiz1\", \"Quiz2\", \"Pdf1\", \"Pdf2\", \"Ebook1\", \"Ebook2\"], \"type\": \"scatter\", \"uid\": \"c2c408a8-ddfa-11e8-b3fd-cd1e154e22ff\"}, {\"marker\": {\"line\": {\"width\": 2}, \"size\": [0, 3, 18, 3, 25, 20, 2, 28], \"sizemode\": \"area\", \"sizeref\": 0.06896551724137931, \"symbol\": \"circle\"}, \"mode\": \"markers\", \"name\": \"Student_11\", \"x\": [\"Student_11\", \"Student_11\", \"Student_11\", \"Student_11\", \"Student_11\", \"Student_11\", \"Student_11\", \"Student_11\"], \"y\": [\"Video1\", \"Video2\", \"Quiz1\", \"Quiz2\", \"Pdf1\", \"Pdf2\", \"Ebook1\", \"Ebook2\"], \"type\": \"scatter\", \"uid\": \"c2c40966-ddfa-11e8-b3fd-cd1e154e22ff\"}, {\"marker\": {\"line\": {\"width\": 2}, \"size\": [12, 25, 4, 24, 19, 20, 2, 9], \"sizemode\": \"area\", \"sizeref\": 0.06896551724137931, \"symbol\": \"circle\"}, \"mode\": \"markers\", \"name\": \"Student_12\", \"x\": [\"Student_12\", \"Student_12\", \"Student_12\", \"Student_12\", \"Student_12\", \"Student_12\", \"Student_12\", \"Student_12\"], \"y\": [\"Video1\", \"Video2\", \"Quiz1\", \"Quiz2\", \"Pdf1\", \"Pdf2\", \"Ebook1\", \"Ebook2\"], \"type\": \"scatter\", \"uid\": \"c2c40a1a-ddfa-11e8-b3fd-cd1e154e22ff\"}, {\"marker\": {\"line\": {\"width\": 2}, \"size\": [2, 19, 9, 16, 0, 27, 28, 27], \"sizemode\": \"area\", \"sizeref\": 0.06896551724137931, \"symbol\": \"circle\"}, \"mode\": \"markers\", \"name\": \"Student_13\", \"x\": [\"Student_13\", \"Student_13\", \"Student_13\", \"Student_13\", \"Student_13\", \"Student_13\", \"Student_13\", \"Student_13\"], \"y\": [\"Video1\", \"Video2\", \"Quiz1\", \"Quiz2\", \"Pdf1\", \"Pdf2\", \"Ebook1\", \"Ebook2\"], \"type\": \"scatter\", \"uid\": \"c2c40ad8-ddfa-11e8-b3fd-cd1e154e22ff\"}, {\"marker\": {\"line\": {\"width\": 2}, \"size\": [16, 21, 13, 25, 29, 5, 5, 19], \"sizemode\": \"area\", \"sizeref\": 0.06896551724137931, \"symbol\": \"circle\"}, \"mode\": \"markers\", \"name\": \"Student_14\", \"x\": [\"Student_14\", \"Student_14\", \"Student_14\", \"Student_14\", \"Student_14\", \"Student_14\", \"Student_14\", \"Student_14\"], \"y\": [\"Video1\", \"Video2\", \"Quiz1\", \"Quiz2\", \"Pdf1\", \"Pdf2\", \"Ebook1\", \"Ebook2\"], \"type\": \"scatter\", \"uid\": \"c2c40b8c-ddfa-11e8-b3fd-cd1e154e22ff\"}, {\"marker\": {\"line\": {\"width\": 2}, \"size\": [18, 18, 20, 19, 26, 16, 10, 29], \"sizemode\": \"area\", \"sizeref\": 0.06896551724137931, \"symbol\": \"circle\"}, \"mode\": \"markers\", \"name\": \"Student_15\", \"x\": [\"Student_15\", \"Student_15\", \"Student_15\", \"Student_15\", \"Student_15\", \"Student_15\", \"Student_15\", \"Student_15\"], \"y\": [\"Video1\", \"Video2\", \"Quiz1\", \"Quiz2\", \"Pdf1\", \"Pdf2\", \"Ebook1\", \"Ebook2\"], \"type\": \"scatter\", \"uid\": \"c2c40c4a-ddfa-11e8-b3fd-cd1e154e22ff\"}, {\"marker\": {\"line\": {\"width\": 2}, \"size\": [24, 20, 20, 21, 15, 27, 15, 16], \"sizemode\": \"area\", \"sizeref\": 0.06896551724137931, \"symbol\": \"circle\"}, \"mode\": \"markers\", \"name\": \"Student_16\", \"x\": [\"Student_16\", \"Student_16\", \"Student_16\", \"Student_16\", \"Student_16\", \"Student_16\", \"Student_16\", \"Student_16\"], \"y\": [\"Video1\", \"Video2\", \"Quiz1\", \"Quiz2\", \"Pdf1\", \"Pdf2\", \"Ebook1\", \"Ebook2\"], \"type\": \"scatter\", \"uid\": \"c2c40d08-ddfa-11e8-b3fd-cd1e154e22ff\"}, {\"marker\": {\"line\": {\"width\": 2}, \"size\": [20, 29, 11, 12, 0, 8, 7, 22], \"sizemode\": \"area\", \"sizeref\": 0.06896551724137931, \"symbol\": \"circle\"}, \"mode\": \"markers\", \"name\": \"Student_17\", \"x\": [\"Student_17\", \"Student_17\", \"Student_17\", \"Student_17\", \"Student_17\", \"Student_17\", \"Student_17\", \"Student_17\"], \"y\": [\"Video1\", \"Video2\", \"Quiz1\", \"Quiz2\", \"Pdf1\", \"Pdf2\", \"Ebook1\", \"Ebook2\"], \"type\": \"scatter\", \"uid\": \"c2c40dbc-ddfa-11e8-b3fd-cd1e154e22ff\"}, {\"marker\": {\"line\": {\"width\": 2}, \"size\": [4, 20, 24, 25, 15, 8, 5, 29], \"sizemode\": \"area\", \"sizeref\": 0.06896551724137931, \"symbol\": \"circle\"}, \"mode\": \"markers\", \"name\": \"Student_18\", \"x\": [\"Student_18\", \"Student_18\", \"Student_18\", \"Student_18\", \"Student_18\", \"Student_18\", \"Student_18\", \"Student_18\"], \"y\": [\"Video1\", \"Video2\", \"Quiz1\", \"Quiz2\", \"Pdf1\", \"Pdf2\", \"Ebook1\", \"Ebook2\"], \"type\": \"scatter\", \"uid\": \"c2c40e70-ddfa-11e8-b3fd-cd1e154e22ff\"}, {\"marker\": {\"line\": {\"width\": 2}, \"size\": [29, 10, 23, 21, 21, 28, 9, 27], \"sizemode\": \"area\", \"sizeref\": 0.06896551724137931, \"symbol\": \"circle\"}, \"mode\": \"markers\", \"name\": \"Student_19\", \"x\": [\"Student_19\", \"Student_19\", \"Student_19\", \"Student_19\", \"Student_19\", \"Student_19\", \"Student_19\", \"Student_19\"], \"y\": [\"Video1\", \"Video2\", \"Quiz1\", \"Quiz2\", \"Pdf1\", \"Pdf2\", \"Ebook1\", \"Ebook2\"], \"type\": \"scatter\", \"uid\": \"c2c40f2e-ddfa-11e8-b3fd-cd1e154e22ff\"}, {\"marker\": {\"line\": {\"width\": 2}, \"size\": [26, 17, 7, 13, 7, 29, 25, 12], \"sizemode\": \"area\", \"sizeref\": 0.06896551724137931, \"symbol\": \"circle\"}, \"mode\": \"markers\", \"name\": \"Student_20\", \"x\": [\"Student_20\", \"Student_20\", \"Student_20\", \"Student_20\", \"Student_20\", \"Student_20\", \"Student_20\", \"Student_20\"], \"y\": [\"Video1\", \"Video2\", \"Quiz1\", \"Quiz2\", \"Pdf1\", \"Pdf2\", \"Ebook1\", \"Ebook2\"], \"type\": \"scatter\", \"uid\": \"c2c40fe2-ddfa-11e8-b3fd-cd1e154e22ff\"}],\n",
       "            {\"title\": \"N\\u00famero de acessos nos materiais por estudante\", \"xaxis\": {\"autorange\": false, \"categoryorder\": \"category ascending\", \"fixedrange\": false, \"range\": [-1, 20], \"rangemode\": \"normal\", \"showline\": true, \"title\": \"Estudantes\", \"type\": \"category\"}, \"yaxis\": {\"autorange\": false, \"categoryorder\": \"category ascending\", \"fixedrange\": false, \"range\": [-1, 8], \"rangemode\": \"normal\", \"showline\": true, \"title\": \"Materiais\", \"type\": \"category\"}},\n",
       "            {\"showLink\": true, \"linkText\": \"Export to plot.ly\"}\n",
       "        ).then(function () {return Plotly.addFrames('4e875b5c-209b-4a90-bf88-fcbfbb26be91',{});}).then(function(){Plotly.animate('4e875b5c-209b-4a90-bf88-fcbfbb26be91');})\n",
       "        });</script>"
      ]
     },
     "metadata": {},
     "output_type": "display_data"
    }
   ],
   "source": [
    "run scripts/V002.py"
   ]
  },
  {
   "cell_type": "markdown",
   "metadata": {},
   "source": [
    "### View 003"
   ]
  },
  {
   "cell_type": "code",
   "execution_count": 45,
   "metadata": {},
   "outputs": [],
   "source": [
    "run scripts/V003.py"
   ]
  },
  {
   "cell_type": "markdown",
   "metadata": {},
   "source": [
    "### View 004"
   ]
  },
  {
   "cell_type": "code",
   "execution_count": null,
   "metadata": {},
   "outputs": [],
   "source": [
    "run scripts/V004.py"
   ]
  },
  {
   "cell_type": "markdown",
   "metadata": {},
   "source": [
    "### View 005"
   ]
  },
  {
   "cell_type": "code",
   "execution_count": null,
   "metadata": {},
   "outputs": [],
   "source": [
    "run scripts/V005.py"
   ]
  },
  {
   "cell_type": "markdown",
   "metadata": {},
   "source": [
    "### View 006"
   ]
  },
  {
   "cell_type": "code",
   "execution_count": null,
   "metadata": {},
   "outputs": [],
   "source": [
    "run scripts/V006.py"
   ]
  },
  {
   "cell_type": "markdown",
   "metadata": {},
   "source": [
    "### View 007"
   ]
  },
  {
   "cell_type": "code",
   "execution_count": null,
   "metadata": {},
   "outputs": [],
   "source": [
    "run scripts/V007.py"
   ]
  },
  {
   "cell_type": "markdown",
   "metadata": {},
   "source": [
    "### View 008"
   ]
  },
  {
   "cell_type": "code",
   "execution_count": null,
   "metadata": {},
   "outputs": [],
   "source": [
    "run scripts/V008.py"
   ]
  },
  {
   "cell_type": "markdown",
   "metadata": {},
   "source": [
    "### View 009"
   ]
  },
  {
   "cell_type": "code",
   "execution_count": null,
   "metadata": {},
   "outputs": [],
   "source": [
    "run scripts/V009.py"
   ]
  },
  {
   "cell_type": "markdown",
   "metadata": {},
   "source": [
    "### View 010"
   ]
  },
  {
   "cell_type": "code",
   "execution_count": 46,
   "metadata": {},
   "outputs": [],
   "source": [
    "run scripts/V010.py"
   ]
  },
  {
   "cell_type": "markdown",
   "metadata": {},
   "source": [
    "### View 011"
   ]
  },
  {
   "cell_type": "code",
   "execution_count": null,
   "metadata": {},
   "outputs": [],
   "source": [
    "run scripts/V011.py"
   ]
  }
 ],
 "metadata": {
  "kernelspec": {
   "display_name": "Python 3",
   "language": "python",
   "name": "python3"
  },
  "language_info": {
   "codemirror_mode": {
    "name": "ipython",
    "version": 3
   },
   "file_extension": ".py",
   "mimetype": "text/x-python",
   "name": "python",
   "nbconvert_exporter": "python",
   "pygments_lexer": "ipython3",
   "version": "3.6.6"
  }
 },
 "nbformat": 4,
 "nbformat_minor": 2
}
