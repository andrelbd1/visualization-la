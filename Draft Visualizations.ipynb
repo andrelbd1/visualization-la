{
 "cells": [
  {
   "cell_type": "markdown",
   "metadata": {},
   "source": [
    "### View 001"
   ]
  },
  {
   "cell_type": "code",
   "execution_count": 3,
   "metadata": {
    "scrolled": true
   },
   "outputs": [
    {
     "data": {
      "text/html": [
       "<script>requirejs.config({paths: { 'plotly': ['https://cdn.plot.ly/plotly-latest.min']},});if(!window.Plotly) {{require(['plotly'],function(plotly) {window.Plotly=plotly;});}}</script>"
      ],
      "text/vnd.plotly.v1+html": [
       "<script>requirejs.config({paths: { 'plotly': ['https://cdn.plot.ly/plotly-latest.min']},});if(!window.Plotly) {{require(['plotly'],function(plotly) {window.Plotly=plotly;});}}</script>"
      ]
     },
     "metadata": {},
     "output_type": "display_data"
    },
    {
     "data": {
      "application/vnd.plotly.v1+json": {
       "data": [
        {
         "cells": {
          "align": [
           "left",
           "center"
          ],
          "fill": {
           "color": "#F5F8FF"
          },
          "values": [
           [
            "Student_1",
            "Student_2",
            "Student_3",
            "Student_4",
            "Student_5",
            "Student_6",
            "Student_7",
            "Student_8",
            "Student_9",
            "Student_10",
            "Student_11",
            "Student_12",
            "Student_13",
            "Student_14",
            "Student_15",
            "Student_16",
            "Student_17",
            "Student_18",
            "Student_19",
            "Student_20"
           ],
           [
            1,
            1,
            1,
            1,
            1,
            0,
            1,
            1,
            1,
            0,
            1,
            0,
            0,
            1,
            0,
            0,
            1,
            0,
            0,
            0
           ],
           [
            1,
            1,
            0,
            1,
            0,
            1,
            1,
            0,
            1,
            0,
            1,
            0,
            1,
            0,
            0,
            1,
            0,
            0,
            1,
            0
           ],
           [
            1,
            0,
            0,
            1,
            1,
            0,
            1,
            1,
            1,
            1,
            1,
            1,
            1,
            0,
            1,
            1,
            1,
            1,
            0,
            1
           ],
           [
            0,
            0,
            1,
            1,
            0,
            1,
            1,
            0,
            1,
            1,
            1,
            1,
            1,
            1,
            1,
            1,
            1,
            0,
            0,
            0
           ]
          ]
         },
         "header": {
          "align": "center",
          "fill": {
           "color": "#C2D4FF"
          },
          "values": [
           "Students",
           "Assign1",
           "Assign2",
           "Assign3",
           "Assign4"
          ]
         },
         "type": "table",
         "uid": "07d227c4-e411-11e8-a1d0-d7b4c6107baf"
        }
       ],
       "layout": {}
      },
      "text/html": [
       "<div id=\"1592240b-a387-473c-9e8c-92ac0e445ff0\" style=\"height: 525px; width: 100%;\" class=\"plotly-graph-div\"></div><script type=\"text/javascript\">require([\"plotly\"], function(Plotly) { window.PLOTLYENV=window.PLOTLYENV || {};window.PLOTLYENV.BASE_URL=\"https://plot.ly\";Plotly.newPlot(\"1592240b-a387-473c-9e8c-92ac0e445ff0\", [{\"cells\": {\"align\": [\"left\", \"center\"], \"fill\": {\"color\": \"#F5F8FF\"}, \"values\": [[\"Student_1\", \"Student_2\", \"Student_3\", \"Student_4\", \"Student_5\", \"Student_6\", \"Student_7\", \"Student_8\", \"Student_9\", \"Student_10\", \"Student_11\", \"Student_12\", \"Student_13\", \"Student_14\", \"Student_15\", \"Student_16\", \"Student_17\", \"Student_18\", \"Student_19\", \"Student_20\"], [1, 1, 1, 1, 1, 0, 1, 1, 1, 0, 1, 0, 0, 1, 0, 0, 1, 0, 0, 0], [1, 1, 0, 1, 0, 1, 1, 0, 1, 0, 1, 0, 1, 0, 0, 1, 0, 0, 1, 0], [1, 0, 0, 1, 1, 0, 1, 1, 1, 1, 1, 1, 1, 0, 1, 1, 1, 1, 0, 1], [0, 0, 1, 1, 0, 1, 1, 0, 1, 1, 1, 1, 1, 1, 1, 1, 1, 0, 0, 0]]}, \"header\": {\"align\": \"center\", \"fill\": {\"color\": \"#C2D4FF\"}, \"values\": [\"Students\", \"Assign1\", \"Assign2\", \"Assign3\", \"Assign4\"]}, \"type\": \"table\", \"uid\": \"07d41fa2-e411-11e8-a1d0-d7b4c6107baf\"}], {}, {\"showLink\": true, \"linkText\": \"Export to plot.ly\"})});</script>"
      ],
      "text/vnd.plotly.v1+html": [
       "<div id=\"1592240b-a387-473c-9e8c-92ac0e445ff0\" style=\"height: 525px; width: 100%;\" class=\"plotly-graph-div\"></div><script type=\"text/javascript\">require([\"plotly\"], function(Plotly) { window.PLOTLYENV=window.PLOTLYENV || {};window.PLOTLYENV.BASE_URL=\"https://plot.ly\";Plotly.newPlot(\"1592240b-a387-473c-9e8c-92ac0e445ff0\", [{\"cells\": {\"align\": [\"left\", \"center\"], \"fill\": {\"color\": \"#F5F8FF\"}, \"values\": [[\"Student_1\", \"Student_2\", \"Student_3\", \"Student_4\", \"Student_5\", \"Student_6\", \"Student_7\", \"Student_8\", \"Student_9\", \"Student_10\", \"Student_11\", \"Student_12\", \"Student_13\", \"Student_14\", \"Student_15\", \"Student_16\", \"Student_17\", \"Student_18\", \"Student_19\", \"Student_20\"], [1, 1, 1, 1, 1, 0, 1, 1, 1, 0, 1, 0, 0, 1, 0, 0, 1, 0, 0, 0], [1, 1, 0, 1, 0, 1, 1, 0, 1, 0, 1, 0, 1, 0, 0, 1, 0, 0, 1, 0], [1, 0, 0, 1, 1, 0, 1, 1, 1, 1, 1, 1, 1, 0, 1, 1, 1, 1, 0, 1], [0, 0, 1, 1, 0, 1, 1, 0, 1, 1, 1, 1, 1, 1, 1, 1, 1, 0, 0, 0]]}, \"header\": {\"align\": \"center\", \"fill\": {\"color\": \"#C2D4FF\"}, \"values\": [\"Students\", \"Assign1\", \"Assign2\", \"Assign3\", \"Assign4\"]}, \"type\": \"table\", \"uid\": \"07d41fa2-e411-11e8-a1d0-d7b4c6107baf\"}], {}, {\"showLink\": true, \"linkText\": \"Export to plot.ly\"})});</script>"
      ]
     },
     "metadata": {},
     "output_type": "display_data"
    },
    {
     "data": {
      "application/vnd.plotly.v1+json": {
       "data": [
        {
         "type": "bar",
         "uid": "07f0bd1a-e411-11e8-a1d0-d7b4c6107baf",
         "x": [
          "Student_1",
          "Student_2",
          "Student_3",
          "Student_4",
          "Student_5",
          "Student_6",
          "Student_7",
          "Student_8",
          "Student_9",
          "Student_10",
          "Student_11",
          "Student_12",
          "Student_13",
          "Student_14",
          "Student_15",
          "Student_16",
          "Student_17",
          "Student_18",
          "Student_19",
          "Student_20"
         ],
         "y": [
          3,
          2,
          2,
          4,
          2,
          2,
          4,
          2,
          4,
          2,
          4,
          2,
          3,
          2,
          2,
          3,
          3,
          1,
          1,
          1
         ]
        }
       ],
       "layout": {
        "title": "Quantidade de tarefas feitas por alunos",
        "yaxis": {
         "dtick": 1,
         "exponentformat": "e",
         "gridcolor": "#bdbdbd",
         "showexponent": "all",
         "showticklabels": true,
         "tick0": 0,
         "titlefont": {
          "color": "lightgrey",
          "family": "Arial, sans-serif"
         }
        }
       }
      },
      "text/html": [
       "<div id=\"a8376359-55b0-4b26-83ac-0f3f4389aa4e\" style=\"height: 525px; width: 100%;\" class=\"plotly-graph-div\"></div><script type=\"text/javascript\">require([\"plotly\"], function(Plotly) { window.PLOTLYENV=window.PLOTLYENV || {};window.PLOTLYENV.BASE_URL=\"https://plot.ly\";Plotly.newPlot(\"a8376359-55b0-4b26-83ac-0f3f4389aa4e\", [{\"x\": [\"Student_1\", \"Student_2\", \"Student_3\", \"Student_4\", \"Student_5\", \"Student_6\", \"Student_7\", \"Student_8\", \"Student_9\", \"Student_10\", \"Student_11\", \"Student_12\", \"Student_13\", \"Student_14\", \"Student_15\", \"Student_16\", \"Student_17\", \"Student_18\", \"Student_19\", \"Student_20\"], \"y\": [3, 2, 2, 4, 2, 2, 4, 2, 4, 2, 4, 2, 3, 2, 2, 3, 3, 1, 1, 1], \"type\": \"bar\", \"uid\": \"07f0bd1a-e411-11e8-a1d0-d7b4c6107baf\"}], {\"title\": \"Quantidade de tarefas feitas por alunos\", \"yaxis\": {\"dtick\": 1, \"exponentformat\": \"e\", \"gridcolor\": \"#bdbdbd\", \"showexponent\": \"all\", \"showticklabels\": true, \"tick0\": 0, \"titlefont\": {\"color\": \"lightgrey\", \"family\": \"Arial, sans-serif\"}}}, {\"showLink\": true, \"linkText\": \"Export to plot.ly\"})});</script>"
      ],
      "text/vnd.plotly.v1+html": [
       "<div id=\"a8376359-55b0-4b26-83ac-0f3f4389aa4e\" style=\"height: 525px; width: 100%;\" class=\"plotly-graph-div\"></div><script type=\"text/javascript\">require([\"plotly\"], function(Plotly) { window.PLOTLYENV=window.PLOTLYENV || {};window.PLOTLYENV.BASE_URL=\"https://plot.ly\";Plotly.newPlot(\"a8376359-55b0-4b26-83ac-0f3f4389aa4e\", [{\"x\": [\"Student_1\", \"Student_2\", \"Student_3\", \"Student_4\", \"Student_5\", \"Student_6\", \"Student_7\", \"Student_8\", \"Student_9\", \"Student_10\", \"Student_11\", \"Student_12\", \"Student_13\", \"Student_14\", \"Student_15\", \"Student_16\", \"Student_17\", \"Student_18\", \"Student_19\", \"Student_20\"], \"y\": [3, 2, 2, 4, 2, 2, 4, 2, 4, 2, 4, 2, 3, 2, 2, 3, 3, 1, 1, 1], \"type\": \"bar\", \"uid\": \"07f0bd1a-e411-11e8-a1d0-d7b4c6107baf\"}], {\"title\": \"Quantidade de tarefas feitas por alunos\", \"yaxis\": {\"dtick\": 1, \"exponentformat\": \"e\", \"gridcolor\": \"#bdbdbd\", \"showexponent\": \"all\", \"showticklabels\": true, \"tick0\": 0, \"titlefont\": {\"color\": \"lightgrey\", \"family\": \"Arial, sans-serif\"}}}, {\"showLink\": true, \"linkText\": \"Export to plot.ly\"})});</script>"
      ]
     },
     "metadata": {},
     "output_type": "display_data"
    },
    {
     "data": {
      "application/vnd.plotly.v1+json": {
       "data": [
        {
         "orientation": "h",
         "type": "bar",
         "uid": "07f564c8-e411-11e8-a1d0-d7b4c6107baf",
         "x": [
          3,
          2,
          2,
          4,
          2,
          2,
          4,
          2,
          4,
          2,
          4,
          2,
          3,
          2,
          2,
          3,
          3,
          1,
          1,
          1
         ],
         "y": [
          "Student_1",
          "Student_2",
          "Student_3",
          "Student_4",
          "Student_5",
          "Student_6",
          "Student_7",
          "Student_8",
          "Student_9",
          "Student_10",
          "Student_11",
          "Student_12",
          "Student_13",
          "Student_14",
          "Student_15",
          "Student_16",
          "Student_17",
          "Student_18",
          "Student_19",
          "Student_20"
         ]
        }
       ],
       "layout": {
        "title": "Quantidade de tarefas feitas por alunos",
        "xaxis": {
         "dtick": 1,
         "tick0": 0
        },
        "yaxis": {
         "dtick": 1,
         "exponentformat": "e",
         "gridcolor": "#bdbdbd",
         "showexponent": "all",
         "showticklabels": true,
         "tick0": 0,
         "titlefont": {
          "color": "lightgrey",
          "family": "Arial, sans-serif"
         }
        }
       }
      },
      "text/html": [
       "<div id=\"d7c2ddac-4278-48d1-8183-d32c8fd7ee7e\" style=\"height: 525px; width: 100%;\" class=\"plotly-graph-div\"></div><script type=\"text/javascript\">require([\"plotly\"], function(Plotly) { window.PLOTLYENV=window.PLOTLYENV || {};window.PLOTLYENV.BASE_URL=\"https://plot.ly\";Plotly.newPlot(\"d7c2ddac-4278-48d1-8183-d32c8fd7ee7e\", [{\"orientation\": \"h\", \"x\": [3, 2, 2, 4, 2, 2, 4, 2, 4, 2, 4, 2, 3, 2, 2, 3, 3, 1, 1, 1], \"y\": [\"Student_1\", \"Student_2\", \"Student_3\", \"Student_4\", \"Student_5\", \"Student_6\", \"Student_7\", \"Student_8\", \"Student_9\", \"Student_10\", \"Student_11\", \"Student_12\", \"Student_13\", \"Student_14\", \"Student_15\", \"Student_16\", \"Student_17\", \"Student_18\", \"Student_19\", \"Student_20\"], \"type\": \"bar\", \"uid\": \"07f564c8-e411-11e8-a1d0-d7b4c6107baf\"}], {\"title\": \"Quantidade de tarefas feitas por alunos\", \"xaxis\": {\"dtick\": 1, \"tick0\": 0}, \"yaxis\": {\"dtick\": 1, \"exponentformat\": \"e\", \"gridcolor\": \"#bdbdbd\", \"showexponent\": \"all\", \"showticklabels\": true, \"tick0\": 0, \"titlefont\": {\"color\": \"lightgrey\", \"family\": \"Arial, sans-serif\"}}}, {\"showLink\": true, \"linkText\": \"Export to plot.ly\"})});</script>"
      ],
      "text/vnd.plotly.v1+html": [
       "<div id=\"d7c2ddac-4278-48d1-8183-d32c8fd7ee7e\" style=\"height: 525px; width: 100%;\" class=\"plotly-graph-div\"></div><script type=\"text/javascript\">require([\"plotly\"], function(Plotly) { window.PLOTLYENV=window.PLOTLYENV || {};window.PLOTLYENV.BASE_URL=\"https://plot.ly\";Plotly.newPlot(\"d7c2ddac-4278-48d1-8183-d32c8fd7ee7e\", [{\"orientation\": \"h\", \"x\": [3, 2, 2, 4, 2, 2, 4, 2, 4, 2, 4, 2, 3, 2, 2, 3, 3, 1, 1, 1], \"y\": [\"Student_1\", \"Student_2\", \"Student_3\", \"Student_4\", \"Student_5\", \"Student_6\", \"Student_7\", \"Student_8\", \"Student_9\", \"Student_10\", \"Student_11\", \"Student_12\", \"Student_13\", \"Student_14\", \"Student_15\", \"Student_16\", \"Student_17\", \"Student_18\", \"Student_19\", \"Student_20\"], \"type\": \"bar\", \"uid\": \"07f564c8-e411-11e8-a1d0-d7b4c6107baf\"}], {\"title\": \"Quantidade de tarefas feitas por alunos\", \"xaxis\": {\"dtick\": 1, \"tick0\": 0}, \"yaxis\": {\"dtick\": 1, \"exponentformat\": \"e\", \"gridcolor\": \"#bdbdbd\", \"showexponent\": \"all\", \"showticklabels\": true, \"tick0\": 0, \"titlefont\": {\"color\": \"lightgrey\", \"family\": \"Arial, sans-serif\"}}}, {\"showLink\": true, \"linkText\": \"Export to plot.ly\"})});</script>"
      ]
     },
     "metadata": {},
     "output_type": "display_data"
    },
    {
     "data": {
      "application/vnd.plotly.v1+json": {
       "data": [
        {
         "type": "bar",
         "uid": "07fa2a26-e411-11e8-a1d0-d7b4c6107baf",
         "x": [
          "Assign1",
          "Assign2",
          "Assign3",
          "Assign4"
         ],
         "y": [
          11,
          10,
          15,
          13
         ]
        }
       ],
       "layout": {
        "title": "Quantidade de alunos que fizeram as tarefas",
        "yaxis": {
         "dtick": 1,
         "exponentformat": "e",
         "gridcolor": "#bdbdbd",
         "showexponent": "all",
         "showticklabels": true,
         "tick0": 0,
         "titlefont": {
          "color": "lightgrey",
          "family": "Arial, sans-serif"
         }
        }
       }
      },
      "text/html": [
       "<div id=\"ed6f15ac-5d4c-46ee-b065-44567f4cc112\" style=\"height: 525px; width: 100%;\" class=\"plotly-graph-div\"></div><script type=\"text/javascript\">require([\"plotly\"], function(Plotly) { window.PLOTLYENV=window.PLOTLYENV || {};window.PLOTLYENV.BASE_URL=\"https://plot.ly\";Plotly.newPlot(\"ed6f15ac-5d4c-46ee-b065-44567f4cc112\", [{\"x\": [\"Assign1\", \"Assign2\", \"Assign3\", \"Assign4\"], \"y\": [11, 10, 15, 13], \"type\": \"bar\", \"uid\": \"07fa2a26-e411-11e8-a1d0-d7b4c6107baf\"}], {\"title\": \"Quantidade de alunos que fizeram as tarefas\", \"yaxis\": {\"dtick\": 1, \"exponentformat\": \"e\", \"gridcolor\": \"#bdbdbd\", \"showexponent\": \"all\", \"showticklabels\": true, \"tick0\": 0, \"titlefont\": {\"color\": \"lightgrey\", \"family\": \"Arial, sans-serif\"}}}, {\"showLink\": true, \"linkText\": \"Export to plot.ly\"})});</script>"
      ],
      "text/vnd.plotly.v1+html": [
       "<div id=\"ed6f15ac-5d4c-46ee-b065-44567f4cc112\" style=\"height: 525px; width: 100%;\" class=\"plotly-graph-div\"></div><script type=\"text/javascript\">require([\"plotly\"], function(Plotly) { window.PLOTLYENV=window.PLOTLYENV || {};window.PLOTLYENV.BASE_URL=\"https://plot.ly\";Plotly.newPlot(\"ed6f15ac-5d4c-46ee-b065-44567f4cc112\", [{\"x\": [\"Assign1\", \"Assign2\", \"Assign3\", \"Assign4\"], \"y\": [11, 10, 15, 13], \"type\": \"bar\", \"uid\": \"07fa2a26-e411-11e8-a1d0-d7b4c6107baf\"}], {\"title\": \"Quantidade de alunos que fizeram as tarefas\", \"yaxis\": {\"dtick\": 1, \"exponentformat\": \"e\", \"gridcolor\": \"#bdbdbd\", \"showexponent\": \"all\", \"showticklabels\": true, \"tick0\": 0, \"titlefont\": {\"color\": \"lightgrey\", \"family\": \"Arial, sans-serif\"}}}, {\"showLink\": true, \"linkText\": \"Export to plot.ly\"})});</script>"
      ]
     },
     "metadata": {},
     "output_type": "display_data"
    },
    {
     "data": {
      "application/vnd.plotly.v1+json": {
       "data": [
        {
         "marker": {
          "line": {
           "width": 2
          },
          "size": [
           1,
           1,
           1,
           0
          ],
          "sizemode": "area",
          "sizeref": 0.01,
          "symbol": "circle"
         },
         "mode": "markers",
         "name": "Student_1",
         "text": [
          "1",
          "1",
          "1",
          "0"
         ],
         "type": "scatter",
         "uid": "080d9dae-e411-11e8-a1d0-d7b4c6107baf",
         "x": [
          "Student_1",
          "Student_1",
          "Student_1",
          "Student_1",
          "Student_1"
         ],
         "y": [
          "Assign1",
          "Assign2",
          "Assign3",
          "Assign4"
         ]
        },
        {
         "marker": {
          "line": {
           "width": 2
          },
          "size": [
           1,
           1,
           0,
           0
          ],
          "sizemode": "area",
          "sizeref": 0.01,
          "symbol": "circle"
         },
         "mode": "markers",
         "name": "Student_2",
         "text": [
          "1",
          "1",
          "0",
          "0"
         ],
         "type": "scatter",
         "uid": "080d9f5c-e411-11e8-a1d0-d7b4c6107baf",
         "x": [
          "Student_2",
          "Student_2",
          "Student_2",
          "Student_2",
          "Student_2"
         ],
         "y": [
          "Assign1",
          "Assign2",
          "Assign3",
          "Assign4"
         ]
        },
        {
         "marker": {
          "line": {
           "width": 2
          },
          "size": [
           1,
           0,
           0,
           1
          ],
          "sizemode": "area",
          "sizeref": 0.01,
          "symbol": "circle"
         },
         "mode": "markers",
         "name": "Student_3",
         "text": [
          "1",
          "0",
          "0",
          "1"
         ],
         "type": "scatter",
         "uid": "080da02e-e411-11e8-a1d0-d7b4c6107baf",
         "x": [
          "Student_3",
          "Student_3",
          "Student_3",
          "Student_3",
          "Student_3"
         ],
         "y": [
          "Assign1",
          "Assign2",
          "Assign3",
          "Assign4"
         ]
        },
        {
         "marker": {
          "line": {
           "width": 2
          },
          "size": [
           1,
           1,
           1,
           1
          ],
          "sizemode": "area",
          "sizeref": 0.01,
          "symbol": "circle"
         },
         "mode": "markers",
         "name": "Student_4",
         "text": [
          "1",
          "1",
          "1",
          "1"
         ],
         "type": "scatter",
         "uid": "080da0ce-e411-11e8-a1d0-d7b4c6107baf",
         "x": [
          "Student_4",
          "Student_4",
          "Student_4",
          "Student_4",
          "Student_4"
         ],
         "y": [
          "Assign1",
          "Assign2",
          "Assign3",
          "Assign4"
         ]
        },
        {
         "marker": {
          "line": {
           "width": 2
          },
          "size": [
           1,
           0,
           1,
           0
          ],
          "sizemode": "area",
          "sizeref": 0.01,
          "symbol": "circle"
         },
         "mode": "markers",
         "name": "Student_5",
         "text": [
          "1",
          "0",
          "1",
          "0"
         ],
         "type": "scatter",
         "uid": "080da15a-e411-11e8-a1d0-d7b4c6107baf",
         "x": [
          "Student_5",
          "Student_5",
          "Student_5",
          "Student_5",
          "Student_5"
         ],
         "y": [
          "Assign1",
          "Assign2",
          "Assign3",
          "Assign4"
         ]
        },
        {
         "marker": {
          "line": {
           "width": 2
          },
          "size": [
           0,
           1,
           0,
           1
          ],
          "sizemode": "area",
          "sizeref": 0.01,
          "symbol": "circle"
         },
         "mode": "markers",
         "name": "Student_6",
         "text": [
          "0",
          "1",
          "0",
          "1"
         ],
         "type": "scatter",
         "uid": "080da1f0-e411-11e8-a1d0-d7b4c6107baf",
         "x": [
          "Student_6",
          "Student_6",
          "Student_6",
          "Student_6",
          "Student_6"
         ],
         "y": [
          "Assign1",
          "Assign2",
          "Assign3",
          "Assign4"
         ]
        },
        {
         "marker": {
          "line": {
           "width": 2
          },
          "size": [
           1,
           1,
           1,
           1
          ],
          "sizemode": "area",
          "sizeref": 0.01,
          "symbol": "circle"
         },
         "mode": "markers",
         "name": "Student_7",
         "text": [
          "1",
          "1",
          "1",
          "1"
         ],
         "type": "scatter",
         "uid": "080da272-e411-11e8-a1d0-d7b4c6107baf",
         "x": [
          "Student_7",
          "Student_7",
          "Student_7",
          "Student_7",
          "Student_7"
         ],
         "y": [
          "Assign1",
          "Assign2",
          "Assign3",
          "Assign4"
         ]
        },
        {
         "marker": {
          "line": {
           "width": 2
          },
          "size": [
           1,
           0,
           1,
           0
          ],
          "sizemode": "area",
          "sizeref": 0.01,
          "symbol": "circle"
         },
         "mode": "markers",
         "name": "Student_8",
         "text": [
          "1",
          "0",
          "1",
          "0"
         ],
         "type": "scatter",
         "uid": "080da2fe-e411-11e8-a1d0-d7b4c6107baf",
         "x": [
          "Student_8",
          "Student_8",
          "Student_8",
          "Student_8",
          "Student_8"
         ],
         "y": [
          "Assign1",
          "Assign2",
          "Assign3",
          "Assign4"
         ]
        },
        {
         "marker": {
          "line": {
           "width": 2
          },
          "size": [
           1,
           1,
           1,
           1
          ],
          "sizemode": "area",
          "sizeref": 0.01,
          "symbol": "circle"
         },
         "mode": "markers",
         "name": "Student_9",
         "text": [
          "1",
          "1",
          "1",
          "1"
         ],
         "type": "scatter",
         "uid": "080da38a-e411-11e8-a1d0-d7b4c6107baf",
         "x": [
          "Student_9",
          "Student_9",
          "Student_9",
          "Student_9",
          "Student_9"
         ],
         "y": [
          "Assign1",
          "Assign2",
          "Assign3",
          "Assign4"
         ]
        },
        {
         "marker": {
          "line": {
           "width": 2
          },
          "size": [
           0,
           0,
           1,
           1
          ],
          "sizemode": "area",
          "sizeref": 0.01,
          "symbol": "circle"
         },
         "mode": "markers",
         "name": "Student_10",
         "text": [
          "0",
          "0",
          "1",
          "1"
         ],
         "type": "scatter",
         "uid": "080da40c-e411-11e8-a1d0-d7b4c6107baf",
         "x": [
          "Student_10",
          "Student_10",
          "Student_10",
          "Student_10",
          "Student_10"
         ],
         "y": [
          "Assign1",
          "Assign2",
          "Assign3",
          "Assign4"
         ]
        },
        {
         "marker": {
          "line": {
           "width": 2
          },
          "size": [
           1,
           1,
           1,
           1
          ],
          "sizemode": "area",
          "sizeref": 0.01,
          "symbol": "circle"
         },
         "mode": "markers",
         "name": "Student_11",
         "text": [
          "1",
          "1",
          "1",
          "1"
         ],
         "type": "scatter",
         "uid": "080da498-e411-11e8-a1d0-d7b4c6107baf",
         "x": [
          "Student_11",
          "Student_11",
          "Student_11",
          "Student_11",
          "Student_11"
         ],
         "y": [
          "Assign1",
          "Assign2",
          "Assign3",
          "Assign4"
         ]
        },
        {
         "marker": {
          "line": {
           "width": 2
          },
          "size": [
           0,
           0,
           1,
           1
          ],
          "sizemode": "area",
          "sizeref": 0.01,
          "symbol": "circle"
         },
         "mode": "markers",
         "name": "Student_12",
         "text": [
          "0",
          "0",
          "1",
          "1"
         ],
         "type": "scatter",
         "uid": "080da524-e411-11e8-a1d0-d7b4c6107baf",
         "x": [
          "Student_12",
          "Student_12",
          "Student_12",
          "Student_12",
          "Student_12"
         ],
         "y": [
          "Assign1",
          "Assign2",
          "Assign3",
          "Assign4"
         ]
        },
        {
         "marker": {
          "line": {
           "width": 2
          },
          "size": [
           0,
           1,
           1,
           1
          ],
          "sizemode": "area",
          "sizeref": 0.01,
          "symbol": "circle"
         },
         "mode": "markers",
         "name": "Student_13",
         "text": [
          "0",
          "1",
          "1",
          "1"
         ],
         "type": "scatter",
         "uid": "080da5b0-e411-11e8-a1d0-d7b4c6107baf",
         "x": [
          "Student_13",
          "Student_13",
          "Student_13",
          "Student_13",
          "Student_13"
         ],
         "y": [
          "Assign1",
          "Assign2",
          "Assign3",
          "Assign4"
         ]
        },
        {
         "marker": {
          "line": {
           "width": 2
          },
          "size": [
           1,
           0,
           0,
           1
          ],
          "sizemode": "area",
          "sizeref": 0.01,
          "symbol": "circle"
         },
         "mode": "markers",
         "name": "Student_14",
         "text": [
          "1",
          "0",
          "0",
          "1"
         ],
         "type": "scatter",
         "uid": "080da632-e411-11e8-a1d0-d7b4c6107baf",
         "x": [
          "Student_14",
          "Student_14",
          "Student_14",
          "Student_14",
          "Student_14"
         ],
         "y": [
          "Assign1",
          "Assign2",
          "Assign3",
          "Assign4"
         ]
        },
        {
         "marker": {
          "line": {
           "width": 2
          },
          "size": [
           0,
           0,
           1,
           1
          ],
          "sizemode": "area",
          "sizeref": 0.01,
          "symbol": "circle"
         },
         "mode": "markers",
         "name": "Student_15",
         "text": [
          "0",
          "0",
          "1",
          "1"
         ],
         "type": "scatter",
         "uid": "080da6be-e411-11e8-a1d0-d7b4c6107baf",
         "x": [
          "Student_15",
          "Student_15",
          "Student_15",
          "Student_15",
          "Student_15"
         ],
         "y": [
          "Assign1",
          "Assign2",
          "Assign3",
          "Assign4"
         ]
        },
        {
         "marker": {
          "line": {
           "width": 2
          },
          "size": [
           0,
           1,
           1,
           1
          ],
          "sizemode": "area",
          "sizeref": 0.01,
          "symbol": "circle"
         },
         "mode": "markers",
         "name": "Student_16",
         "text": [
          "0",
          "1",
          "1",
          "1"
         ],
         "type": "scatter",
         "uid": "080da740-e411-11e8-a1d0-d7b4c6107baf",
         "x": [
          "Student_16",
          "Student_16",
          "Student_16",
          "Student_16",
          "Student_16"
         ],
         "y": [
          "Assign1",
          "Assign2",
          "Assign3",
          "Assign4"
         ]
        },
        {
         "marker": {
          "line": {
           "width": 2
          },
          "size": [
           1,
           0,
           1,
           1
          ],
          "sizemode": "area",
          "sizeref": 0.01,
          "symbol": "circle"
         },
         "mode": "markers",
         "name": "Student_17",
         "text": [
          "1",
          "0",
          "1",
          "1"
         ],
         "type": "scatter",
         "uid": "080da7c2-e411-11e8-a1d0-d7b4c6107baf",
         "x": [
          "Student_17",
          "Student_17",
          "Student_17",
          "Student_17",
          "Student_17"
         ],
         "y": [
          "Assign1",
          "Assign2",
          "Assign3",
          "Assign4"
         ]
        },
        {
         "marker": {
          "line": {
           "width": 2
          },
          "size": [
           0,
           0,
           1,
           0
          ],
          "sizemode": "area",
          "sizeref": 0.01,
          "symbol": "circle"
         },
         "mode": "markers",
         "name": "Student_18",
         "text": [
          "0",
          "0",
          "1",
          "0"
         ],
         "type": "scatter",
         "uid": "080da844-e411-11e8-a1d0-d7b4c6107baf",
         "x": [
          "Student_18",
          "Student_18",
          "Student_18",
          "Student_18",
          "Student_18"
         ],
         "y": [
          "Assign1",
          "Assign2",
          "Assign3",
          "Assign4"
         ]
        },
        {
         "marker": {
          "line": {
           "width": 2
          },
          "size": [
           0,
           1,
           0,
           0
          ],
          "sizemode": "area",
          "sizeref": 0.01,
          "symbol": "circle"
         },
         "mode": "markers",
         "name": "Student_19",
         "text": [
          "0",
          "1",
          "0",
          "0"
         ],
         "type": "scatter",
         "uid": "080da8bc-e411-11e8-a1d0-d7b4c6107baf",
         "x": [
          "Student_19",
          "Student_19",
          "Student_19",
          "Student_19",
          "Student_19"
         ],
         "y": [
          "Assign1",
          "Assign2",
          "Assign3",
          "Assign4"
         ]
        },
        {
         "marker": {
          "line": {
           "width": 2
          },
          "size": [
           0,
           0,
           1,
           0
          ],
          "sizemode": "area",
          "sizeref": 0.01,
          "symbol": "circle"
         },
         "mode": "markers",
         "name": "Student_20",
         "text": [
          "0",
          "0",
          "1",
          "0"
         ],
         "type": "scatter",
         "uid": "080da93e-e411-11e8-a1d0-d7b4c6107baf",
         "x": [
          "Student_20",
          "Student_20",
          "Student_20",
          "Student_20",
          "Student_20"
         ],
         "y": [
          "Assign1",
          "Assign2",
          "Assign3",
          "Assign4"
         ]
        }
       ],
       "layout": {
        "hovermode": "closest",
        "showlegend": true,
        "title": "Atividades feitas por estudante",
        "xaxis": {
         "autorange": false,
         "fixedrange": false,
         "range": [
          -1,
          20
         ],
         "rangemode": "normal",
         "showline": true,
         "title": "Estudantes",
         "type": "category"
        },
        "yaxis": {
         "autorange": false,
         "categoryorder": "category ascending",
         "fixedrange": false,
         "range": [
          -1,
          4
         ],
         "rangemode": "normal",
         "showline": true,
         "title": "Atividades",
         "type": "category"
        }
       }
      },
      "text/html": [
       "<div id=\"1014c42a-d16a-4a3d-9e29-2a993b557865\" style=\"height: 525px; width: 100%;\" class=\"plotly-graph-div\"></div><script type=\"text/javascript\">require([\"plotly\"], function(Plotly) { window.PLOTLYENV=window.PLOTLYENV || {};window.PLOTLYENV.BASE_URL=\"https://plot.ly\";Plotly.newPlot(\"1014c42a-d16a-4a3d-9e29-2a993b557865\", [{\"marker\": {\"line\": {\"width\": 2}, \"size\": [1, 1, 1, 0], \"sizemode\": \"area\", \"sizeref\": 0.01, \"symbol\": \"circle\"}, \"mode\": \"markers\", \"name\": \"Student_1\", \"text\": [\"1\", \"1\", \"1\", \"0\"], \"x\": [\"Student_1\", \"Student_1\", \"Student_1\", \"Student_1\", \"Student_1\"], \"y\": [\"Assign1\", \"Assign2\", \"Assign3\", \"Assign4\"], \"type\": \"scatter\", \"uid\": \"080d9dae-e411-11e8-a1d0-d7b4c6107baf\"}, {\"marker\": {\"line\": {\"width\": 2}, \"size\": [1, 1, 0, 0], \"sizemode\": \"area\", \"sizeref\": 0.01, \"symbol\": \"circle\"}, \"mode\": \"markers\", \"name\": \"Student_2\", \"text\": [\"1\", \"1\", \"0\", \"0\"], \"x\": [\"Student_2\", \"Student_2\", \"Student_2\", \"Student_2\", \"Student_2\"], \"y\": [\"Assign1\", \"Assign2\", \"Assign3\", \"Assign4\"], \"type\": \"scatter\", \"uid\": \"080d9f5c-e411-11e8-a1d0-d7b4c6107baf\"}, {\"marker\": {\"line\": {\"width\": 2}, \"size\": [1, 0, 0, 1], \"sizemode\": \"area\", \"sizeref\": 0.01, \"symbol\": \"circle\"}, \"mode\": \"markers\", \"name\": \"Student_3\", \"text\": [\"1\", \"0\", \"0\", \"1\"], \"x\": [\"Student_3\", \"Student_3\", \"Student_3\", \"Student_3\", \"Student_3\"], \"y\": [\"Assign1\", \"Assign2\", \"Assign3\", \"Assign4\"], \"type\": \"scatter\", \"uid\": \"080da02e-e411-11e8-a1d0-d7b4c6107baf\"}, {\"marker\": {\"line\": {\"width\": 2}, \"size\": [1, 1, 1, 1], \"sizemode\": \"area\", \"sizeref\": 0.01, \"symbol\": \"circle\"}, \"mode\": \"markers\", \"name\": \"Student_4\", \"text\": [\"1\", \"1\", \"1\", \"1\"], \"x\": [\"Student_4\", \"Student_4\", \"Student_4\", \"Student_4\", \"Student_4\"], \"y\": [\"Assign1\", \"Assign2\", \"Assign3\", \"Assign4\"], \"type\": \"scatter\", \"uid\": \"080da0ce-e411-11e8-a1d0-d7b4c6107baf\"}, {\"marker\": {\"line\": {\"width\": 2}, \"size\": [1, 0, 1, 0], \"sizemode\": \"area\", \"sizeref\": 0.01, \"symbol\": \"circle\"}, \"mode\": \"markers\", \"name\": \"Student_5\", \"text\": [\"1\", \"0\", \"1\", \"0\"], \"x\": [\"Student_5\", \"Student_5\", \"Student_5\", \"Student_5\", \"Student_5\"], \"y\": [\"Assign1\", \"Assign2\", \"Assign3\", \"Assign4\"], \"type\": \"scatter\", \"uid\": \"080da15a-e411-11e8-a1d0-d7b4c6107baf\"}, {\"marker\": {\"line\": {\"width\": 2}, \"size\": [0, 1, 0, 1], \"sizemode\": \"area\", \"sizeref\": 0.01, \"symbol\": \"circle\"}, \"mode\": \"markers\", \"name\": \"Student_6\", \"text\": [\"0\", \"1\", \"0\", \"1\"], \"x\": [\"Student_6\", \"Student_6\", \"Student_6\", \"Student_6\", \"Student_6\"], \"y\": [\"Assign1\", \"Assign2\", \"Assign3\", \"Assign4\"], \"type\": \"scatter\", \"uid\": \"080da1f0-e411-11e8-a1d0-d7b4c6107baf\"}, {\"marker\": {\"line\": {\"width\": 2}, \"size\": [1, 1, 1, 1], \"sizemode\": \"area\", \"sizeref\": 0.01, \"symbol\": \"circle\"}, \"mode\": \"markers\", \"name\": \"Student_7\", \"text\": [\"1\", \"1\", \"1\", \"1\"], \"x\": [\"Student_7\", \"Student_7\", \"Student_7\", \"Student_7\", \"Student_7\"], \"y\": [\"Assign1\", \"Assign2\", \"Assign3\", \"Assign4\"], \"type\": \"scatter\", \"uid\": \"080da272-e411-11e8-a1d0-d7b4c6107baf\"}, {\"marker\": {\"line\": {\"width\": 2}, \"size\": [1, 0, 1, 0], \"sizemode\": \"area\", \"sizeref\": 0.01, \"symbol\": \"circle\"}, \"mode\": \"markers\", \"name\": \"Student_8\", \"text\": [\"1\", \"0\", \"1\", \"0\"], \"x\": [\"Student_8\", \"Student_8\", \"Student_8\", \"Student_8\", \"Student_8\"], \"y\": [\"Assign1\", \"Assign2\", \"Assign3\", \"Assign4\"], \"type\": \"scatter\", \"uid\": \"080da2fe-e411-11e8-a1d0-d7b4c6107baf\"}, {\"marker\": {\"line\": {\"width\": 2}, \"size\": [1, 1, 1, 1], \"sizemode\": \"area\", \"sizeref\": 0.01, \"symbol\": \"circle\"}, \"mode\": \"markers\", \"name\": \"Student_9\", \"text\": [\"1\", \"1\", \"1\", \"1\"], \"x\": [\"Student_9\", \"Student_9\", \"Student_9\", \"Student_9\", \"Student_9\"], \"y\": [\"Assign1\", \"Assign2\", \"Assign3\", \"Assign4\"], \"type\": \"scatter\", \"uid\": \"080da38a-e411-11e8-a1d0-d7b4c6107baf\"}, {\"marker\": {\"line\": {\"width\": 2}, \"size\": [0, 0, 1, 1], \"sizemode\": \"area\", \"sizeref\": 0.01, \"symbol\": \"circle\"}, \"mode\": \"markers\", \"name\": \"Student_10\", \"text\": [\"0\", \"0\", \"1\", \"1\"], \"x\": [\"Student_10\", \"Student_10\", \"Student_10\", \"Student_10\", \"Student_10\"], \"y\": [\"Assign1\", \"Assign2\", \"Assign3\", \"Assign4\"], \"type\": \"scatter\", \"uid\": \"080da40c-e411-11e8-a1d0-d7b4c6107baf\"}, {\"marker\": {\"line\": {\"width\": 2}, \"size\": [1, 1, 1, 1], \"sizemode\": \"area\", \"sizeref\": 0.01, \"symbol\": \"circle\"}, \"mode\": \"markers\", \"name\": \"Student_11\", \"text\": [\"1\", \"1\", \"1\", \"1\"], \"x\": [\"Student_11\", \"Student_11\", \"Student_11\", \"Student_11\", \"Student_11\"], \"y\": [\"Assign1\", \"Assign2\", \"Assign3\", \"Assign4\"], \"type\": \"scatter\", \"uid\": \"080da498-e411-11e8-a1d0-d7b4c6107baf\"}, {\"marker\": {\"line\": {\"width\": 2}, \"size\": [0, 0, 1, 1], \"sizemode\": \"area\", \"sizeref\": 0.01, \"symbol\": \"circle\"}, \"mode\": \"markers\", \"name\": \"Student_12\", \"text\": [\"0\", \"0\", \"1\", \"1\"], \"x\": [\"Student_12\", \"Student_12\", \"Student_12\", \"Student_12\", \"Student_12\"], \"y\": [\"Assign1\", \"Assign2\", \"Assign3\", \"Assign4\"], \"type\": \"scatter\", \"uid\": \"080da524-e411-11e8-a1d0-d7b4c6107baf\"}, {\"marker\": {\"line\": {\"width\": 2}, \"size\": [0, 1, 1, 1], \"sizemode\": \"area\", \"sizeref\": 0.01, \"symbol\": \"circle\"}, \"mode\": \"markers\", \"name\": \"Student_13\", \"text\": [\"0\", \"1\", \"1\", \"1\"], \"x\": [\"Student_13\", \"Student_13\", \"Student_13\", \"Student_13\", \"Student_13\"], \"y\": [\"Assign1\", \"Assign2\", \"Assign3\", \"Assign4\"], \"type\": \"scatter\", \"uid\": \"080da5b0-e411-11e8-a1d0-d7b4c6107baf\"}, {\"marker\": {\"line\": {\"width\": 2}, \"size\": [1, 0, 0, 1], \"sizemode\": \"area\", \"sizeref\": 0.01, \"symbol\": \"circle\"}, \"mode\": \"markers\", \"name\": \"Student_14\", \"text\": [\"1\", \"0\", \"0\", \"1\"], \"x\": [\"Student_14\", \"Student_14\", \"Student_14\", \"Student_14\", \"Student_14\"], \"y\": [\"Assign1\", \"Assign2\", \"Assign3\", \"Assign4\"], \"type\": \"scatter\", \"uid\": \"080da632-e411-11e8-a1d0-d7b4c6107baf\"}, {\"marker\": {\"line\": {\"width\": 2}, \"size\": [0, 0, 1, 1], \"sizemode\": \"area\", \"sizeref\": 0.01, \"symbol\": \"circle\"}, \"mode\": \"markers\", \"name\": \"Student_15\", \"text\": [\"0\", \"0\", \"1\", \"1\"], \"x\": [\"Student_15\", \"Student_15\", \"Student_15\", \"Student_15\", \"Student_15\"], \"y\": [\"Assign1\", \"Assign2\", \"Assign3\", \"Assign4\"], \"type\": \"scatter\", \"uid\": \"080da6be-e411-11e8-a1d0-d7b4c6107baf\"}, {\"marker\": {\"line\": {\"width\": 2}, \"size\": [0, 1, 1, 1], \"sizemode\": \"area\", \"sizeref\": 0.01, \"symbol\": \"circle\"}, \"mode\": \"markers\", \"name\": \"Student_16\", \"text\": [\"0\", \"1\", \"1\", \"1\"], \"x\": [\"Student_16\", \"Student_16\", \"Student_16\", \"Student_16\", \"Student_16\"], \"y\": [\"Assign1\", \"Assign2\", \"Assign3\", \"Assign4\"], \"type\": \"scatter\", \"uid\": \"080da740-e411-11e8-a1d0-d7b4c6107baf\"}, {\"marker\": {\"line\": {\"width\": 2}, \"size\": [1, 0, 1, 1], \"sizemode\": \"area\", \"sizeref\": 0.01, \"symbol\": \"circle\"}, \"mode\": \"markers\", \"name\": \"Student_17\", \"text\": [\"1\", \"0\", \"1\", \"1\"], \"x\": [\"Student_17\", \"Student_17\", \"Student_17\", \"Student_17\", \"Student_17\"], \"y\": [\"Assign1\", \"Assign2\", \"Assign3\", \"Assign4\"], \"type\": \"scatter\", \"uid\": \"080da7c2-e411-11e8-a1d0-d7b4c6107baf\"}, {\"marker\": {\"line\": {\"width\": 2}, \"size\": [0, 0, 1, 0], \"sizemode\": \"area\", \"sizeref\": 0.01, \"symbol\": \"circle\"}, \"mode\": \"markers\", \"name\": \"Student_18\", \"text\": [\"0\", \"0\", \"1\", \"0\"], \"x\": [\"Student_18\", \"Student_18\", \"Student_18\", \"Student_18\", \"Student_18\"], \"y\": [\"Assign1\", \"Assign2\", \"Assign3\", \"Assign4\"], \"type\": \"scatter\", \"uid\": \"080da844-e411-11e8-a1d0-d7b4c6107baf\"}, {\"marker\": {\"line\": {\"width\": 2}, \"size\": [0, 1, 0, 0], \"sizemode\": \"area\", \"sizeref\": 0.01, \"symbol\": \"circle\"}, \"mode\": \"markers\", \"name\": \"Student_19\", \"text\": [\"0\", \"1\", \"0\", \"0\"], \"x\": [\"Student_19\", \"Student_19\", \"Student_19\", \"Student_19\", \"Student_19\"], \"y\": [\"Assign1\", \"Assign2\", \"Assign3\", \"Assign4\"], \"type\": \"scatter\", \"uid\": \"080da8bc-e411-11e8-a1d0-d7b4c6107baf\"}, {\"marker\": {\"line\": {\"width\": 2}, \"size\": [0, 0, 1, 0], \"sizemode\": \"area\", \"sizeref\": 0.01, \"symbol\": \"circle\"}, \"mode\": \"markers\", \"name\": \"Student_20\", \"text\": [\"0\", \"0\", \"1\", \"0\"], \"x\": [\"Student_20\", \"Student_20\", \"Student_20\", \"Student_20\", \"Student_20\"], \"y\": [\"Assign1\", \"Assign2\", \"Assign3\", \"Assign4\"], \"type\": \"scatter\", \"uid\": \"080da93e-e411-11e8-a1d0-d7b4c6107baf\"}], {\"hovermode\": \"closest\", \"showlegend\": true, \"title\": \"Atividades feitas por estudante\", \"xaxis\": {\"autorange\": false, \"fixedrange\": false, \"range\": [-1, 20], \"rangemode\": \"normal\", \"showline\": true, \"title\": \"Estudantes\", \"type\": \"category\"}, \"yaxis\": {\"autorange\": false, \"categoryorder\": \"category ascending\", \"fixedrange\": false, \"range\": [-1, 4], \"rangemode\": \"normal\", \"showline\": true, \"title\": \"Atividades\", \"type\": \"category\"}}, {\"showLink\": true, \"linkText\": \"Export to plot.ly\"})});</script>"
      ],
      "text/vnd.plotly.v1+html": [
       "<div id=\"1014c42a-d16a-4a3d-9e29-2a993b557865\" style=\"height: 525px; width: 100%;\" class=\"plotly-graph-div\"></div><script type=\"text/javascript\">require([\"plotly\"], function(Plotly) { window.PLOTLYENV=window.PLOTLYENV || {};window.PLOTLYENV.BASE_URL=\"https://plot.ly\";Plotly.newPlot(\"1014c42a-d16a-4a3d-9e29-2a993b557865\", [{\"marker\": {\"line\": {\"width\": 2}, \"size\": [1, 1, 1, 0], \"sizemode\": \"area\", \"sizeref\": 0.01, \"symbol\": \"circle\"}, \"mode\": \"markers\", \"name\": \"Student_1\", \"text\": [\"1\", \"1\", \"1\", \"0\"], \"x\": [\"Student_1\", \"Student_1\", \"Student_1\", \"Student_1\", \"Student_1\"], \"y\": [\"Assign1\", \"Assign2\", \"Assign3\", \"Assign4\"], \"type\": \"scatter\", \"uid\": \"080d9dae-e411-11e8-a1d0-d7b4c6107baf\"}, {\"marker\": {\"line\": {\"width\": 2}, \"size\": [1, 1, 0, 0], \"sizemode\": \"area\", \"sizeref\": 0.01, \"symbol\": \"circle\"}, \"mode\": \"markers\", \"name\": \"Student_2\", \"text\": [\"1\", \"1\", \"0\", \"0\"], \"x\": [\"Student_2\", \"Student_2\", \"Student_2\", \"Student_2\", \"Student_2\"], \"y\": [\"Assign1\", \"Assign2\", \"Assign3\", \"Assign4\"], \"type\": \"scatter\", \"uid\": \"080d9f5c-e411-11e8-a1d0-d7b4c6107baf\"}, {\"marker\": {\"line\": {\"width\": 2}, \"size\": [1, 0, 0, 1], \"sizemode\": \"area\", \"sizeref\": 0.01, \"symbol\": \"circle\"}, \"mode\": \"markers\", \"name\": \"Student_3\", \"text\": [\"1\", \"0\", \"0\", \"1\"], \"x\": [\"Student_3\", \"Student_3\", \"Student_3\", \"Student_3\", \"Student_3\"], \"y\": [\"Assign1\", \"Assign2\", \"Assign3\", \"Assign4\"], \"type\": \"scatter\", \"uid\": \"080da02e-e411-11e8-a1d0-d7b4c6107baf\"}, {\"marker\": {\"line\": {\"width\": 2}, \"size\": [1, 1, 1, 1], \"sizemode\": \"area\", \"sizeref\": 0.01, \"symbol\": \"circle\"}, \"mode\": \"markers\", \"name\": \"Student_4\", \"text\": [\"1\", \"1\", \"1\", \"1\"], \"x\": [\"Student_4\", \"Student_4\", \"Student_4\", \"Student_4\", \"Student_4\"], \"y\": [\"Assign1\", \"Assign2\", \"Assign3\", \"Assign4\"], \"type\": \"scatter\", \"uid\": \"080da0ce-e411-11e8-a1d0-d7b4c6107baf\"}, {\"marker\": {\"line\": {\"width\": 2}, \"size\": [1, 0, 1, 0], \"sizemode\": \"area\", \"sizeref\": 0.01, \"symbol\": \"circle\"}, \"mode\": \"markers\", \"name\": \"Student_5\", \"text\": [\"1\", \"0\", \"1\", \"0\"], \"x\": [\"Student_5\", \"Student_5\", \"Student_5\", \"Student_5\", \"Student_5\"], \"y\": [\"Assign1\", \"Assign2\", \"Assign3\", \"Assign4\"], \"type\": \"scatter\", \"uid\": \"080da15a-e411-11e8-a1d0-d7b4c6107baf\"}, {\"marker\": {\"line\": {\"width\": 2}, \"size\": [0, 1, 0, 1], \"sizemode\": \"area\", \"sizeref\": 0.01, \"symbol\": \"circle\"}, \"mode\": \"markers\", \"name\": \"Student_6\", \"text\": [\"0\", \"1\", \"0\", \"1\"], \"x\": [\"Student_6\", \"Student_6\", \"Student_6\", \"Student_6\", \"Student_6\"], \"y\": [\"Assign1\", \"Assign2\", \"Assign3\", \"Assign4\"], \"type\": \"scatter\", \"uid\": \"080da1f0-e411-11e8-a1d0-d7b4c6107baf\"}, {\"marker\": {\"line\": {\"width\": 2}, \"size\": [1, 1, 1, 1], \"sizemode\": \"area\", \"sizeref\": 0.01, \"symbol\": \"circle\"}, \"mode\": \"markers\", \"name\": \"Student_7\", \"text\": [\"1\", \"1\", \"1\", \"1\"], \"x\": [\"Student_7\", \"Student_7\", \"Student_7\", \"Student_7\", \"Student_7\"], \"y\": [\"Assign1\", \"Assign2\", \"Assign3\", \"Assign4\"], \"type\": \"scatter\", \"uid\": \"080da272-e411-11e8-a1d0-d7b4c6107baf\"}, {\"marker\": {\"line\": {\"width\": 2}, \"size\": [1, 0, 1, 0], \"sizemode\": \"area\", \"sizeref\": 0.01, \"symbol\": \"circle\"}, \"mode\": \"markers\", \"name\": \"Student_8\", \"text\": [\"1\", \"0\", \"1\", \"0\"], \"x\": [\"Student_8\", \"Student_8\", \"Student_8\", \"Student_8\", \"Student_8\"], \"y\": [\"Assign1\", \"Assign2\", \"Assign3\", \"Assign4\"], \"type\": \"scatter\", \"uid\": \"080da2fe-e411-11e8-a1d0-d7b4c6107baf\"}, {\"marker\": {\"line\": {\"width\": 2}, \"size\": [1, 1, 1, 1], \"sizemode\": \"area\", \"sizeref\": 0.01, \"symbol\": \"circle\"}, \"mode\": \"markers\", \"name\": \"Student_9\", \"text\": [\"1\", \"1\", \"1\", \"1\"], \"x\": [\"Student_9\", \"Student_9\", \"Student_9\", \"Student_9\", \"Student_9\"], \"y\": [\"Assign1\", \"Assign2\", \"Assign3\", \"Assign4\"], \"type\": \"scatter\", \"uid\": \"080da38a-e411-11e8-a1d0-d7b4c6107baf\"}, {\"marker\": {\"line\": {\"width\": 2}, \"size\": [0, 0, 1, 1], \"sizemode\": \"area\", \"sizeref\": 0.01, \"symbol\": \"circle\"}, \"mode\": \"markers\", \"name\": \"Student_10\", \"text\": [\"0\", \"0\", \"1\", \"1\"], \"x\": [\"Student_10\", \"Student_10\", \"Student_10\", \"Student_10\", \"Student_10\"], \"y\": [\"Assign1\", \"Assign2\", \"Assign3\", \"Assign4\"], \"type\": \"scatter\", \"uid\": \"080da40c-e411-11e8-a1d0-d7b4c6107baf\"}, {\"marker\": {\"line\": {\"width\": 2}, \"size\": [1, 1, 1, 1], \"sizemode\": \"area\", \"sizeref\": 0.01, \"symbol\": \"circle\"}, \"mode\": \"markers\", \"name\": \"Student_11\", \"text\": [\"1\", \"1\", \"1\", \"1\"], \"x\": [\"Student_11\", \"Student_11\", \"Student_11\", \"Student_11\", \"Student_11\"], \"y\": [\"Assign1\", \"Assign2\", \"Assign3\", \"Assign4\"], \"type\": \"scatter\", \"uid\": \"080da498-e411-11e8-a1d0-d7b4c6107baf\"}, {\"marker\": {\"line\": {\"width\": 2}, \"size\": [0, 0, 1, 1], \"sizemode\": \"area\", \"sizeref\": 0.01, \"symbol\": \"circle\"}, \"mode\": \"markers\", \"name\": \"Student_12\", \"text\": [\"0\", \"0\", \"1\", \"1\"], \"x\": [\"Student_12\", \"Student_12\", \"Student_12\", \"Student_12\", \"Student_12\"], \"y\": [\"Assign1\", \"Assign2\", \"Assign3\", \"Assign4\"], \"type\": \"scatter\", \"uid\": \"080da524-e411-11e8-a1d0-d7b4c6107baf\"}, {\"marker\": {\"line\": {\"width\": 2}, \"size\": [0, 1, 1, 1], \"sizemode\": \"area\", \"sizeref\": 0.01, \"symbol\": \"circle\"}, \"mode\": \"markers\", \"name\": \"Student_13\", \"text\": [\"0\", \"1\", \"1\", \"1\"], \"x\": [\"Student_13\", \"Student_13\", \"Student_13\", \"Student_13\", \"Student_13\"], \"y\": [\"Assign1\", \"Assign2\", \"Assign3\", \"Assign4\"], \"type\": \"scatter\", \"uid\": \"080da5b0-e411-11e8-a1d0-d7b4c6107baf\"}, {\"marker\": {\"line\": {\"width\": 2}, \"size\": [1, 0, 0, 1], \"sizemode\": \"area\", \"sizeref\": 0.01, \"symbol\": \"circle\"}, \"mode\": \"markers\", \"name\": \"Student_14\", \"text\": [\"1\", \"0\", \"0\", \"1\"], \"x\": [\"Student_14\", \"Student_14\", \"Student_14\", \"Student_14\", \"Student_14\"], \"y\": [\"Assign1\", \"Assign2\", \"Assign3\", \"Assign4\"], \"type\": \"scatter\", \"uid\": \"080da632-e411-11e8-a1d0-d7b4c6107baf\"}, {\"marker\": {\"line\": {\"width\": 2}, \"size\": [0, 0, 1, 1], \"sizemode\": \"area\", \"sizeref\": 0.01, \"symbol\": \"circle\"}, \"mode\": \"markers\", \"name\": \"Student_15\", \"text\": [\"0\", \"0\", \"1\", \"1\"], \"x\": [\"Student_15\", \"Student_15\", \"Student_15\", \"Student_15\", \"Student_15\"], \"y\": [\"Assign1\", \"Assign2\", \"Assign3\", \"Assign4\"], \"type\": \"scatter\", \"uid\": \"080da6be-e411-11e8-a1d0-d7b4c6107baf\"}, {\"marker\": {\"line\": {\"width\": 2}, \"size\": [0, 1, 1, 1], \"sizemode\": \"area\", \"sizeref\": 0.01, \"symbol\": \"circle\"}, \"mode\": \"markers\", \"name\": \"Student_16\", \"text\": [\"0\", \"1\", \"1\", \"1\"], \"x\": [\"Student_16\", \"Student_16\", \"Student_16\", \"Student_16\", \"Student_16\"], \"y\": [\"Assign1\", \"Assign2\", \"Assign3\", \"Assign4\"], \"type\": \"scatter\", \"uid\": \"080da740-e411-11e8-a1d0-d7b4c6107baf\"}, {\"marker\": {\"line\": {\"width\": 2}, \"size\": [1, 0, 1, 1], \"sizemode\": \"area\", \"sizeref\": 0.01, \"symbol\": \"circle\"}, \"mode\": \"markers\", \"name\": \"Student_17\", \"text\": [\"1\", \"0\", \"1\", \"1\"], \"x\": [\"Student_17\", \"Student_17\", \"Student_17\", \"Student_17\", \"Student_17\"], \"y\": [\"Assign1\", \"Assign2\", \"Assign3\", \"Assign4\"], \"type\": \"scatter\", \"uid\": \"080da7c2-e411-11e8-a1d0-d7b4c6107baf\"}, {\"marker\": {\"line\": {\"width\": 2}, \"size\": [0, 0, 1, 0], \"sizemode\": \"area\", \"sizeref\": 0.01, \"symbol\": \"circle\"}, \"mode\": \"markers\", \"name\": \"Student_18\", \"text\": [\"0\", \"0\", \"1\", \"0\"], \"x\": [\"Student_18\", \"Student_18\", \"Student_18\", \"Student_18\", \"Student_18\"], \"y\": [\"Assign1\", \"Assign2\", \"Assign3\", \"Assign4\"], \"type\": \"scatter\", \"uid\": \"080da844-e411-11e8-a1d0-d7b4c6107baf\"}, {\"marker\": {\"line\": {\"width\": 2}, \"size\": [0, 1, 0, 0], \"sizemode\": \"area\", \"sizeref\": 0.01, \"symbol\": \"circle\"}, \"mode\": \"markers\", \"name\": \"Student_19\", \"text\": [\"0\", \"1\", \"0\", \"0\"], \"x\": [\"Student_19\", \"Student_19\", \"Student_19\", \"Student_19\", \"Student_19\"], \"y\": [\"Assign1\", \"Assign2\", \"Assign3\", \"Assign4\"], \"type\": \"scatter\", \"uid\": \"080da8bc-e411-11e8-a1d0-d7b4c6107baf\"}, {\"marker\": {\"line\": {\"width\": 2}, \"size\": [0, 0, 1, 0], \"sizemode\": \"area\", \"sizeref\": 0.01, \"symbol\": \"circle\"}, \"mode\": \"markers\", \"name\": \"Student_20\", \"text\": [\"0\", \"0\", \"1\", \"0\"], \"x\": [\"Student_20\", \"Student_20\", \"Student_20\", \"Student_20\", \"Student_20\"], \"y\": [\"Assign1\", \"Assign2\", \"Assign3\", \"Assign4\"], \"type\": \"scatter\", \"uid\": \"080da93e-e411-11e8-a1d0-d7b4c6107baf\"}], {\"hovermode\": \"closest\", \"showlegend\": true, \"title\": \"Atividades feitas por estudante\", \"xaxis\": {\"autorange\": false, \"fixedrange\": false, \"range\": [-1, 20], \"rangemode\": \"normal\", \"showline\": true, \"title\": \"Estudantes\", \"type\": \"category\"}, \"yaxis\": {\"autorange\": false, \"categoryorder\": \"category ascending\", \"fixedrange\": false, \"range\": [-1, 4], \"rangemode\": \"normal\", \"showline\": true, \"title\": \"Atividades\", \"type\": \"category\"}}, {\"showLink\": true, \"linkText\": \"Export to plot.ly\"})});</script>"
      ]
     },
     "metadata": {},
     "output_type": "display_data"
    },
    {
     "data": {
      "application/vnd.plotly.v1+json": {
       "data": [
        {
         "colorscale": [
          [
           0,
           "rgb(255,255,255)"
          ],
          [
           1,
           "rgb(0,0,255)"
          ]
         ],
         "type": "heatmap",
         "uid": "08179304-e411-11e8-a1d0-d7b4c6107baf",
         "x": [
          "Assign1",
          "Assign2",
          "Assign3",
          "Assign4"
         ],
         "y": [
          "Student_1",
          "Student_2",
          "Student_3",
          "Student_4",
          "Student_5",
          "Student_6",
          "Student_7",
          "Student_8",
          "Student_9",
          "Student_10",
          "Student_11",
          "Student_12",
          "Student_13",
          "Student_14",
          "Student_15",
          "Student_16",
          "Student_17",
          "Student_18",
          "Student_19",
          "Student_20"
         ],
         "z": [
          [
           1,
           1,
           1,
           0
          ],
          [
           1,
           1,
           0,
           0
          ],
          [
           1,
           0,
           0,
           1
          ],
          [
           1,
           1,
           1,
           1
          ],
          [
           1,
           0,
           1,
           0
          ],
          [
           0,
           1,
           0,
           1
          ],
          [
           1,
           1,
           1,
           1
          ],
          [
           1,
           0,
           1,
           0
          ],
          [
           1,
           1,
           1,
           1
          ],
          [
           0,
           0,
           1,
           1
          ],
          [
           1,
           1,
           1,
           1
          ],
          [
           0,
           0,
           1,
           1
          ],
          [
           0,
           1,
           1,
           1
          ],
          [
           1,
           0,
           0,
           1
          ],
          [
           0,
           0,
           1,
           1
          ],
          [
           0,
           1,
           1,
           1
          ],
          [
           1,
           0,
           1,
           1
          ],
          [
           0,
           0,
           1,
           0
          ],
          [
           0,
           1,
           0,
           0
          ],
          [
           0,
           0,
           1,
           0
          ]
         ]
        }
       ],
       "layout": {
        "title": "Atividades feitas por estudante",
        "yaxis": {
         "dtick": 1,
         "exponentformat": "e",
         "gridcolor": "#bdbdbd",
         "showexponent": "all",
         "showticklabels": true,
         "tick0": 0,
         "titlefont": {
          "color": "lightgrey",
          "family": "Arial, sans-serif"
         }
        }
       }
      },
      "text/html": [
       "<div id=\"3bf54af8-5e1e-4c9b-9efa-bc69cb84fb36\" style=\"height: 525px; width: 100%;\" class=\"plotly-graph-div\"></div><script type=\"text/javascript\">require([\"plotly\"], function(Plotly) { window.PLOTLYENV=window.PLOTLYENV || {};window.PLOTLYENV.BASE_URL=\"https://plot.ly\";Plotly.newPlot(\"3bf54af8-5e1e-4c9b-9efa-bc69cb84fb36\", [{\"colorscale\": [[0, \"rgb(255,255,255)\"], [1, \"rgb(0,0,255)\"]], \"x\": [\"Assign1\", \"Assign2\", \"Assign3\", \"Assign4\"], \"y\": [\"Student_1\", \"Student_2\", \"Student_3\", \"Student_4\", \"Student_5\", \"Student_6\", \"Student_7\", \"Student_8\", \"Student_9\", \"Student_10\", \"Student_11\", \"Student_12\", \"Student_13\", \"Student_14\", \"Student_15\", \"Student_16\", \"Student_17\", \"Student_18\", \"Student_19\", \"Student_20\"], \"z\": [[1, 1, 1, 0], [1, 1, 0, 0], [1, 0, 0, 1], [1, 1, 1, 1], [1, 0, 1, 0], [0, 1, 0, 1], [1, 1, 1, 1], [1, 0, 1, 0], [1, 1, 1, 1], [0, 0, 1, 1], [1, 1, 1, 1], [0, 0, 1, 1], [0, 1, 1, 1], [1, 0, 0, 1], [0, 0, 1, 1], [0, 1, 1, 1], [1, 0, 1, 1], [0, 0, 1, 0], [0, 1, 0, 0], [0, 0, 1, 0]], \"type\": \"heatmap\", \"uid\": \"08179304-e411-11e8-a1d0-d7b4c6107baf\"}], {\"title\": \"Atividades feitas por estudante\", \"yaxis\": {\"dtick\": 1, \"exponentformat\": \"e\", \"gridcolor\": \"#bdbdbd\", \"showexponent\": \"all\", \"showticklabels\": true, \"tick0\": 0, \"titlefont\": {\"color\": \"lightgrey\", \"family\": \"Arial, sans-serif\"}}}, {\"showLink\": true, \"linkText\": \"Export to plot.ly\"})});</script>"
      ],
      "text/vnd.plotly.v1+html": [
       "<div id=\"3bf54af8-5e1e-4c9b-9efa-bc69cb84fb36\" style=\"height: 525px; width: 100%;\" class=\"plotly-graph-div\"></div><script type=\"text/javascript\">require([\"plotly\"], function(Plotly) { window.PLOTLYENV=window.PLOTLYENV || {};window.PLOTLYENV.BASE_URL=\"https://plot.ly\";Plotly.newPlot(\"3bf54af8-5e1e-4c9b-9efa-bc69cb84fb36\", [{\"colorscale\": [[0, \"rgb(255,255,255)\"], [1, \"rgb(0,0,255)\"]], \"x\": [\"Assign1\", \"Assign2\", \"Assign3\", \"Assign4\"], \"y\": [\"Student_1\", \"Student_2\", \"Student_3\", \"Student_4\", \"Student_5\", \"Student_6\", \"Student_7\", \"Student_8\", \"Student_9\", \"Student_10\", \"Student_11\", \"Student_12\", \"Student_13\", \"Student_14\", \"Student_15\", \"Student_16\", \"Student_17\", \"Student_18\", \"Student_19\", \"Student_20\"], \"z\": [[1, 1, 1, 0], [1, 1, 0, 0], [1, 0, 0, 1], [1, 1, 1, 1], [1, 0, 1, 0], [0, 1, 0, 1], [1, 1, 1, 1], [1, 0, 1, 0], [1, 1, 1, 1], [0, 0, 1, 1], [1, 1, 1, 1], [0, 0, 1, 1], [0, 1, 1, 1], [1, 0, 0, 1], [0, 0, 1, 1], [0, 1, 1, 1], [1, 0, 1, 1], [0, 0, 1, 0], [0, 1, 0, 0], [0, 0, 1, 0]], \"type\": \"heatmap\", \"uid\": \"08179304-e411-11e8-a1d0-d7b4c6107baf\"}], {\"title\": \"Atividades feitas por estudante\", \"yaxis\": {\"dtick\": 1, \"exponentformat\": \"e\", \"gridcolor\": \"#bdbdbd\", \"showexponent\": \"all\", \"showticklabels\": true, \"tick0\": 0, \"titlefont\": {\"color\": \"lightgrey\", \"family\": \"Arial, sans-serif\"}}}, {\"showLink\": true, \"linkText\": \"Export to plot.ly\"})});</script>"
      ]
     },
     "metadata": {},
     "output_type": "display_data"
    }
   ],
   "source": [
    "run scripts/V001.py"
   ]
  },
  {
   "cell_type": "markdown",
   "metadata": {},
   "source": [
    "### View 002"
   ]
  },
  {
   "cell_type": "code",
   "execution_count": 3,
   "metadata": {
    "scrolled": true
   },
   "outputs": [
    {
     "data": {
      "text/html": [
       "<script>requirejs.config({paths: { 'plotly': ['https://cdn.plot.ly/plotly-latest.min']},});if(!window.Plotly) {{require(['plotly'],function(plotly) {window.Plotly=plotly;});}}</script>"
      ],
      "text/vnd.plotly.v1+html": [
       "<script>requirejs.config({paths: { 'plotly': ['https://cdn.plot.ly/plotly-latest.min']},});if(!window.Plotly) {{require(['plotly'],function(plotly) {window.Plotly=plotly;});}}</script>"
      ]
     },
     "metadata": {},
     "output_type": "display_data"
    },
    {
     "data": {
      "application/vnd.plotly.v1+json": {
       "data": [
        {
         "cells": {
          "align": [
           "left",
           "center"
          ],
          "fill": {
           "color": "#F5F8FF"
          },
          "values": [
           [
            "Student_1",
            "Student_2",
            "Student_3",
            "Student_4",
            "Student_5",
            "Student_6",
            "Student_7",
            "Student_8",
            "Student_9",
            "Student_10",
            "Student_11",
            "Student_12",
            "Student_13",
            "Student_14",
            "Student_15",
            "Student_16",
            "Student_17",
            "Student_18",
            "Student_19",
            "Student_20"
           ],
           [
            17,
            12,
            14,
            27,
            9,
            15,
            13,
            24,
            4,
            26,
            19,
            19,
            23,
            29,
            11,
            12,
            21,
            28,
            4,
            20
           ],
           [
            1,
            21,
            5,
            23,
            15,
            10,
            9,
            12,
            16,
            6,
            25,
            15,
            27,
            28,
            23,
            29,
            2,
            11,
            13,
            22
           ],
           [
            14,
            23,
            17,
            25,
            6,
            16,
            27,
            9,
            22,
            13,
            21,
            13,
            9,
            23,
            19,
            11,
            23,
            9,
            0,
            23
           ],
           [
            3,
            21,
            3,
            13,
            10,
            8,
            18,
            1,
            28,
            13,
            7,
            11,
            6,
            28,
            4,
            7,
            22,
            11,
            2,
            20
           ],
           [
            16,
            8,
            10,
            16,
            6,
            28,
            3,
            0,
            8,
            10,
            5,
            28,
            19,
            27,
            26,
            29,
            13,
            11,
            1,
            29
           ],
           [
            28,
            27,
            3,
            22,
            4,
            6,
            20,
            8,
            9,
            12,
            19,
            6,
            2,
            13,
            18,
            29,
            11,
            17,
            18,
            20
           ],
           [
            18,
            25,
            13,
            22,
            7,
            24,
            0,
            2,
            22,
            27,
            25,
            12,
            25,
            21,
            29,
            7,
            26,
            24,
            20,
            21
           ],
           [
            10,
            13,
            19,
            10,
            24,
            4,
            4,
            10,
            9,
            19,
            6,
            3,
            10,
            0,
            16,
            11,
            6,
            13,
            21,
            9
           ]
          ]
         },
         "header": {
          "align": "center",
          "fill": {
           "color": "#C2D4FF"
          },
          "values": [
           "Students",
           "Video1",
           "Video2",
           "Quiz1",
           "Quiz2",
           "Pdf1",
           "Pdf2",
           "Ebook1",
           "Ebook2"
          ]
         },
         "type": "table",
         "uid": "1a675fbe-e2e8-11e8-96ad-27ad55f30ab3"
        }
       ],
       "layout": {}
      },
      "text/html": [
       "<div id=\"0b004b46-d27a-42bb-9544-bbf08262d704\" style=\"height: 525px; width: 100%;\" class=\"plotly-graph-div\"></div><script type=\"text/javascript\">require([\"plotly\"], function(Plotly) { window.PLOTLYENV=window.PLOTLYENV || {};window.PLOTLYENV.BASE_URL=\"https://plot.ly\";Plotly.newPlot(\"0b004b46-d27a-42bb-9544-bbf08262d704\", [{\"cells\": {\"align\": [\"left\", \"center\"], \"fill\": {\"color\": \"#F5F8FF\"}, \"values\": [[\"Student_1\", \"Student_2\", \"Student_3\", \"Student_4\", \"Student_5\", \"Student_6\", \"Student_7\", \"Student_8\", \"Student_9\", \"Student_10\", \"Student_11\", \"Student_12\", \"Student_13\", \"Student_14\", \"Student_15\", \"Student_16\", \"Student_17\", \"Student_18\", \"Student_19\", \"Student_20\"], [17, 12, 14, 27, 9, 15, 13, 24, 4, 26, 19, 19, 23, 29, 11, 12, 21, 28, 4, 20], [1, 21, 5, 23, 15, 10, 9, 12, 16, 6, 25, 15, 27, 28, 23, 29, 2, 11, 13, 22], [14, 23, 17, 25, 6, 16, 27, 9, 22, 13, 21, 13, 9, 23, 19, 11, 23, 9, 0, 23], [3, 21, 3, 13, 10, 8, 18, 1, 28, 13, 7, 11, 6, 28, 4, 7, 22, 11, 2, 20], [16, 8, 10, 16, 6, 28, 3, 0, 8, 10, 5, 28, 19, 27, 26, 29, 13, 11, 1, 29], [28, 27, 3, 22, 4, 6, 20, 8, 9, 12, 19, 6, 2, 13, 18, 29, 11, 17, 18, 20], [18, 25, 13, 22, 7, 24, 0, 2, 22, 27, 25, 12, 25, 21, 29, 7, 26, 24, 20, 21], [10, 13, 19, 10, 24, 4, 4, 10, 9, 19, 6, 3, 10, 0, 16, 11, 6, 13, 21, 9]]}, \"header\": {\"align\": \"center\", \"fill\": {\"color\": \"#C2D4FF\"}, \"values\": [\"Students\", \"Video1\", \"Video2\", \"Quiz1\", \"Quiz2\", \"Pdf1\", \"Pdf2\", \"Ebook1\", \"Ebook2\"]}, \"type\": \"table\", \"uid\": \"1a697402-e2e8-11e8-96ad-27ad55f30ab3\"}], {}, {\"showLink\": true, \"linkText\": \"Export to plot.ly\"})});</script>"
      ],
      "text/vnd.plotly.v1+html": [
       "<div id=\"0b004b46-d27a-42bb-9544-bbf08262d704\" style=\"height: 525px; width: 100%;\" class=\"plotly-graph-div\"></div><script type=\"text/javascript\">require([\"plotly\"], function(Plotly) { window.PLOTLYENV=window.PLOTLYENV || {};window.PLOTLYENV.BASE_URL=\"https://plot.ly\";Plotly.newPlot(\"0b004b46-d27a-42bb-9544-bbf08262d704\", [{\"cells\": {\"align\": [\"left\", \"center\"], \"fill\": {\"color\": \"#F5F8FF\"}, \"values\": [[\"Student_1\", \"Student_2\", \"Student_3\", \"Student_4\", \"Student_5\", \"Student_6\", \"Student_7\", \"Student_8\", \"Student_9\", \"Student_10\", \"Student_11\", \"Student_12\", \"Student_13\", \"Student_14\", \"Student_15\", \"Student_16\", \"Student_17\", \"Student_18\", \"Student_19\", \"Student_20\"], [17, 12, 14, 27, 9, 15, 13, 24, 4, 26, 19, 19, 23, 29, 11, 12, 21, 28, 4, 20], [1, 21, 5, 23, 15, 10, 9, 12, 16, 6, 25, 15, 27, 28, 23, 29, 2, 11, 13, 22], [14, 23, 17, 25, 6, 16, 27, 9, 22, 13, 21, 13, 9, 23, 19, 11, 23, 9, 0, 23], [3, 21, 3, 13, 10, 8, 18, 1, 28, 13, 7, 11, 6, 28, 4, 7, 22, 11, 2, 20], [16, 8, 10, 16, 6, 28, 3, 0, 8, 10, 5, 28, 19, 27, 26, 29, 13, 11, 1, 29], [28, 27, 3, 22, 4, 6, 20, 8, 9, 12, 19, 6, 2, 13, 18, 29, 11, 17, 18, 20], [18, 25, 13, 22, 7, 24, 0, 2, 22, 27, 25, 12, 25, 21, 29, 7, 26, 24, 20, 21], [10, 13, 19, 10, 24, 4, 4, 10, 9, 19, 6, 3, 10, 0, 16, 11, 6, 13, 21, 9]]}, \"header\": {\"align\": \"center\", \"fill\": {\"color\": \"#C2D4FF\"}, \"values\": [\"Students\", \"Video1\", \"Video2\", \"Quiz1\", \"Quiz2\", \"Pdf1\", \"Pdf2\", \"Ebook1\", \"Ebook2\"]}, \"type\": \"table\", \"uid\": \"1a697402-e2e8-11e8-96ad-27ad55f30ab3\"}], {}, {\"showLink\": true, \"linkText\": \"Export to plot.ly\"})});</script>"
      ]
     },
     "metadata": {},
     "output_type": "display_data"
    },
    {
     "data": {
      "application/vnd.plotly.v1+json": {
       "data": [
        {
         "name": "Video1",
         "type": "bar",
         "uid": "1a7389ec-e2e8-11e8-96ad-27ad55f30ab3",
         "x": [
          "Student_1",
          "Student_2",
          "Student_3",
          "Student_4",
          "Student_5",
          "Student_6",
          "Student_7",
          "Student_8",
          "Student_9",
          "Student_10",
          "Student_11",
          "Student_12",
          "Student_13",
          "Student_14",
          "Student_15",
          "Student_16",
          "Student_17",
          "Student_18",
          "Student_19",
          "Student_20"
         ],
         "y": [
          17,
          12,
          14,
          27,
          9,
          15,
          13,
          24,
          4,
          26,
          19,
          19,
          23,
          29,
          11,
          12,
          21,
          28,
          4,
          20
         ]
        },
        {
         "name": "Video2",
         "type": "bar",
         "uid": "1a738bcc-e2e8-11e8-96ad-27ad55f30ab3",
         "x": [
          "Student_1",
          "Student_2",
          "Student_3",
          "Student_4",
          "Student_5",
          "Student_6",
          "Student_7",
          "Student_8",
          "Student_9",
          "Student_10",
          "Student_11",
          "Student_12",
          "Student_13",
          "Student_14",
          "Student_15",
          "Student_16",
          "Student_17",
          "Student_18",
          "Student_19",
          "Student_20"
         ],
         "y": [
          1,
          21,
          5,
          23,
          15,
          10,
          9,
          12,
          16,
          6,
          25,
          15,
          27,
          28,
          23,
          29,
          2,
          11,
          13,
          22
         ]
        },
        {
         "name": "Quiz1",
         "type": "bar",
         "uid": "1a738cda-e2e8-11e8-96ad-27ad55f30ab3",
         "x": [
          "Student_1",
          "Student_2",
          "Student_3",
          "Student_4",
          "Student_5",
          "Student_6",
          "Student_7",
          "Student_8",
          "Student_9",
          "Student_10",
          "Student_11",
          "Student_12",
          "Student_13",
          "Student_14",
          "Student_15",
          "Student_16",
          "Student_17",
          "Student_18",
          "Student_19",
          "Student_20"
         ],
         "y": [
          14,
          23,
          17,
          25,
          6,
          16,
          27,
          9,
          22,
          13,
          21,
          13,
          9,
          23,
          19,
          11,
          23,
          9,
          0,
          23
         ]
        },
        {
         "name": "Quiz2",
         "type": "bar",
         "uid": "1a738dc0-e2e8-11e8-96ad-27ad55f30ab3",
         "x": [
          "Student_1",
          "Student_2",
          "Student_3",
          "Student_4",
          "Student_5",
          "Student_6",
          "Student_7",
          "Student_8",
          "Student_9",
          "Student_10",
          "Student_11",
          "Student_12",
          "Student_13",
          "Student_14",
          "Student_15",
          "Student_16",
          "Student_17",
          "Student_18",
          "Student_19",
          "Student_20"
         ],
         "y": [
          3,
          21,
          3,
          13,
          10,
          8,
          18,
          1,
          28,
          13,
          7,
          11,
          6,
          28,
          4,
          7,
          22,
          11,
          2,
          20
         ]
        },
        {
         "name": "Pdf1",
         "type": "bar",
         "uid": "1a738e92-e2e8-11e8-96ad-27ad55f30ab3",
         "x": [
          "Student_1",
          "Student_2",
          "Student_3",
          "Student_4",
          "Student_5",
          "Student_6",
          "Student_7",
          "Student_8",
          "Student_9",
          "Student_10",
          "Student_11",
          "Student_12",
          "Student_13",
          "Student_14",
          "Student_15",
          "Student_16",
          "Student_17",
          "Student_18",
          "Student_19",
          "Student_20"
         ],
         "y": [
          16,
          8,
          10,
          16,
          6,
          28,
          3,
          0,
          8,
          10,
          5,
          28,
          19,
          27,
          26,
          29,
          13,
          11,
          1,
          29
         ]
        },
        {
         "name": "Pdf2",
         "type": "bar",
         "uid": "1a738f64-e2e8-11e8-96ad-27ad55f30ab3",
         "x": [
          "Student_1",
          "Student_2",
          "Student_3",
          "Student_4",
          "Student_5",
          "Student_6",
          "Student_7",
          "Student_8",
          "Student_9",
          "Student_10",
          "Student_11",
          "Student_12",
          "Student_13",
          "Student_14",
          "Student_15",
          "Student_16",
          "Student_17",
          "Student_18",
          "Student_19",
          "Student_20"
         ],
         "y": [
          28,
          27,
          3,
          22,
          4,
          6,
          20,
          8,
          9,
          12,
          19,
          6,
          2,
          13,
          18,
          29,
          11,
          17,
          18,
          20
         ]
        },
        {
         "name": "Ebook1",
         "type": "bar",
         "uid": "1a73902c-e2e8-11e8-96ad-27ad55f30ab3",
         "x": [
          "Student_1",
          "Student_2",
          "Student_3",
          "Student_4",
          "Student_5",
          "Student_6",
          "Student_7",
          "Student_8",
          "Student_9",
          "Student_10",
          "Student_11",
          "Student_12",
          "Student_13",
          "Student_14",
          "Student_15",
          "Student_16",
          "Student_17",
          "Student_18",
          "Student_19",
          "Student_20"
         ],
         "y": [
          18,
          25,
          13,
          22,
          7,
          24,
          0,
          2,
          22,
          27,
          25,
          12,
          25,
          21,
          29,
          7,
          26,
          24,
          20,
          21
         ]
        },
        {
         "name": "Ebook2",
         "type": "bar",
         "uid": "1a7390e0-e2e8-11e8-96ad-27ad55f30ab3",
         "x": [
          "Student_1",
          "Student_2",
          "Student_3",
          "Student_4",
          "Student_5",
          "Student_6",
          "Student_7",
          "Student_8",
          "Student_9",
          "Student_10",
          "Student_11",
          "Student_12",
          "Student_13",
          "Student_14",
          "Student_15",
          "Student_16",
          "Student_17",
          "Student_18",
          "Student_19",
          "Student_20"
         ],
         "y": [
          10,
          13,
          19,
          10,
          24,
          4,
          4,
          10,
          9,
          19,
          6,
          3,
          10,
          0,
          16,
          11,
          6,
          13,
          21,
          9
         ]
        }
       ],
       "layout": {
        "title": "Número de acessos nos materiais agrupados por estudante",
        "yaxis": {
         "dtick": 5,
         "exponentformat": "e",
         "gridcolor": "#bdbdbd",
         "showexponent": "all",
         "showticklabels": true,
         "tick0": 0,
         "titlefont": {
          "color": "lightgrey",
          "family": "Arial, sans-serif"
         }
        }
       }
      },
      "text/html": [
       "<div id=\"5b50dedf-7e06-46d0-b5e3-bb68c19baae6\" style=\"height: 525px; width: 100%;\" class=\"plotly-graph-div\"></div><script type=\"text/javascript\">require([\"plotly\"], function(Plotly) { window.PLOTLYENV=window.PLOTLYENV || {};window.PLOTLYENV.BASE_URL=\"https://plot.ly\";Plotly.newPlot(\"5b50dedf-7e06-46d0-b5e3-bb68c19baae6\", [{\"name\": \"Video1\", \"x\": [\"Student_1\", \"Student_2\", \"Student_3\", \"Student_4\", \"Student_5\", \"Student_6\", \"Student_7\", \"Student_8\", \"Student_9\", \"Student_10\", \"Student_11\", \"Student_12\", \"Student_13\", \"Student_14\", \"Student_15\", \"Student_16\", \"Student_17\", \"Student_18\", \"Student_19\", \"Student_20\"], \"y\": [17, 12, 14, 27, 9, 15, 13, 24, 4, 26, 19, 19, 23, 29, 11, 12, 21, 28, 4, 20], \"type\": \"bar\", \"uid\": \"1a7389ec-e2e8-11e8-96ad-27ad55f30ab3\"}, {\"name\": \"Video2\", \"x\": [\"Student_1\", \"Student_2\", \"Student_3\", \"Student_4\", \"Student_5\", \"Student_6\", \"Student_7\", \"Student_8\", \"Student_9\", \"Student_10\", \"Student_11\", \"Student_12\", \"Student_13\", \"Student_14\", \"Student_15\", \"Student_16\", \"Student_17\", \"Student_18\", \"Student_19\", \"Student_20\"], \"y\": [1, 21, 5, 23, 15, 10, 9, 12, 16, 6, 25, 15, 27, 28, 23, 29, 2, 11, 13, 22], \"type\": \"bar\", \"uid\": \"1a738bcc-e2e8-11e8-96ad-27ad55f30ab3\"}, {\"name\": \"Quiz1\", \"x\": [\"Student_1\", \"Student_2\", \"Student_3\", \"Student_4\", \"Student_5\", \"Student_6\", \"Student_7\", \"Student_8\", \"Student_9\", \"Student_10\", \"Student_11\", \"Student_12\", \"Student_13\", \"Student_14\", \"Student_15\", \"Student_16\", \"Student_17\", \"Student_18\", \"Student_19\", \"Student_20\"], \"y\": [14, 23, 17, 25, 6, 16, 27, 9, 22, 13, 21, 13, 9, 23, 19, 11, 23, 9, 0, 23], \"type\": \"bar\", \"uid\": \"1a738cda-e2e8-11e8-96ad-27ad55f30ab3\"}, {\"name\": \"Quiz2\", \"x\": [\"Student_1\", \"Student_2\", \"Student_3\", \"Student_4\", \"Student_5\", \"Student_6\", \"Student_7\", \"Student_8\", \"Student_9\", \"Student_10\", \"Student_11\", \"Student_12\", \"Student_13\", \"Student_14\", \"Student_15\", \"Student_16\", \"Student_17\", \"Student_18\", \"Student_19\", \"Student_20\"], \"y\": [3, 21, 3, 13, 10, 8, 18, 1, 28, 13, 7, 11, 6, 28, 4, 7, 22, 11, 2, 20], \"type\": \"bar\", \"uid\": \"1a738dc0-e2e8-11e8-96ad-27ad55f30ab3\"}, {\"name\": \"Pdf1\", \"x\": [\"Student_1\", \"Student_2\", \"Student_3\", \"Student_4\", \"Student_5\", \"Student_6\", \"Student_7\", \"Student_8\", \"Student_9\", \"Student_10\", \"Student_11\", \"Student_12\", \"Student_13\", \"Student_14\", \"Student_15\", \"Student_16\", \"Student_17\", \"Student_18\", \"Student_19\", \"Student_20\"], \"y\": [16, 8, 10, 16, 6, 28, 3, 0, 8, 10, 5, 28, 19, 27, 26, 29, 13, 11, 1, 29], \"type\": \"bar\", \"uid\": \"1a738e92-e2e8-11e8-96ad-27ad55f30ab3\"}, {\"name\": \"Pdf2\", \"x\": [\"Student_1\", \"Student_2\", \"Student_3\", \"Student_4\", \"Student_5\", \"Student_6\", \"Student_7\", \"Student_8\", \"Student_9\", \"Student_10\", \"Student_11\", \"Student_12\", \"Student_13\", \"Student_14\", \"Student_15\", \"Student_16\", \"Student_17\", \"Student_18\", \"Student_19\", \"Student_20\"], \"y\": [28, 27, 3, 22, 4, 6, 20, 8, 9, 12, 19, 6, 2, 13, 18, 29, 11, 17, 18, 20], \"type\": \"bar\", \"uid\": \"1a738f64-e2e8-11e8-96ad-27ad55f30ab3\"}, {\"name\": \"Ebook1\", \"x\": [\"Student_1\", \"Student_2\", \"Student_3\", \"Student_4\", \"Student_5\", \"Student_6\", \"Student_7\", \"Student_8\", \"Student_9\", \"Student_10\", \"Student_11\", \"Student_12\", \"Student_13\", \"Student_14\", \"Student_15\", \"Student_16\", \"Student_17\", \"Student_18\", \"Student_19\", \"Student_20\"], \"y\": [18, 25, 13, 22, 7, 24, 0, 2, 22, 27, 25, 12, 25, 21, 29, 7, 26, 24, 20, 21], \"type\": \"bar\", \"uid\": \"1a73902c-e2e8-11e8-96ad-27ad55f30ab3\"}, {\"name\": \"Ebook2\", \"x\": [\"Student_1\", \"Student_2\", \"Student_3\", \"Student_4\", \"Student_5\", \"Student_6\", \"Student_7\", \"Student_8\", \"Student_9\", \"Student_10\", \"Student_11\", \"Student_12\", \"Student_13\", \"Student_14\", \"Student_15\", \"Student_16\", \"Student_17\", \"Student_18\", \"Student_19\", \"Student_20\"], \"y\": [10, 13, 19, 10, 24, 4, 4, 10, 9, 19, 6, 3, 10, 0, 16, 11, 6, 13, 21, 9], \"type\": \"bar\", \"uid\": \"1a7390e0-e2e8-11e8-96ad-27ad55f30ab3\"}], {\"title\": \"N\\u00famero de acessos nos materiais agrupados por estudante\", \"yaxis\": {\"dtick\": 5, \"exponentformat\": \"e\", \"gridcolor\": \"#bdbdbd\", \"showexponent\": \"all\", \"showticklabels\": true, \"tick0\": 0, \"titlefont\": {\"color\": \"lightgrey\", \"family\": \"Arial, sans-serif\"}}}, {\"showLink\": true, \"linkText\": \"Export to plot.ly\"})});</script>"
      ],
      "text/vnd.plotly.v1+html": [
       "<div id=\"5b50dedf-7e06-46d0-b5e3-bb68c19baae6\" style=\"height: 525px; width: 100%;\" class=\"plotly-graph-div\"></div><script type=\"text/javascript\">require([\"plotly\"], function(Plotly) { window.PLOTLYENV=window.PLOTLYENV || {};window.PLOTLYENV.BASE_URL=\"https://plot.ly\";Plotly.newPlot(\"5b50dedf-7e06-46d0-b5e3-bb68c19baae6\", [{\"name\": \"Video1\", \"x\": [\"Student_1\", \"Student_2\", \"Student_3\", \"Student_4\", \"Student_5\", \"Student_6\", \"Student_7\", \"Student_8\", \"Student_9\", \"Student_10\", \"Student_11\", \"Student_12\", \"Student_13\", \"Student_14\", \"Student_15\", \"Student_16\", \"Student_17\", \"Student_18\", \"Student_19\", \"Student_20\"], \"y\": [17, 12, 14, 27, 9, 15, 13, 24, 4, 26, 19, 19, 23, 29, 11, 12, 21, 28, 4, 20], \"type\": \"bar\", \"uid\": \"1a7389ec-e2e8-11e8-96ad-27ad55f30ab3\"}, {\"name\": \"Video2\", \"x\": [\"Student_1\", \"Student_2\", \"Student_3\", \"Student_4\", \"Student_5\", \"Student_6\", \"Student_7\", \"Student_8\", \"Student_9\", \"Student_10\", \"Student_11\", \"Student_12\", \"Student_13\", \"Student_14\", \"Student_15\", \"Student_16\", \"Student_17\", \"Student_18\", \"Student_19\", \"Student_20\"], \"y\": [1, 21, 5, 23, 15, 10, 9, 12, 16, 6, 25, 15, 27, 28, 23, 29, 2, 11, 13, 22], \"type\": \"bar\", \"uid\": \"1a738bcc-e2e8-11e8-96ad-27ad55f30ab3\"}, {\"name\": \"Quiz1\", \"x\": [\"Student_1\", \"Student_2\", \"Student_3\", \"Student_4\", \"Student_5\", \"Student_6\", \"Student_7\", \"Student_8\", \"Student_9\", \"Student_10\", \"Student_11\", \"Student_12\", \"Student_13\", \"Student_14\", \"Student_15\", \"Student_16\", \"Student_17\", \"Student_18\", \"Student_19\", \"Student_20\"], \"y\": [14, 23, 17, 25, 6, 16, 27, 9, 22, 13, 21, 13, 9, 23, 19, 11, 23, 9, 0, 23], \"type\": \"bar\", \"uid\": \"1a738cda-e2e8-11e8-96ad-27ad55f30ab3\"}, {\"name\": \"Quiz2\", \"x\": [\"Student_1\", \"Student_2\", \"Student_3\", \"Student_4\", \"Student_5\", \"Student_6\", \"Student_7\", \"Student_8\", \"Student_9\", \"Student_10\", \"Student_11\", \"Student_12\", \"Student_13\", \"Student_14\", \"Student_15\", \"Student_16\", \"Student_17\", \"Student_18\", \"Student_19\", \"Student_20\"], \"y\": [3, 21, 3, 13, 10, 8, 18, 1, 28, 13, 7, 11, 6, 28, 4, 7, 22, 11, 2, 20], \"type\": \"bar\", \"uid\": \"1a738dc0-e2e8-11e8-96ad-27ad55f30ab3\"}, {\"name\": \"Pdf1\", \"x\": [\"Student_1\", \"Student_2\", \"Student_3\", \"Student_4\", \"Student_5\", \"Student_6\", \"Student_7\", \"Student_8\", \"Student_9\", \"Student_10\", \"Student_11\", \"Student_12\", \"Student_13\", \"Student_14\", \"Student_15\", \"Student_16\", \"Student_17\", \"Student_18\", \"Student_19\", \"Student_20\"], \"y\": [16, 8, 10, 16, 6, 28, 3, 0, 8, 10, 5, 28, 19, 27, 26, 29, 13, 11, 1, 29], \"type\": \"bar\", \"uid\": \"1a738e92-e2e8-11e8-96ad-27ad55f30ab3\"}, {\"name\": \"Pdf2\", \"x\": [\"Student_1\", \"Student_2\", \"Student_3\", \"Student_4\", \"Student_5\", \"Student_6\", \"Student_7\", \"Student_8\", \"Student_9\", \"Student_10\", \"Student_11\", \"Student_12\", \"Student_13\", \"Student_14\", \"Student_15\", \"Student_16\", \"Student_17\", \"Student_18\", \"Student_19\", \"Student_20\"], \"y\": [28, 27, 3, 22, 4, 6, 20, 8, 9, 12, 19, 6, 2, 13, 18, 29, 11, 17, 18, 20], \"type\": \"bar\", \"uid\": \"1a738f64-e2e8-11e8-96ad-27ad55f30ab3\"}, {\"name\": \"Ebook1\", \"x\": [\"Student_1\", \"Student_2\", \"Student_3\", \"Student_4\", \"Student_5\", \"Student_6\", \"Student_7\", \"Student_8\", \"Student_9\", \"Student_10\", \"Student_11\", \"Student_12\", \"Student_13\", \"Student_14\", \"Student_15\", \"Student_16\", \"Student_17\", \"Student_18\", \"Student_19\", \"Student_20\"], \"y\": [18, 25, 13, 22, 7, 24, 0, 2, 22, 27, 25, 12, 25, 21, 29, 7, 26, 24, 20, 21], \"type\": \"bar\", \"uid\": \"1a73902c-e2e8-11e8-96ad-27ad55f30ab3\"}, {\"name\": \"Ebook2\", \"x\": [\"Student_1\", \"Student_2\", \"Student_3\", \"Student_4\", \"Student_5\", \"Student_6\", \"Student_7\", \"Student_8\", \"Student_9\", \"Student_10\", \"Student_11\", \"Student_12\", \"Student_13\", \"Student_14\", \"Student_15\", \"Student_16\", \"Student_17\", \"Student_18\", \"Student_19\", \"Student_20\"], \"y\": [10, 13, 19, 10, 24, 4, 4, 10, 9, 19, 6, 3, 10, 0, 16, 11, 6, 13, 21, 9], \"type\": \"bar\", \"uid\": \"1a7390e0-e2e8-11e8-96ad-27ad55f30ab3\"}], {\"title\": \"N\\u00famero de acessos nos materiais agrupados por estudante\", \"yaxis\": {\"dtick\": 5, \"exponentformat\": \"e\", \"gridcolor\": \"#bdbdbd\", \"showexponent\": \"all\", \"showticklabels\": true, \"tick0\": 0, \"titlefont\": {\"color\": \"lightgrey\", \"family\": \"Arial, sans-serif\"}}}, {\"showLink\": true, \"linkText\": \"Export to plot.ly\"})});</script>"
      ]
     },
     "metadata": {},
     "output_type": "display_data"
    },
    {
     "data": {
      "application/vnd.plotly.v1+json": {
       "data": [
        {
         "name": "Video1",
         "type": "bar",
         "uid": "1a7ced98-e2e8-11e8-96ad-27ad55f30ab3",
         "x": [
          "Student_1",
          "Student_2",
          "Student_3",
          "Student_4",
          "Student_5",
          "Student_6",
          "Student_7",
          "Student_8",
          "Student_9",
          "Student_10",
          "Student_11",
          "Student_12",
          "Student_13",
          "Student_14",
          "Student_15",
          "Student_16",
          "Student_17",
          "Student_18",
          "Student_19",
          "Student_20"
         ],
         "y": [
          17,
          12,
          14,
          27,
          9,
          15,
          13,
          24,
          4,
          26,
          19,
          19,
          23,
          29,
          11,
          12,
          21,
          28,
          4,
          20
         ]
        },
        {
         "name": "Video2",
         "type": "bar",
         "uid": "1a7cef5a-e2e8-11e8-96ad-27ad55f30ab3",
         "x": [
          "Student_1",
          "Student_2",
          "Student_3",
          "Student_4",
          "Student_5",
          "Student_6",
          "Student_7",
          "Student_8",
          "Student_9",
          "Student_10",
          "Student_11",
          "Student_12",
          "Student_13",
          "Student_14",
          "Student_15",
          "Student_16",
          "Student_17",
          "Student_18",
          "Student_19",
          "Student_20"
         ],
         "y": [
          1,
          21,
          5,
          23,
          15,
          10,
          9,
          12,
          16,
          6,
          25,
          15,
          27,
          28,
          23,
          29,
          2,
          11,
          13,
          22
         ]
        },
        {
         "name": "Quiz1",
         "type": "bar",
         "uid": "1a7cf022-e2e8-11e8-96ad-27ad55f30ab3",
         "x": [
          "Student_1",
          "Student_2",
          "Student_3",
          "Student_4",
          "Student_5",
          "Student_6",
          "Student_7",
          "Student_8",
          "Student_9",
          "Student_10",
          "Student_11",
          "Student_12",
          "Student_13",
          "Student_14",
          "Student_15",
          "Student_16",
          "Student_17",
          "Student_18",
          "Student_19",
          "Student_20"
         ],
         "y": [
          14,
          23,
          17,
          25,
          6,
          16,
          27,
          9,
          22,
          13,
          21,
          13,
          9,
          23,
          19,
          11,
          23,
          9,
          0,
          23
         ]
        },
        {
         "name": "Quiz2",
         "type": "bar",
         "uid": "1a7cf0cc-e2e8-11e8-96ad-27ad55f30ab3",
         "x": [
          "Student_1",
          "Student_2",
          "Student_3",
          "Student_4",
          "Student_5",
          "Student_6",
          "Student_7",
          "Student_8",
          "Student_9",
          "Student_10",
          "Student_11",
          "Student_12",
          "Student_13",
          "Student_14",
          "Student_15",
          "Student_16",
          "Student_17",
          "Student_18",
          "Student_19",
          "Student_20"
         ],
         "y": [
          3,
          21,
          3,
          13,
          10,
          8,
          18,
          1,
          28,
          13,
          7,
          11,
          6,
          28,
          4,
          7,
          22,
          11,
          2,
          20
         ]
        },
        {
         "name": "Pdf1",
         "type": "bar",
         "uid": "1a7cf162-e2e8-11e8-96ad-27ad55f30ab3",
         "x": [
          "Student_1",
          "Student_2",
          "Student_3",
          "Student_4",
          "Student_5",
          "Student_6",
          "Student_7",
          "Student_8",
          "Student_9",
          "Student_10",
          "Student_11",
          "Student_12",
          "Student_13",
          "Student_14",
          "Student_15",
          "Student_16",
          "Student_17",
          "Student_18",
          "Student_19",
          "Student_20"
         ],
         "y": [
          16,
          8,
          10,
          16,
          6,
          28,
          3,
          0,
          8,
          10,
          5,
          28,
          19,
          27,
          26,
          29,
          13,
          11,
          1,
          29
         ]
        },
        {
         "name": "Pdf2",
         "type": "bar",
         "uid": "1a7cf1e4-e2e8-11e8-96ad-27ad55f30ab3",
         "x": [
          "Student_1",
          "Student_2",
          "Student_3",
          "Student_4",
          "Student_5",
          "Student_6",
          "Student_7",
          "Student_8",
          "Student_9",
          "Student_10",
          "Student_11",
          "Student_12",
          "Student_13",
          "Student_14",
          "Student_15",
          "Student_16",
          "Student_17",
          "Student_18",
          "Student_19",
          "Student_20"
         ],
         "y": [
          28,
          27,
          3,
          22,
          4,
          6,
          20,
          8,
          9,
          12,
          19,
          6,
          2,
          13,
          18,
          29,
          11,
          17,
          18,
          20
         ]
        },
        {
         "name": "Ebook1",
         "type": "bar",
         "uid": "1a7cf266-e2e8-11e8-96ad-27ad55f30ab3",
         "x": [
          "Student_1",
          "Student_2",
          "Student_3",
          "Student_4",
          "Student_5",
          "Student_6",
          "Student_7",
          "Student_8",
          "Student_9",
          "Student_10",
          "Student_11",
          "Student_12",
          "Student_13",
          "Student_14",
          "Student_15",
          "Student_16",
          "Student_17",
          "Student_18",
          "Student_19",
          "Student_20"
         ],
         "y": [
          18,
          25,
          13,
          22,
          7,
          24,
          0,
          2,
          22,
          27,
          25,
          12,
          25,
          21,
          29,
          7,
          26,
          24,
          20,
          21
         ]
        },
        {
         "name": "Ebook2",
         "type": "bar",
         "uid": "1a7cf2de-e2e8-11e8-96ad-27ad55f30ab3",
         "x": [
          "Student_1",
          "Student_2",
          "Student_3",
          "Student_4",
          "Student_5",
          "Student_6",
          "Student_7",
          "Student_8",
          "Student_9",
          "Student_10",
          "Student_11",
          "Student_12",
          "Student_13",
          "Student_14",
          "Student_15",
          "Student_16",
          "Student_17",
          "Student_18",
          "Student_19",
          "Student_20"
         ],
         "y": [
          10,
          13,
          19,
          10,
          24,
          4,
          4,
          10,
          9,
          19,
          6,
          3,
          10,
          0,
          16,
          11,
          6,
          13,
          21,
          9
         ]
        }
       ],
       "layout": {
        "barmode": "stack",
        "title": "Número de acessos nos materiais agrupados por estudante",
        "yaxis": {
         "dtick": 15,
         "exponentformat": "e",
         "gridcolor": "#bdbdbd",
         "showexponent": "all",
         "showticklabels": true,
         "tick0": 0,
         "titlefont": {
          "color": "lightgrey",
          "family": "Arial, sans-serif"
         }
        }
       }
      },
      "text/html": [
       "<div id=\"0c7dea1e-e7a2-4aad-ab6c-1d7c5ba12e34\" style=\"height: 525px; width: 100%;\" class=\"plotly-graph-div\"></div><script type=\"text/javascript\">require([\"plotly\"], function(Plotly) { window.PLOTLYENV=window.PLOTLYENV || {};window.PLOTLYENV.BASE_URL=\"https://plot.ly\";Plotly.newPlot(\"0c7dea1e-e7a2-4aad-ab6c-1d7c5ba12e34\", [{\"name\": \"Video1\", \"x\": [\"Student_1\", \"Student_2\", \"Student_3\", \"Student_4\", \"Student_5\", \"Student_6\", \"Student_7\", \"Student_8\", \"Student_9\", \"Student_10\", \"Student_11\", \"Student_12\", \"Student_13\", \"Student_14\", \"Student_15\", \"Student_16\", \"Student_17\", \"Student_18\", \"Student_19\", \"Student_20\"], \"y\": [17, 12, 14, 27, 9, 15, 13, 24, 4, 26, 19, 19, 23, 29, 11, 12, 21, 28, 4, 20], \"type\": \"bar\", \"uid\": \"1a7ced98-e2e8-11e8-96ad-27ad55f30ab3\"}, {\"name\": \"Video2\", \"x\": [\"Student_1\", \"Student_2\", \"Student_3\", \"Student_4\", \"Student_5\", \"Student_6\", \"Student_7\", \"Student_8\", \"Student_9\", \"Student_10\", \"Student_11\", \"Student_12\", \"Student_13\", \"Student_14\", \"Student_15\", \"Student_16\", \"Student_17\", \"Student_18\", \"Student_19\", \"Student_20\"], \"y\": [1, 21, 5, 23, 15, 10, 9, 12, 16, 6, 25, 15, 27, 28, 23, 29, 2, 11, 13, 22], \"type\": \"bar\", \"uid\": \"1a7cef5a-e2e8-11e8-96ad-27ad55f30ab3\"}, {\"name\": \"Quiz1\", \"x\": [\"Student_1\", \"Student_2\", \"Student_3\", \"Student_4\", \"Student_5\", \"Student_6\", \"Student_7\", \"Student_8\", \"Student_9\", \"Student_10\", \"Student_11\", \"Student_12\", \"Student_13\", \"Student_14\", \"Student_15\", \"Student_16\", \"Student_17\", \"Student_18\", \"Student_19\", \"Student_20\"], \"y\": [14, 23, 17, 25, 6, 16, 27, 9, 22, 13, 21, 13, 9, 23, 19, 11, 23, 9, 0, 23], \"type\": \"bar\", \"uid\": \"1a7cf022-e2e8-11e8-96ad-27ad55f30ab3\"}, {\"name\": \"Quiz2\", \"x\": [\"Student_1\", \"Student_2\", \"Student_3\", \"Student_4\", \"Student_5\", \"Student_6\", \"Student_7\", \"Student_8\", \"Student_9\", \"Student_10\", \"Student_11\", \"Student_12\", \"Student_13\", \"Student_14\", \"Student_15\", \"Student_16\", \"Student_17\", \"Student_18\", \"Student_19\", \"Student_20\"], \"y\": [3, 21, 3, 13, 10, 8, 18, 1, 28, 13, 7, 11, 6, 28, 4, 7, 22, 11, 2, 20], \"type\": \"bar\", \"uid\": \"1a7cf0cc-e2e8-11e8-96ad-27ad55f30ab3\"}, {\"name\": \"Pdf1\", \"x\": [\"Student_1\", \"Student_2\", \"Student_3\", \"Student_4\", \"Student_5\", \"Student_6\", \"Student_7\", \"Student_8\", \"Student_9\", \"Student_10\", \"Student_11\", \"Student_12\", \"Student_13\", \"Student_14\", \"Student_15\", \"Student_16\", \"Student_17\", \"Student_18\", \"Student_19\", \"Student_20\"], \"y\": [16, 8, 10, 16, 6, 28, 3, 0, 8, 10, 5, 28, 19, 27, 26, 29, 13, 11, 1, 29], \"type\": \"bar\", \"uid\": \"1a7cf162-e2e8-11e8-96ad-27ad55f30ab3\"}, {\"name\": \"Pdf2\", \"x\": [\"Student_1\", \"Student_2\", \"Student_3\", \"Student_4\", \"Student_5\", \"Student_6\", \"Student_7\", \"Student_8\", \"Student_9\", \"Student_10\", \"Student_11\", \"Student_12\", \"Student_13\", \"Student_14\", \"Student_15\", \"Student_16\", \"Student_17\", \"Student_18\", \"Student_19\", \"Student_20\"], \"y\": [28, 27, 3, 22, 4, 6, 20, 8, 9, 12, 19, 6, 2, 13, 18, 29, 11, 17, 18, 20], \"type\": \"bar\", \"uid\": \"1a7cf1e4-e2e8-11e8-96ad-27ad55f30ab3\"}, {\"name\": \"Ebook1\", \"x\": [\"Student_1\", \"Student_2\", \"Student_3\", \"Student_4\", \"Student_5\", \"Student_6\", \"Student_7\", \"Student_8\", \"Student_9\", \"Student_10\", \"Student_11\", \"Student_12\", \"Student_13\", \"Student_14\", \"Student_15\", \"Student_16\", \"Student_17\", \"Student_18\", \"Student_19\", \"Student_20\"], \"y\": [18, 25, 13, 22, 7, 24, 0, 2, 22, 27, 25, 12, 25, 21, 29, 7, 26, 24, 20, 21], \"type\": \"bar\", \"uid\": \"1a7cf266-e2e8-11e8-96ad-27ad55f30ab3\"}, {\"name\": \"Ebook2\", \"x\": [\"Student_1\", \"Student_2\", \"Student_3\", \"Student_4\", \"Student_5\", \"Student_6\", \"Student_7\", \"Student_8\", \"Student_9\", \"Student_10\", \"Student_11\", \"Student_12\", \"Student_13\", \"Student_14\", \"Student_15\", \"Student_16\", \"Student_17\", \"Student_18\", \"Student_19\", \"Student_20\"], \"y\": [10, 13, 19, 10, 24, 4, 4, 10, 9, 19, 6, 3, 10, 0, 16, 11, 6, 13, 21, 9], \"type\": \"bar\", \"uid\": \"1a7cf2de-e2e8-11e8-96ad-27ad55f30ab3\"}], {\"barmode\": \"stack\", \"title\": \"N\\u00famero de acessos nos materiais agrupados por estudante\", \"yaxis\": {\"dtick\": 15, \"exponentformat\": \"e\", \"gridcolor\": \"#bdbdbd\", \"showexponent\": \"all\", \"showticklabels\": true, \"tick0\": 0, \"titlefont\": {\"color\": \"lightgrey\", \"family\": \"Arial, sans-serif\"}}}, {\"showLink\": true, \"linkText\": \"Export to plot.ly\"})});</script>"
      ],
      "text/vnd.plotly.v1+html": [
       "<div id=\"0c7dea1e-e7a2-4aad-ab6c-1d7c5ba12e34\" style=\"height: 525px; width: 100%;\" class=\"plotly-graph-div\"></div><script type=\"text/javascript\">require([\"plotly\"], function(Plotly) { window.PLOTLYENV=window.PLOTLYENV || {};window.PLOTLYENV.BASE_URL=\"https://plot.ly\";Plotly.newPlot(\"0c7dea1e-e7a2-4aad-ab6c-1d7c5ba12e34\", [{\"name\": \"Video1\", \"x\": [\"Student_1\", \"Student_2\", \"Student_3\", \"Student_4\", \"Student_5\", \"Student_6\", \"Student_7\", \"Student_8\", \"Student_9\", \"Student_10\", \"Student_11\", \"Student_12\", \"Student_13\", \"Student_14\", \"Student_15\", \"Student_16\", \"Student_17\", \"Student_18\", \"Student_19\", \"Student_20\"], \"y\": [17, 12, 14, 27, 9, 15, 13, 24, 4, 26, 19, 19, 23, 29, 11, 12, 21, 28, 4, 20], \"type\": \"bar\", \"uid\": \"1a7ced98-e2e8-11e8-96ad-27ad55f30ab3\"}, {\"name\": \"Video2\", \"x\": [\"Student_1\", \"Student_2\", \"Student_3\", \"Student_4\", \"Student_5\", \"Student_6\", \"Student_7\", \"Student_8\", \"Student_9\", \"Student_10\", \"Student_11\", \"Student_12\", \"Student_13\", \"Student_14\", \"Student_15\", \"Student_16\", \"Student_17\", \"Student_18\", \"Student_19\", \"Student_20\"], \"y\": [1, 21, 5, 23, 15, 10, 9, 12, 16, 6, 25, 15, 27, 28, 23, 29, 2, 11, 13, 22], \"type\": \"bar\", \"uid\": \"1a7cef5a-e2e8-11e8-96ad-27ad55f30ab3\"}, {\"name\": \"Quiz1\", \"x\": [\"Student_1\", \"Student_2\", \"Student_3\", \"Student_4\", \"Student_5\", \"Student_6\", \"Student_7\", \"Student_8\", \"Student_9\", \"Student_10\", \"Student_11\", \"Student_12\", \"Student_13\", \"Student_14\", \"Student_15\", \"Student_16\", \"Student_17\", \"Student_18\", \"Student_19\", \"Student_20\"], \"y\": [14, 23, 17, 25, 6, 16, 27, 9, 22, 13, 21, 13, 9, 23, 19, 11, 23, 9, 0, 23], \"type\": \"bar\", \"uid\": \"1a7cf022-e2e8-11e8-96ad-27ad55f30ab3\"}, {\"name\": \"Quiz2\", \"x\": [\"Student_1\", \"Student_2\", \"Student_3\", \"Student_4\", \"Student_5\", \"Student_6\", \"Student_7\", \"Student_8\", \"Student_9\", \"Student_10\", \"Student_11\", \"Student_12\", \"Student_13\", \"Student_14\", \"Student_15\", \"Student_16\", \"Student_17\", \"Student_18\", \"Student_19\", \"Student_20\"], \"y\": [3, 21, 3, 13, 10, 8, 18, 1, 28, 13, 7, 11, 6, 28, 4, 7, 22, 11, 2, 20], \"type\": \"bar\", \"uid\": \"1a7cf0cc-e2e8-11e8-96ad-27ad55f30ab3\"}, {\"name\": \"Pdf1\", \"x\": [\"Student_1\", \"Student_2\", \"Student_3\", \"Student_4\", \"Student_5\", \"Student_6\", \"Student_7\", \"Student_8\", \"Student_9\", \"Student_10\", \"Student_11\", \"Student_12\", \"Student_13\", \"Student_14\", \"Student_15\", \"Student_16\", \"Student_17\", \"Student_18\", \"Student_19\", \"Student_20\"], \"y\": [16, 8, 10, 16, 6, 28, 3, 0, 8, 10, 5, 28, 19, 27, 26, 29, 13, 11, 1, 29], \"type\": \"bar\", \"uid\": \"1a7cf162-e2e8-11e8-96ad-27ad55f30ab3\"}, {\"name\": \"Pdf2\", \"x\": [\"Student_1\", \"Student_2\", \"Student_3\", \"Student_4\", \"Student_5\", \"Student_6\", \"Student_7\", \"Student_8\", \"Student_9\", \"Student_10\", \"Student_11\", \"Student_12\", \"Student_13\", \"Student_14\", \"Student_15\", \"Student_16\", \"Student_17\", \"Student_18\", \"Student_19\", \"Student_20\"], \"y\": [28, 27, 3, 22, 4, 6, 20, 8, 9, 12, 19, 6, 2, 13, 18, 29, 11, 17, 18, 20], \"type\": \"bar\", \"uid\": \"1a7cf1e4-e2e8-11e8-96ad-27ad55f30ab3\"}, {\"name\": \"Ebook1\", \"x\": [\"Student_1\", \"Student_2\", \"Student_3\", \"Student_4\", \"Student_5\", \"Student_6\", \"Student_7\", \"Student_8\", \"Student_9\", \"Student_10\", \"Student_11\", \"Student_12\", \"Student_13\", \"Student_14\", \"Student_15\", \"Student_16\", \"Student_17\", \"Student_18\", \"Student_19\", \"Student_20\"], \"y\": [18, 25, 13, 22, 7, 24, 0, 2, 22, 27, 25, 12, 25, 21, 29, 7, 26, 24, 20, 21], \"type\": \"bar\", \"uid\": \"1a7cf266-e2e8-11e8-96ad-27ad55f30ab3\"}, {\"name\": \"Ebook2\", \"x\": [\"Student_1\", \"Student_2\", \"Student_3\", \"Student_4\", \"Student_5\", \"Student_6\", \"Student_7\", \"Student_8\", \"Student_9\", \"Student_10\", \"Student_11\", \"Student_12\", \"Student_13\", \"Student_14\", \"Student_15\", \"Student_16\", \"Student_17\", \"Student_18\", \"Student_19\", \"Student_20\"], \"y\": [10, 13, 19, 10, 24, 4, 4, 10, 9, 19, 6, 3, 10, 0, 16, 11, 6, 13, 21, 9], \"type\": \"bar\", \"uid\": \"1a7cf2de-e2e8-11e8-96ad-27ad55f30ab3\"}], {\"barmode\": \"stack\", \"title\": \"N\\u00famero de acessos nos materiais agrupados por estudante\", \"yaxis\": {\"dtick\": 15, \"exponentformat\": \"e\", \"gridcolor\": \"#bdbdbd\", \"showexponent\": \"all\", \"showticklabels\": true, \"tick0\": 0, \"titlefont\": {\"color\": \"lightgrey\", \"family\": \"Arial, sans-serif\"}}}, {\"showLink\": true, \"linkText\": \"Export to plot.ly\"})});</script>"
      ]
     },
     "metadata": {},
     "output_type": "display_data"
    },
    {
     "data": {
      "application/vnd.plotly.v1+json": {
       "data": [
        {
         "name": "Video1",
         "orientation": "h",
         "type": "bar",
         "uid": "1a8640c8-e2e8-11e8-96ad-27ad55f30ab3",
         "x": [
          17,
          12,
          14,
          27,
          9,
          15,
          13,
          24,
          4,
          26,
          19,
          19,
          23,
          29,
          11,
          12,
          21,
          28,
          4,
          20
         ],
         "y": [
          "Student_1",
          "Student_2",
          "Student_3",
          "Student_4",
          "Student_5",
          "Student_6",
          "Student_7",
          "Student_8",
          "Student_9",
          "Student_10",
          "Student_11",
          "Student_12",
          "Student_13",
          "Student_14",
          "Student_15",
          "Student_16",
          "Student_17",
          "Student_18",
          "Student_19",
          "Student_20"
         ]
        },
        {
         "name": "Video2",
         "orientation": "h",
         "type": "bar",
         "uid": "1a864294-e2e8-11e8-96ad-27ad55f30ab3",
         "x": [
          1,
          21,
          5,
          23,
          15,
          10,
          9,
          12,
          16,
          6,
          25,
          15,
          27,
          28,
          23,
          29,
          2,
          11,
          13,
          22
         ],
         "y": [
          "Student_1",
          "Student_2",
          "Student_3",
          "Student_4",
          "Student_5",
          "Student_6",
          "Student_7",
          "Student_8",
          "Student_9",
          "Student_10",
          "Student_11",
          "Student_12",
          "Student_13",
          "Student_14",
          "Student_15",
          "Student_16",
          "Student_17",
          "Student_18",
          "Student_19",
          "Student_20"
         ]
        },
        {
         "name": "Quiz1",
         "orientation": "h",
         "type": "bar",
         "uid": "1a864370-e2e8-11e8-96ad-27ad55f30ab3",
         "x": [
          14,
          23,
          17,
          25,
          6,
          16,
          27,
          9,
          22,
          13,
          21,
          13,
          9,
          23,
          19,
          11,
          23,
          9,
          0,
          23
         ],
         "y": [
          "Student_1",
          "Student_2",
          "Student_3",
          "Student_4",
          "Student_5",
          "Student_6",
          "Student_7",
          "Student_8",
          "Student_9",
          "Student_10",
          "Student_11",
          "Student_12",
          "Student_13",
          "Student_14",
          "Student_15",
          "Student_16",
          "Student_17",
          "Student_18",
          "Student_19",
          "Student_20"
         ]
        },
        {
         "name": "Quiz2",
         "orientation": "h",
         "type": "bar",
         "uid": "1a864424-e2e8-11e8-96ad-27ad55f30ab3",
         "x": [
          3,
          21,
          3,
          13,
          10,
          8,
          18,
          1,
          28,
          13,
          7,
          11,
          6,
          28,
          4,
          7,
          22,
          11,
          2,
          20
         ],
         "y": [
          "Student_1",
          "Student_2",
          "Student_3",
          "Student_4",
          "Student_5",
          "Student_6",
          "Student_7",
          "Student_8",
          "Student_9",
          "Student_10",
          "Student_11",
          "Student_12",
          "Student_13",
          "Student_14",
          "Student_15",
          "Student_16",
          "Student_17",
          "Student_18",
          "Student_19",
          "Student_20"
         ]
        },
        {
         "name": "Pdf1",
         "orientation": "h",
         "type": "bar",
         "uid": "1a8644ba-e2e8-11e8-96ad-27ad55f30ab3",
         "x": [
          16,
          8,
          10,
          16,
          6,
          28,
          3,
          0,
          8,
          10,
          5,
          28,
          19,
          27,
          26,
          29,
          13,
          11,
          1,
          29
         ],
         "y": [
          "Student_1",
          "Student_2",
          "Student_3",
          "Student_4",
          "Student_5",
          "Student_6",
          "Student_7",
          "Student_8",
          "Student_9",
          "Student_10",
          "Student_11",
          "Student_12",
          "Student_13",
          "Student_14",
          "Student_15",
          "Student_16",
          "Student_17",
          "Student_18",
          "Student_19",
          "Student_20"
         ]
        },
        {
         "name": "Pdf2",
         "orientation": "h",
         "type": "bar",
         "uid": "1a86455a-e2e8-11e8-96ad-27ad55f30ab3",
         "x": [
          28,
          27,
          3,
          22,
          4,
          6,
          20,
          8,
          9,
          12,
          19,
          6,
          2,
          13,
          18,
          29,
          11,
          17,
          18,
          20
         ],
         "y": [
          "Student_1",
          "Student_2",
          "Student_3",
          "Student_4",
          "Student_5",
          "Student_6",
          "Student_7",
          "Student_8",
          "Student_9",
          "Student_10",
          "Student_11",
          "Student_12",
          "Student_13",
          "Student_14",
          "Student_15",
          "Student_16",
          "Student_17",
          "Student_18",
          "Student_19",
          "Student_20"
         ]
        },
        {
         "name": "Ebook1",
         "orientation": "h",
         "type": "bar",
         "uid": "1a8645e6-e2e8-11e8-96ad-27ad55f30ab3",
         "x": [
          18,
          25,
          13,
          22,
          7,
          24,
          0,
          2,
          22,
          27,
          25,
          12,
          25,
          21,
          29,
          7,
          26,
          24,
          20,
          21
         ],
         "y": [
          "Student_1",
          "Student_2",
          "Student_3",
          "Student_4",
          "Student_5",
          "Student_6",
          "Student_7",
          "Student_8",
          "Student_9",
          "Student_10",
          "Student_11",
          "Student_12",
          "Student_13",
          "Student_14",
          "Student_15",
          "Student_16",
          "Student_17",
          "Student_18",
          "Student_19",
          "Student_20"
         ]
        },
        {
         "name": "Ebook2",
         "orientation": "h",
         "type": "bar",
         "uid": "1a864668-e2e8-11e8-96ad-27ad55f30ab3",
         "x": [
          10,
          13,
          19,
          10,
          24,
          4,
          4,
          10,
          9,
          19,
          6,
          3,
          10,
          0,
          16,
          11,
          6,
          13,
          21,
          9
         ],
         "y": [
          "Student_1",
          "Student_2",
          "Student_3",
          "Student_4",
          "Student_5",
          "Student_6",
          "Student_7",
          "Student_8",
          "Student_9",
          "Student_10",
          "Student_11",
          "Student_12",
          "Student_13",
          "Student_14",
          "Student_15",
          "Student_16",
          "Student_17",
          "Student_18",
          "Student_19",
          "Student_20"
         ]
        }
       ],
       "layout": {
        "barmode": "stack",
        "title": "Número de acessos nos materiais agrupados por estudante",
        "yaxis": {
         "dtick": 1,
         "exponentformat": "e",
         "gridcolor": "#bdbdbd",
         "showexponent": "all",
         "showticklabels": true,
         "tick0": 0,
         "titlefont": {
          "color": "lightgrey",
          "family": "Arial, sans-serif"
         }
        }
       }
      },
      "text/html": [
       "<div id=\"59271669-4e33-4e60-8fef-b7563a7dca34\" style=\"height: 525px; width: 100%;\" class=\"plotly-graph-div\"></div><script type=\"text/javascript\">require([\"plotly\"], function(Plotly) { window.PLOTLYENV=window.PLOTLYENV || {};window.PLOTLYENV.BASE_URL=\"https://plot.ly\";Plotly.newPlot(\"59271669-4e33-4e60-8fef-b7563a7dca34\", [{\"name\": \"Video1\", \"orientation\": \"h\", \"x\": [17, 12, 14, 27, 9, 15, 13, 24, 4, 26, 19, 19, 23, 29, 11, 12, 21, 28, 4, 20], \"y\": [\"Student_1\", \"Student_2\", \"Student_3\", \"Student_4\", \"Student_5\", \"Student_6\", \"Student_7\", \"Student_8\", \"Student_9\", \"Student_10\", \"Student_11\", \"Student_12\", \"Student_13\", \"Student_14\", \"Student_15\", \"Student_16\", \"Student_17\", \"Student_18\", \"Student_19\", \"Student_20\"], \"type\": \"bar\", \"uid\": \"1a8640c8-e2e8-11e8-96ad-27ad55f30ab3\"}, {\"name\": \"Video2\", \"orientation\": \"h\", \"x\": [1, 21, 5, 23, 15, 10, 9, 12, 16, 6, 25, 15, 27, 28, 23, 29, 2, 11, 13, 22], \"y\": [\"Student_1\", \"Student_2\", \"Student_3\", \"Student_4\", \"Student_5\", \"Student_6\", \"Student_7\", \"Student_8\", \"Student_9\", \"Student_10\", \"Student_11\", \"Student_12\", \"Student_13\", \"Student_14\", \"Student_15\", \"Student_16\", \"Student_17\", \"Student_18\", \"Student_19\", \"Student_20\"], \"type\": \"bar\", \"uid\": \"1a864294-e2e8-11e8-96ad-27ad55f30ab3\"}, {\"name\": \"Quiz1\", \"orientation\": \"h\", \"x\": [14, 23, 17, 25, 6, 16, 27, 9, 22, 13, 21, 13, 9, 23, 19, 11, 23, 9, 0, 23], \"y\": [\"Student_1\", \"Student_2\", \"Student_3\", \"Student_4\", \"Student_5\", \"Student_6\", \"Student_7\", \"Student_8\", \"Student_9\", \"Student_10\", \"Student_11\", \"Student_12\", \"Student_13\", \"Student_14\", \"Student_15\", \"Student_16\", \"Student_17\", \"Student_18\", \"Student_19\", \"Student_20\"], \"type\": \"bar\", \"uid\": \"1a864370-e2e8-11e8-96ad-27ad55f30ab3\"}, {\"name\": \"Quiz2\", \"orientation\": \"h\", \"x\": [3, 21, 3, 13, 10, 8, 18, 1, 28, 13, 7, 11, 6, 28, 4, 7, 22, 11, 2, 20], \"y\": [\"Student_1\", \"Student_2\", \"Student_3\", \"Student_4\", \"Student_5\", \"Student_6\", \"Student_7\", \"Student_8\", \"Student_9\", \"Student_10\", \"Student_11\", \"Student_12\", \"Student_13\", \"Student_14\", \"Student_15\", \"Student_16\", \"Student_17\", \"Student_18\", \"Student_19\", \"Student_20\"], \"type\": \"bar\", \"uid\": \"1a864424-e2e8-11e8-96ad-27ad55f30ab3\"}, {\"name\": \"Pdf1\", \"orientation\": \"h\", \"x\": [16, 8, 10, 16, 6, 28, 3, 0, 8, 10, 5, 28, 19, 27, 26, 29, 13, 11, 1, 29], \"y\": [\"Student_1\", \"Student_2\", \"Student_3\", \"Student_4\", \"Student_5\", \"Student_6\", \"Student_7\", \"Student_8\", \"Student_9\", \"Student_10\", \"Student_11\", \"Student_12\", \"Student_13\", \"Student_14\", \"Student_15\", \"Student_16\", \"Student_17\", \"Student_18\", \"Student_19\", \"Student_20\"], \"type\": \"bar\", \"uid\": \"1a8644ba-e2e8-11e8-96ad-27ad55f30ab3\"}, {\"name\": \"Pdf2\", \"orientation\": \"h\", \"x\": [28, 27, 3, 22, 4, 6, 20, 8, 9, 12, 19, 6, 2, 13, 18, 29, 11, 17, 18, 20], \"y\": [\"Student_1\", \"Student_2\", \"Student_3\", \"Student_4\", \"Student_5\", \"Student_6\", \"Student_7\", \"Student_8\", \"Student_9\", \"Student_10\", \"Student_11\", \"Student_12\", \"Student_13\", \"Student_14\", \"Student_15\", \"Student_16\", \"Student_17\", \"Student_18\", \"Student_19\", \"Student_20\"], \"type\": \"bar\", \"uid\": \"1a86455a-e2e8-11e8-96ad-27ad55f30ab3\"}, {\"name\": \"Ebook1\", \"orientation\": \"h\", \"x\": [18, 25, 13, 22, 7, 24, 0, 2, 22, 27, 25, 12, 25, 21, 29, 7, 26, 24, 20, 21], \"y\": [\"Student_1\", \"Student_2\", \"Student_3\", \"Student_4\", \"Student_5\", \"Student_6\", \"Student_7\", \"Student_8\", \"Student_9\", \"Student_10\", \"Student_11\", \"Student_12\", \"Student_13\", \"Student_14\", \"Student_15\", \"Student_16\", \"Student_17\", \"Student_18\", \"Student_19\", \"Student_20\"], \"type\": \"bar\", \"uid\": \"1a8645e6-e2e8-11e8-96ad-27ad55f30ab3\"}, {\"name\": \"Ebook2\", \"orientation\": \"h\", \"x\": [10, 13, 19, 10, 24, 4, 4, 10, 9, 19, 6, 3, 10, 0, 16, 11, 6, 13, 21, 9], \"y\": [\"Student_1\", \"Student_2\", \"Student_3\", \"Student_4\", \"Student_5\", \"Student_6\", \"Student_7\", \"Student_8\", \"Student_9\", \"Student_10\", \"Student_11\", \"Student_12\", \"Student_13\", \"Student_14\", \"Student_15\", \"Student_16\", \"Student_17\", \"Student_18\", \"Student_19\", \"Student_20\"], \"type\": \"bar\", \"uid\": \"1a864668-e2e8-11e8-96ad-27ad55f30ab3\"}], {\"barmode\": \"stack\", \"title\": \"N\\u00famero de acessos nos materiais agrupados por estudante\", \"yaxis\": {\"dtick\": 1, \"exponentformat\": \"e\", \"gridcolor\": \"#bdbdbd\", \"showexponent\": \"all\", \"showticklabels\": true, \"tick0\": 0, \"titlefont\": {\"color\": \"lightgrey\", \"family\": \"Arial, sans-serif\"}}}, {\"showLink\": true, \"linkText\": \"Export to plot.ly\"})});</script>"
      ],
      "text/vnd.plotly.v1+html": [
       "<div id=\"59271669-4e33-4e60-8fef-b7563a7dca34\" style=\"height: 525px; width: 100%;\" class=\"plotly-graph-div\"></div><script type=\"text/javascript\">require([\"plotly\"], function(Plotly) { window.PLOTLYENV=window.PLOTLYENV || {};window.PLOTLYENV.BASE_URL=\"https://plot.ly\";Plotly.newPlot(\"59271669-4e33-4e60-8fef-b7563a7dca34\", [{\"name\": \"Video1\", \"orientation\": \"h\", \"x\": [17, 12, 14, 27, 9, 15, 13, 24, 4, 26, 19, 19, 23, 29, 11, 12, 21, 28, 4, 20], \"y\": [\"Student_1\", \"Student_2\", \"Student_3\", \"Student_4\", \"Student_5\", \"Student_6\", \"Student_7\", \"Student_8\", \"Student_9\", \"Student_10\", \"Student_11\", \"Student_12\", \"Student_13\", \"Student_14\", \"Student_15\", \"Student_16\", \"Student_17\", \"Student_18\", \"Student_19\", \"Student_20\"], \"type\": \"bar\", \"uid\": \"1a8640c8-e2e8-11e8-96ad-27ad55f30ab3\"}, {\"name\": \"Video2\", \"orientation\": \"h\", \"x\": [1, 21, 5, 23, 15, 10, 9, 12, 16, 6, 25, 15, 27, 28, 23, 29, 2, 11, 13, 22], \"y\": [\"Student_1\", \"Student_2\", \"Student_3\", \"Student_4\", \"Student_5\", \"Student_6\", \"Student_7\", \"Student_8\", \"Student_9\", \"Student_10\", \"Student_11\", \"Student_12\", \"Student_13\", \"Student_14\", \"Student_15\", \"Student_16\", \"Student_17\", \"Student_18\", \"Student_19\", \"Student_20\"], \"type\": \"bar\", \"uid\": \"1a864294-e2e8-11e8-96ad-27ad55f30ab3\"}, {\"name\": \"Quiz1\", \"orientation\": \"h\", \"x\": [14, 23, 17, 25, 6, 16, 27, 9, 22, 13, 21, 13, 9, 23, 19, 11, 23, 9, 0, 23], \"y\": [\"Student_1\", \"Student_2\", \"Student_3\", \"Student_4\", \"Student_5\", \"Student_6\", \"Student_7\", \"Student_8\", \"Student_9\", \"Student_10\", \"Student_11\", \"Student_12\", \"Student_13\", \"Student_14\", \"Student_15\", \"Student_16\", \"Student_17\", \"Student_18\", \"Student_19\", \"Student_20\"], \"type\": \"bar\", \"uid\": \"1a864370-e2e8-11e8-96ad-27ad55f30ab3\"}, {\"name\": \"Quiz2\", \"orientation\": \"h\", \"x\": [3, 21, 3, 13, 10, 8, 18, 1, 28, 13, 7, 11, 6, 28, 4, 7, 22, 11, 2, 20], \"y\": [\"Student_1\", \"Student_2\", \"Student_3\", \"Student_4\", \"Student_5\", \"Student_6\", \"Student_7\", \"Student_8\", \"Student_9\", \"Student_10\", \"Student_11\", \"Student_12\", \"Student_13\", \"Student_14\", \"Student_15\", \"Student_16\", \"Student_17\", \"Student_18\", \"Student_19\", \"Student_20\"], \"type\": \"bar\", \"uid\": \"1a864424-e2e8-11e8-96ad-27ad55f30ab3\"}, {\"name\": \"Pdf1\", \"orientation\": \"h\", \"x\": [16, 8, 10, 16, 6, 28, 3, 0, 8, 10, 5, 28, 19, 27, 26, 29, 13, 11, 1, 29], \"y\": [\"Student_1\", \"Student_2\", \"Student_3\", \"Student_4\", \"Student_5\", \"Student_6\", \"Student_7\", \"Student_8\", \"Student_9\", \"Student_10\", \"Student_11\", \"Student_12\", \"Student_13\", \"Student_14\", \"Student_15\", \"Student_16\", \"Student_17\", \"Student_18\", \"Student_19\", \"Student_20\"], \"type\": \"bar\", \"uid\": \"1a8644ba-e2e8-11e8-96ad-27ad55f30ab3\"}, {\"name\": \"Pdf2\", \"orientation\": \"h\", \"x\": [28, 27, 3, 22, 4, 6, 20, 8, 9, 12, 19, 6, 2, 13, 18, 29, 11, 17, 18, 20], \"y\": [\"Student_1\", \"Student_2\", \"Student_3\", \"Student_4\", \"Student_5\", \"Student_6\", \"Student_7\", \"Student_8\", \"Student_9\", \"Student_10\", \"Student_11\", \"Student_12\", \"Student_13\", \"Student_14\", \"Student_15\", \"Student_16\", \"Student_17\", \"Student_18\", \"Student_19\", \"Student_20\"], \"type\": \"bar\", \"uid\": \"1a86455a-e2e8-11e8-96ad-27ad55f30ab3\"}, {\"name\": \"Ebook1\", \"orientation\": \"h\", \"x\": [18, 25, 13, 22, 7, 24, 0, 2, 22, 27, 25, 12, 25, 21, 29, 7, 26, 24, 20, 21], \"y\": [\"Student_1\", \"Student_2\", \"Student_3\", \"Student_4\", \"Student_5\", \"Student_6\", \"Student_7\", \"Student_8\", \"Student_9\", \"Student_10\", \"Student_11\", \"Student_12\", \"Student_13\", \"Student_14\", \"Student_15\", \"Student_16\", \"Student_17\", \"Student_18\", \"Student_19\", \"Student_20\"], \"type\": \"bar\", \"uid\": \"1a8645e6-e2e8-11e8-96ad-27ad55f30ab3\"}, {\"name\": \"Ebook2\", \"orientation\": \"h\", \"x\": [10, 13, 19, 10, 24, 4, 4, 10, 9, 19, 6, 3, 10, 0, 16, 11, 6, 13, 21, 9], \"y\": [\"Student_1\", \"Student_2\", \"Student_3\", \"Student_4\", \"Student_5\", \"Student_6\", \"Student_7\", \"Student_8\", \"Student_9\", \"Student_10\", \"Student_11\", \"Student_12\", \"Student_13\", \"Student_14\", \"Student_15\", \"Student_16\", \"Student_17\", \"Student_18\", \"Student_19\", \"Student_20\"], \"type\": \"bar\", \"uid\": \"1a864668-e2e8-11e8-96ad-27ad55f30ab3\"}], {\"barmode\": \"stack\", \"title\": \"N\\u00famero de acessos nos materiais agrupados por estudante\", \"yaxis\": {\"dtick\": 1, \"exponentformat\": \"e\", \"gridcolor\": \"#bdbdbd\", \"showexponent\": \"all\", \"showticklabels\": true, \"tick0\": 0, \"titlefont\": {\"color\": \"lightgrey\", \"family\": \"Arial, sans-serif\"}}}, {\"showLink\": true, \"linkText\": \"Export to plot.ly\"})});</script>"
      ]
     },
     "metadata": {},
     "output_type": "display_data"
    },
    {
     "data": {
      "application/vnd.plotly.v1+json": {
       "data": [
        {
         "colorscale": [
          [
           0,
           "rgb(255,255,255)"
          ],
          [
           1,
           "rgb(0,0,255)"
          ]
         ],
         "type": "heatmap",
         "uid": "1a8cb0fc-e2e8-11e8-96ad-27ad55f30ab3",
         "x": [
          "Video1",
          "Video2",
          "Quiz1",
          "Quiz2",
          "Pdf1",
          "Pdf2",
          "Ebook1",
          "Ebook2"
         ],
         "y": [
          "Student_1",
          "Student_2",
          "Student_3",
          "Student_4",
          "Student_5",
          "Student_6",
          "Student_7",
          "Student_8",
          "Student_9",
          "Student_10",
          "Student_11",
          "Student_12",
          "Student_13",
          "Student_14",
          "Student_15",
          "Student_16",
          "Student_17",
          "Student_18",
          "Student_19",
          "Student_20"
         ],
         "z": [
          [
           17,
           1,
           14,
           3,
           16,
           28,
           18,
           10
          ],
          [
           12,
           21,
           23,
           21,
           8,
           27,
           25,
           13
          ],
          [
           14,
           5,
           17,
           3,
           10,
           3,
           13,
           19
          ],
          [
           27,
           23,
           25,
           13,
           16,
           22,
           22,
           10
          ],
          [
           9,
           15,
           6,
           10,
           6,
           4,
           7,
           24
          ],
          [
           15,
           10,
           16,
           8,
           28,
           6,
           24,
           4
          ],
          [
           13,
           9,
           27,
           18,
           3,
           20,
           0,
           4
          ],
          [
           24,
           12,
           9,
           1,
           0,
           8,
           2,
           10
          ],
          [
           4,
           16,
           22,
           28,
           8,
           9,
           22,
           9
          ],
          [
           26,
           6,
           13,
           13,
           10,
           12,
           27,
           19
          ],
          [
           19,
           25,
           21,
           7,
           5,
           19,
           25,
           6
          ],
          [
           19,
           15,
           13,
           11,
           28,
           6,
           12,
           3
          ],
          [
           23,
           27,
           9,
           6,
           19,
           2,
           25,
           10
          ],
          [
           29,
           28,
           23,
           28,
           27,
           13,
           21,
           0
          ],
          [
           11,
           23,
           19,
           4,
           26,
           18,
           29,
           16
          ],
          [
           12,
           29,
           11,
           7,
           29,
           29,
           7,
           11
          ],
          [
           21,
           2,
           23,
           22,
           13,
           11,
           26,
           6
          ],
          [
           28,
           11,
           9,
           11,
           11,
           17,
           24,
           13
          ],
          [
           4,
           13,
           0,
           2,
           1,
           18,
           20,
           21
          ],
          [
           20,
           22,
           23,
           20,
           29,
           20,
           21,
           9
          ]
         ]
        }
       ],
       "layout": {
        "title": "Número de acessos nos materiais por estudante",
        "yaxis": {
         "dtick": 1,
         "exponentformat": "e",
         "gridcolor": "#bdbdbd",
         "showexponent": "all",
         "showticklabels": true,
         "tick0": 0,
         "titlefont": {
          "color": "lightgrey",
          "family": "Arial, sans-serif"
         }
        }
       }
      },
      "text/html": [
       "<div id=\"f937f87a-8161-4333-b1ee-adc26b56d6f4\" style=\"height: 525px; width: 100%;\" class=\"plotly-graph-div\"></div><script type=\"text/javascript\">require([\"plotly\"], function(Plotly) { window.PLOTLYENV=window.PLOTLYENV || {};window.PLOTLYENV.BASE_URL=\"https://plot.ly\";Plotly.newPlot(\"f937f87a-8161-4333-b1ee-adc26b56d6f4\", [{\"colorscale\": [[0, \"rgb(255,255,255)\"], [1, \"rgb(0,0,255)\"]], \"x\": [\"Video1\", \"Video2\", \"Quiz1\", \"Quiz2\", \"Pdf1\", \"Pdf2\", \"Ebook1\", \"Ebook2\"], \"y\": [\"Student_1\", \"Student_2\", \"Student_3\", \"Student_4\", \"Student_5\", \"Student_6\", \"Student_7\", \"Student_8\", \"Student_9\", \"Student_10\", \"Student_11\", \"Student_12\", \"Student_13\", \"Student_14\", \"Student_15\", \"Student_16\", \"Student_17\", \"Student_18\", \"Student_19\", \"Student_20\"], \"z\": [[17, 1, 14, 3, 16, 28, 18, 10], [12, 21, 23, 21, 8, 27, 25, 13], [14, 5, 17, 3, 10, 3, 13, 19], [27, 23, 25, 13, 16, 22, 22, 10], [9, 15, 6, 10, 6, 4, 7, 24], [15, 10, 16, 8, 28, 6, 24, 4], [13, 9, 27, 18, 3, 20, 0, 4], [24, 12, 9, 1, 0, 8, 2, 10], [4, 16, 22, 28, 8, 9, 22, 9], [26, 6, 13, 13, 10, 12, 27, 19], [19, 25, 21, 7, 5, 19, 25, 6], [19, 15, 13, 11, 28, 6, 12, 3], [23, 27, 9, 6, 19, 2, 25, 10], [29, 28, 23, 28, 27, 13, 21, 0], [11, 23, 19, 4, 26, 18, 29, 16], [12, 29, 11, 7, 29, 29, 7, 11], [21, 2, 23, 22, 13, 11, 26, 6], [28, 11, 9, 11, 11, 17, 24, 13], [4, 13, 0, 2, 1, 18, 20, 21], [20, 22, 23, 20, 29, 20, 21, 9]], \"type\": \"heatmap\", \"uid\": \"1a8cb0fc-e2e8-11e8-96ad-27ad55f30ab3\"}], {\"title\": \"N\\u00famero de acessos nos materiais por estudante\", \"yaxis\": {\"dtick\": 1, \"exponentformat\": \"e\", \"gridcolor\": \"#bdbdbd\", \"showexponent\": \"all\", \"showticklabels\": true, \"tick0\": 0, \"titlefont\": {\"color\": \"lightgrey\", \"family\": \"Arial, sans-serif\"}}}, {\"showLink\": true, \"linkText\": \"Export to plot.ly\"})});</script>"
      ],
      "text/vnd.plotly.v1+html": [
       "<div id=\"f937f87a-8161-4333-b1ee-adc26b56d6f4\" style=\"height: 525px; width: 100%;\" class=\"plotly-graph-div\"></div><script type=\"text/javascript\">require([\"plotly\"], function(Plotly) { window.PLOTLYENV=window.PLOTLYENV || {};window.PLOTLYENV.BASE_URL=\"https://plot.ly\";Plotly.newPlot(\"f937f87a-8161-4333-b1ee-adc26b56d6f4\", [{\"colorscale\": [[0, \"rgb(255,255,255)\"], [1, \"rgb(0,0,255)\"]], \"x\": [\"Video1\", \"Video2\", \"Quiz1\", \"Quiz2\", \"Pdf1\", \"Pdf2\", \"Ebook1\", \"Ebook2\"], \"y\": [\"Student_1\", \"Student_2\", \"Student_3\", \"Student_4\", \"Student_5\", \"Student_6\", \"Student_7\", \"Student_8\", \"Student_9\", \"Student_10\", \"Student_11\", \"Student_12\", \"Student_13\", \"Student_14\", \"Student_15\", \"Student_16\", \"Student_17\", \"Student_18\", \"Student_19\", \"Student_20\"], \"z\": [[17, 1, 14, 3, 16, 28, 18, 10], [12, 21, 23, 21, 8, 27, 25, 13], [14, 5, 17, 3, 10, 3, 13, 19], [27, 23, 25, 13, 16, 22, 22, 10], [9, 15, 6, 10, 6, 4, 7, 24], [15, 10, 16, 8, 28, 6, 24, 4], [13, 9, 27, 18, 3, 20, 0, 4], [24, 12, 9, 1, 0, 8, 2, 10], [4, 16, 22, 28, 8, 9, 22, 9], [26, 6, 13, 13, 10, 12, 27, 19], [19, 25, 21, 7, 5, 19, 25, 6], [19, 15, 13, 11, 28, 6, 12, 3], [23, 27, 9, 6, 19, 2, 25, 10], [29, 28, 23, 28, 27, 13, 21, 0], [11, 23, 19, 4, 26, 18, 29, 16], [12, 29, 11, 7, 29, 29, 7, 11], [21, 2, 23, 22, 13, 11, 26, 6], [28, 11, 9, 11, 11, 17, 24, 13], [4, 13, 0, 2, 1, 18, 20, 21], [20, 22, 23, 20, 29, 20, 21, 9]], \"type\": \"heatmap\", \"uid\": \"1a8cb0fc-e2e8-11e8-96ad-27ad55f30ab3\"}], {\"title\": \"N\\u00famero de acessos nos materiais por estudante\", \"yaxis\": {\"dtick\": 1, \"exponentformat\": \"e\", \"gridcolor\": \"#bdbdbd\", \"showexponent\": \"all\", \"showticklabels\": true, \"tick0\": 0, \"titlefont\": {\"color\": \"lightgrey\", \"family\": \"Arial, sans-serif\"}}}, {\"showLink\": true, \"linkText\": \"Export to plot.ly\"})});</script>"
      ]
     },
     "metadata": {},
     "output_type": "display_data"
    },
    {
     "data": {
      "application/vnd.plotly.v1+json": {
       "data": [
        {
         "marker": {
          "line": {
           "width": 2
          },
          "size": [
           17,
           1,
           14,
           3,
           16,
           28,
           18,
           10
          ],
          "sizemode": "area",
          "sizeref": 0.06896551724137931,
          "symbol": "circle"
         },
         "mode": "markers",
         "name": "Student_1",
         "text": [
          "17",
          "1",
          "14",
          "3",
          "16",
          "28",
          "18",
          "10"
         ],
         "type": "scatter",
         "uid": "1aabe7ec-e2e8-11e8-96ad-27ad55f30ab3",
         "x": [
          "Student_1",
          "Student_1",
          "Student_1",
          "Student_1",
          "Student_1",
          "Student_1",
          "Student_1",
          "Student_1",
          "Student_1"
         ],
         "y": [
          "Video1",
          "Video2",
          "Quiz1",
          "Quiz2",
          "Pdf1",
          "Pdf2",
          "Ebook1",
          "Ebook2"
         ]
        },
        {
         "marker": {
          "line": {
           "width": 2
          },
          "size": [
           12,
           21,
           23,
           21,
           8,
           27,
           25,
           13
          ],
          "sizemode": "area",
          "sizeref": 0.06896551724137931,
          "symbol": "circle"
         },
         "mode": "markers",
         "name": "Student_2",
         "text": [
          "12",
          "21",
          "23",
          "21",
          "8",
          "27",
          "25",
          "13"
         ],
         "type": "scatter",
         "uid": "1aabe9a4-e2e8-11e8-96ad-27ad55f30ab3",
         "x": [
          "Student_2",
          "Student_2",
          "Student_2",
          "Student_2",
          "Student_2",
          "Student_2",
          "Student_2",
          "Student_2",
          "Student_2"
         ],
         "y": [
          "Video1",
          "Video2",
          "Quiz1",
          "Quiz2",
          "Pdf1",
          "Pdf2",
          "Ebook1",
          "Ebook2"
         ]
        },
        {
         "marker": {
          "line": {
           "width": 2
          },
          "size": [
           14,
           5,
           17,
           3,
           10,
           3,
           13,
           19
          ],
          "sizemode": "area",
          "sizeref": 0.06896551724137931,
          "symbol": "circle"
         },
         "mode": "markers",
         "name": "Student_3",
         "text": [
          "14",
          "5",
          "17",
          "3",
          "10",
          "3",
          "13",
          "19"
         ],
         "type": "scatter",
         "uid": "1aabea8a-e2e8-11e8-96ad-27ad55f30ab3",
         "x": [
          "Student_3",
          "Student_3",
          "Student_3",
          "Student_3",
          "Student_3",
          "Student_3",
          "Student_3",
          "Student_3",
          "Student_3"
         ],
         "y": [
          "Video1",
          "Video2",
          "Quiz1",
          "Quiz2",
          "Pdf1",
          "Pdf2",
          "Ebook1",
          "Ebook2"
         ]
        },
        {
         "marker": {
          "line": {
           "width": 2
          },
          "size": [
           27,
           23,
           25,
           13,
           16,
           22,
           22,
           10
          ],
          "sizemode": "area",
          "sizeref": 0.06896551724137931,
          "symbol": "circle"
         },
         "mode": "markers",
         "name": "Student_4",
         "text": [
          "27",
          "23",
          "25",
          "13",
          "16",
          "22",
          "22",
          "10"
         ],
         "type": "scatter",
         "uid": "1aabeb52-e2e8-11e8-96ad-27ad55f30ab3",
         "x": [
          "Student_4",
          "Student_4",
          "Student_4",
          "Student_4",
          "Student_4",
          "Student_4",
          "Student_4",
          "Student_4",
          "Student_4"
         ],
         "y": [
          "Video1",
          "Video2",
          "Quiz1",
          "Quiz2",
          "Pdf1",
          "Pdf2",
          "Ebook1",
          "Ebook2"
         ]
        },
        {
         "marker": {
          "line": {
           "width": 2
          },
          "size": [
           9,
           15,
           6,
           10,
           6,
           4,
           7,
           24
          ],
          "sizemode": "area",
          "sizeref": 0.06896551724137931,
          "symbol": "circle"
         },
         "mode": "markers",
         "name": "Student_5",
         "text": [
          "9",
          "15",
          "6",
          "10",
          "6",
          "4",
          "7",
          "24"
         ],
         "type": "scatter",
         "uid": "1aabebf2-e2e8-11e8-96ad-27ad55f30ab3",
         "x": [
          "Student_5",
          "Student_5",
          "Student_5",
          "Student_5",
          "Student_5",
          "Student_5",
          "Student_5",
          "Student_5",
          "Student_5"
         ],
         "y": [
          "Video1",
          "Video2",
          "Quiz1",
          "Quiz2",
          "Pdf1",
          "Pdf2",
          "Ebook1",
          "Ebook2"
         ]
        },
        {
         "marker": {
          "line": {
           "width": 2
          },
          "size": [
           15,
           10,
           16,
           8,
           28,
           6,
           24,
           4
          ],
          "sizemode": "area",
          "sizeref": 0.06896551724137931,
          "symbol": "circle"
         },
         "mode": "markers",
         "name": "Student_6",
         "text": [
          "15",
          "10",
          "16",
          "8",
          "28",
          "6",
          "24",
          "4"
         ],
         "type": "scatter",
         "uid": "1aabec92-e2e8-11e8-96ad-27ad55f30ab3",
         "x": [
          "Student_6",
          "Student_6",
          "Student_6",
          "Student_6",
          "Student_6",
          "Student_6",
          "Student_6",
          "Student_6",
          "Student_6"
         ],
         "y": [
          "Video1",
          "Video2",
          "Quiz1",
          "Quiz2",
          "Pdf1",
          "Pdf2",
          "Ebook1",
          "Ebook2"
         ]
        },
        {
         "marker": {
          "line": {
           "width": 2
          },
          "size": [
           13,
           9,
           27,
           18,
           3,
           20,
           0,
           4
          ],
          "sizemode": "area",
          "sizeref": 0.06896551724137931,
          "symbol": "circle"
         },
         "mode": "markers",
         "name": "Student_7",
         "text": [
          "13",
          "9",
          "27",
          "18",
          "3",
          "20",
          "0",
          "4"
         ],
         "type": "scatter",
         "uid": "1aabed32-e2e8-11e8-96ad-27ad55f30ab3",
         "x": [
          "Student_7",
          "Student_7",
          "Student_7",
          "Student_7",
          "Student_7",
          "Student_7",
          "Student_7",
          "Student_7",
          "Student_7"
         ],
         "y": [
          "Video1",
          "Video2",
          "Quiz1",
          "Quiz2",
          "Pdf1",
          "Pdf2",
          "Ebook1",
          "Ebook2"
         ]
        },
        {
         "marker": {
          "line": {
           "width": 2
          },
          "size": [
           24,
           12,
           9,
           1,
           0,
           8,
           2,
           10
          ],
          "sizemode": "area",
          "sizeref": 0.06896551724137931,
          "symbol": "circle"
         },
         "mode": "markers",
         "name": "Student_8",
         "text": [
          "24",
          "12",
          "9",
          "1",
          "0",
          "8",
          "2",
          "10"
         ],
         "type": "scatter",
         "uid": "1aabedc8-e2e8-11e8-96ad-27ad55f30ab3",
         "x": [
          "Student_8",
          "Student_8",
          "Student_8",
          "Student_8",
          "Student_8",
          "Student_8",
          "Student_8",
          "Student_8",
          "Student_8"
         ],
         "y": [
          "Video1",
          "Video2",
          "Quiz1",
          "Quiz2",
          "Pdf1",
          "Pdf2",
          "Ebook1",
          "Ebook2"
         ]
        },
        {
         "marker": {
          "line": {
           "width": 2
          },
          "size": [
           4,
           16,
           22,
           28,
           8,
           9,
           22,
           9
          ],
          "sizemode": "area",
          "sizeref": 0.06896551724137931,
          "symbol": "circle"
         },
         "mode": "markers",
         "name": "Student_9",
         "text": [
          "4",
          "16",
          "22",
          "28",
          "8",
          "9",
          "22",
          "9"
         ],
         "type": "scatter",
         "uid": "1aabee68-e2e8-11e8-96ad-27ad55f30ab3",
         "x": [
          "Student_9",
          "Student_9",
          "Student_9",
          "Student_9",
          "Student_9",
          "Student_9",
          "Student_9",
          "Student_9",
          "Student_9"
         ],
         "y": [
          "Video1",
          "Video2",
          "Quiz1",
          "Quiz2",
          "Pdf1",
          "Pdf2",
          "Ebook1",
          "Ebook2"
         ]
        },
        {
         "marker": {
          "line": {
           "width": 2
          },
          "size": [
           26,
           6,
           13,
           13,
           10,
           12,
           27,
           19
          ],
          "sizemode": "area",
          "sizeref": 0.06896551724137931,
          "symbol": "circle"
         },
         "mode": "markers",
         "name": "Student_10",
         "text": [
          "26",
          "6",
          "13",
          "13",
          "10",
          "12",
          "27",
          "19"
         ],
         "type": "scatter",
         "uid": "1aabeefe-e2e8-11e8-96ad-27ad55f30ab3",
         "x": [
          "Student_10",
          "Student_10",
          "Student_10",
          "Student_10",
          "Student_10",
          "Student_10",
          "Student_10",
          "Student_10",
          "Student_10"
         ],
         "y": [
          "Video1",
          "Video2",
          "Quiz1",
          "Quiz2",
          "Pdf1",
          "Pdf2",
          "Ebook1",
          "Ebook2"
         ]
        },
        {
         "marker": {
          "line": {
           "width": 2
          },
          "size": [
           19,
           25,
           21,
           7,
           5,
           19,
           25,
           6
          ],
          "sizemode": "area",
          "sizeref": 0.06896551724137931,
          "symbol": "circle"
         },
         "mode": "markers",
         "name": "Student_11",
         "text": [
          "19",
          "25",
          "21",
          "7",
          "5",
          "19",
          "25",
          "6"
         ],
         "type": "scatter",
         "uid": "1aabef94-e2e8-11e8-96ad-27ad55f30ab3",
         "x": [
          "Student_11",
          "Student_11",
          "Student_11",
          "Student_11",
          "Student_11",
          "Student_11",
          "Student_11",
          "Student_11",
          "Student_11"
         ],
         "y": [
          "Video1",
          "Video2",
          "Quiz1",
          "Quiz2",
          "Pdf1",
          "Pdf2",
          "Ebook1",
          "Ebook2"
         ]
        },
        {
         "marker": {
          "line": {
           "width": 2
          },
          "size": [
           19,
           15,
           13,
           11,
           28,
           6,
           12,
           3
          ],
          "sizemode": "area",
          "sizeref": 0.06896551724137931,
          "symbol": "circle"
         },
         "mode": "markers",
         "name": "Student_12",
         "text": [
          "19",
          "15",
          "13",
          "11",
          "28",
          "6",
          "12",
          "3"
         ],
         "type": "scatter",
         "uid": "1aabf02a-e2e8-11e8-96ad-27ad55f30ab3",
         "x": [
          "Student_12",
          "Student_12",
          "Student_12",
          "Student_12",
          "Student_12",
          "Student_12",
          "Student_12",
          "Student_12",
          "Student_12"
         ],
         "y": [
          "Video1",
          "Video2",
          "Quiz1",
          "Quiz2",
          "Pdf1",
          "Pdf2",
          "Ebook1",
          "Ebook2"
         ]
        },
        {
         "marker": {
          "line": {
           "width": 2
          },
          "size": [
           23,
           27,
           9,
           6,
           19,
           2,
           25,
           10
          ],
          "sizemode": "area",
          "sizeref": 0.06896551724137931,
          "symbol": "circle"
         },
         "mode": "markers",
         "name": "Student_13",
         "text": [
          "23",
          "27",
          "9",
          "6",
          "19",
          "2",
          "25",
          "10"
         ],
         "type": "scatter",
         "uid": "1aabf0c0-e2e8-11e8-96ad-27ad55f30ab3",
         "x": [
          "Student_13",
          "Student_13",
          "Student_13",
          "Student_13",
          "Student_13",
          "Student_13",
          "Student_13",
          "Student_13",
          "Student_13"
         ],
         "y": [
          "Video1",
          "Video2",
          "Quiz1",
          "Quiz2",
          "Pdf1",
          "Pdf2",
          "Ebook1",
          "Ebook2"
         ]
        },
        {
         "marker": {
          "line": {
           "width": 2
          },
          "size": [
           29,
           28,
           23,
           28,
           27,
           13,
           21,
           0
          ],
          "sizemode": "area",
          "sizeref": 0.06896551724137931,
          "symbol": "circle"
         },
         "mode": "markers",
         "name": "Student_14",
         "text": [
          "29",
          "28",
          "23",
          "28",
          "27",
          "13",
          "21",
          "0"
         ],
         "type": "scatter",
         "uid": "1aabf156-e2e8-11e8-96ad-27ad55f30ab3",
         "x": [
          "Student_14",
          "Student_14",
          "Student_14",
          "Student_14",
          "Student_14",
          "Student_14",
          "Student_14",
          "Student_14",
          "Student_14"
         ],
         "y": [
          "Video1",
          "Video2",
          "Quiz1",
          "Quiz2",
          "Pdf1",
          "Pdf2",
          "Ebook1",
          "Ebook2"
         ]
        },
        {
         "marker": {
          "line": {
           "width": 2
          },
          "size": [
           11,
           23,
           19,
           4,
           26,
           18,
           29,
           16
          ],
          "sizemode": "area",
          "sizeref": 0.06896551724137931,
          "symbol": "circle"
         },
         "mode": "markers",
         "name": "Student_15",
         "text": [
          "11",
          "23",
          "19",
          "4",
          "26",
          "18",
          "29",
          "16"
         ],
         "type": "scatter",
         "uid": "1aabf1ec-e2e8-11e8-96ad-27ad55f30ab3",
         "x": [
          "Student_15",
          "Student_15",
          "Student_15",
          "Student_15",
          "Student_15",
          "Student_15",
          "Student_15",
          "Student_15",
          "Student_15"
         ],
         "y": [
          "Video1",
          "Video2",
          "Quiz1",
          "Quiz2",
          "Pdf1",
          "Pdf2",
          "Ebook1",
          "Ebook2"
         ]
        },
        {
         "marker": {
          "line": {
           "width": 2
          },
          "size": [
           12,
           29,
           11,
           7,
           29,
           29,
           7,
           11
          ],
          "sizemode": "area",
          "sizeref": 0.06896551724137931,
          "symbol": "circle"
         },
         "mode": "markers",
         "name": "Student_16",
         "text": [
          "12",
          "29",
          "11",
          "7",
          "29",
          "29",
          "7",
          "11"
         ],
         "type": "scatter",
         "uid": "1aabf282-e2e8-11e8-96ad-27ad55f30ab3",
         "x": [
          "Student_16",
          "Student_16",
          "Student_16",
          "Student_16",
          "Student_16",
          "Student_16",
          "Student_16",
          "Student_16",
          "Student_16"
         ],
         "y": [
          "Video1",
          "Video2",
          "Quiz1",
          "Quiz2",
          "Pdf1",
          "Pdf2",
          "Ebook1",
          "Ebook2"
         ]
        },
        {
         "marker": {
          "line": {
           "width": 2
          },
          "size": [
           21,
           2,
           23,
           22,
           13,
           11,
           26,
           6
          ],
          "sizemode": "area",
          "sizeref": 0.06896551724137931,
          "symbol": "circle"
         },
         "mode": "markers",
         "name": "Student_17",
         "text": [
          "21",
          "2",
          "23",
          "22",
          "13",
          "11",
          "26",
          "6"
         ],
         "type": "scatter",
         "uid": "1aabf318-e2e8-11e8-96ad-27ad55f30ab3",
         "x": [
          "Student_17",
          "Student_17",
          "Student_17",
          "Student_17",
          "Student_17",
          "Student_17",
          "Student_17",
          "Student_17",
          "Student_17"
         ],
         "y": [
          "Video1",
          "Video2",
          "Quiz1",
          "Quiz2",
          "Pdf1",
          "Pdf2",
          "Ebook1",
          "Ebook2"
         ]
        },
        {
         "marker": {
          "line": {
           "width": 2
          },
          "size": [
           28,
           11,
           9,
           11,
           11,
           17,
           24,
           13
          ],
          "sizemode": "area",
          "sizeref": 0.06896551724137931,
          "symbol": "circle"
         },
         "mode": "markers",
         "name": "Student_18",
         "text": [
          "28",
          "11",
          "9",
          "11",
          "11",
          "17",
          "24",
          "13"
         ],
         "type": "scatter",
         "uid": "1aabf3a4-e2e8-11e8-96ad-27ad55f30ab3",
         "x": [
          "Student_18",
          "Student_18",
          "Student_18",
          "Student_18",
          "Student_18",
          "Student_18",
          "Student_18",
          "Student_18",
          "Student_18"
         ],
         "y": [
          "Video1",
          "Video2",
          "Quiz1",
          "Quiz2",
          "Pdf1",
          "Pdf2",
          "Ebook1",
          "Ebook2"
         ]
        },
        {
         "marker": {
          "line": {
           "width": 2
          },
          "size": [
           4,
           13,
           0,
           2,
           1,
           18,
           20,
           21
          ],
          "sizemode": "area",
          "sizeref": 0.06896551724137931,
          "symbol": "circle"
         },
         "mode": "markers",
         "name": "Student_19",
         "text": [
          "4",
          "13",
          "0",
          "2",
          "1",
          "18",
          "20",
          "21"
         ],
         "type": "scatter",
         "uid": "1aabf43a-e2e8-11e8-96ad-27ad55f30ab3",
         "x": [
          "Student_19",
          "Student_19",
          "Student_19",
          "Student_19",
          "Student_19",
          "Student_19",
          "Student_19",
          "Student_19",
          "Student_19"
         ],
         "y": [
          "Video1",
          "Video2",
          "Quiz1",
          "Quiz2",
          "Pdf1",
          "Pdf2",
          "Ebook1",
          "Ebook2"
         ]
        },
        {
         "marker": {
          "line": {
           "width": 2
          },
          "size": [
           20,
           22,
           23,
           20,
           29,
           20,
           21,
           9
          ],
          "sizemode": "area",
          "sizeref": 0.06896551724137931,
          "symbol": "circle"
         },
         "mode": "markers",
         "name": "Student_20",
         "text": [
          "20",
          "22",
          "23",
          "20",
          "29",
          "20",
          "21",
          "9"
         ],
         "type": "scatter",
         "uid": "1aabf4d0-e2e8-11e8-96ad-27ad55f30ab3",
         "x": [
          "Student_20",
          "Student_20",
          "Student_20",
          "Student_20",
          "Student_20",
          "Student_20",
          "Student_20",
          "Student_20",
          "Student_20"
         ],
         "y": [
          "Video1",
          "Video2",
          "Quiz1",
          "Quiz2",
          "Pdf1",
          "Pdf2",
          "Ebook1",
          "Ebook2"
         ]
        }
       ],
       "layout": {
        "hovermode": "closest",
        "showlegend": true,
        "title": "Número de acessos nos materiais por estudante",
        "xaxis": {
         "autorange": false,
         "fixedrange": false,
         "range": [
          -1,
          20
         ],
         "rangemode": "normal",
         "showline": true,
         "title": "Estudantes",
         "type": "category"
        },
        "yaxis": {
         "autorange": false,
         "categoryorder": "category ascending",
         "fixedrange": false,
         "range": [
          -1,
          8
         ],
         "rangemode": "normal",
         "showline": true,
         "title": "Materiais",
         "type": "category"
        }
       }
      },
      "text/html": [
       "<div id=\"ee725d95-a90a-4855-bc45-fc44a1f7b7b9\" style=\"height: 525px; width: 100%;\" class=\"plotly-graph-div\"></div><script type=\"text/javascript\">require([\"plotly\"], function(Plotly) { window.PLOTLYENV=window.PLOTLYENV || {};window.PLOTLYENV.BASE_URL=\"https://plot.ly\";Plotly.newPlot(\"ee725d95-a90a-4855-bc45-fc44a1f7b7b9\", [{\"marker\": {\"line\": {\"width\": 2}, \"size\": [17, 1, 14, 3, 16, 28, 18, 10], \"sizemode\": \"area\", \"sizeref\": 0.06896551724137931, \"symbol\": \"circle\"}, \"mode\": \"markers\", \"name\": \"Student_1\", \"text\": [\"17\", \"1\", \"14\", \"3\", \"16\", \"28\", \"18\", \"10\"], \"x\": [\"Student_1\", \"Student_1\", \"Student_1\", \"Student_1\", \"Student_1\", \"Student_1\", \"Student_1\", \"Student_1\", \"Student_1\"], \"y\": [\"Video1\", \"Video2\", \"Quiz1\", \"Quiz2\", \"Pdf1\", \"Pdf2\", \"Ebook1\", \"Ebook2\"], \"type\": \"scatter\", \"uid\": \"1aabe7ec-e2e8-11e8-96ad-27ad55f30ab3\"}, {\"marker\": {\"line\": {\"width\": 2}, \"size\": [12, 21, 23, 21, 8, 27, 25, 13], \"sizemode\": \"area\", \"sizeref\": 0.06896551724137931, \"symbol\": \"circle\"}, \"mode\": \"markers\", \"name\": \"Student_2\", \"text\": [\"12\", \"21\", \"23\", \"21\", \"8\", \"27\", \"25\", \"13\"], \"x\": [\"Student_2\", \"Student_2\", \"Student_2\", \"Student_2\", \"Student_2\", \"Student_2\", \"Student_2\", \"Student_2\", \"Student_2\"], \"y\": [\"Video1\", \"Video2\", \"Quiz1\", \"Quiz2\", \"Pdf1\", \"Pdf2\", \"Ebook1\", \"Ebook2\"], \"type\": \"scatter\", \"uid\": \"1aabe9a4-e2e8-11e8-96ad-27ad55f30ab3\"}, {\"marker\": {\"line\": {\"width\": 2}, \"size\": [14, 5, 17, 3, 10, 3, 13, 19], \"sizemode\": \"area\", \"sizeref\": 0.06896551724137931, \"symbol\": \"circle\"}, \"mode\": \"markers\", \"name\": \"Student_3\", \"text\": [\"14\", \"5\", \"17\", \"3\", \"10\", \"3\", \"13\", \"19\"], \"x\": [\"Student_3\", \"Student_3\", \"Student_3\", \"Student_3\", \"Student_3\", \"Student_3\", \"Student_3\", \"Student_3\", \"Student_3\"], \"y\": [\"Video1\", \"Video2\", \"Quiz1\", \"Quiz2\", \"Pdf1\", \"Pdf2\", \"Ebook1\", \"Ebook2\"], \"type\": \"scatter\", \"uid\": \"1aabea8a-e2e8-11e8-96ad-27ad55f30ab3\"}, {\"marker\": {\"line\": {\"width\": 2}, \"size\": [27, 23, 25, 13, 16, 22, 22, 10], \"sizemode\": \"area\", \"sizeref\": 0.06896551724137931, \"symbol\": \"circle\"}, \"mode\": \"markers\", \"name\": \"Student_4\", \"text\": [\"27\", \"23\", \"25\", \"13\", \"16\", \"22\", \"22\", \"10\"], \"x\": [\"Student_4\", \"Student_4\", \"Student_4\", \"Student_4\", \"Student_4\", \"Student_4\", \"Student_4\", \"Student_4\", \"Student_4\"], \"y\": [\"Video1\", \"Video2\", \"Quiz1\", \"Quiz2\", \"Pdf1\", \"Pdf2\", \"Ebook1\", \"Ebook2\"], \"type\": \"scatter\", \"uid\": \"1aabeb52-e2e8-11e8-96ad-27ad55f30ab3\"}, {\"marker\": {\"line\": {\"width\": 2}, \"size\": [9, 15, 6, 10, 6, 4, 7, 24], \"sizemode\": \"area\", \"sizeref\": 0.06896551724137931, \"symbol\": \"circle\"}, \"mode\": \"markers\", \"name\": \"Student_5\", \"text\": [\"9\", \"15\", \"6\", \"10\", \"6\", \"4\", \"7\", \"24\"], \"x\": [\"Student_5\", \"Student_5\", \"Student_5\", \"Student_5\", \"Student_5\", \"Student_5\", \"Student_5\", \"Student_5\", \"Student_5\"], \"y\": [\"Video1\", \"Video2\", \"Quiz1\", \"Quiz2\", \"Pdf1\", \"Pdf2\", \"Ebook1\", \"Ebook2\"], \"type\": \"scatter\", \"uid\": \"1aabebf2-e2e8-11e8-96ad-27ad55f30ab3\"}, {\"marker\": {\"line\": {\"width\": 2}, \"size\": [15, 10, 16, 8, 28, 6, 24, 4], \"sizemode\": \"area\", \"sizeref\": 0.06896551724137931, \"symbol\": \"circle\"}, \"mode\": \"markers\", \"name\": \"Student_6\", \"text\": [\"15\", \"10\", \"16\", \"8\", \"28\", \"6\", \"24\", \"4\"], \"x\": [\"Student_6\", \"Student_6\", \"Student_6\", \"Student_6\", \"Student_6\", \"Student_6\", \"Student_6\", \"Student_6\", \"Student_6\"], \"y\": [\"Video1\", \"Video2\", \"Quiz1\", \"Quiz2\", \"Pdf1\", \"Pdf2\", \"Ebook1\", \"Ebook2\"], \"type\": \"scatter\", \"uid\": \"1aabec92-e2e8-11e8-96ad-27ad55f30ab3\"}, {\"marker\": {\"line\": {\"width\": 2}, \"size\": [13, 9, 27, 18, 3, 20, 0, 4], \"sizemode\": \"area\", \"sizeref\": 0.06896551724137931, \"symbol\": \"circle\"}, \"mode\": \"markers\", \"name\": \"Student_7\", \"text\": [\"13\", \"9\", \"27\", \"18\", \"3\", \"20\", \"0\", \"4\"], \"x\": [\"Student_7\", \"Student_7\", \"Student_7\", \"Student_7\", \"Student_7\", \"Student_7\", \"Student_7\", \"Student_7\", \"Student_7\"], \"y\": [\"Video1\", \"Video2\", \"Quiz1\", \"Quiz2\", \"Pdf1\", \"Pdf2\", \"Ebook1\", \"Ebook2\"], \"type\": \"scatter\", \"uid\": \"1aabed32-e2e8-11e8-96ad-27ad55f30ab3\"}, {\"marker\": {\"line\": {\"width\": 2}, \"size\": [24, 12, 9, 1, 0, 8, 2, 10], \"sizemode\": \"area\", \"sizeref\": 0.06896551724137931, \"symbol\": \"circle\"}, \"mode\": \"markers\", \"name\": \"Student_8\", \"text\": [\"24\", \"12\", \"9\", \"1\", \"0\", \"8\", \"2\", \"10\"], \"x\": [\"Student_8\", \"Student_8\", \"Student_8\", \"Student_8\", \"Student_8\", \"Student_8\", \"Student_8\", \"Student_8\", \"Student_8\"], \"y\": [\"Video1\", \"Video2\", \"Quiz1\", \"Quiz2\", \"Pdf1\", \"Pdf2\", \"Ebook1\", \"Ebook2\"], \"type\": \"scatter\", \"uid\": \"1aabedc8-e2e8-11e8-96ad-27ad55f30ab3\"}, {\"marker\": {\"line\": {\"width\": 2}, \"size\": [4, 16, 22, 28, 8, 9, 22, 9], \"sizemode\": \"area\", \"sizeref\": 0.06896551724137931, \"symbol\": \"circle\"}, \"mode\": \"markers\", \"name\": \"Student_9\", \"text\": [\"4\", \"16\", \"22\", \"28\", \"8\", \"9\", \"22\", \"9\"], \"x\": [\"Student_9\", \"Student_9\", \"Student_9\", \"Student_9\", \"Student_9\", \"Student_9\", \"Student_9\", \"Student_9\", \"Student_9\"], \"y\": [\"Video1\", \"Video2\", \"Quiz1\", \"Quiz2\", \"Pdf1\", \"Pdf2\", \"Ebook1\", \"Ebook2\"], \"type\": \"scatter\", \"uid\": \"1aabee68-e2e8-11e8-96ad-27ad55f30ab3\"}, {\"marker\": {\"line\": {\"width\": 2}, \"size\": [26, 6, 13, 13, 10, 12, 27, 19], \"sizemode\": \"area\", \"sizeref\": 0.06896551724137931, \"symbol\": \"circle\"}, \"mode\": \"markers\", \"name\": \"Student_10\", \"text\": [\"26\", \"6\", \"13\", \"13\", \"10\", \"12\", \"27\", \"19\"], \"x\": [\"Student_10\", \"Student_10\", \"Student_10\", \"Student_10\", \"Student_10\", \"Student_10\", \"Student_10\", \"Student_10\", \"Student_10\"], \"y\": [\"Video1\", \"Video2\", \"Quiz1\", \"Quiz2\", \"Pdf1\", \"Pdf2\", \"Ebook1\", \"Ebook2\"], \"type\": \"scatter\", \"uid\": \"1aabeefe-e2e8-11e8-96ad-27ad55f30ab3\"}, {\"marker\": {\"line\": {\"width\": 2}, \"size\": [19, 25, 21, 7, 5, 19, 25, 6], \"sizemode\": \"area\", \"sizeref\": 0.06896551724137931, \"symbol\": \"circle\"}, \"mode\": \"markers\", \"name\": \"Student_11\", \"text\": [\"19\", \"25\", \"21\", \"7\", \"5\", \"19\", \"25\", \"6\"], \"x\": [\"Student_11\", \"Student_11\", \"Student_11\", \"Student_11\", \"Student_11\", \"Student_11\", \"Student_11\", \"Student_11\", \"Student_11\"], \"y\": [\"Video1\", \"Video2\", \"Quiz1\", \"Quiz2\", \"Pdf1\", \"Pdf2\", \"Ebook1\", \"Ebook2\"], \"type\": \"scatter\", \"uid\": \"1aabef94-e2e8-11e8-96ad-27ad55f30ab3\"}, {\"marker\": {\"line\": {\"width\": 2}, \"size\": [19, 15, 13, 11, 28, 6, 12, 3], \"sizemode\": \"area\", \"sizeref\": 0.06896551724137931, \"symbol\": \"circle\"}, \"mode\": \"markers\", \"name\": \"Student_12\", \"text\": [\"19\", \"15\", \"13\", \"11\", \"28\", \"6\", \"12\", \"3\"], \"x\": [\"Student_12\", \"Student_12\", \"Student_12\", \"Student_12\", \"Student_12\", \"Student_12\", \"Student_12\", \"Student_12\", \"Student_12\"], \"y\": [\"Video1\", \"Video2\", \"Quiz1\", \"Quiz2\", \"Pdf1\", \"Pdf2\", \"Ebook1\", \"Ebook2\"], \"type\": \"scatter\", \"uid\": \"1aabf02a-e2e8-11e8-96ad-27ad55f30ab3\"}, {\"marker\": {\"line\": {\"width\": 2}, \"size\": [23, 27, 9, 6, 19, 2, 25, 10], \"sizemode\": \"area\", \"sizeref\": 0.06896551724137931, \"symbol\": \"circle\"}, \"mode\": \"markers\", \"name\": \"Student_13\", \"text\": [\"23\", \"27\", \"9\", \"6\", \"19\", \"2\", \"25\", \"10\"], \"x\": [\"Student_13\", \"Student_13\", \"Student_13\", \"Student_13\", \"Student_13\", \"Student_13\", \"Student_13\", \"Student_13\", \"Student_13\"], \"y\": [\"Video1\", \"Video2\", \"Quiz1\", \"Quiz2\", \"Pdf1\", \"Pdf2\", \"Ebook1\", \"Ebook2\"], \"type\": \"scatter\", \"uid\": \"1aabf0c0-e2e8-11e8-96ad-27ad55f30ab3\"}, {\"marker\": {\"line\": {\"width\": 2}, \"size\": [29, 28, 23, 28, 27, 13, 21, 0], \"sizemode\": \"area\", \"sizeref\": 0.06896551724137931, \"symbol\": \"circle\"}, \"mode\": \"markers\", \"name\": \"Student_14\", \"text\": [\"29\", \"28\", \"23\", \"28\", \"27\", \"13\", \"21\", \"0\"], \"x\": [\"Student_14\", \"Student_14\", \"Student_14\", \"Student_14\", \"Student_14\", \"Student_14\", \"Student_14\", \"Student_14\", \"Student_14\"], \"y\": [\"Video1\", \"Video2\", \"Quiz1\", \"Quiz2\", \"Pdf1\", \"Pdf2\", \"Ebook1\", \"Ebook2\"], \"type\": \"scatter\", \"uid\": \"1aabf156-e2e8-11e8-96ad-27ad55f30ab3\"}, {\"marker\": {\"line\": {\"width\": 2}, \"size\": [11, 23, 19, 4, 26, 18, 29, 16], \"sizemode\": \"area\", \"sizeref\": 0.06896551724137931, \"symbol\": \"circle\"}, \"mode\": \"markers\", \"name\": \"Student_15\", \"text\": [\"11\", \"23\", \"19\", \"4\", \"26\", \"18\", \"29\", \"16\"], \"x\": [\"Student_15\", \"Student_15\", \"Student_15\", \"Student_15\", \"Student_15\", \"Student_15\", \"Student_15\", \"Student_15\", \"Student_15\"], \"y\": [\"Video1\", \"Video2\", \"Quiz1\", \"Quiz2\", \"Pdf1\", \"Pdf2\", \"Ebook1\", \"Ebook2\"], \"type\": \"scatter\", \"uid\": \"1aabf1ec-e2e8-11e8-96ad-27ad55f30ab3\"}, {\"marker\": {\"line\": {\"width\": 2}, \"size\": [12, 29, 11, 7, 29, 29, 7, 11], \"sizemode\": \"area\", \"sizeref\": 0.06896551724137931, \"symbol\": \"circle\"}, \"mode\": \"markers\", \"name\": \"Student_16\", \"text\": [\"12\", \"29\", \"11\", \"7\", \"29\", \"29\", \"7\", \"11\"], \"x\": [\"Student_16\", \"Student_16\", \"Student_16\", \"Student_16\", \"Student_16\", \"Student_16\", \"Student_16\", \"Student_16\", \"Student_16\"], \"y\": [\"Video1\", \"Video2\", \"Quiz1\", \"Quiz2\", \"Pdf1\", \"Pdf2\", \"Ebook1\", \"Ebook2\"], \"type\": \"scatter\", \"uid\": \"1aabf282-e2e8-11e8-96ad-27ad55f30ab3\"}, {\"marker\": {\"line\": {\"width\": 2}, \"size\": [21, 2, 23, 22, 13, 11, 26, 6], \"sizemode\": \"area\", \"sizeref\": 0.06896551724137931, \"symbol\": \"circle\"}, \"mode\": \"markers\", \"name\": \"Student_17\", \"text\": [\"21\", \"2\", \"23\", \"22\", \"13\", \"11\", \"26\", \"6\"], \"x\": [\"Student_17\", \"Student_17\", \"Student_17\", \"Student_17\", \"Student_17\", \"Student_17\", \"Student_17\", \"Student_17\", \"Student_17\"], \"y\": [\"Video1\", \"Video2\", \"Quiz1\", \"Quiz2\", \"Pdf1\", \"Pdf2\", \"Ebook1\", \"Ebook2\"], \"type\": \"scatter\", \"uid\": \"1aabf318-e2e8-11e8-96ad-27ad55f30ab3\"}, {\"marker\": {\"line\": {\"width\": 2}, \"size\": [28, 11, 9, 11, 11, 17, 24, 13], \"sizemode\": \"area\", \"sizeref\": 0.06896551724137931, \"symbol\": \"circle\"}, \"mode\": \"markers\", \"name\": \"Student_18\", \"text\": [\"28\", \"11\", \"9\", \"11\", \"11\", \"17\", \"24\", \"13\"], \"x\": [\"Student_18\", \"Student_18\", \"Student_18\", \"Student_18\", \"Student_18\", \"Student_18\", \"Student_18\", \"Student_18\", \"Student_18\"], \"y\": [\"Video1\", \"Video2\", \"Quiz1\", \"Quiz2\", \"Pdf1\", \"Pdf2\", \"Ebook1\", \"Ebook2\"], \"type\": \"scatter\", \"uid\": \"1aabf3a4-e2e8-11e8-96ad-27ad55f30ab3\"}, {\"marker\": {\"line\": {\"width\": 2}, \"size\": [4, 13, 0, 2, 1, 18, 20, 21], \"sizemode\": \"area\", \"sizeref\": 0.06896551724137931, \"symbol\": \"circle\"}, \"mode\": \"markers\", \"name\": \"Student_19\", \"text\": [\"4\", \"13\", \"0\", \"2\", \"1\", \"18\", \"20\", \"21\"], \"x\": [\"Student_19\", \"Student_19\", \"Student_19\", \"Student_19\", \"Student_19\", \"Student_19\", \"Student_19\", \"Student_19\", \"Student_19\"], \"y\": [\"Video1\", \"Video2\", \"Quiz1\", \"Quiz2\", \"Pdf1\", \"Pdf2\", \"Ebook1\", \"Ebook2\"], \"type\": \"scatter\", \"uid\": \"1aabf43a-e2e8-11e8-96ad-27ad55f30ab3\"}, {\"marker\": {\"line\": {\"width\": 2}, \"size\": [20, 22, 23, 20, 29, 20, 21, 9], \"sizemode\": \"area\", \"sizeref\": 0.06896551724137931, \"symbol\": \"circle\"}, \"mode\": \"markers\", \"name\": \"Student_20\", \"text\": [\"20\", \"22\", \"23\", \"20\", \"29\", \"20\", \"21\", \"9\"], \"x\": [\"Student_20\", \"Student_20\", \"Student_20\", \"Student_20\", \"Student_20\", \"Student_20\", \"Student_20\", \"Student_20\", \"Student_20\"], \"y\": [\"Video1\", \"Video2\", \"Quiz1\", \"Quiz2\", \"Pdf1\", \"Pdf2\", \"Ebook1\", \"Ebook2\"], \"type\": \"scatter\", \"uid\": \"1aabf4d0-e2e8-11e8-96ad-27ad55f30ab3\"}], {\"hovermode\": \"closest\", \"showlegend\": true, \"title\": \"N\\u00famero de acessos nos materiais por estudante\", \"xaxis\": {\"autorange\": false, \"fixedrange\": false, \"range\": [-1, 20], \"rangemode\": \"normal\", \"showline\": true, \"title\": \"Estudantes\", \"type\": \"category\"}, \"yaxis\": {\"autorange\": false, \"categoryorder\": \"category ascending\", \"fixedrange\": false, \"range\": [-1, 8], \"rangemode\": \"normal\", \"showline\": true, \"title\": \"Materiais\", \"type\": \"category\"}}, {\"showLink\": true, \"linkText\": \"Export to plot.ly\"})});</script>"
      ],
      "text/vnd.plotly.v1+html": [
       "<div id=\"ee725d95-a90a-4855-bc45-fc44a1f7b7b9\" style=\"height: 525px; width: 100%;\" class=\"plotly-graph-div\"></div><script type=\"text/javascript\">require([\"plotly\"], function(Plotly) { window.PLOTLYENV=window.PLOTLYENV || {};window.PLOTLYENV.BASE_URL=\"https://plot.ly\";Plotly.newPlot(\"ee725d95-a90a-4855-bc45-fc44a1f7b7b9\", [{\"marker\": {\"line\": {\"width\": 2}, \"size\": [17, 1, 14, 3, 16, 28, 18, 10], \"sizemode\": \"area\", \"sizeref\": 0.06896551724137931, \"symbol\": \"circle\"}, \"mode\": \"markers\", \"name\": \"Student_1\", \"text\": [\"17\", \"1\", \"14\", \"3\", \"16\", \"28\", \"18\", \"10\"], \"x\": [\"Student_1\", \"Student_1\", \"Student_1\", \"Student_1\", \"Student_1\", \"Student_1\", \"Student_1\", \"Student_1\", \"Student_1\"], \"y\": [\"Video1\", \"Video2\", \"Quiz1\", \"Quiz2\", \"Pdf1\", \"Pdf2\", \"Ebook1\", \"Ebook2\"], \"type\": \"scatter\", \"uid\": \"1aabe7ec-e2e8-11e8-96ad-27ad55f30ab3\"}, {\"marker\": {\"line\": {\"width\": 2}, \"size\": [12, 21, 23, 21, 8, 27, 25, 13], \"sizemode\": \"area\", \"sizeref\": 0.06896551724137931, \"symbol\": \"circle\"}, \"mode\": \"markers\", \"name\": \"Student_2\", \"text\": [\"12\", \"21\", \"23\", \"21\", \"8\", \"27\", \"25\", \"13\"], \"x\": [\"Student_2\", \"Student_2\", \"Student_2\", \"Student_2\", \"Student_2\", \"Student_2\", \"Student_2\", \"Student_2\", \"Student_2\"], \"y\": [\"Video1\", \"Video2\", \"Quiz1\", \"Quiz2\", \"Pdf1\", \"Pdf2\", \"Ebook1\", \"Ebook2\"], \"type\": \"scatter\", \"uid\": \"1aabe9a4-e2e8-11e8-96ad-27ad55f30ab3\"}, {\"marker\": {\"line\": {\"width\": 2}, \"size\": [14, 5, 17, 3, 10, 3, 13, 19], \"sizemode\": \"area\", \"sizeref\": 0.06896551724137931, \"symbol\": \"circle\"}, \"mode\": \"markers\", \"name\": \"Student_3\", \"text\": [\"14\", \"5\", \"17\", \"3\", \"10\", \"3\", \"13\", \"19\"], \"x\": [\"Student_3\", \"Student_3\", \"Student_3\", \"Student_3\", \"Student_3\", \"Student_3\", \"Student_3\", \"Student_3\", \"Student_3\"], \"y\": [\"Video1\", \"Video2\", \"Quiz1\", \"Quiz2\", \"Pdf1\", \"Pdf2\", \"Ebook1\", \"Ebook2\"], \"type\": \"scatter\", \"uid\": \"1aabea8a-e2e8-11e8-96ad-27ad55f30ab3\"}, {\"marker\": {\"line\": {\"width\": 2}, \"size\": [27, 23, 25, 13, 16, 22, 22, 10], \"sizemode\": \"area\", \"sizeref\": 0.06896551724137931, \"symbol\": \"circle\"}, \"mode\": \"markers\", \"name\": \"Student_4\", \"text\": [\"27\", \"23\", \"25\", \"13\", \"16\", \"22\", \"22\", \"10\"], \"x\": [\"Student_4\", \"Student_4\", \"Student_4\", \"Student_4\", \"Student_4\", \"Student_4\", \"Student_4\", \"Student_4\", \"Student_4\"], \"y\": [\"Video1\", \"Video2\", \"Quiz1\", \"Quiz2\", \"Pdf1\", \"Pdf2\", \"Ebook1\", \"Ebook2\"], \"type\": \"scatter\", \"uid\": \"1aabeb52-e2e8-11e8-96ad-27ad55f30ab3\"}, {\"marker\": {\"line\": {\"width\": 2}, \"size\": [9, 15, 6, 10, 6, 4, 7, 24], \"sizemode\": \"area\", \"sizeref\": 0.06896551724137931, \"symbol\": \"circle\"}, \"mode\": \"markers\", \"name\": \"Student_5\", \"text\": [\"9\", \"15\", \"6\", \"10\", \"6\", \"4\", \"7\", \"24\"], \"x\": [\"Student_5\", \"Student_5\", \"Student_5\", \"Student_5\", \"Student_5\", \"Student_5\", \"Student_5\", \"Student_5\", \"Student_5\"], \"y\": [\"Video1\", \"Video2\", \"Quiz1\", \"Quiz2\", \"Pdf1\", \"Pdf2\", \"Ebook1\", \"Ebook2\"], \"type\": \"scatter\", \"uid\": \"1aabebf2-e2e8-11e8-96ad-27ad55f30ab3\"}, {\"marker\": {\"line\": {\"width\": 2}, \"size\": [15, 10, 16, 8, 28, 6, 24, 4], \"sizemode\": \"area\", \"sizeref\": 0.06896551724137931, \"symbol\": \"circle\"}, \"mode\": \"markers\", \"name\": \"Student_6\", \"text\": [\"15\", \"10\", \"16\", \"8\", \"28\", \"6\", \"24\", \"4\"], \"x\": [\"Student_6\", \"Student_6\", \"Student_6\", \"Student_6\", \"Student_6\", \"Student_6\", \"Student_6\", \"Student_6\", \"Student_6\"], \"y\": [\"Video1\", \"Video2\", \"Quiz1\", \"Quiz2\", \"Pdf1\", \"Pdf2\", \"Ebook1\", \"Ebook2\"], \"type\": \"scatter\", \"uid\": \"1aabec92-e2e8-11e8-96ad-27ad55f30ab3\"}, {\"marker\": {\"line\": {\"width\": 2}, \"size\": [13, 9, 27, 18, 3, 20, 0, 4], \"sizemode\": \"area\", \"sizeref\": 0.06896551724137931, \"symbol\": \"circle\"}, \"mode\": \"markers\", \"name\": \"Student_7\", \"text\": [\"13\", \"9\", \"27\", \"18\", \"3\", \"20\", \"0\", \"4\"], \"x\": [\"Student_7\", \"Student_7\", \"Student_7\", \"Student_7\", \"Student_7\", \"Student_7\", \"Student_7\", \"Student_7\", \"Student_7\"], \"y\": [\"Video1\", \"Video2\", \"Quiz1\", \"Quiz2\", \"Pdf1\", \"Pdf2\", \"Ebook1\", \"Ebook2\"], \"type\": \"scatter\", \"uid\": \"1aabed32-e2e8-11e8-96ad-27ad55f30ab3\"}, {\"marker\": {\"line\": {\"width\": 2}, \"size\": [24, 12, 9, 1, 0, 8, 2, 10], \"sizemode\": \"area\", \"sizeref\": 0.06896551724137931, \"symbol\": \"circle\"}, \"mode\": \"markers\", \"name\": \"Student_8\", \"text\": [\"24\", \"12\", \"9\", \"1\", \"0\", \"8\", \"2\", \"10\"], \"x\": [\"Student_8\", \"Student_8\", \"Student_8\", \"Student_8\", \"Student_8\", \"Student_8\", \"Student_8\", \"Student_8\", \"Student_8\"], \"y\": [\"Video1\", \"Video2\", \"Quiz1\", \"Quiz2\", \"Pdf1\", \"Pdf2\", \"Ebook1\", \"Ebook2\"], \"type\": \"scatter\", \"uid\": \"1aabedc8-e2e8-11e8-96ad-27ad55f30ab3\"}, {\"marker\": {\"line\": {\"width\": 2}, \"size\": [4, 16, 22, 28, 8, 9, 22, 9], \"sizemode\": \"area\", \"sizeref\": 0.06896551724137931, \"symbol\": \"circle\"}, \"mode\": \"markers\", \"name\": \"Student_9\", \"text\": [\"4\", \"16\", \"22\", \"28\", \"8\", \"9\", \"22\", \"9\"], \"x\": [\"Student_9\", \"Student_9\", \"Student_9\", \"Student_9\", \"Student_9\", \"Student_9\", \"Student_9\", \"Student_9\", \"Student_9\"], \"y\": [\"Video1\", \"Video2\", \"Quiz1\", \"Quiz2\", \"Pdf1\", \"Pdf2\", \"Ebook1\", \"Ebook2\"], \"type\": \"scatter\", \"uid\": \"1aabee68-e2e8-11e8-96ad-27ad55f30ab3\"}, {\"marker\": {\"line\": {\"width\": 2}, \"size\": [26, 6, 13, 13, 10, 12, 27, 19], \"sizemode\": \"area\", \"sizeref\": 0.06896551724137931, \"symbol\": \"circle\"}, \"mode\": \"markers\", \"name\": \"Student_10\", \"text\": [\"26\", \"6\", \"13\", \"13\", \"10\", \"12\", \"27\", \"19\"], \"x\": [\"Student_10\", \"Student_10\", \"Student_10\", \"Student_10\", \"Student_10\", \"Student_10\", \"Student_10\", \"Student_10\", \"Student_10\"], \"y\": [\"Video1\", \"Video2\", \"Quiz1\", \"Quiz2\", \"Pdf1\", \"Pdf2\", \"Ebook1\", \"Ebook2\"], \"type\": \"scatter\", \"uid\": \"1aabeefe-e2e8-11e8-96ad-27ad55f30ab3\"}, {\"marker\": {\"line\": {\"width\": 2}, \"size\": [19, 25, 21, 7, 5, 19, 25, 6], \"sizemode\": \"area\", \"sizeref\": 0.06896551724137931, \"symbol\": \"circle\"}, \"mode\": \"markers\", \"name\": \"Student_11\", \"text\": [\"19\", \"25\", \"21\", \"7\", \"5\", \"19\", \"25\", \"6\"], \"x\": [\"Student_11\", \"Student_11\", \"Student_11\", \"Student_11\", \"Student_11\", \"Student_11\", \"Student_11\", \"Student_11\", \"Student_11\"], \"y\": [\"Video1\", \"Video2\", \"Quiz1\", \"Quiz2\", \"Pdf1\", \"Pdf2\", \"Ebook1\", \"Ebook2\"], \"type\": \"scatter\", \"uid\": \"1aabef94-e2e8-11e8-96ad-27ad55f30ab3\"}, {\"marker\": {\"line\": {\"width\": 2}, \"size\": [19, 15, 13, 11, 28, 6, 12, 3], \"sizemode\": \"area\", \"sizeref\": 0.06896551724137931, \"symbol\": \"circle\"}, \"mode\": \"markers\", \"name\": \"Student_12\", \"text\": [\"19\", \"15\", \"13\", \"11\", \"28\", \"6\", \"12\", \"3\"], \"x\": [\"Student_12\", \"Student_12\", \"Student_12\", \"Student_12\", \"Student_12\", \"Student_12\", \"Student_12\", \"Student_12\", \"Student_12\"], \"y\": [\"Video1\", \"Video2\", \"Quiz1\", \"Quiz2\", \"Pdf1\", \"Pdf2\", \"Ebook1\", \"Ebook2\"], \"type\": \"scatter\", \"uid\": \"1aabf02a-e2e8-11e8-96ad-27ad55f30ab3\"}, {\"marker\": {\"line\": {\"width\": 2}, \"size\": [23, 27, 9, 6, 19, 2, 25, 10], \"sizemode\": \"area\", \"sizeref\": 0.06896551724137931, \"symbol\": \"circle\"}, \"mode\": \"markers\", \"name\": \"Student_13\", \"text\": [\"23\", \"27\", \"9\", \"6\", \"19\", \"2\", \"25\", \"10\"], \"x\": [\"Student_13\", \"Student_13\", \"Student_13\", \"Student_13\", \"Student_13\", \"Student_13\", \"Student_13\", \"Student_13\", \"Student_13\"], \"y\": [\"Video1\", \"Video2\", \"Quiz1\", \"Quiz2\", \"Pdf1\", \"Pdf2\", \"Ebook1\", \"Ebook2\"], \"type\": \"scatter\", \"uid\": \"1aabf0c0-e2e8-11e8-96ad-27ad55f30ab3\"}, {\"marker\": {\"line\": {\"width\": 2}, \"size\": [29, 28, 23, 28, 27, 13, 21, 0], \"sizemode\": \"area\", \"sizeref\": 0.06896551724137931, \"symbol\": \"circle\"}, \"mode\": \"markers\", \"name\": \"Student_14\", \"text\": [\"29\", \"28\", \"23\", \"28\", \"27\", \"13\", \"21\", \"0\"], \"x\": [\"Student_14\", \"Student_14\", \"Student_14\", \"Student_14\", \"Student_14\", \"Student_14\", \"Student_14\", \"Student_14\", \"Student_14\"], \"y\": [\"Video1\", \"Video2\", \"Quiz1\", \"Quiz2\", \"Pdf1\", \"Pdf2\", \"Ebook1\", \"Ebook2\"], \"type\": \"scatter\", \"uid\": \"1aabf156-e2e8-11e8-96ad-27ad55f30ab3\"}, {\"marker\": {\"line\": {\"width\": 2}, \"size\": [11, 23, 19, 4, 26, 18, 29, 16], \"sizemode\": \"area\", \"sizeref\": 0.06896551724137931, \"symbol\": \"circle\"}, \"mode\": \"markers\", \"name\": \"Student_15\", \"text\": [\"11\", \"23\", \"19\", \"4\", \"26\", \"18\", \"29\", \"16\"], \"x\": [\"Student_15\", \"Student_15\", \"Student_15\", \"Student_15\", \"Student_15\", \"Student_15\", \"Student_15\", \"Student_15\", \"Student_15\"], \"y\": [\"Video1\", \"Video2\", \"Quiz1\", \"Quiz2\", \"Pdf1\", \"Pdf2\", \"Ebook1\", \"Ebook2\"], \"type\": \"scatter\", \"uid\": \"1aabf1ec-e2e8-11e8-96ad-27ad55f30ab3\"}, {\"marker\": {\"line\": {\"width\": 2}, \"size\": [12, 29, 11, 7, 29, 29, 7, 11], \"sizemode\": \"area\", \"sizeref\": 0.06896551724137931, \"symbol\": \"circle\"}, \"mode\": \"markers\", \"name\": \"Student_16\", \"text\": [\"12\", \"29\", \"11\", \"7\", \"29\", \"29\", \"7\", \"11\"], \"x\": [\"Student_16\", \"Student_16\", \"Student_16\", \"Student_16\", \"Student_16\", \"Student_16\", \"Student_16\", \"Student_16\", \"Student_16\"], \"y\": [\"Video1\", \"Video2\", \"Quiz1\", \"Quiz2\", \"Pdf1\", \"Pdf2\", \"Ebook1\", \"Ebook2\"], \"type\": \"scatter\", \"uid\": \"1aabf282-e2e8-11e8-96ad-27ad55f30ab3\"}, {\"marker\": {\"line\": {\"width\": 2}, \"size\": [21, 2, 23, 22, 13, 11, 26, 6], \"sizemode\": \"area\", \"sizeref\": 0.06896551724137931, \"symbol\": \"circle\"}, \"mode\": \"markers\", \"name\": \"Student_17\", \"text\": [\"21\", \"2\", \"23\", \"22\", \"13\", \"11\", \"26\", \"6\"], \"x\": [\"Student_17\", \"Student_17\", \"Student_17\", \"Student_17\", \"Student_17\", \"Student_17\", \"Student_17\", \"Student_17\", \"Student_17\"], \"y\": [\"Video1\", \"Video2\", \"Quiz1\", \"Quiz2\", \"Pdf1\", \"Pdf2\", \"Ebook1\", \"Ebook2\"], \"type\": \"scatter\", \"uid\": \"1aabf318-e2e8-11e8-96ad-27ad55f30ab3\"}, {\"marker\": {\"line\": {\"width\": 2}, \"size\": [28, 11, 9, 11, 11, 17, 24, 13], \"sizemode\": \"area\", \"sizeref\": 0.06896551724137931, \"symbol\": \"circle\"}, \"mode\": \"markers\", \"name\": \"Student_18\", \"text\": [\"28\", \"11\", \"9\", \"11\", \"11\", \"17\", \"24\", \"13\"], \"x\": [\"Student_18\", \"Student_18\", \"Student_18\", \"Student_18\", \"Student_18\", \"Student_18\", \"Student_18\", \"Student_18\", \"Student_18\"], \"y\": [\"Video1\", \"Video2\", \"Quiz1\", \"Quiz2\", \"Pdf1\", \"Pdf2\", \"Ebook1\", \"Ebook2\"], \"type\": \"scatter\", \"uid\": \"1aabf3a4-e2e8-11e8-96ad-27ad55f30ab3\"}, {\"marker\": {\"line\": {\"width\": 2}, \"size\": [4, 13, 0, 2, 1, 18, 20, 21], \"sizemode\": \"area\", \"sizeref\": 0.06896551724137931, \"symbol\": \"circle\"}, \"mode\": \"markers\", \"name\": \"Student_19\", \"text\": [\"4\", \"13\", \"0\", \"2\", \"1\", \"18\", \"20\", \"21\"], \"x\": [\"Student_19\", \"Student_19\", \"Student_19\", \"Student_19\", \"Student_19\", \"Student_19\", \"Student_19\", \"Student_19\", \"Student_19\"], \"y\": [\"Video1\", \"Video2\", \"Quiz1\", \"Quiz2\", \"Pdf1\", \"Pdf2\", \"Ebook1\", \"Ebook2\"], \"type\": \"scatter\", \"uid\": \"1aabf43a-e2e8-11e8-96ad-27ad55f30ab3\"}, {\"marker\": {\"line\": {\"width\": 2}, \"size\": [20, 22, 23, 20, 29, 20, 21, 9], \"sizemode\": \"area\", \"sizeref\": 0.06896551724137931, \"symbol\": \"circle\"}, \"mode\": \"markers\", \"name\": \"Student_20\", \"text\": [\"20\", \"22\", \"23\", \"20\", \"29\", \"20\", \"21\", \"9\"], \"x\": [\"Student_20\", \"Student_20\", \"Student_20\", \"Student_20\", \"Student_20\", \"Student_20\", \"Student_20\", \"Student_20\", \"Student_20\"], \"y\": [\"Video1\", \"Video2\", \"Quiz1\", \"Quiz2\", \"Pdf1\", \"Pdf2\", \"Ebook1\", \"Ebook2\"], \"type\": \"scatter\", \"uid\": \"1aabf4d0-e2e8-11e8-96ad-27ad55f30ab3\"}], {\"hovermode\": \"closest\", \"showlegend\": true, \"title\": \"N\\u00famero de acessos nos materiais por estudante\", \"xaxis\": {\"autorange\": false, \"fixedrange\": false, \"range\": [-1, 20], \"rangemode\": \"normal\", \"showline\": true, \"title\": \"Estudantes\", \"type\": \"category\"}, \"yaxis\": {\"autorange\": false, \"categoryorder\": \"category ascending\", \"fixedrange\": false, \"range\": [-1, 8], \"rangemode\": \"normal\", \"showline\": true, \"title\": \"Materiais\", \"type\": \"category\"}}, {\"showLink\": true, \"linkText\": \"Export to plot.ly\"})});</script>"
      ]
     },
     "metadata": {},
     "output_type": "display_data"
    }
   ],
   "source": [
    "run scripts/V002.py"
   ]
  },
  {
   "cell_type": "markdown",
   "metadata": {},
   "source": [
    "### View 003"
   ]
  },
  {
   "cell_type": "code",
   "execution_count": 243,
   "metadata": {
    "scrolled": true
   },
   "outputs": [
    {
     "data": {
      "text/html": [
       "<script>requirejs.config({paths: { 'plotly': ['https://cdn.plot.ly/plotly-latest.min']},});if(!window.Plotly) {{require(['plotly'],function(plotly) {window.Plotly=plotly;});}}</script>"
      ],
      "text/vnd.plotly.v1+html": [
       "<script>requirejs.config({paths: { 'plotly': ['https://cdn.plot.ly/plotly-latest.min']},});if(!window.Plotly) {{require(['plotly'],function(plotly) {window.Plotly=plotly;});}}</script>"
      ]
     },
     "metadata": {},
     "output_type": "display_data"
    },
    {
     "data": {
      "application/vnd.plotly.v1+json": {
       "data": [
        {
         "cells": {
          "align": [
           "left",
           "center"
          ],
          "fill": {
           "color": "#F5F8FF"
          },
          "values": [
           [
            "Student_1",
            "Student_2",
            "Student_3",
            "Student_4",
            "Student_5",
            "Student_6",
            "Student_7",
            "Student_8",
            "Student_9",
            "Student_10",
            "Student_11",
            "Student_12",
            "Student_13",
            "Student_14",
            "Student_15",
            "Student_16",
            "Student_17",
            "Student_18",
            "Student_19",
            "Student_20"
           ],
           [
            8,
            3,
            1,
            14,
            17,
            8,
            9,
            12,
            0,
            16,
            3,
            11,
            4,
            6,
            6,
            7,
            3,
            7,
            16,
            11
           ],
           [
            5,
            8,
            6,
            4,
            0,
            1,
            10,
            15,
            5,
            19,
            4,
            15,
            5,
            19,
            17,
            1,
            5,
            19,
            1,
            4
           ],
           [
            5,
            7,
            4,
            1,
            12,
            17,
            18,
            10,
            9,
            17,
            4,
            2,
            9,
            17,
            1,
            5,
            16,
            0,
            5,
            18
           ]
          ]
         },
         "header": {
          "align": "center",
          "fill": {
           "color": "#C2D4FF"
          },
          "values": [
           "Students",
           "Hits",
           "Readings",
           "Posts"
          ]
         },
         "type": "table",
         "uid": "4cef1204-e29a-11e8-9490-d5f4ba98b039"
        }
       ],
       "layout": {}
      },
      "text/html": [
       "<div id=\"cf7b654f-43bc-45db-b051-bc4866fd57f5\" style=\"height: 525px; width: 100%;\" class=\"plotly-graph-div\"></div><script type=\"text/javascript\">require([\"plotly\"], function(Plotly) { window.PLOTLYENV=window.PLOTLYENV || {};window.PLOTLYENV.BASE_URL=\"https://plot.ly\";Plotly.newPlot(\"cf7b654f-43bc-45db-b051-bc4866fd57f5\", [{\"cells\": {\"align\": [\"left\", \"center\"], \"fill\": {\"color\": \"#F5F8FF\"}, \"values\": [[\"Student_1\", \"Student_2\", \"Student_3\", \"Student_4\", \"Student_5\", \"Student_6\", \"Student_7\", \"Student_8\", \"Student_9\", \"Student_10\", \"Student_11\", \"Student_12\", \"Student_13\", \"Student_14\", \"Student_15\", \"Student_16\", \"Student_17\", \"Student_18\", \"Student_19\", \"Student_20\"], [8, 3, 1, 14, 17, 8, 9, 12, 0, 16, 3, 11, 4, 6, 6, 7, 3, 7, 16, 11], [5, 8, 6, 4, 0, 1, 10, 15, 5, 19, 4, 15, 5, 19, 17, 1, 5, 19, 1, 4], [5, 7, 4, 1, 12, 17, 18, 10, 9, 17, 4, 2, 9, 17, 1, 5, 16, 0, 5, 18]]}, \"header\": {\"align\": \"center\", \"fill\": {\"color\": \"#C2D4FF\"}, \"values\": [\"Students\", \"Hits\", \"Readings\", \"Posts\"]}, \"type\": \"table\", \"uid\": \"4cf167ac-e29a-11e8-9490-d5f4ba98b039\"}], {}, {\"showLink\": true, \"linkText\": \"Export to plot.ly\"})});</script>"
      ],
      "text/vnd.plotly.v1+html": [
       "<div id=\"cf7b654f-43bc-45db-b051-bc4866fd57f5\" style=\"height: 525px; width: 100%;\" class=\"plotly-graph-div\"></div><script type=\"text/javascript\">require([\"plotly\"], function(Plotly) { window.PLOTLYENV=window.PLOTLYENV || {};window.PLOTLYENV.BASE_URL=\"https://plot.ly\";Plotly.newPlot(\"cf7b654f-43bc-45db-b051-bc4866fd57f5\", [{\"cells\": {\"align\": [\"left\", \"center\"], \"fill\": {\"color\": \"#F5F8FF\"}, \"values\": [[\"Student_1\", \"Student_2\", \"Student_3\", \"Student_4\", \"Student_5\", \"Student_6\", \"Student_7\", \"Student_8\", \"Student_9\", \"Student_10\", \"Student_11\", \"Student_12\", \"Student_13\", \"Student_14\", \"Student_15\", \"Student_16\", \"Student_17\", \"Student_18\", \"Student_19\", \"Student_20\"], [8, 3, 1, 14, 17, 8, 9, 12, 0, 16, 3, 11, 4, 6, 6, 7, 3, 7, 16, 11], [5, 8, 6, 4, 0, 1, 10, 15, 5, 19, 4, 15, 5, 19, 17, 1, 5, 19, 1, 4], [5, 7, 4, 1, 12, 17, 18, 10, 9, 17, 4, 2, 9, 17, 1, 5, 16, 0, 5, 18]]}, \"header\": {\"align\": \"center\", \"fill\": {\"color\": \"#C2D4FF\"}, \"values\": [\"Students\", \"Hits\", \"Readings\", \"Posts\"]}, \"type\": \"table\", \"uid\": \"4cf167ac-e29a-11e8-9490-d5f4ba98b039\"}], {}, {\"showLink\": true, \"linkText\": \"Export to plot.ly\"})});</script>"
      ]
     },
     "metadata": {},
     "output_type": "display_data"
    },
    {
     "data": {
      "application/vnd.plotly.v1+json": {
       "data": [
        {
         "name": "Hits",
         "type": "bar",
         "uid": "4cf7ecf8-e29a-11e8-9490-d5f4ba98b039",
         "x": [
          "Student_1",
          "Student_2",
          "Student_3",
          "Student_4",
          "Student_5",
          "Student_6",
          "Student_7",
          "Student_8",
          "Student_9",
          "Student_10",
          "Student_11",
          "Student_12",
          "Student_13",
          "Student_14",
          "Student_15",
          "Student_16",
          "Student_17",
          "Student_18",
          "Student_19",
          "Student_20"
         ],
         "y": [
          8,
          3,
          1,
          14,
          17,
          8,
          9,
          12,
          0,
          16,
          3,
          11,
          4,
          6,
          6,
          7,
          3,
          7,
          16,
          11
         ]
        },
        {
         "name": "Readings",
         "type": "bar",
         "uid": "4cf7eeb0-e29a-11e8-9490-d5f4ba98b039",
         "x": [
          "Student_1",
          "Student_2",
          "Student_3",
          "Student_4",
          "Student_5",
          "Student_6",
          "Student_7",
          "Student_8",
          "Student_9",
          "Student_10",
          "Student_11",
          "Student_12",
          "Student_13",
          "Student_14",
          "Student_15",
          "Student_16",
          "Student_17",
          "Student_18",
          "Student_19",
          "Student_20"
         ],
         "y": [
          5,
          8,
          6,
          4,
          0,
          1,
          10,
          15,
          5,
          19,
          4,
          15,
          5,
          19,
          17,
          1,
          5,
          19,
          1,
          4
         ]
        },
        {
         "name": "Posts",
         "type": "bar",
         "uid": "4cf7ef96-e29a-11e8-9490-d5f4ba98b039",
         "x": [
          "Student_1",
          "Student_2",
          "Student_3",
          "Student_4",
          "Student_5",
          "Student_6",
          "Student_7",
          "Student_8",
          "Student_9",
          "Student_10",
          "Student_11",
          "Student_12",
          "Student_13",
          "Student_14",
          "Student_15",
          "Student_16",
          "Student_17",
          "Student_18",
          "Student_19",
          "Student_20"
         ],
         "y": [
          5,
          7,
          4,
          1,
          12,
          17,
          18,
          10,
          9,
          17,
          4,
          2,
          9,
          17,
          1,
          5,
          16,
          0,
          5,
          18
         ]
        }
       ],
       "layout": {
        "title": "Número de acessos a Posts, Leituras e Likes agrupados por estudante",
        "yaxis": {
         "dtick": 1,
         "exponentformat": "e",
         "gridcolor": "#bdbdbd",
         "showexponent": "all",
         "showticklabels": true,
         "tick0": 0,
         "titlefont": {
          "color": "lightgrey",
          "family": "Arial, sans-serif"
         }
        }
       }
      },
      "text/html": [
       "<div id=\"2505eb14-1dd0-492a-a835-f6eadbcf1fe3\" style=\"height: 525px; width: 100%;\" class=\"plotly-graph-div\"></div><script type=\"text/javascript\">require([\"plotly\"], function(Plotly) { window.PLOTLYENV=window.PLOTLYENV || {};window.PLOTLYENV.BASE_URL=\"https://plot.ly\";Plotly.newPlot(\"2505eb14-1dd0-492a-a835-f6eadbcf1fe3\", [{\"name\": \"Hits\", \"x\": [\"Student_1\", \"Student_2\", \"Student_3\", \"Student_4\", \"Student_5\", \"Student_6\", \"Student_7\", \"Student_8\", \"Student_9\", \"Student_10\", \"Student_11\", \"Student_12\", \"Student_13\", \"Student_14\", \"Student_15\", \"Student_16\", \"Student_17\", \"Student_18\", \"Student_19\", \"Student_20\"], \"y\": [8, 3, 1, 14, 17, 8, 9, 12, 0, 16, 3, 11, 4, 6, 6, 7, 3, 7, 16, 11], \"type\": \"bar\", \"uid\": \"4cf7ecf8-e29a-11e8-9490-d5f4ba98b039\"}, {\"name\": \"Readings\", \"x\": [\"Student_1\", \"Student_2\", \"Student_3\", \"Student_4\", \"Student_5\", \"Student_6\", \"Student_7\", \"Student_8\", \"Student_9\", \"Student_10\", \"Student_11\", \"Student_12\", \"Student_13\", \"Student_14\", \"Student_15\", \"Student_16\", \"Student_17\", \"Student_18\", \"Student_19\", \"Student_20\"], \"y\": [5, 8, 6, 4, 0, 1, 10, 15, 5, 19, 4, 15, 5, 19, 17, 1, 5, 19, 1, 4], \"type\": \"bar\", \"uid\": \"4cf7eeb0-e29a-11e8-9490-d5f4ba98b039\"}, {\"name\": \"Posts\", \"x\": [\"Student_1\", \"Student_2\", \"Student_3\", \"Student_4\", \"Student_5\", \"Student_6\", \"Student_7\", \"Student_8\", \"Student_9\", \"Student_10\", \"Student_11\", \"Student_12\", \"Student_13\", \"Student_14\", \"Student_15\", \"Student_16\", \"Student_17\", \"Student_18\", \"Student_19\", \"Student_20\"], \"y\": [5, 7, 4, 1, 12, 17, 18, 10, 9, 17, 4, 2, 9, 17, 1, 5, 16, 0, 5, 18], \"type\": \"bar\", \"uid\": \"4cf7ef96-e29a-11e8-9490-d5f4ba98b039\"}], {\"title\": \"N\\u00famero de acessos a Posts, Leituras e Likes agrupados por estudante\", \"yaxis\": {\"dtick\": 1, \"exponentformat\": \"e\", \"gridcolor\": \"#bdbdbd\", \"showexponent\": \"all\", \"showticklabels\": true, \"tick0\": 0, \"titlefont\": {\"color\": \"lightgrey\", \"family\": \"Arial, sans-serif\"}}}, {\"showLink\": true, \"linkText\": \"Export to plot.ly\"})});</script>"
      ],
      "text/vnd.plotly.v1+html": [
       "<div id=\"2505eb14-1dd0-492a-a835-f6eadbcf1fe3\" style=\"height: 525px; width: 100%;\" class=\"plotly-graph-div\"></div><script type=\"text/javascript\">require([\"plotly\"], function(Plotly) { window.PLOTLYENV=window.PLOTLYENV || {};window.PLOTLYENV.BASE_URL=\"https://plot.ly\";Plotly.newPlot(\"2505eb14-1dd0-492a-a835-f6eadbcf1fe3\", [{\"name\": \"Hits\", \"x\": [\"Student_1\", \"Student_2\", \"Student_3\", \"Student_4\", \"Student_5\", \"Student_6\", \"Student_7\", \"Student_8\", \"Student_9\", \"Student_10\", \"Student_11\", \"Student_12\", \"Student_13\", \"Student_14\", \"Student_15\", \"Student_16\", \"Student_17\", \"Student_18\", \"Student_19\", \"Student_20\"], \"y\": [8, 3, 1, 14, 17, 8, 9, 12, 0, 16, 3, 11, 4, 6, 6, 7, 3, 7, 16, 11], \"type\": \"bar\", \"uid\": \"4cf7ecf8-e29a-11e8-9490-d5f4ba98b039\"}, {\"name\": \"Readings\", \"x\": [\"Student_1\", \"Student_2\", \"Student_3\", \"Student_4\", \"Student_5\", \"Student_6\", \"Student_7\", \"Student_8\", \"Student_9\", \"Student_10\", \"Student_11\", \"Student_12\", \"Student_13\", \"Student_14\", \"Student_15\", \"Student_16\", \"Student_17\", \"Student_18\", \"Student_19\", \"Student_20\"], \"y\": [5, 8, 6, 4, 0, 1, 10, 15, 5, 19, 4, 15, 5, 19, 17, 1, 5, 19, 1, 4], \"type\": \"bar\", \"uid\": \"4cf7eeb0-e29a-11e8-9490-d5f4ba98b039\"}, {\"name\": \"Posts\", \"x\": [\"Student_1\", \"Student_2\", \"Student_3\", \"Student_4\", \"Student_5\", \"Student_6\", \"Student_7\", \"Student_8\", \"Student_9\", \"Student_10\", \"Student_11\", \"Student_12\", \"Student_13\", \"Student_14\", \"Student_15\", \"Student_16\", \"Student_17\", \"Student_18\", \"Student_19\", \"Student_20\"], \"y\": [5, 7, 4, 1, 12, 17, 18, 10, 9, 17, 4, 2, 9, 17, 1, 5, 16, 0, 5, 18], \"type\": \"bar\", \"uid\": \"4cf7ef96-e29a-11e8-9490-d5f4ba98b039\"}], {\"title\": \"N\\u00famero de acessos a Posts, Leituras e Likes agrupados por estudante\", \"yaxis\": {\"dtick\": 1, \"exponentformat\": \"e\", \"gridcolor\": \"#bdbdbd\", \"showexponent\": \"all\", \"showticklabels\": true, \"tick0\": 0, \"titlefont\": {\"color\": \"lightgrey\", \"family\": \"Arial, sans-serif\"}}}, {\"showLink\": true, \"linkText\": \"Export to plot.ly\"})});</script>"
      ]
     },
     "metadata": {},
     "output_type": "display_data"
    },
    {
     "data": {
      "application/vnd.plotly.v1+json": {
       "data": [
        {
         "name": "Hits",
         "type": "bar",
         "uid": "4cfe2aaa-e29a-11e8-9490-d5f4ba98b039",
         "x": [
          "Student_1",
          "Student_2",
          "Student_3",
          "Student_4",
          "Student_5",
          "Student_6",
          "Student_7",
          "Student_8",
          "Student_9",
          "Student_10",
          "Student_11",
          "Student_12",
          "Student_13",
          "Student_14",
          "Student_15",
          "Student_16",
          "Student_17",
          "Student_18",
          "Student_19",
          "Student_20"
         ],
         "y": [
          8,
          3,
          1,
          14,
          17,
          8,
          9,
          12,
          0,
          16,
          3,
          11,
          4,
          6,
          6,
          7,
          3,
          7,
          16,
          11
         ]
        },
        {
         "name": "Readings",
         "type": "bar",
         "uid": "4cfe2c9e-e29a-11e8-9490-d5f4ba98b039",
         "x": [
          "Student_1",
          "Student_2",
          "Student_3",
          "Student_4",
          "Student_5",
          "Student_6",
          "Student_7",
          "Student_8",
          "Student_9",
          "Student_10",
          "Student_11",
          "Student_12",
          "Student_13",
          "Student_14",
          "Student_15",
          "Student_16",
          "Student_17",
          "Student_18",
          "Student_19",
          "Student_20"
         ],
         "y": [
          5,
          8,
          6,
          4,
          0,
          1,
          10,
          15,
          5,
          19,
          4,
          15,
          5,
          19,
          17,
          1,
          5,
          19,
          1,
          4
         ]
        },
        {
         "name": "Posts",
         "type": "bar",
         "uid": "4cfe2d84-e29a-11e8-9490-d5f4ba98b039",
         "x": [
          "Student_1",
          "Student_2",
          "Student_3",
          "Student_4",
          "Student_5",
          "Student_6",
          "Student_7",
          "Student_8",
          "Student_9",
          "Student_10",
          "Student_11",
          "Student_12",
          "Student_13",
          "Student_14",
          "Student_15",
          "Student_16",
          "Student_17",
          "Student_18",
          "Student_19",
          "Student_20"
         ],
         "y": [
          5,
          7,
          4,
          1,
          12,
          17,
          18,
          10,
          9,
          17,
          4,
          2,
          9,
          17,
          1,
          5,
          16,
          0,
          5,
          18
         ]
        }
       ],
       "layout": {
        "barmode": "stack",
        "title": "Número de acessos a Posts, Leituras e Likes agrupados por estudante",
        "yaxis": {
         "dtick": 5,
         "exponentformat": "e",
         "gridcolor": "#bdbdbd",
         "showexponent": "all",
         "showticklabels": true,
         "tick0": 0,
         "titlefont": {
          "color": "lightgrey",
          "family": "Arial, sans-serif"
         }
        }
       }
      },
      "text/html": [
       "<div id=\"c36bad66-06e3-4e83-bc40-fb2380853d5d\" style=\"height: 525px; width: 100%;\" class=\"plotly-graph-div\"></div><script type=\"text/javascript\">require([\"plotly\"], function(Plotly) { window.PLOTLYENV=window.PLOTLYENV || {};window.PLOTLYENV.BASE_URL=\"https://plot.ly\";Plotly.newPlot(\"c36bad66-06e3-4e83-bc40-fb2380853d5d\", [{\"name\": \"Hits\", \"x\": [\"Student_1\", \"Student_2\", \"Student_3\", \"Student_4\", \"Student_5\", \"Student_6\", \"Student_7\", \"Student_8\", \"Student_9\", \"Student_10\", \"Student_11\", \"Student_12\", \"Student_13\", \"Student_14\", \"Student_15\", \"Student_16\", \"Student_17\", \"Student_18\", \"Student_19\", \"Student_20\"], \"y\": [8, 3, 1, 14, 17, 8, 9, 12, 0, 16, 3, 11, 4, 6, 6, 7, 3, 7, 16, 11], \"type\": \"bar\", \"uid\": \"4cfe2aaa-e29a-11e8-9490-d5f4ba98b039\"}, {\"name\": \"Readings\", \"x\": [\"Student_1\", \"Student_2\", \"Student_3\", \"Student_4\", \"Student_5\", \"Student_6\", \"Student_7\", \"Student_8\", \"Student_9\", \"Student_10\", \"Student_11\", \"Student_12\", \"Student_13\", \"Student_14\", \"Student_15\", \"Student_16\", \"Student_17\", \"Student_18\", \"Student_19\", \"Student_20\"], \"y\": [5, 8, 6, 4, 0, 1, 10, 15, 5, 19, 4, 15, 5, 19, 17, 1, 5, 19, 1, 4], \"type\": \"bar\", \"uid\": \"4cfe2c9e-e29a-11e8-9490-d5f4ba98b039\"}, {\"name\": \"Posts\", \"x\": [\"Student_1\", \"Student_2\", \"Student_3\", \"Student_4\", \"Student_5\", \"Student_6\", \"Student_7\", \"Student_8\", \"Student_9\", \"Student_10\", \"Student_11\", \"Student_12\", \"Student_13\", \"Student_14\", \"Student_15\", \"Student_16\", \"Student_17\", \"Student_18\", \"Student_19\", \"Student_20\"], \"y\": [5, 7, 4, 1, 12, 17, 18, 10, 9, 17, 4, 2, 9, 17, 1, 5, 16, 0, 5, 18], \"type\": \"bar\", \"uid\": \"4cfe2d84-e29a-11e8-9490-d5f4ba98b039\"}], {\"barmode\": \"stack\", \"title\": \"N\\u00famero de acessos a Posts, Leituras e Likes agrupados por estudante\", \"yaxis\": {\"dtick\": 5, \"exponentformat\": \"e\", \"gridcolor\": \"#bdbdbd\", \"showexponent\": \"all\", \"showticklabels\": true, \"tick0\": 0, \"titlefont\": {\"color\": \"lightgrey\", \"family\": \"Arial, sans-serif\"}}}, {\"showLink\": true, \"linkText\": \"Export to plot.ly\"})});</script>"
      ],
      "text/vnd.plotly.v1+html": [
       "<div id=\"c36bad66-06e3-4e83-bc40-fb2380853d5d\" style=\"height: 525px; width: 100%;\" class=\"plotly-graph-div\"></div><script type=\"text/javascript\">require([\"plotly\"], function(Plotly) { window.PLOTLYENV=window.PLOTLYENV || {};window.PLOTLYENV.BASE_URL=\"https://plot.ly\";Plotly.newPlot(\"c36bad66-06e3-4e83-bc40-fb2380853d5d\", [{\"name\": \"Hits\", \"x\": [\"Student_1\", \"Student_2\", \"Student_3\", \"Student_4\", \"Student_5\", \"Student_6\", \"Student_7\", \"Student_8\", \"Student_9\", \"Student_10\", \"Student_11\", \"Student_12\", \"Student_13\", \"Student_14\", \"Student_15\", \"Student_16\", \"Student_17\", \"Student_18\", \"Student_19\", \"Student_20\"], \"y\": [8, 3, 1, 14, 17, 8, 9, 12, 0, 16, 3, 11, 4, 6, 6, 7, 3, 7, 16, 11], \"type\": \"bar\", \"uid\": \"4cfe2aaa-e29a-11e8-9490-d5f4ba98b039\"}, {\"name\": \"Readings\", \"x\": [\"Student_1\", \"Student_2\", \"Student_3\", \"Student_4\", \"Student_5\", \"Student_6\", \"Student_7\", \"Student_8\", \"Student_9\", \"Student_10\", \"Student_11\", \"Student_12\", \"Student_13\", \"Student_14\", \"Student_15\", \"Student_16\", \"Student_17\", \"Student_18\", \"Student_19\", \"Student_20\"], \"y\": [5, 8, 6, 4, 0, 1, 10, 15, 5, 19, 4, 15, 5, 19, 17, 1, 5, 19, 1, 4], \"type\": \"bar\", \"uid\": \"4cfe2c9e-e29a-11e8-9490-d5f4ba98b039\"}, {\"name\": \"Posts\", \"x\": [\"Student_1\", \"Student_2\", \"Student_3\", \"Student_4\", \"Student_5\", \"Student_6\", \"Student_7\", \"Student_8\", \"Student_9\", \"Student_10\", \"Student_11\", \"Student_12\", \"Student_13\", \"Student_14\", \"Student_15\", \"Student_16\", \"Student_17\", \"Student_18\", \"Student_19\", \"Student_20\"], \"y\": [5, 7, 4, 1, 12, 17, 18, 10, 9, 17, 4, 2, 9, 17, 1, 5, 16, 0, 5, 18], \"type\": \"bar\", \"uid\": \"4cfe2d84-e29a-11e8-9490-d5f4ba98b039\"}], {\"barmode\": \"stack\", \"title\": \"N\\u00famero de acessos a Posts, Leituras e Likes agrupados por estudante\", \"yaxis\": {\"dtick\": 5, \"exponentformat\": \"e\", \"gridcolor\": \"#bdbdbd\", \"showexponent\": \"all\", \"showticklabels\": true, \"tick0\": 0, \"titlefont\": {\"color\": \"lightgrey\", \"family\": \"Arial, sans-serif\"}}}, {\"showLink\": true, \"linkText\": \"Export to plot.ly\"})});</script>"
      ]
     },
     "metadata": {},
     "output_type": "display_data"
    },
    {
     "data": {
      "application/vnd.plotly.v1+json": {
       "data": [
        {
         "name": "Hits",
         "orientation": "h",
         "type": "bar",
         "uid": "4d03f62e-e29a-11e8-9490-d5f4ba98b039",
         "x": [
          8,
          3,
          1,
          14,
          17,
          8,
          9,
          12,
          0,
          16,
          3,
          11,
          4,
          6,
          6,
          7,
          3,
          7,
          16,
          11
         ],
         "y": [
          "Student_1",
          "Student_2",
          "Student_3",
          "Student_4",
          "Student_5",
          "Student_6",
          "Student_7",
          "Student_8",
          "Student_9",
          "Student_10",
          "Student_11",
          "Student_12",
          "Student_13",
          "Student_14",
          "Student_15",
          "Student_16",
          "Student_17",
          "Student_18",
          "Student_19",
          "Student_20"
         ]
        },
        {
         "name": "Readings",
         "orientation": "h",
         "type": "bar",
         "uid": "4d03f7e6-e29a-11e8-9490-d5f4ba98b039",
         "x": [
          5,
          8,
          6,
          4,
          0,
          1,
          10,
          15,
          5,
          19,
          4,
          15,
          5,
          19,
          17,
          1,
          5,
          19,
          1,
          4
         ],
         "y": [
          "Student_1",
          "Student_2",
          "Student_3",
          "Student_4",
          "Student_5",
          "Student_6",
          "Student_7",
          "Student_8",
          "Student_9",
          "Student_10",
          "Student_11",
          "Student_12",
          "Student_13",
          "Student_14",
          "Student_15",
          "Student_16",
          "Student_17",
          "Student_18",
          "Student_19",
          "Student_20"
         ]
        },
        {
         "name": "Posts",
         "orientation": "h",
         "type": "bar",
         "uid": "4d03f8e0-e29a-11e8-9490-d5f4ba98b039",
         "x": [
          5,
          7,
          4,
          1,
          12,
          17,
          18,
          10,
          9,
          17,
          4,
          2,
          9,
          17,
          1,
          5,
          16,
          0,
          5,
          18
         ],
         "y": [
          "Student_1",
          "Student_2",
          "Student_3",
          "Student_4",
          "Student_5",
          "Student_6",
          "Student_7",
          "Student_8",
          "Student_9",
          "Student_10",
          "Student_11",
          "Student_12",
          "Student_13",
          "Student_14",
          "Student_15",
          "Student_16",
          "Student_17",
          "Student_18",
          "Student_19",
          "Student_20"
         ]
        }
       ],
       "layout": {
        "barmode": "stack",
        "title": "Número de acessos a Posts, Leituras e Likes agrupados por estudante",
        "yaxis": {
         "dtick": 1,
         "exponentformat": "e",
         "gridcolor": "#bdbdbd",
         "showexponent": "all",
         "showticklabels": true,
         "tick0": 0,
         "titlefont": {
          "color": "lightgrey",
          "family": "Arial, sans-serif"
         }
        }
       }
      },
      "text/html": [
       "<div id=\"c8b92be6-1d3f-498b-b109-7fe970876da3\" style=\"height: 525px; width: 100%;\" class=\"plotly-graph-div\"></div><script type=\"text/javascript\">require([\"plotly\"], function(Plotly) { window.PLOTLYENV=window.PLOTLYENV || {};window.PLOTLYENV.BASE_URL=\"https://plot.ly\";Plotly.newPlot(\"c8b92be6-1d3f-498b-b109-7fe970876da3\", [{\"name\": \"Hits\", \"orientation\": \"h\", \"x\": [8, 3, 1, 14, 17, 8, 9, 12, 0, 16, 3, 11, 4, 6, 6, 7, 3, 7, 16, 11], \"y\": [\"Student_1\", \"Student_2\", \"Student_3\", \"Student_4\", \"Student_5\", \"Student_6\", \"Student_7\", \"Student_8\", \"Student_9\", \"Student_10\", \"Student_11\", \"Student_12\", \"Student_13\", \"Student_14\", \"Student_15\", \"Student_16\", \"Student_17\", \"Student_18\", \"Student_19\", \"Student_20\"], \"type\": \"bar\", \"uid\": \"4d03f62e-e29a-11e8-9490-d5f4ba98b039\"}, {\"name\": \"Readings\", \"orientation\": \"h\", \"x\": [5, 8, 6, 4, 0, 1, 10, 15, 5, 19, 4, 15, 5, 19, 17, 1, 5, 19, 1, 4], \"y\": [\"Student_1\", \"Student_2\", \"Student_3\", \"Student_4\", \"Student_5\", \"Student_6\", \"Student_7\", \"Student_8\", \"Student_9\", \"Student_10\", \"Student_11\", \"Student_12\", \"Student_13\", \"Student_14\", \"Student_15\", \"Student_16\", \"Student_17\", \"Student_18\", \"Student_19\", \"Student_20\"], \"type\": \"bar\", \"uid\": \"4d03f7e6-e29a-11e8-9490-d5f4ba98b039\"}, {\"name\": \"Posts\", \"orientation\": \"h\", \"x\": [5, 7, 4, 1, 12, 17, 18, 10, 9, 17, 4, 2, 9, 17, 1, 5, 16, 0, 5, 18], \"y\": [\"Student_1\", \"Student_2\", \"Student_3\", \"Student_4\", \"Student_5\", \"Student_6\", \"Student_7\", \"Student_8\", \"Student_9\", \"Student_10\", \"Student_11\", \"Student_12\", \"Student_13\", \"Student_14\", \"Student_15\", \"Student_16\", \"Student_17\", \"Student_18\", \"Student_19\", \"Student_20\"], \"type\": \"bar\", \"uid\": \"4d03f8e0-e29a-11e8-9490-d5f4ba98b039\"}], {\"barmode\": \"stack\", \"title\": \"N\\u00famero de acessos a Posts, Leituras e Likes agrupados por estudante\", \"yaxis\": {\"dtick\": 1, \"exponentformat\": \"e\", \"gridcolor\": \"#bdbdbd\", \"showexponent\": \"all\", \"showticklabels\": true, \"tick0\": 0, \"titlefont\": {\"color\": \"lightgrey\", \"family\": \"Arial, sans-serif\"}}}, {\"showLink\": true, \"linkText\": \"Export to plot.ly\"})});</script>"
      ],
      "text/vnd.plotly.v1+html": [
       "<div id=\"c8b92be6-1d3f-498b-b109-7fe970876da3\" style=\"height: 525px; width: 100%;\" class=\"plotly-graph-div\"></div><script type=\"text/javascript\">require([\"plotly\"], function(Plotly) { window.PLOTLYENV=window.PLOTLYENV || {};window.PLOTLYENV.BASE_URL=\"https://plot.ly\";Plotly.newPlot(\"c8b92be6-1d3f-498b-b109-7fe970876da3\", [{\"name\": \"Hits\", \"orientation\": \"h\", \"x\": [8, 3, 1, 14, 17, 8, 9, 12, 0, 16, 3, 11, 4, 6, 6, 7, 3, 7, 16, 11], \"y\": [\"Student_1\", \"Student_2\", \"Student_3\", \"Student_4\", \"Student_5\", \"Student_6\", \"Student_7\", \"Student_8\", \"Student_9\", \"Student_10\", \"Student_11\", \"Student_12\", \"Student_13\", \"Student_14\", \"Student_15\", \"Student_16\", \"Student_17\", \"Student_18\", \"Student_19\", \"Student_20\"], \"type\": \"bar\", \"uid\": \"4d03f62e-e29a-11e8-9490-d5f4ba98b039\"}, {\"name\": \"Readings\", \"orientation\": \"h\", \"x\": [5, 8, 6, 4, 0, 1, 10, 15, 5, 19, 4, 15, 5, 19, 17, 1, 5, 19, 1, 4], \"y\": [\"Student_1\", \"Student_2\", \"Student_3\", \"Student_4\", \"Student_5\", \"Student_6\", \"Student_7\", \"Student_8\", \"Student_9\", \"Student_10\", \"Student_11\", \"Student_12\", \"Student_13\", \"Student_14\", \"Student_15\", \"Student_16\", \"Student_17\", \"Student_18\", \"Student_19\", \"Student_20\"], \"type\": \"bar\", \"uid\": \"4d03f7e6-e29a-11e8-9490-d5f4ba98b039\"}, {\"name\": \"Posts\", \"orientation\": \"h\", \"x\": [5, 7, 4, 1, 12, 17, 18, 10, 9, 17, 4, 2, 9, 17, 1, 5, 16, 0, 5, 18], \"y\": [\"Student_1\", \"Student_2\", \"Student_3\", \"Student_4\", \"Student_5\", \"Student_6\", \"Student_7\", \"Student_8\", \"Student_9\", \"Student_10\", \"Student_11\", \"Student_12\", \"Student_13\", \"Student_14\", \"Student_15\", \"Student_16\", \"Student_17\", \"Student_18\", \"Student_19\", \"Student_20\"], \"type\": \"bar\", \"uid\": \"4d03f8e0-e29a-11e8-9490-d5f4ba98b039\"}], {\"barmode\": \"stack\", \"title\": \"N\\u00famero de acessos a Posts, Leituras e Likes agrupados por estudante\", \"yaxis\": {\"dtick\": 1, \"exponentformat\": \"e\", \"gridcolor\": \"#bdbdbd\", \"showexponent\": \"all\", \"showticklabels\": true, \"tick0\": 0, \"titlefont\": {\"color\": \"lightgrey\", \"family\": \"Arial, sans-serif\"}}}, {\"showLink\": true, \"linkText\": \"Export to plot.ly\"})});</script>"
      ]
     },
     "metadata": {},
     "output_type": "display_data"
    },
    {
     "data": {
      "application/vnd.plotly.v1+json": {
       "data": [
        {
         "marker": {
          "line": {
           "width": 2
          },
          "size": [
           8,
           5,
           5
          ],
          "sizemode": "area",
          "sizeref": 0.10526315789473684,
          "symbol": "circle"
         },
         "mode": "markers",
         "name": "Student_1",
         "text": [
          "8",
          "5",
          "5"
         ],
         "type": "scatter",
         "uid": "4d180042-e29a-11e8-9490-d5f4ba98b039",
         "x": [
          "Student_1",
          "Student_1",
          "Student_1",
          "Student_1"
         ],
         "y": [
          "Hits",
          "Readings",
          "Posts"
         ]
        },
        {
         "marker": {
          "line": {
           "width": 2
          },
          "size": [
           3,
           8,
           7
          ],
          "sizemode": "area",
          "sizeref": 0.10526315789473684,
          "symbol": "circle"
         },
         "mode": "markers",
         "name": "Student_2",
         "text": [
          "3",
          "8",
          "7"
         ],
         "type": "scatter",
         "uid": "4d1801f0-e29a-11e8-9490-d5f4ba98b039",
         "x": [
          "Student_2",
          "Student_2",
          "Student_2",
          "Student_2"
         ],
         "y": [
          "Hits",
          "Readings",
          "Posts"
         ]
        },
        {
         "marker": {
          "line": {
           "width": 2
          },
          "size": [
           1,
           6,
           4
          ],
          "sizemode": "area",
          "sizeref": 0.10526315789473684,
          "symbol": "circle"
         },
         "mode": "markers",
         "name": "Student_3",
         "text": [
          "1",
          "6",
          "4"
         ],
         "type": "scatter",
         "uid": "4d1802b8-e29a-11e8-9490-d5f4ba98b039",
         "x": [
          "Student_3",
          "Student_3",
          "Student_3",
          "Student_3"
         ],
         "y": [
          "Hits",
          "Readings",
          "Posts"
         ]
        },
        {
         "marker": {
          "line": {
           "width": 2
          },
          "size": [
           14,
           4,
           1
          ],
          "sizemode": "area",
          "sizeref": 0.10526315789473684,
          "symbol": "circle"
         },
         "mode": "markers",
         "name": "Student_4",
         "text": [
          "14",
          "4",
          "1"
         ],
         "type": "scatter",
         "uid": "4d180362-e29a-11e8-9490-d5f4ba98b039",
         "x": [
          "Student_4",
          "Student_4",
          "Student_4",
          "Student_4"
         ],
         "y": [
          "Hits",
          "Readings",
          "Posts"
         ]
        },
        {
         "marker": {
          "line": {
           "width": 2
          },
          "size": [
           17,
           0,
           12
          ],
          "sizemode": "area",
          "sizeref": 0.10526315789473684,
          "symbol": "circle"
         },
         "mode": "markers",
         "name": "Student_5",
         "text": [
          "17",
          "0",
          "12"
         ],
         "type": "scatter",
         "uid": "4d1803f8-e29a-11e8-9490-d5f4ba98b039",
         "x": [
          "Student_5",
          "Student_5",
          "Student_5",
          "Student_5"
         ],
         "y": [
          "Hits",
          "Readings",
          "Posts"
         ]
        },
        {
         "marker": {
          "line": {
           "width": 2
          },
          "size": [
           8,
           1,
           17
          ],
          "sizemode": "area",
          "sizeref": 0.10526315789473684,
          "symbol": "circle"
         },
         "mode": "markers",
         "name": "Student_6",
         "text": [
          "8",
          "1",
          "17"
         ],
         "type": "scatter",
         "uid": "4d180484-e29a-11e8-9490-d5f4ba98b039",
         "x": [
          "Student_6",
          "Student_6",
          "Student_6",
          "Student_6"
         ],
         "y": [
          "Hits",
          "Readings",
          "Posts"
         ]
        },
        {
         "marker": {
          "line": {
           "width": 2
          },
          "size": [
           9,
           10,
           18
          ],
          "sizemode": "area",
          "sizeref": 0.10526315789473684,
          "symbol": "circle"
         },
         "mode": "markers",
         "name": "Student_7",
         "text": [
          "9",
          "10",
          "18"
         ],
         "type": "scatter",
         "uid": "4d180510-e29a-11e8-9490-d5f4ba98b039",
         "x": [
          "Student_7",
          "Student_7",
          "Student_7",
          "Student_7"
         ],
         "y": [
          "Hits",
          "Readings",
          "Posts"
         ]
        },
        {
         "marker": {
          "line": {
           "width": 2
          },
          "size": [
           12,
           15,
           10
          ],
          "sizemode": "area",
          "sizeref": 0.10526315789473684,
          "symbol": "circle"
         },
         "mode": "markers",
         "name": "Student_8",
         "text": [
          "12",
          "15",
          "10"
         ],
         "type": "scatter",
         "uid": "4d180592-e29a-11e8-9490-d5f4ba98b039",
         "x": [
          "Student_8",
          "Student_8",
          "Student_8",
          "Student_8"
         ],
         "y": [
          "Hits",
          "Readings",
          "Posts"
         ]
        },
        {
         "marker": {
          "line": {
           "width": 2
          },
          "size": [
           0,
           5,
           9
          ],
          "sizemode": "area",
          "sizeref": 0.10526315789473684,
          "symbol": "circle"
         },
         "mode": "markers",
         "name": "Student_9",
         "text": [
          "0",
          "5",
          "9"
         ],
         "type": "scatter",
         "uid": "4d18061e-e29a-11e8-9490-d5f4ba98b039",
         "x": [
          "Student_9",
          "Student_9",
          "Student_9",
          "Student_9"
         ],
         "y": [
          "Hits",
          "Readings",
          "Posts"
         ]
        },
        {
         "marker": {
          "line": {
           "width": 2
          },
          "size": [
           16,
           19,
           17
          ],
          "sizemode": "area",
          "sizeref": 0.10526315789473684,
          "symbol": "circle"
         },
         "mode": "markers",
         "name": "Student_10",
         "text": [
          "16",
          "19",
          "17"
         ],
         "type": "scatter",
         "uid": "4d1806a0-e29a-11e8-9490-d5f4ba98b039",
         "x": [
          "Student_10",
          "Student_10",
          "Student_10",
          "Student_10"
         ],
         "y": [
          "Hits",
          "Readings",
          "Posts"
         ]
        },
        {
         "marker": {
          "line": {
           "width": 2
          },
          "size": [
           3,
           4,
           4
          ],
          "sizemode": "area",
          "sizeref": 0.10526315789473684,
          "symbol": "circle"
         },
         "mode": "markers",
         "name": "Student_11",
         "text": [
          "3",
          "4",
          "4"
         ],
         "type": "scatter",
         "uid": "4d18072c-e29a-11e8-9490-d5f4ba98b039",
         "x": [
          "Student_11",
          "Student_11",
          "Student_11",
          "Student_11"
         ],
         "y": [
          "Hits",
          "Readings",
          "Posts"
         ]
        },
        {
         "marker": {
          "line": {
           "width": 2
          },
          "size": [
           11,
           15,
           2
          ],
          "sizemode": "area",
          "sizeref": 0.10526315789473684,
          "symbol": "circle"
         },
         "mode": "markers",
         "name": "Student_12",
         "text": [
          "11",
          "15",
          "2"
         ],
         "type": "scatter",
         "uid": "4d1807ae-e29a-11e8-9490-d5f4ba98b039",
         "x": [
          "Student_12",
          "Student_12",
          "Student_12",
          "Student_12"
         ],
         "y": [
          "Hits",
          "Readings",
          "Posts"
         ]
        },
        {
         "marker": {
          "line": {
           "width": 2
          },
          "size": [
           4,
           5,
           9
          ],
          "sizemode": "area",
          "sizeref": 0.10526315789473684,
          "symbol": "circle"
         },
         "mode": "markers",
         "name": "Student_13",
         "text": [
          "4",
          "5",
          "9"
         ],
         "type": "scatter",
         "uid": "4d18083a-e29a-11e8-9490-d5f4ba98b039",
         "x": [
          "Student_13",
          "Student_13",
          "Student_13",
          "Student_13"
         ],
         "y": [
          "Hits",
          "Readings",
          "Posts"
         ]
        },
        {
         "marker": {
          "line": {
           "width": 2
          },
          "size": [
           6,
           19,
           17
          ],
          "sizemode": "area",
          "sizeref": 0.10526315789473684,
          "symbol": "circle"
         },
         "mode": "markers",
         "name": "Student_14",
         "text": [
          "6",
          "19",
          "17"
         ],
         "type": "scatter",
         "uid": "4d1808c6-e29a-11e8-9490-d5f4ba98b039",
         "x": [
          "Student_14",
          "Student_14",
          "Student_14",
          "Student_14"
         ],
         "y": [
          "Hits",
          "Readings",
          "Posts"
         ]
        },
        {
         "marker": {
          "line": {
           "width": 2
          },
          "size": [
           6,
           17,
           1
          ],
          "sizemode": "area",
          "sizeref": 0.10526315789473684,
          "symbol": "circle"
         },
         "mode": "markers",
         "name": "Student_15",
         "text": [
          "6",
          "17",
          "1"
         ],
         "type": "scatter",
         "uid": "4d180948-e29a-11e8-9490-d5f4ba98b039",
         "x": [
          "Student_15",
          "Student_15",
          "Student_15",
          "Student_15"
         ],
         "y": [
          "Hits",
          "Readings",
          "Posts"
         ]
        },
        {
         "marker": {
          "line": {
           "width": 2
          },
          "size": [
           7,
           1,
           5
          ],
          "sizemode": "area",
          "sizeref": 0.10526315789473684,
          "symbol": "circle"
         },
         "mode": "markers",
         "name": "Student_16",
         "text": [
          "7",
          "1",
          "5"
         ],
         "type": "scatter",
         "uid": "4d1809ca-e29a-11e8-9490-d5f4ba98b039",
         "x": [
          "Student_16",
          "Student_16",
          "Student_16",
          "Student_16"
         ],
         "y": [
          "Hits",
          "Readings",
          "Posts"
         ]
        },
        {
         "marker": {
          "line": {
           "width": 2
          },
          "size": [
           3,
           5,
           16
          ],
          "sizemode": "area",
          "sizeref": 0.10526315789473684,
          "symbol": "circle"
         },
         "mode": "markers",
         "name": "Student_17",
         "text": [
          "3",
          "5",
          "16"
         ],
         "type": "scatter",
         "uid": "4d180a4c-e29a-11e8-9490-d5f4ba98b039",
         "x": [
          "Student_17",
          "Student_17",
          "Student_17",
          "Student_17"
         ],
         "y": [
          "Hits",
          "Readings",
          "Posts"
         ]
        },
        {
         "marker": {
          "line": {
           "width": 2
          },
          "size": [
           7,
           19,
           0
          ],
          "sizemode": "area",
          "sizeref": 0.10526315789473684,
          "symbol": "circle"
         },
         "mode": "markers",
         "name": "Student_18",
         "text": [
          "7",
          "19",
          "0"
         ],
         "type": "scatter",
         "uid": "4d180ace-e29a-11e8-9490-d5f4ba98b039",
         "x": [
          "Student_18",
          "Student_18",
          "Student_18",
          "Student_18"
         ],
         "y": [
          "Hits",
          "Readings",
          "Posts"
         ]
        },
        {
         "marker": {
          "line": {
           "width": 2
          },
          "size": [
           16,
           1,
           5
          ],
          "sizemode": "area",
          "sizeref": 0.10526315789473684,
          "symbol": "circle"
         },
         "mode": "markers",
         "name": "Student_19",
         "text": [
          "16",
          "1",
          "5"
         ],
         "type": "scatter",
         "uid": "4d180b46-e29a-11e8-9490-d5f4ba98b039",
         "x": [
          "Student_19",
          "Student_19",
          "Student_19",
          "Student_19"
         ],
         "y": [
          "Hits",
          "Readings",
          "Posts"
         ]
        },
        {
         "marker": {
          "line": {
           "width": 2
          },
          "size": [
           11,
           4,
           18
          ],
          "sizemode": "area",
          "sizeref": 0.10526315789473684,
          "symbol": "circle"
         },
         "mode": "markers",
         "name": "Student_20",
         "text": [
          "11",
          "4",
          "18"
         ],
         "type": "scatter",
         "uid": "4d180bbe-e29a-11e8-9490-d5f4ba98b039",
         "x": [
          "Student_20",
          "Student_20",
          "Student_20",
          "Student_20"
         ],
         "y": [
          "Hits",
          "Readings",
          "Posts"
         ]
        }
       ],
       "layout": {
        "hovermode": "closest",
        "showlegend": true,
        "title": "Número de acessos a Posts, Leituras e Likes por estudante",
        "xaxis": {
         "autorange": false,
         "fixedrange": false,
         "range": [
          -1,
          20
         ],
         "rangemode": "normal",
         "showline": true,
         "title": "Estudantes",
         "type": "category"
        },
        "yaxis": {
         "autorange": false,
         "categoryorder": "category ascending",
         "fixedrange": false,
         "range": [
          -1,
          3
         ],
         "rangemode": "normal",
         "showline": true,
         "type": "category"
        }
       }
      },
      "text/html": [
       "<div id=\"f6573b09-9d1d-4f11-9ad2-250fa2d83bbf\" style=\"height: 525px; width: 100%;\" class=\"plotly-graph-div\"></div><script type=\"text/javascript\">require([\"plotly\"], function(Plotly) { window.PLOTLYENV=window.PLOTLYENV || {};window.PLOTLYENV.BASE_URL=\"https://plot.ly\";Plotly.newPlot(\"f6573b09-9d1d-4f11-9ad2-250fa2d83bbf\", [{\"marker\": {\"line\": {\"width\": 2}, \"size\": [8, 5, 5], \"sizemode\": \"area\", \"sizeref\": 0.10526315789473684, \"symbol\": \"circle\"}, \"mode\": \"markers\", \"name\": \"Student_1\", \"text\": [\"8\", \"5\", \"5\"], \"x\": [\"Student_1\", \"Student_1\", \"Student_1\", \"Student_1\"], \"y\": [\"Hits\", \"Readings\", \"Posts\"], \"type\": \"scatter\", \"uid\": \"4d180042-e29a-11e8-9490-d5f4ba98b039\"}, {\"marker\": {\"line\": {\"width\": 2}, \"size\": [3, 8, 7], \"sizemode\": \"area\", \"sizeref\": 0.10526315789473684, \"symbol\": \"circle\"}, \"mode\": \"markers\", \"name\": \"Student_2\", \"text\": [\"3\", \"8\", \"7\"], \"x\": [\"Student_2\", \"Student_2\", \"Student_2\", \"Student_2\"], \"y\": [\"Hits\", \"Readings\", \"Posts\"], \"type\": \"scatter\", \"uid\": \"4d1801f0-e29a-11e8-9490-d5f4ba98b039\"}, {\"marker\": {\"line\": {\"width\": 2}, \"size\": [1, 6, 4], \"sizemode\": \"area\", \"sizeref\": 0.10526315789473684, \"symbol\": \"circle\"}, \"mode\": \"markers\", \"name\": \"Student_3\", \"text\": [\"1\", \"6\", \"4\"], \"x\": [\"Student_3\", \"Student_3\", \"Student_3\", \"Student_3\"], \"y\": [\"Hits\", \"Readings\", \"Posts\"], \"type\": \"scatter\", \"uid\": \"4d1802b8-e29a-11e8-9490-d5f4ba98b039\"}, {\"marker\": {\"line\": {\"width\": 2}, \"size\": [14, 4, 1], \"sizemode\": \"area\", \"sizeref\": 0.10526315789473684, \"symbol\": \"circle\"}, \"mode\": \"markers\", \"name\": \"Student_4\", \"text\": [\"14\", \"4\", \"1\"], \"x\": [\"Student_4\", \"Student_4\", \"Student_4\", \"Student_4\"], \"y\": [\"Hits\", \"Readings\", \"Posts\"], \"type\": \"scatter\", \"uid\": \"4d180362-e29a-11e8-9490-d5f4ba98b039\"}, {\"marker\": {\"line\": {\"width\": 2}, \"size\": [17, 0, 12], \"sizemode\": \"area\", \"sizeref\": 0.10526315789473684, \"symbol\": \"circle\"}, \"mode\": \"markers\", \"name\": \"Student_5\", \"text\": [\"17\", \"0\", \"12\"], \"x\": [\"Student_5\", \"Student_5\", \"Student_5\", \"Student_5\"], \"y\": [\"Hits\", \"Readings\", \"Posts\"], \"type\": \"scatter\", \"uid\": \"4d1803f8-e29a-11e8-9490-d5f4ba98b039\"}, {\"marker\": {\"line\": {\"width\": 2}, \"size\": [8, 1, 17], \"sizemode\": \"area\", \"sizeref\": 0.10526315789473684, \"symbol\": \"circle\"}, \"mode\": \"markers\", \"name\": \"Student_6\", \"text\": [\"8\", \"1\", \"17\"], \"x\": [\"Student_6\", \"Student_6\", \"Student_6\", \"Student_6\"], \"y\": [\"Hits\", \"Readings\", \"Posts\"], \"type\": \"scatter\", \"uid\": \"4d180484-e29a-11e8-9490-d5f4ba98b039\"}, {\"marker\": {\"line\": {\"width\": 2}, \"size\": [9, 10, 18], \"sizemode\": \"area\", \"sizeref\": 0.10526315789473684, \"symbol\": \"circle\"}, \"mode\": \"markers\", \"name\": \"Student_7\", \"text\": [\"9\", \"10\", \"18\"], \"x\": [\"Student_7\", \"Student_7\", \"Student_7\", \"Student_7\"], \"y\": [\"Hits\", \"Readings\", \"Posts\"], \"type\": \"scatter\", \"uid\": \"4d180510-e29a-11e8-9490-d5f4ba98b039\"}, {\"marker\": {\"line\": {\"width\": 2}, \"size\": [12, 15, 10], \"sizemode\": \"area\", \"sizeref\": 0.10526315789473684, \"symbol\": \"circle\"}, \"mode\": \"markers\", \"name\": \"Student_8\", \"text\": [\"12\", \"15\", \"10\"], \"x\": [\"Student_8\", \"Student_8\", \"Student_8\", \"Student_8\"], \"y\": [\"Hits\", \"Readings\", \"Posts\"], \"type\": \"scatter\", \"uid\": \"4d180592-e29a-11e8-9490-d5f4ba98b039\"}, {\"marker\": {\"line\": {\"width\": 2}, \"size\": [0, 5, 9], \"sizemode\": \"area\", \"sizeref\": 0.10526315789473684, \"symbol\": \"circle\"}, \"mode\": \"markers\", \"name\": \"Student_9\", \"text\": [\"0\", \"5\", \"9\"], \"x\": [\"Student_9\", \"Student_9\", \"Student_9\", \"Student_9\"], \"y\": [\"Hits\", \"Readings\", \"Posts\"], \"type\": \"scatter\", \"uid\": \"4d18061e-e29a-11e8-9490-d5f4ba98b039\"}, {\"marker\": {\"line\": {\"width\": 2}, \"size\": [16, 19, 17], \"sizemode\": \"area\", \"sizeref\": 0.10526315789473684, \"symbol\": \"circle\"}, \"mode\": \"markers\", \"name\": \"Student_10\", \"text\": [\"16\", \"19\", \"17\"], \"x\": [\"Student_10\", \"Student_10\", \"Student_10\", \"Student_10\"], \"y\": [\"Hits\", \"Readings\", \"Posts\"], \"type\": \"scatter\", \"uid\": \"4d1806a0-e29a-11e8-9490-d5f4ba98b039\"}, {\"marker\": {\"line\": {\"width\": 2}, \"size\": [3, 4, 4], \"sizemode\": \"area\", \"sizeref\": 0.10526315789473684, \"symbol\": \"circle\"}, \"mode\": \"markers\", \"name\": \"Student_11\", \"text\": [\"3\", \"4\", \"4\"], \"x\": [\"Student_11\", \"Student_11\", \"Student_11\", \"Student_11\"], \"y\": [\"Hits\", \"Readings\", \"Posts\"], \"type\": \"scatter\", \"uid\": \"4d18072c-e29a-11e8-9490-d5f4ba98b039\"}, {\"marker\": {\"line\": {\"width\": 2}, \"size\": [11, 15, 2], \"sizemode\": \"area\", \"sizeref\": 0.10526315789473684, \"symbol\": \"circle\"}, \"mode\": \"markers\", \"name\": \"Student_12\", \"text\": [\"11\", \"15\", \"2\"], \"x\": [\"Student_12\", \"Student_12\", \"Student_12\", \"Student_12\"], \"y\": [\"Hits\", \"Readings\", \"Posts\"], \"type\": \"scatter\", \"uid\": \"4d1807ae-e29a-11e8-9490-d5f4ba98b039\"}, {\"marker\": {\"line\": {\"width\": 2}, \"size\": [4, 5, 9], \"sizemode\": \"area\", \"sizeref\": 0.10526315789473684, \"symbol\": \"circle\"}, \"mode\": \"markers\", \"name\": \"Student_13\", \"text\": [\"4\", \"5\", \"9\"], \"x\": [\"Student_13\", \"Student_13\", \"Student_13\", \"Student_13\"], \"y\": [\"Hits\", \"Readings\", \"Posts\"], \"type\": \"scatter\", \"uid\": \"4d18083a-e29a-11e8-9490-d5f4ba98b039\"}, {\"marker\": {\"line\": {\"width\": 2}, \"size\": [6, 19, 17], \"sizemode\": \"area\", \"sizeref\": 0.10526315789473684, \"symbol\": \"circle\"}, \"mode\": \"markers\", \"name\": \"Student_14\", \"text\": [\"6\", \"19\", \"17\"], \"x\": [\"Student_14\", \"Student_14\", \"Student_14\", \"Student_14\"], \"y\": [\"Hits\", \"Readings\", \"Posts\"], \"type\": \"scatter\", \"uid\": \"4d1808c6-e29a-11e8-9490-d5f4ba98b039\"}, {\"marker\": {\"line\": {\"width\": 2}, \"size\": [6, 17, 1], \"sizemode\": \"area\", \"sizeref\": 0.10526315789473684, \"symbol\": \"circle\"}, \"mode\": \"markers\", \"name\": \"Student_15\", \"text\": [\"6\", \"17\", \"1\"], \"x\": [\"Student_15\", \"Student_15\", \"Student_15\", \"Student_15\"], \"y\": [\"Hits\", \"Readings\", \"Posts\"], \"type\": \"scatter\", \"uid\": \"4d180948-e29a-11e8-9490-d5f4ba98b039\"}, {\"marker\": {\"line\": {\"width\": 2}, \"size\": [7, 1, 5], \"sizemode\": \"area\", \"sizeref\": 0.10526315789473684, \"symbol\": \"circle\"}, \"mode\": \"markers\", \"name\": \"Student_16\", \"text\": [\"7\", \"1\", \"5\"], \"x\": [\"Student_16\", \"Student_16\", \"Student_16\", \"Student_16\"], \"y\": [\"Hits\", \"Readings\", \"Posts\"], \"type\": \"scatter\", \"uid\": \"4d1809ca-e29a-11e8-9490-d5f4ba98b039\"}, {\"marker\": {\"line\": {\"width\": 2}, \"size\": [3, 5, 16], \"sizemode\": \"area\", \"sizeref\": 0.10526315789473684, \"symbol\": \"circle\"}, \"mode\": \"markers\", \"name\": \"Student_17\", \"text\": [\"3\", \"5\", \"16\"], \"x\": [\"Student_17\", \"Student_17\", \"Student_17\", \"Student_17\"], \"y\": [\"Hits\", \"Readings\", \"Posts\"], \"type\": \"scatter\", \"uid\": \"4d180a4c-e29a-11e8-9490-d5f4ba98b039\"}, {\"marker\": {\"line\": {\"width\": 2}, \"size\": [7, 19, 0], \"sizemode\": \"area\", \"sizeref\": 0.10526315789473684, \"symbol\": \"circle\"}, \"mode\": \"markers\", \"name\": \"Student_18\", \"text\": [\"7\", \"19\", \"0\"], \"x\": [\"Student_18\", \"Student_18\", \"Student_18\", \"Student_18\"], \"y\": [\"Hits\", \"Readings\", \"Posts\"], \"type\": \"scatter\", \"uid\": \"4d180ace-e29a-11e8-9490-d5f4ba98b039\"}, {\"marker\": {\"line\": {\"width\": 2}, \"size\": [16, 1, 5], \"sizemode\": \"area\", \"sizeref\": 0.10526315789473684, \"symbol\": \"circle\"}, \"mode\": \"markers\", \"name\": \"Student_19\", \"text\": [\"16\", \"1\", \"5\"], \"x\": [\"Student_19\", \"Student_19\", \"Student_19\", \"Student_19\"], \"y\": [\"Hits\", \"Readings\", \"Posts\"], \"type\": \"scatter\", \"uid\": \"4d180b46-e29a-11e8-9490-d5f4ba98b039\"}, {\"marker\": {\"line\": {\"width\": 2}, \"size\": [11, 4, 18], \"sizemode\": \"area\", \"sizeref\": 0.10526315789473684, \"symbol\": \"circle\"}, \"mode\": \"markers\", \"name\": \"Student_20\", \"text\": [\"11\", \"4\", \"18\"], \"x\": [\"Student_20\", \"Student_20\", \"Student_20\", \"Student_20\"], \"y\": [\"Hits\", \"Readings\", \"Posts\"], \"type\": \"scatter\", \"uid\": \"4d180bbe-e29a-11e8-9490-d5f4ba98b039\"}], {\"hovermode\": \"closest\", \"showlegend\": true, \"title\": \"N\\u00famero de acessos a Posts, Leituras e Likes por estudante\", \"xaxis\": {\"autorange\": false, \"fixedrange\": false, \"range\": [-1, 20], \"rangemode\": \"normal\", \"showline\": true, \"title\": \"Estudantes\", \"type\": \"category\"}, \"yaxis\": {\"autorange\": false, \"categoryorder\": \"category ascending\", \"fixedrange\": false, \"range\": [-1, 3], \"rangemode\": \"normal\", \"showline\": true, \"type\": \"category\"}}, {\"showLink\": true, \"linkText\": \"Export to plot.ly\"})});</script>"
      ],
      "text/vnd.plotly.v1+html": [
       "<div id=\"f6573b09-9d1d-4f11-9ad2-250fa2d83bbf\" style=\"height: 525px; width: 100%;\" class=\"plotly-graph-div\"></div><script type=\"text/javascript\">require([\"plotly\"], function(Plotly) { window.PLOTLYENV=window.PLOTLYENV || {};window.PLOTLYENV.BASE_URL=\"https://plot.ly\";Plotly.newPlot(\"f6573b09-9d1d-4f11-9ad2-250fa2d83bbf\", [{\"marker\": {\"line\": {\"width\": 2}, \"size\": [8, 5, 5], \"sizemode\": \"area\", \"sizeref\": 0.10526315789473684, \"symbol\": \"circle\"}, \"mode\": \"markers\", \"name\": \"Student_1\", \"text\": [\"8\", \"5\", \"5\"], \"x\": [\"Student_1\", \"Student_1\", \"Student_1\", \"Student_1\"], \"y\": [\"Hits\", \"Readings\", \"Posts\"], \"type\": \"scatter\", \"uid\": \"4d180042-e29a-11e8-9490-d5f4ba98b039\"}, {\"marker\": {\"line\": {\"width\": 2}, \"size\": [3, 8, 7], \"sizemode\": \"area\", \"sizeref\": 0.10526315789473684, \"symbol\": \"circle\"}, \"mode\": \"markers\", \"name\": \"Student_2\", \"text\": [\"3\", \"8\", \"7\"], \"x\": [\"Student_2\", \"Student_2\", \"Student_2\", \"Student_2\"], \"y\": [\"Hits\", \"Readings\", \"Posts\"], \"type\": \"scatter\", \"uid\": \"4d1801f0-e29a-11e8-9490-d5f4ba98b039\"}, {\"marker\": {\"line\": {\"width\": 2}, \"size\": [1, 6, 4], \"sizemode\": \"area\", \"sizeref\": 0.10526315789473684, \"symbol\": \"circle\"}, \"mode\": \"markers\", \"name\": \"Student_3\", \"text\": [\"1\", \"6\", \"4\"], \"x\": [\"Student_3\", \"Student_3\", \"Student_3\", \"Student_3\"], \"y\": [\"Hits\", \"Readings\", \"Posts\"], \"type\": \"scatter\", \"uid\": \"4d1802b8-e29a-11e8-9490-d5f4ba98b039\"}, {\"marker\": {\"line\": {\"width\": 2}, \"size\": [14, 4, 1], \"sizemode\": \"area\", \"sizeref\": 0.10526315789473684, \"symbol\": \"circle\"}, \"mode\": \"markers\", \"name\": \"Student_4\", \"text\": [\"14\", \"4\", \"1\"], \"x\": [\"Student_4\", \"Student_4\", \"Student_4\", \"Student_4\"], \"y\": [\"Hits\", \"Readings\", \"Posts\"], \"type\": \"scatter\", \"uid\": \"4d180362-e29a-11e8-9490-d5f4ba98b039\"}, {\"marker\": {\"line\": {\"width\": 2}, \"size\": [17, 0, 12], \"sizemode\": \"area\", \"sizeref\": 0.10526315789473684, \"symbol\": \"circle\"}, \"mode\": \"markers\", \"name\": \"Student_5\", \"text\": [\"17\", \"0\", \"12\"], \"x\": [\"Student_5\", \"Student_5\", \"Student_5\", \"Student_5\"], \"y\": [\"Hits\", \"Readings\", \"Posts\"], \"type\": \"scatter\", \"uid\": \"4d1803f8-e29a-11e8-9490-d5f4ba98b039\"}, {\"marker\": {\"line\": {\"width\": 2}, \"size\": [8, 1, 17], \"sizemode\": \"area\", \"sizeref\": 0.10526315789473684, \"symbol\": \"circle\"}, \"mode\": \"markers\", \"name\": \"Student_6\", \"text\": [\"8\", \"1\", \"17\"], \"x\": [\"Student_6\", \"Student_6\", \"Student_6\", \"Student_6\"], \"y\": [\"Hits\", \"Readings\", \"Posts\"], \"type\": \"scatter\", \"uid\": \"4d180484-e29a-11e8-9490-d5f4ba98b039\"}, {\"marker\": {\"line\": {\"width\": 2}, \"size\": [9, 10, 18], \"sizemode\": \"area\", \"sizeref\": 0.10526315789473684, \"symbol\": \"circle\"}, \"mode\": \"markers\", \"name\": \"Student_7\", \"text\": [\"9\", \"10\", \"18\"], \"x\": [\"Student_7\", \"Student_7\", \"Student_7\", \"Student_7\"], \"y\": [\"Hits\", \"Readings\", \"Posts\"], \"type\": \"scatter\", \"uid\": \"4d180510-e29a-11e8-9490-d5f4ba98b039\"}, {\"marker\": {\"line\": {\"width\": 2}, \"size\": [12, 15, 10], \"sizemode\": \"area\", \"sizeref\": 0.10526315789473684, \"symbol\": \"circle\"}, \"mode\": \"markers\", \"name\": \"Student_8\", \"text\": [\"12\", \"15\", \"10\"], \"x\": [\"Student_8\", \"Student_8\", \"Student_8\", \"Student_8\"], \"y\": [\"Hits\", \"Readings\", \"Posts\"], \"type\": \"scatter\", \"uid\": \"4d180592-e29a-11e8-9490-d5f4ba98b039\"}, {\"marker\": {\"line\": {\"width\": 2}, \"size\": [0, 5, 9], \"sizemode\": \"area\", \"sizeref\": 0.10526315789473684, \"symbol\": \"circle\"}, \"mode\": \"markers\", \"name\": \"Student_9\", \"text\": [\"0\", \"5\", \"9\"], \"x\": [\"Student_9\", \"Student_9\", \"Student_9\", \"Student_9\"], \"y\": [\"Hits\", \"Readings\", \"Posts\"], \"type\": \"scatter\", \"uid\": \"4d18061e-e29a-11e8-9490-d5f4ba98b039\"}, {\"marker\": {\"line\": {\"width\": 2}, \"size\": [16, 19, 17], \"sizemode\": \"area\", \"sizeref\": 0.10526315789473684, \"symbol\": \"circle\"}, \"mode\": \"markers\", \"name\": \"Student_10\", \"text\": [\"16\", \"19\", \"17\"], \"x\": [\"Student_10\", \"Student_10\", \"Student_10\", \"Student_10\"], \"y\": [\"Hits\", \"Readings\", \"Posts\"], \"type\": \"scatter\", \"uid\": \"4d1806a0-e29a-11e8-9490-d5f4ba98b039\"}, {\"marker\": {\"line\": {\"width\": 2}, \"size\": [3, 4, 4], \"sizemode\": \"area\", \"sizeref\": 0.10526315789473684, \"symbol\": \"circle\"}, \"mode\": \"markers\", \"name\": \"Student_11\", \"text\": [\"3\", \"4\", \"4\"], \"x\": [\"Student_11\", \"Student_11\", \"Student_11\", \"Student_11\"], \"y\": [\"Hits\", \"Readings\", \"Posts\"], \"type\": \"scatter\", \"uid\": \"4d18072c-e29a-11e8-9490-d5f4ba98b039\"}, {\"marker\": {\"line\": {\"width\": 2}, \"size\": [11, 15, 2], \"sizemode\": \"area\", \"sizeref\": 0.10526315789473684, \"symbol\": \"circle\"}, \"mode\": \"markers\", \"name\": \"Student_12\", \"text\": [\"11\", \"15\", \"2\"], \"x\": [\"Student_12\", \"Student_12\", \"Student_12\", \"Student_12\"], \"y\": [\"Hits\", \"Readings\", \"Posts\"], \"type\": \"scatter\", \"uid\": \"4d1807ae-e29a-11e8-9490-d5f4ba98b039\"}, {\"marker\": {\"line\": {\"width\": 2}, \"size\": [4, 5, 9], \"sizemode\": \"area\", \"sizeref\": 0.10526315789473684, \"symbol\": \"circle\"}, \"mode\": \"markers\", \"name\": \"Student_13\", \"text\": [\"4\", \"5\", \"9\"], \"x\": [\"Student_13\", \"Student_13\", \"Student_13\", \"Student_13\"], \"y\": [\"Hits\", \"Readings\", \"Posts\"], \"type\": \"scatter\", \"uid\": \"4d18083a-e29a-11e8-9490-d5f4ba98b039\"}, {\"marker\": {\"line\": {\"width\": 2}, \"size\": [6, 19, 17], \"sizemode\": \"area\", \"sizeref\": 0.10526315789473684, \"symbol\": \"circle\"}, \"mode\": \"markers\", \"name\": \"Student_14\", \"text\": [\"6\", \"19\", \"17\"], \"x\": [\"Student_14\", \"Student_14\", \"Student_14\", \"Student_14\"], \"y\": [\"Hits\", \"Readings\", \"Posts\"], \"type\": \"scatter\", \"uid\": \"4d1808c6-e29a-11e8-9490-d5f4ba98b039\"}, {\"marker\": {\"line\": {\"width\": 2}, \"size\": [6, 17, 1], \"sizemode\": \"area\", \"sizeref\": 0.10526315789473684, \"symbol\": \"circle\"}, \"mode\": \"markers\", \"name\": \"Student_15\", \"text\": [\"6\", \"17\", \"1\"], \"x\": [\"Student_15\", \"Student_15\", \"Student_15\", \"Student_15\"], \"y\": [\"Hits\", \"Readings\", \"Posts\"], \"type\": \"scatter\", \"uid\": \"4d180948-e29a-11e8-9490-d5f4ba98b039\"}, {\"marker\": {\"line\": {\"width\": 2}, \"size\": [7, 1, 5], \"sizemode\": \"area\", \"sizeref\": 0.10526315789473684, \"symbol\": \"circle\"}, \"mode\": \"markers\", \"name\": \"Student_16\", \"text\": [\"7\", \"1\", \"5\"], \"x\": [\"Student_16\", \"Student_16\", \"Student_16\", \"Student_16\"], \"y\": [\"Hits\", \"Readings\", \"Posts\"], \"type\": \"scatter\", \"uid\": \"4d1809ca-e29a-11e8-9490-d5f4ba98b039\"}, {\"marker\": {\"line\": {\"width\": 2}, \"size\": [3, 5, 16], \"sizemode\": \"area\", \"sizeref\": 0.10526315789473684, \"symbol\": \"circle\"}, \"mode\": \"markers\", \"name\": \"Student_17\", \"text\": [\"3\", \"5\", \"16\"], \"x\": [\"Student_17\", \"Student_17\", \"Student_17\", \"Student_17\"], \"y\": [\"Hits\", \"Readings\", \"Posts\"], \"type\": \"scatter\", \"uid\": \"4d180a4c-e29a-11e8-9490-d5f4ba98b039\"}, {\"marker\": {\"line\": {\"width\": 2}, \"size\": [7, 19, 0], \"sizemode\": \"area\", \"sizeref\": 0.10526315789473684, \"symbol\": \"circle\"}, \"mode\": \"markers\", \"name\": \"Student_18\", \"text\": [\"7\", \"19\", \"0\"], \"x\": [\"Student_18\", \"Student_18\", \"Student_18\", \"Student_18\"], \"y\": [\"Hits\", \"Readings\", \"Posts\"], \"type\": \"scatter\", \"uid\": \"4d180ace-e29a-11e8-9490-d5f4ba98b039\"}, {\"marker\": {\"line\": {\"width\": 2}, \"size\": [16, 1, 5], \"sizemode\": \"area\", \"sizeref\": 0.10526315789473684, \"symbol\": \"circle\"}, \"mode\": \"markers\", \"name\": \"Student_19\", \"text\": [\"16\", \"1\", \"5\"], \"x\": [\"Student_19\", \"Student_19\", \"Student_19\", \"Student_19\"], \"y\": [\"Hits\", \"Readings\", \"Posts\"], \"type\": \"scatter\", \"uid\": \"4d180b46-e29a-11e8-9490-d5f4ba98b039\"}, {\"marker\": {\"line\": {\"width\": 2}, \"size\": [11, 4, 18], \"sizemode\": \"area\", \"sizeref\": 0.10526315789473684, \"symbol\": \"circle\"}, \"mode\": \"markers\", \"name\": \"Student_20\", \"text\": [\"11\", \"4\", \"18\"], \"x\": [\"Student_20\", \"Student_20\", \"Student_20\", \"Student_20\"], \"y\": [\"Hits\", \"Readings\", \"Posts\"], \"type\": \"scatter\", \"uid\": \"4d180bbe-e29a-11e8-9490-d5f4ba98b039\"}], {\"hovermode\": \"closest\", \"showlegend\": true, \"title\": \"N\\u00famero de acessos a Posts, Leituras e Likes por estudante\", \"xaxis\": {\"autorange\": false, \"fixedrange\": false, \"range\": [-1, 20], \"rangemode\": \"normal\", \"showline\": true, \"title\": \"Estudantes\", \"type\": \"category\"}, \"yaxis\": {\"autorange\": false, \"categoryorder\": \"category ascending\", \"fixedrange\": false, \"range\": [-1, 3], \"rangemode\": \"normal\", \"showline\": true, \"type\": \"category\"}}, {\"showLink\": true, \"linkText\": \"Export to plot.ly\"})});</script>"
      ]
     },
     "metadata": {},
     "output_type": "display_data"
    },
    {
     "data": {
      "application/vnd.plotly.v1+json": {
       "data": [
        {
         "colorscale": [
          [
           0,
           "rgb(255,255,255)"
          ],
          [
           1,
           "rgb(0,0,255)"
          ]
         ],
         "type": "heatmap",
         "uid": "4d1c71e0-e29a-11e8-9490-d5f4ba98b039",
         "x": [
          "Hits",
          "Readings",
          "Posts"
         ],
         "y": [
          "Student_1",
          "Student_2",
          "Student_3",
          "Student_4",
          "Student_5",
          "Student_6",
          "Student_7",
          "Student_8",
          "Student_9",
          "Student_10",
          "Student_11",
          "Student_12",
          "Student_13",
          "Student_14",
          "Student_15",
          "Student_16",
          "Student_17",
          "Student_18",
          "Student_19",
          "Student_20"
         ],
         "z": [
          [
           8,
           5,
           5
          ],
          [
           3,
           8,
           7
          ],
          [
           1,
           6,
           4
          ],
          [
           14,
           4,
           1
          ],
          [
           17,
           0,
           12
          ],
          [
           8,
           1,
           17
          ],
          [
           9,
           10,
           18
          ],
          [
           12,
           15,
           10
          ],
          [
           0,
           5,
           9
          ],
          [
           16,
           19,
           17
          ],
          [
           3,
           4,
           4
          ],
          [
           11,
           15,
           2
          ],
          [
           4,
           5,
           9
          ],
          [
           6,
           19,
           17
          ],
          [
           6,
           17,
           1
          ],
          [
           7,
           1,
           5
          ],
          [
           3,
           5,
           16
          ],
          [
           7,
           19,
           0
          ],
          [
           16,
           1,
           5
          ],
          [
           11,
           4,
           18
          ]
         ]
        }
       ],
       "layout": {
        "title": "Número de acessos a Posts, Leituras e Likes por estudante",
        "yaxis": {
         "dtick": 1,
         "exponentformat": "e",
         "gridcolor": "#bdbdbd",
         "showexponent": "all",
         "showticklabels": true,
         "tick0": 0,
         "titlefont": {
          "color": "lightgrey",
          "family": "Arial, sans-serif"
         }
        }
       }
      },
      "text/html": [
       "<div id=\"eacf9352-49d4-48a3-b952-efcfa419cd5d\" style=\"height: 525px; width: 100%;\" class=\"plotly-graph-div\"></div><script type=\"text/javascript\">require([\"plotly\"], function(Plotly) { window.PLOTLYENV=window.PLOTLYENV || {};window.PLOTLYENV.BASE_URL=\"https://plot.ly\";Plotly.newPlot(\"eacf9352-49d4-48a3-b952-efcfa419cd5d\", [{\"colorscale\": [[0, \"rgb(255,255,255)\"], [1, \"rgb(0,0,255)\"]], \"x\": [\"Hits\", \"Readings\", \"Posts\"], \"y\": [\"Student_1\", \"Student_2\", \"Student_3\", \"Student_4\", \"Student_5\", \"Student_6\", \"Student_7\", \"Student_8\", \"Student_9\", \"Student_10\", \"Student_11\", \"Student_12\", \"Student_13\", \"Student_14\", \"Student_15\", \"Student_16\", \"Student_17\", \"Student_18\", \"Student_19\", \"Student_20\"], \"z\": [[8, 5, 5], [3, 8, 7], [1, 6, 4], [14, 4, 1], [17, 0, 12], [8, 1, 17], [9, 10, 18], [12, 15, 10], [0, 5, 9], [16, 19, 17], [3, 4, 4], [11, 15, 2], [4, 5, 9], [6, 19, 17], [6, 17, 1], [7, 1, 5], [3, 5, 16], [7, 19, 0], [16, 1, 5], [11, 4, 18]], \"type\": \"heatmap\", \"uid\": \"4d1c71e0-e29a-11e8-9490-d5f4ba98b039\"}], {\"title\": \"N\\u00famero de acessos a Posts, Leituras e Likes por estudante\", \"yaxis\": {\"dtick\": 1, \"exponentformat\": \"e\", \"gridcolor\": \"#bdbdbd\", \"showexponent\": \"all\", \"showticklabels\": true, \"tick0\": 0, \"titlefont\": {\"color\": \"lightgrey\", \"family\": \"Arial, sans-serif\"}}}, {\"showLink\": true, \"linkText\": \"Export to plot.ly\"})});</script>"
      ],
      "text/vnd.plotly.v1+html": [
       "<div id=\"eacf9352-49d4-48a3-b952-efcfa419cd5d\" style=\"height: 525px; width: 100%;\" class=\"plotly-graph-div\"></div><script type=\"text/javascript\">require([\"plotly\"], function(Plotly) { window.PLOTLYENV=window.PLOTLYENV || {};window.PLOTLYENV.BASE_URL=\"https://plot.ly\";Plotly.newPlot(\"eacf9352-49d4-48a3-b952-efcfa419cd5d\", [{\"colorscale\": [[0, \"rgb(255,255,255)\"], [1, \"rgb(0,0,255)\"]], \"x\": [\"Hits\", \"Readings\", \"Posts\"], \"y\": [\"Student_1\", \"Student_2\", \"Student_3\", \"Student_4\", \"Student_5\", \"Student_6\", \"Student_7\", \"Student_8\", \"Student_9\", \"Student_10\", \"Student_11\", \"Student_12\", \"Student_13\", \"Student_14\", \"Student_15\", \"Student_16\", \"Student_17\", \"Student_18\", \"Student_19\", \"Student_20\"], \"z\": [[8, 5, 5], [3, 8, 7], [1, 6, 4], [14, 4, 1], [17, 0, 12], [8, 1, 17], [9, 10, 18], [12, 15, 10], [0, 5, 9], [16, 19, 17], [3, 4, 4], [11, 15, 2], [4, 5, 9], [6, 19, 17], [6, 17, 1], [7, 1, 5], [3, 5, 16], [7, 19, 0], [16, 1, 5], [11, 4, 18]], \"type\": \"heatmap\", \"uid\": \"4d1c71e0-e29a-11e8-9490-d5f4ba98b039\"}], {\"title\": \"N\\u00famero de acessos a Posts, Leituras e Likes por estudante\", \"yaxis\": {\"dtick\": 1, \"exponentformat\": \"e\", \"gridcolor\": \"#bdbdbd\", \"showexponent\": \"all\", \"showticklabels\": true, \"tick0\": 0, \"titlefont\": {\"color\": \"lightgrey\", \"family\": \"Arial, sans-serif\"}}}, {\"showLink\": true, \"linkText\": \"Export to plot.ly\"})});</script>"
      ]
     },
     "metadata": {},
     "output_type": "display_data"
    }
   ],
   "source": [
    "run scripts/V003.py"
   ]
  },
  {
   "cell_type": "markdown",
   "metadata": {},
   "source": [
    "### View 004"
   ]
  },
  {
   "cell_type": "code",
   "execution_count": 105,
   "metadata": {
    "scrolled": true
   },
   "outputs": [
    {
     "data": {
      "text/html": [
       "<script>requirejs.config({paths: { 'plotly': ['https://cdn.plot.ly/plotly-latest.min']},});if(!window.Plotly) {{require(['plotly'],function(plotly) {window.Plotly=plotly;});}}</script>"
      ],
      "text/vnd.plotly.v1+html": [
       "<script>requirejs.config({paths: { 'plotly': ['https://cdn.plot.ly/plotly-latest.min']},});if(!window.Plotly) {{require(['plotly'],function(plotly) {window.Plotly=plotly;});}}</script>"
      ]
     },
     "metadata": {},
     "output_type": "display_data"
    },
    {
     "data": {
      "application/vnd.plotly.v1+json": {
       "data": [
        {
         "cells": {
          "align": [
           "left",
           "center"
          ],
          "fill": {
           "color": "#F5F8FF"
          },
          "values": [
           [
            "Student_1",
            "Student_2",
            "Student_3",
            "Student_4",
            "Student_5",
            "Student_6",
            "Student_7",
            "Student_8",
            "Student_9",
            "Student_10",
            "Student_11",
            "Student_12",
            "Student_13",
            "Student_14",
            "Student_15",
            "Student_16",
            "Student_17",
            "Student_18",
            "Student_19",
            "Student_20"
           ],
           [
            [
             219,
             48,
             139
            ],
            [
             185
            ],
            [
             42
            ],
            [
             18
            ],
            [],
            [
             198,
             86,
             113,
             108
            ],
            [],
            [
             11,
             42,
             91
            ],
            [
             167,
             92
            ],
            [
             47,
             200
            ],
            [
             245,
             113
            ],
            [],
            [],
            [
             25,
             140
            ],
            [
             164,
             190
            ],
            [
             28,
             42,
             25
            ],
            [],
            [
             163,
             80,
             48
            ],
            [
             128,
             56
            ],
            [
             52
            ]
           ],
           [
            [
             263,
             229
            ],
            [
             59,
             347
            ],
            [
             236,
             233
            ],
            [
             152
            ],
            [
             273,
             160,
             231,
             128
            ],
            [],
            [],
            [
             35,
             51
            ],
            [
             86,
             67,
             288,
             92
            ],
            [
             137,
             157,
             79,
             292
            ],
            [
             241,
             311
            ],
            [
             96,
             245,
             17,
             305
            ],
            [
             259,
             5,
             65
            ],
            [],
            [
             196,
             170,
             187
            ],
            [
             275,
             257,
             247
            ],
            [
             260
            ],
            [
             244,
             137,
             338
            ],
            [],
            [
             218,
             199,
             290
            ]
           ],
           [
            [
             232,
             171,
             407
            ],
            [
             86,
             284
            ],
            [
             242
            ],
            [
             346,
             459
            ],
            [
             588,
             365
            ],
            [],
            [
             277,
             550,
             71
            ],
            [
             333,
             115,
             223
            ],
            [
             206,
             202
            ],
            [],
            [
             521,
             298,
             543,
             460
            ],
            [
             258,
             283
            ],
            [
             238,
             403
            ],
            [
             372,
             473,
             226
            ],
            [
             38,
             154,
             199
            ],
            [
             342
            ],
            [
             51,
             384,
             333,
             559
            ],
            [
             242,
             583
            ],
            [],
            [
             520
            ]
           ],
           [
            [
             158,
             287,
             248,
             29
            ],
            [],
            [
             8,
             311
            ],
            [],
            [
             196,
             170,
             247,
             135
            ],
            [
             276,
             89,
             240
            ],
            [],
            [
             22,
             90
            ],
            [
             259,
             54
            ],
            [
             33,
             207
            ],
            [],
            [],
            [
             102,
             288
            ],
            [
             102
            ],
            [
             63
            ],
            [
             232,
             164,
             95,
             35
            ],
            [
             311
            ],
            [
             241,
             74,
             128
            ],
            [
             22,
             11
            ],
            []
           ],
           [
            [
             203
            ],
            [
             312
            ],
            [],
            [],
            [],
            [
             310,
             75,
             54
            ],
            [
             163,
             263
            ],
            [
             151,
             153
            ],
            [
             22,
             172
            ],
            [
             333,
             42
            ],
            [],
            [
             368
            ],
            [
             43,
             257
            ],
            [
             108,
             271,
             97,
             49
            ],
            [
             362,
             176,
             298
            ],
            [
             282,
             285
            ],
            [
             356,
             337,
             68
            ],
            [
             77
            ],
            [
             52
            ],
            [
             148
            ]
           ],
           [
            2633,
            1273,
            1072,
            975,
            2493,
            1549,
            1324,
            1317,
            1707,
            1527,
            2732,
            1572,
            1660,
            1863,
            2197,
            2309,
            2659,
            2355,
            269,
            1427
           ]
          ]
         },
         "header": {
          "align": "center",
          "fill": {
           "color": "#C2D4FF"
          },
          "values": [
           "Students",
           "Video1 (457s)",
           "Video2 (255s)",
           "Video3 (349s)",
           "Video4 (596s)",
           "Video5 (312s)",
           "Total"
          ]
         },
         "type": "table",
         "uid": "9a140dd0-e364-11e8-9d8c-a1b30045967f"
        }
       ],
       "layout": {}
      },
      "text/html": [
       "<div id=\"01e60890-886b-4ebd-81d3-7f5e7812f1b5\" style=\"height: 525px; width: 100%;\" class=\"plotly-graph-div\"></div><script type=\"text/javascript\">require([\"plotly\"], function(Plotly) { window.PLOTLYENV=window.PLOTLYENV || {};window.PLOTLYENV.BASE_URL=\"https://plot.ly\";Plotly.newPlot(\"01e60890-886b-4ebd-81d3-7f5e7812f1b5\", [{\"cells\": {\"align\": [\"left\", \"center\"], \"fill\": {\"color\": \"#F5F8FF\"}, \"values\": [[\"Student_1\", \"Student_2\", \"Student_3\", \"Student_4\", \"Student_5\", \"Student_6\", \"Student_7\", \"Student_8\", \"Student_9\", \"Student_10\", \"Student_11\", \"Student_12\", \"Student_13\", \"Student_14\", \"Student_15\", \"Student_16\", \"Student_17\", \"Student_18\", \"Student_19\", \"Student_20\"], [[219, 48, 139], [185], [42], [18], [], [198, 86, 113, 108], [], [11, 42, 91], [167, 92], [47, 200], [245, 113], [], [], [25, 140], [164, 190], [28, 42, 25], [], [163, 80, 48], [128, 56], [52]], [[263, 229], [59, 347], [236, 233], [152], [273, 160, 231, 128], [], [], [35, 51], [86, 67, 288, 92], [137, 157, 79, 292], [241, 311], [96, 245, 17, 305], [259, 5, 65], [], [196, 170, 187], [275, 257, 247], [260], [244, 137, 338], [], [218, 199, 290]], [[232, 171, 407], [86, 284], [242], [346, 459], [588, 365], [], [277, 550, 71], [333, 115, 223], [206, 202], [], [521, 298, 543, 460], [258, 283], [238, 403], [372, 473, 226], [38, 154, 199], [342], [51, 384, 333, 559], [242, 583], [], [520]], [[158, 287, 248, 29], [], [8, 311], [], [196, 170, 247, 135], [276, 89, 240], [], [22, 90], [259, 54], [33, 207], [], [], [102, 288], [102], [63], [232, 164, 95, 35], [311], [241, 74, 128], [22, 11], []], [[203], [312], [], [], [], [310, 75, 54], [163, 263], [151, 153], [22, 172], [333, 42], [], [368], [43, 257], [108, 271, 97, 49], [362, 176, 298], [282, 285], [356, 337, 68], [77], [52], [148]], [2633, 1273, 1072, 975, 2493, 1549, 1324, 1317, 1707, 1527, 2732, 1572, 1660, 1863, 2197, 2309, 2659, 2355, 269, 1427]]}, \"header\": {\"align\": \"center\", \"fill\": {\"color\": \"#C2D4FF\"}, \"values\": [\"Students\", \"Video1 (457s)\", \"Video2 (255s)\", \"Video3 (349s)\", \"Video4 (596s)\", \"Video5 (312s)\", \"Total\"]}, \"type\": \"table\", \"uid\": \"9a1635d8-e364-11e8-9d8c-a1b30045967f\"}], {}, {\"showLink\": true, \"linkText\": \"Export to plot.ly\"})});</script>"
      ],
      "text/vnd.plotly.v1+html": [
       "<div id=\"01e60890-886b-4ebd-81d3-7f5e7812f1b5\" style=\"height: 525px; width: 100%;\" class=\"plotly-graph-div\"></div><script type=\"text/javascript\">require([\"plotly\"], function(Plotly) { window.PLOTLYENV=window.PLOTLYENV || {};window.PLOTLYENV.BASE_URL=\"https://plot.ly\";Plotly.newPlot(\"01e60890-886b-4ebd-81d3-7f5e7812f1b5\", [{\"cells\": {\"align\": [\"left\", \"center\"], \"fill\": {\"color\": \"#F5F8FF\"}, \"values\": [[\"Student_1\", \"Student_2\", \"Student_3\", \"Student_4\", \"Student_5\", \"Student_6\", \"Student_7\", \"Student_8\", \"Student_9\", \"Student_10\", \"Student_11\", \"Student_12\", \"Student_13\", \"Student_14\", \"Student_15\", \"Student_16\", \"Student_17\", \"Student_18\", \"Student_19\", \"Student_20\"], [[219, 48, 139], [185], [42], [18], [], [198, 86, 113, 108], [], [11, 42, 91], [167, 92], [47, 200], [245, 113], [], [], [25, 140], [164, 190], [28, 42, 25], [], [163, 80, 48], [128, 56], [52]], [[263, 229], [59, 347], [236, 233], [152], [273, 160, 231, 128], [], [], [35, 51], [86, 67, 288, 92], [137, 157, 79, 292], [241, 311], [96, 245, 17, 305], [259, 5, 65], [], [196, 170, 187], [275, 257, 247], [260], [244, 137, 338], [], [218, 199, 290]], [[232, 171, 407], [86, 284], [242], [346, 459], [588, 365], [], [277, 550, 71], [333, 115, 223], [206, 202], [], [521, 298, 543, 460], [258, 283], [238, 403], [372, 473, 226], [38, 154, 199], [342], [51, 384, 333, 559], [242, 583], [], [520]], [[158, 287, 248, 29], [], [8, 311], [], [196, 170, 247, 135], [276, 89, 240], [], [22, 90], [259, 54], [33, 207], [], [], [102, 288], [102], [63], [232, 164, 95, 35], [311], [241, 74, 128], [22, 11], []], [[203], [312], [], [], [], [310, 75, 54], [163, 263], [151, 153], [22, 172], [333, 42], [], [368], [43, 257], [108, 271, 97, 49], [362, 176, 298], [282, 285], [356, 337, 68], [77], [52], [148]], [2633, 1273, 1072, 975, 2493, 1549, 1324, 1317, 1707, 1527, 2732, 1572, 1660, 1863, 2197, 2309, 2659, 2355, 269, 1427]]}, \"header\": {\"align\": \"center\", \"fill\": {\"color\": \"#C2D4FF\"}, \"values\": [\"Students\", \"Video1 (457s)\", \"Video2 (255s)\", \"Video3 (349s)\", \"Video4 (596s)\", \"Video5 (312s)\", \"Total\"]}, \"type\": \"table\", \"uid\": \"9a1635d8-e364-11e8-9d8c-a1b30045967f\"}], {}, {\"showLink\": true, \"linkText\": \"Export to plot.ly\"})});</script>"
      ]
     },
     "metadata": {},
     "output_type": "display_data"
    },
    {
     "data": {
      "application/vnd.plotly.v1+json": {
       "data": [
        {
         "marker": {
          "line": {
           "width": 2
          },
          "size": [
           406,
           492,
           810,
           722,
           203,
           2633
          ],
          "sizemode": "area",
          "sizeref": 4.5,
          "symbol": "circle"
         },
         "mode": "markers",
         "name": "Student_1",
         "text": [
          "406",
          "492",
          "810",
          "722",
          "203",
          "2633"
         ],
         "type": "scatter",
         "uid": "9a3866d0-e364-11e8-9d8c-a1b30045967f",
         "x": [
          "Student_1",
          "Student_1",
          "Student_1",
          "Student_1",
          "Student_1",
          "Student_1"
         ],
         "y": [
          "Video1",
          "Video2",
          "Video3",
          "Video4",
          "Video5",
          "Total"
         ]
        },
        {
         "marker": {
          "line": {
           "width": 2
          },
          "size": [
           185,
           406,
           370,
           0,
           312,
           1273
          ],
          "sizemode": "area",
          "sizeref": 4.5,
          "symbol": "circle"
         },
         "mode": "markers",
         "name": "Student_2",
         "text": [
          "185",
          "406",
          "370",
          "0",
          "312",
          "1273"
         ],
         "type": "scatter",
         "uid": "9a38687e-e364-11e8-9d8c-a1b30045967f",
         "x": [
          "Student_2",
          "Student_2",
          "Student_2",
          "Student_2",
          "Student_2",
          "Student_2"
         ],
         "y": [
          "Video1",
          "Video2",
          "Video3",
          "Video4",
          "Video5",
          "Total"
         ]
        },
        {
         "marker": {
          "line": {
           "width": 2
          },
          "size": [
           42,
           469,
           242,
           319,
           0,
           1072
          ],
          "sizemode": "area",
          "sizeref": 4.5,
          "symbol": "circle"
         },
         "mode": "markers",
         "name": "Student_3",
         "text": [
          "42",
          "469",
          "242",
          "319",
          "0",
          "1072"
         ],
         "type": "scatter",
         "uid": "9a386946-e364-11e8-9d8c-a1b30045967f",
         "x": [
          "Student_3",
          "Student_3",
          "Student_3",
          "Student_3",
          "Student_3",
          "Student_3"
         ],
         "y": [
          "Video1",
          "Video2",
          "Video3",
          "Video4",
          "Video5",
          "Total"
         ]
        },
        {
         "marker": {
          "line": {
           "width": 2
          },
          "size": [
           18,
           152,
           805,
           0,
           0,
           975
          ],
          "sizemode": "area",
          "sizeref": 4.5,
          "symbol": "circle"
         },
         "mode": "markers",
         "name": "Student_4",
         "text": [
          "18",
          "152",
          "805",
          "0",
          "0",
          "975"
         ],
         "type": "scatter",
         "uid": "9a3869e6-e364-11e8-9d8c-a1b30045967f",
         "x": [
          "Student_4",
          "Student_4",
          "Student_4",
          "Student_4",
          "Student_4",
          "Student_4"
         ],
         "y": [
          "Video1",
          "Video2",
          "Video3",
          "Video4",
          "Video5",
          "Total"
         ]
        },
        {
         "marker": {
          "line": {
           "width": 2
          },
          "size": [
           0,
           792,
           953,
           748,
           0,
           2493
          ],
          "sizemode": "area",
          "sizeref": 4.5,
          "symbol": "circle"
         },
         "mode": "markers",
         "name": "Student_5",
         "text": [
          "0",
          "792",
          "953",
          "748",
          "0",
          "2493"
         ],
         "type": "scatter",
         "uid": "9a386a7c-e364-11e8-9d8c-a1b30045967f",
         "x": [
          "Student_5",
          "Student_5",
          "Student_5",
          "Student_5",
          "Student_5",
          "Student_5"
         ],
         "y": [
          "Video1",
          "Video2",
          "Video3",
          "Video4",
          "Video5",
          "Total"
         ]
        },
        {
         "marker": {
          "line": {
           "width": 2
          },
          "size": [
           505,
           0,
           0,
           605,
           439,
           1549
          ],
          "sizemode": "area",
          "sizeref": 4.5,
          "symbol": "circle"
         },
         "mode": "markers",
         "name": "Student_6",
         "text": [
          "505",
          "0",
          "0",
          "605",
          "439",
          "1549"
         ],
         "type": "scatter",
         "uid": "9a386b08-e364-11e8-9d8c-a1b30045967f",
         "x": [
          "Student_6",
          "Student_6",
          "Student_6",
          "Student_6",
          "Student_6",
          "Student_6"
         ],
         "y": [
          "Video1",
          "Video2",
          "Video3",
          "Video4",
          "Video5",
          "Total"
         ]
        },
        {
         "marker": {
          "line": {
           "width": 2
          },
          "size": [
           0,
           0,
           898,
           0,
           426,
           1324
          ],
          "sizemode": "area",
          "sizeref": 4.5,
          "symbol": "circle"
         },
         "mode": "markers",
         "name": "Student_7",
         "text": [
          "0",
          "0",
          "898",
          "0",
          "426",
          "1324"
         ],
         "type": "scatter",
         "uid": "9a386b9e-e364-11e8-9d8c-a1b30045967f",
         "x": [
          "Student_7",
          "Student_7",
          "Student_7",
          "Student_7",
          "Student_7",
          "Student_7"
         ],
         "y": [
          "Video1",
          "Video2",
          "Video3",
          "Video4",
          "Video5",
          "Total"
         ]
        },
        {
         "marker": {
          "line": {
           "width": 2
          },
          "size": [
           144,
           86,
           671,
           112,
           304,
           1317
          ],
          "sizemode": "area",
          "sizeref": 4.5,
          "symbol": "circle"
         },
         "mode": "markers",
         "name": "Student_8",
         "text": [
          "144",
          "86",
          "671",
          "112",
          "304",
          "1317"
         ],
         "type": "scatter",
         "uid": "9a386c2a-e364-11e8-9d8c-a1b30045967f",
         "x": [
          "Student_8",
          "Student_8",
          "Student_8",
          "Student_8",
          "Student_8",
          "Student_8"
         ],
         "y": [
          "Video1",
          "Video2",
          "Video3",
          "Video4",
          "Video5",
          "Total"
         ]
        },
        {
         "marker": {
          "line": {
           "width": 2
          },
          "size": [
           259,
           533,
           408,
           313,
           194,
           1707
          ],
          "sizemode": "area",
          "sizeref": 4.5,
          "symbol": "circle"
         },
         "mode": "markers",
         "name": "Student_9",
         "text": [
          "259",
          "533",
          "408",
          "313",
          "194",
          "1707"
         ],
         "type": "scatter",
         "uid": "9a386cb6-e364-11e8-9d8c-a1b30045967f",
         "x": [
          "Student_9",
          "Student_9",
          "Student_9",
          "Student_9",
          "Student_9",
          "Student_9"
         ],
         "y": [
          "Video1",
          "Video2",
          "Video3",
          "Video4",
          "Video5",
          "Total"
         ]
        },
        {
         "marker": {
          "line": {
           "width": 2
          },
          "size": [
           247,
           665,
           0,
           240,
           375,
           1527
          ],
          "sizemode": "area",
          "sizeref": 4.5,
          "symbol": "circle"
         },
         "mode": "markers",
         "name": "Student_10",
         "text": [
          "247",
          "665",
          "0",
          "240",
          "375",
          "1527"
         ],
         "type": "scatter",
         "uid": "9a386d38-e364-11e8-9d8c-a1b30045967f",
         "x": [
          "Student_10",
          "Student_10",
          "Student_10",
          "Student_10",
          "Student_10",
          "Student_10"
         ],
         "y": [
          "Video1",
          "Video2",
          "Video3",
          "Video4",
          "Video5",
          "Total"
         ]
        },
        {
         "marker": {
          "line": {
           "width": 2
          },
          "size": [
           358,
           552,
           1822,
           0,
           0,
           2732
          ],
          "sizemode": "area",
          "sizeref": 4.5,
          "symbol": "circle"
         },
         "mode": "markers",
         "name": "Student_11",
         "text": [
          "358",
          "552",
          "1822",
          "0",
          "0",
          "2732"
         ],
         "type": "scatter",
         "uid": "9a386dba-e364-11e8-9d8c-a1b30045967f",
         "x": [
          "Student_11",
          "Student_11",
          "Student_11",
          "Student_11",
          "Student_11",
          "Student_11"
         ],
         "y": [
          "Video1",
          "Video2",
          "Video3",
          "Video4",
          "Video5",
          "Total"
         ]
        },
        {
         "marker": {
          "line": {
           "width": 2
          },
          "size": [
           0,
           663,
           541,
           0,
           368,
           1572
          ],
          "sizemode": "area",
          "sizeref": 4.5,
          "symbol": "circle"
         },
         "mode": "markers",
         "name": "Student_12",
         "text": [
          "0",
          "663",
          "541",
          "0",
          "368",
          "1572"
         ],
         "type": "scatter",
         "uid": "9a386e46-e364-11e8-9d8c-a1b30045967f",
         "x": [
          "Student_12",
          "Student_12",
          "Student_12",
          "Student_12",
          "Student_12",
          "Student_12"
         ],
         "y": [
          "Video1",
          "Video2",
          "Video3",
          "Video4",
          "Video5",
          "Total"
         ]
        },
        {
         "marker": {
          "line": {
           "width": 2
          },
          "size": [
           0,
           329,
           641,
           390,
           300,
           1660
          ],
          "sizemode": "area",
          "sizeref": 4.5,
          "symbol": "circle"
         },
         "mode": "markers",
         "name": "Student_13",
         "text": [
          "0",
          "329",
          "641",
          "390",
          "300",
          "1660"
         ],
         "type": "scatter",
         "uid": "9a386ec8-e364-11e8-9d8c-a1b30045967f",
         "x": [
          "Student_13",
          "Student_13",
          "Student_13",
          "Student_13",
          "Student_13",
          "Student_13"
         ],
         "y": [
          "Video1",
          "Video2",
          "Video3",
          "Video4",
          "Video5",
          "Total"
         ]
        },
        {
         "marker": {
          "line": {
           "width": 2
          },
          "size": [
           165,
           0,
           1071,
           102,
           525,
           1863
          ],
          "sizemode": "area",
          "sizeref": 4.5,
          "symbol": "circle"
         },
         "mode": "markers",
         "name": "Student_14",
         "text": [
          "165",
          "0",
          "1071",
          "102",
          "525",
          "1863"
         ],
         "type": "scatter",
         "uid": "9a386f54-e364-11e8-9d8c-a1b30045967f",
         "x": [
          "Student_14",
          "Student_14",
          "Student_14",
          "Student_14",
          "Student_14",
          "Student_14"
         ],
         "y": [
          "Video1",
          "Video2",
          "Video3",
          "Video4",
          "Video5",
          "Total"
         ]
        },
        {
         "marker": {
          "line": {
           "width": 2
          },
          "size": [
           354,
           553,
           391,
           63,
           836,
           2197
          ],
          "sizemode": "area",
          "sizeref": 4.5,
          "symbol": "circle"
         },
         "mode": "markers",
         "name": "Student_15",
         "text": [
          "354",
          "553",
          "391",
          "63",
          "836",
          "2197"
         ],
         "type": "scatter",
         "uid": "9a386fe0-e364-11e8-9d8c-a1b30045967f",
         "x": [
          "Student_15",
          "Student_15",
          "Student_15",
          "Student_15",
          "Student_15",
          "Student_15"
         ],
         "y": [
          "Video1",
          "Video2",
          "Video3",
          "Video4",
          "Video5",
          "Total"
         ]
        },
        {
         "marker": {
          "line": {
           "width": 2
          },
          "size": [
           95,
           779,
           342,
           526,
           567,
           2309
          ],
          "sizemode": "area",
          "sizeref": 4.5,
          "symbol": "circle"
         },
         "mode": "markers",
         "name": "Student_16",
         "text": [
          "95",
          "779",
          "342",
          "526",
          "567",
          "2309"
         ],
         "type": "scatter",
         "uid": "9a387062-e364-11e8-9d8c-a1b30045967f",
         "x": [
          "Student_16",
          "Student_16",
          "Student_16",
          "Student_16",
          "Student_16",
          "Student_16"
         ],
         "y": [
          "Video1",
          "Video2",
          "Video3",
          "Video4",
          "Video5",
          "Total"
         ]
        },
        {
         "marker": {
          "line": {
           "width": 2
          },
          "size": [
           0,
           260,
           1327,
           311,
           761,
           2659
          ],
          "sizemode": "area",
          "sizeref": 4.5,
          "symbol": "circle"
         },
         "mode": "markers",
         "name": "Student_17",
         "text": [
          "0",
          "260",
          "1327",
          "311",
          "761",
          "2659"
         ],
         "type": "scatter",
         "uid": "9a3870da-e364-11e8-9d8c-a1b30045967f",
         "x": [
          "Student_17",
          "Student_17",
          "Student_17",
          "Student_17",
          "Student_17",
          "Student_17"
         ],
         "y": [
          "Video1",
          "Video2",
          "Video3",
          "Video4",
          "Video5",
          "Total"
         ]
        },
        {
         "marker": {
          "line": {
           "width": 2
          },
          "size": [
           291,
           719,
           825,
           443,
           77,
           2355
          ],
          "sizemode": "area",
          "sizeref": 4.5,
          "symbol": "circle"
         },
         "mode": "markers",
         "name": "Student_18",
         "text": [
          "291",
          "719",
          "825",
          "443",
          "77",
          "2355"
         ],
         "type": "scatter",
         "uid": "9a387152-e364-11e8-9d8c-a1b30045967f",
         "x": [
          "Student_18",
          "Student_18",
          "Student_18",
          "Student_18",
          "Student_18",
          "Student_18"
         ],
         "y": [
          "Video1",
          "Video2",
          "Video3",
          "Video4",
          "Video5",
          "Total"
         ]
        },
        {
         "marker": {
          "line": {
           "width": 2
          },
          "size": [
           184,
           0,
           0,
           33,
           52,
           269
          ],
          "sizemode": "area",
          "sizeref": 4.5,
          "symbol": "circle"
         },
         "mode": "markers",
         "name": "Student_19",
         "text": [
          "184",
          "0",
          "0",
          "33",
          "52",
          "269"
         ],
         "type": "scatter",
         "uid": "9a3871d4-e364-11e8-9d8c-a1b30045967f",
         "x": [
          "Student_19",
          "Student_19",
          "Student_19",
          "Student_19",
          "Student_19",
          "Student_19"
         ],
         "y": [
          "Video1",
          "Video2",
          "Video3",
          "Video4",
          "Video5",
          "Total"
         ]
        },
        {
         "marker": {
          "line": {
           "width": 2
          },
          "size": [
           52,
           707,
           520,
           0,
           148,
           1427
          ],
          "sizemode": "area",
          "sizeref": 4.5,
          "symbol": "circle"
         },
         "mode": "markers",
         "name": "Student_20",
         "text": [
          "52",
          "707",
          "520",
          "0",
          "148",
          "1427"
         ],
         "type": "scatter",
         "uid": "9a38724c-e364-11e8-9d8c-a1b30045967f",
         "x": [
          "Student_20",
          "Student_20",
          "Student_20",
          "Student_20",
          "Student_20",
          "Student_20"
         ],
         "y": [
          "Video1",
          "Video2",
          "Video3",
          "Video4",
          "Video5",
          "Total"
         ]
        }
       ],
       "layout": {
        "hovermode": "closest",
        "showlegend": true,
        "title": "Tempo de acesso aos vídeos por estudante",
        "xaxis": {
         "autorange": false,
         "fixedrange": false,
         "range": [
          -1,
          20
         ],
         "rangemode": "normal",
         "showline": true,
         "title": "Estudantes",
         "type": "category"
        },
        "yaxis": {
         "autorange": false,
         "fixedrange": false,
         "range": [
          -1,
          6
         ],
         "rangemode": "normal",
         "showline": true,
         "title": "Videos",
         "type": "category"
        }
       }
      },
      "text/html": [
       "<div id=\"6121c857-7b7d-44f1-bd5c-d6605c1715e9\" style=\"height: 525px; width: 100%;\" class=\"plotly-graph-div\"></div><script type=\"text/javascript\">require([\"plotly\"], function(Plotly) { window.PLOTLYENV=window.PLOTLYENV || {};window.PLOTLYENV.BASE_URL=\"https://plot.ly\";Plotly.newPlot(\"6121c857-7b7d-44f1-bd5c-d6605c1715e9\", [{\"marker\": {\"line\": {\"width\": 2}, \"size\": [406, 492, 810, 722, 203, 2633], \"sizemode\": \"area\", \"sizeref\": 4.5, \"symbol\": \"circle\"}, \"mode\": \"markers\", \"name\": \"Student_1\", \"text\": [\"406\", \"492\", \"810\", \"722\", \"203\", \"2633\"], \"x\": [\"Student_1\", \"Student_1\", \"Student_1\", \"Student_1\", \"Student_1\", \"Student_1\"], \"y\": [\"Video1\", \"Video2\", \"Video3\", \"Video4\", \"Video5\", \"Total\"], \"type\": \"scatter\", \"uid\": \"9a3866d0-e364-11e8-9d8c-a1b30045967f\"}, {\"marker\": {\"line\": {\"width\": 2}, \"size\": [185, 406, 370, 0, 312, 1273], \"sizemode\": \"area\", \"sizeref\": 4.5, \"symbol\": \"circle\"}, \"mode\": \"markers\", \"name\": \"Student_2\", \"text\": [\"185\", \"406\", \"370\", \"0\", \"312\", \"1273\"], \"x\": [\"Student_2\", \"Student_2\", \"Student_2\", \"Student_2\", \"Student_2\", \"Student_2\"], \"y\": [\"Video1\", \"Video2\", \"Video3\", \"Video4\", \"Video5\", \"Total\"], \"type\": \"scatter\", \"uid\": \"9a38687e-e364-11e8-9d8c-a1b30045967f\"}, {\"marker\": {\"line\": {\"width\": 2}, \"size\": [42, 469, 242, 319, 0, 1072], \"sizemode\": \"area\", \"sizeref\": 4.5, \"symbol\": \"circle\"}, \"mode\": \"markers\", \"name\": \"Student_3\", \"text\": [\"42\", \"469\", \"242\", \"319\", \"0\", \"1072\"], \"x\": [\"Student_3\", \"Student_3\", \"Student_3\", \"Student_3\", \"Student_3\", \"Student_3\"], \"y\": [\"Video1\", \"Video2\", \"Video3\", \"Video4\", \"Video5\", \"Total\"], \"type\": \"scatter\", \"uid\": \"9a386946-e364-11e8-9d8c-a1b30045967f\"}, {\"marker\": {\"line\": {\"width\": 2}, \"size\": [18, 152, 805, 0, 0, 975], \"sizemode\": \"area\", \"sizeref\": 4.5, \"symbol\": \"circle\"}, \"mode\": \"markers\", \"name\": \"Student_4\", \"text\": [\"18\", \"152\", \"805\", \"0\", \"0\", \"975\"], \"x\": [\"Student_4\", \"Student_4\", \"Student_4\", \"Student_4\", \"Student_4\", \"Student_4\"], \"y\": [\"Video1\", \"Video2\", \"Video3\", \"Video4\", \"Video5\", \"Total\"], \"type\": \"scatter\", \"uid\": \"9a3869e6-e364-11e8-9d8c-a1b30045967f\"}, {\"marker\": {\"line\": {\"width\": 2}, \"size\": [0, 792, 953, 748, 0, 2493], \"sizemode\": \"area\", \"sizeref\": 4.5, \"symbol\": \"circle\"}, \"mode\": \"markers\", \"name\": \"Student_5\", \"text\": [\"0\", \"792\", \"953\", \"748\", \"0\", \"2493\"], \"x\": [\"Student_5\", \"Student_5\", \"Student_5\", \"Student_5\", \"Student_5\", \"Student_5\"], \"y\": [\"Video1\", \"Video2\", \"Video3\", \"Video4\", \"Video5\", \"Total\"], \"type\": \"scatter\", \"uid\": \"9a386a7c-e364-11e8-9d8c-a1b30045967f\"}, {\"marker\": {\"line\": {\"width\": 2}, \"size\": [505, 0, 0, 605, 439, 1549], \"sizemode\": \"area\", \"sizeref\": 4.5, \"symbol\": \"circle\"}, \"mode\": \"markers\", \"name\": \"Student_6\", \"text\": [\"505\", \"0\", \"0\", \"605\", \"439\", \"1549\"], \"x\": [\"Student_6\", \"Student_6\", \"Student_6\", \"Student_6\", \"Student_6\", \"Student_6\"], \"y\": [\"Video1\", \"Video2\", \"Video3\", \"Video4\", \"Video5\", \"Total\"], \"type\": \"scatter\", \"uid\": \"9a386b08-e364-11e8-9d8c-a1b30045967f\"}, {\"marker\": {\"line\": {\"width\": 2}, \"size\": [0, 0, 898, 0, 426, 1324], \"sizemode\": \"area\", \"sizeref\": 4.5, \"symbol\": \"circle\"}, \"mode\": \"markers\", \"name\": \"Student_7\", \"text\": [\"0\", \"0\", \"898\", \"0\", \"426\", \"1324\"], \"x\": [\"Student_7\", \"Student_7\", \"Student_7\", \"Student_7\", \"Student_7\", \"Student_7\"], \"y\": [\"Video1\", \"Video2\", \"Video3\", \"Video4\", \"Video5\", \"Total\"], \"type\": \"scatter\", \"uid\": \"9a386b9e-e364-11e8-9d8c-a1b30045967f\"}, {\"marker\": {\"line\": {\"width\": 2}, \"size\": [144, 86, 671, 112, 304, 1317], \"sizemode\": \"area\", \"sizeref\": 4.5, \"symbol\": \"circle\"}, \"mode\": \"markers\", \"name\": \"Student_8\", \"text\": [\"144\", \"86\", \"671\", \"112\", \"304\", \"1317\"], \"x\": [\"Student_8\", \"Student_8\", \"Student_8\", \"Student_8\", \"Student_8\", \"Student_8\"], \"y\": [\"Video1\", \"Video2\", \"Video3\", \"Video4\", \"Video5\", \"Total\"], \"type\": \"scatter\", \"uid\": \"9a386c2a-e364-11e8-9d8c-a1b30045967f\"}, {\"marker\": {\"line\": {\"width\": 2}, \"size\": [259, 533, 408, 313, 194, 1707], \"sizemode\": \"area\", \"sizeref\": 4.5, \"symbol\": \"circle\"}, \"mode\": \"markers\", \"name\": \"Student_9\", \"text\": [\"259\", \"533\", \"408\", \"313\", \"194\", \"1707\"], \"x\": [\"Student_9\", \"Student_9\", \"Student_9\", \"Student_9\", \"Student_9\", \"Student_9\"], \"y\": [\"Video1\", \"Video2\", \"Video3\", \"Video4\", \"Video5\", \"Total\"], \"type\": \"scatter\", \"uid\": \"9a386cb6-e364-11e8-9d8c-a1b30045967f\"}, {\"marker\": {\"line\": {\"width\": 2}, \"size\": [247, 665, 0, 240, 375, 1527], \"sizemode\": \"area\", \"sizeref\": 4.5, \"symbol\": \"circle\"}, \"mode\": \"markers\", \"name\": \"Student_10\", \"text\": [\"247\", \"665\", \"0\", \"240\", \"375\", \"1527\"], \"x\": [\"Student_10\", \"Student_10\", \"Student_10\", \"Student_10\", \"Student_10\", \"Student_10\"], \"y\": [\"Video1\", \"Video2\", \"Video3\", \"Video4\", \"Video5\", \"Total\"], \"type\": \"scatter\", \"uid\": \"9a386d38-e364-11e8-9d8c-a1b30045967f\"}, {\"marker\": {\"line\": {\"width\": 2}, \"size\": [358, 552, 1822, 0, 0, 2732], \"sizemode\": \"area\", \"sizeref\": 4.5, \"symbol\": \"circle\"}, \"mode\": \"markers\", \"name\": \"Student_11\", \"text\": [\"358\", \"552\", \"1822\", \"0\", \"0\", \"2732\"], \"x\": [\"Student_11\", \"Student_11\", \"Student_11\", \"Student_11\", \"Student_11\", \"Student_11\"], \"y\": [\"Video1\", \"Video2\", \"Video3\", \"Video4\", \"Video5\", \"Total\"], \"type\": \"scatter\", \"uid\": \"9a386dba-e364-11e8-9d8c-a1b30045967f\"}, {\"marker\": {\"line\": {\"width\": 2}, \"size\": [0, 663, 541, 0, 368, 1572], \"sizemode\": \"area\", \"sizeref\": 4.5, \"symbol\": \"circle\"}, \"mode\": \"markers\", \"name\": \"Student_12\", \"text\": [\"0\", \"663\", \"541\", \"0\", \"368\", \"1572\"], \"x\": [\"Student_12\", \"Student_12\", \"Student_12\", \"Student_12\", \"Student_12\", \"Student_12\"], \"y\": [\"Video1\", \"Video2\", \"Video3\", \"Video4\", \"Video5\", \"Total\"], \"type\": \"scatter\", \"uid\": \"9a386e46-e364-11e8-9d8c-a1b30045967f\"}, {\"marker\": {\"line\": {\"width\": 2}, \"size\": [0, 329, 641, 390, 300, 1660], \"sizemode\": \"area\", \"sizeref\": 4.5, \"symbol\": \"circle\"}, \"mode\": \"markers\", \"name\": \"Student_13\", \"text\": [\"0\", \"329\", \"641\", \"390\", \"300\", \"1660\"], \"x\": [\"Student_13\", \"Student_13\", \"Student_13\", \"Student_13\", \"Student_13\", \"Student_13\"], \"y\": [\"Video1\", \"Video2\", \"Video3\", \"Video4\", \"Video5\", \"Total\"], \"type\": \"scatter\", \"uid\": \"9a386ec8-e364-11e8-9d8c-a1b30045967f\"}, {\"marker\": {\"line\": {\"width\": 2}, \"size\": [165, 0, 1071, 102, 525, 1863], \"sizemode\": \"area\", \"sizeref\": 4.5, \"symbol\": \"circle\"}, \"mode\": \"markers\", \"name\": \"Student_14\", \"text\": [\"165\", \"0\", \"1071\", \"102\", \"525\", \"1863\"], \"x\": [\"Student_14\", \"Student_14\", \"Student_14\", \"Student_14\", \"Student_14\", \"Student_14\"], \"y\": [\"Video1\", \"Video2\", \"Video3\", \"Video4\", \"Video5\", \"Total\"], \"type\": \"scatter\", \"uid\": \"9a386f54-e364-11e8-9d8c-a1b30045967f\"}, {\"marker\": {\"line\": {\"width\": 2}, \"size\": [354, 553, 391, 63, 836, 2197], \"sizemode\": \"area\", \"sizeref\": 4.5, \"symbol\": \"circle\"}, \"mode\": \"markers\", \"name\": \"Student_15\", \"text\": [\"354\", \"553\", \"391\", \"63\", \"836\", \"2197\"], \"x\": [\"Student_15\", \"Student_15\", \"Student_15\", \"Student_15\", \"Student_15\", \"Student_15\"], \"y\": [\"Video1\", \"Video2\", \"Video3\", \"Video4\", \"Video5\", \"Total\"], \"type\": \"scatter\", \"uid\": \"9a386fe0-e364-11e8-9d8c-a1b30045967f\"}, {\"marker\": {\"line\": {\"width\": 2}, \"size\": [95, 779, 342, 526, 567, 2309], \"sizemode\": \"area\", \"sizeref\": 4.5, \"symbol\": \"circle\"}, \"mode\": \"markers\", \"name\": \"Student_16\", \"text\": [\"95\", \"779\", \"342\", \"526\", \"567\", \"2309\"], \"x\": [\"Student_16\", \"Student_16\", \"Student_16\", \"Student_16\", \"Student_16\", \"Student_16\"], \"y\": [\"Video1\", \"Video2\", \"Video3\", \"Video4\", \"Video5\", \"Total\"], \"type\": \"scatter\", \"uid\": \"9a387062-e364-11e8-9d8c-a1b30045967f\"}, {\"marker\": {\"line\": {\"width\": 2}, \"size\": [0, 260, 1327, 311, 761, 2659], \"sizemode\": \"area\", \"sizeref\": 4.5, \"symbol\": \"circle\"}, \"mode\": \"markers\", \"name\": \"Student_17\", \"text\": [\"0\", \"260\", \"1327\", \"311\", \"761\", \"2659\"], \"x\": [\"Student_17\", \"Student_17\", \"Student_17\", \"Student_17\", \"Student_17\", \"Student_17\"], \"y\": [\"Video1\", \"Video2\", \"Video3\", \"Video4\", \"Video5\", \"Total\"], \"type\": \"scatter\", \"uid\": \"9a3870da-e364-11e8-9d8c-a1b30045967f\"}, {\"marker\": {\"line\": {\"width\": 2}, \"size\": [291, 719, 825, 443, 77, 2355], \"sizemode\": \"area\", \"sizeref\": 4.5, \"symbol\": \"circle\"}, \"mode\": \"markers\", \"name\": \"Student_18\", \"text\": [\"291\", \"719\", \"825\", \"443\", \"77\", \"2355\"], \"x\": [\"Student_18\", \"Student_18\", \"Student_18\", \"Student_18\", \"Student_18\", \"Student_18\"], \"y\": [\"Video1\", \"Video2\", \"Video3\", \"Video4\", \"Video5\", \"Total\"], \"type\": \"scatter\", \"uid\": \"9a387152-e364-11e8-9d8c-a1b30045967f\"}, {\"marker\": {\"line\": {\"width\": 2}, \"size\": [184, 0, 0, 33, 52, 269], \"sizemode\": \"area\", \"sizeref\": 4.5, \"symbol\": \"circle\"}, \"mode\": \"markers\", \"name\": \"Student_19\", \"text\": [\"184\", \"0\", \"0\", \"33\", \"52\", \"269\"], \"x\": [\"Student_19\", \"Student_19\", \"Student_19\", \"Student_19\", \"Student_19\", \"Student_19\"], \"y\": [\"Video1\", \"Video2\", \"Video3\", \"Video4\", \"Video5\", \"Total\"], \"type\": \"scatter\", \"uid\": \"9a3871d4-e364-11e8-9d8c-a1b30045967f\"}, {\"marker\": {\"line\": {\"width\": 2}, \"size\": [52, 707, 520, 0, 148, 1427], \"sizemode\": \"area\", \"sizeref\": 4.5, \"symbol\": \"circle\"}, \"mode\": \"markers\", \"name\": \"Student_20\", \"text\": [\"52\", \"707\", \"520\", \"0\", \"148\", \"1427\"], \"x\": [\"Student_20\", \"Student_20\", \"Student_20\", \"Student_20\", \"Student_20\", \"Student_20\"], \"y\": [\"Video1\", \"Video2\", \"Video3\", \"Video4\", \"Video5\", \"Total\"], \"type\": \"scatter\", \"uid\": \"9a38724c-e364-11e8-9d8c-a1b30045967f\"}], {\"hovermode\": \"closest\", \"showlegend\": true, \"title\": \"Tempo de acesso aos v\\u00eddeos por estudante\", \"xaxis\": {\"autorange\": false, \"fixedrange\": false, \"range\": [-1, 20], \"rangemode\": \"normal\", \"showline\": true, \"title\": \"Estudantes\", \"type\": \"category\"}, \"yaxis\": {\"autorange\": false, \"fixedrange\": false, \"range\": [-1, 6], \"rangemode\": \"normal\", \"showline\": true, \"title\": \"Videos\", \"type\": \"category\"}}, {\"showLink\": true, \"linkText\": \"Export to plot.ly\"})});</script>"
      ],
      "text/vnd.plotly.v1+html": [
       "<div id=\"6121c857-7b7d-44f1-bd5c-d6605c1715e9\" style=\"height: 525px; width: 100%;\" class=\"plotly-graph-div\"></div><script type=\"text/javascript\">require([\"plotly\"], function(Plotly) { window.PLOTLYENV=window.PLOTLYENV || {};window.PLOTLYENV.BASE_URL=\"https://plot.ly\";Plotly.newPlot(\"6121c857-7b7d-44f1-bd5c-d6605c1715e9\", [{\"marker\": {\"line\": {\"width\": 2}, \"size\": [406, 492, 810, 722, 203, 2633], \"sizemode\": \"area\", \"sizeref\": 4.5, \"symbol\": \"circle\"}, \"mode\": \"markers\", \"name\": \"Student_1\", \"text\": [\"406\", \"492\", \"810\", \"722\", \"203\", \"2633\"], \"x\": [\"Student_1\", \"Student_1\", \"Student_1\", \"Student_1\", \"Student_1\", \"Student_1\"], \"y\": [\"Video1\", \"Video2\", \"Video3\", \"Video4\", \"Video5\", \"Total\"], \"type\": \"scatter\", \"uid\": \"9a3866d0-e364-11e8-9d8c-a1b30045967f\"}, {\"marker\": {\"line\": {\"width\": 2}, \"size\": [185, 406, 370, 0, 312, 1273], \"sizemode\": \"area\", \"sizeref\": 4.5, \"symbol\": \"circle\"}, \"mode\": \"markers\", \"name\": \"Student_2\", \"text\": [\"185\", \"406\", \"370\", \"0\", \"312\", \"1273\"], \"x\": [\"Student_2\", \"Student_2\", \"Student_2\", \"Student_2\", \"Student_2\", \"Student_2\"], \"y\": [\"Video1\", \"Video2\", \"Video3\", \"Video4\", \"Video5\", \"Total\"], \"type\": \"scatter\", \"uid\": \"9a38687e-e364-11e8-9d8c-a1b30045967f\"}, {\"marker\": {\"line\": {\"width\": 2}, \"size\": [42, 469, 242, 319, 0, 1072], \"sizemode\": \"area\", \"sizeref\": 4.5, \"symbol\": \"circle\"}, \"mode\": \"markers\", \"name\": \"Student_3\", \"text\": [\"42\", \"469\", \"242\", \"319\", \"0\", \"1072\"], \"x\": [\"Student_3\", \"Student_3\", \"Student_3\", \"Student_3\", \"Student_3\", \"Student_3\"], \"y\": [\"Video1\", \"Video2\", \"Video3\", \"Video4\", \"Video5\", \"Total\"], \"type\": \"scatter\", \"uid\": \"9a386946-e364-11e8-9d8c-a1b30045967f\"}, {\"marker\": {\"line\": {\"width\": 2}, \"size\": [18, 152, 805, 0, 0, 975], \"sizemode\": \"area\", \"sizeref\": 4.5, \"symbol\": \"circle\"}, \"mode\": \"markers\", \"name\": \"Student_4\", \"text\": [\"18\", \"152\", \"805\", \"0\", \"0\", \"975\"], \"x\": [\"Student_4\", \"Student_4\", \"Student_4\", \"Student_4\", \"Student_4\", \"Student_4\"], \"y\": [\"Video1\", \"Video2\", \"Video3\", \"Video4\", \"Video5\", \"Total\"], \"type\": \"scatter\", \"uid\": \"9a3869e6-e364-11e8-9d8c-a1b30045967f\"}, {\"marker\": {\"line\": {\"width\": 2}, \"size\": [0, 792, 953, 748, 0, 2493], \"sizemode\": \"area\", \"sizeref\": 4.5, \"symbol\": \"circle\"}, \"mode\": \"markers\", \"name\": \"Student_5\", \"text\": [\"0\", \"792\", \"953\", \"748\", \"0\", \"2493\"], \"x\": [\"Student_5\", \"Student_5\", \"Student_5\", \"Student_5\", \"Student_5\", \"Student_5\"], \"y\": [\"Video1\", \"Video2\", \"Video3\", \"Video4\", \"Video5\", \"Total\"], \"type\": \"scatter\", \"uid\": \"9a386a7c-e364-11e8-9d8c-a1b30045967f\"}, {\"marker\": {\"line\": {\"width\": 2}, \"size\": [505, 0, 0, 605, 439, 1549], \"sizemode\": \"area\", \"sizeref\": 4.5, \"symbol\": \"circle\"}, \"mode\": \"markers\", \"name\": \"Student_6\", \"text\": [\"505\", \"0\", \"0\", \"605\", \"439\", \"1549\"], \"x\": [\"Student_6\", \"Student_6\", \"Student_6\", \"Student_6\", \"Student_6\", \"Student_6\"], \"y\": [\"Video1\", \"Video2\", \"Video3\", \"Video4\", \"Video5\", \"Total\"], \"type\": \"scatter\", \"uid\": \"9a386b08-e364-11e8-9d8c-a1b30045967f\"}, {\"marker\": {\"line\": {\"width\": 2}, \"size\": [0, 0, 898, 0, 426, 1324], \"sizemode\": \"area\", \"sizeref\": 4.5, \"symbol\": \"circle\"}, \"mode\": \"markers\", \"name\": \"Student_7\", \"text\": [\"0\", \"0\", \"898\", \"0\", \"426\", \"1324\"], \"x\": [\"Student_7\", \"Student_7\", \"Student_7\", \"Student_7\", \"Student_7\", \"Student_7\"], \"y\": [\"Video1\", \"Video2\", \"Video3\", \"Video4\", \"Video5\", \"Total\"], \"type\": \"scatter\", \"uid\": \"9a386b9e-e364-11e8-9d8c-a1b30045967f\"}, {\"marker\": {\"line\": {\"width\": 2}, \"size\": [144, 86, 671, 112, 304, 1317], \"sizemode\": \"area\", \"sizeref\": 4.5, \"symbol\": \"circle\"}, \"mode\": \"markers\", \"name\": \"Student_8\", \"text\": [\"144\", \"86\", \"671\", \"112\", \"304\", \"1317\"], \"x\": [\"Student_8\", \"Student_8\", \"Student_8\", \"Student_8\", \"Student_8\", \"Student_8\"], \"y\": [\"Video1\", \"Video2\", \"Video3\", \"Video4\", \"Video5\", \"Total\"], \"type\": \"scatter\", \"uid\": \"9a386c2a-e364-11e8-9d8c-a1b30045967f\"}, {\"marker\": {\"line\": {\"width\": 2}, \"size\": [259, 533, 408, 313, 194, 1707], \"sizemode\": \"area\", \"sizeref\": 4.5, \"symbol\": \"circle\"}, \"mode\": \"markers\", \"name\": \"Student_9\", \"text\": [\"259\", \"533\", \"408\", \"313\", \"194\", \"1707\"], \"x\": [\"Student_9\", \"Student_9\", \"Student_9\", \"Student_9\", \"Student_9\", \"Student_9\"], \"y\": [\"Video1\", \"Video2\", \"Video3\", \"Video4\", \"Video5\", \"Total\"], \"type\": \"scatter\", \"uid\": \"9a386cb6-e364-11e8-9d8c-a1b30045967f\"}, {\"marker\": {\"line\": {\"width\": 2}, \"size\": [247, 665, 0, 240, 375, 1527], \"sizemode\": \"area\", \"sizeref\": 4.5, \"symbol\": \"circle\"}, \"mode\": \"markers\", \"name\": \"Student_10\", \"text\": [\"247\", \"665\", \"0\", \"240\", \"375\", \"1527\"], \"x\": [\"Student_10\", \"Student_10\", \"Student_10\", \"Student_10\", \"Student_10\", \"Student_10\"], \"y\": [\"Video1\", \"Video2\", \"Video3\", \"Video4\", \"Video5\", \"Total\"], \"type\": \"scatter\", \"uid\": \"9a386d38-e364-11e8-9d8c-a1b30045967f\"}, {\"marker\": {\"line\": {\"width\": 2}, \"size\": [358, 552, 1822, 0, 0, 2732], \"sizemode\": \"area\", \"sizeref\": 4.5, \"symbol\": \"circle\"}, \"mode\": \"markers\", \"name\": \"Student_11\", \"text\": [\"358\", \"552\", \"1822\", \"0\", \"0\", \"2732\"], \"x\": [\"Student_11\", \"Student_11\", \"Student_11\", \"Student_11\", \"Student_11\", \"Student_11\"], \"y\": [\"Video1\", \"Video2\", \"Video3\", \"Video4\", \"Video5\", \"Total\"], \"type\": \"scatter\", \"uid\": \"9a386dba-e364-11e8-9d8c-a1b30045967f\"}, {\"marker\": {\"line\": {\"width\": 2}, \"size\": [0, 663, 541, 0, 368, 1572], \"sizemode\": \"area\", \"sizeref\": 4.5, \"symbol\": \"circle\"}, \"mode\": \"markers\", \"name\": \"Student_12\", \"text\": [\"0\", \"663\", \"541\", \"0\", \"368\", \"1572\"], \"x\": [\"Student_12\", \"Student_12\", \"Student_12\", \"Student_12\", \"Student_12\", \"Student_12\"], \"y\": [\"Video1\", \"Video2\", \"Video3\", \"Video4\", \"Video5\", \"Total\"], \"type\": \"scatter\", \"uid\": \"9a386e46-e364-11e8-9d8c-a1b30045967f\"}, {\"marker\": {\"line\": {\"width\": 2}, \"size\": [0, 329, 641, 390, 300, 1660], \"sizemode\": \"area\", \"sizeref\": 4.5, \"symbol\": \"circle\"}, \"mode\": \"markers\", \"name\": \"Student_13\", \"text\": [\"0\", \"329\", \"641\", \"390\", \"300\", \"1660\"], \"x\": [\"Student_13\", \"Student_13\", \"Student_13\", \"Student_13\", \"Student_13\", \"Student_13\"], \"y\": [\"Video1\", \"Video2\", \"Video3\", \"Video4\", \"Video5\", \"Total\"], \"type\": \"scatter\", \"uid\": \"9a386ec8-e364-11e8-9d8c-a1b30045967f\"}, {\"marker\": {\"line\": {\"width\": 2}, \"size\": [165, 0, 1071, 102, 525, 1863], \"sizemode\": \"area\", \"sizeref\": 4.5, \"symbol\": \"circle\"}, \"mode\": \"markers\", \"name\": \"Student_14\", \"text\": [\"165\", \"0\", \"1071\", \"102\", \"525\", \"1863\"], \"x\": [\"Student_14\", \"Student_14\", \"Student_14\", \"Student_14\", \"Student_14\", \"Student_14\"], \"y\": [\"Video1\", \"Video2\", \"Video3\", \"Video4\", \"Video5\", \"Total\"], \"type\": \"scatter\", \"uid\": \"9a386f54-e364-11e8-9d8c-a1b30045967f\"}, {\"marker\": {\"line\": {\"width\": 2}, \"size\": [354, 553, 391, 63, 836, 2197], \"sizemode\": \"area\", \"sizeref\": 4.5, \"symbol\": \"circle\"}, \"mode\": \"markers\", \"name\": \"Student_15\", \"text\": [\"354\", \"553\", \"391\", \"63\", \"836\", \"2197\"], \"x\": [\"Student_15\", \"Student_15\", \"Student_15\", \"Student_15\", \"Student_15\", \"Student_15\"], \"y\": [\"Video1\", \"Video2\", \"Video3\", \"Video4\", \"Video5\", \"Total\"], \"type\": \"scatter\", \"uid\": \"9a386fe0-e364-11e8-9d8c-a1b30045967f\"}, {\"marker\": {\"line\": {\"width\": 2}, \"size\": [95, 779, 342, 526, 567, 2309], \"sizemode\": \"area\", \"sizeref\": 4.5, \"symbol\": \"circle\"}, \"mode\": \"markers\", \"name\": \"Student_16\", \"text\": [\"95\", \"779\", \"342\", \"526\", \"567\", \"2309\"], \"x\": [\"Student_16\", \"Student_16\", \"Student_16\", \"Student_16\", \"Student_16\", \"Student_16\"], \"y\": [\"Video1\", \"Video2\", \"Video3\", \"Video4\", \"Video5\", \"Total\"], \"type\": \"scatter\", \"uid\": \"9a387062-e364-11e8-9d8c-a1b30045967f\"}, {\"marker\": {\"line\": {\"width\": 2}, \"size\": [0, 260, 1327, 311, 761, 2659], \"sizemode\": \"area\", \"sizeref\": 4.5, \"symbol\": \"circle\"}, \"mode\": \"markers\", \"name\": \"Student_17\", \"text\": [\"0\", \"260\", \"1327\", \"311\", \"761\", \"2659\"], \"x\": [\"Student_17\", \"Student_17\", \"Student_17\", \"Student_17\", \"Student_17\", \"Student_17\"], \"y\": [\"Video1\", \"Video2\", \"Video3\", \"Video4\", \"Video5\", \"Total\"], \"type\": \"scatter\", \"uid\": \"9a3870da-e364-11e8-9d8c-a1b30045967f\"}, {\"marker\": {\"line\": {\"width\": 2}, \"size\": [291, 719, 825, 443, 77, 2355], \"sizemode\": \"area\", \"sizeref\": 4.5, \"symbol\": \"circle\"}, \"mode\": \"markers\", \"name\": \"Student_18\", \"text\": [\"291\", \"719\", \"825\", \"443\", \"77\", \"2355\"], \"x\": [\"Student_18\", \"Student_18\", \"Student_18\", \"Student_18\", \"Student_18\", \"Student_18\"], \"y\": [\"Video1\", \"Video2\", \"Video3\", \"Video4\", \"Video5\", \"Total\"], \"type\": \"scatter\", \"uid\": \"9a387152-e364-11e8-9d8c-a1b30045967f\"}, {\"marker\": {\"line\": {\"width\": 2}, \"size\": [184, 0, 0, 33, 52, 269], \"sizemode\": \"area\", \"sizeref\": 4.5, \"symbol\": \"circle\"}, \"mode\": \"markers\", \"name\": \"Student_19\", \"text\": [\"184\", \"0\", \"0\", \"33\", \"52\", \"269\"], \"x\": [\"Student_19\", \"Student_19\", \"Student_19\", \"Student_19\", \"Student_19\", \"Student_19\"], \"y\": [\"Video1\", \"Video2\", \"Video3\", \"Video4\", \"Video5\", \"Total\"], \"type\": \"scatter\", \"uid\": \"9a3871d4-e364-11e8-9d8c-a1b30045967f\"}, {\"marker\": {\"line\": {\"width\": 2}, \"size\": [52, 707, 520, 0, 148, 1427], \"sizemode\": \"area\", \"sizeref\": 4.5, \"symbol\": \"circle\"}, \"mode\": \"markers\", \"name\": \"Student_20\", \"text\": [\"52\", \"707\", \"520\", \"0\", \"148\", \"1427\"], \"x\": [\"Student_20\", \"Student_20\", \"Student_20\", \"Student_20\", \"Student_20\", \"Student_20\"], \"y\": [\"Video1\", \"Video2\", \"Video3\", \"Video4\", \"Video5\", \"Total\"], \"type\": \"scatter\", \"uid\": \"9a38724c-e364-11e8-9d8c-a1b30045967f\"}], {\"hovermode\": \"closest\", \"showlegend\": true, \"title\": \"Tempo de acesso aos v\\u00eddeos por estudante\", \"xaxis\": {\"autorange\": false, \"fixedrange\": false, \"range\": [-1, 20], \"rangemode\": \"normal\", \"showline\": true, \"title\": \"Estudantes\", \"type\": \"category\"}, \"yaxis\": {\"autorange\": false, \"fixedrange\": false, \"range\": [-1, 6], \"rangemode\": \"normal\", \"showline\": true, \"title\": \"Videos\", \"type\": \"category\"}}, {\"showLink\": true, \"linkText\": \"Export to plot.ly\"})});</script>"
      ]
     },
     "metadata": {},
     "output_type": "display_data"
    },
    {
     "data": {
      "application/vnd.plotly.v1+json": {
       "data": [
        {
         "name": "Video1",
         "type": "bar",
         "uid": "9a4aed3c-e364-11e8-9d8c-a1b30045967f",
         "x": [
          "Student_1",
          "Student_2",
          "Student_3",
          "Student_4",
          "Student_5",
          "Student_6",
          "Student_7",
          "Student_8",
          "Student_9",
          "Student_10",
          "Student_11",
          "Student_12",
          "Student_13",
          "Student_14",
          "Student_15",
          "Student_16",
          "Student_17",
          "Student_18",
          "Student_19",
          "Student_20"
         ],
         "y": [
          406,
          185,
          42,
          18,
          0,
          505,
          0,
          144,
          259,
          247,
          358,
          0,
          0,
          165,
          354,
          95,
          0,
          291,
          184,
          52
         ]
        },
        {
         "name": "Video2",
         "type": "bar",
         "uid": "9a4aef1c-e364-11e8-9d8c-a1b30045967f",
         "x": [
          "Student_1",
          "Student_2",
          "Student_3",
          "Student_4",
          "Student_5",
          "Student_6",
          "Student_7",
          "Student_8",
          "Student_9",
          "Student_10",
          "Student_11",
          "Student_12",
          "Student_13",
          "Student_14",
          "Student_15",
          "Student_16",
          "Student_17",
          "Student_18",
          "Student_19",
          "Student_20"
         ],
         "y": [
          492,
          406,
          469,
          152,
          792,
          0,
          0,
          86,
          533,
          665,
          552,
          663,
          329,
          0,
          553,
          779,
          260,
          719,
          0,
          707
         ]
        },
        {
         "name": "Video3",
         "type": "bar",
         "uid": "9a4aefe4-e364-11e8-9d8c-a1b30045967f",
         "x": [
          "Student_1",
          "Student_2",
          "Student_3",
          "Student_4",
          "Student_5",
          "Student_6",
          "Student_7",
          "Student_8",
          "Student_9",
          "Student_10",
          "Student_11",
          "Student_12",
          "Student_13",
          "Student_14",
          "Student_15",
          "Student_16",
          "Student_17",
          "Student_18",
          "Student_19",
          "Student_20"
         ],
         "y": [
          810,
          370,
          242,
          805,
          953,
          0,
          898,
          671,
          408,
          0,
          1822,
          541,
          641,
          1071,
          391,
          342,
          1327,
          825,
          0,
          520
         ]
        },
        {
         "name": "Video4",
         "type": "bar",
         "uid": "9a4af084-e364-11e8-9d8c-a1b30045967f",
         "x": [
          "Student_1",
          "Student_2",
          "Student_3",
          "Student_4",
          "Student_5",
          "Student_6",
          "Student_7",
          "Student_8",
          "Student_9",
          "Student_10",
          "Student_11",
          "Student_12",
          "Student_13",
          "Student_14",
          "Student_15",
          "Student_16",
          "Student_17",
          "Student_18",
          "Student_19",
          "Student_20"
         ],
         "y": [
          722,
          0,
          319,
          0,
          748,
          605,
          0,
          112,
          313,
          240,
          0,
          0,
          390,
          102,
          63,
          526,
          311,
          443,
          33,
          0
         ]
        },
        {
         "name": "Video5",
         "type": "bar",
         "uid": "9a4af110-e364-11e8-9d8c-a1b30045967f",
         "x": [
          "Student_1",
          "Student_2",
          "Student_3",
          "Student_4",
          "Student_5",
          "Student_6",
          "Student_7",
          "Student_8",
          "Student_9",
          "Student_10",
          "Student_11",
          "Student_12",
          "Student_13",
          "Student_14",
          "Student_15",
          "Student_16",
          "Student_17",
          "Student_18",
          "Student_19",
          "Student_20"
         ],
         "y": [
          203,
          312,
          0,
          0,
          0,
          439,
          426,
          304,
          194,
          375,
          0,
          368,
          300,
          525,
          836,
          567,
          761,
          77,
          52,
          148
         ]
        }
       ],
       "layout": {
        "title": "Número de acessos aos vídeos agrupados por estudante",
        "yaxis": {
         "dtick": 100,
         "exponentformat": "e",
         "gridcolor": "#bdbdbd",
         "showexponent": "all",
         "showticklabels": true,
         "tick0": 0,
         "titlefont": {
          "color": "lightgrey",
          "family": "Arial, sans-serif"
         }
        }
       }
      },
      "text/html": [
       "<div id=\"6913d22c-4463-483e-80d4-33ad20a49a2e\" style=\"height: 525px; width: 100%;\" class=\"plotly-graph-div\"></div><script type=\"text/javascript\">require([\"plotly\"], function(Plotly) { window.PLOTLYENV=window.PLOTLYENV || {};window.PLOTLYENV.BASE_URL=\"https://plot.ly\";Plotly.newPlot(\"6913d22c-4463-483e-80d4-33ad20a49a2e\", [{\"name\": \"Video1\", \"x\": [\"Student_1\", \"Student_2\", \"Student_3\", \"Student_4\", \"Student_5\", \"Student_6\", \"Student_7\", \"Student_8\", \"Student_9\", \"Student_10\", \"Student_11\", \"Student_12\", \"Student_13\", \"Student_14\", \"Student_15\", \"Student_16\", \"Student_17\", \"Student_18\", \"Student_19\", \"Student_20\"], \"y\": [406, 185, 42, 18, 0, 505, 0, 144, 259, 247, 358, 0, 0, 165, 354, 95, 0, 291, 184, 52], \"type\": \"bar\", \"uid\": \"9a4aed3c-e364-11e8-9d8c-a1b30045967f\"}, {\"name\": \"Video2\", \"x\": [\"Student_1\", \"Student_2\", \"Student_3\", \"Student_4\", \"Student_5\", \"Student_6\", \"Student_7\", \"Student_8\", \"Student_9\", \"Student_10\", \"Student_11\", \"Student_12\", \"Student_13\", \"Student_14\", \"Student_15\", \"Student_16\", \"Student_17\", \"Student_18\", \"Student_19\", \"Student_20\"], \"y\": [492, 406, 469, 152, 792, 0, 0, 86, 533, 665, 552, 663, 329, 0, 553, 779, 260, 719, 0, 707], \"type\": \"bar\", \"uid\": \"9a4aef1c-e364-11e8-9d8c-a1b30045967f\"}, {\"name\": \"Video3\", \"x\": [\"Student_1\", \"Student_2\", \"Student_3\", \"Student_4\", \"Student_5\", \"Student_6\", \"Student_7\", \"Student_8\", \"Student_9\", \"Student_10\", \"Student_11\", \"Student_12\", \"Student_13\", \"Student_14\", \"Student_15\", \"Student_16\", \"Student_17\", \"Student_18\", \"Student_19\", \"Student_20\"], \"y\": [810, 370, 242, 805, 953, 0, 898, 671, 408, 0, 1822, 541, 641, 1071, 391, 342, 1327, 825, 0, 520], \"type\": \"bar\", \"uid\": \"9a4aefe4-e364-11e8-9d8c-a1b30045967f\"}, {\"name\": \"Video4\", \"x\": [\"Student_1\", \"Student_2\", \"Student_3\", \"Student_4\", \"Student_5\", \"Student_6\", \"Student_7\", \"Student_8\", \"Student_9\", \"Student_10\", \"Student_11\", \"Student_12\", \"Student_13\", \"Student_14\", \"Student_15\", \"Student_16\", \"Student_17\", \"Student_18\", \"Student_19\", \"Student_20\"], \"y\": [722, 0, 319, 0, 748, 605, 0, 112, 313, 240, 0, 0, 390, 102, 63, 526, 311, 443, 33, 0], \"type\": \"bar\", \"uid\": \"9a4af084-e364-11e8-9d8c-a1b30045967f\"}, {\"name\": \"Video5\", \"x\": [\"Student_1\", \"Student_2\", \"Student_3\", \"Student_4\", \"Student_5\", \"Student_6\", \"Student_7\", \"Student_8\", \"Student_9\", \"Student_10\", \"Student_11\", \"Student_12\", \"Student_13\", \"Student_14\", \"Student_15\", \"Student_16\", \"Student_17\", \"Student_18\", \"Student_19\", \"Student_20\"], \"y\": [203, 312, 0, 0, 0, 439, 426, 304, 194, 375, 0, 368, 300, 525, 836, 567, 761, 77, 52, 148], \"type\": \"bar\", \"uid\": \"9a4af110-e364-11e8-9d8c-a1b30045967f\"}], {\"title\": \"N\\u00famero de acessos aos v\\u00eddeos agrupados por estudante\", \"yaxis\": {\"dtick\": 100, \"exponentformat\": \"e\", \"gridcolor\": \"#bdbdbd\", \"showexponent\": \"all\", \"showticklabels\": true, \"tick0\": 0, \"titlefont\": {\"color\": \"lightgrey\", \"family\": \"Arial, sans-serif\"}}}, {\"showLink\": true, \"linkText\": \"Export to plot.ly\"})});</script>"
      ],
      "text/vnd.plotly.v1+html": [
       "<div id=\"6913d22c-4463-483e-80d4-33ad20a49a2e\" style=\"height: 525px; width: 100%;\" class=\"plotly-graph-div\"></div><script type=\"text/javascript\">require([\"plotly\"], function(Plotly) { window.PLOTLYENV=window.PLOTLYENV || {};window.PLOTLYENV.BASE_URL=\"https://plot.ly\";Plotly.newPlot(\"6913d22c-4463-483e-80d4-33ad20a49a2e\", [{\"name\": \"Video1\", \"x\": [\"Student_1\", \"Student_2\", \"Student_3\", \"Student_4\", \"Student_5\", \"Student_6\", \"Student_7\", \"Student_8\", \"Student_9\", \"Student_10\", \"Student_11\", \"Student_12\", \"Student_13\", \"Student_14\", \"Student_15\", \"Student_16\", \"Student_17\", \"Student_18\", \"Student_19\", \"Student_20\"], \"y\": [406, 185, 42, 18, 0, 505, 0, 144, 259, 247, 358, 0, 0, 165, 354, 95, 0, 291, 184, 52], \"type\": \"bar\", \"uid\": \"9a4aed3c-e364-11e8-9d8c-a1b30045967f\"}, {\"name\": \"Video2\", \"x\": [\"Student_1\", \"Student_2\", \"Student_3\", \"Student_4\", \"Student_5\", \"Student_6\", \"Student_7\", \"Student_8\", \"Student_9\", \"Student_10\", \"Student_11\", \"Student_12\", \"Student_13\", \"Student_14\", \"Student_15\", \"Student_16\", \"Student_17\", \"Student_18\", \"Student_19\", \"Student_20\"], \"y\": [492, 406, 469, 152, 792, 0, 0, 86, 533, 665, 552, 663, 329, 0, 553, 779, 260, 719, 0, 707], \"type\": \"bar\", \"uid\": \"9a4aef1c-e364-11e8-9d8c-a1b30045967f\"}, {\"name\": \"Video3\", \"x\": [\"Student_1\", \"Student_2\", \"Student_3\", \"Student_4\", \"Student_5\", \"Student_6\", \"Student_7\", \"Student_8\", \"Student_9\", \"Student_10\", \"Student_11\", \"Student_12\", \"Student_13\", \"Student_14\", \"Student_15\", \"Student_16\", \"Student_17\", \"Student_18\", \"Student_19\", \"Student_20\"], \"y\": [810, 370, 242, 805, 953, 0, 898, 671, 408, 0, 1822, 541, 641, 1071, 391, 342, 1327, 825, 0, 520], \"type\": \"bar\", \"uid\": \"9a4aefe4-e364-11e8-9d8c-a1b30045967f\"}, {\"name\": \"Video4\", \"x\": [\"Student_1\", \"Student_2\", \"Student_3\", \"Student_4\", \"Student_5\", \"Student_6\", \"Student_7\", \"Student_8\", \"Student_9\", \"Student_10\", \"Student_11\", \"Student_12\", \"Student_13\", \"Student_14\", \"Student_15\", \"Student_16\", \"Student_17\", \"Student_18\", \"Student_19\", \"Student_20\"], \"y\": [722, 0, 319, 0, 748, 605, 0, 112, 313, 240, 0, 0, 390, 102, 63, 526, 311, 443, 33, 0], \"type\": \"bar\", \"uid\": \"9a4af084-e364-11e8-9d8c-a1b30045967f\"}, {\"name\": \"Video5\", \"x\": [\"Student_1\", \"Student_2\", \"Student_3\", \"Student_4\", \"Student_5\", \"Student_6\", \"Student_7\", \"Student_8\", \"Student_9\", \"Student_10\", \"Student_11\", \"Student_12\", \"Student_13\", \"Student_14\", \"Student_15\", \"Student_16\", \"Student_17\", \"Student_18\", \"Student_19\", \"Student_20\"], \"y\": [203, 312, 0, 0, 0, 439, 426, 304, 194, 375, 0, 368, 300, 525, 836, 567, 761, 77, 52, 148], \"type\": \"bar\", \"uid\": \"9a4af110-e364-11e8-9d8c-a1b30045967f\"}], {\"title\": \"N\\u00famero de acessos aos v\\u00eddeos agrupados por estudante\", \"yaxis\": {\"dtick\": 100, \"exponentformat\": \"e\", \"gridcolor\": \"#bdbdbd\", \"showexponent\": \"all\", \"showticklabels\": true, \"tick0\": 0, \"titlefont\": {\"color\": \"lightgrey\", \"family\": \"Arial, sans-serif\"}}}, {\"showLink\": true, \"linkText\": \"Export to plot.ly\"})});</script>"
      ]
     },
     "metadata": {},
     "output_type": "display_data"
    },
    {
     "data": {
      "application/vnd.plotly.v1+json": {
       "data": [
        {
         "name": "Video1",
         "type": "bar",
         "uid": "9a51dd0e-e364-11e8-9d8c-a1b30045967f",
         "x": [
          "Student_1",
          "Student_2",
          "Student_3",
          "Student_4",
          "Student_5",
          "Student_6",
          "Student_7",
          "Student_8",
          "Student_9",
          "Student_10",
          "Student_11",
          "Student_12",
          "Student_13",
          "Student_14",
          "Student_15",
          "Student_16",
          "Student_17",
          "Student_18",
          "Student_19",
          "Student_20"
         ],
         "y": [
          406,
          185,
          42,
          18,
          0,
          505,
          0,
          144,
          259,
          247,
          358,
          0,
          0,
          165,
          354,
          95,
          0,
          291,
          184,
          52
         ]
        },
        {
         "name": "Video2",
         "type": "bar",
         "uid": "9a51def8-e364-11e8-9d8c-a1b30045967f",
         "x": [
          "Student_1",
          "Student_2",
          "Student_3",
          "Student_4",
          "Student_5",
          "Student_6",
          "Student_7",
          "Student_8",
          "Student_9",
          "Student_10",
          "Student_11",
          "Student_12",
          "Student_13",
          "Student_14",
          "Student_15",
          "Student_16",
          "Student_17",
          "Student_18",
          "Student_19",
          "Student_20"
         ],
         "y": [
          492,
          406,
          469,
          152,
          792,
          0,
          0,
          86,
          533,
          665,
          552,
          663,
          329,
          0,
          553,
          779,
          260,
          719,
          0,
          707
         ]
        },
        {
         "name": "Video3",
         "type": "bar",
         "uid": "9a51dfc0-e364-11e8-9d8c-a1b30045967f",
         "x": [
          "Student_1",
          "Student_2",
          "Student_3",
          "Student_4",
          "Student_5",
          "Student_6",
          "Student_7",
          "Student_8",
          "Student_9",
          "Student_10",
          "Student_11",
          "Student_12",
          "Student_13",
          "Student_14",
          "Student_15",
          "Student_16",
          "Student_17",
          "Student_18",
          "Student_19",
          "Student_20"
         ],
         "y": [
          810,
          370,
          242,
          805,
          953,
          0,
          898,
          671,
          408,
          0,
          1822,
          541,
          641,
          1071,
          391,
          342,
          1327,
          825,
          0,
          520
         ]
        },
        {
         "name": "Video4",
         "type": "bar",
         "uid": "9a51e060-e364-11e8-9d8c-a1b30045967f",
         "x": [
          "Student_1",
          "Student_2",
          "Student_3",
          "Student_4",
          "Student_5",
          "Student_6",
          "Student_7",
          "Student_8",
          "Student_9",
          "Student_10",
          "Student_11",
          "Student_12",
          "Student_13",
          "Student_14",
          "Student_15",
          "Student_16",
          "Student_17",
          "Student_18",
          "Student_19",
          "Student_20"
         ],
         "y": [
          722,
          0,
          319,
          0,
          748,
          605,
          0,
          112,
          313,
          240,
          0,
          0,
          390,
          102,
          63,
          526,
          311,
          443,
          33,
          0
         ]
        },
        {
         "name": "Video5",
         "type": "bar",
         "uid": "9a51e0ec-e364-11e8-9d8c-a1b30045967f",
         "x": [
          "Student_1",
          "Student_2",
          "Student_3",
          "Student_4",
          "Student_5",
          "Student_6",
          "Student_7",
          "Student_8",
          "Student_9",
          "Student_10",
          "Student_11",
          "Student_12",
          "Student_13",
          "Student_14",
          "Student_15",
          "Student_16",
          "Student_17",
          "Student_18",
          "Student_19",
          "Student_20"
         ],
         "y": [
          203,
          312,
          0,
          0,
          0,
          439,
          426,
          304,
          194,
          375,
          0,
          368,
          300,
          525,
          836,
          567,
          761,
          77,
          52,
          148
         ]
        }
       ],
       "layout": {
        "barmode": "stack",
        "title": "Número de acessos aos vídeos agrupados por estudante",
        "yaxis": {
         "dtick": 300,
         "exponentformat": "e",
         "gridcolor": "#bdbdbd",
         "showexponent": "all",
         "showticklabels": true,
         "tick0": 0,
         "titlefont": {
          "color": "lightgrey",
          "family": "Arial, sans-serif"
         }
        }
       }
      },
      "text/html": [
       "<div id=\"ce989a6a-419c-4bd8-9fd5-feebd5d64425\" style=\"height: 525px; width: 100%;\" class=\"plotly-graph-div\"></div><script type=\"text/javascript\">require([\"plotly\"], function(Plotly) { window.PLOTLYENV=window.PLOTLYENV || {};window.PLOTLYENV.BASE_URL=\"https://plot.ly\";Plotly.newPlot(\"ce989a6a-419c-4bd8-9fd5-feebd5d64425\", [{\"name\": \"Video1\", \"x\": [\"Student_1\", \"Student_2\", \"Student_3\", \"Student_4\", \"Student_5\", \"Student_6\", \"Student_7\", \"Student_8\", \"Student_9\", \"Student_10\", \"Student_11\", \"Student_12\", \"Student_13\", \"Student_14\", \"Student_15\", \"Student_16\", \"Student_17\", \"Student_18\", \"Student_19\", \"Student_20\"], \"y\": [406, 185, 42, 18, 0, 505, 0, 144, 259, 247, 358, 0, 0, 165, 354, 95, 0, 291, 184, 52], \"type\": \"bar\", \"uid\": \"9a51dd0e-e364-11e8-9d8c-a1b30045967f\"}, {\"name\": \"Video2\", \"x\": [\"Student_1\", \"Student_2\", \"Student_3\", \"Student_4\", \"Student_5\", \"Student_6\", \"Student_7\", \"Student_8\", \"Student_9\", \"Student_10\", \"Student_11\", \"Student_12\", \"Student_13\", \"Student_14\", \"Student_15\", \"Student_16\", \"Student_17\", \"Student_18\", \"Student_19\", \"Student_20\"], \"y\": [492, 406, 469, 152, 792, 0, 0, 86, 533, 665, 552, 663, 329, 0, 553, 779, 260, 719, 0, 707], \"type\": \"bar\", \"uid\": \"9a51def8-e364-11e8-9d8c-a1b30045967f\"}, {\"name\": \"Video3\", \"x\": [\"Student_1\", \"Student_2\", \"Student_3\", \"Student_4\", \"Student_5\", \"Student_6\", \"Student_7\", \"Student_8\", \"Student_9\", \"Student_10\", \"Student_11\", \"Student_12\", \"Student_13\", \"Student_14\", \"Student_15\", \"Student_16\", \"Student_17\", \"Student_18\", \"Student_19\", \"Student_20\"], \"y\": [810, 370, 242, 805, 953, 0, 898, 671, 408, 0, 1822, 541, 641, 1071, 391, 342, 1327, 825, 0, 520], \"type\": \"bar\", \"uid\": \"9a51dfc0-e364-11e8-9d8c-a1b30045967f\"}, {\"name\": \"Video4\", \"x\": [\"Student_1\", \"Student_2\", \"Student_3\", \"Student_4\", \"Student_5\", \"Student_6\", \"Student_7\", \"Student_8\", \"Student_9\", \"Student_10\", \"Student_11\", \"Student_12\", \"Student_13\", \"Student_14\", \"Student_15\", \"Student_16\", \"Student_17\", \"Student_18\", \"Student_19\", \"Student_20\"], \"y\": [722, 0, 319, 0, 748, 605, 0, 112, 313, 240, 0, 0, 390, 102, 63, 526, 311, 443, 33, 0], \"type\": \"bar\", \"uid\": \"9a51e060-e364-11e8-9d8c-a1b30045967f\"}, {\"name\": \"Video5\", \"x\": [\"Student_1\", \"Student_2\", \"Student_3\", \"Student_4\", \"Student_5\", \"Student_6\", \"Student_7\", \"Student_8\", \"Student_9\", \"Student_10\", \"Student_11\", \"Student_12\", \"Student_13\", \"Student_14\", \"Student_15\", \"Student_16\", \"Student_17\", \"Student_18\", \"Student_19\", \"Student_20\"], \"y\": [203, 312, 0, 0, 0, 439, 426, 304, 194, 375, 0, 368, 300, 525, 836, 567, 761, 77, 52, 148], \"type\": \"bar\", \"uid\": \"9a51e0ec-e364-11e8-9d8c-a1b30045967f\"}], {\"barmode\": \"stack\", \"title\": \"N\\u00famero de acessos aos v\\u00eddeos agrupados por estudante\", \"yaxis\": {\"dtick\": 300, \"exponentformat\": \"e\", \"gridcolor\": \"#bdbdbd\", \"showexponent\": \"all\", \"showticklabels\": true, \"tick0\": 0, \"titlefont\": {\"color\": \"lightgrey\", \"family\": \"Arial, sans-serif\"}}}, {\"showLink\": true, \"linkText\": \"Export to plot.ly\"})});</script>"
      ],
      "text/vnd.plotly.v1+html": [
       "<div id=\"ce989a6a-419c-4bd8-9fd5-feebd5d64425\" style=\"height: 525px; width: 100%;\" class=\"plotly-graph-div\"></div><script type=\"text/javascript\">require([\"plotly\"], function(Plotly) { window.PLOTLYENV=window.PLOTLYENV || {};window.PLOTLYENV.BASE_URL=\"https://plot.ly\";Plotly.newPlot(\"ce989a6a-419c-4bd8-9fd5-feebd5d64425\", [{\"name\": \"Video1\", \"x\": [\"Student_1\", \"Student_2\", \"Student_3\", \"Student_4\", \"Student_5\", \"Student_6\", \"Student_7\", \"Student_8\", \"Student_9\", \"Student_10\", \"Student_11\", \"Student_12\", \"Student_13\", \"Student_14\", \"Student_15\", \"Student_16\", \"Student_17\", \"Student_18\", \"Student_19\", \"Student_20\"], \"y\": [406, 185, 42, 18, 0, 505, 0, 144, 259, 247, 358, 0, 0, 165, 354, 95, 0, 291, 184, 52], \"type\": \"bar\", \"uid\": \"9a51dd0e-e364-11e8-9d8c-a1b30045967f\"}, {\"name\": \"Video2\", \"x\": [\"Student_1\", \"Student_2\", \"Student_3\", \"Student_4\", \"Student_5\", \"Student_6\", \"Student_7\", \"Student_8\", \"Student_9\", \"Student_10\", \"Student_11\", \"Student_12\", \"Student_13\", \"Student_14\", \"Student_15\", \"Student_16\", \"Student_17\", \"Student_18\", \"Student_19\", \"Student_20\"], \"y\": [492, 406, 469, 152, 792, 0, 0, 86, 533, 665, 552, 663, 329, 0, 553, 779, 260, 719, 0, 707], \"type\": \"bar\", \"uid\": \"9a51def8-e364-11e8-9d8c-a1b30045967f\"}, {\"name\": \"Video3\", \"x\": [\"Student_1\", \"Student_2\", \"Student_3\", \"Student_4\", \"Student_5\", \"Student_6\", \"Student_7\", \"Student_8\", \"Student_9\", \"Student_10\", \"Student_11\", \"Student_12\", \"Student_13\", \"Student_14\", \"Student_15\", \"Student_16\", \"Student_17\", \"Student_18\", \"Student_19\", \"Student_20\"], \"y\": [810, 370, 242, 805, 953, 0, 898, 671, 408, 0, 1822, 541, 641, 1071, 391, 342, 1327, 825, 0, 520], \"type\": \"bar\", \"uid\": \"9a51dfc0-e364-11e8-9d8c-a1b30045967f\"}, {\"name\": \"Video4\", \"x\": [\"Student_1\", \"Student_2\", \"Student_3\", \"Student_4\", \"Student_5\", \"Student_6\", \"Student_7\", \"Student_8\", \"Student_9\", \"Student_10\", \"Student_11\", \"Student_12\", \"Student_13\", \"Student_14\", \"Student_15\", \"Student_16\", \"Student_17\", \"Student_18\", \"Student_19\", \"Student_20\"], \"y\": [722, 0, 319, 0, 748, 605, 0, 112, 313, 240, 0, 0, 390, 102, 63, 526, 311, 443, 33, 0], \"type\": \"bar\", \"uid\": \"9a51e060-e364-11e8-9d8c-a1b30045967f\"}, {\"name\": \"Video5\", \"x\": [\"Student_1\", \"Student_2\", \"Student_3\", \"Student_4\", \"Student_5\", \"Student_6\", \"Student_7\", \"Student_8\", \"Student_9\", \"Student_10\", \"Student_11\", \"Student_12\", \"Student_13\", \"Student_14\", \"Student_15\", \"Student_16\", \"Student_17\", \"Student_18\", \"Student_19\", \"Student_20\"], \"y\": [203, 312, 0, 0, 0, 439, 426, 304, 194, 375, 0, 368, 300, 525, 836, 567, 761, 77, 52, 148], \"type\": \"bar\", \"uid\": \"9a51e0ec-e364-11e8-9d8c-a1b30045967f\"}], {\"barmode\": \"stack\", \"title\": \"N\\u00famero de acessos aos v\\u00eddeos agrupados por estudante\", \"yaxis\": {\"dtick\": 300, \"exponentformat\": \"e\", \"gridcolor\": \"#bdbdbd\", \"showexponent\": \"all\", \"showticklabels\": true, \"tick0\": 0, \"titlefont\": {\"color\": \"lightgrey\", \"family\": \"Arial, sans-serif\"}}}, {\"showLink\": true, \"linkText\": \"Export to plot.ly\"})});</script>"
      ]
     },
     "metadata": {},
     "output_type": "display_data"
    },
    {
     "data": {
      "application/vnd.plotly.v1+json": {
       "data": [
        {
         "name": "Video1",
         "orientation": "h",
         "type": "bar",
         "uid": "9a58ae0e-e364-11e8-9d8c-a1b30045967f",
         "x": [
          406,
          185,
          42,
          18,
          0,
          505,
          0,
          144,
          259,
          247,
          358,
          0,
          0,
          165,
          354,
          95,
          0,
          291,
          184,
          52
         ],
         "y": [
          "Student_1",
          "Student_2",
          "Student_3",
          "Student_4",
          "Student_5",
          "Student_6",
          "Student_7",
          "Student_8",
          "Student_9",
          "Student_10",
          "Student_11",
          "Student_12",
          "Student_13",
          "Student_14",
          "Student_15",
          "Student_16",
          "Student_17",
          "Student_18",
          "Student_19",
          "Student_20"
         ]
        },
        {
         "name": "Video2",
         "orientation": "h",
         "type": "bar",
         "uid": "9a58af8a-e364-11e8-9d8c-a1b30045967f",
         "x": [
          492,
          406,
          469,
          152,
          792,
          0,
          0,
          86,
          533,
          665,
          552,
          663,
          329,
          0,
          553,
          779,
          260,
          719,
          0,
          707
         ],
         "y": [
          "Student_1",
          "Student_2",
          "Student_3",
          "Student_4",
          "Student_5",
          "Student_6",
          "Student_7",
          "Student_8",
          "Student_9",
          "Student_10",
          "Student_11",
          "Student_12",
          "Student_13",
          "Student_14",
          "Student_15",
          "Student_16",
          "Student_17",
          "Student_18",
          "Student_19",
          "Student_20"
         ]
        },
        {
         "name": "Video3",
         "orientation": "h",
         "type": "bar",
         "uid": "9a58b052-e364-11e8-9d8c-a1b30045967f",
         "x": [
          810,
          370,
          242,
          805,
          953,
          0,
          898,
          671,
          408,
          0,
          1822,
          541,
          641,
          1071,
          391,
          342,
          1327,
          825,
          0,
          520
         ],
         "y": [
          "Student_1",
          "Student_2",
          "Student_3",
          "Student_4",
          "Student_5",
          "Student_6",
          "Student_7",
          "Student_8",
          "Student_9",
          "Student_10",
          "Student_11",
          "Student_12",
          "Student_13",
          "Student_14",
          "Student_15",
          "Student_16",
          "Student_17",
          "Student_18",
          "Student_19",
          "Student_20"
         ]
        },
        {
         "name": "Video4",
         "orientation": "h",
         "type": "bar",
         "uid": "9a58b0e8-e364-11e8-9d8c-a1b30045967f",
         "x": [
          722,
          0,
          319,
          0,
          748,
          605,
          0,
          112,
          313,
          240,
          0,
          0,
          390,
          102,
          63,
          526,
          311,
          443,
          33,
          0
         ],
         "y": [
          "Student_1",
          "Student_2",
          "Student_3",
          "Student_4",
          "Student_5",
          "Student_6",
          "Student_7",
          "Student_8",
          "Student_9",
          "Student_10",
          "Student_11",
          "Student_12",
          "Student_13",
          "Student_14",
          "Student_15",
          "Student_16",
          "Student_17",
          "Student_18",
          "Student_19",
          "Student_20"
         ]
        },
        {
         "name": "Video5",
         "orientation": "h",
         "type": "bar",
         "uid": "9a58b16a-e364-11e8-9d8c-a1b30045967f",
         "x": [
          203,
          312,
          0,
          0,
          0,
          439,
          426,
          304,
          194,
          375,
          0,
          368,
          300,
          525,
          836,
          567,
          761,
          77,
          52,
          148
         ],
         "y": [
          "Student_1",
          "Student_2",
          "Student_3",
          "Student_4",
          "Student_5",
          "Student_6",
          "Student_7",
          "Student_8",
          "Student_9",
          "Student_10",
          "Student_11",
          "Student_12",
          "Student_13",
          "Student_14",
          "Student_15",
          "Student_16",
          "Student_17",
          "Student_18",
          "Student_19",
          "Student_20"
         ]
        }
       ],
       "layout": {
        "barmode": "stack",
        "title": "Número de acessos aos vídeos agrupados por estudante",
        "yaxis": {
         "dtick": 1,
         "exponentformat": "e",
         "gridcolor": "#bdbdbd",
         "showexponent": "all",
         "showticklabels": true,
         "tick0": 0,
         "titlefont": {
          "color": "lightgrey",
          "family": "Arial, sans-serif"
         }
        }
       }
      },
      "text/html": [
       "<div id=\"53db79b2-7d50-4cb0-985b-4a4d06f634ed\" style=\"height: 525px; width: 100%;\" class=\"plotly-graph-div\"></div><script type=\"text/javascript\">require([\"plotly\"], function(Plotly) { window.PLOTLYENV=window.PLOTLYENV || {};window.PLOTLYENV.BASE_URL=\"https://plot.ly\";Plotly.newPlot(\"53db79b2-7d50-4cb0-985b-4a4d06f634ed\", [{\"name\": \"Video1\", \"orientation\": \"h\", \"x\": [406, 185, 42, 18, 0, 505, 0, 144, 259, 247, 358, 0, 0, 165, 354, 95, 0, 291, 184, 52], \"y\": [\"Student_1\", \"Student_2\", \"Student_3\", \"Student_4\", \"Student_5\", \"Student_6\", \"Student_7\", \"Student_8\", \"Student_9\", \"Student_10\", \"Student_11\", \"Student_12\", \"Student_13\", \"Student_14\", \"Student_15\", \"Student_16\", \"Student_17\", \"Student_18\", \"Student_19\", \"Student_20\"], \"type\": \"bar\", \"uid\": \"9a58ae0e-e364-11e8-9d8c-a1b30045967f\"}, {\"name\": \"Video2\", \"orientation\": \"h\", \"x\": [492, 406, 469, 152, 792, 0, 0, 86, 533, 665, 552, 663, 329, 0, 553, 779, 260, 719, 0, 707], \"y\": [\"Student_1\", \"Student_2\", \"Student_3\", \"Student_4\", \"Student_5\", \"Student_6\", \"Student_7\", \"Student_8\", \"Student_9\", \"Student_10\", \"Student_11\", \"Student_12\", \"Student_13\", \"Student_14\", \"Student_15\", \"Student_16\", \"Student_17\", \"Student_18\", \"Student_19\", \"Student_20\"], \"type\": \"bar\", \"uid\": \"9a58af8a-e364-11e8-9d8c-a1b30045967f\"}, {\"name\": \"Video3\", \"orientation\": \"h\", \"x\": [810, 370, 242, 805, 953, 0, 898, 671, 408, 0, 1822, 541, 641, 1071, 391, 342, 1327, 825, 0, 520], \"y\": [\"Student_1\", \"Student_2\", \"Student_3\", \"Student_4\", \"Student_5\", \"Student_6\", \"Student_7\", \"Student_8\", \"Student_9\", \"Student_10\", \"Student_11\", \"Student_12\", \"Student_13\", \"Student_14\", \"Student_15\", \"Student_16\", \"Student_17\", \"Student_18\", \"Student_19\", \"Student_20\"], \"type\": \"bar\", \"uid\": \"9a58b052-e364-11e8-9d8c-a1b30045967f\"}, {\"name\": \"Video4\", \"orientation\": \"h\", \"x\": [722, 0, 319, 0, 748, 605, 0, 112, 313, 240, 0, 0, 390, 102, 63, 526, 311, 443, 33, 0], \"y\": [\"Student_1\", \"Student_2\", \"Student_3\", \"Student_4\", \"Student_5\", \"Student_6\", \"Student_7\", \"Student_8\", \"Student_9\", \"Student_10\", \"Student_11\", \"Student_12\", \"Student_13\", \"Student_14\", \"Student_15\", \"Student_16\", \"Student_17\", \"Student_18\", \"Student_19\", \"Student_20\"], \"type\": \"bar\", \"uid\": \"9a58b0e8-e364-11e8-9d8c-a1b30045967f\"}, {\"name\": \"Video5\", \"orientation\": \"h\", \"x\": [203, 312, 0, 0, 0, 439, 426, 304, 194, 375, 0, 368, 300, 525, 836, 567, 761, 77, 52, 148], \"y\": [\"Student_1\", \"Student_2\", \"Student_3\", \"Student_4\", \"Student_5\", \"Student_6\", \"Student_7\", \"Student_8\", \"Student_9\", \"Student_10\", \"Student_11\", \"Student_12\", \"Student_13\", \"Student_14\", \"Student_15\", \"Student_16\", \"Student_17\", \"Student_18\", \"Student_19\", \"Student_20\"], \"type\": \"bar\", \"uid\": \"9a58b16a-e364-11e8-9d8c-a1b30045967f\"}], {\"barmode\": \"stack\", \"title\": \"N\\u00famero de acessos aos v\\u00eddeos agrupados por estudante\", \"yaxis\": {\"dtick\": 1, \"exponentformat\": \"e\", \"gridcolor\": \"#bdbdbd\", \"showexponent\": \"all\", \"showticklabels\": true, \"tick0\": 0, \"titlefont\": {\"color\": \"lightgrey\", \"family\": \"Arial, sans-serif\"}}}, {\"showLink\": true, \"linkText\": \"Export to plot.ly\"})});</script>"
      ],
      "text/vnd.plotly.v1+html": [
       "<div id=\"53db79b2-7d50-4cb0-985b-4a4d06f634ed\" style=\"height: 525px; width: 100%;\" class=\"plotly-graph-div\"></div><script type=\"text/javascript\">require([\"plotly\"], function(Plotly) { window.PLOTLYENV=window.PLOTLYENV || {};window.PLOTLYENV.BASE_URL=\"https://plot.ly\";Plotly.newPlot(\"53db79b2-7d50-4cb0-985b-4a4d06f634ed\", [{\"name\": \"Video1\", \"orientation\": \"h\", \"x\": [406, 185, 42, 18, 0, 505, 0, 144, 259, 247, 358, 0, 0, 165, 354, 95, 0, 291, 184, 52], \"y\": [\"Student_1\", \"Student_2\", \"Student_3\", \"Student_4\", \"Student_5\", \"Student_6\", \"Student_7\", \"Student_8\", \"Student_9\", \"Student_10\", \"Student_11\", \"Student_12\", \"Student_13\", \"Student_14\", \"Student_15\", \"Student_16\", \"Student_17\", \"Student_18\", \"Student_19\", \"Student_20\"], \"type\": \"bar\", \"uid\": \"9a58ae0e-e364-11e8-9d8c-a1b30045967f\"}, {\"name\": \"Video2\", \"orientation\": \"h\", \"x\": [492, 406, 469, 152, 792, 0, 0, 86, 533, 665, 552, 663, 329, 0, 553, 779, 260, 719, 0, 707], \"y\": [\"Student_1\", \"Student_2\", \"Student_3\", \"Student_4\", \"Student_5\", \"Student_6\", \"Student_7\", \"Student_8\", \"Student_9\", \"Student_10\", \"Student_11\", \"Student_12\", \"Student_13\", \"Student_14\", \"Student_15\", \"Student_16\", \"Student_17\", \"Student_18\", \"Student_19\", \"Student_20\"], \"type\": \"bar\", \"uid\": \"9a58af8a-e364-11e8-9d8c-a1b30045967f\"}, {\"name\": \"Video3\", \"orientation\": \"h\", \"x\": [810, 370, 242, 805, 953, 0, 898, 671, 408, 0, 1822, 541, 641, 1071, 391, 342, 1327, 825, 0, 520], \"y\": [\"Student_1\", \"Student_2\", \"Student_3\", \"Student_4\", \"Student_5\", \"Student_6\", \"Student_7\", \"Student_8\", \"Student_9\", \"Student_10\", \"Student_11\", \"Student_12\", \"Student_13\", \"Student_14\", \"Student_15\", \"Student_16\", \"Student_17\", \"Student_18\", \"Student_19\", \"Student_20\"], \"type\": \"bar\", \"uid\": \"9a58b052-e364-11e8-9d8c-a1b30045967f\"}, {\"name\": \"Video4\", \"orientation\": \"h\", \"x\": [722, 0, 319, 0, 748, 605, 0, 112, 313, 240, 0, 0, 390, 102, 63, 526, 311, 443, 33, 0], \"y\": [\"Student_1\", \"Student_2\", \"Student_3\", \"Student_4\", \"Student_5\", \"Student_6\", \"Student_7\", \"Student_8\", \"Student_9\", \"Student_10\", \"Student_11\", \"Student_12\", \"Student_13\", \"Student_14\", \"Student_15\", \"Student_16\", \"Student_17\", \"Student_18\", \"Student_19\", \"Student_20\"], \"type\": \"bar\", \"uid\": \"9a58b0e8-e364-11e8-9d8c-a1b30045967f\"}, {\"name\": \"Video5\", \"orientation\": \"h\", \"x\": [203, 312, 0, 0, 0, 439, 426, 304, 194, 375, 0, 368, 300, 525, 836, 567, 761, 77, 52, 148], \"y\": [\"Student_1\", \"Student_2\", \"Student_3\", \"Student_4\", \"Student_5\", \"Student_6\", \"Student_7\", \"Student_8\", \"Student_9\", \"Student_10\", \"Student_11\", \"Student_12\", \"Student_13\", \"Student_14\", \"Student_15\", \"Student_16\", \"Student_17\", \"Student_18\", \"Student_19\", \"Student_20\"], \"type\": \"bar\", \"uid\": \"9a58b16a-e364-11e8-9d8c-a1b30045967f\"}], {\"barmode\": \"stack\", \"title\": \"N\\u00famero de acessos aos v\\u00eddeos agrupados por estudante\", \"yaxis\": {\"dtick\": 1, \"exponentformat\": \"e\", \"gridcolor\": \"#bdbdbd\", \"showexponent\": \"all\", \"showticklabels\": true, \"tick0\": 0, \"titlefont\": {\"color\": \"lightgrey\", \"family\": \"Arial, sans-serif\"}}}, {\"showLink\": true, \"linkText\": \"Export to plot.ly\"})});</script>"
      ]
     },
     "metadata": {},
     "output_type": "display_data"
    }
   ],
   "source": [
    "run scripts/V004.py"
   ]
  },
  {
   "cell_type": "markdown",
   "metadata": {},
   "source": [
    "### View 005"
   ]
  },
  {
   "cell_type": "code",
   "execution_count": 6,
   "metadata": {
    "scrolled": false
   },
   "outputs": [
    {
     "data": {
      "text/html": [
       "<script>requirejs.config({paths: { 'plotly': ['https://cdn.plot.ly/plotly-latest.min']},});if(!window.Plotly) {{require(['plotly'],function(plotly) {window.Plotly=plotly;});}}</script>"
      ],
      "text/vnd.plotly.v1+html": [
       "<script>requirejs.config({paths: { 'plotly': ['https://cdn.plot.ly/plotly-latest.min']},});if(!window.Plotly) {{require(['plotly'],function(plotly) {window.Plotly=plotly;});}}</script>"
      ]
     },
     "metadata": {},
     "output_type": "display_data"
    },
    {
     "data": {
      "application/vnd.plotly.v1+json": {
       "data": [
        {
         "cells": {
          "align": [
           "left",
           "center"
          ],
          "fill": {
           "color": "#F5F8FF"
          },
          "values": [
           [
            "Student_1",
            "Student_2",
            "Student_3",
            "Student_4",
            "Student_5",
            "Student_6",
            "Student_7",
            "Student_8",
            "Student_9",
            "Student_10",
            "Student_11",
            "Student_12",
            "Student_13",
            "Student_14",
            "Student_15",
            "Student_16",
            "Student_17",
            "Student_18",
            "Student_19",
            "Student_20",
            "Student_21",
            "Student_22",
            "Student_23",
            "Student_24",
            "Student_25",
            "Student_26",
            "Student_27",
            "Student_28",
            "Student_29",
            "Student_30",
            "Student_31",
            "Student_32",
            "Student_33",
            "Student_34",
            "Student_35",
            "Student_36",
            "Student_37",
            "Student_38",
            "Student_39",
            "Student_40",
            "Student_41",
            "Student_42",
            "Student_43",
            "Student_44",
            "Student_45",
            "Student_46",
            "Student_47",
            "Student_48",
            "Student_49",
            "Student_50",
            "Student_51",
            "Student_52",
            "Student_53",
            "Student_54",
            "Student_55",
            "Student_56",
            "Student_57",
            "Student_58",
            "Student_59",
            "Student_60"
           ],
           [
            5,
            92,
            82,
            58,
            77,
            87,
            74,
            14,
            59,
            39,
            94,
            43,
            42,
            67,
            53,
            63,
            69,
            31,
            81,
            46,
            22,
            56,
            63,
            47,
            73,
            33,
            50,
            46,
            76,
            67,
            48,
            22,
            85,
            57,
            65,
            63,
            36,
            51,
            88,
            18,
            94,
            25,
            25,
            70,
            46,
            28,
            68,
            40,
            79,
            37,
            64,
            7,
            64,
            40,
            54,
            26,
            86,
            74,
            70,
            78
           ],
           [
            23,
            92,
            85,
            30,
            51,
            69,
            67,
            20,
            38,
            15,
            88,
            23,
            14,
            50,
            33,
            43,
            40,
            20,
            74,
            9,
            19,
            38,
            53,
            6,
            62,
            13,
            14,
            10,
            61,
            39,
            18,
            11,
            67,
            23,
            37,
            51,
            16,
            22,
            77,
            5,
            88,
            11,
            16,
            46,
            19,
            25,
            36,
            14,
            64,
            5,
            44,
            6,
            54,
            18,
            27,
            22,
            80,
            70,
            44,
            69
           ],
           [
            7,
            114,
            63,
            7,
            59,
            64,
            58,
            5,
            18,
            2,
            72,
            11,
            12,
            11,
            13,
            22,
            25,
            7,
            69,
            6,
            7,
            19,
            40,
            4,
            33,
            11,
            11,
            11,
            38,
            35,
            2,
            6,
            64,
            23,
            33,
            33,
            4,
            23,
            73,
            7,
            69,
            9,
            11,
            20,
            5,
            8,
            36,
            7,
            28,
            7,
            23,
            3,
            47,
            5,
            18,
            3,
            39,
            68,
            19,
            43
           ],
           [
            1,
            40,
            14,
            1,
            19,
            30,
            17,
            2,
            3,
            0,
            32,
            1,
            2,
            4,
            4,
            8,
            7,
            1,
            31,
            1,
            3,
            6,
            5,
            0,
            8,
            2,
            2,
            2,
            13,
            11,
            0,
            1,
            15,
            3,
            10,
            11,
            1,
            5,
            24,
            2,
            16,
            0,
            2,
            11,
            0,
            1,
            1,
            0,
            9,
            0,
            3,
            2,
            11,
            2,
            2,
            0,
            14,
            18,
            6,
            6
           ],
           [
            2,
            29,
            10,
            4,
            20,
            15,
            20,
            0,
            5,
            2,
            24,
            1,
            1,
            3,
            2,
            7,
            3,
            1,
            16,
            2,
            1,
            2,
            7,
            0,
            12,
            2,
            3,
            2,
            15,
            2,
            2,
            2,
            18,
            4,
            1,
            9,
            0,
            6,
            15,
            1,
            23,
            1,
            2,
            0,
            1,
            1,
            7,
            0,
            8,
            2,
            7,
            0,
            8,
            2,
            7,
            0,
            9,
            20,
            3,
            14
           ],
           [
            3,
            6,
            9,
            2,
            2,
            1,
            1,
            1,
            2,
            0,
            3,
            3,
            3,
            1,
            0,
            3,
            1,
            1,
            3,
            0,
            1,
            1,
            7,
            3,
            0,
            3,
            1,
            2,
            6,
            7,
            0,
            2,
            4,
            2,
            6,
            1,
            2,
            2,
            8,
            3,
            8,
            3,
            1,
            2,
            2,
            1,
            3,
            1,
            0,
            1,
            7,
            1,
            7,
            0,
            3,
            3,
            2,
            0,
            3,
            0
           ],
           [
            0,
            1,
            1,
            1,
            1,
            1,
            1,
            0,
            1,
            0,
            1,
            0,
            0,
            1,
            1,
            1,
            1,
            0,
            1,
            0,
            0,
            1,
            1,
            0,
            1,
            0,
            0,
            0,
            1,
            1,
            0,
            0,
            1,
            1,
            1,
            1,
            0,
            1,
            1,
            0,
            1,
            0,
            0,
            1,
            0,
            0,
            1,
            0,
            1,
            0,
            1,
            0,
            1,
            0,
            1,
            0,
            1,
            1,
            1,
            1
           ],
           [
            0,
            1,
            1,
            0,
            0,
            1,
            1,
            0,
            0,
            0,
            1,
            0,
            0,
            1,
            1,
            1,
            1,
            0,
            1,
            0,
            0,
            0,
            1,
            0,
            1,
            0,
            0,
            0,
            1,
            0,
            0,
            0,
            1,
            0,
            0,
            1,
            0,
            1,
            1,
            0,
            1,
            0,
            0,
            0,
            0,
            0,
            1,
            0,
            1,
            0,
            0,
            0,
            1,
            0,
            1,
            0,
            1,
            1,
            0,
            1
           ],
           [
            0,
            1,
            1,
            1,
            0,
            1,
            1,
            0,
            0,
            0,
            1,
            0,
            0,
            0,
            1,
            1,
            0,
            0,
            0,
            0,
            0,
            1,
            0,
            0,
            0,
            0,
            0,
            0,
            1,
            1,
            0,
            0,
            1,
            1,
            1,
            1,
            0,
            1,
            0,
            0,
            1,
            0,
            0,
            0,
            0,
            0,
            1,
            0,
            1,
            0,
            0,
            0,
            0,
            0,
            1,
            0,
            1,
            1,
            1,
            1
           ],
           [
            0,
            1,
            1,
            0,
            1,
            1,
            1,
            0,
            1,
            0,
            1,
            0,
            0,
            1,
            1,
            1,
            1,
            0,
            1,
            0,
            0,
            0,
            1,
            0,
            1,
            0,
            0,
            0,
            1,
            1,
            0,
            0,
            1,
            0,
            1,
            1,
            0,
            0,
            1,
            0,
            1,
            0,
            0,
            1,
            0,
            0,
            1,
            0,
            1,
            0,
            1,
            0,
            1,
            0,
            1,
            0,
            1,
            1,
            1,
            1
           ],
           [
            0,
            10,
            5,
            1,
            2,
            6,
            7,
            0,
            1,
            0,
            5,
            0,
            0,
            0,
            1,
            4,
            5,
            1,
            4,
            0,
            0,
            0,
            2,
            0,
            10,
            0,
            0,
            0,
            7,
            3,
            1,
            1,
            3,
            2,
            3,
            2,
            1,
            2,
            2,
            1,
            11,
            1,
            1,
            3,
            0,
            1,
            3,
            1,
            5,
            1,
            2,
            1,
            5,
            0,
            4,
            0,
            2,
            10,
            4,
            0
           ],
           [
            0,
            6,
            6,
            4,
            10,
            12,
            6,
            1,
            1,
            0,
            11,
            1,
            1,
            5,
            3,
            1,
            4,
            1,
            3,
            1,
            0,
            2,
            3,
            0,
            9,
            1,
            1,
            0,
            2,
            2,
            0,
            0,
            4,
            4,
            4,
            5,
            1,
            3,
            11,
            0,
            9,
            0,
            1,
            1,
            0,
            0,
            5,
            1,
            9,
            0,
            3,
            0,
            4,
            0,
            0,
            0,
            6,
            5,
            0,
            6
           ],
           [
            1,
            5,
            1,
            2,
            0,
            1,
            7,
            0,
            0,
            1,
            5,
            1,
            0,
            0,
            3,
            0,
            5,
            0,
            4,
            0,
            0,
            2,
            4,
            0,
            5,
            1,
            1,
            0,
            5,
            3,
            0,
            0,
            5,
            1,
            5,
            2,
            1,
            1,
            4,
            0,
            4,
            0,
            1,
            3,
            1,
            1,
            3,
            0,
            0,
            1,
            5,
            1,
            2,
            0,
            3,
            0,
            1,
            2,
            4,
            6
           ],
           [
            1,
            12,
            12,
            4,
            3,
            7,
            7,
            0,
            0,
            0,
            12,
            1,
            0,
            5,
            2,
            1,
            3,
            1,
            3,
            0,
            1,
            3,
            3,
            1,
            6,
            1,
            1,
            0,
            9,
            0,
            0,
            1,
            4,
            2,
            5,
            5,
            0,
            0,
            6,
            1,
            5,
            1,
            1,
            0,
            0,
            0,
            5,
            0,
            9,
            0,
            4,
            1,
            2,
            0,
            4,
            1,
            6,
            5,
            0,
            9
           ],
           [
            0,
            11,
            4,
            3,
            4,
            3,
            4,
            1,
            1,
            0,
            8,
            1,
            0,
            4,
            1,
            3,
            1,
            1,
            9,
            1,
            0,
            1,
            2,
            1,
            9,
            0,
            0,
            1,
            5,
            4,
            0,
            1,
            7,
            1,
            5,
            5,
            1,
            1,
            7,
            0,
            12,
            1,
            1,
            3,
            0,
            0,
            1,
            0,
            5,
            1,
            3,
            1,
            1,
            1,
            4,
            0,
            9,
            10,
            3,
            0
           ],
           [
            0,
            5,
            12,
            2,
            9,
            7,
            1,
            1,
            2,
            0,
            12,
            0,
            0,
            3,
            1,
            3,
            1,
            0,
            4,
            1,
            0,
            4,
            0,
            1,
            2,
            1,
            1,
            0,
            3,
            3,
            1,
            0,
            4,
            0,
            2,
            4,
            1,
            1,
            13,
            1,
            14,
            1,
            0,
            2,
            0,
            0,
            5,
            0,
            3,
            1,
            5,
            1,
            1,
            1,
            2,
            0,
            6,
            2,
            3,
            4
           ],
           [
            1,
            8,
            2,
            4,
            6,
            7,
            2,
            1,
            0,
            1,
            10,
            1,
            1,
            4,
            2,
            3,
            0,
            0,
            7,
            1,
            0,
            2,
            1,
            1,
            5,
            0,
            0,
            0,
            2,
            0,
            1,
            1,
            3,
            1,
            5,
            0,
            0,
            4,
            1,
            1,
            9,
            1,
            0,
            3,
            0,
            1,
            3,
            1,
            1,
            1,
            4,
            1,
            1,
            0,
            4,
            1,
            1,
            2,
            3,
            4
           ],
           [
            1,
            6,
            10,
            0,
            8,
            5,
            1,
            1,
            4,
            0,
            8,
            1,
            0,
            3,
            1,
            2,
            4,
            1,
            3,
            0,
            1,
            4,
            2,
            1,
            1,
            0,
            0,
            0,
            5,
            2,
            1,
            0,
            10,
            0,
            4,
            3,
            0,
            3,
            6,
            1,
            12,
            1,
            1,
            3,
            1,
            0,
            5,
            0,
            6,
            0,
            5,
            0,
            2,
            1,
            2,
            0,
            10,
            4,
            5,
            5
           ]
          ]
         },
         "header": {
          "align": "center",
          "fill": {
           "color": "#C2D4FF"
          },
          "values": [
           "Students",
           "Grade",
           "Access",
           "Forum Access",
           "Forum Post",
           "Forum Replies",
           "Forum Add Thread",
           "Assign1",
           "Assign2",
           "Assign3",
           "Assign4",
           "Video1",
           "Video2",
           "Quiz1",
           "Quiz2",
           "Pdf1",
           "Pdf2",
           "Ebook1",
           "Ebook2"
          ]
         },
         "type": "table",
         "uid": "424b1f46-e411-11e8-a1d0-d7b4c6107baf"
        }
       ],
       "layout": {}
      },
      "text/html": [
       "<div id=\"f4d0abac-50ed-49ea-9581-71083ee91ec8\" style=\"height: 525px; width: 100%;\" class=\"plotly-graph-div\"></div><script type=\"text/javascript\">require([\"plotly\"], function(Plotly) { window.PLOTLYENV=window.PLOTLYENV || {};window.PLOTLYENV.BASE_URL=\"https://plot.ly\";Plotly.newPlot(\"f4d0abac-50ed-49ea-9581-71083ee91ec8\", [{\"cells\": {\"align\": [\"left\", \"center\"], \"fill\": {\"color\": \"#F5F8FF\"}, \"values\": [[\"Student_1\", \"Student_2\", \"Student_3\", \"Student_4\", \"Student_5\", \"Student_6\", \"Student_7\", \"Student_8\", \"Student_9\", \"Student_10\", \"Student_11\", \"Student_12\", \"Student_13\", \"Student_14\", \"Student_15\", \"Student_16\", \"Student_17\", \"Student_18\", \"Student_19\", \"Student_20\", \"Student_21\", \"Student_22\", \"Student_23\", \"Student_24\", \"Student_25\", \"Student_26\", \"Student_27\", \"Student_28\", \"Student_29\", \"Student_30\", \"Student_31\", \"Student_32\", \"Student_33\", \"Student_34\", \"Student_35\", \"Student_36\", \"Student_37\", \"Student_38\", \"Student_39\", \"Student_40\", \"Student_41\", \"Student_42\", \"Student_43\", \"Student_44\", \"Student_45\", \"Student_46\", \"Student_47\", \"Student_48\", \"Student_49\", \"Student_50\", \"Student_51\", \"Student_52\", \"Student_53\", \"Student_54\", \"Student_55\", \"Student_56\", \"Student_57\", \"Student_58\", \"Student_59\", \"Student_60\"], [5, 92, 82, 58, 77, 87, 74, 14, 59, 39, 94, 43, 42, 67, 53, 63, 69, 31, 81, 46, 22, 56, 63, 47, 73, 33, 50, 46, 76, 67, 48, 22, 85, 57, 65, 63, 36, 51, 88, 18, 94, 25, 25, 70, 46, 28, 68, 40, 79, 37, 64, 7, 64, 40, 54, 26, 86, 74, 70, 78], [23, 92, 85, 30, 51, 69, 67, 20, 38, 15, 88, 23, 14, 50, 33, 43, 40, 20, 74, 9, 19, 38, 53, 6, 62, 13, 14, 10, 61, 39, 18, 11, 67, 23, 37, 51, 16, 22, 77, 5, 88, 11, 16, 46, 19, 25, 36, 14, 64, 5, 44, 6, 54, 18, 27, 22, 80, 70, 44, 69], [7, 114, 63, 7, 59, 64, 58, 5, 18, 2, 72, 11, 12, 11, 13, 22, 25, 7, 69, 6, 7, 19, 40, 4, 33, 11, 11, 11, 38, 35, 2, 6, 64, 23, 33, 33, 4, 23, 73, 7, 69, 9, 11, 20, 5, 8, 36, 7, 28, 7, 23, 3, 47, 5, 18, 3, 39, 68, 19, 43], [1, 40, 14, 1, 19, 30, 17, 2, 3, 0, 32, 1, 2, 4, 4, 8, 7, 1, 31, 1, 3, 6, 5, 0, 8, 2, 2, 2, 13, 11, 0, 1, 15, 3, 10, 11, 1, 5, 24, 2, 16, 0, 2, 11, 0, 1, 1, 0, 9, 0, 3, 2, 11, 2, 2, 0, 14, 18, 6, 6], [2, 29, 10, 4, 20, 15, 20, 0, 5, 2, 24, 1, 1, 3, 2, 7, 3, 1, 16, 2, 1, 2, 7, 0, 12, 2, 3, 2, 15, 2, 2, 2, 18, 4, 1, 9, 0, 6, 15, 1, 23, 1, 2, 0, 1, 1, 7, 0, 8, 2, 7, 0, 8, 2, 7, 0, 9, 20, 3, 14], [3, 6, 9, 2, 2, 1, 1, 1, 2, 0, 3, 3, 3, 1, 0, 3, 1, 1, 3, 0, 1, 1, 7, 3, 0, 3, 1, 2, 6, 7, 0, 2, 4, 2, 6, 1, 2, 2, 8, 3, 8, 3, 1, 2, 2, 1, 3, 1, 0, 1, 7, 1, 7, 0, 3, 3, 2, 0, 3, 0], [0, 1, 1, 1, 1, 1, 1, 0, 1, 0, 1, 0, 0, 1, 1, 1, 1, 0, 1, 0, 0, 1, 1, 0, 1, 0, 0, 0, 1, 1, 0, 0, 1, 1, 1, 1, 0, 1, 1, 0, 1, 0, 0, 1, 0, 0, 1, 0, 1, 0, 1, 0, 1, 0, 1, 0, 1, 1, 1, 1], [0, 1, 1, 0, 0, 1, 1, 0, 0, 0, 1, 0, 0, 1, 1, 1, 1, 0, 1, 0, 0, 0, 1, 0, 1, 0, 0, 0, 1, 0, 0, 0, 1, 0, 0, 1, 0, 1, 1, 0, 1, 0, 0, 0, 0, 0, 1, 0, 1, 0, 0, 0, 1, 0, 1, 0, 1, 1, 0, 1], [0, 1, 1, 1, 0, 1, 1, 0, 0, 0, 1, 0, 0, 0, 1, 1, 0, 0, 0, 0, 0, 1, 0, 0, 0, 0, 0, 0, 1, 1, 0, 0, 1, 1, 1, 1, 0, 1, 0, 0, 1, 0, 0, 0, 0, 0, 1, 0, 1, 0, 0, 0, 0, 0, 1, 0, 1, 1, 1, 1], [0, 1, 1, 0, 1, 1, 1, 0, 1, 0, 1, 0, 0, 1, 1, 1, 1, 0, 1, 0, 0, 0, 1, 0, 1, 0, 0, 0, 1, 1, 0, 0, 1, 0, 1, 1, 0, 0, 1, 0, 1, 0, 0, 1, 0, 0, 1, 0, 1, 0, 1, 0, 1, 0, 1, 0, 1, 1, 1, 1], [0, 10, 5, 1, 2, 6, 7, 0, 1, 0, 5, 0, 0, 0, 1, 4, 5, 1, 4, 0, 0, 0, 2, 0, 10, 0, 0, 0, 7, 3, 1, 1, 3, 2, 3, 2, 1, 2, 2, 1, 11, 1, 1, 3, 0, 1, 3, 1, 5, 1, 2, 1, 5, 0, 4, 0, 2, 10, 4, 0], [0, 6, 6, 4, 10, 12, 6, 1, 1, 0, 11, 1, 1, 5, 3, 1, 4, 1, 3, 1, 0, 2, 3, 0, 9, 1, 1, 0, 2, 2, 0, 0, 4, 4, 4, 5, 1, 3, 11, 0, 9, 0, 1, 1, 0, 0, 5, 1, 9, 0, 3, 0, 4, 0, 0, 0, 6, 5, 0, 6], [1, 5, 1, 2, 0, 1, 7, 0, 0, 1, 5, 1, 0, 0, 3, 0, 5, 0, 4, 0, 0, 2, 4, 0, 5, 1, 1, 0, 5, 3, 0, 0, 5, 1, 5, 2, 1, 1, 4, 0, 4, 0, 1, 3, 1, 1, 3, 0, 0, 1, 5, 1, 2, 0, 3, 0, 1, 2, 4, 6], [1, 12, 12, 4, 3, 7, 7, 0, 0, 0, 12, 1, 0, 5, 2, 1, 3, 1, 3, 0, 1, 3, 3, 1, 6, 1, 1, 0, 9, 0, 0, 1, 4, 2, 5, 5, 0, 0, 6, 1, 5, 1, 1, 0, 0, 0, 5, 0, 9, 0, 4, 1, 2, 0, 4, 1, 6, 5, 0, 9], [0, 11, 4, 3, 4, 3, 4, 1, 1, 0, 8, 1, 0, 4, 1, 3, 1, 1, 9, 1, 0, 1, 2, 1, 9, 0, 0, 1, 5, 4, 0, 1, 7, 1, 5, 5, 1, 1, 7, 0, 12, 1, 1, 3, 0, 0, 1, 0, 5, 1, 3, 1, 1, 1, 4, 0, 9, 10, 3, 0], [0, 5, 12, 2, 9, 7, 1, 1, 2, 0, 12, 0, 0, 3, 1, 3, 1, 0, 4, 1, 0, 4, 0, 1, 2, 1, 1, 0, 3, 3, 1, 0, 4, 0, 2, 4, 1, 1, 13, 1, 14, 1, 0, 2, 0, 0, 5, 0, 3, 1, 5, 1, 1, 1, 2, 0, 6, 2, 3, 4], [1, 8, 2, 4, 6, 7, 2, 1, 0, 1, 10, 1, 1, 4, 2, 3, 0, 0, 7, 1, 0, 2, 1, 1, 5, 0, 0, 0, 2, 0, 1, 1, 3, 1, 5, 0, 0, 4, 1, 1, 9, 1, 0, 3, 0, 1, 3, 1, 1, 1, 4, 1, 1, 0, 4, 1, 1, 2, 3, 4], [1, 6, 10, 0, 8, 5, 1, 1, 4, 0, 8, 1, 0, 3, 1, 2, 4, 1, 3, 0, 1, 4, 2, 1, 1, 0, 0, 0, 5, 2, 1, 0, 10, 0, 4, 3, 0, 3, 6, 1, 12, 1, 1, 3, 1, 0, 5, 0, 6, 0, 5, 0, 2, 1, 2, 0, 10, 4, 5, 5]]}, \"header\": {\"align\": \"center\", \"fill\": {\"color\": \"#C2D4FF\"}, \"values\": [\"Students\", \"Grade\", \"Access\", \"Forum Access\", \"Forum Post\", \"Forum Replies\", \"Forum Add Thread\", \"Assign1\", \"Assign2\", \"Assign3\", \"Assign4\", \"Video1\", \"Video2\", \"Quiz1\", \"Quiz2\", \"Pdf1\", \"Pdf2\", \"Ebook1\", \"Ebook2\"]}, \"type\": \"table\", \"uid\": \"424d18f0-e411-11e8-a1d0-d7b4c6107baf\"}], {}, {\"showLink\": true, \"linkText\": \"Export to plot.ly\"})});</script>"
      ],
      "text/vnd.plotly.v1+html": [
       "<div id=\"f4d0abac-50ed-49ea-9581-71083ee91ec8\" style=\"height: 525px; width: 100%;\" class=\"plotly-graph-div\"></div><script type=\"text/javascript\">require([\"plotly\"], function(Plotly) { window.PLOTLYENV=window.PLOTLYENV || {};window.PLOTLYENV.BASE_URL=\"https://plot.ly\";Plotly.newPlot(\"f4d0abac-50ed-49ea-9581-71083ee91ec8\", [{\"cells\": {\"align\": [\"left\", \"center\"], \"fill\": {\"color\": \"#F5F8FF\"}, \"values\": [[\"Student_1\", \"Student_2\", \"Student_3\", \"Student_4\", \"Student_5\", \"Student_6\", \"Student_7\", \"Student_8\", \"Student_9\", \"Student_10\", \"Student_11\", \"Student_12\", \"Student_13\", \"Student_14\", \"Student_15\", \"Student_16\", \"Student_17\", \"Student_18\", \"Student_19\", \"Student_20\", \"Student_21\", \"Student_22\", \"Student_23\", \"Student_24\", \"Student_25\", \"Student_26\", \"Student_27\", \"Student_28\", \"Student_29\", \"Student_30\", \"Student_31\", \"Student_32\", \"Student_33\", \"Student_34\", \"Student_35\", \"Student_36\", \"Student_37\", \"Student_38\", \"Student_39\", \"Student_40\", \"Student_41\", \"Student_42\", \"Student_43\", \"Student_44\", \"Student_45\", \"Student_46\", \"Student_47\", \"Student_48\", \"Student_49\", \"Student_50\", \"Student_51\", \"Student_52\", \"Student_53\", \"Student_54\", \"Student_55\", \"Student_56\", \"Student_57\", \"Student_58\", \"Student_59\", \"Student_60\"], [5, 92, 82, 58, 77, 87, 74, 14, 59, 39, 94, 43, 42, 67, 53, 63, 69, 31, 81, 46, 22, 56, 63, 47, 73, 33, 50, 46, 76, 67, 48, 22, 85, 57, 65, 63, 36, 51, 88, 18, 94, 25, 25, 70, 46, 28, 68, 40, 79, 37, 64, 7, 64, 40, 54, 26, 86, 74, 70, 78], [23, 92, 85, 30, 51, 69, 67, 20, 38, 15, 88, 23, 14, 50, 33, 43, 40, 20, 74, 9, 19, 38, 53, 6, 62, 13, 14, 10, 61, 39, 18, 11, 67, 23, 37, 51, 16, 22, 77, 5, 88, 11, 16, 46, 19, 25, 36, 14, 64, 5, 44, 6, 54, 18, 27, 22, 80, 70, 44, 69], [7, 114, 63, 7, 59, 64, 58, 5, 18, 2, 72, 11, 12, 11, 13, 22, 25, 7, 69, 6, 7, 19, 40, 4, 33, 11, 11, 11, 38, 35, 2, 6, 64, 23, 33, 33, 4, 23, 73, 7, 69, 9, 11, 20, 5, 8, 36, 7, 28, 7, 23, 3, 47, 5, 18, 3, 39, 68, 19, 43], [1, 40, 14, 1, 19, 30, 17, 2, 3, 0, 32, 1, 2, 4, 4, 8, 7, 1, 31, 1, 3, 6, 5, 0, 8, 2, 2, 2, 13, 11, 0, 1, 15, 3, 10, 11, 1, 5, 24, 2, 16, 0, 2, 11, 0, 1, 1, 0, 9, 0, 3, 2, 11, 2, 2, 0, 14, 18, 6, 6], [2, 29, 10, 4, 20, 15, 20, 0, 5, 2, 24, 1, 1, 3, 2, 7, 3, 1, 16, 2, 1, 2, 7, 0, 12, 2, 3, 2, 15, 2, 2, 2, 18, 4, 1, 9, 0, 6, 15, 1, 23, 1, 2, 0, 1, 1, 7, 0, 8, 2, 7, 0, 8, 2, 7, 0, 9, 20, 3, 14], [3, 6, 9, 2, 2, 1, 1, 1, 2, 0, 3, 3, 3, 1, 0, 3, 1, 1, 3, 0, 1, 1, 7, 3, 0, 3, 1, 2, 6, 7, 0, 2, 4, 2, 6, 1, 2, 2, 8, 3, 8, 3, 1, 2, 2, 1, 3, 1, 0, 1, 7, 1, 7, 0, 3, 3, 2, 0, 3, 0], [0, 1, 1, 1, 1, 1, 1, 0, 1, 0, 1, 0, 0, 1, 1, 1, 1, 0, 1, 0, 0, 1, 1, 0, 1, 0, 0, 0, 1, 1, 0, 0, 1, 1, 1, 1, 0, 1, 1, 0, 1, 0, 0, 1, 0, 0, 1, 0, 1, 0, 1, 0, 1, 0, 1, 0, 1, 1, 1, 1], [0, 1, 1, 0, 0, 1, 1, 0, 0, 0, 1, 0, 0, 1, 1, 1, 1, 0, 1, 0, 0, 0, 1, 0, 1, 0, 0, 0, 1, 0, 0, 0, 1, 0, 0, 1, 0, 1, 1, 0, 1, 0, 0, 0, 0, 0, 1, 0, 1, 0, 0, 0, 1, 0, 1, 0, 1, 1, 0, 1], [0, 1, 1, 1, 0, 1, 1, 0, 0, 0, 1, 0, 0, 0, 1, 1, 0, 0, 0, 0, 0, 1, 0, 0, 0, 0, 0, 0, 1, 1, 0, 0, 1, 1, 1, 1, 0, 1, 0, 0, 1, 0, 0, 0, 0, 0, 1, 0, 1, 0, 0, 0, 0, 0, 1, 0, 1, 1, 1, 1], [0, 1, 1, 0, 1, 1, 1, 0, 1, 0, 1, 0, 0, 1, 1, 1, 1, 0, 1, 0, 0, 0, 1, 0, 1, 0, 0, 0, 1, 1, 0, 0, 1, 0, 1, 1, 0, 0, 1, 0, 1, 0, 0, 1, 0, 0, 1, 0, 1, 0, 1, 0, 1, 0, 1, 0, 1, 1, 1, 1], [0, 10, 5, 1, 2, 6, 7, 0, 1, 0, 5, 0, 0, 0, 1, 4, 5, 1, 4, 0, 0, 0, 2, 0, 10, 0, 0, 0, 7, 3, 1, 1, 3, 2, 3, 2, 1, 2, 2, 1, 11, 1, 1, 3, 0, 1, 3, 1, 5, 1, 2, 1, 5, 0, 4, 0, 2, 10, 4, 0], [0, 6, 6, 4, 10, 12, 6, 1, 1, 0, 11, 1, 1, 5, 3, 1, 4, 1, 3, 1, 0, 2, 3, 0, 9, 1, 1, 0, 2, 2, 0, 0, 4, 4, 4, 5, 1, 3, 11, 0, 9, 0, 1, 1, 0, 0, 5, 1, 9, 0, 3, 0, 4, 0, 0, 0, 6, 5, 0, 6], [1, 5, 1, 2, 0, 1, 7, 0, 0, 1, 5, 1, 0, 0, 3, 0, 5, 0, 4, 0, 0, 2, 4, 0, 5, 1, 1, 0, 5, 3, 0, 0, 5, 1, 5, 2, 1, 1, 4, 0, 4, 0, 1, 3, 1, 1, 3, 0, 0, 1, 5, 1, 2, 0, 3, 0, 1, 2, 4, 6], [1, 12, 12, 4, 3, 7, 7, 0, 0, 0, 12, 1, 0, 5, 2, 1, 3, 1, 3, 0, 1, 3, 3, 1, 6, 1, 1, 0, 9, 0, 0, 1, 4, 2, 5, 5, 0, 0, 6, 1, 5, 1, 1, 0, 0, 0, 5, 0, 9, 0, 4, 1, 2, 0, 4, 1, 6, 5, 0, 9], [0, 11, 4, 3, 4, 3, 4, 1, 1, 0, 8, 1, 0, 4, 1, 3, 1, 1, 9, 1, 0, 1, 2, 1, 9, 0, 0, 1, 5, 4, 0, 1, 7, 1, 5, 5, 1, 1, 7, 0, 12, 1, 1, 3, 0, 0, 1, 0, 5, 1, 3, 1, 1, 1, 4, 0, 9, 10, 3, 0], [0, 5, 12, 2, 9, 7, 1, 1, 2, 0, 12, 0, 0, 3, 1, 3, 1, 0, 4, 1, 0, 4, 0, 1, 2, 1, 1, 0, 3, 3, 1, 0, 4, 0, 2, 4, 1, 1, 13, 1, 14, 1, 0, 2, 0, 0, 5, 0, 3, 1, 5, 1, 1, 1, 2, 0, 6, 2, 3, 4], [1, 8, 2, 4, 6, 7, 2, 1, 0, 1, 10, 1, 1, 4, 2, 3, 0, 0, 7, 1, 0, 2, 1, 1, 5, 0, 0, 0, 2, 0, 1, 1, 3, 1, 5, 0, 0, 4, 1, 1, 9, 1, 0, 3, 0, 1, 3, 1, 1, 1, 4, 1, 1, 0, 4, 1, 1, 2, 3, 4], [1, 6, 10, 0, 8, 5, 1, 1, 4, 0, 8, 1, 0, 3, 1, 2, 4, 1, 3, 0, 1, 4, 2, 1, 1, 0, 0, 0, 5, 2, 1, 0, 10, 0, 4, 3, 0, 3, 6, 1, 12, 1, 1, 3, 1, 0, 5, 0, 6, 0, 5, 0, 2, 1, 2, 0, 10, 4, 5, 5]]}, \"header\": {\"align\": \"center\", \"fill\": {\"color\": \"#C2D4FF\"}, \"values\": [\"Students\", \"Grade\", \"Access\", \"Forum Access\", \"Forum Post\", \"Forum Replies\", \"Forum Add Thread\", \"Assign1\", \"Assign2\", \"Assign3\", \"Assign4\", \"Video1\", \"Video2\", \"Quiz1\", \"Quiz2\", \"Pdf1\", \"Pdf2\", \"Ebook1\", \"Ebook2\"]}, \"type\": \"table\", \"uid\": \"424d18f0-e411-11e8-a1d0-d7b4c6107baf\"}], {}, {\"showLink\": true, \"linkText\": \"Export to plot.ly\"})});</script>"
      ]
     },
     "metadata": {},
     "output_type": "display_data"
    },
    {
     "data": {
      "application/vnd.plotly.v1+json": {
       "data": [
        {
         "marker": {
          "color": "rgb(255,0,0)",
          "colorscale": "Viridis",
          "line": {
           "width": 2
          },
          "size": 12,
          "symbol": 1
         },
         "mode": "markers",
         "name": "Student_1",
         "text": [
          "Student_1"
         ],
         "type": "scatter",
         "uid": "42841f76-e411-11e8-a1d0-d7b4c6107baf",
         "x": [
          23
         ],
         "y": [
          5
         ]
        },
        {
         "marker": {
          "color": "rgb(0,255,0)",
          "colorscale": "Viridis",
          "line": {
           "width": 2
          },
          "size": 12,
          "symbol": 0
         },
         "mode": "markers",
         "name": "Student_2",
         "text": [
          "Student_2"
         ],
         "type": "scatter",
         "uid": "428420fc-e411-11e8-a1d0-d7b4c6107baf",
         "x": [
          92
         ],
         "y": [
          92
         ]
        },
        {
         "marker": {
          "color": "rgb(0,255,0)",
          "colorscale": "Viridis",
          "line": {
           "width": 2
          },
          "size": 12,
          "symbol": 0
         },
         "mode": "markers",
         "name": "Student_3",
         "text": [
          "Student_3"
         ],
         "type": "scatter",
         "uid": "428421ba-e411-11e8-a1d0-d7b4c6107baf",
         "x": [
          85
         ],
         "y": [
          82
         ]
        },
        {
         "marker": {
          "color": "rgb(127,0,127)",
          "colorscale": "Viridis",
          "line": {
           "width": 2
          },
          "size": 12,
          "symbol": 2
         },
         "mode": "markers",
         "name": "Student_4",
         "text": [
          "Student_4"
         ],
         "type": "scatter",
         "uid": "4284225a-e411-11e8-a1d0-d7b4c6107baf",
         "x": [
          30
         ],
         "y": [
          58
         ]
        },
        {
         "marker": {
          "color": "rgb(0,255,0)",
          "colorscale": "Viridis",
          "line": {
           "width": 2
          },
          "size": 12,
          "symbol": 0
         },
         "mode": "markers",
         "name": "Student_5",
         "text": [
          "Student_5"
         ],
         "type": "scatter",
         "uid": "428422e6-e411-11e8-a1d0-d7b4c6107baf",
         "x": [
          51
         ],
         "y": [
          77
         ]
        },
        {
         "marker": {
          "color": "rgb(0,255,0)",
          "colorscale": "Viridis",
          "line": {
           "width": 2
          },
          "size": 12,
          "symbol": 0
         },
         "mode": "markers",
         "name": "Student_6",
         "text": [
          "Student_6"
         ],
         "type": "scatter",
         "uid": "42842368-e411-11e8-a1d0-d7b4c6107baf",
         "x": [
          69
         ],
         "y": [
          87
         ]
        },
        {
         "marker": {
          "color": "rgb(0,255,0)",
          "colorscale": "Viridis",
          "line": {
           "width": 2
          },
          "size": 12,
          "symbol": 0
         },
         "mode": "markers",
         "name": "Student_7",
         "text": [
          "Student_7"
         ],
         "type": "scatter",
         "uid": "428423f4-e411-11e8-a1d0-d7b4c6107baf",
         "x": [
          67
         ],
         "y": [
          74
         ]
        },
        {
         "marker": {
          "color": "rgb(255,0,0)",
          "colorscale": "Viridis",
          "line": {
           "width": 2
          },
          "size": 12,
          "symbol": 1
         },
         "mode": "markers",
         "name": "Student_8",
         "text": [
          "Student_8"
         ],
         "type": "scatter",
         "uid": "4284246c-e411-11e8-a1d0-d7b4c6107baf",
         "x": [
          20
         ],
         "y": [
          14
         ]
        },
        {
         "marker": {
          "color": "rgb(0,0,255)",
          "colorscale": "Viridis",
          "line": {
           "width": 2
          },
          "size": 12,
          "symbol": 3
         },
         "mode": "markers",
         "name": "Student_9",
         "text": [
          "Student_9"
         ],
         "type": "scatter",
         "uid": "428424ee-e411-11e8-a1d0-d7b4c6107baf",
         "x": [
          38
         ],
         "y": [
          59
         ]
        },
        {
         "marker": {
          "color": "rgb(127,0,127)",
          "colorscale": "Viridis",
          "line": {
           "width": 2
          },
          "size": 12,
          "symbol": 2
         },
         "mode": "markers",
         "name": "Student_10",
         "text": [
          "Student_10"
         ],
         "type": "scatter",
         "uid": "4284257a-e411-11e8-a1d0-d7b4c6107baf",
         "x": [
          15
         ],
         "y": [
          39
         ]
        },
        {
         "marker": {
          "color": "rgb(0,255,0)",
          "colorscale": "Viridis",
          "line": {
           "width": 2
          },
          "size": 12,
          "symbol": 0
         },
         "mode": "markers",
         "name": "Student_11",
         "text": [
          "Student_11"
         ],
         "type": "scatter",
         "uid": "428425fc-e411-11e8-a1d0-d7b4c6107baf",
         "x": [
          88
         ],
         "y": [
          94
         ]
        },
        {
         "marker": {
          "color": "rgb(127,0,127)",
          "colorscale": "Viridis",
          "line": {
           "width": 2
          },
          "size": 12,
          "symbol": 2
         },
         "mode": "markers",
         "name": "Student_12",
         "text": [
          "Student_12"
         ],
         "type": "scatter",
         "uid": "4284267e-e411-11e8-a1d0-d7b4c6107baf",
         "x": [
          23
         ],
         "y": [
          43
         ]
        },
        {
         "marker": {
          "color": "rgb(127,0,127)",
          "colorscale": "Viridis",
          "line": {
           "width": 2
          },
          "size": 12,
          "symbol": 2
         },
         "mode": "markers",
         "name": "Student_13",
         "text": [
          "Student_13"
         ],
         "type": "scatter",
         "uid": "42842700-e411-11e8-a1d0-d7b4c6107baf",
         "x": [
          14
         ],
         "y": [
          42
         ]
        },
        {
         "marker": {
          "color": "rgb(0,0,255)",
          "colorscale": "Viridis",
          "line": {
           "width": 2
          },
          "size": 12,
          "symbol": 3
         },
         "mode": "markers",
         "name": "Student_14",
         "text": [
          "Student_14"
         ],
         "type": "scatter",
         "uid": "42842778-e411-11e8-a1d0-d7b4c6107baf",
         "x": [
          50
         ],
         "y": [
          67
         ]
        },
        {
         "marker": {
          "color": "rgb(127,0,127)",
          "colorscale": "Viridis",
          "line": {
           "width": 2
          },
          "size": 12,
          "symbol": 2
         },
         "mode": "markers",
         "name": "Student_15",
         "text": [
          "Student_15"
         ],
         "type": "scatter",
         "uid": "428427fa-e411-11e8-a1d0-d7b4c6107baf",
         "x": [
          33
         ],
         "y": [
          53
         ]
        },
        {
         "marker": {
          "color": "rgb(0,0,255)",
          "colorscale": "Viridis",
          "line": {
           "width": 2
          },
          "size": 12,
          "symbol": 3
         },
         "mode": "markers",
         "name": "Student_16",
         "text": [
          "Student_16"
         ],
         "type": "scatter",
         "uid": "4284287c-e411-11e8-a1d0-d7b4c6107baf",
         "x": [
          43
         ],
         "y": [
          63
         ]
        },
        {
         "marker": {
          "color": "rgb(0,0,255)",
          "colorscale": "Viridis",
          "line": {
           "width": 2
          },
          "size": 12,
          "symbol": 3
         },
         "mode": "markers",
         "name": "Student_17",
         "text": [
          "Student_17"
         ],
         "type": "scatter",
         "uid": "42842908-e411-11e8-a1d0-d7b4c6107baf",
         "x": [
          40
         ],
         "y": [
          69
         ]
        },
        {
         "marker": {
          "color": "rgb(255,0,0)",
          "colorscale": "Viridis",
          "line": {
           "width": 2
          },
          "size": 12,
          "symbol": 1
         },
         "mode": "markers",
         "name": "Student_18",
         "text": [
          "Student_18"
         ],
         "type": "scatter",
         "uid": "4284298a-e411-11e8-a1d0-d7b4c6107baf",
         "x": [
          20
         ],
         "y": [
          31
         ]
        },
        {
         "marker": {
          "color": "rgb(0,255,0)",
          "colorscale": "Viridis",
          "line": {
           "width": 2
          },
          "size": 12,
          "symbol": 0
         },
         "mode": "markers",
         "name": "Student_19",
         "text": [
          "Student_19"
         ],
         "type": "scatter",
         "uid": "42842a0c-e411-11e8-a1d0-d7b4c6107baf",
         "x": [
          74
         ],
         "y": [
          81
         ]
        },
        {
         "marker": {
          "color": "rgb(127,0,127)",
          "colorscale": "Viridis",
          "line": {
           "width": 2
          },
          "size": 12,
          "symbol": 2
         },
         "mode": "markers",
         "name": "Student_20",
         "text": [
          "Student_20"
         ],
         "type": "scatter",
         "uid": "42842a8e-e411-11e8-a1d0-d7b4c6107baf",
         "x": [
          9
         ],
         "y": [
          46
         ]
        },
        {
         "marker": {
          "color": "rgb(255,0,0)",
          "colorscale": "Viridis",
          "line": {
           "width": 2
          },
          "size": 12,
          "symbol": 1
         },
         "mode": "markers",
         "name": "Student_21",
         "text": [
          "Student_21"
         ],
         "type": "scatter",
         "uid": "42842b10-e411-11e8-a1d0-d7b4c6107baf",
         "x": [
          19
         ],
         "y": [
          22
         ]
        },
        {
         "marker": {
          "color": "rgb(0,0,255)",
          "colorscale": "Viridis",
          "line": {
           "width": 2
          },
          "size": 12,
          "symbol": 3
         },
         "mode": "markers",
         "name": "Student_22",
         "text": [
          "Student_22"
         ],
         "type": "scatter",
         "uid": "42842b92-e411-11e8-a1d0-d7b4c6107baf",
         "x": [
          38
         ],
         "y": [
          56
         ]
        },
        {
         "marker": {
          "color": "rgb(0,0,255)",
          "colorscale": "Viridis",
          "line": {
           "width": 2
          },
          "size": 12,
          "symbol": 3
         },
         "mode": "markers",
         "name": "Student_23",
         "text": [
          "Student_23"
         ],
         "type": "scatter",
         "uid": "42842c14-e411-11e8-a1d0-d7b4c6107baf",
         "x": [
          53
         ],
         "y": [
          63
         ]
        },
        {
         "marker": {
          "color": "rgb(127,0,127)",
          "colorscale": "Viridis",
          "line": {
           "width": 2
          },
          "size": 12,
          "symbol": 2
         },
         "mode": "markers",
         "name": "Student_24",
         "text": [
          "Student_24"
         ],
         "type": "scatter",
         "uid": "42842c96-e411-11e8-a1d0-d7b4c6107baf",
         "x": [
          6
         ],
         "y": [
          47
         ]
        },
        {
         "marker": {
          "color": "rgb(0,0,255)",
          "colorscale": "Viridis",
          "line": {
           "width": 2
          },
          "size": 12,
          "symbol": 3
         },
         "mode": "markers",
         "name": "Student_25",
         "text": [
          "Student_25"
         ],
         "type": "scatter",
         "uid": "42842d18-e411-11e8-a1d0-d7b4c6107baf",
         "x": [
          62
         ],
         "y": [
          73
         ]
        },
        {
         "marker": {
          "color": "rgb(255,0,0)",
          "colorscale": "Viridis",
          "line": {
           "width": 2
          },
          "size": 12,
          "symbol": 1
         },
         "mode": "markers",
         "name": "Student_26",
         "text": [
          "Student_26"
         ],
         "type": "scatter",
         "uid": "42842d9a-e411-11e8-a1d0-d7b4c6107baf",
         "x": [
          13
         ],
         "y": [
          33
         ]
        },
        {
         "marker": {
          "color": "rgb(127,0,127)",
          "colorscale": "Viridis",
          "line": {
           "width": 2
          },
          "size": 12,
          "symbol": 2
         },
         "mode": "markers",
         "name": "Student_27",
         "text": [
          "Student_27"
         ],
         "type": "scatter",
         "uid": "42842e1c-e411-11e8-a1d0-d7b4c6107baf",
         "x": [
          14
         ],
         "y": [
          50
         ]
        },
        {
         "marker": {
          "color": "rgb(127,0,127)",
          "colorscale": "Viridis",
          "line": {
           "width": 2
          },
          "size": 12,
          "symbol": 2
         },
         "mode": "markers",
         "name": "Student_28",
         "text": [
          "Student_28"
         ],
         "type": "scatter",
         "uid": "42842ea8-e411-11e8-a1d0-d7b4c6107baf",
         "x": [
          10
         ],
         "y": [
          46
         ]
        },
        {
         "marker": {
          "color": "rgb(0,0,255)",
          "colorscale": "Viridis",
          "line": {
           "width": 2
          },
          "size": 12,
          "symbol": 3
         },
         "mode": "markers",
         "name": "Student_29",
         "text": [
          "Student_29"
         ],
         "type": "scatter",
         "uid": "42842f2a-e411-11e8-a1d0-d7b4c6107baf",
         "x": [
          61
         ],
         "y": [
          76
         ]
        },
        {
         "marker": {
          "color": "rgb(0,0,255)",
          "colorscale": "Viridis",
          "line": {
           "width": 2
          },
          "size": 12,
          "symbol": 3
         },
         "mode": "markers",
         "name": "Student_30",
         "text": [
          "Student_30"
         ],
         "type": "scatter",
         "uid": "42842fac-e411-11e8-a1d0-d7b4c6107baf",
         "x": [
          39
         ],
         "y": [
          67
         ]
        },
        {
         "marker": {
          "color": "rgb(127,0,127)",
          "colorscale": "Viridis",
          "line": {
           "width": 2
          },
          "size": 12,
          "symbol": 2
         },
         "mode": "markers",
         "name": "Student_31",
         "text": [
          "Student_31"
         ],
         "type": "scatter",
         "uid": "4284302e-e411-11e8-a1d0-d7b4c6107baf",
         "x": [
          18
         ],
         "y": [
          48
         ]
        },
        {
         "marker": {
          "color": "rgb(255,0,0)",
          "colorscale": "Viridis",
          "line": {
           "width": 2
          },
          "size": 12,
          "symbol": 1
         },
         "mode": "markers",
         "name": "Student_32",
         "text": [
          "Student_32"
         ],
         "type": "scatter",
         "uid": "428430b0-e411-11e8-a1d0-d7b4c6107baf",
         "x": [
          11
         ],
         "y": [
          22
         ]
        },
        {
         "marker": {
          "color": "rgb(0,255,0)",
          "colorscale": "Viridis",
          "line": {
           "width": 2
          },
          "size": 12,
          "symbol": 0
         },
         "mode": "markers",
         "name": "Student_33",
         "text": [
          "Student_33"
         ],
         "type": "scatter",
         "uid": "42843128-e411-11e8-a1d0-d7b4c6107baf",
         "x": [
          67
         ],
         "y": [
          85
         ]
        },
        {
         "marker": {
          "color": "rgb(127,0,127)",
          "colorscale": "Viridis",
          "line": {
           "width": 2
          },
          "size": 12,
          "symbol": 2
         },
         "mode": "markers",
         "name": "Student_34",
         "text": [
          "Student_34"
         ],
         "type": "scatter",
         "uid": "428431b4-e411-11e8-a1d0-d7b4c6107baf",
         "x": [
          23
         ],
         "y": [
          57
         ]
        },
        {
         "marker": {
          "color": "rgb(0,0,255)",
          "colorscale": "Viridis",
          "line": {
           "width": 2
          },
          "size": 12,
          "symbol": 3
         },
         "mode": "markers",
         "name": "Student_35",
         "text": [
          "Student_35"
         ],
         "type": "scatter",
         "uid": "4284322c-e411-11e8-a1d0-d7b4c6107baf",
         "x": [
          37
         ],
         "y": [
          65
         ]
        },
        {
         "marker": {
          "color": "rgb(0,0,255)",
          "colorscale": "Viridis",
          "line": {
           "width": 2
          },
          "size": 12,
          "symbol": 3
         },
         "mode": "markers",
         "name": "Student_36",
         "text": [
          "Student_36"
         ],
         "type": "scatter",
         "uid": "428432b8-e411-11e8-a1d0-d7b4c6107baf",
         "x": [
          51
         ],
         "y": [
          63
         ]
        },
        {
         "marker": {
          "color": "rgb(255,0,0)",
          "colorscale": "Viridis",
          "line": {
           "width": 2
          },
          "size": 12,
          "symbol": 1
         },
         "mode": "markers",
         "name": "Student_37",
         "text": [
          "Student_37"
         ],
         "type": "scatter",
         "uid": "4284333a-e411-11e8-a1d0-d7b4c6107baf",
         "x": [
          16
         ],
         "y": [
          36
         ]
        },
        {
         "marker": {
          "color": "rgb(127,0,127)",
          "colorscale": "Viridis",
          "line": {
           "width": 2
          },
          "size": 12,
          "symbol": 2
         },
         "mode": "markers",
         "name": "Student_38",
         "text": [
          "Student_38"
         ],
         "type": "scatter",
         "uid": "428433b2-e411-11e8-a1d0-d7b4c6107baf",
         "x": [
          22
         ],
         "y": [
          51
         ]
        },
        {
         "marker": {
          "color": "rgb(0,255,0)",
          "colorscale": "Viridis",
          "line": {
           "width": 2
          },
          "size": 12,
          "symbol": 0
         },
         "mode": "markers",
         "name": "Student_39",
         "text": [
          "Student_39"
         ],
         "type": "scatter",
         "uid": "42843434-e411-11e8-a1d0-d7b4c6107baf",
         "x": [
          77
         ],
         "y": [
          88
         ]
        },
        {
         "marker": {
          "color": "rgb(255,0,0)",
          "colorscale": "Viridis",
          "line": {
           "width": 2
          },
          "size": 12,
          "symbol": 1
         },
         "mode": "markers",
         "name": "Student_40",
         "text": [
          "Student_40"
         ],
         "type": "scatter",
         "uid": "428434ac-e411-11e8-a1d0-d7b4c6107baf",
         "x": [
          5
         ],
         "y": [
          18
         ]
        },
        {
         "marker": {
          "color": "rgb(0,255,0)",
          "colorscale": "Viridis",
          "line": {
           "width": 2
          },
          "size": 12,
          "symbol": 0
         },
         "mode": "markers",
         "name": "Student_41",
         "text": [
          "Student_41"
         ],
         "type": "scatter",
         "uid": "42843538-e411-11e8-a1d0-d7b4c6107baf",
         "x": [
          88
         ],
         "y": [
          94
         ]
        },
        {
         "marker": {
          "color": "rgb(255,0,0)",
          "colorscale": "Viridis",
          "line": {
           "width": 2
          },
          "size": 12,
          "symbol": 1
         },
         "mode": "markers",
         "name": "Student_42",
         "text": [
          "Student_42"
         ],
         "type": "scatter",
         "uid": "428435b0-e411-11e8-a1d0-d7b4c6107baf",
         "x": [
          11
         ],
         "y": [
          25
         ]
        },
        {
         "marker": {
          "color": "rgb(255,0,0)",
          "colorscale": "Viridis",
          "line": {
           "width": 2
          },
          "size": 12,
          "symbol": 1
         },
         "mode": "markers",
         "name": "Student_43",
         "text": [
          "Student_43"
         ],
         "type": "scatter",
         "uid": "42843632-e411-11e8-a1d0-d7b4c6107baf",
         "x": [
          16
         ],
         "y": [
          25
         ]
        },
        {
         "marker": {
          "color": "rgb(0,0,255)",
          "colorscale": "Viridis",
          "line": {
           "width": 2
          },
          "size": 12,
          "symbol": 3
         },
         "mode": "markers",
         "name": "Student_44",
         "text": [
          "Student_44"
         ],
         "type": "scatter",
         "uid": "428436b4-e411-11e8-a1d0-d7b4c6107baf",
         "x": [
          46
         ],
         "y": [
          70
         ]
        },
        {
         "marker": {
          "color": "rgb(127,0,127)",
          "colorscale": "Viridis",
          "line": {
           "width": 2
          },
          "size": 12,
          "symbol": 2
         },
         "mode": "markers",
         "name": "Student_45",
         "text": [
          "Student_45"
         ],
         "type": "scatter",
         "uid": "4284372c-e411-11e8-a1d0-d7b4c6107baf",
         "x": [
          19
         ],
         "y": [
          46
         ]
        },
        {
         "marker": {
          "color": "rgb(255,0,0)",
          "colorscale": "Viridis",
          "line": {
           "width": 2
          },
          "size": 12,
          "symbol": 1
         },
         "mode": "markers",
         "name": "Student_46",
         "text": [
          "Student_46"
         ],
         "type": "scatter",
         "uid": "428437ae-e411-11e8-a1d0-d7b4c6107baf",
         "x": [
          25
         ],
         "y": [
          28
         ]
        },
        {
         "marker": {
          "color": "rgb(0,0,255)",
          "colorscale": "Viridis",
          "line": {
           "width": 2
          },
          "size": 12,
          "symbol": 3
         },
         "mode": "markers",
         "name": "Student_47",
         "text": [
          "Student_47"
         ],
         "type": "scatter",
         "uid": "42843826-e411-11e8-a1d0-d7b4c6107baf",
         "x": [
          36
         ],
         "y": [
          68
         ]
        },
        {
         "marker": {
          "color": "rgb(127,0,127)",
          "colorscale": "Viridis",
          "line": {
           "width": 2
          },
          "size": 12,
          "symbol": 2
         },
         "mode": "markers",
         "name": "Student_48",
         "text": [
          "Student_48"
         ],
         "type": "scatter",
         "uid": "428438a8-e411-11e8-a1d0-d7b4c6107baf",
         "x": [
          14
         ],
         "y": [
          40
         ]
        },
        {
         "marker": {
          "color": "rgb(0,0,255)",
          "colorscale": "Viridis",
          "line": {
           "width": 2
          },
          "size": 12,
          "symbol": 3
         },
         "mode": "markers",
         "name": "Student_49",
         "text": [
          "Student_49"
         ],
         "type": "scatter",
         "uid": "42843920-e411-11e8-a1d0-d7b4c6107baf",
         "x": [
          64
         ],
         "y": [
          79
         ]
        },
        {
         "marker": {
          "color": "rgb(255,0,0)",
          "colorscale": "Viridis",
          "line": {
           "width": 2
          },
          "size": 12,
          "symbol": 1
         },
         "mode": "markers",
         "name": "Student_50",
         "text": [
          "Student_50"
         ],
         "type": "scatter",
         "uid": "42843998-e411-11e8-a1d0-d7b4c6107baf",
         "x": [
          5
         ],
         "y": [
          37
         ]
        },
        {
         "marker": {
          "color": "rgb(0,0,255)",
          "colorscale": "Viridis",
          "line": {
           "width": 2
          },
          "size": 12,
          "symbol": 3
         },
         "mode": "markers",
         "name": "Student_51",
         "text": [
          "Student_51"
         ],
         "type": "scatter",
         "uid": "42843a10-e411-11e8-a1d0-d7b4c6107baf",
         "x": [
          44
         ],
         "y": [
          64
         ]
        },
        {
         "marker": {
          "color": "rgb(255,0,0)",
          "colorscale": "Viridis",
          "line": {
           "width": 2
          },
          "size": 12,
          "symbol": 1
         },
         "mode": "markers",
         "name": "Student_52",
         "text": [
          "Student_52"
         ],
         "type": "scatter",
         "uid": "42843a92-e411-11e8-a1d0-d7b4c6107baf",
         "x": [
          6
         ],
         "y": [
          7
         ]
        },
        {
         "marker": {
          "color": "rgb(0,0,255)",
          "colorscale": "Viridis",
          "line": {
           "width": 2
          },
          "size": 12,
          "symbol": 3
         },
         "mode": "markers",
         "name": "Student_53",
         "text": [
          "Student_53"
         ],
         "type": "scatter",
         "uid": "42843b0a-e411-11e8-a1d0-d7b4c6107baf",
         "x": [
          54
         ],
         "y": [
          64
         ]
        },
        {
         "marker": {
          "color": "rgb(127,0,127)",
          "colorscale": "Viridis",
          "line": {
           "width": 2
          },
          "size": 12,
          "symbol": 2
         },
         "mode": "markers",
         "name": "Student_54",
         "text": [
          "Student_54"
         ],
         "type": "scatter",
         "uid": "42843b78-e411-11e8-a1d0-d7b4c6107baf",
         "x": [
          18
         ],
         "y": [
          40
         ]
        },
        {
         "marker": {
          "color": "rgb(127,0,127)",
          "colorscale": "Viridis",
          "line": {
           "width": 2
          },
          "size": 12,
          "symbol": 2
         },
         "mode": "markers",
         "name": "Student_55",
         "text": [
          "Student_55"
         ],
         "type": "scatter",
         "uid": "42843be6-e411-11e8-a1d0-d7b4c6107baf",
         "x": [
          27
         ],
         "y": [
          54
         ]
        },
        {
         "marker": {
          "color": "rgb(255,0,0)",
          "colorscale": "Viridis",
          "line": {
           "width": 2
          },
          "size": 12,
          "symbol": 1
         },
         "mode": "markers",
         "name": "Student_56",
         "text": [
          "Student_56"
         ],
         "type": "scatter",
         "uid": "42843c54-e411-11e8-a1d0-d7b4c6107baf",
         "x": [
          22
         ],
         "y": [
          26
         ]
        },
        {
         "marker": {
          "color": "rgb(0,255,0)",
          "colorscale": "Viridis",
          "line": {
           "width": 2
          },
          "size": 12,
          "symbol": 0
         },
         "mode": "markers",
         "name": "Student_57",
         "text": [
          "Student_57"
         ],
         "type": "scatter",
         "uid": "42843ccc-e411-11e8-a1d0-d7b4c6107baf",
         "x": [
          80
         ],
         "y": [
          86
         ]
        },
        {
         "marker": {
          "color": "rgb(0,255,0)",
          "colorscale": "Viridis",
          "line": {
           "width": 2
          },
          "size": 12,
          "symbol": 0
         },
         "mode": "markers",
         "name": "Student_58",
         "text": [
          "Student_58"
         ],
         "type": "scatter",
         "uid": "42843d3a-e411-11e8-a1d0-d7b4c6107baf",
         "x": [
          70
         ],
         "y": [
          74
         ]
        },
        {
         "marker": {
          "color": "rgb(0,0,255)",
          "colorscale": "Viridis",
          "line": {
           "width": 2
          },
          "size": 12,
          "symbol": 3
         },
         "mode": "markers",
         "name": "Student_59",
         "text": [
          "Student_59"
         ],
         "type": "scatter",
         "uid": "42843da8-e411-11e8-a1d0-d7b4c6107baf",
         "x": [
          44
         ],
         "y": [
          70
         ]
        },
        {
         "marker": {
          "color": "rgb(0,0,255)",
          "colorscale": "Viridis",
          "line": {
           "width": 2
          },
          "size": 12,
          "symbol": 3
         },
         "mode": "markers",
         "name": "Student_60",
         "text": [
          "Student_60"
         ],
         "type": "scatter",
         "uid": "42843e16-e411-11e8-a1d0-d7b4c6107baf",
         "x": [
          69
         ],
         "y": [
          78
         ]
        }
       ],
       "layout": {
        "hovermode": "closest",
        "showlegend": true,
        "title": "Notas dos estudantes vs acesso ao AVA",
        "xaxis": {
         "autorange": false,
         "fixedrange": false,
         "range": [
          0,
          102
         ],
         "rangemode": "normal",
         "showline": true,
         "title": "Acessos ao AVA",
         "zeroline": false
        },
        "yaxis": {
         "autorange": false,
         "fixedrange": false,
         "range": [
          0,
          104
         ],
         "rangemode": "normal",
         "showline": true,
         "title": "Notas"
        }
       }
      },
      "text/html": [
       "<div id=\"7c10866a-8fa1-448d-881e-8ec20fb2a179\" style=\"height: 525px; width: 100%;\" class=\"plotly-graph-div\"></div><script type=\"text/javascript\">require([\"plotly\"], function(Plotly) { window.PLOTLYENV=window.PLOTLYENV || {};window.PLOTLYENV.BASE_URL=\"https://plot.ly\";Plotly.newPlot(\"7c10866a-8fa1-448d-881e-8ec20fb2a179\", [{\"marker\": {\"color\": \"rgb(255,0,0)\", \"colorscale\": \"Viridis\", \"line\": {\"width\": 2}, \"size\": 12, \"symbol\": 1}, \"mode\": \"markers\", \"name\": \"Student_1\", \"text\": [\"Student_1\"], \"x\": [23], \"y\": [5], \"type\": \"scatter\", \"uid\": \"42841f76-e411-11e8-a1d0-d7b4c6107baf\"}, {\"marker\": {\"color\": \"rgb(0,255,0)\", \"colorscale\": \"Viridis\", \"line\": {\"width\": 2}, \"size\": 12, \"symbol\": 0}, \"mode\": \"markers\", \"name\": \"Student_2\", \"text\": [\"Student_2\"], \"x\": [92], \"y\": [92], \"type\": \"scatter\", \"uid\": \"428420fc-e411-11e8-a1d0-d7b4c6107baf\"}, {\"marker\": {\"color\": \"rgb(0,255,0)\", \"colorscale\": \"Viridis\", \"line\": {\"width\": 2}, \"size\": 12, \"symbol\": 0}, \"mode\": \"markers\", \"name\": \"Student_3\", \"text\": [\"Student_3\"], \"x\": [85], \"y\": [82], \"type\": \"scatter\", \"uid\": \"428421ba-e411-11e8-a1d0-d7b4c6107baf\"}, {\"marker\": {\"color\": \"rgb(127,0,127)\", \"colorscale\": \"Viridis\", \"line\": {\"width\": 2}, \"size\": 12, \"symbol\": 2}, \"mode\": \"markers\", \"name\": \"Student_4\", \"text\": [\"Student_4\"], \"x\": [30], \"y\": [58], \"type\": \"scatter\", \"uid\": \"4284225a-e411-11e8-a1d0-d7b4c6107baf\"}, {\"marker\": {\"color\": \"rgb(0,255,0)\", \"colorscale\": \"Viridis\", \"line\": {\"width\": 2}, \"size\": 12, \"symbol\": 0}, \"mode\": \"markers\", \"name\": \"Student_5\", \"text\": [\"Student_5\"], \"x\": [51], \"y\": [77], \"type\": \"scatter\", \"uid\": \"428422e6-e411-11e8-a1d0-d7b4c6107baf\"}, {\"marker\": {\"color\": \"rgb(0,255,0)\", \"colorscale\": \"Viridis\", \"line\": {\"width\": 2}, \"size\": 12, \"symbol\": 0}, \"mode\": \"markers\", \"name\": \"Student_6\", \"text\": [\"Student_6\"], \"x\": [69], \"y\": [87], \"type\": \"scatter\", \"uid\": \"42842368-e411-11e8-a1d0-d7b4c6107baf\"}, {\"marker\": {\"color\": \"rgb(0,255,0)\", \"colorscale\": \"Viridis\", \"line\": {\"width\": 2}, \"size\": 12, \"symbol\": 0}, \"mode\": \"markers\", \"name\": \"Student_7\", \"text\": [\"Student_7\"], \"x\": [67], \"y\": [74], \"type\": \"scatter\", \"uid\": \"428423f4-e411-11e8-a1d0-d7b4c6107baf\"}, {\"marker\": {\"color\": \"rgb(255,0,0)\", \"colorscale\": \"Viridis\", \"line\": {\"width\": 2}, \"size\": 12, \"symbol\": 1}, \"mode\": \"markers\", \"name\": \"Student_8\", \"text\": [\"Student_8\"], \"x\": [20], \"y\": [14], \"type\": \"scatter\", \"uid\": \"4284246c-e411-11e8-a1d0-d7b4c6107baf\"}, {\"marker\": {\"color\": \"rgb(0,0,255)\", \"colorscale\": \"Viridis\", \"line\": {\"width\": 2}, \"size\": 12, \"symbol\": 3}, \"mode\": \"markers\", \"name\": \"Student_9\", \"text\": [\"Student_9\"], \"x\": [38], \"y\": [59], \"type\": \"scatter\", \"uid\": \"428424ee-e411-11e8-a1d0-d7b4c6107baf\"}, {\"marker\": {\"color\": \"rgb(127,0,127)\", \"colorscale\": \"Viridis\", \"line\": {\"width\": 2}, \"size\": 12, \"symbol\": 2}, \"mode\": \"markers\", \"name\": \"Student_10\", \"text\": [\"Student_10\"], \"x\": [15], \"y\": [39], \"type\": \"scatter\", \"uid\": \"4284257a-e411-11e8-a1d0-d7b4c6107baf\"}, {\"marker\": {\"color\": \"rgb(0,255,0)\", \"colorscale\": \"Viridis\", \"line\": {\"width\": 2}, \"size\": 12, \"symbol\": 0}, \"mode\": \"markers\", \"name\": \"Student_11\", \"text\": [\"Student_11\"], \"x\": [88], \"y\": [94], \"type\": \"scatter\", \"uid\": \"428425fc-e411-11e8-a1d0-d7b4c6107baf\"}, {\"marker\": {\"color\": \"rgb(127,0,127)\", \"colorscale\": \"Viridis\", \"line\": {\"width\": 2}, \"size\": 12, \"symbol\": 2}, \"mode\": \"markers\", \"name\": \"Student_12\", \"text\": [\"Student_12\"], \"x\": [23], \"y\": [43], \"type\": \"scatter\", \"uid\": \"4284267e-e411-11e8-a1d0-d7b4c6107baf\"}, {\"marker\": {\"color\": \"rgb(127,0,127)\", \"colorscale\": \"Viridis\", \"line\": {\"width\": 2}, \"size\": 12, \"symbol\": 2}, \"mode\": \"markers\", \"name\": \"Student_13\", \"text\": [\"Student_13\"], \"x\": [14], \"y\": [42], \"type\": \"scatter\", \"uid\": \"42842700-e411-11e8-a1d0-d7b4c6107baf\"}, {\"marker\": {\"color\": \"rgb(0,0,255)\", \"colorscale\": \"Viridis\", \"line\": {\"width\": 2}, \"size\": 12, \"symbol\": 3}, \"mode\": \"markers\", \"name\": \"Student_14\", \"text\": [\"Student_14\"], \"x\": [50], \"y\": [67], \"type\": \"scatter\", \"uid\": \"42842778-e411-11e8-a1d0-d7b4c6107baf\"}, {\"marker\": {\"color\": \"rgb(127,0,127)\", \"colorscale\": \"Viridis\", \"line\": {\"width\": 2}, \"size\": 12, \"symbol\": 2}, \"mode\": \"markers\", \"name\": \"Student_15\", \"text\": [\"Student_15\"], \"x\": [33], \"y\": [53], \"type\": \"scatter\", \"uid\": \"428427fa-e411-11e8-a1d0-d7b4c6107baf\"}, {\"marker\": {\"color\": \"rgb(0,0,255)\", \"colorscale\": \"Viridis\", \"line\": {\"width\": 2}, \"size\": 12, \"symbol\": 3}, \"mode\": \"markers\", \"name\": \"Student_16\", \"text\": [\"Student_16\"], \"x\": [43], \"y\": [63], \"type\": \"scatter\", \"uid\": \"4284287c-e411-11e8-a1d0-d7b4c6107baf\"}, {\"marker\": {\"color\": \"rgb(0,0,255)\", \"colorscale\": \"Viridis\", \"line\": {\"width\": 2}, \"size\": 12, \"symbol\": 3}, \"mode\": \"markers\", \"name\": \"Student_17\", \"text\": [\"Student_17\"], \"x\": [40], \"y\": [69], \"type\": \"scatter\", \"uid\": \"42842908-e411-11e8-a1d0-d7b4c6107baf\"}, {\"marker\": {\"color\": \"rgb(255,0,0)\", \"colorscale\": \"Viridis\", \"line\": {\"width\": 2}, \"size\": 12, \"symbol\": 1}, \"mode\": \"markers\", \"name\": \"Student_18\", \"text\": [\"Student_18\"], \"x\": [20], \"y\": [31], \"type\": \"scatter\", \"uid\": \"4284298a-e411-11e8-a1d0-d7b4c6107baf\"}, {\"marker\": {\"color\": \"rgb(0,255,0)\", \"colorscale\": \"Viridis\", \"line\": {\"width\": 2}, \"size\": 12, \"symbol\": 0}, \"mode\": \"markers\", \"name\": \"Student_19\", \"text\": [\"Student_19\"], \"x\": [74], \"y\": [81], \"type\": \"scatter\", \"uid\": \"42842a0c-e411-11e8-a1d0-d7b4c6107baf\"}, {\"marker\": {\"color\": \"rgb(127,0,127)\", \"colorscale\": \"Viridis\", \"line\": {\"width\": 2}, \"size\": 12, \"symbol\": 2}, \"mode\": \"markers\", \"name\": \"Student_20\", \"text\": [\"Student_20\"], \"x\": [9], \"y\": [46], \"type\": \"scatter\", \"uid\": \"42842a8e-e411-11e8-a1d0-d7b4c6107baf\"}, {\"marker\": {\"color\": \"rgb(255,0,0)\", \"colorscale\": \"Viridis\", \"line\": {\"width\": 2}, \"size\": 12, \"symbol\": 1}, \"mode\": \"markers\", \"name\": \"Student_21\", \"text\": [\"Student_21\"], \"x\": [19], \"y\": [22], \"type\": \"scatter\", \"uid\": \"42842b10-e411-11e8-a1d0-d7b4c6107baf\"}, {\"marker\": {\"color\": \"rgb(0,0,255)\", \"colorscale\": \"Viridis\", \"line\": {\"width\": 2}, \"size\": 12, \"symbol\": 3}, \"mode\": \"markers\", \"name\": \"Student_22\", \"text\": [\"Student_22\"], \"x\": [38], \"y\": [56], \"type\": \"scatter\", \"uid\": \"42842b92-e411-11e8-a1d0-d7b4c6107baf\"}, {\"marker\": {\"color\": \"rgb(0,0,255)\", \"colorscale\": \"Viridis\", \"line\": {\"width\": 2}, \"size\": 12, \"symbol\": 3}, \"mode\": \"markers\", \"name\": \"Student_23\", \"text\": [\"Student_23\"], \"x\": [53], \"y\": [63], \"type\": \"scatter\", \"uid\": \"42842c14-e411-11e8-a1d0-d7b4c6107baf\"}, {\"marker\": {\"color\": \"rgb(127,0,127)\", \"colorscale\": \"Viridis\", \"line\": {\"width\": 2}, \"size\": 12, \"symbol\": 2}, \"mode\": \"markers\", \"name\": \"Student_24\", \"text\": [\"Student_24\"], \"x\": [6], \"y\": [47], \"type\": \"scatter\", \"uid\": \"42842c96-e411-11e8-a1d0-d7b4c6107baf\"}, {\"marker\": {\"color\": \"rgb(0,0,255)\", \"colorscale\": \"Viridis\", \"line\": {\"width\": 2}, \"size\": 12, \"symbol\": 3}, \"mode\": \"markers\", \"name\": \"Student_25\", \"text\": [\"Student_25\"], \"x\": [62], \"y\": [73], \"type\": \"scatter\", \"uid\": \"42842d18-e411-11e8-a1d0-d7b4c6107baf\"}, {\"marker\": {\"color\": \"rgb(255,0,0)\", \"colorscale\": \"Viridis\", \"line\": {\"width\": 2}, \"size\": 12, \"symbol\": 1}, \"mode\": \"markers\", \"name\": \"Student_26\", \"text\": [\"Student_26\"], \"x\": [13], \"y\": [33], \"type\": \"scatter\", \"uid\": \"42842d9a-e411-11e8-a1d0-d7b4c6107baf\"}, {\"marker\": {\"color\": \"rgb(127,0,127)\", \"colorscale\": \"Viridis\", \"line\": {\"width\": 2}, \"size\": 12, \"symbol\": 2}, \"mode\": \"markers\", \"name\": \"Student_27\", \"text\": [\"Student_27\"], \"x\": [14], \"y\": [50], \"type\": \"scatter\", \"uid\": \"42842e1c-e411-11e8-a1d0-d7b4c6107baf\"}, {\"marker\": {\"color\": \"rgb(127,0,127)\", \"colorscale\": \"Viridis\", \"line\": {\"width\": 2}, \"size\": 12, \"symbol\": 2}, \"mode\": \"markers\", \"name\": \"Student_28\", \"text\": [\"Student_28\"], \"x\": [10], \"y\": [46], \"type\": \"scatter\", \"uid\": \"42842ea8-e411-11e8-a1d0-d7b4c6107baf\"}, {\"marker\": {\"color\": \"rgb(0,0,255)\", \"colorscale\": \"Viridis\", \"line\": {\"width\": 2}, \"size\": 12, \"symbol\": 3}, \"mode\": \"markers\", \"name\": \"Student_29\", \"text\": [\"Student_29\"], \"x\": [61], \"y\": [76], \"type\": \"scatter\", \"uid\": \"42842f2a-e411-11e8-a1d0-d7b4c6107baf\"}, {\"marker\": {\"color\": \"rgb(0,0,255)\", \"colorscale\": \"Viridis\", \"line\": {\"width\": 2}, \"size\": 12, \"symbol\": 3}, \"mode\": \"markers\", \"name\": \"Student_30\", \"text\": [\"Student_30\"], \"x\": [39], \"y\": [67], \"type\": \"scatter\", \"uid\": \"42842fac-e411-11e8-a1d0-d7b4c6107baf\"}, {\"marker\": {\"color\": \"rgb(127,0,127)\", \"colorscale\": \"Viridis\", \"line\": {\"width\": 2}, \"size\": 12, \"symbol\": 2}, \"mode\": \"markers\", \"name\": \"Student_31\", \"text\": [\"Student_31\"], \"x\": [18], \"y\": [48], \"type\": \"scatter\", \"uid\": \"4284302e-e411-11e8-a1d0-d7b4c6107baf\"}, {\"marker\": {\"color\": \"rgb(255,0,0)\", \"colorscale\": \"Viridis\", \"line\": {\"width\": 2}, \"size\": 12, \"symbol\": 1}, \"mode\": \"markers\", \"name\": \"Student_32\", \"text\": [\"Student_32\"], \"x\": [11], \"y\": [22], \"type\": \"scatter\", \"uid\": \"428430b0-e411-11e8-a1d0-d7b4c6107baf\"}, {\"marker\": {\"color\": \"rgb(0,255,0)\", \"colorscale\": \"Viridis\", \"line\": {\"width\": 2}, \"size\": 12, \"symbol\": 0}, \"mode\": \"markers\", \"name\": \"Student_33\", \"text\": [\"Student_33\"], \"x\": [67], \"y\": [85], \"type\": \"scatter\", \"uid\": \"42843128-e411-11e8-a1d0-d7b4c6107baf\"}, {\"marker\": {\"color\": \"rgb(127,0,127)\", \"colorscale\": \"Viridis\", \"line\": {\"width\": 2}, \"size\": 12, \"symbol\": 2}, \"mode\": \"markers\", \"name\": \"Student_34\", \"text\": [\"Student_34\"], \"x\": [23], \"y\": [57], \"type\": \"scatter\", \"uid\": \"428431b4-e411-11e8-a1d0-d7b4c6107baf\"}, {\"marker\": {\"color\": \"rgb(0,0,255)\", \"colorscale\": \"Viridis\", \"line\": {\"width\": 2}, \"size\": 12, \"symbol\": 3}, \"mode\": \"markers\", \"name\": \"Student_35\", \"text\": [\"Student_35\"], \"x\": [37], \"y\": [65], \"type\": \"scatter\", \"uid\": \"4284322c-e411-11e8-a1d0-d7b4c6107baf\"}, {\"marker\": {\"color\": \"rgb(0,0,255)\", \"colorscale\": \"Viridis\", \"line\": {\"width\": 2}, \"size\": 12, \"symbol\": 3}, \"mode\": \"markers\", \"name\": \"Student_36\", \"text\": [\"Student_36\"], \"x\": [51], \"y\": [63], \"type\": \"scatter\", \"uid\": \"428432b8-e411-11e8-a1d0-d7b4c6107baf\"}, {\"marker\": {\"color\": \"rgb(255,0,0)\", \"colorscale\": \"Viridis\", \"line\": {\"width\": 2}, \"size\": 12, \"symbol\": 1}, \"mode\": \"markers\", \"name\": \"Student_37\", \"text\": [\"Student_37\"], \"x\": [16], \"y\": [36], \"type\": \"scatter\", \"uid\": \"4284333a-e411-11e8-a1d0-d7b4c6107baf\"}, {\"marker\": {\"color\": \"rgb(127,0,127)\", \"colorscale\": \"Viridis\", \"line\": {\"width\": 2}, \"size\": 12, \"symbol\": 2}, \"mode\": \"markers\", \"name\": \"Student_38\", \"text\": [\"Student_38\"], \"x\": [22], \"y\": [51], \"type\": \"scatter\", \"uid\": \"428433b2-e411-11e8-a1d0-d7b4c6107baf\"}, {\"marker\": {\"color\": \"rgb(0,255,0)\", \"colorscale\": \"Viridis\", \"line\": {\"width\": 2}, \"size\": 12, \"symbol\": 0}, \"mode\": \"markers\", \"name\": \"Student_39\", \"text\": [\"Student_39\"], \"x\": [77], \"y\": [88], \"type\": \"scatter\", \"uid\": \"42843434-e411-11e8-a1d0-d7b4c6107baf\"}, {\"marker\": {\"color\": \"rgb(255,0,0)\", \"colorscale\": \"Viridis\", \"line\": {\"width\": 2}, \"size\": 12, \"symbol\": 1}, \"mode\": \"markers\", \"name\": \"Student_40\", \"text\": [\"Student_40\"], \"x\": [5], \"y\": [18], \"type\": \"scatter\", \"uid\": \"428434ac-e411-11e8-a1d0-d7b4c6107baf\"}, {\"marker\": {\"color\": \"rgb(0,255,0)\", \"colorscale\": \"Viridis\", \"line\": {\"width\": 2}, \"size\": 12, \"symbol\": 0}, \"mode\": \"markers\", \"name\": \"Student_41\", \"text\": [\"Student_41\"], \"x\": [88], \"y\": [94], \"type\": \"scatter\", \"uid\": \"42843538-e411-11e8-a1d0-d7b4c6107baf\"}, {\"marker\": {\"color\": \"rgb(255,0,0)\", \"colorscale\": \"Viridis\", \"line\": {\"width\": 2}, \"size\": 12, \"symbol\": 1}, \"mode\": \"markers\", \"name\": \"Student_42\", \"text\": [\"Student_42\"], \"x\": [11], \"y\": [25], \"type\": \"scatter\", \"uid\": \"428435b0-e411-11e8-a1d0-d7b4c6107baf\"}, {\"marker\": {\"color\": \"rgb(255,0,0)\", \"colorscale\": \"Viridis\", \"line\": {\"width\": 2}, \"size\": 12, \"symbol\": 1}, \"mode\": \"markers\", \"name\": \"Student_43\", \"text\": [\"Student_43\"], \"x\": [16], \"y\": [25], \"type\": \"scatter\", \"uid\": \"42843632-e411-11e8-a1d0-d7b4c6107baf\"}, {\"marker\": {\"color\": \"rgb(0,0,255)\", \"colorscale\": \"Viridis\", \"line\": {\"width\": 2}, \"size\": 12, \"symbol\": 3}, \"mode\": \"markers\", \"name\": \"Student_44\", \"text\": [\"Student_44\"], \"x\": [46], \"y\": [70], \"type\": \"scatter\", \"uid\": \"428436b4-e411-11e8-a1d0-d7b4c6107baf\"}, {\"marker\": {\"color\": \"rgb(127,0,127)\", \"colorscale\": \"Viridis\", \"line\": {\"width\": 2}, \"size\": 12, \"symbol\": 2}, \"mode\": \"markers\", \"name\": \"Student_45\", \"text\": [\"Student_45\"], \"x\": [19], \"y\": [46], \"type\": \"scatter\", \"uid\": \"4284372c-e411-11e8-a1d0-d7b4c6107baf\"}, {\"marker\": {\"color\": \"rgb(255,0,0)\", \"colorscale\": \"Viridis\", \"line\": {\"width\": 2}, \"size\": 12, \"symbol\": 1}, \"mode\": \"markers\", \"name\": \"Student_46\", \"text\": [\"Student_46\"], \"x\": [25], \"y\": [28], \"type\": \"scatter\", \"uid\": \"428437ae-e411-11e8-a1d0-d7b4c6107baf\"}, {\"marker\": {\"color\": \"rgb(0,0,255)\", \"colorscale\": \"Viridis\", \"line\": {\"width\": 2}, \"size\": 12, \"symbol\": 3}, \"mode\": \"markers\", \"name\": \"Student_47\", \"text\": [\"Student_47\"], \"x\": [36], \"y\": [68], \"type\": \"scatter\", \"uid\": \"42843826-e411-11e8-a1d0-d7b4c6107baf\"}, {\"marker\": {\"color\": \"rgb(127,0,127)\", \"colorscale\": \"Viridis\", \"line\": {\"width\": 2}, \"size\": 12, \"symbol\": 2}, \"mode\": \"markers\", \"name\": \"Student_48\", \"text\": [\"Student_48\"], \"x\": [14], \"y\": [40], \"type\": \"scatter\", \"uid\": \"428438a8-e411-11e8-a1d0-d7b4c6107baf\"}, {\"marker\": {\"color\": \"rgb(0,0,255)\", \"colorscale\": \"Viridis\", \"line\": {\"width\": 2}, \"size\": 12, \"symbol\": 3}, \"mode\": \"markers\", \"name\": \"Student_49\", \"text\": [\"Student_49\"], \"x\": [64], \"y\": [79], \"type\": \"scatter\", \"uid\": \"42843920-e411-11e8-a1d0-d7b4c6107baf\"}, {\"marker\": {\"color\": \"rgb(255,0,0)\", \"colorscale\": \"Viridis\", \"line\": {\"width\": 2}, \"size\": 12, \"symbol\": 1}, \"mode\": \"markers\", \"name\": \"Student_50\", \"text\": [\"Student_50\"], \"x\": [5], \"y\": [37], \"type\": \"scatter\", \"uid\": \"42843998-e411-11e8-a1d0-d7b4c6107baf\"}, {\"marker\": {\"color\": \"rgb(0,0,255)\", \"colorscale\": \"Viridis\", \"line\": {\"width\": 2}, \"size\": 12, \"symbol\": 3}, \"mode\": \"markers\", \"name\": \"Student_51\", \"text\": [\"Student_51\"], \"x\": [44], \"y\": [64], \"type\": \"scatter\", \"uid\": \"42843a10-e411-11e8-a1d0-d7b4c6107baf\"}, {\"marker\": {\"color\": \"rgb(255,0,0)\", \"colorscale\": \"Viridis\", \"line\": {\"width\": 2}, \"size\": 12, \"symbol\": 1}, \"mode\": \"markers\", \"name\": \"Student_52\", \"text\": [\"Student_52\"], \"x\": [6], \"y\": [7], \"type\": \"scatter\", \"uid\": \"42843a92-e411-11e8-a1d0-d7b4c6107baf\"}, {\"marker\": {\"color\": \"rgb(0,0,255)\", \"colorscale\": \"Viridis\", \"line\": {\"width\": 2}, \"size\": 12, \"symbol\": 3}, \"mode\": \"markers\", \"name\": \"Student_53\", \"text\": [\"Student_53\"], \"x\": [54], \"y\": [64], \"type\": \"scatter\", \"uid\": \"42843b0a-e411-11e8-a1d0-d7b4c6107baf\"}, {\"marker\": {\"color\": \"rgb(127,0,127)\", \"colorscale\": \"Viridis\", \"line\": {\"width\": 2}, \"size\": 12, \"symbol\": 2}, \"mode\": \"markers\", \"name\": \"Student_54\", \"text\": [\"Student_54\"], \"x\": [18], \"y\": [40], \"type\": \"scatter\", \"uid\": \"42843b78-e411-11e8-a1d0-d7b4c6107baf\"}, {\"marker\": {\"color\": \"rgb(127,0,127)\", \"colorscale\": \"Viridis\", \"line\": {\"width\": 2}, \"size\": 12, \"symbol\": 2}, \"mode\": \"markers\", \"name\": \"Student_55\", \"text\": [\"Student_55\"], \"x\": [27], \"y\": [54], \"type\": \"scatter\", \"uid\": \"42843be6-e411-11e8-a1d0-d7b4c6107baf\"}, {\"marker\": {\"color\": \"rgb(255,0,0)\", \"colorscale\": \"Viridis\", \"line\": {\"width\": 2}, \"size\": 12, \"symbol\": 1}, \"mode\": \"markers\", \"name\": \"Student_56\", \"text\": [\"Student_56\"], \"x\": [22], \"y\": [26], \"type\": \"scatter\", \"uid\": \"42843c54-e411-11e8-a1d0-d7b4c6107baf\"}, {\"marker\": {\"color\": \"rgb(0,255,0)\", \"colorscale\": \"Viridis\", \"line\": {\"width\": 2}, \"size\": 12, \"symbol\": 0}, \"mode\": \"markers\", \"name\": \"Student_57\", \"text\": [\"Student_57\"], \"x\": [80], \"y\": [86], \"type\": \"scatter\", \"uid\": \"42843ccc-e411-11e8-a1d0-d7b4c6107baf\"}, {\"marker\": {\"color\": \"rgb(0,255,0)\", \"colorscale\": \"Viridis\", \"line\": {\"width\": 2}, \"size\": 12, \"symbol\": 0}, \"mode\": \"markers\", \"name\": \"Student_58\", \"text\": [\"Student_58\"], \"x\": [70], \"y\": [74], \"type\": \"scatter\", \"uid\": \"42843d3a-e411-11e8-a1d0-d7b4c6107baf\"}, {\"marker\": {\"color\": \"rgb(0,0,255)\", \"colorscale\": \"Viridis\", \"line\": {\"width\": 2}, \"size\": 12, \"symbol\": 3}, \"mode\": \"markers\", \"name\": \"Student_59\", \"text\": [\"Student_59\"], \"x\": [44], \"y\": [70], \"type\": \"scatter\", \"uid\": \"42843da8-e411-11e8-a1d0-d7b4c6107baf\"}, {\"marker\": {\"color\": \"rgb(0,0,255)\", \"colorscale\": \"Viridis\", \"line\": {\"width\": 2}, \"size\": 12, \"symbol\": 3}, \"mode\": \"markers\", \"name\": \"Student_60\", \"text\": [\"Student_60\"], \"x\": [69], \"y\": [78], \"type\": \"scatter\", \"uid\": \"42843e16-e411-11e8-a1d0-d7b4c6107baf\"}], {\"hovermode\": \"closest\", \"showlegend\": true, \"title\": \"Notas dos estudantes vs acesso ao AVA\", \"xaxis\": {\"autorange\": false, \"fixedrange\": false, \"range\": [0, 102], \"rangemode\": \"normal\", \"showline\": true, \"title\": \"Acessos ao AVA\", \"zeroline\": false}, \"yaxis\": {\"autorange\": false, \"fixedrange\": false, \"range\": [0, 104], \"rangemode\": \"normal\", \"showline\": true, \"title\": \"Notas\"}}, {\"showLink\": true, \"linkText\": \"Export to plot.ly\"})});</script>"
      ],
      "text/vnd.plotly.v1+html": [
       "<div id=\"7c10866a-8fa1-448d-881e-8ec20fb2a179\" style=\"height: 525px; width: 100%;\" class=\"plotly-graph-div\"></div><script type=\"text/javascript\">require([\"plotly\"], function(Plotly) { window.PLOTLYENV=window.PLOTLYENV || {};window.PLOTLYENV.BASE_URL=\"https://plot.ly\";Plotly.newPlot(\"7c10866a-8fa1-448d-881e-8ec20fb2a179\", [{\"marker\": {\"color\": \"rgb(255,0,0)\", \"colorscale\": \"Viridis\", \"line\": {\"width\": 2}, \"size\": 12, \"symbol\": 1}, \"mode\": \"markers\", \"name\": \"Student_1\", \"text\": [\"Student_1\"], \"x\": [23], \"y\": [5], \"type\": \"scatter\", \"uid\": \"42841f76-e411-11e8-a1d0-d7b4c6107baf\"}, {\"marker\": {\"color\": \"rgb(0,255,0)\", \"colorscale\": \"Viridis\", \"line\": {\"width\": 2}, \"size\": 12, \"symbol\": 0}, \"mode\": \"markers\", \"name\": \"Student_2\", \"text\": [\"Student_2\"], \"x\": [92], \"y\": [92], \"type\": \"scatter\", \"uid\": \"428420fc-e411-11e8-a1d0-d7b4c6107baf\"}, {\"marker\": {\"color\": \"rgb(0,255,0)\", \"colorscale\": \"Viridis\", \"line\": {\"width\": 2}, \"size\": 12, \"symbol\": 0}, \"mode\": \"markers\", \"name\": \"Student_3\", \"text\": [\"Student_3\"], \"x\": [85], \"y\": [82], \"type\": \"scatter\", \"uid\": \"428421ba-e411-11e8-a1d0-d7b4c6107baf\"}, {\"marker\": {\"color\": \"rgb(127,0,127)\", \"colorscale\": \"Viridis\", \"line\": {\"width\": 2}, \"size\": 12, \"symbol\": 2}, \"mode\": \"markers\", \"name\": \"Student_4\", \"text\": [\"Student_4\"], \"x\": [30], \"y\": [58], \"type\": \"scatter\", \"uid\": \"4284225a-e411-11e8-a1d0-d7b4c6107baf\"}, {\"marker\": {\"color\": \"rgb(0,255,0)\", \"colorscale\": \"Viridis\", \"line\": {\"width\": 2}, \"size\": 12, \"symbol\": 0}, \"mode\": \"markers\", \"name\": \"Student_5\", \"text\": [\"Student_5\"], \"x\": [51], \"y\": [77], \"type\": \"scatter\", \"uid\": \"428422e6-e411-11e8-a1d0-d7b4c6107baf\"}, {\"marker\": {\"color\": \"rgb(0,255,0)\", \"colorscale\": \"Viridis\", \"line\": {\"width\": 2}, \"size\": 12, \"symbol\": 0}, \"mode\": \"markers\", \"name\": \"Student_6\", \"text\": [\"Student_6\"], \"x\": [69], \"y\": [87], \"type\": \"scatter\", \"uid\": \"42842368-e411-11e8-a1d0-d7b4c6107baf\"}, {\"marker\": {\"color\": \"rgb(0,255,0)\", \"colorscale\": \"Viridis\", \"line\": {\"width\": 2}, \"size\": 12, \"symbol\": 0}, \"mode\": \"markers\", \"name\": \"Student_7\", \"text\": [\"Student_7\"], \"x\": [67], \"y\": [74], \"type\": \"scatter\", \"uid\": \"428423f4-e411-11e8-a1d0-d7b4c6107baf\"}, {\"marker\": {\"color\": \"rgb(255,0,0)\", \"colorscale\": \"Viridis\", \"line\": {\"width\": 2}, \"size\": 12, \"symbol\": 1}, \"mode\": \"markers\", \"name\": \"Student_8\", \"text\": [\"Student_8\"], \"x\": [20], \"y\": [14], \"type\": \"scatter\", \"uid\": \"4284246c-e411-11e8-a1d0-d7b4c6107baf\"}, {\"marker\": {\"color\": \"rgb(0,0,255)\", \"colorscale\": \"Viridis\", \"line\": {\"width\": 2}, \"size\": 12, \"symbol\": 3}, \"mode\": \"markers\", \"name\": \"Student_9\", \"text\": [\"Student_9\"], \"x\": [38], \"y\": [59], \"type\": \"scatter\", \"uid\": \"428424ee-e411-11e8-a1d0-d7b4c6107baf\"}, {\"marker\": {\"color\": \"rgb(127,0,127)\", \"colorscale\": \"Viridis\", \"line\": {\"width\": 2}, \"size\": 12, \"symbol\": 2}, \"mode\": \"markers\", \"name\": \"Student_10\", \"text\": [\"Student_10\"], \"x\": [15], \"y\": [39], \"type\": \"scatter\", \"uid\": \"4284257a-e411-11e8-a1d0-d7b4c6107baf\"}, {\"marker\": {\"color\": \"rgb(0,255,0)\", \"colorscale\": \"Viridis\", \"line\": {\"width\": 2}, \"size\": 12, \"symbol\": 0}, \"mode\": \"markers\", \"name\": \"Student_11\", \"text\": [\"Student_11\"], \"x\": [88], \"y\": [94], \"type\": \"scatter\", \"uid\": \"428425fc-e411-11e8-a1d0-d7b4c6107baf\"}, {\"marker\": {\"color\": \"rgb(127,0,127)\", \"colorscale\": \"Viridis\", \"line\": {\"width\": 2}, \"size\": 12, \"symbol\": 2}, \"mode\": \"markers\", \"name\": \"Student_12\", \"text\": [\"Student_12\"], \"x\": [23], \"y\": [43], \"type\": \"scatter\", \"uid\": \"4284267e-e411-11e8-a1d0-d7b4c6107baf\"}, {\"marker\": {\"color\": \"rgb(127,0,127)\", \"colorscale\": \"Viridis\", \"line\": {\"width\": 2}, \"size\": 12, \"symbol\": 2}, \"mode\": \"markers\", \"name\": \"Student_13\", \"text\": [\"Student_13\"], \"x\": [14], \"y\": [42], \"type\": \"scatter\", \"uid\": \"42842700-e411-11e8-a1d0-d7b4c6107baf\"}, {\"marker\": {\"color\": \"rgb(0,0,255)\", \"colorscale\": \"Viridis\", \"line\": {\"width\": 2}, \"size\": 12, \"symbol\": 3}, \"mode\": \"markers\", \"name\": \"Student_14\", \"text\": [\"Student_14\"], \"x\": [50], \"y\": [67], \"type\": \"scatter\", \"uid\": \"42842778-e411-11e8-a1d0-d7b4c6107baf\"}, {\"marker\": {\"color\": \"rgb(127,0,127)\", \"colorscale\": \"Viridis\", \"line\": {\"width\": 2}, \"size\": 12, \"symbol\": 2}, \"mode\": \"markers\", \"name\": \"Student_15\", \"text\": [\"Student_15\"], \"x\": [33], \"y\": [53], \"type\": \"scatter\", \"uid\": \"428427fa-e411-11e8-a1d0-d7b4c6107baf\"}, {\"marker\": {\"color\": \"rgb(0,0,255)\", \"colorscale\": \"Viridis\", \"line\": {\"width\": 2}, \"size\": 12, \"symbol\": 3}, \"mode\": \"markers\", \"name\": \"Student_16\", \"text\": [\"Student_16\"], \"x\": [43], \"y\": [63], \"type\": \"scatter\", \"uid\": \"4284287c-e411-11e8-a1d0-d7b4c6107baf\"}, {\"marker\": {\"color\": \"rgb(0,0,255)\", \"colorscale\": \"Viridis\", \"line\": {\"width\": 2}, \"size\": 12, \"symbol\": 3}, \"mode\": \"markers\", \"name\": \"Student_17\", \"text\": [\"Student_17\"], \"x\": [40], \"y\": [69], \"type\": \"scatter\", \"uid\": \"42842908-e411-11e8-a1d0-d7b4c6107baf\"}, {\"marker\": {\"color\": \"rgb(255,0,0)\", \"colorscale\": \"Viridis\", \"line\": {\"width\": 2}, \"size\": 12, \"symbol\": 1}, \"mode\": \"markers\", \"name\": \"Student_18\", \"text\": [\"Student_18\"], \"x\": [20], \"y\": [31], \"type\": \"scatter\", \"uid\": \"4284298a-e411-11e8-a1d0-d7b4c6107baf\"}, {\"marker\": {\"color\": \"rgb(0,255,0)\", \"colorscale\": \"Viridis\", \"line\": {\"width\": 2}, \"size\": 12, \"symbol\": 0}, \"mode\": \"markers\", \"name\": \"Student_19\", \"text\": [\"Student_19\"], \"x\": [74], \"y\": [81], \"type\": \"scatter\", \"uid\": \"42842a0c-e411-11e8-a1d0-d7b4c6107baf\"}, {\"marker\": {\"color\": \"rgb(127,0,127)\", \"colorscale\": \"Viridis\", \"line\": {\"width\": 2}, \"size\": 12, \"symbol\": 2}, \"mode\": \"markers\", \"name\": \"Student_20\", \"text\": [\"Student_20\"], \"x\": [9], \"y\": [46], \"type\": \"scatter\", \"uid\": \"42842a8e-e411-11e8-a1d0-d7b4c6107baf\"}, {\"marker\": {\"color\": \"rgb(255,0,0)\", \"colorscale\": \"Viridis\", \"line\": {\"width\": 2}, \"size\": 12, \"symbol\": 1}, \"mode\": \"markers\", \"name\": \"Student_21\", \"text\": [\"Student_21\"], \"x\": [19], \"y\": [22], \"type\": \"scatter\", \"uid\": \"42842b10-e411-11e8-a1d0-d7b4c6107baf\"}, {\"marker\": {\"color\": \"rgb(0,0,255)\", \"colorscale\": \"Viridis\", \"line\": {\"width\": 2}, \"size\": 12, \"symbol\": 3}, \"mode\": \"markers\", \"name\": \"Student_22\", \"text\": [\"Student_22\"], \"x\": [38], \"y\": [56], \"type\": \"scatter\", \"uid\": \"42842b92-e411-11e8-a1d0-d7b4c6107baf\"}, {\"marker\": {\"color\": \"rgb(0,0,255)\", \"colorscale\": \"Viridis\", \"line\": {\"width\": 2}, \"size\": 12, \"symbol\": 3}, \"mode\": \"markers\", \"name\": \"Student_23\", \"text\": [\"Student_23\"], \"x\": [53], \"y\": [63], \"type\": \"scatter\", \"uid\": \"42842c14-e411-11e8-a1d0-d7b4c6107baf\"}, {\"marker\": {\"color\": \"rgb(127,0,127)\", \"colorscale\": \"Viridis\", \"line\": {\"width\": 2}, \"size\": 12, \"symbol\": 2}, \"mode\": \"markers\", \"name\": \"Student_24\", \"text\": [\"Student_24\"], \"x\": [6], \"y\": [47], \"type\": \"scatter\", \"uid\": \"42842c96-e411-11e8-a1d0-d7b4c6107baf\"}, {\"marker\": {\"color\": \"rgb(0,0,255)\", \"colorscale\": \"Viridis\", \"line\": {\"width\": 2}, \"size\": 12, \"symbol\": 3}, \"mode\": \"markers\", \"name\": \"Student_25\", \"text\": [\"Student_25\"], \"x\": [62], \"y\": [73], \"type\": \"scatter\", \"uid\": \"42842d18-e411-11e8-a1d0-d7b4c6107baf\"}, {\"marker\": {\"color\": \"rgb(255,0,0)\", \"colorscale\": \"Viridis\", \"line\": {\"width\": 2}, \"size\": 12, \"symbol\": 1}, \"mode\": \"markers\", \"name\": \"Student_26\", \"text\": [\"Student_26\"], \"x\": [13], \"y\": [33], \"type\": \"scatter\", \"uid\": \"42842d9a-e411-11e8-a1d0-d7b4c6107baf\"}, {\"marker\": {\"color\": \"rgb(127,0,127)\", \"colorscale\": \"Viridis\", \"line\": {\"width\": 2}, \"size\": 12, \"symbol\": 2}, \"mode\": \"markers\", \"name\": \"Student_27\", \"text\": [\"Student_27\"], \"x\": [14], \"y\": [50], \"type\": \"scatter\", \"uid\": \"42842e1c-e411-11e8-a1d0-d7b4c6107baf\"}, {\"marker\": {\"color\": \"rgb(127,0,127)\", \"colorscale\": \"Viridis\", \"line\": {\"width\": 2}, \"size\": 12, \"symbol\": 2}, \"mode\": \"markers\", \"name\": \"Student_28\", \"text\": [\"Student_28\"], \"x\": [10], \"y\": [46], \"type\": \"scatter\", \"uid\": \"42842ea8-e411-11e8-a1d0-d7b4c6107baf\"}, {\"marker\": {\"color\": \"rgb(0,0,255)\", \"colorscale\": \"Viridis\", \"line\": {\"width\": 2}, \"size\": 12, \"symbol\": 3}, \"mode\": \"markers\", \"name\": \"Student_29\", \"text\": [\"Student_29\"], \"x\": [61], \"y\": [76], \"type\": \"scatter\", \"uid\": \"42842f2a-e411-11e8-a1d0-d7b4c6107baf\"}, {\"marker\": {\"color\": \"rgb(0,0,255)\", \"colorscale\": \"Viridis\", \"line\": {\"width\": 2}, \"size\": 12, \"symbol\": 3}, \"mode\": \"markers\", \"name\": \"Student_30\", \"text\": [\"Student_30\"], \"x\": [39], \"y\": [67], \"type\": \"scatter\", \"uid\": \"42842fac-e411-11e8-a1d0-d7b4c6107baf\"}, {\"marker\": {\"color\": \"rgb(127,0,127)\", \"colorscale\": \"Viridis\", \"line\": {\"width\": 2}, \"size\": 12, \"symbol\": 2}, \"mode\": \"markers\", \"name\": \"Student_31\", \"text\": [\"Student_31\"], \"x\": [18], \"y\": [48], \"type\": \"scatter\", \"uid\": \"4284302e-e411-11e8-a1d0-d7b4c6107baf\"}, {\"marker\": {\"color\": \"rgb(255,0,0)\", \"colorscale\": \"Viridis\", \"line\": {\"width\": 2}, \"size\": 12, \"symbol\": 1}, \"mode\": \"markers\", \"name\": \"Student_32\", \"text\": [\"Student_32\"], \"x\": [11], \"y\": [22], \"type\": \"scatter\", \"uid\": \"428430b0-e411-11e8-a1d0-d7b4c6107baf\"}, {\"marker\": {\"color\": \"rgb(0,255,0)\", \"colorscale\": \"Viridis\", \"line\": {\"width\": 2}, \"size\": 12, \"symbol\": 0}, \"mode\": \"markers\", \"name\": \"Student_33\", \"text\": [\"Student_33\"], \"x\": [67], \"y\": [85], \"type\": \"scatter\", \"uid\": \"42843128-e411-11e8-a1d0-d7b4c6107baf\"}, {\"marker\": {\"color\": \"rgb(127,0,127)\", \"colorscale\": \"Viridis\", \"line\": {\"width\": 2}, \"size\": 12, \"symbol\": 2}, \"mode\": \"markers\", \"name\": \"Student_34\", \"text\": [\"Student_34\"], \"x\": [23], \"y\": [57], \"type\": \"scatter\", \"uid\": \"428431b4-e411-11e8-a1d0-d7b4c6107baf\"}, {\"marker\": {\"color\": \"rgb(0,0,255)\", \"colorscale\": \"Viridis\", \"line\": {\"width\": 2}, \"size\": 12, \"symbol\": 3}, \"mode\": \"markers\", \"name\": \"Student_35\", \"text\": [\"Student_35\"], \"x\": [37], \"y\": [65], \"type\": \"scatter\", \"uid\": \"4284322c-e411-11e8-a1d0-d7b4c6107baf\"}, {\"marker\": {\"color\": \"rgb(0,0,255)\", \"colorscale\": \"Viridis\", \"line\": {\"width\": 2}, \"size\": 12, \"symbol\": 3}, \"mode\": \"markers\", \"name\": \"Student_36\", \"text\": [\"Student_36\"], \"x\": [51], \"y\": [63], \"type\": \"scatter\", \"uid\": \"428432b8-e411-11e8-a1d0-d7b4c6107baf\"}, {\"marker\": {\"color\": \"rgb(255,0,0)\", \"colorscale\": \"Viridis\", \"line\": {\"width\": 2}, \"size\": 12, \"symbol\": 1}, \"mode\": \"markers\", \"name\": \"Student_37\", \"text\": [\"Student_37\"], \"x\": [16], \"y\": [36], \"type\": \"scatter\", \"uid\": \"4284333a-e411-11e8-a1d0-d7b4c6107baf\"}, {\"marker\": {\"color\": \"rgb(127,0,127)\", \"colorscale\": \"Viridis\", \"line\": {\"width\": 2}, \"size\": 12, \"symbol\": 2}, \"mode\": \"markers\", \"name\": \"Student_38\", \"text\": [\"Student_38\"], \"x\": [22], \"y\": [51], \"type\": \"scatter\", \"uid\": \"428433b2-e411-11e8-a1d0-d7b4c6107baf\"}, {\"marker\": {\"color\": \"rgb(0,255,0)\", \"colorscale\": \"Viridis\", \"line\": {\"width\": 2}, \"size\": 12, \"symbol\": 0}, \"mode\": \"markers\", \"name\": \"Student_39\", \"text\": [\"Student_39\"], \"x\": [77], \"y\": [88], \"type\": \"scatter\", \"uid\": \"42843434-e411-11e8-a1d0-d7b4c6107baf\"}, {\"marker\": {\"color\": \"rgb(255,0,0)\", \"colorscale\": \"Viridis\", \"line\": {\"width\": 2}, \"size\": 12, \"symbol\": 1}, \"mode\": \"markers\", \"name\": \"Student_40\", \"text\": [\"Student_40\"], \"x\": [5], \"y\": [18], \"type\": \"scatter\", \"uid\": \"428434ac-e411-11e8-a1d0-d7b4c6107baf\"}, {\"marker\": {\"color\": \"rgb(0,255,0)\", \"colorscale\": \"Viridis\", \"line\": {\"width\": 2}, \"size\": 12, \"symbol\": 0}, \"mode\": \"markers\", \"name\": \"Student_41\", \"text\": [\"Student_41\"], \"x\": [88], \"y\": [94], \"type\": \"scatter\", \"uid\": \"42843538-e411-11e8-a1d0-d7b4c6107baf\"}, {\"marker\": {\"color\": \"rgb(255,0,0)\", \"colorscale\": \"Viridis\", \"line\": {\"width\": 2}, \"size\": 12, \"symbol\": 1}, \"mode\": \"markers\", \"name\": \"Student_42\", \"text\": [\"Student_42\"], \"x\": [11], \"y\": [25], \"type\": \"scatter\", \"uid\": \"428435b0-e411-11e8-a1d0-d7b4c6107baf\"}, {\"marker\": {\"color\": \"rgb(255,0,0)\", \"colorscale\": \"Viridis\", \"line\": {\"width\": 2}, \"size\": 12, \"symbol\": 1}, \"mode\": \"markers\", \"name\": \"Student_43\", \"text\": [\"Student_43\"], \"x\": [16], \"y\": [25], \"type\": \"scatter\", \"uid\": \"42843632-e411-11e8-a1d0-d7b4c6107baf\"}, {\"marker\": {\"color\": \"rgb(0,0,255)\", \"colorscale\": \"Viridis\", \"line\": {\"width\": 2}, \"size\": 12, \"symbol\": 3}, \"mode\": \"markers\", \"name\": \"Student_44\", \"text\": [\"Student_44\"], \"x\": [46], \"y\": [70], \"type\": \"scatter\", \"uid\": \"428436b4-e411-11e8-a1d0-d7b4c6107baf\"}, {\"marker\": {\"color\": \"rgb(127,0,127)\", \"colorscale\": \"Viridis\", \"line\": {\"width\": 2}, \"size\": 12, \"symbol\": 2}, \"mode\": \"markers\", \"name\": \"Student_45\", \"text\": [\"Student_45\"], \"x\": [19], \"y\": [46], \"type\": \"scatter\", \"uid\": \"4284372c-e411-11e8-a1d0-d7b4c6107baf\"}, {\"marker\": {\"color\": \"rgb(255,0,0)\", \"colorscale\": \"Viridis\", \"line\": {\"width\": 2}, \"size\": 12, \"symbol\": 1}, \"mode\": \"markers\", \"name\": \"Student_46\", \"text\": [\"Student_46\"], \"x\": [25], \"y\": [28], \"type\": \"scatter\", \"uid\": \"428437ae-e411-11e8-a1d0-d7b4c6107baf\"}, {\"marker\": {\"color\": \"rgb(0,0,255)\", \"colorscale\": \"Viridis\", \"line\": {\"width\": 2}, \"size\": 12, \"symbol\": 3}, \"mode\": \"markers\", \"name\": \"Student_47\", \"text\": [\"Student_47\"], \"x\": [36], \"y\": [68], \"type\": \"scatter\", \"uid\": \"42843826-e411-11e8-a1d0-d7b4c6107baf\"}, {\"marker\": {\"color\": \"rgb(127,0,127)\", \"colorscale\": \"Viridis\", \"line\": {\"width\": 2}, \"size\": 12, \"symbol\": 2}, \"mode\": \"markers\", \"name\": \"Student_48\", \"text\": [\"Student_48\"], \"x\": [14], \"y\": [40], \"type\": \"scatter\", \"uid\": \"428438a8-e411-11e8-a1d0-d7b4c6107baf\"}, {\"marker\": {\"color\": \"rgb(0,0,255)\", \"colorscale\": \"Viridis\", \"line\": {\"width\": 2}, \"size\": 12, \"symbol\": 3}, \"mode\": \"markers\", \"name\": \"Student_49\", \"text\": [\"Student_49\"], \"x\": [64], \"y\": [79], \"type\": \"scatter\", \"uid\": \"42843920-e411-11e8-a1d0-d7b4c6107baf\"}, {\"marker\": {\"color\": \"rgb(255,0,0)\", \"colorscale\": \"Viridis\", \"line\": {\"width\": 2}, \"size\": 12, \"symbol\": 1}, \"mode\": \"markers\", \"name\": \"Student_50\", \"text\": [\"Student_50\"], \"x\": [5], \"y\": [37], \"type\": \"scatter\", \"uid\": \"42843998-e411-11e8-a1d0-d7b4c6107baf\"}, {\"marker\": {\"color\": \"rgb(0,0,255)\", \"colorscale\": \"Viridis\", \"line\": {\"width\": 2}, \"size\": 12, \"symbol\": 3}, \"mode\": \"markers\", \"name\": \"Student_51\", \"text\": [\"Student_51\"], \"x\": [44], \"y\": [64], \"type\": \"scatter\", \"uid\": \"42843a10-e411-11e8-a1d0-d7b4c6107baf\"}, {\"marker\": {\"color\": \"rgb(255,0,0)\", \"colorscale\": \"Viridis\", \"line\": {\"width\": 2}, \"size\": 12, \"symbol\": 1}, \"mode\": \"markers\", \"name\": \"Student_52\", \"text\": [\"Student_52\"], \"x\": [6], \"y\": [7], \"type\": \"scatter\", \"uid\": \"42843a92-e411-11e8-a1d0-d7b4c6107baf\"}, {\"marker\": {\"color\": \"rgb(0,0,255)\", \"colorscale\": \"Viridis\", \"line\": {\"width\": 2}, \"size\": 12, \"symbol\": 3}, \"mode\": \"markers\", \"name\": \"Student_53\", \"text\": [\"Student_53\"], \"x\": [54], \"y\": [64], \"type\": \"scatter\", \"uid\": \"42843b0a-e411-11e8-a1d0-d7b4c6107baf\"}, {\"marker\": {\"color\": \"rgb(127,0,127)\", \"colorscale\": \"Viridis\", \"line\": {\"width\": 2}, \"size\": 12, \"symbol\": 2}, \"mode\": \"markers\", \"name\": \"Student_54\", \"text\": [\"Student_54\"], \"x\": [18], \"y\": [40], \"type\": \"scatter\", \"uid\": \"42843b78-e411-11e8-a1d0-d7b4c6107baf\"}, {\"marker\": {\"color\": \"rgb(127,0,127)\", \"colorscale\": \"Viridis\", \"line\": {\"width\": 2}, \"size\": 12, \"symbol\": 2}, \"mode\": \"markers\", \"name\": \"Student_55\", \"text\": [\"Student_55\"], \"x\": [27], \"y\": [54], \"type\": \"scatter\", \"uid\": \"42843be6-e411-11e8-a1d0-d7b4c6107baf\"}, {\"marker\": {\"color\": \"rgb(255,0,0)\", \"colorscale\": \"Viridis\", \"line\": {\"width\": 2}, \"size\": 12, \"symbol\": 1}, \"mode\": \"markers\", \"name\": \"Student_56\", \"text\": [\"Student_56\"], \"x\": [22], \"y\": [26], \"type\": \"scatter\", \"uid\": \"42843c54-e411-11e8-a1d0-d7b4c6107baf\"}, {\"marker\": {\"color\": \"rgb(0,255,0)\", \"colorscale\": \"Viridis\", \"line\": {\"width\": 2}, \"size\": 12, \"symbol\": 0}, \"mode\": \"markers\", \"name\": \"Student_57\", \"text\": [\"Student_57\"], \"x\": [80], \"y\": [86], \"type\": \"scatter\", \"uid\": \"42843ccc-e411-11e8-a1d0-d7b4c6107baf\"}, {\"marker\": {\"color\": \"rgb(0,255,0)\", \"colorscale\": \"Viridis\", \"line\": {\"width\": 2}, \"size\": 12, \"symbol\": 0}, \"mode\": \"markers\", \"name\": \"Student_58\", \"text\": [\"Student_58\"], \"x\": [70], \"y\": [74], \"type\": \"scatter\", \"uid\": \"42843d3a-e411-11e8-a1d0-d7b4c6107baf\"}, {\"marker\": {\"color\": \"rgb(0,0,255)\", \"colorscale\": \"Viridis\", \"line\": {\"width\": 2}, \"size\": 12, \"symbol\": 3}, \"mode\": \"markers\", \"name\": \"Student_59\", \"text\": [\"Student_59\"], \"x\": [44], \"y\": [70], \"type\": \"scatter\", \"uid\": \"42843da8-e411-11e8-a1d0-d7b4c6107baf\"}, {\"marker\": {\"color\": \"rgb(0,0,255)\", \"colorscale\": \"Viridis\", \"line\": {\"width\": 2}, \"size\": 12, \"symbol\": 3}, \"mode\": \"markers\", \"name\": \"Student_60\", \"text\": [\"Student_60\"], \"x\": [69], \"y\": [78], \"type\": \"scatter\", \"uid\": \"42843e16-e411-11e8-a1d0-d7b4c6107baf\"}], {\"hovermode\": \"closest\", \"showlegend\": true, \"title\": \"Notas dos estudantes vs acesso ao AVA\", \"xaxis\": {\"autorange\": false, \"fixedrange\": false, \"range\": [0, 102], \"rangemode\": \"normal\", \"showline\": true, \"title\": \"Acessos ao AVA\", \"zeroline\": false}, \"yaxis\": {\"autorange\": false, \"fixedrange\": false, \"range\": [0, 104], \"rangemode\": \"normal\", \"showline\": true, \"title\": \"Notas\"}}, {\"showLink\": true, \"linkText\": \"Export to plot.ly\"})});</script>"
      ]
     },
     "metadata": {},
     "output_type": "display_data"
    },
    {
     "data": {
      "application/vnd.plotly.v1+json": {
       "data": [
        {
         "marker": {
          "color": "rgb(255,0,0)",
          "colorscale": "Viridis",
          "line": {
           "width": 2
          },
          "size": 12,
          "symbol": 1
         },
         "mode": "markers",
         "name": "Student_1",
         "text": [
          "Student_1"
         ],
         "type": "scatter",
         "uid": "42c66476-e411-11e8-a1d0-d7b4c6107baf",
         "x": [
          4
         ],
         "y": [
          5
         ]
        },
        {
         "marker": {
          "color": "rgb(0,255,0)",
          "colorscale": "Viridis",
          "line": {
           "width": 2
          },
          "size": 12,
          "symbol": 0
         },
         "mode": "markers",
         "name": "Student_2",
         "text": [
          "Student_2"
         ],
         "type": "scatter",
         "uid": "42c6662e-e411-11e8-a1d0-d7b4c6107baf",
         "x": [
          63
         ],
         "y": [
          92
         ]
        },
        {
         "marker": {
          "color": "rgb(0,255,0)",
          "colorscale": "Viridis",
          "line": {
           "width": 2
          },
          "size": 12,
          "symbol": 0
         },
         "mode": "markers",
         "name": "Student_3",
         "text": [
          "Student_3"
         ],
         "type": "scatter",
         "uid": "42c666f6-e411-11e8-a1d0-d7b4c6107baf",
         "x": [
          52
         ],
         "y": [
          82
         ]
        },
        {
         "marker": {
          "color": "rgb(127,0,127)",
          "colorscale": "Viridis",
          "line": {
           "width": 2
          },
          "size": 12,
          "symbol": 2
         },
         "mode": "markers",
         "name": "Student_4",
         "text": [
          "Student_4"
         ],
         "type": "scatter",
         "uid": "42c667a0-e411-11e8-a1d0-d7b4c6107baf",
         "x": [
          20
         ],
         "y": [
          58
         ]
        },
        {
         "marker": {
          "color": "rgb(0,255,0)",
          "colorscale": "Viridis",
          "line": {
           "width": 2
          },
          "size": 12,
          "symbol": 0
         },
         "mode": "markers",
         "name": "Student_5",
         "text": [
          "Student_5"
         ],
         "type": "scatter",
         "uid": "42c6682c-e411-11e8-a1d0-d7b4c6107baf",
         "x": [
          42
         ],
         "y": [
          77
         ]
        },
        {
         "marker": {
          "color": "rgb(0,255,0)",
          "colorscale": "Viridis",
          "line": {
           "width": 2
          },
          "size": 12,
          "symbol": 0
         },
         "mode": "markers",
         "name": "Student_6",
         "text": [
          "Student_6"
         ],
         "type": "scatter",
         "uid": "42c668c2-e411-11e8-a1d0-d7b4c6107baf",
         "x": [
          48
         ],
         "y": [
          87
         ]
        },
        {
         "marker": {
          "color": "rgb(0,255,0)",
          "colorscale": "Viridis",
          "line": {
           "width": 2
          },
          "size": 12,
          "symbol": 0
         },
         "mode": "markers",
         "name": "Student_7",
         "text": [
          "Student_7"
         ],
         "type": "scatter",
         "uid": "42c6694e-e411-11e8-a1d0-d7b4c6107baf",
         "x": [
          35
         ],
         "y": [
          74
         ]
        },
        {
         "marker": {
          "color": "rgb(255,0,0)",
          "colorscale": "Viridis",
          "line": {
           "width": 2
          },
          "size": 12,
          "symbol": 1
         },
         "mode": "markers",
         "name": "Student_8",
         "text": [
          "Student_8"
         ],
         "type": "scatter",
         "uid": "42c669da-e411-11e8-a1d0-d7b4c6107baf",
         "x": [
          5
         ],
         "y": [
          14
         ]
        },
        {
         "marker": {
          "color": "rgb(0,0,255)",
          "colorscale": "Viridis",
          "line": {
           "width": 2
          },
          "size": 12,
          "symbol": 3
         },
         "mode": "markers",
         "name": "Student_9",
         "text": [
          "Student_9"
         ],
         "type": "scatter",
         "uid": "42c66a66-e411-11e8-a1d0-d7b4c6107baf",
         "x": [
          9
         ],
         "y": [
          59
         ]
        },
        {
         "marker": {
          "color": "rgb(127,0,127)",
          "colorscale": "Viridis",
          "line": {
           "width": 2
          },
          "size": 12,
          "symbol": 2
         },
         "mode": "markers",
         "name": "Student_10",
         "text": [
          "Student_10"
         ],
         "type": "scatter",
         "uid": "42c66ae8-e411-11e8-a1d0-d7b4c6107baf",
         "x": [
          2
         ],
         "y": [
          39
         ]
        },
        {
         "marker": {
          "color": "rgb(0,255,0)",
          "colorscale": "Viridis",
          "line": {
           "width": 2
          },
          "size": 12,
          "symbol": 0
         },
         "mode": "markers",
         "name": "Student_11",
         "text": [
          "Student_11"
         ],
         "type": "scatter",
         "uid": "42c66b74-e411-11e8-a1d0-d7b4c6107baf",
         "x": [
          71
         ],
         "y": [
          94
         ]
        },
        {
         "marker": {
          "color": "rgb(127,0,127)",
          "colorscale": "Viridis",
          "line": {
           "width": 2
          },
          "size": 12,
          "symbol": 2
         },
         "mode": "markers",
         "name": "Student_12",
         "text": [
          "Student_12"
         ],
         "type": "scatter",
         "uid": "42c66bf6-e411-11e8-a1d0-d7b4c6107baf",
         "x": [
          6
         ],
         "y": [
          43
         ]
        },
        {
         "marker": {
          "color": "rgb(127,0,127)",
          "colorscale": "Viridis",
          "line": {
           "width": 2
          },
          "size": 12,
          "symbol": 2
         },
         "mode": "markers",
         "name": "Student_13",
         "text": [
          "Student_13"
         ],
         "type": "scatter",
         "uid": "42c66c82-e411-11e8-a1d0-d7b4c6107baf",
         "x": [
          2
         ],
         "y": [
          42
         ]
        },
        {
         "marker": {
          "color": "rgb(0,0,255)",
          "colorscale": "Viridis",
          "line": {
           "width": 2
          },
          "size": 12,
          "symbol": 3
         },
         "mode": "markers",
         "name": "Student_14",
         "text": [
          "Student_14"
         ],
         "type": "scatter",
         "uid": "42c66d04-e411-11e8-a1d0-d7b4c6107baf",
         "x": [
          24
         ],
         "y": [
          67
         ]
        },
        {
         "marker": {
          "color": "rgb(127,0,127)",
          "colorscale": "Viridis",
          "line": {
           "width": 2
          },
          "size": 12,
          "symbol": 2
         },
         "mode": "markers",
         "name": "Student_15",
         "text": [
          "Student_15"
         ],
         "type": "scatter",
         "uid": "42c66d90-e411-11e8-a1d0-d7b4c6107baf",
         "x": [
          14
         ],
         "y": [
          53
         ]
        },
        {
         "marker": {
          "color": "rgb(0,0,255)",
          "colorscale": "Viridis",
          "line": {
           "width": 2
          },
          "size": 12,
          "symbol": 3
         },
         "mode": "markers",
         "name": "Student_16",
         "text": [
          "Student_16"
         ],
         "type": "scatter",
         "uid": "42c66e12-e411-11e8-a1d0-d7b4c6107baf",
         "x": [
          17
         ],
         "y": [
          63
         ]
        },
        {
         "marker": {
          "color": "rgb(0,0,255)",
          "colorscale": "Viridis",
          "line": {
           "width": 2
          },
          "size": 12,
          "symbol": 3
         },
         "mode": "markers",
         "name": "Student_17",
         "text": [
          "Student_17"
         ],
         "type": "scatter",
         "uid": "42c66e94-e411-11e8-a1d0-d7b4c6107baf",
         "x": [
          23
         ],
         "y": [
          69
         ]
        },
        {
         "marker": {
          "color": "rgb(255,0,0)",
          "colorscale": "Viridis",
          "line": {
           "width": 2
          },
          "size": 12,
          "symbol": 1
         },
         "mode": "markers",
         "name": "Student_18",
         "text": [
          "Student_18"
         ],
         "type": "scatter",
         "uid": "42c66f16-e411-11e8-a1d0-d7b4c6107baf",
         "x": [
          5
         ],
         "y": [
          31
         ]
        },
        {
         "marker": {
          "color": "rgb(0,255,0)",
          "colorscale": "Viridis",
          "line": {
           "width": 2
          },
          "size": 12,
          "symbol": 0
         },
         "mode": "markers",
         "name": "Student_19",
         "text": [
          "Student_19"
         ],
         "type": "scatter",
         "uid": "42c66fa2-e411-11e8-a1d0-d7b4c6107baf",
         "x": [
          37
         ],
         "y": [
          81
         ]
        },
        {
         "marker": {
          "color": "rgb(127,0,127)",
          "colorscale": "Viridis",
          "line": {
           "width": 2
          },
          "size": 12,
          "symbol": 2
         },
         "mode": "markers",
         "name": "Student_20",
         "text": [
          "Student_20"
         ],
         "type": "scatter",
         "uid": "42c67024-e411-11e8-a1d0-d7b4c6107baf",
         "x": [
          4
         ],
         "y": [
          46
         ]
        },
        {
         "marker": {
          "color": "rgb(255,0,0)",
          "colorscale": "Viridis",
          "line": {
           "width": 2
          },
          "size": 12,
          "symbol": 1
         },
         "mode": "markers",
         "name": "Student_21",
         "text": [
          "Student_21"
         ],
         "type": "scatter",
         "uid": "42c670b0-e411-11e8-a1d0-d7b4c6107baf",
         "x": [
          2
         ],
         "y": [
          22
         ]
        },
        {
         "marker": {
          "color": "rgb(0,0,255)",
          "colorscale": "Viridis",
          "line": {
           "width": 2
          },
          "size": 12,
          "symbol": 3
         },
         "mode": "markers",
         "name": "Student_22",
         "text": [
          "Student_22"
         ],
         "type": "scatter",
         "uid": "42c6713c-e411-11e8-a1d0-d7b4c6107baf",
         "x": [
          18
         ],
         "y": [
          56
         ]
        },
        {
         "marker": {
          "color": "rgb(0,0,255)",
          "colorscale": "Viridis",
          "line": {
           "width": 2
          },
          "size": 12,
          "symbol": 3
         },
         "mode": "markers",
         "name": "Student_23",
         "text": [
          "Student_23"
         ],
         "type": "scatter",
         "uid": "42c671c8-e411-11e8-a1d0-d7b4c6107baf",
         "x": [
          17
         ],
         "y": [
          63
         ]
        },
        {
         "marker": {
          "color": "rgb(127,0,127)",
          "colorscale": "Viridis",
          "line": {
           "width": 2
          },
          "size": 12,
          "symbol": 2
         },
         "mode": "markers",
         "name": "Student_24",
         "text": [
          "Student_24"
         ],
         "type": "scatter",
         "uid": "42c67254-e411-11e8-a1d0-d7b4c6107baf",
         "x": [
          5
         ],
         "y": [
          47
         ]
        },
        {
         "marker": {
          "color": "rgb(0,0,255)",
          "colorscale": "Viridis",
          "line": {
           "width": 2
          },
          "size": 12,
          "symbol": 3
         },
         "mode": "markers",
         "name": "Student_25",
         "text": [
          "Student_25"
         ],
         "type": "scatter",
         "uid": "42c672e0-e411-11e8-a1d0-d7b4c6107baf",
         "x": [
          47
         ],
         "y": [
          73
         ]
        },
        {
         "marker": {
          "color": "rgb(255,0,0)",
          "colorscale": "Viridis",
          "line": {
           "width": 2
          },
          "size": 12,
          "symbol": 1
         },
         "mode": "markers",
         "name": "Student_26",
         "text": [
          "Student_26"
         ],
         "type": "scatter",
         "uid": "42c6736c-e411-11e8-a1d0-d7b4c6107baf",
         "x": [
          4
         ],
         "y": [
          33
         ]
        },
        {
         "marker": {
          "color": "rgb(127,0,127)",
          "colorscale": "Viridis",
          "line": {
           "width": 2
          },
          "size": 12,
          "symbol": 2
         },
         "mode": "markers",
         "name": "Student_27",
         "text": [
          "Student_27"
         ],
         "type": "scatter",
         "uid": "42c67402-e411-11e8-a1d0-d7b4c6107baf",
         "x": [
          4
         ],
         "y": [
          50
         ]
        },
        {
         "marker": {
          "color": "rgb(127,0,127)",
          "colorscale": "Viridis",
          "line": {
           "width": 2
          },
          "size": 12,
          "symbol": 2
         },
         "mode": "markers",
         "name": "Student_28",
         "text": [
          "Student_28"
         ],
         "type": "scatter",
         "uid": "42c6748e-e411-11e8-a1d0-d7b4c6107baf",
         "x": [
          1
         ],
         "y": [
          46
         ]
        },
        {
         "marker": {
          "color": "rgb(0,0,255)",
          "colorscale": "Viridis",
          "line": {
           "width": 2
          },
          "size": 12,
          "symbol": 3
         },
         "mode": "markers",
         "name": "Student_29",
         "text": [
          "Student_29"
         ],
         "type": "scatter",
         "uid": "42c6751a-e411-11e8-a1d0-d7b4c6107baf",
         "x": [
          38
         ],
         "y": [
          76
         ]
        },
        {
         "marker": {
          "color": "rgb(0,0,255)",
          "colorscale": "Viridis",
          "line": {
           "width": 2
          },
          "size": 12,
          "symbol": 3
         },
         "mode": "markers",
         "name": "Student_30",
         "text": [
          "Student_30"
         ],
         "type": "scatter",
         "uid": "42c675a6-e411-11e8-a1d0-d7b4c6107baf",
         "x": [
          17
         ],
         "y": [
          67
         ]
        },
        {
         "marker": {
          "color": "rgb(127,0,127)",
          "colorscale": "Viridis",
          "line": {
           "width": 2
          },
          "size": 12,
          "symbol": 2
         },
         "mode": "markers",
         "name": "Student_31",
         "text": [
          "Student_31"
         ],
         "type": "scatter",
         "uid": "42c67632-e411-11e8-a1d0-d7b4c6107baf",
         "x": [
          4
         ],
         "y": [
          48
         ]
        },
        {
         "marker": {
          "color": "rgb(255,0,0)",
          "colorscale": "Viridis",
          "line": {
           "width": 2
          },
          "size": 12,
          "symbol": 1
         },
         "mode": "markers",
         "name": "Student_32",
         "text": [
          "Student_32"
         ],
         "type": "scatter",
         "uid": "42c676be-e411-11e8-a1d0-d7b4c6107baf",
         "x": [
          4
         ],
         "y": [
          22
         ]
        },
        {
         "marker": {
          "color": "rgb(0,255,0)",
          "colorscale": "Viridis",
          "line": {
           "width": 2
          },
          "size": 12,
          "symbol": 0
         },
         "mode": "markers",
         "name": "Student_33",
         "text": [
          "Student_33"
         ],
         "type": "scatter",
         "uid": "42c67740-e411-11e8-a1d0-d7b4c6107baf",
         "x": [
          40
         ],
         "y": [
          85
         ]
        },
        {
         "marker": {
          "color": "rgb(127,0,127)",
          "colorscale": "Viridis",
          "line": {
           "width": 2
          },
          "size": 12,
          "symbol": 2
         },
         "mode": "markers",
         "name": "Student_34",
         "text": [
          "Student_34"
         ],
         "type": "scatter",
         "uid": "42c677cc-e411-11e8-a1d0-d7b4c6107baf",
         "x": [
          11
         ],
         "y": [
          57
         ]
        },
        {
         "marker": {
          "color": "rgb(0,0,255)",
          "colorscale": "Viridis",
          "line": {
           "width": 2
          },
          "size": 12,
          "symbol": 3
         },
         "mode": "markers",
         "name": "Student_35",
         "text": [
          "Student_35"
         ],
         "type": "scatter",
         "uid": "42c67858-e411-11e8-a1d0-d7b4c6107baf",
         "x": [
          33
         ],
         "y": [
          65
         ]
        },
        {
         "marker": {
          "color": "rgb(0,0,255)",
          "colorscale": "Viridis",
          "line": {
           "width": 2
          },
          "size": 12,
          "symbol": 3
         },
         "mode": "markers",
         "name": "Student_36",
         "text": [
          "Student_36"
         ],
         "type": "scatter",
         "uid": "42c678ee-e411-11e8-a1d0-d7b4c6107baf",
         "x": [
          26
         ],
         "y": [
          63
         ]
        },
        {
         "marker": {
          "color": "rgb(255,0,0)",
          "colorscale": "Viridis",
          "line": {
           "width": 2
          },
          "size": 12,
          "symbol": 1
         },
         "mode": "markers",
         "name": "Student_37",
         "text": [
          "Student_37"
         ],
         "type": "scatter",
         "uid": "42c6797a-e411-11e8-a1d0-d7b4c6107baf",
         "x": [
          5
         ],
         "y": [
          36
         ]
        },
        {
         "marker": {
          "color": "rgb(127,0,127)",
          "colorscale": "Viridis",
          "line": {
           "width": 2
          },
          "size": 12,
          "symbol": 2
         },
         "mode": "markers",
         "name": "Student_38",
         "text": [
          "Student_38"
         ],
         "type": "scatter",
         "uid": "42c679fc-e411-11e8-a1d0-d7b4c6107baf",
         "x": [
          15
         ],
         "y": [
          51
         ]
        },
        {
         "marker": {
          "color": "rgb(0,255,0)",
          "colorscale": "Viridis",
          "line": {
           "width": 2
          },
          "size": 12,
          "symbol": 0
         },
         "mode": "markers",
         "name": "Student_39",
         "text": [
          "Student_39"
         ],
         "type": "scatter",
         "uid": "42c67a88-e411-11e8-a1d0-d7b4c6107baf",
         "x": [
          50
         ],
         "y": [
          88
         ]
        },
        {
         "marker": {
          "color": "rgb(255,0,0)",
          "colorscale": "Viridis",
          "line": {
           "width": 2
          },
          "size": 12,
          "symbol": 1
         },
         "mode": "markers",
         "name": "Student_40",
         "text": [
          "Student_40"
         ],
         "type": "scatter",
         "uid": "42c67b0a-e411-11e8-a1d0-d7b4c6107baf",
         "x": [
          5
         ],
         "y": [
          18
         ]
        },
        {
         "marker": {
          "color": "rgb(0,255,0)",
          "colorscale": "Viridis",
          "line": {
           "width": 2
          },
          "size": 12,
          "symbol": 0
         },
         "mode": "markers",
         "name": "Student_41",
         "text": [
          "Student_41"
         ],
         "type": "scatter",
         "uid": "42c67b96-e411-11e8-a1d0-d7b4c6107baf",
         "x": [
          76
         ],
         "y": [
          94
         ]
        },
        {
         "marker": {
          "color": "rgb(255,0,0)",
          "colorscale": "Viridis",
          "line": {
           "width": 2
          },
          "size": 12,
          "symbol": 1
         },
         "mode": "markers",
         "name": "Student_42",
         "text": [
          "Student_42"
         ],
         "type": "scatter",
         "uid": "42c67c22-e411-11e8-a1d0-d7b4c6107baf",
         "x": [
          6
         ],
         "y": [
          25
         ]
        },
        {
         "marker": {
          "color": "rgb(255,0,0)",
          "colorscale": "Viridis",
          "line": {
           "width": 2
          },
          "size": 12,
          "symbol": 1
         },
         "mode": "markers",
         "name": "Student_43",
         "text": [
          "Student_43"
         ],
         "type": "scatter",
         "uid": "42c67ca4-e411-11e8-a1d0-d7b4c6107baf",
         "x": [
          6
         ],
         "y": [
          25
         ]
        },
        {
         "marker": {
          "color": "rgb(0,0,255)",
          "colorscale": "Viridis",
          "line": {
           "width": 2
          },
          "size": 12,
          "symbol": 3
         },
         "mode": "markers",
         "name": "Student_44",
         "text": [
          "Student_44"
         ],
         "type": "scatter",
         "uid": "42c67d30-e411-11e8-a1d0-d7b4c6107baf",
         "x": [
          18
         ],
         "y": [
          70
         ]
        },
        {
         "marker": {
          "color": "rgb(127,0,127)",
          "colorscale": "Viridis",
          "line": {
           "width": 2
          },
          "size": 12,
          "symbol": 2
         },
         "mode": "markers",
         "name": "Student_45",
         "text": [
          "Student_45"
         ],
         "type": "scatter",
         "uid": "42c67db2-e411-11e8-a1d0-d7b4c6107baf",
         "x": [
          2
         ],
         "y": [
          46
         ]
        },
        {
         "marker": {
          "color": "rgb(255,0,0)",
          "colorscale": "Viridis",
          "line": {
           "width": 2
          },
          "size": 12,
          "symbol": 1
         },
         "mode": "markers",
         "name": "Student_46",
         "text": [
          "Student_46"
         ],
         "type": "scatter",
         "uid": "42c67e3e-e411-11e8-a1d0-d7b4c6107baf",
         "x": [
          3
         ],
         "y": [
          28
         ]
        },
        {
         "marker": {
          "color": "rgb(0,0,255)",
          "colorscale": "Viridis",
          "line": {
           "width": 2
          },
          "size": 12,
          "symbol": 3
         },
         "mode": "markers",
         "name": "Student_47",
         "text": [
          "Student_47"
         ],
         "type": "scatter",
         "uid": "42c67ec0-e411-11e8-a1d0-d7b4c6107baf",
         "x": [
          30
         ],
         "y": [
          68
         ]
        },
        {
         "marker": {
          "color": "rgb(127,0,127)",
          "colorscale": "Viridis",
          "line": {
           "width": 2
          },
          "size": 12,
          "symbol": 2
         },
         "mode": "markers",
         "name": "Student_48",
         "text": [
          "Student_48"
         ],
         "type": "scatter",
         "uid": "42c67f42-e411-11e8-a1d0-d7b4c6107baf",
         "x": [
          3
         ],
         "y": [
          40
         ]
        },
        {
         "marker": {
          "color": "rgb(0,0,255)",
          "colorscale": "Viridis",
          "line": {
           "width": 2
          },
          "size": 12,
          "symbol": 3
         },
         "mode": "markers",
         "name": "Student_49",
         "text": [
          "Student_49"
         ],
         "type": "scatter",
         "uid": "42c67fc4-e411-11e8-a1d0-d7b4c6107baf",
         "x": [
          38
         ],
         "y": [
          79
         ]
        },
        {
         "marker": {
          "color": "rgb(255,0,0)",
          "colorscale": "Viridis",
          "line": {
           "width": 2
          },
          "size": 12,
          "symbol": 1
         },
         "mode": "markers",
         "name": "Student_50",
         "text": [
          "Student_50"
         ],
         "type": "scatter",
         "uid": "42c68046-e411-11e8-a1d0-d7b4c6107baf",
         "x": [
          5
         ],
         "y": [
          37
         ]
        },
        {
         "marker": {
          "color": "rgb(0,0,255)",
          "colorscale": "Viridis",
          "line": {
           "width": 2
          },
          "size": 12,
          "symbol": 3
         },
         "mode": "markers",
         "name": "Student_51",
         "text": [
          "Student_51"
         ],
         "type": "scatter",
         "uid": "42c680d2-e411-11e8-a1d0-d7b4c6107baf",
         "x": [
          31
         ],
         "y": [
          64
         ]
        },
        {
         "marker": {
          "color": "rgb(255,0,0)",
          "colorscale": "Viridis",
          "line": {
           "width": 2
          },
          "size": 12,
          "symbol": 1
         },
         "mode": "markers",
         "name": "Student_52",
         "text": [
          "Student_52"
         ],
         "type": "scatter",
         "uid": "42c68154-e411-11e8-a1d0-d7b4c6107baf",
         "x": [
          6
         ],
         "y": [
          7
         ]
        },
        {
         "marker": {
          "color": "rgb(0,0,255)",
          "colorscale": "Viridis",
          "line": {
           "width": 2
          },
          "size": 12,
          "symbol": 3
         },
         "mode": "markers",
         "name": "Student_53",
         "text": [
          "Student_53"
         ],
         "type": "scatter",
         "uid": "42c681e0-e411-11e8-a1d0-d7b4c6107baf",
         "x": [
          18
         ],
         "y": [
          64
         ]
        },
        {
         "marker": {
          "color": "rgb(127,0,127)",
          "colorscale": "Viridis",
          "line": {
           "width": 2
          },
          "size": 12,
          "symbol": 2
         },
         "mode": "markers",
         "name": "Student_54",
         "text": [
          "Student_54"
         ],
         "type": "scatter",
         "uid": "42c68262-e411-11e8-a1d0-d7b4c6107baf",
         "x": [
          3
         ],
         "y": [
          40
         ]
        },
        {
         "marker": {
          "color": "rgb(127,0,127)",
          "colorscale": "Viridis",
          "line": {
           "width": 2
          },
          "size": 12,
          "symbol": 2
         },
         "mode": "markers",
         "name": "Student_55",
         "text": [
          "Student_55"
         ],
         "type": "scatter",
         "uid": "42c682e4-e411-11e8-a1d0-d7b4c6107baf",
         "x": [
          23
         ],
         "y": [
          54
         ]
        },
        {
         "marker": {
          "color": "rgb(255,0,0)",
          "colorscale": "Viridis",
          "line": {
           "width": 2
          },
          "size": 12,
          "symbol": 1
         },
         "mode": "markers",
         "name": "Student_56",
         "text": [
          "Student_56"
         ],
         "type": "scatter",
         "uid": "42c68366-e411-11e8-a1d0-d7b4c6107baf",
         "x": [
          2
         ],
         "y": [
          26
         ]
        },
        {
         "marker": {
          "color": "rgb(0,255,0)",
          "colorscale": "Viridis",
          "line": {
           "width": 2
          },
          "size": 12,
          "symbol": 0
         },
         "mode": "markers",
         "name": "Student_57",
         "text": [
          "Student_57"
         ],
         "type": "scatter",
         "uid": "42c683e8-e411-11e8-a1d0-d7b4c6107baf",
         "x": [
          41
         ],
         "y": [
          86
         ]
        },
        {
         "marker": {
          "color": "rgb(0,255,0)",
          "colorscale": "Viridis",
          "line": {
           "width": 2
          },
          "size": 12,
          "symbol": 0
         },
         "mode": "markers",
         "name": "Student_58",
         "text": [
          "Student_58"
         ],
         "type": "scatter",
         "uid": "42c6846a-e411-11e8-a1d0-d7b4c6107baf",
         "x": [
          40
         ],
         "y": [
          74
         ]
        },
        {
         "marker": {
          "color": "rgb(0,0,255)",
          "colorscale": "Viridis",
          "line": {
           "width": 2
          },
          "size": 12,
          "symbol": 3
         },
         "mode": "markers",
         "name": "Student_59",
         "text": [
          "Student_59"
         ],
         "type": "scatter",
         "uid": "42c684e2-e411-11e8-a1d0-d7b4c6107baf",
         "x": [
          22
         ],
         "y": [
          70
         ]
        },
        {
         "marker": {
          "color": "rgb(0,0,255)",
          "colorscale": "Viridis",
          "line": {
           "width": 2
          },
          "size": 12,
          "symbol": 3
         },
         "mode": "markers",
         "name": "Student_60",
         "text": [
          "Student_60"
         ],
         "type": "scatter",
         "uid": "42c6855a-e411-11e8-a1d0-d7b4c6107baf",
         "x": [
          34
         ],
         "y": [
          78
         ]
        }
       ],
       "layout": {
        "hovermode": "closest",
        "showlegend": true,
        "title": "Notas dos estudantes vs acesso aos materiais",
        "xaxis": {
         "autorange": false,
         "fixedrange": false,
         "range": [
          0,
          86
         ],
         "rangemode": "normal",
         "showline": true,
         "title": "Acesso aos materiais",
         "zeroline": false
        },
        "yaxis": {
         "autorange": false,
         "fixedrange": false,
         "range": [
          0,
          104
         ],
         "rangemode": "normal",
         "showline": true,
         "title": "Notas"
        }
       }
      },
      "text/html": [
       "<div id=\"a2d21aa2-860f-4fbf-9488-319af9b0db5e\" style=\"height: 525px; width: 100%;\" class=\"plotly-graph-div\"></div><script type=\"text/javascript\">require([\"plotly\"], function(Plotly) { window.PLOTLYENV=window.PLOTLYENV || {};window.PLOTLYENV.BASE_URL=\"https://plot.ly\";Plotly.newPlot(\"a2d21aa2-860f-4fbf-9488-319af9b0db5e\", [{\"marker\": {\"color\": \"rgb(255,0,0)\", \"colorscale\": \"Viridis\", \"line\": {\"width\": 2}, \"size\": 12, \"symbol\": 1}, \"mode\": \"markers\", \"name\": \"Student_1\", \"text\": [\"Student_1\"], \"x\": [4], \"y\": [5], \"type\": \"scatter\", \"uid\": \"42c66476-e411-11e8-a1d0-d7b4c6107baf\"}, {\"marker\": {\"color\": \"rgb(0,255,0)\", \"colorscale\": \"Viridis\", \"line\": {\"width\": 2}, \"size\": 12, \"symbol\": 0}, \"mode\": \"markers\", \"name\": \"Student_2\", \"text\": [\"Student_2\"], \"x\": [63], \"y\": [92], \"type\": \"scatter\", \"uid\": \"42c6662e-e411-11e8-a1d0-d7b4c6107baf\"}, {\"marker\": {\"color\": \"rgb(0,255,0)\", \"colorscale\": \"Viridis\", \"line\": {\"width\": 2}, \"size\": 12, \"symbol\": 0}, \"mode\": \"markers\", \"name\": \"Student_3\", \"text\": [\"Student_3\"], \"x\": [52], \"y\": [82], \"type\": \"scatter\", \"uid\": \"42c666f6-e411-11e8-a1d0-d7b4c6107baf\"}, {\"marker\": {\"color\": \"rgb(127,0,127)\", \"colorscale\": \"Viridis\", \"line\": {\"width\": 2}, \"size\": 12, \"symbol\": 2}, \"mode\": \"markers\", \"name\": \"Student_4\", \"text\": [\"Student_4\"], \"x\": [20], \"y\": [58], \"type\": \"scatter\", \"uid\": \"42c667a0-e411-11e8-a1d0-d7b4c6107baf\"}, {\"marker\": {\"color\": \"rgb(0,255,0)\", \"colorscale\": \"Viridis\", \"line\": {\"width\": 2}, \"size\": 12, \"symbol\": 0}, \"mode\": \"markers\", \"name\": \"Student_5\", \"text\": [\"Student_5\"], \"x\": [42], \"y\": [77], \"type\": \"scatter\", \"uid\": \"42c6682c-e411-11e8-a1d0-d7b4c6107baf\"}, {\"marker\": {\"color\": \"rgb(0,255,0)\", \"colorscale\": \"Viridis\", \"line\": {\"width\": 2}, \"size\": 12, \"symbol\": 0}, \"mode\": \"markers\", \"name\": \"Student_6\", \"text\": [\"Student_6\"], \"x\": [48], \"y\": [87], \"type\": \"scatter\", \"uid\": \"42c668c2-e411-11e8-a1d0-d7b4c6107baf\"}, {\"marker\": {\"color\": \"rgb(0,255,0)\", \"colorscale\": \"Viridis\", \"line\": {\"width\": 2}, \"size\": 12, \"symbol\": 0}, \"mode\": \"markers\", \"name\": \"Student_7\", \"text\": [\"Student_7\"], \"x\": [35], \"y\": [74], \"type\": \"scatter\", \"uid\": \"42c6694e-e411-11e8-a1d0-d7b4c6107baf\"}, {\"marker\": {\"color\": \"rgb(255,0,0)\", \"colorscale\": \"Viridis\", \"line\": {\"width\": 2}, \"size\": 12, \"symbol\": 1}, \"mode\": \"markers\", \"name\": \"Student_8\", \"text\": [\"Student_8\"], \"x\": [5], \"y\": [14], \"type\": \"scatter\", \"uid\": \"42c669da-e411-11e8-a1d0-d7b4c6107baf\"}, {\"marker\": {\"color\": \"rgb(0,0,255)\", \"colorscale\": \"Viridis\", \"line\": {\"width\": 2}, \"size\": 12, \"symbol\": 3}, \"mode\": \"markers\", \"name\": \"Student_9\", \"text\": [\"Student_9\"], \"x\": [9], \"y\": [59], \"type\": \"scatter\", \"uid\": \"42c66a66-e411-11e8-a1d0-d7b4c6107baf\"}, {\"marker\": {\"color\": \"rgb(127,0,127)\", \"colorscale\": \"Viridis\", \"line\": {\"width\": 2}, \"size\": 12, \"symbol\": 2}, \"mode\": \"markers\", \"name\": \"Student_10\", \"text\": [\"Student_10\"], \"x\": [2], \"y\": [39], \"type\": \"scatter\", \"uid\": \"42c66ae8-e411-11e8-a1d0-d7b4c6107baf\"}, {\"marker\": {\"color\": \"rgb(0,255,0)\", \"colorscale\": \"Viridis\", \"line\": {\"width\": 2}, \"size\": 12, \"symbol\": 0}, \"mode\": \"markers\", \"name\": \"Student_11\", \"text\": [\"Student_11\"], \"x\": [71], \"y\": [94], \"type\": \"scatter\", \"uid\": \"42c66b74-e411-11e8-a1d0-d7b4c6107baf\"}, {\"marker\": {\"color\": \"rgb(127,0,127)\", \"colorscale\": \"Viridis\", \"line\": {\"width\": 2}, \"size\": 12, \"symbol\": 2}, \"mode\": \"markers\", \"name\": \"Student_12\", \"text\": [\"Student_12\"], \"x\": [6], \"y\": [43], \"type\": \"scatter\", \"uid\": \"42c66bf6-e411-11e8-a1d0-d7b4c6107baf\"}, {\"marker\": {\"color\": \"rgb(127,0,127)\", \"colorscale\": \"Viridis\", \"line\": {\"width\": 2}, \"size\": 12, \"symbol\": 2}, \"mode\": \"markers\", \"name\": \"Student_13\", \"text\": [\"Student_13\"], \"x\": [2], \"y\": [42], \"type\": \"scatter\", \"uid\": \"42c66c82-e411-11e8-a1d0-d7b4c6107baf\"}, {\"marker\": {\"color\": \"rgb(0,0,255)\", \"colorscale\": \"Viridis\", \"line\": {\"width\": 2}, \"size\": 12, \"symbol\": 3}, \"mode\": \"markers\", \"name\": \"Student_14\", \"text\": [\"Student_14\"], \"x\": [24], \"y\": [67], \"type\": \"scatter\", \"uid\": \"42c66d04-e411-11e8-a1d0-d7b4c6107baf\"}, {\"marker\": {\"color\": \"rgb(127,0,127)\", \"colorscale\": \"Viridis\", \"line\": {\"width\": 2}, \"size\": 12, \"symbol\": 2}, \"mode\": \"markers\", \"name\": \"Student_15\", \"text\": [\"Student_15\"], \"x\": [14], \"y\": [53], \"type\": \"scatter\", \"uid\": \"42c66d90-e411-11e8-a1d0-d7b4c6107baf\"}, {\"marker\": {\"color\": \"rgb(0,0,255)\", \"colorscale\": \"Viridis\", \"line\": {\"width\": 2}, \"size\": 12, \"symbol\": 3}, \"mode\": \"markers\", \"name\": \"Student_16\", \"text\": [\"Student_16\"], \"x\": [17], \"y\": [63], \"type\": \"scatter\", \"uid\": \"42c66e12-e411-11e8-a1d0-d7b4c6107baf\"}, {\"marker\": {\"color\": \"rgb(0,0,255)\", \"colorscale\": \"Viridis\", \"line\": {\"width\": 2}, \"size\": 12, \"symbol\": 3}, \"mode\": \"markers\", \"name\": \"Student_17\", \"text\": [\"Student_17\"], \"x\": [23], \"y\": [69], \"type\": \"scatter\", \"uid\": \"42c66e94-e411-11e8-a1d0-d7b4c6107baf\"}, {\"marker\": {\"color\": \"rgb(255,0,0)\", \"colorscale\": \"Viridis\", \"line\": {\"width\": 2}, \"size\": 12, \"symbol\": 1}, \"mode\": \"markers\", \"name\": \"Student_18\", \"text\": [\"Student_18\"], \"x\": [5], \"y\": [31], \"type\": \"scatter\", \"uid\": \"42c66f16-e411-11e8-a1d0-d7b4c6107baf\"}, {\"marker\": {\"color\": \"rgb(0,255,0)\", \"colorscale\": \"Viridis\", \"line\": {\"width\": 2}, \"size\": 12, \"symbol\": 0}, \"mode\": \"markers\", \"name\": \"Student_19\", \"text\": [\"Student_19\"], \"x\": [37], \"y\": [81], \"type\": \"scatter\", \"uid\": \"42c66fa2-e411-11e8-a1d0-d7b4c6107baf\"}, {\"marker\": {\"color\": \"rgb(127,0,127)\", \"colorscale\": \"Viridis\", \"line\": {\"width\": 2}, \"size\": 12, \"symbol\": 2}, \"mode\": \"markers\", \"name\": \"Student_20\", \"text\": [\"Student_20\"], \"x\": [4], \"y\": [46], \"type\": \"scatter\", \"uid\": \"42c67024-e411-11e8-a1d0-d7b4c6107baf\"}, {\"marker\": {\"color\": \"rgb(255,0,0)\", \"colorscale\": \"Viridis\", \"line\": {\"width\": 2}, \"size\": 12, \"symbol\": 1}, \"mode\": \"markers\", \"name\": \"Student_21\", \"text\": [\"Student_21\"], \"x\": [2], \"y\": [22], \"type\": \"scatter\", \"uid\": \"42c670b0-e411-11e8-a1d0-d7b4c6107baf\"}, {\"marker\": {\"color\": \"rgb(0,0,255)\", \"colorscale\": \"Viridis\", \"line\": {\"width\": 2}, \"size\": 12, \"symbol\": 3}, \"mode\": \"markers\", \"name\": \"Student_22\", \"text\": [\"Student_22\"], \"x\": [18], \"y\": [56], \"type\": \"scatter\", \"uid\": \"42c6713c-e411-11e8-a1d0-d7b4c6107baf\"}, {\"marker\": {\"color\": \"rgb(0,0,255)\", \"colorscale\": \"Viridis\", \"line\": {\"width\": 2}, \"size\": 12, \"symbol\": 3}, \"mode\": \"markers\", \"name\": \"Student_23\", \"text\": [\"Student_23\"], \"x\": [17], \"y\": [63], \"type\": \"scatter\", \"uid\": \"42c671c8-e411-11e8-a1d0-d7b4c6107baf\"}, {\"marker\": {\"color\": \"rgb(127,0,127)\", \"colorscale\": \"Viridis\", \"line\": {\"width\": 2}, \"size\": 12, \"symbol\": 2}, \"mode\": \"markers\", \"name\": \"Student_24\", \"text\": [\"Student_24\"], \"x\": [5], \"y\": [47], \"type\": \"scatter\", \"uid\": \"42c67254-e411-11e8-a1d0-d7b4c6107baf\"}, {\"marker\": {\"color\": \"rgb(0,0,255)\", \"colorscale\": \"Viridis\", \"line\": {\"width\": 2}, \"size\": 12, \"symbol\": 3}, \"mode\": \"markers\", \"name\": \"Student_25\", \"text\": [\"Student_25\"], \"x\": [47], \"y\": [73], \"type\": \"scatter\", \"uid\": \"42c672e0-e411-11e8-a1d0-d7b4c6107baf\"}, {\"marker\": {\"color\": \"rgb(255,0,0)\", \"colorscale\": \"Viridis\", \"line\": {\"width\": 2}, \"size\": 12, \"symbol\": 1}, \"mode\": \"markers\", \"name\": \"Student_26\", \"text\": [\"Student_26\"], \"x\": [4], \"y\": [33], \"type\": \"scatter\", \"uid\": \"42c6736c-e411-11e8-a1d0-d7b4c6107baf\"}, {\"marker\": {\"color\": \"rgb(127,0,127)\", \"colorscale\": \"Viridis\", \"line\": {\"width\": 2}, \"size\": 12, \"symbol\": 2}, \"mode\": \"markers\", \"name\": \"Student_27\", \"text\": [\"Student_27\"], \"x\": [4], \"y\": [50], \"type\": \"scatter\", \"uid\": \"42c67402-e411-11e8-a1d0-d7b4c6107baf\"}, {\"marker\": {\"color\": \"rgb(127,0,127)\", \"colorscale\": \"Viridis\", \"line\": {\"width\": 2}, \"size\": 12, \"symbol\": 2}, \"mode\": \"markers\", \"name\": \"Student_28\", \"text\": [\"Student_28\"], \"x\": [1], \"y\": [46], \"type\": \"scatter\", \"uid\": \"42c6748e-e411-11e8-a1d0-d7b4c6107baf\"}, {\"marker\": {\"color\": \"rgb(0,0,255)\", \"colorscale\": \"Viridis\", \"line\": {\"width\": 2}, \"size\": 12, \"symbol\": 3}, \"mode\": \"markers\", \"name\": \"Student_29\", \"text\": [\"Student_29\"], \"x\": [38], \"y\": [76], \"type\": \"scatter\", \"uid\": \"42c6751a-e411-11e8-a1d0-d7b4c6107baf\"}, {\"marker\": {\"color\": \"rgb(0,0,255)\", \"colorscale\": \"Viridis\", \"line\": {\"width\": 2}, \"size\": 12, \"symbol\": 3}, \"mode\": \"markers\", \"name\": \"Student_30\", \"text\": [\"Student_30\"], \"x\": [17], \"y\": [67], \"type\": \"scatter\", \"uid\": \"42c675a6-e411-11e8-a1d0-d7b4c6107baf\"}, {\"marker\": {\"color\": \"rgb(127,0,127)\", \"colorscale\": \"Viridis\", \"line\": {\"width\": 2}, \"size\": 12, \"symbol\": 2}, \"mode\": \"markers\", \"name\": \"Student_31\", \"text\": [\"Student_31\"], \"x\": [4], \"y\": [48], \"type\": \"scatter\", \"uid\": \"42c67632-e411-11e8-a1d0-d7b4c6107baf\"}, {\"marker\": {\"color\": \"rgb(255,0,0)\", \"colorscale\": \"Viridis\", \"line\": {\"width\": 2}, \"size\": 12, \"symbol\": 1}, \"mode\": \"markers\", \"name\": \"Student_32\", \"text\": [\"Student_32\"], \"x\": [4], \"y\": [22], \"type\": \"scatter\", \"uid\": \"42c676be-e411-11e8-a1d0-d7b4c6107baf\"}, {\"marker\": {\"color\": \"rgb(0,255,0)\", \"colorscale\": \"Viridis\", \"line\": {\"width\": 2}, \"size\": 12, \"symbol\": 0}, \"mode\": \"markers\", \"name\": \"Student_33\", \"text\": [\"Student_33\"], \"x\": [40], \"y\": [85], \"type\": \"scatter\", \"uid\": \"42c67740-e411-11e8-a1d0-d7b4c6107baf\"}, {\"marker\": {\"color\": \"rgb(127,0,127)\", \"colorscale\": \"Viridis\", \"line\": {\"width\": 2}, \"size\": 12, \"symbol\": 2}, \"mode\": \"markers\", \"name\": \"Student_34\", \"text\": [\"Student_34\"], \"x\": [11], \"y\": [57], \"type\": \"scatter\", \"uid\": \"42c677cc-e411-11e8-a1d0-d7b4c6107baf\"}, {\"marker\": {\"color\": \"rgb(0,0,255)\", \"colorscale\": \"Viridis\", \"line\": {\"width\": 2}, \"size\": 12, \"symbol\": 3}, \"mode\": \"markers\", \"name\": \"Student_35\", \"text\": [\"Student_35\"], \"x\": [33], \"y\": [65], \"type\": \"scatter\", \"uid\": \"42c67858-e411-11e8-a1d0-d7b4c6107baf\"}, {\"marker\": {\"color\": \"rgb(0,0,255)\", \"colorscale\": \"Viridis\", \"line\": {\"width\": 2}, \"size\": 12, \"symbol\": 3}, \"mode\": \"markers\", \"name\": \"Student_36\", \"text\": [\"Student_36\"], \"x\": [26], \"y\": [63], \"type\": \"scatter\", \"uid\": \"42c678ee-e411-11e8-a1d0-d7b4c6107baf\"}, {\"marker\": {\"color\": \"rgb(255,0,0)\", \"colorscale\": \"Viridis\", \"line\": {\"width\": 2}, \"size\": 12, \"symbol\": 1}, \"mode\": \"markers\", \"name\": \"Student_37\", \"text\": [\"Student_37\"], \"x\": [5], \"y\": [36], \"type\": \"scatter\", \"uid\": \"42c6797a-e411-11e8-a1d0-d7b4c6107baf\"}, {\"marker\": {\"color\": \"rgb(127,0,127)\", \"colorscale\": \"Viridis\", \"line\": {\"width\": 2}, \"size\": 12, \"symbol\": 2}, \"mode\": \"markers\", \"name\": \"Student_38\", \"text\": [\"Student_38\"], \"x\": [15], \"y\": [51], \"type\": \"scatter\", \"uid\": \"42c679fc-e411-11e8-a1d0-d7b4c6107baf\"}, {\"marker\": {\"color\": \"rgb(0,255,0)\", \"colorscale\": \"Viridis\", \"line\": {\"width\": 2}, \"size\": 12, \"symbol\": 0}, \"mode\": \"markers\", \"name\": \"Student_39\", \"text\": [\"Student_39\"], \"x\": [50], \"y\": [88], \"type\": \"scatter\", \"uid\": \"42c67a88-e411-11e8-a1d0-d7b4c6107baf\"}, {\"marker\": {\"color\": \"rgb(255,0,0)\", \"colorscale\": \"Viridis\", \"line\": {\"width\": 2}, \"size\": 12, \"symbol\": 1}, \"mode\": \"markers\", \"name\": \"Student_40\", \"text\": [\"Student_40\"], \"x\": [5], \"y\": [18], \"type\": \"scatter\", \"uid\": \"42c67b0a-e411-11e8-a1d0-d7b4c6107baf\"}, {\"marker\": {\"color\": \"rgb(0,255,0)\", \"colorscale\": \"Viridis\", \"line\": {\"width\": 2}, \"size\": 12, \"symbol\": 0}, \"mode\": \"markers\", \"name\": \"Student_41\", \"text\": [\"Student_41\"], \"x\": [76], \"y\": [94], \"type\": \"scatter\", \"uid\": \"42c67b96-e411-11e8-a1d0-d7b4c6107baf\"}, {\"marker\": {\"color\": \"rgb(255,0,0)\", \"colorscale\": \"Viridis\", \"line\": {\"width\": 2}, \"size\": 12, \"symbol\": 1}, \"mode\": \"markers\", \"name\": \"Student_42\", \"text\": [\"Student_42\"], \"x\": [6], \"y\": [25], \"type\": \"scatter\", \"uid\": \"42c67c22-e411-11e8-a1d0-d7b4c6107baf\"}, {\"marker\": {\"color\": \"rgb(255,0,0)\", \"colorscale\": \"Viridis\", \"line\": {\"width\": 2}, \"size\": 12, \"symbol\": 1}, \"mode\": \"markers\", \"name\": \"Student_43\", \"text\": [\"Student_43\"], \"x\": [6], \"y\": [25], \"type\": \"scatter\", \"uid\": \"42c67ca4-e411-11e8-a1d0-d7b4c6107baf\"}, {\"marker\": {\"color\": \"rgb(0,0,255)\", \"colorscale\": \"Viridis\", \"line\": {\"width\": 2}, \"size\": 12, \"symbol\": 3}, \"mode\": \"markers\", \"name\": \"Student_44\", \"text\": [\"Student_44\"], \"x\": [18], \"y\": [70], \"type\": \"scatter\", \"uid\": \"42c67d30-e411-11e8-a1d0-d7b4c6107baf\"}, {\"marker\": {\"color\": \"rgb(127,0,127)\", \"colorscale\": \"Viridis\", \"line\": {\"width\": 2}, \"size\": 12, \"symbol\": 2}, \"mode\": \"markers\", \"name\": \"Student_45\", \"text\": [\"Student_45\"], \"x\": [2], \"y\": [46], \"type\": \"scatter\", \"uid\": \"42c67db2-e411-11e8-a1d0-d7b4c6107baf\"}, {\"marker\": {\"color\": \"rgb(255,0,0)\", \"colorscale\": \"Viridis\", \"line\": {\"width\": 2}, \"size\": 12, \"symbol\": 1}, \"mode\": \"markers\", \"name\": \"Student_46\", \"text\": [\"Student_46\"], \"x\": [3], \"y\": [28], \"type\": \"scatter\", \"uid\": \"42c67e3e-e411-11e8-a1d0-d7b4c6107baf\"}, {\"marker\": {\"color\": \"rgb(0,0,255)\", \"colorscale\": \"Viridis\", \"line\": {\"width\": 2}, \"size\": 12, \"symbol\": 3}, \"mode\": \"markers\", \"name\": \"Student_47\", \"text\": [\"Student_47\"], \"x\": [30], \"y\": [68], \"type\": \"scatter\", \"uid\": \"42c67ec0-e411-11e8-a1d0-d7b4c6107baf\"}, {\"marker\": {\"color\": \"rgb(127,0,127)\", \"colorscale\": \"Viridis\", \"line\": {\"width\": 2}, \"size\": 12, \"symbol\": 2}, \"mode\": \"markers\", \"name\": \"Student_48\", \"text\": [\"Student_48\"], \"x\": [3], \"y\": [40], \"type\": \"scatter\", \"uid\": \"42c67f42-e411-11e8-a1d0-d7b4c6107baf\"}, {\"marker\": {\"color\": \"rgb(0,0,255)\", \"colorscale\": \"Viridis\", \"line\": {\"width\": 2}, \"size\": 12, \"symbol\": 3}, \"mode\": \"markers\", \"name\": \"Student_49\", \"text\": [\"Student_49\"], \"x\": [38], \"y\": [79], \"type\": \"scatter\", \"uid\": \"42c67fc4-e411-11e8-a1d0-d7b4c6107baf\"}, {\"marker\": {\"color\": \"rgb(255,0,0)\", \"colorscale\": \"Viridis\", \"line\": {\"width\": 2}, \"size\": 12, \"symbol\": 1}, \"mode\": \"markers\", \"name\": \"Student_50\", \"text\": [\"Student_50\"], \"x\": [5], \"y\": [37], \"type\": \"scatter\", \"uid\": \"42c68046-e411-11e8-a1d0-d7b4c6107baf\"}, {\"marker\": {\"color\": \"rgb(0,0,255)\", \"colorscale\": \"Viridis\", \"line\": {\"width\": 2}, \"size\": 12, \"symbol\": 3}, \"mode\": \"markers\", \"name\": \"Student_51\", \"text\": [\"Student_51\"], \"x\": [31], \"y\": [64], \"type\": \"scatter\", \"uid\": \"42c680d2-e411-11e8-a1d0-d7b4c6107baf\"}, {\"marker\": {\"color\": \"rgb(255,0,0)\", \"colorscale\": \"Viridis\", \"line\": {\"width\": 2}, \"size\": 12, \"symbol\": 1}, \"mode\": \"markers\", \"name\": \"Student_52\", \"text\": [\"Student_52\"], \"x\": [6], \"y\": [7], \"type\": \"scatter\", \"uid\": \"42c68154-e411-11e8-a1d0-d7b4c6107baf\"}, {\"marker\": {\"color\": \"rgb(0,0,255)\", \"colorscale\": \"Viridis\", \"line\": {\"width\": 2}, \"size\": 12, \"symbol\": 3}, \"mode\": \"markers\", \"name\": \"Student_53\", \"text\": [\"Student_53\"], \"x\": [18], \"y\": [64], \"type\": \"scatter\", \"uid\": \"42c681e0-e411-11e8-a1d0-d7b4c6107baf\"}, {\"marker\": {\"color\": \"rgb(127,0,127)\", \"colorscale\": \"Viridis\", \"line\": {\"width\": 2}, \"size\": 12, \"symbol\": 2}, \"mode\": \"markers\", \"name\": \"Student_54\", \"text\": [\"Student_54\"], \"x\": [3], \"y\": [40], \"type\": \"scatter\", \"uid\": \"42c68262-e411-11e8-a1d0-d7b4c6107baf\"}, {\"marker\": {\"color\": \"rgb(127,0,127)\", \"colorscale\": \"Viridis\", \"line\": {\"width\": 2}, \"size\": 12, \"symbol\": 2}, \"mode\": \"markers\", \"name\": \"Student_55\", \"text\": [\"Student_55\"], \"x\": [23], \"y\": [54], \"type\": \"scatter\", \"uid\": \"42c682e4-e411-11e8-a1d0-d7b4c6107baf\"}, {\"marker\": {\"color\": \"rgb(255,0,0)\", \"colorscale\": \"Viridis\", \"line\": {\"width\": 2}, \"size\": 12, \"symbol\": 1}, \"mode\": \"markers\", \"name\": \"Student_56\", \"text\": [\"Student_56\"], \"x\": [2], \"y\": [26], \"type\": \"scatter\", \"uid\": \"42c68366-e411-11e8-a1d0-d7b4c6107baf\"}, {\"marker\": {\"color\": \"rgb(0,255,0)\", \"colorscale\": \"Viridis\", \"line\": {\"width\": 2}, \"size\": 12, \"symbol\": 0}, \"mode\": \"markers\", \"name\": \"Student_57\", \"text\": [\"Student_57\"], \"x\": [41], \"y\": [86], \"type\": \"scatter\", \"uid\": \"42c683e8-e411-11e8-a1d0-d7b4c6107baf\"}, {\"marker\": {\"color\": \"rgb(0,255,0)\", \"colorscale\": \"Viridis\", \"line\": {\"width\": 2}, \"size\": 12, \"symbol\": 0}, \"mode\": \"markers\", \"name\": \"Student_58\", \"text\": [\"Student_58\"], \"x\": [40], \"y\": [74], \"type\": \"scatter\", \"uid\": \"42c6846a-e411-11e8-a1d0-d7b4c6107baf\"}, {\"marker\": {\"color\": \"rgb(0,0,255)\", \"colorscale\": \"Viridis\", \"line\": {\"width\": 2}, \"size\": 12, \"symbol\": 3}, \"mode\": \"markers\", \"name\": \"Student_59\", \"text\": [\"Student_59\"], \"x\": [22], \"y\": [70], \"type\": \"scatter\", \"uid\": \"42c684e2-e411-11e8-a1d0-d7b4c6107baf\"}, {\"marker\": {\"color\": \"rgb(0,0,255)\", \"colorscale\": \"Viridis\", \"line\": {\"width\": 2}, \"size\": 12, \"symbol\": 3}, \"mode\": \"markers\", \"name\": \"Student_60\", \"text\": [\"Student_60\"], \"x\": [34], \"y\": [78], \"type\": \"scatter\", \"uid\": \"42c6855a-e411-11e8-a1d0-d7b4c6107baf\"}], {\"hovermode\": \"closest\", \"showlegend\": true, \"title\": \"Notas dos estudantes vs acesso aos materiais\", \"xaxis\": {\"autorange\": false, \"fixedrange\": false, \"range\": [0, 86], \"rangemode\": \"normal\", \"showline\": true, \"title\": \"Acesso aos materiais\", \"zeroline\": false}, \"yaxis\": {\"autorange\": false, \"fixedrange\": false, \"range\": [0, 104], \"rangemode\": \"normal\", \"showline\": true, \"title\": \"Notas\"}}, {\"showLink\": true, \"linkText\": \"Export to plot.ly\"})});</script>"
      ],
      "text/vnd.plotly.v1+html": [
       "<div id=\"a2d21aa2-860f-4fbf-9488-319af9b0db5e\" style=\"height: 525px; width: 100%;\" class=\"plotly-graph-div\"></div><script type=\"text/javascript\">require([\"plotly\"], function(Plotly) { window.PLOTLYENV=window.PLOTLYENV || {};window.PLOTLYENV.BASE_URL=\"https://plot.ly\";Plotly.newPlot(\"a2d21aa2-860f-4fbf-9488-319af9b0db5e\", [{\"marker\": {\"color\": \"rgb(255,0,0)\", \"colorscale\": \"Viridis\", \"line\": {\"width\": 2}, \"size\": 12, \"symbol\": 1}, \"mode\": \"markers\", \"name\": \"Student_1\", \"text\": [\"Student_1\"], \"x\": [4], \"y\": [5], \"type\": \"scatter\", \"uid\": \"42c66476-e411-11e8-a1d0-d7b4c6107baf\"}, {\"marker\": {\"color\": \"rgb(0,255,0)\", \"colorscale\": \"Viridis\", \"line\": {\"width\": 2}, \"size\": 12, \"symbol\": 0}, \"mode\": \"markers\", \"name\": \"Student_2\", \"text\": [\"Student_2\"], \"x\": [63], \"y\": [92], \"type\": \"scatter\", \"uid\": \"42c6662e-e411-11e8-a1d0-d7b4c6107baf\"}, {\"marker\": {\"color\": \"rgb(0,255,0)\", \"colorscale\": \"Viridis\", \"line\": {\"width\": 2}, \"size\": 12, \"symbol\": 0}, \"mode\": \"markers\", \"name\": \"Student_3\", \"text\": [\"Student_3\"], \"x\": [52], \"y\": [82], \"type\": \"scatter\", \"uid\": \"42c666f6-e411-11e8-a1d0-d7b4c6107baf\"}, {\"marker\": {\"color\": \"rgb(127,0,127)\", \"colorscale\": \"Viridis\", \"line\": {\"width\": 2}, \"size\": 12, \"symbol\": 2}, \"mode\": \"markers\", \"name\": \"Student_4\", \"text\": [\"Student_4\"], \"x\": [20], \"y\": [58], \"type\": \"scatter\", \"uid\": \"42c667a0-e411-11e8-a1d0-d7b4c6107baf\"}, {\"marker\": {\"color\": \"rgb(0,255,0)\", \"colorscale\": \"Viridis\", \"line\": {\"width\": 2}, \"size\": 12, \"symbol\": 0}, \"mode\": \"markers\", \"name\": \"Student_5\", \"text\": [\"Student_5\"], \"x\": [42], \"y\": [77], \"type\": \"scatter\", \"uid\": \"42c6682c-e411-11e8-a1d0-d7b4c6107baf\"}, {\"marker\": {\"color\": \"rgb(0,255,0)\", \"colorscale\": \"Viridis\", \"line\": {\"width\": 2}, \"size\": 12, \"symbol\": 0}, \"mode\": \"markers\", \"name\": \"Student_6\", \"text\": [\"Student_6\"], \"x\": [48], \"y\": [87], \"type\": \"scatter\", \"uid\": \"42c668c2-e411-11e8-a1d0-d7b4c6107baf\"}, {\"marker\": {\"color\": \"rgb(0,255,0)\", \"colorscale\": \"Viridis\", \"line\": {\"width\": 2}, \"size\": 12, \"symbol\": 0}, \"mode\": \"markers\", \"name\": \"Student_7\", \"text\": [\"Student_7\"], \"x\": [35], \"y\": [74], \"type\": \"scatter\", \"uid\": \"42c6694e-e411-11e8-a1d0-d7b4c6107baf\"}, {\"marker\": {\"color\": \"rgb(255,0,0)\", \"colorscale\": \"Viridis\", \"line\": {\"width\": 2}, \"size\": 12, \"symbol\": 1}, \"mode\": \"markers\", \"name\": \"Student_8\", \"text\": [\"Student_8\"], \"x\": [5], \"y\": [14], \"type\": \"scatter\", \"uid\": \"42c669da-e411-11e8-a1d0-d7b4c6107baf\"}, {\"marker\": {\"color\": \"rgb(0,0,255)\", \"colorscale\": \"Viridis\", \"line\": {\"width\": 2}, \"size\": 12, \"symbol\": 3}, \"mode\": \"markers\", \"name\": \"Student_9\", \"text\": [\"Student_9\"], \"x\": [9], \"y\": [59], \"type\": \"scatter\", \"uid\": \"42c66a66-e411-11e8-a1d0-d7b4c6107baf\"}, {\"marker\": {\"color\": \"rgb(127,0,127)\", \"colorscale\": \"Viridis\", \"line\": {\"width\": 2}, \"size\": 12, \"symbol\": 2}, \"mode\": \"markers\", \"name\": \"Student_10\", \"text\": [\"Student_10\"], \"x\": [2], \"y\": [39], \"type\": \"scatter\", \"uid\": \"42c66ae8-e411-11e8-a1d0-d7b4c6107baf\"}, {\"marker\": {\"color\": \"rgb(0,255,0)\", \"colorscale\": \"Viridis\", \"line\": {\"width\": 2}, \"size\": 12, \"symbol\": 0}, \"mode\": \"markers\", \"name\": \"Student_11\", \"text\": [\"Student_11\"], \"x\": [71], \"y\": [94], \"type\": \"scatter\", \"uid\": \"42c66b74-e411-11e8-a1d0-d7b4c6107baf\"}, {\"marker\": {\"color\": \"rgb(127,0,127)\", \"colorscale\": \"Viridis\", \"line\": {\"width\": 2}, \"size\": 12, \"symbol\": 2}, \"mode\": \"markers\", \"name\": \"Student_12\", \"text\": [\"Student_12\"], \"x\": [6], \"y\": [43], \"type\": \"scatter\", \"uid\": \"42c66bf6-e411-11e8-a1d0-d7b4c6107baf\"}, {\"marker\": {\"color\": \"rgb(127,0,127)\", \"colorscale\": \"Viridis\", \"line\": {\"width\": 2}, \"size\": 12, \"symbol\": 2}, \"mode\": \"markers\", \"name\": \"Student_13\", \"text\": [\"Student_13\"], \"x\": [2], \"y\": [42], \"type\": \"scatter\", \"uid\": \"42c66c82-e411-11e8-a1d0-d7b4c6107baf\"}, {\"marker\": {\"color\": \"rgb(0,0,255)\", \"colorscale\": \"Viridis\", \"line\": {\"width\": 2}, \"size\": 12, \"symbol\": 3}, \"mode\": \"markers\", \"name\": \"Student_14\", \"text\": [\"Student_14\"], \"x\": [24], \"y\": [67], \"type\": \"scatter\", \"uid\": \"42c66d04-e411-11e8-a1d0-d7b4c6107baf\"}, {\"marker\": {\"color\": \"rgb(127,0,127)\", \"colorscale\": \"Viridis\", \"line\": {\"width\": 2}, \"size\": 12, \"symbol\": 2}, \"mode\": \"markers\", \"name\": \"Student_15\", \"text\": [\"Student_15\"], \"x\": [14], \"y\": [53], \"type\": \"scatter\", \"uid\": \"42c66d90-e411-11e8-a1d0-d7b4c6107baf\"}, {\"marker\": {\"color\": \"rgb(0,0,255)\", \"colorscale\": \"Viridis\", \"line\": {\"width\": 2}, \"size\": 12, \"symbol\": 3}, \"mode\": \"markers\", \"name\": \"Student_16\", \"text\": [\"Student_16\"], \"x\": [17], \"y\": [63], \"type\": \"scatter\", \"uid\": \"42c66e12-e411-11e8-a1d0-d7b4c6107baf\"}, {\"marker\": {\"color\": \"rgb(0,0,255)\", \"colorscale\": \"Viridis\", \"line\": {\"width\": 2}, \"size\": 12, \"symbol\": 3}, \"mode\": \"markers\", \"name\": \"Student_17\", \"text\": [\"Student_17\"], \"x\": [23], \"y\": [69], \"type\": \"scatter\", \"uid\": \"42c66e94-e411-11e8-a1d0-d7b4c6107baf\"}, {\"marker\": {\"color\": \"rgb(255,0,0)\", \"colorscale\": \"Viridis\", \"line\": {\"width\": 2}, \"size\": 12, \"symbol\": 1}, \"mode\": \"markers\", \"name\": \"Student_18\", \"text\": [\"Student_18\"], \"x\": [5], \"y\": [31], \"type\": \"scatter\", \"uid\": \"42c66f16-e411-11e8-a1d0-d7b4c6107baf\"}, {\"marker\": {\"color\": \"rgb(0,255,0)\", \"colorscale\": \"Viridis\", \"line\": {\"width\": 2}, \"size\": 12, \"symbol\": 0}, \"mode\": \"markers\", \"name\": \"Student_19\", \"text\": [\"Student_19\"], \"x\": [37], \"y\": [81], \"type\": \"scatter\", \"uid\": \"42c66fa2-e411-11e8-a1d0-d7b4c6107baf\"}, {\"marker\": {\"color\": \"rgb(127,0,127)\", \"colorscale\": \"Viridis\", \"line\": {\"width\": 2}, \"size\": 12, \"symbol\": 2}, \"mode\": \"markers\", \"name\": \"Student_20\", \"text\": [\"Student_20\"], \"x\": [4], \"y\": [46], \"type\": \"scatter\", \"uid\": \"42c67024-e411-11e8-a1d0-d7b4c6107baf\"}, {\"marker\": {\"color\": \"rgb(255,0,0)\", \"colorscale\": \"Viridis\", \"line\": {\"width\": 2}, \"size\": 12, \"symbol\": 1}, \"mode\": \"markers\", \"name\": \"Student_21\", \"text\": [\"Student_21\"], \"x\": [2], \"y\": [22], \"type\": \"scatter\", \"uid\": \"42c670b0-e411-11e8-a1d0-d7b4c6107baf\"}, {\"marker\": {\"color\": \"rgb(0,0,255)\", \"colorscale\": \"Viridis\", \"line\": {\"width\": 2}, \"size\": 12, \"symbol\": 3}, \"mode\": \"markers\", \"name\": \"Student_22\", \"text\": [\"Student_22\"], \"x\": [18], \"y\": [56], \"type\": \"scatter\", \"uid\": \"42c6713c-e411-11e8-a1d0-d7b4c6107baf\"}, {\"marker\": {\"color\": \"rgb(0,0,255)\", \"colorscale\": \"Viridis\", \"line\": {\"width\": 2}, \"size\": 12, \"symbol\": 3}, \"mode\": \"markers\", \"name\": \"Student_23\", \"text\": [\"Student_23\"], \"x\": [17], \"y\": [63], \"type\": \"scatter\", \"uid\": \"42c671c8-e411-11e8-a1d0-d7b4c6107baf\"}, {\"marker\": {\"color\": \"rgb(127,0,127)\", \"colorscale\": \"Viridis\", \"line\": {\"width\": 2}, \"size\": 12, \"symbol\": 2}, \"mode\": \"markers\", \"name\": \"Student_24\", \"text\": [\"Student_24\"], \"x\": [5], \"y\": [47], \"type\": \"scatter\", \"uid\": \"42c67254-e411-11e8-a1d0-d7b4c6107baf\"}, {\"marker\": {\"color\": \"rgb(0,0,255)\", \"colorscale\": \"Viridis\", \"line\": {\"width\": 2}, \"size\": 12, \"symbol\": 3}, \"mode\": \"markers\", \"name\": \"Student_25\", \"text\": [\"Student_25\"], \"x\": [47], \"y\": [73], \"type\": \"scatter\", \"uid\": \"42c672e0-e411-11e8-a1d0-d7b4c6107baf\"}, {\"marker\": {\"color\": \"rgb(255,0,0)\", \"colorscale\": \"Viridis\", \"line\": {\"width\": 2}, \"size\": 12, \"symbol\": 1}, \"mode\": \"markers\", \"name\": \"Student_26\", \"text\": [\"Student_26\"], \"x\": [4], \"y\": [33], \"type\": \"scatter\", \"uid\": \"42c6736c-e411-11e8-a1d0-d7b4c6107baf\"}, {\"marker\": {\"color\": \"rgb(127,0,127)\", \"colorscale\": \"Viridis\", \"line\": {\"width\": 2}, \"size\": 12, \"symbol\": 2}, \"mode\": \"markers\", \"name\": \"Student_27\", \"text\": [\"Student_27\"], \"x\": [4], \"y\": [50], \"type\": \"scatter\", \"uid\": \"42c67402-e411-11e8-a1d0-d7b4c6107baf\"}, {\"marker\": {\"color\": \"rgb(127,0,127)\", \"colorscale\": \"Viridis\", \"line\": {\"width\": 2}, \"size\": 12, \"symbol\": 2}, \"mode\": \"markers\", \"name\": \"Student_28\", \"text\": [\"Student_28\"], \"x\": [1], \"y\": [46], \"type\": \"scatter\", \"uid\": \"42c6748e-e411-11e8-a1d0-d7b4c6107baf\"}, {\"marker\": {\"color\": \"rgb(0,0,255)\", \"colorscale\": \"Viridis\", \"line\": {\"width\": 2}, \"size\": 12, \"symbol\": 3}, \"mode\": \"markers\", \"name\": \"Student_29\", \"text\": [\"Student_29\"], \"x\": [38], \"y\": [76], \"type\": \"scatter\", \"uid\": \"42c6751a-e411-11e8-a1d0-d7b4c6107baf\"}, {\"marker\": {\"color\": \"rgb(0,0,255)\", \"colorscale\": \"Viridis\", \"line\": {\"width\": 2}, \"size\": 12, \"symbol\": 3}, \"mode\": \"markers\", \"name\": \"Student_30\", \"text\": [\"Student_30\"], \"x\": [17], \"y\": [67], \"type\": \"scatter\", \"uid\": \"42c675a6-e411-11e8-a1d0-d7b4c6107baf\"}, {\"marker\": {\"color\": \"rgb(127,0,127)\", \"colorscale\": \"Viridis\", \"line\": {\"width\": 2}, \"size\": 12, \"symbol\": 2}, \"mode\": \"markers\", \"name\": \"Student_31\", \"text\": [\"Student_31\"], \"x\": [4], \"y\": [48], \"type\": \"scatter\", \"uid\": \"42c67632-e411-11e8-a1d0-d7b4c6107baf\"}, {\"marker\": {\"color\": \"rgb(255,0,0)\", \"colorscale\": \"Viridis\", \"line\": {\"width\": 2}, \"size\": 12, \"symbol\": 1}, \"mode\": \"markers\", \"name\": \"Student_32\", \"text\": [\"Student_32\"], \"x\": [4], \"y\": [22], \"type\": \"scatter\", \"uid\": \"42c676be-e411-11e8-a1d0-d7b4c6107baf\"}, {\"marker\": {\"color\": \"rgb(0,255,0)\", \"colorscale\": \"Viridis\", \"line\": {\"width\": 2}, \"size\": 12, \"symbol\": 0}, \"mode\": \"markers\", \"name\": \"Student_33\", \"text\": [\"Student_33\"], \"x\": [40], \"y\": [85], \"type\": \"scatter\", \"uid\": \"42c67740-e411-11e8-a1d0-d7b4c6107baf\"}, {\"marker\": {\"color\": \"rgb(127,0,127)\", \"colorscale\": \"Viridis\", \"line\": {\"width\": 2}, \"size\": 12, \"symbol\": 2}, \"mode\": \"markers\", \"name\": \"Student_34\", \"text\": [\"Student_34\"], \"x\": [11], \"y\": [57], \"type\": \"scatter\", \"uid\": \"42c677cc-e411-11e8-a1d0-d7b4c6107baf\"}, {\"marker\": {\"color\": \"rgb(0,0,255)\", \"colorscale\": \"Viridis\", \"line\": {\"width\": 2}, \"size\": 12, \"symbol\": 3}, \"mode\": \"markers\", \"name\": \"Student_35\", \"text\": [\"Student_35\"], \"x\": [33], \"y\": [65], \"type\": \"scatter\", \"uid\": \"42c67858-e411-11e8-a1d0-d7b4c6107baf\"}, {\"marker\": {\"color\": \"rgb(0,0,255)\", \"colorscale\": \"Viridis\", \"line\": {\"width\": 2}, \"size\": 12, \"symbol\": 3}, \"mode\": \"markers\", \"name\": \"Student_36\", \"text\": [\"Student_36\"], \"x\": [26], \"y\": [63], \"type\": \"scatter\", \"uid\": \"42c678ee-e411-11e8-a1d0-d7b4c6107baf\"}, {\"marker\": {\"color\": \"rgb(255,0,0)\", \"colorscale\": \"Viridis\", \"line\": {\"width\": 2}, \"size\": 12, \"symbol\": 1}, \"mode\": \"markers\", \"name\": \"Student_37\", \"text\": [\"Student_37\"], \"x\": [5], \"y\": [36], \"type\": \"scatter\", \"uid\": \"42c6797a-e411-11e8-a1d0-d7b4c6107baf\"}, {\"marker\": {\"color\": \"rgb(127,0,127)\", \"colorscale\": \"Viridis\", \"line\": {\"width\": 2}, \"size\": 12, \"symbol\": 2}, \"mode\": \"markers\", \"name\": \"Student_38\", \"text\": [\"Student_38\"], \"x\": [15], \"y\": [51], \"type\": \"scatter\", \"uid\": \"42c679fc-e411-11e8-a1d0-d7b4c6107baf\"}, {\"marker\": {\"color\": \"rgb(0,255,0)\", \"colorscale\": \"Viridis\", \"line\": {\"width\": 2}, \"size\": 12, \"symbol\": 0}, \"mode\": \"markers\", \"name\": \"Student_39\", \"text\": [\"Student_39\"], \"x\": [50], \"y\": [88], \"type\": \"scatter\", \"uid\": \"42c67a88-e411-11e8-a1d0-d7b4c6107baf\"}, {\"marker\": {\"color\": \"rgb(255,0,0)\", \"colorscale\": \"Viridis\", \"line\": {\"width\": 2}, \"size\": 12, \"symbol\": 1}, \"mode\": \"markers\", \"name\": \"Student_40\", \"text\": [\"Student_40\"], \"x\": [5], \"y\": [18], \"type\": \"scatter\", \"uid\": \"42c67b0a-e411-11e8-a1d0-d7b4c6107baf\"}, {\"marker\": {\"color\": \"rgb(0,255,0)\", \"colorscale\": \"Viridis\", \"line\": {\"width\": 2}, \"size\": 12, \"symbol\": 0}, \"mode\": \"markers\", \"name\": \"Student_41\", \"text\": [\"Student_41\"], \"x\": [76], \"y\": [94], \"type\": \"scatter\", \"uid\": \"42c67b96-e411-11e8-a1d0-d7b4c6107baf\"}, {\"marker\": {\"color\": \"rgb(255,0,0)\", \"colorscale\": \"Viridis\", \"line\": {\"width\": 2}, \"size\": 12, \"symbol\": 1}, \"mode\": \"markers\", \"name\": \"Student_42\", \"text\": [\"Student_42\"], \"x\": [6], \"y\": [25], \"type\": \"scatter\", \"uid\": \"42c67c22-e411-11e8-a1d0-d7b4c6107baf\"}, {\"marker\": {\"color\": \"rgb(255,0,0)\", \"colorscale\": \"Viridis\", \"line\": {\"width\": 2}, \"size\": 12, \"symbol\": 1}, \"mode\": \"markers\", \"name\": \"Student_43\", \"text\": [\"Student_43\"], \"x\": [6], \"y\": [25], \"type\": \"scatter\", \"uid\": \"42c67ca4-e411-11e8-a1d0-d7b4c6107baf\"}, {\"marker\": {\"color\": \"rgb(0,0,255)\", \"colorscale\": \"Viridis\", \"line\": {\"width\": 2}, \"size\": 12, \"symbol\": 3}, \"mode\": \"markers\", \"name\": \"Student_44\", \"text\": [\"Student_44\"], \"x\": [18], \"y\": [70], \"type\": \"scatter\", \"uid\": \"42c67d30-e411-11e8-a1d0-d7b4c6107baf\"}, {\"marker\": {\"color\": \"rgb(127,0,127)\", \"colorscale\": \"Viridis\", \"line\": {\"width\": 2}, \"size\": 12, \"symbol\": 2}, \"mode\": \"markers\", \"name\": \"Student_45\", \"text\": [\"Student_45\"], \"x\": [2], \"y\": [46], \"type\": \"scatter\", \"uid\": \"42c67db2-e411-11e8-a1d0-d7b4c6107baf\"}, {\"marker\": {\"color\": \"rgb(255,0,0)\", \"colorscale\": \"Viridis\", \"line\": {\"width\": 2}, \"size\": 12, \"symbol\": 1}, \"mode\": \"markers\", \"name\": \"Student_46\", \"text\": [\"Student_46\"], \"x\": [3], \"y\": [28], \"type\": \"scatter\", \"uid\": \"42c67e3e-e411-11e8-a1d0-d7b4c6107baf\"}, {\"marker\": {\"color\": \"rgb(0,0,255)\", \"colorscale\": \"Viridis\", \"line\": {\"width\": 2}, \"size\": 12, \"symbol\": 3}, \"mode\": \"markers\", \"name\": \"Student_47\", \"text\": [\"Student_47\"], \"x\": [30], \"y\": [68], \"type\": \"scatter\", \"uid\": \"42c67ec0-e411-11e8-a1d0-d7b4c6107baf\"}, {\"marker\": {\"color\": \"rgb(127,0,127)\", \"colorscale\": \"Viridis\", \"line\": {\"width\": 2}, \"size\": 12, \"symbol\": 2}, \"mode\": \"markers\", \"name\": \"Student_48\", \"text\": [\"Student_48\"], \"x\": [3], \"y\": [40], \"type\": \"scatter\", \"uid\": \"42c67f42-e411-11e8-a1d0-d7b4c6107baf\"}, {\"marker\": {\"color\": \"rgb(0,0,255)\", \"colorscale\": \"Viridis\", \"line\": {\"width\": 2}, \"size\": 12, \"symbol\": 3}, \"mode\": \"markers\", \"name\": \"Student_49\", \"text\": [\"Student_49\"], \"x\": [38], \"y\": [79], \"type\": \"scatter\", \"uid\": \"42c67fc4-e411-11e8-a1d0-d7b4c6107baf\"}, {\"marker\": {\"color\": \"rgb(255,0,0)\", \"colorscale\": \"Viridis\", \"line\": {\"width\": 2}, \"size\": 12, \"symbol\": 1}, \"mode\": \"markers\", \"name\": \"Student_50\", \"text\": [\"Student_50\"], \"x\": [5], \"y\": [37], \"type\": \"scatter\", \"uid\": \"42c68046-e411-11e8-a1d0-d7b4c6107baf\"}, {\"marker\": {\"color\": \"rgb(0,0,255)\", \"colorscale\": \"Viridis\", \"line\": {\"width\": 2}, \"size\": 12, \"symbol\": 3}, \"mode\": \"markers\", \"name\": \"Student_51\", \"text\": [\"Student_51\"], \"x\": [31], \"y\": [64], \"type\": \"scatter\", \"uid\": \"42c680d2-e411-11e8-a1d0-d7b4c6107baf\"}, {\"marker\": {\"color\": \"rgb(255,0,0)\", \"colorscale\": \"Viridis\", \"line\": {\"width\": 2}, \"size\": 12, \"symbol\": 1}, \"mode\": \"markers\", \"name\": \"Student_52\", \"text\": [\"Student_52\"], \"x\": [6], \"y\": [7], \"type\": \"scatter\", \"uid\": \"42c68154-e411-11e8-a1d0-d7b4c6107baf\"}, {\"marker\": {\"color\": \"rgb(0,0,255)\", \"colorscale\": \"Viridis\", \"line\": {\"width\": 2}, \"size\": 12, \"symbol\": 3}, \"mode\": \"markers\", \"name\": \"Student_53\", \"text\": [\"Student_53\"], \"x\": [18], \"y\": [64], \"type\": \"scatter\", \"uid\": \"42c681e0-e411-11e8-a1d0-d7b4c6107baf\"}, {\"marker\": {\"color\": \"rgb(127,0,127)\", \"colorscale\": \"Viridis\", \"line\": {\"width\": 2}, \"size\": 12, \"symbol\": 2}, \"mode\": \"markers\", \"name\": \"Student_54\", \"text\": [\"Student_54\"], \"x\": [3], \"y\": [40], \"type\": \"scatter\", \"uid\": \"42c68262-e411-11e8-a1d0-d7b4c6107baf\"}, {\"marker\": {\"color\": \"rgb(127,0,127)\", \"colorscale\": \"Viridis\", \"line\": {\"width\": 2}, \"size\": 12, \"symbol\": 2}, \"mode\": \"markers\", \"name\": \"Student_55\", \"text\": [\"Student_55\"], \"x\": [23], \"y\": [54], \"type\": \"scatter\", \"uid\": \"42c682e4-e411-11e8-a1d0-d7b4c6107baf\"}, {\"marker\": {\"color\": \"rgb(255,0,0)\", \"colorscale\": \"Viridis\", \"line\": {\"width\": 2}, \"size\": 12, \"symbol\": 1}, \"mode\": \"markers\", \"name\": \"Student_56\", \"text\": [\"Student_56\"], \"x\": [2], \"y\": [26], \"type\": \"scatter\", \"uid\": \"42c68366-e411-11e8-a1d0-d7b4c6107baf\"}, {\"marker\": {\"color\": \"rgb(0,255,0)\", \"colorscale\": \"Viridis\", \"line\": {\"width\": 2}, \"size\": 12, \"symbol\": 0}, \"mode\": \"markers\", \"name\": \"Student_57\", \"text\": [\"Student_57\"], \"x\": [41], \"y\": [86], \"type\": \"scatter\", \"uid\": \"42c683e8-e411-11e8-a1d0-d7b4c6107baf\"}, {\"marker\": {\"color\": \"rgb(0,255,0)\", \"colorscale\": \"Viridis\", \"line\": {\"width\": 2}, \"size\": 12, \"symbol\": 0}, \"mode\": \"markers\", \"name\": \"Student_58\", \"text\": [\"Student_58\"], \"x\": [40], \"y\": [74], \"type\": \"scatter\", \"uid\": \"42c6846a-e411-11e8-a1d0-d7b4c6107baf\"}, {\"marker\": {\"color\": \"rgb(0,0,255)\", \"colorscale\": \"Viridis\", \"line\": {\"width\": 2}, \"size\": 12, \"symbol\": 3}, \"mode\": \"markers\", \"name\": \"Student_59\", \"text\": [\"Student_59\"], \"x\": [22], \"y\": [70], \"type\": \"scatter\", \"uid\": \"42c684e2-e411-11e8-a1d0-d7b4c6107baf\"}, {\"marker\": {\"color\": \"rgb(0,0,255)\", \"colorscale\": \"Viridis\", \"line\": {\"width\": 2}, \"size\": 12, \"symbol\": 3}, \"mode\": \"markers\", \"name\": \"Student_60\", \"text\": [\"Student_60\"], \"x\": [34], \"y\": [78], \"type\": \"scatter\", \"uid\": \"42c6855a-e411-11e8-a1d0-d7b4c6107baf\"}], {\"hovermode\": \"closest\", \"showlegend\": true, \"title\": \"Notas dos estudantes vs acesso aos materiais\", \"xaxis\": {\"autorange\": false, \"fixedrange\": false, \"range\": [0, 86], \"rangemode\": \"normal\", \"showline\": true, \"title\": \"Acesso aos materiais\", \"zeroline\": false}, \"yaxis\": {\"autorange\": false, \"fixedrange\": false, \"range\": [0, 104], \"rangemode\": \"normal\", \"showline\": true, \"title\": \"Notas\"}}, {\"showLink\": true, \"linkText\": \"Export to plot.ly\"})});</script>"
      ]
     },
     "metadata": {},
     "output_type": "display_data"
    },
    {
     "data": {
      "application/vnd.plotly.v1+json": {
       "data": [
        {
         "marker": {
          "color": "rgb(255,0,0)",
          "colorscale": "Viridis",
          "line": {
           "width": 2
          },
          "size": 12,
          "symbol": 1
         },
         "mode": "markers",
         "name": "Student_1",
         "text": [
          "Student_1"
         ],
         "type": "scatter",
         "uid": "4302fc24-e411-11e8-a1d0-d7b4c6107baf",
         "x": [
          0
         ],
         "y": [
          5
         ]
        },
        {
         "marker": {
          "color": "rgb(0,255,0)",
          "colorscale": "Viridis",
          "line": {
           "width": 2
          },
          "size": 12,
          "symbol": 0
         },
         "mode": "markers",
         "name": "Student_2",
         "text": [
          "Student_2"
         ],
         "type": "scatter",
         "uid": "4302fdaa-e411-11e8-a1d0-d7b4c6107baf",
         "x": [
          4
         ],
         "y": [
          92
         ]
        },
        {
         "marker": {
          "color": "rgb(0,255,0)",
          "colorscale": "Viridis",
          "line": {
           "width": 2
          },
          "size": 12,
          "symbol": 0
         },
         "mode": "markers",
         "name": "Student_3",
         "text": [
          "Student_3"
         ],
         "type": "scatter",
         "uid": "4302fe68-e411-11e8-a1d0-d7b4c6107baf",
         "x": [
          4
         ],
         "y": [
          82
         ]
        },
        {
         "marker": {
          "color": "rgb(127,0,127)",
          "colorscale": "Viridis",
          "line": {
           "width": 2
          },
          "size": 12,
          "symbol": 2
         },
         "mode": "markers",
         "name": "Student_4",
         "text": [
          "Student_4"
         ],
         "type": "scatter",
         "uid": "4302fefe-e411-11e8-a1d0-d7b4c6107baf",
         "x": [
          2
         ],
         "y": [
          58
         ]
        },
        {
         "marker": {
          "color": "rgb(0,255,0)",
          "colorscale": "Viridis",
          "line": {
           "width": 2
          },
          "size": 12,
          "symbol": 0
         },
         "mode": "markers",
         "name": "Student_5",
         "text": [
          "Student_5"
         ],
         "type": "scatter",
         "uid": "4302ff8a-e411-11e8-a1d0-d7b4c6107baf",
         "x": [
          2
         ],
         "y": [
          77
         ]
        },
        {
         "marker": {
          "color": "rgb(0,255,0)",
          "colorscale": "Viridis",
          "line": {
           "width": 2
          },
          "size": 12,
          "symbol": 0
         },
         "mode": "markers",
         "name": "Student_6",
         "text": [
          "Student_6"
         ],
         "type": "scatter",
         "uid": "4303000c-e411-11e8-a1d0-d7b4c6107baf",
         "x": [
          4
         ],
         "y": [
          87
         ]
        },
        {
         "marker": {
          "color": "rgb(0,255,0)",
          "colorscale": "Viridis",
          "line": {
           "width": 2
          },
          "size": 12,
          "symbol": 0
         },
         "mode": "markers",
         "name": "Student_7",
         "text": [
          "Student_7"
         ],
         "type": "scatter",
         "uid": "4303008e-e411-11e8-a1d0-d7b4c6107baf",
         "x": [
          4
         ],
         "y": [
          74
         ]
        },
        {
         "marker": {
          "color": "rgb(255,0,0)",
          "colorscale": "Viridis",
          "line": {
           "width": 2
          },
          "size": 12,
          "symbol": 1
         },
         "mode": "markers",
         "name": "Student_8",
         "text": [
          "Student_8"
         ],
         "type": "scatter",
         "uid": "43030110-e411-11e8-a1d0-d7b4c6107baf",
         "x": [
          0
         ],
         "y": [
          14
         ]
        },
        {
         "marker": {
          "color": "rgb(0,0,255)",
          "colorscale": "Viridis",
          "line": {
           "width": 2
          },
          "size": 12,
          "symbol": 3
         },
         "mode": "markers",
         "name": "Student_9",
         "text": [
          "Student_9"
         ],
         "type": "scatter",
         "uid": "43030192-e411-11e8-a1d0-d7b4c6107baf",
         "x": [
          2
         ],
         "y": [
          59
         ]
        },
        {
         "marker": {
          "color": "rgb(127,0,127)",
          "colorscale": "Viridis",
          "line": {
           "width": 2
          },
          "size": 12,
          "symbol": 2
         },
         "mode": "markers",
         "name": "Student_10",
         "text": [
          "Student_10"
         ],
         "type": "scatter",
         "uid": "4303020a-e411-11e8-a1d0-d7b4c6107baf",
         "x": [
          0
         ],
         "y": [
          39
         ]
        },
        {
         "marker": {
          "color": "rgb(0,255,0)",
          "colorscale": "Viridis",
          "line": {
           "width": 2
          },
          "size": 12,
          "symbol": 0
         },
         "mode": "markers",
         "name": "Student_11",
         "text": [
          "Student_11"
         ],
         "type": "scatter",
         "uid": "43030282-e411-11e8-a1d0-d7b4c6107baf",
         "x": [
          4
         ],
         "y": [
          94
         ]
        },
        {
         "marker": {
          "color": "rgb(127,0,127)",
          "colorscale": "Viridis",
          "line": {
           "width": 2
          },
          "size": 12,
          "symbol": 2
         },
         "mode": "markers",
         "name": "Student_12",
         "text": [
          "Student_12"
         ],
         "type": "scatter",
         "uid": "43030304-e411-11e8-a1d0-d7b4c6107baf",
         "x": [
          0
         ],
         "y": [
          43
         ]
        },
        {
         "marker": {
          "color": "rgb(127,0,127)",
          "colorscale": "Viridis",
          "line": {
           "width": 2
          },
          "size": 12,
          "symbol": 2
         },
         "mode": "markers",
         "name": "Student_13",
         "text": [
          "Student_13"
         ],
         "type": "scatter",
         "uid": "43030386-e411-11e8-a1d0-d7b4c6107baf",
         "x": [
          0
         ],
         "y": [
          42
         ]
        },
        {
         "marker": {
          "color": "rgb(0,0,255)",
          "colorscale": "Viridis",
          "line": {
           "width": 2
          },
          "size": 12,
          "symbol": 3
         },
         "mode": "markers",
         "name": "Student_14",
         "text": [
          "Student_14"
         ],
         "type": "scatter",
         "uid": "43030408-e411-11e8-a1d0-d7b4c6107baf",
         "x": [
          3
         ],
         "y": [
          67
         ]
        },
        {
         "marker": {
          "color": "rgb(127,0,127)",
          "colorscale": "Viridis",
          "line": {
           "width": 2
          },
          "size": 12,
          "symbol": 2
         },
         "mode": "markers",
         "name": "Student_15",
         "text": [
          "Student_15"
         ],
         "type": "scatter",
         "uid": "43030480-e411-11e8-a1d0-d7b4c6107baf",
         "x": [
          4
         ],
         "y": [
          53
         ]
        },
        {
         "marker": {
          "color": "rgb(0,0,255)",
          "colorscale": "Viridis",
          "line": {
           "width": 2
          },
          "size": 12,
          "symbol": 3
         },
         "mode": "markers",
         "name": "Student_16",
         "text": [
          "Student_16"
         ],
         "type": "scatter",
         "uid": "430304f8-e411-11e8-a1d0-d7b4c6107baf",
         "x": [
          4
         ],
         "y": [
          63
         ]
        },
        {
         "marker": {
          "color": "rgb(0,0,255)",
          "colorscale": "Viridis",
          "line": {
           "width": 2
          },
          "size": 12,
          "symbol": 3
         },
         "mode": "markers",
         "name": "Student_17",
         "text": [
          "Student_17"
         ],
         "type": "scatter",
         "uid": "4303057a-e411-11e8-a1d0-d7b4c6107baf",
         "x": [
          3
         ],
         "y": [
          69
         ]
        },
        {
         "marker": {
          "color": "rgb(255,0,0)",
          "colorscale": "Viridis",
          "line": {
           "width": 2
          },
          "size": 12,
          "symbol": 1
         },
         "mode": "markers",
         "name": "Student_18",
         "text": [
          "Student_18"
         ],
         "type": "scatter",
         "uid": "430305f2-e411-11e8-a1d0-d7b4c6107baf",
         "x": [
          0
         ],
         "y": [
          31
         ]
        },
        {
         "marker": {
          "color": "rgb(0,255,0)",
          "colorscale": "Viridis",
          "line": {
           "width": 2
          },
          "size": 12,
          "symbol": 0
         },
         "mode": "markers",
         "name": "Student_19",
         "text": [
          "Student_19"
         ],
         "type": "scatter",
         "uid": "4303066a-e411-11e8-a1d0-d7b4c6107baf",
         "x": [
          3
         ],
         "y": [
          81
         ]
        },
        {
         "marker": {
          "color": "rgb(127,0,127)",
          "colorscale": "Viridis",
          "line": {
           "width": 2
          },
          "size": 12,
          "symbol": 2
         },
         "mode": "markers",
         "name": "Student_20",
         "text": [
          "Student_20"
         ],
         "type": "scatter",
         "uid": "430306e2-e411-11e8-a1d0-d7b4c6107baf",
         "x": [
          0
         ],
         "y": [
          46
         ]
        },
        {
         "marker": {
          "color": "rgb(255,0,0)",
          "colorscale": "Viridis",
          "line": {
           "width": 2
          },
          "size": 12,
          "symbol": 1
         },
         "mode": "markers",
         "name": "Student_21",
         "text": [
          "Student_21"
         ],
         "type": "scatter",
         "uid": "43030764-e411-11e8-a1d0-d7b4c6107baf",
         "x": [
          0
         ],
         "y": [
          22
         ]
        },
        {
         "marker": {
          "color": "rgb(0,0,255)",
          "colorscale": "Viridis",
          "line": {
           "width": 2
          },
          "size": 12,
          "symbol": 3
         },
         "mode": "markers",
         "name": "Student_22",
         "text": [
          "Student_22"
         ],
         "type": "scatter",
         "uid": "430307dc-e411-11e8-a1d0-d7b4c6107baf",
         "x": [
          2
         ],
         "y": [
          56
         ]
        },
        {
         "marker": {
          "color": "rgb(0,0,255)",
          "colorscale": "Viridis",
          "line": {
           "width": 2
          },
          "size": 12,
          "symbol": 3
         },
         "mode": "markers",
         "name": "Student_23",
         "text": [
          "Student_23"
         ],
         "type": "scatter",
         "uid": "43030854-e411-11e8-a1d0-d7b4c6107baf",
         "x": [
          3
         ],
         "y": [
          63
         ]
        },
        {
         "marker": {
          "color": "rgb(127,0,127)",
          "colorscale": "Viridis",
          "line": {
           "width": 2
          },
          "size": 12,
          "symbol": 2
         },
         "mode": "markers",
         "name": "Student_24",
         "text": [
          "Student_24"
         ],
         "type": "scatter",
         "uid": "430308d6-e411-11e8-a1d0-d7b4c6107baf",
         "x": [
          0
         ],
         "y": [
          47
         ]
        },
        {
         "marker": {
          "color": "rgb(0,0,255)",
          "colorscale": "Viridis",
          "line": {
           "width": 2
          },
          "size": 12,
          "symbol": 3
         },
         "mode": "markers",
         "name": "Student_25",
         "text": [
          "Student_25"
         ],
         "type": "scatter",
         "uid": "4303094e-e411-11e8-a1d0-d7b4c6107baf",
         "x": [
          3
         ],
         "y": [
          73
         ]
        },
        {
         "marker": {
          "color": "rgb(255,0,0)",
          "colorscale": "Viridis",
          "line": {
           "width": 2
          },
          "size": 12,
          "symbol": 1
         },
         "mode": "markers",
         "name": "Student_26",
         "text": [
          "Student_26"
         ],
         "type": "scatter",
         "uid": "430309c6-e411-11e8-a1d0-d7b4c6107baf",
         "x": [
          0
         ],
         "y": [
          33
         ]
        },
        {
         "marker": {
          "color": "rgb(127,0,127)",
          "colorscale": "Viridis",
          "line": {
           "width": 2
          },
          "size": 12,
          "symbol": 2
         },
         "mode": "markers",
         "name": "Student_27",
         "text": [
          "Student_27"
         ],
         "type": "scatter",
         "uid": "43030a3e-e411-11e8-a1d0-d7b4c6107baf",
         "x": [
          0
         ],
         "y": [
          50
         ]
        },
        {
         "marker": {
          "color": "rgb(127,0,127)",
          "colorscale": "Viridis",
          "line": {
           "width": 2
          },
          "size": 12,
          "symbol": 2
         },
         "mode": "markers",
         "name": "Student_28",
         "text": [
          "Student_28"
         ],
         "type": "scatter",
         "uid": "43030ac0-e411-11e8-a1d0-d7b4c6107baf",
         "x": [
          0
         ],
         "y": [
          46
         ]
        },
        {
         "marker": {
          "color": "rgb(0,0,255)",
          "colorscale": "Viridis",
          "line": {
           "width": 2
          },
          "size": 12,
          "symbol": 3
         },
         "mode": "markers",
         "name": "Student_29",
         "text": [
          "Student_29"
         ],
         "type": "scatter",
         "uid": "43030b38-e411-11e8-a1d0-d7b4c6107baf",
         "x": [
          4
         ],
         "y": [
          76
         ]
        },
        {
         "marker": {
          "color": "rgb(0,0,255)",
          "colorscale": "Viridis",
          "line": {
           "width": 2
          },
          "size": 12,
          "symbol": 3
         },
         "mode": "markers",
         "name": "Student_30",
         "text": [
          "Student_30"
         ],
         "type": "scatter",
         "uid": "43030bb0-e411-11e8-a1d0-d7b4c6107baf",
         "x": [
          3
         ],
         "y": [
          67
         ]
        },
        {
         "marker": {
          "color": "rgb(127,0,127)",
          "colorscale": "Viridis",
          "line": {
           "width": 2
          },
          "size": 12,
          "symbol": 2
         },
         "mode": "markers",
         "name": "Student_31",
         "text": [
          "Student_31"
         ],
         "type": "scatter",
         "uid": "43030c28-e411-11e8-a1d0-d7b4c6107baf",
         "x": [
          0
         ],
         "y": [
          48
         ]
        },
        {
         "marker": {
          "color": "rgb(255,0,0)",
          "colorscale": "Viridis",
          "line": {
           "width": 2
          },
          "size": 12,
          "symbol": 1
         },
         "mode": "markers",
         "name": "Student_32",
         "text": [
          "Student_32"
         ],
         "type": "scatter",
         "uid": "43030caa-e411-11e8-a1d0-d7b4c6107baf",
         "x": [
          0
         ],
         "y": [
          22
         ]
        },
        {
         "marker": {
          "color": "rgb(0,255,0)",
          "colorscale": "Viridis",
          "line": {
           "width": 2
          },
          "size": 12,
          "symbol": 0
         },
         "mode": "markers",
         "name": "Student_33",
         "text": [
          "Student_33"
         ],
         "type": "scatter",
         "uid": "43030d22-e411-11e8-a1d0-d7b4c6107baf",
         "x": [
          4
         ],
         "y": [
          85
         ]
        },
        {
         "marker": {
          "color": "rgb(127,0,127)",
          "colorscale": "Viridis",
          "line": {
           "width": 2
          },
          "size": 12,
          "symbol": 2
         },
         "mode": "markers",
         "name": "Student_34",
         "text": [
          "Student_34"
         ],
         "type": "scatter",
         "uid": "43030d9a-e411-11e8-a1d0-d7b4c6107baf",
         "x": [
          2
         ],
         "y": [
          57
         ]
        },
        {
         "marker": {
          "color": "rgb(0,0,255)",
          "colorscale": "Viridis",
          "line": {
           "width": 2
          },
          "size": 12,
          "symbol": 3
         },
         "mode": "markers",
         "name": "Student_35",
         "text": [
          "Student_35"
         ],
         "type": "scatter",
         "uid": "43030e1c-e411-11e8-a1d0-d7b4c6107baf",
         "x": [
          3
         ],
         "y": [
          65
         ]
        },
        {
         "marker": {
          "color": "rgb(0,0,255)",
          "colorscale": "Viridis",
          "line": {
           "width": 2
          },
          "size": 12,
          "symbol": 3
         },
         "mode": "markers",
         "name": "Student_36",
         "text": [
          "Student_36"
         ],
         "type": "scatter",
         "uid": "43030e9e-e411-11e8-a1d0-d7b4c6107baf",
         "x": [
          4
         ],
         "y": [
          63
         ]
        },
        {
         "marker": {
          "color": "rgb(255,0,0)",
          "colorscale": "Viridis",
          "line": {
           "width": 2
          },
          "size": 12,
          "symbol": 1
         },
         "mode": "markers",
         "name": "Student_37",
         "text": [
          "Student_37"
         ],
         "type": "scatter",
         "uid": "43030f20-e411-11e8-a1d0-d7b4c6107baf",
         "x": [
          0
         ],
         "y": [
          36
         ]
        },
        {
         "marker": {
          "color": "rgb(127,0,127)",
          "colorscale": "Viridis",
          "line": {
           "width": 2
          },
          "size": 12,
          "symbol": 2
         },
         "mode": "markers",
         "name": "Student_38",
         "text": [
          "Student_38"
         ],
         "type": "scatter",
         "uid": "43030f98-e411-11e8-a1d0-d7b4c6107baf",
         "x": [
          3
         ],
         "y": [
          51
         ]
        },
        {
         "marker": {
          "color": "rgb(0,255,0)",
          "colorscale": "Viridis",
          "line": {
           "width": 2
          },
          "size": 12,
          "symbol": 0
         },
         "mode": "markers",
         "name": "Student_39",
         "text": [
          "Student_39"
         ],
         "type": "scatter",
         "uid": "4303101a-e411-11e8-a1d0-d7b4c6107baf",
         "x": [
          3
         ],
         "y": [
          88
         ]
        },
        {
         "marker": {
          "color": "rgb(255,0,0)",
          "colorscale": "Viridis",
          "line": {
           "width": 2
          },
          "size": 12,
          "symbol": 1
         },
         "mode": "markers",
         "name": "Student_40",
         "text": [
          "Student_40"
         ],
         "type": "scatter",
         "uid": "43031092-e411-11e8-a1d0-d7b4c6107baf",
         "x": [
          0
         ],
         "y": [
          18
         ]
        },
        {
         "marker": {
          "color": "rgb(0,255,0)",
          "colorscale": "Viridis",
          "line": {
           "width": 2
          },
          "size": 12,
          "symbol": 0
         },
         "mode": "markers",
         "name": "Student_41",
         "text": [
          "Student_41"
         ],
         "type": "scatter",
         "uid": "4303110a-e411-11e8-a1d0-d7b4c6107baf",
         "x": [
          4
         ],
         "y": [
          94
         ]
        },
        {
         "marker": {
          "color": "rgb(255,0,0)",
          "colorscale": "Viridis",
          "line": {
           "width": 2
          },
          "size": 12,
          "symbol": 1
         },
         "mode": "markers",
         "name": "Student_42",
         "text": [
          "Student_42"
         ],
         "type": "scatter",
         "uid": "43031182-e411-11e8-a1d0-d7b4c6107baf",
         "x": [
          0
         ],
         "y": [
          25
         ]
        },
        {
         "marker": {
          "color": "rgb(255,0,0)",
          "colorscale": "Viridis",
          "line": {
           "width": 2
          },
          "size": 12,
          "symbol": 1
         },
         "mode": "markers",
         "name": "Student_43",
         "text": [
          "Student_43"
         ],
         "type": "scatter",
         "uid": "43031204-e411-11e8-a1d0-d7b4c6107baf",
         "x": [
          0
         ],
         "y": [
          25
         ]
        },
        {
         "marker": {
          "color": "rgb(0,0,255)",
          "colorscale": "Viridis",
          "line": {
           "width": 2
          },
          "size": 12,
          "symbol": 3
         },
         "mode": "markers",
         "name": "Student_44",
         "text": [
          "Student_44"
         ],
         "type": "scatter",
         "uid": "43031286-e411-11e8-a1d0-d7b4c6107baf",
         "x": [
          2
         ],
         "y": [
          70
         ]
        },
        {
         "marker": {
          "color": "rgb(127,0,127)",
          "colorscale": "Viridis",
          "line": {
           "width": 2
          },
          "size": 12,
          "symbol": 2
         },
         "mode": "markers",
         "name": "Student_45",
         "text": [
          "Student_45"
         ],
         "type": "scatter",
         "uid": "430312fe-e411-11e8-a1d0-d7b4c6107baf",
         "x": [
          0
         ],
         "y": [
          46
         ]
        },
        {
         "marker": {
          "color": "rgb(255,0,0)",
          "colorscale": "Viridis",
          "line": {
           "width": 2
          },
          "size": 12,
          "symbol": 1
         },
         "mode": "markers",
         "name": "Student_46",
         "text": [
          "Student_46"
         ],
         "type": "scatter",
         "uid": "43031380-e411-11e8-a1d0-d7b4c6107baf",
         "x": [
          0
         ],
         "y": [
          28
         ]
        },
        {
         "marker": {
          "color": "rgb(0,0,255)",
          "colorscale": "Viridis",
          "line": {
           "width": 2
          },
          "size": 12,
          "symbol": 3
         },
         "mode": "markers",
         "name": "Student_47",
         "text": [
          "Student_47"
         ],
         "type": "scatter",
         "uid": "430313ee-e411-11e8-a1d0-d7b4c6107baf",
         "x": [
          4
         ],
         "y": [
          68
         ]
        },
        {
         "marker": {
          "color": "rgb(127,0,127)",
          "colorscale": "Viridis",
          "line": {
           "width": 2
          },
          "size": 12,
          "symbol": 2
         },
         "mode": "markers",
         "name": "Student_48",
         "text": [
          "Student_48"
         ],
         "type": "scatter",
         "uid": "43031470-e411-11e8-a1d0-d7b4c6107baf",
         "x": [
          0
         ],
         "y": [
          40
         ]
        },
        {
         "marker": {
          "color": "rgb(0,0,255)",
          "colorscale": "Viridis",
          "line": {
           "width": 2
          },
          "size": 12,
          "symbol": 3
         },
         "mode": "markers",
         "name": "Student_49",
         "text": [
          "Student_49"
         ],
         "type": "scatter",
         "uid": "430314e8-e411-11e8-a1d0-d7b4c6107baf",
         "x": [
          4
         ],
         "y": [
          79
         ]
        },
        {
         "marker": {
          "color": "rgb(255,0,0)",
          "colorscale": "Viridis",
          "line": {
           "width": 2
          },
          "size": 12,
          "symbol": 1
         },
         "mode": "markers",
         "name": "Student_50",
         "text": [
          "Student_50"
         ],
         "type": "scatter",
         "uid": "43031560-e411-11e8-a1d0-d7b4c6107baf",
         "x": [
          0
         ],
         "y": [
          37
         ]
        },
        {
         "marker": {
          "color": "rgb(0,0,255)",
          "colorscale": "Viridis",
          "line": {
           "width": 2
          },
          "size": 12,
          "symbol": 3
         },
         "mode": "markers",
         "name": "Student_51",
         "text": [
          "Student_51"
         ],
         "type": "scatter",
         "uid": "430315ce-e411-11e8-a1d0-d7b4c6107baf",
         "x": [
          2
         ],
         "y": [
          64
         ]
        },
        {
         "marker": {
          "color": "rgb(255,0,0)",
          "colorscale": "Viridis",
          "line": {
           "width": 2
          },
          "size": 12,
          "symbol": 1
         },
         "mode": "markers",
         "name": "Student_52",
         "text": [
          "Student_52"
         ],
         "type": "scatter",
         "uid": "43031650-e411-11e8-a1d0-d7b4c6107baf",
         "x": [
          0
         ],
         "y": [
          7
         ]
        },
        {
         "marker": {
          "color": "rgb(0,0,255)",
          "colorscale": "Viridis",
          "line": {
           "width": 2
          },
          "size": 12,
          "symbol": 3
         },
         "mode": "markers",
         "name": "Student_53",
         "text": [
          "Student_53"
         ],
         "type": "scatter",
         "uid": "430316be-e411-11e8-a1d0-d7b4c6107baf",
         "x": [
          3
         ],
         "y": [
          64
         ]
        },
        {
         "marker": {
          "color": "rgb(127,0,127)",
          "colorscale": "Viridis",
          "line": {
           "width": 2
          },
          "size": 12,
          "symbol": 2
         },
         "mode": "markers",
         "name": "Student_54",
         "text": [
          "Student_54"
         ],
         "type": "scatter",
         "uid": "43031736-e411-11e8-a1d0-d7b4c6107baf",
         "x": [
          0
         ],
         "y": [
          40
         ]
        },
        {
         "marker": {
          "color": "rgb(127,0,127)",
          "colorscale": "Viridis",
          "line": {
           "width": 2
          },
          "size": 12,
          "symbol": 2
         },
         "mode": "markers",
         "name": "Student_55",
         "text": [
          "Student_55"
         ],
         "type": "scatter",
         "uid": "430317a4-e411-11e8-a1d0-d7b4c6107baf",
         "x": [
          4
         ],
         "y": [
          54
         ]
        },
        {
         "marker": {
          "color": "rgb(255,0,0)",
          "colorscale": "Viridis",
          "line": {
           "width": 2
          },
          "size": 12,
          "symbol": 1
         },
         "mode": "markers",
         "name": "Student_56",
         "text": [
          "Student_56"
         ],
         "type": "scatter",
         "uid": "43031812-e411-11e8-a1d0-d7b4c6107baf",
         "x": [
          0
         ],
         "y": [
          26
         ]
        },
        {
         "marker": {
          "color": "rgb(0,255,0)",
          "colorscale": "Viridis",
          "line": {
           "width": 2
          },
          "size": 12,
          "symbol": 0
         },
         "mode": "markers",
         "name": "Student_57",
         "text": [
          "Student_57"
         ],
         "type": "scatter",
         "uid": "43031880-e411-11e8-a1d0-d7b4c6107baf",
         "x": [
          4
         ],
         "y": [
          86
         ]
        },
        {
         "marker": {
          "color": "rgb(0,255,0)",
          "colorscale": "Viridis",
          "line": {
           "width": 2
          },
          "size": 12,
          "symbol": 0
         },
         "mode": "markers",
         "name": "Student_58",
         "text": [
          "Student_58"
         ],
         "type": "scatter",
         "uid": "430318ee-e411-11e8-a1d0-d7b4c6107baf",
         "x": [
          4
         ],
         "y": [
          74
         ]
        },
        {
         "marker": {
          "color": "rgb(0,0,255)",
          "colorscale": "Viridis",
          "line": {
           "width": 2
          },
          "size": 12,
          "symbol": 3
         },
         "mode": "markers",
         "name": "Student_59",
         "text": [
          "Student_59"
         ],
         "type": "scatter",
         "uid": "4303195c-e411-11e8-a1d0-d7b4c6107baf",
         "x": [
          3
         ],
         "y": [
          70
         ]
        },
        {
         "marker": {
          "color": "rgb(0,0,255)",
          "colorscale": "Viridis",
          "line": {
           "width": 2
          },
          "size": 12,
          "symbol": 3
         },
         "mode": "markers",
         "name": "Student_60",
         "text": [
          "Student_60"
         ],
         "type": "scatter",
         "uid": "430319ca-e411-11e8-a1d0-d7b4c6107baf",
         "x": [
          4
         ],
         "y": [
          78
         ]
        }
       ],
       "layout": {
        "hovermode": "closest",
        "showlegend": true,
        "title": "Notas dos estudantes vs atividades respondidas",
        "xaxis": {
         "autorange": false,
         "fixedrange": false,
         "range": [
          0,
          14
         ],
         "rangemode": "normal",
         "showline": true,
         "title": "Atividades respondidas",
         "zeroline": false
        },
        "yaxis": {
         "autorange": false,
         "fixedrange": false,
         "range": [
          0,
          104
         ],
         "rangemode": "normal",
         "showline": true,
         "title": "Notas"
        }
       }
      },
      "text/html": [
       "<div id=\"31aa4ce9-66b4-447d-a3dc-4227f920ead0\" style=\"height: 525px; width: 100%;\" class=\"plotly-graph-div\"></div><script type=\"text/javascript\">require([\"plotly\"], function(Plotly) { window.PLOTLYENV=window.PLOTLYENV || {};window.PLOTLYENV.BASE_URL=\"https://plot.ly\";Plotly.newPlot(\"31aa4ce9-66b4-447d-a3dc-4227f920ead0\", [{\"marker\": {\"color\": \"rgb(255,0,0)\", \"colorscale\": \"Viridis\", \"line\": {\"width\": 2}, \"size\": 12, \"symbol\": 1}, \"mode\": \"markers\", \"name\": \"Student_1\", \"text\": [\"Student_1\"], \"x\": [0], \"y\": [5], \"type\": \"scatter\", \"uid\": \"4302fc24-e411-11e8-a1d0-d7b4c6107baf\"}, {\"marker\": {\"color\": \"rgb(0,255,0)\", \"colorscale\": \"Viridis\", \"line\": {\"width\": 2}, \"size\": 12, \"symbol\": 0}, \"mode\": \"markers\", \"name\": \"Student_2\", \"text\": [\"Student_2\"], \"x\": [4], \"y\": [92], \"type\": \"scatter\", \"uid\": \"4302fdaa-e411-11e8-a1d0-d7b4c6107baf\"}, {\"marker\": {\"color\": \"rgb(0,255,0)\", \"colorscale\": \"Viridis\", \"line\": {\"width\": 2}, \"size\": 12, \"symbol\": 0}, \"mode\": \"markers\", \"name\": \"Student_3\", \"text\": [\"Student_3\"], \"x\": [4], \"y\": [82], \"type\": \"scatter\", \"uid\": \"4302fe68-e411-11e8-a1d0-d7b4c6107baf\"}, {\"marker\": {\"color\": \"rgb(127,0,127)\", \"colorscale\": \"Viridis\", \"line\": {\"width\": 2}, \"size\": 12, \"symbol\": 2}, \"mode\": \"markers\", \"name\": \"Student_4\", \"text\": [\"Student_4\"], \"x\": [2], \"y\": [58], \"type\": \"scatter\", \"uid\": \"4302fefe-e411-11e8-a1d0-d7b4c6107baf\"}, {\"marker\": {\"color\": \"rgb(0,255,0)\", \"colorscale\": \"Viridis\", \"line\": {\"width\": 2}, \"size\": 12, \"symbol\": 0}, \"mode\": \"markers\", \"name\": \"Student_5\", \"text\": [\"Student_5\"], \"x\": [2], \"y\": [77], \"type\": \"scatter\", \"uid\": \"4302ff8a-e411-11e8-a1d0-d7b4c6107baf\"}, {\"marker\": {\"color\": \"rgb(0,255,0)\", \"colorscale\": \"Viridis\", \"line\": {\"width\": 2}, \"size\": 12, \"symbol\": 0}, \"mode\": \"markers\", \"name\": \"Student_6\", \"text\": [\"Student_6\"], \"x\": [4], \"y\": [87], \"type\": \"scatter\", \"uid\": \"4303000c-e411-11e8-a1d0-d7b4c6107baf\"}, {\"marker\": {\"color\": \"rgb(0,255,0)\", \"colorscale\": \"Viridis\", \"line\": {\"width\": 2}, \"size\": 12, \"symbol\": 0}, \"mode\": \"markers\", \"name\": \"Student_7\", \"text\": [\"Student_7\"], \"x\": [4], \"y\": [74], \"type\": \"scatter\", \"uid\": \"4303008e-e411-11e8-a1d0-d7b4c6107baf\"}, {\"marker\": {\"color\": \"rgb(255,0,0)\", \"colorscale\": \"Viridis\", \"line\": {\"width\": 2}, \"size\": 12, \"symbol\": 1}, \"mode\": \"markers\", \"name\": \"Student_8\", \"text\": [\"Student_8\"], \"x\": [0], \"y\": [14], \"type\": \"scatter\", \"uid\": \"43030110-e411-11e8-a1d0-d7b4c6107baf\"}, {\"marker\": {\"color\": \"rgb(0,0,255)\", \"colorscale\": \"Viridis\", \"line\": {\"width\": 2}, \"size\": 12, \"symbol\": 3}, \"mode\": \"markers\", \"name\": \"Student_9\", \"text\": [\"Student_9\"], \"x\": [2], \"y\": [59], \"type\": \"scatter\", \"uid\": \"43030192-e411-11e8-a1d0-d7b4c6107baf\"}, {\"marker\": {\"color\": \"rgb(127,0,127)\", \"colorscale\": \"Viridis\", \"line\": {\"width\": 2}, \"size\": 12, \"symbol\": 2}, \"mode\": \"markers\", \"name\": \"Student_10\", \"text\": [\"Student_10\"], \"x\": [0], \"y\": [39], \"type\": \"scatter\", \"uid\": \"4303020a-e411-11e8-a1d0-d7b4c6107baf\"}, {\"marker\": {\"color\": \"rgb(0,255,0)\", \"colorscale\": \"Viridis\", \"line\": {\"width\": 2}, \"size\": 12, \"symbol\": 0}, \"mode\": \"markers\", \"name\": \"Student_11\", \"text\": [\"Student_11\"], \"x\": [4], \"y\": [94], \"type\": \"scatter\", \"uid\": \"43030282-e411-11e8-a1d0-d7b4c6107baf\"}, {\"marker\": {\"color\": \"rgb(127,0,127)\", \"colorscale\": \"Viridis\", \"line\": {\"width\": 2}, \"size\": 12, \"symbol\": 2}, \"mode\": \"markers\", \"name\": \"Student_12\", \"text\": [\"Student_12\"], \"x\": [0], \"y\": [43], \"type\": \"scatter\", \"uid\": \"43030304-e411-11e8-a1d0-d7b4c6107baf\"}, {\"marker\": {\"color\": \"rgb(127,0,127)\", \"colorscale\": \"Viridis\", \"line\": {\"width\": 2}, \"size\": 12, \"symbol\": 2}, \"mode\": \"markers\", \"name\": \"Student_13\", \"text\": [\"Student_13\"], \"x\": [0], \"y\": [42], \"type\": \"scatter\", \"uid\": \"43030386-e411-11e8-a1d0-d7b4c6107baf\"}, {\"marker\": {\"color\": \"rgb(0,0,255)\", \"colorscale\": \"Viridis\", \"line\": {\"width\": 2}, \"size\": 12, \"symbol\": 3}, \"mode\": \"markers\", \"name\": \"Student_14\", \"text\": [\"Student_14\"], \"x\": [3], \"y\": [67], \"type\": \"scatter\", \"uid\": \"43030408-e411-11e8-a1d0-d7b4c6107baf\"}, {\"marker\": {\"color\": \"rgb(127,0,127)\", \"colorscale\": \"Viridis\", \"line\": {\"width\": 2}, \"size\": 12, \"symbol\": 2}, \"mode\": \"markers\", \"name\": \"Student_15\", \"text\": [\"Student_15\"], \"x\": [4], \"y\": [53], \"type\": \"scatter\", \"uid\": \"43030480-e411-11e8-a1d0-d7b4c6107baf\"}, {\"marker\": {\"color\": \"rgb(0,0,255)\", \"colorscale\": \"Viridis\", \"line\": {\"width\": 2}, \"size\": 12, \"symbol\": 3}, \"mode\": \"markers\", \"name\": \"Student_16\", \"text\": [\"Student_16\"], \"x\": [4], \"y\": [63], \"type\": \"scatter\", \"uid\": \"430304f8-e411-11e8-a1d0-d7b4c6107baf\"}, {\"marker\": {\"color\": \"rgb(0,0,255)\", \"colorscale\": \"Viridis\", \"line\": {\"width\": 2}, \"size\": 12, \"symbol\": 3}, \"mode\": \"markers\", \"name\": \"Student_17\", \"text\": [\"Student_17\"], \"x\": [3], \"y\": [69], \"type\": \"scatter\", \"uid\": \"4303057a-e411-11e8-a1d0-d7b4c6107baf\"}, {\"marker\": {\"color\": \"rgb(255,0,0)\", \"colorscale\": \"Viridis\", \"line\": {\"width\": 2}, \"size\": 12, \"symbol\": 1}, \"mode\": \"markers\", \"name\": \"Student_18\", \"text\": [\"Student_18\"], \"x\": [0], \"y\": [31], \"type\": \"scatter\", \"uid\": \"430305f2-e411-11e8-a1d0-d7b4c6107baf\"}, {\"marker\": {\"color\": \"rgb(0,255,0)\", \"colorscale\": \"Viridis\", \"line\": {\"width\": 2}, \"size\": 12, \"symbol\": 0}, \"mode\": \"markers\", \"name\": \"Student_19\", \"text\": [\"Student_19\"], \"x\": [3], \"y\": [81], \"type\": \"scatter\", \"uid\": \"4303066a-e411-11e8-a1d0-d7b4c6107baf\"}, {\"marker\": {\"color\": \"rgb(127,0,127)\", \"colorscale\": \"Viridis\", \"line\": {\"width\": 2}, \"size\": 12, \"symbol\": 2}, \"mode\": \"markers\", \"name\": \"Student_20\", \"text\": [\"Student_20\"], \"x\": [0], \"y\": [46], \"type\": \"scatter\", \"uid\": \"430306e2-e411-11e8-a1d0-d7b4c6107baf\"}, {\"marker\": {\"color\": \"rgb(255,0,0)\", \"colorscale\": \"Viridis\", \"line\": {\"width\": 2}, \"size\": 12, \"symbol\": 1}, \"mode\": \"markers\", \"name\": \"Student_21\", \"text\": [\"Student_21\"], \"x\": [0], \"y\": [22], \"type\": \"scatter\", \"uid\": \"43030764-e411-11e8-a1d0-d7b4c6107baf\"}, {\"marker\": {\"color\": \"rgb(0,0,255)\", \"colorscale\": \"Viridis\", \"line\": {\"width\": 2}, \"size\": 12, \"symbol\": 3}, \"mode\": \"markers\", \"name\": \"Student_22\", \"text\": [\"Student_22\"], \"x\": [2], \"y\": [56], \"type\": \"scatter\", \"uid\": \"430307dc-e411-11e8-a1d0-d7b4c6107baf\"}, {\"marker\": {\"color\": \"rgb(0,0,255)\", \"colorscale\": \"Viridis\", \"line\": {\"width\": 2}, \"size\": 12, \"symbol\": 3}, \"mode\": \"markers\", \"name\": \"Student_23\", \"text\": [\"Student_23\"], \"x\": [3], \"y\": [63], \"type\": \"scatter\", \"uid\": \"43030854-e411-11e8-a1d0-d7b4c6107baf\"}, {\"marker\": {\"color\": \"rgb(127,0,127)\", \"colorscale\": \"Viridis\", \"line\": {\"width\": 2}, \"size\": 12, \"symbol\": 2}, \"mode\": \"markers\", \"name\": \"Student_24\", \"text\": [\"Student_24\"], \"x\": [0], \"y\": [47], \"type\": \"scatter\", \"uid\": \"430308d6-e411-11e8-a1d0-d7b4c6107baf\"}, {\"marker\": {\"color\": \"rgb(0,0,255)\", \"colorscale\": \"Viridis\", \"line\": {\"width\": 2}, \"size\": 12, \"symbol\": 3}, \"mode\": \"markers\", \"name\": \"Student_25\", \"text\": [\"Student_25\"], \"x\": [3], \"y\": [73], \"type\": \"scatter\", \"uid\": \"4303094e-e411-11e8-a1d0-d7b4c6107baf\"}, {\"marker\": {\"color\": \"rgb(255,0,0)\", \"colorscale\": \"Viridis\", \"line\": {\"width\": 2}, \"size\": 12, \"symbol\": 1}, \"mode\": \"markers\", \"name\": \"Student_26\", \"text\": [\"Student_26\"], \"x\": [0], \"y\": [33], \"type\": \"scatter\", \"uid\": \"430309c6-e411-11e8-a1d0-d7b4c6107baf\"}, {\"marker\": {\"color\": \"rgb(127,0,127)\", \"colorscale\": \"Viridis\", \"line\": {\"width\": 2}, \"size\": 12, \"symbol\": 2}, \"mode\": \"markers\", \"name\": \"Student_27\", \"text\": [\"Student_27\"], \"x\": [0], \"y\": [50], \"type\": \"scatter\", \"uid\": \"43030a3e-e411-11e8-a1d0-d7b4c6107baf\"}, {\"marker\": {\"color\": \"rgb(127,0,127)\", \"colorscale\": \"Viridis\", \"line\": {\"width\": 2}, \"size\": 12, \"symbol\": 2}, \"mode\": \"markers\", \"name\": \"Student_28\", \"text\": [\"Student_28\"], \"x\": [0], \"y\": [46], \"type\": \"scatter\", \"uid\": \"43030ac0-e411-11e8-a1d0-d7b4c6107baf\"}, {\"marker\": {\"color\": \"rgb(0,0,255)\", \"colorscale\": \"Viridis\", \"line\": {\"width\": 2}, \"size\": 12, \"symbol\": 3}, \"mode\": \"markers\", \"name\": \"Student_29\", \"text\": [\"Student_29\"], \"x\": [4], \"y\": [76], \"type\": \"scatter\", \"uid\": \"43030b38-e411-11e8-a1d0-d7b4c6107baf\"}, {\"marker\": {\"color\": \"rgb(0,0,255)\", \"colorscale\": \"Viridis\", \"line\": {\"width\": 2}, \"size\": 12, \"symbol\": 3}, \"mode\": \"markers\", \"name\": \"Student_30\", \"text\": [\"Student_30\"], \"x\": [3], \"y\": [67], \"type\": \"scatter\", \"uid\": \"43030bb0-e411-11e8-a1d0-d7b4c6107baf\"}, {\"marker\": {\"color\": \"rgb(127,0,127)\", \"colorscale\": \"Viridis\", \"line\": {\"width\": 2}, \"size\": 12, \"symbol\": 2}, \"mode\": \"markers\", \"name\": \"Student_31\", \"text\": [\"Student_31\"], \"x\": [0], \"y\": [48], \"type\": \"scatter\", \"uid\": \"43030c28-e411-11e8-a1d0-d7b4c6107baf\"}, {\"marker\": {\"color\": \"rgb(255,0,0)\", \"colorscale\": \"Viridis\", \"line\": {\"width\": 2}, \"size\": 12, \"symbol\": 1}, \"mode\": \"markers\", \"name\": \"Student_32\", \"text\": [\"Student_32\"], \"x\": [0], \"y\": [22], \"type\": \"scatter\", \"uid\": \"43030caa-e411-11e8-a1d0-d7b4c6107baf\"}, {\"marker\": {\"color\": \"rgb(0,255,0)\", \"colorscale\": \"Viridis\", \"line\": {\"width\": 2}, \"size\": 12, \"symbol\": 0}, \"mode\": \"markers\", \"name\": \"Student_33\", \"text\": [\"Student_33\"], \"x\": [4], \"y\": [85], \"type\": \"scatter\", \"uid\": \"43030d22-e411-11e8-a1d0-d7b4c6107baf\"}, {\"marker\": {\"color\": \"rgb(127,0,127)\", \"colorscale\": \"Viridis\", \"line\": {\"width\": 2}, \"size\": 12, \"symbol\": 2}, \"mode\": \"markers\", \"name\": \"Student_34\", \"text\": [\"Student_34\"], \"x\": [2], \"y\": [57], \"type\": \"scatter\", \"uid\": \"43030d9a-e411-11e8-a1d0-d7b4c6107baf\"}, {\"marker\": {\"color\": \"rgb(0,0,255)\", \"colorscale\": \"Viridis\", \"line\": {\"width\": 2}, \"size\": 12, \"symbol\": 3}, \"mode\": \"markers\", \"name\": \"Student_35\", \"text\": [\"Student_35\"], \"x\": [3], \"y\": [65], \"type\": \"scatter\", \"uid\": \"43030e1c-e411-11e8-a1d0-d7b4c6107baf\"}, {\"marker\": {\"color\": \"rgb(0,0,255)\", \"colorscale\": \"Viridis\", \"line\": {\"width\": 2}, \"size\": 12, \"symbol\": 3}, \"mode\": \"markers\", \"name\": \"Student_36\", \"text\": [\"Student_36\"], \"x\": [4], \"y\": [63], \"type\": \"scatter\", \"uid\": \"43030e9e-e411-11e8-a1d0-d7b4c6107baf\"}, {\"marker\": {\"color\": \"rgb(255,0,0)\", \"colorscale\": \"Viridis\", \"line\": {\"width\": 2}, \"size\": 12, \"symbol\": 1}, \"mode\": \"markers\", \"name\": \"Student_37\", \"text\": [\"Student_37\"], \"x\": [0], \"y\": [36], \"type\": \"scatter\", \"uid\": \"43030f20-e411-11e8-a1d0-d7b4c6107baf\"}, {\"marker\": {\"color\": \"rgb(127,0,127)\", \"colorscale\": \"Viridis\", \"line\": {\"width\": 2}, \"size\": 12, \"symbol\": 2}, \"mode\": \"markers\", \"name\": \"Student_38\", \"text\": [\"Student_38\"], \"x\": [3], \"y\": [51], \"type\": \"scatter\", \"uid\": \"43030f98-e411-11e8-a1d0-d7b4c6107baf\"}, {\"marker\": {\"color\": \"rgb(0,255,0)\", \"colorscale\": \"Viridis\", \"line\": {\"width\": 2}, \"size\": 12, \"symbol\": 0}, \"mode\": \"markers\", \"name\": \"Student_39\", \"text\": [\"Student_39\"], \"x\": [3], \"y\": [88], \"type\": \"scatter\", \"uid\": \"4303101a-e411-11e8-a1d0-d7b4c6107baf\"}, {\"marker\": {\"color\": \"rgb(255,0,0)\", \"colorscale\": \"Viridis\", \"line\": {\"width\": 2}, \"size\": 12, \"symbol\": 1}, \"mode\": \"markers\", \"name\": \"Student_40\", \"text\": [\"Student_40\"], \"x\": [0], \"y\": [18], \"type\": \"scatter\", \"uid\": \"43031092-e411-11e8-a1d0-d7b4c6107baf\"}, {\"marker\": {\"color\": \"rgb(0,255,0)\", \"colorscale\": \"Viridis\", \"line\": {\"width\": 2}, \"size\": 12, \"symbol\": 0}, \"mode\": \"markers\", \"name\": \"Student_41\", \"text\": [\"Student_41\"], \"x\": [4], \"y\": [94], \"type\": \"scatter\", \"uid\": \"4303110a-e411-11e8-a1d0-d7b4c6107baf\"}, {\"marker\": {\"color\": \"rgb(255,0,0)\", \"colorscale\": \"Viridis\", \"line\": {\"width\": 2}, \"size\": 12, \"symbol\": 1}, \"mode\": \"markers\", \"name\": \"Student_42\", \"text\": [\"Student_42\"], \"x\": [0], \"y\": [25], \"type\": \"scatter\", \"uid\": \"43031182-e411-11e8-a1d0-d7b4c6107baf\"}, {\"marker\": {\"color\": \"rgb(255,0,0)\", \"colorscale\": \"Viridis\", \"line\": {\"width\": 2}, \"size\": 12, \"symbol\": 1}, \"mode\": \"markers\", \"name\": \"Student_43\", \"text\": [\"Student_43\"], \"x\": [0], \"y\": [25], \"type\": \"scatter\", \"uid\": \"43031204-e411-11e8-a1d0-d7b4c6107baf\"}, {\"marker\": {\"color\": \"rgb(0,0,255)\", \"colorscale\": \"Viridis\", \"line\": {\"width\": 2}, \"size\": 12, \"symbol\": 3}, \"mode\": \"markers\", \"name\": \"Student_44\", \"text\": [\"Student_44\"], \"x\": [2], \"y\": [70], \"type\": \"scatter\", \"uid\": \"43031286-e411-11e8-a1d0-d7b4c6107baf\"}, {\"marker\": {\"color\": \"rgb(127,0,127)\", \"colorscale\": \"Viridis\", \"line\": {\"width\": 2}, \"size\": 12, \"symbol\": 2}, \"mode\": \"markers\", \"name\": \"Student_45\", \"text\": [\"Student_45\"], \"x\": [0], \"y\": [46], \"type\": \"scatter\", \"uid\": \"430312fe-e411-11e8-a1d0-d7b4c6107baf\"}, {\"marker\": {\"color\": \"rgb(255,0,0)\", \"colorscale\": \"Viridis\", \"line\": {\"width\": 2}, \"size\": 12, \"symbol\": 1}, \"mode\": \"markers\", \"name\": \"Student_46\", \"text\": [\"Student_46\"], \"x\": [0], \"y\": [28], \"type\": \"scatter\", \"uid\": \"43031380-e411-11e8-a1d0-d7b4c6107baf\"}, {\"marker\": {\"color\": \"rgb(0,0,255)\", \"colorscale\": \"Viridis\", \"line\": {\"width\": 2}, \"size\": 12, \"symbol\": 3}, \"mode\": \"markers\", \"name\": \"Student_47\", \"text\": [\"Student_47\"], \"x\": [4], \"y\": [68], \"type\": \"scatter\", \"uid\": \"430313ee-e411-11e8-a1d0-d7b4c6107baf\"}, {\"marker\": {\"color\": \"rgb(127,0,127)\", \"colorscale\": \"Viridis\", \"line\": {\"width\": 2}, \"size\": 12, \"symbol\": 2}, \"mode\": \"markers\", \"name\": \"Student_48\", \"text\": [\"Student_48\"], \"x\": [0], \"y\": [40], \"type\": \"scatter\", \"uid\": \"43031470-e411-11e8-a1d0-d7b4c6107baf\"}, {\"marker\": {\"color\": \"rgb(0,0,255)\", \"colorscale\": \"Viridis\", \"line\": {\"width\": 2}, \"size\": 12, \"symbol\": 3}, \"mode\": \"markers\", \"name\": \"Student_49\", \"text\": [\"Student_49\"], \"x\": [4], \"y\": [79], \"type\": \"scatter\", \"uid\": \"430314e8-e411-11e8-a1d0-d7b4c6107baf\"}, {\"marker\": {\"color\": \"rgb(255,0,0)\", \"colorscale\": \"Viridis\", \"line\": {\"width\": 2}, \"size\": 12, \"symbol\": 1}, \"mode\": \"markers\", \"name\": \"Student_50\", \"text\": [\"Student_50\"], \"x\": [0], \"y\": [37], \"type\": \"scatter\", \"uid\": \"43031560-e411-11e8-a1d0-d7b4c6107baf\"}, {\"marker\": {\"color\": \"rgb(0,0,255)\", \"colorscale\": \"Viridis\", \"line\": {\"width\": 2}, \"size\": 12, \"symbol\": 3}, \"mode\": \"markers\", \"name\": \"Student_51\", \"text\": [\"Student_51\"], \"x\": [2], \"y\": [64], \"type\": \"scatter\", \"uid\": \"430315ce-e411-11e8-a1d0-d7b4c6107baf\"}, {\"marker\": {\"color\": \"rgb(255,0,0)\", \"colorscale\": \"Viridis\", \"line\": {\"width\": 2}, \"size\": 12, \"symbol\": 1}, \"mode\": \"markers\", \"name\": \"Student_52\", \"text\": [\"Student_52\"], \"x\": [0], \"y\": [7], \"type\": \"scatter\", \"uid\": \"43031650-e411-11e8-a1d0-d7b4c6107baf\"}, {\"marker\": {\"color\": \"rgb(0,0,255)\", \"colorscale\": \"Viridis\", \"line\": {\"width\": 2}, \"size\": 12, \"symbol\": 3}, \"mode\": \"markers\", \"name\": \"Student_53\", \"text\": [\"Student_53\"], \"x\": [3], \"y\": [64], \"type\": \"scatter\", \"uid\": \"430316be-e411-11e8-a1d0-d7b4c6107baf\"}, {\"marker\": {\"color\": \"rgb(127,0,127)\", \"colorscale\": \"Viridis\", \"line\": {\"width\": 2}, \"size\": 12, \"symbol\": 2}, \"mode\": \"markers\", \"name\": \"Student_54\", \"text\": [\"Student_54\"], \"x\": [0], \"y\": [40], \"type\": \"scatter\", \"uid\": \"43031736-e411-11e8-a1d0-d7b4c6107baf\"}, {\"marker\": {\"color\": \"rgb(127,0,127)\", \"colorscale\": \"Viridis\", \"line\": {\"width\": 2}, \"size\": 12, \"symbol\": 2}, \"mode\": \"markers\", \"name\": \"Student_55\", \"text\": [\"Student_55\"], \"x\": [4], \"y\": [54], \"type\": \"scatter\", \"uid\": \"430317a4-e411-11e8-a1d0-d7b4c6107baf\"}, {\"marker\": {\"color\": \"rgb(255,0,0)\", \"colorscale\": \"Viridis\", \"line\": {\"width\": 2}, \"size\": 12, \"symbol\": 1}, \"mode\": \"markers\", \"name\": \"Student_56\", \"text\": [\"Student_56\"], \"x\": [0], \"y\": [26], \"type\": \"scatter\", \"uid\": \"43031812-e411-11e8-a1d0-d7b4c6107baf\"}, {\"marker\": {\"color\": \"rgb(0,255,0)\", \"colorscale\": \"Viridis\", \"line\": {\"width\": 2}, \"size\": 12, \"symbol\": 0}, \"mode\": \"markers\", \"name\": \"Student_57\", \"text\": [\"Student_57\"], \"x\": [4], \"y\": [86], \"type\": \"scatter\", \"uid\": \"43031880-e411-11e8-a1d0-d7b4c6107baf\"}, {\"marker\": {\"color\": \"rgb(0,255,0)\", \"colorscale\": \"Viridis\", \"line\": {\"width\": 2}, \"size\": 12, \"symbol\": 0}, \"mode\": \"markers\", \"name\": \"Student_58\", \"text\": [\"Student_58\"], \"x\": [4], \"y\": [74], \"type\": \"scatter\", \"uid\": \"430318ee-e411-11e8-a1d0-d7b4c6107baf\"}, {\"marker\": {\"color\": \"rgb(0,0,255)\", \"colorscale\": \"Viridis\", \"line\": {\"width\": 2}, \"size\": 12, \"symbol\": 3}, \"mode\": \"markers\", \"name\": \"Student_59\", \"text\": [\"Student_59\"], \"x\": [3], \"y\": [70], \"type\": \"scatter\", \"uid\": \"4303195c-e411-11e8-a1d0-d7b4c6107baf\"}, {\"marker\": {\"color\": \"rgb(0,0,255)\", \"colorscale\": \"Viridis\", \"line\": {\"width\": 2}, \"size\": 12, \"symbol\": 3}, \"mode\": \"markers\", \"name\": \"Student_60\", \"text\": [\"Student_60\"], \"x\": [4], \"y\": [78], \"type\": \"scatter\", \"uid\": \"430319ca-e411-11e8-a1d0-d7b4c6107baf\"}], {\"hovermode\": \"closest\", \"showlegend\": true, \"title\": \"Notas dos estudantes vs atividades respondidas\", \"xaxis\": {\"autorange\": false, \"fixedrange\": false, \"range\": [0, 14], \"rangemode\": \"normal\", \"showline\": true, \"title\": \"Atividades respondidas\", \"zeroline\": false}, \"yaxis\": {\"autorange\": false, \"fixedrange\": false, \"range\": [0, 104], \"rangemode\": \"normal\", \"showline\": true, \"title\": \"Notas\"}}, {\"showLink\": true, \"linkText\": \"Export to plot.ly\"})});</script>"
      ],
      "text/vnd.plotly.v1+html": [
       "<div id=\"31aa4ce9-66b4-447d-a3dc-4227f920ead0\" style=\"height: 525px; width: 100%;\" class=\"plotly-graph-div\"></div><script type=\"text/javascript\">require([\"plotly\"], function(Plotly) { window.PLOTLYENV=window.PLOTLYENV || {};window.PLOTLYENV.BASE_URL=\"https://plot.ly\";Plotly.newPlot(\"31aa4ce9-66b4-447d-a3dc-4227f920ead0\", [{\"marker\": {\"color\": \"rgb(255,0,0)\", \"colorscale\": \"Viridis\", \"line\": {\"width\": 2}, \"size\": 12, \"symbol\": 1}, \"mode\": \"markers\", \"name\": \"Student_1\", \"text\": [\"Student_1\"], \"x\": [0], \"y\": [5], \"type\": \"scatter\", \"uid\": \"4302fc24-e411-11e8-a1d0-d7b4c6107baf\"}, {\"marker\": {\"color\": \"rgb(0,255,0)\", \"colorscale\": \"Viridis\", \"line\": {\"width\": 2}, \"size\": 12, \"symbol\": 0}, \"mode\": \"markers\", \"name\": \"Student_2\", \"text\": [\"Student_2\"], \"x\": [4], \"y\": [92], \"type\": \"scatter\", \"uid\": \"4302fdaa-e411-11e8-a1d0-d7b4c6107baf\"}, {\"marker\": {\"color\": \"rgb(0,255,0)\", \"colorscale\": \"Viridis\", \"line\": {\"width\": 2}, \"size\": 12, \"symbol\": 0}, \"mode\": \"markers\", \"name\": \"Student_3\", \"text\": [\"Student_3\"], \"x\": [4], \"y\": [82], \"type\": \"scatter\", \"uid\": \"4302fe68-e411-11e8-a1d0-d7b4c6107baf\"}, {\"marker\": {\"color\": \"rgb(127,0,127)\", \"colorscale\": \"Viridis\", \"line\": {\"width\": 2}, \"size\": 12, \"symbol\": 2}, \"mode\": \"markers\", \"name\": \"Student_4\", \"text\": [\"Student_4\"], \"x\": [2], \"y\": [58], \"type\": \"scatter\", \"uid\": \"4302fefe-e411-11e8-a1d0-d7b4c6107baf\"}, {\"marker\": {\"color\": \"rgb(0,255,0)\", \"colorscale\": \"Viridis\", \"line\": {\"width\": 2}, \"size\": 12, \"symbol\": 0}, \"mode\": \"markers\", \"name\": \"Student_5\", \"text\": [\"Student_5\"], \"x\": [2], \"y\": [77], \"type\": \"scatter\", \"uid\": \"4302ff8a-e411-11e8-a1d0-d7b4c6107baf\"}, {\"marker\": {\"color\": \"rgb(0,255,0)\", \"colorscale\": \"Viridis\", \"line\": {\"width\": 2}, \"size\": 12, \"symbol\": 0}, \"mode\": \"markers\", \"name\": \"Student_6\", \"text\": [\"Student_6\"], \"x\": [4], \"y\": [87], \"type\": \"scatter\", \"uid\": \"4303000c-e411-11e8-a1d0-d7b4c6107baf\"}, {\"marker\": {\"color\": \"rgb(0,255,0)\", \"colorscale\": \"Viridis\", \"line\": {\"width\": 2}, \"size\": 12, \"symbol\": 0}, \"mode\": \"markers\", \"name\": \"Student_7\", \"text\": [\"Student_7\"], \"x\": [4], \"y\": [74], \"type\": \"scatter\", \"uid\": \"4303008e-e411-11e8-a1d0-d7b4c6107baf\"}, {\"marker\": {\"color\": \"rgb(255,0,0)\", \"colorscale\": \"Viridis\", \"line\": {\"width\": 2}, \"size\": 12, \"symbol\": 1}, \"mode\": \"markers\", \"name\": \"Student_8\", \"text\": [\"Student_8\"], \"x\": [0], \"y\": [14], \"type\": \"scatter\", \"uid\": \"43030110-e411-11e8-a1d0-d7b4c6107baf\"}, {\"marker\": {\"color\": \"rgb(0,0,255)\", \"colorscale\": \"Viridis\", \"line\": {\"width\": 2}, \"size\": 12, \"symbol\": 3}, \"mode\": \"markers\", \"name\": \"Student_9\", \"text\": [\"Student_9\"], \"x\": [2], \"y\": [59], \"type\": \"scatter\", \"uid\": \"43030192-e411-11e8-a1d0-d7b4c6107baf\"}, {\"marker\": {\"color\": \"rgb(127,0,127)\", \"colorscale\": \"Viridis\", \"line\": {\"width\": 2}, \"size\": 12, \"symbol\": 2}, \"mode\": \"markers\", \"name\": \"Student_10\", \"text\": [\"Student_10\"], \"x\": [0], \"y\": [39], \"type\": \"scatter\", \"uid\": \"4303020a-e411-11e8-a1d0-d7b4c6107baf\"}, {\"marker\": {\"color\": \"rgb(0,255,0)\", \"colorscale\": \"Viridis\", \"line\": {\"width\": 2}, \"size\": 12, \"symbol\": 0}, \"mode\": \"markers\", \"name\": \"Student_11\", \"text\": [\"Student_11\"], \"x\": [4], \"y\": [94], \"type\": \"scatter\", \"uid\": \"43030282-e411-11e8-a1d0-d7b4c6107baf\"}, {\"marker\": {\"color\": \"rgb(127,0,127)\", \"colorscale\": \"Viridis\", \"line\": {\"width\": 2}, \"size\": 12, \"symbol\": 2}, \"mode\": \"markers\", \"name\": \"Student_12\", \"text\": [\"Student_12\"], \"x\": [0], \"y\": [43], \"type\": \"scatter\", \"uid\": \"43030304-e411-11e8-a1d0-d7b4c6107baf\"}, {\"marker\": {\"color\": \"rgb(127,0,127)\", \"colorscale\": \"Viridis\", \"line\": {\"width\": 2}, \"size\": 12, \"symbol\": 2}, \"mode\": \"markers\", \"name\": \"Student_13\", \"text\": [\"Student_13\"], \"x\": [0], \"y\": [42], \"type\": \"scatter\", \"uid\": \"43030386-e411-11e8-a1d0-d7b4c6107baf\"}, {\"marker\": {\"color\": \"rgb(0,0,255)\", \"colorscale\": \"Viridis\", \"line\": {\"width\": 2}, \"size\": 12, \"symbol\": 3}, \"mode\": \"markers\", \"name\": \"Student_14\", \"text\": [\"Student_14\"], \"x\": [3], \"y\": [67], \"type\": \"scatter\", \"uid\": \"43030408-e411-11e8-a1d0-d7b4c6107baf\"}, {\"marker\": {\"color\": \"rgb(127,0,127)\", \"colorscale\": \"Viridis\", \"line\": {\"width\": 2}, \"size\": 12, \"symbol\": 2}, \"mode\": \"markers\", \"name\": \"Student_15\", \"text\": [\"Student_15\"], \"x\": [4], \"y\": [53], \"type\": \"scatter\", \"uid\": \"43030480-e411-11e8-a1d0-d7b4c6107baf\"}, {\"marker\": {\"color\": \"rgb(0,0,255)\", \"colorscale\": \"Viridis\", \"line\": {\"width\": 2}, \"size\": 12, \"symbol\": 3}, \"mode\": \"markers\", \"name\": \"Student_16\", \"text\": [\"Student_16\"], \"x\": [4], \"y\": [63], \"type\": \"scatter\", \"uid\": \"430304f8-e411-11e8-a1d0-d7b4c6107baf\"}, {\"marker\": {\"color\": \"rgb(0,0,255)\", \"colorscale\": \"Viridis\", \"line\": {\"width\": 2}, \"size\": 12, \"symbol\": 3}, \"mode\": \"markers\", \"name\": \"Student_17\", \"text\": [\"Student_17\"], \"x\": [3], \"y\": [69], \"type\": \"scatter\", \"uid\": \"4303057a-e411-11e8-a1d0-d7b4c6107baf\"}, {\"marker\": {\"color\": \"rgb(255,0,0)\", \"colorscale\": \"Viridis\", \"line\": {\"width\": 2}, \"size\": 12, \"symbol\": 1}, \"mode\": \"markers\", \"name\": \"Student_18\", \"text\": [\"Student_18\"], \"x\": [0], \"y\": [31], \"type\": \"scatter\", \"uid\": \"430305f2-e411-11e8-a1d0-d7b4c6107baf\"}, {\"marker\": {\"color\": \"rgb(0,255,0)\", \"colorscale\": \"Viridis\", \"line\": {\"width\": 2}, \"size\": 12, \"symbol\": 0}, \"mode\": \"markers\", \"name\": \"Student_19\", \"text\": [\"Student_19\"], \"x\": [3], \"y\": [81], \"type\": \"scatter\", \"uid\": \"4303066a-e411-11e8-a1d0-d7b4c6107baf\"}, {\"marker\": {\"color\": \"rgb(127,0,127)\", \"colorscale\": \"Viridis\", \"line\": {\"width\": 2}, \"size\": 12, \"symbol\": 2}, \"mode\": \"markers\", \"name\": \"Student_20\", \"text\": [\"Student_20\"], \"x\": [0], \"y\": [46], \"type\": \"scatter\", \"uid\": \"430306e2-e411-11e8-a1d0-d7b4c6107baf\"}, {\"marker\": {\"color\": \"rgb(255,0,0)\", \"colorscale\": \"Viridis\", \"line\": {\"width\": 2}, \"size\": 12, \"symbol\": 1}, \"mode\": \"markers\", \"name\": \"Student_21\", \"text\": [\"Student_21\"], \"x\": [0], \"y\": [22], \"type\": \"scatter\", \"uid\": \"43030764-e411-11e8-a1d0-d7b4c6107baf\"}, {\"marker\": {\"color\": \"rgb(0,0,255)\", \"colorscale\": \"Viridis\", \"line\": {\"width\": 2}, \"size\": 12, \"symbol\": 3}, \"mode\": \"markers\", \"name\": \"Student_22\", \"text\": [\"Student_22\"], \"x\": [2], \"y\": [56], \"type\": \"scatter\", \"uid\": \"430307dc-e411-11e8-a1d0-d7b4c6107baf\"}, {\"marker\": {\"color\": \"rgb(0,0,255)\", \"colorscale\": \"Viridis\", \"line\": {\"width\": 2}, \"size\": 12, \"symbol\": 3}, \"mode\": \"markers\", \"name\": \"Student_23\", \"text\": [\"Student_23\"], \"x\": [3], \"y\": [63], \"type\": \"scatter\", \"uid\": \"43030854-e411-11e8-a1d0-d7b4c6107baf\"}, {\"marker\": {\"color\": \"rgb(127,0,127)\", \"colorscale\": \"Viridis\", \"line\": {\"width\": 2}, \"size\": 12, \"symbol\": 2}, \"mode\": \"markers\", \"name\": \"Student_24\", \"text\": [\"Student_24\"], \"x\": [0], \"y\": [47], \"type\": \"scatter\", \"uid\": \"430308d6-e411-11e8-a1d0-d7b4c6107baf\"}, {\"marker\": {\"color\": \"rgb(0,0,255)\", \"colorscale\": \"Viridis\", \"line\": {\"width\": 2}, \"size\": 12, \"symbol\": 3}, \"mode\": \"markers\", \"name\": \"Student_25\", \"text\": [\"Student_25\"], \"x\": [3], \"y\": [73], \"type\": \"scatter\", \"uid\": \"4303094e-e411-11e8-a1d0-d7b4c6107baf\"}, {\"marker\": {\"color\": \"rgb(255,0,0)\", \"colorscale\": \"Viridis\", \"line\": {\"width\": 2}, \"size\": 12, \"symbol\": 1}, \"mode\": \"markers\", \"name\": \"Student_26\", \"text\": [\"Student_26\"], \"x\": [0], \"y\": [33], \"type\": \"scatter\", \"uid\": \"430309c6-e411-11e8-a1d0-d7b4c6107baf\"}, {\"marker\": {\"color\": \"rgb(127,0,127)\", \"colorscale\": \"Viridis\", \"line\": {\"width\": 2}, \"size\": 12, \"symbol\": 2}, \"mode\": \"markers\", \"name\": \"Student_27\", \"text\": [\"Student_27\"], \"x\": [0], \"y\": [50], \"type\": \"scatter\", \"uid\": \"43030a3e-e411-11e8-a1d0-d7b4c6107baf\"}, {\"marker\": {\"color\": \"rgb(127,0,127)\", \"colorscale\": \"Viridis\", \"line\": {\"width\": 2}, \"size\": 12, \"symbol\": 2}, \"mode\": \"markers\", \"name\": \"Student_28\", \"text\": [\"Student_28\"], \"x\": [0], \"y\": [46], \"type\": \"scatter\", \"uid\": \"43030ac0-e411-11e8-a1d0-d7b4c6107baf\"}, {\"marker\": {\"color\": \"rgb(0,0,255)\", \"colorscale\": \"Viridis\", \"line\": {\"width\": 2}, \"size\": 12, \"symbol\": 3}, \"mode\": \"markers\", \"name\": \"Student_29\", \"text\": [\"Student_29\"], \"x\": [4], \"y\": [76], \"type\": \"scatter\", \"uid\": \"43030b38-e411-11e8-a1d0-d7b4c6107baf\"}, {\"marker\": {\"color\": \"rgb(0,0,255)\", \"colorscale\": \"Viridis\", \"line\": {\"width\": 2}, \"size\": 12, \"symbol\": 3}, \"mode\": \"markers\", \"name\": \"Student_30\", \"text\": [\"Student_30\"], \"x\": [3], \"y\": [67], \"type\": \"scatter\", \"uid\": \"43030bb0-e411-11e8-a1d0-d7b4c6107baf\"}, {\"marker\": {\"color\": \"rgb(127,0,127)\", \"colorscale\": \"Viridis\", \"line\": {\"width\": 2}, \"size\": 12, \"symbol\": 2}, \"mode\": \"markers\", \"name\": \"Student_31\", \"text\": [\"Student_31\"], \"x\": [0], \"y\": [48], \"type\": \"scatter\", \"uid\": \"43030c28-e411-11e8-a1d0-d7b4c6107baf\"}, {\"marker\": {\"color\": \"rgb(255,0,0)\", \"colorscale\": \"Viridis\", \"line\": {\"width\": 2}, \"size\": 12, \"symbol\": 1}, \"mode\": \"markers\", \"name\": \"Student_32\", \"text\": [\"Student_32\"], \"x\": [0], \"y\": [22], \"type\": \"scatter\", \"uid\": \"43030caa-e411-11e8-a1d0-d7b4c6107baf\"}, {\"marker\": {\"color\": \"rgb(0,255,0)\", \"colorscale\": \"Viridis\", \"line\": {\"width\": 2}, \"size\": 12, \"symbol\": 0}, \"mode\": \"markers\", \"name\": \"Student_33\", \"text\": [\"Student_33\"], \"x\": [4], \"y\": [85], \"type\": \"scatter\", \"uid\": \"43030d22-e411-11e8-a1d0-d7b4c6107baf\"}, {\"marker\": {\"color\": \"rgb(127,0,127)\", \"colorscale\": \"Viridis\", \"line\": {\"width\": 2}, \"size\": 12, \"symbol\": 2}, \"mode\": \"markers\", \"name\": \"Student_34\", \"text\": [\"Student_34\"], \"x\": [2], \"y\": [57], \"type\": \"scatter\", \"uid\": \"43030d9a-e411-11e8-a1d0-d7b4c6107baf\"}, {\"marker\": {\"color\": \"rgb(0,0,255)\", \"colorscale\": \"Viridis\", \"line\": {\"width\": 2}, \"size\": 12, \"symbol\": 3}, \"mode\": \"markers\", \"name\": \"Student_35\", \"text\": [\"Student_35\"], \"x\": [3], \"y\": [65], \"type\": \"scatter\", \"uid\": \"43030e1c-e411-11e8-a1d0-d7b4c6107baf\"}, {\"marker\": {\"color\": \"rgb(0,0,255)\", \"colorscale\": \"Viridis\", \"line\": {\"width\": 2}, \"size\": 12, \"symbol\": 3}, \"mode\": \"markers\", \"name\": \"Student_36\", \"text\": [\"Student_36\"], \"x\": [4], \"y\": [63], \"type\": \"scatter\", \"uid\": \"43030e9e-e411-11e8-a1d0-d7b4c6107baf\"}, {\"marker\": {\"color\": \"rgb(255,0,0)\", \"colorscale\": \"Viridis\", \"line\": {\"width\": 2}, \"size\": 12, \"symbol\": 1}, \"mode\": \"markers\", \"name\": \"Student_37\", \"text\": [\"Student_37\"], \"x\": [0], \"y\": [36], \"type\": \"scatter\", \"uid\": \"43030f20-e411-11e8-a1d0-d7b4c6107baf\"}, {\"marker\": {\"color\": \"rgb(127,0,127)\", \"colorscale\": \"Viridis\", \"line\": {\"width\": 2}, \"size\": 12, \"symbol\": 2}, \"mode\": \"markers\", \"name\": \"Student_38\", \"text\": [\"Student_38\"], \"x\": [3], \"y\": [51], \"type\": \"scatter\", \"uid\": \"43030f98-e411-11e8-a1d0-d7b4c6107baf\"}, {\"marker\": {\"color\": \"rgb(0,255,0)\", \"colorscale\": \"Viridis\", \"line\": {\"width\": 2}, \"size\": 12, \"symbol\": 0}, \"mode\": \"markers\", \"name\": \"Student_39\", \"text\": [\"Student_39\"], \"x\": [3], \"y\": [88], \"type\": \"scatter\", \"uid\": \"4303101a-e411-11e8-a1d0-d7b4c6107baf\"}, {\"marker\": {\"color\": \"rgb(255,0,0)\", \"colorscale\": \"Viridis\", \"line\": {\"width\": 2}, \"size\": 12, \"symbol\": 1}, \"mode\": \"markers\", \"name\": \"Student_40\", \"text\": [\"Student_40\"], \"x\": [0], \"y\": [18], \"type\": \"scatter\", \"uid\": \"43031092-e411-11e8-a1d0-d7b4c6107baf\"}, {\"marker\": {\"color\": \"rgb(0,255,0)\", \"colorscale\": \"Viridis\", \"line\": {\"width\": 2}, \"size\": 12, \"symbol\": 0}, \"mode\": \"markers\", \"name\": \"Student_41\", \"text\": [\"Student_41\"], \"x\": [4], \"y\": [94], \"type\": \"scatter\", \"uid\": \"4303110a-e411-11e8-a1d0-d7b4c6107baf\"}, {\"marker\": {\"color\": \"rgb(255,0,0)\", \"colorscale\": \"Viridis\", \"line\": {\"width\": 2}, \"size\": 12, \"symbol\": 1}, \"mode\": \"markers\", \"name\": \"Student_42\", \"text\": [\"Student_42\"], \"x\": [0], \"y\": [25], \"type\": \"scatter\", \"uid\": \"43031182-e411-11e8-a1d0-d7b4c6107baf\"}, {\"marker\": {\"color\": \"rgb(255,0,0)\", \"colorscale\": \"Viridis\", \"line\": {\"width\": 2}, \"size\": 12, \"symbol\": 1}, \"mode\": \"markers\", \"name\": \"Student_43\", \"text\": [\"Student_43\"], \"x\": [0], \"y\": [25], \"type\": \"scatter\", \"uid\": \"43031204-e411-11e8-a1d0-d7b4c6107baf\"}, {\"marker\": {\"color\": \"rgb(0,0,255)\", \"colorscale\": \"Viridis\", \"line\": {\"width\": 2}, \"size\": 12, \"symbol\": 3}, \"mode\": \"markers\", \"name\": \"Student_44\", \"text\": [\"Student_44\"], \"x\": [2], \"y\": [70], \"type\": \"scatter\", \"uid\": \"43031286-e411-11e8-a1d0-d7b4c6107baf\"}, {\"marker\": {\"color\": \"rgb(127,0,127)\", \"colorscale\": \"Viridis\", \"line\": {\"width\": 2}, \"size\": 12, \"symbol\": 2}, \"mode\": \"markers\", \"name\": \"Student_45\", \"text\": [\"Student_45\"], \"x\": [0], \"y\": [46], \"type\": \"scatter\", \"uid\": \"430312fe-e411-11e8-a1d0-d7b4c6107baf\"}, {\"marker\": {\"color\": \"rgb(255,0,0)\", \"colorscale\": \"Viridis\", \"line\": {\"width\": 2}, \"size\": 12, \"symbol\": 1}, \"mode\": \"markers\", \"name\": \"Student_46\", \"text\": [\"Student_46\"], \"x\": [0], \"y\": [28], \"type\": \"scatter\", \"uid\": \"43031380-e411-11e8-a1d0-d7b4c6107baf\"}, {\"marker\": {\"color\": \"rgb(0,0,255)\", \"colorscale\": \"Viridis\", \"line\": {\"width\": 2}, \"size\": 12, \"symbol\": 3}, \"mode\": \"markers\", \"name\": \"Student_47\", \"text\": [\"Student_47\"], \"x\": [4], \"y\": [68], \"type\": \"scatter\", \"uid\": \"430313ee-e411-11e8-a1d0-d7b4c6107baf\"}, {\"marker\": {\"color\": \"rgb(127,0,127)\", \"colorscale\": \"Viridis\", \"line\": {\"width\": 2}, \"size\": 12, \"symbol\": 2}, \"mode\": \"markers\", \"name\": \"Student_48\", \"text\": [\"Student_48\"], \"x\": [0], \"y\": [40], \"type\": \"scatter\", \"uid\": \"43031470-e411-11e8-a1d0-d7b4c6107baf\"}, {\"marker\": {\"color\": \"rgb(0,0,255)\", \"colorscale\": \"Viridis\", \"line\": {\"width\": 2}, \"size\": 12, \"symbol\": 3}, \"mode\": \"markers\", \"name\": \"Student_49\", \"text\": [\"Student_49\"], \"x\": [4], \"y\": [79], \"type\": \"scatter\", \"uid\": \"430314e8-e411-11e8-a1d0-d7b4c6107baf\"}, {\"marker\": {\"color\": \"rgb(255,0,0)\", \"colorscale\": \"Viridis\", \"line\": {\"width\": 2}, \"size\": 12, \"symbol\": 1}, \"mode\": \"markers\", \"name\": \"Student_50\", \"text\": [\"Student_50\"], \"x\": [0], \"y\": [37], \"type\": \"scatter\", \"uid\": \"43031560-e411-11e8-a1d0-d7b4c6107baf\"}, {\"marker\": {\"color\": \"rgb(0,0,255)\", \"colorscale\": \"Viridis\", \"line\": {\"width\": 2}, \"size\": 12, \"symbol\": 3}, \"mode\": \"markers\", \"name\": \"Student_51\", \"text\": [\"Student_51\"], \"x\": [2], \"y\": [64], \"type\": \"scatter\", \"uid\": \"430315ce-e411-11e8-a1d0-d7b4c6107baf\"}, {\"marker\": {\"color\": \"rgb(255,0,0)\", \"colorscale\": \"Viridis\", \"line\": {\"width\": 2}, \"size\": 12, \"symbol\": 1}, \"mode\": \"markers\", \"name\": \"Student_52\", \"text\": [\"Student_52\"], \"x\": [0], \"y\": [7], \"type\": \"scatter\", \"uid\": \"43031650-e411-11e8-a1d0-d7b4c6107baf\"}, {\"marker\": {\"color\": \"rgb(0,0,255)\", \"colorscale\": \"Viridis\", \"line\": {\"width\": 2}, \"size\": 12, \"symbol\": 3}, \"mode\": \"markers\", \"name\": \"Student_53\", \"text\": [\"Student_53\"], \"x\": [3], \"y\": [64], \"type\": \"scatter\", \"uid\": \"430316be-e411-11e8-a1d0-d7b4c6107baf\"}, {\"marker\": {\"color\": \"rgb(127,0,127)\", \"colorscale\": \"Viridis\", \"line\": {\"width\": 2}, \"size\": 12, \"symbol\": 2}, \"mode\": \"markers\", \"name\": \"Student_54\", \"text\": [\"Student_54\"], \"x\": [0], \"y\": [40], \"type\": \"scatter\", \"uid\": \"43031736-e411-11e8-a1d0-d7b4c6107baf\"}, {\"marker\": {\"color\": \"rgb(127,0,127)\", \"colorscale\": \"Viridis\", \"line\": {\"width\": 2}, \"size\": 12, \"symbol\": 2}, \"mode\": \"markers\", \"name\": \"Student_55\", \"text\": [\"Student_55\"], \"x\": [4], \"y\": [54], \"type\": \"scatter\", \"uid\": \"430317a4-e411-11e8-a1d0-d7b4c6107baf\"}, {\"marker\": {\"color\": \"rgb(255,0,0)\", \"colorscale\": \"Viridis\", \"line\": {\"width\": 2}, \"size\": 12, \"symbol\": 1}, \"mode\": \"markers\", \"name\": \"Student_56\", \"text\": [\"Student_56\"], \"x\": [0], \"y\": [26], \"type\": \"scatter\", \"uid\": \"43031812-e411-11e8-a1d0-d7b4c6107baf\"}, {\"marker\": {\"color\": \"rgb(0,255,0)\", \"colorscale\": \"Viridis\", \"line\": {\"width\": 2}, \"size\": 12, \"symbol\": 0}, \"mode\": \"markers\", \"name\": \"Student_57\", \"text\": [\"Student_57\"], \"x\": [4], \"y\": [86], \"type\": \"scatter\", \"uid\": \"43031880-e411-11e8-a1d0-d7b4c6107baf\"}, {\"marker\": {\"color\": \"rgb(0,255,0)\", \"colorscale\": \"Viridis\", \"line\": {\"width\": 2}, \"size\": 12, \"symbol\": 0}, \"mode\": \"markers\", \"name\": \"Student_58\", \"text\": [\"Student_58\"], \"x\": [4], \"y\": [74], \"type\": \"scatter\", \"uid\": \"430318ee-e411-11e8-a1d0-d7b4c6107baf\"}, {\"marker\": {\"color\": \"rgb(0,0,255)\", \"colorscale\": \"Viridis\", \"line\": {\"width\": 2}, \"size\": 12, \"symbol\": 3}, \"mode\": \"markers\", \"name\": \"Student_59\", \"text\": [\"Student_59\"], \"x\": [3], \"y\": [70], \"type\": \"scatter\", \"uid\": \"4303195c-e411-11e8-a1d0-d7b4c6107baf\"}, {\"marker\": {\"color\": \"rgb(0,0,255)\", \"colorscale\": \"Viridis\", \"line\": {\"width\": 2}, \"size\": 12, \"symbol\": 3}, \"mode\": \"markers\", \"name\": \"Student_60\", \"text\": [\"Student_60\"], \"x\": [4], \"y\": [78], \"type\": \"scatter\", \"uid\": \"430319ca-e411-11e8-a1d0-d7b4c6107baf\"}], {\"hovermode\": \"closest\", \"showlegend\": true, \"title\": \"Notas dos estudantes vs atividades respondidas\", \"xaxis\": {\"autorange\": false, \"fixedrange\": false, \"range\": [0, 14], \"rangemode\": \"normal\", \"showline\": true, \"title\": \"Atividades respondidas\", \"zeroline\": false}, \"yaxis\": {\"autorange\": false, \"fixedrange\": false, \"range\": [0, 104], \"rangemode\": \"normal\", \"showline\": true, \"title\": \"Notas\"}}, {\"showLink\": true, \"linkText\": \"Export to plot.ly\"})});</script>"
      ]
     },
     "metadata": {},
     "output_type": "display_data"
    },
    {
     "data": {
      "application/vnd.plotly.v1+json": {
       "data": [
        {
         "marker": {
          "color": "rgb(255,0,0)",
          "colorscale": "Viridis",
          "line": {
           "width": 2
          },
          "size": 12,
          "symbol": 1
         },
         "mode": "markers",
         "name": "Student_1",
         "text": [
          "Student_1"
         ],
         "type": "scatter",
         "uid": "43423f56-e411-11e8-a1d0-d7b4c6107baf",
         "x": [
          7
         ],
         "y": [
          5
         ]
        },
        {
         "marker": {
          "color": "rgb(0,255,0)",
          "colorscale": "Viridis",
          "line": {
           "width": 2
          },
          "size": 12,
          "symbol": 0
         },
         "mode": "markers",
         "name": "Student_2",
         "text": [
          "Student_2"
         ],
         "type": "scatter",
         "uid": "434240f0-e411-11e8-a1d0-d7b4c6107baf",
         "x": [
          114
         ],
         "y": [
          92
         ]
        },
        {
         "marker": {
          "color": "rgb(0,255,0)",
          "colorscale": "Viridis",
          "line": {
           "width": 2
          },
          "size": 12,
          "symbol": 0
         },
         "mode": "markers",
         "name": "Student_3",
         "text": [
          "Student_3"
         ],
         "type": "scatter",
         "uid": "434241cc-e411-11e8-a1d0-d7b4c6107baf",
         "x": [
          63
         ],
         "y": [
          82
         ]
        },
        {
         "marker": {
          "color": "rgb(127,0,127)",
          "colorscale": "Viridis",
          "line": {
           "width": 2
          },
          "size": 12,
          "symbol": 2
         },
         "mode": "markers",
         "name": "Student_4",
         "text": [
          "Student_4"
         ],
         "type": "scatter",
         "uid": "4342426c-e411-11e8-a1d0-d7b4c6107baf",
         "x": [
          7
         ],
         "y": [
          58
         ]
        },
        {
         "marker": {
          "color": "rgb(0,255,0)",
          "colorscale": "Viridis",
          "line": {
           "width": 2
          },
          "size": 12,
          "symbol": 0
         },
         "mode": "markers",
         "name": "Student_5",
         "text": [
          "Student_5"
         ],
         "type": "scatter",
         "uid": "43424302-e411-11e8-a1d0-d7b4c6107baf",
         "x": [
          59
         ],
         "y": [
          77
         ]
        },
        {
         "marker": {
          "color": "rgb(0,255,0)",
          "colorscale": "Viridis",
          "line": {
           "width": 2
          },
          "size": 12,
          "symbol": 0
         },
         "mode": "markers",
         "name": "Student_6",
         "text": [
          "Student_6"
         ],
         "type": "scatter",
         "uid": "4342438e-e411-11e8-a1d0-d7b4c6107baf",
         "x": [
          64
         ],
         "y": [
          87
         ]
        },
        {
         "marker": {
          "color": "rgb(0,255,0)",
          "colorscale": "Viridis",
          "line": {
           "width": 2
          },
          "size": 12,
          "symbol": 0
         },
         "mode": "markers",
         "name": "Student_7",
         "text": [
          "Student_7"
         ],
         "type": "scatter",
         "uid": "4342441a-e411-11e8-a1d0-d7b4c6107baf",
         "x": [
          58
         ],
         "y": [
          74
         ]
        },
        {
         "marker": {
          "color": "rgb(255,0,0)",
          "colorscale": "Viridis",
          "line": {
           "width": 2
          },
          "size": 12,
          "symbol": 1
         },
         "mode": "markers",
         "name": "Student_8",
         "text": [
          "Student_8"
         ],
         "type": "scatter",
         "uid": "434244a6-e411-11e8-a1d0-d7b4c6107baf",
         "x": [
          5
         ],
         "y": [
          14
         ]
        },
        {
         "marker": {
          "color": "rgb(0,0,255)",
          "colorscale": "Viridis",
          "line": {
           "width": 2
          },
          "size": 12,
          "symbol": 3
         },
         "mode": "markers",
         "name": "Student_9",
         "text": [
          "Student_9"
         ],
         "type": "scatter",
         "uid": "43424532-e411-11e8-a1d0-d7b4c6107baf",
         "x": [
          18
         ],
         "y": [
          59
         ]
        },
        {
         "marker": {
          "color": "rgb(127,0,127)",
          "colorscale": "Viridis",
          "line": {
           "width": 2
          },
          "size": 12,
          "symbol": 2
         },
         "mode": "markers",
         "name": "Student_10",
         "text": [
          "Student_10"
         ],
         "type": "scatter",
         "uid": "434245c8-e411-11e8-a1d0-d7b4c6107baf",
         "x": [
          2
         ],
         "y": [
          39
         ]
        },
        {
         "marker": {
          "color": "rgb(0,255,0)",
          "colorscale": "Viridis",
          "line": {
           "width": 2
          },
          "size": 12,
          "symbol": 0
         },
         "mode": "markers",
         "name": "Student_11",
         "text": [
          "Student_11"
         ],
         "type": "scatter",
         "uid": "43424654-e411-11e8-a1d0-d7b4c6107baf",
         "x": [
          72
         ],
         "y": [
          94
         ]
        },
        {
         "marker": {
          "color": "rgb(127,0,127)",
          "colorscale": "Viridis",
          "line": {
           "width": 2
          },
          "size": 12,
          "symbol": 2
         },
         "mode": "markers",
         "name": "Student_12",
         "text": [
          "Student_12"
         ],
         "type": "scatter",
         "uid": "434246e0-e411-11e8-a1d0-d7b4c6107baf",
         "x": [
          11
         ],
         "y": [
          43
         ]
        },
        {
         "marker": {
          "color": "rgb(127,0,127)",
          "colorscale": "Viridis",
          "line": {
           "width": 2
          },
          "size": 12,
          "symbol": 2
         },
         "mode": "markers",
         "name": "Student_13",
         "text": [
          "Student_13"
         ],
         "type": "scatter",
         "uid": "43424762-e411-11e8-a1d0-d7b4c6107baf",
         "x": [
          12
         ],
         "y": [
          42
         ]
        },
        {
         "marker": {
          "color": "rgb(0,0,255)",
          "colorscale": "Viridis",
          "line": {
           "width": 2
          },
          "size": 12,
          "symbol": 3
         },
         "mode": "markers",
         "name": "Student_14",
         "text": [
          "Student_14"
         ],
         "type": "scatter",
         "uid": "434247ee-e411-11e8-a1d0-d7b4c6107baf",
         "x": [
          11
         ],
         "y": [
          67
         ]
        },
        {
         "marker": {
          "color": "rgb(127,0,127)",
          "colorscale": "Viridis",
          "line": {
           "width": 2
          },
          "size": 12,
          "symbol": 2
         },
         "mode": "markers",
         "name": "Student_15",
         "text": [
          "Student_15"
         ],
         "type": "scatter",
         "uid": "4342487a-e411-11e8-a1d0-d7b4c6107baf",
         "x": [
          13
         ],
         "y": [
          53
         ]
        },
        {
         "marker": {
          "color": "rgb(0,0,255)",
          "colorscale": "Viridis",
          "line": {
           "width": 2
          },
          "size": 12,
          "symbol": 3
         },
         "mode": "markers",
         "name": "Student_16",
         "text": [
          "Student_16"
         ],
         "type": "scatter",
         "uid": "43424906-e411-11e8-a1d0-d7b4c6107baf",
         "x": [
          22
         ],
         "y": [
          63
         ]
        },
        {
         "marker": {
          "color": "rgb(0,0,255)",
          "colorscale": "Viridis",
          "line": {
           "width": 2
          },
          "size": 12,
          "symbol": 3
         },
         "mode": "markers",
         "name": "Student_17",
         "text": [
          "Student_17"
         ],
         "type": "scatter",
         "uid": "43424992-e411-11e8-a1d0-d7b4c6107baf",
         "x": [
          25
         ],
         "y": [
          69
         ]
        },
        {
         "marker": {
          "color": "rgb(255,0,0)",
          "colorscale": "Viridis",
          "line": {
           "width": 2
          },
          "size": 12,
          "symbol": 1
         },
         "mode": "markers",
         "name": "Student_18",
         "text": [
          "Student_18"
         ],
         "type": "scatter",
         "uid": "43424a1e-e411-11e8-a1d0-d7b4c6107baf",
         "x": [
          7
         ],
         "y": [
          31
         ]
        },
        {
         "marker": {
          "color": "rgb(0,255,0)",
          "colorscale": "Viridis",
          "line": {
           "width": 2
          },
          "size": 12,
          "symbol": 0
         },
         "mode": "markers",
         "name": "Student_19",
         "text": [
          "Student_19"
         ],
         "type": "scatter",
         "uid": "43424aaa-e411-11e8-a1d0-d7b4c6107baf",
         "x": [
          69
         ],
         "y": [
          81
         ]
        },
        {
         "marker": {
          "color": "rgb(127,0,127)",
          "colorscale": "Viridis",
          "line": {
           "width": 2
          },
          "size": 12,
          "symbol": 2
         },
         "mode": "markers",
         "name": "Student_20",
         "text": [
          "Student_20"
         ],
         "type": "scatter",
         "uid": "43424b36-e411-11e8-a1d0-d7b4c6107baf",
         "x": [
          6
         ],
         "y": [
          46
         ]
        },
        {
         "marker": {
          "color": "rgb(255,0,0)",
          "colorscale": "Viridis",
          "line": {
           "width": 2
          },
          "size": 12,
          "symbol": 1
         },
         "mode": "markers",
         "name": "Student_21",
         "text": [
          "Student_21"
         ],
         "type": "scatter",
         "uid": "43424bb8-e411-11e8-a1d0-d7b4c6107baf",
         "x": [
          7
         ],
         "y": [
          22
         ]
        },
        {
         "marker": {
          "color": "rgb(0,0,255)",
          "colorscale": "Viridis",
          "line": {
           "width": 2
          },
          "size": 12,
          "symbol": 3
         },
         "mode": "markers",
         "name": "Student_22",
         "text": [
          "Student_22"
         ],
         "type": "scatter",
         "uid": "43424c44-e411-11e8-a1d0-d7b4c6107baf",
         "x": [
          19
         ],
         "y": [
          56
         ]
        },
        {
         "marker": {
          "color": "rgb(0,0,255)",
          "colorscale": "Viridis",
          "line": {
           "width": 2
          },
          "size": 12,
          "symbol": 3
         },
         "mode": "markers",
         "name": "Student_23",
         "text": [
          "Student_23"
         ],
         "type": "scatter",
         "uid": "43424cd0-e411-11e8-a1d0-d7b4c6107baf",
         "x": [
          40
         ],
         "y": [
          63
         ]
        },
        {
         "marker": {
          "color": "rgb(127,0,127)",
          "colorscale": "Viridis",
          "line": {
           "width": 2
          },
          "size": 12,
          "symbol": 2
         },
         "mode": "markers",
         "name": "Student_24",
         "text": [
          "Student_24"
         ],
         "type": "scatter",
         "uid": "43424d5c-e411-11e8-a1d0-d7b4c6107baf",
         "x": [
          4
         ],
         "y": [
          47
         ]
        },
        {
         "marker": {
          "color": "rgb(0,0,255)",
          "colorscale": "Viridis",
          "line": {
           "width": 2
          },
          "size": 12,
          "symbol": 3
         },
         "mode": "markers",
         "name": "Student_25",
         "text": [
          "Student_25"
         ],
         "type": "scatter",
         "uid": "43424dde-e411-11e8-a1d0-d7b4c6107baf",
         "x": [
          33
         ],
         "y": [
          73
         ]
        },
        {
         "marker": {
          "color": "rgb(255,0,0)",
          "colorscale": "Viridis",
          "line": {
           "width": 2
          },
          "size": 12,
          "symbol": 1
         },
         "mode": "markers",
         "name": "Student_26",
         "text": [
          "Student_26"
         ],
         "type": "scatter",
         "uid": "43424e6a-e411-11e8-a1d0-d7b4c6107baf",
         "x": [
          11
         ],
         "y": [
          33
         ]
        },
        {
         "marker": {
          "color": "rgb(127,0,127)",
          "colorscale": "Viridis",
          "line": {
           "width": 2
          },
          "size": 12,
          "symbol": 2
         },
         "mode": "markers",
         "name": "Student_27",
         "text": [
          "Student_27"
         ],
         "type": "scatter",
         "uid": "43424ef6-e411-11e8-a1d0-d7b4c6107baf",
         "x": [
          11
         ],
         "y": [
          50
         ]
        },
        {
         "marker": {
          "color": "rgb(127,0,127)",
          "colorscale": "Viridis",
          "line": {
           "width": 2
          },
          "size": 12,
          "symbol": 2
         },
         "mode": "markers",
         "name": "Student_28",
         "text": [
          "Student_28"
         ],
         "type": "scatter",
         "uid": "43424f82-e411-11e8-a1d0-d7b4c6107baf",
         "x": [
          11
         ],
         "y": [
          46
         ]
        },
        {
         "marker": {
          "color": "rgb(0,0,255)",
          "colorscale": "Viridis",
          "line": {
           "width": 2
          },
          "size": 12,
          "symbol": 3
         },
         "mode": "markers",
         "name": "Student_29",
         "text": [
          "Student_29"
         ],
         "type": "scatter",
         "uid": "43425004-e411-11e8-a1d0-d7b4c6107baf",
         "x": [
          38
         ],
         "y": [
          76
         ]
        },
        {
         "marker": {
          "color": "rgb(0,0,255)",
          "colorscale": "Viridis",
          "line": {
           "width": 2
          },
          "size": 12,
          "symbol": 3
         },
         "mode": "markers",
         "name": "Student_30",
         "text": [
          "Student_30"
         ],
         "type": "scatter",
         "uid": "43425090-e411-11e8-a1d0-d7b4c6107baf",
         "x": [
          35
         ],
         "y": [
          67
         ]
        },
        {
         "marker": {
          "color": "rgb(127,0,127)",
          "colorscale": "Viridis",
          "line": {
           "width": 2
          },
          "size": 12,
          "symbol": 2
         },
         "mode": "markers",
         "name": "Student_31",
         "text": [
          "Student_31"
         ],
         "type": "scatter",
         "uid": "4342511c-e411-11e8-a1d0-d7b4c6107baf",
         "x": [
          2
         ],
         "y": [
          48
         ]
        },
        {
         "marker": {
          "color": "rgb(255,0,0)",
          "colorscale": "Viridis",
          "line": {
           "width": 2
          },
          "size": 12,
          "symbol": 1
         },
         "mode": "markers",
         "name": "Student_32",
         "text": [
          "Student_32"
         ],
         "type": "scatter",
         "uid": "434251a8-e411-11e8-a1d0-d7b4c6107baf",
         "x": [
          6
         ],
         "y": [
          22
         ]
        },
        {
         "marker": {
          "color": "rgb(0,255,0)",
          "colorscale": "Viridis",
          "line": {
           "width": 2
          },
          "size": 12,
          "symbol": 0
         },
         "mode": "markers",
         "name": "Student_33",
         "text": [
          "Student_33"
         ],
         "type": "scatter",
         "uid": "43425234-e411-11e8-a1d0-d7b4c6107baf",
         "x": [
          64
         ],
         "y": [
          85
         ]
        },
        {
         "marker": {
          "color": "rgb(127,0,127)",
          "colorscale": "Viridis",
          "line": {
           "width": 2
          },
          "size": 12,
          "symbol": 2
         },
         "mode": "markers",
         "name": "Student_34",
         "text": [
          "Student_34"
         ],
         "type": "scatter",
         "uid": "434252c0-e411-11e8-a1d0-d7b4c6107baf",
         "x": [
          23
         ],
         "y": [
          57
         ]
        },
        {
         "marker": {
          "color": "rgb(0,0,255)",
          "colorscale": "Viridis",
          "line": {
           "width": 2
          },
          "size": 12,
          "symbol": 3
         },
         "mode": "markers",
         "name": "Student_35",
         "text": [
          "Student_35"
         ],
         "type": "scatter",
         "uid": "4342534c-e411-11e8-a1d0-d7b4c6107baf",
         "x": [
          33
         ],
         "y": [
          65
         ]
        },
        {
         "marker": {
          "color": "rgb(0,0,255)",
          "colorscale": "Viridis",
          "line": {
           "width": 2
          },
          "size": 12,
          "symbol": 3
         },
         "mode": "markers",
         "name": "Student_36",
         "text": [
          "Student_36"
         ],
         "type": "scatter",
         "uid": "434253e2-e411-11e8-a1d0-d7b4c6107baf",
         "x": [
          33
         ],
         "y": [
          63
         ]
        },
        {
         "marker": {
          "color": "rgb(255,0,0)",
          "colorscale": "Viridis",
          "line": {
           "width": 2
          },
          "size": 12,
          "symbol": 1
         },
         "mode": "markers",
         "name": "Student_37",
         "text": [
          "Student_37"
         ],
         "type": "scatter",
         "uid": "4342546e-e411-11e8-a1d0-d7b4c6107baf",
         "x": [
          4
         ],
         "y": [
          36
         ]
        },
        {
         "marker": {
          "color": "rgb(127,0,127)",
          "colorscale": "Viridis",
          "line": {
           "width": 2
          },
          "size": 12,
          "symbol": 2
         },
         "mode": "markers",
         "name": "Student_38",
         "text": [
          "Student_38"
         ],
         "type": "scatter",
         "uid": "434254fa-e411-11e8-a1d0-d7b4c6107baf",
         "x": [
          23
         ],
         "y": [
          51
         ]
        },
        {
         "marker": {
          "color": "rgb(0,255,0)",
          "colorscale": "Viridis",
          "line": {
           "width": 2
          },
          "size": 12,
          "symbol": 0
         },
         "mode": "markers",
         "name": "Student_39",
         "text": [
          "Student_39"
         ],
         "type": "scatter",
         "uid": "43425586-e411-11e8-a1d0-d7b4c6107baf",
         "x": [
          73
         ],
         "y": [
          88
         ]
        },
        {
         "marker": {
          "color": "rgb(255,0,0)",
          "colorscale": "Viridis",
          "line": {
           "width": 2
          },
          "size": 12,
          "symbol": 1
         },
         "mode": "markers",
         "name": "Student_40",
         "text": [
          "Student_40"
         ],
         "type": "scatter",
         "uid": "43425612-e411-11e8-a1d0-d7b4c6107baf",
         "x": [
          7
         ],
         "y": [
          18
         ]
        },
        {
         "marker": {
          "color": "rgb(0,255,0)",
          "colorscale": "Viridis",
          "line": {
           "width": 2
          },
          "size": 12,
          "symbol": 0
         },
         "mode": "markers",
         "name": "Student_41",
         "text": [
          "Student_41"
         ],
         "type": "scatter",
         "uid": "4342569e-e411-11e8-a1d0-d7b4c6107baf",
         "x": [
          69
         ],
         "y": [
          94
         ]
        },
        {
         "marker": {
          "color": "rgb(255,0,0)",
          "colorscale": "Viridis",
          "line": {
           "width": 2
          },
          "size": 12,
          "symbol": 1
         },
         "mode": "markers",
         "name": "Student_42",
         "text": [
          "Student_42"
         ],
         "type": "scatter",
         "uid": "43425734-e411-11e8-a1d0-d7b4c6107baf",
         "x": [
          9
         ],
         "y": [
          25
         ]
        },
        {
         "marker": {
          "color": "rgb(255,0,0)",
          "colorscale": "Viridis",
          "line": {
           "width": 2
          },
          "size": 12,
          "symbol": 1
         },
         "mode": "markers",
         "name": "Student_43",
         "text": [
          "Student_43"
         ],
         "type": "scatter",
         "uid": "434257c0-e411-11e8-a1d0-d7b4c6107baf",
         "x": [
          11
         ],
         "y": [
          25
         ]
        },
        {
         "marker": {
          "color": "rgb(0,0,255)",
          "colorscale": "Viridis",
          "line": {
           "width": 2
          },
          "size": 12,
          "symbol": 3
         },
         "mode": "markers",
         "name": "Student_44",
         "text": [
          "Student_44"
         ],
         "type": "scatter",
         "uid": "4342584c-e411-11e8-a1d0-d7b4c6107baf",
         "x": [
          20
         ],
         "y": [
          70
         ]
        },
        {
         "marker": {
          "color": "rgb(127,0,127)",
          "colorscale": "Viridis",
          "line": {
           "width": 2
          },
          "size": 12,
          "symbol": 2
         },
         "mode": "markers",
         "name": "Student_45",
         "text": [
          "Student_45"
         ],
         "type": "scatter",
         "uid": "434258d8-e411-11e8-a1d0-d7b4c6107baf",
         "x": [
          5
         ],
         "y": [
          46
         ]
        },
        {
         "marker": {
          "color": "rgb(255,0,0)",
          "colorscale": "Viridis",
          "line": {
           "width": 2
          },
          "size": 12,
          "symbol": 1
         },
         "mode": "markers",
         "name": "Student_46",
         "text": [
          "Student_46"
         ],
         "type": "scatter",
         "uid": "43425964-e411-11e8-a1d0-d7b4c6107baf",
         "x": [
          8
         ],
         "y": [
          28
         ]
        },
        {
         "marker": {
          "color": "rgb(0,0,255)",
          "colorscale": "Viridis",
          "line": {
           "width": 2
          },
          "size": 12,
          "symbol": 3
         },
         "mode": "markers",
         "name": "Student_47",
         "text": [
          "Student_47"
         ],
         "type": "scatter",
         "uid": "434259f0-e411-11e8-a1d0-d7b4c6107baf",
         "x": [
          36
         ],
         "y": [
          68
         ]
        },
        {
         "marker": {
          "color": "rgb(127,0,127)",
          "colorscale": "Viridis",
          "line": {
           "width": 2
          },
          "size": 12,
          "symbol": 2
         },
         "mode": "markers",
         "name": "Student_48",
         "text": [
          "Student_48"
         ],
         "type": "scatter",
         "uid": "43425a7c-e411-11e8-a1d0-d7b4c6107baf",
         "x": [
          7
         ],
         "y": [
          40
         ]
        },
        {
         "marker": {
          "color": "rgb(0,0,255)",
          "colorscale": "Viridis",
          "line": {
           "width": 2
          },
          "size": 12,
          "symbol": 3
         },
         "mode": "markers",
         "name": "Student_49",
         "text": [
          "Student_49"
         ],
         "type": "scatter",
         "uid": "43425b08-e411-11e8-a1d0-d7b4c6107baf",
         "x": [
          28
         ],
         "y": [
          79
         ]
        },
        {
         "marker": {
          "color": "rgb(255,0,0)",
          "colorscale": "Viridis",
          "line": {
           "width": 2
          },
          "size": 12,
          "symbol": 1
         },
         "mode": "markers",
         "name": "Student_50",
         "text": [
          "Student_50"
         ],
         "type": "scatter",
         "uid": "43425b94-e411-11e8-a1d0-d7b4c6107baf",
         "x": [
          7
         ],
         "y": [
          37
         ]
        },
        {
         "marker": {
          "color": "rgb(0,0,255)",
          "colorscale": "Viridis",
          "line": {
           "width": 2
          },
          "size": 12,
          "symbol": 3
         },
         "mode": "markers",
         "name": "Student_51",
         "text": [
          "Student_51"
         ],
         "type": "scatter",
         "uid": "43425c2a-e411-11e8-a1d0-d7b4c6107baf",
         "x": [
          23
         ],
         "y": [
          64
         ]
        },
        {
         "marker": {
          "color": "rgb(255,0,0)",
          "colorscale": "Viridis",
          "line": {
           "width": 2
          },
          "size": 12,
          "symbol": 1
         },
         "mode": "markers",
         "name": "Student_52",
         "text": [
          "Student_52"
         ],
         "type": "scatter",
         "uid": "43425cb6-e411-11e8-a1d0-d7b4c6107baf",
         "x": [
          3
         ],
         "y": [
          7
         ]
        },
        {
         "marker": {
          "color": "rgb(0,0,255)",
          "colorscale": "Viridis",
          "line": {
           "width": 2
          },
          "size": 12,
          "symbol": 3
         },
         "mode": "markers",
         "name": "Student_53",
         "text": [
          "Student_53"
         ],
         "type": "scatter",
         "uid": "43425da6-e411-11e8-a1d0-d7b4c6107baf",
         "x": [
          47
         ],
         "y": [
          64
         ]
        },
        {
         "marker": {
          "color": "rgb(127,0,127)",
          "colorscale": "Viridis",
          "line": {
           "width": 2
          },
          "size": 12,
          "symbol": 2
         },
         "mode": "markers",
         "name": "Student_54",
         "text": [
          "Student_54"
         ],
         "type": "scatter",
         "uid": "43425eaa-e411-11e8-a1d0-d7b4c6107baf",
         "x": [
          5
         ],
         "y": [
          40
         ]
        },
        {
         "marker": {
          "color": "rgb(127,0,127)",
          "colorscale": "Viridis",
          "line": {
           "width": 2
          },
          "size": 12,
          "symbol": 2
         },
         "mode": "markers",
         "name": "Student_55",
         "text": [
          "Student_55"
         ],
         "type": "scatter",
         "uid": "43425f9a-e411-11e8-a1d0-d7b4c6107baf",
         "x": [
          18
         ],
         "y": [
          54
         ]
        },
        {
         "marker": {
          "color": "rgb(255,0,0)",
          "colorscale": "Viridis",
          "line": {
           "width": 2
          },
          "size": 12,
          "symbol": 1
         },
         "mode": "markers",
         "name": "Student_56",
         "text": [
          "Student_56"
         ],
         "type": "scatter",
         "uid": "4342608a-e411-11e8-a1d0-d7b4c6107baf",
         "x": [
          3
         ],
         "y": [
          26
         ]
        },
        {
         "marker": {
          "color": "rgb(0,255,0)",
          "colorscale": "Viridis",
          "line": {
           "width": 2
          },
          "size": 12,
          "symbol": 0
         },
         "mode": "markers",
         "name": "Student_57",
         "text": [
          "Student_57"
         ],
         "type": "scatter",
         "uid": "4342617a-e411-11e8-a1d0-d7b4c6107baf",
         "x": [
          39
         ],
         "y": [
          86
         ]
        },
        {
         "marker": {
          "color": "rgb(0,255,0)",
          "colorscale": "Viridis",
          "line": {
           "width": 2
          },
          "size": 12,
          "symbol": 0
         },
         "mode": "markers",
         "name": "Student_58",
         "text": [
          "Student_58"
         ],
         "type": "scatter",
         "uid": "43426260-e411-11e8-a1d0-d7b4c6107baf",
         "x": [
          68
         ],
         "y": [
          74
         ]
        },
        {
         "marker": {
          "color": "rgb(0,0,255)",
          "colorscale": "Viridis",
          "line": {
           "width": 2
          },
          "size": 12,
          "symbol": 3
         },
         "mode": "markers",
         "name": "Student_59",
         "text": [
          "Student_59"
         ],
         "type": "scatter",
         "uid": "43426350-e411-11e8-a1d0-d7b4c6107baf",
         "x": [
          19
         ],
         "y": [
          70
         ]
        },
        {
         "marker": {
          "color": "rgb(0,0,255)",
          "colorscale": "Viridis",
          "line": {
           "width": 2
          },
          "size": 12,
          "symbol": 3
         },
         "mode": "markers",
         "name": "Student_60",
         "text": [
          "Student_60"
         ],
         "type": "scatter",
         "uid": "4342642c-e411-11e8-a1d0-d7b4c6107baf",
         "x": [
          43
         ],
         "y": [
          78
         ]
        }
       ],
       "layout": {
        "hovermode": "closest",
        "showlegend": true,
        "title": "Notas dos estudantes vs acesso ao fórum",
        "xaxis": {
         "autorange": false,
         "fixedrange": false,
         "range": [
          0,
          124
         ],
         "rangemode": "normal",
         "showline": true,
         "title": "Acesso ao fórum",
         "zeroline": false
        },
        "yaxis": {
         "autorange": false,
         "fixedrange": false,
         "range": [
          0,
          104
         ],
         "rangemode": "normal",
         "showline": true,
         "title": "Notas"
        }
       }
      },
      "text/html": [
       "<div id=\"18eb21d1-33f4-4b1e-bcad-529540dd6a51\" style=\"height: 525px; width: 100%;\" class=\"plotly-graph-div\"></div><script type=\"text/javascript\">require([\"plotly\"], function(Plotly) { window.PLOTLYENV=window.PLOTLYENV || {};window.PLOTLYENV.BASE_URL=\"https://plot.ly\";Plotly.newPlot(\"18eb21d1-33f4-4b1e-bcad-529540dd6a51\", [{\"marker\": {\"color\": \"rgb(255,0,0)\", \"colorscale\": \"Viridis\", \"line\": {\"width\": 2}, \"size\": 12, \"symbol\": 1}, \"mode\": \"markers\", \"name\": \"Student_1\", \"text\": [\"Student_1\"], \"x\": [7], \"y\": [5], \"type\": \"scatter\", \"uid\": \"43423f56-e411-11e8-a1d0-d7b4c6107baf\"}, {\"marker\": {\"color\": \"rgb(0,255,0)\", \"colorscale\": \"Viridis\", \"line\": {\"width\": 2}, \"size\": 12, \"symbol\": 0}, \"mode\": \"markers\", \"name\": \"Student_2\", \"text\": [\"Student_2\"], \"x\": [114], \"y\": [92], \"type\": \"scatter\", \"uid\": \"434240f0-e411-11e8-a1d0-d7b4c6107baf\"}, {\"marker\": {\"color\": \"rgb(0,255,0)\", \"colorscale\": \"Viridis\", \"line\": {\"width\": 2}, \"size\": 12, \"symbol\": 0}, \"mode\": \"markers\", \"name\": \"Student_3\", \"text\": [\"Student_3\"], \"x\": [63], \"y\": [82], \"type\": \"scatter\", \"uid\": \"434241cc-e411-11e8-a1d0-d7b4c6107baf\"}, {\"marker\": {\"color\": \"rgb(127,0,127)\", \"colorscale\": \"Viridis\", \"line\": {\"width\": 2}, \"size\": 12, \"symbol\": 2}, \"mode\": \"markers\", \"name\": \"Student_4\", \"text\": [\"Student_4\"], \"x\": [7], \"y\": [58], \"type\": \"scatter\", \"uid\": \"4342426c-e411-11e8-a1d0-d7b4c6107baf\"}, {\"marker\": {\"color\": \"rgb(0,255,0)\", \"colorscale\": \"Viridis\", \"line\": {\"width\": 2}, \"size\": 12, \"symbol\": 0}, \"mode\": \"markers\", \"name\": \"Student_5\", \"text\": [\"Student_5\"], \"x\": [59], \"y\": [77], \"type\": \"scatter\", \"uid\": \"43424302-e411-11e8-a1d0-d7b4c6107baf\"}, {\"marker\": {\"color\": \"rgb(0,255,0)\", \"colorscale\": \"Viridis\", \"line\": {\"width\": 2}, \"size\": 12, \"symbol\": 0}, \"mode\": \"markers\", \"name\": \"Student_6\", \"text\": [\"Student_6\"], \"x\": [64], \"y\": [87], \"type\": \"scatter\", \"uid\": \"4342438e-e411-11e8-a1d0-d7b4c6107baf\"}, {\"marker\": {\"color\": \"rgb(0,255,0)\", \"colorscale\": \"Viridis\", \"line\": {\"width\": 2}, \"size\": 12, \"symbol\": 0}, \"mode\": \"markers\", \"name\": \"Student_7\", \"text\": [\"Student_7\"], \"x\": [58], \"y\": [74], \"type\": \"scatter\", \"uid\": \"4342441a-e411-11e8-a1d0-d7b4c6107baf\"}, {\"marker\": {\"color\": \"rgb(255,0,0)\", \"colorscale\": \"Viridis\", \"line\": {\"width\": 2}, \"size\": 12, \"symbol\": 1}, \"mode\": \"markers\", \"name\": \"Student_8\", \"text\": [\"Student_8\"], \"x\": [5], \"y\": [14], \"type\": \"scatter\", \"uid\": \"434244a6-e411-11e8-a1d0-d7b4c6107baf\"}, {\"marker\": {\"color\": \"rgb(0,0,255)\", \"colorscale\": \"Viridis\", \"line\": {\"width\": 2}, \"size\": 12, \"symbol\": 3}, \"mode\": \"markers\", \"name\": \"Student_9\", \"text\": [\"Student_9\"], \"x\": [18], \"y\": [59], \"type\": \"scatter\", \"uid\": \"43424532-e411-11e8-a1d0-d7b4c6107baf\"}, {\"marker\": {\"color\": \"rgb(127,0,127)\", \"colorscale\": \"Viridis\", \"line\": {\"width\": 2}, \"size\": 12, \"symbol\": 2}, \"mode\": \"markers\", \"name\": \"Student_10\", \"text\": [\"Student_10\"], \"x\": [2], \"y\": [39], \"type\": \"scatter\", \"uid\": \"434245c8-e411-11e8-a1d0-d7b4c6107baf\"}, {\"marker\": {\"color\": \"rgb(0,255,0)\", \"colorscale\": \"Viridis\", \"line\": {\"width\": 2}, \"size\": 12, \"symbol\": 0}, \"mode\": \"markers\", \"name\": \"Student_11\", \"text\": [\"Student_11\"], \"x\": [72], \"y\": [94], \"type\": \"scatter\", \"uid\": \"43424654-e411-11e8-a1d0-d7b4c6107baf\"}, {\"marker\": {\"color\": \"rgb(127,0,127)\", \"colorscale\": \"Viridis\", \"line\": {\"width\": 2}, \"size\": 12, \"symbol\": 2}, \"mode\": \"markers\", \"name\": \"Student_12\", \"text\": [\"Student_12\"], \"x\": [11], \"y\": [43], \"type\": \"scatter\", \"uid\": \"434246e0-e411-11e8-a1d0-d7b4c6107baf\"}, {\"marker\": {\"color\": \"rgb(127,0,127)\", \"colorscale\": \"Viridis\", \"line\": {\"width\": 2}, \"size\": 12, \"symbol\": 2}, \"mode\": \"markers\", \"name\": \"Student_13\", \"text\": [\"Student_13\"], \"x\": [12], \"y\": [42], \"type\": \"scatter\", \"uid\": \"43424762-e411-11e8-a1d0-d7b4c6107baf\"}, {\"marker\": {\"color\": \"rgb(0,0,255)\", \"colorscale\": \"Viridis\", \"line\": {\"width\": 2}, \"size\": 12, \"symbol\": 3}, \"mode\": \"markers\", \"name\": \"Student_14\", \"text\": [\"Student_14\"], \"x\": [11], \"y\": [67], \"type\": \"scatter\", \"uid\": \"434247ee-e411-11e8-a1d0-d7b4c6107baf\"}, {\"marker\": {\"color\": \"rgb(127,0,127)\", \"colorscale\": \"Viridis\", \"line\": {\"width\": 2}, \"size\": 12, \"symbol\": 2}, \"mode\": \"markers\", \"name\": \"Student_15\", \"text\": [\"Student_15\"], \"x\": [13], \"y\": [53], \"type\": \"scatter\", \"uid\": \"4342487a-e411-11e8-a1d0-d7b4c6107baf\"}, {\"marker\": {\"color\": \"rgb(0,0,255)\", \"colorscale\": \"Viridis\", \"line\": {\"width\": 2}, \"size\": 12, \"symbol\": 3}, \"mode\": \"markers\", \"name\": \"Student_16\", \"text\": [\"Student_16\"], \"x\": [22], \"y\": [63], \"type\": \"scatter\", \"uid\": \"43424906-e411-11e8-a1d0-d7b4c6107baf\"}, {\"marker\": {\"color\": \"rgb(0,0,255)\", \"colorscale\": \"Viridis\", \"line\": {\"width\": 2}, \"size\": 12, \"symbol\": 3}, \"mode\": \"markers\", \"name\": \"Student_17\", \"text\": [\"Student_17\"], \"x\": [25], \"y\": [69], \"type\": \"scatter\", \"uid\": \"43424992-e411-11e8-a1d0-d7b4c6107baf\"}, {\"marker\": {\"color\": \"rgb(255,0,0)\", \"colorscale\": \"Viridis\", \"line\": {\"width\": 2}, \"size\": 12, \"symbol\": 1}, \"mode\": \"markers\", \"name\": \"Student_18\", \"text\": [\"Student_18\"], \"x\": [7], \"y\": [31], \"type\": \"scatter\", \"uid\": \"43424a1e-e411-11e8-a1d0-d7b4c6107baf\"}, {\"marker\": {\"color\": \"rgb(0,255,0)\", \"colorscale\": \"Viridis\", \"line\": {\"width\": 2}, \"size\": 12, \"symbol\": 0}, \"mode\": \"markers\", \"name\": \"Student_19\", \"text\": [\"Student_19\"], \"x\": [69], \"y\": [81], \"type\": \"scatter\", \"uid\": \"43424aaa-e411-11e8-a1d0-d7b4c6107baf\"}, {\"marker\": {\"color\": \"rgb(127,0,127)\", \"colorscale\": \"Viridis\", \"line\": {\"width\": 2}, \"size\": 12, \"symbol\": 2}, \"mode\": \"markers\", \"name\": \"Student_20\", \"text\": [\"Student_20\"], \"x\": [6], \"y\": [46], \"type\": \"scatter\", \"uid\": \"43424b36-e411-11e8-a1d0-d7b4c6107baf\"}, {\"marker\": {\"color\": \"rgb(255,0,0)\", \"colorscale\": \"Viridis\", \"line\": {\"width\": 2}, \"size\": 12, \"symbol\": 1}, \"mode\": \"markers\", \"name\": \"Student_21\", \"text\": [\"Student_21\"], \"x\": [7], \"y\": [22], \"type\": \"scatter\", \"uid\": \"43424bb8-e411-11e8-a1d0-d7b4c6107baf\"}, {\"marker\": {\"color\": \"rgb(0,0,255)\", \"colorscale\": \"Viridis\", \"line\": {\"width\": 2}, \"size\": 12, \"symbol\": 3}, \"mode\": \"markers\", \"name\": \"Student_22\", \"text\": [\"Student_22\"], \"x\": [19], \"y\": [56], \"type\": \"scatter\", \"uid\": \"43424c44-e411-11e8-a1d0-d7b4c6107baf\"}, {\"marker\": {\"color\": \"rgb(0,0,255)\", \"colorscale\": \"Viridis\", \"line\": {\"width\": 2}, \"size\": 12, \"symbol\": 3}, \"mode\": \"markers\", \"name\": \"Student_23\", \"text\": [\"Student_23\"], \"x\": [40], \"y\": [63], \"type\": \"scatter\", \"uid\": \"43424cd0-e411-11e8-a1d0-d7b4c6107baf\"}, {\"marker\": {\"color\": \"rgb(127,0,127)\", \"colorscale\": \"Viridis\", \"line\": {\"width\": 2}, \"size\": 12, \"symbol\": 2}, \"mode\": \"markers\", \"name\": \"Student_24\", \"text\": [\"Student_24\"], \"x\": [4], \"y\": [47], \"type\": \"scatter\", \"uid\": \"43424d5c-e411-11e8-a1d0-d7b4c6107baf\"}, {\"marker\": {\"color\": \"rgb(0,0,255)\", \"colorscale\": \"Viridis\", \"line\": {\"width\": 2}, \"size\": 12, \"symbol\": 3}, \"mode\": \"markers\", \"name\": \"Student_25\", \"text\": [\"Student_25\"], \"x\": [33], \"y\": [73], \"type\": \"scatter\", \"uid\": \"43424dde-e411-11e8-a1d0-d7b4c6107baf\"}, {\"marker\": {\"color\": \"rgb(255,0,0)\", \"colorscale\": \"Viridis\", \"line\": {\"width\": 2}, \"size\": 12, \"symbol\": 1}, \"mode\": \"markers\", \"name\": \"Student_26\", \"text\": [\"Student_26\"], \"x\": [11], \"y\": [33], \"type\": \"scatter\", \"uid\": \"43424e6a-e411-11e8-a1d0-d7b4c6107baf\"}, {\"marker\": {\"color\": \"rgb(127,0,127)\", \"colorscale\": \"Viridis\", \"line\": {\"width\": 2}, \"size\": 12, \"symbol\": 2}, \"mode\": \"markers\", \"name\": \"Student_27\", \"text\": [\"Student_27\"], \"x\": [11], \"y\": [50], \"type\": \"scatter\", \"uid\": \"43424ef6-e411-11e8-a1d0-d7b4c6107baf\"}, {\"marker\": {\"color\": \"rgb(127,0,127)\", \"colorscale\": \"Viridis\", \"line\": {\"width\": 2}, \"size\": 12, \"symbol\": 2}, \"mode\": \"markers\", \"name\": \"Student_28\", \"text\": [\"Student_28\"], \"x\": [11], \"y\": [46], \"type\": \"scatter\", \"uid\": \"43424f82-e411-11e8-a1d0-d7b4c6107baf\"}, {\"marker\": {\"color\": \"rgb(0,0,255)\", \"colorscale\": \"Viridis\", \"line\": {\"width\": 2}, \"size\": 12, \"symbol\": 3}, \"mode\": \"markers\", \"name\": \"Student_29\", \"text\": [\"Student_29\"], \"x\": [38], \"y\": [76], \"type\": \"scatter\", \"uid\": \"43425004-e411-11e8-a1d0-d7b4c6107baf\"}, {\"marker\": {\"color\": \"rgb(0,0,255)\", \"colorscale\": \"Viridis\", \"line\": {\"width\": 2}, \"size\": 12, \"symbol\": 3}, \"mode\": \"markers\", \"name\": \"Student_30\", \"text\": [\"Student_30\"], \"x\": [35], \"y\": [67], \"type\": \"scatter\", \"uid\": \"43425090-e411-11e8-a1d0-d7b4c6107baf\"}, {\"marker\": {\"color\": \"rgb(127,0,127)\", \"colorscale\": \"Viridis\", \"line\": {\"width\": 2}, \"size\": 12, \"symbol\": 2}, \"mode\": \"markers\", \"name\": \"Student_31\", \"text\": [\"Student_31\"], \"x\": [2], \"y\": [48], \"type\": \"scatter\", \"uid\": \"4342511c-e411-11e8-a1d0-d7b4c6107baf\"}, {\"marker\": {\"color\": \"rgb(255,0,0)\", \"colorscale\": \"Viridis\", \"line\": {\"width\": 2}, \"size\": 12, \"symbol\": 1}, \"mode\": \"markers\", \"name\": \"Student_32\", \"text\": [\"Student_32\"], \"x\": [6], \"y\": [22], \"type\": \"scatter\", \"uid\": \"434251a8-e411-11e8-a1d0-d7b4c6107baf\"}, {\"marker\": {\"color\": \"rgb(0,255,0)\", \"colorscale\": \"Viridis\", \"line\": {\"width\": 2}, \"size\": 12, \"symbol\": 0}, \"mode\": \"markers\", \"name\": \"Student_33\", \"text\": [\"Student_33\"], \"x\": [64], \"y\": [85], \"type\": \"scatter\", \"uid\": \"43425234-e411-11e8-a1d0-d7b4c6107baf\"}, {\"marker\": {\"color\": \"rgb(127,0,127)\", \"colorscale\": \"Viridis\", \"line\": {\"width\": 2}, \"size\": 12, \"symbol\": 2}, \"mode\": \"markers\", \"name\": \"Student_34\", \"text\": [\"Student_34\"], \"x\": [23], \"y\": [57], \"type\": \"scatter\", \"uid\": \"434252c0-e411-11e8-a1d0-d7b4c6107baf\"}, {\"marker\": {\"color\": \"rgb(0,0,255)\", \"colorscale\": \"Viridis\", \"line\": {\"width\": 2}, \"size\": 12, \"symbol\": 3}, \"mode\": \"markers\", \"name\": \"Student_35\", \"text\": [\"Student_35\"], \"x\": [33], \"y\": [65], \"type\": \"scatter\", \"uid\": \"4342534c-e411-11e8-a1d0-d7b4c6107baf\"}, {\"marker\": {\"color\": \"rgb(0,0,255)\", \"colorscale\": \"Viridis\", \"line\": {\"width\": 2}, \"size\": 12, \"symbol\": 3}, \"mode\": \"markers\", \"name\": \"Student_36\", \"text\": [\"Student_36\"], \"x\": [33], \"y\": [63], \"type\": \"scatter\", \"uid\": \"434253e2-e411-11e8-a1d0-d7b4c6107baf\"}, {\"marker\": {\"color\": \"rgb(255,0,0)\", \"colorscale\": \"Viridis\", \"line\": {\"width\": 2}, \"size\": 12, \"symbol\": 1}, \"mode\": \"markers\", \"name\": \"Student_37\", \"text\": [\"Student_37\"], \"x\": [4], \"y\": [36], \"type\": \"scatter\", \"uid\": \"4342546e-e411-11e8-a1d0-d7b4c6107baf\"}, {\"marker\": {\"color\": \"rgb(127,0,127)\", \"colorscale\": \"Viridis\", \"line\": {\"width\": 2}, \"size\": 12, \"symbol\": 2}, \"mode\": \"markers\", \"name\": \"Student_38\", \"text\": [\"Student_38\"], \"x\": [23], \"y\": [51], \"type\": \"scatter\", \"uid\": \"434254fa-e411-11e8-a1d0-d7b4c6107baf\"}, {\"marker\": {\"color\": \"rgb(0,255,0)\", \"colorscale\": \"Viridis\", \"line\": {\"width\": 2}, \"size\": 12, \"symbol\": 0}, \"mode\": \"markers\", \"name\": \"Student_39\", \"text\": [\"Student_39\"], \"x\": [73], \"y\": [88], \"type\": \"scatter\", \"uid\": \"43425586-e411-11e8-a1d0-d7b4c6107baf\"}, {\"marker\": {\"color\": \"rgb(255,0,0)\", \"colorscale\": \"Viridis\", \"line\": {\"width\": 2}, \"size\": 12, \"symbol\": 1}, \"mode\": \"markers\", \"name\": \"Student_40\", \"text\": [\"Student_40\"], \"x\": [7], \"y\": [18], \"type\": \"scatter\", \"uid\": \"43425612-e411-11e8-a1d0-d7b4c6107baf\"}, {\"marker\": {\"color\": \"rgb(0,255,0)\", \"colorscale\": \"Viridis\", \"line\": {\"width\": 2}, \"size\": 12, \"symbol\": 0}, \"mode\": \"markers\", \"name\": \"Student_41\", \"text\": [\"Student_41\"], \"x\": [69], \"y\": [94], \"type\": \"scatter\", \"uid\": \"4342569e-e411-11e8-a1d0-d7b4c6107baf\"}, {\"marker\": {\"color\": \"rgb(255,0,0)\", \"colorscale\": \"Viridis\", \"line\": {\"width\": 2}, \"size\": 12, \"symbol\": 1}, \"mode\": \"markers\", \"name\": \"Student_42\", \"text\": [\"Student_42\"], \"x\": [9], \"y\": [25], \"type\": \"scatter\", \"uid\": \"43425734-e411-11e8-a1d0-d7b4c6107baf\"}, {\"marker\": {\"color\": \"rgb(255,0,0)\", \"colorscale\": \"Viridis\", \"line\": {\"width\": 2}, \"size\": 12, \"symbol\": 1}, \"mode\": \"markers\", \"name\": \"Student_43\", \"text\": [\"Student_43\"], \"x\": [11], \"y\": [25], \"type\": \"scatter\", \"uid\": \"434257c0-e411-11e8-a1d0-d7b4c6107baf\"}, {\"marker\": {\"color\": \"rgb(0,0,255)\", \"colorscale\": \"Viridis\", \"line\": {\"width\": 2}, \"size\": 12, \"symbol\": 3}, \"mode\": \"markers\", \"name\": \"Student_44\", \"text\": [\"Student_44\"], \"x\": [20], \"y\": [70], \"type\": \"scatter\", \"uid\": \"4342584c-e411-11e8-a1d0-d7b4c6107baf\"}, {\"marker\": {\"color\": \"rgb(127,0,127)\", \"colorscale\": \"Viridis\", \"line\": {\"width\": 2}, \"size\": 12, \"symbol\": 2}, \"mode\": \"markers\", \"name\": \"Student_45\", \"text\": [\"Student_45\"], \"x\": [5], \"y\": [46], \"type\": \"scatter\", \"uid\": \"434258d8-e411-11e8-a1d0-d7b4c6107baf\"}, {\"marker\": {\"color\": \"rgb(255,0,0)\", \"colorscale\": \"Viridis\", \"line\": {\"width\": 2}, \"size\": 12, \"symbol\": 1}, \"mode\": \"markers\", \"name\": \"Student_46\", \"text\": [\"Student_46\"], \"x\": [8], \"y\": [28], \"type\": \"scatter\", \"uid\": \"43425964-e411-11e8-a1d0-d7b4c6107baf\"}, {\"marker\": {\"color\": \"rgb(0,0,255)\", \"colorscale\": \"Viridis\", \"line\": {\"width\": 2}, \"size\": 12, \"symbol\": 3}, \"mode\": \"markers\", \"name\": \"Student_47\", \"text\": [\"Student_47\"], \"x\": [36], \"y\": [68], \"type\": \"scatter\", \"uid\": \"434259f0-e411-11e8-a1d0-d7b4c6107baf\"}, {\"marker\": {\"color\": \"rgb(127,0,127)\", \"colorscale\": \"Viridis\", \"line\": {\"width\": 2}, \"size\": 12, \"symbol\": 2}, \"mode\": \"markers\", \"name\": \"Student_48\", \"text\": [\"Student_48\"], \"x\": [7], \"y\": [40], \"type\": \"scatter\", \"uid\": \"43425a7c-e411-11e8-a1d0-d7b4c6107baf\"}, {\"marker\": {\"color\": \"rgb(0,0,255)\", \"colorscale\": \"Viridis\", \"line\": {\"width\": 2}, \"size\": 12, \"symbol\": 3}, \"mode\": \"markers\", \"name\": \"Student_49\", \"text\": [\"Student_49\"], \"x\": [28], \"y\": [79], \"type\": \"scatter\", \"uid\": \"43425b08-e411-11e8-a1d0-d7b4c6107baf\"}, {\"marker\": {\"color\": \"rgb(255,0,0)\", \"colorscale\": \"Viridis\", \"line\": {\"width\": 2}, \"size\": 12, \"symbol\": 1}, \"mode\": \"markers\", \"name\": \"Student_50\", \"text\": [\"Student_50\"], \"x\": [7], \"y\": [37], \"type\": \"scatter\", \"uid\": \"43425b94-e411-11e8-a1d0-d7b4c6107baf\"}, {\"marker\": {\"color\": \"rgb(0,0,255)\", \"colorscale\": \"Viridis\", \"line\": {\"width\": 2}, \"size\": 12, \"symbol\": 3}, \"mode\": \"markers\", \"name\": \"Student_51\", \"text\": [\"Student_51\"], \"x\": [23], \"y\": [64], \"type\": \"scatter\", \"uid\": \"43425c2a-e411-11e8-a1d0-d7b4c6107baf\"}, {\"marker\": {\"color\": \"rgb(255,0,0)\", \"colorscale\": \"Viridis\", \"line\": {\"width\": 2}, \"size\": 12, \"symbol\": 1}, \"mode\": \"markers\", \"name\": \"Student_52\", \"text\": [\"Student_52\"], \"x\": [3], \"y\": [7], \"type\": \"scatter\", \"uid\": \"43425cb6-e411-11e8-a1d0-d7b4c6107baf\"}, {\"marker\": {\"color\": \"rgb(0,0,255)\", \"colorscale\": \"Viridis\", \"line\": {\"width\": 2}, \"size\": 12, \"symbol\": 3}, \"mode\": \"markers\", \"name\": \"Student_53\", \"text\": [\"Student_53\"], \"x\": [47], \"y\": [64], \"type\": \"scatter\", \"uid\": \"43425da6-e411-11e8-a1d0-d7b4c6107baf\"}, {\"marker\": {\"color\": \"rgb(127,0,127)\", \"colorscale\": \"Viridis\", \"line\": {\"width\": 2}, \"size\": 12, \"symbol\": 2}, \"mode\": \"markers\", \"name\": \"Student_54\", \"text\": [\"Student_54\"], \"x\": [5], \"y\": [40], \"type\": \"scatter\", \"uid\": \"43425eaa-e411-11e8-a1d0-d7b4c6107baf\"}, {\"marker\": {\"color\": \"rgb(127,0,127)\", \"colorscale\": \"Viridis\", \"line\": {\"width\": 2}, \"size\": 12, \"symbol\": 2}, \"mode\": \"markers\", \"name\": \"Student_55\", \"text\": [\"Student_55\"], \"x\": [18], \"y\": [54], \"type\": \"scatter\", \"uid\": \"43425f9a-e411-11e8-a1d0-d7b4c6107baf\"}, {\"marker\": {\"color\": \"rgb(255,0,0)\", \"colorscale\": \"Viridis\", \"line\": {\"width\": 2}, \"size\": 12, \"symbol\": 1}, \"mode\": \"markers\", \"name\": \"Student_56\", \"text\": [\"Student_56\"], \"x\": [3], \"y\": [26], \"type\": \"scatter\", \"uid\": \"4342608a-e411-11e8-a1d0-d7b4c6107baf\"}, {\"marker\": {\"color\": \"rgb(0,255,0)\", \"colorscale\": \"Viridis\", \"line\": {\"width\": 2}, \"size\": 12, \"symbol\": 0}, \"mode\": \"markers\", \"name\": \"Student_57\", \"text\": [\"Student_57\"], \"x\": [39], \"y\": [86], \"type\": \"scatter\", \"uid\": \"4342617a-e411-11e8-a1d0-d7b4c6107baf\"}, {\"marker\": {\"color\": \"rgb(0,255,0)\", \"colorscale\": \"Viridis\", \"line\": {\"width\": 2}, \"size\": 12, \"symbol\": 0}, \"mode\": \"markers\", \"name\": \"Student_58\", \"text\": [\"Student_58\"], \"x\": [68], \"y\": [74], \"type\": \"scatter\", \"uid\": \"43426260-e411-11e8-a1d0-d7b4c6107baf\"}, {\"marker\": {\"color\": \"rgb(0,0,255)\", \"colorscale\": \"Viridis\", \"line\": {\"width\": 2}, \"size\": 12, \"symbol\": 3}, \"mode\": \"markers\", \"name\": \"Student_59\", \"text\": [\"Student_59\"], \"x\": [19], \"y\": [70], \"type\": \"scatter\", \"uid\": \"43426350-e411-11e8-a1d0-d7b4c6107baf\"}, {\"marker\": {\"color\": \"rgb(0,0,255)\", \"colorscale\": \"Viridis\", \"line\": {\"width\": 2}, \"size\": 12, \"symbol\": 3}, \"mode\": \"markers\", \"name\": \"Student_60\", \"text\": [\"Student_60\"], \"x\": [43], \"y\": [78], \"type\": \"scatter\", \"uid\": \"4342642c-e411-11e8-a1d0-d7b4c6107baf\"}], {\"hovermode\": \"closest\", \"showlegend\": true, \"title\": \"Notas dos estudantes vs acesso ao f\\u00f3rum\", \"xaxis\": {\"autorange\": false, \"fixedrange\": false, \"range\": [0, 124], \"rangemode\": \"normal\", \"showline\": true, \"title\": \"Acesso ao f\\u00f3rum\", \"zeroline\": false}, \"yaxis\": {\"autorange\": false, \"fixedrange\": false, \"range\": [0, 104], \"rangemode\": \"normal\", \"showline\": true, \"title\": \"Notas\"}}, {\"showLink\": true, \"linkText\": \"Export to plot.ly\"})});</script>"
      ],
      "text/vnd.plotly.v1+html": [
       "<div id=\"18eb21d1-33f4-4b1e-bcad-529540dd6a51\" style=\"height: 525px; width: 100%;\" class=\"plotly-graph-div\"></div><script type=\"text/javascript\">require([\"plotly\"], function(Plotly) { window.PLOTLYENV=window.PLOTLYENV || {};window.PLOTLYENV.BASE_URL=\"https://plot.ly\";Plotly.newPlot(\"18eb21d1-33f4-4b1e-bcad-529540dd6a51\", [{\"marker\": {\"color\": \"rgb(255,0,0)\", \"colorscale\": \"Viridis\", \"line\": {\"width\": 2}, \"size\": 12, \"symbol\": 1}, \"mode\": \"markers\", \"name\": \"Student_1\", \"text\": [\"Student_1\"], \"x\": [7], \"y\": [5], \"type\": \"scatter\", \"uid\": \"43423f56-e411-11e8-a1d0-d7b4c6107baf\"}, {\"marker\": {\"color\": \"rgb(0,255,0)\", \"colorscale\": \"Viridis\", \"line\": {\"width\": 2}, \"size\": 12, \"symbol\": 0}, \"mode\": \"markers\", \"name\": \"Student_2\", \"text\": [\"Student_2\"], \"x\": [114], \"y\": [92], \"type\": \"scatter\", \"uid\": \"434240f0-e411-11e8-a1d0-d7b4c6107baf\"}, {\"marker\": {\"color\": \"rgb(0,255,0)\", \"colorscale\": \"Viridis\", \"line\": {\"width\": 2}, \"size\": 12, \"symbol\": 0}, \"mode\": \"markers\", \"name\": \"Student_3\", \"text\": [\"Student_3\"], \"x\": [63], \"y\": [82], \"type\": \"scatter\", \"uid\": \"434241cc-e411-11e8-a1d0-d7b4c6107baf\"}, {\"marker\": {\"color\": \"rgb(127,0,127)\", \"colorscale\": \"Viridis\", \"line\": {\"width\": 2}, \"size\": 12, \"symbol\": 2}, \"mode\": \"markers\", \"name\": \"Student_4\", \"text\": [\"Student_4\"], \"x\": [7], \"y\": [58], \"type\": \"scatter\", \"uid\": \"4342426c-e411-11e8-a1d0-d7b4c6107baf\"}, {\"marker\": {\"color\": \"rgb(0,255,0)\", \"colorscale\": \"Viridis\", \"line\": {\"width\": 2}, \"size\": 12, \"symbol\": 0}, \"mode\": \"markers\", \"name\": \"Student_5\", \"text\": [\"Student_5\"], \"x\": [59], \"y\": [77], \"type\": \"scatter\", \"uid\": \"43424302-e411-11e8-a1d0-d7b4c6107baf\"}, {\"marker\": {\"color\": \"rgb(0,255,0)\", \"colorscale\": \"Viridis\", \"line\": {\"width\": 2}, \"size\": 12, \"symbol\": 0}, \"mode\": \"markers\", \"name\": \"Student_6\", \"text\": [\"Student_6\"], \"x\": [64], \"y\": [87], \"type\": \"scatter\", \"uid\": \"4342438e-e411-11e8-a1d0-d7b4c6107baf\"}, {\"marker\": {\"color\": \"rgb(0,255,0)\", \"colorscale\": \"Viridis\", \"line\": {\"width\": 2}, \"size\": 12, \"symbol\": 0}, \"mode\": \"markers\", \"name\": \"Student_7\", \"text\": [\"Student_7\"], \"x\": [58], \"y\": [74], \"type\": \"scatter\", \"uid\": \"4342441a-e411-11e8-a1d0-d7b4c6107baf\"}, {\"marker\": {\"color\": \"rgb(255,0,0)\", \"colorscale\": \"Viridis\", \"line\": {\"width\": 2}, \"size\": 12, \"symbol\": 1}, \"mode\": \"markers\", \"name\": \"Student_8\", \"text\": [\"Student_8\"], \"x\": [5], \"y\": [14], \"type\": \"scatter\", \"uid\": \"434244a6-e411-11e8-a1d0-d7b4c6107baf\"}, {\"marker\": {\"color\": \"rgb(0,0,255)\", \"colorscale\": \"Viridis\", \"line\": {\"width\": 2}, \"size\": 12, \"symbol\": 3}, \"mode\": \"markers\", \"name\": \"Student_9\", \"text\": [\"Student_9\"], \"x\": [18], \"y\": [59], \"type\": \"scatter\", \"uid\": \"43424532-e411-11e8-a1d0-d7b4c6107baf\"}, {\"marker\": {\"color\": \"rgb(127,0,127)\", \"colorscale\": \"Viridis\", \"line\": {\"width\": 2}, \"size\": 12, \"symbol\": 2}, \"mode\": \"markers\", \"name\": \"Student_10\", \"text\": [\"Student_10\"], \"x\": [2], \"y\": [39], \"type\": \"scatter\", \"uid\": \"434245c8-e411-11e8-a1d0-d7b4c6107baf\"}, {\"marker\": {\"color\": \"rgb(0,255,0)\", \"colorscale\": \"Viridis\", \"line\": {\"width\": 2}, \"size\": 12, \"symbol\": 0}, \"mode\": \"markers\", \"name\": \"Student_11\", \"text\": [\"Student_11\"], \"x\": [72], \"y\": [94], \"type\": \"scatter\", \"uid\": \"43424654-e411-11e8-a1d0-d7b4c6107baf\"}, {\"marker\": {\"color\": \"rgb(127,0,127)\", \"colorscale\": \"Viridis\", \"line\": {\"width\": 2}, \"size\": 12, \"symbol\": 2}, \"mode\": \"markers\", \"name\": \"Student_12\", \"text\": [\"Student_12\"], \"x\": [11], \"y\": [43], \"type\": \"scatter\", \"uid\": \"434246e0-e411-11e8-a1d0-d7b4c6107baf\"}, {\"marker\": {\"color\": \"rgb(127,0,127)\", \"colorscale\": \"Viridis\", \"line\": {\"width\": 2}, \"size\": 12, \"symbol\": 2}, \"mode\": \"markers\", \"name\": \"Student_13\", \"text\": [\"Student_13\"], \"x\": [12], \"y\": [42], \"type\": \"scatter\", \"uid\": \"43424762-e411-11e8-a1d0-d7b4c6107baf\"}, {\"marker\": {\"color\": \"rgb(0,0,255)\", \"colorscale\": \"Viridis\", \"line\": {\"width\": 2}, \"size\": 12, \"symbol\": 3}, \"mode\": \"markers\", \"name\": \"Student_14\", \"text\": [\"Student_14\"], \"x\": [11], \"y\": [67], \"type\": \"scatter\", \"uid\": \"434247ee-e411-11e8-a1d0-d7b4c6107baf\"}, {\"marker\": {\"color\": \"rgb(127,0,127)\", \"colorscale\": \"Viridis\", \"line\": {\"width\": 2}, \"size\": 12, \"symbol\": 2}, \"mode\": \"markers\", \"name\": \"Student_15\", \"text\": [\"Student_15\"], \"x\": [13], \"y\": [53], \"type\": \"scatter\", \"uid\": \"4342487a-e411-11e8-a1d0-d7b4c6107baf\"}, {\"marker\": {\"color\": \"rgb(0,0,255)\", \"colorscale\": \"Viridis\", \"line\": {\"width\": 2}, \"size\": 12, \"symbol\": 3}, \"mode\": \"markers\", \"name\": \"Student_16\", \"text\": [\"Student_16\"], \"x\": [22], \"y\": [63], \"type\": \"scatter\", \"uid\": \"43424906-e411-11e8-a1d0-d7b4c6107baf\"}, {\"marker\": {\"color\": \"rgb(0,0,255)\", \"colorscale\": \"Viridis\", \"line\": {\"width\": 2}, \"size\": 12, \"symbol\": 3}, \"mode\": \"markers\", \"name\": \"Student_17\", \"text\": [\"Student_17\"], \"x\": [25], \"y\": [69], \"type\": \"scatter\", \"uid\": \"43424992-e411-11e8-a1d0-d7b4c6107baf\"}, {\"marker\": {\"color\": \"rgb(255,0,0)\", \"colorscale\": \"Viridis\", \"line\": {\"width\": 2}, \"size\": 12, \"symbol\": 1}, \"mode\": \"markers\", \"name\": \"Student_18\", \"text\": [\"Student_18\"], \"x\": [7], \"y\": [31], \"type\": \"scatter\", \"uid\": \"43424a1e-e411-11e8-a1d0-d7b4c6107baf\"}, {\"marker\": {\"color\": \"rgb(0,255,0)\", \"colorscale\": \"Viridis\", \"line\": {\"width\": 2}, \"size\": 12, \"symbol\": 0}, \"mode\": \"markers\", \"name\": \"Student_19\", \"text\": [\"Student_19\"], \"x\": [69], \"y\": [81], \"type\": \"scatter\", \"uid\": \"43424aaa-e411-11e8-a1d0-d7b4c6107baf\"}, {\"marker\": {\"color\": \"rgb(127,0,127)\", \"colorscale\": \"Viridis\", \"line\": {\"width\": 2}, \"size\": 12, \"symbol\": 2}, \"mode\": \"markers\", \"name\": \"Student_20\", \"text\": [\"Student_20\"], \"x\": [6], \"y\": [46], \"type\": \"scatter\", \"uid\": \"43424b36-e411-11e8-a1d0-d7b4c6107baf\"}, {\"marker\": {\"color\": \"rgb(255,0,0)\", \"colorscale\": \"Viridis\", \"line\": {\"width\": 2}, \"size\": 12, \"symbol\": 1}, \"mode\": \"markers\", \"name\": \"Student_21\", \"text\": [\"Student_21\"], \"x\": [7], \"y\": [22], \"type\": \"scatter\", \"uid\": \"43424bb8-e411-11e8-a1d0-d7b4c6107baf\"}, {\"marker\": {\"color\": \"rgb(0,0,255)\", \"colorscale\": \"Viridis\", \"line\": {\"width\": 2}, \"size\": 12, \"symbol\": 3}, \"mode\": \"markers\", \"name\": \"Student_22\", \"text\": [\"Student_22\"], \"x\": [19], \"y\": [56], \"type\": \"scatter\", \"uid\": \"43424c44-e411-11e8-a1d0-d7b4c6107baf\"}, {\"marker\": {\"color\": \"rgb(0,0,255)\", \"colorscale\": \"Viridis\", \"line\": {\"width\": 2}, \"size\": 12, \"symbol\": 3}, \"mode\": \"markers\", \"name\": \"Student_23\", \"text\": [\"Student_23\"], \"x\": [40], \"y\": [63], \"type\": \"scatter\", \"uid\": \"43424cd0-e411-11e8-a1d0-d7b4c6107baf\"}, {\"marker\": {\"color\": \"rgb(127,0,127)\", \"colorscale\": \"Viridis\", \"line\": {\"width\": 2}, \"size\": 12, \"symbol\": 2}, \"mode\": \"markers\", \"name\": \"Student_24\", \"text\": [\"Student_24\"], \"x\": [4], \"y\": [47], \"type\": \"scatter\", \"uid\": \"43424d5c-e411-11e8-a1d0-d7b4c6107baf\"}, {\"marker\": {\"color\": \"rgb(0,0,255)\", \"colorscale\": \"Viridis\", \"line\": {\"width\": 2}, \"size\": 12, \"symbol\": 3}, \"mode\": \"markers\", \"name\": \"Student_25\", \"text\": [\"Student_25\"], \"x\": [33], \"y\": [73], \"type\": \"scatter\", \"uid\": \"43424dde-e411-11e8-a1d0-d7b4c6107baf\"}, {\"marker\": {\"color\": \"rgb(255,0,0)\", \"colorscale\": \"Viridis\", \"line\": {\"width\": 2}, \"size\": 12, \"symbol\": 1}, \"mode\": \"markers\", \"name\": \"Student_26\", \"text\": [\"Student_26\"], \"x\": [11], \"y\": [33], \"type\": \"scatter\", \"uid\": \"43424e6a-e411-11e8-a1d0-d7b4c6107baf\"}, {\"marker\": {\"color\": \"rgb(127,0,127)\", \"colorscale\": \"Viridis\", \"line\": {\"width\": 2}, \"size\": 12, \"symbol\": 2}, \"mode\": \"markers\", \"name\": \"Student_27\", \"text\": [\"Student_27\"], \"x\": [11], \"y\": [50], \"type\": \"scatter\", \"uid\": \"43424ef6-e411-11e8-a1d0-d7b4c6107baf\"}, {\"marker\": {\"color\": \"rgb(127,0,127)\", \"colorscale\": \"Viridis\", \"line\": {\"width\": 2}, \"size\": 12, \"symbol\": 2}, \"mode\": \"markers\", \"name\": \"Student_28\", \"text\": [\"Student_28\"], \"x\": [11], \"y\": [46], \"type\": \"scatter\", \"uid\": \"43424f82-e411-11e8-a1d0-d7b4c6107baf\"}, {\"marker\": {\"color\": \"rgb(0,0,255)\", \"colorscale\": \"Viridis\", \"line\": {\"width\": 2}, \"size\": 12, \"symbol\": 3}, \"mode\": \"markers\", \"name\": \"Student_29\", \"text\": [\"Student_29\"], \"x\": [38], \"y\": [76], \"type\": \"scatter\", \"uid\": \"43425004-e411-11e8-a1d0-d7b4c6107baf\"}, {\"marker\": {\"color\": \"rgb(0,0,255)\", \"colorscale\": \"Viridis\", \"line\": {\"width\": 2}, \"size\": 12, \"symbol\": 3}, \"mode\": \"markers\", \"name\": \"Student_30\", \"text\": [\"Student_30\"], \"x\": [35], \"y\": [67], \"type\": \"scatter\", \"uid\": \"43425090-e411-11e8-a1d0-d7b4c6107baf\"}, {\"marker\": {\"color\": \"rgb(127,0,127)\", \"colorscale\": \"Viridis\", \"line\": {\"width\": 2}, \"size\": 12, \"symbol\": 2}, \"mode\": \"markers\", \"name\": \"Student_31\", \"text\": [\"Student_31\"], \"x\": [2], \"y\": [48], \"type\": \"scatter\", \"uid\": \"4342511c-e411-11e8-a1d0-d7b4c6107baf\"}, {\"marker\": {\"color\": \"rgb(255,0,0)\", \"colorscale\": \"Viridis\", \"line\": {\"width\": 2}, \"size\": 12, \"symbol\": 1}, \"mode\": \"markers\", \"name\": \"Student_32\", \"text\": [\"Student_32\"], \"x\": [6], \"y\": [22], \"type\": \"scatter\", \"uid\": \"434251a8-e411-11e8-a1d0-d7b4c6107baf\"}, {\"marker\": {\"color\": \"rgb(0,255,0)\", \"colorscale\": \"Viridis\", \"line\": {\"width\": 2}, \"size\": 12, \"symbol\": 0}, \"mode\": \"markers\", \"name\": \"Student_33\", \"text\": [\"Student_33\"], \"x\": [64], \"y\": [85], \"type\": \"scatter\", \"uid\": \"43425234-e411-11e8-a1d0-d7b4c6107baf\"}, {\"marker\": {\"color\": \"rgb(127,0,127)\", \"colorscale\": \"Viridis\", \"line\": {\"width\": 2}, \"size\": 12, \"symbol\": 2}, \"mode\": \"markers\", \"name\": \"Student_34\", \"text\": [\"Student_34\"], \"x\": [23], \"y\": [57], \"type\": \"scatter\", \"uid\": \"434252c0-e411-11e8-a1d0-d7b4c6107baf\"}, {\"marker\": {\"color\": \"rgb(0,0,255)\", \"colorscale\": \"Viridis\", \"line\": {\"width\": 2}, \"size\": 12, \"symbol\": 3}, \"mode\": \"markers\", \"name\": \"Student_35\", \"text\": [\"Student_35\"], \"x\": [33], \"y\": [65], \"type\": \"scatter\", \"uid\": \"4342534c-e411-11e8-a1d0-d7b4c6107baf\"}, {\"marker\": {\"color\": \"rgb(0,0,255)\", \"colorscale\": \"Viridis\", \"line\": {\"width\": 2}, \"size\": 12, \"symbol\": 3}, \"mode\": \"markers\", \"name\": \"Student_36\", \"text\": [\"Student_36\"], \"x\": [33], \"y\": [63], \"type\": \"scatter\", \"uid\": \"434253e2-e411-11e8-a1d0-d7b4c6107baf\"}, {\"marker\": {\"color\": \"rgb(255,0,0)\", \"colorscale\": \"Viridis\", \"line\": {\"width\": 2}, \"size\": 12, \"symbol\": 1}, \"mode\": \"markers\", \"name\": \"Student_37\", \"text\": [\"Student_37\"], \"x\": [4], \"y\": [36], \"type\": \"scatter\", \"uid\": \"4342546e-e411-11e8-a1d0-d7b4c6107baf\"}, {\"marker\": {\"color\": \"rgb(127,0,127)\", \"colorscale\": \"Viridis\", \"line\": {\"width\": 2}, \"size\": 12, \"symbol\": 2}, \"mode\": \"markers\", \"name\": \"Student_38\", \"text\": [\"Student_38\"], \"x\": [23], \"y\": [51], \"type\": \"scatter\", \"uid\": \"434254fa-e411-11e8-a1d0-d7b4c6107baf\"}, {\"marker\": {\"color\": \"rgb(0,255,0)\", \"colorscale\": \"Viridis\", \"line\": {\"width\": 2}, \"size\": 12, \"symbol\": 0}, \"mode\": \"markers\", \"name\": \"Student_39\", \"text\": [\"Student_39\"], \"x\": [73], \"y\": [88], \"type\": \"scatter\", \"uid\": \"43425586-e411-11e8-a1d0-d7b4c6107baf\"}, {\"marker\": {\"color\": \"rgb(255,0,0)\", \"colorscale\": \"Viridis\", \"line\": {\"width\": 2}, \"size\": 12, \"symbol\": 1}, \"mode\": \"markers\", \"name\": \"Student_40\", \"text\": [\"Student_40\"], \"x\": [7], \"y\": [18], \"type\": \"scatter\", \"uid\": \"43425612-e411-11e8-a1d0-d7b4c6107baf\"}, {\"marker\": {\"color\": \"rgb(0,255,0)\", \"colorscale\": \"Viridis\", \"line\": {\"width\": 2}, \"size\": 12, \"symbol\": 0}, \"mode\": \"markers\", \"name\": \"Student_41\", \"text\": [\"Student_41\"], \"x\": [69], \"y\": [94], \"type\": \"scatter\", \"uid\": \"4342569e-e411-11e8-a1d0-d7b4c6107baf\"}, {\"marker\": {\"color\": \"rgb(255,0,0)\", \"colorscale\": \"Viridis\", \"line\": {\"width\": 2}, \"size\": 12, \"symbol\": 1}, \"mode\": \"markers\", \"name\": \"Student_42\", \"text\": [\"Student_42\"], \"x\": [9], \"y\": [25], \"type\": \"scatter\", \"uid\": \"43425734-e411-11e8-a1d0-d7b4c6107baf\"}, {\"marker\": {\"color\": \"rgb(255,0,0)\", \"colorscale\": \"Viridis\", \"line\": {\"width\": 2}, \"size\": 12, \"symbol\": 1}, \"mode\": \"markers\", \"name\": \"Student_43\", \"text\": [\"Student_43\"], \"x\": [11], \"y\": [25], \"type\": \"scatter\", \"uid\": \"434257c0-e411-11e8-a1d0-d7b4c6107baf\"}, {\"marker\": {\"color\": \"rgb(0,0,255)\", \"colorscale\": \"Viridis\", \"line\": {\"width\": 2}, \"size\": 12, \"symbol\": 3}, \"mode\": \"markers\", \"name\": \"Student_44\", \"text\": [\"Student_44\"], \"x\": [20], \"y\": [70], \"type\": \"scatter\", \"uid\": \"4342584c-e411-11e8-a1d0-d7b4c6107baf\"}, {\"marker\": {\"color\": \"rgb(127,0,127)\", \"colorscale\": \"Viridis\", \"line\": {\"width\": 2}, \"size\": 12, \"symbol\": 2}, \"mode\": \"markers\", \"name\": \"Student_45\", \"text\": [\"Student_45\"], \"x\": [5], \"y\": [46], \"type\": \"scatter\", \"uid\": \"434258d8-e411-11e8-a1d0-d7b4c6107baf\"}, {\"marker\": {\"color\": \"rgb(255,0,0)\", \"colorscale\": \"Viridis\", \"line\": {\"width\": 2}, \"size\": 12, \"symbol\": 1}, \"mode\": \"markers\", \"name\": \"Student_46\", \"text\": [\"Student_46\"], \"x\": [8], \"y\": [28], \"type\": \"scatter\", \"uid\": \"43425964-e411-11e8-a1d0-d7b4c6107baf\"}, {\"marker\": {\"color\": \"rgb(0,0,255)\", \"colorscale\": \"Viridis\", \"line\": {\"width\": 2}, \"size\": 12, \"symbol\": 3}, \"mode\": \"markers\", \"name\": \"Student_47\", \"text\": [\"Student_47\"], \"x\": [36], \"y\": [68], \"type\": \"scatter\", \"uid\": \"434259f0-e411-11e8-a1d0-d7b4c6107baf\"}, {\"marker\": {\"color\": \"rgb(127,0,127)\", \"colorscale\": \"Viridis\", \"line\": {\"width\": 2}, \"size\": 12, \"symbol\": 2}, \"mode\": \"markers\", \"name\": \"Student_48\", \"text\": [\"Student_48\"], \"x\": [7], \"y\": [40], \"type\": \"scatter\", \"uid\": \"43425a7c-e411-11e8-a1d0-d7b4c6107baf\"}, {\"marker\": {\"color\": \"rgb(0,0,255)\", \"colorscale\": \"Viridis\", \"line\": {\"width\": 2}, \"size\": 12, \"symbol\": 3}, \"mode\": \"markers\", \"name\": \"Student_49\", \"text\": [\"Student_49\"], \"x\": [28], \"y\": [79], \"type\": \"scatter\", \"uid\": \"43425b08-e411-11e8-a1d0-d7b4c6107baf\"}, {\"marker\": {\"color\": \"rgb(255,0,0)\", \"colorscale\": \"Viridis\", \"line\": {\"width\": 2}, \"size\": 12, \"symbol\": 1}, \"mode\": \"markers\", \"name\": \"Student_50\", \"text\": [\"Student_50\"], \"x\": [7], \"y\": [37], \"type\": \"scatter\", \"uid\": \"43425b94-e411-11e8-a1d0-d7b4c6107baf\"}, {\"marker\": {\"color\": \"rgb(0,0,255)\", \"colorscale\": \"Viridis\", \"line\": {\"width\": 2}, \"size\": 12, \"symbol\": 3}, \"mode\": \"markers\", \"name\": \"Student_51\", \"text\": [\"Student_51\"], \"x\": [23], \"y\": [64], \"type\": \"scatter\", \"uid\": \"43425c2a-e411-11e8-a1d0-d7b4c6107baf\"}, {\"marker\": {\"color\": \"rgb(255,0,0)\", \"colorscale\": \"Viridis\", \"line\": {\"width\": 2}, \"size\": 12, \"symbol\": 1}, \"mode\": \"markers\", \"name\": \"Student_52\", \"text\": [\"Student_52\"], \"x\": [3], \"y\": [7], \"type\": \"scatter\", \"uid\": \"43425cb6-e411-11e8-a1d0-d7b4c6107baf\"}, {\"marker\": {\"color\": \"rgb(0,0,255)\", \"colorscale\": \"Viridis\", \"line\": {\"width\": 2}, \"size\": 12, \"symbol\": 3}, \"mode\": \"markers\", \"name\": \"Student_53\", \"text\": [\"Student_53\"], \"x\": [47], \"y\": [64], \"type\": \"scatter\", \"uid\": \"43425da6-e411-11e8-a1d0-d7b4c6107baf\"}, {\"marker\": {\"color\": \"rgb(127,0,127)\", \"colorscale\": \"Viridis\", \"line\": {\"width\": 2}, \"size\": 12, \"symbol\": 2}, \"mode\": \"markers\", \"name\": \"Student_54\", \"text\": [\"Student_54\"], \"x\": [5], \"y\": [40], \"type\": \"scatter\", \"uid\": \"43425eaa-e411-11e8-a1d0-d7b4c6107baf\"}, {\"marker\": {\"color\": \"rgb(127,0,127)\", \"colorscale\": \"Viridis\", \"line\": {\"width\": 2}, \"size\": 12, \"symbol\": 2}, \"mode\": \"markers\", \"name\": \"Student_55\", \"text\": [\"Student_55\"], \"x\": [18], \"y\": [54], \"type\": \"scatter\", \"uid\": \"43425f9a-e411-11e8-a1d0-d7b4c6107baf\"}, {\"marker\": {\"color\": \"rgb(255,0,0)\", \"colorscale\": \"Viridis\", \"line\": {\"width\": 2}, \"size\": 12, \"symbol\": 1}, \"mode\": \"markers\", \"name\": \"Student_56\", \"text\": [\"Student_56\"], \"x\": [3], \"y\": [26], \"type\": \"scatter\", \"uid\": \"4342608a-e411-11e8-a1d0-d7b4c6107baf\"}, {\"marker\": {\"color\": \"rgb(0,255,0)\", \"colorscale\": \"Viridis\", \"line\": {\"width\": 2}, \"size\": 12, \"symbol\": 0}, \"mode\": \"markers\", \"name\": \"Student_57\", \"text\": [\"Student_57\"], \"x\": [39], \"y\": [86], \"type\": \"scatter\", \"uid\": \"4342617a-e411-11e8-a1d0-d7b4c6107baf\"}, {\"marker\": {\"color\": \"rgb(0,255,0)\", \"colorscale\": \"Viridis\", \"line\": {\"width\": 2}, \"size\": 12, \"symbol\": 0}, \"mode\": \"markers\", \"name\": \"Student_58\", \"text\": [\"Student_58\"], \"x\": [68], \"y\": [74], \"type\": \"scatter\", \"uid\": \"43426260-e411-11e8-a1d0-d7b4c6107baf\"}, {\"marker\": {\"color\": \"rgb(0,0,255)\", \"colorscale\": \"Viridis\", \"line\": {\"width\": 2}, \"size\": 12, \"symbol\": 3}, \"mode\": \"markers\", \"name\": \"Student_59\", \"text\": [\"Student_59\"], \"x\": [19], \"y\": [70], \"type\": \"scatter\", \"uid\": \"43426350-e411-11e8-a1d0-d7b4c6107baf\"}, {\"marker\": {\"color\": \"rgb(0,0,255)\", \"colorscale\": \"Viridis\", \"line\": {\"width\": 2}, \"size\": 12, \"symbol\": 3}, \"mode\": \"markers\", \"name\": \"Student_60\", \"text\": [\"Student_60\"], \"x\": [43], \"y\": [78], \"type\": \"scatter\", \"uid\": \"4342642c-e411-11e8-a1d0-d7b4c6107baf\"}], {\"hovermode\": \"closest\", \"showlegend\": true, \"title\": \"Notas dos estudantes vs acesso ao f\\u00f3rum\", \"xaxis\": {\"autorange\": false, \"fixedrange\": false, \"range\": [0, 124], \"rangemode\": \"normal\", \"showline\": true, \"title\": \"Acesso ao f\\u00f3rum\", \"zeroline\": false}, \"yaxis\": {\"autorange\": false, \"fixedrange\": false, \"range\": [0, 104], \"rangemode\": \"normal\", \"showline\": true, \"title\": \"Notas\"}}, {\"showLink\": true, \"linkText\": \"Export to plot.ly\"})});</script>"
      ]
     },
     "metadata": {},
     "output_type": "display_data"
    },
    {
     "data": {
      "application/vnd.plotly.v1+json": {
       "data": [
        {
         "marker": {
          "color": "rgb(255,0,0)",
          "colorscale": "Viridis",
          "line": {
           "width": 2
          },
          "size": 12,
          "symbol": 1
         },
         "mode": "markers",
         "name": "Student_1",
         "text": [
          "Student_1"
         ],
         "type": "scatter",
         "uid": "43819520-e411-11e8-a1d0-d7b4c6107baf",
         "x": [
          1
         ],
         "y": [
          5
         ]
        },
        {
         "marker": {
          "color": "rgb(0,255,0)",
          "colorscale": "Viridis",
          "line": {
           "width": 2
          },
          "size": 12,
          "symbol": 0
         },
         "mode": "markers",
         "name": "Student_2",
         "text": [
          "Student_2"
         ],
         "type": "scatter",
         "uid": "438196ba-e411-11e8-a1d0-d7b4c6107baf",
         "x": [
          40
         ],
         "y": [
          92
         ]
        },
        {
         "marker": {
          "color": "rgb(0,255,0)",
          "colorscale": "Viridis",
          "line": {
           "width": 2
          },
          "size": 12,
          "symbol": 0
         },
         "mode": "markers",
         "name": "Student_3",
         "text": [
          "Student_3"
         ],
         "type": "scatter",
         "uid": "43819782-e411-11e8-a1d0-d7b4c6107baf",
         "x": [
          14
         ],
         "y": [
          82
         ]
        },
        {
         "marker": {
          "color": "rgb(127,0,127)",
          "colorscale": "Viridis",
          "line": {
           "width": 2
          },
          "size": 12,
          "symbol": 2
         },
         "mode": "markers",
         "name": "Student_4",
         "text": [
          "Student_4"
         ],
         "type": "scatter",
         "uid": "43819822-e411-11e8-a1d0-d7b4c6107baf",
         "x": [
          1
         ],
         "y": [
          58
         ]
        },
        {
         "marker": {
          "color": "rgb(0,255,0)",
          "colorscale": "Viridis",
          "line": {
           "width": 2
          },
          "size": 12,
          "symbol": 0
         },
         "mode": "markers",
         "name": "Student_5",
         "text": [
          "Student_5"
         ],
         "type": "scatter",
         "uid": "438198b8-e411-11e8-a1d0-d7b4c6107baf",
         "x": [
          19
         ],
         "y": [
          77
         ]
        },
        {
         "marker": {
          "color": "rgb(0,255,0)",
          "colorscale": "Viridis",
          "line": {
           "width": 2
          },
          "size": 12,
          "symbol": 0
         },
         "mode": "markers",
         "name": "Student_6",
         "text": [
          "Student_6"
         ],
         "type": "scatter",
         "uid": "43819944-e411-11e8-a1d0-d7b4c6107baf",
         "x": [
          30
         ],
         "y": [
          87
         ]
        },
        {
         "marker": {
          "color": "rgb(0,255,0)",
          "colorscale": "Viridis",
          "line": {
           "width": 2
          },
          "size": 12,
          "symbol": 0
         },
         "mode": "markers",
         "name": "Student_7",
         "text": [
          "Student_7"
         ],
         "type": "scatter",
         "uid": "438199c6-e411-11e8-a1d0-d7b4c6107baf",
         "x": [
          17
         ],
         "y": [
          74
         ]
        },
        {
         "marker": {
          "color": "rgb(255,0,0)",
          "colorscale": "Viridis",
          "line": {
           "width": 2
          },
          "size": 12,
          "symbol": 1
         },
         "mode": "markers",
         "name": "Student_8",
         "text": [
          "Student_8"
         ],
         "type": "scatter",
         "uid": "43819a52-e411-11e8-a1d0-d7b4c6107baf",
         "x": [
          2
         ],
         "y": [
          14
         ]
        },
        {
         "marker": {
          "color": "rgb(0,0,255)",
          "colorscale": "Viridis",
          "line": {
           "width": 2
          },
          "size": 12,
          "symbol": 3
         },
         "mode": "markers",
         "name": "Student_9",
         "text": [
          "Student_9"
         ],
         "type": "scatter",
         "uid": "43819ade-e411-11e8-a1d0-d7b4c6107baf",
         "x": [
          3
         ],
         "y": [
          59
         ]
        },
        {
         "marker": {
          "color": "rgb(127,0,127)",
          "colorscale": "Viridis",
          "line": {
           "width": 2
          },
          "size": 12,
          "symbol": 2
         },
         "mode": "markers",
         "name": "Student_10",
         "text": [
          "Student_10"
         ],
         "type": "scatter",
         "uid": "43819b6a-e411-11e8-a1d0-d7b4c6107baf",
         "x": [
          0
         ],
         "y": [
          39
         ]
        },
        {
         "marker": {
          "color": "rgb(0,255,0)",
          "colorscale": "Viridis",
          "line": {
           "width": 2
          },
          "size": 12,
          "symbol": 0
         },
         "mode": "markers",
         "name": "Student_11",
         "text": [
          "Student_11"
         ],
         "type": "scatter",
         "uid": "43819bec-e411-11e8-a1d0-d7b4c6107baf",
         "x": [
          32
         ],
         "y": [
          94
         ]
        },
        {
         "marker": {
          "color": "rgb(127,0,127)",
          "colorscale": "Viridis",
          "line": {
           "width": 2
          },
          "size": 12,
          "symbol": 2
         },
         "mode": "markers",
         "name": "Student_12",
         "text": [
          "Student_12"
         ],
         "type": "scatter",
         "uid": "43819c78-e411-11e8-a1d0-d7b4c6107baf",
         "x": [
          1
         ],
         "y": [
          43
         ]
        },
        {
         "marker": {
          "color": "rgb(127,0,127)",
          "colorscale": "Viridis",
          "line": {
           "width": 2
          },
          "size": 12,
          "symbol": 2
         },
         "mode": "markers",
         "name": "Student_13",
         "text": [
          "Student_13"
         ],
         "type": "scatter",
         "uid": "43819cfa-e411-11e8-a1d0-d7b4c6107baf",
         "x": [
          2
         ],
         "y": [
          42
         ]
        },
        {
         "marker": {
          "color": "rgb(0,0,255)",
          "colorscale": "Viridis",
          "line": {
           "width": 2
          },
          "size": 12,
          "symbol": 3
         },
         "mode": "markers",
         "name": "Student_14",
         "text": [
          "Student_14"
         ],
         "type": "scatter",
         "uid": "43819d86-e411-11e8-a1d0-d7b4c6107baf",
         "x": [
          4
         ],
         "y": [
          67
         ]
        },
        {
         "marker": {
          "color": "rgb(127,0,127)",
          "colorscale": "Viridis",
          "line": {
           "width": 2
          },
          "size": 12,
          "symbol": 2
         },
         "mode": "markers",
         "name": "Student_15",
         "text": [
          "Student_15"
         ],
         "type": "scatter",
         "uid": "43819e08-e411-11e8-a1d0-d7b4c6107baf",
         "x": [
          4
         ],
         "y": [
          53
         ]
        },
        {
         "marker": {
          "color": "rgb(0,0,255)",
          "colorscale": "Viridis",
          "line": {
           "width": 2
          },
          "size": 12,
          "symbol": 3
         },
         "mode": "markers",
         "name": "Student_16",
         "text": [
          "Student_16"
         ],
         "type": "scatter",
         "uid": "43819e94-e411-11e8-a1d0-d7b4c6107baf",
         "x": [
          8
         ],
         "y": [
          63
         ]
        },
        {
         "marker": {
          "color": "rgb(0,0,255)",
          "colorscale": "Viridis",
          "line": {
           "width": 2
          },
          "size": 12,
          "symbol": 3
         },
         "mode": "markers",
         "name": "Student_17",
         "text": [
          "Student_17"
         ],
         "type": "scatter",
         "uid": "43819f16-e411-11e8-a1d0-d7b4c6107baf",
         "x": [
          7
         ],
         "y": [
          69
         ]
        },
        {
         "marker": {
          "color": "rgb(255,0,0)",
          "colorscale": "Viridis",
          "line": {
           "width": 2
          },
          "size": 12,
          "symbol": 1
         },
         "mode": "markers",
         "name": "Student_18",
         "text": [
          "Student_18"
         ],
         "type": "scatter",
         "uid": "43819fa2-e411-11e8-a1d0-d7b4c6107baf",
         "x": [
          1
         ],
         "y": [
          31
         ]
        },
        {
         "marker": {
          "color": "rgb(0,255,0)",
          "colorscale": "Viridis",
          "line": {
           "width": 2
          },
          "size": 12,
          "symbol": 0
         },
         "mode": "markers",
         "name": "Student_19",
         "text": [
          "Student_19"
         ],
         "type": "scatter",
         "uid": "4381a02e-e411-11e8-a1d0-d7b4c6107baf",
         "x": [
          31
         ],
         "y": [
          81
         ]
        },
        {
         "marker": {
          "color": "rgb(127,0,127)",
          "colorscale": "Viridis",
          "line": {
           "width": 2
          },
          "size": 12,
          "symbol": 2
         },
         "mode": "markers",
         "name": "Student_20",
         "text": [
          "Student_20"
         ],
         "type": "scatter",
         "uid": "4381a0b0-e411-11e8-a1d0-d7b4c6107baf",
         "x": [
          1
         ],
         "y": [
          46
         ]
        },
        {
         "marker": {
          "color": "rgb(255,0,0)",
          "colorscale": "Viridis",
          "line": {
           "width": 2
          },
          "size": 12,
          "symbol": 1
         },
         "mode": "markers",
         "name": "Student_21",
         "text": [
          "Student_21"
         ],
         "type": "scatter",
         "uid": "4381a13c-e411-11e8-a1d0-d7b4c6107baf",
         "x": [
          3
         ],
         "y": [
          22
         ]
        },
        {
         "marker": {
          "color": "rgb(0,0,255)",
          "colorscale": "Viridis",
          "line": {
           "width": 2
          },
          "size": 12,
          "symbol": 3
         },
         "mode": "markers",
         "name": "Student_22",
         "text": [
          "Student_22"
         ],
         "type": "scatter",
         "uid": "4381a1be-e411-11e8-a1d0-d7b4c6107baf",
         "x": [
          6
         ],
         "y": [
          56
         ]
        },
        {
         "marker": {
          "color": "rgb(0,0,255)",
          "colorscale": "Viridis",
          "line": {
           "width": 2
          },
          "size": 12,
          "symbol": 3
         },
         "mode": "markers",
         "name": "Student_23",
         "text": [
          "Student_23"
         ],
         "type": "scatter",
         "uid": "4381a240-e411-11e8-a1d0-d7b4c6107baf",
         "x": [
          5
         ],
         "y": [
          63
         ]
        },
        {
         "marker": {
          "color": "rgb(127,0,127)",
          "colorscale": "Viridis",
          "line": {
           "width": 2
          },
          "size": 12,
          "symbol": 2
         },
         "mode": "markers",
         "name": "Student_24",
         "text": [
          "Student_24"
         ],
         "type": "scatter",
         "uid": "4381a2cc-e411-11e8-a1d0-d7b4c6107baf",
         "x": [
          0
         ],
         "y": [
          47
         ]
        },
        {
         "marker": {
          "color": "rgb(0,0,255)",
          "colorscale": "Viridis",
          "line": {
           "width": 2
          },
          "size": 12,
          "symbol": 3
         },
         "mode": "markers",
         "name": "Student_25",
         "text": [
          "Student_25"
         ],
         "type": "scatter",
         "uid": "4381a34e-e411-11e8-a1d0-d7b4c6107baf",
         "x": [
          8
         ],
         "y": [
          73
         ]
        },
        {
         "marker": {
          "color": "rgb(255,0,0)",
          "colorscale": "Viridis",
          "line": {
           "width": 2
          },
          "size": 12,
          "symbol": 1
         },
         "mode": "markers",
         "name": "Student_26",
         "text": [
          "Student_26"
         ],
         "type": "scatter",
         "uid": "4381a3da-e411-11e8-a1d0-d7b4c6107baf",
         "x": [
          2
         ],
         "y": [
          33
         ]
        },
        {
         "marker": {
          "color": "rgb(127,0,127)",
          "colorscale": "Viridis",
          "line": {
           "width": 2
          },
          "size": 12,
          "symbol": 2
         },
         "mode": "markers",
         "name": "Student_27",
         "text": [
          "Student_27"
         ],
         "type": "scatter",
         "uid": "4381a466-e411-11e8-a1d0-d7b4c6107baf",
         "x": [
          2
         ],
         "y": [
          50
         ]
        },
        {
         "marker": {
          "color": "rgb(127,0,127)",
          "colorscale": "Viridis",
          "line": {
           "width": 2
          },
          "size": 12,
          "symbol": 2
         },
         "mode": "markers",
         "name": "Student_28",
         "text": [
          "Student_28"
         ],
         "type": "scatter",
         "uid": "4381a4e8-e411-11e8-a1d0-d7b4c6107baf",
         "x": [
          2
         ],
         "y": [
          46
         ]
        },
        {
         "marker": {
          "color": "rgb(0,0,255)",
          "colorscale": "Viridis",
          "line": {
           "width": 2
          },
          "size": 12,
          "symbol": 3
         },
         "mode": "markers",
         "name": "Student_29",
         "text": [
          "Student_29"
         ],
         "type": "scatter",
         "uid": "4381a56a-e411-11e8-a1d0-d7b4c6107baf",
         "x": [
          13
         ],
         "y": [
          76
         ]
        },
        {
         "marker": {
          "color": "rgb(0,0,255)",
          "colorscale": "Viridis",
          "line": {
           "width": 2
          },
          "size": 12,
          "symbol": 3
         },
         "mode": "markers",
         "name": "Student_30",
         "text": [
          "Student_30"
         ],
         "type": "scatter",
         "uid": "4381a5ec-e411-11e8-a1d0-d7b4c6107baf",
         "x": [
          11
         ],
         "y": [
          67
         ]
        },
        {
         "marker": {
          "color": "rgb(127,0,127)",
          "colorscale": "Viridis",
          "line": {
           "width": 2
          },
          "size": 12,
          "symbol": 2
         },
         "mode": "markers",
         "name": "Student_31",
         "text": [
          "Student_31"
         ],
         "type": "scatter",
         "uid": "4381a678-e411-11e8-a1d0-d7b4c6107baf",
         "x": [
          0
         ],
         "y": [
          48
         ]
        },
        {
         "marker": {
          "color": "rgb(255,0,0)",
          "colorscale": "Viridis",
          "line": {
           "width": 2
          },
          "size": 12,
          "symbol": 1
         },
         "mode": "markers",
         "name": "Student_32",
         "text": [
          "Student_32"
         ],
         "type": "scatter",
         "uid": "4381a6fa-e411-11e8-a1d0-d7b4c6107baf",
         "x": [
          1
         ],
         "y": [
          22
         ]
        },
        {
         "marker": {
          "color": "rgb(0,255,0)",
          "colorscale": "Viridis",
          "line": {
           "width": 2
          },
          "size": 12,
          "symbol": 0
         },
         "mode": "markers",
         "name": "Student_33",
         "text": [
          "Student_33"
         ],
         "type": "scatter",
         "uid": "4381a77c-e411-11e8-a1d0-d7b4c6107baf",
         "x": [
          15
         ],
         "y": [
          85
         ]
        },
        {
         "marker": {
          "color": "rgb(127,0,127)",
          "colorscale": "Viridis",
          "line": {
           "width": 2
          },
          "size": 12,
          "symbol": 2
         },
         "mode": "markers",
         "name": "Student_34",
         "text": [
          "Student_34"
         ],
         "type": "scatter",
         "uid": "4381a7fe-e411-11e8-a1d0-d7b4c6107baf",
         "x": [
          3
         ],
         "y": [
          57
         ]
        },
        {
         "marker": {
          "color": "rgb(0,0,255)",
          "colorscale": "Viridis",
          "line": {
           "width": 2
          },
          "size": 12,
          "symbol": 3
         },
         "mode": "markers",
         "name": "Student_35",
         "text": [
          "Student_35"
         ],
         "type": "scatter",
         "uid": "4381a880-e411-11e8-a1d0-d7b4c6107baf",
         "x": [
          10
         ],
         "y": [
          65
         ]
        },
        {
         "marker": {
          "color": "rgb(0,0,255)",
          "colorscale": "Viridis",
          "line": {
           "width": 2
          },
          "size": 12,
          "symbol": 3
         },
         "mode": "markers",
         "name": "Student_36",
         "text": [
          "Student_36"
         ],
         "type": "scatter",
         "uid": "4381a902-e411-11e8-a1d0-d7b4c6107baf",
         "x": [
          11
         ],
         "y": [
          63
         ]
        },
        {
         "marker": {
          "color": "rgb(255,0,0)",
          "colorscale": "Viridis",
          "line": {
           "width": 2
          },
          "size": 12,
          "symbol": 1
         },
         "mode": "markers",
         "name": "Student_37",
         "text": [
          "Student_37"
         ],
         "type": "scatter",
         "uid": "4381a984-e411-11e8-a1d0-d7b4c6107baf",
         "x": [
          1
         ],
         "y": [
          36
         ]
        },
        {
         "marker": {
          "color": "rgb(127,0,127)",
          "colorscale": "Viridis",
          "line": {
           "width": 2
          },
          "size": 12,
          "symbol": 2
         },
         "mode": "markers",
         "name": "Student_38",
         "text": [
          "Student_38"
         ],
         "type": "scatter",
         "uid": "4381aa06-e411-11e8-a1d0-d7b4c6107baf",
         "x": [
          5
         ],
         "y": [
          51
         ]
        },
        {
         "marker": {
          "color": "rgb(0,255,0)",
          "colorscale": "Viridis",
          "line": {
           "width": 2
          },
          "size": 12,
          "symbol": 0
         },
         "mode": "markers",
         "name": "Student_39",
         "text": [
          "Student_39"
         ],
         "type": "scatter",
         "uid": "4381aa88-e411-11e8-a1d0-d7b4c6107baf",
         "x": [
          24
         ],
         "y": [
          88
         ]
        },
        {
         "marker": {
          "color": "rgb(255,0,0)",
          "colorscale": "Viridis",
          "line": {
           "width": 2
          },
          "size": 12,
          "symbol": 1
         },
         "mode": "markers",
         "name": "Student_40",
         "text": [
          "Student_40"
         ],
         "type": "scatter",
         "uid": "4381ab14-e411-11e8-a1d0-d7b4c6107baf",
         "x": [
          2
         ],
         "y": [
          18
         ]
        },
        {
         "marker": {
          "color": "rgb(0,255,0)",
          "colorscale": "Viridis",
          "line": {
           "width": 2
          },
          "size": 12,
          "symbol": 0
         },
         "mode": "markers",
         "name": "Student_41",
         "text": [
          "Student_41"
         ],
         "type": "scatter",
         "uid": "4381ab8c-e411-11e8-a1d0-d7b4c6107baf",
         "x": [
          16
         ],
         "y": [
          94
         ]
        },
        {
         "marker": {
          "color": "rgb(255,0,0)",
          "colorscale": "Viridis",
          "line": {
           "width": 2
          },
          "size": 12,
          "symbol": 1
         },
         "mode": "markers",
         "name": "Student_42",
         "text": [
          "Student_42"
         ],
         "type": "scatter",
         "uid": "4381ac18-e411-11e8-a1d0-d7b4c6107baf",
         "x": [
          0
         ],
         "y": [
          25
         ]
        },
        {
         "marker": {
          "color": "rgb(255,0,0)",
          "colorscale": "Viridis",
          "line": {
           "width": 2
          },
          "size": 12,
          "symbol": 1
         },
         "mode": "markers",
         "name": "Student_43",
         "text": [
          "Student_43"
         ],
         "type": "scatter",
         "uid": "4381ac9a-e411-11e8-a1d0-d7b4c6107baf",
         "x": [
          2
         ],
         "y": [
          25
         ]
        },
        {
         "marker": {
          "color": "rgb(0,0,255)",
          "colorscale": "Viridis",
          "line": {
           "width": 2
          },
          "size": 12,
          "symbol": 3
         },
         "mode": "markers",
         "name": "Student_44",
         "text": [
          "Student_44"
         ],
         "type": "scatter",
         "uid": "4381ad26-e411-11e8-a1d0-d7b4c6107baf",
         "x": [
          11
         ],
         "y": [
          70
         ]
        },
        {
         "marker": {
          "color": "rgb(127,0,127)",
          "colorscale": "Viridis",
          "line": {
           "width": 2
          },
          "size": 12,
          "symbol": 2
         },
         "mode": "markers",
         "name": "Student_45",
         "text": [
          "Student_45"
         ],
         "type": "scatter",
         "uid": "4381ada8-e411-11e8-a1d0-d7b4c6107baf",
         "x": [
          0
         ],
         "y": [
          46
         ]
        },
        {
         "marker": {
          "color": "rgb(255,0,0)",
          "colorscale": "Viridis",
          "line": {
           "width": 2
          },
          "size": 12,
          "symbol": 1
         },
         "mode": "markers",
         "name": "Student_46",
         "text": [
          "Student_46"
         ],
         "type": "scatter",
         "uid": "4381ae2a-e411-11e8-a1d0-d7b4c6107baf",
         "x": [
          1
         ],
         "y": [
          28
         ]
        },
        {
         "marker": {
          "color": "rgb(0,0,255)",
          "colorscale": "Viridis",
          "line": {
           "width": 2
          },
          "size": 12,
          "symbol": 3
         },
         "mode": "markers",
         "name": "Student_47",
         "text": [
          "Student_47"
         ],
         "type": "scatter",
         "uid": "4381aeac-e411-11e8-a1d0-d7b4c6107baf",
         "x": [
          1
         ],
         "y": [
          68
         ]
        },
        {
         "marker": {
          "color": "rgb(127,0,127)",
          "colorscale": "Viridis",
          "line": {
           "width": 2
          },
          "size": 12,
          "symbol": 2
         },
         "mode": "markers",
         "name": "Student_48",
         "text": [
          "Student_48"
         ],
         "type": "scatter",
         "uid": "4381af2e-e411-11e8-a1d0-d7b4c6107baf",
         "x": [
          0
         ],
         "y": [
          40
         ]
        },
        {
         "marker": {
          "color": "rgb(0,0,255)",
          "colorscale": "Viridis",
          "line": {
           "width": 2
          },
          "size": 12,
          "symbol": 3
         },
         "mode": "markers",
         "name": "Student_49",
         "text": [
          "Student_49"
         ],
         "type": "scatter",
         "uid": "4381afba-e411-11e8-a1d0-d7b4c6107baf",
         "x": [
          9
         ],
         "y": [
          79
         ]
        },
        {
         "marker": {
          "color": "rgb(255,0,0)",
          "colorscale": "Viridis",
          "line": {
           "width": 2
          },
          "size": 12,
          "symbol": 1
         },
         "mode": "markers",
         "name": "Student_50",
         "text": [
          "Student_50"
         ],
         "type": "scatter",
         "uid": "4381b03c-e411-11e8-a1d0-d7b4c6107baf",
         "x": [
          0
         ],
         "y": [
          37
         ]
        },
        {
         "marker": {
          "color": "rgb(0,0,255)",
          "colorscale": "Viridis",
          "line": {
           "width": 2
          },
          "size": 12,
          "symbol": 3
         },
         "mode": "markers",
         "name": "Student_51",
         "text": [
          "Student_51"
         ],
         "type": "scatter",
         "uid": "4381b0c8-e411-11e8-a1d0-d7b4c6107baf",
         "x": [
          3
         ],
         "y": [
          64
         ]
        },
        {
         "marker": {
          "color": "rgb(255,0,0)",
          "colorscale": "Viridis",
          "line": {
           "width": 2
          },
          "size": 12,
          "symbol": 1
         },
         "mode": "markers",
         "name": "Student_52",
         "text": [
          "Student_52"
         ],
         "type": "scatter",
         "uid": "4381b14a-e411-11e8-a1d0-d7b4c6107baf",
         "x": [
          2
         ],
         "y": [
          7
         ]
        },
        {
         "marker": {
          "color": "rgb(0,0,255)",
          "colorscale": "Viridis",
          "line": {
           "width": 2
          },
          "size": 12,
          "symbol": 3
         },
         "mode": "markers",
         "name": "Student_53",
         "text": [
          "Student_53"
         ],
         "type": "scatter",
         "uid": "4381b1d6-e411-11e8-a1d0-d7b4c6107baf",
         "x": [
          11
         ],
         "y": [
          64
         ]
        },
        {
         "marker": {
          "color": "rgb(127,0,127)",
          "colorscale": "Viridis",
          "line": {
           "width": 2
          },
          "size": 12,
          "symbol": 2
         },
         "mode": "markers",
         "name": "Student_54",
         "text": [
          "Student_54"
         ],
         "type": "scatter",
         "uid": "4381b258-e411-11e8-a1d0-d7b4c6107baf",
         "x": [
          2
         ],
         "y": [
          40
         ]
        },
        {
         "marker": {
          "color": "rgb(127,0,127)",
          "colorscale": "Viridis",
          "line": {
           "width": 2
          },
          "size": 12,
          "symbol": 2
         },
         "mode": "markers",
         "name": "Student_55",
         "text": [
          "Student_55"
         ],
         "type": "scatter",
         "uid": "4381b2e4-e411-11e8-a1d0-d7b4c6107baf",
         "x": [
          2
         ],
         "y": [
          54
         ]
        },
        {
         "marker": {
          "color": "rgb(255,0,0)",
          "colorscale": "Viridis",
          "line": {
           "width": 2
          },
          "size": 12,
          "symbol": 1
         },
         "mode": "markers",
         "name": "Student_56",
         "text": [
          "Student_56"
         ],
         "type": "scatter",
         "uid": "4381b366-e411-11e8-a1d0-d7b4c6107baf",
         "x": [
          0
         ],
         "y": [
          26
         ]
        },
        {
         "marker": {
          "color": "rgb(0,255,0)",
          "colorscale": "Viridis",
          "line": {
           "width": 2
          },
          "size": 12,
          "symbol": 0
         },
         "mode": "markers",
         "name": "Student_57",
         "text": [
          "Student_57"
         ],
         "type": "scatter",
         "uid": "4381b3e8-e411-11e8-a1d0-d7b4c6107baf",
         "x": [
          14
         ],
         "y": [
          86
         ]
        },
        {
         "marker": {
          "color": "rgb(0,255,0)",
          "colorscale": "Viridis",
          "line": {
           "width": 2
          },
          "size": 12,
          "symbol": 0
         },
         "mode": "markers",
         "name": "Student_58",
         "text": [
          "Student_58"
         ],
         "type": "scatter",
         "uid": "4381b46a-e411-11e8-a1d0-d7b4c6107baf",
         "x": [
          18
         ],
         "y": [
          74
         ]
        },
        {
         "marker": {
          "color": "rgb(0,0,255)",
          "colorscale": "Viridis",
          "line": {
           "width": 2
          },
          "size": 12,
          "symbol": 3
         },
         "mode": "markers",
         "name": "Student_59",
         "text": [
          "Student_59"
         ],
         "type": "scatter",
         "uid": "4381b4e2-e411-11e8-a1d0-d7b4c6107baf",
         "x": [
          6
         ],
         "y": [
          70
         ]
        },
        {
         "marker": {
          "color": "rgb(0,0,255)",
          "colorscale": "Viridis",
          "line": {
           "width": 2
          },
          "size": 12,
          "symbol": 3
         },
         "mode": "markers",
         "name": "Student_60",
         "text": [
          "Student_60"
         ],
         "type": "scatter",
         "uid": "4381b55a-e411-11e8-a1d0-d7b4c6107baf",
         "x": [
          6
         ],
         "y": [
          78
         ]
        }
       ],
       "layout": {
        "hovermode": "closest",
        "showlegend": true,
        "title": "Notas dos estudantes vs postagens no fórum",
        "xaxis": {
         "autorange": false,
         "fixedrange": false,
         "range": [
          0,
          50
         ],
         "rangemode": "normal",
         "showline": true,
         "title": "Postagem no fórum",
         "zeroline": false
        },
        "yaxis": {
         "autorange": false,
         "fixedrange": false,
         "range": [
          0,
          104
         ],
         "rangemode": "normal",
         "showline": true,
         "title": "Notas"
        }
       }
      },
      "text/html": [
       "<div id=\"4537be20-31f6-4cd0-8057-c415abcedc2e\" style=\"height: 525px; width: 100%;\" class=\"plotly-graph-div\"></div><script type=\"text/javascript\">require([\"plotly\"], function(Plotly) { window.PLOTLYENV=window.PLOTLYENV || {};window.PLOTLYENV.BASE_URL=\"https://plot.ly\";Plotly.newPlot(\"4537be20-31f6-4cd0-8057-c415abcedc2e\", [{\"marker\": {\"color\": \"rgb(255,0,0)\", \"colorscale\": \"Viridis\", \"line\": {\"width\": 2}, \"size\": 12, \"symbol\": 1}, \"mode\": \"markers\", \"name\": \"Student_1\", \"text\": [\"Student_1\"], \"x\": [1], \"y\": [5], \"type\": \"scatter\", \"uid\": \"43819520-e411-11e8-a1d0-d7b4c6107baf\"}, {\"marker\": {\"color\": \"rgb(0,255,0)\", \"colorscale\": \"Viridis\", \"line\": {\"width\": 2}, \"size\": 12, \"symbol\": 0}, \"mode\": \"markers\", \"name\": \"Student_2\", \"text\": [\"Student_2\"], \"x\": [40], \"y\": [92], \"type\": \"scatter\", \"uid\": \"438196ba-e411-11e8-a1d0-d7b4c6107baf\"}, {\"marker\": {\"color\": \"rgb(0,255,0)\", \"colorscale\": \"Viridis\", \"line\": {\"width\": 2}, \"size\": 12, \"symbol\": 0}, \"mode\": \"markers\", \"name\": \"Student_3\", \"text\": [\"Student_3\"], \"x\": [14], \"y\": [82], \"type\": \"scatter\", \"uid\": \"43819782-e411-11e8-a1d0-d7b4c6107baf\"}, {\"marker\": {\"color\": \"rgb(127,0,127)\", \"colorscale\": \"Viridis\", \"line\": {\"width\": 2}, \"size\": 12, \"symbol\": 2}, \"mode\": \"markers\", \"name\": \"Student_4\", \"text\": [\"Student_4\"], \"x\": [1], \"y\": [58], \"type\": \"scatter\", \"uid\": \"43819822-e411-11e8-a1d0-d7b4c6107baf\"}, {\"marker\": {\"color\": \"rgb(0,255,0)\", \"colorscale\": \"Viridis\", \"line\": {\"width\": 2}, \"size\": 12, \"symbol\": 0}, \"mode\": \"markers\", \"name\": \"Student_5\", \"text\": [\"Student_5\"], \"x\": [19], \"y\": [77], \"type\": \"scatter\", \"uid\": \"438198b8-e411-11e8-a1d0-d7b4c6107baf\"}, {\"marker\": {\"color\": \"rgb(0,255,0)\", \"colorscale\": \"Viridis\", \"line\": {\"width\": 2}, \"size\": 12, \"symbol\": 0}, \"mode\": \"markers\", \"name\": \"Student_6\", \"text\": [\"Student_6\"], \"x\": [30], \"y\": [87], \"type\": \"scatter\", \"uid\": \"43819944-e411-11e8-a1d0-d7b4c6107baf\"}, {\"marker\": {\"color\": \"rgb(0,255,0)\", \"colorscale\": \"Viridis\", \"line\": {\"width\": 2}, \"size\": 12, \"symbol\": 0}, \"mode\": \"markers\", \"name\": \"Student_7\", \"text\": [\"Student_7\"], \"x\": [17], \"y\": [74], \"type\": \"scatter\", \"uid\": \"438199c6-e411-11e8-a1d0-d7b4c6107baf\"}, {\"marker\": {\"color\": \"rgb(255,0,0)\", \"colorscale\": \"Viridis\", \"line\": {\"width\": 2}, \"size\": 12, \"symbol\": 1}, \"mode\": \"markers\", \"name\": \"Student_8\", \"text\": [\"Student_8\"], \"x\": [2], \"y\": [14], \"type\": \"scatter\", \"uid\": \"43819a52-e411-11e8-a1d0-d7b4c6107baf\"}, {\"marker\": {\"color\": \"rgb(0,0,255)\", \"colorscale\": \"Viridis\", \"line\": {\"width\": 2}, \"size\": 12, \"symbol\": 3}, \"mode\": \"markers\", \"name\": \"Student_9\", \"text\": [\"Student_9\"], \"x\": [3], \"y\": [59], \"type\": \"scatter\", \"uid\": \"43819ade-e411-11e8-a1d0-d7b4c6107baf\"}, {\"marker\": {\"color\": \"rgb(127,0,127)\", \"colorscale\": \"Viridis\", \"line\": {\"width\": 2}, \"size\": 12, \"symbol\": 2}, \"mode\": \"markers\", \"name\": \"Student_10\", \"text\": [\"Student_10\"], \"x\": [0], \"y\": [39], \"type\": \"scatter\", \"uid\": \"43819b6a-e411-11e8-a1d0-d7b4c6107baf\"}, {\"marker\": {\"color\": \"rgb(0,255,0)\", \"colorscale\": \"Viridis\", \"line\": {\"width\": 2}, \"size\": 12, \"symbol\": 0}, \"mode\": \"markers\", \"name\": \"Student_11\", \"text\": [\"Student_11\"], \"x\": [32], \"y\": [94], \"type\": \"scatter\", \"uid\": \"43819bec-e411-11e8-a1d0-d7b4c6107baf\"}, {\"marker\": {\"color\": \"rgb(127,0,127)\", \"colorscale\": \"Viridis\", \"line\": {\"width\": 2}, \"size\": 12, \"symbol\": 2}, \"mode\": \"markers\", \"name\": \"Student_12\", \"text\": [\"Student_12\"], \"x\": [1], \"y\": [43], \"type\": \"scatter\", \"uid\": \"43819c78-e411-11e8-a1d0-d7b4c6107baf\"}, {\"marker\": {\"color\": \"rgb(127,0,127)\", \"colorscale\": \"Viridis\", \"line\": {\"width\": 2}, \"size\": 12, \"symbol\": 2}, \"mode\": \"markers\", \"name\": \"Student_13\", \"text\": [\"Student_13\"], \"x\": [2], \"y\": [42], \"type\": \"scatter\", \"uid\": \"43819cfa-e411-11e8-a1d0-d7b4c6107baf\"}, {\"marker\": {\"color\": \"rgb(0,0,255)\", \"colorscale\": \"Viridis\", \"line\": {\"width\": 2}, \"size\": 12, \"symbol\": 3}, \"mode\": \"markers\", \"name\": \"Student_14\", \"text\": [\"Student_14\"], \"x\": [4], \"y\": [67], \"type\": \"scatter\", \"uid\": \"43819d86-e411-11e8-a1d0-d7b4c6107baf\"}, {\"marker\": {\"color\": \"rgb(127,0,127)\", \"colorscale\": \"Viridis\", \"line\": {\"width\": 2}, \"size\": 12, \"symbol\": 2}, \"mode\": \"markers\", \"name\": \"Student_15\", \"text\": [\"Student_15\"], \"x\": [4], \"y\": [53], \"type\": \"scatter\", \"uid\": \"43819e08-e411-11e8-a1d0-d7b4c6107baf\"}, {\"marker\": {\"color\": \"rgb(0,0,255)\", \"colorscale\": \"Viridis\", \"line\": {\"width\": 2}, \"size\": 12, \"symbol\": 3}, \"mode\": \"markers\", \"name\": \"Student_16\", \"text\": [\"Student_16\"], \"x\": [8], \"y\": [63], \"type\": \"scatter\", \"uid\": \"43819e94-e411-11e8-a1d0-d7b4c6107baf\"}, {\"marker\": {\"color\": \"rgb(0,0,255)\", \"colorscale\": \"Viridis\", \"line\": {\"width\": 2}, \"size\": 12, \"symbol\": 3}, \"mode\": \"markers\", \"name\": \"Student_17\", \"text\": [\"Student_17\"], \"x\": [7], \"y\": [69], \"type\": \"scatter\", \"uid\": \"43819f16-e411-11e8-a1d0-d7b4c6107baf\"}, {\"marker\": {\"color\": \"rgb(255,0,0)\", \"colorscale\": \"Viridis\", \"line\": {\"width\": 2}, \"size\": 12, \"symbol\": 1}, \"mode\": \"markers\", \"name\": \"Student_18\", \"text\": [\"Student_18\"], \"x\": [1], \"y\": [31], \"type\": \"scatter\", \"uid\": \"43819fa2-e411-11e8-a1d0-d7b4c6107baf\"}, {\"marker\": {\"color\": \"rgb(0,255,0)\", \"colorscale\": \"Viridis\", \"line\": {\"width\": 2}, \"size\": 12, \"symbol\": 0}, \"mode\": \"markers\", \"name\": \"Student_19\", \"text\": [\"Student_19\"], \"x\": [31], \"y\": [81], \"type\": \"scatter\", \"uid\": \"4381a02e-e411-11e8-a1d0-d7b4c6107baf\"}, {\"marker\": {\"color\": \"rgb(127,0,127)\", \"colorscale\": \"Viridis\", \"line\": {\"width\": 2}, \"size\": 12, \"symbol\": 2}, \"mode\": \"markers\", \"name\": \"Student_20\", \"text\": [\"Student_20\"], \"x\": [1], \"y\": [46], \"type\": \"scatter\", \"uid\": \"4381a0b0-e411-11e8-a1d0-d7b4c6107baf\"}, {\"marker\": {\"color\": \"rgb(255,0,0)\", \"colorscale\": \"Viridis\", \"line\": {\"width\": 2}, \"size\": 12, \"symbol\": 1}, \"mode\": \"markers\", \"name\": \"Student_21\", \"text\": [\"Student_21\"], \"x\": [3], \"y\": [22], \"type\": \"scatter\", \"uid\": \"4381a13c-e411-11e8-a1d0-d7b4c6107baf\"}, {\"marker\": {\"color\": \"rgb(0,0,255)\", \"colorscale\": \"Viridis\", \"line\": {\"width\": 2}, \"size\": 12, \"symbol\": 3}, \"mode\": \"markers\", \"name\": \"Student_22\", \"text\": [\"Student_22\"], \"x\": [6], \"y\": [56], \"type\": \"scatter\", \"uid\": \"4381a1be-e411-11e8-a1d0-d7b4c6107baf\"}, {\"marker\": {\"color\": \"rgb(0,0,255)\", \"colorscale\": \"Viridis\", \"line\": {\"width\": 2}, \"size\": 12, \"symbol\": 3}, \"mode\": \"markers\", \"name\": \"Student_23\", \"text\": [\"Student_23\"], \"x\": [5], \"y\": [63], \"type\": \"scatter\", \"uid\": \"4381a240-e411-11e8-a1d0-d7b4c6107baf\"}, {\"marker\": {\"color\": \"rgb(127,0,127)\", \"colorscale\": \"Viridis\", \"line\": {\"width\": 2}, \"size\": 12, \"symbol\": 2}, \"mode\": \"markers\", \"name\": \"Student_24\", \"text\": [\"Student_24\"], \"x\": [0], \"y\": [47], \"type\": \"scatter\", \"uid\": \"4381a2cc-e411-11e8-a1d0-d7b4c6107baf\"}, {\"marker\": {\"color\": \"rgb(0,0,255)\", \"colorscale\": \"Viridis\", \"line\": {\"width\": 2}, \"size\": 12, \"symbol\": 3}, \"mode\": \"markers\", \"name\": \"Student_25\", \"text\": [\"Student_25\"], \"x\": [8], \"y\": [73], \"type\": \"scatter\", \"uid\": \"4381a34e-e411-11e8-a1d0-d7b4c6107baf\"}, {\"marker\": {\"color\": \"rgb(255,0,0)\", \"colorscale\": \"Viridis\", \"line\": {\"width\": 2}, \"size\": 12, \"symbol\": 1}, \"mode\": \"markers\", \"name\": \"Student_26\", \"text\": [\"Student_26\"], \"x\": [2], \"y\": [33], \"type\": \"scatter\", \"uid\": \"4381a3da-e411-11e8-a1d0-d7b4c6107baf\"}, {\"marker\": {\"color\": \"rgb(127,0,127)\", \"colorscale\": \"Viridis\", \"line\": {\"width\": 2}, \"size\": 12, \"symbol\": 2}, \"mode\": \"markers\", \"name\": \"Student_27\", \"text\": [\"Student_27\"], \"x\": [2], \"y\": [50], \"type\": \"scatter\", \"uid\": \"4381a466-e411-11e8-a1d0-d7b4c6107baf\"}, {\"marker\": {\"color\": \"rgb(127,0,127)\", \"colorscale\": \"Viridis\", \"line\": {\"width\": 2}, \"size\": 12, \"symbol\": 2}, \"mode\": \"markers\", \"name\": \"Student_28\", \"text\": [\"Student_28\"], \"x\": [2], \"y\": [46], \"type\": \"scatter\", \"uid\": \"4381a4e8-e411-11e8-a1d0-d7b4c6107baf\"}, {\"marker\": {\"color\": \"rgb(0,0,255)\", \"colorscale\": \"Viridis\", \"line\": {\"width\": 2}, \"size\": 12, \"symbol\": 3}, \"mode\": \"markers\", \"name\": \"Student_29\", \"text\": [\"Student_29\"], \"x\": [13], \"y\": [76], \"type\": \"scatter\", \"uid\": \"4381a56a-e411-11e8-a1d0-d7b4c6107baf\"}, {\"marker\": {\"color\": \"rgb(0,0,255)\", \"colorscale\": \"Viridis\", \"line\": {\"width\": 2}, \"size\": 12, \"symbol\": 3}, \"mode\": \"markers\", \"name\": \"Student_30\", \"text\": [\"Student_30\"], \"x\": [11], \"y\": [67], \"type\": \"scatter\", \"uid\": \"4381a5ec-e411-11e8-a1d0-d7b4c6107baf\"}, {\"marker\": {\"color\": \"rgb(127,0,127)\", \"colorscale\": \"Viridis\", \"line\": {\"width\": 2}, \"size\": 12, \"symbol\": 2}, \"mode\": \"markers\", \"name\": \"Student_31\", \"text\": [\"Student_31\"], \"x\": [0], \"y\": [48], \"type\": \"scatter\", \"uid\": \"4381a678-e411-11e8-a1d0-d7b4c6107baf\"}, {\"marker\": {\"color\": \"rgb(255,0,0)\", \"colorscale\": \"Viridis\", \"line\": {\"width\": 2}, \"size\": 12, \"symbol\": 1}, \"mode\": \"markers\", \"name\": \"Student_32\", \"text\": [\"Student_32\"], \"x\": [1], \"y\": [22], \"type\": \"scatter\", \"uid\": \"4381a6fa-e411-11e8-a1d0-d7b4c6107baf\"}, {\"marker\": {\"color\": \"rgb(0,255,0)\", \"colorscale\": \"Viridis\", \"line\": {\"width\": 2}, \"size\": 12, \"symbol\": 0}, \"mode\": \"markers\", \"name\": \"Student_33\", \"text\": [\"Student_33\"], \"x\": [15], \"y\": [85], \"type\": \"scatter\", \"uid\": \"4381a77c-e411-11e8-a1d0-d7b4c6107baf\"}, {\"marker\": {\"color\": \"rgb(127,0,127)\", \"colorscale\": \"Viridis\", \"line\": {\"width\": 2}, \"size\": 12, \"symbol\": 2}, \"mode\": \"markers\", \"name\": \"Student_34\", \"text\": [\"Student_34\"], \"x\": [3], \"y\": [57], \"type\": \"scatter\", \"uid\": \"4381a7fe-e411-11e8-a1d0-d7b4c6107baf\"}, {\"marker\": {\"color\": \"rgb(0,0,255)\", \"colorscale\": \"Viridis\", \"line\": {\"width\": 2}, \"size\": 12, \"symbol\": 3}, \"mode\": \"markers\", \"name\": \"Student_35\", \"text\": [\"Student_35\"], \"x\": [10], \"y\": [65], \"type\": \"scatter\", \"uid\": \"4381a880-e411-11e8-a1d0-d7b4c6107baf\"}, {\"marker\": {\"color\": \"rgb(0,0,255)\", \"colorscale\": \"Viridis\", \"line\": {\"width\": 2}, \"size\": 12, \"symbol\": 3}, \"mode\": \"markers\", \"name\": \"Student_36\", \"text\": [\"Student_36\"], \"x\": [11], \"y\": [63], \"type\": \"scatter\", \"uid\": \"4381a902-e411-11e8-a1d0-d7b4c6107baf\"}, {\"marker\": {\"color\": \"rgb(255,0,0)\", \"colorscale\": \"Viridis\", \"line\": {\"width\": 2}, \"size\": 12, \"symbol\": 1}, \"mode\": \"markers\", \"name\": \"Student_37\", \"text\": [\"Student_37\"], \"x\": [1], \"y\": [36], \"type\": \"scatter\", \"uid\": \"4381a984-e411-11e8-a1d0-d7b4c6107baf\"}, {\"marker\": {\"color\": \"rgb(127,0,127)\", \"colorscale\": \"Viridis\", \"line\": {\"width\": 2}, \"size\": 12, \"symbol\": 2}, \"mode\": \"markers\", \"name\": \"Student_38\", \"text\": [\"Student_38\"], \"x\": [5], \"y\": [51], \"type\": \"scatter\", \"uid\": \"4381aa06-e411-11e8-a1d0-d7b4c6107baf\"}, {\"marker\": {\"color\": \"rgb(0,255,0)\", \"colorscale\": \"Viridis\", \"line\": {\"width\": 2}, \"size\": 12, \"symbol\": 0}, \"mode\": \"markers\", \"name\": \"Student_39\", \"text\": [\"Student_39\"], \"x\": [24], \"y\": [88], \"type\": \"scatter\", \"uid\": \"4381aa88-e411-11e8-a1d0-d7b4c6107baf\"}, {\"marker\": {\"color\": \"rgb(255,0,0)\", \"colorscale\": \"Viridis\", \"line\": {\"width\": 2}, \"size\": 12, \"symbol\": 1}, \"mode\": \"markers\", \"name\": \"Student_40\", \"text\": [\"Student_40\"], \"x\": [2], \"y\": [18], \"type\": \"scatter\", \"uid\": \"4381ab14-e411-11e8-a1d0-d7b4c6107baf\"}, {\"marker\": {\"color\": \"rgb(0,255,0)\", \"colorscale\": \"Viridis\", \"line\": {\"width\": 2}, \"size\": 12, \"symbol\": 0}, \"mode\": \"markers\", \"name\": \"Student_41\", \"text\": [\"Student_41\"], \"x\": [16], \"y\": [94], \"type\": \"scatter\", \"uid\": \"4381ab8c-e411-11e8-a1d0-d7b4c6107baf\"}, {\"marker\": {\"color\": \"rgb(255,0,0)\", \"colorscale\": \"Viridis\", \"line\": {\"width\": 2}, \"size\": 12, \"symbol\": 1}, \"mode\": \"markers\", \"name\": \"Student_42\", \"text\": [\"Student_42\"], \"x\": [0], \"y\": [25], \"type\": \"scatter\", \"uid\": \"4381ac18-e411-11e8-a1d0-d7b4c6107baf\"}, {\"marker\": {\"color\": \"rgb(255,0,0)\", \"colorscale\": \"Viridis\", \"line\": {\"width\": 2}, \"size\": 12, \"symbol\": 1}, \"mode\": \"markers\", \"name\": \"Student_43\", \"text\": [\"Student_43\"], \"x\": [2], \"y\": [25], \"type\": \"scatter\", \"uid\": \"4381ac9a-e411-11e8-a1d0-d7b4c6107baf\"}, {\"marker\": {\"color\": \"rgb(0,0,255)\", \"colorscale\": \"Viridis\", \"line\": {\"width\": 2}, \"size\": 12, \"symbol\": 3}, \"mode\": \"markers\", \"name\": \"Student_44\", \"text\": [\"Student_44\"], \"x\": [11], \"y\": [70], \"type\": \"scatter\", \"uid\": \"4381ad26-e411-11e8-a1d0-d7b4c6107baf\"}, {\"marker\": {\"color\": \"rgb(127,0,127)\", \"colorscale\": \"Viridis\", \"line\": {\"width\": 2}, \"size\": 12, \"symbol\": 2}, \"mode\": \"markers\", \"name\": \"Student_45\", \"text\": [\"Student_45\"], \"x\": [0], \"y\": [46], \"type\": \"scatter\", \"uid\": \"4381ada8-e411-11e8-a1d0-d7b4c6107baf\"}, {\"marker\": {\"color\": \"rgb(255,0,0)\", \"colorscale\": \"Viridis\", \"line\": {\"width\": 2}, \"size\": 12, \"symbol\": 1}, \"mode\": \"markers\", \"name\": \"Student_46\", \"text\": [\"Student_46\"], \"x\": [1], \"y\": [28], \"type\": \"scatter\", \"uid\": \"4381ae2a-e411-11e8-a1d0-d7b4c6107baf\"}, {\"marker\": {\"color\": \"rgb(0,0,255)\", \"colorscale\": \"Viridis\", \"line\": {\"width\": 2}, \"size\": 12, \"symbol\": 3}, \"mode\": \"markers\", \"name\": \"Student_47\", \"text\": [\"Student_47\"], \"x\": [1], \"y\": [68], \"type\": \"scatter\", \"uid\": \"4381aeac-e411-11e8-a1d0-d7b4c6107baf\"}, {\"marker\": {\"color\": \"rgb(127,0,127)\", \"colorscale\": \"Viridis\", \"line\": {\"width\": 2}, \"size\": 12, \"symbol\": 2}, \"mode\": \"markers\", \"name\": \"Student_48\", \"text\": [\"Student_48\"], \"x\": [0], \"y\": [40], \"type\": \"scatter\", \"uid\": \"4381af2e-e411-11e8-a1d0-d7b4c6107baf\"}, {\"marker\": {\"color\": \"rgb(0,0,255)\", \"colorscale\": \"Viridis\", \"line\": {\"width\": 2}, \"size\": 12, \"symbol\": 3}, \"mode\": \"markers\", \"name\": \"Student_49\", \"text\": [\"Student_49\"], \"x\": [9], \"y\": [79], \"type\": \"scatter\", \"uid\": \"4381afba-e411-11e8-a1d0-d7b4c6107baf\"}, {\"marker\": {\"color\": \"rgb(255,0,0)\", \"colorscale\": \"Viridis\", \"line\": {\"width\": 2}, \"size\": 12, \"symbol\": 1}, \"mode\": \"markers\", \"name\": \"Student_50\", \"text\": [\"Student_50\"], \"x\": [0], \"y\": [37], \"type\": \"scatter\", \"uid\": \"4381b03c-e411-11e8-a1d0-d7b4c6107baf\"}, {\"marker\": {\"color\": \"rgb(0,0,255)\", \"colorscale\": \"Viridis\", \"line\": {\"width\": 2}, \"size\": 12, \"symbol\": 3}, \"mode\": \"markers\", \"name\": \"Student_51\", \"text\": [\"Student_51\"], \"x\": [3], \"y\": [64], \"type\": \"scatter\", \"uid\": \"4381b0c8-e411-11e8-a1d0-d7b4c6107baf\"}, {\"marker\": {\"color\": \"rgb(255,0,0)\", \"colorscale\": \"Viridis\", \"line\": {\"width\": 2}, \"size\": 12, \"symbol\": 1}, \"mode\": \"markers\", \"name\": \"Student_52\", \"text\": [\"Student_52\"], \"x\": [2], \"y\": [7], \"type\": \"scatter\", \"uid\": \"4381b14a-e411-11e8-a1d0-d7b4c6107baf\"}, {\"marker\": {\"color\": \"rgb(0,0,255)\", \"colorscale\": \"Viridis\", \"line\": {\"width\": 2}, \"size\": 12, \"symbol\": 3}, \"mode\": \"markers\", \"name\": \"Student_53\", \"text\": [\"Student_53\"], \"x\": [11], \"y\": [64], \"type\": \"scatter\", \"uid\": \"4381b1d6-e411-11e8-a1d0-d7b4c6107baf\"}, {\"marker\": {\"color\": \"rgb(127,0,127)\", \"colorscale\": \"Viridis\", \"line\": {\"width\": 2}, \"size\": 12, \"symbol\": 2}, \"mode\": \"markers\", \"name\": \"Student_54\", \"text\": [\"Student_54\"], \"x\": [2], \"y\": [40], \"type\": \"scatter\", \"uid\": \"4381b258-e411-11e8-a1d0-d7b4c6107baf\"}, {\"marker\": {\"color\": \"rgb(127,0,127)\", \"colorscale\": \"Viridis\", \"line\": {\"width\": 2}, \"size\": 12, \"symbol\": 2}, \"mode\": \"markers\", \"name\": \"Student_55\", \"text\": [\"Student_55\"], \"x\": [2], \"y\": [54], \"type\": \"scatter\", \"uid\": \"4381b2e4-e411-11e8-a1d0-d7b4c6107baf\"}, {\"marker\": {\"color\": \"rgb(255,0,0)\", \"colorscale\": \"Viridis\", \"line\": {\"width\": 2}, \"size\": 12, \"symbol\": 1}, \"mode\": \"markers\", \"name\": \"Student_56\", \"text\": [\"Student_56\"], \"x\": [0], \"y\": [26], \"type\": \"scatter\", \"uid\": \"4381b366-e411-11e8-a1d0-d7b4c6107baf\"}, {\"marker\": {\"color\": \"rgb(0,255,0)\", \"colorscale\": \"Viridis\", \"line\": {\"width\": 2}, \"size\": 12, \"symbol\": 0}, \"mode\": \"markers\", \"name\": \"Student_57\", \"text\": [\"Student_57\"], \"x\": [14], \"y\": [86], \"type\": \"scatter\", \"uid\": \"4381b3e8-e411-11e8-a1d0-d7b4c6107baf\"}, {\"marker\": {\"color\": \"rgb(0,255,0)\", \"colorscale\": \"Viridis\", \"line\": {\"width\": 2}, \"size\": 12, \"symbol\": 0}, \"mode\": \"markers\", \"name\": \"Student_58\", \"text\": [\"Student_58\"], \"x\": [18], \"y\": [74], \"type\": \"scatter\", \"uid\": \"4381b46a-e411-11e8-a1d0-d7b4c6107baf\"}, {\"marker\": {\"color\": \"rgb(0,0,255)\", \"colorscale\": \"Viridis\", \"line\": {\"width\": 2}, \"size\": 12, \"symbol\": 3}, \"mode\": \"markers\", \"name\": \"Student_59\", \"text\": [\"Student_59\"], \"x\": [6], \"y\": [70], \"type\": \"scatter\", \"uid\": \"4381b4e2-e411-11e8-a1d0-d7b4c6107baf\"}, {\"marker\": {\"color\": \"rgb(0,0,255)\", \"colorscale\": \"Viridis\", \"line\": {\"width\": 2}, \"size\": 12, \"symbol\": 3}, \"mode\": \"markers\", \"name\": \"Student_60\", \"text\": [\"Student_60\"], \"x\": [6], \"y\": [78], \"type\": \"scatter\", \"uid\": \"4381b55a-e411-11e8-a1d0-d7b4c6107baf\"}], {\"hovermode\": \"closest\", \"showlegend\": true, \"title\": \"Notas dos estudantes vs postagens no f\\u00f3rum\", \"xaxis\": {\"autorange\": false, \"fixedrange\": false, \"range\": [0, 50], \"rangemode\": \"normal\", \"showline\": true, \"title\": \"Postagem no f\\u00f3rum\", \"zeroline\": false}, \"yaxis\": {\"autorange\": false, \"fixedrange\": false, \"range\": [0, 104], \"rangemode\": \"normal\", \"showline\": true, \"title\": \"Notas\"}}, {\"showLink\": true, \"linkText\": \"Export to plot.ly\"})});</script>"
      ],
      "text/vnd.plotly.v1+html": [
       "<div id=\"4537be20-31f6-4cd0-8057-c415abcedc2e\" style=\"height: 525px; width: 100%;\" class=\"plotly-graph-div\"></div><script type=\"text/javascript\">require([\"plotly\"], function(Plotly) { window.PLOTLYENV=window.PLOTLYENV || {};window.PLOTLYENV.BASE_URL=\"https://plot.ly\";Plotly.newPlot(\"4537be20-31f6-4cd0-8057-c415abcedc2e\", [{\"marker\": {\"color\": \"rgb(255,0,0)\", \"colorscale\": \"Viridis\", \"line\": {\"width\": 2}, \"size\": 12, \"symbol\": 1}, \"mode\": \"markers\", \"name\": \"Student_1\", \"text\": [\"Student_1\"], \"x\": [1], \"y\": [5], \"type\": \"scatter\", \"uid\": \"43819520-e411-11e8-a1d0-d7b4c6107baf\"}, {\"marker\": {\"color\": \"rgb(0,255,0)\", \"colorscale\": \"Viridis\", \"line\": {\"width\": 2}, \"size\": 12, \"symbol\": 0}, \"mode\": \"markers\", \"name\": \"Student_2\", \"text\": [\"Student_2\"], \"x\": [40], \"y\": [92], \"type\": \"scatter\", \"uid\": \"438196ba-e411-11e8-a1d0-d7b4c6107baf\"}, {\"marker\": {\"color\": \"rgb(0,255,0)\", \"colorscale\": \"Viridis\", \"line\": {\"width\": 2}, \"size\": 12, \"symbol\": 0}, \"mode\": \"markers\", \"name\": \"Student_3\", \"text\": [\"Student_3\"], \"x\": [14], \"y\": [82], \"type\": \"scatter\", \"uid\": \"43819782-e411-11e8-a1d0-d7b4c6107baf\"}, {\"marker\": {\"color\": \"rgb(127,0,127)\", \"colorscale\": \"Viridis\", \"line\": {\"width\": 2}, \"size\": 12, \"symbol\": 2}, \"mode\": \"markers\", \"name\": \"Student_4\", \"text\": [\"Student_4\"], \"x\": [1], \"y\": [58], \"type\": \"scatter\", \"uid\": \"43819822-e411-11e8-a1d0-d7b4c6107baf\"}, {\"marker\": {\"color\": \"rgb(0,255,0)\", \"colorscale\": \"Viridis\", \"line\": {\"width\": 2}, \"size\": 12, \"symbol\": 0}, \"mode\": \"markers\", \"name\": \"Student_5\", \"text\": [\"Student_5\"], \"x\": [19], \"y\": [77], \"type\": \"scatter\", \"uid\": \"438198b8-e411-11e8-a1d0-d7b4c6107baf\"}, {\"marker\": {\"color\": \"rgb(0,255,0)\", \"colorscale\": \"Viridis\", \"line\": {\"width\": 2}, \"size\": 12, \"symbol\": 0}, \"mode\": \"markers\", \"name\": \"Student_6\", \"text\": [\"Student_6\"], \"x\": [30], \"y\": [87], \"type\": \"scatter\", \"uid\": \"43819944-e411-11e8-a1d0-d7b4c6107baf\"}, {\"marker\": {\"color\": \"rgb(0,255,0)\", \"colorscale\": \"Viridis\", \"line\": {\"width\": 2}, \"size\": 12, \"symbol\": 0}, \"mode\": \"markers\", \"name\": \"Student_7\", \"text\": [\"Student_7\"], \"x\": [17], \"y\": [74], \"type\": \"scatter\", \"uid\": \"438199c6-e411-11e8-a1d0-d7b4c6107baf\"}, {\"marker\": {\"color\": \"rgb(255,0,0)\", \"colorscale\": \"Viridis\", \"line\": {\"width\": 2}, \"size\": 12, \"symbol\": 1}, \"mode\": \"markers\", \"name\": \"Student_8\", \"text\": [\"Student_8\"], \"x\": [2], \"y\": [14], \"type\": \"scatter\", \"uid\": \"43819a52-e411-11e8-a1d0-d7b4c6107baf\"}, {\"marker\": {\"color\": \"rgb(0,0,255)\", \"colorscale\": \"Viridis\", \"line\": {\"width\": 2}, \"size\": 12, \"symbol\": 3}, \"mode\": \"markers\", \"name\": \"Student_9\", \"text\": [\"Student_9\"], \"x\": [3], \"y\": [59], \"type\": \"scatter\", \"uid\": \"43819ade-e411-11e8-a1d0-d7b4c6107baf\"}, {\"marker\": {\"color\": \"rgb(127,0,127)\", \"colorscale\": \"Viridis\", \"line\": {\"width\": 2}, \"size\": 12, \"symbol\": 2}, \"mode\": \"markers\", \"name\": \"Student_10\", \"text\": [\"Student_10\"], \"x\": [0], \"y\": [39], \"type\": \"scatter\", \"uid\": \"43819b6a-e411-11e8-a1d0-d7b4c6107baf\"}, {\"marker\": {\"color\": \"rgb(0,255,0)\", \"colorscale\": \"Viridis\", \"line\": {\"width\": 2}, \"size\": 12, \"symbol\": 0}, \"mode\": \"markers\", \"name\": \"Student_11\", \"text\": [\"Student_11\"], \"x\": [32], \"y\": [94], \"type\": \"scatter\", \"uid\": \"43819bec-e411-11e8-a1d0-d7b4c6107baf\"}, {\"marker\": {\"color\": \"rgb(127,0,127)\", \"colorscale\": \"Viridis\", \"line\": {\"width\": 2}, \"size\": 12, \"symbol\": 2}, \"mode\": \"markers\", \"name\": \"Student_12\", \"text\": [\"Student_12\"], \"x\": [1], \"y\": [43], \"type\": \"scatter\", \"uid\": \"43819c78-e411-11e8-a1d0-d7b4c6107baf\"}, {\"marker\": {\"color\": \"rgb(127,0,127)\", \"colorscale\": \"Viridis\", \"line\": {\"width\": 2}, \"size\": 12, \"symbol\": 2}, \"mode\": \"markers\", \"name\": \"Student_13\", \"text\": [\"Student_13\"], \"x\": [2], \"y\": [42], \"type\": \"scatter\", \"uid\": \"43819cfa-e411-11e8-a1d0-d7b4c6107baf\"}, {\"marker\": {\"color\": \"rgb(0,0,255)\", \"colorscale\": \"Viridis\", \"line\": {\"width\": 2}, \"size\": 12, \"symbol\": 3}, \"mode\": \"markers\", \"name\": \"Student_14\", \"text\": [\"Student_14\"], \"x\": [4], \"y\": [67], \"type\": \"scatter\", \"uid\": \"43819d86-e411-11e8-a1d0-d7b4c6107baf\"}, {\"marker\": {\"color\": \"rgb(127,0,127)\", \"colorscale\": \"Viridis\", \"line\": {\"width\": 2}, \"size\": 12, \"symbol\": 2}, \"mode\": \"markers\", \"name\": \"Student_15\", \"text\": [\"Student_15\"], \"x\": [4], \"y\": [53], \"type\": \"scatter\", \"uid\": \"43819e08-e411-11e8-a1d0-d7b4c6107baf\"}, {\"marker\": {\"color\": \"rgb(0,0,255)\", \"colorscale\": \"Viridis\", \"line\": {\"width\": 2}, \"size\": 12, \"symbol\": 3}, \"mode\": \"markers\", \"name\": \"Student_16\", \"text\": [\"Student_16\"], \"x\": [8], \"y\": [63], \"type\": \"scatter\", \"uid\": \"43819e94-e411-11e8-a1d0-d7b4c6107baf\"}, {\"marker\": {\"color\": \"rgb(0,0,255)\", \"colorscale\": \"Viridis\", \"line\": {\"width\": 2}, \"size\": 12, \"symbol\": 3}, \"mode\": \"markers\", \"name\": \"Student_17\", \"text\": [\"Student_17\"], \"x\": [7], \"y\": [69], \"type\": \"scatter\", \"uid\": \"43819f16-e411-11e8-a1d0-d7b4c6107baf\"}, {\"marker\": {\"color\": \"rgb(255,0,0)\", \"colorscale\": \"Viridis\", \"line\": {\"width\": 2}, \"size\": 12, \"symbol\": 1}, \"mode\": \"markers\", \"name\": \"Student_18\", \"text\": [\"Student_18\"], \"x\": [1], \"y\": [31], \"type\": \"scatter\", \"uid\": \"43819fa2-e411-11e8-a1d0-d7b4c6107baf\"}, {\"marker\": {\"color\": \"rgb(0,255,0)\", \"colorscale\": \"Viridis\", \"line\": {\"width\": 2}, \"size\": 12, \"symbol\": 0}, \"mode\": \"markers\", \"name\": \"Student_19\", \"text\": [\"Student_19\"], \"x\": [31], \"y\": [81], \"type\": \"scatter\", \"uid\": \"4381a02e-e411-11e8-a1d0-d7b4c6107baf\"}, {\"marker\": {\"color\": \"rgb(127,0,127)\", \"colorscale\": \"Viridis\", \"line\": {\"width\": 2}, \"size\": 12, \"symbol\": 2}, \"mode\": \"markers\", \"name\": \"Student_20\", \"text\": [\"Student_20\"], \"x\": [1], \"y\": [46], \"type\": \"scatter\", \"uid\": \"4381a0b0-e411-11e8-a1d0-d7b4c6107baf\"}, {\"marker\": {\"color\": \"rgb(255,0,0)\", \"colorscale\": \"Viridis\", \"line\": {\"width\": 2}, \"size\": 12, \"symbol\": 1}, \"mode\": \"markers\", \"name\": \"Student_21\", \"text\": [\"Student_21\"], \"x\": [3], \"y\": [22], \"type\": \"scatter\", \"uid\": \"4381a13c-e411-11e8-a1d0-d7b4c6107baf\"}, {\"marker\": {\"color\": \"rgb(0,0,255)\", \"colorscale\": \"Viridis\", \"line\": {\"width\": 2}, \"size\": 12, \"symbol\": 3}, \"mode\": \"markers\", \"name\": \"Student_22\", \"text\": [\"Student_22\"], \"x\": [6], \"y\": [56], \"type\": \"scatter\", \"uid\": \"4381a1be-e411-11e8-a1d0-d7b4c6107baf\"}, {\"marker\": {\"color\": \"rgb(0,0,255)\", \"colorscale\": \"Viridis\", \"line\": {\"width\": 2}, \"size\": 12, \"symbol\": 3}, \"mode\": \"markers\", \"name\": \"Student_23\", \"text\": [\"Student_23\"], \"x\": [5], \"y\": [63], \"type\": \"scatter\", \"uid\": \"4381a240-e411-11e8-a1d0-d7b4c6107baf\"}, {\"marker\": {\"color\": \"rgb(127,0,127)\", \"colorscale\": \"Viridis\", \"line\": {\"width\": 2}, \"size\": 12, \"symbol\": 2}, \"mode\": \"markers\", \"name\": \"Student_24\", \"text\": [\"Student_24\"], \"x\": [0], \"y\": [47], \"type\": \"scatter\", \"uid\": \"4381a2cc-e411-11e8-a1d0-d7b4c6107baf\"}, {\"marker\": {\"color\": \"rgb(0,0,255)\", \"colorscale\": \"Viridis\", \"line\": {\"width\": 2}, \"size\": 12, \"symbol\": 3}, \"mode\": \"markers\", \"name\": \"Student_25\", \"text\": [\"Student_25\"], \"x\": [8], \"y\": [73], \"type\": \"scatter\", \"uid\": \"4381a34e-e411-11e8-a1d0-d7b4c6107baf\"}, {\"marker\": {\"color\": \"rgb(255,0,0)\", \"colorscale\": \"Viridis\", \"line\": {\"width\": 2}, \"size\": 12, \"symbol\": 1}, \"mode\": \"markers\", \"name\": \"Student_26\", \"text\": [\"Student_26\"], \"x\": [2], \"y\": [33], \"type\": \"scatter\", \"uid\": \"4381a3da-e411-11e8-a1d0-d7b4c6107baf\"}, {\"marker\": {\"color\": \"rgb(127,0,127)\", \"colorscale\": \"Viridis\", \"line\": {\"width\": 2}, \"size\": 12, \"symbol\": 2}, \"mode\": \"markers\", \"name\": \"Student_27\", \"text\": [\"Student_27\"], \"x\": [2], \"y\": [50], \"type\": \"scatter\", \"uid\": \"4381a466-e411-11e8-a1d0-d7b4c6107baf\"}, {\"marker\": {\"color\": \"rgb(127,0,127)\", \"colorscale\": \"Viridis\", \"line\": {\"width\": 2}, \"size\": 12, \"symbol\": 2}, \"mode\": \"markers\", \"name\": \"Student_28\", \"text\": [\"Student_28\"], \"x\": [2], \"y\": [46], \"type\": \"scatter\", \"uid\": \"4381a4e8-e411-11e8-a1d0-d7b4c6107baf\"}, {\"marker\": {\"color\": \"rgb(0,0,255)\", \"colorscale\": \"Viridis\", \"line\": {\"width\": 2}, \"size\": 12, \"symbol\": 3}, \"mode\": \"markers\", \"name\": \"Student_29\", \"text\": [\"Student_29\"], \"x\": [13], \"y\": [76], \"type\": \"scatter\", \"uid\": \"4381a56a-e411-11e8-a1d0-d7b4c6107baf\"}, {\"marker\": {\"color\": \"rgb(0,0,255)\", \"colorscale\": \"Viridis\", \"line\": {\"width\": 2}, \"size\": 12, \"symbol\": 3}, \"mode\": \"markers\", \"name\": \"Student_30\", \"text\": [\"Student_30\"], \"x\": [11], \"y\": [67], \"type\": \"scatter\", \"uid\": \"4381a5ec-e411-11e8-a1d0-d7b4c6107baf\"}, {\"marker\": {\"color\": \"rgb(127,0,127)\", \"colorscale\": \"Viridis\", \"line\": {\"width\": 2}, \"size\": 12, \"symbol\": 2}, \"mode\": \"markers\", \"name\": \"Student_31\", \"text\": [\"Student_31\"], \"x\": [0], \"y\": [48], \"type\": \"scatter\", \"uid\": \"4381a678-e411-11e8-a1d0-d7b4c6107baf\"}, {\"marker\": {\"color\": \"rgb(255,0,0)\", \"colorscale\": \"Viridis\", \"line\": {\"width\": 2}, \"size\": 12, \"symbol\": 1}, \"mode\": \"markers\", \"name\": \"Student_32\", \"text\": [\"Student_32\"], \"x\": [1], \"y\": [22], \"type\": \"scatter\", \"uid\": \"4381a6fa-e411-11e8-a1d0-d7b4c6107baf\"}, {\"marker\": {\"color\": \"rgb(0,255,0)\", \"colorscale\": \"Viridis\", \"line\": {\"width\": 2}, \"size\": 12, \"symbol\": 0}, \"mode\": \"markers\", \"name\": \"Student_33\", \"text\": [\"Student_33\"], \"x\": [15], \"y\": [85], \"type\": \"scatter\", \"uid\": \"4381a77c-e411-11e8-a1d0-d7b4c6107baf\"}, {\"marker\": {\"color\": \"rgb(127,0,127)\", \"colorscale\": \"Viridis\", \"line\": {\"width\": 2}, \"size\": 12, \"symbol\": 2}, \"mode\": \"markers\", \"name\": \"Student_34\", \"text\": [\"Student_34\"], \"x\": [3], \"y\": [57], \"type\": \"scatter\", \"uid\": \"4381a7fe-e411-11e8-a1d0-d7b4c6107baf\"}, {\"marker\": {\"color\": \"rgb(0,0,255)\", \"colorscale\": \"Viridis\", \"line\": {\"width\": 2}, \"size\": 12, \"symbol\": 3}, \"mode\": \"markers\", \"name\": \"Student_35\", \"text\": [\"Student_35\"], \"x\": [10], \"y\": [65], \"type\": \"scatter\", \"uid\": \"4381a880-e411-11e8-a1d0-d7b4c6107baf\"}, {\"marker\": {\"color\": \"rgb(0,0,255)\", \"colorscale\": \"Viridis\", \"line\": {\"width\": 2}, \"size\": 12, \"symbol\": 3}, \"mode\": \"markers\", \"name\": \"Student_36\", \"text\": [\"Student_36\"], \"x\": [11], \"y\": [63], \"type\": \"scatter\", \"uid\": \"4381a902-e411-11e8-a1d0-d7b4c6107baf\"}, {\"marker\": {\"color\": \"rgb(255,0,0)\", \"colorscale\": \"Viridis\", \"line\": {\"width\": 2}, \"size\": 12, \"symbol\": 1}, \"mode\": \"markers\", \"name\": \"Student_37\", \"text\": [\"Student_37\"], \"x\": [1], \"y\": [36], \"type\": \"scatter\", \"uid\": \"4381a984-e411-11e8-a1d0-d7b4c6107baf\"}, {\"marker\": {\"color\": \"rgb(127,0,127)\", \"colorscale\": \"Viridis\", \"line\": {\"width\": 2}, \"size\": 12, \"symbol\": 2}, \"mode\": \"markers\", \"name\": \"Student_38\", \"text\": [\"Student_38\"], \"x\": [5], \"y\": [51], \"type\": \"scatter\", \"uid\": \"4381aa06-e411-11e8-a1d0-d7b4c6107baf\"}, {\"marker\": {\"color\": \"rgb(0,255,0)\", \"colorscale\": \"Viridis\", \"line\": {\"width\": 2}, \"size\": 12, \"symbol\": 0}, \"mode\": \"markers\", \"name\": \"Student_39\", \"text\": [\"Student_39\"], \"x\": [24], \"y\": [88], \"type\": \"scatter\", \"uid\": \"4381aa88-e411-11e8-a1d0-d7b4c6107baf\"}, {\"marker\": {\"color\": \"rgb(255,0,0)\", \"colorscale\": \"Viridis\", \"line\": {\"width\": 2}, \"size\": 12, \"symbol\": 1}, \"mode\": \"markers\", \"name\": \"Student_40\", \"text\": [\"Student_40\"], \"x\": [2], \"y\": [18], \"type\": \"scatter\", \"uid\": \"4381ab14-e411-11e8-a1d0-d7b4c6107baf\"}, {\"marker\": {\"color\": \"rgb(0,255,0)\", \"colorscale\": \"Viridis\", \"line\": {\"width\": 2}, \"size\": 12, \"symbol\": 0}, \"mode\": \"markers\", \"name\": \"Student_41\", \"text\": [\"Student_41\"], \"x\": [16], \"y\": [94], \"type\": \"scatter\", \"uid\": \"4381ab8c-e411-11e8-a1d0-d7b4c6107baf\"}, {\"marker\": {\"color\": \"rgb(255,0,0)\", \"colorscale\": \"Viridis\", \"line\": {\"width\": 2}, \"size\": 12, \"symbol\": 1}, \"mode\": \"markers\", \"name\": \"Student_42\", \"text\": [\"Student_42\"], \"x\": [0], \"y\": [25], \"type\": \"scatter\", \"uid\": \"4381ac18-e411-11e8-a1d0-d7b4c6107baf\"}, {\"marker\": {\"color\": \"rgb(255,0,0)\", \"colorscale\": \"Viridis\", \"line\": {\"width\": 2}, \"size\": 12, \"symbol\": 1}, \"mode\": \"markers\", \"name\": \"Student_43\", \"text\": [\"Student_43\"], \"x\": [2], \"y\": [25], \"type\": \"scatter\", \"uid\": \"4381ac9a-e411-11e8-a1d0-d7b4c6107baf\"}, {\"marker\": {\"color\": \"rgb(0,0,255)\", \"colorscale\": \"Viridis\", \"line\": {\"width\": 2}, \"size\": 12, \"symbol\": 3}, \"mode\": \"markers\", \"name\": \"Student_44\", \"text\": [\"Student_44\"], \"x\": [11], \"y\": [70], \"type\": \"scatter\", \"uid\": \"4381ad26-e411-11e8-a1d0-d7b4c6107baf\"}, {\"marker\": {\"color\": \"rgb(127,0,127)\", \"colorscale\": \"Viridis\", \"line\": {\"width\": 2}, \"size\": 12, \"symbol\": 2}, \"mode\": \"markers\", \"name\": \"Student_45\", \"text\": [\"Student_45\"], \"x\": [0], \"y\": [46], \"type\": \"scatter\", \"uid\": \"4381ada8-e411-11e8-a1d0-d7b4c6107baf\"}, {\"marker\": {\"color\": \"rgb(255,0,0)\", \"colorscale\": \"Viridis\", \"line\": {\"width\": 2}, \"size\": 12, \"symbol\": 1}, \"mode\": \"markers\", \"name\": \"Student_46\", \"text\": [\"Student_46\"], \"x\": [1], \"y\": [28], \"type\": \"scatter\", \"uid\": \"4381ae2a-e411-11e8-a1d0-d7b4c6107baf\"}, {\"marker\": {\"color\": \"rgb(0,0,255)\", \"colorscale\": \"Viridis\", \"line\": {\"width\": 2}, \"size\": 12, \"symbol\": 3}, \"mode\": \"markers\", \"name\": \"Student_47\", \"text\": [\"Student_47\"], \"x\": [1], \"y\": [68], \"type\": \"scatter\", \"uid\": \"4381aeac-e411-11e8-a1d0-d7b4c6107baf\"}, {\"marker\": {\"color\": \"rgb(127,0,127)\", \"colorscale\": \"Viridis\", \"line\": {\"width\": 2}, \"size\": 12, \"symbol\": 2}, \"mode\": \"markers\", \"name\": \"Student_48\", \"text\": [\"Student_48\"], \"x\": [0], \"y\": [40], \"type\": \"scatter\", \"uid\": \"4381af2e-e411-11e8-a1d0-d7b4c6107baf\"}, {\"marker\": {\"color\": \"rgb(0,0,255)\", \"colorscale\": \"Viridis\", \"line\": {\"width\": 2}, \"size\": 12, \"symbol\": 3}, \"mode\": \"markers\", \"name\": \"Student_49\", \"text\": [\"Student_49\"], \"x\": [9], \"y\": [79], \"type\": \"scatter\", \"uid\": \"4381afba-e411-11e8-a1d0-d7b4c6107baf\"}, {\"marker\": {\"color\": \"rgb(255,0,0)\", \"colorscale\": \"Viridis\", \"line\": {\"width\": 2}, \"size\": 12, \"symbol\": 1}, \"mode\": \"markers\", \"name\": \"Student_50\", \"text\": [\"Student_50\"], \"x\": [0], \"y\": [37], \"type\": \"scatter\", \"uid\": \"4381b03c-e411-11e8-a1d0-d7b4c6107baf\"}, {\"marker\": {\"color\": \"rgb(0,0,255)\", \"colorscale\": \"Viridis\", \"line\": {\"width\": 2}, \"size\": 12, \"symbol\": 3}, \"mode\": \"markers\", \"name\": \"Student_51\", \"text\": [\"Student_51\"], \"x\": [3], \"y\": [64], \"type\": \"scatter\", \"uid\": \"4381b0c8-e411-11e8-a1d0-d7b4c6107baf\"}, {\"marker\": {\"color\": \"rgb(255,0,0)\", \"colorscale\": \"Viridis\", \"line\": {\"width\": 2}, \"size\": 12, \"symbol\": 1}, \"mode\": \"markers\", \"name\": \"Student_52\", \"text\": [\"Student_52\"], \"x\": [2], \"y\": [7], \"type\": \"scatter\", \"uid\": \"4381b14a-e411-11e8-a1d0-d7b4c6107baf\"}, {\"marker\": {\"color\": \"rgb(0,0,255)\", \"colorscale\": \"Viridis\", \"line\": {\"width\": 2}, \"size\": 12, \"symbol\": 3}, \"mode\": \"markers\", \"name\": \"Student_53\", \"text\": [\"Student_53\"], \"x\": [11], \"y\": [64], \"type\": \"scatter\", \"uid\": \"4381b1d6-e411-11e8-a1d0-d7b4c6107baf\"}, {\"marker\": {\"color\": \"rgb(127,0,127)\", \"colorscale\": \"Viridis\", \"line\": {\"width\": 2}, \"size\": 12, \"symbol\": 2}, \"mode\": \"markers\", \"name\": \"Student_54\", \"text\": [\"Student_54\"], \"x\": [2], \"y\": [40], \"type\": \"scatter\", \"uid\": \"4381b258-e411-11e8-a1d0-d7b4c6107baf\"}, {\"marker\": {\"color\": \"rgb(127,0,127)\", \"colorscale\": \"Viridis\", \"line\": {\"width\": 2}, \"size\": 12, \"symbol\": 2}, \"mode\": \"markers\", \"name\": \"Student_55\", \"text\": [\"Student_55\"], \"x\": [2], \"y\": [54], \"type\": \"scatter\", \"uid\": \"4381b2e4-e411-11e8-a1d0-d7b4c6107baf\"}, {\"marker\": {\"color\": \"rgb(255,0,0)\", \"colorscale\": \"Viridis\", \"line\": {\"width\": 2}, \"size\": 12, \"symbol\": 1}, \"mode\": \"markers\", \"name\": \"Student_56\", \"text\": [\"Student_56\"], \"x\": [0], \"y\": [26], \"type\": \"scatter\", \"uid\": \"4381b366-e411-11e8-a1d0-d7b4c6107baf\"}, {\"marker\": {\"color\": \"rgb(0,255,0)\", \"colorscale\": \"Viridis\", \"line\": {\"width\": 2}, \"size\": 12, \"symbol\": 0}, \"mode\": \"markers\", \"name\": \"Student_57\", \"text\": [\"Student_57\"], \"x\": [14], \"y\": [86], \"type\": \"scatter\", \"uid\": \"4381b3e8-e411-11e8-a1d0-d7b4c6107baf\"}, {\"marker\": {\"color\": \"rgb(0,255,0)\", \"colorscale\": \"Viridis\", \"line\": {\"width\": 2}, \"size\": 12, \"symbol\": 0}, \"mode\": \"markers\", \"name\": \"Student_58\", \"text\": [\"Student_58\"], \"x\": [18], \"y\": [74], \"type\": \"scatter\", \"uid\": \"4381b46a-e411-11e8-a1d0-d7b4c6107baf\"}, {\"marker\": {\"color\": \"rgb(0,0,255)\", \"colorscale\": \"Viridis\", \"line\": {\"width\": 2}, \"size\": 12, \"symbol\": 3}, \"mode\": \"markers\", \"name\": \"Student_59\", \"text\": [\"Student_59\"], \"x\": [6], \"y\": [70], \"type\": \"scatter\", \"uid\": \"4381b4e2-e411-11e8-a1d0-d7b4c6107baf\"}, {\"marker\": {\"color\": \"rgb(0,0,255)\", \"colorscale\": \"Viridis\", \"line\": {\"width\": 2}, \"size\": 12, \"symbol\": 3}, \"mode\": \"markers\", \"name\": \"Student_60\", \"text\": [\"Student_60\"], \"x\": [6], \"y\": [78], \"type\": \"scatter\", \"uid\": \"4381b55a-e411-11e8-a1d0-d7b4c6107baf\"}], {\"hovermode\": \"closest\", \"showlegend\": true, \"title\": \"Notas dos estudantes vs postagens no f\\u00f3rum\", \"xaxis\": {\"autorange\": false, \"fixedrange\": false, \"range\": [0, 50], \"rangemode\": \"normal\", \"showline\": true, \"title\": \"Postagem no f\\u00f3rum\", \"zeroline\": false}, \"yaxis\": {\"autorange\": false, \"fixedrange\": false, \"range\": [0, 104], \"rangemode\": \"normal\", \"showline\": true, \"title\": \"Notas\"}}, {\"showLink\": true, \"linkText\": \"Export to plot.ly\"})});</script>"
      ]
     },
     "metadata": {},
     "output_type": "display_data"
    },
    {
     "data": {
      "application/vnd.plotly.v1+json": {
       "data": [
        {
         "marker": {
          "color": "rgb(255,0,0)",
          "colorscale": "Viridis",
          "line": {
           "width": 2
          },
          "size": 12,
          "symbol": 1
         },
         "mode": "markers",
         "name": "Student_1",
         "text": [
          "Student_1"
         ],
         "type": "scatter",
         "uid": "43bfe898-e411-11e8-a1d0-d7b4c6107baf",
         "x": [
          2
         ],
         "y": [
          5
         ]
        },
        {
         "marker": {
          "color": "rgb(0,255,0)",
          "colorscale": "Viridis",
          "line": {
           "width": 2
          },
          "size": 12,
          "symbol": 0
         },
         "mode": "markers",
         "name": "Student_2",
         "text": [
          "Student_2"
         ],
         "type": "scatter",
         "uid": "43bfea32-e411-11e8-a1d0-d7b4c6107baf",
         "x": [
          29
         ],
         "y": [
          92
         ]
        },
        {
         "marker": {
          "color": "rgb(0,255,0)",
          "colorscale": "Viridis",
          "line": {
           "width": 2
          },
          "size": 12,
          "symbol": 0
         },
         "mode": "markers",
         "name": "Student_3",
         "text": [
          "Student_3"
         ],
         "type": "scatter",
         "uid": "43bfeafa-e411-11e8-a1d0-d7b4c6107baf",
         "x": [
          10
         ],
         "y": [
          82
         ]
        },
        {
         "marker": {
          "color": "rgb(127,0,127)",
          "colorscale": "Viridis",
          "line": {
           "width": 2
          },
          "size": 12,
          "symbol": 2
         },
         "mode": "markers",
         "name": "Student_4",
         "text": [
          "Student_4"
         ],
         "type": "scatter",
         "uid": "43bfeba4-e411-11e8-a1d0-d7b4c6107baf",
         "x": [
          4
         ],
         "y": [
          58
         ]
        },
        {
         "marker": {
          "color": "rgb(0,255,0)",
          "colorscale": "Viridis",
          "line": {
           "width": 2
          },
          "size": 12,
          "symbol": 0
         },
         "mode": "markers",
         "name": "Student_5",
         "text": [
          "Student_5"
         ],
         "type": "scatter",
         "uid": "43bfec30-e411-11e8-a1d0-d7b4c6107baf",
         "x": [
          20
         ],
         "y": [
          77
         ]
        },
        {
         "marker": {
          "color": "rgb(0,255,0)",
          "colorscale": "Viridis",
          "line": {
           "width": 2
          },
          "size": 12,
          "symbol": 0
         },
         "mode": "markers",
         "name": "Student_6",
         "text": [
          "Student_6"
         ],
         "type": "scatter",
         "uid": "43bfece4-e411-11e8-a1d0-d7b4c6107baf",
         "x": [
          15
         ],
         "y": [
          87
         ]
        },
        {
         "marker": {
          "color": "rgb(0,255,0)",
          "colorscale": "Viridis",
          "line": {
           "width": 2
          },
          "size": 12,
          "symbol": 0
         },
         "mode": "markers",
         "name": "Student_7",
         "text": [
          "Student_7"
         ],
         "type": "scatter",
         "uid": "43bfedca-e411-11e8-a1d0-d7b4c6107baf",
         "x": [
          20
         ],
         "y": [
          74
         ]
        },
        {
         "marker": {
          "color": "rgb(255,0,0)",
          "colorscale": "Viridis",
          "line": {
           "width": 2
          },
          "size": 12,
          "symbol": 1
         },
         "mode": "markers",
         "name": "Student_8",
         "text": [
          "Student_8"
         ],
         "type": "scatter",
         "uid": "43bfeea6-e411-11e8-a1d0-d7b4c6107baf",
         "x": [
          0
         ],
         "y": [
          14
         ]
        },
        {
         "marker": {
          "color": "rgb(0,0,255)",
          "colorscale": "Viridis",
          "line": {
           "width": 2
          },
          "size": 12,
          "symbol": 3
         },
         "mode": "markers",
         "name": "Student_9",
         "text": [
          "Student_9"
         ],
         "type": "scatter",
         "uid": "43bfef8c-e411-11e8-a1d0-d7b4c6107baf",
         "x": [
          5
         ],
         "y": [
          59
         ]
        },
        {
         "marker": {
          "color": "rgb(127,0,127)",
          "colorscale": "Viridis",
          "line": {
           "width": 2
          },
          "size": 12,
          "symbol": 2
         },
         "mode": "markers",
         "name": "Student_10",
         "text": [
          "Student_10"
         ],
         "type": "scatter",
         "uid": "43bff07c-e411-11e8-a1d0-d7b4c6107baf",
         "x": [
          2
         ],
         "y": [
          39
         ]
        },
        {
         "marker": {
          "color": "rgb(0,255,0)",
          "colorscale": "Viridis",
          "line": {
           "width": 2
          },
          "size": 12,
          "symbol": 0
         },
         "mode": "markers",
         "name": "Student_11",
         "text": [
          "Student_11"
         ],
         "type": "scatter",
         "uid": "43bff11c-e411-11e8-a1d0-d7b4c6107baf",
         "x": [
          24
         ],
         "y": [
          94
         ]
        },
        {
         "marker": {
          "color": "rgb(127,0,127)",
          "colorscale": "Viridis",
          "line": {
           "width": 2
          },
          "size": 12,
          "symbol": 2
         },
         "mode": "markers",
         "name": "Student_12",
         "text": [
          "Student_12"
         ],
         "type": "scatter",
         "uid": "43bff1a8-e411-11e8-a1d0-d7b4c6107baf",
         "x": [
          1
         ],
         "y": [
          43
         ]
        },
        {
         "marker": {
          "color": "rgb(127,0,127)",
          "colorscale": "Viridis",
          "line": {
           "width": 2
          },
          "size": 12,
          "symbol": 2
         },
         "mode": "markers",
         "name": "Student_13",
         "text": [
          "Student_13"
         ],
         "type": "scatter",
         "uid": "43bff22a-e411-11e8-a1d0-d7b4c6107baf",
         "x": [
          1
         ],
         "y": [
          42
         ]
        },
        {
         "marker": {
          "color": "rgb(0,0,255)",
          "colorscale": "Viridis",
          "line": {
           "width": 2
          },
          "size": 12,
          "symbol": 3
         },
         "mode": "markers",
         "name": "Student_14",
         "text": [
          "Student_14"
         ],
         "type": "scatter",
         "uid": "43bff2b6-e411-11e8-a1d0-d7b4c6107baf",
         "x": [
          3
         ],
         "y": [
          67
         ]
        },
        {
         "marker": {
          "color": "rgb(127,0,127)",
          "colorscale": "Viridis",
          "line": {
           "width": 2
          },
          "size": 12,
          "symbol": 2
         },
         "mode": "markers",
         "name": "Student_15",
         "text": [
          "Student_15"
         ],
         "type": "scatter",
         "uid": "43bff342-e411-11e8-a1d0-d7b4c6107baf",
         "x": [
          2
         ],
         "y": [
          53
         ]
        },
        {
         "marker": {
          "color": "rgb(0,0,255)",
          "colorscale": "Viridis",
          "line": {
           "width": 2
          },
          "size": 12,
          "symbol": 3
         },
         "mode": "markers",
         "name": "Student_16",
         "text": [
          "Student_16"
         ],
         "type": "scatter",
         "uid": "43bff3ce-e411-11e8-a1d0-d7b4c6107baf",
         "x": [
          7
         ],
         "y": [
          63
         ]
        },
        {
         "marker": {
          "color": "rgb(0,0,255)",
          "colorscale": "Viridis",
          "line": {
           "width": 2
          },
          "size": 12,
          "symbol": 3
         },
         "mode": "markers",
         "name": "Student_17",
         "text": [
          "Student_17"
         ],
         "type": "scatter",
         "uid": "43bff450-e411-11e8-a1d0-d7b4c6107baf",
         "x": [
          3
         ],
         "y": [
          69
         ]
        },
        {
         "marker": {
          "color": "rgb(255,0,0)",
          "colorscale": "Viridis",
          "line": {
           "width": 2
          },
          "size": 12,
          "symbol": 1
         },
         "mode": "markers",
         "name": "Student_18",
         "text": [
          "Student_18"
         ],
         "type": "scatter",
         "uid": "43bff4e6-e411-11e8-a1d0-d7b4c6107baf",
         "x": [
          1
         ],
         "y": [
          31
         ]
        },
        {
         "marker": {
          "color": "rgb(0,255,0)",
          "colorscale": "Viridis",
          "line": {
           "width": 2
          },
          "size": 12,
          "symbol": 0
         },
         "mode": "markers",
         "name": "Student_19",
         "text": [
          "Student_19"
         ],
         "type": "scatter",
         "uid": "43bff568-e411-11e8-a1d0-d7b4c6107baf",
         "x": [
          16
         ],
         "y": [
          81
         ]
        },
        {
         "marker": {
          "color": "rgb(127,0,127)",
          "colorscale": "Viridis",
          "line": {
           "width": 2
          },
          "size": 12,
          "symbol": 2
         },
         "mode": "markers",
         "name": "Student_20",
         "text": [
          "Student_20"
         ],
         "type": "scatter",
         "uid": "43bff5f4-e411-11e8-a1d0-d7b4c6107baf",
         "x": [
          2
         ],
         "y": [
          46
         ]
        },
        {
         "marker": {
          "color": "rgb(255,0,0)",
          "colorscale": "Viridis",
          "line": {
           "width": 2
          },
          "size": 12,
          "symbol": 1
         },
         "mode": "markers",
         "name": "Student_21",
         "text": [
          "Student_21"
         ],
         "type": "scatter",
         "uid": "43bff680-e411-11e8-a1d0-d7b4c6107baf",
         "x": [
          1
         ],
         "y": [
          22
         ]
        },
        {
         "marker": {
          "color": "rgb(0,0,255)",
          "colorscale": "Viridis",
          "line": {
           "width": 2
          },
          "size": 12,
          "symbol": 3
         },
         "mode": "markers",
         "name": "Student_22",
         "text": [
          "Student_22"
         ],
         "type": "scatter",
         "uid": "43bff702-e411-11e8-a1d0-d7b4c6107baf",
         "x": [
          2
         ],
         "y": [
          56
         ]
        },
        {
         "marker": {
          "color": "rgb(0,0,255)",
          "colorscale": "Viridis",
          "line": {
           "width": 2
          },
          "size": 12,
          "symbol": 3
         },
         "mode": "markers",
         "name": "Student_23",
         "text": [
          "Student_23"
         ],
         "type": "scatter",
         "uid": "43bff7ac-e411-11e8-a1d0-d7b4c6107baf",
         "x": [
          7
         ],
         "y": [
          63
         ]
        },
        {
         "marker": {
          "color": "rgb(127,0,127)",
          "colorscale": "Viridis",
          "line": {
           "width": 2
          },
          "size": 12,
          "symbol": 2
         },
         "mode": "markers",
         "name": "Student_24",
         "text": [
          "Student_24"
         ],
         "type": "scatter",
         "uid": "43bff89c-e411-11e8-a1d0-d7b4c6107baf",
         "x": [
          0
         ],
         "y": [
          47
         ]
        },
        {
         "marker": {
          "color": "rgb(0,0,255)",
          "colorscale": "Viridis",
          "line": {
           "width": 2
          },
          "size": 12,
          "symbol": 3
         },
         "mode": "markers",
         "name": "Student_25",
         "text": [
          "Student_25"
         ],
         "type": "scatter",
         "uid": "43bff98c-e411-11e8-a1d0-d7b4c6107baf",
         "x": [
          12
         ],
         "y": [
          73
         ]
        },
        {
         "marker": {
          "color": "rgb(255,0,0)",
          "colorscale": "Viridis",
          "line": {
           "width": 2
          },
          "size": 12,
          "symbol": 1
         },
         "mode": "markers",
         "name": "Student_26",
         "text": [
          "Student_26"
         ],
         "type": "scatter",
         "uid": "43bffa40-e411-11e8-a1d0-d7b4c6107baf",
         "x": [
          2
         ],
         "y": [
          33
         ]
        },
        {
         "marker": {
          "color": "rgb(127,0,127)",
          "colorscale": "Viridis",
          "line": {
           "width": 2
          },
          "size": 12,
          "symbol": 2
         },
         "mode": "markers",
         "name": "Student_27",
         "text": [
          "Student_27"
         ],
         "type": "scatter",
         "uid": "43bffacc-e411-11e8-a1d0-d7b4c6107baf",
         "x": [
          3
         ],
         "y": [
          50
         ]
        },
        {
         "marker": {
          "color": "rgb(127,0,127)",
          "colorscale": "Viridis",
          "line": {
           "width": 2
          },
          "size": 12,
          "symbol": 2
         },
         "mode": "markers",
         "name": "Student_28",
         "text": [
          "Student_28"
         ],
         "type": "scatter",
         "uid": "43bffb4e-e411-11e8-a1d0-d7b4c6107baf",
         "x": [
          2
         ],
         "y": [
          46
         ]
        },
        {
         "marker": {
          "color": "rgb(0,0,255)",
          "colorscale": "Viridis",
          "line": {
           "width": 2
          },
          "size": 12,
          "symbol": 3
         },
         "mode": "markers",
         "name": "Student_29",
         "text": [
          "Student_29"
         ],
         "type": "scatter",
         "uid": "43bffbda-e411-11e8-a1d0-d7b4c6107baf",
         "x": [
          15
         ],
         "y": [
          76
         ]
        },
        {
         "marker": {
          "color": "rgb(0,0,255)",
          "colorscale": "Viridis",
          "line": {
           "width": 2
          },
          "size": 12,
          "symbol": 3
         },
         "mode": "markers",
         "name": "Student_30",
         "text": [
          "Student_30"
         ],
         "type": "scatter",
         "uid": "43bffc52-e411-11e8-a1d0-d7b4c6107baf",
         "x": [
          2
         ],
         "y": [
          67
         ]
        },
        {
         "marker": {
          "color": "rgb(127,0,127)",
          "colorscale": "Viridis",
          "line": {
           "width": 2
          },
          "size": 12,
          "symbol": 2
         },
         "mode": "markers",
         "name": "Student_31",
         "text": [
          "Student_31"
         ],
         "type": "scatter",
         "uid": "43bffcde-e411-11e8-a1d0-d7b4c6107baf",
         "x": [
          2
         ],
         "y": [
          48
         ]
        },
        {
         "marker": {
          "color": "rgb(255,0,0)",
          "colorscale": "Viridis",
          "line": {
           "width": 2
          },
          "size": 12,
          "symbol": 1
         },
         "mode": "markers",
         "name": "Student_32",
         "text": [
          "Student_32"
         ],
         "type": "scatter",
         "uid": "43bffd60-e411-11e8-a1d0-d7b4c6107baf",
         "x": [
          2
         ],
         "y": [
          22
         ]
        },
        {
         "marker": {
          "color": "rgb(0,255,0)",
          "colorscale": "Viridis",
          "line": {
           "width": 2
          },
          "size": 12,
          "symbol": 0
         },
         "mode": "markers",
         "name": "Student_33",
         "text": [
          "Student_33"
         ],
         "type": "scatter",
         "uid": "43bffde2-e411-11e8-a1d0-d7b4c6107baf",
         "x": [
          18
         ],
         "y": [
          85
         ]
        },
        {
         "marker": {
          "color": "rgb(127,0,127)",
          "colorscale": "Viridis",
          "line": {
           "width": 2
          },
          "size": 12,
          "symbol": 2
         },
         "mode": "markers",
         "name": "Student_34",
         "text": [
          "Student_34"
         ],
         "type": "scatter",
         "uid": "43bffe6e-e411-11e8-a1d0-d7b4c6107baf",
         "x": [
          4
         ],
         "y": [
          57
         ]
        },
        {
         "marker": {
          "color": "rgb(0,0,255)",
          "colorscale": "Viridis",
          "line": {
           "width": 2
          },
          "size": 12,
          "symbol": 3
         },
         "mode": "markers",
         "name": "Student_35",
         "text": [
          "Student_35"
         ],
         "type": "scatter",
         "uid": "43bffef0-e411-11e8-a1d0-d7b4c6107baf",
         "x": [
          1
         ],
         "y": [
          65
         ]
        },
        {
         "marker": {
          "color": "rgb(0,0,255)",
          "colorscale": "Viridis",
          "line": {
           "width": 2
          },
          "size": 12,
          "symbol": 3
         },
         "mode": "markers",
         "name": "Student_36",
         "text": [
          "Student_36"
         ],
         "type": "scatter",
         "uid": "43bfff72-e411-11e8-a1d0-d7b4c6107baf",
         "x": [
          9
         ],
         "y": [
          63
         ]
        },
        {
         "marker": {
          "color": "rgb(255,0,0)",
          "colorscale": "Viridis",
          "line": {
           "width": 2
          },
          "size": 12,
          "symbol": 1
         },
         "mode": "markers",
         "name": "Student_37",
         "text": [
          "Student_37"
         ],
         "type": "scatter",
         "uid": "43bffff4-e411-11e8-a1d0-d7b4c6107baf",
         "x": [
          0
         ],
         "y": [
          36
         ]
        },
        {
         "marker": {
          "color": "rgb(127,0,127)",
          "colorscale": "Viridis",
          "line": {
           "width": 2
          },
          "size": 12,
          "symbol": 2
         },
         "mode": "markers",
         "name": "Student_38",
         "text": [
          "Student_38"
         ],
         "type": "scatter",
         "uid": "43c00080-e411-11e8-a1d0-d7b4c6107baf",
         "x": [
          6
         ],
         "y": [
          51
         ]
        },
        {
         "marker": {
          "color": "rgb(0,255,0)",
          "colorscale": "Viridis",
          "line": {
           "width": 2
          },
          "size": 12,
          "symbol": 0
         },
         "mode": "markers",
         "name": "Student_39",
         "text": [
          "Student_39"
         ],
         "type": "scatter",
         "uid": "43c000f8-e411-11e8-a1d0-d7b4c6107baf",
         "x": [
          15
         ],
         "y": [
          88
         ]
        },
        {
         "marker": {
          "color": "rgb(255,0,0)",
          "colorscale": "Viridis",
          "line": {
           "width": 2
          },
          "size": 12,
          "symbol": 1
         },
         "mode": "markers",
         "name": "Student_40",
         "text": [
          "Student_40"
         ],
         "type": "scatter",
         "uid": "43c00184-e411-11e8-a1d0-d7b4c6107baf",
         "x": [
          1
         ],
         "y": [
          18
         ]
        },
        {
         "marker": {
          "color": "rgb(0,255,0)",
          "colorscale": "Viridis",
          "line": {
           "width": 2
          },
          "size": 12,
          "symbol": 0
         },
         "mode": "markers",
         "name": "Student_41",
         "text": [
          "Student_41"
         ],
         "type": "scatter",
         "uid": "43c00206-e411-11e8-a1d0-d7b4c6107baf",
         "x": [
          23
         ],
         "y": [
          94
         ]
        },
        {
         "marker": {
          "color": "rgb(255,0,0)",
          "colorscale": "Viridis",
          "line": {
           "width": 2
          },
          "size": 12,
          "symbol": 1
         },
         "mode": "markers",
         "name": "Student_42",
         "text": [
          "Student_42"
         ],
         "type": "scatter",
         "uid": "43c00288-e411-11e8-a1d0-d7b4c6107baf",
         "x": [
          1
         ],
         "y": [
          25
         ]
        },
        {
         "marker": {
          "color": "rgb(255,0,0)",
          "colorscale": "Viridis",
          "line": {
           "width": 2
          },
          "size": 12,
          "symbol": 1
         },
         "mode": "markers",
         "name": "Student_43",
         "text": [
          "Student_43"
         ],
         "type": "scatter",
         "uid": "43c00314-e411-11e8-a1d0-d7b4c6107baf",
         "x": [
          2
         ],
         "y": [
          25
         ]
        },
        {
         "marker": {
          "color": "rgb(0,0,255)",
          "colorscale": "Viridis",
          "line": {
           "width": 2
          },
          "size": 12,
          "symbol": 3
         },
         "mode": "markers",
         "name": "Student_44",
         "text": [
          "Student_44"
         ],
         "type": "scatter",
         "uid": "43c003a0-e411-11e8-a1d0-d7b4c6107baf",
         "x": [
          0
         ],
         "y": [
          70
         ]
        },
        {
         "marker": {
          "color": "rgb(127,0,127)",
          "colorscale": "Viridis",
          "line": {
           "width": 2
          },
          "size": 12,
          "symbol": 2
         },
         "mode": "markers",
         "name": "Student_45",
         "text": [
          "Student_45"
         ],
         "type": "scatter",
         "uid": "43c0042c-e411-11e8-a1d0-d7b4c6107baf",
         "x": [
          1
         ],
         "y": [
          46
         ]
        },
        {
         "marker": {
          "color": "rgb(255,0,0)",
          "colorscale": "Viridis",
          "line": {
           "width": 2
          },
          "size": 12,
          "symbol": 1
         },
         "mode": "markers",
         "name": "Student_46",
         "text": [
          "Student_46"
         ],
         "type": "scatter",
         "uid": "43c004ae-e411-11e8-a1d0-d7b4c6107baf",
         "x": [
          1
         ],
         "y": [
          28
         ]
        },
        {
         "marker": {
          "color": "rgb(0,0,255)",
          "colorscale": "Viridis",
          "line": {
           "width": 2
          },
          "size": 12,
          "symbol": 3
         },
         "mode": "markers",
         "name": "Student_47",
         "text": [
          "Student_47"
         ],
         "type": "scatter",
         "uid": "43c0053a-e411-11e8-a1d0-d7b4c6107baf",
         "x": [
          7
         ],
         "y": [
          68
         ]
        },
        {
         "marker": {
          "color": "rgb(127,0,127)",
          "colorscale": "Viridis",
          "line": {
           "width": 2
          },
          "size": 12,
          "symbol": 2
         },
         "mode": "markers",
         "name": "Student_48",
         "text": [
          "Student_48"
         ],
         "type": "scatter",
         "uid": "43c005c6-e411-11e8-a1d0-d7b4c6107baf",
         "x": [
          0
         ],
         "y": [
          40
         ]
        },
        {
         "marker": {
          "color": "rgb(0,0,255)",
          "colorscale": "Viridis",
          "line": {
           "width": 2
          },
          "size": 12,
          "symbol": 3
         },
         "mode": "markers",
         "name": "Student_49",
         "text": [
          "Student_49"
         ],
         "type": "scatter",
         "uid": "43c00652-e411-11e8-a1d0-d7b4c6107baf",
         "x": [
          8
         ],
         "y": [
          79
         ]
        },
        {
         "marker": {
          "color": "rgb(255,0,0)",
          "colorscale": "Viridis",
          "line": {
           "width": 2
          },
          "size": 12,
          "symbol": 1
         },
         "mode": "markers",
         "name": "Student_50",
         "text": [
          "Student_50"
         ],
         "type": "scatter",
         "uid": "43c006de-e411-11e8-a1d0-d7b4c6107baf",
         "x": [
          2
         ],
         "y": [
          37
         ]
        },
        {
         "marker": {
          "color": "rgb(0,0,255)",
          "colorscale": "Viridis",
          "line": {
           "width": 2
          },
          "size": 12,
          "symbol": 3
         },
         "mode": "markers",
         "name": "Student_51",
         "text": [
          "Student_51"
         ],
         "type": "scatter",
         "uid": "43c00760-e411-11e8-a1d0-d7b4c6107baf",
         "x": [
          7
         ],
         "y": [
          64
         ]
        },
        {
         "marker": {
          "color": "rgb(255,0,0)",
          "colorscale": "Viridis",
          "line": {
           "width": 2
          },
          "size": 12,
          "symbol": 1
         },
         "mode": "markers",
         "name": "Student_52",
         "text": [
          "Student_52"
         ],
         "type": "scatter",
         "uid": "43c007ec-e411-11e8-a1d0-d7b4c6107baf",
         "x": [
          0
         ],
         "y": [
          7
         ]
        },
        {
         "marker": {
          "color": "rgb(0,0,255)",
          "colorscale": "Viridis",
          "line": {
           "width": 2
          },
          "size": 12,
          "symbol": 3
         },
         "mode": "markers",
         "name": "Student_53",
         "text": [
          "Student_53"
         ],
         "type": "scatter",
         "uid": "43c0086e-e411-11e8-a1d0-d7b4c6107baf",
         "x": [
          8
         ],
         "y": [
          64
         ]
        },
        {
         "marker": {
          "color": "rgb(127,0,127)",
          "colorscale": "Viridis",
          "line": {
           "width": 2
          },
          "size": 12,
          "symbol": 2
         },
         "mode": "markers",
         "name": "Student_54",
         "text": [
          "Student_54"
         ],
         "type": "scatter",
         "uid": "43c008fa-e411-11e8-a1d0-d7b4c6107baf",
         "x": [
          2
         ],
         "y": [
          40
         ]
        },
        {
         "marker": {
          "color": "rgb(127,0,127)",
          "colorscale": "Viridis",
          "line": {
           "width": 2
          },
          "size": 12,
          "symbol": 2
         },
         "mode": "markers",
         "name": "Student_55",
         "text": [
          "Student_55"
         ],
         "type": "scatter",
         "uid": "43c0097c-e411-11e8-a1d0-d7b4c6107baf",
         "x": [
          7
         ],
         "y": [
          54
         ]
        },
        {
         "marker": {
          "color": "rgb(255,0,0)",
          "colorscale": "Viridis",
          "line": {
           "width": 2
          },
          "size": 12,
          "symbol": 1
         },
         "mode": "markers",
         "name": "Student_56",
         "text": [
          "Student_56"
         ],
         "type": "scatter",
         "uid": "43c009fe-e411-11e8-a1d0-d7b4c6107baf",
         "x": [
          0
         ],
         "y": [
          26
         ]
        },
        {
         "marker": {
          "color": "rgb(0,255,0)",
          "colorscale": "Viridis",
          "line": {
           "width": 2
          },
          "size": 12,
          "symbol": 0
         },
         "mode": "markers",
         "name": "Student_57",
         "text": [
          "Student_57"
         ],
         "type": "scatter",
         "uid": "43c00a80-e411-11e8-a1d0-d7b4c6107baf",
         "x": [
          9
         ],
         "y": [
          86
         ]
        },
        {
         "marker": {
          "color": "rgb(0,255,0)",
          "colorscale": "Viridis",
          "line": {
           "width": 2
          },
          "size": 12,
          "symbol": 0
         },
         "mode": "markers",
         "name": "Student_58",
         "text": [
          "Student_58"
         ],
         "type": "scatter",
         "uid": "43c00b02-e411-11e8-a1d0-d7b4c6107baf",
         "x": [
          20
         ],
         "y": [
          74
         ]
        },
        {
         "marker": {
          "color": "rgb(0,0,255)",
          "colorscale": "Viridis",
          "line": {
           "width": 2
          },
          "size": 12,
          "symbol": 3
         },
         "mode": "markers",
         "name": "Student_59",
         "text": [
          "Student_59"
         ],
         "type": "scatter",
         "uid": "43c00b84-e411-11e8-a1d0-d7b4c6107baf",
         "x": [
          3
         ],
         "y": [
          70
         ]
        },
        {
         "marker": {
          "color": "rgb(0,0,255)",
          "colorscale": "Viridis",
          "line": {
           "width": 2
          },
          "size": 12,
          "symbol": 3
         },
         "mode": "markers",
         "name": "Student_60",
         "text": [
          "Student_60"
         ],
         "type": "scatter",
         "uid": "43c00bfc-e411-11e8-a1d0-d7b4c6107baf",
         "x": [
          14
         ],
         "y": [
          78
         ]
        }
       ],
       "layout": {
        "hovermode": "closest",
        "showlegend": true,
        "title": "Notas dos estudantes vs postagens respondidas no fórum",
        "xaxis": {
         "autorange": false,
         "fixedrange": false,
         "range": [
          0,
          39
         ],
         "rangemode": "normal",
         "showline": true,
         "title": "Postagens respondidas no fórum",
         "zeroline": false
        },
        "yaxis": {
         "autorange": false,
         "fixedrange": false,
         "range": [
          0,
          104
         ],
         "rangemode": "normal",
         "showline": true,
         "title": "Notas"
        }
       }
      },
      "text/html": [
       "<div id=\"fc5b2982-943a-4878-9e58-e6026326a76b\" style=\"height: 525px; width: 100%;\" class=\"plotly-graph-div\"></div><script type=\"text/javascript\">require([\"plotly\"], function(Plotly) { window.PLOTLYENV=window.PLOTLYENV || {};window.PLOTLYENV.BASE_URL=\"https://plot.ly\";Plotly.newPlot(\"fc5b2982-943a-4878-9e58-e6026326a76b\", [{\"marker\": {\"color\": \"rgb(255,0,0)\", \"colorscale\": \"Viridis\", \"line\": {\"width\": 2}, \"size\": 12, \"symbol\": 1}, \"mode\": \"markers\", \"name\": \"Student_1\", \"text\": [\"Student_1\"], \"x\": [2], \"y\": [5], \"type\": \"scatter\", \"uid\": \"43bfe898-e411-11e8-a1d0-d7b4c6107baf\"}, {\"marker\": {\"color\": \"rgb(0,255,0)\", \"colorscale\": \"Viridis\", \"line\": {\"width\": 2}, \"size\": 12, \"symbol\": 0}, \"mode\": \"markers\", \"name\": \"Student_2\", \"text\": [\"Student_2\"], \"x\": [29], \"y\": [92], \"type\": \"scatter\", \"uid\": \"43bfea32-e411-11e8-a1d0-d7b4c6107baf\"}, {\"marker\": {\"color\": \"rgb(0,255,0)\", \"colorscale\": \"Viridis\", \"line\": {\"width\": 2}, \"size\": 12, \"symbol\": 0}, \"mode\": \"markers\", \"name\": \"Student_3\", \"text\": [\"Student_3\"], \"x\": [10], \"y\": [82], \"type\": \"scatter\", \"uid\": \"43bfeafa-e411-11e8-a1d0-d7b4c6107baf\"}, {\"marker\": {\"color\": \"rgb(127,0,127)\", \"colorscale\": \"Viridis\", \"line\": {\"width\": 2}, \"size\": 12, \"symbol\": 2}, \"mode\": \"markers\", \"name\": \"Student_4\", \"text\": [\"Student_4\"], \"x\": [4], \"y\": [58], \"type\": \"scatter\", \"uid\": \"43bfeba4-e411-11e8-a1d0-d7b4c6107baf\"}, {\"marker\": {\"color\": \"rgb(0,255,0)\", \"colorscale\": \"Viridis\", \"line\": {\"width\": 2}, \"size\": 12, \"symbol\": 0}, \"mode\": \"markers\", \"name\": \"Student_5\", \"text\": [\"Student_5\"], \"x\": [20], \"y\": [77], \"type\": \"scatter\", \"uid\": \"43bfec30-e411-11e8-a1d0-d7b4c6107baf\"}, {\"marker\": {\"color\": \"rgb(0,255,0)\", \"colorscale\": \"Viridis\", \"line\": {\"width\": 2}, \"size\": 12, \"symbol\": 0}, \"mode\": \"markers\", \"name\": \"Student_6\", \"text\": [\"Student_6\"], \"x\": [15], \"y\": [87], \"type\": \"scatter\", \"uid\": \"43bfece4-e411-11e8-a1d0-d7b4c6107baf\"}, {\"marker\": {\"color\": \"rgb(0,255,0)\", \"colorscale\": \"Viridis\", \"line\": {\"width\": 2}, \"size\": 12, \"symbol\": 0}, \"mode\": \"markers\", \"name\": \"Student_7\", \"text\": [\"Student_7\"], \"x\": [20], \"y\": [74], \"type\": \"scatter\", \"uid\": \"43bfedca-e411-11e8-a1d0-d7b4c6107baf\"}, {\"marker\": {\"color\": \"rgb(255,0,0)\", \"colorscale\": \"Viridis\", \"line\": {\"width\": 2}, \"size\": 12, \"symbol\": 1}, \"mode\": \"markers\", \"name\": \"Student_8\", \"text\": [\"Student_8\"], \"x\": [0], \"y\": [14], \"type\": \"scatter\", \"uid\": \"43bfeea6-e411-11e8-a1d0-d7b4c6107baf\"}, {\"marker\": {\"color\": \"rgb(0,0,255)\", \"colorscale\": \"Viridis\", \"line\": {\"width\": 2}, \"size\": 12, \"symbol\": 3}, \"mode\": \"markers\", \"name\": \"Student_9\", \"text\": [\"Student_9\"], \"x\": [5], \"y\": [59], \"type\": \"scatter\", \"uid\": \"43bfef8c-e411-11e8-a1d0-d7b4c6107baf\"}, {\"marker\": {\"color\": \"rgb(127,0,127)\", \"colorscale\": \"Viridis\", \"line\": {\"width\": 2}, \"size\": 12, \"symbol\": 2}, \"mode\": \"markers\", \"name\": \"Student_10\", \"text\": [\"Student_10\"], \"x\": [2], \"y\": [39], \"type\": \"scatter\", \"uid\": \"43bff07c-e411-11e8-a1d0-d7b4c6107baf\"}, {\"marker\": {\"color\": \"rgb(0,255,0)\", \"colorscale\": \"Viridis\", \"line\": {\"width\": 2}, \"size\": 12, \"symbol\": 0}, \"mode\": \"markers\", \"name\": \"Student_11\", \"text\": [\"Student_11\"], \"x\": [24], \"y\": [94], \"type\": \"scatter\", \"uid\": \"43bff11c-e411-11e8-a1d0-d7b4c6107baf\"}, {\"marker\": {\"color\": \"rgb(127,0,127)\", \"colorscale\": \"Viridis\", \"line\": {\"width\": 2}, \"size\": 12, \"symbol\": 2}, \"mode\": \"markers\", \"name\": \"Student_12\", \"text\": [\"Student_12\"], \"x\": [1], \"y\": [43], \"type\": \"scatter\", \"uid\": \"43bff1a8-e411-11e8-a1d0-d7b4c6107baf\"}, {\"marker\": {\"color\": \"rgb(127,0,127)\", \"colorscale\": \"Viridis\", \"line\": {\"width\": 2}, \"size\": 12, \"symbol\": 2}, \"mode\": \"markers\", \"name\": \"Student_13\", \"text\": [\"Student_13\"], \"x\": [1], \"y\": [42], \"type\": \"scatter\", \"uid\": \"43bff22a-e411-11e8-a1d0-d7b4c6107baf\"}, {\"marker\": {\"color\": \"rgb(0,0,255)\", \"colorscale\": \"Viridis\", \"line\": {\"width\": 2}, \"size\": 12, \"symbol\": 3}, \"mode\": \"markers\", \"name\": \"Student_14\", \"text\": [\"Student_14\"], \"x\": [3], \"y\": [67], \"type\": \"scatter\", \"uid\": \"43bff2b6-e411-11e8-a1d0-d7b4c6107baf\"}, {\"marker\": {\"color\": \"rgb(127,0,127)\", \"colorscale\": \"Viridis\", \"line\": {\"width\": 2}, \"size\": 12, \"symbol\": 2}, \"mode\": \"markers\", \"name\": \"Student_15\", \"text\": [\"Student_15\"], \"x\": [2], \"y\": [53], \"type\": \"scatter\", \"uid\": \"43bff342-e411-11e8-a1d0-d7b4c6107baf\"}, {\"marker\": {\"color\": \"rgb(0,0,255)\", \"colorscale\": \"Viridis\", \"line\": {\"width\": 2}, \"size\": 12, \"symbol\": 3}, \"mode\": \"markers\", \"name\": \"Student_16\", \"text\": [\"Student_16\"], \"x\": [7], \"y\": [63], \"type\": \"scatter\", \"uid\": \"43bff3ce-e411-11e8-a1d0-d7b4c6107baf\"}, {\"marker\": {\"color\": \"rgb(0,0,255)\", \"colorscale\": \"Viridis\", \"line\": {\"width\": 2}, \"size\": 12, \"symbol\": 3}, \"mode\": \"markers\", \"name\": \"Student_17\", \"text\": [\"Student_17\"], \"x\": [3], \"y\": [69], \"type\": \"scatter\", \"uid\": \"43bff450-e411-11e8-a1d0-d7b4c6107baf\"}, {\"marker\": {\"color\": \"rgb(255,0,0)\", \"colorscale\": \"Viridis\", \"line\": {\"width\": 2}, \"size\": 12, \"symbol\": 1}, \"mode\": \"markers\", \"name\": \"Student_18\", \"text\": [\"Student_18\"], \"x\": [1], \"y\": [31], \"type\": \"scatter\", \"uid\": \"43bff4e6-e411-11e8-a1d0-d7b4c6107baf\"}, {\"marker\": {\"color\": \"rgb(0,255,0)\", \"colorscale\": \"Viridis\", \"line\": {\"width\": 2}, \"size\": 12, \"symbol\": 0}, \"mode\": \"markers\", \"name\": \"Student_19\", \"text\": [\"Student_19\"], \"x\": [16], \"y\": [81], \"type\": \"scatter\", \"uid\": \"43bff568-e411-11e8-a1d0-d7b4c6107baf\"}, {\"marker\": {\"color\": \"rgb(127,0,127)\", \"colorscale\": \"Viridis\", \"line\": {\"width\": 2}, \"size\": 12, \"symbol\": 2}, \"mode\": \"markers\", \"name\": \"Student_20\", \"text\": [\"Student_20\"], \"x\": [2], \"y\": [46], \"type\": \"scatter\", \"uid\": \"43bff5f4-e411-11e8-a1d0-d7b4c6107baf\"}, {\"marker\": {\"color\": \"rgb(255,0,0)\", \"colorscale\": \"Viridis\", \"line\": {\"width\": 2}, \"size\": 12, \"symbol\": 1}, \"mode\": \"markers\", \"name\": \"Student_21\", \"text\": [\"Student_21\"], \"x\": [1], \"y\": [22], \"type\": \"scatter\", \"uid\": \"43bff680-e411-11e8-a1d0-d7b4c6107baf\"}, {\"marker\": {\"color\": \"rgb(0,0,255)\", \"colorscale\": \"Viridis\", \"line\": {\"width\": 2}, \"size\": 12, \"symbol\": 3}, \"mode\": \"markers\", \"name\": \"Student_22\", \"text\": [\"Student_22\"], \"x\": [2], \"y\": [56], \"type\": \"scatter\", \"uid\": \"43bff702-e411-11e8-a1d0-d7b4c6107baf\"}, {\"marker\": {\"color\": \"rgb(0,0,255)\", \"colorscale\": \"Viridis\", \"line\": {\"width\": 2}, \"size\": 12, \"symbol\": 3}, \"mode\": \"markers\", \"name\": \"Student_23\", \"text\": [\"Student_23\"], \"x\": [7], \"y\": [63], \"type\": \"scatter\", \"uid\": \"43bff7ac-e411-11e8-a1d0-d7b4c6107baf\"}, {\"marker\": {\"color\": \"rgb(127,0,127)\", \"colorscale\": \"Viridis\", \"line\": {\"width\": 2}, \"size\": 12, \"symbol\": 2}, \"mode\": \"markers\", \"name\": \"Student_24\", \"text\": [\"Student_24\"], \"x\": [0], \"y\": [47], \"type\": \"scatter\", \"uid\": \"43bff89c-e411-11e8-a1d0-d7b4c6107baf\"}, {\"marker\": {\"color\": \"rgb(0,0,255)\", \"colorscale\": \"Viridis\", \"line\": {\"width\": 2}, \"size\": 12, \"symbol\": 3}, \"mode\": \"markers\", \"name\": \"Student_25\", \"text\": [\"Student_25\"], \"x\": [12], \"y\": [73], \"type\": \"scatter\", \"uid\": \"43bff98c-e411-11e8-a1d0-d7b4c6107baf\"}, {\"marker\": {\"color\": \"rgb(255,0,0)\", \"colorscale\": \"Viridis\", \"line\": {\"width\": 2}, \"size\": 12, \"symbol\": 1}, \"mode\": \"markers\", \"name\": \"Student_26\", \"text\": [\"Student_26\"], \"x\": [2], \"y\": [33], \"type\": \"scatter\", \"uid\": \"43bffa40-e411-11e8-a1d0-d7b4c6107baf\"}, {\"marker\": {\"color\": \"rgb(127,0,127)\", \"colorscale\": \"Viridis\", \"line\": {\"width\": 2}, \"size\": 12, \"symbol\": 2}, \"mode\": \"markers\", \"name\": \"Student_27\", \"text\": [\"Student_27\"], \"x\": [3], \"y\": [50], \"type\": \"scatter\", \"uid\": \"43bffacc-e411-11e8-a1d0-d7b4c6107baf\"}, {\"marker\": {\"color\": \"rgb(127,0,127)\", \"colorscale\": \"Viridis\", \"line\": {\"width\": 2}, \"size\": 12, \"symbol\": 2}, \"mode\": \"markers\", \"name\": \"Student_28\", \"text\": [\"Student_28\"], \"x\": [2], \"y\": [46], \"type\": \"scatter\", \"uid\": \"43bffb4e-e411-11e8-a1d0-d7b4c6107baf\"}, {\"marker\": {\"color\": \"rgb(0,0,255)\", \"colorscale\": \"Viridis\", \"line\": {\"width\": 2}, \"size\": 12, \"symbol\": 3}, \"mode\": \"markers\", \"name\": \"Student_29\", \"text\": [\"Student_29\"], \"x\": [15], \"y\": [76], \"type\": \"scatter\", \"uid\": \"43bffbda-e411-11e8-a1d0-d7b4c6107baf\"}, {\"marker\": {\"color\": \"rgb(0,0,255)\", \"colorscale\": \"Viridis\", \"line\": {\"width\": 2}, \"size\": 12, \"symbol\": 3}, \"mode\": \"markers\", \"name\": \"Student_30\", \"text\": [\"Student_30\"], \"x\": [2], \"y\": [67], \"type\": \"scatter\", \"uid\": \"43bffc52-e411-11e8-a1d0-d7b4c6107baf\"}, {\"marker\": {\"color\": \"rgb(127,0,127)\", \"colorscale\": \"Viridis\", \"line\": {\"width\": 2}, \"size\": 12, \"symbol\": 2}, \"mode\": \"markers\", \"name\": \"Student_31\", \"text\": [\"Student_31\"], \"x\": [2], \"y\": [48], \"type\": \"scatter\", \"uid\": \"43bffcde-e411-11e8-a1d0-d7b4c6107baf\"}, {\"marker\": {\"color\": \"rgb(255,0,0)\", \"colorscale\": \"Viridis\", \"line\": {\"width\": 2}, \"size\": 12, \"symbol\": 1}, \"mode\": \"markers\", \"name\": \"Student_32\", \"text\": [\"Student_32\"], \"x\": [2], \"y\": [22], \"type\": \"scatter\", \"uid\": \"43bffd60-e411-11e8-a1d0-d7b4c6107baf\"}, {\"marker\": {\"color\": \"rgb(0,255,0)\", \"colorscale\": \"Viridis\", \"line\": {\"width\": 2}, \"size\": 12, \"symbol\": 0}, \"mode\": \"markers\", \"name\": \"Student_33\", \"text\": [\"Student_33\"], \"x\": [18], \"y\": [85], \"type\": \"scatter\", \"uid\": \"43bffde2-e411-11e8-a1d0-d7b4c6107baf\"}, {\"marker\": {\"color\": \"rgb(127,0,127)\", \"colorscale\": \"Viridis\", \"line\": {\"width\": 2}, \"size\": 12, \"symbol\": 2}, \"mode\": \"markers\", \"name\": \"Student_34\", \"text\": [\"Student_34\"], \"x\": [4], \"y\": [57], \"type\": \"scatter\", \"uid\": \"43bffe6e-e411-11e8-a1d0-d7b4c6107baf\"}, {\"marker\": {\"color\": \"rgb(0,0,255)\", \"colorscale\": \"Viridis\", \"line\": {\"width\": 2}, \"size\": 12, \"symbol\": 3}, \"mode\": \"markers\", \"name\": \"Student_35\", \"text\": [\"Student_35\"], \"x\": [1], \"y\": [65], \"type\": \"scatter\", \"uid\": \"43bffef0-e411-11e8-a1d0-d7b4c6107baf\"}, {\"marker\": {\"color\": \"rgb(0,0,255)\", \"colorscale\": \"Viridis\", \"line\": {\"width\": 2}, \"size\": 12, \"symbol\": 3}, \"mode\": \"markers\", \"name\": \"Student_36\", \"text\": [\"Student_36\"], \"x\": [9], \"y\": [63], \"type\": \"scatter\", \"uid\": \"43bfff72-e411-11e8-a1d0-d7b4c6107baf\"}, {\"marker\": {\"color\": \"rgb(255,0,0)\", \"colorscale\": \"Viridis\", \"line\": {\"width\": 2}, \"size\": 12, \"symbol\": 1}, \"mode\": \"markers\", \"name\": \"Student_37\", \"text\": [\"Student_37\"], \"x\": [0], \"y\": [36], \"type\": \"scatter\", \"uid\": \"43bffff4-e411-11e8-a1d0-d7b4c6107baf\"}, {\"marker\": {\"color\": \"rgb(127,0,127)\", \"colorscale\": \"Viridis\", \"line\": {\"width\": 2}, \"size\": 12, \"symbol\": 2}, \"mode\": \"markers\", \"name\": \"Student_38\", \"text\": [\"Student_38\"], \"x\": [6], \"y\": [51], \"type\": \"scatter\", \"uid\": \"43c00080-e411-11e8-a1d0-d7b4c6107baf\"}, {\"marker\": {\"color\": \"rgb(0,255,0)\", \"colorscale\": \"Viridis\", \"line\": {\"width\": 2}, \"size\": 12, \"symbol\": 0}, \"mode\": \"markers\", \"name\": \"Student_39\", \"text\": [\"Student_39\"], \"x\": [15], \"y\": [88], \"type\": \"scatter\", \"uid\": \"43c000f8-e411-11e8-a1d0-d7b4c6107baf\"}, {\"marker\": {\"color\": \"rgb(255,0,0)\", \"colorscale\": \"Viridis\", \"line\": {\"width\": 2}, \"size\": 12, \"symbol\": 1}, \"mode\": \"markers\", \"name\": \"Student_40\", \"text\": [\"Student_40\"], \"x\": [1], \"y\": [18], \"type\": \"scatter\", \"uid\": \"43c00184-e411-11e8-a1d0-d7b4c6107baf\"}, {\"marker\": {\"color\": \"rgb(0,255,0)\", \"colorscale\": \"Viridis\", \"line\": {\"width\": 2}, \"size\": 12, \"symbol\": 0}, \"mode\": \"markers\", \"name\": \"Student_41\", \"text\": [\"Student_41\"], \"x\": [23], \"y\": [94], \"type\": \"scatter\", \"uid\": \"43c00206-e411-11e8-a1d0-d7b4c6107baf\"}, {\"marker\": {\"color\": \"rgb(255,0,0)\", \"colorscale\": \"Viridis\", \"line\": {\"width\": 2}, \"size\": 12, \"symbol\": 1}, \"mode\": \"markers\", \"name\": \"Student_42\", \"text\": [\"Student_42\"], \"x\": [1], \"y\": [25], \"type\": \"scatter\", \"uid\": \"43c00288-e411-11e8-a1d0-d7b4c6107baf\"}, {\"marker\": {\"color\": \"rgb(255,0,0)\", \"colorscale\": \"Viridis\", \"line\": {\"width\": 2}, \"size\": 12, \"symbol\": 1}, \"mode\": \"markers\", \"name\": \"Student_43\", \"text\": [\"Student_43\"], \"x\": [2], \"y\": [25], \"type\": \"scatter\", \"uid\": \"43c00314-e411-11e8-a1d0-d7b4c6107baf\"}, {\"marker\": {\"color\": \"rgb(0,0,255)\", \"colorscale\": \"Viridis\", \"line\": {\"width\": 2}, \"size\": 12, \"symbol\": 3}, \"mode\": \"markers\", \"name\": \"Student_44\", \"text\": [\"Student_44\"], \"x\": [0], \"y\": [70], \"type\": \"scatter\", \"uid\": \"43c003a0-e411-11e8-a1d0-d7b4c6107baf\"}, {\"marker\": {\"color\": \"rgb(127,0,127)\", \"colorscale\": \"Viridis\", \"line\": {\"width\": 2}, \"size\": 12, \"symbol\": 2}, \"mode\": \"markers\", \"name\": \"Student_45\", \"text\": [\"Student_45\"], \"x\": [1], \"y\": [46], \"type\": \"scatter\", \"uid\": \"43c0042c-e411-11e8-a1d0-d7b4c6107baf\"}, {\"marker\": {\"color\": \"rgb(255,0,0)\", \"colorscale\": \"Viridis\", \"line\": {\"width\": 2}, \"size\": 12, \"symbol\": 1}, \"mode\": \"markers\", \"name\": \"Student_46\", \"text\": [\"Student_46\"], \"x\": [1], \"y\": [28], \"type\": \"scatter\", \"uid\": \"43c004ae-e411-11e8-a1d0-d7b4c6107baf\"}, {\"marker\": {\"color\": \"rgb(0,0,255)\", \"colorscale\": \"Viridis\", \"line\": {\"width\": 2}, \"size\": 12, \"symbol\": 3}, \"mode\": \"markers\", \"name\": \"Student_47\", \"text\": [\"Student_47\"], \"x\": [7], \"y\": [68], \"type\": \"scatter\", \"uid\": \"43c0053a-e411-11e8-a1d0-d7b4c6107baf\"}, {\"marker\": {\"color\": \"rgb(127,0,127)\", \"colorscale\": \"Viridis\", \"line\": {\"width\": 2}, \"size\": 12, \"symbol\": 2}, \"mode\": \"markers\", \"name\": \"Student_48\", \"text\": [\"Student_48\"], \"x\": [0], \"y\": [40], \"type\": \"scatter\", \"uid\": \"43c005c6-e411-11e8-a1d0-d7b4c6107baf\"}, {\"marker\": {\"color\": \"rgb(0,0,255)\", \"colorscale\": \"Viridis\", \"line\": {\"width\": 2}, \"size\": 12, \"symbol\": 3}, \"mode\": \"markers\", \"name\": \"Student_49\", \"text\": [\"Student_49\"], \"x\": [8], \"y\": [79], \"type\": \"scatter\", \"uid\": \"43c00652-e411-11e8-a1d0-d7b4c6107baf\"}, {\"marker\": {\"color\": \"rgb(255,0,0)\", \"colorscale\": \"Viridis\", \"line\": {\"width\": 2}, \"size\": 12, \"symbol\": 1}, \"mode\": \"markers\", \"name\": \"Student_50\", \"text\": [\"Student_50\"], \"x\": [2], \"y\": [37], \"type\": \"scatter\", \"uid\": \"43c006de-e411-11e8-a1d0-d7b4c6107baf\"}, {\"marker\": {\"color\": \"rgb(0,0,255)\", \"colorscale\": \"Viridis\", \"line\": {\"width\": 2}, \"size\": 12, \"symbol\": 3}, \"mode\": \"markers\", \"name\": \"Student_51\", \"text\": [\"Student_51\"], \"x\": [7], \"y\": [64], \"type\": \"scatter\", \"uid\": \"43c00760-e411-11e8-a1d0-d7b4c6107baf\"}, {\"marker\": {\"color\": \"rgb(255,0,0)\", \"colorscale\": \"Viridis\", \"line\": {\"width\": 2}, \"size\": 12, \"symbol\": 1}, \"mode\": \"markers\", \"name\": \"Student_52\", \"text\": [\"Student_52\"], \"x\": [0], \"y\": [7], \"type\": \"scatter\", \"uid\": \"43c007ec-e411-11e8-a1d0-d7b4c6107baf\"}, {\"marker\": {\"color\": \"rgb(0,0,255)\", \"colorscale\": \"Viridis\", \"line\": {\"width\": 2}, \"size\": 12, \"symbol\": 3}, \"mode\": \"markers\", \"name\": \"Student_53\", \"text\": [\"Student_53\"], \"x\": [8], \"y\": [64], \"type\": \"scatter\", \"uid\": \"43c0086e-e411-11e8-a1d0-d7b4c6107baf\"}, {\"marker\": {\"color\": \"rgb(127,0,127)\", \"colorscale\": \"Viridis\", \"line\": {\"width\": 2}, \"size\": 12, \"symbol\": 2}, \"mode\": \"markers\", \"name\": \"Student_54\", \"text\": [\"Student_54\"], \"x\": [2], \"y\": [40], \"type\": \"scatter\", \"uid\": \"43c008fa-e411-11e8-a1d0-d7b4c6107baf\"}, {\"marker\": {\"color\": \"rgb(127,0,127)\", \"colorscale\": \"Viridis\", \"line\": {\"width\": 2}, \"size\": 12, \"symbol\": 2}, \"mode\": \"markers\", \"name\": \"Student_55\", \"text\": [\"Student_55\"], \"x\": [7], \"y\": [54], \"type\": \"scatter\", \"uid\": \"43c0097c-e411-11e8-a1d0-d7b4c6107baf\"}, {\"marker\": {\"color\": \"rgb(255,0,0)\", \"colorscale\": \"Viridis\", \"line\": {\"width\": 2}, \"size\": 12, \"symbol\": 1}, \"mode\": \"markers\", \"name\": \"Student_56\", \"text\": [\"Student_56\"], \"x\": [0], \"y\": [26], \"type\": \"scatter\", \"uid\": \"43c009fe-e411-11e8-a1d0-d7b4c6107baf\"}, {\"marker\": {\"color\": \"rgb(0,255,0)\", \"colorscale\": \"Viridis\", \"line\": {\"width\": 2}, \"size\": 12, \"symbol\": 0}, \"mode\": \"markers\", \"name\": \"Student_57\", \"text\": [\"Student_57\"], \"x\": [9], \"y\": [86], \"type\": \"scatter\", \"uid\": \"43c00a80-e411-11e8-a1d0-d7b4c6107baf\"}, {\"marker\": {\"color\": \"rgb(0,255,0)\", \"colorscale\": \"Viridis\", \"line\": {\"width\": 2}, \"size\": 12, \"symbol\": 0}, \"mode\": \"markers\", \"name\": \"Student_58\", \"text\": [\"Student_58\"], \"x\": [20], \"y\": [74], \"type\": \"scatter\", \"uid\": \"43c00b02-e411-11e8-a1d0-d7b4c6107baf\"}, {\"marker\": {\"color\": \"rgb(0,0,255)\", \"colorscale\": \"Viridis\", \"line\": {\"width\": 2}, \"size\": 12, \"symbol\": 3}, \"mode\": \"markers\", \"name\": \"Student_59\", \"text\": [\"Student_59\"], \"x\": [3], \"y\": [70], \"type\": \"scatter\", \"uid\": \"43c00b84-e411-11e8-a1d0-d7b4c6107baf\"}, {\"marker\": {\"color\": \"rgb(0,0,255)\", \"colorscale\": \"Viridis\", \"line\": {\"width\": 2}, \"size\": 12, \"symbol\": 3}, \"mode\": \"markers\", \"name\": \"Student_60\", \"text\": [\"Student_60\"], \"x\": [14], \"y\": [78], \"type\": \"scatter\", \"uid\": \"43c00bfc-e411-11e8-a1d0-d7b4c6107baf\"}], {\"hovermode\": \"closest\", \"showlegend\": true, \"title\": \"Notas dos estudantes vs postagens respondidas no f\\u00f3rum\", \"xaxis\": {\"autorange\": false, \"fixedrange\": false, \"range\": [0, 39], \"rangemode\": \"normal\", \"showline\": true, \"title\": \"Postagens respondidas no f\\u00f3rum\", \"zeroline\": false}, \"yaxis\": {\"autorange\": false, \"fixedrange\": false, \"range\": [0, 104], \"rangemode\": \"normal\", \"showline\": true, \"title\": \"Notas\"}}, {\"showLink\": true, \"linkText\": \"Export to plot.ly\"})});</script>"
      ],
      "text/vnd.plotly.v1+html": [
       "<div id=\"fc5b2982-943a-4878-9e58-e6026326a76b\" style=\"height: 525px; width: 100%;\" class=\"plotly-graph-div\"></div><script type=\"text/javascript\">require([\"plotly\"], function(Plotly) { window.PLOTLYENV=window.PLOTLYENV || {};window.PLOTLYENV.BASE_URL=\"https://plot.ly\";Plotly.newPlot(\"fc5b2982-943a-4878-9e58-e6026326a76b\", [{\"marker\": {\"color\": \"rgb(255,0,0)\", \"colorscale\": \"Viridis\", \"line\": {\"width\": 2}, \"size\": 12, \"symbol\": 1}, \"mode\": \"markers\", \"name\": \"Student_1\", \"text\": [\"Student_1\"], \"x\": [2], \"y\": [5], \"type\": \"scatter\", \"uid\": \"43bfe898-e411-11e8-a1d0-d7b4c6107baf\"}, {\"marker\": {\"color\": \"rgb(0,255,0)\", \"colorscale\": \"Viridis\", \"line\": {\"width\": 2}, \"size\": 12, \"symbol\": 0}, \"mode\": \"markers\", \"name\": \"Student_2\", \"text\": [\"Student_2\"], \"x\": [29], \"y\": [92], \"type\": \"scatter\", \"uid\": \"43bfea32-e411-11e8-a1d0-d7b4c6107baf\"}, {\"marker\": {\"color\": \"rgb(0,255,0)\", \"colorscale\": \"Viridis\", \"line\": {\"width\": 2}, \"size\": 12, \"symbol\": 0}, \"mode\": \"markers\", \"name\": \"Student_3\", \"text\": [\"Student_3\"], \"x\": [10], \"y\": [82], \"type\": \"scatter\", \"uid\": \"43bfeafa-e411-11e8-a1d0-d7b4c6107baf\"}, {\"marker\": {\"color\": \"rgb(127,0,127)\", \"colorscale\": \"Viridis\", \"line\": {\"width\": 2}, \"size\": 12, \"symbol\": 2}, \"mode\": \"markers\", \"name\": \"Student_4\", \"text\": [\"Student_4\"], \"x\": [4], \"y\": [58], \"type\": \"scatter\", \"uid\": \"43bfeba4-e411-11e8-a1d0-d7b4c6107baf\"}, {\"marker\": {\"color\": \"rgb(0,255,0)\", \"colorscale\": \"Viridis\", \"line\": {\"width\": 2}, \"size\": 12, \"symbol\": 0}, \"mode\": \"markers\", \"name\": \"Student_5\", \"text\": [\"Student_5\"], \"x\": [20], \"y\": [77], \"type\": \"scatter\", \"uid\": \"43bfec30-e411-11e8-a1d0-d7b4c6107baf\"}, {\"marker\": {\"color\": \"rgb(0,255,0)\", \"colorscale\": \"Viridis\", \"line\": {\"width\": 2}, \"size\": 12, \"symbol\": 0}, \"mode\": \"markers\", \"name\": \"Student_6\", \"text\": [\"Student_6\"], \"x\": [15], \"y\": [87], \"type\": \"scatter\", \"uid\": \"43bfece4-e411-11e8-a1d0-d7b4c6107baf\"}, {\"marker\": {\"color\": \"rgb(0,255,0)\", \"colorscale\": \"Viridis\", \"line\": {\"width\": 2}, \"size\": 12, \"symbol\": 0}, \"mode\": \"markers\", \"name\": \"Student_7\", \"text\": [\"Student_7\"], \"x\": [20], \"y\": [74], \"type\": \"scatter\", \"uid\": \"43bfedca-e411-11e8-a1d0-d7b4c6107baf\"}, {\"marker\": {\"color\": \"rgb(255,0,0)\", \"colorscale\": \"Viridis\", \"line\": {\"width\": 2}, \"size\": 12, \"symbol\": 1}, \"mode\": \"markers\", \"name\": \"Student_8\", \"text\": [\"Student_8\"], \"x\": [0], \"y\": [14], \"type\": \"scatter\", \"uid\": \"43bfeea6-e411-11e8-a1d0-d7b4c6107baf\"}, {\"marker\": {\"color\": \"rgb(0,0,255)\", \"colorscale\": \"Viridis\", \"line\": {\"width\": 2}, \"size\": 12, \"symbol\": 3}, \"mode\": \"markers\", \"name\": \"Student_9\", \"text\": [\"Student_9\"], \"x\": [5], \"y\": [59], \"type\": \"scatter\", \"uid\": \"43bfef8c-e411-11e8-a1d0-d7b4c6107baf\"}, {\"marker\": {\"color\": \"rgb(127,0,127)\", \"colorscale\": \"Viridis\", \"line\": {\"width\": 2}, \"size\": 12, \"symbol\": 2}, \"mode\": \"markers\", \"name\": \"Student_10\", \"text\": [\"Student_10\"], \"x\": [2], \"y\": [39], \"type\": \"scatter\", \"uid\": \"43bff07c-e411-11e8-a1d0-d7b4c6107baf\"}, {\"marker\": {\"color\": \"rgb(0,255,0)\", \"colorscale\": \"Viridis\", \"line\": {\"width\": 2}, \"size\": 12, \"symbol\": 0}, \"mode\": \"markers\", \"name\": \"Student_11\", \"text\": [\"Student_11\"], \"x\": [24], \"y\": [94], \"type\": \"scatter\", \"uid\": \"43bff11c-e411-11e8-a1d0-d7b4c6107baf\"}, {\"marker\": {\"color\": \"rgb(127,0,127)\", \"colorscale\": \"Viridis\", \"line\": {\"width\": 2}, \"size\": 12, \"symbol\": 2}, \"mode\": \"markers\", \"name\": \"Student_12\", \"text\": [\"Student_12\"], \"x\": [1], \"y\": [43], \"type\": \"scatter\", \"uid\": \"43bff1a8-e411-11e8-a1d0-d7b4c6107baf\"}, {\"marker\": {\"color\": \"rgb(127,0,127)\", \"colorscale\": \"Viridis\", \"line\": {\"width\": 2}, \"size\": 12, \"symbol\": 2}, \"mode\": \"markers\", \"name\": \"Student_13\", \"text\": [\"Student_13\"], \"x\": [1], \"y\": [42], \"type\": \"scatter\", \"uid\": \"43bff22a-e411-11e8-a1d0-d7b4c6107baf\"}, {\"marker\": {\"color\": \"rgb(0,0,255)\", \"colorscale\": \"Viridis\", \"line\": {\"width\": 2}, \"size\": 12, \"symbol\": 3}, \"mode\": \"markers\", \"name\": \"Student_14\", \"text\": [\"Student_14\"], \"x\": [3], \"y\": [67], \"type\": \"scatter\", \"uid\": \"43bff2b6-e411-11e8-a1d0-d7b4c6107baf\"}, {\"marker\": {\"color\": \"rgb(127,0,127)\", \"colorscale\": \"Viridis\", \"line\": {\"width\": 2}, \"size\": 12, \"symbol\": 2}, \"mode\": \"markers\", \"name\": \"Student_15\", \"text\": [\"Student_15\"], \"x\": [2], \"y\": [53], \"type\": \"scatter\", \"uid\": \"43bff342-e411-11e8-a1d0-d7b4c6107baf\"}, {\"marker\": {\"color\": \"rgb(0,0,255)\", \"colorscale\": \"Viridis\", \"line\": {\"width\": 2}, \"size\": 12, \"symbol\": 3}, \"mode\": \"markers\", \"name\": \"Student_16\", \"text\": [\"Student_16\"], \"x\": [7], \"y\": [63], \"type\": \"scatter\", \"uid\": \"43bff3ce-e411-11e8-a1d0-d7b4c6107baf\"}, {\"marker\": {\"color\": \"rgb(0,0,255)\", \"colorscale\": \"Viridis\", \"line\": {\"width\": 2}, \"size\": 12, \"symbol\": 3}, \"mode\": \"markers\", \"name\": \"Student_17\", \"text\": [\"Student_17\"], \"x\": [3], \"y\": [69], \"type\": \"scatter\", \"uid\": \"43bff450-e411-11e8-a1d0-d7b4c6107baf\"}, {\"marker\": {\"color\": \"rgb(255,0,0)\", \"colorscale\": \"Viridis\", \"line\": {\"width\": 2}, \"size\": 12, \"symbol\": 1}, \"mode\": \"markers\", \"name\": \"Student_18\", \"text\": [\"Student_18\"], \"x\": [1], \"y\": [31], \"type\": \"scatter\", \"uid\": \"43bff4e6-e411-11e8-a1d0-d7b4c6107baf\"}, {\"marker\": {\"color\": \"rgb(0,255,0)\", \"colorscale\": \"Viridis\", \"line\": {\"width\": 2}, \"size\": 12, \"symbol\": 0}, \"mode\": \"markers\", \"name\": \"Student_19\", \"text\": [\"Student_19\"], \"x\": [16], \"y\": [81], \"type\": \"scatter\", \"uid\": \"43bff568-e411-11e8-a1d0-d7b4c6107baf\"}, {\"marker\": {\"color\": \"rgb(127,0,127)\", \"colorscale\": \"Viridis\", \"line\": {\"width\": 2}, \"size\": 12, \"symbol\": 2}, \"mode\": \"markers\", \"name\": \"Student_20\", \"text\": [\"Student_20\"], \"x\": [2], \"y\": [46], \"type\": \"scatter\", \"uid\": \"43bff5f4-e411-11e8-a1d0-d7b4c6107baf\"}, {\"marker\": {\"color\": \"rgb(255,0,0)\", \"colorscale\": \"Viridis\", \"line\": {\"width\": 2}, \"size\": 12, \"symbol\": 1}, \"mode\": \"markers\", \"name\": \"Student_21\", \"text\": [\"Student_21\"], \"x\": [1], \"y\": [22], \"type\": \"scatter\", \"uid\": \"43bff680-e411-11e8-a1d0-d7b4c6107baf\"}, {\"marker\": {\"color\": \"rgb(0,0,255)\", \"colorscale\": \"Viridis\", \"line\": {\"width\": 2}, \"size\": 12, \"symbol\": 3}, \"mode\": \"markers\", \"name\": \"Student_22\", \"text\": [\"Student_22\"], \"x\": [2], \"y\": [56], \"type\": \"scatter\", \"uid\": \"43bff702-e411-11e8-a1d0-d7b4c6107baf\"}, {\"marker\": {\"color\": \"rgb(0,0,255)\", \"colorscale\": \"Viridis\", \"line\": {\"width\": 2}, \"size\": 12, \"symbol\": 3}, \"mode\": \"markers\", \"name\": \"Student_23\", \"text\": [\"Student_23\"], \"x\": [7], \"y\": [63], \"type\": \"scatter\", \"uid\": \"43bff7ac-e411-11e8-a1d0-d7b4c6107baf\"}, {\"marker\": {\"color\": \"rgb(127,0,127)\", \"colorscale\": \"Viridis\", \"line\": {\"width\": 2}, \"size\": 12, \"symbol\": 2}, \"mode\": \"markers\", \"name\": \"Student_24\", \"text\": [\"Student_24\"], \"x\": [0], \"y\": [47], \"type\": \"scatter\", \"uid\": \"43bff89c-e411-11e8-a1d0-d7b4c6107baf\"}, {\"marker\": {\"color\": \"rgb(0,0,255)\", \"colorscale\": \"Viridis\", \"line\": {\"width\": 2}, \"size\": 12, \"symbol\": 3}, \"mode\": \"markers\", \"name\": \"Student_25\", \"text\": [\"Student_25\"], \"x\": [12], \"y\": [73], \"type\": \"scatter\", \"uid\": \"43bff98c-e411-11e8-a1d0-d7b4c6107baf\"}, {\"marker\": {\"color\": \"rgb(255,0,0)\", \"colorscale\": \"Viridis\", \"line\": {\"width\": 2}, \"size\": 12, \"symbol\": 1}, \"mode\": \"markers\", \"name\": \"Student_26\", \"text\": [\"Student_26\"], \"x\": [2], \"y\": [33], \"type\": \"scatter\", \"uid\": \"43bffa40-e411-11e8-a1d0-d7b4c6107baf\"}, {\"marker\": {\"color\": \"rgb(127,0,127)\", \"colorscale\": \"Viridis\", \"line\": {\"width\": 2}, \"size\": 12, \"symbol\": 2}, \"mode\": \"markers\", \"name\": \"Student_27\", \"text\": [\"Student_27\"], \"x\": [3], \"y\": [50], \"type\": \"scatter\", \"uid\": \"43bffacc-e411-11e8-a1d0-d7b4c6107baf\"}, {\"marker\": {\"color\": \"rgb(127,0,127)\", \"colorscale\": \"Viridis\", \"line\": {\"width\": 2}, \"size\": 12, \"symbol\": 2}, \"mode\": \"markers\", \"name\": \"Student_28\", \"text\": [\"Student_28\"], \"x\": [2], \"y\": [46], \"type\": \"scatter\", \"uid\": \"43bffb4e-e411-11e8-a1d0-d7b4c6107baf\"}, {\"marker\": {\"color\": \"rgb(0,0,255)\", \"colorscale\": \"Viridis\", \"line\": {\"width\": 2}, \"size\": 12, \"symbol\": 3}, \"mode\": \"markers\", \"name\": \"Student_29\", \"text\": [\"Student_29\"], \"x\": [15], \"y\": [76], \"type\": \"scatter\", \"uid\": \"43bffbda-e411-11e8-a1d0-d7b4c6107baf\"}, {\"marker\": {\"color\": \"rgb(0,0,255)\", \"colorscale\": \"Viridis\", \"line\": {\"width\": 2}, \"size\": 12, \"symbol\": 3}, \"mode\": \"markers\", \"name\": \"Student_30\", \"text\": [\"Student_30\"], \"x\": [2], \"y\": [67], \"type\": \"scatter\", \"uid\": \"43bffc52-e411-11e8-a1d0-d7b4c6107baf\"}, {\"marker\": {\"color\": \"rgb(127,0,127)\", \"colorscale\": \"Viridis\", \"line\": {\"width\": 2}, \"size\": 12, \"symbol\": 2}, \"mode\": \"markers\", \"name\": \"Student_31\", \"text\": [\"Student_31\"], \"x\": [2], \"y\": [48], \"type\": \"scatter\", \"uid\": \"43bffcde-e411-11e8-a1d0-d7b4c6107baf\"}, {\"marker\": {\"color\": \"rgb(255,0,0)\", \"colorscale\": \"Viridis\", \"line\": {\"width\": 2}, \"size\": 12, \"symbol\": 1}, \"mode\": \"markers\", \"name\": \"Student_32\", \"text\": [\"Student_32\"], \"x\": [2], \"y\": [22], \"type\": \"scatter\", \"uid\": \"43bffd60-e411-11e8-a1d0-d7b4c6107baf\"}, {\"marker\": {\"color\": \"rgb(0,255,0)\", \"colorscale\": \"Viridis\", \"line\": {\"width\": 2}, \"size\": 12, \"symbol\": 0}, \"mode\": \"markers\", \"name\": \"Student_33\", \"text\": [\"Student_33\"], \"x\": [18], \"y\": [85], \"type\": \"scatter\", \"uid\": \"43bffde2-e411-11e8-a1d0-d7b4c6107baf\"}, {\"marker\": {\"color\": \"rgb(127,0,127)\", \"colorscale\": \"Viridis\", \"line\": {\"width\": 2}, \"size\": 12, \"symbol\": 2}, \"mode\": \"markers\", \"name\": \"Student_34\", \"text\": [\"Student_34\"], \"x\": [4], \"y\": [57], \"type\": \"scatter\", \"uid\": \"43bffe6e-e411-11e8-a1d0-d7b4c6107baf\"}, {\"marker\": {\"color\": \"rgb(0,0,255)\", \"colorscale\": \"Viridis\", \"line\": {\"width\": 2}, \"size\": 12, \"symbol\": 3}, \"mode\": \"markers\", \"name\": \"Student_35\", \"text\": [\"Student_35\"], \"x\": [1], \"y\": [65], \"type\": \"scatter\", \"uid\": \"43bffef0-e411-11e8-a1d0-d7b4c6107baf\"}, {\"marker\": {\"color\": \"rgb(0,0,255)\", \"colorscale\": \"Viridis\", \"line\": {\"width\": 2}, \"size\": 12, \"symbol\": 3}, \"mode\": \"markers\", \"name\": \"Student_36\", \"text\": [\"Student_36\"], \"x\": [9], \"y\": [63], \"type\": \"scatter\", \"uid\": \"43bfff72-e411-11e8-a1d0-d7b4c6107baf\"}, {\"marker\": {\"color\": \"rgb(255,0,0)\", \"colorscale\": \"Viridis\", \"line\": {\"width\": 2}, \"size\": 12, \"symbol\": 1}, \"mode\": \"markers\", \"name\": \"Student_37\", \"text\": [\"Student_37\"], \"x\": [0], \"y\": [36], \"type\": \"scatter\", \"uid\": \"43bffff4-e411-11e8-a1d0-d7b4c6107baf\"}, {\"marker\": {\"color\": \"rgb(127,0,127)\", \"colorscale\": \"Viridis\", \"line\": {\"width\": 2}, \"size\": 12, \"symbol\": 2}, \"mode\": \"markers\", \"name\": \"Student_38\", \"text\": [\"Student_38\"], \"x\": [6], \"y\": [51], \"type\": \"scatter\", \"uid\": \"43c00080-e411-11e8-a1d0-d7b4c6107baf\"}, {\"marker\": {\"color\": \"rgb(0,255,0)\", \"colorscale\": \"Viridis\", \"line\": {\"width\": 2}, \"size\": 12, \"symbol\": 0}, \"mode\": \"markers\", \"name\": \"Student_39\", \"text\": [\"Student_39\"], \"x\": [15], \"y\": [88], \"type\": \"scatter\", \"uid\": \"43c000f8-e411-11e8-a1d0-d7b4c6107baf\"}, {\"marker\": {\"color\": \"rgb(255,0,0)\", \"colorscale\": \"Viridis\", \"line\": {\"width\": 2}, \"size\": 12, \"symbol\": 1}, \"mode\": \"markers\", \"name\": \"Student_40\", \"text\": [\"Student_40\"], \"x\": [1], \"y\": [18], \"type\": \"scatter\", \"uid\": \"43c00184-e411-11e8-a1d0-d7b4c6107baf\"}, {\"marker\": {\"color\": \"rgb(0,255,0)\", \"colorscale\": \"Viridis\", \"line\": {\"width\": 2}, \"size\": 12, \"symbol\": 0}, \"mode\": \"markers\", \"name\": \"Student_41\", \"text\": [\"Student_41\"], \"x\": [23], \"y\": [94], \"type\": \"scatter\", \"uid\": \"43c00206-e411-11e8-a1d0-d7b4c6107baf\"}, {\"marker\": {\"color\": \"rgb(255,0,0)\", \"colorscale\": \"Viridis\", \"line\": {\"width\": 2}, \"size\": 12, \"symbol\": 1}, \"mode\": \"markers\", \"name\": \"Student_42\", \"text\": [\"Student_42\"], \"x\": [1], \"y\": [25], \"type\": \"scatter\", \"uid\": \"43c00288-e411-11e8-a1d0-d7b4c6107baf\"}, {\"marker\": {\"color\": \"rgb(255,0,0)\", \"colorscale\": \"Viridis\", \"line\": {\"width\": 2}, \"size\": 12, \"symbol\": 1}, \"mode\": \"markers\", \"name\": \"Student_43\", \"text\": [\"Student_43\"], \"x\": [2], \"y\": [25], \"type\": \"scatter\", \"uid\": \"43c00314-e411-11e8-a1d0-d7b4c6107baf\"}, {\"marker\": {\"color\": \"rgb(0,0,255)\", \"colorscale\": \"Viridis\", \"line\": {\"width\": 2}, \"size\": 12, \"symbol\": 3}, \"mode\": \"markers\", \"name\": \"Student_44\", \"text\": [\"Student_44\"], \"x\": [0], \"y\": [70], \"type\": \"scatter\", \"uid\": \"43c003a0-e411-11e8-a1d0-d7b4c6107baf\"}, {\"marker\": {\"color\": \"rgb(127,0,127)\", \"colorscale\": \"Viridis\", \"line\": {\"width\": 2}, \"size\": 12, \"symbol\": 2}, \"mode\": \"markers\", \"name\": \"Student_45\", \"text\": [\"Student_45\"], \"x\": [1], \"y\": [46], \"type\": \"scatter\", \"uid\": \"43c0042c-e411-11e8-a1d0-d7b4c6107baf\"}, {\"marker\": {\"color\": \"rgb(255,0,0)\", \"colorscale\": \"Viridis\", \"line\": {\"width\": 2}, \"size\": 12, \"symbol\": 1}, \"mode\": \"markers\", \"name\": \"Student_46\", \"text\": [\"Student_46\"], \"x\": [1], \"y\": [28], \"type\": \"scatter\", \"uid\": \"43c004ae-e411-11e8-a1d0-d7b4c6107baf\"}, {\"marker\": {\"color\": \"rgb(0,0,255)\", \"colorscale\": \"Viridis\", \"line\": {\"width\": 2}, \"size\": 12, \"symbol\": 3}, \"mode\": \"markers\", \"name\": \"Student_47\", \"text\": [\"Student_47\"], \"x\": [7], \"y\": [68], \"type\": \"scatter\", \"uid\": \"43c0053a-e411-11e8-a1d0-d7b4c6107baf\"}, {\"marker\": {\"color\": \"rgb(127,0,127)\", \"colorscale\": \"Viridis\", \"line\": {\"width\": 2}, \"size\": 12, \"symbol\": 2}, \"mode\": \"markers\", \"name\": \"Student_48\", \"text\": [\"Student_48\"], \"x\": [0], \"y\": [40], \"type\": \"scatter\", \"uid\": \"43c005c6-e411-11e8-a1d0-d7b4c6107baf\"}, {\"marker\": {\"color\": \"rgb(0,0,255)\", \"colorscale\": \"Viridis\", \"line\": {\"width\": 2}, \"size\": 12, \"symbol\": 3}, \"mode\": \"markers\", \"name\": \"Student_49\", \"text\": [\"Student_49\"], \"x\": [8], \"y\": [79], \"type\": \"scatter\", \"uid\": \"43c00652-e411-11e8-a1d0-d7b4c6107baf\"}, {\"marker\": {\"color\": \"rgb(255,0,0)\", \"colorscale\": \"Viridis\", \"line\": {\"width\": 2}, \"size\": 12, \"symbol\": 1}, \"mode\": \"markers\", \"name\": \"Student_50\", \"text\": [\"Student_50\"], \"x\": [2], \"y\": [37], \"type\": \"scatter\", \"uid\": \"43c006de-e411-11e8-a1d0-d7b4c6107baf\"}, {\"marker\": {\"color\": \"rgb(0,0,255)\", \"colorscale\": \"Viridis\", \"line\": {\"width\": 2}, \"size\": 12, \"symbol\": 3}, \"mode\": \"markers\", \"name\": \"Student_51\", \"text\": [\"Student_51\"], \"x\": [7], \"y\": [64], \"type\": \"scatter\", \"uid\": \"43c00760-e411-11e8-a1d0-d7b4c6107baf\"}, {\"marker\": {\"color\": \"rgb(255,0,0)\", \"colorscale\": \"Viridis\", \"line\": {\"width\": 2}, \"size\": 12, \"symbol\": 1}, \"mode\": \"markers\", \"name\": \"Student_52\", \"text\": [\"Student_52\"], \"x\": [0], \"y\": [7], \"type\": \"scatter\", \"uid\": \"43c007ec-e411-11e8-a1d0-d7b4c6107baf\"}, {\"marker\": {\"color\": \"rgb(0,0,255)\", \"colorscale\": \"Viridis\", \"line\": {\"width\": 2}, \"size\": 12, \"symbol\": 3}, \"mode\": \"markers\", \"name\": \"Student_53\", \"text\": [\"Student_53\"], \"x\": [8], \"y\": [64], \"type\": \"scatter\", \"uid\": \"43c0086e-e411-11e8-a1d0-d7b4c6107baf\"}, {\"marker\": {\"color\": \"rgb(127,0,127)\", \"colorscale\": \"Viridis\", \"line\": {\"width\": 2}, \"size\": 12, \"symbol\": 2}, \"mode\": \"markers\", \"name\": \"Student_54\", \"text\": [\"Student_54\"], \"x\": [2], \"y\": [40], \"type\": \"scatter\", \"uid\": \"43c008fa-e411-11e8-a1d0-d7b4c6107baf\"}, {\"marker\": {\"color\": \"rgb(127,0,127)\", \"colorscale\": \"Viridis\", \"line\": {\"width\": 2}, \"size\": 12, \"symbol\": 2}, \"mode\": \"markers\", \"name\": \"Student_55\", \"text\": [\"Student_55\"], \"x\": [7], \"y\": [54], \"type\": \"scatter\", \"uid\": \"43c0097c-e411-11e8-a1d0-d7b4c6107baf\"}, {\"marker\": {\"color\": \"rgb(255,0,0)\", \"colorscale\": \"Viridis\", \"line\": {\"width\": 2}, \"size\": 12, \"symbol\": 1}, \"mode\": \"markers\", \"name\": \"Student_56\", \"text\": [\"Student_56\"], \"x\": [0], \"y\": [26], \"type\": \"scatter\", \"uid\": \"43c009fe-e411-11e8-a1d0-d7b4c6107baf\"}, {\"marker\": {\"color\": \"rgb(0,255,0)\", \"colorscale\": \"Viridis\", \"line\": {\"width\": 2}, \"size\": 12, \"symbol\": 0}, \"mode\": \"markers\", \"name\": \"Student_57\", \"text\": [\"Student_57\"], \"x\": [9], \"y\": [86], \"type\": \"scatter\", \"uid\": \"43c00a80-e411-11e8-a1d0-d7b4c6107baf\"}, {\"marker\": {\"color\": \"rgb(0,255,0)\", \"colorscale\": \"Viridis\", \"line\": {\"width\": 2}, \"size\": 12, \"symbol\": 0}, \"mode\": \"markers\", \"name\": \"Student_58\", \"text\": [\"Student_58\"], \"x\": [20], \"y\": [74], \"type\": \"scatter\", \"uid\": \"43c00b02-e411-11e8-a1d0-d7b4c6107baf\"}, {\"marker\": {\"color\": \"rgb(0,0,255)\", \"colorscale\": \"Viridis\", \"line\": {\"width\": 2}, \"size\": 12, \"symbol\": 3}, \"mode\": \"markers\", \"name\": \"Student_59\", \"text\": [\"Student_59\"], \"x\": [3], \"y\": [70], \"type\": \"scatter\", \"uid\": \"43c00b84-e411-11e8-a1d0-d7b4c6107baf\"}, {\"marker\": {\"color\": \"rgb(0,0,255)\", \"colorscale\": \"Viridis\", \"line\": {\"width\": 2}, \"size\": 12, \"symbol\": 3}, \"mode\": \"markers\", \"name\": \"Student_60\", \"text\": [\"Student_60\"], \"x\": [14], \"y\": [78], \"type\": \"scatter\", \"uid\": \"43c00bfc-e411-11e8-a1d0-d7b4c6107baf\"}], {\"hovermode\": \"closest\", \"showlegend\": true, \"title\": \"Notas dos estudantes vs postagens respondidas no f\\u00f3rum\", \"xaxis\": {\"autorange\": false, \"fixedrange\": false, \"range\": [0, 39], \"rangemode\": \"normal\", \"showline\": true, \"title\": \"Postagens respondidas no f\\u00f3rum\", \"zeroline\": false}, \"yaxis\": {\"autorange\": false, \"fixedrange\": false, \"range\": [0, 104], \"rangemode\": \"normal\", \"showline\": true, \"title\": \"Notas\"}}, {\"showLink\": true, \"linkText\": \"Export to plot.ly\"})});</script>"
      ]
     },
     "metadata": {},
     "output_type": "display_data"
    },
    {
     "data": {
      "application/vnd.plotly.v1+json": {
       "data": [
        {
         "marker": {
          "color": "rgb(255,0,0)",
          "colorscale": "Viridis",
          "line": {
           "width": 2
          },
          "size": 12,
          "symbol": 1
         },
         "mode": "markers",
         "name": "Student_1",
         "text": [
          "Student_1"
         ],
         "type": "scatter",
         "uid": "43f31dc6-e411-11e8-a1d0-d7b4c6107baf",
         "x": [
          3
         ],
         "y": [
          5
         ]
        },
        {
         "marker": {
          "color": "rgb(0,255,0)",
          "colorscale": "Viridis",
          "line": {
           "width": 2
          },
          "size": 12,
          "symbol": 0
         },
         "mode": "markers",
         "name": "Student_2",
         "text": [
          "Student_2"
         ],
         "type": "scatter",
         "uid": "43f31f60-e411-11e8-a1d0-d7b4c6107baf",
         "x": [
          6
         ],
         "y": [
          92
         ]
        },
        {
         "marker": {
          "color": "rgb(0,255,0)",
          "colorscale": "Viridis",
          "line": {
           "width": 2
          },
          "size": 12,
          "symbol": 0
         },
         "mode": "markers",
         "name": "Student_3",
         "text": [
          "Student_3"
         ],
         "type": "scatter",
         "uid": "43f32014-e411-11e8-a1d0-d7b4c6107baf",
         "x": [
          9
         ],
         "y": [
          82
         ]
        },
        {
         "marker": {
          "color": "rgb(127,0,127)",
          "colorscale": "Viridis",
          "line": {
           "width": 2
          },
          "size": 12,
          "symbol": 2
         },
         "mode": "markers",
         "name": "Student_4",
         "text": [
          "Student_4"
         ],
         "type": "scatter",
         "uid": "43f320aa-e411-11e8-a1d0-d7b4c6107baf",
         "x": [
          2
         ],
         "y": [
          58
         ]
        },
        {
         "marker": {
          "color": "rgb(0,255,0)",
          "colorscale": "Viridis",
          "line": {
           "width": 2
          },
          "size": 12,
          "symbol": 0
         },
         "mode": "markers",
         "name": "Student_5",
         "text": [
          "Student_5"
         ],
         "type": "scatter",
         "uid": "43f3212c-e411-11e8-a1d0-d7b4c6107baf",
         "x": [
          2
         ],
         "y": [
          77
         ]
        },
        {
         "marker": {
          "color": "rgb(0,255,0)",
          "colorscale": "Viridis",
          "line": {
           "width": 2
          },
          "size": 12,
          "symbol": 0
         },
         "mode": "markers",
         "name": "Student_6",
         "text": [
          "Student_6"
         ],
         "type": "scatter",
         "uid": "43f321ae-e411-11e8-a1d0-d7b4c6107baf",
         "x": [
          1
         ],
         "y": [
          87
         ]
        },
        {
         "marker": {
          "color": "rgb(0,255,0)",
          "colorscale": "Viridis",
          "line": {
           "width": 2
          },
          "size": 12,
          "symbol": 0
         },
         "mode": "markers",
         "name": "Student_7",
         "text": [
          "Student_7"
         ],
         "type": "scatter",
         "uid": "43f32230-e411-11e8-a1d0-d7b4c6107baf",
         "x": [
          1
         ],
         "y": [
          74
         ]
        },
        {
         "marker": {
          "color": "rgb(255,0,0)",
          "colorscale": "Viridis",
          "line": {
           "width": 2
          },
          "size": 12,
          "symbol": 1
         },
         "mode": "markers",
         "name": "Student_8",
         "text": [
          "Student_8"
         ],
         "type": "scatter",
         "uid": "43f322b2-e411-11e8-a1d0-d7b4c6107baf",
         "x": [
          1
         ],
         "y": [
          14
         ]
        },
        {
         "marker": {
          "color": "rgb(0,0,255)",
          "colorscale": "Viridis",
          "line": {
           "width": 2
          },
          "size": 12,
          "symbol": 3
         },
         "mode": "markers",
         "name": "Student_9",
         "text": [
          "Student_9"
         ],
         "type": "scatter",
         "uid": "43f32334-e411-11e8-a1d0-d7b4c6107baf",
         "x": [
          2
         ],
         "y": [
          59
         ]
        },
        {
         "marker": {
          "color": "rgb(127,0,127)",
          "colorscale": "Viridis",
          "line": {
           "width": 2
          },
          "size": 12,
          "symbol": 2
         },
         "mode": "markers",
         "name": "Student_10",
         "text": [
          "Student_10"
         ],
         "type": "scatter",
         "uid": "43f323b6-e411-11e8-a1d0-d7b4c6107baf",
         "x": [
          0
         ],
         "y": [
          39
         ]
        },
        {
         "marker": {
          "color": "rgb(0,255,0)",
          "colorscale": "Viridis",
          "line": {
           "width": 2
          },
          "size": 12,
          "symbol": 0
         },
         "mode": "markers",
         "name": "Student_11",
         "text": [
          "Student_11"
         ],
         "type": "scatter",
         "uid": "43f32438-e411-11e8-a1d0-d7b4c6107baf",
         "x": [
          3
         ],
         "y": [
          94
         ]
        },
        {
         "marker": {
          "color": "rgb(127,0,127)",
          "colorscale": "Viridis",
          "line": {
           "width": 2
          },
          "size": 12,
          "symbol": 2
         },
         "mode": "markers",
         "name": "Student_12",
         "text": [
          "Student_12"
         ],
         "type": "scatter",
         "uid": "43f324ba-e411-11e8-a1d0-d7b4c6107baf",
         "x": [
          3
         ],
         "y": [
          43
         ]
        },
        {
         "marker": {
          "color": "rgb(127,0,127)",
          "colorscale": "Viridis",
          "line": {
           "width": 2
          },
          "size": 12,
          "symbol": 2
         },
         "mode": "markers",
         "name": "Student_13",
         "text": [
          "Student_13"
         ],
         "type": "scatter",
         "uid": "43f32532-e411-11e8-a1d0-d7b4c6107baf",
         "x": [
          3
         ],
         "y": [
          42
         ]
        },
        {
         "marker": {
          "color": "rgb(0,0,255)",
          "colorscale": "Viridis",
          "line": {
           "width": 2
          },
          "size": 12,
          "symbol": 3
         },
         "mode": "markers",
         "name": "Student_14",
         "text": [
          "Student_14"
         ],
         "type": "scatter",
         "uid": "43f325b4-e411-11e8-a1d0-d7b4c6107baf",
         "x": [
          1
         ],
         "y": [
          67
         ]
        },
        {
         "marker": {
          "color": "rgb(127,0,127)",
          "colorscale": "Viridis",
          "line": {
           "width": 2
          },
          "size": 12,
          "symbol": 2
         },
         "mode": "markers",
         "name": "Student_15",
         "text": [
          "Student_15"
         ],
         "type": "scatter",
         "uid": "43f3262c-e411-11e8-a1d0-d7b4c6107baf",
         "x": [
          0
         ],
         "y": [
          53
         ]
        },
        {
         "marker": {
          "color": "rgb(0,0,255)",
          "colorscale": "Viridis",
          "line": {
           "width": 2
          },
          "size": 12,
          "symbol": 3
         },
         "mode": "markers",
         "name": "Student_16",
         "text": [
          "Student_16"
         ],
         "type": "scatter",
         "uid": "43f326ae-e411-11e8-a1d0-d7b4c6107baf",
         "x": [
          3
         ],
         "y": [
          63
         ]
        },
        {
         "marker": {
          "color": "rgb(0,0,255)",
          "colorscale": "Viridis",
          "line": {
           "width": 2
          },
          "size": 12,
          "symbol": 3
         },
         "mode": "markers",
         "name": "Student_17",
         "text": [
          "Student_17"
         ],
         "type": "scatter",
         "uid": "43f32730-e411-11e8-a1d0-d7b4c6107baf",
         "x": [
          1
         ],
         "y": [
          69
         ]
        },
        {
         "marker": {
          "color": "rgb(255,0,0)",
          "colorscale": "Viridis",
          "line": {
           "width": 2
          },
          "size": 12,
          "symbol": 1
         },
         "mode": "markers",
         "name": "Student_18",
         "text": [
          "Student_18"
         ],
         "type": "scatter",
         "uid": "43f327a8-e411-11e8-a1d0-d7b4c6107baf",
         "x": [
          1
         ],
         "y": [
          31
         ]
        },
        {
         "marker": {
          "color": "rgb(0,255,0)",
          "colorscale": "Viridis",
          "line": {
           "width": 2
          },
          "size": 12,
          "symbol": 0
         },
         "mode": "markers",
         "name": "Student_19",
         "text": [
          "Student_19"
         ],
         "type": "scatter",
         "uid": "43f3282a-e411-11e8-a1d0-d7b4c6107baf",
         "x": [
          3
         ],
         "y": [
          81
         ]
        },
        {
         "marker": {
          "color": "rgb(127,0,127)",
          "colorscale": "Viridis",
          "line": {
           "width": 2
          },
          "size": 12,
          "symbol": 2
         },
         "mode": "markers",
         "name": "Student_20",
         "text": [
          "Student_20"
         ],
         "type": "scatter",
         "uid": "43f328ac-e411-11e8-a1d0-d7b4c6107baf",
         "x": [
          0
         ],
         "y": [
          46
         ]
        },
        {
         "marker": {
          "color": "rgb(255,0,0)",
          "colorscale": "Viridis",
          "line": {
           "width": 2
          },
          "size": 12,
          "symbol": 1
         },
         "mode": "markers",
         "name": "Student_21",
         "text": [
          "Student_21"
         ],
         "type": "scatter",
         "uid": "43f32924-e411-11e8-a1d0-d7b4c6107baf",
         "x": [
          1
         ],
         "y": [
          22
         ]
        },
        {
         "marker": {
          "color": "rgb(0,0,255)",
          "colorscale": "Viridis",
          "line": {
           "width": 2
          },
          "size": 12,
          "symbol": 3
         },
         "mode": "markers",
         "name": "Student_22",
         "text": [
          "Student_22"
         ],
         "type": "scatter",
         "uid": "43f32992-e411-11e8-a1d0-d7b4c6107baf",
         "x": [
          1
         ],
         "y": [
          56
         ]
        },
        {
         "marker": {
          "color": "rgb(0,0,255)",
          "colorscale": "Viridis",
          "line": {
           "width": 2
          },
          "size": 12,
          "symbol": 3
         },
         "mode": "markers",
         "name": "Student_23",
         "text": [
          "Student_23"
         ],
         "type": "scatter",
         "uid": "43f32a0a-e411-11e8-a1d0-d7b4c6107baf",
         "x": [
          7
         ],
         "y": [
          63
         ]
        },
        {
         "marker": {
          "color": "rgb(127,0,127)",
          "colorscale": "Viridis",
          "line": {
           "width": 2
          },
          "size": 12,
          "symbol": 2
         },
         "mode": "markers",
         "name": "Student_24",
         "text": [
          "Student_24"
         ],
         "type": "scatter",
         "uid": "43f32a82-e411-11e8-a1d0-d7b4c6107baf",
         "x": [
          3
         ],
         "y": [
          47
         ]
        },
        {
         "marker": {
          "color": "rgb(0,0,255)",
          "colorscale": "Viridis",
          "line": {
           "width": 2
          },
          "size": 12,
          "symbol": 3
         },
         "mode": "markers",
         "name": "Student_25",
         "text": [
          "Student_25"
         ],
         "type": "scatter",
         "uid": "43f32afa-e411-11e8-a1d0-d7b4c6107baf",
         "x": [
          0
         ],
         "y": [
          73
         ]
        },
        {
         "marker": {
          "color": "rgb(255,0,0)",
          "colorscale": "Viridis",
          "line": {
           "width": 2
          },
          "size": 12,
          "symbol": 1
         },
         "mode": "markers",
         "name": "Student_26",
         "text": [
          "Student_26"
         ],
         "type": "scatter",
         "uid": "43f32b7c-e411-11e8-a1d0-d7b4c6107baf",
         "x": [
          3
         ],
         "y": [
          33
         ]
        },
        {
         "marker": {
          "color": "rgb(127,0,127)",
          "colorscale": "Viridis",
          "line": {
           "width": 2
          },
          "size": 12,
          "symbol": 2
         },
         "mode": "markers",
         "name": "Student_27",
         "text": [
          "Student_27"
         ],
         "type": "scatter",
         "uid": "43f32c12-e411-11e8-a1d0-d7b4c6107baf",
         "x": [
          1
         ],
         "y": [
          50
         ]
        },
        {
         "marker": {
          "color": "rgb(127,0,127)",
          "colorscale": "Viridis",
          "line": {
           "width": 2
          },
          "size": 12,
          "symbol": 2
         },
         "mode": "markers",
         "name": "Student_28",
         "text": [
          "Student_28"
         ],
         "type": "scatter",
         "uid": "43f32c94-e411-11e8-a1d0-d7b4c6107baf",
         "x": [
          2
         ],
         "y": [
          46
         ]
        },
        {
         "marker": {
          "color": "rgb(0,0,255)",
          "colorscale": "Viridis",
          "line": {
           "width": 2
          },
          "size": 12,
          "symbol": 3
         },
         "mode": "markers",
         "name": "Student_29",
         "text": [
          "Student_29"
         ],
         "type": "scatter",
         "uid": "43f32d16-e411-11e8-a1d0-d7b4c6107baf",
         "x": [
          6
         ],
         "y": [
          76
         ]
        },
        {
         "marker": {
          "color": "rgb(0,0,255)",
          "colorscale": "Viridis",
          "line": {
           "width": 2
          },
          "size": 12,
          "symbol": 3
         },
         "mode": "markers",
         "name": "Student_30",
         "text": [
          "Student_30"
         ],
         "type": "scatter",
         "uid": "43f32d8e-e411-11e8-a1d0-d7b4c6107baf",
         "x": [
          7
         ],
         "y": [
          67
         ]
        },
        {
         "marker": {
          "color": "rgb(127,0,127)",
          "colorscale": "Viridis",
          "line": {
           "width": 2
          },
          "size": 12,
          "symbol": 2
         },
         "mode": "markers",
         "name": "Student_31",
         "text": [
          "Student_31"
         ],
         "type": "scatter",
         "uid": "43f32e10-e411-11e8-a1d0-d7b4c6107baf",
         "x": [
          0
         ],
         "y": [
          48
         ]
        },
        {
         "marker": {
          "color": "rgb(255,0,0)",
          "colorscale": "Viridis",
          "line": {
           "width": 2
          },
          "size": 12,
          "symbol": 1
         },
         "mode": "markers",
         "name": "Student_32",
         "text": [
          "Student_32"
         ],
         "type": "scatter",
         "uid": "43f32e88-e411-11e8-a1d0-d7b4c6107baf",
         "x": [
          2
         ],
         "y": [
          22
         ]
        },
        {
         "marker": {
          "color": "rgb(0,255,0)",
          "colorscale": "Viridis",
          "line": {
           "width": 2
          },
          "size": 12,
          "symbol": 0
         },
         "mode": "markers",
         "name": "Student_33",
         "text": [
          "Student_33"
         ],
         "type": "scatter",
         "uid": "43f32f0a-e411-11e8-a1d0-d7b4c6107baf",
         "x": [
          4
         ],
         "y": [
          85
         ]
        },
        {
         "marker": {
          "color": "rgb(127,0,127)",
          "colorscale": "Viridis",
          "line": {
           "width": 2
          },
          "size": 12,
          "symbol": 2
         },
         "mode": "markers",
         "name": "Student_34",
         "text": [
          "Student_34"
         ],
         "type": "scatter",
         "uid": "43f32f8c-e411-11e8-a1d0-d7b4c6107baf",
         "x": [
          2
         ],
         "y": [
          57
         ]
        },
        {
         "marker": {
          "color": "rgb(0,0,255)",
          "colorscale": "Viridis",
          "line": {
           "width": 2
          },
          "size": 12,
          "symbol": 3
         },
         "mode": "markers",
         "name": "Student_35",
         "text": [
          "Student_35"
         ],
         "type": "scatter",
         "uid": "43f33004-e411-11e8-a1d0-d7b4c6107baf",
         "x": [
          6
         ],
         "y": [
          65
         ]
        },
        {
         "marker": {
          "color": "rgb(0,0,255)",
          "colorscale": "Viridis",
          "line": {
           "width": 2
          },
          "size": 12,
          "symbol": 3
         },
         "mode": "markers",
         "name": "Student_36",
         "text": [
          "Student_36"
         ],
         "type": "scatter",
         "uid": "43f3307c-e411-11e8-a1d0-d7b4c6107baf",
         "x": [
          1
         ],
         "y": [
          63
         ]
        },
        {
         "marker": {
          "color": "rgb(255,0,0)",
          "colorscale": "Viridis",
          "line": {
           "width": 2
          },
          "size": 12,
          "symbol": 1
         },
         "mode": "markers",
         "name": "Student_37",
         "text": [
          "Student_37"
         ],
         "type": "scatter",
         "uid": "43f330f4-e411-11e8-a1d0-d7b4c6107baf",
         "x": [
          2
         ],
         "y": [
          36
         ]
        },
        {
         "marker": {
          "color": "rgb(127,0,127)",
          "colorscale": "Viridis",
          "line": {
           "width": 2
          },
          "size": 12,
          "symbol": 2
         },
         "mode": "markers",
         "name": "Student_38",
         "text": [
          "Student_38"
         ],
         "type": "scatter",
         "uid": "43f33176-e411-11e8-a1d0-d7b4c6107baf",
         "x": [
          2
         ],
         "y": [
          51
         ]
        },
        {
         "marker": {
          "color": "rgb(0,255,0)",
          "colorscale": "Viridis",
          "line": {
           "width": 2
          },
          "size": 12,
          "symbol": 0
         },
         "mode": "markers",
         "name": "Student_39",
         "text": [
          "Student_39"
         ],
         "type": "scatter",
         "uid": "43f331ee-e411-11e8-a1d0-d7b4c6107baf",
         "x": [
          8
         ],
         "y": [
          88
         ]
        },
        {
         "marker": {
          "color": "rgb(255,0,0)",
          "colorscale": "Viridis",
          "line": {
           "width": 2
          },
          "size": 12,
          "symbol": 1
         },
         "mode": "markers",
         "name": "Student_40",
         "text": [
          "Student_40"
         ],
         "type": "scatter",
         "uid": "43f33266-e411-11e8-a1d0-d7b4c6107baf",
         "x": [
          3
         ],
         "y": [
          18
         ]
        },
        {
         "marker": {
          "color": "rgb(0,255,0)",
          "colorscale": "Viridis",
          "line": {
           "width": 2
          },
          "size": 12,
          "symbol": 0
         },
         "mode": "markers",
         "name": "Student_41",
         "text": [
          "Student_41"
         ],
         "type": "scatter",
         "uid": "43f332de-e411-11e8-a1d0-d7b4c6107baf",
         "x": [
          8
         ],
         "y": [
          94
         ]
        },
        {
         "marker": {
          "color": "rgb(255,0,0)",
          "colorscale": "Viridis",
          "line": {
           "width": 2
          },
          "size": 12,
          "symbol": 1
         },
         "mode": "markers",
         "name": "Student_42",
         "text": [
          "Student_42"
         ],
         "type": "scatter",
         "uid": "43f33360-e411-11e8-a1d0-d7b4c6107baf",
         "x": [
          3
         ],
         "y": [
          25
         ]
        },
        {
         "marker": {
          "color": "rgb(255,0,0)",
          "colorscale": "Viridis",
          "line": {
           "width": 2
          },
          "size": 12,
          "symbol": 1
         },
         "mode": "markers",
         "name": "Student_43",
         "text": [
          "Student_43"
         ],
         "type": "scatter",
         "uid": "43f333d8-e411-11e8-a1d0-d7b4c6107baf",
         "x": [
          1
         ],
         "y": [
          25
         ]
        },
        {
         "marker": {
          "color": "rgb(0,0,255)",
          "colorscale": "Viridis",
          "line": {
           "width": 2
          },
          "size": 12,
          "symbol": 3
         },
         "mode": "markers",
         "name": "Student_44",
         "text": [
          "Student_44"
         ],
         "type": "scatter",
         "uid": "43f33450-e411-11e8-a1d0-d7b4c6107baf",
         "x": [
          2
         ],
         "y": [
          70
         ]
        },
        {
         "marker": {
          "color": "rgb(127,0,127)",
          "colorscale": "Viridis",
          "line": {
           "width": 2
          },
          "size": 12,
          "symbol": 2
         },
         "mode": "markers",
         "name": "Student_45",
         "text": [
          "Student_45"
         ],
         "type": "scatter",
         "uid": "43f334c8-e411-11e8-a1d0-d7b4c6107baf",
         "x": [
          2
         ],
         "y": [
          46
         ]
        },
        {
         "marker": {
          "color": "rgb(255,0,0)",
          "colorscale": "Viridis",
          "line": {
           "width": 2
          },
          "size": 12,
          "symbol": 1
         },
         "mode": "markers",
         "name": "Student_46",
         "text": [
          "Student_46"
         ],
         "type": "scatter",
         "uid": "43f33540-e411-11e8-a1d0-d7b4c6107baf",
         "x": [
          1
         ],
         "y": [
          28
         ]
        },
        {
         "marker": {
          "color": "rgb(0,0,255)",
          "colorscale": "Viridis",
          "line": {
           "width": 2
          },
          "size": 12,
          "symbol": 3
         },
         "mode": "markers",
         "name": "Student_47",
         "text": [
          "Student_47"
         ],
         "type": "scatter",
         "uid": "43f335b8-e411-11e8-a1d0-d7b4c6107baf",
         "x": [
          3
         ],
         "y": [
          68
         ]
        },
        {
         "marker": {
          "color": "rgb(127,0,127)",
          "colorscale": "Viridis",
          "line": {
           "width": 2
          },
          "size": 12,
          "symbol": 2
         },
         "mode": "markers",
         "name": "Student_48",
         "text": [
          "Student_48"
         ],
         "type": "scatter",
         "uid": "43f33630-e411-11e8-a1d0-d7b4c6107baf",
         "x": [
          1
         ],
         "y": [
          40
         ]
        },
        {
         "marker": {
          "color": "rgb(0,0,255)",
          "colorscale": "Viridis",
          "line": {
           "width": 2
          },
          "size": 12,
          "symbol": 3
         },
         "mode": "markers",
         "name": "Student_49",
         "text": [
          "Student_49"
         ],
         "type": "scatter",
         "uid": "43f336a8-e411-11e8-a1d0-d7b4c6107baf",
         "x": [
          0
         ],
         "y": [
          79
         ]
        },
        {
         "marker": {
          "color": "rgb(255,0,0)",
          "colorscale": "Viridis",
          "line": {
           "width": 2
          },
          "size": 12,
          "symbol": 1
         },
         "mode": "markers",
         "name": "Student_50",
         "text": [
          "Student_50"
         ],
         "type": "scatter",
         "uid": "43f33720-e411-11e8-a1d0-d7b4c6107baf",
         "x": [
          1
         ],
         "y": [
          37
         ]
        },
        {
         "marker": {
          "color": "rgb(0,0,255)",
          "colorscale": "Viridis",
          "line": {
           "width": 2
          },
          "size": 12,
          "symbol": 3
         },
         "mode": "markers",
         "name": "Student_51",
         "text": [
          "Student_51"
         ],
         "type": "scatter",
         "uid": "43f33798-e411-11e8-a1d0-d7b4c6107baf",
         "x": [
          7
         ],
         "y": [
          64
         ]
        },
        {
         "marker": {
          "color": "rgb(255,0,0)",
          "colorscale": "Viridis",
          "line": {
           "width": 2
          },
          "size": 12,
          "symbol": 1
         },
         "mode": "markers",
         "name": "Student_52",
         "text": [
          "Student_52"
         ],
         "type": "scatter",
         "uid": "43f33810-e411-11e8-a1d0-d7b4c6107baf",
         "x": [
          1
         ],
         "y": [
          7
         ]
        },
        {
         "marker": {
          "color": "rgb(0,0,255)",
          "colorscale": "Viridis",
          "line": {
           "width": 2
          },
          "size": 12,
          "symbol": 3
         },
         "mode": "markers",
         "name": "Student_53",
         "text": [
          "Student_53"
         ],
         "type": "scatter",
         "uid": "43f33888-e411-11e8-a1d0-d7b4c6107baf",
         "x": [
          7
         ],
         "y": [
          64
         ]
        },
        {
         "marker": {
          "color": "rgb(127,0,127)",
          "colorscale": "Viridis",
          "line": {
           "width": 2
          },
          "size": 12,
          "symbol": 2
         },
         "mode": "markers",
         "name": "Student_54",
         "text": [
          "Student_54"
         ],
         "type": "scatter",
         "uid": "43f33900-e411-11e8-a1d0-d7b4c6107baf",
         "x": [
          0
         ],
         "y": [
          40
         ]
        },
        {
         "marker": {
          "color": "rgb(127,0,127)",
          "colorscale": "Viridis",
          "line": {
           "width": 2
          },
          "size": 12,
          "symbol": 2
         },
         "mode": "markers",
         "name": "Student_55",
         "text": [
          "Student_55"
         ],
         "type": "scatter",
         "uid": "43f3396e-e411-11e8-a1d0-d7b4c6107baf",
         "x": [
          3
         ],
         "y": [
          54
         ]
        },
        {
         "marker": {
          "color": "rgb(255,0,0)",
          "colorscale": "Viridis",
          "line": {
           "width": 2
          },
          "size": 12,
          "symbol": 1
         },
         "mode": "markers",
         "name": "Student_56",
         "text": [
          "Student_56"
         ],
         "type": "scatter",
         "uid": "43f339e6-e411-11e8-a1d0-d7b4c6107baf",
         "x": [
          3
         ],
         "y": [
          26
         ]
        },
        {
         "marker": {
          "color": "rgb(0,255,0)",
          "colorscale": "Viridis",
          "line": {
           "width": 2
          },
          "size": 12,
          "symbol": 0
         },
         "mode": "markers",
         "name": "Student_57",
         "text": [
          "Student_57"
         ],
         "type": "scatter",
         "uid": "43f33a5e-e411-11e8-a1d0-d7b4c6107baf",
         "x": [
          2
         ],
         "y": [
          86
         ]
        },
        {
         "marker": {
          "color": "rgb(0,255,0)",
          "colorscale": "Viridis",
          "line": {
           "width": 2
          },
          "size": 12,
          "symbol": 0
         },
         "mode": "markers",
         "name": "Student_58",
         "text": [
          "Student_58"
         ],
         "type": "scatter",
         "uid": "43f33acc-e411-11e8-a1d0-d7b4c6107baf",
         "x": [
          0
         ],
         "y": [
          74
         ]
        },
        {
         "marker": {
          "color": "rgb(0,0,255)",
          "colorscale": "Viridis",
          "line": {
           "width": 2
          },
          "size": 12,
          "symbol": 3
         },
         "mode": "markers",
         "name": "Student_59",
         "text": [
          "Student_59"
         ],
         "type": "scatter",
         "uid": "43f33b44-e411-11e8-a1d0-d7b4c6107baf",
         "x": [
          3
         ],
         "y": [
          70
         ]
        },
        {
         "marker": {
          "color": "rgb(0,0,255)",
          "colorscale": "Viridis",
          "line": {
           "width": 2
          },
          "size": 12,
          "symbol": 3
         },
         "mode": "markers",
         "name": "Student_60",
         "text": [
          "Student_60"
         ],
         "type": "scatter",
         "uid": "43f33bb2-e411-11e8-a1d0-d7b4c6107baf",
         "x": [
          0
         ],
         "y": [
          78
         ]
        }
       ],
       "layout": {
        "hovermode": "closest",
        "showlegend": true,
        "title": "Notas dos estudantes vs threads iniciadas no fórum",
        "xaxis": {
         "autorange": false,
         "fixedrange": false,
         "range": [
          0,
          19
         ],
         "rangemode": "normal",
         "showline": true,
         "title": "Threads iniciadas no fórum",
         "zeroline": false
        },
        "yaxis": {
         "autorange": false,
         "fixedrange": false,
         "range": [
          0,
          104
         ],
         "rangemode": "normal",
         "showline": true,
         "title": "Notas"
        }
       }
      },
      "text/html": [
       "<div id=\"8f64b566-03f1-4c34-ab3d-1fbc72448dfb\" style=\"height: 525px; width: 100%;\" class=\"plotly-graph-div\"></div><script type=\"text/javascript\">require([\"plotly\"], function(Plotly) { window.PLOTLYENV=window.PLOTLYENV || {};window.PLOTLYENV.BASE_URL=\"https://plot.ly\";Plotly.newPlot(\"8f64b566-03f1-4c34-ab3d-1fbc72448dfb\", [{\"marker\": {\"color\": \"rgb(255,0,0)\", \"colorscale\": \"Viridis\", \"line\": {\"width\": 2}, \"size\": 12, \"symbol\": 1}, \"mode\": \"markers\", \"name\": \"Student_1\", \"text\": [\"Student_1\"], \"x\": [3], \"y\": [5], \"type\": \"scatter\", \"uid\": \"43f31dc6-e411-11e8-a1d0-d7b4c6107baf\"}, {\"marker\": {\"color\": \"rgb(0,255,0)\", \"colorscale\": \"Viridis\", \"line\": {\"width\": 2}, \"size\": 12, \"symbol\": 0}, \"mode\": \"markers\", \"name\": \"Student_2\", \"text\": [\"Student_2\"], \"x\": [6], \"y\": [92], \"type\": \"scatter\", \"uid\": \"43f31f60-e411-11e8-a1d0-d7b4c6107baf\"}, {\"marker\": {\"color\": \"rgb(0,255,0)\", \"colorscale\": \"Viridis\", \"line\": {\"width\": 2}, \"size\": 12, \"symbol\": 0}, \"mode\": \"markers\", \"name\": \"Student_3\", \"text\": [\"Student_3\"], \"x\": [9], \"y\": [82], \"type\": \"scatter\", \"uid\": \"43f32014-e411-11e8-a1d0-d7b4c6107baf\"}, {\"marker\": {\"color\": \"rgb(127,0,127)\", \"colorscale\": \"Viridis\", \"line\": {\"width\": 2}, \"size\": 12, \"symbol\": 2}, \"mode\": \"markers\", \"name\": \"Student_4\", \"text\": [\"Student_4\"], \"x\": [2], \"y\": [58], \"type\": \"scatter\", \"uid\": \"43f320aa-e411-11e8-a1d0-d7b4c6107baf\"}, {\"marker\": {\"color\": \"rgb(0,255,0)\", \"colorscale\": \"Viridis\", \"line\": {\"width\": 2}, \"size\": 12, \"symbol\": 0}, \"mode\": \"markers\", \"name\": \"Student_5\", \"text\": [\"Student_5\"], \"x\": [2], \"y\": [77], \"type\": \"scatter\", \"uid\": \"43f3212c-e411-11e8-a1d0-d7b4c6107baf\"}, {\"marker\": {\"color\": \"rgb(0,255,0)\", \"colorscale\": \"Viridis\", \"line\": {\"width\": 2}, \"size\": 12, \"symbol\": 0}, \"mode\": \"markers\", \"name\": \"Student_6\", \"text\": [\"Student_6\"], \"x\": [1], \"y\": [87], \"type\": \"scatter\", \"uid\": \"43f321ae-e411-11e8-a1d0-d7b4c6107baf\"}, {\"marker\": {\"color\": \"rgb(0,255,0)\", \"colorscale\": \"Viridis\", \"line\": {\"width\": 2}, \"size\": 12, \"symbol\": 0}, \"mode\": \"markers\", \"name\": \"Student_7\", \"text\": [\"Student_7\"], \"x\": [1], \"y\": [74], \"type\": \"scatter\", \"uid\": \"43f32230-e411-11e8-a1d0-d7b4c6107baf\"}, {\"marker\": {\"color\": \"rgb(255,0,0)\", \"colorscale\": \"Viridis\", \"line\": {\"width\": 2}, \"size\": 12, \"symbol\": 1}, \"mode\": \"markers\", \"name\": \"Student_8\", \"text\": [\"Student_8\"], \"x\": [1], \"y\": [14], \"type\": \"scatter\", \"uid\": \"43f322b2-e411-11e8-a1d0-d7b4c6107baf\"}, {\"marker\": {\"color\": \"rgb(0,0,255)\", \"colorscale\": \"Viridis\", \"line\": {\"width\": 2}, \"size\": 12, \"symbol\": 3}, \"mode\": \"markers\", \"name\": \"Student_9\", \"text\": [\"Student_9\"], \"x\": [2], \"y\": [59], \"type\": \"scatter\", \"uid\": \"43f32334-e411-11e8-a1d0-d7b4c6107baf\"}, {\"marker\": {\"color\": \"rgb(127,0,127)\", \"colorscale\": \"Viridis\", \"line\": {\"width\": 2}, \"size\": 12, \"symbol\": 2}, \"mode\": \"markers\", \"name\": \"Student_10\", \"text\": [\"Student_10\"], \"x\": [0], \"y\": [39], \"type\": \"scatter\", \"uid\": \"43f323b6-e411-11e8-a1d0-d7b4c6107baf\"}, {\"marker\": {\"color\": \"rgb(0,255,0)\", \"colorscale\": \"Viridis\", \"line\": {\"width\": 2}, \"size\": 12, \"symbol\": 0}, \"mode\": \"markers\", \"name\": \"Student_11\", \"text\": [\"Student_11\"], \"x\": [3], \"y\": [94], \"type\": \"scatter\", \"uid\": \"43f32438-e411-11e8-a1d0-d7b4c6107baf\"}, {\"marker\": {\"color\": \"rgb(127,0,127)\", \"colorscale\": \"Viridis\", \"line\": {\"width\": 2}, \"size\": 12, \"symbol\": 2}, \"mode\": \"markers\", \"name\": \"Student_12\", \"text\": [\"Student_12\"], \"x\": [3], \"y\": [43], \"type\": \"scatter\", \"uid\": \"43f324ba-e411-11e8-a1d0-d7b4c6107baf\"}, {\"marker\": {\"color\": \"rgb(127,0,127)\", \"colorscale\": \"Viridis\", \"line\": {\"width\": 2}, \"size\": 12, \"symbol\": 2}, \"mode\": \"markers\", \"name\": \"Student_13\", \"text\": [\"Student_13\"], \"x\": [3], \"y\": [42], \"type\": \"scatter\", \"uid\": \"43f32532-e411-11e8-a1d0-d7b4c6107baf\"}, {\"marker\": {\"color\": \"rgb(0,0,255)\", \"colorscale\": \"Viridis\", \"line\": {\"width\": 2}, \"size\": 12, \"symbol\": 3}, \"mode\": \"markers\", \"name\": \"Student_14\", \"text\": [\"Student_14\"], \"x\": [1], \"y\": [67], \"type\": \"scatter\", \"uid\": \"43f325b4-e411-11e8-a1d0-d7b4c6107baf\"}, {\"marker\": {\"color\": \"rgb(127,0,127)\", \"colorscale\": \"Viridis\", \"line\": {\"width\": 2}, \"size\": 12, \"symbol\": 2}, \"mode\": \"markers\", \"name\": \"Student_15\", \"text\": [\"Student_15\"], \"x\": [0], \"y\": [53], \"type\": \"scatter\", \"uid\": \"43f3262c-e411-11e8-a1d0-d7b4c6107baf\"}, {\"marker\": {\"color\": \"rgb(0,0,255)\", \"colorscale\": \"Viridis\", \"line\": {\"width\": 2}, \"size\": 12, \"symbol\": 3}, \"mode\": \"markers\", \"name\": \"Student_16\", \"text\": [\"Student_16\"], \"x\": [3], \"y\": [63], \"type\": \"scatter\", \"uid\": \"43f326ae-e411-11e8-a1d0-d7b4c6107baf\"}, {\"marker\": {\"color\": \"rgb(0,0,255)\", \"colorscale\": \"Viridis\", \"line\": {\"width\": 2}, \"size\": 12, \"symbol\": 3}, \"mode\": \"markers\", \"name\": \"Student_17\", \"text\": [\"Student_17\"], \"x\": [1], \"y\": [69], \"type\": \"scatter\", \"uid\": \"43f32730-e411-11e8-a1d0-d7b4c6107baf\"}, {\"marker\": {\"color\": \"rgb(255,0,0)\", \"colorscale\": \"Viridis\", \"line\": {\"width\": 2}, \"size\": 12, \"symbol\": 1}, \"mode\": \"markers\", \"name\": \"Student_18\", \"text\": [\"Student_18\"], \"x\": [1], \"y\": [31], \"type\": \"scatter\", \"uid\": \"43f327a8-e411-11e8-a1d0-d7b4c6107baf\"}, {\"marker\": {\"color\": \"rgb(0,255,0)\", \"colorscale\": \"Viridis\", \"line\": {\"width\": 2}, \"size\": 12, \"symbol\": 0}, \"mode\": \"markers\", \"name\": \"Student_19\", \"text\": [\"Student_19\"], \"x\": [3], \"y\": [81], \"type\": \"scatter\", \"uid\": \"43f3282a-e411-11e8-a1d0-d7b4c6107baf\"}, {\"marker\": {\"color\": \"rgb(127,0,127)\", \"colorscale\": \"Viridis\", \"line\": {\"width\": 2}, \"size\": 12, \"symbol\": 2}, \"mode\": \"markers\", \"name\": \"Student_20\", \"text\": [\"Student_20\"], \"x\": [0], \"y\": [46], \"type\": \"scatter\", \"uid\": \"43f328ac-e411-11e8-a1d0-d7b4c6107baf\"}, {\"marker\": {\"color\": \"rgb(255,0,0)\", \"colorscale\": \"Viridis\", \"line\": {\"width\": 2}, \"size\": 12, \"symbol\": 1}, \"mode\": \"markers\", \"name\": \"Student_21\", \"text\": [\"Student_21\"], \"x\": [1], \"y\": [22], \"type\": \"scatter\", \"uid\": \"43f32924-e411-11e8-a1d0-d7b4c6107baf\"}, {\"marker\": {\"color\": \"rgb(0,0,255)\", \"colorscale\": \"Viridis\", \"line\": {\"width\": 2}, \"size\": 12, \"symbol\": 3}, \"mode\": \"markers\", \"name\": \"Student_22\", \"text\": [\"Student_22\"], \"x\": [1], \"y\": [56], \"type\": \"scatter\", \"uid\": \"43f32992-e411-11e8-a1d0-d7b4c6107baf\"}, {\"marker\": {\"color\": \"rgb(0,0,255)\", \"colorscale\": \"Viridis\", \"line\": {\"width\": 2}, \"size\": 12, \"symbol\": 3}, \"mode\": \"markers\", \"name\": \"Student_23\", \"text\": [\"Student_23\"], \"x\": [7], \"y\": [63], \"type\": \"scatter\", \"uid\": \"43f32a0a-e411-11e8-a1d0-d7b4c6107baf\"}, {\"marker\": {\"color\": \"rgb(127,0,127)\", \"colorscale\": \"Viridis\", \"line\": {\"width\": 2}, \"size\": 12, \"symbol\": 2}, \"mode\": \"markers\", \"name\": \"Student_24\", \"text\": [\"Student_24\"], \"x\": [3], \"y\": [47], \"type\": \"scatter\", \"uid\": \"43f32a82-e411-11e8-a1d0-d7b4c6107baf\"}, {\"marker\": {\"color\": \"rgb(0,0,255)\", \"colorscale\": \"Viridis\", \"line\": {\"width\": 2}, \"size\": 12, \"symbol\": 3}, \"mode\": \"markers\", \"name\": \"Student_25\", \"text\": [\"Student_25\"], \"x\": [0], \"y\": [73], \"type\": \"scatter\", \"uid\": \"43f32afa-e411-11e8-a1d0-d7b4c6107baf\"}, {\"marker\": {\"color\": \"rgb(255,0,0)\", \"colorscale\": \"Viridis\", \"line\": {\"width\": 2}, \"size\": 12, \"symbol\": 1}, \"mode\": \"markers\", \"name\": \"Student_26\", \"text\": [\"Student_26\"], \"x\": [3], \"y\": [33], \"type\": \"scatter\", \"uid\": \"43f32b7c-e411-11e8-a1d0-d7b4c6107baf\"}, {\"marker\": {\"color\": \"rgb(127,0,127)\", \"colorscale\": \"Viridis\", \"line\": {\"width\": 2}, \"size\": 12, \"symbol\": 2}, \"mode\": \"markers\", \"name\": \"Student_27\", \"text\": [\"Student_27\"], \"x\": [1], \"y\": [50], \"type\": \"scatter\", \"uid\": \"43f32c12-e411-11e8-a1d0-d7b4c6107baf\"}, {\"marker\": {\"color\": \"rgb(127,0,127)\", \"colorscale\": \"Viridis\", \"line\": {\"width\": 2}, \"size\": 12, \"symbol\": 2}, \"mode\": \"markers\", \"name\": \"Student_28\", \"text\": [\"Student_28\"], \"x\": [2], \"y\": [46], \"type\": \"scatter\", \"uid\": \"43f32c94-e411-11e8-a1d0-d7b4c6107baf\"}, {\"marker\": {\"color\": \"rgb(0,0,255)\", \"colorscale\": \"Viridis\", \"line\": {\"width\": 2}, \"size\": 12, \"symbol\": 3}, \"mode\": \"markers\", \"name\": \"Student_29\", \"text\": [\"Student_29\"], \"x\": [6], \"y\": [76], \"type\": \"scatter\", \"uid\": \"43f32d16-e411-11e8-a1d0-d7b4c6107baf\"}, {\"marker\": {\"color\": \"rgb(0,0,255)\", \"colorscale\": \"Viridis\", \"line\": {\"width\": 2}, \"size\": 12, \"symbol\": 3}, \"mode\": \"markers\", \"name\": \"Student_30\", \"text\": [\"Student_30\"], \"x\": [7], \"y\": [67], \"type\": \"scatter\", \"uid\": \"43f32d8e-e411-11e8-a1d0-d7b4c6107baf\"}, {\"marker\": {\"color\": \"rgb(127,0,127)\", \"colorscale\": \"Viridis\", \"line\": {\"width\": 2}, \"size\": 12, \"symbol\": 2}, \"mode\": \"markers\", \"name\": \"Student_31\", \"text\": [\"Student_31\"], \"x\": [0], \"y\": [48], \"type\": \"scatter\", \"uid\": \"43f32e10-e411-11e8-a1d0-d7b4c6107baf\"}, {\"marker\": {\"color\": \"rgb(255,0,0)\", \"colorscale\": \"Viridis\", \"line\": {\"width\": 2}, \"size\": 12, \"symbol\": 1}, \"mode\": \"markers\", \"name\": \"Student_32\", \"text\": [\"Student_32\"], \"x\": [2], \"y\": [22], \"type\": \"scatter\", \"uid\": \"43f32e88-e411-11e8-a1d0-d7b4c6107baf\"}, {\"marker\": {\"color\": \"rgb(0,255,0)\", \"colorscale\": \"Viridis\", \"line\": {\"width\": 2}, \"size\": 12, \"symbol\": 0}, \"mode\": \"markers\", \"name\": \"Student_33\", \"text\": [\"Student_33\"], \"x\": [4], \"y\": [85], \"type\": \"scatter\", \"uid\": \"43f32f0a-e411-11e8-a1d0-d7b4c6107baf\"}, {\"marker\": {\"color\": \"rgb(127,0,127)\", \"colorscale\": \"Viridis\", \"line\": {\"width\": 2}, \"size\": 12, \"symbol\": 2}, \"mode\": \"markers\", \"name\": \"Student_34\", \"text\": [\"Student_34\"], \"x\": [2], \"y\": [57], \"type\": \"scatter\", \"uid\": \"43f32f8c-e411-11e8-a1d0-d7b4c6107baf\"}, {\"marker\": {\"color\": \"rgb(0,0,255)\", \"colorscale\": \"Viridis\", \"line\": {\"width\": 2}, \"size\": 12, \"symbol\": 3}, \"mode\": \"markers\", \"name\": \"Student_35\", \"text\": [\"Student_35\"], \"x\": [6], \"y\": [65], \"type\": \"scatter\", \"uid\": \"43f33004-e411-11e8-a1d0-d7b4c6107baf\"}, {\"marker\": {\"color\": \"rgb(0,0,255)\", \"colorscale\": \"Viridis\", \"line\": {\"width\": 2}, \"size\": 12, \"symbol\": 3}, \"mode\": \"markers\", \"name\": \"Student_36\", \"text\": [\"Student_36\"], \"x\": [1], \"y\": [63], \"type\": \"scatter\", \"uid\": \"43f3307c-e411-11e8-a1d0-d7b4c6107baf\"}, {\"marker\": {\"color\": \"rgb(255,0,0)\", \"colorscale\": \"Viridis\", \"line\": {\"width\": 2}, \"size\": 12, \"symbol\": 1}, \"mode\": \"markers\", \"name\": \"Student_37\", \"text\": [\"Student_37\"], \"x\": [2], \"y\": [36], \"type\": \"scatter\", \"uid\": \"43f330f4-e411-11e8-a1d0-d7b4c6107baf\"}, {\"marker\": {\"color\": \"rgb(127,0,127)\", \"colorscale\": \"Viridis\", \"line\": {\"width\": 2}, \"size\": 12, \"symbol\": 2}, \"mode\": \"markers\", \"name\": \"Student_38\", \"text\": [\"Student_38\"], \"x\": [2], \"y\": [51], \"type\": \"scatter\", \"uid\": \"43f33176-e411-11e8-a1d0-d7b4c6107baf\"}, {\"marker\": {\"color\": \"rgb(0,255,0)\", \"colorscale\": \"Viridis\", \"line\": {\"width\": 2}, \"size\": 12, \"symbol\": 0}, \"mode\": \"markers\", \"name\": \"Student_39\", \"text\": [\"Student_39\"], \"x\": [8], \"y\": [88], \"type\": \"scatter\", \"uid\": \"43f331ee-e411-11e8-a1d0-d7b4c6107baf\"}, {\"marker\": {\"color\": \"rgb(255,0,0)\", \"colorscale\": \"Viridis\", \"line\": {\"width\": 2}, \"size\": 12, \"symbol\": 1}, \"mode\": \"markers\", \"name\": \"Student_40\", \"text\": [\"Student_40\"], \"x\": [3], \"y\": [18], \"type\": \"scatter\", \"uid\": \"43f33266-e411-11e8-a1d0-d7b4c6107baf\"}, {\"marker\": {\"color\": \"rgb(0,255,0)\", \"colorscale\": \"Viridis\", \"line\": {\"width\": 2}, \"size\": 12, \"symbol\": 0}, \"mode\": \"markers\", \"name\": \"Student_41\", \"text\": [\"Student_41\"], \"x\": [8], \"y\": [94], \"type\": \"scatter\", \"uid\": \"43f332de-e411-11e8-a1d0-d7b4c6107baf\"}, {\"marker\": {\"color\": \"rgb(255,0,0)\", \"colorscale\": \"Viridis\", \"line\": {\"width\": 2}, \"size\": 12, \"symbol\": 1}, \"mode\": \"markers\", \"name\": \"Student_42\", \"text\": [\"Student_42\"], \"x\": [3], \"y\": [25], \"type\": \"scatter\", \"uid\": \"43f33360-e411-11e8-a1d0-d7b4c6107baf\"}, {\"marker\": {\"color\": \"rgb(255,0,0)\", \"colorscale\": \"Viridis\", \"line\": {\"width\": 2}, \"size\": 12, \"symbol\": 1}, \"mode\": \"markers\", \"name\": \"Student_43\", \"text\": [\"Student_43\"], \"x\": [1], \"y\": [25], \"type\": \"scatter\", \"uid\": \"43f333d8-e411-11e8-a1d0-d7b4c6107baf\"}, {\"marker\": {\"color\": \"rgb(0,0,255)\", \"colorscale\": \"Viridis\", \"line\": {\"width\": 2}, \"size\": 12, \"symbol\": 3}, \"mode\": \"markers\", \"name\": \"Student_44\", \"text\": [\"Student_44\"], \"x\": [2], \"y\": [70], \"type\": \"scatter\", \"uid\": \"43f33450-e411-11e8-a1d0-d7b4c6107baf\"}, {\"marker\": {\"color\": \"rgb(127,0,127)\", \"colorscale\": \"Viridis\", \"line\": {\"width\": 2}, \"size\": 12, \"symbol\": 2}, \"mode\": \"markers\", \"name\": \"Student_45\", \"text\": [\"Student_45\"], \"x\": [2], \"y\": [46], \"type\": \"scatter\", \"uid\": \"43f334c8-e411-11e8-a1d0-d7b4c6107baf\"}, {\"marker\": {\"color\": \"rgb(255,0,0)\", \"colorscale\": \"Viridis\", \"line\": {\"width\": 2}, \"size\": 12, \"symbol\": 1}, \"mode\": \"markers\", \"name\": \"Student_46\", \"text\": [\"Student_46\"], \"x\": [1], \"y\": [28], \"type\": \"scatter\", \"uid\": \"43f33540-e411-11e8-a1d0-d7b4c6107baf\"}, {\"marker\": {\"color\": \"rgb(0,0,255)\", \"colorscale\": \"Viridis\", \"line\": {\"width\": 2}, \"size\": 12, \"symbol\": 3}, \"mode\": \"markers\", \"name\": \"Student_47\", \"text\": [\"Student_47\"], \"x\": [3], \"y\": [68], \"type\": \"scatter\", \"uid\": \"43f335b8-e411-11e8-a1d0-d7b4c6107baf\"}, {\"marker\": {\"color\": \"rgb(127,0,127)\", \"colorscale\": \"Viridis\", \"line\": {\"width\": 2}, \"size\": 12, \"symbol\": 2}, \"mode\": \"markers\", \"name\": \"Student_48\", \"text\": [\"Student_48\"], \"x\": [1], \"y\": [40], \"type\": \"scatter\", \"uid\": \"43f33630-e411-11e8-a1d0-d7b4c6107baf\"}, {\"marker\": {\"color\": \"rgb(0,0,255)\", \"colorscale\": \"Viridis\", \"line\": {\"width\": 2}, \"size\": 12, \"symbol\": 3}, \"mode\": \"markers\", \"name\": \"Student_49\", \"text\": [\"Student_49\"], \"x\": [0], \"y\": [79], \"type\": \"scatter\", \"uid\": \"43f336a8-e411-11e8-a1d0-d7b4c6107baf\"}, {\"marker\": {\"color\": \"rgb(255,0,0)\", \"colorscale\": \"Viridis\", \"line\": {\"width\": 2}, \"size\": 12, \"symbol\": 1}, \"mode\": \"markers\", \"name\": \"Student_50\", \"text\": [\"Student_50\"], \"x\": [1], \"y\": [37], \"type\": \"scatter\", \"uid\": \"43f33720-e411-11e8-a1d0-d7b4c6107baf\"}, {\"marker\": {\"color\": \"rgb(0,0,255)\", \"colorscale\": \"Viridis\", \"line\": {\"width\": 2}, \"size\": 12, \"symbol\": 3}, \"mode\": \"markers\", \"name\": \"Student_51\", \"text\": [\"Student_51\"], \"x\": [7], \"y\": [64], \"type\": \"scatter\", \"uid\": \"43f33798-e411-11e8-a1d0-d7b4c6107baf\"}, {\"marker\": {\"color\": \"rgb(255,0,0)\", \"colorscale\": \"Viridis\", \"line\": {\"width\": 2}, \"size\": 12, \"symbol\": 1}, \"mode\": \"markers\", \"name\": \"Student_52\", \"text\": [\"Student_52\"], \"x\": [1], \"y\": [7], \"type\": \"scatter\", \"uid\": \"43f33810-e411-11e8-a1d0-d7b4c6107baf\"}, {\"marker\": {\"color\": \"rgb(0,0,255)\", \"colorscale\": \"Viridis\", \"line\": {\"width\": 2}, \"size\": 12, \"symbol\": 3}, \"mode\": \"markers\", \"name\": \"Student_53\", \"text\": [\"Student_53\"], \"x\": [7], \"y\": [64], \"type\": \"scatter\", \"uid\": \"43f33888-e411-11e8-a1d0-d7b4c6107baf\"}, {\"marker\": {\"color\": \"rgb(127,0,127)\", \"colorscale\": \"Viridis\", \"line\": {\"width\": 2}, \"size\": 12, \"symbol\": 2}, \"mode\": \"markers\", \"name\": \"Student_54\", \"text\": [\"Student_54\"], \"x\": [0], \"y\": [40], \"type\": \"scatter\", \"uid\": \"43f33900-e411-11e8-a1d0-d7b4c6107baf\"}, {\"marker\": {\"color\": \"rgb(127,0,127)\", \"colorscale\": \"Viridis\", \"line\": {\"width\": 2}, \"size\": 12, \"symbol\": 2}, \"mode\": \"markers\", \"name\": \"Student_55\", \"text\": [\"Student_55\"], \"x\": [3], \"y\": [54], \"type\": \"scatter\", \"uid\": \"43f3396e-e411-11e8-a1d0-d7b4c6107baf\"}, {\"marker\": {\"color\": \"rgb(255,0,0)\", \"colorscale\": \"Viridis\", \"line\": {\"width\": 2}, \"size\": 12, \"symbol\": 1}, \"mode\": \"markers\", \"name\": \"Student_56\", \"text\": [\"Student_56\"], \"x\": [3], \"y\": [26], \"type\": \"scatter\", \"uid\": \"43f339e6-e411-11e8-a1d0-d7b4c6107baf\"}, {\"marker\": {\"color\": \"rgb(0,255,0)\", \"colorscale\": \"Viridis\", \"line\": {\"width\": 2}, \"size\": 12, \"symbol\": 0}, \"mode\": \"markers\", \"name\": \"Student_57\", \"text\": [\"Student_57\"], \"x\": [2], \"y\": [86], \"type\": \"scatter\", \"uid\": \"43f33a5e-e411-11e8-a1d0-d7b4c6107baf\"}, {\"marker\": {\"color\": \"rgb(0,255,0)\", \"colorscale\": \"Viridis\", \"line\": {\"width\": 2}, \"size\": 12, \"symbol\": 0}, \"mode\": \"markers\", \"name\": \"Student_58\", \"text\": [\"Student_58\"], \"x\": [0], \"y\": [74], \"type\": \"scatter\", \"uid\": \"43f33acc-e411-11e8-a1d0-d7b4c6107baf\"}, {\"marker\": {\"color\": \"rgb(0,0,255)\", \"colorscale\": \"Viridis\", \"line\": {\"width\": 2}, \"size\": 12, \"symbol\": 3}, \"mode\": \"markers\", \"name\": \"Student_59\", \"text\": [\"Student_59\"], \"x\": [3], \"y\": [70], \"type\": \"scatter\", \"uid\": \"43f33b44-e411-11e8-a1d0-d7b4c6107baf\"}, {\"marker\": {\"color\": \"rgb(0,0,255)\", \"colorscale\": \"Viridis\", \"line\": {\"width\": 2}, \"size\": 12, \"symbol\": 3}, \"mode\": \"markers\", \"name\": \"Student_60\", \"text\": [\"Student_60\"], \"x\": [0], \"y\": [78], \"type\": \"scatter\", \"uid\": \"43f33bb2-e411-11e8-a1d0-d7b4c6107baf\"}], {\"hovermode\": \"closest\", \"showlegend\": true, \"title\": \"Notas dos estudantes vs threads iniciadas no f\\u00f3rum\", \"xaxis\": {\"autorange\": false, \"fixedrange\": false, \"range\": [0, 19], \"rangemode\": \"normal\", \"showline\": true, \"title\": \"Threads iniciadas no f\\u00f3rum\", \"zeroline\": false}, \"yaxis\": {\"autorange\": false, \"fixedrange\": false, \"range\": [0, 104], \"rangemode\": \"normal\", \"showline\": true, \"title\": \"Notas\"}}, {\"showLink\": true, \"linkText\": \"Export to plot.ly\"})});</script>"
      ],
      "text/vnd.plotly.v1+html": [
       "<div id=\"8f64b566-03f1-4c34-ab3d-1fbc72448dfb\" style=\"height: 525px; width: 100%;\" class=\"plotly-graph-div\"></div><script type=\"text/javascript\">require([\"plotly\"], function(Plotly) { window.PLOTLYENV=window.PLOTLYENV || {};window.PLOTLYENV.BASE_URL=\"https://plot.ly\";Plotly.newPlot(\"8f64b566-03f1-4c34-ab3d-1fbc72448dfb\", [{\"marker\": {\"color\": \"rgb(255,0,0)\", \"colorscale\": \"Viridis\", \"line\": {\"width\": 2}, \"size\": 12, \"symbol\": 1}, \"mode\": \"markers\", \"name\": \"Student_1\", \"text\": [\"Student_1\"], \"x\": [3], \"y\": [5], \"type\": \"scatter\", \"uid\": \"43f31dc6-e411-11e8-a1d0-d7b4c6107baf\"}, {\"marker\": {\"color\": \"rgb(0,255,0)\", \"colorscale\": \"Viridis\", \"line\": {\"width\": 2}, \"size\": 12, \"symbol\": 0}, \"mode\": \"markers\", \"name\": \"Student_2\", \"text\": [\"Student_2\"], \"x\": [6], \"y\": [92], \"type\": \"scatter\", \"uid\": \"43f31f60-e411-11e8-a1d0-d7b4c6107baf\"}, {\"marker\": {\"color\": \"rgb(0,255,0)\", \"colorscale\": \"Viridis\", \"line\": {\"width\": 2}, \"size\": 12, \"symbol\": 0}, \"mode\": \"markers\", \"name\": \"Student_3\", \"text\": [\"Student_3\"], \"x\": [9], \"y\": [82], \"type\": \"scatter\", \"uid\": \"43f32014-e411-11e8-a1d0-d7b4c6107baf\"}, {\"marker\": {\"color\": \"rgb(127,0,127)\", \"colorscale\": \"Viridis\", \"line\": {\"width\": 2}, \"size\": 12, \"symbol\": 2}, \"mode\": \"markers\", \"name\": \"Student_4\", \"text\": [\"Student_4\"], \"x\": [2], \"y\": [58], \"type\": \"scatter\", \"uid\": \"43f320aa-e411-11e8-a1d0-d7b4c6107baf\"}, {\"marker\": {\"color\": \"rgb(0,255,0)\", \"colorscale\": \"Viridis\", \"line\": {\"width\": 2}, \"size\": 12, \"symbol\": 0}, \"mode\": \"markers\", \"name\": \"Student_5\", \"text\": [\"Student_5\"], \"x\": [2], \"y\": [77], \"type\": \"scatter\", \"uid\": \"43f3212c-e411-11e8-a1d0-d7b4c6107baf\"}, {\"marker\": {\"color\": \"rgb(0,255,0)\", \"colorscale\": \"Viridis\", \"line\": {\"width\": 2}, \"size\": 12, \"symbol\": 0}, \"mode\": \"markers\", \"name\": \"Student_6\", \"text\": [\"Student_6\"], \"x\": [1], \"y\": [87], \"type\": \"scatter\", \"uid\": \"43f321ae-e411-11e8-a1d0-d7b4c6107baf\"}, {\"marker\": {\"color\": \"rgb(0,255,0)\", \"colorscale\": \"Viridis\", \"line\": {\"width\": 2}, \"size\": 12, \"symbol\": 0}, \"mode\": \"markers\", \"name\": \"Student_7\", \"text\": [\"Student_7\"], \"x\": [1], \"y\": [74], \"type\": \"scatter\", \"uid\": \"43f32230-e411-11e8-a1d0-d7b4c6107baf\"}, {\"marker\": {\"color\": \"rgb(255,0,0)\", \"colorscale\": \"Viridis\", \"line\": {\"width\": 2}, \"size\": 12, \"symbol\": 1}, \"mode\": \"markers\", \"name\": \"Student_8\", \"text\": [\"Student_8\"], \"x\": [1], \"y\": [14], \"type\": \"scatter\", \"uid\": \"43f322b2-e411-11e8-a1d0-d7b4c6107baf\"}, {\"marker\": {\"color\": \"rgb(0,0,255)\", \"colorscale\": \"Viridis\", \"line\": {\"width\": 2}, \"size\": 12, \"symbol\": 3}, \"mode\": \"markers\", \"name\": \"Student_9\", \"text\": [\"Student_9\"], \"x\": [2], \"y\": [59], \"type\": \"scatter\", \"uid\": \"43f32334-e411-11e8-a1d0-d7b4c6107baf\"}, {\"marker\": {\"color\": \"rgb(127,0,127)\", \"colorscale\": \"Viridis\", \"line\": {\"width\": 2}, \"size\": 12, \"symbol\": 2}, \"mode\": \"markers\", \"name\": \"Student_10\", \"text\": [\"Student_10\"], \"x\": [0], \"y\": [39], \"type\": \"scatter\", \"uid\": \"43f323b6-e411-11e8-a1d0-d7b4c6107baf\"}, {\"marker\": {\"color\": \"rgb(0,255,0)\", \"colorscale\": \"Viridis\", \"line\": {\"width\": 2}, \"size\": 12, \"symbol\": 0}, \"mode\": \"markers\", \"name\": \"Student_11\", \"text\": [\"Student_11\"], \"x\": [3], \"y\": [94], \"type\": \"scatter\", \"uid\": \"43f32438-e411-11e8-a1d0-d7b4c6107baf\"}, {\"marker\": {\"color\": \"rgb(127,0,127)\", \"colorscale\": \"Viridis\", \"line\": {\"width\": 2}, \"size\": 12, \"symbol\": 2}, \"mode\": \"markers\", \"name\": \"Student_12\", \"text\": [\"Student_12\"], \"x\": [3], \"y\": [43], \"type\": \"scatter\", \"uid\": \"43f324ba-e411-11e8-a1d0-d7b4c6107baf\"}, {\"marker\": {\"color\": \"rgb(127,0,127)\", \"colorscale\": \"Viridis\", \"line\": {\"width\": 2}, \"size\": 12, \"symbol\": 2}, \"mode\": \"markers\", \"name\": \"Student_13\", \"text\": [\"Student_13\"], \"x\": [3], \"y\": [42], \"type\": \"scatter\", \"uid\": \"43f32532-e411-11e8-a1d0-d7b4c6107baf\"}, {\"marker\": {\"color\": \"rgb(0,0,255)\", \"colorscale\": \"Viridis\", \"line\": {\"width\": 2}, \"size\": 12, \"symbol\": 3}, \"mode\": \"markers\", \"name\": \"Student_14\", \"text\": [\"Student_14\"], \"x\": [1], \"y\": [67], \"type\": \"scatter\", \"uid\": \"43f325b4-e411-11e8-a1d0-d7b4c6107baf\"}, {\"marker\": {\"color\": \"rgb(127,0,127)\", \"colorscale\": \"Viridis\", \"line\": {\"width\": 2}, \"size\": 12, \"symbol\": 2}, \"mode\": \"markers\", \"name\": \"Student_15\", \"text\": [\"Student_15\"], \"x\": [0], \"y\": [53], \"type\": \"scatter\", \"uid\": \"43f3262c-e411-11e8-a1d0-d7b4c6107baf\"}, {\"marker\": {\"color\": \"rgb(0,0,255)\", \"colorscale\": \"Viridis\", \"line\": {\"width\": 2}, \"size\": 12, \"symbol\": 3}, \"mode\": \"markers\", \"name\": \"Student_16\", \"text\": [\"Student_16\"], \"x\": [3], \"y\": [63], \"type\": \"scatter\", \"uid\": \"43f326ae-e411-11e8-a1d0-d7b4c6107baf\"}, {\"marker\": {\"color\": \"rgb(0,0,255)\", \"colorscale\": \"Viridis\", \"line\": {\"width\": 2}, \"size\": 12, \"symbol\": 3}, \"mode\": \"markers\", \"name\": \"Student_17\", \"text\": [\"Student_17\"], \"x\": [1], \"y\": [69], \"type\": \"scatter\", \"uid\": \"43f32730-e411-11e8-a1d0-d7b4c6107baf\"}, {\"marker\": {\"color\": \"rgb(255,0,0)\", \"colorscale\": \"Viridis\", \"line\": {\"width\": 2}, \"size\": 12, \"symbol\": 1}, \"mode\": \"markers\", \"name\": \"Student_18\", \"text\": [\"Student_18\"], \"x\": [1], \"y\": [31], \"type\": \"scatter\", \"uid\": \"43f327a8-e411-11e8-a1d0-d7b4c6107baf\"}, {\"marker\": {\"color\": \"rgb(0,255,0)\", \"colorscale\": \"Viridis\", \"line\": {\"width\": 2}, \"size\": 12, \"symbol\": 0}, \"mode\": \"markers\", \"name\": \"Student_19\", \"text\": [\"Student_19\"], \"x\": [3], \"y\": [81], \"type\": \"scatter\", \"uid\": \"43f3282a-e411-11e8-a1d0-d7b4c6107baf\"}, {\"marker\": {\"color\": \"rgb(127,0,127)\", \"colorscale\": \"Viridis\", \"line\": {\"width\": 2}, \"size\": 12, \"symbol\": 2}, \"mode\": \"markers\", \"name\": \"Student_20\", \"text\": [\"Student_20\"], \"x\": [0], \"y\": [46], \"type\": \"scatter\", \"uid\": \"43f328ac-e411-11e8-a1d0-d7b4c6107baf\"}, {\"marker\": {\"color\": \"rgb(255,0,0)\", \"colorscale\": \"Viridis\", \"line\": {\"width\": 2}, \"size\": 12, \"symbol\": 1}, \"mode\": \"markers\", \"name\": \"Student_21\", \"text\": [\"Student_21\"], \"x\": [1], \"y\": [22], \"type\": \"scatter\", \"uid\": \"43f32924-e411-11e8-a1d0-d7b4c6107baf\"}, {\"marker\": {\"color\": \"rgb(0,0,255)\", \"colorscale\": \"Viridis\", \"line\": {\"width\": 2}, \"size\": 12, \"symbol\": 3}, \"mode\": \"markers\", \"name\": \"Student_22\", \"text\": [\"Student_22\"], \"x\": [1], \"y\": [56], \"type\": \"scatter\", \"uid\": \"43f32992-e411-11e8-a1d0-d7b4c6107baf\"}, {\"marker\": {\"color\": \"rgb(0,0,255)\", \"colorscale\": \"Viridis\", \"line\": {\"width\": 2}, \"size\": 12, \"symbol\": 3}, \"mode\": \"markers\", \"name\": \"Student_23\", \"text\": [\"Student_23\"], \"x\": [7], \"y\": [63], \"type\": \"scatter\", \"uid\": \"43f32a0a-e411-11e8-a1d0-d7b4c6107baf\"}, {\"marker\": {\"color\": \"rgb(127,0,127)\", \"colorscale\": \"Viridis\", \"line\": {\"width\": 2}, \"size\": 12, \"symbol\": 2}, \"mode\": \"markers\", \"name\": \"Student_24\", \"text\": [\"Student_24\"], \"x\": [3], \"y\": [47], \"type\": \"scatter\", \"uid\": \"43f32a82-e411-11e8-a1d0-d7b4c6107baf\"}, {\"marker\": {\"color\": \"rgb(0,0,255)\", \"colorscale\": \"Viridis\", \"line\": {\"width\": 2}, \"size\": 12, \"symbol\": 3}, \"mode\": \"markers\", \"name\": \"Student_25\", \"text\": [\"Student_25\"], \"x\": [0], \"y\": [73], \"type\": \"scatter\", \"uid\": \"43f32afa-e411-11e8-a1d0-d7b4c6107baf\"}, {\"marker\": {\"color\": \"rgb(255,0,0)\", \"colorscale\": \"Viridis\", \"line\": {\"width\": 2}, \"size\": 12, \"symbol\": 1}, \"mode\": \"markers\", \"name\": \"Student_26\", \"text\": [\"Student_26\"], \"x\": [3], \"y\": [33], \"type\": \"scatter\", \"uid\": \"43f32b7c-e411-11e8-a1d0-d7b4c6107baf\"}, {\"marker\": {\"color\": \"rgb(127,0,127)\", \"colorscale\": \"Viridis\", \"line\": {\"width\": 2}, \"size\": 12, \"symbol\": 2}, \"mode\": \"markers\", \"name\": \"Student_27\", \"text\": [\"Student_27\"], \"x\": [1], \"y\": [50], \"type\": \"scatter\", \"uid\": \"43f32c12-e411-11e8-a1d0-d7b4c6107baf\"}, {\"marker\": {\"color\": \"rgb(127,0,127)\", \"colorscale\": \"Viridis\", \"line\": {\"width\": 2}, \"size\": 12, \"symbol\": 2}, \"mode\": \"markers\", \"name\": \"Student_28\", \"text\": [\"Student_28\"], \"x\": [2], \"y\": [46], \"type\": \"scatter\", \"uid\": \"43f32c94-e411-11e8-a1d0-d7b4c6107baf\"}, {\"marker\": {\"color\": \"rgb(0,0,255)\", \"colorscale\": \"Viridis\", \"line\": {\"width\": 2}, \"size\": 12, \"symbol\": 3}, \"mode\": \"markers\", \"name\": \"Student_29\", \"text\": [\"Student_29\"], \"x\": [6], \"y\": [76], \"type\": \"scatter\", \"uid\": \"43f32d16-e411-11e8-a1d0-d7b4c6107baf\"}, {\"marker\": {\"color\": \"rgb(0,0,255)\", \"colorscale\": \"Viridis\", \"line\": {\"width\": 2}, \"size\": 12, \"symbol\": 3}, \"mode\": \"markers\", \"name\": \"Student_30\", \"text\": [\"Student_30\"], \"x\": [7], \"y\": [67], \"type\": \"scatter\", \"uid\": \"43f32d8e-e411-11e8-a1d0-d7b4c6107baf\"}, {\"marker\": {\"color\": \"rgb(127,0,127)\", \"colorscale\": \"Viridis\", \"line\": {\"width\": 2}, \"size\": 12, \"symbol\": 2}, \"mode\": \"markers\", \"name\": \"Student_31\", \"text\": [\"Student_31\"], \"x\": [0], \"y\": [48], \"type\": \"scatter\", \"uid\": \"43f32e10-e411-11e8-a1d0-d7b4c6107baf\"}, {\"marker\": {\"color\": \"rgb(255,0,0)\", \"colorscale\": \"Viridis\", \"line\": {\"width\": 2}, \"size\": 12, \"symbol\": 1}, \"mode\": \"markers\", \"name\": \"Student_32\", \"text\": [\"Student_32\"], \"x\": [2], \"y\": [22], \"type\": \"scatter\", \"uid\": \"43f32e88-e411-11e8-a1d0-d7b4c6107baf\"}, {\"marker\": {\"color\": \"rgb(0,255,0)\", \"colorscale\": \"Viridis\", \"line\": {\"width\": 2}, \"size\": 12, \"symbol\": 0}, \"mode\": \"markers\", \"name\": \"Student_33\", \"text\": [\"Student_33\"], \"x\": [4], \"y\": [85], \"type\": \"scatter\", \"uid\": \"43f32f0a-e411-11e8-a1d0-d7b4c6107baf\"}, {\"marker\": {\"color\": \"rgb(127,0,127)\", \"colorscale\": \"Viridis\", \"line\": {\"width\": 2}, \"size\": 12, \"symbol\": 2}, \"mode\": \"markers\", \"name\": \"Student_34\", \"text\": [\"Student_34\"], \"x\": [2], \"y\": [57], \"type\": \"scatter\", \"uid\": \"43f32f8c-e411-11e8-a1d0-d7b4c6107baf\"}, {\"marker\": {\"color\": \"rgb(0,0,255)\", \"colorscale\": \"Viridis\", \"line\": {\"width\": 2}, \"size\": 12, \"symbol\": 3}, \"mode\": \"markers\", \"name\": \"Student_35\", \"text\": [\"Student_35\"], \"x\": [6], \"y\": [65], \"type\": \"scatter\", \"uid\": \"43f33004-e411-11e8-a1d0-d7b4c6107baf\"}, {\"marker\": {\"color\": \"rgb(0,0,255)\", \"colorscale\": \"Viridis\", \"line\": {\"width\": 2}, \"size\": 12, \"symbol\": 3}, \"mode\": \"markers\", \"name\": \"Student_36\", \"text\": [\"Student_36\"], \"x\": [1], \"y\": [63], \"type\": \"scatter\", \"uid\": \"43f3307c-e411-11e8-a1d0-d7b4c6107baf\"}, {\"marker\": {\"color\": \"rgb(255,0,0)\", \"colorscale\": \"Viridis\", \"line\": {\"width\": 2}, \"size\": 12, \"symbol\": 1}, \"mode\": \"markers\", \"name\": \"Student_37\", \"text\": [\"Student_37\"], \"x\": [2], \"y\": [36], \"type\": \"scatter\", \"uid\": \"43f330f4-e411-11e8-a1d0-d7b4c6107baf\"}, {\"marker\": {\"color\": \"rgb(127,0,127)\", \"colorscale\": \"Viridis\", \"line\": {\"width\": 2}, \"size\": 12, \"symbol\": 2}, \"mode\": \"markers\", \"name\": \"Student_38\", \"text\": [\"Student_38\"], \"x\": [2], \"y\": [51], \"type\": \"scatter\", \"uid\": \"43f33176-e411-11e8-a1d0-d7b4c6107baf\"}, {\"marker\": {\"color\": \"rgb(0,255,0)\", \"colorscale\": \"Viridis\", \"line\": {\"width\": 2}, \"size\": 12, \"symbol\": 0}, \"mode\": \"markers\", \"name\": \"Student_39\", \"text\": [\"Student_39\"], \"x\": [8], \"y\": [88], \"type\": \"scatter\", \"uid\": \"43f331ee-e411-11e8-a1d0-d7b4c6107baf\"}, {\"marker\": {\"color\": \"rgb(255,0,0)\", \"colorscale\": \"Viridis\", \"line\": {\"width\": 2}, \"size\": 12, \"symbol\": 1}, \"mode\": \"markers\", \"name\": \"Student_40\", \"text\": [\"Student_40\"], \"x\": [3], \"y\": [18], \"type\": \"scatter\", \"uid\": \"43f33266-e411-11e8-a1d0-d7b4c6107baf\"}, {\"marker\": {\"color\": \"rgb(0,255,0)\", \"colorscale\": \"Viridis\", \"line\": {\"width\": 2}, \"size\": 12, \"symbol\": 0}, \"mode\": \"markers\", \"name\": \"Student_41\", \"text\": [\"Student_41\"], \"x\": [8], \"y\": [94], \"type\": \"scatter\", \"uid\": \"43f332de-e411-11e8-a1d0-d7b4c6107baf\"}, {\"marker\": {\"color\": \"rgb(255,0,0)\", \"colorscale\": \"Viridis\", \"line\": {\"width\": 2}, \"size\": 12, \"symbol\": 1}, \"mode\": \"markers\", \"name\": \"Student_42\", \"text\": [\"Student_42\"], \"x\": [3], \"y\": [25], \"type\": \"scatter\", \"uid\": \"43f33360-e411-11e8-a1d0-d7b4c6107baf\"}, {\"marker\": {\"color\": \"rgb(255,0,0)\", \"colorscale\": \"Viridis\", \"line\": {\"width\": 2}, \"size\": 12, \"symbol\": 1}, \"mode\": \"markers\", \"name\": \"Student_43\", \"text\": [\"Student_43\"], \"x\": [1], \"y\": [25], \"type\": \"scatter\", \"uid\": \"43f333d8-e411-11e8-a1d0-d7b4c6107baf\"}, {\"marker\": {\"color\": \"rgb(0,0,255)\", \"colorscale\": \"Viridis\", \"line\": {\"width\": 2}, \"size\": 12, \"symbol\": 3}, \"mode\": \"markers\", \"name\": \"Student_44\", \"text\": [\"Student_44\"], \"x\": [2], \"y\": [70], \"type\": \"scatter\", \"uid\": \"43f33450-e411-11e8-a1d0-d7b4c6107baf\"}, {\"marker\": {\"color\": \"rgb(127,0,127)\", \"colorscale\": \"Viridis\", \"line\": {\"width\": 2}, \"size\": 12, \"symbol\": 2}, \"mode\": \"markers\", \"name\": \"Student_45\", \"text\": [\"Student_45\"], \"x\": [2], \"y\": [46], \"type\": \"scatter\", \"uid\": \"43f334c8-e411-11e8-a1d0-d7b4c6107baf\"}, {\"marker\": {\"color\": \"rgb(255,0,0)\", \"colorscale\": \"Viridis\", \"line\": {\"width\": 2}, \"size\": 12, \"symbol\": 1}, \"mode\": \"markers\", \"name\": \"Student_46\", \"text\": [\"Student_46\"], \"x\": [1], \"y\": [28], \"type\": \"scatter\", \"uid\": \"43f33540-e411-11e8-a1d0-d7b4c6107baf\"}, {\"marker\": {\"color\": \"rgb(0,0,255)\", \"colorscale\": \"Viridis\", \"line\": {\"width\": 2}, \"size\": 12, \"symbol\": 3}, \"mode\": \"markers\", \"name\": \"Student_47\", \"text\": [\"Student_47\"], \"x\": [3], \"y\": [68], \"type\": \"scatter\", \"uid\": \"43f335b8-e411-11e8-a1d0-d7b4c6107baf\"}, {\"marker\": {\"color\": \"rgb(127,0,127)\", \"colorscale\": \"Viridis\", \"line\": {\"width\": 2}, \"size\": 12, \"symbol\": 2}, \"mode\": \"markers\", \"name\": \"Student_48\", \"text\": [\"Student_48\"], \"x\": [1], \"y\": [40], \"type\": \"scatter\", \"uid\": \"43f33630-e411-11e8-a1d0-d7b4c6107baf\"}, {\"marker\": {\"color\": \"rgb(0,0,255)\", \"colorscale\": \"Viridis\", \"line\": {\"width\": 2}, \"size\": 12, \"symbol\": 3}, \"mode\": \"markers\", \"name\": \"Student_49\", \"text\": [\"Student_49\"], \"x\": [0], \"y\": [79], \"type\": \"scatter\", \"uid\": \"43f336a8-e411-11e8-a1d0-d7b4c6107baf\"}, {\"marker\": {\"color\": \"rgb(255,0,0)\", \"colorscale\": \"Viridis\", \"line\": {\"width\": 2}, \"size\": 12, \"symbol\": 1}, \"mode\": \"markers\", \"name\": \"Student_50\", \"text\": [\"Student_50\"], \"x\": [1], \"y\": [37], \"type\": \"scatter\", \"uid\": \"43f33720-e411-11e8-a1d0-d7b4c6107baf\"}, {\"marker\": {\"color\": \"rgb(0,0,255)\", \"colorscale\": \"Viridis\", \"line\": {\"width\": 2}, \"size\": 12, \"symbol\": 3}, \"mode\": \"markers\", \"name\": \"Student_51\", \"text\": [\"Student_51\"], \"x\": [7], \"y\": [64], \"type\": \"scatter\", \"uid\": \"43f33798-e411-11e8-a1d0-d7b4c6107baf\"}, {\"marker\": {\"color\": \"rgb(255,0,0)\", \"colorscale\": \"Viridis\", \"line\": {\"width\": 2}, \"size\": 12, \"symbol\": 1}, \"mode\": \"markers\", \"name\": \"Student_52\", \"text\": [\"Student_52\"], \"x\": [1], \"y\": [7], \"type\": \"scatter\", \"uid\": \"43f33810-e411-11e8-a1d0-d7b4c6107baf\"}, {\"marker\": {\"color\": \"rgb(0,0,255)\", \"colorscale\": \"Viridis\", \"line\": {\"width\": 2}, \"size\": 12, \"symbol\": 3}, \"mode\": \"markers\", \"name\": \"Student_53\", \"text\": [\"Student_53\"], \"x\": [7], \"y\": [64], \"type\": \"scatter\", \"uid\": \"43f33888-e411-11e8-a1d0-d7b4c6107baf\"}, {\"marker\": {\"color\": \"rgb(127,0,127)\", \"colorscale\": \"Viridis\", \"line\": {\"width\": 2}, \"size\": 12, \"symbol\": 2}, \"mode\": \"markers\", \"name\": \"Student_54\", \"text\": [\"Student_54\"], \"x\": [0], \"y\": [40], \"type\": \"scatter\", \"uid\": \"43f33900-e411-11e8-a1d0-d7b4c6107baf\"}, {\"marker\": {\"color\": \"rgb(127,0,127)\", \"colorscale\": \"Viridis\", \"line\": {\"width\": 2}, \"size\": 12, \"symbol\": 2}, \"mode\": \"markers\", \"name\": \"Student_55\", \"text\": [\"Student_55\"], \"x\": [3], \"y\": [54], \"type\": \"scatter\", \"uid\": \"43f3396e-e411-11e8-a1d0-d7b4c6107baf\"}, {\"marker\": {\"color\": \"rgb(255,0,0)\", \"colorscale\": \"Viridis\", \"line\": {\"width\": 2}, \"size\": 12, \"symbol\": 1}, \"mode\": \"markers\", \"name\": \"Student_56\", \"text\": [\"Student_56\"], \"x\": [3], \"y\": [26], \"type\": \"scatter\", \"uid\": \"43f339e6-e411-11e8-a1d0-d7b4c6107baf\"}, {\"marker\": {\"color\": \"rgb(0,255,0)\", \"colorscale\": \"Viridis\", \"line\": {\"width\": 2}, \"size\": 12, \"symbol\": 0}, \"mode\": \"markers\", \"name\": \"Student_57\", \"text\": [\"Student_57\"], \"x\": [2], \"y\": [86], \"type\": \"scatter\", \"uid\": \"43f33a5e-e411-11e8-a1d0-d7b4c6107baf\"}, {\"marker\": {\"color\": \"rgb(0,255,0)\", \"colorscale\": \"Viridis\", \"line\": {\"width\": 2}, \"size\": 12, \"symbol\": 0}, \"mode\": \"markers\", \"name\": \"Student_58\", \"text\": [\"Student_58\"], \"x\": [0], \"y\": [74], \"type\": \"scatter\", \"uid\": \"43f33acc-e411-11e8-a1d0-d7b4c6107baf\"}, {\"marker\": {\"color\": \"rgb(0,0,255)\", \"colorscale\": \"Viridis\", \"line\": {\"width\": 2}, \"size\": 12, \"symbol\": 3}, \"mode\": \"markers\", \"name\": \"Student_59\", \"text\": [\"Student_59\"], \"x\": [3], \"y\": [70], \"type\": \"scatter\", \"uid\": \"43f33b44-e411-11e8-a1d0-d7b4c6107baf\"}, {\"marker\": {\"color\": \"rgb(0,0,255)\", \"colorscale\": \"Viridis\", \"line\": {\"width\": 2}, \"size\": 12, \"symbol\": 3}, \"mode\": \"markers\", \"name\": \"Student_60\", \"text\": [\"Student_60\"], \"x\": [0], \"y\": [78], \"type\": \"scatter\", \"uid\": \"43f33bb2-e411-11e8-a1d0-d7b4c6107baf\"}], {\"hovermode\": \"closest\", \"showlegend\": true, \"title\": \"Notas dos estudantes vs threads iniciadas no f\\u00f3rum\", \"xaxis\": {\"autorange\": false, \"fixedrange\": false, \"range\": [0, 19], \"rangemode\": \"normal\", \"showline\": true, \"title\": \"Threads iniciadas no f\\u00f3rum\", \"zeroline\": false}, \"yaxis\": {\"autorange\": false, \"fixedrange\": false, \"range\": [0, 104], \"rangemode\": \"normal\", \"showline\": true, \"title\": \"Notas\"}}, {\"showLink\": true, \"linkText\": \"Export to plot.ly\"})});</script>"
      ]
     },
     "metadata": {},
     "output_type": "display_data"
    },
    {
     "data": {
      "application/vnd.plotly.v1+json": {
       "data": [
        {
         "boxmean": true,
         "boxpoints": "all",
         "marker": {
          "color": "rgb(255,0,0)",
          "line": {
           "width": 1
          }
         },
         "name": "Cluster 1",
         "text": [
          "Student_1",
          "Student_52",
          "Student_8",
          "Student_40",
          "Student_32",
          "Student_21",
          "Student_42",
          "Student_43",
          "Student_56",
          "Student_46",
          "Student_18",
          "Student_26",
          "Student_37",
          "Student_50"
         ],
         "type": "box",
         "uid": "44064ce8-e411-11e8-a1d0-d7b4c6107baf",
         "y": [
          5,
          7,
          14,
          18,
          22,
          22,
          25,
          25,
          26,
          28,
          31,
          33,
          36,
          37
         ]
        },
        {
         "boxmean": true,
         "boxpoints": "all",
         "marker": {
          "color": "rgb(127,0,127)",
          "line": {
           "width": 1
          }
         },
         "name": "Cluster 2",
         "text": [
          "Student_10",
          "Student_54",
          "Student_48",
          "Student_13",
          "Student_12",
          "Student_20",
          "Student_28",
          "Student_45",
          "Student_24",
          "Student_31",
          "Student_27",
          "Student_38",
          "Student_15",
          "Student_55",
          "Student_34",
          "Student_4"
         ],
         "type": "box",
         "uid": "44064e78-e411-11e8-a1d0-d7b4c6107baf",
         "y": [
          39,
          40,
          40,
          42,
          43,
          46,
          46,
          46,
          47,
          48,
          50,
          51,
          53,
          54,
          57,
          58
         ]
        },
        {
         "boxmean": true,
         "boxpoints": "all",
         "marker": {
          "color": "rgb(0,0,255)",
          "line": {
           "width": 1
          }
         },
         "name": "Cluster 3",
         "text": [
          "Student_22",
          "Student_9",
          "Student_16",
          "Student_36",
          "Student_23",
          "Student_53",
          "Student_51",
          "Student_35",
          "Student_30",
          "Student_14",
          "Student_47",
          "Student_17",
          "Student_59",
          "Student_44",
          "Student_25",
          "Student_29",
          "Student_60",
          "Student_49"
         ],
         "type": "box",
         "uid": "44065012-e411-11e8-a1d0-d7b4c6107baf",
         "y": [
          56,
          59,
          63,
          63,
          63,
          64,
          64,
          65,
          67,
          67,
          68,
          69,
          70,
          70,
          73,
          76,
          78,
          79
         ]
        },
        {
         "boxmean": true,
         "boxpoints": "all",
         "marker": {
          "color": "rgb(0,255,0)",
          "line": {
           "width": 1
          }
         },
         "name": "Cluster 4",
         "text": [
          "Student_58",
          "Student_7",
          "Student_5",
          "Student_19",
          "Student_3",
          "Student_33",
          "Student_57",
          "Student_6",
          "Student_39",
          "Student_2",
          "Student_11",
          "Student_41"
         ],
         "type": "box",
         "uid": "440650b2-e411-11e8-a1d0-d7b4c6107baf",
         "y": [
          74,
          74,
          77,
          81,
          82,
          85,
          86,
          87,
          88,
          92,
          94,
          94
         ]
        }
       ],
       "layout": {
        "showlegend": true,
        "title": "Variação de notas por cluster",
        "yaxis": {
         "fixedrange": false,
         "range": [
          -1,
          104
         ],
         "rangemode": "normal",
         "title": "Notas",
         "zeroline": false
        }
       }
      },
      "text/html": [
       "<div id=\"fafc2bbc-4773-461c-96dc-188bf9e97971\" style=\"height: 525px; width: 100%;\" class=\"plotly-graph-div\"></div><script type=\"text/javascript\">require([\"plotly\"], function(Plotly) { window.PLOTLYENV=window.PLOTLYENV || {};window.PLOTLYENV.BASE_URL=\"https://plot.ly\";Plotly.newPlot(\"fafc2bbc-4773-461c-96dc-188bf9e97971\", [{\"boxmean\": true, \"boxpoints\": \"all\", \"marker\": {\"color\": \"rgb(255,0,0)\", \"line\": {\"width\": 1}}, \"name\": \"Cluster 1\", \"text\": [\"Student_1\", \"Student_52\", \"Student_8\", \"Student_40\", \"Student_32\", \"Student_21\", \"Student_42\", \"Student_43\", \"Student_56\", \"Student_46\", \"Student_18\", \"Student_26\", \"Student_37\", \"Student_50\"], \"y\": [5, 7, 14, 18, 22, 22, 25, 25, 26, 28, 31, 33, 36, 37], \"type\": \"box\", \"uid\": \"44064ce8-e411-11e8-a1d0-d7b4c6107baf\"}, {\"boxmean\": true, \"boxpoints\": \"all\", \"marker\": {\"color\": \"rgb(127,0,127)\", \"line\": {\"width\": 1}}, \"name\": \"Cluster 2\", \"text\": [\"Student_10\", \"Student_54\", \"Student_48\", \"Student_13\", \"Student_12\", \"Student_20\", \"Student_28\", \"Student_45\", \"Student_24\", \"Student_31\", \"Student_27\", \"Student_38\", \"Student_15\", \"Student_55\", \"Student_34\", \"Student_4\"], \"y\": [39, 40, 40, 42, 43, 46, 46, 46, 47, 48, 50, 51, 53, 54, 57, 58], \"type\": \"box\", \"uid\": \"44064e78-e411-11e8-a1d0-d7b4c6107baf\"}, {\"boxmean\": true, \"boxpoints\": \"all\", \"marker\": {\"color\": \"rgb(0,0,255)\", \"line\": {\"width\": 1}}, \"name\": \"Cluster 3\", \"text\": [\"Student_22\", \"Student_9\", \"Student_16\", \"Student_36\", \"Student_23\", \"Student_53\", \"Student_51\", \"Student_35\", \"Student_30\", \"Student_14\", \"Student_47\", \"Student_17\", \"Student_59\", \"Student_44\", \"Student_25\", \"Student_29\", \"Student_60\", \"Student_49\"], \"y\": [56, 59, 63, 63, 63, 64, 64, 65, 67, 67, 68, 69, 70, 70, 73, 76, 78, 79], \"type\": \"box\", \"uid\": \"44065012-e411-11e8-a1d0-d7b4c6107baf\"}, {\"boxmean\": true, \"boxpoints\": \"all\", \"marker\": {\"color\": \"rgb(0,255,0)\", \"line\": {\"width\": 1}}, \"name\": \"Cluster 4\", \"text\": [\"Student_58\", \"Student_7\", \"Student_5\", \"Student_19\", \"Student_3\", \"Student_33\", \"Student_57\", \"Student_6\", \"Student_39\", \"Student_2\", \"Student_11\", \"Student_41\"], \"y\": [74, 74, 77, 81, 82, 85, 86, 87, 88, 92, 94, 94], \"type\": \"box\", \"uid\": \"440650b2-e411-11e8-a1d0-d7b4c6107baf\"}], {\"showlegend\": true, \"title\": \"Varia\\u00e7\\u00e3o de notas por cluster\", \"yaxis\": {\"fixedrange\": false, \"range\": [-1, 104], \"rangemode\": \"normal\", \"title\": \"Notas\", \"zeroline\": false}}, {\"showLink\": true, \"linkText\": \"Export to plot.ly\"})});</script>"
      ],
      "text/vnd.plotly.v1+html": [
       "<div id=\"fafc2bbc-4773-461c-96dc-188bf9e97971\" style=\"height: 525px; width: 100%;\" class=\"plotly-graph-div\"></div><script type=\"text/javascript\">require([\"plotly\"], function(Plotly) { window.PLOTLYENV=window.PLOTLYENV || {};window.PLOTLYENV.BASE_URL=\"https://plot.ly\";Plotly.newPlot(\"fafc2bbc-4773-461c-96dc-188bf9e97971\", [{\"boxmean\": true, \"boxpoints\": \"all\", \"marker\": {\"color\": \"rgb(255,0,0)\", \"line\": {\"width\": 1}}, \"name\": \"Cluster 1\", \"text\": [\"Student_1\", \"Student_52\", \"Student_8\", \"Student_40\", \"Student_32\", \"Student_21\", \"Student_42\", \"Student_43\", \"Student_56\", \"Student_46\", \"Student_18\", \"Student_26\", \"Student_37\", \"Student_50\"], \"y\": [5, 7, 14, 18, 22, 22, 25, 25, 26, 28, 31, 33, 36, 37], \"type\": \"box\", \"uid\": \"44064ce8-e411-11e8-a1d0-d7b4c6107baf\"}, {\"boxmean\": true, \"boxpoints\": \"all\", \"marker\": {\"color\": \"rgb(127,0,127)\", \"line\": {\"width\": 1}}, \"name\": \"Cluster 2\", \"text\": [\"Student_10\", \"Student_54\", \"Student_48\", \"Student_13\", \"Student_12\", \"Student_20\", \"Student_28\", \"Student_45\", \"Student_24\", \"Student_31\", \"Student_27\", \"Student_38\", \"Student_15\", \"Student_55\", \"Student_34\", \"Student_4\"], \"y\": [39, 40, 40, 42, 43, 46, 46, 46, 47, 48, 50, 51, 53, 54, 57, 58], \"type\": \"box\", \"uid\": \"44064e78-e411-11e8-a1d0-d7b4c6107baf\"}, {\"boxmean\": true, \"boxpoints\": \"all\", \"marker\": {\"color\": \"rgb(0,0,255)\", \"line\": {\"width\": 1}}, \"name\": \"Cluster 3\", \"text\": [\"Student_22\", \"Student_9\", \"Student_16\", \"Student_36\", \"Student_23\", \"Student_53\", \"Student_51\", \"Student_35\", \"Student_30\", \"Student_14\", \"Student_47\", \"Student_17\", \"Student_59\", \"Student_44\", \"Student_25\", \"Student_29\", \"Student_60\", \"Student_49\"], \"y\": [56, 59, 63, 63, 63, 64, 64, 65, 67, 67, 68, 69, 70, 70, 73, 76, 78, 79], \"type\": \"box\", \"uid\": \"44065012-e411-11e8-a1d0-d7b4c6107baf\"}, {\"boxmean\": true, \"boxpoints\": \"all\", \"marker\": {\"color\": \"rgb(0,255,0)\", \"line\": {\"width\": 1}}, \"name\": \"Cluster 4\", \"text\": [\"Student_58\", \"Student_7\", \"Student_5\", \"Student_19\", \"Student_3\", \"Student_33\", \"Student_57\", \"Student_6\", \"Student_39\", \"Student_2\", \"Student_11\", \"Student_41\"], \"y\": [74, 74, 77, 81, 82, 85, 86, 87, 88, 92, 94, 94], \"type\": \"box\", \"uid\": \"440650b2-e411-11e8-a1d0-d7b4c6107baf\"}], {\"showlegend\": true, \"title\": \"Varia\\u00e7\\u00e3o de notas por cluster\", \"yaxis\": {\"fixedrange\": false, \"range\": [-1, 104], \"rangemode\": \"normal\", \"title\": \"Notas\", \"zeroline\": false}}, {\"showLink\": true, \"linkText\": \"Export to plot.ly\"})});</script>"
      ]
     },
     "metadata": {},
     "output_type": "display_data"
    },
    {
     "data": {
      "application/vnd.plotly.v1+json": {
       "data": [
        {
         "boxmean": true,
         "boxpoints": "all",
         "marker": {
          "color": "rgb(255,0,0)",
          "line": {
           "width": 1
          }
         },
         "name": "Cluster 1",
         "text": [
          "Student_1",
          "Student_52",
          "Student_8",
          "Student_40",
          "Student_32",
          "Student_21",
          "Student_42",
          "Student_43",
          "Student_56",
          "Student_46",
          "Student_18",
          "Student_26",
          "Student_37",
          "Student_50"
         ],
         "type": "box",
         "uid": "440bc984-e411-11e8-a1d0-d7b4c6107baf",
         "y": [
          23,
          6,
          20,
          5,
          11,
          19,
          11,
          16,
          22,
          25,
          20,
          13,
          16,
          5
         ]
        },
        {
         "boxmean": true,
         "boxpoints": "all",
         "marker": {
          "color": "rgb(127,0,127)",
          "line": {
           "width": 1
          }
         },
         "name": "Cluster 2",
         "text": [
          "Student_10",
          "Student_54",
          "Student_48",
          "Student_13",
          "Student_12",
          "Student_20",
          "Student_28",
          "Student_45",
          "Student_24",
          "Student_31",
          "Student_27",
          "Student_38",
          "Student_15",
          "Student_55",
          "Student_34",
          "Student_4"
         ],
         "type": "box",
         "uid": "440bcb3c-e411-11e8-a1d0-d7b4c6107baf",
         "y": [
          15,
          18,
          14,
          14,
          23,
          9,
          10,
          19,
          6,
          18,
          14,
          22,
          33,
          27,
          23,
          30
         ]
        },
        {
         "boxmean": true,
         "boxpoints": "all",
         "marker": {
          "color": "rgb(0,0,255)",
          "line": {
           "width": 1
          }
         },
         "name": "Cluster 3",
         "text": [
          "Student_22",
          "Student_9",
          "Student_16",
          "Student_36",
          "Student_23",
          "Student_53",
          "Student_51",
          "Student_35",
          "Student_30",
          "Student_14",
          "Student_47",
          "Student_17",
          "Student_59",
          "Student_44",
          "Student_25",
          "Student_29",
          "Student_60",
          "Student_49"
         ],
         "type": "box",
         "uid": "440bcc0e-e411-11e8-a1d0-d7b4c6107baf",
         "y": [
          38,
          38,
          43,
          51,
          53,
          54,
          44,
          37,
          39,
          50,
          36,
          40,
          44,
          46,
          62,
          61,
          69,
          64
         ]
        },
        {
         "boxmean": true,
         "boxpoints": "all",
         "marker": {
          "color": "rgb(0,255,0)",
          "line": {
           "width": 1
          }
         },
         "name": "Cluster 4",
         "text": [
          "Student_58",
          "Student_7",
          "Student_5",
          "Student_19",
          "Student_3",
          "Student_33",
          "Student_57",
          "Student_6",
          "Student_39",
          "Student_2",
          "Student_11",
          "Student_41"
         ],
         "type": "box",
         "uid": "440bccb8-e411-11e8-a1d0-d7b4c6107baf",
         "y": [
          70,
          67,
          51,
          74,
          85,
          67,
          80,
          69,
          77,
          92,
          88,
          88
         ]
        }
       ],
       "layout": {
        "showlegend": true,
        "title": "Variação de acessos por cluster",
        "yaxis": {
         "fixedrange": false,
         "range": [
          -1,
          102
         ],
         "rangemode": "normal",
         "title": "Acessos",
         "zeroline": false
        }
       }
      },
      "text/html": [
       "<div id=\"af47f6dc-617d-4067-9e25-c404437fc482\" style=\"height: 525px; width: 100%;\" class=\"plotly-graph-div\"></div><script type=\"text/javascript\">require([\"plotly\"], function(Plotly) { window.PLOTLYENV=window.PLOTLYENV || {};window.PLOTLYENV.BASE_URL=\"https://plot.ly\";Plotly.newPlot(\"af47f6dc-617d-4067-9e25-c404437fc482\", [{\"boxmean\": true, \"boxpoints\": \"all\", \"marker\": {\"color\": \"rgb(255,0,0)\", \"line\": {\"width\": 1}}, \"name\": \"Cluster 1\", \"text\": [\"Student_1\", \"Student_52\", \"Student_8\", \"Student_40\", \"Student_32\", \"Student_21\", \"Student_42\", \"Student_43\", \"Student_56\", \"Student_46\", \"Student_18\", \"Student_26\", \"Student_37\", \"Student_50\"], \"y\": [23, 6, 20, 5, 11, 19, 11, 16, 22, 25, 20, 13, 16, 5], \"type\": \"box\", \"uid\": \"440bc984-e411-11e8-a1d0-d7b4c6107baf\"}, {\"boxmean\": true, \"boxpoints\": \"all\", \"marker\": {\"color\": \"rgb(127,0,127)\", \"line\": {\"width\": 1}}, \"name\": \"Cluster 2\", \"text\": [\"Student_10\", \"Student_54\", \"Student_48\", \"Student_13\", \"Student_12\", \"Student_20\", \"Student_28\", \"Student_45\", \"Student_24\", \"Student_31\", \"Student_27\", \"Student_38\", \"Student_15\", \"Student_55\", \"Student_34\", \"Student_4\"], \"y\": [15, 18, 14, 14, 23, 9, 10, 19, 6, 18, 14, 22, 33, 27, 23, 30], \"type\": \"box\", \"uid\": \"440bcb3c-e411-11e8-a1d0-d7b4c6107baf\"}, {\"boxmean\": true, \"boxpoints\": \"all\", \"marker\": {\"color\": \"rgb(0,0,255)\", \"line\": {\"width\": 1}}, \"name\": \"Cluster 3\", \"text\": [\"Student_22\", \"Student_9\", \"Student_16\", \"Student_36\", \"Student_23\", \"Student_53\", \"Student_51\", \"Student_35\", \"Student_30\", \"Student_14\", \"Student_47\", \"Student_17\", \"Student_59\", \"Student_44\", \"Student_25\", \"Student_29\", \"Student_60\", \"Student_49\"], \"y\": [38, 38, 43, 51, 53, 54, 44, 37, 39, 50, 36, 40, 44, 46, 62, 61, 69, 64], \"type\": \"box\", \"uid\": \"440bcc0e-e411-11e8-a1d0-d7b4c6107baf\"}, {\"boxmean\": true, \"boxpoints\": \"all\", \"marker\": {\"color\": \"rgb(0,255,0)\", \"line\": {\"width\": 1}}, \"name\": \"Cluster 4\", \"text\": [\"Student_58\", \"Student_7\", \"Student_5\", \"Student_19\", \"Student_3\", \"Student_33\", \"Student_57\", \"Student_6\", \"Student_39\", \"Student_2\", \"Student_11\", \"Student_41\"], \"y\": [70, 67, 51, 74, 85, 67, 80, 69, 77, 92, 88, 88], \"type\": \"box\", \"uid\": \"440bccb8-e411-11e8-a1d0-d7b4c6107baf\"}], {\"showlegend\": true, \"title\": \"Varia\\u00e7\\u00e3o de acessos por cluster\", \"yaxis\": {\"fixedrange\": false, \"range\": [-1, 102], \"rangemode\": \"normal\", \"title\": \"Acessos\", \"zeroline\": false}}, {\"showLink\": true, \"linkText\": \"Export to plot.ly\"})});</script>"
      ],
      "text/vnd.plotly.v1+html": [
       "<div id=\"af47f6dc-617d-4067-9e25-c404437fc482\" style=\"height: 525px; width: 100%;\" class=\"plotly-graph-div\"></div><script type=\"text/javascript\">require([\"plotly\"], function(Plotly) { window.PLOTLYENV=window.PLOTLYENV || {};window.PLOTLYENV.BASE_URL=\"https://plot.ly\";Plotly.newPlot(\"af47f6dc-617d-4067-9e25-c404437fc482\", [{\"boxmean\": true, \"boxpoints\": \"all\", \"marker\": {\"color\": \"rgb(255,0,0)\", \"line\": {\"width\": 1}}, \"name\": \"Cluster 1\", \"text\": [\"Student_1\", \"Student_52\", \"Student_8\", \"Student_40\", \"Student_32\", \"Student_21\", \"Student_42\", \"Student_43\", \"Student_56\", \"Student_46\", \"Student_18\", \"Student_26\", \"Student_37\", \"Student_50\"], \"y\": [23, 6, 20, 5, 11, 19, 11, 16, 22, 25, 20, 13, 16, 5], \"type\": \"box\", \"uid\": \"440bc984-e411-11e8-a1d0-d7b4c6107baf\"}, {\"boxmean\": true, \"boxpoints\": \"all\", \"marker\": {\"color\": \"rgb(127,0,127)\", \"line\": {\"width\": 1}}, \"name\": \"Cluster 2\", \"text\": [\"Student_10\", \"Student_54\", \"Student_48\", \"Student_13\", \"Student_12\", \"Student_20\", \"Student_28\", \"Student_45\", \"Student_24\", \"Student_31\", \"Student_27\", \"Student_38\", \"Student_15\", \"Student_55\", \"Student_34\", \"Student_4\"], \"y\": [15, 18, 14, 14, 23, 9, 10, 19, 6, 18, 14, 22, 33, 27, 23, 30], \"type\": \"box\", \"uid\": \"440bcb3c-e411-11e8-a1d0-d7b4c6107baf\"}, {\"boxmean\": true, \"boxpoints\": \"all\", \"marker\": {\"color\": \"rgb(0,0,255)\", \"line\": {\"width\": 1}}, \"name\": \"Cluster 3\", \"text\": [\"Student_22\", \"Student_9\", \"Student_16\", \"Student_36\", \"Student_23\", \"Student_53\", \"Student_51\", \"Student_35\", \"Student_30\", \"Student_14\", \"Student_47\", \"Student_17\", \"Student_59\", \"Student_44\", \"Student_25\", \"Student_29\", \"Student_60\", \"Student_49\"], \"y\": [38, 38, 43, 51, 53, 54, 44, 37, 39, 50, 36, 40, 44, 46, 62, 61, 69, 64], \"type\": \"box\", \"uid\": \"440bcc0e-e411-11e8-a1d0-d7b4c6107baf\"}, {\"boxmean\": true, \"boxpoints\": \"all\", \"marker\": {\"color\": \"rgb(0,255,0)\", \"line\": {\"width\": 1}}, \"name\": \"Cluster 4\", \"text\": [\"Student_58\", \"Student_7\", \"Student_5\", \"Student_19\", \"Student_3\", \"Student_33\", \"Student_57\", \"Student_6\", \"Student_39\", \"Student_2\", \"Student_11\", \"Student_41\"], \"y\": [70, 67, 51, 74, 85, 67, 80, 69, 77, 92, 88, 88], \"type\": \"box\", \"uid\": \"440bccb8-e411-11e8-a1d0-d7b4c6107baf\"}], {\"showlegend\": true, \"title\": \"Varia\\u00e7\\u00e3o de acessos por cluster\", \"yaxis\": {\"fixedrange\": false, \"range\": [-1, 102], \"rangemode\": \"normal\", \"title\": \"Acessos\", \"zeroline\": false}}, {\"showLink\": true, \"linkText\": \"Export to plot.ly\"})});</script>"
      ]
     },
     "metadata": {},
     "output_type": "display_data"
    },
    {
     "data": {
      "application/vnd.plotly.v1+json": {
       "data": [
        {
         "boxmean": true,
         "boxpoints": "all",
         "marker": {
          "color": "rgb(255,0,0)",
          "line": {
           "width": 1
          }
         },
         "name": "Cluster 1",
         "text": [
          "Student_1",
          "Student_52",
          "Student_8",
          "Student_40",
          "Student_32",
          "Student_21",
          "Student_42",
          "Student_43",
          "Student_56",
          "Student_46",
          "Student_18",
          "Student_26",
          "Student_37",
          "Student_50"
         ],
         "type": "box",
         "uid": "4411c9e2-e411-11e8-a1d0-d7b4c6107baf",
         "y": [
          0,
          0,
          0,
          0,
          0,
          0,
          0,
          0,
          0,
          0,
          0,
          0,
          0,
          0
         ]
        },
        {
         "boxmean": true,
         "boxpoints": "all",
         "marker": {
          "color": "rgb(127,0,127)",
          "line": {
           "width": 1
          }
         },
         "name": "Cluster 2",
         "text": [
          "Student_10",
          "Student_54",
          "Student_48",
          "Student_13",
          "Student_12",
          "Student_20",
          "Student_28",
          "Student_45",
          "Student_24",
          "Student_31",
          "Student_27",
          "Student_38",
          "Student_15",
          "Student_55",
          "Student_34",
          "Student_4"
         ],
         "type": "box",
         "uid": "4411cb72-e411-11e8-a1d0-d7b4c6107baf",
         "y": [
          0,
          0,
          0,
          0,
          0,
          0,
          0,
          0,
          0,
          0,
          0,
          3,
          4,
          4,
          2,
          2
         ]
        },
        {
         "boxmean": true,
         "boxpoints": "all",
         "marker": {
          "color": "rgb(0,0,255)",
          "line": {
           "width": 1
          }
         },
         "name": "Cluster 3",
         "text": [
          "Student_22",
          "Student_9",
          "Student_16",
          "Student_36",
          "Student_23",
          "Student_53",
          "Student_51",
          "Student_35",
          "Student_30",
          "Student_14",
          "Student_47",
          "Student_17",
          "Student_59",
          "Student_44",
          "Student_25",
          "Student_29",
          "Student_60",
          "Student_49"
         ],
         "type": "box",
         "uid": "4411cc44-e411-11e8-a1d0-d7b4c6107baf",
         "y": [
          2,
          2,
          4,
          4,
          3,
          3,
          2,
          3,
          3,
          3,
          4,
          3,
          3,
          2,
          3,
          4,
          4,
          4
         ]
        },
        {
         "boxmean": true,
         "boxpoints": "all",
         "marker": {
          "color": "rgb(0,255,0)",
          "line": {
           "width": 1
          }
         },
         "name": "Cluster 4",
         "text": [
          "Student_58",
          "Student_7",
          "Student_5",
          "Student_19",
          "Student_3",
          "Student_33",
          "Student_57",
          "Student_6",
          "Student_39",
          "Student_2",
          "Student_11",
          "Student_41"
         ],
         "type": "box",
         "uid": "4411cce4-e411-11e8-a1d0-d7b4c6107baf",
         "y": [
          4,
          4,
          2,
          3,
          4,
          4,
          4,
          4,
          3,
          4,
          4,
          4
         ]
        }
       ],
       "layout": {
        "showlegend": true,
        "title": "Variação de atividades respondidas por cluster",
        "yaxis": {
         "fixedrange": false,
         "range": [
          -1,
          14
         ],
         "rangemode": "normal",
         "title": "Atividades respondidas",
         "zeroline": false
        }
       }
      },
      "text/html": [
       "<div id=\"cd47b134-2e83-4769-bd74-ef0e279e7344\" style=\"height: 525px; width: 100%;\" class=\"plotly-graph-div\"></div><script type=\"text/javascript\">require([\"plotly\"], function(Plotly) { window.PLOTLYENV=window.PLOTLYENV || {};window.PLOTLYENV.BASE_URL=\"https://plot.ly\";Plotly.newPlot(\"cd47b134-2e83-4769-bd74-ef0e279e7344\", [{\"boxmean\": true, \"boxpoints\": \"all\", \"marker\": {\"color\": \"rgb(255,0,0)\", \"line\": {\"width\": 1}}, \"name\": \"Cluster 1\", \"text\": [\"Student_1\", \"Student_52\", \"Student_8\", \"Student_40\", \"Student_32\", \"Student_21\", \"Student_42\", \"Student_43\", \"Student_56\", \"Student_46\", \"Student_18\", \"Student_26\", \"Student_37\", \"Student_50\"], \"y\": [0, 0, 0, 0, 0, 0, 0, 0, 0, 0, 0, 0, 0, 0], \"type\": \"box\", \"uid\": \"4411c9e2-e411-11e8-a1d0-d7b4c6107baf\"}, {\"boxmean\": true, \"boxpoints\": \"all\", \"marker\": {\"color\": \"rgb(127,0,127)\", \"line\": {\"width\": 1}}, \"name\": \"Cluster 2\", \"text\": [\"Student_10\", \"Student_54\", \"Student_48\", \"Student_13\", \"Student_12\", \"Student_20\", \"Student_28\", \"Student_45\", \"Student_24\", \"Student_31\", \"Student_27\", \"Student_38\", \"Student_15\", \"Student_55\", \"Student_34\", \"Student_4\"], \"y\": [0, 0, 0, 0, 0, 0, 0, 0, 0, 0, 0, 3, 4, 4, 2, 2], \"type\": \"box\", \"uid\": \"4411cb72-e411-11e8-a1d0-d7b4c6107baf\"}, {\"boxmean\": true, \"boxpoints\": \"all\", \"marker\": {\"color\": \"rgb(0,0,255)\", \"line\": {\"width\": 1}}, \"name\": \"Cluster 3\", \"text\": [\"Student_22\", \"Student_9\", \"Student_16\", \"Student_36\", \"Student_23\", \"Student_53\", \"Student_51\", \"Student_35\", \"Student_30\", \"Student_14\", \"Student_47\", \"Student_17\", \"Student_59\", \"Student_44\", \"Student_25\", \"Student_29\", \"Student_60\", \"Student_49\"], \"y\": [2, 2, 4, 4, 3, 3, 2, 3, 3, 3, 4, 3, 3, 2, 3, 4, 4, 4], \"type\": \"box\", \"uid\": \"4411cc44-e411-11e8-a1d0-d7b4c6107baf\"}, {\"boxmean\": true, \"boxpoints\": \"all\", \"marker\": {\"color\": \"rgb(0,255,0)\", \"line\": {\"width\": 1}}, \"name\": \"Cluster 4\", \"text\": [\"Student_58\", \"Student_7\", \"Student_5\", \"Student_19\", \"Student_3\", \"Student_33\", \"Student_57\", \"Student_6\", \"Student_39\", \"Student_2\", \"Student_11\", \"Student_41\"], \"y\": [4, 4, 2, 3, 4, 4, 4, 4, 3, 4, 4, 4], \"type\": \"box\", \"uid\": \"4411cce4-e411-11e8-a1d0-d7b4c6107baf\"}], {\"showlegend\": true, \"title\": \"Varia\\u00e7\\u00e3o de atividades respondidas por cluster\", \"yaxis\": {\"fixedrange\": false, \"range\": [-1, 14], \"rangemode\": \"normal\", \"title\": \"Atividades respondidas\", \"zeroline\": false}}, {\"showLink\": true, \"linkText\": \"Export to plot.ly\"})});</script>"
      ],
      "text/vnd.plotly.v1+html": [
       "<div id=\"cd47b134-2e83-4769-bd74-ef0e279e7344\" style=\"height: 525px; width: 100%;\" class=\"plotly-graph-div\"></div><script type=\"text/javascript\">require([\"plotly\"], function(Plotly) { window.PLOTLYENV=window.PLOTLYENV || {};window.PLOTLYENV.BASE_URL=\"https://plot.ly\";Plotly.newPlot(\"cd47b134-2e83-4769-bd74-ef0e279e7344\", [{\"boxmean\": true, \"boxpoints\": \"all\", \"marker\": {\"color\": \"rgb(255,0,0)\", \"line\": {\"width\": 1}}, \"name\": \"Cluster 1\", \"text\": [\"Student_1\", \"Student_52\", \"Student_8\", \"Student_40\", \"Student_32\", \"Student_21\", \"Student_42\", \"Student_43\", \"Student_56\", \"Student_46\", \"Student_18\", \"Student_26\", \"Student_37\", \"Student_50\"], \"y\": [0, 0, 0, 0, 0, 0, 0, 0, 0, 0, 0, 0, 0, 0], \"type\": \"box\", \"uid\": \"4411c9e2-e411-11e8-a1d0-d7b4c6107baf\"}, {\"boxmean\": true, \"boxpoints\": \"all\", \"marker\": {\"color\": \"rgb(127,0,127)\", \"line\": {\"width\": 1}}, \"name\": \"Cluster 2\", \"text\": [\"Student_10\", \"Student_54\", \"Student_48\", \"Student_13\", \"Student_12\", \"Student_20\", \"Student_28\", \"Student_45\", \"Student_24\", \"Student_31\", \"Student_27\", \"Student_38\", \"Student_15\", \"Student_55\", \"Student_34\", \"Student_4\"], \"y\": [0, 0, 0, 0, 0, 0, 0, 0, 0, 0, 0, 3, 4, 4, 2, 2], \"type\": \"box\", \"uid\": \"4411cb72-e411-11e8-a1d0-d7b4c6107baf\"}, {\"boxmean\": true, \"boxpoints\": \"all\", \"marker\": {\"color\": \"rgb(0,0,255)\", \"line\": {\"width\": 1}}, \"name\": \"Cluster 3\", \"text\": [\"Student_22\", \"Student_9\", \"Student_16\", \"Student_36\", \"Student_23\", \"Student_53\", \"Student_51\", \"Student_35\", \"Student_30\", \"Student_14\", \"Student_47\", \"Student_17\", \"Student_59\", \"Student_44\", \"Student_25\", \"Student_29\", \"Student_60\", \"Student_49\"], \"y\": [2, 2, 4, 4, 3, 3, 2, 3, 3, 3, 4, 3, 3, 2, 3, 4, 4, 4], \"type\": \"box\", \"uid\": \"4411cc44-e411-11e8-a1d0-d7b4c6107baf\"}, {\"boxmean\": true, \"boxpoints\": \"all\", \"marker\": {\"color\": \"rgb(0,255,0)\", \"line\": {\"width\": 1}}, \"name\": \"Cluster 4\", \"text\": [\"Student_58\", \"Student_7\", \"Student_5\", \"Student_19\", \"Student_3\", \"Student_33\", \"Student_57\", \"Student_6\", \"Student_39\", \"Student_2\", \"Student_11\", \"Student_41\"], \"y\": [4, 4, 2, 3, 4, 4, 4, 4, 3, 4, 4, 4], \"type\": \"box\", \"uid\": \"4411cce4-e411-11e8-a1d0-d7b4c6107baf\"}], {\"showlegend\": true, \"title\": \"Varia\\u00e7\\u00e3o de atividades respondidas por cluster\", \"yaxis\": {\"fixedrange\": false, \"range\": [-1, 14], \"rangemode\": \"normal\", \"title\": \"Atividades respondidas\", \"zeroline\": false}}, {\"showLink\": true, \"linkText\": \"Export to plot.ly\"})});</script>"
      ]
     },
     "metadata": {},
     "output_type": "display_data"
    },
    {
     "data": {
      "application/vnd.plotly.v1+json": {
       "data": [
        {
         "boxmean": true,
         "boxpoints": "all",
         "marker": {
          "color": "rgb(255,0,0)",
          "line": {
           "width": 1
          }
         },
         "name": "Cluster 1",
         "text": [
          "Student_1",
          "Student_52",
          "Student_8",
          "Student_40",
          "Student_32",
          "Student_21",
          "Student_42",
          "Student_43",
          "Student_56",
          "Student_46",
          "Student_18",
          "Student_26",
          "Student_37",
          "Student_50"
         ],
         "type": "box",
         "uid": "44170326-e411-11e8-a1d0-d7b4c6107baf",
         "y": [
          7,
          3,
          5,
          7,
          6,
          7,
          9,
          11,
          3,
          8,
          7,
          11,
          4,
          7
         ]
        },
        {
         "boxmean": true,
         "boxpoints": "all",
         "marker": {
          "color": "rgb(127,0,127)",
          "line": {
           "width": 1
          }
         },
         "name": "Cluster 2",
         "text": [
          "Student_10",
          "Student_54",
          "Student_48",
          "Student_13",
          "Student_12",
          "Student_20",
          "Student_28",
          "Student_45",
          "Student_24",
          "Student_31",
          "Student_27",
          "Student_38",
          "Student_15",
          "Student_55",
          "Student_34",
          "Student_4"
         ],
         "type": "box",
         "uid": "441704c0-e411-11e8-a1d0-d7b4c6107baf",
         "y": [
          2,
          5,
          7,
          12,
          11,
          6,
          11,
          5,
          4,
          2,
          11,
          23,
          13,
          18,
          23,
          7
         ]
        },
        {
         "boxmean": true,
         "boxpoints": "all",
         "marker": {
          "color": "rgb(0,0,255)",
          "line": {
           "width": 1
          }
         },
         "name": "Cluster 3",
         "text": [
          "Student_22",
          "Student_9",
          "Student_16",
          "Student_36",
          "Student_23",
          "Student_53",
          "Student_51",
          "Student_35",
          "Student_30",
          "Student_14",
          "Student_47",
          "Student_17",
          "Student_59",
          "Student_44",
          "Student_25",
          "Student_29",
          "Student_60",
          "Student_49"
         ],
         "type": "box",
         "uid": "44170588-e411-11e8-a1d0-d7b4c6107baf",
         "y": [
          19,
          18,
          22,
          33,
          40,
          47,
          23,
          33,
          35,
          11,
          36,
          25,
          19,
          20,
          33,
          38,
          43,
          28
         ]
        },
        {
         "boxmean": true,
         "boxpoints": "all",
         "marker": {
          "color": "rgb(0,255,0)",
          "line": {
           "width": 1
          }
         },
         "name": "Cluster 4",
         "text": [
          "Student_58",
          "Student_7",
          "Student_5",
          "Student_19",
          "Student_3",
          "Student_33",
          "Student_57",
          "Student_6",
          "Student_39",
          "Student_2",
          "Student_11",
          "Student_41"
         ],
         "type": "box",
         "uid": "4417061e-e411-11e8-a1d0-d7b4c6107baf",
         "y": [
          68,
          58,
          59,
          69,
          63,
          64,
          39,
          64,
          73,
          114,
          72,
          69
         ]
        }
       ],
       "layout": {
        "showlegend": true,
        "title": "Variação de acesso ao fórum por cluster",
        "yaxis": {
         "fixedrange": false,
         "range": [
          -1,
          124
         ],
         "rangemode": "normal",
         "title": "Acesso ao fórum",
         "zeroline": false
        }
       }
      },
      "text/html": [
       "<div id=\"a0e51fda-7b3a-436a-9e8c-0db67e750e01\" style=\"height: 525px; width: 100%;\" class=\"plotly-graph-div\"></div><script type=\"text/javascript\">require([\"plotly\"], function(Plotly) { window.PLOTLYENV=window.PLOTLYENV || {};window.PLOTLYENV.BASE_URL=\"https://plot.ly\";Plotly.newPlot(\"a0e51fda-7b3a-436a-9e8c-0db67e750e01\", [{\"boxmean\": true, \"boxpoints\": \"all\", \"marker\": {\"color\": \"rgb(255,0,0)\", \"line\": {\"width\": 1}}, \"name\": \"Cluster 1\", \"text\": [\"Student_1\", \"Student_52\", \"Student_8\", \"Student_40\", \"Student_32\", \"Student_21\", \"Student_42\", \"Student_43\", \"Student_56\", \"Student_46\", \"Student_18\", \"Student_26\", \"Student_37\", \"Student_50\"], \"y\": [7, 3, 5, 7, 6, 7, 9, 11, 3, 8, 7, 11, 4, 7], \"type\": \"box\", \"uid\": \"44170326-e411-11e8-a1d0-d7b4c6107baf\"}, {\"boxmean\": true, \"boxpoints\": \"all\", \"marker\": {\"color\": \"rgb(127,0,127)\", \"line\": {\"width\": 1}}, \"name\": \"Cluster 2\", \"text\": [\"Student_10\", \"Student_54\", \"Student_48\", \"Student_13\", \"Student_12\", \"Student_20\", \"Student_28\", \"Student_45\", \"Student_24\", \"Student_31\", \"Student_27\", \"Student_38\", \"Student_15\", \"Student_55\", \"Student_34\", \"Student_4\"], \"y\": [2, 5, 7, 12, 11, 6, 11, 5, 4, 2, 11, 23, 13, 18, 23, 7], \"type\": \"box\", \"uid\": \"441704c0-e411-11e8-a1d0-d7b4c6107baf\"}, {\"boxmean\": true, \"boxpoints\": \"all\", \"marker\": {\"color\": \"rgb(0,0,255)\", \"line\": {\"width\": 1}}, \"name\": \"Cluster 3\", \"text\": [\"Student_22\", \"Student_9\", \"Student_16\", \"Student_36\", \"Student_23\", \"Student_53\", \"Student_51\", \"Student_35\", \"Student_30\", \"Student_14\", \"Student_47\", \"Student_17\", \"Student_59\", \"Student_44\", \"Student_25\", \"Student_29\", \"Student_60\", \"Student_49\"], \"y\": [19, 18, 22, 33, 40, 47, 23, 33, 35, 11, 36, 25, 19, 20, 33, 38, 43, 28], \"type\": \"box\", \"uid\": \"44170588-e411-11e8-a1d0-d7b4c6107baf\"}, {\"boxmean\": true, \"boxpoints\": \"all\", \"marker\": {\"color\": \"rgb(0,255,0)\", \"line\": {\"width\": 1}}, \"name\": \"Cluster 4\", \"text\": [\"Student_58\", \"Student_7\", \"Student_5\", \"Student_19\", \"Student_3\", \"Student_33\", \"Student_57\", \"Student_6\", \"Student_39\", \"Student_2\", \"Student_11\", \"Student_41\"], \"y\": [68, 58, 59, 69, 63, 64, 39, 64, 73, 114, 72, 69], \"type\": \"box\", \"uid\": \"4417061e-e411-11e8-a1d0-d7b4c6107baf\"}], {\"showlegend\": true, \"title\": \"Varia\\u00e7\\u00e3o de acesso ao f\\u00f3rum por cluster\", \"yaxis\": {\"fixedrange\": false, \"range\": [-1, 124], \"rangemode\": \"normal\", \"title\": \"Acesso ao f\\u00f3rum\", \"zeroline\": false}}, {\"showLink\": true, \"linkText\": \"Export to plot.ly\"})});</script>"
      ],
      "text/vnd.plotly.v1+html": [
       "<div id=\"a0e51fda-7b3a-436a-9e8c-0db67e750e01\" style=\"height: 525px; width: 100%;\" class=\"plotly-graph-div\"></div><script type=\"text/javascript\">require([\"plotly\"], function(Plotly) { window.PLOTLYENV=window.PLOTLYENV || {};window.PLOTLYENV.BASE_URL=\"https://plot.ly\";Plotly.newPlot(\"a0e51fda-7b3a-436a-9e8c-0db67e750e01\", [{\"boxmean\": true, \"boxpoints\": \"all\", \"marker\": {\"color\": \"rgb(255,0,0)\", \"line\": {\"width\": 1}}, \"name\": \"Cluster 1\", \"text\": [\"Student_1\", \"Student_52\", \"Student_8\", \"Student_40\", \"Student_32\", \"Student_21\", \"Student_42\", \"Student_43\", \"Student_56\", \"Student_46\", \"Student_18\", \"Student_26\", \"Student_37\", \"Student_50\"], \"y\": [7, 3, 5, 7, 6, 7, 9, 11, 3, 8, 7, 11, 4, 7], \"type\": \"box\", \"uid\": \"44170326-e411-11e8-a1d0-d7b4c6107baf\"}, {\"boxmean\": true, \"boxpoints\": \"all\", \"marker\": {\"color\": \"rgb(127,0,127)\", \"line\": {\"width\": 1}}, \"name\": \"Cluster 2\", \"text\": [\"Student_10\", \"Student_54\", \"Student_48\", \"Student_13\", \"Student_12\", \"Student_20\", \"Student_28\", \"Student_45\", \"Student_24\", \"Student_31\", \"Student_27\", \"Student_38\", \"Student_15\", \"Student_55\", \"Student_34\", \"Student_4\"], \"y\": [2, 5, 7, 12, 11, 6, 11, 5, 4, 2, 11, 23, 13, 18, 23, 7], \"type\": \"box\", \"uid\": \"441704c0-e411-11e8-a1d0-d7b4c6107baf\"}, {\"boxmean\": true, \"boxpoints\": \"all\", \"marker\": {\"color\": \"rgb(0,0,255)\", \"line\": {\"width\": 1}}, \"name\": \"Cluster 3\", \"text\": [\"Student_22\", \"Student_9\", \"Student_16\", \"Student_36\", \"Student_23\", \"Student_53\", \"Student_51\", \"Student_35\", \"Student_30\", \"Student_14\", \"Student_47\", \"Student_17\", \"Student_59\", \"Student_44\", \"Student_25\", \"Student_29\", \"Student_60\", \"Student_49\"], \"y\": [19, 18, 22, 33, 40, 47, 23, 33, 35, 11, 36, 25, 19, 20, 33, 38, 43, 28], \"type\": \"box\", \"uid\": \"44170588-e411-11e8-a1d0-d7b4c6107baf\"}, {\"boxmean\": true, \"boxpoints\": \"all\", \"marker\": {\"color\": \"rgb(0,255,0)\", \"line\": {\"width\": 1}}, \"name\": \"Cluster 4\", \"text\": [\"Student_58\", \"Student_7\", \"Student_5\", \"Student_19\", \"Student_3\", \"Student_33\", \"Student_57\", \"Student_6\", \"Student_39\", \"Student_2\", \"Student_11\", \"Student_41\"], \"y\": [68, 58, 59, 69, 63, 64, 39, 64, 73, 114, 72, 69], \"type\": \"box\", \"uid\": \"4417061e-e411-11e8-a1d0-d7b4c6107baf\"}], {\"showlegend\": true, \"title\": \"Varia\\u00e7\\u00e3o de acesso ao f\\u00f3rum por cluster\", \"yaxis\": {\"fixedrange\": false, \"range\": [-1, 124], \"rangemode\": \"normal\", \"title\": \"Acesso ao f\\u00f3rum\", \"zeroline\": false}}, {\"showLink\": true, \"linkText\": \"Export to plot.ly\"})});</script>"
      ]
     },
     "metadata": {},
     "output_type": "display_data"
    },
    {
     "data": {
      "application/vnd.plotly.v1+json": {
       "data": [
        {
         "boxmean": true,
         "boxpoints": "all",
         "marker": {
          "color": "rgb(255,0,0)",
          "line": {
           "width": 1
          }
         },
         "name": "Cluster 1",
         "text": [
          "Student_1",
          "Student_52",
          "Student_8",
          "Student_40",
          "Student_32",
          "Student_21",
          "Student_42",
          "Student_43",
          "Student_56",
          "Student_46",
          "Student_18",
          "Student_26",
          "Student_37",
          "Student_50"
         ],
         "type": "box",
         "uid": "441c31b6-e411-11e8-a1d0-d7b4c6107baf",
         "y": [
          1,
          2,
          2,
          2,
          1,
          3,
          0,
          2,
          0,
          1,
          1,
          2,
          1,
          0
         ]
        },
        {
         "boxmean": true,
         "boxpoints": "all",
         "marker": {
          "color": "rgb(127,0,127)",
          "line": {
           "width": 1
          }
         },
         "name": "Cluster 2",
         "text": [
          "Student_10",
          "Student_54",
          "Student_48",
          "Student_13",
          "Student_12",
          "Student_20",
          "Student_28",
          "Student_45",
          "Student_24",
          "Student_31",
          "Student_27",
          "Student_38",
          "Student_15",
          "Student_55",
          "Student_34",
          "Student_4"
         ],
         "type": "box",
         "uid": "441c3332-e411-11e8-a1d0-d7b4c6107baf",
         "y": [
          0,
          2,
          0,
          2,
          1,
          1,
          2,
          0,
          0,
          0,
          2,
          5,
          4,
          2,
          3,
          1
         ]
        },
        {
         "boxmean": true,
         "boxpoints": "all",
         "marker": {
          "color": "rgb(0,0,255)",
          "line": {
           "width": 1
          }
         },
         "name": "Cluster 3",
         "text": [
          "Student_22",
          "Student_9",
          "Student_16",
          "Student_36",
          "Student_23",
          "Student_53",
          "Student_51",
          "Student_35",
          "Student_30",
          "Student_14",
          "Student_47",
          "Student_17",
          "Student_59",
          "Student_44",
          "Student_25",
          "Student_29",
          "Student_60",
          "Student_49"
         ],
         "type": "box",
         "uid": "441c33fa-e411-11e8-a1d0-d7b4c6107baf",
         "y": [
          6,
          3,
          8,
          11,
          5,
          11,
          3,
          10,
          11,
          4,
          1,
          7,
          6,
          11,
          8,
          13,
          6,
          9
         ]
        },
        {
         "boxmean": true,
         "boxpoints": "all",
         "marker": {
          "color": "rgb(0,255,0)",
          "line": {
           "width": 1
          }
         },
         "name": "Cluster 4",
         "text": [
          "Student_58",
          "Student_7",
          "Student_5",
          "Student_19",
          "Student_3",
          "Student_33",
          "Student_57",
          "Student_6",
          "Student_39",
          "Student_2",
          "Student_11",
          "Student_41"
         ],
         "type": "box",
         "uid": "441c3486-e411-11e8-a1d0-d7b4c6107baf",
         "y": [
          18,
          17,
          19,
          31,
          14,
          15,
          14,
          30,
          24,
          40,
          32,
          16
         ]
        }
       ],
       "layout": {
        "showlegend": true,
        "title": "Variação de postagem no fórum por cluster",
        "yaxis": {
         "fixedrange": false,
         "range": [
          -1,
          50
         ],
         "rangemode": "normal",
         "title": "Postagem no fórum",
         "zeroline": false
        }
       }
      },
      "text/html": [
       "<div id=\"ab0c09eb-99e9-488e-8d88-9edef9bccd67\" style=\"height: 525px; width: 100%;\" class=\"plotly-graph-div\"></div><script type=\"text/javascript\">require([\"plotly\"], function(Plotly) { window.PLOTLYENV=window.PLOTLYENV || {};window.PLOTLYENV.BASE_URL=\"https://plot.ly\";Plotly.newPlot(\"ab0c09eb-99e9-488e-8d88-9edef9bccd67\", [{\"boxmean\": true, \"boxpoints\": \"all\", \"marker\": {\"color\": \"rgb(255,0,0)\", \"line\": {\"width\": 1}}, \"name\": \"Cluster 1\", \"text\": [\"Student_1\", \"Student_52\", \"Student_8\", \"Student_40\", \"Student_32\", \"Student_21\", \"Student_42\", \"Student_43\", \"Student_56\", \"Student_46\", \"Student_18\", \"Student_26\", \"Student_37\", \"Student_50\"], \"y\": [1, 2, 2, 2, 1, 3, 0, 2, 0, 1, 1, 2, 1, 0], \"type\": \"box\", \"uid\": \"441c31b6-e411-11e8-a1d0-d7b4c6107baf\"}, {\"boxmean\": true, \"boxpoints\": \"all\", \"marker\": {\"color\": \"rgb(127,0,127)\", \"line\": {\"width\": 1}}, \"name\": \"Cluster 2\", \"text\": [\"Student_10\", \"Student_54\", \"Student_48\", \"Student_13\", \"Student_12\", \"Student_20\", \"Student_28\", \"Student_45\", \"Student_24\", \"Student_31\", \"Student_27\", \"Student_38\", \"Student_15\", \"Student_55\", \"Student_34\", \"Student_4\"], \"y\": [0, 2, 0, 2, 1, 1, 2, 0, 0, 0, 2, 5, 4, 2, 3, 1], \"type\": \"box\", \"uid\": \"441c3332-e411-11e8-a1d0-d7b4c6107baf\"}, {\"boxmean\": true, \"boxpoints\": \"all\", \"marker\": {\"color\": \"rgb(0,0,255)\", \"line\": {\"width\": 1}}, \"name\": \"Cluster 3\", \"text\": [\"Student_22\", \"Student_9\", \"Student_16\", \"Student_36\", \"Student_23\", \"Student_53\", \"Student_51\", \"Student_35\", \"Student_30\", \"Student_14\", \"Student_47\", \"Student_17\", \"Student_59\", \"Student_44\", \"Student_25\", \"Student_29\", \"Student_60\", \"Student_49\"], \"y\": [6, 3, 8, 11, 5, 11, 3, 10, 11, 4, 1, 7, 6, 11, 8, 13, 6, 9], \"type\": \"box\", \"uid\": \"441c33fa-e411-11e8-a1d0-d7b4c6107baf\"}, {\"boxmean\": true, \"boxpoints\": \"all\", \"marker\": {\"color\": \"rgb(0,255,0)\", \"line\": {\"width\": 1}}, \"name\": \"Cluster 4\", \"text\": [\"Student_58\", \"Student_7\", \"Student_5\", \"Student_19\", \"Student_3\", \"Student_33\", \"Student_57\", \"Student_6\", \"Student_39\", \"Student_2\", \"Student_11\", \"Student_41\"], \"y\": [18, 17, 19, 31, 14, 15, 14, 30, 24, 40, 32, 16], \"type\": \"box\", \"uid\": \"441c3486-e411-11e8-a1d0-d7b4c6107baf\"}], {\"showlegend\": true, \"title\": \"Varia\\u00e7\\u00e3o de postagem no f\\u00f3rum por cluster\", \"yaxis\": {\"fixedrange\": false, \"range\": [-1, 50], \"rangemode\": \"normal\", \"title\": \"Postagem no f\\u00f3rum\", \"zeroline\": false}}, {\"showLink\": true, \"linkText\": \"Export to plot.ly\"})});</script>"
      ],
      "text/vnd.plotly.v1+html": [
       "<div id=\"ab0c09eb-99e9-488e-8d88-9edef9bccd67\" style=\"height: 525px; width: 100%;\" class=\"plotly-graph-div\"></div><script type=\"text/javascript\">require([\"plotly\"], function(Plotly) { window.PLOTLYENV=window.PLOTLYENV || {};window.PLOTLYENV.BASE_URL=\"https://plot.ly\";Plotly.newPlot(\"ab0c09eb-99e9-488e-8d88-9edef9bccd67\", [{\"boxmean\": true, \"boxpoints\": \"all\", \"marker\": {\"color\": \"rgb(255,0,0)\", \"line\": {\"width\": 1}}, \"name\": \"Cluster 1\", \"text\": [\"Student_1\", \"Student_52\", \"Student_8\", \"Student_40\", \"Student_32\", \"Student_21\", \"Student_42\", \"Student_43\", \"Student_56\", \"Student_46\", \"Student_18\", \"Student_26\", \"Student_37\", \"Student_50\"], \"y\": [1, 2, 2, 2, 1, 3, 0, 2, 0, 1, 1, 2, 1, 0], \"type\": \"box\", \"uid\": \"441c31b6-e411-11e8-a1d0-d7b4c6107baf\"}, {\"boxmean\": true, \"boxpoints\": \"all\", \"marker\": {\"color\": \"rgb(127,0,127)\", \"line\": {\"width\": 1}}, \"name\": \"Cluster 2\", \"text\": [\"Student_10\", \"Student_54\", \"Student_48\", \"Student_13\", \"Student_12\", \"Student_20\", \"Student_28\", \"Student_45\", \"Student_24\", \"Student_31\", \"Student_27\", \"Student_38\", \"Student_15\", \"Student_55\", \"Student_34\", \"Student_4\"], \"y\": [0, 2, 0, 2, 1, 1, 2, 0, 0, 0, 2, 5, 4, 2, 3, 1], \"type\": \"box\", \"uid\": \"441c3332-e411-11e8-a1d0-d7b4c6107baf\"}, {\"boxmean\": true, \"boxpoints\": \"all\", \"marker\": {\"color\": \"rgb(0,0,255)\", \"line\": {\"width\": 1}}, \"name\": \"Cluster 3\", \"text\": [\"Student_22\", \"Student_9\", \"Student_16\", \"Student_36\", \"Student_23\", \"Student_53\", \"Student_51\", \"Student_35\", \"Student_30\", \"Student_14\", \"Student_47\", \"Student_17\", \"Student_59\", \"Student_44\", \"Student_25\", \"Student_29\", \"Student_60\", \"Student_49\"], \"y\": [6, 3, 8, 11, 5, 11, 3, 10, 11, 4, 1, 7, 6, 11, 8, 13, 6, 9], \"type\": \"box\", \"uid\": \"441c33fa-e411-11e8-a1d0-d7b4c6107baf\"}, {\"boxmean\": true, \"boxpoints\": \"all\", \"marker\": {\"color\": \"rgb(0,255,0)\", \"line\": {\"width\": 1}}, \"name\": \"Cluster 4\", \"text\": [\"Student_58\", \"Student_7\", \"Student_5\", \"Student_19\", \"Student_3\", \"Student_33\", \"Student_57\", \"Student_6\", \"Student_39\", \"Student_2\", \"Student_11\", \"Student_41\"], \"y\": [18, 17, 19, 31, 14, 15, 14, 30, 24, 40, 32, 16], \"type\": \"box\", \"uid\": \"441c3486-e411-11e8-a1d0-d7b4c6107baf\"}], {\"showlegend\": true, \"title\": \"Varia\\u00e7\\u00e3o de postagem no f\\u00f3rum por cluster\", \"yaxis\": {\"fixedrange\": false, \"range\": [-1, 50], \"rangemode\": \"normal\", \"title\": \"Postagem no f\\u00f3rum\", \"zeroline\": false}}, {\"showLink\": true, \"linkText\": \"Export to plot.ly\"})});</script>"
      ]
     },
     "metadata": {},
     "output_type": "display_data"
    },
    {
     "data": {
      "application/vnd.plotly.v1+json": {
       "data": [
        {
         "boxmean": true,
         "boxpoints": "all",
         "marker": {
          "color": "rgb(255,0,0)",
          "line": {
           "width": 1
          }
         },
         "name": "Cluster 1",
         "text": [
          "Student_1",
          "Student_52",
          "Student_8",
          "Student_40",
          "Student_32",
          "Student_21",
          "Student_42",
          "Student_43",
          "Student_56",
          "Student_46",
          "Student_18",
          "Student_26",
          "Student_37",
          "Student_50"
         ],
         "type": "box",
         "uid": "44215236-e411-11e8-a1d0-d7b4c6107baf",
         "y": [
          2,
          0,
          0,
          1,
          2,
          1,
          1,
          2,
          0,
          1,
          1,
          2,
          0,
          2
         ]
        },
        {
         "boxmean": true,
         "boxpoints": "all",
         "marker": {
          "color": "rgb(127,0,127)",
          "line": {
           "width": 1
          }
         },
         "name": "Cluster 2",
         "text": [
          "Student_10",
          "Student_54",
          "Student_48",
          "Student_13",
          "Student_12",
          "Student_20",
          "Student_28",
          "Student_45",
          "Student_24",
          "Student_31",
          "Student_27",
          "Student_38",
          "Student_15",
          "Student_55",
          "Student_34",
          "Student_4"
         ],
         "type": "box",
         "uid": "442153b2-e411-11e8-a1d0-d7b4c6107baf",
         "y": [
          2,
          2,
          0,
          1,
          1,
          2,
          2,
          1,
          0,
          2,
          3,
          6,
          2,
          7,
          4,
          4
         ]
        },
        {
         "boxmean": true,
         "boxpoints": "all",
         "marker": {
          "color": "rgb(0,0,255)",
          "line": {
           "width": 1
          }
         },
         "name": "Cluster 3",
         "text": [
          "Student_22",
          "Student_9",
          "Student_16",
          "Student_36",
          "Student_23",
          "Student_53",
          "Student_51",
          "Student_35",
          "Student_30",
          "Student_14",
          "Student_47",
          "Student_17",
          "Student_59",
          "Student_44",
          "Student_25",
          "Student_29",
          "Student_60",
          "Student_49"
         ],
         "type": "box",
         "uid": "442158c6-e411-11e8-a1d0-d7b4c6107baf",
         "y": [
          2,
          5,
          7,
          9,
          7,
          8,
          7,
          1,
          2,
          3,
          7,
          3,
          3,
          0,
          12,
          15,
          14,
          8
         ]
        },
        {
         "boxmean": true,
         "boxpoints": "all",
         "marker": {
          "color": "rgb(0,255,0)",
          "line": {
           "width": 1
          }
         },
         "name": "Cluster 4",
         "text": [
          "Student_58",
          "Student_7",
          "Student_5",
          "Student_19",
          "Student_3",
          "Student_33",
          "Student_57",
          "Student_6",
          "Student_39",
          "Student_2",
          "Student_11",
          "Student_41"
         ],
         "type": "box",
         "uid": "4421595c-e411-11e8-a1d0-d7b4c6107baf",
         "y": [
          20,
          20,
          20,
          16,
          10,
          18,
          9,
          15,
          15,
          29,
          24,
          23
         ]
        }
       ],
       "layout": {
        "showlegend": true,
        "title": "Variação de postagem respondidas no fórum por cluster",
        "yaxis": {
         "fixedrange": false,
         "range": [
          -1,
          39
         ],
         "rangemode": "normal",
         "title": "Postagens respondidas no fórum",
         "zeroline": false
        }
       }
      },
      "text/html": [
       "<div id=\"a43a5a7c-61d4-47fc-9d51-d0248e988a6a\" style=\"height: 525px; width: 100%;\" class=\"plotly-graph-div\"></div><script type=\"text/javascript\">require([\"plotly\"], function(Plotly) { window.PLOTLYENV=window.PLOTLYENV || {};window.PLOTLYENV.BASE_URL=\"https://plot.ly\";Plotly.newPlot(\"a43a5a7c-61d4-47fc-9d51-d0248e988a6a\", [{\"boxmean\": true, \"boxpoints\": \"all\", \"marker\": {\"color\": \"rgb(255,0,0)\", \"line\": {\"width\": 1}}, \"name\": \"Cluster 1\", \"text\": [\"Student_1\", \"Student_52\", \"Student_8\", \"Student_40\", \"Student_32\", \"Student_21\", \"Student_42\", \"Student_43\", \"Student_56\", \"Student_46\", \"Student_18\", \"Student_26\", \"Student_37\", \"Student_50\"], \"y\": [2, 0, 0, 1, 2, 1, 1, 2, 0, 1, 1, 2, 0, 2], \"type\": \"box\", \"uid\": \"44215236-e411-11e8-a1d0-d7b4c6107baf\"}, {\"boxmean\": true, \"boxpoints\": \"all\", \"marker\": {\"color\": \"rgb(127,0,127)\", \"line\": {\"width\": 1}}, \"name\": \"Cluster 2\", \"text\": [\"Student_10\", \"Student_54\", \"Student_48\", \"Student_13\", \"Student_12\", \"Student_20\", \"Student_28\", \"Student_45\", \"Student_24\", \"Student_31\", \"Student_27\", \"Student_38\", \"Student_15\", \"Student_55\", \"Student_34\", \"Student_4\"], \"y\": [2, 2, 0, 1, 1, 2, 2, 1, 0, 2, 3, 6, 2, 7, 4, 4], \"type\": \"box\", \"uid\": \"442153b2-e411-11e8-a1d0-d7b4c6107baf\"}, {\"boxmean\": true, \"boxpoints\": \"all\", \"marker\": {\"color\": \"rgb(0,0,255)\", \"line\": {\"width\": 1}}, \"name\": \"Cluster 3\", \"text\": [\"Student_22\", \"Student_9\", \"Student_16\", \"Student_36\", \"Student_23\", \"Student_53\", \"Student_51\", \"Student_35\", \"Student_30\", \"Student_14\", \"Student_47\", \"Student_17\", \"Student_59\", \"Student_44\", \"Student_25\", \"Student_29\", \"Student_60\", \"Student_49\"], \"y\": [2, 5, 7, 9, 7, 8, 7, 1, 2, 3, 7, 3, 3, 0, 12, 15, 14, 8], \"type\": \"box\", \"uid\": \"442158c6-e411-11e8-a1d0-d7b4c6107baf\"}, {\"boxmean\": true, \"boxpoints\": \"all\", \"marker\": {\"color\": \"rgb(0,255,0)\", \"line\": {\"width\": 1}}, \"name\": \"Cluster 4\", \"text\": [\"Student_58\", \"Student_7\", \"Student_5\", \"Student_19\", \"Student_3\", \"Student_33\", \"Student_57\", \"Student_6\", \"Student_39\", \"Student_2\", \"Student_11\", \"Student_41\"], \"y\": [20, 20, 20, 16, 10, 18, 9, 15, 15, 29, 24, 23], \"type\": \"box\", \"uid\": \"4421595c-e411-11e8-a1d0-d7b4c6107baf\"}], {\"showlegend\": true, \"title\": \"Varia\\u00e7\\u00e3o de postagem respondidas no f\\u00f3rum por cluster\", \"yaxis\": {\"fixedrange\": false, \"range\": [-1, 39], \"rangemode\": \"normal\", \"title\": \"Postagens respondidas no f\\u00f3rum\", \"zeroline\": false}}, {\"showLink\": true, \"linkText\": \"Export to plot.ly\"})});</script>"
      ],
      "text/vnd.plotly.v1+html": [
       "<div id=\"a43a5a7c-61d4-47fc-9d51-d0248e988a6a\" style=\"height: 525px; width: 100%;\" class=\"plotly-graph-div\"></div><script type=\"text/javascript\">require([\"plotly\"], function(Plotly) { window.PLOTLYENV=window.PLOTLYENV || {};window.PLOTLYENV.BASE_URL=\"https://plot.ly\";Plotly.newPlot(\"a43a5a7c-61d4-47fc-9d51-d0248e988a6a\", [{\"boxmean\": true, \"boxpoints\": \"all\", \"marker\": {\"color\": \"rgb(255,0,0)\", \"line\": {\"width\": 1}}, \"name\": \"Cluster 1\", \"text\": [\"Student_1\", \"Student_52\", \"Student_8\", \"Student_40\", \"Student_32\", \"Student_21\", \"Student_42\", \"Student_43\", \"Student_56\", \"Student_46\", \"Student_18\", \"Student_26\", \"Student_37\", \"Student_50\"], \"y\": [2, 0, 0, 1, 2, 1, 1, 2, 0, 1, 1, 2, 0, 2], \"type\": \"box\", \"uid\": \"44215236-e411-11e8-a1d0-d7b4c6107baf\"}, {\"boxmean\": true, \"boxpoints\": \"all\", \"marker\": {\"color\": \"rgb(127,0,127)\", \"line\": {\"width\": 1}}, \"name\": \"Cluster 2\", \"text\": [\"Student_10\", \"Student_54\", \"Student_48\", \"Student_13\", \"Student_12\", \"Student_20\", \"Student_28\", \"Student_45\", \"Student_24\", \"Student_31\", \"Student_27\", \"Student_38\", \"Student_15\", \"Student_55\", \"Student_34\", \"Student_4\"], \"y\": [2, 2, 0, 1, 1, 2, 2, 1, 0, 2, 3, 6, 2, 7, 4, 4], \"type\": \"box\", \"uid\": \"442153b2-e411-11e8-a1d0-d7b4c6107baf\"}, {\"boxmean\": true, \"boxpoints\": \"all\", \"marker\": {\"color\": \"rgb(0,0,255)\", \"line\": {\"width\": 1}}, \"name\": \"Cluster 3\", \"text\": [\"Student_22\", \"Student_9\", \"Student_16\", \"Student_36\", \"Student_23\", \"Student_53\", \"Student_51\", \"Student_35\", \"Student_30\", \"Student_14\", \"Student_47\", \"Student_17\", \"Student_59\", \"Student_44\", \"Student_25\", \"Student_29\", \"Student_60\", \"Student_49\"], \"y\": [2, 5, 7, 9, 7, 8, 7, 1, 2, 3, 7, 3, 3, 0, 12, 15, 14, 8], \"type\": \"box\", \"uid\": \"442158c6-e411-11e8-a1d0-d7b4c6107baf\"}, {\"boxmean\": true, \"boxpoints\": \"all\", \"marker\": {\"color\": \"rgb(0,255,0)\", \"line\": {\"width\": 1}}, \"name\": \"Cluster 4\", \"text\": [\"Student_58\", \"Student_7\", \"Student_5\", \"Student_19\", \"Student_3\", \"Student_33\", \"Student_57\", \"Student_6\", \"Student_39\", \"Student_2\", \"Student_11\", \"Student_41\"], \"y\": [20, 20, 20, 16, 10, 18, 9, 15, 15, 29, 24, 23], \"type\": \"box\", \"uid\": \"4421595c-e411-11e8-a1d0-d7b4c6107baf\"}], {\"showlegend\": true, \"title\": \"Varia\\u00e7\\u00e3o de postagem respondidas no f\\u00f3rum por cluster\", \"yaxis\": {\"fixedrange\": false, \"range\": [-1, 39], \"rangemode\": \"normal\", \"title\": \"Postagens respondidas no f\\u00f3rum\", \"zeroline\": false}}, {\"showLink\": true, \"linkText\": \"Export to plot.ly\"})});</script>"
      ]
     },
     "metadata": {},
     "output_type": "display_data"
    },
    {
     "data": {
      "application/vnd.plotly.v1+json": {
       "data": [
        {
         "boxmean": true,
         "boxpoints": "all",
         "marker": {
          "color": "rgb(255,0,0)",
          "line": {
           "width": 1
          }
         },
         "name": "Cluster 1",
         "text": [
          "Student_1",
          "Student_52",
          "Student_8",
          "Student_40",
          "Student_32",
          "Student_21",
          "Student_42",
          "Student_43",
          "Student_56",
          "Student_46",
          "Student_18",
          "Student_26",
          "Student_37",
          "Student_50"
         ],
         "type": "box",
         "uid": "4426aa60-e411-11e8-a1d0-d7b4c6107baf",
         "y": [
          3,
          1,
          1,
          3,
          2,
          1,
          3,
          1,
          3,
          1,
          1,
          3,
          2,
          1
         ]
        },
        {
         "boxmean": true,
         "boxpoints": "all",
         "marker": {
          "color": "rgb(127,0,127)",
          "line": {
           "width": 1
          }
         },
         "name": "Cluster 2",
         "text": [
          "Student_10",
          "Student_54",
          "Student_48",
          "Student_13",
          "Student_12",
          "Student_20",
          "Student_28",
          "Student_45",
          "Student_24",
          "Student_31",
          "Student_27",
          "Student_38",
          "Student_15",
          "Student_55",
          "Student_34",
          "Student_4"
         ],
         "type": "box",
         "uid": "4426abf0-e411-11e8-a1d0-d7b4c6107baf",
         "y": [
          0,
          0,
          1,
          3,
          3,
          0,
          2,
          2,
          3,
          0,
          1,
          2,
          0,
          3,
          2,
          2
         ]
        },
        {
         "boxmean": true,
         "boxpoints": "all",
         "marker": {
          "color": "rgb(0,0,255)",
          "line": {
           "width": 1
          }
         },
         "name": "Cluster 3",
         "text": [
          "Student_22",
          "Student_9",
          "Student_16",
          "Student_36",
          "Student_23",
          "Student_53",
          "Student_51",
          "Student_35",
          "Student_30",
          "Student_14",
          "Student_47",
          "Student_17",
          "Student_59",
          "Student_44",
          "Student_25",
          "Student_29",
          "Student_60",
          "Student_49"
         ],
         "type": "box",
         "uid": "4426acc2-e411-11e8-a1d0-d7b4c6107baf",
         "y": [
          1,
          2,
          3,
          1,
          7,
          7,
          7,
          6,
          7,
          1,
          3,
          1,
          3,
          2,
          0,
          6,
          0,
          0
         ]
        },
        {
         "boxmean": true,
         "boxpoints": "all",
         "marker": {
          "color": "rgb(0,255,0)",
          "line": {
           "width": 1
          }
         },
         "name": "Cluster 4",
         "text": [
          "Student_58",
          "Student_7",
          "Student_5",
          "Student_19",
          "Student_3",
          "Student_33",
          "Student_57",
          "Student_6",
          "Student_39",
          "Student_2",
          "Student_11",
          "Student_41"
         ],
         "type": "box",
         "uid": "4426ad6c-e411-11e8-a1d0-d7b4c6107baf",
         "y": [
          0,
          1,
          2,
          3,
          9,
          4,
          2,
          1,
          8,
          6,
          3,
          8
         ]
        }
       ],
       "layout": {
        "showlegend": true,
        "title": "Variação de threads iniciadas no fórum por cluster",
        "yaxis": {
         "fixedrange": false,
         "range": [
          -1,
          19
         ],
         "rangemode": "normal",
         "title": "Threads iniciadas no fórum",
         "zeroline": false
        }
       }
      },
      "text/html": [
       "<div id=\"781de258-3535-42c0-865b-6d6b23244d98\" style=\"height: 525px; width: 100%;\" class=\"plotly-graph-div\"></div><script type=\"text/javascript\">require([\"plotly\"], function(Plotly) { window.PLOTLYENV=window.PLOTLYENV || {};window.PLOTLYENV.BASE_URL=\"https://plot.ly\";Plotly.newPlot(\"781de258-3535-42c0-865b-6d6b23244d98\", [{\"boxmean\": true, \"boxpoints\": \"all\", \"marker\": {\"color\": \"rgb(255,0,0)\", \"line\": {\"width\": 1}}, \"name\": \"Cluster 1\", \"text\": [\"Student_1\", \"Student_52\", \"Student_8\", \"Student_40\", \"Student_32\", \"Student_21\", \"Student_42\", \"Student_43\", \"Student_56\", \"Student_46\", \"Student_18\", \"Student_26\", \"Student_37\", \"Student_50\"], \"y\": [3, 1, 1, 3, 2, 1, 3, 1, 3, 1, 1, 3, 2, 1], \"type\": \"box\", \"uid\": \"4426aa60-e411-11e8-a1d0-d7b4c6107baf\"}, {\"boxmean\": true, \"boxpoints\": \"all\", \"marker\": {\"color\": \"rgb(127,0,127)\", \"line\": {\"width\": 1}}, \"name\": \"Cluster 2\", \"text\": [\"Student_10\", \"Student_54\", \"Student_48\", \"Student_13\", \"Student_12\", \"Student_20\", \"Student_28\", \"Student_45\", \"Student_24\", \"Student_31\", \"Student_27\", \"Student_38\", \"Student_15\", \"Student_55\", \"Student_34\", \"Student_4\"], \"y\": [0, 0, 1, 3, 3, 0, 2, 2, 3, 0, 1, 2, 0, 3, 2, 2], \"type\": \"box\", \"uid\": \"4426abf0-e411-11e8-a1d0-d7b4c6107baf\"}, {\"boxmean\": true, \"boxpoints\": \"all\", \"marker\": {\"color\": \"rgb(0,0,255)\", \"line\": {\"width\": 1}}, \"name\": \"Cluster 3\", \"text\": [\"Student_22\", \"Student_9\", \"Student_16\", \"Student_36\", \"Student_23\", \"Student_53\", \"Student_51\", \"Student_35\", \"Student_30\", \"Student_14\", \"Student_47\", \"Student_17\", \"Student_59\", \"Student_44\", \"Student_25\", \"Student_29\", \"Student_60\", \"Student_49\"], \"y\": [1, 2, 3, 1, 7, 7, 7, 6, 7, 1, 3, 1, 3, 2, 0, 6, 0, 0], \"type\": \"box\", \"uid\": \"4426acc2-e411-11e8-a1d0-d7b4c6107baf\"}, {\"boxmean\": true, \"boxpoints\": \"all\", \"marker\": {\"color\": \"rgb(0,255,0)\", \"line\": {\"width\": 1}}, \"name\": \"Cluster 4\", \"text\": [\"Student_58\", \"Student_7\", \"Student_5\", \"Student_19\", \"Student_3\", \"Student_33\", \"Student_57\", \"Student_6\", \"Student_39\", \"Student_2\", \"Student_11\", \"Student_41\"], \"y\": [0, 1, 2, 3, 9, 4, 2, 1, 8, 6, 3, 8], \"type\": \"box\", \"uid\": \"4426ad6c-e411-11e8-a1d0-d7b4c6107baf\"}], {\"showlegend\": true, \"title\": \"Varia\\u00e7\\u00e3o de threads iniciadas no f\\u00f3rum por cluster\", \"yaxis\": {\"fixedrange\": false, \"range\": [-1, 19], \"rangemode\": \"normal\", \"title\": \"Threads iniciadas no f\\u00f3rum\", \"zeroline\": false}}, {\"showLink\": true, \"linkText\": \"Export to plot.ly\"})});</script>"
      ],
      "text/vnd.plotly.v1+html": [
       "<div id=\"781de258-3535-42c0-865b-6d6b23244d98\" style=\"height: 525px; width: 100%;\" class=\"plotly-graph-div\"></div><script type=\"text/javascript\">require([\"plotly\"], function(Plotly) { window.PLOTLYENV=window.PLOTLYENV || {};window.PLOTLYENV.BASE_URL=\"https://plot.ly\";Plotly.newPlot(\"781de258-3535-42c0-865b-6d6b23244d98\", [{\"boxmean\": true, \"boxpoints\": \"all\", \"marker\": {\"color\": \"rgb(255,0,0)\", \"line\": {\"width\": 1}}, \"name\": \"Cluster 1\", \"text\": [\"Student_1\", \"Student_52\", \"Student_8\", \"Student_40\", \"Student_32\", \"Student_21\", \"Student_42\", \"Student_43\", \"Student_56\", \"Student_46\", \"Student_18\", \"Student_26\", \"Student_37\", \"Student_50\"], \"y\": [3, 1, 1, 3, 2, 1, 3, 1, 3, 1, 1, 3, 2, 1], \"type\": \"box\", \"uid\": \"4426aa60-e411-11e8-a1d0-d7b4c6107baf\"}, {\"boxmean\": true, \"boxpoints\": \"all\", \"marker\": {\"color\": \"rgb(127,0,127)\", \"line\": {\"width\": 1}}, \"name\": \"Cluster 2\", \"text\": [\"Student_10\", \"Student_54\", \"Student_48\", \"Student_13\", \"Student_12\", \"Student_20\", \"Student_28\", \"Student_45\", \"Student_24\", \"Student_31\", \"Student_27\", \"Student_38\", \"Student_15\", \"Student_55\", \"Student_34\", \"Student_4\"], \"y\": [0, 0, 1, 3, 3, 0, 2, 2, 3, 0, 1, 2, 0, 3, 2, 2], \"type\": \"box\", \"uid\": \"4426abf0-e411-11e8-a1d0-d7b4c6107baf\"}, {\"boxmean\": true, \"boxpoints\": \"all\", \"marker\": {\"color\": \"rgb(0,0,255)\", \"line\": {\"width\": 1}}, \"name\": \"Cluster 3\", \"text\": [\"Student_22\", \"Student_9\", \"Student_16\", \"Student_36\", \"Student_23\", \"Student_53\", \"Student_51\", \"Student_35\", \"Student_30\", \"Student_14\", \"Student_47\", \"Student_17\", \"Student_59\", \"Student_44\", \"Student_25\", \"Student_29\", \"Student_60\", \"Student_49\"], \"y\": [1, 2, 3, 1, 7, 7, 7, 6, 7, 1, 3, 1, 3, 2, 0, 6, 0, 0], \"type\": \"box\", \"uid\": \"4426acc2-e411-11e8-a1d0-d7b4c6107baf\"}, {\"boxmean\": true, \"boxpoints\": \"all\", \"marker\": {\"color\": \"rgb(0,255,0)\", \"line\": {\"width\": 1}}, \"name\": \"Cluster 4\", \"text\": [\"Student_58\", \"Student_7\", \"Student_5\", \"Student_19\", \"Student_3\", \"Student_33\", \"Student_57\", \"Student_6\", \"Student_39\", \"Student_2\", \"Student_11\", \"Student_41\"], \"y\": [0, 1, 2, 3, 9, 4, 2, 1, 8, 6, 3, 8], \"type\": \"box\", \"uid\": \"4426ad6c-e411-11e8-a1d0-d7b4c6107baf\"}], {\"showlegend\": true, \"title\": \"Varia\\u00e7\\u00e3o de threads iniciadas no f\\u00f3rum por cluster\", \"yaxis\": {\"fixedrange\": false, \"range\": [-1, 19], \"rangemode\": \"normal\", \"title\": \"Threads iniciadas no f\\u00f3rum\", \"zeroline\": false}}, {\"showLink\": true, \"linkText\": \"Export to plot.ly\"})});</script>"
      ]
     },
     "metadata": {},
     "output_type": "display_data"
    },
    {
     "data": {
      "application/vnd.plotly.v1+json": {
       "data": [
        {
         "box": {
          "visible": true
         },
         "meanline": {
          "visible": true
         },
         "name": "Cluster 4",
         "type": "violin",
         "uid": "442a9800-e411-11e8-a1d0-d7b4c6107baf",
         "x": [
          "Cluster 4"
         ],
         "y": [
          74,
          74,
          77,
          81,
          82,
          85,
          86,
          87,
          88,
          92,
          94,
          94
         ]
        }
       ],
       "layout": {
        "showlegend": true,
        "title": "Variação de notas por cluster",
        "yaxis": {
         "fixedrange": false,
         "range": [
          -1,
          19
         ],
         "rangemode": "normal",
         "title": "Threads iniciadas no fórum",
         "zeroline": false
        }
       }
      },
      "text/html": [
       "<div id=\"412f61a7-9ce7-493f-aa09-9f6619949287\" style=\"height: 525px; width: 100%;\" class=\"plotly-graph-div\"></div><script type=\"text/javascript\">require([\"plotly\"], function(Plotly) { window.PLOTLYENV=window.PLOTLYENV || {};window.PLOTLYENV.BASE_URL=\"https://plot.ly\";Plotly.newPlot(\"412f61a7-9ce7-493f-aa09-9f6619949287\", [{\"box\": {\"visible\": true}, \"meanline\": {\"visible\": true}, \"name\": \"Cluster 4\", \"x\": [\"Cluster 4\"], \"y\": [74, 74, 77, 81, 82, 85, 86, 87, 88, 92, 94, 94], \"type\": \"violin\", \"uid\": \"442a9800-e411-11e8-a1d0-d7b4c6107baf\"}], {\"showlegend\": true, \"title\": \"Varia\\u00e7\\u00e3o de notas por cluster\", \"yaxis\": {\"fixedrange\": false, \"range\": [-1, 19], \"rangemode\": \"normal\", \"title\": \"Threads iniciadas no f\\u00f3rum\", \"zeroline\": false}}, {\"showLink\": true, \"linkText\": \"Export to plot.ly\"})});</script>"
      ],
      "text/vnd.plotly.v1+html": [
       "<div id=\"412f61a7-9ce7-493f-aa09-9f6619949287\" style=\"height: 525px; width: 100%;\" class=\"plotly-graph-div\"></div><script type=\"text/javascript\">require([\"plotly\"], function(Plotly) { window.PLOTLYENV=window.PLOTLYENV || {};window.PLOTLYENV.BASE_URL=\"https://plot.ly\";Plotly.newPlot(\"412f61a7-9ce7-493f-aa09-9f6619949287\", [{\"box\": {\"visible\": true}, \"meanline\": {\"visible\": true}, \"name\": \"Cluster 4\", \"x\": [\"Cluster 4\"], \"y\": [74, 74, 77, 81, 82, 85, 86, 87, 88, 92, 94, 94], \"type\": \"violin\", \"uid\": \"442a9800-e411-11e8-a1d0-d7b4c6107baf\"}], {\"showlegend\": true, \"title\": \"Varia\\u00e7\\u00e3o de notas por cluster\", \"yaxis\": {\"fixedrange\": false, \"range\": [-1, 19], \"rangemode\": \"normal\", \"title\": \"Threads iniciadas no f\\u00f3rum\", \"zeroline\": false}}, {\"showLink\": true, \"linkText\": \"Export to plot.ly\"})});</script>"
      ]
     },
     "metadata": {},
     "output_type": "display_data"
    }
   ],
   "source": [
    "run scripts/V005.py"
   ]
  },
  {
   "cell_type": "markdown",
   "metadata": {},
   "source": [
    "### View 006"
   ]
  },
  {
   "cell_type": "code",
   "execution_count": null,
   "metadata": {},
   "outputs": [],
   "source": [
    "run scripts/V006.py"
   ]
  },
  {
   "cell_type": "markdown",
   "metadata": {},
   "source": [
    "### View 007"
   ]
  },
  {
   "cell_type": "code",
   "execution_count": null,
   "metadata": {},
   "outputs": [],
   "source": [
    "run scripts/V007.py"
   ]
  },
  {
   "cell_type": "markdown",
   "metadata": {},
   "source": [
    "### View 008"
   ]
  },
  {
   "cell_type": "code",
   "execution_count": null,
   "metadata": {},
   "outputs": [],
   "source": [
    "run scripts/V008.py"
   ]
  },
  {
   "cell_type": "markdown",
   "metadata": {},
   "source": [
    "### View 009"
   ]
  },
  {
   "cell_type": "code",
   "execution_count": null,
   "metadata": {},
   "outputs": [],
   "source": [
    "run scripts/V009.py"
   ]
  },
  {
   "cell_type": "markdown",
   "metadata": {},
   "source": [
    "### View 010"
   ]
  },
  {
   "cell_type": "code",
   "execution_count": 46,
   "metadata": {},
   "outputs": [],
   "source": [
    "run scripts/V010.py"
   ]
  },
  {
   "cell_type": "markdown",
   "metadata": {},
   "source": [
    "### View 011"
   ]
  },
  {
   "cell_type": "code",
   "execution_count": null,
   "metadata": {},
   "outputs": [],
   "source": [
    "run scripts/V011.py"
   ]
  }
 ],
 "metadata": {
  "kernelspec": {
   "display_name": "Python 3",
   "language": "python",
   "name": "python3"
  },
  "language_info": {
   "codemirror_mode": {
    "name": "ipython",
    "version": 3
   },
   "file_extension": ".py",
   "mimetype": "text/x-python",
   "name": "python",
   "nbconvert_exporter": "python",
   "pygments_lexer": "ipython3",
   "version": "3.7.0"
  }
 },
 "nbformat": 4,
 "nbformat_minor": 2
}
