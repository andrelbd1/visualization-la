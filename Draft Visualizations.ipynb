{
 "cells": [
  {
   "cell_type": "markdown",
   "metadata": {},
   "source": [
    "### View 001"
   ]
  },
  {
   "cell_type": "code",
   "execution_count": 3,
   "metadata": {},
   "outputs": [
    {
     "data": {
      "text/html": [
       "<script>requirejs.config({paths: { 'plotly': ['https://cdn.plot.ly/plotly-latest.min']},});if(!window.Plotly) {{require(['plotly'],function(plotly) {window.Plotly=plotly;});}}</script>"
      ],
      "text/vnd.plotly.v1+html": [
       "<script>requirejs.config({paths: { 'plotly': ['https://cdn.plot.ly/plotly-latest.min']},});if(!window.Plotly) {{require(['plotly'],function(plotly) {window.Plotly=plotly;});}}</script>"
      ]
     },
     "metadata": {},
     "output_type": "display_data"
    },
    {
     "data": {
      "application/vnd.plotly.v1+json": {
       "data": [
        {
         "cells": {
          "align": [
           "left",
           "center"
          ],
          "fill": {
           "color": "#F5F8FF"
          },
          "values": [
           [
            "Student_1",
            "Student_2",
            "Student_3",
            "Student_4",
            "Student_5",
            "Student_6",
            "Student_7",
            "Student_8",
            "Student_9",
            "Student_10",
            "Student_11",
            "Student_12",
            "Student_13",
            "Student_14",
            "Student_15",
            "Student_16",
            "Student_17",
            "Student_18",
            "Student_19",
            "Student_20"
           ],
           [
            1,
            1,
            1,
            1,
            1,
            1,
            1,
            0,
            0,
            0,
            0,
            1,
            0,
            0,
            0,
            0,
            1,
            0,
            1,
            0
           ],
           [
            1,
            1,
            1,
            1,
            1,
            1,
            1,
            1,
            1,
            0,
            1,
            0,
            0,
            1,
            0,
            1,
            0,
            1,
            0,
            0
           ],
           [
            0,
            1,
            0,
            1,
            1,
            1,
            0,
            1,
            0,
            0,
            1,
            1,
            1,
            1,
            1,
            1,
            0,
            1,
            0,
            1
           ],
           [
            0,
            1,
            1,
            1,
            0,
            0,
            1,
            0,
            0,
            1,
            1,
            0,
            0,
            0,
            1,
            1,
            1,
            0,
            1,
            0
           ]
          ]
         },
         "header": {
          "align": "center",
          "fill": {
           "color": "#C2D4FF"
          },
          "values": [
           "Students",
           "Assign1",
           "Assign2",
           "Assign3",
           "Assign4"
          ]
         },
         "type": "table",
         "uid": "81b73b50-e043-11e8-bee7-9fb6bcbfed05"
        }
       ],
       "layout": {}
      },
      "text/html": [
       "<div id=\"5595ac59-b967-4845-bf64-eb02d6ddec77\" style=\"height: 525px; width: 100%;\" class=\"plotly-graph-div\"></div><script type=\"text/javascript\">require([\"plotly\"], function(Plotly) { window.PLOTLYENV=window.PLOTLYENV || {};window.PLOTLYENV.BASE_URL=\"https://plot.ly\";Plotly.newPlot(\"5595ac59-b967-4845-bf64-eb02d6ddec77\", [{\"cells\": {\"align\": [\"left\", \"center\"], \"fill\": {\"color\": \"#F5F8FF\"}, \"values\": [[\"Student_1\", \"Student_2\", \"Student_3\", \"Student_4\", \"Student_5\", \"Student_6\", \"Student_7\", \"Student_8\", \"Student_9\", \"Student_10\", \"Student_11\", \"Student_12\", \"Student_13\", \"Student_14\", \"Student_15\", \"Student_16\", \"Student_17\", \"Student_18\", \"Student_19\", \"Student_20\"], [1, 1, 1, 1, 1, 1, 1, 0, 0, 0, 0, 1, 0, 0, 0, 0, 1, 0, 1, 0], [1, 1, 1, 1, 1, 1, 1, 1, 1, 0, 1, 0, 0, 1, 0, 1, 0, 1, 0, 0], [0, 1, 0, 1, 1, 1, 0, 1, 0, 0, 1, 1, 1, 1, 1, 1, 0, 1, 0, 1], [0, 1, 1, 1, 0, 0, 1, 0, 0, 1, 1, 0, 0, 0, 1, 1, 1, 0, 1, 0]]}, \"header\": {\"align\": \"center\", \"fill\": {\"color\": \"#C2D4FF\"}, \"values\": [\"Students\", \"Assign1\", \"Assign2\", \"Assign3\", \"Assign4\"]}, \"type\": \"table\", \"uid\": \"8238e9f2-e043-11e8-bee7-9fb6bcbfed05\"}], {}, {\"showLink\": true, \"linkText\": \"Export to plot.ly\"})});</script>"
      ],
      "text/vnd.plotly.v1+html": [
       "<div id=\"5595ac59-b967-4845-bf64-eb02d6ddec77\" style=\"height: 525px; width: 100%;\" class=\"plotly-graph-div\"></div><script type=\"text/javascript\">require([\"plotly\"], function(Plotly) { window.PLOTLYENV=window.PLOTLYENV || {};window.PLOTLYENV.BASE_URL=\"https://plot.ly\";Plotly.newPlot(\"5595ac59-b967-4845-bf64-eb02d6ddec77\", [{\"cells\": {\"align\": [\"left\", \"center\"], \"fill\": {\"color\": \"#F5F8FF\"}, \"values\": [[\"Student_1\", \"Student_2\", \"Student_3\", \"Student_4\", \"Student_5\", \"Student_6\", \"Student_7\", \"Student_8\", \"Student_9\", \"Student_10\", \"Student_11\", \"Student_12\", \"Student_13\", \"Student_14\", \"Student_15\", \"Student_16\", \"Student_17\", \"Student_18\", \"Student_19\", \"Student_20\"], [1, 1, 1, 1, 1, 1, 1, 0, 0, 0, 0, 1, 0, 0, 0, 0, 1, 0, 1, 0], [1, 1, 1, 1, 1, 1, 1, 1, 1, 0, 1, 0, 0, 1, 0, 1, 0, 1, 0, 0], [0, 1, 0, 1, 1, 1, 0, 1, 0, 0, 1, 1, 1, 1, 1, 1, 0, 1, 0, 1], [0, 1, 1, 1, 0, 0, 1, 0, 0, 1, 1, 0, 0, 0, 1, 1, 1, 0, 1, 0]]}, \"header\": {\"align\": \"center\", \"fill\": {\"color\": \"#C2D4FF\"}, \"values\": [\"Students\", \"Assign1\", \"Assign2\", \"Assign3\", \"Assign4\"]}, \"type\": \"table\", \"uid\": \"8238e9f2-e043-11e8-bee7-9fb6bcbfed05\"}], {}, {\"showLink\": true, \"linkText\": \"Export to plot.ly\"})});</script>"
      ]
     },
     "metadata": {},
     "output_type": "display_data"
    },
    {
     "data": {
      "application/vnd.plotly.v1+json": {
       "data": [
        {
         "type": "bar",
         "uid": "828d592e-e043-11e8-bee7-9fb6bcbfed05",
         "x": [
          "Student_1",
          "Student_2",
          "Student_3",
          "Student_4",
          "Student_5",
          "Student_6",
          "Student_7",
          "Student_8",
          "Student_9",
          "Student_10",
          "Student_11",
          "Student_12",
          "Student_13",
          "Student_14",
          "Student_15",
          "Student_16",
          "Student_17",
          "Student_18",
          "Student_19",
          "Student_20"
         ],
         "y": [
          2,
          4,
          3,
          4,
          3,
          3,
          3,
          2,
          1,
          1,
          3,
          2,
          1,
          2,
          2,
          3,
          2,
          2,
          2,
          1
         ]
        }
       ],
       "layout": {
        "title": "Quantidade de tarefas feitas por alunos",
        "yaxis": {
         "dtick": 1,
         "exponentformat": "e",
         "gridcolor": "#bdbdbd",
         "showexponent": "all",
         "showticklabels": true,
         "tick0": 0,
         "titlefont": {
          "color": "lightgrey",
          "family": "Arial, sans-serif"
         }
        }
       }
      },
      "text/html": [
       "<div id=\"58805343-b6b1-4084-b03c-8d93a41273ac\" style=\"height: 525px; width: 100%;\" class=\"plotly-graph-div\"></div><script type=\"text/javascript\">require([\"plotly\"], function(Plotly) { window.PLOTLYENV=window.PLOTLYENV || {};window.PLOTLYENV.BASE_URL=\"https://plot.ly\";\n",
       "        Plotly.plot(\n",
       "            '58805343-b6b1-4084-b03c-8d93a41273ac',\n",
       "            [{\"x\": [\"Student_1\", \"Student_2\", \"Student_3\", \"Student_4\", \"Student_5\", \"Student_6\", \"Student_7\", \"Student_8\", \"Student_9\", \"Student_10\", \"Student_11\", \"Student_12\", \"Student_13\", \"Student_14\", \"Student_15\", \"Student_16\", \"Student_17\", \"Student_18\", \"Student_19\", \"Student_20\"], \"y\": [2.0, 4.0, 3.0, 4.0, 3.0, 3.0, 3.0, 2.0, 1.0, 1.0, 3.0, 2.0, 1.0, 2.0, 2.0, 3.0, 2.0, 2.0, 2.0, 1.0], \"type\": \"bar\", \"uid\": \"828d592e-e043-11e8-bee7-9fb6bcbfed05\"}],\n",
       "            {\"title\": \"Quantidade de tarefas feitas por alunos\", \"yaxis\": {\"dtick\": 1, \"exponentformat\": \"e\", \"gridcolor\": \"#bdbdbd\", \"showexponent\": \"all\", \"showticklabels\": true, \"tick0\": 0, \"titlefont\": {\"color\": \"lightgrey\", \"family\": \"Arial, sans-serif\"}}},\n",
       "            {\"showLink\": true, \"linkText\": \"Export to plot.ly\"}\n",
       "        ).then(function () {return Plotly.addFrames('58805343-b6b1-4084-b03c-8d93a41273ac',{});}).then(function(){Plotly.animate('58805343-b6b1-4084-b03c-8d93a41273ac');})\n",
       "        });</script>"
      ],
      "text/vnd.plotly.v1+html": [
       "<div id=\"58805343-b6b1-4084-b03c-8d93a41273ac\" style=\"height: 525px; width: 100%;\" class=\"plotly-graph-div\"></div><script type=\"text/javascript\">require([\"plotly\"], function(Plotly) { window.PLOTLYENV=window.PLOTLYENV || {};window.PLOTLYENV.BASE_URL=\"https://plot.ly\";\n",
       "        Plotly.plot(\n",
       "            '58805343-b6b1-4084-b03c-8d93a41273ac',\n",
       "            [{\"x\": [\"Student_1\", \"Student_2\", \"Student_3\", \"Student_4\", \"Student_5\", \"Student_6\", \"Student_7\", \"Student_8\", \"Student_9\", \"Student_10\", \"Student_11\", \"Student_12\", \"Student_13\", \"Student_14\", \"Student_15\", \"Student_16\", \"Student_17\", \"Student_18\", \"Student_19\", \"Student_20\"], \"y\": [2.0, 4.0, 3.0, 4.0, 3.0, 3.0, 3.0, 2.0, 1.0, 1.0, 3.0, 2.0, 1.0, 2.0, 2.0, 3.0, 2.0, 2.0, 2.0, 1.0], \"type\": \"bar\", \"uid\": \"828d592e-e043-11e8-bee7-9fb6bcbfed05\"}],\n",
       "            {\"title\": \"Quantidade de tarefas feitas por alunos\", \"yaxis\": {\"dtick\": 1, \"exponentformat\": \"e\", \"gridcolor\": \"#bdbdbd\", \"showexponent\": \"all\", \"showticklabels\": true, \"tick0\": 0, \"titlefont\": {\"color\": \"lightgrey\", \"family\": \"Arial, sans-serif\"}}},\n",
       "            {\"showLink\": true, \"linkText\": \"Export to plot.ly\"}\n",
       "        ).then(function () {return Plotly.addFrames('58805343-b6b1-4084-b03c-8d93a41273ac',{});}).then(function(){Plotly.animate('58805343-b6b1-4084-b03c-8d93a41273ac');})\n",
       "        });</script>"
      ]
     },
     "metadata": {},
     "output_type": "display_data"
    },
    {
     "data": {
      "application/vnd.plotly.v1+json": {
       "data": [
        {
         "type": "bar",
         "uid": "829cfd16-e043-11e8-bee7-9fb6bcbfed05",
         "x": [
          "Assign1",
          "Assign2",
          "Assign3",
          "Assign4"
         ],
         "y": [
          10,
          13,
          13,
          10
         ]
        }
       ],
       "layout": {
        "title": "Quantidade de alunos que fizeram as tarefas",
        "yaxis": {
         "dtick": 1,
         "exponentformat": "e",
         "gridcolor": "#bdbdbd",
         "showexponent": "all",
         "showticklabels": true,
         "tick0": 0,
         "titlefont": {
          "color": "lightgrey",
          "family": "Arial, sans-serif"
         }
        }
       }
      },
      "text/html": [
       "<div id=\"c3cdf7e0-3fee-4ffb-becd-dc83773ed04b\" style=\"height: 525px; width: 100%;\" class=\"plotly-graph-div\"></div><script type=\"text/javascript\">require([\"plotly\"], function(Plotly) { window.PLOTLYENV=window.PLOTLYENV || {};window.PLOTLYENV.BASE_URL=\"https://plot.ly\";\n",
       "        Plotly.plot(\n",
       "            'c3cdf7e0-3fee-4ffb-becd-dc83773ed04b',\n",
       "            [{\"x\": [\"Assign1\", \"Assign2\", \"Assign3\", \"Assign4\"], \"y\": [10, 13, 13, 10], \"type\": \"bar\", \"uid\": \"829cfd16-e043-11e8-bee7-9fb6bcbfed05\"}],\n",
       "            {\"title\": \"Quantidade de alunos que fizeram as tarefas\", \"yaxis\": {\"dtick\": 1, \"exponentformat\": \"e\", \"gridcolor\": \"#bdbdbd\", \"showexponent\": \"all\", \"showticklabels\": true, \"tick0\": 0, \"titlefont\": {\"color\": \"lightgrey\", \"family\": \"Arial, sans-serif\"}}},\n",
       "            {\"showLink\": true, \"linkText\": \"Export to plot.ly\"}\n",
       "        ).then(function () {return Plotly.addFrames('c3cdf7e0-3fee-4ffb-becd-dc83773ed04b',{});}).then(function(){Plotly.animate('c3cdf7e0-3fee-4ffb-becd-dc83773ed04b');})\n",
       "        });</script>"
      ],
      "text/vnd.plotly.v1+html": [
       "<div id=\"c3cdf7e0-3fee-4ffb-becd-dc83773ed04b\" style=\"height: 525px; width: 100%;\" class=\"plotly-graph-div\"></div><script type=\"text/javascript\">require([\"plotly\"], function(Plotly) { window.PLOTLYENV=window.PLOTLYENV || {};window.PLOTLYENV.BASE_URL=\"https://plot.ly\";\n",
       "        Plotly.plot(\n",
       "            'c3cdf7e0-3fee-4ffb-becd-dc83773ed04b',\n",
       "            [{\"x\": [\"Assign1\", \"Assign2\", \"Assign3\", \"Assign4\"], \"y\": [10, 13, 13, 10], \"type\": \"bar\", \"uid\": \"829cfd16-e043-11e8-bee7-9fb6bcbfed05\"}],\n",
       "            {\"title\": \"Quantidade de alunos que fizeram as tarefas\", \"yaxis\": {\"dtick\": 1, \"exponentformat\": \"e\", \"gridcolor\": \"#bdbdbd\", \"showexponent\": \"all\", \"showticklabels\": true, \"tick0\": 0, \"titlefont\": {\"color\": \"lightgrey\", \"family\": \"Arial, sans-serif\"}}},\n",
       "            {\"showLink\": true, \"linkText\": \"Export to plot.ly\"}\n",
       "        ).then(function () {return Plotly.addFrames('c3cdf7e0-3fee-4ffb-becd-dc83773ed04b',{});}).then(function(){Plotly.animate('c3cdf7e0-3fee-4ffb-becd-dc83773ed04b');})\n",
       "        });</script>"
      ]
     },
     "metadata": {},
     "output_type": "display_data"
    },
    {
     "data": {
      "application/vnd.plotly.v1+json": {
       "data": [
        {
         "cells": {
          "align": [
           "left",
           "center"
          ],
          "fill": {
           "color": "#F5F8FF"
          },
          "values": [
           [
            "Assign1",
            "Assign2",
            "Assign3",
            "Assign4"
           ],
           [
            1,
            1,
            0,
            0
           ],
           [
            1,
            1,
            1,
            1
           ],
           [
            1,
            1,
            0,
            1
           ],
           [
            1,
            1,
            1,
            1
           ],
           [
            1,
            1,
            1,
            0
           ],
           [
            1,
            1,
            1,
            0
           ],
           [
            1,
            1,
            0,
            1
           ],
           [
            0,
            1,
            1,
            0
           ],
           [
            0,
            1,
            0,
            0
           ],
           [
            0,
            0,
            0,
            1
           ],
           [
            0,
            1,
            1,
            1
           ],
           [
            1,
            0,
            1,
            0
           ],
           [
            0,
            0,
            1,
            0
           ],
           [
            0,
            1,
            1,
            0
           ],
           [
            0,
            0,
            1,
            1
           ],
           [
            0,
            1,
            1,
            1
           ],
           [
            1,
            0,
            0,
            1
           ],
           [
            0,
            1,
            1,
            0
           ],
           [
            1,
            0,
            0,
            1
           ],
           [
            0,
            0,
            1,
            0
           ]
          ]
         },
         "header": {
          "align": "center",
          "fill": {
           "color": "#C2D4FF"
          },
          "values": [
           "Assign",
           "Student_1",
           "Student_2",
           "Student_3",
           "Student_4",
           "Student_5",
           "Student_6",
           "Student_7",
           "Student_8",
           "Student_9",
           "Student_10",
           "Student_11",
           "Student_12",
           "Student_13",
           "Student_14",
           "Student_15",
           "Student_16",
           "Student_17",
           "Student_18",
           "Student_19",
           "Student_20"
          ]
         },
         "type": "table",
         "uid": "82b39d5a-e043-11e8-bee7-9fb6bcbfed05"
        }
       ],
       "layout": {}
      },
      "text/html": [
       "<div id=\"49d0d5d9-5c0f-4cc4-81f2-0456a992db0b\" style=\"height: 525px; width: 100%;\" class=\"plotly-graph-div\"></div><script type=\"text/javascript\">require([\"plotly\"], function(Plotly) { window.PLOTLYENV=window.PLOTLYENV || {};window.PLOTLYENV.BASE_URL=\"https://plot.ly\";Plotly.newPlot(\"49d0d5d9-5c0f-4cc4-81f2-0456a992db0b\", [{\"cells\": {\"align\": [\"left\", \"center\"], \"fill\": {\"color\": \"#F5F8FF\"}, \"values\": [[\"Assign1\", \"Assign2\", \"Assign3\", \"Assign4\"], [1, 1, 0, 0], [1, 1, 1, 1], [1, 1, 0, 1], [1, 1, 1, 1], [1, 1, 1, 0], [1, 1, 1, 0], [1, 1, 0, 1], [0, 1, 1, 0], [0, 1, 0, 0], [0, 0, 0, 1], [0, 1, 1, 1], [1, 0, 1, 0], [0, 0, 1, 0], [0, 1, 1, 0], [0, 0, 1, 1], [0, 1, 1, 1], [1, 0, 0, 1], [0, 1, 1, 0], [1, 0, 0, 1], [0, 0, 1, 0]]}, \"header\": {\"align\": \"center\", \"fill\": {\"color\": \"#C2D4FF\"}, \"values\": [\"Assign\", \"Student_1\", \"Student_2\", \"Student_3\", \"Student_4\", \"Student_5\", \"Student_6\", \"Student_7\", \"Student_8\", \"Student_9\", \"Student_10\", \"Student_11\", \"Student_12\", \"Student_13\", \"Student_14\", \"Student_15\", \"Student_16\", \"Student_17\", \"Student_18\", \"Student_19\", \"Student_20\"]}, \"type\": \"table\", \"uid\": \"82b7040e-e043-11e8-bee7-9fb6bcbfed05\"}], {}, {\"showLink\": true, \"linkText\": \"Export to plot.ly\"})});</script>"
      ],
      "text/vnd.plotly.v1+html": [
       "<div id=\"49d0d5d9-5c0f-4cc4-81f2-0456a992db0b\" style=\"height: 525px; width: 100%;\" class=\"plotly-graph-div\"></div><script type=\"text/javascript\">require([\"plotly\"], function(Plotly) { window.PLOTLYENV=window.PLOTLYENV || {};window.PLOTLYENV.BASE_URL=\"https://plot.ly\";Plotly.newPlot(\"49d0d5d9-5c0f-4cc4-81f2-0456a992db0b\", [{\"cells\": {\"align\": [\"left\", \"center\"], \"fill\": {\"color\": \"#F5F8FF\"}, \"values\": [[\"Assign1\", \"Assign2\", \"Assign3\", \"Assign4\"], [1, 1, 0, 0], [1, 1, 1, 1], [1, 1, 0, 1], [1, 1, 1, 1], [1, 1, 1, 0], [1, 1, 1, 0], [1, 1, 0, 1], [0, 1, 1, 0], [0, 1, 0, 0], [0, 0, 0, 1], [0, 1, 1, 1], [1, 0, 1, 0], [0, 0, 1, 0], [0, 1, 1, 0], [0, 0, 1, 1], [0, 1, 1, 1], [1, 0, 0, 1], [0, 1, 1, 0], [1, 0, 0, 1], [0, 0, 1, 0]]}, \"header\": {\"align\": \"center\", \"fill\": {\"color\": \"#C2D4FF\"}, \"values\": [\"Assign\", \"Student_1\", \"Student_2\", \"Student_3\", \"Student_4\", \"Student_5\", \"Student_6\", \"Student_7\", \"Student_8\", \"Student_9\", \"Student_10\", \"Student_11\", \"Student_12\", \"Student_13\", \"Student_14\", \"Student_15\", \"Student_16\", \"Student_17\", \"Student_18\", \"Student_19\", \"Student_20\"]}, \"type\": \"table\", \"uid\": \"82b7040e-e043-11e8-bee7-9fb6bcbfed05\"}], {}, {\"showLink\": true, \"linkText\": \"Export to plot.ly\"})});</script>"
      ]
     },
     "metadata": {},
     "output_type": "display_data"
    }
   ],
   "source": [
    "run scripts/V001.py"
   ]
  },
  {
   "cell_type": "markdown",
   "metadata": {},
   "source": [
    "### View 002"
   ]
  },
  {
   "cell_type": "code",
   "execution_count": 11,
   "metadata": {},
   "outputs": [
    {
     "data": {
      "text/html": [
       "<script>requirejs.config({paths: { 'plotly': ['https://cdn.plot.ly/plotly-latest.min']},});if(!window.Plotly) {{require(['plotly'],function(plotly) {window.Plotly=plotly;});}}</script>"
      ],
      "text/vnd.plotly.v1+html": [
       "<script>requirejs.config({paths: { 'plotly': ['https://cdn.plot.ly/plotly-latest.min']},});if(!window.Plotly) {{require(['plotly'],function(plotly) {window.Plotly=plotly;});}}</script>"
      ]
     },
     "metadata": {},
     "output_type": "display_data"
    },
    {
     "data": {
      "application/vnd.plotly.v1+json": {
       "data": [
        {
         "cells": {
          "align": [
           "left",
           "center"
          ],
          "fill": {
           "color": "#F5F8FF"
          },
          "values": [
           [
            "Student_1",
            "Student_2",
            "Student_3",
            "Student_4",
            "Student_5",
            "Student_6",
            "Student_7",
            "Student_8",
            "Student_9",
            "Student_10",
            "Student_11",
            "Student_12",
            "Student_13",
            "Student_14",
            "Student_15",
            "Student_16",
            "Student_17",
            "Student_18",
            "Student_19",
            "Student_20"
           ],
           [
            1,
            14,
            18,
            25,
            8,
            24,
            23,
            23,
            17,
            6,
            28,
            26,
            10,
            27,
            12,
            27,
            3,
            28,
            13,
            15
           ],
           [
            14,
            6,
            15,
            16,
            0,
            2,
            2,
            28,
            15,
            23,
            8,
            5,
            23,
            19,
            21,
            29,
            10,
            20,
            26,
            0
           ],
           [
            12,
            28,
            3,
            23,
            12,
            14,
            10,
            29,
            25,
            0,
            15,
            9,
            15,
            16,
            15,
            24,
            3,
            25,
            11,
            18
           ],
           [
            7,
            15,
            18,
            12,
            26,
            23,
            11,
            15,
            26,
            16,
            17,
            14,
            12,
            15,
            22,
            26,
            2,
            12,
            22,
            16
           ],
           [
            25,
            11,
            24,
            18,
            16,
            11,
            3,
            18,
            25,
            21,
            7,
            14,
            12,
            17,
            24,
            13,
            5,
            1,
            1,
            3
           ],
           [
            3,
            12,
            0,
            29,
            2,
            17,
            14,
            7,
            27,
            17,
            24,
            13,
            14,
            8,
            13,
            10,
            12,
            19,
            0,
            29
           ],
           [
            9,
            22,
            20,
            22,
            12,
            8,
            23,
            9,
            18,
            28,
            28,
            5,
            19,
            8,
            9,
            29,
            15,
            28,
            21,
            6
           ],
           [
            4,
            27,
            2,
            11,
            8,
            8,
            3,
            25,
            18,
            27,
            17,
            25,
            21,
            7,
            27,
            23,
            28,
            17,
            3,
            3
           ]
          ]
         },
         "header": {
          "align": "center",
          "fill": {
           "color": "#C2D4FF"
          },
          "values": [
           "Students",
           "Video1",
           "Video2",
           "Quiz1",
           "Quiz2",
           "Pdf1",
           "Pdf2",
           "Ebook1",
           "Ebook2"
          ]
         },
         "type": "table",
         "uid": "49af00bc-e048-11e8-bee7-9fb6bcbfed05"
        }
       ],
       "layout": {}
      },
      "text/html": [
       "<div id=\"9e33000d-c5be-4aba-8c9b-b4b1c4a26336\" style=\"height: 525px; width: 100%;\" class=\"plotly-graph-div\"></div><script type=\"text/javascript\">require([\"plotly\"], function(Plotly) { window.PLOTLYENV=window.PLOTLYENV || {};window.PLOTLYENV.BASE_URL=\"https://plot.ly\";Plotly.newPlot(\"9e33000d-c5be-4aba-8c9b-b4b1c4a26336\", [{\"cells\": {\"align\": [\"left\", \"center\"], \"fill\": {\"color\": \"#F5F8FF\"}, \"values\": [[\"Student_1\", \"Student_2\", \"Student_3\", \"Student_4\", \"Student_5\", \"Student_6\", \"Student_7\", \"Student_8\", \"Student_9\", \"Student_10\", \"Student_11\", \"Student_12\", \"Student_13\", \"Student_14\", \"Student_15\", \"Student_16\", \"Student_17\", \"Student_18\", \"Student_19\", \"Student_20\"], [1, 14, 18, 25, 8, 24, 23, 23, 17, 6, 28, 26, 10, 27, 12, 27, 3, 28, 13, 15], [14, 6, 15, 16, 0, 2, 2, 28, 15, 23, 8, 5, 23, 19, 21, 29, 10, 20, 26, 0], [12, 28, 3, 23, 12, 14, 10, 29, 25, 0, 15, 9, 15, 16, 15, 24, 3, 25, 11, 18], [7, 15, 18, 12, 26, 23, 11, 15, 26, 16, 17, 14, 12, 15, 22, 26, 2, 12, 22, 16], [25, 11, 24, 18, 16, 11, 3, 18, 25, 21, 7, 14, 12, 17, 24, 13, 5, 1, 1, 3], [3, 12, 0, 29, 2, 17, 14, 7, 27, 17, 24, 13, 14, 8, 13, 10, 12, 19, 0, 29], [9, 22, 20, 22, 12, 8, 23, 9, 18, 28, 28, 5, 19, 8, 9, 29, 15, 28, 21, 6], [4, 27, 2, 11, 8, 8, 3, 25, 18, 27, 17, 25, 21, 7, 27, 23, 28, 17, 3, 3]]}, \"header\": {\"align\": \"center\", \"fill\": {\"color\": \"#C2D4FF\"}, \"values\": [\"Students\", \"Video1\", \"Video2\", \"Quiz1\", \"Quiz2\", \"Pdf1\", \"Pdf2\", \"Ebook1\", \"Ebook2\"]}, \"type\": \"table\", \"uid\": \"49b50548-e048-11e8-bee7-9fb6bcbfed05\"}], {}, {\"showLink\": true, \"linkText\": \"Export to plot.ly\"})});</script>"
      ],
      "text/vnd.plotly.v1+html": [
       "<div id=\"9e33000d-c5be-4aba-8c9b-b4b1c4a26336\" style=\"height: 525px; width: 100%;\" class=\"plotly-graph-div\"></div><script type=\"text/javascript\">require([\"plotly\"], function(Plotly) { window.PLOTLYENV=window.PLOTLYENV || {};window.PLOTLYENV.BASE_URL=\"https://plot.ly\";Plotly.newPlot(\"9e33000d-c5be-4aba-8c9b-b4b1c4a26336\", [{\"cells\": {\"align\": [\"left\", \"center\"], \"fill\": {\"color\": \"#F5F8FF\"}, \"values\": [[\"Student_1\", \"Student_2\", \"Student_3\", \"Student_4\", \"Student_5\", \"Student_6\", \"Student_7\", \"Student_8\", \"Student_9\", \"Student_10\", \"Student_11\", \"Student_12\", \"Student_13\", \"Student_14\", \"Student_15\", \"Student_16\", \"Student_17\", \"Student_18\", \"Student_19\", \"Student_20\"], [1, 14, 18, 25, 8, 24, 23, 23, 17, 6, 28, 26, 10, 27, 12, 27, 3, 28, 13, 15], [14, 6, 15, 16, 0, 2, 2, 28, 15, 23, 8, 5, 23, 19, 21, 29, 10, 20, 26, 0], [12, 28, 3, 23, 12, 14, 10, 29, 25, 0, 15, 9, 15, 16, 15, 24, 3, 25, 11, 18], [7, 15, 18, 12, 26, 23, 11, 15, 26, 16, 17, 14, 12, 15, 22, 26, 2, 12, 22, 16], [25, 11, 24, 18, 16, 11, 3, 18, 25, 21, 7, 14, 12, 17, 24, 13, 5, 1, 1, 3], [3, 12, 0, 29, 2, 17, 14, 7, 27, 17, 24, 13, 14, 8, 13, 10, 12, 19, 0, 29], [9, 22, 20, 22, 12, 8, 23, 9, 18, 28, 28, 5, 19, 8, 9, 29, 15, 28, 21, 6], [4, 27, 2, 11, 8, 8, 3, 25, 18, 27, 17, 25, 21, 7, 27, 23, 28, 17, 3, 3]]}, \"header\": {\"align\": \"center\", \"fill\": {\"color\": \"#C2D4FF\"}, \"values\": [\"Students\", \"Video1\", \"Video2\", \"Quiz1\", \"Quiz2\", \"Pdf1\", \"Pdf2\", \"Ebook1\", \"Ebook2\"]}, \"type\": \"table\", \"uid\": \"49b50548-e048-11e8-bee7-9fb6bcbfed05\"}], {}, {\"showLink\": true, \"linkText\": \"Export to plot.ly\"})});</script>"
      ]
     },
     "metadata": {},
     "output_type": "display_data"
    },
    {
     "data": {
      "application/vnd.plotly.v1+json": {
       "data": [
        {
         "name": "Video1",
         "type": "bar",
         "uid": "49da7a94-e048-11e8-bee7-9fb6bcbfed05",
         "x": [
          "Student_1",
          "Student_2",
          "Student_3",
          "Student_4",
          "Student_5",
          "Student_6",
          "Student_7",
          "Student_8",
          "Student_9",
          "Student_10",
          "Student_11",
          "Student_12",
          "Student_13",
          "Student_14",
          "Student_15",
          "Student_16",
          "Student_17",
          "Student_18",
          "Student_19",
          "Student_20"
         ],
         "y": [
          1,
          14,
          18,
          25,
          8,
          24,
          23,
          23,
          17,
          6,
          28,
          26,
          10,
          27,
          12,
          27,
          3,
          28,
          13,
          15
         ]
        },
        {
         "name": "Video2",
         "type": "bar",
         "uid": "49da7e2c-e048-11e8-bee7-9fb6bcbfed05",
         "x": [
          "Student_1",
          "Student_2",
          "Student_3",
          "Student_4",
          "Student_5",
          "Student_6",
          "Student_7",
          "Student_8",
          "Student_9",
          "Student_10",
          "Student_11",
          "Student_12",
          "Student_13",
          "Student_14",
          "Student_15",
          "Student_16",
          "Student_17",
          "Student_18",
          "Student_19",
          "Student_20"
         ],
         "y": [
          14,
          6,
          15,
          16,
          0,
          2,
          2,
          28,
          15,
          23,
          8,
          5,
          23,
          19,
          21,
          29,
          10,
          20,
          26,
          0
         ]
        },
        {
         "name": "Quiz1",
         "type": "bar",
         "uid": "49da8084-e048-11e8-bee7-9fb6bcbfed05",
         "x": [
          "Student_1",
          "Student_2",
          "Student_3",
          "Student_4",
          "Student_5",
          "Student_6",
          "Student_7",
          "Student_8",
          "Student_9",
          "Student_10",
          "Student_11",
          "Student_12",
          "Student_13",
          "Student_14",
          "Student_15",
          "Student_16",
          "Student_17",
          "Student_18",
          "Student_19",
          "Student_20"
         ],
         "y": [
          12,
          28,
          3,
          23,
          12,
          14,
          10,
          29,
          25,
          0,
          15,
          9,
          15,
          16,
          15,
          24,
          3,
          25,
          11,
          18
         ]
        },
        {
         "name": "Quiz2",
         "type": "bar",
         "uid": "49da8278-e048-11e8-bee7-9fb6bcbfed05",
         "x": [
          "Student_1",
          "Student_2",
          "Student_3",
          "Student_4",
          "Student_5",
          "Student_6",
          "Student_7",
          "Student_8",
          "Student_9",
          "Student_10",
          "Student_11",
          "Student_12",
          "Student_13",
          "Student_14",
          "Student_15",
          "Student_16",
          "Student_17",
          "Student_18",
          "Student_19",
          "Student_20"
         ],
         "y": [
          7,
          15,
          18,
          12,
          26,
          23,
          11,
          15,
          26,
          16,
          17,
          14,
          12,
          15,
          22,
          26,
          2,
          12,
          22,
          16
         ]
        },
        {
         "name": "Pdf1",
         "type": "bar",
         "uid": "49da8462-e048-11e8-bee7-9fb6bcbfed05",
         "x": [
          "Student_1",
          "Student_2",
          "Student_3",
          "Student_4",
          "Student_5",
          "Student_6",
          "Student_7",
          "Student_8",
          "Student_9",
          "Student_10",
          "Student_11",
          "Student_12",
          "Student_13",
          "Student_14",
          "Student_15",
          "Student_16",
          "Student_17",
          "Student_18",
          "Student_19",
          "Student_20"
         ],
         "y": [
          25,
          11,
          24,
          18,
          16,
          11,
          3,
          18,
          25,
          21,
          7,
          14,
          12,
          17,
          24,
          13,
          5,
          1,
          1,
          3
         ]
        },
        {
         "name": "Pdf2",
         "type": "bar",
         "uid": "49da85fc-e048-11e8-bee7-9fb6bcbfed05",
         "x": [
          "Student_1",
          "Student_2",
          "Student_3",
          "Student_4",
          "Student_5",
          "Student_6",
          "Student_7",
          "Student_8",
          "Student_9",
          "Student_10",
          "Student_11",
          "Student_12",
          "Student_13",
          "Student_14",
          "Student_15",
          "Student_16",
          "Student_17",
          "Student_18",
          "Student_19",
          "Student_20"
         ],
         "y": [
          3,
          12,
          0,
          29,
          2,
          17,
          14,
          7,
          27,
          17,
          24,
          13,
          14,
          8,
          13,
          10,
          12,
          19,
          0,
          29
         ]
        },
        {
         "name": "Ebook1",
         "type": "bar",
         "uid": "49da8778-e048-11e8-bee7-9fb6bcbfed05",
         "x": [
          "Student_1",
          "Student_2",
          "Student_3",
          "Student_4",
          "Student_5",
          "Student_6",
          "Student_7",
          "Student_8",
          "Student_9",
          "Student_10",
          "Student_11",
          "Student_12",
          "Student_13",
          "Student_14",
          "Student_15",
          "Student_16",
          "Student_17",
          "Student_18",
          "Student_19",
          "Student_20"
         ],
         "y": [
          9,
          22,
          20,
          22,
          12,
          8,
          23,
          9,
          18,
          28,
          28,
          5,
          19,
          8,
          9,
          29,
          15,
          28,
          21,
          6
         ]
        },
        {
         "name": "Ebook2",
         "type": "bar",
         "uid": "49da88ea-e048-11e8-bee7-9fb6bcbfed05",
         "x": [
          "Student_1",
          "Student_2",
          "Student_3",
          "Student_4",
          "Student_5",
          "Student_6",
          "Student_7",
          "Student_8",
          "Student_9",
          "Student_10",
          "Student_11",
          "Student_12",
          "Student_13",
          "Student_14",
          "Student_15",
          "Student_16",
          "Student_17",
          "Student_18",
          "Student_19",
          "Student_20"
         ],
         "y": [
          4,
          27,
          2,
          11,
          8,
          8,
          3,
          25,
          18,
          27,
          17,
          25,
          21,
          7,
          27,
          23,
          28,
          17,
          3,
          3
         ]
        }
       ],
       "layout": {
        "title": "Número de acessos nos materiais agrupados por estudante",
        "yaxis": {
         "dtick": 1,
         "exponentformat": "e",
         "gridcolor": "#bdbdbd",
         "showexponent": "all",
         "showticklabels": true,
         "tick0": 0,
         "titlefont": {
          "color": "lightgrey",
          "family": "Arial, sans-serif"
         }
        }
       }
      },
      "text/html": [
       "<div id=\"bfc6ac68-b26d-4e52-859b-ebab488e4e0d\" style=\"height: 525px; width: 100%;\" class=\"plotly-graph-div\"></div><script type=\"text/javascript\">require([\"plotly\"], function(Plotly) { window.PLOTLYENV=window.PLOTLYENV || {};window.PLOTLYENV.BASE_URL=\"https://plot.ly\";\n",
       "        Plotly.plot(\n",
       "            'bfc6ac68-b26d-4e52-859b-ebab488e4e0d',\n",
       "            [{\"name\": \"Video1\", \"x\": [\"Student_1\", \"Student_2\", \"Student_3\", \"Student_4\", \"Student_5\", \"Student_6\", \"Student_7\", \"Student_8\", \"Student_9\", \"Student_10\", \"Student_11\", \"Student_12\", \"Student_13\", \"Student_14\", \"Student_15\", \"Student_16\", \"Student_17\", \"Student_18\", \"Student_19\", \"Student_20\"], \"y\": [1, 14, 18, 25, 8, 24, 23, 23, 17, 6, 28, 26, 10, 27, 12, 27, 3, 28, 13, 15], \"type\": \"bar\", \"uid\": \"49da7a94-e048-11e8-bee7-9fb6bcbfed05\"}, {\"name\": \"Video2\", \"x\": [\"Student_1\", \"Student_2\", \"Student_3\", \"Student_4\", \"Student_5\", \"Student_6\", \"Student_7\", \"Student_8\", \"Student_9\", \"Student_10\", \"Student_11\", \"Student_12\", \"Student_13\", \"Student_14\", \"Student_15\", \"Student_16\", \"Student_17\", \"Student_18\", \"Student_19\", \"Student_20\"], \"y\": [14, 6, 15, 16, 0, 2, 2, 28, 15, 23, 8, 5, 23, 19, 21, 29, 10, 20, 26, 0], \"type\": \"bar\", \"uid\": \"49da7e2c-e048-11e8-bee7-9fb6bcbfed05\"}, {\"name\": \"Quiz1\", \"x\": [\"Student_1\", \"Student_2\", \"Student_3\", \"Student_4\", \"Student_5\", \"Student_6\", \"Student_7\", \"Student_8\", \"Student_9\", \"Student_10\", \"Student_11\", \"Student_12\", \"Student_13\", \"Student_14\", \"Student_15\", \"Student_16\", \"Student_17\", \"Student_18\", \"Student_19\", \"Student_20\"], \"y\": [12, 28, 3, 23, 12, 14, 10, 29, 25, 0, 15, 9, 15, 16, 15, 24, 3, 25, 11, 18], \"type\": \"bar\", \"uid\": \"49da8084-e048-11e8-bee7-9fb6bcbfed05\"}, {\"name\": \"Quiz2\", \"x\": [\"Student_1\", \"Student_2\", \"Student_3\", \"Student_4\", \"Student_5\", \"Student_6\", \"Student_7\", \"Student_8\", \"Student_9\", \"Student_10\", \"Student_11\", \"Student_12\", \"Student_13\", \"Student_14\", \"Student_15\", \"Student_16\", \"Student_17\", \"Student_18\", \"Student_19\", \"Student_20\"], \"y\": [7, 15, 18, 12, 26, 23, 11, 15, 26, 16, 17, 14, 12, 15, 22, 26, 2, 12, 22, 16], \"type\": \"bar\", \"uid\": \"49da8278-e048-11e8-bee7-9fb6bcbfed05\"}, {\"name\": \"Pdf1\", \"x\": [\"Student_1\", \"Student_2\", \"Student_3\", \"Student_4\", \"Student_5\", \"Student_6\", \"Student_7\", \"Student_8\", \"Student_9\", \"Student_10\", \"Student_11\", \"Student_12\", \"Student_13\", \"Student_14\", \"Student_15\", \"Student_16\", \"Student_17\", \"Student_18\", \"Student_19\", \"Student_20\"], \"y\": [25, 11, 24, 18, 16, 11, 3, 18, 25, 21, 7, 14, 12, 17, 24, 13, 5, 1, 1, 3], \"type\": \"bar\", \"uid\": \"49da8462-e048-11e8-bee7-9fb6bcbfed05\"}, {\"name\": \"Pdf2\", \"x\": [\"Student_1\", \"Student_2\", \"Student_3\", \"Student_4\", \"Student_5\", \"Student_6\", \"Student_7\", \"Student_8\", \"Student_9\", \"Student_10\", \"Student_11\", \"Student_12\", \"Student_13\", \"Student_14\", \"Student_15\", \"Student_16\", \"Student_17\", \"Student_18\", \"Student_19\", \"Student_20\"], \"y\": [3, 12, 0, 29, 2, 17, 14, 7, 27, 17, 24, 13, 14, 8, 13, 10, 12, 19, 0, 29], \"type\": \"bar\", \"uid\": \"49da85fc-e048-11e8-bee7-9fb6bcbfed05\"}, {\"name\": \"Ebook1\", \"x\": [\"Student_1\", \"Student_2\", \"Student_3\", \"Student_4\", \"Student_5\", \"Student_6\", \"Student_7\", \"Student_8\", \"Student_9\", \"Student_10\", \"Student_11\", \"Student_12\", \"Student_13\", \"Student_14\", \"Student_15\", \"Student_16\", \"Student_17\", \"Student_18\", \"Student_19\", \"Student_20\"], \"y\": [9, 22, 20, 22, 12, 8, 23, 9, 18, 28, 28, 5, 19, 8, 9, 29, 15, 28, 21, 6], \"type\": \"bar\", \"uid\": \"49da8778-e048-11e8-bee7-9fb6bcbfed05\"}, {\"name\": \"Ebook2\", \"x\": [\"Student_1\", \"Student_2\", \"Student_3\", \"Student_4\", \"Student_5\", \"Student_6\", \"Student_7\", \"Student_8\", \"Student_9\", \"Student_10\", \"Student_11\", \"Student_12\", \"Student_13\", \"Student_14\", \"Student_15\", \"Student_16\", \"Student_17\", \"Student_18\", \"Student_19\", \"Student_20\"], \"y\": [4, 27, 2, 11, 8, 8, 3, 25, 18, 27, 17, 25, 21, 7, 27, 23, 28, 17, 3, 3], \"type\": \"bar\", \"uid\": \"49da88ea-e048-11e8-bee7-9fb6bcbfed05\"}],\n",
       "            {\"title\": \"N\\u00famero de acessos nos materiais agrupados por estudante\", \"yaxis\": {\"dtick\": 1, \"exponentformat\": \"e\", \"gridcolor\": \"#bdbdbd\", \"showexponent\": \"all\", \"showticklabels\": true, \"tick0\": 0, \"titlefont\": {\"color\": \"lightgrey\", \"family\": \"Arial, sans-serif\"}}},\n",
       "            {\"showLink\": true, \"linkText\": \"Export to plot.ly\"}\n",
       "        ).then(function () {return Plotly.addFrames('bfc6ac68-b26d-4e52-859b-ebab488e4e0d',{});}).then(function(){Plotly.animate('bfc6ac68-b26d-4e52-859b-ebab488e4e0d');})\n",
       "        });</script>"
      ],
      "text/vnd.plotly.v1+html": [
       "<div id=\"bfc6ac68-b26d-4e52-859b-ebab488e4e0d\" style=\"height: 525px; width: 100%;\" class=\"plotly-graph-div\"></div><script type=\"text/javascript\">require([\"plotly\"], function(Plotly) { window.PLOTLYENV=window.PLOTLYENV || {};window.PLOTLYENV.BASE_URL=\"https://plot.ly\";\n",
       "        Plotly.plot(\n",
       "            'bfc6ac68-b26d-4e52-859b-ebab488e4e0d',\n",
       "            [{\"name\": \"Video1\", \"x\": [\"Student_1\", \"Student_2\", \"Student_3\", \"Student_4\", \"Student_5\", \"Student_6\", \"Student_7\", \"Student_8\", \"Student_9\", \"Student_10\", \"Student_11\", \"Student_12\", \"Student_13\", \"Student_14\", \"Student_15\", \"Student_16\", \"Student_17\", \"Student_18\", \"Student_19\", \"Student_20\"], \"y\": [1, 14, 18, 25, 8, 24, 23, 23, 17, 6, 28, 26, 10, 27, 12, 27, 3, 28, 13, 15], \"type\": \"bar\", \"uid\": \"49da7a94-e048-11e8-bee7-9fb6bcbfed05\"}, {\"name\": \"Video2\", \"x\": [\"Student_1\", \"Student_2\", \"Student_3\", \"Student_4\", \"Student_5\", \"Student_6\", \"Student_7\", \"Student_8\", \"Student_9\", \"Student_10\", \"Student_11\", \"Student_12\", \"Student_13\", \"Student_14\", \"Student_15\", \"Student_16\", \"Student_17\", \"Student_18\", \"Student_19\", \"Student_20\"], \"y\": [14, 6, 15, 16, 0, 2, 2, 28, 15, 23, 8, 5, 23, 19, 21, 29, 10, 20, 26, 0], \"type\": \"bar\", \"uid\": \"49da7e2c-e048-11e8-bee7-9fb6bcbfed05\"}, {\"name\": \"Quiz1\", \"x\": [\"Student_1\", \"Student_2\", \"Student_3\", \"Student_4\", \"Student_5\", \"Student_6\", \"Student_7\", \"Student_8\", \"Student_9\", \"Student_10\", \"Student_11\", \"Student_12\", \"Student_13\", \"Student_14\", \"Student_15\", \"Student_16\", \"Student_17\", \"Student_18\", \"Student_19\", \"Student_20\"], \"y\": [12, 28, 3, 23, 12, 14, 10, 29, 25, 0, 15, 9, 15, 16, 15, 24, 3, 25, 11, 18], \"type\": \"bar\", \"uid\": \"49da8084-e048-11e8-bee7-9fb6bcbfed05\"}, {\"name\": \"Quiz2\", \"x\": [\"Student_1\", \"Student_2\", \"Student_3\", \"Student_4\", \"Student_5\", \"Student_6\", \"Student_7\", \"Student_8\", \"Student_9\", \"Student_10\", \"Student_11\", \"Student_12\", \"Student_13\", \"Student_14\", \"Student_15\", \"Student_16\", \"Student_17\", \"Student_18\", \"Student_19\", \"Student_20\"], \"y\": [7, 15, 18, 12, 26, 23, 11, 15, 26, 16, 17, 14, 12, 15, 22, 26, 2, 12, 22, 16], \"type\": \"bar\", \"uid\": \"49da8278-e048-11e8-bee7-9fb6bcbfed05\"}, {\"name\": \"Pdf1\", \"x\": [\"Student_1\", \"Student_2\", \"Student_3\", \"Student_4\", \"Student_5\", \"Student_6\", \"Student_7\", \"Student_8\", \"Student_9\", \"Student_10\", \"Student_11\", \"Student_12\", \"Student_13\", \"Student_14\", \"Student_15\", \"Student_16\", \"Student_17\", \"Student_18\", \"Student_19\", \"Student_20\"], \"y\": [25, 11, 24, 18, 16, 11, 3, 18, 25, 21, 7, 14, 12, 17, 24, 13, 5, 1, 1, 3], \"type\": \"bar\", \"uid\": \"49da8462-e048-11e8-bee7-9fb6bcbfed05\"}, {\"name\": \"Pdf2\", \"x\": [\"Student_1\", \"Student_2\", \"Student_3\", \"Student_4\", \"Student_5\", \"Student_6\", \"Student_7\", \"Student_8\", \"Student_9\", \"Student_10\", \"Student_11\", \"Student_12\", \"Student_13\", \"Student_14\", \"Student_15\", \"Student_16\", \"Student_17\", \"Student_18\", \"Student_19\", \"Student_20\"], \"y\": [3, 12, 0, 29, 2, 17, 14, 7, 27, 17, 24, 13, 14, 8, 13, 10, 12, 19, 0, 29], \"type\": \"bar\", \"uid\": \"49da85fc-e048-11e8-bee7-9fb6bcbfed05\"}, {\"name\": \"Ebook1\", \"x\": [\"Student_1\", \"Student_2\", \"Student_3\", \"Student_4\", \"Student_5\", \"Student_6\", \"Student_7\", \"Student_8\", \"Student_9\", \"Student_10\", \"Student_11\", \"Student_12\", \"Student_13\", \"Student_14\", \"Student_15\", \"Student_16\", \"Student_17\", \"Student_18\", \"Student_19\", \"Student_20\"], \"y\": [9, 22, 20, 22, 12, 8, 23, 9, 18, 28, 28, 5, 19, 8, 9, 29, 15, 28, 21, 6], \"type\": \"bar\", \"uid\": \"49da8778-e048-11e8-bee7-9fb6bcbfed05\"}, {\"name\": \"Ebook2\", \"x\": [\"Student_1\", \"Student_2\", \"Student_3\", \"Student_4\", \"Student_5\", \"Student_6\", \"Student_7\", \"Student_8\", \"Student_9\", \"Student_10\", \"Student_11\", \"Student_12\", \"Student_13\", \"Student_14\", \"Student_15\", \"Student_16\", \"Student_17\", \"Student_18\", \"Student_19\", \"Student_20\"], \"y\": [4, 27, 2, 11, 8, 8, 3, 25, 18, 27, 17, 25, 21, 7, 27, 23, 28, 17, 3, 3], \"type\": \"bar\", \"uid\": \"49da88ea-e048-11e8-bee7-9fb6bcbfed05\"}],\n",
       "            {\"title\": \"N\\u00famero de acessos nos materiais agrupados por estudante\", \"yaxis\": {\"dtick\": 1, \"exponentformat\": \"e\", \"gridcolor\": \"#bdbdbd\", \"showexponent\": \"all\", \"showticklabels\": true, \"tick0\": 0, \"titlefont\": {\"color\": \"lightgrey\", \"family\": \"Arial, sans-serif\"}}},\n",
       "            {\"showLink\": true, \"linkText\": \"Export to plot.ly\"}\n",
       "        ).then(function () {return Plotly.addFrames('bfc6ac68-b26d-4e52-859b-ebab488e4e0d',{});}).then(function(){Plotly.animate('bfc6ac68-b26d-4e52-859b-ebab488e4e0d');})\n",
       "        });</script>"
      ]
     },
     "metadata": {},
     "output_type": "display_data"
    },
    {
     "data": {
      "application/vnd.plotly.v1+json": {
       "data": [
        {
         "colorscale": [
          [
           0,
           "rgb(255,255,255)"
          ],
          [
           1,
           "rgb(0,0,255)"
          ]
         ],
         "type": "heatmap",
         "uid": "49eab56c-e048-11e8-bee7-9fb6bcbfed05",
         "x": [
          "Video1",
          "Video2",
          "Quiz1",
          "Quiz2",
          "Pdf1",
          "Pdf2",
          "Ebook1",
          "Ebook2"
         ],
         "y": [
          "Student_1",
          "Student_2",
          "Student_3",
          "Student_4",
          "Student_5",
          "Student_6",
          "Student_7",
          "Student_8",
          "Student_9",
          "Student_10",
          "Student_11",
          "Student_12",
          "Student_13",
          "Student_14",
          "Student_15",
          "Student_16",
          "Student_17",
          "Student_18",
          "Student_19",
          "Student_20"
         ],
         "z": [
          [
           1,
           14,
           12,
           7,
           25,
           3,
           9,
           4
          ],
          [
           14,
           6,
           28,
           15,
           11,
           12,
           22,
           27
          ],
          [
           18,
           15,
           3,
           18,
           24,
           0,
           20,
           2
          ],
          [
           25,
           16,
           23,
           12,
           18,
           29,
           22,
           11
          ],
          [
           8,
           0,
           12,
           26,
           16,
           2,
           12,
           8
          ],
          [
           24,
           2,
           14,
           23,
           11,
           17,
           8,
           8
          ],
          [
           23,
           2,
           10,
           11,
           3,
           14,
           23,
           3
          ],
          [
           23,
           28,
           29,
           15,
           18,
           7,
           9,
           25
          ],
          [
           17,
           15,
           25,
           26,
           25,
           27,
           18,
           18
          ],
          [
           6,
           23,
           0,
           16,
           21,
           17,
           28,
           27
          ],
          [
           28,
           8,
           15,
           17,
           7,
           24,
           28,
           17
          ],
          [
           26,
           5,
           9,
           14,
           14,
           13,
           5,
           25
          ],
          [
           10,
           23,
           15,
           12,
           12,
           14,
           19,
           21
          ],
          [
           27,
           19,
           16,
           15,
           17,
           8,
           8,
           7
          ],
          [
           12,
           21,
           15,
           22,
           24,
           13,
           9,
           27
          ],
          [
           27,
           29,
           24,
           26,
           13,
           10,
           29,
           23
          ],
          [
           3,
           10,
           3,
           2,
           5,
           12,
           15,
           28
          ],
          [
           28,
           20,
           25,
           12,
           1,
           19,
           28,
           17
          ],
          [
           13,
           26,
           11,
           22,
           1,
           0,
           21,
           3
          ],
          [
           15,
           0,
           18,
           16,
           3,
           29,
           6,
           3
          ]
         ]
        }
       ],
       "layout": {
        "title": "Número de acessos nos materiais por estudante",
        "yaxis": {
         "dtick": 1,
         "exponentformat": "e",
         "gridcolor": "#bdbdbd",
         "showexponent": "all",
         "showticklabels": true,
         "tick0": 0,
         "titlefont": {
          "color": "lightgrey",
          "family": "Arial, sans-serif"
         }
        }
       }
      },
      "text/html": [
       "<div id=\"1169184c-01d4-4e67-87c5-62a76677080a\" style=\"height: 525px; width: 100%;\" class=\"plotly-graph-div\"></div><script type=\"text/javascript\">require([\"plotly\"], function(Plotly) { window.PLOTLYENV=window.PLOTLYENV || {};window.PLOTLYENV.BASE_URL=\"https://plot.ly\";\n",
       "        Plotly.plot(\n",
       "            '1169184c-01d4-4e67-87c5-62a76677080a',\n",
       "            [{\"colorscale\": [[0, \"rgb(255,255,255)\"], [1, \"rgb(0,0,255)\"]], \"x\": [\"Video1\", \"Video2\", \"Quiz1\", \"Quiz2\", \"Pdf1\", \"Pdf2\", \"Ebook1\", \"Ebook2\"], \"y\": [\"Student_1\", \"Student_2\", \"Student_3\", \"Student_4\", \"Student_5\", \"Student_6\", \"Student_7\", \"Student_8\", \"Student_9\", \"Student_10\", \"Student_11\", \"Student_12\", \"Student_13\", \"Student_14\", \"Student_15\", \"Student_16\", \"Student_17\", \"Student_18\", \"Student_19\", \"Student_20\"], \"z\": [[1, 14, 12, 7, 25, 3, 9, 4], [14, 6, 28, 15, 11, 12, 22, 27], [18, 15, 3, 18, 24, 0, 20, 2], [25, 16, 23, 12, 18, 29, 22, 11], [8, 0, 12, 26, 16, 2, 12, 8], [24, 2, 14, 23, 11, 17, 8, 8], [23, 2, 10, 11, 3, 14, 23, 3], [23, 28, 29, 15, 18, 7, 9, 25], [17, 15, 25, 26, 25, 27, 18, 18], [6, 23, 0, 16, 21, 17, 28, 27], [28, 8, 15, 17, 7, 24, 28, 17], [26, 5, 9, 14, 14, 13, 5, 25], [10, 23, 15, 12, 12, 14, 19, 21], [27, 19, 16, 15, 17, 8, 8, 7], [12, 21, 15, 22, 24, 13, 9, 27], [27, 29, 24, 26, 13, 10, 29, 23], [3, 10, 3, 2, 5, 12, 15, 28], [28, 20, 25, 12, 1, 19, 28, 17], [13, 26, 11, 22, 1, 0, 21, 3], [15, 0, 18, 16, 3, 29, 6, 3]], \"type\": \"heatmap\", \"uid\": \"49eab56c-e048-11e8-bee7-9fb6bcbfed05\"}],\n",
       "            {\"title\": \"N\\u00famero de acessos nos materiais por estudante\", \"yaxis\": {\"dtick\": 1, \"exponentformat\": \"e\", \"gridcolor\": \"#bdbdbd\", \"showexponent\": \"all\", \"showticklabels\": true, \"tick0\": 0, \"titlefont\": {\"color\": \"lightgrey\", \"family\": \"Arial, sans-serif\"}}},\n",
       "            {\"showLink\": true, \"linkText\": \"Export to plot.ly\"}\n",
       "        ).then(function () {return Plotly.addFrames('1169184c-01d4-4e67-87c5-62a76677080a',{});}).then(function(){Plotly.animate('1169184c-01d4-4e67-87c5-62a76677080a');})\n",
       "        });</script>"
      ],
      "text/vnd.plotly.v1+html": [
       "<div id=\"1169184c-01d4-4e67-87c5-62a76677080a\" style=\"height: 525px; width: 100%;\" class=\"plotly-graph-div\"></div><script type=\"text/javascript\">require([\"plotly\"], function(Plotly) { window.PLOTLYENV=window.PLOTLYENV || {};window.PLOTLYENV.BASE_URL=\"https://plot.ly\";\n",
       "        Plotly.plot(\n",
       "            '1169184c-01d4-4e67-87c5-62a76677080a',\n",
       "            [{\"colorscale\": [[0, \"rgb(255,255,255)\"], [1, \"rgb(0,0,255)\"]], \"x\": [\"Video1\", \"Video2\", \"Quiz1\", \"Quiz2\", \"Pdf1\", \"Pdf2\", \"Ebook1\", \"Ebook2\"], \"y\": [\"Student_1\", \"Student_2\", \"Student_3\", \"Student_4\", \"Student_5\", \"Student_6\", \"Student_7\", \"Student_8\", \"Student_9\", \"Student_10\", \"Student_11\", \"Student_12\", \"Student_13\", \"Student_14\", \"Student_15\", \"Student_16\", \"Student_17\", \"Student_18\", \"Student_19\", \"Student_20\"], \"z\": [[1, 14, 12, 7, 25, 3, 9, 4], [14, 6, 28, 15, 11, 12, 22, 27], [18, 15, 3, 18, 24, 0, 20, 2], [25, 16, 23, 12, 18, 29, 22, 11], [8, 0, 12, 26, 16, 2, 12, 8], [24, 2, 14, 23, 11, 17, 8, 8], [23, 2, 10, 11, 3, 14, 23, 3], [23, 28, 29, 15, 18, 7, 9, 25], [17, 15, 25, 26, 25, 27, 18, 18], [6, 23, 0, 16, 21, 17, 28, 27], [28, 8, 15, 17, 7, 24, 28, 17], [26, 5, 9, 14, 14, 13, 5, 25], [10, 23, 15, 12, 12, 14, 19, 21], [27, 19, 16, 15, 17, 8, 8, 7], [12, 21, 15, 22, 24, 13, 9, 27], [27, 29, 24, 26, 13, 10, 29, 23], [3, 10, 3, 2, 5, 12, 15, 28], [28, 20, 25, 12, 1, 19, 28, 17], [13, 26, 11, 22, 1, 0, 21, 3], [15, 0, 18, 16, 3, 29, 6, 3]], \"type\": \"heatmap\", \"uid\": \"49eab56c-e048-11e8-bee7-9fb6bcbfed05\"}],\n",
       "            {\"title\": \"N\\u00famero de acessos nos materiais por estudante\", \"yaxis\": {\"dtick\": 1, \"exponentformat\": \"e\", \"gridcolor\": \"#bdbdbd\", \"showexponent\": \"all\", \"showticklabels\": true, \"tick0\": 0, \"titlefont\": {\"color\": \"lightgrey\", \"family\": \"Arial, sans-serif\"}}},\n",
       "            {\"showLink\": true, \"linkText\": \"Export to plot.ly\"}\n",
       "        ).then(function () {return Plotly.addFrames('1169184c-01d4-4e67-87c5-62a76677080a',{});}).then(function(){Plotly.animate('1169184c-01d4-4e67-87c5-62a76677080a');})\n",
       "        });</script>"
      ]
     },
     "metadata": {},
     "output_type": "display_data"
    },
    {
     "data": {
      "application/vnd.plotly.v1+json": {
       "data": [
        {
         "marker": {
          "line": {
           "width": 2
          },
          "size": [
           1,
           14,
           12,
           7,
           25,
           3,
           9,
           4
          ],
          "sizemode": "area",
          "sizeref": 0.06896551724137931,
          "symbol": "circle"
         },
         "mode": "markers",
         "name": "Student_1",
         "text": [
          "1",
          "14",
          "12",
          "7",
          "25",
          "3",
          "9",
          "4"
         ],
         "type": "scatter",
         "uid": "4a223e4c-e048-11e8-bee7-9fb6bcbfed05",
         "x": [
          "Student_1",
          "Student_1",
          "Student_1",
          "Student_1",
          "Student_1",
          "Student_1",
          "Student_1",
          "Student_1",
          "Student_1"
         ],
         "y": [
          "Video1",
          "Video2",
          "Quiz1",
          "Quiz2",
          "Pdf1",
          "Pdf2",
          "Ebook1",
          "Ebook2"
         ]
        },
        {
         "marker": {
          "line": {
           "width": 2
          },
          "size": [
           14,
           6,
           28,
           15,
           11,
           12,
           22,
           27
          ],
          "sizemode": "area",
          "sizeref": 0.06896551724137931,
          "symbol": "circle"
         },
         "mode": "markers",
         "name": "Student_2",
         "text": [
          "14",
          "6",
          "28",
          "15",
          "11",
          "12",
          "22",
          "27"
         ],
         "type": "scatter",
         "uid": "4a2240a4-e048-11e8-bee7-9fb6bcbfed05",
         "x": [
          "Student_2",
          "Student_2",
          "Student_2",
          "Student_2",
          "Student_2",
          "Student_2",
          "Student_2",
          "Student_2",
          "Student_2"
         ],
         "y": [
          "Video1",
          "Video2",
          "Quiz1",
          "Quiz2",
          "Pdf1",
          "Pdf2",
          "Ebook1",
          "Ebook2"
         ]
        },
        {
         "marker": {
          "line": {
           "width": 2
          },
          "size": [
           18,
           15,
           3,
           18,
           24,
           0,
           20,
           2
          ],
          "sizemode": "area",
          "sizeref": 0.06896551724137931,
          "symbol": "circle"
         },
         "mode": "markers",
         "name": "Student_3",
         "text": [
          "18",
          "15",
          "3",
          "18",
          "24",
          "0",
          "20",
          "2"
         ],
         "type": "scatter",
         "uid": "4a2241c6-e048-11e8-bee7-9fb6bcbfed05",
         "x": [
          "Student_3",
          "Student_3",
          "Student_3",
          "Student_3",
          "Student_3",
          "Student_3",
          "Student_3",
          "Student_3",
          "Student_3"
         ],
         "y": [
          "Video1",
          "Video2",
          "Quiz1",
          "Quiz2",
          "Pdf1",
          "Pdf2",
          "Ebook1",
          "Ebook2"
         ]
        },
        {
         "marker": {
          "line": {
           "width": 2
          },
          "size": [
           25,
           16,
           23,
           12,
           18,
           29,
           22,
           11
          ],
          "sizemode": "area",
          "sizeref": 0.06896551724137931,
          "symbol": "circle"
         },
         "mode": "markers",
         "name": "Student_4",
         "text": [
          "25",
          "16",
          "23",
          "12",
          "18",
          "29",
          "22",
          "11"
         ],
         "type": "scatter",
         "uid": "4a2242ac-e048-11e8-bee7-9fb6bcbfed05",
         "x": [
          "Student_4",
          "Student_4",
          "Student_4",
          "Student_4",
          "Student_4",
          "Student_4",
          "Student_4",
          "Student_4",
          "Student_4"
         ],
         "y": [
          "Video1",
          "Video2",
          "Quiz1",
          "Quiz2",
          "Pdf1",
          "Pdf2",
          "Ebook1",
          "Ebook2"
         ]
        },
        {
         "marker": {
          "line": {
           "width": 2
          },
          "size": [
           8,
           0,
           12,
           26,
           16,
           2,
           12,
           8
          ],
          "sizemode": "area",
          "sizeref": 0.06896551724137931,
          "symbol": "circle"
         },
         "mode": "markers",
         "name": "Student_5",
         "text": [
          "8",
          "0",
          "12",
          "26",
          "16",
          "2",
          "12",
          "8"
         ],
         "type": "scatter",
         "uid": "4a22437e-e048-11e8-bee7-9fb6bcbfed05",
         "x": [
          "Student_5",
          "Student_5",
          "Student_5",
          "Student_5",
          "Student_5",
          "Student_5",
          "Student_5",
          "Student_5",
          "Student_5"
         ],
         "y": [
          "Video1",
          "Video2",
          "Quiz1",
          "Quiz2",
          "Pdf1",
          "Pdf2",
          "Ebook1",
          "Ebook2"
         ]
        },
        {
         "marker": {
          "line": {
           "width": 2
          },
          "size": [
           24,
           2,
           14,
           23,
           11,
           17,
           8,
           8
          ],
          "sizemode": "area",
          "sizeref": 0.06896551724137931,
          "symbol": "circle"
         },
         "mode": "markers",
         "name": "Student_6",
         "text": [
          "24",
          "2",
          "14",
          "23",
          "11",
          "17",
          "8",
          "8"
         ],
         "type": "scatter",
         "uid": "4a22443c-e048-11e8-bee7-9fb6bcbfed05",
         "x": [
          "Student_6",
          "Student_6",
          "Student_6",
          "Student_6",
          "Student_6",
          "Student_6",
          "Student_6",
          "Student_6",
          "Student_6"
         ],
         "y": [
          "Video1",
          "Video2",
          "Quiz1",
          "Quiz2",
          "Pdf1",
          "Pdf2",
          "Ebook1",
          "Ebook2"
         ]
        },
        {
         "marker": {
          "line": {
           "width": 2
          },
          "size": [
           23,
           2,
           10,
           11,
           3,
           14,
           23,
           3
          ],
          "sizemode": "area",
          "sizeref": 0.06896551724137931,
          "symbol": "circle"
         },
         "mode": "markers",
         "name": "Student_7",
         "text": [
          "23",
          "2",
          "10",
          "11",
          "3",
          "14",
          "23",
          "3"
         ],
         "type": "scatter",
         "uid": "4a224504-e048-11e8-bee7-9fb6bcbfed05",
         "x": [
          "Student_7",
          "Student_7",
          "Student_7",
          "Student_7",
          "Student_7",
          "Student_7",
          "Student_7",
          "Student_7",
          "Student_7"
         ],
         "y": [
          "Video1",
          "Video2",
          "Quiz1",
          "Quiz2",
          "Pdf1",
          "Pdf2",
          "Ebook1",
          "Ebook2"
         ]
        },
        {
         "marker": {
          "line": {
           "width": 2
          },
          "size": [
           23,
           28,
           29,
           15,
           18,
           7,
           9,
           25
          ],
          "sizemode": "area",
          "sizeref": 0.06896551724137931,
          "symbol": "circle"
         },
         "mode": "markers",
         "name": "Student_8",
         "text": [
          "23",
          "28",
          "29",
          "15",
          "18",
          "7",
          "9",
          "25"
         ],
         "type": "scatter",
         "uid": "4a2245c2-e048-11e8-bee7-9fb6bcbfed05",
         "x": [
          "Student_8",
          "Student_8",
          "Student_8",
          "Student_8",
          "Student_8",
          "Student_8",
          "Student_8",
          "Student_8",
          "Student_8"
         ],
         "y": [
          "Video1",
          "Video2",
          "Quiz1",
          "Quiz2",
          "Pdf1",
          "Pdf2",
          "Ebook1",
          "Ebook2"
         ]
        },
        {
         "marker": {
          "line": {
           "width": 2
          },
          "size": [
           17,
           15,
           25,
           26,
           25,
           27,
           18,
           18
          ],
          "sizemode": "area",
          "sizeref": 0.06896551724137931,
          "symbol": "circle"
         },
         "mode": "markers",
         "name": "Student_9",
         "text": [
          "17",
          "15",
          "25",
          "26",
          "25",
          "27",
          "18",
          "18"
         ],
         "type": "scatter",
         "uid": "4a224680-e048-11e8-bee7-9fb6bcbfed05",
         "x": [
          "Student_9",
          "Student_9",
          "Student_9",
          "Student_9",
          "Student_9",
          "Student_9",
          "Student_9",
          "Student_9",
          "Student_9"
         ],
         "y": [
          "Video1",
          "Video2",
          "Quiz1",
          "Quiz2",
          "Pdf1",
          "Pdf2",
          "Ebook1",
          "Ebook2"
         ]
        },
        {
         "marker": {
          "line": {
           "width": 2
          },
          "size": [
           6,
           23,
           0,
           16,
           21,
           17,
           28,
           27
          ],
          "sizemode": "area",
          "sizeref": 0.06896551724137931,
          "symbol": "circle"
         },
         "mode": "markers",
         "name": "Student_10",
         "text": [
          "6",
          "23",
          "0",
          "16",
          "21",
          "17",
          "28",
          "27"
         ],
         "type": "scatter",
         "uid": "4a224734-e048-11e8-bee7-9fb6bcbfed05",
         "x": [
          "Student_10",
          "Student_10",
          "Student_10",
          "Student_10",
          "Student_10",
          "Student_10",
          "Student_10",
          "Student_10",
          "Student_10"
         ],
         "y": [
          "Video1",
          "Video2",
          "Quiz1",
          "Quiz2",
          "Pdf1",
          "Pdf2",
          "Ebook1",
          "Ebook2"
         ]
        },
        {
         "marker": {
          "line": {
           "width": 2
          },
          "size": [
           28,
           8,
           15,
           17,
           7,
           24,
           28,
           17
          ],
          "sizemode": "area",
          "sizeref": 0.06896551724137931,
          "symbol": "circle"
         },
         "mode": "markers",
         "name": "Student_11",
         "text": [
          "28",
          "8",
          "15",
          "17",
          "7",
          "24",
          "28",
          "17"
         ],
         "type": "scatter",
         "uid": "4a2247f2-e048-11e8-bee7-9fb6bcbfed05",
         "x": [
          "Student_11",
          "Student_11",
          "Student_11",
          "Student_11",
          "Student_11",
          "Student_11",
          "Student_11",
          "Student_11",
          "Student_11"
         ],
         "y": [
          "Video1",
          "Video2",
          "Quiz1",
          "Quiz2",
          "Pdf1",
          "Pdf2",
          "Ebook1",
          "Ebook2"
         ]
        },
        {
         "marker": {
          "line": {
           "width": 2
          },
          "size": [
           26,
           5,
           9,
           14,
           14,
           13,
           5,
           25
          ],
          "sizemode": "area",
          "sizeref": 0.06896551724137931,
          "symbol": "circle"
         },
         "mode": "markers",
         "name": "Student_12",
         "text": [
          "26",
          "5",
          "9",
          "14",
          "14",
          "13",
          "5",
          "25"
         ],
         "type": "scatter",
         "uid": "4a2248b0-e048-11e8-bee7-9fb6bcbfed05",
         "x": [
          "Student_12",
          "Student_12",
          "Student_12",
          "Student_12",
          "Student_12",
          "Student_12",
          "Student_12",
          "Student_12",
          "Student_12"
         ],
         "y": [
          "Video1",
          "Video2",
          "Quiz1",
          "Quiz2",
          "Pdf1",
          "Pdf2",
          "Ebook1",
          "Ebook2"
         ]
        },
        {
         "marker": {
          "line": {
           "width": 2
          },
          "size": [
           10,
           23,
           15,
           12,
           12,
           14,
           19,
           21
          ],
          "sizemode": "area",
          "sizeref": 0.06896551724137931,
          "symbol": "circle"
         },
         "mode": "markers",
         "name": "Student_13",
         "text": [
          "10",
          "23",
          "15",
          "12",
          "12",
          "14",
          "19",
          "21"
         ],
         "type": "scatter",
         "uid": "4a22496e-e048-11e8-bee7-9fb6bcbfed05",
         "x": [
          "Student_13",
          "Student_13",
          "Student_13",
          "Student_13",
          "Student_13",
          "Student_13",
          "Student_13",
          "Student_13",
          "Student_13"
         ],
         "y": [
          "Video1",
          "Video2",
          "Quiz1",
          "Quiz2",
          "Pdf1",
          "Pdf2",
          "Ebook1",
          "Ebook2"
         ]
        },
        {
         "marker": {
          "line": {
           "width": 2
          },
          "size": [
           27,
           19,
           16,
           15,
           17,
           8,
           8,
           7
          ],
          "sizemode": "area",
          "sizeref": 0.06896551724137931,
          "symbol": "circle"
         },
         "mode": "markers",
         "name": "Student_14",
         "text": [
          "27",
          "19",
          "16",
          "15",
          "17",
          "8",
          "8",
          "7"
         ],
         "type": "scatter",
         "uid": "4a224a2c-e048-11e8-bee7-9fb6bcbfed05",
         "x": [
          "Student_14",
          "Student_14",
          "Student_14",
          "Student_14",
          "Student_14",
          "Student_14",
          "Student_14",
          "Student_14",
          "Student_14"
         ],
         "y": [
          "Video1",
          "Video2",
          "Quiz1",
          "Quiz2",
          "Pdf1",
          "Pdf2",
          "Ebook1",
          "Ebook2"
         ]
        },
        {
         "marker": {
          "line": {
           "width": 2
          },
          "size": [
           12,
           21,
           15,
           22,
           24,
           13,
           9,
           27
          ],
          "sizemode": "area",
          "sizeref": 0.06896551724137931,
          "symbol": "circle"
         },
         "mode": "markers",
         "name": "Student_15",
         "text": [
          "12",
          "21",
          "15",
          "22",
          "24",
          "13",
          "9",
          "27"
         ],
         "type": "scatter",
         "uid": "4a224aea-e048-11e8-bee7-9fb6bcbfed05",
         "x": [
          "Student_15",
          "Student_15",
          "Student_15",
          "Student_15",
          "Student_15",
          "Student_15",
          "Student_15",
          "Student_15",
          "Student_15"
         ],
         "y": [
          "Video1",
          "Video2",
          "Quiz1",
          "Quiz2",
          "Pdf1",
          "Pdf2",
          "Ebook1",
          "Ebook2"
         ]
        },
        {
         "marker": {
          "line": {
           "width": 2
          },
          "size": [
           27,
           29,
           24,
           26,
           13,
           10,
           29,
           23
          ],
          "sizemode": "area",
          "sizeref": 0.06896551724137931,
          "symbol": "circle"
         },
         "mode": "markers",
         "name": "Student_16",
         "text": [
          "27",
          "29",
          "24",
          "26",
          "13",
          "10",
          "29",
          "23"
         ],
         "type": "scatter",
         "uid": "4a224ba8-e048-11e8-bee7-9fb6bcbfed05",
         "x": [
          "Student_16",
          "Student_16",
          "Student_16",
          "Student_16",
          "Student_16",
          "Student_16",
          "Student_16",
          "Student_16",
          "Student_16"
         ],
         "y": [
          "Video1",
          "Video2",
          "Quiz1",
          "Quiz2",
          "Pdf1",
          "Pdf2",
          "Ebook1",
          "Ebook2"
         ]
        },
        {
         "marker": {
          "line": {
           "width": 2
          },
          "size": [
           3,
           10,
           3,
           2,
           5,
           12,
           15,
           28
          ],
          "sizemode": "area",
          "sizeref": 0.06896551724137931,
          "symbol": "circle"
         },
         "mode": "markers",
         "name": "Student_17",
         "text": [
          "3",
          "10",
          "3",
          "2",
          "5",
          "12",
          "15",
          "28"
         ],
         "type": "scatter",
         "uid": "4a224c5c-e048-11e8-bee7-9fb6bcbfed05",
         "x": [
          "Student_17",
          "Student_17",
          "Student_17",
          "Student_17",
          "Student_17",
          "Student_17",
          "Student_17",
          "Student_17",
          "Student_17"
         ],
         "y": [
          "Video1",
          "Video2",
          "Quiz1",
          "Quiz2",
          "Pdf1",
          "Pdf2",
          "Ebook1",
          "Ebook2"
         ]
        },
        {
         "marker": {
          "line": {
           "width": 2
          },
          "size": [
           28,
           20,
           25,
           12,
           1,
           19,
           28,
           17
          ],
          "sizemode": "area",
          "sizeref": 0.06896551724137931,
          "symbol": "circle"
         },
         "mode": "markers",
         "name": "Student_18",
         "text": [
          "28",
          "20",
          "25",
          "12",
          "1",
          "19",
          "28",
          "17"
         ],
         "type": "scatter",
         "uid": "4a224d10-e048-11e8-bee7-9fb6bcbfed05",
         "x": [
          "Student_18",
          "Student_18",
          "Student_18",
          "Student_18",
          "Student_18",
          "Student_18",
          "Student_18",
          "Student_18",
          "Student_18"
         ],
         "y": [
          "Video1",
          "Video2",
          "Quiz1",
          "Quiz2",
          "Pdf1",
          "Pdf2",
          "Ebook1",
          "Ebook2"
         ]
        },
        {
         "marker": {
          "line": {
           "width": 2
          },
          "size": [
           13,
           26,
           11,
           22,
           1,
           0,
           21,
           3
          ],
          "sizemode": "area",
          "sizeref": 0.06896551724137931,
          "symbol": "circle"
         },
         "mode": "markers",
         "name": "Student_19",
         "text": [
          "13",
          "26",
          "11",
          "22",
          "1",
          "0",
          "21",
          "3"
         ],
         "type": "scatter",
         "uid": "4a224dc4-e048-11e8-bee7-9fb6bcbfed05",
         "x": [
          "Student_19",
          "Student_19",
          "Student_19",
          "Student_19",
          "Student_19",
          "Student_19",
          "Student_19",
          "Student_19",
          "Student_19"
         ],
         "y": [
          "Video1",
          "Video2",
          "Quiz1",
          "Quiz2",
          "Pdf1",
          "Pdf2",
          "Ebook1",
          "Ebook2"
         ]
        },
        {
         "marker": {
          "line": {
           "width": 2
          },
          "size": [
           15,
           0,
           18,
           16,
           3,
           29,
           6,
           3
          ],
          "sizemode": "area",
          "sizeref": 0.06896551724137931,
          "symbol": "circle"
         },
         "mode": "markers",
         "name": "Student_20",
         "text": [
          "15",
          "0",
          "18",
          "16",
          "3",
          "29",
          "6",
          "3"
         ],
         "type": "scatter",
         "uid": "4a224e78-e048-11e8-bee7-9fb6bcbfed05",
         "x": [
          "Student_20",
          "Student_20",
          "Student_20",
          "Student_20",
          "Student_20",
          "Student_20",
          "Student_20",
          "Student_20",
          "Student_20"
         ],
         "y": [
          "Video1",
          "Video2",
          "Quiz1",
          "Quiz2",
          "Pdf1",
          "Pdf2",
          "Ebook1",
          "Ebook2"
         ]
        }
       ],
       "layout": {
        "hovermode": "closest",
        "showlegend": true,
        "title": "Número de acessos nos materiais por estudante",
        "xaxis": {
         "autorange": false,
         "categoryorder": "category ascending",
         "fixedrange": false,
         "range": [
          -1,
          20
         ],
         "rangemode": "normal",
         "showline": true,
         "title": "Estudantes",
         "type": "category"
        },
        "yaxis": {
         "autorange": false,
         "categoryorder": "category ascending",
         "fixedrange": false,
         "range": [
          -1,
          8
         ],
         "rangemode": "normal",
         "showline": true,
         "title": "Materiais",
         "type": "category"
        }
       }
      },
      "text/html": [
       "<div id=\"85681d17-9371-4452-b610-1775b92309e0\" style=\"height: 525px; width: 100%;\" class=\"plotly-graph-div\"></div><script type=\"text/javascript\">require([\"plotly\"], function(Plotly) { window.PLOTLYENV=window.PLOTLYENV || {};window.PLOTLYENV.BASE_URL=\"https://plot.ly\";\n",
       "        Plotly.plot(\n",
       "            '85681d17-9371-4452-b610-1775b92309e0',\n",
       "            [{\"marker\": {\"line\": {\"width\": 2}, \"size\": [1, 14, 12, 7, 25, 3, 9, 4], \"sizemode\": \"area\", \"sizeref\": 0.06896551724137931, \"symbol\": \"circle\"}, \"mode\": \"markers\", \"name\": \"Student_1\", \"text\": [\"1\", \"14\", \"12\", \"7\", \"25\", \"3\", \"9\", \"4\"], \"x\": [\"Student_1\", \"Student_1\", \"Student_1\", \"Student_1\", \"Student_1\", \"Student_1\", \"Student_1\", \"Student_1\", \"Student_1\"], \"y\": [\"Video1\", \"Video2\", \"Quiz1\", \"Quiz2\", \"Pdf1\", \"Pdf2\", \"Ebook1\", \"Ebook2\"], \"type\": \"scatter\", \"uid\": \"4a223e4c-e048-11e8-bee7-9fb6bcbfed05\"}, {\"marker\": {\"line\": {\"width\": 2}, \"size\": [14, 6, 28, 15, 11, 12, 22, 27], \"sizemode\": \"area\", \"sizeref\": 0.06896551724137931, \"symbol\": \"circle\"}, \"mode\": \"markers\", \"name\": \"Student_2\", \"text\": [\"14\", \"6\", \"28\", \"15\", \"11\", \"12\", \"22\", \"27\"], \"x\": [\"Student_2\", \"Student_2\", \"Student_2\", \"Student_2\", \"Student_2\", \"Student_2\", \"Student_2\", \"Student_2\", \"Student_2\"], \"y\": [\"Video1\", \"Video2\", \"Quiz1\", \"Quiz2\", \"Pdf1\", \"Pdf2\", \"Ebook1\", \"Ebook2\"], \"type\": \"scatter\", \"uid\": \"4a2240a4-e048-11e8-bee7-9fb6bcbfed05\"}, {\"marker\": {\"line\": {\"width\": 2}, \"size\": [18, 15, 3, 18, 24, 0, 20, 2], \"sizemode\": \"area\", \"sizeref\": 0.06896551724137931, \"symbol\": \"circle\"}, \"mode\": \"markers\", \"name\": \"Student_3\", \"text\": [\"18\", \"15\", \"3\", \"18\", \"24\", \"0\", \"20\", \"2\"], \"x\": [\"Student_3\", \"Student_3\", \"Student_3\", \"Student_3\", \"Student_3\", \"Student_3\", \"Student_3\", \"Student_3\", \"Student_3\"], \"y\": [\"Video1\", \"Video2\", \"Quiz1\", \"Quiz2\", \"Pdf1\", \"Pdf2\", \"Ebook1\", \"Ebook2\"], \"type\": \"scatter\", \"uid\": \"4a2241c6-e048-11e8-bee7-9fb6bcbfed05\"}, {\"marker\": {\"line\": {\"width\": 2}, \"size\": [25, 16, 23, 12, 18, 29, 22, 11], \"sizemode\": \"area\", \"sizeref\": 0.06896551724137931, \"symbol\": \"circle\"}, \"mode\": \"markers\", \"name\": \"Student_4\", \"text\": [\"25\", \"16\", \"23\", \"12\", \"18\", \"29\", \"22\", \"11\"], \"x\": [\"Student_4\", \"Student_4\", \"Student_4\", \"Student_4\", \"Student_4\", \"Student_4\", \"Student_4\", \"Student_4\", \"Student_4\"], \"y\": [\"Video1\", \"Video2\", \"Quiz1\", \"Quiz2\", \"Pdf1\", \"Pdf2\", \"Ebook1\", \"Ebook2\"], \"type\": \"scatter\", \"uid\": \"4a2242ac-e048-11e8-bee7-9fb6bcbfed05\"}, {\"marker\": {\"line\": {\"width\": 2}, \"size\": [8, 0, 12, 26, 16, 2, 12, 8], \"sizemode\": \"area\", \"sizeref\": 0.06896551724137931, \"symbol\": \"circle\"}, \"mode\": \"markers\", \"name\": \"Student_5\", \"text\": [\"8\", \"0\", \"12\", \"26\", \"16\", \"2\", \"12\", \"8\"], \"x\": [\"Student_5\", \"Student_5\", \"Student_5\", \"Student_5\", \"Student_5\", \"Student_5\", \"Student_5\", \"Student_5\", \"Student_5\"], \"y\": [\"Video1\", \"Video2\", \"Quiz1\", \"Quiz2\", \"Pdf1\", \"Pdf2\", \"Ebook1\", \"Ebook2\"], \"type\": \"scatter\", \"uid\": \"4a22437e-e048-11e8-bee7-9fb6bcbfed05\"}, {\"marker\": {\"line\": {\"width\": 2}, \"size\": [24, 2, 14, 23, 11, 17, 8, 8], \"sizemode\": \"area\", \"sizeref\": 0.06896551724137931, \"symbol\": \"circle\"}, \"mode\": \"markers\", \"name\": \"Student_6\", \"text\": [\"24\", \"2\", \"14\", \"23\", \"11\", \"17\", \"8\", \"8\"], \"x\": [\"Student_6\", \"Student_6\", \"Student_6\", \"Student_6\", \"Student_6\", \"Student_6\", \"Student_6\", \"Student_6\", \"Student_6\"], \"y\": [\"Video1\", \"Video2\", \"Quiz1\", \"Quiz2\", \"Pdf1\", \"Pdf2\", \"Ebook1\", \"Ebook2\"], \"type\": \"scatter\", \"uid\": \"4a22443c-e048-11e8-bee7-9fb6bcbfed05\"}, {\"marker\": {\"line\": {\"width\": 2}, \"size\": [23, 2, 10, 11, 3, 14, 23, 3], \"sizemode\": \"area\", \"sizeref\": 0.06896551724137931, \"symbol\": \"circle\"}, \"mode\": \"markers\", \"name\": \"Student_7\", \"text\": [\"23\", \"2\", \"10\", \"11\", \"3\", \"14\", \"23\", \"3\"], \"x\": [\"Student_7\", \"Student_7\", \"Student_7\", \"Student_7\", \"Student_7\", \"Student_7\", \"Student_7\", \"Student_7\", \"Student_7\"], \"y\": [\"Video1\", \"Video2\", \"Quiz1\", \"Quiz2\", \"Pdf1\", \"Pdf2\", \"Ebook1\", \"Ebook2\"], \"type\": \"scatter\", \"uid\": \"4a224504-e048-11e8-bee7-9fb6bcbfed05\"}, {\"marker\": {\"line\": {\"width\": 2}, \"size\": [23, 28, 29, 15, 18, 7, 9, 25], \"sizemode\": \"area\", \"sizeref\": 0.06896551724137931, \"symbol\": \"circle\"}, \"mode\": \"markers\", \"name\": \"Student_8\", \"text\": [\"23\", \"28\", \"29\", \"15\", \"18\", \"7\", \"9\", \"25\"], \"x\": [\"Student_8\", \"Student_8\", \"Student_8\", \"Student_8\", \"Student_8\", \"Student_8\", \"Student_8\", \"Student_8\", \"Student_8\"], \"y\": [\"Video1\", \"Video2\", \"Quiz1\", \"Quiz2\", \"Pdf1\", \"Pdf2\", \"Ebook1\", \"Ebook2\"], \"type\": \"scatter\", \"uid\": \"4a2245c2-e048-11e8-bee7-9fb6bcbfed05\"}, {\"marker\": {\"line\": {\"width\": 2}, \"size\": [17, 15, 25, 26, 25, 27, 18, 18], \"sizemode\": \"area\", \"sizeref\": 0.06896551724137931, \"symbol\": \"circle\"}, \"mode\": \"markers\", \"name\": \"Student_9\", \"text\": [\"17\", \"15\", \"25\", \"26\", \"25\", \"27\", \"18\", \"18\"], \"x\": [\"Student_9\", \"Student_9\", \"Student_9\", \"Student_9\", \"Student_9\", \"Student_9\", \"Student_9\", \"Student_9\", \"Student_9\"], \"y\": [\"Video1\", \"Video2\", \"Quiz1\", \"Quiz2\", \"Pdf1\", \"Pdf2\", \"Ebook1\", \"Ebook2\"], \"type\": \"scatter\", \"uid\": \"4a224680-e048-11e8-bee7-9fb6bcbfed05\"}, {\"marker\": {\"line\": {\"width\": 2}, \"size\": [6, 23, 0, 16, 21, 17, 28, 27], \"sizemode\": \"area\", \"sizeref\": 0.06896551724137931, \"symbol\": \"circle\"}, \"mode\": \"markers\", \"name\": \"Student_10\", \"text\": [\"6\", \"23\", \"0\", \"16\", \"21\", \"17\", \"28\", \"27\"], \"x\": [\"Student_10\", \"Student_10\", \"Student_10\", \"Student_10\", \"Student_10\", \"Student_10\", \"Student_10\", \"Student_10\", \"Student_10\"], \"y\": [\"Video1\", \"Video2\", \"Quiz1\", \"Quiz2\", \"Pdf1\", \"Pdf2\", \"Ebook1\", \"Ebook2\"], \"type\": \"scatter\", \"uid\": \"4a224734-e048-11e8-bee7-9fb6bcbfed05\"}, {\"marker\": {\"line\": {\"width\": 2}, \"size\": [28, 8, 15, 17, 7, 24, 28, 17], \"sizemode\": \"area\", \"sizeref\": 0.06896551724137931, \"symbol\": \"circle\"}, \"mode\": \"markers\", \"name\": \"Student_11\", \"text\": [\"28\", \"8\", \"15\", \"17\", \"7\", \"24\", \"28\", \"17\"], \"x\": [\"Student_11\", \"Student_11\", \"Student_11\", \"Student_11\", \"Student_11\", \"Student_11\", \"Student_11\", \"Student_11\", \"Student_11\"], \"y\": [\"Video1\", \"Video2\", \"Quiz1\", \"Quiz2\", \"Pdf1\", \"Pdf2\", \"Ebook1\", \"Ebook2\"], \"type\": \"scatter\", \"uid\": \"4a2247f2-e048-11e8-bee7-9fb6bcbfed05\"}, {\"marker\": {\"line\": {\"width\": 2}, \"size\": [26, 5, 9, 14, 14, 13, 5, 25], \"sizemode\": \"area\", \"sizeref\": 0.06896551724137931, \"symbol\": \"circle\"}, \"mode\": \"markers\", \"name\": \"Student_12\", \"text\": [\"26\", \"5\", \"9\", \"14\", \"14\", \"13\", \"5\", \"25\"], \"x\": [\"Student_12\", \"Student_12\", \"Student_12\", \"Student_12\", \"Student_12\", \"Student_12\", \"Student_12\", \"Student_12\", \"Student_12\"], \"y\": [\"Video1\", \"Video2\", \"Quiz1\", \"Quiz2\", \"Pdf1\", \"Pdf2\", \"Ebook1\", \"Ebook2\"], \"type\": \"scatter\", \"uid\": \"4a2248b0-e048-11e8-bee7-9fb6bcbfed05\"}, {\"marker\": {\"line\": {\"width\": 2}, \"size\": [10, 23, 15, 12, 12, 14, 19, 21], \"sizemode\": \"area\", \"sizeref\": 0.06896551724137931, \"symbol\": \"circle\"}, \"mode\": \"markers\", \"name\": \"Student_13\", \"text\": [\"10\", \"23\", \"15\", \"12\", \"12\", \"14\", \"19\", \"21\"], \"x\": [\"Student_13\", \"Student_13\", \"Student_13\", \"Student_13\", \"Student_13\", \"Student_13\", \"Student_13\", \"Student_13\", \"Student_13\"], \"y\": [\"Video1\", \"Video2\", \"Quiz1\", \"Quiz2\", \"Pdf1\", \"Pdf2\", \"Ebook1\", \"Ebook2\"], \"type\": \"scatter\", \"uid\": \"4a22496e-e048-11e8-bee7-9fb6bcbfed05\"}, {\"marker\": {\"line\": {\"width\": 2}, \"size\": [27, 19, 16, 15, 17, 8, 8, 7], \"sizemode\": \"area\", \"sizeref\": 0.06896551724137931, \"symbol\": \"circle\"}, \"mode\": \"markers\", \"name\": \"Student_14\", \"text\": [\"27\", \"19\", \"16\", \"15\", \"17\", \"8\", \"8\", \"7\"], \"x\": [\"Student_14\", \"Student_14\", \"Student_14\", \"Student_14\", \"Student_14\", \"Student_14\", \"Student_14\", \"Student_14\", \"Student_14\"], \"y\": [\"Video1\", \"Video2\", \"Quiz1\", \"Quiz2\", \"Pdf1\", \"Pdf2\", \"Ebook1\", \"Ebook2\"], \"type\": \"scatter\", \"uid\": \"4a224a2c-e048-11e8-bee7-9fb6bcbfed05\"}, {\"marker\": {\"line\": {\"width\": 2}, \"size\": [12, 21, 15, 22, 24, 13, 9, 27], \"sizemode\": \"area\", \"sizeref\": 0.06896551724137931, \"symbol\": \"circle\"}, \"mode\": \"markers\", \"name\": \"Student_15\", \"text\": [\"12\", \"21\", \"15\", \"22\", \"24\", \"13\", \"9\", \"27\"], \"x\": [\"Student_15\", \"Student_15\", \"Student_15\", \"Student_15\", \"Student_15\", \"Student_15\", \"Student_15\", \"Student_15\", \"Student_15\"], \"y\": [\"Video1\", \"Video2\", \"Quiz1\", \"Quiz2\", \"Pdf1\", \"Pdf2\", \"Ebook1\", \"Ebook2\"], \"type\": \"scatter\", \"uid\": \"4a224aea-e048-11e8-bee7-9fb6bcbfed05\"}, {\"marker\": {\"line\": {\"width\": 2}, \"size\": [27, 29, 24, 26, 13, 10, 29, 23], \"sizemode\": \"area\", \"sizeref\": 0.06896551724137931, \"symbol\": \"circle\"}, \"mode\": \"markers\", \"name\": \"Student_16\", \"text\": [\"27\", \"29\", \"24\", \"26\", \"13\", \"10\", \"29\", \"23\"], \"x\": [\"Student_16\", \"Student_16\", \"Student_16\", \"Student_16\", \"Student_16\", \"Student_16\", \"Student_16\", \"Student_16\", \"Student_16\"], \"y\": [\"Video1\", \"Video2\", \"Quiz1\", \"Quiz2\", \"Pdf1\", \"Pdf2\", \"Ebook1\", \"Ebook2\"], \"type\": \"scatter\", \"uid\": \"4a224ba8-e048-11e8-bee7-9fb6bcbfed05\"}, {\"marker\": {\"line\": {\"width\": 2}, \"size\": [3, 10, 3, 2, 5, 12, 15, 28], \"sizemode\": \"area\", \"sizeref\": 0.06896551724137931, \"symbol\": \"circle\"}, \"mode\": \"markers\", \"name\": \"Student_17\", \"text\": [\"3\", \"10\", \"3\", \"2\", \"5\", \"12\", \"15\", \"28\"], \"x\": [\"Student_17\", \"Student_17\", \"Student_17\", \"Student_17\", \"Student_17\", \"Student_17\", \"Student_17\", \"Student_17\", \"Student_17\"], \"y\": [\"Video1\", \"Video2\", \"Quiz1\", \"Quiz2\", \"Pdf1\", \"Pdf2\", \"Ebook1\", \"Ebook2\"], \"type\": \"scatter\", \"uid\": \"4a224c5c-e048-11e8-bee7-9fb6bcbfed05\"}, {\"marker\": {\"line\": {\"width\": 2}, \"size\": [28, 20, 25, 12, 1, 19, 28, 17], \"sizemode\": \"area\", \"sizeref\": 0.06896551724137931, \"symbol\": \"circle\"}, \"mode\": \"markers\", \"name\": \"Student_18\", \"text\": [\"28\", \"20\", \"25\", \"12\", \"1\", \"19\", \"28\", \"17\"], \"x\": [\"Student_18\", \"Student_18\", \"Student_18\", \"Student_18\", \"Student_18\", \"Student_18\", \"Student_18\", \"Student_18\", \"Student_18\"], \"y\": [\"Video1\", \"Video2\", \"Quiz1\", \"Quiz2\", \"Pdf1\", \"Pdf2\", \"Ebook1\", \"Ebook2\"], \"type\": \"scatter\", \"uid\": \"4a224d10-e048-11e8-bee7-9fb6bcbfed05\"}, {\"marker\": {\"line\": {\"width\": 2}, \"size\": [13, 26, 11, 22, 1, 0, 21, 3], \"sizemode\": \"area\", \"sizeref\": 0.06896551724137931, \"symbol\": \"circle\"}, \"mode\": \"markers\", \"name\": \"Student_19\", \"text\": [\"13\", \"26\", \"11\", \"22\", \"1\", \"0\", \"21\", \"3\"], \"x\": [\"Student_19\", \"Student_19\", \"Student_19\", \"Student_19\", \"Student_19\", \"Student_19\", \"Student_19\", \"Student_19\", \"Student_19\"], \"y\": [\"Video1\", \"Video2\", \"Quiz1\", \"Quiz2\", \"Pdf1\", \"Pdf2\", \"Ebook1\", \"Ebook2\"], \"type\": \"scatter\", \"uid\": \"4a224dc4-e048-11e8-bee7-9fb6bcbfed05\"}, {\"marker\": {\"line\": {\"width\": 2}, \"size\": [15, 0, 18, 16, 3, 29, 6, 3], \"sizemode\": \"area\", \"sizeref\": 0.06896551724137931, \"symbol\": \"circle\"}, \"mode\": \"markers\", \"name\": \"Student_20\", \"text\": [\"15\", \"0\", \"18\", \"16\", \"3\", \"29\", \"6\", \"3\"], \"x\": [\"Student_20\", \"Student_20\", \"Student_20\", \"Student_20\", \"Student_20\", \"Student_20\", \"Student_20\", \"Student_20\", \"Student_20\"], \"y\": [\"Video1\", \"Video2\", \"Quiz1\", \"Quiz2\", \"Pdf1\", \"Pdf2\", \"Ebook1\", \"Ebook2\"], \"type\": \"scatter\", \"uid\": \"4a224e78-e048-11e8-bee7-9fb6bcbfed05\"}],\n",
       "            {\"hovermode\": \"closest\", \"showlegend\": true, \"title\": \"N\\u00famero de acessos nos materiais por estudante\", \"xaxis\": {\"autorange\": false, \"categoryorder\": \"category ascending\", \"fixedrange\": false, \"range\": [-1, 20], \"rangemode\": \"normal\", \"showline\": true, \"title\": \"Estudantes\", \"type\": \"category\"}, \"yaxis\": {\"autorange\": false, \"categoryorder\": \"category ascending\", \"fixedrange\": false, \"range\": [-1, 8], \"rangemode\": \"normal\", \"showline\": true, \"title\": \"Materiais\", \"type\": \"category\"}},\n",
       "            {\"showLink\": true, \"linkText\": \"Export to plot.ly\"}\n",
       "        ).then(function () {return Plotly.addFrames('85681d17-9371-4452-b610-1775b92309e0',{});}).then(function(){Plotly.animate('85681d17-9371-4452-b610-1775b92309e0');})\n",
       "        });</script>"
      ],
      "text/vnd.plotly.v1+html": [
       "<div id=\"85681d17-9371-4452-b610-1775b92309e0\" style=\"height: 525px; width: 100%;\" class=\"plotly-graph-div\"></div><script type=\"text/javascript\">require([\"plotly\"], function(Plotly) { window.PLOTLYENV=window.PLOTLYENV || {};window.PLOTLYENV.BASE_URL=\"https://plot.ly\";\n",
       "        Plotly.plot(\n",
       "            '85681d17-9371-4452-b610-1775b92309e0',\n",
       "            [{\"marker\": {\"line\": {\"width\": 2}, \"size\": [1, 14, 12, 7, 25, 3, 9, 4], \"sizemode\": \"area\", \"sizeref\": 0.06896551724137931, \"symbol\": \"circle\"}, \"mode\": \"markers\", \"name\": \"Student_1\", \"text\": [\"1\", \"14\", \"12\", \"7\", \"25\", \"3\", \"9\", \"4\"], \"x\": [\"Student_1\", \"Student_1\", \"Student_1\", \"Student_1\", \"Student_1\", \"Student_1\", \"Student_1\", \"Student_1\", \"Student_1\"], \"y\": [\"Video1\", \"Video2\", \"Quiz1\", \"Quiz2\", \"Pdf1\", \"Pdf2\", \"Ebook1\", \"Ebook2\"], \"type\": \"scatter\", \"uid\": \"4a223e4c-e048-11e8-bee7-9fb6bcbfed05\"}, {\"marker\": {\"line\": {\"width\": 2}, \"size\": [14, 6, 28, 15, 11, 12, 22, 27], \"sizemode\": \"area\", \"sizeref\": 0.06896551724137931, \"symbol\": \"circle\"}, \"mode\": \"markers\", \"name\": \"Student_2\", \"text\": [\"14\", \"6\", \"28\", \"15\", \"11\", \"12\", \"22\", \"27\"], \"x\": [\"Student_2\", \"Student_2\", \"Student_2\", \"Student_2\", \"Student_2\", \"Student_2\", \"Student_2\", \"Student_2\", \"Student_2\"], \"y\": [\"Video1\", \"Video2\", \"Quiz1\", \"Quiz2\", \"Pdf1\", \"Pdf2\", \"Ebook1\", \"Ebook2\"], \"type\": \"scatter\", \"uid\": \"4a2240a4-e048-11e8-bee7-9fb6bcbfed05\"}, {\"marker\": {\"line\": {\"width\": 2}, \"size\": [18, 15, 3, 18, 24, 0, 20, 2], \"sizemode\": \"area\", \"sizeref\": 0.06896551724137931, \"symbol\": \"circle\"}, \"mode\": \"markers\", \"name\": \"Student_3\", \"text\": [\"18\", \"15\", \"3\", \"18\", \"24\", \"0\", \"20\", \"2\"], \"x\": [\"Student_3\", \"Student_3\", \"Student_3\", \"Student_3\", \"Student_3\", \"Student_3\", \"Student_3\", \"Student_3\", \"Student_3\"], \"y\": [\"Video1\", \"Video2\", \"Quiz1\", \"Quiz2\", \"Pdf1\", \"Pdf2\", \"Ebook1\", \"Ebook2\"], \"type\": \"scatter\", \"uid\": \"4a2241c6-e048-11e8-bee7-9fb6bcbfed05\"}, {\"marker\": {\"line\": {\"width\": 2}, \"size\": [25, 16, 23, 12, 18, 29, 22, 11], \"sizemode\": \"area\", \"sizeref\": 0.06896551724137931, \"symbol\": \"circle\"}, \"mode\": \"markers\", \"name\": \"Student_4\", \"text\": [\"25\", \"16\", \"23\", \"12\", \"18\", \"29\", \"22\", \"11\"], \"x\": [\"Student_4\", \"Student_4\", \"Student_4\", \"Student_4\", \"Student_4\", \"Student_4\", \"Student_4\", \"Student_4\", \"Student_4\"], \"y\": [\"Video1\", \"Video2\", \"Quiz1\", \"Quiz2\", \"Pdf1\", \"Pdf2\", \"Ebook1\", \"Ebook2\"], \"type\": \"scatter\", \"uid\": \"4a2242ac-e048-11e8-bee7-9fb6bcbfed05\"}, {\"marker\": {\"line\": {\"width\": 2}, \"size\": [8, 0, 12, 26, 16, 2, 12, 8], \"sizemode\": \"area\", \"sizeref\": 0.06896551724137931, \"symbol\": \"circle\"}, \"mode\": \"markers\", \"name\": \"Student_5\", \"text\": [\"8\", \"0\", \"12\", \"26\", \"16\", \"2\", \"12\", \"8\"], \"x\": [\"Student_5\", \"Student_5\", \"Student_5\", \"Student_5\", \"Student_5\", \"Student_5\", \"Student_5\", \"Student_5\", \"Student_5\"], \"y\": [\"Video1\", \"Video2\", \"Quiz1\", \"Quiz2\", \"Pdf1\", \"Pdf2\", \"Ebook1\", \"Ebook2\"], \"type\": \"scatter\", \"uid\": \"4a22437e-e048-11e8-bee7-9fb6bcbfed05\"}, {\"marker\": {\"line\": {\"width\": 2}, \"size\": [24, 2, 14, 23, 11, 17, 8, 8], \"sizemode\": \"area\", \"sizeref\": 0.06896551724137931, \"symbol\": \"circle\"}, \"mode\": \"markers\", \"name\": \"Student_6\", \"text\": [\"24\", \"2\", \"14\", \"23\", \"11\", \"17\", \"8\", \"8\"], \"x\": [\"Student_6\", \"Student_6\", \"Student_6\", \"Student_6\", \"Student_6\", \"Student_6\", \"Student_6\", \"Student_6\", \"Student_6\"], \"y\": [\"Video1\", \"Video2\", \"Quiz1\", \"Quiz2\", \"Pdf1\", \"Pdf2\", \"Ebook1\", \"Ebook2\"], \"type\": \"scatter\", \"uid\": \"4a22443c-e048-11e8-bee7-9fb6bcbfed05\"}, {\"marker\": {\"line\": {\"width\": 2}, \"size\": [23, 2, 10, 11, 3, 14, 23, 3], \"sizemode\": \"area\", \"sizeref\": 0.06896551724137931, \"symbol\": \"circle\"}, \"mode\": \"markers\", \"name\": \"Student_7\", \"text\": [\"23\", \"2\", \"10\", \"11\", \"3\", \"14\", \"23\", \"3\"], \"x\": [\"Student_7\", \"Student_7\", \"Student_7\", \"Student_7\", \"Student_7\", \"Student_7\", \"Student_7\", \"Student_7\", \"Student_7\"], \"y\": [\"Video1\", \"Video2\", \"Quiz1\", \"Quiz2\", \"Pdf1\", \"Pdf2\", \"Ebook1\", \"Ebook2\"], \"type\": \"scatter\", \"uid\": \"4a224504-e048-11e8-bee7-9fb6bcbfed05\"}, {\"marker\": {\"line\": {\"width\": 2}, \"size\": [23, 28, 29, 15, 18, 7, 9, 25], \"sizemode\": \"area\", \"sizeref\": 0.06896551724137931, \"symbol\": \"circle\"}, \"mode\": \"markers\", \"name\": \"Student_8\", \"text\": [\"23\", \"28\", \"29\", \"15\", \"18\", \"7\", \"9\", \"25\"], \"x\": [\"Student_8\", \"Student_8\", \"Student_8\", \"Student_8\", \"Student_8\", \"Student_8\", \"Student_8\", \"Student_8\", \"Student_8\"], \"y\": [\"Video1\", \"Video2\", \"Quiz1\", \"Quiz2\", \"Pdf1\", \"Pdf2\", \"Ebook1\", \"Ebook2\"], \"type\": \"scatter\", \"uid\": \"4a2245c2-e048-11e8-bee7-9fb6bcbfed05\"}, {\"marker\": {\"line\": {\"width\": 2}, \"size\": [17, 15, 25, 26, 25, 27, 18, 18], \"sizemode\": \"area\", \"sizeref\": 0.06896551724137931, \"symbol\": \"circle\"}, \"mode\": \"markers\", \"name\": \"Student_9\", \"text\": [\"17\", \"15\", \"25\", \"26\", \"25\", \"27\", \"18\", \"18\"], \"x\": [\"Student_9\", \"Student_9\", \"Student_9\", \"Student_9\", \"Student_9\", \"Student_9\", \"Student_9\", \"Student_9\", \"Student_9\"], \"y\": [\"Video1\", \"Video2\", \"Quiz1\", \"Quiz2\", \"Pdf1\", \"Pdf2\", \"Ebook1\", \"Ebook2\"], \"type\": \"scatter\", \"uid\": \"4a224680-e048-11e8-bee7-9fb6bcbfed05\"}, {\"marker\": {\"line\": {\"width\": 2}, \"size\": [6, 23, 0, 16, 21, 17, 28, 27], \"sizemode\": \"area\", \"sizeref\": 0.06896551724137931, \"symbol\": \"circle\"}, \"mode\": \"markers\", \"name\": \"Student_10\", \"text\": [\"6\", \"23\", \"0\", \"16\", \"21\", \"17\", \"28\", \"27\"], \"x\": [\"Student_10\", \"Student_10\", \"Student_10\", \"Student_10\", \"Student_10\", \"Student_10\", \"Student_10\", \"Student_10\", \"Student_10\"], \"y\": [\"Video1\", \"Video2\", \"Quiz1\", \"Quiz2\", \"Pdf1\", \"Pdf2\", \"Ebook1\", \"Ebook2\"], \"type\": \"scatter\", \"uid\": \"4a224734-e048-11e8-bee7-9fb6bcbfed05\"}, {\"marker\": {\"line\": {\"width\": 2}, \"size\": [28, 8, 15, 17, 7, 24, 28, 17], \"sizemode\": \"area\", \"sizeref\": 0.06896551724137931, \"symbol\": \"circle\"}, \"mode\": \"markers\", \"name\": \"Student_11\", \"text\": [\"28\", \"8\", \"15\", \"17\", \"7\", \"24\", \"28\", \"17\"], \"x\": [\"Student_11\", \"Student_11\", \"Student_11\", \"Student_11\", \"Student_11\", \"Student_11\", \"Student_11\", \"Student_11\", \"Student_11\"], \"y\": [\"Video1\", \"Video2\", \"Quiz1\", \"Quiz2\", \"Pdf1\", \"Pdf2\", \"Ebook1\", \"Ebook2\"], \"type\": \"scatter\", \"uid\": \"4a2247f2-e048-11e8-bee7-9fb6bcbfed05\"}, {\"marker\": {\"line\": {\"width\": 2}, \"size\": [26, 5, 9, 14, 14, 13, 5, 25], \"sizemode\": \"area\", \"sizeref\": 0.06896551724137931, \"symbol\": \"circle\"}, \"mode\": \"markers\", \"name\": \"Student_12\", \"text\": [\"26\", \"5\", \"9\", \"14\", \"14\", \"13\", \"5\", \"25\"], \"x\": [\"Student_12\", \"Student_12\", \"Student_12\", \"Student_12\", \"Student_12\", \"Student_12\", \"Student_12\", \"Student_12\", \"Student_12\"], \"y\": [\"Video1\", \"Video2\", \"Quiz1\", \"Quiz2\", \"Pdf1\", \"Pdf2\", \"Ebook1\", \"Ebook2\"], \"type\": \"scatter\", \"uid\": \"4a2248b0-e048-11e8-bee7-9fb6bcbfed05\"}, {\"marker\": {\"line\": {\"width\": 2}, \"size\": [10, 23, 15, 12, 12, 14, 19, 21], \"sizemode\": \"area\", \"sizeref\": 0.06896551724137931, \"symbol\": \"circle\"}, \"mode\": \"markers\", \"name\": \"Student_13\", \"text\": [\"10\", \"23\", \"15\", \"12\", \"12\", \"14\", \"19\", \"21\"], \"x\": [\"Student_13\", \"Student_13\", \"Student_13\", \"Student_13\", \"Student_13\", \"Student_13\", \"Student_13\", \"Student_13\", \"Student_13\"], \"y\": [\"Video1\", \"Video2\", \"Quiz1\", \"Quiz2\", \"Pdf1\", \"Pdf2\", \"Ebook1\", \"Ebook2\"], \"type\": \"scatter\", \"uid\": \"4a22496e-e048-11e8-bee7-9fb6bcbfed05\"}, {\"marker\": {\"line\": {\"width\": 2}, \"size\": [27, 19, 16, 15, 17, 8, 8, 7], \"sizemode\": \"area\", \"sizeref\": 0.06896551724137931, \"symbol\": \"circle\"}, \"mode\": \"markers\", \"name\": \"Student_14\", \"text\": [\"27\", \"19\", \"16\", \"15\", \"17\", \"8\", \"8\", \"7\"], \"x\": [\"Student_14\", \"Student_14\", \"Student_14\", \"Student_14\", \"Student_14\", \"Student_14\", \"Student_14\", \"Student_14\", \"Student_14\"], \"y\": [\"Video1\", \"Video2\", \"Quiz1\", \"Quiz2\", \"Pdf1\", \"Pdf2\", \"Ebook1\", \"Ebook2\"], \"type\": \"scatter\", \"uid\": \"4a224a2c-e048-11e8-bee7-9fb6bcbfed05\"}, {\"marker\": {\"line\": {\"width\": 2}, \"size\": [12, 21, 15, 22, 24, 13, 9, 27], \"sizemode\": \"area\", \"sizeref\": 0.06896551724137931, \"symbol\": \"circle\"}, \"mode\": \"markers\", \"name\": \"Student_15\", \"text\": [\"12\", \"21\", \"15\", \"22\", \"24\", \"13\", \"9\", \"27\"], \"x\": [\"Student_15\", \"Student_15\", \"Student_15\", \"Student_15\", \"Student_15\", \"Student_15\", \"Student_15\", \"Student_15\", \"Student_15\"], \"y\": [\"Video1\", \"Video2\", \"Quiz1\", \"Quiz2\", \"Pdf1\", \"Pdf2\", \"Ebook1\", \"Ebook2\"], \"type\": \"scatter\", \"uid\": \"4a224aea-e048-11e8-bee7-9fb6bcbfed05\"}, {\"marker\": {\"line\": {\"width\": 2}, \"size\": [27, 29, 24, 26, 13, 10, 29, 23], \"sizemode\": \"area\", \"sizeref\": 0.06896551724137931, \"symbol\": \"circle\"}, \"mode\": \"markers\", \"name\": \"Student_16\", \"text\": [\"27\", \"29\", \"24\", \"26\", \"13\", \"10\", \"29\", \"23\"], \"x\": [\"Student_16\", \"Student_16\", \"Student_16\", \"Student_16\", \"Student_16\", \"Student_16\", \"Student_16\", \"Student_16\", \"Student_16\"], \"y\": [\"Video1\", \"Video2\", \"Quiz1\", \"Quiz2\", \"Pdf1\", \"Pdf2\", \"Ebook1\", \"Ebook2\"], \"type\": \"scatter\", \"uid\": \"4a224ba8-e048-11e8-bee7-9fb6bcbfed05\"}, {\"marker\": {\"line\": {\"width\": 2}, \"size\": [3, 10, 3, 2, 5, 12, 15, 28], \"sizemode\": \"area\", \"sizeref\": 0.06896551724137931, \"symbol\": \"circle\"}, \"mode\": \"markers\", \"name\": \"Student_17\", \"text\": [\"3\", \"10\", \"3\", \"2\", \"5\", \"12\", \"15\", \"28\"], \"x\": [\"Student_17\", \"Student_17\", \"Student_17\", \"Student_17\", \"Student_17\", \"Student_17\", \"Student_17\", \"Student_17\", \"Student_17\"], \"y\": [\"Video1\", \"Video2\", \"Quiz1\", \"Quiz2\", \"Pdf1\", \"Pdf2\", \"Ebook1\", \"Ebook2\"], \"type\": \"scatter\", \"uid\": \"4a224c5c-e048-11e8-bee7-9fb6bcbfed05\"}, {\"marker\": {\"line\": {\"width\": 2}, \"size\": [28, 20, 25, 12, 1, 19, 28, 17], \"sizemode\": \"area\", \"sizeref\": 0.06896551724137931, \"symbol\": \"circle\"}, \"mode\": \"markers\", \"name\": \"Student_18\", \"text\": [\"28\", \"20\", \"25\", \"12\", \"1\", \"19\", \"28\", \"17\"], \"x\": [\"Student_18\", \"Student_18\", \"Student_18\", \"Student_18\", \"Student_18\", \"Student_18\", \"Student_18\", \"Student_18\", \"Student_18\"], \"y\": [\"Video1\", \"Video2\", \"Quiz1\", \"Quiz2\", \"Pdf1\", \"Pdf2\", \"Ebook1\", \"Ebook2\"], \"type\": \"scatter\", \"uid\": \"4a224d10-e048-11e8-bee7-9fb6bcbfed05\"}, {\"marker\": {\"line\": {\"width\": 2}, \"size\": [13, 26, 11, 22, 1, 0, 21, 3], \"sizemode\": \"area\", \"sizeref\": 0.06896551724137931, \"symbol\": \"circle\"}, \"mode\": \"markers\", \"name\": \"Student_19\", \"text\": [\"13\", \"26\", \"11\", \"22\", \"1\", \"0\", \"21\", \"3\"], \"x\": [\"Student_19\", \"Student_19\", \"Student_19\", \"Student_19\", \"Student_19\", \"Student_19\", \"Student_19\", \"Student_19\", \"Student_19\"], \"y\": [\"Video1\", \"Video2\", \"Quiz1\", \"Quiz2\", \"Pdf1\", \"Pdf2\", \"Ebook1\", \"Ebook2\"], \"type\": \"scatter\", \"uid\": \"4a224dc4-e048-11e8-bee7-9fb6bcbfed05\"}, {\"marker\": {\"line\": {\"width\": 2}, \"size\": [15, 0, 18, 16, 3, 29, 6, 3], \"sizemode\": \"area\", \"sizeref\": 0.06896551724137931, \"symbol\": \"circle\"}, \"mode\": \"markers\", \"name\": \"Student_20\", \"text\": [\"15\", \"0\", \"18\", \"16\", \"3\", \"29\", \"6\", \"3\"], \"x\": [\"Student_20\", \"Student_20\", \"Student_20\", \"Student_20\", \"Student_20\", \"Student_20\", \"Student_20\", \"Student_20\", \"Student_20\"], \"y\": [\"Video1\", \"Video2\", \"Quiz1\", \"Quiz2\", \"Pdf1\", \"Pdf2\", \"Ebook1\", \"Ebook2\"], \"type\": \"scatter\", \"uid\": \"4a224e78-e048-11e8-bee7-9fb6bcbfed05\"}],\n",
       "            {\"hovermode\": \"closest\", \"showlegend\": true, \"title\": \"N\\u00famero de acessos nos materiais por estudante\", \"xaxis\": {\"autorange\": false, \"categoryorder\": \"category ascending\", \"fixedrange\": false, \"range\": [-1, 20], \"rangemode\": \"normal\", \"showline\": true, \"title\": \"Estudantes\", \"type\": \"category\"}, \"yaxis\": {\"autorange\": false, \"categoryorder\": \"category ascending\", \"fixedrange\": false, \"range\": [-1, 8], \"rangemode\": \"normal\", \"showline\": true, \"title\": \"Materiais\", \"type\": \"category\"}},\n",
       "            {\"showLink\": true, \"linkText\": \"Export to plot.ly\"}\n",
       "        ).then(function () {return Plotly.addFrames('85681d17-9371-4452-b610-1775b92309e0',{});}).then(function(){Plotly.animate('85681d17-9371-4452-b610-1775b92309e0');})\n",
       "        });</script>"
      ]
     },
     "metadata": {},
     "output_type": "display_data"
    }
   ],
   "source": [
    "run scripts/V002.py"
   ]
  },
  {
   "cell_type": "markdown",
   "metadata": {},
   "source": [
    "### View 003"
   ]
  },
  {
   "cell_type": "code",
   "execution_count": 45,
   "metadata": {},
   "outputs": [],
   "source": [
    "run scripts/V003.py"
   ]
  },
  {
   "cell_type": "markdown",
   "metadata": {},
   "source": [
    "### View 004"
   ]
  },
  {
   "cell_type": "code",
   "execution_count": null,
   "metadata": {},
   "outputs": [],
   "source": [
    "run scripts/V004.py"
   ]
  },
  {
   "cell_type": "markdown",
   "metadata": {},
   "source": [
    "### View 005"
   ]
  },
  {
   "cell_type": "code",
   "execution_count": null,
   "metadata": {},
   "outputs": [],
   "source": [
    "run scripts/V005.py"
   ]
  },
  {
   "cell_type": "markdown",
   "metadata": {},
   "source": [
    "### View 006"
   ]
  },
  {
   "cell_type": "code",
   "execution_count": null,
   "metadata": {},
   "outputs": [],
   "source": [
    "run scripts/V006.py"
   ]
  },
  {
   "cell_type": "markdown",
   "metadata": {},
   "source": [
    "### View 007"
   ]
  },
  {
   "cell_type": "code",
   "execution_count": null,
   "metadata": {},
   "outputs": [],
   "source": [
    "run scripts/V007.py"
   ]
  },
  {
   "cell_type": "markdown",
   "metadata": {},
   "source": [
    "### View 008"
   ]
  },
  {
   "cell_type": "code",
   "execution_count": null,
   "metadata": {},
   "outputs": [],
   "source": [
    "run scripts/V008.py"
   ]
  },
  {
   "cell_type": "markdown",
   "metadata": {},
   "source": [
    "### View 009"
   ]
  },
  {
   "cell_type": "code",
   "execution_count": null,
   "metadata": {},
   "outputs": [],
   "source": [
    "run scripts/V009.py"
   ]
  },
  {
   "cell_type": "markdown",
   "metadata": {},
   "source": [
    "### View 010"
   ]
  },
  {
   "cell_type": "code",
   "execution_count": 46,
   "metadata": {},
   "outputs": [],
   "source": [
    "run scripts/V010.py"
   ]
  },
  {
   "cell_type": "markdown",
   "metadata": {},
   "source": [
    "### View 011"
   ]
  },
  {
   "cell_type": "code",
   "execution_count": null,
   "metadata": {},
   "outputs": [],
   "source": [
    "run scripts/V011.py"
   ]
  }
 ],
 "metadata": {
  "kernelspec": {
   "display_name": "Python 3",
   "language": "python",
   "name": "python3"
  },
  "language_info": {
   "codemirror_mode": {
    "name": "ipython",
    "version": 3
   },
   "file_extension": ".py",
   "mimetype": "text/x-python",
   "name": "python",
   "nbconvert_exporter": "python",
   "pygments_lexer": "ipython3",
   "version": "3.6.6"
  }
 },
 "nbformat": 4,
 "nbformat_minor": 2
}
