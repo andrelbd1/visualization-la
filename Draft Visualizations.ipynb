{
 "cells": [
  {
   "cell_type": "markdown",
   "metadata": {},
   "source": [
    "### View 001"
   ]
  },
  {
   "cell_type": "code",
   "execution_count": 1,
   "metadata": {},
   "outputs": [
    {
     "data": {
      "text/html": [
       "<script>requirejs.config({paths: { 'plotly': ['https://cdn.plot.ly/plotly-latest.min']},});if(!window.Plotly) {{require(['plotly'],function(plotly) {window.Plotly=plotly;});}}</script>"
      ],
      "text/vnd.plotly.v1+html": [
       "<script>requirejs.config({paths: { 'plotly': ['https://cdn.plot.ly/plotly-latest.min']},});if(!window.Plotly) {{require(['plotly'],function(plotly) {window.Plotly=plotly;});}}</script>"
      ]
     },
     "metadata": {},
     "output_type": "display_data"
    },
    {
     "data": {
      "application/vnd.plotly.v1+json": {
       "data": [
        {
         "cells": {
          "align": [
           "left",
           "center"
          ],
          "fill": {
           "color": "#F5F8FF"
          },
          "values": [
           [
            "Student_1",
            "Student_2",
            "Student_3",
            "Student_4",
            "Student_5",
            "Student_6",
            "Student_7",
            "Student_8",
            "Student_9",
            "Student_10",
            "Student_11",
            "Student_12",
            "Student_13",
            "Student_14",
            "Student_15",
            "Student_16",
            "Student_17",
            "Student_18",
            "Student_19",
            "Student_20"
           ],
           [
            1,
            0,
            0,
            1,
            1,
            1,
            0,
            0,
            1,
            1,
            0,
            1,
            1,
            0,
            0,
            1,
            1,
            0,
            0,
            1
           ],
           [
            1,
            1,
            1,
            0,
            1,
            0,
            1,
            0,
            0,
            1,
            0,
            0,
            1,
            1,
            0,
            0,
            1,
            1,
            0,
            1
           ],
           [
            1,
            1,
            1,
            1,
            0,
            0,
            0,
            1,
            0,
            0,
            1,
            1,
            0,
            1,
            0,
            0,
            1,
            0,
            0,
            1
           ],
           [
            1,
            1,
            0,
            0,
            1,
            0,
            1,
            1,
            1,
            0,
            1,
            1,
            0,
            1,
            1,
            1,
            0,
            0,
            0,
            0
           ]
          ]
         },
         "header": {
          "align": "center",
          "fill": {
           "color": "#C2D4FF"
          },
          "values": [
           "Students",
           "Assign1",
           "Assign2",
           "Assign3",
           "Assign4"
          ]
         },
         "type": "table",
         "uid": "cba61cda-dd1f-11e8-a548-d1aeaebe6c0e"
        }
       ],
       "layout": {}
      },
      "text/html": [
       "<div id=\"dc5022bc-3fc3-48a8-99de-eb4aca05a0b5\" style=\"height: 525px; width: 100%;\" class=\"plotly-graph-div\"></div><script type=\"text/javascript\">require([\"plotly\"], function(Plotly) { window.PLOTLYENV=window.PLOTLYENV || {};window.PLOTLYENV.BASE_URL=\"https://plot.ly\";Plotly.newPlot(\"dc5022bc-3fc3-48a8-99de-eb4aca05a0b5\", [{\"cells\": {\"align\": [\"left\", \"center\"], \"fill\": {\"color\": \"#F5F8FF\"}, \"values\": [[\"Student_1\", \"Student_2\", \"Student_3\", \"Student_4\", \"Student_5\", \"Student_6\", \"Student_7\", \"Student_8\", \"Student_9\", \"Student_10\", \"Student_11\", \"Student_12\", \"Student_13\", \"Student_14\", \"Student_15\", \"Student_16\", \"Student_17\", \"Student_18\", \"Student_19\", \"Student_20\"], [1, 0, 0, 1, 1, 1, 0, 0, 1, 1, 0, 1, 1, 0, 0, 1, 1, 0, 0, 1], [1, 1, 1, 0, 1, 0, 1, 0, 0, 1, 0, 0, 1, 1, 0, 0, 1, 1, 0, 1], [1, 1, 1, 1, 0, 0, 0, 1, 0, 0, 1, 1, 0, 1, 0, 0, 1, 0, 0, 1], [1, 1, 0, 0, 1, 0, 1, 1, 1, 0, 1, 1, 0, 1, 1, 1, 0, 0, 0, 0]]}, \"header\": {\"align\": \"center\", \"fill\": {\"color\": \"#C2D4FF\"}, \"values\": [\"Students\", \"Assign1\", \"Assign2\", \"Assign3\", \"Assign4\"]}, \"type\": \"table\", \"uid\": \"cc25a9b4-dd1f-11e8-a548-d1aeaebe6c0e\"}], {}, {\"showLink\": true, \"linkText\": \"Export to plot.ly\"})});</script>"
      ],
      "text/vnd.plotly.v1+html": [
       "<div id=\"dc5022bc-3fc3-48a8-99de-eb4aca05a0b5\" style=\"height: 525px; width: 100%;\" class=\"plotly-graph-div\"></div><script type=\"text/javascript\">require([\"plotly\"], function(Plotly) { window.PLOTLYENV=window.PLOTLYENV || {};window.PLOTLYENV.BASE_URL=\"https://plot.ly\";Plotly.newPlot(\"dc5022bc-3fc3-48a8-99de-eb4aca05a0b5\", [{\"cells\": {\"align\": [\"left\", \"center\"], \"fill\": {\"color\": \"#F5F8FF\"}, \"values\": [[\"Student_1\", \"Student_2\", \"Student_3\", \"Student_4\", \"Student_5\", \"Student_6\", \"Student_7\", \"Student_8\", \"Student_9\", \"Student_10\", \"Student_11\", \"Student_12\", \"Student_13\", \"Student_14\", \"Student_15\", \"Student_16\", \"Student_17\", \"Student_18\", \"Student_19\", \"Student_20\"], [1, 0, 0, 1, 1, 1, 0, 0, 1, 1, 0, 1, 1, 0, 0, 1, 1, 0, 0, 1], [1, 1, 1, 0, 1, 0, 1, 0, 0, 1, 0, 0, 1, 1, 0, 0, 1, 1, 0, 1], [1, 1, 1, 1, 0, 0, 0, 1, 0, 0, 1, 1, 0, 1, 0, 0, 1, 0, 0, 1], [1, 1, 0, 0, 1, 0, 1, 1, 1, 0, 1, 1, 0, 1, 1, 1, 0, 0, 0, 0]]}, \"header\": {\"align\": \"center\", \"fill\": {\"color\": \"#C2D4FF\"}, \"values\": [\"Students\", \"Assign1\", \"Assign2\", \"Assign3\", \"Assign4\"]}, \"type\": \"table\", \"uid\": \"cc25a9b4-dd1f-11e8-a548-d1aeaebe6c0e\"}], {}, {\"showLink\": true, \"linkText\": \"Export to plot.ly\"})});</script>"
      ]
     },
     "metadata": {},
     "output_type": "display_data"
    },
    {
     "data": {
      "application/vnd.plotly.v1+json": {
       "data": [
        {
         "type": "bar",
         "uid": "cc6dbfce-dd1f-11e8-a548-d1aeaebe6c0e",
         "x": [
          "Student_1",
          "Student_2",
          "Student_3",
          "Student_4",
          "Student_5",
          "Student_6",
          "Student_7",
          "Student_8",
          "Student_9",
          "Student_10",
          "Student_11",
          "Student_12",
          "Student_13",
          "Student_14",
          "Student_15",
          "Student_16",
          "Student_17",
          "Student_18",
          "Student_19",
          "Student_20"
         ],
         "y": [
          4,
          3,
          2,
          2,
          3,
          1,
          2,
          2,
          2,
          2,
          2,
          3,
          2,
          3,
          1,
          2,
          3,
          1,
          0,
          3
         ]
        }
       ],
       "layout": {
        "title": "Quantidade de tarefas feitas por alunos",
        "yaxis": {
         "dtick": 1,
         "exponentformat": "e",
         "gridcolor": "#bdbdbd",
         "showexponent": "all",
         "showticklabels": true,
         "tick0": 0,
         "titlefont": {
          "color": "lightgrey",
          "family": "Arial, sans-serif"
         }
        }
       }
      },
      "text/html": [
       "<div id=\"7eb0dc59-5340-4f30-8f50-d41d011a972b\" style=\"height: 525px; width: 100%;\" class=\"plotly-graph-div\"></div><script type=\"text/javascript\">require([\"plotly\"], function(Plotly) { window.PLOTLYENV=window.PLOTLYENV || {};window.PLOTLYENV.BASE_URL=\"https://plot.ly\";\n",
       "        Plotly.plot(\n",
       "            '7eb0dc59-5340-4f30-8f50-d41d011a972b',\n",
       "            [{\"x\": [\"Student_1\", \"Student_2\", \"Student_3\", \"Student_4\", \"Student_5\", \"Student_6\", \"Student_7\", \"Student_8\", \"Student_9\", \"Student_10\", \"Student_11\", \"Student_12\", \"Student_13\", \"Student_14\", \"Student_15\", \"Student_16\", \"Student_17\", \"Student_18\", \"Student_19\", \"Student_20\"], \"y\": [4.0, 3.0, 2.0, 2.0, 3.0, 1.0, 2.0, 2.0, 2.0, 2.0, 2.0, 3.0, 2.0, 3.0, 1.0, 2.0, 3.0, 1.0, 0.0, 3.0], \"type\": \"bar\", \"uid\": \"cc6dbfce-dd1f-11e8-a548-d1aeaebe6c0e\"}],\n",
       "            {\"title\": \"Quantidade de tarefas feitas por alunos\", \"yaxis\": {\"dtick\": 1, \"exponentformat\": \"e\", \"gridcolor\": \"#bdbdbd\", \"showexponent\": \"all\", \"showticklabels\": true, \"tick0\": 0, \"titlefont\": {\"color\": \"lightgrey\", \"family\": \"Arial, sans-serif\"}}},\n",
       "            {\"showLink\": true, \"linkText\": \"Export to plot.ly\"}\n",
       "        ).then(function () {return Plotly.addFrames('7eb0dc59-5340-4f30-8f50-d41d011a972b',{});}).then(function(){Plotly.animate('7eb0dc59-5340-4f30-8f50-d41d011a972b');})\n",
       "        });</script>"
      ],
      "text/vnd.plotly.v1+html": [
       "<div id=\"7eb0dc59-5340-4f30-8f50-d41d011a972b\" style=\"height: 525px; width: 100%;\" class=\"plotly-graph-div\"></div><script type=\"text/javascript\">require([\"plotly\"], function(Plotly) { window.PLOTLYENV=window.PLOTLYENV || {};window.PLOTLYENV.BASE_URL=\"https://plot.ly\";\n",
       "        Plotly.plot(\n",
       "            '7eb0dc59-5340-4f30-8f50-d41d011a972b',\n",
       "            [{\"x\": [\"Student_1\", \"Student_2\", \"Student_3\", \"Student_4\", \"Student_5\", \"Student_6\", \"Student_7\", \"Student_8\", \"Student_9\", \"Student_10\", \"Student_11\", \"Student_12\", \"Student_13\", \"Student_14\", \"Student_15\", \"Student_16\", \"Student_17\", \"Student_18\", \"Student_19\", \"Student_20\"], \"y\": [4.0, 3.0, 2.0, 2.0, 3.0, 1.0, 2.0, 2.0, 2.0, 2.0, 2.0, 3.0, 2.0, 3.0, 1.0, 2.0, 3.0, 1.0, 0.0, 3.0], \"type\": \"bar\", \"uid\": \"cc6dbfce-dd1f-11e8-a548-d1aeaebe6c0e\"}],\n",
       "            {\"title\": \"Quantidade de tarefas feitas por alunos\", \"yaxis\": {\"dtick\": 1, \"exponentformat\": \"e\", \"gridcolor\": \"#bdbdbd\", \"showexponent\": \"all\", \"showticklabels\": true, \"tick0\": 0, \"titlefont\": {\"color\": \"lightgrey\", \"family\": \"Arial, sans-serif\"}}},\n",
       "            {\"showLink\": true, \"linkText\": \"Export to plot.ly\"}\n",
       "        ).then(function () {return Plotly.addFrames('7eb0dc59-5340-4f30-8f50-d41d011a972b',{});}).then(function(){Plotly.animate('7eb0dc59-5340-4f30-8f50-d41d011a972b');})\n",
       "        });</script>"
      ]
     },
     "metadata": {},
     "output_type": "display_data"
    },
    {
     "data": {
      "application/vnd.plotly.v1+json": {
       "data": [
        {
         "type": "bar",
         "uid": "cc758970-dd1f-11e8-a548-d1aeaebe6c0e",
         "x": [
          "Assign1",
          "Assign2",
          "Assign3",
          "Assign4"
         ],
         "y": [
          11,
          11,
          10,
          11
         ]
        }
       ],
       "layout": {
        "title": "Quantidade de alunos que fizeram as tarefas",
        "yaxis": {
         "dtick": 1,
         "exponentformat": "e",
         "gridcolor": "#bdbdbd",
         "showexponent": "all",
         "showticklabels": true,
         "tick0": 0,
         "titlefont": {
          "color": "lightgrey",
          "family": "Arial, sans-serif"
         }
        }
       }
      },
      "text/html": [
       "<div id=\"7d1fbb9a-5e5d-4e70-bc1c-6bdab0f2487c\" style=\"height: 525px; width: 100%;\" class=\"plotly-graph-div\"></div><script type=\"text/javascript\">require([\"plotly\"], function(Plotly) { window.PLOTLYENV=window.PLOTLYENV || {};window.PLOTLYENV.BASE_URL=\"https://plot.ly\";\n",
       "        Plotly.plot(\n",
       "            '7d1fbb9a-5e5d-4e70-bc1c-6bdab0f2487c',\n",
       "            [{\"x\": [\"Assign1\", \"Assign2\", \"Assign3\", \"Assign4\"], \"y\": [11, 11, 10, 11], \"type\": \"bar\", \"uid\": \"cc758970-dd1f-11e8-a548-d1aeaebe6c0e\"}],\n",
       "            {\"title\": \"Quantidade de alunos que fizeram as tarefas\", \"yaxis\": {\"dtick\": 1, \"exponentformat\": \"e\", \"gridcolor\": \"#bdbdbd\", \"showexponent\": \"all\", \"showticklabels\": true, \"tick0\": 0, \"titlefont\": {\"color\": \"lightgrey\", \"family\": \"Arial, sans-serif\"}}},\n",
       "            {\"showLink\": true, \"linkText\": \"Export to plot.ly\"}\n",
       "        ).then(function () {return Plotly.addFrames('7d1fbb9a-5e5d-4e70-bc1c-6bdab0f2487c',{});}).then(function(){Plotly.animate('7d1fbb9a-5e5d-4e70-bc1c-6bdab0f2487c');})\n",
       "        });</script>"
      ],
      "text/vnd.plotly.v1+html": [
       "<div id=\"7d1fbb9a-5e5d-4e70-bc1c-6bdab0f2487c\" style=\"height: 525px; width: 100%;\" class=\"plotly-graph-div\"></div><script type=\"text/javascript\">require([\"plotly\"], function(Plotly) { window.PLOTLYENV=window.PLOTLYENV || {};window.PLOTLYENV.BASE_URL=\"https://plot.ly\";\n",
       "        Plotly.plot(\n",
       "            '7d1fbb9a-5e5d-4e70-bc1c-6bdab0f2487c',\n",
       "            [{\"x\": [\"Assign1\", \"Assign2\", \"Assign3\", \"Assign4\"], \"y\": [11, 11, 10, 11], \"type\": \"bar\", \"uid\": \"cc758970-dd1f-11e8-a548-d1aeaebe6c0e\"}],\n",
       "            {\"title\": \"Quantidade de alunos que fizeram as tarefas\", \"yaxis\": {\"dtick\": 1, \"exponentformat\": \"e\", \"gridcolor\": \"#bdbdbd\", \"showexponent\": \"all\", \"showticklabels\": true, \"tick0\": 0, \"titlefont\": {\"color\": \"lightgrey\", \"family\": \"Arial, sans-serif\"}}},\n",
       "            {\"showLink\": true, \"linkText\": \"Export to plot.ly\"}\n",
       "        ).then(function () {return Plotly.addFrames('7d1fbb9a-5e5d-4e70-bc1c-6bdab0f2487c',{});}).then(function(){Plotly.animate('7d1fbb9a-5e5d-4e70-bc1c-6bdab0f2487c');})\n",
       "        });</script>"
      ]
     },
     "metadata": {},
     "output_type": "display_data"
    },
    {
     "data": {
      "application/vnd.plotly.v1+json": {
       "data": [
        {
         "cells": {
          "align": [
           "left",
           "center"
          ],
          "fill": {
           "color": "#F5F8FF"
          },
          "values": [
           [
            "Assign1",
            "Assign2",
            "Assign3",
            "Assign4"
           ],
           [
            1,
            1,
            1,
            1
           ],
           [
            0,
            1,
            1,
            1
           ],
           [
            0,
            1,
            1,
            0
           ],
           [
            1,
            0,
            1,
            0
           ],
           [
            1,
            1,
            0,
            1
           ],
           [
            1,
            0,
            0,
            0
           ],
           [
            0,
            1,
            0,
            1
           ],
           [
            0,
            0,
            1,
            1
           ],
           [
            1,
            0,
            0,
            1
           ],
           [
            1,
            1,
            0,
            0
           ],
           [
            0,
            0,
            1,
            1
           ],
           [
            1,
            0,
            1,
            1
           ],
           [
            1,
            1,
            0,
            0
           ],
           [
            0,
            1,
            1,
            1
           ],
           [
            0,
            0,
            0,
            1
           ],
           [
            1,
            0,
            0,
            1
           ],
           [
            1,
            1,
            1,
            0
           ],
           [
            0,
            1,
            0,
            0
           ],
           [
            0,
            0,
            0,
            0
           ],
           [
            1,
            1,
            1,
            0
           ]
          ]
         },
         "header": {
          "align": "center",
          "fill": {
           "color": "#C2D4FF"
          },
          "values": [
           "Assign",
           "Student_1",
           "Student_2",
           "Student_3",
           "Student_4",
           "Student_5",
           "Student_6",
           "Student_7",
           "Student_8",
           "Student_9",
           "Student_10",
           "Student_11",
           "Student_12",
           "Student_13",
           "Student_14",
           "Student_15",
           "Student_16",
           "Student_17",
           "Student_18",
           "Student_19",
           "Student_20"
          ]
         },
         "type": "table",
         "uid": "cc848b14-dd1f-11e8-a548-d1aeaebe6c0e"
        }
       ],
       "layout": {}
      },
      "text/html": [
       "<div id=\"f584233a-e5fd-4b39-86e2-f1a7db4673d8\" style=\"height: 525px; width: 100%;\" class=\"plotly-graph-div\"></div><script type=\"text/javascript\">require([\"plotly\"], function(Plotly) { window.PLOTLYENV=window.PLOTLYENV || {};window.PLOTLYENV.BASE_URL=\"https://plot.ly\";Plotly.newPlot(\"f584233a-e5fd-4b39-86e2-f1a7db4673d8\", [{\"cells\": {\"align\": [\"left\", \"center\"], \"fill\": {\"color\": \"#F5F8FF\"}, \"values\": [[\"Assign1\", \"Assign2\", \"Assign3\", \"Assign4\"], [1, 1, 1, 1], [0, 1, 1, 1], [0, 1, 1, 0], [1, 0, 1, 0], [1, 1, 0, 1], [1, 0, 0, 0], [0, 1, 0, 1], [0, 0, 1, 1], [1, 0, 0, 1], [1, 1, 0, 0], [0, 0, 1, 1], [1, 0, 1, 1], [1, 1, 0, 0], [0, 1, 1, 1], [0, 0, 0, 1], [1, 0, 0, 1], [1, 1, 1, 0], [0, 1, 0, 0], [0, 0, 0, 0], [1, 1, 1, 0]]}, \"header\": {\"align\": \"center\", \"fill\": {\"color\": \"#C2D4FF\"}, \"values\": [\"Assign\", \"Student_1\", \"Student_2\", \"Student_3\", \"Student_4\", \"Student_5\", \"Student_6\", \"Student_7\", \"Student_8\", \"Student_9\", \"Student_10\", \"Student_11\", \"Student_12\", \"Student_13\", \"Student_14\", \"Student_15\", \"Student_16\", \"Student_17\", \"Student_18\", \"Student_19\", \"Student_20\"]}, \"type\": \"table\", \"uid\": \"cc8b5836-dd1f-11e8-a548-d1aeaebe6c0e\"}], {}, {\"showLink\": true, \"linkText\": \"Export to plot.ly\"})});</script>"
      ],
      "text/vnd.plotly.v1+html": [
       "<div id=\"f584233a-e5fd-4b39-86e2-f1a7db4673d8\" style=\"height: 525px; width: 100%;\" class=\"plotly-graph-div\"></div><script type=\"text/javascript\">require([\"plotly\"], function(Plotly) { window.PLOTLYENV=window.PLOTLYENV || {};window.PLOTLYENV.BASE_URL=\"https://plot.ly\";Plotly.newPlot(\"f584233a-e5fd-4b39-86e2-f1a7db4673d8\", [{\"cells\": {\"align\": [\"left\", \"center\"], \"fill\": {\"color\": \"#F5F8FF\"}, \"values\": [[\"Assign1\", \"Assign2\", \"Assign3\", \"Assign4\"], [1, 1, 1, 1], [0, 1, 1, 1], [0, 1, 1, 0], [1, 0, 1, 0], [1, 1, 0, 1], [1, 0, 0, 0], [0, 1, 0, 1], [0, 0, 1, 1], [1, 0, 0, 1], [1, 1, 0, 0], [0, 0, 1, 1], [1, 0, 1, 1], [1, 1, 0, 0], [0, 1, 1, 1], [0, 0, 0, 1], [1, 0, 0, 1], [1, 1, 1, 0], [0, 1, 0, 0], [0, 0, 0, 0], [1, 1, 1, 0]]}, \"header\": {\"align\": \"center\", \"fill\": {\"color\": \"#C2D4FF\"}, \"values\": [\"Assign\", \"Student_1\", \"Student_2\", \"Student_3\", \"Student_4\", \"Student_5\", \"Student_6\", \"Student_7\", \"Student_8\", \"Student_9\", \"Student_10\", \"Student_11\", \"Student_12\", \"Student_13\", \"Student_14\", \"Student_15\", \"Student_16\", \"Student_17\", \"Student_18\", \"Student_19\", \"Student_20\"]}, \"type\": \"table\", \"uid\": \"cc8b5836-dd1f-11e8-a548-d1aeaebe6c0e\"}], {}, {\"showLink\": true, \"linkText\": \"Export to plot.ly\"})});</script>"
      ]
     },
     "metadata": {},
     "output_type": "display_data"
    }
   ],
   "source": [
    "run scripts/V001.py"
   ]
  },
  {
   "cell_type": "markdown",
   "metadata": {},
   "source": [
    "### View 002"
   ]
  },
  {
   "cell_type": "code",
   "execution_count": 7,
   "metadata": {},
   "outputs": [
    {
     "data": {
      "text/html": [
       "<script>requirejs.config({paths: { 'plotly': ['https://cdn.plot.ly/plotly-latest.min']},});if(!window.Plotly) {{require(['plotly'],function(plotly) {window.Plotly=plotly;});}}</script>"
      ],
      "text/vnd.plotly.v1+html": [
       "<script>requirejs.config({paths: { 'plotly': ['https://cdn.plot.ly/plotly-latest.min']},});if(!window.Plotly) {{require(['plotly'],function(plotly) {window.Plotly=plotly;});}}</script>"
      ]
     },
     "metadata": {},
     "output_type": "display_data"
    },
    {
     "data": {
      "application/vnd.plotly.v1+json": {
       "data": [
        {
         "cells": {
          "align": [
           "left",
           "center"
          ],
          "fill": {
           "color": "#F5F8FF"
          },
          "values": [
           [
            "Student_1",
            "Student_2",
            "Student_3",
            "Student_4",
            "Student_5",
            "Student_6",
            "Student_7",
            "Student_8",
            "Student_9",
            "Student_10",
            "Student_11",
            "Student_12",
            "Student_13",
            "Student_14",
            "Student_15",
            "Student_16",
            "Student_17",
            "Student_18",
            "Student_19",
            "Student_20"
           ],
           [
            10,
            17,
            0,
            18,
            15,
            22,
            2,
            20,
            16,
            12,
            11,
            16,
            9,
            25,
            9,
            20,
            23,
            15,
            19,
            24
           ],
           [
            13,
            17,
            9,
            3,
            24,
            18,
            11,
            12,
            15,
            3,
            13,
            18,
            8,
            20,
            21,
            18,
            8,
            21,
            18,
            5
           ],
           [
            16,
            0,
            29,
            24,
            28,
            12,
            18,
            0,
            0,
            12,
            0,
            23,
            9,
            18,
            8,
            2,
            10,
            9,
            1,
            18
           ],
           [
            28,
            6,
            20,
            20,
            8,
            9,
            21,
            29,
            19,
            20,
            15,
            0,
            14,
            29,
            15,
            13,
            28,
            24,
            25,
            12
           ],
           [
            4,
            4,
            25,
            5,
            14,
            19,
            5,
            22,
            25,
            27,
            21,
            1,
            12,
            14,
            7,
            11,
            1,
            4,
            14,
            23
           ],
           [
            0,
            24,
            8,
            5,
            23,
            25,
            28,
            21,
            6,
            8,
            0,
            13,
            1,
            18,
            3,
            0,
            3,
            23,
            5,
            10
           ],
           [
            16,
            18,
            29,
            16,
            19,
            21,
            10,
            9,
            21,
            3,
            7,
            15,
            21,
            9,
            21,
            21,
            7,
            29,
            5,
            25
           ],
           [
            24,
            27,
            11,
            5,
            6,
            5,
            5,
            16,
            2,
            16,
            7,
            19,
            3,
            20,
            10,
            14,
            21,
            23,
            11,
            20
           ]
          ]
         },
         "header": {
          "align": "center",
          "fill": {
           "color": "#C2D4FF"
          },
          "values": [
           "Students",
           "Video1",
           "Video2",
           "Quiz1",
           "Quiz2",
           "Pdf1",
           "Pdf2",
           "Ebook1",
           "Ebook2"
          ]
         },
         "type": "table",
         "uid": "00956504-dd25-11e8-a548-d1aeaebe6c0e"
        }
       ],
       "layout": {}
      },
      "text/html": [
       "<div id=\"48292a11-74b8-4884-9cd3-a19fac4c5396\" style=\"height: 525px; width: 100%;\" class=\"plotly-graph-div\"></div><script type=\"text/javascript\">require([\"plotly\"], function(Plotly) { window.PLOTLYENV=window.PLOTLYENV || {};window.PLOTLYENV.BASE_URL=\"https://plot.ly\";Plotly.newPlot(\"48292a11-74b8-4884-9cd3-a19fac4c5396\", [{\"cells\": {\"align\": [\"left\", \"center\"], \"fill\": {\"color\": \"#F5F8FF\"}, \"values\": [[\"Student_1\", \"Student_2\", \"Student_3\", \"Student_4\", \"Student_5\", \"Student_6\", \"Student_7\", \"Student_8\", \"Student_9\", \"Student_10\", \"Student_11\", \"Student_12\", \"Student_13\", \"Student_14\", \"Student_15\", \"Student_16\", \"Student_17\", \"Student_18\", \"Student_19\", \"Student_20\"], [10, 17, 0, 18, 15, 22, 2, 20, 16, 12, 11, 16, 9, 25, 9, 20, 23, 15, 19, 24], [13, 17, 9, 3, 24, 18, 11, 12, 15, 3, 13, 18, 8, 20, 21, 18, 8, 21, 18, 5], [16, 0, 29, 24, 28, 12, 18, 0, 0, 12, 0, 23, 9, 18, 8, 2, 10, 9, 1, 18], [28, 6, 20, 20, 8, 9, 21, 29, 19, 20, 15, 0, 14, 29, 15, 13, 28, 24, 25, 12], [4, 4, 25, 5, 14, 19, 5, 22, 25, 27, 21, 1, 12, 14, 7, 11, 1, 4, 14, 23], [0, 24, 8, 5, 23, 25, 28, 21, 6, 8, 0, 13, 1, 18, 3, 0, 3, 23, 5, 10], [16, 18, 29, 16, 19, 21, 10, 9, 21, 3, 7, 15, 21, 9, 21, 21, 7, 29, 5, 25], [24, 27, 11, 5, 6, 5, 5, 16, 2, 16, 7, 19, 3, 20, 10, 14, 21, 23, 11, 20]]}, \"header\": {\"align\": \"center\", \"fill\": {\"color\": \"#C2D4FF\"}, \"values\": [\"Students\", \"Video1\", \"Video2\", \"Quiz1\", \"Quiz2\", \"Pdf1\", \"Pdf2\", \"Ebook1\", \"Ebook2\"]}, \"type\": \"table\", \"uid\": \"009d4c88-dd25-11e8-a548-d1aeaebe6c0e\"}], {}, {\"showLink\": true, \"linkText\": \"Export to plot.ly\"})});</script>"
      ],
      "text/vnd.plotly.v1+html": [
       "<div id=\"48292a11-74b8-4884-9cd3-a19fac4c5396\" style=\"height: 525px; width: 100%;\" class=\"plotly-graph-div\"></div><script type=\"text/javascript\">require([\"plotly\"], function(Plotly) { window.PLOTLYENV=window.PLOTLYENV || {};window.PLOTLYENV.BASE_URL=\"https://plot.ly\";Plotly.newPlot(\"48292a11-74b8-4884-9cd3-a19fac4c5396\", [{\"cells\": {\"align\": [\"left\", \"center\"], \"fill\": {\"color\": \"#F5F8FF\"}, \"values\": [[\"Student_1\", \"Student_2\", \"Student_3\", \"Student_4\", \"Student_5\", \"Student_6\", \"Student_7\", \"Student_8\", \"Student_9\", \"Student_10\", \"Student_11\", \"Student_12\", \"Student_13\", \"Student_14\", \"Student_15\", \"Student_16\", \"Student_17\", \"Student_18\", \"Student_19\", \"Student_20\"], [10, 17, 0, 18, 15, 22, 2, 20, 16, 12, 11, 16, 9, 25, 9, 20, 23, 15, 19, 24], [13, 17, 9, 3, 24, 18, 11, 12, 15, 3, 13, 18, 8, 20, 21, 18, 8, 21, 18, 5], [16, 0, 29, 24, 28, 12, 18, 0, 0, 12, 0, 23, 9, 18, 8, 2, 10, 9, 1, 18], [28, 6, 20, 20, 8, 9, 21, 29, 19, 20, 15, 0, 14, 29, 15, 13, 28, 24, 25, 12], [4, 4, 25, 5, 14, 19, 5, 22, 25, 27, 21, 1, 12, 14, 7, 11, 1, 4, 14, 23], [0, 24, 8, 5, 23, 25, 28, 21, 6, 8, 0, 13, 1, 18, 3, 0, 3, 23, 5, 10], [16, 18, 29, 16, 19, 21, 10, 9, 21, 3, 7, 15, 21, 9, 21, 21, 7, 29, 5, 25], [24, 27, 11, 5, 6, 5, 5, 16, 2, 16, 7, 19, 3, 20, 10, 14, 21, 23, 11, 20]]}, \"header\": {\"align\": \"center\", \"fill\": {\"color\": \"#C2D4FF\"}, \"values\": [\"Students\", \"Video1\", \"Video2\", \"Quiz1\", \"Quiz2\", \"Pdf1\", \"Pdf2\", \"Ebook1\", \"Ebook2\"]}, \"type\": \"table\", \"uid\": \"009d4c88-dd25-11e8-a548-d1aeaebe6c0e\"}], {}, {\"showLink\": true, \"linkText\": \"Export to plot.ly\"})});</script>"
      ]
     },
     "metadata": {},
     "output_type": "display_data"
    },
    {
     "data": {
      "application/vnd.plotly.v1+json": {
       "data": [
        {
         "name": "Video1",
         "type": "bar",
         "uid": "00beb5e4-dd25-11e8-a548-d1aeaebe6c0e",
         "x": [
          "Student_1",
          "Student_2",
          "Student_3",
          "Student_4",
          "Student_5",
          "Student_6",
          "Student_7",
          "Student_8",
          "Student_9",
          "Student_10",
          "Student_11",
          "Student_12",
          "Student_13",
          "Student_14",
          "Student_15",
          "Student_16",
          "Student_17",
          "Student_18",
          "Student_19",
          "Student_20"
         ],
         "y": [
          10,
          17,
          0,
          18,
          15,
          22,
          2,
          20,
          16,
          12,
          11,
          16,
          9,
          25,
          9,
          20,
          23,
          15,
          19,
          24
         ]
        },
        {
         "name": "Video2",
         "type": "bar",
         "uid": "00beb954-dd25-11e8-a548-d1aeaebe6c0e",
         "x": [
          "Student_1",
          "Student_2",
          "Student_3",
          "Student_4",
          "Student_5",
          "Student_6",
          "Student_7",
          "Student_8",
          "Student_9",
          "Student_10",
          "Student_11",
          "Student_12",
          "Student_13",
          "Student_14",
          "Student_15",
          "Student_16",
          "Student_17",
          "Student_18",
          "Student_19",
          "Student_20"
         ],
         "y": [
          13,
          17,
          9,
          3,
          24,
          18,
          11,
          12,
          15,
          3,
          13,
          18,
          8,
          20,
          21,
          18,
          8,
          21,
          18,
          5
         ]
        },
        {
         "name": "Quiz1",
         "type": "bar",
         "uid": "00bebbac-dd25-11e8-a548-d1aeaebe6c0e",
         "x": [
          "Student_1",
          "Student_2",
          "Student_3",
          "Student_4",
          "Student_5",
          "Student_6",
          "Student_7",
          "Student_8",
          "Student_9",
          "Student_10",
          "Student_11",
          "Student_12",
          "Student_13",
          "Student_14",
          "Student_15",
          "Student_16",
          "Student_17",
          "Student_18",
          "Student_19",
          "Student_20"
         ],
         "y": [
          16,
          0,
          29,
          24,
          28,
          12,
          18,
          0,
          0,
          12,
          0,
          23,
          9,
          18,
          8,
          2,
          10,
          9,
          1,
          18
         ]
        },
        {
         "name": "Quiz2",
         "type": "bar",
         "uid": "00bebdbe-dd25-11e8-a548-d1aeaebe6c0e",
         "x": [
          "Student_1",
          "Student_2",
          "Student_3",
          "Student_4",
          "Student_5",
          "Student_6",
          "Student_7",
          "Student_8",
          "Student_9",
          "Student_10",
          "Student_11",
          "Student_12",
          "Student_13",
          "Student_14",
          "Student_15",
          "Student_16",
          "Student_17",
          "Student_18",
          "Student_19",
          "Student_20"
         ],
         "y": [
          28,
          6,
          20,
          20,
          8,
          9,
          21,
          29,
          19,
          20,
          15,
          0,
          14,
          29,
          15,
          13,
          28,
          24,
          25,
          12
         ]
        },
        {
         "name": "Pdf1",
         "type": "bar",
         "uid": "00bebfbc-dd25-11e8-a548-d1aeaebe6c0e",
         "x": [
          "Student_1",
          "Student_2",
          "Student_3",
          "Student_4",
          "Student_5",
          "Student_6",
          "Student_7",
          "Student_8",
          "Student_9",
          "Student_10",
          "Student_11",
          "Student_12",
          "Student_13",
          "Student_14",
          "Student_15",
          "Student_16",
          "Student_17",
          "Student_18",
          "Student_19",
          "Student_20"
         ],
         "y": [
          4,
          4,
          25,
          5,
          14,
          19,
          5,
          22,
          25,
          27,
          21,
          1,
          12,
          14,
          7,
          11,
          1,
          4,
          14,
          23
         ]
        },
        {
         "name": "Pdf2",
         "type": "bar",
         "uid": "00bec160-dd25-11e8-a548-d1aeaebe6c0e",
         "x": [
          "Student_1",
          "Student_2",
          "Student_3",
          "Student_4",
          "Student_5",
          "Student_6",
          "Student_7",
          "Student_8",
          "Student_9",
          "Student_10",
          "Student_11",
          "Student_12",
          "Student_13",
          "Student_14",
          "Student_15",
          "Student_16",
          "Student_17",
          "Student_18",
          "Student_19",
          "Student_20"
         ],
         "y": [
          0,
          24,
          8,
          5,
          23,
          25,
          28,
          21,
          6,
          8,
          0,
          13,
          1,
          18,
          3,
          0,
          3,
          23,
          5,
          10
         ]
        },
        {
         "name": "Ebook1",
         "type": "bar",
         "uid": "00bec2c8-dd25-11e8-a548-d1aeaebe6c0e",
         "x": [
          "Student_1",
          "Student_2",
          "Student_3",
          "Student_4",
          "Student_5",
          "Student_6",
          "Student_7",
          "Student_8",
          "Student_9",
          "Student_10",
          "Student_11",
          "Student_12",
          "Student_13",
          "Student_14",
          "Student_15",
          "Student_16",
          "Student_17",
          "Student_18",
          "Student_19",
          "Student_20"
         ],
         "y": [
          16,
          18,
          29,
          16,
          19,
          21,
          10,
          9,
          21,
          3,
          7,
          15,
          21,
          9,
          21,
          21,
          7,
          29,
          5,
          25
         ]
        },
        {
         "name": "Ebook2",
         "type": "bar",
         "uid": "00bec430-dd25-11e8-a548-d1aeaebe6c0e",
         "x": [
          "Student_1",
          "Student_2",
          "Student_3",
          "Student_4",
          "Student_5",
          "Student_6",
          "Student_7",
          "Student_8",
          "Student_9",
          "Student_10",
          "Student_11",
          "Student_12",
          "Student_13",
          "Student_14",
          "Student_15",
          "Student_16",
          "Student_17",
          "Student_18",
          "Student_19",
          "Student_20"
         ],
         "y": [
          24,
          27,
          11,
          5,
          6,
          5,
          5,
          16,
          2,
          16,
          7,
          19,
          3,
          20,
          10,
          14,
          21,
          23,
          11,
          20
         ]
        }
       ],
       "layout": {
        "title": "Number of access in the materials groupes by student",
        "yaxis": {
         "dtick": 1,
         "exponentformat": "e",
         "gridcolor": "#bdbdbd",
         "showexponent": "all",
         "showticklabels": true,
         "tick0": 0,
         "titlefont": {
          "color": "lightgrey",
          "family": "Arial, sans-serif"
         }
        }
       }
      },
      "text/html": [
       "<div id=\"e996084e-6f90-4e63-886d-607b2d8617ce\" style=\"height: 525px; width: 100%;\" class=\"plotly-graph-div\"></div><script type=\"text/javascript\">require([\"plotly\"], function(Plotly) { window.PLOTLYENV=window.PLOTLYENV || {};window.PLOTLYENV.BASE_URL=\"https://plot.ly\";\n",
       "        Plotly.plot(\n",
       "            'e996084e-6f90-4e63-886d-607b2d8617ce',\n",
       "            [{\"name\": \"Video1\", \"x\": [\"Student_1\", \"Student_2\", \"Student_3\", \"Student_4\", \"Student_5\", \"Student_6\", \"Student_7\", \"Student_8\", \"Student_9\", \"Student_10\", \"Student_11\", \"Student_12\", \"Student_13\", \"Student_14\", \"Student_15\", \"Student_16\", \"Student_17\", \"Student_18\", \"Student_19\", \"Student_20\"], \"y\": [10, 17, 0, 18, 15, 22, 2, 20, 16, 12, 11, 16, 9, 25, 9, 20, 23, 15, 19, 24], \"type\": \"bar\", \"uid\": \"00beb5e4-dd25-11e8-a548-d1aeaebe6c0e\"}, {\"name\": \"Video2\", \"x\": [\"Student_1\", \"Student_2\", \"Student_3\", \"Student_4\", \"Student_5\", \"Student_6\", \"Student_7\", \"Student_8\", \"Student_9\", \"Student_10\", \"Student_11\", \"Student_12\", \"Student_13\", \"Student_14\", \"Student_15\", \"Student_16\", \"Student_17\", \"Student_18\", \"Student_19\", \"Student_20\"], \"y\": [13, 17, 9, 3, 24, 18, 11, 12, 15, 3, 13, 18, 8, 20, 21, 18, 8, 21, 18, 5], \"type\": \"bar\", \"uid\": \"00beb954-dd25-11e8-a548-d1aeaebe6c0e\"}, {\"name\": \"Quiz1\", \"x\": [\"Student_1\", \"Student_2\", \"Student_3\", \"Student_4\", \"Student_5\", \"Student_6\", \"Student_7\", \"Student_8\", \"Student_9\", \"Student_10\", \"Student_11\", \"Student_12\", \"Student_13\", \"Student_14\", \"Student_15\", \"Student_16\", \"Student_17\", \"Student_18\", \"Student_19\", \"Student_20\"], \"y\": [16, 0, 29, 24, 28, 12, 18, 0, 0, 12, 0, 23, 9, 18, 8, 2, 10, 9, 1, 18], \"type\": \"bar\", \"uid\": \"00bebbac-dd25-11e8-a548-d1aeaebe6c0e\"}, {\"name\": \"Quiz2\", \"x\": [\"Student_1\", \"Student_2\", \"Student_3\", \"Student_4\", \"Student_5\", \"Student_6\", \"Student_7\", \"Student_8\", \"Student_9\", \"Student_10\", \"Student_11\", \"Student_12\", \"Student_13\", \"Student_14\", \"Student_15\", \"Student_16\", \"Student_17\", \"Student_18\", \"Student_19\", \"Student_20\"], \"y\": [28, 6, 20, 20, 8, 9, 21, 29, 19, 20, 15, 0, 14, 29, 15, 13, 28, 24, 25, 12], \"type\": \"bar\", \"uid\": \"00bebdbe-dd25-11e8-a548-d1aeaebe6c0e\"}, {\"name\": \"Pdf1\", \"x\": [\"Student_1\", \"Student_2\", \"Student_3\", \"Student_4\", \"Student_5\", \"Student_6\", \"Student_7\", \"Student_8\", \"Student_9\", \"Student_10\", \"Student_11\", \"Student_12\", \"Student_13\", \"Student_14\", \"Student_15\", \"Student_16\", \"Student_17\", \"Student_18\", \"Student_19\", \"Student_20\"], \"y\": [4, 4, 25, 5, 14, 19, 5, 22, 25, 27, 21, 1, 12, 14, 7, 11, 1, 4, 14, 23], \"type\": \"bar\", \"uid\": \"00bebfbc-dd25-11e8-a548-d1aeaebe6c0e\"}, {\"name\": \"Pdf2\", \"x\": [\"Student_1\", \"Student_2\", \"Student_3\", \"Student_4\", \"Student_5\", \"Student_6\", \"Student_7\", \"Student_8\", \"Student_9\", \"Student_10\", \"Student_11\", \"Student_12\", \"Student_13\", \"Student_14\", \"Student_15\", \"Student_16\", \"Student_17\", \"Student_18\", \"Student_19\", \"Student_20\"], \"y\": [0, 24, 8, 5, 23, 25, 28, 21, 6, 8, 0, 13, 1, 18, 3, 0, 3, 23, 5, 10], \"type\": \"bar\", \"uid\": \"00bec160-dd25-11e8-a548-d1aeaebe6c0e\"}, {\"name\": \"Ebook1\", \"x\": [\"Student_1\", \"Student_2\", \"Student_3\", \"Student_4\", \"Student_5\", \"Student_6\", \"Student_7\", \"Student_8\", \"Student_9\", \"Student_10\", \"Student_11\", \"Student_12\", \"Student_13\", \"Student_14\", \"Student_15\", \"Student_16\", \"Student_17\", \"Student_18\", \"Student_19\", \"Student_20\"], \"y\": [16, 18, 29, 16, 19, 21, 10, 9, 21, 3, 7, 15, 21, 9, 21, 21, 7, 29, 5, 25], \"type\": \"bar\", \"uid\": \"00bec2c8-dd25-11e8-a548-d1aeaebe6c0e\"}, {\"name\": \"Ebook2\", \"x\": [\"Student_1\", \"Student_2\", \"Student_3\", \"Student_4\", \"Student_5\", \"Student_6\", \"Student_7\", \"Student_8\", \"Student_9\", \"Student_10\", \"Student_11\", \"Student_12\", \"Student_13\", \"Student_14\", \"Student_15\", \"Student_16\", \"Student_17\", \"Student_18\", \"Student_19\", \"Student_20\"], \"y\": [24, 27, 11, 5, 6, 5, 5, 16, 2, 16, 7, 19, 3, 20, 10, 14, 21, 23, 11, 20], \"type\": \"bar\", \"uid\": \"00bec430-dd25-11e8-a548-d1aeaebe6c0e\"}],\n",
       "            {\"title\": \"Number of access in the materials groupes by student\", \"yaxis\": {\"dtick\": 1, \"exponentformat\": \"e\", \"gridcolor\": \"#bdbdbd\", \"showexponent\": \"all\", \"showticklabels\": true, \"tick0\": 0, \"titlefont\": {\"color\": \"lightgrey\", \"family\": \"Arial, sans-serif\"}}},\n",
       "            {\"showLink\": true, \"linkText\": \"Export to plot.ly\"}\n",
       "        ).then(function () {return Plotly.addFrames('e996084e-6f90-4e63-886d-607b2d8617ce',{});}).then(function(){Plotly.animate('e996084e-6f90-4e63-886d-607b2d8617ce');})\n",
       "        });</script>"
      ],
      "text/vnd.plotly.v1+html": [
       "<div id=\"e996084e-6f90-4e63-886d-607b2d8617ce\" style=\"height: 525px; width: 100%;\" class=\"plotly-graph-div\"></div><script type=\"text/javascript\">require([\"plotly\"], function(Plotly) { window.PLOTLYENV=window.PLOTLYENV || {};window.PLOTLYENV.BASE_URL=\"https://plot.ly\";\n",
       "        Plotly.plot(\n",
       "            'e996084e-6f90-4e63-886d-607b2d8617ce',\n",
       "            [{\"name\": \"Video1\", \"x\": [\"Student_1\", \"Student_2\", \"Student_3\", \"Student_4\", \"Student_5\", \"Student_6\", \"Student_7\", \"Student_8\", \"Student_9\", \"Student_10\", \"Student_11\", \"Student_12\", \"Student_13\", \"Student_14\", \"Student_15\", \"Student_16\", \"Student_17\", \"Student_18\", \"Student_19\", \"Student_20\"], \"y\": [10, 17, 0, 18, 15, 22, 2, 20, 16, 12, 11, 16, 9, 25, 9, 20, 23, 15, 19, 24], \"type\": \"bar\", \"uid\": \"00beb5e4-dd25-11e8-a548-d1aeaebe6c0e\"}, {\"name\": \"Video2\", \"x\": [\"Student_1\", \"Student_2\", \"Student_3\", \"Student_4\", \"Student_5\", \"Student_6\", \"Student_7\", \"Student_8\", \"Student_9\", \"Student_10\", \"Student_11\", \"Student_12\", \"Student_13\", \"Student_14\", \"Student_15\", \"Student_16\", \"Student_17\", \"Student_18\", \"Student_19\", \"Student_20\"], \"y\": [13, 17, 9, 3, 24, 18, 11, 12, 15, 3, 13, 18, 8, 20, 21, 18, 8, 21, 18, 5], \"type\": \"bar\", \"uid\": \"00beb954-dd25-11e8-a548-d1aeaebe6c0e\"}, {\"name\": \"Quiz1\", \"x\": [\"Student_1\", \"Student_2\", \"Student_3\", \"Student_4\", \"Student_5\", \"Student_6\", \"Student_7\", \"Student_8\", \"Student_9\", \"Student_10\", \"Student_11\", \"Student_12\", \"Student_13\", \"Student_14\", \"Student_15\", \"Student_16\", \"Student_17\", \"Student_18\", \"Student_19\", \"Student_20\"], \"y\": [16, 0, 29, 24, 28, 12, 18, 0, 0, 12, 0, 23, 9, 18, 8, 2, 10, 9, 1, 18], \"type\": \"bar\", \"uid\": \"00bebbac-dd25-11e8-a548-d1aeaebe6c0e\"}, {\"name\": \"Quiz2\", \"x\": [\"Student_1\", \"Student_2\", \"Student_3\", \"Student_4\", \"Student_5\", \"Student_6\", \"Student_7\", \"Student_8\", \"Student_9\", \"Student_10\", \"Student_11\", \"Student_12\", \"Student_13\", \"Student_14\", \"Student_15\", \"Student_16\", \"Student_17\", \"Student_18\", \"Student_19\", \"Student_20\"], \"y\": [28, 6, 20, 20, 8, 9, 21, 29, 19, 20, 15, 0, 14, 29, 15, 13, 28, 24, 25, 12], \"type\": \"bar\", \"uid\": \"00bebdbe-dd25-11e8-a548-d1aeaebe6c0e\"}, {\"name\": \"Pdf1\", \"x\": [\"Student_1\", \"Student_2\", \"Student_3\", \"Student_4\", \"Student_5\", \"Student_6\", \"Student_7\", \"Student_8\", \"Student_9\", \"Student_10\", \"Student_11\", \"Student_12\", \"Student_13\", \"Student_14\", \"Student_15\", \"Student_16\", \"Student_17\", \"Student_18\", \"Student_19\", \"Student_20\"], \"y\": [4, 4, 25, 5, 14, 19, 5, 22, 25, 27, 21, 1, 12, 14, 7, 11, 1, 4, 14, 23], \"type\": \"bar\", \"uid\": \"00bebfbc-dd25-11e8-a548-d1aeaebe6c0e\"}, {\"name\": \"Pdf2\", \"x\": [\"Student_1\", \"Student_2\", \"Student_3\", \"Student_4\", \"Student_5\", \"Student_6\", \"Student_7\", \"Student_8\", \"Student_9\", \"Student_10\", \"Student_11\", \"Student_12\", \"Student_13\", \"Student_14\", \"Student_15\", \"Student_16\", \"Student_17\", \"Student_18\", \"Student_19\", \"Student_20\"], \"y\": [0, 24, 8, 5, 23, 25, 28, 21, 6, 8, 0, 13, 1, 18, 3, 0, 3, 23, 5, 10], \"type\": \"bar\", \"uid\": \"00bec160-dd25-11e8-a548-d1aeaebe6c0e\"}, {\"name\": \"Ebook1\", \"x\": [\"Student_1\", \"Student_2\", \"Student_3\", \"Student_4\", \"Student_5\", \"Student_6\", \"Student_7\", \"Student_8\", \"Student_9\", \"Student_10\", \"Student_11\", \"Student_12\", \"Student_13\", \"Student_14\", \"Student_15\", \"Student_16\", \"Student_17\", \"Student_18\", \"Student_19\", \"Student_20\"], \"y\": [16, 18, 29, 16, 19, 21, 10, 9, 21, 3, 7, 15, 21, 9, 21, 21, 7, 29, 5, 25], \"type\": \"bar\", \"uid\": \"00bec2c8-dd25-11e8-a548-d1aeaebe6c0e\"}, {\"name\": \"Ebook2\", \"x\": [\"Student_1\", \"Student_2\", \"Student_3\", \"Student_4\", \"Student_5\", \"Student_6\", \"Student_7\", \"Student_8\", \"Student_9\", \"Student_10\", \"Student_11\", \"Student_12\", \"Student_13\", \"Student_14\", \"Student_15\", \"Student_16\", \"Student_17\", \"Student_18\", \"Student_19\", \"Student_20\"], \"y\": [24, 27, 11, 5, 6, 5, 5, 16, 2, 16, 7, 19, 3, 20, 10, 14, 21, 23, 11, 20], \"type\": \"bar\", \"uid\": \"00bec430-dd25-11e8-a548-d1aeaebe6c0e\"}],\n",
       "            {\"title\": \"Number of access in the materials groupes by student\", \"yaxis\": {\"dtick\": 1, \"exponentformat\": \"e\", \"gridcolor\": \"#bdbdbd\", \"showexponent\": \"all\", \"showticklabels\": true, \"tick0\": 0, \"titlefont\": {\"color\": \"lightgrey\", \"family\": \"Arial, sans-serif\"}}},\n",
       "            {\"showLink\": true, \"linkText\": \"Export to plot.ly\"}\n",
       "        ).then(function () {return Plotly.addFrames('e996084e-6f90-4e63-886d-607b2d8617ce',{});}).then(function(){Plotly.animate('e996084e-6f90-4e63-886d-607b2d8617ce');})\n",
       "        });</script>"
      ]
     },
     "metadata": {},
     "output_type": "display_data"
    },
    {
     "data": {
      "application/vnd.plotly.v1+json": {
       "data": [
        {
         "colorscale": [
          [
           0,
           "rgb(255,255,255)"
          ],
          [
           1,
           "rgb(0,0,255)"
          ]
         ],
         "type": "heatmap",
         "uid": "00d0367a-dd25-11e8-a548-d1aeaebe6c0e",
         "x": [
          "Video1",
          "Video2",
          "Quiz1",
          "Quiz2",
          "Pdf1",
          "Pdf2",
          "Ebook1",
          "Ebook2"
         ],
         "y": [
          "Student_1",
          "Student_2",
          "Student_3",
          "Student_4",
          "Student_5",
          "Student_6",
          "Student_7",
          "Student_8",
          "Student_9",
          "Student_10",
          "Student_11",
          "Student_12",
          "Student_13",
          "Student_14",
          "Student_15",
          "Student_16",
          "Student_17",
          "Student_18",
          "Student_19",
          "Student_20"
         ],
         "z": [
          [
           10,
           13,
           16,
           28,
           4,
           0,
           16,
           24
          ],
          [
           17,
           17,
           0,
           6,
           4,
           24,
           18,
           27
          ],
          [
           0,
           9,
           29,
           20,
           25,
           8,
           29,
           11
          ],
          [
           18,
           3,
           24,
           20,
           5,
           5,
           16,
           5
          ],
          [
           15,
           24,
           28,
           8,
           14,
           23,
           19,
           6
          ],
          [
           22,
           18,
           12,
           9,
           19,
           25,
           21,
           5
          ],
          [
           2,
           11,
           18,
           21,
           5,
           28,
           10,
           5
          ],
          [
           20,
           12,
           0,
           29,
           22,
           21,
           9,
           16
          ],
          [
           16,
           15,
           0,
           19,
           25,
           6,
           21,
           2
          ],
          [
           12,
           3,
           12,
           20,
           27,
           8,
           3,
           16
          ],
          [
           11,
           13,
           0,
           15,
           21,
           0,
           7,
           7
          ],
          [
           16,
           18,
           23,
           0,
           1,
           13,
           15,
           19
          ],
          [
           9,
           8,
           9,
           14,
           12,
           1,
           21,
           3
          ],
          [
           25,
           20,
           18,
           29,
           14,
           18,
           9,
           20
          ],
          [
           9,
           21,
           8,
           15,
           7,
           3,
           21,
           10
          ],
          [
           20,
           18,
           2,
           13,
           11,
           0,
           21,
           14
          ],
          [
           23,
           8,
           10,
           28,
           1,
           3,
           7,
           21
          ],
          [
           15,
           21,
           9,
           24,
           4,
           23,
           29,
           23
          ],
          [
           19,
           18,
           1,
           25,
           14,
           5,
           5,
           11
          ],
          [
           24,
           5,
           18,
           12,
           23,
           10,
           25,
           20
          ]
         ]
        }
       ],
       "layout": {
        "title": "Number of access in the materials by student",
        "yaxis": {
         "dtick": 1,
         "exponentformat": "e",
         "gridcolor": "#bdbdbd",
         "showexponent": "all",
         "showticklabels": true,
         "tick0": 0,
         "titlefont": {
          "color": "lightgrey",
          "family": "Arial, sans-serif"
         }
        }
       }
      },
      "text/html": [
       "<div id=\"762c1312-2185-4c6c-b73e-2ec4d2f82699\" style=\"height: 525px; width: 100%;\" class=\"plotly-graph-div\"></div><script type=\"text/javascript\">require([\"plotly\"], function(Plotly) { window.PLOTLYENV=window.PLOTLYENV || {};window.PLOTLYENV.BASE_URL=\"https://plot.ly\";\n",
       "        Plotly.plot(\n",
       "            '762c1312-2185-4c6c-b73e-2ec4d2f82699',\n",
       "            [{\"colorscale\": [[0, \"rgb(255,255,255)\"], [1, \"rgb(0,0,255)\"]], \"x\": [\"Video1\", \"Video2\", \"Quiz1\", \"Quiz2\", \"Pdf1\", \"Pdf2\", \"Ebook1\", \"Ebook2\"], \"y\": [\"Student_1\", \"Student_2\", \"Student_3\", \"Student_4\", \"Student_5\", \"Student_6\", \"Student_7\", \"Student_8\", \"Student_9\", \"Student_10\", \"Student_11\", \"Student_12\", \"Student_13\", \"Student_14\", \"Student_15\", \"Student_16\", \"Student_17\", \"Student_18\", \"Student_19\", \"Student_20\"], \"z\": [[10, 13, 16, 28, 4, 0, 16, 24], [17, 17, 0, 6, 4, 24, 18, 27], [0, 9, 29, 20, 25, 8, 29, 11], [18, 3, 24, 20, 5, 5, 16, 5], [15, 24, 28, 8, 14, 23, 19, 6], [22, 18, 12, 9, 19, 25, 21, 5], [2, 11, 18, 21, 5, 28, 10, 5], [20, 12, 0, 29, 22, 21, 9, 16], [16, 15, 0, 19, 25, 6, 21, 2], [12, 3, 12, 20, 27, 8, 3, 16], [11, 13, 0, 15, 21, 0, 7, 7], [16, 18, 23, 0, 1, 13, 15, 19], [9, 8, 9, 14, 12, 1, 21, 3], [25, 20, 18, 29, 14, 18, 9, 20], [9, 21, 8, 15, 7, 3, 21, 10], [20, 18, 2, 13, 11, 0, 21, 14], [23, 8, 10, 28, 1, 3, 7, 21], [15, 21, 9, 24, 4, 23, 29, 23], [19, 18, 1, 25, 14, 5, 5, 11], [24, 5, 18, 12, 23, 10, 25, 20]], \"type\": \"heatmap\", \"uid\": \"00d0367a-dd25-11e8-a548-d1aeaebe6c0e\"}],\n",
       "            {\"title\": \"Number of access in the materials by student\", \"yaxis\": {\"dtick\": 1, \"exponentformat\": \"e\", \"gridcolor\": \"#bdbdbd\", \"showexponent\": \"all\", \"showticklabels\": true, \"tick0\": 0, \"titlefont\": {\"color\": \"lightgrey\", \"family\": \"Arial, sans-serif\"}}},\n",
       "            {\"showLink\": true, \"linkText\": \"Export to plot.ly\"}\n",
       "        ).then(function () {return Plotly.addFrames('762c1312-2185-4c6c-b73e-2ec4d2f82699',{});}).then(function(){Plotly.animate('762c1312-2185-4c6c-b73e-2ec4d2f82699');})\n",
       "        });</script>"
      ],
      "text/vnd.plotly.v1+html": [
       "<div id=\"762c1312-2185-4c6c-b73e-2ec4d2f82699\" style=\"height: 525px; width: 100%;\" class=\"plotly-graph-div\"></div><script type=\"text/javascript\">require([\"plotly\"], function(Plotly) { window.PLOTLYENV=window.PLOTLYENV || {};window.PLOTLYENV.BASE_URL=\"https://plot.ly\";\n",
       "        Plotly.plot(\n",
       "            '762c1312-2185-4c6c-b73e-2ec4d2f82699',\n",
       "            [{\"colorscale\": [[0, \"rgb(255,255,255)\"], [1, \"rgb(0,0,255)\"]], \"x\": [\"Video1\", \"Video2\", \"Quiz1\", \"Quiz2\", \"Pdf1\", \"Pdf2\", \"Ebook1\", \"Ebook2\"], \"y\": [\"Student_1\", \"Student_2\", \"Student_3\", \"Student_4\", \"Student_5\", \"Student_6\", \"Student_7\", \"Student_8\", \"Student_9\", \"Student_10\", \"Student_11\", \"Student_12\", \"Student_13\", \"Student_14\", \"Student_15\", \"Student_16\", \"Student_17\", \"Student_18\", \"Student_19\", \"Student_20\"], \"z\": [[10, 13, 16, 28, 4, 0, 16, 24], [17, 17, 0, 6, 4, 24, 18, 27], [0, 9, 29, 20, 25, 8, 29, 11], [18, 3, 24, 20, 5, 5, 16, 5], [15, 24, 28, 8, 14, 23, 19, 6], [22, 18, 12, 9, 19, 25, 21, 5], [2, 11, 18, 21, 5, 28, 10, 5], [20, 12, 0, 29, 22, 21, 9, 16], [16, 15, 0, 19, 25, 6, 21, 2], [12, 3, 12, 20, 27, 8, 3, 16], [11, 13, 0, 15, 21, 0, 7, 7], [16, 18, 23, 0, 1, 13, 15, 19], [9, 8, 9, 14, 12, 1, 21, 3], [25, 20, 18, 29, 14, 18, 9, 20], [9, 21, 8, 15, 7, 3, 21, 10], [20, 18, 2, 13, 11, 0, 21, 14], [23, 8, 10, 28, 1, 3, 7, 21], [15, 21, 9, 24, 4, 23, 29, 23], [19, 18, 1, 25, 14, 5, 5, 11], [24, 5, 18, 12, 23, 10, 25, 20]], \"type\": \"heatmap\", \"uid\": \"00d0367a-dd25-11e8-a548-d1aeaebe6c0e\"}],\n",
       "            {\"title\": \"Number of access in the materials by student\", \"yaxis\": {\"dtick\": 1, \"exponentformat\": \"e\", \"gridcolor\": \"#bdbdbd\", \"showexponent\": \"all\", \"showticklabels\": true, \"tick0\": 0, \"titlefont\": {\"color\": \"lightgrey\", \"family\": \"Arial, sans-serif\"}}},\n",
       "            {\"showLink\": true, \"linkText\": \"Export to plot.ly\"}\n",
       "        ).then(function () {return Plotly.addFrames('762c1312-2185-4c6c-b73e-2ec4d2f82699',{});}).then(function(){Plotly.animate('762c1312-2185-4c6c-b73e-2ec4d2f82699');})\n",
       "        });</script>"
      ]
     },
     "metadata": {},
     "output_type": "display_data"
    },
    {
     "data": {
      "application/vnd.plotly.v1+json": {
       "data": [
        {
         "mode": "markers",
         "type": "scatter",
         "uid": "01405004-dd25-11e8-a548-d1aeaebe6c0e",
         "x": [
          "Video1",
          "Video2",
          "Quiz1",
          "Quiz2",
          "Pdf1",
          "Pdf2",
          "Ebook1",
          "Ebook2"
         ],
         "y": [
          "Student_1",
          "Student_2",
          "Student_3",
          "Student_4",
          "Student_5",
          "Student_6",
          "Student_7",
          "Student_8",
          "Student_9",
          "Student_10",
          "Student_11",
          "Student_12",
          "Student_13",
          "Student_14",
          "Student_15",
          "Student_16",
          "Student_17",
          "Student_18",
          "Student_19",
          "Student_20"
         ]
        }
       ],
       "layout": {}
      },
      "text/html": [
       "<div id=\"3163abe3-ad93-4576-abac-9807ed0842e7\" style=\"height: 525px; width: 100%;\" class=\"plotly-graph-div\"></div><script type=\"text/javascript\">require([\"plotly\"], function(Plotly) { window.PLOTLYENV=window.PLOTLYENV || {};window.PLOTLYENV.BASE_URL=\"https://plot.ly\";Plotly.newPlot(\"3163abe3-ad93-4576-abac-9807ed0842e7\", [{\"mode\": \"markers\", \"x\": [\"Video1\", \"Video2\", \"Quiz1\", \"Quiz2\", \"Pdf1\", \"Pdf2\", \"Ebook1\", \"Ebook2\"], \"y\": [\"Student_1\", \"Student_2\", \"Student_3\", \"Student_4\", \"Student_5\", \"Student_6\", \"Student_7\", \"Student_8\", \"Student_9\", \"Student_10\", \"Student_11\", \"Student_12\", \"Student_13\", \"Student_14\", \"Student_15\", \"Student_16\", \"Student_17\", \"Student_18\", \"Student_19\", \"Student_20\"], \"type\": \"scatter\", \"uid\": \"0147d23e-dd25-11e8-a548-d1aeaebe6c0e\"}], {}, {\"showLink\": true, \"linkText\": \"Export to plot.ly\"})});</script>"
      ],
      "text/vnd.plotly.v1+html": [
       "<div id=\"3163abe3-ad93-4576-abac-9807ed0842e7\" style=\"height: 525px; width: 100%;\" class=\"plotly-graph-div\"></div><script type=\"text/javascript\">require([\"plotly\"], function(Plotly) { window.PLOTLYENV=window.PLOTLYENV || {};window.PLOTLYENV.BASE_URL=\"https://plot.ly\";Plotly.newPlot(\"3163abe3-ad93-4576-abac-9807ed0842e7\", [{\"mode\": \"markers\", \"x\": [\"Video1\", \"Video2\", \"Quiz1\", \"Quiz2\", \"Pdf1\", \"Pdf2\", \"Ebook1\", \"Ebook2\"], \"y\": [\"Student_1\", \"Student_2\", \"Student_3\", \"Student_4\", \"Student_5\", \"Student_6\", \"Student_7\", \"Student_8\", \"Student_9\", \"Student_10\", \"Student_11\", \"Student_12\", \"Student_13\", \"Student_14\", \"Student_15\", \"Student_16\", \"Student_17\", \"Student_18\", \"Student_19\", \"Student_20\"], \"type\": \"scatter\", \"uid\": \"0147d23e-dd25-11e8-a548-d1aeaebe6c0e\"}], {}, {\"showLink\": true, \"linkText\": \"Export to plot.ly\"})});</script>"
      ]
     },
     "metadata": {},
     "output_type": "display_data"
    }
   ],
   "source": [
    "run scripts/V002.py"
   ]
  },
  {
   "cell_type": "markdown",
   "metadata": {},
   "source": [
    "### View 003"
   ]
  },
  {
   "cell_type": "code",
   "execution_count": 45,
   "metadata": {},
   "outputs": [],
   "source": [
    "run scripts/V003.py"
   ]
  },
  {
   "cell_type": "markdown",
   "metadata": {},
   "source": [
    "### View 004"
   ]
  },
  {
   "cell_type": "code",
   "execution_count": null,
   "metadata": {},
   "outputs": [],
   "source": [
    "run scripts/V004.py"
   ]
  },
  {
   "cell_type": "markdown",
   "metadata": {},
   "source": [
    "### View 005"
   ]
  },
  {
   "cell_type": "code",
   "execution_count": null,
   "metadata": {},
   "outputs": [],
   "source": [
    "run scripts/V005.py"
   ]
  },
  {
   "cell_type": "markdown",
   "metadata": {},
   "source": [
    "### View 006"
   ]
  },
  {
   "cell_type": "code",
   "execution_count": null,
   "metadata": {},
   "outputs": [],
   "source": [
    "run scripts/V006.py"
   ]
  },
  {
   "cell_type": "markdown",
   "metadata": {},
   "source": [
    "### View 007"
   ]
  },
  {
   "cell_type": "code",
   "execution_count": null,
   "metadata": {},
   "outputs": [],
   "source": [
    "run scripts/V007.py"
   ]
  },
  {
   "cell_type": "markdown",
   "metadata": {},
   "source": [
    "### View 008"
   ]
  },
  {
   "cell_type": "code",
   "execution_count": null,
   "metadata": {},
   "outputs": [],
   "source": [
    "run scripts/V008.py"
   ]
  },
  {
   "cell_type": "markdown",
   "metadata": {},
   "source": [
    "### View 009"
   ]
  },
  {
   "cell_type": "code",
   "execution_count": null,
   "metadata": {},
   "outputs": [],
   "source": [
    "run scripts/V009.py"
   ]
  },
  {
   "cell_type": "markdown",
   "metadata": {},
   "source": [
    "### View 010"
   ]
  },
  {
   "cell_type": "code",
   "execution_count": 46,
   "metadata": {},
   "outputs": [],
   "source": [
    "run scripts/V010.py"
   ]
  },
  {
   "cell_type": "markdown",
   "metadata": {},
   "source": [
    "### View 011"
   ]
  },
  {
   "cell_type": "code",
   "execution_count": null,
   "metadata": {},
   "outputs": [],
   "source": [
    "run scripts/V011.py"
   ]
  }
 ],
 "metadata": {
  "kernelspec": {
   "display_name": "Python 3",
   "language": "python",
   "name": "python3"
  },
  "language_info": {
   "codemirror_mode": {
    "name": "ipython",
    "version": 3
   },
   "file_extension": ".py",
   "mimetype": "text/x-python",
   "name": "python",
   "nbconvert_exporter": "python",
   "pygments_lexer": "ipython3",
   "version": "3.6.6"
  }
 },
 "nbformat": 4,
 "nbformat_minor": 2
}
