{
 "cells": [
  {
   "cell_type": "markdown",
   "metadata": {},
   "source": [
    "### View 001"
   ]
  },
  {
   "cell_type": "code",
   "execution_count": 13,
   "metadata": {},
   "outputs": [
    {
     "data": {
      "text/html": [
       "<script>requirejs.config({paths: { 'plotly': ['https://cdn.plot.ly/plotly-latest.min']},});if(!window.Plotly) {{require(['plotly'],function(plotly) {window.Plotly=plotly;});}}</script>"
      ],
      "text/vnd.plotly.v1+html": [
       "<script>requirejs.config({paths: { 'plotly': ['https://cdn.plot.ly/plotly-latest.min']},});if(!window.Plotly) {{require(['plotly'],function(plotly) {window.Plotly=plotly;});}}</script>"
      ]
     },
     "metadata": {},
     "output_type": "display_data"
    }
   ],
   "source": [
    "run eduvis/V001.py"
   ]
  },
  {
   "cell_type": "code",
   "execution_count": 14,
   "metadata": {
    "scrolled": true
   },
   "outputs": [
    {
     "data": {
      "application/vnd.plotly.v1+json": {
       "data": [
        {
         "cells": {
          "align": [
           "left",
           "center"
          ],
          "fill": {
           "color": "#F5F8FF"
          },
          "values": [
           [
            "ALMIRA",
            "ANAZIRA",
            "DAFINE",
            "DILZA",
            "ELIDO",
            "ERILIO",
            "GIUSEPPE",
            "IDELMARIA",
            "ISABELI",
            "IZILDA",
            "JOCIQUELE",
            "KARIANY",
            "MESSODY",
            "NARIELE",
            "OTO",
            "ROSALHA",
            "SELESTRINO",
            "TIARA",
            "UDILSON",
            "URSULLA"
           ],
           [
            0,
            0,
            1,
            1,
            1,
            0,
            0,
            1,
            1,
            0,
            1,
            0,
            0,
            0,
            1,
            0,
            0,
            1,
            1,
            0
           ],
           [
            0,
            1,
            1,
            0,
            0,
            1,
            1,
            1,
            1,
            0,
            1,
            1,
            0,
            0,
            0,
            1,
            0,
            0,
            1,
            0
           ],
           [
            0,
            0,
            0,
            1,
            0,
            1,
            0,
            0,
            1,
            0,
            0,
            1,
            0,
            0,
            1,
            0,
            1,
            0,
            1,
            1
           ],
           [
            1,
            1,
            0,
            0,
            1,
            0,
            1,
            0,
            0,
            0,
            0,
            1,
            1,
            0,
            1,
            1,
            0,
            1,
            1,
            0
           ],
           [
            0,
            1,
            1,
            0,
            0,
            0,
            1,
            0,
            0,
            1,
            1,
            0,
            0,
            0,
            0,
            0,
            1,
            0,
            0,
            0
           ],
           [
            0,
            0,
            1,
            0,
            1,
            0,
            1,
            0,
            0,
            0,
            0,
            0,
            0,
            0,
            1,
            1,
            0,
            0,
            1,
            0
           ],
           [
            1,
            0,
            0,
            0,
            0,
            1,
            0,
            1,
            0,
            1,
            1,
            0,
            1,
            1,
            0,
            0,
            1,
            1,
            0,
            1
           ],
           [
            0,
            0,
            0,
            1,
            0,
            1,
            0,
            1,
            1,
            1,
            1,
            0,
            0,
            0,
            0,
            0,
            1,
            0,
            1,
            0
           ],
           [
            0,
            1,
            0,
            1,
            0,
            0,
            0,
            1,
            0,
            1,
            0,
            0,
            1,
            1,
            0,
            1,
            0,
            0,
            1,
            1
           ],
           [
            1,
            0,
            1,
            0,
            0,
            0,
            1,
            1,
            1,
            0,
            0,
            0,
            0,
            0,
            1,
            0,
            0,
            0,
            0,
            0
           ]
          ]
         },
         "header": {
          "align": "center",
          "fill": {
           "color": "#C2D4FF"
          },
          "values": [
           "Students",
           "Assign1",
           "Assign2",
           "Assign3",
           "Assign4",
           "Assign5",
           "Assign6",
           "Assign7",
           "Assign8",
           "Assign9",
           "Assign10"
          ]
         },
         "type": "table",
         "uid": "c34324d8-fae4-11e8-b19a-e35ea5c620f6"
        }
       ],
       "layout": {}
      },
      "text/html": [
       "<div id=\"966ec3cf-d6f9-4ba1-a88e-af5ae8f1fa01\" style=\"height: 525px; width: 100%;\" class=\"plotly-graph-div\"></div><script type=\"text/javascript\">require([\"plotly\"], function(Plotly) { window.PLOTLYENV=window.PLOTLYENV || {};window.PLOTLYENV.BASE_URL=\"https://plot.ly\";Plotly.newPlot(\"966ec3cf-d6f9-4ba1-a88e-af5ae8f1fa01\", [{\"cells\": {\"align\": [\"left\", \"center\"], \"fill\": {\"color\": \"#F5F8FF\"}, \"values\": [[\"ALMIRA\", \"ANAZIRA\", \"DAFINE\", \"DILZA\", \"ELIDO\", \"ERILIO\", \"GIUSEPPE\", \"IDELMARIA\", \"ISABELI\", \"IZILDA\", \"JOCIQUELE\", \"KARIANY\", \"MESSODY\", \"NARIELE\", \"OTO\", \"ROSALHA\", \"SELESTRINO\", \"TIARA\", \"UDILSON\", \"URSULLA\"], [0, 0, 1, 1, 1, 0, 0, 1, 1, 0, 1, 0, 0, 0, 1, 0, 0, 1, 1, 0], [0, 1, 1, 0, 0, 1, 1, 1, 1, 0, 1, 1, 0, 0, 0, 1, 0, 0, 1, 0], [0, 0, 0, 1, 0, 1, 0, 0, 1, 0, 0, 1, 0, 0, 1, 0, 1, 0, 1, 1], [1, 1, 0, 0, 1, 0, 1, 0, 0, 0, 0, 1, 1, 0, 1, 1, 0, 1, 1, 0], [0, 1, 1, 0, 0, 0, 1, 0, 0, 1, 1, 0, 0, 0, 0, 0, 1, 0, 0, 0], [0, 0, 1, 0, 1, 0, 1, 0, 0, 0, 0, 0, 0, 0, 1, 1, 0, 0, 1, 0], [1, 0, 0, 0, 0, 1, 0, 1, 0, 1, 1, 0, 1, 1, 0, 0, 1, 1, 0, 1], [0, 0, 0, 1, 0, 1, 0, 1, 1, 1, 1, 0, 0, 0, 0, 0, 1, 0, 1, 0], [0, 1, 0, 1, 0, 0, 0, 1, 0, 1, 0, 0, 1, 1, 0, 1, 0, 0, 1, 1], [1, 0, 1, 0, 0, 0, 1, 1, 1, 0, 0, 0, 0, 0, 1, 0, 0, 0, 0, 0]]}, \"header\": {\"align\": \"center\", \"fill\": {\"color\": \"#C2D4FF\"}, \"values\": [\"Students\", \"Assign1\", \"Assign2\", \"Assign3\", \"Assign4\", \"Assign5\", \"Assign6\", \"Assign7\", \"Assign8\", \"Assign9\", \"Assign10\"]}, \"type\": \"table\", \"uid\": \"c36d70bc-fae4-11e8-b19a-e35ea5c620f6\"}], {}, {\"showLink\": true, \"linkText\": \"Export to plot.ly\"})});</script>"
      ],
      "text/vnd.plotly.v1+html": [
       "<div id=\"966ec3cf-d6f9-4ba1-a88e-af5ae8f1fa01\" style=\"height: 525px; width: 100%;\" class=\"plotly-graph-div\"></div><script type=\"text/javascript\">require([\"plotly\"], function(Plotly) { window.PLOTLYENV=window.PLOTLYENV || {};window.PLOTLYENV.BASE_URL=\"https://plot.ly\";Plotly.newPlot(\"966ec3cf-d6f9-4ba1-a88e-af5ae8f1fa01\", [{\"cells\": {\"align\": [\"left\", \"center\"], \"fill\": {\"color\": \"#F5F8FF\"}, \"values\": [[\"ALMIRA\", \"ANAZIRA\", \"DAFINE\", \"DILZA\", \"ELIDO\", \"ERILIO\", \"GIUSEPPE\", \"IDELMARIA\", \"ISABELI\", \"IZILDA\", \"JOCIQUELE\", \"KARIANY\", \"MESSODY\", \"NARIELE\", \"OTO\", \"ROSALHA\", \"SELESTRINO\", \"TIARA\", \"UDILSON\", \"URSULLA\"], [0, 0, 1, 1, 1, 0, 0, 1, 1, 0, 1, 0, 0, 0, 1, 0, 0, 1, 1, 0], [0, 1, 1, 0, 0, 1, 1, 1, 1, 0, 1, 1, 0, 0, 0, 1, 0, 0, 1, 0], [0, 0, 0, 1, 0, 1, 0, 0, 1, 0, 0, 1, 0, 0, 1, 0, 1, 0, 1, 1], [1, 1, 0, 0, 1, 0, 1, 0, 0, 0, 0, 1, 1, 0, 1, 1, 0, 1, 1, 0], [0, 1, 1, 0, 0, 0, 1, 0, 0, 1, 1, 0, 0, 0, 0, 0, 1, 0, 0, 0], [0, 0, 1, 0, 1, 0, 1, 0, 0, 0, 0, 0, 0, 0, 1, 1, 0, 0, 1, 0], [1, 0, 0, 0, 0, 1, 0, 1, 0, 1, 1, 0, 1, 1, 0, 0, 1, 1, 0, 1], [0, 0, 0, 1, 0, 1, 0, 1, 1, 1, 1, 0, 0, 0, 0, 0, 1, 0, 1, 0], [0, 1, 0, 1, 0, 0, 0, 1, 0, 1, 0, 0, 1, 1, 0, 1, 0, 0, 1, 1], [1, 0, 1, 0, 0, 0, 1, 1, 1, 0, 0, 0, 0, 0, 1, 0, 0, 0, 0, 0]]}, \"header\": {\"align\": \"center\", \"fill\": {\"color\": \"#C2D4FF\"}, \"values\": [\"Students\", \"Assign1\", \"Assign2\", \"Assign3\", \"Assign4\", \"Assign5\", \"Assign6\", \"Assign7\", \"Assign8\", \"Assign9\", \"Assign10\"]}, \"type\": \"table\", \"uid\": \"c36d70bc-fae4-11e8-b19a-e35ea5c620f6\"}], {}, {\"showLink\": true, \"linkText\": \"Export to plot.ly\"})});</script>"
      ]
     },
     "metadata": {},
     "output_type": "display_data"
    },
    {
     "data": {
      "application/vnd.plotly.v1+json": {
       "data": [
        {
         "type": "bar",
         "uid": "c37dba6c-fae4-11e8-b19a-e35ea5c620f6",
         "x": [
          "ALMIRA",
          "ANAZIRA",
          "DAFINE",
          "DILZA",
          "ELIDO",
          "ERILIO",
          "GIUSEPPE",
          "IDELMARIA",
          "ISABELI",
          "IZILDA",
          "JOCIQUELE",
          "KARIANY",
          "MESSODY",
          "NARIELE",
          "OTO",
          "ROSALHA",
          "SELESTRINO",
          "TIARA",
          "UDILSON",
          "URSULLA"
         ],
         "y": [
          3,
          4,
          5,
          4,
          3,
          4,
          5,
          6,
          5,
          4,
          5,
          3,
          3,
          2,
          5,
          4,
          4,
          3,
          7,
          3
         ]
        }
       ],
       "layout": {
        "title": "Número de tarefas feitas por alunos",
        "xaxis": {
         "title": "",
         "titlefont": {
          "color": "rgb(180,180,180)"
         }
        },
        "yaxis": {
         "dtick": 1,
         "exponentformat": "e",
         "gridcolor": "#bdbdbd",
         "showexponent": "all",
         "showticklabels": true,
         "tick0": 0,
         "title": "Número de atividades",
         "titlefont": {
          "color": "rgb(180,180,180)"
         }
        }
       }
      },
      "text/html": [
       "<div id=\"82d2bc43-d04e-4018-92cf-75b96dbb6888\" style=\"height: 525px; width: 100%;\" class=\"plotly-graph-div\"></div><script type=\"text/javascript\">require([\"plotly\"], function(Plotly) { window.PLOTLYENV=window.PLOTLYENV || {};window.PLOTLYENV.BASE_URL=\"https://plot.ly\";Plotly.newPlot(\"82d2bc43-d04e-4018-92cf-75b96dbb6888\", [{\"x\": [\"ALMIRA\", \"ANAZIRA\", \"DAFINE\", \"DILZA\", \"ELIDO\", \"ERILIO\", \"GIUSEPPE\", \"IDELMARIA\", \"ISABELI\", \"IZILDA\", \"JOCIQUELE\", \"KARIANY\", \"MESSODY\", \"NARIELE\", \"OTO\", \"ROSALHA\", \"SELESTRINO\", \"TIARA\", \"UDILSON\", \"URSULLA\"], \"y\": [3, 4, 5, 4, 3, 4, 5, 6, 5, 4, 5, 3, 3, 2, 5, 4, 4, 3, 7, 3], \"type\": \"bar\", \"uid\": \"c37dba6c-fae4-11e8-b19a-e35ea5c620f6\"}], {\"title\": \"N\\u00famero de tarefas feitas por alunos\", \"xaxis\": {\"title\": \"\", \"titlefont\": {\"color\": \"rgb(180,180,180)\"}}, \"yaxis\": {\"dtick\": 1, \"exponentformat\": \"e\", \"gridcolor\": \"#bdbdbd\", \"showexponent\": \"all\", \"showticklabels\": true, \"tick0\": 0, \"title\": \"N\\u00famero de atividades\", \"titlefont\": {\"color\": \"rgb(180,180,180)\"}}}, {\"showLink\": true, \"linkText\": \"Export to plot.ly\"})});</script>"
      ],
      "text/vnd.plotly.v1+html": [
       "<div id=\"82d2bc43-d04e-4018-92cf-75b96dbb6888\" style=\"height: 525px; width: 100%;\" class=\"plotly-graph-div\"></div><script type=\"text/javascript\">require([\"plotly\"], function(Plotly) { window.PLOTLYENV=window.PLOTLYENV || {};window.PLOTLYENV.BASE_URL=\"https://plot.ly\";Plotly.newPlot(\"82d2bc43-d04e-4018-92cf-75b96dbb6888\", [{\"x\": [\"ALMIRA\", \"ANAZIRA\", \"DAFINE\", \"DILZA\", \"ELIDO\", \"ERILIO\", \"GIUSEPPE\", \"IDELMARIA\", \"ISABELI\", \"IZILDA\", \"JOCIQUELE\", \"KARIANY\", \"MESSODY\", \"NARIELE\", \"OTO\", \"ROSALHA\", \"SELESTRINO\", \"TIARA\", \"UDILSON\", \"URSULLA\"], \"y\": [3, 4, 5, 4, 3, 4, 5, 6, 5, 4, 5, 3, 3, 2, 5, 4, 4, 3, 7, 3], \"type\": \"bar\", \"uid\": \"c37dba6c-fae4-11e8-b19a-e35ea5c620f6\"}], {\"title\": \"N\\u00famero de tarefas feitas por alunos\", \"xaxis\": {\"title\": \"\", \"titlefont\": {\"color\": \"rgb(180,180,180)\"}}, \"yaxis\": {\"dtick\": 1, \"exponentformat\": \"e\", \"gridcolor\": \"#bdbdbd\", \"showexponent\": \"all\", \"showticklabels\": true, \"tick0\": 0, \"title\": \"N\\u00famero de atividades\", \"titlefont\": {\"color\": \"rgb(180,180,180)\"}}}, {\"showLink\": true, \"linkText\": \"Export to plot.ly\"})});</script>"
      ]
     },
     "metadata": {},
     "output_type": "display_data"
    },
    {
     "data": {
      "application/vnd.plotly.v1+json": {
       "data": [
        {
         "type": "bar",
         "uid": "c3825612-fae4-11e8-b19a-e35ea5c620f6",
         "x": [
          "NARIELE",
          "ALMIRA",
          "ELIDO",
          "KARIANY",
          "MESSODY",
          "TIARA",
          "URSULLA",
          "ANAZIRA",
          "DILZA",
          "ERILIO",
          "IZILDA",
          "ROSALHA",
          "SELESTRINO",
          "DAFINE",
          "GIUSEPPE",
          "ISABELI",
          "JOCIQUELE",
          "OTO",
          "IDELMARIA",
          "UDILSON"
         ],
         "y": [
          2,
          3,
          3,
          3,
          3,
          3,
          3,
          4,
          4,
          4,
          4,
          4,
          4,
          5,
          5,
          5,
          5,
          5,
          6,
          7
         ]
        }
       ],
       "layout": {
        "title": "Número de tarefas feitas por alunos",
        "xaxis": {
         "title": "",
         "titlefont": {
          "color": "rgb(180,180,180)"
         }
        },
        "yaxis": {
         "dtick": 1,
         "exponentformat": "e",
         "gridcolor": "#bdbdbd",
         "showexponent": "all",
         "showticklabels": true,
         "tick0": 0,
         "title": "Número de atividades",
         "titlefont": {
          "color": "rgb(180,180,180)"
         }
        }
       }
      },
      "text/html": [
       "<div id=\"281164bc-b826-49e4-b3b5-8e079edf5df7\" style=\"height: 525px; width: 100%;\" class=\"plotly-graph-div\"></div><script type=\"text/javascript\">require([\"plotly\"], function(Plotly) { window.PLOTLYENV=window.PLOTLYENV || {};window.PLOTLYENV.BASE_URL=\"https://plot.ly\";Plotly.newPlot(\"281164bc-b826-49e4-b3b5-8e079edf5df7\", [{\"x\": [\"NARIELE\", \"ALMIRA\", \"ELIDO\", \"KARIANY\", \"MESSODY\", \"TIARA\", \"URSULLA\", \"ANAZIRA\", \"DILZA\", \"ERILIO\", \"IZILDA\", \"ROSALHA\", \"SELESTRINO\", \"DAFINE\", \"GIUSEPPE\", \"ISABELI\", \"JOCIQUELE\", \"OTO\", \"IDELMARIA\", \"UDILSON\"], \"y\": [2, 3, 3, 3, 3, 3, 3, 4, 4, 4, 4, 4, 4, 5, 5, 5, 5, 5, 6, 7], \"type\": \"bar\", \"uid\": \"c3825612-fae4-11e8-b19a-e35ea5c620f6\"}], {\"title\": \"N\\u00famero de tarefas feitas por alunos\", \"xaxis\": {\"title\": \"\", \"titlefont\": {\"color\": \"rgb(180,180,180)\"}}, \"yaxis\": {\"dtick\": 1, \"exponentformat\": \"e\", \"gridcolor\": \"#bdbdbd\", \"showexponent\": \"all\", \"showticklabels\": true, \"tick0\": 0, \"title\": \"N\\u00famero de atividades\", \"titlefont\": {\"color\": \"rgb(180,180,180)\"}}}, {\"showLink\": true, \"linkText\": \"Export to plot.ly\"})});</script>"
      ],
      "text/vnd.plotly.v1+html": [
       "<div id=\"281164bc-b826-49e4-b3b5-8e079edf5df7\" style=\"height: 525px; width: 100%;\" class=\"plotly-graph-div\"></div><script type=\"text/javascript\">require([\"plotly\"], function(Plotly) { window.PLOTLYENV=window.PLOTLYENV || {};window.PLOTLYENV.BASE_URL=\"https://plot.ly\";Plotly.newPlot(\"281164bc-b826-49e4-b3b5-8e079edf5df7\", [{\"x\": [\"NARIELE\", \"ALMIRA\", \"ELIDO\", \"KARIANY\", \"MESSODY\", \"TIARA\", \"URSULLA\", \"ANAZIRA\", \"DILZA\", \"ERILIO\", \"IZILDA\", \"ROSALHA\", \"SELESTRINO\", \"DAFINE\", \"GIUSEPPE\", \"ISABELI\", \"JOCIQUELE\", \"OTO\", \"IDELMARIA\", \"UDILSON\"], \"y\": [2, 3, 3, 3, 3, 3, 3, 4, 4, 4, 4, 4, 4, 5, 5, 5, 5, 5, 6, 7], \"type\": \"bar\", \"uid\": \"c3825612-fae4-11e8-b19a-e35ea5c620f6\"}], {\"title\": \"N\\u00famero de tarefas feitas por alunos\", \"xaxis\": {\"title\": \"\", \"titlefont\": {\"color\": \"rgb(180,180,180)\"}}, \"yaxis\": {\"dtick\": 1, \"exponentformat\": \"e\", \"gridcolor\": \"#bdbdbd\", \"showexponent\": \"all\", \"showticklabels\": true, \"tick0\": 0, \"title\": \"N\\u00famero de atividades\", \"titlefont\": {\"color\": \"rgb(180,180,180)\"}}}, {\"showLink\": true, \"linkText\": \"Export to plot.ly\"})});</script>"
      ]
     },
     "metadata": {},
     "output_type": "display_data"
    },
    {
     "data": {
      "application/vnd.plotly.v1+json": {
       "data": [
        {
         "orientation": "h",
         "type": "bar",
         "uid": "c3870126-fae4-11e8-b19a-e35ea5c620f6",
         "x": [
          3,
          4,
          5,
          4,
          3,
          4,
          5,
          6,
          5,
          4,
          5,
          3,
          3,
          2,
          5,
          4,
          4,
          3,
          7,
          3
         ],
         "y": [
          "ALMIRA",
          "ANAZIRA",
          "DAFINE",
          "DILZA",
          "ELIDO",
          "ERILIO",
          "GIUSEPPE",
          "IDELMARIA",
          "ISABELI",
          "IZILDA",
          "JOCIQUELE",
          "KARIANY",
          "MESSODY",
          "NARIELE",
          "OTO",
          "ROSALHA",
          "SELESTRINO",
          "TIARA",
          "UDILSON",
          "URSULLA"
         ]
        }
       ],
       "layout": {
        "title": "Número de tarefas feitas por alunos",
        "xaxis": {
         "dtick": 1,
         "tick0": 0,
         "title": "Número de atividades",
         "titlefont": {
          "color": "rgb(180,180,180)"
         }
        },
        "yaxis": {
         "dtick": 1,
         "exponentformat": "e",
         "gridcolor": "#bdbdbd",
         "showexponent": "all",
         "showticklabels": true,
         "tick0": 0,
         "title": "",
         "titlefont": {
          "color": "rgb(180,180,180)"
         }
        }
       }
      },
      "text/html": [
       "<div id=\"322a0d39-28f1-4fe5-b8cc-a9d6f60dff9a\" style=\"height: 525px; width: 100%;\" class=\"plotly-graph-div\"></div><script type=\"text/javascript\">require([\"plotly\"], function(Plotly) { window.PLOTLYENV=window.PLOTLYENV || {};window.PLOTLYENV.BASE_URL=\"https://plot.ly\";Plotly.newPlot(\"322a0d39-28f1-4fe5-b8cc-a9d6f60dff9a\", [{\"orientation\": \"h\", \"x\": [3, 4, 5, 4, 3, 4, 5, 6, 5, 4, 5, 3, 3, 2, 5, 4, 4, 3, 7, 3], \"y\": [\"ALMIRA\", \"ANAZIRA\", \"DAFINE\", \"DILZA\", \"ELIDO\", \"ERILIO\", \"GIUSEPPE\", \"IDELMARIA\", \"ISABELI\", \"IZILDA\", \"JOCIQUELE\", \"KARIANY\", \"MESSODY\", \"NARIELE\", \"OTO\", \"ROSALHA\", \"SELESTRINO\", \"TIARA\", \"UDILSON\", \"URSULLA\"], \"type\": \"bar\", \"uid\": \"c3870126-fae4-11e8-b19a-e35ea5c620f6\"}], {\"title\": \"N\\u00famero de tarefas feitas por alunos\", \"xaxis\": {\"dtick\": 1, \"tick0\": 0, \"title\": \"N\\u00famero de atividades\", \"titlefont\": {\"color\": \"rgb(180,180,180)\"}}, \"yaxis\": {\"dtick\": 1, \"exponentformat\": \"e\", \"gridcolor\": \"#bdbdbd\", \"showexponent\": \"all\", \"showticklabels\": true, \"tick0\": 0, \"title\": \"\", \"titlefont\": {\"color\": \"rgb(180,180,180)\"}}}, {\"showLink\": true, \"linkText\": \"Export to plot.ly\"})});</script>"
      ],
      "text/vnd.plotly.v1+html": [
       "<div id=\"322a0d39-28f1-4fe5-b8cc-a9d6f60dff9a\" style=\"height: 525px; width: 100%;\" class=\"plotly-graph-div\"></div><script type=\"text/javascript\">require([\"plotly\"], function(Plotly) { window.PLOTLYENV=window.PLOTLYENV || {};window.PLOTLYENV.BASE_URL=\"https://plot.ly\";Plotly.newPlot(\"322a0d39-28f1-4fe5-b8cc-a9d6f60dff9a\", [{\"orientation\": \"h\", \"x\": [3, 4, 5, 4, 3, 4, 5, 6, 5, 4, 5, 3, 3, 2, 5, 4, 4, 3, 7, 3], \"y\": [\"ALMIRA\", \"ANAZIRA\", \"DAFINE\", \"DILZA\", \"ELIDO\", \"ERILIO\", \"GIUSEPPE\", \"IDELMARIA\", \"ISABELI\", \"IZILDA\", \"JOCIQUELE\", \"KARIANY\", \"MESSODY\", \"NARIELE\", \"OTO\", \"ROSALHA\", \"SELESTRINO\", \"TIARA\", \"UDILSON\", \"URSULLA\"], \"type\": \"bar\", \"uid\": \"c3870126-fae4-11e8-b19a-e35ea5c620f6\"}], {\"title\": \"N\\u00famero de tarefas feitas por alunos\", \"xaxis\": {\"dtick\": 1, \"tick0\": 0, \"title\": \"N\\u00famero de atividades\", \"titlefont\": {\"color\": \"rgb(180,180,180)\"}}, \"yaxis\": {\"dtick\": 1, \"exponentformat\": \"e\", \"gridcolor\": \"#bdbdbd\", \"showexponent\": \"all\", \"showticklabels\": true, \"tick0\": 0, \"title\": \"\", \"titlefont\": {\"color\": \"rgb(180,180,180)\"}}}, {\"showLink\": true, \"linkText\": \"Export to plot.ly\"})});</script>"
      ]
     },
     "metadata": {},
     "output_type": "display_data"
    },
    {
     "data": {
      "application/vnd.plotly.v1+json": {
       "data": [
        {
         "orientation": "h",
         "type": "bar",
         "uid": "c396f48c-fae4-11e8-b19a-e35ea5c620f6",
         "x": [
          2,
          3,
          3,
          3,
          3,
          3,
          3,
          4,
          4,
          4,
          4,
          4,
          4,
          5,
          5,
          5,
          5,
          5,
          6,
          7
         ],
         "y": [
          "NARIELE",
          "ALMIRA",
          "ELIDO",
          "KARIANY",
          "MESSODY",
          "TIARA",
          "URSULLA",
          "ANAZIRA",
          "DILZA",
          "ERILIO",
          "IZILDA",
          "ROSALHA",
          "SELESTRINO",
          "DAFINE",
          "GIUSEPPE",
          "ISABELI",
          "JOCIQUELE",
          "OTO",
          "IDELMARIA",
          "UDILSON"
         ]
        }
       ],
       "layout": {
        "title": "Número de tarefas feitas por alunos",
        "xaxis": {
         "dtick": 1,
         "tick0": 0,
         "title": "Número de atividades",
         "titlefont": {
          "color": "rgb(180,180,180)"
         }
        },
        "yaxis": {
         "dtick": 1,
         "exponentformat": "e",
         "gridcolor": "#bdbdbd",
         "showexponent": "all",
         "showticklabels": true,
         "tick0": 0,
         "title": "",
         "titlefont": {
          "color": "rgb(180,180,180)"
         }
        }
       }
      },
      "text/html": [
       "<div id=\"a43767d8-8013-4ae6-ac2b-cc2c3216c336\" style=\"height: 525px; width: 100%;\" class=\"plotly-graph-div\"></div><script type=\"text/javascript\">require([\"plotly\"], function(Plotly) { window.PLOTLYENV=window.PLOTLYENV || {};window.PLOTLYENV.BASE_URL=\"https://plot.ly\";Plotly.newPlot(\"a43767d8-8013-4ae6-ac2b-cc2c3216c336\", [{\"orientation\": \"h\", \"x\": [2, 3, 3, 3, 3, 3, 3, 4, 4, 4, 4, 4, 4, 5, 5, 5, 5, 5, 6, 7], \"y\": [\"NARIELE\", \"ALMIRA\", \"ELIDO\", \"KARIANY\", \"MESSODY\", \"TIARA\", \"URSULLA\", \"ANAZIRA\", \"DILZA\", \"ERILIO\", \"IZILDA\", \"ROSALHA\", \"SELESTRINO\", \"DAFINE\", \"GIUSEPPE\", \"ISABELI\", \"JOCIQUELE\", \"OTO\", \"IDELMARIA\", \"UDILSON\"], \"type\": \"bar\", \"uid\": \"c396f48c-fae4-11e8-b19a-e35ea5c620f6\"}], {\"title\": \"N\\u00famero de tarefas feitas por alunos\", \"xaxis\": {\"dtick\": 1, \"tick0\": 0, \"title\": \"N\\u00famero de atividades\", \"titlefont\": {\"color\": \"rgb(180,180,180)\"}}, \"yaxis\": {\"dtick\": 1, \"exponentformat\": \"e\", \"gridcolor\": \"#bdbdbd\", \"showexponent\": \"all\", \"showticklabels\": true, \"tick0\": 0, \"title\": \"\", \"titlefont\": {\"color\": \"rgb(180,180,180)\"}}}, {\"showLink\": true, \"linkText\": \"Export to plot.ly\"})});</script>"
      ],
      "text/vnd.plotly.v1+html": [
       "<div id=\"a43767d8-8013-4ae6-ac2b-cc2c3216c336\" style=\"height: 525px; width: 100%;\" class=\"plotly-graph-div\"></div><script type=\"text/javascript\">require([\"plotly\"], function(Plotly) { window.PLOTLYENV=window.PLOTLYENV || {};window.PLOTLYENV.BASE_URL=\"https://plot.ly\";Plotly.newPlot(\"a43767d8-8013-4ae6-ac2b-cc2c3216c336\", [{\"orientation\": \"h\", \"x\": [2, 3, 3, 3, 3, 3, 3, 4, 4, 4, 4, 4, 4, 5, 5, 5, 5, 5, 6, 7], \"y\": [\"NARIELE\", \"ALMIRA\", \"ELIDO\", \"KARIANY\", \"MESSODY\", \"TIARA\", \"URSULLA\", \"ANAZIRA\", \"DILZA\", \"ERILIO\", \"IZILDA\", \"ROSALHA\", \"SELESTRINO\", \"DAFINE\", \"GIUSEPPE\", \"ISABELI\", \"JOCIQUELE\", \"OTO\", \"IDELMARIA\", \"UDILSON\"], \"type\": \"bar\", \"uid\": \"c396f48c-fae4-11e8-b19a-e35ea5c620f6\"}], {\"title\": \"N\\u00famero de tarefas feitas por alunos\", \"xaxis\": {\"dtick\": 1, \"tick0\": 0, \"title\": \"N\\u00famero de atividades\", \"titlefont\": {\"color\": \"rgb(180,180,180)\"}}, \"yaxis\": {\"dtick\": 1, \"exponentformat\": \"e\", \"gridcolor\": \"#bdbdbd\", \"showexponent\": \"all\", \"showticklabels\": true, \"tick0\": 0, \"title\": \"\", \"titlefont\": {\"color\": \"rgb(180,180,180)\"}}}, {\"showLink\": true, \"linkText\": \"Export to plot.ly\"})});</script>"
      ]
     },
     "metadata": {},
     "output_type": "display_data"
    },
    {
     "data": {
      "application/vnd.plotly.v1+json": {
       "data": [
        {
         "marker": {
          "color": "rgb(255,126,24)"
         },
         "type": "bar",
         "uid": "c39bbb48-fae4-11e8-b19a-e35ea5c620f6",
         "x": [
          "ALMIRA",
          "ANAZIRA",
          "DAFINE",
          "DILZA",
          "ELIDO",
          "ERILIO",
          "GIUSEPPE",
          "IDELMARIA",
          "ISABELI",
          "IZILDA",
          "JOCIQUELE",
          "KARIANY",
          "MESSODY",
          "NARIELE",
          "OTO",
          "ROSALHA",
          "SELESTRINO",
          "TIARA",
          "UDILSON",
          "URSULLA"
         ],
         "y": [
          7,
          6,
          5,
          6,
          7,
          6,
          5,
          4,
          5,
          6,
          5,
          7,
          7,
          8,
          5,
          6,
          6,
          7,
          3,
          7
         ]
        }
       ],
       "layout": {
        "title": "Quantidade de tarefas <b>não</b> feitas por alunos",
        "xaxis": {
         "title": "",
         "titlefont": {
          "color": "rgb(180,180,180)"
         }
        },
        "yaxis": {
         "dtick": 1,
         "exponentformat": "e",
         "gridcolor": "#bdbdbd",
         "showexponent": "all",
         "showticklabels": true,
         "tick0": 0,
         "title": "Número de atividades",
         "titlefont": {
          "color": "rgb(180,180,180)"
         }
        }
       }
      },
      "text/html": [
       "<div id=\"889ead44-b67e-4642-8b37-ebe47dc8c83c\" style=\"height: 525px; width: 100%;\" class=\"plotly-graph-div\"></div><script type=\"text/javascript\">require([\"plotly\"], function(Plotly) { window.PLOTLYENV=window.PLOTLYENV || {};window.PLOTLYENV.BASE_URL=\"https://plot.ly\";Plotly.newPlot(\"889ead44-b67e-4642-8b37-ebe47dc8c83c\", [{\"marker\": {\"color\": \"rgb(255,126,24)\"}, \"x\": [\"ALMIRA\", \"ANAZIRA\", \"DAFINE\", \"DILZA\", \"ELIDO\", \"ERILIO\", \"GIUSEPPE\", \"IDELMARIA\", \"ISABELI\", \"IZILDA\", \"JOCIQUELE\", \"KARIANY\", \"MESSODY\", \"NARIELE\", \"OTO\", \"ROSALHA\", \"SELESTRINO\", \"TIARA\", \"UDILSON\", \"URSULLA\"], \"y\": [7, 6, 5, 6, 7, 6, 5, 4, 5, 6, 5, 7, 7, 8, 5, 6, 6, 7, 3, 7], \"type\": \"bar\", \"uid\": \"c39bbb48-fae4-11e8-b19a-e35ea5c620f6\"}], {\"title\": \"Quantidade de tarefas <b>n\\u00e3o</b> feitas por alunos\", \"xaxis\": {\"title\": \"\", \"titlefont\": {\"color\": \"rgb(180,180,180)\"}}, \"yaxis\": {\"dtick\": 1, \"exponentformat\": \"e\", \"gridcolor\": \"#bdbdbd\", \"showexponent\": \"all\", \"showticklabels\": true, \"tick0\": 0, \"title\": \"N\\u00famero de atividades\", \"titlefont\": {\"color\": \"rgb(180,180,180)\"}}}, {\"showLink\": true, \"linkText\": \"Export to plot.ly\"})});</script>"
      ],
      "text/vnd.plotly.v1+html": [
       "<div id=\"889ead44-b67e-4642-8b37-ebe47dc8c83c\" style=\"height: 525px; width: 100%;\" class=\"plotly-graph-div\"></div><script type=\"text/javascript\">require([\"plotly\"], function(Plotly) { window.PLOTLYENV=window.PLOTLYENV || {};window.PLOTLYENV.BASE_URL=\"https://plot.ly\";Plotly.newPlot(\"889ead44-b67e-4642-8b37-ebe47dc8c83c\", [{\"marker\": {\"color\": \"rgb(255,126,24)\"}, \"x\": [\"ALMIRA\", \"ANAZIRA\", \"DAFINE\", \"DILZA\", \"ELIDO\", \"ERILIO\", \"GIUSEPPE\", \"IDELMARIA\", \"ISABELI\", \"IZILDA\", \"JOCIQUELE\", \"KARIANY\", \"MESSODY\", \"NARIELE\", \"OTO\", \"ROSALHA\", \"SELESTRINO\", \"TIARA\", \"UDILSON\", \"URSULLA\"], \"y\": [7, 6, 5, 6, 7, 6, 5, 4, 5, 6, 5, 7, 7, 8, 5, 6, 6, 7, 3, 7], \"type\": \"bar\", \"uid\": \"c39bbb48-fae4-11e8-b19a-e35ea5c620f6\"}], {\"title\": \"Quantidade de tarefas <b>n\\u00e3o</b> feitas por alunos\", \"xaxis\": {\"title\": \"\", \"titlefont\": {\"color\": \"rgb(180,180,180)\"}}, \"yaxis\": {\"dtick\": 1, \"exponentformat\": \"e\", \"gridcolor\": \"#bdbdbd\", \"showexponent\": \"all\", \"showticklabels\": true, \"tick0\": 0, \"title\": \"N\\u00famero de atividades\", \"titlefont\": {\"color\": \"rgb(180,180,180)\"}}}, {\"showLink\": true, \"linkText\": \"Export to plot.ly\"})});</script>"
      ]
     },
     "metadata": {},
     "output_type": "display_data"
    },
    {
     "data": {
      "application/vnd.plotly.v1+json": {
       "data": [
        {
         "marker": {
          "color": "rgb(255,126,24)"
         },
         "type": "bar",
         "uid": "c3a0e140-fae4-11e8-b19a-e35ea5c620f6",
         "x": [
          "UDILSON",
          "IDELMARIA",
          "DAFINE",
          "GIUSEPPE",
          "ISABELI",
          "JOCIQUELE",
          "OTO",
          "ANAZIRA",
          "DILZA",
          "ERILIO",
          "IZILDA",
          "ROSALHA",
          "SELESTRINO",
          "ALMIRA",
          "ELIDO",
          "KARIANY",
          "MESSODY",
          "TIARA",
          "URSULLA",
          "NARIELE"
         ],
         "y": [
          3,
          4,
          5,
          5,
          5,
          5,
          5,
          6,
          6,
          6,
          6,
          6,
          6,
          7,
          7,
          7,
          7,
          7,
          7,
          8
         ]
        }
       ],
       "layout": {
        "title": "Quantidade de tarefas <b>não</b> feitas por alunos",
        "xaxis": {
         "title": "",
         "titlefont": {
          "color": "rgb(180,180,180)"
         }
        },
        "yaxis": {
         "dtick": 1,
         "exponentformat": "e",
         "gridcolor": "#bdbdbd",
         "showexponent": "all",
         "showticklabels": true,
         "tick0": 0,
         "title": "Número de atividades",
         "titlefont": {
          "color": "rgb(180,180,180)"
         }
        }
       }
      },
      "text/html": [
       "<div id=\"752a5dcc-b74d-4faf-9d01-05e5e0c89706\" style=\"height: 525px; width: 100%;\" class=\"plotly-graph-div\"></div><script type=\"text/javascript\">require([\"plotly\"], function(Plotly) { window.PLOTLYENV=window.PLOTLYENV || {};window.PLOTLYENV.BASE_URL=\"https://plot.ly\";Plotly.newPlot(\"752a5dcc-b74d-4faf-9d01-05e5e0c89706\", [{\"marker\": {\"color\": \"rgb(255,126,24)\"}, \"x\": [\"UDILSON\", \"IDELMARIA\", \"DAFINE\", \"GIUSEPPE\", \"ISABELI\", \"JOCIQUELE\", \"OTO\", \"ANAZIRA\", \"DILZA\", \"ERILIO\", \"IZILDA\", \"ROSALHA\", \"SELESTRINO\", \"ALMIRA\", \"ELIDO\", \"KARIANY\", \"MESSODY\", \"TIARA\", \"URSULLA\", \"NARIELE\"], \"y\": [3, 4, 5, 5, 5, 5, 5, 6, 6, 6, 6, 6, 6, 7, 7, 7, 7, 7, 7, 8], \"type\": \"bar\", \"uid\": \"c3a0e140-fae4-11e8-b19a-e35ea5c620f6\"}], {\"title\": \"Quantidade de tarefas <b>n\\u00e3o</b> feitas por alunos\", \"xaxis\": {\"title\": \"\", \"titlefont\": {\"color\": \"rgb(180,180,180)\"}}, \"yaxis\": {\"dtick\": 1, \"exponentformat\": \"e\", \"gridcolor\": \"#bdbdbd\", \"showexponent\": \"all\", \"showticklabels\": true, \"tick0\": 0, \"title\": \"N\\u00famero de atividades\", \"titlefont\": {\"color\": \"rgb(180,180,180)\"}}}, {\"showLink\": true, \"linkText\": \"Export to plot.ly\"})});</script>"
      ],
      "text/vnd.plotly.v1+html": [
       "<div id=\"752a5dcc-b74d-4faf-9d01-05e5e0c89706\" style=\"height: 525px; width: 100%;\" class=\"plotly-graph-div\"></div><script type=\"text/javascript\">require([\"plotly\"], function(Plotly) { window.PLOTLYENV=window.PLOTLYENV || {};window.PLOTLYENV.BASE_URL=\"https://plot.ly\";Plotly.newPlot(\"752a5dcc-b74d-4faf-9d01-05e5e0c89706\", [{\"marker\": {\"color\": \"rgb(255,126,24)\"}, \"x\": [\"UDILSON\", \"IDELMARIA\", \"DAFINE\", \"GIUSEPPE\", \"ISABELI\", \"JOCIQUELE\", \"OTO\", \"ANAZIRA\", \"DILZA\", \"ERILIO\", \"IZILDA\", \"ROSALHA\", \"SELESTRINO\", \"ALMIRA\", \"ELIDO\", \"KARIANY\", \"MESSODY\", \"TIARA\", \"URSULLA\", \"NARIELE\"], \"y\": [3, 4, 5, 5, 5, 5, 5, 6, 6, 6, 6, 6, 6, 7, 7, 7, 7, 7, 7, 8], \"type\": \"bar\", \"uid\": \"c3a0e140-fae4-11e8-b19a-e35ea5c620f6\"}], {\"title\": \"Quantidade de tarefas <b>n\\u00e3o</b> feitas por alunos\", \"xaxis\": {\"title\": \"\", \"titlefont\": {\"color\": \"rgb(180,180,180)\"}}, \"yaxis\": {\"dtick\": 1, \"exponentformat\": \"e\", \"gridcolor\": \"#bdbdbd\", \"showexponent\": \"all\", \"showticklabels\": true, \"tick0\": 0, \"title\": \"N\\u00famero de atividades\", \"titlefont\": {\"color\": \"rgb(180,180,180)\"}}}, {\"showLink\": true, \"linkText\": \"Export to plot.ly\"})});</script>"
      ]
     },
     "metadata": {},
     "output_type": "display_data"
    },
    {
     "data": {
      "application/vnd.plotly.v1+json": {
       "data": [
        {
         "marker": {
          "color": "rgb(255,126,24)"
         },
         "orientation": "h",
         "type": "bar",
         "uid": "c3a61bb0-fae4-11e8-b19a-e35ea5c620f6",
         "x": [
          7,
          6,
          5,
          6,
          7,
          6,
          5,
          4,
          5,
          6,
          5,
          7,
          7,
          8,
          5,
          6,
          6,
          7,
          3,
          7
         ],
         "y": [
          "ALMIRA",
          "ANAZIRA",
          "DAFINE",
          "DILZA",
          "ELIDO",
          "ERILIO",
          "GIUSEPPE",
          "IDELMARIA",
          "ISABELI",
          "IZILDA",
          "JOCIQUELE",
          "KARIANY",
          "MESSODY",
          "NARIELE",
          "OTO",
          "ROSALHA",
          "SELESTRINO",
          "TIARA",
          "UDILSON",
          "URSULLA"
         ]
        }
       ],
       "layout": {
        "title": "Quantidade de tarefas <b>não</b> feitas por alunos",
        "xaxis": {
         "dtick": 1,
         "tick0": 0,
         "title": "Número de atividades",
         "titlefont": {
          "color": "rgb(180,180,180)"
         }
        },
        "yaxis": {
         "dtick": 1,
         "exponentformat": "e",
         "gridcolor": "#bdbdbd",
         "showexponent": "all",
         "showticklabels": true,
         "tick0": 0,
         "title": "",
         "titlefont": {
          "color": "rgb(180,180,180)"
         }
        }
       }
      },
      "text/html": [
       "<div id=\"a455c487-72fe-4af3-a789-7ce77886e744\" style=\"height: 525px; width: 100%;\" class=\"plotly-graph-div\"></div><script type=\"text/javascript\">require([\"plotly\"], function(Plotly) { window.PLOTLYENV=window.PLOTLYENV || {};window.PLOTLYENV.BASE_URL=\"https://plot.ly\";Plotly.newPlot(\"a455c487-72fe-4af3-a789-7ce77886e744\", [{\"marker\": {\"color\": \"rgb(255,126,24)\"}, \"orientation\": \"h\", \"x\": [7, 6, 5, 6, 7, 6, 5, 4, 5, 6, 5, 7, 7, 8, 5, 6, 6, 7, 3, 7], \"y\": [\"ALMIRA\", \"ANAZIRA\", \"DAFINE\", \"DILZA\", \"ELIDO\", \"ERILIO\", \"GIUSEPPE\", \"IDELMARIA\", \"ISABELI\", \"IZILDA\", \"JOCIQUELE\", \"KARIANY\", \"MESSODY\", \"NARIELE\", \"OTO\", \"ROSALHA\", \"SELESTRINO\", \"TIARA\", \"UDILSON\", \"URSULLA\"], \"type\": \"bar\", \"uid\": \"c3a61bb0-fae4-11e8-b19a-e35ea5c620f6\"}], {\"title\": \"Quantidade de tarefas <b>n\\u00e3o</b> feitas por alunos\", \"xaxis\": {\"dtick\": 1, \"tick0\": 0, \"title\": \"N\\u00famero de atividades\", \"titlefont\": {\"color\": \"rgb(180,180,180)\"}}, \"yaxis\": {\"dtick\": 1, \"exponentformat\": \"e\", \"gridcolor\": \"#bdbdbd\", \"showexponent\": \"all\", \"showticklabels\": true, \"tick0\": 0, \"title\": \"\", \"titlefont\": {\"color\": \"rgb(180,180,180)\"}}}, {\"showLink\": true, \"linkText\": \"Export to plot.ly\"})});</script>"
      ],
      "text/vnd.plotly.v1+html": [
       "<div id=\"a455c487-72fe-4af3-a789-7ce77886e744\" style=\"height: 525px; width: 100%;\" class=\"plotly-graph-div\"></div><script type=\"text/javascript\">require([\"plotly\"], function(Plotly) { window.PLOTLYENV=window.PLOTLYENV || {};window.PLOTLYENV.BASE_URL=\"https://plot.ly\";Plotly.newPlot(\"a455c487-72fe-4af3-a789-7ce77886e744\", [{\"marker\": {\"color\": \"rgb(255,126,24)\"}, \"orientation\": \"h\", \"x\": [7, 6, 5, 6, 7, 6, 5, 4, 5, 6, 5, 7, 7, 8, 5, 6, 6, 7, 3, 7], \"y\": [\"ALMIRA\", \"ANAZIRA\", \"DAFINE\", \"DILZA\", \"ELIDO\", \"ERILIO\", \"GIUSEPPE\", \"IDELMARIA\", \"ISABELI\", \"IZILDA\", \"JOCIQUELE\", \"KARIANY\", \"MESSODY\", \"NARIELE\", \"OTO\", \"ROSALHA\", \"SELESTRINO\", \"TIARA\", \"UDILSON\", \"URSULLA\"], \"type\": \"bar\", \"uid\": \"c3a61bb0-fae4-11e8-b19a-e35ea5c620f6\"}], {\"title\": \"Quantidade de tarefas <b>n\\u00e3o</b> feitas por alunos\", \"xaxis\": {\"dtick\": 1, \"tick0\": 0, \"title\": \"N\\u00famero de atividades\", \"titlefont\": {\"color\": \"rgb(180,180,180)\"}}, \"yaxis\": {\"dtick\": 1, \"exponentformat\": \"e\", \"gridcolor\": \"#bdbdbd\", \"showexponent\": \"all\", \"showticklabels\": true, \"tick0\": 0, \"title\": \"\", \"titlefont\": {\"color\": \"rgb(180,180,180)\"}}}, {\"showLink\": true, \"linkText\": \"Export to plot.ly\"})});</script>"
      ]
     },
     "metadata": {},
     "output_type": "display_data"
    },
    {
     "data": {
      "application/vnd.plotly.v1+json": {
       "data": [
        {
         "marker": {
          "color": "rgb(255,126,24)"
         },
         "orientation": "h",
         "type": "bar",
         "uid": "c3abe75c-fae4-11e8-b19a-e35ea5c620f6",
         "x": [
          3,
          4,
          5,
          5,
          5,
          5,
          5,
          6,
          6,
          6,
          6,
          6,
          6,
          7,
          7,
          7,
          7,
          7,
          7,
          8
         ],
         "y": [
          "UDILSON",
          "IDELMARIA",
          "DAFINE",
          "GIUSEPPE",
          "ISABELI",
          "JOCIQUELE",
          "OTO",
          "ANAZIRA",
          "DILZA",
          "ERILIO",
          "IZILDA",
          "ROSALHA",
          "SELESTRINO",
          "ALMIRA",
          "ELIDO",
          "KARIANY",
          "MESSODY",
          "TIARA",
          "URSULLA",
          "NARIELE"
         ]
        }
       ],
       "layout": {
        "title": "Quantidade de tarefas <b>não</b> feitas por alunos",
        "xaxis": {
         "dtick": 1,
         "tick0": 0,
         "title": "Número de atividades",
         "titlefont": {
          "color": "rgb(180,180,180)"
         }
        },
        "yaxis": {
         "dtick": 1,
         "exponentformat": "e",
         "gridcolor": "#bdbdbd",
         "showexponent": "all",
         "showticklabels": true,
         "tick0": 0,
         "title": "",
         "titlefont": {
          "color": "rgb(180,180,180)"
         }
        }
       }
      },
      "text/html": [
       "<div id=\"bb4ef76b-5a22-4b9f-acb9-19e066241a3f\" style=\"height: 525px; width: 100%;\" class=\"plotly-graph-div\"></div><script type=\"text/javascript\">require([\"plotly\"], function(Plotly) { window.PLOTLYENV=window.PLOTLYENV || {};window.PLOTLYENV.BASE_URL=\"https://plot.ly\";Plotly.newPlot(\"bb4ef76b-5a22-4b9f-acb9-19e066241a3f\", [{\"marker\": {\"color\": \"rgb(255,126,24)\"}, \"orientation\": \"h\", \"x\": [3, 4, 5, 5, 5, 5, 5, 6, 6, 6, 6, 6, 6, 7, 7, 7, 7, 7, 7, 8], \"y\": [\"UDILSON\", \"IDELMARIA\", \"DAFINE\", \"GIUSEPPE\", \"ISABELI\", \"JOCIQUELE\", \"OTO\", \"ANAZIRA\", \"DILZA\", \"ERILIO\", \"IZILDA\", \"ROSALHA\", \"SELESTRINO\", \"ALMIRA\", \"ELIDO\", \"KARIANY\", \"MESSODY\", \"TIARA\", \"URSULLA\", \"NARIELE\"], \"type\": \"bar\", \"uid\": \"c3abe75c-fae4-11e8-b19a-e35ea5c620f6\"}], {\"title\": \"Quantidade de tarefas <b>n\\u00e3o</b> feitas por alunos\", \"xaxis\": {\"dtick\": 1, \"tick0\": 0, \"title\": \"N\\u00famero de atividades\", \"titlefont\": {\"color\": \"rgb(180,180,180)\"}}, \"yaxis\": {\"dtick\": 1, \"exponentformat\": \"e\", \"gridcolor\": \"#bdbdbd\", \"showexponent\": \"all\", \"showticklabels\": true, \"tick0\": 0, \"title\": \"\", \"titlefont\": {\"color\": \"rgb(180,180,180)\"}}}, {\"showLink\": true, \"linkText\": \"Export to plot.ly\"})});</script>"
      ],
      "text/vnd.plotly.v1+html": [
       "<div id=\"bb4ef76b-5a22-4b9f-acb9-19e066241a3f\" style=\"height: 525px; width: 100%;\" class=\"plotly-graph-div\"></div><script type=\"text/javascript\">require([\"plotly\"], function(Plotly) { window.PLOTLYENV=window.PLOTLYENV || {};window.PLOTLYENV.BASE_URL=\"https://plot.ly\";Plotly.newPlot(\"bb4ef76b-5a22-4b9f-acb9-19e066241a3f\", [{\"marker\": {\"color\": \"rgb(255,126,24)\"}, \"orientation\": \"h\", \"x\": [3, 4, 5, 5, 5, 5, 5, 6, 6, 6, 6, 6, 6, 7, 7, 7, 7, 7, 7, 8], \"y\": [\"UDILSON\", \"IDELMARIA\", \"DAFINE\", \"GIUSEPPE\", \"ISABELI\", \"JOCIQUELE\", \"OTO\", \"ANAZIRA\", \"DILZA\", \"ERILIO\", \"IZILDA\", \"ROSALHA\", \"SELESTRINO\", \"ALMIRA\", \"ELIDO\", \"KARIANY\", \"MESSODY\", \"TIARA\", \"URSULLA\", \"NARIELE\"], \"type\": \"bar\", \"uid\": \"c3abe75c-fae4-11e8-b19a-e35ea5c620f6\"}], {\"title\": \"Quantidade de tarefas <b>n\\u00e3o</b> feitas por alunos\", \"xaxis\": {\"dtick\": 1, \"tick0\": 0, \"title\": \"N\\u00famero de atividades\", \"titlefont\": {\"color\": \"rgb(180,180,180)\"}}, \"yaxis\": {\"dtick\": 1, \"exponentformat\": \"e\", \"gridcolor\": \"#bdbdbd\", \"showexponent\": \"all\", \"showticklabels\": true, \"tick0\": 0, \"title\": \"\", \"titlefont\": {\"color\": \"rgb(180,180,180)\"}}}, {\"showLink\": true, \"linkText\": \"Export to plot.ly\"})});</script>"
      ]
     },
     "metadata": {},
     "output_type": "display_data"
    },
    {
     "data": {
      "application/vnd.plotly.v1+json": {
       "data": [
        {
         "marker": {
          "color": "lightgray"
         },
         "name": "",
         "orientation": "h",
         "text": "",
         "type": "bar",
         "uid": "c3c5d536-fae4-11e8-b19a-e35ea5c620f6",
         "width": [
          0.07,
          0.07,
          0.07,
          0.07,
          0.07,
          0.07,
          0.07,
          0.07,
          0.07,
          0.07,
          0.07,
          0.07,
          0.07,
          0.07,
          0.07,
          0.07,
          0.07,
          0.07,
          0.07,
          0.07
         ],
         "x": [
          3,
          4,
          5,
          4,
          3,
          4,
          5,
          6,
          5,
          4,
          5,
          3,
          3,
          2,
          5,
          4,
          4,
          3,
          7,
          3
         ],
         "y": [
          "ALMIRA",
          "ANAZIRA",
          "DAFINE",
          "DILZA",
          "ELIDO",
          "ERILIO",
          "GIUSEPPE",
          "IDELMARIA",
          "ISABELI",
          "IZILDA",
          "JOCIQUELE",
          "KARIANY",
          "MESSODY",
          "NARIELE",
          "OTO",
          "ROSALHA",
          "SELESTRINO",
          "TIARA",
          "UDILSON",
          "URSULLA"
         ]
        },
        {
         "marker": {
          "color": "rgb(0,0,255)",
          "line": {
           "width": 0
          },
          "sizemode": "area",
          "symbol": "circle"
         },
         "mode": "markers",
         "name": "",
         "text": [],
         "type": "scatter",
         "uid": "c3c5d702-fae4-11e8-b19a-e35ea5c620f6",
         "x": [],
         "y": []
        },
        {
         "marker": {
          "color": "rgb(0,0,255)",
          "line": {
           "width": 0
          },
          "sizemode": "area",
          "symbol": "circle"
         },
         "mode": "markers",
         "name": "",
         "text": [
          "2 atividades"
         ],
         "type": "scatter",
         "uid": "c3c5d7fc-fae4-11e8-b19a-e35ea5c620f6",
         "x": [
          2
         ],
         "y": [
          "NARIELE"
         ]
        },
        {
         "marker": {
          "color": "rgb(0,0,255)",
          "line": {
           "width": 0
          },
          "sizemode": "area",
          "symbol": "circle"
         },
         "mode": "markers",
         "name": "",
         "text": [
          "3 atividades",
          "3 atividades",
          "3 atividades",
          "3 atividades",
          "3 atividades",
          "3 atividades"
         ],
         "type": "scatter",
         "uid": "c3c5d89c-fae4-11e8-b19a-e35ea5c620f6",
         "x": [
          3,
          3,
          3,
          3,
          3,
          3
         ],
         "y": [
          "ALMIRA",
          "ELIDO",
          "KARIANY",
          "MESSODY",
          "TIARA",
          "URSULLA"
         ]
        },
        {
         "marker": {
          "color": "rgb(0,0,255)",
          "line": {
           "width": 0
          },
          "sizemode": "area",
          "symbol": "circle"
         },
         "mode": "markers",
         "name": "",
         "text": [
          "4 atividades",
          "4 atividades",
          "4 atividades",
          "4 atividades",
          "4 atividades",
          "4 atividades"
         ],
         "type": "scatter",
         "uid": "c3c5d91e-fae4-11e8-b19a-e35ea5c620f6",
         "x": [
          4,
          4,
          4,
          4,
          4,
          4
         ],
         "y": [
          "ANAZIRA",
          "DILZA",
          "ERILIO",
          "IZILDA",
          "ROSALHA",
          "SELESTRINO"
         ]
        },
        {
         "marker": {
          "color": "rgb(0,0,255)",
          "line": {
           "width": 0
          },
          "sizemode": "area",
          "symbol": "circle"
         },
         "mode": "markers",
         "name": "",
         "text": [
          "5 atividades",
          "5 atividades",
          "5 atividades",
          "5 atividades",
          "5 atividades"
         ],
         "type": "scatter",
         "uid": "c3c5d9a0-fae4-11e8-b19a-e35ea5c620f6",
         "x": [
          5,
          5,
          5,
          5,
          5
         ],
         "y": [
          "DAFINE",
          "GIUSEPPE",
          "ISABELI",
          "JOCIQUELE",
          "OTO"
         ]
        },
        {
         "marker": {
          "color": "rgb(0,0,255)",
          "line": {
           "width": 0
          },
          "sizemode": "area",
          "symbol": "circle"
         },
         "mode": "markers",
         "name": "",
         "text": [
          "6 atividades"
         ],
         "type": "scatter",
         "uid": "c3c5da18-fae4-11e8-b19a-e35ea5c620f6",
         "x": [
          6
         ],
         "y": [
          "IDELMARIA"
         ]
        },
        {
         "marker": {
          "color": "rgb(0,0,255)",
          "line": {
           "width": 0
          },
          "sizemode": "area",
          "symbol": "circle"
         },
         "mode": "markers",
         "name": "",
         "text": [
          "7 atividades"
         ],
         "type": "scatter",
         "uid": "c3c5da9a-fae4-11e8-b19a-e35ea5c620f6",
         "x": [
          7
         ],
         "y": [
          "UDILSON"
         ]
        },
        {
         "marker": {
          "color": "rgb(0,0,255)",
          "line": {
           "width": 0
          },
          "sizemode": "area",
          "symbol": "circle"
         },
         "mode": "markers",
         "name": "",
         "text": [],
         "type": "scatter",
         "uid": "c3c5db12-fae4-11e8-b19a-e35ea5c620f6",
         "x": [],
         "y": []
        },
        {
         "marker": {
          "color": "rgb(0,0,255)",
          "line": {
           "width": 0
          },
          "sizemode": "area",
          "symbol": "circle"
         },
         "mode": "markers",
         "name": "",
         "text": [],
         "type": "scatter",
         "uid": "c3c5db8a-fae4-11e8-b19a-e35ea5c620f6",
         "x": [],
         "y": []
        },
        {
         "marker": {
          "color": "rgb(0,0,255)",
          "line": {
           "width": 0
          },
          "sizemode": "area",
          "symbol": "circle"
         },
         "mode": "markers",
         "name": "",
         "text": [],
         "type": "scatter",
         "uid": "c3c5dc02-fae4-11e8-b19a-e35ea5c620f6",
         "x": [],
         "y": []
        }
       ],
       "layout": {
        "hovermode": "closest",
        "showlegend": false,
        "title": "Quantidade de tarefas feitas por alunos",
        "xaxis": {
         "dtick": 1,
         "showgrid": true,
         "tick0": 0,
         "title": "Número de atividades",
         "titlefont": {
          "color": "rgb(180,180,180)"
         }
        },
        "yaxis": {
         "dtick": 1,
         "exponentformat": "e",
         "gridcolor": "#bdbdbd",
         "showexponent": "all",
         "showgrid": false,
         "showticklabels": true,
         "tick0": 0,
         "title": "",
         "titlefont": {
          "color": "rgb(180,180,180)"
         }
        }
       }
      },
      "text/html": [
       "<div id=\"39fb4e47-4929-4d0f-835a-4c4f3710b27d\" style=\"height: 525px; width: 100%;\" class=\"plotly-graph-div\"></div><script type=\"text/javascript\">require([\"plotly\"], function(Plotly) { window.PLOTLYENV=window.PLOTLYENV || {};window.PLOTLYENV.BASE_URL=\"https://plot.ly\";Plotly.newPlot(\"39fb4e47-4929-4d0f-835a-4c4f3710b27d\", [{\"marker\": {\"color\": \"lightgray\"}, \"name\": \"\", \"orientation\": \"h\", \"text\": \"\", \"width\": [0.07, 0.07, 0.07, 0.07, 0.07, 0.07, 0.07, 0.07, 0.07, 0.07, 0.07, 0.07, 0.07, 0.07, 0.07, 0.07, 0.07, 0.07, 0.07, 0.07], \"x\": [3, 4, 5, 4, 3, 4, 5, 6, 5, 4, 5, 3, 3, 2, 5, 4, 4, 3, 7, 3], \"y\": [\"ALMIRA\", \"ANAZIRA\", \"DAFINE\", \"DILZA\", \"ELIDO\", \"ERILIO\", \"GIUSEPPE\", \"IDELMARIA\", \"ISABELI\", \"IZILDA\", \"JOCIQUELE\", \"KARIANY\", \"MESSODY\", \"NARIELE\", \"OTO\", \"ROSALHA\", \"SELESTRINO\", \"TIARA\", \"UDILSON\", \"URSULLA\"], \"type\": \"bar\", \"uid\": \"c3c5d536-fae4-11e8-b19a-e35ea5c620f6\"}, {\"marker\": {\"color\": \"rgb(0,0,255)\", \"line\": {\"width\": 0}, \"sizemode\": \"area\", \"symbol\": \"circle\"}, \"mode\": \"markers\", \"name\": \"\", \"text\": [], \"x\": [], \"y\": [], \"type\": \"scatter\", \"uid\": \"c3c5d702-fae4-11e8-b19a-e35ea5c620f6\"}, {\"marker\": {\"color\": \"rgb(0,0,255)\", \"line\": {\"width\": 0}, \"sizemode\": \"area\", \"symbol\": \"circle\"}, \"mode\": \"markers\", \"name\": \"\", \"text\": [\"2 atividades\"], \"x\": [2], \"y\": [\"NARIELE\"], \"type\": \"scatter\", \"uid\": \"c3c5d7fc-fae4-11e8-b19a-e35ea5c620f6\"}, {\"marker\": {\"color\": \"rgb(0,0,255)\", \"line\": {\"width\": 0}, \"sizemode\": \"area\", \"symbol\": \"circle\"}, \"mode\": \"markers\", \"name\": \"\", \"text\": [\"3 atividades\", \"3 atividades\", \"3 atividades\", \"3 atividades\", \"3 atividades\", \"3 atividades\"], \"x\": [3, 3, 3, 3, 3, 3], \"y\": [\"ALMIRA\", \"ELIDO\", \"KARIANY\", \"MESSODY\", \"TIARA\", \"URSULLA\"], \"type\": \"scatter\", \"uid\": \"c3c5d89c-fae4-11e8-b19a-e35ea5c620f6\"}, {\"marker\": {\"color\": \"rgb(0,0,255)\", \"line\": {\"width\": 0}, \"sizemode\": \"area\", \"symbol\": \"circle\"}, \"mode\": \"markers\", \"name\": \"\", \"text\": [\"4 atividades\", \"4 atividades\", \"4 atividades\", \"4 atividades\", \"4 atividades\", \"4 atividades\"], \"x\": [4, 4, 4, 4, 4, 4], \"y\": [\"ANAZIRA\", \"DILZA\", \"ERILIO\", \"IZILDA\", \"ROSALHA\", \"SELESTRINO\"], \"type\": \"scatter\", \"uid\": \"c3c5d91e-fae4-11e8-b19a-e35ea5c620f6\"}, {\"marker\": {\"color\": \"rgb(0,0,255)\", \"line\": {\"width\": 0}, \"sizemode\": \"area\", \"symbol\": \"circle\"}, \"mode\": \"markers\", \"name\": \"\", \"text\": [\"5 atividades\", \"5 atividades\", \"5 atividades\", \"5 atividades\", \"5 atividades\"], \"x\": [5, 5, 5, 5, 5], \"y\": [\"DAFINE\", \"GIUSEPPE\", \"ISABELI\", \"JOCIQUELE\", \"OTO\"], \"type\": \"scatter\", \"uid\": \"c3c5d9a0-fae4-11e8-b19a-e35ea5c620f6\"}, {\"marker\": {\"color\": \"rgb(0,0,255)\", \"line\": {\"width\": 0}, \"sizemode\": \"area\", \"symbol\": \"circle\"}, \"mode\": \"markers\", \"name\": \"\", \"text\": [\"6 atividades\"], \"x\": [6], \"y\": [\"IDELMARIA\"], \"type\": \"scatter\", \"uid\": \"c3c5da18-fae4-11e8-b19a-e35ea5c620f6\"}, {\"marker\": {\"color\": \"rgb(0,0,255)\", \"line\": {\"width\": 0}, \"sizemode\": \"area\", \"symbol\": \"circle\"}, \"mode\": \"markers\", \"name\": \"\", \"text\": [\"7 atividades\"], \"x\": [7], \"y\": [\"UDILSON\"], \"type\": \"scatter\", \"uid\": \"c3c5da9a-fae4-11e8-b19a-e35ea5c620f6\"}, {\"marker\": {\"color\": \"rgb(0,0,255)\", \"line\": {\"width\": 0}, \"sizemode\": \"area\", \"symbol\": \"circle\"}, \"mode\": \"markers\", \"name\": \"\", \"text\": [], \"x\": [], \"y\": [], \"type\": \"scatter\", \"uid\": \"c3c5db12-fae4-11e8-b19a-e35ea5c620f6\"}, {\"marker\": {\"color\": \"rgb(0,0,255)\", \"line\": {\"width\": 0}, \"sizemode\": \"area\", \"symbol\": \"circle\"}, \"mode\": \"markers\", \"name\": \"\", \"text\": [], \"x\": [], \"y\": [], \"type\": \"scatter\", \"uid\": \"c3c5db8a-fae4-11e8-b19a-e35ea5c620f6\"}, {\"marker\": {\"color\": \"rgb(0,0,255)\", \"line\": {\"width\": 0}, \"sizemode\": \"area\", \"symbol\": \"circle\"}, \"mode\": \"markers\", \"name\": \"\", \"text\": [], \"x\": [], \"y\": [], \"type\": \"scatter\", \"uid\": \"c3c5dc02-fae4-11e8-b19a-e35ea5c620f6\"}], {\"hovermode\": \"closest\", \"showlegend\": false, \"title\": \"Quantidade de tarefas feitas por alunos\", \"xaxis\": {\"dtick\": 1, \"showgrid\": true, \"tick0\": 0, \"title\": \"N\\u00famero de atividades\", \"titlefont\": {\"color\": \"rgb(180,180,180)\"}}, \"yaxis\": {\"dtick\": 1, \"exponentformat\": \"e\", \"gridcolor\": \"#bdbdbd\", \"showexponent\": \"all\", \"showgrid\": false, \"showticklabels\": true, \"tick0\": 0, \"title\": \"\", \"titlefont\": {\"color\": \"rgb(180,180,180)\"}}}, {\"showLink\": true, \"linkText\": \"Export to plot.ly\"})});</script>"
      ],
      "text/vnd.plotly.v1+html": [
       "<div id=\"39fb4e47-4929-4d0f-835a-4c4f3710b27d\" style=\"height: 525px; width: 100%;\" class=\"plotly-graph-div\"></div><script type=\"text/javascript\">require([\"plotly\"], function(Plotly) { window.PLOTLYENV=window.PLOTLYENV || {};window.PLOTLYENV.BASE_URL=\"https://plot.ly\";Plotly.newPlot(\"39fb4e47-4929-4d0f-835a-4c4f3710b27d\", [{\"marker\": {\"color\": \"lightgray\"}, \"name\": \"\", \"orientation\": \"h\", \"text\": \"\", \"width\": [0.07, 0.07, 0.07, 0.07, 0.07, 0.07, 0.07, 0.07, 0.07, 0.07, 0.07, 0.07, 0.07, 0.07, 0.07, 0.07, 0.07, 0.07, 0.07, 0.07], \"x\": [3, 4, 5, 4, 3, 4, 5, 6, 5, 4, 5, 3, 3, 2, 5, 4, 4, 3, 7, 3], \"y\": [\"ALMIRA\", \"ANAZIRA\", \"DAFINE\", \"DILZA\", \"ELIDO\", \"ERILIO\", \"GIUSEPPE\", \"IDELMARIA\", \"ISABELI\", \"IZILDA\", \"JOCIQUELE\", \"KARIANY\", \"MESSODY\", \"NARIELE\", \"OTO\", \"ROSALHA\", \"SELESTRINO\", \"TIARA\", \"UDILSON\", \"URSULLA\"], \"type\": \"bar\", \"uid\": \"c3c5d536-fae4-11e8-b19a-e35ea5c620f6\"}, {\"marker\": {\"color\": \"rgb(0,0,255)\", \"line\": {\"width\": 0}, \"sizemode\": \"area\", \"symbol\": \"circle\"}, \"mode\": \"markers\", \"name\": \"\", \"text\": [], \"x\": [], \"y\": [], \"type\": \"scatter\", \"uid\": \"c3c5d702-fae4-11e8-b19a-e35ea5c620f6\"}, {\"marker\": {\"color\": \"rgb(0,0,255)\", \"line\": {\"width\": 0}, \"sizemode\": \"area\", \"symbol\": \"circle\"}, \"mode\": \"markers\", \"name\": \"\", \"text\": [\"2 atividades\"], \"x\": [2], \"y\": [\"NARIELE\"], \"type\": \"scatter\", \"uid\": \"c3c5d7fc-fae4-11e8-b19a-e35ea5c620f6\"}, {\"marker\": {\"color\": \"rgb(0,0,255)\", \"line\": {\"width\": 0}, \"sizemode\": \"area\", \"symbol\": \"circle\"}, \"mode\": \"markers\", \"name\": \"\", \"text\": [\"3 atividades\", \"3 atividades\", \"3 atividades\", \"3 atividades\", \"3 atividades\", \"3 atividades\"], \"x\": [3, 3, 3, 3, 3, 3], \"y\": [\"ALMIRA\", \"ELIDO\", \"KARIANY\", \"MESSODY\", \"TIARA\", \"URSULLA\"], \"type\": \"scatter\", \"uid\": \"c3c5d89c-fae4-11e8-b19a-e35ea5c620f6\"}, {\"marker\": {\"color\": \"rgb(0,0,255)\", \"line\": {\"width\": 0}, \"sizemode\": \"area\", \"symbol\": \"circle\"}, \"mode\": \"markers\", \"name\": \"\", \"text\": [\"4 atividades\", \"4 atividades\", \"4 atividades\", \"4 atividades\", \"4 atividades\", \"4 atividades\"], \"x\": [4, 4, 4, 4, 4, 4], \"y\": [\"ANAZIRA\", \"DILZA\", \"ERILIO\", \"IZILDA\", \"ROSALHA\", \"SELESTRINO\"], \"type\": \"scatter\", \"uid\": \"c3c5d91e-fae4-11e8-b19a-e35ea5c620f6\"}, {\"marker\": {\"color\": \"rgb(0,0,255)\", \"line\": {\"width\": 0}, \"sizemode\": \"area\", \"symbol\": \"circle\"}, \"mode\": \"markers\", \"name\": \"\", \"text\": [\"5 atividades\", \"5 atividades\", \"5 atividades\", \"5 atividades\", \"5 atividades\"], \"x\": [5, 5, 5, 5, 5], \"y\": [\"DAFINE\", \"GIUSEPPE\", \"ISABELI\", \"JOCIQUELE\", \"OTO\"], \"type\": \"scatter\", \"uid\": \"c3c5d9a0-fae4-11e8-b19a-e35ea5c620f6\"}, {\"marker\": {\"color\": \"rgb(0,0,255)\", \"line\": {\"width\": 0}, \"sizemode\": \"area\", \"symbol\": \"circle\"}, \"mode\": \"markers\", \"name\": \"\", \"text\": [\"6 atividades\"], \"x\": [6], \"y\": [\"IDELMARIA\"], \"type\": \"scatter\", \"uid\": \"c3c5da18-fae4-11e8-b19a-e35ea5c620f6\"}, {\"marker\": {\"color\": \"rgb(0,0,255)\", \"line\": {\"width\": 0}, \"sizemode\": \"area\", \"symbol\": \"circle\"}, \"mode\": \"markers\", \"name\": \"\", \"text\": [\"7 atividades\"], \"x\": [7], \"y\": [\"UDILSON\"], \"type\": \"scatter\", \"uid\": \"c3c5da9a-fae4-11e8-b19a-e35ea5c620f6\"}, {\"marker\": {\"color\": \"rgb(0,0,255)\", \"line\": {\"width\": 0}, \"sizemode\": \"area\", \"symbol\": \"circle\"}, \"mode\": \"markers\", \"name\": \"\", \"text\": [], \"x\": [], \"y\": [], \"type\": \"scatter\", \"uid\": \"c3c5db12-fae4-11e8-b19a-e35ea5c620f6\"}, {\"marker\": {\"color\": \"rgb(0,0,255)\", \"line\": {\"width\": 0}, \"sizemode\": \"area\", \"symbol\": \"circle\"}, \"mode\": \"markers\", \"name\": \"\", \"text\": [], \"x\": [], \"y\": [], \"type\": \"scatter\", \"uid\": \"c3c5db8a-fae4-11e8-b19a-e35ea5c620f6\"}, {\"marker\": {\"color\": \"rgb(0,0,255)\", \"line\": {\"width\": 0}, \"sizemode\": \"area\", \"symbol\": \"circle\"}, \"mode\": \"markers\", \"name\": \"\", \"text\": [], \"x\": [], \"y\": [], \"type\": \"scatter\", \"uid\": \"c3c5dc02-fae4-11e8-b19a-e35ea5c620f6\"}], {\"hovermode\": \"closest\", \"showlegend\": false, \"title\": \"Quantidade de tarefas feitas por alunos\", \"xaxis\": {\"dtick\": 1, \"showgrid\": true, \"tick0\": 0, \"title\": \"N\\u00famero de atividades\", \"titlefont\": {\"color\": \"rgb(180,180,180)\"}}, \"yaxis\": {\"dtick\": 1, \"exponentformat\": \"e\", \"gridcolor\": \"#bdbdbd\", \"showexponent\": \"all\", \"showgrid\": false, \"showticklabels\": true, \"tick0\": 0, \"title\": \"\", \"titlefont\": {\"color\": \"rgb(180,180,180)\"}}}, {\"showLink\": true, \"linkText\": \"Export to plot.ly\"})});</script>"
      ]
     },
     "metadata": {},
     "output_type": "display_data"
    },
    {
     "data": {
      "application/vnd.plotly.v1+json": {
       "data": [
        {
         "marker": {
          "color": "lightgray"
         },
         "name": "",
         "orientation": "h",
         "text": "",
         "type": "bar",
         "uid": "c3d3fbc0-fae4-11e8-b19a-e35ea5c620f6",
         "width": [
          0.07,
          0.07,
          0.07,
          0.07,
          0.07,
          0.07,
          0.07,
          0.07,
          0.07,
          0.07,
          0.07,
          0.07,
          0.07,
          0.07,
          0.07,
          0.07,
          0.07,
          0.07,
          0.07,
          0.07
         ],
         "x": [
          2,
          3,
          3,
          3,
          3,
          3,
          3,
          4,
          4,
          4,
          4,
          4,
          4,
          5,
          5,
          5,
          5,
          5,
          6,
          7
         ],
         "y": [
          "NARIELE",
          "ALMIRA",
          "ELIDO",
          "KARIANY",
          "MESSODY",
          "TIARA",
          "URSULLA",
          "ANAZIRA",
          "DILZA",
          "ERILIO",
          "IZILDA",
          "ROSALHA",
          "SELESTRINO",
          "DAFINE",
          "GIUSEPPE",
          "ISABELI",
          "JOCIQUELE",
          "OTO",
          "IDELMARIA",
          "UDILSON"
         ]
        },
        {
         "marker": {
          "color": "rgb(0,0,255)",
          "line": {
           "width": 0
          },
          "sizemode": "area",
          "symbol": "circle"
         },
         "mode": "markers",
         "name": "",
         "text": [],
         "type": "scatter",
         "uid": "c3d3fdaa-fae4-11e8-b19a-e35ea5c620f6",
         "x": [],
         "y": []
        },
        {
         "marker": {
          "color": "rgb(0,0,255)",
          "line": {
           "width": 0
          },
          "sizemode": "area",
          "symbol": "circle"
         },
         "mode": "markers",
         "name": "",
         "text": [
          "2 atividades"
         ],
         "type": "scatter",
         "uid": "c3d3fe90-fae4-11e8-b19a-e35ea5c620f6",
         "x": [
          2
         ],
         "y": [
          "NARIELE"
         ]
        },
        {
         "marker": {
          "color": "rgb(0,0,255)",
          "line": {
           "width": 0
          },
          "sizemode": "area",
          "symbol": "circle"
         },
         "mode": "markers",
         "name": "",
         "text": [
          "3 atividades",
          "3 atividades",
          "3 atividades",
          "3 atividades",
          "3 atividades",
          "3 atividades"
         ],
         "type": "scatter",
         "uid": "c3d3ff30-fae4-11e8-b19a-e35ea5c620f6",
         "x": [
          3,
          3,
          3,
          3,
          3,
          3
         ],
         "y": [
          "ALMIRA",
          "ELIDO",
          "KARIANY",
          "MESSODY",
          "TIARA",
          "URSULLA"
         ]
        },
        {
         "marker": {
          "color": "rgb(0,0,255)",
          "line": {
           "width": 0
          },
          "sizemode": "area",
          "symbol": "circle"
         },
         "mode": "markers",
         "name": "",
         "text": [
          "4 atividades",
          "4 atividades",
          "4 atividades",
          "4 atividades",
          "4 atividades",
          "4 atividades"
         ],
         "type": "scatter",
         "uid": "c3d3ffc6-fae4-11e8-b19a-e35ea5c620f6",
         "x": [
          4,
          4,
          4,
          4,
          4,
          4
         ],
         "y": [
          "ANAZIRA",
          "DILZA",
          "ERILIO",
          "IZILDA",
          "ROSALHA",
          "SELESTRINO"
         ]
        },
        {
         "marker": {
          "color": "rgb(0,0,255)",
          "line": {
           "width": 0
          },
          "sizemode": "area",
          "symbol": "circle"
         },
         "mode": "markers",
         "name": "",
         "text": [
          "5 atividades",
          "5 atividades",
          "5 atividades",
          "5 atividades",
          "5 atividades"
         ],
         "type": "scatter",
         "uid": "c3d40052-fae4-11e8-b19a-e35ea5c620f6",
         "x": [
          5,
          5,
          5,
          5,
          5
         ],
         "y": [
          "DAFINE",
          "GIUSEPPE",
          "ISABELI",
          "JOCIQUELE",
          "OTO"
         ]
        },
        {
         "marker": {
          "color": "rgb(0,0,255)",
          "line": {
           "width": 0
          },
          "sizemode": "area",
          "symbol": "circle"
         },
         "mode": "markers",
         "name": "",
         "text": [
          "6 atividades"
         ],
         "type": "scatter",
         "uid": "c3d400d4-fae4-11e8-b19a-e35ea5c620f6",
         "x": [
          6
         ],
         "y": [
          "IDELMARIA"
         ]
        },
        {
         "marker": {
          "color": "rgb(0,0,255)",
          "line": {
           "width": 0
          },
          "sizemode": "area",
          "symbol": "circle"
         },
         "mode": "markers",
         "name": "",
         "text": [
          "7 atividades"
         ],
         "type": "scatter",
         "uid": "c3d4016a-fae4-11e8-b19a-e35ea5c620f6",
         "x": [
          7
         ],
         "y": [
          "UDILSON"
         ]
        },
        {
         "marker": {
          "color": "rgb(0,0,255)",
          "line": {
           "width": 0
          },
          "sizemode": "area",
          "symbol": "circle"
         },
         "mode": "markers",
         "name": "",
         "text": [],
         "type": "scatter",
         "uid": "c3d401ec-fae4-11e8-b19a-e35ea5c620f6",
         "x": [],
         "y": []
        },
        {
         "marker": {
          "color": "rgb(0,0,255)",
          "line": {
           "width": 0
          },
          "sizemode": "area",
          "symbol": "circle"
         },
         "mode": "markers",
         "name": "",
         "text": [],
         "type": "scatter",
         "uid": "c3d40278-fae4-11e8-b19a-e35ea5c620f6",
         "x": [],
         "y": []
        },
        {
         "marker": {
          "color": "rgb(0,0,255)",
          "line": {
           "width": 0
          },
          "sizemode": "area",
          "symbol": "circle"
         },
         "mode": "markers",
         "name": "",
         "text": [],
         "type": "scatter",
         "uid": "c3d402f0-fae4-11e8-b19a-e35ea5c620f6",
         "x": [],
         "y": []
        }
       ],
       "layout": {
        "hovermode": "closest",
        "showlegend": false,
        "title": "Quantidade de tarefas feitas por alunos",
        "xaxis": {
         "dtick": 1,
         "showgrid": true,
         "tick0": 0,
         "title": "Número de atividades",
         "titlefont": {
          "color": "rgb(180,180,180)"
         }
        },
        "yaxis": {
         "dtick": 1,
         "exponentformat": "e",
         "gridcolor": "#bdbdbd",
         "showexponent": "all",
         "showgrid": false,
         "showticklabels": true,
         "tick0": 0,
         "title": "",
         "titlefont": {
          "color": "rgb(180,180,180)"
         }
        }
       }
      },
      "text/html": [
       "<div id=\"434e6583-98dd-4c2d-b7d6-46e023a40ff2\" style=\"height: 525px; width: 100%;\" class=\"plotly-graph-div\"></div><script type=\"text/javascript\">require([\"plotly\"], function(Plotly) { window.PLOTLYENV=window.PLOTLYENV || {};window.PLOTLYENV.BASE_URL=\"https://plot.ly\";Plotly.newPlot(\"434e6583-98dd-4c2d-b7d6-46e023a40ff2\", [{\"marker\": {\"color\": \"lightgray\"}, \"name\": \"\", \"orientation\": \"h\", \"text\": \"\", \"width\": [0.07, 0.07, 0.07, 0.07, 0.07, 0.07, 0.07, 0.07, 0.07, 0.07, 0.07, 0.07, 0.07, 0.07, 0.07, 0.07, 0.07, 0.07, 0.07, 0.07], \"x\": [2, 3, 3, 3, 3, 3, 3, 4, 4, 4, 4, 4, 4, 5, 5, 5, 5, 5, 6, 7], \"y\": [\"NARIELE\", \"ALMIRA\", \"ELIDO\", \"KARIANY\", \"MESSODY\", \"TIARA\", \"URSULLA\", \"ANAZIRA\", \"DILZA\", \"ERILIO\", \"IZILDA\", \"ROSALHA\", \"SELESTRINO\", \"DAFINE\", \"GIUSEPPE\", \"ISABELI\", \"JOCIQUELE\", \"OTO\", \"IDELMARIA\", \"UDILSON\"], \"type\": \"bar\", \"uid\": \"c3d3fbc0-fae4-11e8-b19a-e35ea5c620f6\"}, {\"marker\": {\"color\": \"rgb(0,0,255)\", \"line\": {\"width\": 0}, \"sizemode\": \"area\", \"symbol\": \"circle\"}, \"mode\": \"markers\", \"name\": \"\", \"text\": [], \"x\": [], \"y\": [], \"type\": \"scatter\", \"uid\": \"c3d3fdaa-fae4-11e8-b19a-e35ea5c620f6\"}, {\"marker\": {\"color\": \"rgb(0,0,255)\", \"line\": {\"width\": 0}, \"sizemode\": \"area\", \"symbol\": \"circle\"}, \"mode\": \"markers\", \"name\": \"\", \"text\": [\"2 atividades\"], \"x\": [2], \"y\": [\"NARIELE\"], \"type\": \"scatter\", \"uid\": \"c3d3fe90-fae4-11e8-b19a-e35ea5c620f6\"}, {\"marker\": {\"color\": \"rgb(0,0,255)\", \"line\": {\"width\": 0}, \"sizemode\": \"area\", \"symbol\": \"circle\"}, \"mode\": \"markers\", \"name\": \"\", \"text\": [\"3 atividades\", \"3 atividades\", \"3 atividades\", \"3 atividades\", \"3 atividades\", \"3 atividades\"], \"x\": [3, 3, 3, 3, 3, 3], \"y\": [\"ALMIRA\", \"ELIDO\", \"KARIANY\", \"MESSODY\", \"TIARA\", \"URSULLA\"], \"type\": \"scatter\", \"uid\": \"c3d3ff30-fae4-11e8-b19a-e35ea5c620f6\"}, {\"marker\": {\"color\": \"rgb(0,0,255)\", \"line\": {\"width\": 0}, \"sizemode\": \"area\", \"symbol\": \"circle\"}, \"mode\": \"markers\", \"name\": \"\", \"text\": [\"4 atividades\", \"4 atividades\", \"4 atividades\", \"4 atividades\", \"4 atividades\", \"4 atividades\"], \"x\": [4, 4, 4, 4, 4, 4], \"y\": [\"ANAZIRA\", \"DILZA\", \"ERILIO\", \"IZILDA\", \"ROSALHA\", \"SELESTRINO\"], \"type\": \"scatter\", \"uid\": \"c3d3ffc6-fae4-11e8-b19a-e35ea5c620f6\"}, {\"marker\": {\"color\": \"rgb(0,0,255)\", \"line\": {\"width\": 0}, \"sizemode\": \"area\", \"symbol\": \"circle\"}, \"mode\": \"markers\", \"name\": \"\", \"text\": [\"5 atividades\", \"5 atividades\", \"5 atividades\", \"5 atividades\", \"5 atividades\"], \"x\": [5, 5, 5, 5, 5], \"y\": [\"DAFINE\", \"GIUSEPPE\", \"ISABELI\", \"JOCIQUELE\", \"OTO\"], \"type\": \"scatter\", \"uid\": \"c3d40052-fae4-11e8-b19a-e35ea5c620f6\"}, {\"marker\": {\"color\": \"rgb(0,0,255)\", \"line\": {\"width\": 0}, \"sizemode\": \"area\", \"symbol\": \"circle\"}, \"mode\": \"markers\", \"name\": \"\", \"text\": [\"6 atividades\"], \"x\": [6], \"y\": [\"IDELMARIA\"], \"type\": \"scatter\", \"uid\": \"c3d400d4-fae4-11e8-b19a-e35ea5c620f6\"}, {\"marker\": {\"color\": \"rgb(0,0,255)\", \"line\": {\"width\": 0}, \"sizemode\": \"area\", \"symbol\": \"circle\"}, \"mode\": \"markers\", \"name\": \"\", \"text\": [\"7 atividades\"], \"x\": [7], \"y\": [\"UDILSON\"], \"type\": \"scatter\", \"uid\": \"c3d4016a-fae4-11e8-b19a-e35ea5c620f6\"}, {\"marker\": {\"color\": \"rgb(0,0,255)\", \"line\": {\"width\": 0}, \"sizemode\": \"area\", \"symbol\": \"circle\"}, \"mode\": \"markers\", \"name\": \"\", \"text\": [], \"x\": [], \"y\": [], \"type\": \"scatter\", \"uid\": \"c3d401ec-fae4-11e8-b19a-e35ea5c620f6\"}, {\"marker\": {\"color\": \"rgb(0,0,255)\", \"line\": {\"width\": 0}, \"sizemode\": \"area\", \"symbol\": \"circle\"}, \"mode\": \"markers\", \"name\": \"\", \"text\": [], \"x\": [], \"y\": [], \"type\": \"scatter\", \"uid\": \"c3d40278-fae4-11e8-b19a-e35ea5c620f6\"}, {\"marker\": {\"color\": \"rgb(0,0,255)\", \"line\": {\"width\": 0}, \"sizemode\": \"area\", \"symbol\": \"circle\"}, \"mode\": \"markers\", \"name\": \"\", \"text\": [], \"x\": [], \"y\": [], \"type\": \"scatter\", \"uid\": \"c3d402f0-fae4-11e8-b19a-e35ea5c620f6\"}], {\"hovermode\": \"closest\", \"showlegend\": false, \"title\": \"Quantidade de tarefas feitas por alunos\", \"xaxis\": {\"dtick\": 1, \"showgrid\": true, \"tick0\": 0, \"title\": \"N\\u00famero de atividades\", \"titlefont\": {\"color\": \"rgb(180,180,180)\"}}, \"yaxis\": {\"dtick\": 1, \"exponentformat\": \"e\", \"gridcolor\": \"#bdbdbd\", \"showexponent\": \"all\", \"showgrid\": false, \"showticklabels\": true, \"tick0\": 0, \"title\": \"\", \"titlefont\": {\"color\": \"rgb(180,180,180)\"}}}, {\"showLink\": true, \"linkText\": \"Export to plot.ly\"})});</script>"
      ],
      "text/vnd.plotly.v1+html": [
       "<div id=\"434e6583-98dd-4c2d-b7d6-46e023a40ff2\" style=\"height: 525px; width: 100%;\" class=\"plotly-graph-div\"></div><script type=\"text/javascript\">require([\"plotly\"], function(Plotly) { window.PLOTLYENV=window.PLOTLYENV || {};window.PLOTLYENV.BASE_URL=\"https://plot.ly\";Plotly.newPlot(\"434e6583-98dd-4c2d-b7d6-46e023a40ff2\", [{\"marker\": {\"color\": \"lightgray\"}, \"name\": \"\", \"orientation\": \"h\", \"text\": \"\", \"width\": [0.07, 0.07, 0.07, 0.07, 0.07, 0.07, 0.07, 0.07, 0.07, 0.07, 0.07, 0.07, 0.07, 0.07, 0.07, 0.07, 0.07, 0.07, 0.07, 0.07], \"x\": [2, 3, 3, 3, 3, 3, 3, 4, 4, 4, 4, 4, 4, 5, 5, 5, 5, 5, 6, 7], \"y\": [\"NARIELE\", \"ALMIRA\", \"ELIDO\", \"KARIANY\", \"MESSODY\", \"TIARA\", \"URSULLA\", \"ANAZIRA\", \"DILZA\", \"ERILIO\", \"IZILDA\", \"ROSALHA\", \"SELESTRINO\", \"DAFINE\", \"GIUSEPPE\", \"ISABELI\", \"JOCIQUELE\", \"OTO\", \"IDELMARIA\", \"UDILSON\"], \"type\": \"bar\", \"uid\": \"c3d3fbc0-fae4-11e8-b19a-e35ea5c620f6\"}, {\"marker\": {\"color\": \"rgb(0,0,255)\", \"line\": {\"width\": 0}, \"sizemode\": \"area\", \"symbol\": \"circle\"}, \"mode\": \"markers\", \"name\": \"\", \"text\": [], \"x\": [], \"y\": [], \"type\": \"scatter\", \"uid\": \"c3d3fdaa-fae4-11e8-b19a-e35ea5c620f6\"}, {\"marker\": {\"color\": \"rgb(0,0,255)\", \"line\": {\"width\": 0}, \"sizemode\": \"area\", \"symbol\": \"circle\"}, \"mode\": \"markers\", \"name\": \"\", \"text\": [\"2 atividades\"], \"x\": [2], \"y\": [\"NARIELE\"], \"type\": \"scatter\", \"uid\": \"c3d3fe90-fae4-11e8-b19a-e35ea5c620f6\"}, {\"marker\": {\"color\": \"rgb(0,0,255)\", \"line\": {\"width\": 0}, \"sizemode\": \"area\", \"symbol\": \"circle\"}, \"mode\": \"markers\", \"name\": \"\", \"text\": [\"3 atividades\", \"3 atividades\", \"3 atividades\", \"3 atividades\", \"3 atividades\", \"3 atividades\"], \"x\": [3, 3, 3, 3, 3, 3], \"y\": [\"ALMIRA\", \"ELIDO\", \"KARIANY\", \"MESSODY\", \"TIARA\", \"URSULLA\"], \"type\": \"scatter\", \"uid\": \"c3d3ff30-fae4-11e8-b19a-e35ea5c620f6\"}, {\"marker\": {\"color\": \"rgb(0,0,255)\", \"line\": {\"width\": 0}, \"sizemode\": \"area\", \"symbol\": \"circle\"}, \"mode\": \"markers\", \"name\": \"\", \"text\": [\"4 atividades\", \"4 atividades\", \"4 atividades\", \"4 atividades\", \"4 atividades\", \"4 atividades\"], \"x\": [4, 4, 4, 4, 4, 4], \"y\": [\"ANAZIRA\", \"DILZA\", \"ERILIO\", \"IZILDA\", \"ROSALHA\", \"SELESTRINO\"], \"type\": \"scatter\", \"uid\": \"c3d3ffc6-fae4-11e8-b19a-e35ea5c620f6\"}, {\"marker\": {\"color\": \"rgb(0,0,255)\", \"line\": {\"width\": 0}, \"sizemode\": \"area\", \"symbol\": \"circle\"}, \"mode\": \"markers\", \"name\": \"\", \"text\": [\"5 atividades\", \"5 atividades\", \"5 atividades\", \"5 atividades\", \"5 atividades\"], \"x\": [5, 5, 5, 5, 5], \"y\": [\"DAFINE\", \"GIUSEPPE\", \"ISABELI\", \"JOCIQUELE\", \"OTO\"], \"type\": \"scatter\", \"uid\": \"c3d40052-fae4-11e8-b19a-e35ea5c620f6\"}, {\"marker\": {\"color\": \"rgb(0,0,255)\", \"line\": {\"width\": 0}, \"sizemode\": \"area\", \"symbol\": \"circle\"}, \"mode\": \"markers\", \"name\": \"\", \"text\": [\"6 atividades\"], \"x\": [6], \"y\": [\"IDELMARIA\"], \"type\": \"scatter\", \"uid\": \"c3d400d4-fae4-11e8-b19a-e35ea5c620f6\"}, {\"marker\": {\"color\": \"rgb(0,0,255)\", \"line\": {\"width\": 0}, \"sizemode\": \"area\", \"symbol\": \"circle\"}, \"mode\": \"markers\", \"name\": \"\", \"text\": [\"7 atividades\"], \"x\": [7], \"y\": [\"UDILSON\"], \"type\": \"scatter\", \"uid\": \"c3d4016a-fae4-11e8-b19a-e35ea5c620f6\"}, {\"marker\": {\"color\": \"rgb(0,0,255)\", \"line\": {\"width\": 0}, \"sizemode\": \"area\", \"symbol\": \"circle\"}, \"mode\": \"markers\", \"name\": \"\", \"text\": [], \"x\": [], \"y\": [], \"type\": \"scatter\", \"uid\": \"c3d401ec-fae4-11e8-b19a-e35ea5c620f6\"}, {\"marker\": {\"color\": \"rgb(0,0,255)\", \"line\": {\"width\": 0}, \"sizemode\": \"area\", \"symbol\": \"circle\"}, \"mode\": \"markers\", \"name\": \"\", \"text\": [], \"x\": [], \"y\": [], \"type\": \"scatter\", \"uid\": \"c3d40278-fae4-11e8-b19a-e35ea5c620f6\"}, {\"marker\": {\"color\": \"rgb(0,0,255)\", \"line\": {\"width\": 0}, \"sizemode\": \"area\", \"symbol\": \"circle\"}, \"mode\": \"markers\", \"name\": \"\", \"text\": [], \"x\": [], \"y\": [], \"type\": \"scatter\", \"uid\": \"c3d402f0-fae4-11e8-b19a-e35ea5c620f6\"}], {\"hovermode\": \"closest\", \"showlegend\": false, \"title\": \"Quantidade de tarefas feitas por alunos\", \"xaxis\": {\"dtick\": 1, \"showgrid\": true, \"tick0\": 0, \"title\": \"N\\u00famero de atividades\", \"titlefont\": {\"color\": \"rgb(180,180,180)\"}}, \"yaxis\": {\"dtick\": 1, \"exponentformat\": \"e\", \"gridcolor\": \"#bdbdbd\", \"showexponent\": \"all\", \"showgrid\": false, \"showticklabels\": true, \"tick0\": 0, \"title\": \"\", \"titlefont\": {\"color\": \"rgb(180,180,180)\"}}}, {\"showLink\": true, \"linkText\": \"Export to plot.ly\"})});</script>"
      ]
     },
     "metadata": {},
     "output_type": "display_data"
    },
    {
     "data": {
      "application/vnd.plotly.v1+json": {
       "data": [
        {
         "marker": {
          "color": "lightgray"
         },
         "name": "",
         "orientation": "h",
         "text": "",
         "type": "bar",
         "uid": "c3e26160-fae4-11e8-b19a-e35ea5c620f6",
         "width": [
          0.07,
          0.07,
          0.07,
          0.07,
          0.07,
          0.07,
          0.07,
          0.07,
          0.07,
          0.07,
          0.07,
          0.07,
          0.07,
          0.07,
          0.07,
          0.07,
          0.07,
          0.07,
          0.07,
          0.07
         ],
         "x": [
          7,
          6,
          5,
          6,
          7,
          6,
          5,
          4,
          5,
          6,
          5,
          7,
          7,
          8,
          5,
          6,
          6,
          7,
          3,
          7
         ],
         "y": [
          "ALMIRA",
          "ANAZIRA",
          "DAFINE",
          "DILZA",
          "ELIDO",
          "ERILIO",
          "GIUSEPPE",
          "IDELMARIA",
          "ISABELI",
          "IZILDA",
          "JOCIQUELE",
          "KARIANY",
          "MESSODY",
          "NARIELE",
          "OTO",
          "ROSALHA",
          "SELESTRINO",
          "TIARA",
          "UDILSON",
          "URSULLA"
         ]
        },
        {
         "marker": {
          "color": "rgb(255,126,24)",
          "line": {
           "width": 0
          },
          "sizemode": "area",
          "symbol": "circle"
         },
         "mode": "markers",
         "name": "",
         "text": [],
         "type": "scatter",
         "uid": "c3e26322-fae4-11e8-b19a-e35ea5c620f6",
         "x": [],
         "y": []
        },
        {
         "marker": {
          "color": "rgb(255,126,24)",
          "line": {
           "width": 0
          },
          "sizemode": "area",
          "symbol": "circle"
         },
         "mode": "markers",
         "name": "",
         "text": [],
         "type": "scatter",
         "uid": "c3e2643a-fae4-11e8-b19a-e35ea5c620f6",
         "x": [],
         "y": []
        },
        {
         "marker": {
          "color": "rgb(255,126,24)",
          "line": {
           "width": 0
          },
          "sizemode": "area",
          "symbol": "circle"
         },
         "mode": "markers",
         "name": "",
         "text": [
          "3 atividades"
         ],
         "type": "scatter",
         "uid": "c3e2653e-fae4-11e8-b19a-e35ea5c620f6",
         "x": [
          3
         ],
         "y": [
          "UDILSON"
         ]
        },
        {
         "marker": {
          "color": "rgb(255,126,24)",
          "line": {
           "width": 0
          },
          "sizemode": "area",
          "symbol": "circle"
         },
         "mode": "markers",
         "name": "",
         "text": [
          "4 atividades"
         ],
         "type": "scatter",
         "uid": "c3e26638-fae4-11e8-b19a-e35ea5c620f6",
         "x": [
          4
         ],
         "y": [
          "IDELMARIA"
         ]
        },
        {
         "marker": {
          "color": "rgb(255,126,24)",
          "line": {
           "width": 0
          },
          "sizemode": "area",
          "symbol": "circle"
         },
         "mode": "markers",
         "name": "",
         "text": [
          "5 atividades",
          "5 atividades",
          "5 atividades",
          "5 atividades",
          "5 atividades"
         ],
         "type": "scatter",
         "uid": "c3e2673c-fae4-11e8-b19a-e35ea5c620f6",
         "x": [
          5,
          5,
          5,
          5,
          5
         ],
         "y": [
          "DAFINE",
          "GIUSEPPE",
          "ISABELI",
          "JOCIQUELE",
          "OTO"
         ]
        },
        {
         "marker": {
          "color": "rgb(255,126,24)",
          "line": {
           "width": 0
          },
          "sizemode": "area",
          "symbol": "circle"
         },
         "mode": "markers",
         "name": "",
         "text": [
          "6 atividades",
          "6 atividades",
          "6 atividades",
          "6 atividades",
          "6 atividades",
          "6 atividades"
         ],
         "type": "scatter",
         "uid": "c3e267e6-fae4-11e8-b19a-e35ea5c620f6",
         "x": [
          6,
          6,
          6,
          6,
          6,
          6
         ],
         "y": [
          "ANAZIRA",
          "DILZA",
          "ERILIO",
          "IZILDA",
          "ROSALHA",
          "SELESTRINO"
         ]
        },
        {
         "marker": {
          "color": "rgb(255,126,24)",
          "line": {
           "width": 0
          },
          "sizemode": "area",
          "symbol": "circle"
         },
         "mode": "markers",
         "name": "",
         "text": [
          "7 atividades",
          "7 atividades",
          "7 atividades",
          "7 atividades",
          "7 atividades",
          "7 atividades"
         ],
         "type": "scatter",
         "uid": "c3e2687c-fae4-11e8-b19a-e35ea5c620f6",
         "x": [
          7,
          7,
          7,
          7,
          7,
          7
         ],
         "y": [
          "ALMIRA",
          "ELIDO",
          "KARIANY",
          "MESSODY",
          "TIARA",
          "URSULLA"
         ]
        },
        {
         "marker": {
          "color": "rgb(255,126,24)",
          "line": {
           "width": 0
          },
          "sizemode": "area",
          "symbol": "circle"
         },
         "mode": "markers",
         "name": "",
         "text": [
          "8 atividades"
         ],
         "type": "scatter",
         "uid": "c3e26912-fae4-11e8-b19a-e35ea5c620f6",
         "x": [
          8
         ],
         "y": [
          "NARIELE"
         ]
        },
        {
         "marker": {
          "color": "rgb(255,126,24)",
          "line": {
           "width": 0
          },
          "sizemode": "area",
          "symbol": "circle"
         },
         "mode": "markers",
         "name": "",
         "text": [],
         "type": "scatter",
         "uid": "c3e269a8-fae4-11e8-b19a-e35ea5c620f6",
         "x": [],
         "y": []
        },
        {
         "marker": {
          "color": "rgb(255,126,24)",
          "line": {
           "width": 0
          },
          "sizemode": "area",
          "symbol": "circle"
         },
         "mode": "markers",
         "name": "",
         "text": [],
         "type": "scatter",
         "uid": "c3e26a3e-fae4-11e8-b19a-e35ea5c620f6",
         "x": [],
         "y": []
        }
       ],
       "layout": {
        "hovermode": "closest",
        "showlegend": false,
        "title": "Quantidade de tarefas <b>não</b> feitas por alunos",
        "xaxis": {
         "dtick": 1,
         "showgrid": true,
         "tick0": 0,
         "title": "Número de atividades",
         "titlefont": {
          "color": "rgb(180,180,180)"
         }
        },
        "yaxis": {
         "dtick": 1,
         "exponentformat": "e",
         "gridcolor": "#bdbdbd",
         "showexponent": "all",
         "showgrid": false,
         "showticklabels": true,
         "tick0": 0,
         "title": "",
         "titlefont": {
          "color": "rgb(180,180,180)"
         }
        }
       }
      },
      "text/html": [
       "<div id=\"a61f7e46-cf5f-45b1-a210-4aecb2ecb025\" style=\"height: 525px; width: 100%;\" class=\"plotly-graph-div\"></div><script type=\"text/javascript\">require([\"plotly\"], function(Plotly) { window.PLOTLYENV=window.PLOTLYENV || {};window.PLOTLYENV.BASE_URL=\"https://plot.ly\";Plotly.newPlot(\"a61f7e46-cf5f-45b1-a210-4aecb2ecb025\", [{\"marker\": {\"color\": \"lightgray\"}, \"name\": \"\", \"orientation\": \"h\", \"text\": \"\", \"width\": [0.07, 0.07, 0.07, 0.07, 0.07, 0.07, 0.07, 0.07, 0.07, 0.07, 0.07, 0.07, 0.07, 0.07, 0.07, 0.07, 0.07, 0.07, 0.07, 0.07], \"x\": [7, 6, 5, 6, 7, 6, 5, 4, 5, 6, 5, 7, 7, 8, 5, 6, 6, 7, 3, 7], \"y\": [\"ALMIRA\", \"ANAZIRA\", \"DAFINE\", \"DILZA\", \"ELIDO\", \"ERILIO\", \"GIUSEPPE\", \"IDELMARIA\", \"ISABELI\", \"IZILDA\", \"JOCIQUELE\", \"KARIANY\", \"MESSODY\", \"NARIELE\", \"OTO\", \"ROSALHA\", \"SELESTRINO\", \"TIARA\", \"UDILSON\", \"URSULLA\"], \"type\": \"bar\", \"uid\": \"c3e26160-fae4-11e8-b19a-e35ea5c620f6\"}, {\"marker\": {\"color\": \"rgb(255,126,24)\", \"line\": {\"width\": 0}, \"sizemode\": \"area\", \"symbol\": \"circle\"}, \"mode\": \"markers\", \"name\": \"\", \"text\": [], \"x\": [], \"y\": [], \"type\": \"scatter\", \"uid\": \"c3e26322-fae4-11e8-b19a-e35ea5c620f6\"}, {\"marker\": {\"color\": \"rgb(255,126,24)\", \"line\": {\"width\": 0}, \"sizemode\": \"area\", \"symbol\": \"circle\"}, \"mode\": \"markers\", \"name\": \"\", \"text\": [], \"x\": [], \"y\": [], \"type\": \"scatter\", \"uid\": \"c3e2643a-fae4-11e8-b19a-e35ea5c620f6\"}, {\"marker\": {\"color\": \"rgb(255,126,24)\", \"line\": {\"width\": 0}, \"sizemode\": \"area\", \"symbol\": \"circle\"}, \"mode\": \"markers\", \"name\": \"\", \"text\": [\"3 atividades\"], \"x\": [3], \"y\": [\"UDILSON\"], \"type\": \"scatter\", \"uid\": \"c3e2653e-fae4-11e8-b19a-e35ea5c620f6\"}, {\"marker\": {\"color\": \"rgb(255,126,24)\", \"line\": {\"width\": 0}, \"sizemode\": \"area\", \"symbol\": \"circle\"}, \"mode\": \"markers\", \"name\": \"\", \"text\": [\"4 atividades\"], \"x\": [4], \"y\": [\"IDELMARIA\"], \"type\": \"scatter\", \"uid\": \"c3e26638-fae4-11e8-b19a-e35ea5c620f6\"}, {\"marker\": {\"color\": \"rgb(255,126,24)\", \"line\": {\"width\": 0}, \"sizemode\": \"area\", \"symbol\": \"circle\"}, \"mode\": \"markers\", \"name\": \"\", \"text\": [\"5 atividades\", \"5 atividades\", \"5 atividades\", \"5 atividades\", \"5 atividades\"], \"x\": [5, 5, 5, 5, 5], \"y\": [\"DAFINE\", \"GIUSEPPE\", \"ISABELI\", \"JOCIQUELE\", \"OTO\"], \"type\": \"scatter\", \"uid\": \"c3e2673c-fae4-11e8-b19a-e35ea5c620f6\"}, {\"marker\": {\"color\": \"rgb(255,126,24)\", \"line\": {\"width\": 0}, \"sizemode\": \"area\", \"symbol\": \"circle\"}, \"mode\": \"markers\", \"name\": \"\", \"text\": [\"6 atividades\", \"6 atividades\", \"6 atividades\", \"6 atividades\", \"6 atividades\", \"6 atividades\"], \"x\": [6, 6, 6, 6, 6, 6], \"y\": [\"ANAZIRA\", \"DILZA\", \"ERILIO\", \"IZILDA\", \"ROSALHA\", \"SELESTRINO\"], \"type\": \"scatter\", \"uid\": \"c3e267e6-fae4-11e8-b19a-e35ea5c620f6\"}, {\"marker\": {\"color\": \"rgb(255,126,24)\", \"line\": {\"width\": 0}, \"sizemode\": \"area\", \"symbol\": \"circle\"}, \"mode\": \"markers\", \"name\": \"\", \"text\": [\"7 atividades\", \"7 atividades\", \"7 atividades\", \"7 atividades\", \"7 atividades\", \"7 atividades\"], \"x\": [7, 7, 7, 7, 7, 7], \"y\": [\"ALMIRA\", \"ELIDO\", \"KARIANY\", \"MESSODY\", \"TIARA\", \"URSULLA\"], \"type\": \"scatter\", \"uid\": \"c3e2687c-fae4-11e8-b19a-e35ea5c620f6\"}, {\"marker\": {\"color\": \"rgb(255,126,24)\", \"line\": {\"width\": 0}, \"sizemode\": \"area\", \"symbol\": \"circle\"}, \"mode\": \"markers\", \"name\": \"\", \"text\": [\"8 atividades\"], \"x\": [8], \"y\": [\"NARIELE\"], \"type\": \"scatter\", \"uid\": \"c3e26912-fae4-11e8-b19a-e35ea5c620f6\"}, {\"marker\": {\"color\": \"rgb(255,126,24)\", \"line\": {\"width\": 0}, \"sizemode\": \"area\", \"symbol\": \"circle\"}, \"mode\": \"markers\", \"name\": \"\", \"text\": [], \"x\": [], \"y\": [], \"type\": \"scatter\", \"uid\": \"c3e269a8-fae4-11e8-b19a-e35ea5c620f6\"}, {\"marker\": {\"color\": \"rgb(255,126,24)\", \"line\": {\"width\": 0}, \"sizemode\": \"area\", \"symbol\": \"circle\"}, \"mode\": \"markers\", \"name\": \"\", \"text\": [], \"x\": [], \"y\": [], \"type\": \"scatter\", \"uid\": \"c3e26a3e-fae4-11e8-b19a-e35ea5c620f6\"}], {\"hovermode\": \"closest\", \"showlegend\": false, \"title\": \"Quantidade de tarefas <b>n\\u00e3o</b> feitas por alunos\", \"xaxis\": {\"dtick\": 1, \"showgrid\": true, \"tick0\": 0, \"title\": \"N\\u00famero de atividades\", \"titlefont\": {\"color\": \"rgb(180,180,180)\"}}, \"yaxis\": {\"dtick\": 1, \"exponentformat\": \"e\", \"gridcolor\": \"#bdbdbd\", \"showexponent\": \"all\", \"showgrid\": false, \"showticklabels\": true, \"tick0\": 0, \"title\": \"\", \"titlefont\": {\"color\": \"rgb(180,180,180)\"}}}, {\"showLink\": true, \"linkText\": \"Export to plot.ly\"})});</script>"
      ],
      "text/vnd.plotly.v1+html": [
       "<div id=\"a61f7e46-cf5f-45b1-a210-4aecb2ecb025\" style=\"height: 525px; width: 100%;\" class=\"plotly-graph-div\"></div><script type=\"text/javascript\">require([\"plotly\"], function(Plotly) { window.PLOTLYENV=window.PLOTLYENV || {};window.PLOTLYENV.BASE_URL=\"https://plot.ly\";Plotly.newPlot(\"a61f7e46-cf5f-45b1-a210-4aecb2ecb025\", [{\"marker\": {\"color\": \"lightgray\"}, \"name\": \"\", \"orientation\": \"h\", \"text\": \"\", \"width\": [0.07, 0.07, 0.07, 0.07, 0.07, 0.07, 0.07, 0.07, 0.07, 0.07, 0.07, 0.07, 0.07, 0.07, 0.07, 0.07, 0.07, 0.07, 0.07, 0.07], \"x\": [7, 6, 5, 6, 7, 6, 5, 4, 5, 6, 5, 7, 7, 8, 5, 6, 6, 7, 3, 7], \"y\": [\"ALMIRA\", \"ANAZIRA\", \"DAFINE\", \"DILZA\", \"ELIDO\", \"ERILIO\", \"GIUSEPPE\", \"IDELMARIA\", \"ISABELI\", \"IZILDA\", \"JOCIQUELE\", \"KARIANY\", \"MESSODY\", \"NARIELE\", \"OTO\", \"ROSALHA\", \"SELESTRINO\", \"TIARA\", \"UDILSON\", \"URSULLA\"], \"type\": \"bar\", \"uid\": \"c3e26160-fae4-11e8-b19a-e35ea5c620f6\"}, {\"marker\": {\"color\": \"rgb(255,126,24)\", \"line\": {\"width\": 0}, \"sizemode\": \"area\", \"symbol\": \"circle\"}, \"mode\": \"markers\", \"name\": \"\", \"text\": [], \"x\": [], \"y\": [], \"type\": \"scatter\", \"uid\": \"c3e26322-fae4-11e8-b19a-e35ea5c620f6\"}, {\"marker\": {\"color\": \"rgb(255,126,24)\", \"line\": {\"width\": 0}, \"sizemode\": \"area\", \"symbol\": \"circle\"}, \"mode\": \"markers\", \"name\": \"\", \"text\": [], \"x\": [], \"y\": [], \"type\": \"scatter\", \"uid\": \"c3e2643a-fae4-11e8-b19a-e35ea5c620f6\"}, {\"marker\": {\"color\": \"rgb(255,126,24)\", \"line\": {\"width\": 0}, \"sizemode\": \"area\", \"symbol\": \"circle\"}, \"mode\": \"markers\", \"name\": \"\", \"text\": [\"3 atividades\"], \"x\": [3], \"y\": [\"UDILSON\"], \"type\": \"scatter\", \"uid\": \"c3e2653e-fae4-11e8-b19a-e35ea5c620f6\"}, {\"marker\": {\"color\": \"rgb(255,126,24)\", \"line\": {\"width\": 0}, \"sizemode\": \"area\", \"symbol\": \"circle\"}, \"mode\": \"markers\", \"name\": \"\", \"text\": [\"4 atividades\"], \"x\": [4], \"y\": [\"IDELMARIA\"], \"type\": \"scatter\", \"uid\": \"c3e26638-fae4-11e8-b19a-e35ea5c620f6\"}, {\"marker\": {\"color\": \"rgb(255,126,24)\", \"line\": {\"width\": 0}, \"sizemode\": \"area\", \"symbol\": \"circle\"}, \"mode\": \"markers\", \"name\": \"\", \"text\": [\"5 atividades\", \"5 atividades\", \"5 atividades\", \"5 atividades\", \"5 atividades\"], \"x\": [5, 5, 5, 5, 5], \"y\": [\"DAFINE\", \"GIUSEPPE\", \"ISABELI\", \"JOCIQUELE\", \"OTO\"], \"type\": \"scatter\", \"uid\": \"c3e2673c-fae4-11e8-b19a-e35ea5c620f6\"}, {\"marker\": {\"color\": \"rgb(255,126,24)\", \"line\": {\"width\": 0}, \"sizemode\": \"area\", \"symbol\": \"circle\"}, \"mode\": \"markers\", \"name\": \"\", \"text\": [\"6 atividades\", \"6 atividades\", \"6 atividades\", \"6 atividades\", \"6 atividades\", \"6 atividades\"], \"x\": [6, 6, 6, 6, 6, 6], \"y\": [\"ANAZIRA\", \"DILZA\", \"ERILIO\", \"IZILDA\", \"ROSALHA\", \"SELESTRINO\"], \"type\": \"scatter\", \"uid\": \"c3e267e6-fae4-11e8-b19a-e35ea5c620f6\"}, {\"marker\": {\"color\": \"rgb(255,126,24)\", \"line\": {\"width\": 0}, \"sizemode\": \"area\", \"symbol\": \"circle\"}, \"mode\": \"markers\", \"name\": \"\", \"text\": [\"7 atividades\", \"7 atividades\", \"7 atividades\", \"7 atividades\", \"7 atividades\", \"7 atividades\"], \"x\": [7, 7, 7, 7, 7, 7], \"y\": [\"ALMIRA\", \"ELIDO\", \"KARIANY\", \"MESSODY\", \"TIARA\", \"URSULLA\"], \"type\": \"scatter\", \"uid\": \"c3e2687c-fae4-11e8-b19a-e35ea5c620f6\"}, {\"marker\": {\"color\": \"rgb(255,126,24)\", \"line\": {\"width\": 0}, \"sizemode\": \"area\", \"symbol\": \"circle\"}, \"mode\": \"markers\", \"name\": \"\", \"text\": [\"8 atividades\"], \"x\": [8], \"y\": [\"NARIELE\"], \"type\": \"scatter\", \"uid\": \"c3e26912-fae4-11e8-b19a-e35ea5c620f6\"}, {\"marker\": {\"color\": \"rgb(255,126,24)\", \"line\": {\"width\": 0}, \"sizemode\": \"area\", \"symbol\": \"circle\"}, \"mode\": \"markers\", \"name\": \"\", \"text\": [], \"x\": [], \"y\": [], \"type\": \"scatter\", \"uid\": \"c3e269a8-fae4-11e8-b19a-e35ea5c620f6\"}, {\"marker\": {\"color\": \"rgb(255,126,24)\", \"line\": {\"width\": 0}, \"sizemode\": \"area\", \"symbol\": \"circle\"}, \"mode\": \"markers\", \"name\": \"\", \"text\": [], \"x\": [], \"y\": [], \"type\": \"scatter\", \"uid\": \"c3e26a3e-fae4-11e8-b19a-e35ea5c620f6\"}], {\"hovermode\": \"closest\", \"showlegend\": false, \"title\": \"Quantidade de tarefas <b>n\\u00e3o</b> feitas por alunos\", \"xaxis\": {\"dtick\": 1, \"showgrid\": true, \"tick0\": 0, \"title\": \"N\\u00famero de atividades\", \"titlefont\": {\"color\": \"rgb(180,180,180)\"}}, \"yaxis\": {\"dtick\": 1, \"exponentformat\": \"e\", \"gridcolor\": \"#bdbdbd\", \"showexponent\": \"all\", \"showgrid\": false, \"showticklabels\": true, \"tick0\": 0, \"title\": \"\", \"titlefont\": {\"color\": \"rgb(180,180,180)\"}}}, {\"showLink\": true, \"linkText\": \"Export to plot.ly\"})});</script>"
      ]
     },
     "metadata": {},
     "output_type": "display_data"
    },
    {
     "data": {
      "application/vnd.plotly.v1+json": {
       "data": [
        {
         "marker": {
          "color": "lightgray"
         },
         "name": "",
         "orientation": "h",
         "text": "",
         "type": "bar",
         "uid": "c3fb63b8-fae4-11e8-b19a-e35ea5c620f6",
         "width": [
          0.07,
          0.07,
          0.07,
          0.07,
          0.07,
          0.07,
          0.07,
          0.07,
          0.07,
          0.07,
          0.07,
          0.07,
          0.07,
          0.07,
          0.07,
          0.07,
          0.07,
          0.07,
          0.07,
          0.07
         ],
         "x": [
          3,
          4,
          5,
          5,
          5,
          5,
          5,
          6,
          6,
          6,
          6,
          6,
          6,
          7,
          7,
          7,
          7,
          7,
          7,
          8
         ],
         "y": [
          "UDILSON",
          "IDELMARIA",
          "DAFINE",
          "GIUSEPPE",
          "ISABELI",
          "JOCIQUELE",
          "OTO",
          "ANAZIRA",
          "DILZA",
          "ERILIO",
          "IZILDA",
          "ROSALHA",
          "SELESTRINO",
          "ALMIRA",
          "ELIDO",
          "KARIANY",
          "MESSODY",
          "TIARA",
          "URSULLA",
          "NARIELE"
         ]
        },
        {
         "marker": {
          "color": "rgb(255,126,24)",
          "line": {
           "width": 0
          },
          "sizemode": "area",
          "symbol": "circle"
         },
         "mode": "markers",
         "name": "",
         "text": [],
         "type": "scatter",
         "uid": "c3fb657a-fae4-11e8-b19a-e35ea5c620f6",
         "x": [],
         "y": []
        },
        {
         "marker": {
          "color": "rgb(255,126,24)",
          "line": {
           "width": 0
          },
          "sizemode": "area",
          "symbol": "circle"
         },
         "mode": "markers",
         "name": "",
         "text": [],
         "type": "scatter",
         "uid": "c3fb6656-fae4-11e8-b19a-e35ea5c620f6",
         "x": [],
         "y": []
        },
        {
         "marker": {
          "color": "rgb(255,126,24)",
          "line": {
           "width": 0
          },
          "sizemode": "area",
          "symbol": "circle"
         },
         "mode": "markers",
         "name": "",
         "text": [
          "3 atividades"
         ],
         "type": "scatter",
         "uid": "c3fb66f6-fae4-11e8-b19a-e35ea5c620f6",
         "x": [
          3
         ],
         "y": [
          "UDILSON"
         ]
        },
        {
         "marker": {
          "color": "rgb(255,126,24)",
          "line": {
           "width": 0
          },
          "sizemode": "area",
          "symbol": "circle"
         },
         "mode": "markers",
         "name": "",
         "text": [
          "4 atividades"
         ],
         "type": "scatter",
         "uid": "c3fb6796-fae4-11e8-b19a-e35ea5c620f6",
         "x": [
          4
         ],
         "y": [
          "IDELMARIA"
         ]
        },
        {
         "marker": {
          "color": "rgb(255,126,24)",
          "line": {
           "width": 0
          },
          "sizemode": "area",
          "symbol": "circle"
         },
         "mode": "markers",
         "name": "",
         "text": [
          "5 atividades",
          "5 atividades",
          "5 atividades",
          "5 atividades",
          "5 atividades"
         ],
         "type": "scatter",
         "uid": "c3fb6822-fae4-11e8-b19a-e35ea5c620f6",
         "x": [
          5,
          5,
          5,
          5,
          5
         ],
         "y": [
          "DAFINE",
          "GIUSEPPE",
          "ISABELI",
          "JOCIQUELE",
          "OTO"
         ]
        },
        {
         "marker": {
          "color": "rgb(255,126,24)",
          "line": {
           "width": 0
          },
          "sizemode": "area",
          "symbol": "circle"
         },
         "mode": "markers",
         "name": "",
         "text": [
          "6 atividades",
          "6 atividades",
          "6 atividades",
          "6 atividades",
          "6 atividades",
          "6 atividades"
         ],
         "type": "scatter",
         "uid": "c3fb68a4-fae4-11e8-b19a-e35ea5c620f6",
         "x": [
          6,
          6,
          6,
          6,
          6,
          6
         ],
         "y": [
          "ANAZIRA",
          "DILZA",
          "ERILIO",
          "IZILDA",
          "ROSALHA",
          "SELESTRINO"
         ]
        },
        {
         "marker": {
          "color": "rgb(255,126,24)",
          "line": {
           "width": 0
          },
          "sizemode": "area",
          "symbol": "circle"
         },
         "mode": "markers",
         "name": "",
         "text": [
          "7 atividades",
          "7 atividades",
          "7 atividades",
          "7 atividades",
          "7 atividades",
          "7 atividades"
         ],
         "type": "scatter",
         "uid": "c3fb691c-fae4-11e8-b19a-e35ea5c620f6",
         "x": [
          7,
          7,
          7,
          7,
          7,
          7
         ],
         "y": [
          "ALMIRA",
          "ELIDO",
          "KARIANY",
          "MESSODY",
          "TIARA",
          "URSULLA"
         ]
        },
        {
         "marker": {
          "color": "rgb(255,126,24)",
          "line": {
           "width": 0
          },
          "sizemode": "area",
          "symbol": "circle"
         },
         "mode": "markers",
         "name": "",
         "text": [
          "8 atividades"
         ],
         "type": "scatter",
         "uid": "c3fb699e-fae4-11e8-b19a-e35ea5c620f6",
         "x": [
          8
         ],
         "y": [
          "NARIELE"
         ]
        },
        {
         "marker": {
          "color": "rgb(255,126,24)",
          "line": {
           "width": 0
          },
          "sizemode": "area",
          "symbol": "circle"
         },
         "mode": "markers",
         "name": "",
         "text": [],
         "type": "scatter",
         "uid": "c3fb6a16-fae4-11e8-b19a-e35ea5c620f6",
         "x": [],
         "y": []
        },
        {
         "marker": {
          "color": "rgb(255,126,24)",
          "line": {
           "width": 0
          },
          "sizemode": "area",
          "symbol": "circle"
         },
         "mode": "markers",
         "name": "",
         "text": [],
         "type": "scatter",
         "uid": "c3fb6a8e-fae4-11e8-b19a-e35ea5c620f6",
         "x": [],
         "y": []
        }
       ],
       "layout": {
        "hovermode": "closest",
        "showlegend": false,
        "title": "Quantidade de tarefas <b>não</b> feitas por alunos",
        "xaxis": {
         "dtick": 1,
         "showgrid": true,
         "tick0": 0,
         "title": "Número de atividades",
         "titlefont": {
          "color": "rgb(180,180,180)"
         }
        },
        "yaxis": {
         "dtick": 1,
         "exponentformat": "e",
         "gridcolor": "#bdbdbd",
         "showexponent": "all",
         "showgrid": false,
         "showticklabels": true,
         "tick0": 0,
         "title": "",
         "titlefont": {
          "color": "rgb(180,180,180)"
         }
        }
       }
      },
      "text/html": [
       "<div id=\"5b4bc5a0-bcd0-4871-8019-865cee48b0b9\" style=\"height: 525px; width: 100%;\" class=\"plotly-graph-div\"></div><script type=\"text/javascript\">require([\"plotly\"], function(Plotly) { window.PLOTLYENV=window.PLOTLYENV || {};window.PLOTLYENV.BASE_URL=\"https://plot.ly\";Plotly.newPlot(\"5b4bc5a0-bcd0-4871-8019-865cee48b0b9\", [{\"marker\": {\"color\": \"lightgray\"}, \"name\": \"\", \"orientation\": \"h\", \"text\": \"\", \"width\": [0.07, 0.07, 0.07, 0.07, 0.07, 0.07, 0.07, 0.07, 0.07, 0.07, 0.07, 0.07, 0.07, 0.07, 0.07, 0.07, 0.07, 0.07, 0.07, 0.07], \"x\": [3, 4, 5, 5, 5, 5, 5, 6, 6, 6, 6, 6, 6, 7, 7, 7, 7, 7, 7, 8], \"y\": [\"UDILSON\", \"IDELMARIA\", \"DAFINE\", \"GIUSEPPE\", \"ISABELI\", \"JOCIQUELE\", \"OTO\", \"ANAZIRA\", \"DILZA\", \"ERILIO\", \"IZILDA\", \"ROSALHA\", \"SELESTRINO\", \"ALMIRA\", \"ELIDO\", \"KARIANY\", \"MESSODY\", \"TIARA\", \"URSULLA\", \"NARIELE\"], \"type\": \"bar\", \"uid\": \"c3fb63b8-fae4-11e8-b19a-e35ea5c620f6\"}, {\"marker\": {\"color\": \"rgb(255,126,24)\", \"line\": {\"width\": 0}, \"sizemode\": \"area\", \"symbol\": \"circle\"}, \"mode\": \"markers\", \"name\": \"\", \"text\": [], \"x\": [], \"y\": [], \"type\": \"scatter\", \"uid\": \"c3fb657a-fae4-11e8-b19a-e35ea5c620f6\"}, {\"marker\": {\"color\": \"rgb(255,126,24)\", \"line\": {\"width\": 0}, \"sizemode\": \"area\", \"symbol\": \"circle\"}, \"mode\": \"markers\", \"name\": \"\", \"text\": [], \"x\": [], \"y\": [], \"type\": \"scatter\", \"uid\": \"c3fb6656-fae4-11e8-b19a-e35ea5c620f6\"}, {\"marker\": {\"color\": \"rgb(255,126,24)\", \"line\": {\"width\": 0}, \"sizemode\": \"area\", \"symbol\": \"circle\"}, \"mode\": \"markers\", \"name\": \"\", \"text\": [\"3 atividades\"], \"x\": [3], \"y\": [\"UDILSON\"], \"type\": \"scatter\", \"uid\": \"c3fb66f6-fae4-11e8-b19a-e35ea5c620f6\"}, {\"marker\": {\"color\": \"rgb(255,126,24)\", \"line\": {\"width\": 0}, \"sizemode\": \"area\", \"symbol\": \"circle\"}, \"mode\": \"markers\", \"name\": \"\", \"text\": [\"4 atividades\"], \"x\": [4], \"y\": [\"IDELMARIA\"], \"type\": \"scatter\", \"uid\": \"c3fb6796-fae4-11e8-b19a-e35ea5c620f6\"}, {\"marker\": {\"color\": \"rgb(255,126,24)\", \"line\": {\"width\": 0}, \"sizemode\": \"area\", \"symbol\": \"circle\"}, \"mode\": \"markers\", \"name\": \"\", \"text\": [\"5 atividades\", \"5 atividades\", \"5 atividades\", \"5 atividades\", \"5 atividades\"], \"x\": [5, 5, 5, 5, 5], \"y\": [\"DAFINE\", \"GIUSEPPE\", \"ISABELI\", \"JOCIQUELE\", \"OTO\"], \"type\": \"scatter\", \"uid\": \"c3fb6822-fae4-11e8-b19a-e35ea5c620f6\"}, {\"marker\": {\"color\": \"rgb(255,126,24)\", \"line\": {\"width\": 0}, \"sizemode\": \"area\", \"symbol\": \"circle\"}, \"mode\": \"markers\", \"name\": \"\", \"text\": [\"6 atividades\", \"6 atividades\", \"6 atividades\", \"6 atividades\", \"6 atividades\", \"6 atividades\"], \"x\": [6, 6, 6, 6, 6, 6], \"y\": [\"ANAZIRA\", \"DILZA\", \"ERILIO\", \"IZILDA\", \"ROSALHA\", \"SELESTRINO\"], \"type\": \"scatter\", \"uid\": \"c3fb68a4-fae4-11e8-b19a-e35ea5c620f6\"}, {\"marker\": {\"color\": \"rgb(255,126,24)\", \"line\": {\"width\": 0}, \"sizemode\": \"area\", \"symbol\": \"circle\"}, \"mode\": \"markers\", \"name\": \"\", \"text\": [\"7 atividades\", \"7 atividades\", \"7 atividades\", \"7 atividades\", \"7 atividades\", \"7 atividades\"], \"x\": [7, 7, 7, 7, 7, 7], \"y\": [\"ALMIRA\", \"ELIDO\", \"KARIANY\", \"MESSODY\", \"TIARA\", \"URSULLA\"], \"type\": \"scatter\", \"uid\": \"c3fb691c-fae4-11e8-b19a-e35ea5c620f6\"}, {\"marker\": {\"color\": \"rgb(255,126,24)\", \"line\": {\"width\": 0}, \"sizemode\": \"area\", \"symbol\": \"circle\"}, \"mode\": \"markers\", \"name\": \"\", \"text\": [\"8 atividades\"], \"x\": [8], \"y\": [\"NARIELE\"], \"type\": \"scatter\", \"uid\": \"c3fb699e-fae4-11e8-b19a-e35ea5c620f6\"}, {\"marker\": {\"color\": \"rgb(255,126,24)\", \"line\": {\"width\": 0}, \"sizemode\": \"area\", \"symbol\": \"circle\"}, \"mode\": \"markers\", \"name\": \"\", \"text\": [], \"x\": [], \"y\": [], \"type\": \"scatter\", \"uid\": \"c3fb6a16-fae4-11e8-b19a-e35ea5c620f6\"}, {\"marker\": {\"color\": \"rgb(255,126,24)\", \"line\": {\"width\": 0}, \"sizemode\": \"area\", \"symbol\": \"circle\"}, \"mode\": \"markers\", \"name\": \"\", \"text\": [], \"x\": [], \"y\": [], \"type\": \"scatter\", \"uid\": \"c3fb6a8e-fae4-11e8-b19a-e35ea5c620f6\"}], {\"hovermode\": \"closest\", \"showlegend\": false, \"title\": \"Quantidade de tarefas <b>n\\u00e3o</b> feitas por alunos\", \"xaxis\": {\"dtick\": 1, \"showgrid\": true, \"tick0\": 0, \"title\": \"N\\u00famero de atividades\", \"titlefont\": {\"color\": \"rgb(180,180,180)\"}}, \"yaxis\": {\"dtick\": 1, \"exponentformat\": \"e\", \"gridcolor\": \"#bdbdbd\", \"showexponent\": \"all\", \"showgrid\": false, \"showticklabels\": true, \"tick0\": 0, \"title\": \"\", \"titlefont\": {\"color\": \"rgb(180,180,180)\"}}}, {\"showLink\": true, \"linkText\": \"Export to plot.ly\"})});</script>"
      ],
      "text/vnd.plotly.v1+html": [
       "<div id=\"5b4bc5a0-bcd0-4871-8019-865cee48b0b9\" style=\"height: 525px; width: 100%;\" class=\"plotly-graph-div\"></div><script type=\"text/javascript\">require([\"plotly\"], function(Plotly) { window.PLOTLYENV=window.PLOTLYENV || {};window.PLOTLYENV.BASE_URL=\"https://plot.ly\";Plotly.newPlot(\"5b4bc5a0-bcd0-4871-8019-865cee48b0b9\", [{\"marker\": {\"color\": \"lightgray\"}, \"name\": \"\", \"orientation\": \"h\", \"text\": \"\", \"width\": [0.07, 0.07, 0.07, 0.07, 0.07, 0.07, 0.07, 0.07, 0.07, 0.07, 0.07, 0.07, 0.07, 0.07, 0.07, 0.07, 0.07, 0.07, 0.07, 0.07], \"x\": [3, 4, 5, 5, 5, 5, 5, 6, 6, 6, 6, 6, 6, 7, 7, 7, 7, 7, 7, 8], \"y\": [\"UDILSON\", \"IDELMARIA\", \"DAFINE\", \"GIUSEPPE\", \"ISABELI\", \"JOCIQUELE\", \"OTO\", \"ANAZIRA\", \"DILZA\", \"ERILIO\", \"IZILDA\", \"ROSALHA\", \"SELESTRINO\", \"ALMIRA\", \"ELIDO\", \"KARIANY\", \"MESSODY\", \"TIARA\", \"URSULLA\", \"NARIELE\"], \"type\": \"bar\", \"uid\": \"c3fb63b8-fae4-11e8-b19a-e35ea5c620f6\"}, {\"marker\": {\"color\": \"rgb(255,126,24)\", \"line\": {\"width\": 0}, \"sizemode\": \"area\", \"symbol\": \"circle\"}, \"mode\": \"markers\", \"name\": \"\", \"text\": [], \"x\": [], \"y\": [], \"type\": \"scatter\", \"uid\": \"c3fb657a-fae4-11e8-b19a-e35ea5c620f6\"}, {\"marker\": {\"color\": \"rgb(255,126,24)\", \"line\": {\"width\": 0}, \"sizemode\": \"area\", \"symbol\": \"circle\"}, \"mode\": \"markers\", \"name\": \"\", \"text\": [], \"x\": [], \"y\": [], \"type\": \"scatter\", \"uid\": \"c3fb6656-fae4-11e8-b19a-e35ea5c620f6\"}, {\"marker\": {\"color\": \"rgb(255,126,24)\", \"line\": {\"width\": 0}, \"sizemode\": \"area\", \"symbol\": \"circle\"}, \"mode\": \"markers\", \"name\": \"\", \"text\": [\"3 atividades\"], \"x\": [3], \"y\": [\"UDILSON\"], \"type\": \"scatter\", \"uid\": \"c3fb66f6-fae4-11e8-b19a-e35ea5c620f6\"}, {\"marker\": {\"color\": \"rgb(255,126,24)\", \"line\": {\"width\": 0}, \"sizemode\": \"area\", \"symbol\": \"circle\"}, \"mode\": \"markers\", \"name\": \"\", \"text\": [\"4 atividades\"], \"x\": [4], \"y\": [\"IDELMARIA\"], \"type\": \"scatter\", \"uid\": \"c3fb6796-fae4-11e8-b19a-e35ea5c620f6\"}, {\"marker\": {\"color\": \"rgb(255,126,24)\", \"line\": {\"width\": 0}, \"sizemode\": \"area\", \"symbol\": \"circle\"}, \"mode\": \"markers\", \"name\": \"\", \"text\": [\"5 atividades\", \"5 atividades\", \"5 atividades\", \"5 atividades\", \"5 atividades\"], \"x\": [5, 5, 5, 5, 5], \"y\": [\"DAFINE\", \"GIUSEPPE\", \"ISABELI\", \"JOCIQUELE\", \"OTO\"], \"type\": \"scatter\", \"uid\": \"c3fb6822-fae4-11e8-b19a-e35ea5c620f6\"}, {\"marker\": {\"color\": \"rgb(255,126,24)\", \"line\": {\"width\": 0}, \"sizemode\": \"area\", \"symbol\": \"circle\"}, \"mode\": \"markers\", \"name\": \"\", \"text\": [\"6 atividades\", \"6 atividades\", \"6 atividades\", \"6 atividades\", \"6 atividades\", \"6 atividades\"], \"x\": [6, 6, 6, 6, 6, 6], \"y\": [\"ANAZIRA\", \"DILZA\", \"ERILIO\", \"IZILDA\", \"ROSALHA\", \"SELESTRINO\"], \"type\": \"scatter\", \"uid\": \"c3fb68a4-fae4-11e8-b19a-e35ea5c620f6\"}, {\"marker\": {\"color\": \"rgb(255,126,24)\", \"line\": {\"width\": 0}, \"sizemode\": \"area\", \"symbol\": \"circle\"}, \"mode\": \"markers\", \"name\": \"\", \"text\": [\"7 atividades\", \"7 atividades\", \"7 atividades\", \"7 atividades\", \"7 atividades\", \"7 atividades\"], \"x\": [7, 7, 7, 7, 7, 7], \"y\": [\"ALMIRA\", \"ELIDO\", \"KARIANY\", \"MESSODY\", \"TIARA\", \"URSULLA\"], \"type\": \"scatter\", \"uid\": \"c3fb691c-fae4-11e8-b19a-e35ea5c620f6\"}, {\"marker\": {\"color\": \"rgb(255,126,24)\", \"line\": {\"width\": 0}, \"sizemode\": \"area\", \"symbol\": \"circle\"}, \"mode\": \"markers\", \"name\": \"\", \"text\": [\"8 atividades\"], \"x\": [8], \"y\": [\"NARIELE\"], \"type\": \"scatter\", \"uid\": \"c3fb699e-fae4-11e8-b19a-e35ea5c620f6\"}, {\"marker\": {\"color\": \"rgb(255,126,24)\", \"line\": {\"width\": 0}, \"sizemode\": \"area\", \"symbol\": \"circle\"}, \"mode\": \"markers\", \"name\": \"\", \"text\": [], \"x\": [], \"y\": [], \"type\": \"scatter\", \"uid\": \"c3fb6a16-fae4-11e8-b19a-e35ea5c620f6\"}, {\"marker\": {\"color\": \"rgb(255,126,24)\", \"line\": {\"width\": 0}, \"sizemode\": \"area\", \"symbol\": \"circle\"}, \"mode\": \"markers\", \"name\": \"\", \"text\": [], \"x\": [], \"y\": [], \"type\": \"scatter\", \"uid\": \"c3fb6a8e-fae4-11e8-b19a-e35ea5c620f6\"}], {\"hovermode\": \"closest\", \"showlegend\": false, \"title\": \"Quantidade de tarefas <b>n\\u00e3o</b> feitas por alunos\", \"xaxis\": {\"dtick\": 1, \"showgrid\": true, \"tick0\": 0, \"title\": \"N\\u00famero de atividades\", \"titlefont\": {\"color\": \"rgb(180,180,180)\"}}, \"yaxis\": {\"dtick\": 1, \"exponentformat\": \"e\", \"gridcolor\": \"#bdbdbd\", \"showexponent\": \"all\", \"showgrid\": false, \"showticklabels\": true, \"tick0\": 0, \"title\": \"\", \"titlefont\": {\"color\": \"rgb(180,180,180)\"}}}, {\"showLink\": true, \"linkText\": \"Export to plot.ly\"})});</script>"
      ]
     },
     "metadata": {},
     "output_type": "display_data"
    },
    {
     "data": {
      "application/vnd.plotly.v1+json": {
       "data": [
        {
         "type": "bar",
         "uid": "c4001660-fae4-11e8-b19a-e35ea5c620f6",
         "x": [
          "Assign1",
          "Assign2",
          "Assign3",
          "Assign4",
          "Assign5",
          "Assign6",
          "Assign7",
          "Assign8",
          "Assign9",
          "Assign10"
         ],
         "y": [
          9,
          10,
          8,
          10,
          6,
          6,
          10,
          8,
          9,
          6
         ]
        }
       ],
       "layout": {
        "title": "Quantidade de estudantes que fizeram as tarefas",
        "xaxis": {
         "title": "",
         "titlefont": {
          "color": "rgb(180,180,180)"
         }
        },
        "yaxis": {
         "dtick": 1,
         "exponentformat": "e",
         "gridcolor": "#bdbdbd",
         "showexponent": "all",
         "showticklabels": true,
         "tick0": 0,
         "title": "Número de estudantes",
         "titlefont": {
          "color": "rgb(180,180,180)"
         }
        }
       }
      },
      "text/html": [
       "<div id=\"5078e4e3-9e55-4630-a0c9-faa4ce992e13\" style=\"height: 525px; width: 100%;\" class=\"plotly-graph-div\"></div><script type=\"text/javascript\">require([\"plotly\"], function(Plotly) { window.PLOTLYENV=window.PLOTLYENV || {};window.PLOTLYENV.BASE_URL=\"https://plot.ly\";Plotly.newPlot(\"5078e4e3-9e55-4630-a0c9-faa4ce992e13\", [{\"x\": [\"Assign1\", \"Assign2\", \"Assign3\", \"Assign4\", \"Assign5\", \"Assign6\", \"Assign7\", \"Assign8\", \"Assign9\", \"Assign10\"], \"y\": [9, 10, 8, 10, 6, 6, 10, 8, 9, 6], \"type\": \"bar\", \"uid\": \"c4001660-fae4-11e8-b19a-e35ea5c620f6\"}], {\"title\": \"Quantidade de estudantes que fizeram as tarefas\", \"xaxis\": {\"title\": \"\", \"titlefont\": {\"color\": \"rgb(180,180,180)\"}}, \"yaxis\": {\"dtick\": 1, \"exponentformat\": \"e\", \"gridcolor\": \"#bdbdbd\", \"showexponent\": \"all\", \"showticklabels\": true, \"tick0\": 0, \"title\": \"N\\u00famero de estudantes\", \"titlefont\": {\"color\": \"rgb(180,180,180)\"}}}, {\"showLink\": true, \"linkText\": \"Export to plot.ly\"})});</script>"
      ],
      "text/vnd.plotly.v1+html": [
       "<div id=\"5078e4e3-9e55-4630-a0c9-faa4ce992e13\" style=\"height: 525px; width: 100%;\" class=\"plotly-graph-div\"></div><script type=\"text/javascript\">require([\"plotly\"], function(Plotly) { window.PLOTLYENV=window.PLOTLYENV || {};window.PLOTLYENV.BASE_URL=\"https://plot.ly\";Plotly.newPlot(\"5078e4e3-9e55-4630-a0c9-faa4ce992e13\", [{\"x\": [\"Assign1\", \"Assign2\", \"Assign3\", \"Assign4\", \"Assign5\", \"Assign6\", \"Assign7\", \"Assign8\", \"Assign9\", \"Assign10\"], \"y\": [9, 10, 8, 10, 6, 6, 10, 8, 9, 6], \"type\": \"bar\", \"uid\": \"c4001660-fae4-11e8-b19a-e35ea5c620f6\"}], {\"title\": \"Quantidade de estudantes que fizeram as tarefas\", \"xaxis\": {\"title\": \"\", \"titlefont\": {\"color\": \"rgb(180,180,180)\"}}, \"yaxis\": {\"dtick\": 1, \"exponentformat\": \"e\", \"gridcolor\": \"#bdbdbd\", \"showexponent\": \"all\", \"showticklabels\": true, \"tick0\": 0, \"title\": \"N\\u00famero de estudantes\", \"titlefont\": {\"color\": \"rgb(180,180,180)\"}}}, {\"showLink\": true, \"linkText\": \"Export to plot.ly\"})});</script>"
      ]
     },
     "metadata": {},
     "output_type": "display_data"
    },
    {
     "data": {
      "application/vnd.plotly.v1+json": {
       "data": [
        {
         "type": "bar",
         "uid": "c404a1c6-fae4-11e8-b19a-e35ea5c620f6",
         "x": [
          "Assign10",
          "Assign5",
          "Assign6",
          "Assign3",
          "Assign8",
          "Assign1",
          "Assign9",
          "Assign2",
          "Assign4",
          "Assign7"
         ],
         "y": [
          6,
          6,
          6,
          8,
          8,
          9,
          9,
          10,
          10,
          10
         ]
        }
       ],
       "layout": {
        "title": "Quantidade de alunos que fizeram as tarefas",
        "xaxis": {
         "title": "",
         "titlefont": {
          "color": "rgb(180,180,180)"
         }
        },
        "yaxis": {
         "dtick": 1,
         "exponentformat": "e",
         "gridcolor": "#bdbdbd",
         "showexponent": "all",
         "showticklabels": true,
         "tick0": 0,
         "title": "Número de estudantes",
         "titlefont": {
          "color": "rgb(180,180,180)"
         }
        }
       }
      },
      "text/html": [
       "<div id=\"d0667420-9a05-4d49-a24c-4620e5e10be7\" style=\"height: 525px; width: 100%;\" class=\"plotly-graph-div\"></div><script type=\"text/javascript\">require([\"plotly\"], function(Plotly) { window.PLOTLYENV=window.PLOTLYENV || {};window.PLOTLYENV.BASE_URL=\"https://plot.ly\";Plotly.newPlot(\"d0667420-9a05-4d49-a24c-4620e5e10be7\", [{\"x\": [\"Assign10\", \"Assign5\", \"Assign6\", \"Assign3\", \"Assign8\", \"Assign1\", \"Assign9\", \"Assign2\", \"Assign4\", \"Assign7\"], \"y\": [6, 6, 6, 8, 8, 9, 9, 10, 10, 10], \"type\": \"bar\", \"uid\": \"c404a1c6-fae4-11e8-b19a-e35ea5c620f6\"}], {\"title\": \"Quantidade de alunos que fizeram as tarefas\", \"xaxis\": {\"title\": \"\", \"titlefont\": {\"color\": \"rgb(180,180,180)\"}}, \"yaxis\": {\"dtick\": 1, \"exponentformat\": \"e\", \"gridcolor\": \"#bdbdbd\", \"showexponent\": \"all\", \"showticklabels\": true, \"tick0\": 0, \"title\": \"N\\u00famero de estudantes\", \"titlefont\": {\"color\": \"rgb(180,180,180)\"}}}, {\"showLink\": true, \"linkText\": \"Export to plot.ly\"})});</script>"
      ],
      "text/vnd.plotly.v1+html": [
       "<div id=\"d0667420-9a05-4d49-a24c-4620e5e10be7\" style=\"height: 525px; width: 100%;\" class=\"plotly-graph-div\"></div><script type=\"text/javascript\">require([\"plotly\"], function(Plotly) { window.PLOTLYENV=window.PLOTLYENV || {};window.PLOTLYENV.BASE_URL=\"https://plot.ly\";Plotly.newPlot(\"d0667420-9a05-4d49-a24c-4620e5e10be7\", [{\"x\": [\"Assign10\", \"Assign5\", \"Assign6\", \"Assign3\", \"Assign8\", \"Assign1\", \"Assign9\", \"Assign2\", \"Assign4\", \"Assign7\"], \"y\": [6, 6, 6, 8, 8, 9, 9, 10, 10, 10], \"type\": \"bar\", \"uid\": \"c404a1c6-fae4-11e8-b19a-e35ea5c620f6\"}], {\"title\": \"Quantidade de alunos que fizeram as tarefas\", \"xaxis\": {\"title\": \"\", \"titlefont\": {\"color\": \"rgb(180,180,180)\"}}, \"yaxis\": {\"dtick\": 1, \"exponentformat\": \"e\", \"gridcolor\": \"#bdbdbd\", \"showexponent\": \"all\", \"showticklabels\": true, \"tick0\": 0, \"title\": \"N\\u00famero de estudantes\", \"titlefont\": {\"color\": \"rgb(180,180,180)\"}}}, {\"showLink\": true, \"linkText\": \"Export to plot.ly\"})});</script>"
      ]
     },
     "metadata": {},
     "output_type": "display_data"
    },
    {
     "data": {
      "application/vnd.plotly.v1+json": {
       "data": [
        {
         "orientation": "h",
         "type": "bar",
         "uid": "c4091aee-fae4-11e8-b19a-e35ea5c620f6",
         "x": [
          9,
          10,
          8,
          10,
          6,
          6,
          10,
          8,
          9,
          6
         ],
         "y": [
          "Assign1",
          "Assign2",
          "Assign3",
          "Assign4",
          "Assign5",
          "Assign6",
          "Assign7",
          "Assign8",
          "Assign9",
          "Assign10"
         ]
        }
       ],
       "layout": {
        "title": "Quantidade de estudantes que fizeram as tarefas",
        "xaxis": {
         "dtick": 1,
         "tick0": 0,
         "title": "Número de estudantes",
         "titlefont": {
          "color": "rgb(180,180,180)"
         }
        },
        "yaxis": {
         "dtick": 1,
         "exponentformat": "e",
         "gridcolor": "#bdbdbd",
         "showexponent": "all",
         "showticklabels": true,
         "tick0": 0,
         "title": "",
         "titlefont": {
          "color": "rgb(180,180,180)"
         }
        }
       }
      },
      "text/html": [
       "<div id=\"87f7325c-13ba-4c58-aa4c-624ef5b3e0e4\" style=\"height: 525px; width: 100%;\" class=\"plotly-graph-div\"></div><script type=\"text/javascript\">require([\"plotly\"], function(Plotly) { window.PLOTLYENV=window.PLOTLYENV || {};window.PLOTLYENV.BASE_URL=\"https://plot.ly\";Plotly.newPlot(\"87f7325c-13ba-4c58-aa4c-624ef5b3e0e4\", [{\"orientation\": \"h\", \"x\": [9, 10, 8, 10, 6, 6, 10, 8, 9, 6], \"y\": [\"Assign1\", \"Assign2\", \"Assign3\", \"Assign4\", \"Assign5\", \"Assign6\", \"Assign7\", \"Assign8\", \"Assign9\", \"Assign10\"], \"type\": \"bar\", \"uid\": \"c4091aee-fae4-11e8-b19a-e35ea5c620f6\"}], {\"title\": \"Quantidade de estudantes que fizeram as tarefas\", \"xaxis\": {\"dtick\": 1, \"tick0\": 0, \"title\": \"N\\u00famero de estudantes\", \"titlefont\": {\"color\": \"rgb(180,180,180)\"}}, \"yaxis\": {\"dtick\": 1, \"exponentformat\": \"e\", \"gridcolor\": \"#bdbdbd\", \"showexponent\": \"all\", \"showticklabels\": true, \"tick0\": 0, \"title\": \"\", \"titlefont\": {\"color\": \"rgb(180,180,180)\"}}}, {\"showLink\": true, \"linkText\": \"Export to plot.ly\"})});</script>"
      ],
      "text/vnd.plotly.v1+html": [
       "<div id=\"87f7325c-13ba-4c58-aa4c-624ef5b3e0e4\" style=\"height: 525px; width: 100%;\" class=\"plotly-graph-div\"></div><script type=\"text/javascript\">require([\"plotly\"], function(Plotly) { window.PLOTLYENV=window.PLOTLYENV || {};window.PLOTLYENV.BASE_URL=\"https://plot.ly\";Plotly.newPlot(\"87f7325c-13ba-4c58-aa4c-624ef5b3e0e4\", [{\"orientation\": \"h\", \"x\": [9, 10, 8, 10, 6, 6, 10, 8, 9, 6], \"y\": [\"Assign1\", \"Assign2\", \"Assign3\", \"Assign4\", \"Assign5\", \"Assign6\", \"Assign7\", \"Assign8\", \"Assign9\", \"Assign10\"], \"type\": \"bar\", \"uid\": \"c4091aee-fae4-11e8-b19a-e35ea5c620f6\"}], {\"title\": \"Quantidade de estudantes que fizeram as tarefas\", \"xaxis\": {\"dtick\": 1, \"tick0\": 0, \"title\": \"N\\u00famero de estudantes\", \"titlefont\": {\"color\": \"rgb(180,180,180)\"}}, \"yaxis\": {\"dtick\": 1, \"exponentformat\": \"e\", \"gridcolor\": \"#bdbdbd\", \"showexponent\": \"all\", \"showticklabels\": true, \"tick0\": 0, \"title\": \"\", \"titlefont\": {\"color\": \"rgb(180,180,180)\"}}}, {\"showLink\": true, \"linkText\": \"Export to plot.ly\"})});</script>"
      ]
     },
     "metadata": {},
     "output_type": "display_data"
    },
    {
     "data": {
      "application/vnd.plotly.v1+json": {
       "data": [
        {
         "orientation": "h",
         "type": "bar",
         "uid": "c40e0464-fae4-11e8-b19a-e35ea5c620f6",
         "x": [
          6,
          6,
          6,
          8,
          8,
          9,
          9,
          10,
          10,
          10
         ],
         "y": [
          "Assign10",
          "Assign5",
          "Assign6",
          "Assign3",
          "Assign8",
          "Assign1",
          "Assign9",
          "Assign2",
          "Assign4",
          "Assign7"
         ]
        }
       ],
       "layout": {
        "title": "Quantidade de estudantes que fizeram as tarefas",
        "xaxis": {
         "dtick": 1,
         "tick0": 0,
         "title": "Número de estudantes",
         "titlefont": {
          "color": "rgb(180,180,180)"
         }
        },
        "yaxis": {
         "dtick": 1,
         "exponentformat": "e",
         "gridcolor": "#bdbdbd",
         "showexponent": "all",
         "showticklabels": true,
         "tick0": 0,
         "title": "",
         "titlefont": {
          "color": "rgb(180,180,180)"
         }
        }
       }
      },
      "text/html": [
       "<div id=\"25bf65f2-4e51-4c04-a39c-2bdf7f3ab8cc\" style=\"height: 525px; width: 100%;\" class=\"plotly-graph-div\"></div><script type=\"text/javascript\">require([\"plotly\"], function(Plotly) { window.PLOTLYENV=window.PLOTLYENV || {};window.PLOTLYENV.BASE_URL=\"https://plot.ly\";Plotly.newPlot(\"25bf65f2-4e51-4c04-a39c-2bdf7f3ab8cc\", [{\"orientation\": \"h\", \"x\": [6, 6, 6, 8, 8, 9, 9, 10, 10, 10], \"y\": [\"Assign10\", \"Assign5\", \"Assign6\", \"Assign3\", \"Assign8\", \"Assign1\", \"Assign9\", \"Assign2\", \"Assign4\", \"Assign7\"], \"type\": \"bar\", \"uid\": \"c40e0464-fae4-11e8-b19a-e35ea5c620f6\"}], {\"title\": \"Quantidade de estudantes que fizeram as tarefas\", \"xaxis\": {\"dtick\": 1, \"tick0\": 0, \"title\": \"N\\u00famero de estudantes\", \"titlefont\": {\"color\": \"rgb(180,180,180)\"}}, \"yaxis\": {\"dtick\": 1, \"exponentformat\": \"e\", \"gridcolor\": \"#bdbdbd\", \"showexponent\": \"all\", \"showticklabels\": true, \"tick0\": 0, \"title\": \"\", \"titlefont\": {\"color\": \"rgb(180,180,180)\"}}}, {\"showLink\": true, \"linkText\": \"Export to plot.ly\"})});</script>"
      ],
      "text/vnd.plotly.v1+html": [
       "<div id=\"25bf65f2-4e51-4c04-a39c-2bdf7f3ab8cc\" style=\"height: 525px; width: 100%;\" class=\"plotly-graph-div\"></div><script type=\"text/javascript\">require([\"plotly\"], function(Plotly) { window.PLOTLYENV=window.PLOTLYENV || {};window.PLOTLYENV.BASE_URL=\"https://plot.ly\";Plotly.newPlot(\"25bf65f2-4e51-4c04-a39c-2bdf7f3ab8cc\", [{\"orientation\": \"h\", \"x\": [6, 6, 6, 8, 8, 9, 9, 10, 10, 10], \"y\": [\"Assign10\", \"Assign5\", \"Assign6\", \"Assign3\", \"Assign8\", \"Assign1\", \"Assign9\", \"Assign2\", \"Assign4\", \"Assign7\"], \"type\": \"bar\", \"uid\": \"c40e0464-fae4-11e8-b19a-e35ea5c620f6\"}], {\"title\": \"Quantidade de estudantes que fizeram as tarefas\", \"xaxis\": {\"dtick\": 1, \"tick0\": 0, \"title\": \"N\\u00famero de estudantes\", \"titlefont\": {\"color\": \"rgb(180,180,180)\"}}, \"yaxis\": {\"dtick\": 1, \"exponentformat\": \"e\", \"gridcolor\": \"#bdbdbd\", \"showexponent\": \"all\", \"showticklabels\": true, \"tick0\": 0, \"title\": \"\", \"titlefont\": {\"color\": \"rgb(180,180,180)\"}}}, {\"showLink\": true, \"linkText\": \"Export to plot.ly\"})});</script>"
      ]
     },
     "metadata": {},
     "output_type": "display_data"
    },
    {
     "data": {
      "application/vnd.plotly.v1+json": {
       "data": [
        {
         "marker": {
          "color": "rgb(255,126,24)"
         },
         "type": "bar",
         "uid": "c412e2c2-fae4-11e8-b19a-e35ea5c620f6",
         "x": [
          "Assign1",
          "Assign2",
          "Assign3",
          "Assign4",
          "Assign5",
          "Assign6",
          "Assign7",
          "Assign8",
          "Assign9",
          "Assign10"
         ],
         "y": [
          11,
          10,
          12,
          10,
          14,
          14,
          10,
          12,
          11,
          14
         ]
        }
       ],
       "layout": {
        "title": "Quantidade de estudantes <b>não</b> que fizeram as tarefas",
        "xaxis": {
         "title": "",
         "titlefont": {
          "color": "rgb(180,180,180)"
         }
        },
        "yaxis": {
         "dtick": 1,
         "exponentformat": "e",
         "gridcolor": "#bdbdbd",
         "showexponent": "all",
         "showticklabels": true,
         "tick0": 0,
         "title": "Número de estudantes",
         "titlefont": {
          "color": "rgb(180,180,180)"
         }
        }
       }
      },
      "text/html": [
       "<div id=\"598a0779-0f92-44cb-8088-d739c55e1ccd\" style=\"height: 525px; width: 100%;\" class=\"plotly-graph-div\"></div><script type=\"text/javascript\">require([\"plotly\"], function(Plotly) { window.PLOTLYENV=window.PLOTLYENV || {};window.PLOTLYENV.BASE_URL=\"https://plot.ly\";Plotly.newPlot(\"598a0779-0f92-44cb-8088-d739c55e1ccd\", [{\"marker\": {\"color\": \"rgb(255,126,24)\"}, \"x\": [\"Assign1\", \"Assign2\", \"Assign3\", \"Assign4\", \"Assign5\", \"Assign6\", \"Assign7\", \"Assign8\", \"Assign9\", \"Assign10\"], \"y\": [11, 10, 12, 10, 14, 14, 10, 12, 11, 14], \"type\": \"bar\", \"uid\": \"c412e2c2-fae4-11e8-b19a-e35ea5c620f6\"}], {\"title\": \"Quantidade de estudantes <b>n\\u00e3o</b> que fizeram as tarefas\", \"xaxis\": {\"title\": \"\", \"titlefont\": {\"color\": \"rgb(180,180,180)\"}}, \"yaxis\": {\"dtick\": 1, \"exponentformat\": \"e\", \"gridcolor\": \"#bdbdbd\", \"showexponent\": \"all\", \"showticklabels\": true, \"tick0\": 0, \"title\": \"N\\u00famero de estudantes\", \"titlefont\": {\"color\": \"rgb(180,180,180)\"}}}, {\"showLink\": true, \"linkText\": \"Export to plot.ly\"})});</script>"
      ],
      "text/vnd.plotly.v1+html": [
       "<div id=\"598a0779-0f92-44cb-8088-d739c55e1ccd\" style=\"height: 525px; width: 100%;\" class=\"plotly-graph-div\"></div><script type=\"text/javascript\">require([\"plotly\"], function(Plotly) { window.PLOTLYENV=window.PLOTLYENV || {};window.PLOTLYENV.BASE_URL=\"https://plot.ly\";Plotly.newPlot(\"598a0779-0f92-44cb-8088-d739c55e1ccd\", [{\"marker\": {\"color\": \"rgb(255,126,24)\"}, \"x\": [\"Assign1\", \"Assign2\", \"Assign3\", \"Assign4\", \"Assign5\", \"Assign6\", \"Assign7\", \"Assign8\", \"Assign9\", \"Assign10\"], \"y\": [11, 10, 12, 10, 14, 14, 10, 12, 11, 14], \"type\": \"bar\", \"uid\": \"c412e2c2-fae4-11e8-b19a-e35ea5c620f6\"}], {\"title\": \"Quantidade de estudantes <b>n\\u00e3o</b> que fizeram as tarefas\", \"xaxis\": {\"title\": \"\", \"titlefont\": {\"color\": \"rgb(180,180,180)\"}}, \"yaxis\": {\"dtick\": 1, \"exponentformat\": \"e\", \"gridcolor\": \"#bdbdbd\", \"showexponent\": \"all\", \"showticklabels\": true, \"tick0\": 0, \"title\": \"N\\u00famero de estudantes\", \"titlefont\": {\"color\": \"rgb(180,180,180)\"}}}, {\"showLink\": true, \"linkText\": \"Export to plot.ly\"})});</script>"
      ]
     },
     "metadata": {},
     "output_type": "display_data"
    },
    {
     "data": {
      "application/vnd.plotly.v1+json": {
       "data": [
        {
         "marker": {
          "color": "rgb(255,126,24)"
         },
         "type": "bar",
         "uid": "c4182944-fae4-11e8-b19a-e35ea5c620f6",
         "x": [
          "Assign2",
          "Assign4",
          "Assign7",
          "Assign1",
          "Assign9",
          "Assign3",
          "Assign8",
          "Assign10",
          "Assign5",
          "Assign6"
         ],
         "y": [
          10,
          10,
          10,
          11,
          11,
          12,
          12,
          14,
          14,
          14
         ]
        }
       ],
       "layout": {
        "title": "Quantidade de alunos que <b>não</b> fizeram as tarefas",
        "xaxis": {
         "title": "",
         "titlefont": {
          "color": "rgb(180,180,180)"
         }
        },
        "yaxis": {
         "dtick": 1,
         "exponentformat": "e",
         "gridcolor": "#bdbdbd",
         "showexponent": "all",
         "showticklabels": true,
         "tick0": 0,
         "title": "Número de estudantes",
         "titlefont": {
          "color": "rgb(180,180,180)"
         }
        }
       }
      },
      "text/html": [
       "<div id=\"789bcea7-0aa1-4f7b-a09e-cc7b6d363885\" style=\"height: 525px; width: 100%;\" class=\"plotly-graph-div\"></div><script type=\"text/javascript\">require([\"plotly\"], function(Plotly) { window.PLOTLYENV=window.PLOTLYENV || {};window.PLOTLYENV.BASE_URL=\"https://plot.ly\";Plotly.newPlot(\"789bcea7-0aa1-4f7b-a09e-cc7b6d363885\", [{\"marker\": {\"color\": \"rgb(255,126,24)\"}, \"x\": [\"Assign2\", \"Assign4\", \"Assign7\", \"Assign1\", \"Assign9\", \"Assign3\", \"Assign8\", \"Assign10\", \"Assign5\", \"Assign6\"], \"y\": [10, 10, 10, 11, 11, 12, 12, 14, 14, 14], \"type\": \"bar\", \"uid\": \"c4182944-fae4-11e8-b19a-e35ea5c620f6\"}], {\"title\": \"Quantidade de alunos que <b>n\\u00e3o</b> fizeram as tarefas\", \"xaxis\": {\"title\": \"\", \"titlefont\": {\"color\": \"rgb(180,180,180)\"}}, \"yaxis\": {\"dtick\": 1, \"exponentformat\": \"e\", \"gridcolor\": \"#bdbdbd\", \"showexponent\": \"all\", \"showticklabels\": true, \"tick0\": 0, \"title\": \"N\\u00famero de estudantes\", \"titlefont\": {\"color\": \"rgb(180,180,180)\"}}}, {\"showLink\": true, \"linkText\": \"Export to plot.ly\"})});</script>"
      ],
      "text/vnd.plotly.v1+html": [
       "<div id=\"789bcea7-0aa1-4f7b-a09e-cc7b6d363885\" style=\"height: 525px; width: 100%;\" class=\"plotly-graph-div\"></div><script type=\"text/javascript\">require([\"plotly\"], function(Plotly) { window.PLOTLYENV=window.PLOTLYENV || {};window.PLOTLYENV.BASE_URL=\"https://plot.ly\";Plotly.newPlot(\"789bcea7-0aa1-4f7b-a09e-cc7b6d363885\", [{\"marker\": {\"color\": \"rgb(255,126,24)\"}, \"x\": [\"Assign2\", \"Assign4\", \"Assign7\", \"Assign1\", \"Assign9\", \"Assign3\", \"Assign8\", \"Assign10\", \"Assign5\", \"Assign6\"], \"y\": [10, 10, 10, 11, 11, 12, 12, 14, 14, 14], \"type\": \"bar\", \"uid\": \"c4182944-fae4-11e8-b19a-e35ea5c620f6\"}], {\"title\": \"Quantidade de alunos que <b>n\\u00e3o</b> fizeram as tarefas\", \"xaxis\": {\"title\": \"\", \"titlefont\": {\"color\": \"rgb(180,180,180)\"}}, \"yaxis\": {\"dtick\": 1, \"exponentformat\": \"e\", \"gridcolor\": \"#bdbdbd\", \"showexponent\": \"all\", \"showticklabels\": true, \"tick0\": 0, \"title\": \"N\\u00famero de estudantes\", \"titlefont\": {\"color\": \"rgb(180,180,180)\"}}}, {\"showLink\": true, \"linkText\": \"Export to plot.ly\"})});</script>"
      ]
     },
     "metadata": {},
     "output_type": "display_data"
    },
    {
     "data": {
      "application/vnd.plotly.v1+json": {
       "data": [
        {
         "marker": {
          "color": "rgb(255,126,24)"
         },
         "orientation": "h",
         "type": "bar",
         "uid": "c41d5978-fae4-11e8-b19a-e35ea5c620f6",
         "x": [
          11,
          10,
          12,
          10,
          14,
          14,
          10,
          12,
          11,
          14
         ],
         "y": [
          "Assign1",
          "Assign2",
          "Assign3",
          "Assign4",
          "Assign5",
          "Assign6",
          "Assign7",
          "Assign8",
          "Assign9",
          "Assign10"
         ]
        }
       ],
       "layout": {
        "title": "Quantidade de estudantes que <b>não</b> fizeram as tarefas",
        "xaxis": {
         "dtick": 1,
         "tick0": 0,
         "title": "Número de estudantes",
         "titlefont": {
          "color": "rgb(180,180,180)"
         }
        },
        "yaxis": {
         "dtick": 1,
         "exponentformat": "e",
         "gridcolor": "#bdbdbd",
         "showexponent": "all",
         "showticklabels": true,
         "tick0": 0,
         "title": "",
         "titlefont": {
          "color": "rgb(180,180,180)"
         }
        }
       }
      },
      "text/html": [
       "<div id=\"a59b398b-3677-4d4f-8b0d-f23527140b67\" style=\"height: 525px; width: 100%;\" class=\"plotly-graph-div\"></div><script type=\"text/javascript\">require([\"plotly\"], function(Plotly) { window.PLOTLYENV=window.PLOTLYENV || {};window.PLOTLYENV.BASE_URL=\"https://plot.ly\";Plotly.newPlot(\"a59b398b-3677-4d4f-8b0d-f23527140b67\", [{\"marker\": {\"color\": \"rgb(255,126,24)\"}, \"orientation\": \"h\", \"x\": [11, 10, 12, 10, 14, 14, 10, 12, 11, 14], \"y\": [\"Assign1\", \"Assign2\", \"Assign3\", \"Assign4\", \"Assign5\", \"Assign6\", \"Assign7\", \"Assign8\", \"Assign9\", \"Assign10\"], \"type\": \"bar\", \"uid\": \"c41d5978-fae4-11e8-b19a-e35ea5c620f6\"}], {\"title\": \"Quantidade de estudantes que <b>n\\u00e3o</b> fizeram as tarefas\", \"xaxis\": {\"dtick\": 1, \"tick0\": 0, \"title\": \"N\\u00famero de estudantes\", \"titlefont\": {\"color\": \"rgb(180,180,180)\"}}, \"yaxis\": {\"dtick\": 1, \"exponentformat\": \"e\", \"gridcolor\": \"#bdbdbd\", \"showexponent\": \"all\", \"showticklabels\": true, \"tick0\": 0, \"title\": \"\", \"titlefont\": {\"color\": \"rgb(180,180,180)\"}}}, {\"showLink\": true, \"linkText\": \"Export to plot.ly\"})});</script>"
      ],
      "text/vnd.plotly.v1+html": [
       "<div id=\"a59b398b-3677-4d4f-8b0d-f23527140b67\" style=\"height: 525px; width: 100%;\" class=\"plotly-graph-div\"></div><script type=\"text/javascript\">require([\"plotly\"], function(Plotly) { window.PLOTLYENV=window.PLOTLYENV || {};window.PLOTLYENV.BASE_URL=\"https://plot.ly\";Plotly.newPlot(\"a59b398b-3677-4d4f-8b0d-f23527140b67\", [{\"marker\": {\"color\": \"rgb(255,126,24)\"}, \"orientation\": \"h\", \"x\": [11, 10, 12, 10, 14, 14, 10, 12, 11, 14], \"y\": [\"Assign1\", \"Assign2\", \"Assign3\", \"Assign4\", \"Assign5\", \"Assign6\", \"Assign7\", \"Assign8\", \"Assign9\", \"Assign10\"], \"type\": \"bar\", \"uid\": \"c41d5978-fae4-11e8-b19a-e35ea5c620f6\"}], {\"title\": \"Quantidade de estudantes que <b>n\\u00e3o</b> fizeram as tarefas\", \"xaxis\": {\"dtick\": 1, \"tick0\": 0, \"title\": \"N\\u00famero de estudantes\", \"titlefont\": {\"color\": \"rgb(180,180,180)\"}}, \"yaxis\": {\"dtick\": 1, \"exponentformat\": \"e\", \"gridcolor\": \"#bdbdbd\", \"showexponent\": \"all\", \"showticklabels\": true, \"tick0\": 0, \"title\": \"\", \"titlefont\": {\"color\": \"rgb(180,180,180)\"}}}, {\"showLink\": true, \"linkText\": \"Export to plot.ly\"})});</script>"
      ]
     },
     "metadata": {},
     "output_type": "display_data"
    },
    {
     "data": {
      "application/vnd.plotly.v1+json": {
       "data": [
        {
         "marker": {
          "color": "rgb(255,126,24)"
         },
         "orientation": "h",
         "type": "bar",
         "uid": "c42285b0-fae4-11e8-b19a-e35ea5c620f6",
         "x": [
          10,
          10,
          10,
          11,
          11,
          12,
          12,
          14,
          14,
          14
         ],
         "y": [
          "Assign2",
          "Assign4",
          "Assign7",
          "Assign1",
          "Assign9",
          "Assign3",
          "Assign8",
          "Assign10",
          "Assign5",
          "Assign6"
         ]
        }
       ],
       "layout": {
        "title": "Quantidade de estudantes que <b>não</b> fizeram as tarefas",
        "xaxis": {
         "dtick": 1,
         "tick0": 0,
         "title": "Número de estudantes",
         "titlefont": {
          "color": "rgb(180,180,180)"
         }
        },
        "yaxis": {
         "dtick": 1,
         "exponentformat": "e",
         "gridcolor": "#bdbdbd",
         "showexponent": "all",
         "showticklabels": true,
         "tick0": 0,
         "title": "",
         "titlefont": {
          "color": "rgb(180,180,180)"
         }
        }
       }
      },
      "text/html": [
       "<div id=\"0e8a01db-3b97-47f3-8f43-df7d5f3dbdf7\" style=\"height: 525px; width: 100%;\" class=\"plotly-graph-div\"></div><script type=\"text/javascript\">require([\"plotly\"], function(Plotly) { window.PLOTLYENV=window.PLOTLYENV || {};window.PLOTLYENV.BASE_URL=\"https://plot.ly\";Plotly.newPlot(\"0e8a01db-3b97-47f3-8f43-df7d5f3dbdf7\", [{\"marker\": {\"color\": \"rgb(255,126,24)\"}, \"orientation\": \"h\", \"x\": [10, 10, 10, 11, 11, 12, 12, 14, 14, 14], \"y\": [\"Assign2\", \"Assign4\", \"Assign7\", \"Assign1\", \"Assign9\", \"Assign3\", \"Assign8\", \"Assign10\", \"Assign5\", \"Assign6\"], \"type\": \"bar\", \"uid\": \"c42285b0-fae4-11e8-b19a-e35ea5c620f6\"}], {\"title\": \"Quantidade de estudantes que <b>n\\u00e3o</b> fizeram as tarefas\", \"xaxis\": {\"dtick\": 1, \"tick0\": 0, \"title\": \"N\\u00famero de estudantes\", \"titlefont\": {\"color\": \"rgb(180,180,180)\"}}, \"yaxis\": {\"dtick\": 1, \"exponentformat\": \"e\", \"gridcolor\": \"#bdbdbd\", \"showexponent\": \"all\", \"showticklabels\": true, \"tick0\": 0, \"title\": \"\", \"titlefont\": {\"color\": \"rgb(180,180,180)\"}}}, {\"showLink\": true, \"linkText\": \"Export to plot.ly\"})});</script>"
      ],
      "text/vnd.plotly.v1+html": [
       "<div id=\"0e8a01db-3b97-47f3-8f43-df7d5f3dbdf7\" style=\"height: 525px; width: 100%;\" class=\"plotly-graph-div\"></div><script type=\"text/javascript\">require([\"plotly\"], function(Plotly) { window.PLOTLYENV=window.PLOTLYENV || {};window.PLOTLYENV.BASE_URL=\"https://plot.ly\";Plotly.newPlot(\"0e8a01db-3b97-47f3-8f43-df7d5f3dbdf7\", [{\"marker\": {\"color\": \"rgb(255,126,24)\"}, \"orientation\": \"h\", \"x\": [10, 10, 10, 11, 11, 12, 12, 14, 14, 14], \"y\": [\"Assign2\", \"Assign4\", \"Assign7\", \"Assign1\", \"Assign9\", \"Assign3\", \"Assign8\", \"Assign10\", \"Assign5\", \"Assign6\"], \"type\": \"bar\", \"uid\": \"c42285b0-fae4-11e8-b19a-e35ea5c620f6\"}], {\"title\": \"Quantidade de estudantes que <b>n\\u00e3o</b> fizeram as tarefas\", \"xaxis\": {\"dtick\": 1, \"tick0\": 0, \"title\": \"N\\u00famero de estudantes\", \"titlefont\": {\"color\": \"rgb(180,180,180)\"}}, \"yaxis\": {\"dtick\": 1, \"exponentformat\": \"e\", \"gridcolor\": \"#bdbdbd\", \"showexponent\": \"all\", \"showticklabels\": true, \"tick0\": 0, \"title\": \"\", \"titlefont\": {\"color\": \"rgb(180,180,180)\"}}}, {\"showLink\": true, \"linkText\": \"Export to plot.ly\"})});</script>"
      ]
     },
     "metadata": {},
     "output_type": "display_data"
    },
    {
     "data": {
      "application/vnd.plotly.v1+json": {
       "data": [
        {
         "marker": {
          "color": "lightgray"
         },
         "name": "",
         "orientation": "h",
         "text": "",
         "type": "bar",
         "uid": "c432a602-fae4-11e8-b19a-e35ea5c620f6",
         "width": [
          0.04,
          0.04,
          0.04,
          0.04,
          0.04,
          0.04,
          0.04,
          0.04,
          0.04,
          0.04,
          0.04,
          0.04,
          0.04,
          0.04,
          0.04,
          0.04,
          0.04,
          0.04,
          0.04,
          0.04
         ],
         "x": [
          9,
          10,
          8,
          10,
          6,
          6,
          10,
          8,
          9,
          6
         ],
         "y": [
          "Assign1",
          "Assign2",
          "Assign3",
          "Assign4",
          "Assign5",
          "Assign6",
          "Assign7",
          "Assign8",
          "Assign9",
          "Assign10"
         ]
        },
        {
         "marker": {
          "color": "rgb(0,0,255)",
          "line": {
           "width": 0
          },
          "sizemode": "area",
          "symbol": "circle"
         },
         "mode": "markers",
         "name": "",
         "text": [],
         "type": "scatter",
         "uid": "c432a83c-fae4-11e8-b19a-e35ea5c620f6",
         "x": [],
         "y": []
        },
        {
         "marker": {
          "color": "rgb(0,0,255)",
          "line": {
           "width": 0
          },
          "sizemode": "area",
          "symbol": "circle"
         },
         "mode": "markers",
         "name": "",
         "text": [],
         "type": "scatter",
         "uid": "c432a95e-fae4-11e8-b19a-e35ea5c620f6",
         "x": [],
         "y": []
        },
        {
         "marker": {
          "color": "rgb(0,0,255)",
          "line": {
           "width": 0
          },
          "sizemode": "area",
          "symbol": "circle"
         },
         "mode": "markers",
         "name": "",
         "text": [],
         "type": "scatter",
         "uid": "c432aa44-fae4-11e8-b19a-e35ea5c620f6",
         "x": [],
         "y": []
        },
        {
         "marker": {
          "color": "rgb(0,0,255)",
          "line": {
           "width": 0
          },
          "sizemode": "area",
          "symbol": "circle"
         },
         "mode": "markers",
         "name": "",
         "text": [],
         "type": "scatter",
         "uid": "c432ab0c-fae4-11e8-b19a-e35ea5c620f6",
         "x": [],
         "y": []
        },
        {
         "marker": {
          "color": "rgb(0,0,255)",
          "line": {
           "width": 0
          },
          "sizemode": "area",
          "symbol": "circle"
         },
         "mode": "markers",
         "name": "",
         "text": [],
         "type": "scatter",
         "uid": "c432abca-fae4-11e8-b19a-e35ea5c620f6",
         "x": [],
         "y": []
        },
        {
         "marker": {
          "color": "rgb(0,0,255)",
          "line": {
           "width": 0
          },
          "sizemode": "area",
          "symbol": "circle"
         },
         "mode": "markers",
         "name": "",
         "text": [],
         "type": "scatter",
         "uid": "c432ac88-fae4-11e8-b19a-e35ea5c620f6",
         "x": [],
         "y": []
        },
        {
         "marker": {
          "color": "rgb(0,0,255)",
          "line": {
           "width": 0
          },
          "sizemode": "area",
          "symbol": "circle"
         },
         "mode": "markers",
         "name": "",
         "text": [
          "6 estudantes",
          "6 estudantes",
          "6 estudantes"
         ],
         "type": "scatter",
         "uid": "c432ad46-fae4-11e8-b19a-e35ea5c620f6",
         "x": [
          6,
          6,
          6
         ],
         "y": [
          "Assign5",
          "Assign6",
          "Assign10"
         ]
        },
        {
         "marker": {
          "color": "rgb(0,0,255)",
          "line": {
           "width": 0
          },
          "sizemode": "area",
          "symbol": "circle"
         },
         "mode": "markers",
         "name": "",
         "text": [],
         "type": "scatter",
         "uid": "c432ae04-fae4-11e8-b19a-e35ea5c620f6",
         "x": [],
         "y": []
        },
        {
         "marker": {
          "color": "rgb(0,0,255)",
          "line": {
           "width": 0
          },
          "sizemode": "area",
          "symbol": "circle"
         },
         "mode": "markers",
         "name": "",
         "text": [
          "8 estudantes",
          "8 estudantes"
         ],
         "type": "scatter",
         "uid": "c432aeb8-fae4-11e8-b19a-e35ea5c620f6",
         "x": [
          8,
          8
         ],
         "y": [
          "Assign3",
          "Assign8"
         ]
        },
        {
         "marker": {
          "color": "rgb(0,0,255)",
          "line": {
           "width": 0
          },
          "sizemode": "area",
          "symbol": "circle"
         },
         "mode": "markers",
         "name": "",
         "text": [
          "9 estudantes",
          "9 estudantes"
         ],
         "type": "scatter",
         "uid": "c432af76-fae4-11e8-b19a-e35ea5c620f6",
         "x": [
          9,
          9
         ],
         "y": [
          "Assign1",
          "Assign9"
         ]
        },
        {
         "marker": {
          "color": "rgb(0,0,255)",
          "line": {
           "width": 0
          },
          "sizemode": "area",
          "symbol": "circle"
         },
         "mode": "markers",
         "name": "",
         "text": [
          "10 estudantes",
          "10 estudantes",
          "10 estudantes"
         ],
         "type": "scatter",
         "uid": "c432b02a-fae4-11e8-b19a-e35ea5c620f6",
         "x": [
          10,
          10,
          10
         ],
         "y": [
          "Assign2",
          "Assign4",
          "Assign7"
         ]
        }
       ],
       "layout": {
        "hovermode": "closest",
        "showlegend": false,
        "title": "Quantidade de estudantes que fizeram as tarefas",
        "xaxis": {
         "dtick": 1,
         "showgrid": true,
         "tick0": 0,
         "title": "Número de estudantes",
         "titlefont": {
          "color": "rgb(180,180,180)"
         }
        },
        "yaxis": {
         "dtick": 1,
         "exponentformat": "e",
         "gridcolor": "#bdbdbd",
         "showexponent": "all",
         "showgrid": false,
         "showticklabels": true,
         "tick0": 0,
         "title": "",
         "titlefont": {
          "color": "rgb(180,180,180)"
         }
        }
       }
      },
      "text/html": [
       "<div id=\"350299c6-ad1c-4df1-940a-0a80252402e7\" style=\"height: 525px; width: 100%;\" class=\"plotly-graph-div\"></div><script type=\"text/javascript\">require([\"plotly\"], function(Plotly) { window.PLOTLYENV=window.PLOTLYENV || {};window.PLOTLYENV.BASE_URL=\"https://plot.ly\";Plotly.newPlot(\"350299c6-ad1c-4df1-940a-0a80252402e7\", [{\"marker\": {\"color\": \"lightgray\"}, \"name\": \"\", \"orientation\": \"h\", \"text\": \"\", \"width\": [0.04, 0.04, 0.04, 0.04, 0.04, 0.04, 0.04, 0.04, 0.04, 0.04, 0.04, 0.04, 0.04, 0.04, 0.04, 0.04, 0.04, 0.04, 0.04, 0.04], \"x\": [9, 10, 8, 10, 6, 6, 10, 8, 9, 6], \"y\": [\"Assign1\", \"Assign2\", \"Assign3\", \"Assign4\", \"Assign5\", \"Assign6\", \"Assign7\", \"Assign8\", \"Assign9\", \"Assign10\"], \"type\": \"bar\", \"uid\": \"c432a602-fae4-11e8-b19a-e35ea5c620f6\"}, {\"marker\": {\"color\": \"rgb(0,0,255)\", \"line\": {\"width\": 0}, \"sizemode\": \"area\", \"symbol\": \"circle\"}, \"mode\": \"markers\", \"name\": \"\", \"text\": [], \"x\": [], \"y\": [], \"type\": \"scatter\", \"uid\": \"c432a83c-fae4-11e8-b19a-e35ea5c620f6\"}, {\"marker\": {\"color\": \"rgb(0,0,255)\", \"line\": {\"width\": 0}, \"sizemode\": \"area\", \"symbol\": \"circle\"}, \"mode\": \"markers\", \"name\": \"\", \"text\": [], \"x\": [], \"y\": [], \"type\": \"scatter\", \"uid\": \"c432a95e-fae4-11e8-b19a-e35ea5c620f6\"}, {\"marker\": {\"color\": \"rgb(0,0,255)\", \"line\": {\"width\": 0}, \"sizemode\": \"area\", \"symbol\": \"circle\"}, \"mode\": \"markers\", \"name\": \"\", \"text\": [], \"x\": [], \"y\": [], \"type\": \"scatter\", \"uid\": \"c432aa44-fae4-11e8-b19a-e35ea5c620f6\"}, {\"marker\": {\"color\": \"rgb(0,0,255)\", \"line\": {\"width\": 0}, \"sizemode\": \"area\", \"symbol\": \"circle\"}, \"mode\": \"markers\", \"name\": \"\", \"text\": [], \"x\": [], \"y\": [], \"type\": \"scatter\", \"uid\": \"c432ab0c-fae4-11e8-b19a-e35ea5c620f6\"}, {\"marker\": {\"color\": \"rgb(0,0,255)\", \"line\": {\"width\": 0}, \"sizemode\": \"area\", \"symbol\": \"circle\"}, \"mode\": \"markers\", \"name\": \"\", \"text\": [], \"x\": [], \"y\": [], \"type\": \"scatter\", \"uid\": \"c432abca-fae4-11e8-b19a-e35ea5c620f6\"}, {\"marker\": {\"color\": \"rgb(0,0,255)\", \"line\": {\"width\": 0}, \"sizemode\": \"area\", \"symbol\": \"circle\"}, \"mode\": \"markers\", \"name\": \"\", \"text\": [], \"x\": [], \"y\": [], \"type\": \"scatter\", \"uid\": \"c432ac88-fae4-11e8-b19a-e35ea5c620f6\"}, {\"marker\": {\"color\": \"rgb(0,0,255)\", \"line\": {\"width\": 0}, \"sizemode\": \"area\", \"symbol\": \"circle\"}, \"mode\": \"markers\", \"name\": \"\", \"text\": [\"6 estudantes\", \"6 estudantes\", \"6 estudantes\"], \"x\": [6, 6, 6], \"y\": [\"Assign5\", \"Assign6\", \"Assign10\"], \"type\": \"scatter\", \"uid\": \"c432ad46-fae4-11e8-b19a-e35ea5c620f6\"}, {\"marker\": {\"color\": \"rgb(0,0,255)\", \"line\": {\"width\": 0}, \"sizemode\": \"area\", \"symbol\": \"circle\"}, \"mode\": \"markers\", \"name\": \"\", \"text\": [], \"x\": [], \"y\": [], \"type\": \"scatter\", \"uid\": \"c432ae04-fae4-11e8-b19a-e35ea5c620f6\"}, {\"marker\": {\"color\": \"rgb(0,0,255)\", \"line\": {\"width\": 0}, \"sizemode\": \"area\", \"symbol\": \"circle\"}, \"mode\": \"markers\", \"name\": \"\", \"text\": [\"8 estudantes\", \"8 estudantes\"], \"x\": [8, 8], \"y\": [\"Assign3\", \"Assign8\"], \"type\": \"scatter\", \"uid\": \"c432aeb8-fae4-11e8-b19a-e35ea5c620f6\"}, {\"marker\": {\"color\": \"rgb(0,0,255)\", \"line\": {\"width\": 0}, \"sizemode\": \"area\", \"symbol\": \"circle\"}, \"mode\": \"markers\", \"name\": \"\", \"text\": [\"9 estudantes\", \"9 estudantes\"], \"x\": [9, 9], \"y\": [\"Assign1\", \"Assign9\"], \"type\": \"scatter\", \"uid\": \"c432af76-fae4-11e8-b19a-e35ea5c620f6\"}, {\"marker\": {\"color\": \"rgb(0,0,255)\", \"line\": {\"width\": 0}, \"sizemode\": \"area\", \"symbol\": \"circle\"}, \"mode\": \"markers\", \"name\": \"\", \"text\": [\"10 estudantes\", \"10 estudantes\", \"10 estudantes\"], \"x\": [10, 10, 10], \"y\": [\"Assign2\", \"Assign4\", \"Assign7\"], \"type\": \"scatter\", \"uid\": \"c432b02a-fae4-11e8-b19a-e35ea5c620f6\"}], {\"hovermode\": \"closest\", \"showlegend\": false, \"title\": \"Quantidade de estudantes que fizeram as tarefas\", \"xaxis\": {\"dtick\": 1, \"showgrid\": true, \"tick0\": 0, \"title\": \"N\\u00famero de estudantes\", \"titlefont\": {\"color\": \"rgb(180,180,180)\"}}, \"yaxis\": {\"dtick\": 1, \"exponentformat\": \"e\", \"gridcolor\": \"#bdbdbd\", \"showexponent\": \"all\", \"showgrid\": false, \"showticklabels\": true, \"tick0\": 0, \"title\": \"\", \"titlefont\": {\"color\": \"rgb(180,180,180)\"}}}, {\"showLink\": true, \"linkText\": \"Export to plot.ly\"})});</script>"
      ],
      "text/vnd.plotly.v1+html": [
       "<div id=\"350299c6-ad1c-4df1-940a-0a80252402e7\" style=\"height: 525px; width: 100%;\" class=\"plotly-graph-div\"></div><script type=\"text/javascript\">require([\"plotly\"], function(Plotly) { window.PLOTLYENV=window.PLOTLYENV || {};window.PLOTLYENV.BASE_URL=\"https://plot.ly\";Plotly.newPlot(\"350299c6-ad1c-4df1-940a-0a80252402e7\", [{\"marker\": {\"color\": \"lightgray\"}, \"name\": \"\", \"orientation\": \"h\", \"text\": \"\", \"width\": [0.04, 0.04, 0.04, 0.04, 0.04, 0.04, 0.04, 0.04, 0.04, 0.04, 0.04, 0.04, 0.04, 0.04, 0.04, 0.04, 0.04, 0.04, 0.04, 0.04], \"x\": [9, 10, 8, 10, 6, 6, 10, 8, 9, 6], \"y\": [\"Assign1\", \"Assign2\", \"Assign3\", \"Assign4\", \"Assign5\", \"Assign6\", \"Assign7\", \"Assign8\", \"Assign9\", \"Assign10\"], \"type\": \"bar\", \"uid\": \"c432a602-fae4-11e8-b19a-e35ea5c620f6\"}, {\"marker\": {\"color\": \"rgb(0,0,255)\", \"line\": {\"width\": 0}, \"sizemode\": \"area\", \"symbol\": \"circle\"}, \"mode\": \"markers\", \"name\": \"\", \"text\": [], \"x\": [], \"y\": [], \"type\": \"scatter\", \"uid\": \"c432a83c-fae4-11e8-b19a-e35ea5c620f6\"}, {\"marker\": {\"color\": \"rgb(0,0,255)\", \"line\": {\"width\": 0}, \"sizemode\": \"area\", \"symbol\": \"circle\"}, \"mode\": \"markers\", \"name\": \"\", \"text\": [], \"x\": [], \"y\": [], \"type\": \"scatter\", \"uid\": \"c432a95e-fae4-11e8-b19a-e35ea5c620f6\"}, {\"marker\": {\"color\": \"rgb(0,0,255)\", \"line\": {\"width\": 0}, \"sizemode\": \"area\", \"symbol\": \"circle\"}, \"mode\": \"markers\", \"name\": \"\", \"text\": [], \"x\": [], \"y\": [], \"type\": \"scatter\", \"uid\": \"c432aa44-fae4-11e8-b19a-e35ea5c620f6\"}, {\"marker\": {\"color\": \"rgb(0,0,255)\", \"line\": {\"width\": 0}, \"sizemode\": \"area\", \"symbol\": \"circle\"}, \"mode\": \"markers\", \"name\": \"\", \"text\": [], \"x\": [], \"y\": [], \"type\": \"scatter\", \"uid\": \"c432ab0c-fae4-11e8-b19a-e35ea5c620f6\"}, {\"marker\": {\"color\": \"rgb(0,0,255)\", \"line\": {\"width\": 0}, \"sizemode\": \"area\", \"symbol\": \"circle\"}, \"mode\": \"markers\", \"name\": \"\", \"text\": [], \"x\": [], \"y\": [], \"type\": \"scatter\", \"uid\": \"c432abca-fae4-11e8-b19a-e35ea5c620f6\"}, {\"marker\": {\"color\": \"rgb(0,0,255)\", \"line\": {\"width\": 0}, \"sizemode\": \"area\", \"symbol\": \"circle\"}, \"mode\": \"markers\", \"name\": \"\", \"text\": [], \"x\": [], \"y\": [], \"type\": \"scatter\", \"uid\": \"c432ac88-fae4-11e8-b19a-e35ea5c620f6\"}, {\"marker\": {\"color\": \"rgb(0,0,255)\", \"line\": {\"width\": 0}, \"sizemode\": \"area\", \"symbol\": \"circle\"}, \"mode\": \"markers\", \"name\": \"\", \"text\": [\"6 estudantes\", \"6 estudantes\", \"6 estudantes\"], \"x\": [6, 6, 6], \"y\": [\"Assign5\", \"Assign6\", \"Assign10\"], \"type\": \"scatter\", \"uid\": \"c432ad46-fae4-11e8-b19a-e35ea5c620f6\"}, {\"marker\": {\"color\": \"rgb(0,0,255)\", \"line\": {\"width\": 0}, \"sizemode\": \"area\", \"symbol\": \"circle\"}, \"mode\": \"markers\", \"name\": \"\", \"text\": [], \"x\": [], \"y\": [], \"type\": \"scatter\", \"uid\": \"c432ae04-fae4-11e8-b19a-e35ea5c620f6\"}, {\"marker\": {\"color\": \"rgb(0,0,255)\", \"line\": {\"width\": 0}, \"sizemode\": \"area\", \"symbol\": \"circle\"}, \"mode\": \"markers\", \"name\": \"\", \"text\": [\"8 estudantes\", \"8 estudantes\"], \"x\": [8, 8], \"y\": [\"Assign3\", \"Assign8\"], \"type\": \"scatter\", \"uid\": \"c432aeb8-fae4-11e8-b19a-e35ea5c620f6\"}, {\"marker\": {\"color\": \"rgb(0,0,255)\", \"line\": {\"width\": 0}, \"sizemode\": \"area\", \"symbol\": \"circle\"}, \"mode\": \"markers\", \"name\": \"\", \"text\": [\"9 estudantes\", \"9 estudantes\"], \"x\": [9, 9], \"y\": [\"Assign1\", \"Assign9\"], \"type\": \"scatter\", \"uid\": \"c432af76-fae4-11e8-b19a-e35ea5c620f6\"}, {\"marker\": {\"color\": \"rgb(0,0,255)\", \"line\": {\"width\": 0}, \"sizemode\": \"area\", \"symbol\": \"circle\"}, \"mode\": \"markers\", \"name\": \"\", \"text\": [\"10 estudantes\", \"10 estudantes\", \"10 estudantes\"], \"x\": [10, 10, 10], \"y\": [\"Assign2\", \"Assign4\", \"Assign7\"], \"type\": \"scatter\", \"uid\": \"c432b02a-fae4-11e8-b19a-e35ea5c620f6\"}], {\"hovermode\": \"closest\", \"showlegend\": false, \"title\": \"Quantidade de estudantes que fizeram as tarefas\", \"xaxis\": {\"dtick\": 1, \"showgrid\": true, \"tick0\": 0, \"title\": \"N\\u00famero de estudantes\", \"titlefont\": {\"color\": \"rgb(180,180,180)\"}}, \"yaxis\": {\"dtick\": 1, \"exponentformat\": \"e\", \"gridcolor\": \"#bdbdbd\", \"showexponent\": \"all\", \"showgrid\": false, \"showticklabels\": true, \"tick0\": 0, \"title\": \"\", \"titlefont\": {\"color\": \"rgb(180,180,180)\"}}}, {\"showLink\": true, \"linkText\": \"Export to plot.ly\"})});</script>"
      ]
     },
     "metadata": {},
     "output_type": "display_data"
    },
    {
     "data": {
      "application/vnd.plotly.v1+json": {
       "data": [
        {
         "marker": {
          "color": "lightgray"
         },
         "name": "",
         "orientation": "h",
         "text": "",
         "type": "bar",
         "uid": "c45072d6-fae4-11e8-b19a-e35ea5c620f6",
         "width": [
          0.04,
          0.04,
          0.04,
          0.04,
          0.04,
          0.04,
          0.04,
          0.04,
          0.04,
          0.04,
          0.04,
          0.04,
          0.04,
          0.04,
          0.04,
          0.04,
          0.04,
          0.04,
          0.04,
          0.04
         ],
         "x": [
          6,
          6,
          6,
          8,
          8,
          9,
          9,
          10,
          10,
          10
         ],
         "y": [
          "Assign10",
          "Assign5",
          "Assign6",
          "Assign3",
          "Assign8",
          "Assign1",
          "Assign9",
          "Assign2",
          "Assign4",
          "Assign7"
         ]
        },
        {
         "marker": {
          "color": "rgb(0,0,255)",
          "line": {
           "width": 0
          },
          "sizemode": "area",
          "symbol": "circle"
         },
         "mode": "markers",
         "name": "",
         "text": [],
         "type": "scatter",
         "uid": "c4507498-fae4-11e8-b19a-e35ea5c620f6",
         "x": [],
         "y": []
        },
        {
         "marker": {
          "color": "rgb(0,0,255)",
          "line": {
           "width": 0
          },
          "sizemode": "area",
          "symbol": "circle"
         },
         "mode": "markers",
         "name": "",
         "text": [],
         "type": "scatter",
         "uid": "c450757e-fae4-11e8-b19a-e35ea5c620f6",
         "x": [],
         "y": []
        },
        {
         "marker": {
          "color": "rgb(0,0,255)",
          "line": {
           "width": 0
          },
          "sizemode": "area",
          "symbol": "circle"
         },
         "mode": "markers",
         "name": "",
         "text": [],
         "type": "scatter",
         "uid": "c450761e-fae4-11e8-b19a-e35ea5c620f6",
         "x": [],
         "y": []
        },
        {
         "marker": {
          "color": "rgb(0,0,255)",
          "line": {
           "width": 0
          },
          "sizemode": "area",
          "symbol": "circle"
         },
         "mode": "markers",
         "name": "",
         "text": [],
         "type": "scatter",
         "uid": "c45076be-fae4-11e8-b19a-e35ea5c620f6",
         "x": [],
         "y": []
        },
        {
         "marker": {
          "color": "rgb(0,0,255)",
          "line": {
           "width": 0
          },
          "sizemode": "area",
          "symbol": "circle"
         },
         "mode": "markers",
         "name": "",
         "text": [],
         "type": "scatter",
         "uid": "c450774a-fae4-11e8-b19a-e35ea5c620f6",
         "x": [],
         "y": []
        },
        {
         "marker": {
          "color": "rgb(0,0,255)",
          "line": {
           "width": 0
          },
          "sizemode": "area",
          "symbol": "circle"
         },
         "mode": "markers",
         "name": "",
         "text": [],
         "type": "scatter",
         "uid": "c45077d6-fae4-11e8-b19a-e35ea5c620f6",
         "x": [],
         "y": []
        },
        {
         "marker": {
          "color": "rgb(0,0,255)",
          "line": {
           "width": 0
          },
          "sizemode": "area",
          "symbol": "circle"
         },
         "mode": "markers",
         "name": "",
         "text": [
          "6 estudantes",
          "6 estudantes",
          "6 estudantes"
         ],
         "type": "scatter",
         "uid": "c4507858-fae4-11e8-b19a-e35ea5c620f6",
         "x": [
          6,
          6,
          6
         ],
         "y": [
          "Assign10",
          "Assign5",
          "Assign6"
         ]
        },
        {
         "marker": {
          "color": "rgb(0,0,255)",
          "line": {
           "width": 0
          },
          "sizemode": "area",
          "symbol": "circle"
         },
         "mode": "markers",
         "name": "",
         "text": [],
         "type": "scatter",
         "uid": "c45078e4-fae4-11e8-b19a-e35ea5c620f6",
         "x": [],
         "y": []
        },
        {
         "marker": {
          "color": "rgb(0,0,255)",
          "line": {
           "width": 0
          },
          "sizemode": "area",
          "symbol": "circle"
         },
         "mode": "markers",
         "name": "",
         "text": [
          "8 estudantes",
          "8 estudantes"
         ],
         "type": "scatter",
         "uid": "c4507970-fae4-11e8-b19a-e35ea5c620f6",
         "x": [
          8,
          8
         ],
         "y": [
          "Assign3",
          "Assign8"
         ]
        },
        {
         "marker": {
          "color": "rgb(0,0,255)",
          "line": {
           "width": 0
          },
          "sizemode": "area",
          "symbol": "circle"
         },
         "mode": "markers",
         "name": "",
         "text": [
          "9 estudantes",
          "9 estudantes"
         ],
         "type": "scatter",
         "uid": "c45079f2-fae4-11e8-b19a-e35ea5c620f6",
         "x": [
          9,
          9
         ],
         "y": [
          "Assign1",
          "Assign9"
         ]
        },
        {
         "marker": {
          "color": "rgb(0,0,255)",
          "line": {
           "width": 0
          },
          "sizemode": "area",
          "symbol": "circle"
         },
         "mode": "markers",
         "name": "",
         "text": [
          "10 estudantes",
          "10 estudantes",
          "10 estudantes"
         ],
         "type": "scatter",
         "uid": "c4507a74-fae4-11e8-b19a-e35ea5c620f6",
         "x": [
          10,
          10,
          10
         ],
         "y": [
          "Assign2",
          "Assign4",
          "Assign7"
         ]
        }
       ],
       "layout": {
        "hovermode": "closest",
        "showlegend": false,
        "title": "Quantidade de estudantes que fizeram as tarefas",
        "xaxis": {
         "dtick": 1,
         "showgrid": true,
         "tick0": 0,
         "title": "Número de estudantes",
         "titlefont": {
          "color": "rgb(180,180,180)"
         }
        },
        "yaxis": {
         "dtick": 1,
         "exponentformat": "e",
         "gridcolor": "#bdbdbd",
         "showexponent": "all",
         "showgrid": false,
         "showticklabels": true,
         "tick0": 0,
         "title": "",
         "titlefont": {
          "color": "rgb(180,180,180)"
         }
        }
       }
      },
      "text/html": [
       "<div id=\"a706b6e0-0a03-4053-9831-bbd357e850e3\" style=\"height: 525px; width: 100%;\" class=\"plotly-graph-div\"></div><script type=\"text/javascript\">require([\"plotly\"], function(Plotly) { window.PLOTLYENV=window.PLOTLYENV || {};window.PLOTLYENV.BASE_URL=\"https://plot.ly\";Plotly.newPlot(\"a706b6e0-0a03-4053-9831-bbd357e850e3\", [{\"marker\": {\"color\": \"lightgray\"}, \"name\": \"\", \"orientation\": \"h\", \"text\": \"\", \"width\": [0.04, 0.04, 0.04, 0.04, 0.04, 0.04, 0.04, 0.04, 0.04, 0.04, 0.04, 0.04, 0.04, 0.04, 0.04, 0.04, 0.04, 0.04, 0.04, 0.04], \"x\": [6, 6, 6, 8, 8, 9, 9, 10, 10, 10], \"y\": [\"Assign10\", \"Assign5\", \"Assign6\", \"Assign3\", \"Assign8\", \"Assign1\", \"Assign9\", \"Assign2\", \"Assign4\", \"Assign7\"], \"type\": \"bar\", \"uid\": \"c45072d6-fae4-11e8-b19a-e35ea5c620f6\"}, {\"marker\": {\"color\": \"rgb(0,0,255)\", \"line\": {\"width\": 0}, \"sizemode\": \"area\", \"symbol\": \"circle\"}, \"mode\": \"markers\", \"name\": \"\", \"text\": [], \"x\": [], \"y\": [], \"type\": \"scatter\", \"uid\": \"c4507498-fae4-11e8-b19a-e35ea5c620f6\"}, {\"marker\": {\"color\": \"rgb(0,0,255)\", \"line\": {\"width\": 0}, \"sizemode\": \"area\", \"symbol\": \"circle\"}, \"mode\": \"markers\", \"name\": \"\", \"text\": [], \"x\": [], \"y\": [], \"type\": \"scatter\", \"uid\": \"c450757e-fae4-11e8-b19a-e35ea5c620f6\"}, {\"marker\": {\"color\": \"rgb(0,0,255)\", \"line\": {\"width\": 0}, \"sizemode\": \"area\", \"symbol\": \"circle\"}, \"mode\": \"markers\", \"name\": \"\", \"text\": [], \"x\": [], \"y\": [], \"type\": \"scatter\", \"uid\": \"c450761e-fae4-11e8-b19a-e35ea5c620f6\"}, {\"marker\": {\"color\": \"rgb(0,0,255)\", \"line\": {\"width\": 0}, \"sizemode\": \"area\", \"symbol\": \"circle\"}, \"mode\": \"markers\", \"name\": \"\", \"text\": [], \"x\": [], \"y\": [], \"type\": \"scatter\", \"uid\": \"c45076be-fae4-11e8-b19a-e35ea5c620f6\"}, {\"marker\": {\"color\": \"rgb(0,0,255)\", \"line\": {\"width\": 0}, \"sizemode\": \"area\", \"symbol\": \"circle\"}, \"mode\": \"markers\", \"name\": \"\", \"text\": [], \"x\": [], \"y\": [], \"type\": \"scatter\", \"uid\": \"c450774a-fae4-11e8-b19a-e35ea5c620f6\"}, {\"marker\": {\"color\": \"rgb(0,0,255)\", \"line\": {\"width\": 0}, \"sizemode\": \"area\", \"symbol\": \"circle\"}, \"mode\": \"markers\", \"name\": \"\", \"text\": [], \"x\": [], \"y\": [], \"type\": \"scatter\", \"uid\": \"c45077d6-fae4-11e8-b19a-e35ea5c620f6\"}, {\"marker\": {\"color\": \"rgb(0,0,255)\", \"line\": {\"width\": 0}, \"sizemode\": \"area\", \"symbol\": \"circle\"}, \"mode\": \"markers\", \"name\": \"\", \"text\": [\"6 estudantes\", \"6 estudantes\", \"6 estudantes\"], \"x\": [6, 6, 6], \"y\": [\"Assign10\", \"Assign5\", \"Assign6\"], \"type\": \"scatter\", \"uid\": \"c4507858-fae4-11e8-b19a-e35ea5c620f6\"}, {\"marker\": {\"color\": \"rgb(0,0,255)\", \"line\": {\"width\": 0}, \"sizemode\": \"area\", \"symbol\": \"circle\"}, \"mode\": \"markers\", \"name\": \"\", \"text\": [], \"x\": [], \"y\": [], \"type\": \"scatter\", \"uid\": \"c45078e4-fae4-11e8-b19a-e35ea5c620f6\"}, {\"marker\": {\"color\": \"rgb(0,0,255)\", \"line\": {\"width\": 0}, \"sizemode\": \"area\", \"symbol\": \"circle\"}, \"mode\": \"markers\", \"name\": \"\", \"text\": [\"8 estudantes\", \"8 estudantes\"], \"x\": [8, 8], \"y\": [\"Assign3\", \"Assign8\"], \"type\": \"scatter\", \"uid\": \"c4507970-fae4-11e8-b19a-e35ea5c620f6\"}, {\"marker\": {\"color\": \"rgb(0,0,255)\", \"line\": {\"width\": 0}, \"sizemode\": \"area\", \"symbol\": \"circle\"}, \"mode\": \"markers\", \"name\": \"\", \"text\": [\"9 estudantes\", \"9 estudantes\"], \"x\": [9, 9], \"y\": [\"Assign1\", \"Assign9\"], \"type\": \"scatter\", \"uid\": \"c45079f2-fae4-11e8-b19a-e35ea5c620f6\"}, {\"marker\": {\"color\": \"rgb(0,0,255)\", \"line\": {\"width\": 0}, \"sizemode\": \"area\", \"symbol\": \"circle\"}, \"mode\": \"markers\", \"name\": \"\", \"text\": [\"10 estudantes\", \"10 estudantes\", \"10 estudantes\"], \"x\": [10, 10, 10], \"y\": [\"Assign2\", \"Assign4\", \"Assign7\"], \"type\": \"scatter\", \"uid\": \"c4507a74-fae4-11e8-b19a-e35ea5c620f6\"}], {\"hovermode\": \"closest\", \"showlegend\": false, \"title\": \"Quantidade de estudantes que fizeram as tarefas\", \"xaxis\": {\"dtick\": 1, \"showgrid\": true, \"tick0\": 0, \"title\": \"N\\u00famero de estudantes\", \"titlefont\": {\"color\": \"rgb(180,180,180)\"}}, \"yaxis\": {\"dtick\": 1, \"exponentformat\": \"e\", \"gridcolor\": \"#bdbdbd\", \"showexponent\": \"all\", \"showgrid\": false, \"showticklabels\": true, \"tick0\": 0, \"title\": \"\", \"titlefont\": {\"color\": \"rgb(180,180,180)\"}}}, {\"showLink\": true, \"linkText\": \"Export to plot.ly\"})});</script>"
      ],
      "text/vnd.plotly.v1+html": [
       "<div id=\"a706b6e0-0a03-4053-9831-bbd357e850e3\" style=\"height: 525px; width: 100%;\" class=\"plotly-graph-div\"></div><script type=\"text/javascript\">require([\"plotly\"], function(Plotly) { window.PLOTLYENV=window.PLOTLYENV || {};window.PLOTLYENV.BASE_URL=\"https://plot.ly\";Plotly.newPlot(\"a706b6e0-0a03-4053-9831-bbd357e850e3\", [{\"marker\": {\"color\": \"lightgray\"}, \"name\": \"\", \"orientation\": \"h\", \"text\": \"\", \"width\": [0.04, 0.04, 0.04, 0.04, 0.04, 0.04, 0.04, 0.04, 0.04, 0.04, 0.04, 0.04, 0.04, 0.04, 0.04, 0.04, 0.04, 0.04, 0.04, 0.04], \"x\": [6, 6, 6, 8, 8, 9, 9, 10, 10, 10], \"y\": [\"Assign10\", \"Assign5\", \"Assign6\", \"Assign3\", \"Assign8\", \"Assign1\", \"Assign9\", \"Assign2\", \"Assign4\", \"Assign7\"], \"type\": \"bar\", \"uid\": \"c45072d6-fae4-11e8-b19a-e35ea5c620f6\"}, {\"marker\": {\"color\": \"rgb(0,0,255)\", \"line\": {\"width\": 0}, \"sizemode\": \"area\", \"symbol\": \"circle\"}, \"mode\": \"markers\", \"name\": \"\", \"text\": [], \"x\": [], \"y\": [], \"type\": \"scatter\", \"uid\": \"c4507498-fae4-11e8-b19a-e35ea5c620f6\"}, {\"marker\": {\"color\": \"rgb(0,0,255)\", \"line\": {\"width\": 0}, \"sizemode\": \"area\", \"symbol\": \"circle\"}, \"mode\": \"markers\", \"name\": \"\", \"text\": [], \"x\": [], \"y\": [], \"type\": \"scatter\", \"uid\": \"c450757e-fae4-11e8-b19a-e35ea5c620f6\"}, {\"marker\": {\"color\": \"rgb(0,0,255)\", \"line\": {\"width\": 0}, \"sizemode\": \"area\", \"symbol\": \"circle\"}, \"mode\": \"markers\", \"name\": \"\", \"text\": [], \"x\": [], \"y\": [], \"type\": \"scatter\", \"uid\": \"c450761e-fae4-11e8-b19a-e35ea5c620f6\"}, {\"marker\": {\"color\": \"rgb(0,0,255)\", \"line\": {\"width\": 0}, \"sizemode\": \"area\", \"symbol\": \"circle\"}, \"mode\": \"markers\", \"name\": \"\", \"text\": [], \"x\": [], \"y\": [], \"type\": \"scatter\", \"uid\": \"c45076be-fae4-11e8-b19a-e35ea5c620f6\"}, {\"marker\": {\"color\": \"rgb(0,0,255)\", \"line\": {\"width\": 0}, \"sizemode\": \"area\", \"symbol\": \"circle\"}, \"mode\": \"markers\", \"name\": \"\", \"text\": [], \"x\": [], \"y\": [], \"type\": \"scatter\", \"uid\": \"c450774a-fae4-11e8-b19a-e35ea5c620f6\"}, {\"marker\": {\"color\": \"rgb(0,0,255)\", \"line\": {\"width\": 0}, \"sizemode\": \"area\", \"symbol\": \"circle\"}, \"mode\": \"markers\", \"name\": \"\", \"text\": [], \"x\": [], \"y\": [], \"type\": \"scatter\", \"uid\": \"c45077d6-fae4-11e8-b19a-e35ea5c620f6\"}, {\"marker\": {\"color\": \"rgb(0,0,255)\", \"line\": {\"width\": 0}, \"sizemode\": \"area\", \"symbol\": \"circle\"}, \"mode\": \"markers\", \"name\": \"\", \"text\": [\"6 estudantes\", \"6 estudantes\", \"6 estudantes\"], \"x\": [6, 6, 6], \"y\": [\"Assign10\", \"Assign5\", \"Assign6\"], \"type\": \"scatter\", \"uid\": \"c4507858-fae4-11e8-b19a-e35ea5c620f6\"}, {\"marker\": {\"color\": \"rgb(0,0,255)\", \"line\": {\"width\": 0}, \"sizemode\": \"area\", \"symbol\": \"circle\"}, \"mode\": \"markers\", \"name\": \"\", \"text\": [], \"x\": [], \"y\": [], \"type\": \"scatter\", \"uid\": \"c45078e4-fae4-11e8-b19a-e35ea5c620f6\"}, {\"marker\": {\"color\": \"rgb(0,0,255)\", \"line\": {\"width\": 0}, \"sizemode\": \"area\", \"symbol\": \"circle\"}, \"mode\": \"markers\", \"name\": \"\", \"text\": [\"8 estudantes\", \"8 estudantes\"], \"x\": [8, 8], \"y\": [\"Assign3\", \"Assign8\"], \"type\": \"scatter\", \"uid\": \"c4507970-fae4-11e8-b19a-e35ea5c620f6\"}, {\"marker\": {\"color\": \"rgb(0,0,255)\", \"line\": {\"width\": 0}, \"sizemode\": \"area\", \"symbol\": \"circle\"}, \"mode\": \"markers\", \"name\": \"\", \"text\": [\"9 estudantes\", \"9 estudantes\"], \"x\": [9, 9], \"y\": [\"Assign1\", \"Assign9\"], \"type\": \"scatter\", \"uid\": \"c45079f2-fae4-11e8-b19a-e35ea5c620f6\"}, {\"marker\": {\"color\": \"rgb(0,0,255)\", \"line\": {\"width\": 0}, \"sizemode\": \"area\", \"symbol\": \"circle\"}, \"mode\": \"markers\", \"name\": \"\", \"text\": [\"10 estudantes\", \"10 estudantes\", \"10 estudantes\"], \"x\": [10, 10, 10], \"y\": [\"Assign2\", \"Assign4\", \"Assign7\"], \"type\": \"scatter\", \"uid\": \"c4507a74-fae4-11e8-b19a-e35ea5c620f6\"}], {\"hovermode\": \"closest\", \"showlegend\": false, \"title\": \"Quantidade de estudantes que fizeram as tarefas\", \"xaxis\": {\"dtick\": 1, \"showgrid\": true, \"tick0\": 0, \"title\": \"N\\u00famero de estudantes\", \"titlefont\": {\"color\": \"rgb(180,180,180)\"}}, \"yaxis\": {\"dtick\": 1, \"exponentformat\": \"e\", \"gridcolor\": \"#bdbdbd\", \"showexponent\": \"all\", \"showgrid\": false, \"showticklabels\": true, \"tick0\": 0, \"title\": \"\", \"titlefont\": {\"color\": \"rgb(180,180,180)\"}}}, {\"showLink\": true, \"linkText\": \"Export to plot.ly\"})});</script>"
      ]
     },
     "metadata": {},
     "output_type": "display_data"
    },
    {
     "data": {
      "application/vnd.plotly.v1+json": {
       "data": [
        {
         "marker": {
          "color": "lightgray"
         },
         "name": "",
         "orientation": "h",
         "text": "",
         "type": "bar",
         "uid": "c4650070-fae4-11e8-b19a-e35ea5c620f6",
         "width": [
          0.04,
          0.04,
          0.04,
          0.04,
          0.04,
          0.04,
          0.04,
          0.04,
          0.04,
          0.04,
          0.04,
          0.04,
          0.04,
          0.04,
          0.04,
          0.04,
          0.04,
          0.04,
          0.04,
          0.04
         ],
         "x": [
          11,
          10,
          12,
          10,
          14,
          14,
          10,
          12,
          11,
          14
         ],
         "y": [
          "Assign1",
          "Assign2",
          "Assign3",
          "Assign4",
          "Assign5",
          "Assign6",
          "Assign7",
          "Assign8",
          "Assign9",
          "Assign10"
         ]
        },
        {
         "marker": {
          "color": "rgb(255,126,24)",
          "line": {
           "width": 0
          },
          "sizemode": "area",
          "symbol": "circle"
         },
         "mode": "markers",
         "name": "",
         "text": [],
         "type": "scatter",
         "uid": "c4650246-fae4-11e8-b19a-e35ea5c620f6",
         "x": [],
         "y": []
        },
        {
         "marker": {
          "color": "rgb(255,126,24)",
          "line": {
           "width": 0
          },
          "sizemode": "area",
          "symbol": "circle"
         },
         "mode": "markers",
         "name": "",
         "text": [],
         "type": "scatter",
         "uid": "c4650336-fae4-11e8-b19a-e35ea5c620f6",
         "x": [],
         "y": []
        },
        {
         "marker": {
          "color": "rgb(255,126,24)",
          "line": {
           "width": 0
          },
          "sizemode": "area",
          "symbol": "circle"
         },
         "mode": "markers",
         "name": "",
         "text": [],
         "type": "scatter",
         "uid": "c4650408-fae4-11e8-b19a-e35ea5c620f6",
         "x": [],
         "y": []
        },
        {
         "marker": {
          "color": "rgb(255,126,24)",
          "line": {
           "width": 0
          },
          "sizemode": "area",
          "symbol": "circle"
         },
         "mode": "markers",
         "name": "",
         "text": [],
         "type": "scatter",
         "uid": "c46504bc-fae4-11e8-b19a-e35ea5c620f6",
         "x": [],
         "y": []
        },
        {
         "marker": {
          "color": "rgb(255,126,24)",
          "line": {
           "width": 0
          },
          "sizemode": "area",
          "symbol": "circle"
         },
         "mode": "markers",
         "name": "",
         "text": [],
         "type": "scatter",
         "uid": "c4650552-fae4-11e8-b19a-e35ea5c620f6",
         "x": [],
         "y": []
        },
        {
         "marker": {
          "color": "rgb(255,126,24)",
          "line": {
           "width": 0
          },
          "sizemode": "area",
          "symbol": "circle"
         },
         "mode": "markers",
         "name": "",
         "text": [],
         "type": "scatter",
         "uid": "c46505e8-fae4-11e8-b19a-e35ea5c620f6",
         "x": [],
         "y": []
        },
        {
         "marker": {
          "color": "rgb(255,126,24)",
          "line": {
           "width": 0
          },
          "sizemode": "area",
          "symbol": "circle"
         },
         "mode": "markers",
         "name": "",
         "text": [],
         "type": "scatter",
         "uid": "c465067e-fae4-11e8-b19a-e35ea5c620f6",
         "x": [],
         "y": []
        },
        {
         "marker": {
          "color": "rgb(255,126,24)",
          "line": {
           "width": 0
          },
          "sizemode": "area",
          "symbol": "circle"
         },
         "mode": "markers",
         "name": "",
         "text": [],
         "type": "scatter",
         "uid": "c465071e-fae4-11e8-b19a-e35ea5c620f6",
         "x": [],
         "y": []
        },
        {
         "marker": {
          "color": "rgb(255,126,24)",
          "line": {
           "width": 0
          },
          "sizemode": "area",
          "symbol": "circle"
         },
         "mode": "markers",
         "name": "",
         "text": [],
         "type": "scatter",
         "uid": "c46507aa-fae4-11e8-b19a-e35ea5c620f6",
         "x": [],
         "y": []
        },
        {
         "marker": {
          "color": "rgb(255,126,24)",
          "line": {
           "width": 0
          },
          "sizemode": "area",
          "symbol": "circle"
         },
         "mode": "markers",
         "name": "",
         "text": [],
         "type": "scatter",
         "uid": "c4650836-fae4-11e8-b19a-e35ea5c620f6",
         "x": [],
         "y": []
        },
        {
         "marker": {
          "color": "rgb(255,126,24)",
          "line": {
           "width": 0
          },
          "sizemode": "area",
          "symbol": "circle"
         },
         "mode": "markers",
         "name": "",
         "text": [
          "10 estudantes",
          "10 estudantes",
          "10 estudantes"
         ],
         "type": "scatter",
         "uid": "c46508c2-fae4-11e8-b19a-e35ea5c620f6",
         "x": [
          10,
          10,
          10
         ],
         "y": [
          "Assign2",
          "Assign4",
          "Assign7"
         ]
        },
        {
         "marker": {
          "color": "rgb(255,126,24)",
          "line": {
           "width": 0
          },
          "sizemode": "area",
          "symbol": "circle"
         },
         "mode": "markers",
         "name": "",
         "text": [
          "11 estudantes",
          "11 estudantes"
         ],
         "type": "scatter",
         "uid": "c4650958-fae4-11e8-b19a-e35ea5c620f6",
         "x": [
          11,
          11
         ],
         "y": [
          "Assign1",
          "Assign9"
         ]
        },
        {
         "marker": {
          "color": "rgb(255,126,24)",
          "line": {
           "width": 0
          },
          "sizemode": "area",
          "symbol": "circle"
         },
         "mode": "markers",
         "name": "",
         "text": [
          "12 estudantes",
          "12 estudantes"
         ],
         "type": "scatter",
         "uid": "c46509e4-fae4-11e8-b19a-e35ea5c620f6",
         "x": [
          12,
          12
         ],
         "y": [
          "Assign3",
          "Assign8"
         ]
        },
        {
         "marker": {
          "color": "rgb(255,126,24)",
          "line": {
           "width": 0
          },
          "sizemode": "area",
          "symbol": "circle"
         },
         "mode": "markers",
         "name": "",
         "text": [],
         "type": "scatter",
         "uid": "c4650a66-fae4-11e8-b19a-e35ea5c620f6",
         "x": [],
         "y": []
        },
        {
         "marker": {
          "color": "rgb(255,126,24)",
          "line": {
           "width": 0
          },
          "sizemode": "area",
          "symbol": "circle"
         },
         "mode": "markers",
         "name": "",
         "text": [
          "14 estudantes",
          "14 estudantes",
          "14 estudantes"
         ],
         "type": "scatter",
         "uid": "c4650b06-fae4-11e8-b19a-e35ea5c620f6",
         "x": [
          14,
          14,
          14
         ],
         "y": [
          "Assign5",
          "Assign6",
          "Assign10"
         ]
        }
       ],
       "layout": {
        "hovermode": "closest",
        "showlegend": false,
        "title": "Quantidade de estudantes que <b>não</b> fizeram as tarefas",
        "xaxis": {
         "dtick": 1,
         "showgrid": true,
         "tick0": 0,
         "title": "Número de estudantes",
         "titlefont": {
          "color": "rgb(180,180,180)"
         }
        },
        "yaxis": {
         "dtick": 1,
         "exponentformat": "e",
         "gridcolor": "#bdbdbd",
         "showexponent": "all",
         "showgrid": false,
         "showticklabels": true,
         "tick0": 0,
         "title": "",
         "titlefont": {
          "color": "rgb(180,180,180)"
         }
        }
       }
      },
      "text/html": [
       "<div id=\"b69bc07d-abc4-4ebb-9ddb-ae4af5bb316a\" style=\"height: 525px; width: 100%;\" class=\"plotly-graph-div\"></div><script type=\"text/javascript\">require([\"plotly\"], function(Plotly) { window.PLOTLYENV=window.PLOTLYENV || {};window.PLOTLYENV.BASE_URL=\"https://plot.ly\";Plotly.newPlot(\"b69bc07d-abc4-4ebb-9ddb-ae4af5bb316a\", [{\"marker\": {\"color\": \"lightgray\"}, \"name\": \"\", \"orientation\": \"h\", \"text\": \"\", \"width\": [0.04, 0.04, 0.04, 0.04, 0.04, 0.04, 0.04, 0.04, 0.04, 0.04, 0.04, 0.04, 0.04, 0.04, 0.04, 0.04, 0.04, 0.04, 0.04, 0.04], \"x\": [11, 10, 12, 10, 14, 14, 10, 12, 11, 14], \"y\": [\"Assign1\", \"Assign2\", \"Assign3\", \"Assign4\", \"Assign5\", \"Assign6\", \"Assign7\", \"Assign8\", \"Assign9\", \"Assign10\"], \"type\": \"bar\", \"uid\": \"c4650070-fae4-11e8-b19a-e35ea5c620f6\"}, {\"marker\": {\"color\": \"rgb(255,126,24)\", \"line\": {\"width\": 0}, \"sizemode\": \"area\", \"symbol\": \"circle\"}, \"mode\": \"markers\", \"name\": \"\", \"text\": [], \"x\": [], \"y\": [], \"type\": \"scatter\", \"uid\": \"c4650246-fae4-11e8-b19a-e35ea5c620f6\"}, {\"marker\": {\"color\": \"rgb(255,126,24)\", \"line\": {\"width\": 0}, \"sizemode\": \"area\", \"symbol\": \"circle\"}, \"mode\": \"markers\", \"name\": \"\", \"text\": [], \"x\": [], \"y\": [], \"type\": \"scatter\", \"uid\": \"c4650336-fae4-11e8-b19a-e35ea5c620f6\"}, {\"marker\": {\"color\": \"rgb(255,126,24)\", \"line\": {\"width\": 0}, \"sizemode\": \"area\", \"symbol\": \"circle\"}, \"mode\": \"markers\", \"name\": \"\", \"text\": [], \"x\": [], \"y\": [], \"type\": \"scatter\", \"uid\": \"c4650408-fae4-11e8-b19a-e35ea5c620f6\"}, {\"marker\": {\"color\": \"rgb(255,126,24)\", \"line\": {\"width\": 0}, \"sizemode\": \"area\", \"symbol\": \"circle\"}, \"mode\": \"markers\", \"name\": \"\", \"text\": [], \"x\": [], \"y\": [], \"type\": \"scatter\", \"uid\": \"c46504bc-fae4-11e8-b19a-e35ea5c620f6\"}, {\"marker\": {\"color\": \"rgb(255,126,24)\", \"line\": {\"width\": 0}, \"sizemode\": \"area\", \"symbol\": \"circle\"}, \"mode\": \"markers\", \"name\": \"\", \"text\": [], \"x\": [], \"y\": [], \"type\": \"scatter\", \"uid\": \"c4650552-fae4-11e8-b19a-e35ea5c620f6\"}, {\"marker\": {\"color\": \"rgb(255,126,24)\", \"line\": {\"width\": 0}, \"sizemode\": \"area\", \"symbol\": \"circle\"}, \"mode\": \"markers\", \"name\": \"\", \"text\": [], \"x\": [], \"y\": [], \"type\": \"scatter\", \"uid\": \"c46505e8-fae4-11e8-b19a-e35ea5c620f6\"}, {\"marker\": {\"color\": \"rgb(255,126,24)\", \"line\": {\"width\": 0}, \"sizemode\": \"area\", \"symbol\": \"circle\"}, \"mode\": \"markers\", \"name\": \"\", \"text\": [], \"x\": [], \"y\": [], \"type\": \"scatter\", \"uid\": \"c465067e-fae4-11e8-b19a-e35ea5c620f6\"}, {\"marker\": {\"color\": \"rgb(255,126,24)\", \"line\": {\"width\": 0}, \"sizemode\": \"area\", \"symbol\": \"circle\"}, \"mode\": \"markers\", \"name\": \"\", \"text\": [], \"x\": [], \"y\": [], \"type\": \"scatter\", \"uid\": \"c465071e-fae4-11e8-b19a-e35ea5c620f6\"}, {\"marker\": {\"color\": \"rgb(255,126,24)\", \"line\": {\"width\": 0}, \"sizemode\": \"area\", \"symbol\": \"circle\"}, \"mode\": \"markers\", \"name\": \"\", \"text\": [], \"x\": [], \"y\": [], \"type\": \"scatter\", \"uid\": \"c46507aa-fae4-11e8-b19a-e35ea5c620f6\"}, {\"marker\": {\"color\": \"rgb(255,126,24)\", \"line\": {\"width\": 0}, \"sizemode\": \"area\", \"symbol\": \"circle\"}, \"mode\": \"markers\", \"name\": \"\", \"text\": [], \"x\": [], \"y\": [], \"type\": \"scatter\", \"uid\": \"c4650836-fae4-11e8-b19a-e35ea5c620f6\"}, {\"marker\": {\"color\": \"rgb(255,126,24)\", \"line\": {\"width\": 0}, \"sizemode\": \"area\", \"symbol\": \"circle\"}, \"mode\": \"markers\", \"name\": \"\", \"text\": [\"10 estudantes\", \"10 estudantes\", \"10 estudantes\"], \"x\": [10, 10, 10], \"y\": [\"Assign2\", \"Assign4\", \"Assign7\"], \"type\": \"scatter\", \"uid\": \"c46508c2-fae4-11e8-b19a-e35ea5c620f6\"}, {\"marker\": {\"color\": \"rgb(255,126,24)\", \"line\": {\"width\": 0}, \"sizemode\": \"area\", \"symbol\": \"circle\"}, \"mode\": \"markers\", \"name\": \"\", \"text\": [\"11 estudantes\", \"11 estudantes\"], \"x\": [11, 11], \"y\": [\"Assign1\", \"Assign9\"], \"type\": \"scatter\", \"uid\": \"c4650958-fae4-11e8-b19a-e35ea5c620f6\"}, {\"marker\": {\"color\": \"rgb(255,126,24)\", \"line\": {\"width\": 0}, \"sizemode\": \"area\", \"symbol\": \"circle\"}, \"mode\": \"markers\", \"name\": \"\", \"text\": [\"12 estudantes\", \"12 estudantes\"], \"x\": [12, 12], \"y\": [\"Assign3\", \"Assign8\"], \"type\": \"scatter\", \"uid\": \"c46509e4-fae4-11e8-b19a-e35ea5c620f6\"}, {\"marker\": {\"color\": \"rgb(255,126,24)\", \"line\": {\"width\": 0}, \"sizemode\": \"area\", \"symbol\": \"circle\"}, \"mode\": \"markers\", \"name\": \"\", \"text\": [], \"x\": [], \"y\": [], \"type\": \"scatter\", \"uid\": \"c4650a66-fae4-11e8-b19a-e35ea5c620f6\"}, {\"marker\": {\"color\": \"rgb(255,126,24)\", \"line\": {\"width\": 0}, \"sizemode\": \"area\", \"symbol\": \"circle\"}, \"mode\": \"markers\", \"name\": \"\", \"text\": [\"14 estudantes\", \"14 estudantes\", \"14 estudantes\"], \"x\": [14, 14, 14], \"y\": [\"Assign5\", \"Assign6\", \"Assign10\"], \"type\": \"scatter\", \"uid\": \"c4650b06-fae4-11e8-b19a-e35ea5c620f6\"}], {\"hovermode\": \"closest\", \"showlegend\": false, \"title\": \"Quantidade de estudantes que <b>n\\u00e3o</b> fizeram as tarefas\", \"xaxis\": {\"dtick\": 1, \"showgrid\": true, \"tick0\": 0, \"title\": \"N\\u00famero de estudantes\", \"titlefont\": {\"color\": \"rgb(180,180,180)\"}}, \"yaxis\": {\"dtick\": 1, \"exponentformat\": \"e\", \"gridcolor\": \"#bdbdbd\", \"showexponent\": \"all\", \"showgrid\": false, \"showticklabels\": true, \"tick0\": 0, \"title\": \"\", \"titlefont\": {\"color\": \"rgb(180,180,180)\"}}}, {\"showLink\": true, \"linkText\": \"Export to plot.ly\"})});</script>"
      ],
      "text/vnd.plotly.v1+html": [
       "<div id=\"b69bc07d-abc4-4ebb-9ddb-ae4af5bb316a\" style=\"height: 525px; width: 100%;\" class=\"plotly-graph-div\"></div><script type=\"text/javascript\">require([\"plotly\"], function(Plotly) { window.PLOTLYENV=window.PLOTLYENV || {};window.PLOTLYENV.BASE_URL=\"https://plot.ly\";Plotly.newPlot(\"b69bc07d-abc4-4ebb-9ddb-ae4af5bb316a\", [{\"marker\": {\"color\": \"lightgray\"}, \"name\": \"\", \"orientation\": \"h\", \"text\": \"\", \"width\": [0.04, 0.04, 0.04, 0.04, 0.04, 0.04, 0.04, 0.04, 0.04, 0.04, 0.04, 0.04, 0.04, 0.04, 0.04, 0.04, 0.04, 0.04, 0.04, 0.04], \"x\": [11, 10, 12, 10, 14, 14, 10, 12, 11, 14], \"y\": [\"Assign1\", \"Assign2\", \"Assign3\", \"Assign4\", \"Assign5\", \"Assign6\", \"Assign7\", \"Assign8\", \"Assign9\", \"Assign10\"], \"type\": \"bar\", \"uid\": \"c4650070-fae4-11e8-b19a-e35ea5c620f6\"}, {\"marker\": {\"color\": \"rgb(255,126,24)\", \"line\": {\"width\": 0}, \"sizemode\": \"area\", \"symbol\": \"circle\"}, \"mode\": \"markers\", \"name\": \"\", \"text\": [], \"x\": [], \"y\": [], \"type\": \"scatter\", \"uid\": \"c4650246-fae4-11e8-b19a-e35ea5c620f6\"}, {\"marker\": {\"color\": \"rgb(255,126,24)\", \"line\": {\"width\": 0}, \"sizemode\": \"area\", \"symbol\": \"circle\"}, \"mode\": \"markers\", \"name\": \"\", \"text\": [], \"x\": [], \"y\": [], \"type\": \"scatter\", \"uid\": \"c4650336-fae4-11e8-b19a-e35ea5c620f6\"}, {\"marker\": {\"color\": \"rgb(255,126,24)\", \"line\": {\"width\": 0}, \"sizemode\": \"area\", \"symbol\": \"circle\"}, \"mode\": \"markers\", \"name\": \"\", \"text\": [], \"x\": [], \"y\": [], \"type\": \"scatter\", \"uid\": \"c4650408-fae4-11e8-b19a-e35ea5c620f6\"}, {\"marker\": {\"color\": \"rgb(255,126,24)\", \"line\": {\"width\": 0}, \"sizemode\": \"area\", \"symbol\": \"circle\"}, \"mode\": \"markers\", \"name\": \"\", \"text\": [], \"x\": [], \"y\": [], \"type\": \"scatter\", \"uid\": \"c46504bc-fae4-11e8-b19a-e35ea5c620f6\"}, {\"marker\": {\"color\": \"rgb(255,126,24)\", \"line\": {\"width\": 0}, \"sizemode\": \"area\", \"symbol\": \"circle\"}, \"mode\": \"markers\", \"name\": \"\", \"text\": [], \"x\": [], \"y\": [], \"type\": \"scatter\", \"uid\": \"c4650552-fae4-11e8-b19a-e35ea5c620f6\"}, {\"marker\": {\"color\": \"rgb(255,126,24)\", \"line\": {\"width\": 0}, \"sizemode\": \"area\", \"symbol\": \"circle\"}, \"mode\": \"markers\", \"name\": \"\", \"text\": [], \"x\": [], \"y\": [], \"type\": \"scatter\", \"uid\": \"c46505e8-fae4-11e8-b19a-e35ea5c620f6\"}, {\"marker\": {\"color\": \"rgb(255,126,24)\", \"line\": {\"width\": 0}, \"sizemode\": \"area\", \"symbol\": \"circle\"}, \"mode\": \"markers\", \"name\": \"\", \"text\": [], \"x\": [], \"y\": [], \"type\": \"scatter\", \"uid\": \"c465067e-fae4-11e8-b19a-e35ea5c620f6\"}, {\"marker\": {\"color\": \"rgb(255,126,24)\", \"line\": {\"width\": 0}, \"sizemode\": \"area\", \"symbol\": \"circle\"}, \"mode\": \"markers\", \"name\": \"\", \"text\": [], \"x\": [], \"y\": [], \"type\": \"scatter\", \"uid\": \"c465071e-fae4-11e8-b19a-e35ea5c620f6\"}, {\"marker\": {\"color\": \"rgb(255,126,24)\", \"line\": {\"width\": 0}, \"sizemode\": \"area\", \"symbol\": \"circle\"}, \"mode\": \"markers\", \"name\": \"\", \"text\": [], \"x\": [], \"y\": [], \"type\": \"scatter\", \"uid\": \"c46507aa-fae4-11e8-b19a-e35ea5c620f6\"}, {\"marker\": {\"color\": \"rgb(255,126,24)\", \"line\": {\"width\": 0}, \"sizemode\": \"area\", \"symbol\": \"circle\"}, \"mode\": \"markers\", \"name\": \"\", \"text\": [], \"x\": [], \"y\": [], \"type\": \"scatter\", \"uid\": \"c4650836-fae4-11e8-b19a-e35ea5c620f6\"}, {\"marker\": {\"color\": \"rgb(255,126,24)\", \"line\": {\"width\": 0}, \"sizemode\": \"area\", \"symbol\": \"circle\"}, \"mode\": \"markers\", \"name\": \"\", \"text\": [\"10 estudantes\", \"10 estudantes\", \"10 estudantes\"], \"x\": [10, 10, 10], \"y\": [\"Assign2\", \"Assign4\", \"Assign7\"], \"type\": \"scatter\", \"uid\": \"c46508c2-fae4-11e8-b19a-e35ea5c620f6\"}, {\"marker\": {\"color\": \"rgb(255,126,24)\", \"line\": {\"width\": 0}, \"sizemode\": \"area\", \"symbol\": \"circle\"}, \"mode\": \"markers\", \"name\": \"\", \"text\": [\"11 estudantes\", \"11 estudantes\"], \"x\": [11, 11], \"y\": [\"Assign1\", \"Assign9\"], \"type\": \"scatter\", \"uid\": \"c4650958-fae4-11e8-b19a-e35ea5c620f6\"}, {\"marker\": {\"color\": \"rgb(255,126,24)\", \"line\": {\"width\": 0}, \"sizemode\": \"area\", \"symbol\": \"circle\"}, \"mode\": \"markers\", \"name\": \"\", \"text\": [\"12 estudantes\", \"12 estudantes\"], \"x\": [12, 12], \"y\": [\"Assign3\", \"Assign8\"], \"type\": \"scatter\", \"uid\": \"c46509e4-fae4-11e8-b19a-e35ea5c620f6\"}, {\"marker\": {\"color\": \"rgb(255,126,24)\", \"line\": {\"width\": 0}, \"sizemode\": \"area\", \"symbol\": \"circle\"}, \"mode\": \"markers\", \"name\": \"\", \"text\": [], \"x\": [], \"y\": [], \"type\": \"scatter\", \"uid\": \"c4650a66-fae4-11e8-b19a-e35ea5c620f6\"}, {\"marker\": {\"color\": \"rgb(255,126,24)\", \"line\": {\"width\": 0}, \"sizemode\": \"area\", \"symbol\": \"circle\"}, \"mode\": \"markers\", \"name\": \"\", \"text\": [\"14 estudantes\", \"14 estudantes\", \"14 estudantes\"], \"x\": [14, 14, 14], \"y\": [\"Assign5\", \"Assign6\", \"Assign10\"], \"type\": \"scatter\", \"uid\": \"c4650b06-fae4-11e8-b19a-e35ea5c620f6\"}], {\"hovermode\": \"closest\", \"showlegend\": false, \"title\": \"Quantidade de estudantes que <b>n\\u00e3o</b> fizeram as tarefas\", \"xaxis\": {\"dtick\": 1, \"showgrid\": true, \"tick0\": 0, \"title\": \"N\\u00famero de estudantes\", \"titlefont\": {\"color\": \"rgb(180,180,180)\"}}, \"yaxis\": {\"dtick\": 1, \"exponentformat\": \"e\", \"gridcolor\": \"#bdbdbd\", \"showexponent\": \"all\", \"showgrid\": false, \"showticklabels\": true, \"tick0\": 0, \"title\": \"\", \"titlefont\": {\"color\": \"rgb(180,180,180)\"}}}, {\"showLink\": true, \"linkText\": \"Export to plot.ly\"})});</script>"
      ]
     },
     "metadata": {},
     "output_type": "display_data"
    },
    {
     "data": {
      "application/vnd.plotly.v1+json": {
       "data": [
        {
         "marker": {
          "color": "lightgray"
         },
         "name": "",
         "orientation": "h",
         "text": "",
         "type": "bar",
         "uid": "c47bf8d4-fae4-11e8-b19a-e35ea5c620f6",
         "width": [
          0.04,
          0.04,
          0.04,
          0.04,
          0.04,
          0.04,
          0.04,
          0.04,
          0.04,
          0.04,
          0.04,
          0.04,
          0.04,
          0.04,
          0.04,
          0.04,
          0.04,
          0.04,
          0.04,
          0.04
         ],
         "x": [
          10,
          10,
          10,
          11,
          11,
          12,
          12,
          14,
          14,
          14
         ],
         "y": [
          "Assign2",
          "Assign4",
          "Assign7",
          "Assign1",
          "Assign9",
          "Assign3",
          "Assign8",
          "Assign10",
          "Assign5",
          "Assign6"
         ]
        },
        {
         "marker": {
          "color": "rgb(255,126,24)",
          "line": {
           "width": 0
          },
          "sizemode": "area",
          "symbol": "circle"
         },
         "mode": "markers",
         "name": "",
         "text": [],
         "type": "scatter",
         "uid": "c47bfa96-fae4-11e8-b19a-e35ea5c620f6",
         "x": [],
         "y": []
        },
        {
         "marker": {
          "color": "rgb(255,126,24)",
          "line": {
           "width": 0
          },
          "sizemode": "area",
          "symbol": "circle"
         },
         "mode": "markers",
         "name": "",
         "text": [],
         "type": "scatter",
         "uid": "c47bfb72-fae4-11e8-b19a-e35ea5c620f6",
         "x": [],
         "y": []
        },
        {
         "marker": {
          "color": "rgb(255,126,24)",
          "line": {
           "width": 0
          },
          "sizemode": "area",
          "symbol": "circle"
         },
         "mode": "markers",
         "name": "",
         "text": [],
         "type": "scatter",
         "uid": "c47bfc1c-fae4-11e8-b19a-e35ea5c620f6",
         "x": [],
         "y": []
        },
        {
         "marker": {
          "color": "rgb(255,126,24)",
          "line": {
           "width": 0
          },
          "sizemode": "area",
          "symbol": "circle"
         },
         "mode": "markers",
         "name": "",
         "text": [],
         "type": "scatter",
         "uid": "c47bfcda-fae4-11e8-b19a-e35ea5c620f6",
         "x": [],
         "y": []
        },
        {
         "marker": {
          "color": "rgb(255,126,24)",
          "line": {
           "width": 0
          },
          "sizemode": "area",
          "symbol": "circle"
         },
         "mode": "markers",
         "name": "",
         "text": [],
         "type": "scatter",
         "uid": "c47bfd70-fae4-11e8-b19a-e35ea5c620f6",
         "x": [],
         "y": []
        },
        {
         "marker": {
          "color": "rgb(255,126,24)",
          "line": {
           "width": 0
          },
          "sizemode": "area",
          "symbol": "circle"
         },
         "mode": "markers",
         "name": "",
         "text": [],
         "type": "scatter",
         "uid": "c47bfdfc-fae4-11e8-b19a-e35ea5c620f6",
         "x": [],
         "y": []
        },
        {
         "marker": {
          "color": "rgb(255,126,24)",
          "line": {
           "width": 0
          },
          "sizemode": "area",
          "symbol": "circle"
         },
         "mode": "markers",
         "name": "",
         "text": [],
         "type": "scatter",
         "uid": "c47bfe88-fae4-11e8-b19a-e35ea5c620f6",
         "x": [],
         "y": []
        },
        {
         "marker": {
          "color": "rgb(255,126,24)",
          "line": {
           "width": 0
          },
          "sizemode": "area",
          "symbol": "circle"
         },
         "mode": "markers",
         "name": "",
         "text": [],
         "type": "scatter",
         "uid": "c47bff0a-fae4-11e8-b19a-e35ea5c620f6",
         "x": [],
         "y": []
        },
        {
         "marker": {
          "color": "rgb(255,126,24)",
          "line": {
           "width": 0
          },
          "sizemode": "area",
          "symbol": "circle"
         },
         "mode": "markers",
         "name": "",
         "text": [],
         "type": "scatter",
         "uid": "c47bff96-fae4-11e8-b19a-e35ea5c620f6",
         "x": [],
         "y": []
        },
        {
         "marker": {
          "color": "rgb(255,126,24)",
          "line": {
           "width": 0
          },
          "sizemode": "area",
          "symbol": "circle"
         },
         "mode": "markers",
         "name": "",
         "text": [],
         "type": "scatter",
         "uid": "c47c0018-fae4-11e8-b19a-e35ea5c620f6",
         "x": [],
         "y": []
        },
        {
         "marker": {
          "color": "rgb(255,126,24)",
          "line": {
           "width": 0
          },
          "sizemode": "area",
          "symbol": "circle"
         },
         "mode": "markers",
         "name": "",
         "text": [
          "10 estudantes",
          "10 estudantes",
          "10 estudantes"
         ],
         "type": "scatter",
         "uid": "c47c00a4-fae4-11e8-b19a-e35ea5c620f6",
         "x": [
          10,
          10,
          10
         ],
         "y": [
          "Assign2",
          "Assign4",
          "Assign7"
         ]
        },
        {
         "marker": {
          "color": "rgb(255,126,24)",
          "line": {
           "width": 0
          },
          "sizemode": "area",
          "symbol": "circle"
         },
         "mode": "markers",
         "name": "",
         "text": [
          "11 estudantes",
          "11 estudantes"
         ],
         "type": "scatter",
         "uid": "c47c0126-fae4-11e8-b19a-e35ea5c620f6",
         "x": [
          11,
          11
         ],
         "y": [
          "Assign1",
          "Assign9"
         ]
        },
        {
         "marker": {
          "color": "rgb(255,126,24)",
          "line": {
           "width": 0
          },
          "sizemode": "area",
          "symbol": "circle"
         },
         "mode": "markers",
         "name": "",
         "text": [
          "12 estudantes",
          "12 estudantes"
         ],
         "type": "scatter",
         "uid": "c47c01a8-fae4-11e8-b19a-e35ea5c620f6",
         "x": [
          12,
          12
         ],
         "y": [
          "Assign3",
          "Assign8"
         ]
        },
        {
         "marker": {
          "color": "rgb(255,126,24)",
          "line": {
           "width": 0
          },
          "sizemode": "area",
          "symbol": "circle"
         },
         "mode": "markers",
         "name": "",
         "text": [],
         "type": "scatter",
         "uid": "c47c022a-fae4-11e8-b19a-e35ea5c620f6",
         "x": [],
         "y": []
        },
        {
         "marker": {
          "color": "rgb(255,126,24)",
          "line": {
           "width": 0
          },
          "sizemode": "area",
          "symbol": "circle"
         },
         "mode": "markers",
         "name": "",
         "text": [
          "14 estudantes",
          "14 estudantes",
          "14 estudantes"
         ],
         "type": "scatter",
         "uid": "c47c02a2-fae4-11e8-b19a-e35ea5c620f6",
         "x": [
          14,
          14,
          14
         ],
         "y": [
          "Assign10",
          "Assign5",
          "Assign6"
         ]
        }
       ],
       "layout": {
        "hovermode": "closest",
        "showlegend": false,
        "title": "Quantidade de estudantes <b>não</b> que fizeram as tarefas",
        "xaxis": {
         "dtick": 1,
         "showgrid": true,
         "tick0": 0,
         "title": "Número de estudantes",
         "titlefont": {
          "color": "rgb(180,180,180)"
         }
        },
        "yaxis": {
         "dtick": 1,
         "exponentformat": "e",
         "gridcolor": "#bdbdbd",
         "showexponent": "all",
         "showgrid": false,
         "showticklabels": true,
         "tick0": 0,
         "title": "",
         "titlefont": {
          "color": "rgb(180,180,180)"
         }
        }
       }
      },
      "text/html": [
       "<div id=\"7b6626e1-8000-4638-9973-3d67af7ea474\" style=\"height: 525px; width: 100%;\" class=\"plotly-graph-div\"></div><script type=\"text/javascript\">require([\"plotly\"], function(Plotly) { window.PLOTLYENV=window.PLOTLYENV || {};window.PLOTLYENV.BASE_URL=\"https://plot.ly\";Plotly.newPlot(\"7b6626e1-8000-4638-9973-3d67af7ea474\", [{\"marker\": {\"color\": \"lightgray\"}, \"name\": \"\", \"orientation\": \"h\", \"text\": \"\", \"width\": [0.04, 0.04, 0.04, 0.04, 0.04, 0.04, 0.04, 0.04, 0.04, 0.04, 0.04, 0.04, 0.04, 0.04, 0.04, 0.04, 0.04, 0.04, 0.04, 0.04], \"x\": [10, 10, 10, 11, 11, 12, 12, 14, 14, 14], \"y\": [\"Assign2\", \"Assign4\", \"Assign7\", \"Assign1\", \"Assign9\", \"Assign3\", \"Assign8\", \"Assign10\", \"Assign5\", \"Assign6\"], \"type\": \"bar\", \"uid\": \"c47bf8d4-fae4-11e8-b19a-e35ea5c620f6\"}, {\"marker\": {\"color\": \"rgb(255,126,24)\", \"line\": {\"width\": 0}, \"sizemode\": \"area\", \"symbol\": \"circle\"}, \"mode\": \"markers\", \"name\": \"\", \"text\": [], \"x\": [], \"y\": [], \"type\": \"scatter\", \"uid\": \"c47bfa96-fae4-11e8-b19a-e35ea5c620f6\"}, {\"marker\": {\"color\": \"rgb(255,126,24)\", \"line\": {\"width\": 0}, \"sizemode\": \"area\", \"symbol\": \"circle\"}, \"mode\": \"markers\", \"name\": \"\", \"text\": [], \"x\": [], \"y\": [], \"type\": \"scatter\", \"uid\": \"c47bfb72-fae4-11e8-b19a-e35ea5c620f6\"}, {\"marker\": {\"color\": \"rgb(255,126,24)\", \"line\": {\"width\": 0}, \"sizemode\": \"area\", \"symbol\": \"circle\"}, \"mode\": \"markers\", \"name\": \"\", \"text\": [], \"x\": [], \"y\": [], \"type\": \"scatter\", \"uid\": \"c47bfc1c-fae4-11e8-b19a-e35ea5c620f6\"}, {\"marker\": {\"color\": \"rgb(255,126,24)\", \"line\": {\"width\": 0}, \"sizemode\": \"area\", \"symbol\": \"circle\"}, \"mode\": \"markers\", \"name\": \"\", \"text\": [], \"x\": [], \"y\": [], \"type\": \"scatter\", \"uid\": \"c47bfcda-fae4-11e8-b19a-e35ea5c620f6\"}, {\"marker\": {\"color\": \"rgb(255,126,24)\", \"line\": {\"width\": 0}, \"sizemode\": \"area\", \"symbol\": \"circle\"}, \"mode\": \"markers\", \"name\": \"\", \"text\": [], \"x\": [], \"y\": [], \"type\": \"scatter\", \"uid\": \"c47bfd70-fae4-11e8-b19a-e35ea5c620f6\"}, {\"marker\": {\"color\": \"rgb(255,126,24)\", \"line\": {\"width\": 0}, \"sizemode\": \"area\", \"symbol\": \"circle\"}, \"mode\": \"markers\", \"name\": \"\", \"text\": [], \"x\": [], \"y\": [], \"type\": \"scatter\", \"uid\": \"c47bfdfc-fae4-11e8-b19a-e35ea5c620f6\"}, {\"marker\": {\"color\": \"rgb(255,126,24)\", \"line\": {\"width\": 0}, \"sizemode\": \"area\", \"symbol\": \"circle\"}, \"mode\": \"markers\", \"name\": \"\", \"text\": [], \"x\": [], \"y\": [], \"type\": \"scatter\", \"uid\": \"c47bfe88-fae4-11e8-b19a-e35ea5c620f6\"}, {\"marker\": {\"color\": \"rgb(255,126,24)\", \"line\": {\"width\": 0}, \"sizemode\": \"area\", \"symbol\": \"circle\"}, \"mode\": \"markers\", \"name\": \"\", \"text\": [], \"x\": [], \"y\": [], \"type\": \"scatter\", \"uid\": \"c47bff0a-fae4-11e8-b19a-e35ea5c620f6\"}, {\"marker\": {\"color\": \"rgb(255,126,24)\", \"line\": {\"width\": 0}, \"sizemode\": \"area\", \"symbol\": \"circle\"}, \"mode\": \"markers\", \"name\": \"\", \"text\": [], \"x\": [], \"y\": [], \"type\": \"scatter\", \"uid\": \"c47bff96-fae4-11e8-b19a-e35ea5c620f6\"}, {\"marker\": {\"color\": \"rgb(255,126,24)\", \"line\": {\"width\": 0}, \"sizemode\": \"area\", \"symbol\": \"circle\"}, \"mode\": \"markers\", \"name\": \"\", \"text\": [], \"x\": [], \"y\": [], \"type\": \"scatter\", \"uid\": \"c47c0018-fae4-11e8-b19a-e35ea5c620f6\"}, {\"marker\": {\"color\": \"rgb(255,126,24)\", \"line\": {\"width\": 0}, \"sizemode\": \"area\", \"symbol\": \"circle\"}, \"mode\": \"markers\", \"name\": \"\", \"text\": [\"10 estudantes\", \"10 estudantes\", \"10 estudantes\"], \"x\": [10, 10, 10], \"y\": [\"Assign2\", \"Assign4\", \"Assign7\"], \"type\": \"scatter\", \"uid\": \"c47c00a4-fae4-11e8-b19a-e35ea5c620f6\"}, {\"marker\": {\"color\": \"rgb(255,126,24)\", \"line\": {\"width\": 0}, \"sizemode\": \"area\", \"symbol\": \"circle\"}, \"mode\": \"markers\", \"name\": \"\", \"text\": [\"11 estudantes\", \"11 estudantes\"], \"x\": [11, 11], \"y\": [\"Assign1\", \"Assign9\"], \"type\": \"scatter\", \"uid\": \"c47c0126-fae4-11e8-b19a-e35ea5c620f6\"}, {\"marker\": {\"color\": \"rgb(255,126,24)\", \"line\": {\"width\": 0}, \"sizemode\": \"area\", \"symbol\": \"circle\"}, \"mode\": \"markers\", \"name\": \"\", \"text\": [\"12 estudantes\", \"12 estudantes\"], \"x\": [12, 12], \"y\": [\"Assign3\", \"Assign8\"], \"type\": \"scatter\", \"uid\": \"c47c01a8-fae4-11e8-b19a-e35ea5c620f6\"}, {\"marker\": {\"color\": \"rgb(255,126,24)\", \"line\": {\"width\": 0}, \"sizemode\": \"area\", \"symbol\": \"circle\"}, \"mode\": \"markers\", \"name\": \"\", \"text\": [], \"x\": [], \"y\": [], \"type\": \"scatter\", \"uid\": \"c47c022a-fae4-11e8-b19a-e35ea5c620f6\"}, {\"marker\": {\"color\": \"rgb(255,126,24)\", \"line\": {\"width\": 0}, \"sizemode\": \"area\", \"symbol\": \"circle\"}, \"mode\": \"markers\", \"name\": \"\", \"text\": [\"14 estudantes\", \"14 estudantes\", \"14 estudantes\"], \"x\": [14, 14, 14], \"y\": [\"Assign10\", \"Assign5\", \"Assign6\"], \"type\": \"scatter\", \"uid\": \"c47c02a2-fae4-11e8-b19a-e35ea5c620f6\"}], {\"hovermode\": \"closest\", \"showlegend\": false, \"title\": \"Quantidade de estudantes <b>n\\u00e3o</b> que fizeram as tarefas\", \"xaxis\": {\"dtick\": 1, \"showgrid\": true, \"tick0\": 0, \"title\": \"N\\u00famero de estudantes\", \"titlefont\": {\"color\": \"rgb(180,180,180)\"}}, \"yaxis\": {\"dtick\": 1, \"exponentformat\": \"e\", \"gridcolor\": \"#bdbdbd\", \"showexponent\": \"all\", \"showgrid\": false, \"showticklabels\": true, \"tick0\": 0, \"title\": \"\", \"titlefont\": {\"color\": \"rgb(180,180,180)\"}}}, {\"showLink\": true, \"linkText\": \"Export to plot.ly\"})});</script>"
      ],
      "text/vnd.plotly.v1+html": [
       "<div id=\"7b6626e1-8000-4638-9973-3d67af7ea474\" style=\"height: 525px; width: 100%;\" class=\"plotly-graph-div\"></div><script type=\"text/javascript\">require([\"plotly\"], function(Plotly) { window.PLOTLYENV=window.PLOTLYENV || {};window.PLOTLYENV.BASE_URL=\"https://plot.ly\";Plotly.newPlot(\"7b6626e1-8000-4638-9973-3d67af7ea474\", [{\"marker\": {\"color\": \"lightgray\"}, \"name\": \"\", \"orientation\": \"h\", \"text\": \"\", \"width\": [0.04, 0.04, 0.04, 0.04, 0.04, 0.04, 0.04, 0.04, 0.04, 0.04, 0.04, 0.04, 0.04, 0.04, 0.04, 0.04, 0.04, 0.04, 0.04, 0.04], \"x\": [10, 10, 10, 11, 11, 12, 12, 14, 14, 14], \"y\": [\"Assign2\", \"Assign4\", \"Assign7\", \"Assign1\", \"Assign9\", \"Assign3\", \"Assign8\", \"Assign10\", \"Assign5\", \"Assign6\"], \"type\": \"bar\", \"uid\": \"c47bf8d4-fae4-11e8-b19a-e35ea5c620f6\"}, {\"marker\": {\"color\": \"rgb(255,126,24)\", \"line\": {\"width\": 0}, \"sizemode\": \"area\", \"symbol\": \"circle\"}, \"mode\": \"markers\", \"name\": \"\", \"text\": [], \"x\": [], \"y\": [], \"type\": \"scatter\", \"uid\": \"c47bfa96-fae4-11e8-b19a-e35ea5c620f6\"}, {\"marker\": {\"color\": \"rgb(255,126,24)\", \"line\": {\"width\": 0}, \"sizemode\": \"area\", \"symbol\": \"circle\"}, \"mode\": \"markers\", \"name\": \"\", \"text\": [], \"x\": [], \"y\": [], \"type\": \"scatter\", \"uid\": \"c47bfb72-fae4-11e8-b19a-e35ea5c620f6\"}, {\"marker\": {\"color\": \"rgb(255,126,24)\", \"line\": {\"width\": 0}, \"sizemode\": \"area\", \"symbol\": \"circle\"}, \"mode\": \"markers\", \"name\": \"\", \"text\": [], \"x\": [], \"y\": [], \"type\": \"scatter\", \"uid\": \"c47bfc1c-fae4-11e8-b19a-e35ea5c620f6\"}, {\"marker\": {\"color\": \"rgb(255,126,24)\", \"line\": {\"width\": 0}, \"sizemode\": \"area\", \"symbol\": \"circle\"}, \"mode\": \"markers\", \"name\": \"\", \"text\": [], \"x\": [], \"y\": [], \"type\": \"scatter\", \"uid\": \"c47bfcda-fae4-11e8-b19a-e35ea5c620f6\"}, {\"marker\": {\"color\": \"rgb(255,126,24)\", \"line\": {\"width\": 0}, \"sizemode\": \"area\", \"symbol\": \"circle\"}, \"mode\": \"markers\", \"name\": \"\", \"text\": [], \"x\": [], \"y\": [], \"type\": \"scatter\", \"uid\": \"c47bfd70-fae4-11e8-b19a-e35ea5c620f6\"}, {\"marker\": {\"color\": \"rgb(255,126,24)\", \"line\": {\"width\": 0}, \"sizemode\": \"area\", \"symbol\": \"circle\"}, \"mode\": \"markers\", \"name\": \"\", \"text\": [], \"x\": [], \"y\": [], \"type\": \"scatter\", \"uid\": \"c47bfdfc-fae4-11e8-b19a-e35ea5c620f6\"}, {\"marker\": {\"color\": \"rgb(255,126,24)\", \"line\": {\"width\": 0}, \"sizemode\": \"area\", \"symbol\": \"circle\"}, \"mode\": \"markers\", \"name\": \"\", \"text\": [], \"x\": [], \"y\": [], \"type\": \"scatter\", \"uid\": \"c47bfe88-fae4-11e8-b19a-e35ea5c620f6\"}, {\"marker\": {\"color\": \"rgb(255,126,24)\", \"line\": {\"width\": 0}, \"sizemode\": \"area\", \"symbol\": \"circle\"}, \"mode\": \"markers\", \"name\": \"\", \"text\": [], \"x\": [], \"y\": [], \"type\": \"scatter\", \"uid\": \"c47bff0a-fae4-11e8-b19a-e35ea5c620f6\"}, {\"marker\": {\"color\": \"rgb(255,126,24)\", \"line\": {\"width\": 0}, \"sizemode\": \"area\", \"symbol\": \"circle\"}, \"mode\": \"markers\", \"name\": \"\", \"text\": [], \"x\": [], \"y\": [], \"type\": \"scatter\", \"uid\": \"c47bff96-fae4-11e8-b19a-e35ea5c620f6\"}, {\"marker\": {\"color\": \"rgb(255,126,24)\", \"line\": {\"width\": 0}, \"sizemode\": \"area\", \"symbol\": \"circle\"}, \"mode\": \"markers\", \"name\": \"\", \"text\": [], \"x\": [], \"y\": [], \"type\": \"scatter\", \"uid\": \"c47c0018-fae4-11e8-b19a-e35ea5c620f6\"}, {\"marker\": {\"color\": \"rgb(255,126,24)\", \"line\": {\"width\": 0}, \"sizemode\": \"area\", \"symbol\": \"circle\"}, \"mode\": \"markers\", \"name\": \"\", \"text\": [\"10 estudantes\", \"10 estudantes\", \"10 estudantes\"], \"x\": [10, 10, 10], \"y\": [\"Assign2\", \"Assign4\", \"Assign7\"], \"type\": \"scatter\", \"uid\": \"c47c00a4-fae4-11e8-b19a-e35ea5c620f6\"}, {\"marker\": {\"color\": \"rgb(255,126,24)\", \"line\": {\"width\": 0}, \"sizemode\": \"area\", \"symbol\": \"circle\"}, \"mode\": \"markers\", \"name\": \"\", \"text\": [\"11 estudantes\", \"11 estudantes\"], \"x\": [11, 11], \"y\": [\"Assign1\", \"Assign9\"], \"type\": \"scatter\", \"uid\": \"c47c0126-fae4-11e8-b19a-e35ea5c620f6\"}, {\"marker\": {\"color\": \"rgb(255,126,24)\", \"line\": {\"width\": 0}, \"sizemode\": \"area\", \"symbol\": \"circle\"}, \"mode\": \"markers\", \"name\": \"\", \"text\": [\"12 estudantes\", \"12 estudantes\"], \"x\": [12, 12], \"y\": [\"Assign3\", \"Assign8\"], \"type\": \"scatter\", \"uid\": \"c47c01a8-fae4-11e8-b19a-e35ea5c620f6\"}, {\"marker\": {\"color\": \"rgb(255,126,24)\", \"line\": {\"width\": 0}, \"sizemode\": \"area\", \"symbol\": \"circle\"}, \"mode\": \"markers\", \"name\": \"\", \"text\": [], \"x\": [], \"y\": [], \"type\": \"scatter\", \"uid\": \"c47c022a-fae4-11e8-b19a-e35ea5c620f6\"}, {\"marker\": {\"color\": \"rgb(255,126,24)\", \"line\": {\"width\": 0}, \"sizemode\": \"area\", \"symbol\": \"circle\"}, \"mode\": \"markers\", \"name\": \"\", \"text\": [\"14 estudantes\", \"14 estudantes\", \"14 estudantes\"], \"x\": [14, 14, 14], \"y\": [\"Assign10\", \"Assign5\", \"Assign6\"], \"type\": \"scatter\", \"uid\": \"c47c02a2-fae4-11e8-b19a-e35ea5c620f6\"}], {\"hovermode\": \"closest\", \"showlegend\": false, \"title\": \"Quantidade de estudantes <b>n\\u00e3o</b> que fizeram as tarefas\", \"xaxis\": {\"dtick\": 1, \"showgrid\": true, \"tick0\": 0, \"title\": \"N\\u00famero de estudantes\", \"titlefont\": {\"color\": \"rgb(180,180,180)\"}}, \"yaxis\": {\"dtick\": 1, \"exponentformat\": \"e\", \"gridcolor\": \"#bdbdbd\", \"showexponent\": \"all\", \"showgrid\": false, \"showticklabels\": true, \"tick0\": 0, \"title\": \"\", \"titlefont\": {\"color\": \"rgb(180,180,180)\"}}}, {\"showLink\": true, \"linkText\": \"Export to plot.ly\"})});</script>"
      ]
     },
     "metadata": {},
     "output_type": "display_data"
    },
    {
     "data": {
      "application/vnd.plotly.v1+json": {
       "data": [
        {
         "marker": {
          "color": "rgb(0,0,255)",
          "line": {
           "width": 0
          },
          "size": [
           0,
           0,
           0,
           1,
           0,
           0,
           1,
           0,
           0,
           1
          ],
          "sizemode": "area",
          "sizeref": 0.01,
          "symbol": "circle"
         },
         "mode": "markers",
         "name": "ALMIRA",
         "type": "scatter",
         "uid": "c49c83ec-fae4-11e8-b19a-e35ea5c620f6",
         "x": [
          "ALMIRA",
          "ALMIRA",
          "ALMIRA",
          "ALMIRA",
          "ALMIRA",
          "ALMIRA",
          "ALMIRA",
          "ALMIRA",
          "ALMIRA",
          "ALMIRA",
          "ALMIRA"
         ],
         "y": [
          "Assign1",
          "Assign2",
          "Assign3",
          "Assign4",
          "Assign5",
          "Assign6",
          "Assign7",
          "Assign8",
          "Assign9",
          "Assign10"
         ]
        },
        {
         "marker": {
          "color": "rgb(0,0,255)",
          "line": {
           "width": 0
          },
          "size": [
           0,
           1,
           0,
           1,
           1,
           0,
           0,
           0,
           1,
           0
          ],
          "sizemode": "area",
          "sizeref": 0.01,
          "symbol": "circle"
         },
         "mode": "markers",
         "name": "ANAZIRA",
         "type": "scatter",
         "uid": "c49c85a4-fae4-11e8-b19a-e35ea5c620f6",
         "x": [
          "ANAZIRA",
          "ANAZIRA",
          "ANAZIRA",
          "ANAZIRA",
          "ANAZIRA",
          "ANAZIRA",
          "ANAZIRA",
          "ANAZIRA",
          "ANAZIRA",
          "ANAZIRA",
          "ANAZIRA"
         ],
         "y": [
          "Assign1",
          "Assign2",
          "Assign3",
          "Assign4",
          "Assign5",
          "Assign6",
          "Assign7",
          "Assign8",
          "Assign9",
          "Assign10"
         ]
        },
        {
         "marker": {
          "color": "rgb(0,0,255)",
          "line": {
           "width": 0
          },
          "size": [
           1,
           1,
           0,
           0,
           1,
           1,
           0,
           0,
           0,
           1
          ],
          "sizemode": "area",
          "sizeref": 0.01,
          "symbol": "circle"
         },
         "mode": "markers",
         "name": "DAFINE",
         "type": "scatter",
         "uid": "c49c866c-fae4-11e8-b19a-e35ea5c620f6",
         "x": [
          "DAFINE",
          "DAFINE",
          "DAFINE",
          "DAFINE",
          "DAFINE",
          "DAFINE",
          "DAFINE",
          "DAFINE",
          "DAFINE",
          "DAFINE",
          "DAFINE"
         ],
         "y": [
          "Assign1",
          "Assign2",
          "Assign3",
          "Assign4",
          "Assign5",
          "Assign6",
          "Assign7",
          "Assign8",
          "Assign9",
          "Assign10"
         ]
        },
        {
         "marker": {
          "color": "rgb(0,0,255)",
          "line": {
           "width": 0
          },
          "size": [
           1,
           0,
           1,
           0,
           0,
           0,
           0,
           1,
           1,
           0
          ],
          "sizemode": "area",
          "sizeref": 0.01,
          "symbol": "circle"
         },
         "mode": "markers",
         "name": "DILZA",
         "type": "scatter",
         "uid": "c49c870c-fae4-11e8-b19a-e35ea5c620f6",
         "x": [
          "DILZA",
          "DILZA",
          "DILZA",
          "DILZA",
          "DILZA",
          "DILZA",
          "DILZA",
          "DILZA",
          "DILZA",
          "DILZA",
          "DILZA"
         ],
         "y": [
          "Assign1",
          "Assign2",
          "Assign3",
          "Assign4",
          "Assign5",
          "Assign6",
          "Assign7",
          "Assign8",
          "Assign9",
          "Assign10"
         ]
        },
        {
         "marker": {
          "color": "rgb(0,0,255)",
          "line": {
           "width": 0
          },
          "size": [
           1,
           0,
           0,
           1,
           0,
           1,
           0,
           0,
           0,
           0
          ],
          "sizemode": "area",
          "sizeref": 0.01,
          "symbol": "circle"
         },
         "mode": "markers",
         "name": "ELIDO",
         "type": "scatter",
         "uid": "c49c87a2-fae4-11e8-b19a-e35ea5c620f6",
         "x": [
          "ELIDO",
          "ELIDO",
          "ELIDO",
          "ELIDO",
          "ELIDO",
          "ELIDO",
          "ELIDO",
          "ELIDO",
          "ELIDO",
          "ELIDO",
          "ELIDO"
         ],
         "y": [
          "Assign1",
          "Assign2",
          "Assign3",
          "Assign4",
          "Assign5",
          "Assign6",
          "Assign7",
          "Assign8",
          "Assign9",
          "Assign10"
         ]
        },
        {
         "marker": {
          "color": "rgb(0,0,255)",
          "line": {
           "width": 0
          },
          "size": [
           0,
           1,
           1,
           0,
           0,
           0,
           1,
           1,
           0,
           0
          ],
          "sizemode": "area",
          "sizeref": 0.01,
          "symbol": "circle"
         },
         "mode": "markers",
         "name": "ERILIO",
         "type": "scatter",
         "uid": "c49c882e-fae4-11e8-b19a-e35ea5c620f6",
         "x": [
          "ERILIO",
          "ERILIO",
          "ERILIO",
          "ERILIO",
          "ERILIO",
          "ERILIO",
          "ERILIO",
          "ERILIO",
          "ERILIO",
          "ERILIO",
          "ERILIO"
         ],
         "y": [
          "Assign1",
          "Assign2",
          "Assign3",
          "Assign4",
          "Assign5",
          "Assign6",
          "Assign7",
          "Assign8",
          "Assign9",
          "Assign10"
         ]
        },
        {
         "marker": {
          "color": "rgb(0,0,255)",
          "line": {
           "width": 0
          },
          "size": [
           0,
           1,
           0,
           1,
           1,
           1,
           0,
           0,
           0,
           1
          ],
          "sizemode": "area",
          "sizeref": 0.01,
          "symbol": "circle"
         },
         "mode": "markers",
         "name": "GIUSEPPE",
         "type": "scatter",
         "uid": "c49c88ba-fae4-11e8-b19a-e35ea5c620f6",
         "x": [
          "GIUSEPPE",
          "GIUSEPPE",
          "GIUSEPPE",
          "GIUSEPPE",
          "GIUSEPPE",
          "GIUSEPPE",
          "GIUSEPPE",
          "GIUSEPPE",
          "GIUSEPPE",
          "GIUSEPPE",
          "GIUSEPPE"
         ],
         "y": [
          "Assign1",
          "Assign2",
          "Assign3",
          "Assign4",
          "Assign5",
          "Assign6",
          "Assign7",
          "Assign8",
          "Assign9",
          "Assign10"
         ]
        },
        {
         "marker": {
          "color": "rgb(0,0,255)",
          "line": {
           "width": 0
          },
          "size": [
           1,
           1,
           0,
           0,
           0,
           0,
           1,
           1,
           1,
           1
          ],
          "sizemode": "area",
          "sizeref": 0.01,
          "symbol": "circle"
         },
         "mode": "markers",
         "name": "IDELMARIA",
         "type": "scatter",
         "uid": "c49c893c-fae4-11e8-b19a-e35ea5c620f6",
         "x": [
          "IDELMARIA",
          "IDELMARIA",
          "IDELMARIA",
          "IDELMARIA",
          "IDELMARIA",
          "IDELMARIA",
          "IDELMARIA",
          "IDELMARIA",
          "IDELMARIA",
          "IDELMARIA",
          "IDELMARIA"
         ],
         "y": [
          "Assign1",
          "Assign2",
          "Assign3",
          "Assign4",
          "Assign5",
          "Assign6",
          "Assign7",
          "Assign8",
          "Assign9",
          "Assign10"
         ]
        },
        {
         "marker": {
          "color": "rgb(0,0,255)",
          "line": {
           "width": 0
          },
          "size": [
           1,
           1,
           1,
           0,
           0,
           0,
           0,
           1,
           0,
           1
          ],
          "sizemode": "area",
          "sizeref": 0.01,
          "symbol": "circle"
         },
         "mode": "markers",
         "name": "ISABELI",
         "type": "scatter",
         "uid": "c49c89c8-fae4-11e8-b19a-e35ea5c620f6",
         "x": [
          "ISABELI",
          "ISABELI",
          "ISABELI",
          "ISABELI",
          "ISABELI",
          "ISABELI",
          "ISABELI",
          "ISABELI",
          "ISABELI",
          "ISABELI",
          "ISABELI"
         ],
         "y": [
          "Assign1",
          "Assign2",
          "Assign3",
          "Assign4",
          "Assign5",
          "Assign6",
          "Assign7",
          "Assign8",
          "Assign9",
          "Assign10"
         ]
        },
        {
         "marker": {
          "color": "rgb(0,0,255)",
          "line": {
           "width": 0
          },
          "size": [
           0,
           0,
           0,
           0,
           1,
           0,
           1,
           1,
           1,
           0
          ],
          "sizemode": "area",
          "sizeref": 0.01,
          "symbol": "circle"
         },
         "mode": "markers",
         "name": "IZILDA",
         "type": "scatter",
         "uid": "c49c8a4a-fae4-11e8-b19a-e35ea5c620f6",
         "x": [
          "IZILDA",
          "IZILDA",
          "IZILDA",
          "IZILDA",
          "IZILDA",
          "IZILDA",
          "IZILDA",
          "IZILDA",
          "IZILDA",
          "IZILDA",
          "IZILDA"
         ],
         "y": [
          "Assign1",
          "Assign2",
          "Assign3",
          "Assign4",
          "Assign5",
          "Assign6",
          "Assign7",
          "Assign8",
          "Assign9",
          "Assign10"
         ]
        },
        {
         "marker": {
          "color": "rgb(0,0,255)",
          "line": {
           "width": 0
          },
          "size": [
           1,
           1,
           0,
           0,
           1,
           0,
           1,
           1,
           0,
           0
          ],
          "sizemode": "area",
          "sizeref": 0.01,
          "symbol": "circle"
         },
         "mode": "markers",
         "name": "JOCIQUELE",
         "type": "scatter",
         "uid": "c49c8ac2-fae4-11e8-b19a-e35ea5c620f6",
         "x": [
          "JOCIQUELE",
          "JOCIQUELE",
          "JOCIQUELE",
          "JOCIQUELE",
          "JOCIQUELE",
          "JOCIQUELE",
          "JOCIQUELE",
          "JOCIQUELE",
          "JOCIQUELE",
          "JOCIQUELE",
          "JOCIQUELE"
         ],
         "y": [
          "Assign1",
          "Assign2",
          "Assign3",
          "Assign4",
          "Assign5",
          "Assign6",
          "Assign7",
          "Assign8",
          "Assign9",
          "Assign10"
         ]
        },
        {
         "marker": {
          "color": "rgb(0,0,255)",
          "line": {
           "width": 0
          },
          "size": [
           0,
           1,
           1,
           1,
           0,
           0,
           0,
           0,
           0,
           0
          ],
          "sizemode": "area",
          "sizeref": 0.01,
          "symbol": "circle"
         },
         "mode": "markers",
         "name": "KARIANY",
         "type": "scatter",
         "uid": "c49c8b44-fae4-11e8-b19a-e35ea5c620f6",
         "x": [
          "KARIANY",
          "KARIANY",
          "KARIANY",
          "KARIANY",
          "KARIANY",
          "KARIANY",
          "KARIANY",
          "KARIANY",
          "KARIANY",
          "KARIANY",
          "KARIANY"
         ],
         "y": [
          "Assign1",
          "Assign2",
          "Assign3",
          "Assign4",
          "Assign5",
          "Assign6",
          "Assign7",
          "Assign8",
          "Assign9",
          "Assign10"
         ]
        },
        {
         "marker": {
          "color": "rgb(0,0,255)",
          "line": {
           "width": 0
          },
          "size": [
           0,
           0,
           0,
           1,
           0,
           0,
           1,
           0,
           1,
           0
          ],
          "sizemode": "area",
          "sizeref": 0.01,
          "symbol": "circle"
         },
         "mode": "markers",
         "name": "MESSODY",
         "type": "scatter",
         "uid": "c49c8bc6-fae4-11e8-b19a-e35ea5c620f6",
         "x": [
          "MESSODY",
          "MESSODY",
          "MESSODY",
          "MESSODY",
          "MESSODY",
          "MESSODY",
          "MESSODY",
          "MESSODY",
          "MESSODY",
          "MESSODY",
          "MESSODY"
         ],
         "y": [
          "Assign1",
          "Assign2",
          "Assign3",
          "Assign4",
          "Assign5",
          "Assign6",
          "Assign7",
          "Assign8",
          "Assign9",
          "Assign10"
         ]
        },
        {
         "marker": {
          "color": "rgb(0,0,255)",
          "line": {
           "width": 0
          },
          "size": [
           0,
           0,
           0,
           0,
           0,
           0,
           1,
           0,
           1,
           0
          ],
          "sizemode": "area",
          "sizeref": 0.01,
          "symbol": "circle"
         },
         "mode": "markers",
         "name": "NARIELE",
         "type": "scatter",
         "uid": "c49c8c48-fae4-11e8-b19a-e35ea5c620f6",
         "x": [
          "NARIELE",
          "NARIELE",
          "NARIELE",
          "NARIELE",
          "NARIELE",
          "NARIELE",
          "NARIELE",
          "NARIELE",
          "NARIELE",
          "NARIELE",
          "NARIELE"
         ],
         "y": [
          "Assign1",
          "Assign2",
          "Assign3",
          "Assign4",
          "Assign5",
          "Assign6",
          "Assign7",
          "Assign8",
          "Assign9",
          "Assign10"
         ]
        },
        {
         "marker": {
          "color": "rgb(0,0,255)",
          "line": {
           "width": 0
          },
          "size": [
           1,
           0,
           1,
           1,
           0,
           1,
           0,
           0,
           0,
           1
          ],
          "sizemode": "area",
          "sizeref": 0.01,
          "symbol": "circle"
         },
         "mode": "markers",
         "name": "OTO",
         "type": "scatter",
         "uid": "c49c8cc0-fae4-11e8-b19a-e35ea5c620f6",
         "x": [
          "OTO",
          "OTO",
          "OTO",
          "OTO",
          "OTO",
          "OTO",
          "OTO",
          "OTO",
          "OTO",
          "OTO",
          "OTO"
         ],
         "y": [
          "Assign1",
          "Assign2",
          "Assign3",
          "Assign4",
          "Assign5",
          "Assign6",
          "Assign7",
          "Assign8",
          "Assign9",
          "Assign10"
         ]
        },
        {
         "marker": {
          "color": "rgb(0,0,255)",
          "line": {
           "width": 0
          },
          "size": [
           0,
           1,
           0,
           1,
           0,
           1,
           0,
           0,
           1,
           0
          ],
          "sizemode": "area",
          "sizeref": 0.01,
          "symbol": "circle"
         },
         "mode": "markers",
         "name": "ROSALHA",
         "type": "scatter",
         "uid": "c49c8d42-fae4-11e8-b19a-e35ea5c620f6",
         "x": [
          "ROSALHA",
          "ROSALHA",
          "ROSALHA",
          "ROSALHA",
          "ROSALHA",
          "ROSALHA",
          "ROSALHA",
          "ROSALHA",
          "ROSALHA",
          "ROSALHA",
          "ROSALHA"
         ],
         "y": [
          "Assign1",
          "Assign2",
          "Assign3",
          "Assign4",
          "Assign5",
          "Assign6",
          "Assign7",
          "Assign8",
          "Assign9",
          "Assign10"
         ]
        },
        {
         "marker": {
          "color": "rgb(0,0,255)",
          "line": {
           "width": 0
          },
          "size": [
           0,
           0,
           1,
           0,
           1,
           0,
           1,
           1,
           0,
           0
          ],
          "sizemode": "area",
          "sizeref": 0.01,
          "symbol": "circle"
         },
         "mode": "markers",
         "name": "SELESTRINO",
         "type": "scatter",
         "uid": "c49c8dba-fae4-11e8-b19a-e35ea5c620f6",
         "x": [
          "SELESTRINO",
          "SELESTRINO",
          "SELESTRINO",
          "SELESTRINO",
          "SELESTRINO",
          "SELESTRINO",
          "SELESTRINO",
          "SELESTRINO",
          "SELESTRINO",
          "SELESTRINO",
          "SELESTRINO"
         ],
         "y": [
          "Assign1",
          "Assign2",
          "Assign3",
          "Assign4",
          "Assign5",
          "Assign6",
          "Assign7",
          "Assign8",
          "Assign9",
          "Assign10"
         ]
        },
        {
         "marker": {
          "color": "rgb(0,0,255)",
          "line": {
           "width": 0
          },
          "size": [
           1,
           0,
           0,
           1,
           0,
           0,
           1,
           0,
           0,
           0
          ],
          "sizemode": "area",
          "sizeref": 0.01,
          "symbol": "circle"
         },
         "mode": "markers",
         "name": "TIARA",
         "type": "scatter",
         "uid": "c49c8e3c-fae4-11e8-b19a-e35ea5c620f6",
         "x": [
          "TIARA",
          "TIARA",
          "TIARA",
          "TIARA",
          "TIARA",
          "TIARA",
          "TIARA",
          "TIARA",
          "TIARA",
          "TIARA",
          "TIARA"
         ],
         "y": [
          "Assign1",
          "Assign2",
          "Assign3",
          "Assign4",
          "Assign5",
          "Assign6",
          "Assign7",
          "Assign8",
          "Assign9",
          "Assign10"
         ]
        },
        {
         "marker": {
          "color": "rgb(0,0,255)",
          "line": {
           "width": 0
          },
          "size": [
           1,
           1,
           1,
           1,
           0,
           1,
           0,
           1,
           1,
           0
          ],
          "sizemode": "area",
          "sizeref": 0.01,
          "symbol": "circle"
         },
         "mode": "markers",
         "name": "UDILSON",
         "type": "scatter",
         "uid": "c49c8eb4-fae4-11e8-b19a-e35ea5c620f6",
         "x": [
          "UDILSON",
          "UDILSON",
          "UDILSON",
          "UDILSON",
          "UDILSON",
          "UDILSON",
          "UDILSON",
          "UDILSON",
          "UDILSON",
          "UDILSON",
          "UDILSON"
         ],
         "y": [
          "Assign1",
          "Assign2",
          "Assign3",
          "Assign4",
          "Assign5",
          "Assign6",
          "Assign7",
          "Assign8",
          "Assign9",
          "Assign10"
         ]
        },
        {
         "marker": {
          "color": "rgb(0,0,255)",
          "line": {
           "width": 0
          },
          "size": [
           0,
           0,
           1,
           0,
           0,
           0,
           1,
           0,
           1,
           0
          ],
          "sizemode": "area",
          "sizeref": 0.01,
          "symbol": "circle"
         },
         "mode": "markers",
         "name": "URSULLA",
         "type": "scatter",
         "uid": "c49c8f2c-fae4-11e8-b19a-e35ea5c620f6",
         "x": [
          "URSULLA",
          "URSULLA",
          "URSULLA",
          "URSULLA",
          "URSULLA",
          "URSULLA",
          "URSULLA",
          "URSULLA",
          "URSULLA",
          "URSULLA",
          "URSULLA"
         ],
         "y": [
          "Assign1",
          "Assign2",
          "Assign3",
          "Assign4",
          "Assign5",
          "Assign6",
          "Assign7",
          "Assign8",
          "Assign9",
          "Assign10"
         ]
        }
       ],
       "layout": {
        "hovermode": "closest",
        "showlegend": false,
        "title": "Atividades feitas por estudante",
        "xaxis": {
         "autorange": false,
         "fixedrange": false,
         "range": [
          -1,
          20
         ],
         "rangemode": "normal",
         "showline": true,
         "title": "",
         "titlefont": {
          "color": "rgb(180,180,180)"
         },
         "type": "category"
        },
        "yaxis": {
         "autorange": false,
         "fixedrange": false,
         "range": [
          -1,
          10
         ],
         "rangemode": "normal",
         "showline": true,
         "title": "",
         "titlefont": {
          "color": "rgb(180,180,180)"
         },
         "type": "category"
        }
       }
      },
      "text/html": [
       "<div id=\"a452a21d-5a4f-47c4-9aa9-fce7e59d53a9\" style=\"height: 525px; width: 100%;\" class=\"plotly-graph-div\"></div><script type=\"text/javascript\">require([\"plotly\"], function(Plotly) { window.PLOTLYENV=window.PLOTLYENV || {};window.PLOTLYENV.BASE_URL=\"https://plot.ly\";Plotly.newPlot(\"a452a21d-5a4f-47c4-9aa9-fce7e59d53a9\", [{\"marker\": {\"color\": \"rgb(0,0,255)\", \"line\": {\"width\": 0}, \"size\": [0, 0, 0, 1, 0, 0, 1, 0, 0, 1], \"sizemode\": \"area\", \"sizeref\": 0.01, \"symbol\": \"circle\"}, \"mode\": \"markers\", \"name\": \"ALMIRA\", \"x\": [\"ALMIRA\", \"ALMIRA\", \"ALMIRA\", \"ALMIRA\", \"ALMIRA\", \"ALMIRA\", \"ALMIRA\", \"ALMIRA\", \"ALMIRA\", \"ALMIRA\", \"ALMIRA\"], \"y\": [\"Assign1\", \"Assign2\", \"Assign3\", \"Assign4\", \"Assign5\", \"Assign6\", \"Assign7\", \"Assign8\", \"Assign9\", \"Assign10\"], \"type\": \"scatter\", \"uid\": \"c49c83ec-fae4-11e8-b19a-e35ea5c620f6\"}, {\"marker\": {\"color\": \"rgb(0,0,255)\", \"line\": {\"width\": 0}, \"size\": [0, 1, 0, 1, 1, 0, 0, 0, 1, 0], \"sizemode\": \"area\", \"sizeref\": 0.01, \"symbol\": \"circle\"}, \"mode\": \"markers\", \"name\": \"ANAZIRA\", \"x\": [\"ANAZIRA\", \"ANAZIRA\", \"ANAZIRA\", \"ANAZIRA\", \"ANAZIRA\", \"ANAZIRA\", \"ANAZIRA\", \"ANAZIRA\", \"ANAZIRA\", \"ANAZIRA\", \"ANAZIRA\"], \"y\": [\"Assign1\", \"Assign2\", \"Assign3\", \"Assign4\", \"Assign5\", \"Assign6\", \"Assign7\", \"Assign8\", \"Assign9\", \"Assign10\"], \"type\": \"scatter\", \"uid\": \"c49c85a4-fae4-11e8-b19a-e35ea5c620f6\"}, {\"marker\": {\"color\": \"rgb(0,0,255)\", \"line\": {\"width\": 0}, \"size\": [1, 1, 0, 0, 1, 1, 0, 0, 0, 1], \"sizemode\": \"area\", \"sizeref\": 0.01, \"symbol\": \"circle\"}, \"mode\": \"markers\", \"name\": \"DAFINE\", \"x\": [\"DAFINE\", \"DAFINE\", \"DAFINE\", \"DAFINE\", \"DAFINE\", \"DAFINE\", \"DAFINE\", \"DAFINE\", \"DAFINE\", \"DAFINE\", \"DAFINE\"], \"y\": [\"Assign1\", \"Assign2\", \"Assign3\", \"Assign4\", \"Assign5\", \"Assign6\", \"Assign7\", \"Assign8\", \"Assign9\", \"Assign10\"], \"type\": \"scatter\", \"uid\": \"c49c866c-fae4-11e8-b19a-e35ea5c620f6\"}, {\"marker\": {\"color\": \"rgb(0,0,255)\", \"line\": {\"width\": 0}, \"size\": [1, 0, 1, 0, 0, 0, 0, 1, 1, 0], \"sizemode\": \"area\", \"sizeref\": 0.01, \"symbol\": \"circle\"}, \"mode\": \"markers\", \"name\": \"DILZA\", \"x\": [\"DILZA\", \"DILZA\", \"DILZA\", \"DILZA\", \"DILZA\", \"DILZA\", \"DILZA\", \"DILZA\", \"DILZA\", \"DILZA\", \"DILZA\"], \"y\": [\"Assign1\", \"Assign2\", \"Assign3\", \"Assign4\", \"Assign5\", \"Assign6\", \"Assign7\", \"Assign8\", \"Assign9\", \"Assign10\"], \"type\": \"scatter\", \"uid\": \"c49c870c-fae4-11e8-b19a-e35ea5c620f6\"}, {\"marker\": {\"color\": \"rgb(0,0,255)\", \"line\": {\"width\": 0}, \"size\": [1, 0, 0, 1, 0, 1, 0, 0, 0, 0], \"sizemode\": \"area\", \"sizeref\": 0.01, \"symbol\": \"circle\"}, \"mode\": \"markers\", \"name\": \"ELIDO\", \"x\": [\"ELIDO\", \"ELIDO\", \"ELIDO\", \"ELIDO\", \"ELIDO\", \"ELIDO\", \"ELIDO\", \"ELIDO\", \"ELIDO\", \"ELIDO\", \"ELIDO\"], \"y\": [\"Assign1\", \"Assign2\", \"Assign3\", \"Assign4\", \"Assign5\", \"Assign6\", \"Assign7\", \"Assign8\", \"Assign9\", \"Assign10\"], \"type\": \"scatter\", \"uid\": \"c49c87a2-fae4-11e8-b19a-e35ea5c620f6\"}, {\"marker\": {\"color\": \"rgb(0,0,255)\", \"line\": {\"width\": 0}, \"size\": [0, 1, 1, 0, 0, 0, 1, 1, 0, 0], \"sizemode\": \"area\", \"sizeref\": 0.01, \"symbol\": \"circle\"}, \"mode\": \"markers\", \"name\": \"ERILIO\", \"x\": [\"ERILIO\", \"ERILIO\", \"ERILIO\", \"ERILIO\", \"ERILIO\", \"ERILIO\", \"ERILIO\", \"ERILIO\", \"ERILIO\", \"ERILIO\", \"ERILIO\"], \"y\": [\"Assign1\", \"Assign2\", \"Assign3\", \"Assign4\", \"Assign5\", \"Assign6\", \"Assign7\", \"Assign8\", \"Assign9\", \"Assign10\"], \"type\": \"scatter\", \"uid\": \"c49c882e-fae4-11e8-b19a-e35ea5c620f6\"}, {\"marker\": {\"color\": \"rgb(0,0,255)\", \"line\": {\"width\": 0}, \"size\": [0, 1, 0, 1, 1, 1, 0, 0, 0, 1], \"sizemode\": \"area\", \"sizeref\": 0.01, \"symbol\": \"circle\"}, \"mode\": \"markers\", \"name\": \"GIUSEPPE\", \"x\": [\"GIUSEPPE\", \"GIUSEPPE\", \"GIUSEPPE\", \"GIUSEPPE\", \"GIUSEPPE\", \"GIUSEPPE\", \"GIUSEPPE\", \"GIUSEPPE\", \"GIUSEPPE\", \"GIUSEPPE\", \"GIUSEPPE\"], \"y\": [\"Assign1\", \"Assign2\", \"Assign3\", \"Assign4\", \"Assign5\", \"Assign6\", \"Assign7\", \"Assign8\", \"Assign9\", \"Assign10\"], \"type\": \"scatter\", \"uid\": \"c49c88ba-fae4-11e8-b19a-e35ea5c620f6\"}, {\"marker\": {\"color\": \"rgb(0,0,255)\", \"line\": {\"width\": 0}, \"size\": [1, 1, 0, 0, 0, 0, 1, 1, 1, 1], \"sizemode\": \"area\", \"sizeref\": 0.01, \"symbol\": \"circle\"}, \"mode\": \"markers\", \"name\": \"IDELMARIA\", \"x\": [\"IDELMARIA\", \"IDELMARIA\", \"IDELMARIA\", \"IDELMARIA\", \"IDELMARIA\", \"IDELMARIA\", \"IDELMARIA\", \"IDELMARIA\", \"IDELMARIA\", \"IDELMARIA\", \"IDELMARIA\"], \"y\": [\"Assign1\", \"Assign2\", \"Assign3\", \"Assign4\", \"Assign5\", \"Assign6\", \"Assign7\", \"Assign8\", \"Assign9\", \"Assign10\"], \"type\": \"scatter\", \"uid\": \"c49c893c-fae4-11e8-b19a-e35ea5c620f6\"}, {\"marker\": {\"color\": \"rgb(0,0,255)\", \"line\": {\"width\": 0}, \"size\": [1, 1, 1, 0, 0, 0, 0, 1, 0, 1], \"sizemode\": \"area\", \"sizeref\": 0.01, \"symbol\": \"circle\"}, \"mode\": \"markers\", \"name\": \"ISABELI\", \"x\": [\"ISABELI\", \"ISABELI\", \"ISABELI\", \"ISABELI\", \"ISABELI\", \"ISABELI\", \"ISABELI\", \"ISABELI\", \"ISABELI\", \"ISABELI\", \"ISABELI\"], \"y\": [\"Assign1\", \"Assign2\", \"Assign3\", \"Assign4\", \"Assign5\", \"Assign6\", \"Assign7\", \"Assign8\", \"Assign9\", \"Assign10\"], \"type\": \"scatter\", \"uid\": \"c49c89c8-fae4-11e8-b19a-e35ea5c620f6\"}, {\"marker\": {\"color\": \"rgb(0,0,255)\", \"line\": {\"width\": 0}, \"size\": [0, 0, 0, 0, 1, 0, 1, 1, 1, 0], \"sizemode\": \"area\", \"sizeref\": 0.01, \"symbol\": \"circle\"}, \"mode\": \"markers\", \"name\": \"IZILDA\", \"x\": [\"IZILDA\", \"IZILDA\", \"IZILDA\", \"IZILDA\", \"IZILDA\", \"IZILDA\", \"IZILDA\", \"IZILDA\", \"IZILDA\", \"IZILDA\", \"IZILDA\"], \"y\": [\"Assign1\", \"Assign2\", \"Assign3\", \"Assign4\", \"Assign5\", \"Assign6\", \"Assign7\", \"Assign8\", \"Assign9\", \"Assign10\"], \"type\": \"scatter\", \"uid\": \"c49c8a4a-fae4-11e8-b19a-e35ea5c620f6\"}, {\"marker\": {\"color\": \"rgb(0,0,255)\", \"line\": {\"width\": 0}, \"size\": [1, 1, 0, 0, 1, 0, 1, 1, 0, 0], \"sizemode\": \"area\", \"sizeref\": 0.01, \"symbol\": \"circle\"}, \"mode\": \"markers\", \"name\": \"JOCIQUELE\", \"x\": [\"JOCIQUELE\", \"JOCIQUELE\", \"JOCIQUELE\", \"JOCIQUELE\", \"JOCIQUELE\", \"JOCIQUELE\", \"JOCIQUELE\", \"JOCIQUELE\", \"JOCIQUELE\", \"JOCIQUELE\", \"JOCIQUELE\"], \"y\": [\"Assign1\", \"Assign2\", \"Assign3\", \"Assign4\", \"Assign5\", \"Assign6\", \"Assign7\", \"Assign8\", \"Assign9\", \"Assign10\"], \"type\": \"scatter\", \"uid\": \"c49c8ac2-fae4-11e8-b19a-e35ea5c620f6\"}, {\"marker\": {\"color\": \"rgb(0,0,255)\", \"line\": {\"width\": 0}, \"size\": [0, 1, 1, 1, 0, 0, 0, 0, 0, 0], \"sizemode\": \"area\", \"sizeref\": 0.01, \"symbol\": \"circle\"}, \"mode\": \"markers\", \"name\": \"KARIANY\", \"x\": [\"KARIANY\", \"KARIANY\", \"KARIANY\", \"KARIANY\", \"KARIANY\", \"KARIANY\", \"KARIANY\", \"KARIANY\", \"KARIANY\", \"KARIANY\", \"KARIANY\"], \"y\": [\"Assign1\", \"Assign2\", \"Assign3\", \"Assign4\", \"Assign5\", \"Assign6\", \"Assign7\", \"Assign8\", \"Assign9\", \"Assign10\"], \"type\": \"scatter\", \"uid\": \"c49c8b44-fae4-11e8-b19a-e35ea5c620f6\"}, {\"marker\": {\"color\": \"rgb(0,0,255)\", \"line\": {\"width\": 0}, \"size\": [0, 0, 0, 1, 0, 0, 1, 0, 1, 0], \"sizemode\": \"area\", \"sizeref\": 0.01, \"symbol\": \"circle\"}, \"mode\": \"markers\", \"name\": \"MESSODY\", \"x\": [\"MESSODY\", \"MESSODY\", \"MESSODY\", \"MESSODY\", \"MESSODY\", \"MESSODY\", \"MESSODY\", \"MESSODY\", \"MESSODY\", \"MESSODY\", \"MESSODY\"], \"y\": [\"Assign1\", \"Assign2\", \"Assign3\", \"Assign4\", \"Assign5\", \"Assign6\", \"Assign7\", \"Assign8\", \"Assign9\", \"Assign10\"], \"type\": \"scatter\", \"uid\": \"c49c8bc6-fae4-11e8-b19a-e35ea5c620f6\"}, {\"marker\": {\"color\": \"rgb(0,0,255)\", \"line\": {\"width\": 0}, \"size\": [0, 0, 0, 0, 0, 0, 1, 0, 1, 0], \"sizemode\": \"area\", \"sizeref\": 0.01, \"symbol\": \"circle\"}, \"mode\": \"markers\", \"name\": \"NARIELE\", \"x\": [\"NARIELE\", \"NARIELE\", \"NARIELE\", \"NARIELE\", \"NARIELE\", \"NARIELE\", \"NARIELE\", \"NARIELE\", \"NARIELE\", \"NARIELE\", \"NARIELE\"], \"y\": [\"Assign1\", \"Assign2\", \"Assign3\", \"Assign4\", \"Assign5\", \"Assign6\", \"Assign7\", \"Assign8\", \"Assign9\", \"Assign10\"], \"type\": \"scatter\", \"uid\": \"c49c8c48-fae4-11e8-b19a-e35ea5c620f6\"}, {\"marker\": {\"color\": \"rgb(0,0,255)\", \"line\": {\"width\": 0}, \"size\": [1, 0, 1, 1, 0, 1, 0, 0, 0, 1], \"sizemode\": \"area\", \"sizeref\": 0.01, \"symbol\": \"circle\"}, \"mode\": \"markers\", \"name\": \"OTO\", \"x\": [\"OTO\", \"OTO\", \"OTO\", \"OTO\", \"OTO\", \"OTO\", \"OTO\", \"OTO\", \"OTO\", \"OTO\", \"OTO\"], \"y\": [\"Assign1\", \"Assign2\", \"Assign3\", \"Assign4\", \"Assign5\", \"Assign6\", \"Assign7\", \"Assign8\", \"Assign9\", \"Assign10\"], \"type\": \"scatter\", \"uid\": \"c49c8cc0-fae4-11e8-b19a-e35ea5c620f6\"}, {\"marker\": {\"color\": \"rgb(0,0,255)\", \"line\": {\"width\": 0}, \"size\": [0, 1, 0, 1, 0, 1, 0, 0, 1, 0], \"sizemode\": \"area\", \"sizeref\": 0.01, \"symbol\": \"circle\"}, \"mode\": \"markers\", \"name\": \"ROSALHA\", \"x\": [\"ROSALHA\", \"ROSALHA\", \"ROSALHA\", \"ROSALHA\", \"ROSALHA\", \"ROSALHA\", \"ROSALHA\", \"ROSALHA\", \"ROSALHA\", \"ROSALHA\", \"ROSALHA\"], \"y\": [\"Assign1\", \"Assign2\", \"Assign3\", \"Assign4\", \"Assign5\", \"Assign6\", \"Assign7\", \"Assign8\", \"Assign9\", \"Assign10\"], \"type\": \"scatter\", \"uid\": \"c49c8d42-fae4-11e8-b19a-e35ea5c620f6\"}, {\"marker\": {\"color\": \"rgb(0,0,255)\", \"line\": {\"width\": 0}, \"size\": [0, 0, 1, 0, 1, 0, 1, 1, 0, 0], \"sizemode\": \"area\", \"sizeref\": 0.01, \"symbol\": \"circle\"}, \"mode\": \"markers\", \"name\": \"SELESTRINO\", \"x\": [\"SELESTRINO\", \"SELESTRINO\", \"SELESTRINO\", \"SELESTRINO\", \"SELESTRINO\", \"SELESTRINO\", \"SELESTRINO\", \"SELESTRINO\", \"SELESTRINO\", \"SELESTRINO\", \"SELESTRINO\"], \"y\": [\"Assign1\", \"Assign2\", \"Assign3\", \"Assign4\", \"Assign5\", \"Assign6\", \"Assign7\", \"Assign8\", \"Assign9\", \"Assign10\"], \"type\": \"scatter\", \"uid\": \"c49c8dba-fae4-11e8-b19a-e35ea5c620f6\"}, {\"marker\": {\"color\": \"rgb(0,0,255)\", \"line\": {\"width\": 0}, \"size\": [1, 0, 0, 1, 0, 0, 1, 0, 0, 0], \"sizemode\": \"area\", \"sizeref\": 0.01, \"symbol\": \"circle\"}, \"mode\": \"markers\", \"name\": \"TIARA\", \"x\": [\"TIARA\", \"TIARA\", \"TIARA\", \"TIARA\", \"TIARA\", \"TIARA\", \"TIARA\", \"TIARA\", \"TIARA\", \"TIARA\", \"TIARA\"], \"y\": [\"Assign1\", \"Assign2\", \"Assign3\", \"Assign4\", \"Assign5\", \"Assign6\", \"Assign7\", \"Assign8\", \"Assign9\", \"Assign10\"], \"type\": \"scatter\", \"uid\": \"c49c8e3c-fae4-11e8-b19a-e35ea5c620f6\"}, {\"marker\": {\"color\": \"rgb(0,0,255)\", \"line\": {\"width\": 0}, \"size\": [1, 1, 1, 1, 0, 1, 0, 1, 1, 0], \"sizemode\": \"area\", \"sizeref\": 0.01, \"symbol\": \"circle\"}, \"mode\": \"markers\", \"name\": \"UDILSON\", \"x\": [\"UDILSON\", \"UDILSON\", \"UDILSON\", \"UDILSON\", \"UDILSON\", \"UDILSON\", \"UDILSON\", \"UDILSON\", \"UDILSON\", \"UDILSON\", \"UDILSON\"], \"y\": [\"Assign1\", \"Assign2\", \"Assign3\", \"Assign4\", \"Assign5\", \"Assign6\", \"Assign7\", \"Assign8\", \"Assign9\", \"Assign10\"], \"type\": \"scatter\", \"uid\": \"c49c8eb4-fae4-11e8-b19a-e35ea5c620f6\"}, {\"marker\": {\"color\": \"rgb(0,0,255)\", \"line\": {\"width\": 0}, \"size\": [0, 0, 1, 0, 0, 0, 1, 0, 1, 0], \"sizemode\": \"area\", \"sizeref\": 0.01, \"symbol\": \"circle\"}, \"mode\": \"markers\", \"name\": \"URSULLA\", \"x\": [\"URSULLA\", \"URSULLA\", \"URSULLA\", \"URSULLA\", \"URSULLA\", \"URSULLA\", \"URSULLA\", \"URSULLA\", \"URSULLA\", \"URSULLA\", \"URSULLA\"], \"y\": [\"Assign1\", \"Assign2\", \"Assign3\", \"Assign4\", \"Assign5\", \"Assign6\", \"Assign7\", \"Assign8\", \"Assign9\", \"Assign10\"], \"type\": \"scatter\", \"uid\": \"c49c8f2c-fae4-11e8-b19a-e35ea5c620f6\"}], {\"hovermode\": \"closest\", \"showlegend\": false, \"title\": \"Atividades feitas por estudante\", \"xaxis\": {\"autorange\": false, \"fixedrange\": false, \"range\": [-1, 20], \"rangemode\": \"normal\", \"showline\": true, \"title\": \"\", \"titlefont\": {\"color\": \"rgb(180,180,180)\"}, \"type\": \"category\"}, \"yaxis\": {\"autorange\": false, \"fixedrange\": false, \"range\": [-1, 10], \"rangemode\": \"normal\", \"showline\": true, \"title\": \"\", \"titlefont\": {\"color\": \"rgb(180,180,180)\"}, \"type\": \"category\"}}, {\"showLink\": true, \"linkText\": \"Export to plot.ly\"})});</script>"
      ],
      "text/vnd.plotly.v1+html": [
       "<div id=\"a452a21d-5a4f-47c4-9aa9-fce7e59d53a9\" style=\"height: 525px; width: 100%;\" class=\"plotly-graph-div\"></div><script type=\"text/javascript\">require([\"plotly\"], function(Plotly) { window.PLOTLYENV=window.PLOTLYENV || {};window.PLOTLYENV.BASE_URL=\"https://plot.ly\";Plotly.newPlot(\"a452a21d-5a4f-47c4-9aa9-fce7e59d53a9\", [{\"marker\": {\"color\": \"rgb(0,0,255)\", \"line\": {\"width\": 0}, \"size\": [0, 0, 0, 1, 0, 0, 1, 0, 0, 1], \"sizemode\": \"area\", \"sizeref\": 0.01, \"symbol\": \"circle\"}, \"mode\": \"markers\", \"name\": \"ALMIRA\", \"x\": [\"ALMIRA\", \"ALMIRA\", \"ALMIRA\", \"ALMIRA\", \"ALMIRA\", \"ALMIRA\", \"ALMIRA\", \"ALMIRA\", \"ALMIRA\", \"ALMIRA\", \"ALMIRA\"], \"y\": [\"Assign1\", \"Assign2\", \"Assign3\", \"Assign4\", \"Assign5\", \"Assign6\", \"Assign7\", \"Assign8\", \"Assign9\", \"Assign10\"], \"type\": \"scatter\", \"uid\": \"c49c83ec-fae4-11e8-b19a-e35ea5c620f6\"}, {\"marker\": {\"color\": \"rgb(0,0,255)\", \"line\": {\"width\": 0}, \"size\": [0, 1, 0, 1, 1, 0, 0, 0, 1, 0], \"sizemode\": \"area\", \"sizeref\": 0.01, \"symbol\": \"circle\"}, \"mode\": \"markers\", \"name\": \"ANAZIRA\", \"x\": [\"ANAZIRA\", \"ANAZIRA\", \"ANAZIRA\", \"ANAZIRA\", \"ANAZIRA\", \"ANAZIRA\", \"ANAZIRA\", \"ANAZIRA\", \"ANAZIRA\", \"ANAZIRA\", \"ANAZIRA\"], \"y\": [\"Assign1\", \"Assign2\", \"Assign3\", \"Assign4\", \"Assign5\", \"Assign6\", \"Assign7\", \"Assign8\", \"Assign9\", \"Assign10\"], \"type\": \"scatter\", \"uid\": \"c49c85a4-fae4-11e8-b19a-e35ea5c620f6\"}, {\"marker\": {\"color\": \"rgb(0,0,255)\", \"line\": {\"width\": 0}, \"size\": [1, 1, 0, 0, 1, 1, 0, 0, 0, 1], \"sizemode\": \"area\", \"sizeref\": 0.01, \"symbol\": \"circle\"}, \"mode\": \"markers\", \"name\": \"DAFINE\", \"x\": [\"DAFINE\", \"DAFINE\", \"DAFINE\", \"DAFINE\", \"DAFINE\", \"DAFINE\", \"DAFINE\", \"DAFINE\", \"DAFINE\", \"DAFINE\", \"DAFINE\"], \"y\": [\"Assign1\", \"Assign2\", \"Assign3\", \"Assign4\", \"Assign5\", \"Assign6\", \"Assign7\", \"Assign8\", \"Assign9\", \"Assign10\"], \"type\": \"scatter\", \"uid\": \"c49c866c-fae4-11e8-b19a-e35ea5c620f6\"}, {\"marker\": {\"color\": \"rgb(0,0,255)\", \"line\": {\"width\": 0}, \"size\": [1, 0, 1, 0, 0, 0, 0, 1, 1, 0], \"sizemode\": \"area\", \"sizeref\": 0.01, \"symbol\": \"circle\"}, \"mode\": \"markers\", \"name\": \"DILZA\", \"x\": [\"DILZA\", \"DILZA\", \"DILZA\", \"DILZA\", \"DILZA\", \"DILZA\", \"DILZA\", \"DILZA\", \"DILZA\", \"DILZA\", \"DILZA\"], \"y\": [\"Assign1\", \"Assign2\", \"Assign3\", \"Assign4\", \"Assign5\", \"Assign6\", \"Assign7\", \"Assign8\", \"Assign9\", \"Assign10\"], \"type\": \"scatter\", \"uid\": \"c49c870c-fae4-11e8-b19a-e35ea5c620f6\"}, {\"marker\": {\"color\": \"rgb(0,0,255)\", \"line\": {\"width\": 0}, \"size\": [1, 0, 0, 1, 0, 1, 0, 0, 0, 0], \"sizemode\": \"area\", \"sizeref\": 0.01, \"symbol\": \"circle\"}, \"mode\": \"markers\", \"name\": \"ELIDO\", \"x\": [\"ELIDO\", \"ELIDO\", \"ELIDO\", \"ELIDO\", \"ELIDO\", \"ELIDO\", \"ELIDO\", \"ELIDO\", \"ELIDO\", \"ELIDO\", \"ELIDO\"], \"y\": [\"Assign1\", \"Assign2\", \"Assign3\", \"Assign4\", \"Assign5\", \"Assign6\", \"Assign7\", \"Assign8\", \"Assign9\", \"Assign10\"], \"type\": \"scatter\", \"uid\": \"c49c87a2-fae4-11e8-b19a-e35ea5c620f6\"}, {\"marker\": {\"color\": \"rgb(0,0,255)\", \"line\": {\"width\": 0}, \"size\": [0, 1, 1, 0, 0, 0, 1, 1, 0, 0], \"sizemode\": \"area\", \"sizeref\": 0.01, \"symbol\": \"circle\"}, \"mode\": \"markers\", \"name\": \"ERILIO\", \"x\": [\"ERILIO\", \"ERILIO\", \"ERILIO\", \"ERILIO\", \"ERILIO\", \"ERILIO\", \"ERILIO\", \"ERILIO\", \"ERILIO\", \"ERILIO\", \"ERILIO\"], \"y\": [\"Assign1\", \"Assign2\", \"Assign3\", \"Assign4\", \"Assign5\", \"Assign6\", \"Assign7\", \"Assign8\", \"Assign9\", \"Assign10\"], \"type\": \"scatter\", \"uid\": \"c49c882e-fae4-11e8-b19a-e35ea5c620f6\"}, {\"marker\": {\"color\": \"rgb(0,0,255)\", \"line\": {\"width\": 0}, \"size\": [0, 1, 0, 1, 1, 1, 0, 0, 0, 1], \"sizemode\": \"area\", \"sizeref\": 0.01, \"symbol\": \"circle\"}, \"mode\": \"markers\", \"name\": \"GIUSEPPE\", \"x\": [\"GIUSEPPE\", \"GIUSEPPE\", \"GIUSEPPE\", \"GIUSEPPE\", \"GIUSEPPE\", \"GIUSEPPE\", \"GIUSEPPE\", \"GIUSEPPE\", \"GIUSEPPE\", \"GIUSEPPE\", \"GIUSEPPE\"], \"y\": [\"Assign1\", \"Assign2\", \"Assign3\", \"Assign4\", \"Assign5\", \"Assign6\", \"Assign7\", \"Assign8\", \"Assign9\", \"Assign10\"], \"type\": \"scatter\", \"uid\": \"c49c88ba-fae4-11e8-b19a-e35ea5c620f6\"}, {\"marker\": {\"color\": \"rgb(0,0,255)\", \"line\": {\"width\": 0}, \"size\": [1, 1, 0, 0, 0, 0, 1, 1, 1, 1], \"sizemode\": \"area\", \"sizeref\": 0.01, \"symbol\": \"circle\"}, \"mode\": \"markers\", \"name\": \"IDELMARIA\", \"x\": [\"IDELMARIA\", \"IDELMARIA\", \"IDELMARIA\", \"IDELMARIA\", \"IDELMARIA\", \"IDELMARIA\", \"IDELMARIA\", \"IDELMARIA\", \"IDELMARIA\", \"IDELMARIA\", \"IDELMARIA\"], \"y\": [\"Assign1\", \"Assign2\", \"Assign3\", \"Assign4\", \"Assign5\", \"Assign6\", \"Assign7\", \"Assign8\", \"Assign9\", \"Assign10\"], \"type\": \"scatter\", \"uid\": \"c49c893c-fae4-11e8-b19a-e35ea5c620f6\"}, {\"marker\": {\"color\": \"rgb(0,0,255)\", \"line\": {\"width\": 0}, \"size\": [1, 1, 1, 0, 0, 0, 0, 1, 0, 1], \"sizemode\": \"area\", \"sizeref\": 0.01, \"symbol\": \"circle\"}, \"mode\": \"markers\", \"name\": \"ISABELI\", \"x\": [\"ISABELI\", \"ISABELI\", \"ISABELI\", \"ISABELI\", \"ISABELI\", \"ISABELI\", \"ISABELI\", \"ISABELI\", \"ISABELI\", \"ISABELI\", \"ISABELI\"], \"y\": [\"Assign1\", \"Assign2\", \"Assign3\", \"Assign4\", \"Assign5\", \"Assign6\", \"Assign7\", \"Assign8\", \"Assign9\", \"Assign10\"], \"type\": \"scatter\", \"uid\": \"c49c89c8-fae4-11e8-b19a-e35ea5c620f6\"}, {\"marker\": {\"color\": \"rgb(0,0,255)\", \"line\": {\"width\": 0}, \"size\": [0, 0, 0, 0, 1, 0, 1, 1, 1, 0], \"sizemode\": \"area\", \"sizeref\": 0.01, \"symbol\": \"circle\"}, \"mode\": \"markers\", \"name\": \"IZILDA\", \"x\": [\"IZILDA\", \"IZILDA\", \"IZILDA\", \"IZILDA\", \"IZILDA\", \"IZILDA\", \"IZILDA\", \"IZILDA\", \"IZILDA\", \"IZILDA\", \"IZILDA\"], \"y\": [\"Assign1\", \"Assign2\", \"Assign3\", \"Assign4\", \"Assign5\", \"Assign6\", \"Assign7\", \"Assign8\", \"Assign9\", \"Assign10\"], \"type\": \"scatter\", \"uid\": \"c49c8a4a-fae4-11e8-b19a-e35ea5c620f6\"}, {\"marker\": {\"color\": \"rgb(0,0,255)\", \"line\": {\"width\": 0}, \"size\": [1, 1, 0, 0, 1, 0, 1, 1, 0, 0], \"sizemode\": \"area\", \"sizeref\": 0.01, \"symbol\": \"circle\"}, \"mode\": \"markers\", \"name\": \"JOCIQUELE\", \"x\": [\"JOCIQUELE\", \"JOCIQUELE\", \"JOCIQUELE\", \"JOCIQUELE\", \"JOCIQUELE\", \"JOCIQUELE\", \"JOCIQUELE\", \"JOCIQUELE\", \"JOCIQUELE\", \"JOCIQUELE\", \"JOCIQUELE\"], \"y\": [\"Assign1\", \"Assign2\", \"Assign3\", \"Assign4\", \"Assign5\", \"Assign6\", \"Assign7\", \"Assign8\", \"Assign9\", \"Assign10\"], \"type\": \"scatter\", \"uid\": \"c49c8ac2-fae4-11e8-b19a-e35ea5c620f6\"}, {\"marker\": {\"color\": \"rgb(0,0,255)\", \"line\": {\"width\": 0}, \"size\": [0, 1, 1, 1, 0, 0, 0, 0, 0, 0], \"sizemode\": \"area\", \"sizeref\": 0.01, \"symbol\": \"circle\"}, \"mode\": \"markers\", \"name\": \"KARIANY\", \"x\": [\"KARIANY\", \"KARIANY\", \"KARIANY\", \"KARIANY\", \"KARIANY\", \"KARIANY\", \"KARIANY\", \"KARIANY\", \"KARIANY\", \"KARIANY\", \"KARIANY\"], \"y\": [\"Assign1\", \"Assign2\", \"Assign3\", \"Assign4\", \"Assign5\", \"Assign6\", \"Assign7\", \"Assign8\", \"Assign9\", \"Assign10\"], \"type\": \"scatter\", \"uid\": \"c49c8b44-fae4-11e8-b19a-e35ea5c620f6\"}, {\"marker\": {\"color\": \"rgb(0,0,255)\", \"line\": {\"width\": 0}, \"size\": [0, 0, 0, 1, 0, 0, 1, 0, 1, 0], \"sizemode\": \"area\", \"sizeref\": 0.01, \"symbol\": \"circle\"}, \"mode\": \"markers\", \"name\": \"MESSODY\", \"x\": [\"MESSODY\", \"MESSODY\", \"MESSODY\", \"MESSODY\", \"MESSODY\", \"MESSODY\", \"MESSODY\", \"MESSODY\", \"MESSODY\", \"MESSODY\", \"MESSODY\"], \"y\": [\"Assign1\", \"Assign2\", \"Assign3\", \"Assign4\", \"Assign5\", \"Assign6\", \"Assign7\", \"Assign8\", \"Assign9\", \"Assign10\"], \"type\": \"scatter\", \"uid\": \"c49c8bc6-fae4-11e8-b19a-e35ea5c620f6\"}, {\"marker\": {\"color\": \"rgb(0,0,255)\", \"line\": {\"width\": 0}, \"size\": [0, 0, 0, 0, 0, 0, 1, 0, 1, 0], \"sizemode\": \"area\", \"sizeref\": 0.01, \"symbol\": \"circle\"}, \"mode\": \"markers\", \"name\": \"NARIELE\", \"x\": [\"NARIELE\", \"NARIELE\", \"NARIELE\", \"NARIELE\", \"NARIELE\", \"NARIELE\", \"NARIELE\", \"NARIELE\", \"NARIELE\", \"NARIELE\", \"NARIELE\"], \"y\": [\"Assign1\", \"Assign2\", \"Assign3\", \"Assign4\", \"Assign5\", \"Assign6\", \"Assign7\", \"Assign8\", \"Assign9\", \"Assign10\"], \"type\": \"scatter\", \"uid\": \"c49c8c48-fae4-11e8-b19a-e35ea5c620f6\"}, {\"marker\": {\"color\": \"rgb(0,0,255)\", \"line\": {\"width\": 0}, \"size\": [1, 0, 1, 1, 0, 1, 0, 0, 0, 1], \"sizemode\": \"area\", \"sizeref\": 0.01, \"symbol\": \"circle\"}, \"mode\": \"markers\", \"name\": \"OTO\", \"x\": [\"OTO\", \"OTO\", \"OTO\", \"OTO\", \"OTO\", \"OTO\", \"OTO\", \"OTO\", \"OTO\", \"OTO\", \"OTO\"], \"y\": [\"Assign1\", \"Assign2\", \"Assign3\", \"Assign4\", \"Assign5\", \"Assign6\", \"Assign7\", \"Assign8\", \"Assign9\", \"Assign10\"], \"type\": \"scatter\", \"uid\": \"c49c8cc0-fae4-11e8-b19a-e35ea5c620f6\"}, {\"marker\": {\"color\": \"rgb(0,0,255)\", \"line\": {\"width\": 0}, \"size\": [0, 1, 0, 1, 0, 1, 0, 0, 1, 0], \"sizemode\": \"area\", \"sizeref\": 0.01, \"symbol\": \"circle\"}, \"mode\": \"markers\", \"name\": \"ROSALHA\", \"x\": [\"ROSALHA\", \"ROSALHA\", \"ROSALHA\", \"ROSALHA\", \"ROSALHA\", \"ROSALHA\", \"ROSALHA\", \"ROSALHA\", \"ROSALHA\", \"ROSALHA\", \"ROSALHA\"], \"y\": [\"Assign1\", \"Assign2\", \"Assign3\", \"Assign4\", \"Assign5\", \"Assign6\", \"Assign7\", \"Assign8\", \"Assign9\", \"Assign10\"], \"type\": \"scatter\", \"uid\": \"c49c8d42-fae4-11e8-b19a-e35ea5c620f6\"}, {\"marker\": {\"color\": \"rgb(0,0,255)\", \"line\": {\"width\": 0}, \"size\": [0, 0, 1, 0, 1, 0, 1, 1, 0, 0], \"sizemode\": \"area\", \"sizeref\": 0.01, \"symbol\": \"circle\"}, \"mode\": \"markers\", \"name\": \"SELESTRINO\", \"x\": [\"SELESTRINO\", \"SELESTRINO\", \"SELESTRINO\", \"SELESTRINO\", \"SELESTRINO\", \"SELESTRINO\", \"SELESTRINO\", \"SELESTRINO\", \"SELESTRINO\", \"SELESTRINO\", \"SELESTRINO\"], \"y\": [\"Assign1\", \"Assign2\", \"Assign3\", \"Assign4\", \"Assign5\", \"Assign6\", \"Assign7\", \"Assign8\", \"Assign9\", \"Assign10\"], \"type\": \"scatter\", \"uid\": \"c49c8dba-fae4-11e8-b19a-e35ea5c620f6\"}, {\"marker\": {\"color\": \"rgb(0,0,255)\", \"line\": {\"width\": 0}, \"size\": [1, 0, 0, 1, 0, 0, 1, 0, 0, 0], \"sizemode\": \"area\", \"sizeref\": 0.01, \"symbol\": \"circle\"}, \"mode\": \"markers\", \"name\": \"TIARA\", \"x\": [\"TIARA\", \"TIARA\", \"TIARA\", \"TIARA\", \"TIARA\", \"TIARA\", \"TIARA\", \"TIARA\", \"TIARA\", \"TIARA\", \"TIARA\"], \"y\": [\"Assign1\", \"Assign2\", \"Assign3\", \"Assign4\", \"Assign5\", \"Assign6\", \"Assign7\", \"Assign8\", \"Assign9\", \"Assign10\"], \"type\": \"scatter\", \"uid\": \"c49c8e3c-fae4-11e8-b19a-e35ea5c620f6\"}, {\"marker\": {\"color\": \"rgb(0,0,255)\", \"line\": {\"width\": 0}, \"size\": [1, 1, 1, 1, 0, 1, 0, 1, 1, 0], \"sizemode\": \"area\", \"sizeref\": 0.01, \"symbol\": \"circle\"}, \"mode\": \"markers\", \"name\": \"UDILSON\", \"x\": [\"UDILSON\", \"UDILSON\", \"UDILSON\", \"UDILSON\", \"UDILSON\", \"UDILSON\", \"UDILSON\", \"UDILSON\", \"UDILSON\", \"UDILSON\", \"UDILSON\"], \"y\": [\"Assign1\", \"Assign2\", \"Assign3\", \"Assign4\", \"Assign5\", \"Assign6\", \"Assign7\", \"Assign8\", \"Assign9\", \"Assign10\"], \"type\": \"scatter\", \"uid\": \"c49c8eb4-fae4-11e8-b19a-e35ea5c620f6\"}, {\"marker\": {\"color\": \"rgb(0,0,255)\", \"line\": {\"width\": 0}, \"size\": [0, 0, 1, 0, 0, 0, 1, 0, 1, 0], \"sizemode\": \"area\", \"sizeref\": 0.01, \"symbol\": \"circle\"}, \"mode\": \"markers\", \"name\": \"URSULLA\", \"x\": [\"URSULLA\", \"URSULLA\", \"URSULLA\", \"URSULLA\", \"URSULLA\", \"URSULLA\", \"URSULLA\", \"URSULLA\", \"URSULLA\", \"URSULLA\", \"URSULLA\"], \"y\": [\"Assign1\", \"Assign2\", \"Assign3\", \"Assign4\", \"Assign5\", \"Assign6\", \"Assign7\", \"Assign8\", \"Assign9\", \"Assign10\"], \"type\": \"scatter\", \"uid\": \"c49c8f2c-fae4-11e8-b19a-e35ea5c620f6\"}], {\"hovermode\": \"closest\", \"showlegend\": false, \"title\": \"Atividades feitas por estudante\", \"xaxis\": {\"autorange\": false, \"fixedrange\": false, \"range\": [-1, 20], \"rangemode\": \"normal\", \"showline\": true, \"title\": \"\", \"titlefont\": {\"color\": \"rgb(180,180,180)\"}, \"type\": \"category\"}, \"yaxis\": {\"autorange\": false, \"fixedrange\": false, \"range\": [-1, 10], \"rangemode\": \"normal\", \"showline\": true, \"title\": \"\", \"titlefont\": {\"color\": \"rgb(180,180,180)\"}, \"type\": \"category\"}}, {\"showLink\": true, \"linkText\": \"Export to plot.ly\"})});</script>"
      ]
     },
     "metadata": {},
     "output_type": "display_data"
    },
    {
     "data": {
      "application/vnd.plotly.v1+json": {
       "data": [
        {
         "marker": {
          "color": "rgb(255,126,24)",
          "line": {
           "width": 0
          },
          "size": [
           1,
           1,
           1,
           0,
           1,
           1,
           0,
           1,
           1,
           0
          ],
          "sizemode": "area",
          "sizeref": 0.01,
          "symbol": "circle"
         },
         "mode": "markers",
         "name": "ALMIRA",
         "type": "scatter",
         "uid": "c4b14692-fae4-11e8-b19a-e35ea5c620f6",
         "x": [
          "ALMIRA",
          "ALMIRA",
          "ALMIRA",
          "ALMIRA",
          "ALMIRA",
          "ALMIRA",
          "ALMIRA",
          "ALMIRA",
          "ALMIRA",
          "ALMIRA",
          "ALMIRA"
         ],
         "y": [
          "Assign1",
          "Assign2",
          "Assign3",
          "Assign4",
          "Assign5",
          "Assign6",
          "Assign7",
          "Assign8",
          "Assign9",
          "Assign10"
         ]
        },
        {
         "marker": {
          "color": "rgb(255,126,24)",
          "line": {
           "width": 0
          },
          "size": [
           1,
           0,
           1,
           0,
           0,
           1,
           1,
           1,
           0,
           1
          ],
          "sizemode": "area",
          "sizeref": 0.01,
          "symbol": "circle"
         },
         "mode": "markers",
         "name": "ANAZIRA",
         "type": "scatter",
         "uid": "c4b1482c-fae4-11e8-b19a-e35ea5c620f6",
         "x": [
          "ANAZIRA",
          "ANAZIRA",
          "ANAZIRA",
          "ANAZIRA",
          "ANAZIRA",
          "ANAZIRA",
          "ANAZIRA",
          "ANAZIRA",
          "ANAZIRA",
          "ANAZIRA",
          "ANAZIRA"
         ],
         "y": [
          "Assign1",
          "Assign2",
          "Assign3",
          "Assign4",
          "Assign5",
          "Assign6",
          "Assign7",
          "Assign8",
          "Assign9",
          "Assign10"
         ]
        },
        {
         "marker": {
          "color": "rgb(255,126,24)",
          "line": {
           "width": 0
          },
          "size": [
           0,
           0,
           1,
           1,
           0,
           0,
           1,
           1,
           1,
           0
          ],
          "sizemode": "area",
          "sizeref": 0.01,
          "symbol": "circle"
         },
         "mode": "markers",
         "name": "DAFINE",
         "type": "scatter",
         "uid": "c4b148e0-fae4-11e8-b19a-e35ea5c620f6",
         "x": [
          "DAFINE",
          "DAFINE",
          "DAFINE",
          "DAFINE",
          "DAFINE",
          "DAFINE",
          "DAFINE",
          "DAFINE",
          "DAFINE",
          "DAFINE",
          "DAFINE"
         ],
         "y": [
          "Assign1",
          "Assign2",
          "Assign3",
          "Assign4",
          "Assign5",
          "Assign6",
          "Assign7",
          "Assign8",
          "Assign9",
          "Assign10"
         ]
        },
        {
         "marker": {
          "color": "rgb(255,126,24)",
          "line": {
           "width": 0
          },
          "size": [
           0,
           1,
           0,
           1,
           1,
           1,
           1,
           0,
           0,
           1
          ],
          "sizemode": "area",
          "sizeref": 0.01,
          "symbol": "circle"
         },
         "mode": "markers",
         "name": "DILZA",
         "type": "scatter",
         "uid": "c4b14976-fae4-11e8-b19a-e35ea5c620f6",
         "x": [
          "DILZA",
          "DILZA",
          "DILZA",
          "DILZA",
          "DILZA",
          "DILZA",
          "DILZA",
          "DILZA",
          "DILZA",
          "DILZA",
          "DILZA"
         ],
         "y": [
          "Assign1",
          "Assign2",
          "Assign3",
          "Assign4",
          "Assign5",
          "Assign6",
          "Assign7",
          "Assign8",
          "Assign9",
          "Assign10"
         ]
        },
        {
         "marker": {
          "color": "rgb(255,126,24)",
          "line": {
           "width": 0
          },
          "size": [
           0,
           1,
           1,
           0,
           1,
           0,
           1,
           1,
           1,
           1
          ],
          "sizemode": "area",
          "sizeref": 0.01,
          "symbol": "circle"
         },
         "mode": "markers",
         "name": "ELIDO",
         "type": "scatter",
         "uid": "c4b14a02-fae4-11e8-b19a-e35ea5c620f6",
         "x": [
          "ELIDO",
          "ELIDO",
          "ELIDO",
          "ELIDO",
          "ELIDO",
          "ELIDO",
          "ELIDO",
          "ELIDO",
          "ELIDO",
          "ELIDO",
          "ELIDO"
         ],
         "y": [
          "Assign1",
          "Assign2",
          "Assign3",
          "Assign4",
          "Assign5",
          "Assign6",
          "Assign7",
          "Assign8",
          "Assign9",
          "Assign10"
         ]
        },
        {
         "marker": {
          "color": "rgb(255,126,24)",
          "line": {
           "width": 0
          },
          "size": [
           1,
           0,
           0,
           1,
           1,
           1,
           0,
           0,
           1,
           1
          ],
          "sizemode": "area",
          "sizeref": 0.01,
          "symbol": "circle"
         },
         "mode": "markers",
         "name": "ERILIO",
         "type": "scatter",
         "uid": "c4b14a84-fae4-11e8-b19a-e35ea5c620f6",
         "x": [
          "ERILIO",
          "ERILIO",
          "ERILIO",
          "ERILIO",
          "ERILIO",
          "ERILIO",
          "ERILIO",
          "ERILIO",
          "ERILIO",
          "ERILIO",
          "ERILIO"
         ],
         "y": [
          "Assign1",
          "Assign2",
          "Assign3",
          "Assign4",
          "Assign5",
          "Assign6",
          "Assign7",
          "Assign8",
          "Assign9",
          "Assign10"
         ]
        },
        {
         "marker": {
          "color": "rgb(255,126,24)",
          "line": {
           "width": 0
          },
          "size": [
           1,
           0,
           1,
           0,
           0,
           0,
           1,
           1,
           1,
           0
          ],
          "sizemode": "area",
          "sizeref": 0.01,
          "symbol": "circle"
         },
         "mode": "markers",
         "name": "GIUSEPPE",
         "type": "scatter",
         "uid": "c4b14afc-fae4-11e8-b19a-e35ea5c620f6",
         "x": [
          "GIUSEPPE",
          "GIUSEPPE",
          "GIUSEPPE",
          "GIUSEPPE",
          "GIUSEPPE",
          "GIUSEPPE",
          "GIUSEPPE",
          "GIUSEPPE",
          "GIUSEPPE",
          "GIUSEPPE",
          "GIUSEPPE"
         ],
         "y": [
          "Assign1",
          "Assign2",
          "Assign3",
          "Assign4",
          "Assign5",
          "Assign6",
          "Assign7",
          "Assign8",
          "Assign9",
          "Assign10"
         ]
        },
        {
         "marker": {
          "color": "rgb(255,126,24)",
          "line": {
           "width": 0
          },
          "size": [
           0,
           0,
           1,
           1,
           1,
           1,
           0,
           0,
           0,
           0
          ],
          "sizemode": "area",
          "sizeref": 0.01,
          "symbol": "circle"
         },
         "mode": "markers",
         "name": "IDELMARIA",
         "type": "scatter",
         "uid": "c4b14b74-fae4-11e8-b19a-e35ea5c620f6",
         "x": [
          "IDELMARIA",
          "IDELMARIA",
          "IDELMARIA",
          "IDELMARIA",
          "IDELMARIA",
          "IDELMARIA",
          "IDELMARIA",
          "IDELMARIA",
          "IDELMARIA",
          "IDELMARIA",
          "IDELMARIA"
         ],
         "y": [
          "Assign1",
          "Assign2",
          "Assign3",
          "Assign4",
          "Assign5",
          "Assign6",
          "Assign7",
          "Assign8",
          "Assign9",
          "Assign10"
         ]
        },
        {
         "marker": {
          "color": "rgb(255,126,24)",
          "line": {
           "width": 0
          },
          "size": [
           0,
           0,
           0,
           1,
           1,
           1,
           1,
           0,
           1,
           0
          ],
          "sizemode": "area",
          "sizeref": 0.01,
          "symbol": "circle"
         },
         "mode": "markers",
         "name": "ISABELI",
         "type": "scatter",
         "uid": "c4b14bf6-fae4-11e8-b19a-e35ea5c620f6",
         "x": [
          "ISABELI",
          "ISABELI",
          "ISABELI",
          "ISABELI",
          "ISABELI",
          "ISABELI",
          "ISABELI",
          "ISABELI",
          "ISABELI",
          "ISABELI",
          "ISABELI"
         ],
         "y": [
          "Assign1",
          "Assign2",
          "Assign3",
          "Assign4",
          "Assign5",
          "Assign6",
          "Assign7",
          "Assign8",
          "Assign9",
          "Assign10"
         ]
        },
        {
         "marker": {
          "color": "rgb(255,126,24)",
          "line": {
           "width": 0
          },
          "size": [
           1,
           1,
           1,
           1,
           0,
           1,
           0,
           0,
           0,
           1
          ],
          "sizemode": "area",
          "sizeref": 0.01,
          "symbol": "circle"
         },
         "mode": "markers",
         "name": "IZILDA",
         "type": "scatter",
         "uid": "c4b14c6e-fae4-11e8-b19a-e35ea5c620f6",
         "x": [
          "IZILDA",
          "IZILDA",
          "IZILDA",
          "IZILDA",
          "IZILDA",
          "IZILDA",
          "IZILDA",
          "IZILDA",
          "IZILDA",
          "IZILDA",
          "IZILDA"
         ],
         "y": [
          "Assign1",
          "Assign2",
          "Assign3",
          "Assign4",
          "Assign5",
          "Assign6",
          "Assign7",
          "Assign8",
          "Assign9",
          "Assign10"
         ]
        },
        {
         "marker": {
          "color": "rgb(255,126,24)",
          "line": {
           "width": 0
          },
          "size": [
           0,
           0,
           1,
           1,
           0,
           1,
           0,
           0,
           1,
           1
          ],
          "sizemode": "area",
          "sizeref": 0.01,
          "symbol": "circle"
         },
         "mode": "markers",
         "name": "JOCIQUELE",
         "type": "scatter",
         "uid": "c4b14cdc-fae4-11e8-b19a-e35ea5c620f6",
         "x": [
          "JOCIQUELE",
          "JOCIQUELE",
          "JOCIQUELE",
          "JOCIQUELE",
          "JOCIQUELE",
          "JOCIQUELE",
          "JOCIQUELE",
          "JOCIQUELE",
          "JOCIQUELE",
          "JOCIQUELE",
          "JOCIQUELE"
         ],
         "y": [
          "Assign1",
          "Assign2",
          "Assign3",
          "Assign4",
          "Assign5",
          "Assign6",
          "Assign7",
          "Assign8",
          "Assign9",
          "Assign10"
         ]
        },
        {
         "marker": {
          "color": "rgb(255,126,24)",
          "line": {
           "width": 0
          },
          "size": [
           1,
           0,
           0,
           0,
           1,
           1,
           1,
           1,
           1,
           1
          ],
          "sizemode": "area",
          "sizeref": 0.01,
          "symbol": "circle"
         },
         "mode": "markers",
         "name": "KARIANY",
         "type": "scatter",
         "uid": "c4b14d5e-fae4-11e8-b19a-e35ea5c620f6",
         "x": [
          "KARIANY",
          "KARIANY",
          "KARIANY",
          "KARIANY",
          "KARIANY",
          "KARIANY",
          "KARIANY",
          "KARIANY",
          "KARIANY",
          "KARIANY",
          "KARIANY"
         ],
         "y": [
          "Assign1",
          "Assign2",
          "Assign3",
          "Assign4",
          "Assign5",
          "Assign6",
          "Assign7",
          "Assign8",
          "Assign9",
          "Assign10"
         ]
        },
        {
         "marker": {
          "color": "rgb(255,126,24)",
          "line": {
           "width": 0
          },
          "size": [
           1,
           1,
           1,
           0,
           1,
           1,
           0,
           1,
           0,
           1
          ],
          "sizemode": "area",
          "sizeref": 0.01,
          "symbol": "circle"
         },
         "mode": "markers",
         "name": "MESSODY",
         "type": "scatter",
         "uid": "c4b14dd6-fae4-11e8-b19a-e35ea5c620f6",
         "x": [
          "MESSODY",
          "MESSODY",
          "MESSODY",
          "MESSODY",
          "MESSODY",
          "MESSODY",
          "MESSODY",
          "MESSODY",
          "MESSODY",
          "MESSODY",
          "MESSODY"
         ],
         "y": [
          "Assign1",
          "Assign2",
          "Assign3",
          "Assign4",
          "Assign5",
          "Assign6",
          "Assign7",
          "Assign8",
          "Assign9",
          "Assign10"
         ]
        },
        {
         "marker": {
          "color": "rgb(255,126,24)",
          "line": {
           "width": 0
          },
          "size": [
           1,
           1,
           1,
           1,
           1,
           1,
           0,
           1,
           0,
           1
          ],
          "sizemode": "area",
          "sizeref": 0.01,
          "symbol": "circle"
         },
         "mode": "markers",
         "name": "NARIELE",
         "type": "scatter",
         "uid": "c4b14e4e-fae4-11e8-b19a-e35ea5c620f6",
         "x": [
          "NARIELE",
          "NARIELE",
          "NARIELE",
          "NARIELE",
          "NARIELE",
          "NARIELE",
          "NARIELE",
          "NARIELE",
          "NARIELE",
          "NARIELE",
          "NARIELE"
         ],
         "y": [
          "Assign1",
          "Assign2",
          "Assign3",
          "Assign4",
          "Assign5",
          "Assign6",
          "Assign7",
          "Assign8",
          "Assign9",
          "Assign10"
         ]
        },
        {
         "marker": {
          "color": "rgb(255,126,24)",
          "line": {
           "width": 0
          },
          "size": [
           0,
           1,
           0,
           0,
           1,
           0,
           1,
           1,
           1,
           0
          ],
          "sizemode": "area",
          "sizeref": 0.01,
          "symbol": "circle"
         },
         "mode": "markers",
         "name": "OTO",
         "type": "scatter",
         "uid": "c4b14ec6-fae4-11e8-b19a-e35ea5c620f6",
         "x": [
          "OTO",
          "OTO",
          "OTO",
          "OTO",
          "OTO",
          "OTO",
          "OTO",
          "OTO",
          "OTO",
          "OTO",
          "OTO"
         ],
         "y": [
          "Assign1",
          "Assign2",
          "Assign3",
          "Assign4",
          "Assign5",
          "Assign6",
          "Assign7",
          "Assign8",
          "Assign9",
          "Assign10"
         ]
        },
        {
         "marker": {
          "color": "rgb(255,126,24)",
          "line": {
           "width": 0
          },
          "size": [
           1,
           0,
           1,
           0,
           1,
           0,
           1,
           1,
           0,
           1
          ],
          "sizemode": "area",
          "sizeref": 0.01,
          "symbol": "circle"
         },
         "mode": "markers",
         "name": "ROSALHA",
         "type": "scatter",
         "uid": "c4b14f3e-fae4-11e8-b19a-e35ea5c620f6",
         "x": [
          "ROSALHA",
          "ROSALHA",
          "ROSALHA",
          "ROSALHA",
          "ROSALHA",
          "ROSALHA",
          "ROSALHA",
          "ROSALHA",
          "ROSALHA",
          "ROSALHA",
          "ROSALHA"
         ],
         "y": [
          "Assign1",
          "Assign2",
          "Assign3",
          "Assign4",
          "Assign5",
          "Assign6",
          "Assign7",
          "Assign8",
          "Assign9",
          "Assign10"
         ]
        },
        {
         "marker": {
          "color": "rgb(255,126,24)",
          "line": {
           "width": 0
          },
          "size": [
           1,
           1,
           0,
           1,
           0,
           1,
           0,
           0,
           1,
           1
          ],
          "sizemode": "area",
          "sizeref": 0.01,
          "symbol": "circle"
         },
         "mode": "markers",
         "name": "SELESTRINO",
         "type": "scatter",
         "uid": "c4b14fb6-fae4-11e8-b19a-e35ea5c620f6",
         "x": [
          "SELESTRINO",
          "SELESTRINO",
          "SELESTRINO",
          "SELESTRINO",
          "SELESTRINO",
          "SELESTRINO",
          "SELESTRINO",
          "SELESTRINO",
          "SELESTRINO",
          "SELESTRINO",
          "SELESTRINO"
         ],
         "y": [
          "Assign1",
          "Assign2",
          "Assign3",
          "Assign4",
          "Assign5",
          "Assign6",
          "Assign7",
          "Assign8",
          "Assign9",
          "Assign10"
         ]
        },
        {
         "marker": {
          "color": "rgb(255,126,24)",
          "line": {
           "width": 0
          },
          "size": [
           0,
           1,
           1,
           0,
           1,
           1,
           0,
           1,
           1,
           1
          ],
          "sizemode": "area",
          "sizeref": 0.01,
          "symbol": "circle"
         },
         "mode": "markers",
         "name": "TIARA",
         "type": "scatter",
         "uid": "c4b1502e-fae4-11e8-b19a-e35ea5c620f6",
         "x": [
          "TIARA",
          "TIARA",
          "TIARA",
          "TIARA",
          "TIARA",
          "TIARA",
          "TIARA",
          "TIARA",
          "TIARA",
          "TIARA",
          "TIARA"
         ],
         "y": [
          "Assign1",
          "Assign2",
          "Assign3",
          "Assign4",
          "Assign5",
          "Assign6",
          "Assign7",
          "Assign8",
          "Assign9",
          "Assign10"
         ]
        },
        {
         "marker": {
          "color": "rgb(255,126,24)",
          "line": {
           "width": 0
          },
          "size": [
           0,
           0,
           0,
           0,
           1,
           0,
           1,
           0,
           0,
           1
          ],
          "sizemode": "area",
          "sizeref": 0.01,
          "symbol": "circle"
         },
         "mode": "markers",
         "name": "UDILSON",
         "type": "scatter",
         "uid": "c4b1509c-fae4-11e8-b19a-e35ea5c620f6",
         "x": [
          "UDILSON",
          "UDILSON",
          "UDILSON",
          "UDILSON",
          "UDILSON",
          "UDILSON",
          "UDILSON",
          "UDILSON",
          "UDILSON",
          "UDILSON",
          "UDILSON"
         ],
         "y": [
          "Assign1",
          "Assign2",
          "Assign3",
          "Assign4",
          "Assign5",
          "Assign6",
          "Assign7",
          "Assign8",
          "Assign9",
          "Assign10"
         ]
        },
        {
         "marker": {
          "color": "rgb(255,126,24)",
          "line": {
           "width": 0
          },
          "size": [
           1,
           1,
           0,
           1,
           1,
           1,
           0,
           1,
           0,
           1
          ],
          "sizemode": "area",
          "sizeref": 0.01,
          "symbol": "circle"
         },
         "mode": "markers",
         "name": "URSULLA",
         "type": "scatter",
         "uid": "c4b1510a-fae4-11e8-b19a-e35ea5c620f6",
         "x": [
          "URSULLA",
          "URSULLA",
          "URSULLA",
          "URSULLA",
          "URSULLA",
          "URSULLA",
          "URSULLA",
          "URSULLA",
          "URSULLA",
          "URSULLA",
          "URSULLA"
         ],
         "y": [
          "Assign1",
          "Assign2",
          "Assign3",
          "Assign4",
          "Assign5",
          "Assign6",
          "Assign7",
          "Assign8",
          "Assign9",
          "Assign10"
         ]
        }
       ],
       "layout": {
        "hovermode": "closest",
        "showlegend": false,
        "title": "Atividades <b>não</b> feitas por estudante",
        "xaxis": {
         "autorange": false,
         "fixedrange": false,
         "range": [
          -1,
          20
         ],
         "rangemode": "normal",
         "showline": true,
         "title": "",
         "titlefont": {
          "color": "rgb(180,180,180)"
         },
         "type": "category"
        },
        "yaxis": {
         "autorange": false,
         "fixedrange": false,
         "range": [
          -1,
          10
         ],
         "rangemode": "normal",
         "showline": true,
         "title": "",
         "titlefont": {
          "color": "rgb(180,180,180)"
         },
         "type": "category"
        }
       }
      },
      "text/html": [
       "<div id=\"3e91b71d-2b9f-49f5-9e18-147bdd2a8ac9\" style=\"height: 525px; width: 100%;\" class=\"plotly-graph-div\"></div><script type=\"text/javascript\">require([\"plotly\"], function(Plotly) { window.PLOTLYENV=window.PLOTLYENV || {};window.PLOTLYENV.BASE_URL=\"https://plot.ly\";Plotly.newPlot(\"3e91b71d-2b9f-49f5-9e18-147bdd2a8ac9\", [{\"marker\": {\"color\": \"rgb(255,126,24)\", \"line\": {\"width\": 0}, \"size\": [1, 1, 1, 0, 1, 1, 0, 1, 1, 0], \"sizemode\": \"area\", \"sizeref\": 0.01, \"symbol\": \"circle\"}, \"mode\": \"markers\", \"name\": \"ALMIRA\", \"x\": [\"ALMIRA\", \"ALMIRA\", \"ALMIRA\", \"ALMIRA\", \"ALMIRA\", \"ALMIRA\", \"ALMIRA\", \"ALMIRA\", \"ALMIRA\", \"ALMIRA\", \"ALMIRA\"], \"y\": [\"Assign1\", \"Assign2\", \"Assign3\", \"Assign4\", \"Assign5\", \"Assign6\", \"Assign7\", \"Assign8\", \"Assign9\", \"Assign10\"], \"type\": \"scatter\", \"uid\": \"c4b14692-fae4-11e8-b19a-e35ea5c620f6\"}, {\"marker\": {\"color\": \"rgb(255,126,24)\", \"line\": {\"width\": 0}, \"size\": [1, 0, 1, 0, 0, 1, 1, 1, 0, 1], \"sizemode\": \"area\", \"sizeref\": 0.01, \"symbol\": \"circle\"}, \"mode\": \"markers\", \"name\": \"ANAZIRA\", \"x\": [\"ANAZIRA\", \"ANAZIRA\", \"ANAZIRA\", \"ANAZIRA\", \"ANAZIRA\", \"ANAZIRA\", \"ANAZIRA\", \"ANAZIRA\", \"ANAZIRA\", \"ANAZIRA\", \"ANAZIRA\"], \"y\": [\"Assign1\", \"Assign2\", \"Assign3\", \"Assign4\", \"Assign5\", \"Assign6\", \"Assign7\", \"Assign8\", \"Assign9\", \"Assign10\"], \"type\": \"scatter\", \"uid\": \"c4b1482c-fae4-11e8-b19a-e35ea5c620f6\"}, {\"marker\": {\"color\": \"rgb(255,126,24)\", \"line\": {\"width\": 0}, \"size\": [0, 0, 1, 1, 0, 0, 1, 1, 1, 0], \"sizemode\": \"area\", \"sizeref\": 0.01, \"symbol\": \"circle\"}, \"mode\": \"markers\", \"name\": \"DAFINE\", \"x\": [\"DAFINE\", \"DAFINE\", \"DAFINE\", \"DAFINE\", \"DAFINE\", \"DAFINE\", \"DAFINE\", \"DAFINE\", \"DAFINE\", \"DAFINE\", \"DAFINE\"], \"y\": [\"Assign1\", \"Assign2\", \"Assign3\", \"Assign4\", \"Assign5\", \"Assign6\", \"Assign7\", \"Assign8\", \"Assign9\", \"Assign10\"], \"type\": \"scatter\", \"uid\": \"c4b148e0-fae4-11e8-b19a-e35ea5c620f6\"}, {\"marker\": {\"color\": \"rgb(255,126,24)\", \"line\": {\"width\": 0}, \"size\": [0, 1, 0, 1, 1, 1, 1, 0, 0, 1], \"sizemode\": \"area\", \"sizeref\": 0.01, \"symbol\": \"circle\"}, \"mode\": \"markers\", \"name\": \"DILZA\", \"x\": [\"DILZA\", \"DILZA\", \"DILZA\", \"DILZA\", \"DILZA\", \"DILZA\", \"DILZA\", \"DILZA\", \"DILZA\", \"DILZA\", \"DILZA\"], \"y\": [\"Assign1\", \"Assign2\", \"Assign3\", \"Assign4\", \"Assign5\", \"Assign6\", \"Assign7\", \"Assign8\", \"Assign9\", \"Assign10\"], \"type\": \"scatter\", \"uid\": \"c4b14976-fae4-11e8-b19a-e35ea5c620f6\"}, {\"marker\": {\"color\": \"rgb(255,126,24)\", \"line\": {\"width\": 0}, \"size\": [0, 1, 1, 0, 1, 0, 1, 1, 1, 1], \"sizemode\": \"area\", \"sizeref\": 0.01, \"symbol\": \"circle\"}, \"mode\": \"markers\", \"name\": \"ELIDO\", \"x\": [\"ELIDO\", \"ELIDO\", \"ELIDO\", \"ELIDO\", \"ELIDO\", \"ELIDO\", \"ELIDO\", \"ELIDO\", \"ELIDO\", \"ELIDO\", \"ELIDO\"], \"y\": [\"Assign1\", \"Assign2\", \"Assign3\", \"Assign4\", \"Assign5\", \"Assign6\", \"Assign7\", \"Assign8\", \"Assign9\", \"Assign10\"], \"type\": \"scatter\", \"uid\": \"c4b14a02-fae4-11e8-b19a-e35ea5c620f6\"}, {\"marker\": {\"color\": \"rgb(255,126,24)\", \"line\": {\"width\": 0}, \"size\": [1, 0, 0, 1, 1, 1, 0, 0, 1, 1], \"sizemode\": \"area\", \"sizeref\": 0.01, \"symbol\": \"circle\"}, \"mode\": \"markers\", \"name\": \"ERILIO\", \"x\": [\"ERILIO\", \"ERILIO\", \"ERILIO\", \"ERILIO\", \"ERILIO\", \"ERILIO\", \"ERILIO\", \"ERILIO\", \"ERILIO\", \"ERILIO\", \"ERILIO\"], \"y\": [\"Assign1\", \"Assign2\", \"Assign3\", \"Assign4\", \"Assign5\", \"Assign6\", \"Assign7\", \"Assign8\", \"Assign9\", \"Assign10\"], \"type\": \"scatter\", \"uid\": \"c4b14a84-fae4-11e8-b19a-e35ea5c620f6\"}, {\"marker\": {\"color\": \"rgb(255,126,24)\", \"line\": {\"width\": 0}, \"size\": [1, 0, 1, 0, 0, 0, 1, 1, 1, 0], \"sizemode\": \"area\", \"sizeref\": 0.01, \"symbol\": \"circle\"}, \"mode\": \"markers\", \"name\": \"GIUSEPPE\", \"x\": [\"GIUSEPPE\", \"GIUSEPPE\", \"GIUSEPPE\", \"GIUSEPPE\", \"GIUSEPPE\", \"GIUSEPPE\", \"GIUSEPPE\", \"GIUSEPPE\", \"GIUSEPPE\", \"GIUSEPPE\", \"GIUSEPPE\"], \"y\": [\"Assign1\", \"Assign2\", \"Assign3\", \"Assign4\", \"Assign5\", \"Assign6\", \"Assign7\", \"Assign8\", \"Assign9\", \"Assign10\"], \"type\": \"scatter\", \"uid\": \"c4b14afc-fae4-11e8-b19a-e35ea5c620f6\"}, {\"marker\": {\"color\": \"rgb(255,126,24)\", \"line\": {\"width\": 0}, \"size\": [0, 0, 1, 1, 1, 1, 0, 0, 0, 0], \"sizemode\": \"area\", \"sizeref\": 0.01, \"symbol\": \"circle\"}, \"mode\": \"markers\", \"name\": \"IDELMARIA\", \"x\": [\"IDELMARIA\", \"IDELMARIA\", \"IDELMARIA\", \"IDELMARIA\", \"IDELMARIA\", \"IDELMARIA\", \"IDELMARIA\", \"IDELMARIA\", \"IDELMARIA\", \"IDELMARIA\", \"IDELMARIA\"], \"y\": [\"Assign1\", \"Assign2\", \"Assign3\", \"Assign4\", \"Assign5\", \"Assign6\", \"Assign7\", \"Assign8\", \"Assign9\", \"Assign10\"], \"type\": \"scatter\", \"uid\": \"c4b14b74-fae4-11e8-b19a-e35ea5c620f6\"}, {\"marker\": {\"color\": \"rgb(255,126,24)\", \"line\": {\"width\": 0}, \"size\": [0, 0, 0, 1, 1, 1, 1, 0, 1, 0], \"sizemode\": \"area\", \"sizeref\": 0.01, \"symbol\": \"circle\"}, \"mode\": \"markers\", \"name\": \"ISABELI\", \"x\": [\"ISABELI\", \"ISABELI\", \"ISABELI\", \"ISABELI\", \"ISABELI\", \"ISABELI\", \"ISABELI\", \"ISABELI\", \"ISABELI\", \"ISABELI\", \"ISABELI\"], \"y\": [\"Assign1\", \"Assign2\", \"Assign3\", \"Assign4\", \"Assign5\", \"Assign6\", \"Assign7\", \"Assign8\", \"Assign9\", \"Assign10\"], \"type\": \"scatter\", \"uid\": \"c4b14bf6-fae4-11e8-b19a-e35ea5c620f6\"}, {\"marker\": {\"color\": \"rgb(255,126,24)\", \"line\": {\"width\": 0}, \"size\": [1, 1, 1, 1, 0, 1, 0, 0, 0, 1], \"sizemode\": \"area\", \"sizeref\": 0.01, \"symbol\": \"circle\"}, \"mode\": \"markers\", \"name\": \"IZILDA\", \"x\": [\"IZILDA\", \"IZILDA\", \"IZILDA\", \"IZILDA\", \"IZILDA\", \"IZILDA\", \"IZILDA\", \"IZILDA\", \"IZILDA\", \"IZILDA\", \"IZILDA\"], \"y\": [\"Assign1\", \"Assign2\", \"Assign3\", \"Assign4\", \"Assign5\", \"Assign6\", \"Assign7\", \"Assign8\", \"Assign9\", \"Assign10\"], \"type\": \"scatter\", \"uid\": \"c4b14c6e-fae4-11e8-b19a-e35ea5c620f6\"}, {\"marker\": {\"color\": \"rgb(255,126,24)\", \"line\": {\"width\": 0}, \"size\": [0, 0, 1, 1, 0, 1, 0, 0, 1, 1], \"sizemode\": \"area\", \"sizeref\": 0.01, \"symbol\": \"circle\"}, \"mode\": \"markers\", \"name\": \"JOCIQUELE\", \"x\": [\"JOCIQUELE\", \"JOCIQUELE\", \"JOCIQUELE\", \"JOCIQUELE\", \"JOCIQUELE\", \"JOCIQUELE\", \"JOCIQUELE\", \"JOCIQUELE\", \"JOCIQUELE\", \"JOCIQUELE\", \"JOCIQUELE\"], \"y\": [\"Assign1\", \"Assign2\", \"Assign3\", \"Assign4\", \"Assign5\", \"Assign6\", \"Assign7\", \"Assign8\", \"Assign9\", \"Assign10\"], \"type\": \"scatter\", \"uid\": \"c4b14cdc-fae4-11e8-b19a-e35ea5c620f6\"}, {\"marker\": {\"color\": \"rgb(255,126,24)\", \"line\": {\"width\": 0}, \"size\": [1, 0, 0, 0, 1, 1, 1, 1, 1, 1], \"sizemode\": \"area\", \"sizeref\": 0.01, \"symbol\": \"circle\"}, \"mode\": \"markers\", \"name\": \"KARIANY\", \"x\": [\"KARIANY\", \"KARIANY\", \"KARIANY\", \"KARIANY\", \"KARIANY\", \"KARIANY\", \"KARIANY\", \"KARIANY\", \"KARIANY\", \"KARIANY\", \"KARIANY\"], \"y\": [\"Assign1\", \"Assign2\", \"Assign3\", \"Assign4\", \"Assign5\", \"Assign6\", \"Assign7\", \"Assign8\", \"Assign9\", \"Assign10\"], \"type\": \"scatter\", \"uid\": \"c4b14d5e-fae4-11e8-b19a-e35ea5c620f6\"}, {\"marker\": {\"color\": \"rgb(255,126,24)\", \"line\": {\"width\": 0}, \"size\": [1, 1, 1, 0, 1, 1, 0, 1, 0, 1], \"sizemode\": \"area\", \"sizeref\": 0.01, \"symbol\": \"circle\"}, \"mode\": \"markers\", \"name\": \"MESSODY\", \"x\": [\"MESSODY\", \"MESSODY\", \"MESSODY\", \"MESSODY\", \"MESSODY\", \"MESSODY\", \"MESSODY\", \"MESSODY\", \"MESSODY\", \"MESSODY\", \"MESSODY\"], \"y\": [\"Assign1\", \"Assign2\", \"Assign3\", \"Assign4\", \"Assign5\", \"Assign6\", \"Assign7\", \"Assign8\", \"Assign9\", \"Assign10\"], \"type\": \"scatter\", \"uid\": \"c4b14dd6-fae4-11e8-b19a-e35ea5c620f6\"}, {\"marker\": {\"color\": \"rgb(255,126,24)\", \"line\": {\"width\": 0}, \"size\": [1, 1, 1, 1, 1, 1, 0, 1, 0, 1], \"sizemode\": \"area\", \"sizeref\": 0.01, \"symbol\": \"circle\"}, \"mode\": \"markers\", \"name\": \"NARIELE\", \"x\": [\"NARIELE\", \"NARIELE\", \"NARIELE\", \"NARIELE\", \"NARIELE\", \"NARIELE\", \"NARIELE\", \"NARIELE\", \"NARIELE\", \"NARIELE\", \"NARIELE\"], \"y\": [\"Assign1\", \"Assign2\", \"Assign3\", \"Assign4\", \"Assign5\", \"Assign6\", \"Assign7\", \"Assign8\", \"Assign9\", \"Assign10\"], \"type\": \"scatter\", \"uid\": \"c4b14e4e-fae4-11e8-b19a-e35ea5c620f6\"}, {\"marker\": {\"color\": \"rgb(255,126,24)\", \"line\": {\"width\": 0}, \"size\": [0, 1, 0, 0, 1, 0, 1, 1, 1, 0], \"sizemode\": \"area\", \"sizeref\": 0.01, \"symbol\": \"circle\"}, \"mode\": \"markers\", \"name\": \"OTO\", \"x\": [\"OTO\", \"OTO\", \"OTO\", \"OTO\", \"OTO\", \"OTO\", \"OTO\", \"OTO\", \"OTO\", \"OTO\", \"OTO\"], \"y\": [\"Assign1\", \"Assign2\", \"Assign3\", \"Assign4\", \"Assign5\", \"Assign6\", \"Assign7\", \"Assign8\", \"Assign9\", \"Assign10\"], \"type\": \"scatter\", \"uid\": \"c4b14ec6-fae4-11e8-b19a-e35ea5c620f6\"}, {\"marker\": {\"color\": \"rgb(255,126,24)\", \"line\": {\"width\": 0}, \"size\": [1, 0, 1, 0, 1, 0, 1, 1, 0, 1], \"sizemode\": \"area\", \"sizeref\": 0.01, \"symbol\": \"circle\"}, \"mode\": \"markers\", \"name\": \"ROSALHA\", \"x\": [\"ROSALHA\", \"ROSALHA\", \"ROSALHA\", \"ROSALHA\", \"ROSALHA\", \"ROSALHA\", \"ROSALHA\", \"ROSALHA\", \"ROSALHA\", \"ROSALHA\", \"ROSALHA\"], \"y\": [\"Assign1\", \"Assign2\", \"Assign3\", \"Assign4\", \"Assign5\", \"Assign6\", \"Assign7\", \"Assign8\", \"Assign9\", \"Assign10\"], \"type\": \"scatter\", \"uid\": \"c4b14f3e-fae4-11e8-b19a-e35ea5c620f6\"}, {\"marker\": {\"color\": \"rgb(255,126,24)\", \"line\": {\"width\": 0}, \"size\": [1, 1, 0, 1, 0, 1, 0, 0, 1, 1], \"sizemode\": \"area\", \"sizeref\": 0.01, \"symbol\": \"circle\"}, \"mode\": \"markers\", \"name\": \"SELESTRINO\", \"x\": [\"SELESTRINO\", \"SELESTRINO\", \"SELESTRINO\", \"SELESTRINO\", \"SELESTRINO\", \"SELESTRINO\", \"SELESTRINO\", \"SELESTRINO\", \"SELESTRINO\", \"SELESTRINO\", \"SELESTRINO\"], \"y\": [\"Assign1\", \"Assign2\", \"Assign3\", \"Assign4\", \"Assign5\", \"Assign6\", \"Assign7\", \"Assign8\", \"Assign9\", \"Assign10\"], \"type\": \"scatter\", \"uid\": \"c4b14fb6-fae4-11e8-b19a-e35ea5c620f6\"}, {\"marker\": {\"color\": \"rgb(255,126,24)\", \"line\": {\"width\": 0}, \"size\": [0, 1, 1, 0, 1, 1, 0, 1, 1, 1], \"sizemode\": \"area\", \"sizeref\": 0.01, \"symbol\": \"circle\"}, \"mode\": \"markers\", \"name\": \"TIARA\", \"x\": [\"TIARA\", \"TIARA\", \"TIARA\", \"TIARA\", \"TIARA\", \"TIARA\", \"TIARA\", \"TIARA\", \"TIARA\", \"TIARA\", \"TIARA\"], \"y\": [\"Assign1\", \"Assign2\", \"Assign3\", \"Assign4\", \"Assign5\", \"Assign6\", \"Assign7\", \"Assign8\", \"Assign9\", \"Assign10\"], \"type\": \"scatter\", \"uid\": \"c4b1502e-fae4-11e8-b19a-e35ea5c620f6\"}, {\"marker\": {\"color\": \"rgb(255,126,24)\", \"line\": {\"width\": 0}, \"size\": [0, 0, 0, 0, 1, 0, 1, 0, 0, 1], \"sizemode\": \"area\", \"sizeref\": 0.01, \"symbol\": \"circle\"}, \"mode\": \"markers\", \"name\": \"UDILSON\", \"x\": [\"UDILSON\", \"UDILSON\", \"UDILSON\", \"UDILSON\", \"UDILSON\", \"UDILSON\", \"UDILSON\", \"UDILSON\", \"UDILSON\", \"UDILSON\", \"UDILSON\"], \"y\": [\"Assign1\", \"Assign2\", \"Assign3\", \"Assign4\", \"Assign5\", \"Assign6\", \"Assign7\", \"Assign8\", \"Assign9\", \"Assign10\"], \"type\": \"scatter\", \"uid\": \"c4b1509c-fae4-11e8-b19a-e35ea5c620f6\"}, {\"marker\": {\"color\": \"rgb(255,126,24)\", \"line\": {\"width\": 0}, \"size\": [1, 1, 0, 1, 1, 1, 0, 1, 0, 1], \"sizemode\": \"area\", \"sizeref\": 0.01, \"symbol\": \"circle\"}, \"mode\": \"markers\", \"name\": \"URSULLA\", \"x\": [\"URSULLA\", \"URSULLA\", \"URSULLA\", \"URSULLA\", \"URSULLA\", \"URSULLA\", \"URSULLA\", \"URSULLA\", \"URSULLA\", \"URSULLA\", \"URSULLA\"], \"y\": [\"Assign1\", \"Assign2\", \"Assign3\", \"Assign4\", \"Assign5\", \"Assign6\", \"Assign7\", \"Assign8\", \"Assign9\", \"Assign10\"], \"type\": \"scatter\", \"uid\": \"c4b1510a-fae4-11e8-b19a-e35ea5c620f6\"}], {\"hovermode\": \"closest\", \"showlegend\": false, \"title\": \"Atividades <b>n\\u00e3o</b> feitas por estudante\", \"xaxis\": {\"autorange\": false, \"fixedrange\": false, \"range\": [-1, 20], \"rangemode\": \"normal\", \"showline\": true, \"title\": \"\", \"titlefont\": {\"color\": \"rgb(180,180,180)\"}, \"type\": \"category\"}, \"yaxis\": {\"autorange\": false, \"fixedrange\": false, \"range\": [-1, 10], \"rangemode\": \"normal\", \"showline\": true, \"title\": \"\", \"titlefont\": {\"color\": \"rgb(180,180,180)\"}, \"type\": \"category\"}}, {\"showLink\": true, \"linkText\": \"Export to plot.ly\"})});</script>"
      ],
      "text/vnd.plotly.v1+html": [
       "<div id=\"3e91b71d-2b9f-49f5-9e18-147bdd2a8ac9\" style=\"height: 525px; width: 100%;\" class=\"plotly-graph-div\"></div><script type=\"text/javascript\">require([\"plotly\"], function(Plotly) { window.PLOTLYENV=window.PLOTLYENV || {};window.PLOTLYENV.BASE_URL=\"https://plot.ly\";Plotly.newPlot(\"3e91b71d-2b9f-49f5-9e18-147bdd2a8ac9\", [{\"marker\": {\"color\": \"rgb(255,126,24)\", \"line\": {\"width\": 0}, \"size\": [1, 1, 1, 0, 1, 1, 0, 1, 1, 0], \"sizemode\": \"area\", \"sizeref\": 0.01, \"symbol\": \"circle\"}, \"mode\": \"markers\", \"name\": \"ALMIRA\", \"x\": [\"ALMIRA\", \"ALMIRA\", \"ALMIRA\", \"ALMIRA\", \"ALMIRA\", \"ALMIRA\", \"ALMIRA\", \"ALMIRA\", \"ALMIRA\", \"ALMIRA\", \"ALMIRA\"], \"y\": [\"Assign1\", \"Assign2\", \"Assign3\", \"Assign4\", \"Assign5\", \"Assign6\", \"Assign7\", \"Assign8\", \"Assign9\", \"Assign10\"], \"type\": \"scatter\", \"uid\": \"c4b14692-fae4-11e8-b19a-e35ea5c620f6\"}, {\"marker\": {\"color\": \"rgb(255,126,24)\", \"line\": {\"width\": 0}, \"size\": [1, 0, 1, 0, 0, 1, 1, 1, 0, 1], \"sizemode\": \"area\", \"sizeref\": 0.01, \"symbol\": \"circle\"}, \"mode\": \"markers\", \"name\": \"ANAZIRA\", \"x\": [\"ANAZIRA\", \"ANAZIRA\", \"ANAZIRA\", \"ANAZIRA\", \"ANAZIRA\", \"ANAZIRA\", \"ANAZIRA\", \"ANAZIRA\", \"ANAZIRA\", \"ANAZIRA\", \"ANAZIRA\"], \"y\": [\"Assign1\", \"Assign2\", \"Assign3\", \"Assign4\", \"Assign5\", \"Assign6\", \"Assign7\", \"Assign8\", \"Assign9\", \"Assign10\"], \"type\": \"scatter\", \"uid\": \"c4b1482c-fae4-11e8-b19a-e35ea5c620f6\"}, {\"marker\": {\"color\": \"rgb(255,126,24)\", \"line\": {\"width\": 0}, \"size\": [0, 0, 1, 1, 0, 0, 1, 1, 1, 0], \"sizemode\": \"area\", \"sizeref\": 0.01, \"symbol\": \"circle\"}, \"mode\": \"markers\", \"name\": \"DAFINE\", \"x\": [\"DAFINE\", \"DAFINE\", \"DAFINE\", \"DAFINE\", \"DAFINE\", \"DAFINE\", \"DAFINE\", \"DAFINE\", \"DAFINE\", \"DAFINE\", \"DAFINE\"], \"y\": [\"Assign1\", \"Assign2\", \"Assign3\", \"Assign4\", \"Assign5\", \"Assign6\", \"Assign7\", \"Assign8\", \"Assign9\", \"Assign10\"], \"type\": \"scatter\", \"uid\": \"c4b148e0-fae4-11e8-b19a-e35ea5c620f6\"}, {\"marker\": {\"color\": \"rgb(255,126,24)\", \"line\": {\"width\": 0}, \"size\": [0, 1, 0, 1, 1, 1, 1, 0, 0, 1], \"sizemode\": \"area\", \"sizeref\": 0.01, \"symbol\": \"circle\"}, \"mode\": \"markers\", \"name\": \"DILZA\", \"x\": [\"DILZA\", \"DILZA\", \"DILZA\", \"DILZA\", \"DILZA\", \"DILZA\", \"DILZA\", \"DILZA\", \"DILZA\", \"DILZA\", \"DILZA\"], \"y\": [\"Assign1\", \"Assign2\", \"Assign3\", \"Assign4\", \"Assign5\", \"Assign6\", \"Assign7\", \"Assign8\", \"Assign9\", \"Assign10\"], \"type\": \"scatter\", \"uid\": \"c4b14976-fae4-11e8-b19a-e35ea5c620f6\"}, {\"marker\": {\"color\": \"rgb(255,126,24)\", \"line\": {\"width\": 0}, \"size\": [0, 1, 1, 0, 1, 0, 1, 1, 1, 1], \"sizemode\": \"area\", \"sizeref\": 0.01, \"symbol\": \"circle\"}, \"mode\": \"markers\", \"name\": \"ELIDO\", \"x\": [\"ELIDO\", \"ELIDO\", \"ELIDO\", \"ELIDO\", \"ELIDO\", \"ELIDO\", \"ELIDO\", \"ELIDO\", \"ELIDO\", \"ELIDO\", \"ELIDO\"], \"y\": [\"Assign1\", \"Assign2\", \"Assign3\", \"Assign4\", \"Assign5\", \"Assign6\", \"Assign7\", \"Assign8\", \"Assign9\", \"Assign10\"], \"type\": \"scatter\", \"uid\": \"c4b14a02-fae4-11e8-b19a-e35ea5c620f6\"}, {\"marker\": {\"color\": \"rgb(255,126,24)\", \"line\": {\"width\": 0}, \"size\": [1, 0, 0, 1, 1, 1, 0, 0, 1, 1], \"sizemode\": \"area\", \"sizeref\": 0.01, \"symbol\": \"circle\"}, \"mode\": \"markers\", \"name\": \"ERILIO\", \"x\": [\"ERILIO\", \"ERILIO\", \"ERILIO\", \"ERILIO\", \"ERILIO\", \"ERILIO\", \"ERILIO\", \"ERILIO\", \"ERILIO\", \"ERILIO\", \"ERILIO\"], \"y\": [\"Assign1\", \"Assign2\", \"Assign3\", \"Assign4\", \"Assign5\", \"Assign6\", \"Assign7\", \"Assign8\", \"Assign9\", \"Assign10\"], \"type\": \"scatter\", \"uid\": \"c4b14a84-fae4-11e8-b19a-e35ea5c620f6\"}, {\"marker\": {\"color\": \"rgb(255,126,24)\", \"line\": {\"width\": 0}, \"size\": [1, 0, 1, 0, 0, 0, 1, 1, 1, 0], \"sizemode\": \"area\", \"sizeref\": 0.01, \"symbol\": \"circle\"}, \"mode\": \"markers\", \"name\": \"GIUSEPPE\", \"x\": [\"GIUSEPPE\", \"GIUSEPPE\", \"GIUSEPPE\", \"GIUSEPPE\", \"GIUSEPPE\", \"GIUSEPPE\", \"GIUSEPPE\", \"GIUSEPPE\", \"GIUSEPPE\", \"GIUSEPPE\", \"GIUSEPPE\"], \"y\": [\"Assign1\", \"Assign2\", \"Assign3\", \"Assign4\", \"Assign5\", \"Assign6\", \"Assign7\", \"Assign8\", \"Assign9\", \"Assign10\"], \"type\": \"scatter\", \"uid\": \"c4b14afc-fae4-11e8-b19a-e35ea5c620f6\"}, {\"marker\": {\"color\": \"rgb(255,126,24)\", \"line\": {\"width\": 0}, \"size\": [0, 0, 1, 1, 1, 1, 0, 0, 0, 0], \"sizemode\": \"area\", \"sizeref\": 0.01, \"symbol\": \"circle\"}, \"mode\": \"markers\", \"name\": \"IDELMARIA\", \"x\": [\"IDELMARIA\", \"IDELMARIA\", \"IDELMARIA\", \"IDELMARIA\", \"IDELMARIA\", \"IDELMARIA\", \"IDELMARIA\", \"IDELMARIA\", \"IDELMARIA\", \"IDELMARIA\", \"IDELMARIA\"], \"y\": [\"Assign1\", \"Assign2\", \"Assign3\", \"Assign4\", \"Assign5\", \"Assign6\", \"Assign7\", \"Assign8\", \"Assign9\", \"Assign10\"], \"type\": \"scatter\", \"uid\": \"c4b14b74-fae4-11e8-b19a-e35ea5c620f6\"}, {\"marker\": {\"color\": \"rgb(255,126,24)\", \"line\": {\"width\": 0}, \"size\": [0, 0, 0, 1, 1, 1, 1, 0, 1, 0], \"sizemode\": \"area\", \"sizeref\": 0.01, \"symbol\": \"circle\"}, \"mode\": \"markers\", \"name\": \"ISABELI\", \"x\": [\"ISABELI\", \"ISABELI\", \"ISABELI\", \"ISABELI\", \"ISABELI\", \"ISABELI\", \"ISABELI\", \"ISABELI\", \"ISABELI\", \"ISABELI\", \"ISABELI\"], \"y\": [\"Assign1\", \"Assign2\", \"Assign3\", \"Assign4\", \"Assign5\", \"Assign6\", \"Assign7\", \"Assign8\", \"Assign9\", \"Assign10\"], \"type\": \"scatter\", \"uid\": \"c4b14bf6-fae4-11e8-b19a-e35ea5c620f6\"}, {\"marker\": {\"color\": \"rgb(255,126,24)\", \"line\": {\"width\": 0}, \"size\": [1, 1, 1, 1, 0, 1, 0, 0, 0, 1], \"sizemode\": \"area\", \"sizeref\": 0.01, \"symbol\": \"circle\"}, \"mode\": \"markers\", \"name\": \"IZILDA\", \"x\": [\"IZILDA\", \"IZILDA\", \"IZILDA\", \"IZILDA\", \"IZILDA\", \"IZILDA\", \"IZILDA\", \"IZILDA\", \"IZILDA\", \"IZILDA\", \"IZILDA\"], \"y\": [\"Assign1\", \"Assign2\", \"Assign3\", \"Assign4\", \"Assign5\", \"Assign6\", \"Assign7\", \"Assign8\", \"Assign9\", \"Assign10\"], \"type\": \"scatter\", \"uid\": \"c4b14c6e-fae4-11e8-b19a-e35ea5c620f6\"}, {\"marker\": {\"color\": \"rgb(255,126,24)\", \"line\": {\"width\": 0}, \"size\": [0, 0, 1, 1, 0, 1, 0, 0, 1, 1], \"sizemode\": \"area\", \"sizeref\": 0.01, \"symbol\": \"circle\"}, \"mode\": \"markers\", \"name\": \"JOCIQUELE\", \"x\": [\"JOCIQUELE\", \"JOCIQUELE\", \"JOCIQUELE\", \"JOCIQUELE\", \"JOCIQUELE\", \"JOCIQUELE\", \"JOCIQUELE\", \"JOCIQUELE\", \"JOCIQUELE\", \"JOCIQUELE\", \"JOCIQUELE\"], \"y\": [\"Assign1\", \"Assign2\", \"Assign3\", \"Assign4\", \"Assign5\", \"Assign6\", \"Assign7\", \"Assign8\", \"Assign9\", \"Assign10\"], \"type\": \"scatter\", \"uid\": \"c4b14cdc-fae4-11e8-b19a-e35ea5c620f6\"}, {\"marker\": {\"color\": \"rgb(255,126,24)\", \"line\": {\"width\": 0}, \"size\": [1, 0, 0, 0, 1, 1, 1, 1, 1, 1], \"sizemode\": \"area\", \"sizeref\": 0.01, \"symbol\": \"circle\"}, \"mode\": \"markers\", \"name\": \"KARIANY\", \"x\": [\"KARIANY\", \"KARIANY\", \"KARIANY\", \"KARIANY\", \"KARIANY\", \"KARIANY\", \"KARIANY\", \"KARIANY\", \"KARIANY\", \"KARIANY\", \"KARIANY\"], \"y\": [\"Assign1\", \"Assign2\", \"Assign3\", \"Assign4\", \"Assign5\", \"Assign6\", \"Assign7\", \"Assign8\", \"Assign9\", \"Assign10\"], \"type\": \"scatter\", \"uid\": \"c4b14d5e-fae4-11e8-b19a-e35ea5c620f6\"}, {\"marker\": {\"color\": \"rgb(255,126,24)\", \"line\": {\"width\": 0}, \"size\": [1, 1, 1, 0, 1, 1, 0, 1, 0, 1], \"sizemode\": \"area\", \"sizeref\": 0.01, \"symbol\": \"circle\"}, \"mode\": \"markers\", \"name\": \"MESSODY\", \"x\": [\"MESSODY\", \"MESSODY\", \"MESSODY\", \"MESSODY\", \"MESSODY\", \"MESSODY\", \"MESSODY\", \"MESSODY\", \"MESSODY\", \"MESSODY\", \"MESSODY\"], \"y\": [\"Assign1\", \"Assign2\", \"Assign3\", \"Assign4\", \"Assign5\", \"Assign6\", \"Assign7\", \"Assign8\", \"Assign9\", \"Assign10\"], \"type\": \"scatter\", \"uid\": \"c4b14dd6-fae4-11e8-b19a-e35ea5c620f6\"}, {\"marker\": {\"color\": \"rgb(255,126,24)\", \"line\": {\"width\": 0}, \"size\": [1, 1, 1, 1, 1, 1, 0, 1, 0, 1], \"sizemode\": \"area\", \"sizeref\": 0.01, \"symbol\": \"circle\"}, \"mode\": \"markers\", \"name\": \"NARIELE\", \"x\": [\"NARIELE\", \"NARIELE\", \"NARIELE\", \"NARIELE\", \"NARIELE\", \"NARIELE\", \"NARIELE\", \"NARIELE\", \"NARIELE\", \"NARIELE\", \"NARIELE\"], \"y\": [\"Assign1\", \"Assign2\", \"Assign3\", \"Assign4\", \"Assign5\", \"Assign6\", \"Assign7\", \"Assign8\", \"Assign9\", \"Assign10\"], \"type\": \"scatter\", \"uid\": \"c4b14e4e-fae4-11e8-b19a-e35ea5c620f6\"}, {\"marker\": {\"color\": \"rgb(255,126,24)\", \"line\": {\"width\": 0}, \"size\": [0, 1, 0, 0, 1, 0, 1, 1, 1, 0], \"sizemode\": \"area\", \"sizeref\": 0.01, \"symbol\": \"circle\"}, \"mode\": \"markers\", \"name\": \"OTO\", \"x\": [\"OTO\", \"OTO\", \"OTO\", \"OTO\", \"OTO\", \"OTO\", \"OTO\", \"OTO\", \"OTO\", \"OTO\", \"OTO\"], \"y\": [\"Assign1\", \"Assign2\", \"Assign3\", \"Assign4\", \"Assign5\", \"Assign6\", \"Assign7\", \"Assign8\", \"Assign9\", \"Assign10\"], \"type\": \"scatter\", \"uid\": \"c4b14ec6-fae4-11e8-b19a-e35ea5c620f6\"}, {\"marker\": {\"color\": \"rgb(255,126,24)\", \"line\": {\"width\": 0}, \"size\": [1, 0, 1, 0, 1, 0, 1, 1, 0, 1], \"sizemode\": \"area\", \"sizeref\": 0.01, \"symbol\": \"circle\"}, \"mode\": \"markers\", \"name\": \"ROSALHA\", \"x\": [\"ROSALHA\", \"ROSALHA\", \"ROSALHA\", \"ROSALHA\", \"ROSALHA\", \"ROSALHA\", \"ROSALHA\", \"ROSALHA\", \"ROSALHA\", \"ROSALHA\", \"ROSALHA\"], \"y\": [\"Assign1\", \"Assign2\", \"Assign3\", \"Assign4\", \"Assign5\", \"Assign6\", \"Assign7\", \"Assign8\", \"Assign9\", \"Assign10\"], \"type\": \"scatter\", \"uid\": \"c4b14f3e-fae4-11e8-b19a-e35ea5c620f6\"}, {\"marker\": {\"color\": \"rgb(255,126,24)\", \"line\": {\"width\": 0}, \"size\": [1, 1, 0, 1, 0, 1, 0, 0, 1, 1], \"sizemode\": \"area\", \"sizeref\": 0.01, \"symbol\": \"circle\"}, \"mode\": \"markers\", \"name\": \"SELESTRINO\", \"x\": [\"SELESTRINO\", \"SELESTRINO\", \"SELESTRINO\", \"SELESTRINO\", \"SELESTRINO\", \"SELESTRINO\", \"SELESTRINO\", \"SELESTRINO\", \"SELESTRINO\", \"SELESTRINO\", \"SELESTRINO\"], \"y\": [\"Assign1\", \"Assign2\", \"Assign3\", \"Assign4\", \"Assign5\", \"Assign6\", \"Assign7\", \"Assign8\", \"Assign9\", \"Assign10\"], \"type\": \"scatter\", \"uid\": \"c4b14fb6-fae4-11e8-b19a-e35ea5c620f6\"}, {\"marker\": {\"color\": \"rgb(255,126,24)\", \"line\": {\"width\": 0}, \"size\": [0, 1, 1, 0, 1, 1, 0, 1, 1, 1], \"sizemode\": \"area\", \"sizeref\": 0.01, \"symbol\": \"circle\"}, \"mode\": \"markers\", \"name\": \"TIARA\", \"x\": [\"TIARA\", \"TIARA\", \"TIARA\", \"TIARA\", \"TIARA\", \"TIARA\", \"TIARA\", \"TIARA\", \"TIARA\", \"TIARA\", \"TIARA\"], \"y\": [\"Assign1\", \"Assign2\", \"Assign3\", \"Assign4\", \"Assign5\", \"Assign6\", \"Assign7\", \"Assign8\", \"Assign9\", \"Assign10\"], \"type\": \"scatter\", \"uid\": \"c4b1502e-fae4-11e8-b19a-e35ea5c620f6\"}, {\"marker\": {\"color\": \"rgb(255,126,24)\", \"line\": {\"width\": 0}, \"size\": [0, 0, 0, 0, 1, 0, 1, 0, 0, 1], \"sizemode\": \"area\", \"sizeref\": 0.01, \"symbol\": \"circle\"}, \"mode\": \"markers\", \"name\": \"UDILSON\", \"x\": [\"UDILSON\", \"UDILSON\", \"UDILSON\", \"UDILSON\", \"UDILSON\", \"UDILSON\", \"UDILSON\", \"UDILSON\", \"UDILSON\", \"UDILSON\", \"UDILSON\"], \"y\": [\"Assign1\", \"Assign2\", \"Assign3\", \"Assign4\", \"Assign5\", \"Assign6\", \"Assign7\", \"Assign8\", \"Assign9\", \"Assign10\"], \"type\": \"scatter\", \"uid\": \"c4b1509c-fae4-11e8-b19a-e35ea5c620f6\"}, {\"marker\": {\"color\": \"rgb(255,126,24)\", \"line\": {\"width\": 0}, \"size\": [1, 1, 0, 1, 1, 1, 0, 1, 0, 1], \"sizemode\": \"area\", \"sizeref\": 0.01, \"symbol\": \"circle\"}, \"mode\": \"markers\", \"name\": \"URSULLA\", \"x\": [\"URSULLA\", \"URSULLA\", \"URSULLA\", \"URSULLA\", \"URSULLA\", \"URSULLA\", \"URSULLA\", \"URSULLA\", \"URSULLA\", \"URSULLA\", \"URSULLA\"], \"y\": [\"Assign1\", \"Assign2\", \"Assign3\", \"Assign4\", \"Assign5\", \"Assign6\", \"Assign7\", \"Assign8\", \"Assign9\", \"Assign10\"], \"type\": \"scatter\", \"uid\": \"c4b1510a-fae4-11e8-b19a-e35ea5c620f6\"}], {\"hovermode\": \"closest\", \"showlegend\": false, \"title\": \"Atividades <b>n\\u00e3o</b> feitas por estudante\", \"xaxis\": {\"autorange\": false, \"fixedrange\": false, \"range\": [-1, 20], \"rangemode\": \"normal\", \"showline\": true, \"title\": \"\", \"titlefont\": {\"color\": \"rgb(180,180,180)\"}, \"type\": \"category\"}, \"yaxis\": {\"autorange\": false, \"fixedrange\": false, \"range\": [-1, 10], \"rangemode\": \"normal\", \"showline\": true, \"title\": \"\", \"titlefont\": {\"color\": \"rgb(180,180,180)\"}, \"type\": \"category\"}}, {\"showLink\": true, \"linkText\": \"Export to plot.ly\"})});</script>"
      ]
     },
     "metadata": {},
     "output_type": "display_data"
    },
    {
     "data": {
      "application/vnd.plotly.v1+json": {
       "data": [
        {
         "marker": {
          "color": "rgb(0,0,255)",
          "line": {
           "width": 0
          },
          "size": [
           0,
           0,
           0,
           1,
           0,
           0,
           1,
           0,
           0,
           1
          ],
          "sizemode": "area",
          "sizeref": 0.01,
          "symbol": "circle"
         },
         "mode": "markers",
         "name": "ALMIRA",
         "type": "scatter",
         "uid": "c4e17560-fae4-11e8-b19a-e35ea5c620f6",
         "x": [
          "ALMIRA",
          "ALMIRA",
          "ALMIRA",
          "ALMIRA",
          "ALMIRA",
          "ALMIRA",
          "ALMIRA",
          "ALMIRA",
          "ALMIRA",
          "ALMIRA",
          "ALMIRA"
         ],
         "y": [
          "Assign1",
          "Assign2",
          "Assign3",
          "Assign4",
          "Assign5",
          "Assign6",
          "Assign7",
          "Assign8",
          "Assign9",
          "Assign10"
         ]
        },
        {
         "marker": {
          "color": "rgb(0,0,255)",
          "line": {
           "width": 0
          },
          "size": [
           0,
           1,
           0,
           1,
           1,
           0,
           0,
           0,
           1,
           0
          ],
          "sizemode": "area",
          "sizeref": 0.01,
          "symbol": "circle"
         },
         "mode": "markers",
         "name": "ANAZIRA",
         "type": "scatter",
         "uid": "c4e17754-fae4-11e8-b19a-e35ea5c620f6",
         "x": [
          "ANAZIRA",
          "ANAZIRA",
          "ANAZIRA",
          "ANAZIRA",
          "ANAZIRA",
          "ANAZIRA",
          "ANAZIRA",
          "ANAZIRA",
          "ANAZIRA",
          "ANAZIRA",
          "ANAZIRA"
         ],
         "y": [
          "Assign1",
          "Assign2",
          "Assign3",
          "Assign4",
          "Assign5",
          "Assign6",
          "Assign7",
          "Assign8",
          "Assign9",
          "Assign10"
         ]
        },
        {
         "marker": {
          "color": "rgb(0,0,255)",
          "line": {
           "width": 0
          },
          "size": [
           1,
           1,
           0,
           0,
           1,
           1,
           0,
           0,
           0,
           1
          ],
          "sizemode": "area",
          "sizeref": 0.01,
          "symbol": "circle"
         },
         "mode": "markers",
         "name": "DAFINE",
         "type": "scatter",
         "uid": "c4e1783a-fae4-11e8-b19a-e35ea5c620f6",
         "x": [
          "DAFINE",
          "DAFINE",
          "DAFINE",
          "DAFINE",
          "DAFINE",
          "DAFINE",
          "DAFINE",
          "DAFINE",
          "DAFINE",
          "DAFINE",
          "DAFINE"
         ],
         "y": [
          "Assign1",
          "Assign2",
          "Assign3",
          "Assign4",
          "Assign5",
          "Assign6",
          "Assign7",
          "Assign8",
          "Assign9",
          "Assign10"
         ]
        },
        {
         "marker": {
          "color": "rgb(0,0,255)",
          "line": {
           "width": 0
          },
          "size": [
           1,
           0,
           1,
           0,
           0,
           0,
           0,
           1,
           1,
           0
          ],
          "sizemode": "area",
          "sizeref": 0.01,
          "symbol": "circle"
         },
         "mode": "markers",
         "name": "DILZA",
         "type": "scatter",
         "uid": "c4e178e4-fae4-11e8-b19a-e35ea5c620f6",
         "x": [
          "DILZA",
          "DILZA",
          "DILZA",
          "DILZA",
          "DILZA",
          "DILZA",
          "DILZA",
          "DILZA",
          "DILZA",
          "DILZA",
          "DILZA"
         ],
         "y": [
          "Assign1",
          "Assign2",
          "Assign3",
          "Assign4",
          "Assign5",
          "Assign6",
          "Assign7",
          "Assign8",
          "Assign9",
          "Assign10"
         ]
        },
        {
         "marker": {
          "color": "rgb(0,0,255)",
          "line": {
           "width": 0
          },
          "size": [
           1,
           0,
           0,
           1,
           0,
           1,
           0,
           0,
           0,
           0
          ],
          "sizemode": "area",
          "sizeref": 0.01,
          "symbol": "circle"
         },
         "mode": "markers",
         "name": "ELIDO",
         "type": "scatter",
         "uid": "c4e1797a-fae4-11e8-b19a-e35ea5c620f6",
         "x": [
          "ELIDO",
          "ELIDO",
          "ELIDO",
          "ELIDO",
          "ELIDO",
          "ELIDO",
          "ELIDO",
          "ELIDO",
          "ELIDO",
          "ELIDO",
          "ELIDO"
         ],
         "y": [
          "Assign1",
          "Assign2",
          "Assign3",
          "Assign4",
          "Assign5",
          "Assign6",
          "Assign7",
          "Assign8",
          "Assign9",
          "Assign10"
         ]
        },
        {
         "marker": {
          "color": "rgb(0,0,255)",
          "line": {
           "width": 0
          },
          "size": [
           0,
           1,
           1,
           0,
           0,
           0,
           1,
           1,
           0,
           0
          ],
          "sizemode": "area",
          "sizeref": 0.01,
          "symbol": "circle"
         },
         "mode": "markers",
         "name": "ERILIO",
         "type": "scatter",
         "uid": "c4e17a24-fae4-11e8-b19a-e35ea5c620f6",
         "x": [
          "ERILIO",
          "ERILIO",
          "ERILIO",
          "ERILIO",
          "ERILIO",
          "ERILIO",
          "ERILIO",
          "ERILIO",
          "ERILIO",
          "ERILIO",
          "ERILIO"
         ],
         "y": [
          "Assign1",
          "Assign2",
          "Assign3",
          "Assign4",
          "Assign5",
          "Assign6",
          "Assign7",
          "Assign8",
          "Assign9",
          "Assign10"
         ]
        },
        {
         "marker": {
          "color": "rgb(0,0,255)",
          "line": {
           "width": 0
          },
          "size": [
           0,
           1,
           0,
           1,
           1,
           1,
           0,
           0,
           0,
           1
          ],
          "sizemode": "area",
          "sizeref": 0.01,
          "symbol": "circle"
         },
         "mode": "markers",
         "name": "GIUSEPPE",
         "type": "scatter",
         "uid": "c4e17aba-fae4-11e8-b19a-e35ea5c620f6",
         "x": [
          "GIUSEPPE",
          "GIUSEPPE",
          "GIUSEPPE",
          "GIUSEPPE",
          "GIUSEPPE",
          "GIUSEPPE",
          "GIUSEPPE",
          "GIUSEPPE",
          "GIUSEPPE",
          "GIUSEPPE",
          "GIUSEPPE"
         ],
         "y": [
          "Assign1",
          "Assign2",
          "Assign3",
          "Assign4",
          "Assign5",
          "Assign6",
          "Assign7",
          "Assign8",
          "Assign9",
          "Assign10"
         ]
        },
        {
         "marker": {
          "color": "rgb(0,0,255)",
          "line": {
           "width": 0
          },
          "size": [
           1,
           1,
           0,
           0,
           0,
           0,
           1,
           1,
           1,
           1
          ],
          "sizemode": "area",
          "sizeref": 0.01,
          "symbol": "circle"
         },
         "mode": "markers",
         "name": "IDELMARIA",
         "type": "scatter",
         "uid": "c4e17b50-fae4-11e8-b19a-e35ea5c620f6",
         "x": [
          "IDELMARIA",
          "IDELMARIA",
          "IDELMARIA",
          "IDELMARIA",
          "IDELMARIA",
          "IDELMARIA",
          "IDELMARIA",
          "IDELMARIA",
          "IDELMARIA",
          "IDELMARIA",
          "IDELMARIA"
         ],
         "y": [
          "Assign1",
          "Assign2",
          "Assign3",
          "Assign4",
          "Assign5",
          "Assign6",
          "Assign7",
          "Assign8",
          "Assign9",
          "Assign10"
         ]
        },
        {
         "marker": {
          "color": "rgb(0,0,255)",
          "line": {
           "width": 0
          },
          "size": [
           1,
           1,
           1,
           0,
           0,
           0,
           0,
           1,
           0,
           1
          ],
          "sizemode": "area",
          "sizeref": 0.01,
          "symbol": "circle"
         },
         "mode": "markers",
         "name": "ISABELI",
         "type": "scatter",
         "uid": "c4e17bdc-fae4-11e8-b19a-e35ea5c620f6",
         "x": [
          "ISABELI",
          "ISABELI",
          "ISABELI",
          "ISABELI",
          "ISABELI",
          "ISABELI",
          "ISABELI",
          "ISABELI",
          "ISABELI",
          "ISABELI",
          "ISABELI"
         ],
         "y": [
          "Assign1",
          "Assign2",
          "Assign3",
          "Assign4",
          "Assign5",
          "Assign6",
          "Assign7",
          "Assign8",
          "Assign9",
          "Assign10"
         ]
        },
        {
         "marker": {
          "color": "rgb(0,0,255)",
          "line": {
           "width": 0
          },
          "size": [
           0,
           0,
           0,
           0,
           1,
           0,
           1,
           1,
           1,
           0
          ],
          "sizemode": "area",
          "sizeref": 0.01,
          "symbol": "circle"
         },
         "mode": "markers",
         "name": "IZILDA",
         "type": "scatter",
         "uid": "c4e17c68-fae4-11e8-b19a-e35ea5c620f6",
         "x": [
          "IZILDA",
          "IZILDA",
          "IZILDA",
          "IZILDA",
          "IZILDA",
          "IZILDA",
          "IZILDA",
          "IZILDA",
          "IZILDA",
          "IZILDA",
          "IZILDA"
         ],
         "y": [
          "Assign1",
          "Assign2",
          "Assign3",
          "Assign4",
          "Assign5",
          "Assign6",
          "Assign7",
          "Assign8",
          "Assign9",
          "Assign10"
         ]
        },
        {
         "marker": {
          "color": "rgb(0,0,255)",
          "line": {
           "width": 0
          },
          "size": [
           1,
           1,
           0,
           0,
           1,
           0,
           1,
           1,
           0,
           0
          ],
          "sizemode": "area",
          "sizeref": 0.01,
          "symbol": "circle"
         },
         "mode": "markers",
         "name": "JOCIQUELE",
         "type": "scatter",
         "uid": "c4e17cfe-fae4-11e8-b19a-e35ea5c620f6",
         "x": [
          "JOCIQUELE",
          "JOCIQUELE",
          "JOCIQUELE",
          "JOCIQUELE",
          "JOCIQUELE",
          "JOCIQUELE",
          "JOCIQUELE",
          "JOCIQUELE",
          "JOCIQUELE",
          "JOCIQUELE",
          "JOCIQUELE"
         ],
         "y": [
          "Assign1",
          "Assign2",
          "Assign3",
          "Assign4",
          "Assign5",
          "Assign6",
          "Assign7",
          "Assign8",
          "Assign9",
          "Assign10"
         ]
        },
        {
         "marker": {
          "color": "rgb(0,0,255)",
          "line": {
           "width": 0
          },
          "size": [
           0,
           1,
           1,
           1,
           0,
           0,
           0,
           0,
           0,
           0
          ],
          "sizemode": "area",
          "sizeref": 0.01,
          "symbol": "circle"
         },
         "mode": "markers",
         "name": "KARIANY",
         "type": "scatter",
         "uid": "c4e17d9e-fae4-11e8-b19a-e35ea5c620f6",
         "x": [
          "KARIANY",
          "KARIANY",
          "KARIANY",
          "KARIANY",
          "KARIANY",
          "KARIANY",
          "KARIANY",
          "KARIANY",
          "KARIANY",
          "KARIANY",
          "KARIANY"
         ],
         "y": [
          "Assign1",
          "Assign2",
          "Assign3",
          "Assign4",
          "Assign5",
          "Assign6",
          "Assign7",
          "Assign8",
          "Assign9",
          "Assign10"
         ]
        },
        {
         "marker": {
          "color": "rgb(0,0,255)",
          "line": {
           "width": 0
          },
          "size": [
           0,
           0,
           0,
           1,
           0,
           0,
           1,
           0,
           1,
           0
          ],
          "sizemode": "area",
          "sizeref": 0.01,
          "symbol": "circle"
         },
         "mode": "markers",
         "name": "MESSODY",
         "type": "scatter",
         "uid": "c4e17e3e-fae4-11e8-b19a-e35ea5c620f6",
         "x": [
          "MESSODY",
          "MESSODY",
          "MESSODY",
          "MESSODY",
          "MESSODY",
          "MESSODY",
          "MESSODY",
          "MESSODY",
          "MESSODY",
          "MESSODY",
          "MESSODY"
         ],
         "y": [
          "Assign1",
          "Assign2",
          "Assign3",
          "Assign4",
          "Assign5",
          "Assign6",
          "Assign7",
          "Assign8",
          "Assign9",
          "Assign10"
         ]
        },
        {
         "marker": {
          "color": "rgb(0,0,255)",
          "line": {
           "width": 0
          },
          "size": [
           0,
           0,
           0,
           0,
           0,
           0,
           1,
           0,
           1,
           0
          ],
          "sizemode": "area",
          "sizeref": 0.01,
          "symbol": "circle"
         },
         "mode": "markers",
         "name": "NARIELE",
         "type": "scatter",
         "uid": "c4e17ed4-fae4-11e8-b19a-e35ea5c620f6",
         "x": [
          "NARIELE",
          "NARIELE",
          "NARIELE",
          "NARIELE",
          "NARIELE",
          "NARIELE",
          "NARIELE",
          "NARIELE",
          "NARIELE",
          "NARIELE",
          "NARIELE"
         ],
         "y": [
          "Assign1",
          "Assign2",
          "Assign3",
          "Assign4",
          "Assign5",
          "Assign6",
          "Assign7",
          "Assign8",
          "Assign9",
          "Assign10"
         ]
        },
        {
         "marker": {
          "color": "rgb(0,0,255)",
          "line": {
           "width": 0
          },
          "size": [
           1,
           0,
           1,
           1,
           0,
           1,
           0,
           0,
           0,
           1
          ],
          "sizemode": "area",
          "sizeref": 0.01,
          "symbol": "circle"
         },
         "mode": "markers",
         "name": "OTO",
         "type": "scatter",
         "uid": "c4e17f74-fae4-11e8-b19a-e35ea5c620f6",
         "x": [
          "OTO",
          "OTO",
          "OTO",
          "OTO",
          "OTO",
          "OTO",
          "OTO",
          "OTO",
          "OTO",
          "OTO",
          "OTO"
         ],
         "y": [
          "Assign1",
          "Assign2",
          "Assign3",
          "Assign4",
          "Assign5",
          "Assign6",
          "Assign7",
          "Assign8",
          "Assign9",
          "Assign10"
         ]
        },
        {
         "marker": {
          "color": "rgb(0,0,255)",
          "line": {
           "width": 0
          },
          "size": [
           0,
           1,
           0,
           1,
           0,
           1,
           0,
           0,
           1,
           0
          ],
          "sizemode": "area",
          "sizeref": 0.01,
          "symbol": "circle"
         },
         "mode": "markers",
         "name": "ROSALHA",
         "type": "scatter",
         "uid": "c4e1800a-fae4-11e8-b19a-e35ea5c620f6",
         "x": [
          "ROSALHA",
          "ROSALHA",
          "ROSALHA",
          "ROSALHA",
          "ROSALHA",
          "ROSALHA",
          "ROSALHA",
          "ROSALHA",
          "ROSALHA",
          "ROSALHA",
          "ROSALHA"
         ],
         "y": [
          "Assign1",
          "Assign2",
          "Assign3",
          "Assign4",
          "Assign5",
          "Assign6",
          "Assign7",
          "Assign8",
          "Assign9",
          "Assign10"
         ]
        },
        {
         "marker": {
          "color": "rgb(0,0,255)",
          "line": {
           "width": 0
          },
          "size": [
           0,
           0,
           1,
           0,
           1,
           0,
           1,
           1,
           0,
           0
          ],
          "sizemode": "area",
          "sizeref": 0.01,
          "symbol": "circle"
         },
         "mode": "markers",
         "name": "SELESTRINO",
         "type": "scatter",
         "uid": "c4e180aa-fae4-11e8-b19a-e35ea5c620f6",
         "x": [
          "SELESTRINO",
          "SELESTRINO",
          "SELESTRINO",
          "SELESTRINO",
          "SELESTRINO",
          "SELESTRINO",
          "SELESTRINO",
          "SELESTRINO",
          "SELESTRINO",
          "SELESTRINO",
          "SELESTRINO"
         ],
         "y": [
          "Assign1",
          "Assign2",
          "Assign3",
          "Assign4",
          "Assign5",
          "Assign6",
          "Assign7",
          "Assign8",
          "Assign9",
          "Assign10"
         ]
        },
        {
         "marker": {
          "color": "rgb(0,0,255)",
          "line": {
           "width": 0
          },
          "size": [
           1,
           0,
           0,
           1,
           0,
           0,
           1,
           0,
           0,
           0
          ],
          "sizemode": "area",
          "sizeref": 0.01,
          "symbol": "circle"
         },
         "mode": "markers",
         "name": "TIARA",
         "type": "scatter",
         "uid": "c4e18140-fae4-11e8-b19a-e35ea5c620f6",
         "x": [
          "TIARA",
          "TIARA",
          "TIARA",
          "TIARA",
          "TIARA",
          "TIARA",
          "TIARA",
          "TIARA",
          "TIARA",
          "TIARA",
          "TIARA"
         ],
         "y": [
          "Assign1",
          "Assign2",
          "Assign3",
          "Assign4",
          "Assign5",
          "Assign6",
          "Assign7",
          "Assign8",
          "Assign9",
          "Assign10"
         ]
        },
        {
         "marker": {
          "color": "rgb(0,0,255)",
          "line": {
           "width": 0
          },
          "size": [
           1,
           1,
           1,
           1,
           0,
           1,
           0,
           1,
           1,
           0
          ],
          "sizemode": "area",
          "sizeref": 0.01,
          "symbol": "circle"
         },
         "mode": "markers",
         "name": "UDILSON",
         "type": "scatter",
         "uid": "c4e181e0-fae4-11e8-b19a-e35ea5c620f6",
         "x": [
          "UDILSON",
          "UDILSON",
          "UDILSON",
          "UDILSON",
          "UDILSON",
          "UDILSON",
          "UDILSON",
          "UDILSON",
          "UDILSON",
          "UDILSON",
          "UDILSON"
         ],
         "y": [
          "Assign1",
          "Assign2",
          "Assign3",
          "Assign4",
          "Assign5",
          "Assign6",
          "Assign7",
          "Assign8",
          "Assign9",
          "Assign10"
         ]
        },
        {
         "marker": {
          "color": "rgb(0,0,255)",
          "line": {
           "width": 0
          },
          "size": [
           0,
           0,
           1,
           0,
           0,
           0,
           1,
           0,
           1,
           0
          ],
          "sizemode": "area",
          "sizeref": 0.01,
          "symbol": "circle"
         },
         "mode": "markers",
         "name": "URSULLA",
         "type": "scatter",
         "uid": "c4e18276-fae4-11e8-b19a-e35ea5c620f6",
         "x": [
          "URSULLA",
          "URSULLA",
          "URSULLA",
          "URSULLA",
          "URSULLA",
          "URSULLA",
          "URSULLA",
          "URSULLA",
          "URSULLA",
          "URSULLA",
          "URSULLA"
         ],
         "y": [
          "Assign1",
          "Assign2",
          "Assign3",
          "Assign4",
          "Assign5",
          "Assign6",
          "Assign7",
          "Assign8",
          "Assign9",
          "Assign10"
         ]
        },
        {
         "marker": {
          "color": "rgb(255,126,24)",
          "line": {
           "width": 0
          },
          "size": [
           1,
           1,
           1,
           0,
           1,
           1,
           0,
           1,
           1,
           0
          ],
          "sizemode": "area",
          "sizeref": 0.01,
          "symbol": "circle"
         },
         "mode": "markers",
         "name": "ALMIRA",
         "type": "scatter",
         "uid": "c4e18316-fae4-11e8-b19a-e35ea5c620f6",
         "x": [
          "ALMIRA",
          "ALMIRA",
          "ALMIRA",
          "ALMIRA",
          "ALMIRA",
          "ALMIRA",
          "ALMIRA",
          "ALMIRA",
          "ALMIRA",
          "ALMIRA",
          "ALMIRA"
         ],
         "y": [
          "Assign1",
          "Assign2",
          "Assign3",
          "Assign4",
          "Assign5",
          "Assign6",
          "Assign7",
          "Assign8",
          "Assign9",
          "Assign10"
         ]
        },
        {
         "marker": {
          "color": "rgb(255,126,24)",
          "line": {
           "width": 0
          },
          "size": [
           1,
           0,
           1,
           0,
           0,
           1,
           1,
           1,
           0,
           1
          ],
          "sizemode": "area",
          "sizeref": 0.01,
          "symbol": "circle"
         },
         "mode": "markers",
         "name": "ANAZIRA",
         "type": "scatter",
         "uid": "c4e183ac-fae4-11e8-b19a-e35ea5c620f6",
         "x": [
          "ANAZIRA",
          "ANAZIRA",
          "ANAZIRA",
          "ANAZIRA",
          "ANAZIRA",
          "ANAZIRA",
          "ANAZIRA",
          "ANAZIRA",
          "ANAZIRA",
          "ANAZIRA",
          "ANAZIRA"
         ],
         "y": [
          "Assign1",
          "Assign2",
          "Assign3",
          "Assign4",
          "Assign5",
          "Assign6",
          "Assign7",
          "Assign8",
          "Assign9",
          "Assign10"
         ]
        },
        {
         "marker": {
          "color": "rgb(255,126,24)",
          "line": {
           "width": 0
          },
          "size": [
           0,
           0,
           1,
           1,
           0,
           0,
           1,
           1,
           1,
           0
          ],
          "sizemode": "area",
          "sizeref": 0.01,
          "symbol": "circle"
         },
         "mode": "markers",
         "name": "DAFINE",
         "type": "scatter",
         "uid": "c4e1844c-fae4-11e8-b19a-e35ea5c620f6",
         "x": [
          "DAFINE",
          "DAFINE",
          "DAFINE",
          "DAFINE",
          "DAFINE",
          "DAFINE",
          "DAFINE",
          "DAFINE",
          "DAFINE",
          "DAFINE",
          "DAFINE"
         ],
         "y": [
          "Assign1",
          "Assign2",
          "Assign3",
          "Assign4",
          "Assign5",
          "Assign6",
          "Assign7",
          "Assign8",
          "Assign9",
          "Assign10"
         ]
        },
        {
         "marker": {
          "color": "rgb(255,126,24)",
          "line": {
           "width": 0
          },
          "size": [
           0,
           1,
           0,
           1,
           1,
           1,
           1,
           0,
           0,
           1
          ],
          "sizemode": "area",
          "sizeref": 0.01,
          "symbol": "circle"
         },
         "mode": "markers",
         "name": "DILZA",
         "type": "scatter",
         "uid": "c4e184e2-fae4-11e8-b19a-e35ea5c620f6",
         "x": [
          "DILZA",
          "DILZA",
          "DILZA",
          "DILZA",
          "DILZA",
          "DILZA",
          "DILZA",
          "DILZA",
          "DILZA",
          "DILZA",
          "DILZA"
         ],
         "y": [
          "Assign1",
          "Assign2",
          "Assign3",
          "Assign4",
          "Assign5",
          "Assign6",
          "Assign7",
          "Assign8",
          "Assign9",
          "Assign10"
         ]
        },
        {
         "marker": {
          "color": "rgb(255,126,24)",
          "line": {
           "width": 0
          },
          "size": [
           0,
           1,
           1,
           0,
           1,
           0,
           1,
           1,
           1,
           1
          ],
          "sizemode": "area",
          "sizeref": 0.01,
          "symbol": "circle"
         },
         "mode": "markers",
         "name": "ELIDO",
         "type": "scatter",
         "uid": "c4e18578-fae4-11e8-b19a-e35ea5c620f6",
         "x": [
          "ELIDO",
          "ELIDO",
          "ELIDO",
          "ELIDO",
          "ELIDO",
          "ELIDO",
          "ELIDO",
          "ELIDO",
          "ELIDO",
          "ELIDO",
          "ELIDO"
         ],
         "y": [
          "Assign1",
          "Assign2",
          "Assign3",
          "Assign4",
          "Assign5",
          "Assign6",
          "Assign7",
          "Assign8",
          "Assign9",
          "Assign10"
         ]
        },
        {
         "marker": {
          "color": "rgb(255,126,24)",
          "line": {
           "width": 0
          },
          "size": [
           1,
           0,
           0,
           1,
           1,
           1,
           0,
           0,
           1,
           1
          ],
          "sizemode": "area",
          "sizeref": 0.01,
          "symbol": "circle"
         },
         "mode": "markers",
         "name": "ERILIO",
         "type": "scatter",
         "uid": "c4e18618-fae4-11e8-b19a-e35ea5c620f6",
         "x": [
          "ERILIO",
          "ERILIO",
          "ERILIO",
          "ERILIO",
          "ERILIO",
          "ERILIO",
          "ERILIO",
          "ERILIO",
          "ERILIO",
          "ERILIO",
          "ERILIO"
         ],
         "y": [
          "Assign1",
          "Assign2",
          "Assign3",
          "Assign4",
          "Assign5",
          "Assign6",
          "Assign7",
          "Assign8",
          "Assign9",
          "Assign10"
         ]
        },
        {
         "marker": {
          "color": "rgb(255,126,24)",
          "line": {
           "width": 0
          },
          "size": [
           1,
           0,
           1,
           0,
           0,
           0,
           1,
           1,
           1,
           0
          ],
          "sizemode": "area",
          "sizeref": 0.01,
          "symbol": "circle"
         },
         "mode": "markers",
         "name": "GIUSEPPE",
         "type": "scatter",
         "uid": "c4e186ae-fae4-11e8-b19a-e35ea5c620f6",
         "x": [
          "GIUSEPPE",
          "GIUSEPPE",
          "GIUSEPPE",
          "GIUSEPPE",
          "GIUSEPPE",
          "GIUSEPPE",
          "GIUSEPPE",
          "GIUSEPPE",
          "GIUSEPPE",
          "GIUSEPPE",
          "GIUSEPPE"
         ],
         "y": [
          "Assign1",
          "Assign2",
          "Assign3",
          "Assign4",
          "Assign5",
          "Assign6",
          "Assign7",
          "Assign8",
          "Assign9",
          "Assign10"
         ]
        },
        {
         "marker": {
          "color": "rgb(255,126,24)",
          "line": {
           "width": 0
          },
          "size": [
           0,
           0,
           1,
           1,
           1,
           1,
           0,
           0,
           0,
           0
          ],
          "sizemode": "area",
          "sizeref": 0.01,
          "symbol": "circle"
         },
         "mode": "markers",
         "name": "IDELMARIA",
         "type": "scatter",
         "uid": "c4e18758-fae4-11e8-b19a-e35ea5c620f6",
         "x": [
          "IDELMARIA",
          "IDELMARIA",
          "IDELMARIA",
          "IDELMARIA",
          "IDELMARIA",
          "IDELMARIA",
          "IDELMARIA",
          "IDELMARIA",
          "IDELMARIA",
          "IDELMARIA",
          "IDELMARIA"
         ],
         "y": [
          "Assign1",
          "Assign2",
          "Assign3",
          "Assign4",
          "Assign5",
          "Assign6",
          "Assign7",
          "Assign8",
          "Assign9",
          "Assign10"
         ]
        },
        {
         "marker": {
          "color": "rgb(255,126,24)",
          "line": {
           "width": 0
          },
          "size": [
           0,
           0,
           0,
           1,
           1,
           1,
           1,
           0,
           1,
           0
          ],
          "sizemode": "area",
          "sizeref": 0.01,
          "symbol": "circle"
         },
         "mode": "markers",
         "name": "ISABELI",
         "type": "scatter",
         "uid": "c4e187f8-fae4-11e8-b19a-e35ea5c620f6",
         "x": [
          "ISABELI",
          "ISABELI",
          "ISABELI",
          "ISABELI",
          "ISABELI",
          "ISABELI",
          "ISABELI",
          "ISABELI",
          "ISABELI",
          "ISABELI",
          "ISABELI"
         ],
         "y": [
          "Assign1",
          "Assign2",
          "Assign3",
          "Assign4",
          "Assign5",
          "Assign6",
          "Assign7",
          "Assign8",
          "Assign9",
          "Assign10"
         ]
        },
        {
         "marker": {
          "color": "rgb(255,126,24)",
          "line": {
           "width": 0
          },
          "size": [
           1,
           1,
           1,
           1,
           0,
           1,
           0,
           0,
           0,
           1
          ],
          "sizemode": "area",
          "sizeref": 0.01,
          "symbol": "circle"
         },
         "mode": "markers",
         "name": "IZILDA",
         "type": "scatter",
         "uid": "c4e18898-fae4-11e8-b19a-e35ea5c620f6",
         "x": [
          "IZILDA",
          "IZILDA",
          "IZILDA",
          "IZILDA",
          "IZILDA",
          "IZILDA",
          "IZILDA",
          "IZILDA",
          "IZILDA",
          "IZILDA",
          "IZILDA"
         ],
         "y": [
          "Assign1",
          "Assign2",
          "Assign3",
          "Assign4",
          "Assign5",
          "Assign6",
          "Assign7",
          "Assign8",
          "Assign9",
          "Assign10"
         ]
        },
        {
         "marker": {
          "color": "rgb(255,126,24)",
          "line": {
           "width": 0
          },
          "size": [
           0,
           0,
           1,
           1,
           0,
           1,
           0,
           0,
           1,
           1
          ],
          "sizemode": "area",
          "sizeref": 0.01,
          "symbol": "circle"
         },
         "mode": "markers",
         "name": "JOCIQUELE",
         "type": "scatter",
         "uid": "c4e18938-fae4-11e8-b19a-e35ea5c620f6",
         "x": [
          "JOCIQUELE",
          "JOCIQUELE",
          "JOCIQUELE",
          "JOCIQUELE",
          "JOCIQUELE",
          "JOCIQUELE",
          "JOCIQUELE",
          "JOCIQUELE",
          "JOCIQUELE",
          "JOCIQUELE",
          "JOCIQUELE"
         ],
         "y": [
          "Assign1",
          "Assign2",
          "Assign3",
          "Assign4",
          "Assign5",
          "Assign6",
          "Assign7",
          "Assign8",
          "Assign9",
          "Assign10"
         ]
        },
        {
         "marker": {
          "color": "rgb(255,126,24)",
          "line": {
           "width": 0
          },
          "size": [
           1,
           0,
           0,
           0,
           1,
           1,
           1,
           1,
           1,
           1
          ],
          "sizemode": "area",
          "sizeref": 0.01,
          "symbol": "circle"
         },
         "mode": "markers",
         "name": "KARIANY",
         "type": "scatter",
         "uid": "c4e189d8-fae4-11e8-b19a-e35ea5c620f6",
         "x": [
          "KARIANY",
          "KARIANY",
          "KARIANY",
          "KARIANY",
          "KARIANY",
          "KARIANY",
          "KARIANY",
          "KARIANY",
          "KARIANY",
          "KARIANY",
          "KARIANY"
         ],
         "y": [
          "Assign1",
          "Assign2",
          "Assign3",
          "Assign4",
          "Assign5",
          "Assign6",
          "Assign7",
          "Assign8",
          "Assign9",
          "Assign10"
         ]
        },
        {
         "marker": {
          "color": "rgb(255,126,24)",
          "line": {
           "width": 0
          },
          "size": [
           1,
           1,
           1,
           0,
           1,
           1,
           0,
           1,
           0,
           1
          ],
          "sizemode": "area",
          "sizeref": 0.01,
          "symbol": "circle"
         },
         "mode": "markers",
         "name": "MESSODY",
         "type": "scatter",
         "uid": "c4e18a78-fae4-11e8-b19a-e35ea5c620f6",
         "x": [
          "MESSODY",
          "MESSODY",
          "MESSODY",
          "MESSODY",
          "MESSODY",
          "MESSODY",
          "MESSODY",
          "MESSODY",
          "MESSODY",
          "MESSODY",
          "MESSODY"
         ],
         "y": [
          "Assign1",
          "Assign2",
          "Assign3",
          "Assign4",
          "Assign5",
          "Assign6",
          "Assign7",
          "Assign8",
          "Assign9",
          "Assign10"
         ]
        },
        {
         "marker": {
          "color": "rgb(255,126,24)",
          "line": {
           "width": 0
          },
          "size": [
           1,
           1,
           1,
           1,
           1,
           1,
           0,
           1,
           0,
           1
          ],
          "sizemode": "area",
          "sizeref": 0.01,
          "symbol": "circle"
         },
         "mode": "markers",
         "name": "NARIELE",
         "type": "scatter",
         "uid": "c4e18b18-fae4-11e8-b19a-e35ea5c620f6",
         "x": [
          "NARIELE",
          "NARIELE",
          "NARIELE",
          "NARIELE",
          "NARIELE",
          "NARIELE",
          "NARIELE",
          "NARIELE",
          "NARIELE",
          "NARIELE",
          "NARIELE"
         ],
         "y": [
          "Assign1",
          "Assign2",
          "Assign3",
          "Assign4",
          "Assign5",
          "Assign6",
          "Assign7",
          "Assign8",
          "Assign9",
          "Assign10"
         ]
        },
        {
         "marker": {
          "color": "rgb(255,126,24)",
          "line": {
           "width": 0
          },
          "size": [
           0,
           1,
           0,
           0,
           1,
           0,
           1,
           1,
           1,
           0
          ],
          "sizemode": "area",
          "sizeref": 0.01,
          "symbol": "circle"
         },
         "mode": "markers",
         "name": "OTO",
         "type": "scatter",
         "uid": "c4e18bae-fae4-11e8-b19a-e35ea5c620f6",
         "x": [
          "OTO",
          "OTO",
          "OTO",
          "OTO",
          "OTO",
          "OTO",
          "OTO",
          "OTO",
          "OTO",
          "OTO",
          "OTO"
         ],
         "y": [
          "Assign1",
          "Assign2",
          "Assign3",
          "Assign4",
          "Assign5",
          "Assign6",
          "Assign7",
          "Assign8",
          "Assign9",
          "Assign10"
         ]
        },
        {
         "marker": {
          "color": "rgb(255,126,24)",
          "line": {
           "width": 0
          },
          "size": [
           1,
           0,
           1,
           0,
           1,
           0,
           1,
           1,
           0,
           1
          ],
          "sizemode": "area",
          "sizeref": 0.01,
          "symbol": "circle"
         },
         "mode": "markers",
         "name": "ROSALHA",
         "type": "scatter",
         "uid": "c4e18c4e-fae4-11e8-b19a-e35ea5c620f6",
         "x": [
          "ROSALHA",
          "ROSALHA",
          "ROSALHA",
          "ROSALHA",
          "ROSALHA",
          "ROSALHA",
          "ROSALHA",
          "ROSALHA",
          "ROSALHA",
          "ROSALHA",
          "ROSALHA"
         ],
         "y": [
          "Assign1",
          "Assign2",
          "Assign3",
          "Assign4",
          "Assign5",
          "Assign6",
          "Assign7",
          "Assign8",
          "Assign9",
          "Assign10"
         ]
        },
        {
         "marker": {
          "color": "rgb(255,126,24)",
          "line": {
           "width": 0
          },
          "size": [
           1,
           1,
           0,
           1,
           0,
           1,
           0,
           0,
           1,
           1
          ],
          "sizemode": "area",
          "sizeref": 0.01,
          "symbol": "circle"
         },
         "mode": "markers",
         "name": "SELESTRINO",
         "type": "scatter",
         "uid": "c4e18cee-fae4-11e8-b19a-e35ea5c620f6",
         "x": [
          "SELESTRINO",
          "SELESTRINO",
          "SELESTRINO",
          "SELESTRINO",
          "SELESTRINO",
          "SELESTRINO",
          "SELESTRINO",
          "SELESTRINO",
          "SELESTRINO",
          "SELESTRINO",
          "SELESTRINO"
         ],
         "y": [
          "Assign1",
          "Assign2",
          "Assign3",
          "Assign4",
          "Assign5",
          "Assign6",
          "Assign7",
          "Assign8",
          "Assign9",
          "Assign10"
         ]
        },
        {
         "marker": {
          "color": "rgb(255,126,24)",
          "line": {
           "width": 0
          },
          "size": [
           0,
           1,
           1,
           0,
           1,
           1,
           0,
           1,
           1,
           1
          ],
          "sizemode": "area",
          "sizeref": 0.01,
          "symbol": "circle"
         },
         "mode": "markers",
         "name": "TIARA",
         "type": "scatter",
         "uid": "c4e18d84-fae4-11e8-b19a-e35ea5c620f6",
         "x": [
          "TIARA",
          "TIARA",
          "TIARA",
          "TIARA",
          "TIARA",
          "TIARA",
          "TIARA",
          "TIARA",
          "TIARA",
          "TIARA",
          "TIARA"
         ],
         "y": [
          "Assign1",
          "Assign2",
          "Assign3",
          "Assign4",
          "Assign5",
          "Assign6",
          "Assign7",
          "Assign8",
          "Assign9",
          "Assign10"
         ]
        },
        {
         "marker": {
          "color": "rgb(255,126,24)",
          "line": {
           "width": 0
          },
          "size": [
           0,
           0,
           0,
           0,
           1,
           0,
           1,
           0,
           0,
           1
          ],
          "sizemode": "area",
          "sizeref": 0.01,
          "symbol": "circle"
         },
         "mode": "markers",
         "name": "UDILSON",
         "type": "scatter",
         "uid": "c4e18e1a-fae4-11e8-b19a-e35ea5c620f6",
         "x": [
          "UDILSON",
          "UDILSON",
          "UDILSON",
          "UDILSON",
          "UDILSON",
          "UDILSON",
          "UDILSON",
          "UDILSON",
          "UDILSON",
          "UDILSON",
          "UDILSON"
         ],
         "y": [
          "Assign1",
          "Assign2",
          "Assign3",
          "Assign4",
          "Assign5",
          "Assign6",
          "Assign7",
          "Assign8",
          "Assign9",
          "Assign10"
         ]
        },
        {
         "marker": {
          "color": "rgb(255,126,24)",
          "line": {
           "width": 0
          },
          "size": [
           1,
           1,
           0,
           1,
           1,
           1,
           0,
           1,
           0,
           1
          ],
          "sizemode": "area",
          "sizeref": 0.01,
          "symbol": "circle"
         },
         "mode": "markers",
         "name": "URSULLA",
         "type": "scatter",
         "uid": "c4e18eb0-fae4-11e8-b19a-e35ea5c620f6",
         "x": [
          "URSULLA",
          "URSULLA",
          "URSULLA",
          "URSULLA",
          "URSULLA",
          "URSULLA",
          "URSULLA",
          "URSULLA",
          "URSULLA",
          "URSULLA",
          "URSULLA"
         ],
         "y": [
          "Assign1",
          "Assign2",
          "Assign3",
          "Assign4",
          "Assign5",
          "Assign6",
          "Assign7",
          "Assign8",
          "Assign9",
          "Assign10"
         ]
        }
       ],
       "layout": {
        "hovermode": "closest",
        "showlegend": false,
        "title": "Atividades feitas e <b>não</b> feitas por estudante",
        "xaxis": {
         "autorange": false,
         "fixedrange": false,
         "range": [
          -1,
          20
         ],
         "rangemode": "normal",
         "showline": true,
         "title": "",
         "titlefont": {
          "color": "rgb(180,180,180)"
         },
         "type": "category"
        },
        "yaxis": {
         "autorange": false,
         "fixedrange": false,
         "range": [
          -1,
          10
         ],
         "rangemode": "normal",
         "showline": true,
         "title": "",
         "titlefont": {
          "color": "rgb(180,180,180)"
         },
         "type": "category"
        }
       }
      },
      "text/html": [
       "<div id=\"62dd0941-10fd-46d4-93b0-cff902db9935\" style=\"height: 525px; width: 100%;\" class=\"plotly-graph-div\"></div><script type=\"text/javascript\">require([\"plotly\"], function(Plotly) { window.PLOTLYENV=window.PLOTLYENV || {};window.PLOTLYENV.BASE_URL=\"https://plot.ly\";Plotly.newPlot(\"62dd0941-10fd-46d4-93b0-cff902db9935\", [{\"marker\": {\"color\": \"rgb(0,0,255)\", \"line\": {\"width\": 0}, \"size\": [0, 0, 0, 1, 0, 0, 1, 0, 0, 1], \"sizemode\": \"area\", \"sizeref\": 0.01, \"symbol\": \"circle\"}, \"mode\": \"markers\", \"name\": \"ALMIRA\", \"x\": [\"ALMIRA\", \"ALMIRA\", \"ALMIRA\", \"ALMIRA\", \"ALMIRA\", \"ALMIRA\", \"ALMIRA\", \"ALMIRA\", \"ALMIRA\", \"ALMIRA\", \"ALMIRA\"], \"y\": [\"Assign1\", \"Assign2\", \"Assign3\", \"Assign4\", \"Assign5\", \"Assign6\", \"Assign7\", \"Assign8\", \"Assign9\", \"Assign10\"], \"type\": \"scatter\", \"uid\": \"c4e17560-fae4-11e8-b19a-e35ea5c620f6\"}, {\"marker\": {\"color\": \"rgb(0,0,255)\", \"line\": {\"width\": 0}, \"size\": [0, 1, 0, 1, 1, 0, 0, 0, 1, 0], \"sizemode\": \"area\", \"sizeref\": 0.01, \"symbol\": \"circle\"}, \"mode\": \"markers\", \"name\": \"ANAZIRA\", \"x\": [\"ANAZIRA\", \"ANAZIRA\", \"ANAZIRA\", \"ANAZIRA\", \"ANAZIRA\", \"ANAZIRA\", \"ANAZIRA\", \"ANAZIRA\", \"ANAZIRA\", \"ANAZIRA\", \"ANAZIRA\"], \"y\": [\"Assign1\", \"Assign2\", \"Assign3\", \"Assign4\", \"Assign5\", \"Assign6\", \"Assign7\", \"Assign8\", \"Assign9\", \"Assign10\"], \"type\": \"scatter\", \"uid\": \"c4e17754-fae4-11e8-b19a-e35ea5c620f6\"}, {\"marker\": {\"color\": \"rgb(0,0,255)\", \"line\": {\"width\": 0}, \"size\": [1, 1, 0, 0, 1, 1, 0, 0, 0, 1], \"sizemode\": \"area\", \"sizeref\": 0.01, \"symbol\": \"circle\"}, \"mode\": \"markers\", \"name\": \"DAFINE\", \"x\": [\"DAFINE\", \"DAFINE\", \"DAFINE\", \"DAFINE\", \"DAFINE\", \"DAFINE\", \"DAFINE\", \"DAFINE\", \"DAFINE\", \"DAFINE\", \"DAFINE\"], \"y\": [\"Assign1\", \"Assign2\", \"Assign3\", \"Assign4\", \"Assign5\", \"Assign6\", \"Assign7\", \"Assign8\", \"Assign9\", \"Assign10\"], \"type\": \"scatter\", \"uid\": \"c4e1783a-fae4-11e8-b19a-e35ea5c620f6\"}, {\"marker\": {\"color\": \"rgb(0,0,255)\", \"line\": {\"width\": 0}, \"size\": [1, 0, 1, 0, 0, 0, 0, 1, 1, 0], \"sizemode\": \"area\", \"sizeref\": 0.01, \"symbol\": \"circle\"}, \"mode\": \"markers\", \"name\": \"DILZA\", \"x\": [\"DILZA\", \"DILZA\", \"DILZA\", \"DILZA\", \"DILZA\", \"DILZA\", \"DILZA\", \"DILZA\", \"DILZA\", \"DILZA\", \"DILZA\"], \"y\": [\"Assign1\", \"Assign2\", \"Assign3\", \"Assign4\", \"Assign5\", \"Assign6\", \"Assign7\", \"Assign8\", \"Assign9\", \"Assign10\"], \"type\": \"scatter\", \"uid\": \"c4e178e4-fae4-11e8-b19a-e35ea5c620f6\"}, {\"marker\": {\"color\": \"rgb(0,0,255)\", \"line\": {\"width\": 0}, \"size\": [1, 0, 0, 1, 0, 1, 0, 0, 0, 0], \"sizemode\": \"area\", \"sizeref\": 0.01, \"symbol\": \"circle\"}, \"mode\": \"markers\", \"name\": \"ELIDO\", \"x\": [\"ELIDO\", \"ELIDO\", \"ELIDO\", \"ELIDO\", \"ELIDO\", \"ELIDO\", \"ELIDO\", \"ELIDO\", \"ELIDO\", \"ELIDO\", \"ELIDO\"], \"y\": [\"Assign1\", \"Assign2\", \"Assign3\", \"Assign4\", \"Assign5\", \"Assign6\", \"Assign7\", \"Assign8\", \"Assign9\", \"Assign10\"], \"type\": \"scatter\", \"uid\": \"c4e1797a-fae4-11e8-b19a-e35ea5c620f6\"}, {\"marker\": {\"color\": \"rgb(0,0,255)\", \"line\": {\"width\": 0}, \"size\": [0, 1, 1, 0, 0, 0, 1, 1, 0, 0], \"sizemode\": \"area\", \"sizeref\": 0.01, \"symbol\": \"circle\"}, \"mode\": \"markers\", \"name\": \"ERILIO\", \"x\": [\"ERILIO\", \"ERILIO\", \"ERILIO\", \"ERILIO\", \"ERILIO\", \"ERILIO\", \"ERILIO\", \"ERILIO\", \"ERILIO\", \"ERILIO\", \"ERILIO\"], \"y\": [\"Assign1\", \"Assign2\", \"Assign3\", \"Assign4\", \"Assign5\", \"Assign6\", \"Assign7\", \"Assign8\", \"Assign9\", \"Assign10\"], \"type\": \"scatter\", \"uid\": \"c4e17a24-fae4-11e8-b19a-e35ea5c620f6\"}, {\"marker\": {\"color\": \"rgb(0,0,255)\", \"line\": {\"width\": 0}, \"size\": [0, 1, 0, 1, 1, 1, 0, 0, 0, 1], \"sizemode\": \"area\", \"sizeref\": 0.01, \"symbol\": \"circle\"}, \"mode\": \"markers\", \"name\": \"GIUSEPPE\", \"x\": [\"GIUSEPPE\", \"GIUSEPPE\", \"GIUSEPPE\", \"GIUSEPPE\", \"GIUSEPPE\", \"GIUSEPPE\", \"GIUSEPPE\", \"GIUSEPPE\", \"GIUSEPPE\", \"GIUSEPPE\", \"GIUSEPPE\"], \"y\": [\"Assign1\", \"Assign2\", \"Assign3\", \"Assign4\", \"Assign5\", \"Assign6\", \"Assign7\", \"Assign8\", \"Assign9\", \"Assign10\"], \"type\": \"scatter\", \"uid\": \"c4e17aba-fae4-11e8-b19a-e35ea5c620f6\"}, {\"marker\": {\"color\": \"rgb(0,0,255)\", \"line\": {\"width\": 0}, \"size\": [1, 1, 0, 0, 0, 0, 1, 1, 1, 1], \"sizemode\": \"area\", \"sizeref\": 0.01, \"symbol\": \"circle\"}, \"mode\": \"markers\", \"name\": \"IDELMARIA\", \"x\": [\"IDELMARIA\", \"IDELMARIA\", \"IDELMARIA\", \"IDELMARIA\", \"IDELMARIA\", \"IDELMARIA\", \"IDELMARIA\", \"IDELMARIA\", \"IDELMARIA\", \"IDELMARIA\", \"IDELMARIA\"], \"y\": [\"Assign1\", \"Assign2\", \"Assign3\", \"Assign4\", \"Assign5\", \"Assign6\", \"Assign7\", \"Assign8\", \"Assign9\", \"Assign10\"], \"type\": \"scatter\", \"uid\": \"c4e17b50-fae4-11e8-b19a-e35ea5c620f6\"}, {\"marker\": {\"color\": \"rgb(0,0,255)\", \"line\": {\"width\": 0}, \"size\": [1, 1, 1, 0, 0, 0, 0, 1, 0, 1], \"sizemode\": \"area\", \"sizeref\": 0.01, \"symbol\": \"circle\"}, \"mode\": \"markers\", \"name\": \"ISABELI\", \"x\": [\"ISABELI\", \"ISABELI\", \"ISABELI\", \"ISABELI\", \"ISABELI\", \"ISABELI\", \"ISABELI\", \"ISABELI\", \"ISABELI\", \"ISABELI\", \"ISABELI\"], \"y\": [\"Assign1\", \"Assign2\", \"Assign3\", \"Assign4\", \"Assign5\", \"Assign6\", \"Assign7\", \"Assign8\", \"Assign9\", \"Assign10\"], \"type\": \"scatter\", \"uid\": \"c4e17bdc-fae4-11e8-b19a-e35ea5c620f6\"}, {\"marker\": {\"color\": \"rgb(0,0,255)\", \"line\": {\"width\": 0}, \"size\": [0, 0, 0, 0, 1, 0, 1, 1, 1, 0], \"sizemode\": \"area\", \"sizeref\": 0.01, \"symbol\": \"circle\"}, \"mode\": \"markers\", \"name\": \"IZILDA\", \"x\": [\"IZILDA\", \"IZILDA\", \"IZILDA\", \"IZILDA\", \"IZILDA\", \"IZILDA\", \"IZILDA\", \"IZILDA\", \"IZILDA\", \"IZILDA\", \"IZILDA\"], \"y\": [\"Assign1\", \"Assign2\", \"Assign3\", \"Assign4\", \"Assign5\", \"Assign6\", \"Assign7\", \"Assign8\", \"Assign9\", \"Assign10\"], \"type\": \"scatter\", \"uid\": \"c4e17c68-fae4-11e8-b19a-e35ea5c620f6\"}, {\"marker\": {\"color\": \"rgb(0,0,255)\", \"line\": {\"width\": 0}, \"size\": [1, 1, 0, 0, 1, 0, 1, 1, 0, 0], \"sizemode\": \"area\", \"sizeref\": 0.01, \"symbol\": \"circle\"}, \"mode\": \"markers\", \"name\": \"JOCIQUELE\", \"x\": [\"JOCIQUELE\", \"JOCIQUELE\", \"JOCIQUELE\", \"JOCIQUELE\", \"JOCIQUELE\", \"JOCIQUELE\", \"JOCIQUELE\", \"JOCIQUELE\", \"JOCIQUELE\", \"JOCIQUELE\", \"JOCIQUELE\"], \"y\": [\"Assign1\", \"Assign2\", \"Assign3\", \"Assign4\", \"Assign5\", \"Assign6\", \"Assign7\", \"Assign8\", \"Assign9\", \"Assign10\"], \"type\": \"scatter\", \"uid\": \"c4e17cfe-fae4-11e8-b19a-e35ea5c620f6\"}, {\"marker\": {\"color\": \"rgb(0,0,255)\", \"line\": {\"width\": 0}, \"size\": [0, 1, 1, 1, 0, 0, 0, 0, 0, 0], \"sizemode\": \"area\", \"sizeref\": 0.01, \"symbol\": \"circle\"}, \"mode\": \"markers\", \"name\": \"KARIANY\", \"x\": [\"KARIANY\", \"KARIANY\", \"KARIANY\", \"KARIANY\", \"KARIANY\", \"KARIANY\", \"KARIANY\", \"KARIANY\", \"KARIANY\", \"KARIANY\", \"KARIANY\"], \"y\": [\"Assign1\", \"Assign2\", \"Assign3\", \"Assign4\", \"Assign5\", \"Assign6\", \"Assign7\", \"Assign8\", \"Assign9\", \"Assign10\"], \"type\": \"scatter\", \"uid\": \"c4e17d9e-fae4-11e8-b19a-e35ea5c620f6\"}, {\"marker\": {\"color\": \"rgb(0,0,255)\", \"line\": {\"width\": 0}, \"size\": [0, 0, 0, 1, 0, 0, 1, 0, 1, 0], \"sizemode\": \"area\", \"sizeref\": 0.01, \"symbol\": \"circle\"}, \"mode\": \"markers\", \"name\": \"MESSODY\", \"x\": [\"MESSODY\", \"MESSODY\", \"MESSODY\", \"MESSODY\", \"MESSODY\", \"MESSODY\", \"MESSODY\", \"MESSODY\", \"MESSODY\", \"MESSODY\", \"MESSODY\"], \"y\": [\"Assign1\", \"Assign2\", \"Assign3\", \"Assign4\", \"Assign5\", \"Assign6\", \"Assign7\", \"Assign8\", \"Assign9\", \"Assign10\"], \"type\": \"scatter\", \"uid\": \"c4e17e3e-fae4-11e8-b19a-e35ea5c620f6\"}, {\"marker\": {\"color\": \"rgb(0,0,255)\", \"line\": {\"width\": 0}, \"size\": [0, 0, 0, 0, 0, 0, 1, 0, 1, 0], \"sizemode\": \"area\", \"sizeref\": 0.01, \"symbol\": \"circle\"}, \"mode\": \"markers\", \"name\": \"NARIELE\", \"x\": [\"NARIELE\", \"NARIELE\", \"NARIELE\", \"NARIELE\", \"NARIELE\", \"NARIELE\", \"NARIELE\", \"NARIELE\", \"NARIELE\", \"NARIELE\", \"NARIELE\"], \"y\": [\"Assign1\", \"Assign2\", \"Assign3\", \"Assign4\", \"Assign5\", \"Assign6\", \"Assign7\", \"Assign8\", \"Assign9\", \"Assign10\"], \"type\": \"scatter\", \"uid\": \"c4e17ed4-fae4-11e8-b19a-e35ea5c620f6\"}, {\"marker\": {\"color\": \"rgb(0,0,255)\", \"line\": {\"width\": 0}, \"size\": [1, 0, 1, 1, 0, 1, 0, 0, 0, 1], \"sizemode\": \"area\", \"sizeref\": 0.01, \"symbol\": \"circle\"}, \"mode\": \"markers\", \"name\": \"OTO\", \"x\": [\"OTO\", \"OTO\", \"OTO\", \"OTO\", \"OTO\", \"OTO\", \"OTO\", \"OTO\", \"OTO\", \"OTO\", \"OTO\"], \"y\": [\"Assign1\", \"Assign2\", \"Assign3\", \"Assign4\", \"Assign5\", \"Assign6\", \"Assign7\", \"Assign8\", \"Assign9\", \"Assign10\"], \"type\": \"scatter\", \"uid\": \"c4e17f74-fae4-11e8-b19a-e35ea5c620f6\"}, {\"marker\": {\"color\": \"rgb(0,0,255)\", \"line\": {\"width\": 0}, \"size\": [0, 1, 0, 1, 0, 1, 0, 0, 1, 0], \"sizemode\": \"area\", \"sizeref\": 0.01, \"symbol\": \"circle\"}, \"mode\": \"markers\", \"name\": \"ROSALHA\", \"x\": [\"ROSALHA\", \"ROSALHA\", \"ROSALHA\", \"ROSALHA\", \"ROSALHA\", \"ROSALHA\", \"ROSALHA\", \"ROSALHA\", \"ROSALHA\", \"ROSALHA\", \"ROSALHA\"], \"y\": [\"Assign1\", \"Assign2\", \"Assign3\", \"Assign4\", \"Assign5\", \"Assign6\", \"Assign7\", \"Assign8\", \"Assign9\", \"Assign10\"], \"type\": \"scatter\", \"uid\": \"c4e1800a-fae4-11e8-b19a-e35ea5c620f6\"}, {\"marker\": {\"color\": \"rgb(0,0,255)\", \"line\": {\"width\": 0}, \"size\": [0, 0, 1, 0, 1, 0, 1, 1, 0, 0], \"sizemode\": \"area\", \"sizeref\": 0.01, \"symbol\": \"circle\"}, \"mode\": \"markers\", \"name\": \"SELESTRINO\", \"x\": [\"SELESTRINO\", \"SELESTRINO\", \"SELESTRINO\", \"SELESTRINO\", \"SELESTRINO\", \"SELESTRINO\", \"SELESTRINO\", \"SELESTRINO\", \"SELESTRINO\", \"SELESTRINO\", \"SELESTRINO\"], \"y\": [\"Assign1\", \"Assign2\", \"Assign3\", \"Assign4\", \"Assign5\", \"Assign6\", \"Assign7\", \"Assign8\", \"Assign9\", \"Assign10\"], \"type\": \"scatter\", \"uid\": \"c4e180aa-fae4-11e8-b19a-e35ea5c620f6\"}, {\"marker\": {\"color\": \"rgb(0,0,255)\", \"line\": {\"width\": 0}, \"size\": [1, 0, 0, 1, 0, 0, 1, 0, 0, 0], \"sizemode\": \"area\", \"sizeref\": 0.01, \"symbol\": \"circle\"}, \"mode\": \"markers\", \"name\": \"TIARA\", \"x\": [\"TIARA\", \"TIARA\", \"TIARA\", \"TIARA\", \"TIARA\", \"TIARA\", \"TIARA\", \"TIARA\", \"TIARA\", \"TIARA\", \"TIARA\"], \"y\": [\"Assign1\", \"Assign2\", \"Assign3\", \"Assign4\", \"Assign5\", \"Assign6\", \"Assign7\", \"Assign8\", \"Assign9\", \"Assign10\"], \"type\": \"scatter\", \"uid\": \"c4e18140-fae4-11e8-b19a-e35ea5c620f6\"}, {\"marker\": {\"color\": \"rgb(0,0,255)\", \"line\": {\"width\": 0}, \"size\": [1, 1, 1, 1, 0, 1, 0, 1, 1, 0], \"sizemode\": \"area\", \"sizeref\": 0.01, \"symbol\": \"circle\"}, \"mode\": \"markers\", \"name\": \"UDILSON\", \"x\": [\"UDILSON\", \"UDILSON\", \"UDILSON\", \"UDILSON\", \"UDILSON\", \"UDILSON\", \"UDILSON\", \"UDILSON\", \"UDILSON\", \"UDILSON\", \"UDILSON\"], \"y\": [\"Assign1\", \"Assign2\", \"Assign3\", \"Assign4\", \"Assign5\", \"Assign6\", \"Assign7\", \"Assign8\", \"Assign9\", \"Assign10\"], \"type\": \"scatter\", \"uid\": \"c4e181e0-fae4-11e8-b19a-e35ea5c620f6\"}, {\"marker\": {\"color\": \"rgb(0,0,255)\", \"line\": {\"width\": 0}, \"size\": [0, 0, 1, 0, 0, 0, 1, 0, 1, 0], \"sizemode\": \"area\", \"sizeref\": 0.01, \"symbol\": \"circle\"}, \"mode\": \"markers\", \"name\": \"URSULLA\", \"x\": [\"URSULLA\", \"URSULLA\", \"URSULLA\", \"URSULLA\", \"URSULLA\", \"URSULLA\", \"URSULLA\", \"URSULLA\", \"URSULLA\", \"URSULLA\", \"URSULLA\"], \"y\": [\"Assign1\", \"Assign2\", \"Assign3\", \"Assign4\", \"Assign5\", \"Assign6\", \"Assign7\", \"Assign8\", \"Assign9\", \"Assign10\"], \"type\": \"scatter\", \"uid\": \"c4e18276-fae4-11e8-b19a-e35ea5c620f6\"}, {\"marker\": {\"color\": \"rgb(255,126,24)\", \"line\": {\"width\": 0}, \"size\": [1, 1, 1, 0, 1, 1, 0, 1, 1, 0], \"sizemode\": \"area\", \"sizeref\": 0.01, \"symbol\": \"circle\"}, \"mode\": \"markers\", \"name\": \"ALMIRA\", \"x\": [\"ALMIRA\", \"ALMIRA\", \"ALMIRA\", \"ALMIRA\", \"ALMIRA\", \"ALMIRA\", \"ALMIRA\", \"ALMIRA\", \"ALMIRA\", \"ALMIRA\", \"ALMIRA\"], \"y\": [\"Assign1\", \"Assign2\", \"Assign3\", \"Assign4\", \"Assign5\", \"Assign6\", \"Assign7\", \"Assign8\", \"Assign9\", \"Assign10\"], \"type\": \"scatter\", \"uid\": \"c4e18316-fae4-11e8-b19a-e35ea5c620f6\"}, {\"marker\": {\"color\": \"rgb(255,126,24)\", \"line\": {\"width\": 0}, \"size\": [1, 0, 1, 0, 0, 1, 1, 1, 0, 1], \"sizemode\": \"area\", \"sizeref\": 0.01, \"symbol\": \"circle\"}, \"mode\": \"markers\", \"name\": \"ANAZIRA\", \"x\": [\"ANAZIRA\", \"ANAZIRA\", \"ANAZIRA\", \"ANAZIRA\", \"ANAZIRA\", \"ANAZIRA\", \"ANAZIRA\", \"ANAZIRA\", \"ANAZIRA\", \"ANAZIRA\", \"ANAZIRA\"], \"y\": [\"Assign1\", \"Assign2\", \"Assign3\", \"Assign4\", \"Assign5\", \"Assign6\", \"Assign7\", \"Assign8\", \"Assign9\", \"Assign10\"], \"type\": \"scatter\", \"uid\": \"c4e183ac-fae4-11e8-b19a-e35ea5c620f6\"}, {\"marker\": {\"color\": \"rgb(255,126,24)\", \"line\": {\"width\": 0}, \"size\": [0, 0, 1, 1, 0, 0, 1, 1, 1, 0], \"sizemode\": \"area\", \"sizeref\": 0.01, \"symbol\": \"circle\"}, \"mode\": \"markers\", \"name\": \"DAFINE\", \"x\": [\"DAFINE\", \"DAFINE\", \"DAFINE\", \"DAFINE\", \"DAFINE\", \"DAFINE\", \"DAFINE\", \"DAFINE\", \"DAFINE\", \"DAFINE\", \"DAFINE\"], \"y\": [\"Assign1\", \"Assign2\", \"Assign3\", \"Assign4\", \"Assign5\", \"Assign6\", \"Assign7\", \"Assign8\", \"Assign9\", \"Assign10\"], \"type\": \"scatter\", \"uid\": \"c4e1844c-fae4-11e8-b19a-e35ea5c620f6\"}, {\"marker\": {\"color\": \"rgb(255,126,24)\", \"line\": {\"width\": 0}, \"size\": [0, 1, 0, 1, 1, 1, 1, 0, 0, 1], \"sizemode\": \"area\", \"sizeref\": 0.01, \"symbol\": \"circle\"}, \"mode\": \"markers\", \"name\": \"DILZA\", \"x\": [\"DILZA\", \"DILZA\", \"DILZA\", \"DILZA\", \"DILZA\", \"DILZA\", \"DILZA\", \"DILZA\", \"DILZA\", \"DILZA\", \"DILZA\"], \"y\": [\"Assign1\", \"Assign2\", \"Assign3\", \"Assign4\", \"Assign5\", \"Assign6\", \"Assign7\", \"Assign8\", \"Assign9\", \"Assign10\"], \"type\": \"scatter\", \"uid\": \"c4e184e2-fae4-11e8-b19a-e35ea5c620f6\"}, {\"marker\": {\"color\": \"rgb(255,126,24)\", \"line\": {\"width\": 0}, \"size\": [0, 1, 1, 0, 1, 0, 1, 1, 1, 1], \"sizemode\": \"area\", \"sizeref\": 0.01, \"symbol\": \"circle\"}, \"mode\": \"markers\", \"name\": \"ELIDO\", \"x\": [\"ELIDO\", \"ELIDO\", \"ELIDO\", \"ELIDO\", \"ELIDO\", \"ELIDO\", \"ELIDO\", \"ELIDO\", \"ELIDO\", \"ELIDO\", \"ELIDO\"], \"y\": [\"Assign1\", \"Assign2\", \"Assign3\", \"Assign4\", \"Assign5\", \"Assign6\", \"Assign7\", \"Assign8\", \"Assign9\", \"Assign10\"], \"type\": \"scatter\", \"uid\": \"c4e18578-fae4-11e8-b19a-e35ea5c620f6\"}, {\"marker\": {\"color\": \"rgb(255,126,24)\", \"line\": {\"width\": 0}, \"size\": [1, 0, 0, 1, 1, 1, 0, 0, 1, 1], \"sizemode\": \"area\", \"sizeref\": 0.01, \"symbol\": \"circle\"}, \"mode\": \"markers\", \"name\": \"ERILIO\", \"x\": [\"ERILIO\", \"ERILIO\", \"ERILIO\", \"ERILIO\", \"ERILIO\", \"ERILIO\", \"ERILIO\", \"ERILIO\", \"ERILIO\", \"ERILIO\", \"ERILIO\"], \"y\": [\"Assign1\", \"Assign2\", \"Assign3\", \"Assign4\", \"Assign5\", \"Assign6\", \"Assign7\", \"Assign8\", \"Assign9\", \"Assign10\"], \"type\": \"scatter\", \"uid\": \"c4e18618-fae4-11e8-b19a-e35ea5c620f6\"}, {\"marker\": {\"color\": \"rgb(255,126,24)\", \"line\": {\"width\": 0}, \"size\": [1, 0, 1, 0, 0, 0, 1, 1, 1, 0], \"sizemode\": \"area\", \"sizeref\": 0.01, \"symbol\": \"circle\"}, \"mode\": \"markers\", \"name\": \"GIUSEPPE\", \"x\": [\"GIUSEPPE\", \"GIUSEPPE\", \"GIUSEPPE\", \"GIUSEPPE\", \"GIUSEPPE\", \"GIUSEPPE\", \"GIUSEPPE\", \"GIUSEPPE\", \"GIUSEPPE\", \"GIUSEPPE\", \"GIUSEPPE\"], \"y\": [\"Assign1\", \"Assign2\", \"Assign3\", \"Assign4\", \"Assign5\", \"Assign6\", \"Assign7\", \"Assign8\", \"Assign9\", \"Assign10\"], \"type\": \"scatter\", \"uid\": \"c4e186ae-fae4-11e8-b19a-e35ea5c620f6\"}, {\"marker\": {\"color\": \"rgb(255,126,24)\", \"line\": {\"width\": 0}, \"size\": [0, 0, 1, 1, 1, 1, 0, 0, 0, 0], \"sizemode\": \"area\", \"sizeref\": 0.01, \"symbol\": \"circle\"}, \"mode\": \"markers\", \"name\": \"IDELMARIA\", \"x\": [\"IDELMARIA\", \"IDELMARIA\", \"IDELMARIA\", \"IDELMARIA\", \"IDELMARIA\", \"IDELMARIA\", \"IDELMARIA\", \"IDELMARIA\", \"IDELMARIA\", \"IDELMARIA\", \"IDELMARIA\"], \"y\": [\"Assign1\", \"Assign2\", \"Assign3\", \"Assign4\", \"Assign5\", \"Assign6\", \"Assign7\", \"Assign8\", \"Assign9\", \"Assign10\"], \"type\": \"scatter\", \"uid\": \"c4e18758-fae4-11e8-b19a-e35ea5c620f6\"}, {\"marker\": {\"color\": \"rgb(255,126,24)\", \"line\": {\"width\": 0}, \"size\": [0, 0, 0, 1, 1, 1, 1, 0, 1, 0], \"sizemode\": \"area\", \"sizeref\": 0.01, \"symbol\": \"circle\"}, \"mode\": \"markers\", \"name\": \"ISABELI\", \"x\": [\"ISABELI\", \"ISABELI\", \"ISABELI\", \"ISABELI\", \"ISABELI\", \"ISABELI\", \"ISABELI\", \"ISABELI\", \"ISABELI\", \"ISABELI\", \"ISABELI\"], \"y\": [\"Assign1\", \"Assign2\", \"Assign3\", \"Assign4\", \"Assign5\", \"Assign6\", \"Assign7\", \"Assign8\", \"Assign9\", \"Assign10\"], \"type\": \"scatter\", \"uid\": \"c4e187f8-fae4-11e8-b19a-e35ea5c620f6\"}, {\"marker\": {\"color\": \"rgb(255,126,24)\", \"line\": {\"width\": 0}, \"size\": [1, 1, 1, 1, 0, 1, 0, 0, 0, 1], \"sizemode\": \"area\", \"sizeref\": 0.01, \"symbol\": \"circle\"}, \"mode\": \"markers\", \"name\": \"IZILDA\", \"x\": [\"IZILDA\", \"IZILDA\", \"IZILDA\", \"IZILDA\", \"IZILDA\", \"IZILDA\", \"IZILDA\", \"IZILDA\", \"IZILDA\", \"IZILDA\", \"IZILDA\"], \"y\": [\"Assign1\", \"Assign2\", \"Assign3\", \"Assign4\", \"Assign5\", \"Assign6\", \"Assign7\", \"Assign8\", \"Assign9\", \"Assign10\"], \"type\": \"scatter\", \"uid\": \"c4e18898-fae4-11e8-b19a-e35ea5c620f6\"}, {\"marker\": {\"color\": \"rgb(255,126,24)\", \"line\": {\"width\": 0}, \"size\": [0, 0, 1, 1, 0, 1, 0, 0, 1, 1], \"sizemode\": \"area\", \"sizeref\": 0.01, \"symbol\": \"circle\"}, \"mode\": \"markers\", \"name\": \"JOCIQUELE\", \"x\": [\"JOCIQUELE\", \"JOCIQUELE\", \"JOCIQUELE\", \"JOCIQUELE\", \"JOCIQUELE\", \"JOCIQUELE\", \"JOCIQUELE\", \"JOCIQUELE\", \"JOCIQUELE\", \"JOCIQUELE\", \"JOCIQUELE\"], \"y\": [\"Assign1\", \"Assign2\", \"Assign3\", \"Assign4\", \"Assign5\", \"Assign6\", \"Assign7\", \"Assign8\", \"Assign9\", \"Assign10\"], \"type\": \"scatter\", \"uid\": \"c4e18938-fae4-11e8-b19a-e35ea5c620f6\"}, {\"marker\": {\"color\": \"rgb(255,126,24)\", \"line\": {\"width\": 0}, \"size\": [1, 0, 0, 0, 1, 1, 1, 1, 1, 1], \"sizemode\": \"area\", \"sizeref\": 0.01, \"symbol\": \"circle\"}, \"mode\": \"markers\", \"name\": \"KARIANY\", \"x\": [\"KARIANY\", \"KARIANY\", \"KARIANY\", \"KARIANY\", \"KARIANY\", \"KARIANY\", \"KARIANY\", \"KARIANY\", \"KARIANY\", \"KARIANY\", \"KARIANY\"], \"y\": [\"Assign1\", \"Assign2\", \"Assign3\", \"Assign4\", \"Assign5\", \"Assign6\", \"Assign7\", \"Assign8\", \"Assign9\", \"Assign10\"], \"type\": \"scatter\", \"uid\": \"c4e189d8-fae4-11e8-b19a-e35ea5c620f6\"}, {\"marker\": {\"color\": \"rgb(255,126,24)\", \"line\": {\"width\": 0}, \"size\": [1, 1, 1, 0, 1, 1, 0, 1, 0, 1], \"sizemode\": \"area\", \"sizeref\": 0.01, \"symbol\": \"circle\"}, \"mode\": \"markers\", \"name\": \"MESSODY\", \"x\": [\"MESSODY\", \"MESSODY\", \"MESSODY\", \"MESSODY\", \"MESSODY\", \"MESSODY\", \"MESSODY\", \"MESSODY\", \"MESSODY\", \"MESSODY\", \"MESSODY\"], \"y\": [\"Assign1\", \"Assign2\", \"Assign3\", \"Assign4\", \"Assign5\", \"Assign6\", \"Assign7\", \"Assign8\", \"Assign9\", \"Assign10\"], \"type\": \"scatter\", \"uid\": \"c4e18a78-fae4-11e8-b19a-e35ea5c620f6\"}, {\"marker\": {\"color\": \"rgb(255,126,24)\", \"line\": {\"width\": 0}, \"size\": [1, 1, 1, 1, 1, 1, 0, 1, 0, 1], \"sizemode\": \"area\", \"sizeref\": 0.01, \"symbol\": \"circle\"}, \"mode\": \"markers\", \"name\": \"NARIELE\", \"x\": [\"NARIELE\", \"NARIELE\", \"NARIELE\", \"NARIELE\", \"NARIELE\", \"NARIELE\", \"NARIELE\", \"NARIELE\", \"NARIELE\", \"NARIELE\", \"NARIELE\"], \"y\": [\"Assign1\", \"Assign2\", \"Assign3\", \"Assign4\", \"Assign5\", \"Assign6\", \"Assign7\", \"Assign8\", \"Assign9\", \"Assign10\"], \"type\": \"scatter\", \"uid\": \"c4e18b18-fae4-11e8-b19a-e35ea5c620f6\"}, {\"marker\": {\"color\": \"rgb(255,126,24)\", \"line\": {\"width\": 0}, \"size\": [0, 1, 0, 0, 1, 0, 1, 1, 1, 0], \"sizemode\": \"area\", \"sizeref\": 0.01, \"symbol\": \"circle\"}, \"mode\": \"markers\", \"name\": \"OTO\", \"x\": [\"OTO\", \"OTO\", \"OTO\", \"OTO\", \"OTO\", \"OTO\", \"OTO\", \"OTO\", \"OTO\", \"OTO\", \"OTO\"], \"y\": [\"Assign1\", \"Assign2\", \"Assign3\", \"Assign4\", \"Assign5\", \"Assign6\", \"Assign7\", \"Assign8\", \"Assign9\", \"Assign10\"], \"type\": \"scatter\", \"uid\": \"c4e18bae-fae4-11e8-b19a-e35ea5c620f6\"}, {\"marker\": {\"color\": \"rgb(255,126,24)\", \"line\": {\"width\": 0}, \"size\": [1, 0, 1, 0, 1, 0, 1, 1, 0, 1], \"sizemode\": \"area\", \"sizeref\": 0.01, \"symbol\": \"circle\"}, \"mode\": \"markers\", \"name\": \"ROSALHA\", \"x\": [\"ROSALHA\", \"ROSALHA\", \"ROSALHA\", \"ROSALHA\", \"ROSALHA\", \"ROSALHA\", \"ROSALHA\", \"ROSALHA\", \"ROSALHA\", \"ROSALHA\", \"ROSALHA\"], \"y\": [\"Assign1\", \"Assign2\", \"Assign3\", \"Assign4\", \"Assign5\", \"Assign6\", \"Assign7\", \"Assign8\", \"Assign9\", \"Assign10\"], \"type\": \"scatter\", \"uid\": \"c4e18c4e-fae4-11e8-b19a-e35ea5c620f6\"}, {\"marker\": {\"color\": \"rgb(255,126,24)\", \"line\": {\"width\": 0}, \"size\": [1, 1, 0, 1, 0, 1, 0, 0, 1, 1], \"sizemode\": \"area\", \"sizeref\": 0.01, \"symbol\": \"circle\"}, \"mode\": \"markers\", \"name\": \"SELESTRINO\", \"x\": [\"SELESTRINO\", \"SELESTRINO\", \"SELESTRINO\", \"SELESTRINO\", \"SELESTRINO\", \"SELESTRINO\", \"SELESTRINO\", \"SELESTRINO\", \"SELESTRINO\", \"SELESTRINO\", \"SELESTRINO\"], \"y\": [\"Assign1\", \"Assign2\", \"Assign3\", \"Assign4\", \"Assign5\", \"Assign6\", \"Assign7\", \"Assign8\", \"Assign9\", \"Assign10\"], \"type\": \"scatter\", \"uid\": \"c4e18cee-fae4-11e8-b19a-e35ea5c620f6\"}, {\"marker\": {\"color\": \"rgb(255,126,24)\", \"line\": {\"width\": 0}, \"size\": [0, 1, 1, 0, 1, 1, 0, 1, 1, 1], \"sizemode\": \"area\", \"sizeref\": 0.01, \"symbol\": \"circle\"}, \"mode\": \"markers\", \"name\": \"TIARA\", \"x\": [\"TIARA\", \"TIARA\", \"TIARA\", \"TIARA\", \"TIARA\", \"TIARA\", \"TIARA\", \"TIARA\", \"TIARA\", \"TIARA\", \"TIARA\"], \"y\": [\"Assign1\", \"Assign2\", \"Assign3\", \"Assign4\", \"Assign5\", \"Assign6\", \"Assign7\", \"Assign8\", \"Assign9\", \"Assign10\"], \"type\": \"scatter\", \"uid\": \"c4e18d84-fae4-11e8-b19a-e35ea5c620f6\"}, {\"marker\": {\"color\": \"rgb(255,126,24)\", \"line\": {\"width\": 0}, \"size\": [0, 0, 0, 0, 1, 0, 1, 0, 0, 1], \"sizemode\": \"area\", \"sizeref\": 0.01, \"symbol\": \"circle\"}, \"mode\": \"markers\", \"name\": \"UDILSON\", \"x\": [\"UDILSON\", \"UDILSON\", \"UDILSON\", \"UDILSON\", \"UDILSON\", \"UDILSON\", \"UDILSON\", \"UDILSON\", \"UDILSON\", \"UDILSON\", \"UDILSON\"], \"y\": [\"Assign1\", \"Assign2\", \"Assign3\", \"Assign4\", \"Assign5\", \"Assign6\", \"Assign7\", \"Assign8\", \"Assign9\", \"Assign10\"], \"type\": \"scatter\", \"uid\": \"c4e18e1a-fae4-11e8-b19a-e35ea5c620f6\"}, {\"marker\": {\"color\": \"rgb(255,126,24)\", \"line\": {\"width\": 0}, \"size\": [1, 1, 0, 1, 1, 1, 0, 1, 0, 1], \"sizemode\": \"area\", \"sizeref\": 0.01, \"symbol\": \"circle\"}, \"mode\": \"markers\", \"name\": \"URSULLA\", \"x\": [\"URSULLA\", \"URSULLA\", \"URSULLA\", \"URSULLA\", \"URSULLA\", \"URSULLA\", \"URSULLA\", \"URSULLA\", \"URSULLA\", \"URSULLA\", \"URSULLA\"], \"y\": [\"Assign1\", \"Assign2\", \"Assign3\", \"Assign4\", \"Assign5\", \"Assign6\", \"Assign7\", \"Assign8\", \"Assign9\", \"Assign10\"], \"type\": \"scatter\", \"uid\": \"c4e18eb0-fae4-11e8-b19a-e35ea5c620f6\"}], {\"hovermode\": \"closest\", \"showlegend\": false, \"title\": \"Atividades feitas e <b>n\\u00e3o</b> feitas por estudante\", \"xaxis\": {\"autorange\": false, \"fixedrange\": false, \"range\": [-1, 20], \"rangemode\": \"normal\", \"showline\": true, \"title\": \"\", \"titlefont\": {\"color\": \"rgb(180,180,180)\"}, \"type\": \"category\"}, \"yaxis\": {\"autorange\": false, \"fixedrange\": false, \"range\": [-1, 10], \"rangemode\": \"normal\", \"showline\": true, \"title\": \"\", \"titlefont\": {\"color\": \"rgb(180,180,180)\"}, \"type\": \"category\"}}, {\"showLink\": true, \"linkText\": \"Export to plot.ly\"})});</script>"
      ],
      "text/vnd.plotly.v1+html": [
       "<div id=\"62dd0941-10fd-46d4-93b0-cff902db9935\" style=\"height: 525px; width: 100%;\" class=\"plotly-graph-div\"></div><script type=\"text/javascript\">require([\"plotly\"], function(Plotly) { window.PLOTLYENV=window.PLOTLYENV || {};window.PLOTLYENV.BASE_URL=\"https://plot.ly\";Plotly.newPlot(\"62dd0941-10fd-46d4-93b0-cff902db9935\", [{\"marker\": {\"color\": \"rgb(0,0,255)\", \"line\": {\"width\": 0}, \"size\": [0, 0, 0, 1, 0, 0, 1, 0, 0, 1], \"sizemode\": \"area\", \"sizeref\": 0.01, \"symbol\": \"circle\"}, \"mode\": \"markers\", \"name\": \"ALMIRA\", \"x\": [\"ALMIRA\", \"ALMIRA\", \"ALMIRA\", \"ALMIRA\", \"ALMIRA\", \"ALMIRA\", \"ALMIRA\", \"ALMIRA\", \"ALMIRA\", \"ALMIRA\", \"ALMIRA\"], \"y\": [\"Assign1\", \"Assign2\", \"Assign3\", \"Assign4\", \"Assign5\", \"Assign6\", \"Assign7\", \"Assign8\", \"Assign9\", \"Assign10\"], \"type\": \"scatter\", \"uid\": \"c4e17560-fae4-11e8-b19a-e35ea5c620f6\"}, {\"marker\": {\"color\": \"rgb(0,0,255)\", \"line\": {\"width\": 0}, \"size\": [0, 1, 0, 1, 1, 0, 0, 0, 1, 0], \"sizemode\": \"area\", \"sizeref\": 0.01, \"symbol\": \"circle\"}, \"mode\": \"markers\", \"name\": \"ANAZIRA\", \"x\": [\"ANAZIRA\", \"ANAZIRA\", \"ANAZIRA\", \"ANAZIRA\", \"ANAZIRA\", \"ANAZIRA\", \"ANAZIRA\", \"ANAZIRA\", \"ANAZIRA\", \"ANAZIRA\", \"ANAZIRA\"], \"y\": [\"Assign1\", \"Assign2\", \"Assign3\", \"Assign4\", \"Assign5\", \"Assign6\", \"Assign7\", \"Assign8\", \"Assign9\", \"Assign10\"], \"type\": \"scatter\", \"uid\": \"c4e17754-fae4-11e8-b19a-e35ea5c620f6\"}, {\"marker\": {\"color\": \"rgb(0,0,255)\", \"line\": {\"width\": 0}, \"size\": [1, 1, 0, 0, 1, 1, 0, 0, 0, 1], \"sizemode\": \"area\", \"sizeref\": 0.01, \"symbol\": \"circle\"}, \"mode\": \"markers\", \"name\": \"DAFINE\", \"x\": [\"DAFINE\", \"DAFINE\", \"DAFINE\", \"DAFINE\", \"DAFINE\", \"DAFINE\", \"DAFINE\", \"DAFINE\", \"DAFINE\", \"DAFINE\", \"DAFINE\"], \"y\": [\"Assign1\", \"Assign2\", \"Assign3\", \"Assign4\", \"Assign5\", \"Assign6\", \"Assign7\", \"Assign8\", \"Assign9\", \"Assign10\"], \"type\": \"scatter\", \"uid\": \"c4e1783a-fae4-11e8-b19a-e35ea5c620f6\"}, {\"marker\": {\"color\": \"rgb(0,0,255)\", \"line\": {\"width\": 0}, \"size\": [1, 0, 1, 0, 0, 0, 0, 1, 1, 0], \"sizemode\": \"area\", \"sizeref\": 0.01, \"symbol\": \"circle\"}, \"mode\": \"markers\", \"name\": \"DILZA\", \"x\": [\"DILZA\", \"DILZA\", \"DILZA\", \"DILZA\", \"DILZA\", \"DILZA\", \"DILZA\", \"DILZA\", \"DILZA\", \"DILZA\", \"DILZA\"], \"y\": [\"Assign1\", \"Assign2\", \"Assign3\", \"Assign4\", \"Assign5\", \"Assign6\", \"Assign7\", \"Assign8\", \"Assign9\", \"Assign10\"], \"type\": \"scatter\", \"uid\": \"c4e178e4-fae4-11e8-b19a-e35ea5c620f6\"}, {\"marker\": {\"color\": \"rgb(0,0,255)\", \"line\": {\"width\": 0}, \"size\": [1, 0, 0, 1, 0, 1, 0, 0, 0, 0], \"sizemode\": \"area\", \"sizeref\": 0.01, \"symbol\": \"circle\"}, \"mode\": \"markers\", \"name\": \"ELIDO\", \"x\": [\"ELIDO\", \"ELIDO\", \"ELIDO\", \"ELIDO\", \"ELIDO\", \"ELIDO\", \"ELIDO\", \"ELIDO\", \"ELIDO\", \"ELIDO\", \"ELIDO\"], \"y\": [\"Assign1\", \"Assign2\", \"Assign3\", \"Assign4\", \"Assign5\", \"Assign6\", \"Assign7\", \"Assign8\", \"Assign9\", \"Assign10\"], \"type\": \"scatter\", \"uid\": \"c4e1797a-fae4-11e8-b19a-e35ea5c620f6\"}, {\"marker\": {\"color\": \"rgb(0,0,255)\", \"line\": {\"width\": 0}, \"size\": [0, 1, 1, 0, 0, 0, 1, 1, 0, 0], \"sizemode\": \"area\", \"sizeref\": 0.01, \"symbol\": \"circle\"}, \"mode\": \"markers\", \"name\": \"ERILIO\", \"x\": [\"ERILIO\", \"ERILIO\", \"ERILIO\", \"ERILIO\", \"ERILIO\", \"ERILIO\", \"ERILIO\", \"ERILIO\", \"ERILIO\", \"ERILIO\", \"ERILIO\"], \"y\": [\"Assign1\", \"Assign2\", \"Assign3\", \"Assign4\", \"Assign5\", \"Assign6\", \"Assign7\", \"Assign8\", \"Assign9\", \"Assign10\"], \"type\": \"scatter\", \"uid\": \"c4e17a24-fae4-11e8-b19a-e35ea5c620f6\"}, {\"marker\": {\"color\": \"rgb(0,0,255)\", \"line\": {\"width\": 0}, \"size\": [0, 1, 0, 1, 1, 1, 0, 0, 0, 1], \"sizemode\": \"area\", \"sizeref\": 0.01, \"symbol\": \"circle\"}, \"mode\": \"markers\", \"name\": \"GIUSEPPE\", \"x\": [\"GIUSEPPE\", \"GIUSEPPE\", \"GIUSEPPE\", \"GIUSEPPE\", \"GIUSEPPE\", \"GIUSEPPE\", \"GIUSEPPE\", \"GIUSEPPE\", \"GIUSEPPE\", \"GIUSEPPE\", \"GIUSEPPE\"], \"y\": [\"Assign1\", \"Assign2\", \"Assign3\", \"Assign4\", \"Assign5\", \"Assign6\", \"Assign7\", \"Assign8\", \"Assign9\", \"Assign10\"], \"type\": \"scatter\", \"uid\": \"c4e17aba-fae4-11e8-b19a-e35ea5c620f6\"}, {\"marker\": {\"color\": \"rgb(0,0,255)\", \"line\": {\"width\": 0}, \"size\": [1, 1, 0, 0, 0, 0, 1, 1, 1, 1], \"sizemode\": \"area\", \"sizeref\": 0.01, \"symbol\": \"circle\"}, \"mode\": \"markers\", \"name\": \"IDELMARIA\", \"x\": [\"IDELMARIA\", \"IDELMARIA\", \"IDELMARIA\", \"IDELMARIA\", \"IDELMARIA\", \"IDELMARIA\", \"IDELMARIA\", \"IDELMARIA\", \"IDELMARIA\", \"IDELMARIA\", \"IDELMARIA\"], \"y\": [\"Assign1\", \"Assign2\", \"Assign3\", \"Assign4\", \"Assign5\", \"Assign6\", \"Assign7\", \"Assign8\", \"Assign9\", \"Assign10\"], \"type\": \"scatter\", \"uid\": \"c4e17b50-fae4-11e8-b19a-e35ea5c620f6\"}, {\"marker\": {\"color\": \"rgb(0,0,255)\", \"line\": {\"width\": 0}, \"size\": [1, 1, 1, 0, 0, 0, 0, 1, 0, 1], \"sizemode\": \"area\", \"sizeref\": 0.01, \"symbol\": \"circle\"}, \"mode\": \"markers\", \"name\": \"ISABELI\", \"x\": [\"ISABELI\", \"ISABELI\", \"ISABELI\", \"ISABELI\", \"ISABELI\", \"ISABELI\", \"ISABELI\", \"ISABELI\", \"ISABELI\", \"ISABELI\", \"ISABELI\"], \"y\": [\"Assign1\", \"Assign2\", \"Assign3\", \"Assign4\", \"Assign5\", \"Assign6\", \"Assign7\", \"Assign8\", \"Assign9\", \"Assign10\"], \"type\": \"scatter\", \"uid\": \"c4e17bdc-fae4-11e8-b19a-e35ea5c620f6\"}, {\"marker\": {\"color\": \"rgb(0,0,255)\", \"line\": {\"width\": 0}, \"size\": [0, 0, 0, 0, 1, 0, 1, 1, 1, 0], \"sizemode\": \"area\", \"sizeref\": 0.01, \"symbol\": \"circle\"}, \"mode\": \"markers\", \"name\": \"IZILDA\", \"x\": [\"IZILDA\", \"IZILDA\", \"IZILDA\", \"IZILDA\", \"IZILDA\", \"IZILDA\", \"IZILDA\", \"IZILDA\", \"IZILDA\", \"IZILDA\", \"IZILDA\"], \"y\": [\"Assign1\", \"Assign2\", \"Assign3\", \"Assign4\", \"Assign5\", \"Assign6\", \"Assign7\", \"Assign8\", \"Assign9\", \"Assign10\"], \"type\": \"scatter\", \"uid\": \"c4e17c68-fae4-11e8-b19a-e35ea5c620f6\"}, {\"marker\": {\"color\": \"rgb(0,0,255)\", \"line\": {\"width\": 0}, \"size\": [1, 1, 0, 0, 1, 0, 1, 1, 0, 0], \"sizemode\": \"area\", \"sizeref\": 0.01, \"symbol\": \"circle\"}, \"mode\": \"markers\", \"name\": \"JOCIQUELE\", \"x\": [\"JOCIQUELE\", \"JOCIQUELE\", \"JOCIQUELE\", \"JOCIQUELE\", \"JOCIQUELE\", \"JOCIQUELE\", \"JOCIQUELE\", \"JOCIQUELE\", \"JOCIQUELE\", \"JOCIQUELE\", \"JOCIQUELE\"], \"y\": [\"Assign1\", \"Assign2\", \"Assign3\", \"Assign4\", \"Assign5\", \"Assign6\", \"Assign7\", \"Assign8\", \"Assign9\", \"Assign10\"], \"type\": \"scatter\", \"uid\": \"c4e17cfe-fae4-11e8-b19a-e35ea5c620f6\"}, {\"marker\": {\"color\": \"rgb(0,0,255)\", \"line\": {\"width\": 0}, \"size\": [0, 1, 1, 1, 0, 0, 0, 0, 0, 0], \"sizemode\": \"area\", \"sizeref\": 0.01, \"symbol\": \"circle\"}, \"mode\": \"markers\", \"name\": \"KARIANY\", \"x\": [\"KARIANY\", \"KARIANY\", \"KARIANY\", \"KARIANY\", \"KARIANY\", \"KARIANY\", \"KARIANY\", \"KARIANY\", \"KARIANY\", \"KARIANY\", \"KARIANY\"], \"y\": [\"Assign1\", \"Assign2\", \"Assign3\", \"Assign4\", \"Assign5\", \"Assign6\", \"Assign7\", \"Assign8\", \"Assign9\", \"Assign10\"], \"type\": \"scatter\", \"uid\": \"c4e17d9e-fae4-11e8-b19a-e35ea5c620f6\"}, {\"marker\": {\"color\": \"rgb(0,0,255)\", \"line\": {\"width\": 0}, \"size\": [0, 0, 0, 1, 0, 0, 1, 0, 1, 0], \"sizemode\": \"area\", \"sizeref\": 0.01, \"symbol\": \"circle\"}, \"mode\": \"markers\", \"name\": \"MESSODY\", \"x\": [\"MESSODY\", \"MESSODY\", \"MESSODY\", \"MESSODY\", \"MESSODY\", \"MESSODY\", \"MESSODY\", \"MESSODY\", \"MESSODY\", \"MESSODY\", \"MESSODY\"], \"y\": [\"Assign1\", \"Assign2\", \"Assign3\", \"Assign4\", \"Assign5\", \"Assign6\", \"Assign7\", \"Assign8\", \"Assign9\", \"Assign10\"], \"type\": \"scatter\", \"uid\": \"c4e17e3e-fae4-11e8-b19a-e35ea5c620f6\"}, {\"marker\": {\"color\": \"rgb(0,0,255)\", \"line\": {\"width\": 0}, \"size\": [0, 0, 0, 0, 0, 0, 1, 0, 1, 0], \"sizemode\": \"area\", \"sizeref\": 0.01, \"symbol\": \"circle\"}, \"mode\": \"markers\", \"name\": \"NARIELE\", \"x\": [\"NARIELE\", \"NARIELE\", \"NARIELE\", \"NARIELE\", \"NARIELE\", \"NARIELE\", \"NARIELE\", \"NARIELE\", \"NARIELE\", \"NARIELE\", \"NARIELE\"], \"y\": [\"Assign1\", \"Assign2\", \"Assign3\", \"Assign4\", \"Assign5\", \"Assign6\", \"Assign7\", \"Assign8\", \"Assign9\", \"Assign10\"], \"type\": \"scatter\", \"uid\": \"c4e17ed4-fae4-11e8-b19a-e35ea5c620f6\"}, {\"marker\": {\"color\": \"rgb(0,0,255)\", \"line\": {\"width\": 0}, \"size\": [1, 0, 1, 1, 0, 1, 0, 0, 0, 1], \"sizemode\": \"area\", \"sizeref\": 0.01, \"symbol\": \"circle\"}, \"mode\": \"markers\", \"name\": \"OTO\", \"x\": [\"OTO\", \"OTO\", \"OTO\", \"OTO\", \"OTO\", \"OTO\", \"OTO\", \"OTO\", \"OTO\", \"OTO\", \"OTO\"], \"y\": [\"Assign1\", \"Assign2\", \"Assign3\", \"Assign4\", \"Assign5\", \"Assign6\", \"Assign7\", \"Assign8\", \"Assign9\", \"Assign10\"], \"type\": \"scatter\", \"uid\": \"c4e17f74-fae4-11e8-b19a-e35ea5c620f6\"}, {\"marker\": {\"color\": \"rgb(0,0,255)\", \"line\": {\"width\": 0}, \"size\": [0, 1, 0, 1, 0, 1, 0, 0, 1, 0], \"sizemode\": \"area\", \"sizeref\": 0.01, \"symbol\": \"circle\"}, \"mode\": \"markers\", \"name\": \"ROSALHA\", \"x\": [\"ROSALHA\", \"ROSALHA\", \"ROSALHA\", \"ROSALHA\", \"ROSALHA\", \"ROSALHA\", \"ROSALHA\", \"ROSALHA\", \"ROSALHA\", \"ROSALHA\", \"ROSALHA\"], \"y\": [\"Assign1\", \"Assign2\", \"Assign3\", \"Assign4\", \"Assign5\", \"Assign6\", \"Assign7\", \"Assign8\", \"Assign9\", \"Assign10\"], \"type\": \"scatter\", \"uid\": \"c4e1800a-fae4-11e8-b19a-e35ea5c620f6\"}, {\"marker\": {\"color\": \"rgb(0,0,255)\", \"line\": {\"width\": 0}, \"size\": [0, 0, 1, 0, 1, 0, 1, 1, 0, 0], \"sizemode\": \"area\", \"sizeref\": 0.01, \"symbol\": \"circle\"}, \"mode\": \"markers\", \"name\": \"SELESTRINO\", \"x\": [\"SELESTRINO\", \"SELESTRINO\", \"SELESTRINO\", \"SELESTRINO\", \"SELESTRINO\", \"SELESTRINO\", \"SELESTRINO\", \"SELESTRINO\", \"SELESTRINO\", \"SELESTRINO\", \"SELESTRINO\"], \"y\": [\"Assign1\", \"Assign2\", \"Assign3\", \"Assign4\", \"Assign5\", \"Assign6\", \"Assign7\", \"Assign8\", \"Assign9\", \"Assign10\"], \"type\": \"scatter\", \"uid\": \"c4e180aa-fae4-11e8-b19a-e35ea5c620f6\"}, {\"marker\": {\"color\": \"rgb(0,0,255)\", \"line\": {\"width\": 0}, \"size\": [1, 0, 0, 1, 0, 0, 1, 0, 0, 0], \"sizemode\": \"area\", \"sizeref\": 0.01, \"symbol\": \"circle\"}, \"mode\": \"markers\", \"name\": \"TIARA\", \"x\": [\"TIARA\", \"TIARA\", \"TIARA\", \"TIARA\", \"TIARA\", \"TIARA\", \"TIARA\", \"TIARA\", \"TIARA\", \"TIARA\", \"TIARA\"], \"y\": [\"Assign1\", \"Assign2\", \"Assign3\", \"Assign4\", \"Assign5\", \"Assign6\", \"Assign7\", \"Assign8\", \"Assign9\", \"Assign10\"], \"type\": \"scatter\", \"uid\": \"c4e18140-fae4-11e8-b19a-e35ea5c620f6\"}, {\"marker\": {\"color\": \"rgb(0,0,255)\", \"line\": {\"width\": 0}, \"size\": [1, 1, 1, 1, 0, 1, 0, 1, 1, 0], \"sizemode\": \"area\", \"sizeref\": 0.01, \"symbol\": \"circle\"}, \"mode\": \"markers\", \"name\": \"UDILSON\", \"x\": [\"UDILSON\", \"UDILSON\", \"UDILSON\", \"UDILSON\", \"UDILSON\", \"UDILSON\", \"UDILSON\", \"UDILSON\", \"UDILSON\", \"UDILSON\", \"UDILSON\"], \"y\": [\"Assign1\", \"Assign2\", \"Assign3\", \"Assign4\", \"Assign5\", \"Assign6\", \"Assign7\", \"Assign8\", \"Assign9\", \"Assign10\"], \"type\": \"scatter\", \"uid\": \"c4e181e0-fae4-11e8-b19a-e35ea5c620f6\"}, {\"marker\": {\"color\": \"rgb(0,0,255)\", \"line\": {\"width\": 0}, \"size\": [0, 0, 1, 0, 0, 0, 1, 0, 1, 0], \"sizemode\": \"area\", \"sizeref\": 0.01, \"symbol\": \"circle\"}, \"mode\": \"markers\", \"name\": \"URSULLA\", \"x\": [\"URSULLA\", \"URSULLA\", \"URSULLA\", \"URSULLA\", \"URSULLA\", \"URSULLA\", \"URSULLA\", \"URSULLA\", \"URSULLA\", \"URSULLA\", \"URSULLA\"], \"y\": [\"Assign1\", \"Assign2\", \"Assign3\", \"Assign4\", \"Assign5\", \"Assign6\", \"Assign7\", \"Assign8\", \"Assign9\", \"Assign10\"], \"type\": \"scatter\", \"uid\": \"c4e18276-fae4-11e8-b19a-e35ea5c620f6\"}, {\"marker\": {\"color\": \"rgb(255,126,24)\", \"line\": {\"width\": 0}, \"size\": [1, 1, 1, 0, 1, 1, 0, 1, 1, 0], \"sizemode\": \"area\", \"sizeref\": 0.01, \"symbol\": \"circle\"}, \"mode\": \"markers\", \"name\": \"ALMIRA\", \"x\": [\"ALMIRA\", \"ALMIRA\", \"ALMIRA\", \"ALMIRA\", \"ALMIRA\", \"ALMIRA\", \"ALMIRA\", \"ALMIRA\", \"ALMIRA\", \"ALMIRA\", \"ALMIRA\"], \"y\": [\"Assign1\", \"Assign2\", \"Assign3\", \"Assign4\", \"Assign5\", \"Assign6\", \"Assign7\", \"Assign8\", \"Assign9\", \"Assign10\"], \"type\": \"scatter\", \"uid\": \"c4e18316-fae4-11e8-b19a-e35ea5c620f6\"}, {\"marker\": {\"color\": \"rgb(255,126,24)\", \"line\": {\"width\": 0}, \"size\": [1, 0, 1, 0, 0, 1, 1, 1, 0, 1], \"sizemode\": \"area\", \"sizeref\": 0.01, \"symbol\": \"circle\"}, \"mode\": \"markers\", \"name\": \"ANAZIRA\", \"x\": [\"ANAZIRA\", \"ANAZIRA\", \"ANAZIRA\", \"ANAZIRA\", \"ANAZIRA\", \"ANAZIRA\", \"ANAZIRA\", \"ANAZIRA\", \"ANAZIRA\", \"ANAZIRA\", \"ANAZIRA\"], \"y\": [\"Assign1\", \"Assign2\", \"Assign3\", \"Assign4\", \"Assign5\", \"Assign6\", \"Assign7\", \"Assign8\", \"Assign9\", \"Assign10\"], \"type\": \"scatter\", \"uid\": \"c4e183ac-fae4-11e8-b19a-e35ea5c620f6\"}, {\"marker\": {\"color\": \"rgb(255,126,24)\", \"line\": {\"width\": 0}, \"size\": [0, 0, 1, 1, 0, 0, 1, 1, 1, 0], \"sizemode\": \"area\", \"sizeref\": 0.01, \"symbol\": \"circle\"}, \"mode\": \"markers\", \"name\": \"DAFINE\", \"x\": [\"DAFINE\", \"DAFINE\", \"DAFINE\", \"DAFINE\", \"DAFINE\", \"DAFINE\", \"DAFINE\", \"DAFINE\", \"DAFINE\", \"DAFINE\", \"DAFINE\"], \"y\": [\"Assign1\", \"Assign2\", \"Assign3\", \"Assign4\", \"Assign5\", \"Assign6\", \"Assign7\", \"Assign8\", \"Assign9\", \"Assign10\"], \"type\": \"scatter\", \"uid\": \"c4e1844c-fae4-11e8-b19a-e35ea5c620f6\"}, {\"marker\": {\"color\": \"rgb(255,126,24)\", \"line\": {\"width\": 0}, \"size\": [0, 1, 0, 1, 1, 1, 1, 0, 0, 1], \"sizemode\": \"area\", \"sizeref\": 0.01, \"symbol\": \"circle\"}, \"mode\": \"markers\", \"name\": \"DILZA\", \"x\": [\"DILZA\", \"DILZA\", \"DILZA\", \"DILZA\", \"DILZA\", \"DILZA\", \"DILZA\", \"DILZA\", \"DILZA\", \"DILZA\", \"DILZA\"], \"y\": [\"Assign1\", \"Assign2\", \"Assign3\", \"Assign4\", \"Assign5\", \"Assign6\", \"Assign7\", \"Assign8\", \"Assign9\", \"Assign10\"], \"type\": \"scatter\", \"uid\": \"c4e184e2-fae4-11e8-b19a-e35ea5c620f6\"}, {\"marker\": {\"color\": \"rgb(255,126,24)\", \"line\": {\"width\": 0}, \"size\": [0, 1, 1, 0, 1, 0, 1, 1, 1, 1], \"sizemode\": \"area\", \"sizeref\": 0.01, \"symbol\": \"circle\"}, \"mode\": \"markers\", \"name\": \"ELIDO\", \"x\": [\"ELIDO\", \"ELIDO\", \"ELIDO\", \"ELIDO\", \"ELIDO\", \"ELIDO\", \"ELIDO\", \"ELIDO\", \"ELIDO\", \"ELIDO\", \"ELIDO\"], \"y\": [\"Assign1\", \"Assign2\", \"Assign3\", \"Assign4\", \"Assign5\", \"Assign6\", \"Assign7\", \"Assign8\", \"Assign9\", \"Assign10\"], \"type\": \"scatter\", \"uid\": \"c4e18578-fae4-11e8-b19a-e35ea5c620f6\"}, {\"marker\": {\"color\": \"rgb(255,126,24)\", \"line\": {\"width\": 0}, \"size\": [1, 0, 0, 1, 1, 1, 0, 0, 1, 1], \"sizemode\": \"area\", \"sizeref\": 0.01, \"symbol\": \"circle\"}, \"mode\": \"markers\", \"name\": \"ERILIO\", \"x\": [\"ERILIO\", \"ERILIO\", \"ERILIO\", \"ERILIO\", \"ERILIO\", \"ERILIO\", \"ERILIO\", \"ERILIO\", \"ERILIO\", \"ERILIO\", \"ERILIO\"], \"y\": [\"Assign1\", \"Assign2\", \"Assign3\", \"Assign4\", \"Assign5\", \"Assign6\", \"Assign7\", \"Assign8\", \"Assign9\", \"Assign10\"], \"type\": \"scatter\", \"uid\": \"c4e18618-fae4-11e8-b19a-e35ea5c620f6\"}, {\"marker\": {\"color\": \"rgb(255,126,24)\", \"line\": {\"width\": 0}, \"size\": [1, 0, 1, 0, 0, 0, 1, 1, 1, 0], \"sizemode\": \"area\", \"sizeref\": 0.01, \"symbol\": \"circle\"}, \"mode\": \"markers\", \"name\": \"GIUSEPPE\", \"x\": [\"GIUSEPPE\", \"GIUSEPPE\", \"GIUSEPPE\", \"GIUSEPPE\", \"GIUSEPPE\", \"GIUSEPPE\", \"GIUSEPPE\", \"GIUSEPPE\", \"GIUSEPPE\", \"GIUSEPPE\", \"GIUSEPPE\"], \"y\": [\"Assign1\", \"Assign2\", \"Assign3\", \"Assign4\", \"Assign5\", \"Assign6\", \"Assign7\", \"Assign8\", \"Assign9\", \"Assign10\"], \"type\": \"scatter\", \"uid\": \"c4e186ae-fae4-11e8-b19a-e35ea5c620f6\"}, {\"marker\": {\"color\": \"rgb(255,126,24)\", \"line\": {\"width\": 0}, \"size\": [0, 0, 1, 1, 1, 1, 0, 0, 0, 0], \"sizemode\": \"area\", \"sizeref\": 0.01, \"symbol\": \"circle\"}, \"mode\": \"markers\", \"name\": \"IDELMARIA\", \"x\": [\"IDELMARIA\", \"IDELMARIA\", \"IDELMARIA\", \"IDELMARIA\", \"IDELMARIA\", \"IDELMARIA\", \"IDELMARIA\", \"IDELMARIA\", \"IDELMARIA\", \"IDELMARIA\", \"IDELMARIA\"], \"y\": [\"Assign1\", \"Assign2\", \"Assign3\", \"Assign4\", \"Assign5\", \"Assign6\", \"Assign7\", \"Assign8\", \"Assign9\", \"Assign10\"], \"type\": \"scatter\", \"uid\": \"c4e18758-fae4-11e8-b19a-e35ea5c620f6\"}, {\"marker\": {\"color\": \"rgb(255,126,24)\", \"line\": {\"width\": 0}, \"size\": [0, 0, 0, 1, 1, 1, 1, 0, 1, 0], \"sizemode\": \"area\", \"sizeref\": 0.01, \"symbol\": \"circle\"}, \"mode\": \"markers\", \"name\": \"ISABELI\", \"x\": [\"ISABELI\", \"ISABELI\", \"ISABELI\", \"ISABELI\", \"ISABELI\", \"ISABELI\", \"ISABELI\", \"ISABELI\", \"ISABELI\", \"ISABELI\", \"ISABELI\"], \"y\": [\"Assign1\", \"Assign2\", \"Assign3\", \"Assign4\", \"Assign5\", \"Assign6\", \"Assign7\", \"Assign8\", \"Assign9\", \"Assign10\"], \"type\": \"scatter\", \"uid\": \"c4e187f8-fae4-11e8-b19a-e35ea5c620f6\"}, {\"marker\": {\"color\": \"rgb(255,126,24)\", \"line\": {\"width\": 0}, \"size\": [1, 1, 1, 1, 0, 1, 0, 0, 0, 1], \"sizemode\": \"area\", \"sizeref\": 0.01, \"symbol\": \"circle\"}, \"mode\": \"markers\", \"name\": \"IZILDA\", \"x\": [\"IZILDA\", \"IZILDA\", \"IZILDA\", \"IZILDA\", \"IZILDA\", \"IZILDA\", \"IZILDA\", \"IZILDA\", \"IZILDA\", \"IZILDA\", \"IZILDA\"], \"y\": [\"Assign1\", \"Assign2\", \"Assign3\", \"Assign4\", \"Assign5\", \"Assign6\", \"Assign7\", \"Assign8\", \"Assign9\", \"Assign10\"], \"type\": \"scatter\", \"uid\": \"c4e18898-fae4-11e8-b19a-e35ea5c620f6\"}, {\"marker\": {\"color\": \"rgb(255,126,24)\", \"line\": {\"width\": 0}, \"size\": [0, 0, 1, 1, 0, 1, 0, 0, 1, 1], \"sizemode\": \"area\", \"sizeref\": 0.01, \"symbol\": \"circle\"}, \"mode\": \"markers\", \"name\": \"JOCIQUELE\", \"x\": [\"JOCIQUELE\", \"JOCIQUELE\", \"JOCIQUELE\", \"JOCIQUELE\", \"JOCIQUELE\", \"JOCIQUELE\", \"JOCIQUELE\", \"JOCIQUELE\", \"JOCIQUELE\", \"JOCIQUELE\", \"JOCIQUELE\"], \"y\": [\"Assign1\", \"Assign2\", \"Assign3\", \"Assign4\", \"Assign5\", \"Assign6\", \"Assign7\", \"Assign8\", \"Assign9\", \"Assign10\"], \"type\": \"scatter\", \"uid\": \"c4e18938-fae4-11e8-b19a-e35ea5c620f6\"}, {\"marker\": {\"color\": \"rgb(255,126,24)\", \"line\": {\"width\": 0}, \"size\": [1, 0, 0, 0, 1, 1, 1, 1, 1, 1], \"sizemode\": \"area\", \"sizeref\": 0.01, \"symbol\": \"circle\"}, \"mode\": \"markers\", \"name\": \"KARIANY\", \"x\": [\"KARIANY\", \"KARIANY\", \"KARIANY\", \"KARIANY\", \"KARIANY\", \"KARIANY\", \"KARIANY\", \"KARIANY\", \"KARIANY\", \"KARIANY\", \"KARIANY\"], \"y\": [\"Assign1\", \"Assign2\", \"Assign3\", \"Assign4\", \"Assign5\", \"Assign6\", \"Assign7\", \"Assign8\", \"Assign9\", \"Assign10\"], \"type\": \"scatter\", \"uid\": \"c4e189d8-fae4-11e8-b19a-e35ea5c620f6\"}, {\"marker\": {\"color\": \"rgb(255,126,24)\", \"line\": {\"width\": 0}, \"size\": [1, 1, 1, 0, 1, 1, 0, 1, 0, 1], \"sizemode\": \"area\", \"sizeref\": 0.01, \"symbol\": \"circle\"}, \"mode\": \"markers\", \"name\": \"MESSODY\", \"x\": [\"MESSODY\", \"MESSODY\", \"MESSODY\", \"MESSODY\", \"MESSODY\", \"MESSODY\", \"MESSODY\", \"MESSODY\", \"MESSODY\", \"MESSODY\", \"MESSODY\"], \"y\": [\"Assign1\", \"Assign2\", \"Assign3\", \"Assign4\", \"Assign5\", \"Assign6\", \"Assign7\", \"Assign8\", \"Assign9\", \"Assign10\"], \"type\": \"scatter\", \"uid\": \"c4e18a78-fae4-11e8-b19a-e35ea5c620f6\"}, {\"marker\": {\"color\": \"rgb(255,126,24)\", \"line\": {\"width\": 0}, \"size\": [1, 1, 1, 1, 1, 1, 0, 1, 0, 1], \"sizemode\": \"area\", \"sizeref\": 0.01, \"symbol\": \"circle\"}, \"mode\": \"markers\", \"name\": \"NARIELE\", \"x\": [\"NARIELE\", \"NARIELE\", \"NARIELE\", \"NARIELE\", \"NARIELE\", \"NARIELE\", \"NARIELE\", \"NARIELE\", \"NARIELE\", \"NARIELE\", \"NARIELE\"], \"y\": [\"Assign1\", \"Assign2\", \"Assign3\", \"Assign4\", \"Assign5\", \"Assign6\", \"Assign7\", \"Assign8\", \"Assign9\", \"Assign10\"], \"type\": \"scatter\", \"uid\": \"c4e18b18-fae4-11e8-b19a-e35ea5c620f6\"}, {\"marker\": {\"color\": \"rgb(255,126,24)\", \"line\": {\"width\": 0}, \"size\": [0, 1, 0, 0, 1, 0, 1, 1, 1, 0], \"sizemode\": \"area\", \"sizeref\": 0.01, \"symbol\": \"circle\"}, \"mode\": \"markers\", \"name\": \"OTO\", \"x\": [\"OTO\", \"OTO\", \"OTO\", \"OTO\", \"OTO\", \"OTO\", \"OTO\", \"OTO\", \"OTO\", \"OTO\", \"OTO\"], \"y\": [\"Assign1\", \"Assign2\", \"Assign3\", \"Assign4\", \"Assign5\", \"Assign6\", \"Assign7\", \"Assign8\", \"Assign9\", \"Assign10\"], \"type\": \"scatter\", \"uid\": \"c4e18bae-fae4-11e8-b19a-e35ea5c620f6\"}, {\"marker\": {\"color\": \"rgb(255,126,24)\", \"line\": {\"width\": 0}, \"size\": [1, 0, 1, 0, 1, 0, 1, 1, 0, 1], \"sizemode\": \"area\", \"sizeref\": 0.01, \"symbol\": \"circle\"}, \"mode\": \"markers\", \"name\": \"ROSALHA\", \"x\": [\"ROSALHA\", \"ROSALHA\", \"ROSALHA\", \"ROSALHA\", \"ROSALHA\", \"ROSALHA\", \"ROSALHA\", \"ROSALHA\", \"ROSALHA\", \"ROSALHA\", \"ROSALHA\"], \"y\": [\"Assign1\", \"Assign2\", \"Assign3\", \"Assign4\", \"Assign5\", \"Assign6\", \"Assign7\", \"Assign8\", \"Assign9\", \"Assign10\"], \"type\": \"scatter\", \"uid\": \"c4e18c4e-fae4-11e8-b19a-e35ea5c620f6\"}, {\"marker\": {\"color\": \"rgb(255,126,24)\", \"line\": {\"width\": 0}, \"size\": [1, 1, 0, 1, 0, 1, 0, 0, 1, 1], \"sizemode\": \"area\", \"sizeref\": 0.01, \"symbol\": \"circle\"}, \"mode\": \"markers\", \"name\": \"SELESTRINO\", \"x\": [\"SELESTRINO\", \"SELESTRINO\", \"SELESTRINO\", \"SELESTRINO\", \"SELESTRINO\", \"SELESTRINO\", \"SELESTRINO\", \"SELESTRINO\", \"SELESTRINO\", \"SELESTRINO\", \"SELESTRINO\"], \"y\": [\"Assign1\", \"Assign2\", \"Assign3\", \"Assign4\", \"Assign5\", \"Assign6\", \"Assign7\", \"Assign8\", \"Assign9\", \"Assign10\"], \"type\": \"scatter\", \"uid\": \"c4e18cee-fae4-11e8-b19a-e35ea5c620f6\"}, {\"marker\": {\"color\": \"rgb(255,126,24)\", \"line\": {\"width\": 0}, \"size\": [0, 1, 1, 0, 1, 1, 0, 1, 1, 1], \"sizemode\": \"area\", \"sizeref\": 0.01, \"symbol\": \"circle\"}, \"mode\": \"markers\", \"name\": \"TIARA\", \"x\": [\"TIARA\", \"TIARA\", \"TIARA\", \"TIARA\", \"TIARA\", \"TIARA\", \"TIARA\", \"TIARA\", \"TIARA\", \"TIARA\", \"TIARA\"], \"y\": [\"Assign1\", \"Assign2\", \"Assign3\", \"Assign4\", \"Assign5\", \"Assign6\", \"Assign7\", \"Assign8\", \"Assign9\", \"Assign10\"], \"type\": \"scatter\", \"uid\": \"c4e18d84-fae4-11e8-b19a-e35ea5c620f6\"}, {\"marker\": {\"color\": \"rgb(255,126,24)\", \"line\": {\"width\": 0}, \"size\": [0, 0, 0, 0, 1, 0, 1, 0, 0, 1], \"sizemode\": \"area\", \"sizeref\": 0.01, \"symbol\": \"circle\"}, \"mode\": \"markers\", \"name\": \"UDILSON\", \"x\": [\"UDILSON\", \"UDILSON\", \"UDILSON\", \"UDILSON\", \"UDILSON\", \"UDILSON\", \"UDILSON\", \"UDILSON\", \"UDILSON\", \"UDILSON\", \"UDILSON\"], \"y\": [\"Assign1\", \"Assign2\", \"Assign3\", \"Assign4\", \"Assign5\", \"Assign6\", \"Assign7\", \"Assign8\", \"Assign9\", \"Assign10\"], \"type\": \"scatter\", \"uid\": \"c4e18e1a-fae4-11e8-b19a-e35ea5c620f6\"}, {\"marker\": {\"color\": \"rgb(255,126,24)\", \"line\": {\"width\": 0}, \"size\": [1, 1, 0, 1, 1, 1, 0, 1, 0, 1], \"sizemode\": \"area\", \"sizeref\": 0.01, \"symbol\": \"circle\"}, \"mode\": \"markers\", \"name\": \"URSULLA\", \"x\": [\"URSULLA\", \"URSULLA\", \"URSULLA\", \"URSULLA\", \"URSULLA\", \"URSULLA\", \"URSULLA\", \"URSULLA\", \"URSULLA\", \"URSULLA\", \"URSULLA\"], \"y\": [\"Assign1\", \"Assign2\", \"Assign3\", \"Assign4\", \"Assign5\", \"Assign6\", \"Assign7\", \"Assign8\", \"Assign9\", \"Assign10\"], \"type\": \"scatter\", \"uid\": \"c4e18eb0-fae4-11e8-b19a-e35ea5c620f6\"}], {\"hovermode\": \"closest\", \"showlegend\": false, \"title\": \"Atividades feitas e <b>n\\u00e3o</b> feitas por estudante\", \"xaxis\": {\"autorange\": false, \"fixedrange\": false, \"range\": [-1, 20], \"rangemode\": \"normal\", \"showline\": true, \"title\": \"\", \"titlefont\": {\"color\": \"rgb(180,180,180)\"}, \"type\": \"category\"}, \"yaxis\": {\"autorange\": false, \"fixedrange\": false, \"range\": [-1, 10], \"rangemode\": \"normal\", \"showline\": true, \"title\": \"\", \"titlefont\": {\"color\": \"rgb(180,180,180)\"}, \"type\": \"category\"}}, {\"showLink\": true, \"linkText\": \"Export to plot.ly\"})});</script>"
      ]
     },
     "metadata": {},
     "output_type": "display_data"
    },
    {
     "data": {
      "application/vnd.plotly.v1+json": {
       "data": [
        {
         "marker": {
          "color": "rgb(0,0,255)",
          "line": {
           "width": 2
          },
          "size": [
           3,
           7
          ],
          "sizemode": "area",
          "sizeref": 0.05,
          "symbol": "circle"
         },
         "mode": "markers",
         "name": "ALMIRA",
         "text": [
          "3",
          "7"
         ],
         "type": "scatter",
         "uid": "c508e73a-fae4-11e8-b19a-e35ea5c620f6",
         "x": [
          "ALMIRA",
          "ALMIRA",
          "ALMIRA"
         ],
         "y": [
          "Feitas"
         ]
        },
        {
         "marker": {
          "color": "rgb(255,126,24)",
          "line": {
           "width": 2
          },
          "size": [
           7
          ],
          "sizemode": "area",
          "sizeref": 0.05,
          "symbol": "circle"
         },
         "mode": "markers",
         "name": "ALMIRA",
         "text": [
          "7"
         ],
         "type": "scatter",
         "uid": "c508e988-fae4-11e8-b19a-e35ea5c620f6",
         "x": [
          "ALMIRA",
          "ALMIRA",
          "ALMIRA"
         ],
         "y": [
          "Não<br>feitas"
         ]
        },
        {
         "marker": {
          "color": "rgb(0,0,255)",
          "line": {
           "width": 2
          },
          "size": [
           4,
           6
          ],
          "sizemode": "area",
          "sizeref": 0.05,
          "symbol": "circle"
         },
         "mode": "markers",
         "name": "ANAZIRA",
         "text": [
          "4",
          "6"
         ],
         "type": "scatter",
         "uid": "c508eadc-fae4-11e8-b19a-e35ea5c620f6",
         "x": [
          "ANAZIRA",
          "ANAZIRA",
          "ANAZIRA"
         ],
         "y": [
          "Feitas"
         ]
        },
        {
         "marker": {
          "color": "rgb(255,126,24)",
          "line": {
           "width": 2
          },
          "size": [
           6
          ],
          "sizemode": "area",
          "sizeref": 0.05,
          "symbol": "circle"
         },
         "mode": "markers",
         "name": "ANAZIRA",
         "text": [
          "6"
         ],
         "type": "scatter",
         "uid": "c508ebea-fae4-11e8-b19a-e35ea5c620f6",
         "x": [
          "ANAZIRA",
          "ANAZIRA",
          "ANAZIRA"
         ],
         "y": [
          "Não<br>feitas"
         ]
        },
        {
         "marker": {
          "color": "rgb(0,0,255)",
          "line": {
           "width": 2
          },
          "size": [
           5,
           5
          ],
          "sizemode": "area",
          "sizeref": 0.05,
          "symbol": "circle"
         },
         "mode": "markers",
         "name": "DAFINE",
         "text": [
          "5",
          "5"
         ],
         "type": "scatter",
         "uid": "c508ecee-fae4-11e8-b19a-e35ea5c620f6",
         "x": [
          "DAFINE",
          "DAFINE",
          "DAFINE"
         ],
         "y": [
          "Feitas"
         ]
        },
        {
         "marker": {
          "color": "rgb(255,126,24)",
          "line": {
           "width": 2
          },
          "size": [
           5
          ],
          "sizemode": "area",
          "sizeref": 0.05,
          "symbol": "circle"
         },
         "mode": "markers",
         "name": "DAFINE",
         "text": [
          "5"
         ],
         "type": "scatter",
         "uid": "c508ede8-fae4-11e8-b19a-e35ea5c620f6",
         "x": [
          "DAFINE",
          "DAFINE",
          "DAFINE"
         ],
         "y": [
          "Não<br>feitas"
         ]
        },
        {
         "marker": {
          "color": "rgb(0,0,255)",
          "line": {
           "width": 2
          },
          "size": [
           4,
           6
          ],
          "sizemode": "area",
          "sizeref": 0.05,
          "symbol": "circle"
         },
         "mode": "markers",
         "name": "DILZA",
         "text": [
          "4",
          "6"
         ],
         "type": "scatter",
         "uid": "c508eef6-fae4-11e8-b19a-e35ea5c620f6",
         "x": [
          "DILZA",
          "DILZA",
          "DILZA"
         ],
         "y": [
          "Feitas"
         ]
        },
        {
         "marker": {
          "color": "rgb(255,126,24)",
          "line": {
           "width": 2
          },
          "size": [
           6
          ],
          "sizemode": "area",
          "sizeref": 0.05,
          "symbol": "circle"
         },
         "mode": "markers",
         "name": "DILZA",
         "text": [
          "6"
         ],
         "type": "scatter",
         "uid": "c508eff0-fae4-11e8-b19a-e35ea5c620f6",
         "x": [
          "DILZA",
          "DILZA",
          "DILZA"
         ],
         "y": [
          "Não<br>feitas"
         ]
        },
        {
         "marker": {
          "color": "rgb(0,0,255)",
          "line": {
           "width": 2
          },
          "size": [
           3,
           7
          ],
          "sizemode": "area",
          "sizeref": 0.05,
          "symbol": "circle"
         },
         "mode": "markers",
         "name": "ELIDO",
         "text": [
          "3",
          "7"
         ],
         "type": "scatter",
         "uid": "c508f0d6-fae4-11e8-b19a-e35ea5c620f6",
         "x": [
          "ELIDO",
          "ELIDO",
          "ELIDO"
         ],
         "y": [
          "Feitas"
         ]
        },
        {
         "marker": {
          "color": "rgb(255,126,24)",
          "line": {
           "width": 2
          },
          "size": [
           7
          ],
          "sizemode": "area",
          "sizeref": 0.05,
          "symbol": "circle"
         },
         "mode": "markers",
         "name": "ELIDO",
         "text": [
          "7"
         ],
         "type": "scatter",
         "uid": "c508f1bc-fae4-11e8-b19a-e35ea5c620f6",
         "x": [
          "ELIDO",
          "ELIDO",
          "ELIDO"
         ],
         "y": [
          "Não<br>feitas"
         ]
        },
        {
         "marker": {
          "color": "rgb(0,0,255)",
          "line": {
           "width": 2
          },
          "size": [
           4,
           6
          ],
          "sizemode": "area",
          "sizeref": 0.05,
          "symbol": "circle"
         },
         "mode": "markers",
         "name": "ERILIO",
         "text": [
          "4",
          "6"
         ],
         "type": "scatter",
         "uid": "c508f2a2-fae4-11e8-b19a-e35ea5c620f6",
         "x": [
          "ERILIO",
          "ERILIO",
          "ERILIO"
         ],
         "y": [
          "Feitas"
         ]
        },
        {
         "marker": {
          "color": "rgb(255,126,24)",
          "line": {
           "width": 2
          },
          "size": [
           6
          ],
          "sizemode": "area",
          "sizeref": 0.05,
          "symbol": "circle"
         },
         "mode": "markers",
         "name": "ERILIO",
         "text": [
          "6"
         ],
         "type": "scatter",
         "uid": "c508f3f6-fae4-11e8-b19a-e35ea5c620f6",
         "x": [
          "ERILIO",
          "ERILIO",
          "ERILIO"
         ],
         "y": [
          "Não<br>feitas"
         ]
        },
        {
         "marker": {
          "color": "rgb(0,0,255)",
          "line": {
           "width": 2
          },
          "size": [
           5,
           5
          ],
          "sizemode": "area",
          "sizeref": 0.05,
          "symbol": "circle"
         },
         "mode": "markers",
         "name": "GIUSEPPE",
         "text": [
          "5",
          "5"
         ],
         "type": "scatter",
         "uid": "c508f4f0-fae4-11e8-b19a-e35ea5c620f6",
         "x": [
          "GIUSEPPE",
          "GIUSEPPE",
          "GIUSEPPE"
         ],
         "y": [
          "Feitas"
         ]
        },
        {
         "marker": {
          "color": "rgb(255,126,24)",
          "line": {
           "width": 2
          },
          "size": [
           5
          ],
          "sizemode": "area",
          "sizeref": 0.05,
          "symbol": "circle"
         },
         "mode": "markers",
         "name": "GIUSEPPE",
         "text": [
          "5"
         ],
         "type": "scatter",
         "uid": "c508f5d6-fae4-11e8-b19a-e35ea5c620f6",
         "x": [
          "GIUSEPPE",
          "GIUSEPPE",
          "GIUSEPPE"
         ],
         "y": [
          "Não<br>feitas"
         ]
        },
        {
         "marker": {
          "color": "rgb(0,0,255)",
          "line": {
           "width": 2
          },
          "size": [
           6,
           4
          ],
          "sizemode": "area",
          "sizeref": 0.05,
          "symbol": "circle"
         },
         "mode": "markers",
         "name": "IDELMARIA",
         "text": [
          "6",
          "4"
         ],
         "type": "scatter",
         "uid": "c508f6c6-fae4-11e8-b19a-e35ea5c620f6",
         "x": [
          "IDELMARIA",
          "IDELMARIA",
          "IDELMARIA"
         ],
         "y": [
          "Feitas"
         ]
        },
        {
         "marker": {
          "color": "rgb(255,126,24)",
          "line": {
           "width": 2
          },
          "size": [
           4
          ],
          "sizemode": "area",
          "sizeref": 0.05,
          "symbol": "circle"
         },
         "mode": "markers",
         "name": "IDELMARIA",
         "text": [
          "4"
         ],
         "type": "scatter",
         "uid": "c508f7ac-fae4-11e8-b19a-e35ea5c620f6",
         "x": [
          "IDELMARIA",
          "IDELMARIA",
          "IDELMARIA"
         ],
         "y": [
          "Não<br>feitas"
         ]
        },
        {
         "marker": {
          "color": "rgb(0,0,255)",
          "line": {
           "width": 2
          },
          "size": [
           5,
           5
          ],
          "sizemode": "area",
          "sizeref": 0.05,
          "symbol": "circle"
         },
         "mode": "markers",
         "name": "ISABELI",
         "text": [
          "5",
          "5"
         ],
         "type": "scatter",
         "uid": "c508f892-fae4-11e8-b19a-e35ea5c620f6",
         "x": [
          "ISABELI",
          "ISABELI",
          "ISABELI"
         ],
         "y": [
          "Feitas"
         ]
        },
        {
         "marker": {
          "color": "rgb(255,126,24)",
          "line": {
           "width": 2
          },
          "size": [
           5
          ],
          "sizemode": "area",
          "sizeref": 0.05,
          "symbol": "circle"
         },
         "mode": "markers",
         "name": "ISABELI",
         "text": [
          "5"
         ],
         "type": "scatter",
         "uid": "c508f96e-fae4-11e8-b19a-e35ea5c620f6",
         "x": [
          "ISABELI",
          "ISABELI",
          "ISABELI"
         ],
         "y": [
          "Não<br>feitas"
         ]
        },
        {
         "marker": {
          "color": "rgb(0,0,255)",
          "line": {
           "width": 2
          },
          "size": [
           4,
           6
          ],
          "sizemode": "area",
          "sizeref": 0.05,
          "symbol": "circle"
         },
         "mode": "markers",
         "name": "IZILDA",
         "text": [
          "4",
          "6"
         ],
         "type": "scatter",
         "uid": "c508fa4a-fae4-11e8-b19a-e35ea5c620f6",
         "x": [
          "IZILDA",
          "IZILDA",
          "IZILDA"
         ],
         "y": [
          "Feitas"
         ]
        },
        {
         "marker": {
          "color": "rgb(255,126,24)",
          "line": {
           "width": 2
          },
          "size": [
           6
          ],
          "sizemode": "area",
          "sizeref": 0.05,
          "symbol": "circle"
         },
         "mode": "markers",
         "name": "IZILDA",
         "text": [
          "6"
         ],
         "type": "scatter",
         "uid": "c508fb30-fae4-11e8-b19a-e35ea5c620f6",
         "x": [
          "IZILDA",
          "IZILDA",
          "IZILDA"
         ],
         "y": [
          "Não<br>feitas"
         ]
        },
        {
         "marker": {
          "color": "rgb(0,0,255)",
          "line": {
           "width": 2
          },
          "size": [
           5,
           5
          ],
          "sizemode": "area",
          "sizeref": 0.05,
          "symbol": "circle"
         },
         "mode": "markers",
         "name": "JOCIQUELE",
         "text": [
          "5",
          "5"
         ],
         "type": "scatter",
         "uid": "c508fc16-fae4-11e8-b19a-e35ea5c620f6",
         "x": [
          "JOCIQUELE",
          "JOCIQUELE",
          "JOCIQUELE"
         ],
         "y": [
          "Feitas"
         ]
        },
        {
         "marker": {
          "color": "rgb(255,126,24)",
          "line": {
           "width": 2
          },
          "size": [
           5
          ],
          "sizemode": "area",
          "sizeref": 0.05,
          "symbol": "circle"
         },
         "mode": "markers",
         "name": "JOCIQUELE",
         "text": [
          "5"
         ],
         "type": "scatter",
         "uid": "c508fcf2-fae4-11e8-b19a-e35ea5c620f6",
         "x": [
          "JOCIQUELE",
          "JOCIQUELE",
          "JOCIQUELE"
         ],
         "y": [
          "Não<br>feitas"
         ]
        },
        {
         "marker": {
          "color": "rgb(0,0,255)",
          "line": {
           "width": 2
          },
          "size": [
           3,
           7
          ],
          "sizemode": "area",
          "sizeref": 0.05,
          "symbol": "circle"
         },
         "mode": "markers",
         "name": "KARIANY",
         "text": [
          "3",
          "7"
         ],
         "type": "scatter",
         "uid": "c508fdd8-fae4-11e8-b19a-e35ea5c620f6",
         "x": [
          "KARIANY",
          "KARIANY",
          "KARIANY"
         ],
         "y": [
          "Feitas"
         ]
        },
        {
         "marker": {
          "color": "rgb(255,126,24)",
          "line": {
           "width": 2
          },
          "size": [
           7
          ],
          "sizemode": "area",
          "sizeref": 0.05,
          "symbol": "circle"
         },
         "mode": "markers",
         "name": "KARIANY",
         "text": [
          "7"
         ],
         "type": "scatter",
         "uid": "c508feb4-fae4-11e8-b19a-e35ea5c620f6",
         "x": [
          "KARIANY",
          "KARIANY",
          "KARIANY"
         ],
         "y": [
          "Não<br>feitas"
         ]
        },
        {
         "marker": {
          "color": "rgb(0,0,255)",
          "line": {
           "width": 2
          },
          "size": [
           3,
           7
          ],
          "sizemode": "area",
          "sizeref": 0.05,
          "symbol": "circle"
         },
         "mode": "markers",
         "name": "MESSODY",
         "text": [
          "3",
          "7"
         ],
         "type": "scatter",
         "uid": "c508ffa4-fae4-11e8-b19a-e35ea5c620f6",
         "x": [
          "MESSODY",
          "MESSODY",
          "MESSODY"
         ],
         "y": [
          "Feitas"
         ]
        },
        {
         "marker": {
          "color": "rgb(255,126,24)",
          "line": {
           "width": 2
          },
          "size": [
           7
          ],
          "sizemode": "area",
          "sizeref": 0.05,
          "symbol": "circle"
         },
         "mode": "markers",
         "name": "MESSODY",
         "text": [
          "7"
         ],
         "type": "scatter",
         "uid": "c5090080-fae4-11e8-b19a-e35ea5c620f6",
         "x": [
          "MESSODY",
          "MESSODY",
          "MESSODY"
         ],
         "y": [
          "Não<br>feitas"
         ]
        },
        {
         "marker": {
          "color": "rgb(0,0,255)",
          "line": {
           "width": 2
          },
          "size": [
           2,
           8
          ],
          "sizemode": "area",
          "sizeref": 0.05,
          "symbol": "circle"
         },
         "mode": "markers",
         "name": "NARIELE",
         "text": [
          "2",
          "8"
         ],
         "type": "scatter",
         "uid": "c5090166-fae4-11e8-b19a-e35ea5c620f6",
         "x": [
          "NARIELE",
          "NARIELE",
          "NARIELE"
         ],
         "y": [
          "Feitas"
         ]
        },
        {
         "marker": {
          "color": "rgb(255,126,24)",
          "line": {
           "width": 2
          },
          "size": [
           8
          ],
          "sizemode": "area",
          "sizeref": 0.05,
          "symbol": "circle"
         },
         "mode": "markers",
         "name": "NARIELE",
         "text": [
          "8"
         ],
         "type": "scatter",
         "uid": "c5090242-fae4-11e8-b19a-e35ea5c620f6",
         "x": [
          "NARIELE",
          "NARIELE",
          "NARIELE"
         ],
         "y": [
          "Não<br>feitas"
         ]
        },
        {
         "marker": {
          "color": "rgb(0,0,255)",
          "line": {
           "width": 2
          },
          "size": [
           5,
           5
          ],
          "sizemode": "area",
          "sizeref": 0.05,
          "symbol": "circle"
         },
         "mode": "markers",
         "name": "OTO",
         "text": [
          "5",
          "5"
         ],
         "type": "scatter",
         "uid": "c5090328-fae4-11e8-b19a-e35ea5c620f6",
         "x": [
          "OTO",
          "OTO",
          "OTO"
         ],
         "y": [
          "Feitas"
         ]
        },
        {
         "marker": {
          "color": "rgb(255,126,24)",
          "line": {
           "width": 2
          },
          "size": [
           5
          ],
          "sizemode": "area",
          "sizeref": 0.05,
          "symbol": "circle"
         },
         "mode": "markers",
         "name": "OTO",
         "text": [
          "5"
         ],
         "type": "scatter",
         "uid": "c5090418-fae4-11e8-b19a-e35ea5c620f6",
         "x": [
          "OTO",
          "OTO",
          "OTO"
         ],
         "y": [
          "Não<br>feitas"
         ]
        },
        {
         "marker": {
          "color": "rgb(0,0,255)",
          "line": {
           "width": 2
          },
          "size": [
           4,
           6
          ],
          "sizemode": "area",
          "sizeref": 0.05,
          "symbol": "circle"
         },
         "mode": "markers",
         "name": "ROSALHA",
         "text": [
          "4",
          "6"
         ],
         "type": "scatter",
         "uid": "c50904fe-fae4-11e8-b19a-e35ea5c620f6",
         "x": [
          "ROSALHA",
          "ROSALHA",
          "ROSALHA"
         ],
         "y": [
          "Feitas"
         ]
        },
        {
         "marker": {
          "color": "rgb(255,126,24)",
          "line": {
           "width": 2
          },
          "size": [
           6
          ],
          "sizemode": "area",
          "sizeref": 0.05,
          "symbol": "circle"
         },
         "mode": "markers",
         "name": "ROSALHA",
         "text": [
          "6"
         ],
         "type": "scatter",
         "uid": "c50905e4-fae4-11e8-b19a-e35ea5c620f6",
         "x": [
          "ROSALHA",
          "ROSALHA",
          "ROSALHA"
         ],
         "y": [
          "Não<br>feitas"
         ]
        },
        {
         "marker": {
          "color": "rgb(0,0,255)",
          "line": {
           "width": 2
          },
          "size": [
           4,
           6
          ],
          "sizemode": "area",
          "sizeref": 0.05,
          "symbol": "circle"
         },
         "mode": "markers",
         "name": "SELESTRINO",
         "text": [
          "4",
          "6"
         ],
         "type": "scatter",
         "uid": "c50906ca-fae4-11e8-b19a-e35ea5c620f6",
         "x": [
          "SELESTRINO",
          "SELESTRINO",
          "SELESTRINO"
         ],
         "y": [
          "Feitas"
         ]
        },
        {
         "marker": {
          "color": "rgb(255,126,24)",
          "line": {
           "width": 2
          },
          "size": [
           6
          ],
          "sizemode": "area",
          "sizeref": 0.05,
          "symbol": "circle"
         },
         "mode": "markers",
         "name": "SELESTRINO",
         "text": [
          "6"
         ],
         "type": "scatter",
         "uid": "c50907ba-fae4-11e8-b19a-e35ea5c620f6",
         "x": [
          "SELESTRINO",
          "SELESTRINO",
          "SELESTRINO"
         ],
         "y": [
          "Não<br>feitas"
         ]
        },
        {
         "marker": {
          "color": "rgb(0,0,255)",
          "line": {
           "width": 2
          },
          "size": [
           3,
           7
          ],
          "sizemode": "area",
          "sizeref": 0.05,
          "symbol": "circle"
         },
         "mode": "markers",
         "name": "TIARA",
         "text": [
          "3",
          "7"
         ],
         "type": "scatter",
         "uid": "c50908a0-fae4-11e8-b19a-e35ea5c620f6",
         "x": [
          "TIARA",
          "TIARA",
          "TIARA"
         ],
         "y": [
          "Feitas"
         ]
        },
        {
         "marker": {
          "color": "rgb(255,126,24)",
          "line": {
           "width": 2
          },
          "size": [
           7
          ],
          "sizemode": "area",
          "sizeref": 0.05,
          "symbol": "circle"
         },
         "mode": "markers",
         "name": "TIARA",
         "text": [
          "7"
         ],
         "type": "scatter",
         "uid": "c5090986-fae4-11e8-b19a-e35ea5c620f6",
         "x": [
          "TIARA",
          "TIARA",
          "TIARA"
         ],
         "y": [
          "Não<br>feitas"
         ]
        },
        {
         "marker": {
          "color": "rgb(0,0,255)",
          "line": {
           "width": 2
          },
          "size": [
           7,
           3
          ],
          "sizemode": "area",
          "sizeref": 0.05,
          "symbol": "circle"
         },
         "mode": "markers",
         "name": "UDILSON",
         "text": [
          "7",
          "3"
         ],
         "type": "scatter",
         "uid": "c5090a62-fae4-11e8-b19a-e35ea5c620f6",
         "x": [
          "UDILSON",
          "UDILSON",
          "UDILSON"
         ],
         "y": [
          "Feitas"
         ]
        },
        {
         "marker": {
          "color": "rgb(255,126,24)",
          "line": {
           "width": 2
          },
          "size": [
           3
          ],
          "sizemode": "area",
          "sizeref": 0.05,
          "symbol": "circle"
         },
         "mode": "markers",
         "name": "UDILSON",
         "text": [
          "3"
         ],
         "type": "scatter",
         "uid": "c5090b3e-fae4-11e8-b19a-e35ea5c620f6",
         "x": [
          "UDILSON",
          "UDILSON",
          "UDILSON"
         ],
         "y": [
          "Não<br>feitas"
         ]
        },
        {
         "marker": {
          "color": "rgb(0,0,255)",
          "line": {
           "width": 2
          },
          "size": [
           3,
           7
          ],
          "sizemode": "area",
          "sizeref": 0.05,
          "symbol": "circle"
         },
         "mode": "markers",
         "name": "URSULLA",
         "text": [
          "3",
          "7"
         ],
         "type": "scatter",
         "uid": "c5090c24-fae4-11e8-b19a-e35ea5c620f6",
         "x": [
          "URSULLA",
          "URSULLA",
          "URSULLA"
         ],
         "y": [
          "Feitas"
         ]
        },
        {
         "marker": {
          "color": "rgb(255,126,24)",
          "line": {
           "width": 2
          },
          "size": [
           7
          ],
          "sizemode": "area",
          "sizeref": 0.05,
          "symbol": "circle"
         },
         "mode": "markers",
         "name": "URSULLA",
         "text": [
          "7"
         ],
         "type": "scatter",
         "uid": "c5090d00-fae4-11e8-b19a-e35ea5c620f6",
         "x": [
          "URSULLA",
          "URSULLA",
          "URSULLA"
         ],
         "y": [
          "Não<br>feitas"
         ]
        }
       ],
       "layout": {
        "hovermode": "closest",
        "showlegend": false,
        "title": "Número de atividades feitas e <b>não</b> feitas por estudante",
        "xaxis": {
         "autorange": false,
         "fixedrange": false,
         "range": [
          -1,
          20
         ],
         "rangemode": "normal",
         "showline": true,
         "title": "",
         "titlefont": {
          "color": "rgb(180,180,180)"
         },
         "type": "category"
        },
        "yaxis": {
         "autorange": false,
         "fixedrange": false,
         "range": [
          -1,
          2
         ],
         "rangemode": "normal",
         "showline": true,
         "title": "",
         "titlefont": {
          "color": "rgb(180,180,180)"
         },
         "type": "category"
        }
       }
      },
      "text/html": [
       "<div id=\"d5d5e81a-2c2a-4386-8332-d5eba704ea63\" style=\"height: 525px; width: 100%;\" class=\"plotly-graph-div\"></div><script type=\"text/javascript\">require([\"plotly\"], function(Plotly) { window.PLOTLYENV=window.PLOTLYENV || {};window.PLOTLYENV.BASE_URL=\"https://plot.ly\";Plotly.newPlot(\"d5d5e81a-2c2a-4386-8332-d5eba704ea63\", [{\"marker\": {\"color\": \"rgb(0,0,255)\", \"line\": {\"width\": 2}, \"size\": [3, 7], \"sizemode\": \"area\", \"sizeref\": 0.05, \"symbol\": \"circle\"}, \"mode\": \"markers\", \"name\": \"ALMIRA\", \"text\": [\"3\", \"7\"], \"x\": [\"ALMIRA\", \"ALMIRA\", \"ALMIRA\"], \"y\": [\"Feitas\"], \"type\": \"scatter\", \"uid\": \"c508e73a-fae4-11e8-b19a-e35ea5c620f6\"}, {\"marker\": {\"color\": \"rgb(255,126,24)\", \"line\": {\"width\": 2}, \"size\": [7], \"sizemode\": \"area\", \"sizeref\": 0.05, \"symbol\": \"circle\"}, \"mode\": \"markers\", \"name\": \"ALMIRA\", \"text\": [\"7\"], \"x\": [\"ALMIRA\", \"ALMIRA\", \"ALMIRA\"], \"y\": [\"N\\u00e3o<br>feitas\"], \"type\": \"scatter\", \"uid\": \"c508e988-fae4-11e8-b19a-e35ea5c620f6\"}, {\"marker\": {\"color\": \"rgb(0,0,255)\", \"line\": {\"width\": 2}, \"size\": [4, 6], \"sizemode\": \"area\", \"sizeref\": 0.05, \"symbol\": \"circle\"}, \"mode\": \"markers\", \"name\": \"ANAZIRA\", \"text\": [\"4\", \"6\"], \"x\": [\"ANAZIRA\", \"ANAZIRA\", \"ANAZIRA\"], \"y\": [\"Feitas\"], \"type\": \"scatter\", \"uid\": \"c508eadc-fae4-11e8-b19a-e35ea5c620f6\"}, {\"marker\": {\"color\": \"rgb(255,126,24)\", \"line\": {\"width\": 2}, \"size\": [6], \"sizemode\": \"area\", \"sizeref\": 0.05, \"symbol\": \"circle\"}, \"mode\": \"markers\", \"name\": \"ANAZIRA\", \"text\": [\"6\"], \"x\": [\"ANAZIRA\", \"ANAZIRA\", \"ANAZIRA\"], \"y\": [\"N\\u00e3o<br>feitas\"], \"type\": \"scatter\", \"uid\": \"c508ebea-fae4-11e8-b19a-e35ea5c620f6\"}, {\"marker\": {\"color\": \"rgb(0,0,255)\", \"line\": {\"width\": 2}, \"size\": [5, 5], \"sizemode\": \"area\", \"sizeref\": 0.05, \"symbol\": \"circle\"}, \"mode\": \"markers\", \"name\": \"DAFINE\", \"text\": [\"5\", \"5\"], \"x\": [\"DAFINE\", \"DAFINE\", \"DAFINE\"], \"y\": [\"Feitas\"], \"type\": \"scatter\", \"uid\": \"c508ecee-fae4-11e8-b19a-e35ea5c620f6\"}, {\"marker\": {\"color\": \"rgb(255,126,24)\", \"line\": {\"width\": 2}, \"size\": [5], \"sizemode\": \"area\", \"sizeref\": 0.05, \"symbol\": \"circle\"}, \"mode\": \"markers\", \"name\": \"DAFINE\", \"text\": [\"5\"], \"x\": [\"DAFINE\", \"DAFINE\", \"DAFINE\"], \"y\": [\"N\\u00e3o<br>feitas\"], \"type\": \"scatter\", \"uid\": \"c508ede8-fae4-11e8-b19a-e35ea5c620f6\"}, {\"marker\": {\"color\": \"rgb(0,0,255)\", \"line\": {\"width\": 2}, \"size\": [4, 6], \"sizemode\": \"area\", \"sizeref\": 0.05, \"symbol\": \"circle\"}, \"mode\": \"markers\", \"name\": \"DILZA\", \"text\": [\"4\", \"6\"], \"x\": [\"DILZA\", \"DILZA\", \"DILZA\"], \"y\": [\"Feitas\"], \"type\": \"scatter\", \"uid\": \"c508eef6-fae4-11e8-b19a-e35ea5c620f6\"}, {\"marker\": {\"color\": \"rgb(255,126,24)\", \"line\": {\"width\": 2}, \"size\": [6], \"sizemode\": \"area\", \"sizeref\": 0.05, \"symbol\": \"circle\"}, \"mode\": \"markers\", \"name\": \"DILZA\", \"text\": [\"6\"], \"x\": [\"DILZA\", \"DILZA\", \"DILZA\"], \"y\": [\"N\\u00e3o<br>feitas\"], \"type\": \"scatter\", \"uid\": \"c508eff0-fae4-11e8-b19a-e35ea5c620f6\"}, {\"marker\": {\"color\": \"rgb(0,0,255)\", \"line\": {\"width\": 2}, \"size\": [3, 7], \"sizemode\": \"area\", \"sizeref\": 0.05, \"symbol\": \"circle\"}, \"mode\": \"markers\", \"name\": \"ELIDO\", \"text\": [\"3\", \"7\"], \"x\": [\"ELIDO\", \"ELIDO\", \"ELIDO\"], \"y\": [\"Feitas\"], \"type\": \"scatter\", \"uid\": \"c508f0d6-fae4-11e8-b19a-e35ea5c620f6\"}, {\"marker\": {\"color\": \"rgb(255,126,24)\", \"line\": {\"width\": 2}, \"size\": [7], \"sizemode\": \"area\", \"sizeref\": 0.05, \"symbol\": \"circle\"}, \"mode\": \"markers\", \"name\": \"ELIDO\", \"text\": [\"7\"], \"x\": [\"ELIDO\", \"ELIDO\", \"ELIDO\"], \"y\": [\"N\\u00e3o<br>feitas\"], \"type\": \"scatter\", \"uid\": \"c508f1bc-fae4-11e8-b19a-e35ea5c620f6\"}, {\"marker\": {\"color\": \"rgb(0,0,255)\", \"line\": {\"width\": 2}, \"size\": [4, 6], \"sizemode\": \"area\", \"sizeref\": 0.05, \"symbol\": \"circle\"}, \"mode\": \"markers\", \"name\": \"ERILIO\", \"text\": [\"4\", \"6\"], \"x\": [\"ERILIO\", \"ERILIO\", \"ERILIO\"], \"y\": [\"Feitas\"], \"type\": \"scatter\", \"uid\": \"c508f2a2-fae4-11e8-b19a-e35ea5c620f6\"}, {\"marker\": {\"color\": \"rgb(255,126,24)\", \"line\": {\"width\": 2}, \"size\": [6], \"sizemode\": \"area\", \"sizeref\": 0.05, \"symbol\": \"circle\"}, \"mode\": \"markers\", \"name\": \"ERILIO\", \"text\": [\"6\"], \"x\": [\"ERILIO\", \"ERILIO\", \"ERILIO\"], \"y\": [\"N\\u00e3o<br>feitas\"], \"type\": \"scatter\", \"uid\": \"c508f3f6-fae4-11e8-b19a-e35ea5c620f6\"}, {\"marker\": {\"color\": \"rgb(0,0,255)\", \"line\": {\"width\": 2}, \"size\": [5, 5], \"sizemode\": \"area\", \"sizeref\": 0.05, \"symbol\": \"circle\"}, \"mode\": \"markers\", \"name\": \"GIUSEPPE\", \"text\": [\"5\", \"5\"], \"x\": [\"GIUSEPPE\", \"GIUSEPPE\", \"GIUSEPPE\"], \"y\": [\"Feitas\"], \"type\": \"scatter\", \"uid\": \"c508f4f0-fae4-11e8-b19a-e35ea5c620f6\"}, {\"marker\": {\"color\": \"rgb(255,126,24)\", \"line\": {\"width\": 2}, \"size\": [5], \"sizemode\": \"area\", \"sizeref\": 0.05, \"symbol\": \"circle\"}, \"mode\": \"markers\", \"name\": \"GIUSEPPE\", \"text\": [\"5\"], \"x\": [\"GIUSEPPE\", \"GIUSEPPE\", \"GIUSEPPE\"], \"y\": [\"N\\u00e3o<br>feitas\"], \"type\": \"scatter\", \"uid\": \"c508f5d6-fae4-11e8-b19a-e35ea5c620f6\"}, {\"marker\": {\"color\": \"rgb(0,0,255)\", \"line\": {\"width\": 2}, \"size\": [6, 4], \"sizemode\": \"area\", \"sizeref\": 0.05, \"symbol\": \"circle\"}, \"mode\": \"markers\", \"name\": \"IDELMARIA\", \"text\": [\"6\", \"4\"], \"x\": [\"IDELMARIA\", \"IDELMARIA\", \"IDELMARIA\"], \"y\": [\"Feitas\"], \"type\": \"scatter\", \"uid\": \"c508f6c6-fae4-11e8-b19a-e35ea5c620f6\"}, {\"marker\": {\"color\": \"rgb(255,126,24)\", \"line\": {\"width\": 2}, \"size\": [4], \"sizemode\": \"area\", \"sizeref\": 0.05, \"symbol\": \"circle\"}, \"mode\": \"markers\", \"name\": \"IDELMARIA\", \"text\": [\"4\"], \"x\": [\"IDELMARIA\", \"IDELMARIA\", \"IDELMARIA\"], \"y\": [\"N\\u00e3o<br>feitas\"], \"type\": \"scatter\", \"uid\": \"c508f7ac-fae4-11e8-b19a-e35ea5c620f6\"}, {\"marker\": {\"color\": \"rgb(0,0,255)\", \"line\": {\"width\": 2}, \"size\": [5, 5], \"sizemode\": \"area\", \"sizeref\": 0.05, \"symbol\": \"circle\"}, \"mode\": \"markers\", \"name\": \"ISABELI\", \"text\": [\"5\", \"5\"], \"x\": [\"ISABELI\", \"ISABELI\", \"ISABELI\"], \"y\": [\"Feitas\"], \"type\": \"scatter\", \"uid\": \"c508f892-fae4-11e8-b19a-e35ea5c620f6\"}, {\"marker\": {\"color\": \"rgb(255,126,24)\", \"line\": {\"width\": 2}, \"size\": [5], \"sizemode\": \"area\", \"sizeref\": 0.05, \"symbol\": \"circle\"}, \"mode\": \"markers\", \"name\": \"ISABELI\", \"text\": [\"5\"], \"x\": [\"ISABELI\", \"ISABELI\", \"ISABELI\"], \"y\": [\"N\\u00e3o<br>feitas\"], \"type\": \"scatter\", \"uid\": \"c508f96e-fae4-11e8-b19a-e35ea5c620f6\"}, {\"marker\": {\"color\": \"rgb(0,0,255)\", \"line\": {\"width\": 2}, \"size\": [4, 6], \"sizemode\": \"area\", \"sizeref\": 0.05, \"symbol\": \"circle\"}, \"mode\": \"markers\", \"name\": \"IZILDA\", \"text\": [\"4\", \"6\"], \"x\": [\"IZILDA\", \"IZILDA\", \"IZILDA\"], \"y\": [\"Feitas\"], \"type\": \"scatter\", \"uid\": \"c508fa4a-fae4-11e8-b19a-e35ea5c620f6\"}, {\"marker\": {\"color\": \"rgb(255,126,24)\", \"line\": {\"width\": 2}, \"size\": [6], \"sizemode\": \"area\", \"sizeref\": 0.05, \"symbol\": \"circle\"}, \"mode\": \"markers\", \"name\": \"IZILDA\", \"text\": [\"6\"], \"x\": [\"IZILDA\", \"IZILDA\", \"IZILDA\"], \"y\": [\"N\\u00e3o<br>feitas\"], \"type\": \"scatter\", \"uid\": \"c508fb30-fae4-11e8-b19a-e35ea5c620f6\"}, {\"marker\": {\"color\": \"rgb(0,0,255)\", \"line\": {\"width\": 2}, \"size\": [5, 5], \"sizemode\": \"area\", \"sizeref\": 0.05, \"symbol\": \"circle\"}, \"mode\": \"markers\", \"name\": \"JOCIQUELE\", \"text\": [\"5\", \"5\"], \"x\": [\"JOCIQUELE\", \"JOCIQUELE\", \"JOCIQUELE\"], \"y\": [\"Feitas\"], \"type\": \"scatter\", \"uid\": \"c508fc16-fae4-11e8-b19a-e35ea5c620f6\"}, {\"marker\": {\"color\": \"rgb(255,126,24)\", \"line\": {\"width\": 2}, \"size\": [5], \"sizemode\": \"area\", \"sizeref\": 0.05, \"symbol\": \"circle\"}, \"mode\": \"markers\", \"name\": \"JOCIQUELE\", \"text\": [\"5\"], \"x\": [\"JOCIQUELE\", \"JOCIQUELE\", \"JOCIQUELE\"], \"y\": [\"N\\u00e3o<br>feitas\"], \"type\": \"scatter\", \"uid\": \"c508fcf2-fae4-11e8-b19a-e35ea5c620f6\"}, {\"marker\": {\"color\": \"rgb(0,0,255)\", \"line\": {\"width\": 2}, \"size\": [3, 7], \"sizemode\": \"area\", \"sizeref\": 0.05, \"symbol\": \"circle\"}, \"mode\": \"markers\", \"name\": \"KARIANY\", \"text\": [\"3\", \"7\"], \"x\": [\"KARIANY\", \"KARIANY\", \"KARIANY\"], \"y\": [\"Feitas\"], \"type\": \"scatter\", \"uid\": \"c508fdd8-fae4-11e8-b19a-e35ea5c620f6\"}, {\"marker\": {\"color\": \"rgb(255,126,24)\", \"line\": {\"width\": 2}, \"size\": [7], \"sizemode\": \"area\", \"sizeref\": 0.05, \"symbol\": \"circle\"}, \"mode\": \"markers\", \"name\": \"KARIANY\", \"text\": [\"7\"], \"x\": [\"KARIANY\", \"KARIANY\", \"KARIANY\"], \"y\": [\"N\\u00e3o<br>feitas\"], \"type\": \"scatter\", \"uid\": \"c508feb4-fae4-11e8-b19a-e35ea5c620f6\"}, {\"marker\": {\"color\": \"rgb(0,0,255)\", \"line\": {\"width\": 2}, \"size\": [3, 7], \"sizemode\": \"area\", \"sizeref\": 0.05, \"symbol\": \"circle\"}, \"mode\": \"markers\", \"name\": \"MESSODY\", \"text\": [\"3\", \"7\"], \"x\": [\"MESSODY\", \"MESSODY\", \"MESSODY\"], \"y\": [\"Feitas\"], \"type\": \"scatter\", \"uid\": \"c508ffa4-fae4-11e8-b19a-e35ea5c620f6\"}, {\"marker\": {\"color\": \"rgb(255,126,24)\", \"line\": {\"width\": 2}, \"size\": [7], \"sizemode\": \"area\", \"sizeref\": 0.05, \"symbol\": \"circle\"}, \"mode\": \"markers\", \"name\": \"MESSODY\", \"text\": [\"7\"], \"x\": [\"MESSODY\", \"MESSODY\", \"MESSODY\"], \"y\": [\"N\\u00e3o<br>feitas\"], \"type\": \"scatter\", \"uid\": \"c5090080-fae4-11e8-b19a-e35ea5c620f6\"}, {\"marker\": {\"color\": \"rgb(0,0,255)\", \"line\": {\"width\": 2}, \"size\": [2, 8], \"sizemode\": \"area\", \"sizeref\": 0.05, \"symbol\": \"circle\"}, \"mode\": \"markers\", \"name\": \"NARIELE\", \"text\": [\"2\", \"8\"], \"x\": [\"NARIELE\", \"NARIELE\", \"NARIELE\"], \"y\": [\"Feitas\"], \"type\": \"scatter\", \"uid\": \"c5090166-fae4-11e8-b19a-e35ea5c620f6\"}, {\"marker\": {\"color\": \"rgb(255,126,24)\", \"line\": {\"width\": 2}, \"size\": [8], \"sizemode\": \"area\", \"sizeref\": 0.05, \"symbol\": \"circle\"}, \"mode\": \"markers\", \"name\": \"NARIELE\", \"text\": [\"8\"], \"x\": [\"NARIELE\", \"NARIELE\", \"NARIELE\"], \"y\": [\"N\\u00e3o<br>feitas\"], \"type\": \"scatter\", \"uid\": \"c5090242-fae4-11e8-b19a-e35ea5c620f6\"}, {\"marker\": {\"color\": \"rgb(0,0,255)\", \"line\": {\"width\": 2}, \"size\": [5, 5], \"sizemode\": \"area\", \"sizeref\": 0.05, \"symbol\": \"circle\"}, \"mode\": \"markers\", \"name\": \"OTO\", \"text\": [\"5\", \"5\"], \"x\": [\"OTO\", \"OTO\", \"OTO\"], \"y\": [\"Feitas\"], \"type\": \"scatter\", \"uid\": \"c5090328-fae4-11e8-b19a-e35ea5c620f6\"}, {\"marker\": {\"color\": \"rgb(255,126,24)\", \"line\": {\"width\": 2}, \"size\": [5], \"sizemode\": \"area\", \"sizeref\": 0.05, \"symbol\": \"circle\"}, \"mode\": \"markers\", \"name\": \"OTO\", \"text\": [\"5\"], \"x\": [\"OTO\", \"OTO\", \"OTO\"], \"y\": [\"N\\u00e3o<br>feitas\"], \"type\": \"scatter\", \"uid\": \"c5090418-fae4-11e8-b19a-e35ea5c620f6\"}, {\"marker\": {\"color\": \"rgb(0,0,255)\", \"line\": {\"width\": 2}, \"size\": [4, 6], \"sizemode\": \"area\", \"sizeref\": 0.05, \"symbol\": \"circle\"}, \"mode\": \"markers\", \"name\": \"ROSALHA\", \"text\": [\"4\", \"6\"], \"x\": [\"ROSALHA\", \"ROSALHA\", \"ROSALHA\"], \"y\": [\"Feitas\"], \"type\": \"scatter\", \"uid\": \"c50904fe-fae4-11e8-b19a-e35ea5c620f6\"}, {\"marker\": {\"color\": \"rgb(255,126,24)\", \"line\": {\"width\": 2}, \"size\": [6], \"sizemode\": \"area\", \"sizeref\": 0.05, \"symbol\": \"circle\"}, \"mode\": \"markers\", \"name\": \"ROSALHA\", \"text\": [\"6\"], \"x\": [\"ROSALHA\", \"ROSALHA\", \"ROSALHA\"], \"y\": [\"N\\u00e3o<br>feitas\"], \"type\": \"scatter\", \"uid\": \"c50905e4-fae4-11e8-b19a-e35ea5c620f6\"}, {\"marker\": {\"color\": \"rgb(0,0,255)\", \"line\": {\"width\": 2}, \"size\": [4, 6], \"sizemode\": \"area\", \"sizeref\": 0.05, \"symbol\": \"circle\"}, \"mode\": \"markers\", \"name\": \"SELESTRINO\", \"text\": [\"4\", \"6\"], \"x\": [\"SELESTRINO\", \"SELESTRINO\", \"SELESTRINO\"], \"y\": [\"Feitas\"], \"type\": \"scatter\", \"uid\": \"c50906ca-fae4-11e8-b19a-e35ea5c620f6\"}, {\"marker\": {\"color\": \"rgb(255,126,24)\", \"line\": {\"width\": 2}, \"size\": [6], \"sizemode\": \"area\", \"sizeref\": 0.05, \"symbol\": \"circle\"}, \"mode\": \"markers\", \"name\": \"SELESTRINO\", \"text\": [\"6\"], \"x\": [\"SELESTRINO\", \"SELESTRINO\", \"SELESTRINO\"], \"y\": [\"N\\u00e3o<br>feitas\"], \"type\": \"scatter\", \"uid\": \"c50907ba-fae4-11e8-b19a-e35ea5c620f6\"}, {\"marker\": {\"color\": \"rgb(0,0,255)\", \"line\": {\"width\": 2}, \"size\": [3, 7], \"sizemode\": \"area\", \"sizeref\": 0.05, \"symbol\": \"circle\"}, \"mode\": \"markers\", \"name\": \"TIARA\", \"text\": [\"3\", \"7\"], \"x\": [\"TIARA\", \"TIARA\", \"TIARA\"], \"y\": [\"Feitas\"], \"type\": \"scatter\", \"uid\": \"c50908a0-fae4-11e8-b19a-e35ea5c620f6\"}, {\"marker\": {\"color\": \"rgb(255,126,24)\", \"line\": {\"width\": 2}, \"size\": [7], \"sizemode\": \"area\", \"sizeref\": 0.05, \"symbol\": \"circle\"}, \"mode\": \"markers\", \"name\": \"TIARA\", \"text\": [\"7\"], \"x\": [\"TIARA\", \"TIARA\", \"TIARA\"], \"y\": [\"N\\u00e3o<br>feitas\"], \"type\": \"scatter\", \"uid\": \"c5090986-fae4-11e8-b19a-e35ea5c620f6\"}, {\"marker\": {\"color\": \"rgb(0,0,255)\", \"line\": {\"width\": 2}, \"size\": [7, 3], \"sizemode\": \"area\", \"sizeref\": 0.05, \"symbol\": \"circle\"}, \"mode\": \"markers\", \"name\": \"UDILSON\", \"text\": [\"7\", \"3\"], \"x\": [\"UDILSON\", \"UDILSON\", \"UDILSON\"], \"y\": [\"Feitas\"], \"type\": \"scatter\", \"uid\": \"c5090a62-fae4-11e8-b19a-e35ea5c620f6\"}, {\"marker\": {\"color\": \"rgb(255,126,24)\", \"line\": {\"width\": 2}, \"size\": [3], \"sizemode\": \"area\", \"sizeref\": 0.05, \"symbol\": \"circle\"}, \"mode\": \"markers\", \"name\": \"UDILSON\", \"text\": [\"3\"], \"x\": [\"UDILSON\", \"UDILSON\", \"UDILSON\"], \"y\": [\"N\\u00e3o<br>feitas\"], \"type\": \"scatter\", \"uid\": \"c5090b3e-fae4-11e8-b19a-e35ea5c620f6\"}, {\"marker\": {\"color\": \"rgb(0,0,255)\", \"line\": {\"width\": 2}, \"size\": [3, 7], \"sizemode\": \"area\", \"sizeref\": 0.05, \"symbol\": \"circle\"}, \"mode\": \"markers\", \"name\": \"URSULLA\", \"text\": [\"3\", \"7\"], \"x\": [\"URSULLA\", \"URSULLA\", \"URSULLA\"], \"y\": [\"Feitas\"], \"type\": \"scatter\", \"uid\": \"c5090c24-fae4-11e8-b19a-e35ea5c620f6\"}, {\"marker\": {\"color\": \"rgb(255,126,24)\", \"line\": {\"width\": 2}, \"size\": [7], \"sizemode\": \"area\", \"sizeref\": 0.05, \"symbol\": \"circle\"}, \"mode\": \"markers\", \"name\": \"URSULLA\", \"text\": [\"7\"], \"x\": [\"URSULLA\", \"URSULLA\", \"URSULLA\"], \"y\": [\"N\\u00e3o<br>feitas\"], \"type\": \"scatter\", \"uid\": \"c5090d00-fae4-11e8-b19a-e35ea5c620f6\"}], {\"hovermode\": \"closest\", \"showlegend\": false, \"title\": \"N\\u00famero de atividades feitas e <b>n\\u00e3o</b> feitas por estudante\", \"xaxis\": {\"autorange\": false, \"fixedrange\": false, \"range\": [-1, 20], \"rangemode\": \"normal\", \"showline\": true, \"title\": \"\", \"titlefont\": {\"color\": \"rgb(180,180,180)\"}, \"type\": \"category\"}, \"yaxis\": {\"autorange\": false, \"fixedrange\": false, \"range\": [-1, 2], \"rangemode\": \"normal\", \"showline\": true, \"title\": \"\", \"titlefont\": {\"color\": \"rgb(180,180,180)\"}, \"type\": \"category\"}}, {\"showLink\": true, \"linkText\": \"Export to plot.ly\"})});</script>"
      ],
      "text/vnd.plotly.v1+html": [
       "<div id=\"d5d5e81a-2c2a-4386-8332-d5eba704ea63\" style=\"height: 525px; width: 100%;\" class=\"plotly-graph-div\"></div><script type=\"text/javascript\">require([\"plotly\"], function(Plotly) { window.PLOTLYENV=window.PLOTLYENV || {};window.PLOTLYENV.BASE_URL=\"https://plot.ly\";Plotly.newPlot(\"d5d5e81a-2c2a-4386-8332-d5eba704ea63\", [{\"marker\": {\"color\": \"rgb(0,0,255)\", \"line\": {\"width\": 2}, \"size\": [3, 7], \"sizemode\": \"area\", \"sizeref\": 0.05, \"symbol\": \"circle\"}, \"mode\": \"markers\", \"name\": \"ALMIRA\", \"text\": [\"3\", \"7\"], \"x\": [\"ALMIRA\", \"ALMIRA\", \"ALMIRA\"], \"y\": [\"Feitas\"], \"type\": \"scatter\", \"uid\": \"c508e73a-fae4-11e8-b19a-e35ea5c620f6\"}, {\"marker\": {\"color\": \"rgb(255,126,24)\", \"line\": {\"width\": 2}, \"size\": [7], \"sizemode\": \"area\", \"sizeref\": 0.05, \"symbol\": \"circle\"}, \"mode\": \"markers\", \"name\": \"ALMIRA\", \"text\": [\"7\"], \"x\": [\"ALMIRA\", \"ALMIRA\", \"ALMIRA\"], \"y\": [\"N\\u00e3o<br>feitas\"], \"type\": \"scatter\", \"uid\": \"c508e988-fae4-11e8-b19a-e35ea5c620f6\"}, {\"marker\": {\"color\": \"rgb(0,0,255)\", \"line\": {\"width\": 2}, \"size\": [4, 6], \"sizemode\": \"area\", \"sizeref\": 0.05, \"symbol\": \"circle\"}, \"mode\": \"markers\", \"name\": \"ANAZIRA\", \"text\": [\"4\", \"6\"], \"x\": [\"ANAZIRA\", \"ANAZIRA\", \"ANAZIRA\"], \"y\": [\"Feitas\"], \"type\": \"scatter\", \"uid\": \"c508eadc-fae4-11e8-b19a-e35ea5c620f6\"}, {\"marker\": {\"color\": \"rgb(255,126,24)\", \"line\": {\"width\": 2}, \"size\": [6], \"sizemode\": \"area\", \"sizeref\": 0.05, \"symbol\": \"circle\"}, \"mode\": \"markers\", \"name\": \"ANAZIRA\", \"text\": [\"6\"], \"x\": [\"ANAZIRA\", \"ANAZIRA\", \"ANAZIRA\"], \"y\": [\"N\\u00e3o<br>feitas\"], \"type\": \"scatter\", \"uid\": \"c508ebea-fae4-11e8-b19a-e35ea5c620f6\"}, {\"marker\": {\"color\": \"rgb(0,0,255)\", \"line\": {\"width\": 2}, \"size\": [5, 5], \"sizemode\": \"area\", \"sizeref\": 0.05, \"symbol\": \"circle\"}, \"mode\": \"markers\", \"name\": \"DAFINE\", \"text\": [\"5\", \"5\"], \"x\": [\"DAFINE\", \"DAFINE\", \"DAFINE\"], \"y\": [\"Feitas\"], \"type\": \"scatter\", \"uid\": \"c508ecee-fae4-11e8-b19a-e35ea5c620f6\"}, {\"marker\": {\"color\": \"rgb(255,126,24)\", \"line\": {\"width\": 2}, \"size\": [5], \"sizemode\": \"area\", \"sizeref\": 0.05, \"symbol\": \"circle\"}, \"mode\": \"markers\", \"name\": \"DAFINE\", \"text\": [\"5\"], \"x\": [\"DAFINE\", \"DAFINE\", \"DAFINE\"], \"y\": [\"N\\u00e3o<br>feitas\"], \"type\": \"scatter\", \"uid\": \"c508ede8-fae4-11e8-b19a-e35ea5c620f6\"}, {\"marker\": {\"color\": \"rgb(0,0,255)\", \"line\": {\"width\": 2}, \"size\": [4, 6], \"sizemode\": \"area\", \"sizeref\": 0.05, \"symbol\": \"circle\"}, \"mode\": \"markers\", \"name\": \"DILZA\", \"text\": [\"4\", \"6\"], \"x\": [\"DILZA\", \"DILZA\", \"DILZA\"], \"y\": [\"Feitas\"], \"type\": \"scatter\", \"uid\": \"c508eef6-fae4-11e8-b19a-e35ea5c620f6\"}, {\"marker\": {\"color\": \"rgb(255,126,24)\", \"line\": {\"width\": 2}, \"size\": [6], \"sizemode\": \"area\", \"sizeref\": 0.05, \"symbol\": \"circle\"}, \"mode\": \"markers\", \"name\": \"DILZA\", \"text\": [\"6\"], \"x\": [\"DILZA\", \"DILZA\", \"DILZA\"], \"y\": [\"N\\u00e3o<br>feitas\"], \"type\": \"scatter\", \"uid\": \"c508eff0-fae4-11e8-b19a-e35ea5c620f6\"}, {\"marker\": {\"color\": \"rgb(0,0,255)\", \"line\": {\"width\": 2}, \"size\": [3, 7], \"sizemode\": \"area\", \"sizeref\": 0.05, \"symbol\": \"circle\"}, \"mode\": \"markers\", \"name\": \"ELIDO\", \"text\": [\"3\", \"7\"], \"x\": [\"ELIDO\", \"ELIDO\", \"ELIDO\"], \"y\": [\"Feitas\"], \"type\": \"scatter\", \"uid\": \"c508f0d6-fae4-11e8-b19a-e35ea5c620f6\"}, {\"marker\": {\"color\": \"rgb(255,126,24)\", \"line\": {\"width\": 2}, \"size\": [7], \"sizemode\": \"area\", \"sizeref\": 0.05, \"symbol\": \"circle\"}, \"mode\": \"markers\", \"name\": \"ELIDO\", \"text\": [\"7\"], \"x\": [\"ELIDO\", \"ELIDO\", \"ELIDO\"], \"y\": [\"N\\u00e3o<br>feitas\"], \"type\": \"scatter\", \"uid\": \"c508f1bc-fae4-11e8-b19a-e35ea5c620f6\"}, {\"marker\": {\"color\": \"rgb(0,0,255)\", \"line\": {\"width\": 2}, \"size\": [4, 6], \"sizemode\": \"area\", \"sizeref\": 0.05, \"symbol\": \"circle\"}, \"mode\": \"markers\", \"name\": \"ERILIO\", \"text\": [\"4\", \"6\"], \"x\": [\"ERILIO\", \"ERILIO\", \"ERILIO\"], \"y\": [\"Feitas\"], \"type\": \"scatter\", \"uid\": \"c508f2a2-fae4-11e8-b19a-e35ea5c620f6\"}, {\"marker\": {\"color\": \"rgb(255,126,24)\", \"line\": {\"width\": 2}, \"size\": [6], \"sizemode\": \"area\", \"sizeref\": 0.05, \"symbol\": \"circle\"}, \"mode\": \"markers\", \"name\": \"ERILIO\", \"text\": [\"6\"], \"x\": [\"ERILIO\", \"ERILIO\", \"ERILIO\"], \"y\": [\"N\\u00e3o<br>feitas\"], \"type\": \"scatter\", \"uid\": \"c508f3f6-fae4-11e8-b19a-e35ea5c620f6\"}, {\"marker\": {\"color\": \"rgb(0,0,255)\", \"line\": {\"width\": 2}, \"size\": [5, 5], \"sizemode\": \"area\", \"sizeref\": 0.05, \"symbol\": \"circle\"}, \"mode\": \"markers\", \"name\": \"GIUSEPPE\", \"text\": [\"5\", \"5\"], \"x\": [\"GIUSEPPE\", \"GIUSEPPE\", \"GIUSEPPE\"], \"y\": [\"Feitas\"], \"type\": \"scatter\", \"uid\": \"c508f4f0-fae4-11e8-b19a-e35ea5c620f6\"}, {\"marker\": {\"color\": \"rgb(255,126,24)\", \"line\": {\"width\": 2}, \"size\": [5], \"sizemode\": \"area\", \"sizeref\": 0.05, \"symbol\": \"circle\"}, \"mode\": \"markers\", \"name\": \"GIUSEPPE\", \"text\": [\"5\"], \"x\": [\"GIUSEPPE\", \"GIUSEPPE\", \"GIUSEPPE\"], \"y\": [\"N\\u00e3o<br>feitas\"], \"type\": \"scatter\", \"uid\": \"c508f5d6-fae4-11e8-b19a-e35ea5c620f6\"}, {\"marker\": {\"color\": \"rgb(0,0,255)\", \"line\": {\"width\": 2}, \"size\": [6, 4], \"sizemode\": \"area\", \"sizeref\": 0.05, \"symbol\": \"circle\"}, \"mode\": \"markers\", \"name\": \"IDELMARIA\", \"text\": [\"6\", \"4\"], \"x\": [\"IDELMARIA\", \"IDELMARIA\", \"IDELMARIA\"], \"y\": [\"Feitas\"], \"type\": \"scatter\", \"uid\": \"c508f6c6-fae4-11e8-b19a-e35ea5c620f6\"}, {\"marker\": {\"color\": \"rgb(255,126,24)\", \"line\": {\"width\": 2}, \"size\": [4], \"sizemode\": \"area\", \"sizeref\": 0.05, \"symbol\": \"circle\"}, \"mode\": \"markers\", \"name\": \"IDELMARIA\", \"text\": [\"4\"], \"x\": [\"IDELMARIA\", \"IDELMARIA\", \"IDELMARIA\"], \"y\": [\"N\\u00e3o<br>feitas\"], \"type\": \"scatter\", \"uid\": \"c508f7ac-fae4-11e8-b19a-e35ea5c620f6\"}, {\"marker\": {\"color\": \"rgb(0,0,255)\", \"line\": {\"width\": 2}, \"size\": [5, 5], \"sizemode\": \"area\", \"sizeref\": 0.05, \"symbol\": \"circle\"}, \"mode\": \"markers\", \"name\": \"ISABELI\", \"text\": [\"5\", \"5\"], \"x\": [\"ISABELI\", \"ISABELI\", \"ISABELI\"], \"y\": [\"Feitas\"], \"type\": \"scatter\", \"uid\": \"c508f892-fae4-11e8-b19a-e35ea5c620f6\"}, {\"marker\": {\"color\": \"rgb(255,126,24)\", \"line\": {\"width\": 2}, \"size\": [5], \"sizemode\": \"area\", \"sizeref\": 0.05, \"symbol\": \"circle\"}, \"mode\": \"markers\", \"name\": \"ISABELI\", \"text\": [\"5\"], \"x\": [\"ISABELI\", \"ISABELI\", \"ISABELI\"], \"y\": [\"N\\u00e3o<br>feitas\"], \"type\": \"scatter\", \"uid\": \"c508f96e-fae4-11e8-b19a-e35ea5c620f6\"}, {\"marker\": {\"color\": \"rgb(0,0,255)\", \"line\": {\"width\": 2}, \"size\": [4, 6], \"sizemode\": \"area\", \"sizeref\": 0.05, \"symbol\": \"circle\"}, \"mode\": \"markers\", \"name\": \"IZILDA\", \"text\": [\"4\", \"6\"], \"x\": [\"IZILDA\", \"IZILDA\", \"IZILDA\"], \"y\": [\"Feitas\"], \"type\": \"scatter\", \"uid\": \"c508fa4a-fae4-11e8-b19a-e35ea5c620f6\"}, {\"marker\": {\"color\": \"rgb(255,126,24)\", \"line\": {\"width\": 2}, \"size\": [6], \"sizemode\": \"area\", \"sizeref\": 0.05, \"symbol\": \"circle\"}, \"mode\": \"markers\", \"name\": \"IZILDA\", \"text\": [\"6\"], \"x\": [\"IZILDA\", \"IZILDA\", \"IZILDA\"], \"y\": [\"N\\u00e3o<br>feitas\"], \"type\": \"scatter\", \"uid\": \"c508fb30-fae4-11e8-b19a-e35ea5c620f6\"}, {\"marker\": {\"color\": \"rgb(0,0,255)\", \"line\": {\"width\": 2}, \"size\": [5, 5], \"sizemode\": \"area\", \"sizeref\": 0.05, \"symbol\": \"circle\"}, \"mode\": \"markers\", \"name\": \"JOCIQUELE\", \"text\": [\"5\", \"5\"], \"x\": [\"JOCIQUELE\", \"JOCIQUELE\", \"JOCIQUELE\"], \"y\": [\"Feitas\"], \"type\": \"scatter\", \"uid\": \"c508fc16-fae4-11e8-b19a-e35ea5c620f6\"}, {\"marker\": {\"color\": \"rgb(255,126,24)\", \"line\": {\"width\": 2}, \"size\": [5], \"sizemode\": \"area\", \"sizeref\": 0.05, \"symbol\": \"circle\"}, \"mode\": \"markers\", \"name\": \"JOCIQUELE\", \"text\": [\"5\"], \"x\": [\"JOCIQUELE\", \"JOCIQUELE\", \"JOCIQUELE\"], \"y\": [\"N\\u00e3o<br>feitas\"], \"type\": \"scatter\", \"uid\": \"c508fcf2-fae4-11e8-b19a-e35ea5c620f6\"}, {\"marker\": {\"color\": \"rgb(0,0,255)\", \"line\": {\"width\": 2}, \"size\": [3, 7], \"sizemode\": \"area\", \"sizeref\": 0.05, \"symbol\": \"circle\"}, \"mode\": \"markers\", \"name\": \"KARIANY\", \"text\": [\"3\", \"7\"], \"x\": [\"KARIANY\", \"KARIANY\", \"KARIANY\"], \"y\": [\"Feitas\"], \"type\": \"scatter\", \"uid\": \"c508fdd8-fae4-11e8-b19a-e35ea5c620f6\"}, {\"marker\": {\"color\": \"rgb(255,126,24)\", \"line\": {\"width\": 2}, \"size\": [7], \"sizemode\": \"area\", \"sizeref\": 0.05, \"symbol\": \"circle\"}, \"mode\": \"markers\", \"name\": \"KARIANY\", \"text\": [\"7\"], \"x\": [\"KARIANY\", \"KARIANY\", \"KARIANY\"], \"y\": [\"N\\u00e3o<br>feitas\"], \"type\": \"scatter\", \"uid\": \"c508feb4-fae4-11e8-b19a-e35ea5c620f6\"}, {\"marker\": {\"color\": \"rgb(0,0,255)\", \"line\": {\"width\": 2}, \"size\": [3, 7], \"sizemode\": \"area\", \"sizeref\": 0.05, \"symbol\": \"circle\"}, \"mode\": \"markers\", \"name\": \"MESSODY\", \"text\": [\"3\", \"7\"], \"x\": [\"MESSODY\", \"MESSODY\", \"MESSODY\"], \"y\": [\"Feitas\"], \"type\": \"scatter\", \"uid\": \"c508ffa4-fae4-11e8-b19a-e35ea5c620f6\"}, {\"marker\": {\"color\": \"rgb(255,126,24)\", \"line\": {\"width\": 2}, \"size\": [7], \"sizemode\": \"area\", \"sizeref\": 0.05, \"symbol\": \"circle\"}, \"mode\": \"markers\", \"name\": \"MESSODY\", \"text\": [\"7\"], \"x\": [\"MESSODY\", \"MESSODY\", \"MESSODY\"], \"y\": [\"N\\u00e3o<br>feitas\"], \"type\": \"scatter\", \"uid\": \"c5090080-fae4-11e8-b19a-e35ea5c620f6\"}, {\"marker\": {\"color\": \"rgb(0,0,255)\", \"line\": {\"width\": 2}, \"size\": [2, 8], \"sizemode\": \"area\", \"sizeref\": 0.05, \"symbol\": \"circle\"}, \"mode\": \"markers\", \"name\": \"NARIELE\", \"text\": [\"2\", \"8\"], \"x\": [\"NARIELE\", \"NARIELE\", \"NARIELE\"], \"y\": [\"Feitas\"], \"type\": \"scatter\", \"uid\": \"c5090166-fae4-11e8-b19a-e35ea5c620f6\"}, {\"marker\": {\"color\": \"rgb(255,126,24)\", \"line\": {\"width\": 2}, \"size\": [8], \"sizemode\": \"area\", \"sizeref\": 0.05, \"symbol\": \"circle\"}, \"mode\": \"markers\", \"name\": \"NARIELE\", \"text\": [\"8\"], \"x\": [\"NARIELE\", \"NARIELE\", \"NARIELE\"], \"y\": [\"N\\u00e3o<br>feitas\"], \"type\": \"scatter\", \"uid\": \"c5090242-fae4-11e8-b19a-e35ea5c620f6\"}, {\"marker\": {\"color\": \"rgb(0,0,255)\", \"line\": {\"width\": 2}, \"size\": [5, 5], \"sizemode\": \"area\", \"sizeref\": 0.05, \"symbol\": \"circle\"}, \"mode\": \"markers\", \"name\": \"OTO\", \"text\": [\"5\", \"5\"], \"x\": [\"OTO\", \"OTO\", \"OTO\"], \"y\": [\"Feitas\"], \"type\": \"scatter\", \"uid\": \"c5090328-fae4-11e8-b19a-e35ea5c620f6\"}, {\"marker\": {\"color\": \"rgb(255,126,24)\", \"line\": {\"width\": 2}, \"size\": [5], \"sizemode\": \"area\", \"sizeref\": 0.05, \"symbol\": \"circle\"}, \"mode\": \"markers\", \"name\": \"OTO\", \"text\": [\"5\"], \"x\": [\"OTO\", \"OTO\", \"OTO\"], \"y\": [\"N\\u00e3o<br>feitas\"], \"type\": \"scatter\", \"uid\": \"c5090418-fae4-11e8-b19a-e35ea5c620f6\"}, {\"marker\": {\"color\": \"rgb(0,0,255)\", \"line\": {\"width\": 2}, \"size\": [4, 6], \"sizemode\": \"area\", \"sizeref\": 0.05, \"symbol\": \"circle\"}, \"mode\": \"markers\", \"name\": \"ROSALHA\", \"text\": [\"4\", \"6\"], \"x\": [\"ROSALHA\", \"ROSALHA\", \"ROSALHA\"], \"y\": [\"Feitas\"], \"type\": \"scatter\", \"uid\": \"c50904fe-fae4-11e8-b19a-e35ea5c620f6\"}, {\"marker\": {\"color\": \"rgb(255,126,24)\", \"line\": {\"width\": 2}, \"size\": [6], \"sizemode\": \"area\", \"sizeref\": 0.05, \"symbol\": \"circle\"}, \"mode\": \"markers\", \"name\": \"ROSALHA\", \"text\": [\"6\"], \"x\": [\"ROSALHA\", \"ROSALHA\", \"ROSALHA\"], \"y\": [\"N\\u00e3o<br>feitas\"], \"type\": \"scatter\", \"uid\": \"c50905e4-fae4-11e8-b19a-e35ea5c620f6\"}, {\"marker\": {\"color\": \"rgb(0,0,255)\", \"line\": {\"width\": 2}, \"size\": [4, 6], \"sizemode\": \"area\", \"sizeref\": 0.05, \"symbol\": \"circle\"}, \"mode\": \"markers\", \"name\": \"SELESTRINO\", \"text\": [\"4\", \"6\"], \"x\": [\"SELESTRINO\", \"SELESTRINO\", \"SELESTRINO\"], \"y\": [\"Feitas\"], \"type\": \"scatter\", \"uid\": \"c50906ca-fae4-11e8-b19a-e35ea5c620f6\"}, {\"marker\": {\"color\": \"rgb(255,126,24)\", \"line\": {\"width\": 2}, \"size\": [6], \"sizemode\": \"area\", \"sizeref\": 0.05, \"symbol\": \"circle\"}, \"mode\": \"markers\", \"name\": \"SELESTRINO\", \"text\": [\"6\"], \"x\": [\"SELESTRINO\", \"SELESTRINO\", \"SELESTRINO\"], \"y\": [\"N\\u00e3o<br>feitas\"], \"type\": \"scatter\", \"uid\": \"c50907ba-fae4-11e8-b19a-e35ea5c620f6\"}, {\"marker\": {\"color\": \"rgb(0,0,255)\", \"line\": {\"width\": 2}, \"size\": [3, 7], \"sizemode\": \"area\", \"sizeref\": 0.05, \"symbol\": \"circle\"}, \"mode\": \"markers\", \"name\": \"TIARA\", \"text\": [\"3\", \"7\"], \"x\": [\"TIARA\", \"TIARA\", \"TIARA\"], \"y\": [\"Feitas\"], \"type\": \"scatter\", \"uid\": \"c50908a0-fae4-11e8-b19a-e35ea5c620f6\"}, {\"marker\": {\"color\": \"rgb(255,126,24)\", \"line\": {\"width\": 2}, \"size\": [7], \"sizemode\": \"area\", \"sizeref\": 0.05, \"symbol\": \"circle\"}, \"mode\": \"markers\", \"name\": \"TIARA\", \"text\": [\"7\"], \"x\": [\"TIARA\", \"TIARA\", \"TIARA\"], \"y\": [\"N\\u00e3o<br>feitas\"], \"type\": \"scatter\", \"uid\": \"c5090986-fae4-11e8-b19a-e35ea5c620f6\"}, {\"marker\": {\"color\": \"rgb(0,0,255)\", \"line\": {\"width\": 2}, \"size\": [7, 3], \"sizemode\": \"area\", \"sizeref\": 0.05, \"symbol\": \"circle\"}, \"mode\": \"markers\", \"name\": \"UDILSON\", \"text\": [\"7\", \"3\"], \"x\": [\"UDILSON\", \"UDILSON\", \"UDILSON\"], \"y\": [\"Feitas\"], \"type\": \"scatter\", \"uid\": \"c5090a62-fae4-11e8-b19a-e35ea5c620f6\"}, {\"marker\": {\"color\": \"rgb(255,126,24)\", \"line\": {\"width\": 2}, \"size\": [3], \"sizemode\": \"area\", \"sizeref\": 0.05, \"symbol\": \"circle\"}, \"mode\": \"markers\", \"name\": \"UDILSON\", \"text\": [\"3\"], \"x\": [\"UDILSON\", \"UDILSON\", \"UDILSON\"], \"y\": [\"N\\u00e3o<br>feitas\"], \"type\": \"scatter\", \"uid\": \"c5090b3e-fae4-11e8-b19a-e35ea5c620f6\"}, {\"marker\": {\"color\": \"rgb(0,0,255)\", \"line\": {\"width\": 2}, \"size\": [3, 7], \"sizemode\": \"area\", \"sizeref\": 0.05, \"symbol\": \"circle\"}, \"mode\": \"markers\", \"name\": \"URSULLA\", \"text\": [\"3\", \"7\"], \"x\": [\"URSULLA\", \"URSULLA\", \"URSULLA\"], \"y\": [\"Feitas\"], \"type\": \"scatter\", \"uid\": \"c5090c24-fae4-11e8-b19a-e35ea5c620f6\"}, {\"marker\": {\"color\": \"rgb(255,126,24)\", \"line\": {\"width\": 2}, \"size\": [7], \"sizemode\": \"area\", \"sizeref\": 0.05, \"symbol\": \"circle\"}, \"mode\": \"markers\", \"name\": \"URSULLA\", \"text\": [\"7\"], \"x\": [\"URSULLA\", \"URSULLA\", \"URSULLA\"], \"y\": [\"N\\u00e3o<br>feitas\"], \"type\": \"scatter\", \"uid\": \"c5090d00-fae4-11e8-b19a-e35ea5c620f6\"}], {\"hovermode\": \"closest\", \"showlegend\": false, \"title\": \"N\\u00famero de atividades feitas e <b>n\\u00e3o</b> feitas por estudante\", \"xaxis\": {\"autorange\": false, \"fixedrange\": false, \"range\": [-1, 20], \"rangemode\": \"normal\", \"showline\": true, \"title\": \"\", \"titlefont\": {\"color\": \"rgb(180,180,180)\"}, \"type\": \"category\"}, \"yaxis\": {\"autorange\": false, \"fixedrange\": false, \"range\": [-1, 2], \"rangemode\": \"normal\", \"showline\": true, \"title\": \"\", \"titlefont\": {\"color\": \"rgb(180,180,180)\"}, \"type\": \"category\"}}, {\"showLink\": true, \"linkText\": \"Export to plot.ly\"})});</script>"
      ]
     },
     "metadata": {},
     "output_type": "display_data"
    },
    {
     "data": {
      "application/vnd.plotly.v1+json": {
       "data": [
        {
         "marker": {
          "color": "rgb(0,0,255)",
          "line": {
           "width": 2
          },
          "size": [
           9,
           11
          ],
          "sizemode": "area",
          "sizeref": 0.05,
          "symbol": "circle"
         },
         "mode": "markers",
         "name": "Assign1",
         "text": [
          "9",
          "11"
         ],
         "type": "scatter",
         "uid": "c52d32e8-fae4-11e8-b19a-e35ea5c620f6",
         "x": [
          "Assign1",
          "Assign1",
          "Assign1"
         ],
         "y": [
          "Feitas"
         ]
        },
        {
         "marker": {
          "color": "rgb(255,126,24)",
          "line": {
           "width": 2
          },
          "size": [
           11
          ],
          "sizemode": "area",
          "sizeref": 0.05,
          "symbol": "circle"
         },
         "mode": "markers",
         "name": "Assign1",
         "text": [
          "11"
         ],
         "type": "scatter",
         "uid": "c52d3518-fae4-11e8-b19a-e35ea5c620f6",
         "x": [
          "Assign1",
          "Assign1",
          "Assign1"
         ],
         "y": [
          "Não<br>feitas"
         ]
        },
        {
         "marker": {
          "color": "rgb(0,0,255)",
          "line": {
           "width": 2
          },
          "size": [
           10,
           10
          ],
          "sizemode": "area",
          "sizeref": 0.05,
          "symbol": "circle"
         },
         "mode": "markers",
         "name": "Assign2",
         "text": [
          "10",
          "10"
         ],
         "type": "scatter",
         "uid": "c52d35f4-fae4-11e8-b19a-e35ea5c620f6",
         "x": [
          "Assign2",
          "Assign2",
          "Assign2"
         ],
         "y": [
          "Feitas"
         ]
        },
        {
         "marker": {
          "color": "rgb(255,126,24)",
          "line": {
           "width": 2
          },
          "size": [
           10
          ],
          "sizemode": "area",
          "sizeref": 0.05,
          "symbol": "circle"
         },
         "mode": "markers",
         "name": "Assign2",
         "text": [
          "10"
         ],
         "type": "scatter",
         "uid": "c52d369e-fae4-11e8-b19a-e35ea5c620f6",
         "x": [
          "Assign2",
          "Assign2",
          "Assign2"
         ],
         "y": [
          "Não<br>feitas"
         ]
        },
        {
         "marker": {
          "color": "rgb(0,0,255)",
          "line": {
           "width": 2
          },
          "size": [
           8,
           12
          ],
          "sizemode": "area",
          "sizeref": 0.05,
          "symbol": "circle"
         },
         "mode": "markers",
         "name": "Assign3",
         "text": [
          "8",
          "12"
         ],
         "type": "scatter",
         "uid": "c52d3748-fae4-11e8-b19a-e35ea5c620f6",
         "x": [
          "Assign3",
          "Assign3",
          "Assign3"
         ],
         "y": [
          "Feitas"
         ]
        },
        {
         "marker": {
          "color": "rgb(255,126,24)",
          "line": {
           "width": 2
          },
          "size": [
           12
          ],
          "sizemode": "area",
          "sizeref": 0.05,
          "symbol": "circle"
         },
         "mode": "markers",
         "name": "Assign3",
         "text": [
          "12"
         ],
         "type": "scatter",
         "uid": "c52d37de-fae4-11e8-b19a-e35ea5c620f6",
         "x": [
          "Assign3",
          "Assign3",
          "Assign3"
         ],
         "y": [
          "Não<br>feitas"
         ]
        },
        {
         "marker": {
          "color": "rgb(0,0,255)",
          "line": {
           "width": 2
          },
          "size": [
           10,
           10
          ],
          "sizemode": "area",
          "sizeref": 0.05,
          "symbol": "circle"
         },
         "mode": "markers",
         "name": "Assign4",
         "text": [
          "10",
          "10"
         ],
         "type": "scatter",
         "uid": "c52d3874-fae4-11e8-b19a-e35ea5c620f6",
         "x": [
          "Assign4",
          "Assign4",
          "Assign4"
         ],
         "y": [
          "Feitas"
         ]
        },
        {
         "marker": {
          "color": "rgb(255,126,24)",
          "line": {
           "width": 2
          },
          "size": [
           10
          ],
          "sizemode": "area",
          "sizeref": 0.05,
          "symbol": "circle"
         },
         "mode": "markers",
         "name": "Assign4",
         "text": [
          "10"
         ],
         "type": "scatter",
         "uid": "c52d3900-fae4-11e8-b19a-e35ea5c620f6",
         "x": [
          "Assign4",
          "Assign4",
          "Assign4"
         ],
         "y": [
          "Não<br>feitas"
         ]
        },
        {
         "marker": {
          "color": "rgb(0,0,255)",
          "line": {
           "width": 2
          },
          "size": [
           6,
           14
          ],
          "sizemode": "area",
          "sizeref": 0.05,
          "symbol": "circle"
         },
         "mode": "markers",
         "name": "Assign5",
         "text": [
          "6",
          "14"
         ],
         "type": "scatter",
         "uid": "c52d3996-fae4-11e8-b19a-e35ea5c620f6",
         "x": [
          "Assign5",
          "Assign5",
          "Assign5"
         ],
         "y": [
          "Feitas"
         ]
        },
        {
         "marker": {
          "color": "rgb(255,126,24)",
          "line": {
           "width": 2
          },
          "size": [
           14
          ],
          "sizemode": "area",
          "sizeref": 0.05,
          "symbol": "circle"
         },
         "mode": "markers",
         "name": "Assign5",
         "text": [
          "14"
         ],
         "type": "scatter",
         "uid": "c52d3a2c-fae4-11e8-b19a-e35ea5c620f6",
         "x": [
          "Assign5",
          "Assign5",
          "Assign5"
         ],
         "y": [
          "Não<br>feitas"
         ]
        },
        {
         "marker": {
          "color": "rgb(0,0,255)",
          "line": {
           "width": 2
          },
          "size": [
           6,
           14
          ],
          "sizemode": "area",
          "sizeref": 0.05,
          "symbol": "circle"
         },
         "mode": "markers",
         "name": "Assign6",
         "text": [
          "6",
          "14"
         ],
         "type": "scatter",
         "uid": "c52d3ab8-fae4-11e8-b19a-e35ea5c620f6",
         "x": [
          "Assign6",
          "Assign6",
          "Assign6"
         ],
         "y": [
          "Feitas"
         ]
        },
        {
         "marker": {
          "color": "rgb(255,126,24)",
          "line": {
           "width": 2
          },
          "size": [
           14
          ],
          "sizemode": "area",
          "sizeref": 0.05,
          "symbol": "circle"
         },
         "mode": "markers",
         "name": "Assign6",
         "text": [
          "14"
         ],
         "type": "scatter",
         "uid": "c52d3b44-fae4-11e8-b19a-e35ea5c620f6",
         "x": [
          "Assign6",
          "Assign6",
          "Assign6"
         ],
         "y": [
          "Não<br>feitas"
         ]
        },
        {
         "marker": {
          "color": "rgb(0,0,255)",
          "line": {
           "width": 2
          },
          "size": [
           10,
           10
          ],
          "sizemode": "area",
          "sizeref": 0.05,
          "symbol": "circle"
         },
         "mode": "markers",
         "name": "Assign7",
         "text": [
          "10",
          "10"
         ],
         "type": "scatter",
         "uid": "c52d3bd0-fae4-11e8-b19a-e35ea5c620f6",
         "x": [
          "Assign7",
          "Assign7",
          "Assign7"
         ],
         "y": [
          "Feitas"
         ]
        },
        {
         "marker": {
          "color": "rgb(255,126,24)",
          "line": {
           "width": 2
          },
          "size": [
           10
          ],
          "sizemode": "area",
          "sizeref": 0.05,
          "symbol": "circle"
         },
         "mode": "markers",
         "name": "Assign7",
         "text": [
          "10"
         ],
         "type": "scatter",
         "uid": "c52d3c5c-fae4-11e8-b19a-e35ea5c620f6",
         "x": [
          "Assign7",
          "Assign7",
          "Assign7"
         ],
         "y": [
          "Não<br>feitas"
         ]
        },
        {
         "marker": {
          "color": "rgb(0,0,255)",
          "line": {
           "width": 2
          },
          "size": [
           8,
           12
          ],
          "sizemode": "area",
          "sizeref": 0.05,
          "symbol": "circle"
         },
         "mode": "markers",
         "name": "Assign8",
         "text": [
          "8",
          "12"
         ],
         "type": "scatter",
         "uid": "c52d3ce8-fae4-11e8-b19a-e35ea5c620f6",
         "x": [
          "Assign8",
          "Assign8",
          "Assign8"
         ],
         "y": [
          "Feitas"
         ]
        },
        {
         "marker": {
          "color": "rgb(255,126,24)",
          "line": {
           "width": 2
          },
          "size": [
           12
          ],
          "sizemode": "area",
          "sizeref": 0.05,
          "symbol": "circle"
         },
         "mode": "markers",
         "name": "Assign8",
         "text": [
          "12"
         ],
         "type": "scatter",
         "uid": "c52d3d74-fae4-11e8-b19a-e35ea5c620f6",
         "x": [
          "Assign8",
          "Assign8",
          "Assign8"
         ],
         "y": [
          "Não<br>feitas"
         ]
        },
        {
         "marker": {
          "color": "rgb(0,0,255)",
          "line": {
           "width": 2
          },
          "size": [
           9,
           11
          ],
          "sizemode": "area",
          "sizeref": 0.05,
          "symbol": "circle"
         },
         "mode": "markers",
         "name": "Assign9",
         "text": [
          "9",
          "11"
         ],
         "type": "scatter",
         "uid": "c52d3e0a-fae4-11e8-b19a-e35ea5c620f6",
         "x": [
          "Assign9",
          "Assign9",
          "Assign9"
         ],
         "y": [
          "Feitas"
         ]
        },
        {
         "marker": {
          "color": "rgb(255,126,24)",
          "line": {
           "width": 2
          },
          "size": [
           11
          ],
          "sizemode": "area",
          "sizeref": 0.05,
          "symbol": "circle"
         },
         "mode": "markers",
         "name": "Assign9",
         "text": [
          "11"
         ],
         "type": "scatter",
         "uid": "c52d3e96-fae4-11e8-b19a-e35ea5c620f6",
         "x": [
          "Assign9",
          "Assign9",
          "Assign9"
         ],
         "y": [
          "Não<br>feitas"
         ]
        },
        {
         "marker": {
          "color": "rgb(0,0,255)",
          "line": {
           "width": 2
          },
          "size": [
           6,
           14
          ],
          "sizemode": "area",
          "sizeref": 0.05,
          "symbol": "circle"
         },
         "mode": "markers",
         "name": "Assign10",
         "text": [
          "6",
          "14"
         ],
         "type": "scatter",
         "uid": "c52d3f18-fae4-11e8-b19a-e35ea5c620f6",
         "x": [
          "Assign10",
          "Assign10",
          "Assign10"
         ],
         "y": [
          "Feitas"
         ]
        },
        {
         "marker": {
          "color": "rgb(255,126,24)",
          "line": {
           "width": 2
          },
          "size": [
           14
          ],
          "sizemode": "area",
          "sizeref": 0.05,
          "symbol": "circle"
         },
         "mode": "markers",
         "name": "Assign10",
         "text": [
          "14"
         ],
         "type": "scatter",
         "uid": "c52d3f9a-fae4-11e8-b19a-e35ea5c620f6",
         "x": [
          "Assign10",
          "Assign10",
          "Assign10"
         ],
         "y": [
          "Não<br>feitas"
         ]
        }
       ],
       "layout": {
        "hovermode": "closest",
        "showlegend": false,
        "title": "Número de estudantes que fizeram e <b>não</b> fizeram as atividades",
        "xaxis": {
         "autorange": false,
         "fixedrange": false,
         "range": [
          -1,
          10
         ],
         "rangemode": "normal",
         "showline": true,
         "title": "",
         "titlefont": {
          "color": "rgb(180,180,180)"
         },
         "type": "category"
        },
        "yaxis": {
         "autorange": false,
         "fixedrange": false,
         "range": [
          -1,
          2
         ],
         "rangemode": "normal",
         "showline": true,
         "title": "",
         "titlefont": {
          "color": "rgb(180,180,180)"
         },
         "type": "category"
        }
       }
      },
      "text/html": [
       "<div id=\"b709d05f-43b4-49c8-bf2a-191141516a4c\" style=\"height: 525px; width: 100%;\" class=\"plotly-graph-div\"></div><script type=\"text/javascript\">require([\"plotly\"], function(Plotly) { window.PLOTLYENV=window.PLOTLYENV || {};window.PLOTLYENV.BASE_URL=\"https://plot.ly\";Plotly.newPlot(\"b709d05f-43b4-49c8-bf2a-191141516a4c\", [{\"marker\": {\"color\": \"rgb(0,0,255)\", \"line\": {\"width\": 2}, \"size\": [9, 11], \"sizemode\": \"area\", \"sizeref\": 0.05, \"symbol\": \"circle\"}, \"mode\": \"markers\", \"name\": \"Assign1\", \"text\": [\"9\", \"11\"], \"x\": [\"Assign1\", \"Assign1\", \"Assign1\"], \"y\": [\"Feitas\"], \"type\": \"scatter\", \"uid\": \"c52d32e8-fae4-11e8-b19a-e35ea5c620f6\"}, {\"marker\": {\"color\": \"rgb(255,126,24)\", \"line\": {\"width\": 2}, \"size\": [11], \"sizemode\": \"area\", \"sizeref\": 0.05, \"symbol\": \"circle\"}, \"mode\": \"markers\", \"name\": \"Assign1\", \"text\": [\"11\"], \"x\": [\"Assign1\", \"Assign1\", \"Assign1\"], \"y\": [\"N\\u00e3o<br>feitas\"], \"type\": \"scatter\", \"uid\": \"c52d3518-fae4-11e8-b19a-e35ea5c620f6\"}, {\"marker\": {\"color\": \"rgb(0,0,255)\", \"line\": {\"width\": 2}, \"size\": [10, 10], \"sizemode\": \"area\", \"sizeref\": 0.05, \"symbol\": \"circle\"}, \"mode\": \"markers\", \"name\": \"Assign2\", \"text\": [\"10\", \"10\"], \"x\": [\"Assign2\", \"Assign2\", \"Assign2\"], \"y\": [\"Feitas\"], \"type\": \"scatter\", \"uid\": \"c52d35f4-fae4-11e8-b19a-e35ea5c620f6\"}, {\"marker\": {\"color\": \"rgb(255,126,24)\", \"line\": {\"width\": 2}, \"size\": [10], \"sizemode\": \"area\", \"sizeref\": 0.05, \"symbol\": \"circle\"}, \"mode\": \"markers\", \"name\": \"Assign2\", \"text\": [\"10\"], \"x\": [\"Assign2\", \"Assign2\", \"Assign2\"], \"y\": [\"N\\u00e3o<br>feitas\"], \"type\": \"scatter\", \"uid\": \"c52d369e-fae4-11e8-b19a-e35ea5c620f6\"}, {\"marker\": {\"color\": \"rgb(0,0,255)\", \"line\": {\"width\": 2}, \"size\": [8, 12], \"sizemode\": \"area\", \"sizeref\": 0.05, \"symbol\": \"circle\"}, \"mode\": \"markers\", \"name\": \"Assign3\", \"text\": [\"8\", \"12\"], \"x\": [\"Assign3\", \"Assign3\", \"Assign3\"], \"y\": [\"Feitas\"], \"type\": \"scatter\", \"uid\": \"c52d3748-fae4-11e8-b19a-e35ea5c620f6\"}, {\"marker\": {\"color\": \"rgb(255,126,24)\", \"line\": {\"width\": 2}, \"size\": [12], \"sizemode\": \"area\", \"sizeref\": 0.05, \"symbol\": \"circle\"}, \"mode\": \"markers\", \"name\": \"Assign3\", \"text\": [\"12\"], \"x\": [\"Assign3\", \"Assign3\", \"Assign3\"], \"y\": [\"N\\u00e3o<br>feitas\"], \"type\": \"scatter\", \"uid\": \"c52d37de-fae4-11e8-b19a-e35ea5c620f6\"}, {\"marker\": {\"color\": \"rgb(0,0,255)\", \"line\": {\"width\": 2}, \"size\": [10, 10], \"sizemode\": \"area\", \"sizeref\": 0.05, \"symbol\": \"circle\"}, \"mode\": \"markers\", \"name\": \"Assign4\", \"text\": [\"10\", \"10\"], \"x\": [\"Assign4\", \"Assign4\", \"Assign4\"], \"y\": [\"Feitas\"], \"type\": \"scatter\", \"uid\": \"c52d3874-fae4-11e8-b19a-e35ea5c620f6\"}, {\"marker\": {\"color\": \"rgb(255,126,24)\", \"line\": {\"width\": 2}, \"size\": [10], \"sizemode\": \"area\", \"sizeref\": 0.05, \"symbol\": \"circle\"}, \"mode\": \"markers\", \"name\": \"Assign4\", \"text\": [\"10\"], \"x\": [\"Assign4\", \"Assign4\", \"Assign4\"], \"y\": [\"N\\u00e3o<br>feitas\"], \"type\": \"scatter\", \"uid\": \"c52d3900-fae4-11e8-b19a-e35ea5c620f6\"}, {\"marker\": {\"color\": \"rgb(0,0,255)\", \"line\": {\"width\": 2}, \"size\": [6, 14], \"sizemode\": \"area\", \"sizeref\": 0.05, \"symbol\": \"circle\"}, \"mode\": \"markers\", \"name\": \"Assign5\", \"text\": [\"6\", \"14\"], \"x\": [\"Assign5\", \"Assign5\", \"Assign5\"], \"y\": [\"Feitas\"], \"type\": \"scatter\", \"uid\": \"c52d3996-fae4-11e8-b19a-e35ea5c620f6\"}, {\"marker\": {\"color\": \"rgb(255,126,24)\", \"line\": {\"width\": 2}, \"size\": [14], \"sizemode\": \"area\", \"sizeref\": 0.05, \"symbol\": \"circle\"}, \"mode\": \"markers\", \"name\": \"Assign5\", \"text\": [\"14\"], \"x\": [\"Assign5\", \"Assign5\", \"Assign5\"], \"y\": [\"N\\u00e3o<br>feitas\"], \"type\": \"scatter\", \"uid\": \"c52d3a2c-fae4-11e8-b19a-e35ea5c620f6\"}, {\"marker\": {\"color\": \"rgb(0,0,255)\", \"line\": {\"width\": 2}, \"size\": [6, 14], \"sizemode\": \"area\", \"sizeref\": 0.05, \"symbol\": \"circle\"}, \"mode\": \"markers\", \"name\": \"Assign6\", \"text\": [\"6\", \"14\"], \"x\": [\"Assign6\", \"Assign6\", \"Assign6\"], \"y\": [\"Feitas\"], \"type\": \"scatter\", \"uid\": \"c52d3ab8-fae4-11e8-b19a-e35ea5c620f6\"}, {\"marker\": {\"color\": \"rgb(255,126,24)\", \"line\": {\"width\": 2}, \"size\": [14], \"sizemode\": \"area\", \"sizeref\": 0.05, \"symbol\": \"circle\"}, \"mode\": \"markers\", \"name\": \"Assign6\", \"text\": [\"14\"], \"x\": [\"Assign6\", \"Assign6\", \"Assign6\"], \"y\": [\"N\\u00e3o<br>feitas\"], \"type\": \"scatter\", \"uid\": \"c52d3b44-fae4-11e8-b19a-e35ea5c620f6\"}, {\"marker\": {\"color\": \"rgb(0,0,255)\", \"line\": {\"width\": 2}, \"size\": [10, 10], \"sizemode\": \"area\", \"sizeref\": 0.05, \"symbol\": \"circle\"}, \"mode\": \"markers\", \"name\": \"Assign7\", \"text\": [\"10\", \"10\"], \"x\": [\"Assign7\", \"Assign7\", \"Assign7\"], \"y\": [\"Feitas\"], \"type\": \"scatter\", \"uid\": \"c52d3bd0-fae4-11e8-b19a-e35ea5c620f6\"}, {\"marker\": {\"color\": \"rgb(255,126,24)\", \"line\": {\"width\": 2}, \"size\": [10], \"sizemode\": \"area\", \"sizeref\": 0.05, \"symbol\": \"circle\"}, \"mode\": \"markers\", \"name\": \"Assign7\", \"text\": [\"10\"], \"x\": [\"Assign7\", \"Assign7\", \"Assign7\"], \"y\": [\"N\\u00e3o<br>feitas\"], \"type\": \"scatter\", \"uid\": \"c52d3c5c-fae4-11e8-b19a-e35ea5c620f6\"}, {\"marker\": {\"color\": \"rgb(0,0,255)\", \"line\": {\"width\": 2}, \"size\": [8, 12], \"sizemode\": \"area\", \"sizeref\": 0.05, \"symbol\": \"circle\"}, \"mode\": \"markers\", \"name\": \"Assign8\", \"text\": [\"8\", \"12\"], \"x\": [\"Assign8\", \"Assign8\", \"Assign8\"], \"y\": [\"Feitas\"], \"type\": \"scatter\", \"uid\": \"c52d3ce8-fae4-11e8-b19a-e35ea5c620f6\"}, {\"marker\": {\"color\": \"rgb(255,126,24)\", \"line\": {\"width\": 2}, \"size\": [12], \"sizemode\": \"area\", \"sizeref\": 0.05, \"symbol\": \"circle\"}, \"mode\": \"markers\", \"name\": \"Assign8\", \"text\": [\"12\"], \"x\": [\"Assign8\", \"Assign8\", \"Assign8\"], \"y\": [\"N\\u00e3o<br>feitas\"], \"type\": \"scatter\", \"uid\": \"c52d3d74-fae4-11e8-b19a-e35ea5c620f6\"}, {\"marker\": {\"color\": \"rgb(0,0,255)\", \"line\": {\"width\": 2}, \"size\": [9, 11], \"sizemode\": \"area\", \"sizeref\": 0.05, \"symbol\": \"circle\"}, \"mode\": \"markers\", \"name\": \"Assign9\", \"text\": [\"9\", \"11\"], \"x\": [\"Assign9\", \"Assign9\", \"Assign9\"], \"y\": [\"Feitas\"], \"type\": \"scatter\", \"uid\": \"c52d3e0a-fae4-11e8-b19a-e35ea5c620f6\"}, {\"marker\": {\"color\": \"rgb(255,126,24)\", \"line\": {\"width\": 2}, \"size\": [11], \"sizemode\": \"area\", \"sizeref\": 0.05, \"symbol\": \"circle\"}, \"mode\": \"markers\", \"name\": \"Assign9\", \"text\": [\"11\"], \"x\": [\"Assign9\", \"Assign9\", \"Assign9\"], \"y\": [\"N\\u00e3o<br>feitas\"], \"type\": \"scatter\", \"uid\": \"c52d3e96-fae4-11e8-b19a-e35ea5c620f6\"}, {\"marker\": {\"color\": \"rgb(0,0,255)\", \"line\": {\"width\": 2}, \"size\": [6, 14], \"sizemode\": \"area\", \"sizeref\": 0.05, \"symbol\": \"circle\"}, \"mode\": \"markers\", \"name\": \"Assign10\", \"text\": [\"6\", \"14\"], \"x\": [\"Assign10\", \"Assign10\", \"Assign10\"], \"y\": [\"Feitas\"], \"type\": \"scatter\", \"uid\": \"c52d3f18-fae4-11e8-b19a-e35ea5c620f6\"}, {\"marker\": {\"color\": \"rgb(255,126,24)\", \"line\": {\"width\": 2}, \"size\": [14], \"sizemode\": \"area\", \"sizeref\": 0.05, \"symbol\": \"circle\"}, \"mode\": \"markers\", \"name\": \"Assign10\", \"text\": [\"14\"], \"x\": [\"Assign10\", \"Assign10\", \"Assign10\"], \"y\": [\"N\\u00e3o<br>feitas\"], \"type\": \"scatter\", \"uid\": \"c52d3f9a-fae4-11e8-b19a-e35ea5c620f6\"}], {\"hovermode\": \"closest\", \"showlegend\": false, \"title\": \"N\\u00famero de estudantes que fizeram e <b>n\\u00e3o</b> fizeram as atividades\", \"xaxis\": {\"autorange\": false, \"fixedrange\": false, \"range\": [-1, 10], \"rangemode\": \"normal\", \"showline\": true, \"title\": \"\", \"titlefont\": {\"color\": \"rgb(180,180,180)\"}, \"type\": \"category\"}, \"yaxis\": {\"autorange\": false, \"fixedrange\": false, \"range\": [-1, 2], \"rangemode\": \"normal\", \"showline\": true, \"title\": \"\", \"titlefont\": {\"color\": \"rgb(180,180,180)\"}, \"type\": \"category\"}}, {\"showLink\": true, \"linkText\": \"Export to plot.ly\"})});</script>"
      ],
      "text/vnd.plotly.v1+html": [
       "<div id=\"b709d05f-43b4-49c8-bf2a-191141516a4c\" style=\"height: 525px; width: 100%;\" class=\"plotly-graph-div\"></div><script type=\"text/javascript\">require([\"plotly\"], function(Plotly) { window.PLOTLYENV=window.PLOTLYENV || {};window.PLOTLYENV.BASE_URL=\"https://plot.ly\";Plotly.newPlot(\"b709d05f-43b4-49c8-bf2a-191141516a4c\", [{\"marker\": {\"color\": \"rgb(0,0,255)\", \"line\": {\"width\": 2}, \"size\": [9, 11], \"sizemode\": \"area\", \"sizeref\": 0.05, \"symbol\": \"circle\"}, \"mode\": \"markers\", \"name\": \"Assign1\", \"text\": [\"9\", \"11\"], \"x\": [\"Assign1\", \"Assign1\", \"Assign1\"], \"y\": [\"Feitas\"], \"type\": \"scatter\", \"uid\": \"c52d32e8-fae4-11e8-b19a-e35ea5c620f6\"}, {\"marker\": {\"color\": \"rgb(255,126,24)\", \"line\": {\"width\": 2}, \"size\": [11], \"sizemode\": \"area\", \"sizeref\": 0.05, \"symbol\": \"circle\"}, \"mode\": \"markers\", \"name\": \"Assign1\", \"text\": [\"11\"], \"x\": [\"Assign1\", \"Assign1\", \"Assign1\"], \"y\": [\"N\\u00e3o<br>feitas\"], \"type\": \"scatter\", \"uid\": \"c52d3518-fae4-11e8-b19a-e35ea5c620f6\"}, {\"marker\": {\"color\": \"rgb(0,0,255)\", \"line\": {\"width\": 2}, \"size\": [10, 10], \"sizemode\": \"area\", \"sizeref\": 0.05, \"symbol\": \"circle\"}, \"mode\": \"markers\", \"name\": \"Assign2\", \"text\": [\"10\", \"10\"], \"x\": [\"Assign2\", \"Assign2\", \"Assign2\"], \"y\": [\"Feitas\"], \"type\": \"scatter\", \"uid\": \"c52d35f4-fae4-11e8-b19a-e35ea5c620f6\"}, {\"marker\": {\"color\": \"rgb(255,126,24)\", \"line\": {\"width\": 2}, \"size\": [10], \"sizemode\": \"area\", \"sizeref\": 0.05, \"symbol\": \"circle\"}, \"mode\": \"markers\", \"name\": \"Assign2\", \"text\": [\"10\"], \"x\": [\"Assign2\", \"Assign2\", \"Assign2\"], \"y\": [\"N\\u00e3o<br>feitas\"], \"type\": \"scatter\", \"uid\": \"c52d369e-fae4-11e8-b19a-e35ea5c620f6\"}, {\"marker\": {\"color\": \"rgb(0,0,255)\", \"line\": {\"width\": 2}, \"size\": [8, 12], \"sizemode\": \"area\", \"sizeref\": 0.05, \"symbol\": \"circle\"}, \"mode\": \"markers\", \"name\": \"Assign3\", \"text\": [\"8\", \"12\"], \"x\": [\"Assign3\", \"Assign3\", \"Assign3\"], \"y\": [\"Feitas\"], \"type\": \"scatter\", \"uid\": \"c52d3748-fae4-11e8-b19a-e35ea5c620f6\"}, {\"marker\": {\"color\": \"rgb(255,126,24)\", \"line\": {\"width\": 2}, \"size\": [12], \"sizemode\": \"area\", \"sizeref\": 0.05, \"symbol\": \"circle\"}, \"mode\": \"markers\", \"name\": \"Assign3\", \"text\": [\"12\"], \"x\": [\"Assign3\", \"Assign3\", \"Assign3\"], \"y\": [\"N\\u00e3o<br>feitas\"], \"type\": \"scatter\", \"uid\": \"c52d37de-fae4-11e8-b19a-e35ea5c620f6\"}, {\"marker\": {\"color\": \"rgb(0,0,255)\", \"line\": {\"width\": 2}, \"size\": [10, 10], \"sizemode\": \"area\", \"sizeref\": 0.05, \"symbol\": \"circle\"}, \"mode\": \"markers\", \"name\": \"Assign4\", \"text\": [\"10\", \"10\"], \"x\": [\"Assign4\", \"Assign4\", \"Assign4\"], \"y\": [\"Feitas\"], \"type\": \"scatter\", \"uid\": \"c52d3874-fae4-11e8-b19a-e35ea5c620f6\"}, {\"marker\": {\"color\": \"rgb(255,126,24)\", \"line\": {\"width\": 2}, \"size\": [10], \"sizemode\": \"area\", \"sizeref\": 0.05, \"symbol\": \"circle\"}, \"mode\": \"markers\", \"name\": \"Assign4\", \"text\": [\"10\"], \"x\": [\"Assign4\", \"Assign4\", \"Assign4\"], \"y\": [\"N\\u00e3o<br>feitas\"], \"type\": \"scatter\", \"uid\": \"c52d3900-fae4-11e8-b19a-e35ea5c620f6\"}, {\"marker\": {\"color\": \"rgb(0,0,255)\", \"line\": {\"width\": 2}, \"size\": [6, 14], \"sizemode\": \"area\", \"sizeref\": 0.05, \"symbol\": \"circle\"}, \"mode\": \"markers\", \"name\": \"Assign5\", \"text\": [\"6\", \"14\"], \"x\": [\"Assign5\", \"Assign5\", \"Assign5\"], \"y\": [\"Feitas\"], \"type\": \"scatter\", \"uid\": \"c52d3996-fae4-11e8-b19a-e35ea5c620f6\"}, {\"marker\": {\"color\": \"rgb(255,126,24)\", \"line\": {\"width\": 2}, \"size\": [14], \"sizemode\": \"area\", \"sizeref\": 0.05, \"symbol\": \"circle\"}, \"mode\": \"markers\", \"name\": \"Assign5\", \"text\": [\"14\"], \"x\": [\"Assign5\", \"Assign5\", \"Assign5\"], \"y\": [\"N\\u00e3o<br>feitas\"], \"type\": \"scatter\", \"uid\": \"c52d3a2c-fae4-11e8-b19a-e35ea5c620f6\"}, {\"marker\": {\"color\": \"rgb(0,0,255)\", \"line\": {\"width\": 2}, \"size\": [6, 14], \"sizemode\": \"area\", \"sizeref\": 0.05, \"symbol\": \"circle\"}, \"mode\": \"markers\", \"name\": \"Assign6\", \"text\": [\"6\", \"14\"], \"x\": [\"Assign6\", \"Assign6\", \"Assign6\"], \"y\": [\"Feitas\"], \"type\": \"scatter\", \"uid\": \"c52d3ab8-fae4-11e8-b19a-e35ea5c620f6\"}, {\"marker\": {\"color\": \"rgb(255,126,24)\", \"line\": {\"width\": 2}, \"size\": [14], \"sizemode\": \"area\", \"sizeref\": 0.05, \"symbol\": \"circle\"}, \"mode\": \"markers\", \"name\": \"Assign6\", \"text\": [\"14\"], \"x\": [\"Assign6\", \"Assign6\", \"Assign6\"], \"y\": [\"N\\u00e3o<br>feitas\"], \"type\": \"scatter\", \"uid\": \"c52d3b44-fae4-11e8-b19a-e35ea5c620f6\"}, {\"marker\": {\"color\": \"rgb(0,0,255)\", \"line\": {\"width\": 2}, \"size\": [10, 10], \"sizemode\": \"area\", \"sizeref\": 0.05, \"symbol\": \"circle\"}, \"mode\": \"markers\", \"name\": \"Assign7\", \"text\": [\"10\", \"10\"], \"x\": [\"Assign7\", \"Assign7\", \"Assign7\"], \"y\": [\"Feitas\"], \"type\": \"scatter\", \"uid\": \"c52d3bd0-fae4-11e8-b19a-e35ea5c620f6\"}, {\"marker\": {\"color\": \"rgb(255,126,24)\", \"line\": {\"width\": 2}, \"size\": [10], \"sizemode\": \"area\", \"sizeref\": 0.05, \"symbol\": \"circle\"}, \"mode\": \"markers\", \"name\": \"Assign7\", \"text\": [\"10\"], \"x\": [\"Assign7\", \"Assign7\", \"Assign7\"], \"y\": [\"N\\u00e3o<br>feitas\"], \"type\": \"scatter\", \"uid\": \"c52d3c5c-fae4-11e8-b19a-e35ea5c620f6\"}, {\"marker\": {\"color\": \"rgb(0,0,255)\", \"line\": {\"width\": 2}, \"size\": [8, 12], \"sizemode\": \"area\", \"sizeref\": 0.05, \"symbol\": \"circle\"}, \"mode\": \"markers\", \"name\": \"Assign8\", \"text\": [\"8\", \"12\"], \"x\": [\"Assign8\", \"Assign8\", \"Assign8\"], \"y\": [\"Feitas\"], \"type\": \"scatter\", \"uid\": \"c52d3ce8-fae4-11e8-b19a-e35ea5c620f6\"}, {\"marker\": {\"color\": \"rgb(255,126,24)\", \"line\": {\"width\": 2}, \"size\": [12], \"sizemode\": \"area\", \"sizeref\": 0.05, \"symbol\": \"circle\"}, \"mode\": \"markers\", \"name\": \"Assign8\", \"text\": [\"12\"], \"x\": [\"Assign8\", \"Assign8\", \"Assign8\"], \"y\": [\"N\\u00e3o<br>feitas\"], \"type\": \"scatter\", \"uid\": \"c52d3d74-fae4-11e8-b19a-e35ea5c620f6\"}, {\"marker\": {\"color\": \"rgb(0,0,255)\", \"line\": {\"width\": 2}, \"size\": [9, 11], \"sizemode\": \"area\", \"sizeref\": 0.05, \"symbol\": \"circle\"}, \"mode\": \"markers\", \"name\": \"Assign9\", \"text\": [\"9\", \"11\"], \"x\": [\"Assign9\", \"Assign9\", \"Assign9\"], \"y\": [\"Feitas\"], \"type\": \"scatter\", \"uid\": \"c52d3e0a-fae4-11e8-b19a-e35ea5c620f6\"}, {\"marker\": {\"color\": \"rgb(255,126,24)\", \"line\": {\"width\": 2}, \"size\": [11], \"sizemode\": \"area\", \"sizeref\": 0.05, \"symbol\": \"circle\"}, \"mode\": \"markers\", \"name\": \"Assign9\", \"text\": [\"11\"], \"x\": [\"Assign9\", \"Assign9\", \"Assign9\"], \"y\": [\"N\\u00e3o<br>feitas\"], \"type\": \"scatter\", \"uid\": \"c52d3e96-fae4-11e8-b19a-e35ea5c620f6\"}, {\"marker\": {\"color\": \"rgb(0,0,255)\", \"line\": {\"width\": 2}, \"size\": [6, 14], \"sizemode\": \"area\", \"sizeref\": 0.05, \"symbol\": \"circle\"}, \"mode\": \"markers\", \"name\": \"Assign10\", \"text\": [\"6\", \"14\"], \"x\": [\"Assign10\", \"Assign10\", \"Assign10\"], \"y\": [\"Feitas\"], \"type\": \"scatter\", \"uid\": \"c52d3f18-fae4-11e8-b19a-e35ea5c620f6\"}, {\"marker\": {\"color\": \"rgb(255,126,24)\", \"line\": {\"width\": 2}, \"size\": [14], \"sizemode\": \"area\", \"sizeref\": 0.05, \"symbol\": \"circle\"}, \"mode\": \"markers\", \"name\": \"Assign10\", \"text\": [\"14\"], \"x\": [\"Assign10\", \"Assign10\", \"Assign10\"], \"y\": [\"N\\u00e3o<br>feitas\"], \"type\": \"scatter\", \"uid\": \"c52d3f9a-fae4-11e8-b19a-e35ea5c620f6\"}], {\"hovermode\": \"closest\", \"showlegend\": false, \"title\": \"N\\u00famero de estudantes que fizeram e <b>n\\u00e3o</b> fizeram as atividades\", \"xaxis\": {\"autorange\": false, \"fixedrange\": false, \"range\": [-1, 10], \"rangemode\": \"normal\", \"showline\": true, \"title\": \"\", \"titlefont\": {\"color\": \"rgb(180,180,180)\"}, \"type\": \"category\"}, \"yaxis\": {\"autorange\": false, \"fixedrange\": false, \"range\": [-1, 2], \"rangemode\": \"normal\", \"showline\": true, \"title\": \"\", \"titlefont\": {\"color\": \"rgb(180,180,180)\"}, \"type\": \"category\"}}, {\"showLink\": true, \"linkText\": \"Export to plot.ly\"})});</script>"
      ]
     },
     "metadata": {},
     "output_type": "display_data"
    },
    {
     "data": {
      "application/vnd.plotly.v1+json": {
       "data": [
        {
         "colorscale": [
          [
           0,
           "rgb(255,255,255)"
          ],
          [
           1,
           "rgb(0,0,255)"
          ]
         ],
         "showscale": false,
         "type": "heatmap",
         "uid": "c5380c9a-fae4-11e8-b19a-e35ea5c620f6",
         "x": [
          "ALMIRA",
          "ANAZIRA",
          "DAFINE",
          "DILZA",
          "ELIDO",
          "ERILIO",
          "GIUSEPPE",
          "IDELMARIA",
          "ISABELI",
          "IZILDA",
          "JOCIQUELE",
          "KARIANY",
          "MESSODY",
          "NARIELE",
          "OTO",
          "ROSALHA",
          "SELESTRINO",
          "TIARA",
          "UDILSON",
          "URSULLA"
         ],
         "y": [
          "Assign1",
          "Assign2",
          "Assign3",
          "Assign4",
          "Assign5",
          "Assign6",
          "Assign7",
          "Assign8",
          "Assign9",
          "Assign10"
         ],
         "z": [
          [
           0,
           0,
           1,
           1,
           1,
           0,
           0,
           1,
           1,
           0,
           1,
           0,
           0,
           0,
           1,
           0,
           0,
           1,
           1,
           0
          ],
          [
           0,
           1,
           1,
           0,
           0,
           1,
           1,
           1,
           1,
           0,
           1,
           1,
           0,
           0,
           0,
           1,
           0,
           0,
           1,
           0
          ],
          [
           0,
           0,
           0,
           1,
           0,
           1,
           0,
           0,
           1,
           0,
           0,
           1,
           0,
           0,
           1,
           0,
           1,
           0,
           1,
           1
          ],
          [
           1,
           1,
           0,
           0,
           1,
           0,
           1,
           0,
           0,
           0,
           0,
           1,
           1,
           0,
           1,
           1,
           0,
           1,
           1,
           0
          ],
          [
           0,
           1,
           1,
           0,
           0,
           0,
           1,
           0,
           0,
           1,
           1,
           0,
           0,
           0,
           0,
           0,
           1,
           0,
           0,
           0
          ],
          [
           0,
           0,
           1,
           0,
           1,
           0,
           1,
           0,
           0,
           0,
           0,
           0,
           0,
           0,
           1,
           1,
           0,
           0,
           1,
           0
          ],
          [
           1,
           0,
           0,
           0,
           0,
           1,
           0,
           1,
           0,
           1,
           1,
           0,
           1,
           1,
           0,
           0,
           1,
           1,
           0,
           1
          ],
          [
           0,
           0,
           0,
           1,
           0,
           1,
           0,
           1,
           1,
           1,
           1,
           0,
           0,
           0,
           0,
           0,
           1,
           0,
           1,
           0
          ],
          [
           0,
           1,
           0,
           1,
           0,
           0,
           0,
           1,
           0,
           1,
           0,
           0,
           1,
           1,
           0,
           1,
           0,
           0,
           1,
           1
          ],
          [
           1,
           0,
           1,
           0,
           0,
           0,
           1,
           1,
           1,
           0,
           0,
           0,
           0,
           0,
           1,
           0,
           0,
           0,
           0,
           0
          ]
         ]
        }
       ],
       "layout": {
        "autosize": false,
        "height": 350,
        "hovermode": "closest",
        "title": "Atividades feitas por estudante",
        "width": 950,
        "xaxis": {
         "title": "",
         "titlefont": {
          "color": "rgb(180,180,180)"
         }
        },
        "yaxis": {
         "dtick": 1,
         "exponentformat": "e",
         "gridcolor": "#bdbdbd",
         "showexponent": "all",
         "showticklabels": true,
         "tick0": 0,
         "title": "",
         "titlefont": {
          "color": "rgb(180,180,180)"
         },
         "type": "category"
        }
       }
      },
      "text/html": [
       "<div id=\"acdeed23-b4f0-4970-91a7-aa55d8b8f453\" style=\"height: 350px; width: 950px;\" class=\"plotly-graph-div\"></div><script type=\"text/javascript\">require([\"plotly\"], function(Plotly) { window.PLOTLYENV=window.PLOTLYENV || {};window.PLOTLYENV.BASE_URL=\"https://plot.ly\";Plotly.newPlot(\"acdeed23-b4f0-4970-91a7-aa55d8b8f453\", [{\"colorscale\": [[0, \"rgb(255,255,255)\"], [1, \"rgb(0,0,255)\"]], \"showscale\": false, \"x\": [\"ALMIRA\", \"ANAZIRA\", \"DAFINE\", \"DILZA\", \"ELIDO\", \"ERILIO\", \"GIUSEPPE\", \"IDELMARIA\", \"ISABELI\", \"IZILDA\", \"JOCIQUELE\", \"KARIANY\", \"MESSODY\", \"NARIELE\", \"OTO\", \"ROSALHA\", \"SELESTRINO\", \"TIARA\", \"UDILSON\", \"URSULLA\"], \"y\": [\"Assign1\", \"Assign2\", \"Assign3\", \"Assign4\", \"Assign5\", \"Assign6\", \"Assign7\", \"Assign8\", \"Assign9\", \"Assign10\"], \"z\": [[0, 0, 1, 1, 1, 0, 0, 1, 1, 0, 1, 0, 0, 0, 1, 0, 0, 1, 1, 0], [0, 1, 1, 0, 0, 1, 1, 1, 1, 0, 1, 1, 0, 0, 0, 1, 0, 0, 1, 0], [0, 0, 0, 1, 0, 1, 0, 0, 1, 0, 0, 1, 0, 0, 1, 0, 1, 0, 1, 1], [1, 1, 0, 0, 1, 0, 1, 0, 0, 0, 0, 1, 1, 0, 1, 1, 0, 1, 1, 0], [0, 1, 1, 0, 0, 0, 1, 0, 0, 1, 1, 0, 0, 0, 0, 0, 1, 0, 0, 0], [0, 0, 1, 0, 1, 0, 1, 0, 0, 0, 0, 0, 0, 0, 1, 1, 0, 0, 1, 0], [1, 0, 0, 0, 0, 1, 0, 1, 0, 1, 1, 0, 1, 1, 0, 0, 1, 1, 0, 1], [0, 0, 0, 1, 0, 1, 0, 1, 1, 1, 1, 0, 0, 0, 0, 0, 1, 0, 1, 0], [0, 1, 0, 1, 0, 0, 0, 1, 0, 1, 0, 0, 1, 1, 0, 1, 0, 0, 1, 1], [1, 0, 1, 0, 0, 0, 1, 1, 1, 0, 0, 0, 0, 0, 1, 0, 0, 0, 0, 0]], \"type\": \"heatmap\", \"uid\": \"c5380c9a-fae4-11e8-b19a-e35ea5c620f6\"}], {\"autosize\": false, \"height\": 350, \"hovermode\": \"closest\", \"title\": \"Atividades feitas por estudante\", \"width\": 950, \"xaxis\": {\"title\": \"\", \"titlefont\": {\"color\": \"rgb(180,180,180)\"}}, \"yaxis\": {\"dtick\": 1, \"exponentformat\": \"e\", \"gridcolor\": \"#bdbdbd\", \"showexponent\": \"all\", \"showticklabels\": true, \"tick0\": 0, \"title\": \"\", \"titlefont\": {\"color\": \"rgb(180,180,180)\"}, \"type\": \"category\"}}, {\"showLink\": true, \"linkText\": \"Export to plot.ly\"})});</script>"
      ],
      "text/vnd.plotly.v1+html": [
       "<div id=\"acdeed23-b4f0-4970-91a7-aa55d8b8f453\" style=\"height: 350px; width: 950px;\" class=\"plotly-graph-div\"></div><script type=\"text/javascript\">require([\"plotly\"], function(Plotly) { window.PLOTLYENV=window.PLOTLYENV || {};window.PLOTLYENV.BASE_URL=\"https://plot.ly\";Plotly.newPlot(\"acdeed23-b4f0-4970-91a7-aa55d8b8f453\", [{\"colorscale\": [[0, \"rgb(255,255,255)\"], [1, \"rgb(0,0,255)\"]], \"showscale\": false, \"x\": [\"ALMIRA\", \"ANAZIRA\", \"DAFINE\", \"DILZA\", \"ELIDO\", \"ERILIO\", \"GIUSEPPE\", \"IDELMARIA\", \"ISABELI\", \"IZILDA\", \"JOCIQUELE\", \"KARIANY\", \"MESSODY\", \"NARIELE\", \"OTO\", \"ROSALHA\", \"SELESTRINO\", \"TIARA\", \"UDILSON\", \"URSULLA\"], \"y\": [\"Assign1\", \"Assign2\", \"Assign3\", \"Assign4\", \"Assign5\", \"Assign6\", \"Assign7\", \"Assign8\", \"Assign9\", \"Assign10\"], \"z\": [[0, 0, 1, 1, 1, 0, 0, 1, 1, 0, 1, 0, 0, 0, 1, 0, 0, 1, 1, 0], [0, 1, 1, 0, 0, 1, 1, 1, 1, 0, 1, 1, 0, 0, 0, 1, 0, 0, 1, 0], [0, 0, 0, 1, 0, 1, 0, 0, 1, 0, 0, 1, 0, 0, 1, 0, 1, 0, 1, 1], [1, 1, 0, 0, 1, 0, 1, 0, 0, 0, 0, 1, 1, 0, 1, 1, 0, 1, 1, 0], [0, 1, 1, 0, 0, 0, 1, 0, 0, 1, 1, 0, 0, 0, 0, 0, 1, 0, 0, 0], [0, 0, 1, 0, 1, 0, 1, 0, 0, 0, 0, 0, 0, 0, 1, 1, 0, 0, 1, 0], [1, 0, 0, 0, 0, 1, 0, 1, 0, 1, 1, 0, 1, 1, 0, 0, 1, 1, 0, 1], [0, 0, 0, 1, 0, 1, 0, 1, 1, 1, 1, 0, 0, 0, 0, 0, 1, 0, 1, 0], [0, 1, 0, 1, 0, 0, 0, 1, 0, 1, 0, 0, 1, 1, 0, 1, 0, 0, 1, 1], [1, 0, 1, 0, 0, 0, 1, 1, 1, 0, 0, 0, 0, 0, 1, 0, 0, 0, 0, 0]], \"type\": \"heatmap\", \"uid\": \"c5380c9a-fae4-11e8-b19a-e35ea5c620f6\"}], {\"autosize\": false, \"height\": 350, \"hovermode\": \"closest\", \"title\": \"Atividades feitas por estudante\", \"width\": 950, \"xaxis\": {\"title\": \"\", \"titlefont\": {\"color\": \"rgb(180,180,180)\"}}, \"yaxis\": {\"dtick\": 1, \"exponentformat\": \"e\", \"gridcolor\": \"#bdbdbd\", \"showexponent\": \"all\", \"showticklabels\": true, \"tick0\": 0, \"title\": \"\", \"titlefont\": {\"color\": \"rgb(180,180,180)\"}, \"type\": \"category\"}}, {\"showLink\": true, \"linkText\": \"Export to plot.ly\"})});</script>"
      ]
     },
     "metadata": {},
     "output_type": "display_data"
    },
    {
     "data": {
      "application/vnd.plotly.v1+json": {
       "data": [
        {
         "colorscale": [
          [
           0,
           "rgb(255,255,255)"
          ],
          [
           1,
           "rgb(255,126,24)"
          ]
         ],
         "showscale": false,
         "type": "heatmap",
         "uid": "c53d92a0-fae4-11e8-b19a-e35ea5c620f6",
         "x": [
          "ALMIRA",
          "ANAZIRA",
          "DAFINE",
          "DILZA",
          "ELIDO",
          "ERILIO",
          "GIUSEPPE",
          "IDELMARIA",
          "ISABELI",
          "IZILDA",
          "JOCIQUELE",
          "KARIANY",
          "MESSODY",
          "NARIELE",
          "OTO",
          "ROSALHA",
          "SELESTRINO",
          "TIARA",
          "UDILSON",
          "URSULLA"
         ],
         "y": [
          "Assign1",
          "Assign2",
          "Assign3",
          "Assign4",
          "Assign5",
          "Assign6",
          "Assign7",
          "Assign8",
          "Assign9",
          "Assign10"
         ],
         "z": [
          [
           1,
           1,
           0,
           0,
           0,
           1,
           1,
           0,
           0,
           1,
           0,
           1,
           1,
           1,
           0,
           1,
           1,
           0,
           0,
           1
          ],
          [
           1,
           0,
           0,
           1,
           1,
           0,
           0,
           0,
           0,
           1,
           0,
           0,
           1,
           1,
           1,
           0,
           1,
           1,
           0,
           1
          ],
          [
           1,
           1,
           1,
           0,
           1,
           0,
           1,
           1,
           0,
           1,
           1,
           0,
           1,
           1,
           0,
           1,
           0,
           1,
           0,
           0
          ],
          [
           0,
           0,
           1,
           1,
           0,
           1,
           0,
           1,
           1,
           1,
           1,
           0,
           0,
           1,
           0,
           0,
           1,
           0,
           0,
           1
          ],
          [
           1,
           0,
           0,
           1,
           1,
           1,
           0,
           1,
           1,
           0,
           0,
           1,
           1,
           1,
           1,
           1,
           0,
           1,
           1,
           1
          ],
          [
           1,
           1,
           0,
           1,
           0,
           1,
           0,
           1,
           1,
           1,
           1,
           1,
           1,
           1,
           0,
           0,
           1,
           1,
           0,
           1
          ],
          [
           0,
           1,
           1,
           1,
           1,
           0,
           1,
           0,
           1,
           0,
           0,
           1,
           0,
           0,
           1,
           1,
           0,
           0,
           1,
           0
          ],
          [
           1,
           1,
           1,
           0,
           1,
           0,
           1,
           0,
           0,
           0,
           0,
           1,
           1,
           1,
           1,
           1,
           0,
           1,
           0,
           1
          ],
          [
           1,
           0,
           1,
           0,
           1,
           1,
           1,
           0,
           1,
           0,
           1,
           1,
           0,
           0,
           1,
           0,
           1,
           1,
           0,
           0
          ],
          [
           0,
           1,
           0,
           1,
           1,
           1,
           0,
           0,
           0,
           1,
           1,
           1,
           1,
           1,
           0,
           1,
           1,
           1,
           1,
           1
          ]
         ]
        }
       ],
       "layout": {
        "autosize": false,
        "height": 350,
        "hovermode": "closest",
        "title": "Atividades <b>não</b> feitas por estudante",
        "width": 950,
        "xaxis": {
         "title": "",
         "titlefont": {
          "color": "rgb(180,180,180)"
         }
        },
        "yaxis": {
         "dtick": 1,
         "exponentformat": "e",
         "gridcolor": "#bdbdbd",
         "showexponent": "all",
         "showticklabels": true,
         "tick0": 0,
         "title": "",
         "titlefont": {
          "color": "rgb(180,180,180)"
         },
         "type": "category"
        }
       }
      },
      "text/html": [
       "<div id=\"28e60aad-7a2f-487a-b69e-5c0f788e0280\" style=\"height: 350px; width: 950px;\" class=\"plotly-graph-div\"></div><script type=\"text/javascript\">require([\"plotly\"], function(Plotly) { window.PLOTLYENV=window.PLOTLYENV || {};window.PLOTLYENV.BASE_URL=\"https://plot.ly\";Plotly.newPlot(\"28e60aad-7a2f-487a-b69e-5c0f788e0280\", [{\"colorscale\": [[0, \"rgb(255,255,255)\"], [1, \"rgb(255,126,24)\"]], \"showscale\": false, \"x\": [\"ALMIRA\", \"ANAZIRA\", \"DAFINE\", \"DILZA\", \"ELIDO\", \"ERILIO\", \"GIUSEPPE\", \"IDELMARIA\", \"ISABELI\", \"IZILDA\", \"JOCIQUELE\", \"KARIANY\", \"MESSODY\", \"NARIELE\", \"OTO\", \"ROSALHA\", \"SELESTRINO\", \"TIARA\", \"UDILSON\", \"URSULLA\"], \"y\": [\"Assign1\", \"Assign2\", \"Assign3\", \"Assign4\", \"Assign5\", \"Assign6\", \"Assign7\", \"Assign8\", \"Assign9\", \"Assign10\"], \"z\": [[1, 1, 0, 0, 0, 1, 1, 0, 0, 1, 0, 1, 1, 1, 0, 1, 1, 0, 0, 1], [1, 0, 0, 1, 1, 0, 0, 0, 0, 1, 0, 0, 1, 1, 1, 0, 1, 1, 0, 1], [1, 1, 1, 0, 1, 0, 1, 1, 0, 1, 1, 0, 1, 1, 0, 1, 0, 1, 0, 0], [0, 0, 1, 1, 0, 1, 0, 1, 1, 1, 1, 0, 0, 1, 0, 0, 1, 0, 0, 1], [1, 0, 0, 1, 1, 1, 0, 1, 1, 0, 0, 1, 1, 1, 1, 1, 0, 1, 1, 1], [1, 1, 0, 1, 0, 1, 0, 1, 1, 1, 1, 1, 1, 1, 0, 0, 1, 1, 0, 1], [0, 1, 1, 1, 1, 0, 1, 0, 1, 0, 0, 1, 0, 0, 1, 1, 0, 0, 1, 0], [1, 1, 1, 0, 1, 0, 1, 0, 0, 0, 0, 1, 1, 1, 1, 1, 0, 1, 0, 1], [1, 0, 1, 0, 1, 1, 1, 0, 1, 0, 1, 1, 0, 0, 1, 0, 1, 1, 0, 0], [0, 1, 0, 1, 1, 1, 0, 0, 0, 1, 1, 1, 1, 1, 0, 1, 1, 1, 1, 1]], \"type\": \"heatmap\", \"uid\": \"c53d92a0-fae4-11e8-b19a-e35ea5c620f6\"}], {\"autosize\": false, \"height\": 350, \"hovermode\": \"closest\", \"title\": \"Atividades <b>n\\u00e3o</b> feitas por estudante\", \"width\": 950, \"xaxis\": {\"title\": \"\", \"titlefont\": {\"color\": \"rgb(180,180,180)\"}}, \"yaxis\": {\"dtick\": 1, \"exponentformat\": \"e\", \"gridcolor\": \"#bdbdbd\", \"showexponent\": \"all\", \"showticklabels\": true, \"tick0\": 0, \"title\": \"\", \"titlefont\": {\"color\": \"rgb(180,180,180)\"}, \"type\": \"category\"}}, {\"showLink\": true, \"linkText\": \"Export to plot.ly\"})});</script>"
      ],
      "text/vnd.plotly.v1+html": [
       "<div id=\"28e60aad-7a2f-487a-b69e-5c0f788e0280\" style=\"height: 350px; width: 950px;\" class=\"plotly-graph-div\"></div><script type=\"text/javascript\">require([\"plotly\"], function(Plotly) { window.PLOTLYENV=window.PLOTLYENV || {};window.PLOTLYENV.BASE_URL=\"https://plot.ly\";Plotly.newPlot(\"28e60aad-7a2f-487a-b69e-5c0f788e0280\", [{\"colorscale\": [[0, \"rgb(255,255,255)\"], [1, \"rgb(255,126,24)\"]], \"showscale\": false, \"x\": [\"ALMIRA\", \"ANAZIRA\", \"DAFINE\", \"DILZA\", \"ELIDO\", \"ERILIO\", \"GIUSEPPE\", \"IDELMARIA\", \"ISABELI\", \"IZILDA\", \"JOCIQUELE\", \"KARIANY\", \"MESSODY\", \"NARIELE\", \"OTO\", \"ROSALHA\", \"SELESTRINO\", \"TIARA\", \"UDILSON\", \"URSULLA\"], \"y\": [\"Assign1\", \"Assign2\", \"Assign3\", \"Assign4\", \"Assign5\", \"Assign6\", \"Assign7\", \"Assign8\", \"Assign9\", \"Assign10\"], \"z\": [[1, 1, 0, 0, 0, 1, 1, 0, 0, 1, 0, 1, 1, 1, 0, 1, 1, 0, 0, 1], [1, 0, 0, 1, 1, 0, 0, 0, 0, 1, 0, 0, 1, 1, 1, 0, 1, 1, 0, 1], [1, 1, 1, 0, 1, 0, 1, 1, 0, 1, 1, 0, 1, 1, 0, 1, 0, 1, 0, 0], [0, 0, 1, 1, 0, 1, 0, 1, 1, 1, 1, 0, 0, 1, 0, 0, 1, 0, 0, 1], [1, 0, 0, 1, 1, 1, 0, 1, 1, 0, 0, 1, 1, 1, 1, 1, 0, 1, 1, 1], [1, 1, 0, 1, 0, 1, 0, 1, 1, 1, 1, 1, 1, 1, 0, 0, 1, 1, 0, 1], [0, 1, 1, 1, 1, 0, 1, 0, 1, 0, 0, 1, 0, 0, 1, 1, 0, 0, 1, 0], [1, 1, 1, 0, 1, 0, 1, 0, 0, 0, 0, 1, 1, 1, 1, 1, 0, 1, 0, 1], [1, 0, 1, 0, 1, 1, 1, 0, 1, 0, 1, 1, 0, 0, 1, 0, 1, 1, 0, 0], [0, 1, 0, 1, 1, 1, 0, 0, 0, 1, 1, 1, 1, 1, 0, 1, 1, 1, 1, 1]], \"type\": \"heatmap\", \"uid\": \"c53d92a0-fae4-11e8-b19a-e35ea5c620f6\"}], {\"autosize\": false, \"height\": 350, \"hovermode\": \"closest\", \"title\": \"Atividades <b>n\\u00e3o</b> feitas por estudante\", \"width\": 950, \"xaxis\": {\"title\": \"\", \"titlefont\": {\"color\": \"rgb(180,180,180)\"}}, \"yaxis\": {\"dtick\": 1, \"exponentformat\": \"e\", \"gridcolor\": \"#bdbdbd\", \"showexponent\": \"all\", \"showticklabels\": true, \"tick0\": 0, \"title\": \"\", \"titlefont\": {\"color\": \"rgb(180,180,180)\"}, \"type\": \"category\"}}, {\"showLink\": true, \"linkText\": \"Export to plot.ly\"})});</script>"
      ]
     },
     "metadata": {},
     "output_type": "display_data"
    },
    {
     "data": {
      "application/vnd.plotly.v1+json": {
       "data": [
        {
         "colorscale": [
          [
           0,
           "rgb(255,126,24)"
          ],
          [
           1,
           "rgb(0,0,255)"
          ]
         ],
         "showscale": false,
         "type": "heatmap",
         "uid": "c54367ca-fae4-11e8-b19a-e35ea5c620f6",
         "x": [
          "ALMIRA",
          "ANAZIRA",
          "DAFINE",
          "DILZA",
          "ELIDO",
          "ERILIO",
          "GIUSEPPE",
          "IDELMARIA",
          "ISABELI",
          "IZILDA",
          "JOCIQUELE",
          "KARIANY",
          "MESSODY",
          "NARIELE",
          "OTO",
          "ROSALHA",
          "SELESTRINO",
          "TIARA",
          "UDILSON",
          "URSULLA"
         ],
         "y": [
          "Assign1",
          "Assign2",
          "Assign3",
          "Assign4",
          "Assign5",
          "Assign6",
          "Assign7",
          "Assign8",
          "Assign9",
          "Assign10"
         ],
         "z": [
          [
           0,
           0,
           1,
           1,
           1,
           0,
           0,
           1,
           1,
           0,
           1,
           0,
           0,
           0,
           1,
           0,
           0,
           1,
           1,
           0
          ],
          [
           0,
           1,
           1,
           0,
           0,
           1,
           1,
           1,
           1,
           0,
           1,
           1,
           0,
           0,
           0,
           1,
           0,
           0,
           1,
           0
          ],
          [
           0,
           0,
           0,
           1,
           0,
           1,
           0,
           0,
           1,
           0,
           0,
           1,
           0,
           0,
           1,
           0,
           1,
           0,
           1,
           1
          ],
          [
           1,
           1,
           0,
           0,
           1,
           0,
           1,
           0,
           0,
           0,
           0,
           1,
           1,
           0,
           1,
           1,
           0,
           1,
           1,
           0
          ],
          [
           0,
           1,
           1,
           0,
           0,
           0,
           1,
           0,
           0,
           1,
           1,
           0,
           0,
           0,
           0,
           0,
           1,
           0,
           0,
           0
          ],
          [
           0,
           0,
           1,
           0,
           1,
           0,
           1,
           0,
           0,
           0,
           0,
           0,
           0,
           0,
           1,
           1,
           0,
           0,
           1,
           0
          ],
          [
           1,
           0,
           0,
           0,
           0,
           1,
           0,
           1,
           0,
           1,
           1,
           0,
           1,
           1,
           0,
           0,
           1,
           1,
           0,
           1
          ],
          [
           0,
           0,
           0,
           1,
           0,
           1,
           0,
           1,
           1,
           1,
           1,
           0,
           0,
           0,
           0,
           0,
           1,
           0,
           1,
           0
          ],
          [
           0,
           1,
           0,
           1,
           0,
           0,
           0,
           1,
           0,
           1,
           0,
           0,
           1,
           1,
           0,
           1,
           0,
           0,
           1,
           1
          ],
          [
           1,
           0,
           1,
           0,
           0,
           0,
           1,
           1,
           1,
           0,
           0,
           0,
           0,
           0,
           1,
           0,
           0,
           0,
           0,
           0
          ]
         ]
        }
       ],
       "layout": {
        "autosize": false,
        "height": 350,
        "hovermode": "closest",
        "title": "Atividades feitas e <b>não</b> feitas por estudante",
        "width": 950,
        "xaxis": {
         "title": "",
         "titlefont": {
          "color": "rgb(180,180,180)"
         }
        },
        "yaxis": {
         "dtick": 1,
         "exponentformat": "e",
         "gridcolor": "#bdbdbd",
         "showexponent": "all",
         "showticklabels": true,
         "tick0": 0,
         "title": "",
         "titlefont": {
          "color": "rgb(180,180,180)"
         },
         "type": "category"
        }
       }
      },
      "text/html": [
       "<div id=\"366779d8-2779-4da1-9e36-ba162760f9e9\" style=\"height: 350px; width: 950px;\" class=\"plotly-graph-div\"></div><script type=\"text/javascript\">require([\"plotly\"], function(Plotly) { window.PLOTLYENV=window.PLOTLYENV || {};window.PLOTLYENV.BASE_URL=\"https://plot.ly\";Plotly.newPlot(\"366779d8-2779-4da1-9e36-ba162760f9e9\", [{\"colorscale\": [[0, \"rgb(255,126,24)\"], [1, \"rgb(0,0,255)\"]], \"showscale\": false, \"x\": [\"ALMIRA\", \"ANAZIRA\", \"DAFINE\", \"DILZA\", \"ELIDO\", \"ERILIO\", \"GIUSEPPE\", \"IDELMARIA\", \"ISABELI\", \"IZILDA\", \"JOCIQUELE\", \"KARIANY\", \"MESSODY\", \"NARIELE\", \"OTO\", \"ROSALHA\", \"SELESTRINO\", \"TIARA\", \"UDILSON\", \"URSULLA\"], \"y\": [\"Assign1\", \"Assign2\", \"Assign3\", \"Assign4\", \"Assign5\", \"Assign6\", \"Assign7\", \"Assign8\", \"Assign9\", \"Assign10\"], \"z\": [[0, 0, 1, 1, 1, 0, 0, 1, 1, 0, 1, 0, 0, 0, 1, 0, 0, 1, 1, 0], [0, 1, 1, 0, 0, 1, 1, 1, 1, 0, 1, 1, 0, 0, 0, 1, 0, 0, 1, 0], [0, 0, 0, 1, 0, 1, 0, 0, 1, 0, 0, 1, 0, 0, 1, 0, 1, 0, 1, 1], [1, 1, 0, 0, 1, 0, 1, 0, 0, 0, 0, 1, 1, 0, 1, 1, 0, 1, 1, 0], [0, 1, 1, 0, 0, 0, 1, 0, 0, 1, 1, 0, 0, 0, 0, 0, 1, 0, 0, 0], [0, 0, 1, 0, 1, 0, 1, 0, 0, 0, 0, 0, 0, 0, 1, 1, 0, 0, 1, 0], [1, 0, 0, 0, 0, 1, 0, 1, 0, 1, 1, 0, 1, 1, 0, 0, 1, 1, 0, 1], [0, 0, 0, 1, 0, 1, 0, 1, 1, 1, 1, 0, 0, 0, 0, 0, 1, 0, 1, 0], [0, 1, 0, 1, 0, 0, 0, 1, 0, 1, 0, 0, 1, 1, 0, 1, 0, 0, 1, 1], [1, 0, 1, 0, 0, 0, 1, 1, 1, 0, 0, 0, 0, 0, 1, 0, 0, 0, 0, 0]], \"type\": \"heatmap\", \"uid\": \"c54367ca-fae4-11e8-b19a-e35ea5c620f6\"}], {\"autosize\": false, \"height\": 350, \"hovermode\": \"closest\", \"title\": \"Atividades feitas e <b>n\\u00e3o</b> feitas por estudante\", \"width\": 950, \"xaxis\": {\"title\": \"\", \"titlefont\": {\"color\": \"rgb(180,180,180)\"}}, \"yaxis\": {\"dtick\": 1, \"exponentformat\": \"e\", \"gridcolor\": \"#bdbdbd\", \"showexponent\": \"all\", \"showticklabels\": true, \"tick0\": 0, \"title\": \"\", \"titlefont\": {\"color\": \"rgb(180,180,180)\"}, \"type\": \"category\"}}, {\"showLink\": true, \"linkText\": \"Export to plot.ly\"})});</script>"
      ],
      "text/vnd.plotly.v1+html": [
       "<div id=\"366779d8-2779-4da1-9e36-ba162760f9e9\" style=\"height: 350px; width: 950px;\" class=\"plotly-graph-div\"></div><script type=\"text/javascript\">require([\"plotly\"], function(Plotly) { window.PLOTLYENV=window.PLOTLYENV || {};window.PLOTLYENV.BASE_URL=\"https://plot.ly\";Plotly.newPlot(\"366779d8-2779-4da1-9e36-ba162760f9e9\", [{\"colorscale\": [[0, \"rgb(255,126,24)\"], [1, \"rgb(0,0,255)\"]], \"showscale\": false, \"x\": [\"ALMIRA\", \"ANAZIRA\", \"DAFINE\", \"DILZA\", \"ELIDO\", \"ERILIO\", \"GIUSEPPE\", \"IDELMARIA\", \"ISABELI\", \"IZILDA\", \"JOCIQUELE\", \"KARIANY\", \"MESSODY\", \"NARIELE\", \"OTO\", \"ROSALHA\", \"SELESTRINO\", \"TIARA\", \"UDILSON\", \"URSULLA\"], \"y\": [\"Assign1\", \"Assign2\", \"Assign3\", \"Assign4\", \"Assign5\", \"Assign6\", \"Assign7\", \"Assign8\", \"Assign9\", \"Assign10\"], \"z\": [[0, 0, 1, 1, 1, 0, 0, 1, 1, 0, 1, 0, 0, 0, 1, 0, 0, 1, 1, 0], [0, 1, 1, 0, 0, 1, 1, 1, 1, 0, 1, 1, 0, 0, 0, 1, 0, 0, 1, 0], [0, 0, 0, 1, 0, 1, 0, 0, 1, 0, 0, 1, 0, 0, 1, 0, 1, 0, 1, 1], [1, 1, 0, 0, 1, 0, 1, 0, 0, 0, 0, 1, 1, 0, 1, 1, 0, 1, 1, 0], [0, 1, 1, 0, 0, 0, 1, 0, 0, 1, 1, 0, 0, 0, 0, 0, 1, 0, 0, 0], [0, 0, 1, 0, 1, 0, 1, 0, 0, 0, 0, 0, 0, 0, 1, 1, 0, 0, 1, 0], [1, 0, 0, 0, 0, 1, 0, 1, 0, 1, 1, 0, 1, 1, 0, 0, 1, 1, 0, 1], [0, 0, 0, 1, 0, 1, 0, 1, 1, 1, 1, 0, 0, 0, 0, 0, 1, 0, 1, 0], [0, 1, 0, 1, 0, 0, 0, 1, 0, 1, 0, 0, 1, 1, 0, 1, 0, 0, 1, 1], [1, 0, 1, 0, 0, 0, 1, 1, 1, 0, 0, 0, 0, 0, 1, 0, 0, 0, 0, 0]], \"type\": \"heatmap\", \"uid\": \"c54367ca-fae4-11e8-b19a-e35ea5c620f6\"}], {\"autosize\": false, \"height\": 350, \"hovermode\": \"closest\", \"title\": \"Atividades feitas e <b>n\\u00e3o</b> feitas por estudante\", \"width\": 950, \"xaxis\": {\"title\": \"\", \"titlefont\": {\"color\": \"rgb(180,180,180)\"}}, \"yaxis\": {\"dtick\": 1, \"exponentformat\": \"e\", \"gridcolor\": \"#bdbdbd\", \"showexponent\": \"all\", \"showticklabels\": true, \"tick0\": 0, \"title\": \"\", \"titlefont\": {\"color\": \"rgb(180,180,180)\"}, \"type\": \"category\"}}, {\"showLink\": true, \"linkText\": \"Export to plot.ly\"})});</script>"
      ]
     },
     "metadata": {},
     "output_type": "display_data"
    },
    {
     "data": {
      "application/vnd.plotly.v1+json": {
       "data": [
        {
         "colorscale": [
          [
           0,
           "rgb(255,255,255)"
          ],
          [
           1,
           "rgb(0,0,255)"
          ]
         ],
         "showscale": true,
         "type": "heatmap",
         "uid": "c5481626-fae4-11e8-b19a-e35ea5c620f6",
         "x": [
          "ALMIRA",
          "ANAZIRA",
          "DAFINE",
          "DILZA",
          "ELIDO",
          "ERILIO",
          "GIUSEPPE",
          "IDELMARIA",
          "ISABELI",
          "IZILDA",
          "JOCIQUELE",
          "KARIANY",
          "MESSODY",
          "NARIELE",
          "OTO",
          "ROSALHA",
          "SELESTRINO",
          "TIARA",
          "UDILSON",
          "URSULLA"
         ],
         "y": [
          "Feitas",
          "Não<br>feitas"
         ],
         "z": [
          [
           3,
           4,
           5,
           4,
           3,
           4,
           5,
           6,
           5,
           4,
           5,
           3,
           3,
           2,
           5,
           4,
           4,
           3,
           7,
           3
          ],
          [
           7,
           6,
           5,
           6,
           7,
           6,
           5,
           4,
           5,
           6,
           5,
           7,
           7,
           8,
           5,
           6,
           6,
           7,
           3,
           7
          ]
         ]
        }
       ],
       "layout": {
        "autosize": false,
        "height": 350,
        "hovermode": "closest",
        "title": "Número de atividades feitas e <b>não</b> feitas por estudante",
        "width": 950,
        "xaxis": {
         "title": "",
         "titlefont": {
          "color": "rgb(180,180,180)"
         }
        },
        "yaxis": {
         "dtick": 1,
         "exponentformat": "e",
         "gridcolor": "#bdbdbd",
         "showexponent": "all",
         "showticklabels": true,
         "tick0": 0,
         "title": "",
         "titlefont": {
          "color": "rgb(180,180,180)"
         },
         "type": "category"
        }
       }
      },
      "text/html": [
       "<div id=\"f2ff0736-515f-4a43-b3b8-fce992530940\" style=\"height: 350px; width: 950px;\" class=\"plotly-graph-div\"></div><script type=\"text/javascript\">require([\"plotly\"], function(Plotly) { window.PLOTLYENV=window.PLOTLYENV || {};window.PLOTLYENV.BASE_URL=\"https://plot.ly\";Plotly.newPlot(\"f2ff0736-515f-4a43-b3b8-fce992530940\", [{\"colorscale\": [[0, \"rgb(255,255,255)\"], [1, \"rgb(0,0,255)\"]], \"showscale\": true, \"x\": [\"ALMIRA\", \"ANAZIRA\", \"DAFINE\", \"DILZA\", \"ELIDO\", \"ERILIO\", \"GIUSEPPE\", \"IDELMARIA\", \"ISABELI\", \"IZILDA\", \"JOCIQUELE\", \"KARIANY\", \"MESSODY\", \"NARIELE\", \"OTO\", \"ROSALHA\", \"SELESTRINO\", \"TIARA\", \"UDILSON\", \"URSULLA\"], \"y\": [\"Feitas\", \"N\\u00e3o<br>feitas\"], \"z\": [[3, 4, 5, 4, 3, 4, 5, 6, 5, 4, 5, 3, 3, 2, 5, 4, 4, 3, 7, 3], [7, 6, 5, 6, 7, 6, 5, 4, 5, 6, 5, 7, 7, 8, 5, 6, 6, 7, 3, 7]], \"type\": \"heatmap\", \"uid\": \"c5481626-fae4-11e8-b19a-e35ea5c620f6\"}], {\"autosize\": false, \"height\": 350, \"hovermode\": \"closest\", \"title\": \"N\\u00famero de atividades feitas e <b>n\\u00e3o</b> feitas por estudante\", \"width\": 950, \"xaxis\": {\"title\": \"\", \"titlefont\": {\"color\": \"rgb(180,180,180)\"}}, \"yaxis\": {\"dtick\": 1, \"exponentformat\": \"e\", \"gridcolor\": \"#bdbdbd\", \"showexponent\": \"all\", \"showticklabels\": true, \"tick0\": 0, \"title\": \"\", \"titlefont\": {\"color\": \"rgb(180,180,180)\"}, \"type\": \"category\"}}, {\"showLink\": true, \"linkText\": \"Export to plot.ly\"})});</script>"
      ],
      "text/vnd.plotly.v1+html": [
       "<div id=\"f2ff0736-515f-4a43-b3b8-fce992530940\" style=\"height: 350px; width: 950px;\" class=\"plotly-graph-div\"></div><script type=\"text/javascript\">require([\"plotly\"], function(Plotly) { window.PLOTLYENV=window.PLOTLYENV || {};window.PLOTLYENV.BASE_URL=\"https://plot.ly\";Plotly.newPlot(\"f2ff0736-515f-4a43-b3b8-fce992530940\", [{\"colorscale\": [[0, \"rgb(255,255,255)\"], [1, \"rgb(0,0,255)\"]], \"showscale\": true, \"x\": [\"ALMIRA\", \"ANAZIRA\", \"DAFINE\", \"DILZA\", \"ELIDO\", \"ERILIO\", \"GIUSEPPE\", \"IDELMARIA\", \"ISABELI\", \"IZILDA\", \"JOCIQUELE\", \"KARIANY\", \"MESSODY\", \"NARIELE\", \"OTO\", \"ROSALHA\", \"SELESTRINO\", \"TIARA\", \"UDILSON\", \"URSULLA\"], \"y\": [\"Feitas\", \"N\\u00e3o<br>feitas\"], \"z\": [[3, 4, 5, 4, 3, 4, 5, 6, 5, 4, 5, 3, 3, 2, 5, 4, 4, 3, 7, 3], [7, 6, 5, 6, 7, 6, 5, 4, 5, 6, 5, 7, 7, 8, 5, 6, 6, 7, 3, 7]], \"type\": \"heatmap\", \"uid\": \"c5481626-fae4-11e8-b19a-e35ea5c620f6\"}], {\"autosize\": false, \"height\": 350, \"hovermode\": \"closest\", \"title\": \"N\\u00famero de atividades feitas e <b>n\\u00e3o</b> feitas por estudante\", \"width\": 950, \"xaxis\": {\"title\": \"\", \"titlefont\": {\"color\": \"rgb(180,180,180)\"}}, \"yaxis\": {\"dtick\": 1, \"exponentformat\": \"e\", \"gridcolor\": \"#bdbdbd\", \"showexponent\": \"all\", \"showticklabels\": true, \"tick0\": 0, \"title\": \"\", \"titlefont\": {\"color\": \"rgb(180,180,180)\"}, \"type\": \"category\"}}, {\"showLink\": true, \"linkText\": \"Export to plot.ly\"})});</script>"
      ]
     },
     "metadata": {},
     "output_type": "display_data"
    },
    {
     "data": {
      "application/vnd.plotly.v1+json": {
       "data": [
        {
         "colorscale": [
          [
           0,
           "rgb(255,255,255)"
          ],
          [
           1,
           "rgb(0,0,255)"
          ]
         ],
         "showscale": true,
         "type": "heatmap",
         "uid": "c553992e-fae4-11e8-b19a-e35ea5c620f6",
         "x": [
          "ALMIRA",
          "ANAZIRA",
          "DAFINE",
          "DILZA",
          "ELIDO",
          "ERILIO",
          "GIUSEPPE",
          "IDELMARIA",
          "ISABELI",
          "IZILDA",
          "JOCIQUELE",
          "KARIANY",
          "MESSODY",
          "NARIELE",
          "OTO",
          "ROSALHA",
          "SELESTRINO",
          "TIARA",
          "UDILSON",
          "URSULLA"
         ],
         "y": [
          "Feitas",
          "Não<br>feitas"
         ],
         "z": [
          [
           3,
           4,
           5,
           4,
           3,
           4,
           5,
           6,
           5,
           4,
           5,
           3,
           3,
           2,
           5,
           4,
           4,
           3,
           7,
           3
          ],
          [
           7,
           6,
           5,
           6,
           7,
           6,
           5,
           4,
           5,
           6,
           5,
           7,
           7,
           8,
           5,
           6,
           6,
           7,
           3,
           7
          ]
         ]
        }
       ],
       "layout": {
        "annotations": [
         {
          "font": {
           "color": "rgb(0,0,0)"
          },
          "showarrow": false,
          "text": "3",
          "x": "ALMIRA",
          "xref": "x",
          "y": "Feitas",
          "yref": "y"
         },
         {
          "font": {
           "color": "rgb(0,0,0)"
          },
          "showarrow": false,
          "text": "4",
          "x": "ANAZIRA",
          "xref": "x",
          "y": "Feitas",
          "yref": "y"
         },
         {
          "font": {
           "color": "rgb(255,255,255)"
          },
          "showarrow": false,
          "text": "5",
          "x": "DAFINE",
          "xref": "x",
          "y": "Feitas",
          "yref": "y"
         },
         {
          "font": {
           "color": "rgb(0,0,0)"
          },
          "showarrow": false,
          "text": "4",
          "x": "DILZA",
          "xref": "x",
          "y": "Feitas",
          "yref": "y"
         },
         {
          "font": {
           "color": "rgb(0,0,0)"
          },
          "showarrow": false,
          "text": "3",
          "x": "ELIDO",
          "xref": "x",
          "y": "Feitas",
          "yref": "y"
         },
         {
          "font": {
           "color": "rgb(0,0,0)"
          },
          "showarrow": false,
          "text": "4",
          "x": "ERILIO",
          "xref": "x",
          "y": "Feitas",
          "yref": "y"
         },
         {
          "font": {
           "color": "rgb(255,255,255)"
          },
          "showarrow": false,
          "text": "5",
          "x": "GIUSEPPE",
          "xref": "x",
          "y": "Feitas",
          "yref": "y"
         },
         {
          "font": {
           "color": "rgb(255,255,255)"
          },
          "showarrow": false,
          "text": "6",
          "x": "IDELMARIA",
          "xref": "x",
          "y": "Feitas",
          "yref": "y"
         },
         {
          "font": {
           "color": "rgb(255,255,255)"
          },
          "showarrow": false,
          "text": "5",
          "x": "ISABELI",
          "xref": "x",
          "y": "Feitas",
          "yref": "y"
         },
         {
          "font": {
           "color": "rgb(0,0,0)"
          },
          "showarrow": false,
          "text": "4",
          "x": "IZILDA",
          "xref": "x",
          "y": "Feitas",
          "yref": "y"
         },
         {
          "font": {
           "color": "rgb(255,255,255)"
          },
          "showarrow": false,
          "text": "5",
          "x": "JOCIQUELE",
          "xref": "x",
          "y": "Feitas",
          "yref": "y"
         },
         {
          "font": {
           "color": "rgb(0,0,0)"
          },
          "showarrow": false,
          "text": "3",
          "x": "KARIANY",
          "xref": "x",
          "y": "Feitas",
          "yref": "y"
         },
         {
          "font": {
           "color": "rgb(0,0,0)"
          },
          "showarrow": false,
          "text": "3",
          "x": "MESSODY",
          "xref": "x",
          "y": "Feitas",
          "yref": "y"
         },
         {
          "font": {
           "color": "rgb(0,0,0)"
          },
          "showarrow": false,
          "text": "2",
          "x": "NARIELE",
          "xref": "x",
          "y": "Feitas",
          "yref": "y"
         },
         {
          "font": {
           "color": "rgb(255,255,255)"
          },
          "showarrow": false,
          "text": "5",
          "x": "OTO",
          "xref": "x",
          "y": "Feitas",
          "yref": "y"
         },
         {
          "font": {
           "color": "rgb(0,0,0)"
          },
          "showarrow": false,
          "text": "4",
          "x": "ROSALHA",
          "xref": "x",
          "y": "Feitas",
          "yref": "y"
         },
         {
          "font": {
           "color": "rgb(0,0,0)"
          },
          "showarrow": false,
          "text": "4",
          "x": "SELESTRINO",
          "xref": "x",
          "y": "Feitas",
          "yref": "y"
         },
         {
          "font": {
           "color": "rgb(0,0,0)"
          },
          "showarrow": false,
          "text": "3",
          "x": "TIARA",
          "xref": "x",
          "y": "Feitas",
          "yref": "y"
         },
         {
          "font": {
           "color": "rgb(255,255,255)"
          },
          "showarrow": false,
          "text": "7",
          "x": "UDILSON",
          "xref": "x",
          "y": "Feitas",
          "yref": "y"
         },
         {
          "font": {
           "color": "rgb(0,0,0)"
          },
          "showarrow": false,
          "text": "3",
          "x": "URSULLA",
          "xref": "x",
          "y": "Feitas",
          "yref": "y"
         },
         {
          "font": {
           "color": "rgb(255,255,255)"
          },
          "showarrow": false,
          "text": "7",
          "x": "ALMIRA",
          "xref": "x",
          "y": "Não<br>feitas",
          "yref": "y"
         },
         {
          "font": {
           "color": "rgb(255,255,255)"
          },
          "showarrow": false,
          "text": "6",
          "x": "ANAZIRA",
          "xref": "x",
          "y": "Não<br>feitas",
          "yref": "y"
         },
         {
          "font": {
           "color": "rgb(255,255,255)"
          },
          "showarrow": false,
          "text": "5",
          "x": "DAFINE",
          "xref": "x",
          "y": "Não<br>feitas",
          "yref": "y"
         },
         {
          "font": {
           "color": "rgb(255,255,255)"
          },
          "showarrow": false,
          "text": "6",
          "x": "DILZA",
          "xref": "x",
          "y": "Não<br>feitas",
          "yref": "y"
         },
         {
          "font": {
           "color": "rgb(255,255,255)"
          },
          "showarrow": false,
          "text": "7",
          "x": "ELIDO",
          "xref": "x",
          "y": "Não<br>feitas",
          "yref": "y"
         },
         {
          "font": {
           "color": "rgb(255,255,255)"
          },
          "showarrow": false,
          "text": "6",
          "x": "ERILIO",
          "xref": "x",
          "y": "Não<br>feitas",
          "yref": "y"
         },
         {
          "font": {
           "color": "rgb(255,255,255)"
          },
          "showarrow": false,
          "text": "5",
          "x": "GIUSEPPE",
          "xref": "x",
          "y": "Não<br>feitas",
          "yref": "y"
         },
         {
          "font": {
           "color": "rgb(0,0,0)"
          },
          "showarrow": false,
          "text": "4",
          "x": "IDELMARIA",
          "xref": "x",
          "y": "Não<br>feitas",
          "yref": "y"
         },
         {
          "font": {
           "color": "rgb(255,255,255)"
          },
          "showarrow": false,
          "text": "5",
          "x": "ISABELI",
          "xref": "x",
          "y": "Não<br>feitas",
          "yref": "y"
         },
         {
          "font": {
           "color": "rgb(255,255,255)"
          },
          "showarrow": false,
          "text": "6",
          "x": "IZILDA",
          "xref": "x",
          "y": "Não<br>feitas",
          "yref": "y"
         },
         {
          "font": {
           "color": "rgb(255,255,255)"
          },
          "showarrow": false,
          "text": "5",
          "x": "JOCIQUELE",
          "xref": "x",
          "y": "Não<br>feitas",
          "yref": "y"
         },
         {
          "font": {
           "color": "rgb(255,255,255)"
          },
          "showarrow": false,
          "text": "7",
          "x": "KARIANY",
          "xref": "x",
          "y": "Não<br>feitas",
          "yref": "y"
         },
         {
          "font": {
           "color": "rgb(255,255,255)"
          },
          "showarrow": false,
          "text": "7",
          "x": "MESSODY",
          "xref": "x",
          "y": "Não<br>feitas",
          "yref": "y"
         },
         {
          "font": {
           "color": "rgb(255,255,255)"
          },
          "showarrow": false,
          "text": "8",
          "x": "NARIELE",
          "xref": "x",
          "y": "Não<br>feitas",
          "yref": "y"
         },
         {
          "font": {
           "color": "rgb(255,255,255)"
          },
          "showarrow": false,
          "text": "5",
          "x": "OTO",
          "xref": "x",
          "y": "Não<br>feitas",
          "yref": "y"
         },
         {
          "font": {
           "color": "rgb(255,255,255)"
          },
          "showarrow": false,
          "text": "6",
          "x": "ROSALHA",
          "xref": "x",
          "y": "Não<br>feitas",
          "yref": "y"
         },
         {
          "font": {
           "color": "rgb(255,255,255)"
          },
          "showarrow": false,
          "text": "6",
          "x": "SELESTRINO",
          "xref": "x",
          "y": "Não<br>feitas",
          "yref": "y"
         },
         {
          "font": {
           "color": "rgb(255,255,255)"
          },
          "showarrow": false,
          "text": "7",
          "x": "TIARA",
          "xref": "x",
          "y": "Não<br>feitas",
          "yref": "y"
         },
         {
          "font": {
           "color": "rgb(0,0,0)"
          },
          "showarrow": false,
          "text": "3",
          "x": "UDILSON",
          "xref": "x",
          "y": "Não<br>feitas",
          "yref": "y"
         },
         {
          "font": {
           "color": "rgb(255,255,255)"
          },
          "showarrow": false,
          "text": "7",
          "x": "URSULLA",
          "xref": "x",
          "y": "Não<br>feitas",
          "yref": "y"
         }
        ],
        "autosize": false,
        "height": 350,
        "hovermode": "closest",
        "title": "Número de atividades feitas e <b>não</b> feitas por estudante",
        "width": 950,
        "xaxis": {
         "title": "",
         "titlefont": {
          "color": "rgb(180,180,180)"
         }
        },
        "yaxis": {
         "dtick": 1,
         "exponentformat": "e",
         "gridcolor": "#bdbdbd",
         "showexponent": "all",
         "showticklabels": true,
         "tick0": 0,
         "title": "",
         "titlefont": {
          "color": "rgb(180,180,180)"
         },
         "type": "category"
        }
       }
      },
      "text/html": [
       "<div id=\"98e51b29-c18f-494a-aaa7-5d03a28fe147\" style=\"height: 350px; width: 950px;\" class=\"plotly-graph-div\"></div><script type=\"text/javascript\">require([\"plotly\"], function(Plotly) { window.PLOTLYENV=window.PLOTLYENV || {};window.PLOTLYENV.BASE_URL=\"https://plot.ly\";Plotly.newPlot(\"98e51b29-c18f-494a-aaa7-5d03a28fe147\", [{\"colorscale\": [[0, \"rgb(255,255,255)\"], [1, \"rgb(0,0,255)\"]], \"showscale\": true, \"x\": [\"ALMIRA\", \"ANAZIRA\", \"DAFINE\", \"DILZA\", \"ELIDO\", \"ERILIO\", \"GIUSEPPE\", \"IDELMARIA\", \"ISABELI\", \"IZILDA\", \"JOCIQUELE\", \"KARIANY\", \"MESSODY\", \"NARIELE\", \"OTO\", \"ROSALHA\", \"SELESTRINO\", \"TIARA\", \"UDILSON\", \"URSULLA\"], \"y\": [\"Feitas\", \"N\\u00e3o<br>feitas\"], \"z\": [[3, 4, 5, 4, 3, 4, 5, 6, 5, 4, 5, 3, 3, 2, 5, 4, 4, 3, 7, 3], [7, 6, 5, 6, 7, 6, 5, 4, 5, 6, 5, 7, 7, 8, 5, 6, 6, 7, 3, 7]], \"type\": \"heatmap\", \"uid\": \"c553992e-fae4-11e8-b19a-e35ea5c620f6\"}], {\"annotations\": [{\"font\": {\"color\": \"rgb(0,0,0)\"}, \"showarrow\": false, \"text\": \"3\", \"x\": \"ALMIRA\", \"xref\": \"x\", \"y\": \"Feitas\", \"yref\": \"y\"}, {\"font\": {\"color\": \"rgb(0,0,0)\"}, \"showarrow\": false, \"text\": \"4\", \"x\": \"ANAZIRA\", \"xref\": \"x\", \"y\": \"Feitas\", \"yref\": \"y\"}, {\"font\": {\"color\": \"rgb(255,255,255)\"}, \"showarrow\": false, \"text\": \"5\", \"x\": \"DAFINE\", \"xref\": \"x\", \"y\": \"Feitas\", \"yref\": \"y\"}, {\"font\": {\"color\": \"rgb(0,0,0)\"}, \"showarrow\": false, \"text\": \"4\", \"x\": \"DILZA\", \"xref\": \"x\", \"y\": \"Feitas\", \"yref\": \"y\"}, {\"font\": {\"color\": \"rgb(0,0,0)\"}, \"showarrow\": false, \"text\": \"3\", \"x\": \"ELIDO\", \"xref\": \"x\", \"y\": \"Feitas\", \"yref\": \"y\"}, {\"font\": {\"color\": \"rgb(0,0,0)\"}, \"showarrow\": false, \"text\": \"4\", \"x\": \"ERILIO\", \"xref\": \"x\", \"y\": \"Feitas\", \"yref\": \"y\"}, {\"font\": {\"color\": \"rgb(255,255,255)\"}, \"showarrow\": false, \"text\": \"5\", \"x\": \"GIUSEPPE\", \"xref\": \"x\", \"y\": \"Feitas\", \"yref\": \"y\"}, {\"font\": {\"color\": \"rgb(255,255,255)\"}, \"showarrow\": false, \"text\": \"6\", \"x\": \"IDELMARIA\", \"xref\": \"x\", \"y\": \"Feitas\", \"yref\": \"y\"}, {\"font\": {\"color\": \"rgb(255,255,255)\"}, \"showarrow\": false, \"text\": \"5\", \"x\": \"ISABELI\", \"xref\": \"x\", \"y\": \"Feitas\", \"yref\": \"y\"}, {\"font\": {\"color\": \"rgb(0,0,0)\"}, \"showarrow\": false, \"text\": \"4\", \"x\": \"IZILDA\", \"xref\": \"x\", \"y\": \"Feitas\", \"yref\": \"y\"}, {\"font\": {\"color\": \"rgb(255,255,255)\"}, \"showarrow\": false, \"text\": \"5\", \"x\": \"JOCIQUELE\", \"xref\": \"x\", \"y\": \"Feitas\", \"yref\": \"y\"}, {\"font\": {\"color\": \"rgb(0,0,0)\"}, \"showarrow\": false, \"text\": \"3\", \"x\": \"KARIANY\", \"xref\": \"x\", \"y\": \"Feitas\", \"yref\": \"y\"}, {\"font\": {\"color\": \"rgb(0,0,0)\"}, \"showarrow\": false, \"text\": \"3\", \"x\": \"MESSODY\", \"xref\": \"x\", \"y\": \"Feitas\", \"yref\": \"y\"}, {\"font\": {\"color\": \"rgb(0,0,0)\"}, \"showarrow\": false, \"text\": \"2\", \"x\": \"NARIELE\", \"xref\": \"x\", \"y\": \"Feitas\", \"yref\": \"y\"}, {\"font\": {\"color\": \"rgb(255,255,255)\"}, \"showarrow\": false, \"text\": \"5\", \"x\": \"OTO\", \"xref\": \"x\", \"y\": \"Feitas\", \"yref\": \"y\"}, {\"font\": {\"color\": \"rgb(0,0,0)\"}, \"showarrow\": false, \"text\": \"4\", \"x\": \"ROSALHA\", \"xref\": \"x\", \"y\": \"Feitas\", \"yref\": \"y\"}, {\"font\": {\"color\": \"rgb(0,0,0)\"}, \"showarrow\": false, \"text\": \"4\", \"x\": \"SELESTRINO\", \"xref\": \"x\", \"y\": \"Feitas\", \"yref\": \"y\"}, {\"font\": {\"color\": \"rgb(0,0,0)\"}, \"showarrow\": false, \"text\": \"3\", \"x\": \"TIARA\", \"xref\": \"x\", \"y\": \"Feitas\", \"yref\": \"y\"}, {\"font\": {\"color\": \"rgb(255,255,255)\"}, \"showarrow\": false, \"text\": \"7\", \"x\": \"UDILSON\", \"xref\": \"x\", \"y\": \"Feitas\", \"yref\": \"y\"}, {\"font\": {\"color\": \"rgb(0,0,0)\"}, \"showarrow\": false, \"text\": \"3\", \"x\": \"URSULLA\", \"xref\": \"x\", \"y\": \"Feitas\", \"yref\": \"y\"}, {\"font\": {\"color\": \"rgb(255,255,255)\"}, \"showarrow\": false, \"text\": \"7\", \"x\": \"ALMIRA\", \"xref\": \"x\", \"y\": \"N\\u00e3o<br>feitas\", \"yref\": \"y\"}, {\"font\": {\"color\": \"rgb(255,255,255)\"}, \"showarrow\": false, \"text\": \"6\", \"x\": \"ANAZIRA\", \"xref\": \"x\", \"y\": \"N\\u00e3o<br>feitas\", \"yref\": \"y\"}, {\"font\": {\"color\": \"rgb(255,255,255)\"}, \"showarrow\": false, \"text\": \"5\", \"x\": \"DAFINE\", \"xref\": \"x\", \"y\": \"N\\u00e3o<br>feitas\", \"yref\": \"y\"}, {\"font\": {\"color\": \"rgb(255,255,255)\"}, \"showarrow\": false, \"text\": \"6\", \"x\": \"DILZA\", \"xref\": \"x\", \"y\": \"N\\u00e3o<br>feitas\", \"yref\": \"y\"}, {\"font\": {\"color\": \"rgb(255,255,255)\"}, \"showarrow\": false, \"text\": \"7\", \"x\": \"ELIDO\", \"xref\": \"x\", \"y\": \"N\\u00e3o<br>feitas\", \"yref\": \"y\"}, {\"font\": {\"color\": \"rgb(255,255,255)\"}, \"showarrow\": false, \"text\": \"6\", \"x\": \"ERILIO\", \"xref\": \"x\", \"y\": \"N\\u00e3o<br>feitas\", \"yref\": \"y\"}, {\"font\": {\"color\": \"rgb(255,255,255)\"}, \"showarrow\": false, \"text\": \"5\", \"x\": \"GIUSEPPE\", \"xref\": \"x\", \"y\": \"N\\u00e3o<br>feitas\", \"yref\": \"y\"}, {\"font\": {\"color\": \"rgb(0,0,0)\"}, \"showarrow\": false, \"text\": \"4\", \"x\": \"IDELMARIA\", \"xref\": \"x\", \"y\": \"N\\u00e3o<br>feitas\", \"yref\": \"y\"}, {\"font\": {\"color\": \"rgb(255,255,255)\"}, \"showarrow\": false, \"text\": \"5\", \"x\": \"ISABELI\", \"xref\": \"x\", \"y\": \"N\\u00e3o<br>feitas\", \"yref\": \"y\"}, {\"font\": {\"color\": \"rgb(255,255,255)\"}, \"showarrow\": false, \"text\": \"6\", \"x\": \"IZILDA\", \"xref\": \"x\", \"y\": \"N\\u00e3o<br>feitas\", \"yref\": \"y\"}, {\"font\": {\"color\": \"rgb(255,255,255)\"}, \"showarrow\": false, \"text\": \"5\", \"x\": \"JOCIQUELE\", \"xref\": \"x\", \"y\": \"N\\u00e3o<br>feitas\", \"yref\": \"y\"}, {\"font\": {\"color\": \"rgb(255,255,255)\"}, \"showarrow\": false, \"text\": \"7\", \"x\": \"KARIANY\", \"xref\": \"x\", \"y\": \"N\\u00e3o<br>feitas\", \"yref\": \"y\"}, {\"font\": {\"color\": \"rgb(255,255,255)\"}, \"showarrow\": false, \"text\": \"7\", \"x\": \"MESSODY\", \"xref\": \"x\", \"y\": \"N\\u00e3o<br>feitas\", \"yref\": \"y\"}, {\"font\": {\"color\": \"rgb(255,255,255)\"}, \"showarrow\": false, \"text\": \"8\", \"x\": \"NARIELE\", \"xref\": \"x\", \"y\": \"N\\u00e3o<br>feitas\", \"yref\": \"y\"}, {\"font\": {\"color\": \"rgb(255,255,255)\"}, \"showarrow\": false, \"text\": \"5\", \"x\": \"OTO\", \"xref\": \"x\", \"y\": \"N\\u00e3o<br>feitas\", \"yref\": \"y\"}, {\"font\": {\"color\": \"rgb(255,255,255)\"}, \"showarrow\": false, \"text\": \"6\", \"x\": \"ROSALHA\", \"xref\": \"x\", \"y\": \"N\\u00e3o<br>feitas\", \"yref\": \"y\"}, {\"font\": {\"color\": \"rgb(255,255,255)\"}, \"showarrow\": false, \"text\": \"6\", \"x\": \"SELESTRINO\", \"xref\": \"x\", \"y\": \"N\\u00e3o<br>feitas\", \"yref\": \"y\"}, {\"font\": {\"color\": \"rgb(255,255,255)\"}, \"showarrow\": false, \"text\": \"7\", \"x\": \"TIARA\", \"xref\": \"x\", \"y\": \"N\\u00e3o<br>feitas\", \"yref\": \"y\"}, {\"font\": {\"color\": \"rgb(0,0,0)\"}, \"showarrow\": false, \"text\": \"3\", \"x\": \"UDILSON\", \"xref\": \"x\", \"y\": \"N\\u00e3o<br>feitas\", \"yref\": \"y\"}, {\"font\": {\"color\": \"rgb(255,255,255)\"}, \"showarrow\": false, \"text\": \"7\", \"x\": \"URSULLA\", \"xref\": \"x\", \"y\": \"N\\u00e3o<br>feitas\", \"yref\": \"y\"}], \"autosize\": false, \"height\": 350, \"hovermode\": \"closest\", \"title\": \"N\\u00famero de atividades feitas e <b>n\\u00e3o</b> feitas por estudante\", \"width\": 950, \"xaxis\": {\"title\": \"\", \"titlefont\": {\"color\": \"rgb(180,180,180)\"}}, \"yaxis\": {\"dtick\": 1, \"exponentformat\": \"e\", \"gridcolor\": \"#bdbdbd\", \"showexponent\": \"all\", \"showticklabels\": true, \"tick0\": 0, \"title\": \"\", \"titlefont\": {\"color\": \"rgb(180,180,180)\"}, \"type\": \"category\"}}, {\"showLink\": true, \"linkText\": \"Export to plot.ly\"})});</script>"
      ],
      "text/vnd.plotly.v1+html": [
       "<div id=\"98e51b29-c18f-494a-aaa7-5d03a28fe147\" style=\"height: 350px; width: 950px;\" class=\"plotly-graph-div\"></div><script type=\"text/javascript\">require([\"plotly\"], function(Plotly) { window.PLOTLYENV=window.PLOTLYENV || {};window.PLOTLYENV.BASE_URL=\"https://plot.ly\";Plotly.newPlot(\"98e51b29-c18f-494a-aaa7-5d03a28fe147\", [{\"colorscale\": [[0, \"rgb(255,255,255)\"], [1, \"rgb(0,0,255)\"]], \"showscale\": true, \"x\": [\"ALMIRA\", \"ANAZIRA\", \"DAFINE\", \"DILZA\", \"ELIDO\", \"ERILIO\", \"GIUSEPPE\", \"IDELMARIA\", \"ISABELI\", \"IZILDA\", \"JOCIQUELE\", \"KARIANY\", \"MESSODY\", \"NARIELE\", \"OTO\", \"ROSALHA\", \"SELESTRINO\", \"TIARA\", \"UDILSON\", \"URSULLA\"], \"y\": [\"Feitas\", \"N\\u00e3o<br>feitas\"], \"z\": [[3, 4, 5, 4, 3, 4, 5, 6, 5, 4, 5, 3, 3, 2, 5, 4, 4, 3, 7, 3], [7, 6, 5, 6, 7, 6, 5, 4, 5, 6, 5, 7, 7, 8, 5, 6, 6, 7, 3, 7]], \"type\": \"heatmap\", \"uid\": \"c553992e-fae4-11e8-b19a-e35ea5c620f6\"}], {\"annotations\": [{\"font\": {\"color\": \"rgb(0,0,0)\"}, \"showarrow\": false, \"text\": \"3\", \"x\": \"ALMIRA\", \"xref\": \"x\", \"y\": \"Feitas\", \"yref\": \"y\"}, {\"font\": {\"color\": \"rgb(0,0,0)\"}, \"showarrow\": false, \"text\": \"4\", \"x\": \"ANAZIRA\", \"xref\": \"x\", \"y\": \"Feitas\", \"yref\": \"y\"}, {\"font\": {\"color\": \"rgb(255,255,255)\"}, \"showarrow\": false, \"text\": \"5\", \"x\": \"DAFINE\", \"xref\": \"x\", \"y\": \"Feitas\", \"yref\": \"y\"}, {\"font\": {\"color\": \"rgb(0,0,0)\"}, \"showarrow\": false, \"text\": \"4\", \"x\": \"DILZA\", \"xref\": \"x\", \"y\": \"Feitas\", \"yref\": \"y\"}, {\"font\": {\"color\": \"rgb(0,0,0)\"}, \"showarrow\": false, \"text\": \"3\", \"x\": \"ELIDO\", \"xref\": \"x\", \"y\": \"Feitas\", \"yref\": \"y\"}, {\"font\": {\"color\": \"rgb(0,0,0)\"}, \"showarrow\": false, \"text\": \"4\", \"x\": \"ERILIO\", \"xref\": \"x\", \"y\": \"Feitas\", \"yref\": \"y\"}, {\"font\": {\"color\": \"rgb(255,255,255)\"}, \"showarrow\": false, \"text\": \"5\", \"x\": \"GIUSEPPE\", \"xref\": \"x\", \"y\": \"Feitas\", \"yref\": \"y\"}, {\"font\": {\"color\": \"rgb(255,255,255)\"}, \"showarrow\": false, \"text\": \"6\", \"x\": \"IDELMARIA\", \"xref\": \"x\", \"y\": \"Feitas\", \"yref\": \"y\"}, {\"font\": {\"color\": \"rgb(255,255,255)\"}, \"showarrow\": false, \"text\": \"5\", \"x\": \"ISABELI\", \"xref\": \"x\", \"y\": \"Feitas\", \"yref\": \"y\"}, {\"font\": {\"color\": \"rgb(0,0,0)\"}, \"showarrow\": false, \"text\": \"4\", \"x\": \"IZILDA\", \"xref\": \"x\", \"y\": \"Feitas\", \"yref\": \"y\"}, {\"font\": {\"color\": \"rgb(255,255,255)\"}, \"showarrow\": false, \"text\": \"5\", \"x\": \"JOCIQUELE\", \"xref\": \"x\", \"y\": \"Feitas\", \"yref\": \"y\"}, {\"font\": {\"color\": \"rgb(0,0,0)\"}, \"showarrow\": false, \"text\": \"3\", \"x\": \"KARIANY\", \"xref\": \"x\", \"y\": \"Feitas\", \"yref\": \"y\"}, {\"font\": {\"color\": \"rgb(0,0,0)\"}, \"showarrow\": false, \"text\": \"3\", \"x\": \"MESSODY\", \"xref\": \"x\", \"y\": \"Feitas\", \"yref\": \"y\"}, {\"font\": {\"color\": \"rgb(0,0,0)\"}, \"showarrow\": false, \"text\": \"2\", \"x\": \"NARIELE\", \"xref\": \"x\", \"y\": \"Feitas\", \"yref\": \"y\"}, {\"font\": {\"color\": \"rgb(255,255,255)\"}, \"showarrow\": false, \"text\": \"5\", \"x\": \"OTO\", \"xref\": \"x\", \"y\": \"Feitas\", \"yref\": \"y\"}, {\"font\": {\"color\": \"rgb(0,0,0)\"}, \"showarrow\": false, \"text\": \"4\", \"x\": \"ROSALHA\", \"xref\": \"x\", \"y\": \"Feitas\", \"yref\": \"y\"}, {\"font\": {\"color\": \"rgb(0,0,0)\"}, \"showarrow\": false, \"text\": \"4\", \"x\": \"SELESTRINO\", \"xref\": \"x\", \"y\": \"Feitas\", \"yref\": \"y\"}, {\"font\": {\"color\": \"rgb(0,0,0)\"}, \"showarrow\": false, \"text\": \"3\", \"x\": \"TIARA\", \"xref\": \"x\", \"y\": \"Feitas\", \"yref\": \"y\"}, {\"font\": {\"color\": \"rgb(255,255,255)\"}, \"showarrow\": false, \"text\": \"7\", \"x\": \"UDILSON\", \"xref\": \"x\", \"y\": \"Feitas\", \"yref\": \"y\"}, {\"font\": {\"color\": \"rgb(0,0,0)\"}, \"showarrow\": false, \"text\": \"3\", \"x\": \"URSULLA\", \"xref\": \"x\", \"y\": \"Feitas\", \"yref\": \"y\"}, {\"font\": {\"color\": \"rgb(255,255,255)\"}, \"showarrow\": false, \"text\": \"7\", \"x\": \"ALMIRA\", \"xref\": \"x\", \"y\": \"N\\u00e3o<br>feitas\", \"yref\": \"y\"}, {\"font\": {\"color\": \"rgb(255,255,255)\"}, \"showarrow\": false, \"text\": \"6\", \"x\": \"ANAZIRA\", \"xref\": \"x\", \"y\": \"N\\u00e3o<br>feitas\", \"yref\": \"y\"}, {\"font\": {\"color\": \"rgb(255,255,255)\"}, \"showarrow\": false, \"text\": \"5\", \"x\": \"DAFINE\", \"xref\": \"x\", \"y\": \"N\\u00e3o<br>feitas\", \"yref\": \"y\"}, {\"font\": {\"color\": \"rgb(255,255,255)\"}, \"showarrow\": false, \"text\": \"6\", \"x\": \"DILZA\", \"xref\": \"x\", \"y\": \"N\\u00e3o<br>feitas\", \"yref\": \"y\"}, {\"font\": {\"color\": \"rgb(255,255,255)\"}, \"showarrow\": false, \"text\": \"7\", \"x\": \"ELIDO\", \"xref\": \"x\", \"y\": \"N\\u00e3o<br>feitas\", \"yref\": \"y\"}, {\"font\": {\"color\": \"rgb(255,255,255)\"}, \"showarrow\": false, \"text\": \"6\", \"x\": \"ERILIO\", \"xref\": \"x\", \"y\": \"N\\u00e3o<br>feitas\", \"yref\": \"y\"}, {\"font\": {\"color\": \"rgb(255,255,255)\"}, \"showarrow\": false, \"text\": \"5\", \"x\": \"GIUSEPPE\", \"xref\": \"x\", \"y\": \"N\\u00e3o<br>feitas\", \"yref\": \"y\"}, {\"font\": {\"color\": \"rgb(0,0,0)\"}, \"showarrow\": false, \"text\": \"4\", \"x\": \"IDELMARIA\", \"xref\": \"x\", \"y\": \"N\\u00e3o<br>feitas\", \"yref\": \"y\"}, {\"font\": {\"color\": \"rgb(255,255,255)\"}, \"showarrow\": false, \"text\": \"5\", \"x\": \"ISABELI\", \"xref\": \"x\", \"y\": \"N\\u00e3o<br>feitas\", \"yref\": \"y\"}, {\"font\": {\"color\": \"rgb(255,255,255)\"}, \"showarrow\": false, \"text\": \"6\", \"x\": \"IZILDA\", \"xref\": \"x\", \"y\": \"N\\u00e3o<br>feitas\", \"yref\": \"y\"}, {\"font\": {\"color\": \"rgb(255,255,255)\"}, \"showarrow\": false, \"text\": \"5\", \"x\": \"JOCIQUELE\", \"xref\": \"x\", \"y\": \"N\\u00e3o<br>feitas\", \"yref\": \"y\"}, {\"font\": {\"color\": \"rgb(255,255,255)\"}, \"showarrow\": false, \"text\": \"7\", \"x\": \"KARIANY\", \"xref\": \"x\", \"y\": \"N\\u00e3o<br>feitas\", \"yref\": \"y\"}, {\"font\": {\"color\": \"rgb(255,255,255)\"}, \"showarrow\": false, \"text\": \"7\", \"x\": \"MESSODY\", \"xref\": \"x\", \"y\": \"N\\u00e3o<br>feitas\", \"yref\": \"y\"}, {\"font\": {\"color\": \"rgb(255,255,255)\"}, \"showarrow\": false, \"text\": \"8\", \"x\": \"NARIELE\", \"xref\": \"x\", \"y\": \"N\\u00e3o<br>feitas\", \"yref\": \"y\"}, {\"font\": {\"color\": \"rgb(255,255,255)\"}, \"showarrow\": false, \"text\": \"5\", \"x\": \"OTO\", \"xref\": \"x\", \"y\": \"N\\u00e3o<br>feitas\", \"yref\": \"y\"}, {\"font\": {\"color\": \"rgb(255,255,255)\"}, \"showarrow\": false, \"text\": \"6\", \"x\": \"ROSALHA\", \"xref\": \"x\", \"y\": \"N\\u00e3o<br>feitas\", \"yref\": \"y\"}, {\"font\": {\"color\": \"rgb(255,255,255)\"}, \"showarrow\": false, \"text\": \"6\", \"x\": \"SELESTRINO\", \"xref\": \"x\", \"y\": \"N\\u00e3o<br>feitas\", \"yref\": \"y\"}, {\"font\": {\"color\": \"rgb(255,255,255)\"}, \"showarrow\": false, \"text\": \"7\", \"x\": \"TIARA\", \"xref\": \"x\", \"y\": \"N\\u00e3o<br>feitas\", \"yref\": \"y\"}, {\"font\": {\"color\": \"rgb(0,0,0)\"}, \"showarrow\": false, \"text\": \"3\", \"x\": \"UDILSON\", \"xref\": \"x\", \"y\": \"N\\u00e3o<br>feitas\", \"yref\": \"y\"}, {\"font\": {\"color\": \"rgb(255,255,255)\"}, \"showarrow\": false, \"text\": \"7\", \"x\": \"URSULLA\", \"xref\": \"x\", \"y\": \"N\\u00e3o<br>feitas\", \"yref\": \"y\"}], \"autosize\": false, \"height\": 350, \"hovermode\": \"closest\", \"title\": \"N\\u00famero de atividades feitas e <b>n\\u00e3o</b> feitas por estudante\", \"width\": 950, \"xaxis\": {\"title\": \"\", \"titlefont\": {\"color\": \"rgb(180,180,180)\"}}, \"yaxis\": {\"dtick\": 1, \"exponentformat\": \"e\", \"gridcolor\": \"#bdbdbd\", \"showexponent\": \"all\", \"showticklabels\": true, \"tick0\": 0, \"title\": \"\", \"titlefont\": {\"color\": \"rgb(180,180,180)\"}, \"type\": \"category\"}}, {\"showLink\": true, \"linkText\": \"Export to plot.ly\"})});</script>"
      ]
     },
     "metadata": {},
     "output_type": "display_data"
    },
    {
     "data": {
      "application/vnd.plotly.v1+json": {
       "data": [
        {
         "colorscale": [
          [
           0,
           "rgb(255,255,255)"
          ],
          [
           1,
           "rgb(0,0,255)"
          ]
         ],
         "showscale": true,
         "type": "heatmap",
         "uid": "c55b0768-fae4-11e8-b19a-e35ea5c620f6",
         "x": [
          "Assign1",
          "Assign2",
          "Assign3",
          "Assign4",
          "Assign5",
          "Assign6",
          "Assign7",
          "Assign8",
          "Assign9",
          "Assign10"
         ],
         "y": [
          "Feitas",
          "Não<br>feitas"
         ],
         "z": [
          [
           9,
           10,
           8,
           10,
           6,
           6,
           10,
           8,
           9,
           6
          ],
          [
           11,
           10,
           12,
           10,
           14,
           14,
           10,
           12,
           11,
           14
          ]
         ]
        }
       ],
       "layout": {
        "autosize": false,
        "height": 350,
        "hovermode": "closest",
        "title": "Número de estudantes que fizeram e <b>não</b> fizeram as atividades",
        "width": 950,
        "xaxis": {
         "title": "",
         "titlefont": {
          "color": "rgb(180,180,180)"
         }
        },
        "yaxis": {
         "dtick": 1,
         "exponentformat": "e",
         "gridcolor": "#bdbdbd",
         "showexponent": "all",
         "showticklabels": true,
         "tick0": 0,
         "title": "",
         "titlefont": {
          "color": "rgb(180,180,180)"
         },
         "type": "category"
        }
       }
      },
      "text/html": [
       "<div id=\"69731ec8-b2da-4f66-9791-54e960c4333b\" style=\"height: 350px; width: 950px;\" class=\"plotly-graph-div\"></div><script type=\"text/javascript\">require([\"plotly\"], function(Plotly) { window.PLOTLYENV=window.PLOTLYENV || {};window.PLOTLYENV.BASE_URL=\"https://plot.ly\";Plotly.newPlot(\"69731ec8-b2da-4f66-9791-54e960c4333b\", [{\"colorscale\": [[0, \"rgb(255,255,255)\"], [1, \"rgb(0,0,255)\"]], \"showscale\": true, \"x\": [\"Assign1\", \"Assign2\", \"Assign3\", \"Assign4\", \"Assign5\", \"Assign6\", \"Assign7\", \"Assign8\", \"Assign9\", \"Assign10\"], \"y\": [\"Feitas\", \"N\\u00e3o<br>feitas\"], \"z\": [[9, 10, 8, 10, 6, 6, 10, 8, 9, 6], [11, 10, 12, 10, 14, 14, 10, 12, 11, 14]], \"type\": \"heatmap\", \"uid\": \"c55b0768-fae4-11e8-b19a-e35ea5c620f6\"}], {\"autosize\": false, \"height\": 350, \"hovermode\": \"closest\", \"title\": \"N\\u00famero de estudantes que fizeram e <b>n\\u00e3o</b> fizeram as atividades\", \"width\": 950, \"xaxis\": {\"title\": \"\", \"titlefont\": {\"color\": \"rgb(180,180,180)\"}}, \"yaxis\": {\"dtick\": 1, \"exponentformat\": \"e\", \"gridcolor\": \"#bdbdbd\", \"showexponent\": \"all\", \"showticklabels\": true, \"tick0\": 0, \"title\": \"\", \"titlefont\": {\"color\": \"rgb(180,180,180)\"}, \"type\": \"category\"}}, {\"showLink\": true, \"linkText\": \"Export to plot.ly\"})});</script>"
      ],
      "text/vnd.plotly.v1+html": [
       "<div id=\"69731ec8-b2da-4f66-9791-54e960c4333b\" style=\"height: 350px; width: 950px;\" class=\"plotly-graph-div\"></div><script type=\"text/javascript\">require([\"plotly\"], function(Plotly) { window.PLOTLYENV=window.PLOTLYENV || {};window.PLOTLYENV.BASE_URL=\"https://plot.ly\";Plotly.newPlot(\"69731ec8-b2da-4f66-9791-54e960c4333b\", [{\"colorscale\": [[0, \"rgb(255,255,255)\"], [1, \"rgb(0,0,255)\"]], \"showscale\": true, \"x\": [\"Assign1\", \"Assign2\", \"Assign3\", \"Assign4\", \"Assign5\", \"Assign6\", \"Assign7\", \"Assign8\", \"Assign9\", \"Assign10\"], \"y\": [\"Feitas\", \"N\\u00e3o<br>feitas\"], \"z\": [[9, 10, 8, 10, 6, 6, 10, 8, 9, 6], [11, 10, 12, 10, 14, 14, 10, 12, 11, 14]], \"type\": \"heatmap\", \"uid\": \"c55b0768-fae4-11e8-b19a-e35ea5c620f6\"}], {\"autosize\": false, \"height\": 350, \"hovermode\": \"closest\", \"title\": \"N\\u00famero de estudantes que fizeram e <b>n\\u00e3o</b> fizeram as atividades\", \"width\": 950, \"xaxis\": {\"title\": \"\", \"titlefont\": {\"color\": \"rgb(180,180,180)\"}}, \"yaxis\": {\"dtick\": 1, \"exponentformat\": \"e\", \"gridcolor\": \"#bdbdbd\", \"showexponent\": \"all\", \"showticklabels\": true, \"tick0\": 0, \"title\": \"\", \"titlefont\": {\"color\": \"rgb(180,180,180)\"}, \"type\": \"category\"}}, {\"showLink\": true, \"linkText\": \"Export to plot.ly\"})});</script>"
      ]
     },
     "metadata": {},
     "output_type": "display_data"
    },
    {
     "data": {
      "application/vnd.plotly.v1+json": {
       "data": [
        {
         "colorscale": [
          [
           0,
           "rgb(255,255,255)"
          ],
          [
           1,
           "rgb(0,0,255)"
          ]
         ],
         "showscale": true,
         "type": "heatmap",
         "uid": "c56114be-fae4-11e8-b19a-e35ea5c620f6",
         "x": [
          "Assign1",
          "Assign2",
          "Assign3",
          "Assign4",
          "Assign5",
          "Assign6",
          "Assign7",
          "Assign8",
          "Assign9",
          "Assign10"
         ],
         "y": [
          "Feitas",
          "Não<br>feitas"
         ],
         "z": [
          [
           9,
           10,
           8,
           10,
           6,
           6,
           10,
           8,
           9,
           6
          ],
          [
           11,
           10,
           12,
           10,
           14,
           14,
           10,
           12,
           11,
           14
          ]
         ]
        }
       ],
       "layout": {
        "annotations": [
         {
          "font": {
           "color": "rgb(255,255,255)"
          },
          "showarrow": false,
          "text": "9",
          "x": "Assign1",
          "xref": "x",
          "y": "Feitas",
          "yref": "y"
         },
         {
          "font": {
           "color": "rgb(255,255,255)"
          },
          "showarrow": false,
          "text": "10",
          "x": "Assign2",
          "xref": "x",
          "y": "Feitas",
          "yref": "y"
         },
         {
          "font": {
           "color": "rgb(255,255,255)"
          },
          "showarrow": false,
          "text": "8",
          "x": "Assign3",
          "xref": "x",
          "y": "Feitas",
          "yref": "y"
         },
         {
          "font": {
           "color": "rgb(255,255,255)"
          },
          "showarrow": false,
          "text": "10",
          "x": "Assign4",
          "xref": "x",
          "y": "Feitas",
          "yref": "y"
         },
         {
          "font": {
           "color": "rgb(0,0,0)"
          },
          "showarrow": false,
          "text": "6",
          "x": "Assign5",
          "xref": "x",
          "y": "Feitas",
          "yref": "y"
         },
         {
          "font": {
           "color": "rgb(0,0,0)"
          },
          "showarrow": false,
          "text": "6",
          "x": "Assign6",
          "xref": "x",
          "y": "Feitas",
          "yref": "y"
         },
         {
          "font": {
           "color": "rgb(255,255,255)"
          },
          "showarrow": false,
          "text": "10",
          "x": "Assign7",
          "xref": "x",
          "y": "Feitas",
          "yref": "y"
         },
         {
          "font": {
           "color": "rgb(255,255,255)"
          },
          "showarrow": false,
          "text": "8",
          "x": "Assign8",
          "xref": "x",
          "y": "Feitas",
          "yref": "y"
         },
         {
          "font": {
           "color": "rgb(255,255,255)"
          },
          "showarrow": false,
          "text": "9",
          "x": "Assign9",
          "xref": "x",
          "y": "Feitas",
          "yref": "y"
         },
         {
          "font": {
           "color": "rgb(0,0,0)"
          },
          "showarrow": false,
          "text": "6",
          "x": "Assign10",
          "xref": "x",
          "y": "Feitas",
          "yref": "y"
         },
         {
          "font": {
           "color": "rgb(255,255,255)"
          },
          "showarrow": false,
          "text": "11",
          "x": "Assign1",
          "xref": "x",
          "y": "Não<br>feitas",
          "yref": "y"
         },
         {
          "font": {
           "color": "rgb(255,255,255)"
          },
          "showarrow": false,
          "text": "10",
          "x": "Assign2",
          "xref": "x",
          "y": "Não<br>feitas",
          "yref": "y"
         },
         {
          "font": {
           "color": "rgb(255,255,255)"
          },
          "showarrow": false,
          "text": "12",
          "x": "Assign3",
          "xref": "x",
          "y": "Não<br>feitas",
          "yref": "y"
         },
         {
          "font": {
           "color": "rgb(255,255,255)"
          },
          "showarrow": false,
          "text": "10",
          "x": "Assign4",
          "xref": "x",
          "y": "Não<br>feitas",
          "yref": "y"
         },
         {
          "font": {
           "color": "rgb(255,255,255)"
          },
          "showarrow": false,
          "text": "14",
          "x": "Assign5",
          "xref": "x",
          "y": "Não<br>feitas",
          "yref": "y"
         },
         {
          "font": {
           "color": "rgb(255,255,255)"
          },
          "showarrow": false,
          "text": "14",
          "x": "Assign6",
          "xref": "x",
          "y": "Não<br>feitas",
          "yref": "y"
         },
         {
          "font": {
           "color": "rgb(255,255,255)"
          },
          "showarrow": false,
          "text": "10",
          "x": "Assign7",
          "xref": "x",
          "y": "Não<br>feitas",
          "yref": "y"
         },
         {
          "font": {
           "color": "rgb(255,255,255)"
          },
          "showarrow": false,
          "text": "12",
          "x": "Assign8",
          "xref": "x",
          "y": "Não<br>feitas",
          "yref": "y"
         },
         {
          "font": {
           "color": "rgb(255,255,255)"
          },
          "showarrow": false,
          "text": "11",
          "x": "Assign9",
          "xref": "x",
          "y": "Não<br>feitas",
          "yref": "y"
         },
         {
          "font": {
           "color": "rgb(255,255,255)"
          },
          "showarrow": false,
          "text": "14",
          "x": "Assign10",
          "xref": "x",
          "y": "Não<br>feitas",
          "yref": "y"
         }
        ],
        "autosize": false,
        "height": 350,
        "hovermode": "closest",
        "title": "Número de estudantes que fizeram e <b>não</b> fizeram as atividades",
        "width": 950,
        "xaxis": {
         "title": "",
         "titlefont": {
          "color": "rgb(180,180,180)"
         }
        },
        "yaxis": {
         "dtick": 1,
         "exponentformat": "e",
         "gridcolor": "#bdbdbd",
         "showexponent": "all",
         "showticklabels": true,
         "tick0": 0,
         "title": "",
         "titlefont": {
          "color": "rgb(180,180,180)"
         },
         "type": "category"
        }
       }
      },
      "text/html": [
       "<div id=\"43abd863-18d7-4818-a28a-5d303e96bfe2\" style=\"height: 350px; width: 950px;\" class=\"plotly-graph-div\"></div><script type=\"text/javascript\">require([\"plotly\"], function(Plotly) { window.PLOTLYENV=window.PLOTLYENV || {};window.PLOTLYENV.BASE_URL=\"https://plot.ly\";Plotly.newPlot(\"43abd863-18d7-4818-a28a-5d303e96bfe2\", [{\"colorscale\": [[0, \"rgb(255,255,255)\"], [1, \"rgb(0,0,255)\"]], \"showscale\": true, \"x\": [\"Assign1\", \"Assign2\", \"Assign3\", \"Assign4\", \"Assign5\", \"Assign6\", \"Assign7\", \"Assign8\", \"Assign9\", \"Assign10\"], \"y\": [\"Feitas\", \"N\\u00e3o<br>feitas\"], \"z\": [[9, 10, 8, 10, 6, 6, 10, 8, 9, 6], [11, 10, 12, 10, 14, 14, 10, 12, 11, 14]], \"type\": \"heatmap\", \"uid\": \"c56114be-fae4-11e8-b19a-e35ea5c620f6\"}], {\"annotations\": [{\"font\": {\"color\": \"rgb(255,255,255)\"}, \"showarrow\": false, \"text\": \"9\", \"x\": \"Assign1\", \"xref\": \"x\", \"y\": \"Feitas\", \"yref\": \"y\"}, {\"font\": {\"color\": \"rgb(255,255,255)\"}, \"showarrow\": false, \"text\": \"10\", \"x\": \"Assign2\", \"xref\": \"x\", \"y\": \"Feitas\", \"yref\": \"y\"}, {\"font\": {\"color\": \"rgb(255,255,255)\"}, \"showarrow\": false, \"text\": \"8\", \"x\": \"Assign3\", \"xref\": \"x\", \"y\": \"Feitas\", \"yref\": \"y\"}, {\"font\": {\"color\": \"rgb(255,255,255)\"}, \"showarrow\": false, \"text\": \"10\", \"x\": \"Assign4\", \"xref\": \"x\", \"y\": \"Feitas\", \"yref\": \"y\"}, {\"font\": {\"color\": \"rgb(0,0,0)\"}, \"showarrow\": false, \"text\": \"6\", \"x\": \"Assign5\", \"xref\": \"x\", \"y\": \"Feitas\", \"yref\": \"y\"}, {\"font\": {\"color\": \"rgb(0,0,0)\"}, \"showarrow\": false, \"text\": \"6\", \"x\": \"Assign6\", \"xref\": \"x\", \"y\": \"Feitas\", \"yref\": \"y\"}, {\"font\": {\"color\": \"rgb(255,255,255)\"}, \"showarrow\": false, \"text\": \"10\", \"x\": \"Assign7\", \"xref\": \"x\", \"y\": \"Feitas\", \"yref\": \"y\"}, {\"font\": {\"color\": \"rgb(255,255,255)\"}, \"showarrow\": false, \"text\": \"8\", \"x\": \"Assign8\", \"xref\": \"x\", \"y\": \"Feitas\", \"yref\": \"y\"}, {\"font\": {\"color\": \"rgb(255,255,255)\"}, \"showarrow\": false, \"text\": \"9\", \"x\": \"Assign9\", \"xref\": \"x\", \"y\": \"Feitas\", \"yref\": \"y\"}, {\"font\": {\"color\": \"rgb(0,0,0)\"}, \"showarrow\": false, \"text\": \"6\", \"x\": \"Assign10\", \"xref\": \"x\", \"y\": \"Feitas\", \"yref\": \"y\"}, {\"font\": {\"color\": \"rgb(255,255,255)\"}, \"showarrow\": false, \"text\": \"11\", \"x\": \"Assign1\", \"xref\": \"x\", \"y\": \"N\\u00e3o<br>feitas\", \"yref\": \"y\"}, {\"font\": {\"color\": \"rgb(255,255,255)\"}, \"showarrow\": false, \"text\": \"10\", \"x\": \"Assign2\", \"xref\": \"x\", \"y\": \"N\\u00e3o<br>feitas\", \"yref\": \"y\"}, {\"font\": {\"color\": \"rgb(255,255,255)\"}, \"showarrow\": false, \"text\": \"12\", \"x\": \"Assign3\", \"xref\": \"x\", \"y\": \"N\\u00e3o<br>feitas\", \"yref\": \"y\"}, {\"font\": {\"color\": \"rgb(255,255,255)\"}, \"showarrow\": false, \"text\": \"10\", \"x\": \"Assign4\", \"xref\": \"x\", \"y\": \"N\\u00e3o<br>feitas\", \"yref\": \"y\"}, {\"font\": {\"color\": \"rgb(255,255,255)\"}, \"showarrow\": false, \"text\": \"14\", \"x\": \"Assign5\", \"xref\": \"x\", \"y\": \"N\\u00e3o<br>feitas\", \"yref\": \"y\"}, {\"font\": {\"color\": \"rgb(255,255,255)\"}, \"showarrow\": false, \"text\": \"14\", \"x\": \"Assign6\", \"xref\": \"x\", \"y\": \"N\\u00e3o<br>feitas\", \"yref\": \"y\"}, {\"font\": {\"color\": \"rgb(255,255,255)\"}, \"showarrow\": false, \"text\": \"10\", \"x\": \"Assign7\", \"xref\": \"x\", \"y\": \"N\\u00e3o<br>feitas\", \"yref\": \"y\"}, {\"font\": {\"color\": \"rgb(255,255,255)\"}, \"showarrow\": false, \"text\": \"12\", \"x\": \"Assign8\", \"xref\": \"x\", \"y\": \"N\\u00e3o<br>feitas\", \"yref\": \"y\"}, {\"font\": {\"color\": \"rgb(255,255,255)\"}, \"showarrow\": false, \"text\": \"11\", \"x\": \"Assign9\", \"xref\": \"x\", \"y\": \"N\\u00e3o<br>feitas\", \"yref\": \"y\"}, {\"font\": {\"color\": \"rgb(255,255,255)\"}, \"showarrow\": false, \"text\": \"14\", \"x\": \"Assign10\", \"xref\": \"x\", \"y\": \"N\\u00e3o<br>feitas\", \"yref\": \"y\"}], \"autosize\": false, \"height\": 350, \"hovermode\": \"closest\", \"title\": \"N\\u00famero de estudantes que fizeram e <b>n\\u00e3o</b> fizeram as atividades\", \"width\": 950, \"xaxis\": {\"title\": \"\", \"titlefont\": {\"color\": \"rgb(180,180,180)\"}}, \"yaxis\": {\"dtick\": 1, \"exponentformat\": \"e\", \"gridcolor\": \"#bdbdbd\", \"showexponent\": \"all\", \"showticklabels\": true, \"tick0\": 0, \"title\": \"\", \"titlefont\": {\"color\": \"rgb(180,180,180)\"}, \"type\": \"category\"}}, {\"showLink\": true, \"linkText\": \"Export to plot.ly\"})});</script>"
      ],
      "text/vnd.plotly.v1+html": [
       "<div id=\"43abd863-18d7-4818-a28a-5d303e96bfe2\" style=\"height: 350px; width: 950px;\" class=\"plotly-graph-div\"></div><script type=\"text/javascript\">require([\"plotly\"], function(Plotly) { window.PLOTLYENV=window.PLOTLYENV || {};window.PLOTLYENV.BASE_URL=\"https://plot.ly\";Plotly.newPlot(\"43abd863-18d7-4818-a28a-5d303e96bfe2\", [{\"colorscale\": [[0, \"rgb(255,255,255)\"], [1, \"rgb(0,0,255)\"]], \"showscale\": true, \"x\": [\"Assign1\", \"Assign2\", \"Assign3\", \"Assign4\", \"Assign5\", \"Assign6\", \"Assign7\", \"Assign8\", \"Assign9\", \"Assign10\"], \"y\": [\"Feitas\", \"N\\u00e3o<br>feitas\"], \"z\": [[9, 10, 8, 10, 6, 6, 10, 8, 9, 6], [11, 10, 12, 10, 14, 14, 10, 12, 11, 14]], \"type\": \"heatmap\", \"uid\": \"c56114be-fae4-11e8-b19a-e35ea5c620f6\"}], {\"annotations\": [{\"font\": {\"color\": \"rgb(255,255,255)\"}, \"showarrow\": false, \"text\": \"9\", \"x\": \"Assign1\", \"xref\": \"x\", \"y\": \"Feitas\", \"yref\": \"y\"}, {\"font\": {\"color\": \"rgb(255,255,255)\"}, \"showarrow\": false, \"text\": \"10\", \"x\": \"Assign2\", \"xref\": \"x\", \"y\": \"Feitas\", \"yref\": \"y\"}, {\"font\": {\"color\": \"rgb(255,255,255)\"}, \"showarrow\": false, \"text\": \"8\", \"x\": \"Assign3\", \"xref\": \"x\", \"y\": \"Feitas\", \"yref\": \"y\"}, {\"font\": {\"color\": \"rgb(255,255,255)\"}, \"showarrow\": false, \"text\": \"10\", \"x\": \"Assign4\", \"xref\": \"x\", \"y\": \"Feitas\", \"yref\": \"y\"}, {\"font\": {\"color\": \"rgb(0,0,0)\"}, \"showarrow\": false, \"text\": \"6\", \"x\": \"Assign5\", \"xref\": \"x\", \"y\": \"Feitas\", \"yref\": \"y\"}, {\"font\": {\"color\": \"rgb(0,0,0)\"}, \"showarrow\": false, \"text\": \"6\", \"x\": \"Assign6\", \"xref\": \"x\", \"y\": \"Feitas\", \"yref\": \"y\"}, {\"font\": {\"color\": \"rgb(255,255,255)\"}, \"showarrow\": false, \"text\": \"10\", \"x\": \"Assign7\", \"xref\": \"x\", \"y\": \"Feitas\", \"yref\": \"y\"}, {\"font\": {\"color\": \"rgb(255,255,255)\"}, \"showarrow\": false, \"text\": \"8\", \"x\": \"Assign8\", \"xref\": \"x\", \"y\": \"Feitas\", \"yref\": \"y\"}, {\"font\": {\"color\": \"rgb(255,255,255)\"}, \"showarrow\": false, \"text\": \"9\", \"x\": \"Assign9\", \"xref\": \"x\", \"y\": \"Feitas\", \"yref\": \"y\"}, {\"font\": {\"color\": \"rgb(0,0,0)\"}, \"showarrow\": false, \"text\": \"6\", \"x\": \"Assign10\", \"xref\": \"x\", \"y\": \"Feitas\", \"yref\": \"y\"}, {\"font\": {\"color\": \"rgb(255,255,255)\"}, \"showarrow\": false, \"text\": \"11\", \"x\": \"Assign1\", \"xref\": \"x\", \"y\": \"N\\u00e3o<br>feitas\", \"yref\": \"y\"}, {\"font\": {\"color\": \"rgb(255,255,255)\"}, \"showarrow\": false, \"text\": \"10\", \"x\": \"Assign2\", \"xref\": \"x\", \"y\": \"N\\u00e3o<br>feitas\", \"yref\": \"y\"}, {\"font\": {\"color\": \"rgb(255,255,255)\"}, \"showarrow\": false, \"text\": \"12\", \"x\": \"Assign3\", \"xref\": \"x\", \"y\": \"N\\u00e3o<br>feitas\", \"yref\": \"y\"}, {\"font\": {\"color\": \"rgb(255,255,255)\"}, \"showarrow\": false, \"text\": \"10\", \"x\": \"Assign4\", \"xref\": \"x\", \"y\": \"N\\u00e3o<br>feitas\", \"yref\": \"y\"}, {\"font\": {\"color\": \"rgb(255,255,255)\"}, \"showarrow\": false, \"text\": \"14\", \"x\": \"Assign5\", \"xref\": \"x\", \"y\": \"N\\u00e3o<br>feitas\", \"yref\": \"y\"}, {\"font\": {\"color\": \"rgb(255,255,255)\"}, \"showarrow\": false, \"text\": \"14\", \"x\": \"Assign6\", \"xref\": \"x\", \"y\": \"N\\u00e3o<br>feitas\", \"yref\": \"y\"}, {\"font\": {\"color\": \"rgb(255,255,255)\"}, \"showarrow\": false, \"text\": \"10\", \"x\": \"Assign7\", \"xref\": \"x\", \"y\": \"N\\u00e3o<br>feitas\", \"yref\": \"y\"}, {\"font\": {\"color\": \"rgb(255,255,255)\"}, \"showarrow\": false, \"text\": \"12\", \"x\": \"Assign8\", \"xref\": \"x\", \"y\": \"N\\u00e3o<br>feitas\", \"yref\": \"y\"}, {\"font\": {\"color\": \"rgb(255,255,255)\"}, \"showarrow\": false, \"text\": \"11\", \"x\": \"Assign9\", \"xref\": \"x\", \"y\": \"N\\u00e3o<br>feitas\", \"yref\": \"y\"}, {\"font\": {\"color\": \"rgb(255,255,255)\"}, \"showarrow\": false, \"text\": \"14\", \"x\": \"Assign10\", \"xref\": \"x\", \"y\": \"N\\u00e3o<br>feitas\", \"yref\": \"y\"}], \"autosize\": false, \"height\": 350, \"hovermode\": \"closest\", \"title\": \"N\\u00famero de estudantes que fizeram e <b>n\\u00e3o</b> fizeram as atividades\", \"width\": 950, \"xaxis\": {\"title\": \"\", \"titlefont\": {\"color\": \"rgb(180,180,180)\"}}, \"yaxis\": {\"dtick\": 1, \"exponentformat\": \"e\", \"gridcolor\": \"#bdbdbd\", \"showexponent\": \"all\", \"showticklabels\": true, \"tick0\": 0, \"title\": \"\", \"titlefont\": {\"color\": \"rgb(180,180,180)\"}, \"type\": \"category\"}}, {\"showLink\": true, \"linkText\": \"Export to plot.ly\"})});</script>"
      ]
     },
     "metadata": {},
     "output_type": "display_data"
    },
    {
     "data": {
      "application/vnd.plotly.v1+json": {
       "data": [
        {
         "name": "Feitas",
         "type": "bar",
         "uid": "c567d5ba-fae4-11e8-b19a-e35ea5c620f6",
         "x": [
          "ALMIRA",
          "ANAZIRA",
          "DAFINE",
          "DILZA",
          "ELIDO",
          "ERILIO",
          "GIUSEPPE",
          "IDELMARIA",
          "ISABELI",
          "IZILDA",
          "JOCIQUELE",
          "KARIANY",
          "MESSODY",
          "NARIELE",
          "OTO",
          "ROSALHA",
          "SELESTRINO",
          "TIARA",
          "UDILSON",
          "URSULLA"
         ],
         "y": [
          3,
          4,
          5,
          4,
          3,
          4,
          5,
          6,
          5,
          4,
          5,
          3,
          3,
          2,
          5,
          4,
          4,
          3,
          7,
          3
         ]
        },
        {
         "name": "Não<br>feitas",
         "type": "bar",
         "uid": "c567d754-fae4-11e8-b19a-e35ea5c620f6",
         "x": [
          "ALMIRA",
          "ANAZIRA",
          "DAFINE",
          "DILZA",
          "ELIDO",
          "ERILIO",
          "GIUSEPPE",
          "IDELMARIA",
          "ISABELI",
          "IZILDA",
          "JOCIQUELE",
          "KARIANY",
          "MESSODY",
          "NARIELE",
          "OTO",
          "ROSALHA",
          "SELESTRINO",
          "TIARA",
          "UDILSON",
          "URSULLA"
         ],
         "y": [
          7,
          6,
          5,
          6,
          7,
          6,
          5,
          4,
          5,
          6,
          5,
          7,
          7,
          8,
          5,
          6,
          6,
          7,
          3,
          7
         ]
        }
       ],
       "layout": {
        "title": "Número de atividades feitas e <b>não</b> feitas por aluno",
        "xaxis": {
         "title": "",
         "titlefont": {
          "color": "rgb(180,180,180)"
         }
        },
        "yaxis": {
         "dtick": 5,
         "exponentformat": "e",
         "gridcolor": "#bdbdbd",
         "showexponent": "all",
         "showticklabels": true,
         "tick0": 0,
         "title": "Número de atividades",
         "titlefont": {
          "color": "rgb(180,180,180)"
         }
        }
       }
      },
      "text/html": [
       "<div id=\"fb95bb38-2e43-4dd3-bbda-c6f9db2bf34c\" style=\"height: 525px; width: 100%;\" class=\"plotly-graph-div\"></div><script type=\"text/javascript\">require([\"plotly\"], function(Plotly) { window.PLOTLYENV=window.PLOTLYENV || {};window.PLOTLYENV.BASE_URL=\"https://plot.ly\";Plotly.newPlot(\"fb95bb38-2e43-4dd3-bbda-c6f9db2bf34c\", [{\"name\": \"Feitas\", \"x\": [\"ALMIRA\", \"ANAZIRA\", \"DAFINE\", \"DILZA\", \"ELIDO\", \"ERILIO\", \"GIUSEPPE\", \"IDELMARIA\", \"ISABELI\", \"IZILDA\", \"JOCIQUELE\", \"KARIANY\", \"MESSODY\", \"NARIELE\", \"OTO\", \"ROSALHA\", \"SELESTRINO\", \"TIARA\", \"UDILSON\", \"URSULLA\"], \"y\": [3, 4, 5, 4, 3, 4, 5, 6, 5, 4, 5, 3, 3, 2, 5, 4, 4, 3, 7, 3], \"type\": \"bar\", \"uid\": \"c567d5ba-fae4-11e8-b19a-e35ea5c620f6\"}, {\"name\": \"N\\u00e3o<br>feitas\", \"x\": [\"ALMIRA\", \"ANAZIRA\", \"DAFINE\", \"DILZA\", \"ELIDO\", \"ERILIO\", \"GIUSEPPE\", \"IDELMARIA\", \"ISABELI\", \"IZILDA\", \"JOCIQUELE\", \"KARIANY\", \"MESSODY\", \"NARIELE\", \"OTO\", \"ROSALHA\", \"SELESTRINO\", \"TIARA\", \"UDILSON\", \"URSULLA\"], \"y\": [7, 6, 5, 6, 7, 6, 5, 4, 5, 6, 5, 7, 7, 8, 5, 6, 6, 7, 3, 7], \"type\": \"bar\", \"uid\": \"c567d754-fae4-11e8-b19a-e35ea5c620f6\"}], {\"title\": \"N\\u00famero de atividades feitas e <b>n\\u00e3o</b> feitas por aluno\", \"xaxis\": {\"title\": \"\", \"titlefont\": {\"color\": \"rgb(180,180,180)\"}}, \"yaxis\": {\"dtick\": 5, \"exponentformat\": \"e\", \"gridcolor\": \"#bdbdbd\", \"showexponent\": \"all\", \"showticklabels\": true, \"tick0\": 0, \"title\": \"N\\u00famero de atividades\", \"titlefont\": {\"color\": \"rgb(180,180,180)\"}}}, {\"showLink\": true, \"linkText\": \"Export to plot.ly\"})});</script>"
      ],
      "text/vnd.plotly.v1+html": [
       "<div id=\"fb95bb38-2e43-4dd3-bbda-c6f9db2bf34c\" style=\"height: 525px; width: 100%;\" class=\"plotly-graph-div\"></div><script type=\"text/javascript\">require([\"plotly\"], function(Plotly) { window.PLOTLYENV=window.PLOTLYENV || {};window.PLOTLYENV.BASE_URL=\"https://plot.ly\";Plotly.newPlot(\"fb95bb38-2e43-4dd3-bbda-c6f9db2bf34c\", [{\"name\": \"Feitas\", \"x\": [\"ALMIRA\", \"ANAZIRA\", \"DAFINE\", \"DILZA\", \"ELIDO\", \"ERILIO\", \"GIUSEPPE\", \"IDELMARIA\", \"ISABELI\", \"IZILDA\", \"JOCIQUELE\", \"KARIANY\", \"MESSODY\", \"NARIELE\", \"OTO\", \"ROSALHA\", \"SELESTRINO\", \"TIARA\", \"UDILSON\", \"URSULLA\"], \"y\": [3, 4, 5, 4, 3, 4, 5, 6, 5, 4, 5, 3, 3, 2, 5, 4, 4, 3, 7, 3], \"type\": \"bar\", \"uid\": \"c567d5ba-fae4-11e8-b19a-e35ea5c620f6\"}, {\"name\": \"N\\u00e3o<br>feitas\", \"x\": [\"ALMIRA\", \"ANAZIRA\", \"DAFINE\", \"DILZA\", \"ELIDO\", \"ERILIO\", \"GIUSEPPE\", \"IDELMARIA\", \"ISABELI\", \"IZILDA\", \"JOCIQUELE\", \"KARIANY\", \"MESSODY\", \"NARIELE\", \"OTO\", \"ROSALHA\", \"SELESTRINO\", \"TIARA\", \"UDILSON\", \"URSULLA\"], \"y\": [7, 6, 5, 6, 7, 6, 5, 4, 5, 6, 5, 7, 7, 8, 5, 6, 6, 7, 3, 7], \"type\": \"bar\", \"uid\": \"c567d754-fae4-11e8-b19a-e35ea5c620f6\"}], {\"title\": \"N\\u00famero de atividades feitas e <b>n\\u00e3o</b> feitas por aluno\", \"xaxis\": {\"title\": \"\", \"titlefont\": {\"color\": \"rgb(180,180,180)\"}}, \"yaxis\": {\"dtick\": 5, \"exponentformat\": \"e\", \"gridcolor\": \"#bdbdbd\", \"showexponent\": \"all\", \"showticklabels\": true, \"tick0\": 0, \"title\": \"N\\u00famero de atividades\", \"titlefont\": {\"color\": \"rgb(180,180,180)\"}}}, {\"showLink\": true, \"linkText\": \"Export to plot.ly\"})});</script>"
      ]
     },
     "metadata": {},
     "output_type": "display_data"
    },
    {
     "data": {
      "application/vnd.plotly.v1+json": {
       "data": [
        {
         "name": "Feitas",
         "type": "bar",
         "uid": "c56d090e-fae4-11e8-b19a-e35ea5c620f6",
         "x": [
          "NARIELE",
          "ALMIRA",
          "ELIDO",
          "KARIANY",
          "MESSODY",
          "TIARA",
          "URSULLA",
          "ANAZIRA",
          "DILZA",
          "ERILIO",
          "IZILDA",
          "ROSALHA",
          "SELESTRINO",
          "DAFINE",
          "GIUSEPPE",
          "ISABELI",
          "JOCIQUELE",
          "OTO",
          "IDELMARIA",
          "UDILSON"
         ],
         "y": [
          2,
          3,
          3,
          3,
          3,
          3,
          3,
          4,
          4,
          4,
          4,
          4,
          4,
          5,
          5,
          5,
          5,
          5,
          6,
          7
         ]
        },
        {
         "name": "Não<br>feitas",
         "type": "bar",
         "uid": "c56d0a9e-fae4-11e8-b19a-e35ea5c620f6",
         "x": [
          "NARIELE",
          "ALMIRA",
          "ELIDO",
          "KARIANY",
          "MESSODY",
          "TIARA",
          "URSULLA",
          "ANAZIRA",
          "DILZA",
          "ERILIO",
          "IZILDA",
          "ROSALHA",
          "SELESTRINO",
          "DAFINE",
          "GIUSEPPE",
          "ISABELI",
          "JOCIQUELE",
          "OTO",
          "IDELMARIA",
          "UDILSON"
         ],
         "y": [
          8,
          7,
          7,
          7,
          7,
          7,
          7,
          6,
          6,
          6,
          6,
          6,
          6,
          5,
          5,
          5,
          5,
          5,
          4,
          3
         ]
        }
       ],
       "layout": {
        "title": "Número de atividades feitas e <b>não</b> feitas por aluno",
        "xaxis": {
         "title": "",
         "titlefont": {
          "color": "rgb(180,180,180)"
         }
        },
        "yaxis": {
         "dtick": 5,
         "exponentformat": "e",
         "gridcolor": "#bdbdbd",
         "showexponent": "all",
         "showticklabels": true,
         "tick0": 0,
         "title": "Número de atividades",
         "titlefont": {
          "color": "rgb(180,180,180)"
         }
        }
       }
      },
      "text/html": [
       "<div id=\"d49006d8-dbf6-4269-b98f-55b1c045f1d2\" style=\"height: 525px; width: 100%;\" class=\"plotly-graph-div\"></div><script type=\"text/javascript\">require([\"plotly\"], function(Plotly) { window.PLOTLYENV=window.PLOTLYENV || {};window.PLOTLYENV.BASE_URL=\"https://plot.ly\";Plotly.newPlot(\"d49006d8-dbf6-4269-b98f-55b1c045f1d2\", [{\"name\": \"Feitas\", \"x\": [\"NARIELE\", \"ALMIRA\", \"ELIDO\", \"KARIANY\", \"MESSODY\", \"TIARA\", \"URSULLA\", \"ANAZIRA\", \"DILZA\", \"ERILIO\", \"IZILDA\", \"ROSALHA\", \"SELESTRINO\", \"DAFINE\", \"GIUSEPPE\", \"ISABELI\", \"JOCIQUELE\", \"OTO\", \"IDELMARIA\", \"UDILSON\"], \"y\": [2, 3, 3, 3, 3, 3, 3, 4, 4, 4, 4, 4, 4, 5, 5, 5, 5, 5, 6, 7], \"type\": \"bar\", \"uid\": \"c56d090e-fae4-11e8-b19a-e35ea5c620f6\"}, {\"name\": \"N\\u00e3o<br>feitas\", \"x\": [\"NARIELE\", \"ALMIRA\", \"ELIDO\", \"KARIANY\", \"MESSODY\", \"TIARA\", \"URSULLA\", \"ANAZIRA\", \"DILZA\", \"ERILIO\", \"IZILDA\", \"ROSALHA\", \"SELESTRINO\", \"DAFINE\", \"GIUSEPPE\", \"ISABELI\", \"JOCIQUELE\", \"OTO\", \"IDELMARIA\", \"UDILSON\"], \"y\": [8, 7, 7, 7, 7, 7, 7, 6, 6, 6, 6, 6, 6, 5, 5, 5, 5, 5, 4, 3], \"type\": \"bar\", \"uid\": \"c56d0a9e-fae4-11e8-b19a-e35ea5c620f6\"}], {\"title\": \"N\\u00famero de atividades feitas e <b>n\\u00e3o</b> feitas por aluno\", \"xaxis\": {\"title\": \"\", \"titlefont\": {\"color\": \"rgb(180,180,180)\"}}, \"yaxis\": {\"dtick\": 5, \"exponentformat\": \"e\", \"gridcolor\": \"#bdbdbd\", \"showexponent\": \"all\", \"showticklabels\": true, \"tick0\": 0, \"title\": \"N\\u00famero de atividades\", \"titlefont\": {\"color\": \"rgb(180,180,180)\"}}}, {\"showLink\": true, \"linkText\": \"Export to plot.ly\"})});</script>"
      ],
      "text/vnd.plotly.v1+html": [
       "<div id=\"d49006d8-dbf6-4269-b98f-55b1c045f1d2\" style=\"height: 525px; width: 100%;\" class=\"plotly-graph-div\"></div><script type=\"text/javascript\">require([\"plotly\"], function(Plotly) { window.PLOTLYENV=window.PLOTLYENV || {};window.PLOTLYENV.BASE_URL=\"https://plot.ly\";Plotly.newPlot(\"d49006d8-dbf6-4269-b98f-55b1c045f1d2\", [{\"name\": \"Feitas\", \"x\": [\"NARIELE\", \"ALMIRA\", \"ELIDO\", \"KARIANY\", \"MESSODY\", \"TIARA\", \"URSULLA\", \"ANAZIRA\", \"DILZA\", \"ERILIO\", \"IZILDA\", \"ROSALHA\", \"SELESTRINO\", \"DAFINE\", \"GIUSEPPE\", \"ISABELI\", \"JOCIQUELE\", \"OTO\", \"IDELMARIA\", \"UDILSON\"], \"y\": [2, 3, 3, 3, 3, 3, 3, 4, 4, 4, 4, 4, 4, 5, 5, 5, 5, 5, 6, 7], \"type\": \"bar\", \"uid\": \"c56d090e-fae4-11e8-b19a-e35ea5c620f6\"}, {\"name\": \"N\\u00e3o<br>feitas\", \"x\": [\"NARIELE\", \"ALMIRA\", \"ELIDO\", \"KARIANY\", \"MESSODY\", \"TIARA\", \"URSULLA\", \"ANAZIRA\", \"DILZA\", \"ERILIO\", \"IZILDA\", \"ROSALHA\", \"SELESTRINO\", \"DAFINE\", \"GIUSEPPE\", \"ISABELI\", \"JOCIQUELE\", \"OTO\", \"IDELMARIA\", \"UDILSON\"], \"y\": [8, 7, 7, 7, 7, 7, 7, 6, 6, 6, 6, 6, 6, 5, 5, 5, 5, 5, 4, 3], \"type\": \"bar\", \"uid\": \"c56d0a9e-fae4-11e8-b19a-e35ea5c620f6\"}], {\"title\": \"N\\u00famero de atividades feitas e <b>n\\u00e3o</b> feitas por aluno\", \"xaxis\": {\"title\": \"\", \"titlefont\": {\"color\": \"rgb(180,180,180)\"}}, \"yaxis\": {\"dtick\": 5, \"exponentformat\": \"e\", \"gridcolor\": \"#bdbdbd\", \"showexponent\": \"all\", \"showticklabels\": true, \"tick0\": 0, \"title\": \"N\\u00famero de atividades\", \"titlefont\": {\"color\": \"rgb(180,180,180)\"}}}, {\"showLink\": true, \"linkText\": \"Export to plot.ly\"})});</script>"
      ]
     },
     "metadata": {},
     "output_type": "display_data"
    },
    {
     "data": {
      "application/vnd.plotly.v1+json": {
       "data": [
        {
         "name": "Feitas",
         "type": "bar",
         "uid": "c57dc320-fae4-11e8-b19a-e35ea5c620f6",
         "x": [
          "UDILSON",
          "IDELMARIA",
          "DAFINE",
          "GIUSEPPE",
          "ISABELI",
          "JOCIQUELE",
          "OTO",
          "ANAZIRA",
          "DILZA",
          "ERILIO",
          "IZILDA",
          "ROSALHA",
          "SELESTRINO",
          "ALMIRA",
          "ELIDO",
          "KARIANY",
          "MESSODY",
          "TIARA",
          "URSULLA",
          "NARIELE"
         ],
         "y": [
          7,
          6,
          5,
          5,
          5,
          5,
          5,
          4,
          4,
          4,
          4,
          4,
          4,
          3,
          3,
          3,
          3,
          3,
          3,
          2
         ]
        },
        {
         "name": "Não<br>feitas",
         "type": "bar",
         "uid": "c57dc514-fae4-11e8-b19a-e35ea5c620f6",
         "x": [
          "UDILSON",
          "IDELMARIA",
          "DAFINE",
          "GIUSEPPE",
          "ISABELI",
          "JOCIQUELE",
          "OTO",
          "ANAZIRA",
          "DILZA",
          "ERILIO",
          "IZILDA",
          "ROSALHA",
          "SELESTRINO",
          "ALMIRA",
          "ELIDO",
          "KARIANY",
          "MESSODY",
          "TIARA",
          "URSULLA",
          "NARIELE"
         ],
         "y": [
          3,
          4,
          5,
          5,
          5,
          5,
          5,
          6,
          6,
          6,
          6,
          6,
          6,
          7,
          7,
          7,
          7,
          7,
          7,
          8
         ]
        }
       ],
       "layout": {
        "title": "Número de atividades feitas e <b>não</b> feitas por aluno",
        "xaxis": {
         "title": "",
         "titlefont": {
          "color": "rgb(180,180,180)"
         }
        },
        "yaxis": {
         "dtick": 5,
         "exponentformat": "e",
         "gridcolor": "#bdbdbd",
         "showexponent": "all",
         "showticklabels": true,
         "tick0": 0,
         "title": "Número de atividades",
         "titlefont": {
          "color": "rgb(180,180,180)"
         }
        }
       }
      },
      "text/html": [
       "<div id=\"4dd1840c-19e0-49f0-ade9-ec7e46742a5d\" style=\"height: 525px; width: 100%;\" class=\"plotly-graph-div\"></div><script type=\"text/javascript\">require([\"plotly\"], function(Plotly) { window.PLOTLYENV=window.PLOTLYENV || {};window.PLOTLYENV.BASE_URL=\"https://plot.ly\";Plotly.newPlot(\"4dd1840c-19e0-49f0-ade9-ec7e46742a5d\", [{\"name\": \"Feitas\", \"x\": [\"UDILSON\", \"IDELMARIA\", \"DAFINE\", \"GIUSEPPE\", \"ISABELI\", \"JOCIQUELE\", \"OTO\", \"ANAZIRA\", \"DILZA\", \"ERILIO\", \"IZILDA\", \"ROSALHA\", \"SELESTRINO\", \"ALMIRA\", \"ELIDO\", \"KARIANY\", \"MESSODY\", \"TIARA\", \"URSULLA\", \"NARIELE\"], \"y\": [7, 6, 5, 5, 5, 5, 5, 4, 4, 4, 4, 4, 4, 3, 3, 3, 3, 3, 3, 2], \"type\": \"bar\", \"uid\": \"c57dc320-fae4-11e8-b19a-e35ea5c620f6\"}, {\"name\": \"N\\u00e3o<br>feitas\", \"x\": [\"UDILSON\", \"IDELMARIA\", \"DAFINE\", \"GIUSEPPE\", \"ISABELI\", \"JOCIQUELE\", \"OTO\", \"ANAZIRA\", \"DILZA\", \"ERILIO\", \"IZILDA\", \"ROSALHA\", \"SELESTRINO\", \"ALMIRA\", \"ELIDO\", \"KARIANY\", \"MESSODY\", \"TIARA\", \"URSULLA\", \"NARIELE\"], \"y\": [3, 4, 5, 5, 5, 5, 5, 6, 6, 6, 6, 6, 6, 7, 7, 7, 7, 7, 7, 8], \"type\": \"bar\", \"uid\": \"c57dc514-fae4-11e8-b19a-e35ea5c620f6\"}], {\"title\": \"N\\u00famero de atividades feitas e <b>n\\u00e3o</b> feitas por aluno\", \"xaxis\": {\"title\": \"\", \"titlefont\": {\"color\": \"rgb(180,180,180)\"}}, \"yaxis\": {\"dtick\": 5, \"exponentformat\": \"e\", \"gridcolor\": \"#bdbdbd\", \"showexponent\": \"all\", \"showticklabels\": true, \"tick0\": 0, \"title\": \"N\\u00famero de atividades\", \"titlefont\": {\"color\": \"rgb(180,180,180)\"}}}, {\"showLink\": true, \"linkText\": \"Export to plot.ly\"})});</script>"
      ],
      "text/vnd.plotly.v1+html": [
       "<div id=\"4dd1840c-19e0-49f0-ade9-ec7e46742a5d\" style=\"height: 525px; width: 100%;\" class=\"plotly-graph-div\"></div><script type=\"text/javascript\">require([\"plotly\"], function(Plotly) { window.PLOTLYENV=window.PLOTLYENV || {};window.PLOTLYENV.BASE_URL=\"https://plot.ly\";Plotly.newPlot(\"4dd1840c-19e0-49f0-ade9-ec7e46742a5d\", [{\"name\": \"Feitas\", \"x\": [\"UDILSON\", \"IDELMARIA\", \"DAFINE\", \"GIUSEPPE\", \"ISABELI\", \"JOCIQUELE\", \"OTO\", \"ANAZIRA\", \"DILZA\", \"ERILIO\", \"IZILDA\", \"ROSALHA\", \"SELESTRINO\", \"ALMIRA\", \"ELIDO\", \"KARIANY\", \"MESSODY\", \"TIARA\", \"URSULLA\", \"NARIELE\"], \"y\": [7, 6, 5, 5, 5, 5, 5, 4, 4, 4, 4, 4, 4, 3, 3, 3, 3, 3, 3, 2], \"type\": \"bar\", \"uid\": \"c57dc320-fae4-11e8-b19a-e35ea5c620f6\"}, {\"name\": \"N\\u00e3o<br>feitas\", \"x\": [\"UDILSON\", \"IDELMARIA\", \"DAFINE\", \"GIUSEPPE\", \"ISABELI\", \"JOCIQUELE\", \"OTO\", \"ANAZIRA\", \"DILZA\", \"ERILIO\", \"IZILDA\", \"ROSALHA\", \"SELESTRINO\", \"ALMIRA\", \"ELIDO\", \"KARIANY\", \"MESSODY\", \"TIARA\", \"URSULLA\", \"NARIELE\"], \"y\": [3, 4, 5, 5, 5, 5, 5, 6, 6, 6, 6, 6, 6, 7, 7, 7, 7, 7, 7, 8], \"type\": \"bar\", \"uid\": \"c57dc514-fae4-11e8-b19a-e35ea5c620f6\"}], {\"title\": \"N\\u00famero de atividades feitas e <b>n\\u00e3o</b> feitas por aluno\", \"xaxis\": {\"title\": \"\", \"titlefont\": {\"color\": \"rgb(180,180,180)\"}}, \"yaxis\": {\"dtick\": 5, \"exponentformat\": \"e\", \"gridcolor\": \"#bdbdbd\", \"showexponent\": \"all\", \"showticklabels\": true, \"tick0\": 0, \"title\": \"N\\u00famero de atividades\", \"titlefont\": {\"color\": \"rgb(180,180,180)\"}}}, {\"showLink\": true, \"linkText\": \"Export to plot.ly\"})});</script>"
      ]
     },
     "metadata": {},
     "output_type": "display_data"
    },
    {
     "data": {
      "application/vnd.plotly.v1+json": {
       "data": [
        {
         "name": "Fizeram",
         "type": "bar",
         "uid": "c58346ba-fae4-11e8-b19a-e35ea5c620f6",
         "x": [
          "Assign1",
          "Assign2",
          "Assign3",
          "Assign4",
          "Assign5",
          "Assign6",
          "Assign7",
          "Assign8",
          "Assign9",
          "Assign10"
         ],
         "y": [
          9,
          10,
          8,
          10,
          6,
          6,
          10,
          8,
          9,
          6
         ]
        },
        {
         "name": "Não<br>fizeram",
         "type": "bar",
         "uid": "c5834868-fae4-11e8-b19a-e35ea5c620f6",
         "x": [
          "Assign1",
          "Assign2",
          "Assign3",
          "Assign4",
          "Assign5",
          "Assign6",
          "Assign7",
          "Assign8",
          "Assign9",
          "Assign10"
         ],
         "y": [
          11,
          10,
          12,
          10,
          14,
          14,
          10,
          12,
          11,
          14
         ]
        }
       ],
       "layout": {
        "title": "Número de alunos que fizeram e <b>não</b> fizeram as atividades",
        "xaxis": {
         "title": "",
         "titlefont": {
          "color": "rgb(180,180,180)"
         }
        },
        "yaxis": {
         "dtick": 5,
         "exponentformat": "e",
         "gridcolor": "#bdbdbd",
         "showexponent": "all",
         "showticklabels": true,
         "tick0": 0,
         "title": "Número de estudantes",
         "titlefont": {
          "color": "rgb(180,180,180)"
         }
        }
       }
      },
      "text/html": [
       "<div id=\"1c5f910b-7af7-4b00-b489-fe5bae3c7dcc\" style=\"height: 525px; width: 100%;\" class=\"plotly-graph-div\"></div><script type=\"text/javascript\">require([\"plotly\"], function(Plotly) { window.PLOTLYENV=window.PLOTLYENV || {};window.PLOTLYENV.BASE_URL=\"https://plot.ly\";Plotly.newPlot(\"1c5f910b-7af7-4b00-b489-fe5bae3c7dcc\", [{\"name\": \"Fizeram\", \"x\": [\"Assign1\", \"Assign2\", \"Assign3\", \"Assign4\", \"Assign5\", \"Assign6\", \"Assign7\", \"Assign8\", \"Assign9\", \"Assign10\"], \"y\": [9, 10, 8, 10, 6, 6, 10, 8, 9, 6], \"type\": \"bar\", \"uid\": \"c58346ba-fae4-11e8-b19a-e35ea5c620f6\"}, {\"name\": \"N\\u00e3o<br>fizeram\", \"x\": [\"Assign1\", \"Assign2\", \"Assign3\", \"Assign4\", \"Assign5\", \"Assign6\", \"Assign7\", \"Assign8\", \"Assign9\", \"Assign10\"], \"y\": [11, 10, 12, 10, 14, 14, 10, 12, 11, 14], \"type\": \"bar\", \"uid\": \"c5834868-fae4-11e8-b19a-e35ea5c620f6\"}], {\"title\": \"N\\u00famero de alunos que fizeram e <b>n\\u00e3o</b> fizeram as atividades\", \"xaxis\": {\"title\": \"\", \"titlefont\": {\"color\": \"rgb(180,180,180)\"}}, \"yaxis\": {\"dtick\": 5, \"exponentformat\": \"e\", \"gridcolor\": \"#bdbdbd\", \"showexponent\": \"all\", \"showticklabels\": true, \"tick0\": 0, \"title\": \"N\\u00famero de estudantes\", \"titlefont\": {\"color\": \"rgb(180,180,180)\"}}}, {\"showLink\": true, \"linkText\": \"Export to plot.ly\"})});</script>"
      ],
      "text/vnd.plotly.v1+html": [
       "<div id=\"1c5f910b-7af7-4b00-b489-fe5bae3c7dcc\" style=\"height: 525px; width: 100%;\" class=\"plotly-graph-div\"></div><script type=\"text/javascript\">require([\"plotly\"], function(Plotly) { window.PLOTLYENV=window.PLOTLYENV || {};window.PLOTLYENV.BASE_URL=\"https://plot.ly\";Plotly.newPlot(\"1c5f910b-7af7-4b00-b489-fe5bae3c7dcc\", [{\"name\": \"Fizeram\", \"x\": [\"Assign1\", \"Assign2\", \"Assign3\", \"Assign4\", \"Assign5\", \"Assign6\", \"Assign7\", \"Assign8\", \"Assign9\", \"Assign10\"], \"y\": [9, 10, 8, 10, 6, 6, 10, 8, 9, 6], \"type\": \"bar\", \"uid\": \"c58346ba-fae4-11e8-b19a-e35ea5c620f6\"}, {\"name\": \"N\\u00e3o<br>fizeram\", \"x\": [\"Assign1\", \"Assign2\", \"Assign3\", \"Assign4\", \"Assign5\", \"Assign6\", \"Assign7\", \"Assign8\", \"Assign9\", \"Assign10\"], \"y\": [11, 10, 12, 10, 14, 14, 10, 12, 11, 14], \"type\": \"bar\", \"uid\": \"c5834868-fae4-11e8-b19a-e35ea5c620f6\"}], {\"title\": \"N\\u00famero de alunos que fizeram e <b>n\\u00e3o</b> fizeram as atividades\", \"xaxis\": {\"title\": \"\", \"titlefont\": {\"color\": \"rgb(180,180,180)\"}}, \"yaxis\": {\"dtick\": 5, \"exponentformat\": \"e\", \"gridcolor\": \"#bdbdbd\", \"showexponent\": \"all\", \"showticklabels\": true, \"tick0\": 0, \"title\": \"N\\u00famero de estudantes\", \"titlefont\": {\"color\": \"rgb(180,180,180)\"}}}, {\"showLink\": true, \"linkText\": \"Export to plot.ly\"})});</script>"
      ]
     },
     "metadata": {},
     "output_type": "display_data"
    },
    {
     "data": {
      "application/vnd.plotly.v1+json": {
       "data": [
        {
         "name": "Fizeram",
         "type": "bar",
         "uid": "c588b262-fae4-11e8-b19a-e35ea5c620f6",
         "x": [
          "Assign10",
          "Assign5",
          "Assign6",
          "Assign3",
          "Assign8",
          "Assign1",
          "Assign9",
          "Assign2",
          "Assign4",
          "Assign7"
         ],
         "y": [
          6,
          6,
          6,
          8,
          8,
          9,
          9,
          10,
          10,
          10
         ]
        },
        {
         "name": "Não<br>fizeram",
         "type": "bar",
         "uid": "c588b410-fae4-11e8-b19a-e35ea5c620f6",
         "x": [
          "Assign10",
          "Assign5",
          "Assign6",
          "Assign3",
          "Assign8",
          "Assign1",
          "Assign9",
          "Assign2",
          "Assign4",
          "Assign7"
         ],
         "y": [
          14,
          14,
          14,
          12,
          12,
          11,
          11,
          10,
          10,
          10
         ]
        }
       ],
       "layout": {
        "title": "Número de alunos que fizeram e <b>não</b> fizeram as atividades",
        "xaxis": {
         "title": "",
         "titlefont": {
          "color": "rgb(180,180,180)"
         }
        },
        "yaxis": {
         "dtick": 5,
         "exponentformat": "e",
         "gridcolor": "#bdbdbd",
         "showexponent": "all",
         "showticklabels": true,
         "tick0": 0,
         "title": "Número de estudantes",
         "titlefont": {
          "color": "rgb(180,180,180)"
         }
        }
       }
      },
      "text/html": [
       "<div id=\"94141cb4-ff93-4031-a73d-365bbec2e86f\" style=\"height: 525px; width: 100%;\" class=\"plotly-graph-div\"></div><script type=\"text/javascript\">require([\"plotly\"], function(Plotly) { window.PLOTLYENV=window.PLOTLYENV || {};window.PLOTLYENV.BASE_URL=\"https://plot.ly\";Plotly.newPlot(\"94141cb4-ff93-4031-a73d-365bbec2e86f\", [{\"name\": \"Fizeram\", \"x\": [\"Assign10\", \"Assign5\", \"Assign6\", \"Assign3\", \"Assign8\", \"Assign1\", \"Assign9\", \"Assign2\", \"Assign4\", \"Assign7\"], \"y\": [6, 6, 6, 8, 8, 9, 9, 10, 10, 10], \"type\": \"bar\", \"uid\": \"c588b262-fae4-11e8-b19a-e35ea5c620f6\"}, {\"name\": \"N\\u00e3o<br>fizeram\", \"x\": [\"Assign10\", \"Assign5\", \"Assign6\", \"Assign3\", \"Assign8\", \"Assign1\", \"Assign9\", \"Assign2\", \"Assign4\", \"Assign7\"], \"y\": [14, 14, 14, 12, 12, 11, 11, 10, 10, 10], \"type\": \"bar\", \"uid\": \"c588b410-fae4-11e8-b19a-e35ea5c620f6\"}], {\"title\": \"N\\u00famero de alunos que fizeram e <b>n\\u00e3o</b> fizeram as atividades\", \"xaxis\": {\"title\": \"\", \"titlefont\": {\"color\": \"rgb(180,180,180)\"}}, \"yaxis\": {\"dtick\": 5, \"exponentformat\": \"e\", \"gridcolor\": \"#bdbdbd\", \"showexponent\": \"all\", \"showticklabels\": true, \"tick0\": 0, \"title\": \"N\\u00famero de estudantes\", \"titlefont\": {\"color\": \"rgb(180,180,180)\"}}}, {\"showLink\": true, \"linkText\": \"Export to plot.ly\"})});</script>"
      ],
      "text/vnd.plotly.v1+html": [
       "<div id=\"94141cb4-ff93-4031-a73d-365bbec2e86f\" style=\"height: 525px; width: 100%;\" class=\"plotly-graph-div\"></div><script type=\"text/javascript\">require([\"plotly\"], function(Plotly) { window.PLOTLYENV=window.PLOTLYENV || {};window.PLOTLYENV.BASE_URL=\"https://plot.ly\";Plotly.newPlot(\"94141cb4-ff93-4031-a73d-365bbec2e86f\", [{\"name\": \"Fizeram\", \"x\": [\"Assign10\", \"Assign5\", \"Assign6\", \"Assign3\", \"Assign8\", \"Assign1\", \"Assign9\", \"Assign2\", \"Assign4\", \"Assign7\"], \"y\": [6, 6, 6, 8, 8, 9, 9, 10, 10, 10], \"type\": \"bar\", \"uid\": \"c588b262-fae4-11e8-b19a-e35ea5c620f6\"}, {\"name\": \"N\\u00e3o<br>fizeram\", \"x\": [\"Assign10\", \"Assign5\", \"Assign6\", \"Assign3\", \"Assign8\", \"Assign1\", \"Assign9\", \"Assign2\", \"Assign4\", \"Assign7\"], \"y\": [14, 14, 14, 12, 12, 11, 11, 10, 10, 10], \"type\": \"bar\", \"uid\": \"c588b410-fae4-11e8-b19a-e35ea5c620f6\"}], {\"title\": \"N\\u00famero de alunos que fizeram e <b>n\\u00e3o</b> fizeram as atividades\", \"xaxis\": {\"title\": \"\", \"titlefont\": {\"color\": \"rgb(180,180,180)\"}}, \"yaxis\": {\"dtick\": 5, \"exponentformat\": \"e\", \"gridcolor\": \"#bdbdbd\", \"showexponent\": \"all\", \"showticklabels\": true, \"tick0\": 0, \"title\": \"N\\u00famero de estudantes\", \"titlefont\": {\"color\": \"rgb(180,180,180)\"}}}, {\"showLink\": true, \"linkText\": \"Export to plot.ly\"})});</script>"
      ]
     },
     "metadata": {},
     "output_type": "display_data"
    },
    {
     "data": {
      "application/vnd.plotly.v1+json": {
       "data": [
        {
         "name": "Fizeram",
         "type": "bar",
         "uid": "c58e5938-fae4-11e8-b19a-e35ea5c620f6",
         "x": [
          "Assign2",
          "Assign4",
          "Assign7",
          "Assign1",
          "Assign9",
          "Assign3",
          "Assign8",
          "Assign10",
          "Assign5",
          "Assign6"
         ],
         "y": [
          10,
          10,
          10,
          9,
          9,
          8,
          8,
          6,
          6,
          6
         ]
        },
        {
         "name": "Não<br>fizeram",
         "type": "bar",
         "uid": "c58e5ac8-fae4-11e8-b19a-e35ea5c620f6",
         "x": [
          "Assign2",
          "Assign4",
          "Assign7",
          "Assign1",
          "Assign9",
          "Assign3",
          "Assign8",
          "Assign10",
          "Assign5",
          "Assign6"
         ],
         "y": [
          10,
          10,
          10,
          11,
          11,
          12,
          12,
          14,
          14,
          14
         ]
        }
       ],
       "layout": {
        "title": "Número de alunos que fizeram e <b>não</b> fizeram as atividades",
        "xaxis": {
         "title": "",
         "titlefont": {
          "color": "rgb(180,180,180)"
         }
        },
        "yaxis": {
         "dtick": 5,
         "exponentformat": "e",
         "gridcolor": "#bdbdbd",
         "showexponent": "all",
         "showticklabels": true,
         "tick0": 0,
         "title": "Número de estudantes",
         "titlefont": {
          "color": "rgb(180,180,180)"
         }
        }
       }
      },
      "text/html": [
       "<div id=\"066e5317-e4f4-4f69-819b-a1b1d23e2f4b\" style=\"height: 525px; width: 100%;\" class=\"plotly-graph-div\"></div><script type=\"text/javascript\">require([\"plotly\"], function(Plotly) { window.PLOTLYENV=window.PLOTLYENV || {};window.PLOTLYENV.BASE_URL=\"https://plot.ly\";Plotly.newPlot(\"066e5317-e4f4-4f69-819b-a1b1d23e2f4b\", [{\"name\": \"Fizeram\", \"x\": [\"Assign2\", \"Assign4\", \"Assign7\", \"Assign1\", \"Assign9\", \"Assign3\", \"Assign8\", \"Assign10\", \"Assign5\", \"Assign6\"], \"y\": [10, 10, 10, 9, 9, 8, 8, 6, 6, 6], \"type\": \"bar\", \"uid\": \"c58e5938-fae4-11e8-b19a-e35ea5c620f6\"}, {\"name\": \"N\\u00e3o<br>fizeram\", \"x\": [\"Assign2\", \"Assign4\", \"Assign7\", \"Assign1\", \"Assign9\", \"Assign3\", \"Assign8\", \"Assign10\", \"Assign5\", \"Assign6\"], \"y\": [10, 10, 10, 11, 11, 12, 12, 14, 14, 14], \"type\": \"bar\", \"uid\": \"c58e5ac8-fae4-11e8-b19a-e35ea5c620f6\"}], {\"title\": \"N\\u00famero de alunos que fizeram e <b>n\\u00e3o</b> fizeram as atividades\", \"xaxis\": {\"title\": \"\", \"titlefont\": {\"color\": \"rgb(180,180,180)\"}}, \"yaxis\": {\"dtick\": 5, \"exponentformat\": \"e\", \"gridcolor\": \"#bdbdbd\", \"showexponent\": \"all\", \"showticklabels\": true, \"tick0\": 0, \"title\": \"N\\u00famero de estudantes\", \"titlefont\": {\"color\": \"rgb(180,180,180)\"}}}, {\"showLink\": true, \"linkText\": \"Export to plot.ly\"})});</script>"
      ],
      "text/vnd.plotly.v1+html": [
       "<div id=\"066e5317-e4f4-4f69-819b-a1b1d23e2f4b\" style=\"height: 525px; width: 100%;\" class=\"plotly-graph-div\"></div><script type=\"text/javascript\">require([\"plotly\"], function(Plotly) { window.PLOTLYENV=window.PLOTLYENV || {};window.PLOTLYENV.BASE_URL=\"https://plot.ly\";Plotly.newPlot(\"066e5317-e4f4-4f69-819b-a1b1d23e2f4b\", [{\"name\": \"Fizeram\", \"x\": [\"Assign2\", \"Assign4\", \"Assign7\", \"Assign1\", \"Assign9\", \"Assign3\", \"Assign8\", \"Assign10\", \"Assign5\", \"Assign6\"], \"y\": [10, 10, 10, 9, 9, 8, 8, 6, 6, 6], \"type\": \"bar\", \"uid\": \"c58e5938-fae4-11e8-b19a-e35ea5c620f6\"}, {\"name\": \"N\\u00e3o<br>fizeram\", \"x\": [\"Assign2\", \"Assign4\", \"Assign7\", \"Assign1\", \"Assign9\", \"Assign3\", \"Assign8\", \"Assign10\", \"Assign5\", \"Assign6\"], \"y\": [10, 10, 10, 11, 11, 12, 12, 14, 14, 14], \"type\": \"bar\", \"uid\": \"c58e5ac8-fae4-11e8-b19a-e35ea5c620f6\"}], {\"title\": \"N\\u00famero de alunos que fizeram e <b>n\\u00e3o</b> fizeram as atividades\", \"xaxis\": {\"title\": \"\", \"titlefont\": {\"color\": \"rgb(180,180,180)\"}}, \"yaxis\": {\"dtick\": 5, \"exponentformat\": \"e\", \"gridcolor\": \"#bdbdbd\", \"showexponent\": \"all\", \"showticklabels\": true, \"tick0\": 0, \"title\": \"N\\u00famero de estudantes\", \"titlefont\": {\"color\": \"rgb(180,180,180)\"}}}, {\"showLink\": true, \"linkText\": \"Export to plot.ly\"})});</script>"
      ]
     },
     "metadata": {},
     "output_type": "display_data"
    },
    {
     "data": {
      "application/vnd.plotly.v1+json": {
       "data": [
        {
         "name": "Feitas",
         "type": "bar",
         "uid": "c593501e-fae4-11e8-b19a-e35ea5c620f6",
         "x": [
          "ALMIRA",
          "ANAZIRA",
          "DAFINE",
          "DILZA",
          "ELIDO",
          "ERILIO",
          "GIUSEPPE",
          "IDELMARIA",
          "ISABELI",
          "IZILDA",
          "JOCIQUELE",
          "KARIANY",
          "MESSODY",
          "NARIELE",
          "OTO",
          "ROSALHA",
          "SELESTRINO",
          "TIARA",
          "UDILSON",
          "URSULLA"
         ],
         "y": [
          3,
          4,
          5,
          4,
          3,
          4,
          5,
          6,
          5,
          4,
          5,
          3,
          3,
          2,
          5,
          4,
          4,
          3,
          7,
          3
         ]
        },
        {
         "name": "Não<br>feitas",
         "type": "bar",
         "uid": "c59351a4-fae4-11e8-b19a-e35ea5c620f6",
         "x": [
          "ALMIRA",
          "ANAZIRA",
          "DAFINE",
          "DILZA",
          "ELIDO",
          "ERILIO",
          "GIUSEPPE",
          "IDELMARIA",
          "ISABELI",
          "IZILDA",
          "JOCIQUELE",
          "KARIANY",
          "MESSODY",
          "NARIELE",
          "OTO",
          "ROSALHA",
          "SELESTRINO",
          "TIARA",
          "UDILSON",
          "URSULLA"
         ],
         "y": [
          7,
          6,
          5,
          6,
          7,
          6,
          5,
          4,
          5,
          6,
          5,
          7,
          7,
          8,
          5,
          6,
          6,
          7,
          3,
          7
         ]
        }
       ],
       "layout": {
        "barmode": "stack",
        "title": "Número de atividades feitas e <b>não</b> feitas por aluno",
        "xaxis": {
         "title": "",
         "titlefont": {
          "color": "rgb(180,180,180)"
         }
        },
        "yaxis": {
         "dtick": 5,
         "exponentformat": "e",
         "gridcolor": "#bdbdbd",
         "showexponent": "all",
         "showticklabels": true,
         "tick0": 0,
         "title": "Número de atividades",
         "titlefont": {
          "color": "rgb(180,180,180)"
         }
        }
       }
      },
      "text/html": [
       "<div id=\"2a5af7ab-32e5-46bc-8af5-4d2ee2122aef\" style=\"height: 525px; width: 100%;\" class=\"plotly-graph-div\"></div><script type=\"text/javascript\">require([\"plotly\"], function(Plotly) { window.PLOTLYENV=window.PLOTLYENV || {};window.PLOTLYENV.BASE_URL=\"https://plot.ly\";Plotly.newPlot(\"2a5af7ab-32e5-46bc-8af5-4d2ee2122aef\", [{\"name\": \"Feitas\", \"x\": [\"ALMIRA\", \"ANAZIRA\", \"DAFINE\", \"DILZA\", \"ELIDO\", \"ERILIO\", \"GIUSEPPE\", \"IDELMARIA\", \"ISABELI\", \"IZILDA\", \"JOCIQUELE\", \"KARIANY\", \"MESSODY\", \"NARIELE\", \"OTO\", \"ROSALHA\", \"SELESTRINO\", \"TIARA\", \"UDILSON\", \"URSULLA\"], \"y\": [3, 4, 5, 4, 3, 4, 5, 6, 5, 4, 5, 3, 3, 2, 5, 4, 4, 3, 7, 3], \"type\": \"bar\", \"uid\": \"c593501e-fae4-11e8-b19a-e35ea5c620f6\"}, {\"name\": \"N\\u00e3o<br>feitas\", \"x\": [\"ALMIRA\", \"ANAZIRA\", \"DAFINE\", \"DILZA\", \"ELIDO\", \"ERILIO\", \"GIUSEPPE\", \"IDELMARIA\", \"ISABELI\", \"IZILDA\", \"JOCIQUELE\", \"KARIANY\", \"MESSODY\", \"NARIELE\", \"OTO\", \"ROSALHA\", \"SELESTRINO\", \"TIARA\", \"UDILSON\", \"URSULLA\"], \"y\": [7, 6, 5, 6, 7, 6, 5, 4, 5, 6, 5, 7, 7, 8, 5, 6, 6, 7, 3, 7], \"type\": \"bar\", \"uid\": \"c59351a4-fae4-11e8-b19a-e35ea5c620f6\"}], {\"barmode\": \"stack\", \"title\": \"N\\u00famero de atividades feitas e <b>n\\u00e3o</b> feitas por aluno\", \"xaxis\": {\"title\": \"\", \"titlefont\": {\"color\": \"rgb(180,180,180)\"}}, \"yaxis\": {\"dtick\": 5, \"exponentformat\": \"e\", \"gridcolor\": \"#bdbdbd\", \"showexponent\": \"all\", \"showticklabels\": true, \"tick0\": 0, \"title\": \"N\\u00famero de atividades\", \"titlefont\": {\"color\": \"rgb(180,180,180)\"}}}, {\"showLink\": true, \"linkText\": \"Export to plot.ly\"})});</script>"
      ],
      "text/vnd.plotly.v1+html": [
       "<div id=\"2a5af7ab-32e5-46bc-8af5-4d2ee2122aef\" style=\"height: 525px; width: 100%;\" class=\"plotly-graph-div\"></div><script type=\"text/javascript\">require([\"plotly\"], function(Plotly) { window.PLOTLYENV=window.PLOTLYENV || {};window.PLOTLYENV.BASE_URL=\"https://plot.ly\";Plotly.newPlot(\"2a5af7ab-32e5-46bc-8af5-4d2ee2122aef\", [{\"name\": \"Feitas\", \"x\": [\"ALMIRA\", \"ANAZIRA\", \"DAFINE\", \"DILZA\", \"ELIDO\", \"ERILIO\", \"GIUSEPPE\", \"IDELMARIA\", \"ISABELI\", \"IZILDA\", \"JOCIQUELE\", \"KARIANY\", \"MESSODY\", \"NARIELE\", \"OTO\", \"ROSALHA\", \"SELESTRINO\", \"TIARA\", \"UDILSON\", \"URSULLA\"], \"y\": [3, 4, 5, 4, 3, 4, 5, 6, 5, 4, 5, 3, 3, 2, 5, 4, 4, 3, 7, 3], \"type\": \"bar\", \"uid\": \"c593501e-fae4-11e8-b19a-e35ea5c620f6\"}, {\"name\": \"N\\u00e3o<br>feitas\", \"x\": [\"ALMIRA\", \"ANAZIRA\", \"DAFINE\", \"DILZA\", \"ELIDO\", \"ERILIO\", \"GIUSEPPE\", \"IDELMARIA\", \"ISABELI\", \"IZILDA\", \"JOCIQUELE\", \"KARIANY\", \"MESSODY\", \"NARIELE\", \"OTO\", \"ROSALHA\", \"SELESTRINO\", \"TIARA\", \"UDILSON\", \"URSULLA\"], \"y\": [7, 6, 5, 6, 7, 6, 5, 4, 5, 6, 5, 7, 7, 8, 5, 6, 6, 7, 3, 7], \"type\": \"bar\", \"uid\": \"c59351a4-fae4-11e8-b19a-e35ea5c620f6\"}], {\"barmode\": \"stack\", \"title\": \"N\\u00famero de atividades feitas e <b>n\\u00e3o</b> feitas por aluno\", \"xaxis\": {\"title\": \"\", \"titlefont\": {\"color\": \"rgb(180,180,180)\"}}, \"yaxis\": {\"dtick\": 5, \"exponentformat\": \"e\", \"gridcolor\": \"#bdbdbd\", \"showexponent\": \"all\", \"showticklabels\": true, \"tick0\": 0, \"title\": \"N\\u00famero de atividades\", \"titlefont\": {\"color\": \"rgb(180,180,180)\"}}}, {\"showLink\": true, \"linkText\": \"Export to plot.ly\"})});</script>"
      ]
     },
     "metadata": {},
     "output_type": "display_data"
    },
    {
     "data": {
      "application/vnd.plotly.v1+json": {
       "data": [
        {
         "name": "Feitas",
         "type": "bar",
         "uid": "c598a5fa-fae4-11e8-b19a-e35ea5c620f6",
         "x": [
          "NARIELE",
          "ALMIRA",
          "ELIDO",
          "KARIANY",
          "MESSODY",
          "TIARA",
          "URSULLA",
          "ANAZIRA",
          "DILZA",
          "ERILIO",
          "IZILDA",
          "ROSALHA",
          "SELESTRINO",
          "DAFINE",
          "GIUSEPPE",
          "ISABELI",
          "JOCIQUELE",
          "OTO",
          "IDELMARIA",
          "UDILSON"
         ],
         "y": [
          2,
          3,
          3,
          3,
          3,
          3,
          3,
          4,
          4,
          4,
          4,
          4,
          4,
          5,
          5,
          5,
          5,
          5,
          6,
          7
         ]
        },
        {
         "name": "Não<br>feitas",
         "type": "bar",
         "uid": "c598a794-fae4-11e8-b19a-e35ea5c620f6",
         "x": [
          "NARIELE",
          "ALMIRA",
          "ELIDO",
          "KARIANY",
          "MESSODY",
          "TIARA",
          "URSULLA",
          "ANAZIRA",
          "DILZA",
          "ERILIO",
          "IZILDA",
          "ROSALHA",
          "SELESTRINO",
          "DAFINE",
          "GIUSEPPE",
          "ISABELI",
          "JOCIQUELE",
          "OTO",
          "IDELMARIA",
          "UDILSON"
         ],
         "y": [
          8,
          7,
          7,
          7,
          7,
          7,
          7,
          6,
          6,
          6,
          6,
          6,
          6,
          5,
          5,
          5,
          5,
          5,
          4,
          3
         ]
        }
       ],
       "layout": {
        "barmode": "stack",
        "title": "Número de atividades feitas e <b>não</b> feitas por aluno",
        "xaxis": {
         "title": "",
         "titlefont": {
          "color": "rgb(180,180,180)"
         }
        },
        "yaxis": {
         "dtick": 5,
         "exponentformat": "e",
         "gridcolor": "#bdbdbd",
         "showexponent": "all",
         "showticklabels": true,
         "tick0": 0,
         "title": "Número de atividades",
         "titlefont": {
          "color": "rgb(180,180,180)"
         }
        }
       }
      },
      "text/html": [
       "<div id=\"cea2b577-8cae-4af1-bd92-7aed59286013\" style=\"height: 525px; width: 100%;\" class=\"plotly-graph-div\"></div><script type=\"text/javascript\">require([\"plotly\"], function(Plotly) { window.PLOTLYENV=window.PLOTLYENV || {};window.PLOTLYENV.BASE_URL=\"https://plot.ly\";Plotly.newPlot(\"cea2b577-8cae-4af1-bd92-7aed59286013\", [{\"name\": \"Feitas\", \"x\": [\"NARIELE\", \"ALMIRA\", \"ELIDO\", \"KARIANY\", \"MESSODY\", \"TIARA\", \"URSULLA\", \"ANAZIRA\", \"DILZA\", \"ERILIO\", \"IZILDA\", \"ROSALHA\", \"SELESTRINO\", \"DAFINE\", \"GIUSEPPE\", \"ISABELI\", \"JOCIQUELE\", \"OTO\", \"IDELMARIA\", \"UDILSON\"], \"y\": [2, 3, 3, 3, 3, 3, 3, 4, 4, 4, 4, 4, 4, 5, 5, 5, 5, 5, 6, 7], \"type\": \"bar\", \"uid\": \"c598a5fa-fae4-11e8-b19a-e35ea5c620f6\"}, {\"name\": \"N\\u00e3o<br>feitas\", \"x\": [\"NARIELE\", \"ALMIRA\", \"ELIDO\", \"KARIANY\", \"MESSODY\", \"TIARA\", \"URSULLA\", \"ANAZIRA\", \"DILZA\", \"ERILIO\", \"IZILDA\", \"ROSALHA\", \"SELESTRINO\", \"DAFINE\", \"GIUSEPPE\", \"ISABELI\", \"JOCIQUELE\", \"OTO\", \"IDELMARIA\", \"UDILSON\"], \"y\": [8, 7, 7, 7, 7, 7, 7, 6, 6, 6, 6, 6, 6, 5, 5, 5, 5, 5, 4, 3], \"type\": \"bar\", \"uid\": \"c598a794-fae4-11e8-b19a-e35ea5c620f6\"}], {\"barmode\": \"stack\", \"title\": \"N\\u00famero de atividades feitas e <b>n\\u00e3o</b> feitas por aluno\", \"xaxis\": {\"title\": \"\", \"titlefont\": {\"color\": \"rgb(180,180,180)\"}}, \"yaxis\": {\"dtick\": 5, \"exponentformat\": \"e\", \"gridcolor\": \"#bdbdbd\", \"showexponent\": \"all\", \"showticklabels\": true, \"tick0\": 0, \"title\": \"N\\u00famero de atividades\", \"titlefont\": {\"color\": \"rgb(180,180,180)\"}}}, {\"showLink\": true, \"linkText\": \"Export to plot.ly\"})});</script>"
      ],
      "text/vnd.plotly.v1+html": [
       "<div id=\"cea2b577-8cae-4af1-bd92-7aed59286013\" style=\"height: 525px; width: 100%;\" class=\"plotly-graph-div\"></div><script type=\"text/javascript\">require([\"plotly\"], function(Plotly) { window.PLOTLYENV=window.PLOTLYENV || {};window.PLOTLYENV.BASE_URL=\"https://plot.ly\";Plotly.newPlot(\"cea2b577-8cae-4af1-bd92-7aed59286013\", [{\"name\": \"Feitas\", \"x\": [\"NARIELE\", \"ALMIRA\", \"ELIDO\", \"KARIANY\", \"MESSODY\", \"TIARA\", \"URSULLA\", \"ANAZIRA\", \"DILZA\", \"ERILIO\", \"IZILDA\", \"ROSALHA\", \"SELESTRINO\", \"DAFINE\", \"GIUSEPPE\", \"ISABELI\", \"JOCIQUELE\", \"OTO\", \"IDELMARIA\", \"UDILSON\"], \"y\": [2, 3, 3, 3, 3, 3, 3, 4, 4, 4, 4, 4, 4, 5, 5, 5, 5, 5, 6, 7], \"type\": \"bar\", \"uid\": \"c598a5fa-fae4-11e8-b19a-e35ea5c620f6\"}, {\"name\": \"N\\u00e3o<br>feitas\", \"x\": [\"NARIELE\", \"ALMIRA\", \"ELIDO\", \"KARIANY\", \"MESSODY\", \"TIARA\", \"URSULLA\", \"ANAZIRA\", \"DILZA\", \"ERILIO\", \"IZILDA\", \"ROSALHA\", \"SELESTRINO\", \"DAFINE\", \"GIUSEPPE\", \"ISABELI\", \"JOCIQUELE\", \"OTO\", \"IDELMARIA\", \"UDILSON\"], \"y\": [8, 7, 7, 7, 7, 7, 7, 6, 6, 6, 6, 6, 6, 5, 5, 5, 5, 5, 4, 3], \"type\": \"bar\", \"uid\": \"c598a794-fae4-11e8-b19a-e35ea5c620f6\"}], {\"barmode\": \"stack\", \"title\": \"N\\u00famero de atividades feitas e <b>n\\u00e3o</b> feitas por aluno\", \"xaxis\": {\"title\": \"\", \"titlefont\": {\"color\": \"rgb(180,180,180)\"}}, \"yaxis\": {\"dtick\": 5, \"exponentformat\": \"e\", \"gridcolor\": \"#bdbdbd\", \"showexponent\": \"all\", \"showticklabels\": true, \"tick0\": 0, \"title\": \"N\\u00famero de atividades\", \"titlefont\": {\"color\": \"rgb(180,180,180)\"}}}, {\"showLink\": true, \"linkText\": \"Export to plot.ly\"})});</script>"
      ]
     },
     "metadata": {},
     "output_type": "display_data"
    },
    {
     "data": {
      "application/vnd.plotly.v1+json": {
       "data": [
        {
         "name": "Feitas",
         "type": "bar",
         "uid": "c59dc42c-fae4-11e8-b19a-e35ea5c620f6",
         "x": [
          "UDILSON",
          "IDELMARIA",
          "DAFINE",
          "GIUSEPPE",
          "ISABELI",
          "JOCIQUELE",
          "OTO",
          "ANAZIRA",
          "DILZA",
          "ERILIO",
          "IZILDA",
          "ROSALHA",
          "SELESTRINO",
          "ALMIRA",
          "ELIDO",
          "KARIANY",
          "MESSODY",
          "TIARA",
          "URSULLA",
          "NARIELE"
         ],
         "y": [
          7,
          6,
          5,
          5,
          5,
          5,
          5,
          4,
          4,
          4,
          4,
          4,
          4,
          3,
          3,
          3,
          3,
          3,
          3,
          2
         ]
        },
        {
         "name": "Não<br>feitas",
         "type": "bar",
         "uid": "c59dc5c6-fae4-11e8-b19a-e35ea5c620f6",
         "x": [
          "UDILSON",
          "IDELMARIA",
          "DAFINE",
          "GIUSEPPE",
          "ISABELI",
          "JOCIQUELE",
          "OTO",
          "ANAZIRA",
          "DILZA",
          "ERILIO",
          "IZILDA",
          "ROSALHA",
          "SELESTRINO",
          "ALMIRA",
          "ELIDO",
          "KARIANY",
          "MESSODY",
          "TIARA",
          "URSULLA",
          "NARIELE"
         ],
         "y": [
          3,
          4,
          5,
          5,
          5,
          5,
          5,
          6,
          6,
          6,
          6,
          6,
          6,
          7,
          7,
          7,
          7,
          7,
          7,
          8
         ]
        }
       ],
       "layout": {
        "barmode": "stack",
        "title": "Número de atividades feitas e <b>não</b> feitas por aluno",
        "xaxis": {
         "title": "",
         "titlefont": {
          "color": "rgb(180,180,180)"
         }
        },
        "yaxis": {
         "dtick": 5,
         "exponentformat": "e",
         "gridcolor": "#bdbdbd",
         "showexponent": "all",
         "showticklabels": true,
         "tick0": 0,
         "title": "Número de atividades",
         "titlefont": {
          "color": "rgb(180,180,180)"
         }
        }
       }
      },
      "text/html": [
       "<div id=\"f477b2ce-4030-4c8e-b20f-f64ce298e44b\" style=\"height: 525px; width: 100%;\" class=\"plotly-graph-div\"></div><script type=\"text/javascript\">require([\"plotly\"], function(Plotly) { window.PLOTLYENV=window.PLOTLYENV || {};window.PLOTLYENV.BASE_URL=\"https://plot.ly\";Plotly.newPlot(\"f477b2ce-4030-4c8e-b20f-f64ce298e44b\", [{\"name\": \"Feitas\", \"x\": [\"UDILSON\", \"IDELMARIA\", \"DAFINE\", \"GIUSEPPE\", \"ISABELI\", \"JOCIQUELE\", \"OTO\", \"ANAZIRA\", \"DILZA\", \"ERILIO\", \"IZILDA\", \"ROSALHA\", \"SELESTRINO\", \"ALMIRA\", \"ELIDO\", \"KARIANY\", \"MESSODY\", \"TIARA\", \"URSULLA\", \"NARIELE\"], \"y\": [7, 6, 5, 5, 5, 5, 5, 4, 4, 4, 4, 4, 4, 3, 3, 3, 3, 3, 3, 2], \"type\": \"bar\", \"uid\": \"c59dc42c-fae4-11e8-b19a-e35ea5c620f6\"}, {\"name\": \"N\\u00e3o<br>feitas\", \"x\": [\"UDILSON\", \"IDELMARIA\", \"DAFINE\", \"GIUSEPPE\", \"ISABELI\", \"JOCIQUELE\", \"OTO\", \"ANAZIRA\", \"DILZA\", \"ERILIO\", \"IZILDA\", \"ROSALHA\", \"SELESTRINO\", \"ALMIRA\", \"ELIDO\", \"KARIANY\", \"MESSODY\", \"TIARA\", \"URSULLA\", \"NARIELE\"], \"y\": [3, 4, 5, 5, 5, 5, 5, 6, 6, 6, 6, 6, 6, 7, 7, 7, 7, 7, 7, 8], \"type\": \"bar\", \"uid\": \"c59dc5c6-fae4-11e8-b19a-e35ea5c620f6\"}], {\"barmode\": \"stack\", \"title\": \"N\\u00famero de atividades feitas e <b>n\\u00e3o</b> feitas por aluno\", \"xaxis\": {\"title\": \"\", \"titlefont\": {\"color\": \"rgb(180,180,180)\"}}, \"yaxis\": {\"dtick\": 5, \"exponentformat\": \"e\", \"gridcolor\": \"#bdbdbd\", \"showexponent\": \"all\", \"showticklabels\": true, \"tick0\": 0, \"title\": \"N\\u00famero de atividades\", \"titlefont\": {\"color\": \"rgb(180,180,180)\"}}}, {\"showLink\": true, \"linkText\": \"Export to plot.ly\"})});</script>"
      ],
      "text/vnd.plotly.v1+html": [
       "<div id=\"f477b2ce-4030-4c8e-b20f-f64ce298e44b\" style=\"height: 525px; width: 100%;\" class=\"plotly-graph-div\"></div><script type=\"text/javascript\">require([\"plotly\"], function(Plotly) { window.PLOTLYENV=window.PLOTLYENV || {};window.PLOTLYENV.BASE_URL=\"https://plot.ly\";Plotly.newPlot(\"f477b2ce-4030-4c8e-b20f-f64ce298e44b\", [{\"name\": \"Feitas\", \"x\": [\"UDILSON\", \"IDELMARIA\", \"DAFINE\", \"GIUSEPPE\", \"ISABELI\", \"JOCIQUELE\", \"OTO\", \"ANAZIRA\", \"DILZA\", \"ERILIO\", \"IZILDA\", \"ROSALHA\", \"SELESTRINO\", \"ALMIRA\", \"ELIDO\", \"KARIANY\", \"MESSODY\", \"TIARA\", \"URSULLA\", \"NARIELE\"], \"y\": [7, 6, 5, 5, 5, 5, 5, 4, 4, 4, 4, 4, 4, 3, 3, 3, 3, 3, 3, 2], \"type\": \"bar\", \"uid\": \"c59dc42c-fae4-11e8-b19a-e35ea5c620f6\"}, {\"name\": \"N\\u00e3o<br>feitas\", \"x\": [\"UDILSON\", \"IDELMARIA\", \"DAFINE\", \"GIUSEPPE\", \"ISABELI\", \"JOCIQUELE\", \"OTO\", \"ANAZIRA\", \"DILZA\", \"ERILIO\", \"IZILDA\", \"ROSALHA\", \"SELESTRINO\", \"ALMIRA\", \"ELIDO\", \"KARIANY\", \"MESSODY\", \"TIARA\", \"URSULLA\", \"NARIELE\"], \"y\": [3, 4, 5, 5, 5, 5, 5, 6, 6, 6, 6, 6, 6, 7, 7, 7, 7, 7, 7, 8], \"type\": \"bar\", \"uid\": \"c59dc5c6-fae4-11e8-b19a-e35ea5c620f6\"}], {\"barmode\": \"stack\", \"title\": \"N\\u00famero de atividades feitas e <b>n\\u00e3o</b> feitas por aluno\", \"xaxis\": {\"title\": \"\", \"titlefont\": {\"color\": \"rgb(180,180,180)\"}}, \"yaxis\": {\"dtick\": 5, \"exponentformat\": \"e\", \"gridcolor\": \"#bdbdbd\", \"showexponent\": \"all\", \"showticklabels\": true, \"tick0\": 0, \"title\": \"N\\u00famero de atividades\", \"titlefont\": {\"color\": \"rgb(180,180,180)\"}}}, {\"showLink\": true, \"linkText\": \"Export to plot.ly\"})});</script>"
      ]
     },
     "metadata": {},
     "output_type": "display_data"
    },
    {
     "data": {
      "application/vnd.plotly.v1+json": {
       "data": [
        {
         "name": "Feitas",
         "orientation": "h",
         "type": "bar",
         "uid": "c5a2cd0a-fae4-11e8-b19a-e35ea5c620f6",
         "x": [
          3,
          4,
          5,
          4,
          3,
          4,
          5,
          6,
          5,
          4,
          5,
          3,
          3,
          2,
          5,
          4,
          4,
          3,
          7,
          3
         ],
         "y": [
          "ALMIRA",
          "ANAZIRA",
          "DAFINE",
          "DILZA",
          "ELIDO",
          "ERILIO",
          "GIUSEPPE",
          "IDELMARIA",
          "ISABELI",
          "IZILDA",
          "JOCIQUELE",
          "KARIANY",
          "MESSODY",
          "NARIELE",
          "OTO",
          "ROSALHA",
          "SELESTRINO",
          "TIARA",
          "UDILSON",
          "URSULLA"
         ]
        },
        {
         "name": "Não<br>feitas",
         "orientation": "h",
         "type": "bar",
         "uid": "c5a2ceae-fae4-11e8-b19a-e35ea5c620f6",
         "x": [
          7,
          6,
          5,
          6,
          7,
          6,
          5,
          4,
          5,
          6,
          5,
          7,
          7,
          8,
          5,
          6,
          6,
          7,
          3,
          7
         ],
         "y": [
          "ALMIRA",
          "ANAZIRA",
          "DAFINE",
          "DILZA",
          "ELIDO",
          "ERILIO",
          "GIUSEPPE",
          "IDELMARIA",
          "ISABELI",
          "IZILDA",
          "JOCIQUELE",
          "KARIANY",
          "MESSODY",
          "NARIELE",
          "OTO",
          "ROSALHA",
          "SELESTRINO",
          "TIARA",
          "UDILSON",
          "URSULLA"
         ]
        }
       ],
       "layout": {
        "barmode": "stack",
        "title": "Número de atividades feitas e <b>não</b> feitas por aluno",
        "xaxis": {
         "title": "Número de atividades",
         "titlefont": {
          "color": "rgb(180,180,180)"
         }
        },
        "yaxis": {
         "dtick": 1,
         "exponentformat": "e",
         "gridcolor": "#bdbdbd",
         "showexponent": "all",
         "showticklabels": true,
         "tick0": 0,
         "title": "",
         "titlefont": {
          "color": "rgb(180,180,180)"
         }
        }
       }
      },
      "text/html": [
       "<div id=\"e4a19394-6364-47b0-8282-4d25c49fb2c0\" style=\"height: 525px; width: 100%;\" class=\"plotly-graph-div\"></div><script type=\"text/javascript\">require([\"plotly\"], function(Plotly) { window.PLOTLYENV=window.PLOTLYENV || {};window.PLOTLYENV.BASE_URL=\"https://plot.ly\";Plotly.newPlot(\"e4a19394-6364-47b0-8282-4d25c49fb2c0\", [{\"name\": \"Feitas\", \"orientation\": \"h\", \"x\": [3, 4, 5, 4, 3, 4, 5, 6, 5, 4, 5, 3, 3, 2, 5, 4, 4, 3, 7, 3], \"y\": [\"ALMIRA\", \"ANAZIRA\", \"DAFINE\", \"DILZA\", \"ELIDO\", \"ERILIO\", \"GIUSEPPE\", \"IDELMARIA\", \"ISABELI\", \"IZILDA\", \"JOCIQUELE\", \"KARIANY\", \"MESSODY\", \"NARIELE\", \"OTO\", \"ROSALHA\", \"SELESTRINO\", \"TIARA\", \"UDILSON\", \"URSULLA\"], \"type\": \"bar\", \"uid\": \"c5a2cd0a-fae4-11e8-b19a-e35ea5c620f6\"}, {\"name\": \"N\\u00e3o<br>feitas\", \"orientation\": \"h\", \"x\": [7, 6, 5, 6, 7, 6, 5, 4, 5, 6, 5, 7, 7, 8, 5, 6, 6, 7, 3, 7], \"y\": [\"ALMIRA\", \"ANAZIRA\", \"DAFINE\", \"DILZA\", \"ELIDO\", \"ERILIO\", \"GIUSEPPE\", \"IDELMARIA\", \"ISABELI\", \"IZILDA\", \"JOCIQUELE\", \"KARIANY\", \"MESSODY\", \"NARIELE\", \"OTO\", \"ROSALHA\", \"SELESTRINO\", \"TIARA\", \"UDILSON\", \"URSULLA\"], \"type\": \"bar\", \"uid\": \"c5a2ceae-fae4-11e8-b19a-e35ea5c620f6\"}], {\"barmode\": \"stack\", \"title\": \"N\\u00famero de atividades feitas e <b>n\\u00e3o</b> feitas por aluno\", \"xaxis\": {\"title\": \"N\\u00famero de atividades\", \"titlefont\": {\"color\": \"rgb(180,180,180)\"}}, \"yaxis\": {\"dtick\": 1, \"exponentformat\": \"e\", \"gridcolor\": \"#bdbdbd\", \"showexponent\": \"all\", \"showticklabels\": true, \"tick0\": 0, \"title\": \"\", \"titlefont\": {\"color\": \"rgb(180,180,180)\"}}}, {\"showLink\": true, \"linkText\": \"Export to plot.ly\"})});</script>"
      ],
      "text/vnd.plotly.v1+html": [
       "<div id=\"e4a19394-6364-47b0-8282-4d25c49fb2c0\" style=\"height: 525px; width: 100%;\" class=\"plotly-graph-div\"></div><script type=\"text/javascript\">require([\"plotly\"], function(Plotly) { window.PLOTLYENV=window.PLOTLYENV || {};window.PLOTLYENV.BASE_URL=\"https://plot.ly\";Plotly.newPlot(\"e4a19394-6364-47b0-8282-4d25c49fb2c0\", [{\"name\": \"Feitas\", \"orientation\": \"h\", \"x\": [3, 4, 5, 4, 3, 4, 5, 6, 5, 4, 5, 3, 3, 2, 5, 4, 4, 3, 7, 3], \"y\": [\"ALMIRA\", \"ANAZIRA\", \"DAFINE\", \"DILZA\", \"ELIDO\", \"ERILIO\", \"GIUSEPPE\", \"IDELMARIA\", \"ISABELI\", \"IZILDA\", \"JOCIQUELE\", \"KARIANY\", \"MESSODY\", \"NARIELE\", \"OTO\", \"ROSALHA\", \"SELESTRINO\", \"TIARA\", \"UDILSON\", \"URSULLA\"], \"type\": \"bar\", \"uid\": \"c5a2cd0a-fae4-11e8-b19a-e35ea5c620f6\"}, {\"name\": \"N\\u00e3o<br>feitas\", \"orientation\": \"h\", \"x\": [7, 6, 5, 6, 7, 6, 5, 4, 5, 6, 5, 7, 7, 8, 5, 6, 6, 7, 3, 7], \"y\": [\"ALMIRA\", \"ANAZIRA\", \"DAFINE\", \"DILZA\", \"ELIDO\", \"ERILIO\", \"GIUSEPPE\", \"IDELMARIA\", \"ISABELI\", \"IZILDA\", \"JOCIQUELE\", \"KARIANY\", \"MESSODY\", \"NARIELE\", \"OTO\", \"ROSALHA\", \"SELESTRINO\", \"TIARA\", \"UDILSON\", \"URSULLA\"], \"type\": \"bar\", \"uid\": \"c5a2ceae-fae4-11e8-b19a-e35ea5c620f6\"}], {\"barmode\": \"stack\", \"title\": \"N\\u00famero de atividades feitas e <b>n\\u00e3o</b> feitas por aluno\", \"xaxis\": {\"title\": \"N\\u00famero de atividades\", \"titlefont\": {\"color\": \"rgb(180,180,180)\"}}, \"yaxis\": {\"dtick\": 1, \"exponentformat\": \"e\", \"gridcolor\": \"#bdbdbd\", \"showexponent\": \"all\", \"showticklabels\": true, \"tick0\": 0, \"title\": \"\", \"titlefont\": {\"color\": \"rgb(180,180,180)\"}}}, {\"showLink\": true, \"linkText\": \"Export to plot.ly\"})});</script>"
      ]
     },
     "metadata": {},
     "output_type": "display_data"
    },
    {
     "data": {
      "application/vnd.plotly.v1+json": {
       "data": [
        {
         "name": "Feitas",
         "orientation": "h",
         "type": "bar",
         "uid": "c5a84ffa-fae4-11e8-b19a-e35ea5c620f6",
         "x": [
          2,
          3,
          3,
          3,
          3,
          3,
          3,
          4,
          4,
          4,
          4,
          4,
          4,
          5,
          5,
          5,
          5,
          5,
          6,
          7
         ],
         "y": [
          "NARIELE",
          "ALMIRA",
          "ELIDO",
          "KARIANY",
          "MESSODY",
          "TIARA",
          "URSULLA",
          "ANAZIRA",
          "DILZA",
          "ERILIO",
          "IZILDA",
          "ROSALHA",
          "SELESTRINO",
          "DAFINE",
          "GIUSEPPE",
          "ISABELI",
          "JOCIQUELE",
          "OTO",
          "IDELMARIA",
          "UDILSON"
         ]
        },
        {
         "name": "Não<br>feitas",
         "orientation": "h",
         "type": "bar",
         "uid": "c5a851da-fae4-11e8-b19a-e35ea5c620f6",
         "x": [
          8,
          7,
          7,
          7,
          7,
          7,
          7,
          6,
          6,
          6,
          6,
          6,
          6,
          5,
          5,
          5,
          5,
          5,
          4,
          3
         ],
         "y": [
          "NARIELE",
          "ALMIRA",
          "ELIDO",
          "KARIANY",
          "MESSODY",
          "TIARA",
          "URSULLA",
          "ANAZIRA",
          "DILZA",
          "ERILIO",
          "IZILDA",
          "ROSALHA",
          "SELESTRINO",
          "DAFINE",
          "GIUSEPPE",
          "ISABELI",
          "JOCIQUELE",
          "OTO",
          "IDELMARIA",
          "UDILSON"
         ]
        }
       ],
       "layout": {
        "barmode": "stack",
        "title": "Número de atividades feitas e <b>não</b> feitas por aluno",
        "xaxis": {
         "title": "Número de atividades",
         "titlefont": {
          "color": "rgb(180,180,180)"
         }
        },
        "yaxis": {
         "dtick": 1,
         "exponentformat": "e",
         "gridcolor": "#bdbdbd",
         "showexponent": "all",
         "showticklabels": true,
         "tick0": 0,
         "title": "",
         "titlefont": {
          "color": "rgb(180,180,180)"
         }
        }
       }
      },
      "text/html": [
       "<div id=\"47c39db2-ca92-4ce1-8303-0a518e239fe5\" style=\"height: 525px; width: 100%;\" class=\"plotly-graph-div\"></div><script type=\"text/javascript\">require([\"plotly\"], function(Plotly) { window.PLOTLYENV=window.PLOTLYENV || {};window.PLOTLYENV.BASE_URL=\"https://plot.ly\";Plotly.newPlot(\"47c39db2-ca92-4ce1-8303-0a518e239fe5\", [{\"name\": \"Feitas\", \"orientation\": \"h\", \"x\": [2, 3, 3, 3, 3, 3, 3, 4, 4, 4, 4, 4, 4, 5, 5, 5, 5, 5, 6, 7], \"y\": [\"NARIELE\", \"ALMIRA\", \"ELIDO\", \"KARIANY\", \"MESSODY\", \"TIARA\", \"URSULLA\", \"ANAZIRA\", \"DILZA\", \"ERILIO\", \"IZILDA\", \"ROSALHA\", \"SELESTRINO\", \"DAFINE\", \"GIUSEPPE\", \"ISABELI\", \"JOCIQUELE\", \"OTO\", \"IDELMARIA\", \"UDILSON\"], \"type\": \"bar\", \"uid\": \"c5a84ffa-fae4-11e8-b19a-e35ea5c620f6\"}, {\"name\": \"N\\u00e3o<br>feitas\", \"orientation\": \"h\", \"x\": [8, 7, 7, 7, 7, 7, 7, 6, 6, 6, 6, 6, 6, 5, 5, 5, 5, 5, 4, 3], \"y\": [\"NARIELE\", \"ALMIRA\", \"ELIDO\", \"KARIANY\", \"MESSODY\", \"TIARA\", \"URSULLA\", \"ANAZIRA\", \"DILZA\", \"ERILIO\", \"IZILDA\", \"ROSALHA\", \"SELESTRINO\", \"DAFINE\", \"GIUSEPPE\", \"ISABELI\", \"JOCIQUELE\", \"OTO\", \"IDELMARIA\", \"UDILSON\"], \"type\": \"bar\", \"uid\": \"c5a851da-fae4-11e8-b19a-e35ea5c620f6\"}], {\"barmode\": \"stack\", \"title\": \"N\\u00famero de atividades feitas e <b>n\\u00e3o</b> feitas por aluno\", \"xaxis\": {\"title\": \"N\\u00famero de atividades\", \"titlefont\": {\"color\": \"rgb(180,180,180)\"}}, \"yaxis\": {\"dtick\": 1, \"exponentformat\": \"e\", \"gridcolor\": \"#bdbdbd\", \"showexponent\": \"all\", \"showticklabels\": true, \"tick0\": 0, \"title\": \"\", \"titlefont\": {\"color\": \"rgb(180,180,180)\"}}}, {\"showLink\": true, \"linkText\": \"Export to plot.ly\"})});</script>"
      ],
      "text/vnd.plotly.v1+html": [
       "<div id=\"47c39db2-ca92-4ce1-8303-0a518e239fe5\" style=\"height: 525px; width: 100%;\" class=\"plotly-graph-div\"></div><script type=\"text/javascript\">require([\"plotly\"], function(Plotly) { window.PLOTLYENV=window.PLOTLYENV || {};window.PLOTLYENV.BASE_URL=\"https://plot.ly\";Plotly.newPlot(\"47c39db2-ca92-4ce1-8303-0a518e239fe5\", [{\"name\": \"Feitas\", \"orientation\": \"h\", \"x\": [2, 3, 3, 3, 3, 3, 3, 4, 4, 4, 4, 4, 4, 5, 5, 5, 5, 5, 6, 7], \"y\": [\"NARIELE\", \"ALMIRA\", \"ELIDO\", \"KARIANY\", \"MESSODY\", \"TIARA\", \"URSULLA\", \"ANAZIRA\", \"DILZA\", \"ERILIO\", \"IZILDA\", \"ROSALHA\", \"SELESTRINO\", \"DAFINE\", \"GIUSEPPE\", \"ISABELI\", \"JOCIQUELE\", \"OTO\", \"IDELMARIA\", \"UDILSON\"], \"type\": \"bar\", \"uid\": \"c5a84ffa-fae4-11e8-b19a-e35ea5c620f6\"}, {\"name\": \"N\\u00e3o<br>feitas\", \"orientation\": \"h\", \"x\": [8, 7, 7, 7, 7, 7, 7, 6, 6, 6, 6, 6, 6, 5, 5, 5, 5, 5, 4, 3], \"y\": [\"NARIELE\", \"ALMIRA\", \"ELIDO\", \"KARIANY\", \"MESSODY\", \"TIARA\", \"URSULLA\", \"ANAZIRA\", \"DILZA\", \"ERILIO\", \"IZILDA\", \"ROSALHA\", \"SELESTRINO\", \"DAFINE\", \"GIUSEPPE\", \"ISABELI\", \"JOCIQUELE\", \"OTO\", \"IDELMARIA\", \"UDILSON\"], \"type\": \"bar\", \"uid\": \"c5a851da-fae4-11e8-b19a-e35ea5c620f6\"}], {\"barmode\": \"stack\", \"title\": \"N\\u00famero de atividades feitas e <b>n\\u00e3o</b> feitas por aluno\", \"xaxis\": {\"title\": \"N\\u00famero de atividades\", \"titlefont\": {\"color\": \"rgb(180,180,180)\"}}, \"yaxis\": {\"dtick\": 1, \"exponentformat\": \"e\", \"gridcolor\": \"#bdbdbd\", \"showexponent\": \"all\", \"showticklabels\": true, \"tick0\": 0, \"title\": \"\", \"titlefont\": {\"color\": \"rgb(180,180,180)\"}}}, {\"showLink\": true, \"linkText\": \"Export to plot.ly\"})});</script>"
      ]
     },
     "metadata": {},
     "output_type": "display_data"
    },
    {
     "data": {
      "application/vnd.plotly.v1+json": {
       "data": [
        {
         "name": "Feitas",
         "orientation": "h",
         "type": "bar",
         "uid": "c5ad7fa2-fae4-11e8-b19a-e35ea5c620f6",
         "x": [
          7,
          6,
          5,
          5,
          5,
          5,
          5,
          4,
          4,
          4,
          4,
          4,
          4,
          3,
          3,
          3,
          3,
          3,
          3,
          2
         ],
         "y": [
          "UDILSON",
          "IDELMARIA",
          "DAFINE",
          "GIUSEPPE",
          "ISABELI",
          "JOCIQUELE",
          "OTO",
          "ANAZIRA",
          "DILZA",
          "ERILIO",
          "IZILDA",
          "ROSALHA",
          "SELESTRINO",
          "ALMIRA",
          "ELIDO",
          "KARIANY",
          "MESSODY",
          "TIARA",
          "URSULLA",
          "NARIELE"
         ]
        },
        {
         "name": "Não<br>feitas",
         "orientation": "h",
         "type": "bar",
         "uid": "c5ad8132-fae4-11e8-b19a-e35ea5c620f6",
         "x": [
          3,
          4,
          5,
          5,
          5,
          5,
          5,
          6,
          6,
          6,
          6,
          6,
          6,
          7,
          7,
          7,
          7,
          7,
          7,
          8
         ],
         "y": [
          "UDILSON",
          "IDELMARIA",
          "DAFINE",
          "GIUSEPPE",
          "ISABELI",
          "JOCIQUELE",
          "OTO",
          "ANAZIRA",
          "DILZA",
          "ERILIO",
          "IZILDA",
          "ROSALHA",
          "SELESTRINO",
          "ALMIRA",
          "ELIDO",
          "KARIANY",
          "MESSODY",
          "TIARA",
          "URSULLA",
          "NARIELE"
         ]
        }
       ],
       "layout": {
        "barmode": "stack",
        "title": "Número de atividades feitas e <b>não</b> feitas por aluno",
        "xaxis": {
         "title": "Número de atividades",
         "titlefont": {
          "color": "rgb(180,180,180)"
         }
        },
        "yaxis": {
         "dtick": 1,
         "exponentformat": "e",
         "gridcolor": "#bdbdbd",
         "showexponent": "all",
         "showticklabels": true,
         "tick0": 0,
         "title": "",
         "titlefont": {
          "color": "rgb(180,180,180)"
         }
        }
       }
      },
      "text/html": [
       "<div id=\"07e3fb0b-1b22-46d8-9408-e4e5e6b735aa\" style=\"height: 525px; width: 100%;\" class=\"plotly-graph-div\"></div><script type=\"text/javascript\">require([\"plotly\"], function(Plotly) { window.PLOTLYENV=window.PLOTLYENV || {};window.PLOTLYENV.BASE_URL=\"https://plot.ly\";Plotly.newPlot(\"07e3fb0b-1b22-46d8-9408-e4e5e6b735aa\", [{\"name\": \"Feitas\", \"orientation\": \"h\", \"x\": [7, 6, 5, 5, 5, 5, 5, 4, 4, 4, 4, 4, 4, 3, 3, 3, 3, 3, 3, 2], \"y\": [\"UDILSON\", \"IDELMARIA\", \"DAFINE\", \"GIUSEPPE\", \"ISABELI\", \"JOCIQUELE\", \"OTO\", \"ANAZIRA\", \"DILZA\", \"ERILIO\", \"IZILDA\", \"ROSALHA\", \"SELESTRINO\", \"ALMIRA\", \"ELIDO\", \"KARIANY\", \"MESSODY\", \"TIARA\", \"URSULLA\", \"NARIELE\"], \"type\": \"bar\", \"uid\": \"c5ad7fa2-fae4-11e8-b19a-e35ea5c620f6\"}, {\"name\": \"N\\u00e3o<br>feitas\", \"orientation\": \"h\", \"x\": [3, 4, 5, 5, 5, 5, 5, 6, 6, 6, 6, 6, 6, 7, 7, 7, 7, 7, 7, 8], \"y\": [\"UDILSON\", \"IDELMARIA\", \"DAFINE\", \"GIUSEPPE\", \"ISABELI\", \"JOCIQUELE\", \"OTO\", \"ANAZIRA\", \"DILZA\", \"ERILIO\", \"IZILDA\", \"ROSALHA\", \"SELESTRINO\", \"ALMIRA\", \"ELIDO\", \"KARIANY\", \"MESSODY\", \"TIARA\", \"URSULLA\", \"NARIELE\"], \"type\": \"bar\", \"uid\": \"c5ad8132-fae4-11e8-b19a-e35ea5c620f6\"}], {\"barmode\": \"stack\", \"title\": \"N\\u00famero de atividades feitas e <b>n\\u00e3o</b> feitas por aluno\", \"xaxis\": {\"title\": \"N\\u00famero de atividades\", \"titlefont\": {\"color\": \"rgb(180,180,180)\"}}, \"yaxis\": {\"dtick\": 1, \"exponentformat\": \"e\", \"gridcolor\": \"#bdbdbd\", \"showexponent\": \"all\", \"showticklabels\": true, \"tick0\": 0, \"title\": \"\", \"titlefont\": {\"color\": \"rgb(180,180,180)\"}}}, {\"showLink\": true, \"linkText\": \"Export to plot.ly\"})});</script>"
      ],
      "text/vnd.plotly.v1+html": [
       "<div id=\"07e3fb0b-1b22-46d8-9408-e4e5e6b735aa\" style=\"height: 525px; width: 100%;\" class=\"plotly-graph-div\"></div><script type=\"text/javascript\">require([\"plotly\"], function(Plotly) { window.PLOTLYENV=window.PLOTLYENV || {};window.PLOTLYENV.BASE_URL=\"https://plot.ly\";Plotly.newPlot(\"07e3fb0b-1b22-46d8-9408-e4e5e6b735aa\", [{\"name\": \"Feitas\", \"orientation\": \"h\", \"x\": [7, 6, 5, 5, 5, 5, 5, 4, 4, 4, 4, 4, 4, 3, 3, 3, 3, 3, 3, 2], \"y\": [\"UDILSON\", \"IDELMARIA\", \"DAFINE\", \"GIUSEPPE\", \"ISABELI\", \"JOCIQUELE\", \"OTO\", \"ANAZIRA\", \"DILZA\", \"ERILIO\", \"IZILDA\", \"ROSALHA\", \"SELESTRINO\", \"ALMIRA\", \"ELIDO\", \"KARIANY\", \"MESSODY\", \"TIARA\", \"URSULLA\", \"NARIELE\"], \"type\": \"bar\", \"uid\": \"c5ad7fa2-fae4-11e8-b19a-e35ea5c620f6\"}, {\"name\": \"N\\u00e3o<br>feitas\", \"orientation\": \"h\", \"x\": [3, 4, 5, 5, 5, 5, 5, 6, 6, 6, 6, 6, 6, 7, 7, 7, 7, 7, 7, 8], \"y\": [\"UDILSON\", \"IDELMARIA\", \"DAFINE\", \"GIUSEPPE\", \"ISABELI\", \"JOCIQUELE\", \"OTO\", \"ANAZIRA\", \"DILZA\", \"ERILIO\", \"IZILDA\", \"ROSALHA\", \"SELESTRINO\", \"ALMIRA\", \"ELIDO\", \"KARIANY\", \"MESSODY\", \"TIARA\", \"URSULLA\", \"NARIELE\"], \"type\": \"bar\", \"uid\": \"c5ad8132-fae4-11e8-b19a-e35ea5c620f6\"}], {\"barmode\": \"stack\", \"title\": \"N\\u00famero de atividades feitas e <b>n\\u00e3o</b> feitas por aluno\", \"xaxis\": {\"title\": \"N\\u00famero de atividades\", \"titlefont\": {\"color\": \"rgb(180,180,180)\"}}, \"yaxis\": {\"dtick\": 1, \"exponentformat\": \"e\", \"gridcolor\": \"#bdbdbd\", \"showexponent\": \"all\", \"showticklabels\": true, \"tick0\": 0, \"title\": \"\", \"titlefont\": {\"color\": \"rgb(180,180,180)\"}}}, {\"showLink\": true, \"linkText\": \"Export to plot.ly\"})});</script>"
      ]
     },
     "metadata": {},
     "output_type": "display_data"
    },
    {
     "data": {
      "application/vnd.plotly.v1+json": {
       "data": [
        {
         "name": "Fizeram",
         "type": "bar",
         "uid": "c5b27b1a-fae4-11e8-b19a-e35ea5c620f6",
         "x": [
          "Assign1",
          "Assign2",
          "Assign3",
          "Assign4",
          "Assign5",
          "Assign6",
          "Assign7",
          "Assign8",
          "Assign9",
          "Assign10"
         ],
         "y": [
          9,
          10,
          8,
          10,
          6,
          6,
          10,
          8,
          9,
          6
         ]
        },
        {
         "name": "Não<br>fizeram",
         "type": "bar",
         "uid": "c5b27cfa-fae4-11e8-b19a-e35ea5c620f6",
         "x": [
          "Assign1",
          "Assign2",
          "Assign3",
          "Assign4",
          "Assign5",
          "Assign6",
          "Assign7",
          "Assign8",
          "Assign9",
          "Assign10"
         ],
         "y": [
          11,
          10,
          12,
          10,
          14,
          14,
          10,
          12,
          11,
          14
         ]
        }
       ],
       "layout": {
        "barmode": "stack",
        "title": "Número de alunos que fizeram e <b>não</b> fizeram as atividades",
        "xaxis": {
         "title": "",
         "titlefont": {
          "color": "rgb(180,180,180)"
         }
        },
        "yaxis": {
         "dtick": 5,
         "exponentformat": "e",
         "gridcolor": "#bdbdbd",
         "showexponent": "all",
         "showticklabels": true,
         "tick0": 0,
         "title": "Número de estudantes",
         "titlefont": {
          "color": "rgb(180,180,180)"
         }
        }
       }
      },
      "text/html": [
       "<div id=\"e1b395fc-fe0f-4d1f-ae7b-f4aacc1a0fc3\" style=\"height: 525px; width: 100%;\" class=\"plotly-graph-div\"></div><script type=\"text/javascript\">require([\"plotly\"], function(Plotly) { window.PLOTLYENV=window.PLOTLYENV || {};window.PLOTLYENV.BASE_URL=\"https://plot.ly\";Plotly.newPlot(\"e1b395fc-fe0f-4d1f-ae7b-f4aacc1a0fc3\", [{\"name\": \"Fizeram\", \"x\": [\"Assign1\", \"Assign2\", \"Assign3\", \"Assign4\", \"Assign5\", \"Assign6\", \"Assign7\", \"Assign8\", \"Assign9\", \"Assign10\"], \"y\": [9, 10, 8, 10, 6, 6, 10, 8, 9, 6], \"type\": \"bar\", \"uid\": \"c5b27b1a-fae4-11e8-b19a-e35ea5c620f6\"}, {\"name\": \"N\\u00e3o<br>fizeram\", \"x\": [\"Assign1\", \"Assign2\", \"Assign3\", \"Assign4\", \"Assign5\", \"Assign6\", \"Assign7\", \"Assign8\", \"Assign9\", \"Assign10\"], \"y\": [11, 10, 12, 10, 14, 14, 10, 12, 11, 14], \"type\": \"bar\", \"uid\": \"c5b27cfa-fae4-11e8-b19a-e35ea5c620f6\"}], {\"barmode\": \"stack\", \"title\": \"N\\u00famero de alunos que fizeram e <b>n\\u00e3o</b> fizeram as atividades\", \"xaxis\": {\"title\": \"\", \"titlefont\": {\"color\": \"rgb(180,180,180)\"}}, \"yaxis\": {\"dtick\": 5, \"exponentformat\": \"e\", \"gridcolor\": \"#bdbdbd\", \"showexponent\": \"all\", \"showticklabels\": true, \"tick0\": 0, \"title\": \"N\\u00famero de estudantes\", \"titlefont\": {\"color\": \"rgb(180,180,180)\"}}}, {\"showLink\": true, \"linkText\": \"Export to plot.ly\"})});</script>"
      ],
      "text/vnd.plotly.v1+html": [
       "<div id=\"e1b395fc-fe0f-4d1f-ae7b-f4aacc1a0fc3\" style=\"height: 525px; width: 100%;\" class=\"plotly-graph-div\"></div><script type=\"text/javascript\">require([\"plotly\"], function(Plotly) { window.PLOTLYENV=window.PLOTLYENV || {};window.PLOTLYENV.BASE_URL=\"https://plot.ly\";Plotly.newPlot(\"e1b395fc-fe0f-4d1f-ae7b-f4aacc1a0fc3\", [{\"name\": \"Fizeram\", \"x\": [\"Assign1\", \"Assign2\", \"Assign3\", \"Assign4\", \"Assign5\", \"Assign6\", \"Assign7\", \"Assign8\", \"Assign9\", \"Assign10\"], \"y\": [9, 10, 8, 10, 6, 6, 10, 8, 9, 6], \"type\": \"bar\", \"uid\": \"c5b27b1a-fae4-11e8-b19a-e35ea5c620f6\"}, {\"name\": \"N\\u00e3o<br>fizeram\", \"x\": [\"Assign1\", \"Assign2\", \"Assign3\", \"Assign4\", \"Assign5\", \"Assign6\", \"Assign7\", \"Assign8\", \"Assign9\", \"Assign10\"], \"y\": [11, 10, 12, 10, 14, 14, 10, 12, 11, 14], \"type\": \"bar\", \"uid\": \"c5b27cfa-fae4-11e8-b19a-e35ea5c620f6\"}], {\"barmode\": \"stack\", \"title\": \"N\\u00famero de alunos que fizeram e <b>n\\u00e3o</b> fizeram as atividades\", \"xaxis\": {\"title\": \"\", \"titlefont\": {\"color\": \"rgb(180,180,180)\"}}, \"yaxis\": {\"dtick\": 5, \"exponentformat\": \"e\", \"gridcolor\": \"#bdbdbd\", \"showexponent\": \"all\", \"showticklabels\": true, \"tick0\": 0, \"title\": \"N\\u00famero de estudantes\", \"titlefont\": {\"color\": \"rgb(180,180,180)\"}}}, {\"showLink\": true, \"linkText\": \"Export to plot.ly\"})});</script>"
      ]
     },
     "metadata": {},
     "output_type": "display_data"
    },
    {
     "data": {
      "application/vnd.plotly.v1+json": {
       "data": [
        {
         "name": "Fizeram",
         "type": "bar",
         "uid": "c5b7988e-fae4-11e8-b19a-e35ea5c620f6",
         "x": [
          "Assign10",
          "Assign5",
          "Assign6",
          "Assign3",
          "Assign8",
          "Assign1",
          "Assign9",
          "Assign2",
          "Assign4",
          "Assign7"
         ],
         "y": [
          6,
          6,
          6,
          8,
          8,
          9,
          9,
          10,
          10,
          10
         ]
        },
        {
         "name": "Não<br>fizeram",
         "type": "bar",
         "uid": "c5b79a50-fae4-11e8-b19a-e35ea5c620f6",
         "x": [
          "Assign10",
          "Assign5",
          "Assign6",
          "Assign3",
          "Assign8",
          "Assign1",
          "Assign9",
          "Assign2",
          "Assign4",
          "Assign7"
         ],
         "y": [
          14,
          14,
          14,
          12,
          12,
          11,
          11,
          10,
          10,
          10
         ]
        }
       ],
       "layout": {
        "barmode": "stack",
        "title": "Número de alunos que fizeram e <b>não</b> fizeram as atividades",
        "xaxis": {
         "title": "",
         "titlefont": {
          "color": "rgb(180,180,180)"
         }
        },
        "yaxis": {
         "dtick": 5,
         "exponentformat": "e",
         "gridcolor": "#bdbdbd",
         "showexponent": "all",
         "showticklabels": true,
         "tick0": 0,
         "title": "Número de estudantes",
         "titlefont": {
          "color": "rgb(180,180,180)"
         }
        }
       }
      },
      "text/html": [
       "<div id=\"56f05990-bcd7-4234-af8d-0f2144fef3a4\" style=\"height: 525px; width: 100%;\" class=\"plotly-graph-div\"></div><script type=\"text/javascript\">require([\"plotly\"], function(Plotly) { window.PLOTLYENV=window.PLOTLYENV || {};window.PLOTLYENV.BASE_URL=\"https://plot.ly\";Plotly.newPlot(\"56f05990-bcd7-4234-af8d-0f2144fef3a4\", [{\"name\": \"Fizeram\", \"x\": [\"Assign10\", \"Assign5\", \"Assign6\", \"Assign3\", \"Assign8\", \"Assign1\", \"Assign9\", \"Assign2\", \"Assign4\", \"Assign7\"], \"y\": [6, 6, 6, 8, 8, 9, 9, 10, 10, 10], \"type\": \"bar\", \"uid\": \"c5b7988e-fae4-11e8-b19a-e35ea5c620f6\"}, {\"name\": \"N\\u00e3o<br>fizeram\", \"x\": [\"Assign10\", \"Assign5\", \"Assign6\", \"Assign3\", \"Assign8\", \"Assign1\", \"Assign9\", \"Assign2\", \"Assign4\", \"Assign7\"], \"y\": [14, 14, 14, 12, 12, 11, 11, 10, 10, 10], \"type\": \"bar\", \"uid\": \"c5b79a50-fae4-11e8-b19a-e35ea5c620f6\"}], {\"barmode\": \"stack\", \"title\": \"N\\u00famero de alunos que fizeram e <b>n\\u00e3o</b> fizeram as atividades\", \"xaxis\": {\"title\": \"\", \"titlefont\": {\"color\": \"rgb(180,180,180)\"}}, \"yaxis\": {\"dtick\": 5, \"exponentformat\": \"e\", \"gridcolor\": \"#bdbdbd\", \"showexponent\": \"all\", \"showticklabels\": true, \"tick0\": 0, \"title\": \"N\\u00famero de estudantes\", \"titlefont\": {\"color\": \"rgb(180,180,180)\"}}}, {\"showLink\": true, \"linkText\": \"Export to plot.ly\"})});</script>"
      ],
      "text/vnd.plotly.v1+html": [
       "<div id=\"56f05990-bcd7-4234-af8d-0f2144fef3a4\" style=\"height: 525px; width: 100%;\" class=\"plotly-graph-div\"></div><script type=\"text/javascript\">require([\"plotly\"], function(Plotly) { window.PLOTLYENV=window.PLOTLYENV || {};window.PLOTLYENV.BASE_URL=\"https://plot.ly\";Plotly.newPlot(\"56f05990-bcd7-4234-af8d-0f2144fef3a4\", [{\"name\": \"Fizeram\", \"x\": [\"Assign10\", \"Assign5\", \"Assign6\", \"Assign3\", \"Assign8\", \"Assign1\", \"Assign9\", \"Assign2\", \"Assign4\", \"Assign7\"], \"y\": [6, 6, 6, 8, 8, 9, 9, 10, 10, 10], \"type\": \"bar\", \"uid\": \"c5b7988e-fae4-11e8-b19a-e35ea5c620f6\"}, {\"name\": \"N\\u00e3o<br>fizeram\", \"x\": [\"Assign10\", \"Assign5\", \"Assign6\", \"Assign3\", \"Assign8\", \"Assign1\", \"Assign9\", \"Assign2\", \"Assign4\", \"Assign7\"], \"y\": [14, 14, 14, 12, 12, 11, 11, 10, 10, 10], \"type\": \"bar\", \"uid\": \"c5b79a50-fae4-11e8-b19a-e35ea5c620f6\"}], {\"barmode\": \"stack\", \"title\": \"N\\u00famero de alunos que fizeram e <b>n\\u00e3o</b> fizeram as atividades\", \"xaxis\": {\"title\": \"\", \"titlefont\": {\"color\": \"rgb(180,180,180)\"}}, \"yaxis\": {\"dtick\": 5, \"exponentformat\": \"e\", \"gridcolor\": \"#bdbdbd\", \"showexponent\": \"all\", \"showticklabels\": true, \"tick0\": 0, \"title\": \"N\\u00famero de estudantes\", \"titlefont\": {\"color\": \"rgb(180,180,180)\"}}}, {\"showLink\": true, \"linkText\": \"Export to plot.ly\"})});</script>"
      ]
     },
     "metadata": {},
     "output_type": "display_data"
    },
    {
     "data": {
      "application/vnd.plotly.v1+json": {
       "data": [
        {
         "name": "Fizeram",
         "type": "bar",
         "uid": "c5bcd538-fae4-11e8-b19a-e35ea5c620f6",
         "x": [
          "Assign2",
          "Assign4",
          "Assign7",
          "Assign1",
          "Assign9",
          "Assign3",
          "Assign8",
          "Assign10",
          "Assign5",
          "Assign6"
         ],
         "y": [
          10,
          10,
          10,
          9,
          9,
          8,
          8,
          6,
          6,
          6
         ]
        },
        {
         "name": "Não<br>fizeram",
         "type": "bar",
         "uid": "c5bcd6e6-fae4-11e8-b19a-e35ea5c620f6",
         "x": [
          "Assign2",
          "Assign4",
          "Assign7",
          "Assign1",
          "Assign9",
          "Assign3",
          "Assign8",
          "Assign10",
          "Assign5",
          "Assign6"
         ],
         "y": [
          10,
          10,
          10,
          11,
          11,
          12,
          12,
          14,
          14,
          14
         ]
        }
       ],
       "layout": {
        "barmode": "stack",
        "title": "Número de alunos que fizeram e <b>não</b> fizeram as atividades",
        "xaxis": {
         "title": "",
         "titlefont": {
          "color": "rgb(180,180,180)"
         }
        },
        "yaxis": {
         "dtick": 5,
         "exponentformat": "e",
         "gridcolor": "#bdbdbd",
         "showexponent": "all",
         "showticklabels": true,
         "tick0": 0,
         "title": "Número de estudantes",
         "titlefont": {
          "color": "rgb(180,180,180)"
         }
        }
       }
      },
      "text/html": [
       "<div id=\"b31b826d-f085-4b12-a1bb-78eacd59907f\" style=\"height: 525px; width: 100%;\" class=\"plotly-graph-div\"></div><script type=\"text/javascript\">require([\"plotly\"], function(Plotly) { window.PLOTLYENV=window.PLOTLYENV || {};window.PLOTLYENV.BASE_URL=\"https://plot.ly\";Plotly.newPlot(\"b31b826d-f085-4b12-a1bb-78eacd59907f\", [{\"name\": \"Fizeram\", \"x\": [\"Assign2\", \"Assign4\", \"Assign7\", \"Assign1\", \"Assign9\", \"Assign3\", \"Assign8\", \"Assign10\", \"Assign5\", \"Assign6\"], \"y\": [10, 10, 10, 9, 9, 8, 8, 6, 6, 6], \"type\": \"bar\", \"uid\": \"c5bcd538-fae4-11e8-b19a-e35ea5c620f6\"}, {\"name\": \"N\\u00e3o<br>fizeram\", \"x\": [\"Assign2\", \"Assign4\", \"Assign7\", \"Assign1\", \"Assign9\", \"Assign3\", \"Assign8\", \"Assign10\", \"Assign5\", \"Assign6\"], \"y\": [10, 10, 10, 11, 11, 12, 12, 14, 14, 14], \"type\": \"bar\", \"uid\": \"c5bcd6e6-fae4-11e8-b19a-e35ea5c620f6\"}], {\"barmode\": \"stack\", \"title\": \"N\\u00famero de alunos que fizeram e <b>n\\u00e3o</b> fizeram as atividades\", \"xaxis\": {\"title\": \"\", \"titlefont\": {\"color\": \"rgb(180,180,180)\"}}, \"yaxis\": {\"dtick\": 5, \"exponentformat\": \"e\", \"gridcolor\": \"#bdbdbd\", \"showexponent\": \"all\", \"showticklabels\": true, \"tick0\": 0, \"title\": \"N\\u00famero de estudantes\", \"titlefont\": {\"color\": \"rgb(180,180,180)\"}}}, {\"showLink\": true, \"linkText\": \"Export to plot.ly\"})});</script>"
      ],
      "text/vnd.plotly.v1+html": [
       "<div id=\"b31b826d-f085-4b12-a1bb-78eacd59907f\" style=\"height: 525px; width: 100%;\" class=\"plotly-graph-div\"></div><script type=\"text/javascript\">require([\"plotly\"], function(Plotly) { window.PLOTLYENV=window.PLOTLYENV || {};window.PLOTLYENV.BASE_URL=\"https://plot.ly\";Plotly.newPlot(\"b31b826d-f085-4b12-a1bb-78eacd59907f\", [{\"name\": \"Fizeram\", \"x\": [\"Assign2\", \"Assign4\", \"Assign7\", \"Assign1\", \"Assign9\", \"Assign3\", \"Assign8\", \"Assign10\", \"Assign5\", \"Assign6\"], \"y\": [10, 10, 10, 9, 9, 8, 8, 6, 6, 6], \"type\": \"bar\", \"uid\": \"c5bcd538-fae4-11e8-b19a-e35ea5c620f6\"}, {\"name\": \"N\\u00e3o<br>fizeram\", \"x\": [\"Assign2\", \"Assign4\", \"Assign7\", \"Assign1\", \"Assign9\", \"Assign3\", \"Assign8\", \"Assign10\", \"Assign5\", \"Assign6\"], \"y\": [10, 10, 10, 11, 11, 12, 12, 14, 14, 14], \"type\": \"bar\", \"uid\": \"c5bcd6e6-fae4-11e8-b19a-e35ea5c620f6\"}], {\"barmode\": \"stack\", \"title\": \"N\\u00famero de alunos que fizeram e <b>n\\u00e3o</b> fizeram as atividades\", \"xaxis\": {\"title\": \"\", \"titlefont\": {\"color\": \"rgb(180,180,180)\"}}, \"yaxis\": {\"dtick\": 5, \"exponentformat\": \"e\", \"gridcolor\": \"#bdbdbd\", \"showexponent\": \"all\", \"showticklabels\": true, \"tick0\": 0, \"title\": \"N\\u00famero de estudantes\", \"titlefont\": {\"color\": \"rgb(180,180,180)\"}}}, {\"showLink\": true, \"linkText\": \"Export to plot.ly\"})});</script>"
      ]
     },
     "metadata": {},
     "output_type": "display_data"
    },
    {
     "data": {
      "application/vnd.plotly.v1+json": {
       "data": [
        {
         "name": "Fizeram",
         "orientation": "h",
         "type": "bar",
         "uid": "c5c1cb42-fae4-11e8-b19a-e35ea5c620f6",
         "x": [
          9,
          10,
          8,
          10,
          6,
          6,
          10,
          8,
          9,
          6
         ],
         "y": [
          "Assign1",
          "Assign2",
          "Assign3",
          "Assign4",
          "Assign5",
          "Assign6",
          "Assign7",
          "Assign8",
          "Assign9",
          "Assign10"
         ]
        },
        {
         "name": "Não<br>fizeram",
         "orientation": "h",
         "type": "bar",
         "uid": "c5c1ccf0-fae4-11e8-b19a-e35ea5c620f6",
         "x": [
          11,
          10,
          12,
          10,
          14,
          14,
          10,
          12,
          11,
          14
         ],
         "y": [
          "Assign1",
          "Assign2",
          "Assign3",
          "Assign4",
          "Assign5",
          "Assign6",
          "Assign7",
          "Assign8",
          "Assign9",
          "Assign10"
         ]
        }
       ],
       "layout": {
        "barmode": "stack",
        "title": "Número de alunos que fizeram e <b>não</b> fizeram as atividades",
        "xaxis": {
         "title": "Número de estudantes",
         "titlefont": {
          "color": "rgb(180,180,180)"
         }
        },
        "yaxis": {
         "dtick": 1,
         "exponentformat": "e",
         "gridcolor": "#bdbdbd",
         "showexponent": "all",
         "showticklabels": true,
         "tick0": 0,
         "title": "",
         "titlefont": {
          "color": "rgb(180,180,180)"
         }
        }
       }
      },
      "text/html": [
       "<div id=\"d79a7088-e1a2-4d65-9db2-9f72329615a8\" style=\"height: 525px; width: 100%;\" class=\"plotly-graph-div\"></div><script type=\"text/javascript\">require([\"plotly\"], function(Plotly) { window.PLOTLYENV=window.PLOTLYENV || {};window.PLOTLYENV.BASE_URL=\"https://plot.ly\";Plotly.newPlot(\"d79a7088-e1a2-4d65-9db2-9f72329615a8\", [{\"name\": \"Fizeram\", \"orientation\": \"h\", \"x\": [9, 10, 8, 10, 6, 6, 10, 8, 9, 6], \"y\": [\"Assign1\", \"Assign2\", \"Assign3\", \"Assign4\", \"Assign5\", \"Assign6\", \"Assign7\", \"Assign8\", \"Assign9\", \"Assign10\"], \"type\": \"bar\", \"uid\": \"c5c1cb42-fae4-11e8-b19a-e35ea5c620f6\"}, {\"name\": \"N\\u00e3o<br>fizeram\", \"orientation\": \"h\", \"x\": [11, 10, 12, 10, 14, 14, 10, 12, 11, 14], \"y\": [\"Assign1\", \"Assign2\", \"Assign3\", \"Assign4\", \"Assign5\", \"Assign6\", \"Assign7\", \"Assign8\", \"Assign9\", \"Assign10\"], \"type\": \"bar\", \"uid\": \"c5c1ccf0-fae4-11e8-b19a-e35ea5c620f6\"}], {\"barmode\": \"stack\", \"title\": \"N\\u00famero de alunos que fizeram e <b>n\\u00e3o</b> fizeram as atividades\", \"xaxis\": {\"title\": \"N\\u00famero de estudantes\", \"titlefont\": {\"color\": \"rgb(180,180,180)\"}}, \"yaxis\": {\"dtick\": 1, \"exponentformat\": \"e\", \"gridcolor\": \"#bdbdbd\", \"showexponent\": \"all\", \"showticklabels\": true, \"tick0\": 0, \"title\": \"\", \"titlefont\": {\"color\": \"rgb(180,180,180)\"}}}, {\"showLink\": true, \"linkText\": \"Export to plot.ly\"})});</script>"
      ],
      "text/vnd.plotly.v1+html": [
       "<div id=\"d79a7088-e1a2-4d65-9db2-9f72329615a8\" style=\"height: 525px; width: 100%;\" class=\"plotly-graph-div\"></div><script type=\"text/javascript\">require([\"plotly\"], function(Plotly) { window.PLOTLYENV=window.PLOTLYENV || {};window.PLOTLYENV.BASE_URL=\"https://plot.ly\";Plotly.newPlot(\"d79a7088-e1a2-4d65-9db2-9f72329615a8\", [{\"name\": \"Fizeram\", \"orientation\": \"h\", \"x\": [9, 10, 8, 10, 6, 6, 10, 8, 9, 6], \"y\": [\"Assign1\", \"Assign2\", \"Assign3\", \"Assign4\", \"Assign5\", \"Assign6\", \"Assign7\", \"Assign8\", \"Assign9\", \"Assign10\"], \"type\": \"bar\", \"uid\": \"c5c1cb42-fae4-11e8-b19a-e35ea5c620f6\"}, {\"name\": \"N\\u00e3o<br>fizeram\", \"orientation\": \"h\", \"x\": [11, 10, 12, 10, 14, 14, 10, 12, 11, 14], \"y\": [\"Assign1\", \"Assign2\", \"Assign3\", \"Assign4\", \"Assign5\", \"Assign6\", \"Assign7\", \"Assign8\", \"Assign9\", \"Assign10\"], \"type\": \"bar\", \"uid\": \"c5c1ccf0-fae4-11e8-b19a-e35ea5c620f6\"}], {\"barmode\": \"stack\", \"title\": \"N\\u00famero de alunos que fizeram e <b>n\\u00e3o</b> fizeram as atividades\", \"xaxis\": {\"title\": \"N\\u00famero de estudantes\", \"titlefont\": {\"color\": \"rgb(180,180,180)\"}}, \"yaxis\": {\"dtick\": 1, \"exponentformat\": \"e\", \"gridcolor\": \"#bdbdbd\", \"showexponent\": \"all\", \"showticklabels\": true, \"tick0\": 0, \"title\": \"\", \"titlefont\": {\"color\": \"rgb(180,180,180)\"}}}, {\"showLink\": true, \"linkText\": \"Export to plot.ly\"})});</script>"
      ]
     },
     "metadata": {},
     "output_type": "display_data"
    },
    {
     "data": {
      "application/vnd.plotly.v1+json": {
       "data": [
        {
         "name": "Fizeram",
         "orientation": "h",
         "type": "bar",
         "uid": "c5c6fda6-fae4-11e8-b19a-e35ea5c620f6",
         "x": [
          6,
          6,
          6,
          8,
          8,
          9,
          9,
          10,
          10,
          10
         ],
         "y": [
          "Assign10",
          "Assign5",
          "Assign6",
          "Assign3",
          "Assign8",
          "Assign1",
          "Assign9",
          "Assign2",
          "Assign4",
          "Assign7"
         ]
        },
        {
         "name": "Não<br>fizeram",
         "orientation": "h",
         "type": "bar",
         "uid": "c5c6ff5e-fae4-11e8-b19a-e35ea5c620f6",
         "x": [
          14,
          14,
          14,
          12,
          12,
          11,
          11,
          10,
          10,
          10
         ],
         "y": [
          "Assign10",
          "Assign5",
          "Assign6",
          "Assign3",
          "Assign8",
          "Assign1",
          "Assign9",
          "Assign2",
          "Assign4",
          "Assign7"
         ]
        }
       ],
       "layout": {
        "barmode": "stack",
        "title": "Número de alunos que fizeram e <b>não</b> fizeram as atividades",
        "xaxis": {
         "title": "Número de estudantes",
         "titlefont": {
          "color": "rgb(180,180,180)"
         }
        },
        "yaxis": {
         "dtick": 1,
         "exponentformat": "e",
         "gridcolor": "#bdbdbd",
         "showexponent": "all",
         "showticklabels": true,
         "tick0": 0,
         "title": "",
         "titlefont": {
          "color": "rgb(180,180,180)"
         }
        }
       }
      },
      "text/html": [
       "<div id=\"67237bef-6b2d-4d3a-a308-be32e104e7c6\" style=\"height: 525px; width: 100%;\" class=\"plotly-graph-div\"></div><script type=\"text/javascript\">require([\"plotly\"], function(Plotly) { window.PLOTLYENV=window.PLOTLYENV || {};window.PLOTLYENV.BASE_URL=\"https://plot.ly\";Plotly.newPlot(\"67237bef-6b2d-4d3a-a308-be32e104e7c6\", [{\"name\": \"Fizeram\", \"orientation\": \"h\", \"x\": [6, 6, 6, 8, 8, 9, 9, 10, 10, 10], \"y\": [\"Assign10\", \"Assign5\", \"Assign6\", \"Assign3\", \"Assign8\", \"Assign1\", \"Assign9\", \"Assign2\", \"Assign4\", \"Assign7\"], \"type\": \"bar\", \"uid\": \"c5c6fda6-fae4-11e8-b19a-e35ea5c620f6\"}, {\"name\": \"N\\u00e3o<br>fizeram\", \"orientation\": \"h\", \"x\": [14, 14, 14, 12, 12, 11, 11, 10, 10, 10], \"y\": [\"Assign10\", \"Assign5\", \"Assign6\", \"Assign3\", \"Assign8\", \"Assign1\", \"Assign9\", \"Assign2\", \"Assign4\", \"Assign7\"], \"type\": \"bar\", \"uid\": \"c5c6ff5e-fae4-11e8-b19a-e35ea5c620f6\"}], {\"barmode\": \"stack\", \"title\": \"N\\u00famero de alunos que fizeram e <b>n\\u00e3o</b> fizeram as atividades\", \"xaxis\": {\"title\": \"N\\u00famero de estudantes\", \"titlefont\": {\"color\": \"rgb(180,180,180)\"}}, \"yaxis\": {\"dtick\": 1, \"exponentformat\": \"e\", \"gridcolor\": \"#bdbdbd\", \"showexponent\": \"all\", \"showticklabels\": true, \"tick0\": 0, \"title\": \"\", \"titlefont\": {\"color\": \"rgb(180,180,180)\"}}}, {\"showLink\": true, \"linkText\": \"Export to plot.ly\"})});</script>"
      ],
      "text/vnd.plotly.v1+html": [
       "<div id=\"67237bef-6b2d-4d3a-a308-be32e104e7c6\" style=\"height: 525px; width: 100%;\" class=\"plotly-graph-div\"></div><script type=\"text/javascript\">require([\"plotly\"], function(Plotly) { window.PLOTLYENV=window.PLOTLYENV || {};window.PLOTLYENV.BASE_URL=\"https://plot.ly\";Plotly.newPlot(\"67237bef-6b2d-4d3a-a308-be32e104e7c6\", [{\"name\": \"Fizeram\", \"orientation\": \"h\", \"x\": [6, 6, 6, 8, 8, 9, 9, 10, 10, 10], \"y\": [\"Assign10\", \"Assign5\", \"Assign6\", \"Assign3\", \"Assign8\", \"Assign1\", \"Assign9\", \"Assign2\", \"Assign4\", \"Assign7\"], \"type\": \"bar\", \"uid\": \"c5c6fda6-fae4-11e8-b19a-e35ea5c620f6\"}, {\"name\": \"N\\u00e3o<br>fizeram\", \"orientation\": \"h\", \"x\": [14, 14, 14, 12, 12, 11, 11, 10, 10, 10], \"y\": [\"Assign10\", \"Assign5\", \"Assign6\", \"Assign3\", \"Assign8\", \"Assign1\", \"Assign9\", \"Assign2\", \"Assign4\", \"Assign7\"], \"type\": \"bar\", \"uid\": \"c5c6ff5e-fae4-11e8-b19a-e35ea5c620f6\"}], {\"barmode\": \"stack\", \"title\": \"N\\u00famero de alunos que fizeram e <b>n\\u00e3o</b> fizeram as atividades\", \"xaxis\": {\"title\": \"N\\u00famero de estudantes\", \"titlefont\": {\"color\": \"rgb(180,180,180)\"}}, \"yaxis\": {\"dtick\": 1, \"exponentformat\": \"e\", \"gridcolor\": \"#bdbdbd\", \"showexponent\": \"all\", \"showticklabels\": true, \"tick0\": 0, \"title\": \"\", \"titlefont\": {\"color\": \"rgb(180,180,180)\"}}}, {\"showLink\": true, \"linkText\": \"Export to plot.ly\"})});</script>"
      ]
     },
     "metadata": {},
     "output_type": "display_data"
    },
    {
     "data": {
      "application/vnd.plotly.v1+json": {
       "data": [
        {
         "name": "Fizeram",
         "orientation": "h",
         "type": "bar",
         "uid": "c5cc26b4-fae4-11e8-b19a-e35ea5c620f6",
         "x": [
          10,
          10,
          10,
          9,
          9,
          8,
          8,
          6,
          6,
          6
         ],
         "y": [
          "Assign2",
          "Assign4",
          "Assign7",
          "Assign1",
          "Assign9",
          "Assign3",
          "Assign8",
          "Assign10",
          "Assign5",
          "Assign6"
         ]
        },
        {
         "name": "Não<br>fizeram",
         "orientation": "h",
         "type": "bar",
         "uid": "c5cc2844-fae4-11e8-b19a-e35ea5c620f6",
         "x": [
          10,
          10,
          10,
          11,
          11,
          12,
          12,
          14,
          14,
          14
         ],
         "y": [
          "Assign2",
          "Assign4",
          "Assign7",
          "Assign1",
          "Assign9",
          "Assign3",
          "Assign8",
          "Assign10",
          "Assign5",
          "Assign6"
         ]
        }
       ],
       "layout": {
        "barmode": "stack",
        "title": "Número de alunos que fizeram e <b>não</b> fizeram as atividades",
        "xaxis": {
         "title": "Número de estudantes",
         "titlefont": {
          "color": "rgb(180,180,180)"
         }
        },
        "yaxis": {
         "dtick": 1,
         "exponentformat": "e",
         "gridcolor": "#bdbdbd",
         "showexponent": "all",
         "showticklabels": true,
         "tick0": 0,
         "title": "",
         "titlefont": {
          "color": "rgb(180,180,180)"
         }
        }
       }
      },
      "text/html": [
       "<div id=\"98a1105b-7894-44d9-be5c-a5cc22057683\" style=\"height: 525px; width: 100%;\" class=\"plotly-graph-div\"></div><script type=\"text/javascript\">require([\"plotly\"], function(Plotly) { window.PLOTLYENV=window.PLOTLYENV || {};window.PLOTLYENV.BASE_URL=\"https://plot.ly\";Plotly.newPlot(\"98a1105b-7894-44d9-be5c-a5cc22057683\", [{\"name\": \"Fizeram\", \"orientation\": \"h\", \"x\": [10, 10, 10, 9, 9, 8, 8, 6, 6, 6], \"y\": [\"Assign2\", \"Assign4\", \"Assign7\", \"Assign1\", \"Assign9\", \"Assign3\", \"Assign8\", \"Assign10\", \"Assign5\", \"Assign6\"], \"type\": \"bar\", \"uid\": \"c5cc26b4-fae4-11e8-b19a-e35ea5c620f6\"}, {\"name\": \"N\\u00e3o<br>fizeram\", \"orientation\": \"h\", \"x\": [10, 10, 10, 11, 11, 12, 12, 14, 14, 14], \"y\": [\"Assign2\", \"Assign4\", \"Assign7\", \"Assign1\", \"Assign9\", \"Assign3\", \"Assign8\", \"Assign10\", \"Assign5\", \"Assign6\"], \"type\": \"bar\", \"uid\": \"c5cc2844-fae4-11e8-b19a-e35ea5c620f6\"}], {\"barmode\": \"stack\", \"title\": \"N\\u00famero de alunos que fizeram e <b>n\\u00e3o</b> fizeram as atividades\", \"xaxis\": {\"title\": \"N\\u00famero de estudantes\", \"titlefont\": {\"color\": \"rgb(180,180,180)\"}}, \"yaxis\": {\"dtick\": 1, \"exponentformat\": \"e\", \"gridcolor\": \"#bdbdbd\", \"showexponent\": \"all\", \"showticklabels\": true, \"tick0\": 0, \"title\": \"\", \"titlefont\": {\"color\": \"rgb(180,180,180)\"}}}, {\"showLink\": true, \"linkText\": \"Export to plot.ly\"})});</script>"
      ],
      "text/vnd.plotly.v1+html": [
       "<div id=\"98a1105b-7894-44d9-be5c-a5cc22057683\" style=\"height: 525px; width: 100%;\" class=\"plotly-graph-div\"></div><script type=\"text/javascript\">require([\"plotly\"], function(Plotly) { window.PLOTLYENV=window.PLOTLYENV || {};window.PLOTLYENV.BASE_URL=\"https://plot.ly\";Plotly.newPlot(\"98a1105b-7894-44d9-be5c-a5cc22057683\", [{\"name\": \"Fizeram\", \"orientation\": \"h\", \"x\": [10, 10, 10, 9, 9, 8, 8, 6, 6, 6], \"y\": [\"Assign2\", \"Assign4\", \"Assign7\", \"Assign1\", \"Assign9\", \"Assign3\", \"Assign8\", \"Assign10\", \"Assign5\", \"Assign6\"], \"type\": \"bar\", \"uid\": \"c5cc26b4-fae4-11e8-b19a-e35ea5c620f6\"}, {\"name\": \"N\\u00e3o<br>fizeram\", \"orientation\": \"h\", \"x\": [10, 10, 10, 11, 11, 12, 12, 14, 14, 14], \"y\": [\"Assign2\", \"Assign4\", \"Assign7\", \"Assign1\", \"Assign9\", \"Assign3\", \"Assign8\", \"Assign10\", \"Assign5\", \"Assign6\"], \"type\": \"bar\", \"uid\": \"c5cc2844-fae4-11e8-b19a-e35ea5c620f6\"}], {\"barmode\": \"stack\", \"title\": \"N\\u00famero de alunos que fizeram e <b>n\\u00e3o</b> fizeram as atividades\", \"xaxis\": {\"title\": \"N\\u00famero de estudantes\", \"titlefont\": {\"color\": \"rgb(180,180,180)\"}}, \"yaxis\": {\"dtick\": 1, \"exponentformat\": \"e\", \"gridcolor\": \"#bdbdbd\", \"showexponent\": \"all\", \"showticklabels\": true, \"tick0\": 0, \"title\": \"\", \"titlefont\": {\"color\": \"rgb(180,180,180)\"}}}, {\"showLink\": true, \"linkText\": \"Export to plot.ly\"})});</script>"
      ]
     },
     "metadata": {},
     "output_type": "display_data"
    }
   ],
   "source": [
    "instance = V001()\n",
    "instance.generate_dataset(number_students = 20, number_assigns = 10)\n",
    "instance.print_all_graphs(\"pt\")\n",
    "# instance.print_all_graphs(\"en\")"
   ]
  },
  {
   "cell_type": "markdown",
   "metadata": {},
   "source": [
    "### View 002"
   ]
  },
  {
   "cell_type": "code",
   "execution_count": null,
   "metadata": {
    "scrolled": true
   },
   "outputs": [],
   "source": [
    "run eduvis/V002.py"
   ]
  },
  {
   "cell_type": "code",
   "execution_count": null,
   "metadata": {},
   "outputs": [],
   "source": [
    "instance = V002()\n",
    "instance.generate_dataset(number_students = 20)\n",
    "instance.print_all_graphs(\"pt\")\n",
    "# instance.print_all_graphs(\"en\")"
   ]
  },
  {
   "cell_type": "markdown",
   "metadata": {},
   "source": [
    "### View 003"
   ]
  },
  {
   "cell_type": "code",
   "execution_count": null,
   "metadata": {
    "scrolled": true
   },
   "outputs": [],
   "source": [
    "run eduvis/V003.py"
   ]
  },
  {
   "cell_type": "code",
   "execution_count": null,
   "metadata": {},
   "outputs": [],
   "source": [
    "instance = V003(20)\n",
    "instance.generate_dataset(number_students = 20)\n",
    "instance.print_all_graphs(\"pt\")\n",
    "# instance.print_all_graphs(\"en\")"
   ]
  },
  {
   "cell_type": "markdown",
   "metadata": {},
   "source": [
    "### View 004"
   ]
  },
  {
   "cell_type": "code",
   "execution_count": null,
   "metadata": {
    "scrolled": true
   },
   "outputs": [],
   "source": [
    "run eduvis/V004.py"
   ]
  },
  {
   "cell_type": "code",
   "execution_count": null,
   "metadata": {},
   "outputs": [],
   "source": [
    "instance = V004()\n",
    "instance.generate_dataset(number_students = 20)\n",
    "instance.print_all_graphs(\"pt\")\n",
    "# instance.print_all_graphs(\"en\")"
   ]
  },
  {
   "cell_type": "markdown",
   "metadata": {},
   "source": [
    "### View 005"
   ]
  },
  {
   "cell_type": "code",
   "execution_count": null,
   "metadata": {},
   "outputs": [],
   "source": [
    "run eduvis/V005.py"
   ]
  },
  {
   "cell_type": "code",
   "execution_count": null,
   "metadata": {
    "scrolled": true
   },
   "outputs": [],
   "source": [
    "instance = V005()\n",
    "instance.generate_dataset(number_students = 60)\n",
    "instance.print_all_graphs(\"pt\")\n",
    "# instance.print_all_graphs(\"en\")"
   ]
  },
  {
   "cell_type": "markdown",
   "metadata": {},
   "source": [
    "### View 006"
   ]
  },
  {
   "cell_type": "code",
   "execution_count": null,
   "metadata": {
    "scrolled": true
   },
   "outputs": [],
   "source": [
    "run eduvis/V006.py"
   ]
  },
  {
   "cell_type": "code",
   "execution_count": null,
   "metadata": {},
   "outputs": [],
   "source": [
    "instance = V006()\n",
    "instance.generate_dataset(number_students = 60)\n",
    "instance.print_all_graphs(\"pt\")\n",
    "# instance.print_all_graphs(\"en\")"
   ]
  },
  {
   "cell_type": "markdown",
   "metadata": {},
   "source": [
    "### View 007"
   ]
  },
  {
   "cell_type": "code",
   "execution_count": null,
   "metadata": {},
   "outputs": [],
   "source": [
    "run eduvis/V007.py"
   ]
  },
  {
   "cell_type": "code",
   "execution_count": null,
   "metadata": {},
   "outputs": [],
   "source": []
  },
  {
   "cell_type": "markdown",
   "metadata": {},
   "source": [
    "### View 008"
   ]
  },
  {
   "cell_type": "code",
   "execution_count": null,
   "metadata": {
    "scrolled": true
   },
   "outputs": [],
   "source": [
    "run eduvis/V008.py"
   ]
  },
  {
   "cell_type": "code",
   "execution_count": null,
   "metadata": {
    "scrolled": false
   },
   "outputs": [],
   "source": [
    "instance = V008()\n",
    "instance.generate_dataset(number_students=35, number_weeks=7)\n",
    "instance.print_all_graphs(\"pt\")\n",
    "# instance.print_all_graphs(\"en\")"
   ]
  },
  {
   "cell_type": "markdown",
   "metadata": {},
   "source": [
    "### View 009"
   ]
  },
  {
   "cell_type": "code",
   "execution_count": null,
   "metadata": {},
   "outputs": [],
   "source": [
    "run eduvis/V009.py"
   ]
  },
  {
   "cell_type": "code",
   "execution_count": null,
   "metadata": {},
   "outputs": [],
   "source": []
  },
  {
   "cell_type": "markdown",
   "metadata": {},
   "source": [
    "### View 010"
   ]
  },
  {
   "cell_type": "code",
   "execution_count": null,
   "metadata": {
    "scrolled": true
   },
   "outputs": [],
   "source": [
    "run eduvis/V010.py"
   ]
  },
  {
   "cell_type": "code",
   "execution_count": null,
   "metadata": {
    "scrolled": false
   },
   "outputs": [],
   "source": [
    "instance = V010()\n",
    "instance.generate_dataset(number_students=35, number_video=10)\n",
    "instance.print_all_graphs(\"pt\")\n",
    "# instance.print_all_graphs(\"en\")"
   ]
  },
  {
   "cell_type": "markdown",
   "metadata": {},
   "source": [
    "### View 011"
   ]
  },
  {
   "cell_type": "code",
   "execution_count": null,
   "metadata": {},
   "outputs": [],
   "source": [
    "run eduvis/V011.py"
   ]
  },
  {
   "cell_type": "code",
   "execution_count": null,
   "metadata": {},
   "outputs": [],
   "source": []
  }
 ],
 "metadata": {
  "kernelspec": {
   "display_name": "Python 3",
   "language": "python",
   "name": "python3"
  },
  "language_info": {
   "codemirror_mode": {
    "name": "ipython",
    "version": 3
   },
   "file_extension": ".py",
   "mimetype": "text/x-python",
   "name": "python",
   "nbconvert_exporter": "python",
   "pygments_lexer": "ipython3",
   "version": "3.7.0"
  }
 },
 "nbformat": 4,
 "nbformat_minor": 2
}
