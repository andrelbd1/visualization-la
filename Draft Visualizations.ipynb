{
 "cells": [
  {
   "cell_type": "markdown",
   "metadata": {},
   "source": [
    "### View 001"
   ]
  },
  {
   "cell_type": "code",
   "execution_count": 91,
   "metadata": {
    "scrolled": true
   },
   "outputs": [
    {
     "data": {
      "text/html": [
       "<script>requirejs.config({paths: { 'plotly': ['https://cdn.plot.ly/plotly-latest.min']},});if(!window.Plotly) {{require(['plotly'],function(plotly) {window.Plotly=plotly;});}}</script>"
      ],
      "text/vnd.plotly.v1+html": [
       "<script>requirejs.config({paths: { 'plotly': ['https://cdn.plot.ly/plotly-latest.min']},});if(!window.Plotly) {{require(['plotly'],function(plotly) {window.Plotly=plotly;});}}</script>"
      ]
     },
     "metadata": {},
     "output_type": "display_data"
    },
    {
     "data": {
      "application/vnd.plotly.v1+json": {
       "data": [
        {
         "cells": {
          "align": [
           "left",
           "center"
          ],
          "fill": {
           "color": "#F5F8FF"
          },
          "values": [
           [
            "Student_1",
            "Student_2",
            "Student_3",
            "Student_4",
            "Student_5",
            "Student_6",
            "Student_7",
            "Student_8",
            "Student_9",
            "Student_10",
            "Student_11",
            "Student_12",
            "Student_13",
            "Student_14",
            "Student_15",
            "Student_16",
            "Student_17",
            "Student_18",
            "Student_19",
            "Student_20"
           ],
           [
            1,
            1,
            1,
            1,
            0,
            1,
            1,
            1,
            0,
            1,
            1,
            1,
            0,
            0,
            0,
            1,
            0,
            1,
            1,
            0
           ],
           [
            0,
            0,
            0,
            1,
            1,
            0,
            1,
            1,
            1,
            1,
            0,
            1,
            0,
            0,
            1,
            1,
            1,
            1,
            1,
            0
           ],
           [
            1,
            1,
            1,
            1,
            0,
            0,
            0,
            1,
            0,
            1,
            0,
            1,
            1,
            1,
            1,
            0,
            0,
            0,
            1,
            1
           ],
           [
            0,
            0,
            1,
            0,
            1,
            1,
            0,
            0,
            1,
            0,
            0,
            1,
            1,
            1,
            1,
            0,
            1,
            1,
            1,
            0
           ]
          ]
         },
         "header": {
          "align": "center",
          "fill": {
           "color": "#C2D4FF"
          },
          "values": [
           "Students",
           "Assign1",
           "Assign2",
           "Assign3",
           "Assign4"
          ]
         },
         "type": "table",
         "uid": "145f3a1c-e287-11e8-9490-d5f4ba98b039"
        }
       ],
       "layout": {}
      },
      "text/html": [
       "<div id=\"901dfef7-247f-49d6-8231-fe9d17784d9b\" style=\"height: 525px; width: 100%;\" class=\"plotly-graph-div\"></div><script type=\"text/javascript\">require([\"plotly\"], function(Plotly) { window.PLOTLYENV=window.PLOTLYENV || {};window.PLOTLYENV.BASE_URL=\"https://plot.ly\";Plotly.newPlot(\"901dfef7-247f-49d6-8231-fe9d17784d9b\", [{\"cells\": {\"align\": [\"left\", \"center\"], \"fill\": {\"color\": \"#F5F8FF\"}, \"values\": [[\"Student_1\", \"Student_2\", \"Student_3\", \"Student_4\", \"Student_5\", \"Student_6\", \"Student_7\", \"Student_8\", \"Student_9\", \"Student_10\", \"Student_11\", \"Student_12\", \"Student_13\", \"Student_14\", \"Student_15\", \"Student_16\", \"Student_17\", \"Student_18\", \"Student_19\", \"Student_20\"], [1, 1, 1, 1, 0, 1, 1, 1, 0, 1, 1, 1, 0, 0, 0, 1, 0, 1, 1, 0], [0, 0, 0, 1, 1, 0, 1, 1, 1, 1, 0, 1, 0, 0, 1, 1, 1, 1, 1, 0], [1, 1, 1, 1, 0, 0, 0, 1, 0, 1, 0, 1, 1, 1, 1, 0, 0, 0, 1, 1], [0, 0, 1, 0, 1, 1, 0, 0, 1, 0, 0, 1, 1, 1, 1, 0, 1, 1, 1, 0]]}, \"header\": {\"align\": \"center\", \"fill\": {\"color\": \"#C2D4FF\"}, \"values\": [\"Students\", \"Assign1\", \"Assign2\", \"Assign3\", \"Assign4\"]}, \"type\": \"table\", \"uid\": \"1461fa22-e287-11e8-9490-d5f4ba98b039\"}], {}, {\"showLink\": true, \"linkText\": \"Export to plot.ly\"})});</script>"
      ],
      "text/vnd.plotly.v1+html": [
       "<div id=\"901dfef7-247f-49d6-8231-fe9d17784d9b\" style=\"height: 525px; width: 100%;\" class=\"plotly-graph-div\"></div><script type=\"text/javascript\">require([\"plotly\"], function(Plotly) { window.PLOTLYENV=window.PLOTLYENV || {};window.PLOTLYENV.BASE_URL=\"https://plot.ly\";Plotly.newPlot(\"901dfef7-247f-49d6-8231-fe9d17784d9b\", [{\"cells\": {\"align\": [\"left\", \"center\"], \"fill\": {\"color\": \"#F5F8FF\"}, \"values\": [[\"Student_1\", \"Student_2\", \"Student_3\", \"Student_4\", \"Student_5\", \"Student_6\", \"Student_7\", \"Student_8\", \"Student_9\", \"Student_10\", \"Student_11\", \"Student_12\", \"Student_13\", \"Student_14\", \"Student_15\", \"Student_16\", \"Student_17\", \"Student_18\", \"Student_19\", \"Student_20\"], [1, 1, 1, 1, 0, 1, 1, 1, 0, 1, 1, 1, 0, 0, 0, 1, 0, 1, 1, 0], [0, 0, 0, 1, 1, 0, 1, 1, 1, 1, 0, 1, 0, 0, 1, 1, 1, 1, 1, 0], [1, 1, 1, 1, 0, 0, 0, 1, 0, 1, 0, 1, 1, 1, 1, 0, 0, 0, 1, 1], [0, 0, 1, 0, 1, 1, 0, 0, 1, 0, 0, 1, 1, 1, 1, 0, 1, 1, 1, 0]]}, \"header\": {\"align\": \"center\", \"fill\": {\"color\": \"#C2D4FF\"}, \"values\": [\"Students\", \"Assign1\", \"Assign2\", \"Assign3\", \"Assign4\"]}, \"type\": \"table\", \"uid\": \"1461fa22-e287-11e8-9490-d5f4ba98b039\"}], {}, {\"showLink\": true, \"linkText\": \"Export to plot.ly\"})});</script>"
      ]
     },
     "metadata": {},
     "output_type": "display_data"
    },
    {
     "data": {
      "application/vnd.plotly.v1+json": {
       "data": [
        {
         "type": "bar",
         "uid": "146629da-e287-11e8-9490-d5f4ba98b039",
         "x": [
          "Student_1",
          "Student_2",
          "Student_3",
          "Student_4",
          "Student_5",
          "Student_6",
          "Student_7",
          "Student_8",
          "Student_9",
          "Student_10",
          "Student_11",
          "Student_12",
          "Student_13",
          "Student_14",
          "Student_15",
          "Student_16",
          "Student_17",
          "Student_18",
          "Student_19",
          "Student_20"
         ],
         "y": [
          2,
          2,
          3,
          3,
          2,
          2,
          2,
          3,
          2,
          3,
          1,
          4,
          2,
          2,
          3,
          2,
          2,
          3,
          4,
          1
         ]
        }
       ],
       "layout": {
        "title": "Quantidade de tarefas feitas por alunos",
        "yaxis": {
         "dtick": 1,
         "exponentformat": "e",
         "gridcolor": "#bdbdbd",
         "showexponent": "all",
         "showticklabels": true,
         "tick0": 0,
         "titlefont": {
          "color": "lightgrey",
          "family": "Arial, sans-serif"
         }
        }
       }
      },
      "text/html": [
       "<div id=\"48503364-319b-4346-9e8b-c50c6412b033\" style=\"height: 525px; width: 100%;\" class=\"plotly-graph-div\"></div><script type=\"text/javascript\">require([\"plotly\"], function(Plotly) { window.PLOTLYENV=window.PLOTLYENV || {};window.PLOTLYENV.BASE_URL=\"https://plot.ly\";Plotly.newPlot(\"48503364-319b-4346-9e8b-c50c6412b033\", [{\"x\": [\"Student_1\", \"Student_2\", \"Student_3\", \"Student_4\", \"Student_5\", \"Student_6\", \"Student_7\", \"Student_8\", \"Student_9\", \"Student_10\", \"Student_11\", \"Student_12\", \"Student_13\", \"Student_14\", \"Student_15\", \"Student_16\", \"Student_17\", \"Student_18\", \"Student_19\", \"Student_20\"], \"y\": [2, 2, 3, 3, 2, 2, 2, 3, 2, 3, 1, 4, 2, 2, 3, 2, 2, 3, 4, 1], \"type\": \"bar\", \"uid\": \"146629da-e287-11e8-9490-d5f4ba98b039\"}], {\"title\": \"Quantidade de tarefas feitas por alunos\", \"yaxis\": {\"dtick\": 1, \"exponentformat\": \"e\", \"gridcolor\": \"#bdbdbd\", \"showexponent\": \"all\", \"showticklabels\": true, \"tick0\": 0, \"titlefont\": {\"color\": \"lightgrey\", \"family\": \"Arial, sans-serif\"}}}, {\"showLink\": true, \"linkText\": \"Export to plot.ly\"})});</script>"
      ],
      "text/vnd.plotly.v1+html": [
       "<div id=\"48503364-319b-4346-9e8b-c50c6412b033\" style=\"height: 525px; width: 100%;\" class=\"plotly-graph-div\"></div><script type=\"text/javascript\">require([\"plotly\"], function(Plotly) { window.PLOTLYENV=window.PLOTLYENV || {};window.PLOTLYENV.BASE_URL=\"https://plot.ly\";Plotly.newPlot(\"48503364-319b-4346-9e8b-c50c6412b033\", [{\"x\": [\"Student_1\", \"Student_2\", \"Student_3\", \"Student_4\", \"Student_5\", \"Student_6\", \"Student_7\", \"Student_8\", \"Student_9\", \"Student_10\", \"Student_11\", \"Student_12\", \"Student_13\", \"Student_14\", \"Student_15\", \"Student_16\", \"Student_17\", \"Student_18\", \"Student_19\", \"Student_20\"], \"y\": [2, 2, 3, 3, 2, 2, 2, 3, 2, 3, 1, 4, 2, 2, 3, 2, 2, 3, 4, 1], \"type\": \"bar\", \"uid\": \"146629da-e287-11e8-9490-d5f4ba98b039\"}], {\"title\": \"Quantidade de tarefas feitas por alunos\", \"yaxis\": {\"dtick\": 1, \"exponentformat\": \"e\", \"gridcolor\": \"#bdbdbd\", \"showexponent\": \"all\", \"showticklabels\": true, \"tick0\": 0, \"titlefont\": {\"color\": \"lightgrey\", \"family\": \"Arial, sans-serif\"}}}, {\"showLink\": true, \"linkText\": \"Export to plot.ly\"})});</script>"
      ]
     },
     "metadata": {},
     "output_type": "display_data"
    },
    {
     "data": {
      "application/vnd.plotly.v1+json": {
       "data": [
        {
         "type": "bar",
         "uid": "146a7026-e287-11e8-9490-d5f4ba98b039",
         "x": [
          "Assign1",
          "Assign2",
          "Assign3",
          "Assign4"
         ],
         "y": [
          13,
          12,
          12,
          11
         ]
        }
       ],
       "layout": {
        "title": "Quantidade de alunos que fizeram as tarefas",
        "yaxis": {
         "dtick": 1,
         "exponentformat": "e",
         "gridcolor": "#bdbdbd",
         "showexponent": "all",
         "showticklabels": true,
         "tick0": 0,
         "titlefont": {
          "color": "lightgrey",
          "family": "Arial, sans-serif"
         }
        }
       }
      },
      "text/html": [
       "<div id=\"d69cfe62-b9f0-40d7-b1a0-f8372e9028f4\" style=\"height: 525px; width: 100%;\" class=\"plotly-graph-div\"></div><script type=\"text/javascript\">require([\"plotly\"], function(Plotly) { window.PLOTLYENV=window.PLOTLYENV || {};window.PLOTLYENV.BASE_URL=\"https://plot.ly\";Plotly.newPlot(\"d69cfe62-b9f0-40d7-b1a0-f8372e9028f4\", [{\"x\": [\"Assign1\", \"Assign2\", \"Assign3\", \"Assign4\"], \"y\": [13, 12, 12, 11], \"type\": \"bar\", \"uid\": \"146a7026-e287-11e8-9490-d5f4ba98b039\"}], {\"title\": \"Quantidade de alunos que fizeram as tarefas\", \"yaxis\": {\"dtick\": 1, \"exponentformat\": \"e\", \"gridcolor\": \"#bdbdbd\", \"showexponent\": \"all\", \"showticklabels\": true, \"tick0\": 0, \"titlefont\": {\"color\": \"lightgrey\", \"family\": \"Arial, sans-serif\"}}}, {\"showLink\": true, \"linkText\": \"Export to plot.ly\"})});</script>"
      ],
      "text/vnd.plotly.v1+html": [
       "<div id=\"d69cfe62-b9f0-40d7-b1a0-f8372e9028f4\" style=\"height: 525px; width: 100%;\" class=\"plotly-graph-div\"></div><script type=\"text/javascript\">require([\"plotly\"], function(Plotly) { window.PLOTLYENV=window.PLOTLYENV || {};window.PLOTLYENV.BASE_URL=\"https://plot.ly\";Plotly.newPlot(\"d69cfe62-b9f0-40d7-b1a0-f8372e9028f4\", [{\"x\": [\"Assign1\", \"Assign2\", \"Assign3\", \"Assign4\"], \"y\": [13, 12, 12, 11], \"type\": \"bar\", \"uid\": \"146a7026-e287-11e8-9490-d5f4ba98b039\"}], {\"title\": \"Quantidade de alunos que fizeram as tarefas\", \"yaxis\": {\"dtick\": 1, \"exponentformat\": \"e\", \"gridcolor\": \"#bdbdbd\", \"showexponent\": \"all\", \"showticklabels\": true, \"tick0\": 0, \"titlefont\": {\"color\": \"lightgrey\", \"family\": \"Arial, sans-serif\"}}}, {\"showLink\": true, \"linkText\": \"Export to plot.ly\"})});</script>"
      ]
     },
     "metadata": {},
     "output_type": "display_data"
    },
    {
     "data": {
      "application/vnd.plotly.v1+json": {
       "data": [
        {
         "marker": {
          "line": {
           "width": 2
          },
          "size": [
           1,
           0,
           1,
           0
          ],
          "sizemode": "area",
          "sizeref": 0.01,
          "symbol": "circle"
         },
         "mode": "markers",
         "name": "Student_1",
         "text": [
          "1",
          "0",
          "1",
          "0"
         ],
         "type": "scatter",
         "uid": "147ef1a4-e287-11e8-9490-d5f4ba98b039",
         "x": [
          "Student_1",
          "Student_1",
          "Student_1",
          "Student_1",
          "Student_1"
         ],
         "y": [
          "Assign1",
          "Assign2",
          "Assign3",
          "Assign4"
         ]
        },
        {
         "marker": {
          "line": {
           "width": 2
          },
          "size": [
           1,
           0,
           1,
           0
          ],
          "sizemode": "area",
          "sizeref": 0.01,
          "symbol": "circle"
         },
         "mode": "markers",
         "name": "Student_2",
         "text": [
          "1",
          "0",
          "1",
          "0"
         ],
         "type": "scatter",
         "uid": "147ef334-e287-11e8-9490-d5f4ba98b039",
         "x": [
          "Student_2",
          "Student_2",
          "Student_2",
          "Student_2",
          "Student_2"
         ],
         "y": [
          "Assign1",
          "Assign2",
          "Assign3",
          "Assign4"
         ]
        },
        {
         "marker": {
          "line": {
           "width": 2
          },
          "size": [
           1,
           0,
           1,
           1
          ],
          "sizemode": "area",
          "sizeref": 0.01,
          "symbol": "circle"
         },
         "mode": "markers",
         "name": "Student_3",
         "text": [
          "1",
          "0",
          "1",
          "1"
         ],
         "type": "scatter",
         "uid": "147ef3fc-e287-11e8-9490-d5f4ba98b039",
         "x": [
          "Student_3",
          "Student_3",
          "Student_3",
          "Student_3",
          "Student_3"
         ],
         "y": [
          "Assign1",
          "Assign2",
          "Assign3",
          "Assign4"
         ]
        },
        {
         "marker": {
          "line": {
           "width": 2
          },
          "size": [
           1,
           1,
           1,
           0
          ],
          "sizemode": "area",
          "sizeref": 0.01,
          "symbol": "circle"
         },
         "mode": "markers",
         "name": "Student_4",
         "text": [
          "1",
          "1",
          "1",
          "0"
         ],
         "type": "scatter",
         "uid": "147ef49c-e287-11e8-9490-d5f4ba98b039",
         "x": [
          "Student_4",
          "Student_4",
          "Student_4",
          "Student_4",
          "Student_4"
         ],
         "y": [
          "Assign1",
          "Assign2",
          "Assign3",
          "Assign4"
         ]
        },
        {
         "marker": {
          "line": {
           "width": 2
          },
          "size": [
           0,
           1,
           0,
           1
          ],
          "sizemode": "area",
          "sizeref": 0.01,
          "symbol": "circle"
         },
         "mode": "markers",
         "name": "Student_5",
         "text": [
          "0",
          "1",
          "0",
          "1"
         ],
         "type": "scatter",
         "uid": "147ef532-e287-11e8-9490-d5f4ba98b039",
         "x": [
          "Student_5",
          "Student_5",
          "Student_5",
          "Student_5",
          "Student_5"
         ],
         "y": [
          "Assign1",
          "Assign2",
          "Assign3",
          "Assign4"
         ]
        },
        {
         "marker": {
          "line": {
           "width": 2
          },
          "size": [
           1,
           0,
           0,
           1
          ],
          "sizemode": "area",
          "sizeref": 0.01,
          "symbol": "circle"
         },
         "mode": "markers",
         "name": "Student_6",
         "text": [
          "1",
          "0",
          "0",
          "1"
         ],
         "type": "scatter",
         "uid": "147ef5be-e287-11e8-9490-d5f4ba98b039",
         "x": [
          "Student_6",
          "Student_6",
          "Student_6",
          "Student_6",
          "Student_6"
         ],
         "y": [
          "Assign1",
          "Assign2",
          "Assign3",
          "Assign4"
         ]
        },
        {
         "marker": {
          "line": {
           "width": 2
          },
          "size": [
           1,
           1,
           0,
           0
          ],
          "sizemode": "area",
          "sizeref": 0.01,
          "symbol": "circle"
         },
         "mode": "markers",
         "name": "Student_7",
         "text": [
          "1",
          "1",
          "0",
          "0"
         ],
         "type": "scatter",
         "uid": "147ef654-e287-11e8-9490-d5f4ba98b039",
         "x": [
          "Student_7",
          "Student_7",
          "Student_7",
          "Student_7",
          "Student_7"
         ],
         "y": [
          "Assign1",
          "Assign2",
          "Assign3",
          "Assign4"
         ]
        },
        {
         "marker": {
          "line": {
           "width": 2
          },
          "size": [
           1,
           1,
           1,
           0
          ],
          "sizemode": "area",
          "sizeref": 0.01,
          "symbol": "circle"
         },
         "mode": "markers",
         "name": "Student_8",
         "text": [
          "1",
          "1",
          "1",
          "0"
         ],
         "type": "scatter",
         "uid": "147ef6d6-e287-11e8-9490-d5f4ba98b039",
         "x": [
          "Student_8",
          "Student_8",
          "Student_8",
          "Student_8",
          "Student_8"
         ],
         "y": [
          "Assign1",
          "Assign2",
          "Assign3",
          "Assign4"
         ]
        },
        {
         "marker": {
          "line": {
           "width": 2
          },
          "size": [
           0,
           1,
           0,
           1
          ],
          "sizemode": "area",
          "sizeref": 0.01,
          "symbol": "circle"
         },
         "mode": "markers",
         "name": "Student_9",
         "text": [
          "0",
          "1",
          "0",
          "1"
         ],
         "type": "scatter",
         "uid": "147ef76c-e287-11e8-9490-d5f4ba98b039",
         "x": [
          "Student_9",
          "Student_9",
          "Student_9",
          "Student_9",
          "Student_9"
         ],
         "y": [
          "Assign1",
          "Assign2",
          "Assign3",
          "Assign4"
         ]
        },
        {
         "marker": {
          "line": {
           "width": 2
          },
          "size": [
           1,
           1,
           1,
           0
          ],
          "sizemode": "area",
          "sizeref": 0.01,
          "symbol": "circle"
         },
         "mode": "markers",
         "name": "Student_10",
         "text": [
          "1",
          "1",
          "1",
          "0"
         ],
         "type": "scatter",
         "uid": "147ef7f8-e287-11e8-9490-d5f4ba98b039",
         "x": [
          "Student_10",
          "Student_10",
          "Student_10",
          "Student_10",
          "Student_10"
         ],
         "y": [
          "Assign1",
          "Assign2",
          "Assign3",
          "Assign4"
         ]
        },
        {
         "marker": {
          "line": {
           "width": 2
          },
          "size": [
           1,
           0,
           0,
           0
          ],
          "sizemode": "area",
          "sizeref": 0.01,
          "symbol": "circle"
         },
         "mode": "markers",
         "name": "Student_11",
         "text": [
          "1",
          "0",
          "0",
          "0"
         ],
         "type": "scatter",
         "uid": "147ef87a-e287-11e8-9490-d5f4ba98b039",
         "x": [
          "Student_11",
          "Student_11",
          "Student_11",
          "Student_11",
          "Student_11"
         ],
         "y": [
          "Assign1",
          "Assign2",
          "Assign3",
          "Assign4"
         ]
        },
        {
         "marker": {
          "line": {
           "width": 2
          },
          "size": [
           1,
           1,
           1,
           1
          ],
          "sizemode": "area",
          "sizeref": 0.01,
          "symbol": "circle"
         },
         "mode": "markers",
         "name": "Student_12",
         "text": [
          "1",
          "1",
          "1",
          "1"
         ],
         "type": "scatter",
         "uid": "147ef906-e287-11e8-9490-d5f4ba98b039",
         "x": [
          "Student_12",
          "Student_12",
          "Student_12",
          "Student_12",
          "Student_12"
         ],
         "y": [
          "Assign1",
          "Assign2",
          "Assign3",
          "Assign4"
         ]
        },
        {
         "marker": {
          "line": {
           "width": 2
          },
          "size": [
           0,
           0,
           1,
           1
          ],
          "sizemode": "area",
          "sizeref": 0.01,
          "symbol": "circle"
         },
         "mode": "markers",
         "name": "Student_13",
         "text": [
          "0",
          "0",
          "1",
          "1"
         ],
         "type": "scatter",
         "uid": "147ef988-e287-11e8-9490-d5f4ba98b039",
         "x": [
          "Student_13",
          "Student_13",
          "Student_13",
          "Student_13",
          "Student_13"
         ],
         "y": [
          "Assign1",
          "Assign2",
          "Assign3",
          "Assign4"
         ]
        },
        {
         "marker": {
          "line": {
           "width": 2
          },
          "size": [
           0,
           0,
           1,
           1
          ],
          "sizemode": "area",
          "sizeref": 0.01,
          "symbol": "circle"
         },
         "mode": "markers",
         "name": "Student_14",
         "text": [
          "0",
          "0",
          "1",
          "1"
         ],
         "type": "scatter",
         "uid": "147efa14-e287-11e8-9490-d5f4ba98b039",
         "x": [
          "Student_14",
          "Student_14",
          "Student_14",
          "Student_14",
          "Student_14"
         ],
         "y": [
          "Assign1",
          "Assign2",
          "Assign3",
          "Assign4"
         ]
        },
        {
         "marker": {
          "line": {
           "width": 2
          },
          "size": [
           0,
           1,
           1,
           1
          ],
          "sizemode": "area",
          "sizeref": 0.01,
          "symbol": "circle"
         },
         "mode": "markers",
         "name": "Student_15",
         "text": [
          "0",
          "1",
          "1",
          "1"
         ],
         "type": "scatter",
         "uid": "147efaa0-e287-11e8-9490-d5f4ba98b039",
         "x": [
          "Student_15",
          "Student_15",
          "Student_15",
          "Student_15",
          "Student_15"
         ],
         "y": [
          "Assign1",
          "Assign2",
          "Assign3",
          "Assign4"
         ]
        },
        {
         "marker": {
          "line": {
           "width": 2
          },
          "size": [
           1,
           1,
           0,
           0
          ],
          "sizemode": "area",
          "sizeref": 0.01,
          "symbol": "circle"
         },
         "mode": "markers",
         "name": "Student_16",
         "text": [
          "1",
          "1",
          "0",
          "0"
         ],
         "type": "scatter",
         "uid": "147efb22-e287-11e8-9490-d5f4ba98b039",
         "x": [
          "Student_16",
          "Student_16",
          "Student_16",
          "Student_16",
          "Student_16"
         ],
         "y": [
          "Assign1",
          "Assign2",
          "Assign3",
          "Assign4"
         ]
        },
        {
         "marker": {
          "line": {
           "width": 2
          },
          "size": [
           0,
           1,
           0,
           1
          ],
          "sizemode": "area",
          "sizeref": 0.01,
          "symbol": "circle"
         },
         "mode": "markers",
         "name": "Student_17",
         "text": [
          "0",
          "1",
          "0",
          "1"
         ],
         "type": "scatter",
         "uid": "147efba4-e287-11e8-9490-d5f4ba98b039",
         "x": [
          "Student_17",
          "Student_17",
          "Student_17",
          "Student_17",
          "Student_17"
         ],
         "y": [
          "Assign1",
          "Assign2",
          "Assign3",
          "Assign4"
         ]
        },
        {
         "marker": {
          "line": {
           "width": 2
          },
          "size": [
           1,
           1,
           0,
           1
          ],
          "sizemode": "area",
          "sizeref": 0.01,
          "symbol": "circle"
         },
         "mode": "markers",
         "name": "Student_18",
         "text": [
          "1",
          "1",
          "0",
          "1"
         ],
         "type": "scatter",
         "uid": "147efc30-e287-11e8-9490-d5f4ba98b039",
         "x": [
          "Student_18",
          "Student_18",
          "Student_18",
          "Student_18",
          "Student_18"
         ],
         "y": [
          "Assign1",
          "Assign2",
          "Assign3",
          "Assign4"
         ]
        },
        {
         "marker": {
          "line": {
           "width": 2
          },
          "size": [
           1,
           1,
           1,
           1
          ],
          "sizemode": "area",
          "sizeref": 0.01,
          "symbol": "circle"
         },
         "mode": "markers",
         "name": "Student_19",
         "text": [
          "1",
          "1",
          "1",
          "1"
         ],
         "type": "scatter",
         "uid": "147efcb2-e287-11e8-9490-d5f4ba98b039",
         "x": [
          "Student_19",
          "Student_19",
          "Student_19",
          "Student_19",
          "Student_19"
         ],
         "y": [
          "Assign1",
          "Assign2",
          "Assign3",
          "Assign4"
         ]
        },
        {
         "marker": {
          "line": {
           "width": 2
          },
          "size": [
           0,
           0,
           1,
           0
          ],
          "sizemode": "area",
          "sizeref": 0.01,
          "symbol": "circle"
         },
         "mode": "markers",
         "name": "Student_20",
         "text": [
          "0",
          "0",
          "1",
          "0"
         ],
         "type": "scatter",
         "uid": "147efd2a-e287-11e8-9490-d5f4ba98b039",
         "x": [
          "Student_20",
          "Student_20",
          "Student_20",
          "Student_20",
          "Student_20"
         ],
         "y": [
          "Assign1",
          "Assign2",
          "Assign3",
          "Assign4"
         ]
        }
       ],
       "layout": {
        "hovermode": "closest",
        "showlegend": true,
        "title": "Atividades feitas por estudante",
        "xaxis": {
         "autorange": false,
         "fixedrange": false,
         "range": [
          -1,
          20
         ],
         "rangemode": "normal",
         "showline": true,
         "title": "Estudantes",
         "type": "category"
        },
        "yaxis": {
         "autorange": false,
         "categoryorder": "category ascending",
         "fixedrange": false,
         "range": [
          -1,
          4
         ],
         "rangemode": "normal",
         "showline": true,
         "title": "Atividades",
         "type": "category"
        }
       }
      },
      "text/html": [
       "<div id=\"efb7f573-6bef-4e1b-80cc-2a5a28061a5c\" style=\"height: 525px; width: 100%;\" class=\"plotly-graph-div\"></div><script type=\"text/javascript\">require([\"plotly\"], function(Plotly) { window.PLOTLYENV=window.PLOTLYENV || {};window.PLOTLYENV.BASE_URL=\"https://plot.ly\";Plotly.newPlot(\"efb7f573-6bef-4e1b-80cc-2a5a28061a5c\", [{\"marker\": {\"line\": {\"width\": 2}, \"size\": [1, 0, 1, 0], \"sizemode\": \"area\", \"sizeref\": 0.01, \"symbol\": \"circle\"}, \"mode\": \"markers\", \"name\": \"Student_1\", \"text\": [\"1\", \"0\", \"1\", \"0\"], \"x\": [\"Student_1\", \"Student_1\", \"Student_1\", \"Student_1\", \"Student_1\"], \"y\": [\"Assign1\", \"Assign2\", \"Assign3\", \"Assign4\"], \"type\": \"scatter\", \"uid\": \"147ef1a4-e287-11e8-9490-d5f4ba98b039\"}, {\"marker\": {\"line\": {\"width\": 2}, \"size\": [1, 0, 1, 0], \"sizemode\": \"area\", \"sizeref\": 0.01, \"symbol\": \"circle\"}, \"mode\": \"markers\", \"name\": \"Student_2\", \"text\": [\"1\", \"0\", \"1\", \"0\"], \"x\": [\"Student_2\", \"Student_2\", \"Student_2\", \"Student_2\", \"Student_2\"], \"y\": [\"Assign1\", \"Assign2\", \"Assign3\", \"Assign4\"], \"type\": \"scatter\", \"uid\": \"147ef334-e287-11e8-9490-d5f4ba98b039\"}, {\"marker\": {\"line\": {\"width\": 2}, \"size\": [1, 0, 1, 1], \"sizemode\": \"area\", \"sizeref\": 0.01, \"symbol\": \"circle\"}, \"mode\": \"markers\", \"name\": \"Student_3\", \"text\": [\"1\", \"0\", \"1\", \"1\"], \"x\": [\"Student_3\", \"Student_3\", \"Student_3\", \"Student_3\", \"Student_3\"], \"y\": [\"Assign1\", \"Assign2\", \"Assign3\", \"Assign4\"], \"type\": \"scatter\", \"uid\": \"147ef3fc-e287-11e8-9490-d5f4ba98b039\"}, {\"marker\": {\"line\": {\"width\": 2}, \"size\": [1, 1, 1, 0], \"sizemode\": \"area\", \"sizeref\": 0.01, \"symbol\": \"circle\"}, \"mode\": \"markers\", \"name\": \"Student_4\", \"text\": [\"1\", \"1\", \"1\", \"0\"], \"x\": [\"Student_4\", \"Student_4\", \"Student_4\", \"Student_4\", \"Student_4\"], \"y\": [\"Assign1\", \"Assign2\", \"Assign3\", \"Assign4\"], \"type\": \"scatter\", \"uid\": \"147ef49c-e287-11e8-9490-d5f4ba98b039\"}, {\"marker\": {\"line\": {\"width\": 2}, \"size\": [0, 1, 0, 1], \"sizemode\": \"area\", \"sizeref\": 0.01, \"symbol\": \"circle\"}, \"mode\": \"markers\", \"name\": \"Student_5\", \"text\": [\"0\", \"1\", \"0\", \"1\"], \"x\": [\"Student_5\", \"Student_5\", \"Student_5\", \"Student_5\", \"Student_5\"], \"y\": [\"Assign1\", \"Assign2\", \"Assign3\", \"Assign4\"], \"type\": \"scatter\", \"uid\": \"147ef532-e287-11e8-9490-d5f4ba98b039\"}, {\"marker\": {\"line\": {\"width\": 2}, \"size\": [1, 0, 0, 1], \"sizemode\": \"area\", \"sizeref\": 0.01, \"symbol\": \"circle\"}, \"mode\": \"markers\", \"name\": \"Student_6\", \"text\": [\"1\", \"0\", \"0\", \"1\"], \"x\": [\"Student_6\", \"Student_6\", \"Student_6\", \"Student_6\", \"Student_6\"], \"y\": [\"Assign1\", \"Assign2\", \"Assign3\", \"Assign4\"], \"type\": \"scatter\", \"uid\": \"147ef5be-e287-11e8-9490-d5f4ba98b039\"}, {\"marker\": {\"line\": {\"width\": 2}, \"size\": [1, 1, 0, 0], \"sizemode\": \"area\", \"sizeref\": 0.01, \"symbol\": \"circle\"}, \"mode\": \"markers\", \"name\": \"Student_7\", \"text\": [\"1\", \"1\", \"0\", \"0\"], \"x\": [\"Student_7\", \"Student_7\", \"Student_7\", \"Student_7\", \"Student_7\"], \"y\": [\"Assign1\", \"Assign2\", \"Assign3\", \"Assign4\"], \"type\": \"scatter\", \"uid\": \"147ef654-e287-11e8-9490-d5f4ba98b039\"}, {\"marker\": {\"line\": {\"width\": 2}, \"size\": [1, 1, 1, 0], \"sizemode\": \"area\", \"sizeref\": 0.01, \"symbol\": \"circle\"}, \"mode\": \"markers\", \"name\": \"Student_8\", \"text\": [\"1\", \"1\", \"1\", \"0\"], \"x\": [\"Student_8\", \"Student_8\", \"Student_8\", \"Student_8\", \"Student_8\"], \"y\": [\"Assign1\", \"Assign2\", \"Assign3\", \"Assign4\"], \"type\": \"scatter\", \"uid\": \"147ef6d6-e287-11e8-9490-d5f4ba98b039\"}, {\"marker\": {\"line\": {\"width\": 2}, \"size\": [0, 1, 0, 1], \"sizemode\": \"area\", \"sizeref\": 0.01, \"symbol\": \"circle\"}, \"mode\": \"markers\", \"name\": \"Student_9\", \"text\": [\"0\", \"1\", \"0\", \"1\"], \"x\": [\"Student_9\", \"Student_9\", \"Student_9\", \"Student_9\", \"Student_9\"], \"y\": [\"Assign1\", \"Assign2\", \"Assign3\", \"Assign4\"], \"type\": \"scatter\", \"uid\": \"147ef76c-e287-11e8-9490-d5f4ba98b039\"}, {\"marker\": {\"line\": {\"width\": 2}, \"size\": [1, 1, 1, 0], \"sizemode\": \"area\", \"sizeref\": 0.01, \"symbol\": \"circle\"}, \"mode\": \"markers\", \"name\": \"Student_10\", \"text\": [\"1\", \"1\", \"1\", \"0\"], \"x\": [\"Student_10\", \"Student_10\", \"Student_10\", \"Student_10\", \"Student_10\"], \"y\": [\"Assign1\", \"Assign2\", \"Assign3\", \"Assign4\"], \"type\": \"scatter\", \"uid\": \"147ef7f8-e287-11e8-9490-d5f4ba98b039\"}, {\"marker\": {\"line\": {\"width\": 2}, \"size\": [1, 0, 0, 0], \"sizemode\": \"area\", \"sizeref\": 0.01, \"symbol\": \"circle\"}, \"mode\": \"markers\", \"name\": \"Student_11\", \"text\": [\"1\", \"0\", \"0\", \"0\"], \"x\": [\"Student_11\", \"Student_11\", \"Student_11\", \"Student_11\", \"Student_11\"], \"y\": [\"Assign1\", \"Assign2\", \"Assign3\", \"Assign4\"], \"type\": \"scatter\", \"uid\": \"147ef87a-e287-11e8-9490-d5f4ba98b039\"}, {\"marker\": {\"line\": {\"width\": 2}, \"size\": [1, 1, 1, 1], \"sizemode\": \"area\", \"sizeref\": 0.01, \"symbol\": \"circle\"}, \"mode\": \"markers\", \"name\": \"Student_12\", \"text\": [\"1\", \"1\", \"1\", \"1\"], \"x\": [\"Student_12\", \"Student_12\", \"Student_12\", \"Student_12\", \"Student_12\"], \"y\": [\"Assign1\", \"Assign2\", \"Assign3\", \"Assign4\"], \"type\": \"scatter\", \"uid\": \"147ef906-e287-11e8-9490-d5f4ba98b039\"}, {\"marker\": {\"line\": {\"width\": 2}, \"size\": [0, 0, 1, 1], \"sizemode\": \"area\", \"sizeref\": 0.01, \"symbol\": \"circle\"}, \"mode\": \"markers\", \"name\": \"Student_13\", \"text\": [\"0\", \"0\", \"1\", \"1\"], \"x\": [\"Student_13\", \"Student_13\", \"Student_13\", \"Student_13\", \"Student_13\"], \"y\": [\"Assign1\", \"Assign2\", \"Assign3\", \"Assign4\"], \"type\": \"scatter\", \"uid\": \"147ef988-e287-11e8-9490-d5f4ba98b039\"}, {\"marker\": {\"line\": {\"width\": 2}, \"size\": [0, 0, 1, 1], \"sizemode\": \"area\", \"sizeref\": 0.01, \"symbol\": \"circle\"}, \"mode\": \"markers\", \"name\": \"Student_14\", \"text\": [\"0\", \"0\", \"1\", \"1\"], \"x\": [\"Student_14\", \"Student_14\", \"Student_14\", \"Student_14\", \"Student_14\"], \"y\": [\"Assign1\", \"Assign2\", \"Assign3\", \"Assign4\"], \"type\": \"scatter\", \"uid\": \"147efa14-e287-11e8-9490-d5f4ba98b039\"}, {\"marker\": {\"line\": {\"width\": 2}, \"size\": [0, 1, 1, 1], \"sizemode\": \"area\", \"sizeref\": 0.01, \"symbol\": \"circle\"}, \"mode\": \"markers\", \"name\": \"Student_15\", \"text\": [\"0\", \"1\", \"1\", \"1\"], \"x\": [\"Student_15\", \"Student_15\", \"Student_15\", \"Student_15\", \"Student_15\"], \"y\": [\"Assign1\", \"Assign2\", \"Assign3\", \"Assign4\"], \"type\": \"scatter\", \"uid\": \"147efaa0-e287-11e8-9490-d5f4ba98b039\"}, {\"marker\": {\"line\": {\"width\": 2}, \"size\": [1, 1, 0, 0], \"sizemode\": \"area\", \"sizeref\": 0.01, \"symbol\": \"circle\"}, \"mode\": \"markers\", \"name\": \"Student_16\", \"text\": [\"1\", \"1\", \"0\", \"0\"], \"x\": [\"Student_16\", \"Student_16\", \"Student_16\", \"Student_16\", \"Student_16\"], \"y\": [\"Assign1\", \"Assign2\", \"Assign3\", \"Assign4\"], \"type\": \"scatter\", \"uid\": \"147efb22-e287-11e8-9490-d5f4ba98b039\"}, {\"marker\": {\"line\": {\"width\": 2}, \"size\": [0, 1, 0, 1], \"sizemode\": \"area\", \"sizeref\": 0.01, \"symbol\": \"circle\"}, \"mode\": \"markers\", \"name\": \"Student_17\", \"text\": [\"0\", \"1\", \"0\", \"1\"], \"x\": [\"Student_17\", \"Student_17\", \"Student_17\", \"Student_17\", \"Student_17\"], \"y\": [\"Assign1\", \"Assign2\", \"Assign3\", \"Assign4\"], \"type\": \"scatter\", \"uid\": \"147efba4-e287-11e8-9490-d5f4ba98b039\"}, {\"marker\": {\"line\": {\"width\": 2}, \"size\": [1, 1, 0, 1], \"sizemode\": \"area\", \"sizeref\": 0.01, \"symbol\": \"circle\"}, \"mode\": \"markers\", \"name\": \"Student_18\", \"text\": [\"1\", \"1\", \"0\", \"1\"], \"x\": [\"Student_18\", \"Student_18\", \"Student_18\", \"Student_18\", \"Student_18\"], \"y\": [\"Assign1\", \"Assign2\", \"Assign3\", \"Assign4\"], \"type\": \"scatter\", \"uid\": \"147efc30-e287-11e8-9490-d5f4ba98b039\"}, {\"marker\": {\"line\": {\"width\": 2}, \"size\": [1, 1, 1, 1], \"sizemode\": \"area\", \"sizeref\": 0.01, \"symbol\": \"circle\"}, \"mode\": \"markers\", \"name\": \"Student_19\", \"text\": [\"1\", \"1\", \"1\", \"1\"], \"x\": [\"Student_19\", \"Student_19\", \"Student_19\", \"Student_19\", \"Student_19\"], \"y\": [\"Assign1\", \"Assign2\", \"Assign3\", \"Assign4\"], \"type\": \"scatter\", \"uid\": \"147efcb2-e287-11e8-9490-d5f4ba98b039\"}, {\"marker\": {\"line\": {\"width\": 2}, \"size\": [0, 0, 1, 0], \"sizemode\": \"area\", \"sizeref\": 0.01, \"symbol\": \"circle\"}, \"mode\": \"markers\", \"name\": \"Student_20\", \"text\": [\"0\", \"0\", \"1\", \"0\"], \"x\": [\"Student_20\", \"Student_20\", \"Student_20\", \"Student_20\", \"Student_20\"], \"y\": [\"Assign1\", \"Assign2\", \"Assign3\", \"Assign4\"], \"type\": \"scatter\", \"uid\": \"147efd2a-e287-11e8-9490-d5f4ba98b039\"}], {\"hovermode\": \"closest\", \"showlegend\": true, \"title\": \"Atividades feitas por estudante\", \"xaxis\": {\"autorange\": false, \"fixedrange\": false, \"range\": [-1, 20], \"rangemode\": \"normal\", \"showline\": true, \"title\": \"Estudantes\", \"type\": \"category\"}, \"yaxis\": {\"autorange\": false, \"categoryorder\": \"category ascending\", \"fixedrange\": false, \"range\": [-1, 4], \"rangemode\": \"normal\", \"showline\": true, \"title\": \"Atividades\", \"type\": \"category\"}}, {\"showLink\": true, \"linkText\": \"Export to plot.ly\"})});</script>"
      ],
      "text/vnd.plotly.v1+html": [
       "<div id=\"efb7f573-6bef-4e1b-80cc-2a5a28061a5c\" style=\"height: 525px; width: 100%;\" class=\"plotly-graph-div\"></div><script type=\"text/javascript\">require([\"plotly\"], function(Plotly) { window.PLOTLYENV=window.PLOTLYENV || {};window.PLOTLYENV.BASE_URL=\"https://plot.ly\";Plotly.newPlot(\"efb7f573-6bef-4e1b-80cc-2a5a28061a5c\", [{\"marker\": {\"line\": {\"width\": 2}, \"size\": [1, 0, 1, 0], \"sizemode\": \"area\", \"sizeref\": 0.01, \"symbol\": \"circle\"}, \"mode\": \"markers\", \"name\": \"Student_1\", \"text\": [\"1\", \"0\", \"1\", \"0\"], \"x\": [\"Student_1\", \"Student_1\", \"Student_1\", \"Student_1\", \"Student_1\"], \"y\": [\"Assign1\", \"Assign2\", \"Assign3\", \"Assign4\"], \"type\": \"scatter\", \"uid\": \"147ef1a4-e287-11e8-9490-d5f4ba98b039\"}, {\"marker\": {\"line\": {\"width\": 2}, \"size\": [1, 0, 1, 0], \"sizemode\": \"area\", \"sizeref\": 0.01, \"symbol\": \"circle\"}, \"mode\": \"markers\", \"name\": \"Student_2\", \"text\": [\"1\", \"0\", \"1\", \"0\"], \"x\": [\"Student_2\", \"Student_2\", \"Student_2\", \"Student_2\", \"Student_2\"], \"y\": [\"Assign1\", \"Assign2\", \"Assign3\", \"Assign4\"], \"type\": \"scatter\", \"uid\": \"147ef334-e287-11e8-9490-d5f4ba98b039\"}, {\"marker\": {\"line\": {\"width\": 2}, \"size\": [1, 0, 1, 1], \"sizemode\": \"area\", \"sizeref\": 0.01, \"symbol\": \"circle\"}, \"mode\": \"markers\", \"name\": \"Student_3\", \"text\": [\"1\", \"0\", \"1\", \"1\"], \"x\": [\"Student_3\", \"Student_3\", \"Student_3\", \"Student_3\", \"Student_3\"], \"y\": [\"Assign1\", \"Assign2\", \"Assign3\", \"Assign4\"], \"type\": \"scatter\", \"uid\": \"147ef3fc-e287-11e8-9490-d5f4ba98b039\"}, {\"marker\": {\"line\": {\"width\": 2}, \"size\": [1, 1, 1, 0], \"sizemode\": \"area\", \"sizeref\": 0.01, \"symbol\": \"circle\"}, \"mode\": \"markers\", \"name\": \"Student_4\", \"text\": [\"1\", \"1\", \"1\", \"0\"], \"x\": [\"Student_4\", \"Student_4\", \"Student_4\", \"Student_4\", \"Student_4\"], \"y\": [\"Assign1\", \"Assign2\", \"Assign3\", \"Assign4\"], \"type\": \"scatter\", \"uid\": \"147ef49c-e287-11e8-9490-d5f4ba98b039\"}, {\"marker\": {\"line\": {\"width\": 2}, \"size\": [0, 1, 0, 1], \"sizemode\": \"area\", \"sizeref\": 0.01, \"symbol\": \"circle\"}, \"mode\": \"markers\", \"name\": \"Student_5\", \"text\": [\"0\", \"1\", \"0\", \"1\"], \"x\": [\"Student_5\", \"Student_5\", \"Student_5\", \"Student_5\", \"Student_5\"], \"y\": [\"Assign1\", \"Assign2\", \"Assign3\", \"Assign4\"], \"type\": \"scatter\", \"uid\": \"147ef532-e287-11e8-9490-d5f4ba98b039\"}, {\"marker\": {\"line\": {\"width\": 2}, \"size\": [1, 0, 0, 1], \"sizemode\": \"area\", \"sizeref\": 0.01, \"symbol\": \"circle\"}, \"mode\": \"markers\", \"name\": \"Student_6\", \"text\": [\"1\", \"0\", \"0\", \"1\"], \"x\": [\"Student_6\", \"Student_6\", \"Student_6\", \"Student_6\", \"Student_6\"], \"y\": [\"Assign1\", \"Assign2\", \"Assign3\", \"Assign4\"], \"type\": \"scatter\", \"uid\": \"147ef5be-e287-11e8-9490-d5f4ba98b039\"}, {\"marker\": {\"line\": {\"width\": 2}, \"size\": [1, 1, 0, 0], \"sizemode\": \"area\", \"sizeref\": 0.01, \"symbol\": \"circle\"}, \"mode\": \"markers\", \"name\": \"Student_7\", \"text\": [\"1\", \"1\", \"0\", \"0\"], \"x\": [\"Student_7\", \"Student_7\", \"Student_7\", \"Student_7\", \"Student_7\"], \"y\": [\"Assign1\", \"Assign2\", \"Assign3\", \"Assign4\"], \"type\": \"scatter\", \"uid\": \"147ef654-e287-11e8-9490-d5f4ba98b039\"}, {\"marker\": {\"line\": {\"width\": 2}, \"size\": [1, 1, 1, 0], \"sizemode\": \"area\", \"sizeref\": 0.01, \"symbol\": \"circle\"}, \"mode\": \"markers\", \"name\": \"Student_8\", \"text\": [\"1\", \"1\", \"1\", \"0\"], \"x\": [\"Student_8\", \"Student_8\", \"Student_8\", \"Student_8\", \"Student_8\"], \"y\": [\"Assign1\", \"Assign2\", \"Assign3\", \"Assign4\"], \"type\": \"scatter\", \"uid\": \"147ef6d6-e287-11e8-9490-d5f4ba98b039\"}, {\"marker\": {\"line\": {\"width\": 2}, \"size\": [0, 1, 0, 1], \"sizemode\": \"area\", \"sizeref\": 0.01, \"symbol\": \"circle\"}, \"mode\": \"markers\", \"name\": \"Student_9\", \"text\": [\"0\", \"1\", \"0\", \"1\"], \"x\": [\"Student_9\", \"Student_9\", \"Student_9\", \"Student_9\", \"Student_9\"], \"y\": [\"Assign1\", \"Assign2\", \"Assign3\", \"Assign4\"], \"type\": \"scatter\", \"uid\": \"147ef76c-e287-11e8-9490-d5f4ba98b039\"}, {\"marker\": {\"line\": {\"width\": 2}, \"size\": [1, 1, 1, 0], \"sizemode\": \"area\", \"sizeref\": 0.01, \"symbol\": \"circle\"}, \"mode\": \"markers\", \"name\": \"Student_10\", \"text\": [\"1\", \"1\", \"1\", \"0\"], \"x\": [\"Student_10\", \"Student_10\", \"Student_10\", \"Student_10\", \"Student_10\"], \"y\": [\"Assign1\", \"Assign2\", \"Assign3\", \"Assign4\"], \"type\": \"scatter\", \"uid\": \"147ef7f8-e287-11e8-9490-d5f4ba98b039\"}, {\"marker\": {\"line\": {\"width\": 2}, \"size\": [1, 0, 0, 0], \"sizemode\": \"area\", \"sizeref\": 0.01, \"symbol\": \"circle\"}, \"mode\": \"markers\", \"name\": \"Student_11\", \"text\": [\"1\", \"0\", \"0\", \"0\"], \"x\": [\"Student_11\", \"Student_11\", \"Student_11\", \"Student_11\", \"Student_11\"], \"y\": [\"Assign1\", \"Assign2\", \"Assign3\", \"Assign4\"], \"type\": \"scatter\", \"uid\": \"147ef87a-e287-11e8-9490-d5f4ba98b039\"}, {\"marker\": {\"line\": {\"width\": 2}, \"size\": [1, 1, 1, 1], \"sizemode\": \"area\", \"sizeref\": 0.01, \"symbol\": \"circle\"}, \"mode\": \"markers\", \"name\": \"Student_12\", \"text\": [\"1\", \"1\", \"1\", \"1\"], \"x\": [\"Student_12\", \"Student_12\", \"Student_12\", \"Student_12\", \"Student_12\"], \"y\": [\"Assign1\", \"Assign2\", \"Assign3\", \"Assign4\"], \"type\": \"scatter\", \"uid\": \"147ef906-e287-11e8-9490-d5f4ba98b039\"}, {\"marker\": {\"line\": {\"width\": 2}, \"size\": [0, 0, 1, 1], \"sizemode\": \"area\", \"sizeref\": 0.01, \"symbol\": \"circle\"}, \"mode\": \"markers\", \"name\": \"Student_13\", \"text\": [\"0\", \"0\", \"1\", \"1\"], \"x\": [\"Student_13\", \"Student_13\", \"Student_13\", \"Student_13\", \"Student_13\"], \"y\": [\"Assign1\", \"Assign2\", \"Assign3\", \"Assign4\"], \"type\": \"scatter\", \"uid\": \"147ef988-e287-11e8-9490-d5f4ba98b039\"}, {\"marker\": {\"line\": {\"width\": 2}, \"size\": [0, 0, 1, 1], \"sizemode\": \"area\", \"sizeref\": 0.01, \"symbol\": \"circle\"}, \"mode\": \"markers\", \"name\": \"Student_14\", \"text\": [\"0\", \"0\", \"1\", \"1\"], \"x\": [\"Student_14\", \"Student_14\", \"Student_14\", \"Student_14\", \"Student_14\"], \"y\": [\"Assign1\", \"Assign2\", \"Assign3\", \"Assign4\"], \"type\": \"scatter\", \"uid\": \"147efa14-e287-11e8-9490-d5f4ba98b039\"}, {\"marker\": {\"line\": {\"width\": 2}, \"size\": [0, 1, 1, 1], \"sizemode\": \"area\", \"sizeref\": 0.01, \"symbol\": \"circle\"}, \"mode\": \"markers\", \"name\": \"Student_15\", \"text\": [\"0\", \"1\", \"1\", \"1\"], \"x\": [\"Student_15\", \"Student_15\", \"Student_15\", \"Student_15\", \"Student_15\"], \"y\": [\"Assign1\", \"Assign2\", \"Assign3\", \"Assign4\"], \"type\": \"scatter\", \"uid\": \"147efaa0-e287-11e8-9490-d5f4ba98b039\"}, {\"marker\": {\"line\": {\"width\": 2}, \"size\": [1, 1, 0, 0], \"sizemode\": \"area\", \"sizeref\": 0.01, \"symbol\": \"circle\"}, \"mode\": \"markers\", \"name\": \"Student_16\", \"text\": [\"1\", \"1\", \"0\", \"0\"], \"x\": [\"Student_16\", \"Student_16\", \"Student_16\", \"Student_16\", \"Student_16\"], \"y\": [\"Assign1\", \"Assign2\", \"Assign3\", \"Assign4\"], \"type\": \"scatter\", \"uid\": \"147efb22-e287-11e8-9490-d5f4ba98b039\"}, {\"marker\": {\"line\": {\"width\": 2}, \"size\": [0, 1, 0, 1], \"sizemode\": \"area\", \"sizeref\": 0.01, \"symbol\": \"circle\"}, \"mode\": \"markers\", \"name\": \"Student_17\", \"text\": [\"0\", \"1\", \"0\", \"1\"], \"x\": [\"Student_17\", \"Student_17\", \"Student_17\", \"Student_17\", \"Student_17\"], \"y\": [\"Assign1\", \"Assign2\", \"Assign3\", \"Assign4\"], \"type\": \"scatter\", \"uid\": \"147efba4-e287-11e8-9490-d5f4ba98b039\"}, {\"marker\": {\"line\": {\"width\": 2}, \"size\": [1, 1, 0, 1], \"sizemode\": \"area\", \"sizeref\": 0.01, \"symbol\": \"circle\"}, \"mode\": \"markers\", \"name\": \"Student_18\", \"text\": [\"1\", \"1\", \"0\", \"1\"], \"x\": [\"Student_18\", \"Student_18\", \"Student_18\", \"Student_18\", \"Student_18\"], \"y\": [\"Assign1\", \"Assign2\", \"Assign3\", \"Assign4\"], \"type\": \"scatter\", \"uid\": \"147efc30-e287-11e8-9490-d5f4ba98b039\"}, {\"marker\": {\"line\": {\"width\": 2}, \"size\": [1, 1, 1, 1], \"sizemode\": \"area\", \"sizeref\": 0.01, \"symbol\": \"circle\"}, \"mode\": \"markers\", \"name\": \"Student_19\", \"text\": [\"1\", \"1\", \"1\", \"1\"], \"x\": [\"Student_19\", \"Student_19\", \"Student_19\", \"Student_19\", \"Student_19\"], \"y\": [\"Assign1\", \"Assign2\", \"Assign3\", \"Assign4\"], \"type\": \"scatter\", \"uid\": \"147efcb2-e287-11e8-9490-d5f4ba98b039\"}, {\"marker\": {\"line\": {\"width\": 2}, \"size\": [0, 0, 1, 0], \"sizemode\": \"area\", \"sizeref\": 0.01, \"symbol\": \"circle\"}, \"mode\": \"markers\", \"name\": \"Student_20\", \"text\": [\"0\", \"0\", \"1\", \"0\"], \"x\": [\"Student_20\", \"Student_20\", \"Student_20\", \"Student_20\", \"Student_20\"], \"y\": [\"Assign1\", \"Assign2\", \"Assign3\", \"Assign4\"], \"type\": \"scatter\", \"uid\": \"147efd2a-e287-11e8-9490-d5f4ba98b039\"}], {\"hovermode\": \"closest\", \"showlegend\": true, \"title\": \"Atividades feitas por estudante\", \"xaxis\": {\"autorange\": false, \"fixedrange\": false, \"range\": [-1, 20], \"rangemode\": \"normal\", \"showline\": true, \"title\": \"Estudantes\", \"type\": \"category\"}, \"yaxis\": {\"autorange\": false, \"categoryorder\": \"category ascending\", \"fixedrange\": false, \"range\": [-1, 4], \"rangemode\": \"normal\", \"showline\": true, \"title\": \"Atividades\", \"type\": \"category\"}}, {\"showLink\": true, \"linkText\": \"Export to plot.ly\"})});</script>"
      ]
     },
     "metadata": {},
     "output_type": "display_data"
    },
    {
     "data": {
      "application/vnd.plotly.v1+json": {
       "data": [
        {
         "colorscale": [
          [
           0,
           "rgb(255,255,255)"
          ],
          [
           1,
           "rgb(0,0,255)"
          ]
         ],
         "type": "heatmap",
         "uid": "1483da8e-e287-11e8-9490-d5f4ba98b039",
         "x": [
          "Assign1",
          "Assign2",
          "Assign3",
          "Assign4"
         ],
         "y": [
          "Student_1",
          "Student_2",
          "Student_3",
          "Student_4",
          "Student_5",
          "Student_6",
          "Student_7",
          "Student_8",
          "Student_9",
          "Student_10",
          "Student_11",
          "Student_12",
          "Student_13",
          "Student_14",
          "Student_15",
          "Student_16",
          "Student_17",
          "Student_18",
          "Student_19",
          "Student_20"
         ],
         "z": [
          [
           1,
           0,
           1,
           0
          ],
          [
           1,
           0,
           1,
           0
          ],
          [
           1,
           0,
           1,
           1
          ],
          [
           1,
           1,
           1,
           0
          ],
          [
           0,
           1,
           0,
           1
          ],
          [
           1,
           0,
           0,
           1
          ],
          [
           1,
           1,
           0,
           0
          ],
          [
           1,
           1,
           1,
           0
          ],
          [
           0,
           1,
           0,
           1
          ],
          [
           1,
           1,
           1,
           0
          ],
          [
           1,
           0,
           0,
           0
          ],
          [
           1,
           1,
           1,
           1
          ],
          [
           0,
           0,
           1,
           1
          ],
          [
           0,
           0,
           1,
           1
          ],
          [
           0,
           1,
           1,
           1
          ],
          [
           1,
           1,
           0,
           0
          ],
          [
           0,
           1,
           0,
           1
          ],
          [
           1,
           1,
           0,
           1
          ],
          [
           1,
           1,
           1,
           1
          ],
          [
           0,
           0,
           1,
           0
          ]
         ]
        }
       ],
       "layout": {
        "title": "Atividades feitas por estudante",
        "yaxis": {
         "dtick": 1,
         "exponentformat": "e",
         "gridcolor": "#bdbdbd",
         "showexponent": "all",
         "showticklabels": true,
         "tick0": 0,
         "titlefont": {
          "color": "lightgrey",
          "family": "Arial, sans-serif"
         }
        }
       }
      },
      "text/html": [
       "<div id=\"742f4169-4f5a-4c51-bc43-f63d32feb1b7\" style=\"height: 525px; width: 100%;\" class=\"plotly-graph-div\"></div><script type=\"text/javascript\">require([\"plotly\"], function(Plotly) { window.PLOTLYENV=window.PLOTLYENV || {};window.PLOTLYENV.BASE_URL=\"https://plot.ly\";Plotly.newPlot(\"742f4169-4f5a-4c51-bc43-f63d32feb1b7\", [{\"colorscale\": [[0, \"rgb(255,255,255)\"], [1, \"rgb(0,0,255)\"]], \"x\": [\"Assign1\", \"Assign2\", \"Assign3\", \"Assign4\"], \"y\": [\"Student_1\", \"Student_2\", \"Student_3\", \"Student_4\", \"Student_5\", \"Student_6\", \"Student_7\", \"Student_8\", \"Student_9\", \"Student_10\", \"Student_11\", \"Student_12\", \"Student_13\", \"Student_14\", \"Student_15\", \"Student_16\", \"Student_17\", \"Student_18\", \"Student_19\", \"Student_20\"], \"z\": [[1, 0, 1, 0], [1, 0, 1, 0], [1, 0, 1, 1], [1, 1, 1, 0], [0, 1, 0, 1], [1, 0, 0, 1], [1, 1, 0, 0], [1, 1, 1, 0], [0, 1, 0, 1], [1, 1, 1, 0], [1, 0, 0, 0], [1, 1, 1, 1], [0, 0, 1, 1], [0, 0, 1, 1], [0, 1, 1, 1], [1, 1, 0, 0], [0, 1, 0, 1], [1, 1, 0, 1], [1, 1, 1, 1], [0, 0, 1, 0]], \"type\": \"heatmap\", \"uid\": \"1483da8e-e287-11e8-9490-d5f4ba98b039\"}], {\"title\": \"Atividades feitas por estudante\", \"yaxis\": {\"dtick\": 1, \"exponentformat\": \"e\", \"gridcolor\": \"#bdbdbd\", \"showexponent\": \"all\", \"showticklabels\": true, \"tick0\": 0, \"titlefont\": {\"color\": \"lightgrey\", \"family\": \"Arial, sans-serif\"}}}, {\"showLink\": true, \"linkText\": \"Export to plot.ly\"})});</script>"
      ],
      "text/vnd.plotly.v1+html": [
       "<div id=\"742f4169-4f5a-4c51-bc43-f63d32feb1b7\" style=\"height: 525px; width: 100%;\" class=\"plotly-graph-div\"></div><script type=\"text/javascript\">require([\"plotly\"], function(Plotly) { window.PLOTLYENV=window.PLOTLYENV || {};window.PLOTLYENV.BASE_URL=\"https://plot.ly\";Plotly.newPlot(\"742f4169-4f5a-4c51-bc43-f63d32feb1b7\", [{\"colorscale\": [[0, \"rgb(255,255,255)\"], [1, \"rgb(0,0,255)\"]], \"x\": [\"Assign1\", \"Assign2\", \"Assign3\", \"Assign4\"], \"y\": [\"Student_1\", \"Student_2\", \"Student_3\", \"Student_4\", \"Student_5\", \"Student_6\", \"Student_7\", \"Student_8\", \"Student_9\", \"Student_10\", \"Student_11\", \"Student_12\", \"Student_13\", \"Student_14\", \"Student_15\", \"Student_16\", \"Student_17\", \"Student_18\", \"Student_19\", \"Student_20\"], \"z\": [[1, 0, 1, 0], [1, 0, 1, 0], [1, 0, 1, 1], [1, 1, 1, 0], [0, 1, 0, 1], [1, 0, 0, 1], [1, 1, 0, 0], [1, 1, 1, 0], [0, 1, 0, 1], [1, 1, 1, 0], [1, 0, 0, 0], [1, 1, 1, 1], [0, 0, 1, 1], [0, 0, 1, 1], [0, 1, 1, 1], [1, 1, 0, 0], [0, 1, 0, 1], [1, 1, 0, 1], [1, 1, 1, 1], [0, 0, 1, 0]], \"type\": \"heatmap\", \"uid\": \"1483da8e-e287-11e8-9490-d5f4ba98b039\"}], {\"title\": \"Atividades feitas por estudante\", \"yaxis\": {\"dtick\": 1, \"exponentformat\": \"e\", \"gridcolor\": \"#bdbdbd\", \"showexponent\": \"all\", \"showticklabels\": true, \"tick0\": 0, \"titlefont\": {\"color\": \"lightgrey\", \"family\": \"Arial, sans-serif\"}}}, {\"showLink\": true, \"linkText\": \"Export to plot.ly\"})});</script>"
      ]
     },
     "metadata": {},
     "output_type": "display_data"
    }
   ],
   "source": [
    "run scripts/V001.py"
   ]
  },
  {
   "cell_type": "markdown",
   "metadata": {},
   "source": [
    "### View 002"
   ]
  },
  {
   "cell_type": "code",
   "execution_count": 245,
   "metadata": {
    "scrolled": false
   },
   "outputs": [
    {
     "data": {
      "text/html": [
       "<script>requirejs.config({paths: { 'plotly': ['https://cdn.plot.ly/plotly-latest.min']},});if(!window.Plotly) {{require(['plotly'],function(plotly) {window.Plotly=plotly;});}}</script>"
      ],
      "text/vnd.plotly.v1+html": [
       "<script>requirejs.config({paths: { 'plotly': ['https://cdn.plot.ly/plotly-latest.min']},});if(!window.Plotly) {{require(['plotly'],function(plotly) {window.Plotly=plotly;});}}</script>"
      ]
     },
     "metadata": {},
     "output_type": "display_data"
    },
    {
     "data": {
      "application/vnd.plotly.v1+json": {
       "data": [
        {
         "cells": {
          "align": [
           "left",
           "center"
          ],
          "fill": {
           "color": "#F5F8FF"
          },
          "values": [
           [
            "Student_1",
            "Student_2",
            "Student_3",
            "Student_4",
            "Student_5",
            "Student_6",
            "Student_7",
            "Student_8",
            "Student_9",
            "Student_10",
            "Student_11",
            "Student_12",
            "Student_13",
            "Student_14",
            "Student_15",
            "Student_16",
            "Student_17",
            "Student_18",
            "Student_19",
            "Student_20"
           ],
           [
            9,
            22,
            23,
            21,
            20,
            1,
            19,
            7,
            24,
            14,
            22,
            26,
            17,
            9,
            14,
            25,
            12,
            19,
            7,
            6
           ],
           [
            17,
            12,
            5,
            23,
            26,
            9,
            12,
            1,
            22,
            10,
            19,
            29,
            1,
            26,
            17,
            0,
            17,
            11,
            7,
            17
           ],
           [
            24,
            25,
            0,
            20,
            13,
            2,
            29,
            5,
            12,
            3,
            8,
            6,
            2,
            12,
            9,
            1,
            19,
            6,
            17,
            3
           ],
           [
            14,
            9,
            12,
            18,
            14,
            17,
            0,
            21,
            11,
            24,
            24,
            9,
            8,
            25,
            16,
            15,
            16,
            20,
            22,
            16
           ],
           [
            19,
            3,
            29,
            3,
            9,
            27,
            2,
            2,
            7,
            23,
            23,
            28,
            8,
            15,
            6,
            12,
            20,
            19,
            7,
            14
           ],
           [
            10,
            15,
            2,
            2,
            8,
            2,
            6,
            7,
            4,
            22,
            6,
            4,
            0,
            8,
            9,
            9,
            24,
            11,
            21,
            29
           ],
           [
            1,
            13,
            0,
            22,
            1,
            4,
            0,
            17,
            18,
            9,
            22,
            10,
            4,
            14,
            15,
            12,
            2,
            8,
            12,
            9
           ],
           [
            26,
            23,
            12,
            12,
            29,
            14,
            10,
            9,
            19,
            2,
            5,
            9,
            25,
            18,
            25,
            3,
            9,
            0,
            23,
            2
           ]
          ]
         },
         "header": {
          "align": "center",
          "fill": {
           "color": "#C2D4FF"
          },
          "values": [
           "Students",
           "Video1",
           "Video2",
           "Quiz1",
           "Quiz2",
           "Pdf1",
           "Pdf2",
           "Ebook1",
           "Ebook2"
          ]
         },
         "type": "table",
         "uid": "c93d04ce-e29a-11e8-9490-d5f4ba98b039"
        }
       ],
       "layout": {}
      },
      "text/html": [
       "<div id=\"83f95983-7134-4148-b2ae-5b9935caeabb\" style=\"height: 525px; width: 100%;\" class=\"plotly-graph-div\"></div><script type=\"text/javascript\">require([\"plotly\"], function(Plotly) { window.PLOTLYENV=window.PLOTLYENV || {};window.PLOTLYENV.BASE_URL=\"https://plot.ly\";Plotly.newPlot(\"83f95983-7134-4148-b2ae-5b9935caeabb\", [{\"cells\": {\"align\": [\"left\", \"center\"], \"fill\": {\"color\": \"#F5F8FF\"}, \"values\": [[\"Student_1\", \"Student_2\", \"Student_3\", \"Student_4\", \"Student_5\", \"Student_6\", \"Student_7\", \"Student_8\", \"Student_9\", \"Student_10\", \"Student_11\", \"Student_12\", \"Student_13\", \"Student_14\", \"Student_15\", \"Student_16\", \"Student_17\", \"Student_18\", \"Student_19\", \"Student_20\"], [9, 22, 23, 21, 20, 1, 19, 7, 24, 14, 22, 26, 17, 9, 14, 25, 12, 19, 7, 6], [17, 12, 5, 23, 26, 9, 12, 1, 22, 10, 19, 29, 1, 26, 17, 0, 17, 11, 7, 17], [24, 25, 0, 20, 13, 2, 29, 5, 12, 3, 8, 6, 2, 12, 9, 1, 19, 6, 17, 3], [14, 9, 12, 18, 14, 17, 0, 21, 11, 24, 24, 9, 8, 25, 16, 15, 16, 20, 22, 16], [19, 3, 29, 3, 9, 27, 2, 2, 7, 23, 23, 28, 8, 15, 6, 12, 20, 19, 7, 14], [10, 15, 2, 2, 8, 2, 6, 7, 4, 22, 6, 4, 0, 8, 9, 9, 24, 11, 21, 29], [1, 13, 0, 22, 1, 4, 0, 17, 18, 9, 22, 10, 4, 14, 15, 12, 2, 8, 12, 9], [26, 23, 12, 12, 29, 14, 10, 9, 19, 2, 5, 9, 25, 18, 25, 3, 9, 0, 23, 2]]}, \"header\": {\"align\": \"center\", \"fill\": {\"color\": \"#C2D4FF\"}, \"values\": [\"Students\", \"Video1\", \"Video2\", \"Quiz1\", \"Quiz2\", \"Pdf1\", \"Pdf2\", \"Ebook1\", \"Ebook2\"]}, \"type\": \"table\", \"uid\": \"c93f48c4-e29a-11e8-9490-d5f4ba98b039\"}], {}, {\"showLink\": true, \"linkText\": \"Export to plot.ly\"})});</script>"
      ],
      "text/vnd.plotly.v1+html": [
       "<div id=\"83f95983-7134-4148-b2ae-5b9935caeabb\" style=\"height: 525px; width: 100%;\" class=\"plotly-graph-div\"></div><script type=\"text/javascript\">require([\"plotly\"], function(Plotly) { window.PLOTLYENV=window.PLOTLYENV || {};window.PLOTLYENV.BASE_URL=\"https://plot.ly\";Plotly.newPlot(\"83f95983-7134-4148-b2ae-5b9935caeabb\", [{\"cells\": {\"align\": [\"left\", \"center\"], \"fill\": {\"color\": \"#F5F8FF\"}, \"values\": [[\"Student_1\", \"Student_2\", \"Student_3\", \"Student_4\", \"Student_5\", \"Student_6\", \"Student_7\", \"Student_8\", \"Student_9\", \"Student_10\", \"Student_11\", \"Student_12\", \"Student_13\", \"Student_14\", \"Student_15\", \"Student_16\", \"Student_17\", \"Student_18\", \"Student_19\", \"Student_20\"], [9, 22, 23, 21, 20, 1, 19, 7, 24, 14, 22, 26, 17, 9, 14, 25, 12, 19, 7, 6], [17, 12, 5, 23, 26, 9, 12, 1, 22, 10, 19, 29, 1, 26, 17, 0, 17, 11, 7, 17], [24, 25, 0, 20, 13, 2, 29, 5, 12, 3, 8, 6, 2, 12, 9, 1, 19, 6, 17, 3], [14, 9, 12, 18, 14, 17, 0, 21, 11, 24, 24, 9, 8, 25, 16, 15, 16, 20, 22, 16], [19, 3, 29, 3, 9, 27, 2, 2, 7, 23, 23, 28, 8, 15, 6, 12, 20, 19, 7, 14], [10, 15, 2, 2, 8, 2, 6, 7, 4, 22, 6, 4, 0, 8, 9, 9, 24, 11, 21, 29], [1, 13, 0, 22, 1, 4, 0, 17, 18, 9, 22, 10, 4, 14, 15, 12, 2, 8, 12, 9], [26, 23, 12, 12, 29, 14, 10, 9, 19, 2, 5, 9, 25, 18, 25, 3, 9, 0, 23, 2]]}, \"header\": {\"align\": \"center\", \"fill\": {\"color\": \"#C2D4FF\"}, \"values\": [\"Students\", \"Video1\", \"Video2\", \"Quiz1\", \"Quiz2\", \"Pdf1\", \"Pdf2\", \"Ebook1\", \"Ebook2\"]}, \"type\": \"table\", \"uid\": \"c93f48c4-e29a-11e8-9490-d5f4ba98b039\"}], {}, {\"showLink\": true, \"linkText\": \"Export to plot.ly\"})});</script>"
      ]
     },
     "metadata": {},
     "output_type": "display_data"
    },
    {
     "data": {
      "application/vnd.plotly.v1+json": {
       "data": [
        {
         "name": "Video1",
         "type": "bar",
         "uid": "c9539554-e29a-11e8-9490-d5f4ba98b039",
         "x": [
          "Student_1",
          "Student_2",
          "Student_3",
          "Student_4",
          "Student_5",
          "Student_6",
          "Student_7",
          "Student_8",
          "Student_9",
          "Student_10",
          "Student_11",
          "Student_12",
          "Student_13",
          "Student_14",
          "Student_15",
          "Student_16",
          "Student_17",
          "Student_18",
          "Student_19",
          "Student_20"
         ],
         "y": [
          9,
          22,
          23,
          21,
          20,
          1,
          19,
          7,
          24,
          14,
          22,
          26,
          17,
          9,
          14,
          25,
          12,
          19,
          7,
          6
         ]
        },
        {
         "name": "Video2",
         "type": "bar",
         "uid": "c95397f2-e29a-11e8-9490-d5f4ba98b039",
         "x": [
          "Student_1",
          "Student_2",
          "Student_3",
          "Student_4",
          "Student_5",
          "Student_6",
          "Student_7",
          "Student_8",
          "Student_9",
          "Student_10",
          "Student_11",
          "Student_12",
          "Student_13",
          "Student_14",
          "Student_15",
          "Student_16",
          "Student_17",
          "Student_18",
          "Student_19",
          "Student_20"
         ],
         "y": [
          17,
          12,
          5,
          23,
          26,
          9,
          12,
          1,
          22,
          10,
          19,
          29,
          1,
          26,
          17,
          0,
          17,
          11,
          7,
          17
         ]
        },
        {
         "name": "Quiz1",
         "type": "bar",
         "uid": "c9539982-e29a-11e8-9490-d5f4ba98b039",
         "x": [
          "Student_1",
          "Student_2",
          "Student_3",
          "Student_4",
          "Student_5",
          "Student_6",
          "Student_7",
          "Student_8",
          "Student_9",
          "Student_10",
          "Student_11",
          "Student_12",
          "Student_13",
          "Student_14",
          "Student_15",
          "Student_16",
          "Student_17",
          "Student_18",
          "Student_19",
          "Student_20"
         ],
         "y": [
          24,
          25,
          0,
          20,
          13,
          2,
          29,
          5,
          12,
          3,
          8,
          6,
          2,
          12,
          9,
          1,
          19,
          6,
          17,
          3
         ]
        },
        {
         "name": "Quiz2",
         "type": "bar",
         "uid": "c9539acc-e29a-11e8-9490-d5f4ba98b039",
         "x": [
          "Student_1",
          "Student_2",
          "Student_3",
          "Student_4",
          "Student_5",
          "Student_6",
          "Student_7",
          "Student_8",
          "Student_9",
          "Student_10",
          "Student_11",
          "Student_12",
          "Student_13",
          "Student_14",
          "Student_15",
          "Student_16",
          "Student_17",
          "Student_18",
          "Student_19",
          "Student_20"
         ],
         "y": [
          14,
          9,
          12,
          18,
          14,
          17,
          0,
          21,
          11,
          24,
          24,
          9,
          8,
          25,
          16,
          15,
          16,
          20,
          22,
          16
         ]
        },
        {
         "name": "Pdf1",
         "type": "bar",
         "uid": "c9539bf8-e29a-11e8-9490-d5f4ba98b039",
         "x": [
          "Student_1",
          "Student_2",
          "Student_3",
          "Student_4",
          "Student_5",
          "Student_6",
          "Student_7",
          "Student_8",
          "Student_9",
          "Student_10",
          "Student_11",
          "Student_12",
          "Student_13",
          "Student_14",
          "Student_15",
          "Student_16",
          "Student_17",
          "Student_18",
          "Student_19",
          "Student_20"
         ],
         "y": [
          19,
          3,
          29,
          3,
          9,
          27,
          2,
          2,
          7,
          23,
          23,
          28,
          8,
          15,
          6,
          12,
          20,
          19,
          7,
          14
         ]
        },
        {
         "name": "Pdf2",
         "type": "bar",
         "uid": "c9539cf2-e29a-11e8-9490-d5f4ba98b039",
         "x": [
          "Student_1",
          "Student_2",
          "Student_3",
          "Student_4",
          "Student_5",
          "Student_6",
          "Student_7",
          "Student_8",
          "Student_9",
          "Student_10",
          "Student_11",
          "Student_12",
          "Student_13",
          "Student_14",
          "Student_15",
          "Student_16",
          "Student_17",
          "Student_18",
          "Student_19",
          "Student_20"
         ],
         "y": [
          10,
          15,
          2,
          2,
          8,
          2,
          6,
          7,
          4,
          22,
          6,
          4,
          0,
          8,
          9,
          9,
          24,
          11,
          21,
          29
         ]
        },
        {
         "name": "Ebook1",
         "type": "bar",
         "uid": "c9539dce-e29a-11e8-9490-d5f4ba98b039",
         "x": [
          "Student_1",
          "Student_2",
          "Student_3",
          "Student_4",
          "Student_5",
          "Student_6",
          "Student_7",
          "Student_8",
          "Student_9",
          "Student_10",
          "Student_11",
          "Student_12",
          "Student_13",
          "Student_14",
          "Student_15",
          "Student_16",
          "Student_17",
          "Student_18",
          "Student_19",
          "Student_20"
         ],
         "y": [
          1,
          13,
          0,
          22,
          1,
          4,
          0,
          17,
          18,
          9,
          22,
          10,
          4,
          14,
          15,
          12,
          2,
          8,
          12,
          9
         ]
        },
        {
         "name": "Ebook2",
         "type": "bar",
         "uid": "c9539eaa-e29a-11e8-9490-d5f4ba98b039",
         "x": [
          "Student_1",
          "Student_2",
          "Student_3",
          "Student_4",
          "Student_5",
          "Student_6",
          "Student_7",
          "Student_8",
          "Student_9",
          "Student_10",
          "Student_11",
          "Student_12",
          "Student_13",
          "Student_14",
          "Student_15",
          "Student_16",
          "Student_17",
          "Student_18",
          "Student_19",
          "Student_20"
         ],
         "y": [
          26,
          23,
          12,
          12,
          29,
          14,
          10,
          9,
          19,
          2,
          5,
          9,
          25,
          18,
          25,
          3,
          9,
          0,
          23,
          2
         ]
        }
       ],
       "layout": {
        "title": "Número de acessos nos materiais agrupados por estudante",
        "yaxis": {
         "dtick": 1,
         "exponentformat": "e",
         "gridcolor": "#bdbdbd",
         "showexponent": "all",
         "showticklabels": true,
         "tick0": 0,
         "titlefont": {
          "color": "lightgrey",
          "family": "Arial, sans-serif"
         }
        }
       }
      },
      "text/html": [
       "<div id=\"6a06cfef-7cfa-4251-af26-d8428f7cdf17\" style=\"height: 525px; width: 100%;\" class=\"plotly-graph-div\"></div><script type=\"text/javascript\">require([\"plotly\"], function(Plotly) { window.PLOTLYENV=window.PLOTLYENV || {};window.PLOTLYENV.BASE_URL=\"https://plot.ly\";Plotly.newPlot(\"6a06cfef-7cfa-4251-af26-d8428f7cdf17\", [{\"name\": \"Video1\", \"x\": [\"Student_1\", \"Student_2\", \"Student_3\", \"Student_4\", \"Student_5\", \"Student_6\", \"Student_7\", \"Student_8\", \"Student_9\", \"Student_10\", \"Student_11\", \"Student_12\", \"Student_13\", \"Student_14\", \"Student_15\", \"Student_16\", \"Student_17\", \"Student_18\", \"Student_19\", \"Student_20\"], \"y\": [9, 22, 23, 21, 20, 1, 19, 7, 24, 14, 22, 26, 17, 9, 14, 25, 12, 19, 7, 6], \"type\": \"bar\", \"uid\": \"c9539554-e29a-11e8-9490-d5f4ba98b039\"}, {\"name\": \"Video2\", \"x\": [\"Student_1\", \"Student_2\", \"Student_3\", \"Student_4\", \"Student_5\", \"Student_6\", \"Student_7\", \"Student_8\", \"Student_9\", \"Student_10\", \"Student_11\", \"Student_12\", \"Student_13\", \"Student_14\", \"Student_15\", \"Student_16\", \"Student_17\", \"Student_18\", \"Student_19\", \"Student_20\"], \"y\": [17, 12, 5, 23, 26, 9, 12, 1, 22, 10, 19, 29, 1, 26, 17, 0, 17, 11, 7, 17], \"type\": \"bar\", \"uid\": \"c95397f2-e29a-11e8-9490-d5f4ba98b039\"}, {\"name\": \"Quiz1\", \"x\": [\"Student_1\", \"Student_2\", \"Student_3\", \"Student_4\", \"Student_5\", \"Student_6\", \"Student_7\", \"Student_8\", \"Student_9\", \"Student_10\", \"Student_11\", \"Student_12\", \"Student_13\", \"Student_14\", \"Student_15\", \"Student_16\", \"Student_17\", \"Student_18\", \"Student_19\", \"Student_20\"], \"y\": [24, 25, 0, 20, 13, 2, 29, 5, 12, 3, 8, 6, 2, 12, 9, 1, 19, 6, 17, 3], \"type\": \"bar\", \"uid\": \"c9539982-e29a-11e8-9490-d5f4ba98b039\"}, {\"name\": \"Quiz2\", \"x\": [\"Student_1\", \"Student_2\", \"Student_3\", \"Student_4\", \"Student_5\", \"Student_6\", \"Student_7\", \"Student_8\", \"Student_9\", \"Student_10\", \"Student_11\", \"Student_12\", \"Student_13\", \"Student_14\", \"Student_15\", \"Student_16\", \"Student_17\", \"Student_18\", \"Student_19\", \"Student_20\"], \"y\": [14, 9, 12, 18, 14, 17, 0, 21, 11, 24, 24, 9, 8, 25, 16, 15, 16, 20, 22, 16], \"type\": \"bar\", \"uid\": \"c9539acc-e29a-11e8-9490-d5f4ba98b039\"}, {\"name\": \"Pdf1\", \"x\": [\"Student_1\", \"Student_2\", \"Student_3\", \"Student_4\", \"Student_5\", \"Student_6\", \"Student_7\", \"Student_8\", \"Student_9\", \"Student_10\", \"Student_11\", \"Student_12\", \"Student_13\", \"Student_14\", \"Student_15\", \"Student_16\", \"Student_17\", \"Student_18\", \"Student_19\", \"Student_20\"], \"y\": [19, 3, 29, 3, 9, 27, 2, 2, 7, 23, 23, 28, 8, 15, 6, 12, 20, 19, 7, 14], \"type\": \"bar\", \"uid\": \"c9539bf8-e29a-11e8-9490-d5f4ba98b039\"}, {\"name\": \"Pdf2\", \"x\": [\"Student_1\", \"Student_2\", \"Student_3\", \"Student_4\", \"Student_5\", \"Student_6\", \"Student_7\", \"Student_8\", \"Student_9\", \"Student_10\", \"Student_11\", \"Student_12\", \"Student_13\", \"Student_14\", \"Student_15\", \"Student_16\", \"Student_17\", \"Student_18\", \"Student_19\", \"Student_20\"], \"y\": [10, 15, 2, 2, 8, 2, 6, 7, 4, 22, 6, 4, 0, 8, 9, 9, 24, 11, 21, 29], \"type\": \"bar\", \"uid\": \"c9539cf2-e29a-11e8-9490-d5f4ba98b039\"}, {\"name\": \"Ebook1\", \"x\": [\"Student_1\", \"Student_2\", \"Student_3\", \"Student_4\", \"Student_5\", \"Student_6\", \"Student_7\", \"Student_8\", \"Student_9\", \"Student_10\", \"Student_11\", \"Student_12\", \"Student_13\", \"Student_14\", \"Student_15\", \"Student_16\", \"Student_17\", \"Student_18\", \"Student_19\", \"Student_20\"], \"y\": [1, 13, 0, 22, 1, 4, 0, 17, 18, 9, 22, 10, 4, 14, 15, 12, 2, 8, 12, 9], \"type\": \"bar\", \"uid\": \"c9539dce-e29a-11e8-9490-d5f4ba98b039\"}, {\"name\": \"Ebook2\", \"x\": [\"Student_1\", \"Student_2\", \"Student_3\", \"Student_4\", \"Student_5\", \"Student_6\", \"Student_7\", \"Student_8\", \"Student_9\", \"Student_10\", \"Student_11\", \"Student_12\", \"Student_13\", \"Student_14\", \"Student_15\", \"Student_16\", \"Student_17\", \"Student_18\", \"Student_19\", \"Student_20\"], \"y\": [26, 23, 12, 12, 29, 14, 10, 9, 19, 2, 5, 9, 25, 18, 25, 3, 9, 0, 23, 2], \"type\": \"bar\", \"uid\": \"c9539eaa-e29a-11e8-9490-d5f4ba98b039\"}], {\"title\": \"N\\u00famero de acessos nos materiais agrupados por estudante\", \"yaxis\": {\"dtick\": 1, \"exponentformat\": \"e\", \"gridcolor\": \"#bdbdbd\", \"showexponent\": \"all\", \"showticklabels\": true, \"tick0\": 0, \"titlefont\": {\"color\": \"lightgrey\", \"family\": \"Arial, sans-serif\"}}}, {\"showLink\": true, \"linkText\": \"Export to plot.ly\"})});</script>"
      ],
      "text/vnd.plotly.v1+html": [
       "<div id=\"6a06cfef-7cfa-4251-af26-d8428f7cdf17\" style=\"height: 525px; width: 100%;\" class=\"plotly-graph-div\"></div><script type=\"text/javascript\">require([\"plotly\"], function(Plotly) { window.PLOTLYENV=window.PLOTLYENV || {};window.PLOTLYENV.BASE_URL=\"https://plot.ly\";Plotly.newPlot(\"6a06cfef-7cfa-4251-af26-d8428f7cdf17\", [{\"name\": \"Video1\", \"x\": [\"Student_1\", \"Student_2\", \"Student_3\", \"Student_4\", \"Student_5\", \"Student_6\", \"Student_7\", \"Student_8\", \"Student_9\", \"Student_10\", \"Student_11\", \"Student_12\", \"Student_13\", \"Student_14\", \"Student_15\", \"Student_16\", \"Student_17\", \"Student_18\", \"Student_19\", \"Student_20\"], \"y\": [9, 22, 23, 21, 20, 1, 19, 7, 24, 14, 22, 26, 17, 9, 14, 25, 12, 19, 7, 6], \"type\": \"bar\", \"uid\": \"c9539554-e29a-11e8-9490-d5f4ba98b039\"}, {\"name\": \"Video2\", \"x\": [\"Student_1\", \"Student_2\", \"Student_3\", \"Student_4\", \"Student_5\", \"Student_6\", \"Student_7\", \"Student_8\", \"Student_9\", \"Student_10\", \"Student_11\", \"Student_12\", \"Student_13\", \"Student_14\", \"Student_15\", \"Student_16\", \"Student_17\", \"Student_18\", \"Student_19\", \"Student_20\"], \"y\": [17, 12, 5, 23, 26, 9, 12, 1, 22, 10, 19, 29, 1, 26, 17, 0, 17, 11, 7, 17], \"type\": \"bar\", \"uid\": \"c95397f2-e29a-11e8-9490-d5f4ba98b039\"}, {\"name\": \"Quiz1\", \"x\": [\"Student_1\", \"Student_2\", \"Student_3\", \"Student_4\", \"Student_5\", \"Student_6\", \"Student_7\", \"Student_8\", \"Student_9\", \"Student_10\", \"Student_11\", \"Student_12\", \"Student_13\", \"Student_14\", \"Student_15\", \"Student_16\", \"Student_17\", \"Student_18\", \"Student_19\", \"Student_20\"], \"y\": [24, 25, 0, 20, 13, 2, 29, 5, 12, 3, 8, 6, 2, 12, 9, 1, 19, 6, 17, 3], \"type\": \"bar\", \"uid\": \"c9539982-e29a-11e8-9490-d5f4ba98b039\"}, {\"name\": \"Quiz2\", \"x\": [\"Student_1\", \"Student_2\", \"Student_3\", \"Student_4\", \"Student_5\", \"Student_6\", \"Student_7\", \"Student_8\", \"Student_9\", \"Student_10\", \"Student_11\", \"Student_12\", \"Student_13\", \"Student_14\", \"Student_15\", \"Student_16\", \"Student_17\", \"Student_18\", \"Student_19\", \"Student_20\"], \"y\": [14, 9, 12, 18, 14, 17, 0, 21, 11, 24, 24, 9, 8, 25, 16, 15, 16, 20, 22, 16], \"type\": \"bar\", \"uid\": \"c9539acc-e29a-11e8-9490-d5f4ba98b039\"}, {\"name\": \"Pdf1\", \"x\": [\"Student_1\", \"Student_2\", \"Student_3\", \"Student_4\", \"Student_5\", \"Student_6\", \"Student_7\", \"Student_8\", \"Student_9\", \"Student_10\", \"Student_11\", \"Student_12\", \"Student_13\", \"Student_14\", \"Student_15\", \"Student_16\", \"Student_17\", \"Student_18\", \"Student_19\", \"Student_20\"], \"y\": [19, 3, 29, 3, 9, 27, 2, 2, 7, 23, 23, 28, 8, 15, 6, 12, 20, 19, 7, 14], \"type\": \"bar\", \"uid\": \"c9539bf8-e29a-11e8-9490-d5f4ba98b039\"}, {\"name\": \"Pdf2\", \"x\": [\"Student_1\", \"Student_2\", \"Student_3\", \"Student_4\", \"Student_5\", \"Student_6\", \"Student_7\", \"Student_8\", \"Student_9\", \"Student_10\", \"Student_11\", \"Student_12\", \"Student_13\", \"Student_14\", \"Student_15\", \"Student_16\", \"Student_17\", \"Student_18\", \"Student_19\", \"Student_20\"], \"y\": [10, 15, 2, 2, 8, 2, 6, 7, 4, 22, 6, 4, 0, 8, 9, 9, 24, 11, 21, 29], \"type\": \"bar\", \"uid\": \"c9539cf2-e29a-11e8-9490-d5f4ba98b039\"}, {\"name\": \"Ebook1\", \"x\": [\"Student_1\", \"Student_2\", \"Student_3\", \"Student_4\", \"Student_5\", \"Student_6\", \"Student_7\", \"Student_8\", \"Student_9\", \"Student_10\", \"Student_11\", \"Student_12\", \"Student_13\", \"Student_14\", \"Student_15\", \"Student_16\", \"Student_17\", \"Student_18\", \"Student_19\", \"Student_20\"], \"y\": [1, 13, 0, 22, 1, 4, 0, 17, 18, 9, 22, 10, 4, 14, 15, 12, 2, 8, 12, 9], \"type\": \"bar\", \"uid\": \"c9539dce-e29a-11e8-9490-d5f4ba98b039\"}, {\"name\": \"Ebook2\", \"x\": [\"Student_1\", \"Student_2\", \"Student_3\", \"Student_4\", \"Student_5\", \"Student_6\", \"Student_7\", \"Student_8\", \"Student_9\", \"Student_10\", \"Student_11\", \"Student_12\", \"Student_13\", \"Student_14\", \"Student_15\", \"Student_16\", \"Student_17\", \"Student_18\", \"Student_19\", \"Student_20\"], \"y\": [26, 23, 12, 12, 29, 14, 10, 9, 19, 2, 5, 9, 25, 18, 25, 3, 9, 0, 23, 2], \"type\": \"bar\", \"uid\": \"c9539eaa-e29a-11e8-9490-d5f4ba98b039\"}], {\"title\": \"N\\u00famero de acessos nos materiais agrupados por estudante\", \"yaxis\": {\"dtick\": 1, \"exponentformat\": \"e\", \"gridcolor\": \"#bdbdbd\", \"showexponent\": \"all\", \"showticklabels\": true, \"tick0\": 0, \"titlefont\": {\"color\": \"lightgrey\", \"family\": \"Arial, sans-serif\"}}}, {\"showLink\": true, \"linkText\": \"Export to plot.ly\"})});</script>"
      ]
     },
     "metadata": {},
     "output_type": "display_data"
    },
    {
     "data": {
      "application/vnd.plotly.v1+json": {
       "data": [
        {
         "name": "Video1",
         "type": "bar",
         "uid": "c95d5562-e29a-11e8-9490-d5f4ba98b039",
         "x": [
          "Student_1",
          "Student_2",
          "Student_3",
          "Student_4",
          "Student_5",
          "Student_6",
          "Student_7",
          "Student_8",
          "Student_9",
          "Student_10",
          "Student_11",
          "Student_12",
          "Student_13",
          "Student_14",
          "Student_15",
          "Student_16",
          "Student_17",
          "Student_18",
          "Student_19",
          "Student_20"
         ],
         "y": [
          9,
          22,
          23,
          21,
          20,
          1,
          19,
          7,
          24,
          14,
          22,
          26,
          17,
          9,
          14,
          25,
          12,
          19,
          7,
          6
         ]
        },
        {
         "name": "Video2",
         "type": "bar",
         "uid": "c95d5710-e29a-11e8-9490-d5f4ba98b039",
         "x": [
          "Student_1",
          "Student_2",
          "Student_3",
          "Student_4",
          "Student_5",
          "Student_6",
          "Student_7",
          "Student_8",
          "Student_9",
          "Student_10",
          "Student_11",
          "Student_12",
          "Student_13",
          "Student_14",
          "Student_15",
          "Student_16",
          "Student_17",
          "Student_18",
          "Student_19",
          "Student_20"
         ],
         "y": [
          17,
          12,
          5,
          23,
          26,
          9,
          12,
          1,
          22,
          10,
          19,
          29,
          1,
          26,
          17,
          0,
          17,
          11,
          7,
          17
         ]
        },
        {
         "name": "Quiz1",
         "type": "bar",
         "uid": "c95d57e2-e29a-11e8-9490-d5f4ba98b039",
         "x": [
          "Student_1",
          "Student_2",
          "Student_3",
          "Student_4",
          "Student_5",
          "Student_6",
          "Student_7",
          "Student_8",
          "Student_9",
          "Student_10",
          "Student_11",
          "Student_12",
          "Student_13",
          "Student_14",
          "Student_15",
          "Student_16",
          "Student_17",
          "Student_18",
          "Student_19",
          "Student_20"
         ],
         "y": [
          24,
          25,
          0,
          20,
          13,
          2,
          29,
          5,
          12,
          3,
          8,
          6,
          2,
          12,
          9,
          1,
          19,
          6,
          17,
          3
         ]
        },
        {
         "name": "Quiz2",
         "type": "bar",
         "uid": "c95d588c-e29a-11e8-9490-d5f4ba98b039",
         "x": [
          "Student_1",
          "Student_2",
          "Student_3",
          "Student_4",
          "Student_5",
          "Student_6",
          "Student_7",
          "Student_8",
          "Student_9",
          "Student_10",
          "Student_11",
          "Student_12",
          "Student_13",
          "Student_14",
          "Student_15",
          "Student_16",
          "Student_17",
          "Student_18",
          "Student_19",
          "Student_20"
         ],
         "y": [
          14,
          9,
          12,
          18,
          14,
          17,
          0,
          21,
          11,
          24,
          24,
          9,
          8,
          25,
          16,
          15,
          16,
          20,
          22,
          16
         ]
        },
        {
         "name": "Pdf1",
         "type": "bar",
         "uid": "c95d5922-e29a-11e8-9490-d5f4ba98b039",
         "x": [
          "Student_1",
          "Student_2",
          "Student_3",
          "Student_4",
          "Student_5",
          "Student_6",
          "Student_7",
          "Student_8",
          "Student_9",
          "Student_10",
          "Student_11",
          "Student_12",
          "Student_13",
          "Student_14",
          "Student_15",
          "Student_16",
          "Student_17",
          "Student_18",
          "Student_19",
          "Student_20"
         ],
         "y": [
          19,
          3,
          29,
          3,
          9,
          27,
          2,
          2,
          7,
          23,
          23,
          28,
          8,
          15,
          6,
          12,
          20,
          19,
          7,
          14
         ]
        },
        {
         "name": "Pdf2",
         "type": "bar",
         "uid": "c95d59ae-e29a-11e8-9490-d5f4ba98b039",
         "x": [
          "Student_1",
          "Student_2",
          "Student_3",
          "Student_4",
          "Student_5",
          "Student_6",
          "Student_7",
          "Student_8",
          "Student_9",
          "Student_10",
          "Student_11",
          "Student_12",
          "Student_13",
          "Student_14",
          "Student_15",
          "Student_16",
          "Student_17",
          "Student_18",
          "Student_19",
          "Student_20"
         ],
         "y": [
          10,
          15,
          2,
          2,
          8,
          2,
          6,
          7,
          4,
          22,
          6,
          4,
          0,
          8,
          9,
          9,
          24,
          11,
          21,
          29
         ]
        },
        {
         "name": "Ebook1",
         "type": "bar",
         "uid": "c95d5a30-e29a-11e8-9490-d5f4ba98b039",
         "x": [
          "Student_1",
          "Student_2",
          "Student_3",
          "Student_4",
          "Student_5",
          "Student_6",
          "Student_7",
          "Student_8",
          "Student_9",
          "Student_10",
          "Student_11",
          "Student_12",
          "Student_13",
          "Student_14",
          "Student_15",
          "Student_16",
          "Student_17",
          "Student_18",
          "Student_19",
          "Student_20"
         ],
         "y": [
          1,
          13,
          0,
          22,
          1,
          4,
          0,
          17,
          18,
          9,
          22,
          10,
          4,
          14,
          15,
          12,
          2,
          8,
          12,
          9
         ]
        },
        {
         "name": "Ebook2",
         "type": "bar",
         "uid": "c95d5ab2-e29a-11e8-9490-d5f4ba98b039",
         "x": [
          "Student_1",
          "Student_2",
          "Student_3",
          "Student_4",
          "Student_5",
          "Student_6",
          "Student_7",
          "Student_8",
          "Student_9",
          "Student_10",
          "Student_11",
          "Student_12",
          "Student_13",
          "Student_14",
          "Student_15",
          "Student_16",
          "Student_17",
          "Student_18",
          "Student_19",
          "Student_20"
         ],
         "y": [
          26,
          23,
          12,
          12,
          29,
          14,
          10,
          9,
          19,
          2,
          5,
          9,
          25,
          18,
          25,
          3,
          9,
          0,
          23,
          2
         ]
        }
       ],
       "layout": {
        "barmode": "stack",
        "title": "Número de acessos nos materiais agrupados por estudante",
        "yaxis": {
         "dtick": 15,
         "exponentformat": "e",
         "gridcolor": "#bdbdbd",
         "showexponent": "all",
         "showticklabels": true,
         "tick0": 0,
         "titlefont": {
          "color": "lightgrey",
          "family": "Arial, sans-serif"
         }
        }
       }
      },
      "text/html": [
       "<div id=\"cd13d373-6650-4fba-af1f-cb7f104fc7a9\" style=\"height: 525px; width: 100%;\" class=\"plotly-graph-div\"></div><script type=\"text/javascript\">require([\"plotly\"], function(Plotly) { window.PLOTLYENV=window.PLOTLYENV || {};window.PLOTLYENV.BASE_URL=\"https://plot.ly\";Plotly.newPlot(\"cd13d373-6650-4fba-af1f-cb7f104fc7a9\", [{\"name\": \"Video1\", \"x\": [\"Student_1\", \"Student_2\", \"Student_3\", \"Student_4\", \"Student_5\", \"Student_6\", \"Student_7\", \"Student_8\", \"Student_9\", \"Student_10\", \"Student_11\", \"Student_12\", \"Student_13\", \"Student_14\", \"Student_15\", \"Student_16\", \"Student_17\", \"Student_18\", \"Student_19\", \"Student_20\"], \"y\": [9, 22, 23, 21, 20, 1, 19, 7, 24, 14, 22, 26, 17, 9, 14, 25, 12, 19, 7, 6], \"type\": \"bar\", \"uid\": \"c95d5562-e29a-11e8-9490-d5f4ba98b039\"}, {\"name\": \"Video2\", \"x\": [\"Student_1\", \"Student_2\", \"Student_3\", \"Student_4\", \"Student_5\", \"Student_6\", \"Student_7\", \"Student_8\", \"Student_9\", \"Student_10\", \"Student_11\", \"Student_12\", \"Student_13\", \"Student_14\", \"Student_15\", \"Student_16\", \"Student_17\", \"Student_18\", \"Student_19\", \"Student_20\"], \"y\": [17, 12, 5, 23, 26, 9, 12, 1, 22, 10, 19, 29, 1, 26, 17, 0, 17, 11, 7, 17], \"type\": \"bar\", \"uid\": \"c95d5710-e29a-11e8-9490-d5f4ba98b039\"}, {\"name\": \"Quiz1\", \"x\": [\"Student_1\", \"Student_2\", \"Student_3\", \"Student_4\", \"Student_5\", \"Student_6\", \"Student_7\", \"Student_8\", \"Student_9\", \"Student_10\", \"Student_11\", \"Student_12\", \"Student_13\", \"Student_14\", \"Student_15\", \"Student_16\", \"Student_17\", \"Student_18\", \"Student_19\", \"Student_20\"], \"y\": [24, 25, 0, 20, 13, 2, 29, 5, 12, 3, 8, 6, 2, 12, 9, 1, 19, 6, 17, 3], \"type\": \"bar\", \"uid\": \"c95d57e2-e29a-11e8-9490-d5f4ba98b039\"}, {\"name\": \"Quiz2\", \"x\": [\"Student_1\", \"Student_2\", \"Student_3\", \"Student_4\", \"Student_5\", \"Student_6\", \"Student_7\", \"Student_8\", \"Student_9\", \"Student_10\", \"Student_11\", \"Student_12\", \"Student_13\", \"Student_14\", \"Student_15\", \"Student_16\", \"Student_17\", \"Student_18\", \"Student_19\", \"Student_20\"], \"y\": [14, 9, 12, 18, 14, 17, 0, 21, 11, 24, 24, 9, 8, 25, 16, 15, 16, 20, 22, 16], \"type\": \"bar\", \"uid\": \"c95d588c-e29a-11e8-9490-d5f4ba98b039\"}, {\"name\": \"Pdf1\", \"x\": [\"Student_1\", \"Student_2\", \"Student_3\", \"Student_4\", \"Student_5\", \"Student_6\", \"Student_7\", \"Student_8\", \"Student_9\", \"Student_10\", \"Student_11\", \"Student_12\", \"Student_13\", \"Student_14\", \"Student_15\", \"Student_16\", \"Student_17\", \"Student_18\", \"Student_19\", \"Student_20\"], \"y\": [19, 3, 29, 3, 9, 27, 2, 2, 7, 23, 23, 28, 8, 15, 6, 12, 20, 19, 7, 14], \"type\": \"bar\", \"uid\": \"c95d5922-e29a-11e8-9490-d5f4ba98b039\"}, {\"name\": \"Pdf2\", \"x\": [\"Student_1\", \"Student_2\", \"Student_3\", \"Student_4\", \"Student_5\", \"Student_6\", \"Student_7\", \"Student_8\", \"Student_9\", \"Student_10\", \"Student_11\", \"Student_12\", \"Student_13\", \"Student_14\", \"Student_15\", \"Student_16\", \"Student_17\", \"Student_18\", \"Student_19\", \"Student_20\"], \"y\": [10, 15, 2, 2, 8, 2, 6, 7, 4, 22, 6, 4, 0, 8, 9, 9, 24, 11, 21, 29], \"type\": \"bar\", \"uid\": \"c95d59ae-e29a-11e8-9490-d5f4ba98b039\"}, {\"name\": \"Ebook1\", \"x\": [\"Student_1\", \"Student_2\", \"Student_3\", \"Student_4\", \"Student_5\", \"Student_6\", \"Student_7\", \"Student_8\", \"Student_9\", \"Student_10\", \"Student_11\", \"Student_12\", \"Student_13\", \"Student_14\", \"Student_15\", \"Student_16\", \"Student_17\", \"Student_18\", \"Student_19\", \"Student_20\"], \"y\": [1, 13, 0, 22, 1, 4, 0, 17, 18, 9, 22, 10, 4, 14, 15, 12, 2, 8, 12, 9], \"type\": \"bar\", \"uid\": \"c95d5a30-e29a-11e8-9490-d5f4ba98b039\"}, {\"name\": \"Ebook2\", \"x\": [\"Student_1\", \"Student_2\", \"Student_3\", \"Student_4\", \"Student_5\", \"Student_6\", \"Student_7\", \"Student_8\", \"Student_9\", \"Student_10\", \"Student_11\", \"Student_12\", \"Student_13\", \"Student_14\", \"Student_15\", \"Student_16\", \"Student_17\", \"Student_18\", \"Student_19\", \"Student_20\"], \"y\": [26, 23, 12, 12, 29, 14, 10, 9, 19, 2, 5, 9, 25, 18, 25, 3, 9, 0, 23, 2], \"type\": \"bar\", \"uid\": \"c95d5ab2-e29a-11e8-9490-d5f4ba98b039\"}], {\"barmode\": \"stack\", \"title\": \"N\\u00famero de acessos nos materiais agrupados por estudante\", \"yaxis\": {\"dtick\": 15, \"exponentformat\": \"e\", \"gridcolor\": \"#bdbdbd\", \"showexponent\": \"all\", \"showticklabels\": true, \"tick0\": 0, \"titlefont\": {\"color\": \"lightgrey\", \"family\": \"Arial, sans-serif\"}}}, {\"showLink\": true, \"linkText\": \"Export to plot.ly\"})});</script>"
      ],
      "text/vnd.plotly.v1+html": [
       "<div id=\"cd13d373-6650-4fba-af1f-cb7f104fc7a9\" style=\"height: 525px; width: 100%;\" class=\"plotly-graph-div\"></div><script type=\"text/javascript\">require([\"plotly\"], function(Plotly) { window.PLOTLYENV=window.PLOTLYENV || {};window.PLOTLYENV.BASE_URL=\"https://plot.ly\";Plotly.newPlot(\"cd13d373-6650-4fba-af1f-cb7f104fc7a9\", [{\"name\": \"Video1\", \"x\": [\"Student_1\", \"Student_2\", \"Student_3\", \"Student_4\", \"Student_5\", \"Student_6\", \"Student_7\", \"Student_8\", \"Student_9\", \"Student_10\", \"Student_11\", \"Student_12\", \"Student_13\", \"Student_14\", \"Student_15\", \"Student_16\", \"Student_17\", \"Student_18\", \"Student_19\", \"Student_20\"], \"y\": [9, 22, 23, 21, 20, 1, 19, 7, 24, 14, 22, 26, 17, 9, 14, 25, 12, 19, 7, 6], \"type\": \"bar\", \"uid\": \"c95d5562-e29a-11e8-9490-d5f4ba98b039\"}, {\"name\": \"Video2\", \"x\": [\"Student_1\", \"Student_2\", \"Student_3\", \"Student_4\", \"Student_5\", \"Student_6\", \"Student_7\", \"Student_8\", \"Student_9\", \"Student_10\", \"Student_11\", \"Student_12\", \"Student_13\", \"Student_14\", \"Student_15\", \"Student_16\", \"Student_17\", \"Student_18\", \"Student_19\", \"Student_20\"], \"y\": [17, 12, 5, 23, 26, 9, 12, 1, 22, 10, 19, 29, 1, 26, 17, 0, 17, 11, 7, 17], \"type\": \"bar\", \"uid\": \"c95d5710-e29a-11e8-9490-d5f4ba98b039\"}, {\"name\": \"Quiz1\", \"x\": [\"Student_1\", \"Student_2\", \"Student_3\", \"Student_4\", \"Student_5\", \"Student_6\", \"Student_7\", \"Student_8\", \"Student_9\", \"Student_10\", \"Student_11\", \"Student_12\", \"Student_13\", \"Student_14\", \"Student_15\", \"Student_16\", \"Student_17\", \"Student_18\", \"Student_19\", \"Student_20\"], \"y\": [24, 25, 0, 20, 13, 2, 29, 5, 12, 3, 8, 6, 2, 12, 9, 1, 19, 6, 17, 3], \"type\": \"bar\", \"uid\": \"c95d57e2-e29a-11e8-9490-d5f4ba98b039\"}, {\"name\": \"Quiz2\", \"x\": [\"Student_1\", \"Student_2\", \"Student_3\", \"Student_4\", \"Student_5\", \"Student_6\", \"Student_7\", \"Student_8\", \"Student_9\", \"Student_10\", \"Student_11\", \"Student_12\", \"Student_13\", \"Student_14\", \"Student_15\", \"Student_16\", \"Student_17\", \"Student_18\", \"Student_19\", \"Student_20\"], \"y\": [14, 9, 12, 18, 14, 17, 0, 21, 11, 24, 24, 9, 8, 25, 16, 15, 16, 20, 22, 16], \"type\": \"bar\", \"uid\": \"c95d588c-e29a-11e8-9490-d5f4ba98b039\"}, {\"name\": \"Pdf1\", \"x\": [\"Student_1\", \"Student_2\", \"Student_3\", \"Student_4\", \"Student_5\", \"Student_6\", \"Student_7\", \"Student_8\", \"Student_9\", \"Student_10\", \"Student_11\", \"Student_12\", \"Student_13\", \"Student_14\", \"Student_15\", \"Student_16\", \"Student_17\", \"Student_18\", \"Student_19\", \"Student_20\"], \"y\": [19, 3, 29, 3, 9, 27, 2, 2, 7, 23, 23, 28, 8, 15, 6, 12, 20, 19, 7, 14], \"type\": \"bar\", \"uid\": \"c95d5922-e29a-11e8-9490-d5f4ba98b039\"}, {\"name\": \"Pdf2\", \"x\": [\"Student_1\", \"Student_2\", \"Student_3\", \"Student_4\", \"Student_5\", \"Student_6\", \"Student_7\", \"Student_8\", \"Student_9\", \"Student_10\", \"Student_11\", \"Student_12\", \"Student_13\", \"Student_14\", \"Student_15\", \"Student_16\", \"Student_17\", \"Student_18\", \"Student_19\", \"Student_20\"], \"y\": [10, 15, 2, 2, 8, 2, 6, 7, 4, 22, 6, 4, 0, 8, 9, 9, 24, 11, 21, 29], \"type\": \"bar\", \"uid\": \"c95d59ae-e29a-11e8-9490-d5f4ba98b039\"}, {\"name\": \"Ebook1\", \"x\": [\"Student_1\", \"Student_2\", \"Student_3\", \"Student_4\", \"Student_5\", \"Student_6\", \"Student_7\", \"Student_8\", \"Student_9\", \"Student_10\", \"Student_11\", \"Student_12\", \"Student_13\", \"Student_14\", \"Student_15\", \"Student_16\", \"Student_17\", \"Student_18\", \"Student_19\", \"Student_20\"], \"y\": [1, 13, 0, 22, 1, 4, 0, 17, 18, 9, 22, 10, 4, 14, 15, 12, 2, 8, 12, 9], \"type\": \"bar\", \"uid\": \"c95d5a30-e29a-11e8-9490-d5f4ba98b039\"}, {\"name\": \"Ebook2\", \"x\": [\"Student_1\", \"Student_2\", \"Student_3\", \"Student_4\", \"Student_5\", \"Student_6\", \"Student_7\", \"Student_8\", \"Student_9\", \"Student_10\", \"Student_11\", \"Student_12\", \"Student_13\", \"Student_14\", \"Student_15\", \"Student_16\", \"Student_17\", \"Student_18\", \"Student_19\", \"Student_20\"], \"y\": [26, 23, 12, 12, 29, 14, 10, 9, 19, 2, 5, 9, 25, 18, 25, 3, 9, 0, 23, 2], \"type\": \"bar\", \"uid\": \"c95d5ab2-e29a-11e8-9490-d5f4ba98b039\"}], {\"barmode\": \"stack\", \"title\": \"N\\u00famero de acessos nos materiais agrupados por estudante\", \"yaxis\": {\"dtick\": 15, \"exponentformat\": \"e\", \"gridcolor\": \"#bdbdbd\", \"showexponent\": \"all\", \"showticklabels\": true, \"tick0\": 0, \"titlefont\": {\"color\": \"lightgrey\", \"family\": \"Arial, sans-serif\"}}}, {\"showLink\": true, \"linkText\": \"Export to plot.ly\"})});</script>"
      ]
     },
     "metadata": {},
     "output_type": "display_data"
    },
    {
     "data": {
      "application/vnd.plotly.v1+json": {
       "data": [
        {
         "name": "Video1",
         "orientation": "h",
         "type": "bar",
         "uid": "c96625ac-e29a-11e8-9490-d5f4ba98b039",
         "x": [
          9,
          22,
          23,
          21,
          20,
          1,
          19,
          7,
          24,
          14,
          22,
          26,
          17,
          9,
          14,
          25,
          12,
          19,
          7,
          6
         ],
         "y": [
          "Student_1",
          "Student_2",
          "Student_3",
          "Student_4",
          "Student_5",
          "Student_6",
          "Student_7",
          "Student_8",
          "Student_9",
          "Student_10",
          "Student_11",
          "Student_12",
          "Student_13",
          "Student_14",
          "Student_15",
          "Student_16",
          "Student_17",
          "Student_18",
          "Student_19",
          "Student_20"
         ]
        },
        {
         "name": "Video2",
         "orientation": "h",
         "type": "bar",
         "uid": "c9662750-e29a-11e8-9490-d5f4ba98b039",
         "x": [
          17,
          12,
          5,
          23,
          26,
          9,
          12,
          1,
          22,
          10,
          19,
          29,
          1,
          26,
          17,
          0,
          17,
          11,
          7,
          17
         ],
         "y": [
          "Student_1",
          "Student_2",
          "Student_3",
          "Student_4",
          "Student_5",
          "Student_6",
          "Student_7",
          "Student_8",
          "Student_9",
          "Student_10",
          "Student_11",
          "Student_12",
          "Student_13",
          "Student_14",
          "Student_15",
          "Student_16",
          "Student_17",
          "Student_18",
          "Student_19",
          "Student_20"
         ]
        },
        {
         "name": "Quiz1",
         "orientation": "h",
         "type": "bar",
         "uid": "c9662822-e29a-11e8-9490-d5f4ba98b039",
         "x": [
          24,
          25,
          0,
          20,
          13,
          2,
          29,
          5,
          12,
          3,
          8,
          6,
          2,
          12,
          9,
          1,
          19,
          6,
          17,
          3
         ],
         "y": [
          "Student_1",
          "Student_2",
          "Student_3",
          "Student_4",
          "Student_5",
          "Student_6",
          "Student_7",
          "Student_8",
          "Student_9",
          "Student_10",
          "Student_11",
          "Student_12",
          "Student_13",
          "Student_14",
          "Student_15",
          "Student_16",
          "Student_17",
          "Student_18",
          "Student_19",
          "Student_20"
         ]
        },
        {
         "name": "Quiz2",
         "orientation": "h",
         "type": "bar",
         "uid": "c96628cc-e29a-11e8-9490-d5f4ba98b039",
         "x": [
          14,
          9,
          12,
          18,
          14,
          17,
          0,
          21,
          11,
          24,
          24,
          9,
          8,
          25,
          16,
          15,
          16,
          20,
          22,
          16
         ],
         "y": [
          "Student_1",
          "Student_2",
          "Student_3",
          "Student_4",
          "Student_5",
          "Student_6",
          "Student_7",
          "Student_8",
          "Student_9",
          "Student_10",
          "Student_11",
          "Student_12",
          "Student_13",
          "Student_14",
          "Student_15",
          "Student_16",
          "Student_17",
          "Student_18",
          "Student_19",
          "Student_20"
         ]
        },
        {
         "name": "Pdf1",
         "orientation": "h",
         "type": "bar",
         "uid": "c9662962-e29a-11e8-9490-d5f4ba98b039",
         "x": [
          19,
          3,
          29,
          3,
          9,
          27,
          2,
          2,
          7,
          23,
          23,
          28,
          8,
          15,
          6,
          12,
          20,
          19,
          7,
          14
         ],
         "y": [
          "Student_1",
          "Student_2",
          "Student_3",
          "Student_4",
          "Student_5",
          "Student_6",
          "Student_7",
          "Student_8",
          "Student_9",
          "Student_10",
          "Student_11",
          "Student_12",
          "Student_13",
          "Student_14",
          "Student_15",
          "Student_16",
          "Student_17",
          "Student_18",
          "Student_19",
          "Student_20"
         ]
        },
        {
         "name": "Pdf2",
         "orientation": "h",
         "type": "bar",
         "uid": "c96629f8-e29a-11e8-9490-d5f4ba98b039",
         "x": [
          10,
          15,
          2,
          2,
          8,
          2,
          6,
          7,
          4,
          22,
          6,
          4,
          0,
          8,
          9,
          9,
          24,
          11,
          21,
          29
         ],
         "y": [
          "Student_1",
          "Student_2",
          "Student_3",
          "Student_4",
          "Student_5",
          "Student_6",
          "Student_7",
          "Student_8",
          "Student_9",
          "Student_10",
          "Student_11",
          "Student_12",
          "Student_13",
          "Student_14",
          "Student_15",
          "Student_16",
          "Student_17",
          "Student_18",
          "Student_19",
          "Student_20"
         ]
        },
        {
         "name": "Ebook1",
         "orientation": "h",
         "type": "bar",
         "uid": "c9662a84-e29a-11e8-9490-d5f4ba98b039",
         "x": [
          1,
          13,
          0,
          22,
          1,
          4,
          0,
          17,
          18,
          9,
          22,
          10,
          4,
          14,
          15,
          12,
          2,
          8,
          12,
          9
         ],
         "y": [
          "Student_1",
          "Student_2",
          "Student_3",
          "Student_4",
          "Student_5",
          "Student_6",
          "Student_7",
          "Student_8",
          "Student_9",
          "Student_10",
          "Student_11",
          "Student_12",
          "Student_13",
          "Student_14",
          "Student_15",
          "Student_16",
          "Student_17",
          "Student_18",
          "Student_19",
          "Student_20"
         ]
        },
        {
         "name": "Ebook2",
         "orientation": "h",
         "type": "bar",
         "uid": "c9662b1a-e29a-11e8-9490-d5f4ba98b039",
         "x": [
          26,
          23,
          12,
          12,
          29,
          14,
          10,
          9,
          19,
          2,
          5,
          9,
          25,
          18,
          25,
          3,
          9,
          0,
          23,
          2
         ],
         "y": [
          "Student_1",
          "Student_2",
          "Student_3",
          "Student_4",
          "Student_5",
          "Student_6",
          "Student_7",
          "Student_8",
          "Student_9",
          "Student_10",
          "Student_11",
          "Student_12",
          "Student_13",
          "Student_14",
          "Student_15",
          "Student_16",
          "Student_17",
          "Student_18",
          "Student_19",
          "Student_20"
         ]
        }
       ],
       "layout": {
        "barmode": "stack",
        "title": "Número de acessos nos materiais agrupados por estudante",
        "yaxis": {
         "dtick": 1,
         "exponentformat": "e",
         "gridcolor": "#bdbdbd",
         "showexponent": "all",
         "showticklabels": true,
         "tick0": 0,
         "titlefont": {
          "color": "lightgrey",
          "family": "Arial, sans-serif"
         }
        }
       }
      },
      "text/html": [
       "<div id=\"38957e39-0bd7-482b-aa91-1c25b96c7c01\" style=\"height: 525px; width: 100%;\" class=\"plotly-graph-div\"></div><script type=\"text/javascript\">require([\"plotly\"], function(Plotly) { window.PLOTLYENV=window.PLOTLYENV || {};window.PLOTLYENV.BASE_URL=\"https://plot.ly\";Plotly.newPlot(\"38957e39-0bd7-482b-aa91-1c25b96c7c01\", [{\"name\": \"Video1\", \"orientation\": \"h\", \"x\": [9, 22, 23, 21, 20, 1, 19, 7, 24, 14, 22, 26, 17, 9, 14, 25, 12, 19, 7, 6], \"y\": [\"Student_1\", \"Student_2\", \"Student_3\", \"Student_4\", \"Student_5\", \"Student_6\", \"Student_7\", \"Student_8\", \"Student_9\", \"Student_10\", \"Student_11\", \"Student_12\", \"Student_13\", \"Student_14\", \"Student_15\", \"Student_16\", \"Student_17\", \"Student_18\", \"Student_19\", \"Student_20\"], \"type\": \"bar\", \"uid\": \"c96625ac-e29a-11e8-9490-d5f4ba98b039\"}, {\"name\": \"Video2\", \"orientation\": \"h\", \"x\": [17, 12, 5, 23, 26, 9, 12, 1, 22, 10, 19, 29, 1, 26, 17, 0, 17, 11, 7, 17], \"y\": [\"Student_1\", \"Student_2\", \"Student_3\", \"Student_4\", \"Student_5\", \"Student_6\", \"Student_7\", \"Student_8\", \"Student_9\", \"Student_10\", \"Student_11\", \"Student_12\", \"Student_13\", \"Student_14\", \"Student_15\", \"Student_16\", \"Student_17\", \"Student_18\", \"Student_19\", \"Student_20\"], \"type\": \"bar\", \"uid\": \"c9662750-e29a-11e8-9490-d5f4ba98b039\"}, {\"name\": \"Quiz1\", \"orientation\": \"h\", \"x\": [24, 25, 0, 20, 13, 2, 29, 5, 12, 3, 8, 6, 2, 12, 9, 1, 19, 6, 17, 3], \"y\": [\"Student_1\", \"Student_2\", \"Student_3\", \"Student_4\", \"Student_5\", \"Student_6\", \"Student_7\", \"Student_8\", \"Student_9\", \"Student_10\", \"Student_11\", \"Student_12\", \"Student_13\", \"Student_14\", \"Student_15\", \"Student_16\", \"Student_17\", \"Student_18\", \"Student_19\", \"Student_20\"], \"type\": \"bar\", \"uid\": \"c9662822-e29a-11e8-9490-d5f4ba98b039\"}, {\"name\": \"Quiz2\", \"orientation\": \"h\", \"x\": [14, 9, 12, 18, 14, 17, 0, 21, 11, 24, 24, 9, 8, 25, 16, 15, 16, 20, 22, 16], \"y\": [\"Student_1\", \"Student_2\", \"Student_3\", \"Student_4\", \"Student_5\", \"Student_6\", \"Student_7\", \"Student_8\", \"Student_9\", \"Student_10\", \"Student_11\", \"Student_12\", \"Student_13\", \"Student_14\", \"Student_15\", \"Student_16\", \"Student_17\", \"Student_18\", \"Student_19\", \"Student_20\"], \"type\": \"bar\", \"uid\": \"c96628cc-e29a-11e8-9490-d5f4ba98b039\"}, {\"name\": \"Pdf1\", \"orientation\": \"h\", \"x\": [19, 3, 29, 3, 9, 27, 2, 2, 7, 23, 23, 28, 8, 15, 6, 12, 20, 19, 7, 14], \"y\": [\"Student_1\", \"Student_2\", \"Student_3\", \"Student_4\", \"Student_5\", \"Student_6\", \"Student_7\", \"Student_8\", \"Student_9\", \"Student_10\", \"Student_11\", \"Student_12\", \"Student_13\", \"Student_14\", \"Student_15\", \"Student_16\", \"Student_17\", \"Student_18\", \"Student_19\", \"Student_20\"], \"type\": \"bar\", \"uid\": \"c9662962-e29a-11e8-9490-d5f4ba98b039\"}, {\"name\": \"Pdf2\", \"orientation\": \"h\", \"x\": [10, 15, 2, 2, 8, 2, 6, 7, 4, 22, 6, 4, 0, 8, 9, 9, 24, 11, 21, 29], \"y\": [\"Student_1\", \"Student_2\", \"Student_3\", \"Student_4\", \"Student_5\", \"Student_6\", \"Student_7\", \"Student_8\", \"Student_9\", \"Student_10\", \"Student_11\", \"Student_12\", \"Student_13\", \"Student_14\", \"Student_15\", \"Student_16\", \"Student_17\", \"Student_18\", \"Student_19\", \"Student_20\"], \"type\": \"bar\", \"uid\": \"c96629f8-e29a-11e8-9490-d5f4ba98b039\"}, {\"name\": \"Ebook1\", \"orientation\": \"h\", \"x\": [1, 13, 0, 22, 1, 4, 0, 17, 18, 9, 22, 10, 4, 14, 15, 12, 2, 8, 12, 9], \"y\": [\"Student_1\", \"Student_2\", \"Student_3\", \"Student_4\", \"Student_5\", \"Student_6\", \"Student_7\", \"Student_8\", \"Student_9\", \"Student_10\", \"Student_11\", \"Student_12\", \"Student_13\", \"Student_14\", \"Student_15\", \"Student_16\", \"Student_17\", \"Student_18\", \"Student_19\", \"Student_20\"], \"type\": \"bar\", \"uid\": \"c9662a84-e29a-11e8-9490-d5f4ba98b039\"}, {\"name\": \"Ebook2\", \"orientation\": \"h\", \"x\": [26, 23, 12, 12, 29, 14, 10, 9, 19, 2, 5, 9, 25, 18, 25, 3, 9, 0, 23, 2], \"y\": [\"Student_1\", \"Student_2\", \"Student_3\", \"Student_4\", \"Student_5\", \"Student_6\", \"Student_7\", \"Student_8\", \"Student_9\", \"Student_10\", \"Student_11\", \"Student_12\", \"Student_13\", \"Student_14\", \"Student_15\", \"Student_16\", \"Student_17\", \"Student_18\", \"Student_19\", \"Student_20\"], \"type\": \"bar\", \"uid\": \"c9662b1a-e29a-11e8-9490-d5f4ba98b039\"}], {\"barmode\": \"stack\", \"title\": \"N\\u00famero de acessos nos materiais agrupados por estudante\", \"yaxis\": {\"dtick\": 1, \"exponentformat\": \"e\", \"gridcolor\": \"#bdbdbd\", \"showexponent\": \"all\", \"showticklabels\": true, \"tick0\": 0, \"titlefont\": {\"color\": \"lightgrey\", \"family\": \"Arial, sans-serif\"}}}, {\"showLink\": true, \"linkText\": \"Export to plot.ly\"})});</script>"
      ],
      "text/vnd.plotly.v1+html": [
       "<div id=\"38957e39-0bd7-482b-aa91-1c25b96c7c01\" style=\"height: 525px; width: 100%;\" class=\"plotly-graph-div\"></div><script type=\"text/javascript\">require([\"plotly\"], function(Plotly) { window.PLOTLYENV=window.PLOTLYENV || {};window.PLOTLYENV.BASE_URL=\"https://plot.ly\";Plotly.newPlot(\"38957e39-0bd7-482b-aa91-1c25b96c7c01\", [{\"name\": \"Video1\", \"orientation\": \"h\", \"x\": [9, 22, 23, 21, 20, 1, 19, 7, 24, 14, 22, 26, 17, 9, 14, 25, 12, 19, 7, 6], \"y\": [\"Student_1\", \"Student_2\", \"Student_3\", \"Student_4\", \"Student_5\", \"Student_6\", \"Student_7\", \"Student_8\", \"Student_9\", \"Student_10\", \"Student_11\", \"Student_12\", \"Student_13\", \"Student_14\", \"Student_15\", \"Student_16\", \"Student_17\", \"Student_18\", \"Student_19\", \"Student_20\"], \"type\": \"bar\", \"uid\": \"c96625ac-e29a-11e8-9490-d5f4ba98b039\"}, {\"name\": \"Video2\", \"orientation\": \"h\", \"x\": [17, 12, 5, 23, 26, 9, 12, 1, 22, 10, 19, 29, 1, 26, 17, 0, 17, 11, 7, 17], \"y\": [\"Student_1\", \"Student_2\", \"Student_3\", \"Student_4\", \"Student_5\", \"Student_6\", \"Student_7\", \"Student_8\", \"Student_9\", \"Student_10\", \"Student_11\", \"Student_12\", \"Student_13\", \"Student_14\", \"Student_15\", \"Student_16\", \"Student_17\", \"Student_18\", \"Student_19\", \"Student_20\"], \"type\": \"bar\", \"uid\": \"c9662750-e29a-11e8-9490-d5f4ba98b039\"}, {\"name\": \"Quiz1\", \"orientation\": \"h\", \"x\": [24, 25, 0, 20, 13, 2, 29, 5, 12, 3, 8, 6, 2, 12, 9, 1, 19, 6, 17, 3], \"y\": [\"Student_1\", \"Student_2\", \"Student_3\", \"Student_4\", \"Student_5\", \"Student_6\", \"Student_7\", \"Student_8\", \"Student_9\", \"Student_10\", \"Student_11\", \"Student_12\", \"Student_13\", \"Student_14\", \"Student_15\", \"Student_16\", \"Student_17\", \"Student_18\", \"Student_19\", \"Student_20\"], \"type\": \"bar\", \"uid\": \"c9662822-e29a-11e8-9490-d5f4ba98b039\"}, {\"name\": \"Quiz2\", \"orientation\": \"h\", \"x\": [14, 9, 12, 18, 14, 17, 0, 21, 11, 24, 24, 9, 8, 25, 16, 15, 16, 20, 22, 16], \"y\": [\"Student_1\", \"Student_2\", \"Student_3\", \"Student_4\", \"Student_5\", \"Student_6\", \"Student_7\", \"Student_8\", \"Student_9\", \"Student_10\", \"Student_11\", \"Student_12\", \"Student_13\", \"Student_14\", \"Student_15\", \"Student_16\", \"Student_17\", \"Student_18\", \"Student_19\", \"Student_20\"], \"type\": \"bar\", \"uid\": \"c96628cc-e29a-11e8-9490-d5f4ba98b039\"}, {\"name\": \"Pdf1\", \"orientation\": \"h\", \"x\": [19, 3, 29, 3, 9, 27, 2, 2, 7, 23, 23, 28, 8, 15, 6, 12, 20, 19, 7, 14], \"y\": [\"Student_1\", \"Student_2\", \"Student_3\", \"Student_4\", \"Student_5\", \"Student_6\", \"Student_7\", \"Student_8\", \"Student_9\", \"Student_10\", \"Student_11\", \"Student_12\", \"Student_13\", \"Student_14\", \"Student_15\", \"Student_16\", \"Student_17\", \"Student_18\", \"Student_19\", \"Student_20\"], \"type\": \"bar\", \"uid\": \"c9662962-e29a-11e8-9490-d5f4ba98b039\"}, {\"name\": \"Pdf2\", \"orientation\": \"h\", \"x\": [10, 15, 2, 2, 8, 2, 6, 7, 4, 22, 6, 4, 0, 8, 9, 9, 24, 11, 21, 29], \"y\": [\"Student_1\", \"Student_2\", \"Student_3\", \"Student_4\", \"Student_5\", \"Student_6\", \"Student_7\", \"Student_8\", \"Student_9\", \"Student_10\", \"Student_11\", \"Student_12\", \"Student_13\", \"Student_14\", \"Student_15\", \"Student_16\", \"Student_17\", \"Student_18\", \"Student_19\", \"Student_20\"], \"type\": \"bar\", \"uid\": \"c96629f8-e29a-11e8-9490-d5f4ba98b039\"}, {\"name\": \"Ebook1\", \"orientation\": \"h\", \"x\": [1, 13, 0, 22, 1, 4, 0, 17, 18, 9, 22, 10, 4, 14, 15, 12, 2, 8, 12, 9], \"y\": [\"Student_1\", \"Student_2\", \"Student_3\", \"Student_4\", \"Student_5\", \"Student_6\", \"Student_7\", \"Student_8\", \"Student_9\", \"Student_10\", \"Student_11\", \"Student_12\", \"Student_13\", \"Student_14\", \"Student_15\", \"Student_16\", \"Student_17\", \"Student_18\", \"Student_19\", \"Student_20\"], \"type\": \"bar\", \"uid\": \"c9662a84-e29a-11e8-9490-d5f4ba98b039\"}, {\"name\": \"Ebook2\", \"orientation\": \"h\", \"x\": [26, 23, 12, 12, 29, 14, 10, 9, 19, 2, 5, 9, 25, 18, 25, 3, 9, 0, 23, 2], \"y\": [\"Student_1\", \"Student_2\", \"Student_3\", \"Student_4\", \"Student_5\", \"Student_6\", \"Student_7\", \"Student_8\", \"Student_9\", \"Student_10\", \"Student_11\", \"Student_12\", \"Student_13\", \"Student_14\", \"Student_15\", \"Student_16\", \"Student_17\", \"Student_18\", \"Student_19\", \"Student_20\"], \"type\": \"bar\", \"uid\": \"c9662b1a-e29a-11e8-9490-d5f4ba98b039\"}], {\"barmode\": \"stack\", \"title\": \"N\\u00famero de acessos nos materiais agrupados por estudante\", \"yaxis\": {\"dtick\": 1, \"exponentformat\": \"e\", \"gridcolor\": \"#bdbdbd\", \"showexponent\": \"all\", \"showticklabels\": true, \"tick0\": 0, \"titlefont\": {\"color\": \"lightgrey\", \"family\": \"Arial, sans-serif\"}}}, {\"showLink\": true, \"linkText\": \"Export to plot.ly\"})});</script>"
      ]
     },
     "metadata": {},
     "output_type": "display_data"
    },
    {
     "data": {
      "application/vnd.plotly.v1+json": {
       "data": [
        {
         "colorscale": [
          [
           0,
           "rgb(255,255,255)"
          ],
          [
           1,
           "rgb(0,0,255)"
          ]
         ],
         "type": "heatmap",
         "uid": "c96a213e-e29a-11e8-9490-d5f4ba98b039",
         "x": [
          "Video1",
          "Video2",
          "Quiz1",
          "Quiz2",
          "Pdf1",
          "Pdf2",
          "Ebook1",
          "Ebook2"
         ],
         "y": [
          "Student_1",
          "Student_2",
          "Student_3",
          "Student_4",
          "Student_5",
          "Student_6",
          "Student_7",
          "Student_8",
          "Student_9",
          "Student_10",
          "Student_11",
          "Student_12",
          "Student_13",
          "Student_14",
          "Student_15",
          "Student_16",
          "Student_17",
          "Student_18",
          "Student_19",
          "Student_20"
         ],
         "z": [
          [
           9,
           17,
           24,
           14,
           19,
           10,
           1,
           26
          ],
          [
           22,
           12,
           25,
           9,
           3,
           15,
           13,
           23
          ],
          [
           23,
           5,
           0,
           12,
           29,
           2,
           0,
           12
          ],
          [
           21,
           23,
           20,
           18,
           3,
           2,
           22,
           12
          ],
          [
           20,
           26,
           13,
           14,
           9,
           8,
           1,
           29
          ],
          [
           1,
           9,
           2,
           17,
           27,
           2,
           4,
           14
          ],
          [
           19,
           12,
           29,
           0,
           2,
           6,
           0,
           10
          ],
          [
           7,
           1,
           5,
           21,
           2,
           7,
           17,
           9
          ],
          [
           24,
           22,
           12,
           11,
           7,
           4,
           18,
           19
          ],
          [
           14,
           10,
           3,
           24,
           23,
           22,
           9,
           2
          ],
          [
           22,
           19,
           8,
           24,
           23,
           6,
           22,
           5
          ],
          [
           26,
           29,
           6,
           9,
           28,
           4,
           10,
           9
          ],
          [
           17,
           1,
           2,
           8,
           8,
           0,
           4,
           25
          ],
          [
           9,
           26,
           12,
           25,
           15,
           8,
           14,
           18
          ],
          [
           14,
           17,
           9,
           16,
           6,
           9,
           15,
           25
          ],
          [
           25,
           0,
           1,
           15,
           12,
           9,
           12,
           3
          ],
          [
           12,
           17,
           19,
           16,
           20,
           24,
           2,
           9
          ],
          [
           19,
           11,
           6,
           20,
           19,
           11,
           8,
           0
          ],
          [
           7,
           7,
           17,
           22,
           7,
           21,
           12,
           23
          ],
          [
           6,
           17,
           3,
           16,
           14,
           29,
           9,
           2
          ]
         ]
        }
       ],
       "layout": {
        "title": "Número de acessos nos materiais por estudante",
        "yaxis": {
         "dtick": 1,
         "exponentformat": "e",
         "gridcolor": "#bdbdbd",
         "showexponent": "all",
         "showticklabels": true,
         "tick0": 0,
         "titlefont": {
          "color": "lightgrey",
          "family": "Arial, sans-serif"
         }
        }
       }
      },
      "text/html": [
       "<div id=\"54dc8188-56d6-4f23-910b-c37e761e247a\" style=\"height: 525px; width: 100%;\" class=\"plotly-graph-div\"></div><script type=\"text/javascript\">require([\"plotly\"], function(Plotly) { window.PLOTLYENV=window.PLOTLYENV || {};window.PLOTLYENV.BASE_URL=\"https://plot.ly\";Plotly.newPlot(\"54dc8188-56d6-4f23-910b-c37e761e247a\", [{\"colorscale\": [[0, \"rgb(255,255,255)\"], [1, \"rgb(0,0,255)\"]], \"x\": [\"Video1\", \"Video2\", \"Quiz1\", \"Quiz2\", \"Pdf1\", \"Pdf2\", \"Ebook1\", \"Ebook2\"], \"y\": [\"Student_1\", \"Student_2\", \"Student_3\", \"Student_4\", \"Student_5\", \"Student_6\", \"Student_7\", \"Student_8\", \"Student_9\", \"Student_10\", \"Student_11\", \"Student_12\", \"Student_13\", \"Student_14\", \"Student_15\", \"Student_16\", \"Student_17\", \"Student_18\", \"Student_19\", \"Student_20\"], \"z\": [[9, 17, 24, 14, 19, 10, 1, 26], [22, 12, 25, 9, 3, 15, 13, 23], [23, 5, 0, 12, 29, 2, 0, 12], [21, 23, 20, 18, 3, 2, 22, 12], [20, 26, 13, 14, 9, 8, 1, 29], [1, 9, 2, 17, 27, 2, 4, 14], [19, 12, 29, 0, 2, 6, 0, 10], [7, 1, 5, 21, 2, 7, 17, 9], [24, 22, 12, 11, 7, 4, 18, 19], [14, 10, 3, 24, 23, 22, 9, 2], [22, 19, 8, 24, 23, 6, 22, 5], [26, 29, 6, 9, 28, 4, 10, 9], [17, 1, 2, 8, 8, 0, 4, 25], [9, 26, 12, 25, 15, 8, 14, 18], [14, 17, 9, 16, 6, 9, 15, 25], [25, 0, 1, 15, 12, 9, 12, 3], [12, 17, 19, 16, 20, 24, 2, 9], [19, 11, 6, 20, 19, 11, 8, 0], [7, 7, 17, 22, 7, 21, 12, 23], [6, 17, 3, 16, 14, 29, 9, 2]], \"type\": \"heatmap\", \"uid\": \"c96a213e-e29a-11e8-9490-d5f4ba98b039\"}], {\"title\": \"N\\u00famero de acessos nos materiais por estudante\", \"yaxis\": {\"dtick\": 1, \"exponentformat\": \"e\", \"gridcolor\": \"#bdbdbd\", \"showexponent\": \"all\", \"showticklabels\": true, \"tick0\": 0, \"titlefont\": {\"color\": \"lightgrey\", \"family\": \"Arial, sans-serif\"}}}, {\"showLink\": true, \"linkText\": \"Export to plot.ly\"})});</script>"
      ],
      "text/vnd.plotly.v1+html": [
       "<div id=\"54dc8188-56d6-4f23-910b-c37e761e247a\" style=\"height: 525px; width: 100%;\" class=\"plotly-graph-div\"></div><script type=\"text/javascript\">require([\"plotly\"], function(Plotly) { window.PLOTLYENV=window.PLOTLYENV || {};window.PLOTLYENV.BASE_URL=\"https://plot.ly\";Plotly.newPlot(\"54dc8188-56d6-4f23-910b-c37e761e247a\", [{\"colorscale\": [[0, \"rgb(255,255,255)\"], [1, \"rgb(0,0,255)\"]], \"x\": [\"Video1\", \"Video2\", \"Quiz1\", \"Quiz2\", \"Pdf1\", \"Pdf2\", \"Ebook1\", \"Ebook2\"], \"y\": [\"Student_1\", \"Student_2\", \"Student_3\", \"Student_4\", \"Student_5\", \"Student_6\", \"Student_7\", \"Student_8\", \"Student_9\", \"Student_10\", \"Student_11\", \"Student_12\", \"Student_13\", \"Student_14\", \"Student_15\", \"Student_16\", \"Student_17\", \"Student_18\", \"Student_19\", \"Student_20\"], \"z\": [[9, 17, 24, 14, 19, 10, 1, 26], [22, 12, 25, 9, 3, 15, 13, 23], [23, 5, 0, 12, 29, 2, 0, 12], [21, 23, 20, 18, 3, 2, 22, 12], [20, 26, 13, 14, 9, 8, 1, 29], [1, 9, 2, 17, 27, 2, 4, 14], [19, 12, 29, 0, 2, 6, 0, 10], [7, 1, 5, 21, 2, 7, 17, 9], [24, 22, 12, 11, 7, 4, 18, 19], [14, 10, 3, 24, 23, 22, 9, 2], [22, 19, 8, 24, 23, 6, 22, 5], [26, 29, 6, 9, 28, 4, 10, 9], [17, 1, 2, 8, 8, 0, 4, 25], [9, 26, 12, 25, 15, 8, 14, 18], [14, 17, 9, 16, 6, 9, 15, 25], [25, 0, 1, 15, 12, 9, 12, 3], [12, 17, 19, 16, 20, 24, 2, 9], [19, 11, 6, 20, 19, 11, 8, 0], [7, 7, 17, 22, 7, 21, 12, 23], [6, 17, 3, 16, 14, 29, 9, 2]], \"type\": \"heatmap\", \"uid\": \"c96a213e-e29a-11e8-9490-d5f4ba98b039\"}], {\"title\": \"N\\u00famero de acessos nos materiais por estudante\", \"yaxis\": {\"dtick\": 1, \"exponentformat\": \"e\", \"gridcolor\": \"#bdbdbd\", \"showexponent\": \"all\", \"showticklabels\": true, \"tick0\": 0, \"titlefont\": {\"color\": \"lightgrey\", \"family\": \"Arial, sans-serif\"}}}, {\"showLink\": true, \"linkText\": \"Export to plot.ly\"})});</script>"
      ]
     },
     "metadata": {},
     "output_type": "display_data"
    },
    {
     "data": {
      "application/vnd.plotly.v1+json": {
       "data": [
        {
         "marker": {
          "line": {
           "width": 2
          },
          "size": [
           9,
           17,
           24,
           14,
           19,
           10,
           1,
           26
          ],
          "sizemode": "area",
          "sizeref": 0.06896551724137931,
          "symbol": "circle"
         },
         "mode": "markers",
         "name": "Student_1",
         "text": [
          "9",
          "17",
          "24",
          "14",
          "19",
          "10",
          "1",
          "26"
         ],
         "type": "scatter",
         "uid": "c97edd86-e29a-11e8-9490-d5f4ba98b039",
         "x": [
          "Student_1",
          "Student_1",
          "Student_1",
          "Student_1",
          "Student_1",
          "Student_1",
          "Student_1",
          "Student_1",
          "Student_1"
         ],
         "y": [
          "Video1",
          "Video2",
          "Quiz1",
          "Quiz2",
          "Pdf1",
          "Pdf2",
          "Ebook1",
          "Ebook2"
         ]
        },
        {
         "marker": {
          "line": {
           "width": 2
          },
          "size": [
           22,
           12,
           25,
           9,
           3,
           15,
           13,
           23
          ],
          "sizemode": "area",
          "sizeref": 0.06896551724137931,
          "symbol": "circle"
         },
         "mode": "markers",
         "name": "Student_2",
         "text": [
          "22",
          "12",
          "25",
          "9",
          "3",
          "15",
          "13",
          "23"
         ],
         "type": "scatter",
         "uid": "c97edf0c-e29a-11e8-9490-d5f4ba98b039",
         "x": [
          "Student_2",
          "Student_2",
          "Student_2",
          "Student_2",
          "Student_2",
          "Student_2",
          "Student_2",
          "Student_2",
          "Student_2"
         ],
         "y": [
          "Video1",
          "Video2",
          "Quiz1",
          "Quiz2",
          "Pdf1",
          "Pdf2",
          "Ebook1",
          "Ebook2"
         ]
        },
        {
         "marker": {
          "line": {
           "width": 2
          },
          "size": [
           23,
           5,
           0,
           12,
           29,
           2,
           0,
           12
          ],
          "sizemode": "area",
          "sizeref": 0.06896551724137931,
          "symbol": "circle"
         },
         "mode": "markers",
         "name": "Student_3",
         "text": [
          "23",
          "5",
          "0",
          "12",
          "29",
          "2",
          "0",
          "12"
         ],
         "type": "scatter",
         "uid": "c97edfca-e29a-11e8-9490-d5f4ba98b039",
         "x": [
          "Student_3",
          "Student_3",
          "Student_3",
          "Student_3",
          "Student_3",
          "Student_3",
          "Student_3",
          "Student_3",
          "Student_3"
         ],
         "y": [
          "Video1",
          "Video2",
          "Quiz1",
          "Quiz2",
          "Pdf1",
          "Pdf2",
          "Ebook1",
          "Ebook2"
         ]
        },
        {
         "marker": {
          "line": {
           "width": 2
          },
          "size": [
           21,
           23,
           20,
           18,
           3,
           2,
           22,
           12
          ],
          "sizemode": "area",
          "sizeref": 0.06896551724137931,
          "symbol": "circle"
         },
         "mode": "markers",
         "name": "Student_4",
         "text": [
          "21",
          "23",
          "20",
          "18",
          "3",
          "2",
          "22",
          "12"
         ],
         "type": "scatter",
         "uid": "c97ee060-e29a-11e8-9490-d5f4ba98b039",
         "x": [
          "Student_4",
          "Student_4",
          "Student_4",
          "Student_4",
          "Student_4",
          "Student_4",
          "Student_4",
          "Student_4",
          "Student_4"
         ],
         "y": [
          "Video1",
          "Video2",
          "Quiz1",
          "Quiz2",
          "Pdf1",
          "Pdf2",
          "Ebook1",
          "Ebook2"
         ]
        },
        {
         "marker": {
          "line": {
           "width": 2
          },
          "size": [
           20,
           26,
           13,
           14,
           9,
           8,
           1,
           29
          ],
          "sizemode": "area",
          "sizeref": 0.06896551724137931,
          "symbol": "circle"
         },
         "mode": "markers",
         "name": "Student_5",
         "text": [
          "20",
          "26",
          "13",
          "14",
          "9",
          "8",
          "1",
          "29"
         ],
         "type": "scatter",
         "uid": "c97ee0e2-e29a-11e8-9490-d5f4ba98b039",
         "x": [
          "Student_5",
          "Student_5",
          "Student_5",
          "Student_5",
          "Student_5",
          "Student_5",
          "Student_5",
          "Student_5",
          "Student_5"
         ],
         "y": [
          "Video1",
          "Video2",
          "Quiz1",
          "Quiz2",
          "Pdf1",
          "Pdf2",
          "Ebook1",
          "Ebook2"
         ]
        },
        {
         "marker": {
          "line": {
           "width": 2
          },
          "size": [
           1,
           9,
           2,
           17,
           27,
           2,
           4,
           14
          ],
          "sizemode": "area",
          "sizeref": 0.06896551724137931,
          "symbol": "circle"
         },
         "mode": "markers",
         "name": "Student_6",
         "text": [
          "1",
          "9",
          "2",
          "17",
          "27",
          "2",
          "4",
          "14"
         ],
         "type": "scatter",
         "uid": "c97ee16e-e29a-11e8-9490-d5f4ba98b039",
         "x": [
          "Student_6",
          "Student_6",
          "Student_6",
          "Student_6",
          "Student_6",
          "Student_6",
          "Student_6",
          "Student_6",
          "Student_6"
         ],
         "y": [
          "Video1",
          "Video2",
          "Quiz1",
          "Quiz2",
          "Pdf1",
          "Pdf2",
          "Ebook1",
          "Ebook2"
         ]
        },
        {
         "marker": {
          "line": {
           "width": 2
          },
          "size": [
           19,
           12,
           29,
           0,
           2,
           6,
           0,
           10
          ],
          "sizemode": "area",
          "sizeref": 0.06896551724137931,
          "symbol": "circle"
         },
         "mode": "markers",
         "name": "Student_7",
         "text": [
          "19",
          "12",
          "29",
          "0",
          "2",
          "6",
          "0",
          "10"
         ],
         "type": "scatter",
         "uid": "c97ee1e6-e29a-11e8-9490-d5f4ba98b039",
         "x": [
          "Student_7",
          "Student_7",
          "Student_7",
          "Student_7",
          "Student_7",
          "Student_7",
          "Student_7",
          "Student_7",
          "Student_7"
         ],
         "y": [
          "Video1",
          "Video2",
          "Quiz1",
          "Quiz2",
          "Pdf1",
          "Pdf2",
          "Ebook1",
          "Ebook2"
         ]
        },
        {
         "marker": {
          "line": {
           "width": 2
          },
          "size": [
           7,
           1,
           5,
           21,
           2,
           7,
           17,
           9
          ],
          "sizemode": "area",
          "sizeref": 0.06896551724137931,
          "symbol": "circle"
         },
         "mode": "markers",
         "name": "Student_8",
         "text": [
          "7",
          "1",
          "5",
          "21",
          "2",
          "7",
          "17",
          "9"
         ],
         "type": "scatter",
         "uid": "c97ee25e-e29a-11e8-9490-d5f4ba98b039",
         "x": [
          "Student_8",
          "Student_8",
          "Student_8",
          "Student_8",
          "Student_8",
          "Student_8",
          "Student_8",
          "Student_8",
          "Student_8"
         ],
         "y": [
          "Video1",
          "Video2",
          "Quiz1",
          "Quiz2",
          "Pdf1",
          "Pdf2",
          "Ebook1",
          "Ebook2"
         ]
        },
        {
         "marker": {
          "line": {
           "width": 2
          },
          "size": [
           24,
           22,
           12,
           11,
           7,
           4,
           18,
           19
          ],
          "sizemode": "area",
          "sizeref": 0.06896551724137931,
          "symbol": "circle"
         },
         "mode": "markers",
         "name": "Student_9",
         "text": [
          "24",
          "22",
          "12",
          "11",
          "7",
          "4",
          "18",
          "19"
         ],
         "type": "scatter",
         "uid": "c97ee2e0-e29a-11e8-9490-d5f4ba98b039",
         "x": [
          "Student_9",
          "Student_9",
          "Student_9",
          "Student_9",
          "Student_9",
          "Student_9",
          "Student_9",
          "Student_9",
          "Student_9"
         ],
         "y": [
          "Video1",
          "Video2",
          "Quiz1",
          "Quiz2",
          "Pdf1",
          "Pdf2",
          "Ebook1",
          "Ebook2"
         ]
        },
        {
         "marker": {
          "line": {
           "width": 2
          },
          "size": [
           14,
           10,
           3,
           24,
           23,
           22,
           9,
           2
          ],
          "sizemode": "area",
          "sizeref": 0.06896551724137931,
          "symbol": "circle"
         },
         "mode": "markers",
         "name": "Student_10",
         "text": [
          "14",
          "10",
          "3",
          "24",
          "23",
          "22",
          "9",
          "2"
         ],
         "type": "scatter",
         "uid": "c97ee358-e29a-11e8-9490-d5f4ba98b039",
         "x": [
          "Student_10",
          "Student_10",
          "Student_10",
          "Student_10",
          "Student_10",
          "Student_10",
          "Student_10",
          "Student_10",
          "Student_10"
         ],
         "y": [
          "Video1",
          "Video2",
          "Quiz1",
          "Quiz2",
          "Pdf1",
          "Pdf2",
          "Ebook1",
          "Ebook2"
         ]
        },
        {
         "marker": {
          "line": {
           "width": 2
          },
          "size": [
           22,
           19,
           8,
           24,
           23,
           6,
           22,
           5
          ],
          "sizemode": "area",
          "sizeref": 0.06896551724137931,
          "symbol": "circle"
         },
         "mode": "markers",
         "name": "Student_11",
         "text": [
          "22",
          "19",
          "8",
          "24",
          "23",
          "6",
          "22",
          "5"
         ],
         "type": "scatter",
         "uid": "c97ee3d0-e29a-11e8-9490-d5f4ba98b039",
         "x": [
          "Student_11",
          "Student_11",
          "Student_11",
          "Student_11",
          "Student_11",
          "Student_11",
          "Student_11",
          "Student_11",
          "Student_11"
         ],
         "y": [
          "Video1",
          "Video2",
          "Quiz1",
          "Quiz2",
          "Pdf1",
          "Pdf2",
          "Ebook1",
          "Ebook2"
         ]
        },
        {
         "marker": {
          "line": {
           "width": 2
          },
          "size": [
           26,
           29,
           6,
           9,
           28,
           4,
           10,
           9
          ],
          "sizemode": "area",
          "sizeref": 0.06896551724137931,
          "symbol": "circle"
         },
         "mode": "markers",
         "name": "Student_12",
         "text": [
          "26",
          "29",
          "6",
          "9",
          "28",
          "4",
          "10",
          "9"
         ],
         "type": "scatter",
         "uid": "c97ee448-e29a-11e8-9490-d5f4ba98b039",
         "x": [
          "Student_12",
          "Student_12",
          "Student_12",
          "Student_12",
          "Student_12",
          "Student_12",
          "Student_12",
          "Student_12",
          "Student_12"
         ],
         "y": [
          "Video1",
          "Video2",
          "Quiz1",
          "Quiz2",
          "Pdf1",
          "Pdf2",
          "Ebook1",
          "Ebook2"
         ]
        },
        {
         "marker": {
          "line": {
           "width": 2
          },
          "size": [
           17,
           1,
           2,
           8,
           8,
           0,
           4,
           25
          ],
          "sizemode": "area",
          "sizeref": 0.06896551724137931,
          "symbol": "circle"
         },
         "mode": "markers",
         "name": "Student_13",
         "text": [
          "17",
          "1",
          "2",
          "8",
          "8",
          "0",
          "4",
          "25"
         ],
         "type": "scatter",
         "uid": "c97ee4c0-e29a-11e8-9490-d5f4ba98b039",
         "x": [
          "Student_13",
          "Student_13",
          "Student_13",
          "Student_13",
          "Student_13",
          "Student_13",
          "Student_13",
          "Student_13",
          "Student_13"
         ],
         "y": [
          "Video1",
          "Video2",
          "Quiz1",
          "Quiz2",
          "Pdf1",
          "Pdf2",
          "Ebook1",
          "Ebook2"
         ]
        },
        {
         "marker": {
          "line": {
           "width": 2
          },
          "size": [
           9,
           26,
           12,
           25,
           15,
           8,
           14,
           18
          ],
          "sizemode": "area",
          "sizeref": 0.06896551724137931,
          "symbol": "circle"
         },
         "mode": "markers",
         "name": "Student_14",
         "text": [
          "9",
          "26",
          "12",
          "25",
          "15",
          "8",
          "14",
          "18"
         ],
         "type": "scatter",
         "uid": "c97ee538-e29a-11e8-9490-d5f4ba98b039",
         "x": [
          "Student_14",
          "Student_14",
          "Student_14",
          "Student_14",
          "Student_14",
          "Student_14",
          "Student_14",
          "Student_14",
          "Student_14"
         ],
         "y": [
          "Video1",
          "Video2",
          "Quiz1",
          "Quiz2",
          "Pdf1",
          "Pdf2",
          "Ebook1",
          "Ebook2"
         ]
        },
        {
         "marker": {
          "line": {
           "width": 2
          },
          "size": [
           14,
           17,
           9,
           16,
           6,
           9,
           15,
           25
          ],
          "sizemode": "area",
          "sizeref": 0.06896551724137931,
          "symbol": "circle"
         },
         "mode": "markers",
         "name": "Student_15",
         "text": [
          "14",
          "17",
          "9",
          "16",
          "6",
          "9",
          "15",
          "25"
         ],
         "type": "scatter",
         "uid": "c97ee5b0-e29a-11e8-9490-d5f4ba98b039",
         "x": [
          "Student_15",
          "Student_15",
          "Student_15",
          "Student_15",
          "Student_15",
          "Student_15",
          "Student_15",
          "Student_15",
          "Student_15"
         ],
         "y": [
          "Video1",
          "Video2",
          "Quiz1",
          "Quiz2",
          "Pdf1",
          "Pdf2",
          "Ebook1",
          "Ebook2"
         ]
        },
        {
         "marker": {
          "line": {
           "width": 2
          },
          "size": [
           25,
           0,
           1,
           15,
           12,
           9,
           12,
           3
          ],
          "sizemode": "area",
          "sizeref": 0.06896551724137931,
          "symbol": "circle"
         },
         "mode": "markers",
         "name": "Student_16",
         "text": [
          "25",
          "0",
          "1",
          "15",
          "12",
          "9",
          "12",
          "3"
         ],
         "type": "scatter",
         "uid": "c97ee61e-e29a-11e8-9490-d5f4ba98b039",
         "x": [
          "Student_16",
          "Student_16",
          "Student_16",
          "Student_16",
          "Student_16",
          "Student_16",
          "Student_16",
          "Student_16",
          "Student_16"
         ],
         "y": [
          "Video1",
          "Video2",
          "Quiz1",
          "Quiz2",
          "Pdf1",
          "Pdf2",
          "Ebook1",
          "Ebook2"
         ]
        },
        {
         "marker": {
          "line": {
           "width": 2
          },
          "size": [
           12,
           17,
           19,
           16,
           20,
           24,
           2,
           9
          ],
          "sizemode": "area",
          "sizeref": 0.06896551724137931,
          "symbol": "circle"
         },
         "mode": "markers",
         "name": "Student_17",
         "text": [
          "12",
          "17",
          "19",
          "16",
          "20",
          "24",
          "2",
          "9"
         ],
         "type": "scatter",
         "uid": "c97ee696-e29a-11e8-9490-d5f4ba98b039",
         "x": [
          "Student_17",
          "Student_17",
          "Student_17",
          "Student_17",
          "Student_17",
          "Student_17",
          "Student_17",
          "Student_17",
          "Student_17"
         ],
         "y": [
          "Video1",
          "Video2",
          "Quiz1",
          "Quiz2",
          "Pdf1",
          "Pdf2",
          "Ebook1",
          "Ebook2"
         ]
        },
        {
         "marker": {
          "line": {
           "width": 2
          },
          "size": [
           19,
           11,
           6,
           20,
           19,
           11,
           8,
           0
          ],
          "sizemode": "area",
          "sizeref": 0.06896551724137931,
          "symbol": "circle"
         },
         "mode": "markers",
         "name": "Student_18",
         "text": [
          "19",
          "11",
          "6",
          "20",
          "19",
          "11",
          "8",
          "0"
         ],
         "type": "scatter",
         "uid": "c97ee70e-e29a-11e8-9490-d5f4ba98b039",
         "x": [
          "Student_18",
          "Student_18",
          "Student_18",
          "Student_18",
          "Student_18",
          "Student_18",
          "Student_18",
          "Student_18",
          "Student_18"
         ],
         "y": [
          "Video1",
          "Video2",
          "Quiz1",
          "Quiz2",
          "Pdf1",
          "Pdf2",
          "Ebook1",
          "Ebook2"
         ]
        },
        {
         "marker": {
          "line": {
           "width": 2
          },
          "size": [
           7,
           7,
           17,
           22,
           7,
           21,
           12,
           23
          ],
          "sizemode": "area",
          "sizeref": 0.06896551724137931,
          "symbol": "circle"
         },
         "mode": "markers",
         "name": "Student_19",
         "text": [
          "7",
          "7",
          "17",
          "22",
          "7",
          "21",
          "12",
          "23"
         ],
         "type": "scatter",
         "uid": "c97ee77c-e29a-11e8-9490-d5f4ba98b039",
         "x": [
          "Student_19",
          "Student_19",
          "Student_19",
          "Student_19",
          "Student_19",
          "Student_19",
          "Student_19",
          "Student_19",
          "Student_19"
         ],
         "y": [
          "Video1",
          "Video2",
          "Quiz1",
          "Quiz2",
          "Pdf1",
          "Pdf2",
          "Ebook1",
          "Ebook2"
         ]
        },
        {
         "marker": {
          "line": {
           "width": 2
          },
          "size": [
           6,
           17,
           3,
           16,
           14,
           29,
           9,
           2
          ],
          "sizemode": "area",
          "sizeref": 0.06896551724137931,
          "symbol": "circle"
         },
         "mode": "markers",
         "name": "Student_20",
         "text": [
          "6",
          "17",
          "3",
          "16",
          "14",
          "29",
          "9",
          "2"
         ],
         "type": "scatter",
         "uid": "c97ee7f4-e29a-11e8-9490-d5f4ba98b039",
         "x": [
          "Student_20",
          "Student_20",
          "Student_20",
          "Student_20",
          "Student_20",
          "Student_20",
          "Student_20",
          "Student_20",
          "Student_20"
         ],
         "y": [
          "Video1",
          "Video2",
          "Quiz1",
          "Quiz2",
          "Pdf1",
          "Pdf2",
          "Ebook1",
          "Ebook2"
         ]
        }
       ],
       "layout": {
        "hovermode": "closest",
        "showlegend": true,
        "title": "Número de acessos nos materiais por estudante",
        "xaxis": {
         "autorange": false,
         "fixedrange": false,
         "range": [
          -1,
          20
         ],
         "rangemode": "normal",
         "showline": true,
         "title": "Estudantes",
         "type": "category"
        },
        "yaxis": {
         "autorange": false,
         "categoryorder": "category ascending",
         "fixedrange": false,
         "range": [
          -1,
          8
         ],
         "rangemode": "normal",
         "showline": true,
         "title": "Materiais",
         "type": "category"
        }
       }
      },
      "text/html": [
       "<div id=\"223cf675-bfa1-4a93-9465-2534126ab21a\" style=\"height: 525px; width: 100%;\" class=\"plotly-graph-div\"></div><script type=\"text/javascript\">require([\"plotly\"], function(Plotly) { window.PLOTLYENV=window.PLOTLYENV || {};window.PLOTLYENV.BASE_URL=\"https://plot.ly\";Plotly.newPlot(\"223cf675-bfa1-4a93-9465-2534126ab21a\", [{\"marker\": {\"line\": {\"width\": 2}, \"size\": [9, 17, 24, 14, 19, 10, 1, 26], \"sizemode\": \"area\", \"sizeref\": 0.06896551724137931, \"symbol\": \"circle\"}, \"mode\": \"markers\", \"name\": \"Student_1\", \"text\": [\"9\", \"17\", \"24\", \"14\", \"19\", \"10\", \"1\", \"26\"], \"x\": [\"Student_1\", \"Student_1\", \"Student_1\", \"Student_1\", \"Student_1\", \"Student_1\", \"Student_1\", \"Student_1\", \"Student_1\"], \"y\": [\"Video1\", \"Video2\", \"Quiz1\", \"Quiz2\", \"Pdf1\", \"Pdf2\", \"Ebook1\", \"Ebook2\"], \"type\": \"scatter\", \"uid\": \"c97edd86-e29a-11e8-9490-d5f4ba98b039\"}, {\"marker\": {\"line\": {\"width\": 2}, \"size\": [22, 12, 25, 9, 3, 15, 13, 23], \"sizemode\": \"area\", \"sizeref\": 0.06896551724137931, \"symbol\": \"circle\"}, \"mode\": \"markers\", \"name\": \"Student_2\", \"text\": [\"22\", \"12\", \"25\", \"9\", \"3\", \"15\", \"13\", \"23\"], \"x\": [\"Student_2\", \"Student_2\", \"Student_2\", \"Student_2\", \"Student_2\", \"Student_2\", \"Student_2\", \"Student_2\", \"Student_2\"], \"y\": [\"Video1\", \"Video2\", \"Quiz1\", \"Quiz2\", \"Pdf1\", \"Pdf2\", \"Ebook1\", \"Ebook2\"], \"type\": \"scatter\", \"uid\": \"c97edf0c-e29a-11e8-9490-d5f4ba98b039\"}, {\"marker\": {\"line\": {\"width\": 2}, \"size\": [23, 5, 0, 12, 29, 2, 0, 12], \"sizemode\": \"area\", \"sizeref\": 0.06896551724137931, \"symbol\": \"circle\"}, \"mode\": \"markers\", \"name\": \"Student_3\", \"text\": [\"23\", \"5\", \"0\", \"12\", \"29\", \"2\", \"0\", \"12\"], \"x\": [\"Student_3\", \"Student_3\", \"Student_3\", \"Student_3\", \"Student_3\", \"Student_3\", \"Student_3\", \"Student_3\", \"Student_3\"], \"y\": [\"Video1\", \"Video2\", \"Quiz1\", \"Quiz2\", \"Pdf1\", \"Pdf2\", \"Ebook1\", \"Ebook2\"], \"type\": \"scatter\", \"uid\": \"c97edfca-e29a-11e8-9490-d5f4ba98b039\"}, {\"marker\": {\"line\": {\"width\": 2}, \"size\": [21, 23, 20, 18, 3, 2, 22, 12], \"sizemode\": \"area\", \"sizeref\": 0.06896551724137931, \"symbol\": \"circle\"}, \"mode\": \"markers\", \"name\": \"Student_4\", \"text\": [\"21\", \"23\", \"20\", \"18\", \"3\", \"2\", \"22\", \"12\"], \"x\": [\"Student_4\", \"Student_4\", \"Student_4\", \"Student_4\", \"Student_4\", \"Student_4\", \"Student_4\", \"Student_4\", \"Student_4\"], \"y\": [\"Video1\", \"Video2\", \"Quiz1\", \"Quiz2\", \"Pdf1\", \"Pdf2\", \"Ebook1\", \"Ebook2\"], \"type\": \"scatter\", \"uid\": \"c97ee060-e29a-11e8-9490-d5f4ba98b039\"}, {\"marker\": {\"line\": {\"width\": 2}, \"size\": [20, 26, 13, 14, 9, 8, 1, 29], \"sizemode\": \"area\", \"sizeref\": 0.06896551724137931, \"symbol\": \"circle\"}, \"mode\": \"markers\", \"name\": \"Student_5\", \"text\": [\"20\", \"26\", \"13\", \"14\", \"9\", \"8\", \"1\", \"29\"], \"x\": [\"Student_5\", \"Student_5\", \"Student_5\", \"Student_5\", \"Student_5\", \"Student_5\", \"Student_5\", \"Student_5\", \"Student_5\"], \"y\": [\"Video1\", \"Video2\", \"Quiz1\", \"Quiz2\", \"Pdf1\", \"Pdf2\", \"Ebook1\", \"Ebook2\"], \"type\": \"scatter\", \"uid\": \"c97ee0e2-e29a-11e8-9490-d5f4ba98b039\"}, {\"marker\": {\"line\": {\"width\": 2}, \"size\": [1, 9, 2, 17, 27, 2, 4, 14], \"sizemode\": \"area\", \"sizeref\": 0.06896551724137931, \"symbol\": \"circle\"}, \"mode\": \"markers\", \"name\": \"Student_6\", \"text\": [\"1\", \"9\", \"2\", \"17\", \"27\", \"2\", \"4\", \"14\"], \"x\": [\"Student_6\", \"Student_6\", \"Student_6\", \"Student_6\", \"Student_6\", \"Student_6\", \"Student_6\", \"Student_6\", \"Student_6\"], \"y\": [\"Video1\", \"Video2\", \"Quiz1\", \"Quiz2\", \"Pdf1\", \"Pdf2\", \"Ebook1\", \"Ebook2\"], \"type\": \"scatter\", \"uid\": \"c97ee16e-e29a-11e8-9490-d5f4ba98b039\"}, {\"marker\": {\"line\": {\"width\": 2}, \"size\": [19, 12, 29, 0, 2, 6, 0, 10], \"sizemode\": \"area\", \"sizeref\": 0.06896551724137931, \"symbol\": \"circle\"}, \"mode\": \"markers\", \"name\": \"Student_7\", \"text\": [\"19\", \"12\", \"29\", \"0\", \"2\", \"6\", \"0\", \"10\"], \"x\": [\"Student_7\", \"Student_7\", \"Student_7\", \"Student_7\", \"Student_7\", \"Student_7\", \"Student_7\", \"Student_7\", \"Student_7\"], \"y\": [\"Video1\", \"Video2\", \"Quiz1\", \"Quiz2\", \"Pdf1\", \"Pdf2\", \"Ebook1\", \"Ebook2\"], \"type\": \"scatter\", \"uid\": \"c97ee1e6-e29a-11e8-9490-d5f4ba98b039\"}, {\"marker\": {\"line\": {\"width\": 2}, \"size\": [7, 1, 5, 21, 2, 7, 17, 9], \"sizemode\": \"area\", \"sizeref\": 0.06896551724137931, \"symbol\": \"circle\"}, \"mode\": \"markers\", \"name\": \"Student_8\", \"text\": [\"7\", \"1\", \"5\", \"21\", \"2\", \"7\", \"17\", \"9\"], \"x\": [\"Student_8\", \"Student_8\", \"Student_8\", \"Student_8\", \"Student_8\", \"Student_8\", \"Student_8\", \"Student_8\", \"Student_8\"], \"y\": [\"Video1\", \"Video2\", \"Quiz1\", \"Quiz2\", \"Pdf1\", \"Pdf2\", \"Ebook1\", \"Ebook2\"], \"type\": \"scatter\", \"uid\": \"c97ee25e-e29a-11e8-9490-d5f4ba98b039\"}, {\"marker\": {\"line\": {\"width\": 2}, \"size\": [24, 22, 12, 11, 7, 4, 18, 19], \"sizemode\": \"area\", \"sizeref\": 0.06896551724137931, \"symbol\": \"circle\"}, \"mode\": \"markers\", \"name\": \"Student_9\", \"text\": [\"24\", \"22\", \"12\", \"11\", \"7\", \"4\", \"18\", \"19\"], \"x\": [\"Student_9\", \"Student_9\", \"Student_9\", \"Student_9\", \"Student_9\", \"Student_9\", \"Student_9\", \"Student_9\", \"Student_9\"], \"y\": [\"Video1\", \"Video2\", \"Quiz1\", \"Quiz2\", \"Pdf1\", \"Pdf2\", \"Ebook1\", \"Ebook2\"], \"type\": \"scatter\", \"uid\": \"c97ee2e0-e29a-11e8-9490-d5f4ba98b039\"}, {\"marker\": {\"line\": {\"width\": 2}, \"size\": [14, 10, 3, 24, 23, 22, 9, 2], \"sizemode\": \"area\", \"sizeref\": 0.06896551724137931, \"symbol\": \"circle\"}, \"mode\": \"markers\", \"name\": \"Student_10\", \"text\": [\"14\", \"10\", \"3\", \"24\", \"23\", \"22\", \"9\", \"2\"], \"x\": [\"Student_10\", \"Student_10\", \"Student_10\", \"Student_10\", \"Student_10\", \"Student_10\", \"Student_10\", \"Student_10\", \"Student_10\"], \"y\": [\"Video1\", \"Video2\", \"Quiz1\", \"Quiz2\", \"Pdf1\", \"Pdf2\", \"Ebook1\", \"Ebook2\"], \"type\": \"scatter\", \"uid\": \"c97ee358-e29a-11e8-9490-d5f4ba98b039\"}, {\"marker\": {\"line\": {\"width\": 2}, \"size\": [22, 19, 8, 24, 23, 6, 22, 5], \"sizemode\": \"area\", \"sizeref\": 0.06896551724137931, \"symbol\": \"circle\"}, \"mode\": \"markers\", \"name\": \"Student_11\", \"text\": [\"22\", \"19\", \"8\", \"24\", \"23\", \"6\", \"22\", \"5\"], \"x\": [\"Student_11\", \"Student_11\", \"Student_11\", \"Student_11\", \"Student_11\", \"Student_11\", \"Student_11\", \"Student_11\", \"Student_11\"], \"y\": [\"Video1\", \"Video2\", \"Quiz1\", \"Quiz2\", \"Pdf1\", \"Pdf2\", \"Ebook1\", \"Ebook2\"], \"type\": \"scatter\", \"uid\": \"c97ee3d0-e29a-11e8-9490-d5f4ba98b039\"}, {\"marker\": {\"line\": {\"width\": 2}, \"size\": [26, 29, 6, 9, 28, 4, 10, 9], \"sizemode\": \"area\", \"sizeref\": 0.06896551724137931, \"symbol\": \"circle\"}, \"mode\": \"markers\", \"name\": \"Student_12\", \"text\": [\"26\", \"29\", \"6\", \"9\", \"28\", \"4\", \"10\", \"9\"], \"x\": [\"Student_12\", \"Student_12\", \"Student_12\", \"Student_12\", \"Student_12\", \"Student_12\", \"Student_12\", \"Student_12\", \"Student_12\"], \"y\": [\"Video1\", \"Video2\", \"Quiz1\", \"Quiz2\", \"Pdf1\", \"Pdf2\", \"Ebook1\", \"Ebook2\"], \"type\": \"scatter\", \"uid\": \"c97ee448-e29a-11e8-9490-d5f4ba98b039\"}, {\"marker\": {\"line\": {\"width\": 2}, \"size\": [17, 1, 2, 8, 8, 0, 4, 25], \"sizemode\": \"area\", \"sizeref\": 0.06896551724137931, \"symbol\": \"circle\"}, \"mode\": \"markers\", \"name\": \"Student_13\", \"text\": [\"17\", \"1\", \"2\", \"8\", \"8\", \"0\", \"4\", \"25\"], \"x\": [\"Student_13\", \"Student_13\", \"Student_13\", \"Student_13\", \"Student_13\", \"Student_13\", \"Student_13\", \"Student_13\", \"Student_13\"], \"y\": [\"Video1\", \"Video2\", \"Quiz1\", \"Quiz2\", \"Pdf1\", \"Pdf2\", \"Ebook1\", \"Ebook2\"], \"type\": \"scatter\", \"uid\": \"c97ee4c0-e29a-11e8-9490-d5f4ba98b039\"}, {\"marker\": {\"line\": {\"width\": 2}, \"size\": [9, 26, 12, 25, 15, 8, 14, 18], \"sizemode\": \"area\", \"sizeref\": 0.06896551724137931, \"symbol\": \"circle\"}, \"mode\": \"markers\", \"name\": \"Student_14\", \"text\": [\"9\", \"26\", \"12\", \"25\", \"15\", \"8\", \"14\", \"18\"], \"x\": [\"Student_14\", \"Student_14\", \"Student_14\", \"Student_14\", \"Student_14\", \"Student_14\", \"Student_14\", \"Student_14\", \"Student_14\"], \"y\": [\"Video1\", \"Video2\", \"Quiz1\", \"Quiz2\", \"Pdf1\", \"Pdf2\", \"Ebook1\", \"Ebook2\"], \"type\": \"scatter\", \"uid\": \"c97ee538-e29a-11e8-9490-d5f4ba98b039\"}, {\"marker\": {\"line\": {\"width\": 2}, \"size\": [14, 17, 9, 16, 6, 9, 15, 25], \"sizemode\": \"area\", \"sizeref\": 0.06896551724137931, \"symbol\": \"circle\"}, \"mode\": \"markers\", \"name\": \"Student_15\", \"text\": [\"14\", \"17\", \"9\", \"16\", \"6\", \"9\", \"15\", \"25\"], \"x\": [\"Student_15\", \"Student_15\", \"Student_15\", \"Student_15\", \"Student_15\", \"Student_15\", \"Student_15\", \"Student_15\", \"Student_15\"], \"y\": [\"Video1\", \"Video2\", \"Quiz1\", \"Quiz2\", \"Pdf1\", \"Pdf2\", \"Ebook1\", \"Ebook2\"], \"type\": \"scatter\", \"uid\": \"c97ee5b0-e29a-11e8-9490-d5f4ba98b039\"}, {\"marker\": {\"line\": {\"width\": 2}, \"size\": [25, 0, 1, 15, 12, 9, 12, 3], \"sizemode\": \"area\", \"sizeref\": 0.06896551724137931, \"symbol\": \"circle\"}, \"mode\": \"markers\", \"name\": \"Student_16\", \"text\": [\"25\", \"0\", \"1\", \"15\", \"12\", \"9\", \"12\", \"3\"], \"x\": [\"Student_16\", \"Student_16\", \"Student_16\", \"Student_16\", \"Student_16\", \"Student_16\", \"Student_16\", \"Student_16\", \"Student_16\"], \"y\": [\"Video1\", \"Video2\", \"Quiz1\", \"Quiz2\", \"Pdf1\", \"Pdf2\", \"Ebook1\", \"Ebook2\"], \"type\": \"scatter\", \"uid\": \"c97ee61e-e29a-11e8-9490-d5f4ba98b039\"}, {\"marker\": {\"line\": {\"width\": 2}, \"size\": [12, 17, 19, 16, 20, 24, 2, 9], \"sizemode\": \"area\", \"sizeref\": 0.06896551724137931, \"symbol\": \"circle\"}, \"mode\": \"markers\", \"name\": \"Student_17\", \"text\": [\"12\", \"17\", \"19\", \"16\", \"20\", \"24\", \"2\", \"9\"], \"x\": [\"Student_17\", \"Student_17\", \"Student_17\", \"Student_17\", \"Student_17\", \"Student_17\", \"Student_17\", \"Student_17\", \"Student_17\"], \"y\": [\"Video1\", \"Video2\", \"Quiz1\", \"Quiz2\", \"Pdf1\", \"Pdf2\", \"Ebook1\", \"Ebook2\"], \"type\": \"scatter\", \"uid\": \"c97ee696-e29a-11e8-9490-d5f4ba98b039\"}, {\"marker\": {\"line\": {\"width\": 2}, \"size\": [19, 11, 6, 20, 19, 11, 8, 0], \"sizemode\": \"area\", \"sizeref\": 0.06896551724137931, \"symbol\": \"circle\"}, \"mode\": \"markers\", \"name\": \"Student_18\", \"text\": [\"19\", \"11\", \"6\", \"20\", \"19\", \"11\", \"8\", \"0\"], \"x\": [\"Student_18\", \"Student_18\", \"Student_18\", \"Student_18\", \"Student_18\", \"Student_18\", \"Student_18\", \"Student_18\", \"Student_18\"], \"y\": [\"Video1\", \"Video2\", \"Quiz1\", \"Quiz2\", \"Pdf1\", \"Pdf2\", \"Ebook1\", \"Ebook2\"], \"type\": \"scatter\", \"uid\": \"c97ee70e-e29a-11e8-9490-d5f4ba98b039\"}, {\"marker\": {\"line\": {\"width\": 2}, \"size\": [7, 7, 17, 22, 7, 21, 12, 23], \"sizemode\": \"area\", \"sizeref\": 0.06896551724137931, \"symbol\": \"circle\"}, \"mode\": \"markers\", \"name\": \"Student_19\", \"text\": [\"7\", \"7\", \"17\", \"22\", \"7\", \"21\", \"12\", \"23\"], \"x\": [\"Student_19\", \"Student_19\", \"Student_19\", \"Student_19\", \"Student_19\", \"Student_19\", \"Student_19\", \"Student_19\", \"Student_19\"], \"y\": [\"Video1\", \"Video2\", \"Quiz1\", \"Quiz2\", \"Pdf1\", \"Pdf2\", \"Ebook1\", \"Ebook2\"], \"type\": \"scatter\", \"uid\": \"c97ee77c-e29a-11e8-9490-d5f4ba98b039\"}, {\"marker\": {\"line\": {\"width\": 2}, \"size\": [6, 17, 3, 16, 14, 29, 9, 2], \"sizemode\": \"area\", \"sizeref\": 0.06896551724137931, \"symbol\": \"circle\"}, \"mode\": \"markers\", \"name\": \"Student_20\", \"text\": [\"6\", \"17\", \"3\", \"16\", \"14\", \"29\", \"9\", \"2\"], \"x\": [\"Student_20\", \"Student_20\", \"Student_20\", \"Student_20\", \"Student_20\", \"Student_20\", \"Student_20\", \"Student_20\", \"Student_20\"], \"y\": [\"Video1\", \"Video2\", \"Quiz1\", \"Quiz2\", \"Pdf1\", \"Pdf2\", \"Ebook1\", \"Ebook2\"], \"type\": \"scatter\", \"uid\": \"c97ee7f4-e29a-11e8-9490-d5f4ba98b039\"}], {\"hovermode\": \"closest\", \"showlegend\": true, \"title\": \"N\\u00famero de acessos nos materiais por estudante\", \"xaxis\": {\"autorange\": false, \"fixedrange\": false, \"range\": [-1, 20], \"rangemode\": \"normal\", \"showline\": true, \"title\": \"Estudantes\", \"type\": \"category\"}, \"yaxis\": {\"autorange\": false, \"categoryorder\": \"category ascending\", \"fixedrange\": false, \"range\": [-1, 8], \"rangemode\": \"normal\", \"showline\": true, \"title\": \"Materiais\", \"type\": \"category\"}}, {\"showLink\": true, \"linkText\": \"Export to plot.ly\"})});</script>"
      ],
      "text/vnd.plotly.v1+html": [
       "<div id=\"223cf675-bfa1-4a93-9465-2534126ab21a\" style=\"height: 525px; width: 100%;\" class=\"plotly-graph-div\"></div><script type=\"text/javascript\">require([\"plotly\"], function(Plotly) { window.PLOTLYENV=window.PLOTLYENV || {};window.PLOTLYENV.BASE_URL=\"https://plot.ly\";Plotly.newPlot(\"223cf675-bfa1-4a93-9465-2534126ab21a\", [{\"marker\": {\"line\": {\"width\": 2}, \"size\": [9, 17, 24, 14, 19, 10, 1, 26], \"sizemode\": \"area\", \"sizeref\": 0.06896551724137931, \"symbol\": \"circle\"}, \"mode\": \"markers\", \"name\": \"Student_1\", \"text\": [\"9\", \"17\", \"24\", \"14\", \"19\", \"10\", \"1\", \"26\"], \"x\": [\"Student_1\", \"Student_1\", \"Student_1\", \"Student_1\", \"Student_1\", \"Student_1\", \"Student_1\", \"Student_1\", \"Student_1\"], \"y\": [\"Video1\", \"Video2\", \"Quiz1\", \"Quiz2\", \"Pdf1\", \"Pdf2\", \"Ebook1\", \"Ebook2\"], \"type\": \"scatter\", \"uid\": \"c97edd86-e29a-11e8-9490-d5f4ba98b039\"}, {\"marker\": {\"line\": {\"width\": 2}, \"size\": [22, 12, 25, 9, 3, 15, 13, 23], \"sizemode\": \"area\", \"sizeref\": 0.06896551724137931, \"symbol\": \"circle\"}, \"mode\": \"markers\", \"name\": \"Student_2\", \"text\": [\"22\", \"12\", \"25\", \"9\", \"3\", \"15\", \"13\", \"23\"], \"x\": [\"Student_2\", \"Student_2\", \"Student_2\", \"Student_2\", \"Student_2\", \"Student_2\", \"Student_2\", \"Student_2\", \"Student_2\"], \"y\": [\"Video1\", \"Video2\", \"Quiz1\", \"Quiz2\", \"Pdf1\", \"Pdf2\", \"Ebook1\", \"Ebook2\"], \"type\": \"scatter\", \"uid\": \"c97edf0c-e29a-11e8-9490-d5f4ba98b039\"}, {\"marker\": {\"line\": {\"width\": 2}, \"size\": [23, 5, 0, 12, 29, 2, 0, 12], \"sizemode\": \"area\", \"sizeref\": 0.06896551724137931, \"symbol\": \"circle\"}, \"mode\": \"markers\", \"name\": \"Student_3\", \"text\": [\"23\", \"5\", \"0\", \"12\", \"29\", \"2\", \"0\", \"12\"], \"x\": [\"Student_3\", \"Student_3\", \"Student_3\", \"Student_3\", \"Student_3\", \"Student_3\", \"Student_3\", \"Student_3\", \"Student_3\"], \"y\": [\"Video1\", \"Video2\", \"Quiz1\", \"Quiz2\", \"Pdf1\", \"Pdf2\", \"Ebook1\", \"Ebook2\"], \"type\": \"scatter\", \"uid\": \"c97edfca-e29a-11e8-9490-d5f4ba98b039\"}, {\"marker\": {\"line\": {\"width\": 2}, \"size\": [21, 23, 20, 18, 3, 2, 22, 12], \"sizemode\": \"area\", \"sizeref\": 0.06896551724137931, \"symbol\": \"circle\"}, \"mode\": \"markers\", \"name\": \"Student_4\", \"text\": [\"21\", \"23\", \"20\", \"18\", \"3\", \"2\", \"22\", \"12\"], \"x\": [\"Student_4\", \"Student_4\", \"Student_4\", \"Student_4\", \"Student_4\", \"Student_4\", \"Student_4\", \"Student_4\", \"Student_4\"], \"y\": [\"Video1\", \"Video2\", \"Quiz1\", \"Quiz2\", \"Pdf1\", \"Pdf2\", \"Ebook1\", \"Ebook2\"], \"type\": \"scatter\", \"uid\": \"c97ee060-e29a-11e8-9490-d5f4ba98b039\"}, {\"marker\": {\"line\": {\"width\": 2}, \"size\": [20, 26, 13, 14, 9, 8, 1, 29], \"sizemode\": \"area\", \"sizeref\": 0.06896551724137931, \"symbol\": \"circle\"}, \"mode\": \"markers\", \"name\": \"Student_5\", \"text\": [\"20\", \"26\", \"13\", \"14\", \"9\", \"8\", \"1\", \"29\"], \"x\": [\"Student_5\", \"Student_5\", \"Student_5\", \"Student_5\", \"Student_5\", \"Student_5\", \"Student_5\", \"Student_5\", \"Student_5\"], \"y\": [\"Video1\", \"Video2\", \"Quiz1\", \"Quiz2\", \"Pdf1\", \"Pdf2\", \"Ebook1\", \"Ebook2\"], \"type\": \"scatter\", \"uid\": \"c97ee0e2-e29a-11e8-9490-d5f4ba98b039\"}, {\"marker\": {\"line\": {\"width\": 2}, \"size\": [1, 9, 2, 17, 27, 2, 4, 14], \"sizemode\": \"area\", \"sizeref\": 0.06896551724137931, \"symbol\": \"circle\"}, \"mode\": \"markers\", \"name\": \"Student_6\", \"text\": [\"1\", \"9\", \"2\", \"17\", \"27\", \"2\", \"4\", \"14\"], \"x\": [\"Student_6\", \"Student_6\", \"Student_6\", \"Student_6\", \"Student_6\", \"Student_6\", \"Student_6\", \"Student_6\", \"Student_6\"], \"y\": [\"Video1\", \"Video2\", \"Quiz1\", \"Quiz2\", \"Pdf1\", \"Pdf2\", \"Ebook1\", \"Ebook2\"], \"type\": \"scatter\", \"uid\": \"c97ee16e-e29a-11e8-9490-d5f4ba98b039\"}, {\"marker\": {\"line\": {\"width\": 2}, \"size\": [19, 12, 29, 0, 2, 6, 0, 10], \"sizemode\": \"area\", \"sizeref\": 0.06896551724137931, \"symbol\": \"circle\"}, \"mode\": \"markers\", \"name\": \"Student_7\", \"text\": [\"19\", \"12\", \"29\", \"0\", \"2\", \"6\", \"0\", \"10\"], \"x\": [\"Student_7\", \"Student_7\", \"Student_7\", \"Student_7\", \"Student_7\", \"Student_7\", \"Student_7\", \"Student_7\", \"Student_7\"], \"y\": [\"Video1\", \"Video2\", \"Quiz1\", \"Quiz2\", \"Pdf1\", \"Pdf2\", \"Ebook1\", \"Ebook2\"], \"type\": \"scatter\", \"uid\": \"c97ee1e6-e29a-11e8-9490-d5f4ba98b039\"}, {\"marker\": {\"line\": {\"width\": 2}, \"size\": [7, 1, 5, 21, 2, 7, 17, 9], \"sizemode\": \"area\", \"sizeref\": 0.06896551724137931, \"symbol\": \"circle\"}, \"mode\": \"markers\", \"name\": \"Student_8\", \"text\": [\"7\", \"1\", \"5\", \"21\", \"2\", \"7\", \"17\", \"9\"], \"x\": [\"Student_8\", \"Student_8\", \"Student_8\", \"Student_8\", \"Student_8\", \"Student_8\", \"Student_8\", \"Student_8\", \"Student_8\"], \"y\": [\"Video1\", \"Video2\", \"Quiz1\", \"Quiz2\", \"Pdf1\", \"Pdf2\", \"Ebook1\", \"Ebook2\"], \"type\": \"scatter\", \"uid\": \"c97ee25e-e29a-11e8-9490-d5f4ba98b039\"}, {\"marker\": {\"line\": {\"width\": 2}, \"size\": [24, 22, 12, 11, 7, 4, 18, 19], \"sizemode\": \"area\", \"sizeref\": 0.06896551724137931, \"symbol\": \"circle\"}, \"mode\": \"markers\", \"name\": \"Student_9\", \"text\": [\"24\", \"22\", \"12\", \"11\", \"7\", \"4\", \"18\", \"19\"], \"x\": [\"Student_9\", \"Student_9\", \"Student_9\", \"Student_9\", \"Student_9\", \"Student_9\", \"Student_9\", \"Student_9\", \"Student_9\"], \"y\": [\"Video1\", \"Video2\", \"Quiz1\", \"Quiz2\", \"Pdf1\", \"Pdf2\", \"Ebook1\", \"Ebook2\"], \"type\": \"scatter\", \"uid\": \"c97ee2e0-e29a-11e8-9490-d5f4ba98b039\"}, {\"marker\": {\"line\": {\"width\": 2}, \"size\": [14, 10, 3, 24, 23, 22, 9, 2], \"sizemode\": \"area\", \"sizeref\": 0.06896551724137931, \"symbol\": \"circle\"}, \"mode\": \"markers\", \"name\": \"Student_10\", \"text\": [\"14\", \"10\", \"3\", \"24\", \"23\", \"22\", \"9\", \"2\"], \"x\": [\"Student_10\", \"Student_10\", \"Student_10\", \"Student_10\", \"Student_10\", \"Student_10\", \"Student_10\", \"Student_10\", \"Student_10\"], \"y\": [\"Video1\", \"Video2\", \"Quiz1\", \"Quiz2\", \"Pdf1\", \"Pdf2\", \"Ebook1\", \"Ebook2\"], \"type\": \"scatter\", \"uid\": \"c97ee358-e29a-11e8-9490-d5f4ba98b039\"}, {\"marker\": {\"line\": {\"width\": 2}, \"size\": [22, 19, 8, 24, 23, 6, 22, 5], \"sizemode\": \"area\", \"sizeref\": 0.06896551724137931, \"symbol\": \"circle\"}, \"mode\": \"markers\", \"name\": \"Student_11\", \"text\": [\"22\", \"19\", \"8\", \"24\", \"23\", \"6\", \"22\", \"5\"], \"x\": [\"Student_11\", \"Student_11\", \"Student_11\", \"Student_11\", \"Student_11\", \"Student_11\", \"Student_11\", \"Student_11\", \"Student_11\"], \"y\": [\"Video1\", \"Video2\", \"Quiz1\", \"Quiz2\", \"Pdf1\", \"Pdf2\", \"Ebook1\", \"Ebook2\"], \"type\": \"scatter\", \"uid\": \"c97ee3d0-e29a-11e8-9490-d5f4ba98b039\"}, {\"marker\": {\"line\": {\"width\": 2}, \"size\": [26, 29, 6, 9, 28, 4, 10, 9], \"sizemode\": \"area\", \"sizeref\": 0.06896551724137931, \"symbol\": \"circle\"}, \"mode\": \"markers\", \"name\": \"Student_12\", \"text\": [\"26\", \"29\", \"6\", \"9\", \"28\", \"4\", \"10\", \"9\"], \"x\": [\"Student_12\", \"Student_12\", \"Student_12\", \"Student_12\", \"Student_12\", \"Student_12\", \"Student_12\", \"Student_12\", \"Student_12\"], \"y\": [\"Video1\", \"Video2\", \"Quiz1\", \"Quiz2\", \"Pdf1\", \"Pdf2\", \"Ebook1\", \"Ebook2\"], \"type\": \"scatter\", \"uid\": \"c97ee448-e29a-11e8-9490-d5f4ba98b039\"}, {\"marker\": {\"line\": {\"width\": 2}, \"size\": [17, 1, 2, 8, 8, 0, 4, 25], \"sizemode\": \"area\", \"sizeref\": 0.06896551724137931, \"symbol\": \"circle\"}, \"mode\": \"markers\", \"name\": \"Student_13\", \"text\": [\"17\", \"1\", \"2\", \"8\", \"8\", \"0\", \"4\", \"25\"], \"x\": [\"Student_13\", \"Student_13\", \"Student_13\", \"Student_13\", \"Student_13\", \"Student_13\", \"Student_13\", \"Student_13\", \"Student_13\"], \"y\": [\"Video1\", \"Video2\", \"Quiz1\", \"Quiz2\", \"Pdf1\", \"Pdf2\", \"Ebook1\", \"Ebook2\"], \"type\": \"scatter\", \"uid\": \"c97ee4c0-e29a-11e8-9490-d5f4ba98b039\"}, {\"marker\": {\"line\": {\"width\": 2}, \"size\": [9, 26, 12, 25, 15, 8, 14, 18], \"sizemode\": \"area\", \"sizeref\": 0.06896551724137931, \"symbol\": \"circle\"}, \"mode\": \"markers\", \"name\": \"Student_14\", \"text\": [\"9\", \"26\", \"12\", \"25\", \"15\", \"8\", \"14\", \"18\"], \"x\": [\"Student_14\", \"Student_14\", \"Student_14\", \"Student_14\", \"Student_14\", \"Student_14\", \"Student_14\", \"Student_14\", \"Student_14\"], \"y\": [\"Video1\", \"Video2\", \"Quiz1\", \"Quiz2\", \"Pdf1\", \"Pdf2\", \"Ebook1\", \"Ebook2\"], \"type\": \"scatter\", \"uid\": \"c97ee538-e29a-11e8-9490-d5f4ba98b039\"}, {\"marker\": {\"line\": {\"width\": 2}, \"size\": [14, 17, 9, 16, 6, 9, 15, 25], \"sizemode\": \"area\", \"sizeref\": 0.06896551724137931, \"symbol\": \"circle\"}, \"mode\": \"markers\", \"name\": \"Student_15\", \"text\": [\"14\", \"17\", \"9\", \"16\", \"6\", \"9\", \"15\", \"25\"], \"x\": [\"Student_15\", \"Student_15\", \"Student_15\", \"Student_15\", \"Student_15\", \"Student_15\", \"Student_15\", \"Student_15\", \"Student_15\"], \"y\": [\"Video1\", \"Video2\", \"Quiz1\", \"Quiz2\", \"Pdf1\", \"Pdf2\", \"Ebook1\", \"Ebook2\"], \"type\": \"scatter\", \"uid\": \"c97ee5b0-e29a-11e8-9490-d5f4ba98b039\"}, {\"marker\": {\"line\": {\"width\": 2}, \"size\": [25, 0, 1, 15, 12, 9, 12, 3], \"sizemode\": \"area\", \"sizeref\": 0.06896551724137931, \"symbol\": \"circle\"}, \"mode\": \"markers\", \"name\": \"Student_16\", \"text\": [\"25\", \"0\", \"1\", \"15\", \"12\", \"9\", \"12\", \"3\"], \"x\": [\"Student_16\", \"Student_16\", \"Student_16\", \"Student_16\", \"Student_16\", \"Student_16\", \"Student_16\", \"Student_16\", \"Student_16\"], \"y\": [\"Video1\", \"Video2\", \"Quiz1\", \"Quiz2\", \"Pdf1\", \"Pdf2\", \"Ebook1\", \"Ebook2\"], \"type\": \"scatter\", \"uid\": \"c97ee61e-e29a-11e8-9490-d5f4ba98b039\"}, {\"marker\": {\"line\": {\"width\": 2}, \"size\": [12, 17, 19, 16, 20, 24, 2, 9], \"sizemode\": \"area\", \"sizeref\": 0.06896551724137931, \"symbol\": \"circle\"}, \"mode\": \"markers\", \"name\": \"Student_17\", \"text\": [\"12\", \"17\", \"19\", \"16\", \"20\", \"24\", \"2\", \"9\"], \"x\": [\"Student_17\", \"Student_17\", \"Student_17\", \"Student_17\", \"Student_17\", \"Student_17\", \"Student_17\", \"Student_17\", \"Student_17\"], \"y\": [\"Video1\", \"Video2\", \"Quiz1\", \"Quiz2\", \"Pdf1\", \"Pdf2\", \"Ebook1\", \"Ebook2\"], \"type\": \"scatter\", \"uid\": \"c97ee696-e29a-11e8-9490-d5f4ba98b039\"}, {\"marker\": {\"line\": {\"width\": 2}, \"size\": [19, 11, 6, 20, 19, 11, 8, 0], \"sizemode\": \"area\", \"sizeref\": 0.06896551724137931, \"symbol\": \"circle\"}, \"mode\": \"markers\", \"name\": \"Student_18\", \"text\": [\"19\", \"11\", \"6\", \"20\", \"19\", \"11\", \"8\", \"0\"], \"x\": [\"Student_18\", \"Student_18\", \"Student_18\", \"Student_18\", \"Student_18\", \"Student_18\", \"Student_18\", \"Student_18\", \"Student_18\"], \"y\": [\"Video1\", \"Video2\", \"Quiz1\", \"Quiz2\", \"Pdf1\", \"Pdf2\", \"Ebook1\", \"Ebook2\"], \"type\": \"scatter\", \"uid\": \"c97ee70e-e29a-11e8-9490-d5f4ba98b039\"}, {\"marker\": {\"line\": {\"width\": 2}, \"size\": [7, 7, 17, 22, 7, 21, 12, 23], \"sizemode\": \"area\", \"sizeref\": 0.06896551724137931, \"symbol\": \"circle\"}, \"mode\": \"markers\", \"name\": \"Student_19\", \"text\": [\"7\", \"7\", \"17\", \"22\", \"7\", \"21\", \"12\", \"23\"], \"x\": [\"Student_19\", \"Student_19\", \"Student_19\", \"Student_19\", \"Student_19\", \"Student_19\", \"Student_19\", \"Student_19\", \"Student_19\"], \"y\": [\"Video1\", \"Video2\", \"Quiz1\", \"Quiz2\", \"Pdf1\", \"Pdf2\", \"Ebook1\", \"Ebook2\"], \"type\": \"scatter\", \"uid\": \"c97ee77c-e29a-11e8-9490-d5f4ba98b039\"}, {\"marker\": {\"line\": {\"width\": 2}, \"size\": [6, 17, 3, 16, 14, 29, 9, 2], \"sizemode\": \"area\", \"sizeref\": 0.06896551724137931, \"symbol\": \"circle\"}, \"mode\": \"markers\", \"name\": \"Student_20\", \"text\": [\"6\", \"17\", \"3\", \"16\", \"14\", \"29\", \"9\", \"2\"], \"x\": [\"Student_20\", \"Student_20\", \"Student_20\", \"Student_20\", \"Student_20\", \"Student_20\", \"Student_20\", \"Student_20\", \"Student_20\"], \"y\": [\"Video1\", \"Video2\", \"Quiz1\", \"Quiz2\", \"Pdf1\", \"Pdf2\", \"Ebook1\", \"Ebook2\"], \"type\": \"scatter\", \"uid\": \"c97ee7f4-e29a-11e8-9490-d5f4ba98b039\"}], {\"hovermode\": \"closest\", \"showlegend\": true, \"title\": \"N\\u00famero de acessos nos materiais por estudante\", \"xaxis\": {\"autorange\": false, \"fixedrange\": false, \"range\": [-1, 20], \"rangemode\": \"normal\", \"showline\": true, \"title\": \"Estudantes\", \"type\": \"category\"}, \"yaxis\": {\"autorange\": false, \"categoryorder\": \"category ascending\", \"fixedrange\": false, \"range\": [-1, 8], \"rangemode\": \"normal\", \"showline\": true, \"title\": \"Materiais\", \"type\": \"category\"}}, {\"showLink\": true, \"linkText\": \"Export to plot.ly\"})});</script>"
      ]
     },
     "metadata": {},
     "output_type": "display_data"
    }
   ],
   "source": [
    "run scripts/V002.py"
   ]
  },
  {
   "cell_type": "markdown",
   "metadata": {},
   "source": [
    "### View 003"
   ]
  },
  {
   "cell_type": "code",
   "execution_count": 243,
   "metadata": {
    "scrolled": true
   },
   "outputs": [
    {
     "data": {
      "text/html": [
       "<script>requirejs.config({paths: { 'plotly': ['https://cdn.plot.ly/plotly-latest.min']},});if(!window.Plotly) {{require(['plotly'],function(plotly) {window.Plotly=plotly;});}}</script>"
      ],
      "text/vnd.plotly.v1+html": [
       "<script>requirejs.config({paths: { 'plotly': ['https://cdn.plot.ly/plotly-latest.min']},});if(!window.Plotly) {{require(['plotly'],function(plotly) {window.Plotly=plotly;});}}</script>"
      ]
     },
     "metadata": {},
     "output_type": "display_data"
    },
    {
     "data": {
      "application/vnd.plotly.v1+json": {
       "data": [
        {
         "cells": {
          "align": [
           "left",
           "center"
          ],
          "fill": {
           "color": "#F5F8FF"
          },
          "values": [
           [
            "Student_1",
            "Student_2",
            "Student_3",
            "Student_4",
            "Student_5",
            "Student_6",
            "Student_7",
            "Student_8",
            "Student_9",
            "Student_10",
            "Student_11",
            "Student_12",
            "Student_13",
            "Student_14",
            "Student_15",
            "Student_16",
            "Student_17",
            "Student_18",
            "Student_19",
            "Student_20"
           ],
           [
            8,
            3,
            1,
            14,
            17,
            8,
            9,
            12,
            0,
            16,
            3,
            11,
            4,
            6,
            6,
            7,
            3,
            7,
            16,
            11
           ],
           [
            5,
            8,
            6,
            4,
            0,
            1,
            10,
            15,
            5,
            19,
            4,
            15,
            5,
            19,
            17,
            1,
            5,
            19,
            1,
            4
           ],
           [
            5,
            7,
            4,
            1,
            12,
            17,
            18,
            10,
            9,
            17,
            4,
            2,
            9,
            17,
            1,
            5,
            16,
            0,
            5,
            18
           ]
          ]
         },
         "header": {
          "align": "center",
          "fill": {
           "color": "#C2D4FF"
          },
          "values": [
           "Students",
           "Hits",
           "Readings",
           "Posts"
          ]
         },
         "type": "table",
         "uid": "4cef1204-e29a-11e8-9490-d5f4ba98b039"
        }
       ],
       "layout": {}
      },
      "text/html": [
       "<div id=\"cf7b654f-43bc-45db-b051-bc4866fd57f5\" style=\"height: 525px; width: 100%;\" class=\"plotly-graph-div\"></div><script type=\"text/javascript\">require([\"plotly\"], function(Plotly) { window.PLOTLYENV=window.PLOTLYENV || {};window.PLOTLYENV.BASE_URL=\"https://plot.ly\";Plotly.newPlot(\"cf7b654f-43bc-45db-b051-bc4866fd57f5\", [{\"cells\": {\"align\": [\"left\", \"center\"], \"fill\": {\"color\": \"#F5F8FF\"}, \"values\": [[\"Student_1\", \"Student_2\", \"Student_3\", \"Student_4\", \"Student_5\", \"Student_6\", \"Student_7\", \"Student_8\", \"Student_9\", \"Student_10\", \"Student_11\", \"Student_12\", \"Student_13\", \"Student_14\", \"Student_15\", \"Student_16\", \"Student_17\", \"Student_18\", \"Student_19\", \"Student_20\"], [8, 3, 1, 14, 17, 8, 9, 12, 0, 16, 3, 11, 4, 6, 6, 7, 3, 7, 16, 11], [5, 8, 6, 4, 0, 1, 10, 15, 5, 19, 4, 15, 5, 19, 17, 1, 5, 19, 1, 4], [5, 7, 4, 1, 12, 17, 18, 10, 9, 17, 4, 2, 9, 17, 1, 5, 16, 0, 5, 18]]}, \"header\": {\"align\": \"center\", \"fill\": {\"color\": \"#C2D4FF\"}, \"values\": [\"Students\", \"Hits\", \"Readings\", \"Posts\"]}, \"type\": \"table\", \"uid\": \"4cf167ac-e29a-11e8-9490-d5f4ba98b039\"}], {}, {\"showLink\": true, \"linkText\": \"Export to plot.ly\"})});</script>"
      ],
      "text/vnd.plotly.v1+html": [
       "<div id=\"cf7b654f-43bc-45db-b051-bc4866fd57f5\" style=\"height: 525px; width: 100%;\" class=\"plotly-graph-div\"></div><script type=\"text/javascript\">require([\"plotly\"], function(Plotly) { window.PLOTLYENV=window.PLOTLYENV || {};window.PLOTLYENV.BASE_URL=\"https://plot.ly\";Plotly.newPlot(\"cf7b654f-43bc-45db-b051-bc4866fd57f5\", [{\"cells\": {\"align\": [\"left\", \"center\"], \"fill\": {\"color\": \"#F5F8FF\"}, \"values\": [[\"Student_1\", \"Student_2\", \"Student_3\", \"Student_4\", \"Student_5\", \"Student_6\", \"Student_7\", \"Student_8\", \"Student_9\", \"Student_10\", \"Student_11\", \"Student_12\", \"Student_13\", \"Student_14\", \"Student_15\", \"Student_16\", \"Student_17\", \"Student_18\", \"Student_19\", \"Student_20\"], [8, 3, 1, 14, 17, 8, 9, 12, 0, 16, 3, 11, 4, 6, 6, 7, 3, 7, 16, 11], [5, 8, 6, 4, 0, 1, 10, 15, 5, 19, 4, 15, 5, 19, 17, 1, 5, 19, 1, 4], [5, 7, 4, 1, 12, 17, 18, 10, 9, 17, 4, 2, 9, 17, 1, 5, 16, 0, 5, 18]]}, \"header\": {\"align\": \"center\", \"fill\": {\"color\": \"#C2D4FF\"}, \"values\": [\"Students\", \"Hits\", \"Readings\", \"Posts\"]}, \"type\": \"table\", \"uid\": \"4cf167ac-e29a-11e8-9490-d5f4ba98b039\"}], {}, {\"showLink\": true, \"linkText\": \"Export to plot.ly\"})});</script>"
      ]
     },
     "metadata": {},
     "output_type": "display_data"
    },
    {
     "data": {
      "application/vnd.plotly.v1+json": {
       "data": [
        {
         "name": "Hits",
         "type": "bar",
         "uid": "4cf7ecf8-e29a-11e8-9490-d5f4ba98b039",
         "x": [
          "Student_1",
          "Student_2",
          "Student_3",
          "Student_4",
          "Student_5",
          "Student_6",
          "Student_7",
          "Student_8",
          "Student_9",
          "Student_10",
          "Student_11",
          "Student_12",
          "Student_13",
          "Student_14",
          "Student_15",
          "Student_16",
          "Student_17",
          "Student_18",
          "Student_19",
          "Student_20"
         ],
         "y": [
          8,
          3,
          1,
          14,
          17,
          8,
          9,
          12,
          0,
          16,
          3,
          11,
          4,
          6,
          6,
          7,
          3,
          7,
          16,
          11
         ]
        },
        {
         "name": "Readings",
         "type": "bar",
         "uid": "4cf7eeb0-e29a-11e8-9490-d5f4ba98b039",
         "x": [
          "Student_1",
          "Student_2",
          "Student_3",
          "Student_4",
          "Student_5",
          "Student_6",
          "Student_7",
          "Student_8",
          "Student_9",
          "Student_10",
          "Student_11",
          "Student_12",
          "Student_13",
          "Student_14",
          "Student_15",
          "Student_16",
          "Student_17",
          "Student_18",
          "Student_19",
          "Student_20"
         ],
         "y": [
          5,
          8,
          6,
          4,
          0,
          1,
          10,
          15,
          5,
          19,
          4,
          15,
          5,
          19,
          17,
          1,
          5,
          19,
          1,
          4
         ]
        },
        {
         "name": "Posts",
         "type": "bar",
         "uid": "4cf7ef96-e29a-11e8-9490-d5f4ba98b039",
         "x": [
          "Student_1",
          "Student_2",
          "Student_3",
          "Student_4",
          "Student_5",
          "Student_6",
          "Student_7",
          "Student_8",
          "Student_9",
          "Student_10",
          "Student_11",
          "Student_12",
          "Student_13",
          "Student_14",
          "Student_15",
          "Student_16",
          "Student_17",
          "Student_18",
          "Student_19",
          "Student_20"
         ],
         "y": [
          5,
          7,
          4,
          1,
          12,
          17,
          18,
          10,
          9,
          17,
          4,
          2,
          9,
          17,
          1,
          5,
          16,
          0,
          5,
          18
         ]
        }
       ],
       "layout": {
        "title": "Número de acessos a Posts, Leituras e Likes agrupados por estudante",
        "yaxis": {
         "dtick": 1,
         "exponentformat": "e",
         "gridcolor": "#bdbdbd",
         "showexponent": "all",
         "showticklabels": true,
         "tick0": 0,
         "titlefont": {
          "color": "lightgrey",
          "family": "Arial, sans-serif"
         }
        }
       }
      },
      "text/html": [
       "<div id=\"2505eb14-1dd0-492a-a835-f6eadbcf1fe3\" style=\"height: 525px; width: 100%;\" class=\"plotly-graph-div\"></div><script type=\"text/javascript\">require([\"plotly\"], function(Plotly) { window.PLOTLYENV=window.PLOTLYENV || {};window.PLOTLYENV.BASE_URL=\"https://plot.ly\";Plotly.newPlot(\"2505eb14-1dd0-492a-a835-f6eadbcf1fe3\", [{\"name\": \"Hits\", \"x\": [\"Student_1\", \"Student_2\", \"Student_3\", \"Student_4\", \"Student_5\", \"Student_6\", \"Student_7\", \"Student_8\", \"Student_9\", \"Student_10\", \"Student_11\", \"Student_12\", \"Student_13\", \"Student_14\", \"Student_15\", \"Student_16\", \"Student_17\", \"Student_18\", \"Student_19\", \"Student_20\"], \"y\": [8, 3, 1, 14, 17, 8, 9, 12, 0, 16, 3, 11, 4, 6, 6, 7, 3, 7, 16, 11], \"type\": \"bar\", \"uid\": \"4cf7ecf8-e29a-11e8-9490-d5f4ba98b039\"}, {\"name\": \"Readings\", \"x\": [\"Student_1\", \"Student_2\", \"Student_3\", \"Student_4\", \"Student_5\", \"Student_6\", \"Student_7\", \"Student_8\", \"Student_9\", \"Student_10\", \"Student_11\", \"Student_12\", \"Student_13\", \"Student_14\", \"Student_15\", \"Student_16\", \"Student_17\", \"Student_18\", \"Student_19\", \"Student_20\"], \"y\": [5, 8, 6, 4, 0, 1, 10, 15, 5, 19, 4, 15, 5, 19, 17, 1, 5, 19, 1, 4], \"type\": \"bar\", \"uid\": \"4cf7eeb0-e29a-11e8-9490-d5f4ba98b039\"}, {\"name\": \"Posts\", \"x\": [\"Student_1\", \"Student_2\", \"Student_3\", \"Student_4\", \"Student_5\", \"Student_6\", \"Student_7\", \"Student_8\", \"Student_9\", \"Student_10\", \"Student_11\", \"Student_12\", \"Student_13\", \"Student_14\", \"Student_15\", \"Student_16\", \"Student_17\", \"Student_18\", \"Student_19\", \"Student_20\"], \"y\": [5, 7, 4, 1, 12, 17, 18, 10, 9, 17, 4, 2, 9, 17, 1, 5, 16, 0, 5, 18], \"type\": \"bar\", \"uid\": \"4cf7ef96-e29a-11e8-9490-d5f4ba98b039\"}], {\"title\": \"N\\u00famero de acessos a Posts, Leituras e Likes agrupados por estudante\", \"yaxis\": {\"dtick\": 1, \"exponentformat\": \"e\", \"gridcolor\": \"#bdbdbd\", \"showexponent\": \"all\", \"showticklabels\": true, \"tick0\": 0, \"titlefont\": {\"color\": \"lightgrey\", \"family\": \"Arial, sans-serif\"}}}, {\"showLink\": true, \"linkText\": \"Export to plot.ly\"})});</script>"
      ],
      "text/vnd.plotly.v1+html": [
       "<div id=\"2505eb14-1dd0-492a-a835-f6eadbcf1fe3\" style=\"height: 525px; width: 100%;\" class=\"plotly-graph-div\"></div><script type=\"text/javascript\">require([\"plotly\"], function(Plotly) { window.PLOTLYENV=window.PLOTLYENV || {};window.PLOTLYENV.BASE_URL=\"https://plot.ly\";Plotly.newPlot(\"2505eb14-1dd0-492a-a835-f6eadbcf1fe3\", [{\"name\": \"Hits\", \"x\": [\"Student_1\", \"Student_2\", \"Student_3\", \"Student_4\", \"Student_5\", \"Student_6\", \"Student_7\", \"Student_8\", \"Student_9\", \"Student_10\", \"Student_11\", \"Student_12\", \"Student_13\", \"Student_14\", \"Student_15\", \"Student_16\", \"Student_17\", \"Student_18\", \"Student_19\", \"Student_20\"], \"y\": [8, 3, 1, 14, 17, 8, 9, 12, 0, 16, 3, 11, 4, 6, 6, 7, 3, 7, 16, 11], \"type\": \"bar\", \"uid\": \"4cf7ecf8-e29a-11e8-9490-d5f4ba98b039\"}, {\"name\": \"Readings\", \"x\": [\"Student_1\", \"Student_2\", \"Student_3\", \"Student_4\", \"Student_5\", \"Student_6\", \"Student_7\", \"Student_8\", \"Student_9\", \"Student_10\", \"Student_11\", \"Student_12\", \"Student_13\", \"Student_14\", \"Student_15\", \"Student_16\", \"Student_17\", \"Student_18\", \"Student_19\", \"Student_20\"], \"y\": [5, 8, 6, 4, 0, 1, 10, 15, 5, 19, 4, 15, 5, 19, 17, 1, 5, 19, 1, 4], \"type\": \"bar\", \"uid\": \"4cf7eeb0-e29a-11e8-9490-d5f4ba98b039\"}, {\"name\": \"Posts\", \"x\": [\"Student_1\", \"Student_2\", \"Student_3\", \"Student_4\", \"Student_5\", \"Student_6\", \"Student_7\", \"Student_8\", \"Student_9\", \"Student_10\", \"Student_11\", \"Student_12\", \"Student_13\", \"Student_14\", \"Student_15\", \"Student_16\", \"Student_17\", \"Student_18\", \"Student_19\", \"Student_20\"], \"y\": [5, 7, 4, 1, 12, 17, 18, 10, 9, 17, 4, 2, 9, 17, 1, 5, 16, 0, 5, 18], \"type\": \"bar\", \"uid\": \"4cf7ef96-e29a-11e8-9490-d5f4ba98b039\"}], {\"title\": \"N\\u00famero de acessos a Posts, Leituras e Likes agrupados por estudante\", \"yaxis\": {\"dtick\": 1, \"exponentformat\": \"e\", \"gridcolor\": \"#bdbdbd\", \"showexponent\": \"all\", \"showticklabels\": true, \"tick0\": 0, \"titlefont\": {\"color\": \"lightgrey\", \"family\": \"Arial, sans-serif\"}}}, {\"showLink\": true, \"linkText\": \"Export to plot.ly\"})});</script>"
      ]
     },
     "metadata": {},
     "output_type": "display_data"
    },
    {
     "data": {
      "application/vnd.plotly.v1+json": {
       "data": [
        {
         "name": "Hits",
         "type": "bar",
         "uid": "4cfe2aaa-e29a-11e8-9490-d5f4ba98b039",
         "x": [
          "Student_1",
          "Student_2",
          "Student_3",
          "Student_4",
          "Student_5",
          "Student_6",
          "Student_7",
          "Student_8",
          "Student_9",
          "Student_10",
          "Student_11",
          "Student_12",
          "Student_13",
          "Student_14",
          "Student_15",
          "Student_16",
          "Student_17",
          "Student_18",
          "Student_19",
          "Student_20"
         ],
         "y": [
          8,
          3,
          1,
          14,
          17,
          8,
          9,
          12,
          0,
          16,
          3,
          11,
          4,
          6,
          6,
          7,
          3,
          7,
          16,
          11
         ]
        },
        {
         "name": "Readings",
         "type": "bar",
         "uid": "4cfe2c9e-e29a-11e8-9490-d5f4ba98b039",
         "x": [
          "Student_1",
          "Student_2",
          "Student_3",
          "Student_4",
          "Student_5",
          "Student_6",
          "Student_7",
          "Student_8",
          "Student_9",
          "Student_10",
          "Student_11",
          "Student_12",
          "Student_13",
          "Student_14",
          "Student_15",
          "Student_16",
          "Student_17",
          "Student_18",
          "Student_19",
          "Student_20"
         ],
         "y": [
          5,
          8,
          6,
          4,
          0,
          1,
          10,
          15,
          5,
          19,
          4,
          15,
          5,
          19,
          17,
          1,
          5,
          19,
          1,
          4
         ]
        },
        {
         "name": "Posts",
         "type": "bar",
         "uid": "4cfe2d84-e29a-11e8-9490-d5f4ba98b039",
         "x": [
          "Student_1",
          "Student_2",
          "Student_3",
          "Student_4",
          "Student_5",
          "Student_6",
          "Student_7",
          "Student_8",
          "Student_9",
          "Student_10",
          "Student_11",
          "Student_12",
          "Student_13",
          "Student_14",
          "Student_15",
          "Student_16",
          "Student_17",
          "Student_18",
          "Student_19",
          "Student_20"
         ],
         "y": [
          5,
          7,
          4,
          1,
          12,
          17,
          18,
          10,
          9,
          17,
          4,
          2,
          9,
          17,
          1,
          5,
          16,
          0,
          5,
          18
         ]
        }
       ],
       "layout": {
        "barmode": "stack",
        "title": "Número de acessos a Posts, Leituras e Likes agrupados por estudante",
        "yaxis": {
         "dtick": 5,
         "exponentformat": "e",
         "gridcolor": "#bdbdbd",
         "showexponent": "all",
         "showticklabels": true,
         "tick0": 0,
         "titlefont": {
          "color": "lightgrey",
          "family": "Arial, sans-serif"
         }
        }
       }
      },
      "text/html": [
       "<div id=\"c36bad66-06e3-4e83-bc40-fb2380853d5d\" style=\"height: 525px; width: 100%;\" class=\"plotly-graph-div\"></div><script type=\"text/javascript\">require([\"plotly\"], function(Plotly) { window.PLOTLYENV=window.PLOTLYENV || {};window.PLOTLYENV.BASE_URL=\"https://plot.ly\";Plotly.newPlot(\"c36bad66-06e3-4e83-bc40-fb2380853d5d\", [{\"name\": \"Hits\", \"x\": [\"Student_1\", \"Student_2\", \"Student_3\", \"Student_4\", \"Student_5\", \"Student_6\", \"Student_7\", \"Student_8\", \"Student_9\", \"Student_10\", \"Student_11\", \"Student_12\", \"Student_13\", \"Student_14\", \"Student_15\", \"Student_16\", \"Student_17\", \"Student_18\", \"Student_19\", \"Student_20\"], \"y\": [8, 3, 1, 14, 17, 8, 9, 12, 0, 16, 3, 11, 4, 6, 6, 7, 3, 7, 16, 11], \"type\": \"bar\", \"uid\": \"4cfe2aaa-e29a-11e8-9490-d5f4ba98b039\"}, {\"name\": \"Readings\", \"x\": [\"Student_1\", \"Student_2\", \"Student_3\", \"Student_4\", \"Student_5\", \"Student_6\", \"Student_7\", \"Student_8\", \"Student_9\", \"Student_10\", \"Student_11\", \"Student_12\", \"Student_13\", \"Student_14\", \"Student_15\", \"Student_16\", \"Student_17\", \"Student_18\", \"Student_19\", \"Student_20\"], \"y\": [5, 8, 6, 4, 0, 1, 10, 15, 5, 19, 4, 15, 5, 19, 17, 1, 5, 19, 1, 4], \"type\": \"bar\", \"uid\": \"4cfe2c9e-e29a-11e8-9490-d5f4ba98b039\"}, {\"name\": \"Posts\", \"x\": [\"Student_1\", \"Student_2\", \"Student_3\", \"Student_4\", \"Student_5\", \"Student_6\", \"Student_7\", \"Student_8\", \"Student_9\", \"Student_10\", \"Student_11\", \"Student_12\", \"Student_13\", \"Student_14\", \"Student_15\", \"Student_16\", \"Student_17\", \"Student_18\", \"Student_19\", \"Student_20\"], \"y\": [5, 7, 4, 1, 12, 17, 18, 10, 9, 17, 4, 2, 9, 17, 1, 5, 16, 0, 5, 18], \"type\": \"bar\", \"uid\": \"4cfe2d84-e29a-11e8-9490-d5f4ba98b039\"}], {\"barmode\": \"stack\", \"title\": \"N\\u00famero de acessos a Posts, Leituras e Likes agrupados por estudante\", \"yaxis\": {\"dtick\": 5, \"exponentformat\": \"e\", \"gridcolor\": \"#bdbdbd\", \"showexponent\": \"all\", \"showticklabels\": true, \"tick0\": 0, \"titlefont\": {\"color\": \"lightgrey\", \"family\": \"Arial, sans-serif\"}}}, {\"showLink\": true, \"linkText\": \"Export to plot.ly\"})});</script>"
      ],
      "text/vnd.plotly.v1+html": [
       "<div id=\"c36bad66-06e3-4e83-bc40-fb2380853d5d\" style=\"height: 525px; width: 100%;\" class=\"plotly-graph-div\"></div><script type=\"text/javascript\">require([\"plotly\"], function(Plotly) { window.PLOTLYENV=window.PLOTLYENV || {};window.PLOTLYENV.BASE_URL=\"https://plot.ly\";Plotly.newPlot(\"c36bad66-06e3-4e83-bc40-fb2380853d5d\", [{\"name\": \"Hits\", \"x\": [\"Student_1\", \"Student_2\", \"Student_3\", \"Student_4\", \"Student_5\", \"Student_6\", \"Student_7\", \"Student_8\", \"Student_9\", \"Student_10\", \"Student_11\", \"Student_12\", \"Student_13\", \"Student_14\", \"Student_15\", \"Student_16\", \"Student_17\", \"Student_18\", \"Student_19\", \"Student_20\"], \"y\": [8, 3, 1, 14, 17, 8, 9, 12, 0, 16, 3, 11, 4, 6, 6, 7, 3, 7, 16, 11], \"type\": \"bar\", \"uid\": \"4cfe2aaa-e29a-11e8-9490-d5f4ba98b039\"}, {\"name\": \"Readings\", \"x\": [\"Student_1\", \"Student_2\", \"Student_3\", \"Student_4\", \"Student_5\", \"Student_6\", \"Student_7\", \"Student_8\", \"Student_9\", \"Student_10\", \"Student_11\", \"Student_12\", \"Student_13\", \"Student_14\", \"Student_15\", \"Student_16\", \"Student_17\", \"Student_18\", \"Student_19\", \"Student_20\"], \"y\": [5, 8, 6, 4, 0, 1, 10, 15, 5, 19, 4, 15, 5, 19, 17, 1, 5, 19, 1, 4], \"type\": \"bar\", \"uid\": \"4cfe2c9e-e29a-11e8-9490-d5f4ba98b039\"}, {\"name\": \"Posts\", \"x\": [\"Student_1\", \"Student_2\", \"Student_3\", \"Student_4\", \"Student_5\", \"Student_6\", \"Student_7\", \"Student_8\", \"Student_9\", \"Student_10\", \"Student_11\", \"Student_12\", \"Student_13\", \"Student_14\", \"Student_15\", \"Student_16\", \"Student_17\", \"Student_18\", \"Student_19\", \"Student_20\"], \"y\": [5, 7, 4, 1, 12, 17, 18, 10, 9, 17, 4, 2, 9, 17, 1, 5, 16, 0, 5, 18], \"type\": \"bar\", \"uid\": \"4cfe2d84-e29a-11e8-9490-d5f4ba98b039\"}], {\"barmode\": \"stack\", \"title\": \"N\\u00famero de acessos a Posts, Leituras e Likes agrupados por estudante\", \"yaxis\": {\"dtick\": 5, \"exponentformat\": \"e\", \"gridcolor\": \"#bdbdbd\", \"showexponent\": \"all\", \"showticklabels\": true, \"tick0\": 0, \"titlefont\": {\"color\": \"lightgrey\", \"family\": \"Arial, sans-serif\"}}}, {\"showLink\": true, \"linkText\": \"Export to plot.ly\"})});</script>"
      ]
     },
     "metadata": {},
     "output_type": "display_data"
    },
    {
     "data": {
      "application/vnd.plotly.v1+json": {
       "data": [
        {
         "name": "Hits",
         "orientation": "h",
         "type": "bar",
         "uid": "4d03f62e-e29a-11e8-9490-d5f4ba98b039",
         "x": [
          8,
          3,
          1,
          14,
          17,
          8,
          9,
          12,
          0,
          16,
          3,
          11,
          4,
          6,
          6,
          7,
          3,
          7,
          16,
          11
         ],
         "y": [
          "Student_1",
          "Student_2",
          "Student_3",
          "Student_4",
          "Student_5",
          "Student_6",
          "Student_7",
          "Student_8",
          "Student_9",
          "Student_10",
          "Student_11",
          "Student_12",
          "Student_13",
          "Student_14",
          "Student_15",
          "Student_16",
          "Student_17",
          "Student_18",
          "Student_19",
          "Student_20"
         ]
        },
        {
         "name": "Readings",
         "orientation": "h",
         "type": "bar",
         "uid": "4d03f7e6-e29a-11e8-9490-d5f4ba98b039",
         "x": [
          5,
          8,
          6,
          4,
          0,
          1,
          10,
          15,
          5,
          19,
          4,
          15,
          5,
          19,
          17,
          1,
          5,
          19,
          1,
          4
         ],
         "y": [
          "Student_1",
          "Student_2",
          "Student_3",
          "Student_4",
          "Student_5",
          "Student_6",
          "Student_7",
          "Student_8",
          "Student_9",
          "Student_10",
          "Student_11",
          "Student_12",
          "Student_13",
          "Student_14",
          "Student_15",
          "Student_16",
          "Student_17",
          "Student_18",
          "Student_19",
          "Student_20"
         ]
        },
        {
         "name": "Posts",
         "orientation": "h",
         "type": "bar",
         "uid": "4d03f8e0-e29a-11e8-9490-d5f4ba98b039",
         "x": [
          5,
          7,
          4,
          1,
          12,
          17,
          18,
          10,
          9,
          17,
          4,
          2,
          9,
          17,
          1,
          5,
          16,
          0,
          5,
          18
         ],
         "y": [
          "Student_1",
          "Student_2",
          "Student_3",
          "Student_4",
          "Student_5",
          "Student_6",
          "Student_7",
          "Student_8",
          "Student_9",
          "Student_10",
          "Student_11",
          "Student_12",
          "Student_13",
          "Student_14",
          "Student_15",
          "Student_16",
          "Student_17",
          "Student_18",
          "Student_19",
          "Student_20"
         ]
        }
       ],
       "layout": {
        "barmode": "stack",
        "title": "Número de acessos a Posts, Leituras e Likes agrupados por estudante",
        "yaxis": {
         "dtick": 1,
         "exponentformat": "e",
         "gridcolor": "#bdbdbd",
         "showexponent": "all",
         "showticklabels": true,
         "tick0": 0,
         "titlefont": {
          "color": "lightgrey",
          "family": "Arial, sans-serif"
         }
        }
       }
      },
      "text/html": [
       "<div id=\"c8b92be6-1d3f-498b-b109-7fe970876da3\" style=\"height: 525px; width: 100%;\" class=\"plotly-graph-div\"></div><script type=\"text/javascript\">require([\"plotly\"], function(Plotly) { window.PLOTLYENV=window.PLOTLYENV || {};window.PLOTLYENV.BASE_URL=\"https://plot.ly\";Plotly.newPlot(\"c8b92be6-1d3f-498b-b109-7fe970876da3\", [{\"name\": \"Hits\", \"orientation\": \"h\", \"x\": [8, 3, 1, 14, 17, 8, 9, 12, 0, 16, 3, 11, 4, 6, 6, 7, 3, 7, 16, 11], \"y\": [\"Student_1\", \"Student_2\", \"Student_3\", \"Student_4\", \"Student_5\", \"Student_6\", \"Student_7\", \"Student_8\", \"Student_9\", \"Student_10\", \"Student_11\", \"Student_12\", \"Student_13\", \"Student_14\", \"Student_15\", \"Student_16\", \"Student_17\", \"Student_18\", \"Student_19\", \"Student_20\"], \"type\": \"bar\", \"uid\": \"4d03f62e-e29a-11e8-9490-d5f4ba98b039\"}, {\"name\": \"Readings\", \"orientation\": \"h\", \"x\": [5, 8, 6, 4, 0, 1, 10, 15, 5, 19, 4, 15, 5, 19, 17, 1, 5, 19, 1, 4], \"y\": [\"Student_1\", \"Student_2\", \"Student_3\", \"Student_4\", \"Student_5\", \"Student_6\", \"Student_7\", \"Student_8\", \"Student_9\", \"Student_10\", \"Student_11\", \"Student_12\", \"Student_13\", \"Student_14\", \"Student_15\", \"Student_16\", \"Student_17\", \"Student_18\", \"Student_19\", \"Student_20\"], \"type\": \"bar\", \"uid\": \"4d03f7e6-e29a-11e8-9490-d5f4ba98b039\"}, {\"name\": \"Posts\", \"orientation\": \"h\", \"x\": [5, 7, 4, 1, 12, 17, 18, 10, 9, 17, 4, 2, 9, 17, 1, 5, 16, 0, 5, 18], \"y\": [\"Student_1\", \"Student_2\", \"Student_3\", \"Student_4\", \"Student_5\", \"Student_6\", \"Student_7\", \"Student_8\", \"Student_9\", \"Student_10\", \"Student_11\", \"Student_12\", \"Student_13\", \"Student_14\", \"Student_15\", \"Student_16\", \"Student_17\", \"Student_18\", \"Student_19\", \"Student_20\"], \"type\": \"bar\", \"uid\": \"4d03f8e0-e29a-11e8-9490-d5f4ba98b039\"}], {\"barmode\": \"stack\", \"title\": \"N\\u00famero de acessos a Posts, Leituras e Likes agrupados por estudante\", \"yaxis\": {\"dtick\": 1, \"exponentformat\": \"e\", \"gridcolor\": \"#bdbdbd\", \"showexponent\": \"all\", \"showticklabels\": true, \"tick0\": 0, \"titlefont\": {\"color\": \"lightgrey\", \"family\": \"Arial, sans-serif\"}}}, {\"showLink\": true, \"linkText\": \"Export to plot.ly\"})});</script>"
      ],
      "text/vnd.plotly.v1+html": [
       "<div id=\"c8b92be6-1d3f-498b-b109-7fe970876da3\" style=\"height: 525px; width: 100%;\" class=\"plotly-graph-div\"></div><script type=\"text/javascript\">require([\"plotly\"], function(Plotly) { window.PLOTLYENV=window.PLOTLYENV || {};window.PLOTLYENV.BASE_URL=\"https://plot.ly\";Plotly.newPlot(\"c8b92be6-1d3f-498b-b109-7fe970876da3\", [{\"name\": \"Hits\", \"orientation\": \"h\", \"x\": [8, 3, 1, 14, 17, 8, 9, 12, 0, 16, 3, 11, 4, 6, 6, 7, 3, 7, 16, 11], \"y\": [\"Student_1\", \"Student_2\", \"Student_3\", \"Student_4\", \"Student_5\", \"Student_6\", \"Student_7\", \"Student_8\", \"Student_9\", \"Student_10\", \"Student_11\", \"Student_12\", \"Student_13\", \"Student_14\", \"Student_15\", \"Student_16\", \"Student_17\", \"Student_18\", \"Student_19\", \"Student_20\"], \"type\": \"bar\", \"uid\": \"4d03f62e-e29a-11e8-9490-d5f4ba98b039\"}, {\"name\": \"Readings\", \"orientation\": \"h\", \"x\": [5, 8, 6, 4, 0, 1, 10, 15, 5, 19, 4, 15, 5, 19, 17, 1, 5, 19, 1, 4], \"y\": [\"Student_1\", \"Student_2\", \"Student_3\", \"Student_4\", \"Student_5\", \"Student_6\", \"Student_7\", \"Student_8\", \"Student_9\", \"Student_10\", \"Student_11\", \"Student_12\", \"Student_13\", \"Student_14\", \"Student_15\", \"Student_16\", \"Student_17\", \"Student_18\", \"Student_19\", \"Student_20\"], \"type\": \"bar\", \"uid\": \"4d03f7e6-e29a-11e8-9490-d5f4ba98b039\"}, {\"name\": \"Posts\", \"orientation\": \"h\", \"x\": [5, 7, 4, 1, 12, 17, 18, 10, 9, 17, 4, 2, 9, 17, 1, 5, 16, 0, 5, 18], \"y\": [\"Student_1\", \"Student_2\", \"Student_3\", \"Student_4\", \"Student_5\", \"Student_6\", \"Student_7\", \"Student_8\", \"Student_9\", \"Student_10\", \"Student_11\", \"Student_12\", \"Student_13\", \"Student_14\", \"Student_15\", \"Student_16\", \"Student_17\", \"Student_18\", \"Student_19\", \"Student_20\"], \"type\": \"bar\", \"uid\": \"4d03f8e0-e29a-11e8-9490-d5f4ba98b039\"}], {\"barmode\": \"stack\", \"title\": \"N\\u00famero de acessos a Posts, Leituras e Likes agrupados por estudante\", \"yaxis\": {\"dtick\": 1, \"exponentformat\": \"e\", \"gridcolor\": \"#bdbdbd\", \"showexponent\": \"all\", \"showticklabels\": true, \"tick0\": 0, \"titlefont\": {\"color\": \"lightgrey\", \"family\": \"Arial, sans-serif\"}}}, {\"showLink\": true, \"linkText\": \"Export to plot.ly\"})});</script>"
      ]
     },
     "metadata": {},
     "output_type": "display_data"
    },
    {
     "data": {
      "application/vnd.plotly.v1+json": {
       "data": [
        {
         "marker": {
          "line": {
           "width": 2
          },
          "size": [
           8,
           5,
           5
          ],
          "sizemode": "area",
          "sizeref": 0.10526315789473684,
          "symbol": "circle"
         },
         "mode": "markers",
         "name": "Student_1",
         "text": [
          "8",
          "5",
          "5"
         ],
         "type": "scatter",
         "uid": "4d180042-e29a-11e8-9490-d5f4ba98b039",
         "x": [
          "Student_1",
          "Student_1",
          "Student_1",
          "Student_1"
         ],
         "y": [
          "Hits",
          "Readings",
          "Posts"
         ]
        },
        {
         "marker": {
          "line": {
           "width": 2
          },
          "size": [
           3,
           8,
           7
          ],
          "sizemode": "area",
          "sizeref": 0.10526315789473684,
          "symbol": "circle"
         },
         "mode": "markers",
         "name": "Student_2",
         "text": [
          "3",
          "8",
          "7"
         ],
         "type": "scatter",
         "uid": "4d1801f0-e29a-11e8-9490-d5f4ba98b039",
         "x": [
          "Student_2",
          "Student_2",
          "Student_2",
          "Student_2"
         ],
         "y": [
          "Hits",
          "Readings",
          "Posts"
         ]
        },
        {
         "marker": {
          "line": {
           "width": 2
          },
          "size": [
           1,
           6,
           4
          ],
          "sizemode": "area",
          "sizeref": 0.10526315789473684,
          "symbol": "circle"
         },
         "mode": "markers",
         "name": "Student_3",
         "text": [
          "1",
          "6",
          "4"
         ],
         "type": "scatter",
         "uid": "4d1802b8-e29a-11e8-9490-d5f4ba98b039",
         "x": [
          "Student_3",
          "Student_3",
          "Student_3",
          "Student_3"
         ],
         "y": [
          "Hits",
          "Readings",
          "Posts"
         ]
        },
        {
         "marker": {
          "line": {
           "width": 2
          },
          "size": [
           14,
           4,
           1
          ],
          "sizemode": "area",
          "sizeref": 0.10526315789473684,
          "symbol": "circle"
         },
         "mode": "markers",
         "name": "Student_4",
         "text": [
          "14",
          "4",
          "1"
         ],
         "type": "scatter",
         "uid": "4d180362-e29a-11e8-9490-d5f4ba98b039",
         "x": [
          "Student_4",
          "Student_4",
          "Student_4",
          "Student_4"
         ],
         "y": [
          "Hits",
          "Readings",
          "Posts"
         ]
        },
        {
         "marker": {
          "line": {
           "width": 2
          },
          "size": [
           17,
           0,
           12
          ],
          "sizemode": "area",
          "sizeref": 0.10526315789473684,
          "symbol": "circle"
         },
         "mode": "markers",
         "name": "Student_5",
         "text": [
          "17",
          "0",
          "12"
         ],
         "type": "scatter",
         "uid": "4d1803f8-e29a-11e8-9490-d5f4ba98b039",
         "x": [
          "Student_5",
          "Student_5",
          "Student_5",
          "Student_5"
         ],
         "y": [
          "Hits",
          "Readings",
          "Posts"
         ]
        },
        {
         "marker": {
          "line": {
           "width": 2
          },
          "size": [
           8,
           1,
           17
          ],
          "sizemode": "area",
          "sizeref": 0.10526315789473684,
          "symbol": "circle"
         },
         "mode": "markers",
         "name": "Student_6",
         "text": [
          "8",
          "1",
          "17"
         ],
         "type": "scatter",
         "uid": "4d180484-e29a-11e8-9490-d5f4ba98b039",
         "x": [
          "Student_6",
          "Student_6",
          "Student_6",
          "Student_6"
         ],
         "y": [
          "Hits",
          "Readings",
          "Posts"
         ]
        },
        {
         "marker": {
          "line": {
           "width": 2
          },
          "size": [
           9,
           10,
           18
          ],
          "sizemode": "area",
          "sizeref": 0.10526315789473684,
          "symbol": "circle"
         },
         "mode": "markers",
         "name": "Student_7",
         "text": [
          "9",
          "10",
          "18"
         ],
         "type": "scatter",
         "uid": "4d180510-e29a-11e8-9490-d5f4ba98b039",
         "x": [
          "Student_7",
          "Student_7",
          "Student_7",
          "Student_7"
         ],
         "y": [
          "Hits",
          "Readings",
          "Posts"
         ]
        },
        {
         "marker": {
          "line": {
           "width": 2
          },
          "size": [
           12,
           15,
           10
          ],
          "sizemode": "area",
          "sizeref": 0.10526315789473684,
          "symbol": "circle"
         },
         "mode": "markers",
         "name": "Student_8",
         "text": [
          "12",
          "15",
          "10"
         ],
         "type": "scatter",
         "uid": "4d180592-e29a-11e8-9490-d5f4ba98b039",
         "x": [
          "Student_8",
          "Student_8",
          "Student_8",
          "Student_8"
         ],
         "y": [
          "Hits",
          "Readings",
          "Posts"
         ]
        },
        {
         "marker": {
          "line": {
           "width": 2
          },
          "size": [
           0,
           5,
           9
          ],
          "sizemode": "area",
          "sizeref": 0.10526315789473684,
          "symbol": "circle"
         },
         "mode": "markers",
         "name": "Student_9",
         "text": [
          "0",
          "5",
          "9"
         ],
         "type": "scatter",
         "uid": "4d18061e-e29a-11e8-9490-d5f4ba98b039",
         "x": [
          "Student_9",
          "Student_9",
          "Student_9",
          "Student_9"
         ],
         "y": [
          "Hits",
          "Readings",
          "Posts"
         ]
        },
        {
         "marker": {
          "line": {
           "width": 2
          },
          "size": [
           16,
           19,
           17
          ],
          "sizemode": "area",
          "sizeref": 0.10526315789473684,
          "symbol": "circle"
         },
         "mode": "markers",
         "name": "Student_10",
         "text": [
          "16",
          "19",
          "17"
         ],
         "type": "scatter",
         "uid": "4d1806a0-e29a-11e8-9490-d5f4ba98b039",
         "x": [
          "Student_10",
          "Student_10",
          "Student_10",
          "Student_10"
         ],
         "y": [
          "Hits",
          "Readings",
          "Posts"
         ]
        },
        {
         "marker": {
          "line": {
           "width": 2
          },
          "size": [
           3,
           4,
           4
          ],
          "sizemode": "area",
          "sizeref": 0.10526315789473684,
          "symbol": "circle"
         },
         "mode": "markers",
         "name": "Student_11",
         "text": [
          "3",
          "4",
          "4"
         ],
         "type": "scatter",
         "uid": "4d18072c-e29a-11e8-9490-d5f4ba98b039",
         "x": [
          "Student_11",
          "Student_11",
          "Student_11",
          "Student_11"
         ],
         "y": [
          "Hits",
          "Readings",
          "Posts"
         ]
        },
        {
         "marker": {
          "line": {
           "width": 2
          },
          "size": [
           11,
           15,
           2
          ],
          "sizemode": "area",
          "sizeref": 0.10526315789473684,
          "symbol": "circle"
         },
         "mode": "markers",
         "name": "Student_12",
         "text": [
          "11",
          "15",
          "2"
         ],
         "type": "scatter",
         "uid": "4d1807ae-e29a-11e8-9490-d5f4ba98b039",
         "x": [
          "Student_12",
          "Student_12",
          "Student_12",
          "Student_12"
         ],
         "y": [
          "Hits",
          "Readings",
          "Posts"
         ]
        },
        {
         "marker": {
          "line": {
           "width": 2
          },
          "size": [
           4,
           5,
           9
          ],
          "sizemode": "area",
          "sizeref": 0.10526315789473684,
          "symbol": "circle"
         },
         "mode": "markers",
         "name": "Student_13",
         "text": [
          "4",
          "5",
          "9"
         ],
         "type": "scatter",
         "uid": "4d18083a-e29a-11e8-9490-d5f4ba98b039",
         "x": [
          "Student_13",
          "Student_13",
          "Student_13",
          "Student_13"
         ],
         "y": [
          "Hits",
          "Readings",
          "Posts"
         ]
        },
        {
         "marker": {
          "line": {
           "width": 2
          },
          "size": [
           6,
           19,
           17
          ],
          "sizemode": "area",
          "sizeref": 0.10526315789473684,
          "symbol": "circle"
         },
         "mode": "markers",
         "name": "Student_14",
         "text": [
          "6",
          "19",
          "17"
         ],
         "type": "scatter",
         "uid": "4d1808c6-e29a-11e8-9490-d5f4ba98b039",
         "x": [
          "Student_14",
          "Student_14",
          "Student_14",
          "Student_14"
         ],
         "y": [
          "Hits",
          "Readings",
          "Posts"
         ]
        },
        {
         "marker": {
          "line": {
           "width": 2
          },
          "size": [
           6,
           17,
           1
          ],
          "sizemode": "area",
          "sizeref": 0.10526315789473684,
          "symbol": "circle"
         },
         "mode": "markers",
         "name": "Student_15",
         "text": [
          "6",
          "17",
          "1"
         ],
         "type": "scatter",
         "uid": "4d180948-e29a-11e8-9490-d5f4ba98b039",
         "x": [
          "Student_15",
          "Student_15",
          "Student_15",
          "Student_15"
         ],
         "y": [
          "Hits",
          "Readings",
          "Posts"
         ]
        },
        {
         "marker": {
          "line": {
           "width": 2
          },
          "size": [
           7,
           1,
           5
          ],
          "sizemode": "area",
          "sizeref": 0.10526315789473684,
          "symbol": "circle"
         },
         "mode": "markers",
         "name": "Student_16",
         "text": [
          "7",
          "1",
          "5"
         ],
         "type": "scatter",
         "uid": "4d1809ca-e29a-11e8-9490-d5f4ba98b039",
         "x": [
          "Student_16",
          "Student_16",
          "Student_16",
          "Student_16"
         ],
         "y": [
          "Hits",
          "Readings",
          "Posts"
         ]
        },
        {
         "marker": {
          "line": {
           "width": 2
          },
          "size": [
           3,
           5,
           16
          ],
          "sizemode": "area",
          "sizeref": 0.10526315789473684,
          "symbol": "circle"
         },
         "mode": "markers",
         "name": "Student_17",
         "text": [
          "3",
          "5",
          "16"
         ],
         "type": "scatter",
         "uid": "4d180a4c-e29a-11e8-9490-d5f4ba98b039",
         "x": [
          "Student_17",
          "Student_17",
          "Student_17",
          "Student_17"
         ],
         "y": [
          "Hits",
          "Readings",
          "Posts"
         ]
        },
        {
         "marker": {
          "line": {
           "width": 2
          },
          "size": [
           7,
           19,
           0
          ],
          "sizemode": "area",
          "sizeref": 0.10526315789473684,
          "symbol": "circle"
         },
         "mode": "markers",
         "name": "Student_18",
         "text": [
          "7",
          "19",
          "0"
         ],
         "type": "scatter",
         "uid": "4d180ace-e29a-11e8-9490-d5f4ba98b039",
         "x": [
          "Student_18",
          "Student_18",
          "Student_18",
          "Student_18"
         ],
         "y": [
          "Hits",
          "Readings",
          "Posts"
         ]
        },
        {
         "marker": {
          "line": {
           "width": 2
          },
          "size": [
           16,
           1,
           5
          ],
          "sizemode": "area",
          "sizeref": 0.10526315789473684,
          "symbol": "circle"
         },
         "mode": "markers",
         "name": "Student_19",
         "text": [
          "16",
          "1",
          "5"
         ],
         "type": "scatter",
         "uid": "4d180b46-e29a-11e8-9490-d5f4ba98b039",
         "x": [
          "Student_19",
          "Student_19",
          "Student_19",
          "Student_19"
         ],
         "y": [
          "Hits",
          "Readings",
          "Posts"
         ]
        },
        {
         "marker": {
          "line": {
           "width": 2
          },
          "size": [
           11,
           4,
           18
          ],
          "sizemode": "area",
          "sizeref": 0.10526315789473684,
          "symbol": "circle"
         },
         "mode": "markers",
         "name": "Student_20",
         "text": [
          "11",
          "4",
          "18"
         ],
         "type": "scatter",
         "uid": "4d180bbe-e29a-11e8-9490-d5f4ba98b039",
         "x": [
          "Student_20",
          "Student_20",
          "Student_20",
          "Student_20"
         ],
         "y": [
          "Hits",
          "Readings",
          "Posts"
         ]
        }
       ],
       "layout": {
        "hovermode": "closest",
        "showlegend": true,
        "title": "Número de acessos a Posts, Leituras e Likes por estudante",
        "xaxis": {
         "autorange": false,
         "fixedrange": false,
         "range": [
          -1,
          20
         ],
         "rangemode": "normal",
         "showline": true,
         "title": "Estudantes",
         "type": "category"
        },
        "yaxis": {
         "autorange": false,
         "categoryorder": "category ascending",
         "fixedrange": false,
         "range": [
          -1,
          3
         ],
         "rangemode": "normal",
         "showline": true,
         "type": "category"
        }
       }
      },
      "text/html": [
       "<div id=\"f6573b09-9d1d-4f11-9ad2-250fa2d83bbf\" style=\"height: 525px; width: 100%;\" class=\"plotly-graph-div\"></div><script type=\"text/javascript\">require([\"plotly\"], function(Plotly) { window.PLOTLYENV=window.PLOTLYENV || {};window.PLOTLYENV.BASE_URL=\"https://plot.ly\";Plotly.newPlot(\"f6573b09-9d1d-4f11-9ad2-250fa2d83bbf\", [{\"marker\": {\"line\": {\"width\": 2}, \"size\": [8, 5, 5], \"sizemode\": \"area\", \"sizeref\": 0.10526315789473684, \"symbol\": \"circle\"}, \"mode\": \"markers\", \"name\": \"Student_1\", \"text\": [\"8\", \"5\", \"5\"], \"x\": [\"Student_1\", \"Student_1\", \"Student_1\", \"Student_1\"], \"y\": [\"Hits\", \"Readings\", \"Posts\"], \"type\": \"scatter\", \"uid\": \"4d180042-e29a-11e8-9490-d5f4ba98b039\"}, {\"marker\": {\"line\": {\"width\": 2}, \"size\": [3, 8, 7], \"sizemode\": \"area\", \"sizeref\": 0.10526315789473684, \"symbol\": \"circle\"}, \"mode\": \"markers\", \"name\": \"Student_2\", \"text\": [\"3\", \"8\", \"7\"], \"x\": [\"Student_2\", \"Student_2\", \"Student_2\", \"Student_2\"], \"y\": [\"Hits\", \"Readings\", \"Posts\"], \"type\": \"scatter\", \"uid\": \"4d1801f0-e29a-11e8-9490-d5f4ba98b039\"}, {\"marker\": {\"line\": {\"width\": 2}, \"size\": [1, 6, 4], \"sizemode\": \"area\", \"sizeref\": 0.10526315789473684, \"symbol\": \"circle\"}, \"mode\": \"markers\", \"name\": \"Student_3\", \"text\": [\"1\", \"6\", \"4\"], \"x\": [\"Student_3\", \"Student_3\", \"Student_3\", \"Student_3\"], \"y\": [\"Hits\", \"Readings\", \"Posts\"], \"type\": \"scatter\", \"uid\": \"4d1802b8-e29a-11e8-9490-d5f4ba98b039\"}, {\"marker\": {\"line\": {\"width\": 2}, \"size\": [14, 4, 1], \"sizemode\": \"area\", \"sizeref\": 0.10526315789473684, \"symbol\": \"circle\"}, \"mode\": \"markers\", \"name\": \"Student_4\", \"text\": [\"14\", \"4\", \"1\"], \"x\": [\"Student_4\", \"Student_4\", \"Student_4\", \"Student_4\"], \"y\": [\"Hits\", \"Readings\", \"Posts\"], \"type\": \"scatter\", \"uid\": \"4d180362-e29a-11e8-9490-d5f4ba98b039\"}, {\"marker\": {\"line\": {\"width\": 2}, \"size\": [17, 0, 12], \"sizemode\": \"area\", \"sizeref\": 0.10526315789473684, \"symbol\": \"circle\"}, \"mode\": \"markers\", \"name\": \"Student_5\", \"text\": [\"17\", \"0\", \"12\"], \"x\": [\"Student_5\", \"Student_5\", \"Student_5\", \"Student_5\"], \"y\": [\"Hits\", \"Readings\", \"Posts\"], \"type\": \"scatter\", \"uid\": \"4d1803f8-e29a-11e8-9490-d5f4ba98b039\"}, {\"marker\": {\"line\": {\"width\": 2}, \"size\": [8, 1, 17], \"sizemode\": \"area\", \"sizeref\": 0.10526315789473684, \"symbol\": \"circle\"}, \"mode\": \"markers\", \"name\": \"Student_6\", \"text\": [\"8\", \"1\", \"17\"], \"x\": [\"Student_6\", \"Student_6\", \"Student_6\", \"Student_6\"], \"y\": [\"Hits\", \"Readings\", \"Posts\"], \"type\": \"scatter\", \"uid\": \"4d180484-e29a-11e8-9490-d5f4ba98b039\"}, {\"marker\": {\"line\": {\"width\": 2}, \"size\": [9, 10, 18], \"sizemode\": \"area\", \"sizeref\": 0.10526315789473684, \"symbol\": \"circle\"}, \"mode\": \"markers\", \"name\": \"Student_7\", \"text\": [\"9\", \"10\", \"18\"], \"x\": [\"Student_7\", \"Student_7\", \"Student_7\", \"Student_7\"], \"y\": [\"Hits\", \"Readings\", \"Posts\"], \"type\": \"scatter\", \"uid\": \"4d180510-e29a-11e8-9490-d5f4ba98b039\"}, {\"marker\": {\"line\": {\"width\": 2}, \"size\": [12, 15, 10], \"sizemode\": \"area\", \"sizeref\": 0.10526315789473684, \"symbol\": \"circle\"}, \"mode\": \"markers\", \"name\": \"Student_8\", \"text\": [\"12\", \"15\", \"10\"], \"x\": [\"Student_8\", \"Student_8\", \"Student_8\", \"Student_8\"], \"y\": [\"Hits\", \"Readings\", \"Posts\"], \"type\": \"scatter\", \"uid\": \"4d180592-e29a-11e8-9490-d5f4ba98b039\"}, {\"marker\": {\"line\": {\"width\": 2}, \"size\": [0, 5, 9], \"sizemode\": \"area\", \"sizeref\": 0.10526315789473684, \"symbol\": \"circle\"}, \"mode\": \"markers\", \"name\": \"Student_9\", \"text\": [\"0\", \"5\", \"9\"], \"x\": [\"Student_9\", \"Student_9\", \"Student_9\", \"Student_9\"], \"y\": [\"Hits\", \"Readings\", \"Posts\"], \"type\": \"scatter\", \"uid\": \"4d18061e-e29a-11e8-9490-d5f4ba98b039\"}, {\"marker\": {\"line\": {\"width\": 2}, \"size\": [16, 19, 17], \"sizemode\": \"area\", \"sizeref\": 0.10526315789473684, \"symbol\": \"circle\"}, \"mode\": \"markers\", \"name\": \"Student_10\", \"text\": [\"16\", \"19\", \"17\"], \"x\": [\"Student_10\", \"Student_10\", \"Student_10\", \"Student_10\"], \"y\": [\"Hits\", \"Readings\", \"Posts\"], \"type\": \"scatter\", \"uid\": \"4d1806a0-e29a-11e8-9490-d5f4ba98b039\"}, {\"marker\": {\"line\": {\"width\": 2}, \"size\": [3, 4, 4], \"sizemode\": \"area\", \"sizeref\": 0.10526315789473684, \"symbol\": \"circle\"}, \"mode\": \"markers\", \"name\": \"Student_11\", \"text\": [\"3\", \"4\", \"4\"], \"x\": [\"Student_11\", \"Student_11\", \"Student_11\", \"Student_11\"], \"y\": [\"Hits\", \"Readings\", \"Posts\"], \"type\": \"scatter\", \"uid\": \"4d18072c-e29a-11e8-9490-d5f4ba98b039\"}, {\"marker\": {\"line\": {\"width\": 2}, \"size\": [11, 15, 2], \"sizemode\": \"area\", \"sizeref\": 0.10526315789473684, \"symbol\": \"circle\"}, \"mode\": \"markers\", \"name\": \"Student_12\", \"text\": [\"11\", \"15\", \"2\"], \"x\": [\"Student_12\", \"Student_12\", \"Student_12\", \"Student_12\"], \"y\": [\"Hits\", \"Readings\", \"Posts\"], \"type\": \"scatter\", \"uid\": \"4d1807ae-e29a-11e8-9490-d5f4ba98b039\"}, {\"marker\": {\"line\": {\"width\": 2}, \"size\": [4, 5, 9], \"sizemode\": \"area\", \"sizeref\": 0.10526315789473684, \"symbol\": \"circle\"}, \"mode\": \"markers\", \"name\": \"Student_13\", \"text\": [\"4\", \"5\", \"9\"], \"x\": [\"Student_13\", \"Student_13\", \"Student_13\", \"Student_13\"], \"y\": [\"Hits\", \"Readings\", \"Posts\"], \"type\": \"scatter\", \"uid\": \"4d18083a-e29a-11e8-9490-d5f4ba98b039\"}, {\"marker\": {\"line\": {\"width\": 2}, \"size\": [6, 19, 17], \"sizemode\": \"area\", \"sizeref\": 0.10526315789473684, \"symbol\": \"circle\"}, \"mode\": \"markers\", \"name\": \"Student_14\", \"text\": [\"6\", \"19\", \"17\"], \"x\": [\"Student_14\", \"Student_14\", \"Student_14\", \"Student_14\"], \"y\": [\"Hits\", \"Readings\", \"Posts\"], \"type\": \"scatter\", \"uid\": \"4d1808c6-e29a-11e8-9490-d5f4ba98b039\"}, {\"marker\": {\"line\": {\"width\": 2}, \"size\": [6, 17, 1], \"sizemode\": \"area\", \"sizeref\": 0.10526315789473684, \"symbol\": \"circle\"}, \"mode\": \"markers\", \"name\": \"Student_15\", \"text\": [\"6\", \"17\", \"1\"], \"x\": [\"Student_15\", \"Student_15\", \"Student_15\", \"Student_15\"], \"y\": [\"Hits\", \"Readings\", \"Posts\"], \"type\": \"scatter\", \"uid\": \"4d180948-e29a-11e8-9490-d5f4ba98b039\"}, {\"marker\": {\"line\": {\"width\": 2}, \"size\": [7, 1, 5], \"sizemode\": \"area\", \"sizeref\": 0.10526315789473684, \"symbol\": \"circle\"}, \"mode\": \"markers\", \"name\": \"Student_16\", \"text\": [\"7\", \"1\", \"5\"], \"x\": [\"Student_16\", \"Student_16\", \"Student_16\", \"Student_16\"], \"y\": [\"Hits\", \"Readings\", \"Posts\"], \"type\": \"scatter\", \"uid\": \"4d1809ca-e29a-11e8-9490-d5f4ba98b039\"}, {\"marker\": {\"line\": {\"width\": 2}, \"size\": [3, 5, 16], \"sizemode\": \"area\", \"sizeref\": 0.10526315789473684, \"symbol\": \"circle\"}, \"mode\": \"markers\", \"name\": \"Student_17\", \"text\": [\"3\", \"5\", \"16\"], \"x\": [\"Student_17\", \"Student_17\", \"Student_17\", \"Student_17\"], \"y\": [\"Hits\", \"Readings\", \"Posts\"], \"type\": \"scatter\", \"uid\": \"4d180a4c-e29a-11e8-9490-d5f4ba98b039\"}, {\"marker\": {\"line\": {\"width\": 2}, \"size\": [7, 19, 0], \"sizemode\": \"area\", \"sizeref\": 0.10526315789473684, \"symbol\": \"circle\"}, \"mode\": \"markers\", \"name\": \"Student_18\", \"text\": [\"7\", \"19\", \"0\"], \"x\": [\"Student_18\", \"Student_18\", \"Student_18\", \"Student_18\"], \"y\": [\"Hits\", \"Readings\", \"Posts\"], \"type\": \"scatter\", \"uid\": \"4d180ace-e29a-11e8-9490-d5f4ba98b039\"}, {\"marker\": {\"line\": {\"width\": 2}, \"size\": [16, 1, 5], \"sizemode\": \"area\", \"sizeref\": 0.10526315789473684, \"symbol\": \"circle\"}, \"mode\": \"markers\", \"name\": \"Student_19\", \"text\": [\"16\", \"1\", \"5\"], \"x\": [\"Student_19\", \"Student_19\", \"Student_19\", \"Student_19\"], \"y\": [\"Hits\", \"Readings\", \"Posts\"], \"type\": \"scatter\", \"uid\": \"4d180b46-e29a-11e8-9490-d5f4ba98b039\"}, {\"marker\": {\"line\": {\"width\": 2}, \"size\": [11, 4, 18], \"sizemode\": \"area\", \"sizeref\": 0.10526315789473684, \"symbol\": \"circle\"}, \"mode\": \"markers\", \"name\": \"Student_20\", \"text\": [\"11\", \"4\", \"18\"], \"x\": [\"Student_20\", \"Student_20\", \"Student_20\", \"Student_20\"], \"y\": [\"Hits\", \"Readings\", \"Posts\"], \"type\": \"scatter\", \"uid\": \"4d180bbe-e29a-11e8-9490-d5f4ba98b039\"}], {\"hovermode\": \"closest\", \"showlegend\": true, \"title\": \"N\\u00famero de acessos a Posts, Leituras e Likes por estudante\", \"xaxis\": {\"autorange\": false, \"fixedrange\": false, \"range\": [-1, 20], \"rangemode\": \"normal\", \"showline\": true, \"title\": \"Estudantes\", \"type\": \"category\"}, \"yaxis\": {\"autorange\": false, \"categoryorder\": \"category ascending\", \"fixedrange\": false, \"range\": [-1, 3], \"rangemode\": \"normal\", \"showline\": true, \"type\": \"category\"}}, {\"showLink\": true, \"linkText\": \"Export to plot.ly\"})});</script>"
      ],
      "text/vnd.plotly.v1+html": [
       "<div id=\"f6573b09-9d1d-4f11-9ad2-250fa2d83bbf\" style=\"height: 525px; width: 100%;\" class=\"plotly-graph-div\"></div><script type=\"text/javascript\">require([\"plotly\"], function(Plotly) { window.PLOTLYENV=window.PLOTLYENV || {};window.PLOTLYENV.BASE_URL=\"https://plot.ly\";Plotly.newPlot(\"f6573b09-9d1d-4f11-9ad2-250fa2d83bbf\", [{\"marker\": {\"line\": {\"width\": 2}, \"size\": [8, 5, 5], \"sizemode\": \"area\", \"sizeref\": 0.10526315789473684, \"symbol\": \"circle\"}, \"mode\": \"markers\", \"name\": \"Student_1\", \"text\": [\"8\", \"5\", \"5\"], \"x\": [\"Student_1\", \"Student_1\", \"Student_1\", \"Student_1\"], \"y\": [\"Hits\", \"Readings\", \"Posts\"], \"type\": \"scatter\", \"uid\": \"4d180042-e29a-11e8-9490-d5f4ba98b039\"}, {\"marker\": {\"line\": {\"width\": 2}, \"size\": [3, 8, 7], \"sizemode\": \"area\", \"sizeref\": 0.10526315789473684, \"symbol\": \"circle\"}, \"mode\": \"markers\", \"name\": \"Student_2\", \"text\": [\"3\", \"8\", \"7\"], \"x\": [\"Student_2\", \"Student_2\", \"Student_2\", \"Student_2\"], \"y\": [\"Hits\", \"Readings\", \"Posts\"], \"type\": \"scatter\", \"uid\": \"4d1801f0-e29a-11e8-9490-d5f4ba98b039\"}, {\"marker\": {\"line\": {\"width\": 2}, \"size\": [1, 6, 4], \"sizemode\": \"area\", \"sizeref\": 0.10526315789473684, \"symbol\": \"circle\"}, \"mode\": \"markers\", \"name\": \"Student_3\", \"text\": [\"1\", \"6\", \"4\"], \"x\": [\"Student_3\", \"Student_3\", \"Student_3\", \"Student_3\"], \"y\": [\"Hits\", \"Readings\", \"Posts\"], \"type\": \"scatter\", \"uid\": \"4d1802b8-e29a-11e8-9490-d5f4ba98b039\"}, {\"marker\": {\"line\": {\"width\": 2}, \"size\": [14, 4, 1], \"sizemode\": \"area\", \"sizeref\": 0.10526315789473684, \"symbol\": \"circle\"}, \"mode\": \"markers\", \"name\": \"Student_4\", \"text\": [\"14\", \"4\", \"1\"], \"x\": [\"Student_4\", \"Student_4\", \"Student_4\", \"Student_4\"], \"y\": [\"Hits\", \"Readings\", \"Posts\"], \"type\": \"scatter\", \"uid\": \"4d180362-e29a-11e8-9490-d5f4ba98b039\"}, {\"marker\": {\"line\": {\"width\": 2}, \"size\": [17, 0, 12], \"sizemode\": \"area\", \"sizeref\": 0.10526315789473684, \"symbol\": \"circle\"}, \"mode\": \"markers\", \"name\": \"Student_5\", \"text\": [\"17\", \"0\", \"12\"], \"x\": [\"Student_5\", \"Student_5\", \"Student_5\", \"Student_5\"], \"y\": [\"Hits\", \"Readings\", \"Posts\"], \"type\": \"scatter\", \"uid\": \"4d1803f8-e29a-11e8-9490-d5f4ba98b039\"}, {\"marker\": {\"line\": {\"width\": 2}, \"size\": [8, 1, 17], \"sizemode\": \"area\", \"sizeref\": 0.10526315789473684, \"symbol\": \"circle\"}, \"mode\": \"markers\", \"name\": \"Student_6\", \"text\": [\"8\", \"1\", \"17\"], \"x\": [\"Student_6\", \"Student_6\", \"Student_6\", \"Student_6\"], \"y\": [\"Hits\", \"Readings\", \"Posts\"], \"type\": \"scatter\", \"uid\": \"4d180484-e29a-11e8-9490-d5f4ba98b039\"}, {\"marker\": {\"line\": {\"width\": 2}, \"size\": [9, 10, 18], \"sizemode\": \"area\", \"sizeref\": 0.10526315789473684, \"symbol\": \"circle\"}, \"mode\": \"markers\", \"name\": \"Student_7\", \"text\": [\"9\", \"10\", \"18\"], \"x\": [\"Student_7\", \"Student_7\", \"Student_7\", \"Student_7\"], \"y\": [\"Hits\", \"Readings\", \"Posts\"], \"type\": \"scatter\", \"uid\": \"4d180510-e29a-11e8-9490-d5f4ba98b039\"}, {\"marker\": {\"line\": {\"width\": 2}, \"size\": [12, 15, 10], \"sizemode\": \"area\", \"sizeref\": 0.10526315789473684, \"symbol\": \"circle\"}, \"mode\": \"markers\", \"name\": \"Student_8\", \"text\": [\"12\", \"15\", \"10\"], \"x\": [\"Student_8\", \"Student_8\", \"Student_8\", \"Student_8\"], \"y\": [\"Hits\", \"Readings\", \"Posts\"], \"type\": \"scatter\", \"uid\": \"4d180592-e29a-11e8-9490-d5f4ba98b039\"}, {\"marker\": {\"line\": {\"width\": 2}, \"size\": [0, 5, 9], \"sizemode\": \"area\", \"sizeref\": 0.10526315789473684, \"symbol\": \"circle\"}, \"mode\": \"markers\", \"name\": \"Student_9\", \"text\": [\"0\", \"5\", \"9\"], \"x\": [\"Student_9\", \"Student_9\", \"Student_9\", \"Student_9\"], \"y\": [\"Hits\", \"Readings\", \"Posts\"], \"type\": \"scatter\", \"uid\": \"4d18061e-e29a-11e8-9490-d5f4ba98b039\"}, {\"marker\": {\"line\": {\"width\": 2}, \"size\": [16, 19, 17], \"sizemode\": \"area\", \"sizeref\": 0.10526315789473684, \"symbol\": \"circle\"}, \"mode\": \"markers\", \"name\": \"Student_10\", \"text\": [\"16\", \"19\", \"17\"], \"x\": [\"Student_10\", \"Student_10\", \"Student_10\", \"Student_10\"], \"y\": [\"Hits\", \"Readings\", \"Posts\"], \"type\": \"scatter\", \"uid\": \"4d1806a0-e29a-11e8-9490-d5f4ba98b039\"}, {\"marker\": {\"line\": {\"width\": 2}, \"size\": [3, 4, 4], \"sizemode\": \"area\", \"sizeref\": 0.10526315789473684, \"symbol\": \"circle\"}, \"mode\": \"markers\", \"name\": \"Student_11\", \"text\": [\"3\", \"4\", \"4\"], \"x\": [\"Student_11\", \"Student_11\", \"Student_11\", \"Student_11\"], \"y\": [\"Hits\", \"Readings\", \"Posts\"], \"type\": \"scatter\", \"uid\": \"4d18072c-e29a-11e8-9490-d5f4ba98b039\"}, {\"marker\": {\"line\": {\"width\": 2}, \"size\": [11, 15, 2], \"sizemode\": \"area\", \"sizeref\": 0.10526315789473684, \"symbol\": \"circle\"}, \"mode\": \"markers\", \"name\": \"Student_12\", \"text\": [\"11\", \"15\", \"2\"], \"x\": [\"Student_12\", \"Student_12\", \"Student_12\", \"Student_12\"], \"y\": [\"Hits\", \"Readings\", \"Posts\"], \"type\": \"scatter\", \"uid\": \"4d1807ae-e29a-11e8-9490-d5f4ba98b039\"}, {\"marker\": {\"line\": {\"width\": 2}, \"size\": [4, 5, 9], \"sizemode\": \"area\", \"sizeref\": 0.10526315789473684, \"symbol\": \"circle\"}, \"mode\": \"markers\", \"name\": \"Student_13\", \"text\": [\"4\", \"5\", \"9\"], \"x\": [\"Student_13\", \"Student_13\", \"Student_13\", \"Student_13\"], \"y\": [\"Hits\", \"Readings\", \"Posts\"], \"type\": \"scatter\", \"uid\": \"4d18083a-e29a-11e8-9490-d5f4ba98b039\"}, {\"marker\": {\"line\": {\"width\": 2}, \"size\": [6, 19, 17], \"sizemode\": \"area\", \"sizeref\": 0.10526315789473684, \"symbol\": \"circle\"}, \"mode\": \"markers\", \"name\": \"Student_14\", \"text\": [\"6\", \"19\", \"17\"], \"x\": [\"Student_14\", \"Student_14\", \"Student_14\", \"Student_14\"], \"y\": [\"Hits\", \"Readings\", \"Posts\"], \"type\": \"scatter\", \"uid\": \"4d1808c6-e29a-11e8-9490-d5f4ba98b039\"}, {\"marker\": {\"line\": {\"width\": 2}, \"size\": [6, 17, 1], \"sizemode\": \"area\", \"sizeref\": 0.10526315789473684, \"symbol\": \"circle\"}, \"mode\": \"markers\", \"name\": \"Student_15\", \"text\": [\"6\", \"17\", \"1\"], \"x\": [\"Student_15\", \"Student_15\", \"Student_15\", \"Student_15\"], \"y\": [\"Hits\", \"Readings\", \"Posts\"], \"type\": \"scatter\", \"uid\": \"4d180948-e29a-11e8-9490-d5f4ba98b039\"}, {\"marker\": {\"line\": {\"width\": 2}, \"size\": [7, 1, 5], \"sizemode\": \"area\", \"sizeref\": 0.10526315789473684, \"symbol\": \"circle\"}, \"mode\": \"markers\", \"name\": \"Student_16\", \"text\": [\"7\", \"1\", \"5\"], \"x\": [\"Student_16\", \"Student_16\", \"Student_16\", \"Student_16\"], \"y\": [\"Hits\", \"Readings\", \"Posts\"], \"type\": \"scatter\", \"uid\": \"4d1809ca-e29a-11e8-9490-d5f4ba98b039\"}, {\"marker\": {\"line\": {\"width\": 2}, \"size\": [3, 5, 16], \"sizemode\": \"area\", \"sizeref\": 0.10526315789473684, \"symbol\": \"circle\"}, \"mode\": \"markers\", \"name\": \"Student_17\", \"text\": [\"3\", \"5\", \"16\"], \"x\": [\"Student_17\", \"Student_17\", \"Student_17\", \"Student_17\"], \"y\": [\"Hits\", \"Readings\", \"Posts\"], \"type\": \"scatter\", \"uid\": \"4d180a4c-e29a-11e8-9490-d5f4ba98b039\"}, {\"marker\": {\"line\": {\"width\": 2}, \"size\": [7, 19, 0], \"sizemode\": \"area\", \"sizeref\": 0.10526315789473684, \"symbol\": \"circle\"}, \"mode\": \"markers\", \"name\": \"Student_18\", \"text\": [\"7\", \"19\", \"0\"], \"x\": [\"Student_18\", \"Student_18\", \"Student_18\", \"Student_18\"], \"y\": [\"Hits\", \"Readings\", \"Posts\"], \"type\": \"scatter\", \"uid\": \"4d180ace-e29a-11e8-9490-d5f4ba98b039\"}, {\"marker\": {\"line\": {\"width\": 2}, \"size\": [16, 1, 5], \"sizemode\": \"area\", \"sizeref\": 0.10526315789473684, \"symbol\": \"circle\"}, \"mode\": \"markers\", \"name\": \"Student_19\", \"text\": [\"16\", \"1\", \"5\"], \"x\": [\"Student_19\", \"Student_19\", \"Student_19\", \"Student_19\"], \"y\": [\"Hits\", \"Readings\", \"Posts\"], \"type\": \"scatter\", \"uid\": \"4d180b46-e29a-11e8-9490-d5f4ba98b039\"}, {\"marker\": {\"line\": {\"width\": 2}, \"size\": [11, 4, 18], \"sizemode\": \"area\", \"sizeref\": 0.10526315789473684, \"symbol\": \"circle\"}, \"mode\": \"markers\", \"name\": \"Student_20\", \"text\": [\"11\", \"4\", \"18\"], \"x\": [\"Student_20\", \"Student_20\", \"Student_20\", \"Student_20\"], \"y\": [\"Hits\", \"Readings\", \"Posts\"], \"type\": \"scatter\", \"uid\": \"4d180bbe-e29a-11e8-9490-d5f4ba98b039\"}], {\"hovermode\": \"closest\", \"showlegend\": true, \"title\": \"N\\u00famero de acessos a Posts, Leituras e Likes por estudante\", \"xaxis\": {\"autorange\": false, \"fixedrange\": false, \"range\": [-1, 20], \"rangemode\": \"normal\", \"showline\": true, \"title\": \"Estudantes\", \"type\": \"category\"}, \"yaxis\": {\"autorange\": false, \"categoryorder\": \"category ascending\", \"fixedrange\": false, \"range\": [-1, 3], \"rangemode\": \"normal\", \"showline\": true, \"type\": \"category\"}}, {\"showLink\": true, \"linkText\": \"Export to plot.ly\"})});</script>"
      ]
     },
     "metadata": {},
     "output_type": "display_data"
    },
    {
     "data": {
      "application/vnd.plotly.v1+json": {
       "data": [
        {
         "colorscale": [
          [
           0,
           "rgb(255,255,255)"
          ],
          [
           1,
           "rgb(0,0,255)"
          ]
         ],
         "type": "heatmap",
         "uid": "4d1c71e0-e29a-11e8-9490-d5f4ba98b039",
         "x": [
          "Hits",
          "Readings",
          "Posts"
         ],
         "y": [
          "Student_1",
          "Student_2",
          "Student_3",
          "Student_4",
          "Student_5",
          "Student_6",
          "Student_7",
          "Student_8",
          "Student_9",
          "Student_10",
          "Student_11",
          "Student_12",
          "Student_13",
          "Student_14",
          "Student_15",
          "Student_16",
          "Student_17",
          "Student_18",
          "Student_19",
          "Student_20"
         ],
         "z": [
          [
           8,
           5,
           5
          ],
          [
           3,
           8,
           7
          ],
          [
           1,
           6,
           4
          ],
          [
           14,
           4,
           1
          ],
          [
           17,
           0,
           12
          ],
          [
           8,
           1,
           17
          ],
          [
           9,
           10,
           18
          ],
          [
           12,
           15,
           10
          ],
          [
           0,
           5,
           9
          ],
          [
           16,
           19,
           17
          ],
          [
           3,
           4,
           4
          ],
          [
           11,
           15,
           2
          ],
          [
           4,
           5,
           9
          ],
          [
           6,
           19,
           17
          ],
          [
           6,
           17,
           1
          ],
          [
           7,
           1,
           5
          ],
          [
           3,
           5,
           16
          ],
          [
           7,
           19,
           0
          ],
          [
           16,
           1,
           5
          ],
          [
           11,
           4,
           18
          ]
         ]
        }
       ],
       "layout": {
        "title": "Número de acessos a Posts, Leituras e Likes por estudante",
        "yaxis": {
         "dtick": 1,
         "exponentformat": "e",
         "gridcolor": "#bdbdbd",
         "showexponent": "all",
         "showticklabels": true,
         "tick0": 0,
         "titlefont": {
          "color": "lightgrey",
          "family": "Arial, sans-serif"
         }
        }
       }
      },
      "text/html": [
       "<div id=\"eacf9352-49d4-48a3-b952-efcfa419cd5d\" style=\"height: 525px; width: 100%;\" class=\"plotly-graph-div\"></div><script type=\"text/javascript\">require([\"plotly\"], function(Plotly) { window.PLOTLYENV=window.PLOTLYENV || {};window.PLOTLYENV.BASE_URL=\"https://plot.ly\";Plotly.newPlot(\"eacf9352-49d4-48a3-b952-efcfa419cd5d\", [{\"colorscale\": [[0, \"rgb(255,255,255)\"], [1, \"rgb(0,0,255)\"]], \"x\": [\"Hits\", \"Readings\", \"Posts\"], \"y\": [\"Student_1\", \"Student_2\", \"Student_3\", \"Student_4\", \"Student_5\", \"Student_6\", \"Student_7\", \"Student_8\", \"Student_9\", \"Student_10\", \"Student_11\", \"Student_12\", \"Student_13\", \"Student_14\", \"Student_15\", \"Student_16\", \"Student_17\", \"Student_18\", \"Student_19\", \"Student_20\"], \"z\": [[8, 5, 5], [3, 8, 7], [1, 6, 4], [14, 4, 1], [17, 0, 12], [8, 1, 17], [9, 10, 18], [12, 15, 10], [0, 5, 9], [16, 19, 17], [3, 4, 4], [11, 15, 2], [4, 5, 9], [6, 19, 17], [6, 17, 1], [7, 1, 5], [3, 5, 16], [7, 19, 0], [16, 1, 5], [11, 4, 18]], \"type\": \"heatmap\", \"uid\": \"4d1c71e0-e29a-11e8-9490-d5f4ba98b039\"}], {\"title\": \"N\\u00famero de acessos a Posts, Leituras e Likes por estudante\", \"yaxis\": {\"dtick\": 1, \"exponentformat\": \"e\", \"gridcolor\": \"#bdbdbd\", \"showexponent\": \"all\", \"showticklabels\": true, \"tick0\": 0, \"titlefont\": {\"color\": \"lightgrey\", \"family\": \"Arial, sans-serif\"}}}, {\"showLink\": true, \"linkText\": \"Export to plot.ly\"})});</script>"
      ],
      "text/vnd.plotly.v1+html": [
       "<div id=\"eacf9352-49d4-48a3-b952-efcfa419cd5d\" style=\"height: 525px; width: 100%;\" class=\"plotly-graph-div\"></div><script type=\"text/javascript\">require([\"plotly\"], function(Plotly) { window.PLOTLYENV=window.PLOTLYENV || {};window.PLOTLYENV.BASE_URL=\"https://plot.ly\";Plotly.newPlot(\"eacf9352-49d4-48a3-b952-efcfa419cd5d\", [{\"colorscale\": [[0, \"rgb(255,255,255)\"], [1, \"rgb(0,0,255)\"]], \"x\": [\"Hits\", \"Readings\", \"Posts\"], \"y\": [\"Student_1\", \"Student_2\", \"Student_3\", \"Student_4\", \"Student_5\", \"Student_6\", \"Student_7\", \"Student_8\", \"Student_9\", \"Student_10\", \"Student_11\", \"Student_12\", \"Student_13\", \"Student_14\", \"Student_15\", \"Student_16\", \"Student_17\", \"Student_18\", \"Student_19\", \"Student_20\"], \"z\": [[8, 5, 5], [3, 8, 7], [1, 6, 4], [14, 4, 1], [17, 0, 12], [8, 1, 17], [9, 10, 18], [12, 15, 10], [0, 5, 9], [16, 19, 17], [3, 4, 4], [11, 15, 2], [4, 5, 9], [6, 19, 17], [6, 17, 1], [7, 1, 5], [3, 5, 16], [7, 19, 0], [16, 1, 5], [11, 4, 18]], \"type\": \"heatmap\", \"uid\": \"4d1c71e0-e29a-11e8-9490-d5f4ba98b039\"}], {\"title\": \"N\\u00famero de acessos a Posts, Leituras e Likes por estudante\", \"yaxis\": {\"dtick\": 1, \"exponentformat\": \"e\", \"gridcolor\": \"#bdbdbd\", \"showexponent\": \"all\", \"showticklabels\": true, \"tick0\": 0, \"titlefont\": {\"color\": \"lightgrey\", \"family\": \"Arial, sans-serif\"}}}, {\"showLink\": true, \"linkText\": \"Export to plot.ly\"})});</script>"
      ]
     },
     "metadata": {},
     "output_type": "display_data"
    }
   ],
   "source": [
    "run scripts/V003.py"
   ]
  },
  {
   "cell_type": "markdown",
   "metadata": {},
   "source": [
    "### View 004"
   ]
  },
  {
   "cell_type": "code",
   "execution_count": 241,
   "metadata": {
    "scrolled": true
   },
   "outputs": [
    {
     "data": {
      "text/html": [
       "<script>requirejs.config({paths: { 'plotly': ['https://cdn.plot.ly/plotly-latest.min']},});if(!window.Plotly) {{require(['plotly'],function(plotly) {window.Plotly=plotly;});}}</script>"
      ],
      "text/vnd.plotly.v1+html": [
       "<script>requirejs.config({paths: { 'plotly': ['https://cdn.plot.ly/plotly-latest.min']},});if(!window.Plotly) {{require(['plotly'],function(plotly) {window.Plotly=plotly;});}}</script>"
      ]
     },
     "metadata": {},
     "output_type": "display_data"
    },
    {
     "data": {
      "application/vnd.plotly.v1+json": {
       "data": [
        {
         "cells": {
          "align": [
           "left",
           "center"
          ],
          "fill": {
           "color": "#F5F8FF"
          },
          "values": [
           [
            "Student_1",
            "Student_2",
            "Student_3",
            "Student_4",
            "Student_5",
            "Student_6",
            "Student_7",
            "Student_8",
            "Student_9",
            "Student_10",
            "Student_11",
            "Student_12",
            "Student_13",
            "Student_14",
            "Student_15",
            "Student_16",
            "Student_17",
            "Student_18",
            "Student_19",
            "Student_20"
           ],
           [
            [
             397,
             394,
             461,
             512
            ],
            [],
            [
             143,
             239,
             305
            ],
            [
             256,
             510,
             242
            ],
            [
             410,
             123,
             23,
             82
            ],
            [
             209,
             423,
             96
            ],
            [
             312
            ],
            [
             359,
             418,
             10
            ],
            [],
            [
             358,
             210,
             439,
             73
            ],
            [
             349,
             159
            ],
            [
             59,
             477,
             21,
             376
            ],
            [],
            [
             493,
             86,
             425
            ],
            [
             36,
             184,
             527
            ],
            [
             213,
             41
            ],
            [
             130,
             367,
             147,
             198
            ],
            [
             513,
             279,
             145
            ],
            [
             87
            ],
            [
             455,
             257
            ]
           ],
           [
            [
             475,
             208,
             104,
             417
            ],
            [],
            [
             131,
             266
            ],
            [
             85,
             126,
             450,
             169
            ],
            [
             167
            ],
            [],
            [
             462,
             265
            ],
            [
             340,
             290,
             441,
             84
            ],
            [
             361,
             291
            ],
            [
             280,
             285,
             101,
             191
            ],
            [],
            [
             323
            ],
            [
             405,
             427
            ],
            [
             464,
             169,
             123,
             23
            ],
            [
             278,
             17
            ],
            [
             126,
             429,
             236
            ],
            [],
            [
             15,
             291,
             243
            ],
            [
             399,
             8,
             235
            ],
            [
             337
            ]
           ],
           [
            [
             310,
             145,
             274,
             94
            ],
            [
             384
            ],
            [],
            [
             185
            ],
            [
             346,
             390
            ],
            [],
            [
             56,
             146
            ],
            [],
            [
             403,
             134,
             31
            ],
            [
             142,
             341
            ],
            [
             297
            ],
            [],
            [
             104,
             40,
             285
            ],
            [
             37,
             345,
             310,
             29
            ],
            [],
            [],
            [
             359,
             381,
             146,
             200
            ],
            [
             162,
             275,
             373,
             142
            ],
            [],
            [
             53,
             298
            ]
           ],
           [
            [
             116,
             227,
             249,
             309
            ],
            [
             331,
             138,
             211
            ],
            [
             369,
             359,
             269
            ],
            [
             207
            ],
            [
             128,
             212,
             311
            ],
            [],
            [
             270
            ],
            [
             90,
             31,
             367,
             238
            ],
            [
             27,
             18,
             287
            ],
            [
             158,
             340,
             303
            ],
            [
             85
            ],
            [
             26
            ],
            [],
            [
             18,
             185,
             176,
             239
            ],
            [
             416,
             243,
             212,
             291
            ],
            [
             59,
             192,
             136,
             59
            ],
            [
             69
            ],
            [],
            [],
            [
             125
            ]
           ],
           [
            [],
            [
             246
            ],
            [
             182,
             242
            ],
            [],
            [
             231
            ],
            [
             421,
             340,
             290,
             345
            ],
            [
             495,
             311
            ],
            [],
            [
             358,
             13,
             66
            ],
            [],
            [
             231,
             79
            ],
            [
             91,
             273,
             277
            ],
            [
             296,
             440,
             337,
             39
            ],
            [],
            [
             380,
             410,
             24
            ],
            [
             214,
             508
            ],
            [
             185,
             132
            ],
            [
             264,
             362
            ],
            [
             368,
             230,
             368,
             276
            ],
            [
             224,
             299,
             23,
             249
            ]
           ],
           [
            4692,
            1310,
            2505,
            2230,
            2423,
            2124,
            2317,
            2668,
            1989,
            3221,
            1200,
            1923,
            2373,
            3122,
            3018,
            2213,
            2314,
            3064,
            1971,
            2320
           ]
          ]
         },
         "header": {
          "align": "center",
          "fill": {
           "color": "#C2D4FF"
          },
          "values": [
           "Students",
           "Video1 (329s)",
           "Video2 (530s)",
           "Video3 (478s)",
           "Video4 (421s)",
           "Video5 (430s)",
           "Total"
          ]
         },
         "type": "table",
         "uid": "b0c92edc-e299-11e8-9490-d5f4ba98b039"
        }
       ],
       "layout": {}
      },
      "text/html": [
       "<div id=\"2c405312-a58f-44f6-bda0-a1579888c085\" style=\"height: 525px; width: 100%;\" class=\"plotly-graph-div\"></div><script type=\"text/javascript\">require([\"plotly\"], function(Plotly) { window.PLOTLYENV=window.PLOTLYENV || {};window.PLOTLYENV.BASE_URL=\"https://plot.ly\";Plotly.newPlot(\"2c405312-a58f-44f6-bda0-a1579888c085\", [{\"cells\": {\"align\": [\"left\", \"center\"], \"fill\": {\"color\": \"#F5F8FF\"}, \"values\": [[\"Student_1\", \"Student_2\", \"Student_3\", \"Student_4\", \"Student_5\", \"Student_6\", \"Student_7\", \"Student_8\", \"Student_9\", \"Student_10\", \"Student_11\", \"Student_12\", \"Student_13\", \"Student_14\", \"Student_15\", \"Student_16\", \"Student_17\", \"Student_18\", \"Student_19\", \"Student_20\"], [[397, 394, 461, 512], [], [143, 239, 305], [256, 510, 242], [410, 123, 23, 82], [209, 423, 96], [312], [359, 418, 10], [], [358, 210, 439, 73], [349, 159], [59, 477, 21, 376], [], [493, 86, 425], [36, 184, 527], [213, 41], [130, 367, 147, 198], [513, 279, 145], [87], [455, 257]], [[475, 208, 104, 417], [], [131, 266], [85, 126, 450, 169], [167], [], [462, 265], [340, 290, 441, 84], [361, 291], [280, 285, 101, 191], [], [323], [405, 427], [464, 169, 123, 23], [278, 17], [126, 429, 236], [], [15, 291, 243], [399, 8, 235], [337]], [[310, 145, 274, 94], [384], [], [185], [346, 390], [], [56, 146], [], [403, 134, 31], [142, 341], [297], [], [104, 40, 285], [37, 345, 310, 29], [], [], [359, 381, 146, 200], [162, 275, 373, 142], [], [53, 298]], [[116, 227, 249, 309], [331, 138, 211], [369, 359, 269], [207], [128, 212, 311], [], [270], [90, 31, 367, 238], [27, 18, 287], [158, 340, 303], [85], [26], [], [18, 185, 176, 239], [416, 243, 212, 291], [59, 192, 136, 59], [69], [], [], [125]], [[], [246], [182, 242], [], [231], [421, 340, 290, 345], [495, 311], [], [358, 13, 66], [], [231, 79], [91, 273, 277], [296, 440, 337, 39], [], [380, 410, 24], [214, 508], [185, 132], [264, 362], [368, 230, 368, 276], [224, 299, 23, 249]], [4692, 1310, 2505, 2230, 2423, 2124, 2317, 2668, 1989, 3221, 1200, 1923, 2373, 3122, 3018, 2213, 2314, 3064, 1971, 2320]]}, \"header\": {\"align\": \"center\", \"fill\": {\"color\": \"#C2D4FF\"}, \"values\": [\"Students\", \"Video1 (329s)\", \"Video2 (530s)\", \"Video3 (478s)\", \"Video4 (421s)\", \"Video5 (430s)\", \"Total\"]}, \"type\": \"table\", \"uid\": \"b0cb561c-e299-11e8-9490-d5f4ba98b039\"}], {}, {\"showLink\": true, \"linkText\": \"Export to plot.ly\"})});</script>"
      ],
      "text/vnd.plotly.v1+html": [
       "<div id=\"2c405312-a58f-44f6-bda0-a1579888c085\" style=\"height: 525px; width: 100%;\" class=\"plotly-graph-div\"></div><script type=\"text/javascript\">require([\"plotly\"], function(Plotly) { window.PLOTLYENV=window.PLOTLYENV || {};window.PLOTLYENV.BASE_URL=\"https://plot.ly\";Plotly.newPlot(\"2c405312-a58f-44f6-bda0-a1579888c085\", [{\"cells\": {\"align\": [\"left\", \"center\"], \"fill\": {\"color\": \"#F5F8FF\"}, \"values\": [[\"Student_1\", \"Student_2\", \"Student_3\", \"Student_4\", \"Student_5\", \"Student_6\", \"Student_7\", \"Student_8\", \"Student_9\", \"Student_10\", \"Student_11\", \"Student_12\", \"Student_13\", \"Student_14\", \"Student_15\", \"Student_16\", \"Student_17\", \"Student_18\", \"Student_19\", \"Student_20\"], [[397, 394, 461, 512], [], [143, 239, 305], [256, 510, 242], [410, 123, 23, 82], [209, 423, 96], [312], [359, 418, 10], [], [358, 210, 439, 73], [349, 159], [59, 477, 21, 376], [], [493, 86, 425], [36, 184, 527], [213, 41], [130, 367, 147, 198], [513, 279, 145], [87], [455, 257]], [[475, 208, 104, 417], [], [131, 266], [85, 126, 450, 169], [167], [], [462, 265], [340, 290, 441, 84], [361, 291], [280, 285, 101, 191], [], [323], [405, 427], [464, 169, 123, 23], [278, 17], [126, 429, 236], [], [15, 291, 243], [399, 8, 235], [337]], [[310, 145, 274, 94], [384], [], [185], [346, 390], [], [56, 146], [], [403, 134, 31], [142, 341], [297], [], [104, 40, 285], [37, 345, 310, 29], [], [], [359, 381, 146, 200], [162, 275, 373, 142], [], [53, 298]], [[116, 227, 249, 309], [331, 138, 211], [369, 359, 269], [207], [128, 212, 311], [], [270], [90, 31, 367, 238], [27, 18, 287], [158, 340, 303], [85], [26], [], [18, 185, 176, 239], [416, 243, 212, 291], [59, 192, 136, 59], [69], [], [], [125]], [[], [246], [182, 242], [], [231], [421, 340, 290, 345], [495, 311], [], [358, 13, 66], [], [231, 79], [91, 273, 277], [296, 440, 337, 39], [], [380, 410, 24], [214, 508], [185, 132], [264, 362], [368, 230, 368, 276], [224, 299, 23, 249]], [4692, 1310, 2505, 2230, 2423, 2124, 2317, 2668, 1989, 3221, 1200, 1923, 2373, 3122, 3018, 2213, 2314, 3064, 1971, 2320]]}, \"header\": {\"align\": \"center\", \"fill\": {\"color\": \"#C2D4FF\"}, \"values\": [\"Students\", \"Video1 (329s)\", \"Video2 (530s)\", \"Video3 (478s)\", \"Video4 (421s)\", \"Video5 (430s)\", \"Total\"]}, \"type\": \"table\", \"uid\": \"b0cb561c-e299-11e8-9490-d5f4ba98b039\"}], {}, {\"showLink\": true, \"linkText\": \"Export to plot.ly\"})});</script>"
      ]
     },
     "metadata": {},
     "output_type": "display_data"
    },
    {
     "data": {
      "application/vnd.plotly.v1+json": {
       "data": [
        {
         "marker": {
          "line": {
           "width": 2
          },
          "size": [
           1764,
           1204,
           823,
           901,
           0,
           4692
          ],
          "sizemode": "area",
          "sizeref": 4.5,
          "symbol": "circle"
         },
         "mode": "markers",
         "name": "Student_1",
         "text": [
          "1764",
          "1204",
          "823",
          "901",
          "0",
          "4692"
         ],
         "type": "scatter",
         "uid": "b0ded87c-e299-11e8-9490-d5f4ba98b039",
         "x": [
          "Student_1",
          "Student_1",
          "Student_1",
          "Student_1",
          "Student_1",
          "Student_1"
         ],
         "y": [
          "Video1",
          "Video2",
          "Video3",
          "Video4",
          "Video5",
          "Total"
         ]
        },
        {
         "marker": {
          "line": {
           "width": 2
          },
          "size": [
           0,
           0,
           384,
           680,
           246,
           1310
          ],
          "sizemode": "area",
          "sizeref": 4.5,
          "symbol": "circle"
         },
         "mode": "markers",
         "name": "Student_2",
         "text": [
          "0",
          "0",
          "384",
          "680",
          "246",
          "1310"
         ],
         "type": "scatter",
         "uid": "b0deda20-e299-11e8-9490-d5f4ba98b039",
         "x": [
          "Student_2",
          "Student_2",
          "Student_2",
          "Student_2",
          "Student_2",
          "Student_2"
         ],
         "y": [
          "Video1",
          "Video2",
          "Video3",
          "Video4",
          "Video5",
          "Total"
         ]
        },
        {
         "marker": {
          "line": {
           "width": 2
          },
          "size": [
           687,
           397,
           0,
           997,
           424,
           2505
          ],
          "sizemode": "area",
          "sizeref": 4.5,
          "symbol": "circle"
         },
         "mode": "markers",
         "name": "Student_3",
         "text": [
          "687",
          "397",
          "0",
          "997",
          "424",
          "2505"
         ],
         "type": "scatter",
         "uid": "b0dedaf2-e299-11e8-9490-d5f4ba98b039",
         "x": [
          "Student_3",
          "Student_3",
          "Student_3",
          "Student_3",
          "Student_3",
          "Student_3"
         ],
         "y": [
          "Video1",
          "Video2",
          "Video3",
          "Video4",
          "Video5",
          "Total"
         ]
        },
        {
         "marker": {
          "line": {
           "width": 2
          },
          "size": [
           1008,
           830,
           185,
           207,
           0,
           2230
          ],
          "sizemode": "area",
          "sizeref": 4.5,
          "symbol": "circle"
         },
         "mode": "markers",
         "name": "Student_4",
         "text": [
          "1008",
          "830",
          "185",
          "207",
          "0",
          "2230"
         ],
         "type": "scatter",
         "uid": "b0dedb9c-e299-11e8-9490-d5f4ba98b039",
         "x": [
          "Student_4",
          "Student_4",
          "Student_4",
          "Student_4",
          "Student_4",
          "Student_4"
         ],
         "y": [
          "Video1",
          "Video2",
          "Video3",
          "Video4",
          "Video5",
          "Total"
         ]
        },
        {
         "marker": {
          "line": {
           "width": 2
          },
          "size": [
           638,
           167,
           736,
           651,
           231,
           2423
          ],
          "sizemode": "area",
          "sizeref": 4.5,
          "symbol": "circle"
         },
         "mode": "markers",
         "name": "Student_5",
         "text": [
          "638",
          "167",
          "736",
          "651",
          "231",
          "2423"
         ],
         "type": "scatter",
         "uid": "b0dedc3c-e299-11e8-9490-d5f4ba98b039",
         "x": [
          "Student_5",
          "Student_5",
          "Student_5",
          "Student_5",
          "Student_5",
          "Student_5"
         ],
         "y": [
          "Video1",
          "Video2",
          "Video3",
          "Video4",
          "Video5",
          "Total"
         ]
        },
        {
         "marker": {
          "line": {
           "width": 2
          },
          "size": [
           728,
           0,
           0,
           0,
           1396,
           2124
          ],
          "sizemode": "area",
          "sizeref": 4.5,
          "symbol": "circle"
         },
         "mode": "markers",
         "name": "Student_6",
         "text": [
          "728",
          "0",
          "0",
          "0",
          "1396",
          "2124"
         ],
         "type": "scatter",
         "uid": "b0dedcc8-e299-11e8-9490-d5f4ba98b039",
         "x": [
          "Student_6",
          "Student_6",
          "Student_6",
          "Student_6",
          "Student_6",
          "Student_6"
         ],
         "y": [
          "Video1",
          "Video2",
          "Video3",
          "Video4",
          "Video5",
          "Total"
         ]
        },
        {
         "marker": {
          "line": {
           "width": 2
          },
          "size": [
           312,
           727,
           202,
           270,
           806,
           2317
          ],
          "sizemode": "area",
          "sizeref": 4.5,
          "symbol": "circle"
         },
         "mode": "markers",
         "name": "Student_7",
         "text": [
          "312",
          "727",
          "202",
          "270",
          "806",
          "2317"
         ],
         "type": "scatter",
         "uid": "b0dedd5e-e299-11e8-9490-d5f4ba98b039",
         "x": [
          "Student_7",
          "Student_7",
          "Student_7",
          "Student_7",
          "Student_7",
          "Student_7"
         ],
         "y": [
          "Video1",
          "Video2",
          "Video3",
          "Video4",
          "Video5",
          "Total"
         ]
        },
        {
         "marker": {
          "line": {
           "width": 2
          },
          "size": [
           787,
           1155,
           0,
           726,
           0,
           2668
          ],
          "sizemode": "area",
          "sizeref": 4.5,
          "symbol": "circle"
         },
         "mode": "markers",
         "name": "Student_8",
         "text": [
          "787",
          "1155",
          "0",
          "726",
          "0",
          "2668"
         ],
         "type": "scatter",
         "uid": "b0deddea-e299-11e8-9490-d5f4ba98b039",
         "x": [
          "Student_8",
          "Student_8",
          "Student_8",
          "Student_8",
          "Student_8",
          "Student_8"
         ],
         "y": [
          "Video1",
          "Video2",
          "Video3",
          "Video4",
          "Video5",
          "Total"
         ]
        },
        {
         "marker": {
          "line": {
           "width": 2
          },
          "size": [
           0,
           652,
           568,
           332,
           437,
           1989
          ],
          "sizemode": "area",
          "sizeref": 4.5,
          "symbol": "circle"
         },
         "mode": "markers",
         "name": "Student_9",
         "text": [
          "0",
          "652",
          "568",
          "332",
          "437",
          "1989"
         ],
         "type": "scatter",
         "uid": "b0dede6c-e299-11e8-9490-d5f4ba98b039",
         "x": [
          "Student_9",
          "Student_9",
          "Student_9",
          "Student_9",
          "Student_9",
          "Student_9"
         ],
         "y": [
          "Video1",
          "Video2",
          "Video3",
          "Video4",
          "Video5",
          "Total"
         ]
        },
        {
         "marker": {
          "line": {
           "width": 2
          },
          "size": [
           1080,
           857,
           483,
           801,
           0,
           3221
          ],
          "sizemode": "area",
          "sizeref": 4.5,
          "symbol": "circle"
         },
         "mode": "markers",
         "name": "Student_10",
         "text": [
          "1080",
          "857",
          "483",
          "801",
          "0",
          "3221"
         ],
         "type": "scatter",
         "uid": "b0dedee4-e299-11e8-9490-d5f4ba98b039",
         "x": [
          "Student_10",
          "Student_10",
          "Student_10",
          "Student_10",
          "Student_10",
          "Student_10"
         ],
         "y": [
          "Video1",
          "Video2",
          "Video3",
          "Video4",
          "Video5",
          "Total"
         ]
        },
        {
         "marker": {
          "line": {
           "width": 2
          },
          "size": [
           508,
           0,
           297,
           85,
           310,
           1200
          ],
          "sizemode": "area",
          "sizeref": 4.5,
          "symbol": "circle"
         },
         "mode": "markers",
         "name": "Student_11",
         "text": [
          "508",
          "0",
          "297",
          "85",
          "310",
          "1200"
         ],
         "type": "scatter",
         "uid": "b0dedf66-e299-11e8-9490-d5f4ba98b039",
         "x": [
          "Student_11",
          "Student_11",
          "Student_11",
          "Student_11",
          "Student_11",
          "Student_11"
         ],
         "y": [
          "Video1",
          "Video2",
          "Video3",
          "Video4",
          "Video5",
          "Total"
         ]
        },
        {
         "marker": {
          "line": {
           "width": 2
          },
          "size": [
           933,
           323,
           0,
           26,
           641,
           1923
          ],
          "sizemode": "area",
          "sizeref": 4.5,
          "symbol": "circle"
         },
         "mode": "markers",
         "name": "Student_12",
         "text": [
          "933",
          "323",
          "0",
          "26",
          "641",
          "1923"
         ],
         "type": "scatter",
         "uid": "b0dedfe8-e299-11e8-9490-d5f4ba98b039",
         "x": [
          "Student_12",
          "Student_12",
          "Student_12",
          "Student_12",
          "Student_12",
          "Student_12"
         ],
         "y": [
          "Video1",
          "Video2",
          "Video3",
          "Video4",
          "Video5",
          "Total"
         ]
        },
        {
         "marker": {
          "line": {
           "width": 2
          },
          "size": [
           0,
           832,
           429,
           0,
           1112,
           2373
          ],
          "sizemode": "area",
          "sizeref": 4.5,
          "symbol": "circle"
         },
         "mode": "markers",
         "name": "Student_13",
         "text": [
          "0",
          "832",
          "429",
          "0",
          "1112",
          "2373"
         ],
         "type": "scatter",
         "uid": "b0dee060-e299-11e8-9490-d5f4ba98b039",
         "x": [
          "Student_13",
          "Student_13",
          "Student_13",
          "Student_13",
          "Student_13",
          "Student_13"
         ],
         "y": [
          "Video1",
          "Video2",
          "Video3",
          "Video4",
          "Video5",
          "Total"
         ]
        },
        {
         "marker": {
          "line": {
           "width": 2
          },
          "size": [
           1004,
           779,
           721,
           618,
           0,
           3122
          ],
          "sizemode": "area",
          "sizeref": 4.5,
          "symbol": "circle"
         },
         "mode": "markers",
         "name": "Student_14",
         "text": [
          "1004",
          "779",
          "721",
          "618",
          "0",
          "3122"
         ],
         "type": "scatter",
         "uid": "b0dee0d8-e299-11e8-9490-d5f4ba98b039",
         "x": [
          "Student_14",
          "Student_14",
          "Student_14",
          "Student_14",
          "Student_14",
          "Student_14"
         ],
         "y": [
          "Video1",
          "Video2",
          "Video3",
          "Video4",
          "Video5",
          "Total"
         ]
        },
        {
         "marker": {
          "line": {
           "width": 2
          },
          "size": [
           747,
           295,
           0,
           1162,
           814,
           3018
          ],
          "sizemode": "area",
          "sizeref": 4.5,
          "symbol": "circle"
         },
         "mode": "markers",
         "name": "Student_15",
         "text": [
          "747",
          "295",
          "0",
          "1162",
          "814",
          "3018"
         ],
         "type": "scatter",
         "uid": "b0dee15a-e299-11e8-9490-d5f4ba98b039",
         "x": [
          "Student_15",
          "Student_15",
          "Student_15",
          "Student_15",
          "Student_15",
          "Student_15"
         ],
         "y": [
          "Video1",
          "Video2",
          "Video3",
          "Video4",
          "Video5",
          "Total"
         ]
        },
        {
         "marker": {
          "line": {
           "width": 2
          },
          "size": [
           254,
           791,
           0,
           446,
           722,
           2213
          ],
          "sizemode": "area",
          "sizeref": 4.5,
          "symbol": "circle"
         },
         "mode": "markers",
         "name": "Student_16",
         "text": [
          "254",
          "791",
          "0",
          "446",
          "722",
          "2213"
         ],
         "type": "scatter",
         "uid": "b0dee1d2-e299-11e8-9490-d5f4ba98b039",
         "x": [
          "Student_16",
          "Student_16",
          "Student_16",
          "Student_16",
          "Student_16",
          "Student_16"
         ],
         "y": [
          "Video1",
          "Video2",
          "Video3",
          "Video4",
          "Video5",
          "Total"
         ]
        },
        {
         "marker": {
          "line": {
           "width": 2
          },
          "size": [
           842,
           0,
           1086,
           69,
           317,
           2314
          ],
          "sizemode": "area",
          "sizeref": 4.5,
          "symbol": "circle"
         },
         "mode": "markers",
         "name": "Student_17",
         "text": [
          "842",
          "0",
          "1086",
          "69",
          "317",
          "2314"
         ],
         "type": "scatter",
         "uid": "b0dee24a-e299-11e8-9490-d5f4ba98b039",
         "x": [
          "Student_17",
          "Student_17",
          "Student_17",
          "Student_17",
          "Student_17",
          "Student_17"
         ],
         "y": [
          "Video1",
          "Video2",
          "Video3",
          "Video4",
          "Video5",
          "Total"
         ]
        },
        {
         "marker": {
          "line": {
           "width": 2
          },
          "size": [
           937,
           549,
           952,
           0,
           626,
           3064
          ],
          "sizemode": "area",
          "sizeref": 4.5,
          "symbol": "circle"
         },
         "mode": "markers",
         "name": "Student_18",
         "text": [
          "937",
          "549",
          "952",
          "0",
          "626",
          "3064"
         ],
         "type": "scatter",
         "uid": "b0dee2cc-e299-11e8-9490-d5f4ba98b039",
         "x": [
          "Student_18",
          "Student_18",
          "Student_18",
          "Student_18",
          "Student_18",
          "Student_18"
         ],
         "y": [
          "Video1",
          "Video2",
          "Video3",
          "Video4",
          "Video5",
          "Total"
         ]
        },
        {
         "marker": {
          "line": {
           "width": 2
          },
          "size": [
           87,
           642,
           0,
           0,
           1242,
           1971
          ],
          "sizemode": "area",
          "sizeref": 4.5,
          "symbol": "circle"
         },
         "mode": "markers",
         "name": "Student_19",
         "text": [
          "87",
          "642",
          "0",
          "0",
          "1242",
          "1971"
         ],
         "type": "scatter",
         "uid": "b0dee344-e299-11e8-9490-d5f4ba98b039",
         "x": [
          "Student_19",
          "Student_19",
          "Student_19",
          "Student_19",
          "Student_19",
          "Student_19"
         ],
         "y": [
          "Video1",
          "Video2",
          "Video3",
          "Video4",
          "Video5",
          "Total"
         ]
        },
        {
         "marker": {
          "line": {
           "width": 2
          },
          "size": [
           712,
           337,
           351,
           125,
           795,
           2320
          ],
          "sizemode": "area",
          "sizeref": 4.5,
          "symbol": "circle"
         },
         "mode": "markers",
         "name": "Student_20",
         "text": [
          "712",
          "337",
          "351",
          "125",
          "795",
          "2320"
         ],
         "type": "scatter",
         "uid": "b0dee3bc-e299-11e8-9490-d5f4ba98b039",
         "x": [
          "Student_20",
          "Student_20",
          "Student_20",
          "Student_20",
          "Student_20",
          "Student_20"
         ],
         "y": [
          "Video1",
          "Video2",
          "Video3",
          "Video4",
          "Video5",
          "Total"
         ]
        }
       ],
       "layout": {
        "hovermode": "closest",
        "showlegend": true,
        "title": "Tempo de acesso aos vídeos por estudante",
        "xaxis": {
         "autorange": false,
         "fixedrange": false,
         "range": [
          -1,
          20
         ],
         "rangemode": "normal",
         "showline": true,
         "title": "Estudantes",
         "type": "category"
        },
        "yaxis": {
         "autorange": false,
         "fixedrange": false,
         "range": [
          -1,
          6
         ],
         "rangemode": "normal",
         "showline": true,
         "title": "Videos",
         "type": "category"
        }
       }
      },
      "text/html": [
       "<div id=\"cf563427-0ce9-4fbf-9512-b8df082cfe73\" style=\"height: 525px; width: 100%;\" class=\"plotly-graph-div\"></div><script type=\"text/javascript\">require([\"plotly\"], function(Plotly) { window.PLOTLYENV=window.PLOTLYENV || {};window.PLOTLYENV.BASE_URL=\"https://plot.ly\";Plotly.newPlot(\"cf563427-0ce9-4fbf-9512-b8df082cfe73\", [{\"marker\": {\"line\": {\"width\": 2}, \"size\": [1764, 1204, 823, 901, 0, 4692], \"sizemode\": \"area\", \"sizeref\": 4.5, \"symbol\": \"circle\"}, \"mode\": \"markers\", \"name\": \"Student_1\", \"text\": [\"1764\", \"1204\", \"823\", \"901\", \"0\", \"4692\"], \"x\": [\"Student_1\", \"Student_1\", \"Student_1\", \"Student_1\", \"Student_1\", \"Student_1\"], \"y\": [\"Video1\", \"Video2\", \"Video3\", \"Video4\", \"Video5\", \"Total\"], \"type\": \"scatter\", \"uid\": \"b0ded87c-e299-11e8-9490-d5f4ba98b039\"}, {\"marker\": {\"line\": {\"width\": 2}, \"size\": [0, 0, 384, 680, 246, 1310], \"sizemode\": \"area\", \"sizeref\": 4.5, \"symbol\": \"circle\"}, \"mode\": \"markers\", \"name\": \"Student_2\", \"text\": [\"0\", \"0\", \"384\", \"680\", \"246\", \"1310\"], \"x\": [\"Student_2\", \"Student_2\", \"Student_2\", \"Student_2\", \"Student_2\", \"Student_2\"], \"y\": [\"Video1\", \"Video2\", \"Video3\", \"Video4\", \"Video5\", \"Total\"], \"type\": \"scatter\", \"uid\": \"b0deda20-e299-11e8-9490-d5f4ba98b039\"}, {\"marker\": {\"line\": {\"width\": 2}, \"size\": [687, 397, 0, 997, 424, 2505], \"sizemode\": \"area\", \"sizeref\": 4.5, \"symbol\": \"circle\"}, \"mode\": \"markers\", \"name\": \"Student_3\", \"text\": [\"687\", \"397\", \"0\", \"997\", \"424\", \"2505\"], \"x\": [\"Student_3\", \"Student_3\", \"Student_3\", \"Student_3\", \"Student_3\", \"Student_3\"], \"y\": [\"Video1\", \"Video2\", \"Video3\", \"Video4\", \"Video5\", \"Total\"], \"type\": \"scatter\", \"uid\": \"b0dedaf2-e299-11e8-9490-d5f4ba98b039\"}, {\"marker\": {\"line\": {\"width\": 2}, \"size\": [1008, 830, 185, 207, 0, 2230], \"sizemode\": \"area\", \"sizeref\": 4.5, \"symbol\": \"circle\"}, \"mode\": \"markers\", \"name\": \"Student_4\", \"text\": [\"1008\", \"830\", \"185\", \"207\", \"0\", \"2230\"], \"x\": [\"Student_4\", \"Student_4\", \"Student_4\", \"Student_4\", \"Student_4\", \"Student_4\"], \"y\": [\"Video1\", \"Video2\", \"Video3\", \"Video4\", \"Video5\", \"Total\"], \"type\": \"scatter\", \"uid\": \"b0dedb9c-e299-11e8-9490-d5f4ba98b039\"}, {\"marker\": {\"line\": {\"width\": 2}, \"size\": [638, 167, 736, 651, 231, 2423], \"sizemode\": \"area\", \"sizeref\": 4.5, \"symbol\": \"circle\"}, \"mode\": \"markers\", \"name\": \"Student_5\", \"text\": [\"638\", \"167\", \"736\", \"651\", \"231\", \"2423\"], \"x\": [\"Student_5\", \"Student_5\", \"Student_5\", \"Student_5\", \"Student_5\", \"Student_5\"], \"y\": [\"Video1\", \"Video2\", \"Video3\", \"Video4\", \"Video5\", \"Total\"], \"type\": \"scatter\", \"uid\": \"b0dedc3c-e299-11e8-9490-d5f4ba98b039\"}, {\"marker\": {\"line\": {\"width\": 2}, \"size\": [728, 0, 0, 0, 1396, 2124], \"sizemode\": \"area\", \"sizeref\": 4.5, \"symbol\": \"circle\"}, \"mode\": \"markers\", \"name\": \"Student_6\", \"text\": [\"728\", \"0\", \"0\", \"0\", \"1396\", \"2124\"], \"x\": [\"Student_6\", \"Student_6\", \"Student_6\", \"Student_6\", \"Student_6\", \"Student_6\"], \"y\": [\"Video1\", \"Video2\", \"Video3\", \"Video4\", \"Video5\", \"Total\"], \"type\": \"scatter\", \"uid\": \"b0dedcc8-e299-11e8-9490-d5f4ba98b039\"}, {\"marker\": {\"line\": {\"width\": 2}, \"size\": [312, 727, 202, 270, 806, 2317], \"sizemode\": \"area\", \"sizeref\": 4.5, \"symbol\": \"circle\"}, \"mode\": \"markers\", \"name\": \"Student_7\", \"text\": [\"312\", \"727\", \"202\", \"270\", \"806\", \"2317\"], \"x\": [\"Student_7\", \"Student_7\", \"Student_7\", \"Student_7\", \"Student_7\", \"Student_7\"], \"y\": [\"Video1\", \"Video2\", \"Video3\", \"Video4\", \"Video5\", \"Total\"], \"type\": \"scatter\", \"uid\": \"b0dedd5e-e299-11e8-9490-d5f4ba98b039\"}, {\"marker\": {\"line\": {\"width\": 2}, \"size\": [787, 1155, 0, 726, 0, 2668], \"sizemode\": \"area\", \"sizeref\": 4.5, \"symbol\": \"circle\"}, \"mode\": \"markers\", \"name\": \"Student_8\", \"text\": [\"787\", \"1155\", \"0\", \"726\", \"0\", \"2668\"], \"x\": [\"Student_8\", \"Student_8\", \"Student_8\", \"Student_8\", \"Student_8\", \"Student_8\"], \"y\": [\"Video1\", \"Video2\", \"Video3\", \"Video4\", \"Video5\", \"Total\"], \"type\": \"scatter\", \"uid\": \"b0deddea-e299-11e8-9490-d5f4ba98b039\"}, {\"marker\": {\"line\": {\"width\": 2}, \"size\": [0, 652, 568, 332, 437, 1989], \"sizemode\": \"area\", \"sizeref\": 4.5, \"symbol\": \"circle\"}, \"mode\": \"markers\", \"name\": \"Student_9\", \"text\": [\"0\", \"652\", \"568\", \"332\", \"437\", \"1989\"], \"x\": [\"Student_9\", \"Student_9\", \"Student_9\", \"Student_9\", \"Student_9\", \"Student_9\"], \"y\": [\"Video1\", \"Video2\", \"Video3\", \"Video4\", \"Video5\", \"Total\"], \"type\": \"scatter\", \"uid\": \"b0dede6c-e299-11e8-9490-d5f4ba98b039\"}, {\"marker\": {\"line\": {\"width\": 2}, \"size\": [1080, 857, 483, 801, 0, 3221], \"sizemode\": \"area\", \"sizeref\": 4.5, \"symbol\": \"circle\"}, \"mode\": \"markers\", \"name\": \"Student_10\", \"text\": [\"1080\", \"857\", \"483\", \"801\", \"0\", \"3221\"], \"x\": [\"Student_10\", \"Student_10\", \"Student_10\", \"Student_10\", \"Student_10\", \"Student_10\"], \"y\": [\"Video1\", \"Video2\", \"Video3\", \"Video4\", \"Video5\", \"Total\"], \"type\": \"scatter\", \"uid\": \"b0dedee4-e299-11e8-9490-d5f4ba98b039\"}, {\"marker\": {\"line\": {\"width\": 2}, \"size\": [508, 0, 297, 85, 310, 1200], \"sizemode\": \"area\", \"sizeref\": 4.5, \"symbol\": \"circle\"}, \"mode\": \"markers\", \"name\": \"Student_11\", \"text\": [\"508\", \"0\", \"297\", \"85\", \"310\", \"1200\"], \"x\": [\"Student_11\", \"Student_11\", \"Student_11\", \"Student_11\", \"Student_11\", \"Student_11\"], \"y\": [\"Video1\", \"Video2\", \"Video3\", \"Video4\", \"Video5\", \"Total\"], \"type\": \"scatter\", \"uid\": \"b0dedf66-e299-11e8-9490-d5f4ba98b039\"}, {\"marker\": {\"line\": {\"width\": 2}, \"size\": [933, 323, 0, 26, 641, 1923], \"sizemode\": \"area\", \"sizeref\": 4.5, \"symbol\": \"circle\"}, \"mode\": \"markers\", \"name\": \"Student_12\", \"text\": [\"933\", \"323\", \"0\", \"26\", \"641\", \"1923\"], \"x\": [\"Student_12\", \"Student_12\", \"Student_12\", \"Student_12\", \"Student_12\", \"Student_12\"], \"y\": [\"Video1\", \"Video2\", \"Video3\", \"Video4\", \"Video5\", \"Total\"], \"type\": \"scatter\", \"uid\": \"b0dedfe8-e299-11e8-9490-d5f4ba98b039\"}, {\"marker\": {\"line\": {\"width\": 2}, \"size\": [0, 832, 429, 0, 1112, 2373], \"sizemode\": \"area\", \"sizeref\": 4.5, \"symbol\": \"circle\"}, \"mode\": \"markers\", \"name\": \"Student_13\", \"text\": [\"0\", \"832\", \"429\", \"0\", \"1112\", \"2373\"], \"x\": [\"Student_13\", \"Student_13\", \"Student_13\", \"Student_13\", \"Student_13\", \"Student_13\"], \"y\": [\"Video1\", \"Video2\", \"Video3\", \"Video4\", \"Video5\", \"Total\"], \"type\": \"scatter\", \"uid\": \"b0dee060-e299-11e8-9490-d5f4ba98b039\"}, {\"marker\": {\"line\": {\"width\": 2}, \"size\": [1004, 779, 721, 618, 0, 3122], \"sizemode\": \"area\", \"sizeref\": 4.5, \"symbol\": \"circle\"}, \"mode\": \"markers\", \"name\": \"Student_14\", \"text\": [\"1004\", \"779\", \"721\", \"618\", \"0\", \"3122\"], \"x\": [\"Student_14\", \"Student_14\", \"Student_14\", \"Student_14\", \"Student_14\", \"Student_14\"], \"y\": [\"Video1\", \"Video2\", \"Video3\", \"Video4\", \"Video5\", \"Total\"], \"type\": \"scatter\", \"uid\": \"b0dee0d8-e299-11e8-9490-d5f4ba98b039\"}, {\"marker\": {\"line\": {\"width\": 2}, \"size\": [747, 295, 0, 1162, 814, 3018], \"sizemode\": \"area\", \"sizeref\": 4.5, \"symbol\": \"circle\"}, \"mode\": \"markers\", \"name\": \"Student_15\", \"text\": [\"747\", \"295\", \"0\", \"1162\", \"814\", \"3018\"], \"x\": [\"Student_15\", \"Student_15\", \"Student_15\", \"Student_15\", \"Student_15\", \"Student_15\"], \"y\": [\"Video1\", \"Video2\", \"Video3\", \"Video4\", \"Video5\", \"Total\"], \"type\": \"scatter\", \"uid\": \"b0dee15a-e299-11e8-9490-d5f4ba98b039\"}, {\"marker\": {\"line\": {\"width\": 2}, \"size\": [254, 791, 0, 446, 722, 2213], \"sizemode\": \"area\", \"sizeref\": 4.5, \"symbol\": \"circle\"}, \"mode\": \"markers\", \"name\": \"Student_16\", \"text\": [\"254\", \"791\", \"0\", \"446\", \"722\", \"2213\"], \"x\": [\"Student_16\", \"Student_16\", \"Student_16\", \"Student_16\", \"Student_16\", \"Student_16\"], \"y\": [\"Video1\", \"Video2\", \"Video3\", \"Video4\", \"Video5\", \"Total\"], \"type\": \"scatter\", \"uid\": \"b0dee1d2-e299-11e8-9490-d5f4ba98b039\"}, {\"marker\": {\"line\": {\"width\": 2}, \"size\": [842, 0, 1086, 69, 317, 2314], \"sizemode\": \"area\", \"sizeref\": 4.5, \"symbol\": \"circle\"}, \"mode\": \"markers\", \"name\": \"Student_17\", \"text\": [\"842\", \"0\", \"1086\", \"69\", \"317\", \"2314\"], \"x\": [\"Student_17\", \"Student_17\", \"Student_17\", \"Student_17\", \"Student_17\", \"Student_17\"], \"y\": [\"Video1\", \"Video2\", \"Video3\", \"Video4\", \"Video5\", \"Total\"], \"type\": \"scatter\", \"uid\": \"b0dee24a-e299-11e8-9490-d5f4ba98b039\"}, {\"marker\": {\"line\": {\"width\": 2}, \"size\": [937, 549, 952, 0, 626, 3064], \"sizemode\": \"area\", \"sizeref\": 4.5, \"symbol\": \"circle\"}, \"mode\": \"markers\", \"name\": \"Student_18\", \"text\": [\"937\", \"549\", \"952\", \"0\", \"626\", \"3064\"], \"x\": [\"Student_18\", \"Student_18\", \"Student_18\", \"Student_18\", \"Student_18\", \"Student_18\"], \"y\": [\"Video1\", \"Video2\", \"Video3\", \"Video4\", \"Video5\", \"Total\"], \"type\": \"scatter\", \"uid\": \"b0dee2cc-e299-11e8-9490-d5f4ba98b039\"}, {\"marker\": {\"line\": {\"width\": 2}, \"size\": [87, 642, 0, 0, 1242, 1971], \"sizemode\": \"area\", \"sizeref\": 4.5, \"symbol\": \"circle\"}, \"mode\": \"markers\", \"name\": \"Student_19\", \"text\": [\"87\", \"642\", \"0\", \"0\", \"1242\", \"1971\"], \"x\": [\"Student_19\", \"Student_19\", \"Student_19\", \"Student_19\", \"Student_19\", \"Student_19\"], \"y\": [\"Video1\", \"Video2\", \"Video3\", \"Video4\", \"Video5\", \"Total\"], \"type\": \"scatter\", \"uid\": \"b0dee344-e299-11e8-9490-d5f4ba98b039\"}, {\"marker\": {\"line\": {\"width\": 2}, \"size\": [712, 337, 351, 125, 795, 2320], \"sizemode\": \"area\", \"sizeref\": 4.5, \"symbol\": \"circle\"}, \"mode\": \"markers\", \"name\": \"Student_20\", \"text\": [\"712\", \"337\", \"351\", \"125\", \"795\", \"2320\"], \"x\": [\"Student_20\", \"Student_20\", \"Student_20\", \"Student_20\", \"Student_20\", \"Student_20\"], \"y\": [\"Video1\", \"Video2\", \"Video3\", \"Video4\", \"Video5\", \"Total\"], \"type\": \"scatter\", \"uid\": \"b0dee3bc-e299-11e8-9490-d5f4ba98b039\"}], {\"hovermode\": \"closest\", \"showlegend\": true, \"title\": \"Tempo de acesso aos v\\u00eddeos por estudante\", \"xaxis\": {\"autorange\": false, \"fixedrange\": false, \"range\": [-1, 20], \"rangemode\": \"normal\", \"showline\": true, \"title\": \"Estudantes\", \"type\": \"category\"}, \"yaxis\": {\"autorange\": false, \"fixedrange\": false, \"range\": [-1, 6], \"rangemode\": \"normal\", \"showline\": true, \"title\": \"Videos\", \"type\": \"category\"}}, {\"showLink\": true, \"linkText\": \"Export to plot.ly\"})});</script>"
      ],
      "text/vnd.plotly.v1+html": [
       "<div id=\"cf563427-0ce9-4fbf-9512-b8df082cfe73\" style=\"height: 525px; width: 100%;\" class=\"plotly-graph-div\"></div><script type=\"text/javascript\">require([\"plotly\"], function(Plotly) { window.PLOTLYENV=window.PLOTLYENV || {};window.PLOTLYENV.BASE_URL=\"https://plot.ly\";Plotly.newPlot(\"cf563427-0ce9-4fbf-9512-b8df082cfe73\", [{\"marker\": {\"line\": {\"width\": 2}, \"size\": [1764, 1204, 823, 901, 0, 4692], \"sizemode\": \"area\", \"sizeref\": 4.5, \"symbol\": \"circle\"}, \"mode\": \"markers\", \"name\": \"Student_1\", \"text\": [\"1764\", \"1204\", \"823\", \"901\", \"0\", \"4692\"], \"x\": [\"Student_1\", \"Student_1\", \"Student_1\", \"Student_1\", \"Student_1\", \"Student_1\"], \"y\": [\"Video1\", \"Video2\", \"Video3\", \"Video4\", \"Video5\", \"Total\"], \"type\": \"scatter\", \"uid\": \"b0ded87c-e299-11e8-9490-d5f4ba98b039\"}, {\"marker\": {\"line\": {\"width\": 2}, \"size\": [0, 0, 384, 680, 246, 1310], \"sizemode\": \"area\", \"sizeref\": 4.5, \"symbol\": \"circle\"}, \"mode\": \"markers\", \"name\": \"Student_2\", \"text\": [\"0\", \"0\", \"384\", \"680\", \"246\", \"1310\"], \"x\": [\"Student_2\", \"Student_2\", \"Student_2\", \"Student_2\", \"Student_2\", \"Student_2\"], \"y\": [\"Video1\", \"Video2\", \"Video3\", \"Video4\", \"Video5\", \"Total\"], \"type\": \"scatter\", \"uid\": \"b0deda20-e299-11e8-9490-d5f4ba98b039\"}, {\"marker\": {\"line\": {\"width\": 2}, \"size\": [687, 397, 0, 997, 424, 2505], \"sizemode\": \"area\", \"sizeref\": 4.5, \"symbol\": \"circle\"}, \"mode\": \"markers\", \"name\": \"Student_3\", \"text\": [\"687\", \"397\", \"0\", \"997\", \"424\", \"2505\"], \"x\": [\"Student_3\", \"Student_3\", \"Student_3\", \"Student_3\", \"Student_3\", \"Student_3\"], \"y\": [\"Video1\", \"Video2\", \"Video3\", \"Video4\", \"Video5\", \"Total\"], \"type\": \"scatter\", \"uid\": \"b0dedaf2-e299-11e8-9490-d5f4ba98b039\"}, {\"marker\": {\"line\": {\"width\": 2}, \"size\": [1008, 830, 185, 207, 0, 2230], \"sizemode\": \"area\", \"sizeref\": 4.5, \"symbol\": \"circle\"}, \"mode\": \"markers\", \"name\": \"Student_4\", \"text\": [\"1008\", \"830\", \"185\", \"207\", \"0\", \"2230\"], \"x\": [\"Student_4\", \"Student_4\", \"Student_4\", \"Student_4\", \"Student_4\", \"Student_4\"], \"y\": [\"Video1\", \"Video2\", \"Video3\", \"Video4\", \"Video5\", \"Total\"], \"type\": \"scatter\", \"uid\": \"b0dedb9c-e299-11e8-9490-d5f4ba98b039\"}, {\"marker\": {\"line\": {\"width\": 2}, \"size\": [638, 167, 736, 651, 231, 2423], \"sizemode\": \"area\", \"sizeref\": 4.5, \"symbol\": \"circle\"}, \"mode\": \"markers\", \"name\": \"Student_5\", \"text\": [\"638\", \"167\", \"736\", \"651\", \"231\", \"2423\"], \"x\": [\"Student_5\", \"Student_5\", \"Student_5\", \"Student_5\", \"Student_5\", \"Student_5\"], \"y\": [\"Video1\", \"Video2\", \"Video3\", \"Video4\", \"Video5\", \"Total\"], \"type\": \"scatter\", \"uid\": \"b0dedc3c-e299-11e8-9490-d5f4ba98b039\"}, {\"marker\": {\"line\": {\"width\": 2}, \"size\": [728, 0, 0, 0, 1396, 2124], \"sizemode\": \"area\", \"sizeref\": 4.5, \"symbol\": \"circle\"}, \"mode\": \"markers\", \"name\": \"Student_6\", \"text\": [\"728\", \"0\", \"0\", \"0\", \"1396\", \"2124\"], \"x\": [\"Student_6\", \"Student_6\", \"Student_6\", \"Student_6\", \"Student_6\", \"Student_6\"], \"y\": [\"Video1\", \"Video2\", \"Video3\", \"Video4\", \"Video5\", \"Total\"], \"type\": \"scatter\", \"uid\": \"b0dedcc8-e299-11e8-9490-d5f4ba98b039\"}, {\"marker\": {\"line\": {\"width\": 2}, \"size\": [312, 727, 202, 270, 806, 2317], \"sizemode\": \"area\", \"sizeref\": 4.5, \"symbol\": \"circle\"}, \"mode\": \"markers\", \"name\": \"Student_7\", \"text\": [\"312\", \"727\", \"202\", \"270\", \"806\", \"2317\"], \"x\": [\"Student_7\", \"Student_7\", \"Student_7\", \"Student_7\", \"Student_7\", \"Student_7\"], \"y\": [\"Video1\", \"Video2\", \"Video3\", \"Video4\", \"Video5\", \"Total\"], \"type\": \"scatter\", \"uid\": \"b0dedd5e-e299-11e8-9490-d5f4ba98b039\"}, {\"marker\": {\"line\": {\"width\": 2}, \"size\": [787, 1155, 0, 726, 0, 2668], \"sizemode\": \"area\", \"sizeref\": 4.5, \"symbol\": \"circle\"}, \"mode\": \"markers\", \"name\": \"Student_8\", \"text\": [\"787\", \"1155\", \"0\", \"726\", \"0\", \"2668\"], \"x\": [\"Student_8\", \"Student_8\", \"Student_8\", \"Student_8\", \"Student_8\", \"Student_8\"], \"y\": [\"Video1\", \"Video2\", \"Video3\", \"Video4\", \"Video5\", \"Total\"], \"type\": \"scatter\", \"uid\": \"b0deddea-e299-11e8-9490-d5f4ba98b039\"}, {\"marker\": {\"line\": {\"width\": 2}, \"size\": [0, 652, 568, 332, 437, 1989], \"sizemode\": \"area\", \"sizeref\": 4.5, \"symbol\": \"circle\"}, \"mode\": \"markers\", \"name\": \"Student_9\", \"text\": [\"0\", \"652\", \"568\", \"332\", \"437\", \"1989\"], \"x\": [\"Student_9\", \"Student_9\", \"Student_9\", \"Student_9\", \"Student_9\", \"Student_9\"], \"y\": [\"Video1\", \"Video2\", \"Video3\", \"Video4\", \"Video5\", \"Total\"], \"type\": \"scatter\", \"uid\": \"b0dede6c-e299-11e8-9490-d5f4ba98b039\"}, {\"marker\": {\"line\": {\"width\": 2}, \"size\": [1080, 857, 483, 801, 0, 3221], \"sizemode\": \"area\", \"sizeref\": 4.5, \"symbol\": \"circle\"}, \"mode\": \"markers\", \"name\": \"Student_10\", \"text\": [\"1080\", \"857\", \"483\", \"801\", \"0\", \"3221\"], \"x\": [\"Student_10\", \"Student_10\", \"Student_10\", \"Student_10\", \"Student_10\", \"Student_10\"], \"y\": [\"Video1\", \"Video2\", \"Video3\", \"Video4\", \"Video5\", \"Total\"], \"type\": \"scatter\", \"uid\": \"b0dedee4-e299-11e8-9490-d5f4ba98b039\"}, {\"marker\": {\"line\": {\"width\": 2}, \"size\": [508, 0, 297, 85, 310, 1200], \"sizemode\": \"area\", \"sizeref\": 4.5, \"symbol\": \"circle\"}, \"mode\": \"markers\", \"name\": \"Student_11\", \"text\": [\"508\", \"0\", \"297\", \"85\", \"310\", \"1200\"], \"x\": [\"Student_11\", \"Student_11\", \"Student_11\", \"Student_11\", \"Student_11\", \"Student_11\"], \"y\": [\"Video1\", \"Video2\", \"Video3\", \"Video4\", \"Video5\", \"Total\"], \"type\": \"scatter\", \"uid\": \"b0dedf66-e299-11e8-9490-d5f4ba98b039\"}, {\"marker\": {\"line\": {\"width\": 2}, \"size\": [933, 323, 0, 26, 641, 1923], \"sizemode\": \"area\", \"sizeref\": 4.5, \"symbol\": \"circle\"}, \"mode\": \"markers\", \"name\": \"Student_12\", \"text\": [\"933\", \"323\", \"0\", \"26\", \"641\", \"1923\"], \"x\": [\"Student_12\", \"Student_12\", \"Student_12\", \"Student_12\", \"Student_12\", \"Student_12\"], \"y\": [\"Video1\", \"Video2\", \"Video3\", \"Video4\", \"Video5\", \"Total\"], \"type\": \"scatter\", \"uid\": \"b0dedfe8-e299-11e8-9490-d5f4ba98b039\"}, {\"marker\": {\"line\": {\"width\": 2}, \"size\": [0, 832, 429, 0, 1112, 2373], \"sizemode\": \"area\", \"sizeref\": 4.5, \"symbol\": \"circle\"}, \"mode\": \"markers\", \"name\": \"Student_13\", \"text\": [\"0\", \"832\", \"429\", \"0\", \"1112\", \"2373\"], \"x\": [\"Student_13\", \"Student_13\", \"Student_13\", \"Student_13\", \"Student_13\", \"Student_13\"], \"y\": [\"Video1\", \"Video2\", \"Video3\", \"Video4\", \"Video5\", \"Total\"], \"type\": \"scatter\", \"uid\": \"b0dee060-e299-11e8-9490-d5f4ba98b039\"}, {\"marker\": {\"line\": {\"width\": 2}, \"size\": [1004, 779, 721, 618, 0, 3122], \"sizemode\": \"area\", \"sizeref\": 4.5, \"symbol\": \"circle\"}, \"mode\": \"markers\", \"name\": \"Student_14\", \"text\": [\"1004\", \"779\", \"721\", \"618\", \"0\", \"3122\"], \"x\": [\"Student_14\", \"Student_14\", \"Student_14\", \"Student_14\", \"Student_14\", \"Student_14\"], \"y\": [\"Video1\", \"Video2\", \"Video3\", \"Video4\", \"Video5\", \"Total\"], \"type\": \"scatter\", \"uid\": \"b0dee0d8-e299-11e8-9490-d5f4ba98b039\"}, {\"marker\": {\"line\": {\"width\": 2}, \"size\": [747, 295, 0, 1162, 814, 3018], \"sizemode\": \"area\", \"sizeref\": 4.5, \"symbol\": \"circle\"}, \"mode\": \"markers\", \"name\": \"Student_15\", \"text\": [\"747\", \"295\", \"0\", \"1162\", \"814\", \"3018\"], \"x\": [\"Student_15\", \"Student_15\", \"Student_15\", \"Student_15\", \"Student_15\", \"Student_15\"], \"y\": [\"Video1\", \"Video2\", \"Video3\", \"Video4\", \"Video5\", \"Total\"], \"type\": \"scatter\", \"uid\": \"b0dee15a-e299-11e8-9490-d5f4ba98b039\"}, {\"marker\": {\"line\": {\"width\": 2}, \"size\": [254, 791, 0, 446, 722, 2213], \"sizemode\": \"area\", \"sizeref\": 4.5, \"symbol\": \"circle\"}, \"mode\": \"markers\", \"name\": \"Student_16\", \"text\": [\"254\", \"791\", \"0\", \"446\", \"722\", \"2213\"], \"x\": [\"Student_16\", \"Student_16\", \"Student_16\", \"Student_16\", \"Student_16\", \"Student_16\"], \"y\": [\"Video1\", \"Video2\", \"Video3\", \"Video4\", \"Video5\", \"Total\"], \"type\": \"scatter\", \"uid\": \"b0dee1d2-e299-11e8-9490-d5f4ba98b039\"}, {\"marker\": {\"line\": {\"width\": 2}, \"size\": [842, 0, 1086, 69, 317, 2314], \"sizemode\": \"area\", \"sizeref\": 4.5, \"symbol\": \"circle\"}, \"mode\": \"markers\", \"name\": \"Student_17\", \"text\": [\"842\", \"0\", \"1086\", \"69\", \"317\", \"2314\"], \"x\": [\"Student_17\", \"Student_17\", \"Student_17\", \"Student_17\", \"Student_17\", \"Student_17\"], \"y\": [\"Video1\", \"Video2\", \"Video3\", \"Video4\", \"Video5\", \"Total\"], \"type\": \"scatter\", \"uid\": \"b0dee24a-e299-11e8-9490-d5f4ba98b039\"}, {\"marker\": {\"line\": {\"width\": 2}, \"size\": [937, 549, 952, 0, 626, 3064], \"sizemode\": \"area\", \"sizeref\": 4.5, \"symbol\": \"circle\"}, \"mode\": \"markers\", \"name\": \"Student_18\", \"text\": [\"937\", \"549\", \"952\", \"0\", \"626\", \"3064\"], \"x\": [\"Student_18\", \"Student_18\", \"Student_18\", \"Student_18\", \"Student_18\", \"Student_18\"], \"y\": [\"Video1\", \"Video2\", \"Video3\", \"Video4\", \"Video5\", \"Total\"], \"type\": \"scatter\", \"uid\": \"b0dee2cc-e299-11e8-9490-d5f4ba98b039\"}, {\"marker\": {\"line\": {\"width\": 2}, \"size\": [87, 642, 0, 0, 1242, 1971], \"sizemode\": \"area\", \"sizeref\": 4.5, \"symbol\": \"circle\"}, \"mode\": \"markers\", \"name\": \"Student_19\", \"text\": [\"87\", \"642\", \"0\", \"0\", \"1242\", \"1971\"], \"x\": [\"Student_19\", \"Student_19\", \"Student_19\", \"Student_19\", \"Student_19\", \"Student_19\"], \"y\": [\"Video1\", \"Video2\", \"Video3\", \"Video4\", \"Video5\", \"Total\"], \"type\": \"scatter\", \"uid\": \"b0dee344-e299-11e8-9490-d5f4ba98b039\"}, {\"marker\": {\"line\": {\"width\": 2}, \"size\": [712, 337, 351, 125, 795, 2320], \"sizemode\": \"area\", \"sizeref\": 4.5, \"symbol\": \"circle\"}, \"mode\": \"markers\", \"name\": \"Student_20\", \"text\": [\"712\", \"337\", \"351\", \"125\", \"795\", \"2320\"], \"x\": [\"Student_20\", \"Student_20\", \"Student_20\", \"Student_20\", \"Student_20\", \"Student_20\"], \"y\": [\"Video1\", \"Video2\", \"Video3\", \"Video4\", \"Video5\", \"Total\"], \"type\": \"scatter\", \"uid\": \"b0dee3bc-e299-11e8-9490-d5f4ba98b039\"}], {\"hovermode\": \"closest\", \"showlegend\": true, \"title\": \"Tempo de acesso aos v\\u00eddeos por estudante\", \"xaxis\": {\"autorange\": false, \"fixedrange\": false, \"range\": [-1, 20], \"rangemode\": \"normal\", \"showline\": true, \"title\": \"Estudantes\", \"type\": \"category\"}, \"yaxis\": {\"autorange\": false, \"fixedrange\": false, \"range\": [-1, 6], \"rangemode\": \"normal\", \"showline\": true, \"title\": \"Videos\", \"type\": \"category\"}}, {\"showLink\": true, \"linkText\": \"Export to plot.ly\"})});</script>"
      ]
     },
     "metadata": {},
     "output_type": "display_data"
    },
    {
     "data": {
      "application/vnd.plotly.v1+json": {
       "data": [
        {
         "name": "Video1",
         "type": "bar",
         "uid": "b0f0c08c-e299-11e8-9490-d5f4ba98b039",
         "x": [
          "Student_1",
          "Student_2",
          "Student_3",
          "Student_4",
          "Student_5",
          "Student_6",
          "Student_7",
          "Student_8",
          "Student_9",
          "Student_10",
          "Student_11",
          "Student_12",
          "Student_13",
          "Student_14",
          "Student_15",
          "Student_16",
          "Student_17",
          "Student_18",
          "Student_19",
          "Student_20"
         ],
         "y": [
          1764,
          0,
          687,
          1008,
          638,
          728,
          312,
          787,
          0,
          1080,
          508,
          933,
          0,
          1004,
          747,
          254,
          842,
          937,
          87,
          712
         ]
        },
        {
         "name": "Video2",
         "type": "bar",
         "uid": "b0f0c24e-e299-11e8-9490-d5f4ba98b039",
         "x": [
          "Student_1",
          "Student_2",
          "Student_3",
          "Student_4",
          "Student_5",
          "Student_6",
          "Student_7",
          "Student_8",
          "Student_9",
          "Student_10",
          "Student_11",
          "Student_12",
          "Student_13",
          "Student_14",
          "Student_15",
          "Student_16",
          "Student_17",
          "Student_18",
          "Student_19",
          "Student_20"
         ],
         "y": [
          1204,
          0,
          397,
          830,
          167,
          0,
          727,
          1155,
          652,
          857,
          0,
          323,
          832,
          779,
          295,
          791,
          0,
          549,
          642,
          337
         ]
        },
        {
         "name": "Video3",
         "type": "bar",
         "uid": "b0f0c32a-e299-11e8-9490-d5f4ba98b039",
         "x": [
          "Student_1",
          "Student_2",
          "Student_3",
          "Student_4",
          "Student_5",
          "Student_6",
          "Student_7",
          "Student_8",
          "Student_9",
          "Student_10",
          "Student_11",
          "Student_12",
          "Student_13",
          "Student_14",
          "Student_15",
          "Student_16",
          "Student_17",
          "Student_18",
          "Student_19",
          "Student_20"
         ],
         "y": [
          823,
          384,
          0,
          185,
          736,
          0,
          202,
          0,
          568,
          483,
          297,
          0,
          429,
          721,
          0,
          0,
          1086,
          952,
          0,
          351
         ]
        },
        {
         "name": "Video4",
         "type": "bar",
         "uid": "b0f0c3d4-e299-11e8-9490-d5f4ba98b039",
         "x": [
          "Student_1",
          "Student_2",
          "Student_3",
          "Student_4",
          "Student_5",
          "Student_6",
          "Student_7",
          "Student_8",
          "Student_9",
          "Student_10",
          "Student_11",
          "Student_12",
          "Student_13",
          "Student_14",
          "Student_15",
          "Student_16",
          "Student_17",
          "Student_18",
          "Student_19",
          "Student_20"
         ],
         "y": [
          901,
          680,
          997,
          207,
          651,
          0,
          270,
          726,
          332,
          801,
          85,
          26,
          0,
          618,
          1162,
          446,
          69,
          0,
          0,
          125
         ]
        },
        {
         "name": "Video5",
         "type": "bar",
         "uid": "b0f0c47e-e299-11e8-9490-d5f4ba98b039",
         "x": [
          "Student_1",
          "Student_2",
          "Student_3",
          "Student_4",
          "Student_5",
          "Student_6",
          "Student_7",
          "Student_8",
          "Student_9",
          "Student_10",
          "Student_11",
          "Student_12",
          "Student_13",
          "Student_14",
          "Student_15",
          "Student_16",
          "Student_17",
          "Student_18",
          "Student_19",
          "Student_20"
         ],
         "y": [
          0,
          246,
          424,
          0,
          231,
          1396,
          806,
          0,
          437,
          0,
          310,
          641,
          1112,
          0,
          814,
          722,
          317,
          626,
          1242,
          795
         ]
        }
       ],
       "layout": {
        "title": "Número de acessos aos vídeos agrupados por estudante",
        "yaxis": {
         "dtick": 100,
         "exponentformat": "e",
         "gridcolor": "#bdbdbd",
         "showexponent": "all",
         "showticklabels": true,
         "tick0": 0,
         "titlefont": {
          "color": "lightgrey",
          "family": "Arial, sans-serif"
         }
        }
       }
      },
      "text/html": [
       "<div id=\"e484c059-1f39-4331-a11b-ace7bb15f716\" style=\"height: 525px; width: 100%;\" class=\"plotly-graph-div\"></div><script type=\"text/javascript\">require([\"plotly\"], function(Plotly) { window.PLOTLYENV=window.PLOTLYENV || {};window.PLOTLYENV.BASE_URL=\"https://plot.ly\";Plotly.newPlot(\"e484c059-1f39-4331-a11b-ace7bb15f716\", [{\"name\": \"Video1\", \"x\": [\"Student_1\", \"Student_2\", \"Student_3\", \"Student_4\", \"Student_5\", \"Student_6\", \"Student_7\", \"Student_8\", \"Student_9\", \"Student_10\", \"Student_11\", \"Student_12\", \"Student_13\", \"Student_14\", \"Student_15\", \"Student_16\", \"Student_17\", \"Student_18\", \"Student_19\", \"Student_20\"], \"y\": [1764, 0, 687, 1008, 638, 728, 312, 787, 0, 1080, 508, 933, 0, 1004, 747, 254, 842, 937, 87, 712], \"type\": \"bar\", \"uid\": \"b0f0c08c-e299-11e8-9490-d5f4ba98b039\"}, {\"name\": \"Video2\", \"x\": [\"Student_1\", \"Student_2\", \"Student_3\", \"Student_4\", \"Student_5\", \"Student_6\", \"Student_7\", \"Student_8\", \"Student_9\", \"Student_10\", \"Student_11\", \"Student_12\", \"Student_13\", \"Student_14\", \"Student_15\", \"Student_16\", \"Student_17\", \"Student_18\", \"Student_19\", \"Student_20\"], \"y\": [1204, 0, 397, 830, 167, 0, 727, 1155, 652, 857, 0, 323, 832, 779, 295, 791, 0, 549, 642, 337], \"type\": \"bar\", \"uid\": \"b0f0c24e-e299-11e8-9490-d5f4ba98b039\"}, {\"name\": \"Video3\", \"x\": [\"Student_1\", \"Student_2\", \"Student_3\", \"Student_4\", \"Student_5\", \"Student_6\", \"Student_7\", \"Student_8\", \"Student_9\", \"Student_10\", \"Student_11\", \"Student_12\", \"Student_13\", \"Student_14\", \"Student_15\", \"Student_16\", \"Student_17\", \"Student_18\", \"Student_19\", \"Student_20\"], \"y\": [823, 384, 0, 185, 736, 0, 202, 0, 568, 483, 297, 0, 429, 721, 0, 0, 1086, 952, 0, 351], \"type\": \"bar\", \"uid\": \"b0f0c32a-e299-11e8-9490-d5f4ba98b039\"}, {\"name\": \"Video4\", \"x\": [\"Student_1\", \"Student_2\", \"Student_3\", \"Student_4\", \"Student_5\", \"Student_6\", \"Student_7\", \"Student_8\", \"Student_9\", \"Student_10\", \"Student_11\", \"Student_12\", \"Student_13\", \"Student_14\", \"Student_15\", \"Student_16\", \"Student_17\", \"Student_18\", \"Student_19\", \"Student_20\"], \"y\": [901, 680, 997, 207, 651, 0, 270, 726, 332, 801, 85, 26, 0, 618, 1162, 446, 69, 0, 0, 125], \"type\": \"bar\", \"uid\": \"b0f0c3d4-e299-11e8-9490-d5f4ba98b039\"}, {\"name\": \"Video5\", \"x\": [\"Student_1\", \"Student_2\", \"Student_3\", \"Student_4\", \"Student_5\", \"Student_6\", \"Student_7\", \"Student_8\", \"Student_9\", \"Student_10\", \"Student_11\", \"Student_12\", \"Student_13\", \"Student_14\", \"Student_15\", \"Student_16\", \"Student_17\", \"Student_18\", \"Student_19\", \"Student_20\"], \"y\": [0, 246, 424, 0, 231, 1396, 806, 0, 437, 0, 310, 641, 1112, 0, 814, 722, 317, 626, 1242, 795], \"type\": \"bar\", \"uid\": \"b0f0c47e-e299-11e8-9490-d5f4ba98b039\"}], {\"title\": \"N\\u00famero de acessos aos v\\u00eddeos agrupados por estudante\", \"yaxis\": {\"dtick\": 100, \"exponentformat\": \"e\", \"gridcolor\": \"#bdbdbd\", \"showexponent\": \"all\", \"showticklabels\": true, \"tick0\": 0, \"titlefont\": {\"color\": \"lightgrey\", \"family\": \"Arial, sans-serif\"}}}, {\"showLink\": true, \"linkText\": \"Export to plot.ly\"})});</script>"
      ],
      "text/vnd.plotly.v1+html": [
       "<div id=\"e484c059-1f39-4331-a11b-ace7bb15f716\" style=\"height: 525px; width: 100%;\" class=\"plotly-graph-div\"></div><script type=\"text/javascript\">require([\"plotly\"], function(Plotly) { window.PLOTLYENV=window.PLOTLYENV || {};window.PLOTLYENV.BASE_URL=\"https://plot.ly\";Plotly.newPlot(\"e484c059-1f39-4331-a11b-ace7bb15f716\", [{\"name\": \"Video1\", \"x\": [\"Student_1\", \"Student_2\", \"Student_3\", \"Student_4\", \"Student_5\", \"Student_6\", \"Student_7\", \"Student_8\", \"Student_9\", \"Student_10\", \"Student_11\", \"Student_12\", \"Student_13\", \"Student_14\", \"Student_15\", \"Student_16\", \"Student_17\", \"Student_18\", \"Student_19\", \"Student_20\"], \"y\": [1764, 0, 687, 1008, 638, 728, 312, 787, 0, 1080, 508, 933, 0, 1004, 747, 254, 842, 937, 87, 712], \"type\": \"bar\", \"uid\": \"b0f0c08c-e299-11e8-9490-d5f4ba98b039\"}, {\"name\": \"Video2\", \"x\": [\"Student_1\", \"Student_2\", \"Student_3\", \"Student_4\", \"Student_5\", \"Student_6\", \"Student_7\", \"Student_8\", \"Student_9\", \"Student_10\", \"Student_11\", \"Student_12\", \"Student_13\", \"Student_14\", \"Student_15\", \"Student_16\", \"Student_17\", \"Student_18\", \"Student_19\", \"Student_20\"], \"y\": [1204, 0, 397, 830, 167, 0, 727, 1155, 652, 857, 0, 323, 832, 779, 295, 791, 0, 549, 642, 337], \"type\": \"bar\", \"uid\": \"b0f0c24e-e299-11e8-9490-d5f4ba98b039\"}, {\"name\": \"Video3\", \"x\": [\"Student_1\", \"Student_2\", \"Student_3\", \"Student_4\", \"Student_5\", \"Student_6\", \"Student_7\", \"Student_8\", \"Student_9\", \"Student_10\", \"Student_11\", \"Student_12\", \"Student_13\", \"Student_14\", \"Student_15\", \"Student_16\", \"Student_17\", \"Student_18\", \"Student_19\", \"Student_20\"], \"y\": [823, 384, 0, 185, 736, 0, 202, 0, 568, 483, 297, 0, 429, 721, 0, 0, 1086, 952, 0, 351], \"type\": \"bar\", \"uid\": \"b0f0c32a-e299-11e8-9490-d5f4ba98b039\"}, {\"name\": \"Video4\", \"x\": [\"Student_1\", \"Student_2\", \"Student_3\", \"Student_4\", \"Student_5\", \"Student_6\", \"Student_7\", \"Student_8\", \"Student_9\", \"Student_10\", \"Student_11\", \"Student_12\", \"Student_13\", \"Student_14\", \"Student_15\", \"Student_16\", \"Student_17\", \"Student_18\", \"Student_19\", \"Student_20\"], \"y\": [901, 680, 997, 207, 651, 0, 270, 726, 332, 801, 85, 26, 0, 618, 1162, 446, 69, 0, 0, 125], \"type\": \"bar\", \"uid\": \"b0f0c3d4-e299-11e8-9490-d5f4ba98b039\"}, {\"name\": \"Video5\", \"x\": [\"Student_1\", \"Student_2\", \"Student_3\", \"Student_4\", \"Student_5\", \"Student_6\", \"Student_7\", \"Student_8\", \"Student_9\", \"Student_10\", \"Student_11\", \"Student_12\", \"Student_13\", \"Student_14\", \"Student_15\", \"Student_16\", \"Student_17\", \"Student_18\", \"Student_19\", \"Student_20\"], \"y\": [0, 246, 424, 0, 231, 1396, 806, 0, 437, 0, 310, 641, 1112, 0, 814, 722, 317, 626, 1242, 795], \"type\": \"bar\", \"uid\": \"b0f0c47e-e299-11e8-9490-d5f4ba98b039\"}], {\"title\": \"N\\u00famero de acessos aos v\\u00eddeos agrupados por estudante\", \"yaxis\": {\"dtick\": 100, \"exponentformat\": \"e\", \"gridcolor\": \"#bdbdbd\", \"showexponent\": \"all\", \"showticklabels\": true, \"tick0\": 0, \"titlefont\": {\"color\": \"lightgrey\", \"family\": \"Arial, sans-serif\"}}}, {\"showLink\": true, \"linkText\": \"Export to plot.ly\"})});</script>"
      ]
     },
     "metadata": {},
     "output_type": "display_data"
    },
    {
     "data": {
      "application/vnd.plotly.v1+json": {
       "data": [
        {
         "name": "Video1",
         "type": "bar",
         "uid": "b0f8a32e-e299-11e8-9490-d5f4ba98b039",
         "x": [
          "Student_1",
          "Student_2",
          "Student_3",
          "Student_4",
          "Student_5",
          "Student_6",
          "Student_7",
          "Student_8",
          "Student_9",
          "Student_10",
          "Student_11",
          "Student_12",
          "Student_13",
          "Student_14",
          "Student_15",
          "Student_16",
          "Student_17",
          "Student_18",
          "Student_19",
          "Student_20"
         ],
         "y": [
          1764,
          0,
          687,
          1008,
          638,
          728,
          312,
          787,
          0,
          1080,
          508,
          933,
          0,
          1004,
          747,
          254,
          842,
          937,
          87,
          712
         ]
        },
        {
         "name": "Video2",
         "type": "bar",
         "uid": "b0f8a504-e299-11e8-9490-d5f4ba98b039",
         "x": [
          "Student_1",
          "Student_2",
          "Student_3",
          "Student_4",
          "Student_5",
          "Student_6",
          "Student_7",
          "Student_8",
          "Student_9",
          "Student_10",
          "Student_11",
          "Student_12",
          "Student_13",
          "Student_14",
          "Student_15",
          "Student_16",
          "Student_17",
          "Student_18",
          "Student_19",
          "Student_20"
         ],
         "y": [
          1204,
          0,
          397,
          830,
          167,
          0,
          727,
          1155,
          652,
          857,
          0,
          323,
          832,
          779,
          295,
          791,
          0,
          549,
          642,
          337
         ]
        },
        {
         "name": "Video3",
         "type": "bar",
         "uid": "b0f8a5f4-e299-11e8-9490-d5f4ba98b039",
         "x": [
          "Student_1",
          "Student_2",
          "Student_3",
          "Student_4",
          "Student_5",
          "Student_6",
          "Student_7",
          "Student_8",
          "Student_9",
          "Student_10",
          "Student_11",
          "Student_12",
          "Student_13",
          "Student_14",
          "Student_15",
          "Student_16",
          "Student_17",
          "Student_18",
          "Student_19",
          "Student_20"
         ],
         "y": [
          823,
          384,
          0,
          185,
          736,
          0,
          202,
          0,
          568,
          483,
          297,
          0,
          429,
          721,
          0,
          0,
          1086,
          952,
          0,
          351
         ]
        },
        {
         "name": "Video4",
         "type": "bar",
         "uid": "b0f8a6d0-e299-11e8-9490-d5f4ba98b039",
         "x": [
          "Student_1",
          "Student_2",
          "Student_3",
          "Student_4",
          "Student_5",
          "Student_6",
          "Student_7",
          "Student_8",
          "Student_9",
          "Student_10",
          "Student_11",
          "Student_12",
          "Student_13",
          "Student_14",
          "Student_15",
          "Student_16",
          "Student_17",
          "Student_18",
          "Student_19",
          "Student_20"
         ],
         "y": [
          901,
          680,
          997,
          207,
          651,
          0,
          270,
          726,
          332,
          801,
          85,
          26,
          0,
          618,
          1162,
          446,
          69,
          0,
          0,
          125
         ]
        },
        {
         "name": "Video5",
         "type": "bar",
         "uid": "b0f8a798-e299-11e8-9490-d5f4ba98b039",
         "x": [
          "Student_1",
          "Student_2",
          "Student_3",
          "Student_4",
          "Student_5",
          "Student_6",
          "Student_7",
          "Student_8",
          "Student_9",
          "Student_10",
          "Student_11",
          "Student_12",
          "Student_13",
          "Student_14",
          "Student_15",
          "Student_16",
          "Student_17",
          "Student_18",
          "Student_19",
          "Student_20"
         ],
         "y": [
          0,
          246,
          424,
          0,
          231,
          1396,
          806,
          0,
          437,
          0,
          310,
          641,
          1112,
          0,
          814,
          722,
          317,
          626,
          1242,
          795
         ]
        }
       ],
       "layout": {
        "barmode": "stack",
        "title": "Número de acessos aos vídeos agrupados por estudante",
        "yaxis": {
         "dtick": 300,
         "exponentformat": "e",
         "gridcolor": "#bdbdbd",
         "showexponent": "all",
         "showticklabels": true,
         "tick0": 0,
         "titlefont": {
          "color": "lightgrey",
          "family": "Arial, sans-serif"
         }
        }
       }
      },
      "text/html": [
       "<div id=\"43b74146-faa7-456e-a2ef-ba8b53696815\" style=\"height: 525px; width: 100%;\" class=\"plotly-graph-div\"></div><script type=\"text/javascript\">require([\"plotly\"], function(Plotly) { window.PLOTLYENV=window.PLOTLYENV || {};window.PLOTLYENV.BASE_URL=\"https://plot.ly\";Plotly.newPlot(\"43b74146-faa7-456e-a2ef-ba8b53696815\", [{\"name\": \"Video1\", \"x\": [\"Student_1\", \"Student_2\", \"Student_3\", \"Student_4\", \"Student_5\", \"Student_6\", \"Student_7\", \"Student_8\", \"Student_9\", \"Student_10\", \"Student_11\", \"Student_12\", \"Student_13\", \"Student_14\", \"Student_15\", \"Student_16\", \"Student_17\", \"Student_18\", \"Student_19\", \"Student_20\"], \"y\": [1764, 0, 687, 1008, 638, 728, 312, 787, 0, 1080, 508, 933, 0, 1004, 747, 254, 842, 937, 87, 712], \"type\": \"bar\", \"uid\": \"b0f8a32e-e299-11e8-9490-d5f4ba98b039\"}, {\"name\": \"Video2\", \"x\": [\"Student_1\", \"Student_2\", \"Student_3\", \"Student_4\", \"Student_5\", \"Student_6\", \"Student_7\", \"Student_8\", \"Student_9\", \"Student_10\", \"Student_11\", \"Student_12\", \"Student_13\", \"Student_14\", \"Student_15\", \"Student_16\", \"Student_17\", \"Student_18\", \"Student_19\", \"Student_20\"], \"y\": [1204, 0, 397, 830, 167, 0, 727, 1155, 652, 857, 0, 323, 832, 779, 295, 791, 0, 549, 642, 337], \"type\": \"bar\", \"uid\": \"b0f8a504-e299-11e8-9490-d5f4ba98b039\"}, {\"name\": \"Video3\", \"x\": [\"Student_1\", \"Student_2\", \"Student_3\", \"Student_4\", \"Student_5\", \"Student_6\", \"Student_7\", \"Student_8\", \"Student_9\", \"Student_10\", \"Student_11\", \"Student_12\", \"Student_13\", \"Student_14\", \"Student_15\", \"Student_16\", \"Student_17\", \"Student_18\", \"Student_19\", \"Student_20\"], \"y\": [823, 384, 0, 185, 736, 0, 202, 0, 568, 483, 297, 0, 429, 721, 0, 0, 1086, 952, 0, 351], \"type\": \"bar\", \"uid\": \"b0f8a5f4-e299-11e8-9490-d5f4ba98b039\"}, {\"name\": \"Video4\", \"x\": [\"Student_1\", \"Student_2\", \"Student_3\", \"Student_4\", \"Student_5\", \"Student_6\", \"Student_7\", \"Student_8\", \"Student_9\", \"Student_10\", \"Student_11\", \"Student_12\", \"Student_13\", \"Student_14\", \"Student_15\", \"Student_16\", \"Student_17\", \"Student_18\", \"Student_19\", \"Student_20\"], \"y\": [901, 680, 997, 207, 651, 0, 270, 726, 332, 801, 85, 26, 0, 618, 1162, 446, 69, 0, 0, 125], \"type\": \"bar\", \"uid\": \"b0f8a6d0-e299-11e8-9490-d5f4ba98b039\"}, {\"name\": \"Video5\", \"x\": [\"Student_1\", \"Student_2\", \"Student_3\", \"Student_4\", \"Student_5\", \"Student_6\", \"Student_7\", \"Student_8\", \"Student_9\", \"Student_10\", \"Student_11\", \"Student_12\", \"Student_13\", \"Student_14\", \"Student_15\", \"Student_16\", \"Student_17\", \"Student_18\", \"Student_19\", \"Student_20\"], \"y\": [0, 246, 424, 0, 231, 1396, 806, 0, 437, 0, 310, 641, 1112, 0, 814, 722, 317, 626, 1242, 795], \"type\": \"bar\", \"uid\": \"b0f8a798-e299-11e8-9490-d5f4ba98b039\"}], {\"barmode\": \"stack\", \"title\": \"N\\u00famero de acessos aos v\\u00eddeos agrupados por estudante\", \"yaxis\": {\"dtick\": 300, \"exponentformat\": \"e\", \"gridcolor\": \"#bdbdbd\", \"showexponent\": \"all\", \"showticklabels\": true, \"tick0\": 0, \"titlefont\": {\"color\": \"lightgrey\", \"family\": \"Arial, sans-serif\"}}}, {\"showLink\": true, \"linkText\": \"Export to plot.ly\"})});</script>"
      ],
      "text/vnd.plotly.v1+html": [
       "<div id=\"43b74146-faa7-456e-a2ef-ba8b53696815\" style=\"height: 525px; width: 100%;\" class=\"plotly-graph-div\"></div><script type=\"text/javascript\">require([\"plotly\"], function(Plotly) { window.PLOTLYENV=window.PLOTLYENV || {};window.PLOTLYENV.BASE_URL=\"https://plot.ly\";Plotly.newPlot(\"43b74146-faa7-456e-a2ef-ba8b53696815\", [{\"name\": \"Video1\", \"x\": [\"Student_1\", \"Student_2\", \"Student_3\", \"Student_4\", \"Student_5\", \"Student_6\", \"Student_7\", \"Student_8\", \"Student_9\", \"Student_10\", \"Student_11\", \"Student_12\", \"Student_13\", \"Student_14\", \"Student_15\", \"Student_16\", \"Student_17\", \"Student_18\", \"Student_19\", \"Student_20\"], \"y\": [1764, 0, 687, 1008, 638, 728, 312, 787, 0, 1080, 508, 933, 0, 1004, 747, 254, 842, 937, 87, 712], \"type\": \"bar\", \"uid\": \"b0f8a32e-e299-11e8-9490-d5f4ba98b039\"}, {\"name\": \"Video2\", \"x\": [\"Student_1\", \"Student_2\", \"Student_3\", \"Student_4\", \"Student_5\", \"Student_6\", \"Student_7\", \"Student_8\", \"Student_9\", \"Student_10\", \"Student_11\", \"Student_12\", \"Student_13\", \"Student_14\", \"Student_15\", \"Student_16\", \"Student_17\", \"Student_18\", \"Student_19\", \"Student_20\"], \"y\": [1204, 0, 397, 830, 167, 0, 727, 1155, 652, 857, 0, 323, 832, 779, 295, 791, 0, 549, 642, 337], \"type\": \"bar\", \"uid\": \"b0f8a504-e299-11e8-9490-d5f4ba98b039\"}, {\"name\": \"Video3\", \"x\": [\"Student_1\", \"Student_2\", \"Student_3\", \"Student_4\", \"Student_5\", \"Student_6\", \"Student_7\", \"Student_8\", \"Student_9\", \"Student_10\", \"Student_11\", \"Student_12\", \"Student_13\", \"Student_14\", \"Student_15\", \"Student_16\", \"Student_17\", \"Student_18\", \"Student_19\", \"Student_20\"], \"y\": [823, 384, 0, 185, 736, 0, 202, 0, 568, 483, 297, 0, 429, 721, 0, 0, 1086, 952, 0, 351], \"type\": \"bar\", \"uid\": \"b0f8a5f4-e299-11e8-9490-d5f4ba98b039\"}, {\"name\": \"Video4\", \"x\": [\"Student_1\", \"Student_2\", \"Student_3\", \"Student_4\", \"Student_5\", \"Student_6\", \"Student_7\", \"Student_8\", \"Student_9\", \"Student_10\", \"Student_11\", \"Student_12\", \"Student_13\", \"Student_14\", \"Student_15\", \"Student_16\", \"Student_17\", \"Student_18\", \"Student_19\", \"Student_20\"], \"y\": [901, 680, 997, 207, 651, 0, 270, 726, 332, 801, 85, 26, 0, 618, 1162, 446, 69, 0, 0, 125], \"type\": \"bar\", \"uid\": \"b0f8a6d0-e299-11e8-9490-d5f4ba98b039\"}, {\"name\": \"Video5\", \"x\": [\"Student_1\", \"Student_2\", \"Student_3\", \"Student_4\", \"Student_5\", \"Student_6\", \"Student_7\", \"Student_8\", \"Student_9\", \"Student_10\", \"Student_11\", \"Student_12\", \"Student_13\", \"Student_14\", \"Student_15\", \"Student_16\", \"Student_17\", \"Student_18\", \"Student_19\", \"Student_20\"], \"y\": [0, 246, 424, 0, 231, 1396, 806, 0, 437, 0, 310, 641, 1112, 0, 814, 722, 317, 626, 1242, 795], \"type\": \"bar\", \"uid\": \"b0f8a798-e299-11e8-9490-d5f4ba98b039\"}], {\"barmode\": \"stack\", \"title\": \"N\\u00famero de acessos aos v\\u00eddeos agrupados por estudante\", \"yaxis\": {\"dtick\": 300, \"exponentformat\": \"e\", \"gridcolor\": \"#bdbdbd\", \"showexponent\": \"all\", \"showticklabels\": true, \"tick0\": 0, \"titlefont\": {\"color\": \"lightgrey\", \"family\": \"Arial, sans-serif\"}}}, {\"showLink\": true, \"linkText\": \"Export to plot.ly\"})});</script>"
      ]
     },
     "metadata": {},
     "output_type": "display_data"
    },
    {
     "data": {
      "application/vnd.plotly.v1+json": {
       "data": [
        {
         "name": "Video1",
         "orientation": "h",
         "type": "bar",
         "uid": "b0ffc08c-e299-11e8-9490-d5f4ba98b039",
         "x": [
          1764,
          0,
          687,
          1008,
          638,
          728,
          312,
          787,
          0,
          1080,
          508,
          933,
          0,
          1004,
          747,
          254,
          842,
          937,
          87,
          712
         ],
         "y": [
          "Student_1",
          "Student_2",
          "Student_3",
          "Student_4",
          "Student_5",
          "Student_6",
          "Student_7",
          "Student_8",
          "Student_9",
          "Student_10",
          "Student_11",
          "Student_12",
          "Student_13",
          "Student_14",
          "Student_15",
          "Student_16",
          "Student_17",
          "Student_18",
          "Student_19",
          "Student_20"
         ]
        },
        {
         "name": "Video2",
         "orientation": "h",
         "type": "bar",
         "uid": "b0ffc230-e299-11e8-9490-d5f4ba98b039",
         "x": [
          1204,
          0,
          397,
          830,
          167,
          0,
          727,
          1155,
          652,
          857,
          0,
          323,
          832,
          779,
          295,
          791,
          0,
          549,
          642,
          337
         ],
         "y": [
          "Student_1",
          "Student_2",
          "Student_3",
          "Student_4",
          "Student_5",
          "Student_6",
          "Student_7",
          "Student_8",
          "Student_9",
          "Student_10",
          "Student_11",
          "Student_12",
          "Student_13",
          "Student_14",
          "Student_15",
          "Student_16",
          "Student_17",
          "Student_18",
          "Student_19",
          "Student_20"
         ]
        },
        {
         "name": "Video3",
         "orientation": "h",
         "type": "bar",
         "uid": "b0ffc30c-e299-11e8-9490-d5f4ba98b039",
         "x": [
          823,
          384,
          0,
          185,
          736,
          0,
          202,
          0,
          568,
          483,
          297,
          0,
          429,
          721,
          0,
          0,
          1086,
          952,
          0,
          351
         ],
         "y": [
          "Student_1",
          "Student_2",
          "Student_3",
          "Student_4",
          "Student_5",
          "Student_6",
          "Student_7",
          "Student_8",
          "Student_9",
          "Student_10",
          "Student_11",
          "Student_12",
          "Student_13",
          "Student_14",
          "Student_15",
          "Student_16",
          "Student_17",
          "Student_18",
          "Student_19",
          "Student_20"
         ]
        },
        {
         "name": "Video4",
         "orientation": "h",
         "type": "bar",
         "uid": "b0ffc3c0-e299-11e8-9490-d5f4ba98b039",
         "x": [
          901,
          680,
          997,
          207,
          651,
          0,
          270,
          726,
          332,
          801,
          85,
          26,
          0,
          618,
          1162,
          446,
          69,
          0,
          0,
          125
         ],
         "y": [
          "Student_1",
          "Student_2",
          "Student_3",
          "Student_4",
          "Student_5",
          "Student_6",
          "Student_7",
          "Student_8",
          "Student_9",
          "Student_10",
          "Student_11",
          "Student_12",
          "Student_13",
          "Student_14",
          "Student_15",
          "Student_16",
          "Student_17",
          "Student_18",
          "Student_19",
          "Student_20"
         ]
        },
        {
         "name": "Video5",
         "orientation": "h",
         "type": "bar",
         "uid": "b0ffc460-e299-11e8-9490-d5f4ba98b039",
         "x": [
          0,
          246,
          424,
          0,
          231,
          1396,
          806,
          0,
          437,
          0,
          310,
          641,
          1112,
          0,
          814,
          722,
          317,
          626,
          1242,
          795
         ],
         "y": [
          "Student_1",
          "Student_2",
          "Student_3",
          "Student_4",
          "Student_5",
          "Student_6",
          "Student_7",
          "Student_8",
          "Student_9",
          "Student_10",
          "Student_11",
          "Student_12",
          "Student_13",
          "Student_14",
          "Student_15",
          "Student_16",
          "Student_17",
          "Student_18",
          "Student_19",
          "Student_20"
         ]
        }
       ],
       "layout": {
        "barmode": "stack",
        "title": "Número de acessos aos vídeos agrupados por estudante",
        "yaxis": {
         "dtick": 1,
         "exponentformat": "e",
         "gridcolor": "#bdbdbd",
         "showexponent": "all",
         "showticklabels": true,
         "tick0": 0,
         "titlefont": {
          "color": "lightgrey",
          "family": "Arial, sans-serif"
         }
        }
       }
      },
      "text/html": [
       "<div id=\"691237d3-44f8-406c-85cf-d904f801f1f2\" style=\"height: 525px; width: 100%;\" class=\"plotly-graph-div\"></div><script type=\"text/javascript\">require([\"plotly\"], function(Plotly) { window.PLOTLYENV=window.PLOTLYENV || {};window.PLOTLYENV.BASE_URL=\"https://plot.ly\";Plotly.newPlot(\"691237d3-44f8-406c-85cf-d904f801f1f2\", [{\"name\": \"Video1\", \"orientation\": \"h\", \"x\": [1764, 0, 687, 1008, 638, 728, 312, 787, 0, 1080, 508, 933, 0, 1004, 747, 254, 842, 937, 87, 712], \"y\": [\"Student_1\", \"Student_2\", \"Student_3\", \"Student_4\", \"Student_5\", \"Student_6\", \"Student_7\", \"Student_8\", \"Student_9\", \"Student_10\", \"Student_11\", \"Student_12\", \"Student_13\", \"Student_14\", \"Student_15\", \"Student_16\", \"Student_17\", \"Student_18\", \"Student_19\", \"Student_20\"], \"type\": \"bar\", \"uid\": \"b0ffc08c-e299-11e8-9490-d5f4ba98b039\"}, {\"name\": \"Video2\", \"orientation\": \"h\", \"x\": [1204, 0, 397, 830, 167, 0, 727, 1155, 652, 857, 0, 323, 832, 779, 295, 791, 0, 549, 642, 337], \"y\": [\"Student_1\", \"Student_2\", \"Student_3\", \"Student_4\", \"Student_5\", \"Student_6\", \"Student_7\", \"Student_8\", \"Student_9\", \"Student_10\", \"Student_11\", \"Student_12\", \"Student_13\", \"Student_14\", \"Student_15\", \"Student_16\", \"Student_17\", \"Student_18\", \"Student_19\", \"Student_20\"], \"type\": \"bar\", \"uid\": \"b0ffc230-e299-11e8-9490-d5f4ba98b039\"}, {\"name\": \"Video3\", \"orientation\": \"h\", \"x\": [823, 384, 0, 185, 736, 0, 202, 0, 568, 483, 297, 0, 429, 721, 0, 0, 1086, 952, 0, 351], \"y\": [\"Student_1\", \"Student_2\", \"Student_3\", \"Student_4\", \"Student_5\", \"Student_6\", \"Student_7\", \"Student_8\", \"Student_9\", \"Student_10\", \"Student_11\", \"Student_12\", \"Student_13\", \"Student_14\", \"Student_15\", \"Student_16\", \"Student_17\", \"Student_18\", \"Student_19\", \"Student_20\"], \"type\": \"bar\", \"uid\": \"b0ffc30c-e299-11e8-9490-d5f4ba98b039\"}, {\"name\": \"Video4\", \"orientation\": \"h\", \"x\": [901, 680, 997, 207, 651, 0, 270, 726, 332, 801, 85, 26, 0, 618, 1162, 446, 69, 0, 0, 125], \"y\": [\"Student_1\", \"Student_2\", \"Student_3\", \"Student_4\", \"Student_5\", \"Student_6\", \"Student_7\", \"Student_8\", \"Student_9\", \"Student_10\", \"Student_11\", \"Student_12\", \"Student_13\", \"Student_14\", \"Student_15\", \"Student_16\", \"Student_17\", \"Student_18\", \"Student_19\", \"Student_20\"], \"type\": \"bar\", \"uid\": \"b0ffc3c0-e299-11e8-9490-d5f4ba98b039\"}, {\"name\": \"Video5\", \"orientation\": \"h\", \"x\": [0, 246, 424, 0, 231, 1396, 806, 0, 437, 0, 310, 641, 1112, 0, 814, 722, 317, 626, 1242, 795], \"y\": [\"Student_1\", \"Student_2\", \"Student_3\", \"Student_4\", \"Student_5\", \"Student_6\", \"Student_7\", \"Student_8\", \"Student_9\", \"Student_10\", \"Student_11\", \"Student_12\", \"Student_13\", \"Student_14\", \"Student_15\", \"Student_16\", \"Student_17\", \"Student_18\", \"Student_19\", \"Student_20\"], \"type\": \"bar\", \"uid\": \"b0ffc460-e299-11e8-9490-d5f4ba98b039\"}], {\"barmode\": \"stack\", \"title\": \"N\\u00famero de acessos aos v\\u00eddeos agrupados por estudante\", \"yaxis\": {\"dtick\": 1, \"exponentformat\": \"e\", \"gridcolor\": \"#bdbdbd\", \"showexponent\": \"all\", \"showticklabels\": true, \"tick0\": 0, \"titlefont\": {\"color\": \"lightgrey\", \"family\": \"Arial, sans-serif\"}}}, {\"showLink\": true, \"linkText\": \"Export to plot.ly\"})});</script>"
      ],
      "text/vnd.plotly.v1+html": [
       "<div id=\"691237d3-44f8-406c-85cf-d904f801f1f2\" style=\"height: 525px; width: 100%;\" class=\"plotly-graph-div\"></div><script type=\"text/javascript\">require([\"plotly\"], function(Plotly) { window.PLOTLYENV=window.PLOTLYENV || {};window.PLOTLYENV.BASE_URL=\"https://plot.ly\";Plotly.newPlot(\"691237d3-44f8-406c-85cf-d904f801f1f2\", [{\"name\": \"Video1\", \"orientation\": \"h\", \"x\": [1764, 0, 687, 1008, 638, 728, 312, 787, 0, 1080, 508, 933, 0, 1004, 747, 254, 842, 937, 87, 712], \"y\": [\"Student_1\", \"Student_2\", \"Student_3\", \"Student_4\", \"Student_5\", \"Student_6\", \"Student_7\", \"Student_8\", \"Student_9\", \"Student_10\", \"Student_11\", \"Student_12\", \"Student_13\", \"Student_14\", \"Student_15\", \"Student_16\", \"Student_17\", \"Student_18\", \"Student_19\", \"Student_20\"], \"type\": \"bar\", \"uid\": \"b0ffc08c-e299-11e8-9490-d5f4ba98b039\"}, {\"name\": \"Video2\", \"orientation\": \"h\", \"x\": [1204, 0, 397, 830, 167, 0, 727, 1155, 652, 857, 0, 323, 832, 779, 295, 791, 0, 549, 642, 337], \"y\": [\"Student_1\", \"Student_2\", \"Student_3\", \"Student_4\", \"Student_5\", \"Student_6\", \"Student_7\", \"Student_8\", \"Student_9\", \"Student_10\", \"Student_11\", \"Student_12\", \"Student_13\", \"Student_14\", \"Student_15\", \"Student_16\", \"Student_17\", \"Student_18\", \"Student_19\", \"Student_20\"], \"type\": \"bar\", \"uid\": \"b0ffc230-e299-11e8-9490-d5f4ba98b039\"}, {\"name\": \"Video3\", \"orientation\": \"h\", \"x\": [823, 384, 0, 185, 736, 0, 202, 0, 568, 483, 297, 0, 429, 721, 0, 0, 1086, 952, 0, 351], \"y\": [\"Student_1\", \"Student_2\", \"Student_3\", \"Student_4\", \"Student_5\", \"Student_6\", \"Student_7\", \"Student_8\", \"Student_9\", \"Student_10\", \"Student_11\", \"Student_12\", \"Student_13\", \"Student_14\", \"Student_15\", \"Student_16\", \"Student_17\", \"Student_18\", \"Student_19\", \"Student_20\"], \"type\": \"bar\", \"uid\": \"b0ffc30c-e299-11e8-9490-d5f4ba98b039\"}, {\"name\": \"Video4\", \"orientation\": \"h\", \"x\": [901, 680, 997, 207, 651, 0, 270, 726, 332, 801, 85, 26, 0, 618, 1162, 446, 69, 0, 0, 125], \"y\": [\"Student_1\", \"Student_2\", \"Student_3\", \"Student_4\", \"Student_5\", \"Student_6\", \"Student_7\", \"Student_8\", \"Student_9\", \"Student_10\", \"Student_11\", \"Student_12\", \"Student_13\", \"Student_14\", \"Student_15\", \"Student_16\", \"Student_17\", \"Student_18\", \"Student_19\", \"Student_20\"], \"type\": \"bar\", \"uid\": \"b0ffc3c0-e299-11e8-9490-d5f4ba98b039\"}, {\"name\": \"Video5\", \"orientation\": \"h\", \"x\": [0, 246, 424, 0, 231, 1396, 806, 0, 437, 0, 310, 641, 1112, 0, 814, 722, 317, 626, 1242, 795], \"y\": [\"Student_1\", \"Student_2\", \"Student_3\", \"Student_4\", \"Student_5\", \"Student_6\", \"Student_7\", \"Student_8\", \"Student_9\", \"Student_10\", \"Student_11\", \"Student_12\", \"Student_13\", \"Student_14\", \"Student_15\", \"Student_16\", \"Student_17\", \"Student_18\", \"Student_19\", \"Student_20\"], \"type\": \"bar\", \"uid\": \"b0ffc460-e299-11e8-9490-d5f4ba98b039\"}], {\"barmode\": \"stack\", \"title\": \"N\\u00famero de acessos aos v\\u00eddeos agrupados por estudante\", \"yaxis\": {\"dtick\": 1, \"exponentformat\": \"e\", \"gridcolor\": \"#bdbdbd\", \"showexponent\": \"all\", \"showticklabels\": true, \"tick0\": 0, \"titlefont\": {\"color\": \"lightgrey\", \"family\": \"Arial, sans-serif\"}}}, {\"showLink\": true, \"linkText\": \"Export to plot.ly\"})});</script>"
      ]
     },
     "metadata": {},
     "output_type": "display_data"
    }
   ],
   "source": [
    "run scripts/V004.py"
   ]
  },
  {
   "cell_type": "markdown",
   "metadata": {},
   "source": [
    "### View 005"
   ]
  },
  {
   "cell_type": "code",
   "execution_count": 47,
   "metadata": {
    "scrolled": false
   },
   "outputs": [
    {
     "data": {
      "text/html": [
       "<script>requirejs.config({paths: { 'plotly': ['https://cdn.plot.ly/plotly-latest.min']},});if(!window.Plotly) {{require(['plotly'],function(plotly) {window.Plotly=plotly;});}}</script>"
      ],
      "text/vnd.plotly.v1+html": [
       "<script>requirejs.config({paths: { 'plotly': ['https://cdn.plot.ly/plotly-latest.min']},});if(!window.Plotly) {{require(['plotly'],function(plotly) {window.Plotly=plotly;});}}</script>"
      ]
     },
     "metadata": {},
     "output_type": "display_data"
    },
    {
     "data": {
      "application/vnd.plotly.v1+json": {
       "data": [
        {
         "cells": {
          "align": [
           "left",
           "center"
          ],
          "fill": {
           "color": "#F5F8FF"
          },
          "values": [
           [
            "Student_1",
            "Student_2",
            "Student_3",
            "Student_4",
            "Student_5",
            "Student_6",
            "Student_7",
            "Student_8",
            "Student_9",
            "Student_10",
            "Student_11",
            "Student_12",
            "Student_13",
            "Student_14",
            "Student_15",
            "Student_16",
            "Student_17",
            "Student_18",
            "Student_19",
            "Student_20"
           ],
           [
            66,
            44,
            36,
            57,
            62,
            73,
            62,
            86,
            44,
            35,
            91,
            27,
            6,
            75,
            18,
            82,
            46,
            30,
            60,
            50
           ],
           [
            57,
            20,
            5,
            34,
            71,
            63,
            52,
            71,
            13,
            9,
            56,
            2,
            26,
            8,
            10,
            48,
            7,
            1,
            16,
            15
           ],
           [
            3,
            0,
            0,
            3,
            1,
            4,
            7,
            14,
            1,
            1,
            11,
            0,
            1,
            9,
            2,
            15,
            1,
            0,
            2,
            0
           ],
           [
            29,
            6,
            6,
            17,
            18,
            24,
            18,
            65,
            6,
            8,
            62,
            7,
            5,
            18,
            7,
            58,
            2,
            5,
            20,
            5
           ]
          ]
         },
         "header": {
          "align": "center",
          "fill": {
           "color": "#C2D4FF"
          },
          "values": [
           "Students",
           "Grade",
           "Access",
           "Forum Post",
           "Forum Access"
          ]
         },
         "type": "table",
         "uid": "858c2198-e280-11e8-9490-d5f4ba98b039"
        }
       ],
       "layout": {}
      },
      "text/html": [
       "<div id=\"036e82ca-4572-4254-b126-f5a864da626e\" style=\"height: 525px; width: 100%;\" class=\"plotly-graph-div\"></div><script type=\"text/javascript\">require([\"plotly\"], function(Plotly) { window.PLOTLYENV=window.PLOTLYENV || {};window.PLOTLYENV.BASE_URL=\"https://plot.ly\";Plotly.newPlot(\"036e82ca-4572-4254-b126-f5a864da626e\", [{\"cells\": {\"align\": [\"left\", \"center\"], \"fill\": {\"color\": \"#F5F8FF\"}, \"values\": [[\"Student_1\", \"Student_2\", \"Student_3\", \"Student_4\", \"Student_5\", \"Student_6\", \"Student_7\", \"Student_8\", \"Student_9\", \"Student_10\", \"Student_11\", \"Student_12\", \"Student_13\", \"Student_14\", \"Student_15\", \"Student_16\", \"Student_17\", \"Student_18\", \"Student_19\", \"Student_20\"], [66, 44, 36, 57, 62, 73, 62, 86, 44, 35, 91, 27, 6, 75, 18, 82, 46, 30, 60, 50], [57, 20, 5, 34, 71, 63, 52, 71, 13, 9, 56, 2, 26, 8, 10, 48, 7, 1, 16, 15], [3, 0, 0, 3, 1, 4, 7, 14, 1, 1, 11, 0, 1, 9, 2, 15, 1, 0, 2, 0], [29, 6, 6, 17, 18, 24, 18, 65, 6, 8, 62, 7, 5, 18, 7, 58, 2, 5, 20, 5]]}, \"header\": {\"align\": \"center\", \"fill\": {\"color\": \"#C2D4FF\"}, \"values\": [\"Students\", \"Grade\", \"Access\", \"Forum Post\", \"Forum Access\"]}, \"type\": \"table\", \"uid\": \"858e766e-e280-11e8-9490-d5f4ba98b039\"}], {}, {\"showLink\": true, \"linkText\": \"Export to plot.ly\"})});</script>"
      ],
      "text/vnd.plotly.v1+html": [
       "<div id=\"036e82ca-4572-4254-b126-f5a864da626e\" style=\"height: 525px; width: 100%;\" class=\"plotly-graph-div\"></div><script type=\"text/javascript\">require([\"plotly\"], function(Plotly) { window.PLOTLYENV=window.PLOTLYENV || {};window.PLOTLYENV.BASE_URL=\"https://plot.ly\";Plotly.newPlot(\"036e82ca-4572-4254-b126-f5a864da626e\", [{\"cells\": {\"align\": [\"left\", \"center\"], \"fill\": {\"color\": \"#F5F8FF\"}, \"values\": [[\"Student_1\", \"Student_2\", \"Student_3\", \"Student_4\", \"Student_5\", \"Student_6\", \"Student_7\", \"Student_8\", \"Student_9\", \"Student_10\", \"Student_11\", \"Student_12\", \"Student_13\", \"Student_14\", \"Student_15\", \"Student_16\", \"Student_17\", \"Student_18\", \"Student_19\", \"Student_20\"], [66, 44, 36, 57, 62, 73, 62, 86, 44, 35, 91, 27, 6, 75, 18, 82, 46, 30, 60, 50], [57, 20, 5, 34, 71, 63, 52, 71, 13, 9, 56, 2, 26, 8, 10, 48, 7, 1, 16, 15], [3, 0, 0, 3, 1, 4, 7, 14, 1, 1, 11, 0, 1, 9, 2, 15, 1, 0, 2, 0], [29, 6, 6, 17, 18, 24, 18, 65, 6, 8, 62, 7, 5, 18, 7, 58, 2, 5, 20, 5]]}, \"header\": {\"align\": \"center\", \"fill\": {\"color\": \"#C2D4FF\"}, \"values\": [\"Students\", \"Grade\", \"Access\", \"Forum Post\", \"Forum Access\"]}, \"type\": \"table\", \"uid\": \"858e766e-e280-11e8-9490-d5f4ba98b039\"}], {}, {\"showLink\": true, \"linkText\": \"Export to plot.ly\"})});</script>"
      ]
     },
     "metadata": {},
     "output_type": "display_data"
    }
   ],
   "source": [
    "run scripts/V005.py"
   ]
  },
  {
   "cell_type": "markdown",
   "metadata": {},
   "source": [
    "### View 006"
   ]
  },
  {
   "cell_type": "code",
   "execution_count": null,
   "metadata": {},
   "outputs": [],
   "source": [
    "run scripts/V006.py"
   ]
  },
  {
   "cell_type": "markdown",
   "metadata": {},
   "source": [
    "### View 007"
   ]
  },
  {
   "cell_type": "code",
   "execution_count": null,
   "metadata": {},
   "outputs": [],
   "source": [
    "run scripts/V007.py"
   ]
  },
  {
   "cell_type": "markdown",
   "metadata": {},
   "source": [
    "### View 008"
   ]
  },
  {
   "cell_type": "code",
   "execution_count": null,
   "metadata": {},
   "outputs": [],
   "source": [
    "run scripts/V008.py"
   ]
  },
  {
   "cell_type": "markdown",
   "metadata": {},
   "source": [
    "### View 009"
   ]
  },
  {
   "cell_type": "code",
   "execution_count": null,
   "metadata": {},
   "outputs": [],
   "source": [
    "run scripts/V009.py"
   ]
  },
  {
   "cell_type": "markdown",
   "metadata": {},
   "source": [
    "### View 010"
   ]
  },
  {
   "cell_type": "code",
   "execution_count": 46,
   "metadata": {},
   "outputs": [],
   "source": [
    "run scripts/V010.py"
   ]
  },
  {
   "cell_type": "markdown",
   "metadata": {},
   "source": [
    "### View 011"
   ]
  },
  {
   "cell_type": "code",
   "execution_count": null,
   "metadata": {},
   "outputs": [],
   "source": [
    "run scripts/V011.py"
   ]
  }
 ],
 "metadata": {
  "kernelspec": {
   "display_name": "Python 3",
   "language": "python",
   "name": "python3"
  },
  "language_info": {
   "codemirror_mode": {
    "name": "ipython",
    "version": 3
   },
   "file_extension": ".py",
   "mimetype": "text/x-python",
   "name": "python",
   "nbconvert_exporter": "python",
   "pygments_lexer": "ipython3",
   "version": "3.7.0"
  }
 },
 "nbformat": 4,
 "nbformat_minor": 2
}
