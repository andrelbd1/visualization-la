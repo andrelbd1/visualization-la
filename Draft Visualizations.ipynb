{
 "cells": [
  {
   "cell_type": "markdown",
   "metadata": {},
   "source": [
    "### View 001"
   ]
  },
  {
   "cell_type": "code",
   "execution_count": 211,
   "metadata": {
    "scrolled": false
   },
   "outputs": [
    {
     "data": {
      "text/html": [
       "<script>requirejs.config({paths: { 'plotly': ['https://cdn.plot.ly/plotly-latest.min']},});if(!window.Plotly) {{require(['plotly'],function(plotly) {window.Plotly=plotly;});}}</script>"
      ],
      "text/vnd.plotly.v1+html": [
       "<script>requirejs.config({paths: { 'plotly': ['https://cdn.plot.ly/plotly-latest.min']},});if(!window.Plotly) {{require(['plotly'],function(plotly) {window.Plotly=plotly;});}}</script>"
      ]
     },
     "metadata": {},
     "output_type": "display_data"
    },
    {
     "data": {
      "application/vnd.plotly.v1+json": {
       "data": [
        {
         "cells": {
          "align": [
           "left",
           "center"
          ],
          "fill": {
           "color": "#F5F8FF"
          },
          "values": [
           [
            "ADILSON",
            "AGNEL",
            "ALDO",
            "ARIANA",
            "DAISON",
            "DALADIER",
            "DERCELINO",
            "EDALINA",
            "EUCLELIA",
            "EZITO",
            "LADIMAR",
            "LEOLINA",
            "LEUDINEIA",
            "NAGIME",
            "NARRIDA",
            "OSIMEIRE",
            "OTACILENE",
            "SUE",
            "SUERLEN",
            "VINCENZA"
           ],
           [
            0,
            0,
            0,
            1,
            1,
            1,
            0,
            1,
            0,
            1,
            0,
            1,
            1,
            1,
            1,
            1,
            1,
            0,
            1,
            1
           ],
           [
            1,
            1,
            0,
            0,
            1,
            0,
            0,
            1,
            1,
            1,
            0,
            1,
            0,
            0,
            0,
            0,
            1,
            0,
            1,
            1
           ],
           [
            1,
            1,
            1,
            0,
            1,
            1,
            1,
            1,
            0,
            1,
            0,
            0,
            0,
            1,
            0,
            0,
            0,
            1,
            1,
            0
           ],
           [
            1,
            1,
            1,
            0,
            1,
            0,
            0,
            1,
            1,
            0,
            1,
            0,
            1,
            1,
            0,
            0,
            0,
            1,
            0,
            0
           ]
          ]
         },
         "header": {
          "align": "center",
          "fill": {
           "color": "#C2D4FF"
          },
          "values": [
           "Students",
           "Assign1",
           "Assign2",
           "Assign3",
           "Assign4"
          ]
         },
         "type": "table",
         "uid": "b0fb3204-e51b-11e8-9c04-616182ad9bd4"
        }
       ],
       "layout": {}
      },
      "text/html": [
       "<div id=\"e71d01b1-9234-4ff3-93ad-51ac287d96c9\" style=\"height: 525px; width: 100%;\" class=\"plotly-graph-div\"></div><script type=\"text/javascript\">require([\"plotly\"], function(Plotly) { window.PLOTLYENV=window.PLOTLYENV || {};window.PLOTLYENV.BASE_URL=\"https://plot.ly\";Plotly.newPlot(\"e71d01b1-9234-4ff3-93ad-51ac287d96c9\", [{\"cells\": {\"align\": [\"left\", \"center\"], \"fill\": {\"color\": \"#F5F8FF\"}, \"values\": [[\"ADILSON\", \"AGNEL\", \"ALDO\", \"ARIANA\", \"DAISON\", \"DALADIER\", \"DERCELINO\", \"EDALINA\", \"EUCLELIA\", \"EZITO\", \"LADIMAR\", \"LEOLINA\", \"LEUDINEIA\", \"NAGIME\", \"NARRIDA\", \"OSIMEIRE\", \"OTACILENE\", \"SUE\", \"SUERLEN\", \"VINCENZA\"], [0, 0, 0, 1, 1, 1, 0, 1, 0, 1, 0, 1, 1, 1, 1, 1, 1, 0, 1, 1], [1, 1, 0, 0, 1, 0, 0, 1, 1, 1, 0, 1, 0, 0, 0, 0, 1, 0, 1, 1], [1, 1, 1, 0, 1, 1, 1, 1, 0, 1, 0, 0, 0, 1, 0, 0, 0, 1, 1, 0], [1, 1, 1, 0, 1, 0, 0, 1, 1, 0, 1, 0, 1, 1, 0, 0, 0, 1, 0, 0]]}, \"header\": {\"align\": \"center\", \"fill\": {\"color\": \"#C2D4FF\"}, \"values\": [\"Students\", \"Assign1\", \"Assign2\", \"Assign3\", \"Assign4\"]}, \"type\": \"table\", \"uid\": \"b0fd00a2-e51b-11e8-9c04-616182ad9bd4\"}], {}, {\"showLink\": true, \"linkText\": \"Export to plot.ly\"})});</script>"
      ],
      "text/vnd.plotly.v1+html": [
       "<div id=\"e71d01b1-9234-4ff3-93ad-51ac287d96c9\" style=\"height: 525px; width: 100%;\" class=\"plotly-graph-div\"></div><script type=\"text/javascript\">require([\"plotly\"], function(Plotly) { window.PLOTLYENV=window.PLOTLYENV || {};window.PLOTLYENV.BASE_URL=\"https://plot.ly\";Plotly.newPlot(\"e71d01b1-9234-4ff3-93ad-51ac287d96c9\", [{\"cells\": {\"align\": [\"left\", \"center\"], \"fill\": {\"color\": \"#F5F8FF\"}, \"values\": [[\"ADILSON\", \"AGNEL\", \"ALDO\", \"ARIANA\", \"DAISON\", \"DALADIER\", \"DERCELINO\", \"EDALINA\", \"EUCLELIA\", \"EZITO\", \"LADIMAR\", \"LEOLINA\", \"LEUDINEIA\", \"NAGIME\", \"NARRIDA\", \"OSIMEIRE\", \"OTACILENE\", \"SUE\", \"SUERLEN\", \"VINCENZA\"], [0, 0, 0, 1, 1, 1, 0, 1, 0, 1, 0, 1, 1, 1, 1, 1, 1, 0, 1, 1], [1, 1, 0, 0, 1, 0, 0, 1, 1, 1, 0, 1, 0, 0, 0, 0, 1, 0, 1, 1], [1, 1, 1, 0, 1, 1, 1, 1, 0, 1, 0, 0, 0, 1, 0, 0, 0, 1, 1, 0], [1, 1, 1, 0, 1, 0, 0, 1, 1, 0, 1, 0, 1, 1, 0, 0, 0, 1, 0, 0]]}, \"header\": {\"align\": \"center\", \"fill\": {\"color\": \"#C2D4FF\"}, \"values\": [\"Students\", \"Assign1\", \"Assign2\", \"Assign3\", \"Assign4\"]}, \"type\": \"table\", \"uid\": \"b0fd00a2-e51b-11e8-9c04-616182ad9bd4\"}], {}, {\"showLink\": true, \"linkText\": \"Export to plot.ly\"})});</script>"
      ]
     },
     "metadata": {},
     "output_type": "display_data"
    },
    {
     "data": {
      "application/vnd.plotly.v1+json": {
       "data": [
        {
         "type": "bar",
         "uid": "b1018d16-e51b-11e8-9c04-616182ad9bd4",
         "x": [
          "ADILSON",
          "AGNEL",
          "ALDO",
          "ARIANA",
          "DAISON",
          "DALADIER",
          "DERCELINO",
          "EDALINA",
          "EUCLELIA",
          "EZITO",
          "LADIMAR",
          "LEOLINA",
          "LEUDINEIA",
          "NAGIME",
          "NARRIDA",
          "OSIMEIRE",
          "OTACILENE",
          "SUE",
          "SUERLEN",
          "VINCENZA"
         ],
         "y": [
          3,
          3,
          2,
          1,
          4,
          2,
          1,
          4,
          2,
          3,
          1,
          2,
          2,
          3,
          1,
          1,
          2,
          2,
          3,
          2
         ]
        }
       ],
       "layout": {
        "title": "Quantidade de tarefas feitas por alunos",
        "yaxis": {
         "dtick": 1,
         "exponentformat": "e",
         "gridcolor": "#bdbdbd",
         "showexponent": "all",
         "showticklabels": true,
         "tick0": 0,
         "titlefont": {
          "color": "lightgrey",
          "family": "Arial, sans-serif"
         }
        }
       }
      },
      "text/html": [
       "<div id=\"e6dc8bc1-47ab-49b6-af5a-1bd4f215d654\" style=\"height: 525px; width: 100%;\" class=\"plotly-graph-div\"></div><script type=\"text/javascript\">require([\"plotly\"], function(Plotly) { window.PLOTLYENV=window.PLOTLYENV || {};window.PLOTLYENV.BASE_URL=\"https://plot.ly\";Plotly.newPlot(\"e6dc8bc1-47ab-49b6-af5a-1bd4f215d654\", [{\"x\": [\"ADILSON\", \"AGNEL\", \"ALDO\", \"ARIANA\", \"DAISON\", \"DALADIER\", \"DERCELINO\", \"EDALINA\", \"EUCLELIA\", \"EZITO\", \"LADIMAR\", \"LEOLINA\", \"LEUDINEIA\", \"NAGIME\", \"NARRIDA\", \"OSIMEIRE\", \"OTACILENE\", \"SUE\", \"SUERLEN\", \"VINCENZA\"], \"y\": [3, 3, 2, 1, 4, 2, 1, 4, 2, 3, 1, 2, 2, 3, 1, 1, 2, 2, 3, 2], \"type\": \"bar\", \"uid\": \"b1018d16-e51b-11e8-9c04-616182ad9bd4\"}], {\"title\": \"Quantidade de tarefas feitas por alunos\", \"yaxis\": {\"dtick\": 1, \"exponentformat\": \"e\", \"gridcolor\": \"#bdbdbd\", \"showexponent\": \"all\", \"showticklabels\": true, \"tick0\": 0, \"titlefont\": {\"color\": \"lightgrey\", \"family\": \"Arial, sans-serif\"}}}, {\"showLink\": true, \"linkText\": \"Export to plot.ly\"})});</script>"
      ],
      "text/vnd.plotly.v1+html": [
       "<div id=\"e6dc8bc1-47ab-49b6-af5a-1bd4f215d654\" style=\"height: 525px; width: 100%;\" class=\"plotly-graph-div\"></div><script type=\"text/javascript\">require([\"plotly\"], function(Plotly) { window.PLOTLYENV=window.PLOTLYENV || {};window.PLOTLYENV.BASE_URL=\"https://plot.ly\";Plotly.newPlot(\"e6dc8bc1-47ab-49b6-af5a-1bd4f215d654\", [{\"x\": [\"ADILSON\", \"AGNEL\", \"ALDO\", \"ARIANA\", \"DAISON\", \"DALADIER\", \"DERCELINO\", \"EDALINA\", \"EUCLELIA\", \"EZITO\", \"LADIMAR\", \"LEOLINA\", \"LEUDINEIA\", \"NAGIME\", \"NARRIDA\", \"OSIMEIRE\", \"OTACILENE\", \"SUE\", \"SUERLEN\", \"VINCENZA\"], \"y\": [3, 3, 2, 1, 4, 2, 1, 4, 2, 3, 1, 2, 2, 3, 1, 1, 2, 2, 3, 2], \"type\": \"bar\", \"uid\": \"b1018d16-e51b-11e8-9c04-616182ad9bd4\"}], {\"title\": \"Quantidade de tarefas feitas por alunos\", \"yaxis\": {\"dtick\": 1, \"exponentformat\": \"e\", \"gridcolor\": \"#bdbdbd\", \"showexponent\": \"all\", \"showticklabels\": true, \"tick0\": 0, \"titlefont\": {\"color\": \"lightgrey\", \"family\": \"Arial, sans-serif\"}}}, {\"showLink\": true, \"linkText\": \"Export to plot.ly\"})});</script>"
      ]
     },
     "metadata": {},
     "output_type": "display_data"
    },
    {
     "data": {
      "application/vnd.plotly.v1+json": {
       "data": [
        {
         "type": "bar",
         "uid": "b106371c-e51b-11e8-9c04-616182ad9bd4",
         "x": [
          "ARIANA",
          "DERCELINO",
          "LADIMAR",
          "NARRIDA",
          "OSIMEIRE",
          "ALDO",
          "DALADIER",
          "EUCLELIA",
          "LEOLINA",
          "LEUDINEIA",
          "OTACILENE",
          "SUE",
          "VINCENZA",
          "ADILSON",
          "AGNEL",
          "EZITO",
          "NAGIME",
          "SUERLEN",
          "DAISON",
          "EDALINA"
         ],
         "y": [
          1,
          1,
          1,
          1,
          1,
          2,
          2,
          2,
          2,
          2,
          2,
          2,
          2,
          3,
          3,
          3,
          3,
          3,
          4,
          4
         ]
        }
       ],
       "layout": {
        "title": "Quantidade de tarefas feitas por alunos",
        "yaxis": {
         "dtick": 1,
         "exponentformat": "e",
         "gridcolor": "#bdbdbd",
         "showexponent": "all",
         "showticklabels": true,
         "tick0": 0,
         "titlefont": {
          "color": "lightgrey",
          "family": "Arial, sans-serif"
         }
        }
       }
      },
      "text/html": [
       "<div id=\"6417c91a-234d-4b53-8767-5d13619238b1\" style=\"height: 525px; width: 100%;\" class=\"plotly-graph-div\"></div><script type=\"text/javascript\">require([\"plotly\"], function(Plotly) { window.PLOTLYENV=window.PLOTLYENV || {};window.PLOTLYENV.BASE_URL=\"https://plot.ly\";Plotly.newPlot(\"6417c91a-234d-4b53-8767-5d13619238b1\", [{\"x\": [\"ARIANA\", \"DERCELINO\", \"LADIMAR\", \"NARRIDA\", \"OSIMEIRE\", \"ALDO\", \"DALADIER\", \"EUCLELIA\", \"LEOLINA\", \"LEUDINEIA\", \"OTACILENE\", \"SUE\", \"VINCENZA\", \"ADILSON\", \"AGNEL\", \"EZITO\", \"NAGIME\", \"SUERLEN\", \"DAISON\", \"EDALINA\"], \"y\": [1, 1, 1, 1, 1, 2, 2, 2, 2, 2, 2, 2, 2, 3, 3, 3, 3, 3, 4, 4], \"type\": \"bar\", \"uid\": \"b106371c-e51b-11e8-9c04-616182ad9bd4\"}], {\"title\": \"Quantidade de tarefas feitas por alunos\", \"yaxis\": {\"dtick\": 1, \"exponentformat\": \"e\", \"gridcolor\": \"#bdbdbd\", \"showexponent\": \"all\", \"showticklabels\": true, \"tick0\": 0, \"titlefont\": {\"color\": \"lightgrey\", \"family\": \"Arial, sans-serif\"}}}, {\"showLink\": true, \"linkText\": \"Export to plot.ly\"})});</script>"
      ],
      "text/vnd.plotly.v1+html": [
       "<div id=\"6417c91a-234d-4b53-8767-5d13619238b1\" style=\"height: 525px; width: 100%;\" class=\"plotly-graph-div\"></div><script type=\"text/javascript\">require([\"plotly\"], function(Plotly) { window.PLOTLYENV=window.PLOTLYENV || {};window.PLOTLYENV.BASE_URL=\"https://plot.ly\";Plotly.newPlot(\"6417c91a-234d-4b53-8767-5d13619238b1\", [{\"x\": [\"ARIANA\", \"DERCELINO\", \"LADIMAR\", \"NARRIDA\", \"OSIMEIRE\", \"ALDO\", \"DALADIER\", \"EUCLELIA\", \"LEOLINA\", \"LEUDINEIA\", \"OTACILENE\", \"SUE\", \"VINCENZA\", \"ADILSON\", \"AGNEL\", \"EZITO\", \"NAGIME\", \"SUERLEN\", \"DAISON\", \"EDALINA\"], \"y\": [1, 1, 1, 1, 1, 2, 2, 2, 2, 2, 2, 2, 2, 3, 3, 3, 3, 3, 4, 4], \"type\": \"bar\", \"uid\": \"b106371c-e51b-11e8-9c04-616182ad9bd4\"}], {\"title\": \"Quantidade de tarefas feitas por alunos\", \"yaxis\": {\"dtick\": 1, \"exponentformat\": \"e\", \"gridcolor\": \"#bdbdbd\", \"showexponent\": \"all\", \"showticklabels\": true, \"tick0\": 0, \"titlefont\": {\"color\": \"lightgrey\", \"family\": \"Arial, sans-serif\"}}}, {\"showLink\": true, \"linkText\": \"Export to plot.ly\"})});</script>"
      ]
     },
     "metadata": {},
     "output_type": "display_data"
    },
    {
     "data": {
      "application/vnd.plotly.v1+json": {
       "data": [
        {
         "orientation": "h",
         "type": "bar",
         "uid": "b10aff9a-e51b-11e8-9c04-616182ad9bd4",
         "x": [
          3,
          3,
          2,
          1,
          4,
          2,
          1,
          4,
          2,
          3,
          1,
          2,
          2,
          3,
          1,
          1,
          2,
          2,
          3,
          2
         ],
         "y": [
          "ADILSON",
          "AGNEL",
          "ALDO",
          "ARIANA",
          "DAISON",
          "DALADIER",
          "DERCELINO",
          "EDALINA",
          "EUCLELIA",
          "EZITO",
          "LADIMAR",
          "LEOLINA",
          "LEUDINEIA",
          "NAGIME",
          "NARRIDA",
          "OSIMEIRE",
          "OTACILENE",
          "SUE",
          "SUERLEN",
          "VINCENZA"
         ]
        }
       ],
       "layout": {
        "title": "Quantidade de tarefas feitas por alunos",
        "xaxis": {
         "dtick": 1,
         "tick0": 0
        },
        "yaxis": {
         "dtick": 1,
         "exponentformat": "e",
         "gridcolor": "#bdbdbd",
         "showexponent": "all",
         "showticklabels": true,
         "tick0": 0,
         "titlefont": {
          "color": "lightgrey",
          "family": "Arial, sans-serif"
         }
        }
       }
      },
      "text/html": [
       "<div id=\"fe30f818-53c4-4a8c-987e-3cd83295c3df\" style=\"height: 525px; width: 100%;\" class=\"plotly-graph-div\"></div><script type=\"text/javascript\">require([\"plotly\"], function(Plotly) { window.PLOTLYENV=window.PLOTLYENV || {};window.PLOTLYENV.BASE_URL=\"https://plot.ly\";Plotly.newPlot(\"fe30f818-53c4-4a8c-987e-3cd83295c3df\", [{\"orientation\": \"h\", \"x\": [3, 3, 2, 1, 4, 2, 1, 4, 2, 3, 1, 2, 2, 3, 1, 1, 2, 2, 3, 2], \"y\": [\"ADILSON\", \"AGNEL\", \"ALDO\", \"ARIANA\", \"DAISON\", \"DALADIER\", \"DERCELINO\", \"EDALINA\", \"EUCLELIA\", \"EZITO\", \"LADIMAR\", \"LEOLINA\", \"LEUDINEIA\", \"NAGIME\", \"NARRIDA\", \"OSIMEIRE\", \"OTACILENE\", \"SUE\", \"SUERLEN\", \"VINCENZA\"], \"type\": \"bar\", \"uid\": \"b10aff9a-e51b-11e8-9c04-616182ad9bd4\"}], {\"title\": \"Quantidade de tarefas feitas por alunos\", \"xaxis\": {\"dtick\": 1, \"tick0\": 0}, \"yaxis\": {\"dtick\": 1, \"exponentformat\": \"e\", \"gridcolor\": \"#bdbdbd\", \"showexponent\": \"all\", \"showticklabels\": true, \"tick0\": 0, \"titlefont\": {\"color\": \"lightgrey\", \"family\": \"Arial, sans-serif\"}}}, {\"showLink\": true, \"linkText\": \"Export to plot.ly\"})});</script>"
      ],
      "text/vnd.plotly.v1+html": [
       "<div id=\"fe30f818-53c4-4a8c-987e-3cd83295c3df\" style=\"height: 525px; width: 100%;\" class=\"plotly-graph-div\"></div><script type=\"text/javascript\">require([\"plotly\"], function(Plotly) { window.PLOTLYENV=window.PLOTLYENV || {};window.PLOTLYENV.BASE_URL=\"https://plot.ly\";Plotly.newPlot(\"fe30f818-53c4-4a8c-987e-3cd83295c3df\", [{\"orientation\": \"h\", \"x\": [3, 3, 2, 1, 4, 2, 1, 4, 2, 3, 1, 2, 2, 3, 1, 1, 2, 2, 3, 2], \"y\": [\"ADILSON\", \"AGNEL\", \"ALDO\", \"ARIANA\", \"DAISON\", \"DALADIER\", \"DERCELINO\", \"EDALINA\", \"EUCLELIA\", \"EZITO\", \"LADIMAR\", \"LEOLINA\", \"LEUDINEIA\", \"NAGIME\", \"NARRIDA\", \"OSIMEIRE\", \"OTACILENE\", \"SUE\", \"SUERLEN\", \"VINCENZA\"], \"type\": \"bar\", \"uid\": \"b10aff9a-e51b-11e8-9c04-616182ad9bd4\"}], {\"title\": \"Quantidade de tarefas feitas por alunos\", \"xaxis\": {\"dtick\": 1, \"tick0\": 0}, \"yaxis\": {\"dtick\": 1, \"exponentformat\": \"e\", \"gridcolor\": \"#bdbdbd\", \"showexponent\": \"all\", \"showticklabels\": true, \"tick0\": 0, \"titlefont\": {\"color\": \"lightgrey\", \"family\": \"Arial, sans-serif\"}}}, {\"showLink\": true, \"linkText\": \"Export to plot.ly\"})});</script>"
      ]
     },
     "metadata": {},
     "output_type": "display_data"
    },
    {
     "data": {
      "application/vnd.plotly.v1+json": {
       "data": [
        {
         "orientation": "h",
         "type": "bar",
         "uid": "b10f820e-e51b-11e8-9c04-616182ad9bd4",
         "x": [
          1,
          1,
          1,
          1,
          1,
          2,
          2,
          2,
          2,
          2,
          2,
          2,
          2,
          3,
          3,
          3,
          3,
          3,
          4,
          4
         ],
         "y": [
          "ARIANA",
          "DERCELINO",
          "LADIMAR",
          "NARRIDA",
          "OSIMEIRE",
          "ALDO",
          "DALADIER",
          "EUCLELIA",
          "LEOLINA",
          "LEUDINEIA",
          "OTACILENE",
          "SUE",
          "VINCENZA",
          "ADILSON",
          "AGNEL",
          "EZITO",
          "NAGIME",
          "SUERLEN",
          "DAISON",
          "EDALINA"
         ]
        }
       ],
       "layout": {
        "title": "Quantidade de tarefas feitas por alunos",
        "xaxis": {
         "dtick": 1,
         "tick0": 0
        },
        "yaxis": {
         "dtick": 1,
         "exponentformat": "e",
         "gridcolor": "#bdbdbd",
         "showexponent": "all",
         "showticklabels": true,
         "tick0": 0,
         "titlefont": {
          "color": "lightgrey",
          "family": "Arial, sans-serif"
         }
        }
       }
      },
      "text/html": [
       "<div id=\"89770469-5058-4dc8-a2b7-1801c719f377\" style=\"height: 525px; width: 100%;\" class=\"plotly-graph-div\"></div><script type=\"text/javascript\">require([\"plotly\"], function(Plotly) { window.PLOTLYENV=window.PLOTLYENV || {};window.PLOTLYENV.BASE_URL=\"https://plot.ly\";Plotly.newPlot(\"89770469-5058-4dc8-a2b7-1801c719f377\", [{\"orientation\": \"h\", \"x\": [1, 1, 1, 1, 1, 2, 2, 2, 2, 2, 2, 2, 2, 3, 3, 3, 3, 3, 4, 4], \"y\": [\"ARIANA\", \"DERCELINO\", \"LADIMAR\", \"NARRIDA\", \"OSIMEIRE\", \"ALDO\", \"DALADIER\", \"EUCLELIA\", \"LEOLINA\", \"LEUDINEIA\", \"OTACILENE\", \"SUE\", \"VINCENZA\", \"ADILSON\", \"AGNEL\", \"EZITO\", \"NAGIME\", \"SUERLEN\", \"DAISON\", \"EDALINA\"], \"type\": \"bar\", \"uid\": \"b10f820e-e51b-11e8-9c04-616182ad9bd4\"}], {\"title\": \"Quantidade de tarefas feitas por alunos\", \"xaxis\": {\"dtick\": 1, \"tick0\": 0}, \"yaxis\": {\"dtick\": 1, \"exponentformat\": \"e\", \"gridcolor\": \"#bdbdbd\", \"showexponent\": \"all\", \"showticklabels\": true, \"tick0\": 0, \"titlefont\": {\"color\": \"lightgrey\", \"family\": \"Arial, sans-serif\"}}}, {\"showLink\": true, \"linkText\": \"Export to plot.ly\"})});</script>"
      ],
      "text/vnd.plotly.v1+html": [
       "<div id=\"89770469-5058-4dc8-a2b7-1801c719f377\" style=\"height: 525px; width: 100%;\" class=\"plotly-graph-div\"></div><script type=\"text/javascript\">require([\"plotly\"], function(Plotly) { window.PLOTLYENV=window.PLOTLYENV || {};window.PLOTLYENV.BASE_URL=\"https://plot.ly\";Plotly.newPlot(\"89770469-5058-4dc8-a2b7-1801c719f377\", [{\"orientation\": \"h\", \"x\": [1, 1, 1, 1, 1, 2, 2, 2, 2, 2, 2, 2, 2, 3, 3, 3, 3, 3, 4, 4], \"y\": [\"ARIANA\", \"DERCELINO\", \"LADIMAR\", \"NARRIDA\", \"OSIMEIRE\", \"ALDO\", \"DALADIER\", \"EUCLELIA\", \"LEOLINA\", \"LEUDINEIA\", \"OTACILENE\", \"SUE\", \"VINCENZA\", \"ADILSON\", \"AGNEL\", \"EZITO\", \"NAGIME\", \"SUERLEN\", \"DAISON\", \"EDALINA\"], \"type\": \"bar\", \"uid\": \"b10f820e-e51b-11e8-9c04-616182ad9bd4\"}], {\"title\": \"Quantidade de tarefas feitas por alunos\", \"xaxis\": {\"dtick\": 1, \"tick0\": 0}, \"yaxis\": {\"dtick\": 1, \"exponentformat\": \"e\", \"gridcolor\": \"#bdbdbd\", \"showexponent\": \"all\", \"showticklabels\": true, \"tick0\": 0, \"titlefont\": {\"color\": \"lightgrey\", \"family\": \"Arial, sans-serif\"}}}, {\"showLink\": true, \"linkText\": \"Export to plot.ly\"})});</script>"
      ]
     },
     "metadata": {},
     "output_type": "display_data"
    },
    {
     "data": {
      "application/vnd.plotly.v1+json": {
       "data": [
        {
         "marker": {
          "color": "lightgray"
         },
         "name": "",
         "orientation": "h",
         "text": "",
         "type": "bar",
         "uid": "b11769d8-e51b-11e8-9c04-616182ad9bd4",
         "width": [
          0.07,
          0.07,
          0.07,
          0.07,
          0.07,
          0.07,
          0.07,
          0.07,
          0.07,
          0.07,
          0.07,
          0.07,
          0.07,
          0.07,
          0.07,
          0.07,
          0.07,
          0.07,
          0.07,
          0.07
         ],
         "x": [
          3,
          3,
          2,
          1,
          4,
          2,
          1,
          4,
          2,
          3,
          1,
          2,
          2,
          3,
          1,
          1,
          2,
          2,
          3,
          2
         ],
         "y": [
          "ADILSON",
          "AGNEL",
          "ALDO",
          "ARIANA",
          "DAISON",
          "DALADIER",
          "DERCELINO",
          "EDALINA",
          "EUCLELIA",
          "EZITO",
          "LADIMAR",
          "LEOLINA",
          "LEUDINEIA",
          "NAGIME",
          "NARRIDA",
          "OSIMEIRE",
          "OTACILENE",
          "SUE",
          "SUERLEN",
          "VINCENZA"
         ]
        },
        {
         "marker": {
          "color": "rgb(0,0,255)",
          "line": {
           "width": 2
          },
          "sizemode": "area",
          "symbol": "circle"
         },
         "mode": "markers",
         "name": "",
         "text": [
          "1 tarefa",
          "1 tarefa",
          "1 tarefa",
          "1 tarefa",
          "1 tarefa"
         ],
         "type": "scatter",
         "uid": "b1176ba4-e51b-11e8-9c04-616182ad9bd4",
         "x": [
          1,
          1,
          1,
          1,
          1
         ],
         "y": [
          "ARIANA",
          "DERCELINO",
          "LADIMAR",
          "NARRIDA",
          "OSIMEIRE"
         ]
        },
        {
         "marker": {
          "color": "rgb(0,0,255)",
          "line": {
           "width": 2
          },
          "sizemode": "area",
          "symbol": "circle"
         },
         "mode": "markers",
         "name": "",
         "text": [
          "2 tarefas",
          "2 tarefas",
          "2 tarefas",
          "2 tarefas",
          "2 tarefas",
          "2 tarefas",
          "2 tarefas",
          "2 tarefas"
         ],
         "type": "scatter",
         "uid": "b1176c94-e51b-11e8-9c04-616182ad9bd4",
         "x": [
          2,
          2,
          2,
          2,
          2,
          2,
          2,
          2
         ],
         "y": [
          "ALDO",
          "DALADIER",
          "EUCLELIA",
          "LEOLINA",
          "LEUDINEIA",
          "OTACILENE",
          "SUE",
          "VINCENZA"
         ]
        },
        {
         "marker": {
          "color": "rgb(0,0,255)",
          "line": {
           "width": 2
          },
          "sizemode": "area",
          "symbol": "circle"
         },
         "mode": "markers",
         "name": "",
         "text": [
          "3 tarefas",
          "3 tarefas",
          "3 tarefas",
          "3 tarefas",
          "3 tarefas"
         ],
         "type": "scatter",
         "uid": "b1176d34-e51b-11e8-9c04-616182ad9bd4",
         "x": [
          3,
          3,
          3,
          3,
          3
         ],
         "y": [
          "ADILSON",
          "AGNEL",
          "EZITO",
          "NAGIME",
          "SUERLEN"
         ]
        },
        {
         "marker": {
          "color": "rgb(0,0,255)",
          "line": {
           "width": 2
          },
          "sizemode": "area",
          "symbol": "circle"
         },
         "mode": "markers",
         "name": "",
         "text": [
          "4 tarefas",
          "4 tarefas"
         ],
         "type": "scatter",
         "uid": "b1176dc0-e51b-11e8-9c04-616182ad9bd4",
         "x": [
          4,
          4
         ],
         "y": [
          "DAISON",
          "EDALINA"
         ]
        }
       ],
       "layout": {
        "hovermode": "closest",
        "showlegend": false,
        "title": "Quantidade de tarefas feitas por alunos",
        "xaxis": {
         "dtick": 1,
         "showgrid": true,
         "tick0": 0
        },
        "yaxis": {
         "dtick": 1,
         "exponentformat": "e",
         "gridcolor": "#bdbdbd",
         "showexponent": "all",
         "showgrid": false,
         "showticklabels": true,
         "tick0": 0,
         "titlefont": {
          "family": "Arial, sans-serif"
         }
        }
       }
      },
      "text/html": [
       "<div id=\"48e9d1f6-1ca3-4b3e-820f-56103286bec9\" style=\"height: 525px; width: 100%;\" class=\"plotly-graph-div\"></div><script type=\"text/javascript\">require([\"plotly\"], function(Plotly) { window.PLOTLYENV=window.PLOTLYENV || {};window.PLOTLYENV.BASE_URL=\"https://plot.ly\";Plotly.newPlot(\"48e9d1f6-1ca3-4b3e-820f-56103286bec9\", [{\"marker\": {\"color\": \"lightgray\"}, \"name\": \"\", \"orientation\": \"h\", \"text\": \"\", \"width\": [0.07, 0.07, 0.07, 0.07, 0.07, 0.07, 0.07, 0.07, 0.07, 0.07, 0.07, 0.07, 0.07, 0.07, 0.07, 0.07, 0.07, 0.07, 0.07, 0.07], \"x\": [3, 3, 2, 1, 4, 2, 1, 4, 2, 3, 1, 2, 2, 3, 1, 1, 2, 2, 3, 2], \"y\": [\"ADILSON\", \"AGNEL\", \"ALDO\", \"ARIANA\", \"DAISON\", \"DALADIER\", \"DERCELINO\", \"EDALINA\", \"EUCLELIA\", \"EZITO\", \"LADIMAR\", \"LEOLINA\", \"LEUDINEIA\", \"NAGIME\", \"NARRIDA\", \"OSIMEIRE\", \"OTACILENE\", \"SUE\", \"SUERLEN\", \"VINCENZA\"], \"type\": \"bar\", \"uid\": \"b11769d8-e51b-11e8-9c04-616182ad9bd4\"}, {\"marker\": {\"color\": \"rgb(0,0,255)\", \"line\": {\"width\": 2}, \"sizemode\": \"area\", \"symbol\": \"circle\"}, \"mode\": \"markers\", \"name\": \"\", \"text\": [\"1 tarefa\", \"1 tarefa\", \"1 tarefa\", \"1 tarefa\", \"1 tarefa\"], \"x\": [1, 1, 1, 1, 1], \"y\": [\"ARIANA\", \"DERCELINO\", \"LADIMAR\", \"NARRIDA\", \"OSIMEIRE\"], \"type\": \"scatter\", \"uid\": \"b1176ba4-e51b-11e8-9c04-616182ad9bd4\"}, {\"marker\": {\"color\": \"rgb(0,0,255)\", \"line\": {\"width\": 2}, \"sizemode\": \"area\", \"symbol\": \"circle\"}, \"mode\": \"markers\", \"name\": \"\", \"text\": [\"2 tarefas\", \"2 tarefas\", \"2 tarefas\", \"2 tarefas\", \"2 tarefas\", \"2 tarefas\", \"2 tarefas\", \"2 tarefas\"], \"x\": [2, 2, 2, 2, 2, 2, 2, 2], \"y\": [\"ALDO\", \"DALADIER\", \"EUCLELIA\", \"LEOLINA\", \"LEUDINEIA\", \"OTACILENE\", \"SUE\", \"VINCENZA\"], \"type\": \"scatter\", \"uid\": \"b1176c94-e51b-11e8-9c04-616182ad9bd4\"}, {\"marker\": {\"color\": \"rgb(0,0,255)\", \"line\": {\"width\": 2}, \"sizemode\": \"area\", \"symbol\": \"circle\"}, \"mode\": \"markers\", \"name\": \"\", \"text\": [\"3 tarefas\", \"3 tarefas\", \"3 tarefas\", \"3 tarefas\", \"3 tarefas\"], \"x\": [3, 3, 3, 3, 3], \"y\": [\"ADILSON\", \"AGNEL\", \"EZITO\", \"NAGIME\", \"SUERLEN\"], \"type\": \"scatter\", \"uid\": \"b1176d34-e51b-11e8-9c04-616182ad9bd4\"}, {\"marker\": {\"color\": \"rgb(0,0,255)\", \"line\": {\"width\": 2}, \"sizemode\": \"area\", \"symbol\": \"circle\"}, \"mode\": \"markers\", \"name\": \"\", \"text\": [\"4 tarefas\", \"4 tarefas\"], \"x\": [4, 4], \"y\": [\"DAISON\", \"EDALINA\"], \"type\": \"scatter\", \"uid\": \"b1176dc0-e51b-11e8-9c04-616182ad9bd4\"}], {\"hovermode\": \"closest\", \"showlegend\": false, \"title\": \"Quantidade de tarefas feitas por alunos\", \"xaxis\": {\"dtick\": 1, \"showgrid\": true, \"tick0\": 0}, \"yaxis\": {\"dtick\": 1, \"exponentformat\": \"e\", \"gridcolor\": \"#bdbdbd\", \"showexponent\": \"all\", \"showgrid\": false, \"showticklabels\": true, \"tick0\": 0, \"titlefont\": {\"family\": \"Arial, sans-serif\"}}}, {\"showLink\": true, \"linkText\": \"Export to plot.ly\"})});</script>"
      ],
      "text/vnd.plotly.v1+html": [
       "<div id=\"48e9d1f6-1ca3-4b3e-820f-56103286bec9\" style=\"height: 525px; width: 100%;\" class=\"plotly-graph-div\"></div><script type=\"text/javascript\">require([\"plotly\"], function(Plotly) { window.PLOTLYENV=window.PLOTLYENV || {};window.PLOTLYENV.BASE_URL=\"https://plot.ly\";Plotly.newPlot(\"48e9d1f6-1ca3-4b3e-820f-56103286bec9\", [{\"marker\": {\"color\": \"lightgray\"}, \"name\": \"\", \"orientation\": \"h\", \"text\": \"\", \"width\": [0.07, 0.07, 0.07, 0.07, 0.07, 0.07, 0.07, 0.07, 0.07, 0.07, 0.07, 0.07, 0.07, 0.07, 0.07, 0.07, 0.07, 0.07, 0.07, 0.07], \"x\": [3, 3, 2, 1, 4, 2, 1, 4, 2, 3, 1, 2, 2, 3, 1, 1, 2, 2, 3, 2], \"y\": [\"ADILSON\", \"AGNEL\", \"ALDO\", \"ARIANA\", \"DAISON\", \"DALADIER\", \"DERCELINO\", \"EDALINA\", \"EUCLELIA\", \"EZITO\", \"LADIMAR\", \"LEOLINA\", \"LEUDINEIA\", \"NAGIME\", \"NARRIDA\", \"OSIMEIRE\", \"OTACILENE\", \"SUE\", \"SUERLEN\", \"VINCENZA\"], \"type\": \"bar\", \"uid\": \"b11769d8-e51b-11e8-9c04-616182ad9bd4\"}, {\"marker\": {\"color\": \"rgb(0,0,255)\", \"line\": {\"width\": 2}, \"sizemode\": \"area\", \"symbol\": \"circle\"}, \"mode\": \"markers\", \"name\": \"\", \"text\": [\"1 tarefa\", \"1 tarefa\", \"1 tarefa\", \"1 tarefa\", \"1 tarefa\"], \"x\": [1, 1, 1, 1, 1], \"y\": [\"ARIANA\", \"DERCELINO\", \"LADIMAR\", \"NARRIDA\", \"OSIMEIRE\"], \"type\": \"scatter\", \"uid\": \"b1176ba4-e51b-11e8-9c04-616182ad9bd4\"}, {\"marker\": {\"color\": \"rgb(0,0,255)\", \"line\": {\"width\": 2}, \"sizemode\": \"area\", \"symbol\": \"circle\"}, \"mode\": \"markers\", \"name\": \"\", \"text\": [\"2 tarefas\", \"2 tarefas\", \"2 tarefas\", \"2 tarefas\", \"2 tarefas\", \"2 tarefas\", \"2 tarefas\", \"2 tarefas\"], \"x\": [2, 2, 2, 2, 2, 2, 2, 2], \"y\": [\"ALDO\", \"DALADIER\", \"EUCLELIA\", \"LEOLINA\", \"LEUDINEIA\", \"OTACILENE\", \"SUE\", \"VINCENZA\"], \"type\": \"scatter\", \"uid\": \"b1176c94-e51b-11e8-9c04-616182ad9bd4\"}, {\"marker\": {\"color\": \"rgb(0,0,255)\", \"line\": {\"width\": 2}, \"sizemode\": \"area\", \"symbol\": \"circle\"}, \"mode\": \"markers\", \"name\": \"\", \"text\": [\"3 tarefas\", \"3 tarefas\", \"3 tarefas\", \"3 tarefas\", \"3 tarefas\"], \"x\": [3, 3, 3, 3, 3], \"y\": [\"ADILSON\", \"AGNEL\", \"EZITO\", \"NAGIME\", \"SUERLEN\"], \"type\": \"scatter\", \"uid\": \"b1176d34-e51b-11e8-9c04-616182ad9bd4\"}, {\"marker\": {\"color\": \"rgb(0,0,255)\", \"line\": {\"width\": 2}, \"sizemode\": \"area\", \"symbol\": \"circle\"}, \"mode\": \"markers\", \"name\": \"\", \"text\": [\"4 tarefas\", \"4 tarefas\"], \"x\": [4, 4], \"y\": [\"DAISON\", \"EDALINA\"], \"type\": \"scatter\", \"uid\": \"b1176dc0-e51b-11e8-9c04-616182ad9bd4\"}], {\"hovermode\": \"closest\", \"showlegend\": false, \"title\": \"Quantidade de tarefas feitas por alunos\", \"xaxis\": {\"dtick\": 1, \"showgrid\": true, \"tick0\": 0}, \"yaxis\": {\"dtick\": 1, \"exponentformat\": \"e\", \"gridcolor\": \"#bdbdbd\", \"showexponent\": \"all\", \"showgrid\": false, \"showticklabels\": true, \"tick0\": 0, \"titlefont\": {\"family\": \"Arial, sans-serif\"}}}, {\"showLink\": true, \"linkText\": \"Export to plot.ly\"})});</script>"
      ]
     },
     "metadata": {},
     "output_type": "display_data"
    },
    {
     "data": {
      "application/vnd.plotly.v1+json": {
       "data": [
        {
         "marker": {
          "color": "lightgray"
         },
         "name": "",
         "orientation": "h",
         "text": "",
         "type": "bar",
         "uid": "b11fb6a6-e51b-11e8-9c04-616182ad9bd4",
         "width": [
          0.07,
          0.07,
          0.07,
          0.07,
          0.07,
          0.07,
          0.07,
          0.07,
          0.07,
          0.07,
          0.07,
          0.07,
          0.07,
          0.07,
          0.07,
          0.07,
          0.07,
          0.07,
          0.07,
          0.07
         ],
         "x": [
          1,
          1,
          1,
          1,
          1,
          2,
          2,
          2,
          2,
          2,
          2,
          2,
          2,
          3,
          3,
          3,
          3,
          3,
          4,
          4
         ],
         "y": [
          "ARIANA",
          "DERCELINO",
          "LADIMAR",
          "NARRIDA",
          "OSIMEIRE",
          "ALDO",
          "DALADIER",
          "EUCLELIA",
          "LEOLINA",
          "LEUDINEIA",
          "OTACILENE",
          "SUE",
          "VINCENZA",
          "ADILSON",
          "AGNEL",
          "EZITO",
          "NAGIME",
          "SUERLEN",
          "DAISON",
          "EDALINA"
         ]
        },
        {
         "marker": {
          "color": "rgb(0,0,255)",
          "line": {
           "width": 2
          },
          "sizemode": "area",
          "symbol": "circle"
         },
         "mode": "markers",
         "name": "",
         "text": [
          "1 tarefa",
          "1 tarefa",
          "1 tarefa",
          "1 tarefa",
          "1 tarefa"
         ],
         "type": "scatter",
         "uid": "b11fb840-e51b-11e8-9c04-616182ad9bd4",
         "x": [
          1,
          1,
          1,
          1,
          1
         ],
         "y": [
          "ARIANA",
          "DERCELINO",
          "LADIMAR",
          "NARRIDA",
          "OSIMEIRE"
         ]
        },
        {
         "marker": {
          "color": "rgb(0,0,255)",
          "line": {
           "width": 2
          },
          "sizemode": "area",
          "symbol": "circle"
         },
         "mode": "markers",
         "name": "",
         "text": [
          "2 tarefas",
          "2 tarefas",
          "2 tarefas",
          "2 tarefas",
          "2 tarefas",
          "2 tarefas",
          "2 tarefas",
          "2 tarefas"
         ],
         "type": "scatter",
         "uid": "b11fb908-e51b-11e8-9c04-616182ad9bd4",
         "x": [
          2,
          2,
          2,
          2,
          2,
          2,
          2,
          2
         ],
         "y": [
          "ALDO",
          "DALADIER",
          "EUCLELIA",
          "LEOLINA",
          "LEUDINEIA",
          "OTACILENE",
          "SUE",
          "VINCENZA"
         ]
        },
        {
         "marker": {
          "color": "rgb(0,0,255)",
          "line": {
           "width": 2
          },
          "sizemode": "area",
          "symbol": "circle"
         },
         "mode": "markers",
         "name": "",
         "text": [
          "3 tarefas",
          "3 tarefas",
          "3 tarefas",
          "3 tarefas",
          "3 tarefas"
         ],
         "type": "scatter",
         "uid": "b11fb99e-e51b-11e8-9c04-616182ad9bd4",
         "x": [
          3,
          3,
          3,
          3,
          3
         ],
         "y": [
          "ADILSON",
          "AGNEL",
          "EZITO",
          "NAGIME",
          "SUERLEN"
         ]
        },
        {
         "marker": {
          "color": "rgb(0,0,255)",
          "line": {
           "width": 2
          },
          "sizemode": "area",
          "symbol": "circle"
         },
         "mode": "markers",
         "name": "",
         "text": [
          "4 tarefas",
          "4 tarefas"
         ],
         "type": "scatter",
         "uid": "b11fba20-e51b-11e8-9c04-616182ad9bd4",
         "x": [
          4,
          4
         ],
         "y": [
          "DAISON",
          "EDALINA"
         ]
        }
       ],
       "layout": {
        "hovermode": "closest",
        "showlegend": false,
        "title": "Quantidade de tarefas feitas por alunos",
        "xaxis": {
         "dtick": 1,
         "showgrid": true,
         "tick0": 0
        },
        "yaxis": {
         "dtick": 1,
         "exponentformat": "e",
         "gridcolor": "#bdbdbd",
         "showexponent": "all",
         "showgrid": false,
         "showticklabels": true,
         "tick0": 0,
         "titlefont": {
          "family": "Arial, sans-serif"
         }
        }
       }
      },
      "text/html": [
       "<div id=\"8952189b-1771-41cd-a9b2-c510ca306f4d\" style=\"height: 525px; width: 100%;\" class=\"plotly-graph-div\"></div><script type=\"text/javascript\">require([\"plotly\"], function(Plotly) { window.PLOTLYENV=window.PLOTLYENV || {};window.PLOTLYENV.BASE_URL=\"https://plot.ly\";Plotly.newPlot(\"8952189b-1771-41cd-a9b2-c510ca306f4d\", [{\"marker\": {\"color\": \"lightgray\"}, \"name\": \"\", \"orientation\": \"h\", \"text\": \"\", \"width\": [0.07, 0.07, 0.07, 0.07, 0.07, 0.07, 0.07, 0.07, 0.07, 0.07, 0.07, 0.07, 0.07, 0.07, 0.07, 0.07, 0.07, 0.07, 0.07, 0.07], \"x\": [1, 1, 1, 1, 1, 2, 2, 2, 2, 2, 2, 2, 2, 3, 3, 3, 3, 3, 4, 4], \"y\": [\"ARIANA\", \"DERCELINO\", \"LADIMAR\", \"NARRIDA\", \"OSIMEIRE\", \"ALDO\", \"DALADIER\", \"EUCLELIA\", \"LEOLINA\", \"LEUDINEIA\", \"OTACILENE\", \"SUE\", \"VINCENZA\", \"ADILSON\", \"AGNEL\", \"EZITO\", \"NAGIME\", \"SUERLEN\", \"DAISON\", \"EDALINA\"], \"type\": \"bar\", \"uid\": \"b11fb6a6-e51b-11e8-9c04-616182ad9bd4\"}, {\"marker\": {\"color\": \"rgb(0,0,255)\", \"line\": {\"width\": 2}, \"sizemode\": \"area\", \"symbol\": \"circle\"}, \"mode\": \"markers\", \"name\": \"\", \"text\": [\"1 tarefa\", \"1 tarefa\", \"1 tarefa\", \"1 tarefa\", \"1 tarefa\"], \"x\": [1, 1, 1, 1, 1], \"y\": [\"ARIANA\", \"DERCELINO\", \"LADIMAR\", \"NARRIDA\", \"OSIMEIRE\"], \"type\": \"scatter\", \"uid\": \"b11fb840-e51b-11e8-9c04-616182ad9bd4\"}, {\"marker\": {\"color\": \"rgb(0,0,255)\", \"line\": {\"width\": 2}, \"sizemode\": \"area\", \"symbol\": \"circle\"}, \"mode\": \"markers\", \"name\": \"\", \"text\": [\"2 tarefas\", \"2 tarefas\", \"2 tarefas\", \"2 tarefas\", \"2 tarefas\", \"2 tarefas\", \"2 tarefas\", \"2 tarefas\"], \"x\": [2, 2, 2, 2, 2, 2, 2, 2], \"y\": [\"ALDO\", \"DALADIER\", \"EUCLELIA\", \"LEOLINA\", \"LEUDINEIA\", \"OTACILENE\", \"SUE\", \"VINCENZA\"], \"type\": \"scatter\", \"uid\": \"b11fb908-e51b-11e8-9c04-616182ad9bd4\"}, {\"marker\": {\"color\": \"rgb(0,0,255)\", \"line\": {\"width\": 2}, \"sizemode\": \"area\", \"symbol\": \"circle\"}, \"mode\": \"markers\", \"name\": \"\", \"text\": [\"3 tarefas\", \"3 tarefas\", \"3 tarefas\", \"3 tarefas\", \"3 tarefas\"], \"x\": [3, 3, 3, 3, 3], \"y\": [\"ADILSON\", \"AGNEL\", \"EZITO\", \"NAGIME\", \"SUERLEN\"], \"type\": \"scatter\", \"uid\": \"b11fb99e-e51b-11e8-9c04-616182ad9bd4\"}, {\"marker\": {\"color\": \"rgb(0,0,255)\", \"line\": {\"width\": 2}, \"sizemode\": \"area\", \"symbol\": \"circle\"}, \"mode\": \"markers\", \"name\": \"\", \"text\": [\"4 tarefas\", \"4 tarefas\"], \"x\": [4, 4], \"y\": [\"DAISON\", \"EDALINA\"], \"type\": \"scatter\", \"uid\": \"b11fba20-e51b-11e8-9c04-616182ad9bd4\"}], {\"hovermode\": \"closest\", \"showlegend\": false, \"title\": \"Quantidade de tarefas feitas por alunos\", \"xaxis\": {\"dtick\": 1, \"showgrid\": true, \"tick0\": 0}, \"yaxis\": {\"dtick\": 1, \"exponentformat\": \"e\", \"gridcolor\": \"#bdbdbd\", \"showexponent\": \"all\", \"showgrid\": false, \"showticklabels\": true, \"tick0\": 0, \"titlefont\": {\"family\": \"Arial, sans-serif\"}}}, {\"showLink\": true, \"linkText\": \"Export to plot.ly\"})});</script>"
      ],
      "text/vnd.plotly.v1+html": [
       "<div id=\"8952189b-1771-41cd-a9b2-c510ca306f4d\" style=\"height: 525px; width: 100%;\" class=\"plotly-graph-div\"></div><script type=\"text/javascript\">require([\"plotly\"], function(Plotly) { window.PLOTLYENV=window.PLOTLYENV || {};window.PLOTLYENV.BASE_URL=\"https://plot.ly\";Plotly.newPlot(\"8952189b-1771-41cd-a9b2-c510ca306f4d\", [{\"marker\": {\"color\": \"lightgray\"}, \"name\": \"\", \"orientation\": \"h\", \"text\": \"\", \"width\": [0.07, 0.07, 0.07, 0.07, 0.07, 0.07, 0.07, 0.07, 0.07, 0.07, 0.07, 0.07, 0.07, 0.07, 0.07, 0.07, 0.07, 0.07, 0.07, 0.07], \"x\": [1, 1, 1, 1, 1, 2, 2, 2, 2, 2, 2, 2, 2, 3, 3, 3, 3, 3, 4, 4], \"y\": [\"ARIANA\", \"DERCELINO\", \"LADIMAR\", \"NARRIDA\", \"OSIMEIRE\", \"ALDO\", \"DALADIER\", \"EUCLELIA\", \"LEOLINA\", \"LEUDINEIA\", \"OTACILENE\", \"SUE\", \"VINCENZA\", \"ADILSON\", \"AGNEL\", \"EZITO\", \"NAGIME\", \"SUERLEN\", \"DAISON\", \"EDALINA\"], \"type\": \"bar\", \"uid\": \"b11fb6a6-e51b-11e8-9c04-616182ad9bd4\"}, {\"marker\": {\"color\": \"rgb(0,0,255)\", \"line\": {\"width\": 2}, \"sizemode\": \"area\", \"symbol\": \"circle\"}, \"mode\": \"markers\", \"name\": \"\", \"text\": [\"1 tarefa\", \"1 tarefa\", \"1 tarefa\", \"1 tarefa\", \"1 tarefa\"], \"x\": [1, 1, 1, 1, 1], \"y\": [\"ARIANA\", \"DERCELINO\", \"LADIMAR\", \"NARRIDA\", \"OSIMEIRE\"], \"type\": \"scatter\", \"uid\": \"b11fb840-e51b-11e8-9c04-616182ad9bd4\"}, {\"marker\": {\"color\": \"rgb(0,0,255)\", \"line\": {\"width\": 2}, \"sizemode\": \"area\", \"symbol\": \"circle\"}, \"mode\": \"markers\", \"name\": \"\", \"text\": [\"2 tarefas\", \"2 tarefas\", \"2 tarefas\", \"2 tarefas\", \"2 tarefas\", \"2 tarefas\", \"2 tarefas\", \"2 tarefas\"], \"x\": [2, 2, 2, 2, 2, 2, 2, 2], \"y\": [\"ALDO\", \"DALADIER\", \"EUCLELIA\", \"LEOLINA\", \"LEUDINEIA\", \"OTACILENE\", \"SUE\", \"VINCENZA\"], \"type\": \"scatter\", \"uid\": \"b11fb908-e51b-11e8-9c04-616182ad9bd4\"}, {\"marker\": {\"color\": \"rgb(0,0,255)\", \"line\": {\"width\": 2}, \"sizemode\": \"area\", \"symbol\": \"circle\"}, \"mode\": \"markers\", \"name\": \"\", \"text\": [\"3 tarefas\", \"3 tarefas\", \"3 tarefas\", \"3 tarefas\", \"3 tarefas\"], \"x\": [3, 3, 3, 3, 3], \"y\": [\"ADILSON\", \"AGNEL\", \"EZITO\", \"NAGIME\", \"SUERLEN\"], \"type\": \"scatter\", \"uid\": \"b11fb99e-e51b-11e8-9c04-616182ad9bd4\"}, {\"marker\": {\"color\": \"rgb(0,0,255)\", \"line\": {\"width\": 2}, \"sizemode\": \"area\", \"symbol\": \"circle\"}, \"mode\": \"markers\", \"name\": \"\", \"text\": [\"4 tarefas\", \"4 tarefas\"], \"x\": [4, 4], \"y\": [\"DAISON\", \"EDALINA\"], \"type\": \"scatter\", \"uid\": \"b11fba20-e51b-11e8-9c04-616182ad9bd4\"}], {\"hovermode\": \"closest\", \"showlegend\": false, \"title\": \"Quantidade de tarefas feitas por alunos\", \"xaxis\": {\"dtick\": 1, \"showgrid\": true, \"tick0\": 0}, \"yaxis\": {\"dtick\": 1, \"exponentformat\": \"e\", \"gridcolor\": \"#bdbdbd\", \"showexponent\": \"all\", \"showgrid\": false, \"showticklabels\": true, \"tick0\": 0, \"titlefont\": {\"family\": \"Arial, sans-serif\"}}}, {\"showLink\": true, \"linkText\": \"Export to plot.ly\"})});</script>"
      ]
     },
     "metadata": {},
     "output_type": "display_data"
    },
    {
     "data": {
      "application/vnd.plotly.v1+json": {
       "data": [
        {
         "type": "bar",
         "uid": "b1243366-e51b-11e8-9c04-616182ad9bd4",
         "x": [
          "ADILSON",
          "AGNEL",
          "ALDO",
          "ARIANA",
          "DAISON",
          "DALADIER",
          "DERCELINO",
          "EDALINA",
          "EUCLELIA",
          "EZITO",
          "LADIMAR",
          "LEOLINA",
          "LEUDINEIA",
          "NAGIME",
          "NARRIDA",
          "OSIMEIRE",
          "OTACILENE",
          "SUE",
          "SUERLEN",
          "VINCENZA"
         ],
         "y": [
          3,
          3,
          2,
          1,
          4,
          2,
          1,
          4,
          2,
          3,
          1,
          2,
          2,
          3,
          1,
          1,
          2,
          2,
          3,
          2
         ]
        }
       ],
       "layout": {
        "title": "Quantidade de alunos que fizeram as tarefas",
        "yaxis": {
         "dtick": 1,
         "exponentformat": "e",
         "gridcolor": "#bdbdbd",
         "showexponent": "all",
         "showticklabels": true,
         "tick0": 0,
         "titlefont": {
          "color": "lightgrey",
          "family": "Arial, sans-serif"
         }
        }
       }
      },
      "text/html": [
       "<div id=\"480fa629-db1f-44d4-ab6a-38db86da6491\" style=\"height: 525px; width: 100%;\" class=\"plotly-graph-div\"></div><script type=\"text/javascript\">require([\"plotly\"], function(Plotly) { window.PLOTLYENV=window.PLOTLYENV || {};window.PLOTLYENV.BASE_URL=\"https://plot.ly\";Plotly.newPlot(\"480fa629-db1f-44d4-ab6a-38db86da6491\", [{\"x\": [\"ADILSON\", \"AGNEL\", \"ALDO\", \"ARIANA\", \"DAISON\", \"DALADIER\", \"DERCELINO\", \"EDALINA\", \"EUCLELIA\", \"EZITO\", \"LADIMAR\", \"LEOLINA\", \"LEUDINEIA\", \"NAGIME\", \"NARRIDA\", \"OSIMEIRE\", \"OTACILENE\", \"SUE\", \"SUERLEN\", \"VINCENZA\"], \"y\": [3, 3, 2, 1, 4, 2, 1, 4, 2, 3, 1, 2, 2, 3, 1, 1, 2, 2, 3, 2], \"type\": \"bar\", \"uid\": \"b1243366-e51b-11e8-9c04-616182ad9bd4\"}], {\"title\": \"Quantidade de alunos que fizeram as tarefas\", \"yaxis\": {\"dtick\": 1, \"exponentformat\": \"e\", \"gridcolor\": \"#bdbdbd\", \"showexponent\": \"all\", \"showticklabels\": true, \"tick0\": 0, \"titlefont\": {\"color\": \"lightgrey\", \"family\": \"Arial, sans-serif\"}}}, {\"showLink\": true, \"linkText\": \"Export to plot.ly\"})});</script>"
      ],
      "text/vnd.plotly.v1+html": [
       "<div id=\"480fa629-db1f-44d4-ab6a-38db86da6491\" style=\"height: 525px; width: 100%;\" class=\"plotly-graph-div\"></div><script type=\"text/javascript\">require([\"plotly\"], function(Plotly) { window.PLOTLYENV=window.PLOTLYENV || {};window.PLOTLYENV.BASE_URL=\"https://plot.ly\";Plotly.newPlot(\"480fa629-db1f-44d4-ab6a-38db86da6491\", [{\"x\": [\"ADILSON\", \"AGNEL\", \"ALDO\", \"ARIANA\", \"DAISON\", \"DALADIER\", \"DERCELINO\", \"EDALINA\", \"EUCLELIA\", \"EZITO\", \"LADIMAR\", \"LEOLINA\", \"LEUDINEIA\", \"NAGIME\", \"NARRIDA\", \"OSIMEIRE\", \"OTACILENE\", \"SUE\", \"SUERLEN\", \"VINCENZA\"], \"y\": [3, 3, 2, 1, 4, 2, 1, 4, 2, 3, 1, 2, 2, 3, 1, 1, 2, 2, 3, 2], \"type\": \"bar\", \"uid\": \"b1243366-e51b-11e8-9c04-616182ad9bd4\"}], {\"title\": \"Quantidade de alunos que fizeram as tarefas\", \"yaxis\": {\"dtick\": 1, \"exponentformat\": \"e\", \"gridcolor\": \"#bdbdbd\", \"showexponent\": \"all\", \"showticklabels\": true, \"tick0\": 0, \"titlefont\": {\"color\": \"lightgrey\", \"family\": \"Arial, sans-serif\"}}}, {\"showLink\": true, \"linkText\": \"Export to plot.ly\"})});</script>"
      ]
     },
     "metadata": {},
     "output_type": "display_data"
    },
    {
     "data": {
      "application/vnd.plotly.v1+json": {
       "data": [
        {
         "type": "bar",
         "uid": "b128a3c4-e51b-11e8-9c04-616182ad9bd4",
         "x": [
          "ARIANA",
          "DERCELINO",
          "LADIMAR",
          "NARRIDA",
          "OSIMEIRE",
          "ALDO",
          "DALADIER",
          "EUCLELIA",
          "LEOLINA",
          "LEUDINEIA",
          "OTACILENE",
          "SUE",
          "VINCENZA",
          "ADILSON",
          "AGNEL",
          "EZITO",
          "NAGIME",
          "SUERLEN",
          "DAISON",
          "EDALINA"
         ],
         "y": [
          1,
          1,
          1,
          1,
          1,
          2,
          2,
          2,
          2,
          2,
          2,
          2,
          2,
          3,
          3,
          3,
          3,
          3,
          4,
          4
         ]
        }
       ],
       "layout": {
        "title": "Quantidade de alunos que fizeram as tarefas",
        "yaxis": {
         "dtick": 1,
         "exponentformat": "e",
         "gridcolor": "#bdbdbd",
         "showexponent": "all",
         "showticklabels": true,
         "tick0": 0,
         "titlefont": {
          "color": "lightgrey",
          "family": "Arial, sans-serif"
         }
        }
       }
      },
      "text/html": [
       "<div id=\"4a0dd9c0-c7ec-408a-9851-a0ad919fc07a\" style=\"height: 525px; width: 100%;\" class=\"plotly-graph-div\"></div><script type=\"text/javascript\">require([\"plotly\"], function(Plotly) { window.PLOTLYENV=window.PLOTLYENV || {};window.PLOTLYENV.BASE_URL=\"https://plot.ly\";Plotly.newPlot(\"4a0dd9c0-c7ec-408a-9851-a0ad919fc07a\", [{\"x\": [\"ARIANA\", \"DERCELINO\", \"LADIMAR\", \"NARRIDA\", \"OSIMEIRE\", \"ALDO\", \"DALADIER\", \"EUCLELIA\", \"LEOLINA\", \"LEUDINEIA\", \"OTACILENE\", \"SUE\", \"VINCENZA\", \"ADILSON\", \"AGNEL\", \"EZITO\", \"NAGIME\", \"SUERLEN\", \"DAISON\", \"EDALINA\"], \"y\": [1, 1, 1, 1, 1, 2, 2, 2, 2, 2, 2, 2, 2, 3, 3, 3, 3, 3, 4, 4], \"type\": \"bar\", \"uid\": \"b128a3c4-e51b-11e8-9c04-616182ad9bd4\"}], {\"title\": \"Quantidade de alunos que fizeram as tarefas\", \"yaxis\": {\"dtick\": 1, \"exponentformat\": \"e\", \"gridcolor\": \"#bdbdbd\", \"showexponent\": \"all\", \"showticklabels\": true, \"tick0\": 0, \"titlefont\": {\"color\": \"lightgrey\", \"family\": \"Arial, sans-serif\"}}}, {\"showLink\": true, \"linkText\": \"Export to plot.ly\"})});</script>"
      ],
      "text/vnd.plotly.v1+html": [
       "<div id=\"4a0dd9c0-c7ec-408a-9851-a0ad919fc07a\" style=\"height: 525px; width: 100%;\" class=\"plotly-graph-div\"></div><script type=\"text/javascript\">require([\"plotly\"], function(Plotly) { window.PLOTLYENV=window.PLOTLYENV || {};window.PLOTLYENV.BASE_URL=\"https://plot.ly\";Plotly.newPlot(\"4a0dd9c0-c7ec-408a-9851-a0ad919fc07a\", [{\"x\": [\"ARIANA\", \"DERCELINO\", \"LADIMAR\", \"NARRIDA\", \"OSIMEIRE\", \"ALDO\", \"DALADIER\", \"EUCLELIA\", \"LEOLINA\", \"LEUDINEIA\", \"OTACILENE\", \"SUE\", \"VINCENZA\", \"ADILSON\", \"AGNEL\", \"EZITO\", \"NAGIME\", \"SUERLEN\", \"DAISON\", \"EDALINA\"], \"y\": [1, 1, 1, 1, 1, 2, 2, 2, 2, 2, 2, 2, 2, 3, 3, 3, 3, 3, 4, 4], \"type\": \"bar\", \"uid\": \"b128a3c4-e51b-11e8-9c04-616182ad9bd4\"}], {\"title\": \"Quantidade de alunos que fizeram as tarefas\", \"yaxis\": {\"dtick\": 1, \"exponentformat\": \"e\", \"gridcolor\": \"#bdbdbd\", \"showexponent\": \"all\", \"showticklabels\": true, \"tick0\": 0, \"titlefont\": {\"color\": \"lightgrey\", \"family\": \"Arial, sans-serif\"}}}, {\"showLink\": true, \"linkText\": \"Export to plot.ly\"})});</script>"
      ]
     },
     "metadata": {},
     "output_type": "display_data"
    },
    {
     "data": {
      "application/vnd.plotly.v1+json": {
       "data": [
        {
         "marker": {
          "color": "rgb(0,0,255)",
          "line": {
           "width": 2
          },
          "size": [
           0,
           1,
           1,
           1
          ],
          "sizemode": "area",
          "sizeref": 0.01,
          "symbol": "circle"
         },
         "mode": "markers",
         "name": "ADILSON",
         "type": "scatter",
         "uid": "b148d964-e51b-11e8-9c04-616182ad9bd4",
         "x": [
          "ADILSON",
          "ADILSON",
          "ADILSON",
          "ADILSON",
          "ADILSON"
         ],
         "y": [
          "Assign1",
          "Assign2",
          "Assign3",
          "Assign4"
         ]
        },
        {
         "marker": {
          "color": "rgb(0,0,255)",
          "line": {
           "width": 2
          },
          "size": [
           0,
           1,
           1,
           1
          ],
          "sizemode": "area",
          "sizeref": 0.01,
          "symbol": "circle"
         },
         "mode": "markers",
         "name": "AGNEL",
         "type": "scatter",
         "uid": "b148db12-e51b-11e8-9c04-616182ad9bd4",
         "x": [
          "AGNEL",
          "AGNEL",
          "AGNEL",
          "AGNEL",
          "AGNEL"
         ],
         "y": [
          "Assign1",
          "Assign2",
          "Assign3",
          "Assign4"
         ]
        },
        {
         "marker": {
          "color": "rgb(0,0,255)",
          "line": {
           "width": 2
          },
          "size": [
           0,
           0,
           1,
           1
          ],
          "sizemode": "area",
          "sizeref": 0.01,
          "symbol": "circle"
         },
         "mode": "markers",
         "name": "ALDO",
         "type": "scatter",
         "uid": "b148dbee-e51b-11e8-9c04-616182ad9bd4",
         "x": [
          "ALDO",
          "ALDO",
          "ALDO",
          "ALDO",
          "ALDO"
         ],
         "y": [
          "Assign1",
          "Assign2",
          "Assign3",
          "Assign4"
         ]
        },
        {
         "marker": {
          "color": "rgb(0,0,255)",
          "line": {
           "width": 2
          },
          "size": [
           1,
           0,
           0,
           0
          ],
          "sizemode": "area",
          "sizeref": 0.01,
          "symbol": "circle"
         },
         "mode": "markers",
         "name": "ARIANA",
         "type": "scatter",
         "uid": "b148dcac-e51b-11e8-9c04-616182ad9bd4",
         "x": [
          "ARIANA",
          "ARIANA",
          "ARIANA",
          "ARIANA",
          "ARIANA"
         ],
         "y": [
          "Assign1",
          "Assign2",
          "Assign3",
          "Assign4"
         ]
        },
        {
         "marker": {
          "color": "rgb(0,0,255)",
          "line": {
           "width": 2
          },
          "size": [
           1,
           1,
           1,
           1
          ],
          "sizemode": "area",
          "sizeref": 0.01,
          "symbol": "circle"
         },
         "mode": "markers",
         "name": "DAISON",
         "type": "scatter",
         "uid": "b148dd4c-e51b-11e8-9c04-616182ad9bd4",
         "x": [
          "DAISON",
          "DAISON",
          "DAISON",
          "DAISON",
          "DAISON"
         ],
         "y": [
          "Assign1",
          "Assign2",
          "Assign3",
          "Assign4"
         ]
        },
        {
         "marker": {
          "color": "rgb(0,0,255)",
          "line": {
           "width": 2
          },
          "size": [
           1,
           0,
           1,
           0
          ],
          "sizemode": "area",
          "sizeref": 0.01,
          "symbol": "circle"
         },
         "mode": "markers",
         "name": "DALADIER",
         "type": "scatter",
         "uid": "b148dde2-e51b-11e8-9c04-616182ad9bd4",
         "x": [
          "DALADIER",
          "DALADIER",
          "DALADIER",
          "DALADIER",
          "DALADIER"
         ],
         "y": [
          "Assign1",
          "Assign2",
          "Assign3",
          "Assign4"
         ]
        },
        {
         "marker": {
          "color": "rgb(0,0,255)",
          "line": {
           "width": 2
          },
          "size": [
           0,
           0,
           1,
           0
          ],
          "sizemode": "area",
          "sizeref": 0.01,
          "symbol": "circle"
         },
         "mode": "markers",
         "name": "DERCELINO",
         "type": "scatter",
         "uid": "b148de78-e51b-11e8-9c04-616182ad9bd4",
         "x": [
          "DERCELINO",
          "DERCELINO",
          "DERCELINO",
          "DERCELINO",
          "DERCELINO"
         ],
         "y": [
          "Assign1",
          "Assign2",
          "Assign3",
          "Assign4"
         ]
        },
        {
         "marker": {
          "color": "rgb(0,0,255)",
          "line": {
           "width": 2
          },
          "size": [
           1,
           1,
           1,
           1
          ],
          "sizemode": "area",
          "sizeref": 0.01,
          "symbol": "circle"
         },
         "mode": "markers",
         "name": "EDALINA",
         "type": "scatter",
         "uid": "b148df04-e51b-11e8-9c04-616182ad9bd4",
         "x": [
          "EDALINA",
          "EDALINA",
          "EDALINA",
          "EDALINA",
          "EDALINA"
         ],
         "y": [
          "Assign1",
          "Assign2",
          "Assign3",
          "Assign4"
         ]
        },
        {
         "marker": {
          "color": "rgb(0,0,255)",
          "line": {
           "width": 2
          },
          "size": [
           0,
           1,
           0,
           1
          ],
          "sizemode": "area",
          "sizeref": 0.01,
          "symbol": "circle"
         },
         "mode": "markers",
         "name": "EUCLELIA",
         "type": "scatter",
         "uid": "b148df9a-e51b-11e8-9c04-616182ad9bd4",
         "x": [
          "EUCLELIA",
          "EUCLELIA",
          "EUCLELIA",
          "EUCLELIA",
          "EUCLELIA"
         ],
         "y": [
          "Assign1",
          "Assign2",
          "Assign3",
          "Assign4"
         ]
        },
        {
         "marker": {
          "color": "rgb(0,0,255)",
          "line": {
           "width": 2
          },
          "size": [
           1,
           1,
           1,
           0
          ],
          "sizemode": "area",
          "sizeref": 0.01,
          "symbol": "circle"
         },
         "mode": "markers",
         "name": "EZITO",
         "type": "scatter",
         "uid": "b148e026-e51b-11e8-9c04-616182ad9bd4",
         "x": [
          "EZITO",
          "EZITO",
          "EZITO",
          "EZITO",
          "EZITO"
         ],
         "y": [
          "Assign1",
          "Assign2",
          "Assign3",
          "Assign4"
         ]
        },
        {
         "marker": {
          "color": "rgb(0,0,255)",
          "line": {
           "width": 2
          },
          "size": [
           0,
           0,
           0,
           1
          ],
          "sizemode": "area",
          "sizeref": 0.01,
          "symbol": "circle"
         },
         "mode": "markers",
         "name": "LADIMAR",
         "type": "scatter",
         "uid": "b148e0bc-e51b-11e8-9c04-616182ad9bd4",
         "x": [
          "LADIMAR",
          "LADIMAR",
          "LADIMAR",
          "LADIMAR",
          "LADIMAR"
         ],
         "y": [
          "Assign1",
          "Assign2",
          "Assign3",
          "Assign4"
         ]
        },
        {
         "marker": {
          "color": "rgb(0,0,255)",
          "line": {
           "width": 2
          },
          "size": [
           1,
           1,
           0,
           0
          ],
          "sizemode": "area",
          "sizeref": 0.01,
          "symbol": "circle"
         },
         "mode": "markers",
         "name": "LEOLINA",
         "type": "scatter",
         "uid": "b148e152-e51b-11e8-9c04-616182ad9bd4",
         "x": [
          "LEOLINA",
          "LEOLINA",
          "LEOLINA",
          "LEOLINA",
          "LEOLINA"
         ],
         "y": [
          "Assign1",
          "Assign2",
          "Assign3",
          "Assign4"
         ]
        },
        {
         "marker": {
          "color": "rgb(0,0,255)",
          "line": {
           "width": 2
          },
          "size": [
           1,
           0,
           0,
           1
          ],
          "sizemode": "area",
          "sizeref": 0.01,
          "symbol": "circle"
         },
         "mode": "markers",
         "name": "LEUDINEIA",
         "type": "scatter",
         "uid": "b148e1de-e51b-11e8-9c04-616182ad9bd4",
         "x": [
          "LEUDINEIA",
          "LEUDINEIA",
          "LEUDINEIA",
          "LEUDINEIA",
          "LEUDINEIA"
         ],
         "y": [
          "Assign1",
          "Assign2",
          "Assign3",
          "Assign4"
         ]
        },
        {
         "marker": {
          "color": "rgb(0,0,255)",
          "line": {
           "width": 2
          },
          "size": [
           1,
           0,
           1,
           1
          ],
          "sizemode": "area",
          "sizeref": 0.01,
          "symbol": "circle"
         },
         "mode": "markers",
         "name": "NAGIME",
         "type": "scatter",
         "uid": "b148e26a-e51b-11e8-9c04-616182ad9bd4",
         "x": [
          "NAGIME",
          "NAGIME",
          "NAGIME",
          "NAGIME",
          "NAGIME"
         ],
         "y": [
          "Assign1",
          "Assign2",
          "Assign3",
          "Assign4"
         ]
        },
        {
         "marker": {
          "color": "rgb(0,0,255)",
          "line": {
           "width": 2
          },
          "size": [
           1,
           0,
           0,
           0
          ],
          "sizemode": "area",
          "sizeref": 0.01,
          "symbol": "circle"
         },
         "mode": "markers",
         "name": "NARRIDA",
         "type": "scatter",
         "uid": "b148e2f6-e51b-11e8-9c04-616182ad9bd4",
         "x": [
          "NARRIDA",
          "NARRIDA",
          "NARRIDA",
          "NARRIDA",
          "NARRIDA"
         ],
         "y": [
          "Assign1",
          "Assign2",
          "Assign3",
          "Assign4"
         ]
        },
        {
         "marker": {
          "color": "rgb(0,0,255)",
          "line": {
           "width": 2
          },
          "size": [
           1,
           0,
           0,
           0
          ],
          "sizemode": "area",
          "sizeref": 0.01,
          "symbol": "circle"
         },
         "mode": "markers",
         "name": "OSIMEIRE",
         "type": "scatter",
         "uid": "b148e382-e51b-11e8-9c04-616182ad9bd4",
         "x": [
          "OSIMEIRE",
          "OSIMEIRE",
          "OSIMEIRE",
          "OSIMEIRE",
          "OSIMEIRE"
         ],
         "y": [
          "Assign1",
          "Assign2",
          "Assign3",
          "Assign4"
         ]
        },
        {
         "marker": {
          "color": "rgb(0,0,255)",
          "line": {
           "width": 2
          },
          "size": [
           1,
           1,
           0,
           0
          ],
          "sizemode": "area",
          "sizeref": 0.01,
          "symbol": "circle"
         },
         "mode": "markers",
         "name": "OTACILENE",
         "type": "scatter",
         "uid": "b148e40e-e51b-11e8-9c04-616182ad9bd4",
         "x": [
          "OTACILENE",
          "OTACILENE",
          "OTACILENE",
          "OTACILENE",
          "OTACILENE"
         ],
         "y": [
          "Assign1",
          "Assign2",
          "Assign3",
          "Assign4"
         ]
        },
        {
         "marker": {
          "color": "rgb(0,0,255)",
          "line": {
           "width": 2
          },
          "size": [
           0,
           0,
           1,
           1
          ],
          "sizemode": "area",
          "sizeref": 0.01,
          "symbol": "circle"
         },
         "mode": "markers",
         "name": "SUE",
         "type": "scatter",
         "uid": "b148e490-e51b-11e8-9c04-616182ad9bd4",
         "x": [
          "SUE",
          "SUE",
          "SUE",
          "SUE",
          "SUE"
         ],
         "y": [
          "Assign1",
          "Assign2",
          "Assign3",
          "Assign4"
         ]
        },
        {
         "marker": {
          "color": "rgb(0,0,255)",
          "line": {
           "width": 2
          },
          "size": [
           1,
           1,
           1,
           0
          ],
          "sizemode": "area",
          "sizeref": 0.01,
          "symbol": "circle"
         },
         "mode": "markers",
         "name": "SUERLEN",
         "type": "scatter",
         "uid": "b148e51c-e51b-11e8-9c04-616182ad9bd4",
         "x": [
          "SUERLEN",
          "SUERLEN",
          "SUERLEN",
          "SUERLEN",
          "SUERLEN"
         ],
         "y": [
          "Assign1",
          "Assign2",
          "Assign3",
          "Assign4"
         ]
        },
        {
         "marker": {
          "color": "rgb(0,0,255)",
          "line": {
           "width": 2
          },
          "size": [
           1,
           1,
           0,
           0
          ],
          "sizemode": "area",
          "sizeref": 0.01,
          "symbol": "circle"
         },
         "mode": "markers",
         "name": "VINCENZA",
         "type": "scatter",
         "uid": "b148e59e-e51b-11e8-9c04-616182ad9bd4",
         "x": [
          "VINCENZA",
          "VINCENZA",
          "VINCENZA",
          "VINCENZA",
          "VINCENZA"
         ],
         "y": [
          "Assign1",
          "Assign2",
          "Assign3",
          "Assign4"
         ]
        }
       ],
       "layout": {
        "hovermode": "closest",
        "showlegend": true,
        "title": "Atividades feitas por estudante",
        "xaxis": {
         "autorange": false,
         "fixedrange": false,
         "range": [
          -1,
          20
         ],
         "rangemode": "normal",
         "showline": true,
         "title": "Estudantes",
         "type": "category"
        },
        "yaxis": {
         "autorange": false,
         "categoryorder": "category ascending",
         "fixedrange": false,
         "range": [
          -1,
          4
         ],
         "rangemode": "normal",
         "showline": true,
         "title": "Atividades",
         "type": "category"
        }
       }
      },
      "text/html": [
       "<div id=\"c6805860-9fc8-4185-89db-ecde52fa380e\" style=\"height: 525px; width: 100%;\" class=\"plotly-graph-div\"></div><script type=\"text/javascript\">require([\"plotly\"], function(Plotly) { window.PLOTLYENV=window.PLOTLYENV || {};window.PLOTLYENV.BASE_URL=\"https://plot.ly\";Plotly.newPlot(\"c6805860-9fc8-4185-89db-ecde52fa380e\", [{\"marker\": {\"color\": \"rgb(0,0,255)\", \"line\": {\"width\": 2}, \"size\": [0, 1, 1, 1], \"sizemode\": \"area\", \"sizeref\": 0.01, \"symbol\": \"circle\"}, \"mode\": \"markers\", \"name\": \"ADILSON\", \"x\": [\"ADILSON\", \"ADILSON\", \"ADILSON\", \"ADILSON\", \"ADILSON\"], \"y\": [\"Assign1\", \"Assign2\", \"Assign3\", \"Assign4\"], \"type\": \"scatter\", \"uid\": \"b148d964-e51b-11e8-9c04-616182ad9bd4\"}, {\"marker\": {\"color\": \"rgb(0,0,255)\", \"line\": {\"width\": 2}, \"size\": [0, 1, 1, 1], \"sizemode\": \"area\", \"sizeref\": 0.01, \"symbol\": \"circle\"}, \"mode\": \"markers\", \"name\": \"AGNEL\", \"x\": [\"AGNEL\", \"AGNEL\", \"AGNEL\", \"AGNEL\", \"AGNEL\"], \"y\": [\"Assign1\", \"Assign2\", \"Assign3\", \"Assign4\"], \"type\": \"scatter\", \"uid\": \"b148db12-e51b-11e8-9c04-616182ad9bd4\"}, {\"marker\": {\"color\": \"rgb(0,0,255)\", \"line\": {\"width\": 2}, \"size\": [0, 0, 1, 1], \"sizemode\": \"area\", \"sizeref\": 0.01, \"symbol\": \"circle\"}, \"mode\": \"markers\", \"name\": \"ALDO\", \"x\": [\"ALDO\", \"ALDO\", \"ALDO\", \"ALDO\", \"ALDO\"], \"y\": [\"Assign1\", \"Assign2\", \"Assign3\", \"Assign4\"], \"type\": \"scatter\", \"uid\": \"b148dbee-e51b-11e8-9c04-616182ad9bd4\"}, {\"marker\": {\"color\": \"rgb(0,0,255)\", \"line\": {\"width\": 2}, \"size\": [1, 0, 0, 0], \"sizemode\": \"area\", \"sizeref\": 0.01, \"symbol\": \"circle\"}, \"mode\": \"markers\", \"name\": \"ARIANA\", \"x\": [\"ARIANA\", \"ARIANA\", \"ARIANA\", \"ARIANA\", \"ARIANA\"], \"y\": [\"Assign1\", \"Assign2\", \"Assign3\", \"Assign4\"], \"type\": \"scatter\", \"uid\": \"b148dcac-e51b-11e8-9c04-616182ad9bd4\"}, {\"marker\": {\"color\": \"rgb(0,0,255)\", \"line\": {\"width\": 2}, \"size\": [1, 1, 1, 1], \"sizemode\": \"area\", \"sizeref\": 0.01, \"symbol\": \"circle\"}, \"mode\": \"markers\", \"name\": \"DAISON\", \"x\": [\"DAISON\", \"DAISON\", \"DAISON\", \"DAISON\", \"DAISON\"], \"y\": [\"Assign1\", \"Assign2\", \"Assign3\", \"Assign4\"], \"type\": \"scatter\", \"uid\": \"b148dd4c-e51b-11e8-9c04-616182ad9bd4\"}, {\"marker\": {\"color\": \"rgb(0,0,255)\", \"line\": {\"width\": 2}, \"size\": [1, 0, 1, 0], \"sizemode\": \"area\", \"sizeref\": 0.01, \"symbol\": \"circle\"}, \"mode\": \"markers\", \"name\": \"DALADIER\", \"x\": [\"DALADIER\", \"DALADIER\", \"DALADIER\", \"DALADIER\", \"DALADIER\"], \"y\": [\"Assign1\", \"Assign2\", \"Assign3\", \"Assign4\"], \"type\": \"scatter\", \"uid\": \"b148dde2-e51b-11e8-9c04-616182ad9bd4\"}, {\"marker\": {\"color\": \"rgb(0,0,255)\", \"line\": {\"width\": 2}, \"size\": [0, 0, 1, 0], \"sizemode\": \"area\", \"sizeref\": 0.01, \"symbol\": \"circle\"}, \"mode\": \"markers\", \"name\": \"DERCELINO\", \"x\": [\"DERCELINO\", \"DERCELINO\", \"DERCELINO\", \"DERCELINO\", \"DERCELINO\"], \"y\": [\"Assign1\", \"Assign2\", \"Assign3\", \"Assign4\"], \"type\": \"scatter\", \"uid\": \"b148de78-e51b-11e8-9c04-616182ad9bd4\"}, {\"marker\": {\"color\": \"rgb(0,0,255)\", \"line\": {\"width\": 2}, \"size\": [1, 1, 1, 1], \"sizemode\": \"area\", \"sizeref\": 0.01, \"symbol\": \"circle\"}, \"mode\": \"markers\", \"name\": \"EDALINA\", \"x\": [\"EDALINA\", \"EDALINA\", \"EDALINA\", \"EDALINA\", \"EDALINA\"], \"y\": [\"Assign1\", \"Assign2\", \"Assign3\", \"Assign4\"], \"type\": \"scatter\", \"uid\": \"b148df04-e51b-11e8-9c04-616182ad9bd4\"}, {\"marker\": {\"color\": \"rgb(0,0,255)\", \"line\": {\"width\": 2}, \"size\": [0, 1, 0, 1], \"sizemode\": \"area\", \"sizeref\": 0.01, \"symbol\": \"circle\"}, \"mode\": \"markers\", \"name\": \"EUCLELIA\", \"x\": [\"EUCLELIA\", \"EUCLELIA\", \"EUCLELIA\", \"EUCLELIA\", \"EUCLELIA\"], \"y\": [\"Assign1\", \"Assign2\", \"Assign3\", \"Assign4\"], \"type\": \"scatter\", \"uid\": \"b148df9a-e51b-11e8-9c04-616182ad9bd4\"}, {\"marker\": {\"color\": \"rgb(0,0,255)\", \"line\": {\"width\": 2}, \"size\": [1, 1, 1, 0], \"sizemode\": \"area\", \"sizeref\": 0.01, \"symbol\": \"circle\"}, \"mode\": \"markers\", \"name\": \"EZITO\", \"x\": [\"EZITO\", \"EZITO\", \"EZITO\", \"EZITO\", \"EZITO\"], \"y\": [\"Assign1\", \"Assign2\", \"Assign3\", \"Assign4\"], \"type\": \"scatter\", \"uid\": \"b148e026-e51b-11e8-9c04-616182ad9bd4\"}, {\"marker\": {\"color\": \"rgb(0,0,255)\", \"line\": {\"width\": 2}, \"size\": [0, 0, 0, 1], \"sizemode\": \"area\", \"sizeref\": 0.01, \"symbol\": \"circle\"}, \"mode\": \"markers\", \"name\": \"LADIMAR\", \"x\": [\"LADIMAR\", \"LADIMAR\", \"LADIMAR\", \"LADIMAR\", \"LADIMAR\"], \"y\": [\"Assign1\", \"Assign2\", \"Assign3\", \"Assign4\"], \"type\": \"scatter\", \"uid\": \"b148e0bc-e51b-11e8-9c04-616182ad9bd4\"}, {\"marker\": {\"color\": \"rgb(0,0,255)\", \"line\": {\"width\": 2}, \"size\": [1, 1, 0, 0], \"sizemode\": \"area\", \"sizeref\": 0.01, \"symbol\": \"circle\"}, \"mode\": \"markers\", \"name\": \"LEOLINA\", \"x\": [\"LEOLINA\", \"LEOLINA\", \"LEOLINA\", \"LEOLINA\", \"LEOLINA\"], \"y\": [\"Assign1\", \"Assign2\", \"Assign3\", \"Assign4\"], \"type\": \"scatter\", \"uid\": \"b148e152-e51b-11e8-9c04-616182ad9bd4\"}, {\"marker\": {\"color\": \"rgb(0,0,255)\", \"line\": {\"width\": 2}, \"size\": [1, 0, 0, 1], \"sizemode\": \"area\", \"sizeref\": 0.01, \"symbol\": \"circle\"}, \"mode\": \"markers\", \"name\": \"LEUDINEIA\", \"x\": [\"LEUDINEIA\", \"LEUDINEIA\", \"LEUDINEIA\", \"LEUDINEIA\", \"LEUDINEIA\"], \"y\": [\"Assign1\", \"Assign2\", \"Assign3\", \"Assign4\"], \"type\": \"scatter\", \"uid\": \"b148e1de-e51b-11e8-9c04-616182ad9bd4\"}, {\"marker\": {\"color\": \"rgb(0,0,255)\", \"line\": {\"width\": 2}, \"size\": [1, 0, 1, 1], \"sizemode\": \"area\", \"sizeref\": 0.01, \"symbol\": \"circle\"}, \"mode\": \"markers\", \"name\": \"NAGIME\", \"x\": [\"NAGIME\", \"NAGIME\", \"NAGIME\", \"NAGIME\", \"NAGIME\"], \"y\": [\"Assign1\", \"Assign2\", \"Assign3\", \"Assign4\"], \"type\": \"scatter\", \"uid\": \"b148e26a-e51b-11e8-9c04-616182ad9bd4\"}, {\"marker\": {\"color\": \"rgb(0,0,255)\", \"line\": {\"width\": 2}, \"size\": [1, 0, 0, 0], \"sizemode\": \"area\", \"sizeref\": 0.01, \"symbol\": \"circle\"}, \"mode\": \"markers\", \"name\": \"NARRIDA\", \"x\": [\"NARRIDA\", \"NARRIDA\", \"NARRIDA\", \"NARRIDA\", \"NARRIDA\"], \"y\": [\"Assign1\", \"Assign2\", \"Assign3\", \"Assign4\"], \"type\": \"scatter\", \"uid\": \"b148e2f6-e51b-11e8-9c04-616182ad9bd4\"}, {\"marker\": {\"color\": \"rgb(0,0,255)\", \"line\": {\"width\": 2}, \"size\": [1, 0, 0, 0], \"sizemode\": \"area\", \"sizeref\": 0.01, \"symbol\": \"circle\"}, \"mode\": \"markers\", \"name\": \"OSIMEIRE\", \"x\": [\"OSIMEIRE\", \"OSIMEIRE\", \"OSIMEIRE\", \"OSIMEIRE\", \"OSIMEIRE\"], \"y\": [\"Assign1\", \"Assign2\", \"Assign3\", \"Assign4\"], \"type\": \"scatter\", \"uid\": \"b148e382-e51b-11e8-9c04-616182ad9bd4\"}, {\"marker\": {\"color\": \"rgb(0,0,255)\", \"line\": {\"width\": 2}, \"size\": [1, 1, 0, 0], \"sizemode\": \"area\", \"sizeref\": 0.01, \"symbol\": \"circle\"}, \"mode\": \"markers\", \"name\": \"OTACILENE\", \"x\": [\"OTACILENE\", \"OTACILENE\", \"OTACILENE\", \"OTACILENE\", \"OTACILENE\"], \"y\": [\"Assign1\", \"Assign2\", \"Assign3\", \"Assign4\"], \"type\": \"scatter\", \"uid\": \"b148e40e-e51b-11e8-9c04-616182ad9bd4\"}, {\"marker\": {\"color\": \"rgb(0,0,255)\", \"line\": {\"width\": 2}, \"size\": [0, 0, 1, 1], \"sizemode\": \"area\", \"sizeref\": 0.01, \"symbol\": \"circle\"}, \"mode\": \"markers\", \"name\": \"SUE\", \"x\": [\"SUE\", \"SUE\", \"SUE\", \"SUE\", \"SUE\"], \"y\": [\"Assign1\", \"Assign2\", \"Assign3\", \"Assign4\"], \"type\": \"scatter\", \"uid\": \"b148e490-e51b-11e8-9c04-616182ad9bd4\"}, {\"marker\": {\"color\": \"rgb(0,0,255)\", \"line\": {\"width\": 2}, \"size\": [1, 1, 1, 0], \"sizemode\": \"area\", \"sizeref\": 0.01, \"symbol\": \"circle\"}, \"mode\": \"markers\", \"name\": \"SUERLEN\", \"x\": [\"SUERLEN\", \"SUERLEN\", \"SUERLEN\", \"SUERLEN\", \"SUERLEN\"], \"y\": [\"Assign1\", \"Assign2\", \"Assign3\", \"Assign4\"], \"type\": \"scatter\", \"uid\": \"b148e51c-e51b-11e8-9c04-616182ad9bd4\"}, {\"marker\": {\"color\": \"rgb(0,0,255)\", \"line\": {\"width\": 2}, \"size\": [1, 1, 0, 0], \"sizemode\": \"area\", \"sizeref\": 0.01, \"symbol\": \"circle\"}, \"mode\": \"markers\", \"name\": \"VINCENZA\", \"x\": [\"VINCENZA\", \"VINCENZA\", \"VINCENZA\", \"VINCENZA\", \"VINCENZA\"], \"y\": [\"Assign1\", \"Assign2\", \"Assign3\", \"Assign4\"], \"type\": \"scatter\", \"uid\": \"b148e59e-e51b-11e8-9c04-616182ad9bd4\"}], {\"hovermode\": \"closest\", \"showlegend\": true, \"title\": \"Atividades feitas por estudante\", \"xaxis\": {\"autorange\": false, \"fixedrange\": false, \"range\": [-1, 20], \"rangemode\": \"normal\", \"showline\": true, \"title\": \"Estudantes\", \"type\": \"category\"}, \"yaxis\": {\"autorange\": false, \"categoryorder\": \"category ascending\", \"fixedrange\": false, \"range\": [-1, 4], \"rangemode\": \"normal\", \"showline\": true, \"title\": \"Atividades\", \"type\": \"category\"}}, {\"showLink\": true, \"linkText\": \"Export to plot.ly\"})});</script>"
      ],
      "text/vnd.plotly.v1+html": [
       "<div id=\"c6805860-9fc8-4185-89db-ecde52fa380e\" style=\"height: 525px; width: 100%;\" class=\"plotly-graph-div\"></div><script type=\"text/javascript\">require([\"plotly\"], function(Plotly) { window.PLOTLYENV=window.PLOTLYENV || {};window.PLOTLYENV.BASE_URL=\"https://plot.ly\";Plotly.newPlot(\"c6805860-9fc8-4185-89db-ecde52fa380e\", [{\"marker\": {\"color\": \"rgb(0,0,255)\", \"line\": {\"width\": 2}, \"size\": [0, 1, 1, 1], \"sizemode\": \"area\", \"sizeref\": 0.01, \"symbol\": \"circle\"}, \"mode\": \"markers\", \"name\": \"ADILSON\", \"x\": [\"ADILSON\", \"ADILSON\", \"ADILSON\", \"ADILSON\", \"ADILSON\"], \"y\": [\"Assign1\", \"Assign2\", \"Assign3\", \"Assign4\"], \"type\": \"scatter\", \"uid\": \"b148d964-e51b-11e8-9c04-616182ad9bd4\"}, {\"marker\": {\"color\": \"rgb(0,0,255)\", \"line\": {\"width\": 2}, \"size\": [0, 1, 1, 1], \"sizemode\": \"area\", \"sizeref\": 0.01, \"symbol\": \"circle\"}, \"mode\": \"markers\", \"name\": \"AGNEL\", \"x\": [\"AGNEL\", \"AGNEL\", \"AGNEL\", \"AGNEL\", \"AGNEL\"], \"y\": [\"Assign1\", \"Assign2\", \"Assign3\", \"Assign4\"], \"type\": \"scatter\", \"uid\": \"b148db12-e51b-11e8-9c04-616182ad9bd4\"}, {\"marker\": {\"color\": \"rgb(0,0,255)\", \"line\": {\"width\": 2}, \"size\": [0, 0, 1, 1], \"sizemode\": \"area\", \"sizeref\": 0.01, \"symbol\": \"circle\"}, \"mode\": \"markers\", \"name\": \"ALDO\", \"x\": [\"ALDO\", \"ALDO\", \"ALDO\", \"ALDO\", \"ALDO\"], \"y\": [\"Assign1\", \"Assign2\", \"Assign3\", \"Assign4\"], \"type\": \"scatter\", \"uid\": \"b148dbee-e51b-11e8-9c04-616182ad9bd4\"}, {\"marker\": {\"color\": \"rgb(0,0,255)\", \"line\": {\"width\": 2}, \"size\": [1, 0, 0, 0], \"sizemode\": \"area\", \"sizeref\": 0.01, \"symbol\": \"circle\"}, \"mode\": \"markers\", \"name\": \"ARIANA\", \"x\": [\"ARIANA\", \"ARIANA\", \"ARIANA\", \"ARIANA\", \"ARIANA\"], \"y\": [\"Assign1\", \"Assign2\", \"Assign3\", \"Assign4\"], \"type\": \"scatter\", \"uid\": \"b148dcac-e51b-11e8-9c04-616182ad9bd4\"}, {\"marker\": {\"color\": \"rgb(0,0,255)\", \"line\": {\"width\": 2}, \"size\": [1, 1, 1, 1], \"sizemode\": \"area\", \"sizeref\": 0.01, \"symbol\": \"circle\"}, \"mode\": \"markers\", \"name\": \"DAISON\", \"x\": [\"DAISON\", \"DAISON\", \"DAISON\", \"DAISON\", \"DAISON\"], \"y\": [\"Assign1\", \"Assign2\", \"Assign3\", \"Assign4\"], \"type\": \"scatter\", \"uid\": \"b148dd4c-e51b-11e8-9c04-616182ad9bd4\"}, {\"marker\": {\"color\": \"rgb(0,0,255)\", \"line\": {\"width\": 2}, \"size\": [1, 0, 1, 0], \"sizemode\": \"area\", \"sizeref\": 0.01, \"symbol\": \"circle\"}, \"mode\": \"markers\", \"name\": \"DALADIER\", \"x\": [\"DALADIER\", \"DALADIER\", \"DALADIER\", \"DALADIER\", \"DALADIER\"], \"y\": [\"Assign1\", \"Assign2\", \"Assign3\", \"Assign4\"], \"type\": \"scatter\", \"uid\": \"b148dde2-e51b-11e8-9c04-616182ad9bd4\"}, {\"marker\": {\"color\": \"rgb(0,0,255)\", \"line\": {\"width\": 2}, \"size\": [0, 0, 1, 0], \"sizemode\": \"area\", \"sizeref\": 0.01, \"symbol\": \"circle\"}, \"mode\": \"markers\", \"name\": \"DERCELINO\", \"x\": [\"DERCELINO\", \"DERCELINO\", \"DERCELINO\", \"DERCELINO\", \"DERCELINO\"], \"y\": [\"Assign1\", \"Assign2\", \"Assign3\", \"Assign4\"], \"type\": \"scatter\", \"uid\": \"b148de78-e51b-11e8-9c04-616182ad9bd4\"}, {\"marker\": {\"color\": \"rgb(0,0,255)\", \"line\": {\"width\": 2}, \"size\": [1, 1, 1, 1], \"sizemode\": \"area\", \"sizeref\": 0.01, \"symbol\": \"circle\"}, \"mode\": \"markers\", \"name\": \"EDALINA\", \"x\": [\"EDALINA\", \"EDALINA\", \"EDALINA\", \"EDALINA\", \"EDALINA\"], \"y\": [\"Assign1\", \"Assign2\", \"Assign3\", \"Assign4\"], \"type\": \"scatter\", \"uid\": \"b148df04-e51b-11e8-9c04-616182ad9bd4\"}, {\"marker\": {\"color\": \"rgb(0,0,255)\", \"line\": {\"width\": 2}, \"size\": [0, 1, 0, 1], \"sizemode\": \"area\", \"sizeref\": 0.01, \"symbol\": \"circle\"}, \"mode\": \"markers\", \"name\": \"EUCLELIA\", \"x\": [\"EUCLELIA\", \"EUCLELIA\", \"EUCLELIA\", \"EUCLELIA\", \"EUCLELIA\"], \"y\": [\"Assign1\", \"Assign2\", \"Assign3\", \"Assign4\"], \"type\": \"scatter\", \"uid\": \"b148df9a-e51b-11e8-9c04-616182ad9bd4\"}, {\"marker\": {\"color\": \"rgb(0,0,255)\", \"line\": {\"width\": 2}, \"size\": [1, 1, 1, 0], \"sizemode\": \"area\", \"sizeref\": 0.01, \"symbol\": \"circle\"}, \"mode\": \"markers\", \"name\": \"EZITO\", \"x\": [\"EZITO\", \"EZITO\", \"EZITO\", \"EZITO\", \"EZITO\"], \"y\": [\"Assign1\", \"Assign2\", \"Assign3\", \"Assign4\"], \"type\": \"scatter\", \"uid\": \"b148e026-e51b-11e8-9c04-616182ad9bd4\"}, {\"marker\": {\"color\": \"rgb(0,0,255)\", \"line\": {\"width\": 2}, \"size\": [0, 0, 0, 1], \"sizemode\": \"area\", \"sizeref\": 0.01, \"symbol\": \"circle\"}, \"mode\": \"markers\", \"name\": \"LADIMAR\", \"x\": [\"LADIMAR\", \"LADIMAR\", \"LADIMAR\", \"LADIMAR\", \"LADIMAR\"], \"y\": [\"Assign1\", \"Assign2\", \"Assign3\", \"Assign4\"], \"type\": \"scatter\", \"uid\": \"b148e0bc-e51b-11e8-9c04-616182ad9bd4\"}, {\"marker\": {\"color\": \"rgb(0,0,255)\", \"line\": {\"width\": 2}, \"size\": [1, 1, 0, 0], \"sizemode\": \"area\", \"sizeref\": 0.01, \"symbol\": \"circle\"}, \"mode\": \"markers\", \"name\": \"LEOLINA\", \"x\": [\"LEOLINA\", \"LEOLINA\", \"LEOLINA\", \"LEOLINA\", \"LEOLINA\"], \"y\": [\"Assign1\", \"Assign2\", \"Assign3\", \"Assign4\"], \"type\": \"scatter\", \"uid\": \"b148e152-e51b-11e8-9c04-616182ad9bd4\"}, {\"marker\": {\"color\": \"rgb(0,0,255)\", \"line\": {\"width\": 2}, \"size\": [1, 0, 0, 1], \"sizemode\": \"area\", \"sizeref\": 0.01, \"symbol\": \"circle\"}, \"mode\": \"markers\", \"name\": \"LEUDINEIA\", \"x\": [\"LEUDINEIA\", \"LEUDINEIA\", \"LEUDINEIA\", \"LEUDINEIA\", \"LEUDINEIA\"], \"y\": [\"Assign1\", \"Assign2\", \"Assign3\", \"Assign4\"], \"type\": \"scatter\", \"uid\": \"b148e1de-e51b-11e8-9c04-616182ad9bd4\"}, {\"marker\": {\"color\": \"rgb(0,0,255)\", \"line\": {\"width\": 2}, \"size\": [1, 0, 1, 1], \"sizemode\": \"area\", \"sizeref\": 0.01, \"symbol\": \"circle\"}, \"mode\": \"markers\", \"name\": \"NAGIME\", \"x\": [\"NAGIME\", \"NAGIME\", \"NAGIME\", \"NAGIME\", \"NAGIME\"], \"y\": [\"Assign1\", \"Assign2\", \"Assign3\", \"Assign4\"], \"type\": \"scatter\", \"uid\": \"b148e26a-e51b-11e8-9c04-616182ad9bd4\"}, {\"marker\": {\"color\": \"rgb(0,0,255)\", \"line\": {\"width\": 2}, \"size\": [1, 0, 0, 0], \"sizemode\": \"area\", \"sizeref\": 0.01, \"symbol\": \"circle\"}, \"mode\": \"markers\", \"name\": \"NARRIDA\", \"x\": [\"NARRIDA\", \"NARRIDA\", \"NARRIDA\", \"NARRIDA\", \"NARRIDA\"], \"y\": [\"Assign1\", \"Assign2\", \"Assign3\", \"Assign4\"], \"type\": \"scatter\", \"uid\": \"b148e2f6-e51b-11e8-9c04-616182ad9bd4\"}, {\"marker\": {\"color\": \"rgb(0,0,255)\", \"line\": {\"width\": 2}, \"size\": [1, 0, 0, 0], \"sizemode\": \"area\", \"sizeref\": 0.01, \"symbol\": \"circle\"}, \"mode\": \"markers\", \"name\": \"OSIMEIRE\", \"x\": [\"OSIMEIRE\", \"OSIMEIRE\", \"OSIMEIRE\", \"OSIMEIRE\", \"OSIMEIRE\"], \"y\": [\"Assign1\", \"Assign2\", \"Assign3\", \"Assign4\"], \"type\": \"scatter\", \"uid\": \"b148e382-e51b-11e8-9c04-616182ad9bd4\"}, {\"marker\": {\"color\": \"rgb(0,0,255)\", \"line\": {\"width\": 2}, \"size\": [1, 1, 0, 0], \"sizemode\": \"area\", \"sizeref\": 0.01, \"symbol\": \"circle\"}, \"mode\": \"markers\", \"name\": \"OTACILENE\", \"x\": [\"OTACILENE\", \"OTACILENE\", \"OTACILENE\", \"OTACILENE\", \"OTACILENE\"], \"y\": [\"Assign1\", \"Assign2\", \"Assign3\", \"Assign4\"], \"type\": \"scatter\", \"uid\": \"b148e40e-e51b-11e8-9c04-616182ad9bd4\"}, {\"marker\": {\"color\": \"rgb(0,0,255)\", \"line\": {\"width\": 2}, \"size\": [0, 0, 1, 1], \"sizemode\": \"area\", \"sizeref\": 0.01, \"symbol\": \"circle\"}, \"mode\": \"markers\", \"name\": \"SUE\", \"x\": [\"SUE\", \"SUE\", \"SUE\", \"SUE\", \"SUE\"], \"y\": [\"Assign1\", \"Assign2\", \"Assign3\", \"Assign4\"], \"type\": \"scatter\", \"uid\": \"b148e490-e51b-11e8-9c04-616182ad9bd4\"}, {\"marker\": {\"color\": \"rgb(0,0,255)\", \"line\": {\"width\": 2}, \"size\": [1, 1, 1, 0], \"sizemode\": \"area\", \"sizeref\": 0.01, \"symbol\": \"circle\"}, \"mode\": \"markers\", \"name\": \"SUERLEN\", \"x\": [\"SUERLEN\", \"SUERLEN\", \"SUERLEN\", \"SUERLEN\", \"SUERLEN\"], \"y\": [\"Assign1\", \"Assign2\", \"Assign3\", \"Assign4\"], \"type\": \"scatter\", \"uid\": \"b148e51c-e51b-11e8-9c04-616182ad9bd4\"}, {\"marker\": {\"color\": \"rgb(0,0,255)\", \"line\": {\"width\": 2}, \"size\": [1, 1, 0, 0], \"sizemode\": \"area\", \"sizeref\": 0.01, \"symbol\": \"circle\"}, \"mode\": \"markers\", \"name\": \"VINCENZA\", \"x\": [\"VINCENZA\", \"VINCENZA\", \"VINCENZA\", \"VINCENZA\", \"VINCENZA\"], \"y\": [\"Assign1\", \"Assign2\", \"Assign3\", \"Assign4\"], \"type\": \"scatter\", \"uid\": \"b148e59e-e51b-11e8-9c04-616182ad9bd4\"}], {\"hovermode\": \"closest\", \"showlegend\": true, \"title\": \"Atividades feitas por estudante\", \"xaxis\": {\"autorange\": false, \"fixedrange\": false, \"range\": [-1, 20], \"rangemode\": \"normal\", \"showline\": true, \"title\": \"Estudantes\", \"type\": \"category\"}, \"yaxis\": {\"autorange\": false, \"categoryorder\": \"category ascending\", \"fixedrange\": false, \"range\": [-1, 4], \"rangemode\": \"normal\", \"showline\": true, \"title\": \"Atividades\", \"type\": \"category\"}}, {\"showLink\": true, \"linkText\": \"Export to plot.ly\"})});</script>"
      ]
     },
     "metadata": {},
     "output_type": "display_data"
    },
    {
     "data": {
      "application/vnd.plotly.v1+json": {
       "data": [
        {
         "colorscale": [
          [
           0,
           "rgb(255,255,255)"
          ],
          [
           1,
           "rgb(0,0,255)"
          ]
         ],
         "showscale": false,
         "type": "heatmap",
         "uid": "b14df2aa-e51b-11e8-9c04-616182ad9bd4",
         "x": [
          "ADILSON",
          "AGNEL",
          "ALDO",
          "ARIANA",
          "DAISON",
          "DALADIER",
          "DERCELINO",
          "EDALINA",
          "EUCLELIA",
          "EZITO",
          "LADIMAR",
          "LEOLINA",
          "LEUDINEIA",
          "NAGIME",
          "NARRIDA",
          "OSIMEIRE",
          "OTACILENE",
          "SUE",
          "SUERLEN",
          "VINCENZA"
         ],
         "y": [
          "Assign1",
          "Assign2",
          "Assign3",
          "Assign4"
         ],
         "z": [
          [
           0,
           0,
           0,
           1,
           1,
           1,
           0,
           1,
           0,
           1,
           0,
           1,
           1,
           1,
           1,
           1,
           1,
           0,
           1,
           1
          ],
          [
           1,
           1,
           0,
           0,
           1,
           0,
           0,
           1,
           1,
           1,
           0,
           1,
           0,
           0,
           0,
           0,
           1,
           0,
           1,
           1
          ],
          [
           1,
           1,
           1,
           0,
           1,
           1,
           1,
           1,
           0,
           1,
           0,
           0,
           0,
           1,
           0,
           0,
           0,
           1,
           1,
           0
          ],
          [
           1,
           1,
           1,
           0,
           1,
           0,
           0,
           1,
           1,
           0,
           1,
           0,
           1,
           1,
           0,
           0,
           0,
           1,
           0,
           0
          ]
         ]
        }
       ],
       "layout": {
        "autosize": false,
        "height": 350,
        "hovermode": "closest",
        "title": "Atividades feitas por estudante",
        "width": 950,
        "xaxis": {
         "title": "Estudantes"
        },
        "yaxis": {
         "dtick": 1,
         "exponentformat": "e",
         "gridcolor": "#bdbdbd",
         "showexponent": "all",
         "showticklabels": true,
         "tick0": 0,
         "title": "Atividades",
         "type": "category"
        }
       }
      },
      "text/html": [
       "<div id=\"6a5d6faa-438c-4187-ab01-43100cee3e42\" style=\"height: 350px; width: 950px;\" class=\"plotly-graph-div\"></div><script type=\"text/javascript\">require([\"plotly\"], function(Plotly) { window.PLOTLYENV=window.PLOTLYENV || {};window.PLOTLYENV.BASE_URL=\"https://plot.ly\";Plotly.newPlot(\"6a5d6faa-438c-4187-ab01-43100cee3e42\", [{\"colorscale\": [[0, \"rgb(255,255,255)\"], [1, \"rgb(0,0,255)\"]], \"showscale\": false, \"x\": [\"ADILSON\", \"AGNEL\", \"ALDO\", \"ARIANA\", \"DAISON\", \"DALADIER\", \"DERCELINO\", \"EDALINA\", \"EUCLELIA\", \"EZITO\", \"LADIMAR\", \"LEOLINA\", \"LEUDINEIA\", \"NAGIME\", \"NARRIDA\", \"OSIMEIRE\", \"OTACILENE\", \"SUE\", \"SUERLEN\", \"VINCENZA\"], \"y\": [\"Assign1\", \"Assign2\", \"Assign3\", \"Assign4\"], \"z\": [[0, 0, 0, 1, 1, 1, 0, 1, 0, 1, 0, 1, 1, 1, 1, 1, 1, 0, 1, 1], [1, 1, 0, 0, 1, 0, 0, 1, 1, 1, 0, 1, 0, 0, 0, 0, 1, 0, 1, 1], [1, 1, 1, 0, 1, 1, 1, 1, 0, 1, 0, 0, 0, 1, 0, 0, 0, 1, 1, 0], [1, 1, 1, 0, 1, 0, 0, 1, 1, 0, 1, 0, 1, 1, 0, 0, 0, 1, 0, 0]], \"type\": \"heatmap\", \"uid\": \"b14df2aa-e51b-11e8-9c04-616182ad9bd4\"}], {\"autosize\": false, \"height\": 350, \"hovermode\": \"closest\", \"title\": \"Atividades feitas por estudante\", \"width\": 950, \"xaxis\": {\"title\": \"Estudantes\"}, \"yaxis\": {\"dtick\": 1, \"exponentformat\": \"e\", \"gridcolor\": \"#bdbdbd\", \"showexponent\": \"all\", \"showticklabels\": true, \"tick0\": 0, \"title\": \"Atividades\", \"type\": \"category\"}}, {\"showLink\": true, \"linkText\": \"Export to plot.ly\"})});</script>"
      ],
      "text/vnd.plotly.v1+html": [
       "<div id=\"6a5d6faa-438c-4187-ab01-43100cee3e42\" style=\"height: 350px; width: 950px;\" class=\"plotly-graph-div\"></div><script type=\"text/javascript\">require([\"plotly\"], function(Plotly) { window.PLOTLYENV=window.PLOTLYENV || {};window.PLOTLYENV.BASE_URL=\"https://plot.ly\";Plotly.newPlot(\"6a5d6faa-438c-4187-ab01-43100cee3e42\", [{\"colorscale\": [[0, \"rgb(255,255,255)\"], [1, \"rgb(0,0,255)\"]], \"showscale\": false, \"x\": [\"ADILSON\", \"AGNEL\", \"ALDO\", \"ARIANA\", \"DAISON\", \"DALADIER\", \"DERCELINO\", \"EDALINA\", \"EUCLELIA\", \"EZITO\", \"LADIMAR\", \"LEOLINA\", \"LEUDINEIA\", \"NAGIME\", \"NARRIDA\", \"OSIMEIRE\", \"OTACILENE\", \"SUE\", \"SUERLEN\", \"VINCENZA\"], \"y\": [\"Assign1\", \"Assign2\", \"Assign3\", \"Assign4\"], \"z\": [[0, 0, 0, 1, 1, 1, 0, 1, 0, 1, 0, 1, 1, 1, 1, 1, 1, 0, 1, 1], [1, 1, 0, 0, 1, 0, 0, 1, 1, 1, 0, 1, 0, 0, 0, 0, 1, 0, 1, 1], [1, 1, 1, 0, 1, 1, 1, 1, 0, 1, 0, 0, 0, 1, 0, 0, 0, 1, 1, 0], [1, 1, 1, 0, 1, 0, 0, 1, 1, 0, 1, 0, 1, 1, 0, 0, 0, 1, 0, 0]], \"type\": \"heatmap\", \"uid\": \"b14df2aa-e51b-11e8-9c04-616182ad9bd4\"}], {\"autosize\": false, \"height\": 350, \"hovermode\": \"closest\", \"title\": \"Atividades feitas por estudante\", \"width\": 950, \"xaxis\": {\"title\": \"Estudantes\"}, \"yaxis\": {\"dtick\": 1, \"exponentformat\": \"e\", \"gridcolor\": \"#bdbdbd\", \"showexponent\": \"all\", \"showticklabels\": true, \"tick0\": 0, \"title\": \"Atividades\", \"type\": \"category\"}}, {\"showLink\": true, \"linkText\": \"Export to plot.ly\"})});</script>"
      ]
     },
     "metadata": {},
     "output_type": "display_data"
    }
   ],
   "source": [
    "run scripts/V001.py"
   ]
  },
  {
   "cell_type": "markdown",
   "metadata": {},
   "source": [
    "### View 002"
   ]
  },
  {
   "cell_type": "code",
   "execution_count": 204,
   "metadata": {
    "scrolled": false
   },
   "outputs": [
    {
     "data": {
      "text/html": [
       "<script>requirejs.config({paths: { 'plotly': ['https://cdn.plot.ly/plotly-latest.min']},});if(!window.Plotly) {{require(['plotly'],function(plotly) {window.Plotly=plotly;});}}</script>"
      ],
      "text/vnd.plotly.v1+html": [
       "<script>requirejs.config({paths: { 'plotly': ['https://cdn.plot.ly/plotly-latest.min']},});if(!window.Plotly) {{require(['plotly'],function(plotly) {window.Plotly=plotly;});}}</script>"
      ]
     },
     "metadata": {},
     "output_type": "display_data"
    },
    {
     "data": {
      "application/vnd.plotly.v1+json": {
       "data": [
        {
         "cells": {
          "align": [
           "left",
           "center"
          ],
          "fill": {
           "color": "#F5F8FF"
          },
          "values": [
           [
            "Student_1",
            "Student_2",
            "Student_3",
            "Student_4",
            "Student_5",
            "Student_6",
            "Student_7",
            "Student_8",
            "Student_9",
            "Student_10",
            "Student_11",
            "Student_12",
            "Student_13",
            "Student_14",
            "Student_15",
            "Student_16",
            "Student_17",
            "Student_18",
            "Student_19",
            "Student_20"
           ],
           [
            7,
            5,
            1,
            4,
            2,
            14,
            23,
            23,
            15,
            19,
            16,
            23,
            14,
            4,
            13,
            15,
            10,
            27,
            10,
            17
           ],
           [
            23,
            8,
            23,
            29,
            29,
            14,
            6,
            1,
            4,
            4,
            27,
            4,
            8,
            8,
            12,
            11,
            24,
            18,
            11,
            20
           ],
           [
            20,
            21,
            20,
            10,
            14,
            15,
            1,
            9,
            5,
            22,
            9,
            0,
            27,
            22,
            22,
            21,
            13,
            18,
            24,
            12
           ],
           [
            20,
            29,
            25,
            25,
            18,
            10,
            6,
            26,
            6,
            7,
            21,
            17,
            6,
            9,
            14,
            18,
            13,
            18,
            23,
            8
           ],
           [
            0,
            0,
            23,
            12,
            15,
            18,
            29,
            16,
            10,
            12,
            5,
            17,
            26,
            9,
            19,
            3,
            20,
            25,
            19,
            29
           ],
           [
            3,
            18,
            2,
            4,
            26,
            29,
            22,
            21,
            11,
            12,
            4,
            7,
            24,
            21,
            11,
            12,
            15,
            9,
            14,
            10
           ],
           [
            10,
            21,
            29,
            14,
            19,
            6,
            5,
            29,
            12,
            29,
            26,
            16,
            19,
            22,
            26,
            15,
            2,
            25,
            26,
            29
           ],
           [
            23,
            25,
            29,
            26,
            18,
            11,
            11,
            22,
            14,
            6,
            19,
            4,
            19,
            19,
            17,
            8,
            18,
            25,
            23,
            29
           ]
          ]
         },
         "header": {
          "align": "center",
          "fill": {
           "color": "#C2D4FF"
          },
          "values": [
           "Students",
           "Video1",
           "Video2",
           "Quiz1",
           "Quiz2",
           "Pdf1",
           "Pdf2",
           "Ebook1",
           "Ebook2"
          ]
         },
         "type": "table",
         "uid": "0b8d680c-e519-11e8-9c04-616182ad9bd4"
        }
       ],
       "layout": {}
      },
      "text/html": [
       "<div id=\"7981ab92-afec-4741-92e5-225c851a5b70\" style=\"height: 525px; width: 100%;\" class=\"plotly-graph-div\"></div><script type=\"text/javascript\">require([\"plotly\"], function(Plotly) { window.PLOTLYENV=window.PLOTLYENV || {};window.PLOTLYENV.BASE_URL=\"https://plot.ly\";Plotly.newPlot(\"7981ab92-afec-4741-92e5-225c851a5b70\", [{\"cells\": {\"align\": [\"left\", \"center\"], \"fill\": {\"color\": \"#F5F8FF\"}, \"values\": [[\"Student_1\", \"Student_2\", \"Student_3\", \"Student_4\", \"Student_5\", \"Student_6\", \"Student_7\", \"Student_8\", \"Student_9\", \"Student_10\", \"Student_11\", \"Student_12\", \"Student_13\", \"Student_14\", \"Student_15\", \"Student_16\", \"Student_17\", \"Student_18\", \"Student_19\", \"Student_20\"], [7, 5, 1, 4, 2, 14, 23, 23, 15, 19, 16, 23, 14, 4, 13, 15, 10, 27, 10, 17], [23, 8, 23, 29, 29, 14, 6, 1, 4, 4, 27, 4, 8, 8, 12, 11, 24, 18, 11, 20], [20, 21, 20, 10, 14, 15, 1, 9, 5, 22, 9, 0, 27, 22, 22, 21, 13, 18, 24, 12], [20, 29, 25, 25, 18, 10, 6, 26, 6, 7, 21, 17, 6, 9, 14, 18, 13, 18, 23, 8], [0, 0, 23, 12, 15, 18, 29, 16, 10, 12, 5, 17, 26, 9, 19, 3, 20, 25, 19, 29], [3, 18, 2, 4, 26, 29, 22, 21, 11, 12, 4, 7, 24, 21, 11, 12, 15, 9, 14, 10], [10, 21, 29, 14, 19, 6, 5, 29, 12, 29, 26, 16, 19, 22, 26, 15, 2, 25, 26, 29], [23, 25, 29, 26, 18, 11, 11, 22, 14, 6, 19, 4, 19, 19, 17, 8, 18, 25, 23, 29]]}, \"header\": {\"align\": \"center\", \"fill\": {\"color\": \"#C2D4FF\"}, \"values\": [\"Students\", \"Video1\", \"Video2\", \"Quiz1\", \"Quiz2\", \"Pdf1\", \"Pdf2\", \"Ebook1\", \"Ebook2\"]}, \"type\": \"table\", \"uid\": \"0b8f6b0c-e519-11e8-9c04-616182ad9bd4\"}], {}, {\"showLink\": true, \"linkText\": \"Export to plot.ly\"})});</script>"
      ],
      "text/vnd.plotly.v1+html": [
       "<div id=\"7981ab92-afec-4741-92e5-225c851a5b70\" style=\"height: 525px; width: 100%;\" class=\"plotly-graph-div\"></div><script type=\"text/javascript\">require([\"plotly\"], function(Plotly) { window.PLOTLYENV=window.PLOTLYENV || {};window.PLOTLYENV.BASE_URL=\"https://plot.ly\";Plotly.newPlot(\"7981ab92-afec-4741-92e5-225c851a5b70\", [{\"cells\": {\"align\": [\"left\", \"center\"], \"fill\": {\"color\": \"#F5F8FF\"}, \"values\": [[\"Student_1\", \"Student_2\", \"Student_3\", \"Student_4\", \"Student_5\", \"Student_6\", \"Student_7\", \"Student_8\", \"Student_9\", \"Student_10\", \"Student_11\", \"Student_12\", \"Student_13\", \"Student_14\", \"Student_15\", \"Student_16\", \"Student_17\", \"Student_18\", \"Student_19\", \"Student_20\"], [7, 5, 1, 4, 2, 14, 23, 23, 15, 19, 16, 23, 14, 4, 13, 15, 10, 27, 10, 17], [23, 8, 23, 29, 29, 14, 6, 1, 4, 4, 27, 4, 8, 8, 12, 11, 24, 18, 11, 20], [20, 21, 20, 10, 14, 15, 1, 9, 5, 22, 9, 0, 27, 22, 22, 21, 13, 18, 24, 12], [20, 29, 25, 25, 18, 10, 6, 26, 6, 7, 21, 17, 6, 9, 14, 18, 13, 18, 23, 8], [0, 0, 23, 12, 15, 18, 29, 16, 10, 12, 5, 17, 26, 9, 19, 3, 20, 25, 19, 29], [3, 18, 2, 4, 26, 29, 22, 21, 11, 12, 4, 7, 24, 21, 11, 12, 15, 9, 14, 10], [10, 21, 29, 14, 19, 6, 5, 29, 12, 29, 26, 16, 19, 22, 26, 15, 2, 25, 26, 29], [23, 25, 29, 26, 18, 11, 11, 22, 14, 6, 19, 4, 19, 19, 17, 8, 18, 25, 23, 29]]}, \"header\": {\"align\": \"center\", \"fill\": {\"color\": \"#C2D4FF\"}, \"values\": [\"Students\", \"Video1\", \"Video2\", \"Quiz1\", \"Quiz2\", \"Pdf1\", \"Pdf2\", \"Ebook1\", \"Ebook2\"]}, \"type\": \"table\", \"uid\": \"0b8f6b0c-e519-11e8-9c04-616182ad9bd4\"}], {}, {\"showLink\": true, \"linkText\": \"Export to plot.ly\"})});</script>"
      ]
     },
     "metadata": {},
     "output_type": "display_data"
    },
    {
     "data": {
      "application/vnd.plotly.v1+json": {
       "data": [
        {
         "name": "Video1",
         "type": "bar",
         "uid": "0b9a3e6a-e519-11e8-9c04-616182ad9bd4",
         "x": [
          "Student_1",
          "Student_2",
          "Student_3",
          "Student_4",
          "Student_5",
          "Student_6",
          "Student_7",
          "Student_8",
          "Student_9",
          "Student_10",
          "Student_11",
          "Student_12",
          "Student_13",
          "Student_14",
          "Student_15",
          "Student_16",
          "Student_17",
          "Student_18",
          "Student_19",
          "Student_20"
         ],
         "y": [
          7,
          5,
          1,
          4,
          2,
          14,
          23,
          23,
          15,
          19,
          16,
          23,
          14,
          4,
          13,
          15,
          10,
          27,
          10,
          17
         ]
        },
        {
         "name": "Video2",
         "type": "bar",
         "uid": "0b9a40c2-e519-11e8-9c04-616182ad9bd4",
         "x": [
          "Student_1",
          "Student_2",
          "Student_3",
          "Student_4",
          "Student_5",
          "Student_6",
          "Student_7",
          "Student_8",
          "Student_9",
          "Student_10",
          "Student_11",
          "Student_12",
          "Student_13",
          "Student_14",
          "Student_15",
          "Student_16",
          "Student_17",
          "Student_18",
          "Student_19",
          "Student_20"
         ],
         "y": [
          23,
          8,
          23,
          29,
          29,
          14,
          6,
          1,
          4,
          4,
          27,
          4,
          8,
          8,
          12,
          11,
          24,
          18,
          11,
          20
         ]
        },
        {
         "name": "Quiz1",
         "type": "bar",
         "uid": "0b9a41bc-e519-11e8-9c04-616182ad9bd4",
         "x": [
          "Student_1",
          "Student_2",
          "Student_3",
          "Student_4",
          "Student_5",
          "Student_6",
          "Student_7",
          "Student_8",
          "Student_9",
          "Student_10",
          "Student_11",
          "Student_12",
          "Student_13",
          "Student_14",
          "Student_15",
          "Student_16",
          "Student_17",
          "Student_18",
          "Student_19",
          "Student_20"
         ],
         "y": [
          20,
          21,
          20,
          10,
          14,
          15,
          1,
          9,
          5,
          22,
          9,
          0,
          27,
          22,
          22,
          21,
          13,
          18,
          24,
          12
         ]
        },
        {
         "name": "Quiz2",
         "type": "bar",
         "uid": "0b9a428e-e519-11e8-9c04-616182ad9bd4",
         "x": [
          "Student_1",
          "Student_2",
          "Student_3",
          "Student_4",
          "Student_5",
          "Student_6",
          "Student_7",
          "Student_8",
          "Student_9",
          "Student_10",
          "Student_11",
          "Student_12",
          "Student_13",
          "Student_14",
          "Student_15",
          "Student_16",
          "Student_17",
          "Student_18",
          "Student_19",
          "Student_20"
         ],
         "y": [
          20,
          29,
          25,
          25,
          18,
          10,
          6,
          26,
          6,
          7,
          21,
          17,
          6,
          9,
          14,
          18,
          13,
          18,
          23,
          8
         ]
        },
        {
         "name": "Pdf1",
         "type": "bar",
         "uid": "0b9a4342-e519-11e8-9c04-616182ad9bd4",
         "x": [
          "Student_1",
          "Student_2",
          "Student_3",
          "Student_4",
          "Student_5",
          "Student_6",
          "Student_7",
          "Student_8",
          "Student_9",
          "Student_10",
          "Student_11",
          "Student_12",
          "Student_13",
          "Student_14",
          "Student_15",
          "Student_16",
          "Student_17",
          "Student_18",
          "Student_19",
          "Student_20"
         ],
         "y": [
          0,
          0,
          23,
          12,
          15,
          18,
          29,
          16,
          10,
          12,
          5,
          17,
          26,
          9,
          19,
          3,
          20,
          25,
          19,
          29
         ]
        },
        {
         "name": "Pdf2",
         "type": "bar",
         "uid": "0b9a43f6-e519-11e8-9c04-616182ad9bd4",
         "x": [
          "Student_1",
          "Student_2",
          "Student_3",
          "Student_4",
          "Student_5",
          "Student_6",
          "Student_7",
          "Student_8",
          "Student_9",
          "Student_10",
          "Student_11",
          "Student_12",
          "Student_13",
          "Student_14",
          "Student_15",
          "Student_16",
          "Student_17",
          "Student_18",
          "Student_19",
          "Student_20"
         ],
         "y": [
          3,
          18,
          2,
          4,
          26,
          29,
          22,
          21,
          11,
          12,
          4,
          7,
          24,
          21,
          11,
          12,
          15,
          9,
          14,
          10
         ]
        },
        {
         "name": "Ebook1",
         "type": "bar",
         "uid": "0b9a44a0-e519-11e8-9c04-616182ad9bd4",
         "x": [
          "Student_1",
          "Student_2",
          "Student_3",
          "Student_4",
          "Student_5",
          "Student_6",
          "Student_7",
          "Student_8",
          "Student_9",
          "Student_10",
          "Student_11",
          "Student_12",
          "Student_13",
          "Student_14",
          "Student_15",
          "Student_16",
          "Student_17",
          "Student_18",
          "Student_19",
          "Student_20"
         ],
         "y": [
          10,
          21,
          29,
          14,
          19,
          6,
          5,
          29,
          12,
          29,
          26,
          16,
          19,
          22,
          26,
          15,
          2,
          25,
          26,
          29
         ]
        },
        {
         "name": "Ebook2",
         "type": "bar",
         "uid": "0b9a4554-e519-11e8-9c04-616182ad9bd4",
         "x": [
          "Student_1",
          "Student_2",
          "Student_3",
          "Student_4",
          "Student_5",
          "Student_6",
          "Student_7",
          "Student_8",
          "Student_9",
          "Student_10",
          "Student_11",
          "Student_12",
          "Student_13",
          "Student_14",
          "Student_15",
          "Student_16",
          "Student_17",
          "Student_18",
          "Student_19",
          "Student_20"
         ],
         "y": [
          23,
          25,
          29,
          26,
          18,
          11,
          11,
          22,
          14,
          6,
          19,
          4,
          19,
          19,
          17,
          8,
          18,
          25,
          23,
          29
         ]
        }
       ],
       "layout": {
        "title": "Número de acessos nos materiais agrupados por estudante",
        "yaxis": {
         "dtick": 5,
         "exponentformat": "e",
         "gridcolor": "#bdbdbd",
         "showexponent": "all",
         "showticklabels": true,
         "tick0": 0,
         "titlefont": {
          "color": "lightgrey",
          "family": "Arial, sans-serif"
         }
        }
       }
      },
      "text/html": [
       "<div id=\"62b88356-7109-463c-bf9b-9fef7a2fb76a\" style=\"height: 525px; width: 100%;\" class=\"plotly-graph-div\"></div><script type=\"text/javascript\">require([\"plotly\"], function(Plotly) { window.PLOTLYENV=window.PLOTLYENV || {};window.PLOTLYENV.BASE_URL=\"https://plot.ly\";Plotly.newPlot(\"62b88356-7109-463c-bf9b-9fef7a2fb76a\", [{\"name\": \"Video1\", \"x\": [\"Student_1\", \"Student_2\", \"Student_3\", \"Student_4\", \"Student_5\", \"Student_6\", \"Student_7\", \"Student_8\", \"Student_9\", \"Student_10\", \"Student_11\", \"Student_12\", \"Student_13\", \"Student_14\", \"Student_15\", \"Student_16\", \"Student_17\", \"Student_18\", \"Student_19\", \"Student_20\"], \"y\": [7, 5, 1, 4, 2, 14, 23, 23, 15, 19, 16, 23, 14, 4, 13, 15, 10, 27, 10, 17], \"type\": \"bar\", \"uid\": \"0b9a3e6a-e519-11e8-9c04-616182ad9bd4\"}, {\"name\": \"Video2\", \"x\": [\"Student_1\", \"Student_2\", \"Student_3\", \"Student_4\", \"Student_5\", \"Student_6\", \"Student_7\", \"Student_8\", \"Student_9\", \"Student_10\", \"Student_11\", \"Student_12\", \"Student_13\", \"Student_14\", \"Student_15\", \"Student_16\", \"Student_17\", \"Student_18\", \"Student_19\", \"Student_20\"], \"y\": [23, 8, 23, 29, 29, 14, 6, 1, 4, 4, 27, 4, 8, 8, 12, 11, 24, 18, 11, 20], \"type\": \"bar\", \"uid\": \"0b9a40c2-e519-11e8-9c04-616182ad9bd4\"}, {\"name\": \"Quiz1\", \"x\": [\"Student_1\", \"Student_2\", \"Student_3\", \"Student_4\", \"Student_5\", \"Student_6\", \"Student_7\", \"Student_8\", \"Student_9\", \"Student_10\", \"Student_11\", \"Student_12\", \"Student_13\", \"Student_14\", \"Student_15\", \"Student_16\", \"Student_17\", \"Student_18\", \"Student_19\", \"Student_20\"], \"y\": [20, 21, 20, 10, 14, 15, 1, 9, 5, 22, 9, 0, 27, 22, 22, 21, 13, 18, 24, 12], \"type\": \"bar\", \"uid\": \"0b9a41bc-e519-11e8-9c04-616182ad9bd4\"}, {\"name\": \"Quiz2\", \"x\": [\"Student_1\", \"Student_2\", \"Student_3\", \"Student_4\", \"Student_5\", \"Student_6\", \"Student_7\", \"Student_8\", \"Student_9\", \"Student_10\", \"Student_11\", \"Student_12\", \"Student_13\", \"Student_14\", \"Student_15\", \"Student_16\", \"Student_17\", \"Student_18\", \"Student_19\", \"Student_20\"], \"y\": [20, 29, 25, 25, 18, 10, 6, 26, 6, 7, 21, 17, 6, 9, 14, 18, 13, 18, 23, 8], \"type\": \"bar\", \"uid\": \"0b9a428e-e519-11e8-9c04-616182ad9bd4\"}, {\"name\": \"Pdf1\", \"x\": [\"Student_1\", \"Student_2\", \"Student_3\", \"Student_4\", \"Student_5\", \"Student_6\", \"Student_7\", \"Student_8\", \"Student_9\", \"Student_10\", \"Student_11\", \"Student_12\", \"Student_13\", \"Student_14\", \"Student_15\", \"Student_16\", \"Student_17\", \"Student_18\", \"Student_19\", \"Student_20\"], \"y\": [0, 0, 23, 12, 15, 18, 29, 16, 10, 12, 5, 17, 26, 9, 19, 3, 20, 25, 19, 29], \"type\": \"bar\", \"uid\": \"0b9a4342-e519-11e8-9c04-616182ad9bd4\"}, {\"name\": \"Pdf2\", \"x\": [\"Student_1\", \"Student_2\", \"Student_3\", \"Student_4\", \"Student_5\", \"Student_6\", \"Student_7\", \"Student_8\", \"Student_9\", \"Student_10\", \"Student_11\", \"Student_12\", \"Student_13\", \"Student_14\", \"Student_15\", \"Student_16\", \"Student_17\", \"Student_18\", \"Student_19\", \"Student_20\"], \"y\": [3, 18, 2, 4, 26, 29, 22, 21, 11, 12, 4, 7, 24, 21, 11, 12, 15, 9, 14, 10], \"type\": \"bar\", \"uid\": \"0b9a43f6-e519-11e8-9c04-616182ad9bd4\"}, {\"name\": \"Ebook1\", \"x\": [\"Student_1\", \"Student_2\", \"Student_3\", \"Student_4\", \"Student_5\", \"Student_6\", \"Student_7\", \"Student_8\", \"Student_9\", \"Student_10\", \"Student_11\", \"Student_12\", \"Student_13\", \"Student_14\", \"Student_15\", \"Student_16\", \"Student_17\", \"Student_18\", \"Student_19\", \"Student_20\"], \"y\": [10, 21, 29, 14, 19, 6, 5, 29, 12, 29, 26, 16, 19, 22, 26, 15, 2, 25, 26, 29], \"type\": \"bar\", \"uid\": \"0b9a44a0-e519-11e8-9c04-616182ad9bd4\"}, {\"name\": \"Ebook2\", \"x\": [\"Student_1\", \"Student_2\", \"Student_3\", \"Student_4\", \"Student_5\", \"Student_6\", \"Student_7\", \"Student_8\", \"Student_9\", \"Student_10\", \"Student_11\", \"Student_12\", \"Student_13\", \"Student_14\", \"Student_15\", \"Student_16\", \"Student_17\", \"Student_18\", \"Student_19\", \"Student_20\"], \"y\": [23, 25, 29, 26, 18, 11, 11, 22, 14, 6, 19, 4, 19, 19, 17, 8, 18, 25, 23, 29], \"type\": \"bar\", \"uid\": \"0b9a4554-e519-11e8-9c04-616182ad9bd4\"}], {\"title\": \"N\\u00famero de acessos nos materiais agrupados por estudante\", \"yaxis\": {\"dtick\": 5, \"exponentformat\": \"e\", \"gridcolor\": \"#bdbdbd\", \"showexponent\": \"all\", \"showticklabels\": true, \"tick0\": 0, \"titlefont\": {\"color\": \"lightgrey\", \"family\": \"Arial, sans-serif\"}}}, {\"showLink\": true, \"linkText\": \"Export to plot.ly\"})});</script>"
      ],
      "text/vnd.plotly.v1+html": [
       "<div id=\"62b88356-7109-463c-bf9b-9fef7a2fb76a\" style=\"height: 525px; width: 100%;\" class=\"plotly-graph-div\"></div><script type=\"text/javascript\">require([\"plotly\"], function(Plotly) { window.PLOTLYENV=window.PLOTLYENV || {};window.PLOTLYENV.BASE_URL=\"https://plot.ly\";Plotly.newPlot(\"62b88356-7109-463c-bf9b-9fef7a2fb76a\", [{\"name\": \"Video1\", \"x\": [\"Student_1\", \"Student_2\", \"Student_3\", \"Student_4\", \"Student_5\", \"Student_6\", \"Student_7\", \"Student_8\", \"Student_9\", \"Student_10\", \"Student_11\", \"Student_12\", \"Student_13\", \"Student_14\", \"Student_15\", \"Student_16\", \"Student_17\", \"Student_18\", \"Student_19\", \"Student_20\"], \"y\": [7, 5, 1, 4, 2, 14, 23, 23, 15, 19, 16, 23, 14, 4, 13, 15, 10, 27, 10, 17], \"type\": \"bar\", \"uid\": \"0b9a3e6a-e519-11e8-9c04-616182ad9bd4\"}, {\"name\": \"Video2\", \"x\": [\"Student_1\", \"Student_2\", \"Student_3\", \"Student_4\", \"Student_5\", \"Student_6\", \"Student_7\", \"Student_8\", \"Student_9\", \"Student_10\", \"Student_11\", \"Student_12\", \"Student_13\", \"Student_14\", \"Student_15\", \"Student_16\", \"Student_17\", \"Student_18\", \"Student_19\", \"Student_20\"], \"y\": [23, 8, 23, 29, 29, 14, 6, 1, 4, 4, 27, 4, 8, 8, 12, 11, 24, 18, 11, 20], \"type\": \"bar\", \"uid\": \"0b9a40c2-e519-11e8-9c04-616182ad9bd4\"}, {\"name\": \"Quiz1\", \"x\": [\"Student_1\", \"Student_2\", \"Student_3\", \"Student_4\", \"Student_5\", \"Student_6\", \"Student_7\", \"Student_8\", \"Student_9\", \"Student_10\", \"Student_11\", \"Student_12\", \"Student_13\", \"Student_14\", \"Student_15\", \"Student_16\", \"Student_17\", \"Student_18\", \"Student_19\", \"Student_20\"], \"y\": [20, 21, 20, 10, 14, 15, 1, 9, 5, 22, 9, 0, 27, 22, 22, 21, 13, 18, 24, 12], \"type\": \"bar\", \"uid\": \"0b9a41bc-e519-11e8-9c04-616182ad9bd4\"}, {\"name\": \"Quiz2\", \"x\": [\"Student_1\", \"Student_2\", \"Student_3\", \"Student_4\", \"Student_5\", \"Student_6\", \"Student_7\", \"Student_8\", \"Student_9\", \"Student_10\", \"Student_11\", \"Student_12\", \"Student_13\", \"Student_14\", \"Student_15\", \"Student_16\", \"Student_17\", \"Student_18\", \"Student_19\", \"Student_20\"], \"y\": [20, 29, 25, 25, 18, 10, 6, 26, 6, 7, 21, 17, 6, 9, 14, 18, 13, 18, 23, 8], \"type\": \"bar\", \"uid\": \"0b9a428e-e519-11e8-9c04-616182ad9bd4\"}, {\"name\": \"Pdf1\", \"x\": [\"Student_1\", \"Student_2\", \"Student_3\", \"Student_4\", \"Student_5\", \"Student_6\", \"Student_7\", \"Student_8\", \"Student_9\", \"Student_10\", \"Student_11\", \"Student_12\", \"Student_13\", \"Student_14\", \"Student_15\", \"Student_16\", \"Student_17\", \"Student_18\", \"Student_19\", \"Student_20\"], \"y\": [0, 0, 23, 12, 15, 18, 29, 16, 10, 12, 5, 17, 26, 9, 19, 3, 20, 25, 19, 29], \"type\": \"bar\", \"uid\": \"0b9a4342-e519-11e8-9c04-616182ad9bd4\"}, {\"name\": \"Pdf2\", \"x\": [\"Student_1\", \"Student_2\", \"Student_3\", \"Student_4\", \"Student_5\", \"Student_6\", \"Student_7\", \"Student_8\", \"Student_9\", \"Student_10\", \"Student_11\", \"Student_12\", \"Student_13\", \"Student_14\", \"Student_15\", \"Student_16\", \"Student_17\", \"Student_18\", \"Student_19\", \"Student_20\"], \"y\": [3, 18, 2, 4, 26, 29, 22, 21, 11, 12, 4, 7, 24, 21, 11, 12, 15, 9, 14, 10], \"type\": \"bar\", \"uid\": \"0b9a43f6-e519-11e8-9c04-616182ad9bd4\"}, {\"name\": \"Ebook1\", \"x\": [\"Student_1\", \"Student_2\", \"Student_3\", \"Student_4\", \"Student_5\", \"Student_6\", \"Student_7\", \"Student_8\", \"Student_9\", \"Student_10\", \"Student_11\", \"Student_12\", \"Student_13\", \"Student_14\", \"Student_15\", \"Student_16\", \"Student_17\", \"Student_18\", \"Student_19\", \"Student_20\"], \"y\": [10, 21, 29, 14, 19, 6, 5, 29, 12, 29, 26, 16, 19, 22, 26, 15, 2, 25, 26, 29], \"type\": \"bar\", \"uid\": \"0b9a44a0-e519-11e8-9c04-616182ad9bd4\"}, {\"name\": \"Ebook2\", \"x\": [\"Student_1\", \"Student_2\", \"Student_3\", \"Student_4\", \"Student_5\", \"Student_6\", \"Student_7\", \"Student_8\", \"Student_9\", \"Student_10\", \"Student_11\", \"Student_12\", \"Student_13\", \"Student_14\", \"Student_15\", \"Student_16\", \"Student_17\", \"Student_18\", \"Student_19\", \"Student_20\"], \"y\": [23, 25, 29, 26, 18, 11, 11, 22, 14, 6, 19, 4, 19, 19, 17, 8, 18, 25, 23, 29], \"type\": \"bar\", \"uid\": \"0b9a4554-e519-11e8-9c04-616182ad9bd4\"}], {\"title\": \"N\\u00famero de acessos nos materiais agrupados por estudante\", \"yaxis\": {\"dtick\": 5, \"exponentformat\": \"e\", \"gridcolor\": \"#bdbdbd\", \"showexponent\": \"all\", \"showticklabels\": true, \"tick0\": 0, \"titlefont\": {\"color\": \"lightgrey\", \"family\": \"Arial, sans-serif\"}}}, {\"showLink\": true, \"linkText\": \"Export to plot.ly\"})});</script>"
      ]
     },
     "metadata": {},
     "output_type": "display_data"
    },
    {
     "data": {
      "application/vnd.plotly.v1+json": {
       "data": [
        {
         "name": "Video1",
         "type": "bar",
         "uid": "0ba3bcd8-e519-11e8-9c04-616182ad9bd4",
         "x": [
          "Student_1",
          "Student_2",
          "Student_3",
          "Student_4",
          "Student_5",
          "Student_6",
          "Student_7",
          "Student_8",
          "Student_9",
          "Student_10",
          "Student_11",
          "Student_12",
          "Student_13",
          "Student_14",
          "Student_15",
          "Student_16",
          "Student_17",
          "Student_18",
          "Student_19",
          "Student_20"
         ],
         "y": [
          7,
          5,
          1,
          4,
          2,
          14,
          23,
          23,
          15,
          19,
          16,
          23,
          14,
          4,
          13,
          15,
          10,
          27,
          10,
          17
         ]
        },
        {
         "name": "Video2",
         "type": "bar",
         "uid": "0ba3be9a-e519-11e8-9c04-616182ad9bd4",
         "x": [
          "Student_1",
          "Student_2",
          "Student_3",
          "Student_4",
          "Student_5",
          "Student_6",
          "Student_7",
          "Student_8",
          "Student_9",
          "Student_10",
          "Student_11",
          "Student_12",
          "Student_13",
          "Student_14",
          "Student_15",
          "Student_16",
          "Student_17",
          "Student_18",
          "Student_19",
          "Student_20"
         ],
         "y": [
          23,
          8,
          23,
          29,
          29,
          14,
          6,
          1,
          4,
          4,
          27,
          4,
          8,
          8,
          12,
          11,
          24,
          18,
          11,
          20
         ]
        },
        {
         "name": "Quiz1",
         "type": "bar",
         "uid": "0ba3bf76-e519-11e8-9c04-616182ad9bd4",
         "x": [
          "Student_1",
          "Student_2",
          "Student_3",
          "Student_4",
          "Student_5",
          "Student_6",
          "Student_7",
          "Student_8",
          "Student_9",
          "Student_10",
          "Student_11",
          "Student_12",
          "Student_13",
          "Student_14",
          "Student_15",
          "Student_16",
          "Student_17",
          "Student_18",
          "Student_19",
          "Student_20"
         ],
         "y": [
          20,
          21,
          20,
          10,
          14,
          15,
          1,
          9,
          5,
          22,
          9,
          0,
          27,
          22,
          22,
          21,
          13,
          18,
          24,
          12
         ]
        },
        {
         "name": "Quiz2",
         "type": "bar",
         "uid": "0ba3c02a-e519-11e8-9c04-616182ad9bd4",
         "x": [
          "Student_1",
          "Student_2",
          "Student_3",
          "Student_4",
          "Student_5",
          "Student_6",
          "Student_7",
          "Student_8",
          "Student_9",
          "Student_10",
          "Student_11",
          "Student_12",
          "Student_13",
          "Student_14",
          "Student_15",
          "Student_16",
          "Student_17",
          "Student_18",
          "Student_19",
          "Student_20"
         ],
         "y": [
          20,
          29,
          25,
          25,
          18,
          10,
          6,
          26,
          6,
          7,
          21,
          17,
          6,
          9,
          14,
          18,
          13,
          18,
          23,
          8
         ]
        },
        {
         "name": "Pdf1",
         "type": "bar",
         "uid": "0ba3c0c0-e519-11e8-9c04-616182ad9bd4",
         "x": [
          "Student_1",
          "Student_2",
          "Student_3",
          "Student_4",
          "Student_5",
          "Student_6",
          "Student_7",
          "Student_8",
          "Student_9",
          "Student_10",
          "Student_11",
          "Student_12",
          "Student_13",
          "Student_14",
          "Student_15",
          "Student_16",
          "Student_17",
          "Student_18",
          "Student_19",
          "Student_20"
         ],
         "y": [
          0,
          0,
          23,
          12,
          15,
          18,
          29,
          16,
          10,
          12,
          5,
          17,
          26,
          9,
          19,
          3,
          20,
          25,
          19,
          29
         ]
        },
        {
         "name": "Pdf2",
         "type": "bar",
         "uid": "0ba3c160-e519-11e8-9c04-616182ad9bd4",
         "x": [
          "Student_1",
          "Student_2",
          "Student_3",
          "Student_4",
          "Student_5",
          "Student_6",
          "Student_7",
          "Student_8",
          "Student_9",
          "Student_10",
          "Student_11",
          "Student_12",
          "Student_13",
          "Student_14",
          "Student_15",
          "Student_16",
          "Student_17",
          "Student_18",
          "Student_19",
          "Student_20"
         ],
         "y": [
          3,
          18,
          2,
          4,
          26,
          29,
          22,
          21,
          11,
          12,
          4,
          7,
          24,
          21,
          11,
          12,
          15,
          9,
          14,
          10
         ]
        },
        {
         "name": "Ebook1",
         "type": "bar",
         "uid": "0ba3c1f6-e519-11e8-9c04-616182ad9bd4",
         "x": [
          "Student_1",
          "Student_2",
          "Student_3",
          "Student_4",
          "Student_5",
          "Student_6",
          "Student_7",
          "Student_8",
          "Student_9",
          "Student_10",
          "Student_11",
          "Student_12",
          "Student_13",
          "Student_14",
          "Student_15",
          "Student_16",
          "Student_17",
          "Student_18",
          "Student_19",
          "Student_20"
         ],
         "y": [
          10,
          21,
          29,
          14,
          19,
          6,
          5,
          29,
          12,
          29,
          26,
          16,
          19,
          22,
          26,
          15,
          2,
          25,
          26,
          29
         ]
        },
        {
         "name": "Ebook2",
         "type": "bar",
         "uid": "0ba3c282-e519-11e8-9c04-616182ad9bd4",
         "x": [
          "Student_1",
          "Student_2",
          "Student_3",
          "Student_4",
          "Student_5",
          "Student_6",
          "Student_7",
          "Student_8",
          "Student_9",
          "Student_10",
          "Student_11",
          "Student_12",
          "Student_13",
          "Student_14",
          "Student_15",
          "Student_16",
          "Student_17",
          "Student_18",
          "Student_19",
          "Student_20"
         ],
         "y": [
          23,
          25,
          29,
          26,
          18,
          11,
          11,
          22,
          14,
          6,
          19,
          4,
          19,
          19,
          17,
          8,
          18,
          25,
          23,
          29
         ]
        }
       ],
       "layout": {
        "barmode": "stack",
        "title": "Número de acessos nos materiais agrupados por estudante",
        "yaxis": {
         "dtick": 15,
         "exponentformat": "e",
         "gridcolor": "#bdbdbd",
         "showexponent": "all",
         "showticklabels": true,
         "tick0": 0,
         "titlefont": {
          "color": "lightgrey",
          "family": "Arial, sans-serif"
         }
        }
       }
      },
      "text/html": [
       "<div id=\"40f24ad5-7b13-4295-b2f6-a2ecdc37ec7c\" style=\"height: 525px; width: 100%;\" class=\"plotly-graph-div\"></div><script type=\"text/javascript\">require([\"plotly\"], function(Plotly) { window.PLOTLYENV=window.PLOTLYENV || {};window.PLOTLYENV.BASE_URL=\"https://plot.ly\";Plotly.newPlot(\"40f24ad5-7b13-4295-b2f6-a2ecdc37ec7c\", [{\"name\": \"Video1\", \"x\": [\"Student_1\", \"Student_2\", \"Student_3\", \"Student_4\", \"Student_5\", \"Student_6\", \"Student_7\", \"Student_8\", \"Student_9\", \"Student_10\", \"Student_11\", \"Student_12\", \"Student_13\", \"Student_14\", \"Student_15\", \"Student_16\", \"Student_17\", \"Student_18\", \"Student_19\", \"Student_20\"], \"y\": [7, 5, 1, 4, 2, 14, 23, 23, 15, 19, 16, 23, 14, 4, 13, 15, 10, 27, 10, 17], \"type\": \"bar\", \"uid\": \"0ba3bcd8-e519-11e8-9c04-616182ad9bd4\"}, {\"name\": \"Video2\", \"x\": [\"Student_1\", \"Student_2\", \"Student_3\", \"Student_4\", \"Student_5\", \"Student_6\", \"Student_7\", \"Student_8\", \"Student_9\", \"Student_10\", \"Student_11\", \"Student_12\", \"Student_13\", \"Student_14\", \"Student_15\", \"Student_16\", \"Student_17\", \"Student_18\", \"Student_19\", \"Student_20\"], \"y\": [23, 8, 23, 29, 29, 14, 6, 1, 4, 4, 27, 4, 8, 8, 12, 11, 24, 18, 11, 20], \"type\": \"bar\", \"uid\": \"0ba3be9a-e519-11e8-9c04-616182ad9bd4\"}, {\"name\": \"Quiz1\", \"x\": [\"Student_1\", \"Student_2\", \"Student_3\", \"Student_4\", \"Student_5\", \"Student_6\", \"Student_7\", \"Student_8\", \"Student_9\", \"Student_10\", \"Student_11\", \"Student_12\", \"Student_13\", \"Student_14\", \"Student_15\", \"Student_16\", \"Student_17\", \"Student_18\", \"Student_19\", \"Student_20\"], \"y\": [20, 21, 20, 10, 14, 15, 1, 9, 5, 22, 9, 0, 27, 22, 22, 21, 13, 18, 24, 12], \"type\": \"bar\", \"uid\": \"0ba3bf76-e519-11e8-9c04-616182ad9bd4\"}, {\"name\": \"Quiz2\", \"x\": [\"Student_1\", \"Student_2\", \"Student_3\", \"Student_4\", \"Student_5\", \"Student_6\", \"Student_7\", \"Student_8\", \"Student_9\", \"Student_10\", \"Student_11\", \"Student_12\", \"Student_13\", \"Student_14\", \"Student_15\", \"Student_16\", \"Student_17\", \"Student_18\", \"Student_19\", \"Student_20\"], \"y\": [20, 29, 25, 25, 18, 10, 6, 26, 6, 7, 21, 17, 6, 9, 14, 18, 13, 18, 23, 8], \"type\": \"bar\", \"uid\": \"0ba3c02a-e519-11e8-9c04-616182ad9bd4\"}, {\"name\": \"Pdf1\", \"x\": [\"Student_1\", \"Student_2\", \"Student_3\", \"Student_4\", \"Student_5\", \"Student_6\", \"Student_7\", \"Student_8\", \"Student_9\", \"Student_10\", \"Student_11\", \"Student_12\", \"Student_13\", \"Student_14\", \"Student_15\", \"Student_16\", \"Student_17\", \"Student_18\", \"Student_19\", \"Student_20\"], \"y\": [0, 0, 23, 12, 15, 18, 29, 16, 10, 12, 5, 17, 26, 9, 19, 3, 20, 25, 19, 29], \"type\": \"bar\", \"uid\": \"0ba3c0c0-e519-11e8-9c04-616182ad9bd4\"}, {\"name\": \"Pdf2\", \"x\": [\"Student_1\", \"Student_2\", \"Student_3\", \"Student_4\", \"Student_5\", \"Student_6\", \"Student_7\", \"Student_8\", \"Student_9\", \"Student_10\", \"Student_11\", \"Student_12\", \"Student_13\", \"Student_14\", \"Student_15\", \"Student_16\", \"Student_17\", \"Student_18\", \"Student_19\", \"Student_20\"], \"y\": [3, 18, 2, 4, 26, 29, 22, 21, 11, 12, 4, 7, 24, 21, 11, 12, 15, 9, 14, 10], \"type\": \"bar\", \"uid\": \"0ba3c160-e519-11e8-9c04-616182ad9bd4\"}, {\"name\": \"Ebook1\", \"x\": [\"Student_1\", \"Student_2\", \"Student_3\", \"Student_4\", \"Student_5\", \"Student_6\", \"Student_7\", \"Student_8\", \"Student_9\", \"Student_10\", \"Student_11\", \"Student_12\", \"Student_13\", \"Student_14\", \"Student_15\", \"Student_16\", \"Student_17\", \"Student_18\", \"Student_19\", \"Student_20\"], \"y\": [10, 21, 29, 14, 19, 6, 5, 29, 12, 29, 26, 16, 19, 22, 26, 15, 2, 25, 26, 29], \"type\": \"bar\", \"uid\": \"0ba3c1f6-e519-11e8-9c04-616182ad9bd4\"}, {\"name\": \"Ebook2\", \"x\": [\"Student_1\", \"Student_2\", \"Student_3\", \"Student_4\", \"Student_5\", \"Student_6\", \"Student_7\", \"Student_8\", \"Student_9\", \"Student_10\", \"Student_11\", \"Student_12\", \"Student_13\", \"Student_14\", \"Student_15\", \"Student_16\", \"Student_17\", \"Student_18\", \"Student_19\", \"Student_20\"], \"y\": [23, 25, 29, 26, 18, 11, 11, 22, 14, 6, 19, 4, 19, 19, 17, 8, 18, 25, 23, 29], \"type\": \"bar\", \"uid\": \"0ba3c282-e519-11e8-9c04-616182ad9bd4\"}], {\"barmode\": \"stack\", \"title\": \"N\\u00famero de acessos nos materiais agrupados por estudante\", \"yaxis\": {\"dtick\": 15, \"exponentformat\": \"e\", \"gridcolor\": \"#bdbdbd\", \"showexponent\": \"all\", \"showticklabels\": true, \"tick0\": 0, \"titlefont\": {\"color\": \"lightgrey\", \"family\": \"Arial, sans-serif\"}}}, {\"showLink\": true, \"linkText\": \"Export to plot.ly\"})});</script>"
      ],
      "text/vnd.plotly.v1+html": [
       "<div id=\"40f24ad5-7b13-4295-b2f6-a2ecdc37ec7c\" style=\"height: 525px; width: 100%;\" class=\"plotly-graph-div\"></div><script type=\"text/javascript\">require([\"plotly\"], function(Plotly) { window.PLOTLYENV=window.PLOTLYENV || {};window.PLOTLYENV.BASE_URL=\"https://plot.ly\";Plotly.newPlot(\"40f24ad5-7b13-4295-b2f6-a2ecdc37ec7c\", [{\"name\": \"Video1\", \"x\": [\"Student_1\", \"Student_2\", \"Student_3\", \"Student_4\", \"Student_5\", \"Student_6\", \"Student_7\", \"Student_8\", \"Student_9\", \"Student_10\", \"Student_11\", \"Student_12\", \"Student_13\", \"Student_14\", \"Student_15\", \"Student_16\", \"Student_17\", \"Student_18\", \"Student_19\", \"Student_20\"], \"y\": [7, 5, 1, 4, 2, 14, 23, 23, 15, 19, 16, 23, 14, 4, 13, 15, 10, 27, 10, 17], \"type\": \"bar\", \"uid\": \"0ba3bcd8-e519-11e8-9c04-616182ad9bd4\"}, {\"name\": \"Video2\", \"x\": [\"Student_1\", \"Student_2\", \"Student_3\", \"Student_4\", \"Student_5\", \"Student_6\", \"Student_7\", \"Student_8\", \"Student_9\", \"Student_10\", \"Student_11\", \"Student_12\", \"Student_13\", \"Student_14\", \"Student_15\", \"Student_16\", \"Student_17\", \"Student_18\", \"Student_19\", \"Student_20\"], \"y\": [23, 8, 23, 29, 29, 14, 6, 1, 4, 4, 27, 4, 8, 8, 12, 11, 24, 18, 11, 20], \"type\": \"bar\", \"uid\": \"0ba3be9a-e519-11e8-9c04-616182ad9bd4\"}, {\"name\": \"Quiz1\", \"x\": [\"Student_1\", \"Student_2\", \"Student_3\", \"Student_4\", \"Student_5\", \"Student_6\", \"Student_7\", \"Student_8\", \"Student_9\", \"Student_10\", \"Student_11\", \"Student_12\", \"Student_13\", \"Student_14\", \"Student_15\", \"Student_16\", \"Student_17\", \"Student_18\", \"Student_19\", \"Student_20\"], \"y\": [20, 21, 20, 10, 14, 15, 1, 9, 5, 22, 9, 0, 27, 22, 22, 21, 13, 18, 24, 12], \"type\": \"bar\", \"uid\": \"0ba3bf76-e519-11e8-9c04-616182ad9bd4\"}, {\"name\": \"Quiz2\", \"x\": [\"Student_1\", \"Student_2\", \"Student_3\", \"Student_4\", \"Student_5\", \"Student_6\", \"Student_7\", \"Student_8\", \"Student_9\", \"Student_10\", \"Student_11\", \"Student_12\", \"Student_13\", \"Student_14\", \"Student_15\", \"Student_16\", \"Student_17\", \"Student_18\", \"Student_19\", \"Student_20\"], \"y\": [20, 29, 25, 25, 18, 10, 6, 26, 6, 7, 21, 17, 6, 9, 14, 18, 13, 18, 23, 8], \"type\": \"bar\", \"uid\": \"0ba3c02a-e519-11e8-9c04-616182ad9bd4\"}, {\"name\": \"Pdf1\", \"x\": [\"Student_1\", \"Student_2\", \"Student_3\", \"Student_4\", \"Student_5\", \"Student_6\", \"Student_7\", \"Student_8\", \"Student_9\", \"Student_10\", \"Student_11\", \"Student_12\", \"Student_13\", \"Student_14\", \"Student_15\", \"Student_16\", \"Student_17\", \"Student_18\", \"Student_19\", \"Student_20\"], \"y\": [0, 0, 23, 12, 15, 18, 29, 16, 10, 12, 5, 17, 26, 9, 19, 3, 20, 25, 19, 29], \"type\": \"bar\", \"uid\": \"0ba3c0c0-e519-11e8-9c04-616182ad9bd4\"}, {\"name\": \"Pdf2\", \"x\": [\"Student_1\", \"Student_2\", \"Student_3\", \"Student_4\", \"Student_5\", \"Student_6\", \"Student_7\", \"Student_8\", \"Student_9\", \"Student_10\", \"Student_11\", \"Student_12\", \"Student_13\", \"Student_14\", \"Student_15\", \"Student_16\", \"Student_17\", \"Student_18\", \"Student_19\", \"Student_20\"], \"y\": [3, 18, 2, 4, 26, 29, 22, 21, 11, 12, 4, 7, 24, 21, 11, 12, 15, 9, 14, 10], \"type\": \"bar\", \"uid\": \"0ba3c160-e519-11e8-9c04-616182ad9bd4\"}, {\"name\": \"Ebook1\", \"x\": [\"Student_1\", \"Student_2\", \"Student_3\", \"Student_4\", \"Student_5\", \"Student_6\", \"Student_7\", \"Student_8\", \"Student_9\", \"Student_10\", \"Student_11\", \"Student_12\", \"Student_13\", \"Student_14\", \"Student_15\", \"Student_16\", \"Student_17\", \"Student_18\", \"Student_19\", \"Student_20\"], \"y\": [10, 21, 29, 14, 19, 6, 5, 29, 12, 29, 26, 16, 19, 22, 26, 15, 2, 25, 26, 29], \"type\": \"bar\", \"uid\": \"0ba3c1f6-e519-11e8-9c04-616182ad9bd4\"}, {\"name\": \"Ebook2\", \"x\": [\"Student_1\", \"Student_2\", \"Student_3\", \"Student_4\", \"Student_5\", \"Student_6\", \"Student_7\", \"Student_8\", \"Student_9\", \"Student_10\", \"Student_11\", \"Student_12\", \"Student_13\", \"Student_14\", \"Student_15\", \"Student_16\", \"Student_17\", \"Student_18\", \"Student_19\", \"Student_20\"], \"y\": [23, 25, 29, 26, 18, 11, 11, 22, 14, 6, 19, 4, 19, 19, 17, 8, 18, 25, 23, 29], \"type\": \"bar\", \"uid\": \"0ba3c282-e519-11e8-9c04-616182ad9bd4\"}], {\"barmode\": \"stack\", \"title\": \"N\\u00famero de acessos nos materiais agrupados por estudante\", \"yaxis\": {\"dtick\": 15, \"exponentformat\": \"e\", \"gridcolor\": \"#bdbdbd\", \"showexponent\": \"all\", \"showticklabels\": true, \"tick0\": 0, \"titlefont\": {\"color\": \"lightgrey\", \"family\": \"Arial, sans-serif\"}}}, {\"showLink\": true, \"linkText\": \"Export to plot.ly\"})});</script>"
      ]
     },
     "metadata": {},
     "output_type": "display_data"
    },
    {
     "data": {
      "application/vnd.plotly.v1+json": {
       "data": [
        {
         "name": "Video1",
         "orientation": "h",
         "type": "bar",
         "uid": "0bb74a3c-e519-11e8-9c04-616182ad9bd4",
         "x": [
          7,
          5,
          1,
          4,
          2,
          14,
          23,
          23,
          15,
          19,
          16,
          23,
          14,
          4,
          13,
          15,
          10,
          27,
          10,
          17
         ],
         "y": [
          "Student_1",
          "Student_2",
          "Student_3",
          "Student_4",
          "Student_5",
          "Student_6",
          "Student_7",
          "Student_8",
          "Student_9",
          "Student_10",
          "Student_11",
          "Student_12",
          "Student_13",
          "Student_14",
          "Student_15",
          "Student_16",
          "Student_17",
          "Student_18",
          "Student_19",
          "Student_20"
         ]
        },
        {
         "name": "Video2",
         "orientation": "h",
         "type": "bar",
         "uid": "0bb74c08-e519-11e8-9c04-616182ad9bd4",
         "x": [
          23,
          8,
          23,
          29,
          29,
          14,
          6,
          1,
          4,
          4,
          27,
          4,
          8,
          8,
          12,
          11,
          24,
          18,
          11,
          20
         ],
         "y": [
          "Student_1",
          "Student_2",
          "Student_3",
          "Student_4",
          "Student_5",
          "Student_6",
          "Student_7",
          "Student_8",
          "Student_9",
          "Student_10",
          "Student_11",
          "Student_12",
          "Student_13",
          "Student_14",
          "Student_15",
          "Student_16",
          "Student_17",
          "Student_18",
          "Student_19",
          "Student_20"
         ]
        },
        {
         "name": "Quiz1",
         "orientation": "h",
         "type": "bar",
         "uid": "0bb74cee-e519-11e8-9c04-616182ad9bd4",
         "x": [
          20,
          21,
          20,
          10,
          14,
          15,
          1,
          9,
          5,
          22,
          9,
          0,
          27,
          22,
          22,
          21,
          13,
          18,
          24,
          12
         ],
         "y": [
          "Student_1",
          "Student_2",
          "Student_3",
          "Student_4",
          "Student_5",
          "Student_6",
          "Student_7",
          "Student_8",
          "Student_9",
          "Student_10",
          "Student_11",
          "Student_12",
          "Student_13",
          "Student_14",
          "Student_15",
          "Student_16",
          "Student_17",
          "Student_18",
          "Student_19",
          "Student_20"
         ]
        },
        {
         "name": "Quiz2",
         "orientation": "h",
         "type": "bar",
         "uid": "0bb74da2-e519-11e8-9c04-616182ad9bd4",
         "x": [
          20,
          29,
          25,
          25,
          18,
          10,
          6,
          26,
          6,
          7,
          21,
          17,
          6,
          9,
          14,
          18,
          13,
          18,
          23,
          8
         ],
         "y": [
          "Student_1",
          "Student_2",
          "Student_3",
          "Student_4",
          "Student_5",
          "Student_6",
          "Student_7",
          "Student_8",
          "Student_9",
          "Student_10",
          "Student_11",
          "Student_12",
          "Student_13",
          "Student_14",
          "Student_15",
          "Student_16",
          "Student_17",
          "Student_18",
          "Student_19",
          "Student_20"
         ]
        },
        {
         "name": "Pdf1",
         "orientation": "h",
         "type": "bar",
         "uid": "0bb74e42-e519-11e8-9c04-616182ad9bd4",
         "x": [
          0,
          0,
          23,
          12,
          15,
          18,
          29,
          16,
          10,
          12,
          5,
          17,
          26,
          9,
          19,
          3,
          20,
          25,
          19,
          29
         ],
         "y": [
          "Student_1",
          "Student_2",
          "Student_3",
          "Student_4",
          "Student_5",
          "Student_6",
          "Student_7",
          "Student_8",
          "Student_9",
          "Student_10",
          "Student_11",
          "Student_12",
          "Student_13",
          "Student_14",
          "Student_15",
          "Student_16",
          "Student_17",
          "Student_18",
          "Student_19",
          "Student_20"
         ]
        },
        {
         "name": "Pdf2",
         "orientation": "h",
         "type": "bar",
         "uid": "0bb74ee2-e519-11e8-9c04-616182ad9bd4",
         "x": [
          3,
          18,
          2,
          4,
          26,
          29,
          22,
          21,
          11,
          12,
          4,
          7,
          24,
          21,
          11,
          12,
          15,
          9,
          14,
          10
         ],
         "y": [
          "Student_1",
          "Student_2",
          "Student_3",
          "Student_4",
          "Student_5",
          "Student_6",
          "Student_7",
          "Student_8",
          "Student_9",
          "Student_10",
          "Student_11",
          "Student_12",
          "Student_13",
          "Student_14",
          "Student_15",
          "Student_16",
          "Student_17",
          "Student_18",
          "Student_19",
          "Student_20"
         ]
        },
        {
         "name": "Ebook1",
         "orientation": "h",
         "type": "bar",
         "uid": "0bb74f78-e519-11e8-9c04-616182ad9bd4",
         "x": [
          10,
          21,
          29,
          14,
          19,
          6,
          5,
          29,
          12,
          29,
          26,
          16,
          19,
          22,
          26,
          15,
          2,
          25,
          26,
          29
         ],
         "y": [
          "Student_1",
          "Student_2",
          "Student_3",
          "Student_4",
          "Student_5",
          "Student_6",
          "Student_7",
          "Student_8",
          "Student_9",
          "Student_10",
          "Student_11",
          "Student_12",
          "Student_13",
          "Student_14",
          "Student_15",
          "Student_16",
          "Student_17",
          "Student_18",
          "Student_19",
          "Student_20"
         ]
        },
        {
         "name": "Ebook2",
         "orientation": "h",
         "type": "bar",
         "uid": "0bb74ffa-e519-11e8-9c04-616182ad9bd4",
         "x": [
          23,
          25,
          29,
          26,
          18,
          11,
          11,
          22,
          14,
          6,
          19,
          4,
          19,
          19,
          17,
          8,
          18,
          25,
          23,
          29
         ],
         "y": [
          "Student_1",
          "Student_2",
          "Student_3",
          "Student_4",
          "Student_5",
          "Student_6",
          "Student_7",
          "Student_8",
          "Student_9",
          "Student_10",
          "Student_11",
          "Student_12",
          "Student_13",
          "Student_14",
          "Student_15",
          "Student_16",
          "Student_17",
          "Student_18",
          "Student_19",
          "Student_20"
         ]
        }
       ],
       "layout": {
        "barmode": "stack",
        "title": "Número de acessos nos materiais agrupados por estudante",
        "yaxis": {
         "dtick": 1,
         "exponentformat": "e",
         "gridcolor": "#bdbdbd",
         "showexponent": "all",
         "showticklabels": true,
         "tick0": 0,
         "titlefont": {
          "color": "lightgrey",
          "family": "Arial, sans-serif"
         }
        }
       }
      },
      "text/html": [
       "<div id=\"7e69cfdd-9f5f-4d6e-a211-941f8dd12be7\" style=\"height: 525px; width: 100%;\" class=\"plotly-graph-div\"></div><script type=\"text/javascript\">require([\"plotly\"], function(Plotly) { window.PLOTLYENV=window.PLOTLYENV || {};window.PLOTLYENV.BASE_URL=\"https://plot.ly\";Plotly.newPlot(\"7e69cfdd-9f5f-4d6e-a211-941f8dd12be7\", [{\"name\": \"Video1\", \"orientation\": \"h\", \"x\": [7, 5, 1, 4, 2, 14, 23, 23, 15, 19, 16, 23, 14, 4, 13, 15, 10, 27, 10, 17], \"y\": [\"Student_1\", \"Student_2\", \"Student_3\", \"Student_4\", \"Student_5\", \"Student_6\", \"Student_7\", \"Student_8\", \"Student_9\", \"Student_10\", \"Student_11\", \"Student_12\", \"Student_13\", \"Student_14\", \"Student_15\", \"Student_16\", \"Student_17\", \"Student_18\", \"Student_19\", \"Student_20\"], \"type\": \"bar\", \"uid\": \"0bb74a3c-e519-11e8-9c04-616182ad9bd4\"}, {\"name\": \"Video2\", \"orientation\": \"h\", \"x\": [23, 8, 23, 29, 29, 14, 6, 1, 4, 4, 27, 4, 8, 8, 12, 11, 24, 18, 11, 20], \"y\": [\"Student_1\", \"Student_2\", \"Student_3\", \"Student_4\", \"Student_5\", \"Student_6\", \"Student_7\", \"Student_8\", \"Student_9\", \"Student_10\", \"Student_11\", \"Student_12\", \"Student_13\", \"Student_14\", \"Student_15\", \"Student_16\", \"Student_17\", \"Student_18\", \"Student_19\", \"Student_20\"], \"type\": \"bar\", \"uid\": \"0bb74c08-e519-11e8-9c04-616182ad9bd4\"}, {\"name\": \"Quiz1\", \"orientation\": \"h\", \"x\": [20, 21, 20, 10, 14, 15, 1, 9, 5, 22, 9, 0, 27, 22, 22, 21, 13, 18, 24, 12], \"y\": [\"Student_1\", \"Student_2\", \"Student_3\", \"Student_4\", \"Student_5\", \"Student_6\", \"Student_7\", \"Student_8\", \"Student_9\", \"Student_10\", \"Student_11\", \"Student_12\", \"Student_13\", \"Student_14\", \"Student_15\", \"Student_16\", \"Student_17\", \"Student_18\", \"Student_19\", \"Student_20\"], \"type\": \"bar\", \"uid\": \"0bb74cee-e519-11e8-9c04-616182ad9bd4\"}, {\"name\": \"Quiz2\", \"orientation\": \"h\", \"x\": [20, 29, 25, 25, 18, 10, 6, 26, 6, 7, 21, 17, 6, 9, 14, 18, 13, 18, 23, 8], \"y\": [\"Student_1\", \"Student_2\", \"Student_3\", \"Student_4\", \"Student_5\", \"Student_6\", \"Student_7\", \"Student_8\", \"Student_9\", \"Student_10\", \"Student_11\", \"Student_12\", \"Student_13\", \"Student_14\", \"Student_15\", \"Student_16\", \"Student_17\", \"Student_18\", \"Student_19\", \"Student_20\"], \"type\": \"bar\", \"uid\": \"0bb74da2-e519-11e8-9c04-616182ad9bd4\"}, {\"name\": \"Pdf1\", \"orientation\": \"h\", \"x\": [0, 0, 23, 12, 15, 18, 29, 16, 10, 12, 5, 17, 26, 9, 19, 3, 20, 25, 19, 29], \"y\": [\"Student_1\", \"Student_2\", \"Student_3\", \"Student_4\", \"Student_5\", \"Student_6\", \"Student_7\", \"Student_8\", \"Student_9\", \"Student_10\", \"Student_11\", \"Student_12\", \"Student_13\", \"Student_14\", \"Student_15\", \"Student_16\", \"Student_17\", \"Student_18\", \"Student_19\", \"Student_20\"], \"type\": \"bar\", \"uid\": \"0bb74e42-e519-11e8-9c04-616182ad9bd4\"}, {\"name\": \"Pdf2\", \"orientation\": \"h\", \"x\": [3, 18, 2, 4, 26, 29, 22, 21, 11, 12, 4, 7, 24, 21, 11, 12, 15, 9, 14, 10], \"y\": [\"Student_1\", \"Student_2\", \"Student_3\", \"Student_4\", \"Student_5\", \"Student_6\", \"Student_7\", \"Student_8\", \"Student_9\", \"Student_10\", \"Student_11\", \"Student_12\", \"Student_13\", \"Student_14\", \"Student_15\", \"Student_16\", \"Student_17\", \"Student_18\", \"Student_19\", \"Student_20\"], \"type\": \"bar\", \"uid\": \"0bb74ee2-e519-11e8-9c04-616182ad9bd4\"}, {\"name\": \"Ebook1\", \"orientation\": \"h\", \"x\": [10, 21, 29, 14, 19, 6, 5, 29, 12, 29, 26, 16, 19, 22, 26, 15, 2, 25, 26, 29], \"y\": [\"Student_1\", \"Student_2\", \"Student_3\", \"Student_4\", \"Student_5\", \"Student_6\", \"Student_7\", \"Student_8\", \"Student_9\", \"Student_10\", \"Student_11\", \"Student_12\", \"Student_13\", \"Student_14\", \"Student_15\", \"Student_16\", \"Student_17\", \"Student_18\", \"Student_19\", \"Student_20\"], \"type\": \"bar\", \"uid\": \"0bb74f78-e519-11e8-9c04-616182ad9bd4\"}, {\"name\": \"Ebook2\", \"orientation\": \"h\", \"x\": [23, 25, 29, 26, 18, 11, 11, 22, 14, 6, 19, 4, 19, 19, 17, 8, 18, 25, 23, 29], \"y\": [\"Student_1\", \"Student_2\", \"Student_3\", \"Student_4\", \"Student_5\", \"Student_6\", \"Student_7\", \"Student_8\", \"Student_9\", \"Student_10\", \"Student_11\", \"Student_12\", \"Student_13\", \"Student_14\", \"Student_15\", \"Student_16\", \"Student_17\", \"Student_18\", \"Student_19\", \"Student_20\"], \"type\": \"bar\", \"uid\": \"0bb74ffa-e519-11e8-9c04-616182ad9bd4\"}], {\"barmode\": \"stack\", \"title\": \"N\\u00famero de acessos nos materiais agrupados por estudante\", \"yaxis\": {\"dtick\": 1, \"exponentformat\": \"e\", \"gridcolor\": \"#bdbdbd\", \"showexponent\": \"all\", \"showticklabels\": true, \"tick0\": 0, \"titlefont\": {\"color\": \"lightgrey\", \"family\": \"Arial, sans-serif\"}}}, {\"showLink\": true, \"linkText\": \"Export to plot.ly\"})});</script>"
      ],
      "text/vnd.plotly.v1+html": [
       "<div id=\"7e69cfdd-9f5f-4d6e-a211-941f8dd12be7\" style=\"height: 525px; width: 100%;\" class=\"plotly-graph-div\"></div><script type=\"text/javascript\">require([\"plotly\"], function(Plotly) { window.PLOTLYENV=window.PLOTLYENV || {};window.PLOTLYENV.BASE_URL=\"https://plot.ly\";Plotly.newPlot(\"7e69cfdd-9f5f-4d6e-a211-941f8dd12be7\", [{\"name\": \"Video1\", \"orientation\": \"h\", \"x\": [7, 5, 1, 4, 2, 14, 23, 23, 15, 19, 16, 23, 14, 4, 13, 15, 10, 27, 10, 17], \"y\": [\"Student_1\", \"Student_2\", \"Student_3\", \"Student_4\", \"Student_5\", \"Student_6\", \"Student_7\", \"Student_8\", \"Student_9\", \"Student_10\", \"Student_11\", \"Student_12\", \"Student_13\", \"Student_14\", \"Student_15\", \"Student_16\", \"Student_17\", \"Student_18\", \"Student_19\", \"Student_20\"], \"type\": \"bar\", \"uid\": \"0bb74a3c-e519-11e8-9c04-616182ad9bd4\"}, {\"name\": \"Video2\", \"orientation\": \"h\", \"x\": [23, 8, 23, 29, 29, 14, 6, 1, 4, 4, 27, 4, 8, 8, 12, 11, 24, 18, 11, 20], \"y\": [\"Student_1\", \"Student_2\", \"Student_3\", \"Student_4\", \"Student_5\", \"Student_6\", \"Student_7\", \"Student_8\", \"Student_9\", \"Student_10\", \"Student_11\", \"Student_12\", \"Student_13\", \"Student_14\", \"Student_15\", \"Student_16\", \"Student_17\", \"Student_18\", \"Student_19\", \"Student_20\"], \"type\": \"bar\", \"uid\": \"0bb74c08-e519-11e8-9c04-616182ad9bd4\"}, {\"name\": \"Quiz1\", \"orientation\": \"h\", \"x\": [20, 21, 20, 10, 14, 15, 1, 9, 5, 22, 9, 0, 27, 22, 22, 21, 13, 18, 24, 12], \"y\": [\"Student_1\", \"Student_2\", \"Student_3\", \"Student_4\", \"Student_5\", \"Student_6\", \"Student_7\", \"Student_8\", \"Student_9\", \"Student_10\", \"Student_11\", \"Student_12\", \"Student_13\", \"Student_14\", \"Student_15\", \"Student_16\", \"Student_17\", \"Student_18\", \"Student_19\", \"Student_20\"], \"type\": \"bar\", \"uid\": \"0bb74cee-e519-11e8-9c04-616182ad9bd4\"}, {\"name\": \"Quiz2\", \"orientation\": \"h\", \"x\": [20, 29, 25, 25, 18, 10, 6, 26, 6, 7, 21, 17, 6, 9, 14, 18, 13, 18, 23, 8], \"y\": [\"Student_1\", \"Student_2\", \"Student_3\", \"Student_4\", \"Student_5\", \"Student_6\", \"Student_7\", \"Student_8\", \"Student_9\", \"Student_10\", \"Student_11\", \"Student_12\", \"Student_13\", \"Student_14\", \"Student_15\", \"Student_16\", \"Student_17\", \"Student_18\", \"Student_19\", \"Student_20\"], \"type\": \"bar\", \"uid\": \"0bb74da2-e519-11e8-9c04-616182ad9bd4\"}, {\"name\": \"Pdf1\", \"orientation\": \"h\", \"x\": [0, 0, 23, 12, 15, 18, 29, 16, 10, 12, 5, 17, 26, 9, 19, 3, 20, 25, 19, 29], \"y\": [\"Student_1\", \"Student_2\", \"Student_3\", \"Student_4\", \"Student_5\", \"Student_6\", \"Student_7\", \"Student_8\", \"Student_9\", \"Student_10\", \"Student_11\", \"Student_12\", \"Student_13\", \"Student_14\", \"Student_15\", \"Student_16\", \"Student_17\", \"Student_18\", \"Student_19\", \"Student_20\"], \"type\": \"bar\", \"uid\": \"0bb74e42-e519-11e8-9c04-616182ad9bd4\"}, {\"name\": \"Pdf2\", \"orientation\": \"h\", \"x\": [3, 18, 2, 4, 26, 29, 22, 21, 11, 12, 4, 7, 24, 21, 11, 12, 15, 9, 14, 10], \"y\": [\"Student_1\", \"Student_2\", \"Student_3\", \"Student_4\", \"Student_5\", \"Student_6\", \"Student_7\", \"Student_8\", \"Student_9\", \"Student_10\", \"Student_11\", \"Student_12\", \"Student_13\", \"Student_14\", \"Student_15\", \"Student_16\", \"Student_17\", \"Student_18\", \"Student_19\", \"Student_20\"], \"type\": \"bar\", \"uid\": \"0bb74ee2-e519-11e8-9c04-616182ad9bd4\"}, {\"name\": \"Ebook1\", \"orientation\": \"h\", \"x\": [10, 21, 29, 14, 19, 6, 5, 29, 12, 29, 26, 16, 19, 22, 26, 15, 2, 25, 26, 29], \"y\": [\"Student_1\", \"Student_2\", \"Student_3\", \"Student_4\", \"Student_5\", \"Student_6\", \"Student_7\", \"Student_8\", \"Student_9\", \"Student_10\", \"Student_11\", \"Student_12\", \"Student_13\", \"Student_14\", \"Student_15\", \"Student_16\", \"Student_17\", \"Student_18\", \"Student_19\", \"Student_20\"], \"type\": \"bar\", \"uid\": \"0bb74f78-e519-11e8-9c04-616182ad9bd4\"}, {\"name\": \"Ebook2\", \"orientation\": \"h\", \"x\": [23, 25, 29, 26, 18, 11, 11, 22, 14, 6, 19, 4, 19, 19, 17, 8, 18, 25, 23, 29], \"y\": [\"Student_1\", \"Student_2\", \"Student_3\", \"Student_4\", \"Student_5\", \"Student_6\", \"Student_7\", \"Student_8\", \"Student_9\", \"Student_10\", \"Student_11\", \"Student_12\", \"Student_13\", \"Student_14\", \"Student_15\", \"Student_16\", \"Student_17\", \"Student_18\", \"Student_19\", \"Student_20\"], \"type\": \"bar\", \"uid\": \"0bb74ffa-e519-11e8-9c04-616182ad9bd4\"}], {\"barmode\": \"stack\", \"title\": \"N\\u00famero de acessos nos materiais agrupados por estudante\", \"yaxis\": {\"dtick\": 1, \"exponentformat\": \"e\", \"gridcolor\": \"#bdbdbd\", \"showexponent\": \"all\", \"showticklabels\": true, \"tick0\": 0, \"titlefont\": {\"color\": \"lightgrey\", \"family\": \"Arial, sans-serif\"}}}, {\"showLink\": true, \"linkText\": \"Export to plot.ly\"})});</script>"
      ]
     },
     "metadata": {},
     "output_type": "display_data"
    },
    {
     "data": {
      "application/vnd.plotly.v1+json": {
       "data": [
        {
         "colorscale": [
          [
           0,
           "rgb(255,255,255)"
          ],
          [
           1,
           "rgb(0,0,255)"
          ]
         ],
         "type": "heatmap",
         "uid": "0bbbb16c-e519-11e8-9c04-616182ad9bd4",
         "x": [
          "Video1",
          "Video2",
          "Quiz1",
          "Quiz2",
          "Pdf1",
          "Pdf2",
          "Ebook1",
          "Ebook2"
         ],
         "y": [
          "Student_1",
          "Student_2",
          "Student_3",
          "Student_4",
          "Student_5",
          "Student_6",
          "Student_7",
          "Student_8",
          "Student_9",
          "Student_10",
          "Student_11",
          "Student_12",
          "Student_13",
          "Student_14",
          "Student_15",
          "Student_16",
          "Student_17",
          "Student_18",
          "Student_19",
          "Student_20"
         ],
         "z": [
          [
           7,
           23,
           20,
           20,
           0,
           3,
           10,
           23
          ],
          [
           5,
           8,
           21,
           29,
           0,
           18,
           21,
           25
          ],
          [
           1,
           23,
           20,
           25,
           23,
           2,
           29,
           29
          ],
          [
           4,
           29,
           10,
           25,
           12,
           4,
           14,
           26
          ],
          [
           2,
           29,
           14,
           18,
           15,
           26,
           19,
           18
          ],
          [
           14,
           14,
           15,
           10,
           18,
           29,
           6,
           11
          ],
          [
           23,
           6,
           1,
           6,
           29,
           22,
           5,
           11
          ],
          [
           23,
           1,
           9,
           26,
           16,
           21,
           29,
           22
          ],
          [
           15,
           4,
           5,
           6,
           10,
           11,
           12,
           14
          ],
          [
           19,
           4,
           22,
           7,
           12,
           12,
           29,
           6
          ],
          [
           16,
           27,
           9,
           21,
           5,
           4,
           26,
           19
          ],
          [
           23,
           4,
           0,
           17,
           17,
           7,
           16,
           4
          ],
          [
           14,
           8,
           27,
           6,
           26,
           24,
           19,
           19
          ],
          [
           4,
           8,
           22,
           9,
           9,
           21,
           22,
           19
          ],
          [
           13,
           12,
           22,
           14,
           19,
           11,
           26,
           17
          ],
          [
           15,
           11,
           21,
           18,
           3,
           12,
           15,
           8
          ],
          [
           10,
           24,
           13,
           13,
           20,
           15,
           2,
           18
          ],
          [
           27,
           18,
           18,
           18,
           25,
           9,
           25,
           25
          ],
          [
           10,
           11,
           24,
           23,
           19,
           14,
           26,
           23
          ],
          [
           17,
           20,
           12,
           8,
           29,
           10,
           29,
           29
          ]
         ]
        }
       ],
       "layout": {
        "title": "Número de acessos nos materiais por estudante",
        "yaxis": {
         "dtick": 1,
         "exponentformat": "e",
         "gridcolor": "#bdbdbd",
         "showexponent": "all",
         "showticklabels": true,
         "tick0": 0,
         "titlefont": {
          "color": "lightgrey",
          "family": "Arial, sans-serif"
         }
        }
       }
      },
      "text/html": [
       "<div id=\"8ebe8e84-feae-45bc-97ff-4e34bc1cabac\" style=\"height: 525px; width: 100%;\" class=\"plotly-graph-div\"></div><script type=\"text/javascript\">require([\"plotly\"], function(Plotly) { window.PLOTLYENV=window.PLOTLYENV || {};window.PLOTLYENV.BASE_URL=\"https://plot.ly\";Plotly.newPlot(\"8ebe8e84-feae-45bc-97ff-4e34bc1cabac\", [{\"colorscale\": [[0, \"rgb(255,255,255)\"], [1, \"rgb(0,0,255)\"]], \"x\": [\"Video1\", \"Video2\", \"Quiz1\", \"Quiz2\", \"Pdf1\", \"Pdf2\", \"Ebook1\", \"Ebook2\"], \"y\": [\"Student_1\", \"Student_2\", \"Student_3\", \"Student_4\", \"Student_5\", \"Student_6\", \"Student_7\", \"Student_8\", \"Student_9\", \"Student_10\", \"Student_11\", \"Student_12\", \"Student_13\", \"Student_14\", \"Student_15\", \"Student_16\", \"Student_17\", \"Student_18\", \"Student_19\", \"Student_20\"], \"z\": [[7, 23, 20, 20, 0, 3, 10, 23], [5, 8, 21, 29, 0, 18, 21, 25], [1, 23, 20, 25, 23, 2, 29, 29], [4, 29, 10, 25, 12, 4, 14, 26], [2, 29, 14, 18, 15, 26, 19, 18], [14, 14, 15, 10, 18, 29, 6, 11], [23, 6, 1, 6, 29, 22, 5, 11], [23, 1, 9, 26, 16, 21, 29, 22], [15, 4, 5, 6, 10, 11, 12, 14], [19, 4, 22, 7, 12, 12, 29, 6], [16, 27, 9, 21, 5, 4, 26, 19], [23, 4, 0, 17, 17, 7, 16, 4], [14, 8, 27, 6, 26, 24, 19, 19], [4, 8, 22, 9, 9, 21, 22, 19], [13, 12, 22, 14, 19, 11, 26, 17], [15, 11, 21, 18, 3, 12, 15, 8], [10, 24, 13, 13, 20, 15, 2, 18], [27, 18, 18, 18, 25, 9, 25, 25], [10, 11, 24, 23, 19, 14, 26, 23], [17, 20, 12, 8, 29, 10, 29, 29]], \"type\": \"heatmap\", \"uid\": \"0bbbb16c-e519-11e8-9c04-616182ad9bd4\"}], {\"title\": \"N\\u00famero de acessos nos materiais por estudante\", \"yaxis\": {\"dtick\": 1, \"exponentformat\": \"e\", \"gridcolor\": \"#bdbdbd\", \"showexponent\": \"all\", \"showticklabels\": true, \"tick0\": 0, \"titlefont\": {\"color\": \"lightgrey\", \"family\": \"Arial, sans-serif\"}}}, {\"showLink\": true, \"linkText\": \"Export to plot.ly\"})});</script>"
      ],
      "text/vnd.plotly.v1+html": [
       "<div id=\"8ebe8e84-feae-45bc-97ff-4e34bc1cabac\" style=\"height: 525px; width: 100%;\" class=\"plotly-graph-div\"></div><script type=\"text/javascript\">require([\"plotly\"], function(Plotly) { window.PLOTLYENV=window.PLOTLYENV || {};window.PLOTLYENV.BASE_URL=\"https://plot.ly\";Plotly.newPlot(\"8ebe8e84-feae-45bc-97ff-4e34bc1cabac\", [{\"colorscale\": [[0, \"rgb(255,255,255)\"], [1, \"rgb(0,0,255)\"]], \"x\": [\"Video1\", \"Video2\", \"Quiz1\", \"Quiz2\", \"Pdf1\", \"Pdf2\", \"Ebook1\", \"Ebook2\"], \"y\": [\"Student_1\", \"Student_2\", \"Student_3\", \"Student_4\", \"Student_5\", \"Student_6\", \"Student_7\", \"Student_8\", \"Student_9\", \"Student_10\", \"Student_11\", \"Student_12\", \"Student_13\", \"Student_14\", \"Student_15\", \"Student_16\", \"Student_17\", \"Student_18\", \"Student_19\", \"Student_20\"], \"z\": [[7, 23, 20, 20, 0, 3, 10, 23], [5, 8, 21, 29, 0, 18, 21, 25], [1, 23, 20, 25, 23, 2, 29, 29], [4, 29, 10, 25, 12, 4, 14, 26], [2, 29, 14, 18, 15, 26, 19, 18], [14, 14, 15, 10, 18, 29, 6, 11], [23, 6, 1, 6, 29, 22, 5, 11], [23, 1, 9, 26, 16, 21, 29, 22], [15, 4, 5, 6, 10, 11, 12, 14], [19, 4, 22, 7, 12, 12, 29, 6], [16, 27, 9, 21, 5, 4, 26, 19], [23, 4, 0, 17, 17, 7, 16, 4], [14, 8, 27, 6, 26, 24, 19, 19], [4, 8, 22, 9, 9, 21, 22, 19], [13, 12, 22, 14, 19, 11, 26, 17], [15, 11, 21, 18, 3, 12, 15, 8], [10, 24, 13, 13, 20, 15, 2, 18], [27, 18, 18, 18, 25, 9, 25, 25], [10, 11, 24, 23, 19, 14, 26, 23], [17, 20, 12, 8, 29, 10, 29, 29]], \"type\": \"heatmap\", \"uid\": \"0bbbb16c-e519-11e8-9c04-616182ad9bd4\"}], {\"title\": \"N\\u00famero de acessos nos materiais por estudante\", \"yaxis\": {\"dtick\": 1, \"exponentformat\": \"e\", \"gridcolor\": \"#bdbdbd\", \"showexponent\": \"all\", \"showticklabels\": true, \"tick0\": 0, \"titlefont\": {\"color\": \"lightgrey\", \"family\": \"Arial, sans-serif\"}}}, {\"showLink\": true, \"linkText\": \"Export to plot.ly\"})});</script>"
      ]
     },
     "metadata": {},
     "output_type": "display_data"
    },
    {
     "data": {
      "application/vnd.plotly.v1+json": {
       "data": [
        {
         "marker": {
          "color": "rgb(0,0,255)",
          "line": {
           "width": 2
          },
          "size": [
           7,
           23,
           20,
           20,
           0,
           3,
           10,
           23
          ],
          "sizemode": "area",
          "sizeref": 0.06896551724137931,
          "symbol": "circle"
         },
         "mode": "markers",
         "name": "Student_1",
         "text": [
          "7",
          "23",
          "20",
          "20",
          "0",
          "3",
          "10",
          "23"
         ],
         "type": "scatter",
         "uid": "0bd20a8e-e519-11e8-9c04-616182ad9bd4",
         "x": [
          "Student_1",
          "Student_1",
          "Student_1",
          "Student_1",
          "Student_1",
          "Student_1",
          "Student_1",
          "Student_1",
          "Student_1"
         ],
         "y": [
          "Video1",
          "Video2",
          "Quiz1",
          "Quiz2",
          "Pdf1",
          "Pdf2",
          "Ebook1",
          "Ebook2"
         ]
        },
        {
         "marker": {
          "color": "rgb(0,0,255)",
          "line": {
           "width": 2
          },
          "size": [
           5,
           8,
           21,
           29,
           0,
           18,
           21,
           25
          ],
          "sizemode": "area",
          "sizeref": 0.06896551724137931,
          "symbol": "circle"
         },
         "mode": "markers",
         "name": "Student_2",
         "text": [
          "5",
          "8",
          "21",
          "29",
          "0",
          "18",
          "21",
          "25"
         ],
         "type": "scatter",
         "uid": "0bd20c32-e519-11e8-9c04-616182ad9bd4",
         "x": [
          "Student_2",
          "Student_2",
          "Student_2",
          "Student_2",
          "Student_2",
          "Student_2",
          "Student_2",
          "Student_2",
          "Student_2"
         ],
         "y": [
          "Video1",
          "Video2",
          "Quiz1",
          "Quiz2",
          "Pdf1",
          "Pdf2",
          "Ebook1",
          "Ebook2"
         ]
        },
        {
         "marker": {
          "color": "rgb(0,0,255)",
          "line": {
           "width": 2
          },
          "size": [
           1,
           23,
           20,
           25,
           23,
           2,
           29,
           29
          ],
          "sizemode": "area",
          "sizeref": 0.06896551724137931,
          "symbol": "circle"
         },
         "mode": "markers",
         "name": "Student_3",
         "text": [
          "1",
          "23",
          "20",
          "25",
          "23",
          "2",
          "29",
          "29"
         ],
         "type": "scatter",
         "uid": "0bd20d04-e519-11e8-9c04-616182ad9bd4",
         "x": [
          "Student_3",
          "Student_3",
          "Student_3",
          "Student_3",
          "Student_3",
          "Student_3",
          "Student_3",
          "Student_3",
          "Student_3"
         ],
         "y": [
          "Video1",
          "Video2",
          "Quiz1",
          "Quiz2",
          "Pdf1",
          "Pdf2",
          "Ebook1",
          "Ebook2"
         ]
        },
        {
         "marker": {
          "color": "rgb(0,0,255)",
          "line": {
           "width": 2
          },
          "size": [
           4,
           29,
           10,
           25,
           12,
           4,
           14,
           26
          ],
          "sizemode": "area",
          "sizeref": 0.06896551724137931,
          "symbol": "circle"
         },
         "mode": "markers",
         "name": "Student_4",
         "text": [
          "4",
          "29",
          "10",
          "25",
          "12",
          "4",
          "14",
          "26"
         ],
         "type": "scatter",
         "uid": "0bd20dae-e519-11e8-9c04-616182ad9bd4",
         "x": [
          "Student_4",
          "Student_4",
          "Student_4",
          "Student_4",
          "Student_4",
          "Student_4",
          "Student_4",
          "Student_4",
          "Student_4"
         ],
         "y": [
          "Video1",
          "Video2",
          "Quiz1",
          "Quiz2",
          "Pdf1",
          "Pdf2",
          "Ebook1",
          "Ebook2"
         ]
        },
        {
         "marker": {
          "color": "rgb(0,0,255)",
          "line": {
           "width": 2
          },
          "size": [
           2,
           29,
           14,
           18,
           15,
           26,
           19,
           18
          ],
          "sizemode": "area",
          "sizeref": 0.06896551724137931,
          "symbol": "circle"
         },
         "mode": "markers",
         "name": "Student_5",
         "text": [
          "2",
          "29",
          "14",
          "18",
          "15",
          "26",
          "19",
          "18"
         ],
         "type": "scatter",
         "uid": "0bd20e4e-e519-11e8-9c04-616182ad9bd4",
         "x": [
          "Student_5",
          "Student_5",
          "Student_5",
          "Student_5",
          "Student_5",
          "Student_5",
          "Student_5",
          "Student_5",
          "Student_5"
         ],
         "y": [
          "Video1",
          "Video2",
          "Quiz1",
          "Quiz2",
          "Pdf1",
          "Pdf2",
          "Ebook1",
          "Ebook2"
         ]
        },
        {
         "marker": {
          "color": "rgb(0,0,255)",
          "line": {
           "width": 2
          },
          "size": [
           14,
           14,
           15,
           10,
           18,
           29,
           6,
           11
          ],
          "sizemode": "area",
          "sizeref": 0.06896551724137931,
          "symbol": "circle"
         },
         "mode": "markers",
         "name": "Student_6",
         "text": [
          "14",
          "14",
          "15",
          "10",
          "18",
          "29",
          "6",
          "11"
         ],
         "type": "scatter",
         "uid": "0bd20ee4-e519-11e8-9c04-616182ad9bd4",
         "x": [
          "Student_6",
          "Student_6",
          "Student_6",
          "Student_6",
          "Student_6",
          "Student_6",
          "Student_6",
          "Student_6",
          "Student_6"
         ],
         "y": [
          "Video1",
          "Video2",
          "Quiz1",
          "Quiz2",
          "Pdf1",
          "Pdf2",
          "Ebook1",
          "Ebook2"
         ]
        },
        {
         "marker": {
          "color": "rgb(0,0,255)",
          "line": {
           "width": 2
          },
          "size": [
           23,
           6,
           1,
           6,
           29,
           22,
           5,
           11
          ],
          "sizemode": "area",
          "sizeref": 0.06896551724137931,
          "symbol": "circle"
         },
         "mode": "markers",
         "name": "Student_7",
         "text": [
          "23",
          "6",
          "1",
          "6",
          "29",
          "22",
          "5",
          "11"
         ],
         "type": "scatter",
         "uid": "0bd20f7a-e519-11e8-9c04-616182ad9bd4",
         "x": [
          "Student_7",
          "Student_7",
          "Student_7",
          "Student_7",
          "Student_7",
          "Student_7",
          "Student_7",
          "Student_7",
          "Student_7"
         ],
         "y": [
          "Video1",
          "Video2",
          "Quiz1",
          "Quiz2",
          "Pdf1",
          "Pdf2",
          "Ebook1",
          "Ebook2"
         ]
        },
        {
         "marker": {
          "color": "rgb(0,0,255)",
          "line": {
           "width": 2
          },
          "size": [
           23,
           1,
           9,
           26,
           16,
           21,
           29,
           22
          ],
          "sizemode": "area",
          "sizeref": 0.06896551724137931,
          "symbol": "circle"
         },
         "mode": "markers",
         "name": "Student_8",
         "text": [
          "23",
          "1",
          "9",
          "26",
          "16",
          "21",
          "29",
          "22"
         ],
         "type": "scatter",
         "uid": "0bd21010-e519-11e8-9c04-616182ad9bd4",
         "x": [
          "Student_8",
          "Student_8",
          "Student_8",
          "Student_8",
          "Student_8",
          "Student_8",
          "Student_8",
          "Student_8",
          "Student_8"
         ],
         "y": [
          "Video1",
          "Video2",
          "Quiz1",
          "Quiz2",
          "Pdf1",
          "Pdf2",
          "Ebook1",
          "Ebook2"
         ]
        },
        {
         "marker": {
          "color": "rgb(0,0,255)",
          "line": {
           "width": 2
          },
          "size": [
           15,
           4,
           5,
           6,
           10,
           11,
           12,
           14
          ],
          "sizemode": "area",
          "sizeref": 0.06896551724137931,
          "symbol": "circle"
         },
         "mode": "markers",
         "name": "Student_9",
         "text": [
          "15",
          "4",
          "5",
          "6",
          "10",
          "11",
          "12",
          "14"
         ],
         "type": "scatter",
         "uid": "0bd2109c-e519-11e8-9c04-616182ad9bd4",
         "x": [
          "Student_9",
          "Student_9",
          "Student_9",
          "Student_9",
          "Student_9",
          "Student_9",
          "Student_9",
          "Student_9",
          "Student_9"
         ],
         "y": [
          "Video1",
          "Video2",
          "Quiz1",
          "Quiz2",
          "Pdf1",
          "Pdf2",
          "Ebook1",
          "Ebook2"
         ]
        },
        {
         "marker": {
          "color": "rgb(0,0,255)",
          "line": {
           "width": 2
          },
          "size": [
           19,
           4,
           22,
           7,
           12,
           12,
           29,
           6
          ],
          "sizemode": "area",
          "sizeref": 0.06896551724137931,
          "symbol": "circle"
         },
         "mode": "markers",
         "name": "Student_10",
         "text": [
          "19",
          "4",
          "22",
          "7",
          "12",
          "12",
          "29",
          "6"
         ],
         "type": "scatter",
         "uid": "0bd21128-e519-11e8-9c04-616182ad9bd4",
         "x": [
          "Student_10",
          "Student_10",
          "Student_10",
          "Student_10",
          "Student_10",
          "Student_10",
          "Student_10",
          "Student_10",
          "Student_10"
         ],
         "y": [
          "Video1",
          "Video2",
          "Quiz1",
          "Quiz2",
          "Pdf1",
          "Pdf2",
          "Ebook1",
          "Ebook2"
         ]
        },
        {
         "marker": {
          "color": "rgb(0,0,255)",
          "line": {
           "width": 2
          },
          "size": [
           16,
           27,
           9,
           21,
           5,
           4,
           26,
           19
          ],
          "sizemode": "area",
          "sizeref": 0.06896551724137931,
          "symbol": "circle"
         },
         "mode": "markers",
         "name": "Student_11",
         "text": [
          "16",
          "27",
          "9",
          "21",
          "5",
          "4",
          "26",
          "19"
         ],
         "type": "scatter",
         "uid": "0bd211b4-e519-11e8-9c04-616182ad9bd4",
         "x": [
          "Student_11",
          "Student_11",
          "Student_11",
          "Student_11",
          "Student_11",
          "Student_11",
          "Student_11",
          "Student_11",
          "Student_11"
         ],
         "y": [
          "Video1",
          "Video2",
          "Quiz1",
          "Quiz2",
          "Pdf1",
          "Pdf2",
          "Ebook1",
          "Ebook2"
         ]
        },
        {
         "marker": {
          "color": "rgb(0,0,255)",
          "line": {
           "width": 2
          },
          "size": [
           23,
           4,
           0,
           17,
           17,
           7,
           16,
           4
          ],
          "sizemode": "area",
          "sizeref": 0.06896551724137931,
          "symbol": "circle"
         },
         "mode": "markers",
         "name": "Student_12",
         "text": [
          "23",
          "4",
          "0",
          "17",
          "17",
          "7",
          "16",
          "4"
         ],
         "type": "scatter",
         "uid": "0bd21240-e519-11e8-9c04-616182ad9bd4",
         "x": [
          "Student_12",
          "Student_12",
          "Student_12",
          "Student_12",
          "Student_12",
          "Student_12",
          "Student_12",
          "Student_12",
          "Student_12"
         ],
         "y": [
          "Video1",
          "Video2",
          "Quiz1",
          "Quiz2",
          "Pdf1",
          "Pdf2",
          "Ebook1",
          "Ebook2"
         ]
        },
        {
         "marker": {
          "color": "rgb(0,0,255)",
          "line": {
           "width": 2
          },
          "size": [
           14,
           8,
           27,
           6,
           26,
           24,
           19,
           19
          ],
          "sizemode": "area",
          "sizeref": 0.06896551724137931,
          "symbol": "circle"
         },
         "mode": "markers",
         "name": "Student_13",
         "text": [
          "14",
          "8",
          "27",
          "6",
          "26",
          "24",
          "19",
          "19"
         ],
         "type": "scatter",
         "uid": "0bd212d6-e519-11e8-9c04-616182ad9bd4",
         "x": [
          "Student_13",
          "Student_13",
          "Student_13",
          "Student_13",
          "Student_13",
          "Student_13",
          "Student_13",
          "Student_13",
          "Student_13"
         ],
         "y": [
          "Video1",
          "Video2",
          "Quiz1",
          "Quiz2",
          "Pdf1",
          "Pdf2",
          "Ebook1",
          "Ebook2"
         ]
        },
        {
         "marker": {
          "color": "rgb(0,0,255)",
          "line": {
           "width": 2
          },
          "size": [
           4,
           8,
           22,
           9,
           9,
           21,
           22,
           19
          ],
          "sizemode": "area",
          "sizeref": 0.06896551724137931,
          "symbol": "circle"
         },
         "mode": "markers",
         "name": "Student_14",
         "text": [
          "4",
          "8",
          "22",
          "9",
          "9",
          "21",
          "22",
          "19"
         ],
         "type": "scatter",
         "uid": "0bd21362-e519-11e8-9c04-616182ad9bd4",
         "x": [
          "Student_14",
          "Student_14",
          "Student_14",
          "Student_14",
          "Student_14",
          "Student_14",
          "Student_14",
          "Student_14",
          "Student_14"
         ],
         "y": [
          "Video1",
          "Video2",
          "Quiz1",
          "Quiz2",
          "Pdf1",
          "Pdf2",
          "Ebook1",
          "Ebook2"
         ]
        },
        {
         "marker": {
          "color": "rgb(0,0,255)",
          "line": {
           "width": 2
          },
          "size": [
           13,
           12,
           22,
           14,
           19,
           11,
           26,
           17
          ],
          "sizemode": "area",
          "sizeref": 0.06896551724137931,
          "symbol": "circle"
         },
         "mode": "markers",
         "name": "Student_15",
         "text": [
          "13",
          "12",
          "22",
          "14",
          "19",
          "11",
          "26",
          "17"
         ],
         "type": "scatter",
         "uid": "0bd213ee-e519-11e8-9c04-616182ad9bd4",
         "x": [
          "Student_15",
          "Student_15",
          "Student_15",
          "Student_15",
          "Student_15",
          "Student_15",
          "Student_15",
          "Student_15",
          "Student_15"
         ],
         "y": [
          "Video1",
          "Video2",
          "Quiz1",
          "Quiz2",
          "Pdf1",
          "Pdf2",
          "Ebook1",
          "Ebook2"
         ]
        },
        {
         "marker": {
          "color": "rgb(0,0,255)",
          "line": {
           "width": 2
          },
          "size": [
           15,
           11,
           21,
           18,
           3,
           12,
           15,
           8
          ],
          "sizemode": "area",
          "sizeref": 0.06896551724137931,
          "symbol": "circle"
         },
         "mode": "markers",
         "name": "Student_16",
         "text": [
          "15",
          "11",
          "21",
          "18",
          "3",
          "12",
          "15",
          "8"
         ],
         "type": "scatter",
         "uid": "0bd2147a-e519-11e8-9c04-616182ad9bd4",
         "x": [
          "Student_16",
          "Student_16",
          "Student_16",
          "Student_16",
          "Student_16",
          "Student_16",
          "Student_16",
          "Student_16",
          "Student_16"
         ],
         "y": [
          "Video1",
          "Video2",
          "Quiz1",
          "Quiz2",
          "Pdf1",
          "Pdf2",
          "Ebook1",
          "Ebook2"
         ]
        },
        {
         "marker": {
          "color": "rgb(0,0,255)",
          "line": {
           "width": 2
          },
          "size": [
           10,
           24,
           13,
           13,
           20,
           15,
           2,
           18
          ],
          "sizemode": "area",
          "sizeref": 0.06896551724137931,
          "symbol": "circle"
         },
         "mode": "markers",
         "name": "Student_17",
         "text": [
          "10",
          "24",
          "13",
          "13",
          "20",
          "15",
          "2",
          "18"
         ],
         "type": "scatter",
         "uid": "0bd21506-e519-11e8-9c04-616182ad9bd4",
         "x": [
          "Student_17",
          "Student_17",
          "Student_17",
          "Student_17",
          "Student_17",
          "Student_17",
          "Student_17",
          "Student_17",
          "Student_17"
         ],
         "y": [
          "Video1",
          "Video2",
          "Quiz1",
          "Quiz2",
          "Pdf1",
          "Pdf2",
          "Ebook1",
          "Ebook2"
         ]
        },
        {
         "marker": {
          "color": "rgb(0,0,255)",
          "line": {
           "width": 2
          },
          "size": [
           27,
           18,
           18,
           18,
           25,
           9,
           25,
           25
          ],
          "sizemode": "area",
          "sizeref": 0.06896551724137931,
          "symbol": "circle"
         },
         "mode": "markers",
         "name": "Student_18",
         "text": [
          "27",
          "18",
          "18",
          "18",
          "25",
          "9",
          "25",
          "25"
         ],
         "type": "scatter",
         "uid": "0bd21592-e519-11e8-9c04-616182ad9bd4",
         "x": [
          "Student_18",
          "Student_18",
          "Student_18",
          "Student_18",
          "Student_18",
          "Student_18",
          "Student_18",
          "Student_18",
          "Student_18"
         ],
         "y": [
          "Video1",
          "Video2",
          "Quiz1",
          "Quiz2",
          "Pdf1",
          "Pdf2",
          "Ebook1",
          "Ebook2"
         ]
        },
        {
         "marker": {
          "color": "rgb(0,0,255)",
          "line": {
           "width": 2
          },
          "size": [
           10,
           11,
           24,
           23,
           19,
           14,
           26,
           23
          ],
          "sizemode": "area",
          "sizeref": 0.06896551724137931,
          "symbol": "circle"
         },
         "mode": "markers",
         "name": "Student_19",
         "text": [
          "10",
          "11",
          "24",
          "23",
          "19",
          "14",
          "26",
          "23"
         ],
         "type": "scatter",
         "uid": "0bd21614-e519-11e8-9c04-616182ad9bd4",
         "x": [
          "Student_19",
          "Student_19",
          "Student_19",
          "Student_19",
          "Student_19",
          "Student_19",
          "Student_19",
          "Student_19",
          "Student_19"
         ],
         "y": [
          "Video1",
          "Video2",
          "Quiz1",
          "Quiz2",
          "Pdf1",
          "Pdf2",
          "Ebook1",
          "Ebook2"
         ]
        },
        {
         "marker": {
          "color": "rgb(0,0,255)",
          "line": {
           "width": 2
          },
          "size": [
           17,
           20,
           12,
           8,
           29,
           10,
           29,
           29
          ],
          "sizemode": "area",
          "sizeref": 0.06896551724137931,
          "symbol": "circle"
         },
         "mode": "markers",
         "name": "Student_20",
         "text": [
          "17",
          "20",
          "12",
          "8",
          "29",
          "10",
          "29",
          "29"
         ],
         "type": "scatter",
         "uid": "0bd21696-e519-11e8-9c04-616182ad9bd4",
         "x": [
          "Student_20",
          "Student_20",
          "Student_20",
          "Student_20",
          "Student_20",
          "Student_20",
          "Student_20",
          "Student_20",
          "Student_20"
         ],
         "y": [
          "Video1",
          "Video2",
          "Quiz1",
          "Quiz2",
          "Pdf1",
          "Pdf2",
          "Ebook1",
          "Ebook2"
         ]
        }
       ],
       "layout": {
        "hovermode": "closest",
        "showlegend": true,
        "title": "Número de acessos nos materiais por estudante",
        "xaxis": {
         "autorange": false,
         "fixedrange": false,
         "range": [
          -1,
          20
         ],
         "rangemode": "normal",
         "showline": true,
         "title": "Estudantes",
         "type": "category"
        },
        "yaxis": {
         "autorange": false,
         "categoryorder": "category ascending",
         "fixedrange": false,
         "range": [
          -1,
          8
         ],
         "rangemode": "normal",
         "showline": true,
         "title": "Materiais",
         "type": "category"
        }
       }
      },
      "text/html": [
       "<div id=\"f93cebfe-3b2b-4f2f-820e-0a6dd2841619\" style=\"height: 525px; width: 100%;\" class=\"plotly-graph-div\"></div><script type=\"text/javascript\">require([\"plotly\"], function(Plotly) { window.PLOTLYENV=window.PLOTLYENV || {};window.PLOTLYENV.BASE_URL=\"https://plot.ly\";Plotly.newPlot(\"f93cebfe-3b2b-4f2f-820e-0a6dd2841619\", [{\"marker\": {\"color\": \"rgb(0,0,255)\", \"line\": {\"width\": 2}, \"size\": [7, 23, 20, 20, 0, 3, 10, 23], \"sizemode\": \"area\", \"sizeref\": 0.06896551724137931, \"symbol\": \"circle\"}, \"mode\": \"markers\", \"name\": \"Student_1\", \"text\": [\"7\", \"23\", \"20\", \"20\", \"0\", \"3\", \"10\", \"23\"], \"x\": [\"Student_1\", \"Student_1\", \"Student_1\", \"Student_1\", \"Student_1\", \"Student_1\", \"Student_1\", \"Student_1\", \"Student_1\"], \"y\": [\"Video1\", \"Video2\", \"Quiz1\", \"Quiz2\", \"Pdf1\", \"Pdf2\", \"Ebook1\", \"Ebook2\"], \"type\": \"scatter\", \"uid\": \"0bd20a8e-e519-11e8-9c04-616182ad9bd4\"}, {\"marker\": {\"color\": \"rgb(0,0,255)\", \"line\": {\"width\": 2}, \"size\": [5, 8, 21, 29, 0, 18, 21, 25], \"sizemode\": \"area\", \"sizeref\": 0.06896551724137931, \"symbol\": \"circle\"}, \"mode\": \"markers\", \"name\": \"Student_2\", \"text\": [\"5\", \"8\", \"21\", \"29\", \"0\", \"18\", \"21\", \"25\"], \"x\": [\"Student_2\", \"Student_2\", \"Student_2\", \"Student_2\", \"Student_2\", \"Student_2\", \"Student_2\", \"Student_2\", \"Student_2\"], \"y\": [\"Video1\", \"Video2\", \"Quiz1\", \"Quiz2\", \"Pdf1\", \"Pdf2\", \"Ebook1\", \"Ebook2\"], \"type\": \"scatter\", \"uid\": \"0bd20c32-e519-11e8-9c04-616182ad9bd4\"}, {\"marker\": {\"color\": \"rgb(0,0,255)\", \"line\": {\"width\": 2}, \"size\": [1, 23, 20, 25, 23, 2, 29, 29], \"sizemode\": \"area\", \"sizeref\": 0.06896551724137931, \"symbol\": \"circle\"}, \"mode\": \"markers\", \"name\": \"Student_3\", \"text\": [\"1\", \"23\", \"20\", \"25\", \"23\", \"2\", \"29\", \"29\"], \"x\": [\"Student_3\", \"Student_3\", \"Student_3\", \"Student_3\", \"Student_3\", \"Student_3\", \"Student_3\", \"Student_3\", \"Student_3\"], \"y\": [\"Video1\", \"Video2\", \"Quiz1\", \"Quiz2\", \"Pdf1\", \"Pdf2\", \"Ebook1\", \"Ebook2\"], \"type\": \"scatter\", \"uid\": \"0bd20d04-e519-11e8-9c04-616182ad9bd4\"}, {\"marker\": {\"color\": \"rgb(0,0,255)\", \"line\": {\"width\": 2}, \"size\": [4, 29, 10, 25, 12, 4, 14, 26], \"sizemode\": \"area\", \"sizeref\": 0.06896551724137931, \"symbol\": \"circle\"}, \"mode\": \"markers\", \"name\": \"Student_4\", \"text\": [\"4\", \"29\", \"10\", \"25\", \"12\", \"4\", \"14\", \"26\"], \"x\": [\"Student_4\", \"Student_4\", \"Student_4\", \"Student_4\", \"Student_4\", \"Student_4\", \"Student_4\", \"Student_4\", \"Student_4\"], \"y\": [\"Video1\", \"Video2\", \"Quiz1\", \"Quiz2\", \"Pdf1\", \"Pdf2\", \"Ebook1\", \"Ebook2\"], \"type\": \"scatter\", \"uid\": \"0bd20dae-e519-11e8-9c04-616182ad9bd4\"}, {\"marker\": {\"color\": \"rgb(0,0,255)\", \"line\": {\"width\": 2}, \"size\": [2, 29, 14, 18, 15, 26, 19, 18], \"sizemode\": \"area\", \"sizeref\": 0.06896551724137931, \"symbol\": \"circle\"}, \"mode\": \"markers\", \"name\": \"Student_5\", \"text\": [\"2\", \"29\", \"14\", \"18\", \"15\", \"26\", \"19\", \"18\"], \"x\": [\"Student_5\", \"Student_5\", \"Student_5\", \"Student_5\", \"Student_5\", \"Student_5\", \"Student_5\", \"Student_5\", \"Student_5\"], \"y\": [\"Video1\", \"Video2\", \"Quiz1\", \"Quiz2\", \"Pdf1\", \"Pdf2\", \"Ebook1\", \"Ebook2\"], \"type\": \"scatter\", \"uid\": \"0bd20e4e-e519-11e8-9c04-616182ad9bd4\"}, {\"marker\": {\"color\": \"rgb(0,0,255)\", \"line\": {\"width\": 2}, \"size\": [14, 14, 15, 10, 18, 29, 6, 11], \"sizemode\": \"area\", \"sizeref\": 0.06896551724137931, \"symbol\": \"circle\"}, \"mode\": \"markers\", \"name\": \"Student_6\", \"text\": [\"14\", \"14\", \"15\", \"10\", \"18\", \"29\", \"6\", \"11\"], \"x\": [\"Student_6\", \"Student_6\", \"Student_6\", \"Student_6\", \"Student_6\", \"Student_6\", \"Student_6\", \"Student_6\", \"Student_6\"], \"y\": [\"Video1\", \"Video2\", \"Quiz1\", \"Quiz2\", \"Pdf1\", \"Pdf2\", \"Ebook1\", \"Ebook2\"], \"type\": \"scatter\", \"uid\": \"0bd20ee4-e519-11e8-9c04-616182ad9bd4\"}, {\"marker\": {\"color\": \"rgb(0,0,255)\", \"line\": {\"width\": 2}, \"size\": [23, 6, 1, 6, 29, 22, 5, 11], \"sizemode\": \"area\", \"sizeref\": 0.06896551724137931, \"symbol\": \"circle\"}, \"mode\": \"markers\", \"name\": \"Student_7\", \"text\": [\"23\", \"6\", \"1\", \"6\", \"29\", \"22\", \"5\", \"11\"], \"x\": [\"Student_7\", \"Student_7\", \"Student_7\", \"Student_7\", \"Student_7\", \"Student_7\", \"Student_7\", \"Student_7\", \"Student_7\"], \"y\": [\"Video1\", \"Video2\", \"Quiz1\", \"Quiz2\", \"Pdf1\", \"Pdf2\", \"Ebook1\", \"Ebook2\"], \"type\": \"scatter\", \"uid\": \"0bd20f7a-e519-11e8-9c04-616182ad9bd4\"}, {\"marker\": {\"color\": \"rgb(0,0,255)\", \"line\": {\"width\": 2}, \"size\": [23, 1, 9, 26, 16, 21, 29, 22], \"sizemode\": \"area\", \"sizeref\": 0.06896551724137931, \"symbol\": \"circle\"}, \"mode\": \"markers\", \"name\": \"Student_8\", \"text\": [\"23\", \"1\", \"9\", \"26\", \"16\", \"21\", \"29\", \"22\"], \"x\": [\"Student_8\", \"Student_8\", \"Student_8\", \"Student_8\", \"Student_8\", \"Student_8\", \"Student_8\", \"Student_8\", \"Student_8\"], \"y\": [\"Video1\", \"Video2\", \"Quiz1\", \"Quiz2\", \"Pdf1\", \"Pdf2\", \"Ebook1\", \"Ebook2\"], \"type\": \"scatter\", \"uid\": \"0bd21010-e519-11e8-9c04-616182ad9bd4\"}, {\"marker\": {\"color\": \"rgb(0,0,255)\", \"line\": {\"width\": 2}, \"size\": [15, 4, 5, 6, 10, 11, 12, 14], \"sizemode\": \"area\", \"sizeref\": 0.06896551724137931, \"symbol\": \"circle\"}, \"mode\": \"markers\", \"name\": \"Student_9\", \"text\": [\"15\", \"4\", \"5\", \"6\", \"10\", \"11\", \"12\", \"14\"], \"x\": [\"Student_9\", \"Student_9\", \"Student_9\", \"Student_9\", \"Student_9\", \"Student_9\", \"Student_9\", \"Student_9\", \"Student_9\"], \"y\": [\"Video1\", \"Video2\", \"Quiz1\", \"Quiz2\", \"Pdf1\", \"Pdf2\", \"Ebook1\", \"Ebook2\"], \"type\": \"scatter\", \"uid\": \"0bd2109c-e519-11e8-9c04-616182ad9bd4\"}, {\"marker\": {\"color\": \"rgb(0,0,255)\", \"line\": {\"width\": 2}, \"size\": [19, 4, 22, 7, 12, 12, 29, 6], \"sizemode\": \"area\", \"sizeref\": 0.06896551724137931, \"symbol\": \"circle\"}, \"mode\": \"markers\", \"name\": \"Student_10\", \"text\": [\"19\", \"4\", \"22\", \"7\", \"12\", \"12\", \"29\", \"6\"], \"x\": [\"Student_10\", \"Student_10\", \"Student_10\", \"Student_10\", \"Student_10\", \"Student_10\", \"Student_10\", \"Student_10\", \"Student_10\"], \"y\": [\"Video1\", \"Video2\", \"Quiz1\", \"Quiz2\", \"Pdf1\", \"Pdf2\", \"Ebook1\", \"Ebook2\"], \"type\": \"scatter\", \"uid\": \"0bd21128-e519-11e8-9c04-616182ad9bd4\"}, {\"marker\": {\"color\": \"rgb(0,0,255)\", \"line\": {\"width\": 2}, \"size\": [16, 27, 9, 21, 5, 4, 26, 19], \"sizemode\": \"area\", \"sizeref\": 0.06896551724137931, \"symbol\": \"circle\"}, \"mode\": \"markers\", \"name\": \"Student_11\", \"text\": [\"16\", \"27\", \"9\", \"21\", \"5\", \"4\", \"26\", \"19\"], \"x\": [\"Student_11\", \"Student_11\", \"Student_11\", \"Student_11\", \"Student_11\", \"Student_11\", \"Student_11\", \"Student_11\", \"Student_11\"], \"y\": [\"Video1\", \"Video2\", \"Quiz1\", \"Quiz2\", \"Pdf1\", \"Pdf2\", \"Ebook1\", \"Ebook2\"], \"type\": \"scatter\", \"uid\": \"0bd211b4-e519-11e8-9c04-616182ad9bd4\"}, {\"marker\": {\"color\": \"rgb(0,0,255)\", \"line\": {\"width\": 2}, \"size\": [23, 4, 0, 17, 17, 7, 16, 4], \"sizemode\": \"area\", \"sizeref\": 0.06896551724137931, \"symbol\": \"circle\"}, \"mode\": \"markers\", \"name\": \"Student_12\", \"text\": [\"23\", \"4\", \"0\", \"17\", \"17\", \"7\", \"16\", \"4\"], \"x\": [\"Student_12\", \"Student_12\", \"Student_12\", \"Student_12\", \"Student_12\", \"Student_12\", \"Student_12\", \"Student_12\", \"Student_12\"], \"y\": [\"Video1\", \"Video2\", \"Quiz1\", \"Quiz2\", \"Pdf1\", \"Pdf2\", \"Ebook1\", \"Ebook2\"], \"type\": \"scatter\", \"uid\": \"0bd21240-e519-11e8-9c04-616182ad9bd4\"}, {\"marker\": {\"color\": \"rgb(0,0,255)\", \"line\": {\"width\": 2}, \"size\": [14, 8, 27, 6, 26, 24, 19, 19], \"sizemode\": \"area\", \"sizeref\": 0.06896551724137931, \"symbol\": \"circle\"}, \"mode\": \"markers\", \"name\": \"Student_13\", \"text\": [\"14\", \"8\", \"27\", \"6\", \"26\", \"24\", \"19\", \"19\"], \"x\": [\"Student_13\", \"Student_13\", \"Student_13\", \"Student_13\", \"Student_13\", \"Student_13\", \"Student_13\", \"Student_13\", \"Student_13\"], \"y\": [\"Video1\", \"Video2\", \"Quiz1\", \"Quiz2\", \"Pdf1\", \"Pdf2\", \"Ebook1\", \"Ebook2\"], \"type\": \"scatter\", \"uid\": \"0bd212d6-e519-11e8-9c04-616182ad9bd4\"}, {\"marker\": {\"color\": \"rgb(0,0,255)\", \"line\": {\"width\": 2}, \"size\": [4, 8, 22, 9, 9, 21, 22, 19], \"sizemode\": \"area\", \"sizeref\": 0.06896551724137931, \"symbol\": \"circle\"}, \"mode\": \"markers\", \"name\": \"Student_14\", \"text\": [\"4\", \"8\", \"22\", \"9\", \"9\", \"21\", \"22\", \"19\"], \"x\": [\"Student_14\", \"Student_14\", \"Student_14\", \"Student_14\", \"Student_14\", \"Student_14\", \"Student_14\", \"Student_14\", \"Student_14\"], \"y\": [\"Video1\", \"Video2\", \"Quiz1\", \"Quiz2\", \"Pdf1\", \"Pdf2\", \"Ebook1\", \"Ebook2\"], \"type\": \"scatter\", \"uid\": \"0bd21362-e519-11e8-9c04-616182ad9bd4\"}, {\"marker\": {\"color\": \"rgb(0,0,255)\", \"line\": {\"width\": 2}, \"size\": [13, 12, 22, 14, 19, 11, 26, 17], \"sizemode\": \"area\", \"sizeref\": 0.06896551724137931, \"symbol\": \"circle\"}, \"mode\": \"markers\", \"name\": \"Student_15\", \"text\": [\"13\", \"12\", \"22\", \"14\", \"19\", \"11\", \"26\", \"17\"], \"x\": [\"Student_15\", \"Student_15\", \"Student_15\", \"Student_15\", \"Student_15\", \"Student_15\", \"Student_15\", \"Student_15\", \"Student_15\"], \"y\": [\"Video1\", \"Video2\", \"Quiz1\", \"Quiz2\", \"Pdf1\", \"Pdf2\", \"Ebook1\", \"Ebook2\"], \"type\": \"scatter\", \"uid\": \"0bd213ee-e519-11e8-9c04-616182ad9bd4\"}, {\"marker\": {\"color\": \"rgb(0,0,255)\", \"line\": {\"width\": 2}, \"size\": [15, 11, 21, 18, 3, 12, 15, 8], \"sizemode\": \"area\", \"sizeref\": 0.06896551724137931, \"symbol\": \"circle\"}, \"mode\": \"markers\", \"name\": \"Student_16\", \"text\": [\"15\", \"11\", \"21\", \"18\", \"3\", \"12\", \"15\", \"8\"], \"x\": [\"Student_16\", \"Student_16\", \"Student_16\", \"Student_16\", \"Student_16\", \"Student_16\", \"Student_16\", \"Student_16\", \"Student_16\"], \"y\": [\"Video1\", \"Video2\", \"Quiz1\", \"Quiz2\", \"Pdf1\", \"Pdf2\", \"Ebook1\", \"Ebook2\"], \"type\": \"scatter\", \"uid\": \"0bd2147a-e519-11e8-9c04-616182ad9bd4\"}, {\"marker\": {\"color\": \"rgb(0,0,255)\", \"line\": {\"width\": 2}, \"size\": [10, 24, 13, 13, 20, 15, 2, 18], \"sizemode\": \"area\", \"sizeref\": 0.06896551724137931, \"symbol\": \"circle\"}, \"mode\": \"markers\", \"name\": \"Student_17\", \"text\": [\"10\", \"24\", \"13\", \"13\", \"20\", \"15\", \"2\", \"18\"], \"x\": [\"Student_17\", \"Student_17\", \"Student_17\", \"Student_17\", \"Student_17\", \"Student_17\", \"Student_17\", \"Student_17\", \"Student_17\"], \"y\": [\"Video1\", \"Video2\", \"Quiz1\", \"Quiz2\", \"Pdf1\", \"Pdf2\", \"Ebook1\", \"Ebook2\"], \"type\": \"scatter\", \"uid\": \"0bd21506-e519-11e8-9c04-616182ad9bd4\"}, {\"marker\": {\"color\": \"rgb(0,0,255)\", \"line\": {\"width\": 2}, \"size\": [27, 18, 18, 18, 25, 9, 25, 25], \"sizemode\": \"area\", \"sizeref\": 0.06896551724137931, \"symbol\": \"circle\"}, \"mode\": \"markers\", \"name\": \"Student_18\", \"text\": [\"27\", \"18\", \"18\", \"18\", \"25\", \"9\", \"25\", \"25\"], \"x\": [\"Student_18\", \"Student_18\", \"Student_18\", \"Student_18\", \"Student_18\", \"Student_18\", \"Student_18\", \"Student_18\", \"Student_18\"], \"y\": [\"Video1\", \"Video2\", \"Quiz1\", \"Quiz2\", \"Pdf1\", \"Pdf2\", \"Ebook1\", \"Ebook2\"], \"type\": \"scatter\", \"uid\": \"0bd21592-e519-11e8-9c04-616182ad9bd4\"}, {\"marker\": {\"color\": \"rgb(0,0,255)\", \"line\": {\"width\": 2}, \"size\": [10, 11, 24, 23, 19, 14, 26, 23], \"sizemode\": \"area\", \"sizeref\": 0.06896551724137931, \"symbol\": \"circle\"}, \"mode\": \"markers\", \"name\": \"Student_19\", \"text\": [\"10\", \"11\", \"24\", \"23\", \"19\", \"14\", \"26\", \"23\"], \"x\": [\"Student_19\", \"Student_19\", \"Student_19\", \"Student_19\", \"Student_19\", \"Student_19\", \"Student_19\", \"Student_19\", \"Student_19\"], \"y\": [\"Video1\", \"Video2\", \"Quiz1\", \"Quiz2\", \"Pdf1\", \"Pdf2\", \"Ebook1\", \"Ebook2\"], \"type\": \"scatter\", \"uid\": \"0bd21614-e519-11e8-9c04-616182ad9bd4\"}, {\"marker\": {\"color\": \"rgb(0,0,255)\", \"line\": {\"width\": 2}, \"size\": [17, 20, 12, 8, 29, 10, 29, 29], \"sizemode\": \"area\", \"sizeref\": 0.06896551724137931, \"symbol\": \"circle\"}, \"mode\": \"markers\", \"name\": \"Student_20\", \"text\": [\"17\", \"20\", \"12\", \"8\", \"29\", \"10\", \"29\", \"29\"], \"x\": [\"Student_20\", \"Student_20\", \"Student_20\", \"Student_20\", \"Student_20\", \"Student_20\", \"Student_20\", \"Student_20\", \"Student_20\"], \"y\": [\"Video1\", \"Video2\", \"Quiz1\", \"Quiz2\", \"Pdf1\", \"Pdf2\", \"Ebook1\", \"Ebook2\"], \"type\": \"scatter\", \"uid\": \"0bd21696-e519-11e8-9c04-616182ad9bd4\"}], {\"hovermode\": \"closest\", \"showlegend\": true, \"title\": \"N\\u00famero de acessos nos materiais por estudante\", \"xaxis\": {\"autorange\": false, \"fixedrange\": false, \"range\": [-1, 20], \"rangemode\": \"normal\", \"showline\": true, \"title\": \"Estudantes\", \"type\": \"category\"}, \"yaxis\": {\"autorange\": false, \"categoryorder\": \"category ascending\", \"fixedrange\": false, \"range\": [-1, 8], \"rangemode\": \"normal\", \"showline\": true, \"title\": \"Materiais\", \"type\": \"category\"}}, {\"showLink\": true, \"linkText\": \"Export to plot.ly\"})});</script>"
      ],
      "text/vnd.plotly.v1+html": [
       "<div id=\"f93cebfe-3b2b-4f2f-820e-0a6dd2841619\" style=\"height: 525px; width: 100%;\" class=\"plotly-graph-div\"></div><script type=\"text/javascript\">require([\"plotly\"], function(Plotly) { window.PLOTLYENV=window.PLOTLYENV || {};window.PLOTLYENV.BASE_URL=\"https://plot.ly\";Plotly.newPlot(\"f93cebfe-3b2b-4f2f-820e-0a6dd2841619\", [{\"marker\": {\"color\": \"rgb(0,0,255)\", \"line\": {\"width\": 2}, \"size\": [7, 23, 20, 20, 0, 3, 10, 23], \"sizemode\": \"area\", \"sizeref\": 0.06896551724137931, \"symbol\": \"circle\"}, \"mode\": \"markers\", \"name\": \"Student_1\", \"text\": [\"7\", \"23\", \"20\", \"20\", \"0\", \"3\", \"10\", \"23\"], \"x\": [\"Student_1\", \"Student_1\", \"Student_1\", \"Student_1\", \"Student_1\", \"Student_1\", \"Student_1\", \"Student_1\", \"Student_1\"], \"y\": [\"Video1\", \"Video2\", \"Quiz1\", \"Quiz2\", \"Pdf1\", \"Pdf2\", \"Ebook1\", \"Ebook2\"], \"type\": \"scatter\", \"uid\": \"0bd20a8e-e519-11e8-9c04-616182ad9bd4\"}, {\"marker\": {\"color\": \"rgb(0,0,255)\", \"line\": {\"width\": 2}, \"size\": [5, 8, 21, 29, 0, 18, 21, 25], \"sizemode\": \"area\", \"sizeref\": 0.06896551724137931, \"symbol\": \"circle\"}, \"mode\": \"markers\", \"name\": \"Student_2\", \"text\": [\"5\", \"8\", \"21\", \"29\", \"0\", \"18\", \"21\", \"25\"], \"x\": [\"Student_2\", \"Student_2\", \"Student_2\", \"Student_2\", \"Student_2\", \"Student_2\", \"Student_2\", \"Student_2\", \"Student_2\"], \"y\": [\"Video1\", \"Video2\", \"Quiz1\", \"Quiz2\", \"Pdf1\", \"Pdf2\", \"Ebook1\", \"Ebook2\"], \"type\": \"scatter\", \"uid\": \"0bd20c32-e519-11e8-9c04-616182ad9bd4\"}, {\"marker\": {\"color\": \"rgb(0,0,255)\", \"line\": {\"width\": 2}, \"size\": [1, 23, 20, 25, 23, 2, 29, 29], \"sizemode\": \"area\", \"sizeref\": 0.06896551724137931, \"symbol\": \"circle\"}, \"mode\": \"markers\", \"name\": \"Student_3\", \"text\": [\"1\", \"23\", \"20\", \"25\", \"23\", \"2\", \"29\", \"29\"], \"x\": [\"Student_3\", \"Student_3\", \"Student_3\", \"Student_3\", \"Student_3\", \"Student_3\", \"Student_3\", \"Student_3\", \"Student_3\"], \"y\": [\"Video1\", \"Video2\", \"Quiz1\", \"Quiz2\", \"Pdf1\", \"Pdf2\", \"Ebook1\", \"Ebook2\"], \"type\": \"scatter\", \"uid\": \"0bd20d04-e519-11e8-9c04-616182ad9bd4\"}, {\"marker\": {\"color\": \"rgb(0,0,255)\", \"line\": {\"width\": 2}, \"size\": [4, 29, 10, 25, 12, 4, 14, 26], \"sizemode\": \"area\", \"sizeref\": 0.06896551724137931, \"symbol\": \"circle\"}, \"mode\": \"markers\", \"name\": \"Student_4\", \"text\": [\"4\", \"29\", \"10\", \"25\", \"12\", \"4\", \"14\", \"26\"], \"x\": [\"Student_4\", \"Student_4\", \"Student_4\", \"Student_4\", \"Student_4\", \"Student_4\", \"Student_4\", \"Student_4\", \"Student_4\"], \"y\": [\"Video1\", \"Video2\", \"Quiz1\", \"Quiz2\", \"Pdf1\", \"Pdf2\", \"Ebook1\", \"Ebook2\"], \"type\": \"scatter\", \"uid\": \"0bd20dae-e519-11e8-9c04-616182ad9bd4\"}, {\"marker\": {\"color\": \"rgb(0,0,255)\", \"line\": {\"width\": 2}, \"size\": [2, 29, 14, 18, 15, 26, 19, 18], \"sizemode\": \"area\", \"sizeref\": 0.06896551724137931, \"symbol\": \"circle\"}, \"mode\": \"markers\", \"name\": \"Student_5\", \"text\": [\"2\", \"29\", \"14\", \"18\", \"15\", \"26\", \"19\", \"18\"], \"x\": [\"Student_5\", \"Student_5\", \"Student_5\", \"Student_5\", \"Student_5\", \"Student_5\", \"Student_5\", \"Student_5\", \"Student_5\"], \"y\": [\"Video1\", \"Video2\", \"Quiz1\", \"Quiz2\", \"Pdf1\", \"Pdf2\", \"Ebook1\", \"Ebook2\"], \"type\": \"scatter\", \"uid\": \"0bd20e4e-e519-11e8-9c04-616182ad9bd4\"}, {\"marker\": {\"color\": \"rgb(0,0,255)\", \"line\": {\"width\": 2}, \"size\": [14, 14, 15, 10, 18, 29, 6, 11], \"sizemode\": \"area\", \"sizeref\": 0.06896551724137931, \"symbol\": \"circle\"}, \"mode\": \"markers\", \"name\": \"Student_6\", \"text\": [\"14\", \"14\", \"15\", \"10\", \"18\", \"29\", \"6\", \"11\"], \"x\": [\"Student_6\", \"Student_6\", \"Student_6\", \"Student_6\", \"Student_6\", \"Student_6\", \"Student_6\", \"Student_6\", \"Student_6\"], \"y\": [\"Video1\", \"Video2\", \"Quiz1\", \"Quiz2\", \"Pdf1\", \"Pdf2\", \"Ebook1\", \"Ebook2\"], \"type\": \"scatter\", \"uid\": \"0bd20ee4-e519-11e8-9c04-616182ad9bd4\"}, {\"marker\": {\"color\": \"rgb(0,0,255)\", \"line\": {\"width\": 2}, \"size\": [23, 6, 1, 6, 29, 22, 5, 11], \"sizemode\": \"area\", \"sizeref\": 0.06896551724137931, \"symbol\": \"circle\"}, \"mode\": \"markers\", \"name\": \"Student_7\", \"text\": [\"23\", \"6\", \"1\", \"6\", \"29\", \"22\", \"5\", \"11\"], \"x\": [\"Student_7\", \"Student_7\", \"Student_7\", \"Student_7\", \"Student_7\", \"Student_7\", \"Student_7\", \"Student_7\", \"Student_7\"], \"y\": [\"Video1\", \"Video2\", \"Quiz1\", \"Quiz2\", \"Pdf1\", \"Pdf2\", \"Ebook1\", \"Ebook2\"], \"type\": \"scatter\", \"uid\": \"0bd20f7a-e519-11e8-9c04-616182ad9bd4\"}, {\"marker\": {\"color\": \"rgb(0,0,255)\", \"line\": {\"width\": 2}, \"size\": [23, 1, 9, 26, 16, 21, 29, 22], \"sizemode\": \"area\", \"sizeref\": 0.06896551724137931, \"symbol\": \"circle\"}, \"mode\": \"markers\", \"name\": \"Student_8\", \"text\": [\"23\", \"1\", \"9\", \"26\", \"16\", \"21\", \"29\", \"22\"], \"x\": [\"Student_8\", \"Student_8\", \"Student_8\", \"Student_8\", \"Student_8\", \"Student_8\", \"Student_8\", \"Student_8\", \"Student_8\"], \"y\": [\"Video1\", \"Video2\", \"Quiz1\", \"Quiz2\", \"Pdf1\", \"Pdf2\", \"Ebook1\", \"Ebook2\"], \"type\": \"scatter\", \"uid\": \"0bd21010-e519-11e8-9c04-616182ad9bd4\"}, {\"marker\": {\"color\": \"rgb(0,0,255)\", \"line\": {\"width\": 2}, \"size\": [15, 4, 5, 6, 10, 11, 12, 14], \"sizemode\": \"area\", \"sizeref\": 0.06896551724137931, \"symbol\": \"circle\"}, \"mode\": \"markers\", \"name\": \"Student_9\", \"text\": [\"15\", \"4\", \"5\", \"6\", \"10\", \"11\", \"12\", \"14\"], \"x\": [\"Student_9\", \"Student_9\", \"Student_9\", \"Student_9\", \"Student_9\", \"Student_9\", \"Student_9\", \"Student_9\", \"Student_9\"], \"y\": [\"Video1\", \"Video2\", \"Quiz1\", \"Quiz2\", \"Pdf1\", \"Pdf2\", \"Ebook1\", \"Ebook2\"], \"type\": \"scatter\", \"uid\": \"0bd2109c-e519-11e8-9c04-616182ad9bd4\"}, {\"marker\": {\"color\": \"rgb(0,0,255)\", \"line\": {\"width\": 2}, \"size\": [19, 4, 22, 7, 12, 12, 29, 6], \"sizemode\": \"area\", \"sizeref\": 0.06896551724137931, \"symbol\": \"circle\"}, \"mode\": \"markers\", \"name\": \"Student_10\", \"text\": [\"19\", \"4\", \"22\", \"7\", \"12\", \"12\", \"29\", \"6\"], \"x\": [\"Student_10\", \"Student_10\", \"Student_10\", \"Student_10\", \"Student_10\", \"Student_10\", \"Student_10\", \"Student_10\", \"Student_10\"], \"y\": [\"Video1\", \"Video2\", \"Quiz1\", \"Quiz2\", \"Pdf1\", \"Pdf2\", \"Ebook1\", \"Ebook2\"], \"type\": \"scatter\", \"uid\": \"0bd21128-e519-11e8-9c04-616182ad9bd4\"}, {\"marker\": {\"color\": \"rgb(0,0,255)\", \"line\": {\"width\": 2}, \"size\": [16, 27, 9, 21, 5, 4, 26, 19], \"sizemode\": \"area\", \"sizeref\": 0.06896551724137931, \"symbol\": \"circle\"}, \"mode\": \"markers\", \"name\": \"Student_11\", \"text\": [\"16\", \"27\", \"9\", \"21\", \"5\", \"4\", \"26\", \"19\"], \"x\": [\"Student_11\", \"Student_11\", \"Student_11\", \"Student_11\", \"Student_11\", \"Student_11\", \"Student_11\", \"Student_11\", \"Student_11\"], \"y\": [\"Video1\", \"Video2\", \"Quiz1\", \"Quiz2\", \"Pdf1\", \"Pdf2\", \"Ebook1\", \"Ebook2\"], \"type\": \"scatter\", \"uid\": \"0bd211b4-e519-11e8-9c04-616182ad9bd4\"}, {\"marker\": {\"color\": \"rgb(0,0,255)\", \"line\": {\"width\": 2}, \"size\": [23, 4, 0, 17, 17, 7, 16, 4], \"sizemode\": \"area\", \"sizeref\": 0.06896551724137931, \"symbol\": \"circle\"}, \"mode\": \"markers\", \"name\": \"Student_12\", \"text\": [\"23\", \"4\", \"0\", \"17\", \"17\", \"7\", \"16\", \"4\"], \"x\": [\"Student_12\", \"Student_12\", \"Student_12\", \"Student_12\", \"Student_12\", \"Student_12\", \"Student_12\", \"Student_12\", \"Student_12\"], \"y\": [\"Video1\", \"Video2\", \"Quiz1\", \"Quiz2\", \"Pdf1\", \"Pdf2\", \"Ebook1\", \"Ebook2\"], \"type\": \"scatter\", \"uid\": \"0bd21240-e519-11e8-9c04-616182ad9bd4\"}, {\"marker\": {\"color\": \"rgb(0,0,255)\", \"line\": {\"width\": 2}, \"size\": [14, 8, 27, 6, 26, 24, 19, 19], \"sizemode\": \"area\", \"sizeref\": 0.06896551724137931, \"symbol\": \"circle\"}, \"mode\": \"markers\", \"name\": \"Student_13\", \"text\": [\"14\", \"8\", \"27\", \"6\", \"26\", \"24\", \"19\", \"19\"], \"x\": [\"Student_13\", \"Student_13\", \"Student_13\", \"Student_13\", \"Student_13\", \"Student_13\", \"Student_13\", \"Student_13\", \"Student_13\"], \"y\": [\"Video1\", \"Video2\", \"Quiz1\", \"Quiz2\", \"Pdf1\", \"Pdf2\", \"Ebook1\", \"Ebook2\"], \"type\": \"scatter\", \"uid\": \"0bd212d6-e519-11e8-9c04-616182ad9bd4\"}, {\"marker\": {\"color\": \"rgb(0,0,255)\", \"line\": {\"width\": 2}, \"size\": [4, 8, 22, 9, 9, 21, 22, 19], \"sizemode\": \"area\", \"sizeref\": 0.06896551724137931, \"symbol\": \"circle\"}, \"mode\": \"markers\", \"name\": \"Student_14\", \"text\": [\"4\", \"8\", \"22\", \"9\", \"9\", \"21\", \"22\", \"19\"], \"x\": [\"Student_14\", \"Student_14\", \"Student_14\", \"Student_14\", \"Student_14\", \"Student_14\", \"Student_14\", \"Student_14\", \"Student_14\"], \"y\": [\"Video1\", \"Video2\", \"Quiz1\", \"Quiz2\", \"Pdf1\", \"Pdf2\", \"Ebook1\", \"Ebook2\"], \"type\": \"scatter\", \"uid\": \"0bd21362-e519-11e8-9c04-616182ad9bd4\"}, {\"marker\": {\"color\": \"rgb(0,0,255)\", \"line\": {\"width\": 2}, \"size\": [13, 12, 22, 14, 19, 11, 26, 17], \"sizemode\": \"area\", \"sizeref\": 0.06896551724137931, \"symbol\": \"circle\"}, \"mode\": \"markers\", \"name\": \"Student_15\", \"text\": [\"13\", \"12\", \"22\", \"14\", \"19\", \"11\", \"26\", \"17\"], \"x\": [\"Student_15\", \"Student_15\", \"Student_15\", \"Student_15\", \"Student_15\", \"Student_15\", \"Student_15\", \"Student_15\", \"Student_15\"], \"y\": [\"Video1\", \"Video2\", \"Quiz1\", \"Quiz2\", \"Pdf1\", \"Pdf2\", \"Ebook1\", \"Ebook2\"], \"type\": \"scatter\", \"uid\": \"0bd213ee-e519-11e8-9c04-616182ad9bd4\"}, {\"marker\": {\"color\": \"rgb(0,0,255)\", \"line\": {\"width\": 2}, \"size\": [15, 11, 21, 18, 3, 12, 15, 8], \"sizemode\": \"area\", \"sizeref\": 0.06896551724137931, \"symbol\": \"circle\"}, \"mode\": \"markers\", \"name\": \"Student_16\", \"text\": [\"15\", \"11\", \"21\", \"18\", \"3\", \"12\", \"15\", \"8\"], \"x\": [\"Student_16\", \"Student_16\", \"Student_16\", \"Student_16\", \"Student_16\", \"Student_16\", \"Student_16\", \"Student_16\", \"Student_16\"], \"y\": [\"Video1\", \"Video2\", \"Quiz1\", \"Quiz2\", \"Pdf1\", \"Pdf2\", \"Ebook1\", \"Ebook2\"], \"type\": \"scatter\", \"uid\": \"0bd2147a-e519-11e8-9c04-616182ad9bd4\"}, {\"marker\": {\"color\": \"rgb(0,0,255)\", \"line\": {\"width\": 2}, \"size\": [10, 24, 13, 13, 20, 15, 2, 18], \"sizemode\": \"area\", \"sizeref\": 0.06896551724137931, \"symbol\": \"circle\"}, \"mode\": \"markers\", \"name\": \"Student_17\", \"text\": [\"10\", \"24\", \"13\", \"13\", \"20\", \"15\", \"2\", \"18\"], \"x\": [\"Student_17\", \"Student_17\", \"Student_17\", \"Student_17\", \"Student_17\", \"Student_17\", \"Student_17\", \"Student_17\", \"Student_17\"], \"y\": [\"Video1\", \"Video2\", \"Quiz1\", \"Quiz2\", \"Pdf1\", \"Pdf2\", \"Ebook1\", \"Ebook2\"], \"type\": \"scatter\", \"uid\": \"0bd21506-e519-11e8-9c04-616182ad9bd4\"}, {\"marker\": {\"color\": \"rgb(0,0,255)\", \"line\": {\"width\": 2}, \"size\": [27, 18, 18, 18, 25, 9, 25, 25], \"sizemode\": \"area\", \"sizeref\": 0.06896551724137931, \"symbol\": \"circle\"}, \"mode\": \"markers\", \"name\": \"Student_18\", \"text\": [\"27\", \"18\", \"18\", \"18\", \"25\", \"9\", \"25\", \"25\"], \"x\": [\"Student_18\", \"Student_18\", \"Student_18\", \"Student_18\", \"Student_18\", \"Student_18\", \"Student_18\", \"Student_18\", \"Student_18\"], \"y\": [\"Video1\", \"Video2\", \"Quiz1\", \"Quiz2\", \"Pdf1\", \"Pdf2\", \"Ebook1\", \"Ebook2\"], \"type\": \"scatter\", \"uid\": \"0bd21592-e519-11e8-9c04-616182ad9bd4\"}, {\"marker\": {\"color\": \"rgb(0,0,255)\", \"line\": {\"width\": 2}, \"size\": [10, 11, 24, 23, 19, 14, 26, 23], \"sizemode\": \"area\", \"sizeref\": 0.06896551724137931, \"symbol\": \"circle\"}, \"mode\": \"markers\", \"name\": \"Student_19\", \"text\": [\"10\", \"11\", \"24\", \"23\", \"19\", \"14\", \"26\", \"23\"], \"x\": [\"Student_19\", \"Student_19\", \"Student_19\", \"Student_19\", \"Student_19\", \"Student_19\", \"Student_19\", \"Student_19\", \"Student_19\"], \"y\": [\"Video1\", \"Video2\", \"Quiz1\", \"Quiz2\", \"Pdf1\", \"Pdf2\", \"Ebook1\", \"Ebook2\"], \"type\": \"scatter\", \"uid\": \"0bd21614-e519-11e8-9c04-616182ad9bd4\"}, {\"marker\": {\"color\": \"rgb(0,0,255)\", \"line\": {\"width\": 2}, \"size\": [17, 20, 12, 8, 29, 10, 29, 29], \"sizemode\": \"area\", \"sizeref\": 0.06896551724137931, \"symbol\": \"circle\"}, \"mode\": \"markers\", \"name\": \"Student_20\", \"text\": [\"17\", \"20\", \"12\", \"8\", \"29\", \"10\", \"29\", \"29\"], \"x\": [\"Student_20\", \"Student_20\", \"Student_20\", \"Student_20\", \"Student_20\", \"Student_20\", \"Student_20\", \"Student_20\", \"Student_20\"], \"y\": [\"Video1\", \"Video2\", \"Quiz1\", \"Quiz2\", \"Pdf1\", \"Pdf2\", \"Ebook1\", \"Ebook2\"], \"type\": \"scatter\", \"uid\": \"0bd21696-e519-11e8-9c04-616182ad9bd4\"}], {\"hovermode\": \"closest\", \"showlegend\": true, \"title\": \"N\\u00famero de acessos nos materiais por estudante\", \"xaxis\": {\"autorange\": false, \"fixedrange\": false, \"range\": [-1, 20], \"rangemode\": \"normal\", \"showline\": true, \"title\": \"Estudantes\", \"type\": \"category\"}, \"yaxis\": {\"autorange\": false, \"categoryorder\": \"category ascending\", \"fixedrange\": false, \"range\": [-1, 8], \"rangemode\": \"normal\", \"showline\": true, \"title\": \"Materiais\", \"type\": \"category\"}}, {\"showLink\": true, \"linkText\": \"Export to plot.ly\"})});</script>"
      ]
     },
     "metadata": {},
     "output_type": "display_data"
    }
   ],
   "source": [
    "run scripts/V002.py"
   ]
  },
  {
   "cell_type": "markdown",
   "metadata": {},
   "source": [
    "### View 003"
   ]
  },
  {
   "cell_type": "code",
   "execution_count": null,
   "metadata": {
    "scrolled": true
   },
   "outputs": [],
   "source": [
    "run scripts/V003.py"
   ]
  },
  {
   "cell_type": "markdown",
   "metadata": {},
   "source": [
    "### View 004"
   ]
  },
  {
   "cell_type": "code",
   "execution_count": null,
   "metadata": {
    "scrolled": true
   },
   "outputs": [],
   "source": [
    "run scripts/V004.py"
   ]
  },
  {
   "cell_type": "markdown",
   "metadata": {},
   "source": [
    "### View 005"
   ]
  },
  {
   "cell_type": "code",
   "execution_count": null,
   "metadata": {
    "scrolled": true
   },
   "outputs": [],
   "source": [
    "run scripts/V005.py"
   ]
  },
  {
   "cell_type": "markdown",
   "metadata": {},
   "source": [
    "### View 006"
   ]
  },
  {
   "cell_type": "code",
   "execution_count": null,
   "metadata": {},
   "outputs": [],
   "source": [
    "run scripts/V006.py"
   ]
  },
  {
   "cell_type": "markdown",
   "metadata": {},
   "source": [
    "### View 007"
   ]
  },
  {
   "cell_type": "code",
   "execution_count": null,
   "metadata": {},
   "outputs": [],
   "source": [
    "run scripts/V007.py"
   ]
  },
  {
   "cell_type": "markdown",
   "metadata": {},
   "source": [
    "### View 008"
   ]
  },
  {
   "cell_type": "code",
   "execution_count": null,
   "metadata": {},
   "outputs": [],
   "source": [
    "run scripts/V008.py"
   ]
  },
  {
   "cell_type": "markdown",
   "metadata": {},
   "source": [
    "### View 009"
   ]
  },
  {
   "cell_type": "code",
   "execution_count": null,
   "metadata": {},
   "outputs": [],
   "source": [
    "run scripts/V009.py"
   ]
  },
  {
   "cell_type": "markdown",
   "metadata": {},
   "source": [
    "### View 010"
   ]
  },
  {
   "cell_type": "code",
   "execution_count": null,
   "metadata": {},
   "outputs": [],
   "source": [
    "run scripts/V010.py"
   ]
  },
  {
   "cell_type": "markdown",
   "metadata": {},
   "source": [
    "### View 011"
   ]
  },
  {
   "cell_type": "code",
   "execution_count": null,
   "metadata": {},
   "outputs": [],
   "source": [
    "run scripts/V011.py"
   ]
  }
 ],
 "metadata": {
  "kernelspec": {
   "display_name": "Python 3",
   "language": "python",
   "name": "python3"
  },
  "language_info": {
   "codemirror_mode": {
    "name": "ipython",
    "version": 3
   },
   "file_extension": ".py",
   "mimetype": "text/x-python",
   "name": "python",
   "nbconvert_exporter": "python",
   "pygments_lexer": "ipython3",
   "version": "3.7.0"
  }
 },
 "nbformat": 4,
 "nbformat_minor": 2
}
