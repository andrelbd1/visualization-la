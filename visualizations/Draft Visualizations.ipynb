{
 "cells": [
  {
   "cell_type": "markdown",
   "metadata": {},
   "source": [
    "### View 001 - Tarefas feitas pelos estudantes"
   ]
  },
  {
   "cell_type": "code",
   "execution_count": null,
   "metadata": {},
   "outputs": [],
   "source": [
    "run V001.py"
   ]
  },
  {
   "cell_type": "code",
   "execution_count": null,
   "metadata": {
    "scrolled": true
   },
   "outputs": [],
   "source": [
    "language=\"pt\"\n",
    "# language=\"en\"\n",
    "\n",
    "instance = V001(language=language)\n",
    "instance.generate_dataset(number_students = 20, number_assigns = 10)\n",
    "instance.print_all_graphs(language)"
   ]
  },
  {
   "cell_type": "markdown",
   "metadata": {},
   "source": [
    "### View 002 - Acesso dos estudantes aos materiais (ex: videos, ebooks, etc.)"
   ]
  },
  {
   "cell_type": "code",
   "execution_count": null,
   "metadata": {
    "scrolled": true
   },
   "outputs": [],
   "source": [
    "run V002.py"
   ]
  },
  {
   "cell_type": "code",
   "execution_count": null,
   "metadata": {},
   "outputs": [],
   "source": [
    "language=\"pt\"\n",
    "# language=\"en\"\n",
    "\n",
    "instance = V002(language=language)\n",
    "instance.generate_dataset(number_students = 20)\n",
    "instance.print_all_graphs(language)"
   ]
  },
  {
   "cell_type": "markdown",
   "metadata": {},
   "source": [
    "### View 003 - Interação dos estudantes no fórum (ex: postagens, acessos, etc.)"
   ]
  },
  {
   "cell_type": "code",
   "execution_count": null,
   "metadata": {
    "scrolled": true
   },
   "outputs": [],
   "source": [
    "run V003.py"
   ]
  },
  {
   "cell_type": "code",
   "execution_count": null,
   "metadata": {
    "scrolled": true
   },
   "outputs": [],
   "source": [
    "language=\"pt\"\n",
    "# language=\"en\"\n",
    "\n",
    "instance = V003(language=language)\n",
    "instance.generate_dataset(number_students = 20)\n",
    "instance.print_all_graphs(language)"
   ]
  },
  {
   "cell_type": "markdown",
   "metadata": {},
   "source": [
    "### View 004 - Tempo de permanencia dos estudantes nos vídeos"
   ]
  },
  {
   "cell_type": "code",
   "execution_count": null,
   "metadata": {
    "scrolled": true
   },
   "outputs": [],
   "source": [
    "run V004.py"
   ]
  },
  {
   "cell_type": "code",
   "execution_count": null,
   "metadata": {
    "scrolled": false
   },
   "outputs": [],
   "source": [
    "language=\"pt\"\n",
    "# language=\"en\"\n",
    "\n",
    "instance = V004(language=language)\n",
    "instance.generate_dataset(number_students = 20)\n",
    "instance.print_all_graphs(language)"
   ]
  },
  {
   "cell_type": "markdown",
   "metadata": {},
   "source": [
    "### View 005 - Correlação entre as notas e os logs de acesso/interação dos estudantes"
   ]
  },
  {
   "cell_type": "code",
   "execution_count": null,
   "metadata": {},
   "outputs": [],
   "source": [
    "run V005.py"
   ]
  },
  {
   "cell_type": "code",
   "execution_count": null,
   "metadata": {
    "scrolled": true
   },
   "outputs": [],
   "source": [
    "language=\"pt\"\n",
    "# language=\"en\"\n",
    "\n",
    "instance = V005(language=language)\n",
    "instance.generate_dataset(number_students = 60)\n",
    "instance.print_all_graphs(language)"
   ]
  },
  {
   "cell_type": "markdown",
   "metadata": {},
   "source": [
    "### View 006 - Correlação entre o perfil (idade, cidade de origem, etc.) e os logs de acesso/interação dos estudantes"
   ]
  },
  {
   "cell_type": "code",
   "execution_count": null,
   "metadata": {
    "scrolled": true
   },
   "outputs": [],
   "source": [
    "run V006.py"
   ]
  },
  {
   "cell_type": "code",
   "execution_count": null,
   "metadata": {
    "scrolled": false
   },
   "outputs": [],
   "source": [
    "language=\"pt\"\n",
    "# language=\"en\"\n",
    "\n",
    "instance = V006(language=language)\n",
    "instance.generate_dataset(number_students = 60)\n",
    "instance.print_all_graphs(language)"
   ]
  },
  {
   "cell_type": "markdown",
   "metadata": {},
   "source": [
    "### View 007 - Predição das notas e dos estudantes desistentes"
   ]
  },
  {
   "cell_type": "code",
   "execution_count": null,
   "metadata": {},
   "outputs": [],
   "source": [
    "run V007.py"
   ]
  },
  {
   "cell_type": "code",
   "execution_count": null,
   "metadata": {
    "scrolled": true
   },
   "outputs": [],
   "source": [
    "language=\"pt\"\n",
    "# language=\"en\"\n",
    "\n",
    "instance = V007(language=language)\n",
    "instance.generate_dataset(number_students = 60)\n",
    "instance.print_all_graphs(language)"
   ]
  },
  {
   "cell_type": "markdown",
   "metadata": {},
   "source": [
    "### View 008 - Acesso dos estudantes no AVA por dia ou semana"
   ]
  },
  {
   "cell_type": "code",
   "execution_count": null,
   "metadata": {
    "scrolled": true
   },
   "outputs": [],
   "source": [
    "run V008.py"
   ]
  },
  {
   "cell_type": "code",
   "execution_count": null,
   "metadata": {
    "scrolled": true
   },
   "outputs": [],
   "source": [
    "language=\"pt\"\n",
    "# language=\"en\"\n",
    "\n",
    "instance = V008(language=language)\n",
    "instance.generate_dataset(number_students=35, number_weeks=7)\n",
    "instance.print_all_graphs(language)"
   ]
  },
  {
   "cell_type": "markdown",
   "metadata": {},
   "source": [
    "### View 009 - Interação dos estudantes nos vídeos (play, pause, backward, forward)"
   ]
  },
  {
   "cell_type": "code",
   "execution_count": null,
   "metadata": {},
   "outputs": [],
   "source": [
    "run V009.py"
   ]
  },
  {
   "cell_type": "code",
   "execution_count": null,
   "metadata": {
    "scrolled": false
   },
   "outputs": [],
   "source": [
    "language=\"pt\"\n",
    "# language=\"en\"\n",
    "\n",
    "instance = V009(language=language)\n",
    "instance.generate_dataset(number_actions = 100, video_size = 30)\n",
    "instance.print_all_graphs(language)"
   ]
  },
  {
   "cell_type": "markdown",
   "metadata": {},
   "source": [
    "### View 010 - Vídeos que os estudantes entenderam e não entenderam"
   ]
  },
  {
   "cell_type": "code",
   "execution_count": null,
   "metadata": {
    "scrolled": true
   },
   "outputs": [],
   "source": [
    "run V010.py"
   ]
  },
  {
   "cell_type": "code",
   "execution_count": null,
   "metadata": {
    "scrolled": false
   },
   "outputs": [],
   "source": [
    "language=\"pt\"\n",
    "# language=\"en\"\n",
    "\n",
    "instance = V010(language=language)\n",
    "instance.generate_dataset(number_students=35, number_video=10)\n",
    "instance.print_all_graphs(language)"
   ]
  },
  {
   "cell_type": "markdown",
   "metadata": {},
   "source": [
    "### View 011 - Padrão de navegação dos estudantes no AVA"
   ]
  },
  {
   "cell_type": "code",
   "execution_count": 113,
   "metadata": {},
   "outputs": [
    {
     "data": {
      "text/html": [
       "        <script type=\"text/javascript\">\n",
       "        window.PlotlyConfig = {MathJaxConfig: 'local'};\n",
       "        if (window.MathJax) {MathJax.Hub.Config({SVG: {font: \"STIX-Web\"}});}\n",
       "        if (typeof require !== 'undefined') {\n",
       "        require.undef(\"plotly\");\n",
       "        requirejs.config({\n",
       "            paths: {\n",
       "                'plotly': ['https://cdn.plot.ly/plotly-latest.min']\n",
       "            }\n",
       "        });\n",
       "        require(['plotly'], function(Plotly) {\n",
       "            window._Plotly = Plotly;\n",
       "        });\n",
       "        }\n",
       "        </script>\n",
       "        "
      ]
     },
     "metadata": {},
     "output_type": "display_data"
    }
   ],
   "source": [
    "run V011.py"
   ]
  },
  {
   "cell_type": "code",
   "execution_count": 114,
   "metadata": {
    "scrolled": true
   },
   "outputs": [
    {
     "data": {
      "application/vnd.plotly.v1+json": {
       "config": {
        "linkText": "Export to plot.ly",
        "plotlyServerURL": "https://plot.ly",
        "responsive": true,
        "showLink": false
       },
       "data": [
        {
         "cells": {
          "align": [
           "left",
           "center"
          ],
          "fill": {
           "color": "#F5F8FF"
          },
          "values": [
           [
            "AGIS",
            "ALBERTONI",
            "ALCINDA",
            "ALDENIR",
            "AMBROSIO",
            "ANDRESCA",
            "ANICE",
            "ANISIANE",
            "ARILDE",
            "AURINELIA",
            "CIRLENI",
            "CLAUDEVANIA",
            "DALVACI",
            "DARLAN",
            "EDILAURA",
            "EDJONAS",
            "ELENISI",
            "ELIDELTON",
            "ELIELSON",
            "ERACTON",
            "EVAL",
            "EVANEIDE",
            "FARLAN",
            "FELISBERTA",
            "FLAVIANA",
            "GEISI",
            "GILDASIO",
            "GILDSON",
            "GISNEIDE",
            "GLALBER",
            "GLARISTON",
            "GLESIO",
            "GRASSIANE",
            "HOBERT",
            "IBSON",
            "ISOMARA",
            "JAITON",
            "JOBERTO",
            "JOSEILDO",
            "JULI",
            "LUCIEN",
            "MATIAS",
            "MEDA",
            "NUCIO",
            "RAINARA",
            "RAINIER",
            "RIKELLY",
            "RODOMILSON",
            "ROSIRIS",
            "RUITER",
            "SALOMEIA",
            "SAMIRA",
            "SANDREANE",
            "SINFOROSA",
            "TAI",
            "TATIANE",
            "TUBERTINO",
            "VALCELI",
            "WDSON",
            "YUGO"
           ],
           [
            25,
            48,
            92,
            34,
            34,
            0,
            81,
            80,
            79,
            62,
            80,
            86,
            41,
            1,
            89,
            61,
            10,
            41,
            46,
            84,
            0,
            0,
            78,
            72,
            51,
            87,
            77,
            88,
            69,
            95,
            0,
            76,
            21,
            86,
            79,
            82,
            92,
            31,
            68,
            0,
            0,
            21,
            65,
            0,
            81,
            70,
            0,
            57,
            81,
            36,
            6,
            80,
            34,
            89,
            60,
            66,
            42,
            44,
            0,
            92
           ],
           [
            28,
            21,
            89,
            20,
            24,
            12,
            80,
            54,
            91,
            49,
            50,
            100,
            30,
            30,
            71,
            38,
            23,
            32,
            40,
            77,
            8,
            7,
            70,
            60,
            48,
            72,
            57,
            87,
            41,
            95,
            16,
            61,
            34,
            65,
            92,
            71,
            92,
            37,
            37,
            24,
            25,
            24,
            53,
            16,
            97,
            63,
            19,
            35,
            74,
            25,
            27,
            66,
            22,
            78,
            48,
            69,
            29,
            35,
            18,
            99
           ],
           [
            1,
            5,
            16,
            0,
            3,
            2,
            5,
            13,
            30,
            7,
            17,
            11,
            5,
            3,
            18,
            5,
            6,
            2,
            7,
            30,
            1,
            2,
            9,
            7,
            4,
            12,
            11,
            11,
            2,
            11,
            0,
            12,
            5,
            21,
            36,
            17,
            10,
            4,
            8,
            2,
            2,
            7,
            6,
            0,
            14,
            8,
            0,
            10,
            9,
            1,
            0,
            19,
            1,
            35,
            11,
            13,
            5,
            1,
            1,
            37
           ],
           [
            4,
            1,
            20,
            1,
            4,
            1,
            28,
            15,
            21,
            1,
            20,
            13,
            0,
            1,
            7,
            7,
            1,
            4,
            7,
            10,
            1,
            1,
            9,
            14,
            11,
            14,
            5,
            33,
            10,
            23,
            3,
            20,
            3,
            6,
            13,
            24,
            40,
            1,
            5,
            0,
            1,
            7,
            9,
            1,
            12,
            3,
            1,
            9,
            10,
            3,
            6,
            6,
            0,
            5,
            2,
            3,
            4,
            6,
            0,
            20
           ],
           [
            1,
            1,
            3,
            2,
            0,
            1,
            3,
            1,
            5,
            4,
            4,
            10,
            0,
            0,
            9,
            4,
            3,
            1,
            3,
            8,
            1,
            1,
            6,
            2,
            4,
            9,
            2,
            10,
            4,
            5,
            2,
            1,
            2,
            1,
            4,
            9,
            11,
            1,
            4,
            1,
            2,
            2,
            2,
            0,
            5,
            6,
            3,
            6,
            5,
            0,
            1,
            9,
            3,
            4,
            4,
            4,
            2,
            3,
            2,
            7
           ],
           [
            14,
            18,
            77,
            20,
            14,
            5,
            56,
            35,
            69,
            34,
            45,
            56,
            23,
            6,
            42,
            36,
            26,
            23,
            33,
            83,
            6,
            9,
            38,
            30,
            23,
            61,
            48,
            94,
            26,
            51,
            9,
            48,
            14,
            63,
            83,
            85,
            98,
            12,
            32,
            7,
            9,
            29,
            20,
            3,
            46,
            44,
            6,
            40,
            47,
            9,
            21,
            54,
            22,
            51,
            37,
            45,
            32,
            23,
            7,
            103
           ]
          ]
         },
         "header": {
          "align": "center",
          "fill": {
           "color": "#C2D4FF"
          },
          "values": [
           "Estudantes",
           "Notas",
           "Acesso ao AVA",
           "Postagens no Fórum",
           "Respostas no Fórum",
           "Adição de Tópicos no Fórum",
           "Acesso ao Fórum"
          ]
         },
         "type": "table",
         "uid": "2f5db1f1-12a8-48af-895c-6f4fff35840b"
        }
       ],
       "layout": {}
      },
      "text/html": [
       "<div>\n",
       "        \n",
       "        \n",
       "            <div id=\"654423c7-98f8-4652-9a0c-b7d097960fcd\" class=\"plotly-graph-div\" style=\"height:525px; width:100%;\"></div>\n",
       "            <script type=\"text/javascript\">\n",
       "                require([\"plotly\"], function(Plotly) {\n",
       "                    window.PLOTLYENV=window.PLOTLYENV || {};\n",
       "                    window.PLOTLYENV.BASE_URL='https://plot.ly';\n",
       "                    \n",
       "                if (document.getElementById(\"654423c7-98f8-4652-9a0c-b7d097960fcd\")) {\n",
       "                    Plotly.newPlot(\n",
       "                        '654423c7-98f8-4652-9a0c-b7d097960fcd',\n",
       "                        [{\"cells\": {\"align\": [\"left\", \"center\"], \"fill\": {\"color\": \"#F5F8FF\"}, \"values\": [[\"AGIS\", \"ALBERTONI\", \"ALCINDA\", \"ALDENIR\", \"AMBROSIO\", \"ANDRESCA\", \"ANICE\", \"ANISIANE\", \"ARILDE\", \"AURINELIA\", \"CIRLENI\", \"CLAUDEVANIA\", \"DALVACI\", \"DARLAN\", \"EDILAURA\", \"EDJONAS\", \"ELENISI\", \"ELIDELTON\", \"ELIELSON\", \"ERACTON\", \"EVAL\", \"EVANEIDE\", \"FARLAN\", \"FELISBERTA\", \"FLAVIANA\", \"GEISI\", \"GILDASIO\", \"GILDSON\", \"GISNEIDE\", \"GLALBER\", \"GLARISTON\", \"GLESIO\", \"GRASSIANE\", \"HOBERT\", \"IBSON\", \"ISOMARA\", \"JAITON\", \"JOBERTO\", \"JOSEILDO\", \"JULI\", \"LUCIEN\", \"MATIAS\", \"MEDA\", \"NUCIO\", \"RAINARA\", \"RAINIER\", \"RIKELLY\", \"RODOMILSON\", \"ROSIRIS\", \"RUITER\", \"SALOMEIA\", \"SAMIRA\", \"SANDREANE\", \"SINFOROSA\", \"TAI\", \"TATIANE\", \"TUBERTINO\", \"VALCELI\", \"WDSON\", \"YUGO\"], [25, 48, 92, 34, 34, 0, 81, 80, 79, 62, 80, 86, 41, 1, 89, 61, 10, 41, 46, 84, 0, 0, 78, 72, 51, 87, 77, 88, 69, 95, 0, 76, 21, 86, 79, 82, 92, 31, 68, 0, 0, 21, 65, 0, 81, 70, 0, 57, 81, 36, 6, 80, 34, 89, 60, 66, 42, 44, 0, 92], [28, 21, 89, 20, 24, 12, 80, 54, 91, 49, 50, 100, 30, 30, 71, 38, 23, 32, 40, 77, 8, 7, 70, 60, 48, 72, 57, 87, 41, 95, 16, 61, 34, 65, 92, 71, 92, 37, 37, 24, 25, 24, 53, 16, 97, 63, 19, 35, 74, 25, 27, 66, 22, 78, 48, 69, 29, 35, 18, 99], [1, 5, 16, 0, 3, 2, 5, 13, 30, 7, 17, 11, 5, 3, 18, 5, 6, 2, 7, 30, 1, 2, 9, 7, 4, 12, 11, 11, 2, 11, 0, 12, 5, 21, 36, 17, 10, 4, 8, 2, 2, 7, 6, 0, 14, 8, 0, 10, 9, 1, 0, 19, 1, 35, 11, 13, 5, 1, 1, 37], [4, 1, 20, 1, 4, 1, 28, 15, 21, 1, 20, 13, 0, 1, 7, 7, 1, 4, 7, 10, 1, 1, 9, 14, 11, 14, 5, 33, 10, 23, 3, 20, 3, 6, 13, 24, 40, 1, 5, 0, 1, 7, 9, 1, 12, 3, 1, 9, 10, 3, 6, 6, 0, 5, 2, 3, 4, 6, 0, 20], [1, 1, 3, 2, 0, 1, 3, 1, 5, 4, 4, 10, 0, 0, 9, 4, 3, 1, 3, 8, 1, 1, 6, 2, 4, 9, 2, 10, 4, 5, 2, 1, 2, 1, 4, 9, 11, 1, 4, 1, 2, 2, 2, 0, 5, 6, 3, 6, 5, 0, 1, 9, 3, 4, 4, 4, 2, 3, 2, 7], [14, 18, 77, 20, 14, 5, 56, 35, 69, 34, 45, 56, 23, 6, 42, 36, 26, 23, 33, 83, 6, 9, 38, 30, 23, 61, 48, 94, 26, 51, 9, 48, 14, 63, 83, 85, 98, 12, 32, 7, 9, 29, 20, 3, 46, 44, 6, 40, 47, 9, 21, 54, 22, 51, 37, 45, 32, 23, 7, 103]]}, \"header\": {\"align\": \"center\", \"fill\": {\"color\": \"#C2D4FF\"}, \"values\": [\"Estudantes\", \"Notas\", \"Acesso ao AVA\", \"Postagens no F\\u00f3rum\", \"Respostas no F\\u00f3rum\", \"Adi\\u00e7\\u00e3o de T\\u00f3picos no F\\u00f3rum\", \"Acesso ao F\\u00f3rum\"]}, \"type\": \"table\", \"uid\": \"2183871e-33b2-40b2-b462-f798d376b888\"}],\n",
       "                        {},\n",
       "                        {\"showLink\": false, \"linkText\": \"Export to plot.ly\", \"plotlyServerURL\": \"https://plot.ly\", \"responsive\": true}\n",
       "                    ).then(function(){\n",
       "                            \n",
       "var gd = document.getElementById('654423c7-98f8-4652-9a0c-b7d097960fcd');\n",
       "var x = new MutationObserver(function (mutations, observer) {{\n",
       "        var display = window.getComputedStyle(gd).display;\n",
       "        if (!display || display === 'none') {{\n",
       "            console.log([gd, 'removed!']);\n",
       "            Plotly.purge(gd);\n",
       "            observer.disconnect();\n",
       "        }}\n",
       "}});\n",
       "\n",
       "// Listen for the removal of the full notebook cells\n",
       "var notebookContainer = gd.closest('#notebook-container');\n",
       "if (notebookContainer) {{\n",
       "    x.observe(notebookContainer, {childList: true});\n",
       "}}\n",
       "\n",
       "// Listen for the clearing of the current output cell\n",
       "var outputEl = gd.closest('.output');\n",
       "if (outputEl) {{\n",
       "    x.observe(outputEl, {childList: true});\n",
       "}}\n",
       "\n",
       "                        })\n",
       "                };\n",
       "                });\n",
       "            </script>\n",
       "        </div>"
      ]
     },
     "metadata": {},
     "output_type": "display_data"
    },
    {
     "data": {
      "application/vnd.plotly.v1+json": {
       "config": {
        "linkText": "Export to plot.ly",
        "plotlyServerURL": "https://plot.ly",
        "responsive": true,
        "showLink": false
       },
       "data": [
        {
         "marker": {
          "color": "rgb(255,0,0)",
          "line": {
           "width": 2
          },
          "size": 12,
          "symbol": 0
         },
         "mode": "markers",
         "name": "AGIS",
         "text": [
          "AGIS"
         ],
         "type": "scatter",
         "uid": "1b6ff482-35df-408c-a508-e866b80dd759",
         "x": [
          28
         ],
         "y": [
          25
         ]
        },
        {
         "marker": {
          "color": "rgb(255,0,0)",
          "line": {
           "width": 2
          },
          "size": 12,
          "symbol": 0
         },
         "mode": "markers",
         "name": "ALBERTONI",
         "text": [
          "ALBERTONI"
         ],
         "type": "scatter",
         "uid": "7b5a37cf-a0fc-49be-90b6-287add35f606",
         "x": [
          21
         ],
         "y": [
          48
         ]
        },
        {
         "marker": {
          "color": "rgb(0,255,0)",
          "line": {
           "width": 2
          },
          "size": 12,
          "symbol": 2
         },
         "mode": "markers",
         "name": "ALCINDA",
         "text": [
          "ALCINDA"
         ],
         "type": "scatter",
         "uid": "824dd0a9-892e-4ea1-a7fc-0b1b7e040a81",
         "x": [
          89
         ],
         "y": [
          92
         ]
        },
        {
         "marker": {
          "color": "rgb(255,0,0)",
          "line": {
           "width": 2
          },
          "size": 12,
          "symbol": 0
         },
         "mode": "markers",
         "name": "ALDENIR",
         "text": [
          "ALDENIR"
         ],
         "type": "scatter",
         "uid": "fa1afc35-7cef-4a12-967e-aebfcacbf3e5",
         "x": [
          20
         ],
         "y": [
          34
         ]
        },
        {
         "marker": {
          "color": "rgb(255,0,0)",
          "line": {
           "width": 2
          },
          "size": 12,
          "symbol": 0
         },
         "mode": "markers",
         "name": "AMBROSIO",
         "text": [
          "AMBROSIO"
         ],
         "type": "scatter",
         "uid": "40a7f28f-81da-416a-8187-21d27ec358e1",
         "x": [
          24
         ],
         "y": [
          34
         ]
        },
        {
         "marker": {
          "color": "rgb(255,0,0)",
          "line": {
           "width": 2
          },
          "size": 12,
          "symbol": 0
         },
         "mode": "markers",
         "name": "ANDRESCA",
         "text": [
          "ANDRESCA"
         ],
         "type": "scatter",
         "uid": "eb03b13a-45c0-43ed-8791-6f98a10f91be",
         "x": [
          12
         ],
         "y": [
          0
         ]
        },
        {
         "marker": {
          "color": "rgb(0,255,0)",
          "line": {
           "width": 2
          },
          "size": 12,
          "symbol": 2
         },
         "mode": "markers",
         "name": "ANICE",
         "text": [
          "ANICE"
         ],
         "type": "scatter",
         "uid": "471c7bf7-8307-4be7-8913-0e4fd39678d7",
         "x": [
          80
         ],
         "y": [
          81
         ]
        },
        {
         "marker": {
          "color": "rgb(0,0,255)",
          "line": {
           "width": 2
          },
          "size": 12,
          "symbol": 1
         },
         "mode": "markers",
         "name": "ANISIANE",
         "text": [
          "ANISIANE"
         ],
         "type": "scatter",
         "uid": "ff061e94-a33a-4825-90a9-5821fdf7ffaa",
         "x": [
          54
         ],
         "y": [
          80
         ]
        },
        {
         "marker": {
          "color": "rgb(0,255,0)",
          "line": {
           "width": 2
          },
          "size": 12,
          "symbol": 2
         },
         "mode": "markers",
         "name": "ARILDE",
         "text": [
          "ARILDE"
         ],
         "type": "scatter",
         "uid": "3c0f9409-ab33-47e0-8243-35ad8e602b3e",
         "x": [
          91
         ],
         "y": [
          79
         ]
        },
        {
         "marker": {
          "color": "rgb(0,0,255)",
          "line": {
           "width": 2
          },
          "size": 12,
          "symbol": 1
         },
         "mode": "markers",
         "name": "AURINELIA",
         "text": [
          "AURINELIA"
         ],
         "type": "scatter",
         "uid": "af0310ec-8710-4a75-bd4b-7dafa2fb43cf",
         "x": [
          49
         ],
         "y": [
          62
         ]
        },
        {
         "marker": {
          "color": "rgb(0,0,255)",
          "line": {
           "width": 2
          },
          "size": 12,
          "symbol": 1
         },
         "mode": "markers",
         "name": "CIRLENI",
         "text": [
          "CIRLENI"
         ],
         "type": "scatter",
         "uid": "68cf70d5-273e-4c60-b823-f6c6d821b5dd",
         "x": [
          50
         ],
         "y": [
          80
         ]
        },
        {
         "marker": {
          "color": "rgb(0,255,0)",
          "line": {
           "width": 2
          },
          "size": 12,
          "symbol": 2
         },
         "mode": "markers",
         "name": "CLAUDEVANIA",
         "text": [
          "CLAUDEVANIA"
         ],
         "type": "scatter",
         "uid": "20aa4d49-ff55-4812-8189-63a0b644012f",
         "x": [
          100
         ],
         "y": [
          86
         ]
        },
        {
         "marker": {
          "color": "rgb(255,0,0)",
          "line": {
           "width": 2
          },
          "size": 12,
          "symbol": 0
         },
         "mode": "markers",
         "name": "DALVACI",
         "text": [
          "DALVACI"
         ],
         "type": "scatter",
         "uid": "e950ed6b-2500-488c-aeca-c6ac20c8d2f0",
         "x": [
          30
         ],
         "y": [
          41
         ]
        },
        {
         "marker": {
          "color": "rgb(255,0,0)",
          "line": {
           "width": 2
          },
          "size": 12,
          "symbol": 0
         },
         "mode": "markers",
         "name": "DARLAN",
         "text": [
          "DARLAN"
         ],
         "type": "scatter",
         "uid": "66066aa1-c5bc-469f-89ad-443b51c32147",
         "x": [
          30
         ],
         "y": [
          1
         ]
        },
        {
         "marker": {
          "color": "rgb(0,255,0)",
          "line": {
           "width": 2
          },
          "size": 12,
          "symbol": 2
         },
         "mode": "markers",
         "name": "EDILAURA",
         "text": [
          "EDILAURA"
         ],
         "type": "scatter",
         "uid": "0f519934-273f-4bf6-ac1d-7f1e8123128f",
         "x": [
          71
         ],
         "y": [
          89
         ]
        },
        {
         "marker": {
          "color": "rgb(0,0,255)",
          "line": {
           "width": 2
          },
          "size": 12,
          "symbol": 1
         },
         "mode": "markers",
         "name": "EDJONAS",
         "text": [
          "EDJONAS"
         ],
         "type": "scatter",
         "uid": "689995e4-5430-4fe9-af19-5958ba25e73a",
         "x": [
          38
         ],
         "y": [
          61
         ]
        },
        {
         "marker": {
          "color": "rgb(255,0,0)",
          "line": {
           "width": 2
          },
          "size": 12,
          "symbol": 0
         },
         "mode": "markers",
         "name": "ELENISI",
         "text": [
          "ELENISI"
         ],
         "type": "scatter",
         "uid": "c5be9899-79b2-4716-8267-6353d8e09ac5",
         "x": [
          23
         ],
         "y": [
          10
         ]
        },
        {
         "marker": {
          "color": "rgb(255,0,0)",
          "line": {
           "width": 2
          },
          "size": 12,
          "symbol": 0
         },
         "mode": "markers",
         "name": "ELIDELTON",
         "text": [
          "ELIDELTON"
         ],
         "type": "scatter",
         "uid": "46bc1388-aa73-47dc-a4fc-4f621002a023",
         "x": [
          32
         ],
         "y": [
          41
         ]
        },
        {
         "marker": {
          "color": "rgb(255,0,0)",
          "line": {
           "width": 2
          },
          "size": 12,
          "symbol": 0
         },
         "mode": "markers",
         "name": "ELIELSON",
         "text": [
          "ELIELSON"
         ],
         "type": "scatter",
         "uid": "e7669602-a048-4e04-94d7-3a08506a7115",
         "x": [
          40
         ],
         "y": [
          46
         ]
        },
        {
         "marker": {
          "color": "rgb(0,255,0)",
          "line": {
           "width": 2
          },
          "size": 12,
          "symbol": 2
         },
         "mode": "markers",
         "name": "ERACTON",
         "text": [
          "ERACTON"
         ],
         "type": "scatter",
         "uid": "1fa99f56-78d7-4a92-abdb-d5369271f93e",
         "x": [
          77
         ],
         "y": [
          84
         ]
        },
        {
         "marker": {
          "color": "rgb(255,0,0)",
          "line": {
           "width": 2
          },
          "size": 12,
          "symbol": 0
         },
         "mode": "markers",
         "name": "EVAL",
         "text": [
          "EVAL"
         ],
         "type": "scatter",
         "uid": "42e8d8e5-3809-4aa2-91ee-6888a2a5c43e",
         "x": [
          8
         ],
         "y": [
          0
         ]
        },
        {
         "marker": {
          "color": "rgb(255,0,0)",
          "line": {
           "width": 2
          },
          "size": 12,
          "symbol": 0
         },
         "mode": "markers",
         "name": "EVANEIDE",
         "text": [
          "EVANEIDE"
         ],
         "type": "scatter",
         "uid": "774235db-c76f-4716-a999-0cba9a747661",
         "x": [
          7
         ],
         "y": [
          0
         ]
        },
        {
         "marker": {
          "color": "rgb(0,0,255)",
          "line": {
           "width": 2
          },
          "size": 12,
          "symbol": 1
         },
         "mode": "markers",
         "name": "FARLAN",
         "text": [
          "FARLAN"
         ],
         "type": "scatter",
         "uid": "99f4ed61-95e5-455b-aa75-1811adb653d0",
         "x": [
          70
         ],
         "y": [
          78
         ]
        },
        {
         "marker": {
          "color": "rgb(0,0,255)",
          "line": {
           "width": 2
          },
          "size": 12,
          "symbol": 1
         },
         "mode": "markers",
         "name": "FELISBERTA",
         "text": [
          "FELISBERTA"
         ],
         "type": "scatter",
         "uid": "33166acb-2e37-4d54-b396-0945eb4801e2",
         "x": [
          60
         ],
         "y": [
          72
         ]
        },
        {
         "marker": {
          "color": "rgb(0,0,255)",
          "line": {
           "width": 2
          },
          "size": 12,
          "symbol": 1
         },
         "mode": "markers",
         "name": "FLAVIANA",
         "text": [
          "FLAVIANA"
         ],
         "type": "scatter",
         "uid": "483708cc-48ea-4632-9037-eef6a05ec569",
         "x": [
          48
         ],
         "y": [
          51
         ]
        },
        {
         "marker": {
          "color": "rgb(0,255,0)",
          "line": {
           "width": 2
          },
          "size": 12,
          "symbol": 2
         },
         "mode": "markers",
         "name": "GEISI",
         "text": [
          "GEISI"
         ],
         "type": "scatter",
         "uid": "ccaf000d-1749-421e-849b-b099e431bf13",
         "x": [
          72
         ],
         "y": [
          87
         ]
        },
        {
         "marker": {
          "color": "rgb(0,0,255)",
          "line": {
           "width": 2
          },
          "size": 12,
          "symbol": 1
         },
         "mode": "markers",
         "name": "GILDASIO",
         "text": [
          "GILDASIO"
         ],
         "type": "scatter",
         "uid": "b72e0eac-7ffc-4010-8dcc-1c9747b11d5c",
         "x": [
          57
         ],
         "y": [
          77
         ]
        },
        {
         "marker": {
          "color": "rgb(0,255,0)",
          "line": {
           "width": 2
          },
          "size": 12,
          "symbol": 2
         },
         "mode": "markers",
         "name": "GILDSON",
         "text": [
          "GILDSON"
         ],
         "type": "scatter",
         "uid": "594e9efe-173f-4a8d-92b2-4faccbd13ee3",
         "x": [
          87
         ],
         "y": [
          88
         ]
        },
        {
         "marker": {
          "color": "rgb(0,0,255)",
          "line": {
           "width": 2
          },
          "size": 12,
          "symbol": 1
         },
         "mode": "markers",
         "name": "GISNEIDE",
         "text": [
          "GISNEIDE"
         ],
         "type": "scatter",
         "uid": "6a1742e1-c5ef-4ae0-9651-f4701d2271c5",
         "x": [
          41
         ],
         "y": [
          69
         ]
        },
        {
         "marker": {
          "color": "rgb(0,255,0)",
          "line": {
           "width": 2
          },
          "size": 12,
          "symbol": 2
         },
         "mode": "markers",
         "name": "GLALBER",
         "text": [
          "GLALBER"
         ],
         "type": "scatter",
         "uid": "f12cd7de-2e4c-4ee1-9c45-466b72afe6f9",
         "x": [
          95
         ],
         "y": [
          95
         ]
        },
        {
         "marker": {
          "color": "rgb(255,0,0)",
          "line": {
           "width": 2
          },
          "size": 12,
          "symbol": 0
         },
         "mode": "markers",
         "name": "GLARISTON",
         "text": [
          "GLARISTON"
         ],
         "type": "scatter",
         "uid": "9bd17b62-993a-4529-8b69-9ec7aa14dce7",
         "x": [
          16
         ],
         "y": [
          0
         ]
        },
        {
         "marker": {
          "color": "rgb(0,0,255)",
          "line": {
           "width": 2
          },
          "size": 12,
          "symbol": 1
         },
         "mode": "markers",
         "name": "GLESIO",
         "text": [
          "GLESIO"
         ],
         "type": "scatter",
         "uid": "1b0c2440-586d-4042-8a57-4cd0d1ab655e",
         "x": [
          61
         ],
         "y": [
          76
         ]
        },
        {
         "marker": {
          "color": "rgb(255,0,0)",
          "line": {
           "width": 2
          },
          "size": 12,
          "symbol": 0
         },
         "mode": "markers",
         "name": "GRASSIANE",
         "text": [
          "GRASSIANE"
         ],
         "type": "scatter",
         "uid": "9a02010d-1e4a-4a8b-94ef-45ae51f54f0f",
         "x": [
          34
         ],
         "y": [
          21
         ]
        },
        {
         "marker": {
          "color": "rgb(0,255,0)",
          "line": {
           "width": 2
          },
          "size": 12,
          "symbol": 2
         },
         "mode": "markers",
         "name": "HOBERT",
         "text": [
          "HOBERT"
         ],
         "type": "scatter",
         "uid": "175567cb-fcbd-457d-8ec4-53e8085f6ed7",
         "x": [
          65
         ],
         "y": [
          86
         ]
        },
        {
         "marker": {
          "color": "rgb(0,255,0)",
          "line": {
           "width": 2
          },
          "size": 12,
          "symbol": 2
         },
         "mode": "markers",
         "name": "IBSON",
         "text": [
          "IBSON"
         ],
         "type": "scatter",
         "uid": "f3e3af63-fc3e-41a1-b31a-a0aca0217660",
         "x": [
          92
         ],
         "y": [
          79
         ]
        },
        {
         "marker": {
          "color": "rgb(0,255,0)",
          "line": {
           "width": 2
          },
          "size": 12,
          "symbol": 2
         },
         "mode": "markers",
         "name": "ISOMARA",
         "text": [
          "ISOMARA"
         ],
         "type": "scatter",
         "uid": "af944e4b-7e15-4a56-8b27-c9abbbad9f1c",
         "x": [
          71
         ],
         "y": [
          82
         ]
        },
        {
         "marker": {
          "color": "rgb(0,255,0)",
          "line": {
           "width": 2
          },
          "size": 12,
          "symbol": 2
         },
         "mode": "markers",
         "name": "JAITON",
         "text": [
          "JAITON"
         ],
         "type": "scatter",
         "uid": "db63b69f-8c2a-4808-98b0-20514df8369f",
         "x": [
          92
         ],
         "y": [
          92
         ]
        },
        {
         "marker": {
          "color": "rgb(255,0,0)",
          "line": {
           "width": 2
          },
          "size": 12,
          "symbol": 0
         },
         "mode": "markers",
         "name": "JOBERTO",
         "text": [
          "JOBERTO"
         ],
         "type": "scatter",
         "uid": "3a825ec4-f748-4f96-a0f2-e37183990896",
         "x": [
          37
         ],
         "y": [
          31
         ]
        },
        {
         "marker": {
          "color": "rgb(0,0,255)",
          "line": {
           "width": 2
          },
          "size": 12,
          "symbol": 1
         },
         "mode": "markers",
         "name": "JOSEILDO",
         "text": [
          "JOSEILDO"
         ],
         "type": "scatter",
         "uid": "87ccb3f8-1d29-4355-9d58-1e621c0c17e5",
         "x": [
          37
         ],
         "y": [
          68
         ]
        },
        {
         "marker": {
          "color": "rgb(255,0,0)",
          "line": {
           "width": 2
          },
          "size": 12,
          "symbol": 0
         },
         "mode": "markers",
         "name": "JULI",
         "text": [
          "JULI"
         ],
         "type": "scatter",
         "uid": "f020125e-e6e6-4d50-afd4-a60395747eba",
         "x": [
          24
         ],
         "y": [
          0
         ]
        },
        {
         "marker": {
          "color": "rgb(255,0,0)",
          "line": {
           "width": 2
          },
          "size": 12,
          "symbol": 0
         },
         "mode": "markers",
         "name": "LUCIEN",
         "text": [
          "LUCIEN"
         ],
         "type": "scatter",
         "uid": "3e755f70-7dd7-4f7e-a0c6-785bfb044db4",
         "x": [
          25
         ],
         "y": [
          0
         ]
        },
        {
         "marker": {
          "color": "rgb(255,0,0)",
          "line": {
           "width": 2
          },
          "size": 12,
          "symbol": 0
         },
         "mode": "markers",
         "name": "MATIAS",
         "text": [
          "MATIAS"
         ],
         "type": "scatter",
         "uid": "85aa563d-b84b-4670-8a2c-742ca2679a78",
         "x": [
          24
         ],
         "y": [
          21
         ]
        },
        {
         "marker": {
          "color": "rgb(0,0,255)",
          "line": {
           "width": 2
          },
          "size": 12,
          "symbol": 1
         },
         "mode": "markers",
         "name": "MEDA",
         "text": [
          "MEDA"
         ],
         "type": "scatter",
         "uid": "ad532709-6b2a-44e9-9654-ea8195ebeb1a",
         "x": [
          53
         ],
         "y": [
          65
         ]
        },
        {
         "marker": {
          "color": "rgb(255,0,0)",
          "line": {
           "width": 2
          },
          "size": 12,
          "symbol": 0
         },
         "mode": "markers",
         "name": "NUCIO",
         "text": [
          "NUCIO"
         ],
         "type": "scatter",
         "uid": "4f6a4bac-8699-413f-a506-e9567c963b05",
         "x": [
          16
         ],
         "y": [
          0
         ]
        },
        {
         "marker": {
          "color": "rgb(0,255,0)",
          "line": {
           "width": 2
          },
          "size": 12,
          "symbol": 2
         },
         "mode": "markers",
         "name": "RAINARA",
         "text": [
          "RAINARA"
         ],
         "type": "scatter",
         "uid": "9e2516a9-c581-4e23-bef6-1708690ac6f7",
         "x": [
          97
         ],
         "y": [
          81
         ]
        },
        {
         "marker": {
          "color": "rgb(0,0,255)",
          "line": {
           "width": 2
          },
          "size": 12,
          "symbol": 1
         },
         "mode": "markers",
         "name": "RAINIER",
         "text": [
          "RAINIER"
         ],
         "type": "scatter",
         "uid": "135ba82f-4639-4814-87f4-410d62e64a66",
         "x": [
          63
         ],
         "y": [
          70
         ]
        },
        {
         "marker": {
          "color": "rgb(255,0,0)",
          "line": {
           "width": 2
          },
          "size": 12,
          "symbol": 0
         },
         "mode": "markers",
         "name": "RIKELLY",
         "text": [
          "RIKELLY"
         ],
         "type": "scatter",
         "uid": "7758cc56-5142-4115-b200-33f39c8b73de",
         "x": [
          19
         ],
         "y": [
          0
         ]
        },
        {
         "marker": {
          "color": "rgb(0,0,255)",
          "line": {
           "width": 2
          },
          "size": 12,
          "symbol": 1
         },
         "mode": "markers",
         "name": "RODOMILSON",
         "text": [
          "RODOMILSON"
         ],
         "type": "scatter",
         "uid": "f96b542b-e5b0-4e63-a3e9-1854e85f3254",
         "x": [
          35
         ],
         "y": [
          57
         ]
        },
        {
         "marker": {
          "color": "rgb(0,255,0)",
          "line": {
           "width": 2
          },
          "size": 12,
          "symbol": 2
         },
         "mode": "markers",
         "name": "ROSIRIS",
         "text": [
          "ROSIRIS"
         ],
         "type": "scatter",
         "uid": "63cee9f9-cf3d-4d9c-90cf-59c5d25345c7",
         "x": [
          74
         ],
         "y": [
          81
         ]
        },
        {
         "marker": {
          "color": "rgb(255,0,0)",
          "line": {
           "width": 2
          },
          "size": 12,
          "symbol": 0
         },
         "mode": "markers",
         "name": "RUITER",
         "text": [
          "RUITER"
         ],
         "type": "scatter",
         "uid": "f1c9b782-2764-4045-afcd-3b1bae419573",
         "x": [
          25
         ],
         "y": [
          36
         ]
        },
        {
         "marker": {
          "color": "rgb(255,0,0)",
          "line": {
           "width": 2
          },
          "size": 12,
          "symbol": 0
         },
         "mode": "markers",
         "name": "SALOMEIA",
         "text": [
          "SALOMEIA"
         ],
         "type": "scatter",
         "uid": "29d9a286-706f-4dcd-be54-5c035337bba3",
         "x": [
          27
         ],
         "y": [
          6
         ]
        },
        {
         "marker": {
          "color": "rgb(0,255,0)",
          "line": {
           "width": 2
          },
          "size": 12,
          "symbol": 2
         },
         "mode": "markers",
         "name": "SAMIRA",
         "text": [
          "SAMIRA"
         ],
         "type": "scatter",
         "uid": "504563c2-761f-49cf-b842-2ca09f19363a",
         "x": [
          66
         ],
         "y": [
          80
         ]
        },
        {
         "marker": {
          "color": "rgb(255,0,0)",
          "line": {
           "width": 2
          },
          "size": 12,
          "symbol": 0
         },
         "mode": "markers",
         "name": "SANDREANE",
         "text": [
          "SANDREANE"
         ],
         "type": "scatter",
         "uid": "577e1e37-c66b-466c-97b4-1d6bd04e960f",
         "x": [
          22
         ],
         "y": [
          34
         ]
        },
        {
         "marker": {
          "color": "rgb(0,255,0)",
          "line": {
           "width": 2
          },
          "size": 12,
          "symbol": 2
         },
         "mode": "markers",
         "name": "SINFOROSA",
         "text": [
          "SINFOROSA"
         ],
         "type": "scatter",
         "uid": "b27ba98b-3ad2-40b1-b1fb-61ca5cb78d6f",
         "x": [
          78
         ],
         "y": [
          89
         ]
        },
        {
         "marker": {
          "color": "rgb(0,0,255)",
          "line": {
           "width": 2
          },
          "size": 12,
          "symbol": 1
         },
         "mode": "markers",
         "name": "TAI",
         "text": [
          "TAI"
         ],
         "type": "scatter",
         "uid": "c204affc-d1a1-4af2-834a-f91cc7bfced8",
         "x": [
          48
         ],
         "y": [
          60
         ]
        },
        {
         "marker": {
          "color": "rgb(0,0,255)",
          "line": {
           "width": 2
          },
          "size": 12,
          "symbol": 1
         },
         "mode": "markers",
         "name": "TATIANE",
         "text": [
          "TATIANE"
         ],
         "type": "scatter",
         "uid": "21bb746f-3456-486e-9121-4ef7e3998088",
         "x": [
          69
         ],
         "y": [
          66
         ]
        },
        {
         "marker": {
          "color": "rgb(255,0,0)",
          "line": {
           "width": 2
          },
          "size": 12,
          "symbol": 0
         },
         "mode": "markers",
         "name": "TUBERTINO",
         "text": [
          "TUBERTINO"
         ],
         "type": "scatter",
         "uid": "03d5b1cd-3c7d-488e-8817-8aaed8833cd4",
         "x": [
          29
         ],
         "y": [
          42
         ]
        },
        {
         "marker": {
          "color": "rgb(255,0,0)",
          "line": {
           "width": 2
          },
          "size": 12,
          "symbol": 0
         },
         "mode": "markers",
         "name": "VALCELI",
         "text": [
          "VALCELI"
         ],
         "type": "scatter",
         "uid": "04da519b-ad7e-465e-9dc9-5b4899f5053b",
         "x": [
          35
         ],
         "y": [
          44
         ]
        },
        {
         "marker": {
          "color": "rgb(255,0,0)",
          "line": {
           "width": 2
          },
          "size": 12,
          "symbol": 0
         },
         "mode": "markers",
         "name": "WDSON",
         "text": [
          "WDSON"
         ],
         "type": "scatter",
         "uid": "1ccb0c54-8451-4575-8458-22239aecd862",
         "x": [
          18
         ],
         "y": [
          0
         ]
        },
        {
         "marker": {
          "color": "rgb(0,255,0)",
          "line": {
           "width": 2
          },
          "size": 12,
          "symbol": 2
         },
         "mode": "markers",
         "name": "YUGO",
         "text": [
          "YUGO"
         ],
         "type": "scatter",
         "uid": "f568c249-7e59-4145-8f79-279f4e442011",
         "x": [
          99
         ],
         "y": [
          92
         ]
        }
       ],
       "layout": {
        "hovermode": "closest",
        "showlegend": true,
        "title": {
         "text": "Relação de notas dos estudantes com acessos ao AVA por cluster navegação"
        },
        "xaxis": {
         "autorange": false,
         "fixedrange": false,
         "range": [
          0,
          110
         ],
         "rangemode": "normal",
         "showline": true,
         "title": {
          "font": {
           "color": "rgb(180,180,180)"
          },
          "text": "Acesso ao AVA"
         },
         "zeroline": false
        },
        "yaxis": {
         "autorange": false,
         "fixedrange": false,
         "range": [
          0,
          105
         ],
         "rangemode": "normal",
         "showline": true,
         "title": {
          "font": {
           "color": "rgb(180,180,180)"
          },
          "text": "Notas"
         }
        }
       }
      },
      "text/html": [
       "<div>\n",
       "        \n",
       "        \n",
       "            <div id=\"2c6114eb-0444-4c37-9bdf-72c61b66ad00\" class=\"plotly-graph-div\" style=\"height:525px; width:100%;\"></div>\n",
       "            <script type=\"text/javascript\">\n",
       "                require([\"plotly\"], function(Plotly) {\n",
       "                    window.PLOTLYENV=window.PLOTLYENV || {};\n",
       "                    window.PLOTLYENV.BASE_URL='https://plot.ly';\n",
       "                    \n",
       "                if (document.getElementById(\"2c6114eb-0444-4c37-9bdf-72c61b66ad00\")) {\n",
       "                    Plotly.newPlot(\n",
       "                        '2c6114eb-0444-4c37-9bdf-72c61b66ad00',\n",
       "                        [{\"marker\": {\"color\": \"rgb(255,0,0)\", \"line\": {\"width\": 2}, \"size\": 12, \"symbol\": 0}, \"mode\": \"markers\", \"name\": \"AGIS\", \"text\": [\"AGIS\"], \"type\": \"scatter\", \"uid\": \"0861af5c-d78b-48a2-b6d0-31df8c93aa02\", \"x\": [28], \"y\": [25]}, {\"marker\": {\"color\": \"rgb(255,0,0)\", \"line\": {\"width\": 2}, \"size\": 12, \"symbol\": 0}, \"mode\": \"markers\", \"name\": \"ALBERTONI\", \"text\": [\"ALBERTONI\"], \"type\": \"scatter\", \"uid\": \"6c6ceed1-8e3a-4e45-a3b5-504e9a85036c\", \"x\": [21], \"y\": [48]}, {\"marker\": {\"color\": \"rgb(0,255,0)\", \"line\": {\"width\": 2}, \"size\": 12, \"symbol\": 2}, \"mode\": \"markers\", \"name\": \"ALCINDA\", \"text\": [\"ALCINDA\"], \"type\": \"scatter\", \"uid\": \"a3839296-b75e-4064-86fb-62c871e4915b\", \"x\": [89], \"y\": [92]}, {\"marker\": {\"color\": \"rgb(255,0,0)\", \"line\": {\"width\": 2}, \"size\": 12, \"symbol\": 0}, \"mode\": \"markers\", \"name\": \"ALDENIR\", \"text\": [\"ALDENIR\"], \"type\": \"scatter\", \"uid\": \"a4bd81b1-035f-4d51-84ca-a6ab26addda9\", \"x\": [20], \"y\": [34]}, {\"marker\": {\"color\": \"rgb(255,0,0)\", \"line\": {\"width\": 2}, \"size\": 12, \"symbol\": 0}, \"mode\": \"markers\", \"name\": \"AMBROSIO\", \"text\": [\"AMBROSIO\"], \"type\": \"scatter\", \"uid\": \"4ba2d366-4b0a-4d62-8a1e-c916ac6d4cbf\", \"x\": [24], \"y\": [34]}, {\"marker\": {\"color\": \"rgb(255,0,0)\", \"line\": {\"width\": 2}, \"size\": 12, \"symbol\": 0}, \"mode\": \"markers\", \"name\": \"ANDRESCA\", \"text\": [\"ANDRESCA\"], \"type\": \"scatter\", \"uid\": \"94fd5d32-fe64-4cb2-9612-2585af0d107c\", \"x\": [12], \"y\": [0]}, {\"marker\": {\"color\": \"rgb(0,255,0)\", \"line\": {\"width\": 2}, \"size\": 12, \"symbol\": 2}, \"mode\": \"markers\", \"name\": \"ANICE\", \"text\": [\"ANICE\"], \"type\": \"scatter\", \"uid\": \"9fe06ee4-520c-4373-867b-6b54faa14927\", \"x\": [80], \"y\": [81]}, {\"marker\": {\"color\": \"rgb(0,0,255)\", \"line\": {\"width\": 2}, \"size\": 12, \"symbol\": 1}, \"mode\": \"markers\", \"name\": \"ANISIANE\", \"text\": [\"ANISIANE\"], \"type\": \"scatter\", \"uid\": \"88081505-1891-4cd8-bae4-915705c80c98\", \"x\": [54], \"y\": [80]}, {\"marker\": {\"color\": \"rgb(0,255,0)\", \"line\": {\"width\": 2}, \"size\": 12, \"symbol\": 2}, \"mode\": \"markers\", \"name\": \"ARILDE\", \"text\": [\"ARILDE\"], \"type\": \"scatter\", \"uid\": \"bd006e42-73e9-44e7-8aaa-17ec02eb6cbe\", \"x\": [91], \"y\": [79]}, {\"marker\": {\"color\": \"rgb(0,0,255)\", \"line\": {\"width\": 2}, \"size\": 12, \"symbol\": 1}, \"mode\": \"markers\", \"name\": \"AURINELIA\", \"text\": [\"AURINELIA\"], \"type\": \"scatter\", \"uid\": \"4869feb5-4e10-4445-b30c-13f272950c00\", \"x\": [49], \"y\": [62]}, {\"marker\": {\"color\": \"rgb(0,0,255)\", \"line\": {\"width\": 2}, \"size\": 12, \"symbol\": 1}, \"mode\": \"markers\", \"name\": \"CIRLENI\", \"text\": [\"CIRLENI\"], \"type\": \"scatter\", \"uid\": \"566131c3-96f8-4e92-9393-cd127b9b9195\", \"x\": [50], \"y\": [80]}, {\"marker\": {\"color\": \"rgb(0,255,0)\", \"line\": {\"width\": 2}, \"size\": 12, \"symbol\": 2}, \"mode\": \"markers\", \"name\": \"CLAUDEVANIA\", \"text\": [\"CLAUDEVANIA\"], \"type\": \"scatter\", \"uid\": \"130dc9f3-8c26-4a2e-9717-0283f8244cad\", \"x\": [100], \"y\": [86]}, {\"marker\": {\"color\": \"rgb(255,0,0)\", \"line\": {\"width\": 2}, \"size\": 12, \"symbol\": 0}, \"mode\": \"markers\", \"name\": \"DALVACI\", \"text\": [\"DALVACI\"], \"type\": \"scatter\", \"uid\": \"bcd6fe77-a9ca-44c7-960f-990f2d7dd1ca\", \"x\": [30], \"y\": [41]}, {\"marker\": {\"color\": \"rgb(255,0,0)\", \"line\": {\"width\": 2}, \"size\": 12, \"symbol\": 0}, \"mode\": \"markers\", \"name\": \"DARLAN\", \"text\": [\"DARLAN\"], \"type\": \"scatter\", \"uid\": \"9932fb14-3eca-456c-a9e8-4d6dbe9ddebc\", \"x\": [30], \"y\": [1]}, {\"marker\": {\"color\": \"rgb(0,255,0)\", \"line\": {\"width\": 2}, \"size\": 12, \"symbol\": 2}, \"mode\": \"markers\", \"name\": \"EDILAURA\", \"text\": [\"EDILAURA\"], \"type\": \"scatter\", \"uid\": \"7a2e6d7e-bf06-41d6-adef-f1bf3edd3684\", \"x\": [71], \"y\": [89]}, {\"marker\": {\"color\": \"rgb(0,0,255)\", \"line\": {\"width\": 2}, \"size\": 12, \"symbol\": 1}, \"mode\": \"markers\", \"name\": \"EDJONAS\", \"text\": [\"EDJONAS\"], \"type\": \"scatter\", \"uid\": \"d7d9873a-26b3-46a3-9b04-a145306c93b6\", \"x\": [38], \"y\": [61]}, {\"marker\": {\"color\": \"rgb(255,0,0)\", \"line\": {\"width\": 2}, \"size\": 12, \"symbol\": 0}, \"mode\": \"markers\", \"name\": \"ELENISI\", \"text\": [\"ELENISI\"], \"type\": \"scatter\", \"uid\": \"b4835140-21bf-49e6-b2be-8cba8ccfa065\", \"x\": [23], \"y\": [10]}, {\"marker\": {\"color\": \"rgb(255,0,0)\", \"line\": {\"width\": 2}, \"size\": 12, \"symbol\": 0}, \"mode\": \"markers\", \"name\": \"ELIDELTON\", \"text\": [\"ELIDELTON\"], \"type\": \"scatter\", \"uid\": \"1d65296a-33d6-407d-9365-3000f254128a\", \"x\": [32], \"y\": [41]}, {\"marker\": {\"color\": \"rgb(255,0,0)\", \"line\": {\"width\": 2}, \"size\": 12, \"symbol\": 0}, \"mode\": \"markers\", \"name\": \"ELIELSON\", \"text\": [\"ELIELSON\"], \"type\": \"scatter\", \"uid\": \"12b2c468-acb8-420f-ba5f-040de07bac29\", \"x\": [40], \"y\": [46]}, {\"marker\": {\"color\": \"rgb(0,255,0)\", \"line\": {\"width\": 2}, \"size\": 12, \"symbol\": 2}, \"mode\": \"markers\", \"name\": \"ERACTON\", \"text\": [\"ERACTON\"], \"type\": \"scatter\", \"uid\": \"e4dcf974-ce8b-46d2-874a-8cedaf97b119\", \"x\": [77], \"y\": [84]}, {\"marker\": {\"color\": \"rgb(255,0,0)\", \"line\": {\"width\": 2}, \"size\": 12, \"symbol\": 0}, \"mode\": \"markers\", \"name\": \"EVAL\", \"text\": [\"EVAL\"], \"type\": \"scatter\", \"uid\": \"73a58e44-df97-4a00-af61-c56bfe681e47\", \"x\": [8], \"y\": [0]}, {\"marker\": {\"color\": \"rgb(255,0,0)\", \"line\": {\"width\": 2}, \"size\": 12, \"symbol\": 0}, \"mode\": \"markers\", \"name\": \"EVANEIDE\", \"text\": [\"EVANEIDE\"], \"type\": \"scatter\", \"uid\": \"f439399f-3c1f-4535-bea6-c842b5ea67d4\", \"x\": [7], \"y\": [0]}, {\"marker\": {\"color\": \"rgb(0,0,255)\", \"line\": {\"width\": 2}, \"size\": 12, \"symbol\": 1}, \"mode\": \"markers\", \"name\": \"FARLAN\", \"text\": [\"FARLAN\"], \"type\": \"scatter\", \"uid\": \"9c0432b2-d4e2-4f51-a145-3913f193c313\", \"x\": [70], \"y\": [78]}, {\"marker\": {\"color\": \"rgb(0,0,255)\", \"line\": {\"width\": 2}, \"size\": 12, \"symbol\": 1}, \"mode\": \"markers\", \"name\": \"FELISBERTA\", \"text\": [\"FELISBERTA\"], \"type\": \"scatter\", \"uid\": \"d82d0bc7-149c-49b2-97d9-511bd7b37da6\", \"x\": [60], \"y\": [72]}, {\"marker\": {\"color\": \"rgb(0,0,255)\", \"line\": {\"width\": 2}, \"size\": 12, \"symbol\": 1}, \"mode\": \"markers\", \"name\": \"FLAVIANA\", \"text\": [\"FLAVIANA\"], \"type\": \"scatter\", \"uid\": \"6983010d-a631-4d97-8343-e17616b7dbad\", \"x\": [48], \"y\": [51]}, {\"marker\": {\"color\": \"rgb(0,255,0)\", \"line\": {\"width\": 2}, \"size\": 12, \"symbol\": 2}, \"mode\": \"markers\", \"name\": \"GEISI\", \"text\": [\"GEISI\"], \"type\": \"scatter\", \"uid\": \"e085b008-fb76-401f-b592-066b231dea3b\", \"x\": [72], \"y\": [87]}, {\"marker\": {\"color\": \"rgb(0,0,255)\", \"line\": {\"width\": 2}, \"size\": 12, \"symbol\": 1}, \"mode\": \"markers\", \"name\": \"GILDASIO\", \"text\": [\"GILDASIO\"], \"type\": \"scatter\", \"uid\": \"b5bf7958-1ecb-4f8b-a85c-fa8b3f44f689\", \"x\": [57], \"y\": [77]}, {\"marker\": {\"color\": \"rgb(0,255,0)\", \"line\": {\"width\": 2}, \"size\": 12, \"symbol\": 2}, \"mode\": \"markers\", \"name\": \"GILDSON\", \"text\": [\"GILDSON\"], \"type\": \"scatter\", \"uid\": \"9659a221-118b-4ba5-9752-97482a1053f2\", \"x\": [87], \"y\": [88]}, {\"marker\": {\"color\": \"rgb(0,0,255)\", \"line\": {\"width\": 2}, \"size\": 12, \"symbol\": 1}, \"mode\": \"markers\", \"name\": \"GISNEIDE\", \"text\": [\"GISNEIDE\"], \"type\": \"scatter\", \"uid\": \"2a2d33b6-e98d-46a9-9c17-68754aa95b22\", \"x\": [41], \"y\": [69]}, {\"marker\": {\"color\": \"rgb(0,255,0)\", \"line\": {\"width\": 2}, \"size\": 12, \"symbol\": 2}, \"mode\": \"markers\", \"name\": \"GLALBER\", \"text\": [\"GLALBER\"], \"type\": \"scatter\", \"uid\": \"637a70b9-8bdc-422b-9c0d-329bd63cffed\", \"x\": [95], \"y\": [95]}, {\"marker\": {\"color\": \"rgb(255,0,0)\", \"line\": {\"width\": 2}, \"size\": 12, \"symbol\": 0}, \"mode\": \"markers\", \"name\": \"GLARISTON\", \"text\": [\"GLARISTON\"], \"type\": \"scatter\", \"uid\": \"71a7de07-d5b9-4448-8a68-9a24695b243c\", \"x\": [16], \"y\": [0]}, {\"marker\": {\"color\": \"rgb(0,0,255)\", \"line\": {\"width\": 2}, \"size\": 12, \"symbol\": 1}, \"mode\": \"markers\", \"name\": \"GLESIO\", \"text\": [\"GLESIO\"], \"type\": \"scatter\", \"uid\": \"2c2acc2d-3718-4252-b9d5-722b875f3fbf\", \"x\": [61], \"y\": [76]}, {\"marker\": {\"color\": \"rgb(255,0,0)\", \"line\": {\"width\": 2}, \"size\": 12, \"symbol\": 0}, \"mode\": \"markers\", \"name\": \"GRASSIANE\", \"text\": [\"GRASSIANE\"], \"type\": \"scatter\", \"uid\": \"46032a4e-1bbc-409c-a123-080461268e94\", \"x\": [34], \"y\": [21]}, {\"marker\": {\"color\": \"rgb(0,255,0)\", \"line\": {\"width\": 2}, \"size\": 12, \"symbol\": 2}, \"mode\": \"markers\", \"name\": \"HOBERT\", \"text\": [\"HOBERT\"], \"type\": \"scatter\", \"uid\": \"ba3306dc-3ff7-40d4-be64-e64e1f79fd1e\", \"x\": [65], \"y\": [86]}, {\"marker\": {\"color\": \"rgb(0,255,0)\", \"line\": {\"width\": 2}, \"size\": 12, \"symbol\": 2}, \"mode\": \"markers\", \"name\": \"IBSON\", \"text\": [\"IBSON\"], \"type\": \"scatter\", \"uid\": \"16550f0a-106b-4543-a01f-b8b8f9a9ac99\", \"x\": [92], \"y\": [79]}, {\"marker\": {\"color\": \"rgb(0,255,0)\", \"line\": {\"width\": 2}, \"size\": 12, \"symbol\": 2}, \"mode\": \"markers\", \"name\": \"ISOMARA\", \"text\": [\"ISOMARA\"], \"type\": \"scatter\", \"uid\": \"84c9ced9-76e8-4208-971c-35e3499c129c\", \"x\": [71], \"y\": [82]}, {\"marker\": {\"color\": \"rgb(0,255,0)\", \"line\": {\"width\": 2}, \"size\": 12, \"symbol\": 2}, \"mode\": \"markers\", \"name\": \"JAITON\", \"text\": [\"JAITON\"], \"type\": \"scatter\", \"uid\": \"668b1bc1-20a0-4723-ad9b-e80025480e5a\", \"x\": [92], \"y\": [92]}, {\"marker\": {\"color\": \"rgb(255,0,0)\", \"line\": {\"width\": 2}, \"size\": 12, \"symbol\": 0}, \"mode\": \"markers\", \"name\": \"JOBERTO\", \"text\": [\"JOBERTO\"], \"type\": \"scatter\", \"uid\": \"7aed249d-bacb-49cb-837a-1bfbbf154b64\", \"x\": [37], \"y\": [31]}, {\"marker\": {\"color\": \"rgb(0,0,255)\", \"line\": {\"width\": 2}, \"size\": 12, \"symbol\": 1}, \"mode\": \"markers\", \"name\": \"JOSEILDO\", \"text\": [\"JOSEILDO\"], \"type\": \"scatter\", \"uid\": \"bcb7f18d-d141-4dcf-a4bf-e710e9ef5564\", \"x\": [37], \"y\": [68]}, {\"marker\": {\"color\": \"rgb(255,0,0)\", \"line\": {\"width\": 2}, \"size\": 12, \"symbol\": 0}, \"mode\": \"markers\", \"name\": \"JULI\", \"text\": [\"JULI\"], \"type\": \"scatter\", \"uid\": \"3a3a5e0b-fa4e-4288-a2a6-eb2fb43dc99b\", \"x\": [24], \"y\": [0]}, {\"marker\": {\"color\": \"rgb(255,0,0)\", \"line\": {\"width\": 2}, \"size\": 12, \"symbol\": 0}, \"mode\": \"markers\", \"name\": \"LUCIEN\", \"text\": [\"LUCIEN\"], \"type\": \"scatter\", \"uid\": \"3869c8b1-6d14-4710-a190-1f9341cb2bc6\", \"x\": [25], \"y\": [0]}, {\"marker\": {\"color\": \"rgb(255,0,0)\", \"line\": {\"width\": 2}, \"size\": 12, \"symbol\": 0}, \"mode\": \"markers\", \"name\": \"MATIAS\", \"text\": [\"MATIAS\"], \"type\": \"scatter\", \"uid\": \"01f68c78-2c48-47a9-8a1f-57df27721237\", \"x\": [24], \"y\": [21]}, {\"marker\": {\"color\": \"rgb(0,0,255)\", \"line\": {\"width\": 2}, \"size\": 12, \"symbol\": 1}, \"mode\": \"markers\", \"name\": \"MEDA\", \"text\": [\"MEDA\"], \"type\": \"scatter\", \"uid\": \"58e53352-e768-4612-9fc9-ec2e6a149ee1\", \"x\": [53], \"y\": [65]}, {\"marker\": {\"color\": \"rgb(255,0,0)\", \"line\": {\"width\": 2}, \"size\": 12, \"symbol\": 0}, \"mode\": \"markers\", \"name\": \"NUCIO\", \"text\": [\"NUCIO\"], \"type\": \"scatter\", \"uid\": \"b9b14226-0fac-420d-acf5-7a928416c125\", \"x\": [16], \"y\": [0]}, {\"marker\": {\"color\": \"rgb(0,255,0)\", \"line\": {\"width\": 2}, \"size\": 12, \"symbol\": 2}, \"mode\": \"markers\", \"name\": \"RAINARA\", \"text\": [\"RAINARA\"], \"type\": \"scatter\", \"uid\": \"0a1f9661-612e-4804-8cf4-8ce7fb658271\", \"x\": [97], \"y\": [81]}, {\"marker\": {\"color\": \"rgb(0,0,255)\", \"line\": {\"width\": 2}, \"size\": 12, \"symbol\": 1}, \"mode\": \"markers\", \"name\": \"RAINIER\", \"text\": [\"RAINIER\"], \"type\": \"scatter\", \"uid\": \"f804278d-d2fd-4d52-b9ee-f318a3c7c942\", \"x\": [63], \"y\": [70]}, {\"marker\": {\"color\": \"rgb(255,0,0)\", \"line\": {\"width\": 2}, \"size\": 12, \"symbol\": 0}, \"mode\": \"markers\", \"name\": \"RIKELLY\", \"text\": [\"RIKELLY\"], \"type\": \"scatter\", \"uid\": \"eca31a21-2026-4d28-83d9-7deb4ac68bdc\", \"x\": [19], \"y\": [0]}, {\"marker\": {\"color\": \"rgb(0,0,255)\", \"line\": {\"width\": 2}, \"size\": 12, \"symbol\": 1}, \"mode\": \"markers\", \"name\": \"RODOMILSON\", \"text\": [\"RODOMILSON\"], \"type\": \"scatter\", \"uid\": \"d8558e2e-a0e6-46ac-9924-39a8c339bdb7\", \"x\": [35], \"y\": [57]}, {\"marker\": {\"color\": \"rgb(0,255,0)\", \"line\": {\"width\": 2}, \"size\": 12, \"symbol\": 2}, \"mode\": \"markers\", \"name\": \"ROSIRIS\", \"text\": [\"ROSIRIS\"], \"type\": \"scatter\", \"uid\": \"289e1708-9c52-411a-ba2a-8201995d05c3\", \"x\": [74], \"y\": [81]}, {\"marker\": {\"color\": \"rgb(255,0,0)\", \"line\": {\"width\": 2}, \"size\": 12, \"symbol\": 0}, \"mode\": \"markers\", \"name\": \"RUITER\", \"text\": [\"RUITER\"], \"type\": \"scatter\", \"uid\": \"7cf49471-5957-412f-9361-c24dde9b0abf\", \"x\": [25], \"y\": [36]}, {\"marker\": {\"color\": \"rgb(255,0,0)\", \"line\": {\"width\": 2}, \"size\": 12, \"symbol\": 0}, \"mode\": \"markers\", \"name\": \"SALOMEIA\", \"text\": [\"SALOMEIA\"], \"type\": \"scatter\", \"uid\": \"f56dc4b5-2956-4468-ace7-379206d653a0\", \"x\": [27], \"y\": [6]}, {\"marker\": {\"color\": \"rgb(0,255,0)\", \"line\": {\"width\": 2}, \"size\": 12, \"symbol\": 2}, \"mode\": \"markers\", \"name\": \"SAMIRA\", \"text\": [\"SAMIRA\"], \"type\": \"scatter\", \"uid\": \"e81f6f30-0bc5-4e5d-8559-470799ea90cf\", \"x\": [66], \"y\": [80]}, {\"marker\": {\"color\": \"rgb(255,0,0)\", \"line\": {\"width\": 2}, \"size\": 12, \"symbol\": 0}, \"mode\": \"markers\", \"name\": \"SANDREANE\", \"text\": [\"SANDREANE\"], \"type\": \"scatter\", \"uid\": \"0de22870-c220-4498-9f69-5145fa1bd24e\", \"x\": [22], \"y\": [34]}, {\"marker\": {\"color\": \"rgb(0,255,0)\", \"line\": {\"width\": 2}, \"size\": 12, \"symbol\": 2}, \"mode\": \"markers\", \"name\": \"SINFOROSA\", \"text\": [\"SINFOROSA\"], \"type\": \"scatter\", \"uid\": \"e92a1280-f583-46ff-9094-69256c28a3ec\", \"x\": [78], \"y\": [89]}, {\"marker\": {\"color\": \"rgb(0,0,255)\", \"line\": {\"width\": 2}, \"size\": 12, \"symbol\": 1}, \"mode\": \"markers\", \"name\": \"TAI\", \"text\": [\"TAI\"], \"type\": \"scatter\", \"uid\": \"f43b5075-c6a3-4a1e-a0fb-4fcc062f02b4\", \"x\": [48], \"y\": [60]}, {\"marker\": {\"color\": \"rgb(0,0,255)\", \"line\": {\"width\": 2}, \"size\": 12, \"symbol\": 1}, \"mode\": \"markers\", \"name\": \"TATIANE\", \"text\": [\"TATIANE\"], \"type\": \"scatter\", \"uid\": \"6de42fb2-8e5a-4584-b169-757825c86af4\", \"x\": [69], \"y\": [66]}, {\"marker\": {\"color\": \"rgb(255,0,0)\", \"line\": {\"width\": 2}, \"size\": 12, \"symbol\": 0}, \"mode\": \"markers\", \"name\": \"TUBERTINO\", \"text\": [\"TUBERTINO\"], \"type\": \"scatter\", \"uid\": \"4a7ebaec-08eb-475e-80b7-fcc9f1584578\", \"x\": [29], \"y\": [42]}, {\"marker\": {\"color\": \"rgb(255,0,0)\", \"line\": {\"width\": 2}, \"size\": 12, \"symbol\": 0}, \"mode\": \"markers\", \"name\": \"VALCELI\", \"text\": [\"VALCELI\"], \"type\": \"scatter\", \"uid\": \"8c8f5f52-2baa-428e-954b-c28e6287d82a\", \"x\": [35], \"y\": [44]}, {\"marker\": {\"color\": \"rgb(255,0,0)\", \"line\": {\"width\": 2}, \"size\": 12, \"symbol\": 0}, \"mode\": \"markers\", \"name\": \"WDSON\", \"text\": [\"WDSON\"], \"type\": \"scatter\", \"uid\": \"312a6b35-68da-4d85-830a-d3f8dec0c624\", \"x\": [18], \"y\": [0]}, {\"marker\": {\"color\": \"rgb(0,255,0)\", \"line\": {\"width\": 2}, \"size\": 12, \"symbol\": 2}, \"mode\": \"markers\", \"name\": \"YUGO\", \"text\": [\"YUGO\"], \"type\": \"scatter\", \"uid\": \"42c096c9-1dcc-4f42-890d-30823a5308a9\", \"x\": [99], \"y\": [92]}],\n",
       "                        {\"hovermode\": \"closest\", \"showlegend\": true, \"title\": {\"text\": \"Rela\\u00e7\\u00e3o de notas dos estudantes com acessos ao AVA por cluster navega\\u00e7\\u00e3o\"}, \"xaxis\": {\"autorange\": false, \"fixedrange\": false, \"range\": [0, 110], \"rangemode\": \"normal\", \"showline\": true, \"title\": {\"font\": {\"color\": \"rgb(180,180,180)\"}, \"text\": \"Acesso ao AVA\"}, \"zeroline\": false}, \"yaxis\": {\"autorange\": false, \"fixedrange\": false, \"range\": [0, 105], \"rangemode\": \"normal\", \"showline\": true, \"title\": {\"font\": {\"color\": \"rgb(180,180,180)\"}, \"text\": \"Notas\"}}},\n",
       "                        {\"showLink\": false, \"linkText\": \"Export to plot.ly\", \"plotlyServerURL\": \"https://plot.ly\", \"responsive\": true}\n",
       "                    ).then(function(){\n",
       "                            \n",
       "var gd = document.getElementById('2c6114eb-0444-4c37-9bdf-72c61b66ad00');\n",
       "var x = new MutationObserver(function (mutations, observer) {{\n",
       "        var display = window.getComputedStyle(gd).display;\n",
       "        if (!display || display === 'none') {{\n",
       "            console.log([gd, 'removed!']);\n",
       "            Plotly.purge(gd);\n",
       "            observer.disconnect();\n",
       "        }}\n",
       "}});\n",
       "\n",
       "// Listen for the removal of the full notebook cells\n",
       "var notebookContainer = gd.closest('#notebook-container');\n",
       "if (notebookContainer) {{\n",
       "    x.observe(notebookContainer, {childList: true});\n",
       "}}\n",
       "\n",
       "// Listen for the clearing of the current output cell\n",
       "var outputEl = gd.closest('.output');\n",
       "if (outputEl) {{\n",
       "    x.observe(outputEl, {childList: true});\n",
       "}}\n",
       "\n",
       "                        })\n",
       "                };\n",
       "                });\n",
       "            </script>\n",
       "        </div>"
      ]
     },
     "metadata": {},
     "output_type": "display_data"
    },
    {
     "data": {
      "application/vnd.plotly.v1+json": {
       "config": {
        "linkText": "Export to plot.ly",
        "plotlyServerURL": "https://plot.ly",
        "responsive": true,
        "showLink": false
       },
       "data": [
        {
         "boxmean": true,
         "boxpoints": "all",
         "marker": {
          "color": "rgb(255,0,0)",
          "line": {
           "width": 1
          }
         },
         "name": "Cluster 1",
         "text": [
          "WDSON",
          "JULI",
          "LUCIEN",
          "ANDRESCA",
          "EVANEIDE",
          "EVAL",
          "GLARISTON",
          "RIKELLY",
          "NUCIO",
          "DARLAN",
          "SALOMEIA",
          "ELENISI",
          "GRASSIANE",
          "MATIAS",
          "AGIS",
          "JOBERTO",
          "ALDENIR",
          "SANDREANE",
          "AMBROSIO",
          "RUITER",
          "ELIDELTON",
          "DALVACI",
          "TUBERTINO",
          "VALCELI",
          "ELIELSON",
          "ALBERTONI"
         ],
         "type": "box",
         "uid": "71359965-0aee-454c-a77b-debd957386aa",
         "y": [
          0,
          0,
          0,
          0,
          0,
          0,
          0,
          0,
          0,
          1,
          6,
          10,
          21,
          21,
          25,
          31,
          34,
          34,
          34,
          36,
          41,
          41,
          42,
          44,
          46,
          48
         ]
        },
        {
         "boxmean": true,
         "boxpoints": "all",
         "marker": {
          "color": "rgb(0,0,255)",
          "line": {
           "width": 1
          }
         },
         "name": "Cluster 2",
         "text": [
          "FLAVIANA",
          "RODOMILSON",
          "TAI",
          "EDJONAS",
          "AURINELIA",
          "MEDA",
          "TATIANE",
          "JOSEILDO",
          "GISNEIDE",
          "RAINIER",
          "FELISBERTA",
          "GLESIO",
          "GILDASIO",
          "FARLAN",
          "ANISIANE",
          "CIRLENI"
         ],
         "type": "box",
         "uid": "7eefaea6-8370-43ef-bbea-87e6722c83f8",
         "y": [
          51,
          57,
          60,
          61,
          62,
          65,
          66,
          68,
          69,
          70,
          72,
          76,
          77,
          78,
          80,
          80
         ]
        },
        {
         "boxmean": true,
         "boxpoints": "all",
         "marker": {
          "color": "rgb(0,255,0)",
          "line": {
           "width": 1
          }
         },
         "name": "Cluster 3",
         "text": [
          "ARILDE",
          "IBSON",
          "SAMIRA",
          "ROSIRIS",
          "ANICE",
          "RAINARA",
          "ISOMARA",
          "ERACTON",
          "HOBERT",
          "CLAUDEVANIA",
          "GEISI",
          "GILDSON",
          "EDILAURA",
          "SINFOROSA",
          "YUGO",
          "ALCINDA",
          "JAITON",
          "GLALBER"
         ],
         "type": "box",
         "uid": "64cb523e-c864-4a1c-9424-632ecf2c3c51",
         "y": [
          79,
          79,
          80,
          81,
          81,
          81,
          82,
          84,
          86,
          86,
          87,
          88,
          89,
          89,
          92,
          92,
          92,
          95
         ]
        }
       ],
       "layout": {
        "showlegend": true,
        "title": {
         "text": "Variação de notas dos estudantes por cluster de navegação"
        },
        "xaxis": {
         "title": {
          "font": {
           "color": "rgb(180,180,180)"
          },
          "text": ""
         }
        },
        "yaxis": {
         "fixedrange": false,
         "range": [
          -1,
          105
         ],
         "rangemode": "normal",
         "title": {
          "font": {
           "color": "rgb(180,180,180)"
          },
          "text": "Notas"
         },
         "zeroline": false
        }
       }
      },
      "text/html": [
       "<div>\n",
       "        \n",
       "        \n",
       "            <div id=\"e792bcf3-33a2-4453-91fd-d2b50804724b\" class=\"plotly-graph-div\" style=\"height:525px; width:100%;\"></div>\n",
       "            <script type=\"text/javascript\">\n",
       "                require([\"plotly\"], function(Plotly) {\n",
       "                    window.PLOTLYENV=window.PLOTLYENV || {};\n",
       "                    window.PLOTLYENV.BASE_URL='https://plot.ly';\n",
       "                    \n",
       "                if (document.getElementById(\"e792bcf3-33a2-4453-91fd-d2b50804724b\")) {\n",
       "                    Plotly.newPlot(\n",
       "                        'e792bcf3-33a2-4453-91fd-d2b50804724b',\n",
       "                        [{\"boxmean\": true, \"boxpoints\": \"all\", \"marker\": {\"color\": \"rgb(255,0,0)\", \"line\": {\"width\": 1}}, \"name\": \"Cluster 1\", \"text\": [\"WDSON\", \"JULI\", \"LUCIEN\", \"ANDRESCA\", \"EVANEIDE\", \"EVAL\", \"GLARISTON\", \"RIKELLY\", \"NUCIO\", \"DARLAN\", \"SALOMEIA\", \"ELENISI\", \"GRASSIANE\", \"MATIAS\", \"AGIS\", \"JOBERTO\", \"ALDENIR\", \"SANDREANE\", \"AMBROSIO\", \"RUITER\", \"ELIDELTON\", \"DALVACI\", \"TUBERTINO\", \"VALCELI\", \"ELIELSON\", \"ALBERTONI\"], \"type\": \"box\", \"uid\": \"6ecaa2b1-0049-47bd-b240-f83c7863abf6\", \"y\": [0, 0, 0, 0, 0, 0, 0, 0, 0, 1, 6, 10, 21, 21, 25, 31, 34, 34, 34, 36, 41, 41, 42, 44, 46, 48]}, {\"boxmean\": true, \"boxpoints\": \"all\", \"marker\": {\"color\": \"rgb(0,0,255)\", \"line\": {\"width\": 1}}, \"name\": \"Cluster 2\", \"text\": [\"FLAVIANA\", \"RODOMILSON\", \"TAI\", \"EDJONAS\", \"AURINELIA\", \"MEDA\", \"TATIANE\", \"JOSEILDO\", \"GISNEIDE\", \"RAINIER\", \"FELISBERTA\", \"GLESIO\", \"GILDASIO\", \"FARLAN\", \"ANISIANE\", \"CIRLENI\"], \"type\": \"box\", \"uid\": \"b992d647-fc47-4ce2-948f-50cbd75b14a6\", \"y\": [51, 57, 60, 61, 62, 65, 66, 68, 69, 70, 72, 76, 77, 78, 80, 80]}, {\"boxmean\": true, \"boxpoints\": \"all\", \"marker\": {\"color\": \"rgb(0,255,0)\", \"line\": {\"width\": 1}}, \"name\": \"Cluster 3\", \"text\": [\"ARILDE\", \"IBSON\", \"SAMIRA\", \"ROSIRIS\", \"ANICE\", \"RAINARA\", \"ISOMARA\", \"ERACTON\", \"HOBERT\", \"CLAUDEVANIA\", \"GEISI\", \"GILDSON\", \"EDILAURA\", \"SINFOROSA\", \"YUGO\", \"ALCINDA\", \"JAITON\", \"GLALBER\"], \"type\": \"box\", \"uid\": \"0f649b9b-c3bb-409c-b621-b79e59f86c26\", \"y\": [79, 79, 80, 81, 81, 81, 82, 84, 86, 86, 87, 88, 89, 89, 92, 92, 92, 95]}],\n",
       "                        {\"showlegend\": true, \"title\": {\"text\": \"Varia\\u00e7\\u00e3o de notas dos estudantes por cluster de navega\\u00e7\\u00e3o\"}, \"xaxis\": {\"title\": {\"font\": {\"color\": \"rgb(180,180,180)\"}, \"text\": \"\"}}, \"yaxis\": {\"fixedrange\": false, \"range\": [-1, 105], \"rangemode\": \"normal\", \"title\": {\"font\": {\"color\": \"rgb(180,180,180)\"}, \"text\": \"Notas\"}, \"zeroline\": false}},\n",
       "                        {\"showLink\": false, \"linkText\": \"Export to plot.ly\", \"plotlyServerURL\": \"https://plot.ly\", \"responsive\": true}\n",
       "                    ).then(function(){\n",
       "                            \n",
       "var gd = document.getElementById('e792bcf3-33a2-4453-91fd-d2b50804724b');\n",
       "var x = new MutationObserver(function (mutations, observer) {{\n",
       "        var display = window.getComputedStyle(gd).display;\n",
       "        if (!display || display === 'none') {{\n",
       "            console.log([gd, 'removed!']);\n",
       "            Plotly.purge(gd);\n",
       "            observer.disconnect();\n",
       "        }}\n",
       "}});\n",
       "\n",
       "// Listen for the removal of the full notebook cells\n",
       "var notebookContainer = gd.closest('#notebook-container');\n",
       "if (notebookContainer) {{\n",
       "    x.observe(notebookContainer, {childList: true});\n",
       "}}\n",
       "\n",
       "// Listen for the clearing of the current output cell\n",
       "var outputEl = gd.closest('.output');\n",
       "if (outputEl) {{\n",
       "    x.observe(outputEl, {childList: true});\n",
       "}}\n",
       "\n",
       "                        })\n",
       "                };\n",
       "                });\n",
       "            </script>\n",
       "        </div>"
      ]
     },
     "metadata": {},
     "output_type": "display_data"
    },
    {
     "data": {
      "application/vnd.plotly.v1+json": {
       "config": {
        "linkText": "Export to plot.ly",
        "plotlyServerURL": "https://plot.ly",
        "responsive": true,
        "showLink": false
       },
       "data": [
        {
         "box": {
          "visible": true
         },
         "line": {
          "color": "rgb(255,0,0)"
         },
         "marker": {
          "line": {
           "width": 1
          }
         },
         "meanline": {
          "visible": true
         },
         "name": "Cluster 1",
         "points": "all",
         "text": [
          "WDSON",
          "JULI",
          "LUCIEN",
          "ANDRESCA",
          "EVANEIDE",
          "EVAL",
          "GLARISTON",
          "RIKELLY",
          "NUCIO",
          "DARLAN",
          "SALOMEIA",
          "ELENISI",
          "GRASSIANE",
          "MATIAS",
          "AGIS",
          "JOBERTO",
          "ALDENIR",
          "SANDREANE",
          "AMBROSIO",
          "RUITER",
          "ELIDELTON",
          "DALVACI",
          "TUBERTINO",
          "VALCELI",
          "ELIELSON",
          "ALBERTONI"
         ],
         "type": "violin",
         "uid": "c220b22d-cc32-424a-a573-49acc5b939b3",
         "x": [
          "Cluster 1",
          "Cluster 1",
          "Cluster 1",
          "Cluster 1",
          "Cluster 1",
          "Cluster 1",
          "Cluster 1",
          "Cluster 1",
          "Cluster 1",
          "Cluster 1",
          "Cluster 1",
          "Cluster 1",
          "Cluster 1",
          "Cluster 1",
          "Cluster 1",
          "Cluster 1",
          "Cluster 1",
          "Cluster 1",
          "Cluster 1",
          "Cluster 1",
          "Cluster 1",
          "Cluster 1",
          "Cluster 1",
          "Cluster 1",
          "Cluster 1",
          "Cluster 1"
         ],
         "y": [
          0,
          0,
          0,
          0,
          0,
          0,
          0,
          0,
          0,
          1,
          6,
          10,
          21,
          21,
          25,
          31,
          34,
          34,
          34,
          36,
          41,
          41,
          42,
          44,
          46,
          48
         ]
        },
        {
         "box": {
          "visible": true
         },
         "line": {
          "color": "rgb(0,0,255)"
         },
         "marker": {
          "line": {
           "width": 1
          }
         },
         "meanline": {
          "visible": true
         },
         "name": "Cluster 2",
         "points": "all",
         "text": [
          "FLAVIANA",
          "RODOMILSON",
          "TAI",
          "EDJONAS",
          "AURINELIA",
          "MEDA",
          "TATIANE",
          "JOSEILDO",
          "GISNEIDE",
          "RAINIER",
          "FELISBERTA",
          "GLESIO",
          "GILDASIO",
          "FARLAN",
          "ANISIANE",
          "CIRLENI"
         ],
         "type": "violin",
         "uid": "b8a9fe65-53b6-4139-82e2-c51554f5211f",
         "x": [
          "Cluster 2",
          "Cluster 2",
          "Cluster 2",
          "Cluster 2",
          "Cluster 2",
          "Cluster 2",
          "Cluster 2",
          "Cluster 2",
          "Cluster 2",
          "Cluster 2",
          "Cluster 2",
          "Cluster 2",
          "Cluster 2",
          "Cluster 2",
          "Cluster 2",
          "Cluster 2"
         ],
         "y": [
          51,
          57,
          60,
          61,
          62,
          65,
          66,
          68,
          69,
          70,
          72,
          76,
          77,
          78,
          80,
          80
         ]
        },
        {
         "box": {
          "visible": true
         },
         "line": {
          "color": "rgb(0,255,0)"
         },
         "marker": {
          "line": {
           "width": 1
          }
         },
         "meanline": {
          "visible": true
         },
         "name": "Cluster 3",
         "points": "all",
         "text": [
          "ARILDE",
          "IBSON",
          "SAMIRA",
          "ROSIRIS",
          "ANICE",
          "RAINARA",
          "ISOMARA",
          "ERACTON",
          "HOBERT",
          "CLAUDEVANIA",
          "GEISI",
          "GILDSON",
          "EDILAURA",
          "SINFOROSA",
          "YUGO",
          "ALCINDA",
          "JAITON",
          "GLALBER"
         ],
         "type": "violin",
         "uid": "7274d5c5-0c8d-4238-811b-6bf33d2c67f1",
         "x": [
          "Cluster 3",
          "Cluster 3",
          "Cluster 3",
          "Cluster 3",
          "Cluster 3",
          "Cluster 3",
          "Cluster 3",
          "Cluster 3",
          "Cluster 3",
          "Cluster 3",
          "Cluster 3",
          "Cluster 3",
          "Cluster 3",
          "Cluster 3",
          "Cluster 3",
          "Cluster 3",
          "Cluster 3",
          "Cluster 3"
         ],
         "y": [
          79,
          79,
          80,
          81,
          81,
          81,
          82,
          84,
          86,
          86,
          87,
          88,
          89,
          89,
          92,
          92,
          92,
          95
         ]
        }
       ],
       "layout": {
        "hovermode": "closest",
        "showlegend": true,
        "title": {
         "text": "Variação de notas dos estudantes por cluster de navegação"
        },
        "xaxis": {
         "title": {
          "font": {
           "color": "rgb(180,180,180)"
          },
          "text": ""
         }
        },
        "yaxis": {
         "fixedrange": false,
         "range": [
          -15,
          105
         ],
         "rangemode": "normal",
         "title": {
          "font": {
           "color": "rgb(180,180,180)"
          },
          "text": "Notas"
         },
         "zeroline": false
        }
       }
      },
      "text/html": [
       "<div>\n",
       "        \n",
       "        \n",
       "            <div id=\"f834731b-3dd0-4716-821a-39c77172e805\" class=\"plotly-graph-div\" style=\"height:525px; width:100%;\"></div>\n",
       "            <script type=\"text/javascript\">\n",
       "                require([\"plotly\"], function(Plotly) {\n",
       "                    window.PLOTLYENV=window.PLOTLYENV || {};\n",
       "                    window.PLOTLYENV.BASE_URL='https://plot.ly';\n",
       "                    \n",
       "                if (document.getElementById(\"f834731b-3dd0-4716-821a-39c77172e805\")) {\n",
       "                    Plotly.newPlot(\n",
       "                        'f834731b-3dd0-4716-821a-39c77172e805',\n",
       "                        [{\"box\": {\"visible\": true}, \"line\": {\"color\": \"rgb(255,0,0)\"}, \"marker\": {\"line\": {\"width\": 1}}, \"meanline\": {\"visible\": true}, \"name\": \"Cluster 1\", \"points\": \"all\", \"text\": [\"WDSON\", \"JULI\", \"LUCIEN\", \"ANDRESCA\", \"EVANEIDE\", \"EVAL\", \"GLARISTON\", \"RIKELLY\", \"NUCIO\", \"DARLAN\", \"SALOMEIA\", \"ELENISI\", \"GRASSIANE\", \"MATIAS\", \"AGIS\", \"JOBERTO\", \"ALDENIR\", \"SANDREANE\", \"AMBROSIO\", \"RUITER\", \"ELIDELTON\", \"DALVACI\", \"TUBERTINO\", \"VALCELI\", \"ELIELSON\", \"ALBERTONI\"], \"type\": \"violin\", \"uid\": \"6e92ef51-cb60-48c9-9cb3-aa6eaaf18ae2\", \"x\": [\"Cluster 1\", \"Cluster 1\", \"Cluster 1\", \"Cluster 1\", \"Cluster 1\", \"Cluster 1\", \"Cluster 1\", \"Cluster 1\", \"Cluster 1\", \"Cluster 1\", \"Cluster 1\", \"Cluster 1\", \"Cluster 1\", \"Cluster 1\", \"Cluster 1\", \"Cluster 1\", \"Cluster 1\", \"Cluster 1\", \"Cluster 1\", \"Cluster 1\", \"Cluster 1\", \"Cluster 1\", \"Cluster 1\", \"Cluster 1\", \"Cluster 1\", \"Cluster 1\"], \"y\": [0, 0, 0, 0, 0, 0, 0, 0, 0, 1, 6, 10, 21, 21, 25, 31, 34, 34, 34, 36, 41, 41, 42, 44, 46, 48]}, {\"box\": {\"visible\": true}, \"line\": {\"color\": \"rgb(0,0,255)\"}, \"marker\": {\"line\": {\"width\": 1}}, \"meanline\": {\"visible\": true}, \"name\": \"Cluster 2\", \"points\": \"all\", \"text\": [\"FLAVIANA\", \"RODOMILSON\", \"TAI\", \"EDJONAS\", \"AURINELIA\", \"MEDA\", \"TATIANE\", \"JOSEILDO\", \"GISNEIDE\", \"RAINIER\", \"FELISBERTA\", \"GLESIO\", \"GILDASIO\", \"FARLAN\", \"ANISIANE\", \"CIRLENI\"], \"type\": \"violin\", \"uid\": \"49334cc2-12d8-4f80-b40d-4678f429da06\", \"x\": [\"Cluster 2\", \"Cluster 2\", \"Cluster 2\", \"Cluster 2\", \"Cluster 2\", \"Cluster 2\", \"Cluster 2\", \"Cluster 2\", \"Cluster 2\", \"Cluster 2\", \"Cluster 2\", \"Cluster 2\", \"Cluster 2\", \"Cluster 2\", \"Cluster 2\", \"Cluster 2\"], \"y\": [51, 57, 60, 61, 62, 65, 66, 68, 69, 70, 72, 76, 77, 78, 80, 80]}, {\"box\": {\"visible\": true}, \"line\": {\"color\": \"rgb(0,255,0)\"}, \"marker\": {\"line\": {\"width\": 1}}, \"meanline\": {\"visible\": true}, \"name\": \"Cluster 3\", \"points\": \"all\", \"text\": [\"ARILDE\", \"IBSON\", \"SAMIRA\", \"ROSIRIS\", \"ANICE\", \"RAINARA\", \"ISOMARA\", \"ERACTON\", \"HOBERT\", \"CLAUDEVANIA\", \"GEISI\", \"GILDSON\", \"EDILAURA\", \"SINFOROSA\", \"YUGO\", \"ALCINDA\", \"JAITON\", \"GLALBER\"], \"type\": \"violin\", \"uid\": \"7893cbc2-3cd7-496c-8b65-b82ce6118723\", \"x\": [\"Cluster 3\", \"Cluster 3\", \"Cluster 3\", \"Cluster 3\", \"Cluster 3\", \"Cluster 3\", \"Cluster 3\", \"Cluster 3\", \"Cluster 3\", \"Cluster 3\", \"Cluster 3\", \"Cluster 3\", \"Cluster 3\", \"Cluster 3\", \"Cluster 3\", \"Cluster 3\", \"Cluster 3\", \"Cluster 3\"], \"y\": [79, 79, 80, 81, 81, 81, 82, 84, 86, 86, 87, 88, 89, 89, 92, 92, 92, 95]}],\n",
       "                        {\"hovermode\": \"closest\", \"showlegend\": true, \"title\": {\"text\": \"Varia\\u00e7\\u00e3o de notas dos estudantes por cluster de navega\\u00e7\\u00e3o\"}, \"xaxis\": {\"title\": {\"font\": {\"color\": \"rgb(180,180,180)\"}, \"text\": \"\"}}, \"yaxis\": {\"fixedrange\": false, \"range\": [-15, 105], \"rangemode\": \"normal\", \"title\": {\"font\": {\"color\": \"rgb(180,180,180)\"}, \"text\": \"Notas\"}, \"zeroline\": false}},\n",
       "                        {\"showLink\": false, \"linkText\": \"Export to plot.ly\", \"plotlyServerURL\": \"https://plot.ly\", \"responsive\": true}\n",
       "                    ).then(function(){\n",
       "                            \n",
       "var gd = document.getElementById('f834731b-3dd0-4716-821a-39c77172e805');\n",
       "var x = new MutationObserver(function (mutations, observer) {{\n",
       "        var display = window.getComputedStyle(gd).display;\n",
       "        if (!display || display === 'none') {{\n",
       "            console.log([gd, 'removed!']);\n",
       "            Plotly.purge(gd);\n",
       "            observer.disconnect();\n",
       "        }}\n",
       "}});\n",
       "\n",
       "// Listen for the removal of the full notebook cells\n",
       "var notebookContainer = gd.closest('#notebook-container');\n",
       "if (notebookContainer) {{\n",
       "    x.observe(notebookContainer, {childList: true});\n",
       "}}\n",
       "\n",
       "// Listen for the clearing of the current output cell\n",
       "var outputEl = gd.closest('.output');\n",
       "if (outputEl) {{\n",
       "    x.observe(outputEl, {childList: true});\n",
       "}}\n",
       "\n",
       "                        })\n",
       "                };\n",
       "                });\n",
       "            </script>\n",
       "        </div>"
      ]
     },
     "metadata": {},
     "output_type": "display_data"
    },
    {
     "data": {
      "application/vnd.plotly.v1+json": {
       "config": {
        "linkText": "Export to plot.ly",
        "plotlyServerURL": "https://plot.ly",
        "responsive": true,
        "showLink": false
       },
       "data": [
        {
         "hoverinfo": "none",
         "marker": {
          "color": "rgba(255,0,0,1)",
          "line": {
           "width": 3
          },
          "size": [
           90,
           90,
           90,
           90
          ],
          "symbol": "circle-open"
         },
         "mode": "markers+text",
         "name": "Cluster1",
         "showlegend": false,
         "text": [
          "Vídeo 1",
          "Vídeo 2",
          "Vídeo 3",
          "Prova"
         ],
         "textposition": "middle center",
         "type": "scatter",
         "uid": "ca2313d3-e9bc-4793-8218-8f4330457517",
         "x": [
          1,
          2,
          3,
          4
         ],
         "y": [
          120,
          120,
          120,
          120,
          120
         ]
        },
        {
         "hoverinfo": "none",
         "marker": {
          "color": "rgba(255,0,0,1)",
          "size": [
           90,
           90
          ],
          "symbol": "circle"
         },
         "mode": "markers+text",
         "showlegend": false,
         "text": [
          "Início do Curso",
          "Fim do Curso"
         ],
         "textfont": {
          "color": "rgb(255,255,255)"
         },
         "textposition": "middle center",
         "type": "scatter",
         "uid": "76ef3338-1369-4acc-8eb4-0ba02b352425",
         "x": [
          0,
          5
         ],
         "y": [
          119,
          121
         ]
        },
        {
         "hoverinfo": "none",
         "marker": {
          "color": "rgba(255,0,0,1)",
          "size": [
           60,
           60
          ],
          "symbol": "square"
         },
         "mode": "markers+text",
         "showlegend": false,
         "text": [
          "Cluster 1"
         ],
         "textfont": {
          "color": "rgb(255,255,255)"
         },
         "textposition": "middle center",
         "type": "scatter",
         "uid": "33ef1789-5144-47c1-85d7-3a422b9e8244",
         "x": [
          -0.5
         ],
         "y": [
          118.5
         ]
        },
        {
         "hoverinfo": "none",
         "marker": {
          "color": "rgba(0,0,255,1)",
          "line": {
           "width": 3
          },
          "size": [
           90,
           90,
           90,
           90,
           90,
           90,
           90
          ],
          "symbol": "circle-open"
         },
         "mode": "markers+text",
         "name": "Cluster2",
         "showlegend": false,
         "text": [
          "Vídeo 1",
          "Vídeo 2",
          "Vídeo 3",
          "Atividade 1",
          "Atividade 2",
          "Atividade 3",
          "Prova"
         ],
         "textposition": "middle center",
         "type": "scatter",
         "uid": "361251ff-315a-4559-b3a3-6f44e03f0611",
         "x": [
          1,
          2,
          3,
          1.5,
          2.5,
          3.5,
          4
         ],
         "y": [
          80,
          100,
          100,
          60,
          60,
          60,
          80
         ]
        },
        {
         "hoverinfo": "none",
         "marker": {
          "color": "rgba(0,0,255,1)",
          "size": [
           90,
           90
          ],
          "symbol": "circle"
         },
         "mode": "markers+text",
         "showlegend": false,
         "text": [
          "Início do Curso",
          "Fim do Curso"
         ],
         "textfont": {
          "color": "rgb(255,255,255)"
         },
         "textposition": "middle center",
         "type": "scatter",
         "uid": "596aff24-c5a0-4b3f-bfee-71434e41d710",
         "x": [
          0,
          5
         ],
         "y": [
          79,
          81
         ]
        },
        {
         "hoverinfo": "none",
         "marker": {
          "color": "rgba(0,0,255,1)",
          "size": [
           60,
           60
          ],
          "symbol": "square"
         },
         "mode": "markers+text",
         "showlegend": false,
         "text": [
          "Cluster 2"
         ],
         "textfont": {
          "color": "rgb(255,255,255)"
         },
         "textposition": "middle center",
         "type": "scatter",
         "uid": "39e7c843-8be1-4ba3-8783-130069c83201",
         "x": [
          -0.5
         ],
         "y": [
          78.5
         ]
        },
        {
         "hoverinfo": "none",
         "marker": {
          "color": "rgba(0,255,0,1)",
          "line": {
           "width": 3
          },
          "size": [
           90,
           90,
           90,
           90,
           90,
           90,
           90,
           90
          ],
          "symbol": "circle-open"
         },
         "mode": "markers+text",
         "name": "Cluster3",
         "showlegend": false,
         "text": [
          "Vídeo 1",
          "Vídeo 2",
          "Vídeo 3",
          "Atividade 1",
          "Atividade 2",
          "Atividade 3",
          "Fórum",
          "Prova"
         ],
         "textposition": "middle center",
         "type": "scatter",
         "uid": "ac5659d9-5b5e-4a50-ad53-1e7b3745dc45",
         "x": [
          1,
          2,
          3,
          1.5,
          2.5,
          3.5,
          1.5,
          4
         ],
         "y": [
          20,
          20,
          20,
          0,
          0,
          0,
          40,
          20
         ]
        },
        {
         "hoverinfo": "none",
         "marker": {
          "color": "rgba(0,255,0,1)",
          "size": [
           90,
           90
          ],
          "symbol": "circle"
         },
         "mode": "markers+text",
         "showlegend": false,
         "text": [
          "Início do Curso",
          "Fim do Curso"
         ],
         "textfont": {
          "color": "rgb(0,0,0)"
         },
         "textposition": "middle center",
         "type": "scatter",
         "uid": "a0f7a0ea-7032-4d06-83cf-6d74131bcc90",
         "x": [
          0,
          5
         ],
         "y": [
          19,
          21
         ]
        },
        {
         "hoverinfo": "none",
         "marker": {
          "color": "rgba(0,255,0,1)",
          "size": [
           60,
           60
          ],
          "symbol": "square"
         },
         "mode": "markers+text",
         "showlegend": false,
         "text": [
          "Cluster 3"
         ],
         "textfont": {
          "color": "rgb(0,0,0)"
         },
         "textposition": "middle center",
         "type": "scatter",
         "uid": "03435bf2-0426-4f3f-8ebf-7e9916af2a90",
         "x": [
          -0.5
         ],
         "y": [
          18.5
         ]
        }
       ],
       "layout": {
        "annotations": [
         {
          "arrowcolor": "rgba(255,0,0,1)",
          "arrowhead": 3,
          "arrowsize": 1,
          "arrowwidth": 10,
          "ax": 0,
          "axref": "x",
          "ay": 119,
          "ayref": "y",
          "showarrow": true,
          "standoff": 50,
          "startstandoff": 50,
          "x": 1,
          "xref": "x",
          "xshift": 0,
          "y": 120,
          "yref": "y",
          "yshift": 0
         },
         {
          "arrowcolor": "rgba(255,0,0,1)",
          "arrowhead": 3,
          "arrowsize": 1,
          "arrowwidth": 9,
          "ax": 1,
          "axref": "x",
          "ay": 120,
          "ayref": "y",
          "showarrow": true,
          "standoff": 50,
          "startstandoff": 50,
          "x": 2,
          "xref": "x",
          "xshift": 0,
          "y": 120,
          "yref": "y",
          "yshift": 0
         },
         {
          "arrowcolor": "rgba(255,0,0,1)",
          "arrowhead": 3,
          "arrowsize": 1,
          "arrowwidth": 6,
          "ax": 2,
          "axref": "x",
          "ay": 120,
          "ayref": "y",
          "showarrow": true,
          "standoff": 50,
          "startstandoff": 50,
          "x": 3,
          "xref": "x",
          "xshift": 0,
          "y": 120,
          "yref": "y",
          "yshift": 0
         },
         {
          "arrowcolor": "rgba(255,0,0,1)",
          "arrowhead": 3,
          "arrowsize": 1,
          "arrowwidth": 5,
          "ax": 3,
          "axref": "x",
          "ay": 120,
          "ayref": "y",
          "showarrow": true,
          "standoff": 50,
          "startstandoff": 50,
          "x": 4,
          "xref": "x",
          "xshift": 0,
          "y": 120,
          "yref": "y",
          "yshift": 0
         },
         {
          "arrowcolor": "rgba(255,0,0,1)",
          "arrowhead": 3,
          "arrowsize": 1,
          "arrowwidth": 5,
          "ax": 4,
          "axref": "x",
          "ay": 120,
          "ayref": "y",
          "showarrow": true,
          "standoff": 50,
          "startstandoff": 50,
          "x": 5,
          "xref": "x",
          "xshift": 0,
          "y": 121,
          "yref": "y",
          "yshift": 0
         },
         {
          "arrowcolor": "rgba(0,0,255,1)",
          "arrowhead": 3,
          "arrowsize": 1,
          "arrowwidth": 9,
          "ax": 0,
          "axref": "x",
          "ay": 79,
          "ayref": "y",
          "showarrow": true,
          "standoff": 50,
          "startstandoff": 50,
          "x": 1,
          "xref": "x",
          "xshift": 0,
          "y": 80,
          "yref": "y",
          "yshift": 0
         },
         {
          "arrowcolor": "rgba(0,0,255,1)",
          "arrowhead": 3,
          "arrowsize": 1,
          "arrowwidth": 4,
          "ax": 1,
          "axref": "x",
          "ay": 80,
          "ayref": "y",
          "showarrow": true,
          "standoff": 50,
          "startstandoff": 50,
          "x": 2,
          "xref": "x",
          "xshift": 0,
          "y": 100,
          "yref": "y",
          "yshift": 0
         },
         {
          "arrowcolor": "rgba(0,0,255,1)",
          "arrowhead": 3,
          "arrowsize": 1,
          "arrowwidth": 8,
          "ax": 1,
          "axref": "x",
          "ay": 80,
          "ayref": "y",
          "showarrow": true,
          "standoff": 50,
          "startstandoff": 50,
          "x": 1.5,
          "xref": "x",
          "xshift": 0,
          "y": 60,
          "yref": "y",
          "yshift": 0
         },
         {
          "arrowcolor": "rgba(0,0,255,1)",
          "arrowhead": 3,
          "arrowsize": 1,
          "arrowwidth": 3,
          "ax": 2,
          "axref": "x",
          "ay": 100,
          "ayref": "y",
          "showarrow": true,
          "standoff": 50,
          "startstandoff": 50,
          "x": 3,
          "xref": "x",
          "xshift": 0,
          "y": 100,
          "yref": "y",
          "yshift": 0
         },
         {
          "arrowcolor": "rgba(0,0,255,1)",
          "arrowhead": 3,
          "arrowsize": 1,
          "arrowwidth": 7,
          "ax": 2,
          "axref": "x",
          "ay": 100,
          "ayref": "y",
          "showarrow": true,
          "standoff": 50,
          "startstandoff": 50,
          "x": 2.5,
          "xref": "x",
          "xshift": 0,
          "y": 60,
          "yref": "y",
          "yshift": 0
         },
         {
          "arrowcolor": "rgba(0,0,255,1)",
          "arrowhead": 3,
          "arrowsize": 1,
          "arrowwidth": 6,
          "ax": 3,
          "axref": "x",
          "ay": 100,
          "ayref": "y",
          "showarrow": true,
          "standoff": 50,
          "startstandoff": 50,
          "x": 3.5,
          "xref": "x",
          "xshift": 0,
          "y": 60,
          "yref": "y",
          "yshift": 0
         },
         {
          "arrowcolor": "rgba(0,0,255,1)",
          "arrowhead": 3,
          "arrowsize": 1,
          "arrowwidth": 5,
          "ax": 1.5,
          "axref": "x",
          "ay": 60,
          "ayref": "y",
          "showarrow": true,
          "standoff": 50,
          "startstandoff": 50,
          "x": 2,
          "xref": "x",
          "xshift": 0,
          "y": 100,
          "yref": "y",
          "yshift": 0
         },
         {
          "arrowcolor": "rgba(0,0,255,1)",
          "arrowhead": 3,
          "arrowsize": 1,
          "arrowwidth": 7,
          "ax": 2.5,
          "axref": "x",
          "ay": 60,
          "ayref": "y",
          "showarrow": true,
          "standoff": 50,
          "startstandoff": 50,
          "x": 3,
          "xref": "x",
          "xshift": 0,
          "y": 100,
          "yref": "y",
          "yshift": 0
         },
         {
          "arrowcolor": "rgba(0,0,255,1)",
          "arrowhead": 3,
          "arrowsize": 1,
          "arrowwidth": 6,
          "ax": 3.5,
          "axref": "x",
          "ay": 60,
          "ayref": "y",
          "showarrow": true,
          "standoff": 50,
          "startstandoff": 50,
          "x": 4,
          "xref": "x",
          "xshift": 0,
          "y": 80,
          "yref": "y",
          "yshift": 0
         },
         {
          "arrowcolor": "rgba(0,0,255,1)",
          "arrowhead": 3,
          "arrowsize": 1,
          "arrowwidth": 4,
          "ax": 3,
          "axref": "x",
          "ay": 100,
          "ayref": "y",
          "showarrow": true,
          "standoff": 50,
          "startstandoff": 50,
          "x": 4,
          "xref": "x",
          "xshift": 0,
          "y": 80,
          "yref": "y",
          "yshift": 0
         },
         {
          "arrowcolor": "rgba(0,0,255,1)",
          "arrowhead": 3,
          "arrowsize": 1,
          "arrowwidth": 10,
          "ax": 4,
          "axref": "x",
          "ay": 80,
          "ayref": "y",
          "showarrow": true,
          "standoff": 50,
          "startstandoff": 50,
          "x": 5,
          "xref": "x",
          "xshift": 0,
          "y": 81,
          "yref": "y",
          "yshift": 0
         },
         {
          "arrowcolor": "rgba(0,255,0,1)",
          "arrowhead": 3,
          "arrowsize": 1,
          "arrowwidth": 9,
          "ax": 0,
          "axref": "x",
          "ay": 19,
          "ayref": "y",
          "showarrow": true,
          "standoff": 50,
          "startstandoff": 50,
          "x": 1,
          "xref": "x",
          "xshift": 0,
          "y": 20,
          "yref": "y",
          "yshift": 0
         },
         {
          "arrowcolor": "rgba(0,255,0,1)",
          "arrowhead": 3,
          "arrowsize": 1,
          "arrowwidth": 3,
          "ax": 0,
          "axref": "x",
          "ay": 19,
          "ayref": "y",
          "showarrow": true,
          "standoff": 50,
          "startstandoff": 50,
          "x": 1.5,
          "xref": "x",
          "xshift": -10,
          "y": 0,
          "yref": "y",
          "yshift": -15
         },
         {
          "arrowcolor": "rgba(0,255,0,1)",
          "arrowhead": 3,
          "arrowsize": 1,
          "arrowwidth": 2,
          "ax": 1,
          "axref": "x",
          "ay": 20,
          "ayref": "y",
          "showarrow": true,
          "standoff": 50,
          "startstandoff": 50,
          "x": 1.5,
          "xref": "x",
          "xshift": 0,
          "y": 40,
          "yref": "y",
          "yshift": 0
         },
         {
          "arrowcolor": "rgba(0,255,0,1)",
          "arrowhead": 3,
          "arrowsize": 1,
          "arrowwidth": 5,
          "ax": 1,
          "axref": "x",
          "ay": 20,
          "ayref": "y",
          "showarrow": true,
          "standoff": 50,
          "startstandoff": 50,
          "x": 1.5,
          "xref": "x",
          "xshift": 15,
          "y": 0,
          "yref": "y",
          "yshift": 10
         },
         {
          "arrowcolor": "rgba(0,255,0,1)",
          "arrowhead": 3,
          "arrowsize": 1,
          "arrowwidth": 2,
          "ax": 1.5,
          "axref": "x",
          "ay": 40,
          "ayref": "y",
          "showarrow": true,
          "standoff": 50,
          "startstandoff": 50,
          "x": 2,
          "xref": "x",
          "xshift": 0,
          "y": 20,
          "yref": "y",
          "yshift": 0
         },
         {
          "arrowcolor": "rgba(0,255,0,1)",
          "arrowhead": 3,
          "arrowsize": 1,
          "arrowwidth": 2,
          "ax": 2,
          "axref": "x",
          "ay": 20,
          "ayref": "y",
          "showarrow": true,
          "standoff": 50,
          "startstandoff": 50,
          "x": 3,
          "xref": "x",
          "xshift": 0,
          "y": 20,
          "yref": "y",
          "yshift": 0
         },
         {
          "arrowcolor": "rgba(0,255,0,1)",
          "arrowhead": 3,
          "arrowsize": 1,
          "arrowwidth": 5,
          "ax": 2,
          "axref": "x",
          "ay": 20,
          "ayref": "y",
          "showarrow": true,
          "standoff": 50,
          "startstandoff": 50,
          "x": 2.5,
          "xref": "x",
          "xshift": 15,
          "y": 0,
          "yref": "y",
          "yshift": 10
         },
         {
          "arrowcolor": "rgba(0,255,0,1)",
          "arrowhead": 3,
          "arrowsize": 1,
          "arrowwidth": 5,
          "ax": 3,
          "axref": "x",
          "ay": 20,
          "ayref": "y",
          "showarrow": true,
          "standoff": 50,
          "startstandoff": 50,
          "x": 3.5,
          "xref": "x",
          "xshift": 15,
          "y": 0,
          "yref": "y",
          "yshift": 10
         },
         {
          "arrowcolor": "rgba(0,255,0,1)",
          "arrowhead": 3,
          "arrowsize": 1,
          "arrowwidth": 2,
          "ax": 3,
          "axref": "x",
          "ay": 20,
          "ayref": "y",
          "showarrow": true,
          "standoff": 50,
          "startstandoff": 50,
          "x": 4,
          "xref": "x",
          "xshift": 0,
          "y": 20,
          "yref": "y",
          "yshift": 0
         },
         {
          "arrowcolor": "rgba(0,255,0,1)",
          "arrowhead": 3,
          "arrowsize": 1,
          "arrowwidth": 3,
          "ax": 1.5,
          "axref": "x",
          "ay": 0,
          "ayref": "y",
          "showarrow": true,
          "standoff": 50,
          "startstandoff": 50,
          "x": 1,
          "xref": "x",
          "xshift": -10,
          "y": 20,
          "yref": "y",
          "yshift": -10
         },
         {
          "arrowcolor": "rgba(0,255,0,1)",
          "arrowhead": 3,
          "arrowsize": 1,
          "arrowwidth": 5,
          "ax": 1.5,
          "axref": "x",
          "ay": 0,
          "ayref": "y",
          "showarrow": true,
          "standoff": 50,
          "startstandoff": 50,
          "x": 2,
          "xref": "x",
          "xshift": 0,
          "y": 20,
          "yref": "y",
          "yshift": 0
         },
         {
          "arrowcolor": "rgba(0,255,0,1)",
          "arrowhead": 3,
          "arrowsize": 1,
          "arrowwidth": 2,
          "ax": 2.5,
          "axref": "x",
          "ay": 0,
          "ayref": "y",
          "showarrow": true,
          "standoff": 50,
          "startstandoff": 50,
          "x": 2,
          "xref": "x",
          "xshift": -10,
          "y": 20,
          "yref": "y",
          "yshift": -10
         },
         {
          "arrowcolor": "rgba(0,255,0,1)",
          "arrowhead": 3,
          "arrowsize": 1,
          "arrowwidth": 5,
          "ax": 2.5,
          "axref": "x",
          "ay": 0,
          "ayref": "y",
          "showarrow": true,
          "standoff": 50,
          "startstandoff": 50,
          "x": 3,
          "xref": "x",
          "xshift": 0,
          "y": 20,
          "yref": "y",
          "yshift": 0
         },
         {
          "arrowcolor": "rgba(0,255,0,1)",
          "arrowhead": 3,
          "arrowsize": 1,
          "arrowwidth": 2,
          "ax": 3.5,
          "axref": "x",
          "ay": 0,
          "ayref": "y",
          "showarrow": true,
          "standoff": 50,
          "startstandoff": 50,
          "x": 3,
          "xref": "x",
          "xshift": -10,
          "y": 20,
          "yref": "y",
          "yshift": -10
         },
         {
          "arrowcolor": "rgba(0,255,0,1)",
          "arrowhead": 3,
          "arrowsize": 1,
          "arrowwidth": 5,
          "ax": 3.5,
          "axref": "x",
          "ay": 0,
          "ayref": "y",
          "showarrow": true,
          "standoff": 50,
          "startstandoff": 50,
          "x": 4,
          "xref": "x",
          "xshift": 0,
          "y": 20,
          "yref": "y",
          "yshift": 0
         },
         {
          "arrowcolor": "rgba(0,255,0,1)",
          "arrowhead": 3,
          "arrowsize": 1,
          "arrowwidth": 7,
          "ax": 4,
          "axref": "x",
          "ay": 20,
          "ayref": "y",
          "showarrow": true,
          "standoff": 50,
          "startstandoff": 50,
          "x": 5,
          "xref": "x",
          "xshift": 0,
          "y": 21,
          "yref": "y",
          "yshift": 0
         }
        ],
        "autosize": true,
        "height": 1250,
        "hovermode": "closest",
        "title": {
         "text": "Fluxo de navegação dos estudantes por cluster"
        },
        "xaxis": {
         "showgrid": false,
         "showticklabels": false,
         "zeroline": false
        },
        "yaxis": {
         "showgrid": false,
         "showticklabels": false,
         "zeroline": false
        }
       }
      },
      "text/html": [
       "<div>\n",
       "        \n",
       "        \n",
       "            <div id=\"c9ffa1c3-e4f9-4f72-8d5f-5b5d19660b72\" class=\"plotly-graph-div\" style=\"height:1250px; width:100%;\"></div>\n",
       "            <script type=\"text/javascript\">\n",
       "                require([\"plotly\"], function(Plotly) {\n",
       "                    window.PLOTLYENV=window.PLOTLYENV || {};\n",
       "                    window.PLOTLYENV.BASE_URL='https://plot.ly';\n",
       "                    \n",
       "                if (document.getElementById(\"c9ffa1c3-e4f9-4f72-8d5f-5b5d19660b72\")) {\n",
       "                    Plotly.newPlot(\n",
       "                        'c9ffa1c3-e4f9-4f72-8d5f-5b5d19660b72',\n",
       "                        [{\"hoverinfo\": \"none\", \"marker\": {\"color\": \"rgba(255,0,0,1)\", \"line\": {\"width\": 3}, \"size\": [90, 90, 90, 90], \"symbol\": \"circle-open\"}, \"mode\": \"markers+text\", \"name\": \"Cluster1\", \"showlegend\": false, \"text\": [\"V\\u00eddeo 1\", \"V\\u00eddeo 2\", \"V\\u00eddeo 3\", \"Prova\"], \"textposition\": \"middle center\", \"type\": \"scatter\", \"uid\": \"95376bdc-6042-49da-9b2f-cff12a315e90\", \"x\": [1, 2, 3, 4], \"y\": [120, 120, 120, 120, 120]}, {\"hoverinfo\": \"none\", \"marker\": {\"color\": \"rgba(255,0,0,1)\", \"size\": [90, 90], \"symbol\": \"circle\"}, \"mode\": \"markers+text\", \"showlegend\": false, \"text\": [\"In\\u00edcio do Curso\", \"Fim do Curso\"], \"textfont\": {\"color\": \"rgb(255,255,255)\"}, \"textposition\": \"middle center\", \"type\": \"scatter\", \"uid\": \"3b0ebf51-7056-46f1-8c4c-0e304349a27e\", \"x\": [0, 5], \"y\": [119, 121]}, {\"hoverinfo\": \"none\", \"marker\": {\"color\": \"rgba(255,0,0,1)\", \"size\": [60.0, 60.0], \"symbol\": \"square\"}, \"mode\": \"markers+text\", \"showlegend\": false, \"text\": [\"Cluster 1\"], \"textfont\": {\"color\": \"rgb(255,255,255)\"}, \"textposition\": \"middle center\", \"type\": \"scatter\", \"uid\": \"57583d9f-5b1e-4ab6-ae01-8c4ef062f988\", \"x\": [-0.5], \"y\": [118.5]}, {\"hoverinfo\": \"none\", \"marker\": {\"color\": \"rgba(0,0,255,1)\", \"line\": {\"width\": 3}, \"size\": [90, 90, 90, 90, 90, 90, 90], \"symbol\": \"circle-open\"}, \"mode\": \"markers+text\", \"name\": \"Cluster2\", \"showlegend\": false, \"text\": [\"V\\u00eddeo 1\", \"V\\u00eddeo 2\", \"V\\u00eddeo 3\", \"Atividade 1\", \"Atividade 2\", \"Atividade 3\", \"Prova\"], \"textposition\": \"middle center\", \"type\": \"scatter\", \"uid\": \"66a612cf-9086-4e12-87c1-c099ec73f573\", \"x\": [1, 2, 3, 1.5, 2.5, 3.5, 4], \"y\": [80, 100, 100, 60, 60, 60, 80]}, {\"hoverinfo\": \"none\", \"marker\": {\"color\": \"rgba(0,0,255,1)\", \"size\": [90, 90], \"symbol\": \"circle\"}, \"mode\": \"markers+text\", \"showlegend\": false, \"text\": [\"In\\u00edcio do Curso\", \"Fim do Curso\"], \"textfont\": {\"color\": \"rgb(255,255,255)\"}, \"textposition\": \"middle center\", \"type\": \"scatter\", \"uid\": \"0ca402b3-d2b4-4339-863b-aaea02c05412\", \"x\": [0, 5], \"y\": [79, 81]}, {\"hoverinfo\": \"none\", \"marker\": {\"color\": \"rgba(0,0,255,1)\", \"size\": [60.0, 60.0], \"symbol\": \"square\"}, \"mode\": \"markers+text\", \"showlegend\": false, \"text\": [\"Cluster 2\"], \"textfont\": {\"color\": \"rgb(255,255,255)\"}, \"textposition\": \"middle center\", \"type\": \"scatter\", \"uid\": \"d519e8b6-4142-4328-af5a-1dd618ede574\", \"x\": [-0.5], \"y\": [78.5]}, {\"hoverinfo\": \"none\", \"marker\": {\"color\": \"rgba(0,255,0,1)\", \"line\": {\"width\": 3}, \"size\": [90, 90, 90, 90, 90, 90, 90, 90], \"symbol\": \"circle-open\"}, \"mode\": \"markers+text\", \"name\": \"Cluster3\", \"showlegend\": false, \"text\": [\"V\\u00eddeo 1\", \"V\\u00eddeo 2\", \"V\\u00eddeo 3\", \"Atividade 1\", \"Atividade 2\", \"Atividade 3\", \"F\\u00f3rum\", \"Prova\"], \"textposition\": \"middle center\", \"type\": \"scatter\", \"uid\": \"08183979-8f53-4f5b-b1a2-545e07a2489e\", \"x\": [1, 2, 3, 1.5, 2.5, 3.5, 1.5, 4], \"y\": [20, 20, 20, 0, 0, 0, 40, 20]}, {\"hoverinfo\": \"none\", \"marker\": {\"color\": \"rgba(0,255,0,1)\", \"size\": [90, 90], \"symbol\": \"circle\"}, \"mode\": \"markers+text\", \"showlegend\": false, \"text\": [\"In\\u00edcio do Curso\", \"Fim do Curso\"], \"textfont\": {\"color\": \"rgb(0,0,0)\"}, \"textposition\": \"middle center\", \"type\": \"scatter\", \"uid\": \"c2322494-f692-4085-b0fa-57791dc29ee7\", \"x\": [0, 5], \"y\": [19, 21]}, {\"hoverinfo\": \"none\", \"marker\": {\"color\": \"rgba(0,255,0,1)\", \"size\": [60.0, 60.0], \"symbol\": \"square\"}, \"mode\": \"markers+text\", \"showlegend\": false, \"text\": [\"Cluster 3\"], \"textfont\": {\"color\": \"rgb(0,0,0)\"}, \"textposition\": \"middle center\", \"type\": \"scatter\", \"uid\": \"52d196bd-01cd-4f6f-8acb-ccc5bdee77e7\", \"x\": [-0.5], \"y\": [18.5]}],\n",
       "                        {\"annotations\": [{\"arrowcolor\": \"rgba(255,0,0,1)\", \"arrowhead\": 3, \"arrowsize\": 1, \"arrowwidth\": 10, \"ax\": 0, \"axref\": \"x\", \"ay\": 119, \"ayref\": \"y\", \"showarrow\": true, \"standoff\": 50.0, \"startstandoff\": 50.0, \"x\": 1, \"xref\": \"x\", \"xshift\": 0, \"y\": 120, \"yref\": \"y\", \"yshift\": 0}, {\"arrowcolor\": \"rgba(255,0,0,1)\", \"arrowhead\": 3, \"arrowsize\": 1, \"arrowwidth\": 9, \"ax\": 1, \"axref\": \"x\", \"ay\": 120, \"ayref\": \"y\", \"showarrow\": true, \"standoff\": 50.0, \"startstandoff\": 50.0, \"x\": 2, \"xref\": \"x\", \"xshift\": 0, \"y\": 120, \"yref\": \"y\", \"yshift\": 0}, {\"arrowcolor\": \"rgba(255,0,0,1)\", \"arrowhead\": 3, \"arrowsize\": 1, \"arrowwidth\": 6, \"ax\": 2, \"axref\": \"x\", \"ay\": 120, \"ayref\": \"y\", \"showarrow\": true, \"standoff\": 50.0, \"startstandoff\": 50.0, \"x\": 3, \"xref\": \"x\", \"xshift\": 0, \"y\": 120, \"yref\": \"y\", \"yshift\": 0}, {\"arrowcolor\": \"rgba(255,0,0,1)\", \"arrowhead\": 3, \"arrowsize\": 1, \"arrowwidth\": 5, \"ax\": 3, \"axref\": \"x\", \"ay\": 120, \"ayref\": \"y\", \"showarrow\": true, \"standoff\": 50.0, \"startstandoff\": 50.0, \"x\": 4, \"xref\": \"x\", \"xshift\": 0, \"y\": 120, \"yref\": \"y\", \"yshift\": 0}, {\"arrowcolor\": \"rgba(255,0,0,1)\", \"arrowhead\": 3, \"arrowsize\": 1, \"arrowwidth\": 5, \"ax\": 4, \"axref\": \"x\", \"ay\": 120, \"ayref\": \"y\", \"showarrow\": true, \"standoff\": 50.0, \"startstandoff\": 50.0, \"x\": 5, \"xref\": \"x\", \"xshift\": 0, \"y\": 121, \"yref\": \"y\", \"yshift\": 0}, {\"arrowcolor\": \"rgba(0,0,255,1)\", \"arrowhead\": 3, \"arrowsize\": 1, \"arrowwidth\": 9, \"ax\": 0, \"axref\": \"x\", \"ay\": 79, \"ayref\": \"y\", \"showarrow\": true, \"standoff\": 50.0, \"startstandoff\": 50.0, \"x\": 1, \"xref\": \"x\", \"xshift\": 0, \"y\": 80, \"yref\": \"y\", \"yshift\": 0}, {\"arrowcolor\": \"rgba(0,0,255,1)\", \"arrowhead\": 3, \"arrowsize\": 1, \"arrowwidth\": 4, \"ax\": 1, \"axref\": \"x\", \"ay\": 80, \"ayref\": \"y\", \"showarrow\": true, \"standoff\": 50.0, \"startstandoff\": 50.0, \"x\": 2, \"xref\": \"x\", \"xshift\": 0, \"y\": 100, \"yref\": \"y\", \"yshift\": 0}, {\"arrowcolor\": \"rgba(0,0,255,1)\", \"arrowhead\": 3, \"arrowsize\": 1, \"arrowwidth\": 8, \"ax\": 1, \"axref\": \"x\", \"ay\": 80, \"ayref\": \"y\", \"showarrow\": true, \"standoff\": 50.0, \"startstandoff\": 50.0, \"x\": 1.5, \"xref\": \"x\", \"xshift\": 0, \"y\": 60, \"yref\": \"y\", \"yshift\": 0}, {\"arrowcolor\": \"rgba(0,0,255,1)\", \"arrowhead\": 3, \"arrowsize\": 1, \"arrowwidth\": 3, \"ax\": 2, \"axref\": \"x\", \"ay\": 100, \"ayref\": \"y\", \"showarrow\": true, \"standoff\": 50.0, \"startstandoff\": 50.0, \"x\": 3, \"xref\": \"x\", \"xshift\": 0, \"y\": 100, \"yref\": \"y\", \"yshift\": 0}, {\"arrowcolor\": \"rgba(0,0,255,1)\", \"arrowhead\": 3, \"arrowsize\": 1, \"arrowwidth\": 7, \"ax\": 2, \"axref\": \"x\", \"ay\": 100, \"ayref\": \"y\", \"showarrow\": true, \"standoff\": 50.0, \"startstandoff\": 50.0, \"x\": 2.5, \"xref\": \"x\", \"xshift\": 0, \"y\": 60, \"yref\": \"y\", \"yshift\": 0}, {\"arrowcolor\": \"rgba(0,0,255,1)\", \"arrowhead\": 3, \"arrowsize\": 1, \"arrowwidth\": 6, \"ax\": 3, \"axref\": \"x\", \"ay\": 100, \"ayref\": \"y\", \"showarrow\": true, \"standoff\": 50.0, \"startstandoff\": 50.0, \"x\": 3.5, \"xref\": \"x\", \"xshift\": 0, \"y\": 60, \"yref\": \"y\", \"yshift\": 0}, {\"arrowcolor\": \"rgba(0,0,255,1)\", \"arrowhead\": 3, \"arrowsize\": 1, \"arrowwidth\": 5, \"ax\": 1.5, \"axref\": \"x\", \"ay\": 60, \"ayref\": \"y\", \"showarrow\": true, \"standoff\": 50.0, \"startstandoff\": 50.0, \"x\": 2, \"xref\": \"x\", \"xshift\": 0, \"y\": 100, \"yref\": \"y\", \"yshift\": 0}, {\"arrowcolor\": \"rgba(0,0,255,1)\", \"arrowhead\": 3, \"arrowsize\": 1, \"arrowwidth\": 7, \"ax\": 2.5, \"axref\": \"x\", \"ay\": 60, \"ayref\": \"y\", \"showarrow\": true, \"standoff\": 50.0, \"startstandoff\": 50.0, \"x\": 3, \"xref\": \"x\", \"xshift\": 0, \"y\": 100, \"yref\": \"y\", \"yshift\": 0}, {\"arrowcolor\": \"rgba(0,0,255,1)\", \"arrowhead\": 3, \"arrowsize\": 1, \"arrowwidth\": 6, \"ax\": 3.5, \"axref\": \"x\", \"ay\": 60, \"ayref\": \"y\", \"showarrow\": true, \"standoff\": 50.0, \"startstandoff\": 50.0, \"x\": 4, \"xref\": \"x\", \"xshift\": 0, \"y\": 80, \"yref\": \"y\", \"yshift\": 0}, {\"arrowcolor\": \"rgba(0,0,255,1)\", \"arrowhead\": 3, \"arrowsize\": 1, \"arrowwidth\": 4, \"ax\": 3, \"axref\": \"x\", \"ay\": 100, \"ayref\": \"y\", \"showarrow\": true, \"standoff\": 50.0, \"startstandoff\": 50.0, \"x\": 4, \"xref\": \"x\", \"xshift\": 0, \"y\": 80, \"yref\": \"y\", \"yshift\": 0}, {\"arrowcolor\": \"rgba(0,0,255,1)\", \"arrowhead\": 3, \"arrowsize\": 1, \"arrowwidth\": 10, \"ax\": 4, \"axref\": \"x\", \"ay\": 80, \"ayref\": \"y\", \"showarrow\": true, \"standoff\": 50.0, \"startstandoff\": 50.0, \"x\": 5, \"xref\": \"x\", \"xshift\": 0, \"y\": 81, \"yref\": \"y\", \"yshift\": 0}, {\"arrowcolor\": \"rgba(0,255,0,1)\", \"arrowhead\": 3, \"arrowsize\": 1, \"arrowwidth\": 9, \"ax\": 0, \"axref\": \"x\", \"ay\": 19, \"ayref\": \"y\", \"showarrow\": true, \"standoff\": 50.0, \"startstandoff\": 50.0, \"x\": 1, \"xref\": \"x\", \"xshift\": 0, \"y\": 20, \"yref\": \"y\", \"yshift\": 0}, {\"arrowcolor\": \"rgba(0,255,0,1)\", \"arrowhead\": 3, \"arrowsize\": 1, \"arrowwidth\": 3, \"ax\": 0, \"axref\": \"x\", \"ay\": 19, \"ayref\": \"y\", \"showarrow\": true, \"standoff\": 50.0, \"startstandoff\": 50.0, \"x\": 1.5, \"xref\": \"x\", \"xshift\": -10, \"y\": 0, \"yref\": \"y\", \"yshift\": -15}, {\"arrowcolor\": \"rgba(0,255,0,1)\", \"arrowhead\": 3, \"arrowsize\": 1, \"arrowwidth\": 2, \"ax\": 1, \"axref\": \"x\", \"ay\": 20, \"ayref\": \"y\", \"showarrow\": true, \"standoff\": 50.0, \"startstandoff\": 50.0, \"x\": 1.5, \"xref\": \"x\", \"xshift\": 0, \"y\": 40, \"yref\": \"y\", \"yshift\": 0}, {\"arrowcolor\": \"rgba(0,255,0,1)\", \"arrowhead\": 3, \"arrowsize\": 1, \"arrowwidth\": 5, \"ax\": 1, \"axref\": \"x\", \"ay\": 20, \"ayref\": \"y\", \"showarrow\": true, \"standoff\": 50.0, \"startstandoff\": 50.0, \"x\": 1.5, \"xref\": \"x\", \"xshift\": 15, \"y\": 0, \"yref\": \"y\", \"yshift\": 10}, {\"arrowcolor\": \"rgba(0,255,0,1)\", \"arrowhead\": 3, \"arrowsize\": 1, \"arrowwidth\": 2, \"ax\": 1.5, \"axref\": \"x\", \"ay\": 40, \"ayref\": \"y\", \"showarrow\": true, \"standoff\": 50.0, \"startstandoff\": 50.0, \"x\": 2, \"xref\": \"x\", \"xshift\": 0, \"y\": 20, \"yref\": \"y\", \"yshift\": 0}, {\"arrowcolor\": \"rgba(0,255,0,1)\", \"arrowhead\": 3, \"arrowsize\": 1, \"arrowwidth\": 2, \"ax\": 2, \"axref\": \"x\", \"ay\": 20, \"ayref\": \"y\", \"showarrow\": true, \"standoff\": 50.0, \"startstandoff\": 50.0, \"x\": 3, \"xref\": \"x\", \"xshift\": 0, \"y\": 20, \"yref\": \"y\", \"yshift\": 0}, {\"arrowcolor\": \"rgba(0,255,0,1)\", \"arrowhead\": 3, \"arrowsize\": 1, \"arrowwidth\": 5, \"ax\": 2, \"axref\": \"x\", \"ay\": 20, \"ayref\": \"y\", \"showarrow\": true, \"standoff\": 50.0, \"startstandoff\": 50.0, \"x\": 2.5, \"xref\": \"x\", \"xshift\": 15, \"y\": 0, \"yref\": \"y\", \"yshift\": 10}, {\"arrowcolor\": \"rgba(0,255,0,1)\", \"arrowhead\": 3, \"arrowsize\": 1, \"arrowwidth\": 5, \"ax\": 3, \"axref\": \"x\", \"ay\": 20, \"ayref\": \"y\", \"showarrow\": true, \"standoff\": 50.0, \"startstandoff\": 50.0, \"x\": 3.5, \"xref\": \"x\", \"xshift\": 15, \"y\": 0, \"yref\": \"y\", \"yshift\": 10}, {\"arrowcolor\": \"rgba(0,255,0,1)\", \"arrowhead\": 3, \"arrowsize\": 1, \"arrowwidth\": 2, \"ax\": 3, \"axref\": \"x\", \"ay\": 20, \"ayref\": \"y\", \"showarrow\": true, \"standoff\": 50.0, \"startstandoff\": 50.0, \"x\": 4, \"xref\": \"x\", \"xshift\": 0, \"y\": 20, \"yref\": \"y\", \"yshift\": 0}, {\"arrowcolor\": \"rgba(0,255,0,1)\", \"arrowhead\": 3, \"arrowsize\": 1, \"arrowwidth\": 3, \"ax\": 1.5, \"axref\": \"x\", \"ay\": 0, \"ayref\": \"y\", \"showarrow\": true, \"standoff\": 50.0, \"startstandoff\": 50.0, \"x\": 1, \"xref\": \"x\", \"xshift\": -10, \"y\": 20, \"yref\": \"y\", \"yshift\": -10}, {\"arrowcolor\": \"rgba(0,255,0,1)\", \"arrowhead\": 3, \"arrowsize\": 1, \"arrowwidth\": 5, \"ax\": 1.5, \"axref\": \"x\", \"ay\": 0, \"ayref\": \"y\", \"showarrow\": true, \"standoff\": 50.0, \"startstandoff\": 50.0, \"x\": 2, \"xref\": \"x\", \"xshift\": 0, \"y\": 20, \"yref\": \"y\", \"yshift\": 0}, {\"arrowcolor\": \"rgba(0,255,0,1)\", \"arrowhead\": 3, \"arrowsize\": 1, \"arrowwidth\": 2, \"ax\": 2.5, \"axref\": \"x\", \"ay\": 0, \"ayref\": \"y\", \"showarrow\": true, \"standoff\": 50.0, \"startstandoff\": 50.0, \"x\": 2, \"xref\": \"x\", \"xshift\": -10, \"y\": 20, \"yref\": \"y\", \"yshift\": -10}, {\"arrowcolor\": \"rgba(0,255,0,1)\", \"arrowhead\": 3, \"arrowsize\": 1, \"arrowwidth\": 5, \"ax\": 2.5, \"axref\": \"x\", \"ay\": 0, \"ayref\": \"y\", \"showarrow\": true, \"standoff\": 50.0, \"startstandoff\": 50.0, \"x\": 3, \"xref\": \"x\", \"xshift\": 0, \"y\": 20, \"yref\": \"y\", \"yshift\": 0}, {\"arrowcolor\": \"rgba(0,255,0,1)\", \"arrowhead\": 3, \"arrowsize\": 1, \"arrowwidth\": 2, \"ax\": 3.5, \"axref\": \"x\", \"ay\": 0, \"ayref\": \"y\", \"showarrow\": true, \"standoff\": 50.0, \"startstandoff\": 50.0, \"x\": 3, \"xref\": \"x\", \"xshift\": -10, \"y\": 20, \"yref\": \"y\", \"yshift\": -10}, {\"arrowcolor\": \"rgba(0,255,0,1)\", \"arrowhead\": 3, \"arrowsize\": 1, \"arrowwidth\": 5, \"ax\": 3.5, \"axref\": \"x\", \"ay\": 0, \"ayref\": \"y\", \"showarrow\": true, \"standoff\": 50.0, \"startstandoff\": 50.0, \"x\": 4, \"xref\": \"x\", \"xshift\": 0, \"y\": 20, \"yref\": \"y\", \"yshift\": 0}, {\"arrowcolor\": \"rgba(0,255,0,1)\", \"arrowhead\": 3, \"arrowsize\": 1, \"arrowwidth\": 7, \"ax\": 4, \"axref\": \"x\", \"ay\": 20, \"ayref\": \"y\", \"showarrow\": true, \"standoff\": 50.0, \"startstandoff\": 50.0, \"x\": 5, \"xref\": \"x\", \"xshift\": 0, \"y\": 21, \"yref\": \"y\", \"yshift\": 0}], \"autosize\": true, \"height\": 1250, \"hovermode\": \"closest\", \"title\": {\"text\": \"Fluxo de navega\\u00e7\\u00e3o dos estudantes por cluster\"}, \"xaxis\": {\"showgrid\": false, \"showticklabels\": false, \"zeroline\": false}, \"yaxis\": {\"showgrid\": false, \"showticklabels\": false, \"zeroline\": false}},\n",
       "                        {\"showLink\": false, \"linkText\": \"Export to plot.ly\", \"plotlyServerURL\": \"https://plot.ly\", \"responsive\": true}\n",
       "                    ).then(function(){\n",
       "                            \n",
       "var gd = document.getElementById('c9ffa1c3-e4f9-4f72-8d5f-5b5d19660b72');\n",
       "var x = new MutationObserver(function (mutations, observer) {{\n",
       "        var display = window.getComputedStyle(gd).display;\n",
       "        if (!display || display === 'none') {{\n",
       "            console.log([gd, 'removed!']);\n",
       "            Plotly.purge(gd);\n",
       "            observer.disconnect();\n",
       "        }}\n",
       "}});\n",
       "\n",
       "// Listen for the removal of the full notebook cells\n",
       "var notebookContainer = gd.closest('#notebook-container');\n",
       "if (notebookContainer) {{\n",
       "    x.observe(notebookContainer, {childList: true});\n",
       "}}\n",
       "\n",
       "// Listen for the clearing of the current output cell\n",
       "var outputEl = gd.closest('.output');\n",
       "if (outputEl) {{\n",
       "    x.observe(outputEl, {childList: true});\n",
       "}}\n",
       "\n",
       "                        })\n",
       "                };\n",
       "                });\n",
       "            </script>\n",
       "        </div>"
      ]
     },
     "metadata": {},
     "output_type": "display_data"
    }
   ],
   "source": [
    "language=\"pt\"\n",
    "# language=\"en\"\n",
    "\n",
    "instance = V011(language=language)\n",
    "instance.generate_dataset(number_students = 60)\n",
    "instance.print_all_graphs(language)"
   ]
  }
 ],
 "metadata": {
  "kernelspec": {
   "display_name": "Python 3",
   "language": "python",
   "name": "python3"
  },
  "language_info": {
   "codemirror_mode": {
    "name": "ipython",
    "version": 3
   },
   "file_extension": ".py",
   "mimetype": "text/x-python",
   "name": "python",
   "nbconvert_exporter": "python",
   "pygments_lexer": "ipython3",
   "version": "3.7.3"
  }
 },
 "nbformat": 4,
 "nbformat_minor": 2
}
