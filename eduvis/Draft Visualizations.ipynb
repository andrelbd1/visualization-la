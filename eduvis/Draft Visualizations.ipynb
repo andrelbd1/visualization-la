{
 "cells": [
  {
   "cell_type": "markdown",
   "metadata": {},
   "source": [
    "### View 001 - Tarefas feitas pelos estudantes"
   ]
  },
  {
   "cell_type": "code",
   "execution_count": null,
   "metadata": {},
   "outputs": [],
   "source": [
    "run V001.py"
   ]
  },
  {
   "cell_type": "code",
   "execution_count": null,
   "metadata": {
    "scrolled": true
   },
   "outputs": [],
   "source": [
    "instance = V001()\n",
    "instance.generate_dataset(number_students = 20, number_assigns = 10)\n",
    "# instance.print_all_graphs(\"pt\")\n",
    "instance.print_all_graphs(\"en\")"
   ]
  },
  {
   "cell_type": "markdown",
   "metadata": {},
   "source": [
    "### View 002 - Acesso dos estudantes aos materiais (ex: videos, ebooks, etc.)"
   ]
  },
  {
   "cell_type": "code",
   "execution_count": null,
   "metadata": {
    "scrolled": true
   },
   "outputs": [],
   "source": [
    "run V002.py"
   ]
  },
  {
   "cell_type": "code",
   "execution_count": null,
   "metadata": {},
   "outputs": [],
   "source": [
    "instance = V002()\n",
    "instance.generate_dataset(number_students = 20)\n",
    "# instance.print_all_graphs(\"pt\")\n",
    "instance.print_all_graphs(\"en\")"
   ]
  },
  {
   "cell_type": "markdown",
   "metadata": {},
   "source": [
    "### View 003 - Interação dos estudantes no fórum (ex: postagens, acessos, etc.)"
   ]
  },
  {
   "cell_type": "code",
   "execution_count": null,
   "metadata": {
    "scrolled": true
   },
   "outputs": [],
   "source": [
    "run V003.py"
   ]
  },
  {
   "cell_type": "code",
   "execution_count": null,
   "metadata": {},
   "outputs": [],
   "source": [
    "instance = V003(20)\n",
    "instance.generate_dataset(number_students = 20)\n",
    "# instance.print_all_graphs(\"pt\")\n",
    "instance.print_all_graphs(\"en\")"
   ]
  },
  {
   "cell_type": "markdown",
   "metadata": {},
   "source": [
    "### View 004 - Tempo de permanencia dos estudantes nos vídeos"
   ]
  },
  {
   "cell_type": "code",
   "execution_count": null,
   "metadata": {
    "scrolled": true
   },
   "outputs": [],
   "source": [
    "run V004.py"
   ]
  },
  {
   "cell_type": "code",
   "execution_count": null,
   "metadata": {},
   "outputs": [],
   "source": [
    "instance = V004()\n",
    "instance.generate_dataset(number_students = 20)\n",
    "# instance.print_all_graphs(\"pt\")\n",
    "instance.print_all_graphs(\"en\")"
   ]
  },
  {
   "cell_type": "markdown",
   "metadata": {},
   "source": [
    "### View 005 - Correlação entre as notas e os logs de acesso/interação dos estudantes"
   ]
  },
  {
   "cell_type": "code",
   "execution_count": null,
   "metadata": {},
   "outputs": [],
   "source": [
    "run V005.py"
   ]
  },
  {
   "cell_type": "code",
   "execution_count": null,
   "metadata": {
    "scrolled": true
   },
   "outputs": [],
   "source": [
    "instance = V005()\n",
    "instance.generate_dataset(number_students = 60)\n",
    "# instance.print_all_graphs(\"pt\")\n",
    "instance.print_all_graphs(\"en\")"
   ]
  },
  {
   "cell_type": "markdown",
   "metadata": {},
   "source": [
    "### View 006 - Correlação entre o perfil (idade, cidade de origem, etc.) e os logs de acesso/interação dos estudantes"
   ]
  },
  {
   "cell_type": "code",
   "execution_count": null,
   "metadata": {
    "scrolled": true
   },
   "outputs": [],
   "source": [
    "run V006.py"
   ]
  },
  {
   "cell_type": "code",
   "execution_count": null,
   "metadata": {},
   "outputs": [],
   "source": [
    "instance = V006()\n",
    "instance.generate_dataset(number_students = 60)\n",
    "# instance.print_all_graphs(\"pt\")\n",
    "instance.print_all_graphs(\"en\")"
   ]
  },
  {
   "cell_type": "markdown",
   "metadata": {},
   "source": [
    "### View 007 - Predição das notas que os estudante terão ao final do curso e quais abandonarão"
   ]
  },
  {
   "cell_type": "code",
   "execution_count": 80,
   "metadata": {},
   "outputs": [
    {
     "data": {
      "text/html": [
       "<script>requirejs.config({paths: { 'plotly': ['https://cdn.plot.ly/plotly-latest.min']},});if(!window.Plotly) {{require(['plotly'],function(plotly) {window.Plotly=plotly;});}}</script>"
      ],
      "text/vnd.plotly.v1+html": [
       "<script>requirejs.config({paths: { 'plotly': ['https://cdn.plot.ly/plotly-latest.min']},});if(!window.Plotly) {{require(['plotly'],function(plotly) {window.Plotly=plotly;});}}</script>"
      ]
     },
     "metadata": {},
     "output_type": "display_data"
    }
   ],
   "source": [
    "run V007.py"
   ]
  },
  {
   "cell_type": "code",
   "execution_count": 81,
   "metadata": {
    "scrolled": false
   },
   "outputs": [
    {
     "name": "stdout",
     "output_type": "stream",
     "text": [
      "   Dropout  0 - 60  61 - 70  71 - 80  81 - 90  91 - 100\n",
      "0       13       9       12        6        9        11\n"
     ]
    },
    {
     "data": {
      "application/vnd.plotly.v1+json": {
       "data": [
        {
         "cells": {
          "align": [
           "left",
           "center"
          ],
          "fill": {
           "color": "#F5F8FF"
          },
          "values": [
           [
            "ABEL",
            "ADIVAIR",
            "AGATA",
            "ALECE",
            "ALTINEI",
            "ARINEI",
            "AROLDO",
            "CELIA",
            "CLEDJA",
            "CLEONAR",
            "CLESTON",
            "CLUDIO",
            "DAILA",
            "DALZIZA",
            "DANGELA",
            "DENIANE",
            "DONIRA",
            "DORICELIA",
            "ELIZANEA",
            "FLAVILSON",
            "FRANCIELI",
            "HELOISA",
            "IAMINA",
            "ISLA",
            "IZIDRO",
            "JANAIRA",
            "JOEMISON",
            "KAISE",
            "KAROLAINY",
            "KENEDE",
            "KEROLIN",
            "KIVIA",
            "LILIA",
            "LINDALCI",
            "LION",
            "MABIA",
            "MARIELLE",
            "MARINELMA",
            "MARINILSE",
            "MIGUEL",
            "MINELVINA",
            "NATALIN",
            "NILCILEA",
            "ODETINA",
            "RAISLANIA",
            "RAMES",
            "RILARI",
            "RUGLES",
            "SADRACK",
            "SEVERA",
            "SHIRLA",
            "SILENE",
            "SOFIA",
            "SUELAINE",
            "TABATA",
            "TAYOMARA",
            "VALTERSON",
            "WERBER",
            "WOSHITON",
            "YORRAN"
           ],
           [
            "61 - 70",
            "61 - 70",
            "91 - 100",
            "71 - 80",
            "81 - 90",
            "61 - 70",
            "91 - 100",
            "91 - 100",
            "0 - 60",
            "-",
            "0 - 60",
            "-",
            "0 - 60",
            "61 - 70",
            "91 - 100",
            "0 - 60",
            "91 - 100",
            "0 - 60",
            "-",
            "-",
            "81 - 90",
            "71 - 80",
            "91 - 100",
            "-",
            "81 - 90",
            "61 - 70",
            "61 - 70",
            "61 - 70",
            "61 - 70",
            "0 - 60",
            "61 - 70",
            "-",
            "91 - 100",
            "71 - 80",
            "81 - 90",
            "91 - 100",
            "61 - 70",
            "0 - 60",
            "-",
            "81 - 90",
            "91 - 100",
            "61 - 70",
            "81 - 90",
            "71 - 80",
            "-",
            "61 - 70",
            "81 - 90",
            "91 - 100",
            "71 - 80",
            "-",
            "0 - 60",
            "81 - 90",
            "-",
            "-",
            "-",
            "-",
            "0 - 60",
            "91 - 100",
            "71 - 80",
            "81 - 90"
           ],
           [
            false,
            false,
            false,
            false,
            false,
            false,
            false,
            false,
            false,
            true,
            false,
            true,
            false,
            false,
            false,
            false,
            false,
            false,
            true,
            true,
            false,
            false,
            false,
            true,
            false,
            false,
            false,
            false,
            false,
            false,
            false,
            true,
            false,
            false,
            false,
            false,
            false,
            false,
            true,
            false,
            false,
            false,
            false,
            false,
            true,
            false,
            false,
            false,
            false,
            true,
            false,
            false,
            true,
            true,
            true,
            true,
            false,
            false,
            false,
            false
           ],
           [
            61,
            56,
            88,
            78,
            88,
            63,
            96,
            75,
            27,
            null,
            43,
            null,
            37,
            53,
            95,
            33,
            83,
            22,
            null,
            null,
            80,
            78,
            88,
            null,
            85,
            60,
            52,
            60,
            70,
            32,
            63,
            null,
            78,
            75,
            86,
            94,
            67,
            20,
            null,
            89,
            78,
            61,
            77,
            79,
            null,
            67,
            84,
            88,
            78,
            null,
            33,
            90,
            null,
            null,
            null,
            null,
            37,
            74,
            72,
            83
           ]
          ]
         },
         "header": {
          "align": "center",
          "fill": {
           "color": "#C2D4FF"
          },
          "values": [
           "Students",
           "Predicted Grade",
           "Predicted Dropout",
           "Grade"
          ]
         },
         "type": "table",
         "uid": "149665ba-0f98-11e9-ab09-9cf387cc124e"
        }
       ],
       "layout": {}
      },
      "text/html": [
       "<div id=\"448c10cc-4358-41be-96a1-5d9305b42918\" style=\"height: 525px; width: 100%;\" class=\"plotly-graph-div\"></div><script type=\"text/javascript\">require([\"plotly\"], function(Plotly) { window.PLOTLYENV=window.PLOTLYENV || {};window.PLOTLYENV.BASE_URL=\"https://plot.ly\";Plotly.newPlot(\"448c10cc-4358-41be-96a1-5d9305b42918\", [{\"cells\": {\"align\": [\"left\", \"center\"], \"fill\": {\"color\": \"#F5F8FF\"}, \"values\": [[\"ABEL\", \"ADIVAIR\", \"AGATA\", \"ALECE\", \"ALTINEI\", \"ARINEI\", \"AROLDO\", \"CELIA\", \"CLEDJA\", \"CLEONAR\", \"CLESTON\", \"CLUDIO\", \"DAILA\", \"DALZIZA\", \"DANGELA\", \"DENIANE\", \"DONIRA\", \"DORICELIA\", \"ELIZANEA\", \"FLAVILSON\", \"FRANCIELI\", \"HELOISA\", \"IAMINA\", \"ISLA\", \"IZIDRO\", \"JANAIRA\", \"JOEMISON\", \"KAISE\", \"KAROLAINY\", \"KENEDE\", \"KEROLIN\", \"KIVIA\", \"LILIA\", \"LINDALCI\", \"LION\", \"MABIA\", \"MARIELLE\", \"MARINELMA\", \"MARINILSE\", \"MIGUEL\", \"MINELVINA\", \"NATALIN\", \"NILCILEA\", \"ODETINA\", \"RAISLANIA\", \"RAMES\", \"RILARI\", \"RUGLES\", \"SADRACK\", \"SEVERA\", \"SHIRLA\", \"SILENE\", \"SOFIA\", \"SUELAINE\", \"TABATA\", \"TAYOMARA\", \"VALTERSON\", \"WERBER\", \"WOSHITON\", \"YORRAN\"], [\"61 - 70\", \"61 - 70\", \"91 - 100\", \"71 - 80\", \"81 - 90\", \"61 - 70\", \"91 - 100\", \"91 - 100\", \"0 - 60\", \"-\", \"0 - 60\", \"-\", \"0 - 60\", \"61 - 70\", \"91 - 100\", \"0 - 60\", \"91 - 100\", \"0 - 60\", \"-\", \"-\", \"81 - 90\", \"71 - 80\", \"91 - 100\", \"-\", \"81 - 90\", \"61 - 70\", \"61 - 70\", \"61 - 70\", \"61 - 70\", \"0 - 60\", \"61 - 70\", \"-\", \"91 - 100\", \"71 - 80\", \"81 - 90\", \"91 - 100\", \"61 - 70\", \"0 - 60\", \"-\", \"81 - 90\", \"91 - 100\", \"61 - 70\", \"81 - 90\", \"71 - 80\", \"-\", \"61 - 70\", \"81 - 90\", \"91 - 100\", \"71 - 80\", \"-\", \"0 - 60\", \"81 - 90\", \"-\", \"-\", \"-\", \"-\", \"0 - 60\", \"91 - 100\", \"71 - 80\", \"81 - 90\"], [false, false, false, false, false, false, false, false, false, true, false, true, false, false, false, false, false, false, true, true, false, false, false, true, false, false, false, false, false, false, false, true, false, false, false, false, false, false, true, false, false, false, false, false, true, false, false, false, false, true, false, false, true, true, true, true, false, false, false, false], [61, 56, 88, 78, 88, 63, 96, 75, 27, null, 43, null, 37, 53, 95, 33, 83, 22, null, null, 80, 78, 88, null, 85, 60, 52, 60, 70, 32, 63, null, 78, 75, 86, 94, 67, 20, null, 89, 78, 61, 77, 79, null, 67, 84, 88, 78, null, 33, 90, null, null, null, null, 37, 74, 72, 83]]}, \"header\": {\"align\": \"center\", \"fill\": {\"color\": \"#C2D4FF\"}, \"values\": [\"Students\", \"Predicted Grade\", \"Predicted Dropout\", \"Grade\"]}, \"type\": \"table\", \"uid\": \"14a7366c-0f98-11e9-9c5c-9cf387cc124e\"}], {}, {\"showLink\": true, \"linkText\": \"Export to plot.ly\"})});</script>"
      ],
      "text/vnd.plotly.v1+html": [
       "<div id=\"448c10cc-4358-41be-96a1-5d9305b42918\" style=\"height: 525px; width: 100%;\" class=\"plotly-graph-div\"></div><script type=\"text/javascript\">require([\"plotly\"], function(Plotly) { window.PLOTLYENV=window.PLOTLYENV || {};window.PLOTLYENV.BASE_URL=\"https://plot.ly\";Plotly.newPlot(\"448c10cc-4358-41be-96a1-5d9305b42918\", [{\"cells\": {\"align\": [\"left\", \"center\"], \"fill\": {\"color\": \"#F5F8FF\"}, \"values\": [[\"ABEL\", \"ADIVAIR\", \"AGATA\", \"ALECE\", \"ALTINEI\", \"ARINEI\", \"AROLDO\", \"CELIA\", \"CLEDJA\", \"CLEONAR\", \"CLESTON\", \"CLUDIO\", \"DAILA\", \"DALZIZA\", \"DANGELA\", \"DENIANE\", \"DONIRA\", \"DORICELIA\", \"ELIZANEA\", \"FLAVILSON\", \"FRANCIELI\", \"HELOISA\", \"IAMINA\", \"ISLA\", \"IZIDRO\", \"JANAIRA\", \"JOEMISON\", \"KAISE\", \"KAROLAINY\", \"KENEDE\", \"KEROLIN\", \"KIVIA\", \"LILIA\", \"LINDALCI\", \"LION\", \"MABIA\", \"MARIELLE\", \"MARINELMA\", \"MARINILSE\", \"MIGUEL\", \"MINELVINA\", \"NATALIN\", \"NILCILEA\", \"ODETINA\", \"RAISLANIA\", \"RAMES\", \"RILARI\", \"RUGLES\", \"SADRACK\", \"SEVERA\", \"SHIRLA\", \"SILENE\", \"SOFIA\", \"SUELAINE\", \"TABATA\", \"TAYOMARA\", \"VALTERSON\", \"WERBER\", \"WOSHITON\", \"YORRAN\"], [\"61 - 70\", \"61 - 70\", \"91 - 100\", \"71 - 80\", \"81 - 90\", \"61 - 70\", \"91 - 100\", \"91 - 100\", \"0 - 60\", \"-\", \"0 - 60\", \"-\", \"0 - 60\", \"61 - 70\", \"91 - 100\", \"0 - 60\", \"91 - 100\", \"0 - 60\", \"-\", \"-\", \"81 - 90\", \"71 - 80\", \"91 - 100\", \"-\", \"81 - 90\", \"61 - 70\", \"61 - 70\", \"61 - 70\", \"61 - 70\", \"0 - 60\", \"61 - 70\", \"-\", \"91 - 100\", \"71 - 80\", \"81 - 90\", \"91 - 100\", \"61 - 70\", \"0 - 60\", \"-\", \"81 - 90\", \"91 - 100\", \"61 - 70\", \"81 - 90\", \"71 - 80\", \"-\", \"61 - 70\", \"81 - 90\", \"91 - 100\", \"71 - 80\", \"-\", \"0 - 60\", \"81 - 90\", \"-\", \"-\", \"-\", \"-\", \"0 - 60\", \"91 - 100\", \"71 - 80\", \"81 - 90\"], [false, false, false, false, false, false, false, false, false, true, false, true, false, false, false, false, false, false, true, true, false, false, false, true, false, false, false, false, false, false, false, true, false, false, false, false, false, false, true, false, false, false, false, false, true, false, false, false, false, true, false, false, true, true, true, true, false, false, false, false], [61, 56, 88, 78, 88, 63, 96, 75, 27, null, 43, null, 37, 53, 95, 33, 83, 22, null, null, 80, 78, 88, null, 85, 60, 52, 60, 70, 32, 63, null, 78, 75, 86, 94, 67, 20, null, 89, 78, 61, 77, 79, null, 67, 84, 88, 78, null, 33, 90, null, null, null, null, 37, 74, 72, 83]]}, \"header\": {\"align\": \"center\", \"fill\": {\"color\": \"#C2D4FF\"}, \"values\": [\"Students\", \"Predicted Grade\", \"Predicted Dropout\", \"Grade\"]}, \"type\": \"table\", \"uid\": \"14a7366c-0f98-11e9-9c5c-9cf387cc124e\"}], {}, {\"showLink\": true, \"linkText\": \"Export to plot.ly\"})});</script>"
      ]
     },
     "metadata": {},
     "output_type": "display_data"
    },
    {
     "data": {
      "application/vnd.plotly.v1+json": {
       "data": [
        {
         "marker": {
          "color": "rgb(127,0,127)",
          "line": {
           "width": 2
          },
          "size": 12,
          "symbol": 2
         },
         "mode": "markers",
         "name": "ABEL",
         "text": [
          "ABEL"
         ],
         "type": "scatter",
         "uid": "1641b740-0f98-11e9-844f-9cf387cc124e",
         "x": [
          61
         ],
         "y": [
          61
         ]
        },
        {
         "marker": {
          "color": "rgb(127,0,127)",
          "line": {
           "width": 2
          },
          "size": 12,
          "symbol": 2
         },
         "mode": "markers",
         "name": "ADIVAIR",
         "text": [
          "ADIVAIR"
         ],
         "type": "scatter",
         "uid": "1641bb00-0f98-11e9-810e-9cf387cc124e",
         "x": [
          56
         ],
         "y": [
          56
         ]
        },
        {
         "marker": {
          "color": "rgb(0,255,0)",
          "line": {
           "width": 2
          },
          "size": 12,
          "symbol": 5
         },
         "mode": "markers",
         "name": "AGATA",
         "text": [
          "AGATA"
         ],
         "type": "scatter",
         "uid": "1641bc5e-0f98-11e9-8319-9cf387cc124e",
         "x": [
          88
         ],
         "y": [
          88
         ]
        },
        {
         "marker": {
          "color": "rgb(0,0,255)",
          "line": {
           "width": 2
          },
          "size": 12,
          "symbol": 3
         },
         "mode": "markers",
         "name": "ALECE",
         "text": [
          "ALECE"
         ],
         "type": "scatter",
         "uid": "1641bf7e-0f98-11e9-aae2-9cf387cc124e",
         "x": [
          78
         ],
         "y": [
          78
         ]
        },
        {
         "marker": {
          "color": "rgb(0,127,127)",
          "line": {
           "width": 2
          },
          "size": 12,
          "symbol": 4
         },
         "mode": "markers",
         "name": "ALTINEI",
         "text": [
          "ALTINEI"
         ],
         "type": "scatter",
         "uid": "1641c174-0f98-11e9-a13b-9cf387cc124e",
         "x": [
          88
         ],
         "y": [
          88
         ]
        },
        {
         "marker": {
          "color": "rgb(127,0,127)",
          "line": {
           "width": 2
          },
          "size": 12,
          "symbol": 2
         },
         "mode": "markers",
         "name": "ARINEI",
         "text": [
          "ARINEI"
         ],
         "type": "scatter",
         "uid": "1641c28a-0f98-11e9-8ffc-9cf387cc124e",
         "x": [
          63
         ],
         "y": [
          63
         ]
        },
        {
         "marker": {
          "color": "rgb(0,255,0)",
          "line": {
           "width": 2
          },
          "size": 12,
          "symbol": 5
         },
         "mode": "markers",
         "name": "AROLDO",
         "text": [
          "AROLDO"
         ],
         "type": "scatter",
         "uid": "1641c386-0f98-11e9-8fec-9cf387cc124e",
         "x": [
          96
         ],
         "y": [
          96
         ]
        },
        {
         "marker": {
          "color": "rgb(0,255,0)",
          "line": {
           "width": 2
          },
          "size": 12,
          "symbol": 5
         },
         "mode": "markers",
         "name": "CELIA",
         "text": [
          "CELIA"
         ],
         "type": "scatter",
         "uid": "1641c47e-0f98-11e9-ba09-9cf387cc124e",
         "x": [
          75
         ],
         "y": [
          75
         ]
        },
        {
         "marker": {
          "color": "rgb(255,0,0)",
          "line": {
           "width": 2
          },
          "size": 12,
          "symbol": 1
         },
         "mode": "markers",
         "name": "CLEDJA",
         "text": [
          "CLEDJA"
         ],
         "type": "scatter",
         "uid": "1641c56e-0f98-11e9-a761-9cf387cc124e",
         "x": [
          27
         ],
         "y": [
          27
         ]
        },
        {
         "marker": {
          "color": "rgb(127,0,0)",
          "line": {
           "width": 2
          },
          "size": 12,
          "symbol": 0
         },
         "mode": "markers",
         "name": "CLEONAR",
         "text": [
          "CLEONAR"
         ],
         "type": "scatter",
         "uid": "1641c668-0f98-11e9-90ff-9cf387cc124e",
         "x": [
          null
         ],
         "y": [
          null
         ]
        },
        {
         "marker": {
          "color": "rgb(255,0,0)",
          "line": {
           "width": 2
          },
          "size": 12,
          "symbol": 1
         },
         "mode": "markers",
         "name": "CLESTON",
         "text": [
          "CLESTON"
         ],
         "type": "scatter",
         "uid": "1641c758-0f98-11e9-bde5-9cf387cc124e",
         "x": [
          43
         ],
         "y": [
          43
         ]
        },
        {
         "marker": {
          "color": "rgb(127,0,0)",
          "line": {
           "width": 2
          },
          "size": 12,
          "symbol": 0
         },
         "mode": "markers",
         "name": "CLUDIO",
         "text": [
          "CLUDIO"
         ],
         "type": "scatter",
         "uid": "1641c906-0f98-11e9-939b-9cf387cc124e",
         "x": [
          null
         ],
         "y": [
          null
         ]
        },
        {
         "marker": {
          "color": "rgb(255,0,0)",
          "line": {
           "width": 2
          },
          "size": 12,
          "symbol": 1
         },
         "mode": "markers",
         "name": "DAILA",
         "text": [
          "DAILA"
         ],
         "type": "scatter",
         "uid": "1641cb54-0f98-11e9-a68f-9cf387cc124e",
         "x": [
          37
         ],
         "y": [
          37
         ]
        },
        {
         "marker": {
          "color": "rgb(127,0,127)",
          "line": {
           "width": 2
          },
          "size": 12,
          "symbol": 2
         },
         "mode": "markers",
         "name": "DALZIZA",
         "text": [
          "DALZIZA"
         ],
         "type": "scatter",
         "uid": "1641cd0c-0f98-11e9-b8b2-9cf387cc124e",
         "x": [
          53
         ],
         "y": [
          53
         ]
        },
        {
         "marker": {
          "color": "rgb(0,255,0)",
          "line": {
           "width": 2
          },
          "size": 12,
          "symbol": 5
         },
         "mode": "markers",
         "name": "DANGELA",
         "text": [
          "DANGELA"
         ],
         "type": "scatter",
         "uid": "1641ce74-0f98-11e9-86ad-9cf387cc124e",
         "x": [
          95
         ],
         "y": [
          95
         ]
        },
        {
         "marker": {
          "color": "rgb(255,0,0)",
          "line": {
           "width": 2
          },
          "size": 12,
          "symbol": 1
         },
         "mode": "markers",
         "name": "DENIANE",
         "text": [
          "DENIANE"
         ],
         "type": "scatter",
         "uid": "1641cfd2-0f98-11e9-8b8f-9cf387cc124e",
         "x": [
          33
         ],
         "y": [
          33
         ]
        },
        {
         "marker": {
          "color": "rgb(0,255,0)",
          "line": {
           "width": 2
          },
          "size": 12,
          "symbol": 5
         },
         "mode": "markers",
         "name": "DONIRA",
         "text": [
          "DONIRA"
         ],
         "type": "scatter",
         "uid": "1641d13a-0f98-11e9-bdef-9cf387cc124e",
         "x": [
          83
         ],
         "y": [
          83
         ]
        },
        {
         "marker": {
          "color": "rgb(255,0,0)",
          "line": {
           "width": 2
          },
          "size": 12,
          "symbol": 1
         },
         "mode": "markers",
         "name": "DORICELIA",
         "text": [
          "DORICELIA"
         ],
         "type": "scatter",
         "uid": "1641d2ac-0f98-11e9-a030-9cf387cc124e",
         "x": [
          22
         ],
         "y": [
          22
         ]
        },
        {
         "marker": {
          "color": "rgb(127,0,0)",
          "line": {
           "width": 2
          },
          "size": 12,
          "symbol": 0
         },
         "mode": "markers",
         "name": "ELIZANEA",
         "text": [
          "ELIZANEA"
         ],
         "type": "scatter",
         "uid": "1641d40a-0f98-11e9-a6ea-9cf387cc124e",
         "x": [
          null
         ],
         "y": [
          null
         ]
        },
        {
         "marker": {
          "color": "rgb(127,0,0)",
          "line": {
           "width": 2
          },
          "size": 12,
          "symbol": 0
         },
         "mode": "markers",
         "name": "FLAVILSON",
         "text": [
          "FLAVILSON"
         ],
         "type": "scatter",
         "uid": "1641d568-0f98-11e9-b503-9cf387cc124e",
         "x": [
          null
         ],
         "y": [
          null
         ]
        },
        {
         "marker": {
          "color": "rgb(0,127,127)",
          "line": {
           "width": 2
          },
          "size": 12,
          "symbol": 4
         },
         "mode": "markers",
         "name": "FRANCIELI",
         "text": [
          "FRANCIELI"
         ],
         "type": "scatter",
         "uid": "1641d6e4-0f98-11e9-ada1-9cf387cc124e",
         "x": [
          80
         ],
         "y": [
          80
         ]
        },
        {
         "marker": {
          "color": "rgb(0,0,255)",
          "line": {
           "width": 2
          },
          "size": 12,
          "symbol": 3
         },
         "mode": "markers",
         "name": "HELOISA",
         "text": [
          "HELOISA"
         ],
         "type": "scatter",
         "uid": "1641d858-0f98-11e9-a7d5-9cf387cc124e",
         "x": [
          78
         ],
         "y": [
          78
         ]
        },
        {
         "marker": {
          "color": "rgb(0,255,0)",
          "line": {
           "width": 2
          },
          "size": 12,
          "symbol": 5
         },
         "mode": "markers",
         "name": "IAMINA",
         "text": [
          "IAMINA"
         ],
         "type": "scatter",
         "uid": "1641d9dc-0f98-11e9-94e5-9cf387cc124e",
         "x": [
          88
         ],
         "y": [
          88
         ]
        },
        {
         "marker": {
          "color": "rgb(127,0,0)",
          "line": {
           "width": 2
          },
          "size": 12,
          "symbol": 0
         },
         "mode": "markers",
         "name": "ISLA",
         "text": [
          "ISLA"
         ],
         "type": "scatter",
         "uid": "1641db26-0f98-11e9-9107-9cf387cc124e",
         "x": [
          null
         ],
         "y": [
          null
         ]
        },
        {
         "marker": {
          "color": "rgb(0,127,127)",
          "line": {
           "width": 2
          },
          "size": 12,
          "symbol": 4
         },
         "mode": "markers",
         "name": "IZIDRO",
         "text": [
          "IZIDRO"
         ],
         "type": "scatter",
         "uid": "1641dc1e-0f98-11e9-bdf5-9cf387cc124e",
         "x": [
          85
         ],
         "y": [
          85
         ]
        },
        {
         "marker": {
          "color": "rgb(127,0,127)",
          "line": {
           "width": 2
          },
          "size": 12,
          "symbol": 2
         },
         "mode": "markers",
         "name": "JANAIRA",
         "text": [
          "JANAIRA"
         ],
         "type": "scatter",
         "uid": "1641dd10-0f98-11e9-a003-9cf387cc124e",
         "x": [
          60
         ],
         "y": [
          60
         ]
        },
        {
         "marker": {
          "color": "rgb(127,0,127)",
          "line": {
           "width": 2
          },
          "size": 12,
          "symbol": 2
         },
         "mode": "markers",
         "name": "JOEMISON",
         "text": [
          "JOEMISON"
         ],
         "type": "scatter",
         "uid": "1641de00-0f98-11e9-857b-9cf387cc124e",
         "x": [
          52
         ],
         "y": [
          52
         ]
        },
        {
         "marker": {
          "color": "rgb(127,0,127)",
          "line": {
           "width": 2
          },
          "size": 12,
          "symbol": 2
         },
         "mode": "markers",
         "name": "KAISE",
         "text": [
          "KAISE"
         ],
         "type": "scatter",
         "uid": "1641defa-0f98-11e9-a1fe-9cf387cc124e",
         "x": [
          60
         ],
         "y": [
          60
         ]
        },
        {
         "marker": {
          "color": "rgb(127,0,127)",
          "line": {
           "width": 2
          },
          "size": 12,
          "symbol": 2
         },
         "mode": "markers",
         "name": "KAROLAINY",
         "text": [
          "KAROLAINY"
         ],
         "type": "scatter",
         "uid": "1641dfe8-0f98-11e9-bf0a-9cf387cc124e",
         "x": [
          70
         ],
         "y": [
          70
         ]
        },
        {
         "marker": {
          "color": "rgb(255,0,0)",
          "line": {
           "width": 2
          },
          "size": 12,
          "symbol": 1
         },
         "mode": "markers",
         "name": "KENEDE",
         "text": [
          "KENEDE"
         ],
         "type": "scatter",
         "uid": "1641e0e4-0f98-11e9-85d2-9cf387cc124e",
         "x": [
          32
         ],
         "y": [
          32
         ]
        },
        {
         "marker": {
          "color": "rgb(127,0,127)",
          "line": {
           "width": 2
          },
          "size": 12,
          "symbol": 2
         },
         "mode": "markers",
         "name": "KEROLIN",
         "text": [
          "KEROLIN"
         ],
         "type": "scatter",
         "uid": "1641e1f4-0f98-11e9-b519-9cf387cc124e",
         "x": [
          63
         ],
         "y": [
          63
         ]
        },
        {
         "marker": {
          "color": "rgb(127,0,0)",
          "line": {
           "width": 2
          },
          "size": 12,
          "symbol": 0
         },
         "mode": "markers",
         "name": "KIVIA",
         "text": [
          "KIVIA"
         ],
         "type": "scatter",
         "uid": "1641e3a8-0f98-11e9-bd73-9cf387cc124e",
         "x": [
          null
         ],
         "y": [
          null
         ]
        },
        {
         "marker": {
          "color": "rgb(0,255,0)",
          "line": {
           "width": 2
          },
          "size": 12,
          "symbol": 5
         },
         "mode": "markers",
         "name": "LILIA",
         "text": [
          "LILIA"
         ],
         "type": "scatter",
         "uid": "1641e562-0f98-11e9-9cbc-9cf387cc124e",
         "x": [
          78
         ],
         "y": [
          78
         ]
        },
        {
         "marker": {
          "color": "rgb(0,0,255)",
          "line": {
           "width": 2
          },
          "size": 12,
          "symbol": 3
         },
         "mode": "markers",
         "name": "LINDALCI",
         "text": [
          "LINDALCI"
         ],
         "type": "scatter",
         "uid": "1641e724-0f98-11e9-9027-9cf387cc124e",
         "x": [
          75
         ],
         "y": [
          75
         ]
        },
        {
         "marker": {
          "color": "rgb(0,127,127)",
          "line": {
           "width": 2
          },
          "size": 12,
          "symbol": 4
         },
         "mode": "markers",
         "name": "LION",
         "text": [
          "LION"
         ],
         "type": "scatter",
         "uid": "1641e8dc-0f98-11e9-87b0-9cf387cc124e",
         "x": [
          86
         ],
         "y": [
          86
         ]
        },
        {
         "marker": {
          "color": "rgb(0,255,0)",
          "line": {
           "width": 2
          },
          "size": 12,
          "symbol": 5
         },
         "mode": "markers",
         "name": "MABIA",
         "text": [
          "MABIA"
         ],
         "type": "scatter",
         "uid": "1641ea8a-0f98-11e9-90df-9cf387cc124e",
         "x": [
          94
         ],
         "y": [
          94
         ]
        },
        {
         "marker": {
          "color": "rgb(127,0,127)",
          "line": {
           "width": 2
          },
          "size": 12,
          "symbol": 2
         },
         "mode": "markers",
         "name": "MARIELLE",
         "text": [
          "MARIELLE"
         ],
         "type": "scatter",
         "uid": "1641ec42-0f98-11e9-a2c4-9cf387cc124e",
         "x": [
          67
         ],
         "y": [
          67
         ]
        },
        {
         "marker": {
          "color": "rgb(255,0,0)",
          "line": {
           "width": 2
          },
          "size": 12,
          "symbol": 1
         },
         "mode": "markers",
         "name": "MARINELMA",
         "text": [
          "MARINELMA"
         ],
         "type": "scatter",
         "uid": "1641edf0-0f98-11e9-9fc5-9cf387cc124e",
         "x": [
          20
         ],
         "y": [
          20
         ]
        },
        {
         "marker": {
          "color": "rgb(127,0,0)",
          "line": {
           "width": 2
          },
          "size": 12,
          "symbol": 0
         },
         "mode": "markers",
         "name": "MARINILSE",
         "text": [
          "MARINILSE"
         ],
         "type": "scatter",
         "uid": "1641efb4-0f98-11e9-afb9-9cf387cc124e",
         "x": [
          null
         ],
         "y": [
          null
         ]
        },
        {
         "marker": {
          "color": "rgb(0,127,127)",
          "line": {
           "width": 2
          },
          "size": 12,
          "symbol": 4
         },
         "mode": "markers",
         "name": "MIGUEL",
         "text": [
          "MIGUEL"
         ],
         "type": "scatter",
         "uid": "1641f174-0f98-11e9-9498-9cf387cc124e",
         "x": [
          89
         ],
         "y": [
          89
         ]
        },
        {
         "marker": {
          "color": "rgb(0,255,0)",
          "line": {
           "width": 2
          },
          "size": 12,
          "symbol": 5
         },
         "mode": "markers",
         "name": "MINELVINA",
         "text": [
          "MINELVINA"
         ],
         "type": "scatter",
         "uid": "1641f322-0f98-11e9-8a60-9cf387cc124e",
         "x": [
          78
         ],
         "y": [
          78
         ]
        },
        {
         "marker": {
          "color": "rgb(127,0,127)",
          "line": {
           "width": 2
          },
          "size": 12,
          "symbol": 2
         },
         "mode": "markers",
         "name": "NATALIN",
         "text": [
          "NATALIN"
         ],
         "type": "scatter",
         "uid": "1641f4da-0f98-11e9-832c-9cf387cc124e",
         "x": [
          61
         ],
         "y": [
          61
         ]
        },
        {
         "marker": {
          "color": "rgb(0,127,127)",
          "line": {
           "width": 2
          },
          "size": 12,
          "symbol": 4
         },
         "mode": "markers",
         "name": "NILCILEA",
         "text": [
          "NILCILEA"
         ],
         "type": "scatter",
         "uid": "1641f688-0f98-11e9-8e31-9cf387cc124e",
         "x": [
          77
         ],
         "y": [
          77
         ]
        },
        {
         "marker": {
          "color": "rgb(0,0,255)",
          "line": {
           "width": 2
          },
          "size": 12,
          "symbol": 3
         },
         "mode": "markers",
         "name": "ODETINA",
         "text": [
          "ODETINA"
         ],
         "type": "scatter",
         "uid": "1641f840-0f98-11e9-b9b4-9cf387cc124e",
         "x": [
          79
         ],
         "y": [
          79
         ]
        },
        {
         "marker": {
          "color": "rgb(127,0,0)",
          "line": {
           "width": 2
          },
          "size": 12,
          "symbol": 0
         },
         "mode": "markers",
         "name": "RAISLANIA",
         "text": [
          "RAISLANIA"
         ],
         "type": "scatter",
         "uid": "1641f9f8-0f98-11e9-bdce-9cf387cc124e",
         "x": [
          null
         ],
         "y": [
          null
         ]
        },
        {
         "marker": {
          "color": "rgb(127,0,127)",
          "line": {
           "width": 2
          },
          "size": 12,
          "symbol": 2
         },
         "mode": "markers",
         "name": "RAMES",
         "text": [
          "RAMES"
         ],
         "type": "scatter",
         "uid": "1641fba6-0f98-11e9-8b6e-9cf387cc124e",
         "x": [
          67
         ],
         "y": [
          67
         ]
        },
        {
         "marker": {
          "color": "rgb(0,127,127)",
          "line": {
           "width": 2
          },
          "size": 12,
          "symbol": 4
         },
         "mode": "markers",
         "name": "RILARI",
         "text": [
          "RILARI"
         ],
         "type": "scatter",
         "uid": "1641fd54-0f98-11e9-a97b-9cf387cc124e",
         "x": [
          84
         ],
         "y": [
          84
         ]
        },
        {
         "marker": {
          "color": "rgb(0,255,0)",
          "line": {
           "width": 2
          },
          "size": 12,
          "symbol": 5
         },
         "mode": "markers",
         "name": "RUGLES",
         "text": [
          "RUGLES"
         ],
         "type": "scatter",
         "uid": "1641ff02-0f98-11e9-b177-9cf387cc124e",
         "x": [
          88
         ],
         "y": [
          88
         ]
        },
        {
         "marker": {
          "color": "rgb(0,0,255)",
          "line": {
           "width": 2
          },
          "size": 12,
          "symbol": 3
         },
         "mode": "markers",
         "name": "SADRACK",
         "text": [
          "SADRACK"
         ],
         "type": "scatter",
         "uid": "164200ba-0f98-11e9-84d8-9cf387cc124e",
         "x": [
          78
         ],
         "y": [
          78
         ]
        },
        {
         "marker": {
          "color": "rgb(127,0,0)",
          "line": {
           "width": 2
          },
          "size": 12,
          "symbol": 0
         },
         "mode": "markers",
         "name": "SEVERA",
         "text": [
          "SEVERA"
         ],
         "type": "scatter",
         "uid": "16420274-0f98-11e9-998b-9cf387cc124e",
         "x": [
          null
         ],
         "y": [
          null
         ]
        },
        {
         "marker": {
          "color": "rgb(255,0,0)",
          "line": {
           "width": 2
          },
          "size": 12,
          "symbol": 1
         },
         "mode": "markers",
         "name": "SHIRLA",
         "text": [
          "SHIRLA"
         ],
         "type": "scatter",
         "uid": "16420428-0f98-11e9-acc1-9cf387cc124e",
         "x": [
          33
         ],
         "y": [
          33
         ]
        },
        {
         "marker": {
          "color": "rgb(0,127,127)",
          "line": {
           "width": 2
          },
          "size": 12,
          "symbol": 4
         },
         "mode": "markers",
         "name": "SILENE",
         "text": [
          "SILENE"
         ],
         "type": "scatter",
         "uid": "164205d8-0f98-11e9-bc18-9cf387cc124e",
         "x": [
          90
         ],
         "y": [
          90
         ]
        },
        {
         "marker": {
          "color": "rgb(127,0,0)",
          "line": {
           "width": 2
          },
          "size": 12,
          "symbol": 0
         },
         "mode": "markers",
         "name": "SOFIA",
         "text": [
          "SOFIA"
         ],
         "type": "scatter",
         "uid": "16420786-0f98-11e9-801d-9cf387cc124e",
         "x": [
          null
         ],
         "y": [
          null
         ]
        },
        {
         "marker": {
          "color": "rgb(127,0,0)",
          "line": {
           "width": 2
          },
          "size": 12,
          "symbol": 0
         },
         "mode": "markers",
         "name": "SUELAINE",
         "text": [
          "SUELAINE"
         ],
         "type": "scatter",
         "uid": "16420934-0f98-11e9-9990-9cf387cc124e",
         "x": [
          null
         ],
         "y": [
          null
         ]
        },
        {
         "marker": {
          "color": "rgb(127,0,0)",
          "line": {
           "width": 2
          },
          "size": 12,
          "symbol": 0
         },
         "mode": "markers",
         "name": "TABATA",
         "text": [
          "TABATA"
         ],
         "type": "scatter",
         "uid": "16420af6-0f98-11e9-b344-9cf387cc124e",
         "x": [
          null
         ],
         "y": [
          null
         ]
        },
        {
         "marker": {
          "color": "rgb(127,0,0)",
          "line": {
           "width": 2
          },
          "size": 12,
          "symbol": 0
         },
         "mode": "markers",
         "name": "TAYOMARA",
         "text": [
          "TAYOMARA"
         ],
         "type": "scatter",
         "uid": "16420cb8-0f98-11e9-a0b9-9cf387cc124e",
         "x": [
          null
         ],
         "y": [
          null
         ]
        },
        {
         "marker": {
          "color": "rgb(255,0,0)",
          "line": {
           "width": 2
          },
          "size": 12,
          "symbol": 1
         },
         "mode": "markers",
         "name": "VALTERSON",
         "text": [
          "VALTERSON"
         ],
         "type": "scatter",
         "uid": "16420ea2-0f98-11e9-924b-9cf387cc124e",
         "x": [
          37
         ],
         "y": [
          37
         ]
        },
        {
         "marker": {
          "color": "rgb(0,255,0)",
          "line": {
           "width": 2
          },
          "size": 12,
          "symbol": 5
         },
         "mode": "markers",
         "name": "WERBER",
         "text": [
          "WERBER"
         ],
         "type": "scatter",
         "uid": "16421050-0f98-11e9-b788-9cf387cc124e",
         "x": [
          74
         ],
         "y": [
          74
         ]
        },
        {
         "marker": {
          "color": "rgb(0,0,255)",
          "line": {
           "width": 2
          },
          "size": 12,
          "symbol": 3
         },
         "mode": "markers",
         "name": "WOSHITON",
         "text": [
          "WOSHITON"
         ],
         "type": "scatter",
         "uid": "164211fe-0f98-11e9-9165-9cf387cc124e",
         "x": [
          72
         ],
         "y": [
          72
         ]
        },
        {
         "marker": {
          "color": "rgb(0,127,127)",
          "line": {
           "width": 2
          },
          "size": 12,
          "symbol": 4
         },
         "mode": "markers",
         "name": "YORRAN",
         "text": [
          "YORRAN"
         ],
         "type": "scatter",
         "uid": "164213a2-0f98-11e9-83e4-9cf387cc124e",
         "x": [
          83
         ],
         "y": [
          83
         ]
        }
       ],
       "layout": {
        "hovermode": "closest",
        "showlegend": true,
        "title": "--",
        "xaxis": {
         "autorange": true,
         "showline": true,
         "title": "Grade",
         "titlefont": {
          "color": "rgb(180,180,180)"
         },
         "zeroline": false
        },
        "yaxis": {
         "autorange": false,
         "fixedrange": true,
         "range": [
          0,
          106
         ],
         "rangemode": "normal",
         "showline": true,
         "title": "Grade",
         "titlefont": {
          "color": "rgb(180,180,180)"
         }
        }
       }
      },
      "text/html": [
       "<div id=\"242f2fdd-8f84-43e9-83cf-e6837ca6816f\" style=\"height: 525px; width: 100%;\" class=\"plotly-graph-div\"></div><script type=\"text/javascript\">require([\"plotly\"], function(Plotly) { window.PLOTLYENV=window.PLOTLYENV || {};window.PLOTLYENV.BASE_URL=\"https://plot.ly\";\n",
       "        Plotly.plot(\n",
       "            '242f2fdd-8f84-43e9-83cf-e6837ca6816f',\n",
       "            [{\"marker\": {\"color\": \"rgb(127,0,127)\", \"line\": {\"width\": 2}, \"size\": 12, \"symbol\": 2}, \"mode\": \"markers\", \"name\": \"ABEL\", \"text\": [\"ABEL\"], \"x\": [61], \"y\": [61], \"type\": \"scatter\", \"uid\": \"1641b740-0f98-11e9-844f-9cf387cc124e\"}, {\"marker\": {\"color\": \"rgb(127,0,127)\", \"line\": {\"width\": 2}, \"size\": 12, \"symbol\": 2}, \"mode\": \"markers\", \"name\": \"ADIVAIR\", \"text\": [\"ADIVAIR\"], \"x\": [56], \"y\": [56], \"type\": \"scatter\", \"uid\": \"1641bb00-0f98-11e9-810e-9cf387cc124e\"}, {\"marker\": {\"color\": \"rgb(0,255,0)\", \"line\": {\"width\": 2}, \"size\": 12, \"symbol\": 5}, \"mode\": \"markers\", \"name\": \"AGATA\", \"text\": [\"AGATA\"], \"x\": [88], \"y\": [88], \"type\": \"scatter\", \"uid\": \"1641bc5e-0f98-11e9-8319-9cf387cc124e\"}, {\"marker\": {\"color\": \"rgb(0,0,255)\", \"line\": {\"width\": 2}, \"size\": 12, \"symbol\": 3}, \"mode\": \"markers\", \"name\": \"ALECE\", \"text\": [\"ALECE\"], \"x\": [78], \"y\": [78], \"type\": \"scatter\", \"uid\": \"1641bf7e-0f98-11e9-aae2-9cf387cc124e\"}, {\"marker\": {\"color\": \"rgb(0,127,127)\", \"line\": {\"width\": 2}, \"size\": 12, \"symbol\": 4}, \"mode\": \"markers\", \"name\": \"ALTINEI\", \"text\": [\"ALTINEI\"], \"x\": [88], \"y\": [88], \"type\": \"scatter\", \"uid\": \"1641c174-0f98-11e9-a13b-9cf387cc124e\"}, {\"marker\": {\"color\": \"rgb(127,0,127)\", \"line\": {\"width\": 2}, \"size\": 12, \"symbol\": 2}, \"mode\": \"markers\", \"name\": \"ARINEI\", \"text\": [\"ARINEI\"], \"x\": [63], \"y\": [63], \"type\": \"scatter\", \"uid\": \"1641c28a-0f98-11e9-8ffc-9cf387cc124e\"}, {\"marker\": {\"color\": \"rgb(0,255,0)\", \"line\": {\"width\": 2}, \"size\": 12, \"symbol\": 5}, \"mode\": \"markers\", \"name\": \"AROLDO\", \"text\": [\"AROLDO\"], \"x\": [96], \"y\": [96], \"type\": \"scatter\", \"uid\": \"1641c386-0f98-11e9-8fec-9cf387cc124e\"}, {\"marker\": {\"color\": \"rgb(0,255,0)\", \"line\": {\"width\": 2}, \"size\": 12, \"symbol\": 5}, \"mode\": \"markers\", \"name\": \"CELIA\", \"text\": [\"CELIA\"], \"x\": [75], \"y\": [75], \"type\": \"scatter\", \"uid\": \"1641c47e-0f98-11e9-ba09-9cf387cc124e\"}, {\"marker\": {\"color\": \"rgb(255,0,0)\", \"line\": {\"width\": 2}, \"size\": 12, \"symbol\": 1}, \"mode\": \"markers\", \"name\": \"CLEDJA\", \"text\": [\"CLEDJA\"], \"x\": [27], \"y\": [27], \"type\": \"scatter\", \"uid\": \"1641c56e-0f98-11e9-a761-9cf387cc124e\"}, {\"marker\": {\"color\": \"rgb(127,0,0)\", \"line\": {\"width\": 2}, \"size\": 12, \"symbol\": 0}, \"mode\": \"markers\", \"name\": \"CLEONAR\", \"text\": [\"CLEONAR\"], \"x\": [null], \"y\": [null], \"type\": \"scatter\", \"uid\": \"1641c668-0f98-11e9-90ff-9cf387cc124e\"}, {\"marker\": {\"color\": \"rgb(255,0,0)\", \"line\": {\"width\": 2}, \"size\": 12, \"symbol\": 1}, \"mode\": \"markers\", \"name\": \"CLESTON\", \"text\": [\"CLESTON\"], \"x\": [43], \"y\": [43], \"type\": \"scatter\", \"uid\": \"1641c758-0f98-11e9-bde5-9cf387cc124e\"}, {\"marker\": {\"color\": \"rgb(127,0,0)\", \"line\": {\"width\": 2}, \"size\": 12, \"symbol\": 0}, \"mode\": \"markers\", \"name\": \"CLUDIO\", \"text\": [\"CLUDIO\"], \"x\": [null], \"y\": [null], \"type\": \"scatter\", \"uid\": \"1641c906-0f98-11e9-939b-9cf387cc124e\"}, {\"marker\": {\"color\": \"rgb(255,0,0)\", \"line\": {\"width\": 2}, \"size\": 12, \"symbol\": 1}, \"mode\": \"markers\", \"name\": \"DAILA\", \"text\": [\"DAILA\"], \"x\": [37], \"y\": [37], \"type\": \"scatter\", \"uid\": \"1641cb54-0f98-11e9-a68f-9cf387cc124e\"}, {\"marker\": {\"color\": \"rgb(127,0,127)\", \"line\": {\"width\": 2}, \"size\": 12, \"symbol\": 2}, \"mode\": \"markers\", \"name\": \"DALZIZA\", \"text\": [\"DALZIZA\"], \"x\": [53], \"y\": [53], \"type\": \"scatter\", \"uid\": \"1641cd0c-0f98-11e9-b8b2-9cf387cc124e\"}, {\"marker\": {\"color\": \"rgb(0,255,0)\", \"line\": {\"width\": 2}, \"size\": 12, \"symbol\": 5}, \"mode\": \"markers\", \"name\": \"DANGELA\", \"text\": [\"DANGELA\"], \"x\": [95], \"y\": [95], \"type\": \"scatter\", \"uid\": \"1641ce74-0f98-11e9-86ad-9cf387cc124e\"}, {\"marker\": {\"color\": \"rgb(255,0,0)\", \"line\": {\"width\": 2}, \"size\": 12, \"symbol\": 1}, \"mode\": \"markers\", \"name\": \"DENIANE\", \"text\": [\"DENIANE\"], \"x\": [33], \"y\": [33], \"type\": \"scatter\", \"uid\": \"1641cfd2-0f98-11e9-8b8f-9cf387cc124e\"}, {\"marker\": {\"color\": \"rgb(0,255,0)\", \"line\": {\"width\": 2}, \"size\": 12, \"symbol\": 5}, \"mode\": \"markers\", \"name\": \"DONIRA\", \"text\": [\"DONIRA\"], \"x\": [83], \"y\": [83], \"type\": \"scatter\", \"uid\": \"1641d13a-0f98-11e9-bdef-9cf387cc124e\"}, {\"marker\": {\"color\": \"rgb(255,0,0)\", \"line\": {\"width\": 2}, \"size\": 12, \"symbol\": 1}, \"mode\": \"markers\", \"name\": \"DORICELIA\", \"text\": [\"DORICELIA\"], \"x\": [22], \"y\": [22], \"type\": \"scatter\", \"uid\": \"1641d2ac-0f98-11e9-a030-9cf387cc124e\"}, {\"marker\": {\"color\": \"rgb(127,0,0)\", \"line\": {\"width\": 2}, \"size\": 12, \"symbol\": 0}, \"mode\": \"markers\", \"name\": \"ELIZANEA\", \"text\": [\"ELIZANEA\"], \"x\": [null], \"y\": [null], \"type\": \"scatter\", \"uid\": \"1641d40a-0f98-11e9-a6ea-9cf387cc124e\"}, {\"marker\": {\"color\": \"rgb(127,0,0)\", \"line\": {\"width\": 2}, \"size\": 12, \"symbol\": 0}, \"mode\": \"markers\", \"name\": \"FLAVILSON\", \"text\": [\"FLAVILSON\"], \"x\": [null], \"y\": [null], \"type\": \"scatter\", \"uid\": \"1641d568-0f98-11e9-b503-9cf387cc124e\"}, {\"marker\": {\"color\": \"rgb(0,127,127)\", \"line\": {\"width\": 2}, \"size\": 12, \"symbol\": 4}, \"mode\": \"markers\", \"name\": \"FRANCIELI\", \"text\": [\"FRANCIELI\"], \"x\": [80], \"y\": [80], \"type\": \"scatter\", \"uid\": \"1641d6e4-0f98-11e9-ada1-9cf387cc124e\"}, {\"marker\": {\"color\": \"rgb(0,0,255)\", \"line\": {\"width\": 2}, \"size\": 12, \"symbol\": 3}, \"mode\": \"markers\", \"name\": \"HELOISA\", \"text\": [\"HELOISA\"], \"x\": [78], \"y\": [78], \"type\": \"scatter\", \"uid\": \"1641d858-0f98-11e9-a7d5-9cf387cc124e\"}, {\"marker\": {\"color\": \"rgb(0,255,0)\", \"line\": {\"width\": 2}, \"size\": 12, \"symbol\": 5}, \"mode\": \"markers\", \"name\": \"IAMINA\", \"text\": [\"IAMINA\"], \"x\": [88], \"y\": [88], \"type\": \"scatter\", \"uid\": \"1641d9dc-0f98-11e9-94e5-9cf387cc124e\"}, {\"marker\": {\"color\": \"rgb(127,0,0)\", \"line\": {\"width\": 2}, \"size\": 12, \"symbol\": 0}, \"mode\": \"markers\", \"name\": \"ISLA\", \"text\": [\"ISLA\"], \"x\": [null], \"y\": [null], \"type\": \"scatter\", \"uid\": \"1641db26-0f98-11e9-9107-9cf387cc124e\"}, {\"marker\": {\"color\": \"rgb(0,127,127)\", \"line\": {\"width\": 2}, \"size\": 12, \"symbol\": 4}, \"mode\": \"markers\", \"name\": \"IZIDRO\", \"text\": [\"IZIDRO\"], \"x\": [85], \"y\": [85], \"type\": \"scatter\", \"uid\": \"1641dc1e-0f98-11e9-bdf5-9cf387cc124e\"}, {\"marker\": {\"color\": \"rgb(127,0,127)\", \"line\": {\"width\": 2}, \"size\": 12, \"symbol\": 2}, \"mode\": \"markers\", \"name\": \"JANAIRA\", \"text\": [\"JANAIRA\"], \"x\": [60], \"y\": [60], \"type\": \"scatter\", \"uid\": \"1641dd10-0f98-11e9-a003-9cf387cc124e\"}, {\"marker\": {\"color\": \"rgb(127,0,127)\", \"line\": {\"width\": 2}, \"size\": 12, \"symbol\": 2}, \"mode\": \"markers\", \"name\": \"JOEMISON\", \"text\": [\"JOEMISON\"], \"x\": [52], \"y\": [52], \"type\": \"scatter\", \"uid\": \"1641de00-0f98-11e9-857b-9cf387cc124e\"}, {\"marker\": {\"color\": \"rgb(127,0,127)\", \"line\": {\"width\": 2}, \"size\": 12, \"symbol\": 2}, \"mode\": \"markers\", \"name\": \"KAISE\", \"text\": [\"KAISE\"], \"x\": [60], \"y\": [60], \"type\": \"scatter\", \"uid\": \"1641defa-0f98-11e9-a1fe-9cf387cc124e\"}, {\"marker\": {\"color\": \"rgb(127,0,127)\", \"line\": {\"width\": 2}, \"size\": 12, \"symbol\": 2}, \"mode\": \"markers\", \"name\": \"KAROLAINY\", \"text\": [\"KAROLAINY\"], \"x\": [70], \"y\": [70], \"type\": \"scatter\", \"uid\": \"1641dfe8-0f98-11e9-bf0a-9cf387cc124e\"}, {\"marker\": {\"color\": \"rgb(255,0,0)\", \"line\": {\"width\": 2}, \"size\": 12, \"symbol\": 1}, \"mode\": \"markers\", \"name\": \"KENEDE\", \"text\": [\"KENEDE\"], \"x\": [32], \"y\": [32], \"type\": \"scatter\", \"uid\": \"1641e0e4-0f98-11e9-85d2-9cf387cc124e\"}, {\"marker\": {\"color\": \"rgb(127,0,127)\", \"line\": {\"width\": 2}, \"size\": 12, \"symbol\": 2}, \"mode\": \"markers\", \"name\": \"KEROLIN\", \"text\": [\"KEROLIN\"], \"x\": [63], \"y\": [63], \"type\": \"scatter\", \"uid\": \"1641e1f4-0f98-11e9-b519-9cf387cc124e\"}, {\"marker\": {\"color\": \"rgb(127,0,0)\", \"line\": {\"width\": 2}, \"size\": 12, \"symbol\": 0}, \"mode\": \"markers\", \"name\": \"KIVIA\", \"text\": [\"KIVIA\"], \"x\": [null], \"y\": [null], \"type\": \"scatter\", \"uid\": \"1641e3a8-0f98-11e9-bd73-9cf387cc124e\"}, {\"marker\": {\"color\": \"rgb(0,255,0)\", \"line\": {\"width\": 2}, \"size\": 12, \"symbol\": 5}, \"mode\": \"markers\", \"name\": \"LILIA\", \"text\": [\"LILIA\"], \"x\": [78], \"y\": [78], \"type\": \"scatter\", \"uid\": \"1641e562-0f98-11e9-9cbc-9cf387cc124e\"}, {\"marker\": {\"color\": \"rgb(0,0,255)\", \"line\": {\"width\": 2}, \"size\": 12, \"symbol\": 3}, \"mode\": \"markers\", \"name\": \"LINDALCI\", \"text\": [\"LINDALCI\"], \"x\": [75], \"y\": [75], \"type\": \"scatter\", \"uid\": \"1641e724-0f98-11e9-9027-9cf387cc124e\"}, {\"marker\": {\"color\": \"rgb(0,127,127)\", \"line\": {\"width\": 2}, \"size\": 12, \"symbol\": 4}, \"mode\": \"markers\", \"name\": \"LION\", \"text\": [\"LION\"], \"x\": [86], \"y\": [86], \"type\": \"scatter\", \"uid\": \"1641e8dc-0f98-11e9-87b0-9cf387cc124e\"}, {\"marker\": {\"color\": \"rgb(0,255,0)\", \"line\": {\"width\": 2}, \"size\": 12, \"symbol\": 5}, \"mode\": \"markers\", \"name\": \"MABIA\", \"text\": [\"MABIA\"], \"x\": [94], \"y\": [94], \"type\": \"scatter\", \"uid\": \"1641ea8a-0f98-11e9-90df-9cf387cc124e\"}, {\"marker\": {\"color\": \"rgb(127,0,127)\", \"line\": {\"width\": 2}, \"size\": 12, \"symbol\": 2}, \"mode\": \"markers\", \"name\": \"MARIELLE\", \"text\": [\"MARIELLE\"], \"x\": [67], \"y\": [67], \"type\": \"scatter\", \"uid\": \"1641ec42-0f98-11e9-a2c4-9cf387cc124e\"}, {\"marker\": {\"color\": \"rgb(255,0,0)\", \"line\": {\"width\": 2}, \"size\": 12, \"symbol\": 1}, \"mode\": \"markers\", \"name\": \"MARINELMA\", \"text\": [\"MARINELMA\"], \"x\": [20], \"y\": [20], \"type\": \"scatter\", \"uid\": \"1641edf0-0f98-11e9-9fc5-9cf387cc124e\"}, {\"marker\": {\"color\": \"rgb(127,0,0)\", \"line\": {\"width\": 2}, \"size\": 12, \"symbol\": 0}, \"mode\": \"markers\", \"name\": \"MARINILSE\", \"text\": [\"MARINILSE\"], \"x\": [null], \"y\": [null], \"type\": \"scatter\", \"uid\": \"1641efb4-0f98-11e9-afb9-9cf387cc124e\"}, {\"marker\": {\"color\": \"rgb(0,127,127)\", \"line\": {\"width\": 2}, \"size\": 12, \"symbol\": 4}, \"mode\": \"markers\", \"name\": \"MIGUEL\", \"text\": [\"MIGUEL\"], \"x\": [89], \"y\": [89], \"type\": \"scatter\", \"uid\": \"1641f174-0f98-11e9-9498-9cf387cc124e\"}, {\"marker\": {\"color\": \"rgb(0,255,0)\", \"line\": {\"width\": 2}, \"size\": 12, \"symbol\": 5}, \"mode\": \"markers\", \"name\": \"MINELVINA\", \"text\": [\"MINELVINA\"], \"x\": [78], \"y\": [78], \"type\": \"scatter\", \"uid\": \"1641f322-0f98-11e9-8a60-9cf387cc124e\"}, {\"marker\": {\"color\": \"rgb(127,0,127)\", \"line\": {\"width\": 2}, \"size\": 12, \"symbol\": 2}, \"mode\": \"markers\", \"name\": \"NATALIN\", \"text\": [\"NATALIN\"], \"x\": [61], \"y\": [61], \"type\": \"scatter\", \"uid\": \"1641f4da-0f98-11e9-832c-9cf387cc124e\"}, {\"marker\": {\"color\": \"rgb(0,127,127)\", \"line\": {\"width\": 2}, \"size\": 12, \"symbol\": 4}, \"mode\": \"markers\", \"name\": \"NILCILEA\", \"text\": [\"NILCILEA\"], \"x\": [77], \"y\": [77], \"type\": \"scatter\", \"uid\": \"1641f688-0f98-11e9-8e31-9cf387cc124e\"}, {\"marker\": {\"color\": \"rgb(0,0,255)\", \"line\": {\"width\": 2}, \"size\": 12, \"symbol\": 3}, \"mode\": \"markers\", \"name\": \"ODETINA\", \"text\": [\"ODETINA\"], \"x\": [79], \"y\": [79], \"type\": \"scatter\", \"uid\": \"1641f840-0f98-11e9-b9b4-9cf387cc124e\"}, {\"marker\": {\"color\": \"rgb(127,0,0)\", \"line\": {\"width\": 2}, \"size\": 12, \"symbol\": 0}, \"mode\": \"markers\", \"name\": \"RAISLANIA\", \"text\": [\"RAISLANIA\"], \"x\": [null], \"y\": [null], \"type\": \"scatter\", \"uid\": \"1641f9f8-0f98-11e9-bdce-9cf387cc124e\"}, {\"marker\": {\"color\": \"rgb(127,0,127)\", \"line\": {\"width\": 2}, \"size\": 12, \"symbol\": 2}, \"mode\": \"markers\", \"name\": \"RAMES\", \"text\": [\"RAMES\"], \"x\": [67], \"y\": [67], \"type\": \"scatter\", \"uid\": \"1641fba6-0f98-11e9-8b6e-9cf387cc124e\"}, {\"marker\": {\"color\": \"rgb(0,127,127)\", \"line\": {\"width\": 2}, \"size\": 12, \"symbol\": 4}, \"mode\": \"markers\", \"name\": \"RILARI\", \"text\": [\"RILARI\"], \"x\": [84], \"y\": [84], \"type\": \"scatter\", \"uid\": \"1641fd54-0f98-11e9-a97b-9cf387cc124e\"}, {\"marker\": {\"color\": \"rgb(0,255,0)\", \"line\": {\"width\": 2}, \"size\": 12, \"symbol\": 5}, \"mode\": \"markers\", \"name\": \"RUGLES\", \"text\": [\"RUGLES\"], \"x\": [88], \"y\": [88], \"type\": \"scatter\", \"uid\": \"1641ff02-0f98-11e9-b177-9cf387cc124e\"}, {\"marker\": {\"color\": \"rgb(0,0,255)\", \"line\": {\"width\": 2}, \"size\": 12, \"symbol\": 3}, \"mode\": \"markers\", \"name\": \"SADRACK\", \"text\": [\"SADRACK\"], \"x\": [78], \"y\": [78], \"type\": \"scatter\", \"uid\": \"164200ba-0f98-11e9-84d8-9cf387cc124e\"}, {\"marker\": {\"color\": \"rgb(127,0,0)\", \"line\": {\"width\": 2}, \"size\": 12, \"symbol\": 0}, \"mode\": \"markers\", \"name\": \"SEVERA\", \"text\": [\"SEVERA\"], \"x\": [null], \"y\": [null], \"type\": \"scatter\", \"uid\": \"16420274-0f98-11e9-998b-9cf387cc124e\"}, {\"marker\": {\"color\": \"rgb(255,0,0)\", \"line\": {\"width\": 2}, \"size\": 12, \"symbol\": 1}, \"mode\": \"markers\", \"name\": \"SHIRLA\", \"text\": [\"SHIRLA\"], \"x\": [33], \"y\": [33], \"type\": \"scatter\", \"uid\": \"16420428-0f98-11e9-acc1-9cf387cc124e\"}, {\"marker\": {\"color\": \"rgb(0,127,127)\", \"line\": {\"width\": 2}, \"size\": 12, \"symbol\": 4}, \"mode\": \"markers\", \"name\": \"SILENE\", \"text\": [\"SILENE\"], \"x\": [90], \"y\": [90], \"type\": \"scatter\", \"uid\": \"164205d8-0f98-11e9-bc18-9cf387cc124e\"}, {\"marker\": {\"color\": \"rgb(127,0,0)\", \"line\": {\"width\": 2}, \"size\": 12, \"symbol\": 0}, \"mode\": \"markers\", \"name\": \"SOFIA\", \"text\": [\"SOFIA\"], \"x\": [null], \"y\": [null], \"type\": \"scatter\", \"uid\": \"16420786-0f98-11e9-801d-9cf387cc124e\"}, {\"marker\": {\"color\": \"rgb(127,0,0)\", \"line\": {\"width\": 2}, \"size\": 12, \"symbol\": 0}, \"mode\": \"markers\", \"name\": \"SUELAINE\", \"text\": [\"SUELAINE\"], \"x\": [null], \"y\": [null], \"type\": \"scatter\", \"uid\": \"16420934-0f98-11e9-9990-9cf387cc124e\"}, {\"marker\": {\"color\": \"rgb(127,0,0)\", \"line\": {\"width\": 2}, \"size\": 12, \"symbol\": 0}, \"mode\": \"markers\", \"name\": \"TABATA\", \"text\": [\"TABATA\"], \"x\": [null], \"y\": [null], \"type\": \"scatter\", \"uid\": \"16420af6-0f98-11e9-b344-9cf387cc124e\"}, {\"marker\": {\"color\": \"rgb(127,0,0)\", \"line\": {\"width\": 2}, \"size\": 12, \"symbol\": 0}, \"mode\": \"markers\", \"name\": \"TAYOMARA\", \"text\": [\"TAYOMARA\"], \"x\": [null], \"y\": [null], \"type\": \"scatter\", \"uid\": \"16420cb8-0f98-11e9-a0b9-9cf387cc124e\"}, {\"marker\": {\"color\": \"rgb(255,0,0)\", \"line\": {\"width\": 2}, \"size\": 12, \"symbol\": 1}, \"mode\": \"markers\", \"name\": \"VALTERSON\", \"text\": [\"VALTERSON\"], \"x\": [37], \"y\": [37], \"type\": \"scatter\", \"uid\": \"16420ea2-0f98-11e9-924b-9cf387cc124e\"}, {\"marker\": {\"color\": \"rgb(0,255,0)\", \"line\": {\"width\": 2}, \"size\": 12, \"symbol\": 5}, \"mode\": \"markers\", \"name\": \"WERBER\", \"text\": [\"WERBER\"], \"x\": [74], \"y\": [74], \"type\": \"scatter\", \"uid\": \"16421050-0f98-11e9-b788-9cf387cc124e\"}, {\"marker\": {\"color\": \"rgb(0,0,255)\", \"line\": {\"width\": 2}, \"size\": 12, \"symbol\": 3}, \"mode\": \"markers\", \"name\": \"WOSHITON\", \"text\": [\"WOSHITON\"], \"x\": [72], \"y\": [72], \"type\": \"scatter\", \"uid\": \"164211fe-0f98-11e9-9165-9cf387cc124e\"}, {\"marker\": {\"color\": \"rgb(0,127,127)\", \"line\": {\"width\": 2}, \"size\": 12, \"symbol\": 4}, \"mode\": \"markers\", \"name\": \"YORRAN\", \"text\": [\"YORRAN\"], \"x\": [83], \"y\": [83], \"type\": \"scatter\", \"uid\": \"164213a2-0f98-11e9-83e4-9cf387cc124e\"}],\n",
       "            {\"hovermode\": \"closest\", \"showlegend\": true, \"title\": \"--\", \"xaxis\": {\"autorange\": true, \"showline\": true, \"title\": \"Grade\", \"titlefont\": {\"color\": \"rgb(180,180,180)\"}, \"zeroline\": false}, \"yaxis\": {\"autorange\": false, \"fixedrange\": true, \"range\": [0, 106], \"rangemode\": \"normal\", \"showline\": true, \"title\": \"Grade\", \"titlefont\": {\"color\": \"rgb(180,180,180)\"}}},\n",
       "            {\"showLink\": true, \"linkText\": \"Export to plot.ly\"}\n",
       "        ).then(function () {return Plotly.addFrames('242f2fdd-8f84-43e9-83cf-e6837ca6816f',{});}).then(function(){Plotly.animate('242f2fdd-8f84-43e9-83cf-e6837ca6816f');})\n",
       "        });</script>"
      ],
      "text/vnd.plotly.v1+html": [
       "<div id=\"242f2fdd-8f84-43e9-83cf-e6837ca6816f\" style=\"height: 525px; width: 100%;\" class=\"plotly-graph-div\"></div><script type=\"text/javascript\">require([\"plotly\"], function(Plotly) { window.PLOTLYENV=window.PLOTLYENV || {};window.PLOTLYENV.BASE_URL=\"https://plot.ly\";\n",
       "        Plotly.plot(\n",
       "            '242f2fdd-8f84-43e9-83cf-e6837ca6816f',\n",
       "            [{\"marker\": {\"color\": \"rgb(127,0,127)\", \"line\": {\"width\": 2}, \"size\": 12, \"symbol\": 2}, \"mode\": \"markers\", \"name\": \"ABEL\", \"text\": [\"ABEL\"], \"x\": [61], \"y\": [61], \"type\": \"scatter\", \"uid\": \"1641b740-0f98-11e9-844f-9cf387cc124e\"}, {\"marker\": {\"color\": \"rgb(127,0,127)\", \"line\": {\"width\": 2}, \"size\": 12, \"symbol\": 2}, \"mode\": \"markers\", \"name\": \"ADIVAIR\", \"text\": [\"ADIVAIR\"], \"x\": [56], \"y\": [56], \"type\": \"scatter\", \"uid\": \"1641bb00-0f98-11e9-810e-9cf387cc124e\"}, {\"marker\": {\"color\": \"rgb(0,255,0)\", \"line\": {\"width\": 2}, \"size\": 12, \"symbol\": 5}, \"mode\": \"markers\", \"name\": \"AGATA\", \"text\": [\"AGATA\"], \"x\": [88], \"y\": [88], \"type\": \"scatter\", \"uid\": \"1641bc5e-0f98-11e9-8319-9cf387cc124e\"}, {\"marker\": {\"color\": \"rgb(0,0,255)\", \"line\": {\"width\": 2}, \"size\": 12, \"symbol\": 3}, \"mode\": \"markers\", \"name\": \"ALECE\", \"text\": [\"ALECE\"], \"x\": [78], \"y\": [78], \"type\": \"scatter\", \"uid\": \"1641bf7e-0f98-11e9-aae2-9cf387cc124e\"}, {\"marker\": {\"color\": \"rgb(0,127,127)\", \"line\": {\"width\": 2}, \"size\": 12, \"symbol\": 4}, \"mode\": \"markers\", \"name\": \"ALTINEI\", \"text\": [\"ALTINEI\"], \"x\": [88], \"y\": [88], \"type\": \"scatter\", \"uid\": \"1641c174-0f98-11e9-a13b-9cf387cc124e\"}, {\"marker\": {\"color\": \"rgb(127,0,127)\", \"line\": {\"width\": 2}, \"size\": 12, \"symbol\": 2}, \"mode\": \"markers\", \"name\": \"ARINEI\", \"text\": [\"ARINEI\"], \"x\": [63], \"y\": [63], \"type\": \"scatter\", \"uid\": \"1641c28a-0f98-11e9-8ffc-9cf387cc124e\"}, {\"marker\": {\"color\": \"rgb(0,255,0)\", \"line\": {\"width\": 2}, \"size\": 12, \"symbol\": 5}, \"mode\": \"markers\", \"name\": \"AROLDO\", \"text\": [\"AROLDO\"], \"x\": [96], \"y\": [96], \"type\": \"scatter\", \"uid\": \"1641c386-0f98-11e9-8fec-9cf387cc124e\"}, {\"marker\": {\"color\": \"rgb(0,255,0)\", \"line\": {\"width\": 2}, \"size\": 12, \"symbol\": 5}, \"mode\": \"markers\", \"name\": \"CELIA\", \"text\": [\"CELIA\"], \"x\": [75], \"y\": [75], \"type\": \"scatter\", \"uid\": \"1641c47e-0f98-11e9-ba09-9cf387cc124e\"}, {\"marker\": {\"color\": \"rgb(255,0,0)\", \"line\": {\"width\": 2}, \"size\": 12, \"symbol\": 1}, \"mode\": \"markers\", \"name\": \"CLEDJA\", \"text\": [\"CLEDJA\"], \"x\": [27], \"y\": [27], \"type\": \"scatter\", \"uid\": \"1641c56e-0f98-11e9-a761-9cf387cc124e\"}, {\"marker\": {\"color\": \"rgb(127,0,0)\", \"line\": {\"width\": 2}, \"size\": 12, \"symbol\": 0}, \"mode\": \"markers\", \"name\": \"CLEONAR\", \"text\": [\"CLEONAR\"], \"x\": [null], \"y\": [null], \"type\": \"scatter\", \"uid\": \"1641c668-0f98-11e9-90ff-9cf387cc124e\"}, {\"marker\": {\"color\": \"rgb(255,0,0)\", \"line\": {\"width\": 2}, \"size\": 12, \"symbol\": 1}, \"mode\": \"markers\", \"name\": \"CLESTON\", \"text\": [\"CLESTON\"], \"x\": [43], \"y\": [43], \"type\": \"scatter\", \"uid\": \"1641c758-0f98-11e9-bde5-9cf387cc124e\"}, {\"marker\": {\"color\": \"rgb(127,0,0)\", \"line\": {\"width\": 2}, \"size\": 12, \"symbol\": 0}, \"mode\": \"markers\", \"name\": \"CLUDIO\", \"text\": [\"CLUDIO\"], \"x\": [null], \"y\": [null], \"type\": \"scatter\", \"uid\": \"1641c906-0f98-11e9-939b-9cf387cc124e\"}, {\"marker\": {\"color\": \"rgb(255,0,0)\", \"line\": {\"width\": 2}, \"size\": 12, \"symbol\": 1}, \"mode\": \"markers\", \"name\": \"DAILA\", \"text\": [\"DAILA\"], \"x\": [37], \"y\": [37], \"type\": \"scatter\", \"uid\": \"1641cb54-0f98-11e9-a68f-9cf387cc124e\"}, {\"marker\": {\"color\": \"rgb(127,0,127)\", \"line\": {\"width\": 2}, \"size\": 12, \"symbol\": 2}, \"mode\": \"markers\", \"name\": \"DALZIZA\", \"text\": [\"DALZIZA\"], \"x\": [53], \"y\": [53], \"type\": \"scatter\", \"uid\": \"1641cd0c-0f98-11e9-b8b2-9cf387cc124e\"}, {\"marker\": {\"color\": \"rgb(0,255,0)\", \"line\": {\"width\": 2}, \"size\": 12, \"symbol\": 5}, \"mode\": \"markers\", \"name\": \"DANGELA\", \"text\": [\"DANGELA\"], \"x\": [95], \"y\": [95], \"type\": \"scatter\", \"uid\": \"1641ce74-0f98-11e9-86ad-9cf387cc124e\"}, {\"marker\": {\"color\": \"rgb(255,0,0)\", \"line\": {\"width\": 2}, \"size\": 12, \"symbol\": 1}, \"mode\": \"markers\", \"name\": \"DENIANE\", \"text\": [\"DENIANE\"], \"x\": [33], \"y\": [33], \"type\": \"scatter\", \"uid\": \"1641cfd2-0f98-11e9-8b8f-9cf387cc124e\"}, {\"marker\": {\"color\": \"rgb(0,255,0)\", \"line\": {\"width\": 2}, \"size\": 12, \"symbol\": 5}, \"mode\": \"markers\", \"name\": \"DONIRA\", \"text\": [\"DONIRA\"], \"x\": [83], \"y\": [83], \"type\": \"scatter\", \"uid\": \"1641d13a-0f98-11e9-bdef-9cf387cc124e\"}, {\"marker\": {\"color\": \"rgb(255,0,0)\", \"line\": {\"width\": 2}, \"size\": 12, \"symbol\": 1}, \"mode\": \"markers\", \"name\": \"DORICELIA\", \"text\": [\"DORICELIA\"], \"x\": [22], \"y\": [22], \"type\": \"scatter\", \"uid\": \"1641d2ac-0f98-11e9-a030-9cf387cc124e\"}, {\"marker\": {\"color\": \"rgb(127,0,0)\", \"line\": {\"width\": 2}, \"size\": 12, \"symbol\": 0}, \"mode\": \"markers\", \"name\": \"ELIZANEA\", \"text\": [\"ELIZANEA\"], \"x\": [null], \"y\": [null], \"type\": \"scatter\", \"uid\": \"1641d40a-0f98-11e9-a6ea-9cf387cc124e\"}, {\"marker\": {\"color\": \"rgb(127,0,0)\", \"line\": {\"width\": 2}, \"size\": 12, \"symbol\": 0}, \"mode\": \"markers\", \"name\": \"FLAVILSON\", \"text\": [\"FLAVILSON\"], \"x\": [null], \"y\": [null], \"type\": \"scatter\", \"uid\": \"1641d568-0f98-11e9-b503-9cf387cc124e\"}, {\"marker\": {\"color\": \"rgb(0,127,127)\", \"line\": {\"width\": 2}, \"size\": 12, \"symbol\": 4}, \"mode\": \"markers\", \"name\": \"FRANCIELI\", \"text\": [\"FRANCIELI\"], \"x\": [80], \"y\": [80], \"type\": \"scatter\", \"uid\": \"1641d6e4-0f98-11e9-ada1-9cf387cc124e\"}, {\"marker\": {\"color\": \"rgb(0,0,255)\", \"line\": {\"width\": 2}, \"size\": 12, \"symbol\": 3}, \"mode\": \"markers\", \"name\": \"HELOISA\", \"text\": [\"HELOISA\"], \"x\": [78], \"y\": [78], \"type\": \"scatter\", \"uid\": \"1641d858-0f98-11e9-a7d5-9cf387cc124e\"}, {\"marker\": {\"color\": \"rgb(0,255,0)\", \"line\": {\"width\": 2}, \"size\": 12, \"symbol\": 5}, \"mode\": \"markers\", \"name\": \"IAMINA\", \"text\": [\"IAMINA\"], \"x\": [88], \"y\": [88], \"type\": \"scatter\", \"uid\": \"1641d9dc-0f98-11e9-94e5-9cf387cc124e\"}, {\"marker\": {\"color\": \"rgb(127,0,0)\", \"line\": {\"width\": 2}, \"size\": 12, \"symbol\": 0}, \"mode\": \"markers\", \"name\": \"ISLA\", \"text\": [\"ISLA\"], \"x\": [null], \"y\": [null], \"type\": \"scatter\", \"uid\": \"1641db26-0f98-11e9-9107-9cf387cc124e\"}, {\"marker\": {\"color\": \"rgb(0,127,127)\", \"line\": {\"width\": 2}, \"size\": 12, \"symbol\": 4}, \"mode\": \"markers\", \"name\": \"IZIDRO\", \"text\": [\"IZIDRO\"], \"x\": [85], \"y\": [85], \"type\": \"scatter\", \"uid\": \"1641dc1e-0f98-11e9-bdf5-9cf387cc124e\"}, {\"marker\": {\"color\": \"rgb(127,0,127)\", \"line\": {\"width\": 2}, \"size\": 12, \"symbol\": 2}, \"mode\": \"markers\", \"name\": \"JANAIRA\", \"text\": [\"JANAIRA\"], \"x\": [60], \"y\": [60], \"type\": \"scatter\", \"uid\": \"1641dd10-0f98-11e9-a003-9cf387cc124e\"}, {\"marker\": {\"color\": \"rgb(127,0,127)\", \"line\": {\"width\": 2}, \"size\": 12, \"symbol\": 2}, \"mode\": \"markers\", \"name\": \"JOEMISON\", \"text\": [\"JOEMISON\"], \"x\": [52], \"y\": [52], \"type\": \"scatter\", \"uid\": \"1641de00-0f98-11e9-857b-9cf387cc124e\"}, {\"marker\": {\"color\": \"rgb(127,0,127)\", \"line\": {\"width\": 2}, \"size\": 12, \"symbol\": 2}, \"mode\": \"markers\", \"name\": \"KAISE\", \"text\": [\"KAISE\"], \"x\": [60], \"y\": [60], \"type\": \"scatter\", \"uid\": \"1641defa-0f98-11e9-a1fe-9cf387cc124e\"}, {\"marker\": {\"color\": \"rgb(127,0,127)\", \"line\": {\"width\": 2}, \"size\": 12, \"symbol\": 2}, \"mode\": \"markers\", \"name\": \"KAROLAINY\", \"text\": [\"KAROLAINY\"], \"x\": [70], \"y\": [70], \"type\": \"scatter\", \"uid\": \"1641dfe8-0f98-11e9-bf0a-9cf387cc124e\"}, {\"marker\": {\"color\": \"rgb(255,0,0)\", \"line\": {\"width\": 2}, \"size\": 12, \"symbol\": 1}, \"mode\": \"markers\", \"name\": \"KENEDE\", \"text\": [\"KENEDE\"], \"x\": [32], \"y\": [32], \"type\": \"scatter\", \"uid\": \"1641e0e4-0f98-11e9-85d2-9cf387cc124e\"}, {\"marker\": {\"color\": \"rgb(127,0,127)\", \"line\": {\"width\": 2}, \"size\": 12, \"symbol\": 2}, \"mode\": \"markers\", \"name\": \"KEROLIN\", \"text\": [\"KEROLIN\"], \"x\": [63], \"y\": [63], \"type\": \"scatter\", \"uid\": \"1641e1f4-0f98-11e9-b519-9cf387cc124e\"}, {\"marker\": {\"color\": \"rgb(127,0,0)\", \"line\": {\"width\": 2}, \"size\": 12, \"symbol\": 0}, \"mode\": \"markers\", \"name\": \"KIVIA\", \"text\": [\"KIVIA\"], \"x\": [null], \"y\": [null], \"type\": \"scatter\", \"uid\": \"1641e3a8-0f98-11e9-bd73-9cf387cc124e\"}, {\"marker\": {\"color\": \"rgb(0,255,0)\", \"line\": {\"width\": 2}, \"size\": 12, \"symbol\": 5}, \"mode\": \"markers\", \"name\": \"LILIA\", \"text\": [\"LILIA\"], \"x\": [78], \"y\": [78], \"type\": \"scatter\", \"uid\": \"1641e562-0f98-11e9-9cbc-9cf387cc124e\"}, {\"marker\": {\"color\": \"rgb(0,0,255)\", \"line\": {\"width\": 2}, \"size\": 12, \"symbol\": 3}, \"mode\": \"markers\", \"name\": \"LINDALCI\", \"text\": [\"LINDALCI\"], \"x\": [75], \"y\": [75], \"type\": \"scatter\", \"uid\": \"1641e724-0f98-11e9-9027-9cf387cc124e\"}, {\"marker\": {\"color\": \"rgb(0,127,127)\", \"line\": {\"width\": 2}, \"size\": 12, \"symbol\": 4}, \"mode\": \"markers\", \"name\": \"LION\", \"text\": [\"LION\"], \"x\": [86], \"y\": [86], \"type\": \"scatter\", \"uid\": \"1641e8dc-0f98-11e9-87b0-9cf387cc124e\"}, {\"marker\": {\"color\": \"rgb(0,255,0)\", \"line\": {\"width\": 2}, \"size\": 12, \"symbol\": 5}, \"mode\": \"markers\", \"name\": \"MABIA\", \"text\": [\"MABIA\"], \"x\": [94], \"y\": [94], \"type\": \"scatter\", \"uid\": \"1641ea8a-0f98-11e9-90df-9cf387cc124e\"}, {\"marker\": {\"color\": \"rgb(127,0,127)\", \"line\": {\"width\": 2}, \"size\": 12, \"symbol\": 2}, \"mode\": \"markers\", \"name\": \"MARIELLE\", \"text\": [\"MARIELLE\"], \"x\": [67], \"y\": [67], \"type\": \"scatter\", \"uid\": \"1641ec42-0f98-11e9-a2c4-9cf387cc124e\"}, {\"marker\": {\"color\": \"rgb(255,0,0)\", \"line\": {\"width\": 2}, \"size\": 12, \"symbol\": 1}, \"mode\": \"markers\", \"name\": \"MARINELMA\", \"text\": [\"MARINELMA\"], \"x\": [20], \"y\": [20], \"type\": \"scatter\", \"uid\": \"1641edf0-0f98-11e9-9fc5-9cf387cc124e\"}, {\"marker\": {\"color\": \"rgb(127,0,0)\", \"line\": {\"width\": 2}, \"size\": 12, \"symbol\": 0}, \"mode\": \"markers\", \"name\": \"MARINILSE\", \"text\": [\"MARINILSE\"], \"x\": [null], \"y\": [null], \"type\": \"scatter\", \"uid\": \"1641efb4-0f98-11e9-afb9-9cf387cc124e\"}, {\"marker\": {\"color\": \"rgb(0,127,127)\", \"line\": {\"width\": 2}, \"size\": 12, \"symbol\": 4}, \"mode\": \"markers\", \"name\": \"MIGUEL\", \"text\": [\"MIGUEL\"], \"x\": [89], \"y\": [89], \"type\": \"scatter\", \"uid\": \"1641f174-0f98-11e9-9498-9cf387cc124e\"}, {\"marker\": {\"color\": \"rgb(0,255,0)\", \"line\": {\"width\": 2}, \"size\": 12, \"symbol\": 5}, \"mode\": \"markers\", \"name\": \"MINELVINA\", \"text\": [\"MINELVINA\"], \"x\": [78], \"y\": [78], \"type\": \"scatter\", \"uid\": \"1641f322-0f98-11e9-8a60-9cf387cc124e\"}, {\"marker\": {\"color\": \"rgb(127,0,127)\", \"line\": {\"width\": 2}, \"size\": 12, \"symbol\": 2}, \"mode\": \"markers\", \"name\": \"NATALIN\", \"text\": [\"NATALIN\"], \"x\": [61], \"y\": [61], \"type\": \"scatter\", \"uid\": \"1641f4da-0f98-11e9-832c-9cf387cc124e\"}, {\"marker\": {\"color\": \"rgb(0,127,127)\", \"line\": {\"width\": 2}, \"size\": 12, \"symbol\": 4}, \"mode\": \"markers\", \"name\": \"NILCILEA\", \"text\": [\"NILCILEA\"], \"x\": [77], \"y\": [77], \"type\": \"scatter\", \"uid\": \"1641f688-0f98-11e9-8e31-9cf387cc124e\"}, {\"marker\": {\"color\": \"rgb(0,0,255)\", \"line\": {\"width\": 2}, \"size\": 12, \"symbol\": 3}, \"mode\": \"markers\", \"name\": \"ODETINA\", \"text\": [\"ODETINA\"], \"x\": [79], \"y\": [79], \"type\": \"scatter\", \"uid\": \"1641f840-0f98-11e9-b9b4-9cf387cc124e\"}, {\"marker\": {\"color\": \"rgb(127,0,0)\", \"line\": {\"width\": 2}, \"size\": 12, \"symbol\": 0}, \"mode\": \"markers\", \"name\": \"RAISLANIA\", \"text\": [\"RAISLANIA\"], \"x\": [null], \"y\": [null], \"type\": \"scatter\", \"uid\": \"1641f9f8-0f98-11e9-bdce-9cf387cc124e\"}, {\"marker\": {\"color\": \"rgb(127,0,127)\", \"line\": {\"width\": 2}, \"size\": 12, \"symbol\": 2}, \"mode\": \"markers\", \"name\": \"RAMES\", \"text\": [\"RAMES\"], \"x\": [67], \"y\": [67], \"type\": \"scatter\", \"uid\": \"1641fba6-0f98-11e9-8b6e-9cf387cc124e\"}, {\"marker\": {\"color\": \"rgb(0,127,127)\", \"line\": {\"width\": 2}, \"size\": 12, \"symbol\": 4}, \"mode\": \"markers\", \"name\": \"RILARI\", \"text\": [\"RILARI\"], \"x\": [84], \"y\": [84], \"type\": \"scatter\", \"uid\": \"1641fd54-0f98-11e9-a97b-9cf387cc124e\"}, {\"marker\": {\"color\": \"rgb(0,255,0)\", \"line\": {\"width\": 2}, \"size\": 12, \"symbol\": 5}, \"mode\": \"markers\", \"name\": \"RUGLES\", \"text\": [\"RUGLES\"], \"x\": [88], \"y\": [88], \"type\": \"scatter\", \"uid\": \"1641ff02-0f98-11e9-b177-9cf387cc124e\"}, {\"marker\": {\"color\": \"rgb(0,0,255)\", \"line\": {\"width\": 2}, \"size\": 12, \"symbol\": 3}, \"mode\": \"markers\", \"name\": \"SADRACK\", \"text\": [\"SADRACK\"], \"x\": [78], \"y\": [78], \"type\": \"scatter\", \"uid\": \"164200ba-0f98-11e9-84d8-9cf387cc124e\"}, {\"marker\": {\"color\": \"rgb(127,0,0)\", \"line\": {\"width\": 2}, \"size\": 12, \"symbol\": 0}, \"mode\": \"markers\", \"name\": \"SEVERA\", \"text\": [\"SEVERA\"], \"x\": [null], \"y\": [null], \"type\": \"scatter\", \"uid\": \"16420274-0f98-11e9-998b-9cf387cc124e\"}, {\"marker\": {\"color\": \"rgb(255,0,0)\", \"line\": {\"width\": 2}, \"size\": 12, \"symbol\": 1}, \"mode\": \"markers\", \"name\": \"SHIRLA\", \"text\": [\"SHIRLA\"], \"x\": [33], \"y\": [33], \"type\": \"scatter\", \"uid\": \"16420428-0f98-11e9-acc1-9cf387cc124e\"}, {\"marker\": {\"color\": \"rgb(0,127,127)\", \"line\": {\"width\": 2}, \"size\": 12, \"symbol\": 4}, \"mode\": \"markers\", \"name\": \"SILENE\", \"text\": [\"SILENE\"], \"x\": [90], \"y\": [90], \"type\": \"scatter\", \"uid\": \"164205d8-0f98-11e9-bc18-9cf387cc124e\"}, {\"marker\": {\"color\": \"rgb(127,0,0)\", \"line\": {\"width\": 2}, \"size\": 12, \"symbol\": 0}, \"mode\": \"markers\", \"name\": \"SOFIA\", \"text\": [\"SOFIA\"], \"x\": [null], \"y\": [null], \"type\": \"scatter\", \"uid\": \"16420786-0f98-11e9-801d-9cf387cc124e\"}, {\"marker\": {\"color\": \"rgb(127,0,0)\", \"line\": {\"width\": 2}, \"size\": 12, \"symbol\": 0}, \"mode\": \"markers\", \"name\": \"SUELAINE\", \"text\": [\"SUELAINE\"], \"x\": [null], \"y\": [null], \"type\": \"scatter\", \"uid\": \"16420934-0f98-11e9-9990-9cf387cc124e\"}, {\"marker\": {\"color\": \"rgb(127,0,0)\", \"line\": {\"width\": 2}, \"size\": 12, \"symbol\": 0}, \"mode\": \"markers\", \"name\": \"TABATA\", \"text\": [\"TABATA\"], \"x\": [null], \"y\": [null], \"type\": \"scatter\", \"uid\": \"16420af6-0f98-11e9-b344-9cf387cc124e\"}, {\"marker\": {\"color\": \"rgb(127,0,0)\", \"line\": {\"width\": 2}, \"size\": 12, \"symbol\": 0}, \"mode\": \"markers\", \"name\": \"TAYOMARA\", \"text\": [\"TAYOMARA\"], \"x\": [null], \"y\": [null], \"type\": \"scatter\", \"uid\": \"16420cb8-0f98-11e9-a0b9-9cf387cc124e\"}, {\"marker\": {\"color\": \"rgb(255,0,0)\", \"line\": {\"width\": 2}, \"size\": 12, \"symbol\": 1}, \"mode\": \"markers\", \"name\": \"VALTERSON\", \"text\": [\"VALTERSON\"], \"x\": [37], \"y\": [37], \"type\": \"scatter\", \"uid\": \"16420ea2-0f98-11e9-924b-9cf387cc124e\"}, {\"marker\": {\"color\": \"rgb(0,255,0)\", \"line\": {\"width\": 2}, \"size\": 12, \"symbol\": 5}, \"mode\": \"markers\", \"name\": \"WERBER\", \"text\": [\"WERBER\"], \"x\": [74], \"y\": [74], \"type\": \"scatter\", \"uid\": \"16421050-0f98-11e9-b788-9cf387cc124e\"}, {\"marker\": {\"color\": \"rgb(0,0,255)\", \"line\": {\"width\": 2}, \"size\": 12, \"symbol\": 3}, \"mode\": \"markers\", \"name\": \"WOSHITON\", \"text\": [\"WOSHITON\"], \"x\": [72], \"y\": [72], \"type\": \"scatter\", \"uid\": \"164211fe-0f98-11e9-9165-9cf387cc124e\"}, {\"marker\": {\"color\": \"rgb(0,127,127)\", \"line\": {\"width\": 2}, \"size\": 12, \"symbol\": 4}, \"mode\": \"markers\", \"name\": \"YORRAN\", \"text\": [\"YORRAN\"], \"x\": [83], \"y\": [83], \"type\": \"scatter\", \"uid\": \"164213a2-0f98-11e9-83e4-9cf387cc124e\"}],\n",
       "            {\"hovermode\": \"closest\", \"showlegend\": true, \"title\": \"--\", \"xaxis\": {\"autorange\": true, \"showline\": true, \"title\": \"Grade\", \"titlefont\": {\"color\": \"rgb(180,180,180)\"}, \"zeroline\": false}, \"yaxis\": {\"autorange\": false, \"fixedrange\": true, \"range\": [0, 106], \"rangemode\": \"normal\", \"showline\": true, \"title\": \"Grade\", \"titlefont\": {\"color\": \"rgb(180,180,180)\"}}},\n",
       "            {\"showLink\": true, \"linkText\": \"Export to plot.ly\"}\n",
       "        ).then(function () {return Plotly.addFrames('242f2fdd-8f84-43e9-83cf-e6837ca6816f',{});}).then(function(){Plotly.animate('242f2fdd-8f84-43e9-83cf-e6837ca6816f');})\n",
       "        });</script>"
      ]
     },
     "metadata": {},
     "output_type": "display_data"
    },
    {
     "data": {
      "application/vnd.plotly.v1+json": {
       "data": [
        {
         "name": "Dropout",
         "type": "bar",
         "uid": "16622c00-0f98-11e9-ad65-9cf387cc124e",
         "x": [
          1
         ],
         "y": [
          -13
         ]
        },
        {
         "name": "0 - 60",
         "type": "bar",
         "uid": "16622f18-0f98-11e9-a359-9cf387cc124e",
         "x": [
          1
         ],
         "y": [
          9
         ]
        },
        {
         "name": "61 - 70",
         "type": "bar",
         "uid": "166230f6-0f98-11e9-a60f-9cf387cc124e",
         "x": [
          1
         ],
         "y": [
          12
         ]
        },
        {
         "name": "71 - 80",
         "type": "bar",
         "uid": "166232a4-0f98-11e9-88a2-9cf387cc124e",
         "x": [
          1
         ],
         "y": [
          6
         ]
        },
        {
         "name": "81 - 90",
         "type": "bar",
         "uid": "16623402-0f98-11e9-b0a5-9cf387cc124e",
         "x": [
          1
         ],
         "y": [
          9
         ]
        },
        {
         "name": "91 - 100",
         "type": "bar",
         "uid": "16623510-0f98-11e9-86cd-9cf387cc124e",
         "x": [
          1
         ],
         "y": [
          11
         ]
        }
       ],
       "layout": {
        "barmode": "relative",
        "title": "Alterar",
        "xaxis": {
         "title": "X axis"
        },
        "yaxis": {
         "title": "Y axis"
        }
       }
      },
      "text/html": [
       "<div id=\"5668332d-3da5-4328-ad2b-673593cb4a2c\" style=\"height: 525px; width: 100%;\" class=\"plotly-graph-div\"></div><script type=\"text/javascript\">require([\"plotly\"], function(Plotly) { window.PLOTLYENV=window.PLOTLYENV || {};window.PLOTLYENV.BASE_URL=\"https://plot.ly\";Plotly.newPlot(\"5668332d-3da5-4328-ad2b-673593cb4a2c\", [{\"name\": \"Dropout\", \"x\": [1], \"y\": [-13], \"type\": \"bar\", \"uid\": \"16c0f09e-0f98-11e9-84e1-9cf387cc124e\"}, {\"name\": \"0 - 60\", \"x\": [1], \"y\": [9], \"type\": \"bar\", \"uid\": \"16c0f3fa-0f98-11e9-a321-9cf387cc124e\"}, {\"name\": \"61 - 70\", \"x\": [1], \"y\": [12], \"type\": \"bar\", \"uid\": \"16c0f5c8-0f98-11e9-90b5-9cf387cc124e\"}, {\"name\": \"71 - 80\", \"x\": [1], \"y\": [6], \"type\": \"bar\", \"uid\": \"16c0f7a8-0f98-11e9-8969-9cf387cc124e\"}, {\"name\": \"81 - 90\", \"x\": [1], \"y\": [9], \"type\": \"bar\", \"uid\": \"16c0f94c-0f98-11e9-b824-9cf387cc124e\"}, {\"name\": \"91 - 100\", \"x\": [1], \"y\": [11], \"type\": \"bar\", \"uid\": \"16c0fae6-0f98-11e9-ae67-9cf387cc124e\"}], {\"barmode\": \"relative\", \"title\": \"Alterar\", \"xaxis\": {\"title\": \"X axis\"}, \"yaxis\": {\"title\": \"Y axis\"}}, {\"showLink\": true, \"linkText\": \"Export to plot.ly\"})});</script>"
      ],
      "text/vnd.plotly.v1+html": [
       "<div id=\"5668332d-3da5-4328-ad2b-673593cb4a2c\" style=\"height: 525px; width: 100%;\" class=\"plotly-graph-div\"></div><script type=\"text/javascript\">require([\"plotly\"], function(Plotly) { window.PLOTLYENV=window.PLOTLYENV || {};window.PLOTLYENV.BASE_URL=\"https://plot.ly\";Plotly.newPlot(\"5668332d-3da5-4328-ad2b-673593cb4a2c\", [{\"name\": \"Dropout\", \"x\": [1], \"y\": [-13], \"type\": \"bar\", \"uid\": \"16c0f09e-0f98-11e9-84e1-9cf387cc124e\"}, {\"name\": \"0 - 60\", \"x\": [1], \"y\": [9], \"type\": \"bar\", \"uid\": \"16c0f3fa-0f98-11e9-a321-9cf387cc124e\"}, {\"name\": \"61 - 70\", \"x\": [1], \"y\": [12], \"type\": \"bar\", \"uid\": \"16c0f5c8-0f98-11e9-90b5-9cf387cc124e\"}, {\"name\": \"71 - 80\", \"x\": [1], \"y\": [6], \"type\": \"bar\", \"uid\": \"16c0f7a8-0f98-11e9-8969-9cf387cc124e\"}, {\"name\": \"81 - 90\", \"x\": [1], \"y\": [9], \"type\": \"bar\", \"uid\": \"16c0f94c-0f98-11e9-b824-9cf387cc124e\"}, {\"name\": \"91 - 100\", \"x\": [1], \"y\": [11], \"type\": \"bar\", \"uid\": \"16c0fae6-0f98-11e9-ae67-9cf387cc124e\"}], {\"barmode\": \"relative\", \"title\": \"Alterar\", \"xaxis\": {\"title\": \"X axis\"}, \"yaxis\": {\"title\": \"Y axis\"}}, {\"showLink\": true, \"linkText\": \"Export to plot.ly\"})});</script>"
      ]
     },
     "metadata": {},
     "output_type": "display_data"
    },
    {
     "data": {
      "application/vnd.plotly.v1+json": {
       "data": [
        {
         "mode": "markers",
         "name": "ABEL",
         "text": [
          "ABEL"
         ],
         "type": "scatter",
         "uid": "17f3fb1e-0f98-11e9-9f11-9cf387cc124e",
         "x": [
          "61 - 70"
         ],
         "y": [
          61
         ]
        },
        {
         "mode": "markers",
         "name": "ADIVAIR",
         "text": [
          "ADIVAIR"
         ],
         "type": "scatter",
         "uid": "17f40ac0-0f98-11e9-933c-9cf387cc124e",
         "x": [
          "61 - 70"
         ],
         "y": [
          56
         ]
        },
        {
         "mode": "markers",
         "name": "AGATA",
         "text": [
          "AGATA"
         ],
         "type": "scatter",
         "uid": "17f40cbe-0f98-11e9-91a6-9cf387cc124e",
         "x": [
          "91 - 100"
         ],
         "y": [
          88
         ]
        },
        {
         "mode": "markers",
         "name": "ALECE",
         "text": [
          "ALECE"
         ],
         "type": "scatter",
         "uid": "17f40e58-0f98-11e9-a262-9cf387cc124e",
         "x": [
          "71 - 80"
         ],
         "y": [
          78
         ]
        },
        {
         "mode": "markers",
         "name": "ALTINEI",
         "text": [
          "ALTINEI"
         ],
         "type": "scatter",
         "uid": "17f41010-0f98-11e9-b26b-9cf387cc124e",
         "x": [
          "81 - 90"
         ],
         "y": [
          88
         ]
        },
        {
         "mode": "markers",
         "name": "ARINEI",
         "text": [
          "ARINEI"
         ],
         "type": "scatter",
         "uid": "17f41150-0f98-11e9-9e30-9cf387cc124e",
         "x": [
          "61 - 70"
         ],
         "y": [
          63
         ]
        },
        {
         "mode": "markers",
         "name": "AROLDO",
         "text": [
          "AROLDO"
         ],
         "type": "scatter",
         "uid": "17f4124a-0f98-11e9-bbc6-9cf387cc124e",
         "x": [
          "91 - 100"
         ],
         "y": [
          96
         ]
        },
        {
         "mode": "markers",
         "name": "CELIA",
         "text": [
          "CELIA"
         ],
         "type": "scatter",
         "uid": "17f4134c-0f98-11e9-bdf5-9cf387cc124e",
         "x": [
          "91 - 100"
         ],
         "y": [
          75
         ]
        },
        {
         "mode": "markers",
         "name": "CLEDJA",
         "text": [
          "CLEDJA"
         ],
         "type": "scatter",
         "uid": "17f41448-0f98-11e9-ba4f-9cf387cc124e",
         "x": [
          "0 - 60"
         ],
         "y": [
          27
         ]
        },
        {
         "mode": "markers",
         "name": "CLEONAR",
         "text": [
          "CLEONAR"
         ],
         "type": "scatter",
         "uid": "17f41542-0f98-11e9-a71a-9cf387cc124e",
         "x": [
          "-"
         ],
         "y": [
          null
         ]
        },
        {
         "mode": "markers",
         "name": "CLESTON",
         "text": [
          "CLESTON"
         ],
         "type": "scatter",
         "uid": "17f4163a-0f98-11e9-8754-9cf387cc124e",
         "x": [
          "0 - 60"
         ],
         "y": [
          43
         ]
        },
        {
         "mode": "markers",
         "name": "CLUDIO",
         "text": [
          "CLUDIO"
         ],
         "type": "scatter",
         "uid": "17f41736-0f98-11e9-821a-9cf387cc124e",
         "x": [
          "-"
         ],
         "y": [
          null
         ]
        },
        {
         "mode": "markers",
         "name": "DAILA",
         "text": [
          "DAILA"
         ],
         "type": "scatter",
         "uid": "17f41830-0f98-11e9-ba0f-9cf387cc124e",
         "x": [
          "0 - 60"
         ],
         "y": [
          37
         ]
        },
        {
         "mode": "markers",
         "name": "DALZIZA",
         "text": [
          "DALZIZA"
         ],
         "type": "scatter",
         "uid": "17f41928-0f98-11e9-a16d-9cf387cc124e",
         "x": [
          "61 - 70"
         ],
         "y": [
          53
         ]
        },
        {
         "mode": "markers",
         "name": "DANGELA",
         "text": [
          "DANGELA"
         ],
         "type": "scatter",
         "uid": "17f41a1a-0f98-11e9-bee1-9cf387cc124e",
         "x": [
          "91 - 100"
         ],
         "y": [
          95
         ]
        },
        {
         "mode": "markers",
         "name": "DENIANE",
         "text": [
          "DENIANE"
         ],
         "type": "scatter",
         "uid": "17f41b14-0f98-11e9-8e0f-9cf387cc124e",
         "x": [
          "0 - 60"
         ],
         "y": [
          33
         ]
        },
        {
         "mode": "markers",
         "name": "DONIRA",
         "text": [
          "DONIRA"
         ],
         "type": "scatter",
         "uid": "17f41c54-0f98-11e9-b0d2-9cf387cc124e",
         "x": [
          "91 - 100"
         ],
         "y": [
          83
         ]
        },
        {
         "mode": "markers",
         "name": "DORICELIA",
         "text": [
          "DORICELIA"
         ],
         "type": "scatter",
         "uid": "17f41dba-0f98-11e9-b573-9cf387cc124e",
         "x": [
          "0 - 60"
         ],
         "y": [
          22
         ]
        },
        {
         "mode": "markers",
         "name": "ELIZANEA",
         "text": [
          "ELIZANEA"
         ],
         "type": "scatter",
         "uid": "17f41f2e-0f98-11e9-985a-9cf387cc124e",
         "x": [
          "-"
         ],
         "y": [
          null
         ]
        },
        {
         "mode": "markers",
         "name": "FLAVILSON",
         "text": [
          "FLAVILSON"
         ],
         "type": "scatter",
         "uid": "17f42098-0f98-11e9-9f92-9cf387cc124e",
         "x": [
          "-"
         ],
         "y": [
          null
         ]
        },
        {
         "mode": "markers",
         "name": "FRANCIELI",
         "text": [
          "FRANCIELI"
         ],
         "type": "scatter",
         "uid": "17f42208-0f98-11e9-9764-9cf387cc124e",
         "x": [
          "81 - 90"
         ],
         "y": [
          80
         ]
        },
        {
         "mode": "markers",
         "name": "HELOISA",
         "text": [
          "HELOISA"
         ],
         "type": "scatter",
         "uid": "17f42370-0f98-11e9-9740-9cf387cc124e",
         "x": [
          "71 - 80"
         ],
         "y": [
          78
         ]
        },
        {
         "mode": "markers",
         "name": "IAMINA",
         "text": [
          "IAMINA"
         ],
         "type": "scatter",
         "uid": "17f424e2-0f98-11e9-ac76-9cf387cc124e",
         "x": [
          "91 - 100"
         ],
         "y": [
          88
         ]
        },
        {
         "mode": "markers",
         "name": "ISLA",
         "text": [
          "ISLA"
         ],
         "type": "scatter",
         "uid": "17f4264a-0f98-11e9-b071-9cf387cc124e",
         "x": [
          "-"
         ],
         "y": [
          null
         ]
        },
        {
         "mode": "markers",
         "name": "IZIDRO",
         "text": [
          "IZIDRO"
         ],
         "type": "scatter",
         "uid": "17f427ba-0f98-11e9-9e63-9cf387cc124e",
         "x": [
          "81 - 90"
         ],
         "y": [
          85
         ]
        },
        {
         "mode": "markers",
         "name": "JANAIRA",
         "text": [
          "JANAIRA"
         ],
         "type": "scatter",
         "uid": "17f42942-0f98-11e9-99f5-9cf387cc124e",
         "x": [
          "61 - 70"
         ],
         "y": [
          60
         ]
        },
        {
         "mode": "markers",
         "name": "JOEMISON",
         "text": [
          "JOEMISON"
         ],
         "type": "scatter",
         "uid": "17f42ab4-0f98-11e9-9ddf-9cf387cc124e",
         "x": [
          "61 - 70"
         ],
         "y": [
          52
         ]
        },
        {
         "mode": "markers",
         "name": "KAISE",
         "text": [
          "KAISE"
         ],
         "type": "scatter",
         "uid": "17f42bfe-0f98-11e9-b500-9cf387cc124e",
         "x": [
          "61 - 70"
         ],
         "y": [
          60
         ]
        },
        {
         "mode": "markers",
         "name": "KAROLAINY",
         "text": [
          "KAROLAINY"
         ],
         "type": "scatter",
         "uid": "17f42dc0-0f98-11e9-9dcf-9cf387cc124e",
         "x": [
          "61 - 70"
         ],
         "y": [
          70
         ]
        },
        {
         "mode": "markers",
         "name": "KENEDE",
         "text": [
          "KENEDE"
         ],
         "type": "scatter",
         "uid": "17f42ecc-0f98-11e9-817f-9cf387cc124e",
         "x": [
          "0 - 60"
         ],
         "y": [
          32
         ]
        },
        {
         "mode": "markers",
         "name": "KEROLIN",
         "text": [
          "KEROLIN"
         ],
         "type": "scatter",
         "uid": "17f42fc8-0f98-11e9-9b92-9cf387cc124e",
         "x": [
          "61 - 70"
         ],
         "y": [
          63
         ]
        },
        {
         "mode": "markers",
         "name": "KIVIA",
         "text": [
          "KIVIA"
         ],
         "type": "scatter",
         "uid": "17f430b8-0f98-11e9-965f-9cf387cc124e",
         "x": [
          "-"
         ],
         "y": [
          null
         ]
        },
        {
         "mode": "markers",
         "name": "LILIA",
         "text": [
          "LILIA"
         ],
         "type": "scatter",
         "uid": "17f431b4-0f98-11e9-9a24-9cf387cc124e",
         "x": [
          "91 - 100"
         ],
         "y": [
          78
         ]
        },
        {
         "mode": "markers",
         "name": "LINDALCI",
         "text": [
          "LINDALCI"
         ],
         "type": "scatter",
         "uid": "17f432a2-0f98-11e9-8b33-9cf387cc124e",
         "x": [
          "71 - 80"
         ],
         "y": [
          75
         ]
        },
        {
         "mode": "markers",
         "name": "LION",
         "text": [
          "LION"
         ],
         "type": "scatter",
         "uid": "17f43392-0f98-11e9-85ef-9cf387cc124e",
         "x": [
          "81 - 90"
         ],
         "y": [
          86
         ]
        },
        {
         "mode": "markers",
         "name": "MABIA",
         "text": [
          "MABIA"
         ],
         "type": "scatter",
         "uid": "17f4348c-0f98-11e9-9987-9cf387cc124e",
         "x": [
          "91 - 100"
         ],
         "y": [
          94
         ]
        },
        {
         "mode": "markers",
         "name": "MARIELLE",
         "text": [
          "MARIELLE"
         ],
         "type": "scatter",
         "uid": "17f43586-0f98-11e9-8bcd-9cf387cc124e",
         "x": [
          "61 - 70"
         ],
         "y": [
          67
         ]
        },
        {
         "mode": "markers",
         "name": "MARINELMA",
         "text": [
          "MARINELMA"
         ],
         "type": "scatter",
         "uid": "17f436b4-0f98-11e9-b146-9cf387cc124e",
         "x": [
          "0 - 60"
         ],
         "y": [
          20
         ]
        },
        {
         "mode": "markers",
         "name": "MARINILSE",
         "text": [
          "MARINILSE"
         ],
         "type": "scatter",
         "uid": "17f437f4-0f98-11e9-97b1-9cf387cc124e",
         "x": [
          "-"
         ],
         "y": [
          null
         ]
        },
        {
         "mode": "markers",
         "name": "MIGUEL",
         "text": [
          "MIGUEL"
         ],
         "type": "scatter",
         "uid": "17f4395a-0f98-11e9-8110-9cf387cc124e",
         "x": [
          "81 - 90"
         ],
         "y": [
          89
         ]
        },
        {
         "mode": "markers",
         "name": "MINELVINA",
         "text": [
          "MINELVINA"
         ],
         "type": "scatter",
         "uid": "17f43ab8-0f98-11e9-990b-9cf387cc124e",
         "x": [
          "91 - 100"
         ],
         "y": [
          78
         ]
        },
        {
         "mode": "markers",
         "name": "NATALIN",
         "text": [
          "NATALIN"
         ],
         "type": "scatter",
         "uid": "17f43c18-0f98-11e9-b24f-9cf387cc124e",
         "x": [
          "61 - 70"
         ],
         "y": [
          61
         ]
        },
        {
         "mode": "markers",
         "name": "NILCILEA",
         "text": [
          "NILCILEA"
         ],
         "type": "scatter",
         "uid": "17f43d7e-0f98-11e9-92e8-9cf387cc124e",
         "x": [
          "81 - 90"
         ],
         "y": [
          77
         ]
        },
        {
         "mode": "markers",
         "name": "ODETINA",
         "text": [
          "ODETINA"
         ],
         "type": "scatter",
         "uid": "17f43ef0-0f98-11e9-a636-9cf387cc124e",
         "x": [
          "71 - 80"
         ],
         "y": [
          79
         ]
        },
        {
         "mode": "markers",
         "name": "RAISLANIA",
         "text": [
          "RAISLANIA"
         ],
         "type": "scatter",
         "uid": "17f44058-0f98-11e9-8efd-9cf387cc124e",
         "x": [
          "-"
         ],
         "y": [
          null
         ]
        },
        {
         "mode": "markers",
         "name": "RAMES",
         "text": [
          "RAMES"
         ],
         "type": "scatter",
         "uid": "17f441d4-0f98-11e9-960b-9cf387cc124e",
         "x": [
          "61 - 70"
         ],
         "y": [
          67
         ]
        },
        {
         "mode": "markers",
         "name": "RILARI",
         "text": [
          "RILARI"
         ],
         "type": "scatter",
         "uid": "17f44350-0f98-11e9-b0ce-9cf387cc124e",
         "x": [
          "81 - 90"
         ],
         "y": [
          84
         ]
        },
        {
         "mode": "markers",
         "name": "RUGLES",
         "text": [
          "RUGLES"
         ],
         "type": "scatter",
         "uid": "17f444d8-0f98-11e9-a234-9cf387cc124e",
         "x": [
          "91 - 100"
         ],
         "y": [
          88
         ]
        },
        {
         "mode": "markers",
         "name": "SADRACK",
         "text": [
          "SADRACK"
         ],
         "type": "scatter",
         "uid": "17f44652-0f98-11e9-a0de-9cf387cc124e",
         "x": [
          "71 - 80"
         ],
         "y": [
          78
         ]
        },
        {
         "mode": "markers",
         "name": "SEVERA",
         "text": [
          "SEVERA"
         ],
         "type": "scatter",
         "uid": "17f44758-0f98-11e9-841f-9cf387cc124e",
         "x": [
          "-"
         ],
         "y": [
          null
         ]
        },
        {
         "mode": "markers",
         "name": "SHIRLA",
         "text": [
          "SHIRLA"
         ],
         "type": "scatter",
         "uid": "17f44850-0f98-11e9-8795-9cf387cc124e",
         "x": [
          "0 - 60"
         ],
         "y": [
          33
         ]
        },
        {
         "mode": "markers",
         "name": "SILENE",
         "text": [
          "SILENE"
         ],
         "type": "scatter",
         "uid": "17f44940-0f98-11e9-9866-9cf387cc124e",
         "x": [
          "81 - 90"
         ],
         "y": [
          90
         ]
        },
        {
         "mode": "markers",
         "name": "SOFIA",
         "text": [
          "SOFIA"
         ],
         "type": "scatter",
         "uid": "17f44a30-0f98-11e9-8117-9cf387cc124e",
         "x": [
          "-"
         ],
         "y": [
          null
         ]
        },
        {
         "mode": "markers",
         "name": "SUELAINE",
         "text": [
          "SUELAINE"
         ],
         "type": "scatter",
         "uid": "17f44b1e-0f98-11e9-a871-9cf387cc124e",
         "x": [
          "-"
         ],
         "y": [
          null
         ]
        },
        {
         "mode": "markers",
         "name": "TABATA",
         "text": [
          "TABATA"
         ],
         "type": "scatter",
         "uid": "17f44c1a-0f98-11e9-a3e5-9cf387cc124e",
         "x": [
          "-"
         ],
         "y": [
          null
         ]
        },
        {
         "mode": "markers",
         "name": "TAYOMARA",
         "text": [
          "TAYOMARA"
         ],
         "type": "scatter",
         "uid": "17f44d6e-0f98-11e9-9d6a-9cf387cc124e",
         "x": [
          "-"
         ],
         "y": [
          null
         ]
        },
        {
         "mode": "markers",
         "name": "VALTERSON",
         "text": [
          "VALTERSON"
         ],
         "type": "scatter",
         "uid": "17f44e4a-0f98-11e9-87d0-9cf387cc124e",
         "x": [
          "0 - 60"
         ],
         "y": [
          37
         ]
        },
        {
         "mode": "markers",
         "name": "WERBER",
         "text": [
          "WERBER"
         ],
         "type": "scatter",
         "uid": "17f44f26-0f98-11e9-a239-9cf387cc124e",
         "x": [
          "91 - 100"
         ],
         "y": [
          74
         ]
        },
        {
         "mode": "markers",
         "name": "WOSHITON",
         "text": [
          "WOSHITON"
         ],
         "type": "scatter",
         "uid": "17f44ff8-0f98-11e9-ba6c-9cf387cc124e",
         "x": [
          "71 - 80"
         ],
         "y": [
          72
         ]
        },
        {
         "mode": "markers",
         "name": "YORRAN",
         "text": [
          "YORRAN"
         ],
         "type": "scatter",
         "uid": "17f450d4-0f98-11e9-9211-9cf387cc124e",
         "x": [
          "81 - 90"
         ],
         "y": [
          83
         ]
        }
       ],
       "layout": {
        "hovermode": "closest",
        "showlegend": true,
        "title": "--",
        "xaxis": {
         "rangemode": "normal",
         "showline": true,
         "title": "Predicted Grade",
         "titlefont": {
          "color": "rgb(180,180,180)"
         },
         "type": "category",
         "zeroline": false
        },
        "yaxis": {
         "autorange": false,
         "fixedrange": true,
         "range": [
          0,
          106
         ],
         "rangemode": "normal",
         "showline": true,
         "title": "Grade",
         "titlefont": {
          "color": "rgb(180,180,180)"
         }
        }
       }
      },
      "text/html": [
       "<div id=\"eebedb8f-e338-45ba-85db-26bc9bdf1ecb\" style=\"height: 525px; width: 100%;\" class=\"plotly-graph-div\"></div><script type=\"text/javascript\">require([\"plotly\"], function(Plotly) { window.PLOTLYENV=window.PLOTLYENV || {};window.PLOTLYENV.BASE_URL=\"https://plot.ly\";\n",
       "        Plotly.plot(\n",
       "            'eebedb8f-e338-45ba-85db-26bc9bdf1ecb',\n",
       "            [{\"mode\": \"markers\", \"name\": \"ABEL\", \"text\": [\"ABEL\"], \"x\": [\"61 - 70\"], \"y\": [61], \"type\": \"scatter\", \"uid\": \"17f3fb1e-0f98-11e9-9f11-9cf387cc124e\"}, {\"mode\": \"markers\", \"name\": \"ADIVAIR\", \"text\": [\"ADIVAIR\"], \"x\": [\"61 - 70\"], \"y\": [56], \"type\": \"scatter\", \"uid\": \"17f40ac0-0f98-11e9-933c-9cf387cc124e\"}, {\"mode\": \"markers\", \"name\": \"AGATA\", \"text\": [\"AGATA\"], \"x\": [\"91 - 100\"], \"y\": [88], \"type\": \"scatter\", \"uid\": \"17f40cbe-0f98-11e9-91a6-9cf387cc124e\"}, {\"mode\": \"markers\", \"name\": \"ALECE\", \"text\": [\"ALECE\"], \"x\": [\"71 - 80\"], \"y\": [78], \"type\": \"scatter\", \"uid\": \"17f40e58-0f98-11e9-a262-9cf387cc124e\"}, {\"mode\": \"markers\", \"name\": \"ALTINEI\", \"text\": [\"ALTINEI\"], \"x\": [\"81 - 90\"], \"y\": [88], \"type\": \"scatter\", \"uid\": \"17f41010-0f98-11e9-b26b-9cf387cc124e\"}, {\"mode\": \"markers\", \"name\": \"ARINEI\", \"text\": [\"ARINEI\"], \"x\": [\"61 - 70\"], \"y\": [63], \"type\": \"scatter\", \"uid\": \"17f41150-0f98-11e9-9e30-9cf387cc124e\"}, {\"mode\": \"markers\", \"name\": \"AROLDO\", \"text\": [\"AROLDO\"], \"x\": [\"91 - 100\"], \"y\": [96], \"type\": \"scatter\", \"uid\": \"17f4124a-0f98-11e9-bbc6-9cf387cc124e\"}, {\"mode\": \"markers\", \"name\": \"CELIA\", \"text\": [\"CELIA\"], \"x\": [\"91 - 100\"], \"y\": [75], \"type\": \"scatter\", \"uid\": \"17f4134c-0f98-11e9-bdf5-9cf387cc124e\"}, {\"mode\": \"markers\", \"name\": \"CLEDJA\", \"text\": [\"CLEDJA\"], \"x\": [\"0 - 60\"], \"y\": [27], \"type\": \"scatter\", \"uid\": \"17f41448-0f98-11e9-ba4f-9cf387cc124e\"}, {\"mode\": \"markers\", \"name\": \"CLEONAR\", \"text\": [\"CLEONAR\"], \"x\": [\"-\"], \"y\": [null], \"type\": \"scatter\", \"uid\": \"17f41542-0f98-11e9-a71a-9cf387cc124e\"}, {\"mode\": \"markers\", \"name\": \"CLESTON\", \"text\": [\"CLESTON\"], \"x\": [\"0 - 60\"], \"y\": [43], \"type\": \"scatter\", \"uid\": \"17f4163a-0f98-11e9-8754-9cf387cc124e\"}, {\"mode\": \"markers\", \"name\": \"CLUDIO\", \"text\": [\"CLUDIO\"], \"x\": [\"-\"], \"y\": [null], \"type\": \"scatter\", \"uid\": \"17f41736-0f98-11e9-821a-9cf387cc124e\"}, {\"mode\": \"markers\", \"name\": \"DAILA\", \"text\": [\"DAILA\"], \"x\": [\"0 - 60\"], \"y\": [37], \"type\": \"scatter\", \"uid\": \"17f41830-0f98-11e9-ba0f-9cf387cc124e\"}, {\"mode\": \"markers\", \"name\": \"DALZIZA\", \"text\": [\"DALZIZA\"], \"x\": [\"61 - 70\"], \"y\": [53], \"type\": \"scatter\", \"uid\": \"17f41928-0f98-11e9-a16d-9cf387cc124e\"}, {\"mode\": \"markers\", \"name\": \"DANGELA\", \"text\": [\"DANGELA\"], \"x\": [\"91 - 100\"], \"y\": [95], \"type\": \"scatter\", \"uid\": \"17f41a1a-0f98-11e9-bee1-9cf387cc124e\"}, {\"mode\": \"markers\", \"name\": \"DENIANE\", \"text\": [\"DENIANE\"], \"x\": [\"0 - 60\"], \"y\": [33], \"type\": \"scatter\", \"uid\": \"17f41b14-0f98-11e9-8e0f-9cf387cc124e\"}, {\"mode\": \"markers\", \"name\": \"DONIRA\", \"text\": [\"DONIRA\"], \"x\": [\"91 - 100\"], \"y\": [83], \"type\": \"scatter\", \"uid\": \"17f41c54-0f98-11e9-b0d2-9cf387cc124e\"}, {\"mode\": \"markers\", \"name\": \"DORICELIA\", \"text\": [\"DORICELIA\"], \"x\": [\"0 - 60\"], \"y\": [22], \"type\": \"scatter\", \"uid\": \"17f41dba-0f98-11e9-b573-9cf387cc124e\"}, {\"mode\": \"markers\", \"name\": \"ELIZANEA\", \"text\": [\"ELIZANEA\"], \"x\": [\"-\"], \"y\": [null], \"type\": \"scatter\", \"uid\": \"17f41f2e-0f98-11e9-985a-9cf387cc124e\"}, {\"mode\": \"markers\", \"name\": \"FLAVILSON\", \"text\": [\"FLAVILSON\"], \"x\": [\"-\"], \"y\": [null], \"type\": \"scatter\", \"uid\": \"17f42098-0f98-11e9-9f92-9cf387cc124e\"}, {\"mode\": \"markers\", \"name\": \"FRANCIELI\", \"text\": [\"FRANCIELI\"], \"x\": [\"81 - 90\"], \"y\": [80], \"type\": \"scatter\", \"uid\": \"17f42208-0f98-11e9-9764-9cf387cc124e\"}, {\"mode\": \"markers\", \"name\": \"HELOISA\", \"text\": [\"HELOISA\"], \"x\": [\"71 - 80\"], \"y\": [78], \"type\": \"scatter\", \"uid\": \"17f42370-0f98-11e9-9740-9cf387cc124e\"}, {\"mode\": \"markers\", \"name\": \"IAMINA\", \"text\": [\"IAMINA\"], \"x\": [\"91 - 100\"], \"y\": [88], \"type\": \"scatter\", \"uid\": \"17f424e2-0f98-11e9-ac76-9cf387cc124e\"}, {\"mode\": \"markers\", \"name\": \"ISLA\", \"text\": [\"ISLA\"], \"x\": [\"-\"], \"y\": [null], \"type\": \"scatter\", \"uid\": \"17f4264a-0f98-11e9-b071-9cf387cc124e\"}, {\"mode\": \"markers\", \"name\": \"IZIDRO\", \"text\": [\"IZIDRO\"], \"x\": [\"81 - 90\"], \"y\": [85], \"type\": \"scatter\", \"uid\": \"17f427ba-0f98-11e9-9e63-9cf387cc124e\"}, {\"mode\": \"markers\", \"name\": \"JANAIRA\", \"text\": [\"JANAIRA\"], \"x\": [\"61 - 70\"], \"y\": [60], \"type\": \"scatter\", \"uid\": \"17f42942-0f98-11e9-99f5-9cf387cc124e\"}, {\"mode\": \"markers\", \"name\": \"JOEMISON\", \"text\": [\"JOEMISON\"], \"x\": [\"61 - 70\"], \"y\": [52], \"type\": \"scatter\", \"uid\": \"17f42ab4-0f98-11e9-9ddf-9cf387cc124e\"}, {\"mode\": \"markers\", \"name\": \"KAISE\", \"text\": [\"KAISE\"], \"x\": [\"61 - 70\"], \"y\": [60], \"type\": \"scatter\", \"uid\": \"17f42bfe-0f98-11e9-b500-9cf387cc124e\"}, {\"mode\": \"markers\", \"name\": \"KAROLAINY\", \"text\": [\"KAROLAINY\"], \"x\": [\"61 - 70\"], \"y\": [70], \"type\": \"scatter\", \"uid\": \"17f42dc0-0f98-11e9-9dcf-9cf387cc124e\"}, {\"mode\": \"markers\", \"name\": \"KENEDE\", \"text\": [\"KENEDE\"], \"x\": [\"0 - 60\"], \"y\": [32], \"type\": \"scatter\", \"uid\": \"17f42ecc-0f98-11e9-817f-9cf387cc124e\"}, {\"mode\": \"markers\", \"name\": \"KEROLIN\", \"text\": [\"KEROLIN\"], \"x\": [\"61 - 70\"], \"y\": [63], \"type\": \"scatter\", \"uid\": \"17f42fc8-0f98-11e9-9b92-9cf387cc124e\"}, {\"mode\": \"markers\", \"name\": \"KIVIA\", \"text\": [\"KIVIA\"], \"x\": [\"-\"], \"y\": [null], \"type\": \"scatter\", \"uid\": \"17f430b8-0f98-11e9-965f-9cf387cc124e\"}, {\"mode\": \"markers\", \"name\": \"LILIA\", \"text\": [\"LILIA\"], \"x\": [\"91 - 100\"], \"y\": [78], \"type\": \"scatter\", \"uid\": \"17f431b4-0f98-11e9-9a24-9cf387cc124e\"}, {\"mode\": \"markers\", \"name\": \"LINDALCI\", \"text\": [\"LINDALCI\"], \"x\": [\"71 - 80\"], \"y\": [75], \"type\": \"scatter\", \"uid\": \"17f432a2-0f98-11e9-8b33-9cf387cc124e\"}, {\"mode\": \"markers\", \"name\": \"LION\", \"text\": [\"LION\"], \"x\": [\"81 - 90\"], \"y\": [86], \"type\": \"scatter\", \"uid\": \"17f43392-0f98-11e9-85ef-9cf387cc124e\"}, {\"mode\": \"markers\", \"name\": \"MABIA\", \"text\": [\"MABIA\"], \"x\": [\"91 - 100\"], \"y\": [94], \"type\": \"scatter\", \"uid\": \"17f4348c-0f98-11e9-9987-9cf387cc124e\"}, {\"mode\": \"markers\", \"name\": \"MARIELLE\", \"text\": [\"MARIELLE\"], \"x\": [\"61 - 70\"], \"y\": [67], \"type\": \"scatter\", \"uid\": \"17f43586-0f98-11e9-8bcd-9cf387cc124e\"}, {\"mode\": \"markers\", \"name\": \"MARINELMA\", \"text\": [\"MARINELMA\"], \"x\": [\"0 - 60\"], \"y\": [20], \"type\": \"scatter\", \"uid\": \"17f436b4-0f98-11e9-b146-9cf387cc124e\"}, {\"mode\": \"markers\", \"name\": \"MARINILSE\", \"text\": [\"MARINILSE\"], \"x\": [\"-\"], \"y\": [null], \"type\": \"scatter\", \"uid\": \"17f437f4-0f98-11e9-97b1-9cf387cc124e\"}, {\"mode\": \"markers\", \"name\": \"MIGUEL\", \"text\": [\"MIGUEL\"], \"x\": [\"81 - 90\"], \"y\": [89], \"type\": \"scatter\", \"uid\": \"17f4395a-0f98-11e9-8110-9cf387cc124e\"}, {\"mode\": \"markers\", \"name\": \"MINELVINA\", \"text\": [\"MINELVINA\"], \"x\": [\"91 - 100\"], \"y\": [78], \"type\": \"scatter\", \"uid\": \"17f43ab8-0f98-11e9-990b-9cf387cc124e\"}, {\"mode\": \"markers\", \"name\": \"NATALIN\", \"text\": [\"NATALIN\"], \"x\": [\"61 - 70\"], \"y\": [61], \"type\": \"scatter\", \"uid\": \"17f43c18-0f98-11e9-b24f-9cf387cc124e\"}, {\"mode\": \"markers\", \"name\": \"NILCILEA\", \"text\": [\"NILCILEA\"], \"x\": [\"81 - 90\"], \"y\": [77], \"type\": \"scatter\", \"uid\": \"17f43d7e-0f98-11e9-92e8-9cf387cc124e\"}, {\"mode\": \"markers\", \"name\": \"ODETINA\", \"text\": [\"ODETINA\"], \"x\": [\"71 - 80\"], \"y\": [79], \"type\": \"scatter\", \"uid\": \"17f43ef0-0f98-11e9-a636-9cf387cc124e\"}, {\"mode\": \"markers\", \"name\": \"RAISLANIA\", \"text\": [\"RAISLANIA\"], \"x\": [\"-\"], \"y\": [null], \"type\": \"scatter\", \"uid\": \"17f44058-0f98-11e9-8efd-9cf387cc124e\"}, {\"mode\": \"markers\", \"name\": \"RAMES\", \"text\": [\"RAMES\"], \"x\": [\"61 - 70\"], \"y\": [67], \"type\": \"scatter\", \"uid\": \"17f441d4-0f98-11e9-960b-9cf387cc124e\"}, {\"mode\": \"markers\", \"name\": \"RILARI\", \"text\": [\"RILARI\"], \"x\": [\"81 - 90\"], \"y\": [84], \"type\": \"scatter\", \"uid\": \"17f44350-0f98-11e9-b0ce-9cf387cc124e\"}, {\"mode\": \"markers\", \"name\": \"RUGLES\", \"text\": [\"RUGLES\"], \"x\": [\"91 - 100\"], \"y\": [88], \"type\": \"scatter\", \"uid\": \"17f444d8-0f98-11e9-a234-9cf387cc124e\"}, {\"mode\": \"markers\", \"name\": \"SADRACK\", \"text\": [\"SADRACK\"], \"x\": [\"71 - 80\"], \"y\": [78], \"type\": \"scatter\", \"uid\": \"17f44652-0f98-11e9-a0de-9cf387cc124e\"}, {\"mode\": \"markers\", \"name\": \"SEVERA\", \"text\": [\"SEVERA\"], \"x\": [\"-\"], \"y\": [null], \"type\": \"scatter\", \"uid\": \"17f44758-0f98-11e9-841f-9cf387cc124e\"}, {\"mode\": \"markers\", \"name\": \"SHIRLA\", \"text\": [\"SHIRLA\"], \"x\": [\"0 - 60\"], \"y\": [33], \"type\": \"scatter\", \"uid\": \"17f44850-0f98-11e9-8795-9cf387cc124e\"}, {\"mode\": \"markers\", \"name\": \"SILENE\", \"text\": [\"SILENE\"], \"x\": [\"81 - 90\"], \"y\": [90], \"type\": \"scatter\", \"uid\": \"17f44940-0f98-11e9-9866-9cf387cc124e\"}, {\"mode\": \"markers\", \"name\": \"SOFIA\", \"text\": [\"SOFIA\"], \"x\": [\"-\"], \"y\": [null], \"type\": \"scatter\", \"uid\": \"17f44a30-0f98-11e9-8117-9cf387cc124e\"}, {\"mode\": \"markers\", \"name\": \"SUELAINE\", \"text\": [\"SUELAINE\"], \"x\": [\"-\"], \"y\": [null], \"type\": \"scatter\", \"uid\": \"17f44b1e-0f98-11e9-a871-9cf387cc124e\"}, {\"mode\": \"markers\", \"name\": \"TABATA\", \"text\": [\"TABATA\"], \"x\": [\"-\"], \"y\": [null], \"type\": \"scatter\", \"uid\": \"17f44c1a-0f98-11e9-a3e5-9cf387cc124e\"}, {\"mode\": \"markers\", \"name\": \"TAYOMARA\", \"text\": [\"TAYOMARA\"], \"x\": [\"-\"], \"y\": [null], \"type\": \"scatter\", \"uid\": \"17f44d6e-0f98-11e9-9d6a-9cf387cc124e\"}, {\"mode\": \"markers\", \"name\": \"VALTERSON\", \"text\": [\"VALTERSON\"], \"x\": [\"0 - 60\"], \"y\": [37], \"type\": \"scatter\", \"uid\": \"17f44e4a-0f98-11e9-87d0-9cf387cc124e\"}, {\"mode\": \"markers\", \"name\": \"WERBER\", \"text\": [\"WERBER\"], \"x\": [\"91 - 100\"], \"y\": [74], \"type\": \"scatter\", \"uid\": \"17f44f26-0f98-11e9-a239-9cf387cc124e\"}, {\"mode\": \"markers\", \"name\": \"WOSHITON\", \"text\": [\"WOSHITON\"], \"x\": [\"71 - 80\"], \"y\": [72], \"type\": \"scatter\", \"uid\": \"17f44ff8-0f98-11e9-ba6c-9cf387cc124e\"}, {\"mode\": \"markers\", \"name\": \"YORRAN\", \"text\": [\"YORRAN\"], \"x\": [\"81 - 90\"], \"y\": [83], \"type\": \"scatter\", \"uid\": \"17f450d4-0f98-11e9-9211-9cf387cc124e\"}],\n",
       "            {\"hovermode\": \"closest\", \"showlegend\": true, \"title\": \"--\", \"xaxis\": {\"rangemode\": \"normal\", \"showline\": true, \"title\": \"Predicted Grade\", \"titlefont\": {\"color\": \"rgb(180,180,180)\"}, \"type\": \"category\", \"zeroline\": false}, \"yaxis\": {\"autorange\": false, \"fixedrange\": true, \"range\": [0, 106], \"rangemode\": \"normal\", \"showline\": true, \"title\": \"Grade\", \"titlefont\": {\"color\": \"rgb(180,180,180)\"}}},\n",
       "            {\"showLink\": true, \"linkText\": \"Export to plot.ly\"}\n",
       "        ).then(function () {return Plotly.addFrames('eebedb8f-e338-45ba-85db-26bc9bdf1ecb',{});}).then(function(){Plotly.animate('eebedb8f-e338-45ba-85db-26bc9bdf1ecb');})\n",
       "        });</script>"
      ],
      "text/vnd.plotly.v1+html": [
       "<div id=\"eebedb8f-e338-45ba-85db-26bc9bdf1ecb\" style=\"height: 525px; width: 100%;\" class=\"plotly-graph-div\"></div><script type=\"text/javascript\">require([\"plotly\"], function(Plotly) { window.PLOTLYENV=window.PLOTLYENV || {};window.PLOTLYENV.BASE_URL=\"https://plot.ly\";\n",
       "        Plotly.plot(\n",
       "            'eebedb8f-e338-45ba-85db-26bc9bdf1ecb',\n",
       "            [{\"mode\": \"markers\", \"name\": \"ABEL\", \"text\": [\"ABEL\"], \"x\": [\"61 - 70\"], \"y\": [61], \"type\": \"scatter\", \"uid\": \"17f3fb1e-0f98-11e9-9f11-9cf387cc124e\"}, {\"mode\": \"markers\", \"name\": \"ADIVAIR\", \"text\": [\"ADIVAIR\"], \"x\": [\"61 - 70\"], \"y\": [56], \"type\": \"scatter\", \"uid\": \"17f40ac0-0f98-11e9-933c-9cf387cc124e\"}, {\"mode\": \"markers\", \"name\": \"AGATA\", \"text\": [\"AGATA\"], \"x\": [\"91 - 100\"], \"y\": [88], \"type\": \"scatter\", \"uid\": \"17f40cbe-0f98-11e9-91a6-9cf387cc124e\"}, {\"mode\": \"markers\", \"name\": \"ALECE\", \"text\": [\"ALECE\"], \"x\": [\"71 - 80\"], \"y\": [78], \"type\": \"scatter\", \"uid\": \"17f40e58-0f98-11e9-a262-9cf387cc124e\"}, {\"mode\": \"markers\", \"name\": \"ALTINEI\", \"text\": [\"ALTINEI\"], \"x\": [\"81 - 90\"], \"y\": [88], \"type\": \"scatter\", \"uid\": \"17f41010-0f98-11e9-b26b-9cf387cc124e\"}, {\"mode\": \"markers\", \"name\": \"ARINEI\", \"text\": [\"ARINEI\"], \"x\": [\"61 - 70\"], \"y\": [63], \"type\": \"scatter\", \"uid\": \"17f41150-0f98-11e9-9e30-9cf387cc124e\"}, {\"mode\": \"markers\", \"name\": \"AROLDO\", \"text\": [\"AROLDO\"], \"x\": [\"91 - 100\"], \"y\": [96], \"type\": \"scatter\", \"uid\": \"17f4124a-0f98-11e9-bbc6-9cf387cc124e\"}, {\"mode\": \"markers\", \"name\": \"CELIA\", \"text\": [\"CELIA\"], \"x\": [\"91 - 100\"], \"y\": [75], \"type\": \"scatter\", \"uid\": \"17f4134c-0f98-11e9-bdf5-9cf387cc124e\"}, {\"mode\": \"markers\", \"name\": \"CLEDJA\", \"text\": [\"CLEDJA\"], \"x\": [\"0 - 60\"], \"y\": [27], \"type\": \"scatter\", \"uid\": \"17f41448-0f98-11e9-ba4f-9cf387cc124e\"}, {\"mode\": \"markers\", \"name\": \"CLEONAR\", \"text\": [\"CLEONAR\"], \"x\": [\"-\"], \"y\": [null], \"type\": \"scatter\", \"uid\": \"17f41542-0f98-11e9-a71a-9cf387cc124e\"}, {\"mode\": \"markers\", \"name\": \"CLESTON\", \"text\": [\"CLESTON\"], \"x\": [\"0 - 60\"], \"y\": [43], \"type\": \"scatter\", \"uid\": \"17f4163a-0f98-11e9-8754-9cf387cc124e\"}, {\"mode\": \"markers\", \"name\": \"CLUDIO\", \"text\": [\"CLUDIO\"], \"x\": [\"-\"], \"y\": [null], \"type\": \"scatter\", \"uid\": \"17f41736-0f98-11e9-821a-9cf387cc124e\"}, {\"mode\": \"markers\", \"name\": \"DAILA\", \"text\": [\"DAILA\"], \"x\": [\"0 - 60\"], \"y\": [37], \"type\": \"scatter\", \"uid\": \"17f41830-0f98-11e9-ba0f-9cf387cc124e\"}, {\"mode\": \"markers\", \"name\": \"DALZIZA\", \"text\": [\"DALZIZA\"], \"x\": [\"61 - 70\"], \"y\": [53], \"type\": \"scatter\", \"uid\": \"17f41928-0f98-11e9-a16d-9cf387cc124e\"}, {\"mode\": \"markers\", \"name\": \"DANGELA\", \"text\": [\"DANGELA\"], \"x\": [\"91 - 100\"], \"y\": [95], \"type\": \"scatter\", \"uid\": \"17f41a1a-0f98-11e9-bee1-9cf387cc124e\"}, {\"mode\": \"markers\", \"name\": \"DENIANE\", \"text\": [\"DENIANE\"], \"x\": [\"0 - 60\"], \"y\": [33], \"type\": \"scatter\", \"uid\": \"17f41b14-0f98-11e9-8e0f-9cf387cc124e\"}, {\"mode\": \"markers\", \"name\": \"DONIRA\", \"text\": [\"DONIRA\"], \"x\": [\"91 - 100\"], \"y\": [83], \"type\": \"scatter\", \"uid\": \"17f41c54-0f98-11e9-b0d2-9cf387cc124e\"}, {\"mode\": \"markers\", \"name\": \"DORICELIA\", \"text\": [\"DORICELIA\"], \"x\": [\"0 - 60\"], \"y\": [22], \"type\": \"scatter\", \"uid\": \"17f41dba-0f98-11e9-b573-9cf387cc124e\"}, {\"mode\": \"markers\", \"name\": \"ELIZANEA\", \"text\": [\"ELIZANEA\"], \"x\": [\"-\"], \"y\": [null], \"type\": \"scatter\", \"uid\": \"17f41f2e-0f98-11e9-985a-9cf387cc124e\"}, {\"mode\": \"markers\", \"name\": \"FLAVILSON\", \"text\": [\"FLAVILSON\"], \"x\": [\"-\"], \"y\": [null], \"type\": \"scatter\", \"uid\": \"17f42098-0f98-11e9-9f92-9cf387cc124e\"}, {\"mode\": \"markers\", \"name\": \"FRANCIELI\", \"text\": [\"FRANCIELI\"], \"x\": [\"81 - 90\"], \"y\": [80], \"type\": \"scatter\", \"uid\": \"17f42208-0f98-11e9-9764-9cf387cc124e\"}, {\"mode\": \"markers\", \"name\": \"HELOISA\", \"text\": [\"HELOISA\"], \"x\": [\"71 - 80\"], \"y\": [78], \"type\": \"scatter\", \"uid\": \"17f42370-0f98-11e9-9740-9cf387cc124e\"}, {\"mode\": \"markers\", \"name\": \"IAMINA\", \"text\": [\"IAMINA\"], \"x\": [\"91 - 100\"], \"y\": [88], \"type\": \"scatter\", \"uid\": \"17f424e2-0f98-11e9-ac76-9cf387cc124e\"}, {\"mode\": \"markers\", \"name\": \"ISLA\", \"text\": [\"ISLA\"], \"x\": [\"-\"], \"y\": [null], \"type\": \"scatter\", \"uid\": \"17f4264a-0f98-11e9-b071-9cf387cc124e\"}, {\"mode\": \"markers\", \"name\": \"IZIDRO\", \"text\": [\"IZIDRO\"], \"x\": [\"81 - 90\"], \"y\": [85], \"type\": \"scatter\", \"uid\": \"17f427ba-0f98-11e9-9e63-9cf387cc124e\"}, {\"mode\": \"markers\", \"name\": \"JANAIRA\", \"text\": [\"JANAIRA\"], \"x\": [\"61 - 70\"], \"y\": [60], \"type\": \"scatter\", \"uid\": \"17f42942-0f98-11e9-99f5-9cf387cc124e\"}, {\"mode\": \"markers\", \"name\": \"JOEMISON\", \"text\": [\"JOEMISON\"], \"x\": [\"61 - 70\"], \"y\": [52], \"type\": \"scatter\", \"uid\": \"17f42ab4-0f98-11e9-9ddf-9cf387cc124e\"}, {\"mode\": \"markers\", \"name\": \"KAISE\", \"text\": [\"KAISE\"], \"x\": [\"61 - 70\"], \"y\": [60], \"type\": \"scatter\", \"uid\": \"17f42bfe-0f98-11e9-b500-9cf387cc124e\"}, {\"mode\": \"markers\", \"name\": \"KAROLAINY\", \"text\": [\"KAROLAINY\"], \"x\": [\"61 - 70\"], \"y\": [70], \"type\": \"scatter\", \"uid\": \"17f42dc0-0f98-11e9-9dcf-9cf387cc124e\"}, {\"mode\": \"markers\", \"name\": \"KENEDE\", \"text\": [\"KENEDE\"], \"x\": [\"0 - 60\"], \"y\": [32], \"type\": \"scatter\", \"uid\": \"17f42ecc-0f98-11e9-817f-9cf387cc124e\"}, {\"mode\": \"markers\", \"name\": \"KEROLIN\", \"text\": [\"KEROLIN\"], \"x\": [\"61 - 70\"], \"y\": [63], \"type\": \"scatter\", \"uid\": \"17f42fc8-0f98-11e9-9b92-9cf387cc124e\"}, {\"mode\": \"markers\", \"name\": \"KIVIA\", \"text\": [\"KIVIA\"], \"x\": [\"-\"], \"y\": [null], \"type\": \"scatter\", \"uid\": \"17f430b8-0f98-11e9-965f-9cf387cc124e\"}, {\"mode\": \"markers\", \"name\": \"LILIA\", \"text\": [\"LILIA\"], \"x\": [\"91 - 100\"], \"y\": [78], \"type\": \"scatter\", \"uid\": \"17f431b4-0f98-11e9-9a24-9cf387cc124e\"}, {\"mode\": \"markers\", \"name\": \"LINDALCI\", \"text\": [\"LINDALCI\"], \"x\": [\"71 - 80\"], \"y\": [75], \"type\": \"scatter\", \"uid\": \"17f432a2-0f98-11e9-8b33-9cf387cc124e\"}, {\"mode\": \"markers\", \"name\": \"LION\", \"text\": [\"LION\"], \"x\": [\"81 - 90\"], \"y\": [86], \"type\": \"scatter\", \"uid\": \"17f43392-0f98-11e9-85ef-9cf387cc124e\"}, {\"mode\": \"markers\", \"name\": \"MABIA\", \"text\": [\"MABIA\"], \"x\": [\"91 - 100\"], \"y\": [94], \"type\": \"scatter\", \"uid\": \"17f4348c-0f98-11e9-9987-9cf387cc124e\"}, {\"mode\": \"markers\", \"name\": \"MARIELLE\", \"text\": [\"MARIELLE\"], \"x\": [\"61 - 70\"], \"y\": [67], \"type\": \"scatter\", \"uid\": \"17f43586-0f98-11e9-8bcd-9cf387cc124e\"}, {\"mode\": \"markers\", \"name\": \"MARINELMA\", \"text\": [\"MARINELMA\"], \"x\": [\"0 - 60\"], \"y\": [20], \"type\": \"scatter\", \"uid\": \"17f436b4-0f98-11e9-b146-9cf387cc124e\"}, {\"mode\": \"markers\", \"name\": \"MARINILSE\", \"text\": [\"MARINILSE\"], \"x\": [\"-\"], \"y\": [null], \"type\": \"scatter\", \"uid\": \"17f437f4-0f98-11e9-97b1-9cf387cc124e\"}, {\"mode\": \"markers\", \"name\": \"MIGUEL\", \"text\": [\"MIGUEL\"], \"x\": [\"81 - 90\"], \"y\": [89], \"type\": \"scatter\", \"uid\": \"17f4395a-0f98-11e9-8110-9cf387cc124e\"}, {\"mode\": \"markers\", \"name\": \"MINELVINA\", \"text\": [\"MINELVINA\"], \"x\": [\"91 - 100\"], \"y\": [78], \"type\": \"scatter\", \"uid\": \"17f43ab8-0f98-11e9-990b-9cf387cc124e\"}, {\"mode\": \"markers\", \"name\": \"NATALIN\", \"text\": [\"NATALIN\"], \"x\": [\"61 - 70\"], \"y\": [61], \"type\": \"scatter\", \"uid\": \"17f43c18-0f98-11e9-b24f-9cf387cc124e\"}, {\"mode\": \"markers\", \"name\": \"NILCILEA\", \"text\": [\"NILCILEA\"], \"x\": [\"81 - 90\"], \"y\": [77], \"type\": \"scatter\", \"uid\": \"17f43d7e-0f98-11e9-92e8-9cf387cc124e\"}, {\"mode\": \"markers\", \"name\": \"ODETINA\", \"text\": [\"ODETINA\"], \"x\": [\"71 - 80\"], \"y\": [79], \"type\": \"scatter\", \"uid\": \"17f43ef0-0f98-11e9-a636-9cf387cc124e\"}, {\"mode\": \"markers\", \"name\": \"RAISLANIA\", \"text\": [\"RAISLANIA\"], \"x\": [\"-\"], \"y\": [null], \"type\": \"scatter\", \"uid\": \"17f44058-0f98-11e9-8efd-9cf387cc124e\"}, {\"mode\": \"markers\", \"name\": \"RAMES\", \"text\": [\"RAMES\"], \"x\": [\"61 - 70\"], \"y\": [67], \"type\": \"scatter\", \"uid\": \"17f441d4-0f98-11e9-960b-9cf387cc124e\"}, {\"mode\": \"markers\", \"name\": \"RILARI\", \"text\": [\"RILARI\"], \"x\": [\"81 - 90\"], \"y\": [84], \"type\": \"scatter\", \"uid\": \"17f44350-0f98-11e9-b0ce-9cf387cc124e\"}, {\"mode\": \"markers\", \"name\": \"RUGLES\", \"text\": [\"RUGLES\"], \"x\": [\"91 - 100\"], \"y\": [88], \"type\": \"scatter\", \"uid\": \"17f444d8-0f98-11e9-a234-9cf387cc124e\"}, {\"mode\": \"markers\", \"name\": \"SADRACK\", \"text\": [\"SADRACK\"], \"x\": [\"71 - 80\"], \"y\": [78], \"type\": \"scatter\", \"uid\": \"17f44652-0f98-11e9-a0de-9cf387cc124e\"}, {\"mode\": \"markers\", \"name\": \"SEVERA\", \"text\": [\"SEVERA\"], \"x\": [\"-\"], \"y\": [null], \"type\": \"scatter\", \"uid\": \"17f44758-0f98-11e9-841f-9cf387cc124e\"}, {\"mode\": \"markers\", \"name\": \"SHIRLA\", \"text\": [\"SHIRLA\"], \"x\": [\"0 - 60\"], \"y\": [33], \"type\": \"scatter\", \"uid\": \"17f44850-0f98-11e9-8795-9cf387cc124e\"}, {\"mode\": \"markers\", \"name\": \"SILENE\", \"text\": [\"SILENE\"], \"x\": [\"81 - 90\"], \"y\": [90], \"type\": \"scatter\", \"uid\": \"17f44940-0f98-11e9-9866-9cf387cc124e\"}, {\"mode\": \"markers\", \"name\": \"SOFIA\", \"text\": [\"SOFIA\"], \"x\": [\"-\"], \"y\": [null], \"type\": \"scatter\", \"uid\": \"17f44a30-0f98-11e9-8117-9cf387cc124e\"}, {\"mode\": \"markers\", \"name\": \"SUELAINE\", \"text\": [\"SUELAINE\"], \"x\": [\"-\"], \"y\": [null], \"type\": \"scatter\", \"uid\": \"17f44b1e-0f98-11e9-a871-9cf387cc124e\"}, {\"mode\": \"markers\", \"name\": \"TABATA\", \"text\": [\"TABATA\"], \"x\": [\"-\"], \"y\": [null], \"type\": \"scatter\", \"uid\": \"17f44c1a-0f98-11e9-a3e5-9cf387cc124e\"}, {\"mode\": \"markers\", \"name\": \"TAYOMARA\", \"text\": [\"TAYOMARA\"], \"x\": [\"-\"], \"y\": [null], \"type\": \"scatter\", \"uid\": \"17f44d6e-0f98-11e9-9d6a-9cf387cc124e\"}, {\"mode\": \"markers\", \"name\": \"VALTERSON\", \"text\": [\"VALTERSON\"], \"x\": [\"0 - 60\"], \"y\": [37], \"type\": \"scatter\", \"uid\": \"17f44e4a-0f98-11e9-87d0-9cf387cc124e\"}, {\"mode\": \"markers\", \"name\": \"WERBER\", \"text\": [\"WERBER\"], \"x\": [\"91 - 100\"], \"y\": [74], \"type\": \"scatter\", \"uid\": \"17f44f26-0f98-11e9-a239-9cf387cc124e\"}, {\"mode\": \"markers\", \"name\": \"WOSHITON\", \"text\": [\"WOSHITON\"], \"x\": [\"71 - 80\"], \"y\": [72], \"type\": \"scatter\", \"uid\": \"17f44ff8-0f98-11e9-ba6c-9cf387cc124e\"}, {\"mode\": \"markers\", \"name\": \"YORRAN\", \"text\": [\"YORRAN\"], \"x\": [\"81 - 90\"], \"y\": [83], \"type\": \"scatter\", \"uid\": \"17f450d4-0f98-11e9-9211-9cf387cc124e\"}],\n",
       "            {\"hovermode\": \"closest\", \"showlegend\": true, \"title\": \"--\", \"xaxis\": {\"rangemode\": \"normal\", \"showline\": true, \"title\": \"Predicted Grade\", \"titlefont\": {\"color\": \"rgb(180,180,180)\"}, \"type\": \"category\", \"zeroline\": false}, \"yaxis\": {\"autorange\": false, \"fixedrange\": true, \"range\": [0, 106], \"rangemode\": \"normal\", \"showline\": true, \"title\": \"Grade\", \"titlefont\": {\"color\": \"rgb(180,180,180)\"}}},\n",
       "            {\"showLink\": true, \"linkText\": \"Export to plot.ly\"}\n",
       "        ).then(function () {return Plotly.addFrames('eebedb8f-e338-45ba-85db-26bc9bdf1ecb',{});}).then(function(){Plotly.animate('eebedb8f-e338-45ba-85db-26bc9bdf1ecb');})\n",
       "        });</script>"
      ]
     },
     "metadata": {},
     "output_type": "display_data"
    }
   ],
   "source": [
    "instance = V007()\n",
    "instance.generate_dataset(number_students = 60)\n",
    "# instance.print_all_graphs(\"pt\")\n",
    "instance.print_all_graphs(\"en\")"
   ]
  },
  {
   "cell_type": "markdown",
   "metadata": {},
   "source": [
    "### View 008 - Acesso dos estudantes no AVA por dia ou semana"
   ]
  },
  {
   "cell_type": "code",
   "execution_count": null,
   "metadata": {
    "scrolled": true
   },
   "outputs": [],
   "source": [
    "run V008.py"
   ]
  },
  {
   "cell_type": "code",
   "execution_count": null,
   "metadata": {
    "scrolled": false
   },
   "outputs": [],
   "source": [
    "instance = V008()\n",
    "instance.generate_dataset(number_students=35, number_weeks=7)\n",
    "# instance.print_all_graphs(\"pt\")\n",
    "instance.print_all_graphs(\"en\")"
   ]
  },
  {
   "cell_type": "markdown",
   "metadata": {},
   "source": [
    "### View 009 - Interação dos estudantes nos vídeos (play, pause, backward, forward)"
   ]
  },
  {
   "cell_type": "code",
   "execution_count": null,
   "metadata": {},
   "outputs": [],
   "source": [
    "import sys\n",
    "print(sys.version)"
   ]
  },
  {
   "cell_type": "code",
   "execution_count": null,
   "metadata": {},
   "outputs": [],
   "source": [
    "run V009.py"
   ]
  },
  {
   "cell_type": "code",
   "execution_count": null,
   "metadata": {
    "scrolled": false
   },
   "outputs": [],
   "source": [
    "instance = V009()\n",
    "instance.generate_dataset(number_actions = 50, video_size=60)\n",
    "# instance.print_all_graphs(\"pt\")\n",
    "instance.print_all_graphs(\"en\")"
   ]
  },
  {
   "cell_type": "markdown",
   "metadata": {},
   "source": [
    "### View 010 - Vídeos que os estudantes entenderam e não entenderam"
   ]
  },
  {
   "cell_type": "code",
   "execution_count": null,
   "metadata": {
    "scrolled": true
   },
   "outputs": [],
   "source": [
    "run V010.py"
   ]
  },
  {
   "cell_type": "code",
   "execution_count": null,
   "metadata": {
    "scrolled": false
   },
   "outputs": [],
   "source": [
    "instance = V010()\n",
    "instance.generate_dataset(number_students=35, number_video=10)\n",
    "# instance.print_all_graphs(\"pt\")\n",
    "instance.print_all_graphs(\"en\")"
   ]
  },
  {
   "cell_type": "markdown",
   "metadata": {},
   "source": [
    "### View 011 - Padrão de navegação dos estudantes no AVA"
   ]
  },
  {
   "cell_type": "code",
   "execution_count": null,
   "metadata": {},
   "outputs": [],
   "source": [
    "run V011.py"
   ]
  },
  {
   "cell_type": "code",
   "execution_count": null,
   "metadata": {},
   "outputs": [],
   "source": []
  },
  {
   "cell_type": "code",
   "execution_count": null,
   "metadata": {},
   "outputs": [],
   "source": []
  }
 ],
 "metadata": {
  "kernelspec": {
   "display_name": "Python 3",
   "language": "python",
   "name": "python3"
  },
  "language_info": {
   "codemirror_mode": {
    "name": "ipython",
    "version": 3
   },
   "file_extension": ".py",
   "mimetype": "text/x-python",
   "name": "python",
   "nbconvert_exporter": "python",
   "pygments_lexer": "ipython3",
   "version": "3.6.5"
  }
 },
 "nbformat": 4,
 "nbformat_minor": 2
}
