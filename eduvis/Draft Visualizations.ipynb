{
 "cells": [
  {
   "cell_type": "markdown",
   "metadata": {},
   "source": [
    "### View 001 - Tarefas feitas pelos estudantes"
   ]
  },
  {
   "cell_type": "code",
   "execution_count": null,
   "metadata": {},
   "outputs": [],
   "source": [
    "run V001.py"
   ]
  },
  {
   "cell_type": "code",
   "execution_count": null,
   "metadata": {
    "scrolled": true
   },
   "outputs": [],
   "source": [
    "instance = V001()\n",
    "instance.generate_dataset(number_students = 20, number_assigns = 10)\n",
    "# instance.print_all_graphs(\"pt\")\n",
    "instance.print_all_graphs(\"en\")"
   ]
  },
  {
   "cell_type": "markdown",
   "metadata": {},
   "source": [
    "### View 002 - Acesso dos estudantes aos materiais (ex: videos, ebooks, etc.)"
   ]
  },
  {
   "cell_type": "code",
   "execution_count": null,
   "metadata": {
    "scrolled": true
   },
   "outputs": [],
   "source": [
    "run V002.py"
   ]
  },
  {
   "cell_type": "code",
   "execution_count": null,
   "metadata": {},
   "outputs": [],
   "source": [
    "instance = V002()\n",
    "instance.generate_dataset(number_students = 20)\n",
    "# instance.print_all_graphs(\"pt\")\n",
    "instance.print_all_graphs(\"en\")"
   ]
  },
  {
   "cell_type": "markdown",
   "metadata": {},
   "source": [
    "### View 003 - Interação dos estudantes no fórum (ex: postagens, acessos, etc.)"
   ]
  },
  {
   "cell_type": "code",
   "execution_count": null,
   "metadata": {
    "scrolled": true
   },
   "outputs": [],
   "source": [
    "run V003.py"
   ]
  },
  {
   "cell_type": "code",
   "execution_count": null,
   "metadata": {},
   "outputs": [],
   "source": [
    "instance = V003(20)\n",
    "instance.generate_dataset(number_students = 20)\n",
    "# instance.print_all_graphs(\"pt\")\n",
    "instance.print_all_graphs(\"en\")"
   ]
  },
  {
   "cell_type": "markdown",
   "metadata": {},
   "source": [
    "### View 004 - Tempo de permanencia dos estudantes nos vídeos"
   ]
  },
  {
   "cell_type": "code",
   "execution_count": null,
   "metadata": {
    "scrolled": true
   },
   "outputs": [],
   "source": [
    "run V004.py"
   ]
  },
  {
   "cell_type": "code",
   "execution_count": null,
   "metadata": {},
   "outputs": [],
   "source": [
    "instance = V004()\n",
    "instance.generate_dataset(number_students = 20)\n",
    "# instance.print_all_graphs(\"pt\")\n",
    "instance.print_all_graphs(\"en\")"
   ]
  },
  {
   "cell_type": "markdown",
   "metadata": {},
   "source": [
    "### View 005 - Correlação entre as notas e os logs de acesso/interação dos estudantes"
   ]
  },
  {
   "cell_type": "code",
   "execution_count": null,
   "metadata": {},
   "outputs": [],
   "source": [
    "run V005.py"
   ]
  },
  {
   "cell_type": "code",
   "execution_count": null,
   "metadata": {
    "scrolled": true
   },
   "outputs": [],
   "source": [
    "instance = V005()\n",
    "instance.generate_dataset(number_students = 60)\n",
    "# instance.print_all_graphs(\"pt\")\n",
    "instance.print_all_graphs(\"en\")"
   ]
  },
  {
   "cell_type": "markdown",
   "metadata": {},
   "source": [
    "### View 006 - Correlação entre o perfil (idade, cidade de origem, etc.) e os logs de acesso/interação dos estudantes"
   ]
  },
  {
   "cell_type": "code",
   "execution_count": null,
   "metadata": {
    "scrolled": true
   },
   "outputs": [],
   "source": [
    "run V006.py"
   ]
  },
  {
   "cell_type": "code",
   "execution_count": null,
   "metadata": {},
   "outputs": [],
   "source": [
    "instance = V006()\n",
    "instance.generate_dataset(number_students = 60)\n",
    "# instance.print_all_graphs(\"pt\")\n",
    "instance.print_all_graphs(\"en\")"
   ]
  },
  {
   "cell_type": "markdown",
   "metadata": {},
   "source": [
    "### View 007 - Predição das notas que os estudante terão ao final do curso e quais abandonarão"
   ]
  },
  {
   "cell_type": "code",
   "execution_count": 13,
   "metadata": {},
   "outputs": [
    {
     "data": {
      "text/html": [
       "<script>requirejs.config({paths: { 'plotly': ['https://cdn.plot.ly/plotly-latest.min']},});if(!window.Plotly) {{require(['plotly'],function(plotly) {window.Plotly=plotly;});}}</script>"
      ],
      "text/vnd.plotly.v1+html": [
       "<script>requirejs.config({paths: { 'plotly': ['https://cdn.plot.ly/plotly-latest.min']},});if(!window.Plotly) {{require(['plotly'],function(plotly) {window.Plotly=plotly;});}}</script>"
      ]
     },
     "metadata": {},
     "output_type": "display_data"
    }
   ],
   "source": [
    "run V007.py"
   ]
  },
  {
   "cell_type": "code",
   "execution_count": 14,
   "metadata": {
    "scrolled": false
   },
   "outputs": [
    {
     "data": {
      "application/vnd.plotly.v1+json": {
       "data": [
        {
         "box": {
          "visible": true
         },
         "line": {
          "color": "rgb(255,0,0)"
         },
         "marker": {
          "line": {
           "width": 1
          }
         },
         "meanline": {
          "visible": true
         },
         "name": "Cluster 1",
         "points": "all",
         "text": [
          "GUARACI",
          "JANESIO"
         ],
         "type": "violin",
         "uid": "932da67a-1157-11e9-9fbe-9cf387cc124e",
         "x": [
          "Cluster 1",
          "Cluster 1"
         ],
         "y": [
          0,
          0
         ]
        },
        {
         "box": {
          "visible": true
         },
         "line": {
          "color": "rgb(127,0,127)"
         },
         "marker": {
          "line": {
           "width": 1
          }
         },
         "meanline": {
          "visible": true
         },
         "name": "Cluster 2",
         "points": "all",
         "text": [
          "LUAN"
         ],
         "type": "violin",
         "uid": "932db018-1157-11e9-bbe7-9cf387cc124e",
         "x": [
          "Cluster 2"
         ],
         "y": [
          29
         ]
        },
        {
         "box": {
          "visible": true
         },
         "line": {
          "color": "rgb(0,0,255)"
         },
         "marker": {
          "line": {
           "width": 1
          }
         },
         "meanline": {
          "visible": true
         },
         "name": "Cluster 3",
         "points": "all",
         "text": [
          "TACIA",
          "DARLIEL",
          "ROLAND"
         ],
         "type": "violin",
         "uid": "932db18a-1157-11e9-86c0-9cf387cc124e",
         "x": [
          "Cluster 3",
          "Cluster 3",
          "Cluster 3"
         ],
         "y": [
          59,
          66,
          68
         ]
        },
        {
         "box": {
          "visible": true
         },
         "line": {
          "color": "rgb(0,255,0)"
         },
         "marker": {
          "line": {
           "width": 1
          }
         },
         "meanline": {
          "visible": true
         },
         "name": "Cluster 4",
         "points": "all",
         "text": [
          "IVAINA",
          "JOICIMEIRE",
          "NARAISA",
          "VALMICLEIA",
          "CINESIO"
         ],
         "type": "violin",
         "uid": "932db298-1157-11e9-a1b7-9cf387cc124e",
         "x": [
          "Cluster 4",
          "Cluster 4",
          "Cluster 4",
          "Cluster 4",
          "Cluster 4"
         ],
         "y": [
          64,
          65,
          73,
          74,
          80
         ]
        },
        {
         "box": {
          "visible": true
         },
         "line": {
          "color": "rgb(255, 192, 203)"
         },
         "marker": {
          "line": {
           "width": 1
          }
         },
         "meanline": {
          "visible": true
         },
         "name": "Cluster 5",
         "points": "all",
         "text": [
          "JOSELMA",
          "CLAUDELUCIA",
          "ADJAILSON",
          "ELIDONES",
          "JOSEIRES",
          "WIRTON"
         ],
         "type": "violin",
         "uid": "932db39c-1157-11e9-a924-9cf387cc124e",
         "x": [
          "Cluster 5",
          "Cluster 5",
          "Cluster 5",
          "Cluster 5",
          "Cluster 5",
          "Cluster 5"
         ],
         "y": [
          73,
          75,
          78,
          81,
          84,
          88
         ]
        },
        {
         "box": {
          "visible": true
         },
         "line": {
          "color": "rgb(131, 90, 241)"
         },
         "marker": {
          "line": {
           "width": 1
          }
         },
         "meanline": {
          "visible": true
         },
         "name": "Cluster 6",
         "points": "all",
         "text": [
          "TAIANI",
          "LUCIU",
          "NEUSMAR"
         ],
         "type": "violin",
         "uid": "932db48c-1157-11e9-b69f-9cf387cc124e",
         "x": [
          "Cluster 6",
          "Cluster 6",
          "Cluster 6"
         ],
         "y": [
          74,
          80,
          82
         ]
        }
       ],
       "layout": {
        "hovermode": "closest",
        "showlegend": true,
        "title": "Students' grades variation by cluster",
        "xaxis": {
         "title": "",
         "titlefont": {
          "color": "rgb(180,180,180)"
         }
        },
        "yaxis": {
         "fixedrange": false,
         "range": [
          -15,
          98
         ],
         "rangemode": "normal",
         "title": "Grades",
         "titlefont": {
          "color": "rgb(180,180,180)"
         },
         "zeroline": false
        }
       }
      },
      "text/html": [
       "<div id=\"7f0918ab-ed89-4845-a688-24a2dc26db91\" style=\"height: 525px; width: 100%;\" class=\"plotly-graph-div\"></div><script type=\"text/javascript\">require([\"plotly\"], function(Plotly) { window.PLOTLYENV=window.PLOTLYENV || {};window.PLOTLYENV.BASE_URL=\"https://plot.ly\";\n",
       "        Plotly.plot(\n",
       "            '7f0918ab-ed89-4845-a688-24a2dc26db91',\n",
       "            [{\"box\": {\"visible\": true}, \"line\": {\"color\": \"rgb(255,0,0)\"}, \"marker\": {\"line\": {\"width\": 1}}, \"meanline\": {\"visible\": true}, \"name\": \"Cluster 1\", \"points\": \"all\", \"text\": [\"GUARACI\", \"JANESIO\"], \"x\": [\"Cluster 1\", \"Cluster 1\"], \"y\": [0, 0], \"type\": \"violin\", \"uid\": \"932da67a-1157-11e9-9fbe-9cf387cc124e\"}, {\"box\": {\"visible\": true}, \"line\": {\"color\": \"rgb(127,0,127)\"}, \"marker\": {\"line\": {\"width\": 1}}, \"meanline\": {\"visible\": true}, \"name\": \"Cluster 2\", \"points\": \"all\", \"text\": [\"LUAN\"], \"x\": [\"Cluster 2\"], \"y\": [29], \"type\": \"violin\", \"uid\": \"932db018-1157-11e9-bbe7-9cf387cc124e\"}, {\"box\": {\"visible\": true}, \"line\": {\"color\": \"rgb(0,0,255)\"}, \"marker\": {\"line\": {\"width\": 1}}, \"meanline\": {\"visible\": true}, \"name\": \"Cluster 3\", \"points\": \"all\", \"text\": [\"TACIA\", \"DARLIEL\", \"ROLAND\"], \"x\": [\"Cluster 3\", \"Cluster 3\", \"Cluster 3\"], \"y\": [59, 66, 68], \"type\": \"violin\", \"uid\": \"932db18a-1157-11e9-86c0-9cf387cc124e\"}, {\"box\": {\"visible\": true}, \"line\": {\"color\": \"rgb(0,255,0)\"}, \"marker\": {\"line\": {\"width\": 1}}, \"meanline\": {\"visible\": true}, \"name\": \"Cluster 4\", \"points\": \"all\", \"text\": [\"IVAINA\", \"JOICIMEIRE\", \"NARAISA\", \"VALMICLEIA\", \"CINESIO\"], \"x\": [\"Cluster 4\", \"Cluster 4\", \"Cluster 4\", \"Cluster 4\", \"Cluster 4\"], \"y\": [64, 65, 73, 74, 80], \"type\": \"violin\", \"uid\": \"932db298-1157-11e9-a1b7-9cf387cc124e\"}, {\"box\": {\"visible\": true}, \"line\": {\"color\": \"rgb(255, 192, 203)\"}, \"marker\": {\"line\": {\"width\": 1}}, \"meanline\": {\"visible\": true}, \"name\": \"Cluster 5\", \"points\": \"all\", \"text\": [\"JOSELMA\", \"CLAUDELUCIA\", \"ADJAILSON\", \"ELIDONES\", \"JOSEIRES\", \"WIRTON\"], \"x\": [\"Cluster 5\", \"Cluster 5\", \"Cluster 5\", \"Cluster 5\", \"Cluster 5\", \"Cluster 5\"], \"y\": [73, 75, 78, 81, 84, 88], \"type\": \"violin\", \"uid\": \"932db39c-1157-11e9-a924-9cf387cc124e\"}, {\"box\": {\"visible\": true}, \"line\": {\"color\": \"rgb(131, 90, 241)\"}, \"marker\": {\"line\": {\"width\": 1}}, \"meanline\": {\"visible\": true}, \"name\": \"Cluster 6\", \"points\": \"all\", \"text\": [\"TAIANI\", \"LUCIU\", \"NEUSMAR\"], \"x\": [\"Cluster 6\", \"Cluster 6\", \"Cluster 6\"], \"y\": [74, 80, 82], \"type\": \"violin\", \"uid\": \"932db48c-1157-11e9-b69f-9cf387cc124e\"}],\n",
       "            {\"hovermode\": \"closest\", \"showlegend\": true, \"title\": \"Students' grades variation by cluster\", \"xaxis\": {\"title\": \"\", \"titlefont\": {\"color\": \"rgb(180,180,180)\"}}, \"yaxis\": {\"fixedrange\": false, \"range\": [-15, 98], \"rangemode\": \"normal\", \"title\": \"Grades\", \"titlefont\": {\"color\": \"rgb(180,180,180)\"}, \"zeroline\": false}},\n",
       "            {\"showLink\": true, \"linkText\": \"Export to plot.ly\"}\n",
       "        ).then(function () {return Plotly.addFrames('7f0918ab-ed89-4845-a688-24a2dc26db91',{});}).then(function(){Plotly.animate('7f0918ab-ed89-4845-a688-24a2dc26db91');})\n",
       "        });</script>"
      ],
      "text/vnd.plotly.v1+html": [
       "<div id=\"7f0918ab-ed89-4845-a688-24a2dc26db91\" style=\"height: 525px; width: 100%;\" class=\"plotly-graph-div\"></div><script type=\"text/javascript\">require([\"plotly\"], function(Plotly) { window.PLOTLYENV=window.PLOTLYENV || {};window.PLOTLYENV.BASE_URL=\"https://plot.ly\";\n",
       "        Plotly.plot(\n",
       "            '7f0918ab-ed89-4845-a688-24a2dc26db91',\n",
       "            [{\"box\": {\"visible\": true}, \"line\": {\"color\": \"rgb(255,0,0)\"}, \"marker\": {\"line\": {\"width\": 1}}, \"meanline\": {\"visible\": true}, \"name\": \"Cluster 1\", \"points\": \"all\", \"text\": [\"GUARACI\", \"JANESIO\"], \"x\": [\"Cluster 1\", \"Cluster 1\"], \"y\": [0, 0], \"type\": \"violin\", \"uid\": \"932da67a-1157-11e9-9fbe-9cf387cc124e\"}, {\"box\": {\"visible\": true}, \"line\": {\"color\": \"rgb(127,0,127)\"}, \"marker\": {\"line\": {\"width\": 1}}, \"meanline\": {\"visible\": true}, \"name\": \"Cluster 2\", \"points\": \"all\", \"text\": [\"LUAN\"], \"x\": [\"Cluster 2\"], \"y\": [29], \"type\": \"violin\", \"uid\": \"932db018-1157-11e9-bbe7-9cf387cc124e\"}, {\"box\": {\"visible\": true}, \"line\": {\"color\": \"rgb(0,0,255)\"}, \"marker\": {\"line\": {\"width\": 1}}, \"meanline\": {\"visible\": true}, \"name\": \"Cluster 3\", \"points\": \"all\", \"text\": [\"TACIA\", \"DARLIEL\", \"ROLAND\"], \"x\": [\"Cluster 3\", \"Cluster 3\", \"Cluster 3\"], \"y\": [59, 66, 68], \"type\": \"violin\", \"uid\": \"932db18a-1157-11e9-86c0-9cf387cc124e\"}, {\"box\": {\"visible\": true}, \"line\": {\"color\": \"rgb(0,255,0)\"}, \"marker\": {\"line\": {\"width\": 1}}, \"meanline\": {\"visible\": true}, \"name\": \"Cluster 4\", \"points\": \"all\", \"text\": [\"IVAINA\", \"JOICIMEIRE\", \"NARAISA\", \"VALMICLEIA\", \"CINESIO\"], \"x\": [\"Cluster 4\", \"Cluster 4\", \"Cluster 4\", \"Cluster 4\", \"Cluster 4\"], \"y\": [64, 65, 73, 74, 80], \"type\": \"violin\", \"uid\": \"932db298-1157-11e9-a1b7-9cf387cc124e\"}, {\"box\": {\"visible\": true}, \"line\": {\"color\": \"rgb(255, 192, 203)\"}, \"marker\": {\"line\": {\"width\": 1}}, \"meanline\": {\"visible\": true}, \"name\": \"Cluster 5\", \"points\": \"all\", \"text\": [\"JOSELMA\", \"CLAUDELUCIA\", \"ADJAILSON\", \"ELIDONES\", \"JOSEIRES\", \"WIRTON\"], \"x\": [\"Cluster 5\", \"Cluster 5\", \"Cluster 5\", \"Cluster 5\", \"Cluster 5\", \"Cluster 5\"], \"y\": [73, 75, 78, 81, 84, 88], \"type\": \"violin\", \"uid\": \"932db39c-1157-11e9-a924-9cf387cc124e\"}, {\"box\": {\"visible\": true}, \"line\": {\"color\": \"rgb(131, 90, 241)\"}, \"marker\": {\"line\": {\"width\": 1}}, \"meanline\": {\"visible\": true}, \"name\": \"Cluster 6\", \"points\": \"all\", \"text\": [\"TAIANI\", \"LUCIU\", \"NEUSMAR\"], \"x\": [\"Cluster 6\", \"Cluster 6\", \"Cluster 6\"], \"y\": [74, 80, 82], \"type\": \"violin\", \"uid\": \"932db48c-1157-11e9-b69f-9cf387cc124e\"}],\n",
       "            {\"hovermode\": \"closest\", \"showlegend\": true, \"title\": \"Students' grades variation by cluster\", \"xaxis\": {\"title\": \"\", \"titlefont\": {\"color\": \"rgb(180,180,180)\"}}, \"yaxis\": {\"fixedrange\": false, \"range\": [-15, 98], \"rangemode\": \"normal\", \"title\": \"Grades\", \"titlefont\": {\"color\": \"rgb(180,180,180)\"}, \"zeroline\": false}},\n",
       "            {\"showLink\": true, \"linkText\": \"Export to plot.ly\"}\n",
       "        ).then(function () {return Plotly.addFrames('7f0918ab-ed89-4845-a688-24a2dc26db91',{});}).then(function(){Plotly.animate('7f0918ab-ed89-4845-a688-24a2dc26db91');})\n",
       "        });</script>"
      ]
     },
     "metadata": {},
     "output_type": "display_data"
    }
   ],
   "source": [
    "instance = V007()\n",
    "instance.generate_dataset(number_students = 20)\n",
    "# instance.print_all_graphs(\"pt\")\n",
    "instance.print_all_graphs(\"en\")"
   ]
  },
  {
   "cell_type": "markdown",
   "metadata": {},
   "source": [
    "### View 008 - Acesso dos estudantes no AVA por dia ou semana"
   ]
  },
  {
   "cell_type": "code",
   "execution_count": null,
   "metadata": {
    "scrolled": true
   },
   "outputs": [],
   "source": [
    "run V008.py"
   ]
  },
  {
   "cell_type": "code",
   "execution_count": null,
   "metadata": {
    "scrolled": false
   },
   "outputs": [],
   "source": [
    "instance = V008()\n",
    "instance.generate_dataset(number_students=35, number_weeks=7)\n",
    "# instance.print_all_graphs(\"pt\")\n",
    "instance.print_all_graphs(\"en\")"
   ]
  },
  {
   "cell_type": "markdown",
   "metadata": {},
   "source": [
    "### View 009 - Interação dos estudantes nos vídeos (play, pause, backward, forward)"
   ]
  },
  {
   "cell_type": "code",
   "execution_count": null,
   "metadata": {},
   "outputs": [],
   "source": [
    "run V009.py"
   ]
  },
  {
   "cell_type": "code",
   "execution_count": null,
   "metadata": {},
   "outputs": [],
   "source": [
    "instance = V009()\n",
    "instance.generate_dataset(number_actions = 120, video_size = 30)\n",
    "# instance.print_all_graphs(\"pt\")\n",
    "instance.print_all_graphs(\"en\")"
   ]
  },
  {
   "cell_type": "markdown",
   "metadata": {},
   "source": [
    "### View 010 - Vídeos que os estudantes entenderam e não entenderam"
   ]
  },
  {
   "cell_type": "code",
   "execution_count": null,
   "metadata": {
    "scrolled": true
   },
   "outputs": [],
   "source": [
    "run V010.py"
   ]
  },
  {
   "cell_type": "code",
   "execution_count": null,
   "metadata": {
    "scrolled": false
   },
   "outputs": [],
   "source": [
    "instance = V010()\n",
    "instance.generate_dataset(number_students=35, number_video=10)\n",
    "# instance.print_all_graphs(\"pt\")\n",
    "instance.print_all_graphs(\"en\")"
   ]
  },
  {
   "cell_type": "markdown",
   "metadata": {},
   "source": [
    "### View 011 - Padrão de navegação dos estudantes no AVA"
   ]
  },
  {
   "cell_type": "code",
   "execution_count": 15,
   "metadata": {},
   "outputs": [
    {
     "data": {
      "text/html": [
       "<script>requirejs.config({paths: { 'plotly': ['https://cdn.plot.ly/plotly-latest.min']},});if(!window.Plotly) {{require(['plotly'],function(plotly) {window.Plotly=plotly;});}}</script>"
      ],
      "text/vnd.plotly.v1+html": [
       "<script>requirejs.config({paths: { 'plotly': ['https://cdn.plot.ly/plotly-latest.min']},});if(!window.Plotly) {{require(['plotly'],function(plotly) {window.Plotly=plotly;});}}</script>"
      ]
     },
     "metadata": {},
     "output_type": "display_data"
    }
   ],
   "source": [
    "run V011b.py"
   ]
  },
  {
   "cell_type": "code",
   "execution_count": 16,
   "metadata": {},
   "outputs": [
    {
     "ename": "NameError",
     "evalue": "name 'V011' is not defined",
     "output_type": "error",
     "traceback": [
      "\u001b[0;31m---------------------------------------------------------------------------\u001b[0m",
      "\u001b[0;31mNameError\u001b[0m                                 Traceback (most recent call last)",
      "\u001b[0;32m<ipython-input-16-5754bd4262fb>\u001b[0m in \u001b[0;36m<module>\u001b[0;34m\u001b[0m\n\u001b[0;32m----> 1\u001b[0;31m \u001b[0minstance\u001b[0m \u001b[0;34m=\u001b[0m \u001b[0mV011\u001b[0m\u001b[0;34m(\u001b[0m\u001b[0;34m)\u001b[0m\u001b[0;34m\u001b[0m\u001b[0m\n\u001b[0m\u001b[1;32m      2\u001b[0m \u001b[0minstance\u001b[0m\u001b[0;34m.\u001b[0m\u001b[0mgenerate_dataset\u001b[0m\u001b[0;34m(\u001b[0m\u001b[0mnumber_students\u001b[0m \u001b[0;34m=\u001b[0m \u001b[0;36m20\u001b[0m\u001b[0;34m)\u001b[0m\u001b[0;34m\u001b[0m\u001b[0m\n\u001b[1;32m      3\u001b[0m \u001b[0;31m# instance.print_all_graphs(\"pt\")\u001b[0m\u001b[0;34m\u001b[0m\u001b[0;34m\u001b[0m\u001b[0m\n\u001b[1;32m      4\u001b[0m \u001b[0minstance\u001b[0m\u001b[0;34m.\u001b[0m\u001b[0mprint_all_graphs\u001b[0m\u001b[0;34m(\u001b[0m\u001b[0;34m\"en\"\u001b[0m\u001b[0;34m)\u001b[0m\u001b[0;34m\u001b[0m\u001b[0m\n",
      "\u001b[0;31mNameError\u001b[0m: name 'V011' is not defined"
     ]
    }
   ],
   "source": [
    "instance = V011()\n",
    "instance.generate_dataset(number_students = 20)\n",
    "# instance.print_all_graphs(\"pt\")\n",
    "instance.print_all_graphs(\"en\")"
   ]
  },
  {
   "cell_type": "code",
   "execution_count": null,
   "metadata": {},
   "outputs": [],
   "source": []
  }
 ],
 "metadata": {
  "kernelspec": {
   "display_name": "Python 3",
   "language": "python",
   "name": "python3"
  },
  "language_info": {
   "codemirror_mode": {
    "name": "ipython",
    "version": 3
   },
   "file_extension": ".py",
   "mimetype": "text/x-python",
   "name": "python",
   "nbconvert_exporter": "python",
   "pygments_lexer": "ipython3",
   "version": "3.6.5"
  }
 },
 "nbformat": 4,
 "nbformat_minor": 2
}
