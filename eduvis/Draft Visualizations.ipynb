{
 "cells": [
  {
   "cell_type": "markdown",
   "metadata": {},
   "source": [
    "### View 001 - Tarefas feitas pelos estudantes"
   ]
  },
  {
   "cell_type": "code",
   "execution_count": null,
   "metadata": {},
   "outputs": [],
   "source": [
    "run V001.py"
   ]
  },
  {
   "cell_type": "code",
   "execution_count": null,
   "metadata": {
    "scrolled": true
   },
   "outputs": [],
   "source": [
    "instance = V001()\n",
    "instance.generate_dataset(number_students = 20, number_assigns = 10)\n",
    "# instance.print_all_graphs(\"pt\")\n",
    "instance.print_all_graphs(\"en\")"
   ]
  },
  {
   "cell_type": "markdown",
   "metadata": {},
   "source": [
    "### View 002 - Acesso dos estudantes aos materiais (ex: videos, ebooks, etc.)"
   ]
  },
  {
   "cell_type": "code",
   "execution_count": null,
   "metadata": {
    "scrolled": true
   },
   "outputs": [],
   "source": [
    "run V002.py"
   ]
  },
  {
   "cell_type": "code",
   "execution_count": null,
   "metadata": {},
   "outputs": [],
   "source": [
    "instance = V002()\n",
    "instance.generate_dataset(number_students = 20)\n",
    "# instance.print_all_graphs(\"pt\")\n",
    "instance.print_all_graphs(\"en\")"
   ]
  },
  {
   "cell_type": "markdown",
   "metadata": {},
   "source": [
    "### View 003 - Interação dos estudantes no fórum (ex: postagens, acessos, etc.)"
   ]
  },
  {
   "cell_type": "code",
   "execution_count": null,
   "metadata": {
    "scrolled": true
   },
   "outputs": [],
   "source": [
    "run V003.py"
   ]
  },
  {
   "cell_type": "code",
   "execution_count": null,
   "metadata": {},
   "outputs": [],
   "source": [
    "instance = V003(20)\n",
    "instance.generate_dataset(number_students = 20)\n",
    "# instance.print_all_graphs(\"pt\")\n",
    "instance.print_all_graphs(\"en\")"
   ]
  },
  {
   "cell_type": "markdown",
   "metadata": {},
   "source": [
    "### View 004 - Tempo de permanencia dos estudantes nos vídeos"
   ]
  },
  {
   "cell_type": "code",
   "execution_count": null,
   "metadata": {
    "scrolled": true
   },
   "outputs": [],
   "source": [
    "run V004.py"
   ]
  },
  {
   "cell_type": "code",
   "execution_count": null,
   "metadata": {},
   "outputs": [],
   "source": [
    "instance = V004()\n",
    "instance.generate_dataset(number_students = 20)\n",
    "# instance.print_all_graphs(\"pt\")\n",
    "instance.print_all_graphs(\"en\")"
   ]
  },
  {
   "cell_type": "markdown",
   "metadata": {},
   "source": [
    "### View 005 - Correlação entre as notas e os logs de acesso/interação dos estudantes"
   ]
  },
  {
   "cell_type": "code",
   "execution_count": null,
   "metadata": {},
   "outputs": [],
   "source": [
    "run V005.py"
   ]
  },
  {
   "cell_type": "code",
   "execution_count": null,
   "metadata": {
    "scrolled": true
   },
   "outputs": [],
   "source": [
    "instance = V005()\n",
    "instance.generate_dataset(number_students = 60)\n",
    "# instance.print_all_graphs(\"pt\")\n",
    "instance.print_all_graphs(\"en\")"
   ]
  },
  {
   "cell_type": "markdown",
   "metadata": {},
   "source": [
    "### View 006 - Correlação entre o perfil (idade, cidade de origem, etc.) e os logs de acesso/interação dos estudantes"
   ]
  },
  {
   "cell_type": "code",
   "execution_count": null,
   "metadata": {
    "scrolled": true
   },
   "outputs": [],
   "source": [
    "run V006.py"
   ]
  },
  {
   "cell_type": "code",
   "execution_count": null,
   "metadata": {},
   "outputs": [],
   "source": [
    "instance = V006()\n",
    "instance.generate_dataset(number_students = 60)\n",
    "# instance.print_all_graphs(\"pt\")\n",
    "instance.print_all_graphs(\"en\")"
   ]
  },
  {
   "cell_type": "markdown",
   "metadata": {},
   "source": [
    "### View 007 - Predição das notas que os estudante terão ao final do curso e quais abandonarão"
   ]
  },
  {
   "cell_type": "code",
   "execution_count": null,
   "metadata": {},
   "outputs": [],
   "source": [
    "run eduvis/V007.py"
   ]
  },
  {
   "cell_type": "code",
   "execution_count": null,
   "metadata": {},
   "outputs": [],
   "source": []
  },
  {
   "cell_type": "markdown",
   "metadata": {},
   "source": [
    "### View 008 - Acesso dos estudantes no AVA por dia ou semana"
   ]
  },
  {
   "cell_type": "code",
   "execution_count": null,
   "metadata": {
    "scrolled": true
   },
   "outputs": [],
   "source": [
    "run V008.py"
   ]
  },
  {
   "cell_type": "code",
   "execution_count": null,
   "metadata": {
    "scrolled": false
   },
   "outputs": [],
   "source": [
    "instance = V008()\n",
    "instance.generate_dataset(number_students=35, number_weeks=7)\n",
    "# instance.print_all_graphs(\"pt\")\n",
    "instance.print_all_graphs(\"en\")"
   ]
  },
  {
   "cell_type": "markdown",
   "metadata": {},
   "source": [
    "### View 009 - Interação dos estudantes nos vídeos (play, pause, backward, forward)"
   ]
  },
  {
   "cell_type": "code",
   "execution_count": 9,
   "metadata": {},
   "outputs": [
    {
     "data": {
      "text/html": [
       "<script>requirejs.config({paths: { 'plotly': ['https://cdn.plot.ly/plotly-latest.min']},});if(!window.Plotly) {{require(['plotly'],function(plotly) {window.Plotly=plotly;});}}</script>"
      ],
      "text/vnd.plotly.v1+html": [
       "<script>requirejs.config({paths: { 'plotly': ['https://cdn.plot.ly/plotly-latest.min']},});if(!window.Plotly) {{require(['plotly'],function(plotly) {window.Plotly=plotly;});}}</script>"
      ]
     },
     "metadata": {},
     "output_type": "display_data"
    }
   ],
   "source": [
    "run V009.py"
   ]
  },
  {
   "cell_type": "code",
   "execution_count": 10,
   "metadata": {
    "scrolled": false
   },
   "outputs": [
    {
     "name": "stdout",
     "output_type": "stream",
     "text": [
      "[ 0  1  2  3  4  5  6  7  8  9 10 11 12 13 14 15 16 17 18 19 20 21 22 23\n",
      " 24 25 26 27 28 29 30 31 32 33 34 35 36 37 38 39 40 41 42 43 44 45 46 47\n",
      " 48 49 50 51 52 53 54 55 56 57 58 59]\n",
      "[0, 0, 0, 0, 0, 0, 0, 0, 0, 0, 0, 0, 0, 0, 0, 2, 0, 0, 0, 0, 0, 0, 0, 0, 0, 0, 1, 0, 1, 0, 1, 0, 0, 1, 0, 1, 0, 1, 0, 0, 0, 0, 1, 0, 0, 1, 0, 1, 0, 1, 0, 1, 0, 0, 1, 0, 0, 0, 0, 0]\n"
     ]
    },
    {
     "data": {
      "application/vnd.plotly.v1+json": {
       "data": [
        {
         "cells": {
          "align": [
           "left",
           "center"
          ],
          "fill": {
           "color": "#F5F8FF"
          },
          "values": [
           [
            "ADELUCIA",
            "ADELUCIA",
            "ADELUCIA",
            "ADELUCIA",
            "ADELUCIA",
            "ADRIELL",
            "ADRIELL",
            "ADRIELL",
            "ADRIELL",
            "ADRIELL",
            "ARACELIS",
            "ARACELIS",
            "ARACELIS",
            "ARACELIS",
            "ARACELIS",
            "ASHLEY",
            "ASHLEY",
            "ASHLEY",
            "ASHLEY",
            "ASHLEY",
            "ATIELE",
            "ATIELE",
            "ATIELE",
            "ATIELE",
            "ATIELE",
            "CLAYDSON",
            "CLAYDSON",
            "CLAYDSON",
            "CLAYDSON",
            "CLAYDSON",
            "DAIRA",
            "DAIRA",
            "DAIRA",
            "DAIRA",
            "DAIRA",
            "DEJA",
            "DEJA",
            "DEJA",
            "DEJA",
            "DEJA",
            "DERMI",
            "DERMI",
            "DERMI",
            "DERMI",
            "DERMI",
            "DIAMIR",
            "DIAMIR",
            "DIAMIR",
            "DIAMIR",
            "DIAMIR"
           ],
           [
            "Play 0s",
            "Pause 54s",
            "Seek from 54s to 41s",
            "Pause 51s",
            "Play 51s",
            "Play 0s",
            "Seek from 40s to 34s",
            "Seek from 44s to 35s",
            "Seek from 41s to 38s",
            "Seek from 46s to 43s",
            "Play 0s",
            "Pause 33s",
            "Play 33s",
            "Pause 45s",
            "Seek from 45s to 53s",
            "Play 0s",
            "Seek from 27s to 31s",
            "Seek from 49s to 25s",
            "Seek from 48s to 6s",
            "Seek from 24s to 18s",
            "Play 0s",
            "Seek from 37s to 14s",
            "Seek from 33s to 42s",
            "Seek from 46s to 38s",
            "Pause 47s",
            "Play 0s",
            "Pause 15s",
            "Play 15s",
            "Pause 37s",
            "Seek from 37s to 29s",
            "Play 0s",
            "Pause 28s",
            "Play 28s",
            "Seek from 40s to 16s",
            "Pause 30s",
            "Play 0s",
            "Pause 26s",
            "Seek from 26s to 39s",
            "Pause 49s",
            "Play 49s",
            "Play 0s",
            "Seek from 31s to 30s",
            "Seek from 47s to 7s",
            "Seek from 42s to 34s",
            "Pause 42s",
            "Play 0s",
            "Seek from 12s to 12s",
            "Pause 15s",
            "Seek from 15s to 30s",
            "Pause 35s"
           ]
          ]
         },
         "header": {
          "align": "center",
          "fill": {
           "color": "#C2D4FF"
          },
          "values": [
           "Students",
           "Action"
          ]
         },
         "type": "table",
         "uid": "8ac4a81e-0d4a-11e9-8ba4-9cf387cc124e"
        }
       ],
       "layout": {}
      },
      "text/html": [
       "<div id=\"71bbedd7-57ed-4793-b51d-68ffeefe4b99\" style=\"height: 525px; width: 100%;\" class=\"plotly-graph-div\"></div><script type=\"text/javascript\">require([\"plotly\"], function(Plotly) { window.PLOTLYENV=window.PLOTLYENV || {};window.PLOTLYENV.BASE_URL=\"https://plot.ly\";Plotly.newPlot(\"71bbedd7-57ed-4793-b51d-68ffeefe4b99\", [{\"cells\": {\"align\": [\"left\", \"center\"], \"fill\": {\"color\": \"#F5F8FF\"}, \"values\": [[\"ADELUCIA\", \"ADELUCIA\", \"ADELUCIA\", \"ADELUCIA\", \"ADELUCIA\", \"ADRIELL\", \"ADRIELL\", \"ADRIELL\", \"ADRIELL\", \"ADRIELL\", \"ARACELIS\", \"ARACELIS\", \"ARACELIS\", \"ARACELIS\", \"ARACELIS\", \"ASHLEY\", \"ASHLEY\", \"ASHLEY\", \"ASHLEY\", \"ASHLEY\", \"ATIELE\", \"ATIELE\", \"ATIELE\", \"ATIELE\", \"ATIELE\", \"CLAYDSON\", \"CLAYDSON\", \"CLAYDSON\", \"CLAYDSON\", \"CLAYDSON\", \"DAIRA\", \"DAIRA\", \"DAIRA\", \"DAIRA\", \"DAIRA\", \"DEJA\", \"DEJA\", \"DEJA\", \"DEJA\", \"DEJA\", \"DERMI\", \"DERMI\", \"DERMI\", \"DERMI\", \"DERMI\", \"DIAMIR\", \"DIAMIR\", \"DIAMIR\", \"DIAMIR\", \"DIAMIR\"], [\"Play 0s\", \"Pause 54s\", \"Seek from 54s to 41s\", \"Pause 51s\", \"Play 51s\", \"Play 0s\", \"Seek from 40s to 34s\", \"Seek from 44s to 35s\", \"Seek from 41s to 38s\", \"Seek from 46s to 43s\", \"Play 0s\", \"Pause 33s\", \"Play 33s\", \"Pause 45s\", \"Seek from 45s to 53s\", \"Play 0s\", \"Seek from 27s to 31s\", \"Seek from 49s to 25s\", \"Seek from 48s to 6s\", \"Seek from 24s to 18s\", \"Play 0s\", \"Seek from 37s to 14s\", \"Seek from 33s to 42s\", \"Seek from 46s to 38s\", \"Pause 47s\", \"Play 0s\", \"Pause 15s\", \"Play 15s\", \"Pause 37s\", \"Seek from 37s to 29s\", \"Play 0s\", \"Pause 28s\", \"Play 28s\", \"Seek from 40s to 16s\", \"Pause 30s\", \"Play 0s\", \"Pause 26s\", \"Seek from 26s to 39s\", \"Pause 49s\", \"Play 49s\", \"Play 0s\", \"Seek from 31s to 30s\", \"Seek from 47s to 7s\", \"Seek from 42s to 34s\", \"Pause 42s\", \"Play 0s\", \"Seek from 12s to 12s\", \"Pause 15s\", \"Seek from 15s to 30s\", \"Pause 35s\"]]}, \"header\": {\"align\": \"center\", \"fill\": {\"color\": \"#C2D4FF\"}, \"values\": [\"Students\", \"Action\"]}, \"type\": \"table\", \"uid\": \"8acb8b9a-0d4a-11e9-93d9-9cf387cc124e\"}], {}, {\"showLink\": true, \"linkText\": \"Export to plot.ly\"})});</script>"
      ],
      "text/vnd.plotly.v1+html": [
       "<div id=\"71bbedd7-57ed-4793-b51d-68ffeefe4b99\" style=\"height: 525px; width: 100%;\" class=\"plotly-graph-div\"></div><script type=\"text/javascript\">require([\"plotly\"], function(Plotly) { window.PLOTLYENV=window.PLOTLYENV || {};window.PLOTLYENV.BASE_URL=\"https://plot.ly\";Plotly.newPlot(\"71bbedd7-57ed-4793-b51d-68ffeefe4b99\", [{\"cells\": {\"align\": [\"left\", \"center\"], \"fill\": {\"color\": \"#F5F8FF\"}, \"values\": [[\"ADELUCIA\", \"ADELUCIA\", \"ADELUCIA\", \"ADELUCIA\", \"ADELUCIA\", \"ADRIELL\", \"ADRIELL\", \"ADRIELL\", \"ADRIELL\", \"ADRIELL\", \"ARACELIS\", \"ARACELIS\", \"ARACELIS\", \"ARACELIS\", \"ARACELIS\", \"ASHLEY\", \"ASHLEY\", \"ASHLEY\", \"ASHLEY\", \"ASHLEY\", \"ATIELE\", \"ATIELE\", \"ATIELE\", \"ATIELE\", \"ATIELE\", \"CLAYDSON\", \"CLAYDSON\", \"CLAYDSON\", \"CLAYDSON\", \"CLAYDSON\", \"DAIRA\", \"DAIRA\", \"DAIRA\", \"DAIRA\", \"DAIRA\", \"DEJA\", \"DEJA\", \"DEJA\", \"DEJA\", \"DEJA\", \"DERMI\", \"DERMI\", \"DERMI\", \"DERMI\", \"DERMI\", \"DIAMIR\", \"DIAMIR\", \"DIAMIR\", \"DIAMIR\", \"DIAMIR\"], [\"Play 0s\", \"Pause 54s\", \"Seek from 54s to 41s\", \"Pause 51s\", \"Play 51s\", \"Play 0s\", \"Seek from 40s to 34s\", \"Seek from 44s to 35s\", \"Seek from 41s to 38s\", \"Seek from 46s to 43s\", \"Play 0s\", \"Pause 33s\", \"Play 33s\", \"Pause 45s\", \"Seek from 45s to 53s\", \"Play 0s\", \"Seek from 27s to 31s\", \"Seek from 49s to 25s\", \"Seek from 48s to 6s\", \"Seek from 24s to 18s\", \"Play 0s\", \"Seek from 37s to 14s\", \"Seek from 33s to 42s\", \"Seek from 46s to 38s\", \"Pause 47s\", \"Play 0s\", \"Pause 15s\", \"Play 15s\", \"Pause 37s\", \"Seek from 37s to 29s\", \"Play 0s\", \"Pause 28s\", \"Play 28s\", \"Seek from 40s to 16s\", \"Pause 30s\", \"Play 0s\", \"Pause 26s\", \"Seek from 26s to 39s\", \"Pause 49s\", \"Play 49s\", \"Play 0s\", \"Seek from 31s to 30s\", \"Seek from 47s to 7s\", \"Seek from 42s to 34s\", \"Pause 42s\", \"Play 0s\", \"Seek from 12s to 12s\", \"Pause 15s\", \"Seek from 15s to 30s\", \"Pause 35s\"]]}, \"header\": {\"align\": \"center\", \"fill\": {\"color\": \"#C2D4FF\"}, \"values\": [\"Students\", \"Action\"]}, \"type\": \"table\", \"uid\": \"8acb8b9a-0d4a-11e9-93d9-9cf387cc124e\"}], {}, {\"showLink\": true, \"linkText\": \"Export to plot.ly\"})});</script>"
      ]
     },
     "metadata": {},
     "output_type": "display_data"
    },
    {
     "data": {
      "application/vnd.plotly.v1+json": {
       "data": [
        {
         "cells": {
          "align": [
           "left",
           "center"
          ],
          "fill": {
           "color": "#F5F8FF"
          },
          "values": [
           [
            0,
            1,
            2,
            3,
            4,
            5,
            6,
            7,
            8,
            9,
            10,
            11,
            12,
            13,
            14,
            15,
            16,
            17,
            18,
            19,
            20,
            21,
            22,
            23,
            24,
            25,
            26,
            27,
            28,
            29,
            30,
            31,
            32,
            33,
            34,
            35,
            36,
            37,
            38,
            39,
            40,
            41,
            42,
            43,
            44,
            45,
            46,
            47,
            48,
            49,
            50,
            51,
            52,
            53,
            54,
            55,
            56,
            57,
            58,
            59
           ],
           [
            10,
            0,
            0,
            0,
            0,
            0,
            0,
            0,
            0,
            0,
            0,
            0,
            0,
            0,
            0,
            1,
            0,
            0,
            0,
            0,
            0,
            0,
            0,
            0,
            0,
            0,
            0,
            0,
            1,
            0,
            0,
            0,
            0,
            1,
            0,
            0,
            0,
            0,
            0,
            0,
            0,
            0,
            0,
            0,
            0,
            0,
            0,
            0,
            0,
            1,
            0,
            1,
            0,
            0,
            0,
            0,
            0,
            0,
            0,
            0
           ],
           [
            0,
            0,
            0,
            0,
            0,
            0,
            0,
            0,
            0,
            0,
            0,
            0,
            0,
            0,
            0,
            2,
            0,
            0,
            0,
            0,
            0,
            0,
            0,
            0,
            0,
            0,
            1,
            0,
            1,
            0,
            1,
            0,
            0,
            1,
            0,
            1,
            0,
            1,
            0,
            0,
            0,
            0,
            1,
            0,
            0,
            1,
            0,
            1,
            0,
            1,
            0,
            1,
            0,
            0,
            1,
            0,
            0,
            0,
            0,
            0
           ],
           [
            0,
            0,
            0,
            0,
            0,
            0,
            0,
            0,
            0,
            0,
            0,
            0,
            1,
            0,
            0,
            0,
            0,
            0,
            0,
            0,
            0,
            0,
            0,
            0,
            1,
            0,
            0,
            1,
            0,
            0,
            0,
            1,
            0,
            1,
            0,
            0,
            0,
            1,
            0,
            0,
            2,
            1,
            1,
            0,
            1,
            0,
            2,
            1,
            1,
            1,
            0,
            0,
            0,
            0,
            0,
            0,
            0,
            0,
            0,
            0
           ],
           [
            0,
            0,
            0,
            0,
            0,
            0,
            1,
            1,
            0,
            0,
            0,
            0,
            1,
            0,
            1,
            0,
            1,
            0,
            1,
            0,
            0,
            0,
            0,
            0,
            0,
            1,
            0,
            0,
            0,
            0,
            1,
            1,
            0,
            0,
            2,
            1,
            0,
            0,
            2,
            0,
            0,
            0,
            1,
            1,
            0,
            0,
            0,
            0,
            0,
            0,
            0,
            0,
            0,
            0,
            0,
            0,
            0,
            0,
            0,
            0
           ]
          ]
         },
         "header": {
          "align": "center",
          "fill": {
           "color": "#C2D4FF"
          },
          "values": [
           "Time",
           "Play",
           "Pause",
           "Seek from",
           "Seek to"
          ]
         },
         "type": "table",
         "uid": "8ad28b70-0d4a-11e9-b255-9cf387cc124e"
        }
       ],
       "layout": {}
      },
      "text/html": [
       "<div id=\"7adfb4de-4911-4fa5-9829-18f9036511c9\" style=\"height: 525px; width: 100%;\" class=\"plotly-graph-div\"></div><script type=\"text/javascript\">require([\"plotly\"], function(Plotly) { window.PLOTLYENV=window.PLOTLYENV || {};window.PLOTLYENV.BASE_URL=\"https://plot.ly\";Plotly.newPlot(\"7adfb4de-4911-4fa5-9829-18f9036511c9\", [{\"cells\": {\"align\": [\"left\", \"center\"], \"fill\": {\"color\": \"#F5F8FF\"}, \"values\": [[0, 1, 2, 3, 4, 5, 6, 7, 8, 9, 10, 11, 12, 13, 14, 15, 16, 17, 18, 19, 20, 21, 22, 23, 24, 25, 26, 27, 28, 29, 30, 31, 32, 33, 34, 35, 36, 37, 38, 39, 40, 41, 42, 43, 44, 45, 46, 47, 48, 49, 50, 51, 52, 53, 54, 55, 56, 57, 58, 59], [10, 0, 0, 0, 0, 0, 0, 0, 0, 0, 0, 0, 0, 0, 0, 1, 0, 0, 0, 0, 0, 0, 0, 0, 0, 0, 0, 0, 1, 0, 0, 0, 0, 1, 0, 0, 0, 0, 0, 0, 0, 0, 0, 0, 0, 0, 0, 0, 0, 1, 0, 1, 0, 0, 0, 0, 0, 0, 0, 0], [0, 0, 0, 0, 0, 0, 0, 0, 0, 0, 0, 0, 0, 0, 0, 2, 0, 0, 0, 0, 0, 0, 0, 0, 0, 0, 1, 0, 1, 0, 1, 0, 0, 1, 0, 1, 0, 1, 0, 0, 0, 0, 1, 0, 0, 1, 0, 1, 0, 1, 0, 1, 0, 0, 1, 0, 0, 0, 0, 0], [0, 0, 0, 0, 0, 0, 0, 0, 0, 0, 0, 0, 1, 0, 0, 0, 0, 0, 0, 0, 0, 0, 0, 0, 1, 0, 0, 1, 0, 0, 0, 1, 0, 1, 0, 0, 0, 1, 0, 0, 2, 1, 1, 0, 1, 0, 2, 1, 1, 1, 0, 0, 0, 0, 0, 0, 0, 0, 0, 0], [0, 0, 0, 0, 0, 0, 1, 1, 0, 0, 0, 0, 1, 0, 1, 0, 1, 0, 1, 0, 0, 0, 0, 0, 0, 1, 0, 0, 0, 0, 1, 1, 0, 0, 2, 1, 0, 0, 2, 0, 0, 0, 1, 1, 0, 0, 0, 0, 0, 0, 0, 0, 0, 0, 0, 0, 0, 0, 0, 0]]}, \"header\": {\"align\": \"center\", \"fill\": {\"color\": \"#C2D4FF\"}, \"values\": [\"Time\", \"Play\", \"Pause\", \"Seek from\", \"Seek to\"]}, \"type\": \"table\", \"uid\": \"8ad763c0-0d4a-11e9-ae40-9cf387cc124e\"}], {}, {\"showLink\": true, \"linkText\": \"Export to plot.ly\"})});</script>"
      ],
      "text/vnd.plotly.v1+html": [
       "<div id=\"7adfb4de-4911-4fa5-9829-18f9036511c9\" style=\"height: 525px; width: 100%;\" class=\"plotly-graph-div\"></div><script type=\"text/javascript\">require([\"plotly\"], function(Plotly) { window.PLOTLYENV=window.PLOTLYENV || {};window.PLOTLYENV.BASE_URL=\"https://plot.ly\";Plotly.newPlot(\"7adfb4de-4911-4fa5-9829-18f9036511c9\", [{\"cells\": {\"align\": [\"left\", \"center\"], \"fill\": {\"color\": \"#F5F8FF\"}, \"values\": [[0, 1, 2, 3, 4, 5, 6, 7, 8, 9, 10, 11, 12, 13, 14, 15, 16, 17, 18, 19, 20, 21, 22, 23, 24, 25, 26, 27, 28, 29, 30, 31, 32, 33, 34, 35, 36, 37, 38, 39, 40, 41, 42, 43, 44, 45, 46, 47, 48, 49, 50, 51, 52, 53, 54, 55, 56, 57, 58, 59], [10, 0, 0, 0, 0, 0, 0, 0, 0, 0, 0, 0, 0, 0, 0, 1, 0, 0, 0, 0, 0, 0, 0, 0, 0, 0, 0, 0, 1, 0, 0, 0, 0, 1, 0, 0, 0, 0, 0, 0, 0, 0, 0, 0, 0, 0, 0, 0, 0, 1, 0, 1, 0, 0, 0, 0, 0, 0, 0, 0], [0, 0, 0, 0, 0, 0, 0, 0, 0, 0, 0, 0, 0, 0, 0, 2, 0, 0, 0, 0, 0, 0, 0, 0, 0, 0, 1, 0, 1, 0, 1, 0, 0, 1, 0, 1, 0, 1, 0, 0, 0, 0, 1, 0, 0, 1, 0, 1, 0, 1, 0, 1, 0, 0, 1, 0, 0, 0, 0, 0], [0, 0, 0, 0, 0, 0, 0, 0, 0, 0, 0, 0, 1, 0, 0, 0, 0, 0, 0, 0, 0, 0, 0, 0, 1, 0, 0, 1, 0, 0, 0, 1, 0, 1, 0, 0, 0, 1, 0, 0, 2, 1, 1, 0, 1, 0, 2, 1, 1, 1, 0, 0, 0, 0, 0, 0, 0, 0, 0, 0], [0, 0, 0, 0, 0, 0, 1, 1, 0, 0, 0, 0, 1, 0, 1, 0, 1, 0, 1, 0, 0, 0, 0, 0, 0, 1, 0, 0, 0, 0, 1, 1, 0, 0, 2, 1, 0, 0, 2, 0, 0, 0, 1, 1, 0, 0, 0, 0, 0, 0, 0, 0, 0, 0, 0, 0, 0, 0, 0, 0]]}, \"header\": {\"align\": \"center\", \"fill\": {\"color\": \"#C2D4FF\"}, \"values\": [\"Time\", \"Play\", \"Pause\", \"Seek from\", \"Seek to\"]}, \"type\": \"table\", \"uid\": \"8ad763c0-0d4a-11e9-ae40-9cf387cc124e\"}], {}, {\"showLink\": true, \"linkText\": \"Export to plot.ly\"})});</script>"
      ]
     },
     "metadata": {},
     "output_type": "display_data"
    },
    {
     "ename": "ValueError",
     "evalue": "Invalid property specified for object of type plotly.graph_objs.Layout: 'line'\n\n    Valid properties:\n        angularaxis\n            plotly.graph_objs.layout.AngularAxis instance or dict\n            with compatible properties\n        annotations\n            plotly.graph_objs.layout.Annotation instance or dict\n            with compatible properties\n        autosize\n            Determines whether or not a layout width or height that\n            has been left undefined by the user is initialized on\n            each relayout. Note that, regardless of this attribute,\n            an undefined layout width or height is always\n            initialized on the first call to plot.\n        bargap\n            Sets the gap (in plot fraction) between bars of\n            adjacent location coordinates.\n        bargroupgap\n            Sets the gap (in plot fraction) between bars of the\n            same location coordinate.\n        barmode\n            Determines how bars at the same location coordinate are\n            displayed on the graph. With *stack*, the bars are\n            stacked on top of one another With *relative*, the bars\n            are stacked on top of one another, with negative values\n            below the axis, positive values above With *group*, the\n            bars are plotted next to one another centered around\n            the shared location. With *overlay*, the bars are\n            plotted over one another, you might need to an\n            *opacity* to see multiple bars.\n        barnorm\n            Sets the normalization for bar traces on the graph.\n            With *fraction*, the value of each bar is divide by the\n            sum of the values at the location coordinate. With\n            *percent*, the results form *fraction* are presented in\n            percents.\n        boxgap\n            Sets the gap (in plot fraction) between boxes of\n            adjacent location coordinates.\n        boxgroupgap\n            Sets the gap (in plot fraction) between boxes of the\n            same location coordinate.\n        boxmode\n            Determines how boxes at the same location coordinate\n            are displayed on the graph. If *group*, the boxes are\n            plotted next to one another centered around the shared\n            location. If *overlay*, the boxes are plotted over one\n            another, you might need to set *opacity* to see them\n            multiple boxes.\n        calendar\n            Sets the default calendar system to use for\n            interpreting and displaying dates throughout the plot.\n        colorway\n            Sets the default trace colors.\n        datarevision\n            If provided, a changed value tells `Plotly.react` that\n            one or more data arrays has changed. This way you can\n            modify arrays in-place rather than making a complete\n            new copy for an incremental change. If NOT provided,\n            `Plotly.react` assumes that data arrays are being\n            treated as immutable, thus any data array with a\n            different identity from its predecessor contains new\n            data.\n        direction\n            For polar plots only. Sets the direction corresponding\n            to positive angles.\n        dragmode\n            Determines the mode of drag interactions. *select* and\n            *lasso* apply only to scatter traces with markers or\n            text. *orbit* and *turntable* apply only to 3D scenes.\n        font\n            Sets the global font. Note that fonts used in traces\n            and other layout components inherit from the global\n            font.\n        geo\n            plotly.graph_objs.layout.Geo instance or dict with\n            compatible properties\n        grid\n            plotly.graph_objs.layout.Grid instance or dict with\n            compatible properties\n        height\n            Sets the plot's height (in px).\n        hiddenlabels\n\n        hiddenlabelssrc\n            Sets the source reference on plot.ly for  hiddenlabels\n            .\n        hidesources\n            Determines whether or not a text link citing the data\n            source is placed at the bottom-right cored of the\n            figure. Has only an effect only on graphs that have\n            been generated via forked graphs from the plotly\n            service (at https://plot.ly or on-premise).\n        hoverdistance\n            Sets the default distance (in pixels) to look for data\n            to add hover labels (-1 means no cutoff, 0 means no\n            looking for data). This is only a real distance for\n            hovering on point-like objects, like scatter points.\n            For area-like objects (bars, scatter fills, etc)\n            hovering is on inside the area and off outside, but\n            these objects will not supersede hover on point-like\n            objects in case of conflict.\n        hoverlabel\n            plotly.graph_objs.layout.Hoverlabel instance or dict\n            with compatible properties\n        hovermode\n            Determines the mode of hover interactions.\n        images\n            plotly.graph_objs.layout.Image instance or dict with\n            compatible properties\n        legend\n            plotly.graph_objs.layout.Legend instance or dict with\n            compatible properties\n        mapbox\n            plotly.graph_objs.layout.Mapbox instance or dict with\n            compatible properties\n        margin\n            plotly.graph_objs.layout.Margin instance or dict with\n            compatible properties\n        orientation\n            For polar plots only. Rotates the entire polar by the\n            given angle.\n        paper_bgcolor\n            Sets the color of paper where the graph is drawn.\n        plot_bgcolor\n            Sets the color of plotting area in-between x and y\n            axes.\n        polar\n            plotly.graph_objs.layout.Polar instance or dict with\n            compatible properties\n        radialaxis\n            plotly.graph_objs.layout.RadialAxis instance or dict\n            with compatible properties\n        scene\n            plotly.graph_objs.layout.Scene instance or dict with\n            compatible properties\n        selectdirection\n            When \"dragmode\" is set to \"select\", this limits the\n            selection of the drag to horizontal, vertical or\n            diagonal. \"h\" only allows horizontal selection, \"v\"\n            only vertical, \"d\" only diagonal and \"any\" sets no\n            limit.\n        separators\n            Sets the decimal and thousand separators. For example,\n            *. * puts a '.' before decimals and a space between\n            thousands. In English locales, dflt is *.,* but other\n            locales may alter this default.\n        shapes\n            plotly.graph_objs.layout.Shape instance or dict with\n            compatible properties\n        showlegend\n            Determines whether or not a legend is drawn.\n        sliders\n            plotly.graph_objs.layout.Slider instance or dict with\n            compatible properties\n        spikedistance\n            Sets the default distance (in pixels) to look for data\n            to draw spikelines to (-1 means no cutoff, 0 means no\n            looking for data). As with hoverdistance, distance does\n            not apply to area-like objects. In addition, some\n            objects can be hovered on but will not generate\n            spikelines, such as scatter fills.\n        template\n            Default attributes to be applied to the plot. Templates\n            can be created from existing plots using\n            `Plotly.makeTemplate`, or created manually. They should\n            be objects with format: `{layout: layoutTemplate, data:\n            {[type]: [traceTemplate, ...]}, ...}` `layoutTemplate`\n            and `traceTemplate` are objects matching the attribute\n            structure of `layout` and a data trace.  Trace\n            templates are applied cyclically to traces of each\n            type. Container arrays (eg `annotations`) have special\n            handling: An object ending in `defaults` (eg\n            `annotationdefaults`) is applied to each array item.\n            But if an item has a `templateitemname` key we look in\n            the template array for an item with matching `name` and\n            apply that instead. If no matching `name` is found we\n            mark the item invisible. Any named template item not\n            referenced is appended to the end of the array, so you\n            can use this for a watermark annotation or a logo\n            image, for example. To omit one of these items on the\n            plot, make an item with matching `templateitemname` and\n            `visible: false`.\n        ternary\n            plotly.graph_objs.layout.Ternary instance or dict with\n            compatible properties\n        title\n            Sets the plot's title.\n        titlefont\n            Sets the title font.\n        updatemenus\n            plotly.graph_objs.layout.Updatemenu instance or dict\n            with compatible properties\n        violingap\n            Sets the gap (in plot fraction) between violins of\n            adjacent location coordinates.\n        violingroupgap\n            Sets the gap (in plot fraction) between violins of the\n            same location coordinate.\n        violinmode\n            Determines how violins at the same location coordinate\n            are displayed on the graph. If *group*, the violins are\n            plotted next to one another centered around the shared\n            location. If *overlay*, the violins are plotted over\n            one another, you might need to set *opacity* to see\n            them multiple violins.\n        width\n            Sets the plot's width (in px).\n        xaxis\n            plotly.graph_objs.layout.XAxis instance or dict with\n            compatible properties\n        yaxis\n            plotly.graph_objs.layout.YAxis instance or dict with\n            compatible properties\n        ",
     "output_type": "error",
     "traceback": [
      "\u001b[0;31m---------------------------------------------------------------------------\u001b[0m",
      "\u001b[0;31mValueError\u001b[0m                                Traceback (most recent call last)",
      "\u001b[0;32m<ipython-input-10-b490a15c4469>\u001b[0m in \u001b[0;36m<module>\u001b[0;34m()\u001b[0m\n\u001b[1;32m      2\u001b[0m \u001b[0minstance\u001b[0m\u001b[0;34m.\u001b[0m\u001b[0mgenerate_dataset\u001b[0m\u001b[0;34m(\u001b[0m\u001b[0mnumber_actions\u001b[0m \u001b[0;34m=\u001b[0m \u001b[0;36m50\u001b[0m\u001b[0;34m,\u001b[0m \u001b[0mvideo_size\u001b[0m\u001b[0;34m=\u001b[0m\u001b[0;36m60\u001b[0m\u001b[0;34m)\u001b[0m\u001b[0;34m\u001b[0m\u001b[0m\n\u001b[1;32m      3\u001b[0m \u001b[0;31m# instance.print_all_graphs(\"pt\")\u001b[0m\u001b[0;34m\u001b[0m\u001b[0;34m\u001b[0m\u001b[0m\n\u001b[0;32m----> 4\u001b[0;31m \u001b[0minstance\u001b[0m\u001b[0;34m.\u001b[0m\u001b[0mprint_all_graphs\u001b[0m\u001b[0;34m(\u001b[0m\u001b[0;34m\"en\"\u001b[0m\u001b[0;34m)\u001b[0m\u001b[0;34m\u001b[0m\u001b[0m\n\u001b[0m",
      "\u001b[0;32m~/GitHub/visualization-la/eduvis/V009.py\u001b[0m in \u001b[0;36mprint_all_graphs\u001b[0;34m(self, language)\u001b[0m\n\u001b[1;32m    215\u001b[0m         \u001b[0mself\u001b[0m\u001b[0;34m.\u001b[0m\u001b[0mgraph_01\u001b[0m\u001b[0;34m(\u001b[0m\u001b[0;34m)\u001b[0m \u001b[0;31m#Raw Table\u001b[0m\u001b[0;34m\u001b[0m\u001b[0m\n\u001b[1;32m    216\u001b[0m         \u001b[0mself\u001b[0m\u001b[0;34m.\u001b[0m\u001b[0mgraph_02\u001b[0m\u001b[0;34m(\u001b[0m\u001b[0;34m)\u001b[0m \u001b[0;31m#Processed Table\u001b[0m\u001b[0;34m\u001b[0m\u001b[0m\n\u001b[0;32m--> 217\u001b[0;31m         \u001b[0mself\u001b[0m\u001b[0;34m.\u001b[0m\u001b[0mgraph_03\u001b[0m\u001b[0;34m(\u001b[0m\u001b[0;34m)\u001b[0m\u001b[0;34m\u001b[0m\u001b[0m\n\u001b[0m\u001b[1;32m    218\u001b[0m         \u001b[0mself\u001b[0m\u001b[0;34m.\u001b[0m\u001b[0mgraph_04\u001b[0m\u001b[0;34m(\u001b[0m\u001b[0;34m)\u001b[0m\u001b[0;34m\u001b[0m\u001b[0m\n",
      "\u001b[0;32m~/GitHub/visualization-la/eduvis/V009.py\u001b[0m in \u001b[0;36mgraph_03\u001b[0;34m(self)\u001b[0m\n\u001b[1;32m    197\u001b[0m         layout = Layout(\n\u001b[1;32m    198\u001b[0m             line=dict(width=0.5,\n\u001b[0;32m--> 199\u001b[0;31m                         color='rgb(111, 231, 219)'),\n\u001b[0m\u001b[1;32m    200\u001b[0m         )\n\u001b[1;32m    201\u001b[0m \u001b[0;34m\u001b[0m\u001b[0m\n",
      "\u001b[0;32m~/.local/lib/python3.6/site-packages/plotly/graph_objs/_layout.py\u001b[0m in \u001b[0;36m__init__\u001b[0;34m(self, arg, angularaxis, annotations, autosize, bargap, bargroupgap, barmode, barnorm, boxgap, boxgroupgap, boxmode, calendar, colorway, datarevision, direction, dragmode, font, geo, grid, height, hiddenlabels, hiddenlabelssrc, hidesources, hoverdistance, hoverlabel, hovermode, images, legend, mapbox, margin, orientation, paper_bgcolor, plot_bgcolor, polar, radialaxis, scene, selectdirection, separators, shapes, showlegend, sliders, spikedistance, template, ternary, title, titlefont, updatemenus, violingap, violingroupgap, violinmode, width, xaxis, yaxis, **kwargs)\u001b[0m\n\u001b[1;32m   3789\u001b[0m         \u001b[0;31m# Process unknown kwargs\u001b[0m\u001b[0;34m\u001b[0m\u001b[0;34m\u001b[0m\u001b[0m\n\u001b[1;32m   3790\u001b[0m         \u001b[0;31m# ----------------------\u001b[0m\u001b[0;34m\u001b[0m\u001b[0;34m\u001b[0m\u001b[0m\n\u001b[0;32m-> 3791\u001b[0;31m         \u001b[0mself\u001b[0m\u001b[0;34m.\u001b[0m\u001b[0m_process_kwargs\u001b[0m\u001b[0;34m(\u001b[0m\u001b[0;34m**\u001b[0m\u001b[0mdict\u001b[0m\u001b[0;34m(\u001b[0m\u001b[0marg\u001b[0m\u001b[0;34m,\u001b[0m \u001b[0;34m**\u001b[0m\u001b[0mkwargs\u001b[0m\u001b[0;34m)\u001b[0m\u001b[0;34m)\u001b[0m\u001b[0;34m\u001b[0m\u001b[0m\n\u001b[0m",
      "\u001b[0;32m~/.local/lib/python3.6/site-packages/plotly/basedatatypes.py\u001b[0m in \u001b[0;36m_process_kwargs\u001b[0;34m(self, **kwargs)\u001b[0m\n\u001b[1;32m   3427\u001b[0m             \u001b[0;32mif\u001b[0m \u001b[0;32mnot\u001b[0m \u001b[0mself\u001b[0m\u001b[0;34m.\u001b[0m\u001b[0m_subplotid_prop_re\u001b[0m\u001b[0;34m.\u001b[0m\u001b[0mmatch\u001b[0m\u001b[0;34m(\u001b[0m\u001b[0mk\u001b[0m\u001b[0;34m)\u001b[0m\u001b[0;34m\u001b[0m\u001b[0m\n\u001b[1;32m   3428\u001b[0m         }\n\u001b[0;32m-> 3429\u001b[0;31m         \u001b[0msuper\u001b[0m\u001b[0;34m(\u001b[0m\u001b[0mBaseLayoutHierarchyType\u001b[0m\u001b[0;34m,\u001b[0m \u001b[0mself\u001b[0m\u001b[0;34m)\u001b[0m\u001b[0;34m.\u001b[0m\u001b[0m_process_kwargs\u001b[0m\u001b[0;34m(\u001b[0m\u001b[0;34m**\u001b[0m\u001b[0munknown_kwargs\u001b[0m\u001b[0;34m)\u001b[0m\u001b[0;34m\u001b[0m\u001b[0m\n\u001b[0m\u001b[1;32m   3430\u001b[0m \u001b[0;34m\u001b[0m\u001b[0m\n\u001b[1;32m   3431\u001b[0m         subplot_kwargs = {\n",
      "\u001b[0;32m~/.local/lib/python3.6/site-packages/plotly/basedatatypes.py\u001b[0m in \u001b[0;36m_process_kwargs\u001b[0;34m(self, **kwargs)\u001b[0m\n\u001b[1;32m   2242\u001b[0m         \u001b[0mProcess\u001b[0m \u001b[0many\u001b[0m \u001b[0mextra\u001b[0m \u001b[0mkwargs\u001b[0m \u001b[0mthat\u001b[0m \u001b[0mare\u001b[0m \u001b[0;32mnot\u001b[0m \u001b[0mpredefined\u001b[0m \u001b[0;32mas\u001b[0m \u001b[0mconstructor\u001b[0m \u001b[0mparams\u001b[0m\u001b[0;34m\u001b[0m\u001b[0m\n\u001b[1;32m   2243\u001b[0m         \"\"\"\n\u001b[0;32m-> 2244\u001b[0;31m         \u001b[0mself\u001b[0m\u001b[0;34m.\u001b[0m\u001b[0m_raise_on_invalid_property_error\u001b[0m\u001b[0;34m(\u001b[0m\u001b[0;34m*\u001b[0m\u001b[0mkwargs\u001b[0m\u001b[0;34m.\u001b[0m\u001b[0mkeys\u001b[0m\u001b[0;34m(\u001b[0m\u001b[0;34m)\u001b[0m\u001b[0;34m)\u001b[0m\u001b[0;34m\u001b[0m\u001b[0m\n\u001b[0m\u001b[1;32m   2245\u001b[0m \u001b[0;34m\u001b[0m\u001b[0m\n\u001b[1;32m   2246\u001b[0m     \u001b[0;34m@\u001b[0m\u001b[0mproperty\u001b[0m\u001b[0;34m\u001b[0m\u001b[0m\n",
      "\u001b[0;32m~/.local/lib/python3.6/site-packages/plotly/basedatatypes.py\u001b[0m in \u001b[0;36m_raise_on_invalid_property_error\u001b[0;34m(self, *args)\u001b[0m\n\u001b[1;32m   2827\u001b[0m                                  \u001b[0mfull_obj_name\u001b[0m\u001b[0;34m=\u001b[0m\u001b[0mfull_obj_name\u001b[0m\u001b[0;34m,\u001b[0m\u001b[0;34m\u001b[0m\u001b[0m\n\u001b[1;32m   2828\u001b[0m                                  \u001b[0minvalid_str\u001b[0m\u001b[0;34m=\u001b[0m\u001b[0minvalid_str\u001b[0m\u001b[0;34m,\u001b[0m\u001b[0;34m\u001b[0m\u001b[0m\n\u001b[0;32m-> 2829\u001b[0;31m                                  prop_descriptions=self._prop_descriptions))\n\u001b[0m\u001b[1;32m   2830\u001b[0m \u001b[0;34m\u001b[0m\u001b[0m\n\u001b[1;32m   2831\u001b[0m     \u001b[0;32mdef\u001b[0m \u001b[0mupdate\u001b[0m\u001b[0;34m(\u001b[0m\u001b[0mself\u001b[0m\u001b[0;34m,\u001b[0m \u001b[0mdict1\u001b[0m\u001b[0;34m=\u001b[0m\u001b[0;32mNone\u001b[0m\u001b[0;34m,\u001b[0m \u001b[0;34m**\u001b[0m\u001b[0mkwargs\u001b[0m\u001b[0;34m)\u001b[0m\u001b[0;34m:\u001b[0m\u001b[0;34m\u001b[0m\u001b[0m\n",
      "\u001b[0;31mValueError\u001b[0m: Invalid property specified for object of type plotly.graph_objs.Layout: 'line'\n\n    Valid properties:\n        angularaxis\n            plotly.graph_objs.layout.AngularAxis instance or dict\n            with compatible properties\n        annotations\n            plotly.graph_objs.layout.Annotation instance or dict\n            with compatible properties\n        autosize\n            Determines whether or not a layout width or height that\n            has been left undefined by the user is initialized on\n            each relayout. Note that, regardless of this attribute,\n            an undefined layout width or height is always\n            initialized on the first call to plot.\n        bargap\n            Sets the gap (in plot fraction) between bars of\n            adjacent location coordinates.\n        bargroupgap\n            Sets the gap (in plot fraction) between bars of the\n            same location coordinate.\n        barmode\n            Determines how bars at the same location coordinate are\n            displayed on the graph. With *stack*, the bars are\n            stacked on top of one another With *relative*, the bars\n            are stacked on top of one another, with negative values\n            below the axis, positive values above With *group*, the\n            bars are plotted next to one another centered around\n            the shared location. With *overlay*, the bars are\n            plotted over one another, you might need to an\n            *opacity* to see multiple bars.\n        barnorm\n            Sets the normalization for bar traces on the graph.\n            With *fraction*, the value of each bar is divide by the\n            sum of the values at the location coordinate. With\n            *percent*, the results form *fraction* are presented in\n            percents.\n        boxgap\n            Sets the gap (in plot fraction) between boxes of\n            adjacent location coordinates.\n        boxgroupgap\n            Sets the gap (in plot fraction) between boxes of the\n            same location coordinate.\n        boxmode\n            Determines how boxes at the same location coordinate\n            are displayed on the graph. If *group*, the boxes are\n            plotted next to one another centered around the shared\n            location. If *overlay*, the boxes are plotted over one\n            another, you might need to set *opacity* to see them\n            multiple boxes.\n        calendar\n            Sets the default calendar system to use for\n            interpreting and displaying dates throughout the plot.\n        colorway\n            Sets the default trace colors.\n        datarevision\n            If provided, a changed value tells `Plotly.react` that\n            one or more data arrays has changed. This way you can\n            modify arrays in-place rather than making a complete\n            new copy for an incremental change. If NOT provided,\n            `Plotly.react` assumes that data arrays are being\n            treated as immutable, thus any data array with a\n            different identity from its predecessor contains new\n            data.\n        direction\n            For polar plots only. Sets the direction corresponding\n            to positive angles.\n        dragmode\n            Determines the mode of drag interactions. *select* and\n            *lasso* apply only to scatter traces with markers or\n            text. *orbit* and *turntable* apply only to 3D scenes.\n        font\n            Sets the global font. Note that fonts used in traces\n            and other layout components inherit from the global\n            font.\n        geo\n            plotly.graph_objs.layout.Geo instance or dict with\n            compatible properties\n        grid\n            plotly.graph_objs.layout.Grid instance or dict with\n            compatible properties\n        height\n            Sets the plot's height (in px).\n        hiddenlabels\n\n        hiddenlabelssrc\n            Sets the source reference on plot.ly for  hiddenlabels\n            .\n        hidesources\n            Determines whether or not a text link citing the data\n            source is placed at the bottom-right cored of the\n            figure. Has only an effect only on graphs that have\n            been generated via forked graphs from the plotly\n            service (at https://plot.ly or on-premise).\n        hoverdistance\n            Sets the default distance (in pixels) to look for data\n            to add hover labels (-1 means no cutoff, 0 means no\n            looking for data). This is only a real distance for\n            hovering on point-like objects, like scatter points.\n            For area-like objects (bars, scatter fills, etc)\n            hovering is on inside the area and off outside, but\n            these objects will not supersede hover on point-like\n            objects in case of conflict.\n        hoverlabel\n            plotly.graph_objs.layout.Hoverlabel instance or dict\n            with compatible properties\n        hovermode\n            Determines the mode of hover interactions.\n        images\n            plotly.graph_objs.layout.Image instance or dict with\n            compatible properties\n        legend\n            plotly.graph_objs.layout.Legend instance or dict with\n            compatible properties\n        mapbox\n            plotly.graph_objs.layout.Mapbox instance or dict with\n            compatible properties\n        margin\n            plotly.graph_objs.layout.Margin instance or dict with\n            compatible properties\n        orientation\n            For polar plots only. Rotates the entire polar by the\n            given angle.\n        paper_bgcolor\n            Sets the color of paper where the graph is drawn.\n        plot_bgcolor\n            Sets the color of plotting area in-between x and y\n            axes.\n        polar\n            plotly.graph_objs.layout.Polar instance or dict with\n            compatible properties\n        radialaxis\n            plotly.graph_objs.layout.RadialAxis instance or dict\n            with compatible properties\n        scene\n            plotly.graph_objs.layout.Scene instance or dict with\n            compatible properties\n        selectdirection\n            When \"dragmode\" is set to \"select\", this limits the\n            selection of the drag to horizontal, vertical or\n            diagonal. \"h\" only allows horizontal selection, \"v\"\n            only vertical, \"d\" only diagonal and \"any\" sets no\n            limit.\n        separators\n            Sets the decimal and thousand separators. For example,\n            *. * puts a '.' before decimals and a space between\n            thousands. In English locales, dflt is *.,* but other\n            locales may alter this default.\n        shapes\n            plotly.graph_objs.layout.Shape instance or dict with\n            compatible properties\n        showlegend\n            Determines whether or not a legend is drawn.\n        sliders\n            plotly.graph_objs.layout.Slider instance or dict with\n            compatible properties\n        spikedistance\n            Sets the default distance (in pixels) to look for data\n            to draw spikelines to (-1 means no cutoff, 0 means no\n            looking for data). As with hoverdistance, distance does\n            not apply to area-like objects. In addition, some\n            objects can be hovered on but will not generate\n            spikelines, such as scatter fills.\n        template\n            Default attributes to be applied to the plot. Templates\n            can be created from existing plots using\n            `Plotly.makeTemplate`, or created manually. They should\n            be objects with format: `{layout: layoutTemplate, data:\n            {[type]: [traceTemplate, ...]}, ...}` `layoutTemplate`\n            and `traceTemplate` are objects matching the attribute\n            structure of `layout` and a data trace.  Trace\n            templates are applied cyclically to traces of each\n            type. Container arrays (eg `annotations`) have special\n            handling: An object ending in `defaults` (eg\n            `annotationdefaults`) is applied to each array item.\n            But if an item has a `templateitemname` key we look in\n            the template array for an item with matching `name` and\n            apply that instead. If no matching `name` is found we\n            mark the item invisible. Any named template item not\n            referenced is appended to the end of the array, so you\n            can use this for a watermark annotation or a logo\n            image, for example. To omit one of these items on the\n            plot, make an item with matching `templateitemname` and\n            `visible: false`.\n        ternary\n            plotly.graph_objs.layout.Ternary instance or dict with\n            compatible properties\n        title\n            Sets the plot's title.\n        titlefont\n            Sets the title font.\n        updatemenus\n            plotly.graph_objs.layout.Updatemenu instance or dict\n            with compatible properties\n        violingap\n            Sets the gap (in plot fraction) between violins of\n            adjacent location coordinates.\n        violingroupgap\n            Sets the gap (in plot fraction) between violins of the\n            same location coordinate.\n        violinmode\n            Determines how violins at the same location coordinate\n            are displayed on the graph. If *group*, the violins are\n            plotted next to one another centered around the shared\n            location. If *overlay*, the violins are plotted over\n            one another, you might need to set *opacity* to see\n            them multiple violins.\n        width\n            Sets the plot's width (in px).\n        xaxis\n            plotly.graph_objs.layout.XAxis instance or dict with\n            compatible properties\n        yaxis\n            plotly.graph_objs.layout.YAxis instance or dict with\n            compatible properties\n        "
     ]
    }
   ],
   "source": [
    "instance = V009()\n",
    "instance.generate_dataset(number_actions = 50, video_size=60)\n",
    "# instance.print_all_graphs(\"pt\")\n",
    "instance.print_all_graphs(\"en\")"
   ]
  },
  {
   "cell_type": "markdown",
   "metadata": {},
   "source": [
    "### View 010 - Vídeos que os estudantes entenderam e não entenderam"
   ]
  },
  {
   "cell_type": "code",
   "execution_count": null,
   "metadata": {
    "scrolled": true
   },
   "outputs": [],
   "source": [
    "run V010.py"
   ]
  },
  {
   "cell_type": "code",
   "execution_count": null,
   "metadata": {
    "scrolled": false
   },
   "outputs": [],
   "source": [
    "instance = V010()\n",
    "instance.generate_dataset(number_students=35, number_video=10)\n",
    "# instance.print_all_graphs(\"pt\")\n",
    "instance.print_all_graphs(\"en\")"
   ]
  },
  {
   "cell_type": "markdown",
   "metadata": {},
   "source": [
    "### View 011 - Padrão de navegação dos estudantes no AVA"
   ]
  },
  {
   "cell_type": "code",
   "execution_count": null,
   "metadata": {},
   "outputs": [],
   "source": [
    "run V011.py"
   ]
  },
  {
   "cell_type": "code",
   "execution_count": null,
   "metadata": {},
   "outputs": [],
   "source": []
  },
  {
   "cell_type": "code",
   "execution_count": null,
   "metadata": {},
   "outputs": [],
   "source": []
  }
 ],
 "metadata": {
  "kernelspec": {
   "display_name": "Python 3",
   "language": "python",
   "name": "python3"
  },
  "language_info": {
   "codemirror_mode": {
    "name": "ipython",
    "version": 3
   },
   "file_extension": ".py",
   "mimetype": "text/x-python",
   "name": "python",
   "nbconvert_exporter": "python",
   "pygments_lexer": "ipython3",
   "version": "3.6.4"
  }
 },
 "nbformat": 4,
 "nbformat_minor": 2
}
