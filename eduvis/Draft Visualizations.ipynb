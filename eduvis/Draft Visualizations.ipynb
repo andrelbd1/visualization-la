{
 "cells": [
  {
   "cell_type": "markdown",
   "metadata": {},
   "source": [
    "### View 001 - Tarefas feitas pelos estudantes"
   ]
  },
  {
   "cell_type": "code",
   "execution_count": null,
   "metadata": {},
   "outputs": [],
   "source": [
    "run V001.py"
   ]
  },
  {
   "cell_type": "code",
   "execution_count": null,
   "metadata": {
    "scrolled": true
   },
   "outputs": [],
   "source": [
    "instance = V001()\n",
    "instance.generate_dataset(number_students = 20, number_assigns = 10)\n",
    "# instance.print_all_graphs(\"pt\")\n",
    "instance.print_all_graphs(\"en\")"
   ]
  },
  {
   "cell_type": "markdown",
   "metadata": {},
   "source": [
    "### View 002 - Acesso dos estudantes aos materiais (ex: videos, ebooks, etc.)"
   ]
  },
  {
   "cell_type": "code",
   "execution_count": null,
   "metadata": {
    "scrolled": true
   },
   "outputs": [],
   "source": [
    "run V002.py"
   ]
  },
  {
   "cell_type": "code",
   "execution_count": null,
   "metadata": {},
   "outputs": [],
   "source": [
    "instance = V002()\n",
    "instance.generate_dataset(number_students = 20)\n",
    "# instance.print_all_graphs(\"pt\")\n",
    "instance.print_all_graphs(\"en\")"
   ]
  },
  {
   "cell_type": "markdown",
   "metadata": {},
   "source": [
    "### View 003 - Interação dos estudantes no fórum (ex: postagens, acessos, etc.)"
   ]
  },
  {
   "cell_type": "code",
   "execution_count": null,
   "metadata": {
    "scrolled": true
   },
   "outputs": [],
   "source": [
    "run V003.py"
   ]
  },
  {
   "cell_type": "code",
   "execution_count": null,
   "metadata": {},
   "outputs": [],
   "source": [
    "instance = V003(20)\n",
    "instance.generate_dataset(number_students = 20)\n",
    "# instance.print_all_graphs(\"pt\")\n",
    "instance.print_all_graphs(\"en\")"
   ]
  },
  {
   "cell_type": "markdown",
   "metadata": {},
   "source": [
    "### View 004 - Tempo de permanencia dos estudantes nos vídeos"
   ]
  },
  {
   "cell_type": "code",
   "execution_count": null,
   "metadata": {
    "scrolled": true
   },
   "outputs": [],
   "source": [
    "run V004.py"
   ]
  },
  {
   "cell_type": "code",
   "execution_count": null,
   "metadata": {},
   "outputs": [],
   "source": [
    "instance = V004()\n",
    "instance.generate_dataset(number_students = 20)\n",
    "# instance.print_all_graphs(\"pt\")\n",
    "instance.print_all_graphs(\"en\")"
   ]
  },
  {
   "cell_type": "markdown",
   "metadata": {},
   "source": [
    "### View 005 - Correlação entre as notas e os logs de acesso/interação dos estudantes"
   ]
  },
  {
   "cell_type": "code",
   "execution_count": null,
   "metadata": {},
   "outputs": [],
   "source": [
    "run V005.py"
   ]
  },
  {
   "cell_type": "code",
   "execution_count": null,
   "metadata": {
    "scrolled": true
   },
   "outputs": [],
   "source": [
    "instance = V005()\n",
    "instance.generate_dataset(number_students = 60)\n",
    "# instance.print_all_graphs(\"pt\")\n",
    "instance.print_all_graphs(\"en\")"
   ]
  },
  {
   "cell_type": "markdown",
   "metadata": {},
   "source": [
    "### View 006 - Correlação entre o perfil (idade, cidade de origem, etc.) e os logs de acesso/interação dos estudantes"
   ]
  },
  {
   "cell_type": "code",
   "execution_count": null,
   "metadata": {
    "scrolled": true
   },
   "outputs": [],
   "source": [
    "run V006.py"
   ]
  },
  {
   "cell_type": "code",
   "execution_count": null,
   "metadata": {},
   "outputs": [],
   "source": [
    "instance = V006()\n",
    "instance.generate_dataset(number_students = 60)\n",
    "# instance.print_all_graphs(\"pt\")\n",
    "instance.print_all_graphs(\"en\")"
   ]
  },
  {
   "cell_type": "markdown",
   "metadata": {},
   "source": [
    "### View 007 - Predição das notas que os estudante terão ao final do curso e quais abandonarão"
   ]
  },
  {
   "cell_type": "code",
   "execution_count": 13,
   "metadata": {},
   "outputs": [
    {
     "data": {
      "text/html": [
       "<script>requirejs.config({paths: { 'plotly': ['https://cdn.plot.ly/plotly-latest.min']},});if(!window.Plotly) {{require(['plotly'],function(plotly) {window.Plotly=plotly;});}}</script>"
      ],
      "text/vnd.plotly.v1+html": [
       "<script>requirejs.config({paths: { 'plotly': ['https://cdn.plot.ly/plotly-latest.min']},});if(!window.Plotly) {{require(['plotly'],function(plotly) {window.Plotly=plotly;});}}</script>"
      ]
     },
     "metadata": {},
     "output_type": "display_data"
    }
   ],
   "source": [
    "run V007.py"
   ]
  },
  {
   "cell_type": "code",
   "execution_count": 14,
   "metadata": {
    "scrolled": false
   },
   "outputs": [
    {
     "data": {
      "application/vnd.plotly.v1+json": {
       "data": [
        {
         "box": {
          "visible": true
         },
         "line": {
          "color": "rgb(255,0,0)"
         },
         "marker": {
          "line": {
           "width": 1
          }
         },
         "meanline": {
          "visible": true
         },
         "name": "Cluster 1",
         "points": "all",
         "text": [
          "GUARACI",
          "JANESIO"
         ],
         "type": "violin",
         "uid": "932da67a-1157-11e9-9fbe-9cf387cc124e",
         "x": [
          "Cluster 1",
          "Cluster 1"
         ],
         "y": [
          0,
          0
         ]
        },
        {
         "box": {
          "visible": true
         },
         "line": {
          "color": "rgb(127,0,127)"
         },
         "marker": {
          "line": {
           "width": 1
          }
         },
         "meanline": {
          "visible": true
         },
         "name": "Cluster 2",
         "points": "all",
         "text": [
          "LUAN"
         ],
         "type": "violin",
         "uid": "932db018-1157-11e9-bbe7-9cf387cc124e",
         "x": [
          "Cluster 2"
         ],
         "y": [
          29
         ]
        },
        {
         "box": {
          "visible": true
         },
         "line": {
          "color": "rgb(0,0,255)"
         },
         "marker": {
          "line": {
           "width": 1
          }
         },
         "meanline": {
          "visible": true
         },
         "name": "Cluster 3",
         "points": "all",
         "text": [
          "TACIA",
          "DARLIEL",
          "ROLAND"
         ],
         "type": "violin",
         "uid": "932db18a-1157-11e9-86c0-9cf387cc124e",
         "x": [
          "Cluster 3",
          "Cluster 3",
          "Cluster 3"
         ],
         "y": [
          59,
          66,
          68
         ]
        },
        {
         "box": {
          "visible": true
         },
         "line": {
          "color": "rgb(0,255,0)"
         },
         "marker": {
          "line": {
           "width": 1
          }
         },
         "meanline": {
          "visible": true
         },
         "name": "Cluster 4",
         "points": "all",
         "text": [
          "IVAINA",
          "JOICIMEIRE",
          "NARAISA",
          "VALMICLEIA",
          "CINESIO"
         ],
         "type": "violin",
         "uid": "932db298-1157-11e9-a1b7-9cf387cc124e",
         "x": [
          "Cluster 4",
          "Cluster 4",
          "Cluster 4",
          "Cluster 4",
          "Cluster 4"
         ],
         "y": [
          64,
          65,
          73,
          74,
          80
         ]
        },
        {
         "box": {
          "visible": true
         },
         "line": {
          "color": "rgb(255, 192, 203)"
         },
         "marker": {
          "line": {
           "width": 1
          }
         },
         "meanline": {
          "visible": true
         },
         "name": "Cluster 5",
         "points": "all",
         "text": [
          "JOSELMA",
          "CLAUDELUCIA",
          "ADJAILSON",
          "ELIDONES",
          "JOSEIRES",
          "WIRTON"
         ],
         "type": "violin",
         "uid": "932db39c-1157-11e9-a924-9cf387cc124e",
         "x": [
          "Cluster 5",
          "Cluster 5",
          "Cluster 5",
          "Cluster 5",
          "Cluster 5",
          "Cluster 5"
         ],
         "y": [
          73,
          75,
          78,
          81,
          84,
          88
         ]
        },
        {
         "box": {
          "visible": true
         },
         "line": {
          "color": "rgb(131, 90, 241)"
         },
         "marker": {
          "line": {
           "width": 1
          }
         },
         "meanline": {
          "visible": true
         },
         "name": "Cluster 6",
         "points": "all",
         "text": [
          "TAIANI",
          "LUCIU",
          "NEUSMAR"
         ],
         "type": "violin",
         "uid": "932db48c-1157-11e9-b69f-9cf387cc124e",
         "x": [
          "Cluster 6",
          "Cluster 6",
          "Cluster 6"
         ],
         "y": [
          74,
          80,
          82
         ]
        }
       ],
       "layout": {
        "hovermode": "closest",
        "showlegend": true,
        "title": "Students' grades variation by cluster",
        "xaxis": {
         "title": "",
         "titlefont": {
          "color": "rgb(180,180,180)"
         }
        },
        "yaxis": {
         "fixedrange": false,
         "range": [
          -15,
          98
         ],
         "rangemode": "normal",
         "title": "Grades",
         "titlefont": {
          "color": "rgb(180,180,180)"
         },
         "zeroline": false
        }
       }
      },
      "text/html": [
       "<div id=\"7f0918ab-ed89-4845-a688-24a2dc26db91\" style=\"height: 525px; width: 100%;\" class=\"plotly-graph-div\"></div><script type=\"text/javascript\">require([\"plotly\"], function(Plotly) { window.PLOTLYENV=window.PLOTLYENV || {};window.PLOTLYENV.BASE_URL=\"https://plot.ly\";\n",
       "        Plotly.plot(\n",
       "            '7f0918ab-ed89-4845-a688-24a2dc26db91',\n",
       "            [{\"box\": {\"visible\": true}, \"line\": {\"color\": \"rgb(255,0,0)\"}, \"marker\": {\"line\": {\"width\": 1}}, \"meanline\": {\"visible\": true}, \"name\": \"Cluster 1\", \"points\": \"all\", \"text\": [\"GUARACI\", \"JANESIO\"], \"x\": [\"Cluster 1\", \"Cluster 1\"], \"y\": [0, 0], \"type\": \"violin\", \"uid\": \"932da67a-1157-11e9-9fbe-9cf387cc124e\"}, {\"box\": {\"visible\": true}, \"line\": {\"color\": \"rgb(127,0,127)\"}, \"marker\": {\"line\": {\"width\": 1}}, \"meanline\": {\"visible\": true}, \"name\": \"Cluster 2\", \"points\": \"all\", \"text\": [\"LUAN\"], \"x\": [\"Cluster 2\"], \"y\": [29], \"type\": \"violin\", \"uid\": \"932db018-1157-11e9-bbe7-9cf387cc124e\"}, {\"box\": {\"visible\": true}, \"line\": {\"color\": \"rgb(0,0,255)\"}, \"marker\": {\"line\": {\"width\": 1}}, \"meanline\": {\"visible\": true}, \"name\": \"Cluster 3\", \"points\": \"all\", \"text\": [\"TACIA\", \"DARLIEL\", \"ROLAND\"], \"x\": [\"Cluster 3\", \"Cluster 3\", \"Cluster 3\"], \"y\": [59, 66, 68], \"type\": \"violin\", \"uid\": \"932db18a-1157-11e9-86c0-9cf387cc124e\"}, {\"box\": {\"visible\": true}, \"line\": {\"color\": \"rgb(0,255,0)\"}, \"marker\": {\"line\": {\"width\": 1}}, \"meanline\": {\"visible\": true}, \"name\": \"Cluster 4\", \"points\": \"all\", \"text\": [\"IVAINA\", \"JOICIMEIRE\", \"NARAISA\", \"VALMICLEIA\", \"CINESIO\"], \"x\": [\"Cluster 4\", \"Cluster 4\", \"Cluster 4\", \"Cluster 4\", \"Cluster 4\"], \"y\": [64, 65, 73, 74, 80], \"type\": \"violin\", \"uid\": \"932db298-1157-11e9-a1b7-9cf387cc124e\"}, {\"box\": {\"visible\": true}, \"line\": {\"color\": \"rgb(255, 192, 203)\"}, \"marker\": {\"line\": {\"width\": 1}}, \"meanline\": {\"visible\": true}, \"name\": \"Cluster 5\", \"points\": \"all\", \"text\": [\"JOSELMA\", \"CLAUDELUCIA\", \"ADJAILSON\", \"ELIDONES\", \"JOSEIRES\", \"WIRTON\"], \"x\": [\"Cluster 5\", \"Cluster 5\", \"Cluster 5\", \"Cluster 5\", \"Cluster 5\", \"Cluster 5\"], \"y\": [73, 75, 78, 81, 84, 88], \"type\": \"violin\", \"uid\": \"932db39c-1157-11e9-a924-9cf387cc124e\"}, {\"box\": {\"visible\": true}, \"line\": {\"color\": \"rgb(131, 90, 241)\"}, \"marker\": {\"line\": {\"width\": 1}}, \"meanline\": {\"visible\": true}, \"name\": \"Cluster 6\", \"points\": \"all\", \"text\": [\"TAIANI\", \"LUCIU\", \"NEUSMAR\"], \"x\": [\"Cluster 6\", \"Cluster 6\", \"Cluster 6\"], \"y\": [74, 80, 82], \"type\": \"violin\", \"uid\": \"932db48c-1157-11e9-b69f-9cf387cc124e\"}],\n",
       "            {\"hovermode\": \"closest\", \"showlegend\": true, \"title\": \"Students' grades variation by cluster\", \"xaxis\": {\"title\": \"\", \"titlefont\": {\"color\": \"rgb(180,180,180)\"}}, \"yaxis\": {\"fixedrange\": false, \"range\": [-15, 98], \"rangemode\": \"normal\", \"title\": \"Grades\", \"titlefont\": {\"color\": \"rgb(180,180,180)\"}, \"zeroline\": false}},\n",
       "            {\"showLink\": true, \"linkText\": \"Export to plot.ly\"}\n",
       "        ).then(function () {return Plotly.addFrames('7f0918ab-ed89-4845-a688-24a2dc26db91',{});}).then(function(){Plotly.animate('7f0918ab-ed89-4845-a688-24a2dc26db91');})\n",
       "        });</script>"
      ],
      "text/vnd.plotly.v1+html": [
       "<div id=\"7f0918ab-ed89-4845-a688-24a2dc26db91\" style=\"height: 525px; width: 100%;\" class=\"plotly-graph-div\"></div><script type=\"text/javascript\">require([\"plotly\"], function(Plotly) { window.PLOTLYENV=window.PLOTLYENV || {};window.PLOTLYENV.BASE_URL=\"https://plot.ly\";\n",
       "        Plotly.plot(\n",
       "            '7f0918ab-ed89-4845-a688-24a2dc26db91',\n",
       "            [{\"box\": {\"visible\": true}, \"line\": {\"color\": \"rgb(255,0,0)\"}, \"marker\": {\"line\": {\"width\": 1}}, \"meanline\": {\"visible\": true}, \"name\": \"Cluster 1\", \"points\": \"all\", \"text\": [\"GUARACI\", \"JANESIO\"], \"x\": [\"Cluster 1\", \"Cluster 1\"], \"y\": [0, 0], \"type\": \"violin\", \"uid\": \"932da67a-1157-11e9-9fbe-9cf387cc124e\"}, {\"box\": {\"visible\": true}, \"line\": {\"color\": \"rgb(127,0,127)\"}, \"marker\": {\"line\": {\"width\": 1}}, \"meanline\": {\"visible\": true}, \"name\": \"Cluster 2\", \"points\": \"all\", \"text\": [\"LUAN\"], \"x\": [\"Cluster 2\"], \"y\": [29], \"type\": \"violin\", \"uid\": \"932db018-1157-11e9-bbe7-9cf387cc124e\"}, {\"box\": {\"visible\": true}, \"line\": {\"color\": \"rgb(0,0,255)\"}, \"marker\": {\"line\": {\"width\": 1}}, \"meanline\": {\"visible\": true}, \"name\": \"Cluster 3\", \"points\": \"all\", \"text\": [\"TACIA\", \"DARLIEL\", \"ROLAND\"], \"x\": [\"Cluster 3\", \"Cluster 3\", \"Cluster 3\"], \"y\": [59, 66, 68], \"type\": \"violin\", \"uid\": \"932db18a-1157-11e9-86c0-9cf387cc124e\"}, {\"box\": {\"visible\": true}, \"line\": {\"color\": \"rgb(0,255,0)\"}, \"marker\": {\"line\": {\"width\": 1}}, \"meanline\": {\"visible\": true}, \"name\": \"Cluster 4\", \"points\": \"all\", \"text\": [\"IVAINA\", \"JOICIMEIRE\", \"NARAISA\", \"VALMICLEIA\", \"CINESIO\"], \"x\": [\"Cluster 4\", \"Cluster 4\", \"Cluster 4\", \"Cluster 4\", \"Cluster 4\"], \"y\": [64, 65, 73, 74, 80], \"type\": \"violin\", \"uid\": \"932db298-1157-11e9-a1b7-9cf387cc124e\"}, {\"box\": {\"visible\": true}, \"line\": {\"color\": \"rgb(255, 192, 203)\"}, \"marker\": {\"line\": {\"width\": 1}}, \"meanline\": {\"visible\": true}, \"name\": \"Cluster 5\", \"points\": \"all\", \"text\": [\"JOSELMA\", \"CLAUDELUCIA\", \"ADJAILSON\", \"ELIDONES\", \"JOSEIRES\", \"WIRTON\"], \"x\": [\"Cluster 5\", \"Cluster 5\", \"Cluster 5\", \"Cluster 5\", \"Cluster 5\", \"Cluster 5\"], \"y\": [73, 75, 78, 81, 84, 88], \"type\": \"violin\", \"uid\": \"932db39c-1157-11e9-a924-9cf387cc124e\"}, {\"box\": {\"visible\": true}, \"line\": {\"color\": \"rgb(131, 90, 241)\"}, \"marker\": {\"line\": {\"width\": 1}}, \"meanline\": {\"visible\": true}, \"name\": \"Cluster 6\", \"points\": \"all\", \"text\": [\"TAIANI\", \"LUCIU\", \"NEUSMAR\"], \"x\": [\"Cluster 6\", \"Cluster 6\", \"Cluster 6\"], \"y\": [74, 80, 82], \"type\": \"violin\", \"uid\": \"932db48c-1157-11e9-b69f-9cf387cc124e\"}],\n",
       "            {\"hovermode\": \"closest\", \"showlegend\": true, \"title\": \"Students' grades variation by cluster\", \"xaxis\": {\"title\": \"\", \"titlefont\": {\"color\": \"rgb(180,180,180)\"}}, \"yaxis\": {\"fixedrange\": false, \"range\": [-15, 98], \"rangemode\": \"normal\", \"title\": \"Grades\", \"titlefont\": {\"color\": \"rgb(180,180,180)\"}, \"zeroline\": false}},\n",
       "            {\"showLink\": true, \"linkText\": \"Export to plot.ly\"}\n",
       "        ).then(function () {return Plotly.addFrames('7f0918ab-ed89-4845-a688-24a2dc26db91',{});}).then(function(){Plotly.animate('7f0918ab-ed89-4845-a688-24a2dc26db91');})\n",
       "        });</script>"
      ]
     },
     "metadata": {},
     "output_type": "display_data"
    }
   ],
   "source": [
    "instance = V007()\n",
    "instance.generate_dataset(number_students = 20)\n",
    "# instance.print_all_graphs(\"pt\")\n",
    "instance.print_all_graphs(\"en\")"
   ]
  },
  {
   "cell_type": "markdown",
   "metadata": {},
   "source": [
    "### View 008 - Acesso dos estudantes no AVA por dia ou semana"
   ]
  },
  {
   "cell_type": "code",
   "execution_count": null,
   "metadata": {
    "scrolled": true
   },
   "outputs": [],
   "source": [
    "run V008.py"
   ]
  },
  {
   "cell_type": "code",
   "execution_count": null,
   "metadata": {
    "scrolled": false
   },
   "outputs": [],
   "source": [
    "instance = V008()\n",
    "instance.generate_dataset(number_students=35, number_weeks=7)\n",
    "# instance.print_all_graphs(\"pt\")\n",
    "instance.print_all_graphs(\"en\")"
   ]
  },
  {
   "cell_type": "markdown",
   "metadata": {},
   "source": [
    "### View 009 - Interação dos estudantes nos vídeos (play, pause, backward, forward)"
   ]
  },
  {
   "cell_type": "code",
   "execution_count": 31,
   "metadata": {},
   "outputs": [
    {
     "data": {
      "text/html": [
       "<script>requirejs.config({paths: { 'plotly': ['https://cdn.plot.ly/plotly-latest.min']},});if(!window.Plotly) {{require(['plotly'],function(plotly) {window.Plotly=plotly;});}}</script>"
      ],
      "text/vnd.plotly.v1+html": [
       "<script>requirejs.config({paths: { 'plotly': ['https://cdn.plot.ly/plotly-latest.min']},});if(!window.Plotly) {{require(['plotly'],function(plotly) {window.Plotly=plotly;});}}</script>"
      ]
     },
     "metadata": {},
     "output_type": "display_data"
    }
   ],
   "source": [
    "run V009.py"
   ]
  },
  {
   "cell_type": "code",
   "execution_count": 32,
   "metadata": {},
   "outputs": [
    {
     "data": {
      "application/vnd.plotly.v1+json": {
       "data": [
        {
         "cells": {
          "align": [
           "left",
           "center"
          ],
          "fill": {
           "color": "#F5F8FF"
          },
          "values": [
           [
            "ABIDIEL",
            "ABIDIEL",
            "ABIDIEL",
            "ABIDIEL",
            "ABIDIEL",
            "ABIDIEL",
            "ABIDIEL",
            "ABIDIEL",
            "ACELIA",
            "ACELIA",
            "ACELIA",
            "ACELIA",
            "ACELIA",
            "ACELIA",
            "ACELIA",
            "ACELIA",
            "ACELIA",
            "ACELIA",
            "ADELCI",
            "ADELCI",
            "ADELCI",
            "ADELCI",
            "ADELCI",
            "ADELCI",
            "ADELCI",
            "ADELCI",
            "ADELCI",
            "ADELCI",
            "ADELIRIO",
            "ADELIRIO",
            "ADELIRIO",
            "ADELIRIO",
            "ADELIRIO",
            "ADELIRIO",
            "ADELIRIO",
            "ADELIRIO",
            "ADNILZA",
            "ADNILZA",
            "ADNILZA",
            "ADNILZA",
            "ADNILZA",
            "ADNILZA",
            "ADNILZA",
            "ADNILZA",
            "ADNILZA",
            "ADNILZA",
            "AGLESIO",
            "AGLESIO",
            "AGLESIO",
            "AGLESIO",
            "AGLESIO",
            "AGLESIO",
            "AGLESIO",
            "AGLESIO",
            "AGLESIO",
            "AGLESIO",
            "ALBINO",
            "ALBINO",
            "ALBINO",
            "ALBINO",
            "ALBINO",
            "ALBINO",
            "ALBINO",
            "ALBINO",
            "ALBINO",
            "ALBINO",
            "ALCIDIO",
            "ALCIDIO",
            "ALCIDIO",
            "ALCIDIO",
            "ALCIDIO",
            "ALCIMARA",
            "ALCIMARA",
            "ALCIMARA",
            "ALCIMARA",
            "ALCINEIDE",
            "ALCINEIDE",
            "ALCINEIDE",
            "ALCINEIDE",
            "ALCINEIDE",
            "ALCINEIDE",
            "ALCINEIDE",
            "ALCINEIDE",
            "ALCINEIDE",
            "ALCINEIDE",
            "ALDEILDO",
            "ALDEILDO",
            "ALDEILDO",
            "ALDEILDO",
            "ALDEILDO",
            "ALDEILDO",
            "ALDEILDO",
            "ALDEILDO",
            "ALDEILDO",
            "ALDEILDO",
            "ALENCASTRO",
            "ALENCASTRO",
            "ALEXANDERSON",
            "ALEXANDERSON",
            "ALEXANDERSON",
            "ALEXANDERSON",
            "ALEXANDERSON",
            "ALEXANDERSON",
            "ALEXANDERSON",
            "ALEXANDERSON",
            "ALEXANDERSON",
            "ALEXANDERSON",
            "ALLANY",
            "ALLANY",
            "ALLANY",
            "ALLANY",
            "ALLANY",
            "ALLANY",
            "ALLANY",
            "ALLANY",
            "ALLANY",
            "ALTEMAR",
            "ALTEMAR",
            "ALTEMAR",
            "ALTEMAR",
            "ALTEMAR",
            "ALTEMAR",
            "ALTEMAR",
            "ALTEMAR",
            "ALTEMAR",
            "ALTEMAR",
            "ALTEMAR",
            "ALTEMAR",
            "ALTEMAR",
            "ALTEMAR",
            "ALTEMAR",
            "ALTEMAR",
            "ALZENA",
            "ALZENA",
            "AMAURICIO",
            "AMAURICIO",
            "AMAURICIO",
            "AMORESIO",
            "AMORESIO",
            "AMORESIO",
            "ANACLEUDE",
            "ANACLEUDE",
            "ANALIS",
            "ANALIS",
            "ANALIS",
            "ANALIS",
            "ANALIS",
            "ANALIS",
            "ANALIS",
            "ANALIS",
            "ANALIS",
            "ANALIS",
            "ANDERCI",
            "ANDERCI",
            "ANDERCI",
            "ANDERCI",
            "ANDERCI",
            "ANDERCI",
            "ANDERCI",
            "ANDERCI",
            "ANDERCI",
            "ANDERCI",
            "ANDRIELE",
            "ANDRIELE",
            "ANDRIELE",
            "ANDRIELE",
            "ANDRIELE",
            "ANDRIELE",
            "ANELISIA",
            "ANELISIA",
            "ANELISIA",
            "ANELISIA",
            "ANELISIA"
           ],
           [
            "Play at 0s",
            "Pause at 17s",
            "Seek from 17s to 13s",
            "Pause at 13s",
            "Seek from 13s to 12s",
            "Pause at 20s",
            "Play at 20s",
            "Dropout at 20s",
            "Play at 0s",
            "Pause at 7s",
            "Play at 7s",
            "Seek from 17s to 11s",
            "Pause at 15s",
            "Play at 15s",
            "Pause at 17s",
            "Play at 17s",
            "Seek from 21s to 20s",
            "Seek from 21s to 4s",
            "Play at 0s",
            "Pause at 3s",
            "Play at 3s",
            "Pause at 3s",
            "Play at 3s",
            "Pause at 21s",
            "Play at 21s",
            "Pause at 22s",
            "Play at 22s",
            "Seek from 25s to 17s",
            "Play at 0s",
            "Pause at 11s",
            "Seek from 11s to 18s",
            "Pause at 28s",
            "Play at 28s",
            "Pause at 29s",
            "Play at 29s",
            "Dropout at 29s",
            "Play at 0s",
            "Pause at 27s",
            "Seek from 27s to 6s",
            "Pause at 27s",
            "Play at 27s",
            "Seek from 27s to 9s",
            "Pause at 9s",
            "Play at 9s",
            "Seek from 14s to 10s",
            "Seek from 18s to 19s",
            "Play at 0s",
            "Pause at 17s",
            "Seek from 17s to 16s",
            "Seek from 22s to 2s",
            "Seek from 6s to 2s",
            "Pause at 20s",
            "Play at 20s",
            "Pause at 20s",
            "Play at 20s",
            "Pause at 26s",
            "Play at 0s",
            "Pause at 6s",
            "Seek from 6s to 4s",
            "Pause at 9s",
            "Play at 9s",
            "Pause at 10s",
            "Play at 10s",
            "Seek from 16s to 8s",
            "Seek from 11s to 14s",
            "Dropout at 14s",
            "Play at 0s",
            "Seek from 22s to 0s",
            "Seek from 15s to 16s",
            "Seek from 18s to 15s",
            "Dropout at 15s",
            "Play at 0s",
            "Pause at 17s",
            "Seek from 17s to 19s",
            "Dropout at 19s",
            "Play at 0s",
            "Seek from 4s to 8s",
            "Seek from 17s to 27s",
            "Pause at 27s",
            "Play at 27s",
            "Pause at 28s",
            "Seek from 28s to 14s",
            "Seek from 14s to 4s",
            "Pause at 9s",
            "Play at 9s",
            "Play at 0s",
            "Pause at 2s",
            "Play at 2s",
            "Seek from 14s to 0s",
            "Seek from 11s to 15s",
            "Pause at 21s",
            "Seek from 21s to 12s",
            "Pause at 22s",
            "Play at 22s",
            "Seek from 22s to 21s",
            "Play at 0s",
            "Dropout at 0s",
            "Play at 0s",
            "Seek from 1s to 8s",
            "Pause at 17s",
            "Seek from 17s to 18s",
            "Pause at 26s",
            "Seek from 26s to 15s",
            "Seek from 26s to 11s",
            "Seek from 20s to 18s",
            "Pause at 22s",
            "Play at 22s",
            "Play at 0s",
            "Pause at 3s",
            "Seek from 3s to 25s",
            "Seek from 26s to 16s",
            "Pause at 16s",
            "Play at 16s",
            "Seek from 21s to 14s",
            "Seek from 16s to 13s",
            "Dropout at 13s",
            "Play at 0s",
            "Seek from 2s to 16s",
            "Seek from 18s to 10s",
            "Seek from 11s to 3s",
            "Pause at 18s",
            "Play at 18s",
            "Pause at 27s",
            "Play at 27s",
            "Pause at 28s",
            "Play at 28s",
            "Play at 0s",
            "Seek from 8s to 21s",
            "Seek from 22s to 18s",
            "Seek from 23s to 20s",
            "Seek from 28s to 21s",
            "Dropout at 21s",
            "Play at 0s",
            "Dropout at 0s",
            "Play at 0s",
            "Seek from 9s to 13s",
            "Dropout at 13s",
            "Play at 0s",
            "Seek from 23s to 6s",
            "Dropout at 6s",
            "Play at 0s",
            "Dropout at 0s",
            "Play at 0s",
            "Seek from 23s to 11s",
            "Seek from 15s to 16s",
            "Pause at 22s",
            "Play at 22s",
            "Pause at 25s",
            "Play at 25s",
            "Pause at 25s",
            "Play at 25s",
            "Pause at 25s",
            "Play at 0s",
            "Pause at 10s",
            "Seek from 10s to 15s",
            "Pause at 19s",
            "Play at 19s",
            "Pause at 20s",
            "Play at 20s",
            "Pause at 23s",
            "Seek from 23s to 27s",
            "Pause at 27s",
            "Play at 0s",
            "Seek from 6s to 23s",
            "Seek from 24s to 21s",
            "Seek from 22s to 19s",
            "Seek from 21s to 26s",
            "Dropout at 26s",
            "Play at 0s",
            "Pause at 19s",
            "Play at 19s",
            "Seek from 25s to 18s",
            "Dropout at 18s"
           ]
          ]
         },
         "header": {
          "align": "center",
          "fill": {
           "color": "#C2D4FF"
          },
          "values": [
           "Students",
           "Action"
          ]
         },
         "type": "table",
         "uid": "9b5034a4-11cb-11e9-b955-9cf387cc124e"
        }
       ],
       "layout": {}
      },
      "text/html": [
       "<div id=\"bbf85c9f-6897-4ebb-aa84-99d6d88bfdd2\" style=\"height: 525px; width: 100%;\" class=\"plotly-graph-div\"></div><script type=\"text/javascript\">require([\"plotly\"], function(Plotly) { window.PLOTLYENV=window.PLOTLYENV || {};window.PLOTLYENV.BASE_URL=\"https://plot.ly\";Plotly.newPlot(\"bbf85c9f-6897-4ebb-aa84-99d6d88bfdd2\", [{\"cells\": {\"align\": [\"left\", \"center\"], \"fill\": {\"color\": \"#F5F8FF\"}, \"values\": [[\"ABIDIEL\", \"ABIDIEL\", \"ABIDIEL\", \"ABIDIEL\", \"ABIDIEL\", \"ABIDIEL\", \"ABIDIEL\", \"ABIDIEL\", \"ACELIA\", \"ACELIA\", \"ACELIA\", \"ACELIA\", \"ACELIA\", \"ACELIA\", \"ACELIA\", \"ACELIA\", \"ACELIA\", \"ACELIA\", \"ADELCI\", \"ADELCI\", \"ADELCI\", \"ADELCI\", \"ADELCI\", \"ADELCI\", \"ADELCI\", \"ADELCI\", \"ADELCI\", \"ADELCI\", \"ADELIRIO\", \"ADELIRIO\", \"ADELIRIO\", \"ADELIRIO\", \"ADELIRIO\", \"ADELIRIO\", \"ADELIRIO\", \"ADELIRIO\", \"ADNILZA\", \"ADNILZA\", \"ADNILZA\", \"ADNILZA\", \"ADNILZA\", \"ADNILZA\", \"ADNILZA\", \"ADNILZA\", \"ADNILZA\", \"ADNILZA\", \"AGLESIO\", \"AGLESIO\", \"AGLESIO\", \"AGLESIO\", \"AGLESIO\", \"AGLESIO\", \"AGLESIO\", \"AGLESIO\", \"AGLESIO\", \"AGLESIO\", \"ALBINO\", \"ALBINO\", \"ALBINO\", \"ALBINO\", \"ALBINO\", \"ALBINO\", \"ALBINO\", \"ALBINO\", \"ALBINO\", \"ALBINO\", \"ALCIDIO\", \"ALCIDIO\", \"ALCIDIO\", \"ALCIDIO\", \"ALCIDIO\", \"ALCIMARA\", \"ALCIMARA\", \"ALCIMARA\", \"ALCIMARA\", \"ALCINEIDE\", \"ALCINEIDE\", \"ALCINEIDE\", \"ALCINEIDE\", \"ALCINEIDE\", \"ALCINEIDE\", \"ALCINEIDE\", \"ALCINEIDE\", \"ALCINEIDE\", \"ALCINEIDE\", \"ALDEILDO\", \"ALDEILDO\", \"ALDEILDO\", \"ALDEILDO\", \"ALDEILDO\", \"ALDEILDO\", \"ALDEILDO\", \"ALDEILDO\", \"ALDEILDO\", \"ALDEILDO\", \"ALENCASTRO\", \"ALENCASTRO\", \"ALEXANDERSON\", \"ALEXANDERSON\", \"ALEXANDERSON\", \"ALEXANDERSON\", \"ALEXANDERSON\", \"ALEXANDERSON\", \"ALEXANDERSON\", \"ALEXANDERSON\", \"ALEXANDERSON\", \"ALEXANDERSON\", \"ALLANY\", \"ALLANY\", \"ALLANY\", \"ALLANY\", \"ALLANY\", \"ALLANY\", \"ALLANY\", \"ALLANY\", \"ALLANY\", \"ALTEMAR\", \"ALTEMAR\", \"ALTEMAR\", \"ALTEMAR\", \"ALTEMAR\", \"ALTEMAR\", \"ALTEMAR\", \"ALTEMAR\", \"ALTEMAR\", \"ALTEMAR\", \"ALTEMAR\", \"ALTEMAR\", \"ALTEMAR\", \"ALTEMAR\", \"ALTEMAR\", \"ALTEMAR\", \"ALZENA\", \"ALZENA\", \"AMAURICIO\", \"AMAURICIO\", \"AMAURICIO\", \"AMORESIO\", \"AMORESIO\", \"AMORESIO\", \"ANACLEUDE\", \"ANACLEUDE\", \"ANALIS\", \"ANALIS\", \"ANALIS\", \"ANALIS\", \"ANALIS\", \"ANALIS\", \"ANALIS\", \"ANALIS\", \"ANALIS\", \"ANALIS\", \"ANDERCI\", \"ANDERCI\", \"ANDERCI\", \"ANDERCI\", \"ANDERCI\", \"ANDERCI\", \"ANDERCI\", \"ANDERCI\", \"ANDERCI\", \"ANDERCI\", \"ANDRIELE\", \"ANDRIELE\", \"ANDRIELE\", \"ANDRIELE\", \"ANDRIELE\", \"ANDRIELE\", \"ANELISIA\", \"ANELISIA\", \"ANELISIA\", \"ANELISIA\", \"ANELISIA\"], [\"Play at 0s\", \"Pause at 17s\", \"Seek from 17s to 13s\", \"Pause at 13s\", \"Seek from 13s to 12s\", \"Pause at 20s\", \"Play at 20s\", \"Dropout at 20s\", \"Play at 0s\", \"Pause at 7s\", \"Play at 7s\", \"Seek from 17s to 11s\", \"Pause at 15s\", \"Play at 15s\", \"Pause at 17s\", \"Play at 17s\", \"Seek from 21s to 20s\", \"Seek from 21s to 4s\", \"Play at 0s\", \"Pause at 3s\", \"Play at 3s\", \"Pause at 3s\", \"Play at 3s\", \"Pause at 21s\", \"Play at 21s\", \"Pause at 22s\", \"Play at 22s\", \"Seek from 25s to 17s\", \"Play at 0s\", \"Pause at 11s\", \"Seek from 11s to 18s\", \"Pause at 28s\", \"Play at 28s\", \"Pause at 29s\", \"Play at 29s\", \"Dropout at 29s\", \"Play at 0s\", \"Pause at 27s\", \"Seek from 27s to 6s\", \"Pause at 27s\", \"Play at 27s\", \"Seek from 27s to 9s\", \"Pause at 9s\", \"Play at 9s\", \"Seek from 14s to 10s\", \"Seek from 18s to 19s\", \"Play at 0s\", \"Pause at 17s\", \"Seek from 17s to 16s\", \"Seek from 22s to 2s\", \"Seek from 6s to 2s\", \"Pause at 20s\", \"Play at 20s\", \"Pause at 20s\", \"Play at 20s\", \"Pause at 26s\", \"Play at 0s\", \"Pause at 6s\", \"Seek from 6s to 4s\", \"Pause at 9s\", \"Play at 9s\", \"Pause at 10s\", \"Play at 10s\", \"Seek from 16s to 8s\", \"Seek from 11s to 14s\", \"Dropout at 14s\", \"Play at 0s\", \"Seek from 22s to 0s\", \"Seek from 15s to 16s\", \"Seek from 18s to 15s\", \"Dropout at 15s\", \"Play at 0s\", \"Pause at 17s\", \"Seek from 17s to 19s\", \"Dropout at 19s\", \"Play at 0s\", \"Seek from 4s to 8s\", \"Seek from 17s to 27s\", \"Pause at 27s\", \"Play at 27s\", \"Pause at 28s\", \"Seek from 28s to 14s\", \"Seek from 14s to 4s\", \"Pause at 9s\", \"Play at 9s\", \"Play at 0s\", \"Pause at 2s\", \"Play at 2s\", \"Seek from 14s to 0s\", \"Seek from 11s to 15s\", \"Pause at 21s\", \"Seek from 21s to 12s\", \"Pause at 22s\", \"Play at 22s\", \"Seek from 22s to 21s\", \"Play at 0s\", \"Dropout at 0s\", \"Play at 0s\", \"Seek from 1s to 8s\", \"Pause at 17s\", \"Seek from 17s to 18s\", \"Pause at 26s\", \"Seek from 26s to 15s\", \"Seek from 26s to 11s\", \"Seek from 20s to 18s\", \"Pause at 22s\", \"Play at 22s\", \"Play at 0s\", \"Pause at 3s\", \"Seek from 3s to 25s\", \"Seek from 26s to 16s\", \"Pause at 16s\", \"Play at 16s\", \"Seek from 21s to 14s\", \"Seek from 16s to 13s\", \"Dropout at 13s\", \"Play at 0s\", \"Seek from 2s to 16s\", \"Seek from 18s to 10s\", \"Seek from 11s to 3s\", \"Pause at 18s\", \"Play at 18s\", \"Pause at 27s\", \"Play at 27s\", \"Pause at 28s\", \"Play at 28s\", \"Play at 0s\", \"Seek from 8s to 21s\", \"Seek from 22s to 18s\", \"Seek from 23s to 20s\", \"Seek from 28s to 21s\", \"Dropout at 21s\", \"Play at 0s\", \"Dropout at 0s\", \"Play at 0s\", \"Seek from 9s to 13s\", \"Dropout at 13s\", \"Play at 0s\", \"Seek from 23s to 6s\", \"Dropout at 6s\", \"Play at 0s\", \"Dropout at 0s\", \"Play at 0s\", \"Seek from 23s to 11s\", \"Seek from 15s to 16s\", \"Pause at 22s\", \"Play at 22s\", \"Pause at 25s\", \"Play at 25s\", \"Pause at 25s\", \"Play at 25s\", \"Pause at 25s\", \"Play at 0s\", \"Pause at 10s\", \"Seek from 10s to 15s\", \"Pause at 19s\", \"Play at 19s\", \"Pause at 20s\", \"Play at 20s\", \"Pause at 23s\", \"Seek from 23s to 27s\", \"Pause at 27s\", \"Play at 0s\", \"Seek from 6s to 23s\", \"Seek from 24s to 21s\", \"Seek from 22s to 19s\", \"Seek from 21s to 26s\", \"Dropout at 26s\", \"Play at 0s\", \"Pause at 19s\", \"Play at 19s\", \"Seek from 25s to 18s\", \"Dropout at 18s\"]]}, \"header\": {\"align\": \"center\", \"fill\": {\"color\": \"#C2D4FF\"}, \"values\": [\"Students\", \"Action\"]}, \"type\": \"table\", \"uid\": \"9b5ba424-11cb-11e9-acfc-9cf387cc124e\"}], {}, {\"showLink\": true, \"linkText\": \"Export to plot.ly\"})});</script>"
      ],
      "text/vnd.plotly.v1+html": [
       "<div id=\"bbf85c9f-6897-4ebb-aa84-99d6d88bfdd2\" style=\"height: 525px; width: 100%;\" class=\"plotly-graph-div\"></div><script type=\"text/javascript\">require([\"plotly\"], function(Plotly) { window.PLOTLYENV=window.PLOTLYENV || {};window.PLOTLYENV.BASE_URL=\"https://plot.ly\";Plotly.newPlot(\"bbf85c9f-6897-4ebb-aa84-99d6d88bfdd2\", [{\"cells\": {\"align\": [\"left\", \"center\"], \"fill\": {\"color\": \"#F5F8FF\"}, \"values\": [[\"ABIDIEL\", \"ABIDIEL\", \"ABIDIEL\", \"ABIDIEL\", \"ABIDIEL\", \"ABIDIEL\", \"ABIDIEL\", \"ABIDIEL\", \"ACELIA\", \"ACELIA\", \"ACELIA\", \"ACELIA\", \"ACELIA\", \"ACELIA\", \"ACELIA\", \"ACELIA\", \"ACELIA\", \"ACELIA\", \"ADELCI\", \"ADELCI\", \"ADELCI\", \"ADELCI\", \"ADELCI\", \"ADELCI\", \"ADELCI\", \"ADELCI\", \"ADELCI\", \"ADELCI\", \"ADELIRIO\", \"ADELIRIO\", \"ADELIRIO\", \"ADELIRIO\", \"ADELIRIO\", \"ADELIRIO\", \"ADELIRIO\", \"ADELIRIO\", \"ADNILZA\", \"ADNILZA\", \"ADNILZA\", \"ADNILZA\", \"ADNILZA\", \"ADNILZA\", \"ADNILZA\", \"ADNILZA\", \"ADNILZA\", \"ADNILZA\", \"AGLESIO\", \"AGLESIO\", \"AGLESIO\", \"AGLESIO\", \"AGLESIO\", \"AGLESIO\", \"AGLESIO\", \"AGLESIO\", \"AGLESIO\", \"AGLESIO\", \"ALBINO\", \"ALBINO\", \"ALBINO\", \"ALBINO\", \"ALBINO\", \"ALBINO\", \"ALBINO\", \"ALBINO\", \"ALBINO\", \"ALBINO\", \"ALCIDIO\", \"ALCIDIO\", \"ALCIDIO\", \"ALCIDIO\", \"ALCIDIO\", \"ALCIMARA\", \"ALCIMARA\", \"ALCIMARA\", \"ALCIMARA\", \"ALCINEIDE\", \"ALCINEIDE\", \"ALCINEIDE\", \"ALCINEIDE\", \"ALCINEIDE\", \"ALCINEIDE\", \"ALCINEIDE\", \"ALCINEIDE\", \"ALCINEIDE\", \"ALCINEIDE\", \"ALDEILDO\", \"ALDEILDO\", \"ALDEILDO\", \"ALDEILDO\", \"ALDEILDO\", \"ALDEILDO\", \"ALDEILDO\", \"ALDEILDO\", \"ALDEILDO\", \"ALDEILDO\", \"ALENCASTRO\", \"ALENCASTRO\", \"ALEXANDERSON\", \"ALEXANDERSON\", \"ALEXANDERSON\", \"ALEXANDERSON\", \"ALEXANDERSON\", \"ALEXANDERSON\", \"ALEXANDERSON\", \"ALEXANDERSON\", \"ALEXANDERSON\", \"ALEXANDERSON\", \"ALLANY\", \"ALLANY\", \"ALLANY\", \"ALLANY\", \"ALLANY\", \"ALLANY\", \"ALLANY\", \"ALLANY\", \"ALLANY\", \"ALTEMAR\", \"ALTEMAR\", \"ALTEMAR\", \"ALTEMAR\", \"ALTEMAR\", \"ALTEMAR\", \"ALTEMAR\", \"ALTEMAR\", \"ALTEMAR\", \"ALTEMAR\", \"ALTEMAR\", \"ALTEMAR\", \"ALTEMAR\", \"ALTEMAR\", \"ALTEMAR\", \"ALTEMAR\", \"ALZENA\", \"ALZENA\", \"AMAURICIO\", \"AMAURICIO\", \"AMAURICIO\", \"AMORESIO\", \"AMORESIO\", \"AMORESIO\", \"ANACLEUDE\", \"ANACLEUDE\", \"ANALIS\", \"ANALIS\", \"ANALIS\", \"ANALIS\", \"ANALIS\", \"ANALIS\", \"ANALIS\", \"ANALIS\", \"ANALIS\", \"ANALIS\", \"ANDERCI\", \"ANDERCI\", \"ANDERCI\", \"ANDERCI\", \"ANDERCI\", \"ANDERCI\", \"ANDERCI\", \"ANDERCI\", \"ANDERCI\", \"ANDERCI\", \"ANDRIELE\", \"ANDRIELE\", \"ANDRIELE\", \"ANDRIELE\", \"ANDRIELE\", \"ANDRIELE\", \"ANELISIA\", \"ANELISIA\", \"ANELISIA\", \"ANELISIA\", \"ANELISIA\"], [\"Play at 0s\", \"Pause at 17s\", \"Seek from 17s to 13s\", \"Pause at 13s\", \"Seek from 13s to 12s\", \"Pause at 20s\", \"Play at 20s\", \"Dropout at 20s\", \"Play at 0s\", \"Pause at 7s\", \"Play at 7s\", \"Seek from 17s to 11s\", \"Pause at 15s\", \"Play at 15s\", \"Pause at 17s\", \"Play at 17s\", \"Seek from 21s to 20s\", \"Seek from 21s to 4s\", \"Play at 0s\", \"Pause at 3s\", \"Play at 3s\", \"Pause at 3s\", \"Play at 3s\", \"Pause at 21s\", \"Play at 21s\", \"Pause at 22s\", \"Play at 22s\", \"Seek from 25s to 17s\", \"Play at 0s\", \"Pause at 11s\", \"Seek from 11s to 18s\", \"Pause at 28s\", \"Play at 28s\", \"Pause at 29s\", \"Play at 29s\", \"Dropout at 29s\", \"Play at 0s\", \"Pause at 27s\", \"Seek from 27s to 6s\", \"Pause at 27s\", \"Play at 27s\", \"Seek from 27s to 9s\", \"Pause at 9s\", \"Play at 9s\", \"Seek from 14s to 10s\", \"Seek from 18s to 19s\", \"Play at 0s\", \"Pause at 17s\", \"Seek from 17s to 16s\", \"Seek from 22s to 2s\", \"Seek from 6s to 2s\", \"Pause at 20s\", \"Play at 20s\", \"Pause at 20s\", \"Play at 20s\", \"Pause at 26s\", \"Play at 0s\", \"Pause at 6s\", \"Seek from 6s to 4s\", \"Pause at 9s\", \"Play at 9s\", \"Pause at 10s\", \"Play at 10s\", \"Seek from 16s to 8s\", \"Seek from 11s to 14s\", \"Dropout at 14s\", \"Play at 0s\", \"Seek from 22s to 0s\", \"Seek from 15s to 16s\", \"Seek from 18s to 15s\", \"Dropout at 15s\", \"Play at 0s\", \"Pause at 17s\", \"Seek from 17s to 19s\", \"Dropout at 19s\", \"Play at 0s\", \"Seek from 4s to 8s\", \"Seek from 17s to 27s\", \"Pause at 27s\", \"Play at 27s\", \"Pause at 28s\", \"Seek from 28s to 14s\", \"Seek from 14s to 4s\", \"Pause at 9s\", \"Play at 9s\", \"Play at 0s\", \"Pause at 2s\", \"Play at 2s\", \"Seek from 14s to 0s\", \"Seek from 11s to 15s\", \"Pause at 21s\", \"Seek from 21s to 12s\", \"Pause at 22s\", \"Play at 22s\", \"Seek from 22s to 21s\", \"Play at 0s\", \"Dropout at 0s\", \"Play at 0s\", \"Seek from 1s to 8s\", \"Pause at 17s\", \"Seek from 17s to 18s\", \"Pause at 26s\", \"Seek from 26s to 15s\", \"Seek from 26s to 11s\", \"Seek from 20s to 18s\", \"Pause at 22s\", \"Play at 22s\", \"Play at 0s\", \"Pause at 3s\", \"Seek from 3s to 25s\", \"Seek from 26s to 16s\", \"Pause at 16s\", \"Play at 16s\", \"Seek from 21s to 14s\", \"Seek from 16s to 13s\", \"Dropout at 13s\", \"Play at 0s\", \"Seek from 2s to 16s\", \"Seek from 18s to 10s\", \"Seek from 11s to 3s\", \"Pause at 18s\", \"Play at 18s\", \"Pause at 27s\", \"Play at 27s\", \"Pause at 28s\", \"Play at 28s\", \"Play at 0s\", \"Seek from 8s to 21s\", \"Seek from 22s to 18s\", \"Seek from 23s to 20s\", \"Seek from 28s to 21s\", \"Dropout at 21s\", \"Play at 0s\", \"Dropout at 0s\", \"Play at 0s\", \"Seek from 9s to 13s\", \"Dropout at 13s\", \"Play at 0s\", \"Seek from 23s to 6s\", \"Dropout at 6s\", \"Play at 0s\", \"Dropout at 0s\", \"Play at 0s\", \"Seek from 23s to 11s\", \"Seek from 15s to 16s\", \"Pause at 22s\", \"Play at 22s\", \"Pause at 25s\", \"Play at 25s\", \"Pause at 25s\", \"Play at 25s\", \"Pause at 25s\", \"Play at 0s\", \"Pause at 10s\", \"Seek from 10s to 15s\", \"Pause at 19s\", \"Play at 19s\", \"Pause at 20s\", \"Play at 20s\", \"Pause at 23s\", \"Seek from 23s to 27s\", \"Pause at 27s\", \"Play at 0s\", \"Seek from 6s to 23s\", \"Seek from 24s to 21s\", \"Seek from 22s to 19s\", \"Seek from 21s to 26s\", \"Dropout at 26s\", \"Play at 0s\", \"Pause at 19s\", \"Play at 19s\", \"Seek from 25s to 18s\", \"Dropout at 18s\"]]}, \"header\": {\"align\": \"center\", \"fill\": {\"color\": \"#C2D4FF\"}, \"values\": [\"Students\", \"Action\"]}, \"type\": \"table\", \"uid\": \"9b5ba424-11cb-11e9-acfc-9cf387cc124e\"}], {}, {\"showLink\": true, \"linkText\": \"Export to plot.ly\"})});</script>"
      ]
     },
     "metadata": {},
     "output_type": "display_data"
    },
    {
     "data": {
      "application/vnd.plotly.v1+json": {
       "data": [
        {
         "cells": {
          "align": [
           "left",
           "center"
          ],
          "fill": {
           "color": "#F5F8FF"
          },
          "values": [
           [
            0,
            1,
            2,
            3,
            4,
            5,
            6,
            7,
            8,
            9,
            10,
            11,
            12,
            13,
            14,
            15,
            16,
            17,
            18,
            19,
            20,
            21,
            22,
            23,
            24,
            25,
            26,
            27,
            28,
            29
           ],
           [
            24,
            0,
            1,
            2,
            0,
            0,
            0,
            1,
            0,
            3,
            1,
            0,
            0,
            0,
            0,
            1,
            1,
            1,
            1,
            2,
            4,
            1,
            4,
            0,
            0,
            2,
            0,
            3,
            2,
            1
           ],
           [
            0,
            0,
            1,
            3,
            0,
            0,
            1,
            1,
            0,
            3,
            2,
            1,
            0,
            1,
            0,
            1,
            1,
            5,
            1,
            2,
            4,
            2,
            4,
            1,
            0,
            3,
            2,
            5,
            3,
            1
           ],
           [
            0,
            1,
            1,
            0,
            1,
            0,
            2,
            0,
            1,
            1,
            0,
            3,
            0,
            0,
            3,
            2,
            2,
            2,
            3,
            0,
            1,
            4,
            5,
            3,
            1,
            2,
            2,
            1,
            1,
            0
           ],
           [
            2,
            0,
            2,
            1,
            2,
            0,
            1,
            0,
            3,
            1,
            2,
            3,
            0,
            2,
            2,
            2,
            4,
            1,
            3,
            2,
            2,
            4,
            0,
            1,
            0,
            0,
            1,
            1,
            0,
            0
           ],
           [
            3,
            0,
            0,
            0,
            0,
            0,
            1,
            0,
            0,
            0,
            0,
            0,
            0,
            2,
            1,
            1,
            0,
            0,
            1,
            1,
            1,
            1,
            0,
            0,
            0,
            0,
            1,
            0,
            0,
            1
           ]
          ]
         },
         "header": {
          "align": "center",
          "fill": {
           "color": "#C2D4FF"
          },
          "values": [
           "Time",
           "Play",
           "Pause",
           "Seek from",
           "Seek to",
           "Dropout"
          ]
         },
         "type": "table",
         "uid": "9b6481ac-11cb-11e9-ba35-9cf387cc124e"
        }
       ],
       "layout": {}
      },
      "text/html": [
       "<div id=\"ef166e75-3f2e-4ad7-8b3a-c5041fdae0cb\" style=\"height: 525px; width: 100%;\" class=\"plotly-graph-div\"></div><script type=\"text/javascript\">require([\"plotly\"], function(Plotly) { window.PLOTLYENV=window.PLOTLYENV || {};window.PLOTLYENV.BASE_URL=\"https://plot.ly\";Plotly.newPlot(\"ef166e75-3f2e-4ad7-8b3a-c5041fdae0cb\", [{\"cells\": {\"align\": [\"left\", \"center\"], \"fill\": {\"color\": \"#F5F8FF\"}, \"values\": [[0, 1, 2, 3, 4, 5, 6, 7, 8, 9, 10, 11, 12, 13, 14, 15, 16, 17, 18, 19, 20, 21, 22, 23, 24, 25, 26, 27, 28, 29], [24, 0, 1, 2, 0, 0, 0, 1, 0, 3, 1, 0, 0, 0, 0, 1, 1, 1, 1, 2, 4, 1, 4, 0, 0, 2, 0, 3, 2, 1], [0, 0, 1, 3, 0, 0, 1, 1, 0, 3, 2, 1, 0, 1, 0, 1, 1, 5, 1, 2, 4, 2, 4, 1, 0, 3, 2, 5, 3, 1], [0, 1, 1, 0, 1, 0, 2, 0, 1, 1, 0, 3, 0, 0, 3, 2, 2, 2, 3, 0, 1, 4, 5, 3, 1, 2, 2, 1, 1, 0], [2, 0, 2, 1, 2, 0, 1, 0, 3, 1, 2, 3, 0, 2, 2, 2, 4, 1, 3, 2, 2, 4, 0, 1, 0, 0, 1, 1, 0, 0], [3, 0, 0, 0, 0, 0, 1, 0, 0, 0, 0, 0, 0, 2, 1, 1, 0, 0, 1, 1, 1, 1, 0, 0, 0, 0, 1, 0, 0, 1]]}, \"header\": {\"align\": \"center\", \"fill\": {\"color\": \"#C2D4FF\"}, \"values\": [\"Time\", \"Play\", \"Pause\", \"Seek from\", \"Seek to\", \"Dropout\"]}, \"type\": \"table\", \"uid\": \"9b708986-11cb-11e9-acd3-9cf387cc124e\"}], {}, {\"showLink\": true, \"linkText\": \"Export to plot.ly\"})});</script>"
      ],
      "text/vnd.plotly.v1+html": [
       "<div id=\"ef166e75-3f2e-4ad7-8b3a-c5041fdae0cb\" style=\"height: 525px; width: 100%;\" class=\"plotly-graph-div\"></div><script type=\"text/javascript\">require([\"plotly\"], function(Plotly) { window.PLOTLYENV=window.PLOTLYENV || {};window.PLOTLYENV.BASE_URL=\"https://plot.ly\";Plotly.newPlot(\"ef166e75-3f2e-4ad7-8b3a-c5041fdae0cb\", [{\"cells\": {\"align\": [\"left\", \"center\"], \"fill\": {\"color\": \"#F5F8FF\"}, \"values\": [[0, 1, 2, 3, 4, 5, 6, 7, 8, 9, 10, 11, 12, 13, 14, 15, 16, 17, 18, 19, 20, 21, 22, 23, 24, 25, 26, 27, 28, 29], [24, 0, 1, 2, 0, 0, 0, 1, 0, 3, 1, 0, 0, 0, 0, 1, 1, 1, 1, 2, 4, 1, 4, 0, 0, 2, 0, 3, 2, 1], [0, 0, 1, 3, 0, 0, 1, 1, 0, 3, 2, 1, 0, 1, 0, 1, 1, 5, 1, 2, 4, 2, 4, 1, 0, 3, 2, 5, 3, 1], [0, 1, 1, 0, 1, 0, 2, 0, 1, 1, 0, 3, 0, 0, 3, 2, 2, 2, 3, 0, 1, 4, 5, 3, 1, 2, 2, 1, 1, 0], [2, 0, 2, 1, 2, 0, 1, 0, 3, 1, 2, 3, 0, 2, 2, 2, 4, 1, 3, 2, 2, 4, 0, 1, 0, 0, 1, 1, 0, 0], [3, 0, 0, 0, 0, 0, 1, 0, 0, 0, 0, 0, 0, 2, 1, 1, 0, 0, 1, 1, 1, 1, 0, 0, 0, 0, 1, 0, 0, 1]]}, \"header\": {\"align\": \"center\", \"fill\": {\"color\": \"#C2D4FF\"}, \"values\": [\"Time\", \"Play\", \"Pause\", \"Seek from\", \"Seek to\", \"Dropout\"]}, \"type\": \"table\", \"uid\": \"9b708986-11cb-11e9-acd3-9cf387cc124e\"}], {}, {\"showLink\": true, \"linkText\": \"Export to plot.ly\"})});</script>"
      ]
     },
     "metadata": {},
     "output_type": "display_data"
    },
    {
     "data": {
      "application/vnd.plotly.v1+json": {
       "data": [
        {
         "hoverinfo": "x+y",
         "line": {
          "color": "rgba(253, 174, 97, 0.75)",
          "width": 0.5
         },
         "mode": "lines",
         "name": "Play",
         "stackgroup": "one",
         "x": [
          0,
          1,
          2,
          3,
          4,
          5,
          6,
          7,
          8,
          9,
          10,
          11,
          12,
          13,
          14,
          15,
          16,
          17,
          18,
          19,
          20,
          21,
          22,
          23,
          24,
          25,
          26,
          27,
          28,
          29
         ],
         "y": [
          24,
          0,
          1,
          2,
          0,
          0,
          0,
          1,
          0,
          3,
          1,
          0,
          0,
          0,
          0,
          1,
          1,
          1,
          1,
          2,
          4,
          1,
          4,
          0,
          0,
          2,
          0,
          3,
          2,
          1
         ]
        },
        {
         "hoverinfo": "x+y",
         "line": {
          "color": "rgb(184, 247, 212)",
          "width": 0.5
         },
         "mode": "lines",
         "name": "Pause",
         "stackgroup": "one",
         "x": [
          0,
          1,
          2,
          3,
          4,
          5,
          6,
          7,
          8,
          9,
          10,
          11,
          12,
          13,
          14,
          15,
          16,
          17,
          18,
          19,
          20,
          21,
          22,
          23,
          24,
          25,
          26,
          27,
          28,
          29
         ],
         "y": [
          0,
          0,
          1,
          3,
          0,
          0,
          1,
          1,
          0,
          3,
          2,
          1,
          0,
          1,
          0,
          1,
          1,
          5,
          1,
          2,
          4,
          2,
          4,
          1,
          0,
          3,
          2,
          5,
          3,
          1
         ]
        },
        {
         "hoverinfo": "x+y",
         "line": {
          "color": "rgb(111, 231, 219)",
          "width": 0.5
         },
         "mode": "lines",
         "name": "Seek from",
         "stackgroup": "one",
         "x": [
          0,
          1,
          2,
          3,
          4,
          5,
          6,
          7,
          8,
          9,
          10,
          11,
          12,
          13,
          14,
          15,
          16,
          17,
          18,
          19,
          20,
          21,
          22,
          23,
          24,
          25,
          26,
          27,
          28,
          29
         ],
         "y": [
          0,
          1,
          1,
          0,
          1,
          0,
          2,
          0,
          1,
          1,
          0,
          3,
          0,
          0,
          3,
          2,
          2,
          2,
          3,
          0,
          1,
          4,
          5,
          3,
          1,
          2,
          2,
          1,
          1,
          0
         ]
        },
        {
         "hoverinfo": "x+y",
         "line": {
          "color": "rgb(131, 90, 241)",
          "width": 0.5
         },
         "mode": "lines",
         "name": "Seek to",
         "stackgroup": "one",
         "x": [
          0,
          1,
          2,
          3,
          4,
          5,
          6,
          7,
          8,
          9,
          10,
          11,
          12,
          13,
          14,
          15,
          16,
          17,
          18,
          19,
          20,
          21,
          22,
          23,
          24,
          25,
          26,
          27,
          28,
          29
         ],
         "y": [
          2,
          0,
          2,
          1,
          2,
          0,
          1,
          0,
          3,
          1,
          2,
          3,
          0,
          2,
          2,
          2,
          4,
          1,
          3,
          2,
          2,
          4,
          0,
          1,
          0,
          0,
          1,
          1,
          0,
          0
         ]
        },
        {
         "hoverinfo": "x+y",
         "line": {
          "color": "rgb(255, 192, 203)",
          "width": 0.5
         },
         "mode": "lines",
         "name": "Dropout",
         "stackgroup": "one",
         "x": [
          0,
          1,
          2,
          3,
          4,
          5,
          6,
          7,
          8,
          9,
          10,
          11,
          12,
          13,
          14,
          15,
          16,
          17,
          18,
          19,
          20,
          21,
          22,
          23,
          24,
          25,
          26,
          27,
          28,
          29
         ],
         "y": [
          3,
          0,
          0,
          0,
          0,
          0,
          1,
          0,
          0,
          0,
          0,
          0,
          0,
          2,
          1,
          1,
          0,
          0,
          1,
          1,
          1,
          1,
          0,
          0,
          0,
          0,
          1,
          0,
          0,
          1
         ]
        }
       ],
       "layout": {}
      },
      "text/html": [
       "<div id=\"5a0591e0-c857-4a03-b49d-fea12c9d8141\" style=\"height: 525px; width: 100%;\" class=\"plotly-graph-div\"></div><script type=\"text/javascript\">require([\"plotly\"], function(Plotly) { window.PLOTLYENV=window.PLOTLYENV || {};window.PLOTLYENV.BASE_URL=\"https://plot.ly\";Plotly.newPlot(\"5a0591e0-c857-4a03-b49d-fea12c9d8141\", [{\"x\": [0, 1, 2, 3, 4, 5, 6, 7, 8, 9, 10, 11, 12, 13, 14, 15, 16, 17, 18, 19, 20, 21, 22, 23, 24, 25, 26, 27, 28, 29], \"y\": [24, 0, 1, 2, 0, 0, 0, 1, 0, 3, 1, 0, 0, 0, 0, 1, 1, 1, 1, 2, 4, 1, 4, 0, 0, 2, 0, 3, 2, 1], \"hoverinfo\": \"x+y\", \"mode\": \"lines\", \"name\": \"Play\", \"line\": {\"width\": 0.5, \"color\": \"rgba(253, 174, 97, 0.75)\"}, \"stackgroup\": \"one\"}, {\"x\": [0, 1, 2, 3, 4, 5, 6, 7, 8, 9, 10, 11, 12, 13, 14, 15, 16, 17, 18, 19, 20, 21, 22, 23, 24, 25, 26, 27, 28, 29], \"y\": [0, 0, 1, 3, 0, 0, 1, 1, 0, 3, 2, 1, 0, 1, 0, 1, 1, 5, 1, 2, 4, 2, 4, 1, 0, 3, 2, 5, 3, 1], \"hoverinfo\": \"x+y\", \"mode\": \"lines\", \"name\": \"Pause\", \"line\": {\"width\": 0.5, \"color\": \"rgb(184, 247, 212)\"}, \"stackgroup\": \"one\"}, {\"x\": [0, 1, 2, 3, 4, 5, 6, 7, 8, 9, 10, 11, 12, 13, 14, 15, 16, 17, 18, 19, 20, 21, 22, 23, 24, 25, 26, 27, 28, 29], \"y\": [0, 1, 1, 0, 1, 0, 2, 0, 1, 1, 0, 3, 0, 0, 3, 2, 2, 2, 3, 0, 1, 4, 5, 3, 1, 2, 2, 1, 1, 0], \"hoverinfo\": \"x+y\", \"mode\": \"lines\", \"name\": \"Seek from\", \"line\": {\"width\": 0.5, \"color\": \"rgb(111, 231, 219)\"}, \"stackgroup\": \"one\"}, {\"x\": [0, 1, 2, 3, 4, 5, 6, 7, 8, 9, 10, 11, 12, 13, 14, 15, 16, 17, 18, 19, 20, 21, 22, 23, 24, 25, 26, 27, 28, 29], \"y\": [2, 0, 2, 1, 2, 0, 1, 0, 3, 1, 2, 3, 0, 2, 2, 2, 4, 1, 3, 2, 2, 4, 0, 1, 0, 0, 1, 1, 0, 0], \"hoverinfo\": \"x+y\", \"mode\": \"lines\", \"name\": \"Seek to\", \"line\": {\"width\": 0.5, \"color\": \"rgb(131, 90, 241)\"}, \"stackgroup\": \"one\"}, {\"x\": [0, 1, 2, 3, 4, 5, 6, 7, 8, 9, 10, 11, 12, 13, 14, 15, 16, 17, 18, 19, 20, 21, 22, 23, 24, 25, 26, 27, 28, 29], \"y\": [3, 0, 0, 0, 0, 0, 1, 0, 0, 0, 0, 0, 0, 2, 1, 1, 0, 0, 1, 1, 1, 1, 0, 0, 0, 0, 1, 0, 0, 1], \"hoverinfo\": \"x+y\", \"mode\": \"lines\", \"name\": \"Dropout\", \"line\": {\"width\": 0.5, \"color\": \"rgb(255, 192, 203)\"}, \"stackgroup\": \"one\"}], {}, {\"showLink\": true, \"linkText\": \"Export to plot.ly\"})});</script>"
      ],
      "text/vnd.plotly.v1+html": [
       "<div id=\"5a0591e0-c857-4a03-b49d-fea12c9d8141\" style=\"height: 525px; width: 100%;\" class=\"plotly-graph-div\"></div><script type=\"text/javascript\">require([\"plotly\"], function(Plotly) { window.PLOTLYENV=window.PLOTLYENV || {};window.PLOTLYENV.BASE_URL=\"https://plot.ly\";Plotly.newPlot(\"5a0591e0-c857-4a03-b49d-fea12c9d8141\", [{\"x\": [0, 1, 2, 3, 4, 5, 6, 7, 8, 9, 10, 11, 12, 13, 14, 15, 16, 17, 18, 19, 20, 21, 22, 23, 24, 25, 26, 27, 28, 29], \"y\": [24, 0, 1, 2, 0, 0, 0, 1, 0, 3, 1, 0, 0, 0, 0, 1, 1, 1, 1, 2, 4, 1, 4, 0, 0, 2, 0, 3, 2, 1], \"hoverinfo\": \"x+y\", \"mode\": \"lines\", \"name\": \"Play\", \"line\": {\"width\": 0.5, \"color\": \"rgba(253, 174, 97, 0.75)\"}, \"stackgroup\": \"one\"}, {\"x\": [0, 1, 2, 3, 4, 5, 6, 7, 8, 9, 10, 11, 12, 13, 14, 15, 16, 17, 18, 19, 20, 21, 22, 23, 24, 25, 26, 27, 28, 29], \"y\": [0, 0, 1, 3, 0, 0, 1, 1, 0, 3, 2, 1, 0, 1, 0, 1, 1, 5, 1, 2, 4, 2, 4, 1, 0, 3, 2, 5, 3, 1], \"hoverinfo\": \"x+y\", \"mode\": \"lines\", \"name\": \"Pause\", \"line\": {\"width\": 0.5, \"color\": \"rgb(184, 247, 212)\"}, \"stackgroup\": \"one\"}, {\"x\": [0, 1, 2, 3, 4, 5, 6, 7, 8, 9, 10, 11, 12, 13, 14, 15, 16, 17, 18, 19, 20, 21, 22, 23, 24, 25, 26, 27, 28, 29], \"y\": [0, 1, 1, 0, 1, 0, 2, 0, 1, 1, 0, 3, 0, 0, 3, 2, 2, 2, 3, 0, 1, 4, 5, 3, 1, 2, 2, 1, 1, 0], \"hoverinfo\": \"x+y\", \"mode\": \"lines\", \"name\": \"Seek from\", \"line\": {\"width\": 0.5, \"color\": \"rgb(111, 231, 219)\"}, \"stackgroup\": \"one\"}, {\"x\": [0, 1, 2, 3, 4, 5, 6, 7, 8, 9, 10, 11, 12, 13, 14, 15, 16, 17, 18, 19, 20, 21, 22, 23, 24, 25, 26, 27, 28, 29], \"y\": [2, 0, 2, 1, 2, 0, 1, 0, 3, 1, 2, 3, 0, 2, 2, 2, 4, 1, 3, 2, 2, 4, 0, 1, 0, 0, 1, 1, 0, 0], \"hoverinfo\": \"x+y\", \"mode\": \"lines\", \"name\": \"Seek to\", \"line\": {\"width\": 0.5, \"color\": \"rgb(131, 90, 241)\"}, \"stackgroup\": \"one\"}, {\"x\": [0, 1, 2, 3, 4, 5, 6, 7, 8, 9, 10, 11, 12, 13, 14, 15, 16, 17, 18, 19, 20, 21, 22, 23, 24, 25, 26, 27, 28, 29], \"y\": [3, 0, 0, 0, 0, 0, 1, 0, 0, 0, 0, 0, 0, 2, 1, 1, 0, 0, 1, 1, 1, 1, 0, 0, 0, 0, 1, 0, 0, 1], \"hoverinfo\": \"x+y\", \"mode\": \"lines\", \"name\": \"Dropout\", \"line\": {\"width\": 0.5, \"color\": \"rgb(255, 192, 203)\"}, \"stackgroup\": \"one\"}], {}, {\"showLink\": true, \"linkText\": \"Export to plot.ly\"})});</script>"
      ]
     },
     "metadata": {},
     "output_type": "display_data"
    },
    {
     "data": {
      "application/vnd.plotly.v1+json": {
       "data": [
        {
         "hoverinfo": "Tempo",
         "line": {
          "color": "#4E6766",
          "shape": "spline",
          "width": 3
         },
         "mode": "lines",
         "name": "",
         "type": "scatter",
         "x": [
          0,
          1,
          2,
          3,
          4,
          5,
          6,
          7,
          8,
          9,
          10,
          11
         ],
         "y": [
          0,
          0,
          0,
          0,
          0,
          0,
          0,
          0,
          0,
          0,
          0,
          0
         ]
        },
        {
         "hoverinfo": "none",
         "line": {
          "color": "#C6DA20",
          "shape": "spline",
          "width": 1
         },
         "mode": "lines",
         "name": "",
         "type": "scatter",
         "x": [
          0,
          0.0208217656857,
          0.0427606901725,
          0.0658369751093,
          0.0900692840647,
          0.115474566361,
          0.142067876875,
          0.16986219293,
          0.198868229588,
          0.229094254754,
          0.260545905707,
          0.293226008781,
          0.327134404057,
          0.362267777066,
          0.398619499569,
          0.436179481594,
          0.474934036939,
          0.514865764367,
          0.555953446732,
          0.59817197021,
          0.641492265696,
          0.685881274353,
          0.731301939058,
          0.777713223333,
          0.825070159027,
          0.873323923783,
          0.922421948912,
          0.972308057999,
          1.0229226361,
          1.07420282906,
          1.1260827719,
          1.17849384504,
          1.23136495644,
          1.28462284744,
          1.33819241983,
          1.391997081,
          1.44595910419,
          1.5,
          1.55404089581,
          1.608002919,
          1.66180758017,
          1.71537715256,
          1.76863504356,
          1.82150615496,
          1.8739172281,
          1.92579717094,
          1.9770773639,
          2.027691942,
          2.07757805109,
          2.12667607622,
          2.17492984097,
          2.22228677667,
          2.26869806094,
          2.31411872565,
          2.3585077343,
          2.40182802979,
          2.44404655327,
          2.48513423563,
          2.52506596306,
          2.56382051841,
          2.60138050043,
          2.63773222293,
          2.67286559594,
          2.70677399122,
          2.73945409429,
          2.77090574525,
          2.80113177041,
          2.83013780707,
          2.85793212313,
          2.88452543364,
          2.90993071594,
          2.93416302489,
          2.95723930983,
          2.97917823431,
          3,
          3,
          2.99305941144,
          2.98574643661,
          2.97805434163,
          2.96997690531,
          2.96150847788,
          2.95264404104,
          2.94337926902,
          2.93371059014,
          2.92363524842,
          2.91315136476,
          2.90225799707,
          2.89095519865,
          2.87924407431,
          2.86712683348,
          2.85460683947,
          2.84168865435,
          2.82837807854,
          2.81468218442,
          2.80060934326,
          2.78616924477,
          2.77137290855,
          2.75623268698,
          2.74076225889,
          2.72497661366,
          2.70889202541,
          2.69252601703,
          2.675897314,
          2.65902578797,
          2.64193239031,
          2.62463907603,
          2.60716871832,
          2.58954501452,
          2.57179238419,
          2.55393586006,
          2.536000973,
          2.51801363194,
          2.5,
          2.48198636806,
          2.463999027,
          2.44606413994,
          2.42820761581,
          2.41045498548,
          2.39283128168,
          2.37536092397,
          2.35806760969,
          2.34097421203,
          2.324102686,
          2.30747398297,
          2.29110797459,
          2.27502338634,
          2.25923774111,
          2.24376731302,
          2.22862709145,
          2.21383075523,
          2.19939065674,
          2.18531781558,
          2.17162192146,
          2.15831134565,
          2.14539316053,
          2.13287316652,
          2.12075592569,
          2.10904480135,
          2.09774200293,
          2.08684863524,
          2.07636475158,
          2.06628940986,
          2.05662073098,
          2.04735595896,
          2.03849152212,
          2.03002309469,
          2.02194565837,
          2.01425356339,
          2.00694058856,
          2
         ],
         "y": [
          0,
          0.0351026399091,
          0.0701655991063,
          0.105147298692,
          0.140004106847,
          0.174690370867,
          0.20915846374,
          0.24335884624,
          0.277240145431,
          0.310749250387,
          0.34383142582,
          0.376430444171,
          0.408488736527,
          0.439947562589,
          0.470747199641,
          0.500827150304,
          0.530126368544,
          0.558583503173,
          0.586137157799,
          0.612726165846,
          0.63828987904,
          0.662768467393,
          0.686103228483,
          0.708236903536,
          0.729113997573,
          0.748681100661,
          0.766887207136,
          0.783684029524,
          0.799026303778,
          0.81287208243,
          0.825183012268,
          0.835924593226,
          0.84506641531,
          0.852582370594,
          0.858450837571,
          0.862654835441,
          0.865182146332,
          0.866025403784,
          0.865182146332,
          0.862654835441,
          0.858450837571,
          0.852582370594,
          0.84506641531,
          0.835924593226,
          0.825183012268,
          0.81287208243,
          0.799026303778,
          0.783684029524,
          0.766887207136,
          0.748681100661,
          0.729113997573,
          0.708236903536,
          0.686103228483,
          0.662768467393,
          0.63828987904,
          0.612726165846,
          0.586137157799,
          0.558583503173,
          0.530126368544,
          0.500827150304,
          0.470747199641,
          0.439947562589,
          0.408488736527,
          0.376430444171,
          0.34383142582,
          0.310749250387,
          0.277240145431,
          0.24335884624,
          0.20915846374,
          0.174690370867,
          0.140004106847,
          0.105147298692,
          0.0701655991063,
          0.0351026399091,
          0,
          0,
          0.0117008799697,
          0.0233885330354,
          0.0350490995641,
          0.0466680356158,
          0.0582301236222,
          0.0697194879132,
          0.0811196154134,
          0.0924133818105,
          0.103583083462,
          0.114610475273,
          0.125476814724,
          0.136162912176,
          0.14664918753,
          0.156915733214,
          0.166942383435,
          0.176708789515,
          0.186194501058,
          0.1953790526,
          0.204242055282,
          0.212763293013,
          0.220922822464,
          0.228701076161,
          0.236078967845,
          0.243037999191,
          0.249560366887,
          0.255629069045,
          0.261228009841,
          0.266342101259,
          0.27095736081,
          0.275061004089,
          0.278641531075,
          0.281688805103,
          0.284194123531,
          0.28615027919,
          0.287551611814,
          0.288394048777,
          0.288675134595,
          0.288394048777,
          0.287551611814,
          0.28615027919,
          0.284194123531,
          0.281688805103,
          0.278641531075,
          0.275061004089,
          0.27095736081,
          0.266342101259,
          0.261228009841,
          0.255629069045,
          0.249560366887,
          0.243037999191,
          0.236078967845,
          0.228701076161,
          0.220922822464,
          0.212763293013,
          0.204242055282,
          0.1953790526,
          0.186194501058,
          0.176708789515,
          0.166942383435,
          0.156915733214,
          0.14664918753,
          0.136162912176,
          0.125476814724,
          0.114610475273,
          0.103583083462,
          0.0924133818105,
          0.0811196154134,
          0.0697194879132,
          0.0582301236222,
          0.0466680356158,
          0.0350490995641,
          0.0233885330354,
          0.0117008799697,
          0,
          0,
          0.198914959485,
          0
         ]
        },
        {
         "hoverinfo": "none",
         "line": {
          "color": "#C6DA20",
          "shape": "spline",
          "width": 1
         },
         "mode": "lines",
         "name": "",
         "type": "scatter",
         "x": [
          0,
          0.0416435313715,
          0.0855213803451,
          0.131673950219,
          0.180138568129,
          0.230949132723,
          0.284135753749,
          0.33972438586,
          0.397736459175,
          0.458188509507,
          0.521091811414,
          0.586452017562,
          0.654268808115,
          0.724535554132,
          0.797238999137,
          0.872358963189,
          0.949868073879,
          1.02973152873,
          1.11190689346,
          1.19634394042,
          1.28298453139,
          1.37176254871,
          1.46260387812,
          1.55542644667,
          1.65014031805,
          1.74664784757,
          1.84484389782,
          1.944616116,
          2.04584527221,
          2.14840565812,
          2.25216554379,
          2.35698769008,
          2.46272991288,
          2.56924569488,
          2.67638483965,
          2.783994162,
          2.89191820837,
          3,
          3.10808179163,
          3.216005838,
          3.32361516035,
          3.43075430512,
          3.53727008712,
          3.64301230992,
          3.74783445621,
          3.85159434188,
          3.95415472779,
          4.055383884,
          4.15515610218,
          4.25335215243,
          4.34985968195,
          4.44457355333,
          4.53739612188,
          4.62823745129,
          4.71701546861,
          4.80365605958,
          4.88809310654,
          4.97026847127,
          5.05013192612,
          5.12764103681,
          5.20276100086,
          5.27546444587,
          5.34573119189,
          5.41354798244,
          5.47890818859,
          5.54181149049,
          5.60226354082,
          5.66027561414,
          5.71586424625,
          5.76905086728,
          5.81986143187,
          5.86832604978,
          5.91447861965,
          5.95835646863,
          6,
          6,
          5.97223764575,
          5.94298574644,
          5.91221736652,
          5.87990762125,
          5.84603391152,
          5.81057616417,
          5.77351707609,
          5.73484236055,
          5.69454099366,
          5.65260545906,
          5.60903198829,
          5.56382079459,
          5.51697629725,
          5.46850733391,
          5.41842735787,
          5.36675461741,
          5.31351231418,
          5.25872873769,
          5.20243737305,
          5.14467697907,
          5.0854916342,
          5.02493074792,
          4.96304903556,
          4.89990645463,
          4.83556810162,
          4.77010406812,
          4.703589256,
          4.63610315186,
          4.56772956126,
          4.49855630414,
          4.42867487328,
          4.35818005808,
          4.28716953675,
          4.21574344023,
          4.144003892,
          4.07205452775,
          4,
          3.92794547225,
          3.855996108,
          3.78425655977,
          3.71283046325,
          3.64181994192,
          3.57132512672,
          3.50144369586,
          3.43227043874,
          3.36389684814,
          3.296410744,
          3.22989593188,
          3.16443189838,
          3.10009354537,
          3.03695096444,
          2.97506925208,
          2.9145083658,
          2.85532302093,
          2.79756262695,
          2.74127126231,
          2.68648768582,
          2.63324538259,
          2.58157264213,
          2.53149266609,
          2.48302370275,
          2.43617920541,
          2.39096801171,
          2.34739454094,
          2.30545900634,
          2.26515763945,
          2.22648292391,
          2.18942383583,
          2.15396608848,
          2.12009237875,
          2.08778263348,
          2.05701425356,
          2.02776235425,
          2,
          2
         ],
         "y": [
          0,
          0.0702052798182,
          0.140331198213,
          0.210294597385,
          0.280008213695,
          0.349380741733,
          0.418316927479,
          0.48671769248,
          0.554480290863,
          0.621498500774,
          0.68766285164,
          0.752860888341,
          0.816977473054,
          0.879895125178,
          0.941494399282,
          1.00165430061,
          1.06025273709,
          1.11716700635,
          1.1722743156,
          1.22545233169,
          1.27657975808,
          1.32553693479,
          1.37220645697,
          1.41647380707,
          1.45822799515,
          1.49736220132,
          1.53377441427,
          1.56736805905,
          1.59805260756,
          1.62574416486,
          1.65036602454,
          1.67184918645,
          1.69013283062,
          1.70516474119,
          1.71690167514,
          1.72530967088,
          1.73036429266,
          1.73205080757,
          1.73036429266,
          1.72530967088,
          1.71690167514,
          1.70516474119,
          1.69013283062,
          1.67184918645,
          1.65036602454,
          1.62574416486,
          1.59805260756,
          1.56736805905,
          1.53377441427,
          1.49736220132,
          1.45822799515,
          1.41647380707,
          1.37220645697,
          1.32553693479,
          1.27657975808,
          1.22545233169,
          1.1722743156,
          1.11716700635,
          1.06025273709,
          1.00165430061,
          0.941494399282,
          0.879895125178,
          0.816977473054,
          0.752860888341,
          0.68766285164,
          0.621498500774,
          0.554480290863,
          0.48671769248,
          0.418316927479,
          0.349380741733,
          0.280008213695,
          0.210294597385,
          0.140331198213,
          0.0702052798182,
          0,
          0,
          0.0468035198788,
          0.0935541321418,
          0.140196398257,
          0.186672142463,
          0.232920494489,
          0.278877951653,
          0.324478461654,
          0.369653527242,
          0.414332333849,
          0.458441901093,
          0.501907258894,
          0.544651648703,
          0.586596750118,
          0.627662932855,
          0.667769533739,
          0.706835158058,
          0.744778004231,
          0.781516210398,
          0.816968221128,
          0.851053172054,
          0.883691289858,
          0.914804304644,
          0.944315871382,
          0.972151996765,
          0.998241467547,
          1.02251627618,
          1.04491203937,
          1.06536840504,
          1.08382944324,
          1.10024401636,
          1.1145661243,
          1.12675522041,
          1.13677649413,
          1.14460111676,
          1.15020644725,
          1.15357619511,
          1.15470053838,
          1.15357619511,
          1.15020644725,
          1.14460111676,
          1.13677649413,
          1.12675522041,
          1.1145661243,
          1.10024401636,
          1.08382944324,
          1.06536840504,
          1.04491203937,
          1.02251627618,
          0.998241467547,
          0.972151996765,
          0.944315871382,
          0.914804304644,
          0.883691289858,
          0.851053172054,
          0.816968221128,
          0.781516210398,
          0.744778004231,
          0.706835158058,
          0.667769533739,
          0.627662932855,
          0.586596750118,
          0.544651648703,
          0.501907258894,
          0.458441901093,
          0.414332333849,
          0.369653527242,
          0.324478461654,
          0.278877951653,
          0.232920494489,
          0.186672142463,
          0.140196398257,
          0.0935541321418,
          0.0468035198788,
          0,
          0
         ]
        },
        {
         "hoverinfo": "none",
         "line": {
          "color": "#C6DA20",
          "shape": "spline",
          "width": 1
         },
         "mode": "lines",
         "name": "",
         "type": "scatter",
         "x": [
          0,
          0.0485841199334,
          0.0997749437359,
          0.153619608588,
          0.210161662818,
          0.269440654843,
          0.331491712707,
          0.396345116836,
          0.464025869038,
          0.534553261092,
          0.60794044665,
          0.684194020489,
          0.763313609467,
          0.845291479821,
          0.93011216566,
          1.01775212372,
          1.10817941953,
          1.20135345019,
          1.29722470904,
          1.39573459716,
          1.49681528662,
          1.60038964016,
          1.70637119114,
          1.81466418778,
          1.9251637044,
          2.03775582216,
          2.15231788079,
          2.268718802,
          2.38681948424,
          2.5064732678,
          2.62752646776,
          2.74981897176,
          2.87318489835,
          2.9974533107,
          3.12244897959,
          3.24799318901,
          3.37390457644,
          3.5,
          3.62609542356,
          3.75200681099,
          3.87755102041,
          4.0025466893,
          4.12681510165,
          4.25018102824,
          4.37247353224,
          4.4935267322,
          4.61318051576,
          4.731281198,
          4.84768211921,
          4.96224417784,
          5.0748362956,
          5.18533581222,
          5.29362880886,
          5.39961035984,
          5.50318471338,
          5.60426540284,
          5.70277529096,
          5.79864654981,
          5.89182058047,
          5.98224787628,
          6.06988783434,
          6.15470852018,
          6.23668639053,
          6.31580597951,
          6.39205955335,
          6.46544673891,
          6.53597413096,
          6.60365488316,
          6.66850828729,
          6.73055934516,
          6.78983833718,
          6.84638039141,
          6.90022505626,
          6.95141588007,
          7,
          7,
          6.96529705719,
          6.92873218305,
          6.89027170815,
          6.84988452656,
          6.8075423894,
          6.76322020521,
          6.71689634512,
          6.66855295069,
          6.61817624208,
          6.56575682382,
          6.51128998536,
          6.45477599324,
          6.39622037156,
          6.33563416739,
          6.27303419734,
          6.20844327177,
          6.14189039272,
          6.07341092211,
          6.00304671632,
          5.93084622384,
          5.85686454275,
          5.7811634349,
          5.70381129445,
          5.62488306829,
          5.54446012703,
          5.46263008515,
          5.37948657,
          5.29512893983,
          5.20966195157,
          5.12319538017,
          5.0358435916,
          4.9477250726,
          4.85896192093,
          4.76967930029,
          4.680004865,
          4.59006815969,
          4.5,
          4.40993184031,
          4.319995135,
          4.23032069971,
          4.14103807907,
          4.0522749274,
          3.9641564084,
          3.87680461983,
          3.79033804843,
          3.70487106017,
          3.62051343,
          3.53736991485,
          3.45553987297,
          3.37511693171,
          3.29618870555,
          3.2188365651,
          3.14313545725,
          3.06915377616,
          2.99695328368,
          2.92658907789,
          2.85810960728,
          2.79155672823,
          2.72696580266,
          2.66436583261,
          2.60377962844,
          2.54522400676,
          2.48871001464,
          2.43424317618,
          2.38182375792,
          2.33144704931,
          2.28310365488,
          2.23677979479,
          2.1924576106,
          2.15011547344,
          2.10972829185,
          2.07126781695,
          2.03470294281,
          2,
          2
         ],
         "y": [
          0,
          0.0819061597879,
          0.163719731248,
          0.245343696949,
          0.326676249311,
          0.407610865356,
          0.488036415392,
          0.567837307894,
          0.646893672673,
          0.725081584236,
          0.802273326914,
          0.878337703065,
          0.95314038523,
          1.02654431271,
          1.0984101325,
          1.16859668404,
          1.2369615266,
          1.3033615074,
          1.3676533682,
          1.42969438697,
          1.48934305109,
          1.54645975725,
          1.60090753313,
          1.65255277492,
          1.70126599434,
          1.74692256821,
          1.78940348332,
          1.82859606889,
          1.86439470882,
          1.89670152567,
          1.92542702863,
          1.95049071753,
          1.97182163572,
          1.98935886472,
          2.00305195433,
          2.0128612827,
          2.01875834144,
          2.02072594216,
          2.01875834144,
          2.0128612827,
          2.00305195433,
          1.98935886472,
          1.97182163572,
          1.95049071753,
          1.92542702863,
          1.89670152567,
          1.86439470882,
          1.82859606889,
          1.78940348332,
          1.74692256821,
          1.70126599434,
          1.65255277492,
          1.60090753313,
          1.54645975725,
          1.48934305109,
          1.42969438697,
          1.3676533682,
          1.3033615074,
          1.2369615266,
          1.16859668404,
          1.0984101325,
          1.02654431271,
          0.95314038523,
          0.878337703065,
          0.802273326914,
          0.725081584236,
          0.646893672673,
          0.567837307894,
          0.488036415392,
          0.407610865356,
          0.326676249311,
          0.245343696949,
          0.163719731248,
          0.0819061597879,
          0,
          0,
          0.0585043998485,
          0.116942665177,
          0.175245497821,
          0.233340178079,
          0.291150618111,
          0.348597439566,
          0.405598077067,
          0.462066909052,
          0.517915417311,
          0.573052376367,
          0.627384073618,
          0.680814560879,
          0.733245937648,
          0.784578666069,
          0.834711917174,
          0.883543947573,
          0.930972505289,
          0.976895262998,
          1.02121027641,
          1.06381646507,
          1.10461411232,
          1.1435053808,
          1.18039483923,
          1.21518999596,
          1.24780183443,
          1.27814534523,
          1.30614004921,
          1.3317105063,
          1.35478680405,
          1.37530502045,
          1.39320765538,
          1.40844402552,
          1.42097061766,
          1.43075139595,
          1.43775805907,
          1.44197024389,
          1.44337567297,
          1.44197024389,
          1.43775805907,
          1.43075139595,
          1.42097061766,
          1.40844402552,
          1.39320765538,
          1.37530502045,
          1.35478680405,
          1.3317105063,
          1.30614004921,
          1.27814534523,
          1.24780183443,
          1.21518999596,
          1.18039483923,
          1.1435053808,
          1.10461411232,
          1.06381646507,
          1.02121027641,
          0.976895262998,
          0.930972505289,
          0.883543947573,
          0.834711917174,
          0.784578666069,
          0.733245937648,
          0.680814560879,
          0.627384073618,
          0.573052376367,
          0.517915417311,
          0.462066909052,
          0.405598077067,
          0.348597439566,
          0.291150618111,
          0.233340178079,
          0.175245497821,
          0.116942665177,
          0.0585043998485,
          0,
          0,
          0.198914959485,
          0.397605061602,
          0.59583469259,
          0.793356605468,
          0.989912101578,
          1.18523129452,
          1.37903346203,
          1.57102749078,
          1.76091241886,
          1.94837807965,
          2.1331058503,
          2.31476950699,
          2.493036188,
          2.66756746463,
          2.83802051839,
          3.00404942175,
          3.16530651798,
          3.32144389419,
          3.47211493979,
          3.61697598123,
          3.75568798189,
          3.88791829474,
          4.01334245337,
          4.13164598625,
          4.24252623708,
          4.34569417377,
          4.4408761673,
          4.52781572141,
          4.60627513377,
          4.67603706952,
          4.73690602828,
          4.78870968675,
          4.83130010004,
          4.86455474623,
          4.88837740083,
          4.90269882921,
          4.90747728811,
          4.90269882921,
          4.88837740083,
          4.86455474623,
          4.83130010004,
          4.78870968675,
          4.73690602828,
          4.67603706952,
          4.60627513377,
          4.52781572141,
          4.4408761673,
          4.34569417377,
          4.24252623708,
          4.13164598625,
          4.01334245337,
          3.88791829474,
          3.75568798189,
          3.61697598123,
          3.47211493979,
          3.32144389419,
          3.16530651798,
          3.00404942175,
          2.83802051839,
          2.66756746463,
          2.493036188,
          2.31476950699,
          2.1331058503,
          1.94837807965,
          1.76091241886,
          1.57102749078,
          1.37903346203,
          1.18523129452,
          0.989912101578,
          0.793356605468,
          0.59583469259,
          0.397605061602,
          0.198914959485,
          0
         ]
        },
        {
         "hoverinfo": "none",
         "line": {
          "color": "#C6DA20",
          "shape": "spline",
          "width": 1
         },
         "mode": "lines",
         "name": "",
         "type": "scatter",
         "x": [
          0,
          0.0624652970572,
          0.128282070518,
          0.197510925328,
          0.270207852194,
          0.346423699084,
          0.426203630624,
          0.50958657879,
          0.596604688763,
          0.687282764261,
          0.781637717122,
          0.879678026343,
          0.981403212172,
          1.0868033312,
          1.19585849871,
          1.30853844478,
          1.42480211082,
          1.5445972931,
          1.6678603402,
          1.79451591063,
          1.92447679709,
          2.05764382306,
          2.19390581717,
          2.33313967,
          2.47521047708,
          2.61997177135,
          2.76726584674,
          2.916924174,
          3.06876790831,
          3.22260848717,
          3.37824831569,
          3.53548153512,
          3.69409486931,
          3.85386854232,
          4.01457725948,
          4.17599124301,
          4.33787731256,
          4.5,
          4.66212268744,
          4.82400875699,
          4.98542274052,
          5.14613145768,
          5.30590513069,
          5.46451846488,
          5.62175168431,
          5.77739151283,
          5.93123209169,
          6.083075826,
          6.23273415326,
          6.38002822865,
          6.52478952292,
          6.66686033,
          6.80609418283,
          6.94235617694,
          7.07552320291,
          7.20548408937,
          7.3321396598,
          7.4554027069,
          7.57519788918,
          7.69146155522,
          7.80414150129,
          7.9131966688,
          8.01859678783,
          8.12032197366,
          8.21836228288,
          8.31271723574,
          8.40339531124,
          8.49041342121,
          8.57379636938,
          8.65357630092,
          8.72979214781,
          8.80248907467,
          8.87171792948,
          8.93753470294,
          9,
          9,
          8.95141588007,
          8.90022505626,
          8.84638039141,
          8.78983833718,
          8.73055934516,
          8.66850828729,
          8.60365488316,
          8.53597413096,
          8.46544673891,
          8.39205955335,
          8.31580597951,
          8.23668639053,
          8.15470852018,
          8.06988783434,
          7.98224787628,
          7.89182058047,
          7.79864654981,
          7.70277529096,
          7.60426540284,
          7.50318471338,
          7.39961035984,
          7.29362880886,
          7.18533581222,
          7.0748362956,
          6.96224417784,
          6.84768211921,
          6.731281198,
          6.61318051576,
          6.4935267322,
          6.37247353224,
          6.25018102824,
          6.12681510165,
          6.0025466893,
          5.87755102041,
          5.75200681099,
          5.62609542356,
          5.5,
          5.37390457644,
          5.24799318901,
          5.12244897959,
          4.9974533107,
          4.87318489835,
          4.74981897176,
          4.62752646776,
          4.5064732678,
          4.38681948424,
          4.268718802,
          4.15231788079,
          4.03775582216,
          3.9251637044,
          3.81466418778,
          3.70637119114,
          3.60038964016,
          3.49681528662,
          3.39573459716,
          3.29722470904,
          3.20135345019,
          3.10817941953,
          3.01775212372,
          2.93011216566,
          2.84529147982,
          2.76331360947,
          2.68419402049,
          2.60794044665,
          2.53455326109,
          2.46402586904,
          2.39634511684,
          2.33149171271,
          2.26944065484,
          2.21016166282,
          2.15361960859,
          2.09977494374,
          2.04858411993,
          2,
          2
         ],
         "y": [
          0,
          0.105307919727,
          0.210496797319,
          0.315441896077,
          0.420012320542,
          0.5240711126,
          0.627475391219,
          0.730076538721,
          0.831720436294,
          0.93224775116,
          1.03149427746,
          1.12929133251,
          1.22546620958,
          1.31984268777,
          1.41224159892,
          1.50248145091,
          1.59037910563,
          1.67575050952,
          1.7584114734,
          1.83817849754,
          1.91486963712,
          1.98830540218,
          2.05830968545,
          2.12471071061,
          2.18734199272,
          2.24604330198,
          2.30066162141,
          2.35105208857,
          2.39707891133,
          2.43861624729,
          2.4755490368,
          2.50777377968,
          2.53519924593,
          2.55774711178,
          2.57535251271,
          2.58796450632,
          2.595546439,
          2.59807621135,
          2.595546439,
          2.58796450632,
          2.57535251271,
          2.55774711178,
          2.53519924593,
          2.50777377968,
          2.4755490368,
          2.43861624729,
          2.39707891133,
          2.35105208857,
          2.30066162141,
          2.24604330198,
          2.18734199272,
          2.12471071061,
          2.05830968545,
          1.98830540218,
          1.91486963712,
          1.83817849754,
          1.7584114734,
          1.67575050952,
          1.59037910563,
          1.50248145091,
          1.41224159892,
          1.31984268777,
          1.22546620958,
          1.12929133251,
          1.03149427746,
          0.93224775116,
          0.831720436294,
          0.730076538721,
          0.627475391219,
          0.5240711126,
          0.420012320542,
          0.315441896077,
          0.210496797319,
          0.105307919727,
          0,
          0,
          0.0819061597879,
          0.163719731248,
          0.245343696949,
          0.326676249311,
          0.407610865356,
          0.488036415392,
          0.567837307894,
          0.646893672673,
          0.725081584236,
          0.802273326914,
          0.878337703065,
          0.95314038523,
          1.02654431271,
          1.0984101325,
          1.16859668404,
          1.2369615266,
          1.3033615074,
          1.3676533682,
          1.42969438697,
          1.48934305109,
          1.54645975725,
          1.60090753313,
          1.65255277492,
          1.70126599434,
          1.74692256821,
          1.78940348332,
          1.82859606889,
          1.86439470882,
          1.89670152567,
          1.92542702863,
          1.95049071753,
          1.97182163572,
          1.98935886472,
          2.00305195433,
          2.0128612827,
          2.01875834144,
          2.02072594216,
          2.01875834144,
          2.0128612827,
          2.00305195433,
          1.98935886472,
          1.97182163572,
          1.95049071753,
          1.92542702863,
          1.89670152567,
          1.86439470882,
          1.82859606889,
          1.78940348332,
          1.74692256821,
          1.70126599434,
          1.65255277492,
          1.60090753313,
          1.54645975725,
          1.48934305109,
          1.42969438697,
          1.3676533682,
          1.3033615074,
          1.2369615266,
          1.16859668404,
          1.0984101325,
          1.02654431271,
          0.95314038523,
          0.878337703065,
          0.802273326914,
          0.725081584236,
          0.646893672673,
          0.567837307894,
          0.488036415392,
          0.407610865356,
          0.326676249311,
          0.245343696949,
          0.163719731248,
          0.0819061597879,
          0,
          0
         ]
        },
        {
         "hoverinfo": "none",
         "line": {
          "color": "#C6DA20",
          "shape": "spline",
          "width": 1
         },
         "mode": "lines",
         "name": "",
         "type": "scatter",
         "x": [
          0,
          0.0624652970572,
          0.128282070518,
          0.197510925328,
          0.270207852194,
          0.346423699084,
          0.426203630624,
          0.50958657879,
          0.596604688763,
          0.687282764261,
          0.781637717122,
          0.879678026343,
          0.981403212172,
          1.0868033312,
          1.19585849871,
          1.30853844478,
          1.42480211082,
          1.5445972931,
          1.6678603402,
          1.79451591063,
          1.92447679709,
          2.05764382306,
          2.19390581717,
          2.33313967,
          2.47521047708,
          2.61997177135,
          2.76726584674,
          2.916924174,
          3.06876790831,
          3.22260848717,
          3.37824831569,
          3.53548153512,
          3.69409486931,
          3.85386854232,
          4.01457725948,
          4.17599124301,
          4.33787731256,
          4.5,
          4.66212268744,
          4.82400875699,
          4.98542274052,
          5.14613145768,
          5.30590513069,
          5.46451846488,
          5.62175168431,
          5.77739151283,
          5.93123209169,
          6.083075826,
          6.23273415326,
          6.38002822865,
          6.52478952292,
          6.66686033,
          6.80609418283,
          6.94235617694,
          7.07552320291,
          7.20548408937,
          7.3321396598,
          7.4554027069,
          7.57519788918,
          7.69146155522,
          7.80414150129,
          7.9131966688,
          8.01859678783,
          8.12032197366,
          8.21836228288,
          8.31271723574,
          8.40339531124,
          8.49041342121,
          8.57379636938,
          8.65357630092,
          8.72979214781,
          8.80248907467,
          8.87171792948,
          8.93753470294,
          9,
          9,
          9.00694058856,
          9.01425356339,
          9.02194565837,
          9.03002309469,
          9.03849152212,
          9.04735595896,
          9.05662073098,
          9.06628940986,
          9.07636475158,
          9.08684863524,
          9.09774200293,
          9.10904480135,
          9.12075592569,
          9.13287316652,
          9.14539316053,
          9.15831134565,
          9.17162192146,
          9.18531781558,
          9.19939065674,
          9.21383075523,
          9.22862709145,
          9.24376731302,
          9.25923774111,
          9.27502338634,
          9.29110797459,
          9.30747398297,
          9.324102686,
          9.34097421203,
          9.35806760969,
          9.37536092397,
          9.39283128168,
          9.41045498548,
          9.42820761581,
          9.44606413994,
          9.463999027,
          9.48198636806,
          9.5,
          9.51801363194,
          9.536000973,
          9.55393586006,
          9.57179238419,
          9.58954501452,
          9.60716871832,
          9.62463907603,
          9.64193239031,
          9.65902578797,
          9.675897314,
          9.69252601703,
          9.70889202541,
          9.72497661366,
          9.74076225889,
          9.75623268698,
          9.77137290855,
          9.78616924477,
          9.80060934326,
          9.81468218442,
          9.82837807854,
          9.84168865435,
          9.85460683947,
          9.86712683348,
          9.87924407431,
          9.89095519865,
          9.90225799707,
          9.91315136476,
          9.92363524842,
          9.93371059014,
          9.94337926902,
          9.95264404104,
          9.96150847788,
          9.96997690531,
          9.97805434163,
          9.98574643661,
          9.99305941144,
          10
         ],
         "y": [
          0,
          0.105307919727,
          0.210496797319,
          0.315441896077,
          0.420012320542,
          0.5240711126,
          0.627475391219,
          0.730076538721,
          0.831720436294,
          0.93224775116,
          1.03149427746,
          1.12929133251,
          1.22546620958,
          1.31984268777,
          1.41224159892,
          1.50248145091,
          1.59037910563,
          1.67575050952,
          1.7584114734,
          1.83817849754,
          1.91486963712,
          1.98830540218,
          2.05830968545,
          2.12471071061,
          2.18734199272,
          2.24604330198,
          2.30066162141,
          2.35105208857,
          2.39707891133,
          2.43861624729,
          2.4755490368,
          2.50777377968,
          2.53519924593,
          2.55774711178,
          2.57535251271,
          2.58796450632,
          2.595546439,
          2.59807621135,
          2.595546439,
          2.58796450632,
          2.57535251271,
          2.55774711178,
          2.53519924593,
          2.50777377968,
          2.4755490368,
          2.43861624729,
          2.39707891133,
          2.35105208857,
          2.30066162141,
          2.24604330198,
          2.18734199272,
          2.12471071061,
          2.05830968545,
          1.98830540218,
          1.91486963712,
          1.83817849754,
          1.7584114734,
          1.67575050952,
          1.59037910563,
          1.50248145091,
          1.41224159892,
          1.31984268777,
          1.22546620958,
          1.12929133251,
          1.03149427746,
          0.93224775116,
          0.831720436294,
          0.730076538721,
          0.627475391219,
          0.5240711126,
          0.420012320542,
          0.315441896077,
          0.210496797319,
          0.105307919727,
          0,
          0,
          0.0117008799697,
          0.0233885330354,
          0.0350490995641,
          0.0466680356158,
          0.0582301236222,
          0.0697194879132,
          0.0811196154134,
          0.0924133818105,
          0.103583083462,
          0.114610475273,
          0.125476814724,
          0.136162912176,
          0.14664918753,
          0.156915733214,
          0.166942383435,
          0.176708789515,
          0.186194501058,
          0.1953790526,
          0.204242055282,
          0.212763293013,
          0.220922822464,
          0.228701076161,
          0.236078967845,
          0.243037999191,
          0.249560366887,
          0.255629069045,
          0.261228009841,
          0.266342101259,
          0.27095736081,
          0.275061004089,
          0.278641531075,
          0.281688805103,
          0.284194123531,
          0.28615027919,
          0.287551611814,
          0.288394048777,
          0.288675134595,
          0.288394048777,
          0.287551611814,
          0.28615027919,
          0.284194123531,
          0.281688805103,
          0.278641531075,
          0.275061004089,
          0.27095736081,
          0.266342101259,
          0.261228009841,
          0.255629069045,
          0.249560366887,
          0.243037999191,
          0.236078967845,
          0.228701076161,
          0.220922822464,
          0.212763293013,
          0.204242055282,
          0.1953790526,
          0.186194501058,
          0.176708789515,
          0.166942383435,
          0.156915733214,
          0.14664918753,
          0.136162912176,
          0.125476814724,
          0.114610475273,
          0.103583083462,
          0.0924133818105,
          0.0811196154134,
          0.0697194879132,
          0.0582301236222,
          0.0466680356158,
          0.0350490995641,
          0.0233885330354,
          0.0117008799697,
          0
         ]
        },
        {
         "hoverinfo": "none",
         "line": {
          "color": "#C6DA20",
          "shape": "spline",
          "width": 1
         },
         "mode": "lines",
         "name": "",
         "type": "scatter",
         "x": [
          1,
          1.5,
          2
         ],
         "y": [
          0,
          0.25,
          0
         ]
        },
        {
         "marker": {
          "color": "#1E152A",
          "line": {
           "color": "rgb(50,50,50)",
           "width": 0.75
          },
          "showscale": false,
          "size": 12
         },
         "mode": "markers",
         "type": "scatter",
         "x": [
          0,
          1,
          2,
          3,
          4,
          5,
          6,
          7,
          8,
          9,
          10,
          11
         ],
         "y": [
          0,
          0,
          0,
          0,
          0,
          0,
          0,
          0,
          0,
          0,
          0,
          0,
          0
         ]
        }
       ],
       "layout": {
        "font": {
         "size": 10
        },
        "height": 475,
        "hovermode": "closest",
        "margin": {
         "b": 110,
         "l": 10,
         "r": 10,
         "t": 80
        },
        "showlegend": false,
        "title": "Alterar",
        "width": 800,
        "xaxis": {
         "anchor": "y",
         "showgrid": false,
         "showline": false,
         "tickangle": 50,
         "ticktext": [
          "0:00",
          "0:05",
          "0:10",
          "0:15",
          "0:20",
          "0:25",
          "0:30",
          "0:35",
          "0:40",
          "0:45",
          "0:50",
          "0:55"
         ],
         "tickvals": [
          0,
          1,
          2,
          3,
          4,
          5,
          6,
          7,
          8,
          9,
          10,
          11
         ],
         "zeroline": false
        },
        "yaxis": {
         "anchor": "x",
         "showgrid": false,
         "showline": false,
         "showticklabels": false,
         "zeroline": false
        }
       }
      },
      "text/html": [
       "<div id=\"d129704d-fdad-4f14-b9b1-63c1047e29f9\" style=\"height: 475px; width: 800px;\" class=\"plotly-graph-div\"></div><script type=\"text/javascript\">require([\"plotly\"], function(Plotly) { window.PLOTLYENV=window.PLOTLYENV || {};window.PLOTLYENV.BASE_URL=\"https://plot.ly\";Plotly.newPlot(\"d129704d-fdad-4f14-b9b1-63c1047e29f9\", [{\"x\": [0.0, 1.0, 2.0, 3.0, 4.0, 5.0, 6.0, 7.0, 8.0, 9.0, 10.0, 11.0], \"y\": [0.0, 0.0, 0.0, 0.0, 0.0, 0.0, 0.0, 0.0, 0.0, 0.0, 0.0, 0.0], \"hoverinfo\": \"Tempo\", \"line\": {\"color\": \"#4E6766\", \"shape\": \"spline\", \"width\": 3}, \"mode\": \"lines\", \"name\": \"\", \"type\": \"scatter\"}, {\"x\": [0.0, 0.0208217656857, 0.0427606901725, 0.0658369751093, 0.0900692840647, 0.115474566361, 0.142067876875, 0.16986219293, 0.198868229588, 0.229094254754, 0.260545905707, 0.293226008781, 0.327134404057, 0.362267777066, 0.398619499569, 0.436179481594, 0.474934036939, 0.514865764367, 0.555953446732, 0.59817197021, 0.641492265696, 0.685881274353, 0.731301939058, 0.777713223333, 0.825070159027, 0.873323923783, 0.922421948912, 0.972308057999, 1.0229226361, 1.07420282906, 1.1260827719, 1.17849384504, 1.23136495644, 1.28462284744, 1.33819241983, 1.391997081, 1.44595910419, 1.5, 1.55404089581, 1.608002919, 1.66180758017, 1.71537715256, 1.76863504356, 1.82150615496, 1.8739172281, 1.92579717094, 1.9770773639, 2.027691942, 2.07757805109, 2.12667607622, 2.17492984097, 2.22228677667, 2.26869806094, 2.31411872565, 2.3585077343, 2.40182802979, 2.44404655327, 2.48513423563, 2.52506596306, 2.56382051841, 2.60138050043, 2.63773222293, 2.67286559594, 2.70677399122, 2.73945409429, 2.77090574525, 2.80113177041, 2.83013780707, 2.85793212313, 2.88452543364, 2.90993071594, 2.93416302489, 2.95723930983, 2.97917823431, 3.0, 3.0, 2.99305941144, 2.98574643661, 2.97805434163, 2.96997690531, 2.96150847788, 2.95264404104, 2.94337926902, 2.93371059014, 2.92363524842, 2.91315136476, 2.90225799707, 2.89095519865, 2.87924407431, 2.86712683348, 2.85460683947, 2.84168865435, 2.82837807854, 2.81468218442, 2.80060934326, 2.78616924477, 2.77137290855, 2.75623268698, 2.74076225889, 2.72497661366, 2.70889202541, 2.69252601703, 2.675897314, 2.65902578797, 2.64193239031, 2.62463907603, 2.60716871832, 2.58954501452, 2.57179238419, 2.55393586006, 2.536000973, 2.51801363194, 2.5, 2.48198636806, 2.463999027, 2.44606413994, 2.42820761581, 2.41045498548, 2.39283128168, 2.37536092397, 2.35806760969, 2.34097421203, 2.324102686, 2.30747398297, 2.29110797459, 2.27502338634, 2.25923774111, 2.24376731302, 2.22862709145, 2.21383075523, 2.19939065674, 2.18531781558, 2.17162192146, 2.15831134565, 2.14539316053, 2.13287316652, 2.12075592569, 2.10904480135, 2.09774200293, 2.08684863524, 2.07636475158, 2.06628940986, 2.05662073098, 2.04735595896, 2.03849152212, 2.03002309469, 2.02194565837, 2.01425356339, 2.00694058856, 2.0], \"y\": [0.0, 0.0351026399091, 0.0701655991063, 0.105147298692, 0.140004106847, 0.174690370867, 0.20915846374, 0.24335884624, 0.277240145431, 0.310749250387, 0.34383142582, 0.376430444171, 0.408488736527, 0.439947562589, 0.470747199641, 0.500827150304, 0.530126368544, 0.558583503173, 0.586137157799, 0.612726165846, 0.63828987904, 0.662768467393, 0.686103228483, 0.708236903536, 0.729113997573, 0.748681100661, 0.766887207136, 0.783684029524, 0.799026303778, 0.81287208243, 0.825183012268, 0.835924593226, 0.84506641531, 0.852582370594, 0.858450837571, 0.862654835441, 0.865182146332, 0.866025403784, 0.865182146332, 0.862654835441, 0.858450837571, 0.852582370594, 0.84506641531, 0.835924593226, 0.825183012268, 0.81287208243, 0.799026303778, 0.783684029524, 0.766887207136, 0.748681100661, 0.729113997573, 0.708236903536, 0.686103228483, 0.662768467393, 0.63828987904, 0.612726165846, 0.586137157799, 0.558583503173, 0.530126368544, 0.500827150304, 0.470747199641, 0.439947562589, 0.408488736527, 0.376430444171, 0.34383142582, 0.310749250387, 0.277240145431, 0.24335884624, 0.20915846374, 0.174690370867, 0.140004106847, 0.105147298692, 0.0701655991063, 0.0351026399091, 0.0, 0.0, 0.0117008799697, 0.0233885330354, 0.0350490995641, 0.0466680356158, 0.0582301236222, 0.0697194879132, 0.0811196154134, 0.0924133818105, 0.103583083462, 0.114610475273, 0.125476814724, 0.136162912176, 0.14664918753, 0.156915733214, 0.166942383435, 0.176708789515, 0.186194501058, 0.1953790526, 0.204242055282, 0.212763293013, 0.220922822464, 0.228701076161, 0.236078967845, 0.243037999191, 0.249560366887, 0.255629069045, 0.261228009841, 0.266342101259, 0.27095736081, 0.275061004089, 0.278641531075, 0.281688805103, 0.284194123531, 0.28615027919, 0.287551611814, 0.288394048777, 0.288675134595, 0.288394048777, 0.287551611814, 0.28615027919, 0.284194123531, 0.281688805103, 0.278641531075, 0.275061004089, 0.27095736081, 0.266342101259, 0.261228009841, 0.255629069045, 0.249560366887, 0.243037999191, 0.236078967845, 0.228701076161, 0.220922822464, 0.212763293013, 0.204242055282, 0.1953790526, 0.186194501058, 0.176708789515, 0.166942383435, 0.156915733214, 0.14664918753, 0.136162912176, 0.125476814724, 0.114610475273, 0.103583083462, 0.0924133818105, 0.0811196154134, 0.0697194879132, 0.0582301236222, 0.0466680356158, 0.0350490995641, 0.0233885330354, 0.0117008799697, 0.0, 0.0, 0.198914959485, 0.0], \"hoverinfo\": \"none\", \"line\": {\"color\": \"#C6DA20\", \"shape\": \"spline\", \"width\": 1}, \"mode\": \"lines\", \"name\": \"\", \"type\": \"scatter\"}, {\"x\": [0.0, 0.0416435313715, 0.0855213803451, 0.131673950219, 0.180138568129, 0.230949132723, 0.284135753749, 0.33972438586, 0.397736459175, 0.458188509507, 0.521091811414, 0.586452017562, 0.654268808115, 0.724535554132, 0.797238999137, 0.872358963189, 0.949868073879, 1.02973152873, 1.11190689346, 1.19634394042, 1.28298453139, 1.37176254871, 1.46260387812, 1.55542644667, 1.65014031805, 1.74664784757, 1.84484389782, 1.944616116, 2.04584527221, 2.14840565812, 2.25216554379, 2.35698769008, 2.46272991288, 2.56924569488, 2.67638483965, 2.783994162, 2.89191820837, 3.0, 3.10808179163, 3.216005838, 3.32361516035, 3.43075430512, 3.53727008712, 3.64301230992, 3.74783445621, 3.85159434188, 3.95415472779, 4.055383884, 4.15515610218, 4.25335215243, 4.34985968195, 4.44457355333, 4.53739612188, 4.62823745129, 4.71701546861, 4.80365605958, 4.88809310654, 4.97026847127, 5.05013192612, 5.12764103681, 5.20276100086, 5.27546444587, 5.34573119189, 5.41354798244, 5.47890818859, 5.54181149049, 5.60226354082, 5.66027561414, 5.71586424625, 5.76905086728, 5.81986143187, 5.86832604978, 5.91447861965, 5.95835646863, 6.0, 6.0, 5.97223764575, 5.94298574644, 5.91221736652, 5.87990762125, 5.84603391152, 5.81057616417, 5.77351707609, 5.73484236055, 5.69454099366, 5.65260545906, 5.60903198829, 5.56382079459, 5.51697629725, 5.46850733391, 5.41842735787, 5.36675461741, 5.31351231418, 5.25872873769, 5.20243737305, 5.14467697907, 5.0854916342, 5.02493074792, 4.96304903556, 4.89990645463, 4.83556810162, 4.77010406812, 4.703589256, 4.63610315186, 4.56772956126, 4.49855630414, 4.42867487328, 4.35818005808, 4.28716953675, 4.21574344023, 4.144003892, 4.07205452775, 4.0, 3.92794547225, 3.855996108, 3.78425655977, 3.71283046325, 3.64181994192, 3.57132512672, 3.50144369586, 3.43227043874, 3.36389684814, 3.296410744, 3.22989593188, 3.16443189838, 3.10009354537, 3.03695096444, 2.97506925208, 2.9145083658, 2.85532302093, 2.79756262695, 2.74127126231, 2.68648768582, 2.63324538259, 2.58157264213, 2.53149266609, 2.48302370275, 2.43617920541, 2.39096801171, 2.34739454094, 2.30545900634, 2.26515763945, 2.22648292391, 2.18942383583, 2.15396608848, 2.12009237875, 2.08778263348, 2.05701425356, 2.02776235425, 2.0, 2.0], \"y\": [0.0, 0.0702052798182, 0.140331198213, 0.210294597385, 0.280008213695, 0.349380741733, 0.418316927479, 0.48671769248, 0.554480290863, 0.621498500774, 0.68766285164, 0.752860888341, 0.816977473054, 0.879895125178, 0.941494399282, 1.00165430061, 1.06025273709, 1.11716700635, 1.1722743156, 1.22545233169, 1.27657975808, 1.32553693479, 1.37220645697, 1.41647380707, 1.45822799515, 1.49736220132, 1.53377441427, 1.56736805905, 1.59805260756, 1.62574416486, 1.65036602454, 1.67184918645, 1.69013283062, 1.70516474119, 1.71690167514, 1.72530967088, 1.73036429266, 1.73205080757, 1.73036429266, 1.72530967088, 1.71690167514, 1.70516474119, 1.69013283062, 1.67184918645, 1.65036602454, 1.62574416486, 1.59805260756, 1.56736805905, 1.53377441427, 1.49736220132, 1.45822799515, 1.41647380707, 1.37220645697, 1.32553693479, 1.27657975808, 1.22545233169, 1.1722743156, 1.11716700635, 1.06025273709, 1.00165430061, 0.941494399282, 0.879895125178, 0.816977473054, 0.752860888341, 0.68766285164, 0.621498500774, 0.554480290863, 0.48671769248, 0.418316927479, 0.349380741733, 0.280008213695, 0.210294597385, 0.140331198213, 0.0702052798182, 0.0, 0.0, 0.0468035198788, 0.0935541321418, 0.140196398257, 0.186672142463, 0.232920494489, 0.278877951653, 0.324478461654, 0.369653527242, 0.414332333849, 0.458441901093, 0.501907258894, 0.544651648703, 0.586596750118, 0.627662932855, 0.667769533739, 0.706835158058, 0.744778004231, 0.781516210398, 0.816968221128, 0.851053172054, 0.883691289858, 0.914804304644, 0.944315871382, 0.972151996765, 0.998241467547, 1.02251627618, 1.04491203937, 1.06536840504, 1.08382944324, 1.10024401636, 1.1145661243, 1.12675522041, 1.13677649413, 1.14460111676, 1.15020644725, 1.15357619511, 1.15470053838, 1.15357619511, 1.15020644725, 1.14460111676, 1.13677649413, 1.12675522041, 1.1145661243, 1.10024401636, 1.08382944324, 1.06536840504, 1.04491203937, 1.02251627618, 0.998241467547, 0.972151996765, 0.944315871382, 0.914804304644, 0.883691289858, 0.851053172054, 0.816968221128, 0.781516210398, 0.744778004231, 0.706835158058, 0.667769533739, 0.627662932855, 0.586596750118, 0.544651648703, 0.501907258894, 0.458441901093, 0.414332333849, 0.369653527242, 0.324478461654, 0.278877951653, 0.232920494489, 0.186672142463, 0.140196398257, 0.0935541321418, 0.0468035198788, 0.0, 0.0], \"hoverinfo\": \"none\", \"line\": {\"color\": \"#C6DA20\", \"shape\": \"spline\", \"width\": 1}, \"mode\": \"lines\", \"name\": \"\", \"type\": \"scatter\"}, {\"x\": [0.0, 0.0485841199334, 0.0997749437359, 0.153619608588, 0.210161662818, 0.269440654843, 0.331491712707, 0.396345116836, 0.464025869038, 0.534553261092, 0.60794044665, 0.684194020489, 0.763313609467, 0.845291479821, 0.93011216566, 1.01775212372, 1.10817941953, 1.20135345019, 1.29722470904, 1.39573459716, 1.49681528662, 1.60038964016, 1.70637119114, 1.81466418778, 1.9251637044, 2.03775582216, 2.15231788079, 2.268718802, 2.38681948424, 2.5064732678, 2.62752646776, 2.74981897176, 2.87318489835, 2.9974533107, 3.12244897959, 3.24799318901, 3.37390457644, 3.5, 3.62609542356, 3.75200681099, 3.87755102041, 4.0025466893, 4.12681510165, 4.25018102824, 4.37247353224, 4.4935267322, 4.61318051576, 4.731281198, 4.84768211921, 4.96224417784, 5.0748362956, 5.18533581222, 5.29362880886, 5.39961035984, 5.50318471338, 5.60426540284, 5.70277529096, 5.79864654981, 5.89182058047, 5.98224787628, 6.06988783434, 6.15470852018, 6.23668639053, 6.31580597951, 6.39205955335, 6.46544673891, 6.53597413096, 6.60365488316, 6.66850828729, 6.73055934516, 6.78983833718, 6.84638039141, 6.90022505626, 6.95141588007, 7.0, 7.0, 6.96529705719, 6.92873218305, 6.89027170815, 6.84988452656, 6.8075423894, 6.76322020521, 6.71689634512, 6.66855295069, 6.61817624208, 6.56575682382, 6.51128998536, 6.45477599324, 6.39622037156, 6.33563416739, 6.27303419734, 6.20844327177, 6.14189039272, 6.07341092211, 6.00304671632, 5.93084622384, 5.85686454275, 5.7811634349, 5.70381129445, 5.62488306829, 5.54446012703, 5.46263008515, 5.37948657, 5.29512893983, 5.20966195157, 5.12319538017, 5.0358435916, 4.9477250726, 4.85896192093, 4.76967930029, 4.680004865, 4.59006815969, 4.5, 4.40993184031, 4.319995135, 4.23032069971, 4.14103807907, 4.0522749274, 3.9641564084, 3.87680461983, 3.79033804843, 3.70487106017, 3.62051343, 3.53736991485, 3.45553987297, 3.37511693171, 3.29618870555, 3.2188365651, 3.14313545725, 3.06915377616, 2.99695328368, 2.92658907789, 2.85810960728, 2.79155672823, 2.72696580266, 2.66436583261, 2.60377962844, 2.54522400676, 2.48871001464, 2.43424317618, 2.38182375792, 2.33144704931, 2.28310365488, 2.23677979479, 2.1924576106, 2.15011547344, 2.10972829185, 2.07126781695, 2.03470294281, 2.0, 2.0], \"y\": [0.0, 0.0819061597879, 0.163719731248, 0.245343696949, 0.326676249311, 0.407610865356, 0.488036415392, 0.567837307894, 0.646893672673, 0.725081584236, 0.802273326914, 0.878337703065, 0.95314038523, 1.02654431271, 1.0984101325, 1.16859668404, 1.2369615266, 1.3033615074, 1.3676533682, 1.42969438697, 1.48934305109, 1.54645975725, 1.60090753313, 1.65255277492, 1.70126599434, 1.74692256821, 1.78940348332, 1.82859606889, 1.86439470882, 1.89670152567, 1.92542702863, 1.95049071753, 1.97182163572, 1.98935886472, 2.00305195433, 2.0128612827, 2.01875834144, 2.02072594216, 2.01875834144, 2.0128612827, 2.00305195433, 1.98935886472, 1.97182163572, 1.95049071753, 1.92542702863, 1.89670152567, 1.86439470882, 1.82859606889, 1.78940348332, 1.74692256821, 1.70126599434, 1.65255277492, 1.60090753313, 1.54645975725, 1.48934305109, 1.42969438697, 1.3676533682, 1.3033615074, 1.2369615266, 1.16859668404, 1.0984101325, 1.02654431271, 0.95314038523, 0.878337703065, 0.802273326914, 0.725081584236, 0.646893672673, 0.567837307894, 0.488036415392, 0.407610865356, 0.326676249311, 0.245343696949, 0.163719731248, 0.0819061597879, 0.0, 0.0, 0.0585043998485, 0.116942665177, 0.175245497821, 0.233340178079, 0.291150618111, 0.348597439566, 0.405598077067, 0.462066909052, 0.517915417311, 0.573052376367, 0.627384073618, 0.680814560879, 0.733245937648, 0.784578666069, 0.834711917174, 0.883543947573, 0.930972505289, 0.976895262998, 1.02121027641, 1.06381646507, 1.10461411232, 1.1435053808, 1.18039483923, 1.21518999596, 1.24780183443, 1.27814534523, 1.30614004921, 1.3317105063, 1.35478680405, 1.37530502045, 1.39320765538, 1.40844402552, 1.42097061766, 1.43075139595, 1.43775805907, 1.44197024389, 1.44337567297, 1.44197024389, 1.43775805907, 1.43075139595, 1.42097061766, 1.40844402552, 1.39320765538, 1.37530502045, 1.35478680405, 1.3317105063, 1.30614004921, 1.27814534523, 1.24780183443, 1.21518999596, 1.18039483923, 1.1435053808, 1.10461411232, 1.06381646507, 1.02121027641, 0.976895262998, 0.930972505289, 0.883543947573, 0.834711917174, 0.784578666069, 0.733245937648, 0.680814560879, 0.627384073618, 0.573052376367, 0.517915417311, 0.462066909052, 0.405598077067, 0.348597439566, 0.291150618111, 0.233340178079, 0.175245497821, 0.116942665177, 0.0585043998485, 0.0, 0.0, 0.198914959485, 0.397605061602, 0.59583469259, 0.793356605468, 0.989912101578, 1.18523129452, 1.37903346203, 1.57102749078, 1.76091241886, 1.94837807965, 2.1331058503, 2.31476950699, 2.493036188, 2.66756746463, 2.83802051839, 3.00404942175, 3.16530651798, 3.32144389419, 3.47211493979, 3.61697598123, 3.75568798189, 3.88791829474, 4.01334245337, 4.13164598625, 4.24252623708, 4.34569417377, 4.4408761673, 4.52781572141, 4.60627513377, 4.67603706952, 4.73690602828, 4.78870968675, 4.83130010004, 4.86455474623, 4.88837740083, 4.90269882921, 4.90747728811, 4.90269882921, 4.88837740083, 4.86455474623, 4.83130010004, 4.78870968675, 4.73690602828, 4.67603706952, 4.60627513377, 4.52781572141, 4.4408761673, 4.34569417377, 4.24252623708, 4.13164598625, 4.01334245337, 3.88791829474, 3.75568798189, 3.61697598123, 3.47211493979, 3.32144389419, 3.16530651798, 3.00404942175, 2.83802051839, 2.66756746463, 2.493036188, 2.31476950699, 2.1331058503, 1.94837807965, 1.76091241886, 1.57102749078, 1.37903346203, 1.18523129452, 0.989912101578, 0.793356605468, 0.59583469259, 0.397605061602, 0.198914959485, 0.0], \"hoverinfo\": \"none\", \"line\": {\"color\": \"#C6DA20\", \"shape\": \"spline\", \"width\": 1}, \"mode\": \"lines\", \"name\": \"\", \"type\": \"scatter\"}, {\"x\": [0.0, 0.0624652970572, 0.128282070518, 0.197510925328, 0.270207852194, 0.346423699084, 0.426203630624, 0.50958657879, 0.596604688763, 0.687282764261, 0.781637717122, 0.879678026343, 0.981403212172, 1.0868033312, 1.19585849871, 1.30853844478, 1.42480211082, 1.5445972931, 1.6678603402, 1.79451591063, 1.92447679709, 2.05764382306, 2.19390581717, 2.33313967, 2.47521047708, 2.61997177135, 2.76726584674, 2.916924174, 3.06876790831, 3.22260848717, 3.37824831569, 3.53548153512, 3.69409486931, 3.85386854232, 4.01457725948, 4.17599124301, 4.33787731256, 4.5, 4.66212268744, 4.82400875699, 4.98542274052, 5.14613145768, 5.30590513069, 5.46451846488, 5.62175168431, 5.77739151283, 5.93123209169, 6.083075826, 6.23273415326, 6.38002822865, 6.52478952292, 6.66686033, 6.80609418283, 6.94235617694, 7.07552320291, 7.20548408937, 7.3321396598, 7.4554027069, 7.57519788918, 7.69146155522, 7.80414150129, 7.9131966688, 8.01859678783, 8.12032197366, 8.21836228288, 8.31271723574, 8.40339531124, 8.49041342121, 8.57379636938, 8.65357630092, 8.72979214781, 8.80248907467, 8.87171792948, 8.93753470294, 9.0, 9.0, 8.95141588007, 8.90022505626, 8.84638039141, 8.78983833718, 8.73055934516, 8.66850828729, 8.60365488316, 8.53597413096, 8.46544673891, 8.39205955335, 8.31580597951, 8.23668639053, 8.15470852018, 8.06988783434, 7.98224787628, 7.89182058047, 7.79864654981, 7.70277529096, 7.60426540284, 7.50318471338, 7.39961035984, 7.29362880886, 7.18533581222, 7.0748362956, 6.96224417784, 6.84768211921, 6.731281198, 6.61318051576, 6.4935267322, 6.37247353224, 6.25018102824, 6.12681510165, 6.0025466893, 5.87755102041, 5.75200681099, 5.62609542356, 5.5, 5.37390457644, 5.24799318901, 5.12244897959, 4.9974533107, 4.87318489835, 4.74981897176, 4.62752646776, 4.5064732678, 4.38681948424, 4.268718802, 4.15231788079, 4.03775582216, 3.9251637044, 3.81466418778, 3.70637119114, 3.60038964016, 3.49681528662, 3.39573459716, 3.29722470904, 3.20135345019, 3.10817941953, 3.01775212372, 2.93011216566, 2.84529147982, 2.76331360947, 2.68419402049, 2.60794044665, 2.53455326109, 2.46402586904, 2.39634511684, 2.33149171271, 2.26944065484, 2.21016166282, 2.15361960859, 2.09977494374, 2.04858411993, 2.0, 2.0], \"y\": [0.0, 0.105307919727, 0.210496797319, 0.315441896077, 0.420012320542, 0.5240711126, 0.627475391219, 0.730076538721, 0.831720436294, 0.93224775116, 1.03149427746, 1.12929133251, 1.22546620958, 1.31984268777, 1.41224159892, 1.50248145091, 1.59037910563, 1.67575050952, 1.7584114734, 1.83817849754, 1.91486963712, 1.98830540218, 2.05830968545, 2.12471071061, 2.18734199272, 2.24604330198, 2.30066162141, 2.35105208857, 2.39707891133, 2.43861624729, 2.4755490368, 2.50777377968, 2.53519924593, 2.55774711178, 2.57535251271, 2.58796450632, 2.595546439, 2.59807621135, 2.595546439, 2.58796450632, 2.57535251271, 2.55774711178, 2.53519924593, 2.50777377968, 2.4755490368, 2.43861624729, 2.39707891133, 2.35105208857, 2.30066162141, 2.24604330198, 2.18734199272, 2.12471071061, 2.05830968545, 1.98830540218, 1.91486963712, 1.83817849754, 1.7584114734, 1.67575050952, 1.59037910563, 1.50248145091, 1.41224159892, 1.31984268777, 1.22546620958, 1.12929133251, 1.03149427746, 0.93224775116, 0.831720436294, 0.730076538721, 0.627475391219, 0.5240711126, 0.420012320542, 0.315441896077, 0.210496797319, 0.105307919727, 0.0, 0.0, 0.0819061597879, 0.163719731248, 0.245343696949, 0.326676249311, 0.407610865356, 0.488036415392, 0.567837307894, 0.646893672673, 0.725081584236, 0.802273326914, 0.878337703065, 0.95314038523, 1.02654431271, 1.0984101325, 1.16859668404, 1.2369615266, 1.3033615074, 1.3676533682, 1.42969438697, 1.48934305109, 1.54645975725, 1.60090753313, 1.65255277492, 1.70126599434, 1.74692256821, 1.78940348332, 1.82859606889, 1.86439470882, 1.89670152567, 1.92542702863, 1.95049071753, 1.97182163572, 1.98935886472, 2.00305195433, 2.0128612827, 2.01875834144, 2.02072594216, 2.01875834144, 2.0128612827, 2.00305195433, 1.98935886472, 1.97182163572, 1.95049071753, 1.92542702863, 1.89670152567, 1.86439470882, 1.82859606889, 1.78940348332, 1.74692256821, 1.70126599434, 1.65255277492, 1.60090753313, 1.54645975725, 1.48934305109, 1.42969438697, 1.3676533682, 1.3033615074, 1.2369615266, 1.16859668404, 1.0984101325, 1.02654431271, 0.95314038523, 0.878337703065, 0.802273326914, 0.725081584236, 0.646893672673, 0.567837307894, 0.488036415392, 0.407610865356, 0.326676249311, 0.245343696949, 0.163719731248, 0.0819061597879, 0.0, 0.0], \"hoverinfo\": \"none\", \"line\": {\"color\": \"#C6DA20\", \"shape\": \"spline\", \"width\": 1}, \"mode\": \"lines\", \"name\": \"\", \"type\": \"scatter\"}, {\"x\": [0.0, 0.0624652970572, 0.128282070518, 0.197510925328, 0.270207852194, 0.346423699084, 0.426203630624, 0.50958657879, 0.596604688763, 0.687282764261, 0.781637717122, 0.879678026343, 0.981403212172, 1.0868033312, 1.19585849871, 1.30853844478, 1.42480211082, 1.5445972931, 1.6678603402, 1.79451591063, 1.92447679709, 2.05764382306, 2.19390581717, 2.33313967, 2.47521047708, 2.61997177135, 2.76726584674, 2.916924174, 3.06876790831, 3.22260848717, 3.37824831569, 3.53548153512, 3.69409486931, 3.85386854232, 4.01457725948, 4.17599124301, 4.33787731256, 4.5, 4.66212268744, 4.82400875699, 4.98542274052, 5.14613145768, 5.30590513069, 5.46451846488, 5.62175168431, 5.77739151283, 5.93123209169, 6.083075826, 6.23273415326, 6.38002822865, 6.52478952292, 6.66686033, 6.80609418283, 6.94235617694, 7.07552320291, 7.20548408937, 7.3321396598, 7.4554027069, 7.57519788918, 7.69146155522, 7.80414150129, 7.9131966688, 8.01859678783, 8.12032197366, 8.21836228288, 8.31271723574, 8.40339531124, 8.49041342121, 8.57379636938, 8.65357630092, 8.72979214781, 8.80248907467, 8.87171792948, 8.93753470294, 9.0, 9.0, 9.00694058856, 9.01425356339, 9.02194565837, 9.03002309469, 9.03849152212, 9.04735595896, 9.05662073098, 9.06628940986, 9.07636475158, 9.08684863524, 9.09774200293, 9.10904480135, 9.12075592569, 9.13287316652, 9.14539316053, 9.15831134565, 9.17162192146, 9.18531781558, 9.19939065674, 9.21383075523, 9.22862709145, 9.24376731302, 9.25923774111, 9.27502338634, 9.29110797459, 9.30747398297, 9.324102686, 9.34097421203, 9.35806760969, 9.37536092397, 9.39283128168, 9.41045498548, 9.42820761581, 9.44606413994, 9.463999027, 9.48198636806, 9.5, 9.51801363194, 9.536000973, 9.55393586006, 9.57179238419, 9.58954501452, 9.60716871832, 9.62463907603, 9.64193239031, 9.65902578797, 9.675897314, 9.69252601703, 9.70889202541, 9.72497661366, 9.74076225889, 9.75623268698, 9.77137290855, 9.78616924477, 9.80060934326, 9.81468218442, 9.82837807854, 9.84168865435, 9.85460683947, 9.86712683348, 9.87924407431, 9.89095519865, 9.90225799707, 9.91315136476, 9.92363524842, 9.93371059014, 9.94337926902, 9.95264404104, 9.96150847788, 9.96997690531, 9.97805434163, 9.98574643661, 9.99305941144, 10.0], \"y\": [0.0, 0.105307919727, 0.210496797319, 0.315441896077, 0.420012320542, 0.5240711126, 0.627475391219, 0.730076538721, 0.831720436294, 0.93224775116, 1.03149427746, 1.12929133251, 1.22546620958, 1.31984268777, 1.41224159892, 1.50248145091, 1.59037910563, 1.67575050952, 1.7584114734, 1.83817849754, 1.91486963712, 1.98830540218, 2.05830968545, 2.12471071061, 2.18734199272, 2.24604330198, 2.30066162141, 2.35105208857, 2.39707891133, 2.43861624729, 2.4755490368, 2.50777377968, 2.53519924593, 2.55774711178, 2.57535251271, 2.58796450632, 2.595546439, 2.59807621135, 2.595546439, 2.58796450632, 2.57535251271, 2.55774711178, 2.53519924593, 2.50777377968, 2.4755490368, 2.43861624729, 2.39707891133, 2.35105208857, 2.30066162141, 2.24604330198, 2.18734199272, 2.12471071061, 2.05830968545, 1.98830540218, 1.91486963712, 1.83817849754, 1.7584114734, 1.67575050952, 1.59037910563, 1.50248145091, 1.41224159892, 1.31984268777, 1.22546620958, 1.12929133251, 1.03149427746, 0.93224775116, 0.831720436294, 0.730076538721, 0.627475391219, 0.5240711126, 0.420012320542, 0.315441896077, 0.210496797319, 0.105307919727, 0.0, 0.0, 0.0117008799697, 0.0233885330354, 0.0350490995641, 0.0466680356158, 0.0582301236222, 0.0697194879132, 0.0811196154134, 0.0924133818105, 0.103583083462, 0.114610475273, 0.125476814724, 0.136162912176, 0.14664918753, 0.156915733214, 0.166942383435, 0.176708789515, 0.186194501058, 0.1953790526, 0.204242055282, 0.212763293013, 0.220922822464, 0.228701076161, 0.236078967845, 0.243037999191, 0.249560366887, 0.255629069045, 0.261228009841, 0.266342101259, 0.27095736081, 0.275061004089, 0.278641531075, 0.281688805103, 0.284194123531, 0.28615027919, 0.287551611814, 0.288394048777, 0.288675134595, 0.288394048777, 0.287551611814, 0.28615027919, 0.284194123531, 0.281688805103, 0.278641531075, 0.275061004089, 0.27095736081, 0.266342101259, 0.261228009841, 0.255629069045, 0.249560366887, 0.243037999191, 0.236078967845, 0.228701076161, 0.220922822464, 0.212763293013, 0.204242055282, 0.1953790526, 0.186194501058, 0.176708789515, 0.166942383435, 0.156915733214, 0.14664918753, 0.136162912176, 0.125476814724, 0.114610475273, 0.103583083462, 0.0924133818105, 0.0811196154134, 0.0697194879132, 0.0582301236222, 0.0466680356158, 0.0350490995641, 0.0233885330354, 0.0117008799697, 0.0], \"hoverinfo\": \"none\", \"line\": {\"color\": \"#C6DA20\", \"shape\": \"spline\", \"width\": 1}, \"mode\": \"lines\", \"name\": \"\", \"type\": \"scatter\"}, {\"x\": [1.0, 1.5, 2.0], \"y\": [0.0, 0.25, 0.0], \"hoverinfo\": \"none\", \"line\": {\"color\": \"#C6DA20\", \"shape\": \"spline\", \"width\": 1}, \"mode\": \"lines\", \"name\": \"\", \"type\": \"scatter\"}, {\"x\": [0, 1, 2, 3, 4, 5, 6, 7, 8, 9, 10, 11], \"y\": [0, 0, 0, 0, 0, 0, 0, 0, 0, 0, 0, 0, 0], \"marker\": {\"color\": \"#1E152A\", \"line\": {\"color\": \"rgb(50,50,50)\", \"width\": 0.75}, \"showscale\": false, \"size\": 12}, \"mode\": \"markers\", \"type\": \"scatter\"}], {\"font\": {\"size\": 10}, \"height\": 475, \"hovermode\": \"closest\", \"margin\": {\"r\": 10, \"t\": 80, \"b\": 110, \"l\": 10}, \"showlegend\": false, \"title\": \"Alterar\", \"width\": 800, \"xaxis\": {\"anchor\": \"y\", \"showgrid\": false, \"showline\": false, \"tickangle\": 50, \"ticktext\": [\"0:00\", \"0:05\", \"0:10\", \"0:15\", \"0:20\", \"0:25\", \"0:30\", \"0:35\", \"0:40\", \"0:45\", \"0:50\", \"0:55\"], \"tickvals\": [0, 1, 2, 3, 4, 5, 6, 7, 8, 9, 10, 11], \"zeroline\": false}, \"yaxis\": {\"anchor\": \"x\", \"showgrid\": false, \"showline\": false, \"showticklabels\": false, \"zeroline\": false}}, {\"showLink\": true, \"linkText\": \"Export to plot.ly\"})});</script>"
      ],
      "text/vnd.plotly.v1+html": [
       "<div id=\"d129704d-fdad-4f14-b9b1-63c1047e29f9\" style=\"height: 475px; width: 800px;\" class=\"plotly-graph-div\"></div><script type=\"text/javascript\">require([\"plotly\"], function(Plotly) { window.PLOTLYENV=window.PLOTLYENV || {};window.PLOTLYENV.BASE_URL=\"https://plot.ly\";Plotly.newPlot(\"d129704d-fdad-4f14-b9b1-63c1047e29f9\", [{\"x\": [0.0, 1.0, 2.0, 3.0, 4.0, 5.0, 6.0, 7.0, 8.0, 9.0, 10.0, 11.0], \"y\": [0.0, 0.0, 0.0, 0.0, 0.0, 0.0, 0.0, 0.0, 0.0, 0.0, 0.0, 0.0], \"hoverinfo\": \"Tempo\", \"line\": {\"color\": \"#4E6766\", \"shape\": \"spline\", \"width\": 3}, \"mode\": \"lines\", \"name\": \"\", \"type\": \"scatter\"}, {\"x\": [0.0, 0.0208217656857, 0.0427606901725, 0.0658369751093, 0.0900692840647, 0.115474566361, 0.142067876875, 0.16986219293, 0.198868229588, 0.229094254754, 0.260545905707, 0.293226008781, 0.327134404057, 0.362267777066, 0.398619499569, 0.436179481594, 0.474934036939, 0.514865764367, 0.555953446732, 0.59817197021, 0.641492265696, 0.685881274353, 0.731301939058, 0.777713223333, 0.825070159027, 0.873323923783, 0.922421948912, 0.972308057999, 1.0229226361, 1.07420282906, 1.1260827719, 1.17849384504, 1.23136495644, 1.28462284744, 1.33819241983, 1.391997081, 1.44595910419, 1.5, 1.55404089581, 1.608002919, 1.66180758017, 1.71537715256, 1.76863504356, 1.82150615496, 1.8739172281, 1.92579717094, 1.9770773639, 2.027691942, 2.07757805109, 2.12667607622, 2.17492984097, 2.22228677667, 2.26869806094, 2.31411872565, 2.3585077343, 2.40182802979, 2.44404655327, 2.48513423563, 2.52506596306, 2.56382051841, 2.60138050043, 2.63773222293, 2.67286559594, 2.70677399122, 2.73945409429, 2.77090574525, 2.80113177041, 2.83013780707, 2.85793212313, 2.88452543364, 2.90993071594, 2.93416302489, 2.95723930983, 2.97917823431, 3.0, 3.0, 2.99305941144, 2.98574643661, 2.97805434163, 2.96997690531, 2.96150847788, 2.95264404104, 2.94337926902, 2.93371059014, 2.92363524842, 2.91315136476, 2.90225799707, 2.89095519865, 2.87924407431, 2.86712683348, 2.85460683947, 2.84168865435, 2.82837807854, 2.81468218442, 2.80060934326, 2.78616924477, 2.77137290855, 2.75623268698, 2.74076225889, 2.72497661366, 2.70889202541, 2.69252601703, 2.675897314, 2.65902578797, 2.64193239031, 2.62463907603, 2.60716871832, 2.58954501452, 2.57179238419, 2.55393586006, 2.536000973, 2.51801363194, 2.5, 2.48198636806, 2.463999027, 2.44606413994, 2.42820761581, 2.41045498548, 2.39283128168, 2.37536092397, 2.35806760969, 2.34097421203, 2.324102686, 2.30747398297, 2.29110797459, 2.27502338634, 2.25923774111, 2.24376731302, 2.22862709145, 2.21383075523, 2.19939065674, 2.18531781558, 2.17162192146, 2.15831134565, 2.14539316053, 2.13287316652, 2.12075592569, 2.10904480135, 2.09774200293, 2.08684863524, 2.07636475158, 2.06628940986, 2.05662073098, 2.04735595896, 2.03849152212, 2.03002309469, 2.02194565837, 2.01425356339, 2.00694058856, 2.0], \"y\": [0.0, 0.0351026399091, 0.0701655991063, 0.105147298692, 0.140004106847, 0.174690370867, 0.20915846374, 0.24335884624, 0.277240145431, 0.310749250387, 0.34383142582, 0.376430444171, 0.408488736527, 0.439947562589, 0.470747199641, 0.500827150304, 0.530126368544, 0.558583503173, 0.586137157799, 0.612726165846, 0.63828987904, 0.662768467393, 0.686103228483, 0.708236903536, 0.729113997573, 0.748681100661, 0.766887207136, 0.783684029524, 0.799026303778, 0.81287208243, 0.825183012268, 0.835924593226, 0.84506641531, 0.852582370594, 0.858450837571, 0.862654835441, 0.865182146332, 0.866025403784, 0.865182146332, 0.862654835441, 0.858450837571, 0.852582370594, 0.84506641531, 0.835924593226, 0.825183012268, 0.81287208243, 0.799026303778, 0.783684029524, 0.766887207136, 0.748681100661, 0.729113997573, 0.708236903536, 0.686103228483, 0.662768467393, 0.63828987904, 0.612726165846, 0.586137157799, 0.558583503173, 0.530126368544, 0.500827150304, 0.470747199641, 0.439947562589, 0.408488736527, 0.376430444171, 0.34383142582, 0.310749250387, 0.277240145431, 0.24335884624, 0.20915846374, 0.174690370867, 0.140004106847, 0.105147298692, 0.0701655991063, 0.0351026399091, 0.0, 0.0, 0.0117008799697, 0.0233885330354, 0.0350490995641, 0.0466680356158, 0.0582301236222, 0.0697194879132, 0.0811196154134, 0.0924133818105, 0.103583083462, 0.114610475273, 0.125476814724, 0.136162912176, 0.14664918753, 0.156915733214, 0.166942383435, 0.176708789515, 0.186194501058, 0.1953790526, 0.204242055282, 0.212763293013, 0.220922822464, 0.228701076161, 0.236078967845, 0.243037999191, 0.249560366887, 0.255629069045, 0.261228009841, 0.266342101259, 0.27095736081, 0.275061004089, 0.278641531075, 0.281688805103, 0.284194123531, 0.28615027919, 0.287551611814, 0.288394048777, 0.288675134595, 0.288394048777, 0.287551611814, 0.28615027919, 0.284194123531, 0.281688805103, 0.278641531075, 0.275061004089, 0.27095736081, 0.266342101259, 0.261228009841, 0.255629069045, 0.249560366887, 0.243037999191, 0.236078967845, 0.228701076161, 0.220922822464, 0.212763293013, 0.204242055282, 0.1953790526, 0.186194501058, 0.176708789515, 0.166942383435, 0.156915733214, 0.14664918753, 0.136162912176, 0.125476814724, 0.114610475273, 0.103583083462, 0.0924133818105, 0.0811196154134, 0.0697194879132, 0.0582301236222, 0.0466680356158, 0.0350490995641, 0.0233885330354, 0.0117008799697, 0.0, 0.0, 0.198914959485, 0.0], \"hoverinfo\": \"none\", \"line\": {\"color\": \"#C6DA20\", \"shape\": \"spline\", \"width\": 1}, \"mode\": \"lines\", \"name\": \"\", \"type\": \"scatter\"}, {\"x\": [0.0, 0.0416435313715, 0.0855213803451, 0.131673950219, 0.180138568129, 0.230949132723, 0.284135753749, 0.33972438586, 0.397736459175, 0.458188509507, 0.521091811414, 0.586452017562, 0.654268808115, 0.724535554132, 0.797238999137, 0.872358963189, 0.949868073879, 1.02973152873, 1.11190689346, 1.19634394042, 1.28298453139, 1.37176254871, 1.46260387812, 1.55542644667, 1.65014031805, 1.74664784757, 1.84484389782, 1.944616116, 2.04584527221, 2.14840565812, 2.25216554379, 2.35698769008, 2.46272991288, 2.56924569488, 2.67638483965, 2.783994162, 2.89191820837, 3.0, 3.10808179163, 3.216005838, 3.32361516035, 3.43075430512, 3.53727008712, 3.64301230992, 3.74783445621, 3.85159434188, 3.95415472779, 4.055383884, 4.15515610218, 4.25335215243, 4.34985968195, 4.44457355333, 4.53739612188, 4.62823745129, 4.71701546861, 4.80365605958, 4.88809310654, 4.97026847127, 5.05013192612, 5.12764103681, 5.20276100086, 5.27546444587, 5.34573119189, 5.41354798244, 5.47890818859, 5.54181149049, 5.60226354082, 5.66027561414, 5.71586424625, 5.76905086728, 5.81986143187, 5.86832604978, 5.91447861965, 5.95835646863, 6.0, 6.0, 5.97223764575, 5.94298574644, 5.91221736652, 5.87990762125, 5.84603391152, 5.81057616417, 5.77351707609, 5.73484236055, 5.69454099366, 5.65260545906, 5.60903198829, 5.56382079459, 5.51697629725, 5.46850733391, 5.41842735787, 5.36675461741, 5.31351231418, 5.25872873769, 5.20243737305, 5.14467697907, 5.0854916342, 5.02493074792, 4.96304903556, 4.89990645463, 4.83556810162, 4.77010406812, 4.703589256, 4.63610315186, 4.56772956126, 4.49855630414, 4.42867487328, 4.35818005808, 4.28716953675, 4.21574344023, 4.144003892, 4.07205452775, 4.0, 3.92794547225, 3.855996108, 3.78425655977, 3.71283046325, 3.64181994192, 3.57132512672, 3.50144369586, 3.43227043874, 3.36389684814, 3.296410744, 3.22989593188, 3.16443189838, 3.10009354537, 3.03695096444, 2.97506925208, 2.9145083658, 2.85532302093, 2.79756262695, 2.74127126231, 2.68648768582, 2.63324538259, 2.58157264213, 2.53149266609, 2.48302370275, 2.43617920541, 2.39096801171, 2.34739454094, 2.30545900634, 2.26515763945, 2.22648292391, 2.18942383583, 2.15396608848, 2.12009237875, 2.08778263348, 2.05701425356, 2.02776235425, 2.0, 2.0], \"y\": [0.0, 0.0702052798182, 0.140331198213, 0.210294597385, 0.280008213695, 0.349380741733, 0.418316927479, 0.48671769248, 0.554480290863, 0.621498500774, 0.68766285164, 0.752860888341, 0.816977473054, 0.879895125178, 0.941494399282, 1.00165430061, 1.06025273709, 1.11716700635, 1.1722743156, 1.22545233169, 1.27657975808, 1.32553693479, 1.37220645697, 1.41647380707, 1.45822799515, 1.49736220132, 1.53377441427, 1.56736805905, 1.59805260756, 1.62574416486, 1.65036602454, 1.67184918645, 1.69013283062, 1.70516474119, 1.71690167514, 1.72530967088, 1.73036429266, 1.73205080757, 1.73036429266, 1.72530967088, 1.71690167514, 1.70516474119, 1.69013283062, 1.67184918645, 1.65036602454, 1.62574416486, 1.59805260756, 1.56736805905, 1.53377441427, 1.49736220132, 1.45822799515, 1.41647380707, 1.37220645697, 1.32553693479, 1.27657975808, 1.22545233169, 1.1722743156, 1.11716700635, 1.06025273709, 1.00165430061, 0.941494399282, 0.879895125178, 0.816977473054, 0.752860888341, 0.68766285164, 0.621498500774, 0.554480290863, 0.48671769248, 0.418316927479, 0.349380741733, 0.280008213695, 0.210294597385, 0.140331198213, 0.0702052798182, 0.0, 0.0, 0.0468035198788, 0.0935541321418, 0.140196398257, 0.186672142463, 0.232920494489, 0.278877951653, 0.324478461654, 0.369653527242, 0.414332333849, 0.458441901093, 0.501907258894, 0.544651648703, 0.586596750118, 0.627662932855, 0.667769533739, 0.706835158058, 0.744778004231, 0.781516210398, 0.816968221128, 0.851053172054, 0.883691289858, 0.914804304644, 0.944315871382, 0.972151996765, 0.998241467547, 1.02251627618, 1.04491203937, 1.06536840504, 1.08382944324, 1.10024401636, 1.1145661243, 1.12675522041, 1.13677649413, 1.14460111676, 1.15020644725, 1.15357619511, 1.15470053838, 1.15357619511, 1.15020644725, 1.14460111676, 1.13677649413, 1.12675522041, 1.1145661243, 1.10024401636, 1.08382944324, 1.06536840504, 1.04491203937, 1.02251627618, 0.998241467547, 0.972151996765, 0.944315871382, 0.914804304644, 0.883691289858, 0.851053172054, 0.816968221128, 0.781516210398, 0.744778004231, 0.706835158058, 0.667769533739, 0.627662932855, 0.586596750118, 0.544651648703, 0.501907258894, 0.458441901093, 0.414332333849, 0.369653527242, 0.324478461654, 0.278877951653, 0.232920494489, 0.186672142463, 0.140196398257, 0.0935541321418, 0.0468035198788, 0.0, 0.0], \"hoverinfo\": \"none\", \"line\": {\"color\": \"#C6DA20\", \"shape\": \"spline\", \"width\": 1}, \"mode\": \"lines\", \"name\": \"\", \"type\": \"scatter\"}, {\"x\": [0.0, 0.0485841199334, 0.0997749437359, 0.153619608588, 0.210161662818, 0.269440654843, 0.331491712707, 0.396345116836, 0.464025869038, 0.534553261092, 0.60794044665, 0.684194020489, 0.763313609467, 0.845291479821, 0.93011216566, 1.01775212372, 1.10817941953, 1.20135345019, 1.29722470904, 1.39573459716, 1.49681528662, 1.60038964016, 1.70637119114, 1.81466418778, 1.9251637044, 2.03775582216, 2.15231788079, 2.268718802, 2.38681948424, 2.5064732678, 2.62752646776, 2.74981897176, 2.87318489835, 2.9974533107, 3.12244897959, 3.24799318901, 3.37390457644, 3.5, 3.62609542356, 3.75200681099, 3.87755102041, 4.0025466893, 4.12681510165, 4.25018102824, 4.37247353224, 4.4935267322, 4.61318051576, 4.731281198, 4.84768211921, 4.96224417784, 5.0748362956, 5.18533581222, 5.29362880886, 5.39961035984, 5.50318471338, 5.60426540284, 5.70277529096, 5.79864654981, 5.89182058047, 5.98224787628, 6.06988783434, 6.15470852018, 6.23668639053, 6.31580597951, 6.39205955335, 6.46544673891, 6.53597413096, 6.60365488316, 6.66850828729, 6.73055934516, 6.78983833718, 6.84638039141, 6.90022505626, 6.95141588007, 7.0, 7.0, 6.96529705719, 6.92873218305, 6.89027170815, 6.84988452656, 6.8075423894, 6.76322020521, 6.71689634512, 6.66855295069, 6.61817624208, 6.56575682382, 6.51128998536, 6.45477599324, 6.39622037156, 6.33563416739, 6.27303419734, 6.20844327177, 6.14189039272, 6.07341092211, 6.00304671632, 5.93084622384, 5.85686454275, 5.7811634349, 5.70381129445, 5.62488306829, 5.54446012703, 5.46263008515, 5.37948657, 5.29512893983, 5.20966195157, 5.12319538017, 5.0358435916, 4.9477250726, 4.85896192093, 4.76967930029, 4.680004865, 4.59006815969, 4.5, 4.40993184031, 4.319995135, 4.23032069971, 4.14103807907, 4.0522749274, 3.9641564084, 3.87680461983, 3.79033804843, 3.70487106017, 3.62051343, 3.53736991485, 3.45553987297, 3.37511693171, 3.29618870555, 3.2188365651, 3.14313545725, 3.06915377616, 2.99695328368, 2.92658907789, 2.85810960728, 2.79155672823, 2.72696580266, 2.66436583261, 2.60377962844, 2.54522400676, 2.48871001464, 2.43424317618, 2.38182375792, 2.33144704931, 2.28310365488, 2.23677979479, 2.1924576106, 2.15011547344, 2.10972829185, 2.07126781695, 2.03470294281, 2.0, 2.0], \"y\": [0.0, 0.0819061597879, 0.163719731248, 0.245343696949, 0.326676249311, 0.407610865356, 0.488036415392, 0.567837307894, 0.646893672673, 0.725081584236, 0.802273326914, 0.878337703065, 0.95314038523, 1.02654431271, 1.0984101325, 1.16859668404, 1.2369615266, 1.3033615074, 1.3676533682, 1.42969438697, 1.48934305109, 1.54645975725, 1.60090753313, 1.65255277492, 1.70126599434, 1.74692256821, 1.78940348332, 1.82859606889, 1.86439470882, 1.89670152567, 1.92542702863, 1.95049071753, 1.97182163572, 1.98935886472, 2.00305195433, 2.0128612827, 2.01875834144, 2.02072594216, 2.01875834144, 2.0128612827, 2.00305195433, 1.98935886472, 1.97182163572, 1.95049071753, 1.92542702863, 1.89670152567, 1.86439470882, 1.82859606889, 1.78940348332, 1.74692256821, 1.70126599434, 1.65255277492, 1.60090753313, 1.54645975725, 1.48934305109, 1.42969438697, 1.3676533682, 1.3033615074, 1.2369615266, 1.16859668404, 1.0984101325, 1.02654431271, 0.95314038523, 0.878337703065, 0.802273326914, 0.725081584236, 0.646893672673, 0.567837307894, 0.488036415392, 0.407610865356, 0.326676249311, 0.245343696949, 0.163719731248, 0.0819061597879, 0.0, 0.0, 0.0585043998485, 0.116942665177, 0.175245497821, 0.233340178079, 0.291150618111, 0.348597439566, 0.405598077067, 0.462066909052, 0.517915417311, 0.573052376367, 0.627384073618, 0.680814560879, 0.733245937648, 0.784578666069, 0.834711917174, 0.883543947573, 0.930972505289, 0.976895262998, 1.02121027641, 1.06381646507, 1.10461411232, 1.1435053808, 1.18039483923, 1.21518999596, 1.24780183443, 1.27814534523, 1.30614004921, 1.3317105063, 1.35478680405, 1.37530502045, 1.39320765538, 1.40844402552, 1.42097061766, 1.43075139595, 1.43775805907, 1.44197024389, 1.44337567297, 1.44197024389, 1.43775805907, 1.43075139595, 1.42097061766, 1.40844402552, 1.39320765538, 1.37530502045, 1.35478680405, 1.3317105063, 1.30614004921, 1.27814534523, 1.24780183443, 1.21518999596, 1.18039483923, 1.1435053808, 1.10461411232, 1.06381646507, 1.02121027641, 0.976895262998, 0.930972505289, 0.883543947573, 0.834711917174, 0.784578666069, 0.733245937648, 0.680814560879, 0.627384073618, 0.573052376367, 0.517915417311, 0.462066909052, 0.405598077067, 0.348597439566, 0.291150618111, 0.233340178079, 0.175245497821, 0.116942665177, 0.0585043998485, 0.0, 0.0, 0.198914959485, 0.397605061602, 0.59583469259, 0.793356605468, 0.989912101578, 1.18523129452, 1.37903346203, 1.57102749078, 1.76091241886, 1.94837807965, 2.1331058503, 2.31476950699, 2.493036188, 2.66756746463, 2.83802051839, 3.00404942175, 3.16530651798, 3.32144389419, 3.47211493979, 3.61697598123, 3.75568798189, 3.88791829474, 4.01334245337, 4.13164598625, 4.24252623708, 4.34569417377, 4.4408761673, 4.52781572141, 4.60627513377, 4.67603706952, 4.73690602828, 4.78870968675, 4.83130010004, 4.86455474623, 4.88837740083, 4.90269882921, 4.90747728811, 4.90269882921, 4.88837740083, 4.86455474623, 4.83130010004, 4.78870968675, 4.73690602828, 4.67603706952, 4.60627513377, 4.52781572141, 4.4408761673, 4.34569417377, 4.24252623708, 4.13164598625, 4.01334245337, 3.88791829474, 3.75568798189, 3.61697598123, 3.47211493979, 3.32144389419, 3.16530651798, 3.00404942175, 2.83802051839, 2.66756746463, 2.493036188, 2.31476950699, 2.1331058503, 1.94837807965, 1.76091241886, 1.57102749078, 1.37903346203, 1.18523129452, 0.989912101578, 0.793356605468, 0.59583469259, 0.397605061602, 0.198914959485, 0.0], \"hoverinfo\": \"none\", \"line\": {\"color\": \"#C6DA20\", \"shape\": \"spline\", \"width\": 1}, \"mode\": \"lines\", \"name\": \"\", \"type\": \"scatter\"}, {\"x\": [0.0, 0.0624652970572, 0.128282070518, 0.197510925328, 0.270207852194, 0.346423699084, 0.426203630624, 0.50958657879, 0.596604688763, 0.687282764261, 0.781637717122, 0.879678026343, 0.981403212172, 1.0868033312, 1.19585849871, 1.30853844478, 1.42480211082, 1.5445972931, 1.6678603402, 1.79451591063, 1.92447679709, 2.05764382306, 2.19390581717, 2.33313967, 2.47521047708, 2.61997177135, 2.76726584674, 2.916924174, 3.06876790831, 3.22260848717, 3.37824831569, 3.53548153512, 3.69409486931, 3.85386854232, 4.01457725948, 4.17599124301, 4.33787731256, 4.5, 4.66212268744, 4.82400875699, 4.98542274052, 5.14613145768, 5.30590513069, 5.46451846488, 5.62175168431, 5.77739151283, 5.93123209169, 6.083075826, 6.23273415326, 6.38002822865, 6.52478952292, 6.66686033, 6.80609418283, 6.94235617694, 7.07552320291, 7.20548408937, 7.3321396598, 7.4554027069, 7.57519788918, 7.69146155522, 7.80414150129, 7.9131966688, 8.01859678783, 8.12032197366, 8.21836228288, 8.31271723574, 8.40339531124, 8.49041342121, 8.57379636938, 8.65357630092, 8.72979214781, 8.80248907467, 8.87171792948, 8.93753470294, 9.0, 9.0, 8.95141588007, 8.90022505626, 8.84638039141, 8.78983833718, 8.73055934516, 8.66850828729, 8.60365488316, 8.53597413096, 8.46544673891, 8.39205955335, 8.31580597951, 8.23668639053, 8.15470852018, 8.06988783434, 7.98224787628, 7.89182058047, 7.79864654981, 7.70277529096, 7.60426540284, 7.50318471338, 7.39961035984, 7.29362880886, 7.18533581222, 7.0748362956, 6.96224417784, 6.84768211921, 6.731281198, 6.61318051576, 6.4935267322, 6.37247353224, 6.25018102824, 6.12681510165, 6.0025466893, 5.87755102041, 5.75200681099, 5.62609542356, 5.5, 5.37390457644, 5.24799318901, 5.12244897959, 4.9974533107, 4.87318489835, 4.74981897176, 4.62752646776, 4.5064732678, 4.38681948424, 4.268718802, 4.15231788079, 4.03775582216, 3.9251637044, 3.81466418778, 3.70637119114, 3.60038964016, 3.49681528662, 3.39573459716, 3.29722470904, 3.20135345019, 3.10817941953, 3.01775212372, 2.93011216566, 2.84529147982, 2.76331360947, 2.68419402049, 2.60794044665, 2.53455326109, 2.46402586904, 2.39634511684, 2.33149171271, 2.26944065484, 2.21016166282, 2.15361960859, 2.09977494374, 2.04858411993, 2.0, 2.0], \"y\": [0.0, 0.105307919727, 0.210496797319, 0.315441896077, 0.420012320542, 0.5240711126, 0.627475391219, 0.730076538721, 0.831720436294, 0.93224775116, 1.03149427746, 1.12929133251, 1.22546620958, 1.31984268777, 1.41224159892, 1.50248145091, 1.59037910563, 1.67575050952, 1.7584114734, 1.83817849754, 1.91486963712, 1.98830540218, 2.05830968545, 2.12471071061, 2.18734199272, 2.24604330198, 2.30066162141, 2.35105208857, 2.39707891133, 2.43861624729, 2.4755490368, 2.50777377968, 2.53519924593, 2.55774711178, 2.57535251271, 2.58796450632, 2.595546439, 2.59807621135, 2.595546439, 2.58796450632, 2.57535251271, 2.55774711178, 2.53519924593, 2.50777377968, 2.4755490368, 2.43861624729, 2.39707891133, 2.35105208857, 2.30066162141, 2.24604330198, 2.18734199272, 2.12471071061, 2.05830968545, 1.98830540218, 1.91486963712, 1.83817849754, 1.7584114734, 1.67575050952, 1.59037910563, 1.50248145091, 1.41224159892, 1.31984268777, 1.22546620958, 1.12929133251, 1.03149427746, 0.93224775116, 0.831720436294, 0.730076538721, 0.627475391219, 0.5240711126, 0.420012320542, 0.315441896077, 0.210496797319, 0.105307919727, 0.0, 0.0, 0.0819061597879, 0.163719731248, 0.245343696949, 0.326676249311, 0.407610865356, 0.488036415392, 0.567837307894, 0.646893672673, 0.725081584236, 0.802273326914, 0.878337703065, 0.95314038523, 1.02654431271, 1.0984101325, 1.16859668404, 1.2369615266, 1.3033615074, 1.3676533682, 1.42969438697, 1.48934305109, 1.54645975725, 1.60090753313, 1.65255277492, 1.70126599434, 1.74692256821, 1.78940348332, 1.82859606889, 1.86439470882, 1.89670152567, 1.92542702863, 1.95049071753, 1.97182163572, 1.98935886472, 2.00305195433, 2.0128612827, 2.01875834144, 2.02072594216, 2.01875834144, 2.0128612827, 2.00305195433, 1.98935886472, 1.97182163572, 1.95049071753, 1.92542702863, 1.89670152567, 1.86439470882, 1.82859606889, 1.78940348332, 1.74692256821, 1.70126599434, 1.65255277492, 1.60090753313, 1.54645975725, 1.48934305109, 1.42969438697, 1.3676533682, 1.3033615074, 1.2369615266, 1.16859668404, 1.0984101325, 1.02654431271, 0.95314038523, 0.878337703065, 0.802273326914, 0.725081584236, 0.646893672673, 0.567837307894, 0.488036415392, 0.407610865356, 0.326676249311, 0.245343696949, 0.163719731248, 0.0819061597879, 0.0, 0.0], \"hoverinfo\": \"none\", \"line\": {\"color\": \"#C6DA20\", \"shape\": \"spline\", \"width\": 1}, \"mode\": \"lines\", \"name\": \"\", \"type\": \"scatter\"}, {\"x\": [0.0, 0.0624652970572, 0.128282070518, 0.197510925328, 0.270207852194, 0.346423699084, 0.426203630624, 0.50958657879, 0.596604688763, 0.687282764261, 0.781637717122, 0.879678026343, 0.981403212172, 1.0868033312, 1.19585849871, 1.30853844478, 1.42480211082, 1.5445972931, 1.6678603402, 1.79451591063, 1.92447679709, 2.05764382306, 2.19390581717, 2.33313967, 2.47521047708, 2.61997177135, 2.76726584674, 2.916924174, 3.06876790831, 3.22260848717, 3.37824831569, 3.53548153512, 3.69409486931, 3.85386854232, 4.01457725948, 4.17599124301, 4.33787731256, 4.5, 4.66212268744, 4.82400875699, 4.98542274052, 5.14613145768, 5.30590513069, 5.46451846488, 5.62175168431, 5.77739151283, 5.93123209169, 6.083075826, 6.23273415326, 6.38002822865, 6.52478952292, 6.66686033, 6.80609418283, 6.94235617694, 7.07552320291, 7.20548408937, 7.3321396598, 7.4554027069, 7.57519788918, 7.69146155522, 7.80414150129, 7.9131966688, 8.01859678783, 8.12032197366, 8.21836228288, 8.31271723574, 8.40339531124, 8.49041342121, 8.57379636938, 8.65357630092, 8.72979214781, 8.80248907467, 8.87171792948, 8.93753470294, 9.0, 9.0, 9.00694058856, 9.01425356339, 9.02194565837, 9.03002309469, 9.03849152212, 9.04735595896, 9.05662073098, 9.06628940986, 9.07636475158, 9.08684863524, 9.09774200293, 9.10904480135, 9.12075592569, 9.13287316652, 9.14539316053, 9.15831134565, 9.17162192146, 9.18531781558, 9.19939065674, 9.21383075523, 9.22862709145, 9.24376731302, 9.25923774111, 9.27502338634, 9.29110797459, 9.30747398297, 9.324102686, 9.34097421203, 9.35806760969, 9.37536092397, 9.39283128168, 9.41045498548, 9.42820761581, 9.44606413994, 9.463999027, 9.48198636806, 9.5, 9.51801363194, 9.536000973, 9.55393586006, 9.57179238419, 9.58954501452, 9.60716871832, 9.62463907603, 9.64193239031, 9.65902578797, 9.675897314, 9.69252601703, 9.70889202541, 9.72497661366, 9.74076225889, 9.75623268698, 9.77137290855, 9.78616924477, 9.80060934326, 9.81468218442, 9.82837807854, 9.84168865435, 9.85460683947, 9.86712683348, 9.87924407431, 9.89095519865, 9.90225799707, 9.91315136476, 9.92363524842, 9.93371059014, 9.94337926902, 9.95264404104, 9.96150847788, 9.96997690531, 9.97805434163, 9.98574643661, 9.99305941144, 10.0], \"y\": [0.0, 0.105307919727, 0.210496797319, 0.315441896077, 0.420012320542, 0.5240711126, 0.627475391219, 0.730076538721, 0.831720436294, 0.93224775116, 1.03149427746, 1.12929133251, 1.22546620958, 1.31984268777, 1.41224159892, 1.50248145091, 1.59037910563, 1.67575050952, 1.7584114734, 1.83817849754, 1.91486963712, 1.98830540218, 2.05830968545, 2.12471071061, 2.18734199272, 2.24604330198, 2.30066162141, 2.35105208857, 2.39707891133, 2.43861624729, 2.4755490368, 2.50777377968, 2.53519924593, 2.55774711178, 2.57535251271, 2.58796450632, 2.595546439, 2.59807621135, 2.595546439, 2.58796450632, 2.57535251271, 2.55774711178, 2.53519924593, 2.50777377968, 2.4755490368, 2.43861624729, 2.39707891133, 2.35105208857, 2.30066162141, 2.24604330198, 2.18734199272, 2.12471071061, 2.05830968545, 1.98830540218, 1.91486963712, 1.83817849754, 1.7584114734, 1.67575050952, 1.59037910563, 1.50248145091, 1.41224159892, 1.31984268777, 1.22546620958, 1.12929133251, 1.03149427746, 0.93224775116, 0.831720436294, 0.730076538721, 0.627475391219, 0.5240711126, 0.420012320542, 0.315441896077, 0.210496797319, 0.105307919727, 0.0, 0.0, 0.0117008799697, 0.0233885330354, 0.0350490995641, 0.0466680356158, 0.0582301236222, 0.0697194879132, 0.0811196154134, 0.0924133818105, 0.103583083462, 0.114610475273, 0.125476814724, 0.136162912176, 0.14664918753, 0.156915733214, 0.166942383435, 0.176708789515, 0.186194501058, 0.1953790526, 0.204242055282, 0.212763293013, 0.220922822464, 0.228701076161, 0.236078967845, 0.243037999191, 0.249560366887, 0.255629069045, 0.261228009841, 0.266342101259, 0.27095736081, 0.275061004089, 0.278641531075, 0.281688805103, 0.284194123531, 0.28615027919, 0.287551611814, 0.288394048777, 0.288675134595, 0.288394048777, 0.287551611814, 0.28615027919, 0.284194123531, 0.281688805103, 0.278641531075, 0.275061004089, 0.27095736081, 0.266342101259, 0.261228009841, 0.255629069045, 0.249560366887, 0.243037999191, 0.236078967845, 0.228701076161, 0.220922822464, 0.212763293013, 0.204242055282, 0.1953790526, 0.186194501058, 0.176708789515, 0.166942383435, 0.156915733214, 0.14664918753, 0.136162912176, 0.125476814724, 0.114610475273, 0.103583083462, 0.0924133818105, 0.0811196154134, 0.0697194879132, 0.0582301236222, 0.0466680356158, 0.0350490995641, 0.0233885330354, 0.0117008799697, 0.0], \"hoverinfo\": \"none\", \"line\": {\"color\": \"#C6DA20\", \"shape\": \"spline\", \"width\": 1}, \"mode\": \"lines\", \"name\": \"\", \"type\": \"scatter\"}, {\"x\": [1.0, 1.5, 2.0], \"y\": [0.0, 0.25, 0.0], \"hoverinfo\": \"none\", \"line\": {\"color\": \"#C6DA20\", \"shape\": \"spline\", \"width\": 1}, \"mode\": \"lines\", \"name\": \"\", \"type\": \"scatter\"}, {\"x\": [0, 1, 2, 3, 4, 5, 6, 7, 8, 9, 10, 11], \"y\": [0, 0, 0, 0, 0, 0, 0, 0, 0, 0, 0, 0, 0], \"marker\": {\"color\": \"#1E152A\", \"line\": {\"color\": \"rgb(50,50,50)\", \"width\": 0.75}, \"showscale\": false, \"size\": 12}, \"mode\": \"markers\", \"type\": \"scatter\"}], {\"font\": {\"size\": 10}, \"height\": 475, \"hovermode\": \"closest\", \"margin\": {\"r\": 10, \"t\": 80, \"b\": 110, \"l\": 10}, \"showlegend\": false, \"title\": \"Alterar\", \"width\": 800, \"xaxis\": {\"anchor\": \"y\", \"showgrid\": false, \"showline\": false, \"tickangle\": 50, \"ticktext\": [\"0:00\", \"0:05\", \"0:10\", \"0:15\", \"0:20\", \"0:25\", \"0:30\", \"0:35\", \"0:40\", \"0:45\", \"0:50\", \"0:55\"], \"tickvals\": [0, 1, 2, 3, 4, 5, 6, 7, 8, 9, 10, 11], \"zeroline\": false}, \"yaxis\": {\"anchor\": \"x\", \"showgrid\": false, \"showline\": false, \"showticklabels\": false, \"zeroline\": false}}, {\"showLink\": true, \"linkText\": \"Export to plot.ly\"})});</script>"
      ]
     },
     "metadata": {},
     "output_type": "display_data"
    }
   ],
   "source": [
    "instance = V009()\n",
    "instance.generate_dataset(number_actions = 120, video_size = 30)\n",
    "# instance.print_all_graphs(\"pt\")\n",
    "instance.print_all_graphs(\"en\")"
   ]
  },
  {
   "cell_type": "markdown",
   "metadata": {},
   "source": [
    "### View 010 - Vídeos que os estudantes entenderam e não entenderam"
   ]
  },
  {
   "cell_type": "code",
   "execution_count": null,
   "metadata": {
    "scrolled": true
   },
   "outputs": [],
   "source": [
    "run V010.py"
   ]
  },
  {
   "cell_type": "code",
   "execution_count": null,
   "metadata": {
    "scrolled": false
   },
   "outputs": [],
   "source": [
    "instance = V010()\n",
    "instance.generate_dataset(number_students=35, number_video=10)\n",
    "# instance.print_all_graphs(\"pt\")\n",
    "instance.print_all_graphs(\"en\")"
   ]
  },
  {
   "cell_type": "markdown",
   "metadata": {},
   "source": [
    "### View 011 - Padrão de navegação dos estudantes no AVA"
   ]
  },
  {
   "cell_type": "code",
   "execution_count": 22,
   "metadata": {},
   "outputs": [
    {
     "data": {
      "text/html": [
       "<script>requirejs.config({paths: { 'plotly': ['https://cdn.plot.ly/plotly-latest.min']},});if(!window.Plotly) {{require(['plotly'],function(plotly) {window.Plotly=plotly;});}}</script>"
      ],
      "text/vnd.plotly.v1+html": [
       "<script>requirejs.config({paths: { 'plotly': ['https://cdn.plot.ly/plotly-latest.min']},});if(!window.Plotly) {{require(['plotly'],function(plotly) {window.Plotly=plotly;});}}</script>"
      ]
     },
     "metadata": {},
     "output_type": "display_data"
    }
   ],
   "source": [
    "run V011b.py"
   ]
  },
  {
   "cell_type": "code",
   "execution_count": 23,
   "metadata": {},
   "outputs": [
    {
     "data": {
      "application/vnd.plotly.v1+json": {
       "data": [
        {
         "cells": {
          "align": [
           "left",
           "center"
          ],
          "fill": {
           "color": "#F5F8FF"
          },
          "values": [
           [
            "ALANI",
            "ARIANA",
            "ATALIANE",
            "DANIELA",
            "DARTANHAN",
            "EZENILDO",
            "GECINALDO",
            "GISRAEL",
            "IACI",
            "ILKA",
            "IRTON",
            "JOVIANI",
            "KELLY",
            "LEANA",
            "LISLEY",
            "MARLUCIO",
            "PATRICK",
            "RAFAELA",
            "TAIRONI",
            "VALDECIL"
           ],
           [
            "61 - 70",
            "71 - 80",
            "91 - 100",
            "61 - 70",
            "91 - 100",
            "0 - 60",
            "Dropout",
            "Dropout",
            "91 - 100",
            "61 - 70",
            "61 - 70",
            "71 - 80",
            "91 - 100",
            "81 - 90",
            "91 - 100",
            "0 - 60",
            "91 - 100",
            "81 - 90",
            "0 - 60",
            "91 - 100"
           ],
           [
            58,
            75,
            85,
            60,
            74,
            42,
            0,
            0,
            92,
            68,
            70,
            79,
            81,
            86,
            76,
            18,
            73,
            86,
            39,
            76
           ],
           [
            false,
            false,
            false,
            false,
            false,
            false,
            true,
            true,
            false,
            false,
            false,
            false,
            false,
            false,
            false,
            false,
            false,
            false,
            false,
            false
           ],
           [
            null,
            null,
            null,
            null,
            null,
            null,
            null,
            null,
            null,
            null,
            null,
            null,
            null,
            null,
            null,
            null,
            null,
            null,
            null,
            null
           ],
           [
            39,
            63,
            81,
            42,
            88,
            20,
            17,
            10,
            94,
            46,
            55,
            51,
            94,
            71,
            100,
            35,
            86,
            83,
            20,
            89
           ],
           [
            3,
            4,
            40,
            7,
            19,
            4,
            3,
            1,
            22,
            6,
            4,
            6,
            39,
            28,
            21,
            4,
            40,
            5,
            2,
            28
           ],
           [
            9,
            20,
            40,
            2,
            34,
            3,
            1,
            0,
            27,
            6,
            1,
            6,
            21,
            34,
            31,
            0,
            22,
            18,
            2,
            37
           ],
           [
            5,
            1,
            9,
            6,
            13,
            2,
            3,
            3,
            5,
            1,
            1,
            6,
            4,
            2,
            13,
            2,
            5,
            5,
            2,
            4
           ],
           [
            23,
            40,
            108,
            30,
            92,
            23,
            13,
            6,
            74,
            19,
            12,
            34,
            94,
            83,
            89,
            20,
            83,
            57,
            14,
            100
           ]
          ]
         },
         "header": {
          "align": "center",
          "fill": {
           "color": "#C2D4FF"
          },
          "values": [
           "Students",
           "Predicted Grade",
           "Grade",
           "Predicted Dropout",
           "Dropout",
           "AVA Access",
           "Forum Post",
           "Forum Replies",
           "Forum Add Thread",
           "Forum Access"
          ]
         },
         "type": "table",
         "uid": "610bb4cc-115c-11e9-8377-9cf387cc124e"
        }
       ],
       "layout": {}
      },
      "text/html": [
       "<div id=\"24789ad2-50f1-4de1-ab1d-6b8d357037fd\" style=\"height: 525px; width: 100%;\" class=\"plotly-graph-div\"></div><script type=\"text/javascript\">require([\"plotly\"], function(Plotly) { window.PLOTLYENV=window.PLOTLYENV || {};window.PLOTLYENV.BASE_URL=\"https://plot.ly\";Plotly.newPlot(\"24789ad2-50f1-4de1-ab1d-6b8d357037fd\", [{\"cells\": {\"align\": [\"left\", \"center\"], \"fill\": {\"color\": \"#F5F8FF\"}, \"values\": [[\"ALANI\", \"ARIANA\", \"ATALIANE\", \"DANIELA\", \"DARTANHAN\", \"EZENILDO\", \"GECINALDO\", \"GISRAEL\", \"IACI\", \"ILKA\", \"IRTON\", \"JOVIANI\", \"KELLY\", \"LEANA\", \"LISLEY\", \"MARLUCIO\", \"PATRICK\", \"RAFAELA\", \"TAIRONI\", \"VALDECIL\"], [\"61 - 70\", \"71 - 80\", \"91 - 100\", \"61 - 70\", \"91 - 100\", \"0 - 60\", \"Dropout\", \"Dropout\", \"91 - 100\", \"61 - 70\", \"61 - 70\", \"71 - 80\", \"91 - 100\", \"81 - 90\", \"91 - 100\", \"0 - 60\", \"91 - 100\", \"81 - 90\", \"0 - 60\", \"91 - 100\"], [58, 75, 85, 60, 74, 42, 0, 0, 92, 68, 70, 79, 81, 86, 76, 18, 73, 86, 39, 76], [false, false, false, false, false, false, true, true, false, false, false, false, false, false, false, false, false, false, false, false], [null, null, null, null, null, null, null, null, null, null, null, null, null, null, null, null, null, null, null, null], [39, 63, 81, 42, 88, 20, 17, 10, 94, 46, 55, 51, 94, 71, 100, 35, 86, 83, 20, 89], [3, 4, 40, 7, 19, 4, 3, 1, 22, 6, 4, 6, 39, 28, 21, 4, 40, 5, 2, 28], [9, 20, 40, 2, 34, 3, 1, 0, 27, 6, 1, 6, 21, 34, 31, 0, 22, 18, 2, 37], [5, 1, 9, 6, 13, 2, 3, 3, 5, 1, 1, 6, 4, 2, 13, 2, 5, 5, 2, 4], [23, 40, 108, 30, 92, 23, 13, 6, 74, 19, 12, 34, 94, 83, 89, 20, 83, 57, 14, 100]]}, \"header\": {\"align\": \"center\", \"fill\": {\"color\": \"#C2D4FF\"}, \"values\": [\"Students\", \"Predicted Grade\", \"Grade\", \"Predicted Dropout\", \"Dropout\", \"AVA Access\", \"Forum Post\", \"Forum Replies\", \"Forum Add Thread\", \"Forum Access\"]}, \"type\": \"table\", \"uid\": \"6111b610-115c-11e9-897f-9cf387cc124e\"}], {}, {\"showLink\": true, \"linkText\": \"Export to plot.ly\"})});</script>"
      ],
      "text/vnd.plotly.v1+html": [
       "<div id=\"24789ad2-50f1-4de1-ab1d-6b8d357037fd\" style=\"height: 525px; width: 100%;\" class=\"plotly-graph-div\"></div><script type=\"text/javascript\">require([\"plotly\"], function(Plotly) { window.PLOTLYENV=window.PLOTLYENV || {};window.PLOTLYENV.BASE_URL=\"https://plot.ly\";Plotly.newPlot(\"24789ad2-50f1-4de1-ab1d-6b8d357037fd\", [{\"cells\": {\"align\": [\"left\", \"center\"], \"fill\": {\"color\": \"#F5F8FF\"}, \"values\": [[\"ALANI\", \"ARIANA\", \"ATALIANE\", \"DANIELA\", \"DARTANHAN\", \"EZENILDO\", \"GECINALDO\", \"GISRAEL\", \"IACI\", \"ILKA\", \"IRTON\", \"JOVIANI\", \"KELLY\", \"LEANA\", \"LISLEY\", \"MARLUCIO\", \"PATRICK\", \"RAFAELA\", \"TAIRONI\", \"VALDECIL\"], [\"61 - 70\", \"71 - 80\", \"91 - 100\", \"61 - 70\", \"91 - 100\", \"0 - 60\", \"Dropout\", \"Dropout\", \"91 - 100\", \"61 - 70\", \"61 - 70\", \"71 - 80\", \"91 - 100\", \"81 - 90\", \"91 - 100\", \"0 - 60\", \"91 - 100\", \"81 - 90\", \"0 - 60\", \"91 - 100\"], [58, 75, 85, 60, 74, 42, 0, 0, 92, 68, 70, 79, 81, 86, 76, 18, 73, 86, 39, 76], [false, false, false, false, false, false, true, true, false, false, false, false, false, false, false, false, false, false, false, false], [null, null, null, null, null, null, null, null, null, null, null, null, null, null, null, null, null, null, null, null], [39, 63, 81, 42, 88, 20, 17, 10, 94, 46, 55, 51, 94, 71, 100, 35, 86, 83, 20, 89], [3, 4, 40, 7, 19, 4, 3, 1, 22, 6, 4, 6, 39, 28, 21, 4, 40, 5, 2, 28], [9, 20, 40, 2, 34, 3, 1, 0, 27, 6, 1, 6, 21, 34, 31, 0, 22, 18, 2, 37], [5, 1, 9, 6, 13, 2, 3, 3, 5, 1, 1, 6, 4, 2, 13, 2, 5, 5, 2, 4], [23, 40, 108, 30, 92, 23, 13, 6, 74, 19, 12, 34, 94, 83, 89, 20, 83, 57, 14, 100]]}, \"header\": {\"align\": \"center\", \"fill\": {\"color\": \"#C2D4FF\"}, \"values\": [\"Students\", \"Predicted Grade\", \"Grade\", \"Predicted Dropout\", \"Dropout\", \"AVA Access\", \"Forum Post\", \"Forum Replies\", \"Forum Add Thread\", \"Forum Access\"]}, \"type\": \"table\", \"uid\": \"6111b610-115c-11e9-897f-9cf387cc124e\"}], {}, {\"showLink\": true, \"linkText\": \"Export to plot.ly\"})});</script>"
      ]
     },
     "metadata": {},
     "output_type": "display_data"
    },
    {
     "data": {
      "application/vnd.plotly.v1+json": {
       "data": [
        {
         "marker": {
          "color": "rgb(121,64,64)",
          "line": {
           "width": 2
          },
          "size": 12,
          "symbol": 1
         },
         "mode": "markers",
         "name": "ALANI",
         "text": [
          "ALANI"
         ],
         "type": "scatter",
         "uid": "619c098c-115c-11e9-b645-9cf387cc124e",
         "x": [
          39
         ],
         "y": [
          58
         ]
        },
        {
         "marker": {
          "color": "rgb(121,64,64)",
          "line": {
           "width": 2
          },
          "size": 12,
          "symbol": 1
         },
         "mode": "markers",
         "name": "ARIANA",
         "text": [
          "ARIANA"
         ],
         "type": "scatter",
         "uid": "619c0bba-115c-11e9-a3c1-9cf387cc124e",
         "x": [
          63
         ],
         "y": [
          75
         ]
        },
        {
         "marker": {
          "color": "rgb(0,0,204)",
          "line": {
           "width": 2
          },
          "size": 12,
          "symbol": 2
         },
         "mode": "markers",
         "name": "ATALIANE",
         "text": [
          "ATALIANE"
         ],
         "type": "scatter",
         "uid": "619c0ce8-115c-11e9-b1aa-9cf387cc124e",
         "x": [
          81
         ],
         "y": [
          85
         ]
        },
        {
         "marker": {
          "color": "rgb(121,64,64)",
          "line": {
           "width": 2
          },
          "size": 12,
          "symbol": 1
         },
         "mode": "markers",
         "name": "DANIELA",
         "text": [
          "DANIELA"
         ],
         "type": "scatter",
         "uid": "619c0df6-115c-11e9-adc0-9cf387cc124e",
         "x": [
          42
         ],
         "y": [
          60
         ]
        },
        {
         "marker": {
          "color": "rgb(0,0,204)",
          "line": {
           "width": 2
          },
          "size": 12,
          "symbol": 2
         },
         "mode": "markers",
         "name": "DARTANHAN",
         "text": [
          "DARTANHAN"
         ],
         "type": "scatter",
         "uid": "619c0ef0-115c-11e9-ab93-9cf387cc124e",
         "x": [
          88
         ],
         "y": [
          74
         ]
        },
        {
         "marker": {
          "color": "rgb(198, 218, 32)",
          "line": {
           "width": 2
          },
          "size": 12,
          "symbol": 0
         },
         "mode": "markers",
         "name": "EZENILDO",
         "text": [
          "EZENILDO"
         ],
         "type": "scatter",
         "uid": "619c0fe2-115c-11e9-ba82-9cf387cc124e",
         "x": [
          20
         ],
         "y": [
          42
         ]
        },
        {
         "marker": {
          "color": "rgb(198, 218, 32)",
          "line": {
           "width": 2
          },
          "size": 12,
          "symbol": 0
         },
         "mode": "markers",
         "name": "GECINALDO",
         "text": [
          "GECINALDO"
         ],
         "type": "scatter",
         "uid": "619c10da-115c-11e9-9f1a-9cf387cc124e",
         "x": [
          17
         ],
         "y": [
          0
         ]
        },
        {
         "marker": {
          "color": "rgb(198, 218, 32)",
          "line": {
           "width": 2
          },
          "size": 12,
          "symbol": 0
         },
         "mode": "markers",
         "name": "GISRAEL",
         "text": [
          "GISRAEL"
         ],
         "type": "scatter",
         "uid": "619c11ca-115c-11e9-b572-9cf387cc124e",
         "x": [
          10
         ],
         "y": [
          0
         ]
        },
        {
         "marker": {
          "color": "rgb(0,0,204)",
          "line": {
           "width": 2
          },
          "size": 12,
          "symbol": 2
         },
         "mode": "markers",
         "name": "IACI",
         "text": [
          "IACI"
         ],
         "type": "scatter",
         "uid": "619c12ba-115c-11e9-b22b-9cf387cc124e",
         "x": [
          94
         ],
         "y": [
          92
         ]
        },
        {
         "marker": {
          "color": "rgb(121,64,64)",
          "line": {
           "width": 2
          },
          "size": 12,
          "symbol": 1
         },
         "mode": "markers",
         "name": "ILKA",
         "text": [
          "ILKA"
         ],
         "type": "scatter",
         "uid": "619c13a8-115c-11e9-8419-9cf387cc124e",
         "x": [
          46
         ],
         "y": [
          68
         ]
        },
        {
         "marker": {
          "color": "rgb(121,64,64)",
          "line": {
           "width": 2
          },
          "size": 12,
          "symbol": 1
         },
         "mode": "markers",
         "name": "IRTON",
         "text": [
          "IRTON"
         ],
         "type": "scatter",
         "uid": "619c149a-115c-11e9-83ba-9cf387cc124e",
         "x": [
          55
         ],
         "y": [
          70
         ]
        },
        {
         "marker": {
          "color": "rgb(121,64,64)",
          "line": {
           "width": 2
          },
          "size": 12,
          "symbol": 1
         },
         "mode": "markers",
         "name": "JOVIANI",
         "text": [
          "JOVIANI"
         ],
         "type": "scatter",
         "uid": "619c1580-115c-11e9-bfee-9cf387cc124e",
         "x": [
          51
         ],
         "y": [
          79
         ]
        },
        {
         "marker": {
          "color": "rgb(0,0,204)",
          "line": {
           "width": 2
          },
          "size": 12,
          "symbol": 2
         },
         "mode": "markers",
         "name": "KELLY",
         "text": [
          "KELLY"
         ],
         "type": "scatter",
         "uid": "619c1670-115c-11e9-8f40-9cf387cc124e",
         "x": [
          94
         ],
         "y": [
          81
         ]
        },
        {
         "marker": {
          "color": "rgb(0,0,204)",
          "line": {
           "width": 2
          },
          "size": 12,
          "symbol": 2
         },
         "mode": "markers",
         "name": "LEANA",
         "text": [
          "LEANA"
         ],
         "type": "scatter",
         "uid": "619c1762-115c-11e9-8e0a-9cf387cc124e",
         "x": [
          71
         ],
         "y": [
          86
         ]
        },
        {
         "marker": {
          "color": "rgb(0,0,204)",
          "line": {
           "width": 2
          },
          "size": 12,
          "symbol": 2
         },
         "mode": "markers",
         "name": "LISLEY",
         "text": [
          "LISLEY"
         ],
         "type": "scatter",
         "uid": "619c1850-115c-11e9-9533-9cf387cc124e",
         "x": [
          100
         ],
         "y": [
          76
         ]
        },
        {
         "marker": {
          "color": "rgb(198, 218, 32)",
          "line": {
           "width": 2
          },
          "size": 12,
          "symbol": 0
         },
         "mode": "markers",
         "name": "MARLUCIO",
         "text": [
          "MARLUCIO"
         ],
         "type": "scatter",
         "uid": "619c1940-115c-11e9-bae2-9cf387cc124e",
         "x": [
          35
         ],
         "y": [
          18
         ]
        },
        {
         "marker": {
          "color": "rgb(0,0,204)",
          "line": {
           "width": 2
          },
          "size": 12,
          "symbol": 2
         },
         "mode": "markers",
         "name": "PATRICK",
         "text": [
          "PATRICK"
         ],
         "type": "scatter",
         "uid": "619c1a30-115c-11e9-a97f-9cf387cc124e",
         "x": [
          86
         ],
         "y": [
          73
         ]
        },
        {
         "marker": {
          "color": "rgb(0,0,204)",
          "line": {
           "width": 2
          },
          "size": 12,
          "symbol": 2
         },
         "mode": "markers",
         "name": "RAFAELA",
         "text": [
          "RAFAELA"
         ],
         "type": "scatter",
         "uid": "619c1b1e-115c-11e9-8778-9cf387cc124e",
         "x": [
          83
         ],
         "y": [
          86
         ]
        },
        {
         "marker": {
          "color": "rgb(198, 218, 32)",
          "line": {
           "width": 2
          },
          "size": 12,
          "symbol": 0
         },
         "mode": "markers",
         "name": "TAIRONI",
         "text": [
          "TAIRONI"
         ],
         "type": "scatter",
         "uid": "619c1c06-115c-11e9-af3b-9cf387cc124e",
         "x": [
          20
         ],
         "y": [
          39
         ]
        },
        {
         "marker": {
          "color": "rgb(0,0,204)",
          "line": {
           "width": 2
          },
          "size": 12,
          "symbol": 2
         },
         "mode": "markers",
         "name": "VALDECIL",
         "text": [
          "VALDECIL"
         ],
         "type": "scatter",
         "uid": "619c1d50-115c-11e9-a68d-9cf387cc124e",
         "x": [
          89
         ],
         "y": [
          76
         ]
        }
       ],
       "layout": {
        "hovermode": "closest",
        "showlegend": true,
        "title": "Students' grades variation versus VLE' access",
        "xaxis": {
         "autorange": true,
         "showline": true,
         "title": "AVA Access",
         "titlefont": {
          "color": "rgb(180,180,180)"
         },
         "zeroline": false
        },
        "yaxis": {
         "autorange": false,
         "fixedrange": true,
         "range": [
          0,
          102
         ],
         "rangemode": "normal",
         "showline": true,
         "title": "Grade",
         "titlefont": {
          "color": "rgb(180,180,180)"
         }
        }
       }
      },
      "text/html": [
       "<div id=\"e1bf36bb-23c8-4b1c-952a-f37373dd208b\" style=\"height: 525px; width: 100%;\" class=\"plotly-graph-div\"></div><script type=\"text/javascript\">require([\"plotly\"], function(Plotly) { window.PLOTLYENV=window.PLOTLYENV || {};window.PLOTLYENV.BASE_URL=\"https://plot.ly\";\n",
       "        Plotly.plot(\n",
       "            'e1bf36bb-23c8-4b1c-952a-f37373dd208b',\n",
       "            [{\"marker\": {\"color\": \"rgb(121,64,64)\", \"line\": {\"width\": 2}, \"size\": 12, \"symbol\": 1}, \"mode\": \"markers\", \"name\": \"ALANI\", \"text\": [\"ALANI\"], \"x\": [39], \"y\": [58], \"type\": \"scatter\", \"uid\": \"619c098c-115c-11e9-b645-9cf387cc124e\"}, {\"marker\": {\"color\": \"rgb(121,64,64)\", \"line\": {\"width\": 2}, \"size\": 12, \"symbol\": 1}, \"mode\": \"markers\", \"name\": \"ARIANA\", \"text\": [\"ARIANA\"], \"x\": [63], \"y\": [75], \"type\": \"scatter\", \"uid\": \"619c0bba-115c-11e9-a3c1-9cf387cc124e\"}, {\"marker\": {\"color\": \"rgb(0,0,204)\", \"line\": {\"width\": 2}, \"size\": 12, \"symbol\": 2}, \"mode\": \"markers\", \"name\": \"ATALIANE\", \"text\": [\"ATALIANE\"], \"x\": [81], \"y\": [85], \"type\": \"scatter\", \"uid\": \"619c0ce8-115c-11e9-b1aa-9cf387cc124e\"}, {\"marker\": {\"color\": \"rgb(121,64,64)\", \"line\": {\"width\": 2}, \"size\": 12, \"symbol\": 1}, \"mode\": \"markers\", \"name\": \"DANIELA\", \"text\": [\"DANIELA\"], \"x\": [42], \"y\": [60], \"type\": \"scatter\", \"uid\": \"619c0df6-115c-11e9-adc0-9cf387cc124e\"}, {\"marker\": {\"color\": \"rgb(0,0,204)\", \"line\": {\"width\": 2}, \"size\": 12, \"symbol\": 2}, \"mode\": \"markers\", \"name\": \"DARTANHAN\", \"text\": [\"DARTANHAN\"], \"x\": [88], \"y\": [74], \"type\": \"scatter\", \"uid\": \"619c0ef0-115c-11e9-ab93-9cf387cc124e\"}, {\"marker\": {\"color\": \"rgb(198, 218, 32)\", \"line\": {\"width\": 2}, \"size\": 12, \"symbol\": 0}, \"mode\": \"markers\", \"name\": \"EZENILDO\", \"text\": [\"EZENILDO\"], \"x\": [20], \"y\": [42], \"type\": \"scatter\", \"uid\": \"619c0fe2-115c-11e9-ba82-9cf387cc124e\"}, {\"marker\": {\"color\": \"rgb(198, 218, 32)\", \"line\": {\"width\": 2}, \"size\": 12, \"symbol\": 0}, \"mode\": \"markers\", \"name\": \"GECINALDO\", \"text\": [\"GECINALDO\"], \"x\": [17], \"y\": [0], \"type\": \"scatter\", \"uid\": \"619c10da-115c-11e9-9f1a-9cf387cc124e\"}, {\"marker\": {\"color\": \"rgb(198, 218, 32)\", \"line\": {\"width\": 2}, \"size\": 12, \"symbol\": 0}, \"mode\": \"markers\", \"name\": \"GISRAEL\", \"text\": [\"GISRAEL\"], \"x\": [10], \"y\": [0], \"type\": \"scatter\", \"uid\": \"619c11ca-115c-11e9-b572-9cf387cc124e\"}, {\"marker\": {\"color\": \"rgb(0,0,204)\", \"line\": {\"width\": 2}, \"size\": 12, \"symbol\": 2}, \"mode\": \"markers\", \"name\": \"IACI\", \"text\": [\"IACI\"], \"x\": [94], \"y\": [92], \"type\": \"scatter\", \"uid\": \"619c12ba-115c-11e9-b22b-9cf387cc124e\"}, {\"marker\": {\"color\": \"rgb(121,64,64)\", \"line\": {\"width\": 2}, \"size\": 12, \"symbol\": 1}, \"mode\": \"markers\", \"name\": \"ILKA\", \"text\": [\"ILKA\"], \"x\": [46], \"y\": [68], \"type\": \"scatter\", \"uid\": \"619c13a8-115c-11e9-8419-9cf387cc124e\"}, {\"marker\": {\"color\": \"rgb(121,64,64)\", \"line\": {\"width\": 2}, \"size\": 12, \"symbol\": 1}, \"mode\": \"markers\", \"name\": \"IRTON\", \"text\": [\"IRTON\"], \"x\": [55], \"y\": [70], \"type\": \"scatter\", \"uid\": \"619c149a-115c-11e9-83ba-9cf387cc124e\"}, {\"marker\": {\"color\": \"rgb(121,64,64)\", \"line\": {\"width\": 2}, \"size\": 12, \"symbol\": 1}, \"mode\": \"markers\", \"name\": \"JOVIANI\", \"text\": [\"JOVIANI\"], \"x\": [51], \"y\": [79], \"type\": \"scatter\", \"uid\": \"619c1580-115c-11e9-bfee-9cf387cc124e\"}, {\"marker\": {\"color\": \"rgb(0,0,204)\", \"line\": {\"width\": 2}, \"size\": 12, \"symbol\": 2}, \"mode\": \"markers\", \"name\": \"KELLY\", \"text\": [\"KELLY\"], \"x\": [94], \"y\": [81], \"type\": \"scatter\", \"uid\": \"619c1670-115c-11e9-8f40-9cf387cc124e\"}, {\"marker\": {\"color\": \"rgb(0,0,204)\", \"line\": {\"width\": 2}, \"size\": 12, \"symbol\": 2}, \"mode\": \"markers\", \"name\": \"LEANA\", \"text\": [\"LEANA\"], \"x\": [71], \"y\": [86], \"type\": \"scatter\", \"uid\": \"619c1762-115c-11e9-8e0a-9cf387cc124e\"}, {\"marker\": {\"color\": \"rgb(0,0,204)\", \"line\": {\"width\": 2}, \"size\": 12, \"symbol\": 2}, \"mode\": \"markers\", \"name\": \"LISLEY\", \"text\": [\"LISLEY\"], \"x\": [100], \"y\": [76], \"type\": \"scatter\", \"uid\": \"619c1850-115c-11e9-9533-9cf387cc124e\"}, {\"marker\": {\"color\": \"rgb(198, 218, 32)\", \"line\": {\"width\": 2}, \"size\": 12, \"symbol\": 0}, \"mode\": \"markers\", \"name\": \"MARLUCIO\", \"text\": [\"MARLUCIO\"], \"x\": [35], \"y\": [18], \"type\": \"scatter\", \"uid\": \"619c1940-115c-11e9-bae2-9cf387cc124e\"}, {\"marker\": {\"color\": \"rgb(0,0,204)\", \"line\": {\"width\": 2}, \"size\": 12, \"symbol\": 2}, \"mode\": \"markers\", \"name\": \"PATRICK\", \"text\": [\"PATRICK\"], \"x\": [86], \"y\": [73], \"type\": \"scatter\", \"uid\": \"619c1a30-115c-11e9-a97f-9cf387cc124e\"}, {\"marker\": {\"color\": \"rgb(0,0,204)\", \"line\": {\"width\": 2}, \"size\": 12, \"symbol\": 2}, \"mode\": \"markers\", \"name\": \"RAFAELA\", \"text\": [\"RAFAELA\"], \"x\": [83], \"y\": [86], \"type\": \"scatter\", \"uid\": \"619c1b1e-115c-11e9-8778-9cf387cc124e\"}, {\"marker\": {\"color\": \"rgb(198, 218, 32)\", \"line\": {\"width\": 2}, \"size\": 12, \"symbol\": 0}, \"mode\": \"markers\", \"name\": \"TAIRONI\", \"text\": [\"TAIRONI\"], \"x\": [20], \"y\": [39], \"type\": \"scatter\", \"uid\": \"619c1c06-115c-11e9-af3b-9cf387cc124e\"}, {\"marker\": {\"color\": \"rgb(0,0,204)\", \"line\": {\"width\": 2}, \"size\": 12, \"symbol\": 2}, \"mode\": \"markers\", \"name\": \"VALDECIL\", \"text\": [\"VALDECIL\"], \"x\": [89], \"y\": [76], \"type\": \"scatter\", \"uid\": \"619c1d50-115c-11e9-a68d-9cf387cc124e\"}],\n",
       "            {\"hovermode\": \"closest\", \"showlegend\": true, \"title\": \"Students' grades variation versus VLE' access\", \"xaxis\": {\"autorange\": true, \"showline\": true, \"title\": \"AVA Access\", \"titlefont\": {\"color\": \"rgb(180,180,180)\"}, \"zeroline\": false}, \"yaxis\": {\"autorange\": false, \"fixedrange\": true, \"range\": [0, 102], \"rangemode\": \"normal\", \"showline\": true, \"title\": \"Grade\", \"titlefont\": {\"color\": \"rgb(180,180,180)\"}}},\n",
       "            {\"showLink\": true, \"linkText\": \"Export to plot.ly\"}\n",
       "        ).then(function () {return Plotly.addFrames('e1bf36bb-23c8-4b1c-952a-f37373dd208b',{});}).then(function(){Plotly.animate('e1bf36bb-23c8-4b1c-952a-f37373dd208b');})\n",
       "        });</script>"
      ],
      "text/vnd.plotly.v1+html": [
       "<div id=\"e1bf36bb-23c8-4b1c-952a-f37373dd208b\" style=\"height: 525px; width: 100%;\" class=\"plotly-graph-div\"></div><script type=\"text/javascript\">require([\"plotly\"], function(Plotly) { window.PLOTLYENV=window.PLOTLYENV || {};window.PLOTLYENV.BASE_URL=\"https://plot.ly\";\n",
       "        Plotly.plot(\n",
       "            'e1bf36bb-23c8-4b1c-952a-f37373dd208b',\n",
       "            [{\"marker\": {\"color\": \"rgb(121,64,64)\", \"line\": {\"width\": 2}, \"size\": 12, \"symbol\": 1}, \"mode\": \"markers\", \"name\": \"ALANI\", \"text\": [\"ALANI\"], \"x\": [39], \"y\": [58], \"type\": \"scatter\", \"uid\": \"619c098c-115c-11e9-b645-9cf387cc124e\"}, {\"marker\": {\"color\": \"rgb(121,64,64)\", \"line\": {\"width\": 2}, \"size\": 12, \"symbol\": 1}, \"mode\": \"markers\", \"name\": \"ARIANA\", \"text\": [\"ARIANA\"], \"x\": [63], \"y\": [75], \"type\": \"scatter\", \"uid\": \"619c0bba-115c-11e9-a3c1-9cf387cc124e\"}, {\"marker\": {\"color\": \"rgb(0,0,204)\", \"line\": {\"width\": 2}, \"size\": 12, \"symbol\": 2}, \"mode\": \"markers\", \"name\": \"ATALIANE\", \"text\": [\"ATALIANE\"], \"x\": [81], \"y\": [85], \"type\": \"scatter\", \"uid\": \"619c0ce8-115c-11e9-b1aa-9cf387cc124e\"}, {\"marker\": {\"color\": \"rgb(121,64,64)\", \"line\": {\"width\": 2}, \"size\": 12, \"symbol\": 1}, \"mode\": \"markers\", \"name\": \"DANIELA\", \"text\": [\"DANIELA\"], \"x\": [42], \"y\": [60], \"type\": \"scatter\", \"uid\": \"619c0df6-115c-11e9-adc0-9cf387cc124e\"}, {\"marker\": {\"color\": \"rgb(0,0,204)\", \"line\": {\"width\": 2}, \"size\": 12, \"symbol\": 2}, \"mode\": \"markers\", \"name\": \"DARTANHAN\", \"text\": [\"DARTANHAN\"], \"x\": [88], \"y\": [74], \"type\": \"scatter\", \"uid\": \"619c0ef0-115c-11e9-ab93-9cf387cc124e\"}, {\"marker\": {\"color\": \"rgb(198, 218, 32)\", \"line\": {\"width\": 2}, \"size\": 12, \"symbol\": 0}, \"mode\": \"markers\", \"name\": \"EZENILDO\", \"text\": [\"EZENILDO\"], \"x\": [20], \"y\": [42], \"type\": \"scatter\", \"uid\": \"619c0fe2-115c-11e9-ba82-9cf387cc124e\"}, {\"marker\": {\"color\": \"rgb(198, 218, 32)\", \"line\": {\"width\": 2}, \"size\": 12, \"symbol\": 0}, \"mode\": \"markers\", \"name\": \"GECINALDO\", \"text\": [\"GECINALDO\"], \"x\": [17], \"y\": [0], \"type\": \"scatter\", \"uid\": \"619c10da-115c-11e9-9f1a-9cf387cc124e\"}, {\"marker\": {\"color\": \"rgb(198, 218, 32)\", \"line\": {\"width\": 2}, \"size\": 12, \"symbol\": 0}, \"mode\": \"markers\", \"name\": \"GISRAEL\", \"text\": [\"GISRAEL\"], \"x\": [10], \"y\": [0], \"type\": \"scatter\", \"uid\": \"619c11ca-115c-11e9-b572-9cf387cc124e\"}, {\"marker\": {\"color\": \"rgb(0,0,204)\", \"line\": {\"width\": 2}, \"size\": 12, \"symbol\": 2}, \"mode\": \"markers\", \"name\": \"IACI\", \"text\": [\"IACI\"], \"x\": [94], \"y\": [92], \"type\": \"scatter\", \"uid\": \"619c12ba-115c-11e9-b22b-9cf387cc124e\"}, {\"marker\": {\"color\": \"rgb(121,64,64)\", \"line\": {\"width\": 2}, \"size\": 12, \"symbol\": 1}, \"mode\": \"markers\", \"name\": \"ILKA\", \"text\": [\"ILKA\"], \"x\": [46], \"y\": [68], \"type\": \"scatter\", \"uid\": \"619c13a8-115c-11e9-8419-9cf387cc124e\"}, {\"marker\": {\"color\": \"rgb(121,64,64)\", \"line\": {\"width\": 2}, \"size\": 12, \"symbol\": 1}, \"mode\": \"markers\", \"name\": \"IRTON\", \"text\": [\"IRTON\"], \"x\": [55], \"y\": [70], \"type\": \"scatter\", \"uid\": \"619c149a-115c-11e9-83ba-9cf387cc124e\"}, {\"marker\": {\"color\": \"rgb(121,64,64)\", \"line\": {\"width\": 2}, \"size\": 12, \"symbol\": 1}, \"mode\": \"markers\", \"name\": \"JOVIANI\", \"text\": [\"JOVIANI\"], \"x\": [51], \"y\": [79], \"type\": \"scatter\", \"uid\": \"619c1580-115c-11e9-bfee-9cf387cc124e\"}, {\"marker\": {\"color\": \"rgb(0,0,204)\", \"line\": {\"width\": 2}, \"size\": 12, \"symbol\": 2}, \"mode\": \"markers\", \"name\": \"KELLY\", \"text\": [\"KELLY\"], \"x\": [94], \"y\": [81], \"type\": \"scatter\", \"uid\": \"619c1670-115c-11e9-8f40-9cf387cc124e\"}, {\"marker\": {\"color\": \"rgb(0,0,204)\", \"line\": {\"width\": 2}, \"size\": 12, \"symbol\": 2}, \"mode\": \"markers\", \"name\": \"LEANA\", \"text\": [\"LEANA\"], \"x\": [71], \"y\": [86], \"type\": \"scatter\", \"uid\": \"619c1762-115c-11e9-8e0a-9cf387cc124e\"}, {\"marker\": {\"color\": \"rgb(0,0,204)\", \"line\": {\"width\": 2}, \"size\": 12, \"symbol\": 2}, \"mode\": \"markers\", \"name\": \"LISLEY\", \"text\": [\"LISLEY\"], \"x\": [100], \"y\": [76], \"type\": \"scatter\", \"uid\": \"619c1850-115c-11e9-9533-9cf387cc124e\"}, {\"marker\": {\"color\": \"rgb(198, 218, 32)\", \"line\": {\"width\": 2}, \"size\": 12, \"symbol\": 0}, \"mode\": \"markers\", \"name\": \"MARLUCIO\", \"text\": [\"MARLUCIO\"], \"x\": [35], \"y\": [18], \"type\": \"scatter\", \"uid\": \"619c1940-115c-11e9-bae2-9cf387cc124e\"}, {\"marker\": {\"color\": \"rgb(0,0,204)\", \"line\": {\"width\": 2}, \"size\": 12, \"symbol\": 2}, \"mode\": \"markers\", \"name\": \"PATRICK\", \"text\": [\"PATRICK\"], \"x\": [86], \"y\": [73], \"type\": \"scatter\", \"uid\": \"619c1a30-115c-11e9-a97f-9cf387cc124e\"}, {\"marker\": {\"color\": \"rgb(0,0,204)\", \"line\": {\"width\": 2}, \"size\": 12, \"symbol\": 2}, \"mode\": \"markers\", \"name\": \"RAFAELA\", \"text\": [\"RAFAELA\"], \"x\": [83], \"y\": [86], \"type\": \"scatter\", \"uid\": \"619c1b1e-115c-11e9-8778-9cf387cc124e\"}, {\"marker\": {\"color\": \"rgb(198, 218, 32)\", \"line\": {\"width\": 2}, \"size\": 12, \"symbol\": 0}, \"mode\": \"markers\", \"name\": \"TAIRONI\", \"text\": [\"TAIRONI\"], \"x\": [20], \"y\": [39], \"type\": \"scatter\", \"uid\": \"619c1c06-115c-11e9-af3b-9cf387cc124e\"}, {\"marker\": {\"color\": \"rgb(0,0,204)\", \"line\": {\"width\": 2}, \"size\": 12, \"symbol\": 2}, \"mode\": \"markers\", \"name\": \"VALDECIL\", \"text\": [\"VALDECIL\"], \"x\": [89], \"y\": [76], \"type\": \"scatter\", \"uid\": \"619c1d50-115c-11e9-a68d-9cf387cc124e\"}],\n",
       "            {\"hovermode\": \"closest\", \"showlegend\": true, \"title\": \"Students' grades variation versus VLE' access\", \"xaxis\": {\"autorange\": true, \"showline\": true, \"title\": \"AVA Access\", \"titlefont\": {\"color\": \"rgb(180,180,180)\"}, \"zeroline\": false}, \"yaxis\": {\"autorange\": false, \"fixedrange\": true, \"range\": [0, 102], \"rangemode\": \"normal\", \"showline\": true, \"title\": \"Grade\", \"titlefont\": {\"color\": \"rgb(180,180,180)\"}}},\n",
       "            {\"showLink\": true, \"linkText\": \"Export to plot.ly\"}\n",
       "        ).then(function () {return Plotly.addFrames('e1bf36bb-23c8-4b1c-952a-f37373dd208b',{});}).then(function(){Plotly.animate('e1bf36bb-23c8-4b1c-952a-f37373dd208b');})\n",
       "        });</script>"
      ]
     },
     "metadata": {},
     "output_type": "display_data"
    },
    {
     "data": {
      "application/vnd.plotly.v1+json": {
       "data": [
        {
         "boxmean": true,
         "boxpoints": "all",
         "marker": {
          "color": "rgb(198, 218, 32)",
          "line": {
           "width": 1
          }
         },
         "name": "Cluster 1",
         "text": [
          "GISRAEL",
          "GECINALDO",
          "MARLUCIO",
          "TAIRONI",
          "EZENILDO"
         ],
         "type": "box",
         "uid": "61aad23a-115c-11e9-9b61-9cf387cc124e",
         "y": [
          0,
          0,
          18,
          39,
          42
         ]
        },
        {
         "boxmean": true,
         "boxpoints": "all",
         "marker": {
          "color": "rgb(121,64,64)",
          "line": {
           "width": 1
          }
         },
         "name": "Cluster 2",
         "text": [
          "ALANI",
          "DANIELA",
          "ILKA",
          "IRTON",
          "ARIANA",
          "JOVIANI"
         ],
         "type": "box",
         "uid": "61aad534-115c-11e9-b16a-9cf387cc124e",
         "y": [
          58,
          60,
          68,
          70,
          75,
          79
         ]
        },
        {
         "boxmean": true,
         "boxpoints": "all",
         "marker": {
          "color": "rgb(0,0,204)",
          "line": {
           "width": 1
          }
         },
         "name": "Cluster 3",
         "text": [
          "PATRICK",
          "DARTANHAN",
          "LISLEY",
          "VALDECIL",
          "KELLY",
          "ATALIANE",
          "LEANA",
          "RAFAELA",
          "IACI"
         ],
         "type": "box",
         "uid": "61aad6ba-115c-11e9-a9dd-9cf387cc124e",
         "y": [
          73,
          74,
          76,
          76,
          81,
          85,
          86,
          86,
          92
         ]
        }
       ],
       "layout": {
        "showlegend": true,
        "title": "Students' grades variation by cluster",
        "xaxis": {
         "title": "",
         "titlefont": {
          "color": "rgb(180,180,180)"
         }
        },
        "yaxis": {
         "fixedrange": false,
         "range": [
          -1,
          102
         ],
         "rangemode": "normal",
         "title": "Grades",
         "titlefont": {
          "color": "rgb(180,180,180)"
         },
         "zeroline": false
        }
       }
      },
      "text/html": [
       "<div id=\"98014d64-2306-41d5-9303-66638c53637d\" style=\"height: 525px; width: 100%;\" class=\"plotly-graph-div\"></div><script type=\"text/javascript\">require([\"plotly\"], function(Plotly) { window.PLOTLYENV=window.PLOTLYENV || {};window.PLOTLYENV.BASE_URL=\"https://plot.ly\";\n",
       "        Plotly.plot(\n",
       "            '98014d64-2306-41d5-9303-66638c53637d',\n",
       "            [{\"boxmean\": true, \"boxpoints\": \"all\", \"marker\": {\"color\": \"rgb(198, 218, 32)\", \"line\": {\"width\": 1}}, \"name\": \"Cluster 1\", \"text\": [\"GISRAEL\", \"GECINALDO\", \"MARLUCIO\", \"TAIRONI\", \"EZENILDO\"], \"y\": [0, 0, 18, 39, 42], \"type\": \"box\", \"uid\": \"61aad23a-115c-11e9-9b61-9cf387cc124e\"}, {\"boxmean\": true, \"boxpoints\": \"all\", \"marker\": {\"color\": \"rgb(121,64,64)\", \"line\": {\"width\": 1}}, \"name\": \"Cluster 2\", \"text\": [\"ALANI\", \"DANIELA\", \"ILKA\", \"IRTON\", \"ARIANA\", \"JOVIANI\"], \"y\": [58, 60, 68, 70, 75, 79], \"type\": \"box\", \"uid\": \"61aad534-115c-11e9-b16a-9cf387cc124e\"}, {\"boxmean\": true, \"boxpoints\": \"all\", \"marker\": {\"color\": \"rgb(0,0,204)\", \"line\": {\"width\": 1}}, \"name\": \"Cluster 3\", \"text\": [\"PATRICK\", \"DARTANHAN\", \"LISLEY\", \"VALDECIL\", \"KELLY\", \"ATALIANE\", \"LEANA\", \"RAFAELA\", \"IACI\"], \"y\": [73, 74, 76, 76, 81, 85, 86, 86, 92], \"type\": \"box\", \"uid\": \"61aad6ba-115c-11e9-a9dd-9cf387cc124e\"}],\n",
       "            {\"showlegend\": true, \"title\": \"Students' grades variation by cluster\", \"xaxis\": {\"title\": \"\", \"titlefont\": {\"color\": \"rgb(180,180,180)\"}}, \"yaxis\": {\"fixedrange\": false, \"range\": [-1, 102], \"rangemode\": \"normal\", \"title\": \"Grades\", \"titlefont\": {\"color\": \"rgb(180,180,180)\"}, \"zeroline\": false}},\n",
       "            {\"showLink\": true, \"linkText\": \"Export to plot.ly\"}\n",
       "        ).then(function () {return Plotly.addFrames('98014d64-2306-41d5-9303-66638c53637d',{});}).then(function(){Plotly.animate('98014d64-2306-41d5-9303-66638c53637d');})\n",
       "        });</script>"
      ],
      "text/vnd.plotly.v1+html": [
       "<div id=\"98014d64-2306-41d5-9303-66638c53637d\" style=\"height: 525px; width: 100%;\" class=\"plotly-graph-div\"></div><script type=\"text/javascript\">require([\"plotly\"], function(Plotly) { window.PLOTLYENV=window.PLOTLYENV || {};window.PLOTLYENV.BASE_URL=\"https://plot.ly\";\n",
       "        Plotly.plot(\n",
       "            '98014d64-2306-41d5-9303-66638c53637d',\n",
       "            [{\"boxmean\": true, \"boxpoints\": \"all\", \"marker\": {\"color\": \"rgb(198, 218, 32)\", \"line\": {\"width\": 1}}, \"name\": \"Cluster 1\", \"text\": [\"GISRAEL\", \"GECINALDO\", \"MARLUCIO\", \"TAIRONI\", \"EZENILDO\"], \"y\": [0, 0, 18, 39, 42], \"type\": \"box\", \"uid\": \"61aad23a-115c-11e9-9b61-9cf387cc124e\"}, {\"boxmean\": true, \"boxpoints\": \"all\", \"marker\": {\"color\": \"rgb(121,64,64)\", \"line\": {\"width\": 1}}, \"name\": \"Cluster 2\", \"text\": [\"ALANI\", \"DANIELA\", \"ILKA\", \"IRTON\", \"ARIANA\", \"JOVIANI\"], \"y\": [58, 60, 68, 70, 75, 79], \"type\": \"box\", \"uid\": \"61aad534-115c-11e9-b16a-9cf387cc124e\"}, {\"boxmean\": true, \"boxpoints\": \"all\", \"marker\": {\"color\": \"rgb(0,0,204)\", \"line\": {\"width\": 1}}, \"name\": \"Cluster 3\", \"text\": [\"PATRICK\", \"DARTANHAN\", \"LISLEY\", \"VALDECIL\", \"KELLY\", \"ATALIANE\", \"LEANA\", \"RAFAELA\", \"IACI\"], \"y\": [73, 74, 76, 76, 81, 85, 86, 86, 92], \"type\": \"box\", \"uid\": \"61aad6ba-115c-11e9-a9dd-9cf387cc124e\"}],\n",
       "            {\"showlegend\": true, \"title\": \"Students' grades variation by cluster\", \"xaxis\": {\"title\": \"\", \"titlefont\": {\"color\": \"rgb(180,180,180)\"}}, \"yaxis\": {\"fixedrange\": false, \"range\": [-1, 102], \"rangemode\": \"normal\", \"title\": \"Grades\", \"titlefont\": {\"color\": \"rgb(180,180,180)\"}, \"zeroline\": false}},\n",
       "            {\"showLink\": true, \"linkText\": \"Export to plot.ly\"}\n",
       "        ).then(function () {return Plotly.addFrames('98014d64-2306-41d5-9303-66638c53637d',{});}).then(function(){Plotly.animate('98014d64-2306-41d5-9303-66638c53637d');})\n",
       "        });</script>"
      ]
     },
     "metadata": {},
     "output_type": "display_data"
    },
    {
     "data": {
      "application/vnd.plotly.v1+json": {
       "data": [
        {
         "box": {
          "visible": true
         },
         "line": {
          "color": "rgb(198, 218, 32)"
         },
         "marker": {
          "line": {
           "width": 1
          }
         },
         "meanline": {
          "visible": true
         },
         "name": "Cluster 1",
         "points": "all",
         "text": [
          "GISRAEL",
          "GECINALDO",
          "MARLUCIO",
          "TAIRONI",
          "EZENILDO"
         ],
         "type": "violin",
         "uid": "61b72ac8-115c-11e9-ba63-9cf387cc124e",
         "x": [
          "Cluster 1",
          "Cluster 1",
          "Cluster 1",
          "Cluster 1",
          "Cluster 1"
         ],
         "y": [
          0,
          0,
          18,
          39,
          42
         ]
        },
        {
         "box": {
          "visible": true
         },
         "line": {
          "color": "rgb(121,64,64)"
         },
         "marker": {
          "line": {
           "width": 1
          }
         },
         "meanline": {
          "visible": true
         },
         "name": "Cluster 2",
         "points": "all",
         "text": [
          "ALANI",
          "DANIELA",
          "ILKA",
          "IRTON",
          "ARIANA",
          "JOVIANI"
         ],
         "type": "violin",
         "uid": "61b72d18-115c-11e9-acc8-9cf387cc124e",
         "x": [
          "Cluster 2",
          "Cluster 2",
          "Cluster 2",
          "Cluster 2",
          "Cluster 2",
          "Cluster 2"
         ],
         "y": [
          58,
          60,
          68,
          70,
          75,
          79
         ]
        },
        {
         "box": {
          "visible": true
         },
         "line": {
          "color": "rgb(0,0,204)"
         },
         "marker": {
          "line": {
           "width": 1
          }
         },
         "meanline": {
          "visible": true
         },
         "name": "Cluster 3",
         "points": "all",
         "text": [
          "PATRICK",
          "DARTANHAN",
          "LISLEY",
          "VALDECIL",
          "KELLY",
          "ATALIANE",
          "LEANA",
          "RAFAELA",
          "IACI"
         ],
         "type": "violin",
         "uid": "61b72eb0-115c-11e9-96f0-9cf387cc124e",
         "x": [
          "Cluster 3",
          "Cluster 3",
          "Cluster 3",
          "Cluster 3",
          "Cluster 3",
          "Cluster 3",
          "Cluster 3",
          "Cluster 3",
          "Cluster 3"
         ],
         "y": [
          73,
          74,
          76,
          76,
          81,
          85,
          86,
          86,
          92
         ]
        }
       ],
       "layout": {
        "hovermode": "closest",
        "showlegend": true,
        "title": "Students' grades variation by cluster",
        "xaxis": {
         "title": "",
         "titlefont": {
          "color": "rgb(180,180,180)"
         }
        },
        "yaxis": {
         "fixedrange": false,
         "range": [
          -15,
          102
         ],
         "rangemode": "normal",
         "title": "Grades",
         "titlefont": {
          "color": "rgb(180,180,180)"
         },
         "zeroline": false
        }
       }
      },
      "text/html": [
       "<div id=\"ecf34864-b7f3-4e08-8747-b05132f8895a\" style=\"height: 525px; width: 100%;\" class=\"plotly-graph-div\"></div><script type=\"text/javascript\">require([\"plotly\"], function(Plotly) { window.PLOTLYENV=window.PLOTLYENV || {};window.PLOTLYENV.BASE_URL=\"https://plot.ly\";\n",
       "        Plotly.plot(\n",
       "            'ecf34864-b7f3-4e08-8747-b05132f8895a',\n",
       "            [{\"box\": {\"visible\": true}, \"line\": {\"color\": \"rgb(198, 218, 32)\"}, \"marker\": {\"line\": {\"width\": 1}}, \"meanline\": {\"visible\": true}, \"name\": \"Cluster 1\", \"points\": \"all\", \"text\": [\"GISRAEL\", \"GECINALDO\", \"MARLUCIO\", \"TAIRONI\", \"EZENILDO\"], \"x\": [\"Cluster 1\", \"Cluster 1\", \"Cluster 1\", \"Cluster 1\", \"Cluster 1\"], \"y\": [0, 0, 18, 39, 42], \"type\": \"violin\", \"uid\": \"61b72ac8-115c-11e9-ba63-9cf387cc124e\"}, {\"box\": {\"visible\": true}, \"line\": {\"color\": \"rgb(121,64,64)\"}, \"marker\": {\"line\": {\"width\": 1}}, \"meanline\": {\"visible\": true}, \"name\": \"Cluster 2\", \"points\": \"all\", \"text\": [\"ALANI\", \"DANIELA\", \"ILKA\", \"IRTON\", \"ARIANA\", \"JOVIANI\"], \"x\": [\"Cluster 2\", \"Cluster 2\", \"Cluster 2\", \"Cluster 2\", \"Cluster 2\", \"Cluster 2\"], \"y\": [58, 60, 68, 70, 75, 79], \"type\": \"violin\", \"uid\": \"61b72d18-115c-11e9-acc8-9cf387cc124e\"}, {\"box\": {\"visible\": true}, \"line\": {\"color\": \"rgb(0,0,204)\"}, \"marker\": {\"line\": {\"width\": 1}}, \"meanline\": {\"visible\": true}, \"name\": \"Cluster 3\", \"points\": \"all\", \"text\": [\"PATRICK\", \"DARTANHAN\", \"LISLEY\", \"VALDECIL\", \"KELLY\", \"ATALIANE\", \"LEANA\", \"RAFAELA\", \"IACI\"], \"x\": [\"Cluster 3\", \"Cluster 3\", \"Cluster 3\", \"Cluster 3\", \"Cluster 3\", \"Cluster 3\", \"Cluster 3\", \"Cluster 3\", \"Cluster 3\"], \"y\": [73, 74, 76, 76, 81, 85, 86, 86, 92], \"type\": \"violin\", \"uid\": \"61b72eb0-115c-11e9-96f0-9cf387cc124e\"}],\n",
       "            {\"hovermode\": \"closest\", \"showlegend\": true, \"title\": \"Students' grades variation by cluster\", \"xaxis\": {\"title\": \"\", \"titlefont\": {\"color\": \"rgb(180,180,180)\"}}, \"yaxis\": {\"fixedrange\": false, \"range\": [-15, 102], \"rangemode\": \"normal\", \"title\": \"Grades\", \"titlefont\": {\"color\": \"rgb(180,180,180)\"}, \"zeroline\": false}},\n",
       "            {\"showLink\": true, \"linkText\": \"Export to plot.ly\"}\n",
       "        ).then(function () {return Plotly.addFrames('ecf34864-b7f3-4e08-8747-b05132f8895a',{});}).then(function(){Plotly.animate('ecf34864-b7f3-4e08-8747-b05132f8895a');})\n",
       "        });</script>"
      ],
      "text/vnd.plotly.v1+html": [
       "<div id=\"ecf34864-b7f3-4e08-8747-b05132f8895a\" style=\"height: 525px; width: 100%;\" class=\"plotly-graph-div\"></div><script type=\"text/javascript\">require([\"plotly\"], function(Plotly) { window.PLOTLYENV=window.PLOTLYENV || {};window.PLOTLYENV.BASE_URL=\"https://plot.ly\";\n",
       "        Plotly.plot(\n",
       "            'ecf34864-b7f3-4e08-8747-b05132f8895a',\n",
       "            [{\"box\": {\"visible\": true}, \"line\": {\"color\": \"rgb(198, 218, 32)\"}, \"marker\": {\"line\": {\"width\": 1}}, \"meanline\": {\"visible\": true}, \"name\": \"Cluster 1\", \"points\": \"all\", \"text\": [\"GISRAEL\", \"GECINALDO\", \"MARLUCIO\", \"TAIRONI\", \"EZENILDO\"], \"x\": [\"Cluster 1\", \"Cluster 1\", \"Cluster 1\", \"Cluster 1\", \"Cluster 1\"], \"y\": [0, 0, 18, 39, 42], \"type\": \"violin\", \"uid\": \"61b72ac8-115c-11e9-ba63-9cf387cc124e\"}, {\"box\": {\"visible\": true}, \"line\": {\"color\": \"rgb(121,64,64)\"}, \"marker\": {\"line\": {\"width\": 1}}, \"meanline\": {\"visible\": true}, \"name\": \"Cluster 2\", \"points\": \"all\", \"text\": [\"ALANI\", \"DANIELA\", \"ILKA\", \"IRTON\", \"ARIANA\", \"JOVIANI\"], \"x\": [\"Cluster 2\", \"Cluster 2\", \"Cluster 2\", \"Cluster 2\", \"Cluster 2\", \"Cluster 2\"], \"y\": [58, 60, 68, 70, 75, 79], \"type\": \"violin\", \"uid\": \"61b72d18-115c-11e9-acc8-9cf387cc124e\"}, {\"box\": {\"visible\": true}, \"line\": {\"color\": \"rgb(0,0,204)\"}, \"marker\": {\"line\": {\"width\": 1}}, \"meanline\": {\"visible\": true}, \"name\": \"Cluster 3\", \"points\": \"all\", \"text\": [\"PATRICK\", \"DARTANHAN\", \"LISLEY\", \"VALDECIL\", \"KELLY\", \"ATALIANE\", \"LEANA\", \"RAFAELA\", \"IACI\"], \"x\": [\"Cluster 3\", \"Cluster 3\", \"Cluster 3\", \"Cluster 3\", \"Cluster 3\", \"Cluster 3\", \"Cluster 3\", \"Cluster 3\", \"Cluster 3\"], \"y\": [73, 74, 76, 76, 81, 85, 86, 86, 92], \"type\": \"violin\", \"uid\": \"61b72eb0-115c-11e9-96f0-9cf387cc124e\"}],\n",
       "            {\"hovermode\": \"closest\", \"showlegend\": true, \"title\": \"Students' grades variation by cluster\", \"xaxis\": {\"title\": \"\", \"titlefont\": {\"color\": \"rgb(180,180,180)\"}}, \"yaxis\": {\"fixedrange\": false, \"range\": [-15, 102], \"rangemode\": \"normal\", \"title\": \"Grades\", \"titlefont\": {\"color\": \"rgb(180,180,180)\"}, \"zeroline\": false}},\n",
       "            {\"showLink\": true, \"linkText\": \"Export to plot.ly\"}\n",
       "        ).then(function () {return Plotly.addFrames('ecf34864-b7f3-4e08-8747-b05132f8895a',{});}).then(function(){Plotly.animate('ecf34864-b7f3-4e08-8747-b05132f8895a');})\n",
       "        });</script>"
      ]
     },
     "metadata": {},
     "output_type": "display_data"
    }
   ],
   "source": [
    "instance = V011()\n",
    "instance.generate_dataset(number_students = 20)\n",
    "# instance.print_all_graphs(\"pt\")\n",
    "instance.print_all_graphs(\"en\")"
   ]
  },
  {
   "cell_type": "code",
   "execution_count": null,
   "metadata": {},
   "outputs": [],
   "source": []
  }
 ],
 "metadata": {
  "kernelspec": {
   "display_name": "Python 3",
   "language": "python",
   "name": "python3"
  },
  "language_info": {
   "codemirror_mode": {
    "name": "ipython",
    "version": 3
   },
   "file_extension": ".py",
   "mimetype": "text/x-python",
   "name": "python",
   "nbconvert_exporter": "python",
   "pygments_lexer": "ipython3",
   "version": "3.6.5"
  }
 },
 "nbformat": 4,
 "nbformat_minor": 2
}
