{
 "cells": [
  {
   "cell_type": "markdown",
   "metadata": {},
   "source": [
    "### View 001 - Tarefas feitas pelos estudantes"
   ]
  },
  {
   "cell_type": "code",
   "execution_count": null,
   "metadata": {},
   "outputs": [],
   "source": [
    "run V001.py"
   ]
  },
  {
   "cell_type": "code",
   "execution_count": null,
   "metadata": {
    "scrolled": true
   },
   "outputs": [],
   "source": [
    "instance = V001()\n",
    "instance.generate_dataset(number_students = 20, number_assigns = 10)\n",
    "# instance.print_all_graphs(\"pt\")\n",
    "instance.print_all_graphs(\"en\")"
   ]
  },
  {
   "cell_type": "markdown",
   "metadata": {},
   "source": [
    "### View 002 - Acesso dos estudantes aos materiais (ex: videos, ebooks, etc.)"
   ]
  },
  {
   "cell_type": "code",
   "execution_count": null,
   "metadata": {
    "scrolled": true
   },
   "outputs": [],
   "source": [
    "run V002.py"
   ]
  },
  {
   "cell_type": "code",
   "execution_count": null,
   "metadata": {},
   "outputs": [],
   "source": [
    "instance = V002()\n",
    "instance.generate_dataset(number_students = 20)\n",
    "# instance.print_all_graphs(\"pt\")\n",
    "instance.print_all_graphs(\"en\")"
   ]
  },
  {
   "cell_type": "markdown",
   "metadata": {},
   "source": [
    "### View 003 - Interação dos estudantes no fórum (ex: postagens, acessos, etc.)"
   ]
  },
  {
   "cell_type": "code",
   "execution_count": null,
   "metadata": {
    "scrolled": true
   },
   "outputs": [],
   "source": [
    "run V003.py"
   ]
  },
  {
   "cell_type": "code",
   "execution_count": null,
   "metadata": {},
   "outputs": [],
   "source": [
    "instance = V003(20)\n",
    "instance.generate_dataset(number_students = 20)\n",
    "# instance.print_all_graphs(\"pt\")\n",
    "instance.print_all_graphs(\"en\")"
   ]
  },
  {
   "cell_type": "markdown",
   "metadata": {},
   "source": [
    "### View 004 - Tempo de permanencia dos estudantes nos vídeos"
   ]
  },
  {
   "cell_type": "code",
   "execution_count": null,
   "metadata": {
    "scrolled": true
   },
   "outputs": [],
   "source": [
    "run V004.py"
   ]
  },
  {
   "cell_type": "code",
   "execution_count": null,
   "metadata": {},
   "outputs": [],
   "source": [
    "instance = V004()\n",
    "instance.generate_dataset(number_students = 20)\n",
    "# instance.print_all_graphs(\"pt\")\n",
    "instance.print_all_graphs(\"en\")"
   ]
  },
  {
   "cell_type": "markdown",
   "metadata": {},
   "source": [
    "### View 005 - Correlação entre as notas e os logs de acesso/interação dos estudantes"
   ]
  },
  {
   "cell_type": "code",
   "execution_count": null,
   "metadata": {},
   "outputs": [],
   "source": [
    "run V005.py"
   ]
  },
  {
   "cell_type": "code",
   "execution_count": null,
   "metadata": {
    "scrolled": true
   },
   "outputs": [],
   "source": [
    "instance = V005()\n",
    "instance.generate_dataset(number_students = 60)\n",
    "# instance.print_all_graphs(\"pt\")\n",
    "instance.print_all_graphs(\"en\")"
   ]
  },
  {
   "cell_type": "markdown",
   "metadata": {},
   "source": [
    "### View 006 - Correlação entre o perfil (idade, cidade de origem, etc.) e os logs de acesso/interação dos estudantes"
   ]
  },
  {
   "cell_type": "code",
   "execution_count": null,
   "metadata": {
    "scrolled": true
   },
   "outputs": [],
   "source": [
    "run V006.py"
   ]
  },
  {
   "cell_type": "code",
   "execution_count": null,
   "metadata": {},
   "outputs": [],
   "source": [
    "instance = V006()\n",
    "instance.generate_dataset(number_students = 60)\n",
    "# instance.print_all_graphs(\"pt\")\n",
    "instance.print_all_graphs(\"en\")"
   ]
  },
  {
   "cell_type": "markdown",
   "metadata": {},
   "source": [
    "### View 007 - Predição das notas que os estudante terão ao final do curso e quais abandonarão"
   ]
  },
  {
   "cell_type": "code",
   "execution_count": null,
   "metadata": {},
   "outputs": [],
   "source": [
    "run eduvis/V007.py"
   ]
  },
  {
   "cell_type": "code",
   "execution_count": null,
   "metadata": {},
   "outputs": [],
   "source": []
  },
  {
   "cell_type": "markdown",
   "metadata": {},
   "source": [
    "### View 008 - Acesso dos estudantes no AVA por dia ou semana"
   ]
  },
  {
   "cell_type": "code",
   "execution_count": null,
   "metadata": {
    "scrolled": true
   },
   "outputs": [],
   "source": [
    "run V008.py"
   ]
  },
  {
   "cell_type": "code",
   "execution_count": null,
   "metadata": {
    "scrolled": false
   },
   "outputs": [],
   "source": [
    "instance = V008()\n",
    "instance.generate_dataset(number_students=35, number_weeks=7)\n",
    "# instance.print_all_graphs(\"pt\")\n",
    "instance.print_all_graphs(\"en\")"
   ]
  },
  {
   "cell_type": "markdown",
   "metadata": {},
   "source": [
    "### View 009 - Interação dos estudantes nos vídeos (play, pause, backward, forward)"
   ]
  },
  {
   "cell_type": "code",
   "execution_count": null,
   "metadata": {},
   "outputs": [],
   "source": [
    "run V009.py"
   ]
  },
  {
   "cell_type": "code",
   "execution_count": null,
   "metadata": {
    "scrolled": true
   },
   "outputs": [],
   "source": [
    "instance = V009()\n",
    "instance.generate_dataset(number_students = 20)\n",
    "# instance.print_all_graphs(\"pt\")\n",
    "instance.print_all_graphs(\"en\")"
   ]
  },
  {
   "cell_type": "markdown",
   "metadata": {},
   "source": [
    "### View 010 - Vídeos que os estudantes entenderam e não entenderam"
   ]
  },
  {
   "cell_type": "code",
   "execution_count": null,
   "metadata": {
    "scrolled": true
   },
   "outputs": [],
   "source": [
    "run V010.py"
   ]
  },
  {
   "cell_type": "code",
   "execution_count": null,
   "metadata": {
    "scrolled": false
   },
   "outputs": [],
   "source": [
    "instance = V010()\n",
    "instance.generate_dataset(number_students=35, number_video=10)\n",
    "# instance.print_all_graphs(\"pt\")\n",
    "instance.print_all_graphs(\"en\")"
   ]
  },
  {
   "cell_type": "markdown",
   "metadata": {},
   "source": [
    "### View 011 - Padrão de navegação dos estudantes no AVA"
   ]
  },
  {
   "cell_type": "code",
   "execution_count": null,
   "metadata": {},
   "outputs": [],
   "source": [
    "run V011.py"
   ]
  },
  {
   "cell_type": "code",
   "execution_count": null,
   "metadata": {},
   "outputs": [],
   "source": []
  },
  {
   "cell_type": "code",
   "execution_count": null,
   "metadata": {},
   "outputs": [],
   "source": []
  }
 ],
 "metadata": {
  "kernelspec": {
   "display_name": "Python 3",
   "language": "python",
   "name": "python3"
  },
  "language_info": {
   "codemirror_mode": {
    "name": "ipython",
    "version": 3
   },
   "file_extension": ".py",
   "mimetype": "text/x-python",
   "name": "python",
   "nbconvert_exporter": "python",
   "pygments_lexer": "ipython3",
   "version": "3.7.0"
  }
 },
 "nbformat": 4,
 "nbformat_minor": 2
}
