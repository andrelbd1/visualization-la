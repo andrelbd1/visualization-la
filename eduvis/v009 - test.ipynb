{
 "cells": [
  {
   "cell_type": "code",
   "execution_count": 2,
   "metadata": {},
   "outputs": [
    {
     "name": "stderr",
     "output_type": "stream",
     "text": [
      "/Library/Frameworks/Python.framework/Versions/3.6/lib/python3.6/importlib/_bootstrap.py:219: RuntimeWarning: numpy.dtype size changed, may indicate binary incompatibility. Expected 96, got 88\n",
      "  return f(*args, **kwds)\n"
     ]
    }
   ],
   "source": [
    "import dash\n",
    "import dash_core_components as dcc\n",
    "import dash_html_components as html\n",
    "import random\n",
    "\n",
    "import plotly\n",
    "import plotly.plotly as py\n",
    "import plotly.tools as tls\n",
    "import plotly.graph_objs as go\n",
    "\n",
    "import pandas as pd\n",
    "import numpy as np\n",
    "\n",
    "\n",
    "from plotly.graph_objs import Figure, Layout, Bar, Table, Heatmap, Scatter, Box, Violin\n",
    "from plotly.offline import init_notebook_mode, iplot\n",
    "\n",
    "\n",
    "from sklearn import metrics"
   ]
  },
  {
   "cell_type": "code",
   "execution_count": 3,
   "metadata": {},
   "outputs": [],
   "source": [
    "NUMBER_ACTIONS = 500\n",
    "VIDEO_SIZE = 30\n",
    "RAWDATASET = pd.DataFrame()\n",
    "PROCDATASET = pd.DataFrame()\n",
    "SEEKDATASET = pd.DataFrame()"
   ]
  },
  {
   "cell_type": "code",
   "execution_count": 4,
   "metadata": {},
   "outputs": [
    {
     "data": {
      "text/html": [
       "<script>requirejs.config({paths: { 'plotly': ['https://cdn.plot.ly/plotly-latest.min']},});if(!window.Plotly) {{require(['plotly'],function(plotly) {window.Plotly=plotly;});}}</script>"
      ],
      "text/vnd.plotly.v1+html": [
       "<script>requirejs.config({paths: { 'plotly': ['https://cdn.plot.ly/plotly-latest.min']},});if(!window.Plotly) {{require(['plotly'],function(plotly) {window.Plotly=plotly;});}}</script>"
      ]
     },
     "metadata": {},
     "output_type": "display_data"
    }
   ],
   "source": [
    "plotly.offline.init_notebook_mode(connected=True)"
   ]
  },
  {
   "cell_type": "code",
   "execution_count": 5,
   "metadata": {},
   "outputs": [],
   "source": [
    "names = pd.read_csv(\"names.csv\")\n",
    "RAWDATASET = pd.DataFrame(columns=[\"Students\",\"Action\",\"Age\"])\n",
    "PROCDATASET = pd.DataFrame(0, index= range(VIDEO_SIZE), columns=[\"Time\",\"Play\",\"Pause\",\"Seek from\",\"Seek to\"])\n",
    "for i in range(0,VIDEO_SIZE): PROCDATASET.loc[i,\"Time\"] = i\n",
    "\n",
    "k = 0\n"
   ]
  },
  {
   "cell_type": "code",
   "execution_count": 6,
   "metadata": {},
   "outputs": [],
   "source": [
    "rand_names = [names.group_name[np.random.randint(0,len(names.group_name)+1)] for n in range(0,NUMBER_ACTIONS)]\n",
    "rand_names.sort()"
   ]
  },
  {
   "cell_type": "code",
   "execution_count": 7,
   "metadata": {},
   "outputs": [
    {
     "name": "stdout",
     "output_type": "stream",
     "text": [
      "[ 0  1  2  3  4  5  6  7  8  9 10 11 12 13 14 15 16 17 18 19 20 21 22 23\n",
      " 24 25 26 27 28 29]\n",
      "[3, 1, 4, 2, 4, 5, 1, 5, 2, 4, 10, 2, 6, 6, 11, 8, 8, 5, 7, 5, 4, 11, 8, 4, 4, 4, 2, 4, 3, 0]\n"
     ]
    }
   ],
   "source": [
    "for i in range(0,NUMBER_ACTIONS//5):\n",
    "    playrequired = True\n",
    "    currentTime = 0\n",
    "\n",
    "    for j in range(0,5):\n",
    "        timeModifierFrom = int(currentTime + np.random.triangular(0, 0 ,VIDEO_SIZE - currentTime))\n",
    "        timeModifierTo = int(np.random.triangular(0,currentTime,VIDEO_SIZE))\n",
    "\n",
    "        RAWDATASET.loc[k,\"Students\"] = rand_names[i]\n",
    "\n",
    "        if(playrequired == True):\n",
    "            playrequired = False\n",
    "            RAWDATASET.loc[k,\"Action\"] = 'Play %ds'%currentTime\n",
    "            lastAction = 'Play'\n",
    "            PROCDATASET.loc[currentTime,\"Play\"] += 1\n",
    "\n",
    "        elif(lastAction == 'Pause'):\n",
    "            currentAction = random.choice(['Play', 'Seek'])\n",
    "\n",
    "            if(currentAction == 'Play'):\n",
    "                RAWDATASET.loc[k,\"Action\"] = 'Play %ds'%currentTime\n",
    "                lastAction = 'Play'\n",
    "                PROCDATASET.loc[currentTime,\"Play\"] += 1\n",
    "            \n",
    "            elif(currentAction == 'Seek'):\n",
    "                RAWDATASET.loc[k,\"Action\"] = 'Seek from %ds to %ds'%(currentTime, timeModifierTo)\n",
    "                currentTime = timeModifierTo\n",
    "                lastAction = 'Seek'\n",
    "\n",
    "        else:\n",
    "            currentAction = random.choice(['Seek', 'Pause'])\n",
    "\n",
    "            if(currentAction == 'Pause'):\n",
    "                RAWDATASET.loc[k,\"Action\"] = 'Pause %ds'%timeModifierFrom\n",
    "                currentTime = timeModifierFrom\n",
    "                PROCDATASET.loc[currentTime,\"Pause\"] += 1\n",
    "                lastAction = 'Pause'\n",
    "\n",
    "            elif(currentAction == 'Seek'):\n",
    "                RAWDATASET.loc[k,\"Action\"] = 'Seek from %ds to %ds'%(timeModifierFrom,timeModifierTo)\n",
    "                currentTime = timeModifierTo\n",
    "                PROCDATASET.loc[timeModifierFrom,\"Seek from\"] += 1\n",
    "                PROCDATASET.loc[timeModifierTo,\"Seek to\"] += 1\n",
    "                lastAction = 'Seek'\n",
    "\n",
    "        k+= 1\n",
    "\n",
    "df = PROCDATASET\n",
    "df2 = df.set_index(\"Time\")\n",
    "x= df.index.get_level_values(0).values\n",
    "print(x)\n",
    "y=df.iloc[:,2].tolist()\n",
    "print(y)"
   ]
  },
  {
   "cell_type": "code",
   "execution_count": 8,
   "metadata": {},
   "outputs": [
    {
     "data": {
      "application/vnd.plotly.v1+json": {
       "data": [
        {
         "cells": {
          "align": [
           "left",
           "center"
          ],
          "fill": {
           "color": "#F5F8FF"
          },
          "values": [
           [
            0,
            1,
            2,
            3,
            4,
            5,
            6,
            7,
            8,
            9,
            10,
            11,
            12,
            13,
            14,
            15,
            16,
            17,
            18,
            19,
            20,
            21,
            22,
            23,
            24,
            25,
            26,
            27,
            28,
            29
           ],
           [
            102,
            1,
            1,
            1,
            3,
            2,
            0,
            3,
            2,
            2,
            3,
            2,
            3,
            6,
            8,
            5,
            5,
            1,
            1,
            2,
            2,
            3,
            2,
            0,
            2,
            2,
            1,
            2,
            2,
            0
           ],
           [
            3,
            1,
            4,
            2,
            4,
            5,
            1,
            5,
            2,
            4,
            10,
            2,
            6,
            6,
            11,
            8,
            8,
            5,
            7,
            5,
            4,
            11,
            8,
            4,
            4,
            4,
            2,
            4,
            3,
            0
           ],
           [
            4,
            2,
            4,
            1,
            3,
            1,
            5,
            2,
            5,
            5,
            4,
            1,
            12,
            3,
            4,
            10,
            5,
            11,
            10,
            6,
            4,
            7,
            6,
            2,
            9,
            6,
            3,
            2,
            1,
            2
           ],
           [
            2,
            6,
            4,
            5,
            8,
            3,
            12,
            7,
            12,
            9,
            5,
            5,
            6,
            6,
            2,
            7,
            7,
            2,
            9,
            2,
            1,
            4,
            3,
            2,
            2,
            2,
            2,
            2,
            2,
            1
           ]
          ]
         },
         "header": {
          "align": "center",
          "fill": {
           "color": "#C2D4FF"
          },
          "values": [
           "Time",
           "Play",
           "Pause",
           "Seek from",
           "Seek to"
          ]
         },
         "type": "table",
         "uid": "2159dbd8-0f5b-11e9-8d58-9cf387cc124e"
        }
       ],
       "layout": {}
      },
      "text/html": [
       "<div id=\"a1ae96e7-2820-42c7-9e20-890985e6351e\" style=\"height: 525px; width: 100%;\" class=\"plotly-graph-div\"></div><script type=\"text/javascript\">require([\"plotly\"], function(Plotly) { window.PLOTLYENV=window.PLOTLYENV || {};window.PLOTLYENV.BASE_URL=\"https://plot.ly\";Plotly.newPlot(\"a1ae96e7-2820-42c7-9e20-890985e6351e\", [{\"cells\": {\"align\": [\"left\", \"center\"], \"fill\": {\"color\": \"#F5F8FF\"}, \"values\": [[0, 1, 2, 3, 4, 5, 6, 7, 8, 9, 10, 11, 12, 13, 14, 15, 16, 17, 18, 19, 20, 21, 22, 23, 24, 25, 26, 27, 28, 29], [102, 1, 1, 1, 3, 2, 0, 3, 2, 2, 3, 2, 3, 6, 8, 5, 5, 1, 1, 2, 2, 3, 2, 0, 2, 2, 1, 2, 2, 0], [3, 1, 4, 2, 4, 5, 1, 5, 2, 4, 10, 2, 6, 6, 11, 8, 8, 5, 7, 5, 4, 11, 8, 4, 4, 4, 2, 4, 3, 0], [4, 2, 4, 1, 3, 1, 5, 2, 5, 5, 4, 1, 12, 3, 4, 10, 5, 11, 10, 6, 4, 7, 6, 2, 9, 6, 3, 2, 1, 2], [2, 6, 4, 5, 8, 3, 12, 7, 12, 9, 5, 5, 6, 6, 2, 7, 7, 2, 9, 2, 1, 4, 3, 2, 2, 2, 2, 2, 2, 1]]}, \"header\": {\"align\": \"center\", \"fill\": {\"color\": \"#C2D4FF\"}, \"values\": [\"Time\", \"Play\", \"Pause\", \"Seek from\", \"Seek to\"]}, \"type\": \"table\", \"uid\": \"220b326e-0f5b-11e9-bc87-9cf387cc124e\"}], {}, {\"showLink\": true, \"linkText\": \"Export to plot.ly\"})});</script>"
      ],
      "text/vnd.plotly.v1+html": [
       "<div id=\"a1ae96e7-2820-42c7-9e20-890985e6351e\" style=\"height: 525px; width: 100%;\" class=\"plotly-graph-div\"></div><script type=\"text/javascript\">require([\"plotly\"], function(Plotly) { window.PLOTLYENV=window.PLOTLYENV || {};window.PLOTLYENV.BASE_URL=\"https://plot.ly\";Plotly.newPlot(\"a1ae96e7-2820-42c7-9e20-890985e6351e\", [{\"cells\": {\"align\": [\"left\", \"center\"], \"fill\": {\"color\": \"#F5F8FF\"}, \"values\": [[0, 1, 2, 3, 4, 5, 6, 7, 8, 9, 10, 11, 12, 13, 14, 15, 16, 17, 18, 19, 20, 21, 22, 23, 24, 25, 26, 27, 28, 29], [102, 1, 1, 1, 3, 2, 0, 3, 2, 2, 3, 2, 3, 6, 8, 5, 5, 1, 1, 2, 2, 3, 2, 0, 2, 2, 1, 2, 2, 0], [3, 1, 4, 2, 4, 5, 1, 5, 2, 4, 10, 2, 6, 6, 11, 8, 8, 5, 7, 5, 4, 11, 8, 4, 4, 4, 2, 4, 3, 0], [4, 2, 4, 1, 3, 1, 5, 2, 5, 5, 4, 1, 12, 3, 4, 10, 5, 11, 10, 6, 4, 7, 6, 2, 9, 6, 3, 2, 1, 2], [2, 6, 4, 5, 8, 3, 12, 7, 12, 9, 5, 5, 6, 6, 2, 7, 7, 2, 9, 2, 1, 4, 3, 2, 2, 2, 2, 2, 2, 1]]}, \"header\": {\"align\": \"center\", \"fill\": {\"color\": \"#C2D4FF\"}, \"values\": [\"Time\", \"Play\", \"Pause\", \"Seek from\", \"Seek to\"]}, \"type\": \"table\", \"uid\": \"220b326e-0f5b-11e9-bc87-9cf387cc124e\"}], {}, {\"showLink\": true, \"linkText\": \"Export to plot.ly\"})});</script>"
      ]
     },
     "metadata": {},
     "output_type": "display_data"
    }
   ],
   "source": [
    "df = PROCDATASET\n",
    "trace = Table(\n",
    "    header=dict(\n",
    "        values=list(df.columns[:len(df.columns)]),\n",
    "        fill = dict(color='#C2D4FF'),\n",
    "        align = 'center'\n",
    "    ),\n",
    "    cells=dict(\n",
    "        values=[df[i].tolist() for i in df.columns[:len(df.columns)]],\n",
    "        fill = dict(color='#F5F8FF'),\n",
    "        align = ['left','center']\n",
    "        )\n",
    "    )\n",
    "\n",
    "data = [trace]\n",
    "fig = dict(data=data)\n",
    "plotly.offline.iplot(data, filename = 'pandas_table')\n",
    "#print(df)\n"
   ]
  },
  {
   "cell_type": "code",
   "execution_count": 9,
   "metadata": {},
   "outputs": [
    {
     "data": {
      "text/plain": [
       "'3.1.0'"
      ]
     },
     "execution_count": 9,
     "metadata": {},
     "output_type": "execute_result"
    }
   ],
   "source": [
    "plotly.__version__"
   ]
  },
  {
   "cell_type": "code",
   "execution_count": null,
   "metadata": {},
   "outputs": [],
   "source": []
  },
  {
   "cell_type": "code",
   "execution_count": 10,
   "metadata": {},
   "outputs": [
    {
     "data": {
      "application/vnd.plotly.v1+json": {
       "data": [
        {
         "hoverinfo": "x+y",
         "line": {
          "color": "rgba(253, 174, 97, 0.75)",
          "width": 0.5
         },
         "mode": "lines",
         "name": "Play",
         "stackgroup": "one",
         "x": [
          0,
          1,
          2,
          3,
          4,
          5,
          6,
          7,
          8,
          9,
          10,
          11,
          12,
          13,
          14,
          15,
          16,
          17,
          18,
          19,
          20,
          21,
          22,
          23,
          24,
          25,
          26,
          27,
          28,
          29
         ],
         "y": [
          102,
          1,
          1,
          1,
          3,
          2,
          0,
          3,
          2,
          2,
          3,
          2,
          3,
          6,
          8,
          5,
          5,
          1,
          1,
          2,
          2,
          3,
          2,
          0,
          2,
          2,
          1,
          2,
          2,
          0
         ]
        },
        {
         "hoverinfo": "x+y",
         "line": {
          "color": "rgb(184, 247, 212)",
          "width": 0.5
         },
         "mode": "lines",
         "name": "Pause",
         "stackgroup": "one",
         "x": [
          0,
          1,
          2,
          3,
          4,
          5,
          6,
          7,
          8,
          9,
          10,
          11,
          12,
          13,
          14,
          15,
          16,
          17,
          18,
          19,
          20,
          21,
          22,
          23,
          24,
          25,
          26,
          27,
          28,
          29
         ],
         "y": [
          3,
          1,
          4,
          2,
          4,
          5,
          1,
          5,
          2,
          4,
          10,
          2,
          6,
          6,
          11,
          8,
          8,
          5,
          7,
          5,
          4,
          11,
          8,
          4,
          4,
          4,
          2,
          4,
          3,
          0
         ]
        },
        {
         "hoverinfo": "x+y",
         "line": {
          "color": "rgb(111, 231, 219)",
          "width": 0.5
         },
         "mode": "lines",
         "name": "Seek from",
         "stackgroup": "one",
         "x": [
          0,
          1,
          2,
          3,
          4,
          5,
          6,
          7,
          8,
          9,
          10,
          11,
          12,
          13,
          14,
          15,
          16,
          17,
          18,
          19,
          20,
          21,
          22,
          23,
          24,
          25,
          26,
          27,
          28,
          29
         ],
         "y": [
          4,
          2,
          4,
          1,
          3,
          1,
          5,
          2,
          5,
          5,
          4,
          1,
          12,
          3,
          4,
          10,
          5,
          11,
          10,
          6,
          4,
          7,
          6,
          2,
          9,
          6,
          3,
          2,
          1,
          2
         ]
        },
        {
         "hoverinfo": "x+y",
         "line": {
          "color": "rgb(131, 90, 241)",
          "width": 0.5
         },
         "mode": "lines",
         "name": "Seek to",
         "stackgroup": "one",
         "x": [
          0,
          1,
          2,
          3,
          4,
          5,
          6,
          7,
          8,
          9,
          10,
          11,
          12,
          13,
          14,
          15,
          16,
          17,
          18,
          19,
          20,
          21,
          22,
          23,
          24,
          25,
          26,
          27,
          28,
          29
         ],
         "y": [
          2,
          6,
          4,
          5,
          8,
          3,
          12,
          7,
          12,
          9,
          5,
          5,
          6,
          6,
          2,
          7,
          7,
          2,
          9,
          2,
          1,
          4,
          3,
          2,
          2,
          2,
          2,
          2,
          2,
          1
         ]
        }
       ],
       "layout": {}
      },
      "text/html": [
       "<div id=\"2ffde49c-e23d-4a2a-87e9-9476bb3debcd\" style=\"height: 525px; width: 100%;\" class=\"plotly-graph-div\"></div><script type=\"text/javascript\">require([\"plotly\"], function(Plotly) { window.PLOTLYENV=window.PLOTLYENV || {};window.PLOTLYENV.BASE_URL=\"https://plot.ly\";Plotly.newPlot(\"2ffde49c-e23d-4a2a-87e9-9476bb3debcd\", [{\"x\": [0, 1, 2, 3, 4, 5, 6, 7, 8, 9, 10, 11, 12, 13, 14, 15, 16, 17, 18, 19, 20, 21, 22, 23, 24, 25, 26, 27, 28, 29], \"y\": [102, 1, 1, 1, 3, 2, 0, 3, 2, 2, 3, 2, 3, 6, 8, 5, 5, 1, 1, 2, 2, 3, 2, 0, 2, 2, 1, 2, 2, 0], \"hoverinfo\": \"x+y\", \"mode\": \"lines\", \"name\": \"Play\", \"line\": {\"width\": 0.5, \"color\": \"rgba(253, 174, 97, 0.75)\"}, \"stackgroup\": \"one\"}, {\"x\": [0, 1, 2, 3, 4, 5, 6, 7, 8, 9, 10, 11, 12, 13, 14, 15, 16, 17, 18, 19, 20, 21, 22, 23, 24, 25, 26, 27, 28, 29], \"y\": [3, 1, 4, 2, 4, 5, 1, 5, 2, 4, 10, 2, 6, 6, 11, 8, 8, 5, 7, 5, 4, 11, 8, 4, 4, 4, 2, 4, 3, 0], \"hoverinfo\": \"x+y\", \"mode\": \"lines\", \"name\": \"Pause\", \"line\": {\"width\": 0.5, \"color\": \"rgb(184, 247, 212)\"}, \"stackgroup\": \"one\"}, {\"x\": [0, 1, 2, 3, 4, 5, 6, 7, 8, 9, 10, 11, 12, 13, 14, 15, 16, 17, 18, 19, 20, 21, 22, 23, 24, 25, 26, 27, 28, 29], \"y\": [4, 2, 4, 1, 3, 1, 5, 2, 5, 5, 4, 1, 12, 3, 4, 10, 5, 11, 10, 6, 4, 7, 6, 2, 9, 6, 3, 2, 1, 2], \"hoverinfo\": \"x+y\", \"mode\": \"lines\", \"name\": \"Seek from\", \"line\": {\"width\": 0.5, \"color\": \"rgb(111, 231, 219)\"}, \"stackgroup\": \"one\"}, {\"x\": [0, 1, 2, 3, 4, 5, 6, 7, 8, 9, 10, 11, 12, 13, 14, 15, 16, 17, 18, 19, 20, 21, 22, 23, 24, 25, 26, 27, 28, 29], \"y\": [2, 6, 4, 5, 8, 3, 12, 7, 12, 9, 5, 5, 6, 6, 2, 7, 7, 2, 9, 2, 1, 4, 3, 2, 2, 2, 2, 2, 2, 1], \"hoverinfo\": \"x+y\", \"mode\": \"lines\", \"name\": \"Seek to\", \"line\": {\"width\": 0.5, \"color\": \"rgb(131, 90, 241)\"}, \"stackgroup\": \"one\"}], {}, {\"showLink\": true, \"linkText\": \"Export to plot.ly\"})});</script>"
      ],
      "text/vnd.plotly.v1+html": [
       "<div id=\"2ffde49c-e23d-4a2a-87e9-9476bb3debcd\" style=\"height: 525px; width: 100%;\" class=\"plotly-graph-div\"></div><script type=\"text/javascript\">require([\"plotly\"], function(Plotly) { window.PLOTLYENV=window.PLOTLYENV || {};window.PLOTLYENV.BASE_URL=\"https://plot.ly\";Plotly.newPlot(\"2ffde49c-e23d-4a2a-87e9-9476bb3debcd\", [{\"x\": [0, 1, 2, 3, 4, 5, 6, 7, 8, 9, 10, 11, 12, 13, 14, 15, 16, 17, 18, 19, 20, 21, 22, 23, 24, 25, 26, 27, 28, 29], \"y\": [102, 1, 1, 1, 3, 2, 0, 3, 2, 2, 3, 2, 3, 6, 8, 5, 5, 1, 1, 2, 2, 3, 2, 0, 2, 2, 1, 2, 2, 0], \"hoverinfo\": \"x+y\", \"mode\": \"lines\", \"name\": \"Play\", \"line\": {\"width\": 0.5, \"color\": \"rgba(253, 174, 97, 0.75)\"}, \"stackgroup\": \"one\"}, {\"x\": [0, 1, 2, 3, 4, 5, 6, 7, 8, 9, 10, 11, 12, 13, 14, 15, 16, 17, 18, 19, 20, 21, 22, 23, 24, 25, 26, 27, 28, 29], \"y\": [3, 1, 4, 2, 4, 5, 1, 5, 2, 4, 10, 2, 6, 6, 11, 8, 8, 5, 7, 5, 4, 11, 8, 4, 4, 4, 2, 4, 3, 0], \"hoverinfo\": \"x+y\", \"mode\": \"lines\", \"name\": \"Pause\", \"line\": {\"width\": 0.5, \"color\": \"rgb(184, 247, 212)\"}, \"stackgroup\": \"one\"}, {\"x\": [0, 1, 2, 3, 4, 5, 6, 7, 8, 9, 10, 11, 12, 13, 14, 15, 16, 17, 18, 19, 20, 21, 22, 23, 24, 25, 26, 27, 28, 29], \"y\": [4, 2, 4, 1, 3, 1, 5, 2, 5, 5, 4, 1, 12, 3, 4, 10, 5, 11, 10, 6, 4, 7, 6, 2, 9, 6, 3, 2, 1, 2], \"hoverinfo\": \"x+y\", \"mode\": \"lines\", \"name\": \"Seek from\", \"line\": {\"width\": 0.5, \"color\": \"rgb(111, 231, 219)\"}, \"stackgroup\": \"one\"}, {\"x\": [0, 1, 2, 3, 4, 5, 6, 7, 8, 9, 10, 11, 12, 13, 14, 15, 16, 17, 18, 19, 20, 21, 22, 23, 24, 25, 26, 27, 28, 29], \"y\": [2, 6, 4, 5, 8, 3, 12, 7, 12, 9, 5, 5, 6, 6, 2, 7, 7, 2, 9, 2, 1, 4, 3, 2, 2, 2, 2, 2, 2, 1], \"hoverinfo\": \"x+y\", \"mode\": \"lines\", \"name\": \"Seek to\", \"line\": {\"width\": 0.5, \"color\": \"rgb(131, 90, 241)\"}, \"stackgroup\": \"one\"}], {}, {\"showLink\": true, \"linkText\": \"Export to plot.ly\"})});</script>"
      ]
     },
     "metadata": {},
     "output_type": "display_data"
    }
   ],
   "source": [
    "dft = PROCDATASET\n",
    "df = dft.set_index(\"Time\")\n",
    "        \n",
    "x = df.index.get_level_values(0).values\n",
    "\n",
    "trace0 = dict(\n",
    "    x=x,\n",
    "    y=df.iloc[:,0].tolist(),\n",
    "    hoverinfo='x+y',\n",
    "    mode='lines',\n",
    "    name='Play',\n",
    "    line=dict(width=0.5,\n",
    "              color='rgba(253, 174, 97, 0.75)'),\n",
    "    stackgroup='one'\n",
    ")\n",
    "trace1 = dict(\n",
    "    x=x,\n",
    "    y=df.iloc[:,1].tolist(),\n",
    "    hoverinfo='x+y',\n",
    "    mode='lines',\n",
    "    name='Pause',\n",
    "    line=dict(width=0.5,\n",
    "              color='rgb(184, 247, 212)'),\n",
    "    stackgroup='one'\n",
    ")\n",
    "trace2 = dict(\n",
    "    x=x,\n",
    "    y=df.iloc[:,2].tolist(),\n",
    "    hoverinfo='x+y',\n",
    "    mode='lines',\n",
    "    name='Seek from',\n",
    "    line=dict(width=0.5,\n",
    "              color='rgb(111, 231, 219)'),\n",
    "    stackgroup='one'\n",
    ")\n",
    "trace3 = dict(\n",
    "    x=x,\n",
    "    y=df.iloc[:,3].tolist(),\n",
    "    hoverinfo='x+y',\n",
    "    mode='lines',\n",
    "    name='Seek to',\n",
    "    line=dict(width=0.5,\n",
    "              color='rgb(131, 90, 241)'),\n",
    "    stackgroup='one'\n",
    "\n",
    ")\n",
    "data = [trace0, trace1, trace2, trace3]\n",
    "\n",
    "fig = dict(data=data)\n",
    "plotly.offline.iplot(fig, filename='stacked-area-plot-hover', validate=False)"
   ]
  },
  {
   "cell_type": "code",
   "execution_count": 24,
   "metadata": {},
   "outputs": [
    {
     "data": {
      "application/vnd.plotly.v1+json": {
       "data": [
        {
         "name": "Trace1",
         "type": "bar",
         "uid": "e6541b98-0f87-11e9-a84e-9cf387cc124e",
         "x": [
          1
         ],
         "y": [
          1
         ]
        },
        {
         "name": "Trace2",
         "type": "bar",
         "uid": "e6541f42-0f87-11e9-8a81-9cf387cc124e",
         "x": [
          1
         ],
         "y": [
          6
         ]
        },
        {
         "name": "Trace3",
         "type": "bar",
         "uid": "e6542746-0f87-11e9-b370-9cf387cc124e",
         "x": [
          1
         ],
         "y": [
          -15
         ]
        }
       ],
       "layout": {
        "barmode": "relative",
        "title": "Relative Barmode",
        "xaxis": {
         "title": "X axis"
        },
        "yaxis": {
         "title": "Y axis"
        }
       }
      },
      "text/html": [
       "<div id=\"f967bbf8-9b6a-4f33-a1a7-c7fe5b4bc10b\" style=\"height: 525px; width: 100%;\" class=\"plotly-graph-div\"></div><script type=\"text/javascript\">require([\"plotly\"], function(Plotly) { window.PLOTLYENV=window.PLOTLYENV || {};window.PLOTLYENV.BASE_URL=\"https://plot.ly\";Plotly.newPlot(\"f967bbf8-9b6a-4f33-a1a7-c7fe5b4bc10b\", [{\"name\": \"Trace1\", \"x\": [1], \"y\": [1], \"type\": \"bar\", \"uid\": \"e678e7c8-0f87-11e9-a192-9cf387cc124e\"}, {\"name\": \"Trace2\", \"x\": [1], \"y\": [6], \"type\": \"bar\", \"uid\": \"e678e9ee-0f87-11e9-817e-9cf387cc124e\"}, {\"name\": \"Trace3\", \"x\": [1], \"y\": [-15], \"type\": \"bar\", \"uid\": \"e678eb24-0f87-11e9-acca-9cf387cc124e\"}], {\"barmode\": \"relative\", \"title\": \"Relative Barmode\", \"xaxis\": {\"title\": \"X axis\"}, \"yaxis\": {\"title\": \"Y axis\"}}, {\"showLink\": true, \"linkText\": \"Export to plot.ly\"})});</script>"
      ],
      "text/vnd.plotly.v1+html": [
       "<div id=\"f967bbf8-9b6a-4f33-a1a7-c7fe5b4bc10b\" style=\"height: 525px; width: 100%;\" class=\"plotly-graph-div\"></div><script type=\"text/javascript\">require([\"plotly\"], function(Plotly) { window.PLOTLYENV=window.PLOTLYENV || {};window.PLOTLYENV.BASE_URL=\"https://plot.ly\";Plotly.newPlot(\"f967bbf8-9b6a-4f33-a1a7-c7fe5b4bc10b\", [{\"name\": \"Trace1\", \"x\": [1], \"y\": [1], \"type\": \"bar\", \"uid\": \"e678e7c8-0f87-11e9-a192-9cf387cc124e\"}, {\"name\": \"Trace2\", \"x\": [1], \"y\": [6], \"type\": \"bar\", \"uid\": \"e678e9ee-0f87-11e9-817e-9cf387cc124e\"}, {\"name\": \"Trace3\", \"x\": [1], \"y\": [-15], \"type\": \"bar\", \"uid\": \"e678eb24-0f87-11e9-acca-9cf387cc124e\"}], {\"barmode\": \"relative\", \"title\": \"Relative Barmode\", \"xaxis\": {\"title\": \"X axis\"}, \"yaxis\": {\"title\": \"Y axis\"}}, {\"showLink\": true, \"linkText\": \"Export to plot.ly\"})});</script>"
      ]
     },
     "metadata": {},
     "output_type": "display_data"
    }
   ],
   "source": [
    "x = [1]\n",
    "\n",
    "trace1 = {\n",
    "  'x': x,\n",
    "  'y': [1],\n",
    "  'name': 'Trace1',\n",
    "  'type': 'bar'\n",
    "};\n",
    "trace2 = {\n",
    "  'x': x,\n",
    "  'y': [6],\n",
    "  'name': 'Trace2',\n",
    "  'type': 'bar'\n",
    "};\n",
    "trace3 = {\n",
    "  'x': x,\n",
    "  'y': [-15],\n",
    "  'name': 'Trace3',\n",
    "  'type': 'bar'\n",
    " }\n",
    "\n",
    "\n",
    "data = [trace1, trace2, trace3];\n",
    "layout = {\n",
    "  'xaxis': {'title': 'X axis'},\n",
    "  'yaxis': {'title': 'Y axis'},\n",
    "  'barmode': 'relative',\n",
    "  'title': 'Relative Barmode'\n",
    "};\n",
    "plotly.offline.iplot({'data': data, 'layout': layout}, filename='barmode-relative')"
   ]
  },
  {
   "cell_type": "code",
   "execution_count": null,
   "metadata": {},
   "outputs": [],
   "source": []
  },
  {
   "cell_type": "code",
   "execution_count": null,
   "metadata": {},
   "outputs": [],
   "source": []
  }
 ],
 "metadata": {
  "kernelspec": {
   "display_name": "Python 3",
   "language": "python",
   "name": "python3"
  },
  "language_info": {
   "codemirror_mode": {
    "name": "ipython",
    "version": 3
   },
   "file_extension": ".py",
   "mimetype": "text/x-python",
   "name": "python",
   "nbconvert_exporter": "python",
   "pygments_lexer": "ipython3",
   "version": "3.6.5"
  }
 },
 "nbformat": 4,
 "nbformat_minor": 2
}
