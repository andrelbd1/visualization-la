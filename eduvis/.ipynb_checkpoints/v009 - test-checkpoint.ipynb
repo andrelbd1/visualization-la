{
 "cells": [
  {
   "cell_type": "code",
   "execution_count": 7,
   "metadata": {},
   "outputs": [],
   "source": [
    "import dash\n",
    "import dash_core_components as dcc\n",
    "import dash_html_components as html\n",
    "import random\n",
    "\n",
    "import plotly\n",
    "import plotly.plotly as py\n",
    "import plotly.tools as tls\n",
    "import plotly.graph_objs as go\n",
    "\n",
    "import pandas as pd\n",
    "import numpy as np\n",
    "\n",
    "\n",
    "from plotly.graph_objs import Figure, Layout, Bar, Table, Heatmap, Scatter, Box, Violin\n",
    "from plotly.offline import init_notebook_mode, iplot\n",
    "\n",
    "\n",
    "from sklearn import metrics"
   ]
  },
  {
   "cell_type": "code",
   "execution_count": 13,
   "metadata": {},
   "outputs": [],
   "source": [
    "NUMBER_ACTIONS = 500\n",
    "VIDEO_SIZE = 30\n",
    "RAWDATASET = pd.DataFrame()\n",
    "PROCDATASET = pd.DataFrame()\n",
    "SEEKDATASET = pd.DataFrame()"
   ]
  },
  {
   "cell_type": "code",
   "execution_count": 14,
   "metadata": {},
   "outputs": [
    {
     "data": {
      "text/html": [
       "<script>requirejs.config({paths: { 'plotly': ['https://cdn.plot.ly/plotly-latest.min']},});if(!window.Plotly) {{require(['plotly'],function(plotly) {window.Plotly=plotly;});}}</script>"
      ],
      "text/vnd.plotly.v1+html": [
       "<script>requirejs.config({paths: { 'plotly': ['https://cdn.plot.ly/plotly-latest.min']},});if(!window.Plotly) {{require(['plotly'],function(plotly) {window.Plotly=plotly;});}}</script>"
      ]
     },
     "metadata": {},
     "output_type": "display_data"
    }
   ],
   "source": [
    "plotly.offline.init_notebook_mode(connected=True)"
   ]
  },
  {
   "cell_type": "code",
   "execution_count": 15,
   "metadata": {},
   "outputs": [],
   "source": [
    "names = pd.read_csv(\"names.csv\")\n",
    "RAWDATASET = pd.DataFrame(columns=[\"Students\",\"Action\",\"Age\"])\n",
    "PROCDATASET = pd.DataFrame(0, index= range(VIDEO_SIZE), columns=[\"Time\",\"Play\",\"Pause\",\"Seek from\",\"Seek to\"])\n",
    "for i in range(0,VIDEO_SIZE): PROCDATASET.loc[i,\"Time\"] = i\n",
    "\n",
    "k = 0\n"
   ]
  },
  {
   "cell_type": "code",
   "execution_count": 18,
   "metadata": {},
   "outputs": [],
   "source": [
    "rand_names = [names.group_name[np.random.randint(0,len(names.group_name)+1)] for n in range(0,NUMBER_ACTIONS)]\n",
    "rand_names.sort()"
   ]
  },
  {
   "cell_type": "code",
   "execution_count": 21,
   "metadata": {},
   "outputs": [
    {
     "name": "stdout",
     "output_type": "stream",
     "text": [
      "[ 0  1  2  3  4  5  6  7  8  9 10 11 12 13 14 15 16 17 18 19 20 21 22 23\n",
      " 24 25 26 27 28 29]\n",
      "[4, 4, 3, 3, 4, 7, 5, 3, 2, 3, 3, 4, 8, 9, 6, 3, 6, 8, 8, 7, 6, 6, 8, 5, 4, 9, 5, 3, 1, 3]\n"
     ]
    }
   ],
   "source": [
    "for i in range(0,NUMBER_ACTIONS//5):\n",
    "    playrequired = True\n",
    "    currentTime = 0\n",
    "\n",
    "    for j in range(0,5):\n",
    "        timeModifierFrom = int(currentTime + np.random.triangular(0, 0 ,VIDEO_SIZE - currentTime))\n",
    "        timeModifierTo = int(np.random.triangular(0,currentTime,VIDEO_SIZE))\n",
    "\n",
    "        RAWDATASET.loc[k,\"Students\"] = rand_names[i]\n",
    "\n",
    "        if(playrequired == True):\n",
    "            playrequired = False\n",
    "            RAWDATASET.loc[k,\"Action\"] = 'Play %ds'%currentTime\n",
    "            lastAction = 'Play'\n",
    "            PROCDATASET.loc[currentTime,\"Play\"] += 1\n",
    "\n",
    "        elif(lastAction == 'Pause'):\n",
    "            currentAction = random.choice(['Play', 'Seek'])\n",
    "\n",
    "            if(currentAction == 'Play'):\n",
    "                RAWDATASET.loc[k,\"Action\"] = 'Play %ds'%currentTime\n",
    "                lastAction = 'Play'\n",
    "                PROCDATASET.loc[currentTime,\"Play\"] += 1\n",
    "            \n",
    "            elif(currentAction == 'Seek'):\n",
    "                RAWDATASET.loc[k,\"Action\"] = 'Seek from %ds to %ds'%(currentTime, timeModifierTo)\n",
    "                currentTime = timeModifierTo\n",
    "                lastAction = 'Seek'\n",
    "\n",
    "        else:\n",
    "            currentAction = random.choice(['Seek', 'Pause'])\n",
    "\n",
    "            if(currentAction == 'Pause'):\n",
    "                RAWDATASET.loc[k,\"Action\"] = 'Pause %ds'%timeModifierFrom\n",
    "                currentTime = timeModifierFrom\n",
    "                PROCDATASET.loc[currentTime,\"Pause\"] += 1\n",
    "                lastAction = 'Pause'\n",
    "\n",
    "            elif(currentAction == 'Seek'):\n",
    "                RAWDATASET.loc[k,\"Action\"] = 'Seek from %ds to %ds'%(timeModifierFrom,timeModifierTo)\n",
    "                currentTime = timeModifierTo\n",
    "                PROCDATASET.loc[timeModifierFrom,\"Seek from\"] += 1\n",
    "                PROCDATASET.loc[timeModifierTo,\"Seek to\"] += 1\n",
    "                lastAction = 'Seek'\n",
    "\n",
    "        k+= 1\n",
    "\n",
    "df = PROCDATASET\n",
    "df2 = df.set_index(\"Time\")\n",
    "x= df.index.get_level_values(0).values\n",
    "print(x)\n",
    "y=df.iloc[:,2].tolist()\n",
    "print(y)"
   ]
  },
  {
   "cell_type": "code",
   "execution_count": 22,
   "metadata": {},
   "outputs": [
    {
     "data": {
      "application/vnd.plotly.v1+json": {
       "data": [
        {
         "cells": {
          "align": [
           "left",
           "center"
          ],
          "fill": {
           "color": "#F5F8FF"
          },
          "values": [
           [
            0,
            1,
            2,
            3,
            4,
            5,
            6,
            7,
            8,
            9,
            10,
            11,
            12,
            13,
            14,
            15,
            16,
            17,
            18,
            19,
            20,
            21,
            22,
            23,
            24,
            25,
            26,
            27,
            28,
            29
           ],
           [
            111,
            2,
            1,
            2,
            3,
            2,
            2,
            2,
            1,
            2,
            1,
            0,
            2,
            6,
            3,
            1,
            5,
            5,
            5,
            2,
            3,
            3,
            2,
            2,
            0,
            5,
            0,
            0,
            1,
            1
           ],
           [
            4,
            4,
            3,
            3,
            4,
            7,
            5,
            3,
            2,
            3,
            3,
            4,
            8,
            9,
            6,
            3,
            6,
            8,
            8,
            7,
            6,
            6,
            8,
            5,
            4,
            9,
            5,
            3,
            1,
            3
           ],
           [
            3,
            6,
            2,
            2,
            4,
            4,
            8,
            8,
            5,
            4,
            5,
            8,
            8,
            8,
            4,
            7,
            12,
            6,
            8,
            8,
            7,
            5,
            5,
            7,
            3,
            7,
            6,
            4,
            4,
            1
           ],
           [
            7,
            4,
            4,
            7,
            11,
            15,
            6,
            8,
            5,
            4,
            6,
            7,
            8,
            10,
            6,
            9,
            13,
            5,
            4,
            4,
            7,
            5,
            2,
            4,
            2,
            3,
            1,
            0,
            0,
            2
           ]
          ]
         },
         "header": {
          "align": "center",
          "fill": {
           "color": "#C2D4FF"
          },
          "values": [
           "Time",
           "Play",
           "Pause",
           "Seek from",
           "Seek to"
          ]
         },
         "type": "table",
         "uid": "a852deac-0f02-11e9-911e-9cf387cc124e"
        }
       ],
       "layout": {}
      },
      "text/html": [
       "<div id=\"141b2364-83fd-4095-b759-c32f8bd268c9\" style=\"height: 525px; width: 100%;\" class=\"plotly-graph-div\"></div><script type=\"text/javascript\">require([\"plotly\"], function(Plotly) { window.PLOTLYENV=window.PLOTLYENV || {};window.PLOTLYENV.BASE_URL=\"https://plot.ly\";Plotly.newPlot(\"141b2364-83fd-4095-b759-c32f8bd268c9\", [{\"cells\": {\"align\": [\"left\", \"center\"], \"fill\": {\"color\": \"#F5F8FF\"}, \"values\": [[0, 1, 2, 3, 4, 5, 6, 7, 8, 9, 10, 11, 12, 13, 14, 15, 16, 17, 18, 19, 20, 21, 22, 23, 24, 25, 26, 27, 28, 29], [111, 2, 1, 2, 3, 2, 2, 2, 1, 2, 1, 0, 2, 6, 3, 1, 5, 5, 5, 2, 3, 3, 2, 2, 0, 5, 0, 0, 1, 1], [4, 4, 3, 3, 4, 7, 5, 3, 2, 3, 3, 4, 8, 9, 6, 3, 6, 8, 8, 7, 6, 6, 8, 5, 4, 9, 5, 3, 1, 3], [3, 6, 2, 2, 4, 4, 8, 8, 5, 4, 5, 8, 8, 8, 4, 7, 12, 6, 8, 8, 7, 5, 5, 7, 3, 7, 6, 4, 4, 1], [7, 4, 4, 7, 11, 15, 6, 8, 5, 4, 6, 7, 8, 10, 6, 9, 13, 5, 4, 4, 7, 5, 2, 4, 2, 3, 1, 0, 0, 2]]}, \"header\": {\"align\": \"center\", \"fill\": {\"color\": \"#C2D4FF\"}, \"values\": [\"Time\", \"Play\", \"Pause\", \"Seek from\", \"Seek to\"]}, \"type\": \"table\", \"uid\": \"a86f1cf4-0f02-11e9-a2a4-9cf387cc124e\"}], {}, {\"showLink\": true, \"linkText\": \"Export to plot.ly\"})});</script>"
      ],
      "text/vnd.plotly.v1+html": [
       "<div id=\"141b2364-83fd-4095-b759-c32f8bd268c9\" style=\"height: 525px; width: 100%;\" class=\"plotly-graph-div\"></div><script type=\"text/javascript\">require([\"plotly\"], function(Plotly) { window.PLOTLYENV=window.PLOTLYENV || {};window.PLOTLYENV.BASE_URL=\"https://plot.ly\";Plotly.newPlot(\"141b2364-83fd-4095-b759-c32f8bd268c9\", [{\"cells\": {\"align\": [\"left\", \"center\"], \"fill\": {\"color\": \"#F5F8FF\"}, \"values\": [[0, 1, 2, 3, 4, 5, 6, 7, 8, 9, 10, 11, 12, 13, 14, 15, 16, 17, 18, 19, 20, 21, 22, 23, 24, 25, 26, 27, 28, 29], [111, 2, 1, 2, 3, 2, 2, 2, 1, 2, 1, 0, 2, 6, 3, 1, 5, 5, 5, 2, 3, 3, 2, 2, 0, 5, 0, 0, 1, 1], [4, 4, 3, 3, 4, 7, 5, 3, 2, 3, 3, 4, 8, 9, 6, 3, 6, 8, 8, 7, 6, 6, 8, 5, 4, 9, 5, 3, 1, 3], [3, 6, 2, 2, 4, 4, 8, 8, 5, 4, 5, 8, 8, 8, 4, 7, 12, 6, 8, 8, 7, 5, 5, 7, 3, 7, 6, 4, 4, 1], [7, 4, 4, 7, 11, 15, 6, 8, 5, 4, 6, 7, 8, 10, 6, 9, 13, 5, 4, 4, 7, 5, 2, 4, 2, 3, 1, 0, 0, 2]]}, \"header\": {\"align\": \"center\", \"fill\": {\"color\": \"#C2D4FF\"}, \"values\": [\"Time\", \"Play\", \"Pause\", \"Seek from\", \"Seek to\"]}, \"type\": \"table\", \"uid\": \"a86f1cf4-0f02-11e9-a2a4-9cf387cc124e\"}], {}, {\"showLink\": true, \"linkText\": \"Export to plot.ly\"})});</script>"
      ]
     },
     "metadata": {},
     "output_type": "display_data"
    }
   ],
   "source": [
    "df = PROCDATASET\n",
    "trace = Table(\n",
    "    header=dict(\n",
    "        values=list(df.columns[:len(df.columns)]),\n",
    "        fill = dict(color='#C2D4FF'),\n",
    "        align = 'center'\n",
    "    ),\n",
    "    cells=dict(\n",
    "        values=[df[i].tolist() for i in df.columns[:len(df.columns)]],\n",
    "        fill = dict(color='#F5F8FF'),\n",
    "        align = ['left','center']\n",
    "        )\n",
    "    )\n",
    "\n",
    "data = [trace]\n",
    "fig = dict(data=data)\n",
    "plotly.offline.iplot(data, filename = 'pandas_table')\n",
    "#print(df)\n"
   ]
  },
  {
   "cell_type": "code",
   "execution_count": 23,
   "metadata": {},
   "outputs": [
    {
     "data": {
      "text/plain": [
       "'3.1.0'"
      ]
     },
     "execution_count": 23,
     "metadata": {},
     "output_type": "execute_result"
    }
   ],
   "source": [
    "plotly.__version__"
   ]
  },
  {
   "cell_type": "code",
   "execution_count": null,
   "metadata": {},
   "outputs": [],
   "source": []
  },
  {
   "cell_type": "code",
   "execution_count": 25,
   "metadata": {},
   "outputs": [
    {
     "ename": "SyntaxError",
     "evalue": "invalid syntax (<ipython-input-25-8d79763f6881>, line 35)",
     "output_type": "error",
     "traceback": [
      "\u001b[0;36m  File \u001b[0;32m\"<ipython-input-25-8d79763f6881>\"\u001b[0;36m, line \u001b[0;32m35\u001b[0m\n\u001b[0;31m    x=x,\u001b[0m\n\u001b[0m    ^\u001b[0m\n\u001b[0;31mSyntaxError\u001b[0m\u001b[0;31m:\u001b[0m invalid syntax\n"
     ]
    }
   ],
   "source": [
    "dft = PROCDATASET\n",
    "df = dft.set_index(\"Time\")\n",
    "        \n",
    "x = df.index.get_level_values(0).values\n",
    "\n",
    "trace0 = dict(\n",
    "    x=x,\n",
    "    y=df.iloc[:,0].tolist(),\n",
    "    hoverinfo='x+y',\n",
    "    mode='lines',\n",
    "    line=dict(width=0.5,\n",
    "              color='rgb(131, 90, 241)'),\n",
    "    stackgroup='one'\n",
    ")\n",
    "trace1 = dict(\n",
    "    x=x,\n",
    "    y=df.iloc[:,1].tolist(),\n",
    "    hoverinfo='x+y',\n",
    "    mode='lines',\n",
    "    line=dict(width=0.5,\n",
    "              color='rgb(184, 247, 212)'),\n",
    "    stackgroup='one'\n",
    ")\n",
    "trace2 = dict(\n",
    "    x=x,\n",
    "    y=df.iloc[:,2].tolist(),\n",
    "    hoverinfo='x+y',\n",
    "    mode='lines',\n",
    "    line=dict(width=0.5,\n",
    "              color='rgb(111, 231, 219)'),\n",
    "    stackgroup='one'\n",
    ")\n",
    "trace3 = dict(\n",
    "    x=x,\n",
    "    y=df.iloc[:,3].tolist(),\n",
    "    hoverinfo='x+y',\n",
    "    mode='lines',\n",
    "    line=dict(width=0.5,\n",
    "              color='rgb(131, 90, 241)'),\n",
    "    stackgroup='one'\n",
    "    label=\"Chora\"\n",
    "\n",
    "\n",
    ")\n",
    "data = [trace0, trace1, trace2, trace3]\n",
    "\n",
    "fig = dict(data=data)\n",
    "plotly.offline.iplot(fig, filename='stacked-area-plot-hover', validate=False)"
   ]
  },
  {
   "cell_type": "code",
   "execution_count": null,
   "metadata": {},
   "outputs": [],
   "source": []
  },
  {
   "cell_type": "code",
   "execution_count": null,
   "metadata": {},
   "outputs": [],
   "source": []
  },
  {
   "cell_type": "code",
   "execution_count": null,
   "metadata": {},
   "outputs": [],
   "source": []
  }
 ],
 "metadata": {
  "kernelspec": {
   "display_name": "Python 3",
   "language": "python",
   "name": "python3"
  },
  "language_info": {
   "codemirror_mode": {
    "name": "ipython",
    "version": 3
   },
   "file_extension": ".py",
   "mimetype": "text/x-python",
   "name": "python",
   "nbconvert_exporter": "python",
   "pygments_lexer": "ipython3",
   "version": "3.6.5"
  }
 },
 "nbformat": 4,
 "nbformat_minor": 2
}
