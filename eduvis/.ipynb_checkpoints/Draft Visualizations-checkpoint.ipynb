{
 "cells": [
  {
   "cell_type": "markdown",
   "metadata": {},
   "source": [
    "### View 001 - Tarefas feitas pelos estudantes"
   ]
  },
  {
   "cell_type": "code",
   "execution_count": null,
   "metadata": {},
   "outputs": [],
   "source": [
    "run V001.py"
   ]
  },
  {
   "cell_type": "code",
   "execution_count": null,
   "metadata": {
    "scrolled": true
   },
   "outputs": [],
   "source": [
    "instance = V001()\n",
    "instance.generate_dataset(number_students = 20, number_assigns = 10)\n",
    "# instance.print_all_graphs(\"pt\")\n",
    "instance.print_all_graphs(\"en\")"
   ]
  },
  {
   "cell_type": "markdown",
   "metadata": {},
   "source": [
    "### View 002 - Acesso dos estudantes aos materiais (ex: videos, ebooks, etc.)"
   ]
  },
  {
   "cell_type": "code",
   "execution_count": null,
   "metadata": {
    "scrolled": true
   },
   "outputs": [],
   "source": [
    "run V002.py"
   ]
  },
  {
   "cell_type": "code",
   "execution_count": null,
   "metadata": {},
   "outputs": [],
   "source": [
    "instance = V002()\n",
    "instance.generate_dataset(number_students = 20)\n",
    "# instance.print_all_graphs(\"pt\")\n",
    "instance.print_all_graphs(\"en\")"
   ]
  },
  {
   "cell_type": "markdown",
   "metadata": {},
   "source": [
    "### View 003 - Interação dos estudantes no fórum (ex: postagens, acessos, etc.)"
   ]
  },
  {
   "cell_type": "code",
   "execution_count": null,
   "metadata": {
    "scrolled": true
   },
   "outputs": [],
   "source": [
    "run V003.py"
   ]
  },
  {
   "cell_type": "code",
   "execution_count": null,
   "metadata": {},
   "outputs": [],
   "source": [
    "instance = V003(20)\n",
    "instance.generate_dataset(number_students = 20)\n",
    "# instance.print_all_graphs(\"pt\")\n",
    "instance.print_all_graphs(\"en\")"
   ]
  },
  {
   "cell_type": "markdown",
   "metadata": {},
   "source": [
    "### View 004 - Tempo de permanencia dos estudantes nos vídeos"
   ]
  },
  {
   "cell_type": "code",
   "execution_count": null,
   "metadata": {
    "scrolled": true
   },
   "outputs": [],
   "source": [
    "run V004.py"
   ]
  },
  {
   "cell_type": "code",
   "execution_count": null,
   "metadata": {},
   "outputs": [],
   "source": [
    "instance = V004()\n",
    "instance.generate_dataset(number_students = 20)\n",
    "# instance.print_all_graphs(\"pt\")\n",
    "instance.print_all_graphs(\"en\")"
   ]
  },
  {
   "cell_type": "markdown",
   "metadata": {},
   "source": [
    "### View 005 - Correlação entre as notas e os logs de acesso/interação dos estudantes"
   ]
  },
  {
   "cell_type": "code",
   "execution_count": null,
   "metadata": {},
   "outputs": [],
   "source": [
    "run V005.py"
   ]
  },
  {
   "cell_type": "code",
   "execution_count": null,
   "metadata": {
    "scrolled": true
   },
   "outputs": [],
   "source": [
    "instance = V005()\n",
    "instance.generate_dataset(number_students = 60)\n",
    "# instance.print_all_graphs(\"pt\")\n",
    "instance.print_all_graphs(\"en\")"
   ]
  },
  {
   "cell_type": "markdown",
   "metadata": {},
   "source": [
    "### View 006 - Correlação entre o perfil (idade, cidade de origem, etc.) e os logs de acesso/interação dos estudantes"
   ]
  },
  {
   "cell_type": "code",
   "execution_count": null,
   "metadata": {
    "scrolled": true
   },
   "outputs": [],
   "source": [
    "run V006.py"
   ]
  },
  {
   "cell_type": "code",
   "execution_count": null,
   "metadata": {},
   "outputs": [],
   "source": [
    "instance = V006()\n",
    "instance.generate_dataset(number_students = 60)\n",
    "# instance.print_all_graphs(\"pt\")\n",
    "instance.print_all_graphs(\"en\")"
   ]
  },
  {
   "cell_type": "markdown",
   "metadata": {},
   "source": [
    "### View 007 - Predição das notas que os estudante terão ao final do curso e quais abandonarão"
   ]
  },
  {
   "cell_type": "code",
   "execution_count": 13,
   "metadata": {},
   "outputs": [
    {
     "data": {
      "text/html": [
       "<script>requirejs.config({paths: { 'plotly': ['https://cdn.plot.ly/plotly-latest.min']},});if(!window.Plotly) {{require(['plotly'],function(plotly) {window.Plotly=plotly;});}}</script>"
      ],
      "text/vnd.plotly.v1+html": [
       "<script>requirejs.config({paths: { 'plotly': ['https://cdn.plot.ly/plotly-latest.min']},});if(!window.Plotly) {{require(['plotly'],function(plotly) {window.Plotly=plotly;});}}</script>"
      ]
     },
     "metadata": {},
     "output_type": "display_data"
    }
   ],
   "source": [
    "run V007.py"
   ]
  },
  {
   "cell_type": "code",
   "execution_count": 14,
   "metadata": {
    "scrolled": false
   },
   "outputs": [
    {
     "data": {
      "application/vnd.plotly.v1+json": {
       "data": [
        {
         "box": {
          "visible": true
         },
         "line": {
          "color": "rgb(255,0,0)"
         },
         "marker": {
          "line": {
           "width": 1
          }
         },
         "meanline": {
          "visible": true
         },
         "name": "Cluster 1",
         "points": "all",
         "text": [
          "GUARACI",
          "JANESIO"
         ],
         "type": "violin",
         "uid": "932da67a-1157-11e9-9fbe-9cf387cc124e",
         "x": [
          "Cluster 1",
          "Cluster 1"
         ],
         "y": [
          0,
          0
         ]
        },
        {
         "box": {
          "visible": true
         },
         "line": {
          "color": "rgb(127,0,127)"
         },
         "marker": {
          "line": {
           "width": 1
          }
         },
         "meanline": {
          "visible": true
         },
         "name": "Cluster 2",
         "points": "all",
         "text": [
          "LUAN"
         ],
         "type": "violin",
         "uid": "932db018-1157-11e9-bbe7-9cf387cc124e",
         "x": [
          "Cluster 2"
         ],
         "y": [
          29
         ]
        },
        {
         "box": {
          "visible": true
         },
         "line": {
          "color": "rgb(0,0,255)"
         },
         "marker": {
          "line": {
           "width": 1
          }
         },
         "meanline": {
          "visible": true
         },
         "name": "Cluster 3",
         "points": "all",
         "text": [
          "TACIA",
          "DARLIEL",
          "ROLAND"
         ],
         "type": "violin",
         "uid": "932db18a-1157-11e9-86c0-9cf387cc124e",
         "x": [
          "Cluster 3",
          "Cluster 3",
          "Cluster 3"
         ],
         "y": [
          59,
          66,
          68
         ]
        },
        {
         "box": {
          "visible": true
         },
         "line": {
          "color": "rgb(0,255,0)"
         },
         "marker": {
          "line": {
           "width": 1
          }
         },
         "meanline": {
          "visible": true
         },
         "name": "Cluster 4",
         "points": "all",
         "text": [
          "IVAINA",
          "JOICIMEIRE",
          "NARAISA",
          "VALMICLEIA",
          "CINESIO"
         ],
         "type": "violin",
         "uid": "932db298-1157-11e9-a1b7-9cf387cc124e",
         "x": [
          "Cluster 4",
          "Cluster 4",
          "Cluster 4",
          "Cluster 4",
          "Cluster 4"
         ],
         "y": [
          64,
          65,
          73,
          74,
          80
         ]
        },
        {
         "box": {
          "visible": true
         },
         "line": {
          "color": "rgb(255, 192, 203)"
         },
         "marker": {
          "line": {
           "width": 1
          }
         },
         "meanline": {
          "visible": true
         },
         "name": "Cluster 5",
         "points": "all",
         "text": [
          "JOSELMA",
          "CLAUDELUCIA",
          "ADJAILSON",
          "ELIDONES",
          "JOSEIRES",
          "WIRTON"
         ],
         "type": "violin",
         "uid": "932db39c-1157-11e9-a924-9cf387cc124e",
         "x": [
          "Cluster 5",
          "Cluster 5",
          "Cluster 5",
          "Cluster 5",
          "Cluster 5",
          "Cluster 5"
         ],
         "y": [
          73,
          75,
          78,
          81,
          84,
          88
         ]
        },
        {
         "box": {
          "visible": true
         },
         "line": {
          "color": "rgb(131, 90, 241)"
         },
         "marker": {
          "line": {
           "width": 1
          }
         },
         "meanline": {
          "visible": true
         },
         "name": "Cluster 6",
         "points": "all",
         "text": [
          "TAIANI",
          "LUCIU",
          "NEUSMAR"
         ],
         "type": "violin",
         "uid": "932db48c-1157-11e9-b69f-9cf387cc124e",
         "x": [
          "Cluster 6",
          "Cluster 6",
          "Cluster 6"
         ],
         "y": [
          74,
          80,
          82
         ]
        }
       ],
       "layout": {
        "hovermode": "closest",
        "showlegend": true,
        "title": "Students' grades variation by cluster",
        "xaxis": {
         "title": "",
         "titlefont": {
          "color": "rgb(180,180,180)"
         }
        },
        "yaxis": {
         "fixedrange": false,
         "range": [
          -15,
          98
         ],
         "rangemode": "normal",
         "title": "Grades",
         "titlefont": {
          "color": "rgb(180,180,180)"
         },
         "zeroline": false
        }
       }
      },
      "text/html": [
       "<div id=\"7f0918ab-ed89-4845-a688-24a2dc26db91\" style=\"height: 525px; width: 100%;\" class=\"plotly-graph-div\"></div><script type=\"text/javascript\">require([\"plotly\"], function(Plotly) { window.PLOTLYENV=window.PLOTLYENV || {};window.PLOTLYENV.BASE_URL=\"https://plot.ly\";\n",
       "        Plotly.plot(\n",
       "            '7f0918ab-ed89-4845-a688-24a2dc26db91',\n",
       "            [{\"box\": {\"visible\": true}, \"line\": {\"color\": \"rgb(255,0,0)\"}, \"marker\": {\"line\": {\"width\": 1}}, \"meanline\": {\"visible\": true}, \"name\": \"Cluster 1\", \"points\": \"all\", \"text\": [\"GUARACI\", \"JANESIO\"], \"x\": [\"Cluster 1\", \"Cluster 1\"], \"y\": [0, 0], \"type\": \"violin\", \"uid\": \"932da67a-1157-11e9-9fbe-9cf387cc124e\"}, {\"box\": {\"visible\": true}, \"line\": {\"color\": \"rgb(127,0,127)\"}, \"marker\": {\"line\": {\"width\": 1}}, \"meanline\": {\"visible\": true}, \"name\": \"Cluster 2\", \"points\": \"all\", \"text\": [\"LUAN\"], \"x\": [\"Cluster 2\"], \"y\": [29], \"type\": \"violin\", \"uid\": \"932db018-1157-11e9-bbe7-9cf387cc124e\"}, {\"box\": {\"visible\": true}, \"line\": {\"color\": \"rgb(0,0,255)\"}, \"marker\": {\"line\": {\"width\": 1}}, \"meanline\": {\"visible\": true}, \"name\": \"Cluster 3\", \"points\": \"all\", \"text\": [\"TACIA\", \"DARLIEL\", \"ROLAND\"], \"x\": [\"Cluster 3\", \"Cluster 3\", \"Cluster 3\"], \"y\": [59, 66, 68], \"type\": \"violin\", \"uid\": \"932db18a-1157-11e9-86c0-9cf387cc124e\"}, {\"box\": {\"visible\": true}, \"line\": {\"color\": \"rgb(0,255,0)\"}, \"marker\": {\"line\": {\"width\": 1}}, \"meanline\": {\"visible\": true}, \"name\": \"Cluster 4\", \"points\": \"all\", \"text\": [\"IVAINA\", \"JOICIMEIRE\", \"NARAISA\", \"VALMICLEIA\", \"CINESIO\"], \"x\": [\"Cluster 4\", \"Cluster 4\", \"Cluster 4\", \"Cluster 4\", \"Cluster 4\"], \"y\": [64, 65, 73, 74, 80], \"type\": \"violin\", \"uid\": \"932db298-1157-11e9-a1b7-9cf387cc124e\"}, {\"box\": {\"visible\": true}, \"line\": {\"color\": \"rgb(255, 192, 203)\"}, \"marker\": {\"line\": {\"width\": 1}}, \"meanline\": {\"visible\": true}, \"name\": \"Cluster 5\", \"points\": \"all\", \"text\": [\"JOSELMA\", \"CLAUDELUCIA\", \"ADJAILSON\", \"ELIDONES\", \"JOSEIRES\", \"WIRTON\"], \"x\": [\"Cluster 5\", \"Cluster 5\", \"Cluster 5\", \"Cluster 5\", \"Cluster 5\", \"Cluster 5\"], \"y\": [73, 75, 78, 81, 84, 88], \"type\": \"violin\", \"uid\": \"932db39c-1157-11e9-a924-9cf387cc124e\"}, {\"box\": {\"visible\": true}, \"line\": {\"color\": \"rgb(131, 90, 241)\"}, \"marker\": {\"line\": {\"width\": 1}}, \"meanline\": {\"visible\": true}, \"name\": \"Cluster 6\", \"points\": \"all\", \"text\": [\"TAIANI\", \"LUCIU\", \"NEUSMAR\"], \"x\": [\"Cluster 6\", \"Cluster 6\", \"Cluster 6\"], \"y\": [74, 80, 82], \"type\": \"violin\", \"uid\": \"932db48c-1157-11e9-b69f-9cf387cc124e\"}],\n",
       "            {\"hovermode\": \"closest\", \"showlegend\": true, \"title\": \"Students' grades variation by cluster\", \"xaxis\": {\"title\": \"\", \"titlefont\": {\"color\": \"rgb(180,180,180)\"}}, \"yaxis\": {\"fixedrange\": false, \"range\": [-15, 98], \"rangemode\": \"normal\", \"title\": \"Grades\", \"titlefont\": {\"color\": \"rgb(180,180,180)\"}, \"zeroline\": false}},\n",
       "            {\"showLink\": true, \"linkText\": \"Export to plot.ly\"}\n",
       "        ).then(function () {return Plotly.addFrames('7f0918ab-ed89-4845-a688-24a2dc26db91',{});}).then(function(){Plotly.animate('7f0918ab-ed89-4845-a688-24a2dc26db91');})\n",
       "        });</script>"
      ],
      "text/vnd.plotly.v1+html": [
       "<div id=\"7f0918ab-ed89-4845-a688-24a2dc26db91\" style=\"height: 525px; width: 100%;\" class=\"plotly-graph-div\"></div><script type=\"text/javascript\">require([\"plotly\"], function(Plotly) { window.PLOTLYENV=window.PLOTLYENV || {};window.PLOTLYENV.BASE_URL=\"https://plot.ly\";\n",
       "        Plotly.plot(\n",
       "            '7f0918ab-ed89-4845-a688-24a2dc26db91',\n",
       "            [{\"box\": {\"visible\": true}, \"line\": {\"color\": \"rgb(255,0,0)\"}, \"marker\": {\"line\": {\"width\": 1}}, \"meanline\": {\"visible\": true}, \"name\": \"Cluster 1\", \"points\": \"all\", \"text\": [\"GUARACI\", \"JANESIO\"], \"x\": [\"Cluster 1\", \"Cluster 1\"], \"y\": [0, 0], \"type\": \"violin\", \"uid\": \"932da67a-1157-11e9-9fbe-9cf387cc124e\"}, {\"box\": {\"visible\": true}, \"line\": {\"color\": \"rgb(127,0,127)\"}, \"marker\": {\"line\": {\"width\": 1}}, \"meanline\": {\"visible\": true}, \"name\": \"Cluster 2\", \"points\": \"all\", \"text\": [\"LUAN\"], \"x\": [\"Cluster 2\"], \"y\": [29], \"type\": \"violin\", \"uid\": \"932db018-1157-11e9-bbe7-9cf387cc124e\"}, {\"box\": {\"visible\": true}, \"line\": {\"color\": \"rgb(0,0,255)\"}, \"marker\": {\"line\": {\"width\": 1}}, \"meanline\": {\"visible\": true}, \"name\": \"Cluster 3\", \"points\": \"all\", \"text\": [\"TACIA\", \"DARLIEL\", \"ROLAND\"], \"x\": [\"Cluster 3\", \"Cluster 3\", \"Cluster 3\"], \"y\": [59, 66, 68], \"type\": \"violin\", \"uid\": \"932db18a-1157-11e9-86c0-9cf387cc124e\"}, {\"box\": {\"visible\": true}, \"line\": {\"color\": \"rgb(0,255,0)\"}, \"marker\": {\"line\": {\"width\": 1}}, \"meanline\": {\"visible\": true}, \"name\": \"Cluster 4\", \"points\": \"all\", \"text\": [\"IVAINA\", \"JOICIMEIRE\", \"NARAISA\", \"VALMICLEIA\", \"CINESIO\"], \"x\": [\"Cluster 4\", \"Cluster 4\", \"Cluster 4\", \"Cluster 4\", \"Cluster 4\"], \"y\": [64, 65, 73, 74, 80], \"type\": \"violin\", \"uid\": \"932db298-1157-11e9-a1b7-9cf387cc124e\"}, {\"box\": {\"visible\": true}, \"line\": {\"color\": \"rgb(255, 192, 203)\"}, \"marker\": {\"line\": {\"width\": 1}}, \"meanline\": {\"visible\": true}, \"name\": \"Cluster 5\", \"points\": \"all\", \"text\": [\"JOSELMA\", \"CLAUDELUCIA\", \"ADJAILSON\", \"ELIDONES\", \"JOSEIRES\", \"WIRTON\"], \"x\": [\"Cluster 5\", \"Cluster 5\", \"Cluster 5\", \"Cluster 5\", \"Cluster 5\", \"Cluster 5\"], \"y\": [73, 75, 78, 81, 84, 88], \"type\": \"violin\", \"uid\": \"932db39c-1157-11e9-a924-9cf387cc124e\"}, {\"box\": {\"visible\": true}, \"line\": {\"color\": \"rgb(131, 90, 241)\"}, \"marker\": {\"line\": {\"width\": 1}}, \"meanline\": {\"visible\": true}, \"name\": \"Cluster 6\", \"points\": \"all\", \"text\": [\"TAIANI\", \"LUCIU\", \"NEUSMAR\"], \"x\": [\"Cluster 6\", \"Cluster 6\", \"Cluster 6\"], \"y\": [74, 80, 82], \"type\": \"violin\", \"uid\": \"932db48c-1157-11e9-b69f-9cf387cc124e\"}],\n",
       "            {\"hovermode\": \"closest\", \"showlegend\": true, \"title\": \"Students' grades variation by cluster\", \"xaxis\": {\"title\": \"\", \"titlefont\": {\"color\": \"rgb(180,180,180)\"}}, \"yaxis\": {\"fixedrange\": false, \"range\": [-15, 98], \"rangemode\": \"normal\", \"title\": \"Grades\", \"titlefont\": {\"color\": \"rgb(180,180,180)\"}, \"zeroline\": false}},\n",
       "            {\"showLink\": true, \"linkText\": \"Export to plot.ly\"}\n",
       "        ).then(function () {return Plotly.addFrames('7f0918ab-ed89-4845-a688-24a2dc26db91',{});}).then(function(){Plotly.animate('7f0918ab-ed89-4845-a688-24a2dc26db91');})\n",
       "        });</script>"
      ]
     },
     "metadata": {},
     "output_type": "display_data"
    }
   ],
   "source": [
    "instance = V007()\n",
    "instance.generate_dataset(number_students = 20)\n",
    "# instance.print_all_graphs(\"pt\")\n",
    "instance.print_all_graphs(\"en\")"
   ]
  },
  {
   "cell_type": "markdown",
   "metadata": {},
   "source": [
    "### View 008 - Acesso dos estudantes no AVA por dia ou semana"
   ]
  },
  {
   "cell_type": "code",
   "execution_count": null,
   "metadata": {
    "scrolled": true
   },
   "outputs": [],
   "source": [
    "run V008.py"
   ]
  },
  {
   "cell_type": "code",
   "execution_count": null,
   "metadata": {
    "scrolled": false
   },
   "outputs": [],
   "source": [
    "instance = V008()\n",
    "instance.generate_dataset(number_students=35, number_weeks=7)\n",
    "# instance.print_all_graphs(\"pt\")\n",
    "instance.print_all_graphs(\"en\")"
   ]
  },
  {
   "cell_type": "markdown",
   "metadata": {},
   "source": [
    "### View 009 - Interação dos estudantes nos vídeos (play, pause, backward, forward)"
   ]
  },
  {
   "cell_type": "code",
   "execution_count": 7,
   "metadata": {},
   "outputs": [
    {
     "data": {
      "text/html": [
       "<script>requirejs.config({paths: { 'plotly': ['https://cdn.plot.ly/plotly-latest.min']},});if(!window.Plotly) {{require(['plotly'],function(plotly) {window.Plotly=plotly;});}}</script>"
      ],
      "text/vnd.plotly.v1+html": [
       "<script>requirejs.config({paths: { 'plotly': ['https://cdn.plot.ly/plotly-latest.min']},});if(!window.Plotly) {{require(['plotly'],function(plotly) {window.Plotly=plotly;});}}</script>"
      ]
     },
     "metadata": {},
     "output_type": "display_data"
    }
   ],
   "source": [
    "run V009.py"
   ]
  },
  {
   "cell_type": "code",
   "execution_count": 8,
   "metadata": {},
   "outputs": [
    {
     "data": {
      "application/vnd.plotly.v1+json": {
       "data": [
        {
         "cells": {
          "align": [
           "left",
           "center"
          ],
          "fill": {
           "color": "#F5F8FF"
          },
          "values": [
           [
            0,
            1,
            2,
            3,
            4,
            5,
            6,
            7,
            8,
            9,
            10,
            11,
            12,
            13,
            14,
            15,
            16,
            17,
            18,
            19,
            20,
            21,
            22,
            23,
            24,
            25,
            26,
            27,
            28,
            29,
            30,
            31,
            32,
            33,
            34,
            35,
            36,
            37,
            38,
            39,
            40,
            41,
            42,
            43,
            44,
            45,
            46,
            47,
            48,
            49,
            50,
            51,
            52,
            53,
            54,
            55,
            56,
            57,
            58,
            59,
            60,
            61,
            62,
            63,
            64,
            65,
            66,
            67,
            68,
            69,
            70,
            71,
            72,
            73,
            74,
            75,
            76,
            77,
            78,
            79,
            80,
            81,
            82,
            83,
            84,
            85,
            86,
            87,
            88,
            89,
            90,
            91,
            92,
            93,
            94,
            95,
            96,
            97,
            98,
            99,
            100,
            101,
            102,
            103,
            104,
            105,
            106,
            107,
            108,
            109,
            110,
            111,
            112,
            113,
            114,
            115,
            116,
            117,
            118,
            119,
            120,
            121,
            122,
            123,
            124,
            125,
            126,
            127,
            128,
            129,
            130,
            131,
            132,
            133,
            134,
            135,
            136,
            137,
            138,
            139,
            140,
            141,
            142,
            143,
            144,
            145,
            146,
            147,
            148,
            149,
            150,
            151,
            152,
            153,
            154,
            155,
            156,
            157,
            158,
            159,
            160,
            161,
            162,
            163,
            164,
            165,
            166,
            167,
            168,
            169,
            170,
            171,
            172
           ],
           [
            "ABIDIEL",
            "ABIDIEL",
            "ABIDIEL",
            "ABIDIEL",
            "ABIDIEL",
            "ABIDIEL",
            "ABIDIEL",
            "ABIDIEL",
            "ACELIA",
            "ACELIA",
            "ACELIA",
            "ACELIA",
            "ACELIA",
            "ACELIA",
            "ACELIA",
            "ACELIA",
            "ACELIA",
            "ACELIA",
            "ADELCI",
            "ADELCI",
            "ADELCI",
            "ADELCI",
            "ADELCI",
            "ADELCI",
            "ADELCI",
            "ADELCI",
            "ADELCI",
            "ADELCI",
            "ADELIRIO",
            "ADELIRIO",
            "ADELIRIO",
            "ADELIRIO",
            "ADELIRIO",
            "ADELIRIO",
            "ADELIRIO",
            "ADELIRIO",
            "ADNILZA",
            "ADNILZA",
            "ADNILZA",
            "ADNILZA",
            "ADNILZA",
            "ADNILZA",
            "ADNILZA",
            "ADNILZA",
            "ADNILZA",
            "ADNILZA",
            "AGLESIO",
            "AGLESIO",
            "AGLESIO",
            "AGLESIO",
            "AGLESIO",
            "AGLESIO",
            "AGLESIO",
            "AGLESIO",
            "AGLESIO",
            "AGLESIO",
            "ALBINO",
            "ALBINO",
            "ALBINO",
            "ALBINO",
            "ALBINO",
            "ALBINO",
            "ALBINO",
            "ALBINO",
            "ALBINO",
            "ALBINO",
            "ALCIDIO",
            "ALCIDIO",
            "ALCIDIO",
            "ALCIDIO",
            "ALCIDIO",
            "ALCIMARA",
            "ALCIMARA",
            "ALCIMARA",
            "ALCIMARA",
            "ALCINEIDE",
            "ALCINEIDE",
            "ALCINEIDE",
            "ALCINEIDE",
            "ALCINEIDE",
            "ALCINEIDE",
            "ALCINEIDE",
            "ALCINEIDE",
            "ALCINEIDE",
            "ALCINEIDE",
            "ALDEILDO",
            "ALDEILDO",
            "ALDEILDO",
            "ALDEILDO",
            "ALDEILDO",
            "ALDEILDO",
            "ALDEILDO",
            "ALDEILDO",
            "ALDEILDO",
            "ALDEILDO",
            "ALENCASTRO",
            "ALENCASTRO",
            "ALEXANDERSON",
            "ALEXANDERSON",
            "ALEXANDERSON",
            "ALEXANDERSON",
            "ALEXANDERSON",
            "ALEXANDERSON",
            "ALEXANDERSON",
            "ALEXANDERSON",
            "ALEXANDERSON",
            "ALEXANDERSON",
            "ALLANY",
            "ALLANY",
            "ALLANY",
            "ALLANY",
            "ALLANY",
            "ALLANY",
            "ALLANY",
            "ALLANY",
            "ALLANY",
            "ALTEMAR",
            "ALTEMAR",
            "ALTEMAR",
            "ALTEMAR",
            "ALTEMAR",
            "ALTEMAR",
            "ALTEMAR",
            "ALTEMAR",
            "ALTEMAR",
            "ALTEMAR",
            "ALTEMAR",
            "ALTEMAR",
            "ALTEMAR",
            "ALTEMAR",
            "ALTEMAR",
            "ALTEMAR",
            "ALZENA",
            "ALZENA",
            "AMAURICIO",
            "AMAURICIO",
            "AMAURICIO",
            "AMORESIO",
            "AMORESIO",
            "AMORESIO",
            "ANACLEUDE",
            "ANACLEUDE",
            "ANALIS",
            "ANALIS",
            "ANALIS",
            "ANALIS",
            "ANALIS",
            "ANALIS",
            "ANALIS",
            "ANALIS",
            "ANALIS",
            "ANALIS",
            "ANDERCI",
            "ANDERCI",
            "ANDERCI",
            "ANDERCI",
            "ANDERCI",
            "ANDERCI",
            "ANDERCI",
            "ANDERCI",
            "ANDERCI",
            "ANDERCI",
            "ANDRIELE",
            "ANDRIELE",
            "ANDRIELE",
            "ANDRIELE",
            "ANDRIELE",
            "ANDRIELE",
            "ANELISIA",
            "ANELISIA",
            "ANELISIA",
            "ANELISIA",
            "ANELISIA"
           ],
           [
            "Play at 0s",
            "Pause at 17s",
            "Seek from 17s to 13s",
            "Pause at 13s",
            "Seek from 13s to 12s",
            "Pause at 20s",
            "Play at 20s",
            "Dropout at 20s",
            "Play at 0s",
            "Pause at 7s",
            "Play at 7s",
            "Seek from 17s to 11s",
            "Pause at 15s",
            "Play at 15s",
            "Pause at 17s",
            "Play at 17s",
            "Seek from 21s to 20s",
            "Seek from 21s to 4s",
            "Play at 0s",
            "Pause at 3s",
            "Play at 3s",
            "Pause at 3s",
            "Play at 3s",
            "Pause at 21s",
            "Play at 21s",
            "Pause at 22s",
            "Play at 22s",
            "Seek from 25s to 17s",
            "Play at 0s",
            "Pause at 11s",
            "Seek from 11s to 18s",
            "Pause at 28s",
            "Play at 28s",
            "Pause at 29s",
            "Play at 29s",
            "Dropout at 29s",
            "Play at 0s",
            "Pause at 27s",
            "Seek from 27s to 6s",
            "Pause at 27s",
            "Play at 27s",
            "Seek from 27s to 9s",
            "Pause at 9s",
            "Play at 9s",
            "Seek from 14s to 10s",
            "Seek from 18s to 19s",
            "Play at 0s",
            "Pause at 17s",
            "Seek from 17s to 16s",
            "Seek from 22s to 2s",
            "Seek from 6s to 2s",
            "Pause at 20s",
            "Play at 20s",
            "Pause at 20s",
            "Play at 20s",
            "Pause at 26s",
            "Play at 0s",
            "Pause at 6s",
            "Seek from 6s to 4s",
            "Pause at 9s",
            "Play at 9s",
            "Pause at 10s",
            "Play at 10s",
            "Seek from 16s to 8s",
            "Seek from 11s to 14s",
            "Dropout at 14s",
            "Play at 0s",
            "Seek from 22s to 0s",
            "Seek from 15s to 16s",
            "Seek from 18s to 15s",
            "Dropout at 15s",
            "Play at 0s",
            "Pause at 17s",
            "Seek from 17s to 19s",
            "Dropout at 19s",
            "Play at 0s",
            "Seek from 4s to 8s",
            "Seek from 17s to 27s",
            "Pause at 27s",
            "Play at 27s",
            "Pause at 28s",
            "Seek from 28s to 14s",
            "Seek from 14s to 4s",
            "Pause at 9s",
            "Play at 9s",
            "Play at 0s",
            "Pause at 2s",
            "Play at 2s",
            "Seek from 14s to 0s",
            "Seek from 11s to 15s",
            "Pause at 21s",
            "Seek from 21s to 12s",
            "Pause at 22s",
            "Play at 22s",
            "Seek from 22s to 21s",
            "Play at 0s",
            "Dropout at 0s",
            "Play at 0s",
            "Seek from 1s to 8s",
            "Pause at 17s",
            "Seek from 17s to 18s",
            "Pause at 26s",
            "Seek from 26s to 15s",
            "Seek from 26s to 11s",
            "Seek from 20s to 18s",
            "Pause at 22s",
            "Play at 22s",
            "Play at 0s",
            "Pause at 3s",
            "Seek from 3s to 25s",
            "Seek from 26s to 16s",
            "Pause at 16s",
            "Play at 16s",
            "Seek from 21s to 14s",
            "Seek from 16s to 13s",
            "Dropout at 13s",
            "Play at 0s",
            "Seek from 2s to 16s",
            "Seek from 18s to 10s",
            "Seek from 11s to 3s",
            "Pause at 18s",
            "Play at 18s",
            "Pause at 27s",
            "Play at 27s",
            "Pause at 28s",
            "Play at 28s",
            "Play at 0s",
            "Seek from 8s to 21s",
            "Seek from 22s to 18s",
            "Seek from 23s to 20s",
            "Seek from 28s to 21s",
            "Dropout at 21s",
            "Play at 0s",
            "Dropout at 0s",
            "Play at 0s",
            "Seek from 9s to 13s",
            "Dropout at 13s",
            "Play at 0s",
            "Seek from 23s to 6s",
            "Dropout at 6s",
            "Play at 0s",
            "Dropout at 0s",
            "Play at 0s",
            "Seek from 23s to 11s",
            "Seek from 15s to 16s",
            "Pause at 22s",
            "Play at 22s",
            "Pause at 25s",
            "Play at 25s",
            "Pause at 25s",
            "Play at 25s",
            "Pause at 25s",
            "Play at 0s",
            "Pause at 10s",
            "Seek from 10s to 15s",
            "Pause at 19s",
            "Play at 19s",
            "Pause at 20s",
            "Play at 20s",
            "Pause at 23s",
            "Seek from 23s to 27s",
            "Pause at 27s",
            "Play at 0s",
            "Seek from 6s to 23s",
            "Seek from 24s to 21s",
            "Seek from 22s to 19s",
            "Seek from 21s to 26s",
            "Dropout at 26s",
            "Play at 0s",
            "Pause at 19s",
            "Play at 19s",
            "Seek from 25s to 18s",
            "Dropout at 18s"
           ]
          ]
         },
         "header": {
          "align": "center",
          "fill": {
           "color": "#C2D4FF"
          },
          "values": [
           "Unnamed: 0",
           "Students",
           "Action"
          ]
         },
         "type": "table",
         "uid": "7969dc88-11e8-11e9-9dfb-9cf387cc124e"
        }
       ],
       "layout": {}
      },
      "text/html": [
       "<div id=\"3e0f5fbf-d7e6-40b8-9d49-56d2504dc6f2\" style=\"height: 525px; width: 100%;\" class=\"plotly-graph-div\"></div><script type=\"text/javascript\">require([\"plotly\"], function(Plotly) { window.PLOTLYENV=window.PLOTLYENV || {};window.PLOTLYENV.BASE_URL=\"https://plot.ly\";Plotly.newPlot(\"3e0f5fbf-d7e6-40b8-9d49-56d2504dc6f2\", [{\"cells\": {\"align\": [\"left\", \"center\"], \"fill\": {\"color\": \"#F5F8FF\"}, \"values\": [[0, 1, 2, 3, 4, 5, 6, 7, 8, 9, 10, 11, 12, 13, 14, 15, 16, 17, 18, 19, 20, 21, 22, 23, 24, 25, 26, 27, 28, 29, 30, 31, 32, 33, 34, 35, 36, 37, 38, 39, 40, 41, 42, 43, 44, 45, 46, 47, 48, 49, 50, 51, 52, 53, 54, 55, 56, 57, 58, 59, 60, 61, 62, 63, 64, 65, 66, 67, 68, 69, 70, 71, 72, 73, 74, 75, 76, 77, 78, 79, 80, 81, 82, 83, 84, 85, 86, 87, 88, 89, 90, 91, 92, 93, 94, 95, 96, 97, 98, 99, 100, 101, 102, 103, 104, 105, 106, 107, 108, 109, 110, 111, 112, 113, 114, 115, 116, 117, 118, 119, 120, 121, 122, 123, 124, 125, 126, 127, 128, 129, 130, 131, 132, 133, 134, 135, 136, 137, 138, 139, 140, 141, 142, 143, 144, 145, 146, 147, 148, 149, 150, 151, 152, 153, 154, 155, 156, 157, 158, 159, 160, 161, 162, 163, 164, 165, 166, 167, 168, 169, 170, 171, 172], [\"ABIDIEL\", \"ABIDIEL\", \"ABIDIEL\", \"ABIDIEL\", \"ABIDIEL\", \"ABIDIEL\", \"ABIDIEL\", \"ABIDIEL\", \"ACELIA\", \"ACELIA\", \"ACELIA\", \"ACELIA\", \"ACELIA\", \"ACELIA\", \"ACELIA\", \"ACELIA\", \"ACELIA\", \"ACELIA\", \"ADELCI\", \"ADELCI\", \"ADELCI\", \"ADELCI\", \"ADELCI\", \"ADELCI\", \"ADELCI\", \"ADELCI\", \"ADELCI\", \"ADELCI\", \"ADELIRIO\", \"ADELIRIO\", \"ADELIRIO\", \"ADELIRIO\", \"ADELIRIO\", \"ADELIRIO\", \"ADELIRIO\", \"ADELIRIO\", \"ADNILZA\", \"ADNILZA\", \"ADNILZA\", \"ADNILZA\", \"ADNILZA\", \"ADNILZA\", \"ADNILZA\", \"ADNILZA\", \"ADNILZA\", \"ADNILZA\", \"AGLESIO\", \"AGLESIO\", \"AGLESIO\", \"AGLESIO\", \"AGLESIO\", \"AGLESIO\", \"AGLESIO\", \"AGLESIO\", \"AGLESIO\", \"AGLESIO\", \"ALBINO\", \"ALBINO\", \"ALBINO\", \"ALBINO\", \"ALBINO\", \"ALBINO\", \"ALBINO\", \"ALBINO\", \"ALBINO\", \"ALBINO\", \"ALCIDIO\", \"ALCIDIO\", \"ALCIDIO\", \"ALCIDIO\", \"ALCIDIO\", \"ALCIMARA\", \"ALCIMARA\", \"ALCIMARA\", \"ALCIMARA\", \"ALCINEIDE\", \"ALCINEIDE\", \"ALCINEIDE\", \"ALCINEIDE\", \"ALCINEIDE\", \"ALCINEIDE\", \"ALCINEIDE\", \"ALCINEIDE\", \"ALCINEIDE\", \"ALCINEIDE\", \"ALDEILDO\", \"ALDEILDO\", \"ALDEILDO\", \"ALDEILDO\", \"ALDEILDO\", \"ALDEILDO\", \"ALDEILDO\", \"ALDEILDO\", \"ALDEILDO\", \"ALDEILDO\", \"ALENCASTRO\", \"ALENCASTRO\", \"ALEXANDERSON\", \"ALEXANDERSON\", \"ALEXANDERSON\", \"ALEXANDERSON\", \"ALEXANDERSON\", \"ALEXANDERSON\", \"ALEXANDERSON\", \"ALEXANDERSON\", \"ALEXANDERSON\", \"ALEXANDERSON\", \"ALLANY\", \"ALLANY\", \"ALLANY\", \"ALLANY\", \"ALLANY\", \"ALLANY\", \"ALLANY\", \"ALLANY\", \"ALLANY\", \"ALTEMAR\", \"ALTEMAR\", \"ALTEMAR\", \"ALTEMAR\", \"ALTEMAR\", \"ALTEMAR\", \"ALTEMAR\", \"ALTEMAR\", \"ALTEMAR\", \"ALTEMAR\", \"ALTEMAR\", \"ALTEMAR\", \"ALTEMAR\", \"ALTEMAR\", \"ALTEMAR\", \"ALTEMAR\", \"ALZENA\", \"ALZENA\", \"AMAURICIO\", \"AMAURICIO\", \"AMAURICIO\", \"AMORESIO\", \"AMORESIO\", \"AMORESIO\", \"ANACLEUDE\", \"ANACLEUDE\", \"ANALIS\", \"ANALIS\", \"ANALIS\", \"ANALIS\", \"ANALIS\", \"ANALIS\", \"ANALIS\", \"ANALIS\", \"ANALIS\", \"ANALIS\", \"ANDERCI\", \"ANDERCI\", \"ANDERCI\", \"ANDERCI\", \"ANDERCI\", \"ANDERCI\", \"ANDERCI\", \"ANDERCI\", \"ANDERCI\", \"ANDERCI\", \"ANDRIELE\", \"ANDRIELE\", \"ANDRIELE\", \"ANDRIELE\", \"ANDRIELE\", \"ANDRIELE\", \"ANELISIA\", \"ANELISIA\", \"ANELISIA\", \"ANELISIA\", \"ANELISIA\"], [\"Play at 0s\", \"Pause at 17s\", \"Seek from 17s to 13s\", \"Pause at 13s\", \"Seek from 13s to 12s\", \"Pause at 20s\", \"Play at 20s\", \"Dropout at 20s\", \"Play at 0s\", \"Pause at 7s\", \"Play at 7s\", \"Seek from 17s to 11s\", \"Pause at 15s\", \"Play at 15s\", \"Pause at 17s\", \"Play at 17s\", \"Seek from 21s to 20s\", \"Seek from 21s to 4s\", \"Play at 0s\", \"Pause at 3s\", \"Play at 3s\", \"Pause at 3s\", \"Play at 3s\", \"Pause at 21s\", \"Play at 21s\", \"Pause at 22s\", \"Play at 22s\", \"Seek from 25s to 17s\", \"Play at 0s\", \"Pause at 11s\", \"Seek from 11s to 18s\", \"Pause at 28s\", \"Play at 28s\", \"Pause at 29s\", \"Play at 29s\", \"Dropout at 29s\", \"Play at 0s\", \"Pause at 27s\", \"Seek from 27s to 6s\", \"Pause at 27s\", \"Play at 27s\", \"Seek from 27s to 9s\", \"Pause at 9s\", \"Play at 9s\", \"Seek from 14s to 10s\", \"Seek from 18s to 19s\", \"Play at 0s\", \"Pause at 17s\", \"Seek from 17s to 16s\", \"Seek from 22s to 2s\", \"Seek from 6s to 2s\", \"Pause at 20s\", \"Play at 20s\", \"Pause at 20s\", \"Play at 20s\", \"Pause at 26s\", \"Play at 0s\", \"Pause at 6s\", \"Seek from 6s to 4s\", \"Pause at 9s\", \"Play at 9s\", \"Pause at 10s\", \"Play at 10s\", \"Seek from 16s to 8s\", \"Seek from 11s to 14s\", \"Dropout at 14s\", \"Play at 0s\", \"Seek from 22s to 0s\", \"Seek from 15s to 16s\", \"Seek from 18s to 15s\", \"Dropout at 15s\", \"Play at 0s\", \"Pause at 17s\", \"Seek from 17s to 19s\", \"Dropout at 19s\", \"Play at 0s\", \"Seek from 4s to 8s\", \"Seek from 17s to 27s\", \"Pause at 27s\", \"Play at 27s\", \"Pause at 28s\", \"Seek from 28s to 14s\", \"Seek from 14s to 4s\", \"Pause at 9s\", \"Play at 9s\", \"Play at 0s\", \"Pause at 2s\", \"Play at 2s\", \"Seek from 14s to 0s\", \"Seek from 11s to 15s\", \"Pause at 21s\", \"Seek from 21s to 12s\", \"Pause at 22s\", \"Play at 22s\", \"Seek from 22s to 21s\", \"Play at 0s\", \"Dropout at 0s\", \"Play at 0s\", \"Seek from 1s to 8s\", \"Pause at 17s\", \"Seek from 17s to 18s\", \"Pause at 26s\", \"Seek from 26s to 15s\", \"Seek from 26s to 11s\", \"Seek from 20s to 18s\", \"Pause at 22s\", \"Play at 22s\", \"Play at 0s\", \"Pause at 3s\", \"Seek from 3s to 25s\", \"Seek from 26s to 16s\", \"Pause at 16s\", \"Play at 16s\", \"Seek from 21s to 14s\", \"Seek from 16s to 13s\", \"Dropout at 13s\", \"Play at 0s\", \"Seek from 2s to 16s\", \"Seek from 18s to 10s\", \"Seek from 11s to 3s\", \"Pause at 18s\", \"Play at 18s\", \"Pause at 27s\", \"Play at 27s\", \"Pause at 28s\", \"Play at 28s\", \"Play at 0s\", \"Seek from 8s to 21s\", \"Seek from 22s to 18s\", \"Seek from 23s to 20s\", \"Seek from 28s to 21s\", \"Dropout at 21s\", \"Play at 0s\", \"Dropout at 0s\", \"Play at 0s\", \"Seek from 9s to 13s\", \"Dropout at 13s\", \"Play at 0s\", \"Seek from 23s to 6s\", \"Dropout at 6s\", \"Play at 0s\", \"Dropout at 0s\", \"Play at 0s\", \"Seek from 23s to 11s\", \"Seek from 15s to 16s\", \"Pause at 22s\", \"Play at 22s\", \"Pause at 25s\", \"Play at 25s\", \"Pause at 25s\", \"Play at 25s\", \"Pause at 25s\", \"Play at 0s\", \"Pause at 10s\", \"Seek from 10s to 15s\", \"Pause at 19s\", \"Play at 19s\", \"Pause at 20s\", \"Play at 20s\", \"Pause at 23s\", \"Seek from 23s to 27s\", \"Pause at 27s\", \"Play at 0s\", \"Seek from 6s to 23s\", \"Seek from 24s to 21s\", \"Seek from 22s to 19s\", \"Seek from 21s to 26s\", \"Dropout at 26s\", \"Play at 0s\", \"Pause at 19s\", \"Play at 19s\", \"Seek from 25s to 18s\", \"Dropout at 18s\"]]}, \"header\": {\"align\": \"center\", \"fill\": {\"color\": \"#C2D4FF\"}, \"values\": [\"Unnamed: 0\", \"Students\", \"Action\"]}, \"type\": \"table\", \"uid\": \"7971b806-11e8-11e9-9a94-9cf387cc124e\"}], {}, {\"showLink\": true, \"linkText\": \"Export to plot.ly\"})});</script>"
      ],
      "text/vnd.plotly.v1+html": [
       "<div id=\"3e0f5fbf-d7e6-40b8-9d49-56d2504dc6f2\" style=\"height: 525px; width: 100%;\" class=\"plotly-graph-div\"></div><script type=\"text/javascript\">require([\"plotly\"], function(Plotly) { window.PLOTLYENV=window.PLOTLYENV || {};window.PLOTLYENV.BASE_URL=\"https://plot.ly\";Plotly.newPlot(\"3e0f5fbf-d7e6-40b8-9d49-56d2504dc6f2\", [{\"cells\": {\"align\": [\"left\", \"center\"], \"fill\": {\"color\": \"#F5F8FF\"}, \"values\": [[0, 1, 2, 3, 4, 5, 6, 7, 8, 9, 10, 11, 12, 13, 14, 15, 16, 17, 18, 19, 20, 21, 22, 23, 24, 25, 26, 27, 28, 29, 30, 31, 32, 33, 34, 35, 36, 37, 38, 39, 40, 41, 42, 43, 44, 45, 46, 47, 48, 49, 50, 51, 52, 53, 54, 55, 56, 57, 58, 59, 60, 61, 62, 63, 64, 65, 66, 67, 68, 69, 70, 71, 72, 73, 74, 75, 76, 77, 78, 79, 80, 81, 82, 83, 84, 85, 86, 87, 88, 89, 90, 91, 92, 93, 94, 95, 96, 97, 98, 99, 100, 101, 102, 103, 104, 105, 106, 107, 108, 109, 110, 111, 112, 113, 114, 115, 116, 117, 118, 119, 120, 121, 122, 123, 124, 125, 126, 127, 128, 129, 130, 131, 132, 133, 134, 135, 136, 137, 138, 139, 140, 141, 142, 143, 144, 145, 146, 147, 148, 149, 150, 151, 152, 153, 154, 155, 156, 157, 158, 159, 160, 161, 162, 163, 164, 165, 166, 167, 168, 169, 170, 171, 172], [\"ABIDIEL\", \"ABIDIEL\", \"ABIDIEL\", \"ABIDIEL\", \"ABIDIEL\", \"ABIDIEL\", \"ABIDIEL\", \"ABIDIEL\", \"ACELIA\", \"ACELIA\", \"ACELIA\", \"ACELIA\", \"ACELIA\", \"ACELIA\", \"ACELIA\", \"ACELIA\", \"ACELIA\", \"ACELIA\", \"ADELCI\", \"ADELCI\", \"ADELCI\", \"ADELCI\", \"ADELCI\", \"ADELCI\", \"ADELCI\", \"ADELCI\", \"ADELCI\", \"ADELCI\", \"ADELIRIO\", \"ADELIRIO\", \"ADELIRIO\", \"ADELIRIO\", \"ADELIRIO\", \"ADELIRIO\", \"ADELIRIO\", \"ADELIRIO\", \"ADNILZA\", \"ADNILZA\", \"ADNILZA\", \"ADNILZA\", \"ADNILZA\", \"ADNILZA\", \"ADNILZA\", \"ADNILZA\", \"ADNILZA\", \"ADNILZA\", \"AGLESIO\", \"AGLESIO\", \"AGLESIO\", \"AGLESIO\", \"AGLESIO\", \"AGLESIO\", \"AGLESIO\", \"AGLESIO\", \"AGLESIO\", \"AGLESIO\", \"ALBINO\", \"ALBINO\", \"ALBINO\", \"ALBINO\", \"ALBINO\", \"ALBINO\", \"ALBINO\", \"ALBINO\", \"ALBINO\", \"ALBINO\", \"ALCIDIO\", \"ALCIDIO\", \"ALCIDIO\", \"ALCIDIO\", \"ALCIDIO\", \"ALCIMARA\", \"ALCIMARA\", \"ALCIMARA\", \"ALCIMARA\", \"ALCINEIDE\", \"ALCINEIDE\", \"ALCINEIDE\", \"ALCINEIDE\", \"ALCINEIDE\", \"ALCINEIDE\", \"ALCINEIDE\", \"ALCINEIDE\", \"ALCINEIDE\", \"ALCINEIDE\", \"ALDEILDO\", \"ALDEILDO\", \"ALDEILDO\", \"ALDEILDO\", \"ALDEILDO\", \"ALDEILDO\", \"ALDEILDO\", \"ALDEILDO\", \"ALDEILDO\", \"ALDEILDO\", \"ALENCASTRO\", \"ALENCASTRO\", \"ALEXANDERSON\", \"ALEXANDERSON\", \"ALEXANDERSON\", \"ALEXANDERSON\", \"ALEXANDERSON\", \"ALEXANDERSON\", \"ALEXANDERSON\", \"ALEXANDERSON\", \"ALEXANDERSON\", \"ALEXANDERSON\", \"ALLANY\", \"ALLANY\", \"ALLANY\", \"ALLANY\", \"ALLANY\", \"ALLANY\", \"ALLANY\", \"ALLANY\", \"ALLANY\", \"ALTEMAR\", \"ALTEMAR\", \"ALTEMAR\", \"ALTEMAR\", \"ALTEMAR\", \"ALTEMAR\", \"ALTEMAR\", \"ALTEMAR\", \"ALTEMAR\", \"ALTEMAR\", \"ALTEMAR\", \"ALTEMAR\", \"ALTEMAR\", \"ALTEMAR\", \"ALTEMAR\", \"ALTEMAR\", \"ALZENA\", \"ALZENA\", \"AMAURICIO\", \"AMAURICIO\", \"AMAURICIO\", \"AMORESIO\", \"AMORESIO\", \"AMORESIO\", \"ANACLEUDE\", \"ANACLEUDE\", \"ANALIS\", \"ANALIS\", \"ANALIS\", \"ANALIS\", \"ANALIS\", \"ANALIS\", \"ANALIS\", \"ANALIS\", \"ANALIS\", \"ANALIS\", \"ANDERCI\", \"ANDERCI\", \"ANDERCI\", \"ANDERCI\", \"ANDERCI\", \"ANDERCI\", \"ANDERCI\", \"ANDERCI\", \"ANDERCI\", \"ANDERCI\", \"ANDRIELE\", \"ANDRIELE\", \"ANDRIELE\", \"ANDRIELE\", \"ANDRIELE\", \"ANDRIELE\", \"ANELISIA\", \"ANELISIA\", \"ANELISIA\", \"ANELISIA\", \"ANELISIA\"], [\"Play at 0s\", \"Pause at 17s\", \"Seek from 17s to 13s\", \"Pause at 13s\", \"Seek from 13s to 12s\", \"Pause at 20s\", \"Play at 20s\", \"Dropout at 20s\", \"Play at 0s\", \"Pause at 7s\", \"Play at 7s\", \"Seek from 17s to 11s\", \"Pause at 15s\", \"Play at 15s\", \"Pause at 17s\", \"Play at 17s\", \"Seek from 21s to 20s\", \"Seek from 21s to 4s\", \"Play at 0s\", \"Pause at 3s\", \"Play at 3s\", \"Pause at 3s\", \"Play at 3s\", \"Pause at 21s\", \"Play at 21s\", \"Pause at 22s\", \"Play at 22s\", \"Seek from 25s to 17s\", \"Play at 0s\", \"Pause at 11s\", \"Seek from 11s to 18s\", \"Pause at 28s\", \"Play at 28s\", \"Pause at 29s\", \"Play at 29s\", \"Dropout at 29s\", \"Play at 0s\", \"Pause at 27s\", \"Seek from 27s to 6s\", \"Pause at 27s\", \"Play at 27s\", \"Seek from 27s to 9s\", \"Pause at 9s\", \"Play at 9s\", \"Seek from 14s to 10s\", \"Seek from 18s to 19s\", \"Play at 0s\", \"Pause at 17s\", \"Seek from 17s to 16s\", \"Seek from 22s to 2s\", \"Seek from 6s to 2s\", \"Pause at 20s\", \"Play at 20s\", \"Pause at 20s\", \"Play at 20s\", \"Pause at 26s\", \"Play at 0s\", \"Pause at 6s\", \"Seek from 6s to 4s\", \"Pause at 9s\", \"Play at 9s\", \"Pause at 10s\", \"Play at 10s\", \"Seek from 16s to 8s\", \"Seek from 11s to 14s\", \"Dropout at 14s\", \"Play at 0s\", \"Seek from 22s to 0s\", \"Seek from 15s to 16s\", \"Seek from 18s to 15s\", \"Dropout at 15s\", \"Play at 0s\", \"Pause at 17s\", \"Seek from 17s to 19s\", \"Dropout at 19s\", \"Play at 0s\", \"Seek from 4s to 8s\", \"Seek from 17s to 27s\", \"Pause at 27s\", \"Play at 27s\", \"Pause at 28s\", \"Seek from 28s to 14s\", \"Seek from 14s to 4s\", \"Pause at 9s\", \"Play at 9s\", \"Play at 0s\", \"Pause at 2s\", \"Play at 2s\", \"Seek from 14s to 0s\", \"Seek from 11s to 15s\", \"Pause at 21s\", \"Seek from 21s to 12s\", \"Pause at 22s\", \"Play at 22s\", \"Seek from 22s to 21s\", \"Play at 0s\", \"Dropout at 0s\", \"Play at 0s\", \"Seek from 1s to 8s\", \"Pause at 17s\", \"Seek from 17s to 18s\", \"Pause at 26s\", \"Seek from 26s to 15s\", \"Seek from 26s to 11s\", \"Seek from 20s to 18s\", \"Pause at 22s\", \"Play at 22s\", \"Play at 0s\", \"Pause at 3s\", \"Seek from 3s to 25s\", \"Seek from 26s to 16s\", \"Pause at 16s\", \"Play at 16s\", \"Seek from 21s to 14s\", \"Seek from 16s to 13s\", \"Dropout at 13s\", \"Play at 0s\", \"Seek from 2s to 16s\", \"Seek from 18s to 10s\", \"Seek from 11s to 3s\", \"Pause at 18s\", \"Play at 18s\", \"Pause at 27s\", \"Play at 27s\", \"Pause at 28s\", \"Play at 28s\", \"Play at 0s\", \"Seek from 8s to 21s\", \"Seek from 22s to 18s\", \"Seek from 23s to 20s\", \"Seek from 28s to 21s\", \"Dropout at 21s\", \"Play at 0s\", \"Dropout at 0s\", \"Play at 0s\", \"Seek from 9s to 13s\", \"Dropout at 13s\", \"Play at 0s\", \"Seek from 23s to 6s\", \"Dropout at 6s\", \"Play at 0s\", \"Dropout at 0s\", \"Play at 0s\", \"Seek from 23s to 11s\", \"Seek from 15s to 16s\", \"Pause at 22s\", \"Play at 22s\", \"Pause at 25s\", \"Play at 25s\", \"Pause at 25s\", \"Play at 25s\", \"Pause at 25s\", \"Play at 0s\", \"Pause at 10s\", \"Seek from 10s to 15s\", \"Pause at 19s\", \"Play at 19s\", \"Pause at 20s\", \"Play at 20s\", \"Pause at 23s\", \"Seek from 23s to 27s\", \"Pause at 27s\", \"Play at 0s\", \"Seek from 6s to 23s\", \"Seek from 24s to 21s\", \"Seek from 22s to 19s\", \"Seek from 21s to 26s\", \"Dropout at 26s\", \"Play at 0s\", \"Pause at 19s\", \"Play at 19s\", \"Seek from 25s to 18s\", \"Dropout at 18s\"]]}, \"header\": {\"align\": \"center\", \"fill\": {\"color\": \"#C2D4FF\"}, \"values\": [\"Unnamed: 0\", \"Students\", \"Action\"]}, \"type\": \"table\", \"uid\": \"7971b806-11e8-11e9-9a94-9cf387cc124e\"}], {}, {\"showLink\": true, \"linkText\": \"Export to plot.ly\"})});</script>"
      ]
     },
     "metadata": {},
     "output_type": "display_data"
    },
    {
     "data": {
      "application/vnd.plotly.v1+json": {
       "data": [
        {
         "cells": {
          "align": [
           "left",
           "center"
          ],
          "fill": {
           "color": "#F5F8FF"
          },
          "values": [
           [
            0,
            1,
            2,
            3,
            4,
            5,
            6,
            7,
            8,
            9,
            10,
            11,
            12,
            13,
            14,
            15,
            16,
            17,
            18,
            19,
            20,
            21,
            22,
            23,
            24,
            25,
            26,
            27,
            28,
            29
           ],
           [
            24,
            0,
            1,
            2,
            0,
            0,
            0,
            1,
            0,
            3,
            1,
            0,
            0,
            0,
            0,
            1,
            1,
            1,
            1,
            2,
            4,
            1,
            4,
            0,
            0,
            2,
            0,
            3,
            2,
            1
           ],
           [
            0,
            0,
            1,
            3,
            0,
            0,
            1,
            1,
            0,
            3,
            2,
            1,
            0,
            1,
            0,
            1,
            1,
            5,
            1,
            2,
            4,
            2,
            4,
            1,
            0,
            3,
            2,
            5,
            3,
            1
           ],
           [
            0,
            1,
            1,
            0,
            1,
            0,
            2,
            0,
            1,
            1,
            0,
            3,
            0,
            0,
            3,
            2,
            2,
            2,
            3,
            0,
            1,
            4,
            5,
            3,
            1,
            2,
            2,
            1,
            1,
            0
           ],
           [
            2,
            0,
            2,
            1,
            2,
            0,
            1,
            0,
            3,
            1,
            2,
            3,
            0,
            2,
            2,
            2,
            4,
            1,
            3,
            2,
            2,
            4,
            0,
            1,
            0,
            0,
            1,
            1,
            0,
            0
           ],
           [
            3,
            0,
            0,
            0,
            0,
            0,
            1,
            0,
            0,
            0,
            0,
            0,
            0,
            2,
            1,
            1,
            0,
            0,
            1,
            1,
            1,
            1,
            0,
            0,
            0,
            0,
            1,
            0,
            0,
            1
           ]
          ]
         },
         "header": {
          "align": "center",
          "fill": {
           "color": "#C2D4FF"
          },
          "values": [
           "Time",
           "Play",
           "Pause",
           "Seek from",
           "Seek to",
           "Dropout"
          ]
         },
         "type": "table",
         "uid": "797a62d8-11e8-11e9-b34c-9cf387cc124e"
        }
       ],
       "layout": {}
      },
      "text/html": [
       "<div id=\"2690d8ca-de15-4e3d-8b9a-bd8808e52786\" style=\"height: 525px; width: 100%;\" class=\"plotly-graph-div\"></div><script type=\"text/javascript\">require([\"plotly\"], function(Plotly) { window.PLOTLYENV=window.PLOTLYENV || {};window.PLOTLYENV.BASE_URL=\"https://plot.ly\";Plotly.newPlot(\"2690d8ca-de15-4e3d-8b9a-bd8808e52786\", [{\"cells\": {\"align\": [\"left\", \"center\"], \"fill\": {\"color\": \"#F5F8FF\"}, \"values\": [[0, 1, 2, 3, 4, 5, 6, 7, 8, 9, 10, 11, 12, 13, 14, 15, 16, 17, 18, 19, 20, 21, 22, 23, 24, 25, 26, 27, 28, 29], [24, 0, 1, 2, 0, 0, 0, 1, 0, 3, 1, 0, 0, 0, 0, 1, 1, 1, 1, 2, 4, 1, 4, 0, 0, 2, 0, 3, 2, 1], [0, 0, 1, 3, 0, 0, 1, 1, 0, 3, 2, 1, 0, 1, 0, 1, 1, 5, 1, 2, 4, 2, 4, 1, 0, 3, 2, 5, 3, 1], [0, 1, 1, 0, 1, 0, 2, 0, 1, 1, 0, 3, 0, 0, 3, 2, 2, 2, 3, 0, 1, 4, 5, 3, 1, 2, 2, 1, 1, 0], [2, 0, 2, 1, 2, 0, 1, 0, 3, 1, 2, 3, 0, 2, 2, 2, 4, 1, 3, 2, 2, 4, 0, 1, 0, 0, 1, 1, 0, 0], [3, 0, 0, 0, 0, 0, 1, 0, 0, 0, 0, 0, 0, 2, 1, 1, 0, 0, 1, 1, 1, 1, 0, 0, 0, 0, 1, 0, 0, 1]]}, \"header\": {\"align\": \"center\", \"fill\": {\"color\": \"#C2D4FF\"}, \"values\": [\"Time\", \"Play\", \"Pause\", \"Seek from\", \"Seek to\", \"Dropout\"]}, \"type\": \"table\", \"uid\": \"7981e4d8-11e8-11e9-897b-9cf387cc124e\"}], {}, {\"showLink\": true, \"linkText\": \"Export to plot.ly\"})});</script>"
      ],
      "text/vnd.plotly.v1+html": [
       "<div id=\"2690d8ca-de15-4e3d-8b9a-bd8808e52786\" style=\"height: 525px; width: 100%;\" class=\"plotly-graph-div\"></div><script type=\"text/javascript\">require([\"plotly\"], function(Plotly) { window.PLOTLYENV=window.PLOTLYENV || {};window.PLOTLYENV.BASE_URL=\"https://plot.ly\";Plotly.newPlot(\"2690d8ca-de15-4e3d-8b9a-bd8808e52786\", [{\"cells\": {\"align\": [\"left\", \"center\"], \"fill\": {\"color\": \"#F5F8FF\"}, \"values\": [[0, 1, 2, 3, 4, 5, 6, 7, 8, 9, 10, 11, 12, 13, 14, 15, 16, 17, 18, 19, 20, 21, 22, 23, 24, 25, 26, 27, 28, 29], [24, 0, 1, 2, 0, 0, 0, 1, 0, 3, 1, 0, 0, 0, 0, 1, 1, 1, 1, 2, 4, 1, 4, 0, 0, 2, 0, 3, 2, 1], [0, 0, 1, 3, 0, 0, 1, 1, 0, 3, 2, 1, 0, 1, 0, 1, 1, 5, 1, 2, 4, 2, 4, 1, 0, 3, 2, 5, 3, 1], [0, 1, 1, 0, 1, 0, 2, 0, 1, 1, 0, 3, 0, 0, 3, 2, 2, 2, 3, 0, 1, 4, 5, 3, 1, 2, 2, 1, 1, 0], [2, 0, 2, 1, 2, 0, 1, 0, 3, 1, 2, 3, 0, 2, 2, 2, 4, 1, 3, 2, 2, 4, 0, 1, 0, 0, 1, 1, 0, 0], [3, 0, 0, 0, 0, 0, 1, 0, 0, 0, 0, 0, 0, 2, 1, 1, 0, 0, 1, 1, 1, 1, 0, 0, 0, 0, 1, 0, 0, 1]]}, \"header\": {\"align\": \"center\", \"fill\": {\"color\": \"#C2D4FF\"}, \"values\": [\"Time\", \"Play\", \"Pause\", \"Seek from\", \"Seek to\", \"Dropout\"]}, \"type\": \"table\", \"uid\": \"7981e4d8-11e8-11e9-897b-9cf387cc124e\"}], {}, {\"showLink\": true, \"linkText\": \"Export to plot.ly\"})});</script>"
      ]
     },
     "metadata": {},
     "output_type": "display_data"
    },
    {
     "data": {
      "application/vnd.plotly.v1+json": {
       "data": [
        {
         "hoverinfo": "x+y",
         "line": {
          "color": "rgba(253, 174, 97, 0.75)",
          "width": 0.5
         },
         "mode": "lines",
         "name": "Play",
         "stackgroup": "one",
         "x": [
          0,
          1,
          2,
          3,
          4,
          5,
          6,
          7,
          8,
          9,
          10,
          11,
          12,
          13,
          14,
          15,
          16,
          17,
          18,
          19,
          20,
          21,
          22,
          23,
          24,
          25,
          26,
          27,
          28,
          29
         ],
         "y": [
          24,
          0,
          1,
          2,
          0,
          0,
          0,
          1,
          0,
          3,
          1,
          0,
          0,
          0,
          0,
          1,
          1,
          1,
          1,
          2,
          4,
          1,
          4,
          0,
          0,
          2,
          0,
          3,
          2,
          1
         ]
        },
        {
         "hoverinfo": "x+y",
         "line": {
          "color": "rgb(184, 247, 212)",
          "width": 0.5
         },
         "mode": "lines",
         "name": "Pause",
         "stackgroup": "one",
         "x": [
          0,
          1,
          2,
          3,
          4,
          5,
          6,
          7,
          8,
          9,
          10,
          11,
          12,
          13,
          14,
          15,
          16,
          17,
          18,
          19,
          20,
          21,
          22,
          23,
          24,
          25,
          26,
          27,
          28,
          29
         ],
         "y": [
          0,
          0,
          1,
          3,
          0,
          0,
          1,
          1,
          0,
          3,
          2,
          1,
          0,
          1,
          0,
          1,
          1,
          5,
          1,
          2,
          4,
          2,
          4,
          1,
          0,
          3,
          2,
          5,
          3,
          1
         ]
        },
        {
         "hoverinfo": "x+y",
         "line": {
          "color": "rgb(111, 231, 219)",
          "width": 0.5
         },
         "mode": "lines",
         "name": "Seek from",
         "stackgroup": "one",
         "x": [
          0,
          1,
          2,
          3,
          4,
          5,
          6,
          7,
          8,
          9,
          10,
          11,
          12,
          13,
          14,
          15,
          16,
          17,
          18,
          19,
          20,
          21,
          22,
          23,
          24,
          25,
          26,
          27,
          28,
          29
         ],
         "y": [
          0,
          1,
          1,
          0,
          1,
          0,
          2,
          0,
          1,
          1,
          0,
          3,
          0,
          0,
          3,
          2,
          2,
          2,
          3,
          0,
          1,
          4,
          5,
          3,
          1,
          2,
          2,
          1,
          1,
          0
         ]
        },
        {
         "hoverinfo": "x+y",
         "line": {
          "color": "rgb(131, 90, 241)",
          "width": 0.5
         },
         "mode": "lines",
         "name": "Seek to",
         "stackgroup": "one",
         "x": [
          0,
          1,
          2,
          3,
          4,
          5,
          6,
          7,
          8,
          9,
          10,
          11,
          12,
          13,
          14,
          15,
          16,
          17,
          18,
          19,
          20,
          21,
          22,
          23,
          24,
          25,
          26,
          27,
          28,
          29
         ],
         "y": [
          2,
          0,
          2,
          1,
          2,
          0,
          1,
          0,
          3,
          1,
          2,
          3,
          0,
          2,
          2,
          2,
          4,
          1,
          3,
          2,
          2,
          4,
          0,
          1,
          0,
          0,
          1,
          1,
          0,
          0
         ]
        },
        {
         "hoverinfo": "x+y",
         "line": {
          "color": "rgb(255, 192, 203)",
          "width": 0.5
         },
         "mode": "lines",
         "name": "Dropout",
         "stackgroup": "one",
         "x": [
          0,
          1,
          2,
          3,
          4,
          5,
          6,
          7,
          8,
          9,
          10,
          11,
          12,
          13,
          14,
          15,
          16,
          17,
          18,
          19,
          20,
          21,
          22,
          23,
          24,
          25,
          26,
          27,
          28,
          29
         ],
         "y": [
          3,
          0,
          0,
          0,
          0,
          0,
          1,
          0,
          0,
          0,
          0,
          0,
          0,
          2,
          1,
          1,
          0,
          0,
          1,
          1,
          1,
          1,
          0,
          0,
          0,
          0,
          1,
          0,
          0,
          1
         ]
        }
       ],
       "layout": {}
      },
      "text/html": [
       "<div id=\"2b36d3d9-f497-4b23-b3c7-800d6ea8ba49\" style=\"height: 525px; width: 100%;\" class=\"plotly-graph-div\"></div><script type=\"text/javascript\">require([\"plotly\"], function(Plotly) { window.PLOTLYENV=window.PLOTLYENV || {};window.PLOTLYENV.BASE_URL=\"https://plot.ly\";Plotly.newPlot(\"2b36d3d9-f497-4b23-b3c7-800d6ea8ba49\", [{\"x\": [0, 1, 2, 3, 4, 5, 6, 7, 8, 9, 10, 11, 12, 13, 14, 15, 16, 17, 18, 19, 20, 21, 22, 23, 24, 25, 26, 27, 28, 29], \"y\": [24, 0, 1, 2, 0, 0, 0, 1, 0, 3, 1, 0, 0, 0, 0, 1, 1, 1, 1, 2, 4, 1, 4, 0, 0, 2, 0, 3, 2, 1], \"hoverinfo\": \"x+y\", \"mode\": \"lines\", \"name\": \"Play\", \"line\": {\"width\": 0.5, \"color\": \"rgba(253, 174, 97, 0.75)\"}, \"stackgroup\": \"one\"}, {\"x\": [0, 1, 2, 3, 4, 5, 6, 7, 8, 9, 10, 11, 12, 13, 14, 15, 16, 17, 18, 19, 20, 21, 22, 23, 24, 25, 26, 27, 28, 29], \"y\": [0, 0, 1, 3, 0, 0, 1, 1, 0, 3, 2, 1, 0, 1, 0, 1, 1, 5, 1, 2, 4, 2, 4, 1, 0, 3, 2, 5, 3, 1], \"hoverinfo\": \"x+y\", \"mode\": \"lines\", \"name\": \"Pause\", \"line\": {\"width\": 0.5, \"color\": \"rgb(184, 247, 212)\"}, \"stackgroup\": \"one\"}, {\"x\": [0, 1, 2, 3, 4, 5, 6, 7, 8, 9, 10, 11, 12, 13, 14, 15, 16, 17, 18, 19, 20, 21, 22, 23, 24, 25, 26, 27, 28, 29], \"y\": [0, 1, 1, 0, 1, 0, 2, 0, 1, 1, 0, 3, 0, 0, 3, 2, 2, 2, 3, 0, 1, 4, 5, 3, 1, 2, 2, 1, 1, 0], \"hoverinfo\": \"x+y\", \"mode\": \"lines\", \"name\": \"Seek from\", \"line\": {\"width\": 0.5, \"color\": \"rgb(111, 231, 219)\"}, \"stackgroup\": \"one\"}, {\"x\": [0, 1, 2, 3, 4, 5, 6, 7, 8, 9, 10, 11, 12, 13, 14, 15, 16, 17, 18, 19, 20, 21, 22, 23, 24, 25, 26, 27, 28, 29], \"y\": [2, 0, 2, 1, 2, 0, 1, 0, 3, 1, 2, 3, 0, 2, 2, 2, 4, 1, 3, 2, 2, 4, 0, 1, 0, 0, 1, 1, 0, 0], \"hoverinfo\": \"x+y\", \"mode\": \"lines\", \"name\": \"Seek to\", \"line\": {\"width\": 0.5, \"color\": \"rgb(131, 90, 241)\"}, \"stackgroup\": \"one\"}, {\"x\": [0, 1, 2, 3, 4, 5, 6, 7, 8, 9, 10, 11, 12, 13, 14, 15, 16, 17, 18, 19, 20, 21, 22, 23, 24, 25, 26, 27, 28, 29], \"y\": [3, 0, 0, 0, 0, 0, 1, 0, 0, 0, 0, 0, 0, 2, 1, 1, 0, 0, 1, 1, 1, 1, 0, 0, 0, 0, 1, 0, 0, 1], \"hoverinfo\": \"x+y\", \"mode\": \"lines\", \"name\": \"Dropout\", \"line\": {\"width\": 0.5, \"color\": \"rgb(255, 192, 203)\"}, \"stackgroup\": \"one\"}], {}, {\"showLink\": true, \"linkText\": \"Export to plot.ly\"})});</script>"
      ],
      "text/vnd.plotly.v1+html": [
       "<div id=\"2b36d3d9-f497-4b23-b3c7-800d6ea8ba49\" style=\"height: 525px; width: 100%;\" class=\"plotly-graph-div\"></div><script type=\"text/javascript\">require([\"plotly\"], function(Plotly) { window.PLOTLYENV=window.PLOTLYENV || {};window.PLOTLYENV.BASE_URL=\"https://plot.ly\";Plotly.newPlot(\"2b36d3d9-f497-4b23-b3c7-800d6ea8ba49\", [{\"x\": [0, 1, 2, 3, 4, 5, 6, 7, 8, 9, 10, 11, 12, 13, 14, 15, 16, 17, 18, 19, 20, 21, 22, 23, 24, 25, 26, 27, 28, 29], \"y\": [24, 0, 1, 2, 0, 0, 0, 1, 0, 3, 1, 0, 0, 0, 0, 1, 1, 1, 1, 2, 4, 1, 4, 0, 0, 2, 0, 3, 2, 1], \"hoverinfo\": \"x+y\", \"mode\": \"lines\", \"name\": \"Play\", \"line\": {\"width\": 0.5, \"color\": \"rgba(253, 174, 97, 0.75)\"}, \"stackgroup\": \"one\"}, {\"x\": [0, 1, 2, 3, 4, 5, 6, 7, 8, 9, 10, 11, 12, 13, 14, 15, 16, 17, 18, 19, 20, 21, 22, 23, 24, 25, 26, 27, 28, 29], \"y\": [0, 0, 1, 3, 0, 0, 1, 1, 0, 3, 2, 1, 0, 1, 0, 1, 1, 5, 1, 2, 4, 2, 4, 1, 0, 3, 2, 5, 3, 1], \"hoverinfo\": \"x+y\", \"mode\": \"lines\", \"name\": \"Pause\", \"line\": {\"width\": 0.5, \"color\": \"rgb(184, 247, 212)\"}, \"stackgroup\": \"one\"}, {\"x\": [0, 1, 2, 3, 4, 5, 6, 7, 8, 9, 10, 11, 12, 13, 14, 15, 16, 17, 18, 19, 20, 21, 22, 23, 24, 25, 26, 27, 28, 29], \"y\": [0, 1, 1, 0, 1, 0, 2, 0, 1, 1, 0, 3, 0, 0, 3, 2, 2, 2, 3, 0, 1, 4, 5, 3, 1, 2, 2, 1, 1, 0], \"hoverinfo\": \"x+y\", \"mode\": \"lines\", \"name\": \"Seek from\", \"line\": {\"width\": 0.5, \"color\": \"rgb(111, 231, 219)\"}, \"stackgroup\": \"one\"}, {\"x\": [0, 1, 2, 3, 4, 5, 6, 7, 8, 9, 10, 11, 12, 13, 14, 15, 16, 17, 18, 19, 20, 21, 22, 23, 24, 25, 26, 27, 28, 29], \"y\": [2, 0, 2, 1, 2, 0, 1, 0, 3, 1, 2, 3, 0, 2, 2, 2, 4, 1, 3, 2, 2, 4, 0, 1, 0, 0, 1, 1, 0, 0], \"hoverinfo\": \"x+y\", \"mode\": \"lines\", \"name\": \"Seek to\", \"line\": {\"width\": 0.5, \"color\": \"rgb(131, 90, 241)\"}, \"stackgroup\": \"one\"}, {\"x\": [0, 1, 2, 3, 4, 5, 6, 7, 8, 9, 10, 11, 12, 13, 14, 15, 16, 17, 18, 19, 20, 21, 22, 23, 24, 25, 26, 27, 28, 29], \"y\": [3, 0, 0, 0, 0, 0, 1, 0, 0, 0, 0, 0, 0, 2, 1, 1, 0, 0, 1, 1, 1, 1, 0, 0, 0, 0, 1, 0, 0, 1], \"hoverinfo\": \"x+y\", \"mode\": \"lines\", \"name\": \"Dropout\", \"line\": {\"width\": 0.5, \"color\": \"rgb(255, 192, 203)\"}, \"stackgroup\": \"one\"}], {}, {\"showLink\": true, \"linkText\": \"Export to plot.ly\"})});</script>"
      ]
     },
     "metadata": {},
     "output_type": "display_data"
    }
   ],
   "source": [
    "instance = V009()\n",
    "instance.generate_dataset(number_actions = 120, video_size = 30)\n",
    "# instance.print_all_graphs(\"pt\")\n",
    "instance.print_all_graphs(\"en\")"
   ]
  },
  {
   "cell_type": "markdown",
   "metadata": {},
   "source": [
    "### View 010 - Vídeos que os estudantes entenderam e não entenderam"
   ]
  },
  {
   "cell_type": "code",
   "execution_count": null,
   "metadata": {
    "scrolled": true
   },
   "outputs": [],
   "source": [
    "run V010.py"
   ]
  },
  {
   "cell_type": "code",
   "execution_count": null,
   "metadata": {
    "scrolled": false
   },
   "outputs": [],
   "source": [
    "instance = V010()\n",
    "instance.generate_dataset(number_students=35, number_video=10)\n",
    "# instance.print_all_graphs(\"pt\")\n",
    "instance.print_all_graphs(\"en\")"
   ]
  },
  {
   "cell_type": "markdown",
   "metadata": {},
   "source": [
    "### View 011 - Padrão de navegação dos estudantes no AVA"
   ]
  },
  {
   "cell_type": "code",
   "execution_count": 22,
   "metadata": {},
   "outputs": [
    {
     "data": {
      "text/html": [
       "<script>requirejs.config({paths: { 'plotly': ['https://cdn.plot.ly/plotly-latest.min']},});if(!window.Plotly) {{require(['plotly'],function(plotly) {window.Plotly=plotly;});}}</script>"
      ],
      "text/vnd.plotly.v1+html": [
       "<script>requirejs.config({paths: { 'plotly': ['https://cdn.plot.ly/plotly-latest.min']},});if(!window.Plotly) {{require(['plotly'],function(plotly) {window.Plotly=plotly;});}}</script>"
      ]
     },
     "metadata": {},
     "output_type": "display_data"
    }
   ],
   "source": [
    "run V011.py"
   ]
  },
  {
   "cell_type": "code",
   "execution_count": 23,
   "metadata": {},
   "outputs": [
    {
     "data": {
      "application/vnd.plotly.v1+json": {
       "data": [
        {
         "cells": {
          "align": [
           "left",
           "center"
          ],
          "fill": {
           "color": "#F5F8FF"
          },
          "values": [
           [
            "ALANI",
            "ARIANA",
            "ATALIANE",
            "DANIELA",
            "DARTANHAN",
            "EZENILDO",
            "GECINALDO",
            "GISRAEL",
            "IACI",
            "ILKA",
            "IRTON",
            "JOVIANI",
            "KELLY",
            "LEANA",
            "LISLEY",
            "MARLUCIO",
            "PATRICK",
            "RAFAELA",
            "TAIRONI",
            "VALDECIL"
           ],
           [
            "61 - 70",
            "71 - 80",
            "91 - 100",
            "61 - 70",
            "91 - 100",
            "0 - 60",
            "Dropout",
            "Dropout",
            "91 - 100",
            "61 - 70",
            "61 - 70",
            "71 - 80",
            "91 - 100",
            "81 - 90",
            "91 - 100",
            "0 - 60",
            "91 - 100",
            "81 - 90",
            "0 - 60",
            "91 - 100"
           ],
           [
            58,
            75,
            85,
            60,
            74,
            42,
            0,
            0,
            92,
            68,
            70,
            79,
            81,
            86,
            76,
            18,
            73,
            86,
            39,
            76
           ],
           [
            false,
            false,
            false,
            false,
            false,
            false,
            true,
            true,
            false,
            false,
            false,
            false,
            false,
            false,
            false,
            false,
            false,
            false,
            false,
            false
           ],
           [
            null,
            null,
            null,
            null,
            null,
            null,
            null,
            null,
            null,
            null,
            null,
            null,
            null,
            null,
            null,
            null,
            null,
            null,
            null,
            null
           ],
           [
            39,
            63,
            81,
            42,
            88,
            20,
            17,
            10,
            94,
            46,
            55,
            51,
            94,
            71,
            100,
            35,
            86,
            83,
            20,
            89
           ],
           [
            3,
            4,
            40,
            7,
            19,
            4,
            3,
            1,
            22,
            6,
            4,
            6,
            39,
            28,
            21,
            4,
            40,
            5,
            2,
            28
           ],
           [
            9,
            20,
            40,
            2,
            34,
            3,
            1,
            0,
            27,
            6,
            1,
            6,
            21,
            34,
            31,
            0,
            22,
            18,
            2,
            37
           ],
           [
            5,
            1,
            9,
            6,
            13,
            2,
            3,
            3,
            5,
            1,
            1,
            6,
            4,
            2,
            13,
            2,
            5,
            5,
            2,
            4
           ],
           [
            23,
            40,
            108,
            30,
            92,
            23,
            13,
            6,
            74,
            19,
            12,
            34,
            94,
            83,
            89,
            20,
            83,
            57,
            14,
            100
           ]
          ]
         },
         "header": {
          "align": "center",
          "fill": {
           "color": "#C2D4FF"
          },
          "values": [
           "Students",
           "Predicted Grade",
           "Grade",
           "Predicted Dropout",
           "Dropout",
           "AVA Access",
           "Forum Post",
           "Forum Replies",
           "Forum Add Thread",
           "Forum Access"
          ]
         },
         "type": "table",
         "uid": "610bb4cc-115c-11e9-8377-9cf387cc124e"
        }
       ],
       "layout": {}
      },
      "text/html": [
       "<div id=\"24789ad2-50f1-4de1-ab1d-6b8d357037fd\" style=\"height: 525px; width: 100%;\" class=\"plotly-graph-div\"></div><script type=\"text/javascript\">require([\"plotly\"], function(Plotly) { window.PLOTLYENV=window.PLOTLYENV || {};window.PLOTLYENV.BASE_URL=\"https://plot.ly\";Plotly.newPlot(\"24789ad2-50f1-4de1-ab1d-6b8d357037fd\", [{\"cells\": {\"align\": [\"left\", \"center\"], \"fill\": {\"color\": \"#F5F8FF\"}, \"values\": [[\"ALANI\", \"ARIANA\", \"ATALIANE\", \"DANIELA\", \"DARTANHAN\", \"EZENILDO\", \"GECINALDO\", \"GISRAEL\", \"IACI\", \"ILKA\", \"IRTON\", \"JOVIANI\", \"KELLY\", \"LEANA\", \"LISLEY\", \"MARLUCIO\", \"PATRICK\", \"RAFAELA\", \"TAIRONI\", \"VALDECIL\"], [\"61 - 70\", \"71 - 80\", \"91 - 100\", \"61 - 70\", \"91 - 100\", \"0 - 60\", \"Dropout\", \"Dropout\", \"91 - 100\", \"61 - 70\", \"61 - 70\", \"71 - 80\", \"91 - 100\", \"81 - 90\", \"91 - 100\", \"0 - 60\", \"91 - 100\", \"81 - 90\", \"0 - 60\", \"91 - 100\"], [58, 75, 85, 60, 74, 42, 0, 0, 92, 68, 70, 79, 81, 86, 76, 18, 73, 86, 39, 76], [false, false, false, false, false, false, true, true, false, false, false, false, false, false, false, false, false, false, false, false], [null, null, null, null, null, null, null, null, null, null, null, null, null, null, null, null, null, null, null, null], [39, 63, 81, 42, 88, 20, 17, 10, 94, 46, 55, 51, 94, 71, 100, 35, 86, 83, 20, 89], [3, 4, 40, 7, 19, 4, 3, 1, 22, 6, 4, 6, 39, 28, 21, 4, 40, 5, 2, 28], [9, 20, 40, 2, 34, 3, 1, 0, 27, 6, 1, 6, 21, 34, 31, 0, 22, 18, 2, 37], [5, 1, 9, 6, 13, 2, 3, 3, 5, 1, 1, 6, 4, 2, 13, 2, 5, 5, 2, 4], [23, 40, 108, 30, 92, 23, 13, 6, 74, 19, 12, 34, 94, 83, 89, 20, 83, 57, 14, 100]]}, \"header\": {\"align\": \"center\", \"fill\": {\"color\": \"#C2D4FF\"}, \"values\": [\"Students\", \"Predicted Grade\", \"Grade\", \"Predicted Dropout\", \"Dropout\", \"AVA Access\", \"Forum Post\", \"Forum Replies\", \"Forum Add Thread\", \"Forum Access\"]}, \"type\": \"table\", \"uid\": \"6111b610-115c-11e9-897f-9cf387cc124e\"}], {}, {\"showLink\": true, \"linkText\": \"Export to plot.ly\"})});</script>"
      ],
      "text/vnd.plotly.v1+html": [
       "<div id=\"24789ad2-50f1-4de1-ab1d-6b8d357037fd\" style=\"height: 525px; width: 100%;\" class=\"plotly-graph-div\"></div><script type=\"text/javascript\">require([\"plotly\"], function(Plotly) { window.PLOTLYENV=window.PLOTLYENV || {};window.PLOTLYENV.BASE_URL=\"https://plot.ly\";Plotly.newPlot(\"24789ad2-50f1-4de1-ab1d-6b8d357037fd\", [{\"cells\": {\"align\": [\"left\", \"center\"], \"fill\": {\"color\": \"#F5F8FF\"}, \"values\": [[\"ALANI\", \"ARIANA\", \"ATALIANE\", \"DANIELA\", \"DARTANHAN\", \"EZENILDO\", \"GECINALDO\", \"GISRAEL\", \"IACI\", \"ILKA\", \"IRTON\", \"JOVIANI\", \"KELLY\", \"LEANA\", \"LISLEY\", \"MARLUCIO\", \"PATRICK\", \"RAFAELA\", \"TAIRONI\", \"VALDECIL\"], [\"61 - 70\", \"71 - 80\", \"91 - 100\", \"61 - 70\", \"91 - 100\", \"0 - 60\", \"Dropout\", \"Dropout\", \"91 - 100\", \"61 - 70\", \"61 - 70\", \"71 - 80\", \"91 - 100\", \"81 - 90\", \"91 - 100\", \"0 - 60\", \"91 - 100\", \"81 - 90\", \"0 - 60\", \"91 - 100\"], [58, 75, 85, 60, 74, 42, 0, 0, 92, 68, 70, 79, 81, 86, 76, 18, 73, 86, 39, 76], [false, false, false, false, false, false, true, true, false, false, false, false, false, false, false, false, false, false, false, false], [null, null, null, null, null, null, null, null, null, null, null, null, null, null, null, null, null, null, null, null], [39, 63, 81, 42, 88, 20, 17, 10, 94, 46, 55, 51, 94, 71, 100, 35, 86, 83, 20, 89], [3, 4, 40, 7, 19, 4, 3, 1, 22, 6, 4, 6, 39, 28, 21, 4, 40, 5, 2, 28], [9, 20, 40, 2, 34, 3, 1, 0, 27, 6, 1, 6, 21, 34, 31, 0, 22, 18, 2, 37], [5, 1, 9, 6, 13, 2, 3, 3, 5, 1, 1, 6, 4, 2, 13, 2, 5, 5, 2, 4], [23, 40, 108, 30, 92, 23, 13, 6, 74, 19, 12, 34, 94, 83, 89, 20, 83, 57, 14, 100]]}, \"header\": {\"align\": \"center\", \"fill\": {\"color\": \"#C2D4FF\"}, \"values\": [\"Students\", \"Predicted Grade\", \"Grade\", \"Predicted Dropout\", \"Dropout\", \"AVA Access\", \"Forum Post\", \"Forum Replies\", \"Forum Add Thread\", \"Forum Access\"]}, \"type\": \"table\", \"uid\": \"6111b610-115c-11e9-897f-9cf387cc124e\"}], {}, {\"showLink\": true, \"linkText\": \"Export to plot.ly\"})});</script>"
      ]
     },
     "metadata": {},
     "output_type": "display_data"
    },
    {
     "data": {
      "application/vnd.plotly.v1+json": {
       "data": [
        {
         "marker": {
          "color": "rgb(121,64,64)",
          "line": {
           "width": 2
          },
          "size": 12,
          "symbol": 1
         },
         "mode": "markers",
         "name": "ALANI",
         "text": [
          "ALANI"
         ],
         "type": "scatter",
         "uid": "619c098c-115c-11e9-b645-9cf387cc124e",
         "x": [
          39
         ],
         "y": [
          58
         ]
        },
        {
         "marker": {
          "color": "rgb(121,64,64)",
          "line": {
           "width": 2
          },
          "size": 12,
          "symbol": 1
         },
         "mode": "markers",
         "name": "ARIANA",
         "text": [
          "ARIANA"
         ],
         "type": "scatter",
         "uid": "619c0bba-115c-11e9-a3c1-9cf387cc124e",
         "x": [
          63
         ],
         "y": [
          75
         ]
        },
        {
         "marker": {
          "color": "rgb(0,0,204)",
          "line": {
           "width": 2
          },
          "size": 12,
          "symbol": 2
         },
         "mode": "markers",
         "name": "ATALIANE",
         "text": [
          "ATALIANE"
         ],
         "type": "scatter",
         "uid": "619c0ce8-115c-11e9-b1aa-9cf387cc124e",
         "x": [
          81
         ],
         "y": [
          85
         ]
        },
        {
         "marker": {
          "color": "rgb(121,64,64)",
          "line": {
           "width": 2
          },
          "size": 12,
          "symbol": 1
         },
         "mode": "markers",
         "name": "DANIELA",
         "text": [
          "DANIELA"
         ],
         "type": "scatter",
         "uid": "619c0df6-115c-11e9-adc0-9cf387cc124e",
         "x": [
          42
         ],
         "y": [
          60
         ]
        },
        {
         "marker": {
          "color": "rgb(0,0,204)",
          "line": {
           "width": 2
          },
          "size": 12,
          "symbol": 2
         },
         "mode": "markers",
         "name": "DARTANHAN",
         "text": [
          "DARTANHAN"
         ],
         "type": "scatter",
         "uid": "619c0ef0-115c-11e9-ab93-9cf387cc124e",
         "x": [
          88
         ],
         "y": [
          74
         ]
        },
        {
         "marker": {
          "color": "rgb(198, 218, 32)",
          "line": {
           "width": 2
          },
          "size": 12,
          "symbol": 0
         },
         "mode": "markers",
         "name": "EZENILDO",
         "text": [
          "EZENILDO"
         ],
         "type": "scatter",
         "uid": "619c0fe2-115c-11e9-ba82-9cf387cc124e",
         "x": [
          20
         ],
         "y": [
          42
         ]
        },
        {
         "marker": {
          "color": "rgb(198, 218, 32)",
          "line": {
           "width": 2
          },
          "size": 12,
          "symbol": 0
         },
         "mode": "markers",
         "name": "GECINALDO",
         "text": [
          "GECINALDO"
         ],
         "type": "scatter",
         "uid": "619c10da-115c-11e9-9f1a-9cf387cc124e",
         "x": [
          17
         ],
         "y": [
          0
         ]
        },
        {
         "marker": {
          "color": "rgb(198, 218, 32)",
          "line": {
           "width": 2
          },
          "size": 12,
          "symbol": 0
         },
         "mode": "markers",
         "name": "GISRAEL",
         "text": [
          "GISRAEL"
         ],
         "type": "scatter",
         "uid": "619c11ca-115c-11e9-b572-9cf387cc124e",
         "x": [
          10
         ],
         "y": [
          0
         ]
        },
        {
         "marker": {
          "color": "rgb(0,0,204)",
          "line": {
           "width": 2
          },
          "size": 12,
          "symbol": 2
         },
         "mode": "markers",
         "name": "IACI",
         "text": [
          "IACI"
         ],
         "type": "scatter",
         "uid": "619c12ba-115c-11e9-b22b-9cf387cc124e",
         "x": [
          94
         ],
         "y": [
          92
         ]
        },
        {
         "marker": {
          "color": "rgb(121,64,64)",
          "line": {
           "width": 2
          },
          "size": 12,
          "symbol": 1
         },
         "mode": "markers",
         "name": "ILKA",
         "text": [
          "ILKA"
         ],
         "type": "scatter",
         "uid": "619c13a8-115c-11e9-8419-9cf387cc124e",
         "x": [
          46
         ],
         "y": [
          68
         ]
        },
        {
         "marker": {
          "color": "rgb(121,64,64)",
          "line": {
           "width": 2
          },
          "size": 12,
          "symbol": 1
         },
         "mode": "markers",
         "name": "IRTON",
         "text": [
          "IRTON"
         ],
         "type": "scatter",
         "uid": "619c149a-115c-11e9-83ba-9cf387cc124e",
         "x": [
          55
         ],
         "y": [
          70
         ]
        },
        {
         "marker": {
          "color": "rgb(121,64,64)",
          "line": {
           "width": 2
          },
          "size": 12,
          "symbol": 1
         },
         "mode": "markers",
         "name": "JOVIANI",
         "text": [
          "JOVIANI"
         ],
         "type": "scatter",
         "uid": "619c1580-115c-11e9-bfee-9cf387cc124e",
         "x": [
          51
         ],
         "y": [
          79
         ]
        },
        {
         "marker": {
          "color": "rgb(0,0,204)",
          "line": {
           "width": 2
          },
          "size": 12,
          "symbol": 2
         },
         "mode": "markers",
         "name": "KELLY",
         "text": [
          "KELLY"
         ],
         "type": "scatter",
         "uid": "619c1670-115c-11e9-8f40-9cf387cc124e",
         "x": [
          94
         ],
         "y": [
          81
         ]
        },
        {
         "marker": {
          "color": "rgb(0,0,204)",
          "line": {
           "width": 2
          },
          "size": 12,
          "symbol": 2
         },
         "mode": "markers",
         "name": "LEANA",
         "text": [
          "LEANA"
         ],
         "type": "scatter",
         "uid": "619c1762-115c-11e9-8e0a-9cf387cc124e",
         "x": [
          71
         ],
         "y": [
          86
         ]
        },
        {
         "marker": {
          "color": "rgb(0,0,204)",
          "line": {
           "width": 2
          },
          "size": 12,
          "symbol": 2
         },
         "mode": "markers",
         "name": "LISLEY",
         "text": [
          "LISLEY"
         ],
         "type": "scatter",
         "uid": "619c1850-115c-11e9-9533-9cf387cc124e",
         "x": [
          100
         ],
         "y": [
          76
         ]
        },
        {
         "marker": {
          "color": "rgb(198, 218, 32)",
          "line": {
           "width": 2
          },
          "size": 12,
          "symbol": 0
         },
         "mode": "markers",
         "name": "MARLUCIO",
         "text": [
          "MARLUCIO"
         ],
         "type": "scatter",
         "uid": "619c1940-115c-11e9-bae2-9cf387cc124e",
         "x": [
          35
         ],
         "y": [
          18
         ]
        },
        {
         "marker": {
          "color": "rgb(0,0,204)",
          "line": {
           "width": 2
          },
          "size": 12,
          "symbol": 2
         },
         "mode": "markers",
         "name": "PATRICK",
         "text": [
          "PATRICK"
         ],
         "type": "scatter",
         "uid": "619c1a30-115c-11e9-a97f-9cf387cc124e",
         "x": [
          86
         ],
         "y": [
          73
         ]
        },
        {
         "marker": {
          "color": "rgb(0,0,204)",
          "line": {
           "width": 2
          },
          "size": 12,
          "symbol": 2
         },
         "mode": "markers",
         "name": "RAFAELA",
         "text": [
          "RAFAELA"
         ],
         "type": "scatter",
         "uid": "619c1b1e-115c-11e9-8778-9cf387cc124e",
         "x": [
          83
         ],
         "y": [
          86
         ]
        },
        {
         "marker": {
          "color": "rgb(198, 218, 32)",
          "line": {
           "width": 2
          },
          "size": 12,
          "symbol": 0
         },
         "mode": "markers",
         "name": "TAIRONI",
         "text": [
          "TAIRONI"
         ],
         "type": "scatter",
         "uid": "619c1c06-115c-11e9-af3b-9cf387cc124e",
         "x": [
          20
         ],
         "y": [
          39
         ]
        },
        {
         "marker": {
          "color": "rgb(0,0,204)",
          "line": {
           "width": 2
          },
          "size": 12,
          "symbol": 2
         },
         "mode": "markers",
         "name": "VALDECIL",
         "text": [
          "VALDECIL"
         ],
         "type": "scatter",
         "uid": "619c1d50-115c-11e9-a68d-9cf387cc124e",
         "x": [
          89
         ],
         "y": [
          76
         ]
        }
       ],
       "layout": {
        "hovermode": "closest",
        "showlegend": true,
        "title": "Students' grades variation versus VLE' access",
        "xaxis": {
         "autorange": true,
         "showline": true,
         "title": "AVA Access",
         "titlefont": {
          "color": "rgb(180,180,180)"
         },
         "zeroline": false
        },
        "yaxis": {
         "autorange": false,
         "fixedrange": true,
         "range": [
          0,
          102
         ],
         "rangemode": "normal",
         "showline": true,
         "title": "Grade",
         "titlefont": {
          "color": "rgb(180,180,180)"
         }
        }
       }
      },
      "text/html": [
       "<div id=\"e1bf36bb-23c8-4b1c-952a-f37373dd208b\" style=\"height: 525px; width: 100%;\" class=\"plotly-graph-div\"></div><script type=\"text/javascript\">require([\"plotly\"], function(Plotly) { window.PLOTLYENV=window.PLOTLYENV || {};window.PLOTLYENV.BASE_URL=\"https://plot.ly\";\n",
       "        Plotly.plot(\n",
       "            'e1bf36bb-23c8-4b1c-952a-f37373dd208b',\n",
       "            [{\"marker\": {\"color\": \"rgb(121,64,64)\", \"line\": {\"width\": 2}, \"size\": 12, \"symbol\": 1}, \"mode\": \"markers\", \"name\": \"ALANI\", \"text\": [\"ALANI\"], \"x\": [39], \"y\": [58], \"type\": \"scatter\", \"uid\": \"619c098c-115c-11e9-b645-9cf387cc124e\"}, {\"marker\": {\"color\": \"rgb(121,64,64)\", \"line\": {\"width\": 2}, \"size\": 12, \"symbol\": 1}, \"mode\": \"markers\", \"name\": \"ARIANA\", \"text\": [\"ARIANA\"], \"x\": [63], \"y\": [75], \"type\": \"scatter\", \"uid\": \"619c0bba-115c-11e9-a3c1-9cf387cc124e\"}, {\"marker\": {\"color\": \"rgb(0,0,204)\", \"line\": {\"width\": 2}, \"size\": 12, \"symbol\": 2}, \"mode\": \"markers\", \"name\": \"ATALIANE\", \"text\": [\"ATALIANE\"], \"x\": [81], \"y\": [85], \"type\": \"scatter\", \"uid\": \"619c0ce8-115c-11e9-b1aa-9cf387cc124e\"}, {\"marker\": {\"color\": \"rgb(121,64,64)\", \"line\": {\"width\": 2}, \"size\": 12, \"symbol\": 1}, \"mode\": \"markers\", \"name\": \"DANIELA\", \"text\": [\"DANIELA\"], \"x\": [42], \"y\": [60], \"type\": \"scatter\", \"uid\": \"619c0df6-115c-11e9-adc0-9cf387cc124e\"}, {\"marker\": {\"color\": \"rgb(0,0,204)\", \"line\": {\"width\": 2}, \"size\": 12, \"symbol\": 2}, \"mode\": \"markers\", \"name\": \"DARTANHAN\", \"text\": [\"DARTANHAN\"], \"x\": [88], \"y\": [74], \"type\": \"scatter\", \"uid\": \"619c0ef0-115c-11e9-ab93-9cf387cc124e\"}, {\"marker\": {\"color\": \"rgb(198, 218, 32)\", \"line\": {\"width\": 2}, \"size\": 12, \"symbol\": 0}, \"mode\": \"markers\", \"name\": \"EZENILDO\", \"text\": [\"EZENILDO\"], \"x\": [20], \"y\": [42], \"type\": \"scatter\", \"uid\": \"619c0fe2-115c-11e9-ba82-9cf387cc124e\"}, {\"marker\": {\"color\": \"rgb(198, 218, 32)\", \"line\": {\"width\": 2}, \"size\": 12, \"symbol\": 0}, \"mode\": \"markers\", \"name\": \"GECINALDO\", \"text\": [\"GECINALDO\"], \"x\": [17], \"y\": [0], \"type\": \"scatter\", \"uid\": \"619c10da-115c-11e9-9f1a-9cf387cc124e\"}, {\"marker\": {\"color\": \"rgb(198, 218, 32)\", \"line\": {\"width\": 2}, \"size\": 12, \"symbol\": 0}, \"mode\": \"markers\", \"name\": \"GISRAEL\", \"text\": [\"GISRAEL\"], \"x\": [10], \"y\": [0], \"type\": \"scatter\", \"uid\": \"619c11ca-115c-11e9-b572-9cf387cc124e\"}, {\"marker\": {\"color\": \"rgb(0,0,204)\", \"line\": {\"width\": 2}, \"size\": 12, \"symbol\": 2}, \"mode\": \"markers\", \"name\": \"IACI\", \"text\": [\"IACI\"], \"x\": [94], \"y\": [92], \"type\": \"scatter\", \"uid\": \"619c12ba-115c-11e9-b22b-9cf387cc124e\"}, {\"marker\": {\"color\": \"rgb(121,64,64)\", \"line\": {\"width\": 2}, \"size\": 12, \"symbol\": 1}, \"mode\": \"markers\", \"name\": \"ILKA\", \"text\": [\"ILKA\"], \"x\": [46], \"y\": [68], \"type\": \"scatter\", \"uid\": \"619c13a8-115c-11e9-8419-9cf387cc124e\"}, {\"marker\": {\"color\": \"rgb(121,64,64)\", \"line\": {\"width\": 2}, \"size\": 12, \"symbol\": 1}, \"mode\": \"markers\", \"name\": \"IRTON\", \"text\": [\"IRTON\"], \"x\": [55], \"y\": [70], \"type\": \"scatter\", \"uid\": \"619c149a-115c-11e9-83ba-9cf387cc124e\"}, {\"marker\": {\"color\": \"rgb(121,64,64)\", \"line\": {\"width\": 2}, \"size\": 12, \"symbol\": 1}, \"mode\": \"markers\", \"name\": \"JOVIANI\", \"text\": [\"JOVIANI\"], \"x\": [51], \"y\": [79], \"type\": \"scatter\", \"uid\": \"619c1580-115c-11e9-bfee-9cf387cc124e\"}, {\"marker\": {\"color\": \"rgb(0,0,204)\", \"line\": {\"width\": 2}, \"size\": 12, \"symbol\": 2}, \"mode\": \"markers\", \"name\": \"KELLY\", \"text\": [\"KELLY\"], \"x\": [94], \"y\": [81], \"type\": \"scatter\", \"uid\": \"619c1670-115c-11e9-8f40-9cf387cc124e\"}, {\"marker\": {\"color\": \"rgb(0,0,204)\", \"line\": {\"width\": 2}, \"size\": 12, \"symbol\": 2}, \"mode\": \"markers\", \"name\": \"LEANA\", \"text\": [\"LEANA\"], \"x\": [71], \"y\": [86], \"type\": \"scatter\", \"uid\": \"619c1762-115c-11e9-8e0a-9cf387cc124e\"}, {\"marker\": {\"color\": \"rgb(0,0,204)\", \"line\": {\"width\": 2}, \"size\": 12, \"symbol\": 2}, \"mode\": \"markers\", \"name\": \"LISLEY\", \"text\": [\"LISLEY\"], \"x\": [100], \"y\": [76], \"type\": \"scatter\", \"uid\": \"619c1850-115c-11e9-9533-9cf387cc124e\"}, {\"marker\": {\"color\": \"rgb(198, 218, 32)\", \"line\": {\"width\": 2}, \"size\": 12, \"symbol\": 0}, \"mode\": \"markers\", \"name\": \"MARLUCIO\", \"text\": [\"MARLUCIO\"], \"x\": [35], \"y\": [18], \"type\": \"scatter\", \"uid\": \"619c1940-115c-11e9-bae2-9cf387cc124e\"}, {\"marker\": {\"color\": \"rgb(0,0,204)\", \"line\": {\"width\": 2}, \"size\": 12, \"symbol\": 2}, \"mode\": \"markers\", \"name\": \"PATRICK\", \"text\": [\"PATRICK\"], \"x\": [86], \"y\": [73], \"type\": \"scatter\", \"uid\": \"619c1a30-115c-11e9-a97f-9cf387cc124e\"}, {\"marker\": {\"color\": \"rgb(0,0,204)\", \"line\": {\"width\": 2}, \"size\": 12, \"symbol\": 2}, \"mode\": \"markers\", \"name\": \"RAFAELA\", \"text\": [\"RAFAELA\"], \"x\": [83], \"y\": [86], \"type\": \"scatter\", \"uid\": \"619c1b1e-115c-11e9-8778-9cf387cc124e\"}, {\"marker\": {\"color\": \"rgb(198, 218, 32)\", \"line\": {\"width\": 2}, \"size\": 12, \"symbol\": 0}, \"mode\": \"markers\", \"name\": \"TAIRONI\", \"text\": [\"TAIRONI\"], \"x\": [20], \"y\": [39], \"type\": \"scatter\", \"uid\": \"619c1c06-115c-11e9-af3b-9cf387cc124e\"}, {\"marker\": {\"color\": \"rgb(0,0,204)\", \"line\": {\"width\": 2}, \"size\": 12, \"symbol\": 2}, \"mode\": \"markers\", \"name\": \"VALDECIL\", \"text\": [\"VALDECIL\"], \"x\": [89], \"y\": [76], \"type\": \"scatter\", \"uid\": \"619c1d50-115c-11e9-a68d-9cf387cc124e\"}],\n",
       "            {\"hovermode\": \"closest\", \"showlegend\": true, \"title\": \"Students' grades variation versus VLE' access\", \"xaxis\": {\"autorange\": true, \"showline\": true, \"title\": \"AVA Access\", \"titlefont\": {\"color\": \"rgb(180,180,180)\"}, \"zeroline\": false}, \"yaxis\": {\"autorange\": false, \"fixedrange\": true, \"range\": [0, 102], \"rangemode\": \"normal\", \"showline\": true, \"title\": \"Grade\", \"titlefont\": {\"color\": \"rgb(180,180,180)\"}}},\n",
       "            {\"showLink\": true, \"linkText\": \"Export to plot.ly\"}\n",
       "        ).then(function () {return Plotly.addFrames('e1bf36bb-23c8-4b1c-952a-f37373dd208b',{});}).then(function(){Plotly.animate('e1bf36bb-23c8-4b1c-952a-f37373dd208b');})\n",
       "        });</script>"
      ],
      "text/vnd.plotly.v1+html": [
       "<div id=\"e1bf36bb-23c8-4b1c-952a-f37373dd208b\" style=\"height: 525px; width: 100%;\" class=\"plotly-graph-div\"></div><script type=\"text/javascript\">require([\"plotly\"], function(Plotly) { window.PLOTLYENV=window.PLOTLYENV || {};window.PLOTLYENV.BASE_URL=\"https://plot.ly\";\n",
       "        Plotly.plot(\n",
       "            'e1bf36bb-23c8-4b1c-952a-f37373dd208b',\n",
       "            [{\"marker\": {\"color\": \"rgb(121,64,64)\", \"line\": {\"width\": 2}, \"size\": 12, \"symbol\": 1}, \"mode\": \"markers\", \"name\": \"ALANI\", \"text\": [\"ALANI\"], \"x\": [39], \"y\": [58], \"type\": \"scatter\", \"uid\": \"619c098c-115c-11e9-b645-9cf387cc124e\"}, {\"marker\": {\"color\": \"rgb(121,64,64)\", \"line\": {\"width\": 2}, \"size\": 12, \"symbol\": 1}, \"mode\": \"markers\", \"name\": \"ARIANA\", \"text\": [\"ARIANA\"], \"x\": [63], \"y\": [75], \"type\": \"scatter\", \"uid\": \"619c0bba-115c-11e9-a3c1-9cf387cc124e\"}, {\"marker\": {\"color\": \"rgb(0,0,204)\", \"line\": {\"width\": 2}, \"size\": 12, \"symbol\": 2}, \"mode\": \"markers\", \"name\": \"ATALIANE\", \"text\": [\"ATALIANE\"], \"x\": [81], \"y\": [85], \"type\": \"scatter\", \"uid\": \"619c0ce8-115c-11e9-b1aa-9cf387cc124e\"}, {\"marker\": {\"color\": \"rgb(121,64,64)\", \"line\": {\"width\": 2}, \"size\": 12, \"symbol\": 1}, \"mode\": \"markers\", \"name\": \"DANIELA\", \"text\": [\"DANIELA\"], \"x\": [42], \"y\": [60], \"type\": \"scatter\", \"uid\": \"619c0df6-115c-11e9-adc0-9cf387cc124e\"}, {\"marker\": {\"color\": \"rgb(0,0,204)\", \"line\": {\"width\": 2}, \"size\": 12, \"symbol\": 2}, \"mode\": \"markers\", \"name\": \"DARTANHAN\", \"text\": [\"DARTANHAN\"], \"x\": [88], \"y\": [74], \"type\": \"scatter\", \"uid\": \"619c0ef0-115c-11e9-ab93-9cf387cc124e\"}, {\"marker\": {\"color\": \"rgb(198, 218, 32)\", \"line\": {\"width\": 2}, \"size\": 12, \"symbol\": 0}, \"mode\": \"markers\", \"name\": \"EZENILDO\", \"text\": [\"EZENILDO\"], \"x\": [20], \"y\": [42], \"type\": \"scatter\", \"uid\": \"619c0fe2-115c-11e9-ba82-9cf387cc124e\"}, {\"marker\": {\"color\": \"rgb(198, 218, 32)\", \"line\": {\"width\": 2}, \"size\": 12, \"symbol\": 0}, \"mode\": \"markers\", \"name\": \"GECINALDO\", \"text\": [\"GECINALDO\"], \"x\": [17], \"y\": [0], \"type\": \"scatter\", \"uid\": \"619c10da-115c-11e9-9f1a-9cf387cc124e\"}, {\"marker\": {\"color\": \"rgb(198, 218, 32)\", \"line\": {\"width\": 2}, \"size\": 12, \"symbol\": 0}, \"mode\": \"markers\", \"name\": \"GISRAEL\", \"text\": [\"GISRAEL\"], \"x\": [10], \"y\": [0], \"type\": \"scatter\", \"uid\": \"619c11ca-115c-11e9-b572-9cf387cc124e\"}, {\"marker\": {\"color\": \"rgb(0,0,204)\", \"line\": {\"width\": 2}, \"size\": 12, \"symbol\": 2}, \"mode\": \"markers\", \"name\": \"IACI\", \"text\": [\"IACI\"], \"x\": [94], \"y\": [92], \"type\": \"scatter\", \"uid\": \"619c12ba-115c-11e9-b22b-9cf387cc124e\"}, {\"marker\": {\"color\": \"rgb(121,64,64)\", \"line\": {\"width\": 2}, \"size\": 12, \"symbol\": 1}, \"mode\": \"markers\", \"name\": \"ILKA\", \"text\": [\"ILKA\"], \"x\": [46], \"y\": [68], \"type\": \"scatter\", \"uid\": \"619c13a8-115c-11e9-8419-9cf387cc124e\"}, {\"marker\": {\"color\": \"rgb(121,64,64)\", \"line\": {\"width\": 2}, \"size\": 12, \"symbol\": 1}, \"mode\": \"markers\", \"name\": \"IRTON\", \"text\": [\"IRTON\"], \"x\": [55], \"y\": [70], \"type\": \"scatter\", \"uid\": \"619c149a-115c-11e9-83ba-9cf387cc124e\"}, {\"marker\": {\"color\": \"rgb(121,64,64)\", \"line\": {\"width\": 2}, \"size\": 12, \"symbol\": 1}, \"mode\": \"markers\", \"name\": \"JOVIANI\", \"text\": [\"JOVIANI\"], \"x\": [51], \"y\": [79], \"type\": \"scatter\", \"uid\": \"619c1580-115c-11e9-bfee-9cf387cc124e\"}, {\"marker\": {\"color\": \"rgb(0,0,204)\", \"line\": {\"width\": 2}, \"size\": 12, \"symbol\": 2}, \"mode\": \"markers\", \"name\": \"KELLY\", \"text\": [\"KELLY\"], \"x\": [94], \"y\": [81], \"type\": \"scatter\", \"uid\": \"619c1670-115c-11e9-8f40-9cf387cc124e\"}, {\"marker\": {\"color\": \"rgb(0,0,204)\", \"line\": {\"width\": 2}, \"size\": 12, \"symbol\": 2}, \"mode\": \"markers\", \"name\": \"LEANA\", \"text\": [\"LEANA\"], \"x\": [71], \"y\": [86], \"type\": \"scatter\", \"uid\": \"619c1762-115c-11e9-8e0a-9cf387cc124e\"}, {\"marker\": {\"color\": \"rgb(0,0,204)\", \"line\": {\"width\": 2}, \"size\": 12, \"symbol\": 2}, \"mode\": \"markers\", \"name\": \"LISLEY\", \"text\": [\"LISLEY\"], \"x\": [100], \"y\": [76], \"type\": \"scatter\", \"uid\": \"619c1850-115c-11e9-9533-9cf387cc124e\"}, {\"marker\": {\"color\": \"rgb(198, 218, 32)\", \"line\": {\"width\": 2}, \"size\": 12, \"symbol\": 0}, \"mode\": \"markers\", \"name\": \"MARLUCIO\", \"text\": [\"MARLUCIO\"], \"x\": [35], \"y\": [18], \"type\": \"scatter\", \"uid\": \"619c1940-115c-11e9-bae2-9cf387cc124e\"}, {\"marker\": {\"color\": \"rgb(0,0,204)\", \"line\": {\"width\": 2}, \"size\": 12, \"symbol\": 2}, \"mode\": \"markers\", \"name\": \"PATRICK\", \"text\": [\"PATRICK\"], \"x\": [86], \"y\": [73], \"type\": \"scatter\", \"uid\": \"619c1a30-115c-11e9-a97f-9cf387cc124e\"}, {\"marker\": {\"color\": \"rgb(0,0,204)\", \"line\": {\"width\": 2}, \"size\": 12, \"symbol\": 2}, \"mode\": \"markers\", \"name\": \"RAFAELA\", \"text\": [\"RAFAELA\"], \"x\": [83], \"y\": [86], \"type\": \"scatter\", \"uid\": \"619c1b1e-115c-11e9-8778-9cf387cc124e\"}, {\"marker\": {\"color\": \"rgb(198, 218, 32)\", \"line\": {\"width\": 2}, \"size\": 12, \"symbol\": 0}, \"mode\": \"markers\", \"name\": \"TAIRONI\", \"text\": [\"TAIRONI\"], \"x\": [20], \"y\": [39], \"type\": \"scatter\", \"uid\": \"619c1c06-115c-11e9-af3b-9cf387cc124e\"}, {\"marker\": {\"color\": \"rgb(0,0,204)\", \"line\": {\"width\": 2}, \"size\": 12, \"symbol\": 2}, \"mode\": \"markers\", \"name\": \"VALDECIL\", \"text\": [\"VALDECIL\"], \"x\": [89], \"y\": [76], \"type\": \"scatter\", \"uid\": \"619c1d50-115c-11e9-a68d-9cf387cc124e\"}],\n",
       "            {\"hovermode\": \"closest\", \"showlegend\": true, \"title\": \"Students' grades variation versus VLE' access\", \"xaxis\": {\"autorange\": true, \"showline\": true, \"title\": \"AVA Access\", \"titlefont\": {\"color\": \"rgb(180,180,180)\"}, \"zeroline\": false}, \"yaxis\": {\"autorange\": false, \"fixedrange\": true, \"range\": [0, 102], \"rangemode\": \"normal\", \"showline\": true, \"title\": \"Grade\", \"titlefont\": {\"color\": \"rgb(180,180,180)\"}}},\n",
       "            {\"showLink\": true, \"linkText\": \"Export to plot.ly\"}\n",
       "        ).then(function () {return Plotly.addFrames('e1bf36bb-23c8-4b1c-952a-f37373dd208b',{});}).then(function(){Plotly.animate('e1bf36bb-23c8-4b1c-952a-f37373dd208b');})\n",
       "        });</script>"
      ]
     },
     "metadata": {},
     "output_type": "display_data"
    },
    {
     "data": {
      "application/vnd.plotly.v1+json": {
       "data": [
        {
         "boxmean": true,
         "boxpoints": "all",
         "marker": {
          "color": "rgb(198, 218, 32)",
          "line": {
           "width": 1
          }
         },
         "name": "Cluster 1",
         "text": [
          "GISRAEL",
          "GECINALDO",
          "MARLUCIO",
          "TAIRONI",
          "EZENILDO"
         ],
         "type": "box",
         "uid": "61aad23a-115c-11e9-9b61-9cf387cc124e",
         "y": [
          0,
          0,
          18,
          39,
          42
         ]
        },
        {
         "boxmean": true,
         "boxpoints": "all",
         "marker": {
          "color": "rgb(121,64,64)",
          "line": {
           "width": 1
          }
         },
         "name": "Cluster 2",
         "text": [
          "ALANI",
          "DANIELA",
          "ILKA",
          "IRTON",
          "ARIANA",
          "JOVIANI"
         ],
         "type": "box",
         "uid": "61aad534-115c-11e9-b16a-9cf387cc124e",
         "y": [
          58,
          60,
          68,
          70,
          75,
          79
         ]
        },
        {
         "boxmean": true,
         "boxpoints": "all",
         "marker": {
          "color": "rgb(0,0,204)",
          "line": {
           "width": 1
          }
         },
         "name": "Cluster 3",
         "text": [
          "PATRICK",
          "DARTANHAN",
          "LISLEY",
          "VALDECIL",
          "KELLY",
          "ATALIANE",
          "LEANA",
          "RAFAELA",
          "IACI"
         ],
         "type": "box",
         "uid": "61aad6ba-115c-11e9-a9dd-9cf387cc124e",
         "y": [
          73,
          74,
          76,
          76,
          81,
          85,
          86,
          86,
          92
         ]
        }
       ],
       "layout": {
        "showlegend": true,
        "title": "Students' grades variation by cluster",
        "xaxis": {
         "title": "",
         "titlefont": {
          "color": "rgb(180,180,180)"
         }
        },
        "yaxis": {
         "fixedrange": false,
         "range": [
          -1,
          102
         ],
         "rangemode": "normal",
         "title": "Grades",
         "titlefont": {
          "color": "rgb(180,180,180)"
         },
         "zeroline": false
        }
       }
      },
      "text/html": [
       "<div id=\"98014d64-2306-41d5-9303-66638c53637d\" style=\"height: 525px; width: 100%;\" class=\"plotly-graph-div\"></div><script type=\"text/javascript\">require([\"plotly\"], function(Plotly) { window.PLOTLYENV=window.PLOTLYENV || {};window.PLOTLYENV.BASE_URL=\"https://plot.ly\";\n",
       "        Plotly.plot(\n",
       "            '98014d64-2306-41d5-9303-66638c53637d',\n",
       "            [{\"boxmean\": true, \"boxpoints\": \"all\", \"marker\": {\"color\": \"rgb(198, 218, 32)\", \"line\": {\"width\": 1}}, \"name\": \"Cluster 1\", \"text\": [\"GISRAEL\", \"GECINALDO\", \"MARLUCIO\", \"TAIRONI\", \"EZENILDO\"], \"y\": [0, 0, 18, 39, 42], \"type\": \"box\", \"uid\": \"61aad23a-115c-11e9-9b61-9cf387cc124e\"}, {\"boxmean\": true, \"boxpoints\": \"all\", \"marker\": {\"color\": \"rgb(121,64,64)\", \"line\": {\"width\": 1}}, \"name\": \"Cluster 2\", \"text\": [\"ALANI\", \"DANIELA\", \"ILKA\", \"IRTON\", \"ARIANA\", \"JOVIANI\"], \"y\": [58, 60, 68, 70, 75, 79], \"type\": \"box\", \"uid\": \"61aad534-115c-11e9-b16a-9cf387cc124e\"}, {\"boxmean\": true, \"boxpoints\": \"all\", \"marker\": {\"color\": \"rgb(0,0,204)\", \"line\": {\"width\": 1}}, \"name\": \"Cluster 3\", \"text\": [\"PATRICK\", \"DARTANHAN\", \"LISLEY\", \"VALDECIL\", \"KELLY\", \"ATALIANE\", \"LEANA\", \"RAFAELA\", \"IACI\"], \"y\": [73, 74, 76, 76, 81, 85, 86, 86, 92], \"type\": \"box\", \"uid\": \"61aad6ba-115c-11e9-a9dd-9cf387cc124e\"}],\n",
       "            {\"showlegend\": true, \"title\": \"Students' grades variation by cluster\", \"xaxis\": {\"title\": \"\", \"titlefont\": {\"color\": \"rgb(180,180,180)\"}}, \"yaxis\": {\"fixedrange\": false, \"range\": [-1, 102], \"rangemode\": \"normal\", \"title\": \"Grades\", \"titlefont\": {\"color\": \"rgb(180,180,180)\"}, \"zeroline\": false}},\n",
       "            {\"showLink\": true, \"linkText\": \"Export to plot.ly\"}\n",
       "        ).then(function () {return Plotly.addFrames('98014d64-2306-41d5-9303-66638c53637d',{});}).then(function(){Plotly.animate('98014d64-2306-41d5-9303-66638c53637d');})\n",
       "        });</script>"
      ],
      "text/vnd.plotly.v1+html": [
       "<div id=\"98014d64-2306-41d5-9303-66638c53637d\" style=\"height: 525px; width: 100%;\" class=\"plotly-graph-div\"></div><script type=\"text/javascript\">require([\"plotly\"], function(Plotly) { window.PLOTLYENV=window.PLOTLYENV || {};window.PLOTLYENV.BASE_URL=\"https://plot.ly\";\n",
       "        Plotly.plot(\n",
       "            '98014d64-2306-41d5-9303-66638c53637d',\n",
       "            [{\"boxmean\": true, \"boxpoints\": \"all\", \"marker\": {\"color\": \"rgb(198, 218, 32)\", \"line\": {\"width\": 1}}, \"name\": \"Cluster 1\", \"text\": [\"GISRAEL\", \"GECINALDO\", \"MARLUCIO\", \"TAIRONI\", \"EZENILDO\"], \"y\": [0, 0, 18, 39, 42], \"type\": \"box\", \"uid\": \"61aad23a-115c-11e9-9b61-9cf387cc124e\"}, {\"boxmean\": true, \"boxpoints\": \"all\", \"marker\": {\"color\": \"rgb(121,64,64)\", \"line\": {\"width\": 1}}, \"name\": \"Cluster 2\", \"text\": [\"ALANI\", \"DANIELA\", \"ILKA\", \"IRTON\", \"ARIANA\", \"JOVIANI\"], \"y\": [58, 60, 68, 70, 75, 79], \"type\": \"box\", \"uid\": \"61aad534-115c-11e9-b16a-9cf387cc124e\"}, {\"boxmean\": true, \"boxpoints\": \"all\", \"marker\": {\"color\": \"rgb(0,0,204)\", \"line\": {\"width\": 1}}, \"name\": \"Cluster 3\", \"text\": [\"PATRICK\", \"DARTANHAN\", \"LISLEY\", \"VALDECIL\", \"KELLY\", \"ATALIANE\", \"LEANA\", \"RAFAELA\", \"IACI\"], \"y\": [73, 74, 76, 76, 81, 85, 86, 86, 92], \"type\": \"box\", \"uid\": \"61aad6ba-115c-11e9-a9dd-9cf387cc124e\"}],\n",
       "            {\"showlegend\": true, \"title\": \"Students' grades variation by cluster\", \"xaxis\": {\"title\": \"\", \"titlefont\": {\"color\": \"rgb(180,180,180)\"}}, \"yaxis\": {\"fixedrange\": false, \"range\": [-1, 102], \"rangemode\": \"normal\", \"title\": \"Grades\", \"titlefont\": {\"color\": \"rgb(180,180,180)\"}, \"zeroline\": false}},\n",
       "            {\"showLink\": true, \"linkText\": \"Export to plot.ly\"}\n",
       "        ).then(function () {return Plotly.addFrames('98014d64-2306-41d5-9303-66638c53637d',{});}).then(function(){Plotly.animate('98014d64-2306-41d5-9303-66638c53637d');})\n",
       "        });</script>"
      ]
     },
     "metadata": {},
     "output_type": "display_data"
    },
    {
     "data": {
      "application/vnd.plotly.v1+json": {
       "data": [
        {
         "box": {
          "visible": true
         },
         "line": {
          "color": "rgb(198, 218, 32)"
         },
         "marker": {
          "line": {
           "width": 1
          }
         },
         "meanline": {
          "visible": true
         },
         "name": "Cluster 1",
         "points": "all",
         "text": [
          "GISRAEL",
          "GECINALDO",
          "MARLUCIO",
          "TAIRONI",
          "EZENILDO"
         ],
         "type": "violin",
         "uid": "61b72ac8-115c-11e9-ba63-9cf387cc124e",
         "x": [
          "Cluster 1",
          "Cluster 1",
          "Cluster 1",
          "Cluster 1",
          "Cluster 1"
         ],
         "y": [
          0,
          0,
          18,
          39,
          42
         ]
        },
        {
         "box": {
          "visible": true
         },
         "line": {
          "color": "rgb(121,64,64)"
         },
         "marker": {
          "line": {
           "width": 1
          }
         },
         "meanline": {
          "visible": true
         },
         "name": "Cluster 2",
         "points": "all",
         "text": [
          "ALANI",
          "DANIELA",
          "ILKA",
          "IRTON",
          "ARIANA",
          "JOVIANI"
         ],
         "type": "violin",
         "uid": "61b72d18-115c-11e9-acc8-9cf387cc124e",
         "x": [
          "Cluster 2",
          "Cluster 2",
          "Cluster 2",
          "Cluster 2",
          "Cluster 2",
          "Cluster 2"
         ],
         "y": [
          58,
          60,
          68,
          70,
          75,
          79
         ]
        },
        {
         "box": {
          "visible": true
         },
         "line": {
          "color": "rgb(0,0,204)"
         },
         "marker": {
          "line": {
           "width": 1
          }
         },
         "meanline": {
          "visible": true
         },
         "name": "Cluster 3",
         "points": "all",
         "text": [
          "PATRICK",
          "DARTANHAN",
          "LISLEY",
          "VALDECIL",
          "KELLY",
          "ATALIANE",
          "LEANA",
          "RAFAELA",
          "IACI"
         ],
         "type": "violin",
         "uid": "61b72eb0-115c-11e9-96f0-9cf387cc124e",
         "x": [
          "Cluster 3",
          "Cluster 3",
          "Cluster 3",
          "Cluster 3",
          "Cluster 3",
          "Cluster 3",
          "Cluster 3",
          "Cluster 3",
          "Cluster 3"
         ],
         "y": [
          73,
          74,
          76,
          76,
          81,
          85,
          86,
          86,
          92
         ]
        }
       ],
       "layout": {
        "hovermode": "closest",
        "showlegend": true,
        "title": "Students' grades variation by cluster",
        "xaxis": {
         "title": "",
         "titlefont": {
          "color": "rgb(180,180,180)"
         }
        },
        "yaxis": {
         "fixedrange": false,
         "range": [
          -15,
          102
         ],
         "rangemode": "normal",
         "title": "Grades",
         "titlefont": {
          "color": "rgb(180,180,180)"
         },
         "zeroline": false
        }
       }
      },
      "text/html": [
       "<div id=\"ecf34864-b7f3-4e08-8747-b05132f8895a\" style=\"height: 525px; width: 100%;\" class=\"plotly-graph-div\"></div><script type=\"text/javascript\">require([\"plotly\"], function(Plotly) { window.PLOTLYENV=window.PLOTLYENV || {};window.PLOTLYENV.BASE_URL=\"https://plot.ly\";\n",
       "        Plotly.plot(\n",
       "            'ecf34864-b7f3-4e08-8747-b05132f8895a',\n",
       "            [{\"box\": {\"visible\": true}, \"line\": {\"color\": \"rgb(198, 218, 32)\"}, \"marker\": {\"line\": {\"width\": 1}}, \"meanline\": {\"visible\": true}, \"name\": \"Cluster 1\", \"points\": \"all\", \"text\": [\"GISRAEL\", \"GECINALDO\", \"MARLUCIO\", \"TAIRONI\", \"EZENILDO\"], \"x\": [\"Cluster 1\", \"Cluster 1\", \"Cluster 1\", \"Cluster 1\", \"Cluster 1\"], \"y\": [0, 0, 18, 39, 42], \"type\": \"violin\", \"uid\": \"61b72ac8-115c-11e9-ba63-9cf387cc124e\"}, {\"box\": {\"visible\": true}, \"line\": {\"color\": \"rgb(121,64,64)\"}, \"marker\": {\"line\": {\"width\": 1}}, \"meanline\": {\"visible\": true}, \"name\": \"Cluster 2\", \"points\": \"all\", \"text\": [\"ALANI\", \"DANIELA\", \"ILKA\", \"IRTON\", \"ARIANA\", \"JOVIANI\"], \"x\": [\"Cluster 2\", \"Cluster 2\", \"Cluster 2\", \"Cluster 2\", \"Cluster 2\", \"Cluster 2\"], \"y\": [58, 60, 68, 70, 75, 79], \"type\": \"violin\", \"uid\": \"61b72d18-115c-11e9-acc8-9cf387cc124e\"}, {\"box\": {\"visible\": true}, \"line\": {\"color\": \"rgb(0,0,204)\"}, \"marker\": {\"line\": {\"width\": 1}}, \"meanline\": {\"visible\": true}, \"name\": \"Cluster 3\", \"points\": \"all\", \"text\": [\"PATRICK\", \"DARTANHAN\", \"LISLEY\", \"VALDECIL\", \"KELLY\", \"ATALIANE\", \"LEANA\", \"RAFAELA\", \"IACI\"], \"x\": [\"Cluster 3\", \"Cluster 3\", \"Cluster 3\", \"Cluster 3\", \"Cluster 3\", \"Cluster 3\", \"Cluster 3\", \"Cluster 3\", \"Cluster 3\"], \"y\": [73, 74, 76, 76, 81, 85, 86, 86, 92], \"type\": \"violin\", \"uid\": \"61b72eb0-115c-11e9-96f0-9cf387cc124e\"}],\n",
       "            {\"hovermode\": \"closest\", \"showlegend\": true, \"title\": \"Students' grades variation by cluster\", \"xaxis\": {\"title\": \"\", \"titlefont\": {\"color\": \"rgb(180,180,180)\"}}, \"yaxis\": {\"fixedrange\": false, \"range\": [-15, 102], \"rangemode\": \"normal\", \"title\": \"Grades\", \"titlefont\": {\"color\": \"rgb(180,180,180)\"}, \"zeroline\": false}},\n",
       "            {\"showLink\": true, \"linkText\": \"Export to plot.ly\"}\n",
       "        ).then(function () {return Plotly.addFrames('ecf34864-b7f3-4e08-8747-b05132f8895a',{});}).then(function(){Plotly.animate('ecf34864-b7f3-4e08-8747-b05132f8895a');})\n",
       "        });</script>"
      ],
      "text/vnd.plotly.v1+html": [
       "<div id=\"ecf34864-b7f3-4e08-8747-b05132f8895a\" style=\"height: 525px; width: 100%;\" class=\"plotly-graph-div\"></div><script type=\"text/javascript\">require([\"plotly\"], function(Plotly) { window.PLOTLYENV=window.PLOTLYENV || {};window.PLOTLYENV.BASE_URL=\"https://plot.ly\";\n",
       "        Plotly.plot(\n",
       "            'ecf34864-b7f3-4e08-8747-b05132f8895a',\n",
       "            [{\"box\": {\"visible\": true}, \"line\": {\"color\": \"rgb(198, 218, 32)\"}, \"marker\": {\"line\": {\"width\": 1}}, \"meanline\": {\"visible\": true}, \"name\": \"Cluster 1\", \"points\": \"all\", \"text\": [\"GISRAEL\", \"GECINALDO\", \"MARLUCIO\", \"TAIRONI\", \"EZENILDO\"], \"x\": [\"Cluster 1\", \"Cluster 1\", \"Cluster 1\", \"Cluster 1\", \"Cluster 1\"], \"y\": [0, 0, 18, 39, 42], \"type\": \"violin\", \"uid\": \"61b72ac8-115c-11e9-ba63-9cf387cc124e\"}, {\"box\": {\"visible\": true}, \"line\": {\"color\": \"rgb(121,64,64)\"}, \"marker\": {\"line\": {\"width\": 1}}, \"meanline\": {\"visible\": true}, \"name\": \"Cluster 2\", \"points\": \"all\", \"text\": [\"ALANI\", \"DANIELA\", \"ILKA\", \"IRTON\", \"ARIANA\", \"JOVIANI\"], \"x\": [\"Cluster 2\", \"Cluster 2\", \"Cluster 2\", \"Cluster 2\", \"Cluster 2\", \"Cluster 2\"], \"y\": [58, 60, 68, 70, 75, 79], \"type\": \"violin\", \"uid\": \"61b72d18-115c-11e9-acc8-9cf387cc124e\"}, {\"box\": {\"visible\": true}, \"line\": {\"color\": \"rgb(0,0,204)\"}, \"marker\": {\"line\": {\"width\": 1}}, \"meanline\": {\"visible\": true}, \"name\": \"Cluster 3\", \"points\": \"all\", \"text\": [\"PATRICK\", \"DARTANHAN\", \"LISLEY\", \"VALDECIL\", \"KELLY\", \"ATALIANE\", \"LEANA\", \"RAFAELA\", \"IACI\"], \"x\": [\"Cluster 3\", \"Cluster 3\", \"Cluster 3\", \"Cluster 3\", \"Cluster 3\", \"Cluster 3\", \"Cluster 3\", \"Cluster 3\", \"Cluster 3\"], \"y\": [73, 74, 76, 76, 81, 85, 86, 86, 92], \"type\": \"violin\", \"uid\": \"61b72eb0-115c-11e9-96f0-9cf387cc124e\"}],\n",
       "            {\"hovermode\": \"closest\", \"showlegend\": true, \"title\": \"Students' grades variation by cluster\", \"xaxis\": {\"title\": \"\", \"titlefont\": {\"color\": \"rgb(180,180,180)\"}}, \"yaxis\": {\"fixedrange\": false, \"range\": [-15, 102], \"rangemode\": \"normal\", \"title\": \"Grades\", \"titlefont\": {\"color\": \"rgb(180,180,180)\"}, \"zeroline\": false}},\n",
       "            {\"showLink\": true, \"linkText\": \"Export to plot.ly\"}\n",
       "        ).then(function () {return Plotly.addFrames('ecf34864-b7f3-4e08-8747-b05132f8895a',{});}).then(function(){Plotly.animate('ecf34864-b7f3-4e08-8747-b05132f8895a');})\n",
       "        });</script>"
      ]
     },
     "metadata": {},
     "output_type": "display_data"
    }
   ],
   "source": [
    "instance = V011()\n",
    "instance.generate_dataset(number_students = 20)\n",
    "# instance.print_all_graphs(\"pt\")\n",
    "instance.print_all_graphs(\"en\")"
   ]
  },
  {
   "cell_type": "code",
   "execution_count": null,
   "metadata": {},
   "outputs": [],
   "source": []
  }
 ],
 "metadata": {
  "kernelspec": {
   "display_name": "Python 3",
   "language": "python",
   "name": "python3"
  },
  "language_info": {
   "codemirror_mode": {
    "name": "ipython",
    "version": 3
   },
   "file_extension": ".py",
   "mimetype": "text/x-python",
   "name": "python",
   "nbconvert_exporter": "python",
   "pygments_lexer": "ipython3",
   "version": "3.6.5"
  }
 },
 "nbformat": 4,
 "nbformat_minor": 2
}
