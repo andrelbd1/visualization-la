{
 "cells": [
  {
   "cell_type": "markdown",
   "metadata": {},
   "source": [
    "### View 001 - Tarefas feitas pelos estudantes"
   ]
  },
  {
   "cell_type": "code",
   "execution_count": null,
   "metadata": {},
   "outputs": [],
   "source": [
    "run V001.py"
   ]
  },
  {
   "cell_type": "code",
   "execution_count": null,
   "metadata": {
    "scrolled": true
   },
   "outputs": [],
   "source": [
    "instance = V001()\n",
    "instance.generate_dataset(number_students = 20, number_assigns = 10)\n",
    "# instance.print_all_graphs(\"pt\")\n",
    "instance.print_all_graphs(\"en\")"
   ]
  },
  {
   "cell_type": "markdown",
   "metadata": {},
   "source": [
    "### View 002 - Acesso dos estudantes aos materiais (ex: videos, ebooks, etc.)"
   ]
  },
  {
   "cell_type": "code",
   "execution_count": null,
   "metadata": {
    "scrolled": true
   },
   "outputs": [],
   "source": [
    "run V002.py"
   ]
  },
  {
   "cell_type": "code",
   "execution_count": null,
   "metadata": {},
   "outputs": [],
   "source": [
    "instance = V002()\n",
    "instance.generate_dataset(number_students = 20)\n",
    "# instance.print_all_graphs(\"pt\")\n",
    "instance.print_all_graphs(\"en\")"
   ]
  },
  {
   "cell_type": "markdown",
   "metadata": {},
   "source": [
    "### View 003 - Interação dos estudantes no fórum (ex: postagens, acessos, etc.)"
   ]
  },
  {
   "cell_type": "code",
   "execution_count": null,
   "metadata": {
    "scrolled": true
   },
   "outputs": [],
   "source": [
    "run V003.py"
   ]
  },
  {
   "cell_type": "code",
   "execution_count": null,
   "metadata": {},
   "outputs": [],
   "source": [
    "instance = V003(20)\n",
    "instance.generate_dataset(number_students = 20)\n",
    "# instance.print_all_graphs(\"pt\")\n",
    "instance.print_all_graphs(\"en\")"
   ]
  },
  {
   "cell_type": "markdown",
   "metadata": {},
   "source": [
    "### View 004 - Tempo de permanencia dos estudantes nos vídeos"
   ]
  },
  {
   "cell_type": "code",
   "execution_count": null,
   "metadata": {
    "scrolled": true
   },
   "outputs": [],
   "source": [
    "run V004.py"
   ]
  },
  {
   "cell_type": "code",
   "execution_count": null,
   "metadata": {},
   "outputs": [],
   "source": [
    "instance = V004()\n",
    "instance.generate_dataset(number_students = 20)\n",
    "# instance.print_all_graphs(\"pt\")\n",
    "instance.print_all_graphs(\"en\")"
   ]
  },
  {
   "cell_type": "markdown",
   "metadata": {},
   "source": [
    "### View 005 - Correlação entre as notas e os logs de acesso/interação dos estudantes"
   ]
  },
  {
   "cell_type": "code",
   "execution_count": null,
   "metadata": {},
   "outputs": [],
   "source": [
    "run V005.py"
   ]
  },
  {
   "cell_type": "code",
   "execution_count": null,
   "metadata": {
    "scrolled": true
   },
   "outputs": [],
   "source": [
    "instance = V005()\n",
    "instance.generate_dataset(number_students = 60)\n",
    "# instance.print_all_graphs(\"pt\")\n",
    "instance.print_all_graphs(\"en\")"
   ]
  },
  {
   "cell_type": "markdown",
   "metadata": {},
   "source": [
    "### View 006 - Correlação entre o perfil (idade, cidade de origem, etc.) e os logs de acesso/interação dos estudantes"
   ]
  },
  {
   "cell_type": "code",
   "execution_count": null,
   "metadata": {
    "scrolled": true
   },
   "outputs": [],
   "source": [
    "run V006.py"
   ]
  },
  {
   "cell_type": "code",
   "execution_count": null,
   "metadata": {},
   "outputs": [],
   "source": [
    "instance = V006()\n",
    "instance.generate_dataset(number_students = 60)\n",
    "# instance.print_all_graphs(\"pt\")\n",
    "instance.print_all_graphs(\"en\")"
   ]
  },
  {
   "cell_type": "markdown",
   "metadata": {},
   "source": [
    "### View 007 - Predição das notas que os estudante terão ao final do curso e quais abandonarão"
   ]
  },
  {
   "cell_type": "code",
   "execution_count": null,
   "metadata": {},
   "outputs": [],
   "source": [
    "run eduvis/V007.py"
   ]
  },
  {
   "cell_type": "code",
   "execution_count": null,
   "metadata": {},
   "outputs": [],
   "source": []
  },
  {
   "cell_type": "markdown",
   "metadata": {},
   "source": [
    "### View 008 - Acesso dos estudantes no AVA por dia ou semana"
   ]
  },
  {
   "cell_type": "code",
   "execution_count": null,
   "metadata": {
    "scrolled": true
   },
   "outputs": [],
   "source": [
    "run V008.py"
   ]
  },
  {
   "cell_type": "code",
   "execution_count": null,
   "metadata": {
    "scrolled": false
   },
   "outputs": [],
   "source": [
    "instance = V008()\n",
    "instance.generate_dataset(number_students=35, number_weeks=7)\n",
    "# instance.print_all_graphs(\"pt\")\n",
    "instance.print_all_graphs(\"en\")"
   ]
  },
  {
   "cell_type": "markdown",
   "metadata": {},
   "source": [
    "### View 009 - Interação dos estudantes nos vídeos (play, pause, backward, forward)"
   ]
  },
  {
   "cell_type": "code",
   "execution_count": 111,
   "metadata": {},
   "outputs": [
    {
     "data": {
      "text/html": [
       "<script>requirejs.config({paths: { 'plotly': ['https://cdn.plot.ly/plotly-latest.min']},});if(!window.Plotly) {{require(['plotly'],function(plotly) {window.Plotly=plotly;});}}</script>"
      ],
      "text/vnd.plotly.v1+html": [
       "<script>requirejs.config({paths: { 'plotly': ['https://cdn.plot.ly/plotly-latest.min']},});if(!window.Plotly) {{require(['plotly'],function(plotly) {window.Plotly=plotly;});}}</script>"
      ]
     },
     "metadata": {},
     "output_type": "display_data"
    }
   ],
   "source": [
    "run V009.py"
   ]
  },
  {
   "cell_type": "code",
   "execution_count": 112,
   "metadata": {
    "scrolled": true
   },
   "outputs": [
    {
     "name": "stdout",
     "output_type": "stream",
     "text": [
      "     Play  Pause  Seek from  Seek to\n",
      "0       0      0          0        0\n",
      "1       0      0          0        0\n",
      "2       0      0          0        0\n",
      "3       0      0          0        0\n",
      "4       0      0          0        0\n",
      "5       0      0          0        0\n",
      "6       0      0          0        0\n",
      "7       0      0          0        0\n",
      "8       0      0          0        0\n",
      "9       0      0          0        0\n",
      "10      0      0          0        0\n",
      "11      0      0          0        0\n",
      "12      0      0          0        0\n",
      "13      0      0          0        0\n",
      "14      0      0          0        0\n",
      "15      0      0          0        0\n",
      "16      0      0          0        0\n",
      "17      0      0          0        0\n",
      "18      0      0          0        0\n",
      "19      0      0          0        0\n",
      "20      0      0          0        0\n",
      "21      0      0          0        0\n",
      "22      0      0          0        0\n",
      "23      0      0          0        0\n",
      "24      0      0          0        0\n",
      "25      0      0          0        0\n",
      "26      0      0          0        0\n",
      "27      0      0          0        0\n",
      "28      0      0          0        0\n",
      "29      0      0          0        0\n",
      "..    ...    ...        ...      ...\n",
      "90      0      0          0        0\n",
      "91      0      0          0        0\n",
      "92      0      0          0        0\n",
      "93      0      0          0        0\n",
      "94      0      0          0        0\n",
      "95      0      0          0        0\n",
      "96      0      0          0        0\n",
      "97      0      0          0        0\n",
      "98      0      0          0        0\n",
      "99      0      0          0        0\n",
      "100     0      0          0        0\n",
      "101     0      0          0        0\n",
      "102     0      0          0        0\n",
      "103     0      0          0        0\n",
      "104     0      0          0        0\n",
      "105     0      0          0        0\n",
      "106     0      0          0        0\n",
      "107     0      0          0        0\n",
      "108     0      0          0        0\n",
      "109     0      0          0        0\n",
      "110     0      0          0        0\n",
      "111     0      0          0        0\n",
      "112     0      0          0        0\n",
      "113     0      0          0        0\n",
      "114     0      0          0        0\n",
      "115     0      0          0        0\n",
      "116     0      0          0        0\n",
      "117     0      0          0        0\n",
      "118     0      0          0        0\n",
      "119     0      0          0        0\n",
      "\n",
      "[120 rows x 4 columns]\n",
      "<bound method NDFrame.head of      Play  Pause  Seek from  Seek to\n",
      "0       1      0          0        0\n",
      "1       0      0          0        0\n",
      "2       0      0          0        0\n",
      "3       0      0          0        0\n",
      "4       0      0          0        0\n",
      "5       0      0          0        0\n",
      "6       0      0          0        0\n",
      "7       0      0          0        0\n",
      "8       0      0          0        0\n",
      "9       0      0          0        0\n",
      "10      0      0          0        0\n",
      "11      0      0          0        0\n",
      "12      0      0          0        0\n",
      "13      0      0          0        0\n",
      "14      0      0          0        0\n",
      "15      0      0          0        0\n",
      "16      0      0          0        0\n",
      "17      0      0          0        0\n",
      "18      0      0          0        0\n",
      "19      0      0          0        0\n",
      "20      0      0          0        0\n",
      "21      0      0          0        0\n",
      "22      0      0          0        0\n",
      "23      0      0          0        0\n",
      "24      0      0          0        0\n",
      "25      0      0          0        0\n",
      "26      0      0          0        0\n",
      "27      0      0          0        0\n",
      "28      0      0          0        0\n",
      "29      0      0          0        0\n",
      "..    ...    ...        ...      ...\n",
      "90      0      0          0        0\n",
      "91      0      0          0        0\n",
      "92      0      0          0        0\n",
      "93      0      0          0        0\n",
      "94      0      0          0        0\n",
      "95      0      0          0        0\n",
      "96      0      0          0        0\n",
      "97      0      0          0        0\n",
      "98      0      0          0        0\n",
      "99      0      0          0        0\n",
      "100     0      0          0        0\n",
      "101     0      0          0        0\n",
      "102     0      0          0        0\n",
      "103     0      0          0        0\n",
      "104     0      0          0        0\n",
      "105     0      0          0        0\n",
      "106     0      0          0        0\n",
      "107     0      0          0        0\n",
      "108     0      0          0        0\n",
      "109     0      0          0        0\n",
      "110     0      0          0        0\n",
      "111     0      0          0        0\n",
      "112     0      0          0        0\n",
      "113     0      0          0        0\n",
      "114     0      0          0        0\n",
      "115     0      0          0        0\n",
      "116     0      0          0        0\n",
      "117     0      0          0        0\n",
      "118     0      0          0        0\n",
      "119     0      0          0        0\n",
      "\n",
      "[120 rows x 4 columns]>\n",
      "<bound method NDFrame.head of      Play  Pause  Seek from  Seek to\n",
      "0       2      0          0        0\n",
      "1       0      0          0        0\n",
      "2       0      0          0        0\n",
      "3       0      0          0        0\n",
      "4       0      0          0        0\n",
      "5       0      0          0        0\n",
      "6       0      0          0        0\n",
      "7       0      0          0        0\n",
      "8       0      0          0        0\n",
      "9       0      0          0        0\n",
      "10      0      0          0        0\n",
      "11      0      0          0        0\n",
      "12      0      0          0        0\n",
      "13      0      0          0        0\n",
      "14      0      0          0        0\n",
      "15      0      0          0        0\n",
      "16      0      0          0        0\n",
      "17      0      0          0        0\n",
      "18      0      0          0        0\n",
      "19      0      0          0        0\n",
      "20      0      0          0        0\n",
      "21      0      0          0        0\n",
      "22      0      0          0        0\n",
      "23      0      0          0        0\n",
      "24      0      0          0        0\n",
      "25      0      0          0        0\n",
      "26      0      0          0        0\n",
      "27      0      0          0        0\n",
      "28      0      0          0        0\n",
      "29      1      1          0        0\n",
      "..    ...    ...        ...      ...\n",
      "90      0      0          0        0\n",
      "91      0      0          0        0\n",
      "92      0      0          0        0\n",
      "93      0      0          0        0\n",
      "94      0      0          0        0\n",
      "95      0      0          0        0\n",
      "96      0      0          0        0\n",
      "97      0      0          0        0\n",
      "98      0      0          0        0\n",
      "99      0      0          0        0\n",
      "100     0      0          0        0\n",
      "101     0      0          0        0\n",
      "102     0      0          0        0\n",
      "103     0      0          0        0\n",
      "104     0      0          0        0\n",
      "105     0      0          0        0\n",
      "106     0      0          0        0\n",
      "107     0      0          0        0\n",
      "108     0      0          0        0\n",
      "109     0      0          0        0\n",
      "110     0      0          0        0\n",
      "111     0      0          0        0\n",
      "112     0      0          0        0\n",
      "113     0      0          0        0\n",
      "114     0      0          0        0\n",
      "115     0      0          0        0\n",
      "116     0      0          0        0\n",
      "117     0      0          0        0\n",
      "118     0      0          0        0\n",
      "119     0      0          0        0\n",
      "\n",
      "[120 rows x 4 columns]>\n",
      "<bound method NDFrame.head of      Play  Pause  Seek from  Seek to\n",
      "0       3      0          0        0\n",
      "1       0      0          0        0\n",
      "2       0      0          0        0\n",
      "3       0      0          0        0\n",
      "4       0      0          0        0\n",
      "5       0      0          0        0\n",
      "6       0      0          0        0\n",
      "7       0      0          0        0\n",
      "8       0      0          0        0\n",
      "9       0      0          0        0\n",
      "10      0      0          0        0\n",
      "11      0      0          0        0\n",
      "12      0      0          0        0\n",
      "13      0      0          0        0\n",
      "14      0      0          0        0\n",
      "15      0      0          0        0\n",
      "16      0      0          0        0\n",
      "17      0      0          0        0\n",
      "18      0      0          0        0\n",
      "19      0      0          0        0\n",
      "20      0      0          0        0\n",
      "21      0      0          0        0\n",
      "22      0      0          0        0\n",
      "23      0      0          0        0\n",
      "24      0      0          0        0\n",
      "25      0      0          0        0\n",
      "26      0      0          0        0\n",
      "27      0      0          0        0\n",
      "28      0      0          0        0\n",
      "29      1      1          0        0\n",
      "..    ...    ...        ...      ...\n",
      "90      0      0          0        0\n",
      "91      0      0          0        0\n",
      "92      0      0          0        0\n",
      "93      0      0          0        0\n",
      "94      0      0          0        0\n",
      "95      0      0          0        0\n",
      "96      0      0          1        0\n",
      "97      0      0          0        0\n",
      "98      0      0          0        0\n",
      "99      0      0          0        0\n",
      "100     0      0          0        0\n",
      "101     0      0          0        1\n",
      "102     0      0          0        0\n",
      "103     0      0          0        0\n",
      "104     0      0          0        0\n",
      "105     0      0          0        0\n",
      "106     0      0          0        0\n",
      "107     0      1          0        0\n",
      "108     0      0          0        0\n",
      "109     0      0          0        0\n",
      "110     0      0          0        0\n",
      "111     0      0          0        0\n",
      "112     0      0          0        0\n",
      "113     0      0          0        0\n",
      "114     0      0          0        0\n",
      "115     0      0          0        0\n",
      "116     0      0          0        0\n",
      "117     0      0          0        0\n",
      "118     0      0          0        0\n",
      "119     0      0          0        0\n",
      "\n",
      "[120 rows x 4 columns]>\n",
      "<bound method NDFrame.head of      Play  Pause  Seek from  Seek to\n",
      "0       4      0          0        0\n",
      "1       0      0          0        0\n",
      "2       0      0          0        0\n",
      "3       0      0          0        0\n",
      "4       0      0          0        0\n",
      "5       0      0          0        0\n",
      "6       0      0          0        0\n",
      "7       0      0          0        0\n",
      "8       0      0          0        0\n",
      "9       0      0          0        0\n",
      "10      0      0          0        0\n",
      "11      0      0          0        0\n",
      "12      0      0          0        0\n",
      "13      0      0          0        0\n",
      "14      0      0          0        0\n",
      "15      0      0          0        0\n",
      "16      0      0          0        0\n",
      "17      0      0          0        0\n",
      "18      0      0          0        0\n",
      "19      0      0          0        0\n",
      "20      1      1          0        0\n",
      "21      0      0          0        0\n",
      "22      0      0          0        0\n",
      "23      0      0          0        0\n",
      "24      0      0          0        0\n",
      "25      0      0          0        0\n",
      "26      0      0          0        0\n",
      "27      0      0          0        0\n",
      "28      0      0          0        0\n",
      "29      1      1          0        0\n",
      "..    ...    ...        ...      ...\n",
      "90      0      0          0        0\n",
      "91      0      1          0        0\n",
      "92      0      0          0        0\n",
      "93      0      0          0        0\n",
      "94      0      0          0        0\n",
      "95      0      0          0        0\n",
      "96      0      0          1        0\n",
      "97      0      0          0        0\n",
      "98      0      0          0        0\n",
      "99      0      0          0        0\n",
      "100     0      0          0        0\n",
      "101     0      0          0        1\n",
      "102     0      0          0        0\n",
      "103     0      0          0        0\n",
      "104     0      0          0        0\n",
      "105     0      0          0        0\n",
      "106     0      0          0        0\n",
      "107     0      1          0        0\n",
      "108     0      0          0        0\n",
      "109     0      0          0        0\n",
      "110     0      0          0        0\n",
      "111     0      0          0        0\n",
      "112     0      0          0        0\n",
      "113     0      0          0        0\n",
      "114     0      0          0        0\n",
      "115     0      0          0        0\n",
      "116     0      0          0        0\n",
      "117     0      0          0        0\n",
      "118     0      0          0        0\n",
      "119     0      0          0        0\n",
      "\n",
      "[120 rows x 4 columns]>\n"
     ]
    },
    {
     "name": "stdout",
     "output_type": "stream",
     "text": [
      "<bound method NDFrame.head of      Play  Pause  Seek from  Seek to\n",
      "0       5      0          0        0\n",
      "1       0      0          0        0\n",
      "2       0      0          0        0\n",
      "3       0      0          0        0\n",
      "4       0      0          0        0\n",
      "5       0      0          0        0\n",
      "6       0      0          0        0\n",
      "7       0      0          0        0\n",
      "8       0      0          0        0\n",
      "9       0      0          0        0\n",
      "10      0      0          0        0\n",
      "11      0      0          0        0\n",
      "12      0      0          0        0\n",
      "13      0      0          0        0\n",
      "14      0      0          0        0\n",
      "15      0      0          0        0\n",
      "16      0      0          0        0\n",
      "17      0      0          0        0\n",
      "18      0      0          0        0\n",
      "19      0      0          0        0\n",
      "20      1      1          0        0\n",
      "21      0      0          0        0\n",
      "22      0      0          0        0\n",
      "23      0      0          0        0\n",
      "24      0      0          0        0\n",
      "25      0      0          0        0\n",
      "26      0      0          0        0\n",
      "27      0      0          0        0\n",
      "28      0      0          0        0\n",
      "29      1      1          0        0\n",
      "..    ...    ...        ...      ...\n",
      "90      0      0          0        0\n",
      "91      0      1          0        0\n",
      "92      0      0          0        0\n",
      "93      0      0          0        0\n",
      "94      0      0          0        0\n",
      "95      0      0          0        0\n",
      "96      0      0          1        0\n",
      "97      0      0          0        0\n",
      "98      0      0          0        0\n",
      "99      0      0          0        0\n",
      "100     0      0          0        0\n",
      "101     0      0          0        1\n",
      "102     0      0          0        0\n",
      "103     0      0          0        0\n",
      "104     0      0          0        0\n",
      "105     0      0          0        0\n",
      "106     0      0          0        0\n",
      "107     0      1          0        0\n",
      "108     0      0          0        0\n",
      "109     0      0          0        0\n",
      "110     0      0          0        0\n",
      "111     0      0          0        0\n",
      "112     0      0          0        0\n",
      "113     0      0          0        0\n",
      "114     0      0          0        0\n",
      "115     0      0          0        0\n",
      "116     0      0          0        0\n",
      "117     0      0          0        0\n",
      "118     0      0          0        0\n",
      "119     0      0          0        0\n",
      "\n",
      "[120 rows x 4 columns]>\n",
      "<bound method NDFrame.head of      Play  Pause  Seek from  Seek to\n",
      "0       6      0          0        0\n",
      "1       0      0          0        0\n",
      "2       0      0          0        0\n",
      "3       0      0          0        0\n",
      "4       1      1          0        0\n",
      "5       0      0          0        0\n",
      "6       0      0          0        0\n",
      "7       0      0          0        0\n",
      "8       0      0          0        0\n",
      "9       0      0          0        0\n",
      "10      0      0          0        0\n",
      "11      0      0          0        0\n",
      "12      0      0          0        0\n",
      "13      0      0          0        0\n",
      "14      0      0          0        0\n",
      "15      0      0          0        0\n",
      "16      0      0          0        0\n",
      "17      0      0          0        0\n",
      "18      0      0          0        0\n",
      "19      0      0          0        0\n",
      "20      1      1          0        0\n",
      "21      0      0          0        0\n",
      "22      0      0          0        0\n",
      "23      0      0          0        0\n",
      "24      0      0          0        1\n",
      "25      0      0          0        0\n",
      "26      0      0          0        0\n",
      "27      0      0          0        0\n",
      "28      0      0          0        1\n",
      "29      1      1          0        0\n",
      "..    ...    ...        ...      ...\n",
      "90      0      0          0        0\n",
      "91      0      1          0        0\n",
      "92      0      0          0        0\n",
      "93      0      0          0        0\n",
      "94      0      0          0        0\n",
      "95      0      0          0        0\n",
      "96      0      0          1        0\n",
      "97      0      0          0        0\n",
      "98      0      0          0        0\n",
      "99      0      0          0        0\n",
      "100     0      0          0        0\n",
      "101     0      0          0        1\n",
      "102     0      0          0        0\n",
      "103     0      0          0        0\n",
      "104     0      0          0        0\n",
      "105     0      0          0        0\n",
      "106     0      0          0        0\n",
      "107     0      1          0        0\n",
      "108     0      0          0        0\n",
      "109     0      0          0        0\n",
      "110     0      0          0        0\n",
      "111     0      0          0        0\n",
      "112     0      0          0        0\n",
      "113     0      0          0        0\n",
      "114     0      0          0        0\n",
      "115     0      0          0        0\n",
      "116     0      0          0        0\n",
      "117     0      0          0        0\n",
      "118     0      0          0        0\n",
      "119     0      0          0        0\n",
      "\n",
      "[120 rows x 4 columns]>\n"
     ]
    },
    {
     "data": {
      "application/vnd.plotly.v1+json": {
       "data": [
        {
         "cells": {
          "align": [
           "left",
           "center"
          ],
          "fill": {
           "color": "#F5F8FF"
          },
          "values": [
           [
            "ADEBORA",
            "ADEBORA",
            "ADEBORA",
            "ADEBORA",
            "ADEBORA",
            "ALESON",
            "ALESON",
            "ALESON",
            "ALESON",
            "ALESON",
            "ANISIANE",
            "ANISIANE",
            "ANISIANE",
            "ANISIANE",
            "ANISIANE",
            "ARCEMIRO",
            "ARCEMIRO",
            "ARCEMIRO",
            "ARCEMIRO",
            "ARCEMIRO",
            "BRAIER",
            "BRAIER",
            "BRAIER",
            "BRAIER",
            "BRAIER",
            "DELMITA",
            "DELMITA",
            "DELMITA",
            "DELMITA",
            "DELMITA"
           ],
           [
            "Play 0s",
            "Pause 29s",
            "Play 29s",
            "Seek from 45s to 34s",
            "Pause 82s",
            "Play 0s",
            "Seek from 86s to 53s",
            "Seek from 81s to 50s",
            "Seek from 96s to 101s",
            "Pause 107s",
            "Play 0s",
            "Pause 20s",
            "Play 20s",
            "Seek from 56s to 47s",
            "Pause 91s",
            "Play 0s",
            "Pause 36s",
            "Play 36s",
            "Pause 66s",
            "Play 66s",
            "Play 0s",
            "Pause 4s",
            "Play 4s",
            "Seek from 62s to 24s",
            "Seek from 64s to 28s",
            "Play 0s",
            "Pause 67s",
            "Seek from 93s to 60s",
            "Seek from 68s to 104s",
            "Seek from 109s to 109s"
           ]
          ]
         },
         "header": {
          "align": "center",
          "fill": {
           "color": "#C2D4FF"
          },
          "values": [
           "Students",
           "Action"
          ]
         },
         "type": "table",
         "uid": "855c0286-0af2-11e9-a8a3-9cf387cc124e"
        }
       ],
       "layout": {}
      },
      "text/html": [
       "<div id=\"62b79d39-8468-40d4-8e54-dd9c122ffb32\" style=\"height: 525px; width: 100%;\" class=\"plotly-graph-div\"></div><script type=\"text/javascript\">require([\"plotly\"], function(Plotly) { window.PLOTLYENV=window.PLOTLYENV || {};window.PLOTLYENV.BASE_URL=\"https://plot.ly\";Plotly.newPlot(\"62b79d39-8468-40d4-8e54-dd9c122ffb32\", [{\"cells\": {\"align\": [\"left\", \"center\"], \"fill\": {\"color\": \"#F5F8FF\"}, \"values\": [[\"ADEBORA\", \"ADEBORA\", \"ADEBORA\", \"ADEBORA\", \"ADEBORA\", \"ALESON\", \"ALESON\", \"ALESON\", \"ALESON\", \"ALESON\", \"ANISIANE\", \"ANISIANE\", \"ANISIANE\", \"ANISIANE\", \"ANISIANE\", \"ARCEMIRO\", \"ARCEMIRO\", \"ARCEMIRO\", \"ARCEMIRO\", \"ARCEMIRO\", \"BRAIER\", \"BRAIER\", \"BRAIER\", \"BRAIER\", \"BRAIER\", \"DELMITA\", \"DELMITA\", \"DELMITA\", \"DELMITA\", \"DELMITA\"], [\"Play 0s\", \"Pause 29s\", \"Play 29s\", \"Seek from 45s to 34s\", \"Pause 82s\", \"Play 0s\", \"Seek from 86s to 53s\", \"Seek from 81s to 50s\", \"Seek from 96s to 101s\", \"Pause 107s\", \"Play 0s\", \"Pause 20s\", \"Play 20s\", \"Seek from 56s to 47s\", \"Pause 91s\", \"Play 0s\", \"Pause 36s\", \"Play 36s\", \"Pause 66s\", \"Play 66s\", \"Play 0s\", \"Pause 4s\", \"Play 4s\", \"Seek from 62s to 24s\", \"Seek from 64s to 28s\", \"Play 0s\", \"Pause 67s\", \"Seek from 93s to 60s\", \"Seek from 68s to 104s\", \"Seek from 109s to 109s\"]]}, \"header\": {\"align\": \"center\", \"fill\": {\"color\": \"#C2D4FF\"}, \"values\": [\"Students\", \"Action\"]}, \"type\": \"table\", \"uid\": \"85664e4c-0af2-11e9-b6a5-9cf387cc124e\"}], {}, {\"showLink\": true, \"linkText\": \"Export to plot.ly\"})});</script>"
      ],
      "text/vnd.plotly.v1+html": [
       "<div id=\"62b79d39-8468-40d4-8e54-dd9c122ffb32\" style=\"height: 525px; width: 100%;\" class=\"plotly-graph-div\"></div><script type=\"text/javascript\">require([\"plotly\"], function(Plotly) { window.PLOTLYENV=window.PLOTLYENV || {};window.PLOTLYENV.BASE_URL=\"https://plot.ly\";Plotly.newPlot(\"62b79d39-8468-40d4-8e54-dd9c122ffb32\", [{\"cells\": {\"align\": [\"left\", \"center\"], \"fill\": {\"color\": \"#F5F8FF\"}, \"values\": [[\"ADEBORA\", \"ADEBORA\", \"ADEBORA\", \"ADEBORA\", \"ADEBORA\", \"ALESON\", \"ALESON\", \"ALESON\", \"ALESON\", \"ALESON\", \"ANISIANE\", \"ANISIANE\", \"ANISIANE\", \"ANISIANE\", \"ANISIANE\", \"ARCEMIRO\", \"ARCEMIRO\", \"ARCEMIRO\", \"ARCEMIRO\", \"ARCEMIRO\", \"BRAIER\", \"BRAIER\", \"BRAIER\", \"BRAIER\", \"BRAIER\", \"DELMITA\", \"DELMITA\", \"DELMITA\", \"DELMITA\", \"DELMITA\"], [\"Play 0s\", \"Pause 29s\", \"Play 29s\", \"Seek from 45s to 34s\", \"Pause 82s\", \"Play 0s\", \"Seek from 86s to 53s\", \"Seek from 81s to 50s\", \"Seek from 96s to 101s\", \"Pause 107s\", \"Play 0s\", \"Pause 20s\", \"Play 20s\", \"Seek from 56s to 47s\", \"Pause 91s\", \"Play 0s\", \"Pause 36s\", \"Play 36s\", \"Pause 66s\", \"Play 66s\", \"Play 0s\", \"Pause 4s\", \"Play 4s\", \"Seek from 62s to 24s\", \"Seek from 64s to 28s\", \"Play 0s\", \"Pause 67s\", \"Seek from 93s to 60s\", \"Seek from 68s to 104s\", \"Seek from 109s to 109s\"]]}, \"header\": {\"align\": \"center\", \"fill\": {\"color\": \"#C2D4FF\"}, \"values\": [\"Students\", \"Action\"]}, \"type\": \"table\", \"uid\": \"85664e4c-0af2-11e9-b6a5-9cf387cc124e\"}], {}, {\"showLink\": true, \"linkText\": \"Export to plot.ly\"})});</script>"
      ]
     },
     "metadata": {},
     "output_type": "display_data"
    }
   ],
   "source": [
    "instance = V009()\n",
    "instance.generate_dataset(number_actions = 50, video_size=60)\n",
    "# instance.print_all_graphs(\"pt\")\n",
    "instance.print_all_graphs(\"en\")"
   ]
  },
  {
   "cell_type": "markdown",
   "metadata": {},
   "source": [
    "### View 010 - Vídeos que os estudantes entenderam e não entenderam"
   ]
  },
  {
   "cell_type": "code",
   "execution_count": null,
   "metadata": {
    "scrolled": true
   },
   "outputs": [],
   "source": [
    "run V010.py"
   ]
  },
  {
   "cell_type": "code",
   "execution_count": null,
   "metadata": {
    "scrolled": false
   },
   "outputs": [],
   "source": [
    "instance = V010()\n",
    "instance.generate_dataset(number_students=35, number_video=10)\n",
    "# instance.print_all_graphs(\"pt\")\n",
    "instance.print_all_graphs(\"en\")"
   ]
  },
  {
   "cell_type": "markdown",
   "metadata": {},
   "source": [
    "### View 011 - Padrão de navegação dos estudantes no AVA"
   ]
  },
  {
   "cell_type": "code",
   "execution_count": null,
   "metadata": {},
   "outputs": [],
   "source": [
    "run V011.py"
   ]
  },
  {
   "cell_type": "code",
   "execution_count": null,
   "metadata": {},
   "outputs": [],
   "source": []
  },
  {
   "cell_type": "code",
   "execution_count": null,
   "metadata": {},
   "outputs": [],
   "source": []
  }
 ],
 "metadata": {
  "kernelspec": {
   "display_name": "Python 3",
   "language": "python",
   "name": "python3"
  },
  "language_info": {
   "codemirror_mode": {
    "name": "ipython",
    "version": 3
   },
   "file_extension": ".py",
   "mimetype": "text/x-python",
   "name": "python",
   "nbconvert_exporter": "python",
   "pygments_lexer": "ipython3",
   "version": "3.6.4"
  }
 },
 "nbformat": 4,
 "nbformat_minor": 2
}
